{
 "cells": [
  {
   "cell_type": "markdown",
   "id": "1025dedb-9729-4133-ba44-27e16b3f6d58",
   "metadata": {
    "papermill": {
     "duration": 0.036724,
     "end_time": "2024-01-28T15:13:44.844271",
     "exception": false,
     "start_time": "2024-01-28T15:13:44.807547",
     "status": "completed"
    },
    "tags": []
   },
   "source": [
    "# 75ML30D\n",
    "![84%](https://progress-bar.dev/84?title=progress&width=100)\n",
    "\n",
    "#### Description:\n",
    "- Solving 75 Medium Leetcode problems in 30 days.<br>\n",
    "- Languange of choice: `Python`<br>\n",
    "\n",
    "#### Timelines:\n",
    "- Start Date: 9th Jan 2024\n",
    "- Challenge End Date: 8th Feb 2024"
   ]
  },
  {
   "cell_type": "code",
   "execution_count": 1,
   "id": "ac0f706d-4efe-48c5-9a18-673f17b03559",
   "metadata": {
    "execution": {
     "iopub.execute_input": "2024-01-28T15:13:44.895585Z",
     "iopub.status.busy": "2024-01-28T15:13:44.893433Z",
     "iopub.status.idle": "2024-01-28T15:13:45.490491Z",
     "shell.execute_reply": "2024-01-28T15:13:45.488752Z"
    },
    "papermill": {
     "duration": 0.626737,
     "end_time": "2024-01-28T15:13:45.496003",
     "exception": false,
     "start_time": "2024-01-28T15:13:44.869266",
     "status": "completed"
    },
    "tags": []
   },
   "outputs": [],
   "source": [
    "from typing import List\n",
    "import pandas as pd\n",
    "import numpy as np\n",
    "import sqlite3\n",
    "import re\n",
    "import io\n",
    "import math\n",
    "import collections\n",
    "import itertools\n",
    "import functools\n",
    "import random\n",
    "import string\n",
    "import tqdm\n",
    "import bisect\n",
    "\n",
    "conn = sqlite3.connect(\":memory:\")\n",
    "\n",
    "def regexp(expr, item):\n",
    "    reg = re.compile(expr)\n",
    "    return reg.search(item) is not None\n",
    "\n",
    "def read_lc_df(s: str) -> pd.DataFrame:\n",
    "    temp = pd.read_csv(io.StringIO(s), sep=\"|\", skiprows=2)\n",
    "    temp = temp.iloc[1:-1, 1:-1]\n",
    "    temp.columns = temp.columns.map(str.strip)\n",
    "    temp = temp.map(lambda x: x if type(x) != str else None if x.strip() == 'null' else x.strip())\n",
    "    return temp\n",
    "    \n",
    "conn.create_function(\"REGEXP\", 2, regexp)"
   ]
  },
  {
   "cell_type": "markdown",
   "id": "ee524147-766d-4db7-9aff-da65d1a125f5",
   "metadata": {
    "papermill": {
     "duration": 0.096166,
     "end_time": "2024-01-28T15:13:45.622108",
     "exception": false,
     "start_time": "2024-01-28T15:13:45.525942",
     "status": "completed"
    },
    "tags": []
   },
   "source": [
    "#### Helper for Binary tree problems"
   ]
  },
  {
   "cell_type": "code",
   "execution_count": 2,
   "id": "bc81f97b-9163-4aa7-bf70-4030e78541a9",
   "metadata": {
    "execution": {
     "iopub.execute_input": "2024-01-28T15:13:45.673708Z",
     "iopub.status.busy": "2024-01-28T15:13:45.671953Z",
     "iopub.status.idle": "2024-01-28T15:13:45.695892Z",
     "shell.execute_reply": "2024-01-28T15:13:45.693762Z"
    },
    "papermill": {
     "duration": 0.05262,
     "end_time": "2024-01-28T15:13:45.698923",
     "exception": false,
     "start_time": "2024-01-28T15:13:45.646303",
     "status": "completed"
    },
    "tags": []
   },
   "outputs": [
    {
     "data": {
      "text/plain": [
       "[1, 2, 3, 4, 5, 6, None, None, None, 7, 8, None, None, None, None, None, None]"
      ]
     },
     "execution_count": 2,
     "metadata": {},
     "output_type": "execute_result"
    }
   ],
   "source": [
    "class BinaryTreeNode:\n",
    "    def __init__(self, val=0, left=None, right=None):\n",
    "        self.val = val\n",
    "        self.left = left\n",
    "        self.right = right\n",
    "\n",
    "    def to_list(self):\n",
    "        to_visit = [self]\n",
    "        visited = []\n",
    "        while len(to_visit) > 0:\n",
    "            curr = to_visit.pop(0)\n",
    "            if curr:\n",
    "                to_visit.append(curr.left)\n",
    "                to_visit.append(curr.right)\n",
    "                visited.append(curr.val)\n",
    "            else:\n",
    "                visited.append(curr)\n",
    "        return visited\n",
    "\n",
    "    def __str__(self):\n",
    "        return str(self.val)\n",
    "\n",
    "    def from_array(nums: List[int]):\n",
    "        '''Create a Tree from a list of nums. Returns the root node.'''\n",
    "        if len(nums) == 0:\n",
    "            return None\n",
    "        elif len(nums) == 1:\n",
    "            return BinaryTreeNode(nums[0])\n",
    "        else:\n",
    "            forest = [BinaryTreeNode(nums[0])]\n",
    "            parent_idx = -1\n",
    "            for i in range(1, len(nums)):\n",
    "\n",
    "                curr = None\n",
    "                if nums[i] is not None:\n",
    "                    curr = BinaryTreeNode(nums[i])\n",
    "                    forest.append(curr)\n",
    "                \n",
    "                if i % 2 == 1:\n",
    "                    parent_idx += 1\n",
    "                    forest[parent_idx].left = curr\n",
    "                else:\n",
    "                    forest[parent_idx].right = curr\n",
    "\n",
    "        return forest[0]\n",
    "\n",
    "temp = BinaryTreeNode.from_array([1,2,3,4,5,6,None,None,None,7,8])\n",
    "temp.to_list()"
   ]
  },
  {
   "cell_type": "markdown",
   "id": "050dce4a-e724-4787-b5d3-96b0057e0680",
   "metadata": {
    "papermill": {
     "duration": 0.022578,
     "end_time": "2024-01-28T15:13:45.743684",
     "exception": false,
     "start_time": "2024-01-28T15:13:45.721106",
     "status": "completed"
    },
    "tags": []
   },
   "source": [
    "#### Helper for Singly Linked lists"
   ]
  },
  {
   "cell_type": "code",
   "execution_count": 3,
   "id": "dd983b16-b389-4aca-abbd-321b4bda6a80",
   "metadata": {
    "execution": {
     "iopub.execute_input": "2024-01-28T15:13:45.795196Z",
     "iopub.status.busy": "2024-01-28T15:13:45.794087Z",
     "iopub.status.idle": "2024-01-28T15:13:45.805712Z",
     "shell.execute_reply": "2024-01-28T15:13:45.803415Z"
    },
    "papermill": {
     "duration": 0.040771,
     "end_time": "2024-01-28T15:13:45.809352",
     "exception": false,
     "start_time": "2024-01-28T15:13:45.768581",
     "status": "completed"
    },
    "tags": []
   },
   "outputs": [],
   "source": [
    "class ListNode:\n",
    "    def __init__(self, val=0, next=None):\n",
    "        self.val = val\n",
    "        self.next = next\n",
    "\n",
    "    def __str__(self):\n",
    "        return str(self.val)\n",
    "\n",
    "    def to_singly_linked_list(nums: list[int]):\n",
    "        root = prev = None\n",
    "        for n in nums:\n",
    "            curr = ListNode(n)\n",
    "            # Init once\n",
    "            if not root:\n",
    "                root = curr\n",
    "            if prev:\n",
    "                prev.next = curr\n",
    "            prev = curr\n",
    "            \n",
    "        return root\n",
    "\n",
    "    def to_list(self) -> list[int]:\n",
    "        result = []\n",
    "        curr = self\n",
    "        while curr:\n",
    "            result.append(curr.val)\n",
    "            curr = curr.next\n",
    "        return result"
   ]
  },
  {
   "cell_type": "markdown",
   "id": "dfdb20f8-cb04-4ced-8ba0-ba5415ca1afa",
   "metadata": {
    "papermill": {
     "duration": 0.094034,
     "end_time": "2024-01-28T15:13:45.950746",
     "exception": false,
     "start_time": "2024-01-28T15:13:45.856712",
     "status": "completed"
    },
    "tags": []
   },
   "source": [
    "# 1. \n",
    "Date: 09th Jan 2024<br>\n",
    "Medium Leetcode: minimum-path-sum<br>\n",
    "Solution: https://leetcode.com/problems/minimum-path-sum/submissions/1141069624"
   ]
  },
  {
   "cell_type": "code",
   "execution_count": 4,
   "id": "dd43014e-8a00-4630-a67f-4f8e4567de77",
   "metadata": {
    "execution": {
     "iopub.execute_input": "2024-01-28T15:13:46.000656Z",
     "iopub.status.busy": "2024-01-28T15:13:45.999797Z",
     "iopub.status.idle": "2024-01-28T15:13:46.010948Z",
     "shell.execute_reply": "2024-01-28T15:13:46.009228Z"
    },
    "papermill": {
     "duration": 0.03859,
     "end_time": "2024-01-28T15:13:46.014390",
     "exception": false,
     "start_time": "2024-01-28T15:13:45.975800",
     "status": "completed"
    },
    "tags": []
   },
   "outputs": [],
   "source": [
    "class Solution:\n",
    "    def minPathSum(self, grid: List[List[int]]) -> int:\n",
    "        # Compute once\n",
    "        height = len(grid)\n",
    "        width = len(grid[0])\n",
    "\n",
    "        # Start at the bottom right\n",
    "        x, y = height - 1, width - 1\n",
    "\n",
    "        while x >= 0:\n",
    "            while y >= 0:\n",
    "                \n",
    "                add = min(\n",
    "                    grid[x][y + 1] if y + 1 < width else math.inf,\n",
    "                    grid[x + 1][y] if x + 1 < height else math.inf\n",
    "                )\n",
    "                \n",
    "                if add != math.inf:\n",
    "                    grid[x][y] += add\n",
    "                    \n",
    "                # Decrement y (go left)\n",
    "                y -= 1\n",
    "\n",
    "            # Decrement x (go up)\n",
    "            x -= 1\n",
    "\n",
    "            # Reset y\n",
    "            y = width - 1\n",
    "\n",
    "        return grid[0][0]\n",
    "\n",
    "# Test the solution\n",
    "assert Solution().minPathSum([[1,3,1],[1,5,1],[4,2,1]]) == 7\n",
    "assert Solution().minPathSum([[1,2,3],[4,5,6]]) == 12"
   ]
  },
  {
   "cell_type": "markdown",
   "id": "85611f92-d7ce-41f8-a108-6ff99acfb477",
   "metadata": {
    "papermill": {
     "duration": 0.021006,
     "end_time": "2024-01-28T15:13:46.055685",
     "exception": false,
     "start_time": "2024-01-28T15:13:46.034679",
     "status": "completed"
    },
    "tags": []
   },
   "source": [
    "# 2. \n",
    "Date: 10th Jan 2024<br>\n",
    "Medium Leetcode: amount-of-time-for-binary-tree-to-be-infected<br>\n",
    "Solution: https://leetcode.com/problems/amount-of-time-for-binary-tree-to-be-infected/submissions/1141991104"
   ]
  },
  {
   "cell_type": "code",
   "execution_count": 5,
   "id": "14d348ef-b781-4e1d-9fd3-ad7f1ae44ca9",
   "metadata": {
    "execution": {
     "iopub.execute_input": "2024-01-28T15:13:46.100493Z",
     "iopub.status.busy": "2024-01-28T15:13:46.099195Z",
     "iopub.status.idle": "2024-01-28T15:13:46.111888Z",
     "shell.execute_reply": "2024-01-28T15:13:46.110214Z"
    },
    "papermill": {
     "duration": 0.038121,
     "end_time": "2024-01-28T15:13:46.114279",
     "exception": false,
     "start_time": "2024-01-28T15:13:46.076158",
     "status": "completed"
    },
    "tags": []
   },
   "outputs": [],
   "source": [
    "class Solution:\n",
    "    def amountOfTime(self, root: BinaryTreeNode, start: int) -> int:\n",
    "        matrix = dict()\n",
    "        def getAdjacencyMatrix(curr, parent=None):\n",
    "            if curr:\n",
    "                vertices = matrix.get(curr, [])\n",
    "\n",
    "                if parent:\n",
    "                    vertices.append(parent.val)\n",
    "                if curr.right:\n",
    "                    vertices.append(curr.right.val)\n",
    "                if curr.left:\n",
    "                    vertices.append(curr.left.val)\n",
    "\n",
    "                matrix[curr.val] = vertices\n",
    "    \n",
    "                # Recurse\n",
    "                getAdjacencyMatrix(curr.left, curr)\n",
    "                getAdjacencyMatrix(curr.right, curr)\n",
    "            \n",
    "\n",
    "        getAdjacencyMatrix(root)\n",
    "\n",
    "        # Do a BFS until all nodes are exhausted\n",
    "        minute = 0\n",
    "        infected = set({start})\n",
    "        neighbours = matrix[start]\n",
    "\n",
    "        while neighbours:\n",
    "            next_neighbours = []\n",
    "            for node in neighbours:\n",
    "                if node not in infected:\n",
    "                    infected.add(node)\n",
    "                    next_neighbours.extend(list(filter(lambda x: x not in infected, matrix[node])))\n",
    "\n",
    "            neighbours = next_neighbours\n",
    "            minute += 1\n",
    "                \n",
    "        return minute\n",
    "        \n",
    "# Test the solution\n",
    "assert Solution().amountOfTime(BinaryTreeNode.from_array([1,5,3,None,4,10,6,9,2]), 3) == 4\n",
    "assert Solution().amountOfTime(BinaryTreeNode.from_array([1]), 1) == 0"
   ]
  },
  {
   "cell_type": "markdown",
   "id": "b91b68be-6fc9-4ff5-b318-09ffc16fecbf",
   "metadata": {
    "papermill": {
     "duration": 0.020306,
     "end_time": "2024-01-28T15:13:46.156372",
     "exception": false,
     "start_time": "2024-01-28T15:13:46.136066",
     "status": "completed"
    },
    "tags": []
   },
   "source": [
    "# 3. \n",
    "Date: 10th Jan 2024<br>\n",
    "Medium Leetcode: dota2-senate<br>\n",
    "Solution: https://leetcode.com/problems/dota2-senate/submissions/1142503920/"
   ]
  },
  {
   "cell_type": "code",
   "execution_count": 6,
   "id": "e8d8396b-ab57-40b1-96cd-a3a28fb4405b",
   "metadata": {
    "execution": {
     "iopub.execute_input": "2024-01-28T15:13:46.201019Z",
     "iopub.status.busy": "2024-01-28T15:13:46.200207Z",
     "iopub.status.idle": "2024-01-28T15:13:46.210031Z",
     "shell.execute_reply": "2024-01-28T15:13:46.208201Z"
    },
    "papermill": {
     "duration": 0.036098,
     "end_time": "2024-01-28T15:13:46.212739",
     "exception": false,
     "start_time": "2024-01-28T15:13:46.176641",
     "status": "completed"
    },
    "tags": []
   },
   "outputs": [],
   "source": [
    "class Solution:\n",
    "    def predictPartyVictory(self, senate: str) -> str:\n",
    "\n",
    "        while senate:\n",
    "\n",
    "            result = []\n",
    "            count = 0\n",
    "            for ch in senate:\n",
    "                if count == 0:\n",
    "                    result.append(ch)\n",
    "                    count = 1\n",
    "                elif ch != result[-1]:\n",
    "                    count -= 1\n",
    "                else:\n",
    "                    result.append(ch)\n",
    "                    count += 1\n",
    "            \n",
    "            new_result = []\n",
    "            for ch in result:\n",
    "                if count > 0 and ch != result[-1]:\n",
    "                    count -= 1\n",
    "                else:\n",
    "                    new_result.append(ch)\n",
    "    \n",
    "            senate = \"\".join(new_result)\n",
    "\n",
    "            if count == len(senate):\n",
    "                return \"Radiant\" if senate[0] == \"R\" else \"Dire\"\n",
    "\n",
    "# Test the solution\n",
    "assert Solution().predictPartyVictory(\"RDRDDDRDDRDRDDRRRRRD\") == \"Dire\"\n",
    "assert Solution().predictPartyVictory(\"RDRDDRD\") == \"Dire\"\n",
    "assert Solution().predictPartyVictory(\"RRDDD\") == \"Radiant\""
   ]
  },
  {
   "cell_type": "markdown",
   "id": "cc04e1bf-561f-4d1b-bf60-d56c1609037a",
   "metadata": {
    "papermill": {
     "duration": 0.020887,
     "end_time": "2024-01-28T15:13:46.258307",
     "exception": false,
     "start_time": "2024-01-28T15:13:46.237420",
     "status": "completed"
    },
    "tags": []
   },
   "source": [
    "# 4. \n",
    "Date: 11th Jan 2024<br>\n",
    "Medium Leetcode: populating-next-right-pointers-in-each-node<br>\n",
    "Solution: https://leetcode.com/problems/populating-next-right-pointers-in-each-node/submissions/1142856094/"
   ]
  },
  {
   "cell_type": "code",
   "execution_count": 7,
   "id": "5e623cc8-b625-4c41-8b81-df766c40de79",
   "metadata": {
    "execution": {
     "iopub.execute_input": "2024-01-28T15:13:46.303168Z",
     "iopub.status.busy": "2024-01-28T15:13:46.302797Z",
     "iopub.status.idle": "2024-01-28T15:13:46.310916Z",
     "shell.execute_reply": "2024-01-28T15:13:46.308870Z"
    },
    "papermill": {
     "duration": 0.033676,
     "end_time": "2024-01-28T15:13:46.314898",
     "exception": false,
     "start_time": "2024-01-28T15:13:46.281222",
     "status": "completed"
    },
    "tags": []
   },
   "outputs": [],
   "source": [
    "class Solution:\n",
    "    def connect(self, root):\n",
    "        'This takes O(log(n)) space and O(1) complexity, q asked for O(1) space' \n",
    "\n",
    "        def backtrack(curr: Node, level: int = 0, right_most: dict = {}):\n",
    "            if not curr:\n",
    "                return \n",
    "\n",
    "            if level in right_most:\n",
    "                right_most[level].next = curr\n",
    "\n",
    "            right_most[level] = curr\n",
    "            backtrack(curr.left, level + 1, right_most)\n",
    "            backtrack(curr.right, level + 1, right_most)\n",
    "\n",
    "        backtrack(root)\n",
    "        return root"
   ]
  },
  {
   "cell_type": "markdown",
   "id": "16f48c33-0f4d-42f7-914b-82e471d40d27",
   "metadata": {
    "papermill": {
     "duration": 0.023054,
     "end_time": "2024-01-28T15:13:46.372767",
     "exception": false,
     "start_time": "2024-01-28T15:13:46.349713",
     "status": "completed"
    },
    "tags": []
   },
   "source": [
    "# 5. \n",
    "Date: 11th Jan 2024<br>\n",
    "Medium Leetcode: maximum-difference-between-node-and-ancestor<br>\n",
    "Solution: https://leetcode.com/problems/maximum-difference-between-node-and-ancestor/submissions/1142882452"
   ]
  },
  {
   "cell_type": "code",
   "execution_count": 8,
   "id": "d8253cf2-2f02-4552-b1f5-28e02446466f",
   "metadata": {
    "execution": {
     "iopub.execute_input": "2024-01-28T15:13:46.416022Z",
     "iopub.status.busy": "2024-01-28T15:13:46.415380Z",
     "iopub.status.idle": "2024-01-28T15:13:46.427097Z",
     "shell.execute_reply": "2024-01-28T15:13:46.425378Z"
    },
    "papermill": {
     "duration": 0.036699,
     "end_time": "2024-01-28T15:13:46.429387",
     "exception": false,
     "start_time": "2024-01-28T15:13:46.392688",
     "status": "completed"
    },
    "tags": []
   },
   "outputs": [],
   "source": [
    "class Solution:\n",
    "    def maxAncestorDiff(self, root: BinaryTreeNode) -> int:\n",
    "        \n",
    "        def backtrack(curr):\n",
    "            \n",
    "            if not curr:\n",
    "                return None, None, None\n",
    "\n",
    "            lmin, lmax, ldiff = backtrack(curr.left) \n",
    "            rmin, rmax, rdiff = backtrack(curr.right)\n",
    "            currMin = currMax = curr.val\n",
    "            maxDiff = -math.inf\n",
    "\n",
    "            if curr.left:\n",
    "                currMin = min(currMin, lmin)\n",
    "                currMax = max(currMax, lmax)\n",
    "                maxDiff = max(\n",
    "                    maxDiff,\n",
    "                    abs(curr.val - lmin),\n",
    "                    abs(curr.val - lmax),\n",
    "                    ldiff\n",
    "                )\n",
    "\n",
    "            if curr.right:\n",
    "                currMin = min(currMin, rmin)\n",
    "                currMax = max(currMax, rmax)\n",
    "                maxDiff = max(\n",
    "                    maxDiff,\n",
    "                    abs(curr.val - rmin),\n",
    "                    abs(curr.val - rmax),\n",
    "                    rdiff\n",
    "                )\n",
    "\n",
    "            return currMin, currMax, maxDiff\n",
    "\n",
    "        return backtrack(root)[2]\n",
    "\n",
    "# Test ths solution\n",
    "assert Solution().maxAncestorDiff(BinaryTreeNode.from_array([8,3,10,1,6,None,14,None,None,4,7,13])) == 7\n",
    "assert Solution().maxAncestorDiff(BinaryTreeNode.from_array([8,3,10,1,6,None,14,None,None,50,7,13])) == 47\n",
    "assert Solution().maxAncestorDiff(BinaryTreeNode.from_array([1,None,2,None,0,3])) == 3"
   ]
  },
  {
   "cell_type": "markdown",
   "id": "110efe35-0982-4f0e-8af5-8512b0352d68",
   "metadata": {
    "papermill": {
     "duration": 0.01932,
     "end_time": "2024-01-28T15:13:46.468374",
     "exception": false,
     "start_time": "2024-01-28T15:13:46.449054",
     "status": "completed"
    },
    "tags": []
   },
   "source": [
    "# 6. \n",
    "Date: 11th Jan 2024<br>\n",
    "Medium Leetcode: delete-the-middle-node-of-a-linked-list<br>\n",
    "Solution: https://leetcode.com/problems/delete-the-middle-node-of-a-linked-list/submissions/1142953098"
   ]
  },
  {
   "cell_type": "code",
   "execution_count": 9,
   "id": "c942014a-1091-436b-b5df-1bcc894052ed",
   "metadata": {
    "execution": {
     "iopub.execute_input": "2024-01-28T15:13:46.514843Z",
     "iopub.status.busy": "2024-01-28T15:13:46.513729Z",
     "iopub.status.idle": "2024-01-28T15:13:46.530250Z",
     "shell.execute_reply": "2024-01-28T15:13:46.527892Z"
    },
    "papermill": {
     "duration": 0.046362,
     "end_time": "2024-01-28T15:13:46.534522",
     "exception": false,
     "start_time": "2024-01-28T15:13:46.488160",
     "status": "completed"
    },
    "tags": []
   },
   "outputs": [],
   "source": [
    "class Solution:\n",
    "    def deleteMiddle(self, head: ListNode) -> ListNode:\n",
    "        'Better approach after seeing the solution is to use the fast pointer / slow pointer approach'\n",
    "        n, curr = 0, head  \n",
    "        while curr:\n",
    "            curr = curr.next\n",
    "            n += 1\n",
    "\n",
    "        mid = n // 2\n",
    "\n",
    "        if mid == 0:\n",
    "            return None\n",
    "\n",
    "        prev, curr = None, head\n",
    "        while mid > 0:\n",
    "            prev, curr = curr, curr.next\n",
    "            mid -= 1\n",
    "\n",
    "        prev.next = curr.next\n",
    "        curr.next = None\n",
    "        return head\n",
    "\n",
    "# Test the solution\n",
    "assert Solution().deleteMiddle(ListNode.to_singly_linked_list([1])) is None\n",
    "assert Solution().deleteMiddle(ListNode.to_singly_linked_list([1, 2])).to_list() == [1]\n",
    "assert Solution().deleteMiddle(ListNode.to_singly_linked_list([1, 2, 3])).to_list() == [1, 3]\n",
    "assert Solution().deleteMiddle(ListNode.to_singly_linked_list([1, 2, 3, 4])).to_list() == [1, 2, 4]"
   ]
  },
  {
   "cell_type": "markdown",
   "id": "d4a21654-0a35-4e54-bd4e-501c8ebb23aa",
   "metadata": {
    "papermill": {
     "duration": 0.020611,
     "end_time": "2024-01-28T15:13:46.587997",
     "exception": false,
     "start_time": "2024-01-28T15:13:46.567386",
     "status": "completed"
    },
    "tags": []
   },
   "source": [
    "# 7. \n",
    "Date: 12th Jan 2024<br>\n",
    "Medium Leetcode: find-minimum-in-rotated-sorted-array<br>\n",
    "Solution: https://leetcode.com/problems/find-minimum-in-rotated-sorted-array/submissions/1144294358/"
   ]
  },
  {
   "cell_type": "code",
   "execution_count": 10,
   "id": "a14acbbf-f095-4da8-8826-6c01f052715d",
   "metadata": {
    "execution": {
     "iopub.execute_input": "2024-01-28T15:13:46.632667Z",
     "iopub.status.busy": "2024-01-28T15:13:46.631885Z",
     "iopub.status.idle": "2024-01-28T15:13:46.641573Z",
     "shell.execute_reply": "2024-01-28T15:13:46.640226Z"
    },
    "papermill": {
     "duration": 0.035459,
     "end_time": "2024-01-28T15:13:46.643673",
     "exception": false,
     "start_time": "2024-01-28T15:13:46.608214",
     "status": "completed"
    },
    "tags": []
   },
   "outputs": [],
   "source": [
    "class Solution:\n",
    "    def findMin(self, nums: List[int]) -> int:\n",
    "        \"\"\"\n",
    "        Objective is to find i such that nums[i] < nums[i - 1]\n",
    "        \"\"\"\n",
    "\n",
    "        # O(1) time complexity\n",
    "        n = len(nums)\n",
    "\n",
    "        # Edge case - 1\n",
    "        if n == 1:\n",
    "            return nums[0]\n",
    "\n",
    "        # Edge case - 2\n",
    "        elif nums[0] < nums[-1]:\n",
    "            return nums[0]\n",
    "        \n",
    "        else:\n",
    "            start, end = 1, n - 1\n",
    "            while start <= end:\n",
    "                mid = (start + end) // 2\n",
    "\n",
    "                if nums[mid] < nums[mid - 1]:\n",
    "                    return nums[mid]\n",
    "                \n",
    "                elif nums[mid] > nums[0]:\n",
    "                    start = mid + 1\n",
    "                \n",
    "                else:\n",
    "                    end = mid - 1\n",
    "            return -1\n",
    "\n",
    "# Test the solution\n",
    "assert Solution().findMin([4,5,6,7,0,1,2]) == 0\n",
    "assert Solution().findMin([11,13,15,17]) == 11\n",
    "assert Solution().findMin([2,3,5,6,7,1]) == 1\n",
    "assert Solution().findMin([2,3,5,6,7,8,1]) == 1\n",
    "assert Solution().findMin([6,7,8,1,2,3,4,5]) == 1"
   ]
  },
  {
   "cell_type": "markdown",
   "id": "df1a8479-2991-41c3-8d65-5a5533523e26",
   "metadata": {
    "papermill": {
     "duration": 0.019112,
     "end_time": "2024-01-28T15:13:46.682356",
     "exception": false,
     "start_time": "2024-01-28T15:13:46.663244",
     "status": "completed"
    },
    "tags": []
   },
   "source": [
    "# 8. \n",
    "Date: 12th Jan 2024<br>\n",
    "Medium Leetcode: count-and-say<br>\n",
    "Solution: https://leetcode.com/problems/count-and-say/submissions/1144310034/"
   ]
  },
  {
   "cell_type": "code",
   "execution_count": 11,
   "id": "a005090c-c055-4f86-9958-5b18b6ebd019",
   "metadata": {
    "execution": {
     "iopub.execute_input": "2024-01-28T15:13:46.723997Z",
     "iopub.status.busy": "2024-01-28T15:13:46.723233Z",
     "iopub.status.idle": "2024-01-28T15:13:46.731920Z",
     "shell.execute_reply": "2024-01-28T15:13:46.730418Z"
    },
    "papermill": {
     "duration": 0.031957,
     "end_time": "2024-01-28T15:13:46.734061",
     "exception": false,
     "start_time": "2024-01-28T15:13:46.702104",
     "status": "completed"
    },
    "tags": []
   },
   "outputs": [],
   "source": [
    "class Solution:\n",
    "    def countAndSay(self, n: int) -> str:\n",
    "        def say(s: str):\n",
    "            prev = None\n",
    "            count = 0\n",
    "            result = []\n",
    "            for ch in s + \" \":\n",
    "                if prev != ch:\n",
    "                    if prev:\n",
    "                        result.append(f\"{count}{prev}\")\n",
    "                    prev, count = ch, 1\n",
    "                else:\n",
    "                    count += 1\n",
    "                    \n",
    "            return \"\".join(result)\n",
    "\n",
    "        curr = \"1\" \n",
    "        while n > 1:\n",
    "            curr = say(curr)\n",
    "            n -= 1\n",
    "\n",
    "        return curr\n",
    "\n",
    "# Test the solution\n",
    "assert Solution().countAndSay(10) == \"13211311123113112211\"\n",
    "assert Solution().countAndSay(4) == \"1211\""
   ]
  },
  {
   "cell_type": "markdown",
   "id": "0ba2d5a4-1fff-476b-be53-038e1d827d7e",
   "metadata": {
    "papermill": {
     "duration": 0.019985,
     "end_time": "2024-01-28T15:13:46.774699",
     "exception": false,
     "start_time": "2024-01-28T15:13:46.754714",
     "status": "completed"
    },
    "tags": []
   },
   "source": [
    "# 9. \n",
    "Date: 13th Jan 2024<br>\n",
    "Medium Leetcode: minimum-number-of-steps-to-make-two-strings-anagram<br>\n",
    "Solution: https://leetcode.com/problems/minimum-number-of-steps-to-make-two-strings-anagram/submissions/1144703174"
   ]
  },
  {
   "cell_type": "code",
   "execution_count": 12,
   "id": "78ab7ab2-8fb1-4bb2-ba1d-cbee9f35a439",
   "metadata": {
    "execution": {
     "iopub.execute_input": "2024-01-28T15:13:46.816869Z",
     "iopub.status.busy": "2024-01-28T15:13:46.816268Z",
     "iopub.status.idle": "2024-01-28T15:13:46.824924Z",
     "shell.execute_reply": "2024-01-28T15:13:46.823578Z"
    },
    "papermill": {
     "duration": 0.033129,
     "end_time": "2024-01-28T15:13:46.827164",
     "exception": false,
     "start_time": "2024-01-28T15:13:46.794035",
     "status": "completed"
    },
    "tags": []
   },
   "outputs": [],
   "source": [
    "class Solution:\n",
    "    def minSteps(self, s: str, t: str) -> int:\n",
    "        currentCounter = collections.Counter(s)\n",
    "        targetCounter = collections.Counter(t)\n",
    "        \n",
    "        count = 0\n",
    "        for k, v in currentCounter.items():\n",
    "            count += max(v - targetCounter.get(k, 0), 0)\n",
    "        \n",
    "        return count\n",
    "    \n",
    "# Test the solution\n",
    "assert Solution().minSteps(\"leetcode\", \"practice\") == 5\n",
    "assert Solution().minSteps(\"anagram\", \"mangaar\") == 0\n",
    "assert Solution().minSteps(\"bab\", \"aba\") == 1"
   ]
  },
  {
   "cell_type": "markdown",
   "id": "41847160-0cd4-4965-917a-4cb49e2702b3",
   "metadata": {
    "papermill": {
     "duration": 0.020706,
     "end_time": "2024-01-28T15:13:46.868371",
     "exception": false,
     "start_time": "2024-01-28T15:13:46.847665",
     "status": "completed"
    },
    "tags": []
   },
   "source": [
    "# 10. \n",
    "Date: 13th Jan 2024<br>\n",
    "Medium Leetcode: longest-common-subsequence<br>\n",
    "Solution: https://leetcode.com/problems/longest-common-subsequence/submissions/1144816986"
   ]
  },
  {
   "cell_type": "code",
   "execution_count": 13,
   "id": "e04bc9c4-47ca-4c86-9c1e-21cb914e78f6",
   "metadata": {
    "execution": {
     "iopub.execute_input": "2024-01-28T15:13:46.912271Z",
     "iopub.status.busy": "2024-01-28T15:13:46.910963Z",
     "iopub.status.idle": "2024-01-28T15:13:46.922487Z",
     "shell.execute_reply": "2024-01-28T15:13:46.920731Z"
    },
    "papermill": {
     "duration": 0.036211,
     "end_time": "2024-01-28T15:13:46.925401",
     "exception": false,
     "start_time": "2024-01-28T15:13:46.889190",
     "status": "completed"
    },
    "tags": []
   },
   "outputs": [],
   "source": [
    "class Solution:\n",
    "    def longestCommonSubsequence(self, text1: str, text2: str) -> int:\n",
    "        \n",
    "        n1, n2 = len(text1), len(text2)\n",
    "\n",
    "        def iterate() -> int:\n",
    "            prev = [0 for _ in range(n1 + 1)]\n",
    "            for i in range(n2 - 1, -1, -1):\n",
    "                curr = [0 for _ in range(n1 + 1)]\n",
    "                for j in range(n1 - 1, -1, -1):\n",
    "                    if text1[j] == text2[i]:\n",
    "                        curr[j] = 1 + prev[j + 1]\n",
    "                    else:\n",
    "                        curr[j] = max(prev[j], curr[j + 1])\n",
    "                prev = curr\n",
    "                        \n",
    "            return curr[0]\n",
    "\n",
    "        @functools.cache\n",
    "        def backtrack(i: int, j: int) -> int:\n",
    "            if i == n1 or j == n2:\n",
    "                return 0\n",
    "            elif text1[i] == text2[j]:\n",
    "                return 1 + backtrack(i + 1, j + 1)\n",
    "            else:\n",
    "                return max(backtrack(i, j + 1), backtrack(i + 1, j))\n",
    "        \n",
    "        return iterate()\n",
    "\n",
    "# Testing the solution\n",
    "assert Solution().longestCommonSubsequence(\"abcded\", \"acede\") == 4\n",
    "assert Solution().longestCommonSubsequence(\"\", \"acede\") == 0"
   ]
  },
  {
   "cell_type": "markdown",
   "id": "d14e8431-df72-467b-ad3e-16dea850bf65",
   "metadata": {
    "papermill": {
     "duration": 0.019999,
     "end_time": "2024-01-28T15:13:46.965386",
     "exception": false,
     "start_time": "2024-01-28T15:13:46.945387",
     "status": "completed"
    },
    "tags": []
   },
   "source": [
    "# 11. \n",
    "Date: 13th Jan 2024<br>\n",
    "Medium Leetcode: edit-distance<br>\n",
    "Solution: https://leetcode.com/problems/edit-distance/submissions/1145197901/"
   ]
  },
  {
   "cell_type": "code",
   "execution_count": 14,
   "id": "1874e826-c82f-4507-8651-a6008fb1a856",
   "metadata": {
    "execution": {
     "iopub.execute_input": "2024-01-28T15:13:47.007584Z",
     "iopub.status.busy": "2024-01-28T15:13:47.006749Z",
     "iopub.status.idle": "2024-01-28T15:13:47.020543Z",
     "shell.execute_reply": "2024-01-28T15:13:47.019157Z"
    },
    "papermill": {
     "duration": 0.038185,
     "end_time": "2024-01-28T15:13:47.023466",
     "exception": false,
     "start_time": "2024-01-28T15:13:46.985281",
     "status": "completed"
    },
    "tags": []
   },
   "outputs": [],
   "source": [
    "class Solution:\n",
    "    def minDistance(self, word1: str, word2: str) -> int:\n",
    "        \"\"\"\n",
    "        Remove / insert characters towards the end to match length\n",
    "        Replace all characters with characters from word2\n",
    "        Upper bound = max(n1, n2) - min(n1, n2) + n2\n",
    "\n",
    "        # Optimized approach after watching 2 min of neetcode - watch tutorial\n",
    "        \"\"\"\n",
    "\n",
    "        # Find the length of both the words\n",
    "        n1, n2 = len(word1), len(word2) \n",
    "\n",
    "        @functools.cache\n",
    "        def backtrack(i: int, j: int) -> int:\n",
    "            if i >= n1 or j >= n2:\n",
    "                return max(n1 - i, n2 - j)\n",
    "            elif word1[i] == word2[j]:\n",
    "                return backtrack(i + 1, j + 1)\n",
    "            else:\n",
    "                return 1 + min(\n",
    "                    # Replace current char\n",
    "                    backtrack(i + 1, j + 1),\n",
    "\n",
    "                    # Remove current char\n",
    "                    backtrack(i + 1, j),\n",
    "\n",
    "                    # Insert char from target string\n",
    "                    backtrack(i, j + 1)\n",
    "                )\n",
    "        \n",
    "        answer = backtrack(0, 0)\n",
    "        return answer\n",
    "\n",
    "# Testing the solution\n",
    "assert Solution().minDistance(\"horse\", \"ros\") == 3\n",
    "assert Solution().minDistance(\"intention\", \"execution\") == 5\n",
    "assert Solution().minDistance(\"mississippi\", \"missouri\") == 6\n",
    "assert Solution().minDistance(\"\", \"abcd\") == 4\n",
    "assert Solution().minDistance(\"abcd\", \"\") == 4\n",
    "assert Solution().minDistance(\"\", \"\") == 0"
   ]
  },
  {
   "cell_type": "markdown",
   "id": "b70d5893-6482-4547-95b7-105f9cde2902",
   "metadata": {
    "papermill": {
     "duration": 0.019588,
     "end_time": "2024-01-28T15:13:47.064081",
     "exception": false,
     "start_time": "2024-01-28T15:13:47.044493",
     "status": "completed"
    },
    "tags": []
   },
   "source": [
    "# 12. \n",
    "Date: 14th Jan 2024<br>\n",
    "Medium Leetcode: determine-if-two-strings-are-close<br>\n",
    "Solution: https://leetcode.com/problems/determine-if-two-strings-are-close/submissions/1145505023"
   ]
  },
  {
   "cell_type": "code",
   "execution_count": 15,
   "id": "9d10fcea-4658-43a7-9b52-17d4f2935484",
   "metadata": {
    "execution": {
     "iopub.execute_input": "2024-01-28T15:13:47.106142Z",
     "iopub.status.busy": "2024-01-28T15:13:47.105764Z",
     "iopub.status.idle": "2024-01-28T15:13:47.115527Z",
     "shell.execute_reply": "2024-01-28T15:13:47.114097Z"
    },
    "papermill": {
     "duration": 0.034692,
     "end_time": "2024-01-28T15:13:47.118128",
     "exception": false,
     "start_time": "2024-01-28T15:13:47.083436",
     "status": "completed"
    },
    "tags": []
   },
   "outputs": [],
   "source": [
    "class Solution:\n",
    "    def closeStrings(self, word1: str, word2: str) -> bool:\n",
    "        n1 = len(word1)\n",
    "        n2 = len(word2) \n",
    "\n",
    "        if n1 != n2:\n",
    "            return False\n",
    "        \n",
    "        else:\n",
    "            counter1 = collections.Counter(word1)\n",
    "            counter2 = collections.Counter(word2)\n",
    "            freq_match = sorted(counter1.values()) == sorted(counter2.values())\n",
    "            key_match = sorted(counter1.keys()) == sorted(counter2.keys())\n",
    "            return freq_match and key_match\n",
    "\n",
    "# Test the solution\n",
    "assert Solution().closeStrings(\"abc\", \"bca\") == True\n",
    "assert Solution().closeStrings(\"a\", \"aa\") == False\n",
    "assert Solution().closeStrings(\"cabbba\", \"abbccc\") == True\n",
    "assert Solution().closeStrings(\"faddda\", \"dccaaa\") == False\n",
    "assert Solution().closeStrings(\"faddda\", \"dffaaa\") == True\n",
    "assert Solution().closeStrings(\"faddda\", \"dffdaa\") == False\n",
    "assert Solution().closeStrings(\"aaabbbbccddeeeeefffff\", \"aaaaabbcccdddeeeeffff\") == False"
   ]
  },
  {
   "cell_type": "markdown",
   "id": "bf1c9229-0df7-4ef7-8b7f-10b603ef784d",
   "metadata": {
    "papermill": {
     "duration": 0.019788,
     "end_time": "2024-01-28T15:13:47.157614",
     "exception": false,
     "start_time": "2024-01-28T15:13:47.137826",
     "status": "completed"
    },
    "tags": []
   },
   "source": [
    "# 13. \n",
    "Date: 14th Jan 2024<br>\n",
    "Medium Leetcode: find-beautiful-indices-in-the-given-array-i<br>\n",
    "Solution: https://leetcode.com/problems/find-beautiful-indices-in-the-given-array-i/submissions/1145567672/"
   ]
  },
  {
   "cell_type": "code",
   "execution_count": 16,
   "id": "b2b4b9aa-622d-4e79-8620-511588e6c7a3",
   "metadata": {
    "execution": {
     "iopub.execute_input": "2024-01-28T15:13:47.199807Z",
     "iopub.status.busy": "2024-01-28T15:13:47.199427Z",
     "iopub.status.idle": "2024-01-28T15:13:47.209927Z",
     "shell.execute_reply": "2024-01-28T15:13:47.207878Z"
    },
    "papermill": {
     "duration": 0.03555,
     "end_time": "2024-01-28T15:13:47.213281",
     "exception": false,
     "start_time": "2024-01-28T15:13:47.177731",
     "status": "completed"
    },
    "tags": []
   },
   "outputs": [],
   "source": [
    "class Solution:\n",
    "    def beautifulIndices(self, s: str, a: str, b: str, k: int) -> List[int]:\n",
    "        result = []\n",
    "        for i, ch in enumerate(s):\n",
    "            if ch == a[0] and a == s[i: i + len(a)]:\n",
    "                if b in s[max(i - k, 0): i + k + len(b)]:\n",
    "                    result.append(i)\n",
    "        \n",
    "        return result\n",
    "\n",
    "# Test the solution\n",
    "assert Solution().beautifulIndices(\"abcd\", \"a\", \"b\", 1) == [0]\n",
    "assert Solution().beautifulIndices(\"abcd\", \"a\", \"cd\", 1) == []\n",
    "assert Solution().beautifulIndices(\"a\", \"a\", \"a\", 1) == [0]\n",
    "assert Solution().beautifulIndices(\"a\", \"a\", \"aa\", 1) == []\n",
    "assert Solution().beautifulIndices(\"vatevavakz\", \"va\", \"lbda\", 1) == []"
   ]
  },
  {
   "cell_type": "markdown",
   "id": "4c6bd2e3-1c23-4341-8015-70f48c016580",
   "metadata": {
    "papermill": {
     "duration": 0.026605,
     "end_time": "2024-01-28T15:13:47.269814",
     "exception": false,
     "start_time": "2024-01-28T15:13:47.243209",
     "status": "completed"
    },
    "tags": []
   },
   "source": [
    "# 15. \n",
    "Date: 14th Jan 2024<br>\n",
    "Medium Leetcode: spiral-matrix-ii<br>\n",
    "Solution: https://leetcode.com/problems/spiral-matrix-ii/submissions/1146146173"
   ]
  },
  {
   "cell_type": "code",
   "execution_count": 17,
   "id": "c9e5bd6a-269e-4288-ad2c-3bb20a929706",
   "metadata": {
    "execution": {
     "iopub.execute_input": "2024-01-28T15:13:47.314406Z",
     "iopub.status.busy": "2024-01-28T15:13:47.313729Z",
     "iopub.status.idle": "2024-01-28T15:13:47.325494Z",
     "shell.execute_reply": "2024-01-28T15:13:47.323722Z"
    },
    "papermill": {
     "duration": 0.036155,
     "end_time": "2024-01-28T15:13:47.327702",
     "exception": false,
     "start_time": "2024-01-28T15:13:47.291547",
     "status": "completed"
    },
    "tags": []
   },
   "outputs": [
    {
     "name": "stdout",
     "output_type": "stream",
     "text": [
      "01 02 03 04 05 06 07 08 \n",
      "28 29 30 31 32 33 34 09 \n",
      "27 48 49 50 51 52 35 10 \n",
      "26 47 60 61 62 53 36 11 \n",
      "25 46 59 64 63 54 37 12 \n",
      "24 45 58 57 56 55 38 13 \n",
      "23 44 43 42 41 40 39 14 \n",
      "22 21 20 19 18 17 16 15 \n"
     ]
    }
   ],
   "source": [
    "class Solution:\n",
    "    def generateMatrix(self, n: int) -> List[List[int]]: \n",
    "        result = [[0 for _ in range(n)] for __ in range(n)]\n",
    "        directions = (0, 1), (1, 0), (0, -1), (-1, 0)\n",
    "\n",
    "        curr = 1\n",
    "        n_layers = math.ceil(n / 2)\n",
    "        for i in range(n_layers):\n",
    "            curr_x, curr_y = i, i - 1\n",
    "            for x_inc, y_inc in directions:\n",
    "                curr_x, curr_y = curr_x + x_inc, curr_y + y_inc\n",
    "                while i <= curr_x < n - i and i <= curr_y < n - i:\n",
    "                    \n",
    "                    # The below two lines makes me feel like I am cheating\n",
    "                    if result[curr_x][curr_y] == 0:\n",
    "                        result[curr_x][curr_y] = curr\n",
    "                        curr += 1\n",
    "                        \n",
    "                    curr_x, curr_y = curr_x + x_inc, curr_y + y_inc\n",
    "                    \n",
    "                curr_x, curr_y = curr_x - x_inc, curr_y - y_inc\n",
    "\n",
    "        return result\n",
    "\n",
    "# Test the solution\n",
    "temp = 8\n",
    "_ = len(str(temp * temp))\n",
    "for __ in Solution().generateMatrix(temp):\n",
    "    for ___ in __:\n",
    "        print (str(___).zfill(_), end=' ')\n",
    "    print()"
   ]
  },
  {
   "cell_type": "markdown",
   "id": "cddb8de5-bdcd-407f-9db0-c04d37fea5d0",
   "metadata": {
    "papermill": {
     "duration": 0.01957,
     "end_time": "2024-01-28T15:13:47.367025",
     "exception": false,
     "start_time": "2024-01-28T15:13:47.347455",
     "status": "completed"
    },
    "tags": []
   },
   "source": [
    "# 16. \n",
    "Date: 15th Jan 2024<br>\n",
    "Medium Leetcode: find-players-with-zero-or-one-losses<br>\n",
    "Solution: https://leetcode.com/problems/find-players-with-zero-or-one-losses/submissions/1146505590"
   ]
  },
  {
   "cell_type": "code",
   "execution_count": 18,
   "id": "dfe7330f-128b-4f9c-98ec-73866a105bd1",
   "metadata": {
    "execution": {
     "iopub.execute_input": "2024-01-28T15:13:47.413149Z",
     "iopub.status.busy": "2024-01-28T15:13:47.412779Z",
     "iopub.status.idle": "2024-01-28T15:13:47.422578Z",
     "shell.execute_reply": "2024-01-28T15:13:47.421240Z"
    },
    "papermill": {
     "duration": 0.036364,
     "end_time": "2024-01-28T15:13:47.424845",
     "exception": false,
     "start_time": "2024-01-28T15:13:47.388481",
     "status": "completed"
    },
    "tags": []
   },
   "outputs": [],
   "source": [
    "class Solution:\n",
    "    def findWinners(self, matches: List[List[int]]) -> List[List[int]]:\n",
    "        players = set()\n",
    "        loss_count = dict()\n",
    "        for winner, loser in matches:\n",
    "            players.add(winner)\n",
    "            players.add(loser)\n",
    "            loss_count[loser] = loss_count.get(loser, 0) + 1\n",
    "\n",
    "        result = [[],[]]\n",
    "        for player in sorted(players):\n",
    "            if player not in loss_count:\n",
    "                result[0].append(player)\n",
    "            elif loss_count[player] == 1:\n",
    "                result[1].append(player)\n",
    "\n",
    "        return result\n",
    "\n",
    "# Testing the solution\n",
    "assert Solution().findWinners([[1,3],[2,3],[3,6],[5,6],[5,7],[4,5],[4,8],[4,9],[10,4],[10,9]]) == [[1,2,10],[4,5,7,8]]\n",
    "assert Solution().findWinners([[2,3],[1,3],[5,4],[6,4]]) == [[1,2,5,6],[]]"
   ]
  },
  {
   "cell_type": "markdown",
   "id": "55327cd2-f6fd-4335-ab7e-635754549525",
   "metadata": {
    "papermill": {
     "duration": 0.019963,
     "end_time": "2024-01-28T15:13:47.464328",
     "exception": false,
     "start_time": "2024-01-28T15:13:47.444365",
     "status": "completed"
    },
    "tags": []
   },
   "source": [
    "# 17. \n",
    "Date: 15th Jan 2024<br>\n",
    "Medium Leetcode: swap-nodes-in-pairs<br>\n",
    "Solution: https://leetcode.com/problems/swap-nodes-in-pairs/submissions/1146525714/"
   ]
  },
  {
   "cell_type": "code",
   "execution_count": 19,
   "id": "074bd7de-d765-4186-bf5b-51792f902568",
   "metadata": {
    "execution": {
     "iopub.execute_input": "2024-01-28T15:13:47.506032Z",
     "iopub.status.busy": "2024-01-28T15:13:47.505151Z",
     "iopub.status.idle": "2024-01-28T15:13:47.515004Z",
     "shell.execute_reply": "2024-01-28T15:13:47.513689Z"
    },
    "papermill": {
     "duration": 0.033262,
     "end_time": "2024-01-28T15:13:47.517182",
     "exception": false,
     "start_time": "2024-01-28T15:13:47.483920",
     "status": "completed"
    },
    "tags": []
   },
   "outputs": [],
   "source": [
    "class Solution:\n",
    "    def swapPairs(self, head: ListNode) -> ListNode:\n",
    "\n",
    "        if not head or not head.next:\n",
    "            return head\n",
    "\n",
    "        prev_, curr_, next_ = None, head, head.next\n",
    "        while next_: \n",
    "\n",
    "            curr_.next = next_.next\n",
    "            next_.next = curr_\n",
    "\n",
    "            if prev_:\n",
    "                prev_.next = next_\n",
    "            else:\n",
    "                head = next_\n",
    "\n",
    "            if curr_.next:\n",
    "                prev_, curr_, next_ = curr_, curr_.next, curr_.next.next\n",
    "            else:\n",
    "                break\n",
    "        \n",
    "        return head\n",
    "\n",
    "# Test the solution\n",
    "assert Solution().swapPairs(ListNode.to_singly_linked_list([])) is None\n",
    "assert Solution().swapPairs(ListNode.to_singly_linked_list([1])).to_list() == [1]\n",
    "assert Solution().swapPairs(ListNode.to_singly_linked_list([1, 2])).to_list() == [2, 1]\n",
    "assert Solution().swapPairs(ListNode.to_singly_linked_list([1, 2, 3])).to_list() == [2, 1, 3]\n",
    "assert Solution().swapPairs(ListNode.to_singly_linked_list([1, 2, 3, 4])).to_list() == [2, 1, 4, 3]\n",
    "assert Solution().swapPairs(ListNode.to_singly_linked_list([1, 2, 3, 4, 5])).to_list() == [2, 1, 4, 3, 5]"
   ]
  },
  {
   "cell_type": "markdown",
   "id": "41d300e4-1996-40cf-ae82-e178d7a08200",
   "metadata": {
    "papermill": {
     "duration": 0.023301,
     "end_time": "2024-01-28T15:13:47.562546",
     "exception": false,
     "start_time": "2024-01-28T15:13:47.539245",
     "status": "completed"
    },
    "tags": []
   },
   "source": [
    "# 18. \n",
    "Date: 15th Jan 2024<br>\n",
    "Medium Leetcode: simplify-path<br>\n",
    "Solution: https://leetcode.com/problems/simplify-path/submissions/1146606869"
   ]
  },
  {
   "cell_type": "code",
   "execution_count": 20,
   "id": "0a53c385-c89f-437d-a0d9-564a40c6dded",
   "metadata": {
    "execution": {
     "iopub.execute_input": "2024-01-28T15:13:47.604997Z",
     "iopub.status.busy": "2024-01-28T15:13:47.603984Z",
     "iopub.status.idle": "2024-01-28T15:13:47.615818Z",
     "shell.execute_reply": "2024-01-28T15:13:47.614533Z"
    },
    "papermill": {
     "duration": 0.035822,
     "end_time": "2024-01-28T15:13:47.618130",
     "exception": false,
     "start_time": "2024-01-28T15:13:47.582308",
     "status": "completed"
    },
    "tags": []
   },
   "outputs": [],
   "source": [
    "class Solution:\n",
    "    def simplifyPath(self, path: str) -> str:\n",
    "        result = []\n",
    "\n",
    "        # Treat \"$\" as end of path character\n",
    "        for ch in path + \"$\":\n",
    "\n",
    "            prev = result[-1] if len(result) else None\n",
    "\n",
    "            # First char, insert as is\n",
    "            if prev is None:\n",
    "                result.append(ch)\n",
    "\n",
    "            # Path related\n",
    "            elif ch == \"/\":\n",
    "                # Do nothing - \"//\"\n",
    "                if prev == \"/\":\n",
    "                    pass\n",
    "                # Remove the dot and ignore ch - \"./\"\n",
    "                elif prev == \".\":\n",
    "                    result.pop()\n",
    "                # Remove last four parts - \"/..\", \"/etc/..\", \"/etc/config/..\"; Insert \"/\"\n",
    "                elif prev == \"..\":\n",
    "                    result = result[:-4]\n",
    "                    result.append(ch)\n",
    "                else:\n",
    "                    result.append(ch)\n",
    "\n",
    "            # End of path\n",
    "            elif ch == \"$\":\n",
    "                # Ending with a \"/\", remove it\n",
    "                if prev == \"/\" and len(result) > 1:\n",
    "                    result.pop()\n",
    "                # Ends with a \".\", remove it - \"/abc/.\"\n",
    "                elif prev == \".\":\n",
    "                    result = result[:-2]\n",
    "                # Ends with a \"..\", remove it, go back by 2 dirs - \"/abc/..\"\n",
    "                elif prev == \"..\":\n",
    "                    result = result[:-4]\n",
    "\n",
    "                # Say we had \"/.\" or \"/..\", it would end up as \"\"\n",
    "                if not len(result):\n",
    "                    result.append(\"/\")\n",
    "\n",
    "            # Everything else is treated as part of dir / file name\n",
    "            else:\n",
    "                if prev == \"/\":\n",
    "                    result.append(ch)\n",
    "                else:\n",
    "                    result[-1] = prev + ch\n",
    "\n",
    "        return \"\".join(result)\n",
    "\n",
    "# Test the solution\n",
    "assert Solution().simplifyPath(\"/\") == \"/\"\n",
    "assert Solution().simplifyPath(\"/./../\") == \"/\"\n",
    "assert Solution().simplifyPath(\"/.gitignore\") == \"/.gitignore\"\n",
    "assert Solution().simplifyPath(\"/abc\") == \"/abc\"\n",
    "assert Solution().simplifyPath(\"/home//foo/\") == \"/home/foo\"\n",
    "assert Solution().simplifyPath(\"/home/kael/././configs/../.vimrc\") == \"/home/kael/.vimrc\"\n",
    "assert Solution().simplifyPath(\"/../../../etc////////abc...abc\") == \"/etc/abc...abc\"\n",
    "assert Solution().simplifyPath(\"///////......./.../..\") == \"/.......\""
   ]
  },
  {
   "cell_type": "markdown",
   "id": "422e9af9-7abd-48f5-9bdb-ed0bd628c746",
   "metadata": {
    "papermill": {
     "duration": 0.02075,
     "end_time": "2024-01-28T15:13:47.658538",
     "exception": false,
     "start_time": "2024-01-28T15:13:47.637788",
     "status": "completed"
    },
    "tags": []
   },
   "source": [
    "# 19. \n",
    "Date: 15th Jan 2024<br>\n",
    "Medium Leetcode: reorder-list<br>\n",
    "Solution: https://leetcode.com/problems/reorder-list/submissions/1147036556/"
   ]
  },
  {
   "cell_type": "code",
   "execution_count": 21,
   "id": "5499f6dd-c1f9-41d3-9b68-a3a7eabfc7fc",
   "metadata": {
    "execution": {
     "iopub.execute_input": "2024-01-28T15:13:47.701056Z",
     "iopub.status.busy": "2024-01-28T15:13:47.700678Z",
     "iopub.status.idle": "2024-01-28T15:13:47.711749Z",
     "shell.execute_reply": "2024-01-28T15:13:47.710225Z"
    },
    "papermill": {
     "duration": 0.03449,
     "end_time": "2024-01-28T15:13:47.713793",
     "exception": false,
     "start_time": "2024-01-28T15:13:47.679303",
     "status": "completed"
    },
    "tags": []
   },
   "outputs": [],
   "source": [
    "class Solution:\n",
    "    def reorderList(self, head: ListNode) -> ListNode:\n",
    "        # Find the middle\n",
    "        slow = fast = head\n",
    "        while fast and fast.next:\n",
    "            fast = fast.next.next\n",
    "            slow = slow.next\n",
    "\n",
    "        # slow is the start of second half, cut link from first half\n",
    "        second_start = slow.next\n",
    "        slow.next = None\n",
    "\n",
    "        # Reverse list starting from second_start and get the head\n",
    "        prev, curr = None, second_start\n",
    "        while curr:\n",
    "            next_ = curr.next\n",
    "            curr.next = prev\n",
    "            prev, curr = curr, next_\n",
    "\n",
    "        # prev is the start of the reversed second half\n",
    "        p1, p2 = head, prev\n",
    "        while p1 and p2:\n",
    "            next_p1, next_p2 = p1.next, p2.next\n",
    "            p1.next, p2.next = p2, p1.next\n",
    "            p1, p2 = next_p1, next_p2\n",
    "\n",
    "        return head\n",
    "\n",
    "# Test the solution\n",
    "assert Solution().reorderList(ListNode.to_singly_linked_list([1])).to_list() == [1]\n",
    "assert Solution().reorderList(ListNode.to_singly_linked_list([1,2])).to_list() == [1,2]\n",
    "assert Solution().reorderList(ListNode.to_singly_linked_list([1,2,3])).to_list() == [1,3,2]\n",
    "assert Solution().reorderList(ListNode.to_singly_linked_list([1,2,3,4])).to_list() == [1,4,2,3]\n",
    "assert Solution().reorderList(ListNode.to_singly_linked_list([1,2,3,4,5])).to_list() == [1,5,2,4,3]"
   ]
  },
  {
   "cell_type": "markdown",
   "id": "25dbdad8-ccc7-4edc-b719-7c44a480862f",
   "metadata": {
    "papermill": {
     "duration": 0.019443,
     "end_time": "2024-01-28T15:13:47.752693",
     "exception": false,
     "start_time": "2024-01-28T15:13:47.733250",
     "status": "completed"
    },
    "tags": []
   },
   "source": [
    "# 20. \n",
    "Date: 16th Jan 2024<br>\n",
    "Medium Leetcode: insert-delete-getrandom-o1<br>\n",
    "Solution: https://leetcode.com/problems/insert-delete-getrandom-o1/submissions/1147368883"
   ]
  },
  {
   "cell_type": "code",
   "execution_count": 22,
   "id": "ca106393-1188-4324-bc30-016330f598c7",
   "metadata": {
    "execution": {
     "iopub.execute_input": "2024-01-28T15:13:47.794502Z",
     "iopub.status.busy": "2024-01-28T15:13:47.793822Z",
     "iopub.status.idle": "2024-01-28T15:13:47.802935Z",
     "shell.execute_reply": "2024-01-28T15:13:47.801615Z"
    },
    "papermill": {
     "duration": 0.032918,
     "end_time": "2024-01-28T15:13:47.805156",
     "exception": false,
     "start_time": "2024-01-28T15:13:47.772238",
     "status": "completed"
    },
    "tags": []
   },
   "outputs": [],
   "source": [
    "import random\n",
    "\n",
    "class RandomizedSet:\n",
    "\n",
    "    def __init__(self):\n",
    "        self.length = 0\n",
    "        self.hashset = set()\n",
    "        self.randomlist = []\n",
    "        self.modified = False\n",
    "\n",
    "    def insert(self, val: int) -> bool:\n",
    "        'O(1) time complexity'\n",
    "        if val not in self.hashset:\n",
    "            self.hashset.add(val)\n",
    "            self.length += 1\n",
    "            self.modified = True\n",
    "            return True\n",
    "        else:\n",
    "            return False\n",
    "\n",
    "    def remove(self, val: int) -> bool:\n",
    "        'O(1) time complexity'\n",
    "        if val in self.hashset:\n",
    "            self.hashset.remove(val)\n",
    "            self.length -= 1\n",
    "            self.modified = True\n",
    "            return True\n",
    "        else:\n",
    "            return False\n",
    "        \n",
    "    def getRandom(self) -> int:\n",
    "        'If data was recently modified, takes time to build the list, otherwise O(1) time complexity'\n",
    "        idx = random.randint(0, self.length - 1) \n",
    "        if self.modified:\n",
    "            self.randomlist = list(self.hashset)\n",
    "            self.modified = False\n",
    "\n",
    "        return self.randomlist[idx]"
   ]
  },
  {
   "cell_type": "markdown",
   "id": "4691d385-d5e8-4dd7-84fe-78bf93bbeaa0",
   "metadata": {
    "papermill": {
     "duration": 0.019965,
     "end_time": "2024-01-28T15:13:47.847404",
     "exception": false,
     "start_time": "2024-01-28T15:13:47.827439",
     "status": "completed"
    },
    "tags": []
   },
   "source": [
    "# 21. \n",
    "Date: 16th Jan 2024<br>\n",
    "Medium Leetcode: car-fleet<br>\n",
    "Solution: https://leetcode.com/problems/car-fleet/submissions/1147391441"
   ]
  },
  {
   "cell_type": "code",
   "execution_count": 23,
   "id": "62c92058-0f72-4d72-b5bd-c2be78b10de2",
   "metadata": {
    "execution": {
     "iopub.execute_input": "2024-01-28T15:13:47.889427Z",
     "iopub.status.busy": "2024-01-28T15:13:47.888723Z",
     "iopub.status.idle": "2024-01-28T15:13:47.898002Z",
     "shell.execute_reply": "2024-01-28T15:13:47.896679Z"
    },
    "papermill": {
     "duration": 0.032645,
     "end_time": "2024-01-28T15:13:47.900080",
     "exception": false,
     "start_time": "2024-01-28T15:13:47.867435",
     "status": "completed"
    },
    "tags": []
   },
   "outputs": [],
   "source": [
    "class Solution:\n",
    "    def carFleet(self, target: int, position: List[int], speed: List[int]) -> int:\n",
    "        # O(n log n)\n",
    "        position, speed = zip(*sorted(zip(position, speed), key=lambda x: x[0], reverse=True))\n",
    "\n",
    "        # O(n)\n",
    "        time = []\n",
    "        for p, s in zip(position, speed):\n",
    "            if s != 0:\n",
    "                time.append((target - p) / s)\n",
    "            if s == 0:\n",
    "                break\n",
    "\n",
    "        # O(n)\n",
    "        fleet_count = 0\n",
    "        prev = -math.inf\n",
    "        for t in time:\n",
    "            if t > prev:\n",
    "                fleet_count += 1\n",
    "                prev = t\n",
    "\n",
    "        return fleet_count\n",
    "        \n",
    "# Testing the solution\n",
    "assert Solution().carFleet(12, [10,8,0,5,3], [1,4,1,1,3]) == 3\n",
    "assert Solution().carFleet(10, [3], [3]) == 1\n",
    "assert Solution().carFleet(100, [0,2,4], [4,2,1]) == 1\n",
    "assert Solution().carFleet(100, [0,2,4], [4,2,0]) == 0"
   ]
  },
  {
   "cell_type": "markdown",
   "id": "acbeeb31-1f6c-4335-8cc0-cd29b659a586",
   "metadata": {
    "papermill": {
     "duration": 0.01975,
     "end_time": "2024-01-28T15:13:47.939265",
     "exception": false,
     "start_time": "2024-01-28T15:13:47.919515",
     "status": "completed"
    },
    "tags": []
   },
   "source": [
    "# 22. \n",
    "Date: 16th Jan 2024<br>\n",
    "Medium Leetcode: k-th-smallest-prime-fraction<br>\n",
    "Solution: https://leetcode.com/problems/k-th-smallest-prime-fraction/submissions/1147402296/"
   ]
  },
  {
   "cell_type": "code",
   "execution_count": 24,
   "id": "af0b59bb-6617-4d8e-a914-f356191e5150",
   "metadata": {
    "execution": {
     "iopub.execute_input": "2024-01-28T15:13:47.986671Z",
     "iopub.status.busy": "2024-01-28T15:13:47.985436Z",
     "iopub.status.idle": "2024-01-28T15:13:47.997259Z",
     "shell.execute_reply": "2024-01-28T15:13:47.995755Z"
    },
    "papermill": {
     "duration": 0.037332,
     "end_time": "2024-01-28T15:13:47.999740",
     "exception": false,
     "start_time": "2024-01-28T15:13:47.962408",
     "status": "completed"
    },
    "tags": []
   },
   "outputs": [],
   "source": [
    "class Solution:\n",
    "    def kthSmallestPrimeFraction_(self, arr: List[int], k: int) -> List[int]:\n",
    "        '''\n",
    "        This solution only runs as long as neccessary. If k is small this might work better than other solutions\n",
    "        Could be optimized by going for largest if k is above the mid point of nc2 combinations\n",
    "        '''\n",
    "        \n",
    "        n = len(arr)\n",
    "        pointers = dict.fromkeys(arr[:-1], 1)\n",
    "        \n",
    "        while k > 0:\n",
    "            minimum_fraction = (math.inf, 1)\n",
    "            for numerator in pointers:\n",
    "                denominator = arr[n - pointers[numerator]]\n",
    "                if (numerator / denominator) <= (minimum_fraction[0] / minimum_fraction[1]):\n",
    "                    minimum_fraction = numerator, denominator\n",
    "\n",
    "            # Increment the pointer by 1\n",
    "            pointers[minimum_fraction[0]] += 1\n",
    "\n",
    "            if arr[n - pointers[minimum_fraction[0]]] == minimum_fraction[0]:\n",
    "                pointers.pop(minimum_fraction[0])\n",
    "\n",
    "            # Decrease k and continue finding the next minimum fraction\n",
    "            k -= 1\n",
    "\n",
    "        return minimum_fraction\n",
    "\n",
    "    def kthSmallestPrimeFraction(self, arr: List[int], k: int) -> List[int]:\n",
    "        return sorted(itertools.combinations(arr, r=2), key=lambda x: x[0] / x[1])[k - 1]\n",
    "        \n",
    "# Testing the solution\n",
    "assert Solution().kthSmallestPrimeFraction([1, 2, 3, 4, 5], 1) == (1, 5)\n",
    "assert Solution().kthSmallestPrimeFraction([1, 2, 3, 4, 5], 2) == (1, 4)\n",
    "assert Solution().kthSmallestPrimeFraction([1, 2, 3, 4, 5], 4) == (2, 5)\n",
    "assert Solution().kthSmallestPrimeFraction([1, 2, 3, 4, 5], 6) == (2, 4)"
   ]
  },
  {
   "cell_type": "markdown",
   "id": "bdcfdc90-610e-420d-a70f-c538c7bfa337",
   "metadata": {
    "papermill": {
     "duration": 0.020151,
     "end_time": "2024-01-28T15:13:48.040466",
     "exception": false,
     "start_time": "2024-01-28T15:13:48.020315",
     "status": "completed"
    },
    "tags": []
   },
   "source": [
    "# 23. \n",
    "Date: 17th Jan 2024<br>\n",
    "Medium Leetcode: knight-dialer<br>\n",
    "Solution: https://leetcode.com/problems/knight-dialer/submissions/1148348130"
   ]
  },
  {
   "cell_type": "code",
   "execution_count": 25,
   "id": "83b4821b-d511-416a-b6cb-fc9491313c3b",
   "metadata": {
    "execution": {
     "iopub.execute_input": "2024-01-28T15:13:48.084032Z",
     "iopub.status.busy": "2024-01-28T15:13:48.082885Z",
     "iopub.status.idle": "2024-01-28T15:13:48.124356Z",
     "shell.execute_reply": "2024-01-28T15:13:48.122678Z"
    },
    "papermill": {
     "duration": 0.066383,
     "end_time": "2024-01-28T15:13:48.127034",
     "exception": false,
     "start_time": "2024-01-28T15:13:48.060651",
     "status": "completed"
    },
    "tags": []
   },
   "outputs": [],
   "source": [
    "class Solution:\n",
    "    def knightDialer(self, n: int) -> int:\n",
    "        \"\"\"\n",
    "         1  2  3  4  5  6  7  8  9  0\n",
    "        [1, 1, 1, 1, 1, 1, 1, 1, 1, 1]\n",
    "        [2, 2, 2, 3, 0, 3, 2, 2, 2, 2]\n",
    "        [5, 4, 5, 6, 0, 6, 5, 4, 5, 6]\n",
    "        \"\"\"\n",
    "\n",
    "        MOD = (10 ** 9) + 7\n",
    "        dialpad_paths = {\n",
    "            1: [6, 8],\n",
    "            2: [7, 9],\n",
    "            3: [4, 8],\n",
    "            4: [0, 3, 9],\n",
    "            5: [],\n",
    "            6: [0, 1, 7],\n",
    "            7: [2, 6],\n",
    "            8: [1, 3],\n",
    "            9: [2, 4],\n",
    "            0: [4, 6]\n",
    "        }            \n",
    "\n",
    "        dp = [1] * 10\n",
    "        while n > 1:\n",
    "            new_row = []\n",
    "            for i in range(10):\n",
    "                new_row.append(sum(dp[j] for j in dialpad_paths[i]))\n",
    "                \n",
    "            dp = new_row\n",
    "            n -= 1\n",
    "\n",
    "        return sum(dp) % MOD\n",
    "\n",
    "# Testing the solution\n",
    "assert Solution().knightDialer(1) == 10\n",
    "assert Solution().knightDialer(2) == 20\n",
    "assert Solution().knightDialer(3131) == 136006598\n",
    "assert Solution().knightDialer(100) == 540641702\n",
    "assert Solution().knightDialer(99) == 168850940"
   ]
  },
  {
   "cell_type": "markdown",
   "id": "b62fb524-33c2-4a32-a3d6-743e3bc9d92f",
   "metadata": {
    "papermill": {
     "duration": 0.019555,
     "end_time": "2024-01-28T15:13:48.166128",
     "exception": false,
     "start_time": "2024-01-28T15:13:48.146573",
     "status": "completed"
    },
    "tags": []
   },
   "source": [
    "# 24. \n",
    "Date: 18th Jan 2024<br>\n",
    "Medium Leetcode: invalid-transactions<br>\n",
    "Solution: https://leetcode.com/problems/invalid-transactions/submissions/1149291531/"
   ]
  },
  {
   "cell_type": "code",
   "execution_count": 26,
   "id": "30fc86c3-fdae-4080-824f-26fbbef37eac",
   "metadata": {
    "execution": {
     "iopub.execute_input": "2024-01-28T15:13:48.219223Z",
     "iopub.status.busy": "2024-01-28T15:13:48.218501Z",
     "iopub.status.idle": "2024-01-28T15:13:48.232824Z",
     "shell.execute_reply": "2024-01-28T15:13:48.231409Z"
    },
    "papermill": {
     "duration": 0.049182,
     "end_time": "2024-01-28T15:13:48.234979",
     "exception": false,
     "start_time": "2024-01-28T15:13:48.185797",
     "status": "completed"
    },
    "tags": []
   },
   "outputs": [],
   "source": [
    "class Solution:\n",
    "    def invalidTransactions(self, transactions: List[str]) -> List[str]:\n",
    "        bank = dict()\n",
    "        for idx, transaction in enumerate(transactions):\n",
    "            name, time, amount, city = transaction.split(\",\")\n",
    "            time = int(time)\n",
    "            amount = int(amount)\n",
    "            history = bank.get(name, [])\n",
    "            history.append((time, amount, city, idx))\n",
    "            bank[name] = history\n",
    "\n",
    "        invalid = set()\n",
    "        for name in bank:\n",
    "            account = bank[name]\n",
    "            account.sort()\n",
    "\n",
    "            for i, (time, amount, city, transaction_idx) in enumerate(account):\n",
    "                if amount > 1000:\n",
    "                    invalid.add(transaction_idx)\n",
    "\n",
    "\n",
    "                for shift in [-1, 1]:\n",
    "                    while i + shift >= 0 and i + shift < len(account):\n",
    "                        prev_time, prev_amount, prev_city, prev_tran_idx = account[i + shift]\n",
    "                        if abs(prev_time - time) <= 60:\n",
    "                            if prev_city != city:\n",
    "                                invalid.add(prev_tran_idx)\n",
    "                                invalid.add(transaction_idx)\n",
    "                                \n",
    "                            if shift < 0:\n",
    "                                shift -= 1\n",
    "                            else:\n",
    "                                shift += 1\n",
    "                                \n",
    "                        else:\n",
    "                            break\n",
    "\n",
    "        return [transactions[_] for _ in invalid]\n",
    "\n",
    "# Testing the solution\n",
    "temp = [\n",
    "    [\n",
    "        [\"alice,20,800,mtv\",\"alice,50,100,beijing\"],\n",
    "        [\"alice,50,100,beijing\",\"alice,20,800,mtv\"]\n",
    "    ],\n",
    "    \n",
    "    [\n",
    "        [\"alice,20,800,mtv\",\"alice,50,1200,mtv\"],\n",
    "        [\"alice,50,1200,mtv\"]\n",
    "    ],\n",
    "    \n",
    "    [\n",
    "        [\"alice,20,800,mtv\",\"bob,50,1200,mtv\"],\n",
    "        [\"bob,50,1200,mtv\"]\n",
    "    ],\n",
    "    \n",
    "    [\n",
    "        [\"alice,20,800,mtv\",\"bob,50,1200,mtv\",\"alice,20,800,mtv\",\"alice,50,1200,mtv\",\"alice,20,800,mtv\",\"alice,50,100,beijing\"],\n",
    "        [\"alice,20,800,mtv\",\"bob,50,1200,mtv\",\"alice,20,800,mtv\",\"alice,50,1200,mtv\",\"alice,20,800,mtv\",\"alice,50,100,beijing\"]\n",
    "    ],\n",
    "\n",
    "    [\n",
    "        [\"alex,676,260,bangkok\",\"bob,656,1366,bangkok\",\"alex,393,616,bangkok\",\"bob,820,990,amsterdam\",\"alex,596,1390,amsterdam\"],  \n",
    "        [\"bob,656,1366,bangkok\",\"alex,596,1390,amsterdam\"]\n",
    "    ],\n",
    "\n",
    "    [\n",
    "        [\"alice,20,1220,mtv\",\"alice,20,1220,mtv\"],  \n",
    "        [\"alice,20,1220,mtv\",\"alice,20,1220,mtv\"]\n",
    "    ],\n",
    "\n",
    "    [\n",
    "        [\"alice,20,800,mtv\",\"alice,50,100,mtv\",\"alice,51,100,frankfurt\"],\n",
    "        [\"alice,20,800,mtv\",\"alice,50,100,mtv\",\"alice,51,100,frankfurt\"]\n",
    "    ],\n",
    "]\n",
    "\n",
    "for inp, op in temp:\n",
    "    assert sorted(Solution().invalidTransactions(inp)) == sorted(op), f\"failed for {inp}\""
   ]
  },
  {
   "cell_type": "markdown",
   "id": "c6d19f7a-ea38-40d0-ae0b-d0d7f43aa687",
   "metadata": {
    "papermill": {
     "duration": 0.02186,
     "end_time": "2024-01-28T15:13:48.276361",
     "exception": false,
     "start_time": "2024-01-28T15:13:48.254501",
     "status": "completed"
    },
    "tags": []
   },
   "source": [
    "# 25. \n",
    "Date: 18th Jan 2024<br>\n",
    "Medium Leetcode: longest-arithmetic-subsequence<br>\n",
    "Solution: https://leetcode.com/problems/longest-arithmetic-subsequence/submissions/1149314640"
   ]
  },
  {
   "cell_type": "code",
   "execution_count": 27,
   "id": "d5e81394-820c-4a1c-8062-9690c8560427",
   "metadata": {
    "execution": {
     "iopub.execute_input": "2024-01-28T15:13:48.319361Z",
     "iopub.status.busy": "2024-01-28T15:13:48.318911Z",
     "iopub.status.idle": "2024-01-28T15:13:48.332098Z",
     "shell.execute_reply": "2024-01-28T15:13:48.330773Z"
    },
    "papermill": {
     "duration": 0.037262,
     "end_time": "2024-01-28T15:13:48.334355",
     "exception": false,
     "start_time": "2024-01-28T15:13:48.297093",
     "status": "completed"
    },
    "tags": []
   },
   "outputs": [],
   "source": [
    "class Solution:\n",
    "    def longestArithSeqLength_(self, nums: List[int]) -> int:\n",
    "        \"\"\"\n",
    "        For size 2, return 2 (nums[0], nums[1] regardless of what the nums are)\n",
    "        \"\"\"\n",
    "\n",
    "        @functools.cache\n",
    "        def backtrack(curr_idx: int, diff: int) -> int:\n",
    "            curr = nums[curr_idx]\n",
    "            if curr + diff in idx_dict:\n",
    "                for next_idx in idx_dict[curr + diff]:\n",
    "                    if next_idx > curr_idx:\n",
    "                        # We only need to backtrack into the first index > curr_idx\n",
    "                        return 1 + backtrack(next_idx, diff)\n",
    "                else:\n",
    "                    return 0\n",
    "            else:\n",
    "                return 0\n",
    "\n",
    "        N = len(nums)\n",
    "\n",
    "        idx_dict = dict()\n",
    "        for i, n in enumerate(nums):\n",
    "            indices = idx_dict.get(n, [])\n",
    "            indices.append(i)\n",
    "            idx_dict[n] = indices\n",
    "\n",
    "        if N == 2:\n",
    "            return 2\n",
    "        else:\n",
    "            maxlen = 2\n",
    "            for i in range(N - 1):\n",
    "                for j in range(i + 1, N):\n",
    "                    maxlen = max(maxlen, 2 + backtrack(j, nums[j] - nums[i]))\n",
    "\n",
    "            return maxlen\n",
    "\n",
    "    def longestArithSeqLength(self, A):\n",
    "        # https://leetcode.com/problems/longest-arithmetic-subsequence/solutions/274611/java-c-python-dp/\n",
    "        # Intution is kind of same as what I had done above?\n",
    "        dp = {}\n",
    "        for i in range(len(A) - 1):\n",
    "            for j in range(i + 1, len(A)):\n",
    "                dp[j, A[j] - A[i]] = dp.get((i, A[j] - A[i]), 1) + 1\n",
    "\n",
    "        return max(dp.values())\n",
    "\n",
    "# Testing the solution\n",
    "assert Solution().longestArithSeqLength([3,6,9,12]) == 4\n",
    "assert Solution().longestArithSeqLength([3,6,9,6,12]) == 4\n",
    "assert Solution().longestArithSeqLength([9,4,7,2,10]) == 3\n",
    "assert Solution().longestArithSeqLength([20,1,15,3,10,5,8]) == 4\n",
    "assert Solution().longestArithSeqLength([1,2]) == 2\n",
    "assert Solution().longestArithSeqLength([1,2,2,3,3,3,3,3,3,3,4,4,5,6,7,8,8,8,8,8,8,8,8,8]) == 9"
   ]
  },
  {
   "cell_type": "markdown",
   "id": "b7763349-e216-40d1-a0c9-d1a7079dafcd",
   "metadata": {
    "papermill": {
     "duration": 0.021642,
     "end_time": "2024-01-28T15:13:48.376315",
     "exception": false,
     "start_time": "2024-01-28T15:13:48.354673",
     "status": "completed"
    },
    "tags": []
   },
   "source": [
    "# 26. \n",
    "Date: 18th Jan 2024<br>\n",
    "Medium Leetcode: longest-palindromic-substring<br>\n",
    "Solution: https://leetcode.com/problems/longest-palindromic-substring/submissions/1149814283"
   ]
  },
  {
   "cell_type": "code",
   "execution_count": 28,
   "id": "96c5a77a-0a22-4504-9ece-57854e528d7e",
   "metadata": {
    "execution": {
     "iopub.execute_input": "2024-01-28T15:13:48.422549Z",
     "iopub.status.busy": "2024-01-28T15:13:48.421520Z",
     "iopub.status.idle": "2024-01-28T15:13:48.432336Z",
     "shell.execute_reply": "2024-01-28T15:13:48.430830Z"
    },
    "papermill": {
     "duration": 0.035456,
     "end_time": "2024-01-28T15:13:48.434332",
     "exception": false,
     "start_time": "2024-01-28T15:13:48.398876",
     "status": "completed"
    },
    "tags": []
   },
   "outputs": [],
   "source": [
    "class Solution:\n",
    "    def longestPalindrome(self, s: str) -> str:\n",
    "        '''\n",
    "        \"abaaba\" -  2\n",
    "        \"abaaba\" -  3\n",
    "        \"abaaaba\" - 3\n",
    "        '''\n",
    "\n",
    "        N = len(s)\n",
    "\n",
    "        def longestPalindromeAtIndex(idx: int) -> str:\n",
    "\n",
    "            # Store the longest\n",
    "            longest = \"\"\n",
    "\n",
    "            # Assuming i is the mid point where palindrome is odd char long\n",
    "            # Assuming i is the left mid point where palindrome is even char long\n",
    "            # Assuming i is the right mid point where palindrome is even char long\n",
    "            for left, right in [[idx - 1, idx + 1], [idx, idx + 1], [idx - 1, idx]]:\n",
    "\n",
    "                while left >= 0 and right < N and s[left] == s[right]:\n",
    "                    left -= 1\n",
    "                    right += 1\n",
    "\n",
    "                longest = longest if right - left - 2 < len(longest) else s[left + 1: right]\n",
    "\n",
    "            return longest\n",
    "\n",
    "        longest = \"\"\n",
    "        for i in range(N):\n",
    "            curr = longestPalindromeAtIndex(i)\n",
    "            if len(curr) > len(longest):\n",
    "                longest = curr\n",
    "\n",
    "        return longest\n",
    "\n",
    "# Testing the Solution\n",
    "assert Solution().longestPalindrome(\"abaaba\") == \"abaaba\"\n",
    "assert Solution().longestPalindrome(\"abaaba\") == \"abaaba\"\n",
    "assert Solution().longestPalindrome(\"abaaaba\") == \"abaaaba\"\n",
    "assert Solution().longestPalindrome(\"babad\") == \"bab\"\n",
    "assert Solution().longestPalindrome(\"cbbd\") == \"bb\""
   ]
  },
  {
   "cell_type": "markdown",
   "id": "d455d466",
   "metadata": {
    "papermill": {
     "duration": 0.020404,
     "end_time": "2024-01-28T15:13:48.474665",
     "exception": false,
     "start_time": "2024-01-28T15:13:48.454261",
     "status": "completed"
    },
    "tags": []
   },
   "source": [
    "# 27. \n",
    "Date: 18th Jan 2024<br>\n",
    "Medium Leetcode: gas-station<br>\n",
    "Solution: https://leetcode.com/problems/gas-station/submissions/1149948924"
   ]
  },
  {
   "cell_type": "code",
   "execution_count": 29,
   "id": "9bfd389e",
   "metadata": {
    "execution": {
     "iopub.execute_input": "2024-01-28T15:13:48.517308Z",
     "iopub.status.busy": "2024-01-28T15:13:48.516630Z",
     "iopub.status.idle": "2024-01-28T15:13:48.525406Z",
     "shell.execute_reply": "2024-01-28T15:13:48.524109Z"
    },
    "papermill": {
     "duration": 0.033051,
     "end_time": "2024-01-28T15:13:48.528259",
     "exception": false,
     "start_time": "2024-01-28T15:13:48.495208",
     "status": "completed"
    },
    "tags": []
   },
   "outputs": [],
   "source": [
    "class Solution:\n",
    "    def canCompleteCircuit(self, gas: List[int], cost: List[int]) -> int:\n",
    "        \"\"\"\n",
    "        [1,2,3,4,5]\n",
    "        [3,4,5,1,2]\n",
    "\n",
    "        [-2, -2, -2, 3, 3]\n",
    "        To complete a circuit, sum should be >= 0\n",
    "        \"\"\" \n",
    "\n",
    "        N = len(gas)\n",
    "        dp = [gas[i] - cost[i] for i in range(N)]\n",
    "\n",
    "        if sum(dp) < 0:\n",
    "            return -1\n",
    "\n",
    "        else:\n",
    "\n",
    "            total = 0\n",
    "            for i in range(N - 1, -1, -1):\n",
    "                dp[i] += total\n",
    "                total = dp[i]\n",
    "\n",
    "            return dp.index(max(dp))\n",
    "\n",
    "# Testing the solution\n",
    "assert Solution().canCompleteCircuit([1,2,3,4,5], [3,4,5,1,2]) == 3\n",
    "assert Solution().canCompleteCircuit([2,3,4], [3,4,3]) == -1"
   ]
  },
  {
   "cell_type": "markdown",
   "id": "2813ac0e",
   "metadata": {
    "papermill": {
     "duration": 0.02165,
     "end_time": "2024-01-28T15:13:48.575901",
     "exception": false,
     "start_time": "2024-01-28T15:13:48.554251",
     "status": "completed"
    },
    "tags": []
   },
   "source": [
    "# 28. \n",
    "Date: 19th Jan 2024<br>\n",
    "Medium Leetcode: minimum-falling-path-sum<br>\n",
    "Solution: https://leetcode.com/problems/minimum-falling-path-sum/submissions/1150236802"
   ]
  },
  {
   "cell_type": "code",
   "execution_count": 30,
   "id": "ea83ad30",
   "metadata": {
    "execution": {
     "iopub.execute_input": "2024-01-28T15:13:48.617000Z",
     "iopub.status.busy": "2024-01-28T15:13:48.616634Z",
     "iopub.status.idle": "2024-01-28T15:13:48.625257Z",
     "shell.execute_reply": "2024-01-28T15:13:48.624160Z"
    },
    "papermill": {
     "duration": 0.031841,
     "end_time": "2024-01-28T15:13:48.627398",
     "exception": false,
     "start_time": "2024-01-28T15:13:48.595557",
     "status": "completed"
    },
    "tags": []
   },
   "outputs": [],
   "source": [
    "class Solution:\n",
    "    def minFallingPathSum(self, matrix: List[List[int]]) -> int:\n",
    "        N = len(matrix)\n",
    "        dp = matrix[N - 1]\n",
    "        for i in range(N - 2, -1, -1):\n",
    "            newrow = []\n",
    "            for j in range(N):\n",
    "                newrow.append(matrix[i][j] + min(dp[j], dp[j - 1] if j - 1 >= 0 else math.inf, dp[j + 1] if j + 1 < N else math.inf))\n",
    "            dp = newrow\n",
    "\n",
    "        return min(dp)\n",
    "\n",
    "# Testing the solution\n",
    "assert Solution().minFallingPathSum([[2,1,3],[6,5,4],[7,8,9]]) == 13\n",
    "assert Solution().minFallingPathSum([[-19,57],[-40,-5]]) == -59\n",
    "assert Solution().minFallingPathSum([[1]]) == 1"
   ]
  },
  {
   "cell_type": "markdown",
   "id": "88f5612e",
   "metadata": {
    "papermill": {
     "duration": 0.019745,
     "end_time": "2024-01-28T15:13:48.666485",
     "exception": false,
     "start_time": "2024-01-28T15:13:48.646740",
     "status": "completed"
    },
    "tags": []
   },
   "source": [
    "# 29. \n",
    "Date: 19th Jan 2024<br>\n",
    "Medium Leetcode: decode-string<br>\n",
    "Solution: https://leetcode.com/problems/decode-string/submissions/1150250564"
   ]
  },
  {
   "cell_type": "code",
   "execution_count": 31,
   "id": "844f53bc-c822-4deb-a4e6-c40591db75c4",
   "metadata": {
    "execution": {
     "iopub.execute_input": "2024-01-28T15:13:48.709476Z",
     "iopub.status.busy": "2024-01-28T15:13:48.708757Z",
     "iopub.status.idle": "2024-01-28T15:13:48.718125Z",
     "shell.execute_reply": "2024-01-28T15:13:48.716748Z"
    },
    "papermill": {
     "duration": 0.033819,
     "end_time": "2024-01-28T15:13:48.720285",
     "exception": false,
     "start_time": "2024-01-28T15:13:48.686466",
     "status": "completed"
    },
    "tags": []
   },
   "outputs": [],
   "source": [
    "class Solution:\n",
    "    def decodeString(self, s: str) -> str:\n",
    "        stack = []\n",
    "        for ch in s:\n",
    "            if ch != \"]\":\n",
    "                stack.append(ch)\n",
    "            else:\n",
    "                \n",
    "                to_repeat = []\n",
    "                prev_ch = \"\"\n",
    "                while prev_ch != \"[\":\n",
    "                    to_repeat.append(prev_ch)\n",
    "                    prev_ch = stack.pop()\n",
    "                to_repeat = \"\".join(to_repeat[::-1])\n",
    "\n",
    "                repeat_count = []\n",
    "                while len(stack):\n",
    "                    prev_ch = stack[-1]\n",
    "                    if prev_ch.isnumeric():\n",
    "                        repeat_count.append(prev_ch)\n",
    "                        stack.pop()\n",
    "                    else:\n",
    "                        break\n",
    "                repeat_count = int(\"\".join(repeat_count[::-1]))\n",
    "\n",
    "                stack.append(to_repeat * repeat_count)\n",
    "\n",
    "        return \"\".join(stack)\n",
    "\n",
    "# Testing the solution\n",
    "assert Solution().decodeString(\"1[y]5[z2[x]3[k2[p]]]\") == \"yzxxkppkppkppzxxkppkppkppzxxkppkppkppzxxkppkppkppzxxkppkppkpp\""
   ]
  },
  {
   "cell_type": "markdown",
   "id": "74620a5f",
   "metadata": {
    "papermill": {
     "duration": 0.019653,
     "end_time": "2024-01-28T15:13:48.760038",
     "exception": false,
     "start_time": "2024-01-28T15:13:48.740385",
     "status": "completed"
    },
    "tags": []
   },
   "source": [
    "# 30. \n",
    "Date: 19th Jan 2024<br>\n",
    "Medium Leetcode: clone-graph<br>\n",
    "Solution: https://leetcode.com/problems/clone-graph/submissions/1150260315/"
   ]
  },
  {
   "cell_type": "code",
   "execution_count": 32,
   "id": "33100161",
   "metadata": {
    "execution": {
     "iopub.execute_input": "2024-01-28T15:13:48.804141Z",
     "iopub.status.busy": "2024-01-28T15:13:48.803457Z",
     "iopub.status.idle": "2024-01-28T15:13:48.812088Z",
     "shell.execute_reply": "2024-01-28T15:13:48.810570Z"
    },
    "papermill": {
     "duration": 0.034571,
     "end_time": "2024-01-28T15:13:48.815560",
     "exception": false,
     "start_time": "2024-01-28T15:13:48.780989",
     "status": "completed"
    },
    "tags": []
   },
   "outputs": [],
   "source": [
    "class Node:\n",
    "    def __init__(self, val = 0, neighbors = None):\n",
    "        self.val = val\n",
    "        self.neighbors = neighbors if neighbors is not None else []\n",
    "\n",
    "class Solution:\n",
    "    def __init__(self):\n",
    "        self.graph = dict()\n",
    "\n",
    "    def cloneGraph(self, node: Node) -> Node:\n",
    "        if not node:\n",
    "            return node\n",
    "        elif node.val in self.graph:\n",
    "            return self.graph[node.val]\n",
    "        else:\n",
    "            clone = Node(node.val, [])\n",
    "            self.graph[node.val] = clone\n",
    "            neighbors = [self.cloneGraph(neighbor) for neighbor in node.neighbors]\n",
    "            clone.neighbors = neighbors\n",
    "            return clone"
   ]
  },
  {
   "cell_type": "markdown",
   "id": "200765e9",
   "metadata": {
    "papermill": {
     "duration": 0.020859,
     "end_time": "2024-01-28T15:13:48.856910",
     "exception": false,
     "start_time": "2024-01-28T15:13:48.836051",
     "status": "completed"
    },
    "tags": []
   },
   "source": [
    "# 31. \n",
    "Date: 19th Jan 2024<br>\n",
    "Medium Leetcode: count-good-nodes-in-binary-tree<br>\n",
    "Solution: https://leetcode.com/problems/count-good-nodes-in-binary-tree/submissions/1150270252"
   ]
  },
  {
   "cell_type": "code",
   "execution_count": 33,
   "id": "02d995e3",
   "metadata": {
    "execution": {
     "iopub.execute_input": "2024-01-28T15:13:48.901115Z",
     "iopub.status.busy": "2024-01-28T15:13:48.900328Z",
     "iopub.status.idle": "2024-01-28T15:13:48.909235Z",
     "shell.execute_reply": "2024-01-28T15:13:48.907579Z"
    },
    "papermill": {
     "duration": 0.034377,
     "end_time": "2024-01-28T15:13:48.911610",
     "exception": false,
     "start_time": "2024-01-28T15:13:48.877233",
     "status": "completed"
    },
    "tags": []
   },
   "outputs": [],
   "source": [
    "class Solution:\n",
    "    def __init__(self):\n",
    "        self.goodNodeCount = 0\n",
    "\n",
    "    def goodNodes(self, curr: BinaryTreeNode, maximum=-math.inf) -> int:\n",
    "\n",
    "        if not curr:\n",
    "            return\n",
    "\n",
    "        if curr.val >= maximum:\n",
    "            self.goodNodeCount += 1\n",
    "\n",
    "        self.goodNodes(curr.left, maximum=max(maximum, curr.val)) \n",
    "        self.goodNodes(curr.right, maximum=max(maximum, curr.val)) \n",
    "\n",
    "        return self.goodNodeCount\n",
    "\n",
    "# Testing the solution\n",
    "assert Solution().goodNodes(BinaryTreeNode.from_array([3,1,4,3,None,1,5])) == 4\n",
    "assert Solution().goodNodes(BinaryTreeNode.from_array([3,1,5,3,None,1,4])) == 3\n",
    "assert Solution().goodNodes(BinaryTreeNode.from_array([1])) == 1\n",
    "assert Solution().goodNodes(BinaryTreeNode.from_array([3,3,None,4,2])) == 3"
   ]
  },
  {
   "cell_type": "markdown",
   "id": "13fc981b",
   "metadata": {
    "papermill": {
     "duration": 0.020894,
     "end_time": "2024-01-28T15:13:48.952348",
     "exception": false,
     "start_time": "2024-01-28T15:13:48.931454",
     "status": "completed"
    },
    "tags": []
   },
   "source": [
    "# 32. \n",
    "Date: 19th Jan 2024<br>\n",
    "Medium Leetcode: redundant-connection<br>\n",
    "Solution: https://leetcode.com/problems/redundant-connection/submissions/1150754530"
   ]
  },
  {
   "cell_type": "code",
   "execution_count": 34,
   "id": "6da0e1a4",
   "metadata": {
    "execution": {
     "iopub.execute_input": "2024-01-28T15:13:48.999484Z",
     "iopub.status.busy": "2024-01-28T15:13:48.998819Z",
     "iopub.status.idle": "2024-01-28T15:13:49.013540Z",
     "shell.execute_reply": "2024-01-28T15:13:49.012285Z"
    },
    "papermill": {
     "duration": 0.041318,
     "end_time": "2024-01-28T15:13:49.015534",
     "exception": false,
     "start_time": "2024-01-28T15:13:48.974216",
     "status": "completed"
    },
    "tags": []
   },
   "outputs": [],
   "source": [
    "class Solution:\n",
    "    def findRedundantConnection_(self, edges: List[List[int]]) -> List[int]:\n",
    "        def DFS(start, end, visited=set()) -> bool:\n",
    "            neighbours = paths[start]\n",
    "            if end in neighbours:\n",
    "                return True\n",
    "            else:\n",
    "                return any(DFS(curr, end, {*visited, start}) for curr in neighbours if curr not in visited)\n",
    "\n",
    "        paths = dict()\n",
    "        for start, end in edges:\n",
    "            if start not in paths or end not in paths:\n",
    "                paths[start] = paths.get(start, set())\n",
    "                paths[end] = paths.get(end, set())\n",
    "                paths[start].add(end)\n",
    "                paths[end].add(start)\n",
    "            else:\n",
    "                # DFS to see if a connection already exists, create shortcuts\n",
    "                if DFS(start, end):\n",
    "                    return [start, end]\n",
    "                else:\n",
    "                    paths[start].add(end)\n",
    "                    paths[end].add(start)\n",
    "\n",
    "    def findRedundantConnection(self, edges: List[List[int]]) -> List[int]:\n",
    "        islands = []\n",
    "        for start, end in edges:\n",
    "\n",
    "            # Find the island where start, end can be found\n",
    "            start_idx = end_idx = -1\n",
    "            for i in range(len(islands)):\n",
    "                if start in islands[i]:\n",
    "                    start_idx = i\n",
    "                if end in islands[i]:\n",
    "                    end_idx = i\n",
    "                if start_idx != -1 and end_idx != -1:\n",
    "                    break\n",
    "\n",
    "            # Based on whether start, end exists and where, we execute different scenarios\n",
    "            if start_idx == -1 and end_idx == -1:\n",
    "                islands.append({start, end})\n",
    "            elif start_idx == -1:\n",
    "                islands[end_idx].add(start)\n",
    "            elif end_idx == -1:\n",
    "                islands[start_idx].add(end)\n",
    "            else:\n",
    "                if start_idx == end_idx:\n",
    "                    return [start, end]\n",
    "                else:\n",
    "                    # Merge the islands\n",
    "                    island_1 = islands.pop(start_idx)\n",
    "                    island_2 = islands.pop(end_idx - (1 if start_idx < end_idx else 0))\n",
    "                    islands.append({*island_1, *island_2})\n",
    "\n",
    "# Testing the solution\n",
    "assert Solution().findRedundantConnection([[1,2],[1,3],[2,3]]) == [2, 3]\n",
    "assert Solution().findRedundantConnection([[1,2],[2,3],[3,4],[1,4],[1,5]]) == [1, 4]\n",
    "assert Solution().findRedundantConnection([[3,4],[1,2],[2,4],[3,5],[2,5]]) == [2, 5]"
   ]
  },
  {
   "cell_type": "markdown",
   "id": "e5e0ef3d",
   "metadata": {
    "papermill": {
     "duration": 0.020422,
     "end_time": "2024-01-28T15:13:49.055371",
     "exception": false,
     "start_time": "2024-01-28T15:13:49.034949",
     "status": "completed"
    },
    "tags": []
   },
   "source": [
    "# 33. \n",
    "Date: 19th Jan 2024<br>\n",
    "Medium Leetcode: find-peak-element<br>\n",
    "Solution: https://leetcode.com/problems/find-peak-element/submissions/1150772011"
   ]
  },
  {
   "cell_type": "code",
   "execution_count": 35,
   "id": "0bdcccb8",
   "metadata": {
    "execution": {
     "iopub.execute_input": "2024-01-28T15:13:49.100969Z",
     "iopub.status.busy": "2024-01-28T15:13:49.100540Z",
     "iopub.status.idle": "2024-01-28T15:13:49.109909Z",
     "shell.execute_reply": "2024-01-28T15:13:49.108662Z"
    },
    "papermill": {
     "duration": 0.033859,
     "end_time": "2024-01-28T15:13:49.112063",
     "exception": false,
     "start_time": "2024-01-28T15:13:49.078204",
     "status": "completed"
    },
    "tags": []
   },
   "outputs": [],
   "source": [
    "class Solution:\n",
    "    def findPeakElement(self, nums: List[int]) -> int:\n",
    "\n",
    "        N = len(nums)\n",
    "        start, end = 0, N - 1\n",
    "        while start <= end:\n",
    "\n",
    "            mid = (start + end) // 2\n",
    "            curr = nums[mid]\n",
    "            left = nums[mid - 1] if mid - 1 >= 0 else -math.inf\n",
    "            right = nums[mid + 1] if mid + 1 < N else -math.inf\n",
    "\n",
    "            if left < curr > right:\n",
    "                return mid\n",
    "            elif left < curr < right:\n",
    "                start = mid + 1\n",
    "            else:\n",
    "                end = mid - 1\n",
    "\n",
    "        return -1\n",
    "\n",
    "# Testing the solution\n",
    "assert Solution().findPeakElement([1,2,1,3,5,6,4]) == 5\n",
    "assert Solution().findPeakElement([1,2,3,1]) == 2\n",
    "assert Solution().findPeakElement([0,1,2,3]) == 3\n",
    "assert Solution().findPeakElement([3,2,1,0]) == 0\n",
    "assert Solution().findPeakElement([1,-5,-2,-3]) == 0"
   ]
  },
  {
   "cell_type": "markdown",
   "id": "9b98ce9d",
   "metadata": {
    "papermill": {
     "duration": 0.019916,
     "end_time": "2024-01-28T15:13:49.153288",
     "exception": false,
     "start_time": "2024-01-28T15:13:49.133372",
     "status": "completed"
    },
    "tags": []
   },
   "source": [
    "# 34. \n",
    "Date: 20th Jan 2024<br>\n",
    "Medium Leetcode: sum-of-subarray-minimums<br>\n",
    "Solution: https://leetcode.com/problems/sum-of-subarray-minimums/submissions/1151318247"
   ]
  },
  {
   "cell_type": "code",
   "execution_count": 36,
   "id": "6604a9ab",
   "metadata": {
    "execution": {
     "iopub.execute_input": "2024-01-28T15:13:49.195214Z",
     "iopub.status.busy": "2024-01-28T15:13:49.194837Z",
     "iopub.status.idle": "2024-01-28T15:13:49.207605Z",
     "shell.execute_reply": "2024-01-28T15:13:49.206351Z"
    },
    "papermill": {
     "duration": 0.037222,
     "end_time": "2024-01-28T15:13:49.209828",
     "exception": false,
     "start_time": "2024-01-28T15:13:49.172606",
     "status": "completed"
    },
    "tags": []
   },
   "outputs": [],
   "source": [
    "class Solution:\n",
    "    def sumSubarrayMins_(self, arr: List[int]) -> int:\n",
    "        N = len(arr)\n",
    "        MOD = (10 ** 9) + 7\n",
    "        result = 0\n",
    "        for i in range(N):\n",
    "            minimum = arr[i]\n",
    "            for j in range(1, N - i + 1):\n",
    "                minimum = min(minimum, arr[i + j - 1])\n",
    "                result += minimum\n",
    "\n",
    "        return result % MOD\n",
    "\n",
    "    def sumSubarrayMins(self, arr: List[int]) -> int:\n",
    "\n",
    "        N = len(arr)\n",
    "        MOD = (10 ** 9) + 7\n",
    "\n",
    "        # count of continuous Numbers left, right of arr[i] that are greater than itself\n",
    "        left = [i for i in range(N)]\n",
    "        stack = []\n",
    "        for i in range(N - 1, -1, -1):\n",
    "            while len(stack) and stack[-1][1] > arr[i]:\n",
    "                idx, _ = stack.pop()\n",
    "                left[idx] = idx - i - 1\n",
    "            stack.append((i, arr[i]))\n",
    "\n",
    "        right = [N - i - 1 for i in range(N)]\n",
    "        stack = []\n",
    "        for i in range(N):\n",
    "            # the '=' sign is needed I think (don't fully understand it) because \n",
    "            # we need to include the same value only once\n",
    "            # Without '=' sign on both, we could count it on both left and right\n",
    "            # With '=' sign on both, we would fail to count it on both left and right\n",
    "            while len(stack) and stack[-1][1] >= arr[i]: \n",
    "                idx, _ = stack.pop()\n",
    "                right[idx] = i - idx - 1\n",
    "            stack.append((i, arr[i]))\n",
    "\n",
    "        result = 0\n",
    "        for i in range(N):\n",
    "            result += (left[i] + 1) * (right[i] + 1) * arr[i]\n",
    "\n",
    "        return result % MOD\n",
    "\n",
    "# Testing the solution\n",
    "assert Solution().sumSubarrayMins([3,1,2,4]) == 17\n",
    "assert Solution().sumSubarrayMins([11,81,94,43,3]) == 444\n",
    "assert Solution().sumSubarrayMins([71,55,82,55]) == 593"
   ]
  },
  {
   "cell_type": "markdown",
   "id": "e804bed5",
   "metadata": {
    "papermill": {
     "duration": 0.019898,
     "end_time": "2024-01-28T15:13:49.249337",
     "exception": false,
     "start_time": "2024-01-28T15:13:49.229439",
     "status": "completed"
    },
    "tags": []
   },
   "source": [
    "# 35. \n",
    "Date: 20th Jan 2024<br>\n",
    "Medium Leetcode: subsets-ii<br>\n",
    "Solution: https://leetcode.com/problems/subsets-ii/submissions/1151410592"
   ]
  },
  {
   "cell_type": "code",
   "execution_count": 37,
   "id": "f64c3660",
   "metadata": {
    "execution": {
     "iopub.execute_input": "2024-01-28T15:13:49.300060Z",
     "iopub.status.busy": "2024-01-28T15:13:49.299249Z",
     "iopub.status.idle": "2024-01-28T15:13:49.312331Z",
     "shell.execute_reply": "2024-01-28T15:13:49.310652Z"
    },
    "papermill": {
     "duration": 0.044914,
     "end_time": "2024-01-28T15:13:49.314989",
     "exception": false,
     "start_time": "2024-01-28T15:13:49.270075",
     "status": "completed"
    },
    "tags": []
   },
   "outputs": [
    {
     "data": {
      "text/plain": [
       "{(),\n",
       " (1,),\n",
       " (1, 4),\n",
       " (1, 4, 4),\n",
       " (1, 4, 4, 4),\n",
       " (1, 4, 4, 4, 4),\n",
       " (4,),\n",
       " (4, 4),\n",
       " (4, 4, 4),\n",
       " (4, 4, 4, 4)}"
      ]
     },
     "execution_count": 37,
     "metadata": {},
     "output_type": "execute_result"
    }
   ],
   "source": [
    "class Solution:\n",
    "    def subsetsWithDup(self, nums: List[int]) -> List[List[int]]:\n",
    "        result = {tuple()}\n",
    "        for n in sorted(nums):\n",
    "            curr = {*result}\n",
    "            for comb in curr:\n",
    "                result.add((*comb, n))\n",
    "\n",
    "        return result\n",
    "\n",
    "# Testing the solution\n",
    "Solution().subsetsWithDup([4,4,4,1,4])"
   ]
  },
  {
   "cell_type": "markdown",
   "id": "76691058",
   "metadata": {
    "papermill": {
     "duration": 0.022665,
     "end_time": "2024-01-28T15:13:49.362414",
     "exception": false,
     "start_time": "2024-01-28T15:13:49.339749",
     "status": "completed"
    },
    "tags": []
   },
   "source": [
    "# 36. \n",
    "Date: 20th Jan 2024<br>\n",
    "Medium Leetcode: combinations<br>\n",
    "Solution: https://leetcode.com/problems/combinations/submissions/1151420623"
   ]
  },
  {
   "cell_type": "code",
   "execution_count": 38,
   "id": "68358f49",
   "metadata": {
    "execution": {
     "iopub.execute_input": "2024-01-28T15:13:49.405986Z",
     "iopub.status.busy": "2024-01-28T15:13:49.405195Z",
     "iopub.status.idle": "2024-01-28T15:13:49.416177Z",
     "shell.execute_reply": "2024-01-28T15:13:49.414868Z"
    },
    "papermill": {
     "duration": 0.035783,
     "end_time": "2024-01-28T15:13:49.418856",
     "exception": false,
     "start_time": "2024-01-28T15:13:49.383073",
     "status": "completed"
    },
    "tags": []
   },
   "outputs": [],
   "source": [
    "class Solution:\n",
    "    def combine(self, n: int, k: int) -> List[List[int]]:\n",
    "        arr = list(range(1, n + 1))\n",
    "\n",
    "        result = []\n",
    "        def backtrack(arr, curr=[]):\n",
    "            if len(curr) == k:\n",
    "                result.append(curr)\n",
    "            elif arr:\n",
    "                backtrack(arr[1:], [*curr, arr[0]])\n",
    "                backtrack(arr[1:], curr)\n",
    "\n",
    "        backtrack(arr, [])\n",
    "        return result\n",
    "\n",
    "# Testing the solution\n",
    "assert sorted(Solution().combine(4, 2)) == [[1, 2], [1, 3], [1, 4], [2, 3], [2, 4], [3, 4]]\n",
    "assert sorted(Solution().combine(4, 3)) == [[1, 2, 3], [1, 2, 4], [1, 3, 4], [2, 3, 4]]"
   ]
  },
  {
   "cell_type": "markdown",
   "id": "9ace8ade",
   "metadata": {
    "papermill": {
     "duration": 0.020045,
     "end_time": "2024-01-28T15:13:49.458834",
     "exception": false,
     "start_time": "2024-01-28T15:13:49.438789",
     "status": "completed"
    },
    "tags": []
   },
   "source": [
    "# 37. \n",
    "Date: 20th Jan 2024<br>\n",
    "Medium Leetcode: reverse-words-in-a-string<br>\n",
    "Solution: https://leetcode.com/problems/reverse-words-in-a-string/submissions/1151520485"
   ]
  },
  {
   "cell_type": "code",
   "execution_count": 39,
   "id": "74fdaf1b",
   "metadata": {
    "execution": {
     "iopub.execute_input": "2024-01-28T15:13:49.501135Z",
     "iopub.status.busy": "2024-01-28T15:13:49.500480Z",
     "iopub.status.idle": "2024-01-28T15:13:49.514192Z",
     "shell.execute_reply": "2024-01-28T15:13:49.512407Z"
    },
    "papermill": {
     "duration": 0.038348,
     "end_time": "2024-01-28T15:13:49.517193",
     "exception": false,
     "start_time": "2024-01-28T15:13:49.478845",
     "status": "completed"
    },
    "tags": []
   },
   "outputs": [],
   "source": [
    "class Solution:\n",
    "    def __init__(self):\n",
    "        self.words = []\n",
    "\n",
    "    def reverseWords_(self, s: str) -> str:\n",
    "        word = []\n",
    "        for ch in s + \" \":\n",
    "            if not ch.isspace():\n",
    "                word.append(ch)\n",
    "            elif word:\n",
    "                self.words.append(\"\".join(word))\n",
    "                word = []\n",
    "\n",
    "        return \" \".join(self.words[::-1])\n",
    "    \n",
    "    def reverseWords(self, s: str) -> str:\n",
    "        \n",
    "        def reverseWord(s_: List[str], start_: int, end_: int): \n",
    "            while start_ < end_:\n",
    "                s_[start_], s_[end_] = s_[end_], s_[start_]\n",
    "                start_ += 1\n",
    "                end_ -= 1\n",
    "\n",
    "        # O(1) space compelexity solution\n",
    "        sentence = list(s)\n",
    "        N = len(s)\n",
    "\n",
    "        # Remove white spaces in place\n",
    "        prev = \" \"\n",
    "        i = j = 0\n",
    "        while j < N:\n",
    "            if sentence[j].isspace() and prev.isspace():\n",
    "                j += 1\n",
    "            else:\n",
    "                sentence[i] = sentence[j]\n",
    "                prev = sentence[j]\n",
    "                i += 1\n",
    "                j += 1\n",
    "\n",
    "        i = i if not sentence[i - 1].isspace() else i - 1\n",
    "        sentence = sentence[:i]\n",
    "        N = max(i, 0)\n",
    "\n",
    "        # Reverse the sentence as a whole\n",
    "        sentence = sentence[::-1]\n",
    "\n",
    "        # Reverse the words in the sentence\n",
    "        start = 0\n",
    "        for i in range(N + 1):\n",
    "            if i == N or sentence[i].isspace():\n",
    "                reverseWord(sentence, start, i - 1)\n",
    "                start = i + 1\n",
    "\n",
    "        return \"\".join(sentence)\n",
    "\n",
    "# Testing the solution\n",
    "for temp in [\n",
    "    \"     hello   world   is a     coooool programming    phrase  \",\n",
    "    \"a asd a b c d\"\n",
    "]:\n",
    "    assert Solution().reverseWords(temp) == Solution().reverseWords_(temp)"
   ]
  },
  {
   "cell_type": "markdown",
   "id": "460f4fe2",
   "metadata": {
    "papermill": {
     "duration": 0.02435,
     "end_time": "2024-01-28T15:13:49.564955",
     "exception": false,
     "start_time": "2024-01-28T15:13:49.540605",
     "status": "completed"
    },
    "tags": []
   },
   "source": [
    "# 38. \n",
    "Date: 20th Jan 2024<br>\n",
    "Medium Leetcode: angle-between-hands-of-a-clock<br>\n",
    "Solution: https://leetcode.com/problems/angle-between-hands-of-a-clock/submissions/1151539829"
   ]
  },
  {
   "cell_type": "code",
   "execution_count": 40,
   "id": "f346595b",
   "metadata": {
    "execution": {
     "iopub.execute_input": "2024-01-28T15:13:49.616158Z",
     "iopub.status.busy": "2024-01-28T15:13:49.615671Z",
     "iopub.status.idle": "2024-01-28T15:13:49.623440Z",
     "shell.execute_reply": "2024-01-28T15:13:49.622055Z"
    },
    "papermill": {
     "duration": 0.038727,
     "end_time": "2024-01-28T15:13:49.625732",
     "exception": false,
     "start_time": "2024-01-28T15:13:49.587005",
     "status": "completed"
    },
    "tags": []
   },
   "outputs": [],
   "source": [
    "class Solution:\n",
    "    def angleClock(self, hour: int, minutes: int) -> float:\n",
    "        minutes_deg = (minutes / 60) * 360\n",
    "        hours_deg = ((hour / 12) * 360) + ((minutes / 60) * 30)\n",
    "        hours_deg %= 360\n",
    "        diff = abs(hours_deg - minutes_deg)\n",
    "        return min(diff, 360 - diff)\n",
    "\n",
    "# Testing the solution\n",
    "assert Solution().angleClock(3, 15) == 7.5\n",
    "assert Solution().angleClock(12, 59) == 35.5\n",
    "assert Solution().angleClock(12, 30) == 165"
   ]
  },
  {
   "cell_type": "markdown",
   "id": "37e813cd",
   "metadata": {
    "papermill": {
     "duration": 0.019995,
     "end_time": "2024-01-28T15:13:49.666081",
     "exception": false,
     "start_time": "2024-01-28T15:13:49.646086",
     "status": "completed"
    },
    "tags": []
   },
   "source": [
    "# 39. \n",
    "Date: 21th Jan 2024<br>\n",
    "Medium Leetcode: house-robber<br>\n",
    "Solution: https://leetcode.com/problems/house-robber/submissions/1152099761"
   ]
  },
  {
   "cell_type": "code",
   "execution_count": 41,
   "id": "65752da8",
   "metadata": {
    "execution": {
     "iopub.execute_input": "2024-01-28T15:13:49.711988Z",
     "iopub.status.busy": "2024-01-28T15:13:49.711098Z",
     "iopub.status.idle": "2024-01-28T15:13:49.724408Z",
     "shell.execute_reply": "2024-01-28T15:13:49.722846Z"
    },
    "papermill": {
     "duration": 0.038364,
     "end_time": "2024-01-28T15:13:49.726851",
     "exception": false,
     "start_time": "2024-01-28T15:13:49.688487",
     "status": "completed"
    },
    "tags": []
   },
   "outputs": [],
   "source": [
    "class Solution:\n",
    "\n",
    "    def rob_(self, nums: List[int], i: int = 0) -> int:\n",
    "        'Recursively solve the dp, this will work even if there are -ve values'\n",
    "        \n",
    "        @functools.cache\n",
    "        def backtrack(i: int = 0) -> int:\n",
    "            if i >= len(nums):\n",
    "                return 0\n",
    "\n",
    "            else:\n",
    "                return max(\n",
    "                    nums[i] + backtrack(i + 2),\n",
    "                    backtrack(i + 1)\n",
    "                )\n",
    "            \n",
    "        return backtrack()\n",
    "        \n",
    "    def rob(self, nums: List[int], i: int = 0) -> int:\n",
    "        'Itertively solve the problem'\n",
    "        N = len(nums)\n",
    "        dp = nums + [0, 0]\n",
    "\n",
    "        for i in range(N - 1, -1, -1):\n",
    "            dp[i] = max(dp[i] + dp[i + 2], dp[i + 1])\n",
    "\n",
    "        return dp[0]\n",
    "\n",
    "# Testing the solution\n",
    "assert Solution().rob_([1, 2, -100, -50, 100]) == Solution().rob_([1, 2, -100, -50, 100])\n",
    "assert Solution().rob_([1, 2, -3, -5, 0, 1]) == Solution().rob_([1, 2, -3, -5, 0, 1])\n",
    "assert Solution().rob_([1, 2, 1]) == Solution().rob_([1, 2, 1])"
   ]
  },
  {
   "cell_type": "markdown",
   "id": "1038534a",
   "metadata": {
    "papermill": {
     "duration": 0.019911,
     "end_time": "2024-01-28T15:13:49.767312",
     "exception": false,
     "start_time": "2024-01-28T15:13:49.747401",
     "status": "completed"
    },
    "tags": []
   },
   "source": [
    "# 40. \n",
    "Date: 21th Jan 2024<br>\n",
    "Medium Leetcode: minimum-number-of-pushes-to-type-word-ii<br>\n",
    "Solution: https://leetcode.com/problems/minimum-number-of-pushes-to-type-word-ii/submissions/1152173013"
   ]
  },
  {
   "cell_type": "code",
   "execution_count": 42,
   "id": "598b2048",
   "metadata": {
    "execution": {
     "iopub.execute_input": "2024-01-28T15:13:49.809817Z",
     "iopub.status.busy": "2024-01-28T15:13:49.808431Z",
     "iopub.status.idle": "2024-01-28T15:13:49.816405Z",
     "shell.execute_reply": "2024-01-28T15:13:49.815020Z"
    },
    "papermill": {
     "duration": 0.031866,
     "end_time": "2024-01-28T15:13:49.818970",
     "exception": false,
     "start_time": "2024-01-28T15:13:49.787104",
     "status": "completed"
    },
    "tags": []
   },
   "outputs": [],
   "source": [
    "class Solution:\n",
    "    def minimumPushes(self, word: str) -> int:\n",
    "        counter = collections.Counter(word)\n",
    "        n_pushes = dict()\n",
    "        key_count = 0\n",
    "        for k, v in counter.most_common():\n",
    "            n_pushes[k] = (key_count // 8) + 1\n",
    "            key_count += 1\n",
    "        \n",
    "        count = 0\n",
    "        for k in word:\n",
    "            count += n_pushes[k]\n",
    "        return count\n",
    "\n",
    "# Testing the solution\n",
    "assert Solution().minimumPushes(\"aabbccddeeffgghhiiiiii\") == 24\n",
    "assert Solution().minimumPushes(\"xyzxyzxyzxyz\") == 12\n",
    "assert Solution().minimumPushes(\"abcde\") == 5"
   ]
  },
  {
   "cell_type": "markdown",
   "id": "28ec0246",
   "metadata": {
    "papermill": {
     "duration": 0.019699,
     "end_time": "2024-01-28T15:13:49.858179",
     "exception": false,
     "start_time": "2024-01-28T15:13:49.838480",
     "status": "completed"
    },
    "tags": []
   },
   "source": [
    "# 41. \n",
    "Date: 21th Jan 2024<br>\n",
    "Medium Leetcode: count-the-number-of-houses-at-a-certain-distance-i<br>\n",
    "Solution: https://leetcode.com/problems/count-the-number-of-houses-at-a-certain-distance-i/submissions/1152316123/"
   ]
  },
  {
   "cell_type": "code",
   "execution_count": 43,
   "id": "4e3c3bbe",
   "metadata": {
    "execution": {
     "iopub.execute_input": "2024-01-28T15:13:49.902139Z",
     "iopub.status.busy": "2024-01-28T15:13:49.901045Z",
     "iopub.status.idle": "2024-01-28T15:13:49.912791Z",
     "shell.execute_reply": "2024-01-28T15:13:49.911266Z"
    },
    "papermill": {
     "duration": 0.037146,
     "end_time": "2024-01-28T15:13:49.915113",
     "exception": false,
     "start_time": "2024-01-28T15:13:49.877967",
     "status": "completed"
    },
    "tags": []
   },
   "outputs": [],
   "source": [
    "class Solution:\n",
    "    def countOfPairs(self, n: int, x: int, y: int) -> List[int]:\n",
    "\n",
    "        # Adjacency list creation\n",
    "        paths = dict()\n",
    "        for i in range(1, n):\n",
    "            paths[i] = {*paths.get(i, set()), i + 1}\n",
    "            paths[i + 1] = {*paths.get(i + 1, set()), i}\n",
    "        \n",
    "        # Adding the shortcut\n",
    "        if x != y:\n",
    "            paths[x].add(y)\n",
    "            paths[y].add(x)\n",
    "\n",
    "        result = [0] * n\n",
    "        for curr in range(1, n + 1):\n",
    "            visited = {curr}\n",
    "            to_visit = paths[curr]\n",
    "            dist = 1\n",
    "            while to_visit:\n",
    "                next_to_visit = set()\n",
    "                for next_ in to_visit:\n",
    "                    if next_ not in visited:\n",
    "                        result[dist - 1] += 1\n",
    "                        next_to_visit = {*next_to_visit, *paths[next_]}\n",
    "                        visited.add(next_)\n",
    "                to_visit = next_to_visit\n",
    "                dist += 1\n",
    "        \n",
    "        return result\n",
    "\n",
    "# Testing the solution\n",
    "assert Solution().countOfPairs(3, 1, 3) == [6, 0, 0]\n",
    "assert Solution().countOfPairs(5, 2, 4) == [10,8,2,0,0]\n",
    "assert Solution().countOfPairs(4, 2, 1) == [6,4,2,0]"
   ]
  },
  {
   "cell_type": "markdown",
   "id": "b4b90539",
   "metadata": {
    "papermill": {
     "duration": 0.021056,
     "end_time": "2024-01-28T15:13:49.957959",
     "exception": false,
     "start_time": "2024-01-28T15:13:49.936903",
     "status": "completed"
    },
    "tags": []
   },
   "source": [
    "# 42. \n",
    "Date: 21th Jan 2024<br>\n",
    "Medium Leetcode: basic-calculator-ii<br>\n",
    "Solution: https://leetcode.com/problems/basic-calculator-ii/submissions/1152355111"
   ]
  },
  {
   "cell_type": "code",
   "execution_count": 44,
   "id": "ab846423",
   "metadata": {
    "execution": {
     "iopub.execute_input": "2024-01-28T15:13:50.002761Z",
     "iopub.status.busy": "2024-01-28T15:13:50.002393Z",
     "iopub.status.idle": "2024-01-28T15:13:50.015170Z",
     "shell.execute_reply": "2024-01-28T15:13:50.013698Z"
    },
    "papermill": {
     "duration": 0.038234,
     "end_time": "2024-01-28T15:13:50.017280",
     "exception": false,
     "start_time": "2024-01-28T15:13:49.979046",
     "status": "completed"
    },
    "tags": []
   },
   "outputs": [],
   "source": [
    "class Solution:\n",
    "    def calculate(self, s: str) -> int:\n",
    "        'DMAS - Division, Multiplication, Addition, Subtraction'\n",
    "\n",
    "        # Store the results here\n",
    "        result = []\n",
    "\n",
    "        # Remove whitespaces and aggregate the integers, ops together\n",
    "        acc = []\n",
    "        for ch in s + \"$\":\n",
    "            if ch.isnumeric():\n",
    "                acc.append(ch)\n",
    "            elif ch in (\"+\", \"/\", \"*\", \"-\"):\n",
    "                result.append(int(\"\".join(acc)))\n",
    "                result.append(ch)\n",
    "                acc = []\n",
    "            elif ch == \"$\":\n",
    "                result.append(int(\"\".join(acc)))\n",
    "\n",
    "        # Multiplication / Division first followed by addition / subtraction in LTR order\n",
    "        for op in [\"*/\", \"+-\"]:\n",
    "            acc = []\n",
    "            prev = \"$\" # Some random character\n",
    "            for ch in result:\n",
    "                if type(ch) == int:\n",
    "                    if prev in op:\n",
    "                        if prev == \"/\":\n",
    "                            acc.append(acc.pop() // ch)\n",
    "                        elif prev == \"*\":\n",
    "                            acc.append(acc.pop() * ch)\n",
    "                        elif prev == \"+\":\n",
    "                            acc.append(acc.pop() + ch)\n",
    "                        else:\n",
    "                            acc.append(acc.pop() - ch)\n",
    "                    else:\n",
    "                        acc.append(ch)\n",
    "                elif ch not in op:\n",
    "                    acc.append(ch)\n",
    "                prev = ch\n",
    "\n",
    "            result = acc\n",
    "\n",
    "        assert len(result) == 1\n",
    "        return result[0]\n",
    "\n",
    "# Testing the solution\n",
    "assert Solution().calculate(\"1+2*5/3+6/4*2\") == 6\n",
    "assert Solution().calculate(\"  44/2-2*    3+ 5\") == 21\n",
    "assert Solution().calculate(\" 4 / 2 / 2\") == 1\n",
    "assert Solution().calculate(\"3+2*2\") == 7\n",
    "assert Solution().calculate(\" 3/2 \") == 1\n",
    "assert Solution().calculate(\" 3+5 / 2 \") == 5\n",
    "assert Solution().calculate(\"4/2-2*3+5\") == 1\n",
    "assert Solution().calculate(\"2 - 6 + 5\") == 1"
   ]
  },
  {
   "cell_type": "markdown",
   "id": "423a725d",
   "metadata": {
    "papermill": {
     "duration": 0.020161,
     "end_time": "2024-01-28T15:13:50.056990",
     "exception": false,
     "start_time": "2024-01-28T15:13:50.036829",
     "status": "completed"
    },
    "tags": []
   },
   "source": [
    "# 43. \n",
    "Date: 22th Jan 2024<br>\n",
    "Medium Leetcode: 4sum<br>\n",
    "Solution: https://leetcode.com/problems/4sum/submissions/1153131773"
   ]
  },
  {
   "cell_type": "code",
   "execution_count": 45,
   "id": "573f717f",
   "metadata": {
    "execution": {
     "iopub.execute_input": "2024-01-28T15:13:50.101338Z",
     "iopub.status.busy": "2024-01-28T15:13:50.100551Z",
     "iopub.status.idle": "2024-01-28T15:13:50.116329Z",
     "shell.execute_reply": "2024-01-28T15:13:50.115027Z"
    },
    "papermill": {
     "duration": 0.040664,
     "end_time": "2024-01-28T15:13:50.118546",
     "exception": false,
     "start_time": "2024-01-28T15:13:50.077882",
     "status": "completed"
    },
    "tags": []
   },
   "outputs": [],
   "source": [
    "class Solution:\n",
    "    def fourSum_(self, nums: List[int], target: int) -> List[List[int]]:\n",
    "        \"Time complexity of O(N^3). It always runs O(N^3) iterations\"\n",
    "\n",
    "        N = len(nums)\n",
    "        result = set()\n",
    "\n",
    "        indices = dict()\n",
    "        for i in range(N):\n",
    "            index = indices.get(nums[i], set())\n",
    "            index.add(i)\n",
    "            indices[nums[i]] = index \n",
    "\n",
    "        for i in range(N - 3):\n",
    "            for j in range(i + 1, N - 2):\n",
    "                for k in range(j + 1, N - 1):\n",
    "                    total = nums[i] + nums[j] + nums[k]\n",
    "                    index = set.difference(indices.get(target - total, set()), {i, j, k})\n",
    "                    if len(index):\n",
    "                        l = index.pop()\n",
    "                        result.add(tuple(sorted((nums[i], nums[j], nums[k], nums[l]))))\n",
    "\n",
    "        return result\n",
    "\n",
    "    def fourSum(self, nums: List[int], target: int) -> List[List[int]]:\n",
    "        \"Time compelexity is O(N^3) and runs the entire iteration\"\n",
    "\n",
    "        # Sort the array for using the two pointer approach\n",
    "        nums.sort()\n",
    "        N = len(nums)\n",
    "\n",
    "        result = set()\n",
    "        for i in range(N - 3):\n",
    "            for j in range(i + 1, N - 2):\n",
    "                remaining = target - nums[i] - nums[j]\n",
    "                start, end = j + 1, N - 1\n",
    "                while start < end:\n",
    "                    total = nums[start] + nums[end]\n",
    "                    if total < remaining:\n",
    "                        start += 1\n",
    "                    elif total > remaining:\n",
    "                        end -= 1\n",
    "                    else:\n",
    "                        result.add(tuple(sorted((nums[i], nums[j], nums[start], nums[end]))))\n",
    "                        start += 1\n",
    "                        end -= 1\n",
    "\n",
    "        return result\n",
    "\n",
    "# Testing the solution\n",
    "assert sorted(Solution().fourSum([2,2,2,2,2], 8)) == [(2,2,2,2)]\n",
    "assert sorted(Solution().fourSum([-1,-2,1,0,1,2,3,-3,0,1,2], -6)) == [(-3,-2,-1,0)]\n",
    "assert sorted(Solution().fourSum([1,2,2,2], 0)) == []\n",
    "assert sorted(Solution().fourSum([1,2,2,2], 7)) == [(1,2,2,2)]\n",
    "assert sorted(Solution().fourSum([-3,-1,0,2,4,5], 0)) == [(-3,-1,0,4)]\n",
    "assert sorted(Solution().fourSum([0,0,0], 0)) == []"
   ]
  },
  {
   "cell_type": "markdown",
   "id": "b82e33ac",
   "metadata": {
    "papermill": {
     "duration": 0.019595,
     "end_time": "2024-01-28T15:13:50.157646",
     "exception": false,
     "start_time": "2024-01-28T15:13:50.138051",
     "status": "completed"
    },
    "tags": []
   },
   "source": [
    "# 44. \n",
    "Date: 23th Jan 2024<br>\n",
    "Medium Leetcode: maximum-length-of-a-concatenated-string-with-unique-characters<br>\n",
    "Solution: https://leetcode.com/problems/maximum-length-of-a-concatenated-string-with-unique-characters/submissions/1154144877"
   ]
  },
  {
   "cell_type": "code",
   "execution_count": 46,
   "id": "a514e4d3",
   "metadata": {
    "execution": {
     "iopub.execute_input": "2024-01-28T15:13:50.201145Z",
     "iopub.status.busy": "2024-01-28T15:13:50.200448Z",
     "iopub.status.idle": "2024-01-28T15:13:50.209218Z",
     "shell.execute_reply": "2024-01-28T15:13:50.208040Z"
    },
    "papermill": {
     "duration": 0.032442,
     "end_time": "2024-01-28T15:13:50.211318",
     "exception": false,
     "start_time": "2024-01-28T15:13:50.178876",
     "status": "completed"
    },
    "tags": []
   },
   "outputs": [],
   "source": [
    "class Solution:\n",
    "    def maxLength(self, arr: List[str]) -> int:\n",
    "\n",
    "        def backtrack(curr: int, acc: set):\n",
    "            if len(setArr) == 0 or curr >= N:\n",
    "                nonlocal maxLen\n",
    "                maxLen = max(maxLen, len(acc))\n",
    "            else:\n",
    "                if not set.intersection(setArr[curr], acc):\n",
    "                    backtrack(curr + 1, {*acc, *setArr[curr]})\n",
    "                backtrack(curr + 1, acc)\n",
    "\n",
    "        setArr = list(map(set, arr))\n",
    "        N = len(arr)\n",
    "        maxLen = -math.inf\n",
    "\n",
    "        backtrack(0, set())\n",
    "        return maxLen\n",
    "\n",
    "# Testing the solution\n",
    "assert Solution().maxLength([\"un\",\"iq\",\"ue\"]) == 4\n",
    "assert Solution().maxLength([\"cha\",\"r\",\"act\",\"ers\"]) == 6\n",
    "assert Solution().maxLength([\"abcdefghijklmnopqrstuvwxyz\"]) == 26"
   ]
  },
  {
   "cell_type": "markdown",
   "id": "df6866b2",
   "metadata": {
    "papermill": {
     "duration": 0.021108,
     "end_time": "2024-01-28T15:13:50.253070",
     "exception": false,
     "start_time": "2024-01-28T15:13:50.231962",
     "status": "completed"
    },
    "tags": []
   },
   "source": [
    "# 45. \n",
    "Date: 23th Jan 2024<br>\n",
    "Medium Leetcode: group-the-people-given-the-group-size-they-belong-to<br>\n",
    "Solution: https://leetcode.com/problems/group-the-people-given-the-group-size-they-belong-to/submissions/1154160920/"
   ]
  },
  {
   "cell_type": "code",
   "execution_count": 47,
   "id": "6aa0d70e",
   "metadata": {
    "execution": {
     "iopub.execute_input": "2024-01-28T15:13:50.295493Z",
     "iopub.status.busy": "2024-01-28T15:13:50.294802Z",
     "iopub.status.idle": "2024-01-28T15:13:50.305655Z",
     "shell.execute_reply": "2024-01-28T15:13:50.304244Z"
    },
    "papermill": {
     "duration": 0.034522,
     "end_time": "2024-01-28T15:13:50.307809",
     "exception": false,
     "start_time": "2024-01-28T15:13:50.273287",
     "status": "completed"
    },
    "tags": []
   },
   "outputs": [],
   "source": [
    "class Solution:\n",
    "    def groupThePeople(self, groupSizes: List[int]) -> List[List[int]]:\n",
    "\n",
    "        N = len(groupSizes) \n",
    "        result = []\n",
    "        store = dict()\n",
    "        for i in range(N):\n",
    "            groupSize = groupSizes[i]\n",
    "            curr = store.get(groupSize, [])\n",
    "\n",
    "            curr.append(i)\n",
    "            if len(curr) == groupSize:\n",
    "                result.append(curr[:])\n",
    "                curr = []\n",
    "\n",
    "            store[groupSize] = curr\n",
    "\n",
    "        return result\n",
    "\n",
    "# Testing the solution\n",
    "assert Solution().groupThePeople([3,3,3,3,3,1,3]) == [[0,1,2],[5],[3,4,6]]\n",
    "assert Solution().groupThePeople([2,1,3,3,3,2]) == [[1],[2,3,4],[0,5]]\n",
    "assert Solution().groupThePeople([1,1,1,1,1,1,1]) == [[0],[1],[2],[3],[4],[5],[6]]\n",
    "assert Solution().groupThePeople([5,5,5,5,5]) == [[0,1,2,3,4]]\n",
    "assert Solution().groupThePeople([1,2,2,3,3,3,4,4,4,4]) == [[0],[1,2],[3,4,5],[6,7,8,9]]"
   ]
  },
  {
   "cell_type": "markdown",
   "id": "7b4291a7",
   "metadata": {
    "papermill": {
     "duration": 0.02073,
     "end_time": "2024-01-28T15:13:50.349302",
     "exception": false,
     "start_time": "2024-01-28T15:13:50.328572",
     "status": "completed"
    },
    "tags": []
   },
   "source": [
    "# 46. \n",
    "Date: 24th Jan 2024<br>\n",
    "Medium Leetcode: pseudo-palindromic-paths-in-a-binary-tree<br>\n",
    "Solution: "
   ]
  },
  {
   "cell_type": "code",
   "execution_count": 48,
   "id": "82032137",
   "metadata": {
    "execution": {
     "iopub.execute_input": "2024-01-28T15:13:50.394266Z",
     "iopub.status.busy": "2024-01-28T15:13:50.393591Z",
     "iopub.status.idle": "2024-01-28T15:13:50.402620Z",
     "shell.execute_reply": "2024-01-28T15:13:50.401039Z"
    },
    "papermill": {
     "duration": 0.033054,
     "end_time": "2024-01-28T15:13:50.404695",
     "exception": false,
     "start_time": "2024-01-28T15:13:50.371641",
     "status": "completed"
    },
    "tags": []
   },
   "outputs": [],
   "source": [
    "class Solution:\n",
    "    def pseudoPalindromicPaths (self, root: BinaryTreeNode) -> int: \n",
    "        \n",
    "        \"\"\"\n",
    "        Count the digits that are occuring 1 times. It should 1 or 0.\n",
    "        11221 - palindrome (21112)\n",
    "        1122 - palindrome (1221)\n",
    "\n",
    "        We can alternatively use an array and keep track of the count of times each digit comes up\n",
    "        In the end repeat, but bit solution is more memory efficient.\n",
    "        \"\"\"\n",
    "\n",
    "        def backtrack(root: BinaryTreeNode, count: int = 0):\n",
    "            if not root:\n",
    "                return 0\n",
    "            elif not root.left and not root.right:\n",
    "                count ^= (1 << (root.val - 1)) \n",
    "                return int(count & (count - 1) == 0)\n",
    "            else:\n",
    "                count ^= (1 << (root.val - 1)) \n",
    "                return backtrack(root.left, count) + backtrack(root.right, count)\n",
    "\n",
    "        return backtrack(root)\n",
    "\n",
    "# Testing the solution\n",
    "assert Solution().pseudoPalindromicPaths(BinaryTreeNode.from_array([2,1,1,1,3,None,None,None,None,None,1])) == 1\n",
    "assert Solution().pseudoPalindromicPaths(BinaryTreeNode.from_array([2,3,1,3,1,None,1])) == 2\n",
    "assert Solution().pseudoPalindromicPaths(BinaryTreeNode.from_array([1])) == 1"
   ]
  },
  {
   "cell_type": "markdown",
   "id": "1341c39c",
   "metadata": {
    "papermill": {
     "duration": 0.021726,
     "end_time": "2024-01-28T15:13:50.448722",
     "exception": false,
     "start_time": "2024-01-28T15:13:50.426996",
     "status": "completed"
    },
    "tags": []
   },
   "source": [
    "# 47. \n",
    "Date: 24th Jan 2024<br>\n",
    "Medium Leetcode: minimum-time-difference<br>\n",
    "Solution: https://leetcode.com/problems/minimum-time-difference/submissions/1155129074/"
   ]
  },
  {
   "cell_type": "code",
   "execution_count": 49,
   "id": "cc1b3e69",
   "metadata": {
    "execution": {
     "iopub.execute_input": "2024-01-28T15:13:50.491607Z",
     "iopub.status.busy": "2024-01-28T15:13:50.490650Z",
     "iopub.status.idle": "2024-01-28T15:13:50.500179Z",
     "shell.execute_reply": "2024-01-28T15:13:50.498870Z"
    },
    "papermill": {
     "duration": 0.034516,
     "end_time": "2024-01-28T15:13:50.502944",
     "exception": false,
     "start_time": "2024-01-28T15:13:50.468428",
     "status": "completed"
    },
    "tags": []
   },
   "outputs": [],
   "source": [
    "class Solution:\n",
    "    def findMinDifference(self, timePoints: List[str]) -> int:\n",
    "        def timestamp(s: str) -> int:\n",
    "            h, m = map(int, s.split(\":\"))\n",
    "            return (h * 60) + m\n",
    "            \n",
    "        ts = sorted(map(timestamp, timePoints))\n",
    "        N, minDiff = len(ts), math.inf\n",
    "        for i in range(N):\n",
    "            diff = ts[i] - ts[i - 1]\n",
    "            diff = diff if diff >= 0 else 1440 + diff\n",
    "            minDiff = min(minDiff, diff)\n",
    "\n",
    "        return minDiff\n",
    "\n",
    "# Testing the solution\n",
    "assert Solution().findMinDifference([\"23:59\",\"00:00\"]) == 1\n",
    "assert Solution().findMinDifference([\"00:00\",\"23:59\",\"00:00\"]) == 0\n",
    "assert Solution().findMinDifference([\"22:00\",\"22:59\",\"23:05\", \"23:45\", \"00:00\"]) == 6\n",
    "assert Solution().findMinDifference([\"00:00\", \"01:30\", \"02:00\", \"02:40\", \"03:30\", \"06:00\", \"07:30\", \"15:00\", \"17:20\", \"19:50\", \"22:30\"]) == 30\n",
    "assert Solution().findMinDifference([\"00:00\", \"23:50\", \"23:10\", \"23:02\", \"22:58\", \"22:01\", \"21:59\"]) == 2"
   ]
  },
  {
   "cell_type": "markdown",
   "id": "8714c517",
   "metadata": {
    "papermill": {
     "duration": 0.021137,
     "end_time": "2024-01-28T15:13:50.545966",
     "exception": false,
     "start_time": "2024-01-28T15:13:50.524829",
     "status": "completed"
    },
    "tags": []
   },
   "source": [
    "# 48. \n",
    "Date: 24th Jan 2024<br>\n",
    "Medium Leetcode: difference-between-ones-and-zeros-in-row-and-column<br>\n",
    "Solution: https://leetcode.com/problems/difference-between-ones-and-zeros-in-row-and-column/submissions/1155587150/"
   ]
  },
  {
   "cell_type": "code",
   "execution_count": 50,
   "id": "1be370d9",
   "metadata": {
    "execution": {
     "iopub.execute_input": "2024-01-28T15:13:50.594001Z",
     "iopub.status.busy": "2024-01-28T15:13:50.593317Z",
     "iopub.status.idle": "2024-01-28T15:13:50.604276Z",
     "shell.execute_reply": "2024-01-28T15:13:50.602926Z"
    },
    "papermill": {
     "duration": 0.035718,
     "end_time": "2024-01-28T15:13:50.606321",
     "exception": false,
     "start_time": "2024-01-28T15:13:50.570603",
     "status": "completed"
    },
    "tags": []
   },
   "outputs": [],
   "source": [
    "class Solution:\n",
    "    def onesMinusZeros(self, grid: List[List[int]]) -> List[List[int]]:\n",
    "        N = len(grid) \n",
    "        M = len(grid[0]) \n",
    "\n",
    "        rowC = []\n",
    "        for i in range(N):\n",
    "            zeroC = oneC = 0\n",
    "            for j in range(M):\n",
    "                if grid[i][j] == 0:\n",
    "                    zeroC += 1\n",
    "                else:\n",
    "                    oneC += 1\n",
    "            rowC.append(oneC - zeroC)\n",
    "\n",
    "        colC = []\n",
    "        for j in range(M):\n",
    "            zeroC = oneC = 0\n",
    "            for i in range(N):\n",
    "                if grid[i][j] == 0:\n",
    "                    zeroC += 1\n",
    "                else:\n",
    "                    oneC += 1\n",
    "            colC.append(oneC - zeroC)\n",
    "    \n",
    "        for i in range(N):\n",
    "            for j in range(M):\n",
    "                grid[i][j] = rowC[i] + colC[j]\n",
    "\n",
    "        return grid\n",
    "\n",
    "# Testing the solution\n",
    "assert Solution().onesMinusZeros([[0,1,1],[1,0,1],[0,0,1]]) == [[0,0,4],[0,0,4],[-2,-2,2]]\n",
    "assert Solution().onesMinusZeros([[1,1,1],[1,1,1]]) == [[5,5,5],[5,5,5]]\n",
    "assert Solution().onesMinusZeros([[1],[0]]) == [[1],[-1]]"
   ]
  },
  {
   "cell_type": "markdown",
   "id": "1fe3b351",
   "metadata": {
    "papermill": {
     "duration": 0.061126,
     "end_time": "2024-01-28T15:13:50.687396",
     "exception": false,
     "start_time": "2024-01-28T15:13:50.626270",
     "status": "completed"
    },
    "tags": []
   },
   "source": [
    "# 49. \n",
    "Date: 25th Jan 2024<br>\n",
    "Medium Leetcode: count-nodes-equal-to-average-of-subtree<br>\n",
    "Solution: "
   ]
  },
  {
   "cell_type": "code",
   "execution_count": 51,
   "id": "23ae48a3",
   "metadata": {
    "execution": {
     "iopub.execute_input": "2024-01-28T15:13:50.751924Z",
     "iopub.status.busy": "2024-01-28T15:13:50.750997Z",
     "iopub.status.idle": "2024-01-28T15:13:50.761138Z",
     "shell.execute_reply": "2024-01-28T15:13:50.759731Z"
    },
    "papermill": {
     "duration": 0.041998,
     "end_time": "2024-01-28T15:13:50.763403",
     "exception": false,
     "start_time": "2024-01-28T15:13:50.721405",
     "status": "completed"
    },
    "tags": []
   },
   "outputs": [],
   "source": [
    "class Solution:\n",
    "    def averageOfSubtree(self, root: BinaryTreeNode) -> int:\n",
    "\n",
    "        result = 0\n",
    "        def backtrack(node: BinaryTreeNode) -> [int, int]:\n",
    "            nonlocal result\n",
    "            if not node:\n",
    "                return 0, 0\n",
    "            else:\n",
    "                left = backtrack(node.left)\n",
    "                right = backtrack(node.right)\n",
    "                curr = left[0] + right[0] + node.val, left[1] + right[1] + 1\n",
    "                if curr[0] // curr[1] == node.val:\n",
    "                    result += 1\n",
    "                return curr\n",
    "\n",
    "        backtrack(root)\n",
    "        return result\n",
    "\n",
    "# Testing the solution\n",
    "assert Solution().averageOfSubtree(BinaryTreeNode.from_array([4,8,5,0,1,None,6])) == 5\n",
    "assert Solution().averageOfSubtree(BinaryTreeNode.from_array([1])) == 1"
   ]
  },
  {
   "cell_type": "markdown",
   "id": "503ff040",
   "metadata": {
    "papermill": {
     "duration": 0.094475,
     "end_time": "2024-01-28T15:13:50.878583",
     "exception": false,
     "start_time": "2024-01-28T15:13:50.784108",
     "status": "completed"
    },
    "tags": []
   },
   "source": [
    "# 50. \n",
    "Date: 25th Jan 2024<br>\n",
    "Medium Leetcode: max-increase-to-keep-city-skyline<br>\n",
    "Solution: https://leetcode.com/problems/max-increase-to-keep-city-skyline/submissions/1156154889"
   ]
  },
  {
   "cell_type": "code",
   "execution_count": 52,
   "id": "ed10fd04",
   "metadata": {
    "execution": {
     "iopub.execute_input": "2024-01-28T15:13:51.067544Z",
     "iopub.status.busy": "2024-01-28T15:13:51.065747Z",
     "iopub.status.idle": "2024-01-28T15:13:51.088872Z",
     "shell.execute_reply": "2024-01-28T15:13:51.085672Z"
    },
    "papermill": {
     "duration": 0.124664,
     "end_time": "2024-01-28T15:13:51.094615",
     "exception": false,
     "start_time": "2024-01-28T15:13:50.969951",
     "status": "completed"
    },
    "tags": []
   },
   "outputs": [],
   "source": [
    "class Solution:\n",
    "    def maxIncreaseKeepingSkyline(self, grid: List[List[int]]) -> int:\n",
    "        N = len(grid)\n",
    "\n",
    "        maxRows = [-math.inf for _ in range(N)]\n",
    "        maxCols = [-math.inf for _ in range(N)]\n",
    "\n",
    "        for i in range(N):\n",
    "            for j in range(N):\n",
    "                maxRows[i] = max(maxRows[i], grid[i][j])\n",
    "                maxCols[j] = max(maxCols[j], grid[i][j])\n",
    "            \n",
    "        result = 0\n",
    "        for i in range(N):\n",
    "            for j in range(N):\n",
    "                result += min(maxRows[i], maxCols[j]) - grid[i][j]\n",
    "            \n",
    "        return result\n",
    "\n",
    "# Testing the solution\n",
    "assert Solution().maxIncreaseKeepingSkyline([[3,0,8,4],[2,4,5,7],[9,2,6,3],[0,3,1,0]]) == 35\n",
    "assert Solution().maxIncreaseKeepingSkyline([[0,0,0],[0,0,0],[0,0,0]]) == 0"
   ]
  },
  {
   "cell_type": "markdown",
   "id": "46d024ca",
   "metadata": {
    "papermill": {
     "duration": 0.022293,
     "end_time": "2024-01-28T15:13:51.161988",
     "exception": false,
     "start_time": "2024-01-28T15:13:51.139695",
     "status": "completed"
    },
    "tags": []
   },
   "source": [
    "# 51. \n",
    "Date: 25th Jan 2024<br>\n",
    "Medium Leetcode: queries-on-number-of-points-inside-a-circle<br>\n",
    "Solution: https://leetcode.com/problems/queries-on-number-of-points-inside-a-circle/submissions/1156168912"
   ]
  },
  {
   "cell_type": "code",
   "execution_count": 53,
   "id": "8149808c",
   "metadata": {
    "execution": {
     "iopub.execute_input": "2024-01-28T15:13:51.216257Z",
     "iopub.status.busy": "2024-01-28T15:13:51.215439Z",
     "iopub.status.idle": "2024-01-28T15:13:51.227587Z",
     "shell.execute_reply": "2024-01-28T15:13:51.225737Z"
    },
    "papermill": {
     "duration": 0.046722,
     "end_time": "2024-01-28T15:13:51.230256",
     "exception": false,
     "start_time": "2024-01-28T15:13:51.183534",
     "status": "completed"
    },
    "tags": []
   },
   "outputs": [],
   "source": [
    "class Solution:\n",
    "    def distance(pt1: [int, int], pt2: [int, int]) -> float:\n",
    "        \"Calculate the eucldiean distance\"\n",
    "        return math.sqrt(((pt1[0] - pt2[0]) ** 2) + ((pt1[1] - pt2[1]) ** 2))\n",
    "        \n",
    "    def countPoints(self, points: List[List[int]], queries: List[List[int]]) -> List[int]:\n",
    "        \"O(MN) time complexity\"\n",
    "        result = []\n",
    "        for x, y, r in queries:\n",
    "            result.append(sum(1 if Solution.distance((x, y), pt) <= r else 0 for pt in points))\n",
    "        return result\n",
    "\n",
    "# Testing the solution\n",
    "assert Solution().countPoints([[1,3],[3,3],[5,3],[2,2]], [[2,3,1],[4,3,1],[1,1,2]]) == [3, 2, 2]\n",
    "assert Solution().countPoints([[1,1],[2,2],[3,3],[4,4],[5,5]], [[1,2,2],[2,2,2],[4,3,2],[4,3,3]]) == [2, 3, 2, 4]"
   ]
  },
  {
   "cell_type": "markdown",
   "id": "4e61313e",
   "metadata": {
    "papermill": {
     "duration": 0.021184,
     "end_time": "2024-01-28T15:13:51.272277",
     "exception": false,
     "start_time": "2024-01-28T15:13:51.251093",
     "status": "completed"
    },
    "tags": []
   },
   "source": [
    "# 52. \n",
    "Date: 26th Jan 2024<br>\n",
    "Medium Leetcode: out-of-boundary-paths<br>\n",
    "Solution: https://leetcode.com/problems/out-of-boundary-paths/submissions/1156966732"
   ]
  },
  {
   "cell_type": "code",
   "execution_count": 54,
   "id": "daacde73",
   "metadata": {
    "execution": {
     "iopub.execute_input": "2024-01-28T15:13:51.318412Z",
     "iopub.status.busy": "2024-01-28T15:13:51.317602Z",
     "iopub.status.idle": "2024-01-28T15:13:51.331919Z",
     "shell.execute_reply": "2024-01-28T15:13:51.330032Z"
    },
    "papermill": {
     "duration": 0.040296,
     "end_time": "2024-01-28T15:13:51.334736",
     "exception": false,
     "start_time": "2024-01-28T15:13:51.294440",
     "status": "completed"
    },
    "tags": []
   },
   "outputs": [],
   "source": [
    "class Solution:\n",
    "    def findPaths(self, totalRows: int, totalCols: int, maxMove: int, startRow: int, startColumn: int) -> int:\n",
    "        \n",
    "        MOD = (10 ** 9) + 7\n",
    "\n",
    "        @functools.cache\n",
    "        def backtrack(x: int, y: int, k: int):\n",
    "            if x < 0 or x >= totalRows or y < 0 or y >= totalCols:\n",
    "                return 1\n",
    "            elif k == 0:\n",
    "                return 0\n",
    "            else:\n",
    "                return (\n",
    "                    backtrack(x + 1, y, k - 1) + \n",
    "                    backtrack(x, y + 1, k - 1) + \n",
    "                    backtrack(x - 1, y, k - 1) + \n",
    "                    backtrack(x, y - 1, k - 1)\n",
    "                )\n",
    "\n",
    "        def iterate(x: int, y: int, k: int) -> int:\n",
    "            'Too slow and would consume a lot of memory'\n",
    "\n",
    "            result = 0\n",
    "            to_visit = [(x, y)]\n",
    "            while k >= 0:\n",
    "                next_to_visit = []\n",
    "                for i, j in to_visit:\n",
    "                    if i < 0 or i >= totalRows or j < 0 or j >= totalCols:\n",
    "                        result += 1\n",
    "                    else:\n",
    "                        next_to_visit.append((i + 1, j))\n",
    "                        next_to_visit.append((i, j + 1))\n",
    "                        next_to_visit.append((i - 1, j))\n",
    "                        next_to_visit.append((i, j - 1))\n",
    "                k -= 1\n",
    "                to_visit = next_to_visit\n",
    "\n",
    "            return result\n",
    "\n",
    "        return backtrack(startRow, startColumn, maxMove) % MOD\n",
    "\n",
    "# Testing the solution\n",
    "assert Solution().findPaths(2, 2, 2, 0, 0) == 6\n",
    "assert Solution().findPaths(2, 2, 4, 0, 0) == 30\n",
    "assert Solution().findPaths(1, 3, 3, 0, 1) == 12"
   ]
  },
  {
   "cell_type": "markdown",
   "id": "1da7aece",
   "metadata": {
    "papermill": {
     "duration": 0.021496,
     "end_time": "2024-01-28T15:13:51.378656",
     "exception": false,
     "start_time": "2024-01-28T15:13:51.357160",
     "status": "completed"
    },
    "tags": []
   },
   "source": [
    "# 53. \n",
    "Date: 26th Jan 2024<br>\n",
    "Medium Leetcode: gray-code<br>\n",
    "Solution: https://leetcode.com/problems/gray-code/submissions/1157073490/"
   ]
  },
  {
   "cell_type": "code",
   "execution_count": 55,
   "id": "4f342db0",
   "metadata": {
    "execution": {
     "iopub.execute_input": "2024-01-28T15:13:51.428045Z",
     "iopub.status.busy": "2024-01-28T15:13:51.427124Z",
     "iopub.status.idle": "2024-01-28T15:13:51.437951Z",
     "shell.execute_reply": "2024-01-28T15:13:51.436424Z"
    },
    "papermill": {
     "duration": 0.040564,
     "end_time": "2024-01-28T15:13:51.440618",
     "exception": false,
     "start_time": "2024-01-28T15:13:51.400054",
     "status": "completed"
    },
    "tags": []
   },
   "outputs": [],
   "source": [
    "class Solution:\n",
    "    def grayCode(self, n: int) -> List[int]:\n",
    "        nums = list(range(0, 2 ** n))\n",
    "\n",
    "        def backtrack(nums) -> list[int]:\n",
    "            n = len(nums)\n",
    "            if n == 2:\n",
    "                return nums\n",
    "            else:\n",
    "                mid = n // 2\n",
    "                return backtrack(nums[:mid]) + backtrack(nums[mid:])[::-1]\n",
    "\n",
    "        return backtrack(nums)\n",
    "\n",
    "# Testing the solution\n",
    "assert Solution().grayCode(1) == [0, 1]\n",
    "assert Solution().grayCode(2) == [0, 1, 3, 2]\n",
    "assert Solution().grayCode(3) == [0, 1, 3, 2, 6, 7, 5, 4]\n",
    "assert Solution().grayCode(4) == [0, 1, 3, 2, 6, 7, 5, 4, 12, 13, 15, 14, 10, 11, 9, 8]"
   ]
  },
  {
   "cell_type": "markdown",
   "id": "441520c2",
   "metadata": {
    "papermill": {
     "duration": 0.020889,
     "end_time": "2024-01-28T15:13:51.481836",
     "exception": false,
     "start_time": "2024-01-28T15:13:51.460947",
     "status": "completed"
    },
    "tags": []
   },
   "source": [
    "# 54. \n",
    "Date: 26th Jan 2024<br>\n",
    "Medium Leetcode: restore-ip-addresses<br>\n",
    "Solution: https://leetcode.com/problems/restore-ip-addresses/submissions/1157138443/"
   ]
  },
  {
   "cell_type": "code",
   "execution_count": 56,
   "id": "86d949a7",
   "metadata": {
    "execution": {
     "iopub.execute_input": "2024-01-28T15:13:51.527070Z",
     "iopub.status.busy": "2024-01-28T15:13:51.526443Z",
     "iopub.status.idle": "2024-01-28T15:13:51.540535Z",
     "shell.execute_reply": "2024-01-28T15:13:51.539155Z"
    },
    "papermill": {
     "duration": 0.040479,
     "end_time": "2024-01-28T15:13:51.543519",
     "exception": false,
     "start_time": "2024-01-28T15:13:51.503040",
     "status": "completed"
    },
    "tags": []
   },
   "outputs": [],
   "source": [
    "class Solution:\n",
    "    def restoreIpAddresses(self, s: str) -> List[str]:\n",
    "        def validateIntString(subStr: str):\n",
    "            subInt = int(subStr)\n",
    "            return 0 <= subInt <= 255 and len(str(subInt)) == len(subStr)\n",
    "\n",
    "        result = []\n",
    "        def backtrack(s, ip: list[str] = []):\n",
    "\n",
    "            if len(ip) == 4 and not s:\n",
    "                result.append(\".\".join(ip))\n",
    "\n",
    "            elif not s:\n",
    "                return\n",
    "                \n",
    "            else:\n",
    "\n",
    "                # Try adding current digit to prev octet, see if the octet still remains valid\n",
    "                prevPlus = ip[-1] + s[0] if len(ip) else None\n",
    "                if prevPlus:\n",
    "                    if validateIntString(prevPlus):\n",
    "                        backtrack(s[1:], [*ip[:-1], prevPlus])\n",
    "\n",
    "                    # We cannot add anything to the last octet and there are way too many digits forward as well\n",
    "                    elif len(s) > 3 * (4 - len(ip)): \n",
    "                        return\n",
    "\n",
    "                # Insert the current digit as a seperate octet\n",
    "                backtrack(s[1:], [*ip, s[0]])\n",
    "            \n",
    "        backtrack(s)\n",
    "        return result\n",
    "\n",
    "# Testing the solution\n",
    "assert sorted(Solution().restoreIpAddresses(\"25525511135\")) == sorted(['255.255.111.35', '255.255.11.135'])\n",
    "assert sorted(Solution().restoreIpAddresses(\"0000\")) == sorted([\"0.0.0.0\"])\n",
    "assert sorted(Solution().restoreIpAddresses(\"101023\")) == sorted([\"1.0.10.23\",\"1.0.102.3\",\"10.1.0.23\",\"10.10.2.3\",\"101.0.2.3\"])"
   ]
  },
  {
   "cell_type": "markdown",
   "id": "98b0579c",
   "metadata": {
    "papermill": {
     "duration": 0.023811,
     "end_time": "2024-01-28T15:13:51.593607",
     "exception": false,
     "start_time": "2024-01-28T15:13:51.569796",
     "status": "completed"
    },
    "tags": []
   },
   "source": [
    "# 55. \n",
    "Date: 26th Jan 2024<br>\n",
    "Medium Leetcode: binary-tree-level-order-traversal<br>\n",
    "Solution: https://leetcode.com/problems/binary-tree-level-order-traversal/submissions/1157158335/"
   ]
  },
  {
   "cell_type": "code",
   "execution_count": 57,
   "id": "6f6fb7b2",
   "metadata": {
    "execution": {
     "iopub.execute_input": "2024-01-28T15:13:51.639108Z",
     "iopub.status.busy": "2024-01-28T15:13:51.638258Z",
     "iopub.status.idle": "2024-01-28T15:13:51.650319Z",
     "shell.execute_reply": "2024-01-28T15:13:51.648527Z"
    },
    "papermill": {
     "duration": 0.038068,
     "end_time": "2024-01-28T15:13:51.653114",
     "exception": false,
     "start_time": "2024-01-28T15:13:51.615046",
     "status": "completed"
    },
    "tags": []
   },
   "outputs": [],
   "source": [
    "class Solution:\n",
    "    def levelOrder(self, root: BinaryTreeNode) -> List[List[int]]:\n",
    "\n",
    "        result = [[root]] if root else [[]]\n",
    "\n",
    "        # Iterate until result[-1] == []\n",
    "        while result[-1]:\n",
    "            curr = result[-1]\n",
    "            next_ = []\n",
    "            for node in curr:\n",
    "                if node.left:\n",
    "                    next_.append(node.left)\n",
    "                if node.right:\n",
    "                    next_.append(node.right)\n",
    "\n",
    "            # Prev would no longer be needed, we can convert them to their respective values\n",
    "            result[-1] = list(map(lambda x: x.val, curr))\n",
    "            \n",
    "            # Insert the next_ to iterate. Note that next_ would be [] when we have hit the max height\n",
    "            result.append(next_)\n",
    "\n",
    "        # Strip off the last []\n",
    "        return result[:-1]\n",
    "\n",
    "# Testing the solution\n",
    "assert Solution().levelOrder(BinaryTreeNode.from_array([3,9,20,None,None,15,7])) == [[3],[9,20],[15,7]]\n",
    "assert Solution().levelOrder(BinaryTreeNode.from_array([1])) == [[1]]\n",
    "assert Solution().levelOrder(BinaryTreeNode.from_array([])) == []"
   ]
  },
  {
   "cell_type": "markdown",
   "id": "70c469de",
   "metadata": {
    "papermill": {
     "duration": 0.021356,
     "end_time": "2024-01-28T15:13:51.695489",
     "exception": false,
     "start_time": "2024-01-28T15:13:51.674133",
     "status": "completed"
    },
    "tags": []
   },
   "source": [
    "# 56. \n",
    "Date: 26th Jan 2024<br>\n",
    "Medium Leetcode: rotate-list<br>\n",
    "Solution: https://leetcode.com/problems/rotate-list/submissions/1157179417/"
   ]
  },
  {
   "cell_type": "code",
   "execution_count": 58,
   "id": "f0405dcd",
   "metadata": {
    "execution": {
     "iopub.execute_input": "2024-01-28T15:13:51.743550Z",
     "iopub.status.busy": "2024-01-28T15:13:51.742962Z",
     "iopub.status.idle": "2024-01-28T15:13:51.757316Z",
     "shell.execute_reply": "2024-01-28T15:13:51.754303Z"
    },
    "papermill": {
     "duration": 0.043736,
     "end_time": "2024-01-28T15:13:51.762804",
     "exception": false,
     "start_time": "2024-01-28T15:13:51.719068",
     "status": "completed"
    },
    "tags": []
   },
   "outputs": [],
   "source": [
    "class Solution:\n",
    "    def rotateRight(self, head: ListNode, k: int) -> ListNode:\n",
    "        # Find the length of linked list\n",
    "        n, curr = 0, head\n",
    "        while curr:\n",
    "            n += 1\n",
    "            curr = curr.next\n",
    "\n",
    "        # Simplify the rotations\n",
    "        k = k % n if n > 0 else 0\n",
    "\n",
    "        # Edge case\n",
    "        if n <= 1 or k == 0:\n",
    "            return head\n",
    "\n",
    "        # Find the last node in the rotated array\n",
    "        curr = head\n",
    "        for _ in range(n - k - 1):\n",
    "            curr = curr.next\n",
    "\n",
    "        # Point the last node to Null, this node would become our new head\n",
    "        temp = curr.next\n",
    "        curr.next = None\n",
    "\n",
    "        curr = temp\n",
    "        while curr.next:\n",
    "            curr = curr.next\n",
    "\n",
    "        curr.next = head\n",
    "\n",
    "        return temp\n",
    "\n",
    "# Testing the solution    \n",
    "assert Solution().rotateRight(ListNode.to_singly_linked_list([0,1]), 99).to_list() == [1, 0]\n",
    "assert Solution().rotateRight(ListNode.to_singly_linked_list([0,1]), 100).to_list() == [0, 1]\n",
    "assert Solution().rotateRight(ListNode.to_singly_linked_list([0,1,2]), 0).to_list() == [0, 1, 2]\n",
    "assert Solution().rotateRight(ListNode.to_singly_linked_list([0,1,2]), 1).to_list() == [2, 0, 1]\n",
    "assert Solution().rotateRight(ListNode.to_singly_linked_list([0,1,2]), 2).to_list() == [1, 2, 0]\n",
    "assert Solution().rotateRight(ListNode.to_singly_linked_list([0,1,2]), 3).to_list() == [0, 1, 2]\n",
    "assert Solution().rotateRight(ListNode.to_singly_linked_list([0,1,2,3]), 4).to_list() == [0, 1, 2, 3]"
   ]
  },
  {
   "cell_type": "markdown",
   "id": "cc2080c7",
   "metadata": {
    "papermill": {
     "duration": 0.027926,
     "end_time": "2024-01-28T15:13:51.814764",
     "exception": false,
     "start_time": "2024-01-28T15:13:51.786838",
     "status": "completed"
    },
    "tags": []
   },
   "source": [
    "# 57. \n",
    "Date: 27th Jan 2024<br>\n",
    "Medium Leetcode: sum-root-to-leaf-numbers<br>\n",
    "Solution: https://leetcode.com/problems/sum-root-to-leaf-numbers/submissions/1158248997/"
   ]
  },
  {
   "cell_type": "code",
   "execution_count": 59,
   "id": "26f5ed15",
   "metadata": {
    "execution": {
     "iopub.execute_input": "2024-01-28T15:13:51.867032Z",
     "iopub.status.busy": "2024-01-28T15:13:51.865592Z",
     "iopub.status.idle": "2024-01-28T15:13:51.876297Z",
     "shell.execute_reply": "2024-01-28T15:13:51.874572Z"
    },
    "papermill": {
     "duration": 0.042263,
     "end_time": "2024-01-28T15:13:51.878891",
     "exception": false,
     "start_time": "2024-01-28T15:13:51.836628",
     "status": "completed"
    },
    "tags": []
   },
   "outputs": [],
   "source": [
    "class Solution:\n",
    "    def sumNumbers(self, root: BinaryTreeNode) -> int:\n",
    "        result = 0\n",
    "        def backtrack(curr: BinaryTreeNode, acc: str = \"\"):\n",
    "            if not curr.left and not curr.right: # leaf node\n",
    "                nonlocal result\n",
    "                result += int(acc + str(curr.val))\n",
    "            elif curr:\n",
    "                if curr.left:\n",
    "                    backtrack(curr.left, acc + str(curr.val))\n",
    "                if curr.right:\n",
    "                    backtrack(curr.right, acc + str(curr.val))\n",
    "\n",
    "        backtrack(root)\n",
    "        return result\n",
    "\n",
    "# Testing the solution\n",
    "assert Solution().sumNumbers(BinaryTreeNode.from_array([1,2,3])) == 25\n",
    "assert Solution().sumNumbers(BinaryTreeNode.from_array([4,9,0,5,1])) == 1026\n",
    "assert Solution().sumNumbers(BinaryTreeNode.from_array([0])) == 0"
   ]
  },
  {
   "cell_type": "markdown",
   "id": "eb1b3a2b",
   "metadata": {
    "papermill": {
     "duration": 0.035411,
     "end_time": "2024-01-28T15:13:51.936906",
     "exception": false,
     "start_time": "2024-01-28T15:13:51.901495",
     "status": "completed"
    },
    "tags": []
   },
   "source": [
    "# 58. \n",
    "Date: 27th Jan 2024<br>\n",
    "Medium Leetcode: largest-number<br>\n",
    "Solution: https://leetcode.com/problems/largest-number/submissions/1158364087/"
   ]
  },
  {
   "cell_type": "code",
   "execution_count": 60,
   "id": "c6734246",
   "metadata": {
    "execution": {
     "iopub.execute_input": "2024-01-28T15:13:51.980174Z",
     "iopub.status.busy": "2024-01-28T15:13:51.978486Z",
     "iopub.status.idle": "2024-01-28T15:13:51.987147Z",
     "shell.execute_reply": "2024-01-28T15:13:51.985949Z"
    },
    "papermill": {
     "duration": 0.032618,
     "end_time": "2024-01-28T15:13:51.989312",
     "exception": false,
     "start_time": "2024-01-28T15:13:51.956694",
     "status": "completed"
    },
    "tags": []
   },
   "outputs": [],
   "source": [
    "class Solution:\n",
    "    def largestNumber(self, nums: List[int]) -> str:\n",
    "        nums = list(map(str, nums))\n",
    "        nums = sorted(nums, key=functools.cmp_to_key(lambda x, y:\n",
    "            int(f\"{x}{y}\") - int(f\"{y}{x}\")), reverse=True)\n",
    "        return str(int(\"\".join(nums)))\n",
    "\n",
    "# Testing the solution\n",
    "assert Solution().largestNumber([0, 0]) == \"0\"\n",
    "assert Solution().largestNumber([3,30,34,35,39]) == \"393534330\"\n",
    "assert Solution().largestNumber([432,43243]) == \"43243432\"\n",
    "assert Solution().largestNumber([34323,3432]) == \"343234323\""
   ]
  },
  {
   "cell_type": "markdown",
   "id": "b120638c",
   "metadata": {
    "papermill": {
     "duration": 0.021468,
     "end_time": "2024-01-28T15:13:52.033137",
     "exception": false,
     "start_time": "2024-01-28T15:13:52.011669",
     "status": "completed"
    },
    "tags": []
   },
   "source": [
    "# 59. \n",
    "Date: 28th Jan 2024<br>\n",
    "Medium Leetcode: construct-string-from-binary-tree/<br>\n",
    "Solution: https://leetcode.com/problems/construct-string-from-binary-tree/submissions/1159131569"
   ]
  },
  {
   "cell_type": "code",
   "execution_count": 61,
   "id": "be901fe9",
   "metadata": {
    "execution": {
     "iopub.execute_input": "2024-01-28T15:13:52.075908Z",
     "iopub.status.busy": "2024-01-28T15:13:52.075165Z",
     "iopub.status.idle": "2024-01-28T15:13:52.085210Z",
     "shell.execute_reply": "2024-01-28T15:13:52.083228Z"
    },
    "papermill": {
     "duration": 0.034743,
     "end_time": "2024-01-28T15:13:52.087394",
     "exception": false,
     "start_time": "2024-01-28T15:13:52.052651",
     "status": "completed"
    },
    "tags": []
   },
   "outputs": [],
   "source": [
    "class Solution:\n",
    "    def tree2str(self, root: BinaryTreeNode) -> str:\n",
    "\n",
    "        def backtrack(curr: BinaryTreeNode) -> str:\n",
    "            if not curr:\n",
    "                return \"\"\n",
    "\n",
    "            else:\n",
    "                left = backtrack(curr.left)\n",
    "                right = backtrack(curr.right)\n",
    "                if left or right:\n",
    "                    left = f\"({left})\"\n",
    "                if right:\n",
    "                    right = f\"({right})\"\n",
    "                return str(curr.val) + left + right\n",
    "\n",
    "        return backtrack(root)\n",
    "\n",
    "# Testing the solution\n",
    "assert Solution().tree2str(BinaryTreeNode.from_array([1,2,3,4])) == \"1(2(4))(3)\"\n",
    "assert Solution().tree2str(BinaryTreeNode.from_array([1,2,3,None,4])) == \"1(2()(4))(3)\""
   ]
  },
  {
   "cell_type": "markdown",
   "id": "8c1b75aa",
   "metadata": {
    "papermill": {
     "duration": 0.02056,
     "end_time": "2024-01-28T15:13:52.128219",
     "exception": false,
     "start_time": "2024-01-28T15:13:52.107659",
     "status": "completed"
    },
    "tags": []
   },
   "source": [
    "# 60. \n",
    "Date: 28th Jan 2024<br>\n",
    "Medium Leetcode: combination-sum-iii<br>\n",
    "Solution: https://leetcode.com/problems/combination-sum-iii/submissions/1159151266"
   ]
  },
  {
   "cell_type": "code",
   "execution_count": 62,
   "id": "5617e2c6",
   "metadata": {
    "execution": {
     "iopub.execute_input": "2024-01-28T15:13:52.173917Z",
     "iopub.status.busy": "2024-01-28T15:13:52.172272Z",
     "iopub.status.idle": "2024-01-28T15:13:52.183022Z",
     "shell.execute_reply": "2024-01-28T15:13:52.181625Z"
    },
    "papermill": {
     "duration": 0.035113,
     "end_time": "2024-01-28T15:13:52.185239",
     "exception": false,
     "start_time": "2024-01-28T15:13:52.150126",
     "status": "completed"
    },
    "tags": []
   },
   "outputs": [],
   "source": [
    "class Solution:\n",
    "    def combinationSum3(self, k: int, n: int) -> List[List[int]]:\n",
    "\n",
    "        result = []\n",
    "        def backtrack(i: int = 1, total: int = 0, acc: list[int] = []):\n",
    "            if total == n and len(acc) == k:\n",
    "                result.append(acc)\n",
    "            if i <= 9 and len(acc) < k:\n",
    "                backtrack(i + 1, total + i, [*acc, i])\n",
    "                backtrack(i + 1, total, acc)\n",
    "\n",
    "        backtrack()\n",
    "        return result\n",
    "\n",
    "# Testing the solution\n",
    "assert Solution().combinationSum3(3, 9) == [[1,2,6],[1,3,5],[2,3,4]]\n",
    "assert Solution().combinationSum3(9, 45) == [[1,2,3,4,5,6,7,8,9]]\n",
    "assert Solution().combinationSum3(3, 7) == [[1,2,4]]\n",
    "assert Solution().combinationSum3(4, 1) == []"
   ]
  },
  {
   "cell_type": "markdown",
   "id": "638a5833",
   "metadata": {
    "papermill": {
     "duration": 0.020999,
     "end_time": "2024-01-28T15:13:52.226489",
     "exception": false,
     "start_time": "2024-01-28T15:13:52.205490",
     "status": "completed"
    },
    "tags": []
   },
   "source": [
    "# 61. \n",
    "Date: 28th Jan 2024<br>\n",
    "Medium Leetcode: rank-score<br>\n",
    "Solution: https://leetcode.com/problems/rank-scores/submissions/1159194253"
   ]
  },
  {
   "cell_type": "code",
   "execution_count": 63,
   "id": "11936ee9",
   "metadata": {
    "execution": {
     "iopub.execute_input": "2024-01-28T15:13:52.268798Z",
     "iopub.status.busy": "2024-01-28T15:13:52.268054Z",
     "iopub.status.idle": "2024-01-28T15:13:52.309617Z",
     "shell.execute_reply": "2024-01-28T15:13:52.308140Z"
    },
    "papermill": {
     "duration": 0.065553,
     "end_time": "2024-01-28T15:13:52.312104",
     "exception": false,
     "start_time": "2024-01-28T15:13:52.246551",
     "status": "completed"
    },
    "tags": []
   },
   "outputs": [
    {
     "data": {
      "text/html": [
       "<div>\n",
       "<style scoped>\n",
       "    .dataframe tbody tr th:only-of-type {\n",
       "        vertical-align: middle;\n",
       "    }\n",
       "\n",
       "    .dataframe tbody tr th {\n",
       "        vertical-align: top;\n",
       "    }\n",
       "\n",
       "    .dataframe thead th {\n",
       "        text-align: right;\n",
       "    }\n",
       "</style>\n",
       "<table border=\"1\" class=\"dataframe\">\n",
       "  <thead>\n",
       "    <tr style=\"text-align: right;\">\n",
       "      <th></th>\n",
       "      <th>score</th>\n",
       "      <th>rank</th>\n",
       "    </tr>\n",
       "  </thead>\n",
       "  <tbody>\n",
       "    <tr>\n",
       "      <th>3</th>\n",
       "      <td>4.00</td>\n",
       "      <td>1.0</td>\n",
       "    </tr>\n",
       "    <tr>\n",
       "      <th>5</th>\n",
       "      <td>4.00</td>\n",
       "      <td>1.0</td>\n",
       "    </tr>\n",
       "    <tr>\n",
       "      <th>4</th>\n",
       "      <td>3.85</td>\n",
       "      <td>2.0</td>\n",
       "    </tr>\n",
       "    <tr>\n",
       "      <th>2</th>\n",
       "      <td>3.65</td>\n",
       "      <td>3.0</td>\n",
       "    </tr>\n",
       "    <tr>\n",
       "      <th>6</th>\n",
       "      <td>3.65</td>\n",
       "      <td>3.0</td>\n",
       "    </tr>\n",
       "    <tr>\n",
       "      <th>1</th>\n",
       "      <td>3.50</td>\n",
       "      <td>4.0</td>\n",
       "    </tr>\n",
       "  </tbody>\n",
       "</table>\n",
       "</div>"
      ],
      "text/plain": [
       "   score  rank\n",
       "3   4.00   1.0\n",
       "5   4.00   1.0\n",
       "4   3.85   2.0\n",
       "2   3.65   3.0\n",
       "6   3.65   3.0\n",
       "1   3.50   4.0"
      ]
     },
     "metadata": {},
     "output_type": "display_data"
    },
    {
     "data": {
      "text/html": [
       "<div>\n",
       "<style scoped>\n",
       "    .dataframe tbody tr th:only-of-type {\n",
       "        vertical-align: middle;\n",
       "    }\n",
       "\n",
       "    .dataframe tbody tr th {\n",
       "        vertical-align: top;\n",
       "    }\n",
       "\n",
       "    .dataframe thead th {\n",
       "        text-align: right;\n",
       "    }\n",
       "</style>\n",
       "<table border=\"1\" class=\"dataframe\">\n",
       "  <thead>\n",
       "    <tr style=\"text-align: right;\">\n",
       "      <th></th>\n",
       "      <th>score</th>\n",
       "      <th>rank</th>\n",
       "    </tr>\n",
       "  </thead>\n",
       "  <tbody>\n",
       "    <tr>\n",
       "      <th>0</th>\n",
       "      <td>4.00</td>\n",
       "      <td>1</td>\n",
       "    </tr>\n",
       "    <tr>\n",
       "      <th>1</th>\n",
       "      <td>4.00</td>\n",
       "      <td>1</td>\n",
       "    </tr>\n",
       "    <tr>\n",
       "      <th>2</th>\n",
       "      <td>3.85</td>\n",
       "      <td>2</td>\n",
       "    </tr>\n",
       "    <tr>\n",
       "      <th>3</th>\n",
       "      <td>3.65</td>\n",
       "      <td>3</td>\n",
       "    </tr>\n",
       "    <tr>\n",
       "      <th>4</th>\n",
       "      <td>3.65</td>\n",
       "      <td>3</td>\n",
       "    </tr>\n",
       "    <tr>\n",
       "      <th>5</th>\n",
       "      <td>3.50</td>\n",
       "      <td>4</td>\n",
       "    </tr>\n",
       "  </tbody>\n",
       "</table>\n",
       "</div>"
      ],
      "text/plain": [
       "   score  rank\n",
       "0   4.00     1\n",
       "1   4.00     1\n",
       "2   3.85     2\n",
       "3   3.65     3\n",
       "4   3.65     3\n",
       "5   3.50     4"
      ]
     },
     "execution_count": 63,
     "metadata": {},
     "output_type": "execute_result"
    }
   ],
   "source": [
    "temp = read_lc_df(\"\"\"\n",
    "+----+-------+\n",
    "| id | score |\n",
    "+----+-------+\n",
    "| 1  | 3.50  |\n",
    "| 2  | 3.65  |\n",
    "| 3  | 4.00  |\n",
    "| 4  | 3.85  |\n",
    "| 5  | 4.00  |\n",
    "| 6  | 3.65  |\n",
    "+----+-------+\n",
    "\"\"\")\n",
    "\n",
    "# Pandas Solution\n",
    "def order_scores(scores: pd.DataFrame) -> pd.DataFrame:\n",
    "    df = scores.copy()\n",
    "    df['rank'] = df['score'].rank(method='dense', ascending=False)\n",
    "    df = df[['score', 'rank']].sort_values(\"rank\")\n",
    "    return df\n",
    "\n",
    "display(order_scores(temp))\n",
    "\n",
    "# SQL Solution\n",
    "temp.to_sql(\"temp\", con=conn, index=False, if_exists='replace')\n",
    "\n",
    "pd.read_sql(\"\"\"\n",
    "    select\n",
    "        score,\n",
    "        DENSE_RANK() OVER (ORDER BY score DESC) as rank\n",
    "    from temp\n",
    "\"\"\", con=conn)"
   ]
  },
  {
   "cell_type": "markdown",
   "id": "02250836",
   "metadata": {
    "papermill": {
     "duration": 0.020228,
     "end_time": "2024-01-28T15:13:52.352452",
     "exception": false,
     "start_time": "2024-01-28T15:13:52.332224",
     "status": "completed"
    },
    "tags": []
   },
   "source": [
    "# 62. \n",
    "Date: 28th Jan 2024<br>\n",
    "Medium Leetcode: exchange-seats<br>\n",
    "Solution: https://leetcode.com/problems/exchange-seats/submissions/1159237807"
   ]
  },
  {
   "cell_type": "code",
   "execution_count": 64,
   "id": "9d3cf924",
   "metadata": {
    "execution": {
     "iopub.execute_input": "2024-01-28T15:13:52.398940Z",
     "iopub.status.busy": "2024-01-28T15:13:52.397530Z",
     "iopub.status.idle": "2024-01-28T15:13:52.427609Z",
     "shell.execute_reply": "2024-01-28T15:13:52.425805Z"
    },
    "papermill": {
     "duration": 0.056208,
     "end_time": "2024-01-28T15:13:52.429828",
     "exception": false,
     "start_time": "2024-01-28T15:13:52.373620",
     "status": "completed"
    },
    "tags": []
   },
   "outputs": [
    {
     "data": {
      "text/html": [
       "<div>\n",
       "<style scoped>\n",
       "    .dataframe tbody tr th:only-of-type {\n",
       "        vertical-align: middle;\n",
       "    }\n",
       "\n",
       "    .dataframe tbody tr th {\n",
       "        vertical-align: top;\n",
       "    }\n",
       "\n",
       "    .dataframe thead th {\n",
       "        text-align: right;\n",
       "    }\n",
       "</style>\n",
       "<table border=\"1\" class=\"dataframe\">\n",
       "  <thead>\n",
       "    <tr style=\"text-align: right;\">\n",
       "      <th></th>\n",
       "      <th>id</th>\n",
       "      <th>student</th>\n",
       "    </tr>\n",
       "  </thead>\n",
       "  <tbody>\n",
       "    <tr>\n",
       "      <th>0</th>\n",
       "      <td>1.0</td>\n",
       "      <td>Doris</td>\n",
       "    </tr>\n",
       "    <tr>\n",
       "      <th>1</th>\n",
       "      <td>2.0</td>\n",
       "      <td>Abbot</td>\n",
       "    </tr>\n",
       "    <tr>\n",
       "      <th>2</th>\n",
       "      <td>3.0</td>\n",
       "      <td>Green</td>\n",
       "    </tr>\n",
       "    <tr>\n",
       "      <th>3</th>\n",
       "      <td>4.0</td>\n",
       "      <td>Emerson</td>\n",
       "    </tr>\n",
       "    <tr>\n",
       "      <th>4</th>\n",
       "      <td>5.0</td>\n",
       "      <td>Jeames</td>\n",
       "    </tr>\n",
       "  </tbody>\n",
       "</table>\n",
       "</div>"
      ],
      "text/plain": [
       "    id  student\n",
       "0  1.0    Doris\n",
       "1  2.0    Abbot\n",
       "2  3.0    Green\n",
       "3  4.0  Emerson\n",
       "4  5.0   Jeames"
      ]
     },
     "metadata": {},
     "output_type": "display_data"
    },
    {
     "data": {
      "text/html": [
       "<div>\n",
       "<style scoped>\n",
       "    .dataframe tbody tr th:only-of-type {\n",
       "        vertical-align: middle;\n",
       "    }\n",
       "\n",
       "    .dataframe tbody tr th {\n",
       "        vertical-align: top;\n",
       "    }\n",
       "\n",
       "    .dataframe thead th {\n",
       "        text-align: right;\n",
       "    }\n",
       "</style>\n",
       "<table border=\"1\" class=\"dataframe\">\n",
       "  <thead>\n",
       "    <tr style=\"text-align: right;\">\n",
       "      <th></th>\n",
       "      <th>id</th>\n",
       "      <th>student</th>\n",
       "    </tr>\n",
       "  </thead>\n",
       "  <tbody>\n",
       "    <tr>\n",
       "      <th>0</th>\n",
       "      <td>1.0</td>\n",
       "      <td>Doris</td>\n",
       "    </tr>\n",
       "    <tr>\n",
       "      <th>1</th>\n",
       "      <td>2.0</td>\n",
       "      <td>Abbot</td>\n",
       "    </tr>\n",
       "    <tr>\n",
       "      <th>2</th>\n",
       "      <td>3.0</td>\n",
       "      <td>Green</td>\n",
       "    </tr>\n",
       "    <tr>\n",
       "      <th>3</th>\n",
       "      <td>4.0</td>\n",
       "      <td>Emerson</td>\n",
       "    </tr>\n",
       "    <tr>\n",
       "      <th>4</th>\n",
       "      <td>5.0</td>\n",
       "      <td>Jeames</td>\n",
       "    </tr>\n",
       "  </tbody>\n",
       "</table>\n",
       "</div>"
      ],
      "text/plain": [
       "    id  student\n",
       "0  1.0    Doris\n",
       "1  2.0    Abbot\n",
       "2  3.0    Green\n",
       "3  4.0  Emerson\n",
       "4  5.0   Jeames"
      ]
     },
     "execution_count": 64,
     "metadata": {},
     "output_type": "execute_result"
    }
   ],
   "source": [
    "temp = read_lc_df(\"\"\"\n",
    "+----+---------+\n",
    "| id | student |\n",
    "+----+---------+\n",
    "| 1  | Abbot   |\n",
    "| 2  | Doris   |\n",
    "| 3  | Emerson |\n",
    "| 4  | Green   |\n",
    "| 5  | Jeames  |\n",
    "+----+---------+\n",
    "\"\"\")\n",
    "\n",
    "# Pandas Solution\n",
    "def exchange_seats(seat: pd.DataFrame) -> pd.DataFrame:\n",
    "    df = seat.copy()\n",
    "    df = df.set_index(\"id\")\n",
    "    df = pd.concat([\n",
    "        df['student'].shift(-1).loc[df.index % 2 == 1].fillna(df['student']),\n",
    "        df['student'].shift(1).loc[df.index % 2 == 0],\n",
    "    ]).sort_index().reset_index()\n",
    "    return df\n",
    "\n",
    "display(exchange_seats(temp))\n",
    "\n",
    "# SQL Solution\n",
    "temp.to_sql(\"temp\", con=conn, index=False, if_exists='replace')\n",
    "\n",
    "pd.read_sql(\"\"\"\n",
    "    with maxId as (\n",
    "        select max(id) max_ from temp\n",
    "    ),\n",
    "\n",
    "    updated as (\n",
    "        select\n",
    "            CASE\n",
    "                WHEN id % 2 = 0 THEN id - 1\n",
    "                WHEN id % 2 = 1 AND id != (select max_ from maxId) THEN id + 1\n",
    "                ELSE id\n",
    "            END as id,\n",
    "            student\n",
    "        from temp\n",
    "    )\n",
    "\n",
    "    select * from updated order by id ASC\n",
    "\"\"\", con=conn)"
   ]
  },
  {
   "cell_type": "markdown",
   "id": "fa0cf447",
   "metadata": {
    "papermill": {
     "duration": 0.020969,
     "end_time": "2024-01-28T15:13:52.472013",
     "exception": false,
     "start_time": "2024-01-28T15:13:52.451044",
     "status": "completed"
    },
    "tags": []
   },
   "source": [
    "# 63. \n",
    "Date: 28th Jan 2024<br>\n",
    "Medium Leetcode: tree-node<br>\n",
    "Solution: https://leetcode.com/problems/tree-node/submissions/1159276450/"
   ]
  },
  {
   "cell_type": "code",
   "execution_count": 65,
   "id": "a83d1a86",
   "metadata": {
    "execution": {
     "iopub.execute_input": "2024-01-28T15:13:52.515925Z",
     "iopub.status.busy": "2024-01-28T15:13:52.515228Z",
     "iopub.status.idle": "2024-01-28T15:13:52.551896Z",
     "shell.execute_reply": "2024-01-28T15:13:52.550482Z"
    },
    "papermill": {
     "duration": 0.060955,
     "end_time": "2024-01-28T15:13:52.554019",
     "exception": false,
     "start_time": "2024-01-28T15:13:52.493064",
     "status": "completed"
    },
    "tags": []
   },
   "outputs": [
    {
     "data": {
      "text/html": [
       "<div>\n",
       "<style scoped>\n",
       "    .dataframe tbody tr th:only-of-type {\n",
       "        vertical-align: middle;\n",
       "    }\n",
       "\n",
       "    .dataframe tbody tr th {\n",
       "        vertical-align: top;\n",
       "    }\n",
       "\n",
       "    .dataframe thead th {\n",
       "        text-align: right;\n",
       "    }\n",
       "</style>\n",
       "<table border=\"1\" class=\"dataframe\">\n",
       "  <thead>\n",
       "    <tr style=\"text-align: right;\">\n",
       "      <th></th>\n",
       "      <th>id</th>\n",
       "      <th>type</th>\n",
       "    </tr>\n",
       "  </thead>\n",
       "  <tbody>\n",
       "    <tr>\n",
       "      <th>0</th>\n",
       "      <td>1.0</td>\n",
       "      <td>Root</td>\n",
       "    </tr>\n",
       "    <tr>\n",
       "      <th>1</th>\n",
       "      <td>2.0</td>\n",
       "      <td>Inner</td>\n",
       "    </tr>\n",
       "    <tr>\n",
       "      <th>2</th>\n",
       "      <td>3.0</td>\n",
       "      <td>Leaf</td>\n",
       "    </tr>\n",
       "    <tr>\n",
       "      <th>3</th>\n",
       "      <td>4.0</td>\n",
       "      <td>Leaf</td>\n",
       "    </tr>\n",
       "    <tr>\n",
       "      <th>4</th>\n",
       "      <td>5.0</td>\n",
       "      <td>Leaf</td>\n",
       "    </tr>\n",
       "  </tbody>\n",
       "</table>\n",
       "</div>"
      ],
      "text/plain": [
       "    id   type\n",
       "0  1.0   Root\n",
       "1  2.0  Inner\n",
       "2  3.0   Leaf\n",
       "3  4.0   Leaf\n",
       "4  5.0   Leaf"
      ]
     },
     "metadata": {},
     "output_type": "display_data"
    },
    {
     "data": {
      "text/html": [
       "<div>\n",
       "<style scoped>\n",
       "    .dataframe tbody tr th:only-of-type {\n",
       "        vertical-align: middle;\n",
       "    }\n",
       "\n",
       "    .dataframe tbody tr th {\n",
       "        vertical-align: top;\n",
       "    }\n",
       "\n",
       "    .dataframe thead th {\n",
       "        text-align: right;\n",
       "    }\n",
       "</style>\n",
       "<table border=\"1\" class=\"dataframe\">\n",
       "  <thead>\n",
       "    <tr style=\"text-align: right;\">\n",
       "      <th></th>\n",
       "      <th>id</th>\n",
       "      <th>type</th>\n",
       "    </tr>\n",
       "  </thead>\n",
       "  <tbody>\n",
       "    <tr>\n",
       "      <th>1</th>\n",
       "      <td>1.0</td>\n",
       "      <td>Root</td>\n",
       "    </tr>\n",
       "    <tr>\n",
       "      <th>2</th>\n",
       "      <td>2.0</td>\n",
       "      <td>Inner</td>\n",
       "    </tr>\n",
       "    <tr>\n",
       "      <th>3</th>\n",
       "      <td>3.0</td>\n",
       "      <td>Leaf</td>\n",
       "    </tr>\n",
       "    <tr>\n",
       "      <th>4</th>\n",
       "      <td>4.0</td>\n",
       "      <td>Leaf</td>\n",
       "    </tr>\n",
       "    <tr>\n",
       "      <th>5</th>\n",
       "      <td>5.0</td>\n",
       "      <td>Leaf</td>\n",
       "    </tr>\n",
       "  </tbody>\n",
       "</table>\n",
       "</div>"
      ],
      "text/plain": [
       "    id   type\n",
       "1  1.0   Root\n",
       "2  2.0  Inner\n",
       "3  3.0   Leaf\n",
       "4  4.0   Leaf\n",
       "5  5.0   Leaf"
      ]
     },
     "metadata": {},
     "output_type": "display_data"
    },
    {
     "data": {
      "text/html": [
       "<div>\n",
       "<style scoped>\n",
       "    .dataframe tbody tr th:only-of-type {\n",
       "        vertical-align: middle;\n",
       "    }\n",
       "\n",
       "    .dataframe tbody tr th {\n",
       "        vertical-align: top;\n",
       "    }\n",
       "\n",
       "    .dataframe thead th {\n",
       "        text-align: right;\n",
       "    }\n",
       "</style>\n",
       "<table border=\"1\" class=\"dataframe\">\n",
       "  <thead>\n",
       "    <tr style=\"text-align: right;\">\n",
       "      <th></th>\n",
       "      <th>id</th>\n",
       "      <th>type</th>\n",
       "    </tr>\n",
       "  </thead>\n",
       "  <tbody>\n",
       "    <tr>\n",
       "      <th>0</th>\n",
       "      <td>1.0</td>\n",
       "      <td>Root</td>\n",
       "    </tr>\n",
       "    <tr>\n",
       "      <th>1</th>\n",
       "      <td>2.0</td>\n",
       "      <td>Inner</td>\n",
       "    </tr>\n",
       "    <tr>\n",
       "      <th>2</th>\n",
       "      <td>3.0</td>\n",
       "      <td>Leaf</td>\n",
       "    </tr>\n",
       "    <tr>\n",
       "      <th>3</th>\n",
       "      <td>4.0</td>\n",
       "      <td>Leaf</td>\n",
       "    </tr>\n",
       "    <tr>\n",
       "      <th>4</th>\n",
       "      <td>5.0</td>\n",
       "      <td>Leaf</td>\n",
       "    </tr>\n",
       "  </tbody>\n",
       "</table>\n",
       "</div>"
      ],
      "text/plain": [
       "    id   type\n",
       "0  1.0   Root\n",
       "1  2.0  Inner\n",
       "2  3.0   Leaf\n",
       "3  4.0   Leaf\n",
       "4  5.0   Leaf"
      ]
     },
     "execution_count": 65,
     "metadata": {},
     "output_type": "execute_result"
    }
   ],
   "source": [
    "temp = read_lc_df(\"\"\"\n",
    "+----+------+\n",
    "| id | p_id |\n",
    "+----+------+\n",
    "| 1  | null |\n",
    "| 2  | 1    |\n",
    "| 3  | 1    |\n",
    "| 4  | 2    |\n",
    "| 5  | 2    |\n",
    "+----+------+\n",
    "\"\"\")\n",
    "\n",
    "# Python Solution\n",
    "def tree_node_py(tree: pd.DataFrame) -> pd.DataFrame:\n",
    "    inners = tree['p_id'].unique()\n",
    "    result = []\n",
    "    for _, _id, p_id in tree.itertuples():\n",
    "        if p_id == None:\n",
    "            result.append((_id, \"Root\"))\n",
    "        elif str(int(_id)) in inners:\n",
    "            result.append((_id, \"Inner\"))\n",
    "        else:\n",
    "            result.append((_id, \"Leaf\"))\n",
    "\n",
    "    return pd.DataFrame(result, columns=['id', 'type'])\n",
    "\n",
    "# Pandas Solution\n",
    "def tree_node_pd(tree: pd.DataFrame) -> pd.DataFrame:\n",
    "    result: df.DataFrame = tree.copy()\n",
    "    inners = result['p_id'].unique()\n",
    "    result['type'] = result.apply(lambda x: 'Root' if x['p_id'] == None else 'Inner' if str(int(x['id'])) in inners else 'Leaf', axis=1)\n",
    "    return result[['id', 'type']]\n",
    "\n",
    "display(tree_node_py(temp))\n",
    "display(tree_node_pd(temp))\n",
    "\n",
    "# SQL Solution\n",
    "temp.to_sql(\"temp\", con=conn, index=False, if_exists='replace')\n",
    "\n",
    "pd.read_sql(\"\"\"\n",
    "    with inners as (\n",
    "        select distinct p_id inner_ids from temp\n",
    "    )\n",
    "\n",
    "    select\n",
    "        id,\n",
    "        CASE\n",
    "            WHEN p_id is NULL THEN 'Root'\n",
    "            WHEN id in (select inner_ids from inners) THEN 'Inner'\n",
    "            ELSE 'Leaf'\n",
    "        END type\n",
    "    from temp\n",
    "\"\"\", con=conn)"
   ]
  },
  {
   "cell_type": "code",
   "execution_count": null,
   "id": "332793be",
   "metadata": {
    "papermill": {
     "duration": 0.023142,
     "end_time": "2024-01-28T15:13:52.598137",
     "exception": false,
     "start_time": "2024-01-28T15:13:52.574995",
     "status": "completed"
    },
    "tags": []
   },
   "outputs": [],
   "source": []
  }
 ],
 "metadata": {
  "kernelspec": {
   "display_name": "Python 3 (ipykernel)",
   "language": "python",
   "name": "python3"
  },
  "language_info": {
   "codemirror_mode": {
    "name": "ipython",
    "version": 3
   },
   "file_extension": ".py",
   "mimetype": "text/x-python",
   "name": "python",
   "nbconvert_exporter": "python",
   "pygments_lexer": "ipython3",
   "version": "3.10.13"
  },
  "papermill": {
   "default_parameters": {},
   "duration": 11.358889,
   "end_time": "2024-01-28T15:13:52.945660",
   "environment_variables": {},
   "exception": null,
   "input_path": "75ML30D.ipynb",
   "output_path": "75ML30D.ipynb",
   "parameters": {},
   "start_time": "2024-01-28T15:13:41.586771",
   "version": "2.4.0"
  }
 },
 "nbformat": 4,
 "nbformat_minor": 5
}