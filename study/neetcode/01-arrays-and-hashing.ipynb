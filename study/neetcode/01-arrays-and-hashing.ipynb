{
 "cells": [
  {
   "cell_type": "markdown",
   "id": "3fdf69c6",
   "metadata": {
    "papermill": {
     "duration": 0.004057,
     "end_time": "2024-06-29T17:24:23.062101",
     "exception": false,
     "start_time": "2024-06-29T17:24:23.058044",
     "status": "completed"
    },
    "tags": []
   },
   "source": [
    "### Neccessary file imports"
   ]
  },
  {
   "cell_type": "code",
   "execution_count": 1,
   "id": "21971dda",
   "metadata": {
    "execution": {
     "iopub.execute_input": "2024-06-29T17:24:23.070276Z",
     "iopub.status.busy": "2024-06-29T17:24:23.069749Z",
     "iopub.status.idle": "2024-06-29T17:24:23.075223Z",
     "shell.execute_reply": "2024-06-29T17:24:23.074825Z"
    },
    "lines_to_next_cell": 1,
    "papermill": {
     "duration": 0.010797,
     "end_time": "2024-06-29T17:24:23.076380",
     "exception": false,
     "start_time": "2024-06-29T17:24:23.065583",
     "status": "completed"
    },
    "tags": []
   },
   "outputs": [],
   "source": [
    "import math\n",
    "import collections\n",
    "import functools\n",
    "import heapq\n",
    "import bisect\n",
    "import random"
   ]
  },
  {
   "cell_type": "markdown",
   "id": "de28faf4",
   "metadata": {
    "papermill": {
     "duration": 0.003249,
     "end_time": "2024-06-29T17:24:23.082948",
     "exception": false,
     "start_time": "2024-06-29T17:24:23.079699",
     "status": "completed"
    },
    "tags": []
   },
   "source": [
    "Contains duplicate"
   ]
  },
  {
   "cell_type": "code",
   "execution_count": 2,
   "id": "b1626aac",
   "metadata": {
    "execution": {
     "iopub.execute_input": "2024-06-29T17:24:23.091414Z",
     "iopub.status.busy": "2024-06-29T17:24:23.090975Z",
     "iopub.status.idle": "2024-06-29T17:24:23.094948Z",
     "shell.execute_reply": "2024-06-29T17:24:23.094519Z"
    },
    "lines_to_next_cell": 1,
    "papermill": {
     "duration": 0.008992,
     "end_time": "2024-06-29T17:24:23.096025",
     "exception": false,
     "start_time": "2024-06-29T17:24:23.087033",
     "status": "completed"
    },
    "tags": []
   },
   "outputs": [],
   "source": [
    "# https://leetcode.com/problems/contains-duplicate/submissions/1301625329/\n",
    "def containsDuplicate(nums: list[int]) -> bool:\n",
    "    set_: set[int] = set()\n",
    "    for n in nums:\n",
    "        if n in set_:\n",
    "            return True\n",
    "        set_.add(n)\n",
    "    return False\n",
    "\n",
    "# Testing the solution\n",
    "assert containsDuplicate([1,1,2,2,3,4]) == True\n",
    "assert containsDuplicate([1,2,3,4,10]) == False"
   ]
  },
  {
   "cell_type": "markdown",
   "id": "83540d6f",
   "metadata": {
    "papermill": {
     "duration": 0.003328,
     "end_time": "2024-06-29T17:24:23.102679",
     "exception": false,
     "start_time": "2024-06-29T17:24:23.099351",
     "status": "completed"
    },
    "tags": []
   },
   "source": [
    "Valid Anagram"
   ]
  },
  {
   "cell_type": "code",
   "execution_count": 3,
   "id": "4877cbdf",
   "metadata": {
    "execution": {
     "iopub.execute_input": "2024-06-29T17:24:23.110384Z",
     "iopub.status.busy": "2024-06-29T17:24:23.109972Z",
     "iopub.status.idle": "2024-06-29T17:24:23.114220Z",
     "shell.execute_reply": "2024-06-29T17:24:23.113812Z"
    },
    "lines_to_next_cell": 1,
    "papermill": {
     "duration": 0.009238,
     "end_time": "2024-06-29T17:24:23.115268",
     "exception": false,
     "start_time": "2024-06-29T17:24:23.106030",
     "status": "completed"
    },
    "tags": []
   },
   "outputs": [],
   "source": [
    "# \n",
    "# https://leetcode.com/problems/valid-anagram/submissions/1301649707/\n",
    "def isAnagram(s1: str, s2: str) -> bool:\n",
    "    N1, N2 = len(s1), len(s2)\n",
    "    if N1 != N2:\n",
    "        return False\n",
    "    else:\n",
    "        freq: list[int] = [0 for i in range(26)]\n",
    "        for i in range(N1):\n",
    "            freq[ord(s1[i]) - ord('a')] += 1\n",
    "            freq[ord(s2[i]) - ord('a')] -= 1\n",
    "        return not any(filter(lambda x: x != 0, freq))\n",
    "\n",
    "# Testing the solution\n",
    "assert isAnagram(\"anagram\", \"nagaram\") == True\n",
    "assert isAnagram(\"rat\", \"car\") == False"
   ]
  },
  {
   "cell_type": "markdown",
   "id": "df42a1f5",
   "metadata": {
    "papermill": {
     "duration": 0.003297,
     "end_time": "2024-06-29T17:24:23.121957",
     "exception": false,
     "start_time": "2024-06-29T17:24:23.118660",
     "status": "completed"
    },
    "tags": []
   },
   "source": [
    "Concatenation of array"
   ]
  },
  {
   "cell_type": "code",
   "execution_count": 4,
   "id": "efbdfbb7",
   "metadata": {
    "execution": {
     "iopub.execute_input": "2024-06-29T17:24:23.129366Z",
     "iopub.status.busy": "2024-06-29T17:24:23.129100Z",
     "iopub.status.idle": "2024-06-29T17:24:23.132606Z",
     "shell.execute_reply": "2024-06-29T17:24:23.132166Z"
    },
    "lines_to_next_cell": 1,
    "papermill": {
     "duration": 0.008385,
     "end_time": "2024-06-29T17:24:23.133657",
     "exception": false,
     "start_time": "2024-06-29T17:24:23.125272",
     "status": "completed"
    },
    "tags": []
   },
   "outputs": [],
   "source": [
    "# https://leetcode.com/problems/concatenation-of-array/submissions/1301720169/\n",
    "def getConcatenation(nums: list[int]) -> list[int]:\n",
    "    N = len(nums)\n",
    "    result: list[int] = []\n",
    "    for i in range(2 * N):\n",
    "        result.append(nums[i % N])\n",
    "\n",
    "    return result\n",
    "\n",
    "# Testing the solution\n",
    "assert getConcatenation([1,2]) == [1,2,1,2]\n",
    "assert getConcatenation([1,2,3]) == [1,2,3,1,2,3]"
   ]
  },
  {
   "cell_type": "markdown",
   "id": "2c5e7cdb",
   "metadata": {
    "papermill": {
     "duration": 0.003346,
     "end_time": "2024-06-29T17:24:23.140397",
     "exception": false,
     "start_time": "2024-06-29T17:24:23.137051",
     "status": "completed"
    },
    "tags": []
   },
   "source": [
    "Replace elements with greater on the right side"
   ]
  },
  {
   "cell_type": "code",
   "execution_count": 5,
   "id": "c0f31c72",
   "metadata": {
    "execution": {
     "iopub.execute_input": "2024-06-29T17:24:23.147977Z",
     "iopub.status.busy": "2024-06-29T17:24:23.147770Z",
     "iopub.status.idle": "2024-06-29T17:24:23.151517Z",
     "shell.execute_reply": "2024-06-29T17:24:23.151093Z"
    },
    "lines_to_next_cell": 1,
    "papermill": {
     "duration": 0.008866,
     "end_time": "2024-06-29T17:24:23.152553",
     "exception": false,
     "start_time": "2024-06-29T17:24:23.143687",
     "status": "completed"
    },
    "tags": []
   },
   "outputs": [],
   "source": [
    "# https://leetcode.com/problems/replace-elements-with-greatest-element-on-right-side/submissions/1301744473\n",
    "def replaceElements(arr: list[int]) -> list[int]:\n",
    "    N, max_ = len(arr), -1\n",
    "    for i in range(N - 1, -1, -1):\n",
    "        max_, arr[i] = max(max_, arr[i]), max_\n",
    "    return arr\n",
    "\n",
    "# Testing the solution\n",
    "assert replaceElements([17,18,5,4,6,1]) == [18,6,6,6,1,-1]\n",
    "assert replaceElements([400]) == [-1]"
   ]
  },
  {
   "cell_type": "markdown",
   "id": "35f4ea99",
   "metadata": {
    "papermill": {
     "duration": 0.003233,
     "end_time": "2024-06-29T17:24:23.159119",
     "exception": false,
     "start_time": "2024-06-29T17:24:23.155886",
     "status": "completed"
    },
    "tags": []
   },
   "source": [
    "Is Subsequence"
   ]
  },
  {
   "cell_type": "code",
   "execution_count": 6,
   "id": "c9569b8a",
   "metadata": {
    "execution": {
     "iopub.execute_input": "2024-06-29T17:24:23.166785Z",
     "iopub.status.busy": "2024-06-29T17:24:23.166446Z",
     "iopub.status.idle": "2024-06-29T17:24:23.170207Z",
     "shell.execute_reply": "2024-06-29T17:24:23.169762Z"
    },
    "lines_to_next_cell": 1,
    "papermill": {
     "duration": 0.008798,
     "end_time": "2024-06-29T17:24:23.171237",
     "exception": false,
     "start_time": "2024-06-29T17:24:23.162439",
     "status": "completed"
    },
    "tags": []
   },
   "outputs": [],
   "source": [
    "# https://leetcode.com/problems/is-subsequence/submissions/1285008314/\n",
    "def isSubsequence(s: str, t: str) -> bool:\n",
    "    s_len, t_len, i, j = len(s), len(t), 0, 0\n",
    "    while i < s_len and j < t_len:\n",
    "        if s[i] == t[j]:\n",
    "            i, j = i + 1, j + 1\n",
    "        else:\n",
    "            j += 1\n",
    "\n",
    "    return i == s_len\n",
    "\n",
    "# Testing the solution\n",
    "assert isSubsequence(\"abc\", \"ahbgdc\") == True\n",
    "assert isSubsequence(\"axc\", \"ahbgdc\") == False"
   ]
  },
  {
   "cell_type": "markdown",
   "id": "0d9faf13",
   "metadata": {
    "papermill": {
     "duration": 0.003426,
     "end_time": "2024-06-29T17:24:23.178153",
     "exception": false,
     "start_time": "2024-06-29T17:24:23.174727",
     "status": "completed"
    },
    "tags": []
   },
   "source": [
    "Length of Last word"
   ]
  },
  {
   "cell_type": "code",
   "execution_count": 7,
   "id": "e0d87324",
   "metadata": {
    "execution": {
     "iopub.execute_input": "2024-06-29T17:24:23.185785Z",
     "iopub.status.busy": "2024-06-29T17:24:23.185508Z",
     "iopub.status.idle": "2024-06-29T17:24:23.189225Z",
     "shell.execute_reply": "2024-06-29T17:24:23.188715Z"
    },
    "lines_to_next_cell": 1,
    "papermill": {
     "duration": 0.008883,
     "end_time": "2024-06-29T17:24:23.190339",
     "exception": false,
     "start_time": "2024-06-29T17:24:23.181456",
     "status": "completed"
    },
    "tags": []
   },
   "outputs": [],
   "source": [
    "# https://leetcode.com/problems/length-of-last-word/submissions/1301765924\n",
    "def lengthOfLastWord(s: str) -> int:\n",
    "    i, length = len(s) - 1, 0\n",
    "    while i >= 0:\n",
    "        if s[i] != ' ':\n",
    "            length += 1\n",
    "        elif length > 0:\n",
    "            break\n",
    "        i -= 1\n",
    "\n",
    "    return length\n",
    "\n",
    "# Testing the solution\n",
    "assert lengthOfLastWord(\"abc\") == 3\n",
    "assert lengthOfLastWord(\"abc   \") == 3\n",
    "assert lengthOfLastWord(\"abc   abcd \") == 4"
   ]
  },
  {
   "cell_type": "markdown",
   "id": "5ff5abc6",
   "metadata": {
    "papermill": {
     "duration": 0.003283,
     "end_time": "2024-06-29T17:24:23.196965",
     "exception": false,
     "start_time": "2024-06-29T17:24:23.193682",
     "status": "completed"
    },
    "tags": []
   },
   "source": [
    "Two sum"
   ]
  },
  {
   "cell_type": "code",
   "execution_count": 8,
   "id": "8d35c690",
   "metadata": {
    "execution": {
     "iopub.execute_input": "2024-06-29T17:24:23.204714Z",
     "iopub.status.busy": "2024-06-29T17:24:23.204228Z",
     "iopub.status.idle": "2024-06-29T17:24:23.208992Z",
     "shell.execute_reply": "2024-06-29T17:24:23.208481Z"
    },
    "lines_to_next_cell": 1,
    "papermill": {
     "duration": 0.009827,
     "end_time": "2024-06-29T17:24:23.210099",
     "exception": false,
     "start_time": "2024-06-29T17:24:23.200272",
     "status": "completed"
    },
    "tags": []
   },
   "outputs": [],
   "source": [
    "def twoSumBetter(nums: list[int], target: int) -> tuple[int, int]:\n",
    "    N = len(nums)\n",
    "\n",
    "    # Store all the indices\n",
    "    indices: collections.defaultdict[int, list[int]] = collections.defaultdict(list)\n",
    "    for i in range(N):\n",
    "        indices[nums[i]].append(i)\n",
    "\n",
    "    # For each idx1, check if we another idx2 who total equals target\n",
    "    for i in range(N):\n",
    "        n = nums[i]\n",
    "        if target - n in indices:\n",
    "            for idx in indices[target - n]:\n",
    "                if idx != i:\n",
    "                    return i, idx\n",
    "\n",
    "    return -1, -1\n",
    "\n",
    "# Testing the solution\n",
    "assert twoSumBetter([3,3,4], 6) == (0,1)\n",
    "assert twoSumBetter([3,2,4], 6) == (1,2)\n",
    "assert twoSumBetter([2,7,11,15], 13) == (0,2)"
   ]
  },
  {
   "cell_type": "code",
   "execution_count": 9,
   "id": "b1788ccd",
   "metadata": {
    "execution": {
     "iopub.execute_input": "2024-06-29T17:24:23.217727Z",
     "iopub.status.busy": "2024-06-29T17:24:23.217303Z",
     "iopub.status.idle": "2024-06-29T17:24:23.221513Z",
     "shell.execute_reply": "2024-06-29T17:24:23.221080Z"
    },
    "lines_to_next_cell": 1,
    "papermill": {
     "duration": 0.009066,
     "end_time": "2024-06-29T17:24:23.222536",
     "exception": false,
     "start_time": "2024-06-29T17:24:23.213470",
     "status": "completed"
    },
    "tags": []
   },
   "outputs": [],
   "source": [
    "def twoSum(nums: list[int], target: int) -> tuple[int, int]:\n",
    "    \"One pass solution from Neetcode\"\n",
    "    indices: dict[int, int] = dict()\n",
    "    for i in range(len(nums)):\n",
    "        if target - nums[i] in indices:\n",
    "            return indices[target - nums[i]], i\n",
    "        indices[nums[i]] = i\n",
    "\n",
    "    return -1, -1\n",
    "\n",
    "# Testing the solution\n",
    "assert twoSum([3,3,4], 6) == (0,1)\n",
    "assert twoSum([3,2,4], 6) == (1,2)\n",
    "assert twoSum([2,7,11,15], 13) == (0,2)"
   ]
  },
  {
   "cell_type": "markdown",
   "id": "863712d9",
   "metadata": {
    "papermill": {
     "duration": 0.003347,
     "end_time": "2024-06-29T17:24:23.229203",
     "exception": false,
     "start_time": "2024-06-29T17:24:23.225856",
     "status": "completed"
    },
    "tags": []
   },
   "source": [
    "Longest common prefix"
   ]
  },
  {
   "cell_type": "code",
   "execution_count": 10,
   "id": "39f57a0b",
   "metadata": {
    "execution": {
     "iopub.execute_input": "2024-06-29T17:24:23.236938Z",
     "iopub.status.busy": "2024-06-29T17:24:23.236524Z",
     "iopub.status.idle": "2024-06-29T17:24:23.240648Z",
     "shell.execute_reply": "2024-06-29T17:24:23.240104Z"
    },
    "lines_to_next_cell": 1,
    "papermill": {
     "duration": 0.009245,
     "end_time": "2024-06-29T17:24:23.241806",
     "exception": false,
     "start_time": "2024-06-29T17:24:23.232561",
     "status": "completed"
    },
    "tags": []
   },
   "outputs": [],
   "source": [
    "# https://leetcode.com/problems/longest-common-prefix/submissions/1301965071\n",
    "def longestCommonPrefix(strs: list[str]) -> str:\n",
    "    prefix: str = strs[0]\n",
    "    for string in strs[1:]:\n",
    "        i = 0\n",
    "        while i < len(prefix) and i < len(string) and prefix[i] == string[i]:\n",
    "            i += 1\n",
    "        prefix = prefix[:i]\n",
    "\n",
    "    return prefix\n",
    "\n",
    "# Testing the solution\n",
    "assert longestCommonPrefix([\"flow\", \"flower\", \"flight\"]) == \"fl\"\n",
    "assert longestCommonPrefix([\"dog\", \"car\"]) == \"\"\n",
    "assert longestCommonPrefix([\"dog\"]) == \"dog\""
   ]
  },
  {
   "cell_type": "markdown",
   "id": "2f683cba",
   "metadata": {
    "papermill": {
     "duration": 0.003353,
     "end_time": "2024-06-29T17:24:23.248513",
     "exception": false,
     "start_time": "2024-06-29T17:24:23.245160",
     "status": "completed"
    },
    "tags": []
   },
   "source": [
    "Group Anagrams"
   ]
  },
  {
   "cell_type": "code",
   "execution_count": 11,
   "id": "fca19f3c",
   "metadata": {
    "execution": {
     "iopub.execute_input": "2024-06-29T17:24:23.256251Z",
     "iopub.status.busy": "2024-06-29T17:24:23.255746Z",
     "iopub.status.idle": "2024-06-29T17:24:23.262977Z",
     "shell.execute_reply": "2024-06-29T17:24:23.262479Z"
    },
    "lines_to_next_cell": 1,
    "papermill": {
     "duration": 0.012202,
     "end_time": "2024-06-29T17:24:23.264033",
     "exception": false,
     "start_time": "2024-06-29T17:24:23.251831",
     "status": "completed"
    },
    "tags": []
   },
   "outputs": [
    {
     "data": {
      "text/plain": [
       "[['eat', 'tea', 'ate'], ['tan', 'nat'], ['bat'], ['']]"
      ]
     },
     "execution_count": 11,
     "metadata": {},
     "output_type": "execute_result"
    }
   ],
   "source": [
    "# https://leetcode.com/problems/group-anagrams/submissions/1301981761\n",
    "def groupAnagrams(strs: list[str]) -> list[list[str]]:\n",
    "    # Time: O(N x avg_str_length)\n",
    "    anagrams: collections.defaultdict[str, list[str]] = collections.defaultdict(list)\n",
    "    for string in strs:\n",
    "        freq: list[int] = [0 for _ in range(26)]\n",
    "        for ch in string:\n",
    "            freq[ord(ch) - ord('a')] += 1\n",
    "\n",
    "        freq_key: str = ','.join(map(str, freq))\n",
    "        anagrams[freq_key].append(string)\n",
    "\n",
    "    return list(anagrams.values())\n",
    "\n",
    "# Testing the solution\n",
    "groupAnagrams([\"eat\",\"tea\",\"tan\",\"ate\",\"nat\",\"bat\", \"\"])"
   ]
  },
  {
   "cell_type": "markdown",
   "id": "08810553",
   "metadata": {
    "papermill": {
     "duration": 0.003482,
     "end_time": "2024-06-29T17:24:23.270975",
     "exception": false,
     "start_time": "2024-06-29T17:24:23.267493",
     "status": "completed"
    },
    "tags": []
   },
   "source": [
    "Pascals Triangle"
   ]
  },
  {
   "cell_type": "code",
   "execution_count": 12,
   "id": "8f42682b",
   "metadata": {
    "execution": {
     "iopub.execute_input": "2024-06-29T17:24:23.278768Z",
     "iopub.status.busy": "2024-06-29T17:24:23.278419Z",
     "iopub.status.idle": "2024-06-29T17:24:23.282822Z",
     "shell.execute_reply": "2024-06-29T17:24:23.282414Z"
    },
    "lines_to_next_cell": 1,
    "papermill": {
     "duration": 0.009543,
     "end_time": "2024-06-29T17:24:23.283929",
     "exception": false,
     "start_time": "2024-06-29T17:24:23.274386",
     "status": "completed"
    },
    "tags": []
   },
   "outputs": [],
   "source": [
    "# https://leetcode.com/problems/pascals-triangle/submissions/1302000166\n",
    "def generatePascalsTriangle(N: int) -> list[list[int]]:\n",
    "    result: list[list[int]] = [[1]]\n",
    "    for i in range(1, N):\n",
    "        layer: list[int] = []\n",
    "        for j in range(i + 1):\n",
    "            layer.append((result[-1][j] if j < i else 0) + (result[-1][j - 1] if j - 1 >= 0 else 0))\n",
    "        result.append(layer)\n",
    "\n",
    "    return result\n",
    "\n",
    "# Testing the solution\n",
    "assert generatePascalsTriangle(5) == [[1],[1,1],[1,2,1],[1,3,3,1],[1,4,6,4,1]]"
   ]
  },
  {
   "cell_type": "markdown",
   "id": "44029b82",
   "metadata": {
    "papermill": {
     "duration": 0.003593,
     "end_time": "2024-06-29T17:24:23.291055",
     "exception": false,
     "start_time": "2024-06-29T17:24:23.287462",
     "status": "completed"
    },
    "tags": []
   },
   "source": [
    "Remove element"
   ]
  },
  {
   "cell_type": "code",
   "execution_count": 13,
   "id": "8fb28845",
   "metadata": {
    "execution": {
     "iopub.execute_input": "2024-06-29T17:24:23.299176Z",
     "iopub.status.busy": "2024-06-29T17:24:23.298675Z",
     "iopub.status.idle": "2024-06-29T17:24:23.303719Z",
     "shell.execute_reply": "2024-06-29T17:24:23.303190Z"
    },
    "lines_to_next_cell": 1,
    "papermill": {
     "duration": 0.010255,
     "end_time": "2024-06-29T17:24:23.304842",
     "exception": false,
     "start_time": "2024-06-29T17:24:23.294587",
     "status": "completed"
    },
    "tags": []
   },
   "outputs": [
    {
     "name": "stdout",
     "output_type": "stream",
     "text": [
      "[2, 2]\n",
      "[0, 1, 3, 0, 4]\n"
     ]
    }
   ],
   "source": [
    "# https://leetcode.com/problems/remove-element/submissions/1303667206/\n",
    "def removeElement(nums: list[int], val: int) -> int:\n",
    "    N, i, j = len(nums), 0, 0\n",
    "    while j < N:\n",
    "        if nums[j] != val:\n",
    "            nums[i] = nums[j]\n",
    "            i += 1\n",
    "        j += 1\n",
    "\n",
    "    print(nums[:i])\n",
    "    return i\n",
    "\n",
    "# Testing the solution\n",
    "assert removeElement([3,2,2,3], 3) == 2\n",
    "assert removeElement([0,1,2,2,3,0,4,2], 2) == 5"
   ]
  },
  {
   "cell_type": "markdown",
   "id": "ac4870d5",
   "metadata": {
    "papermill": {
     "duration": 0.003612,
     "end_time": "2024-06-29T17:24:23.311957",
     "exception": false,
     "start_time": "2024-06-29T17:24:23.308345",
     "status": "completed"
    },
    "tags": []
   },
   "source": [
    "Unique Email Addresses"
   ]
  },
  {
   "cell_type": "code",
   "execution_count": 14,
   "id": "d0a3c36e",
   "metadata": {
    "execution": {
     "iopub.execute_input": "2024-06-29T17:24:23.319920Z",
     "iopub.status.busy": "2024-06-29T17:24:23.319510Z",
     "iopub.status.idle": "2024-06-29T17:24:23.324624Z",
     "shell.execute_reply": "2024-06-29T17:24:23.324152Z"
    },
    "lines_to_next_cell": 1,
    "papermill": {
     "duration": 0.010269,
     "end_time": "2024-06-29T17:24:23.325691",
     "exception": false,
     "start_time": "2024-06-29T17:24:23.315422",
     "status": "completed"
    },
    "tags": []
   },
   "outputs": [],
   "source": [
    "# https://leetcode.com/problems/unique-email-addresses/submissions/1303683218/\n",
    "def numUniqueEmails(emails: list[str]) -> int:\n",
    "    email_set: set[str] = set()\n",
    "    for email in emails:\n",
    "        email_rep: list[str] = []\n",
    "        domain, i = False, 0\n",
    "        while i < len(email):\n",
    "            if email[i] not in ('+', '.', '@'):\n",
    "                email_rep.append(email[i])\n",
    "            elif email[i] == '.':\n",
    "                if domain:\n",
    "                    email_rep.append(email[i])\n",
    "            elif email[i] == '+':\n",
    "                if domain:\n",
    "                    email_rep.append(email[i])\n",
    "                else:\n",
    "                    while email[i + 1] != '@':\n",
    "                        i += 1\n",
    "            else:\n",
    "                email_rep.append(email[i])\n",
    "                domain = True\n",
    "            i += 1\n",
    "        email_set.add(''.join(email_rep))\n",
    "\n",
    "    return len(email_set)\n",
    "\n",
    "# Testing the solution\n",
    "assert numUniqueEmails([\"test.email+alex@leetcode.com\",\"test.e.mail+bob.cathy@leetcode.com\",\"testemail+david@lee.tcode.com\"]) == 2\n",
    "assert numUniqueEmails([\"a@leetcode.com\",\"b@leetcode.com\",\"c@leetcode.com\"]) == 3"
   ]
  },
  {
   "cell_type": "markdown",
   "id": "2102af06",
   "metadata": {
    "papermill": {
     "duration": 0.003541,
     "end_time": "2024-06-29T17:24:23.332734",
     "exception": false,
     "start_time": "2024-06-29T17:24:23.329193",
     "status": "completed"
    },
    "tags": []
   },
   "source": [
    "Isomorphic Strings"
   ]
  },
  {
   "cell_type": "code",
   "execution_count": 15,
   "id": "75db0d24",
   "metadata": {
    "execution": {
     "iopub.execute_input": "2024-06-29T17:24:23.340740Z",
     "iopub.status.busy": "2024-06-29T17:24:23.340251Z",
     "iopub.status.idle": "2024-06-29T17:24:23.344900Z",
     "shell.execute_reply": "2024-06-29T17:24:23.344485Z"
    },
    "lines_to_next_cell": 1,
    "papermill": {
     "duration": 0.009768,
     "end_time": "2024-06-29T17:24:23.345976",
     "exception": false,
     "start_time": "2024-06-29T17:24:23.336208",
     "status": "completed"
    },
    "tags": []
   },
   "outputs": [],
   "source": [
    "def isIsomorphic(s1: str, s2: str) -> bool:\n",
    "    mapping: dict[str, str] = dict()\n",
    "    rev_mapping: dict[str, str] = dict()\n",
    "    for i in range(len(s1)):\n",
    "        if s1[i] not in mapping and s2[i] not in rev_mapping:\n",
    "            mapping[s1[i]] = s2[i]\n",
    "            rev_mapping[s2[i]] = s1[i]\n",
    "        elif s1[i] in mapping and s2[i] in rev_mapping:\n",
    "            if not mapping[s1[i]] == s2[i] or not rev_mapping[s2[i]] == s1[i]:\n",
    "                return False\n",
    "        else:\n",
    "            return False\n",
    "\n",
    "    return True\n",
    "\n",
    "# Testing the solution\n",
    "assert isIsomorphic(\"egg\", \"add\") == True\n",
    "assert isIsomorphic(\"abc\", \"baa\") == False\n",
    "assert isIsomorphic(\"aabb\", \"baba\") == False\n",
    "assert isIsomorphic(\"paper\", \"title\") == True"
   ]
  },
  {
   "cell_type": "markdown",
   "id": "4b0b1937",
   "metadata": {
    "papermill": {
     "duration": 0.003499,
     "end_time": "2024-06-29T17:24:23.353020",
     "exception": false,
     "start_time": "2024-06-29T17:24:23.349521",
     "status": "completed"
    },
    "tags": []
   },
   "source": [
    "Can place flowers"
   ]
  },
  {
   "cell_type": "code",
   "execution_count": 16,
   "id": "124d8f5e",
   "metadata": {
    "execution": {
     "iopub.execute_input": "2024-06-29T17:24:23.360736Z",
     "iopub.status.busy": "2024-06-29T17:24:23.360533Z",
     "iopub.status.idle": "2024-06-29T17:24:23.364836Z",
     "shell.execute_reply": "2024-06-29T17:24:23.364384Z"
    },
    "papermill": {
     "duration": 0.00936,
     "end_time": "2024-06-29T17:24:23.365854",
     "exception": false,
     "start_time": "2024-06-29T17:24:23.356494",
     "status": "completed"
    },
    "tags": []
   },
   "outputs": [],
   "source": [
    "# https://leetcode.com/problems/can-place-flowers/submissions/1303795340\n",
    "def canPlaceFlowers(flowerbed: list[int], n_flowers: int) -> bool:\n",
    "    N = len(flowerbed)\n",
    "    for i in range(N):\n",
    "        left, mid, right = flowerbed[i - 1] if i - 1 >= 0 else 0, flowerbed[i], flowerbed[i + 1] if i + 1 < N else 0\n",
    "        if left == mid == right:\n",
    "            flowerbed[i], n_flowers = 1, n_flowers - 1\n",
    "\n",
    "    return n_flowers <= 0\n",
    "\n",
    "# Testing the solution\n",
    "assert canPlaceFlowers([1,0,0,0,1], 1) == True\n",
    "assert canPlaceFlowers([1,0,0,0,1], 2) == False"
   ]
  }
 ],
 "metadata": {
  "kernelspec": {
   "display_name": "Python 3 (ipykernel)",
   "language": "python",
   "name": "python3"
  },
  "language_info": {
   "codemirror_mode": {
    "name": "ipython",
    "version": 3
   },
   "file_extension": ".py",
   "mimetype": "text/x-python",
   "name": "python",
   "nbconvert_exporter": "python",
   "pygments_lexer": "ipython3",
   "version": "3.11.9"
  },
  "papermill": {
   "default_parameters": {},
   "duration": 1.547193,
   "end_time": "2024-06-29T17:24:23.484224",
   "environment_variables": {},
   "exception": null,
   "input_path": "study/neetcode/01-arrays-and-hashing.ipynb",
   "output_path": "study/neetcode/01-arrays-and-hashing.ipynb",
   "parameters": {},
   "start_time": "2024-06-29T17:24:21.937031",
   "version": "2.6.0"
  }
 },
 "nbformat": 4,
 "nbformat_minor": 5
}