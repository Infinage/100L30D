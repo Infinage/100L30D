{
 "cells": [
  {
   "cell_type": "markdown",
   "id": "3fdf69c6",
   "metadata": {
    "papermill": {
     "duration": 0.004191,
     "end_time": "2024-06-29T11:06:15.686199",
     "exception": false,
     "start_time": "2024-06-29T11:06:15.682008",
     "status": "completed"
    },
    "tags": []
   },
   "source": [
    "### Neccessary file imports"
   ]
  },
  {
   "cell_type": "code",
   "execution_count": 1,
   "id": "21971dda",
   "metadata": {
    "execution": {
     "iopub.execute_input": "2024-06-29T11:06:15.694419Z",
     "iopub.status.busy": "2024-06-29T11:06:15.693960Z",
     "iopub.status.idle": "2024-06-29T11:06:15.699480Z",
     "shell.execute_reply": "2024-06-29T11:06:15.698974Z"
    },
    "lines_to_next_cell": 1,
    "papermill": {
     "duration": 0.011117,
     "end_time": "2024-06-29T11:06:15.700812",
     "exception": false,
     "start_time": "2024-06-29T11:06:15.689695",
     "status": "completed"
    },
    "tags": []
   },
   "outputs": [],
   "source": [
    "import math\n",
    "import collections\n",
    "import functools\n",
    "import heapq\n",
    "import bisect\n",
    "import random"
   ]
  },
  {
   "cell_type": "markdown",
   "id": "de28faf4",
   "metadata": {
    "papermill": {
     "duration": 0.0032,
     "end_time": "2024-06-29T11:06:15.707391",
     "exception": false,
     "start_time": "2024-06-29T11:06:15.704191",
     "status": "completed"
    },
    "tags": []
   },
   "source": [
    "Contains duplicate"
   ]
  },
  {
   "cell_type": "code",
   "execution_count": 2,
   "id": "b1626aac",
   "metadata": {
    "execution": {
     "iopub.execute_input": "2024-06-29T11:06:15.715773Z",
     "iopub.status.busy": "2024-06-29T11:06:15.715319Z",
     "iopub.status.idle": "2024-06-29T11:06:15.719333Z",
     "shell.execute_reply": "2024-06-29T11:06:15.718832Z"
    },
    "lines_to_next_cell": 1,
    "papermill": {
     "duration": 0.009902,
     "end_time": "2024-06-29T11:06:15.720502",
     "exception": false,
     "start_time": "2024-06-29T11:06:15.710600",
     "status": "completed"
    },
    "tags": []
   },
   "outputs": [],
   "source": [
    "# https://leetcode.com/problems/contains-duplicate/submissions/1301625329/\n",
    "def containsDuplicate(nums: list[int]) -> bool:\n",
    "    set_: set[int] = set()\n",
    "    for n in nums:\n",
    "        if n in set_:\n",
    "            return True\n",
    "        set_.add(n)\n",
    "    return False\n",
    "\n",
    "# Testing the solution\n",
    "assert containsDuplicate([1,1,2,2,3,4]) == True\n",
    "assert containsDuplicate([1,2,3,4,10]) == False"
   ]
  },
  {
   "cell_type": "markdown",
   "id": "83540d6f",
   "metadata": {
    "papermill": {
     "duration": 0.003197,
     "end_time": "2024-06-29T11:06:15.727021",
     "exception": false,
     "start_time": "2024-06-29T11:06:15.723824",
     "status": "completed"
    },
    "tags": []
   },
   "source": [
    "Valid Anagram"
   ]
  },
  {
   "cell_type": "code",
   "execution_count": 3,
   "id": "4877cbdf",
   "metadata": {
    "execution": {
     "iopub.execute_input": "2024-06-29T11:06:15.734396Z",
     "iopub.status.busy": "2024-06-29T11:06:15.734123Z",
     "iopub.status.idle": "2024-06-29T11:06:15.738391Z",
     "shell.execute_reply": "2024-06-29T11:06:15.737966Z"
    },
    "lines_to_next_cell": 1,
    "papermill": {
     "duration": 0.009125,
     "end_time": "2024-06-29T11:06:15.739410",
     "exception": false,
     "start_time": "2024-06-29T11:06:15.730285",
     "status": "completed"
    },
    "tags": []
   },
   "outputs": [],
   "source": [
    "# \n",
    "# https://leetcode.com/problems/valid-anagram/submissions/1301649707/\n",
    "def isAnagram(s1: str, s2: str) -> bool:\n",
    "    N1, N2 = len(s1), len(s2)\n",
    "    if N1 != N2:\n",
    "        return False\n",
    "    else:\n",
    "        freq: list[int] = [0 for i in range(26)]\n",
    "        for i in range(N1):\n",
    "            freq[ord(s1[i]) - ord('a')] += 1\n",
    "            freq[ord(s2[i]) - ord('a')] -= 1\n",
    "        return not any(filter(lambda x: x != 0, freq))\n",
    "\n",
    "# Testing the solution\n",
    "assert isAnagram(\"anagram\", \"nagaram\") == True\n",
    "assert isAnagram(\"rat\", \"car\") == False"
   ]
  },
  {
   "cell_type": "markdown",
   "id": "df42a1f5",
   "metadata": {
    "papermill": {
     "duration": 0.003196,
     "end_time": "2024-06-29T11:06:15.745869",
     "exception": false,
     "start_time": "2024-06-29T11:06:15.742673",
     "status": "completed"
    },
    "tags": []
   },
   "source": [
    "Concatenation of array"
   ]
  },
  {
   "cell_type": "code",
   "execution_count": 4,
   "id": "efbdfbb7",
   "metadata": {
    "execution": {
     "iopub.execute_input": "2024-06-29T11:06:15.753341Z",
     "iopub.status.busy": "2024-06-29T11:06:15.752907Z",
     "iopub.status.idle": "2024-06-29T11:06:15.756598Z",
     "shell.execute_reply": "2024-06-29T11:06:15.756080Z"
    },
    "lines_to_next_cell": 1,
    "papermill": {
     "duration": 0.008581,
     "end_time": "2024-06-29T11:06:15.757664",
     "exception": false,
     "start_time": "2024-06-29T11:06:15.749083",
     "status": "completed"
    },
    "tags": []
   },
   "outputs": [],
   "source": [
    "# https://leetcode.com/problems/concatenation-of-array/submissions/1301720169/\n",
    "def getConcatenation(nums: list[int]) -> list[int]:\n",
    "    N = len(nums)\n",
    "    result: list[int] = []\n",
    "    for i in range(2 * N):\n",
    "        result.append(nums[i % N])\n",
    "\n",
    "    return result\n",
    "\n",
    "# Testing the solution\n",
    "assert getConcatenation([1,2]) == [1,2,1,2]\n",
    "assert getConcatenation([1,2,3]) == [1,2,3,1,2,3]"
   ]
  },
  {
   "cell_type": "markdown",
   "id": "2c5e7cdb",
   "metadata": {
    "papermill": {
     "duration": 0.003216,
     "end_time": "2024-06-29T11:06:15.764188",
     "exception": false,
     "start_time": "2024-06-29T11:06:15.760972",
     "status": "completed"
    },
    "tags": []
   },
   "source": [
    "Replace elements with greater on the right side"
   ]
  },
  {
   "cell_type": "code",
   "execution_count": 5,
   "id": "c0f31c72",
   "metadata": {
    "execution": {
     "iopub.execute_input": "2024-06-29T11:06:15.771909Z",
     "iopub.status.busy": "2024-06-29T11:06:15.771433Z",
     "iopub.status.idle": "2024-06-29T11:06:15.775185Z",
     "shell.execute_reply": "2024-06-29T11:06:15.774745Z"
    },
    "lines_to_next_cell": 1,
    "papermill": {
     "duration": 0.008764,
     "end_time": "2024-06-29T11:06:15.776204",
     "exception": false,
     "start_time": "2024-06-29T11:06:15.767440",
     "status": "completed"
    },
    "tags": []
   },
   "outputs": [],
   "source": [
    "# https://leetcode.com/problems/replace-elements-with-greatest-element-on-right-side/submissions/1301744473\n",
    "def replaceElements(arr: list[int]) -> list[int]:\n",
    "    N, max_ = len(arr), -1\n",
    "    for i in range(N - 1, -1, -1):\n",
    "        max_, arr[i] = max(max_, arr[i]), max_\n",
    "    return arr\n",
    "\n",
    "# Testing the solution\n",
    "assert replaceElements([17,18,5,4,6,1]) == [18,6,6,6,1,-1]\n",
    "assert replaceElements([400]) == [-1]"
   ]
  },
  {
   "cell_type": "markdown",
   "id": "35f4ea99",
   "metadata": {
    "papermill": {
     "duration": 0.003192,
     "end_time": "2024-06-29T11:06:15.782650",
     "exception": false,
     "start_time": "2024-06-29T11:06:15.779458",
     "status": "completed"
    },
    "tags": []
   },
   "source": [
    "Is Subsequence"
   ]
  },
  {
   "cell_type": "code",
   "execution_count": 6,
   "id": "c9569b8a",
   "metadata": {
    "execution": {
     "iopub.execute_input": "2024-06-29T11:06:15.789993Z",
     "iopub.status.busy": "2024-06-29T11:06:15.789794Z",
     "iopub.status.idle": "2024-06-29T11:06:15.793627Z",
     "shell.execute_reply": "2024-06-29T11:06:15.793179Z"
    },
    "lines_to_next_cell": 1,
    "papermill": {
     "duration": 0.008787,
     "end_time": "2024-06-29T11:06:15.794645",
     "exception": false,
     "start_time": "2024-06-29T11:06:15.785858",
     "status": "completed"
    },
    "tags": []
   },
   "outputs": [],
   "source": [
    "# https://leetcode.com/problems/is-subsequence/submissions/1285008314/\n",
    "def isSubsequence(s: str, t: str) -> bool:\n",
    "    s_len, t_len, i, j = len(s), len(t), 0, 0\n",
    "    while i < s_len and j < t_len:\n",
    "        if s[i] == t[j]:\n",
    "            i, j = i + 1, j + 1\n",
    "        else:\n",
    "            j += 1\n",
    "\n",
    "    return i == s_len\n",
    "\n",
    "# Testing the solution\n",
    "assert isSubsequence(\"abc\", \"ahbgdc\") == True\n",
    "assert isSubsequence(\"axc\", \"ahbgdc\") == False"
   ]
  },
  {
   "cell_type": "markdown",
   "id": "0d9faf13",
   "metadata": {
    "papermill": {
     "duration": 0.003256,
     "end_time": "2024-06-29T11:06:15.801248",
     "exception": false,
     "start_time": "2024-06-29T11:06:15.797992",
     "status": "completed"
    },
    "tags": []
   },
   "source": [
    "Length of Last word"
   ]
  },
  {
   "cell_type": "code",
   "execution_count": 7,
   "id": "e0d87324",
   "metadata": {
    "execution": {
     "iopub.execute_input": "2024-06-29T11:06:15.808749Z",
     "iopub.status.busy": "2024-06-29T11:06:15.808286Z",
     "iopub.status.idle": "2024-06-29T11:06:15.811975Z",
     "shell.execute_reply": "2024-06-29T11:06:15.811516Z"
    },
    "lines_to_next_cell": 1,
    "papermill": {
     "duration": 0.008608,
     "end_time": "2024-06-29T11:06:15.813019",
     "exception": false,
     "start_time": "2024-06-29T11:06:15.804411",
     "status": "completed"
    },
    "tags": []
   },
   "outputs": [],
   "source": [
    "# https://leetcode.com/problems/length-of-last-word/submissions/1301765924\n",
    "def lengthOfLastWord(s: str) -> int:\n",
    "    i, length = len(s) - 1, 0\n",
    "    while i >= 0:\n",
    "        if s[i] != ' ':\n",
    "            length += 1\n",
    "        elif length > 0:\n",
    "            break\n",
    "        i -= 1\n",
    "\n",
    "    return length\n",
    "\n",
    "# Testing the solution\n",
    "assert lengthOfLastWord(\"abc\") == 3\n",
    "assert lengthOfLastWord(\"abc   \") == 3\n",
    "assert lengthOfLastWord(\"abc   abcd \") == 4"
   ]
  },
  {
   "cell_type": "markdown",
   "id": "5ff5abc6",
   "metadata": {
    "papermill": {
     "duration": 0.003206,
     "end_time": "2024-06-29T11:06:15.819453",
     "exception": false,
     "start_time": "2024-06-29T11:06:15.816247",
     "status": "completed"
    },
    "tags": []
   },
   "source": [
    "Two sum"
   ]
  },
  {
   "cell_type": "code",
   "execution_count": 8,
   "id": "8d35c690",
   "metadata": {
    "execution": {
     "iopub.execute_input": "2024-06-29T11:06:15.826845Z",
     "iopub.status.busy": "2024-06-29T11:06:15.826508Z",
     "iopub.status.idle": "2024-06-29T11:06:15.831178Z",
     "shell.execute_reply": "2024-06-29T11:06:15.830647Z"
    },
    "lines_to_next_cell": 1,
    "papermill": {
     "duration": 0.009621,
     "end_time": "2024-06-29T11:06:15.832308",
     "exception": false,
     "start_time": "2024-06-29T11:06:15.822687",
     "status": "completed"
    },
    "tags": []
   },
   "outputs": [],
   "source": [
    "def twoSumBetter(nums: list[int], target: int) -> tuple[int, int]:\n",
    "    N = len(nums)\n",
    "\n",
    "    # Store all the indices\n",
    "    indices: collections.defaultdict[int, list[int]] = collections.defaultdict(list)\n",
    "    for i in range(N):\n",
    "        indices[nums[i]].append(i)\n",
    "\n",
    "    # For each idx1, check if we another idx2 who total equals target\n",
    "    for i in range(N):\n",
    "        n = nums[i]\n",
    "        if target - n in indices:\n",
    "            for idx in indices[target - n]:\n",
    "                if idx != i:\n",
    "                    return i, idx\n",
    "\n",
    "    return -1, -1\n",
    "\n",
    "# Testing the solution\n",
    "assert twoSumBetter([3,3,4], 6) == (0,1)\n",
    "assert twoSumBetter([3,2,4], 6) == (1,2)\n",
    "assert twoSumBetter([2,7,11,15], 13) == (0,2)"
   ]
  },
  {
   "cell_type": "code",
   "execution_count": 9,
   "id": "b1788ccd",
   "metadata": {
    "execution": {
     "iopub.execute_input": "2024-06-29T11:06:15.839752Z",
     "iopub.status.busy": "2024-06-29T11:06:15.839356Z",
     "iopub.status.idle": "2024-06-29T11:06:15.843515Z",
     "shell.execute_reply": "2024-06-29T11:06:15.843078Z"
    },
    "lines_to_next_cell": 1,
    "papermill": {
     "duration": 0.008973,
     "end_time": "2024-06-29T11:06:15.844559",
     "exception": false,
     "start_time": "2024-06-29T11:06:15.835586",
     "status": "completed"
    },
    "tags": []
   },
   "outputs": [],
   "source": [
    "def twoSum(nums: list[int], target: int) -> tuple[int, int]:\n",
    "    \"One pass solution from Neetcode\"\n",
    "    indices: dict[int, int] = dict()\n",
    "    for i in range(len(nums)):\n",
    "        if target - nums[i] in indices:\n",
    "            return indices[target - nums[i]], i\n",
    "        indices[nums[i]] = i\n",
    "\n",
    "    return -1, -1\n",
    "\n",
    "# Testing the solution\n",
    "assert twoSum([3,3,4], 6) == (0,1)\n",
    "assert twoSum([3,2,4], 6) == (1,2)\n",
    "assert twoSum([2,7,11,15], 13) == (0,2)"
   ]
  },
  {
   "cell_type": "markdown",
   "id": "863712d9",
   "metadata": {
    "papermill": {
     "duration": 0.003275,
     "end_time": "2024-06-29T11:06:15.851061",
     "exception": false,
     "start_time": "2024-06-29T11:06:15.847786",
     "status": "completed"
    },
    "tags": []
   },
   "source": [
    "Longest common prefix"
   ]
  },
  {
   "cell_type": "code",
   "execution_count": 10,
   "id": "39f57a0b",
   "metadata": {
    "execution": {
     "iopub.execute_input": "2024-06-29T11:06:15.858451Z",
     "iopub.status.busy": "2024-06-29T11:06:15.858071Z",
     "iopub.status.idle": "2024-06-29T11:06:15.861871Z",
     "shell.execute_reply": "2024-06-29T11:06:15.861359Z"
    },
    "lines_to_next_cell": 1,
    "papermill": {
     "duration": 0.008603,
     "end_time": "2024-06-29T11:06:15.862887",
     "exception": false,
     "start_time": "2024-06-29T11:06:15.854284",
     "status": "completed"
    },
    "tags": []
   },
   "outputs": [],
   "source": [
    "# https://leetcode.com/problems/longest-common-prefix/submissions/1301965071\n",
    "def longestCommonPrefix(strs: list[str]) -> str:\n",
    "    prefix: str = strs[0]\n",
    "    for string in strs[1:]:\n",
    "        i = 0\n",
    "        while i < len(prefix) and i < len(string) and prefix[i] == string[i]:\n",
    "            i += 1\n",
    "        prefix = prefix[:i]\n",
    "\n",
    "    return prefix\n",
    "\n",
    "# Testing the solution\n",
    "assert longestCommonPrefix([\"flow\", \"flower\", \"flight\"]) == \"fl\"\n",
    "assert longestCommonPrefix([\"dog\", \"car\"]) == \"\"\n",
    "assert longestCommonPrefix([\"dog\"]) == \"dog\""
   ]
  },
  {
   "cell_type": "markdown",
   "id": "2f683cba",
   "metadata": {
    "papermill": {
     "duration": 0.003469,
     "end_time": "2024-06-29T11:06:15.869609",
     "exception": false,
     "start_time": "2024-06-29T11:06:15.866140",
     "status": "completed"
    },
    "tags": []
   },
   "source": [
    "Group Anagrams"
   ]
  },
  {
   "cell_type": "code",
   "execution_count": 11,
   "id": "fca19f3c",
   "metadata": {
    "execution": {
     "iopub.execute_input": "2024-06-29T11:06:15.877023Z",
     "iopub.status.busy": "2024-06-29T11:06:15.876628Z",
     "iopub.status.idle": "2024-06-29T11:06:15.883776Z",
     "shell.execute_reply": "2024-06-29T11:06:15.883283Z"
    },
    "lines_to_next_cell": 1,
    "papermill": {
     "duration": 0.012137,
     "end_time": "2024-06-29T11:06:15.884942",
     "exception": false,
     "start_time": "2024-06-29T11:06:15.872805",
     "status": "completed"
    },
    "tags": []
   },
   "outputs": [
    {
     "data": {
      "text/plain": [
       "[['eat', 'tea', 'ate'], ['tan', 'nat'], ['bat'], ['']]"
      ]
     },
     "execution_count": 11,
     "metadata": {},
     "output_type": "execute_result"
    }
   ],
   "source": [
    "# https://leetcode.com/problems/group-anagrams/submissions/1301981761\n",
    "def groupAnagrams(strs: list[str]) -> list[list[str]]:\n",
    "    # Time: O(N x avg_str_length)\n",
    "    anagrams: collections.defaultdict[str, list[str]] = collections.defaultdict(list)\n",
    "    for string in strs:\n",
    "        freq: list[int] = [0 for _ in range(26)]\n",
    "        for ch in string:\n",
    "            freq[ord(ch) - ord('a')] += 1\n",
    "\n",
    "        freq_key: str = ','.join(map(str, freq))\n",
    "        anagrams[freq_key].append(string)\n",
    "\n",
    "    return list(anagrams.values())\n",
    "\n",
    "# Testing the solution\n",
    "groupAnagrams([\"eat\",\"tea\",\"tan\",\"ate\",\"nat\",\"bat\", \"\"])"
   ]
  },
  {
   "cell_type": "markdown",
   "id": "08810553",
   "metadata": {
    "papermill": {
     "duration": 0.003381,
     "end_time": "2024-06-29T11:06:15.891671",
     "exception": false,
     "start_time": "2024-06-29T11:06:15.888290",
     "status": "completed"
    },
    "tags": []
   },
   "source": [
    "Pascals Triangle"
   ]
  },
  {
   "cell_type": "code",
   "execution_count": 12,
   "id": "8f42682b",
   "metadata": {
    "execution": {
     "iopub.execute_input": "2024-06-29T11:06:15.899199Z",
     "iopub.status.busy": "2024-06-29T11:06:15.898829Z",
     "iopub.status.idle": "2024-06-29T11:06:15.902991Z",
     "shell.execute_reply": "2024-06-29T11:06:15.902487Z"
    },
    "lines_to_next_cell": 1,
    "papermill": {
     "duration": 0.009027,
     "end_time": "2024-06-29T11:06:15.904015",
     "exception": false,
     "start_time": "2024-06-29T11:06:15.894988",
     "status": "completed"
    },
    "tags": []
   },
   "outputs": [],
   "source": [
    "# https://leetcode.com/problems/pascals-triangle/submissions/1302000166\n",
    "def generatePascalsTriangle(N: int) -> list[list[int]]:\n",
    "    result: list[list[int]] = [[1]]\n",
    "    for i in range(1, N):\n",
    "        layer: list[int] = []\n",
    "        for j in range(i + 1):\n",
    "            layer.append((result[-1][j] if j < i else 0) + (result[-1][j - 1] if j - 1 >= 0 else 0))\n",
    "        result.append(layer)\n",
    "\n",
    "    return result\n",
    "\n",
    "# Testing the solution\n",
    "assert generatePascalsTriangle(5) == [[1],[1,1],[1,2,1],[1,3,3,1],[1,4,6,4,1]]"
   ]
  },
  {
   "cell_type": "markdown",
   "id": "44029b82",
   "metadata": {
    "papermill": {
     "duration": 0.004123,
     "end_time": "2024-06-29T11:06:15.911787",
     "exception": false,
     "start_time": "2024-06-29T11:06:15.907664",
     "status": "completed"
    },
    "tags": []
   },
   "source": [
    "Remove element"
   ]
  },
  {
   "cell_type": "code",
   "execution_count": 13,
   "id": "8fb28845",
   "metadata": {
    "execution": {
     "iopub.execute_input": "2024-06-29T11:06:15.920061Z",
     "iopub.status.busy": "2024-06-29T11:06:15.919883Z",
     "iopub.status.idle": "2024-06-29T11:06:15.924436Z",
     "shell.execute_reply": "2024-06-29T11:06:15.923974Z"
    },
    "lines_to_next_cell": 1,
    "papermill": {
     "duration": 0.009886,
     "end_time": "2024-06-29T11:06:15.925503",
     "exception": false,
     "start_time": "2024-06-29T11:06:15.915617",
     "status": "completed"
    },
    "tags": []
   },
   "outputs": [
    {
     "name": "stdout",
     "output_type": "stream",
     "text": [
      "[2, 2]\n",
      "[0, 1, 3, 0, 4]\n"
     ]
    }
   ],
   "source": [
    "# https://leetcode.com/problems/remove-element/submissions/1303667206/\n",
    "def removeElement(nums: list[int], val: int) -> int:\n",
    "    N, i, j = len(nums), 0, 0\n",
    "    while j < N:\n",
    "        if nums[j] != val:\n",
    "            nums[i] = nums[j]\n",
    "            i += 1\n",
    "        j += 1\n",
    "\n",
    "    print(nums[:i])\n",
    "    return i\n",
    "\n",
    "# Testing the solution\n",
    "assert removeElement([3,2,2,3], 3) == 2\n",
    "assert removeElement([0,1,2,2,3,0,4,2], 2) == 5"
   ]
  },
  {
   "cell_type": "markdown",
   "id": "ac4870d5",
   "metadata": {
    "papermill": {
     "duration": 0.003394,
     "end_time": "2024-06-29T11:06:15.932276",
     "exception": false,
     "start_time": "2024-06-29T11:06:15.928882",
     "status": "completed"
    },
    "tags": []
   },
   "source": [
    "Unique Email Addresses"
   ]
  },
  {
   "cell_type": "code",
   "execution_count": 14,
   "id": "d0a3c36e",
   "metadata": {
    "execution": {
     "iopub.execute_input": "2024-06-29T11:06:15.939932Z",
     "iopub.status.busy": "2024-06-29T11:06:15.939559Z",
     "iopub.status.idle": "2024-06-29T11:06:15.944629Z",
     "shell.execute_reply": "2024-06-29T11:06:15.944179Z"
    },
    "lines_to_next_cell": 1,
    "papermill": {
     "duration": 0.010057,
     "end_time": "2024-06-29T11:06:15.945682",
     "exception": false,
     "start_time": "2024-06-29T11:06:15.935625",
     "status": "completed"
    },
    "tags": []
   },
   "outputs": [],
   "source": [
    "# https://leetcode.com/problems/unique-email-addresses/submissions/1303683218/\n",
    "def numUniqueEmails(emails: list[str]) -> int:\n",
    "    email_set: set[str] = set()\n",
    "    for email in emails:\n",
    "        email_rep: list[str] = []\n",
    "        domain, i = False, 0\n",
    "        while i < len(email):\n",
    "            if email[i] not in ('+', '.', '@'):\n",
    "                email_rep.append(email[i])\n",
    "            elif email[i] == '.':\n",
    "                if domain:\n",
    "                    email_rep.append(email[i])\n",
    "            elif email[i] == '+':\n",
    "                if domain:\n",
    "                    email_rep.append(email[i])\n",
    "                else:\n",
    "                    while email[i + 1] != '@':\n",
    "                        i += 1\n",
    "            else:\n",
    "                email_rep.append(email[i])\n",
    "                domain = True\n",
    "            i += 1\n",
    "        email_set.add(''.join(email_rep))\n",
    "\n",
    "    return len(email_set)\n",
    "\n",
    "# Testing the solution\n",
    "assert numUniqueEmails([\"test.email+alex@leetcode.com\",\"test.e.mail+bob.cathy@leetcode.com\",\"testemail+david@lee.tcode.com\"]) == 2\n",
    "assert numUniqueEmails([\"a@leetcode.com\",\"b@leetcode.com\",\"c@leetcode.com\"]) == 3"
   ]
  },
  {
   "cell_type": "markdown",
   "id": "2102af06",
   "metadata": {
    "papermill": {
     "duration": 0.003397,
     "end_time": "2024-06-29T11:06:15.952498",
     "exception": false,
     "start_time": "2024-06-29T11:06:15.949101",
     "status": "completed"
    },
    "tags": []
   },
   "source": [
    "Isomorphic Strings"
   ]
  },
  {
   "cell_type": "code",
   "execution_count": 15,
   "id": "75db0d24",
   "metadata": {
    "execution": {
     "iopub.execute_input": "2024-06-29T11:06:15.960344Z",
     "iopub.status.busy": "2024-06-29T11:06:15.959909Z",
     "iopub.status.idle": "2024-06-29T11:06:15.964823Z",
     "shell.execute_reply": "2024-06-29T11:06:15.964307Z"
    },
    "lines_to_next_cell": 1,
    "papermill": {
     "duration": 0.009953,
     "end_time": "2024-06-29T11:06:15.965927",
     "exception": false,
     "start_time": "2024-06-29T11:06:15.955974",
     "status": "completed"
    },
    "tags": []
   },
   "outputs": [],
   "source": [
    "def isIsomorphic(s1: str, s2: str) -> bool:\n",
    "    mapping: dict[str, str] = dict()\n",
    "    rev_mapping: dict[str, str] = dict()\n",
    "    for i in range(len(s1)):\n",
    "        if s1[i] not in mapping and s2[i] not in rev_mapping:\n",
    "            mapping[s1[i]] = s2[i]\n",
    "            rev_mapping[s2[i]] = s1[i]\n",
    "        elif s1[i] in mapping and s2[i] in rev_mapping:\n",
    "            if not mapping[s1[i]] == s2[i] or not rev_mapping[s2[i]] == s1[i]:\n",
    "                return False\n",
    "        else:\n",
    "            return False\n",
    "\n",
    "    return True\n",
    "\n",
    "# Testing the solution\n",
    "assert isIsomorphic(\"egg\", \"add\") == True\n",
    "assert isIsomorphic(\"abc\", \"baa\") == False\n",
    "assert isIsomorphic(\"aabb\", \"baba\") == False\n",
    "assert isIsomorphic(\"paper\", \"title\") == True"
   ]
  },
  {
   "cell_type": "markdown",
   "id": "4b0b1937",
   "metadata": {
    "papermill": {
     "duration": 0.003508,
     "end_time": "2024-06-29T11:06:15.972959",
     "exception": false,
     "start_time": "2024-06-29T11:06:15.969451",
     "status": "completed"
    },
    "tags": []
   },
   "source": [
    "Can place flowers"
   ]
  },
  {
   "cell_type": "code",
   "execution_count": 16,
   "id": "124d8f5e",
   "metadata": {
    "execution": {
     "iopub.execute_input": "2024-06-29T11:06:15.980956Z",
     "iopub.status.busy": "2024-06-29T11:06:15.980436Z",
     "iopub.status.idle": "2024-06-29T11:06:15.984530Z",
     "shell.execute_reply": "2024-06-29T11:06:15.984106Z"
    },
    "papermill": {
     "duration": 0.009218,
     "end_time": "2024-06-29T11:06:15.985601",
     "exception": false,
     "start_time": "2024-06-29T11:06:15.976383",
     "status": "completed"
    },
    "tags": []
   },
   "outputs": [],
   "source": [
    "# https://leetcode.com/problems/can-place-flowers/submissions/1303795340\n",
    "def canPlaceFlowers(flowerbed: list[int], n_flowers: int) -> bool:\n",
    "    N = len(flowerbed)\n",
    "    for i in range(N):\n",
    "        left, mid, right = flowerbed[i - 1] if i - 1 >= 0 else 0, flowerbed[i], flowerbed[i + 1] if i + 1 < N else 0\n",
    "        if left == mid == right:\n",
    "            flowerbed[i], n_flowers = 1, n_flowers - 1\n",
    "\n",
    "    return n_flowers <= 0\n",
    "\n",
    "# Testing the solution\n",
    "assert canPlaceFlowers([1,0,0,0,1], 1) == True\n",
    "assert canPlaceFlowers([1,0,0,0,1], 2) == False"
   ]
  }
 ],
 "metadata": {
  "kernelspec": {
   "display_name": "Python 3 (ipykernel)",
   "language": "python",
   "name": "python3"
  },
  "language_info": {
   "codemirror_mode": {
    "name": "ipython",
    "version": 3
   },
   "file_extension": ".py",
   "mimetype": "text/x-python",
   "name": "python",
   "nbconvert_exporter": "python",
   "pygments_lexer": "ipython3",
   "version": "3.11.9"
  },
  "papermill": {
   "default_parameters": {},
   "duration": 1.548759,
   "end_time": "2024-06-29T11:06:16.104338",
   "environment_variables": {},
   "exception": null,
   "input_path": "study/neetcode/01-arrays-and-hashing.ipynb",
   "output_path": "study/neetcode/01-arrays-and-hashing.ipynb",
   "parameters": {},
   "start_time": "2024-06-29T11:06:14.555579",
   "version": "2.6.0"
  }
 },
 "nbformat": 4,
 "nbformat_minor": 5
}