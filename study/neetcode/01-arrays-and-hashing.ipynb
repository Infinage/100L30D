{
 "cells": [
  {
   "cell_type": "markdown",
   "id": "3fdf69c6",
   "metadata": {
    "papermill": {
     "duration": 0.003062,
     "end_time": "2024-06-27T13:37:34.152785",
     "exception": false,
     "start_time": "2024-06-27T13:37:34.149723",
     "status": "completed"
    },
    "tags": []
   },
   "source": [
    "### Neccessary file imports"
   ]
  },
  {
   "cell_type": "code",
   "execution_count": 1,
   "id": "21971dda",
   "metadata": {
    "execution": {
     "iopub.execute_input": "2024-06-27T13:37:34.158874Z",
     "iopub.status.busy": "2024-06-27T13:37:34.158534Z",
     "iopub.status.idle": "2024-06-27T13:37:34.163886Z",
     "shell.execute_reply": "2024-06-27T13:37:34.163469Z"
    },
    "lines_to_next_cell": 1,
    "papermill": {
     "duration": 0.009793,
     "end_time": "2024-06-27T13:37:34.165022",
     "exception": false,
     "start_time": "2024-06-27T13:37:34.155229",
     "status": "completed"
    },
    "tags": []
   },
   "outputs": [],
   "source": [
    "import math\n",
    "import collections\n",
    "import functools\n",
    "import heapq\n",
    "import bisect\n",
    "import random"
   ]
  },
  {
   "cell_type": "markdown",
   "id": "de28faf4",
   "metadata": {
    "papermill": {
     "duration": 0.002303,
     "end_time": "2024-06-27T13:37:34.169660",
     "exception": false,
     "start_time": "2024-06-27T13:37:34.167357",
     "status": "completed"
    },
    "tags": []
   },
   "source": [
    "Contains duplicate"
   ]
  },
  {
   "cell_type": "code",
   "execution_count": 2,
   "id": "b1626aac",
   "metadata": {
    "execution": {
     "iopub.execute_input": "2024-06-27T13:37:34.175263Z",
     "iopub.status.busy": "2024-06-27T13:37:34.174899Z",
     "iopub.status.idle": "2024-06-27T13:37:34.178581Z",
     "shell.execute_reply": "2024-06-27T13:37:34.178168Z"
    },
    "lines_to_next_cell": 1,
    "papermill": {
     "duration": 0.007636,
     "end_time": "2024-06-27T13:37:34.179614",
     "exception": false,
     "start_time": "2024-06-27T13:37:34.171978",
     "status": "completed"
    },
    "tags": []
   },
   "outputs": [],
   "source": [
    "# https://leetcode.com/problems/contains-duplicate/submissions/1301625329/\n",
    "def containsDuplicate(nums: list[int]) -> bool:\n",
    "    set_: set[int] = set()\n",
    "    for n in nums:\n",
    "        if n in set_:\n",
    "            return True\n",
    "        set_.add(n)\n",
    "    return False\n",
    "\n",
    "# Testing the solution\n",
    "assert containsDuplicate([1,1,2,2,3,4]) == True\n",
    "assert containsDuplicate([1,2,3,4,10]) == False"
   ]
  },
  {
   "cell_type": "markdown",
   "id": "83540d6f",
   "metadata": {
    "papermill": {
     "duration": 0.002304,
     "end_time": "2024-06-27T13:37:34.185038",
     "exception": false,
     "start_time": "2024-06-27T13:37:34.182734",
     "status": "completed"
    },
    "tags": []
   },
   "source": [
    "Valid Anagram"
   ]
  },
  {
   "cell_type": "code",
   "execution_count": 3,
   "id": "4877cbdf",
   "metadata": {
    "execution": {
     "iopub.execute_input": "2024-06-27T13:37:34.190642Z",
     "iopub.status.busy": "2024-06-27T13:37:34.190233Z",
     "iopub.status.idle": "2024-06-27T13:37:34.194498Z",
     "shell.execute_reply": "2024-06-27T13:37:34.194077Z"
    },
    "lines_to_next_cell": 1,
    "papermill": {
     "duration": 0.008215,
     "end_time": "2024-06-27T13:37:34.195558",
     "exception": false,
     "start_time": "2024-06-27T13:37:34.187343",
     "status": "completed"
    },
    "tags": []
   },
   "outputs": [],
   "source": [
    "# \n",
    "# https://leetcode.com/problems/valid-anagram/submissions/1301649707/\n",
    "def isAnagram(s1: str, s2: str) -> bool:\n",
    "    N1, N2 = len(s1), len(s2)\n",
    "    if N1 != N2:\n",
    "        return False\n",
    "    else:\n",
    "        freq: list[int] = [0 for i in range(26)]\n",
    "        for i in range(N1):\n",
    "            freq[ord(s1[i]) - ord('a')] += 1\n",
    "            freq[ord(s2[i]) - ord('a')] -= 1\n",
    "        return not any(filter(lambda x: x != 0, freq))\n",
    "\n",
    "# Testing the solution\n",
    "assert isAnagram(\"anagram\", \"nagaram\") == True\n",
    "assert isAnagram(\"rat\", \"car\") == False"
   ]
  },
  {
   "cell_type": "markdown",
   "id": "df42a1f5",
   "metadata": {
    "papermill": {
     "duration": 0.002306,
     "end_time": "2024-06-27T13:37:34.200285",
     "exception": false,
     "start_time": "2024-06-27T13:37:34.197979",
     "status": "completed"
    },
    "tags": []
   },
   "source": [
    "Concatenation of array"
   ]
  },
  {
   "cell_type": "code",
   "execution_count": 4,
   "id": "efbdfbb7",
   "metadata": {
    "execution": {
     "iopub.execute_input": "2024-06-27T13:37:34.205920Z",
     "iopub.status.busy": "2024-06-27T13:37:34.205558Z",
     "iopub.status.idle": "2024-06-27T13:37:34.209131Z",
     "shell.execute_reply": "2024-06-27T13:37:34.208706Z"
    },
    "lines_to_next_cell": 1,
    "papermill": {
     "duration": 0.007558,
     "end_time": "2024-06-27T13:37:34.210191",
     "exception": false,
     "start_time": "2024-06-27T13:37:34.202633",
     "status": "completed"
    },
    "tags": []
   },
   "outputs": [],
   "source": [
    "# https://leetcode.com/problems/concatenation-of-array/submissions/1301720169/\n",
    "def getConcatenation(nums: list[int]) -> list[int]:\n",
    "    N = len(nums)\n",
    "    result: list[int] = []\n",
    "    for i in range(2 * N):\n",
    "        result.append(nums[i % N])\n",
    "\n",
    "    return result\n",
    "\n",
    "# Testing the solution\n",
    "assert getConcatenation([1,2]) == [1,2,1,2]\n",
    "assert getConcatenation([1,2,3]) == [1,2,3,1,2,3]"
   ]
  },
  {
   "cell_type": "markdown",
   "id": "2c5e7cdb",
   "metadata": {
    "papermill": {
     "duration": 0.002359,
     "end_time": "2024-06-27T13:37:34.215034",
     "exception": false,
     "start_time": "2024-06-27T13:37:34.212675",
     "status": "completed"
    },
    "tags": []
   },
   "source": [
    "Replace elements with greater on the right side"
   ]
  },
  {
   "cell_type": "code",
   "execution_count": 5,
   "id": "c0f31c72",
   "metadata": {
    "execution": {
     "iopub.execute_input": "2024-06-27T13:37:34.220804Z",
     "iopub.status.busy": "2024-06-27T13:37:34.220384Z",
     "iopub.status.idle": "2024-06-27T13:37:34.224127Z",
     "shell.execute_reply": "2024-06-27T13:37:34.223685Z"
    },
    "lines_to_next_cell": 1,
    "papermill": {
     "duration": 0.007755,
     "end_time": "2024-06-27T13:37:34.225195",
     "exception": false,
     "start_time": "2024-06-27T13:37:34.217440",
     "status": "completed"
    },
    "tags": []
   },
   "outputs": [],
   "source": [
    "# https://leetcode.com/problems/replace-elements-with-greatest-element-on-right-side/submissions/1301744473\n",
    "def replaceElements(arr: list[int]) -> list[int]:\n",
    "    N, max_ = len(arr), -1\n",
    "    for i in range(N - 1, -1, -1):\n",
    "        max_, arr[i] = max(max_, arr[i]), max_\n",
    "    return arr\n",
    "\n",
    "# Testing the solution\n",
    "assert replaceElements([17,18,5,4,6,1]) == [18,6,6,6,1,-1]\n",
    "assert replaceElements([400]) == [-1]"
   ]
  },
  {
   "cell_type": "markdown",
   "id": "35f4ea99",
   "metadata": {
    "papermill": {
     "duration": 0.002377,
     "end_time": "2024-06-27T13:37:34.230009",
     "exception": false,
     "start_time": "2024-06-27T13:37:34.227632",
     "status": "completed"
    },
    "tags": []
   },
   "source": [
    "Is Subsequence"
   ]
  },
  {
   "cell_type": "code",
   "execution_count": 6,
   "id": "c9569b8a",
   "metadata": {
    "execution": {
     "iopub.execute_input": "2024-06-27T13:37:34.235849Z",
     "iopub.status.busy": "2024-06-27T13:37:34.235466Z",
     "iopub.status.idle": "2024-06-27T13:37:34.239231Z",
     "shell.execute_reply": "2024-06-27T13:37:34.238722Z"
    },
    "lines_to_next_cell": 1,
    "papermill": {
     "duration": 0.007963,
     "end_time": "2024-06-27T13:37:34.240329",
     "exception": false,
     "start_time": "2024-06-27T13:37:34.232366",
     "status": "completed"
    },
    "tags": []
   },
   "outputs": [],
   "source": [
    "# https://leetcode.com/problems/is-subsequence/submissions/1285008314/\n",
    "def isSubsequence(s: str, t: str) -> bool:\n",
    "    s_len, t_len, i, j = len(s), len(t), 0, 0\n",
    "    while i < s_len and j < t_len:\n",
    "        if s[i] == t[j]:\n",
    "            i, j = i + 1, j + 1\n",
    "        else:\n",
    "            j += 1\n",
    "\n",
    "    return i == s_len\n",
    "\n",
    "# Testing the solution\n",
    "assert isSubsequence(\"abc\", \"ahbgdc\") == True\n",
    "assert isSubsequence(\"axc\", \"ahbgdc\") == False"
   ]
  },
  {
   "cell_type": "markdown",
   "id": "0d9faf13",
   "metadata": {
    "papermill": {
     "duration": 0.002364,
     "end_time": "2024-06-27T13:37:34.245172",
     "exception": false,
     "start_time": "2024-06-27T13:37:34.242808",
     "status": "completed"
    },
    "tags": []
   },
   "source": [
    "Length of Last word"
   ]
  },
  {
   "cell_type": "code",
   "execution_count": 7,
   "id": "e0d87324",
   "metadata": {
    "execution": {
     "iopub.execute_input": "2024-06-27T13:37:34.250886Z",
     "iopub.status.busy": "2024-06-27T13:37:34.250483Z",
     "iopub.status.idle": "2024-06-27T13:37:34.253864Z",
     "shell.execute_reply": "2024-06-27T13:37:34.253470Z"
    },
    "lines_to_next_cell": 1,
    "papermill": {
     "duration": 0.007303,
     "end_time": "2024-06-27T13:37:34.254852",
     "exception": false,
     "start_time": "2024-06-27T13:37:34.247549",
     "status": "completed"
    },
    "tags": []
   },
   "outputs": [],
   "source": [
    "# https://leetcode.com/problems/length-of-last-word/submissions/1301765924\n",
    "def lengthOfLastWord(s: str) -> int:\n",
    "    i, length = len(s) - 1, 0\n",
    "    while i >= 0:\n",
    "        if s[i] != ' ':\n",
    "            length += 1\n",
    "        elif length > 0:\n",
    "            break\n",
    "        i -= 1\n",
    "\n",
    "    return length\n",
    "\n",
    "# Testing the solution\n",
    "assert lengthOfLastWord(\"abc\") == 3\n",
    "assert lengthOfLastWord(\"abc   \") == 3\n",
    "assert lengthOfLastWord(\"abc   abcd \") == 4"
   ]
  },
  {
   "cell_type": "markdown",
   "id": "5ff5abc6",
   "metadata": {
    "papermill": {
     "duration": 0.002499,
     "end_time": "2024-06-27T13:37:34.259894",
     "exception": false,
     "start_time": "2024-06-27T13:37:34.257395",
     "status": "completed"
    },
    "tags": []
   },
   "source": [
    "Two sum"
   ]
  },
  {
   "cell_type": "code",
   "execution_count": 8,
   "id": "8d35c690",
   "metadata": {
    "execution": {
     "iopub.execute_input": "2024-06-27T13:37:34.265830Z",
     "iopub.status.busy": "2024-06-27T13:37:34.265350Z",
     "iopub.status.idle": "2024-06-27T13:37:34.269882Z",
     "shell.execute_reply": "2024-06-27T13:37:34.269475Z"
    },
    "lines_to_next_cell": 1,
    "papermill": {
     "duration": 0.008528,
     "end_time": "2024-06-27T13:37:34.270896",
     "exception": false,
     "start_time": "2024-06-27T13:37:34.262368",
     "status": "completed"
    },
    "tags": []
   },
   "outputs": [],
   "source": [
    "def twoSumBetter(nums: list[int], target: int) -> tuple[int, int]:\n",
    "    N = len(nums)\n",
    "\n",
    "    # Store all the indices\n",
    "    indices: collections.defaultdict[int, list[int]] = collections.defaultdict(list)\n",
    "    for i in range(N):\n",
    "        indices[nums[i]].append(i)\n",
    "\n",
    "    # For each idx1, check if we another idx2 who total equals target\n",
    "    for i in range(N):\n",
    "        n = nums[i]\n",
    "        if target - n in indices:\n",
    "            for idx in indices[target - n]:\n",
    "                if idx != i:\n",
    "                    return i, idx\n",
    "\n",
    "    return -1, -1\n",
    "\n",
    "# Testing the solution\n",
    "assert twoSumBetter([3,3,4], 6) == (0,1)\n",
    "assert twoSumBetter([3,2,4], 6) == (1,2)\n",
    "assert twoSumBetter([2,7,11,15], 13) == (0,2)"
   ]
  },
  {
   "cell_type": "code",
   "execution_count": 9,
   "id": "b1788ccd",
   "metadata": {
    "execution": {
     "iopub.execute_input": "2024-06-27T13:37:34.276760Z",
     "iopub.status.busy": "2024-06-27T13:37:34.276397Z",
     "iopub.status.idle": "2024-06-27T13:37:34.280527Z",
     "shell.execute_reply": "2024-06-27T13:37:34.280107Z"
    },
    "lines_to_next_cell": 1,
    "papermill": {
     "duration": 0.008184,
     "end_time": "2024-06-27T13:37:34.281559",
     "exception": false,
     "start_time": "2024-06-27T13:37:34.273375",
     "status": "completed"
    },
    "tags": []
   },
   "outputs": [],
   "source": [
    "def twoSum(nums: list[int], target: int) -> tuple[int, int]:\n",
    "    \"One pass solution from Neetcode\"\n",
    "    indices: dict[int, int] = dict()\n",
    "    for i in range(len(nums)):\n",
    "        if target - nums[i] in indices:\n",
    "            return indices[target - nums[i]], i\n",
    "        indices[nums[i]] = i\n",
    "\n",
    "    return -1, -1\n",
    "\n",
    "# Testing the solution\n",
    "assert twoSum([3,3,4], 6) == (0,1)\n",
    "assert twoSum([3,2,4], 6) == (1,2)\n",
    "assert twoSum([2,7,11,15], 13) == (0,2)"
   ]
  },
  {
   "cell_type": "markdown",
   "id": "863712d9",
   "metadata": {
    "papermill": {
     "duration": 0.002534,
     "end_time": "2024-06-27T13:37:34.286559",
     "exception": false,
     "start_time": "2024-06-27T13:37:34.284025",
     "status": "completed"
    },
    "tags": []
   },
   "source": [
    "Longest common prefix"
   ]
  },
  {
   "cell_type": "code",
   "execution_count": 10,
   "id": "39f57a0b",
   "metadata": {
    "execution": {
     "iopub.execute_input": "2024-06-27T13:37:34.292391Z",
     "iopub.status.busy": "2024-06-27T13:37:34.292031Z",
     "iopub.status.idle": "2024-06-27T13:37:34.295892Z",
     "shell.execute_reply": "2024-06-27T13:37:34.295477Z"
    },
    "lines_to_next_cell": 1,
    "papermill": {
     "duration": 0.00791,
     "end_time": "2024-06-27T13:37:34.296957",
     "exception": false,
     "start_time": "2024-06-27T13:37:34.289047",
     "status": "completed"
    },
    "tags": []
   },
   "outputs": [],
   "source": [
    "# https://leetcode.com/problems/longest-common-prefix/submissions/1301965071\n",
    "def longestCommonPrefix(strs: list[str]) -> str:\n",
    "    prefix: str = strs[0]\n",
    "    for string in strs[1:]:\n",
    "        i = 0\n",
    "        while i < len(prefix) and i < len(string) and prefix[i] == string[i]:\n",
    "            i += 1\n",
    "        prefix = prefix[:i]\n",
    "\n",
    "    return prefix\n",
    "\n",
    "# Testing the solution\n",
    "assert longestCommonPrefix([\"flow\", \"flower\", \"flight\"]) == \"fl\"\n",
    "assert longestCommonPrefix([\"dog\", \"car\"]) == \"\"\n",
    "assert longestCommonPrefix([\"dog\"]) == \"dog\""
   ]
  },
  {
   "cell_type": "markdown",
   "id": "2f683cba",
   "metadata": {
    "papermill": {
     "duration": 0.002499,
     "end_time": "2024-06-27T13:37:34.301954",
     "exception": false,
     "start_time": "2024-06-27T13:37:34.299455",
     "status": "completed"
    },
    "tags": []
   },
   "source": [
    "Group Anagrams"
   ]
  },
  {
   "cell_type": "code",
   "execution_count": 11,
   "id": "fca19f3c",
   "metadata": {
    "execution": {
     "iopub.execute_input": "2024-06-27T13:37:34.308670Z",
     "iopub.status.busy": "2024-06-27T13:37:34.308130Z",
     "iopub.status.idle": "2024-06-27T13:37:34.315509Z",
     "shell.execute_reply": "2024-06-27T13:37:34.315007Z"
    },
    "lines_to_next_cell": 1,
    "papermill": {
     "duration": 0.012128,
     "end_time": "2024-06-27T13:37:34.316611",
     "exception": false,
     "start_time": "2024-06-27T13:37:34.304483",
     "status": "completed"
    },
    "tags": []
   },
   "outputs": [
    {
     "data": {
      "text/plain": [
       "[['eat', 'tea', 'ate'], ['tan', 'nat'], ['bat'], ['']]"
      ]
     },
     "execution_count": 11,
     "metadata": {},
     "output_type": "execute_result"
    }
   ],
   "source": [
    "# https://leetcode.com/problems/group-anagrams/submissions/1301981761\n",
    "def groupAnagrams(strs: list[str]) -> list[list[str]]:\n",
    "    # Time: O(N x avg_str_length)\n",
    "    anagrams: collections.defaultdict[str, list[str]] = collections.defaultdict(list)\n",
    "    for string in strs:\n",
    "        freq: list[int] = [0 for _ in range(26)]\n",
    "        for ch in string:\n",
    "            freq[ord(ch) - ord('a')] += 1\n",
    "\n",
    "        freq_key: str = ','.join(map(str, freq))\n",
    "        anagrams[freq_key].append(string)\n",
    "\n",
    "    return list(anagrams.values())\n",
    "\n",
    "# Testing the solution\n",
    "groupAnagrams([\"eat\",\"tea\",\"tan\",\"ate\",\"nat\",\"bat\", \"\"])"
   ]
  },
  {
   "cell_type": "markdown",
   "id": "08810553",
   "metadata": {
    "papermill": {
     "duration": 0.002656,
     "end_time": "2024-06-27T13:37:34.321987",
     "exception": false,
     "start_time": "2024-06-27T13:37:34.319331",
     "status": "completed"
    },
    "tags": []
   },
   "source": [
    "Pascals Triangle"
   ]
  },
  {
   "cell_type": "code",
   "execution_count": 12,
   "id": "8f42682b",
   "metadata": {
    "execution": {
     "iopub.execute_input": "2024-06-27T13:37:34.328308Z",
     "iopub.status.busy": "2024-06-27T13:37:34.327993Z",
     "iopub.status.idle": "2024-06-27T13:37:34.332297Z",
     "shell.execute_reply": "2024-06-27T13:37:34.331867Z"
    },
    "papermill": {
     "duration": 0.008659,
     "end_time": "2024-06-27T13:37:34.333330",
     "exception": false,
     "start_time": "2024-06-27T13:37:34.324671",
     "status": "completed"
    },
    "tags": []
   },
   "outputs": [],
   "source": [
    "# https://leetcode.com/problems/pascals-triangle/submissions/1302000166\n",
    "def generatePascalsTriangle(N: int) -> list[list[int]]:\n",
    "    result: list[list[int]] = [[1]]\n",
    "    for i in range(1, N):\n",
    "        layer: list[int] = []\n",
    "        for j in range(i + 1):\n",
    "            layer.append((result[-1][j] if j < i else 0) + (result[-1][j - 1] if j - 1 >= 0 else 0))\n",
    "        result.append(layer)\n",
    "\n",
    "    return result\n",
    "\n",
    "# Testing the solution\n",
    "assert generatePascalsTriangle(5) == [[1],[1,1],[1,2,1],[1,3,3,1],[1,4,6,4,1]]"
   ]
  }
 ],
 "metadata": {
  "kernelspec": {
   "display_name": "Python 3 (ipykernel)",
   "language": "python",
   "name": "python3"
  },
  "language_info": {
   "codemirror_mode": {
    "name": "ipython",
    "version": 3
   },
   "file_extension": ".py",
   "mimetype": "text/x-python",
   "name": "python",
   "nbconvert_exporter": "python",
   "pygments_lexer": "ipython3",
   "version": "3.11.9"
  },
  "papermill": {
   "default_parameters": {},
   "duration": 1.451176,
   "end_time": "2024-06-27T13:37:34.451532",
   "environment_variables": {},
   "exception": null,
   "input_path": "study/neetcode/01-arrays-and-hashing.ipynb",
   "output_path": "study/neetcode/01-arrays-and-hashing.ipynb",
   "parameters": {},
   "start_time": "2024-06-27T13:37:33.000356",
   "version": "2.6.0"
  }
 },
 "nbformat": 4,
 "nbformat_minor": 5
}