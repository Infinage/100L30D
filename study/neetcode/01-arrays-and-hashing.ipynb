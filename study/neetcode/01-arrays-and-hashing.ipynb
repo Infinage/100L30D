{
 "cells": [
  {
   "cell_type": "markdown",
   "id": "6237241e",
   "metadata": {},
   "source": [
    "### Neccessary file imports"
   ]
  },
  {
   "cell_type": "code",
   "execution_count": null,
   "id": "d4949db3",
   "metadata": {
    "lines_to_next_cell": 1
   },
   "outputs": [],
   "source": [
    "import math\n",
    "import collections\n",
    "import functools\n",
    "import heapq\n",
    "import bisect\n",
    "import random"
   ]
  },
  {
   "cell_type": "markdown",
   "id": "9e2f84b5",
   "metadata": {},
   "source": [
    "Contains duplicate"
   ]
  },
  {
   "cell_type": "code",
   "execution_count": null,
   "id": "9e6b6da0",
   "metadata": {
    "lines_to_next_cell": 1
   },
   "outputs": [],
   "source": [
    "# https://leetcode.com/problems/contains-duplicate/submissions/1301625329/\n",
    "def containsDuplicate(nums: list[int]) -> bool:\n",
    "    set_: set[int] = set()\n",
    "    for n in nums:\n",
    "        if n in set_:\n",
    "            return True\n",
    "        set_.add(n)\n",
    "    return False\n",
    "\n",
    "# Testing the solution\n",
    "assert containsDuplicate([1,1,2,2,3,4]) == True\n",
    "assert containsDuplicate([1,2,3,4,10]) == False"
   ]
  },
  {
   "cell_type": "markdown",
   "id": "c04b3327",
   "metadata": {},
   "source": [
    "Valid Anagram"
   ]
  },
  {
   "cell_type": "code",
   "execution_count": null,
   "id": "7f0ec63a",
   "metadata": {
    "lines_to_next_cell": 1
   },
   "outputs": [],
   "source": [
    "# \n",
    "# https://leetcode.com/problems/valid-anagram/submissions/1301649707/\n",
    "def isAnagram(s1: str, s2: str) -> bool:\n",
    "    N1, N2 = len(s1), len(s2)\n",
    "    if N1 != N2:\n",
    "        return False\n",
    "    else:\n",
    "        freq: list[int] = [0 for i in range(26)]\n",
    "        for i in range(N1):\n",
    "            freq[ord(s1[i]) - ord('a')] += 1\n",
    "            freq[ord(s2[i]) - ord('a')] -= 1\n",
    "        return not any(filter(lambda x: x != 0, freq))\n",
    "\n",
    "# Testing the solution\n",
    "assert isAnagram(\"anagram\", \"nagaram\") == True\n",
    "assert isAnagram(\"rat\", \"car\") == False"
   ]
  },
  {
   "cell_type": "markdown",
   "id": "2ba288ea",
   "metadata": {},
   "source": [
    "Concatenation of array"
   ]
  },
  {
   "cell_type": "code",
   "execution_count": null,
   "id": "7c7e2550",
   "metadata": {
    "lines_to_next_cell": 1
   },
   "outputs": [],
   "source": [
    "# https://leetcode.com/problems/concatenation-of-array/submissions/1301720169/\n",
    "def getConcatenation(nums: list[int]) -> list[int]:\n",
    "    N = len(nums)\n",
    "    result: list[int] = []\n",
    "    for i in range(2 * N):\n",
    "        result.append(nums[i % N])\n",
    "\n",
    "    return result\n",
    "\n",
    "# Testing the solution\n",
    "assert getConcatenation([1,2]) == [1,2,1,2]\n",
    "assert getConcatenation([1,2,3]) == [1,2,3,1,2,3]"
   ]
  },
  {
   "cell_type": "markdown",
   "id": "28111b11",
   "metadata": {},
   "source": [
    "Replace elements with greater on the right side"
   ]
  },
  {
   "cell_type": "code",
   "execution_count": null,
   "id": "e8486fc9",
   "metadata": {
    "lines_to_next_cell": 1
   },
   "outputs": [],
   "source": [
    "# https://leetcode.com/problems/replace-elements-with-greatest-element-on-right-side/submissions/1301744473\n",
    "def replaceElements(arr: list[int]) -> list[int]:\n",
    "    N, max_ = len(arr), -1\n",
    "    for i in range(N - 1, -1, -1):\n",
    "        max_, arr[i] = max(max_, arr[i]), max_\n",
    "    return arr\n",
    "\n",
    "# Testing the solution\n",
    "assert replaceElements([17,18,5,4,6,1]) == [18,6,6,6,1,-1]\n",
    "assert replaceElements([400]) == [-1]"
   ]
  },
  {
   "cell_type": "markdown",
   "id": "3e9bf6b9",
   "metadata": {},
   "source": [
    "Is Subsequence"
   ]
  },
  {
   "cell_type": "code",
   "execution_count": null,
   "id": "ad9a9c95",
   "metadata": {
    "lines_to_next_cell": 1
   },
   "outputs": [],
   "source": [
    "# https://leetcode.com/problems/is-subsequence/submissions/1285008314/\n",
    "def isSubsequence(s: str, t: str) -> bool:\n",
    "    s_len, t_len, i, j = len(s), len(t), 0, 0\n",
    "    while i < s_len and j < t_len:\n",
    "        if s[i] == t[j]:\n",
    "            i, j = i + 1, j + 1\n",
    "        else:\n",
    "            j += 1\n",
    "\n",
    "    return i == s_len\n",
    "\n",
    "# Testing the solution\n",
    "assert isSubsequence(\"abc\", \"ahbgdc\") == True\n",
    "assert isSubsequence(\"axc\", \"ahbgdc\") == False"
   ]
  },
  {
   "cell_type": "markdown",
   "id": "56e47bee",
   "metadata": {},
   "source": [
    "Length of Last word"
   ]
  },
  {
   "cell_type": "code",
   "execution_count": null,
   "id": "1bc2d0bf",
   "metadata": {
    "lines_to_next_cell": 1
   },
   "outputs": [],
   "source": [
    "# https://leetcode.com/problems/length-of-last-word/submissions/1301765924\n",
    "def lengthOfLastWord(s: str) -> int:\n",
    "    i, length = len(s) - 1, 0\n",
    "    while i >= 0:\n",
    "        if s[i] != ' ':\n",
    "            length += 1\n",
    "        elif length > 0:\n",
    "            break\n",
    "        i -= 1\n",
    "\n",
    "    return length\n",
    "\n",
    "# Testing the solution\n",
    "assert lengthOfLastWord(\"abc\") == 3\n",
    "assert lengthOfLastWord(\"abc   \") == 3\n",
    "assert lengthOfLastWord(\"abc   abcd \") == 4"
   ]
  },
  {
   "cell_type": "markdown",
   "id": "d15cb462",
   "metadata": {},
   "source": [
    "Two sum"
   ]
  },
  {
   "cell_type": "code",
   "execution_count": null,
   "id": "88748a54",
   "metadata": {
    "lines_to_next_cell": 1
   },
   "outputs": [],
   "source": [
    "def twoSumBetter(nums: list[int], target: int) -> tuple[int, int]:\n",
    "    N = len(nums)\n",
    "\n",
    "    # Store all the indices\n",
    "    indices: collections.defaultdict[int, list[int]] = collections.defaultdict(list)\n",
    "    for i in range(N):\n",
    "        indices[nums[i]].append(i)\n",
    "\n",
    "    # For each idx1, check if we another idx2 who total equals target\n",
    "    for i in range(N):\n",
    "        n = nums[i]\n",
    "        if target - n in indices:\n",
    "            for idx in indices[target - n]:\n",
    "                if idx != i:\n",
    "                    return i, idx\n",
    "\n",
    "    return -1, -1\n",
    "\n",
    "# Testing the solution\n",
    "assert twoSumBetter([3,3,4], 6) == (0,1)\n",
    "assert twoSumBetter([3,2,4], 6) == (1,2)\n",
    "assert twoSumBetter([2,7,11,15], 13) == (0,2)"
   ]
  },
  {
   "cell_type": "code",
   "execution_count": null,
   "id": "5db63b13",
   "metadata": {
    "lines_to_next_cell": 1
   },
   "outputs": [],
   "source": [
    "def twoSum(nums: list[int], target: int) -> tuple[int, int]:\n",
    "    \"One pass solution from Neetcode\"\n",
    "    indices: dict[int, int] = dict()\n",
    "    for i in range(len(nums)):\n",
    "        if target - nums[i] in indices:\n",
    "            return indices[target - nums[i]], i\n",
    "        indices[nums[i]] = i\n",
    "\n",
    "    return -1, -1\n",
    "\n",
    "# Testing the solution\n",
    "assert twoSum([3,3,4], 6) == (0,1)\n",
    "assert twoSum([3,2,4], 6) == (1,2)\n",
    "assert twoSum([2,7,11,15], 13) == (0,2)"
   ]
  },
  {
   "cell_type": "markdown",
   "id": "30f44e7b",
   "metadata": {},
   "source": [
    "Longest common prefix"
   ]
  },
  {
   "cell_type": "code",
   "execution_count": null,
   "id": "cbe65ad5",
   "metadata": {
    "lines_to_next_cell": 1
   },
   "outputs": [],
   "source": [
    "# https://leetcode.com/problems/longest-common-prefix/submissions/1301965071\n",
    "def longestCommonPrefix(strs: list[str]) -> str:\n",
    "    prefix: str = strs[0]\n",
    "    for string in strs[1:]:\n",
    "        i = 0\n",
    "        while i < len(prefix) and i < len(string) and prefix[i] == string[i]:\n",
    "            i += 1\n",
    "        prefix = prefix[:i]\n",
    "\n",
    "    return prefix\n",
    "\n",
    "# Testing the solution\n",
    "assert longestCommonPrefix([\"flow\", \"flower\", \"flight\"]) == \"fl\"\n",
    "assert longestCommonPrefix([\"dog\", \"car\"]) == \"\"\n",
    "assert longestCommonPrefix([\"dog\"]) == \"dog\""
   ]
  },
  {
   "cell_type": "markdown",
   "id": "c689e9b3",
   "metadata": {},
   "source": [
    "Group Anagrams"
   ]
  },
  {
   "cell_type": "code",
   "execution_count": null,
   "id": "dfc76c71",
   "metadata": {
    "lines_to_next_cell": 1
   },
   "outputs": [],
   "source": [
    "# https://leetcode.com/problems/group-anagrams/submissions/1301981761\n",
    "def groupAnagrams(strs: list[str]) -> list[list[str]]:\n",
    "    # Time: O(N x avg_str_length)\n",
    "    anagrams: collections.defaultdict[str, list[str]] = collections.defaultdict(list)\n",
    "    for string in strs:\n",
    "        freq: list[int] = [0 for _ in range(26)]\n",
    "        for ch in string:\n",
    "            freq[ord(ch) - ord('a')] += 1\n",
    "\n",
    "        freq_key: str = ','.join(map(str, freq))\n",
    "        anagrams[freq_key].append(string)\n",
    "\n",
    "    return list(anagrams.values())\n",
    "\n",
    "# Testing the solution\n",
    "groupAnagrams([\"eat\",\"tea\",\"tan\",\"ate\",\"nat\",\"bat\", \"\"])"
   ]
  },
  {
   "cell_type": "markdown",
   "id": "5c5bcccd",
   "metadata": {},
   "source": [
    "Pascals Triangle"
   ]
  },
  {
   "cell_type": "code",
   "execution_count": null,
   "id": "d70cc9ce",
   "metadata": {},
   "outputs": [],
   "source": [
    "# https://leetcode.com/problems/pascals-triangle/submissions/1302000166\n",
    "def generatePascalsTriangle(N: int) -> list[list[int]]:\n",
    "    result: list[list[int]] = [[1]]\n",
    "    for i in range(1, N):\n",
    "        layer: list[int] = []\n",
    "        for j in range(i + 1):\n",
    "            layer.append((result[-1][j] if j < i else 0) + (result[-1][j - 1] if j - 1 >= 0 else 0))\n",
    "        result.append(layer)\n",
    "\n",
    "    return result\n",
    "\n",
    "# Testing the solution\n",
    "assert generatePascalsTriangle(5) == [[1],[1,1],[1,2,1],[1,3,3,1],[1,4,6,4,1]]"
   ]
  }
 ],
 "metadata": {
  "kernelspec": {
   "display_name": "Python 3 (ipykernel)",
   "language": "python",
   "name": "python3"
  }
 },
 "nbformat": 4,
 "nbformat_minor": 2
}
