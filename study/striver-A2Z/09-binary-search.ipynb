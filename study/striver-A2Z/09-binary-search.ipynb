{
 "cells": [
  {
   "cell_type": "markdown",
   "id": "39385271",
   "metadata": {
    "papermill": {
     "duration": 0.012396,
     "end_time": "2024-03-28T02:15:09.985589",
     "exception": false,
     "start_time": "2024-03-28T02:15:09.973193",
     "status": "completed"
    },
    "tags": []
   },
   "source": [
    "Some useful imports"
   ]
  },
  {
   "cell_type": "code",
   "execution_count": 1,
   "id": "fd129096",
   "metadata": {
    "execution": {
     "iopub.execute_input": "2024-03-28T02:15:10.010502Z",
     "iopub.status.busy": "2024-03-28T02:15:10.009782Z",
     "iopub.status.idle": "2024-03-28T02:15:10.024310Z",
     "shell.execute_reply": "2024-03-28T02:15:10.023705Z"
    },
    "lines_to_next_cell": 1,
    "papermill": {
     "duration": 0.029621,
     "end_time": "2024-03-28T02:15:10.026801",
     "exception": false,
     "start_time": "2024-03-28T02:15:09.997180",
     "status": "completed"
    },
    "tags": []
   },
   "outputs": [],
   "source": [
    "import math\n",
    "import random\n",
    "import functools\n",
    "import itertools\n",
    "import tqdm\n",
    "import pdb"
   ]
  },
  {
   "cell_type": "markdown",
   "id": "1b645c9d",
   "metadata": {
    "papermill": {
     "duration": 0.011202,
     "end_time": "2024-03-28T02:15:10.049534",
     "exception": false,
     "start_time": "2024-03-28T02:15:10.038332",
     "status": "completed"
    },
    "tags": []
   },
   "source": [
    "Video Link: https://www.youtube.com/watch?v=MHf6awe89xw&list=PLgUwDviBIf0oF6QL8m22w1hIDC1vJ_BHz&index=45"
   ]
  },
  {
   "cell_type": "code",
   "execution_count": 2,
   "id": "a8c5fd59",
   "metadata": {
    "execution": {
     "iopub.execute_input": "2024-03-28T02:15:10.073510Z",
     "iopub.status.busy": "2024-03-28T02:15:10.072832Z",
     "iopub.status.idle": "2024-03-28T02:15:10.077939Z",
     "shell.execute_reply": "2024-03-28T02:15:10.077259Z"
    },
    "lines_to_next_cell": 1,
    "papermill": {
     "duration": 0.01963,
     "end_time": "2024-03-28T02:15:10.080330",
     "exception": false,
     "start_time": "2024-03-28T02:15:10.060700",
     "status": "completed"
    },
    "tags": []
   },
   "outputs": [],
   "source": [
    "# Linear search\n",
    "def lsearch(arr: list[int], target: int) -> int:\n",
    "    for i in range(len(arr)):\n",
    "        if arr[i] == target:\n",
    "            return i\n",
    "    else:\n",
    "        return -1"
   ]
  },
  {
   "cell_type": "code",
   "execution_count": 3,
   "id": "b06d330f",
   "metadata": {
    "execution": {
     "iopub.execute_input": "2024-03-28T02:15:10.104843Z",
     "iopub.status.busy": "2024-03-28T02:15:10.104252Z",
     "iopub.status.idle": "2024-03-28T02:15:10.119625Z",
     "shell.execute_reply": "2024-03-28T02:15:10.118832Z"
    },
    "lines_to_next_cell": 1,
    "papermill": {
     "duration": 0.030408,
     "end_time": "2024-03-28T02:15:10.122149",
     "exception": false,
     "start_time": "2024-03-28T02:15:10.091741",
     "status": "completed"
    },
    "tags": []
   },
   "outputs": [
    {
     "name": "stderr",
     "output_type": "stream",
     "text": [
      "\r",
      "  0%|          | 0/100 [00:00<?, ?it/s]"
     ]
    },
    {
     "name": "stderr",
     "output_type": "stream",
     "text": [
      "\r",
      "100%|██████████| 100/100 [00:00<00:00, 59325.37it/s]"
     ]
    },
    {
     "name": "stderr",
     "output_type": "stream",
     "text": [
      "\n"
     ]
    }
   ],
   "source": [
    "# Iterative solution\n",
    "def bsearch_iter(arr: list[int], target: int) -> int:\n",
    "    low, high = 0, len(arr) - 1\n",
    "    while low <= high:\n",
    "        mid = (low + high) // 2\n",
    "        if arr[mid] == target:\n",
    "            return mid\n",
    "        elif target > arr[mid]:\n",
    "            low = mid + 1\n",
    "        else:\n",
    "            high = mid - 1\n",
    "    else:\n",
    "        return -1\n",
    "\n",
    "# Test the algorithm\n",
    "for i in tqdm.tqdm(range(100)):\n",
    "    temp = random.sample(list(range(15, 30)), random.randint(1, 15))\n",
    "    temp.sort()\n",
    "    j = random.randint(0, 45)\n",
    "    assert bsearch_iter(temp, j) == lsearch(temp, j), f\"failed for {temp}, {j}\""
   ]
  },
  {
   "cell_type": "code",
   "execution_count": 4,
   "id": "59682a10",
   "metadata": {
    "execution": {
     "iopub.execute_input": "2024-03-28T02:15:10.147294Z",
     "iopub.status.busy": "2024-03-28T02:15:10.146709Z",
     "iopub.status.idle": "2024-03-28T02:15:10.159121Z",
     "shell.execute_reply": "2024-03-28T02:15:10.158334Z"
    },
    "lines_to_next_cell": 1,
    "papermill": {
     "duration": 0.02682,
     "end_time": "2024-03-28T02:15:10.160924",
     "exception": false,
     "start_time": "2024-03-28T02:15:10.134104",
     "status": "completed"
    },
    "tags": []
   },
   "outputs": [
    {
     "name": "stderr",
     "output_type": "stream",
     "text": [
      "\r",
      "  0%|          | 0/100 [00:00<?, ?it/s]"
     ]
    },
    {
     "name": "stderr",
     "output_type": "stream",
     "text": [
      "\r",
      "100%|██████████| 100/100 [00:00<00:00, 36814.75it/s]"
     ]
    },
    {
     "name": "stderr",
     "output_type": "stream",
     "text": [
      "\n"
     ]
    }
   ],
   "source": [
    "# Recursive solution\n",
    "def bsearch_rec(arr: list[int], target: int) -> int:\n",
    "    def backtrack(low: int, high: int) -> int:\n",
    "        if low > high:\n",
    "            return -1\n",
    "        else:\n",
    "            mid = (low + high) // 2\n",
    "            if arr[mid] == target:\n",
    "                return mid\n",
    "            elif target < arr[mid]:\n",
    "                return backtrack(low, mid - 1)\n",
    "            else:\n",
    "                return backtrack(mid + 1, high)\n",
    "\n",
    "    return backtrack(0, len(arr) - 1)\n",
    "\n",
    "for i in tqdm.tqdm(range(100)):\n",
    "    temp = random.sample(list(range(15, 30)), random.randint(1, 15))\n",
    "    temp.sort()\n",
    "    j = random.randint(0, 45)\n",
    "    assert bsearch_rec(temp, j) == lsearch(temp, j), f\"failed for {temp}, {j}\""
   ]
  },
  {
   "cell_type": "markdown",
   "id": "1f2d9f50",
   "metadata": {
    "papermill": {
     "duration": 0.01192,
     "end_time": "2024-03-28T02:15:10.184822",
     "exception": false,
     "start_time": "2024-03-28T02:15:10.172902",
     "status": "completed"
    },
    "tags": []
   },
   "source": [
    "Video Link: https://www.youtube.com/watch?v=6zhGS79oQ4k&list=PLgUwDviBIf0oF6QL8m22w1hIDC1vJ_BHz&index=46\n",
    "Implement lower / bound"
   ]
  },
  {
   "cell_type": "code",
   "execution_count": 5,
   "id": "f23024a2",
   "metadata": {
    "execution": {
     "iopub.execute_input": "2024-03-28T02:15:10.209861Z",
     "iopub.status.busy": "2024-03-28T02:15:10.209620Z",
     "iopub.status.idle": "2024-03-28T02:15:10.218923Z",
     "shell.execute_reply": "2024-03-28T02:15:10.218198Z"
    },
    "lines_to_next_cell": 1,
    "papermill": {
     "duration": 0.02374,
     "end_time": "2024-03-28T02:15:10.220545",
     "exception": false,
     "start_time": "2024-03-28T02:15:10.196805",
     "status": "completed"
    },
    "tags": []
   },
   "outputs": [
    {
     "data": {
      "text/plain": [
       "5"
      ]
     },
     "execution_count": 5,
     "metadata": {},
     "output_type": "execute_result"
    }
   ],
   "source": [
    "# Lower bound with Linear Search\n",
    "def lower_bound_linear(arr: list[int], target: int) -> int:\n",
    "    N = len(arr)\n",
    "    for i in range(N):\n",
    "        if arr[i] >= target:\n",
    "            return i\n",
    "    return N\n",
    "\n",
    "lower_bound_linear([3, 5, 8, 15, 19], 20)"
   ]
  },
  {
   "cell_type": "code",
   "execution_count": 6,
   "id": "a0b8bf3a",
   "metadata": {
    "execution": {
     "iopub.execute_input": "2024-03-28T02:15:10.245897Z",
     "iopub.status.busy": "2024-03-28T02:15:10.245358Z",
     "iopub.status.idle": "2024-03-28T02:15:10.258239Z",
     "shell.execute_reply": "2024-03-28T02:15:10.257458Z"
    },
    "lines_to_next_cell": 1,
    "papermill": {
     "duration": 0.027249,
     "end_time": "2024-03-28T02:15:10.259815",
     "exception": false,
     "start_time": "2024-03-28T02:15:10.232566",
     "status": "completed"
    },
    "tags": []
   },
   "outputs": [
    {
     "name": "stderr",
     "output_type": "stream",
     "text": [
      "\r",
      "  0%|          | 0/200 [00:00<?, ?it/s]"
     ]
    },
    {
     "name": "stderr",
     "output_type": "stream",
     "text": [
      "\r",
      "100%|██████████| 200/200 [00:00<00:00, 60211.08it/s]"
     ]
    },
    {
     "name": "stderr",
     "output_type": "stream",
     "text": [
      "\n"
     ]
    }
   ],
   "source": [
    "def lower_bound_binary(arr: list[int], target: int):\n",
    "    N = len(arr)\n",
    "    low, high = 0, N - 1\n",
    "    while low <= high:\n",
    "        mid = (low + high) // 2\n",
    "        if arr[mid - 1] < target and arr[mid] >= target:\n",
    "            return mid\n",
    "        elif arr[mid] >= target:\n",
    "            high = mid - 1\n",
    "        else:\n",
    "            low = mid + 1\n",
    "    else:\n",
    "        return 0 if target <= arr[0] else N\n",
    "\n",
    "for i in tqdm.tqdm(range(200)):\n",
    "    temp = random.choices(list(range(100, 200)), k=random.randint(1, 50))\n",
    "    temp.sort()\n",
    "    j = random.randint(95, 205)\n",
    "    assert lower_bound_binary(temp, j) == lower_bound_linear(temp, j), f\"failed for {temp}, {j}\""
   ]
  },
  {
   "cell_type": "code",
   "execution_count": 7,
   "id": "6609aa48",
   "metadata": {
    "execution": {
     "iopub.execute_input": "2024-03-28T02:15:10.285644Z",
     "iopub.status.busy": "2024-03-28T02:15:10.285211Z",
     "iopub.status.idle": "2024-03-28T02:15:10.291432Z",
     "shell.execute_reply": "2024-03-28T02:15:10.290629Z"
    },
    "lines_to_next_cell": 1,
    "papermill": {
     "duration": 0.020829,
     "end_time": "2024-03-28T02:15:10.293094",
     "exception": false,
     "start_time": "2024-03-28T02:15:10.272265",
     "status": "completed"
    },
    "tags": []
   },
   "outputs": [
    {
     "data": {
      "text/plain": [
       "4"
      ]
     },
     "execution_count": 7,
     "metadata": {},
     "output_type": "execute_result"
    }
   ],
   "source": [
    "# Upper bound - Brute O(N)\n",
    "def upper_bound_linear(arr: list[int], target: int) -> int:\n",
    "    N = len(arr)\n",
    "    for i in range(N):\n",
    "        if arr[i] > target:\n",
    "            return i\n",
    "    return N\n",
    "\n",
    "upper_bound_linear([3, 5, 8, 15, 19, 19], 15)"
   ]
  },
  {
   "cell_type": "code",
   "execution_count": 8,
   "id": "4606b347",
   "metadata": {
    "execution": {
     "iopub.execute_input": "2024-03-28T02:15:10.318548Z",
     "iopub.status.busy": "2024-03-28T02:15:10.318206Z",
     "iopub.status.idle": "2024-03-28T02:15:10.332001Z",
     "shell.execute_reply": "2024-03-28T02:15:10.331222Z"
    },
    "lines_to_next_cell": 1,
    "papermill": {
     "duration": 0.028892,
     "end_time": "2024-03-28T02:15:10.334165",
     "exception": false,
     "start_time": "2024-03-28T02:15:10.305273",
     "status": "completed"
    },
    "tags": []
   },
   "outputs": [
    {
     "name": "stderr",
     "output_type": "stream",
     "text": [
      "\r",
      "  0%|          | 0/200 [00:00<?, ?it/s]"
     ]
    },
    {
     "name": "stderr",
     "output_type": "stream",
     "text": [
      "\r",
      "100%|██████████| 200/200 [00:00<00:00, 53261.00it/s]"
     ]
    },
    {
     "name": "stdout",
     "output_type": "stream",
     "text": [
      "0\n",
      "5\n"
     ]
    },
    {
     "name": "stderr",
     "output_type": "stream",
     "text": [
      "\n"
     ]
    }
   ],
   "source": [
    "# Binary Search\n",
    "def upper_bound_binary(arr: list[int], target: int) -> int:\n",
    "    N = len(arr)\n",
    "    low, high = 0, N - 1\n",
    "    while low <= high:\n",
    "        mid = (low + high) // 2\n",
    "        if arr[mid] > target and arr[mid - 1] <= target:\n",
    "            return mid\n",
    "        elif arr[mid] <= target:\n",
    "            low = mid + 1\n",
    "        else:\n",
    "            high = mid - 1\n",
    "    else:\n",
    "        return 0 if target < arr[0] else N\n",
    "\n",
    "for i in tqdm.tqdm(range(200)):\n",
    "    temp = random.choices(list(range(100, 200)), k=random.randint(1, 50))\n",
    "    temp.sort()\n",
    "    j = random.randint(95, 205)\n",
    "    assert upper_bound_binary(temp, j) == upper_bound_linear(temp, j), f\"failed for {temp}, {j}\"\n",
    "\n",
    "# Note the difference between the UB / LB\n",
    "print(lower_bound_binary([1, 1, 1, 1, 1], 1))\n",
    "print(upper_bound_binary([1, 1, 1, 1, 1], 1))"
   ]
  },
  {
   "cell_type": "markdown",
   "id": "5e497680",
   "metadata": {
    "papermill": {
     "duration": 0.012476,
     "end_time": "2024-03-28T02:15:10.359319",
     "exception": false,
     "start_time": "2024-03-28T02:15:10.346843",
     "status": "completed"
    },
    "tags": []
   },
   "source": [
    "Much more intutive approach by Striver:\n",
    "Retain a variable ans to N, update this variable when:\n",
    "arr[mid] >= target - Lower bound\n",
    "arr[mid] > target - Upper bound"
   ]
  },
  {
   "cell_type": "code",
   "execution_count": 9,
   "id": "8abcbf56",
   "metadata": {
    "execution": {
     "iopub.execute_input": "2024-03-28T02:15:10.385670Z",
     "iopub.status.busy": "2024-03-28T02:15:10.385167Z",
     "iopub.status.idle": "2024-03-28T02:15:10.392440Z",
     "shell.execute_reply": "2024-03-28T02:15:10.391706Z"
    },
    "lines_to_next_cell": 1,
    "papermill": {
     "duration": 0.022243,
     "end_time": "2024-03-28T02:15:10.394082",
     "exception": false,
     "start_time": "2024-03-28T02:15:10.371839",
     "status": "completed"
    },
    "tags": []
   },
   "outputs": [
    {
     "data": {
      "text/plain": [
       "0"
      ]
     },
     "execution_count": 9,
     "metadata": {},
     "output_type": "execute_result"
    }
   ],
   "source": [
    "# Lower bound Binary (Striver's approach)\n",
    "def lower_bound_striver(arr: list[int], target: int) -> int:\n",
    "    \"Smallest index, greater than or equal to target\"\n",
    "    N = len(arr)\n",
    "    low, high, ans = 0, N - 1, N\n",
    "    while low <= high:\n",
    "        mid = (low + high) // 2\n",
    "        if arr[mid] >= target:\n",
    "            ans = mid\n",
    "            high = mid - 1\n",
    "        else:\n",
    "            low = mid + 1\n",
    "\n",
    "    return ans\n",
    "\n",
    "lower_bound_striver([1, 1, 1, 1], 1)"
   ]
  },
  {
   "cell_type": "code",
   "execution_count": 10,
   "id": "5ab0dd9c",
   "metadata": {
    "execution": {
     "iopub.execute_input": "2024-03-28T02:15:10.421003Z",
     "iopub.status.busy": "2024-03-28T02:15:10.420371Z",
     "iopub.status.idle": "2024-03-28T02:15:10.427688Z",
     "shell.execute_reply": "2024-03-28T02:15:10.426893Z"
    },
    "lines_to_next_cell": 1,
    "papermill": {
     "duration": 0.022444,
     "end_time": "2024-03-28T02:15:10.429308",
     "exception": false,
     "start_time": "2024-03-28T02:15:10.406864",
     "status": "completed"
    },
    "tags": []
   },
   "outputs": [
    {
     "data": {
      "text/plain": [
       "4"
      ]
     },
     "execution_count": 10,
     "metadata": {},
     "output_type": "execute_result"
    }
   ],
   "source": [
    "# Upper bound Binary (Striver's approach)\n",
    "def upper_bound_striver(arr: list[int], target: int) -> int:\n",
    "    \"Smallest index, greater than target\"\n",
    "    N = len(arr)\n",
    "    low, high, ans = 0, N - 1, N\n",
    "    while low <= high:\n",
    "        mid = (low + high) // 2\n",
    "        if arr[mid] > target:\n",
    "            ans = mid\n",
    "            high = mid - 1\n",
    "        else:\n",
    "            low = mid + 1\n",
    "    return ans\n",
    "\n",
    "upper_bound_striver([1, 1, 1, 1], 1)"
   ]
  },
  {
   "cell_type": "markdown",
   "id": "6df8578a",
   "metadata": {
    "papermill": {
     "duration": 0.012612,
     "end_time": "2024-03-28T02:15:10.454653",
     "exception": false,
     "start_time": "2024-03-28T02:15:10.442041",
     "status": "completed"
    },
    "tags": []
   },
   "source": [
    "Search Insert position"
   ]
  },
  {
   "cell_type": "code",
   "execution_count": 11,
   "id": "e5e48474",
   "metadata": {
    "execution": {
     "iopub.execute_input": "2024-03-28T02:15:10.481588Z",
     "iopub.status.busy": "2024-03-28T02:15:10.480960Z",
     "iopub.status.idle": "2024-03-28T02:15:10.486206Z",
     "shell.execute_reply": "2024-03-28T02:15:10.485583Z"
    },
    "lines_to_next_cell": 1,
    "papermill": {
     "duration": 0.020301,
     "end_time": "2024-03-28T02:15:10.487756",
     "exception": false,
     "start_time": "2024-03-28T02:15:10.467455",
     "status": "completed"
    },
    "tags": []
   },
   "outputs": [],
   "source": [
    "def searchInsert(arr: list[int], target: int) -> int:\n",
    "    \"Lower bound - Smallest index, greater than or equal to target\"\n",
    "    N = len(arr)\n",
    "    low, high, ans = 0, N - 1, N\n",
    "    while low <= high:\n",
    "        mid = (low + high) // 2\n",
    "        if arr[mid] >= target:\n",
    "            ans = mid\n",
    "            high = mid - 1\n",
    "        else:\n",
    "            low = mid + 1\n",
    "\n",
    "    return ans"
   ]
  },
  {
   "cell_type": "code",
   "execution_count": 12,
   "id": "d3f82851",
   "metadata": {
    "execution": {
     "iopub.execute_input": "2024-03-28T02:15:10.514881Z",
     "iopub.status.busy": "2024-03-28T02:15:10.514224Z",
     "iopub.status.idle": "2024-03-28T02:15:10.526295Z",
     "shell.execute_reply": "2024-03-28T02:15:10.525653Z"
    },
    "lines_to_next_cell": 1,
    "papermill": {
     "duration": 0.027354,
     "end_time": "2024-03-28T02:15:10.527912",
     "exception": false,
     "start_time": "2024-03-28T02:15:10.500558",
     "status": "completed"
    },
    "tags": []
   },
   "outputs": [
    {
     "data": {
      "text/plain": [
       "(8, 8)"
      ]
     },
     "execution_count": 12,
     "metadata": {},
     "output_type": "execute_result"
    }
   ],
   "source": [
    "# Floor and Ceil of a target from a given array\n",
    "def getFloorAndCeil(arr: list[int], N: int, target: int):\n",
    "    def brute() -> tuple[int, int]:\n",
    "        \"Brute force solution\"\n",
    "        floor = -1\n",
    "        for i in range(N):\n",
    "            if arr[i] > target:\n",
    "                break\n",
    "            else:\n",
    "                floor = arr[i]\n",
    "\n",
    "        ceil = -1\n",
    "        for i in range(N - 1, -1, -1):\n",
    "            if arr[i] < target:\n",
    "                break\n",
    "            else:\n",
    "                ceil = arr[i]\n",
    "\n",
    "        return floor, ceil\n",
    "\n",
    "    def binary() -> tuple[int, int]:\n",
    "        low, high, LB = 0, N - 1, -1\n",
    "        while low <= high:\n",
    "            mid = (low + high) // 2\n",
    "            if arr[mid] <= target:\n",
    "                LB = arr[mid]\n",
    "                low = mid + 1\n",
    "            else:\n",
    "                high = mid - 1\n",
    "\n",
    "        low, high, UB = 0, N - 1, -1\n",
    "        while low <= high:\n",
    "            mid = (low + high) // 2\n",
    "            if arr[mid] >= target:\n",
    "                UB = arr[mid]\n",
    "                high = mid - 1\n",
    "            else:\n",
    "                low = mid + 1\n",
    "\n",
    "        return LB, UB\n",
    "\n",
    "    return binary()\n",
    "\n",
    "# Testing the solution\n",
    "getFloorAndCeil([3, 4, 4, 7, 8, 10], 6, 8)"
   ]
  },
  {
   "cell_type": "markdown",
   "id": "d066d6da",
   "metadata": {
    "papermill": {
     "duration": 0.012925,
     "end_time": "2024-03-28T02:15:10.553922",
     "exception": false,
     "start_time": "2024-03-28T02:15:10.540997",
     "status": "completed"
    },
    "tags": []
   },
   "source": [
    "Video Link: https://www.youtube.com/watch?v=hjR1IYVx9lY&list=PLgUwDviBIf0oF6QL8m22w1hIDC1vJ_BHz&index=47"
   ]
  },
  {
   "cell_type": "code",
   "execution_count": 13,
   "id": "d11d7af8",
   "metadata": {
    "execution": {
     "iopub.execute_input": "2024-03-28T02:15:10.580999Z",
     "iopub.status.busy": "2024-03-28T02:15:10.580428Z",
     "iopub.status.idle": "2024-03-28T02:15:10.590488Z",
     "shell.execute_reply": "2024-03-28T02:15:10.589775Z"
    },
    "lines_to_next_cell": 1,
    "papermill": {
     "duration": 0.02532,
     "end_time": "2024-03-28T02:15:10.592118",
     "exception": false,
     "start_time": "2024-03-28T02:15:10.566798",
     "status": "completed"
    },
    "tags": []
   },
   "outputs": [
    {
     "data": {
      "text/plain": [
       "(-1, -1)"
      ]
     },
     "execution_count": 13,
     "metadata": {},
     "output_type": "execute_result"
    }
   ],
   "source": [
    "# Coding studio link: https://bit.ly/3Mdw2FX\n",
    "def firstAndLastPosition(arr: list[int], N: int, target: int) -> tuple[int, int]:\n",
    "    def findFirst() -> int:\n",
    "        low, high, ans = 0, N - 1, -1\n",
    "        while low <= high:\n",
    "            mid = (low + high) // 2\n",
    "            if arr[mid] >= target:\n",
    "                if arr[mid] == target:\n",
    "                    ans = mid\n",
    "                high = mid - 1\n",
    "            else:\n",
    "                low = mid + 1\n",
    "\n",
    "        return ans\n",
    "\n",
    "    def findLast() -> int:\n",
    "        low, high, ans = 0, N - 1, -1\n",
    "        while low <= high:\n",
    "            mid = (low + high) // 2\n",
    "            if arr[mid] <= target:\n",
    "                if arr[mid] == target:\n",
    "                    ans = mid\n",
    "                low = mid + 1\n",
    "            else:\n",
    "                high = mid - 1\n",
    "\n",
    "        return ans\n",
    "\n",
    "    first = findFirst()\n",
    "    if first == -1: # If not found, don't have to search again\n",
    "        return first, first\n",
    "    else:\n",
    "        return first, findLast()\n",
    "\n",
    "# Testing the solution\n",
    "firstAndLastPosition([1, 2, 3, 3, 3, 4, 5], 7, 9)"
   ]
  },
  {
   "cell_type": "code",
   "execution_count": 14,
   "id": "44578564",
   "metadata": {
    "execution": {
     "iopub.execute_input": "2024-03-28T02:15:10.619816Z",
     "iopub.status.busy": "2024-03-28T02:15:10.619202Z",
     "iopub.status.idle": "2024-03-28T02:15:10.629215Z",
     "shell.execute_reply": "2024-03-28T02:15:10.628494Z"
    },
    "lines_to_next_cell": 1,
    "papermill": {
     "duration": 0.025629,
     "end_time": "2024-03-28T02:15:10.630867",
     "exception": false,
     "start_time": "2024-03-28T02:15:10.605238",
     "status": "completed"
    },
    "tags": []
   },
   "outputs": [
    {
     "data": {
      "text/plain": [
       "0"
      ]
     },
     "execution_count": 14,
     "metadata": {},
     "output_type": "execute_result"
    }
   ],
   "source": [
    "# Coding Studio link: https://bit.ly/42ZDqM4\n",
    "def count_occurances(arr: list[int], N: int, target: int) -> int:\n",
    "    def findFirst() -> int:\n",
    "        low, high, ans = 0, N - 1, -1\n",
    "        while low <= high:\n",
    "            mid = (low + high) // 2\n",
    "            if arr[mid] >= target:\n",
    "                if arr[mid] == target:\n",
    "                    ans = mid\n",
    "                high = mid - 1\n",
    "            else:\n",
    "                low = mid + 1\n",
    "\n",
    "        return ans\n",
    "\n",
    "    def findLast() -> int:\n",
    "        low, high, ans = 0, N - 1, -1\n",
    "        while low <= high:\n",
    "            mid = (low + high) // 2\n",
    "            if arr[mid] <= target:\n",
    "                if arr[mid] == target:\n",
    "                    ans = mid\n",
    "                low = mid + 1\n",
    "            else:\n",
    "                high = mid - 1\n",
    "\n",
    "        return ans\n",
    "\n",
    "    firstIdx = findFirst()\n",
    "    if firstIdx == -1:\n",
    "        return 0\n",
    "    else:\n",
    "        return findLast() - firstIdx + 1\n",
    "\n",
    "# Testing the solution\n",
    "count_occurances([1, 2, 2, 3, 4, 4, 4, 5, 6], 9, 9)"
   ]
  },
  {
   "cell_type": "markdown",
   "id": "7ae08467",
   "metadata": {
    "papermill": {
     "duration": 0.013148,
     "end_time": "2024-03-28T02:15:10.657446",
     "exception": false,
     "start_time": "2024-03-28T02:15:10.644298",
     "status": "completed"
    },
    "tags": []
   },
   "source": [
    "Video Link: https://www.youtube.com/watch?v=5qGrJbHhqFs&list=PLgUwDviBIf0oF6QL8m22w1hIDC1vJ_BHz&index=48\n",
    "Search in a rotated sorted array: https://leetcode.com/problems/search-in-rotated-sorted-array/"
   ]
  },
  {
   "cell_type": "code",
   "execution_count": 15,
   "id": "07fd3a6e",
   "metadata": {
    "execution": {
     "iopub.execute_input": "2024-03-28T02:15:10.685087Z",
     "iopub.status.busy": "2024-03-28T02:15:10.684506Z",
     "iopub.status.idle": "2024-03-28T02:15:10.693103Z",
     "shell.execute_reply": "2024-03-28T02:15:10.692424Z"
    },
    "lines_to_next_cell": 1,
    "papermill": {
     "duration": 0.024137,
     "end_time": "2024-03-28T02:15:10.694709",
     "exception": false,
     "start_time": "2024-03-28T02:15:10.670572",
     "status": "completed"
    },
    "tags": []
   },
   "outputs": [
    {
     "data": {
      "text/plain": [
       "8"
      ]
     },
     "execution_count": 15,
     "metadata": {},
     "output_type": "execute_result"
    }
   ],
   "source": [
    "def search_rotated_sorted1(arr: list[int], target: int) -> int:\n",
    "    N = len(arr)\n",
    "    low, high = 0, N - 1\n",
    "    while low <= high:\n",
    "        mid = (low + high) // 2\n",
    "        if arr[mid] == target:\n",
    "            return mid\n",
    "\n",
    "        # Left half is sorted\n",
    "        elif arr[low] <= arr[mid]:\n",
    "            # Element can be found in the left half\n",
    "            if arr[low] <= target <= arr[mid]:\n",
    "                high = mid - 1\n",
    "            else:\n",
    "                low = mid + 1\n",
    "\n",
    "        # Right half is sorted\n",
    "        else:\n",
    "            # Element can be found in the right half\n",
    "            if arr[mid] <= target <= arr[high]:\n",
    "                low = mid + 1\n",
    "            else:\n",
    "                high = mid - 1\n",
    "    else:\n",
    "        return -1\n",
    "\n",
    "search_rotated_sorted1([7, 8, 9, 1, 2, 3, 4, 5, 6], 6)"
   ]
  },
  {
   "cell_type": "markdown",
   "id": "fd5e97f9",
   "metadata": {
    "papermill": {
     "duration": 0.013252,
     "end_time": "2024-03-28T02:15:10.721389",
     "exception": false,
     "start_time": "2024-03-28T02:15:10.708137",
     "status": "completed"
    },
    "tags": []
   },
   "source": [
    "Video Link: https://www.youtube.com/watch?v=w2G2W8l__pc&list=PLgUwDviBIf0oF6QL8m22w1hIDC1vJ_BHz&index=49\n",
    "Search in rotated sorted arrays (with duplicates)\n",
    "Leetcode link: https://leetcode.com/problems/search-in-rotated-sorted-array-ii/submissions/1210474431/"
   ]
  },
  {
   "cell_type": "code",
   "execution_count": 16,
   "id": "310f82f5",
   "metadata": {
    "execution": {
     "iopub.execute_input": "2024-03-28T02:15:10.749596Z",
     "iopub.status.busy": "2024-03-28T02:15:10.748931Z",
     "iopub.status.idle": "2024-03-28T02:15:10.758173Z",
     "shell.execute_reply": "2024-03-28T02:15:10.757490Z"
    },
    "lines_to_next_cell": 1,
    "papermill": {
     "duration": 0.024928,
     "end_time": "2024-03-28T02:15:10.759724",
     "exception": false,
     "start_time": "2024-03-28T02:15:10.734796",
     "status": "completed"
    },
    "tags": []
   },
   "outputs": [
    {
     "data": {
      "text/plain": [
       "True"
      ]
     },
     "execution_count": 16,
     "metadata": {},
     "output_type": "execute_result"
    }
   ],
   "source": [
    "# Time complexity: O(n / 2)\n",
    "# If there are a lot of duplicates we might need to need to trim the left/right\n",
    "# repeatedly until arr[left] != arr[mid] != arr[right]\n",
    "def search_rotated_sorted2(arr: list[int], target: int) -> bool:\n",
    "    N = len(arr)\n",
    "    low, high = 0, N - 1\n",
    "    while low <= high:\n",
    "        mid = (low + high) // 2\n",
    "        if arr[mid] == target:\n",
    "            return True\n",
    "\n",
    "        # Special Case - [3, 1, 2, 3, 3, 3, 3, 3], eliminating left or right is not possible\n",
    "        elif arr[low] == arr[mid] == arr[high]:\n",
    "            low, high = low + 1, high - 1\n",
    "\n",
    "        # Left half is sorted\n",
    "        elif arr[low] <= arr[mid]:\n",
    "            # Element can be found in the left half\n",
    "            if arr[low] <= target <= arr[mid]:\n",
    "                high = mid - 1\n",
    "            else:\n",
    "                low = mid + 1\n",
    "\n",
    "        # Right half is sorted\n",
    "        else:\n",
    "            # Element can be found in the right half\n",
    "            if arr[mid] <= target <= arr[high]:\n",
    "                low = mid + 1\n",
    "            else:\n",
    "                high = mid - 1\n",
    "    else:\n",
    "        return False\n",
    "\n",
    "search_rotated_sorted2([3, 1, 2, 3, 3, 3, 3], 1)"
   ]
  },
  {
   "cell_type": "markdown",
   "id": "6657c71c",
   "metadata": {
    "papermill": {
     "duration": 0.013391,
     "end_time": "2024-03-28T02:15:10.786804",
     "exception": false,
     "start_time": "2024-03-28T02:15:10.773413",
     "status": "completed"
    },
    "tags": []
   },
   "source": [
    "Video Link: https://www.youtube.com/watch?v=nhEMDKMB44g&list=PLgUwDviBIf0oF6QL8m22w1hIDC1vJ_BHz&index=50\n",
    "Leetcode: https://leetcode.com/problems/find-minimum-in-rotated-sorted-array/submissions/1210490796"
   ]
  },
  {
   "cell_type": "code",
   "execution_count": 17,
   "id": "b50d9ac8",
   "metadata": {
    "execution": {
     "iopub.execute_input": "2024-03-28T02:15:10.814968Z",
     "iopub.status.busy": "2024-03-28T02:15:10.814386Z",
     "iopub.status.idle": "2024-03-28T02:15:10.821999Z",
     "shell.execute_reply": "2024-03-28T02:15:10.821173Z"
    },
    "papermill": {
     "duration": 0.023401,
     "end_time": "2024-03-28T02:15:10.823614",
     "exception": false,
     "start_time": "2024-03-28T02:15:10.800213",
     "status": "completed"
    },
    "tags": []
   },
   "outputs": [],
   "source": [
    "class Solution:\n",
    "    def findMin(self, nums: list[int]) -> int:\n",
    "        N = len(nums)\n",
    "        low, high, ans = 0, N - 1, nums[0]\n",
    "        while low <= high:\n",
    "            mid = (low + high) // 2\n",
    "            # Left half and right half is sorted (happens when we have crossed the pivot point or if the array was rotated 0 times)\n",
    "            if nums[low] < nums[mid] < nums[high]:\n",
    "                ans = min(ans, nums[low])\n",
    "                low, high = mid + 1, mid - 1\n",
    "\n",
    "            # Left half is sorted, take the min from left half and trim search space to the right half\n",
    "            elif nums[low] <= nums[mid]:\n",
    "                ans = min(ans, nums[low])\n",
    "                low = mid + 1\n",
    "\n",
    "            # Right half is sorted, take the min from the right half and trim search space to the left half\n",
    "            else:\n",
    "                ans = min(ans, nums[mid])\n",
    "                high = mid - 1\n",
    "\n",
    "        return ans\n",
    "\n",
    "# Testing the solution\n",
    "assert Solution().findMin([3,4,5,1,2]) == 1\n",
    "assert Solution().findMin([4,5,6,7,0,1,2]) == 0\n",
    "assert Solution().findMin([11,13,15,17]) == 11"
   ]
  },
  {
   "cell_type": "markdown",
   "id": "c2e4d69a",
   "metadata": {
    "papermill": {
     "duration": 0.013401,
     "end_time": "2024-03-28T02:15:10.850841",
     "exception": false,
     "start_time": "2024-03-28T02:15:10.837440",
     "status": "completed"
    },
    "tags": []
   },
   "source": [
    "Video Link: https://www.youtube.com/watch?v=jtSiWTPLwd0&list=PLgUwDviBIf0oF6QL8m22w1hIDC1vJ_BHz&index=51\n",
    "Count number of times an array has been rotated"
   ]
  },
  {
   "cell_type": "code",
   "execution_count": 18,
   "id": "f854c012",
   "metadata": {
    "execution": {
     "iopub.execute_input": "2024-03-28T02:15:10.879034Z",
     "iopub.status.busy": "2024-03-28T02:15:10.878426Z",
     "iopub.status.idle": "2024-03-28T02:15:10.885368Z",
     "shell.execute_reply": "2024-03-28T02:15:10.884649Z"
    },
    "papermill": {
     "duration": 0.02288,
     "end_time": "2024-03-28T02:15:10.887147",
     "exception": false,
     "start_time": "2024-03-28T02:15:10.864267",
     "status": "completed"
    },
    "tags": []
   },
   "outputs": [
    {
     "data": {
      "text/plain": [
       "4"
      ]
     },
     "execution_count": 18,
     "metadata": {},
     "output_type": "execute_result"
    }
   ],
   "source": [
    "arr = [2, 3, 4, 5, 1]\n",
    "N = len(arr)\n",
    "low, high, ans = 0, N - 1, 0\n",
    "while low <= high:\n",
    "    mid = (low + high) // 2\n",
    "    if arr[low] <= arr[mid]:\n",
    "        if arr[ans] > arr[low]:\n",
    "            ans = low\n",
    "        low = mid + 1\n",
    "    else:\n",
    "        if arr[ans] > arr[mid]:\n",
    "            ans = mid\n",
    "        high = mid - 1\n",
    "\n",
    "ans"
   ]
  },
  {
   "cell_type": "markdown",
   "id": "5769e9e8",
   "metadata": {
    "papermill": {
     "duration": 0.013594,
     "end_time": "2024-03-28T02:15:10.914479",
     "exception": false,
     "start_time": "2024-03-28T02:15:10.900885",
     "status": "completed"
    },
    "tags": []
   },
   "source": [
    "Video Link: https://www.youtube.com/watch?v=AZOmHuHadxQ&list=PLgUwDviBIf0oF6QL8m22w1hIDC1vJ_BHz&index=52\n",
    "Leetcode link: https://leetcode.com/problems/single-element-in-a-sorted-array/submissions/1211393503"
   ]
  },
  {
   "cell_type": "code",
   "execution_count": 19,
   "id": "1abaf5dd",
   "metadata": {
    "execution": {
     "iopub.execute_input": "2024-03-28T02:15:10.961656Z",
     "iopub.status.busy": "2024-03-28T02:15:10.960937Z",
     "iopub.status.idle": "2024-03-28T02:15:10.966898Z",
     "shell.execute_reply": "2024-03-28T02:15:10.966142Z"
    },
    "papermill": {
     "duration": 0.0225,
     "end_time": "2024-03-28T02:15:10.968465",
     "exception": false,
     "start_time": "2024-03-28T02:15:10.945965",
     "status": "completed"
    },
    "tags": []
   },
   "outputs": [
    {
     "data": {
      "text/plain": [
       "4"
      ]
     },
     "execution_count": 19,
     "metadata": {},
     "output_type": "execute_result"
    }
   ],
   "source": [
    "# Brute force approach\n",
    "# Time - O(N)\n",
    "arr = [1, 1, 2, 2, 3, 3, 4, 5, 5, 6, 6]\n",
    "res = 0\n",
    "for i in arr:\n",
    "    res ^= i\n",
    "res"
   ]
  },
  {
   "cell_type": "code",
   "execution_count": 20,
   "id": "69d77039",
   "metadata": {
    "execution": {
     "iopub.execute_input": "2024-03-28T02:15:10.997744Z",
     "iopub.status.busy": "2024-03-28T02:15:10.997127Z",
     "iopub.status.idle": "2024-03-28T02:15:11.005907Z",
     "shell.execute_reply": "2024-03-28T02:15:11.005192Z"
    },
    "lines_to_next_cell": 1,
    "papermill": {
     "duration": 0.025197,
     "end_time": "2024-03-28T02:15:11.007514",
     "exception": false,
     "start_time": "2024-03-28T02:15:10.982317",
     "status": "completed"
    },
    "tags": []
   },
   "outputs": [
    {
     "data": {
      "text/plain": [
       "4"
      ]
     },
     "execution_count": 20,
     "metadata": {},
     "output_type": "execute_result"
    }
   ],
   "source": [
    "# Better approach: O(log N)\n",
    "\"\"\"\n",
    "[1, 2, 2]\n",
    "[1, 1, 2]\n",
    "[1, 2, 2, 3, 3]\n",
    "[1, 1, 2, 3, 3]\n",
    "[1, 1, 2, 2, 3]\n",
    "[1, 2, 2, 3, 3, 4, 4]\n",
    "[1, 1, 2, 3, 3, 4, 4]\n",
    "[1, 1, 2, 2, 3, 4, 4]\n",
    "[1, 1, 2, 2, 3, 3, 4]\n",
    "# if mid is odd, mid - 1, mid should be same for left to be okay: low = mid + 1 / high = mid + 1\n",
    "# if mid is even, mid, mid + 1 should be the same for left to be okay: low = mid / high = mid\n",
    "\"\"\"\n",
    "arr = [1, 1, 2, 2, 3, 3, 4, 5, 5, 6, 6]\n",
    "N = len(arr)\n",
    "low, high = 0, N - 1\n",
    "while low < high:\n",
    "    mid = (low + high) // 2\n",
    "    if mid % 2 == 0:\n",
    "        if arr[mid] == arr[mid + 1]:\n",
    "            low = mid\n",
    "        else:\n",
    "            high = mid\n",
    "    else:\n",
    "        if arr[mid] == arr[mid - 1]:\n",
    "            low = mid + 1\n",
    "        else:\n",
    "            high = mid - 1\n",
    "\n",
    "arr[low]"
   ]
  },
  {
   "cell_type": "markdown",
   "id": "1879fb32",
   "metadata": {
    "papermill": {
     "duration": 0.013815,
     "end_time": "2024-03-28T02:15:11.035265",
     "exception": false,
     "start_time": "2024-03-28T02:15:11.021450",
     "status": "completed"
    },
    "tags": []
   },
   "source": [
    "Video Link: https://www.youtube.com/watch?v=cXxmbemS6XM&list=PLgUwDviBIf0oF6QL8m22w1hIDC1vJ_BHz&index=53\n",
    "Find Peak element"
   ]
  },
  {
   "cell_type": "code",
   "execution_count": 21,
   "id": "7126b9cc",
   "metadata": {
    "execution": {
     "iopub.execute_input": "2024-03-28T02:15:11.064031Z",
     "iopub.status.busy": "2024-03-28T02:15:11.063543Z",
     "iopub.status.idle": "2024-03-28T02:15:11.070018Z",
     "shell.execute_reply": "2024-03-28T02:15:11.069341Z"
    },
    "lines_to_next_cell": 1,
    "papermill": {
     "duration": 0.022607,
     "end_time": "2024-03-28T02:15:11.071616",
     "exception": false,
     "start_time": "2024-03-28T02:15:11.049009",
     "status": "completed"
    },
    "tags": []
   },
   "outputs": [],
   "source": [
    "def findPeakElement(arr: [int]) -> int:\n",
    "    N = len(arr)\n",
    "    low, high = 0, N - 1\n",
    "    while low <= high:\n",
    "        mid = (low + high) // 2\n",
    "        l, m, r = arr[mid - 1] if mid > 0 else -math.inf, arr[mid], arr[mid + 1] if mid < N - 1 else -math.inf\n",
    "        if l <  m > r:\n",
    "            return mid\n",
    "        elif l < m < r:\n",
    "            low = mid + 1\n",
    "        # handles both cases - l > m > r and l > m < r\n",
    "        # If the case is l > m < r, multiple peak exists, going any dir we would be able to reach a peak\n",
    "        else:\n",
    "            high = mid - 1\n",
    "    return -1\n",
    "\n",
    "# Testing the solution\n",
    "assert findPeakElement([1, 2, 3, 1]) == 2\n",
    "assert findPeakElement([1,2,1,3,5,6,4]) == 5"
   ]
  },
  {
   "cell_type": "markdown",
   "id": "399ae8e1",
   "metadata": {
    "papermill": {
     "duration": 0.01368,
     "end_time": "2024-03-28T02:15:11.099103",
     "exception": false,
     "start_time": "2024-03-28T02:15:11.085423",
     "status": "completed"
    },
    "tags": []
   },
   "source": [
    "Video Link: https://www.youtube.com/watch?v=Bsv3FPUX_BA&list=PLgUwDviBIf0oF6QL8m22w1hIDC1vJ_BHz&index=54\n",
    "Square root of a number using binary search\n",
    "Take home:\n",
    "\n",
    "1. For questions involving patterns where ans is possible uptil a certain extent and post which answers are not possible, we can apply our binary search algorithm (we always know the range of possible answers)\n",
    "2. When we are having regions of possible and not possible like so: [ans, ans, ans, not ans, not ans] - at the end of binary search, low will end up pointing at a position that is 1 greater than the ans (3) while high will end up pointing at the ans (2)"
   ]
  },
  {
   "cell_type": "code",
   "execution_count": 22,
   "id": "64144c7a",
   "metadata": {
    "execution": {
     "iopub.execute_input": "2024-03-28T02:15:11.127846Z",
     "iopub.status.busy": "2024-03-28T02:15:11.127344Z",
     "iopub.status.idle": "2024-03-28T02:15:11.165570Z",
     "shell.execute_reply": "2024-03-28T02:15:11.164806Z"
    },
    "lines_to_next_cell": 1,
    "papermill": {
     "duration": 0.054359,
     "end_time": "2024-03-28T02:15:11.167217",
     "exception": false,
     "start_time": "2024-03-28T02:15:11.112858",
     "status": "completed"
    },
    "tags": []
   },
   "outputs": [
    {
     "name": "stderr",
     "output_type": "stream",
     "text": [
      "\r",
      "  0%|          | 0/10000 [00:00<?, ?it/s]"
     ]
    },
    {
     "name": "stderr",
     "output_type": "stream",
     "text": [
      "\r",
      "100%|██████████| 10000/10000 [00:00<00:00, 331319.34it/s]"
     ]
    },
    {
     "name": "stderr",
     "output_type": "stream",
     "text": [
      "\n"
     ]
    }
   ],
   "source": [
    "def floorSqrt(n: int) -> int:\n",
    "    'Time - O(log n)'\n",
    "    low, high = 1, n\n",
    "    while low <= high:\n",
    "        mid = (low + high) // 2\n",
    "        if mid * mid > n:\n",
    "            high = mid - 1\n",
    "        else:\n",
    "            low = mid + 1\n",
    "\n",
    "    return high\n",
    "\n",
    "# Testing the solution\n",
    "for i in tqdm.tqdm(range(int(1e4))):\n",
    "    assert floorSqrt(i) == int(math.sqrt(i))"
   ]
  },
  {
   "cell_type": "markdown",
   "id": "21ab1eeb",
   "metadata": {
    "papermill": {
     "duration": 0.013965,
     "end_time": "2024-03-28T02:15:11.195294",
     "exception": false,
     "start_time": "2024-03-28T02:15:11.181329",
     "status": "completed"
    },
    "tags": []
   },
   "source": [
    "Video Link: https://www.youtube.com/watch?v=rjEJeYCasHs&list=PLgUwDviBIf0oF6QL8m22w1hIDC1vJ_BHz&index=55\n",
    "Find Nth root of an integer"
   ]
  },
  {
   "cell_type": "code",
   "execution_count": 23,
   "id": "8e8ba6e9",
   "metadata": {
    "execution": {
     "iopub.execute_input": "2024-03-28T02:15:11.225243Z",
     "iopub.status.busy": "2024-03-28T02:15:11.224648Z",
     "iopub.status.idle": "2024-03-28T02:15:11.230404Z",
     "shell.execute_reply": "2024-03-28T02:15:11.229746Z"
    },
    "lines_to_next_cell": 1,
    "papermill": {
     "duration": 0.022783,
     "end_time": "2024-03-28T02:15:11.232027",
     "exception": false,
     "start_time": "2024-03-28T02:15:11.209244",
     "status": "completed"
    },
    "tags": []
   },
   "outputs": [],
   "source": [
    "# Brute force\n",
    "def NthRoot_brute(n: int, m: int) -> int:\n",
    "    \"Brute force - O(m * n)\"\n",
    "    for i in range(m):\n",
    "        curr = 1\n",
    "        for _ in range(n):\n",
    "            curr *= i\n",
    "            if curr > m:\n",
    "                break\n",
    "        if curr == m:\n",
    "            return i\n",
    "        elif curr > m:\n",
    "            break\n",
    "    return -1\n",
    "\n",
    "# Testing the solution\n",
    "assert NthRoot_brute(3, 27) == 3\n",
    "assert NthRoot_brute(4, 69) == -1"
   ]
  },
  {
   "cell_type": "code",
   "execution_count": 24,
   "id": "accd0d1c",
   "metadata": {
    "execution": {
     "iopub.execute_input": "2024-03-28T02:15:11.261313Z",
     "iopub.status.busy": "2024-03-28T02:15:11.261020Z",
     "iopub.status.idle": "2024-03-28T02:15:11.266979Z",
     "shell.execute_reply": "2024-03-28T02:15:11.266337Z"
    },
    "lines_to_next_cell": 1,
    "papermill": {
     "duration": 0.02244,
     "end_time": "2024-03-28T02:15:11.268631",
     "exception": false,
     "start_time": "2024-03-28T02:15:11.246191",
     "status": "completed"
    },
    "tags": []
   },
   "outputs": [],
   "source": [
    "# Optimal - Binary Search\n",
    "def NthRoot_binary(n: int, m: int) -> int:\n",
    "    \"Using binary search - O(log m * n)\"\n",
    "    low, high = 0, m\n",
    "    while low <= high:\n",
    "        mid = (low + high) // 2\n",
    "\n",
    "        curr = 1\n",
    "        for _ in range(n):\n",
    "            curr *= mid\n",
    "            if curr > m:\n",
    "                break\n",
    "\n",
    "        if curr == m:\n",
    "            return mid\n",
    "        elif curr < m:\n",
    "            low = mid + 1\n",
    "        else:\n",
    "            high = mid - 1\n",
    "\n",
    "    return -1\n",
    "\n",
    "# Testing the solution\n",
    "assert NthRoot_binary(3, 27) == 3\n",
    "assert NthRoot_binary(4, 69) == -1"
   ]
  },
  {
   "cell_type": "markdown",
   "id": "201c8d96",
   "metadata": {
    "papermill": {
     "duration": 0.014037,
     "end_time": "2024-03-28T02:15:11.296826",
     "exception": false,
     "start_time": "2024-03-28T02:15:11.282789",
     "status": "completed"
    },
    "tags": []
   },
   "source": [
    "Video link: https://youtu.be/qyfekrNni90?si=N28mkp8Cyx4lvNIq  \n",
    "Problem: Koko eating bananas"
   ]
  },
  {
   "cell_type": "code",
   "execution_count": 25,
   "id": "24fcadf8",
   "metadata": {
    "execution": {
     "iopub.execute_input": "2024-03-28T02:15:11.326335Z",
     "iopub.status.busy": "2024-03-28T02:15:11.325766Z",
     "iopub.status.idle": "2024-03-28T02:15:11.331116Z",
     "shell.execute_reply": "2024-03-28T02:15:11.330359Z"
    },
    "lines_to_next_cell": 1,
    "papermill": {
     "duration": 0.021758,
     "end_time": "2024-03-28T02:15:11.332738",
     "exception": false,
     "start_time": "2024-03-28T02:15:11.310980",
     "status": "completed"
    },
    "tags": []
   },
   "outputs": [],
   "source": [
    "# Brute force solution: O(v * h)\n",
    "def minimumRateToEatBananas_brute(v: list[int], h: int) -> int:\n",
    "    m, min_hours = 0, sum(v)\n",
    "    while min_hours > h:\n",
    "        m += 1\n",
    "        min_hours = 0\n",
    "        for p in v:\n",
    "            min_hours += math.ceil(p / m)\n",
    "\n",
    "    return m\n",
    "\n",
    "# Testing the solution\n",
    "assert minimumRateToEatBananas_brute([7, 15, 6, 3], 8) == 5\n",
    "assert minimumRateToEatBananas_brute([25, 12, 8, 14, 19], 5) == 25"
   ]
  },
  {
   "cell_type": "code",
   "execution_count": 26,
   "id": "77605b2a",
   "metadata": {
    "execution": {
     "iopub.execute_input": "2024-03-28T02:15:11.362240Z",
     "iopub.status.busy": "2024-03-28T02:15:11.361639Z",
     "iopub.status.idle": "2024-03-28T02:15:11.368906Z",
     "shell.execute_reply": "2024-03-28T02:15:11.368155Z"
    },
    "lines_to_next_cell": 1,
    "papermill": {
     "duration": 0.023674,
     "end_time": "2024-03-28T02:15:11.370492",
     "exception": false,
     "start_time": "2024-03-28T02:15:11.346818",
     "status": "completed"
    },
    "tags": []
   },
   "outputs": [],
   "source": [
    "# Better solution\n",
    "def minimumRateToEatBananas_better(v: list[int], h: int) -> int:\n",
    "    def compute_hours(m: int) -> int:\n",
    "        \"Assumes piles is sorted in asc order\"\n",
    "        V = N # Copy N for modification\n",
    "        hours = 0\n",
    "        while v[V - 1] > m and V > 0:\n",
    "            hours += math.ceil(v[V - 1] / m)\n",
    "            V -= 1\n",
    "\n",
    "        return hours + V\n",
    "\n",
    "    N = len(v)\n",
    "\n",
    "    # Time: O(v log v)\n",
    "    v.sort()\n",
    "\n",
    "    # Binary search\n",
    "    low, high = 1, v[-1]\n",
    "    while low <= high:\n",
    "        mid = (low + high) // 2\n",
    "        curr = compute_hours(mid)\n",
    "        if curr > h:\n",
    "            low = mid + 1\n",
    "        else:\n",
    "            high = mid - 1\n",
    "\n",
    "    return low\n",
    "\n",
    "# Testing the solution\n",
    "assert minimumRateToEatBananas_better([9], 2) == 5\n",
    "assert minimumRateToEatBananas_better([7, 15, 6, 3], 8) == 5\n",
    "assert minimumRateToEatBananas_better([25, 12, 8, 14, 19], 5) == 25"
   ]
  },
  {
   "cell_type": "markdown",
   "id": "81512acb",
   "metadata": {
    "papermill": {
     "duration": 0.014036,
     "end_time": "2024-03-28T02:15:11.398821",
     "exception": false,
     "start_time": "2024-03-28T02:15:11.384785",
     "status": "completed"
    },
    "tags": []
   },
   "source": [
    "Video Link: https://www.youtube.com/watch?v=TXAuxeYBTdg&list=PLgUwDviBIf0oF6QL8m22w1hIDC1vJ_BHz&index=57\n",
    "Minimum days to make M boquets"
   ]
  },
  {
   "cell_type": "code",
   "execution_count": 27,
   "id": "76ca4e35",
   "metadata": {
    "execution": {
     "iopub.execute_input": "2024-03-28T02:15:11.428248Z",
     "iopub.status.busy": "2024-03-28T02:15:11.427652Z",
     "iopub.status.idle": "2024-03-28T02:15:11.436408Z",
     "shell.execute_reply": "2024-03-28T02:15:11.435670Z"
    },
    "lines_to_next_cell": 1,
    "papermill": {
     "duration": 0.025493,
     "end_time": "2024-03-28T02:15:11.438238",
     "exception": false,
     "start_time": "2024-03-28T02:15:11.412745",
     "status": "completed"
    },
    "tags": []
   },
   "outputs": [],
   "source": [
    "# Solution link: https://leetcode.com/problems/minimum-number-of-days-to-make-m-bouquets/submissions/1213963810\n",
    "class Solution:\n",
    "    def minDays(self, bloomDay: list[int], m: int, k: int) -> int:\n",
    "        def countBoquets(day: int) -> int:\n",
    "            \"Count boquets in O(N) time\"\n",
    "            flower_count, boquet_count = 0, 0\n",
    "            for i in range(N):\n",
    "                if bloomDay[i] <= day:\n",
    "                    flower_count += 1\n",
    "                else:\n",
    "                    flower_count = 0\n",
    "\n",
    "                if flower_count == k:\n",
    "                    boquet_count += 1\n",
    "                    flower_count = 0\n",
    "\n",
    "            return boquet_count\n",
    "\n",
    "        N = len(bloomDay)\n",
    "\n",
    "        answer_range = sorted(set(bloomDay))\n",
    "        answer_range_length = len(answer_range)\n",
    "        low, high = 0, answer_range_length - 1\n",
    "        while low <= high:\n",
    "            mid = (low + high) // 2\n",
    "            boquet_count = countBoquets(answer_range[mid])\n",
    "            if boquet_count >= m:\n",
    "                high = mid - 1\n",
    "            else:\n",
    "                low = mid + 1\n",
    "\n",
    "        return answer_range[low] if low < answer_range_length else -1\n",
    "\n",
    "# Testing the solution\n",
    "assert Solution().minDays([1,10,3,10,2], 3, 1) == 3\n",
    "assert Solution().minDays([1,10,3,10,2], 3, 2) == -1\n",
    "assert Solution().minDays([7,7,7,7,12,7,7], 2, 3) == 12"
   ]
  },
  {
   "cell_type": "markdown",
   "id": "03f3ffa2",
   "metadata": {
    "papermill": {
     "duration": 0.014136,
     "end_time": "2024-03-28T02:15:11.466512",
     "exception": false,
     "start_time": "2024-03-28T02:15:11.452376",
     "status": "completed"
    },
    "tags": []
   },
   "source": [
    "Video Link: https://www.youtube.com/watch?v=UvBKTVaG6U8&list=PLgUwDviBIf0oF6QL8m22w1hIDC1vJ_BHz&index=58\n",
    "Smallest divisor given the threshold"
   ]
  },
  {
   "cell_type": "code",
   "execution_count": 28,
   "id": "fbac3ba5",
   "metadata": {
    "execution": {
     "iopub.execute_input": "2024-03-28T02:15:11.496072Z",
     "iopub.status.busy": "2024-03-28T02:15:11.495579Z",
     "iopub.status.idle": "2024-03-28T02:15:11.502574Z",
     "shell.execute_reply": "2024-03-28T02:15:11.501845Z"
    },
    "lines_to_next_cell": 1,
    "papermill": {
     "duration": 0.023671,
     "end_time": "2024-03-28T02:15:11.504280",
     "exception": false,
     "start_time": "2024-03-28T02:15:11.480609",
     "status": "completed"
    },
    "tags": []
   },
   "outputs": [],
   "source": [
    "# Solution Link: https://leetcode.com/problems/find-the-smallest-divisor-given-a-threshold/submissions/1213975584\n",
    "class Solution:\n",
    "    def smallestDivisor(self, nums: list[int], threshold: int) -> int:\n",
    "        def calcThresh(divisor: int) -> int:\n",
    "            thresh = 0\n",
    "            for n in nums:\n",
    "                thresh += math.ceil(n / divisor)\n",
    "            return thresh\n",
    "\n",
    "        N = len(nums)\n",
    "        low, high = 1, max(nums)\n",
    "        while low <= high:\n",
    "            mid = (low + high) // 2\n",
    "            if calcThresh(mid) <= threshold:\n",
    "                high = mid - 1\n",
    "            else:\n",
    "                low = mid + 1\n",
    "\n",
    "        return low\n",
    "\n",
    "# Testing the solution\n",
    "assert Solution().smallestDivisor([1,2,5,9], 6) == 5\n",
    "assert Solution().smallestDivisor([44,22,33,11,1], 5) == 44\n",
    "assert Solution().smallestDivisor([21212,10101,12121], 1000000) == 1"
   ]
  },
  {
   "cell_type": "markdown",
   "id": "01e65497",
   "metadata": {
    "papermill": {
     "duration": 0.014043,
     "end_time": "2024-03-28T02:15:11.532665",
     "exception": false,
     "start_time": "2024-03-28T02:15:11.518622",
     "status": "completed"
    },
    "tags": []
   },
   "source": [
    "Video Link: https://www.youtube.com/watch?v=MG-Ac4TAvTY&list=PLgUwDviBIf0oF6QL8m22w1hIDC1vJ_BHz&index=59\n",
    "Capacity to ship packages in D Days"
   ]
  },
  {
   "cell_type": "code",
   "execution_count": 29,
   "id": "48336458",
   "metadata": {
    "execution": {
     "iopub.execute_input": "2024-03-28T02:15:11.562384Z",
     "iopub.status.busy": "2024-03-28T02:15:11.561728Z",
     "iopub.status.idle": "2024-03-28T02:15:11.569492Z",
     "shell.execute_reply": "2024-03-28T02:15:11.568757Z"
    },
    "lines_to_next_cell": 1,
    "papermill": {
     "duration": 0.024428,
     "end_time": "2024-03-28T02:15:11.571085",
     "exception": false,
     "start_time": "2024-03-28T02:15:11.546657",
     "status": "completed"
    },
    "tags": []
   },
   "outputs": [],
   "source": [
    "# Problem link: https://leetcode.com/problems/capacity-to-ship-packages-within-d-days/submissions/1214006136\n",
    "class Solution:\n",
    "    def shipWithinDays(self, weights: list[int], days: int) -> int:\n",
    "        def countDays(capacity: int) -> int:\n",
    "            day_count = 0\n",
    "            weight = 0\n",
    "            for w in weights:\n",
    "                if weight + w <= capacity:\n",
    "                    weight += w\n",
    "                else:\n",
    "                    day_count += 1\n",
    "                    weight = w\n",
    "\n",
    "            return day_count + 1\n",
    "\n",
    "        # Sort the weights\n",
    "        N = len(weights)\n",
    "\n",
    "        # Min, max possibile answer - Binary search\n",
    "        low, high = max(weights), sum(weights)\n",
    "        while low <= high:\n",
    "            mid = (low + high) // 2\n",
    "            day_count = countDays(mid)\n",
    "            if day_count <= days:\n",
    "                high = mid - 1\n",
    "            else:\n",
    "                low = mid + 1\n",
    "\n",
    "        return low\n",
    "\n",
    "# Testing the solution\n",
    "assert Solution().shipWithinDays([1,2,3,4,5,6,7,8,9,10], 5) == 15\n",
    "assert Solution().shipWithinDays([3,2,2,4,1,4], 3) == 6\n",
    "assert Solution().shipWithinDays([1,2,3,1,1], 4) == 3"
   ]
  },
  {
   "cell_type": "markdown",
   "id": "0a0d2642",
   "metadata": {
    "papermill": {
     "duration": 0.01401,
     "end_time": "2024-03-28T02:15:11.599276",
     "exception": false,
     "start_time": "2024-03-28T02:15:11.585266",
     "status": "completed"
    },
    "tags": []
   },
   "source": [
    "Video Link: https://www.youtube.com/watch?v=uZ0N_hZpyps&list=PLgUwDviBIf0oF6QL8m22w1hIDC1vJ_BHz&index=60\n",
    "Kth missing +ve number: https://leetcode.com/problems/kth-missing-positive-number/submissions/1215199274/"
   ]
  },
  {
   "cell_type": "code",
   "execution_count": 30,
   "id": "fdbc80fd",
   "metadata": {
    "execution": {
     "iopub.execute_input": "2024-03-28T02:15:11.628800Z",
     "iopub.status.busy": "2024-03-28T02:15:11.628304Z",
     "iopub.status.idle": "2024-03-28T02:15:11.636832Z",
     "shell.execute_reply": "2024-03-28T02:15:11.636087Z"
    },
    "lines_to_next_cell": 1,
    "papermill": {
     "duration": 0.025402,
     "end_time": "2024-03-28T02:15:11.638687",
     "exception": false,
     "start_time": "2024-03-28T02:15:11.613285",
     "status": "completed"
    },
    "tags": []
   },
   "outputs": [],
   "source": [
    "# Linear run time solution\n",
    "class Solution:\n",
    "    def findKthPositive_brute(self, arr: list[int], k: int) -> int:\n",
    "        \"Brute force: Time - O(N), Space - O(N)\"\n",
    "        present: set[int] = set(arr)\n",
    "        max_ = arr[-1] + k\n",
    "        for i in range(1, max_ + 1):\n",
    "            if i not in present:\n",
    "                k -= 1\n",
    "            if k == 0:\n",
    "                break\n",
    "        return i\n",
    "\n",
    "    def findKthPositive_better(self, arr: list[int], k: int) -> int:\n",
    "        \"Striver Better solution: Time - O(N), Space - O(1)\"\n",
    "        for n in arr:\n",
    "            if n <= k:\n",
    "                k += 1\n",
    "            else:\n",
    "                break\n",
    "        return k\n",
    "\n",
    "    def findKthPositive(self, arr: list[int], k: int) -> int:\n",
    "        \"\"\"\n",
    "        Optimal - Binary search: Time - O(log N)\n",
    "        Primary Observation: Count of missing elements prior to index: arr[idx] - idx - 1.\n",
    "        This is because if there were no missing elements, at any idx the number should be idx + 1.\n",
    "\n",
    "        With this logic in mind, we can apply binary search.\n",
    "        \"\"\"\n",
    "        N = len(arr)\n",
    "        low, high = 0, N - 1\n",
    "        while low <= high:\n",
    "            mid = (low + high) // 2\n",
    "            missing_count = arr[mid] - mid - 1\n",
    "            if missing_count < k:\n",
    "                low = mid + 1\n",
    "            else:\n",
    "                high = mid - 1\n",
    "\n",
    "        # arr[high] + more \n",
    "        # arr[high] + k - missing \n",
    "        # arr[high] + k - arr[high] + high + 1\n",
    "        return high + k + 1\n",
    "\n",
    "# Testing the solution\n",
    "assert Solution().findKthPositive([2, 3, 4, 7, 11], 5) == 9"
   ]
  },
  {
   "cell_type": "markdown",
   "id": "5275fb71",
   "metadata": {
    "papermill": {
     "duration": 0.014044,
     "end_time": "2024-03-28T02:15:11.667010",
     "exception": false,
     "start_time": "2024-03-28T02:15:11.652966",
     "status": "completed"
    },
    "tags": []
   },
   "source": [
    "Video Link: https://www.youtube.com/watch?v=R_Mfw4ew-Vo&list=PLgUwDviBIf0oF6QL8m22w1hIDC1vJ_BHz&index=61"
   ]
  },
  {
   "cell_type": "code",
   "execution_count": 31,
   "id": "8139b363",
   "metadata": {
    "execution": {
     "iopub.execute_input": "2024-03-28T02:15:11.696371Z",
     "iopub.status.busy": "2024-03-28T02:15:11.695758Z",
     "iopub.status.idle": "2024-03-28T02:15:11.702461Z",
     "shell.execute_reply": "2024-03-28T02:15:11.701843Z"
    },
    "lines_to_next_cell": 1,
    "papermill": {
     "duration": 0.023061,
     "end_time": "2024-03-28T02:15:11.704064",
     "exception": false,
     "start_time": "2024-03-28T02:15:11.681003",
     "status": "completed"
    },
    "tags": []
   },
   "outputs": [],
   "source": [
    "# Brute force: ~ O(2 ^ N)\n",
    "def aggressiveCows(stalls: list[int], k: int) -> int:\n",
    "    def compute_min_distance(placement: tuple[int]) -> int:\n",
    "        dist = stalls[-1] - stalls[0]\n",
    "        for i in range(k - 1):\n",
    "            dist = min(dist, placement[i + 1] - placement[i])\n",
    "\n",
    "        return dist\n",
    "\n",
    "    # Sort the stalls so that the min dist would always be between 2 consequtive stalls\n",
    "    stalls.sort()\n",
    "\n",
    "    # Generate all subsequences\n",
    "    result = 0\n",
    "    for placement in itertools.combinations(stalls, k):\n",
    "        result = max(result, compute_min_distance(placement))\n",
    "    return result\n",
    "\n",
    "# Testing the solution\n",
    "assert aggressiveCows([0, 3, 4, 7, 10, 9], 4) == 3\n",
    "assert aggressiveCows([4, 2, 1, 3, 6], 2) == 5"
   ]
  },
  {
   "cell_type": "code",
   "execution_count": 32,
   "id": "ba2f0950",
   "metadata": {
    "execution": {
     "iopub.execute_input": "2024-03-28T02:15:11.733550Z",
     "iopub.status.busy": "2024-03-28T02:15:11.733253Z",
     "iopub.status.idle": "2024-03-28T02:15:11.740612Z",
     "shell.execute_reply": "2024-03-28T02:15:11.739971Z"
    },
    "lines_to_next_cell": 1,
    "papermill": {
     "duration": 0.024038,
     "end_time": "2024-03-28T02:15:11.742297",
     "exception": false,
     "start_time": "2024-03-28T02:15:11.718259",
     "status": "completed"
    },
    "tags": []
   },
   "outputs": [],
   "source": [
    "# Better: ~ O(N ^ 2) \n",
    "def aggressiveCows(stalls: list[int], k: int) -> int:\n",
    "    stalls.sort()\n",
    "\n",
    "    N = len(stalls)\n",
    "\n",
    "    distances = []\n",
    "    for i in range(N - 1):\n",
    "        distances.append(stalls[i + 1] - stalls[i])\n",
    "\n",
    "    # Eliminate N - k stalls\n",
    "    for i in range(N - k):\n",
    "        # Find min dist idx\n",
    "        min_ = 0\n",
    "        for j in range(N - i - 1):\n",
    "            if distances[j] < distances[min_]:\n",
    "                min_ = j\n",
    "        # Combine with the smaller value\n",
    "        if min_ == 0 or (min_ < N - i - 2 and distances[min_ + 1] < distances[min_ - 1]):\n",
    "            distances[min_ + 1] += distances[min_]\n",
    "        else:\n",
    "            distances[min_ - 1] += distances[min_]\n",
    "\n",
    "        # Remove that distance\n",
    "        distances.pop(min_)\n",
    "\n",
    "    return min(distances)\n",
    "\n",
    "# Testing the solution\n",
    "assert aggressiveCows([0, 3, 4, 7, 10, 9], 4) == 3\n",
    "assert aggressiveCows([4, 2, 1, 3, 6], 2) == 5"
   ]
  },
  {
   "cell_type": "code",
   "execution_count": 33,
   "id": "64f42a77",
   "metadata": {
    "execution": {
     "iopub.execute_input": "2024-03-28T02:15:11.772597Z",
     "iopub.status.busy": "2024-03-28T02:15:11.771907Z",
     "iopub.status.idle": "2024-03-28T02:15:11.779687Z",
     "shell.execute_reply": "2024-03-28T02:15:11.778945Z"
    },
    "papermill": {
     "duration": 0.024473,
     "end_time": "2024-03-28T02:15:11.781335",
     "exception": false,
     "start_time": "2024-03-28T02:15:11.756862",
     "status": "completed"
    },
    "tags": []
   },
   "outputs": [],
   "source": [
    "# Optimal Striver: O(N log N)\n",
    "def aggressiveCows(stalls: list[int], k: int) -> int:\n",
    "    def place_cows(dist: int) -> bool:\n",
    "        \"Place k cows with a min of k dist (>= dist)\"\n",
    "\n",
    "        # Place 1st cow at idx 0\n",
    "        k_, prev = k - 1, 0\n",
    "        for i in range(1, N):\n",
    "            if stalls[i] - stalls[prev] >= dist:\n",
    "                prev = i\n",
    "                k_ -= 1\n",
    "            if k_ == 0:\n",
    "                break\n",
    "\n",
    "        return k_ == 0\n",
    "\n",
    "    N = len(stalls)\n",
    "    stalls.sort()\n",
    "\n",
    "    low, high = 1, stalls[-1] - stalls[0]\n",
    "    while low <= high:\n",
    "        mid = (low + high) // 2\n",
    "        if place_cows(mid):\n",
    "            low = mid + 1\n",
    "        else:\n",
    "            high = mid - 1\n",
    "\n",
    "    return high\n",
    "\n",
    "# Testing the solution\n",
    "assert aggressiveCows([0, 3, 4, 7, 10, 9], 4) == 3\n",
    "assert aggressiveCows([4, 2, 1, 3, 6], 2) == 5"
   ]
  }
 ],
 "metadata": {
  "kernelspec": {
   "display_name": "Python 3 (ipykernel)",
   "language": "python",
   "name": "python3"
  },
  "language_info": {
   "codemirror_mode": {
    "name": "ipython",
    "version": 3
   },
   "file_extension": ".py",
   "mimetype": "text/x-python",
   "name": "python",
   "nbconvert_exporter": "python",
   "pygments_lexer": "ipython3",
   "version": "3.10.14"
  },
  "papermill": {
   "default_parameters": {},
   "duration": 2.979796,
   "end_time": "2024-03-28T02:15:11.912372",
   "environment_variables": {},
   "exception": null,
   "input_path": "study/striver-A2Z/09-binary-search.ipynb",
   "output_path": "study/striver-A2Z/09-binary-search.ipynb",
   "parameters": {},
   "start_time": "2024-03-28T02:15:08.932576",
   "version": "2.5.0"
  }
 },
 "nbformat": 4,
 "nbformat_minor": 5
}