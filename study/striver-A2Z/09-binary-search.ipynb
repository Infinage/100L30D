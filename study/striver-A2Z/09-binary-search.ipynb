{
 "cells": [
  {
   "cell_type": "markdown",
   "id": "d1410f7f",
   "metadata": {
    "papermill": {
     "duration": 0.005195,
     "end_time": "2024-03-20T03:25:59.358627",
     "exception": false,
     "start_time": "2024-03-20T03:25:59.353432",
     "status": "completed"
    }
   },
   "source": [
    "Some useful imports"
   ]
  },
  {
   "cell_type": "code",
   "execution_count": null,
   "id": "fd0fe7ed",
   "metadata": {
    "lines_to_next_cell": 1,
    "papermill": {
     "duration": 0.023903,
     "end_time": "2024-03-20T03:25:59.387324",
     "exception": false,
     "start_time": "2024-03-20T03:25:59.363421",
     "status": "completed"
    }
   },
   "outputs": [],
   "source": [
    "import math\n",
    "import random\n",
    "import functools\n",
    "import itertools\n",
    "import tqdm\n",
    "import pdb"
   ]
  },
  {
   "cell_type": "markdown",
   "id": "8ad30d2a",
   "metadata": {
    "papermill": {
     "duration": 0.004308,
     "end_time": "2024-03-20T03:25:59.396146",
     "exception": false,
     "start_time": "2024-03-20T03:25:59.391838",
     "status": "completed"
    }
   },
   "source": [
    "Video Link: https://www.youtube.com/watch?v=MHf6awe89xw&list=PLgUwDviBIf0oF6QL8m22w1hIDC1vJ_BHz&index=45"
   ]
  },
  {
   "cell_type": "code",
   "execution_count": null,
   "id": "0719094e",
   "metadata": {
    "lines_to_next_cell": 1,
    "papermill": {
     "duration": 0.012957,
     "end_time": "2024-03-20T03:25:59.413342",
     "exception": false,
     "start_time": "2024-03-20T03:25:59.400385",
     "status": "completed"
    }
   },
   "outputs": [],
   "source": [
    "# Linear search\n",
    "def lsearch(arr: list[int], target: int) -> int:\n",
    "    for i in range(len(arr)):\n",
    "        if arr[i] == target:\n",
    "            return i\n",
    "    else:\n",
    "        return -1"
   ]
  },
  {
   "cell_type": "code",
   "execution_count": null,
   "id": "328d499d",
   "metadata": {
    "lines_to_next_cell": 1,
    "papermill": {
     "duration": 0.042149,
     "end_time": "2024-03-20T03:25:59.460942",
     "exception": false,
     "start_time": "2024-03-20T03:25:59.418793",
     "status": "completed"
    }
   },
   "outputs": [],
   "source": [
    "# Iterative solution\n",
    "def bsearch_iter(arr: list[int], target: int) -> int:\n",
    "    low, high = 0, len(arr) - 1\n",
    "    while low <= high:\n",
    "        mid = (low + high) // 2\n",
    "        if arr[mid] == target:\n",
    "            return mid\n",
    "        elif target > arr[mid]:\n",
    "            low = mid + 1\n",
    "        else:\n",
    "            high = mid - 1\n",
    "    else:\n",
    "        return -1\n",
    "\n",
    "# Test the algorithm\n",
    "for i in tqdm.tqdm(range(100)):\n",
    "    temp = random.sample(list(range(15, 30)), random.randint(1, 15))\n",
    "    temp.sort()\n",
    "    j = random.randint(0, 45)\n",
    "    assert bsearch_iter(temp, j) == lsearch(temp, j), f\"failed for {temp}, {j}\""
   ]
  },
  {
   "cell_type": "code",
   "execution_count": null,
   "id": "9e6cb028",
   "metadata": {
    "lines_to_next_cell": 1,
    "papermill": {
     "duration": 0.018109,
     "end_time": "2024-03-20T03:25:59.522188",
     "exception": false,
     "start_time": "2024-03-20T03:25:59.504079",
     "status": "completed"
    }
   },
   "outputs": [],
   "source": [
    "# Recursive solution\n",
    "def bsearch_rec(arr: list[int], target: int) -> int:\n",
    "    def backtrack(low: int, high: int) -> int:\n",
    "        if low > high:\n",
    "            return -1\n",
    "        else:\n",
    "            mid = (low + high) // 2\n",
    "            if arr[mid] == target:\n",
    "                return mid\n",
    "            elif target < arr[mid]:\n",
    "                return backtrack(low, mid - 1)\n",
    "            else:\n",
    "                return backtrack(mid + 1, high)\n",
    "\n",
    "    return backtrack(0, len(arr) - 1)\n",
    "\n",
    "for i in tqdm.tqdm(range(100)):\n",
    "    temp = random.sample(list(range(15, 30)), random.randint(1, 15))\n",
    "    temp.sort()\n",
    "    j = random.randint(0, 45)\n",
    "    assert bsearch_rec(temp, j) == lsearch(temp, j), f\"failed for {temp}, {j}\""
   ]
  },
  {
   "cell_type": "markdown",
   "id": "58c6735d",
   "metadata": {
    "papermill": {
     "duration": 0.003941,
     "end_time": "2024-03-20T03:25:59.530144",
     "exception": false,
     "start_time": "2024-03-20T03:25:59.526203",
     "status": "completed"
    }
   },
   "source": [
    "Video Link: https://www.youtube.com/watch?v=6zhGS79oQ4k&list=PLgUwDviBIf0oF6QL8m22w1hIDC1vJ_BHz&index=46\n",
    "Implement lower / bound"
   ]
  },
  {
   "cell_type": "code",
   "execution_count": null,
   "id": "69b3ccc2",
   "metadata": {
    "lines_to_next_cell": 1,
    "papermill": {
     "duration": 0.015589,
     "end_time": "2024-03-20T03:25:59.549692",
     "exception": false,
     "start_time": "2024-03-20T03:25:59.534103",
     "status": "completed"
    }
   },
   "outputs": [],
   "source": [
    "# Lower bound with Linear Search\n",
    "def lower_bound_linear(arr: list[int], target: int) -> int:\n",
    "    N = len(arr)\n",
    "    for i in range(N):\n",
    "        if arr[i] >= target:\n",
    "            return i\n",
    "    return N\n",
    "\n",
    "lower_bound_linear([3, 5, 8, 15, 19], 20)"
   ]
  },
  {
   "cell_type": "code",
   "execution_count": null,
   "id": "0ad6eebf",
   "metadata": {
    "lines_to_next_cell": 1,
    "papermill": {
     "duration": 0.019751,
     "end_time": "2024-03-20T03:25:59.573676",
     "exception": false,
     "start_time": "2024-03-20T03:25:59.553925",
     "status": "completed"
    }
   },
   "outputs": [],
   "source": [
    "def lower_bound_binary(arr: list[int], target: int):\n",
    "    N = len(arr)\n",
    "    low, high = 0, N - 1\n",
    "    while low <= high:\n",
    "        mid = (low + high) // 2\n",
    "        if arr[mid - 1] < target and arr[mid] >= target:\n",
    "            return mid\n",
    "        elif arr[mid] >= target:\n",
    "            high = mid - 1\n",
    "        else:\n",
    "            low = mid + 1\n",
    "    else:\n",
    "        return 0 if target <= arr[0] else N\n",
    "\n",
    "for i in tqdm.tqdm(range(200)):\n",
    "    temp = random.choices(list(range(100, 200)), k=random.randint(1, 50))\n",
    "    temp.sort()\n",
    "    j = random.randint(95, 205)\n",
    "    assert lower_bound_binary(temp, j) == lower_bound_linear(temp, j), f\"failed for {temp}, {j}\""
   ]
  },
  {
   "cell_type": "code",
   "execution_count": null,
   "id": "6073daf2",
   "metadata": {
    "lines_to_next_cell": 1,
    "papermill": {
     "duration": 0.013593,
     "end_time": "2024-03-20T03:25:59.591743",
     "exception": false,
     "start_time": "2024-03-20T03:25:59.578150",
     "status": "completed"
    }
   },
   "outputs": [],
   "source": [
    "# Upper bound - Brute O(N)\n",
    "def upper_bound_linear(arr: list[int], target: int) -> int:\n",
    "    N = len(arr)\n",
    "    for i in range(N):\n",
    "        if arr[i] > target:\n",
    "            return i\n",
    "    return N\n",
    "\n",
    "upper_bound_linear([3, 5, 8, 15, 19, 19], 15)"
   ]
  },
  {
   "cell_type": "code",
   "execution_count": null,
   "id": "ba0c14c0",
   "metadata": {
    "lines_to_next_cell": 1,
    "papermill": {
     "duration": 0.021594,
     "end_time": "2024-03-20T03:25:59.618040",
     "exception": false,
     "start_time": "2024-03-20T03:25:59.596446",
     "status": "completed"
    }
   },
   "outputs": [],
   "source": [
    "# Binary Search\n",
    "def upper_bound_binary(arr: list[int], target: int) -> int:\n",
    "    N = len(arr)\n",
    "    low, high = 0, N - 1\n",
    "    while low <= high:\n",
    "        mid = (low + high) // 2\n",
    "        if arr[mid] > target and arr[mid - 1] <= target:\n",
    "            return mid\n",
    "        elif arr[mid] <= target:\n",
    "            low = mid + 1\n",
    "        else:\n",
    "            high = mid - 1\n",
    "    else:\n",
    "        return 0 if target < arr[0] else N\n",
    "\n",
    "for i in tqdm.tqdm(range(200)):\n",
    "    temp = random.choices(list(range(100, 200)), k=random.randint(1, 50))\n",
    "    temp.sort()\n",
    "    j = random.randint(95, 205)\n",
    "    assert upper_bound_binary(temp, j) == upper_bound_linear(temp, j), f\"failed for {temp}, {j}\"\n",
    "\n",
    "# Note the difference between the UB / LB\n",
    "print(lower_bound_binary([1, 1, 1, 1, 1], 1))\n",
    "print(upper_bound_binary([1, 1, 1, 1, 1], 1))"
   ]
  },
  {
   "cell_type": "markdown",
   "id": "6c5c8b30",
   "metadata": {
    "papermill": {
     "duration": 0.00504,
     "end_time": "2024-03-20T03:25:59.629727",
     "exception": false,
     "start_time": "2024-03-20T03:25:59.624687",
     "status": "completed"
    }
   },
   "source": [
    "Much more intutive approach by Striver:\n",
    "Retain a variable ans to N, update this variable when:\n",
    "arr[mid] >= target - Lower bound\n",
    "arr[mid] > target - Upper bound"
   ]
  },
  {
   "cell_type": "code",
   "execution_count": null,
   "id": "2236af54",
   "metadata": {
    "lines_to_next_cell": 1,
    "papermill": {
     "duration": 0.01433,
     "end_time": "2024-03-20T03:25:59.648863",
     "exception": false,
     "start_time": "2024-03-20T03:25:59.634533",
     "status": "completed"
    }
   },
   "outputs": [],
   "source": [
    "# Lower bound Binary (Striver's approach)\n",
    "def lower_bound_striver(arr: list[int], target: int) -> int:\n",
    "    \"Smallest index, greater than or equal to target\"\n",
    "    N = len(arr)\n",
    "    low, high, ans = 0, N - 1, N\n",
    "    while low <= high:\n",
    "        mid = (low + high) // 2\n",
    "        if arr[mid] >= target:\n",
    "            ans = mid\n",
    "            high = mid - 1\n",
    "        else:\n",
    "            low = mid + 1\n",
    "\n",
    "    return ans\n",
    "\n",
    "lower_bound_striver([1, 1, 1, 1], 1)"
   ]
  },
  {
   "cell_type": "code",
   "execution_count": null,
   "id": "c96b4979",
   "metadata": {
    "lines_to_next_cell": 1,
    "papermill": {
     "duration": 0.014844,
     "end_time": "2024-03-20T03:25:59.669656",
     "exception": false,
     "start_time": "2024-03-20T03:25:59.654812",
     "status": "completed"
    }
   },
   "outputs": [],
   "source": [
    "# Upper bound Binary (Striver's approach)\n",
    "def upper_bound_striver(arr: list[int], target: int) -> int:\n",
    "    \"Smallest index, greater than target\"\n",
    "    N = len(arr)\n",
    "    low, high, ans = 0, N - 1, N\n",
    "    while low <= high:\n",
    "        mid = (low + high) // 2\n",
    "        if arr[mid] > target:\n",
    "            ans = mid\n",
    "            high = mid - 1\n",
    "        else:\n",
    "            low = mid + 1\n",
    "    return ans\n",
    "\n",
    "upper_bound_striver([1, 1, 1, 1], 1)"
   ]
  },
  {
   "cell_type": "markdown",
   "id": "f029f61e",
   "metadata": {},
   "source": [
    "Search Insert position"
   ]
  },
  {
   "cell_type": "code",
   "execution_count": null,
   "id": "5821849e",
   "metadata": {},
   "outputs": [],
   "source": [
    "def searchInsert(arr: list[int], target: int) -> int:\n",
    "    \"Lower bound - Smallest index, greater than or equal to target\"\n",
    "    N = len(arr)\n",
    "    low, high, ans = 0, N - 1, N\n",
    "    while low <= high:\n",
    "        mid = (low + high) // 2\n",
    "        if arr[mid] >= target:\n",
    "            ans = mid\n",
    "            high = mid - 1\n",
    "        else:\n",
    "            low = mid + 1\n",
    "\n",
    "    return ans"
   ]
  }
 ],
 "metadata": {
  "kernelspec": {
   "display_name": "Python 3 (ipykernel)",
   "language": "python",
   "name": "python3"
  }
 },
 "nbformat": 4,
 "nbformat_minor": 5
}
