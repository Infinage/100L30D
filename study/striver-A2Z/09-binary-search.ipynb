{
 "cells": [
  {
   "cell_type": "markdown",
   "id": "39385271",
   "metadata": {
    "papermill": {
     "duration": 0.018833,
     "end_time": "2024-04-02T14:32:33.693931",
     "exception": false,
     "start_time": "2024-04-02T14:32:33.675098",
     "status": "completed"
    },
    "tags": []
   },
   "source": [
    "Some useful imports"
   ]
  },
  {
   "cell_type": "code",
   "execution_count": 1,
   "id": "fd129096",
   "metadata": {
    "execution": {
     "iopub.execute_input": "2024-04-02T14:32:33.731790Z",
     "iopub.status.busy": "2024-04-02T14:32:33.731110Z",
     "iopub.status.idle": "2024-04-02T14:32:33.842401Z",
     "shell.execute_reply": "2024-04-02T14:32:33.841506Z"
    },
    "lines_to_next_cell": 1,
    "papermill": {
     "duration": 0.133061,
     "end_time": "2024-04-02T14:32:33.845080",
     "exception": false,
     "start_time": "2024-04-02T14:32:33.712019",
     "status": "completed"
    },
    "tags": []
   },
   "outputs": [],
   "source": [
    "import math\n",
    "import random\n",
    "import functools\n",
    "import itertools\n",
    "import heapq\n",
    "import tqdm\n",
    "import pdb\n",
    "import numpy as np\n",
    "import typing"
   ]
  },
  {
   "cell_type": "markdown",
   "id": "1b645c9d",
   "metadata": {
    "papermill": {
     "duration": 0.017692,
     "end_time": "2024-04-02T14:32:33.887090",
     "exception": false,
     "start_time": "2024-04-02T14:32:33.869398",
     "status": "completed"
    },
    "tags": []
   },
   "source": [
    "Video Link: https://www.youtube.com/watch?v=MHf6awe89xw&list=PLgUwDviBIf0oF6QL8m22w1hIDC1vJ_BHz&index=45"
   ]
  },
  {
   "cell_type": "code",
   "execution_count": 2,
   "id": "a8c5fd59",
   "metadata": {
    "execution": {
     "iopub.execute_input": "2024-04-02T14:32:33.924563Z",
     "iopub.status.busy": "2024-04-02T14:32:33.923896Z",
     "iopub.status.idle": "2024-04-02T14:32:33.928953Z",
     "shell.execute_reply": "2024-04-02T14:32:33.928142Z"
    },
    "lines_to_next_cell": 1,
    "papermill": {
     "duration": 0.025944,
     "end_time": "2024-04-02T14:32:33.930736",
     "exception": false,
     "start_time": "2024-04-02T14:32:33.904792",
     "status": "completed"
    },
    "tags": []
   },
   "outputs": [],
   "source": [
    "# Linear search\n",
    "def lsearch(arr: list[int], target: int) -> int:\n",
    "    for i in range(len(arr)):\n",
    "        if arr[i] == target:\n",
    "            return i\n",
    "    else:\n",
    "        return -1"
   ]
  },
  {
   "cell_type": "code",
   "execution_count": 3,
   "id": "b06d330f",
   "metadata": {
    "execution": {
     "iopub.execute_input": "2024-04-02T14:32:33.968256Z",
     "iopub.status.busy": "2024-04-02T14:32:33.967601Z",
     "iopub.status.idle": "2024-04-02T14:32:33.983405Z",
     "shell.execute_reply": "2024-04-02T14:32:33.982599Z"
    },
    "lines_to_next_cell": 1,
    "papermill": {
     "duration": 0.036603,
     "end_time": "2024-04-02T14:32:33.985262",
     "exception": false,
     "start_time": "2024-04-02T14:32:33.948659",
     "status": "completed"
    },
    "tags": []
   },
   "outputs": [
    {
     "name": "stderr",
     "output_type": "stream",
     "text": [
      "\r",
      "  0%|          | 0/100 [00:00<?, ?it/s]"
     ]
    },
    {
     "name": "stderr",
     "output_type": "stream",
     "text": [
      "\r",
      "100%|██████████| 100/100 [00:00<00:00, 45679.63it/s]"
     ]
    },
    {
     "name": "stderr",
     "output_type": "stream",
     "text": [
      "\n"
     ]
    }
   ],
   "source": [
    "# Iterative solution\n",
    "def bsearch_iter(arr: list[int], target: int) -> int:\n",
    "    low, high = 0, len(arr) - 1\n",
    "    while low <= high:\n",
    "        mid = (low + high) // 2\n",
    "        if arr[mid] == target:\n",
    "            return mid\n",
    "        elif target > arr[mid]:\n",
    "            low = mid + 1\n",
    "        else:\n",
    "            high = mid - 1\n",
    "    else:\n",
    "        return -1\n",
    "\n",
    "# Test the algorithm\n",
    "for i in tqdm.tqdm(range(100)):\n",
    "    temp = random.sample(list(range(15, 30)), random.randint(1, 15))\n",
    "    temp.sort()\n",
    "    j = random.randint(0, 45)\n",
    "    assert bsearch_iter(temp, j) == lsearch(temp, j), f\"failed for {temp}, {j}\""
   ]
  },
  {
   "cell_type": "code",
   "execution_count": 4,
   "id": "59682a10",
   "metadata": {
    "execution": {
     "iopub.execute_input": "2024-04-02T14:32:34.023468Z",
     "iopub.status.busy": "2024-04-02T14:32:34.022892Z",
     "iopub.status.idle": "2024-04-02T14:32:34.035127Z",
     "shell.execute_reply": "2024-04-02T14:32:34.034374Z"
    },
    "lines_to_next_cell": 1,
    "papermill": {
     "duration": 0.033127,
     "end_time": "2024-04-02T14:32:34.036945",
     "exception": false,
     "start_time": "2024-04-02T14:32:34.003818",
     "status": "completed"
    },
    "tags": []
   },
   "outputs": [
    {
     "name": "stderr",
     "output_type": "stream",
     "text": [
      "\r",
      "  0%|          | 0/100 [00:00<?, ?it/s]"
     ]
    },
    {
     "name": "stderr",
     "output_type": "stream",
     "text": [
      "\r",
      "100%|██████████| 100/100 [00:00<00:00, 55036.14it/s]"
     ]
    },
    {
     "name": "stderr",
     "output_type": "stream",
     "text": [
      "\n"
     ]
    }
   ],
   "source": [
    "# Recursive solution\n",
    "def bsearch_rec(arr: list[int], target: int) -> int:\n",
    "    def backtrack(low: int, high: int) -> int:\n",
    "        if low > high:\n",
    "            return -1\n",
    "        else:\n",
    "            mid = (low + high) // 2\n",
    "            if arr[mid] == target:\n",
    "                return mid\n",
    "            elif target < arr[mid]:\n",
    "                return backtrack(low, mid - 1)\n",
    "            else:\n",
    "                return backtrack(mid + 1, high)\n",
    "\n",
    "    return backtrack(0, len(arr) - 1)\n",
    "\n",
    "for i in tqdm.tqdm(range(100)):\n",
    "    temp = random.sample(list(range(15, 30)), random.randint(1, 15))\n",
    "    temp.sort()\n",
    "    j = random.randint(0, 45)\n",
    "    assert bsearch_rec(temp, j) == lsearch(temp, j), f\"failed for {temp}, {j}\""
   ]
  },
  {
   "cell_type": "markdown",
   "id": "1f2d9f50",
   "metadata": {
    "papermill": {
     "duration": 0.018112,
     "end_time": "2024-04-02T14:32:34.073678",
     "exception": false,
     "start_time": "2024-04-02T14:32:34.055566",
     "status": "completed"
    },
    "tags": []
   },
   "source": [
    "Video Link: https://www.youtube.com/watch?v=6zhGS79oQ4k&list=PLgUwDviBIf0oF6QL8m22w1hIDC1vJ_BHz&index=46\n",
    "Implement lower / bound"
   ]
  },
  {
   "cell_type": "code",
   "execution_count": 5,
   "id": "f23024a2",
   "metadata": {
    "execution": {
     "iopub.execute_input": "2024-04-02T14:32:34.111520Z",
     "iopub.status.busy": "2024-04-02T14:32:34.111234Z",
     "iopub.status.idle": "2024-04-02T14:32:34.121202Z",
     "shell.execute_reply": "2024-04-02T14:32:34.120334Z"
    },
    "lines_to_next_cell": 1,
    "papermill": {
     "duration": 0.030963,
     "end_time": "2024-04-02T14:32:34.122921",
     "exception": false,
     "start_time": "2024-04-02T14:32:34.091958",
     "status": "completed"
    },
    "tags": []
   },
   "outputs": [
    {
     "data": {
      "text/plain": [
       "5"
      ]
     },
     "execution_count": 5,
     "metadata": {},
     "output_type": "execute_result"
    }
   ],
   "source": [
    "# Lower bound with Linear Search\n",
    "def lower_bound_linear(arr: list[int], target: int) -> int:\n",
    "    N = len(arr)\n",
    "    for i in range(N):\n",
    "        if arr[i] >= target:\n",
    "            return i\n",
    "    return N\n",
    "\n",
    "lower_bound_linear([3, 5, 8, 15, 19], 20)"
   ]
  },
  {
   "cell_type": "code",
   "execution_count": 6,
   "id": "a0b8bf3a",
   "metadata": {
    "execution": {
     "iopub.execute_input": "2024-04-02T14:32:34.161437Z",
     "iopub.status.busy": "2024-04-02T14:32:34.160836Z",
     "iopub.status.idle": "2024-04-02T14:32:34.174240Z",
     "shell.execute_reply": "2024-04-02T14:32:34.173479Z"
    },
    "lines_to_next_cell": 1,
    "papermill": {
     "duration": 0.034356,
     "end_time": "2024-04-02T14:32:34.175880",
     "exception": false,
     "start_time": "2024-04-02T14:32:34.141524",
     "status": "completed"
    },
    "tags": []
   },
   "outputs": [
    {
     "name": "stderr",
     "output_type": "stream",
     "text": [
      "\r",
      "  0%|          | 0/200 [00:00<?, ?it/s]"
     ]
    },
    {
     "name": "stderr",
     "output_type": "stream",
     "text": [
      "\r",
      "100%|██████████| 200/200 [00:00<00:00, 60345.36it/s]"
     ]
    },
    {
     "name": "stderr",
     "output_type": "stream",
     "text": [
      "\n"
     ]
    }
   ],
   "source": [
    "def lower_bound_binary(arr: list[int], target: int):\n",
    "    N = len(arr)\n",
    "    low, high = 0, N - 1\n",
    "    while low <= high:\n",
    "        mid = (low + high) // 2\n",
    "        if arr[mid - 1] < target and arr[mid] >= target:\n",
    "            return mid\n",
    "        elif arr[mid] >= target:\n",
    "            high = mid - 1\n",
    "        else:\n",
    "            low = mid + 1\n",
    "    else:\n",
    "        return 0 if target <= arr[0] else N\n",
    "\n",
    "for i in tqdm.tqdm(range(200)):\n",
    "    temp = random.choices(list(range(100, 200)), k=random.randint(1, 50))\n",
    "    temp.sort()\n",
    "    j = random.randint(95, 205)\n",
    "    assert lower_bound_binary(temp, j) == lower_bound_linear(temp, j), f\"failed for {temp}, {j}\""
   ]
  },
  {
   "cell_type": "code",
   "execution_count": 7,
   "id": "6609aa48",
   "metadata": {
    "execution": {
     "iopub.execute_input": "2024-04-02T14:32:34.214920Z",
     "iopub.status.busy": "2024-04-02T14:32:34.214192Z",
     "iopub.status.idle": "2024-04-02T14:32:34.221316Z",
     "shell.execute_reply": "2024-04-02T14:32:34.220572Z"
    },
    "lines_to_next_cell": 1,
    "papermill": {
     "duration": 0.028341,
     "end_time": "2024-04-02T14:32:34.222984",
     "exception": false,
     "start_time": "2024-04-02T14:32:34.194643",
     "status": "completed"
    },
    "tags": []
   },
   "outputs": [
    {
     "data": {
      "text/plain": [
       "4"
      ]
     },
     "execution_count": 7,
     "metadata": {},
     "output_type": "execute_result"
    }
   ],
   "source": [
    "# Upper bound - Brute O(N)\n",
    "def upper_bound_linear(arr: list[int], target: int) -> int:\n",
    "    N = len(arr)\n",
    "    for i in range(N):\n",
    "        if arr[i] > target:\n",
    "            return i\n",
    "    return N\n",
    "\n",
    "upper_bound_linear([3, 5, 8, 15, 19, 19], 15)"
   ]
  },
  {
   "cell_type": "code",
   "execution_count": 8,
   "id": "4606b347",
   "metadata": {
    "execution": {
     "iopub.execute_input": "2024-04-02T14:32:34.262879Z",
     "iopub.status.busy": "2024-04-02T14:32:34.262371Z",
     "iopub.status.idle": "2024-04-02T14:32:34.276583Z",
     "shell.execute_reply": "2024-04-02T14:32:34.275755Z"
    },
    "lines_to_next_cell": 1,
    "papermill": {
     "duration": 0.036436,
     "end_time": "2024-04-02T14:32:34.278811",
     "exception": false,
     "start_time": "2024-04-02T14:32:34.242375",
     "status": "completed"
    },
    "tags": []
   },
   "outputs": [
    {
     "name": "stderr",
     "output_type": "stream",
     "text": [
      "\r",
      "  0%|          | 0/200 [00:00<?, ?it/s]"
     ]
    },
    {
     "name": "stderr",
     "output_type": "stream",
     "text": [
      "\r",
      "100%|██████████| 200/200 [00:00<00:00, 57574.52it/s]"
     ]
    },
    {
     "name": "stdout",
     "output_type": "stream",
     "text": [
      "0\n",
      "5\n"
     ]
    },
    {
     "name": "stderr",
     "output_type": "stream",
     "text": [
      "\n"
     ]
    }
   ],
   "source": [
    "# Binary Search\n",
    "def upper_bound_binary(arr: list[int], target: int) -> int:\n",
    "    N = len(arr)\n",
    "    low, high = 0, N - 1\n",
    "    while low <= high:\n",
    "        mid = (low + high) // 2\n",
    "        if arr[mid] > target and arr[mid - 1] <= target:\n",
    "            return mid\n",
    "        elif arr[mid] <= target:\n",
    "            low = mid + 1\n",
    "        else:\n",
    "            high = mid - 1\n",
    "    else:\n",
    "        return 0 if target < arr[0] else N\n",
    "\n",
    "for i in tqdm.tqdm(range(200)):\n",
    "    temp = random.choices(list(range(100, 200)), k=random.randint(1, 50))\n",
    "    temp.sort()\n",
    "    j = random.randint(95, 205)\n",
    "    assert upper_bound_binary(temp, j) == upper_bound_linear(temp, j), f\"failed for {temp}, {j}\"\n",
    "\n",
    "# Note the difference between the UB / LB\n",
    "print(lower_bound_binary([1, 1, 1, 1, 1], 1))\n",
    "print(upper_bound_binary([1, 1, 1, 1, 1], 1))"
   ]
  },
  {
   "cell_type": "markdown",
   "id": "5e497680",
   "metadata": {
    "papermill": {
     "duration": 0.018845,
     "end_time": "2024-04-02T14:32:34.316791",
     "exception": false,
     "start_time": "2024-04-02T14:32:34.297946",
     "status": "completed"
    },
    "tags": []
   },
   "source": [
    "Much more intutive approach by Striver:\n",
    "Retain a variable ans to N, update this variable when:\n",
    "arr[mid] >= target - Lower bound\n",
    "arr[mid] > target - Upper bound"
   ]
  },
  {
   "cell_type": "code",
   "execution_count": 9,
   "id": "8abcbf56",
   "metadata": {
    "execution": {
     "iopub.execute_input": "2024-04-02T14:32:34.356202Z",
     "iopub.status.busy": "2024-04-02T14:32:34.355587Z",
     "iopub.status.idle": "2024-04-02T14:32:34.363171Z",
     "shell.execute_reply": "2024-04-02T14:32:34.362353Z"
    },
    "lines_to_next_cell": 1,
    "papermill": {
     "duration": 0.02926,
     "end_time": "2024-04-02T14:32:34.364941",
     "exception": false,
     "start_time": "2024-04-02T14:32:34.335681",
     "status": "completed"
    },
    "tags": []
   },
   "outputs": [
    {
     "data": {
      "text/plain": [
       "0"
      ]
     },
     "execution_count": 9,
     "metadata": {},
     "output_type": "execute_result"
    }
   ],
   "source": [
    "# Lower bound Binary (Striver's approach)\n",
    "def lower_bound_striver(arr: list[int], target: int) -> int:\n",
    "    \"Smallest index, greater than or equal to target\"\n",
    "    N = len(arr)\n",
    "    low, high, ans = 0, N - 1, N\n",
    "    while low <= high:\n",
    "        mid = (low + high) // 2\n",
    "        if arr[mid] >= target:\n",
    "            ans = mid\n",
    "            high = mid - 1\n",
    "        else:\n",
    "            low = mid + 1\n",
    "\n",
    "    return ans\n",
    "\n",
    "lower_bound_striver([1, 1, 1, 1], 1)"
   ]
  },
  {
   "cell_type": "code",
   "execution_count": 10,
   "id": "5ab0dd9c",
   "metadata": {
    "execution": {
     "iopub.execute_input": "2024-04-02T14:32:34.404965Z",
     "iopub.status.busy": "2024-04-02T14:32:34.404335Z",
     "iopub.status.idle": "2024-04-02T14:32:34.411627Z",
     "shell.execute_reply": "2024-04-02T14:32:34.410896Z"
    },
    "lines_to_next_cell": 1,
    "papermill": {
     "duration": 0.029113,
     "end_time": "2024-04-02T14:32:34.413474",
     "exception": false,
     "start_time": "2024-04-02T14:32:34.384361",
     "status": "completed"
    },
    "tags": []
   },
   "outputs": [
    {
     "data": {
      "text/plain": [
       "4"
      ]
     },
     "execution_count": 10,
     "metadata": {},
     "output_type": "execute_result"
    }
   ],
   "source": [
    "# Upper bound Binary (Striver's approach)\n",
    "def upper_bound_striver(arr: list[int], target: int) -> int:\n",
    "    \"Smallest index, greater than target\"\n",
    "    N = len(arr)\n",
    "    low, high, ans = 0, N - 1, N\n",
    "    while low <= high:\n",
    "        mid = (low + high) // 2\n",
    "        if arr[mid] > target:\n",
    "            ans = mid\n",
    "            high = mid - 1\n",
    "        else:\n",
    "            low = mid + 1\n",
    "    return ans\n",
    "\n",
    "upper_bound_striver([1, 1, 1, 1], 1)"
   ]
  },
  {
   "cell_type": "markdown",
   "id": "6df8578a",
   "metadata": {
    "papermill": {
     "duration": 0.019133,
     "end_time": "2024-04-02T14:32:34.451982",
     "exception": false,
     "start_time": "2024-04-02T14:32:34.432849",
     "status": "completed"
    },
    "tags": []
   },
   "source": [
    "Search Insert position"
   ]
  },
  {
   "cell_type": "code",
   "execution_count": 11,
   "id": "e5e48474",
   "metadata": {
    "execution": {
     "iopub.execute_input": "2024-04-02T14:32:34.491898Z",
     "iopub.status.busy": "2024-04-02T14:32:34.491294Z",
     "iopub.status.idle": "2024-04-02T14:32:34.496809Z",
     "shell.execute_reply": "2024-04-02T14:32:34.495966Z"
    },
    "lines_to_next_cell": 1,
    "papermill": {
     "duration": 0.027303,
     "end_time": "2024-04-02T14:32:34.498441",
     "exception": false,
     "start_time": "2024-04-02T14:32:34.471138",
     "status": "completed"
    },
    "tags": []
   },
   "outputs": [],
   "source": [
    "def searchInsert(arr: list[int], target: int) -> int:\n",
    "    \"Lower bound - Smallest index, greater than or equal to target\"\n",
    "    N = len(arr)\n",
    "    low, high, ans = 0, N - 1, N\n",
    "    while low <= high:\n",
    "        mid = (low + high) // 2\n",
    "        if arr[mid] >= target:\n",
    "            ans = mid\n",
    "            high = mid - 1\n",
    "        else:\n",
    "            low = mid + 1\n",
    "\n",
    "    return ans"
   ]
  },
  {
   "cell_type": "code",
   "execution_count": 12,
   "id": "d3f82851",
   "metadata": {
    "execution": {
     "iopub.execute_input": "2024-04-02T14:32:34.538408Z",
     "iopub.status.busy": "2024-04-02T14:32:34.538104Z",
     "iopub.status.idle": "2024-04-02T14:32:34.550098Z",
     "shell.execute_reply": "2024-04-02T14:32:34.549309Z"
    },
    "lines_to_next_cell": 1,
    "papermill": {
     "duration": 0.033918,
     "end_time": "2024-04-02T14:32:34.551789",
     "exception": false,
     "start_time": "2024-04-02T14:32:34.517871",
     "status": "completed"
    },
    "tags": []
   },
   "outputs": [
    {
     "data": {
      "text/plain": [
       "(8, 8)"
      ]
     },
     "execution_count": 12,
     "metadata": {},
     "output_type": "execute_result"
    }
   ],
   "source": [
    "# Floor and Ceil of a target from a given array\n",
    "def getFloorAndCeil(arr: list[int], N: int, target: int):\n",
    "    def brute() -> tuple[int, int]:\n",
    "        \"Brute force solution\"\n",
    "        floor = -1\n",
    "        for i in range(N):\n",
    "            if arr[i] > target:\n",
    "                break\n",
    "            else:\n",
    "                floor = arr[i]\n",
    "\n",
    "        ceil = -1\n",
    "        for i in range(N - 1, -1, -1):\n",
    "            if arr[i] < target:\n",
    "                break\n",
    "            else:\n",
    "                ceil = arr[i]\n",
    "\n",
    "        return floor, ceil\n",
    "\n",
    "    def binary() -> tuple[int, int]:\n",
    "        low, high, LB = 0, N - 1, -1\n",
    "        while low <= high:\n",
    "            mid = (low + high) // 2\n",
    "            if arr[mid] <= target:\n",
    "                LB = arr[mid]\n",
    "                low = mid + 1\n",
    "            else:\n",
    "                high = mid - 1\n",
    "\n",
    "        low, high, UB = 0, N - 1, -1\n",
    "        while low <= high:\n",
    "            mid = (low + high) // 2\n",
    "            if arr[mid] >= target:\n",
    "                UB = arr[mid]\n",
    "                high = mid - 1\n",
    "            else:\n",
    "                low = mid + 1\n",
    "\n",
    "        return LB, UB\n",
    "\n",
    "    return binary()\n",
    "\n",
    "# Testing the solution\n",
    "getFloorAndCeil([3, 4, 4, 7, 8, 10], 6, 8)"
   ]
  },
  {
   "cell_type": "markdown",
   "id": "d066d6da",
   "metadata": {
    "papermill": {
     "duration": 0.019228,
     "end_time": "2024-04-02T14:32:34.590471",
     "exception": false,
     "start_time": "2024-04-02T14:32:34.571243",
     "status": "completed"
    },
    "tags": []
   },
   "source": [
    "Video Link: https://www.youtube.com/watch?v=hjR1IYVx9lY&list=PLgUwDviBIf0oF6QL8m22w1hIDC1vJ_BHz&index=47"
   ]
  },
  {
   "cell_type": "code",
   "execution_count": 13,
   "id": "d11d7af8",
   "metadata": {
    "execution": {
     "iopub.execute_input": "2024-04-02T14:32:34.630766Z",
     "iopub.status.busy": "2024-04-02T14:32:34.630165Z",
     "iopub.status.idle": "2024-04-02T14:32:34.640775Z",
     "shell.execute_reply": "2024-04-02T14:32:34.640007Z"
    },
    "lines_to_next_cell": 1,
    "papermill": {
     "duration": 0.032759,
     "end_time": "2024-04-02T14:32:34.642560",
     "exception": false,
     "start_time": "2024-04-02T14:32:34.609801",
     "status": "completed"
    },
    "tags": []
   },
   "outputs": [
    {
     "data": {
      "text/plain": [
       "(-1, -1)"
      ]
     },
     "execution_count": 13,
     "metadata": {},
     "output_type": "execute_result"
    }
   ],
   "source": [
    "# Coding studio link: https://bit.ly/3Mdw2FX\n",
    "def firstAndLastPosition(arr: list[int], N: int, target: int) -> tuple[int, int]:\n",
    "    def findFirst() -> int:\n",
    "        low, high, ans = 0, N - 1, -1\n",
    "        while low <= high:\n",
    "            mid = (low + high) // 2\n",
    "            if arr[mid] >= target:\n",
    "                if arr[mid] == target:\n",
    "                    ans = mid\n",
    "                high = mid - 1\n",
    "            else:\n",
    "                low = mid + 1\n",
    "\n",
    "        return ans\n",
    "\n",
    "    def findLast() -> int:\n",
    "        low, high, ans = 0, N - 1, -1\n",
    "        while low <= high:\n",
    "            mid = (low + high) // 2\n",
    "            if arr[mid] <= target:\n",
    "                if arr[mid] == target:\n",
    "                    ans = mid\n",
    "                low = mid + 1\n",
    "            else:\n",
    "                high = mid - 1\n",
    "\n",
    "        return ans\n",
    "\n",
    "    first = findFirst()\n",
    "    if first == -1: # If not found, don't have to search again\n",
    "        return first, first\n",
    "    else:\n",
    "        return first, findLast()\n",
    "\n",
    "# Testing the solution\n",
    "firstAndLastPosition([1, 2, 3, 3, 3, 4, 5], 7, 9)"
   ]
  },
  {
   "cell_type": "code",
   "execution_count": 14,
   "id": "44578564",
   "metadata": {
    "execution": {
     "iopub.execute_input": "2024-04-02T14:32:34.684001Z",
     "iopub.status.busy": "2024-04-02T14:32:34.683333Z",
     "iopub.status.idle": "2024-04-02T14:32:34.695674Z",
     "shell.execute_reply": "2024-04-02T14:32:34.694920Z"
    },
    "lines_to_next_cell": 1,
    "papermill": {
     "duration": 0.034945,
     "end_time": "2024-04-02T14:32:34.697371",
     "exception": false,
     "start_time": "2024-04-02T14:32:34.662426",
     "status": "completed"
    },
    "tags": []
   },
   "outputs": [
    {
     "data": {
      "text/plain": [
       "0"
      ]
     },
     "execution_count": 14,
     "metadata": {},
     "output_type": "execute_result"
    }
   ],
   "source": [
    "# Coding Studio link: https://bit.ly/42ZDqM4\n",
    "def count_occurances(arr: list[int], N: int, target: int) -> int:\n",
    "    def findFirst() -> int:\n",
    "        low, high, ans = 0, N - 1, -1\n",
    "        while low <= high:\n",
    "            mid = (low + high) // 2\n",
    "            if arr[mid] >= target:\n",
    "                if arr[mid] == target:\n",
    "                    ans = mid\n",
    "                high = mid - 1\n",
    "            else:\n",
    "                low = mid + 1\n",
    "\n",
    "        return ans\n",
    "\n",
    "    def findLast() -> int:\n",
    "        low, high, ans = 0, N - 1, -1\n",
    "        while low <= high:\n",
    "            mid = (low + high) // 2\n",
    "            if arr[mid] <= target:\n",
    "                if arr[mid] == target:\n",
    "                    ans = mid\n",
    "                low = mid + 1\n",
    "            else:\n",
    "                high = mid - 1\n",
    "\n",
    "        return ans\n",
    "\n",
    "    firstIdx = findFirst()\n",
    "    if firstIdx == -1:\n",
    "        return 0\n",
    "    else:\n",
    "        return findLast() - firstIdx + 1\n",
    "\n",
    "# Testing the solution\n",
    "count_occurances([1, 2, 2, 3, 4, 4, 4, 5, 6], 9, 9)"
   ]
  },
  {
   "cell_type": "markdown",
   "id": "7ae08467",
   "metadata": {
    "papermill": {
     "duration": 0.019443,
     "end_time": "2024-04-02T14:32:34.736724",
     "exception": false,
     "start_time": "2024-04-02T14:32:34.717281",
     "status": "completed"
    },
    "tags": []
   },
   "source": [
    "Video Link: https://www.youtube.com/watch?v=5qGrJbHhqFs&list=PLgUwDviBIf0oF6QL8m22w1hIDC1vJ_BHz&index=48\n",
    "Search in a rotated sorted array: https://leetcode.com/problems/search-in-rotated-sorted-array/"
   ]
  },
  {
   "cell_type": "code",
   "execution_count": 15,
   "id": "07fd3a6e",
   "metadata": {
    "execution": {
     "iopub.execute_input": "2024-04-02T14:32:34.777587Z",
     "iopub.status.busy": "2024-04-02T14:32:34.777041Z",
     "iopub.status.idle": "2024-04-02T14:32:34.786532Z",
     "shell.execute_reply": "2024-04-02T14:32:34.785876Z"
    },
    "lines_to_next_cell": 1,
    "papermill": {
     "duration": 0.031934,
     "end_time": "2024-04-02T14:32:34.788273",
     "exception": false,
     "start_time": "2024-04-02T14:32:34.756339",
     "status": "completed"
    },
    "tags": []
   },
   "outputs": [
    {
     "data": {
      "text/plain": [
       "8"
      ]
     },
     "execution_count": 15,
     "metadata": {},
     "output_type": "execute_result"
    }
   ],
   "source": [
    "def search_rotated_sorted1(arr: list[int], target: int) -> int:\n",
    "    N = len(arr)\n",
    "    low, high = 0, N - 1\n",
    "    while low <= high:\n",
    "        mid = (low + high) // 2\n",
    "        if arr[mid] == target:\n",
    "            return mid\n",
    "\n",
    "        # Left half is sorted\n",
    "        elif arr[low] <= arr[mid]:\n",
    "            # Element can be found in the left half\n",
    "            if arr[low] <= target <= arr[mid]:\n",
    "                high = mid - 1\n",
    "            else:\n",
    "                low = mid + 1\n",
    "\n",
    "        # Right half is sorted\n",
    "        else:\n",
    "            # Element can be found in the right half\n",
    "            if arr[mid] <= target <= arr[high]:\n",
    "                low = mid + 1\n",
    "            else:\n",
    "                high = mid - 1\n",
    "    else:\n",
    "        return -1\n",
    "\n",
    "search_rotated_sorted1([7, 8, 9, 1, 2, 3, 4, 5, 6], 6)"
   ]
  },
  {
   "cell_type": "markdown",
   "id": "fd5e97f9",
   "metadata": {
    "papermill": {
     "duration": 0.019727,
     "end_time": "2024-04-02T14:32:34.828319",
     "exception": false,
     "start_time": "2024-04-02T14:32:34.808592",
     "status": "completed"
    },
    "tags": []
   },
   "source": [
    "Video Link: https://www.youtube.com/watch?v=w2G2W8l__pc&list=PLgUwDviBIf0oF6QL8m22w1hIDC1vJ_BHz&index=49\n",
    "Search in rotated sorted arrays (with duplicates)\n",
    "Leetcode link: https://leetcode.com/problems/search-in-rotated-sorted-array-ii/submissions/1210474431/"
   ]
  },
  {
   "cell_type": "code",
   "execution_count": 16,
   "id": "310f82f5",
   "metadata": {
    "execution": {
     "iopub.execute_input": "2024-04-02T14:32:34.869588Z",
     "iopub.status.busy": "2024-04-02T14:32:34.868929Z",
     "iopub.status.idle": "2024-04-02T14:32:34.878862Z",
     "shell.execute_reply": "2024-04-02T14:32:34.878108Z"
    },
    "lines_to_next_cell": 1,
    "papermill": {
     "duration": 0.032404,
     "end_time": "2024-04-02T14:32:34.880570",
     "exception": false,
     "start_time": "2024-04-02T14:32:34.848166",
     "status": "completed"
    },
    "tags": []
   },
   "outputs": [
    {
     "data": {
      "text/plain": [
       "True"
      ]
     },
     "execution_count": 16,
     "metadata": {},
     "output_type": "execute_result"
    }
   ],
   "source": [
    "# Time complexity: O(n / 2)\n",
    "# If there are a lot of duplicates we might need to need to trim the left/right\n",
    "# repeatedly until arr[left] != arr[mid] != arr[right]\n",
    "def search_rotated_sorted2(arr: list[int], target: int) -> bool:\n",
    "    N = len(arr)\n",
    "    low, high = 0, N - 1\n",
    "    while low <= high:\n",
    "        mid = (low + high) // 2\n",
    "        if arr[mid] == target:\n",
    "            return True\n",
    "\n",
    "        # Special Case - [3, 1, 2, 3, 3, 3, 3, 3], eliminating left or right is not possible\n",
    "        elif arr[low] == arr[mid] == arr[high]:\n",
    "            low, high = low + 1, high - 1\n",
    "\n",
    "        # Left half is sorted\n",
    "        elif arr[low] <= arr[mid]:\n",
    "            # Element can be found in the left half\n",
    "            if arr[low] <= target <= arr[mid]:\n",
    "                high = mid - 1\n",
    "            else:\n",
    "                low = mid + 1\n",
    "\n",
    "        # Right half is sorted\n",
    "        else:\n",
    "            # Element can be found in the right half\n",
    "            if arr[mid] <= target <= arr[high]:\n",
    "                low = mid + 1\n",
    "            else:\n",
    "                high = mid - 1\n",
    "    else:\n",
    "        return False\n",
    "\n",
    "search_rotated_sorted2([3, 1, 2, 3, 3, 3, 3], 1)"
   ]
  },
  {
   "cell_type": "markdown",
   "id": "6657c71c",
   "metadata": {
    "papermill": {
     "duration": 0.019896,
     "end_time": "2024-04-02T14:32:34.920743",
     "exception": false,
     "start_time": "2024-04-02T14:32:34.900847",
     "status": "completed"
    },
    "tags": []
   },
   "source": [
    "Video Link: https://www.youtube.com/watch?v=nhEMDKMB44g&list=PLgUwDviBIf0oF6QL8m22w1hIDC1vJ_BHz&index=50\n",
    "Leetcode: https://leetcode.com/problems/find-minimum-in-rotated-sorted-array/submissions/1210490796"
   ]
  },
  {
   "cell_type": "code",
   "execution_count": 17,
   "id": "b50d9ac8",
   "metadata": {
    "execution": {
     "iopub.execute_input": "2024-04-02T14:32:34.982176Z",
     "iopub.status.busy": "2024-04-02T14:32:34.981574Z",
     "iopub.status.idle": "2024-04-02T14:32:34.989984Z",
     "shell.execute_reply": "2024-04-02T14:32:34.989310Z"
    },
    "papermill": {
     "duration": 0.031245,
     "end_time": "2024-04-02T14:32:34.991632",
     "exception": false,
     "start_time": "2024-04-02T14:32:34.960387",
     "status": "completed"
    },
    "tags": []
   },
   "outputs": [],
   "source": [
    "class Solution:\n",
    "    def findMin(self, nums: list[int]) -> int:\n",
    "        N = len(nums)\n",
    "        low, high, ans = 0, N - 1, nums[0]\n",
    "        while low <= high:\n",
    "            mid = (low + high) // 2\n",
    "            # Left half and right half is sorted (happens when we have crossed the pivot point or if the array was rotated 0 times)\n",
    "            if nums[low] < nums[mid] < nums[high]:\n",
    "                ans = min(ans, nums[low])\n",
    "                low, high = mid + 1, mid - 1\n",
    "\n",
    "            # Left half is sorted, take the min from left half and trim search space to the right half\n",
    "            elif nums[low] <= nums[mid]:\n",
    "                ans = min(ans, nums[low])\n",
    "                low = mid + 1\n",
    "\n",
    "            # Right half is sorted, take the min from the right half and trim search space to the left half\n",
    "            else:\n",
    "                ans = min(ans, nums[mid])\n",
    "                high = mid - 1\n",
    "\n",
    "        return ans\n",
    "\n",
    "# Testing the solution\n",
    "assert Solution().findMin([3,4,5,1,2]) == 1\n",
    "assert Solution().findMin([4,5,6,7,0,1,2]) == 0\n",
    "assert Solution().findMin([11,13,15,17]) == 11"
   ]
  },
  {
   "cell_type": "markdown",
   "id": "c2e4d69a",
   "metadata": {
    "papermill": {
     "duration": 0.02023,
     "end_time": "2024-04-02T14:32:35.031916",
     "exception": false,
     "start_time": "2024-04-02T14:32:35.011686",
     "status": "completed"
    },
    "tags": []
   },
   "source": [
    "Video Link: https://www.youtube.com/watch?v=jtSiWTPLwd0&list=PLgUwDviBIf0oF6QL8m22w1hIDC1vJ_BHz&index=51\n",
    "Count number of times an array has been rotated"
   ]
  },
  {
   "cell_type": "code",
   "execution_count": 18,
   "id": "f854c012",
   "metadata": {
    "execution": {
     "iopub.execute_input": "2024-04-02T14:32:35.073534Z",
     "iopub.status.busy": "2024-04-02T14:32:35.072927Z",
     "iopub.status.idle": "2024-04-02T14:32:35.080489Z",
     "shell.execute_reply": "2024-04-02T14:32:35.079686Z"
    },
    "papermill": {
     "duration": 0.030252,
     "end_time": "2024-04-02T14:32:35.082224",
     "exception": false,
     "start_time": "2024-04-02T14:32:35.051972",
     "status": "completed"
    },
    "tags": []
   },
   "outputs": [
    {
     "data": {
      "text/plain": [
       "4"
      ]
     },
     "execution_count": 18,
     "metadata": {},
     "output_type": "execute_result"
    }
   ],
   "source": [
    "arr = [2, 3, 4, 5, 1]\n",
    "N = len(arr)\n",
    "low, high, ans = 0, N - 1, 0\n",
    "while low <= high:\n",
    "    mid = (low + high) // 2\n",
    "    if arr[low] <= arr[mid]:\n",
    "        if arr[ans] > arr[low]:\n",
    "            ans = low\n",
    "        low = mid + 1\n",
    "    else:\n",
    "        if arr[ans] > arr[mid]:\n",
    "            ans = mid\n",
    "        high = mid - 1\n",
    "\n",
    "ans"
   ]
  },
  {
   "cell_type": "markdown",
   "id": "5769e9e8",
   "metadata": {
    "papermill": {
     "duration": 0.020122,
     "end_time": "2024-04-02T14:32:35.122729",
     "exception": false,
     "start_time": "2024-04-02T14:32:35.102607",
     "status": "completed"
    },
    "tags": []
   },
   "source": [
    "Video Link: https://www.youtube.com/watch?v=AZOmHuHadxQ&list=PLgUwDviBIf0oF6QL8m22w1hIDC1vJ_BHz&index=52\n",
    "Leetcode link: https://leetcode.com/problems/single-element-in-a-sorted-array/submissions/1211393503"
   ]
  },
  {
   "cell_type": "code",
   "execution_count": 19,
   "id": "1abaf5dd",
   "metadata": {
    "execution": {
     "iopub.execute_input": "2024-04-02T14:32:35.165131Z",
     "iopub.status.busy": "2024-04-02T14:32:35.164405Z",
     "iopub.status.idle": "2024-04-02T14:32:35.170656Z",
     "shell.execute_reply": "2024-04-02T14:32:35.169872Z"
    },
    "papermill": {
     "duration": 0.029649,
     "end_time": "2024-04-02T14:32:35.172470",
     "exception": false,
     "start_time": "2024-04-02T14:32:35.142821",
     "status": "completed"
    },
    "tags": []
   },
   "outputs": [
    {
     "data": {
      "text/plain": [
       "4"
      ]
     },
     "execution_count": 19,
     "metadata": {},
     "output_type": "execute_result"
    }
   ],
   "source": [
    "# Brute force approach\n",
    "# Time - O(N)\n",
    "arr = [1, 1, 2, 2, 3, 3, 4, 5, 5, 6, 6]\n",
    "res = 0\n",
    "for i in arr:\n",
    "    res ^= i\n",
    "res"
   ]
  },
  {
   "cell_type": "code",
   "execution_count": 20,
   "id": "69d77039",
   "metadata": {
    "execution": {
     "iopub.execute_input": "2024-04-02T14:32:35.215023Z",
     "iopub.status.busy": "2024-04-02T14:32:35.214513Z",
     "iopub.status.idle": "2024-04-02T14:32:35.223551Z",
     "shell.execute_reply": "2024-04-02T14:32:35.222693Z"
    },
    "lines_to_next_cell": 1,
    "papermill": {
     "duration": 0.031965,
     "end_time": "2024-04-02T14:32:35.225213",
     "exception": false,
     "start_time": "2024-04-02T14:32:35.193248",
     "status": "completed"
    },
    "tags": []
   },
   "outputs": [
    {
     "data": {
      "text/plain": [
       "4"
      ]
     },
     "execution_count": 20,
     "metadata": {},
     "output_type": "execute_result"
    }
   ],
   "source": [
    "# Better approach: O(log N)\n",
    "\"\"\"\n",
    "[1, 2, 2]\n",
    "[1, 1, 2]\n",
    "[1, 2, 2, 3, 3]\n",
    "[1, 1, 2, 3, 3]\n",
    "[1, 1, 2, 2, 3]\n",
    "[1, 2, 2, 3, 3, 4, 4]\n",
    "[1, 1, 2, 3, 3, 4, 4]\n",
    "[1, 1, 2, 2, 3, 4, 4]\n",
    "[1, 1, 2, 2, 3, 3, 4]\n",
    "# if mid is odd, mid - 1, mid should be same for left to be okay: low = mid + 1 / high = mid + 1\n",
    "# if mid is even, mid, mid + 1 should be the same for left to be okay: low = mid / high = mid\n",
    "\"\"\"\n",
    "arr = [1, 1, 2, 2, 3, 3, 4, 5, 5, 6, 6]\n",
    "N = len(arr)\n",
    "low, high = 0, N - 1\n",
    "while low < high:\n",
    "    mid = (low + high) // 2\n",
    "    if mid % 2 == 0:\n",
    "        if arr[mid] == arr[mid + 1]:\n",
    "            low = mid\n",
    "        else:\n",
    "            high = mid\n",
    "    else:\n",
    "        if arr[mid] == arr[mid - 1]:\n",
    "            low = mid + 1\n",
    "        else:\n",
    "            high = mid - 1\n",
    "\n",
    "arr[low]"
   ]
  },
  {
   "cell_type": "markdown",
   "id": "1879fb32",
   "metadata": {
    "papermill": {
     "duration": 0.020392,
     "end_time": "2024-04-02T14:32:35.266373",
     "exception": false,
     "start_time": "2024-04-02T14:32:35.245981",
     "status": "completed"
    },
    "tags": []
   },
   "source": [
    "Video Link: https://www.youtube.com/watch?v=cXxmbemS6XM&list=PLgUwDviBIf0oF6QL8m22w1hIDC1vJ_BHz&index=53\n",
    "Find Peak element"
   ]
  },
  {
   "cell_type": "code",
   "execution_count": 21,
   "id": "7126b9cc",
   "metadata": {
    "execution": {
     "iopub.execute_input": "2024-04-02T14:32:35.308648Z",
     "iopub.status.busy": "2024-04-02T14:32:35.308031Z",
     "iopub.status.idle": "2024-04-02T14:32:35.314884Z",
     "shell.execute_reply": "2024-04-02T14:32:35.314137Z"
    },
    "lines_to_next_cell": 1,
    "papermill": {
     "duration": 0.029953,
     "end_time": "2024-04-02T14:32:35.316619",
     "exception": false,
     "start_time": "2024-04-02T14:32:35.286666",
     "status": "completed"
    },
    "tags": []
   },
   "outputs": [],
   "source": [
    "def findPeakElement(arr: [int]) -> int:\n",
    "    N = len(arr)\n",
    "    low, high = 0, N - 1\n",
    "    while low <= high:\n",
    "        mid = (low + high) // 2\n",
    "        l, m, r = arr[mid - 1] if mid > 0 else -math.inf, arr[mid], arr[mid + 1] if mid < N - 1 else -math.inf\n",
    "        if l <  m > r:\n",
    "            return mid\n",
    "        elif l < m < r:\n",
    "            low = mid + 1\n",
    "        # handles both cases - l > m > r and l > m < r\n",
    "        # If the case is l > m < r, multiple peak exists, going any dir we would be able to reach a peak\n",
    "        else:\n",
    "            high = mid - 1\n",
    "    return -1\n",
    "\n",
    "# Testing the solution\n",
    "assert findPeakElement([1, 2, 3, 1]) == 2\n",
    "assert findPeakElement([1,2,1,3,5,6,4]) == 5"
   ]
  },
  {
   "cell_type": "markdown",
   "id": "399ae8e1",
   "metadata": {
    "papermill": {
     "duration": 0.020127,
     "end_time": "2024-04-02T14:32:35.357198",
     "exception": false,
     "start_time": "2024-04-02T14:32:35.337071",
     "status": "completed"
    },
    "tags": []
   },
   "source": [
    "Video Link: https://www.youtube.com/watch?v=Bsv3FPUX_BA&list=PLgUwDviBIf0oF6QL8m22w1hIDC1vJ_BHz&index=54\n",
    "Square root of a number using binary search\n",
    "Take home:\n",
    "\n",
    "1. For questions involving patterns where ans is possible uptil a certain extent and post which answers are not possible, we can apply our binary search algorithm (we always know the range of possible answers)\n",
    "2. When we are having regions of possible and not possible like so: [ans, ans, ans, not ans, not ans] - at the end of binary search, low will end up pointing at a position that is 1 greater than the ans (3) while high will end up pointing at the ans (2)"
   ]
  },
  {
   "cell_type": "code",
   "execution_count": 22,
   "id": "64144c7a",
   "metadata": {
    "execution": {
     "iopub.execute_input": "2024-04-02T14:32:35.399491Z",
     "iopub.status.busy": "2024-04-02T14:32:35.399227Z",
     "iopub.status.idle": "2024-04-02T14:32:35.438113Z",
     "shell.execute_reply": "2024-04-02T14:32:35.437288Z"
    },
    "lines_to_next_cell": 1,
    "papermill": {
     "duration": 0.061957,
     "end_time": "2024-04-02T14:32:35.439760",
     "exception": false,
     "start_time": "2024-04-02T14:32:35.377803",
     "status": "completed"
    },
    "tags": []
   },
   "outputs": [
    {
     "name": "stderr",
     "output_type": "stream",
     "text": [
      "\r",
      "  0%|          | 0/10000 [00:00<?, ?it/s]"
     ]
    },
    {
     "name": "stderr",
     "output_type": "stream",
     "text": [
      "\r",
      "100%|██████████| 10000/10000 [00:00<00:00, 329974.35it/s]"
     ]
    },
    {
     "name": "stderr",
     "output_type": "stream",
     "text": [
      "\n"
     ]
    }
   ],
   "source": [
    "def floorSqrt(n: int) -> int:\n",
    "    'Time - O(log n)'\n",
    "    low, high = 1, n\n",
    "    while low <= high:\n",
    "        mid = (low + high) // 2\n",
    "        if mid * mid > n:\n",
    "            high = mid - 1\n",
    "        else:\n",
    "            low = mid + 1\n",
    "\n",
    "    return high\n",
    "\n",
    "# Testing the solution\n",
    "for i in tqdm.tqdm(range(int(1e4))):\n",
    "    assert floorSqrt(i) == int(math.sqrt(i))"
   ]
  },
  {
   "cell_type": "markdown",
   "id": "21ab1eeb",
   "metadata": {
    "papermill": {
     "duration": 0.020662,
     "end_time": "2024-04-02T14:32:35.482303",
     "exception": false,
     "start_time": "2024-04-02T14:32:35.461641",
     "status": "completed"
    },
    "tags": []
   },
   "source": [
    "Video Link: https://www.youtube.com/watch?v=rjEJeYCasHs&list=PLgUwDviBIf0oF6QL8m22w1hIDC1vJ_BHz&index=55\n",
    "Find Nth root of an integer"
   ]
  },
  {
   "cell_type": "code",
   "execution_count": 23,
   "id": "8e8ba6e9",
   "metadata": {
    "execution": {
     "iopub.execute_input": "2024-04-02T14:32:35.524760Z",
     "iopub.status.busy": "2024-04-02T14:32:35.524446Z",
     "iopub.status.idle": "2024-04-02T14:32:35.530330Z",
     "shell.execute_reply": "2024-04-02T14:32:35.529657Z"
    },
    "lines_to_next_cell": 1,
    "papermill": {
     "duration": 0.029158,
     "end_time": "2024-04-02T14:32:35.532027",
     "exception": false,
     "start_time": "2024-04-02T14:32:35.502869",
     "status": "completed"
    },
    "tags": []
   },
   "outputs": [],
   "source": [
    "# Brute force\n",
    "def NthRoot_brute(n: int, m: int) -> int:\n",
    "    \"Brute force - O(m * n)\"\n",
    "    for i in range(m):\n",
    "        curr = 1\n",
    "        for _ in range(n):\n",
    "            curr *= i\n",
    "            if curr > m:\n",
    "                break\n",
    "        if curr == m:\n",
    "            return i\n",
    "        elif curr > m:\n",
    "            break\n",
    "    return -1\n",
    "\n",
    "# Testing the solution\n",
    "assert NthRoot_brute(3, 27) == 3\n",
    "assert NthRoot_brute(4, 69) == -1"
   ]
  },
  {
   "cell_type": "code",
   "execution_count": 24,
   "id": "accd0d1c",
   "metadata": {
    "execution": {
     "iopub.execute_input": "2024-04-02T14:32:35.574908Z",
     "iopub.status.busy": "2024-04-02T14:32:35.574636Z",
     "iopub.status.idle": "2024-04-02T14:32:35.581318Z",
     "shell.execute_reply": "2024-04-02T14:32:35.580618Z"
    },
    "lines_to_next_cell": 1,
    "papermill": {
     "duration": 0.030067,
     "end_time": "2024-04-02T14:32:35.583034",
     "exception": false,
     "start_time": "2024-04-02T14:32:35.552967",
     "status": "completed"
    },
    "tags": []
   },
   "outputs": [],
   "source": [
    "# Optimal - Binary Search\n",
    "def NthRoot_binary(n: int, m: int) -> int:\n",
    "    \"Using binary search - O(log m * n)\"\n",
    "    low, high = 0, m\n",
    "    while low <= high:\n",
    "        mid = (low + high) // 2\n",
    "\n",
    "        curr = 1\n",
    "        for _ in range(n):\n",
    "            curr *= mid\n",
    "            if curr > m:\n",
    "                break\n",
    "\n",
    "        if curr == m:\n",
    "            return mid\n",
    "        elif curr < m:\n",
    "            low = mid + 1\n",
    "        else:\n",
    "            high = mid - 1\n",
    "\n",
    "    return -1\n",
    "\n",
    "# Testing the solution\n",
    "assert NthRoot_binary(3, 27) == 3\n",
    "assert NthRoot_binary(4, 69) == -1"
   ]
  },
  {
   "cell_type": "markdown",
   "id": "201c8d96",
   "metadata": {
    "papermill": {
     "duration": 0.020513,
     "end_time": "2024-04-02T14:32:35.624336",
     "exception": false,
     "start_time": "2024-04-02T14:32:35.603823",
     "status": "completed"
    },
    "tags": []
   },
   "source": [
    "Video link: https://youtu.be/qyfekrNni90?si=N28mkp8Cyx4lvNIq  \n",
    "Problem: Koko eating bananas"
   ]
  },
  {
   "cell_type": "code",
   "execution_count": 25,
   "id": "24fcadf8",
   "metadata": {
    "execution": {
     "iopub.execute_input": "2024-04-02T14:32:35.667508Z",
     "iopub.status.busy": "2024-04-02T14:32:35.666781Z",
     "iopub.status.idle": "2024-04-02T14:32:35.672946Z",
     "shell.execute_reply": "2024-04-02T14:32:35.672272Z"
    },
    "lines_to_next_cell": 1,
    "papermill": {
     "duration": 0.02945,
     "end_time": "2024-04-02T14:32:35.674595",
     "exception": false,
     "start_time": "2024-04-02T14:32:35.645145",
     "status": "completed"
    },
    "tags": []
   },
   "outputs": [],
   "source": [
    "# Brute force solution: O(v * h)\n",
    "def minimumRateToEatBananas_brute(v: list[int], h: int) -> int:\n",
    "    m, min_hours = 0, sum(v)\n",
    "    while min_hours > h:\n",
    "        m += 1\n",
    "        min_hours = 0\n",
    "        for p in v:\n",
    "            min_hours += math.ceil(p / m)\n",
    "\n",
    "    return m\n",
    "\n",
    "# Testing the solution\n",
    "assert minimumRateToEatBananas_brute([7, 15, 6, 3], 8) == 5\n",
    "assert minimumRateToEatBananas_brute([25, 12, 8, 14, 19], 5) == 25"
   ]
  },
  {
   "cell_type": "code",
   "execution_count": 26,
   "id": "77605b2a",
   "metadata": {
    "execution": {
     "iopub.execute_input": "2024-04-02T14:32:35.717815Z",
     "iopub.status.busy": "2024-04-02T14:32:35.717213Z",
     "iopub.status.idle": "2024-04-02T14:32:35.725975Z",
     "shell.execute_reply": "2024-04-02T14:32:35.725341Z"
    },
    "lines_to_next_cell": 1,
    "papermill": {
     "duration": 0.032048,
     "end_time": "2024-04-02T14:32:35.727584",
     "exception": false,
     "start_time": "2024-04-02T14:32:35.695536",
     "status": "completed"
    },
    "tags": []
   },
   "outputs": [],
   "source": [
    "# Better solution\n",
    "def minimumRateToEatBananas_better(v: list[int], h: int) -> int:\n",
    "    def compute_hours(m: int) -> int:\n",
    "        \"Assumes piles is sorted in asc order\"\n",
    "        V = N # Copy N for modification\n",
    "        hours = 0\n",
    "        while v[V - 1] > m and V > 0:\n",
    "            hours += math.ceil(v[V - 1] / m)\n",
    "            V -= 1\n",
    "\n",
    "        return hours + V\n",
    "\n",
    "    N = len(v)\n",
    "\n",
    "    # Time: O(v log v)\n",
    "    v.sort()\n",
    "\n",
    "    # Binary search\n",
    "    low, high = 1, v[-1]\n",
    "    while low <= high:\n",
    "        mid = (low + high) // 2\n",
    "        curr = compute_hours(mid)\n",
    "        if curr > h:\n",
    "            low = mid + 1\n",
    "        else:\n",
    "            high = mid - 1\n",
    "\n",
    "    return low\n",
    "\n",
    "# Testing the solution\n",
    "assert minimumRateToEatBananas_better([9], 2) == 5\n",
    "assert minimumRateToEatBananas_better([7, 15, 6, 3], 8) == 5\n",
    "assert minimumRateToEatBananas_better([25, 12, 8, 14, 19], 5) == 25"
   ]
  },
  {
   "cell_type": "markdown",
   "id": "81512acb",
   "metadata": {
    "papermill": {
     "duration": 0.020587,
     "end_time": "2024-04-02T14:32:35.768913",
     "exception": false,
     "start_time": "2024-04-02T14:32:35.748326",
     "status": "completed"
    },
    "tags": []
   },
   "source": [
    "Video Link: https://www.youtube.com/watch?v=TXAuxeYBTdg&list=PLgUwDviBIf0oF6QL8m22w1hIDC1vJ_BHz&index=57\n",
    "Minimum days to make M boquets"
   ]
  },
  {
   "cell_type": "code",
   "execution_count": 27,
   "id": "76ca4e35",
   "metadata": {
    "execution": {
     "iopub.execute_input": "2024-04-02T14:32:35.811469Z",
     "iopub.status.busy": "2024-04-02T14:32:35.811003Z",
     "iopub.status.idle": "2024-04-02T14:32:35.820603Z",
     "shell.execute_reply": "2024-04-02T14:32:35.819882Z"
    },
    "lines_to_next_cell": 1,
    "papermill": {
     "duration": 0.032756,
     "end_time": "2024-04-02T14:32:35.822232",
     "exception": false,
     "start_time": "2024-04-02T14:32:35.789476",
     "status": "completed"
    },
    "tags": []
   },
   "outputs": [],
   "source": [
    "# Solution link: https://leetcode.com/problems/minimum-number-of-days-to-make-m-bouquets/submissions/1213963810\n",
    "class Solution:\n",
    "    def minDays(self, bloomDay: list[int], m: int, k: int) -> int:\n",
    "        def countBoquets(day: int) -> int:\n",
    "            \"Count boquets in O(N) time\"\n",
    "            flower_count, boquet_count = 0, 0\n",
    "            for i in range(N):\n",
    "                if bloomDay[i] <= day:\n",
    "                    flower_count += 1\n",
    "                else:\n",
    "                    flower_count = 0\n",
    "\n",
    "                if flower_count == k:\n",
    "                    boquet_count += 1\n",
    "                    flower_count = 0\n",
    "\n",
    "            return boquet_count\n",
    "\n",
    "        N = len(bloomDay)\n",
    "\n",
    "        answer_range = sorted(set(bloomDay))\n",
    "        answer_range_length = len(answer_range)\n",
    "        low, high = 0, answer_range_length - 1\n",
    "        while low <= high:\n",
    "            mid = (low + high) // 2\n",
    "            boquet_count = countBoquets(answer_range[mid])\n",
    "            if boquet_count >= m:\n",
    "                high = mid - 1\n",
    "            else:\n",
    "                low = mid + 1\n",
    "\n",
    "        return answer_range[low] if low < answer_range_length else -1\n",
    "\n",
    "# Testing the solution\n",
    "assert Solution().minDays([1,10,3,10,2], 3, 1) == 3\n",
    "assert Solution().minDays([1,10,3,10,2], 3, 2) == -1\n",
    "assert Solution().minDays([7,7,7,7,12,7,7], 2, 3) == 12"
   ]
  },
  {
   "cell_type": "markdown",
   "id": "03f3ffa2",
   "metadata": {
    "papermill": {
     "duration": 0.020613,
     "end_time": "2024-04-02T14:32:35.863751",
     "exception": false,
     "start_time": "2024-04-02T14:32:35.843138",
     "status": "completed"
    },
    "tags": []
   },
   "source": [
    "Video Link: https://www.youtube.com/watch?v=UvBKTVaG6U8&list=PLgUwDviBIf0oF6QL8m22w1hIDC1vJ_BHz&index=58\n",
    "Smallest divisor given the threshold"
   ]
  },
  {
   "cell_type": "code",
   "execution_count": 28,
   "id": "fbac3ba5",
   "metadata": {
    "execution": {
     "iopub.execute_input": "2024-04-02T14:32:35.906867Z",
     "iopub.status.busy": "2024-04-02T14:32:35.906389Z",
     "iopub.status.idle": "2024-04-02T14:32:35.913975Z",
     "shell.execute_reply": "2024-04-02T14:32:35.913183Z"
    },
    "lines_to_next_cell": 1,
    "papermill": {
     "duration": 0.031184,
     "end_time": "2024-04-02T14:32:35.915582",
     "exception": false,
     "start_time": "2024-04-02T14:32:35.884398",
     "status": "completed"
    },
    "tags": []
   },
   "outputs": [],
   "source": [
    "# Solution Link: https://leetcode.com/problems/find-the-smallest-divisor-given-a-threshold/submissions/1213975584\n",
    "class Solution:\n",
    "    def smallestDivisor(self, nums: list[int], threshold: int) -> int:\n",
    "        def calcThresh(divisor: int) -> int:\n",
    "            thresh = 0\n",
    "            for n in nums:\n",
    "                thresh += math.ceil(n / divisor)\n",
    "            return thresh\n",
    "\n",
    "        N = len(nums)\n",
    "        low, high = 1, max(nums)\n",
    "        while low <= high:\n",
    "            mid = (low + high) // 2\n",
    "            if calcThresh(mid) <= threshold:\n",
    "                high = mid - 1\n",
    "            else:\n",
    "                low = mid + 1\n",
    "\n",
    "        return low\n",
    "\n",
    "# Testing the solution\n",
    "assert Solution().smallestDivisor([1,2,5,9], 6) == 5\n",
    "assert Solution().smallestDivisor([44,22,33,11,1], 5) == 44\n",
    "assert Solution().smallestDivisor([21212,10101,12121], 1000000) == 1"
   ]
  },
  {
   "cell_type": "markdown",
   "id": "01e65497",
   "metadata": {
    "papermill": {
     "duration": 0.020942,
     "end_time": "2024-04-02T14:32:35.957398",
     "exception": false,
     "start_time": "2024-04-02T14:32:35.936456",
     "status": "completed"
    },
    "tags": []
   },
   "source": [
    "Video Link: https://www.youtube.com/watch?v=MG-Ac4TAvTY&list=PLgUwDviBIf0oF6QL8m22w1hIDC1vJ_BHz&index=59\n",
    "Capacity to ship packages in D Days"
   ]
  },
  {
   "cell_type": "code",
   "execution_count": 29,
   "id": "48336458",
   "metadata": {
    "execution": {
     "iopub.execute_input": "2024-04-02T14:32:36.000325Z",
     "iopub.status.busy": "2024-04-02T14:32:35.999741Z",
     "iopub.status.idle": "2024-04-02T14:32:36.007939Z",
     "shell.execute_reply": "2024-04-02T14:32:36.007296Z"
    },
    "lines_to_next_cell": 1,
    "papermill": {
     "duration": 0.031404,
     "end_time": "2024-04-02T14:32:36.009613",
     "exception": false,
     "start_time": "2024-04-02T14:32:35.978209",
     "status": "completed"
    },
    "tags": []
   },
   "outputs": [],
   "source": [
    "# Problem link: https://leetcode.com/problems/capacity-to-ship-packages-within-d-days/submissions/1214006136\n",
    "class Solution:\n",
    "    def shipWithinDays(self, weights: list[int], days: int) -> int:\n",
    "        def countDays(capacity: int) -> int:\n",
    "            day_count = 0\n",
    "            weight = 0\n",
    "            for w in weights:\n",
    "                if weight + w <= capacity:\n",
    "                    weight += w\n",
    "                else:\n",
    "                    day_count += 1\n",
    "                    weight = w\n",
    "\n",
    "            return day_count + 1\n",
    "\n",
    "        # Sort the weights\n",
    "        N = len(weights)\n",
    "\n",
    "        # Min, max possibile answer - Binary search\n",
    "        low, high = max(weights), sum(weights)\n",
    "        while low <= high:\n",
    "            mid = (low + high) // 2\n",
    "            day_count = countDays(mid)\n",
    "            if day_count <= days:\n",
    "                high = mid - 1\n",
    "            else:\n",
    "                low = mid + 1\n",
    "\n",
    "        return low\n",
    "\n",
    "# Testing the solution\n",
    "assert Solution().shipWithinDays([1,2,3,4,5,6,7,8,9,10], 5) == 15\n",
    "assert Solution().shipWithinDays([3,2,2,4,1,4], 3) == 6\n",
    "assert Solution().shipWithinDays([1,2,3,1,1], 4) == 3"
   ]
  },
  {
   "cell_type": "markdown",
   "id": "0a0d2642",
   "metadata": {
    "papermill": {
     "duration": 0.020699,
     "end_time": "2024-04-02T14:32:36.051546",
     "exception": false,
     "start_time": "2024-04-02T14:32:36.030847",
     "status": "completed"
    },
    "tags": []
   },
   "source": [
    "Video Link: https://www.youtube.com/watch?v=uZ0N_hZpyps&list=PLgUwDviBIf0oF6QL8m22w1hIDC1vJ_BHz&index=60\n",
    "Kth missing +ve number: https://leetcode.com/problems/kth-missing-positive-number/submissions/1215199274/"
   ]
  },
  {
   "cell_type": "code",
   "execution_count": 30,
   "id": "fdbc80fd",
   "metadata": {
    "execution": {
     "iopub.execute_input": "2024-04-02T14:32:36.094427Z",
     "iopub.status.busy": "2024-04-02T14:32:36.093791Z",
     "iopub.status.idle": "2024-04-02T14:32:36.102689Z",
     "shell.execute_reply": "2024-04-02T14:32:36.101934Z"
    },
    "lines_to_next_cell": 1,
    "papermill": {
     "duration": 0.032267,
     "end_time": "2024-04-02T14:32:36.104467",
     "exception": false,
     "start_time": "2024-04-02T14:32:36.072200",
     "status": "completed"
    },
    "tags": []
   },
   "outputs": [],
   "source": [
    "# Linear run time solution\n",
    "class Solution:\n",
    "    def findKthPositive_brute(self, arr: list[int], k: int) -> int:\n",
    "        \"Brute force: Time - O(N), Space - O(N)\"\n",
    "        present: set[int] = set(arr)\n",
    "        max_ = arr[-1] + k\n",
    "        for i in range(1, max_ + 1):\n",
    "            if i not in present:\n",
    "                k -= 1\n",
    "            if k == 0:\n",
    "                break\n",
    "        return i\n",
    "\n",
    "    def findKthPositive_better(self, arr: list[int], k: int) -> int:\n",
    "        \"Striver Better solution: Time - O(N), Space - O(1)\"\n",
    "        for n in arr:\n",
    "            if n <= k:\n",
    "                k += 1\n",
    "            else:\n",
    "                break\n",
    "        return k\n",
    "\n",
    "    def findKthPositive(self, arr: list[int], k: int) -> int:\n",
    "        \"\"\"\n",
    "        Optimal - Binary search: Time - O(log N)\n",
    "        Primary Observation: Count of missing elements prior to index: arr[idx] - idx - 1.\n",
    "        This is because if there were no missing elements, at any idx the number should be idx + 1.\n",
    "\n",
    "        With this logic in mind, we can apply binary search.\n",
    "        \"\"\"\n",
    "        N = len(arr)\n",
    "        low, high = 0, N - 1\n",
    "        while low <= high:\n",
    "            mid = (low + high) // 2\n",
    "            missing_count = arr[mid] - mid - 1\n",
    "            if missing_count < k:\n",
    "                low = mid + 1\n",
    "            else:\n",
    "                high = mid - 1\n",
    "\n",
    "        # arr[high] + more \n",
    "        # arr[high] + k - missing \n",
    "        # arr[high] + k - arr[high] + high + 1\n",
    "        return high + k + 1\n",
    "\n",
    "# Testing the solution\n",
    "assert Solution().findKthPositive([2, 3, 4, 7, 11], 5) == 9"
   ]
  },
  {
   "cell_type": "markdown",
   "id": "5275fb71",
   "metadata": {
    "papermill": {
     "duration": 0.020787,
     "end_time": "2024-04-02T14:32:36.146124",
     "exception": false,
     "start_time": "2024-04-02T14:32:36.125337",
     "status": "completed"
    },
    "tags": []
   },
   "source": [
    "Video Link: https://www.youtube.com/watch?v=R_Mfw4ew-Vo&list=PLgUwDviBIf0oF6QL8m22w1hIDC1vJ_BHz&index=61"
   ]
  },
  {
   "cell_type": "code",
   "execution_count": 31,
   "id": "8139b363",
   "metadata": {
    "execution": {
     "iopub.execute_input": "2024-04-02T14:32:36.188841Z",
     "iopub.status.busy": "2024-04-02T14:32:36.188151Z",
     "iopub.status.idle": "2024-04-02T14:32:36.194874Z",
     "shell.execute_reply": "2024-04-02T14:32:36.194115Z"
    },
    "lines_to_next_cell": 1,
    "papermill": {
     "duration": 0.029879,
     "end_time": "2024-04-02T14:32:36.196482",
     "exception": false,
     "start_time": "2024-04-02T14:32:36.166603",
     "status": "completed"
    },
    "tags": []
   },
   "outputs": [],
   "source": [
    "# Brute force: ~ O(2 ^ N)\n",
    "def aggressiveCows(stalls: list[int], k: int) -> int:\n",
    "    def compute_min_distance(placement: tuple[int]) -> int:\n",
    "        dist = stalls[-1] - stalls[0]\n",
    "        for i in range(k - 1):\n",
    "            dist = min(dist, placement[i + 1] - placement[i])\n",
    "\n",
    "        return dist\n",
    "\n",
    "    # Sort the stalls so that the min dist would always be between 2 consequtive stalls\n",
    "    stalls.sort()\n",
    "\n",
    "    # Generate all subsequences\n",
    "    result = 0\n",
    "    for placement in itertools.combinations(stalls, k):\n",
    "        result = max(result, compute_min_distance(placement))\n",
    "    return result\n",
    "\n",
    "# Testing the solution\n",
    "assert aggressiveCows([0, 3, 4, 7, 10, 9], 4) == 3\n",
    "assert aggressiveCows([4, 2, 1, 3, 6], 2) == 5"
   ]
  },
  {
   "cell_type": "code",
   "execution_count": 32,
   "id": "ba2f0950",
   "metadata": {
    "execution": {
     "iopub.execute_input": "2024-04-02T14:32:36.239386Z",
     "iopub.status.busy": "2024-04-02T14:32:36.238855Z",
     "iopub.status.idle": "2024-04-02T14:32:36.246513Z",
     "shell.execute_reply": "2024-04-02T14:32:36.245766Z"
    },
    "lines_to_next_cell": 1,
    "papermill": {
     "duration": 0.03102,
     "end_time": "2024-04-02T14:32:36.248288",
     "exception": false,
     "start_time": "2024-04-02T14:32:36.217268",
     "status": "completed"
    },
    "tags": []
   },
   "outputs": [],
   "source": [
    "# Better: ~ O(N ^ 2) \n",
    "def aggressiveCows(stalls: list[int], k: int) -> int:\n",
    "    stalls.sort()\n",
    "\n",
    "    N = len(stalls)\n",
    "\n",
    "    distances = []\n",
    "    for i in range(N - 1):\n",
    "        distances.append(stalls[i + 1] - stalls[i])\n",
    "\n",
    "    # Eliminate N - k stalls\n",
    "    for i in range(N - k):\n",
    "        # Find min dist idx\n",
    "        min_ = 0\n",
    "        for j in range(N - i - 1):\n",
    "            if distances[j] < distances[min_]:\n",
    "                min_ = j\n",
    "        # Combine with the smaller value\n",
    "        if min_ == 0 or (min_ < N - i - 2 and distances[min_ + 1] < distances[min_ - 1]):\n",
    "            distances[min_ + 1] += distances[min_]\n",
    "        else:\n",
    "            distances[min_ - 1] += distances[min_]\n",
    "\n",
    "        # Remove that distance\n",
    "        distances.pop(min_)\n",
    "\n",
    "    return min(distances)\n",
    "\n",
    "# Testing the solution\n",
    "assert aggressiveCows([0, 3, 4, 7, 10, 9], 4) == 3\n",
    "assert aggressiveCows([4, 2, 1, 3, 6], 2) == 5"
   ]
  },
  {
   "cell_type": "code",
   "execution_count": 33,
   "id": "64f42a77",
   "metadata": {
    "execution": {
     "iopub.execute_input": "2024-04-02T14:32:36.291595Z",
     "iopub.status.busy": "2024-04-02T14:32:36.291023Z",
     "iopub.status.idle": "2024-04-02T14:32:36.298533Z",
     "shell.execute_reply": "2024-04-02T14:32:36.297814Z"
    },
    "lines_to_next_cell": 1,
    "papermill": {
     "duration": 0.030762,
     "end_time": "2024-04-02T14:32:36.300152",
     "exception": false,
     "start_time": "2024-04-02T14:32:36.269390",
     "status": "completed"
    },
    "tags": []
   },
   "outputs": [],
   "source": [
    "# Optimal Striver: O(N log N)\n",
    "def aggressiveCows(stalls: list[int], k: int) -> int:\n",
    "    def place_cows(dist: int) -> bool:\n",
    "        \"Place k cows with a min of k dist (>= dist)\"\n",
    "\n",
    "        # Place 1st cow at idx 0\n",
    "        k_, prev = k - 1, 0\n",
    "        for i in range(1, N):\n",
    "            if stalls[i] - stalls[prev] >= dist:\n",
    "                prev = i\n",
    "                k_ -= 1\n",
    "            if k_ == 0:\n",
    "                break\n",
    "\n",
    "        return k_ == 0\n",
    "\n",
    "    N = len(stalls)\n",
    "    stalls.sort()\n",
    "\n",
    "    low, high = 1, stalls[-1] - stalls[0]\n",
    "    while low <= high:\n",
    "        mid = (low + high) // 2\n",
    "        if place_cows(mid):\n",
    "            low = mid + 1\n",
    "        else:\n",
    "            high = mid - 1\n",
    "\n",
    "    return high\n",
    "\n",
    "# Testing the solution\n",
    "assert aggressiveCows([0, 3, 4, 7, 10, 9], 4) == 3\n",
    "assert aggressiveCows([4, 2, 1, 3, 6], 2) == 5"
   ]
  },
  {
   "cell_type": "markdown",
   "id": "c6415f70",
   "metadata": {
    "papermill": {
     "duration": 0.020609,
     "end_time": "2024-04-02T14:32:36.341615",
     "exception": false,
     "start_time": "2024-04-02T14:32:36.321006",
     "status": "completed"
    },
    "tags": []
   },
   "source": [
    "Video link: https://www.youtube.com/watch?v=Z0hwjftStI4&list=PLgUwDviBIf0oF6QL8m22w1hIDC1vJ_BHz&index=62"
   ]
  },
  {
   "cell_type": "code",
   "execution_count": 34,
   "id": "4e6344ff",
   "metadata": {
    "execution": {
     "iopub.execute_input": "2024-04-02T14:32:36.384674Z",
     "iopub.status.busy": "2024-04-02T14:32:36.383994Z",
     "iopub.status.idle": "2024-04-02T14:32:36.391244Z",
     "shell.execute_reply": "2024-04-02T14:32:36.390498Z"
    },
    "lines_to_next_cell": 1,
    "papermill": {
     "duration": 0.030812,
     "end_time": "2024-04-02T14:32:36.393110",
     "exception": false,
     "start_time": "2024-04-02T14:32:36.362298",
     "status": "completed"
    },
    "tags": []
   },
   "outputs": [],
   "source": [
    "# Brute force solution, Time, Space: O(N!)\n",
    "def findPages(arr: list[int], n: int, m: int) -> float:\n",
    "    N = len(arr)\n",
    "\n",
    "    @functools.cache\n",
    "    def backtrack(start: int, n_students: int) -> float:\n",
    "        if n_students == 1:\n",
    "            return sum(arr[start:])\n",
    "\n",
    "        else:\n",
    "            result = math.inf\n",
    "            sum_ = 0\n",
    "            for i in range(start, N - n_students + 1):\n",
    "                sum_ += arr[i]\n",
    "                result = min(result, max(sum_, backtrack(i + 1, n_students - 1)))\n",
    "\n",
    "            return result\n",
    "\n",
    "    result = backtrack(0, m)\n",
    "    return -1 if math.isinf(result) else result\n",
    "\n",
    "# Testing the solution\n",
    "assert findPages([12, 34, 67, 90], 4, 2) == 113\n",
    "assert findPages([25, 46, 28, 49, 24], 5, 4) == 71"
   ]
  },
  {
   "cell_type": "code",
   "execution_count": 35,
   "id": "569cb019",
   "metadata": {
    "execution": {
     "iopub.execute_input": "2024-04-02T14:32:36.436607Z",
     "iopub.status.busy": "2024-04-02T14:32:36.435901Z",
     "iopub.status.idle": "2024-04-02T14:32:36.444477Z",
     "shell.execute_reply": "2024-04-02T14:32:36.443833Z"
    },
    "lines_to_next_cell": 1,
    "papermill": {
     "duration": 0.032109,
     "end_time": "2024-04-02T14:32:36.446223",
     "exception": false,
     "start_time": "2024-04-02T14:32:36.414114",
     "status": "completed"
    },
    "tags": []
   },
   "outputs": [],
   "source": [
    "# Optimal - Binary search, Time - O(N log N)\n",
    "def findPages(arr: list[int], n: int, m: int) -> float:\n",
    "    N = len(arr)\n",
    "\n",
    "    def assign(maxPages: int) -> bool:\n",
    "        \"\"\"\n",
    "        Logic for this is more crucial than binary search itself.\n",
    "\n",
    "        Tip: Splits, Subarrays (contiguous).\n",
    "\n",
    "        To check if the maxPages is possible we GREEDILY assign as much as\n",
    "        possible to each guy before moving to the next guy.\n",
    "        \"\"\"\n",
    "        n_std, curr = 1, 0\n",
    "        for i in range(N):\n",
    "            if curr + arr[i] <= maxPages:\n",
    "                curr += arr[i]\n",
    "            else:\n",
    "                n_std, curr = n_std + 1, arr[i]\n",
    "\n",
    "        return n_std <= m\n",
    "\n",
    "    if N < m:\n",
    "        return -1\n",
    "    else:\n",
    "        low, high = max(arr), sum(arr)\n",
    "        while low <= high:\n",
    "            mid = (low + high) // 2\n",
    "            if assign(mid):\n",
    "                high = mid - 1\n",
    "            else:\n",
    "                low = mid + 1\n",
    "\n",
    "        return low\n",
    "\n",
    "# Testing the solution\n",
    "assert findPages([12, 34, 67, 90], 4, 2) == 113\n",
    "assert findPages([25, 46, 28, 49, 24], 5, 4) == 71\n",
    "assert findPages([2, 8, 8, 4, 5], 5, 6) == -1"
   ]
  },
  {
   "cell_type": "markdown",
   "id": "693edc5b",
   "metadata": {
    "papermill": {
     "duration": 0.020506,
     "end_time": "2024-04-02T14:32:36.487570",
     "exception": false,
     "start_time": "2024-04-02T14:32:36.467064",
     "status": "completed"
    },
    "tags": []
   },
   "source": [
    "Video Link: https://www.youtube.com/watch?v=thUd_WJn6wk&list=PLgUwDviBIf0oF6QL8m22w1hIDC1vJ_BHz&index=63\n",
    "Problem Link: https://leetcode.com/problems/split-array-largest-sum/submissions/1216912768"
   ]
  },
  {
   "cell_type": "code",
   "execution_count": 36,
   "id": "2f94d583",
   "metadata": {
    "execution": {
     "iopub.execute_input": "2024-04-02T14:32:36.530199Z",
     "iopub.status.busy": "2024-04-02T14:32:36.529568Z",
     "iopub.status.idle": "2024-04-02T14:32:36.537857Z",
     "shell.execute_reply": "2024-04-02T14:32:36.537219Z"
    },
    "lines_to_next_cell": 1,
    "papermill": {
     "duration": 0.031367,
     "end_time": "2024-04-02T14:32:36.539452",
     "exception": false,
     "start_time": "2024-04-02T14:32:36.508085",
     "status": "completed"
    },
    "tags": []
   },
   "outputs": [],
   "source": [
    "class Solution:\n",
    "    def splitArray(self, nums: list[int], k: int) -> int:\n",
    "        N = len(nums)\n",
    "\n",
    "        def countSplits(max_: int) -> bool:\n",
    "            \"\"\"\n",
    "            Greedily assign as much as possible to each guy before moving forward.\n",
    "            Same logic as the problem above. Remember only applicable for contigous\n",
    "            array slices: subarrays, splits, etc.\n",
    "            \"\"\"\n",
    "            n_splits, sum_ = 1, 0\n",
    "            for i in range(N):\n",
    "                if sum_ + nums[i] <= max_:\n",
    "                    sum_ += nums[i]\n",
    "                else:\n",
    "                    n_splits, sum_ = n_splits + 1, nums[i]\n",
    "\n",
    "            return n_splits <= k\n",
    "\n",
    "        if k > N:\n",
    "            return -1\n",
    "        else:\n",
    "            low, high = max(nums), sum(nums)\n",
    "            while low <= high:\n",
    "                mid = (low + high) // 2\n",
    "                if countSplits(mid):\n",
    "                    high = mid - 1\n",
    "                else:\n",
    "                    low = mid + 1\n",
    "\n",
    "            return low\n",
    "\n",
    "# Testing the solution\n",
    "assert Solution().splitArray([7,2,5,10,8], 2) == 18\n",
    "assert Solution().splitArray([1, 2, 3, 4, 5], 2) == 9"
   ]
  },
  {
   "cell_type": "markdown",
   "id": "b17280b3",
   "metadata": {
    "papermill": {
     "duration": 0.02067,
     "end_time": "2024-04-02T14:32:36.581288",
     "exception": false,
     "start_time": "2024-04-02T14:32:36.560618",
     "status": "completed"
    },
    "tags": []
   },
   "source": [
    "Video link: https://www.youtube.com/watch?v=kMSBvlZ-_HA&list=PLgUwDviBIf0oF6QL8m22w1hIDC1vJ_BHz&index=64"
   ]
  },
  {
   "cell_type": "code",
   "execution_count": 37,
   "id": "b31b6aea",
   "metadata": {
    "execution": {
     "iopub.execute_input": "2024-04-02T14:32:36.624245Z",
     "iopub.status.busy": "2024-04-02T14:32:36.623544Z",
     "iopub.status.idle": "2024-04-02T14:32:36.632060Z",
     "shell.execute_reply": "2024-04-02T14:32:36.631394Z"
    },
    "lines_to_next_cell": 1,
    "papermill": {
     "duration": 0.03185,
     "end_time": "2024-04-02T14:32:36.633765",
     "exception": false,
     "start_time": "2024-04-02T14:32:36.601915",
     "status": "completed"
    },
    "tags": []
   },
   "outputs": [],
   "source": [
    "def minimiseMaxDistance(arr: list[int], k: float) -> float:\n",
    "\n",
    "    def check(thresh: float) -> bool:\n",
    "        \"\"\"\n",
    "        If curr_dist is > thresh, try to split just until dist = thresh\n",
    "\n",
    "        >>> curr_dist / (n + 1) == thresh\n",
    "        >>> curr_dist / thresh - 1 = n \n",
    "        \"\"\"\n",
    "\n",
    "        n_splits = 0\n",
    "        for i in range(N - 1):\n",
    "            curr_dist = arr[i + 1] - arr[i]\n",
    "            if curr_dist > thresh:\n",
    "                # Ceil without using math.ceil => -(-x // 1)\n",
    "                splits_required = -(-curr_dist // thresh) - 1\n",
    "                n_splits += int(splits_required)\n",
    "\n",
    "        return n_splits <= k\n",
    "\n",
    "    N = len(arr)\n",
    "    max_dist = 0.\n",
    "    for i in range(N - 1):\n",
    "        max_dist = max(max_dist, arr[i + 1] - arr[i])\n",
    "\n",
    "    low, high = 0., max_dist\n",
    "    while high - low > 1e-7:\n",
    "        mid = (low + high) / 2\n",
    "        if check(mid):\n",
    "            high = mid\n",
    "        else:\n",
    "            low = mid\n",
    "\n",
    "    return low\n",
    "\n",
    "# Testing the solution\n",
    "assert round(minimiseMaxDistance([1, 2, 3, 4, 5], 4), 6) == 0.5\n",
    "assert round(minimiseMaxDistance([1, 2, 5], 4), 6) == 0.75\n",
    "assert round(minimiseMaxDistance([1, 3], 2), 6) == 0.666667"
   ]
  },
  {
   "cell_type": "code",
   "execution_count": 38,
   "id": "d0e0c3f2",
   "metadata": {
    "execution": {
     "iopub.execute_input": "2024-04-02T14:32:36.676743Z",
     "iopub.status.busy": "2024-04-02T14:32:36.676096Z",
     "iopub.status.idle": "2024-04-02T14:32:36.686435Z",
     "shell.execute_reply": "2024-04-02T14:32:36.685778Z"
    },
    "lines_to_next_cell": 1,
    "papermill": {
     "duration": 0.033648,
     "end_time": "2024-04-02T14:32:36.688173",
     "exception": false,
     "start_time": "2024-04-02T14:32:36.654525",
     "status": "completed"
    },
    "tags": []
   },
   "outputs": [],
   "source": [
    "# Striver - Brute force approach (simpler)\n",
    "def minimiseMaxDistance(arr: list[int], k: int) -> float:\n",
    "    \"\"\"\n",
    "    Time - O(N^2) originally, optimized with the usage of heaps to O(N log N)\n",
    "\n",
    "    We place the k one by one. Keeping track of how many gas stations we placed\n",
    "    at each gap. If we are to place additional gas station into a gap that already\n",
    "    contains a gas station, we would remove existing gas station and place both gas\n",
    "    stations at equal distances.\n",
    "\n",
    "    [1, _, 2], 1 => [1, 1.5, 2]\n",
    "    [1, _, 2], 2 => [1, 1.3, 1.6, 2]\n",
    "    [1, _, 2], 3 => [1, 1.25, 1.5, 1.75, 2]\n",
    "\n",
    "    \"\"\"\n",
    "\n",
    "    class Node:\n",
    "        def __init__(self, dist: int, placed: int = 0):\n",
    "            self.dist = dist\n",
    "            self.placed = placed\n",
    "            self.compute_gap()\n",
    "\n",
    "        def compute_gap(self):\n",
    "            self.gap = - self.dist / (self.placed + 1)\n",
    "\n",
    "        def increment_placed(self):\n",
    "            self.placed += 1\n",
    "            self.compute_gap()\n",
    "\n",
    "        def __repr__(self):\n",
    "            return f'{self.dist}/{self.placed}:{self.gap}'\n",
    "\n",
    "        def __lt__(self, other: 'Node'):\n",
    "            return self.gap < other.gap\n",
    "\n",
    "    N = len(arr)\n",
    "    nodes: list[Node] = []\n",
    "    for i in range(N - 1):\n",
    "        nodes.append(Node(dist=arr[i + 1] - arr[i], placed=0))\n",
    "\n",
    "    # Convert into max heap\n",
    "    heapq.heapify(nodes)\n",
    "\n",
    "    for i in range(k):\n",
    "        # Find the max distance and try to minimize it\n",
    "        max_node = heapq.heappop(nodes)\n",
    "        max_node.increment_placed()\n",
    "        heapq.heappush(nodes, max_node)\n",
    "\n",
    "    # Compute the max distance\n",
    "    return -nodes[0].gap\n",
    "\n",
    "# Testing the solution\n",
    "assert round(minimiseMaxDistance([1, 2, 3, 4, 5], 4), 6) == 0.5\n",
    "assert round(minimiseMaxDistance([1, 2, 5], 4), 6) == 0.75\n",
    "assert round(minimiseMaxDistance([1, 3], 2), 6) == 0.666667"
   ]
  },
  {
   "cell_type": "markdown",
   "id": "355b5a37",
   "metadata": {
    "papermill": {
     "duration": 0.020635,
     "end_time": "2024-04-02T14:32:36.729794",
     "exception": false,
     "start_time": "2024-04-02T14:32:36.709159",
     "status": "completed"
    },
    "tags": []
   },
   "source": [
    "Video link: https://www.youtube.com/watch?v=C2rRzz-JDk8&list=PLgUwDviBIf0oF6QL8m22w1hIDC1vJ_BHz&index=65\n",
    "Median of two sorted ararys"
   ]
  },
  {
   "cell_type": "code",
   "execution_count": 39,
   "id": "f6508851",
   "metadata": {
    "execution": {
     "iopub.execute_input": "2024-04-02T14:32:36.772533Z",
     "iopub.status.busy": "2024-04-02T14:32:36.772031Z",
     "iopub.status.idle": "2024-04-02T14:32:36.779734Z",
     "shell.execute_reply": "2024-04-02T14:32:36.779050Z"
    },
    "lines_to_next_cell": 1,
    "papermill": {
     "duration": 0.031106,
     "end_time": "2024-04-02T14:32:36.781461",
     "exception": false,
     "start_time": "2024-04-02T14:32:36.750355",
     "status": "completed"
    },
    "tags": []
   },
   "outputs": [],
   "source": [
    "# Brute force solution: Time, Space: O(M + N)\n",
    "class Solution:\n",
    "    def findMedianSortedArrays(self, nums1: list[int], nums2: list[int]) -> float:\n",
    "        # Merge both arrays in sorted order \n",
    "        N1, N2 = len(nums1), len(nums2)\n",
    "        N = N1 + N2\n",
    "        i = j = 0\n",
    "        nums: list[int] = []\n",
    "        while i < N1 or j < N2:\n",
    "            if j == N2 or (i < N1 and nums1[i] < nums2[j]):\n",
    "                nums.append(nums1[i])\n",
    "                i += 1\n",
    "            else:\n",
    "                nums.append(nums2[j])\n",
    "                j += 1\n",
    "\n",
    "        # Return median\n",
    "        mid = -(-N // 2) # Ceil of the number\n",
    "        if N % 2 == 0:\n",
    "            return (nums[mid - 1] + nums[mid]) / 2\n",
    "        else:\n",
    "            return nums[mid - 1]\n",
    "\n",
    "# Testing the solution\n",
    "assert Solution().findMedianSortedArrays([1, 3], [2]) == 2\n",
    "assert Solution().findMedianSortedArrays([1, 2], [3, 4]) == 2.5"
   ]
  },
  {
   "cell_type": "code",
   "execution_count": 40,
   "id": "612f92c2",
   "metadata": {
    "execution": {
     "iopub.execute_input": "2024-04-02T14:32:36.824419Z",
     "iopub.status.busy": "2024-04-02T14:32:36.823900Z",
     "iopub.status.idle": "2024-04-02T14:32:36.832014Z",
     "shell.execute_reply": "2024-04-02T14:32:36.831340Z"
    },
    "lines_to_next_cell": 1,
    "papermill": {
     "duration": 0.031571,
     "end_time": "2024-04-02T14:32:36.833878",
     "exception": false,
     "start_time": "2024-04-02T14:32:36.802307",
     "status": "completed"
    },
    "tags": []
   },
   "outputs": [],
   "source": [
    "# Better solution: Time: O(M + N), Space: O(1)\n",
    "class Solution:\n",
    "    def findMedianSortedArrays(self, nums1: list[int], nums2: list[int]) -> float:\n",
    "        N1, N2 = len(nums1), len(nums2)\n",
    "        N = N1 + N2\n",
    "        curr_idx = i = j = 0\n",
    "\n",
    "        # Left, Right based on N\n",
    "        mid = -(-N // 2) # Ceil of the number\n",
    "        if N % 2 == 0:\n",
    "            left_idx, right_idx = mid - 1, mid\n",
    "        else:\n",
    "            left_idx = right_idx = mid - 1\n",
    "\n",
    "        while i < N1 or j < N2:\n",
    "            if (j == N2) or (i < N1 and nums1[i] < nums2[j]):\n",
    "                curr = nums1[i]\n",
    "                i += 1\n",
    "            else:\n",
    "                curr = nums2[j]\n",
    "                j += 1\n",
    "            if curr_idx == left_idx:\n",
    "                left = curr\n",
    "            if curr_idx == right_idx:\n",
    "                right = curr\n",
    "                break\n",
    "\n",
    "            curr_idx += 1\n",
    "\n",
    "        return (left + right) / 2\n",
    "\n",
    "# Testing the solution\n",
    "assert Solution().findMedianSortedArrays([1, 3], [2]) == 2\n",
    "assert Solution().findMedianSortedArrays([1, 2], [3, 4]) == 2.5"
   ]
  },
  {
   "cell_type": "code",
   "execution_count": 41,
   "id": "0daf9188",
   "metadata": {
    "execution": {
     "iopub.execute_input": "2024-04-02T14:32:36.877713Z",
     "iopub.status.busy": "2024-04-02T14:32:36.876978Z",
     "iopub.status.idle": "2024-04-02T14:32:36.889986Z",
     "shell.execute_reply": "2024-04-02T14:32:36.889199Z"
    },
    "lines_to_next_cell": 1,
    "papermill": {
     "duration": 0.036654,
     "end_time": "2024-04-02T14:32:36.891718",
     "exception": false,
     "start_time": "2024-04-02T14:32:36.855064",
     "status": "completed"
    },
    "tags": []
   },
   "outputs": [],
   "source": [
    "# Better solution, Time - O(log N * log N)\n",
    "class Solution:\n",
    "    @staticmethod\n",
    "    def find_boundary_indices(target: int, arr: list[int], N: int) -> tuple[int, int]:\n",
    "        low, high = 0, N - 1\n",
    "        while low <= high:\n",
    "            mid = (low + high) // 2\n",
    "            if arr[mid] >= target:\n",
    "                high = mid - 1\n",
    "            else:\n",
    "                low = mid + 1\n",
    "\n",
    "        GTE_IDX = low\n",
    "\n",
    "        # Upper bound Binary (Striver's approach)\n",
    "        low, high = 0, N - 1\n",
    "        while low <= high:\n",
    "            mid = (low + high) // 2\n",
    "            if arr[mid] > target:\n",
    "                high = mid - 1\n",
    "            else:\n",
    "                low = mid + 1\n",
    "\n",
    "        LTE_IDX = low\n",
    "\n",
    "        return LTE_IDX, GTE_IDX\n",
    "\n",
    "    def findMedianSortedArrays(self, nums1: list[float], nums2: list[float]) -> float:\n",
    "        N1, N2 = len(nums1), len(nums2)\n",
    "        low, high = min(nums1[0], nums2[0]), max(nums1[-1], nums2[-1])\n",
    "        while low < high:\n",
    "            mid = (low + high) / 2\n",
    "            lte_idx1, gte_idx1 = Solution.find_boundary_indices(mid, nums1, N1)\n",
    "            lte_idx2, gte_idx2 = Solution.find_boundary_indices(mid, nums2, N2)\n",
    "            lte = lte_idx1 + lte_idx2\n",
    "            gte = N1 - gte_idx1 + N2 - gte_idx2\n",
    "            if lte == gte:\n",
    "                low = high = mid\n",
    "            elif lte < gte:\n",
    "                low = -(-mid // 1)\n",
    "            else:\n",
    "                high = mid // 1\n",
    "\n",
    "        lte_idx1, gte_idx1 = Solution.find_boundary_indices(low, nums1, N1)\n",
    "        lte_idx2, gte_idx2 = Solution.find_boundary_indices(low, nums2, N2)\n",
    "\n",
    "        lte = max(nums1[lte_idx1 - 1] if lte_idx1 > 0 else -math.inf, nums2[lte_idx2 - 1] if lte_idx2 > 0 else -math.inf)\n",
    "        gte = min(nums1[gte_idx1] if gte_idx1 < N1 else math.inf, nums2[gte_idx2] if gte_idx2 < N2 else math.inf)\n",
    "        return (lte + gte) / 2\n",
    "\n",
    "# Testing the solution\n",
    "assert Solution().findMedianSortedArrays([1, 3], [2]) == 2\n",
    "assert Solution().findMedianSortedArrays([1, 2], [3, 4]) == 2.5"
   ]
  },
  {
   "cell_type": "code",
   "execution_count": 42,
   "id": "cf415db1",
   "metadata": {
    "execution": {
     "iopub.execute_input": "2024-04-02T14:32:36.934718Z",
     "iopub.status.busy": "2024-04-02T14:32:36.934041Z",
     "iopub.status.idle": "2024-04-02T14:32:36.943226Z",
     "shell.execute_reply": "2024-04-02T14:32:36.942599Z"
    },
    "lines_to_next_cell": 1,
    "papermill": {
     "duration": 0.032493,
     "end_time": "2024-04-02T14:32:36.944987",
     "exception": false,
     "start_time": "2024-04-02T14:32:36.912494",
     "status": "completed"
    },
    "tags": []
   },
   "outputs": [],
   "source": [
    "# Striver Optimal Solution - O(log N)\n",
    "# Video Link: https://www.youtube.com/watch?v=F9c7LpRZWVQ&list=PLgUwDviBIf0oF6QL8m22w1hIDC1vJ_BHz&index=67\n",
    "def median(nums1: list[int], nums2: list[int]) -> float:\n",
    "    N1, N2 = len(nums1), len(nums2)\n",
    "    N = N1 + N2\n",
    "\n",
    "    if N1 > N2:\n",
    "        return median(nums2, nums1)\n",
    "\n",
    "    low, high = 0, N1\n",
    "    left_len = (N1 + N2 + 1) // 2\n",
    "    while low <= high:\n",
    "        mid1 = (low + high) // 2\n",
    "        mid2 = left_len - mid1\n",
    "        l1 = nums1[mid1 - 1] if mid1 > 0 else -math.inf\n",
    "        l2 = nums2[mid2 - 1] if mid2 > 0 else -math.inf\n",
    "        r1 = nums1[mid1] if mid1 < N1 else math.inf\n",
    "        r2 = nums2[mid2] if mid2 < N2 else math.inf\n",
    "\n",
    "        if l1 <= r2 and l2 <= r1:\n",
    "            if N % 2 == 0:\n",
    "                return (max(l1, l2) + min(r1, r2)) / 2\n",
    "            else:\n",
    "                return max(l1, l2)\n",
    "\n",
    "        # Smaller array is not centered, arr1 is on the left part\n",
    "        elif l1 > r2:\n",
    "            high = mid1 - 1\n",
    "\n",
    "        # (l2 > r1) Larger array is not centered, arr2 is on the right part (arr1 is on the left part)\n",
    "        else:\n",
    "            low = mid1 + 1\n",
    "\n",
    "    return -1\n",
    "\n",
    "# Testing the solution\n",
    "assert median([1, 3], [2]) == 2\n",
    "assert median([1, 2], [3, 4]) == 2.5"
   ]
  },
  {
   "cell_type": "markdown",
   "id": "6ed3c9e0",
   "metadata": {
    "papermill": {
     "duration": 0.020704,
     "end_time": "2024-04-02T14:32:36.986894",
     "exception": false,
     "start_time": "2024-04-02T14:32:36.966190",
     "status": "completed"
    },
    "tags": []
   },
   "source": [
    "Video Link: https://www.youtube.com/watch?v=D1oDwWCq50g&list=PLgUwDviBIf0oF6QL8m22w1hIDC1vJ_BHz&index=67\n",
    "Find kth element of two sorted arrays"
   ]
  },
  {
   "cell_type": "code",
   "execution_count": 43,
   "id": "394757ce",
   "metadata": {
    "execution": {
     "iopub.execute_input": "2024-04-02T14:32:37.031231Z",
     "iopub.status.busy": "2024-04-02T14:32:37.030704Z",
     "iopub.status.idle": "2024-04-02T14:32:37.037878Z",
     "shell.execute_reply": "2024-04-02T14:32:37.037167Z"
    },
    "lines_to_next_cell": 1,
    "papermill": {
     "duration": 0.031869,
     "end_time": "2024-04-02T14:32:37.039551",
     "exception": false,
     "start_time": "2024-04-02T14:32:37.007682",
     "status": "completed"
    },
    "tags": []
   },
   "outputs": [],
   "source": [
    "# Brute force - Time: O(M + N), Space: O(1)\n",
    "def kthElement_brute(arr1: list[int], N1: int, arr2: list[int], N2: int, k: int) -> int:\n",
    "    i = j = 0\n",
    "    while i < N1 or j < N2:\n",
    "        if j == N2 or (i < N1 and arr1[i] <= arr2[j]):\n",
    "            curr = arr1[i]\n",
    "            i += 1\n",
    "        else:\n",
    "            curr = arr2[j]\n",
    "            j += 1\n",
    "\n",
    "        k -= 1\n",
    "        if k == 0:\n",
    "            return curr\n",
    "\n",
    "    else:\n",
    "        return -1\n",
    "\n",
    "# Testing the solution\n",
    "assert kthElement_brute([2, 3, 45], 3, [4, 6, 7, 8], 4, 4) == 6\n",
    "assert kthElement_brute([1, 2, 3, 5, 6], 5, [4, 7, 8, 9, 100], 5, 6) == 6"
   ]
  },
  {
   "cell_type": "code",
   "execution_count": 44,
   "id": "633de9ca",
   "metadata": {
    "execution": {
     "iopub.execute_input": "2024-04-02T14:32:37.082566Z",
     "iopub.status.busy": "2024-04-02T14:32:37.081881Z",
     "iopub.status.idle": "2024-04-02T14:32:37.090924Z",
     "shell.execute_reply": "2024-04-02T14:32:37.090263Z"
    },
    "lines_to_next_cell": 1,
    "papermill": {
     "duration": 0.032249,
     "end_time": "2024-04-02T14:32:37.092620",
     "exception": false,
     "start_time": "2024-04-02T14:32:37.060371",
     "status": "completed"
    },
    "tags": []
   },
   "outputs": [],
   "source": [
    "def kthElement(arr1: list[int], N1: int, arr2: list[int], N2: int, k: int) -> float:\n",
    "    N1, N2 = len(arr1), len(arr2)\n",
    "    N = N1 + N2\n",
    "\n",
    "    if N1 > N2:\n",
    "        return kthElement(arr2, N2, arr1, N1, k)\n",
    "\n",
    "    left_length = k\n",
    "    low, high = max(0, k - N2), min(N1, k)\n",
    "    while low <= high:\n",
    "        mid1 = (low + high + 1) // 2\n",
    "        mid2 = left_length - mid1\n",
    "        l1 = arr1[mid1 - 1] if mid1 > 0 else -math.inf\n",
    "        l2 = arr2[mid2 - 1] if mid2 > 0 else -math.inf\n",
    "        r1 = arr1[mid1] if mid1 < N1 else math.inf\n",
    "        r2 = arr2[mid2] if mid2 < N2 else math.inf\n",
    "\n",
    "        if l1 <= r2 and l2 <= r1:\n",
    "            return max(l1, l2)\n",
    "        elif l1 > r2:\n",
    "            high = mid1 - 1\n",
    "        else: # l2 > r1\n",
    "            low = mid1 + 1\n",
    "\n",
    "    else:\n",
    "        return -1\n",
    "\n",
    "# Testing the solution\n",
    "assert kthElement([2, 3, 45], 3, [4, 6, 7, 8], 4, 4) == 6\n",
    "assert kthElement([1, 2, 3, 5, 6], 5, [4, 7, 8, 9, 100], 5, 6) == 6"
   ]
  },
  {
   "cell_type": "markdown",
   "id": "dfcc5868",
   "metadata": {
    "papermill": {
     "duration": 0.020477,
     "end_time": "2024-04-02T14:32:37.133858",
     "exception": false,
     "start_time": "2024-04-02T14:32:37.113381",
     "status": "completed"
    },
    "tags": []
   },
   "source": [
    "Video Link: https://www.youtube.com/watch?v=SCz-1TtYxDI&list=PLgUwDviBIf0oF6QL8m22w1hIDC1vJ_BHz&index=68\n",
    "Row with maximum number of 1s"
   ]
  },
  {
   "cell_type": "code",
   "execution_count": 45,
   "id": "16ce254c",
   "metadata": {
    "execution": {
     "iopub.execute_input": "2024-04-02T14:32:37.177052Z",
     "iopub.status.busy": "2024-04-02T14:32:37.176321Z",
     "iopub.status.idle": "2024-04-02T14:32:37.184104Z",
     "shell.execute_reply": "2024-04-02T14:32:37.183351Z"
    },
    "lines_to_next_cell": 1,
    "papermill": {
     "duration": 0.031199,
     "end_time": "2024-04-02T14:32:37.185896",
     "exception": false,
     "start_time": "2024-04-02T14:32:37.154697",
     "status": "completed"
    },
    "tags": []
   },
   "outputs": [],
   "source": [
    "# Time complexity: O(n * log m)\n",
    "def rowWithMax1s(matrix: list[list[int]], n: int, m: int) -> int:\n",
    "    def count1s(row_idx: int) -> int:\n",
    "        low, high = 0, m - 1\n",
    "        while low <= high:\n",
    "            mid = (low + high) // 2\n",
    "            if matrix[row_idx][mid] == 1:\n",
    "                high = mid - 1\n",
    "            else:\n",
    "                low = mid + 1\n",
    "\n",
    "        return m - low\n",
    "\n",
    "    # Row Idx, Count\n",
    "    max_ = -1, 0\n",
    "    for i in range(n):\n",
    "        curr_count = count1s(i)\n",
    "        if curr_count > max_[1]:\n",
    "            max_ = i, curr_count\n",
    "\n",
    "    return max_[0]\n",
    "\n",
    "# Testing the solution\n",
    "assert rowWithMax1s([[0], [0]], 2, 1) == -1\n",
    "assert rowWithMax1s([[1, 1], [1, 1]], 2, 2) == 0\n",
    "assert rowWithMax1s([[1, 1, 1], [0, 0, 1], [0, 0, 0]], 3, 3) == 0"
   ]
  },
  {
   "cell_type": "markdown",
   "id": "749c2af1",
   "metadata": {
    "papermill": {
     "duration": 0.020782,
     "end_time": "2024-04-02T14:32:37.227588",
     "exception": false,
     "start_time": "2024-04-02T14:32:37.206806",
     "status": "completed"
    },
    "tags": []
   },
   "source": [
    "Video Link: https://www.youtube.com/watch?v=JXU4Akft7yk&list=PLgUwDviBIf0oF6QL8m22w1hIDC1vJ_BHz&index=69\n",
    "Problem: Search in a 2D Matrix\n",
    "Leetcode Link: https://leetcode.com/problems/search-a-2d-matrix/submissions/1219630053"
   ]
  },
  {
   "cell_type": "code",
   "execution_count": 46,
   "id": "2ffd05c3",
   "metadata": {
    "execution": {
     "iopub.execute_input": "2024-04-02T14:32:37.270831Z",
     "iopub.status.busy": "2024-04-02T14:32:37.270146Z",
     "iopub.status.idle": "2024-04-02T14:32:37.275560Z",
     "shell.execute_reply": "2024-04-02T14:32:37.274808Z"
    },
    "lines_to_next_cell": 1,
    "papermill": {
     "duration": 0.028823,
     "end_time": "2024-04-02T14:32:37.277266",
     "exception": false,
     "start_time": "2024-04-02T14:32:37.248443",
     "status": "completed"
    },
    "tags": []
   },
   "outputs": [],
   "source": [
    "# Brute force Solution, Time: O(M * N)\n",
    "def searchMatrix_brute(matrix: list[list[int]], target: int) -> bool:\n",
    "    M = len(matrix)\n",
    "    N = len(matrix[0])\n",
    "    for i in range(M):\n",
    "        for j in range(N):\n",
    "            if matrix[i][j] == target:\n",
    "                return True\n",
    "    return False"
   ]
  },
  {
   "cell_type": "code",
   "execution_count": 47,
   "id": "f2e9197e",
   "metadata": {
    "execution": {
     "iopub.execute_input": "2024-04-02T14:32:37.320402Z",
     "iopub.status.busy": "2024-04-02T14:32:37.319846Z",
     "iopub.status.idle": "2024-04-02T14:32:37.336421Z",
     "shell.execute_reply": "2024-04-02T14:32:37.335685Z"
    },
    "lines_to_next_cell": 1,
    "papermill": {
     "duration": 0.039762,
     "end_time": "2024-04-02T14:32:37.338101",
     "exception": false,
     "start_time": "2024-04-02T14:32:37.298339",
     "status": "completed"
    },
    "tags": []
   },
   "outputs": [
    {
     "name": "stderr",
     "output_type": "stream",
     "text": [
      "\r",
      "  0%|          | 0/100 [00:00<?, ?it/s]"
     ]
    },
    {
     "name": "stderr",
     "output_type": "stream",
     "text": [
      "\r",
      "100%|██████████| 100/100 [00:00<00:00, 31595.51it/s]"
     ]
    },
    {
     "name": "stderr",
     "output_type": "stream",
     "text": [
      "\n"
     ]
    }
   ],
   "source": [
    "# Optimal Solution, Time: O(log M + log N) = O(log MN)\n",
    "def searchMatrix(matrix: list[list[int]], target: int) -> bool:\n",
    "    M = len(matrix)\n",
    "    N = len(matrix[0])\n",
    "\n",
    "    row_low, row_high = 0, M - 1\n",
    "    while row_low <= row_high:\n",
    "        row_mid = (row_low + row_high) // 2\n",
    "\n",
    "        # Check if present in this row\n",
    "        if matrix[row_mid][0] <= target <= matrix[row_mid][N - 1]:\n",
    "\n",
    "            # Binary search inside to find the column idx\n",
    "            col_low, col_high = 0, N - 1\n",
    "            while col_low <= col_high:\n",
    "                col_mid = (col_low + col_high) // 2\n",
    "                if matrix[row_mid][col_mid] == target:\n",
    "                    return True\n",
    "                elif matrix[row_mid][col_mid] < target:\n",
    "                    col_low = col_mid + 1\n",
    "                else:\n",
    "                    col_high = col_mid - 1\n",
    "            else:\n",
    "                return False\n",
    "\n",
    "        # If row[0] > target, search for row before curr\n",
    "        elif matrix[row_mid][0] > target:\n",
    "            row_high = row_mid - 1\n",
    "\n",
    "        # If row[-1] < target, search for row after curr\n",
    "        else:\n",
    "            row_low = row_mid + 1\n",
    "\n",
    "    else:\n",
    "        return False\n",
    "\n",
    "# Create a simple generator that returns random numbers in order\n",
    "def generate_random_range() -> typing.Generator[int, bool, None]:\n",
    "    \"Can be reset by sending in a `True` value\"\n",
    "    i = 0\n",
    "    while True:\n",
    "        if random.random() > 0.5:\n",
    "            reset = yield i\n",
    "            if reset:\n",
    "                yield True\n",
    "                i = -1\n",
    "        i += 1\n",
    "\n",
    "# Testing the solution\n",
    "rand_gen = generate_random_range()\n",
    "for i in tqdm.tqdm(range(100)):\n",
    "\n",
    "    temp: tuple[list[list[int]], int] = [[next(rand_gen) for j in range(5)] for i in range(5)], random.randint(1, 100)\n",
    "    assert searchMatrix(temp[0], temp[1]) == searchMatrix_brute(temp[0], temp[1])\n",
    "\n",
    "    # Reset the random number generator\n",
    "    rand_gen.send(True)"
   ]
  },
  {
   "cell_type": "code",
   "execution_count": 48,
   "id": "cb866bec",
   "metadata": {
    "execution": {
     "iopub.execute_input": "2024-04-02T14:32:37.382051Z",
     "iopub.status.busy": "2024-04-02T14:32:37.381447Z",
     "iopub.status.idle": "2024-04-02T14:32:37.394174Z",
     "shell.execute_reply": "2024-04-02T14:32:37.393425Z"
    },
    "lines_to_next_cell": 1,
    "papermill": {
     "duration": 0.036359,
     "end_time": "2024-04-02T14:32:37.395813",
     "exception": false,
     "start_time": "2024-04-02T14:32:37.359454",
     "status": "completed"
    },
    "tags": []
   },
   "outputs": [
    {
     "name": "stderr",
     "output_type": "stream",
     "text": [
      "\r",
      "  0%|          | 0/100 [00:00<?, ?it/s]"
     ]
    },
    {
     "name": "stderr",
     "output_type": "stream",
     "text": [
      "\r",
      "100%|██████████| 100/100 [00:00<00:00, 42586.09it/s]"
     ]
    },
    {
     "name": "stderr",
     "output_type": "stream",
     "text": [
      "\n"
     ]
    }
   ],
   "source": [
    "# Striverr Optimal Solution, Time: O(log MN)\n",
    "def searchMatrix_striverr(matrix: list[list[int]], target: int) -> bool:\n",
    "    \"Idea is flatten the matrix into 1D conceptually and perform binary search\"\n",
    "    M, N = len(matrix), len(matrix[0])\n",
    "\n",
    "    low, high = 0, M * N - 1\n",
    "    while low <= high:\n",
    "        mid = (low + high) // 2\n",
    "        row, col = mid // M, mid % N\n",
    "        if matrix[row][col] == target:\n",
    "            return True\n",
    "        elif matrix[row][col] < target:\n",
    "            low = mid + 1\n",
    "        else:\n",
    "            high = mid - 1\n",
    "\n",
    "    return False\n",
    "\n",
    "# Testing the solution\n",
    "for i in tqdm.tqdm(range(100)):\n",
    "    temp: tuple[list[list[int]], int] = [[next(rand_gen) for j in range(5)] for i in range(5)], random.randint(1, 100) \n",
    "    assert searchMatrix_striverr(temp[0], temp[1]) == searchMatrix(temp[0], temp[1])\n",
    "    rand_gen.send(True)"
   ]
  },
  {
   "cell_type": "markdown",
   "id": "95c1c00b",
   "metadata": {
    "papermill": {
     "duration": 0.021203,
     "end_time": "2024-04-02T14:32:37.438874",
     "exception": false,
     "start_time": "2024-04-02T14:32:37.417671",
     "status": "completed"
    },
    "tags": []
   },
   "source": [
    "Video Link: https://www.youtube.com/watch?v=9ZbB397jU4k&list=PLgUwDviBIf0oF6QL8m22w1hIDC1vJ_BHz&index=71\n",
    "Search in 2D matrix - II\n",
    "Problem Link: https://leetcode.com/problems/search-a-2d-matrix-ii/submissions/1220185663"
   ]
  },
  {
   "cell_type": "code",
   "execution_count": 49,
   "id": "d4f067da",
   "metadata": {
    "execution": {
     "iopub.execute_input": "2024-04-02T14:32:37.483127Z",
     "iopub.status.busy": "2024-04-02T14:32:37.482550Z",
     "iopub.status.idle": "2024-04-02T14:32:37.528475Z",
     "shell.execute_reply": "2024-04-02T14:32:37.527648Z"
    },
    "lines_to_next_cell": 1,
    "papermill": {
     "duration": 0.069916,
     "end_time": "2024-04-02T14:32:37.530202",
     "exception": false,
     "start_time": "2024-04-02T14:32:37.460286",
     "status": "completed"
    },
    "tags": []
   },
   "outputs": [
    {
     "name": "stderr",
     "output_type": "stream",
     "text": [
      "\r",
      "  0%|          | 0/100 [00:00<?, ?it/s]"
     ]
    },
    {
     "name": "stderr",
     "output_type": "stream",
     "text": [
      "\r",
      "100%|██████████| 100/100 [00:00<00:00, 3082.64it/s]"
     ]
    },
    {
     "name": "stderr",
     "output_type": "stream",
     "text": [
      "\n"
     ]
    }
   ],
   "source": [
    "def searchMatrix_II(matrix: list[list[int]], target: int) -> bool:\n",
    "    \"\"\"\n",
    "    1. Given two pairs, (i1, j1), (i2, j2): the 2D slice can only contain values\n",
    "    between matrix[i1][j1] <= val <= matrix[i2][j2]\n",
    "\n",
    "    2. Take max of col, row. Split into half check if number can exist inside.\n",
    "    If number can exist, recurse - searchFirst || searchSecond. Else don't check inside range.\n",
    "    \"\"\"\n",
    "    def is_present(i1: int, j1: int, i2: int, j2: int) -> bool:\n",
    "        return i1 <= i2 and j1 <= j2 and (matrix[i1][j1] <= target <= matrix[i2][j2])\n",
    "\n",
    "    def binary_search(i1: int, j1: int, i2: int, j2: int):\n",
    "        if is_present(i1, j1, i2, j2):\n",
    "\n",
    "            if i1 == i2 and j1 == j2:\n",
    "                return matrix[i1][j1] == target\n",
    "\n",
    "            # Row length >= col length\n",
    "            if i2 - i1 >= j2 - j1:\n",
    "                mid = (i1 + i2) // 2\n",
    "                recurse_ = binary_search(i1, j1, mid, j2) or binary_search(mid + 1, j1, i2, j2)\n",
    "            else:\n",
    "                mid = (j1 + j2) // 2\n",
    "                recurse_ = binary_search(i1, j1, i2, mid) or binary_search(i1, mid + 1, i2, j2)\n",
    "\n",
    "            return recurse_\n",
    "\n",
    "        else:\n",
    "            return False\n",
    "\n",
    "    M, N = len(matrix), len(matrix[0])\n",
    "    return binary_search(0, 0, M - 1, N - 1)\n",
    "\n",
    "for i in tqdm.tqdm(range(100)):\n",
    "    temp = np.random.randint(1, 1000, size=(30, 30)), random.randint(1, 1000)\n",
    "    temp[0].sort(axis=1)\n",
    "    temp[0].sort(axis=0)\n",
    "    assert searchMatrix_brute(temp[0], temp[1]) == searchMatrix_II(temp[0], temp[1])"
   ]
  },
  {
   "cell_type": "code",
   "execution_count": 50,
   "id": "f019b7cc",
   "metadata": {
    "execution": {
     "iopub.execute_input": "2024-04-02T14:32:37.575070Z",
     "iopub.status.busy": "2024-04-02T14:32:37.574436Z",
     "iopub.status.idle": "2024-04-02T14:32:37.601379Z",
     "shell.execute_reply": "2024-04-02T14:32:37.600549Z"
    },
    "lines_to_next_cell": 1,
    "papermill": {
     "duration": 0.051037,
     "end_time": "2024-04-02T14:32:37.603064",
     "exception": false,
     "start_time": "2024-04-02T14:32:37.552027",
     "status": "completed"
    },
    "tags": []
   },
   "outputs": [
    {
     "name": "stderr",
     "output_type": "stream",
     "text": [
      "\r",
      "  0%|          | 0/100 [00:00<?, ?it/s]"
     ]
    },
    {
     "name": "stderr",
     "output_type": "stream",
     "text": [
      "\r",
      "100%|██████████| 100/100 [00:00<00:00, 5983.91it/s]"
     ]
    },
    {
     "name": "stderr",
     "output_type": "stream",
     "text": [
      "\n"
     ]
    }
   ],
   "source": [
    "# Striver Optimal Solution\n",
    "# Time - O(M + N)\n",
    "def searchMatrix_II_striverr(matrix: list[list[int]], target: int) -> bool:\n",
    "    M, N = len(matrix), len(matrix[0])\n",
    "    col, row = N - 1, 0\n",
    "    while row < M and col >= 0:\n",
    "        curr = matrix[row][col]\n",
    "        if  curr == target:\n",
    "            return True\n",
    "        elif target < curr:\n",
    "            col -= 1\n",
    "        else:\n",
    "            row += 1\n",
    "    return False\n",
    "\n",
    "# Testing the solution\n",
    "for i in tqdm.tqdm(range(100)):\n",
    "    temp = np.random.randint(1, 1000, size=(30, 30)), random.randint(1, 1000)\n",
    "    temp[0].sort(axis=1)\n",
    "    temp[0].sort(axis=0)\n",
    "    assert searchMatrix_II(temp[0], temp[1]) == searchMatrix_II_striverr(temp[0], temp[1])"
   ]
  },
  {
   "cell_type": "markdown",
   "id": "a54162f0",
   "metadata": {
    "papermill": {
     "duration": 0.021598,
     "end_time": "2024-04-02T14:32:37.646909",
     "exception": false,
     "start_time": "2024-04-02T14:32:37.625311",
     "status": "completed"
    },
    "tags": []
   },
   "source": [
    "Video Link: https://www.youtube.com/watch?v=nGGp5XBzC4g&list=PLgUwDviBIf0oF6QL8m22w1hIDC1vJ_BHz&index=71\n",
    "Find Peak Element - II"
   ]
  },
  {
   "cell_type": "code",
   "execution_count": 51,
   "id": "0cbfa572",
   "metadata": {
    "execution": {
     "iopub.execute_input": "2024-04-02T14:32:37.691845Z",
     "iopub.status.busy": "2024-04-02T14:32:37.691139Z",
     "iopub.status.idle": "2024-04-02T14:32:37.701420Z",
     "shell.execute_reply": "2024-04-02T14:32:37.700778Z"
    },
    "lines_to_next_cell": 1,
    "papermill": {
     "duration": 0.034405,
     "end_time": "2024-04-02T14:32:37.703009",
     "exception": false,
     "start_time": "2024-04-02T14:32:37.668604",
     "status": "completed"
    },
    "tags": []
   },
   "outputs": [],
   "source": [
    "# Time Complexity - O(M + N), Space Complexity - O(M + N)\n",
    "# https://leetcode.com/problems/find-a-peak-element-ii/submissions/1220609319\n",
    "def findPeakGrid(mat: list[list[int]]) -> tuple[int, int]:\n",
    "    def getPeak(i: int, j: int) -> tuple[int, int]:\n",
    "        peak = i, j\n",
    "        if j > 0 and mat[i][j - 1] > mat[peak[0]][peak[1]]:\n",
    "            peak = i, j - 1\n",
    "        if j < N - 1 and mat[i][j + 1] > mat[peak[0]][peak[1]]:\n",
    "            peak = i, j + 1\n",
    "        if i > 0 and mat[i - 1][j] > mat[peak[0]][peak[1]]:\n",
    "            peak = i - 1, j\n",
    "        if i < M - 1 and mat[i + 1][j] > mat[peak[0]][peak[1]]:\n",
    "            peak = i + 1, j\n",
    "        return peak\n",
    "\n",
    "    M, N = len(mat), len(mat[0])\n",
    "    i, j = 0, 0\n",
    "    while getPeak(i, j) != (i, j):\n",
    "        i, j = getPeak(i, j)\n",
    "    return i, j\n",
    "\n",
    "# Testing the solution\n",
    "assert findPeakGrid([[10,20,15],[21,30,14],[7,16,32]]) in ((1, 1), (2, 2))\n",
    "assert findPeakGrid([[1,4],[3,2]]) in ((0, 1), (1, 0))\n",
    "assert findPeakGrid([[7,2,3,1,2],[6,5,4,2,1]]) in ((0, 0),)"
   ]
  },
  {
   "cell_type": "code",
   "execution_count": 52,
   "id": "529479ab",
   "metadata": {
    "execution": {
     "iopub.execute_input": "2024-04-02T14:32:37.748359Z",
     "iopub.status.busy": "2024-04-02T14:32:37.747646Z",
     "iopub.status.idle": "2024-04-02T14:32:37.756985Z",
     "shell.execute_reply": "2024-04-02T14:32:37.756305Z"
    },
    "lines_to_next_cell": 1,
    "papermill": {
     "duration": 0.033717,
     "end_time": "2024-04-02T14:32:37.758591",
     "exception": false,
     "start_time": "2024-04-02T14:32:37.724874",
     "status": "completed"
    },
    "tags": []
   },
   "outputs": [],
   "source": [
    "# Reduced Time Complexity: O(N log M)\n",
    "# https://leetcode.com/problems/find-a-peak-element-ii/submissions/1220636332/\n",
    "def findPeakGrid(mat: list[list[int]]) -> tuple[int, int]:\n",
    "    M, N = len(mat), len(mat[0])\n",
    "    low, high = 0, M - 1\n",
    "    while low <= high:\n",
    "        middle_row = (low + high) // 2\n",
    "        max_col = 0\n",
    "        for i in range(1, N):\n",
    "            if mat[middle_row][i] > mat[middle_row][max_col]:\n",
    "                max_col = i\n",
    "\n",
    "        top = mat[middle_row - 1][max_col] if middle_row - 1 >= 0 else -math.inf\n",
    "        bottom = mat[middle_row + 1][max_col] if middle_row + 1 < M else -math.inf\n",
    "        curr = mat[middle_row][max_col]\n",
    "        if top < curr > bottom:\n",
    "            return middle_row, max_col\n",
    "        elif top > curr:\n",
    "            high = middle_row - 1\n",
    "        else:\n",
    "            low = middle_row + 1\n",
    "\n",
    "    return -1, -1\n",
    "\n",
    "# Testing the solution\n",
    "assert findPeakGrid([[10,20,15],[21,30,14],[7,16,32]]) in ((1, 1), (2, 2))\n",
    "assert findPeakGrid([[1,4],[3,2]]) in ((0, 1), (1, 0))\n",
    "assert findPeakGrid([[7,2,3,1,2],[6,5,4,2,1]]) in ((0, 0),)"
   ]
  },
  {
   "cell_type": "markdown",
   "id": "d90f55f6",
   "metadata": {
    "papermill": {
     "duration": 0.021728,
     "end_time": "2024-04-02T14:32:37.802342",
     "exception": false,
     "start_time": "2024-04-02T14:32:37.780614",
     "status": "completed"
    },
    "tags": []
   },
   "source": [
    "Video Link: https://youtu.be/Q9wXgdxJq48?si=AvyxHYbdotetHALU\n",
    "https://www.naukri.com/code360/problems/median-of-a-row-wise-sorted-matrix_1115473"
   ]
  },
  {
   "cell_type": "code",
   "execution_count": 53,
   "id": "cb475dc7",
   "metadata": {
    "execution": {
     "iopub.execute_input": "2024-04-02T14:32:37.847255Z",
     "iopub.status.busy": "2024-04-02T14:32:37.846567Z",
     "iopub.status.idle": "2024-04-02T14:32:37.854119Z",
     "shell.execute_reply": "2024-04-02T14:32:37.853472Z"
    },
    "lines_to_next_cell": 1,
    "papermill": {
     "duration": 0.031765,
     "end_time": "2024-04-02T14:32:37.855738",
     "exception": false,
     "start_time": "2024-04-02T14:32:37.823973",
     "status": "completed"
    },
    "tags": []
   },
   "outputs": [],
   "source": [
    "# Brute force - O(M * N)\n",
    "def matrixMedian_brute(matrix: list[list[int]], M: int, N: int) -> float:\n",
    "\n",
    "    # Total count of elements\n",
    "    T = M * N\n",
    "\n",
    "    # Flatten  & sort the matrix - O(M * N) + O(M + N log (M + N))\n",
    "    flattened: list[int] = sorted([n for row in matrix for n in row])\n",
    "\n",
    "    # Return median - O(1)\n",
    "    if T % 2 == 0:\n",
    "        return (flattened[T // 2 - 1] + flattened[T // 2]) / 2\n",
    "    else:\n",
    "        return flattened[T // 2]\n",
    "\n",
    "# Testing the solution\n",
    "assert matrixMedian_brute([[1, 5, 7, 9, 11], [2, 3, 4, 8, 9], [4, 11, 14, 19, 20], [6, 10, 22, 99, 100], [7, 15, 17, 24, 28]], 5, 5) == 10\n",
    "assert matrixMedian_brute([[1, 2, 3, 4, 5], [8, 9, 11, 12, 13], [21, 23, 25, 27, 29]], 3, 5) == 11"
   ]
  },
  {
   "cell_type": "code",
   "execution_count": 54,
   "id": "3ade4ca0",
   "metadata": {
    "execution": {
     "iopub.execute_input": "2024-04-02T14:32:37.901407Z",
     "iopub.status.busy": "2024-04-02T14:32:37.900916Z",
     "iopub.status.idle": "2024-04-02T14:32:37.911980Z",
     "shell.execute_reply": "2024-04-02T14:32:37.911203Z"
    },
    "papermill": {
     "duration": 0.035939,
     "end_time": "2024-04-02T14:32:37.913626",
     "exception": false,
     "start_time": "2024-04-02T14:32:37.877687",
     "status": "completed"
    },
    "tags": []
   },
   "outputs": [],
   "source": [
    "# Better solution, O(M log (M + N))\n",
    "def matrixMedian(matrix: list[list[int]], M: int, N: int) -> float:\n",
    "\n",
    "    def count_row(row_idx: int, target: int) -> int:\n",
    "        # Upper Bound\n",
    "        low, high = 0, N - 1\n",
    "        while low <= high:\n",
    "            mid = (low + high) // 2\n",
    "            curr = matrix[row_idx][mid]\n",
    "            if curr <= target:\n",
    "                low = mid + 1\n",
    "            else:\n",
    "                high = mid - 1\n",
    "\n",
    "        return high + 1\n",
    "\n",
    "    def count_matrix(target: int) -> int:\n",
    "        count = 0\n",
    "        for row in range(M):\n",
    "            count  += count_row(row, target)\n",
    "        return count\n",
    "\n",
    "    # Total count of elements\n",
    "    T = M * N\n",
    "\n",
    "    # Find Min, Max\n",
    "    min_, max_ = matrix[0][0], matrix[0][-1]\n",
    "    for i in range(M):\n",
    "        min_ = min(min_, matrix[i][0])\n",
    "        max_ = max(max_, matrix[i][-1])\n",
    "\n",
    "    # Binary search for median\n",
    "    low, high = min_, max_\n",
    "    while low <= high:\n",
    "        mid = (low + high) // 2\n",
    "        if count_matrix(mid) > (T // 2):\n",
    "            high = mid - 1\n",
    "        else:\n",
    "            low = mid + 1\n",
    "    return low\n",
    "\n",
    "# Testing the solution\n",
    "assert matrixMedian([[1, 5, 7, 9, 11], [2, 3, 4, 8, 9], [4, 11, 14, 19, 20], [6, 10, 22, 99, 100], [7, 15, 17, 24, 28]], 5, 5) == 10\n",
    "assert matrixMedian([[1, 2, 3, 4, 5], [8, 9, 11, 12, 13], [21, 23, 25, 27, 29]], 3, 5) == 11"
   ]
  }
 ],
 "metadata": {
  "kernelspec": {
   "display_name": "Python 3 (ipykernel)",
   "language": "python",
   "name": "python3"
  },
  "language_info": {
   "codemirror_mode": {
    "name": "ipython",
    "version": 3
   },
   "file_extension": ".py",
   "mimetype": "text/x-python",
   "name": "python",
   "nbconvert_exporter": "python",
   "pygments_lexer": "ipython3",
   "version": "3.10.14"
  },
  "papermill": {
   "default_parameters": {},
   "duration": 5.531613,
   "end_time": "2024-04-02T14:32:38.152717",
   "environment_variables": {},
   "exception": null,
   "input_path": "study/striver-A2Z/09-binary-search.ipynb",
   "output_path": "study/striver-A2Z/09-binary-search.ipynb",
   "parameters": {},
   "start_time": "2024-04-02T14:32:32.621104",
   "version": "2.5.0"
  }
 },
 "nbformat": 4,
 "nbformat_minor": 5
}