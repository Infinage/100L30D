{
 "cells": [
  {
   "cell_type": "markdown",
   "id": "d1410f7f",
   "metadata": {
    "papermill": {
     "duration": 0.003891,
     "end_time": "2024-03-20T17:43:15.569023",
     "exception": false,
     "start_time": "2024-03-20T17:43:15.565132",
     "status": "completed"
    },
    "tags": []
   },
   "source": [
    "Some useful imports"
   ]
  },
  {
   "cell_type": "code",
   "execution_count": 1,
   "id": "fd0fe7ed",
   "metadata": {
    "execution": {
     "iopub.execute_input": "2024-03-20T17:43:15.577279Z",
     "iopub.status.busy": "2024-03-20T17:43:15.576788Z",
     "iopub.status.idle": "2024-03-20T17:43:15.589900Z",
     "shell.execute_reply": "2024-03-20T17:43:15.589316Z"
    },
    "lines_to_next_cell": 1,
    "papermill": {
     "duration": 0.019073,
     "end_time": "2024-03-20T17:43:15.591579",
     "exception": false,
     "start_time": "2024-03-20T17:43:15.572506",
     "status": "completed"
    },
    "tags": []
   },
   "outputs": [],
   "source": [
    "import math\n",
    "import random\n",
    "import functools\n",
    "import itertools\n",
    "import tqdm\n",
    "import pdb"
   ]
  },
  {
   "cell_type": "markdown",
   "id": "8ad30d2a",
   "metadata": {
    "papermill": {
     "duration": 0.003248,
     "end_time": "2024-03-20T17:43:15.598278",
     "exception": false,
     "start_time": "2024-03-20T17:43:15.595030",
     "status": "completed"
    },
    "tags": []
   },
   "source": [
    "Video Link: https://www.youtube.com/watch?v=MHf6awe89xw&list=PLgUwDviBIf0oF6QL8m22w1hIDC1vJ_BHz&index=45"
   ]
  },
  {
   "cell_type": "code",
   "execution_count": 2,
   "id": "0719094e",
   "metadata": {
    "execution": {
     "iopub.execute_input": "2024-03-20T17:43:15.606218Z",
     "iopub.status.busy": "2024-03-20T17:43:15.605680Z",
     "iopub.status.idle": "2024-03-20T17:43:15.610185Z",
     "shell.execute_reply": "2024-03-20T17:43:15.609341Z"
    },
    "lines_to_next_cell": 1,
    "papermill": {
     "duration": 0.010214,
     "end_time": "2024-03-20T17:43:15.611820",
     "exception": false,
     "start_time": "2024-03-20T17:43:15.601606",
     "status": "completed"
    },
    "tags": []
   },
   "outputs": [],
   "source": [
    "# Linear search\n",
    "def lsearch(arr: list[int], target: int) -> int:\n",
    "    for i in range(len(arr)):\n",
    "        if arr[i] == target:\n",
    "            return i\n",
    "    else:\n",
    "        return -1"
   ]
  },
  {
   "cell_type": "code",
   "execution_count": 3,
   "id": "328d499d",
   "metadata": {
    "execution": {
     "iopub.execute_input": "2024-03-20T17:43:15.620100Z",
     "iopub.status.busy": "2024-03-20T17:43:15.619430Z",
     "iopub.status.idle": "2024-03-20T17:43:15.633802Z",
     "shell.execute_reply": "2024-03-20T17:43:15.633020Z"
    },
    "lines_to_next_cell": 1,
    "papermill": {
     "duration": 0.020199,
     "end_time": "2024-03-20T17:43:15.635449",
     "exception": false,
     "start_time": "2024-03-20T17:43:15.615250",
     "status": "completed"
    },
    "tags": []
   },
   "outputs": [
    {
     "name": "stderr",
     "output_type": "stream",
     "text": [
      "\r",
      "  0%|          | 0/100 [00:00<?, ?it/s]"
     ]
    },
    {
     "name": "stderr",
     "output_type": "stream",
     "text": [
      "\r",
      "100%|██████████| 100/100 [00:00<00:00, 65017.89it/s]"
     ]
    },
    {
     "name": "stderr",
     "output_type": "stream",
     "text": [
      "\n"
     ]
    }
   ],
   "source": [
    "# Iterative solution\n",
    "def bsearch_iter(arr: list[int], target: int) -> int:\n",
    "    low, high = 0, len(arr) - 1\n",
    "    while low <= high:\n",
    "        mid = (low + high) // 2\n",
    "        if arr[mid] == target:\n",
    "            return mid\n",
    "        elif target > arr[mid]:\n",
    "            low = mid + 1\n",
    "        else:\n",
    "            high = mid - 1\n",
    "    else:\n",
    "        return -1\n",
    "\n",
    "# Test the algorithm\n",
    "for i in tqdm.tqdm(range(100)):\n",
    "    temp = random.sample(list(range(15, 30)), random.randint(1, 15))\n",
    "    temp.sort()\n",
    "    j = random.randint(0, 45)\n",
    "    assert bsearch_iter(temp, j) == lsearch(temp, j), f\"failed for {temp}, {j}\""
   ]
  },
  {
   "cell_type": "code",
   "execution_count": 4,
   "id": "9e6cb028",
   "metadata": {
    "execution": {
     "iopub.execute_input": "2024-03-20T17:43:15.644126Z",
     "iopub.status.busy": "2024-03-20T17:43:15.643809Z",
     "iopub.status.idle": "2024-03-20T17:43:15.657159Z",
     "shell.execute_reply": "2024-03-20T17:43:15.656186Z"
    },
    "lines_to_next_cell": 1,
    "papermill": {
     "duration": 0.020136,
     "end_time": "2024-03-20T17:43:15.659345",
     "exception": false,
     "start_time": "2024-03-20T17:43:15.639209",
     "status": "completed"
    },
    "tags": []
   },
   "outputs": [
    {
     "name": "stderr",
     "output_type": "stream",
     "text": [
      "\r",
      "  0%|          | 0/100 [00:00<?, ?it/s]"
     ]
    },
    {
     "name": "stderr",
     "output_type": "stream",
     "text": [
      "\r",
      "100%|██████████| 100/100 [00:00<00:00, 33819.58it/s]"
     ]
    },
    {
     "name": "stderr",
     "output_type": "stream",
     "text": [
      "\n"
     ]
    }
   ],
   "source": [
    "# Recursive solution\n",
    "def bsearch_rec(arr: list[int], target: int) -> int:\n",
    "    def backtrack(low: int, high: int) -> int:\n",
    "        if low > high:\n",
    "            return -1\n",
    "        else:\n",
    "            mid = (low + high) // 2\n",
    "            if arr[mid] == target:\n",
    "                return mid\n",
    "            elif target < arr[mid]:\n",
    "                return backtrack(low, mid - 1)\n",
    "            else:\n",
    "                return backtrack(mid + 1, high)\n",
    "\n",
    "    return backtrack(0, len(arr) - 1)\n",
    "\n",
    "for i in tqdm.tqdm(range(100)):\n",
    "    temp = random.sample(list(range(15, 30)), random.randint(1, 15))\n",
    "    temp.sort()\n",
    "    j = random.randint(0, 45)\n",
    "    assert bsearch_rec(temp, j) == lsearch(temp, j), f\"failed for {temp}, {j}\""
   ]
  },
  {
   "cell_type": "markdown",
   "id": "58c6735d",
   "metadata": {
    "papermill": {
     "duration": 0.004887,
     "end_time": "2024-03-20T17:43:15.669692",
     "exception": false,
     "start_time": "2024-03-20T17:43:15.664805",
     "status": "completed"
    },
    "tags": []
   },
   "source": [
    "Video Link: https://www.youtube.com/watch?v=6zhGS79oQ4k&list=PLgUwDviBIf0oF6QL8m22w1hIDC1vJ_BHz&index=46\n",
    "Implement lower / bound"
   ]
  },
  {
   "cell_type": "code",
   "execution_count": 5,
   "id": "69b3ccc2",
   "metadata": {
    "execution": {
     "iopub.execute_input": "2024-03-20T17:43:15.682586Z",
     "iopub.status.busy": "2024-03-20T17:43:15.681775Z",
     "iopub.status.idle": "2024-03-20T17:43:15.693422Z",
     "shell.execute_reply": "2024-03-20T17:43:15.692490Z"
    },
    "lines_to_next_cell": 1,
    "papermill": {
     "duration": 0.020102,
     "end_time": "2024-03-20T17:43:15.695595",
     "exception": false,
     "start_time": "2024-03-20T17:43:15.675493",
     "status": "completed"
    },
    "tags": []
   },
   "outputs": [
    {
     "data": {
      "text/plain": [
       "5"
      ]
     },
     "execution_count": 5,
     "metadata": {},
     "output_type": "execute_result"
    }
   ],
   "source": [
    "# Lower bound with Linear Search\n",
    "def lower_bound_linear(arr: list[int], target: int) -> int:\n",
    "    N = len(arr)\n",
    "    for i in range(N):\n",
    "        if arr[i] >= target:\n",
    "            return i\n",
    "    return N\n",
    "\n",
    "lower_bound_linear([3, 5, 8, 15, 19], 20)"
   ]
  },
  {
   "cell_type": "code",
   "execution_count": 6,
   "id": "0ad6eebf",
   "metadata": {
    "execution": {
     "iopub.execute_input": "2024-03-20T17:43:15.712234Z",
     "iopub.status.busy": "2024-03-20T17:43:15.711489Z",
     "iopub.status.idle": "2024-03-20T17:43:15.724713Z",
     "shell.execute_reply": "2024-03-20T17:43:15.723839Z"
    },
    "lines_to_next_cell": 1,
    "papermill": {
     "duration": 0.023862,
     "end_time": "2024-03-20T17:43:15.726977",
     "exception": false,
     "start_time": "2024-03-20T17:43:15.703115",
     "status": "completed"
    },
    "tags": []
   },
   "outputs": [
    {
     "name": "stderr",
     "output_type": "stream",
     "text": [
      "\r",
      "  0%|          | 0/200 [00:00<?, ?it/s]"
     ]
    },
    {
     "name": "stderr",
     "output_type": "stream",
     "text": [
      "\r",
      "100%|██████████| 200/200 [00:00<00:00, 62336.39it/s]"
     ]
    },
    {
     "name": "stderr",
     "output_type": "stream",
     "text": [
      "\n"
     ]
    }
   ],
   "source": [
    "def lower_bound_binary(arr: list[int], target: int):\n",
    "    N = len(arr)\n",
    "    low, high = 0, N - 1\n",
    "    while low <= high:\n",
    "        mid = (low + high) // 2\n",
    "        if arr[mid - 1] < target and arr[mid] >= target:\n",
    "            return mid\n",
    "        elif arr[mid] >= target:\n",
    "            high = mid - 1\n",
    "        else:\n",
    "            low = mid + 1\n",
    "    else:\n",
    "        return 0 if target <= arr[0] else N\n",
    "\n",
    "for i in tqdm.tqdm(range(200)):\n",
    "    temp = random.choices(list(range(100, 200)), k=random.randint(1, 50))\n",
    "    temp.sort()\n",
    "    j = random.randint(95, 205)\n",
    "    assert lower_bound_binary(temp, j) == lower_bound_linear(temp, j), f\"failed for {temp}, {j}\""
   ]
  },
  {
   "cell_type": "code",
   "execution_count": 7,
   "id": "6073daf2",
   "metadata": {
    "execution": {
     "iopub.execute_input": "2024-03-20T17:43:15.746587Z",
     "iopub.status.busy": "2024-03-20T17:43:15.746076Z",
     "iopub.status.idle": "2024-03-20T17:43:15.753446Z",
     "shell.execute_reply": "2024-03-20T17:43:15.752549Z"
    },
    "lines_to_next_cell": 1,
    "papermill": {
     "duration": 0.021171,
     "end_time": "2024-03-20T17:43:15.755751",
     "exception": false,
     "start_time": "2024-03-20T17:43:15.734580",
     "status": "completed"
    },
    "tags": []
   },
   "outputs": [
    {
     "data": {
      "text/plain": [
       "4"
      ]
     },
     "execution_count": 7,
     "metadata": {},
     "output_type": "execute_result"
    }
   ],
   "source": [
    "# Upper bound - Brute O(N)\n",
    "def upper_bound_linear(arr: list[int], target: int) -> int:\n",
    "    N = len(arr)\n",
    "    for i in range(N):\n",
    "        if arr[i] > target:\n",
    "            return i\n",
    "    return N\n",
    "\n",
    "upper_bound_linear([3, 5, 8, 15, 19, 19], 15)"
   ]
  },
  {
   "cell_type": "code",
   "execution_count": 8,
   "id": "ba0c14c0",
   "metadata": {
    "execution": {
     "iopub.execute_input": "2024-03-20T17:43:15.770344Z",
     "iopub.status.busy": "2024-03-20T17:43:15.770008Z",
     "iopub.status.idle": "2024-03-20T17:43:15.785495Z",
     "shell.execute_reply": "2024-03-20T17:43:15.784571Z"
    },
    "lines_to_next_cell": 1,
    "papermill": {
     "duration": 0.025338,
     "end_time": "2024-03-20T17:43:15.787452",
     "exception": false,
     "start_time": "2024-03-20T17:43:15.762114",
     "status": "completed"
    },
    "tags": []
   },
   "outputs": [
    {
     "name": "stderr",
     "output_type": "stream",
     "text": [
      "\r",
      "  0%|          | 0/200 [00:00<?, ?it/s]"
     ]
    },
    {
     "name": "stderr",
     "output_type": "stream",
     "text": [
      "\r",
      "100%|██████████| 200/200 [00:00<00:00, 56953.00it/s]"
     ]
    },
    {
     "name": "stdout",
     "output_type": "stream",
     "text": [
      "0\n",
      "5\n"
     ]
    },
    {
     "name": "stderr",
     "output_type": "stream",
     "text": [
      "\n"
     ]
    }
   ],
   "source": [
    "# Binary Search\n",
    "def upper_bound_binary(arr: list[int], target: int) -> int:\n",
    "    N = len(arr)\n",
    "    low, high = 0, N - 1\n",
    "    while low <= high:\n",
    "        mid = (low + high) // 2\n",
    "        if arr[mid] > target and arr[mid - 1] <= target:\n",
    "            return mid\n",
    "        elif arr[mid] <= target:\n",
    "            low = mid + 1\n",
    "        else:\n",
    "            high = mid - 1\n",
    "    else:\n",
    "        return 0 if target < arr[0] else N\n",
    "\n",
    "for i in tqdm.tqdm(range(200)):\n",
    "    temp = random.choices(list(range(100, 200)), k=random.randint(1, 50))\n",
    "    temp.sort()\n",
    "    j = random.randint(95, 205)\n",
    "    assert upper_bound_binary(temp, j) == upper_bound_linear(temp, j), f\"failed for {temp}, {j}\"\n",
    "\n",
    "# Note the difference between the UB / LB\n",
    "print(lower_bound_binary([1, 1, 1, 1, 1], 1))\n",
    "print(upper_bound_binary([1, 1, 1, 1, 1], 1))"
   ]
  },
  {
   "cell_type": "markdown",
   "id": "6c5c8b30",
   "metadata": {
    "papermill": {
     "duration": 0.00563,
     "end_time": "2024-03-20T17:43:15.801096",
     "exception": false,
     "start_time": "2024-03-20T17:43:15.795466",
     "status": "completed"
    },
    "tags": []
   },
   "source": [
    "Much more intutive approach by Striver:\n",
    "Retain a variable ans to N, update this variable when:\n",
    "arr[mid] >= target - Lower bound\n",
    "arr[mid] > target - Upper bound"
   ]
  },
  {
   "cell_type": "code",
   "execution_count": 9,
   "id": "2236af54",
   "metadata": {
    "execution": {
     "iopub.execute_input": "2024-03-20T17:43:15.823253Z",
     "iopub.status.busy": "2024-03-20T17:43:15.822722Z",
     "iopub.status.idle": "2024-03-20T17:43:15.831559Z",
     "shell.execute_reply": "2024-03-20T17:43:15.830528Z"
    },
    "lines_to_next_cell": 1,
    "papermill": {
     "duration": 0.028032,
     "end_time": "2024-03-20T17:43:15.834206",
     "exception": false,
     "start_time": "2024-03-20T17:43:15.806174",
     "status": "completed"
    },
    "tags": []
   },
   "outputs": [
    {
     "data": {
      "text/plain": [
       "0"
      ]
     },
     "execution_count": 9,
     "metadata": {},
     "output_type": "execute_result"
    }
   ],
   "source": [
    "# Lower bound Binary (Striver's approach)\n",
    "def lower_bound_striver(arr: list[int], target: int) -> int:\n",
    "    \"Smallest index, greater than or equal to target\"\n",
    "    N = len(arr)\n",
    "    low, high, ans = 0, N - 1, N\n",
    "    while low <= high:\n",
    "        mid = (low + high) // 2\n",
    "        if arr[mid] >= target:\n",
    "            ans = mid\n",
    "            high = mid - 1\n",
    "        else:\n",
    "            low = mid + 1\n",
    "\n",
    "    return ans\n",
    "\n",
    "lower_bound_striver([1, 1, 1, 1], 1)"
   ]
  },
  {
   "cell_type": "code",
   "execution_count": 10,
   "id": "c96b4979",
   "metadata": {
    "execution": {
     "iopub.execute_input": "2024-03-20T17:43:15.856981Z",
     "iopub.status.busy": "2024-03-20T17:43:15.856207Z",
     "iopub.status.idle": "2024-03-20T17:43:15.866205Z",
     "shell.execute_reply": "2024-03-20T17:43:15.865381Z"
    },
    "lines_to_next_cell": 1,
    "papermill": {
     "duration": 0.020896,
     "end_time": "2024-03-20T17:43:15.867904",
     "exception": false,
     "start_time": "2024-03-20T17:43:15.847008",
     "status": "completed"
    },
    "tags": []
   },
   "outputs": [
    {
     "data": {
      "text/plain": [
       "4"
      ]
     },
     "execution_count": 10,
     "metadata": {},
     "output_type": "execute_result"
    }
   ],
   "source": [
    "# Upper bound Binary (Striver's approach)\n",
    "def upper_bound_striver(arr: list[int], target: int) -> int:\n",
    "    \"Smallest index, greater than target\"\n",
    "    N = len(arr)\n",
    "    low, high, ans = 0, N - 1, N\n",
    "    while low <= high:\n",
    "        mid = (low + high) // 2\n",
    "        if arr[mid] > target:\n",
    "            ans = mid\n",
    "            high = mid - 1\n",
    "        else:\n",
    "            low = mid + 1\n",
    "    return ans\n",
    "\n",
    "upper_bound_striver([1, 1, 1, 1], 1)"
   ]
  },
  {
   "cell_type": "markdown",
   "id": "f029f61e",
   "metadata": {
    "papermill": {
     "duration": 0.009114,
     "end_time": "2024-03-20T17:43:15.916715",
     "exception": false,
     "start_time": "2024-03-20T17:43:15.907601",
     "status": "completed"
    },
    "tags": []
   },
   "source": [
    "Search Insert position"
   ]
  },
  {
   "cell_type": "code",
   "execution_count": 11,
   "id": "5821849e",
   "metadata": {
    "execution": {
     "iopub.execute_input": "2024-03-20T17:43:15.964998Z",
     "iopub.status.busy": "2024-03-20T17:43:15.964257Z",
     "iopub.status.idle": "2024-03-20T17:43:15.969933Z",
     "shell.execute_reply": "2024-03-20T17:43:15.969056Z"
    },
    "papermill": {
     "duration": 0.013957,
     "end_time": "2024-03-20T17:43:15.971627",
     "exception": false,
     "start_time": "2024-03-20T17:43:15.957670",
     "status": "completed"
    },
    "tags": []
   },
   "outputs": [],
   "source": [
    "def searchInsert(arr: list[int], target: int) -> int:\n",
    "    \"Lower bound - Smallest index, greater than or equal to target\"\n",
    "    N = len(arr)\n",
    "    low, high, ans = 0, N - 1, N\n",
    "    while low <= high:\n",
    "        mid = (low + high) // 2\n",
    "        if arr[mid] >= target:\n",
    "            ans = mid\n",
    "            high = mid - 1\n",
    "        else:\n",
    "            low = mid + 1\n",
    "\n",
    "    return ans"
   ]
  }
 ],
 "metadata": {
  "kernelspec": {
   "display_name": "Python 3 (ipykernel)",
   "language": "python",
   "name": "python3"
  },
  "language_info": {
   "codemirror_mode": {
    "name": "ipython",
    "version": 3
   },
   "file_extension": ".py",
   "mimetype": "text/x-python",
   "name": "python",
   "nbconvert_exporter": "python",
   "pygments_lexer": "ipython3",
   "version": "3.10.13"
  },
  "papermill": {
   "default_parameters": {},
   "duration": 1.677787,
   "end_time": "2024-03-20T17:43:16.095050",
   "environment_variables": {},
   "exception": null,
   "input_path": "study/striver-A2Z/09-binary-search.ipynb",
   "output_path": "study/striver-A2Z/09-binary-search.ipynb",
   "parameters": {},
   "start_time": "2024-03-20T17:43:14.417263",
   "version": "2.5.0"
  }
 },
 "nbformat": 4,
 "nbformat_minor": 5
}