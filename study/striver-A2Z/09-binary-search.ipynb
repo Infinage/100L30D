{
 "cells": [
  {
   "cell_type": "markdown",
   "id": "db5bf785",
   "metadata": {
    "papermill": {
     "duration": 0.002329,
     "end_time": "2024-03-19T03:03:34.916437",
     "exception": false,
     "start_time": "2024-03-19T03:03:34.914108",
     "status": "completed"
    },
    "tags": []
   },
   "source": [
    "Some useful imports"
   ]
  },
  {
   "cell_type": "code",
   "execution_count": 1,
   "id": "671e1a3f",
   "metadata": {
    "execution": {
     "iopub.execute_input": "2024-03-19T03:03:34.921739Z",
     "iopub.status.busy": "2024-03-19T03:03:34.921267Z",
     "iopub.status.idle": "2024-03-19T03:03:34.934691Z",
     "shell.execute_reply": "2024-03-19T03:03:34.934020Z"
    },
    "lines_to_next_cell": 1,
    "papermill": {
     "duration": 0.018098,
     "end_time": "2024-03-19T03:03:34.936429",
     "exception": false,
     "start_time": "2024-03-19T03:03:34.918331",
     "status": "completed"
    },
    "tags": []
   },
   "outputs": [],
   "source": [
    "import math\n",
    "import random\n",
    "import functools\n",
    "import itertools\n",
    "import tqdm\n",
    "import pdb"
   ]
  },
  {
   "cell_type": "markdown",
   "id": "8fc657ea",
   "metadata": {
    "papermill": {
     "duration": 0.001636,
     "end_time": "2024-03-19T03:03:34.939768",
     "exception": false,
     "start_time": "2024-03-19T03:03:34.938132",
     "status": "completed"
    },
    "tags": []
   },
   "source": [
    "Video Link: https://www.youtube.com/watch?v=MHf6awe89xw&list=PLgUwDviBIf0oF6QL8m22w1hIDC1vJ_BHz&index=45"
   ]
  },
  {
   "cell_type": "code",
   "execution_count": 2,
   "id": "1f233f2d",
   "metadata": {
    "execution": {
     "iopub.execute_input": "2024-03-19T03:03:34.944206Z",
     "iopub.status.busy": "2024-03-19T03:03:34.943860Z",
     "iopub.status.idle": "2024-03-19T03:03:34.948247Z",
     "shell.execute_reply": "2024-03-19T03:03:34.947481Z"
    },
    "lines_to_next_cell": 1,
    "papermill": {
     "duration": 0.008504,
     "end_time": "2024-03-19T03:03:34.949898",
     "exception": false,
     "start_time": "2024-03-19T03:03:34.941394",
     "status": "completed"
    },
    "tags": []
   },
   "outputs": [],
   "source": [
    "# Linear search\n",
    "def lsearch(arr: list[int], target: int) -> int:\n",
    "    for i in range(len(arr)):\n",
    "        if arr[i] == target:\n",
    "            return i\n",
    "    else:\n",
    "        return -1"
   ]
  },
  {
   "cell_type": "code",
   "execution_count": 3,
   "id": "ea84f278",
   "metadata": {
    "execution": {
     "iopub.execute_input": "2024-03-19T03:03:34.954681Z",
     "iopub.status.busy": "2024-03-19T03:03:34.954139Z",
     "iopub.status.idle": "2024-03-19T03:03:34.968738Z",
     "shell.execute_reply": "2024-03-19T03:03:34.967954Z"
    },
    "lines_to_next_cell": 1,
    "papermill": {
     "duration": 0.018884,
     "end_time": "2024-03-19T03:03:34.970567",
     "exception": false,
     "start_time": "2024-03-19T03:03:34.951683",
     "status": "completed"
    },
    "tags": []
   },
   "outputs": [
    {
     "name": "stderr",
     "output_type": "stream",
     "text": [
      "\r",
      "  0%|          | 0/100 [00:00<?, ?it/s]"
     ]
    },
    {
     "name": "stderr",
     "output_type": "stream",
     "text": [
      "\r",
      "100%|██████████| 100/100 [00:00<00:00, 63772.30it/s]"
     ]
    },
    {
     "name": "stderr",
     "output_type": "stream",
     "text": [
      "\n"
     ]
    }
   ],
   "source": [
    "# Iterative solution\n",
    "def bsearch_iter(arr: list[int], target: int) -> int:\n",
    "    low, high = 0, len(arr) - 1\n",
    "    while low <= high:\n",
    "        mid = (low + high) // 2\n",
    "        if arr[mid] == target:\n",
    "            return mid\n",
    "        elif target > arr[mid]:\n",
    "            low = mid + 1\n",
    "        else:\n",
    "            high = mid - 1\n",
    "    else:\n",
    "        return -1\n",
    "\n",
    "# Test the algorithm\n",
    "for i in tqdm.tqdm(range(100)):\n",
    "    temp = random.sample(list(range(15, 30)), random.randint(1, 15))\n",
    "    temp.sort()\n",
    "    j = random.randint(0, 45)\n",
    "    assert bsearch_iter(temp, j) == lsearch(temp, j), f\"failed for {temp}, {j}\""
   ]
  },
  {
   "cell_type": "code",
   "execution_count": 4,
   "id": "e4e7cc25",
   "metadata": {
    "execution": {
     "iopub.execute_input": "2024-03-19T03:03:34.976114Z",
     "iopub.status.busy": "2024-03-19T03:03:34.975480Z",
     "iopub.status.idle": "2024-03-19T03:03:34.987301Z",
     "shell.execute_reply": "2024-03-19T03:03:34.986529Z"
    },
    "papermill": {
     "duration": 0.016301,
     "end_time": "2024-03-19T03:03:34.988921",
     "exception": false,
     "start_time": "2024-03-19T03:03:34.972620",
     "status": "completed"
    },
    "tags": []
   },
   "outputs": [
    {
     "name": "stderr",
     "output_type": "stream",
     "text": [
      "\r",
      "  0%|          | 0/100 [00:00<?, ?it/s]"
     ]
    },
    {
     "name": "stderr",
     "output_type": "stream",
     "text": [
      "\r",
      "100%|██████████| 100/100 [00:00<00:00, 41892.77it/s]"
     ]
    },
    {
     "name": "stderr",
     "output_type": "stream",
     "text": [
      "\n"
     ]
    }
   ],
   "source": [
    "# Recursive solution\n",
    "def bsearch_rec(arr: list[int], target: int) -> int:\n",
    "    def backtrack(low: int, high: int) -> int:\n",
    "        if low > high:\n",
    "            return -1\n",
    "        else:\n",
    "            mid = (low + high) // 2\n",
    "            if arr[mid] == target:\n",
    "                return mid\n",
    "            elif target < arr[mid]:\n",
    "                return backtrack(low, mid - 1)\n",
    "            else:\n",
    "                return backtrack(mid + 1, high)\n",
    "\n",
    "    return backtrack(0, len(arr) - 1)\n",
    "\n",
    "for i in tqdm.tqdm(range(100)):\n",
    "    temp = random.sample(list(range(15, 30)), random.randint(1, 15))\n",
    "    temp.sort()\n",
    "    j = random.randint(0, 45)\n",
    "    assert bsearch_rec(temp, j) == lsearch(temp, j), f\"failed for {temp}, {j}\""
   ]
  }
 ],
 "metadata": {
  "kernelspec": {
   "display_name": "Python 3 (ipykernel)",
   "language": "python",
   "name": "python3"
  },
  "language_info": {
   "codemirror_mode": {
    "name": "ipython",
    "version": 3
   },
   "file_extension": ".py",
   "mimetype": "text/x-python",
   "name": "python",
   "nbconvert_exporter": "python",
   "pygments_lexer": "ipython3",
   "version": "3.10.13"
  },
  "papermill": {
   "default_parameters": {},
   "duration": 1.392662,
   "end_time": "2024-03-19T03:03:35.107341",
   "environment_variables": {},
   "exception": null,
   "input_path": "study/striver-A2Z/09-binary-search.ipynb",
   "output_path": "study/striver-A2Z/09-binary-search.ipynb",
   "parameters": {},
   "start_time": "2024-03-19T03:03:33.714679",
   "version": "2.5.0"
  }
 },
 "nbformat": 4,
 "nbformat_minor": 5
}