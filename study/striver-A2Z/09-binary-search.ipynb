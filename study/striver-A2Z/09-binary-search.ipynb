{
 "cells": [
  {
   "cell_type": "markdown",
   "id": "39385271",
   "metadata": {
    "papermill": {
     "duration": 0.015873,
     "end_time": "2024-03-31T04:08:04.810547",
     "exception": false,
     "start_time": "2024-03-31T04:08:04.794674",
     "status": "completed"
    },
    "tags": []
   },
   "source": [
    "Some useful imports"
   ]
  },
  {
   "cell_type": "code",
   "execution_count": 1,
   "id": "fd129096",
   "metadata": {
    "execution": {
     "iopub.execute_input": "2024-03-31T04:08:04.842049Z",
     "iopub.status.busy": "2024-03-31T04:08:04.841502Z",
     "iopub.status.idle": "2024-03-31T04:08:04.950008Z",
     "shell.execute_reply": "2024-03-31T04:08:04.949201Z"
    },
    "lines_to_next_cell": 1,
    "papermill": {
     "duration": 0.126818,
     "end_time": "2024-03-31T04:08:04.952403",
     "exception": false,
     "start_time": "2024-03-31T04:08:04.825585",
     "status": "completed"
    },
    "tags": []
   },
   "outputs": [],
   "source": [
    "import math\n",
    "import random\n",
    "import functools\n",
    "import itertools\n",
    "import heapq\n",
    "import tqdm\n",
    "import pdb\n",
    "import numpy as np"
   ]
  },
  {
   "cell_type": "markdown",
   "id": "1b645c9d",
   "metadata": {
    "papermill": {
     "duration": 0.014865,
     "end_time": "2024-03-31T04:08:04.989183",
     "exception": false,
     "start_time": "2024-03-31T04:08:04.974318",
     "status": "completed"
    },
    "tags": []
   },
   "source": [
    "Video Link: https://www.youtube.com/watch?v=MHf6awe89xw&list=PLgUwDviBIf0oF6QL8m22w1hIDC1vJ_BHz&index=45"
   ]
  },
  {
   "cell_type": "code",
   "execution_count": 2,
   "id": "a8c5fd59",
   "metadata": {
    "execution": {
     "iopub.execute_input": "2024-03-31T04:08:05.020042Z",
     "iopub.status.busy": "2024-03-31T04:08:05.019753Z",
     "iopub.status.idle": "2024-03-31T04:08:05.024190Z",
     "shell.execute_reply": "2024-03-31T04:08:05.023547Z"
    },
    "lines_to_next_cell": 1,
    "papermill": {
     "duration": 0.021789,
     "end_time": "2024-03-31T04:08:05.025846",
     "exception": false,
     "start_time": "2024-03-31T04:08:05.004057",
     "status": "completed"
    },
    "tags": []
   },
   "outputs": [],
   "source": [
    "# Linear search\n",
    "def lsearch(arr: list[int], target: int) -> int:\n",
    "    for i in range(len(arr)):\n",
    "        if arr[i] == target:\n",
    "            return i\n",
    "    else:\n",
    "        return -1"
   ]
  },
  {
   "cell_type": "code",
   "execution_count": 3,
   "id": "b06d330f",
   "metadata": {
    "execution": {
     "iopub.execute_input": "2024-03-31T04:08:05.057498Z",
     "iopub.status.busy": "2024-03-31T04:08:05.057034Z",
     "iopub.status.idle": "2024-03-31T04:08:05.072070Z",
     "shell.execute_reply": "2024-03-31T04:08:05.071252Z"
    },
    "lines_to_next_cell": 1,
    "papermill": {
     "duration": 0.032626,
     "end_time": "2024-03-31T04:08:05.073680",
     "exception": false,
     "start_time": "2024-03-31T04:08:05.041054",
     "status": "completed"
    },
    "tags": []
   },
   "outputs": [
    {
     "name": "stderr",
     "output_type": "stream",
     "text": [
      "\r",
      "  0%|          | 0/100 [00:00<?, ?it/s]"
     ]
    },
    {
     "name": "stderr",
     "output_type": "stream",
     "text": [
      "\r",
      "100%|██████████| 100/100 [00:00<00:00, 63262.50it/s]"
     ]
    },
    {
     "name": "stderr",
     "output_type": "stream",
     "text": [
      "\n"
     ]
    }
   ],
   "source": [
    "# Iterative solution\n",
    "def bsearch_iter(arr: list[int], target: int) -> int:\n",
    "    low, high = 0, len(arr) - 1\n",
    "    while low <= high:\n",
    "        mid = (low + high) // 2\n",
    "        if arr[mid] == target:\n",
    "            return mid\n",
    "        elif target > arr[mid]:\n",
    "            low = mid + 1\n",
    "        else:\n",
    "            high = mid - 1\n",
    "    else:\n",
    "        return -1\n",
    "\n",
    "# Test the algorithm\n",
    "for i in tqdm.tqdm(range(100)):\n",
    "    temp = random.sample(list(range(15, 30)), random.randint(1, 15))\n",
    "    temp.sort()\n",
    "    j = random.randint(0, 45)\n",
    "    assert bsearch_iter(temp, j) == lsearch(temp, j), f\"failed for {temp}, {j}\""
   ]
  },
  {
   "cell_type": "code",
   "execution_count": 4,
   "id": "59682a10",
   "metadata": {
    "execution": {
     "iopub.execute_input": "2024-03-31T04:08:05.106082Z",
     "iopub.status.busy": "2024-03-31T04:08:05.105469Z",
     "iopub.status.idle": "2024-03-31T04:08:05.117107Z",
     "shell.execute_reply": "2024-03-31T04:08:05.116389Z"
    },
    "lines_to_next_cell": 1,
    "papermill": {
     "duration": 0.029461,
     "end_time": "2024-03-31T04:08:05.118704",
     "exception": false,
     "start_time": "2024-03-31T04:08:05.089243",
     "status": "completed"
    },
    "tags": []
   },
   "outputs": [
    {
     "name": "stderr",
     "output_type": "stream",
     "text": [
      "\r",
      "  0%|          | 0/100 [00:00<?, ?it/s]"
     ]
    },
    {
     "name": "stderr",
     "output_type": "stream",
     "text": [
      "\r",
      "100%|██████████| 100/100 [00:00<00:00, 56941.41it/s]"
     ]
    },
    {
     "name": "stderr",
     "output_type": "stream",
     "text": [
      "\n"
     ]
    }
   ],
   "source": [
    "# Recursive solution\n",
    "def bsearch_rec(arr: list[int], target: int) -> int:\n",
    "    def backtrack(low: int, high: int) -> int:\n",
    "        if low > high:\n",
    "            return -1\n",
    "        else:\n",
    "            mid = (low + high) // 2\n",
    "            if arr[mid] == target:\n",
    "                return mid\n",
    "            elif target < arr[mid]:\n",
    "                return backtrack(low, mid - 1)\n",
    "            else:\n",
    "                return backtrack(mid + 1, high)\n",
    "\n",
    "    return backtrack(0, len(arr) - 1)\n",
    "\n",
    "for i in tqdm.tqdm(range(100)):\n",
    "    temp = random.sample(list(range(15, 30)), random.randint(1, 15))\n",
    "    temp.sort()\n",
    "    j = random.randint(0, 45)\n",
    "    assert bsearch_rec(temp, j) == lsearch(temp, j), f\"failed for {temp}, {j}\""
   ]
  },
  {
   "cell_type": "markdown",
   "id": "1f2d9f50",
   "metadata": {
    "papermill": {
     "duration": 0.015435,
     "end_time": "2024-03-31T04:08:05.149745",
     "exception": false,
     "start_time": "2024-03-31T04:08:05.134310",
     "status": "completed"
    },
    "tags": []
   },
   "source": [
    "Video Link: https://www.youtube.com/watch?v=6zhGS79oQ4k&list=PLgUwDviBIf0oF6QL8m22w1hIDC1vJ_BHz&index=46\n",
    "Implement lower / bound"
   ]
  },
  {
   "cell_type": "code",
   "execution_count": 5,
   "id": "f23024a2",
   "metadata": {
    "execution": {
     "iopub.execute_input": "2024-03-31T04:08:05.182166Z",
     "iopub.status.busy": "2024-03-31T04:08:05.181679Z",
     "iopub.status.idle": "2024-03-31T04:08:05.190897Z",
     "shell.execute_reply": "2024-03-31T04:08:05.190150Z"
    },
    "lines_to_next_cell": 1,
    "papermill": {
     "duration": 0.027288,
     "end_time": "2024-03-31T04:08:05.192578",
     "exception": false,
     "start_time": "2024-03-31T04:08:05.165290",
     "status": "completed"
    },
    "tags": []
   },
   "outputs": [
    {
     "data": {
      "text/plain": [
       "5"
      ]
     },
     "execution_count": 5,
     "metadata": {},
     "output_type": "execute_result"
    }
   ],
   "source": [
    "# Lower bound with Linear Search\n",
    "def lower_bound_linear(arr: list[int], target: int) -> int:\n",
    "    N = len(arr)\n",
    "    for i in range(N):\n",
    "        if arr[i] >= target:\n",
    "            return i\n",
    "    return N\n",
    "\n",
    "lower_bound_linear([3, 5, 8, 15, 19], 20)"
   ]
  },
  {
   "cell_type": "code",
   "execution_count": 6,
   "id": "a0b8bf3a",
   "metadata": {
    "execution": {
     "iopub.execute_input": "2024-03-31T04:08:05.225283Z",
     "iopub.status.busy": "2024-03-31T04:08:05.224754Z",
     "iopub.status.idle": "2024-03-31T04:08:05.237296Z",
     "shell.execute_reply": "2024-03-31T04:08:05.236515Z"
    },
    "lines_to_next_cell": 1,
    "papermill": {
     "duration": 0.030688,
     "end_time": "2024-03-31T04:08:05.239021",
     "exception": false,
     "start_time": "2024-03-31T04:08:05.208333",
     "status": "completed"
    },
    "tags": []
   },
   "outputs": [
    {
     "name": "stderr",
     "output_type": "stream",
     "text": [
      "\r",
      "  0%|          | 0/200 [00:00<?, ?it/s]"
     ]
    },
    {
     "name": "stderr",
     "output_type": "stream",
     "text": [
      "\r",
      "100%|██████████| 200/200 [00:00<00:00, 58587.85it/s]"
     ]
    },
    {
     "name": "stderr",
     "output_type": "stream",
     "text": [
      "\n"
     ]
    }
   ],
   "source": [
    "def lower_bound_binary(arr: list[int], target: int):\n",
    "    N = len(arr)\n",
    "    low, high = 0, N - 1\n",
    "    while low <= high:\n",
    "        mid = (low + high) // 2\n",
    "        if arr[mid - 1] < target and arr[mid] >= target:\n",
    "            return mid\n",
    "        elif arr[mid] >= target:\n",
    "            high = mid - 1\n",
    "        else:\n",
    "            low = mid + 1\n",
    "    else:\n",
    "        return 0 if target <= arr[0] else N\n",
    "\n",
    "for i in tqdm.tqdm(range(200)):\n",
    "    temp = random.choices(list(range(100, 200)), k=random.randint(1, 50))\n",
    "    temp.sort()\n",
    "    j = random.randint(95, 205)\n",
    "    assert lower_bound_binary(temp, j) == lower_bound_linear(temp, j), f\"failed for {temp}, {j}\""
   ]
  },
  {
   "cell_type": "code",
   "execution_count": 7,
   "id": "6609aa48",
   "metadata": {
    "execution": {
     "iopub.execute_input": "2024-03-31T04:08:05.271945Z",
     "iopub.status.busy": "2024-03-31T04:08:05.271706Z",
     "iopub.status.idle": "2024-03-31T04:08:05.277945Z",
     "shell.execute_reply": "2024-03-31T04:08:05.277171Z"
    },
    "lines_to_next_cell": 1,
    "papermill": {
     "duration": 0.024784,
     "end_time": "2024-03-31T04:08:05.279687",
     "exception": false,
     "start_time": "2024-03-31T04:08:05.254903",
     "status": "completed"
    },
    "tags": []
   },
   "outputs": [
    {
     "data": {
      "text/plain": [
       "4"
      ]
     },
     "execution_count": 7,
     "metadata": {},
     "output_type": "execute_result"
    }
   ],
   "source": [
    "# Upper bound - Brute O(N)\n",
    "def upper_bound_linear(arr: list[int], target: int) -> int:\n",
    "    N = len(arr)\n",
    "    for i in range(N):\n",
    "        if arr[i] > target:\n",
    "            return i\n",
    "    return N\n",
    "\n",
    "upper_bound_linear([3, 5, 8, 15, 19, 19], 15)"
   ]
  },
  {
   "cell_type": "code",
   "execution_count": 8,
   "id": "4606b347",
   "metadata": {
    "execution": {
     "iopub.execute_input": "2024-03-31T04:08:05.313336Z",
     "iopub.status.busy": "2024-03-31T04:08:05.312744Z",
     "iopub.status.idle": "2024-03-31T04:08:05.326298Z",
     "shell.execute_reply": "2024-03-31T04:08:05.325505Z"
    },
    "lines_to_next_cell": 1,
    "papermill": {
     "duration": 0.032194,
     "end_time": "2024-03-31T04:08:05.328107",
     "exception": false,
     "start_time": "2024-03-31T04:08:05.295913",
     "status": "completed"
    },
    "tags": []
   },
   "outputs": [
    {
     "name": "stderr",
     "output_type": "stream",
     "text": [
      "\r",
      "  0%|          | 0/200 [00:00<?, ?it/s]"
     ]
    },
    {
     "name": "stderr",
     "output_type": "stream",
     "text": [
      "\r",
      "100%|██████████| 200/200 [00:00<00:00, 57170.37it/s]"
     ]
    },
    {
     "name": "stdout",
     "output_type": "stream",
     "text": [
      "0\n",
      "5\n"
     ]
    },
    {
     "name": "stderr",
     "output_type": "stream",
     "text": [
      "\n"
     ]
    }
   ],
   "source": [
    "# Binary Search\n",
    "def upper_bound_binary(arr: list[int], target: int) -> int:\n",
    "    N = len(arr)\n",
    "    low, high = 0, N - 1\n",
    "    while low <= high:\n",
    "        mid = (low + high) // 2\n",
    "        if arr[mid] > target and arr[mid - 1] <= target:\n",
    "            return mid\n",
    "        elif arr[mid] <= target:\n",
    "            low = mid + 1\n",
    "        else:\n",
    "            high = mid - 1\n",
    "    else:\n",
    "        return 0 if target < arr[0] else N\n",
    "\n",
    "for i in tqdm.tqdm(range(200)):\n",
    "    temp = random.choices(list(range(100, 200)), k=random.randint(1, 50))\n",
    "    temp.sort()\n",
    "    j = random.randint(95, 205)\n",
    "    assert upper_bound_binary(temp, j) == upper_bound_linear(temp, j), f\"failed for {temp}, {j}\"\n",
    "\n",
    "# Note the difference between the UB / LB\n",
    "print(lower_bound_binary([1, 1, 1, 1, 1], 1))\n",
    "print(upper_bound_binary([1, 1, 1, 1, 1], 1))"
   ]
  },
  {
   "cell_type": "markdown",
   "id": "5e497680",
   "metadata": {
    "papermill": {
     "duration": 0.016296,
     "end_time": "2024-03-31T04:08:05.360886",
     "exception": false,
     "start_time": "2024-03-31T04:08:05.344590",
     "status": "completed"
    },
    "tags": []
   },
   "source": [
    "Much more intutive approach by Striver:\n",
    "Retain a variable ans to N, update this variable when:\n",
    "arr[mid] >= target - Lower bound\n",
    "arr[mid] > target - Upper bound"
   ]
  },
  {
   "cell_type": "code",
   "execution_count": 9,
   "id": "8abcbf56",
   "metadata": {
    "execution": {
     "iopub.execute_input": "2024-03-31T04:08:05.394825Z",
     "iopub.status.busy": "2024-03-31T04:08:05.394215Z",
     "iopub.status.idle": "2024-03-31T04:08:05.401455Z",
     "shell.execute_reply": "2024-03-31T04:08:05.400821Z"
    },
    "lines_to_next_cell": 1,
    "papermill": {
     "duration": 0.026013,
     "end_time": "2024-03-31T04:08:05.403144",
     "exception": false,
     "start_time": "2024-03-31T04:08:05.377131",
     "status": "completed"
    },
    "tags": []
   },
   "outputs": [
    {
     "data": {
      "text/plain": [
       "0"
      ]
     },
     "execution_count": 9,
     "metadata": {},
     "output_type": "execute_result"
    }
   ],
   "source": [
    "# Lower bound Binary (Striver's approach)\n",
    "def lower_bound_striver(arr: list[int], target: int) -> int:\n",
    "    \"Smallest index, greater than or equal to target\"\n",
    "    N = len(arr)\n",
    "    low, high, ans = 0, N - 1, N\n",
    "    while low <= high:\n",
    "        mid = (low + high) // 2\n",
    "        if arr[mid] >= target:\n",
    "            ans = mid\n",
    "            high = mid - 1\n",
    "        else:\n",
    "            low = mid + 1\n",
    "\n",
    "    return ans\n",
    "\n",
    "lower_bound_striver([1, 1, 1, 1], 1)"
   ]
  },
  {
   "cell_type": "code",
   "execution_count": 10,
   "id": "5ab0dd9c",
   "metadata": {
    "execution": {
     "iopub.execute_input": "2024-03-31T04:08:05.437236Z",
     "iopub.status.busy": "2024-03-31T04:08:05.436661Z",
     "iopub.status.idle": "2024-03-31T04:08:05.444217Z",
     "shell.execute_reply": "2024-03-31T04:08:05.443453Z"
    },
    "lines_to_next_cell": 1,
    "papermill": {
     "duration": 0.026394,
     "end_time": "2024-03-31T04:08:05.445906",
     "exception": false,
     "start_time": "2024-03-31T04:08:05.419512",
     "status": "completed"
    },
    "tags": []
   },
   "outputs": [
    {
     "data": {
      "text/plain": [
       "4"
      ]
     },
     "execution_count": 10,
     "metadata": {},
     "output_type": "execute_result"
    }
   ],
   "source": [
    "# Upper bound Binary (Striver's approach)\n",
    "def upper_bound_striver(arr: list[int], target: int) -> int:\n",
    "    \"Smallest index, greater than target\"\n",
    "    N = len(arr)\n",
    "    low, high, ans = 0, N - 1, N\n",
    "    while low <= high:\n",
    "        mid = (low + high) // 2\n",
    "        if arr[mid] > target:\n",
    "            ans = mid\n",
    "            high = mid - 1\n",
    "        else:\n",
    "            low = mid + 1\n",
    "    return ans\n",
    "\n",
    "upper_bound_striver([1, 1, 1, 1], 1)"
   ]
  },
  {
   "cell_type": "markdown",
   "id": "6df8578a",
   "metadata": {
    "papermill": {
     "duration": 0.016484,
     "end_time": "2024-03-31T04:08:05.479196",
     "exception": false,
     "start_time": "2024-03-31T04:08:05.462712",
     "status": "completed"
    },
    "tags": []
   },
   "source": [
    "Search Insert position"
   ]
  },
  {
   "cell_type": "code",
   "execution_count": 11,
   "id": "e5e48474",
   "metadata": {
    "execution": {
     "iopub.execute_input": "2024-03-31T04:08:05.513500Z",
     "iopub.status.busy": "2024-03-31T04:08:05.513256Z",
     "iopub.status.idle": "2024-03-31T04:08:05.518218Z",
     "shell.execute_reply": "2024-03-31T04:08:05.517441Z"
    },
    "lines_to_next_cell": 1,
    "papermill": {
     "duration": 0.024327,
     "end_time": "2024-03-31T04:08:05.519926",
     "exception": false,
     "start_time": "2024-03-31T04:08:05.495599",
     "status": "completed"
    },
    "tags": []
   },
   "outputs": [],
   "source": [
    "def searchInsert(arr: list[int], target: int) -> int:\n",
    "    \"Lower bound - Smallest index, greater than or equal to target\"\n",
    "    N = len(arr)\n",
    "    low, high, ans = 0, N - 1, N\n",
    "    while low <= high:\n",
    "        mid = (low + high) // 2\n",
    "        if arr[mid] >= target:\n",
    "            ans = mid\n",
    "            high = mid - 1\n",
    "        else:\n",
    "            low = mid + 1\n",
    "\n",
    "    return ans"
   ]
  },
  {
   "cell_type": "code",
   "execution_count": 12,
   "id": "d3f82851",
   "metadata": {
    "execution": {
     "iopub.execute_input": "2024-03-31T04:08:05.554720Z",
     "iopub.status.busy": "2024-03-31T04:08:05.553941Z",
     "iopub.status.idle": "2024-03-31T04:08:05.565590Z",
     "shell.execute_reply": "2024-03-31T04:08:05.564844Z"
    },
    "lines_to_next_cell": 1,
    "papermill": {
     "duration": 0.030662,
     "end_time": "2024-03-31T04:08:05.567207",
     "exception": false,
     "start_time": "2024-03-31T04:08:05.536545",
     "status": "completed"
    },
    "tags": []
   },
   "outputs": [
    {
     "data": {
      "text/plain": [
       "(8, 8)"
      ]
     },
     "execution_count": 12,
     "metadata": {},
     "output_type": "execute_result"
    }
   ],
   "source": [
    "# Floor and Ceil of a target from a given array\n",
    "def getFloorAndCeil(arr: list[int], N: int, target: int):\n",
    "    def brute() -> tuple[int, int]:\n",
    "        \"Brute force solution\"\n",
    "        floor = -1\n",
    "        for i in range(N):\n",
    "            if arr[i] > target:\n",
    "                break\n",
    "            else:\n",
    "                floor = arr[i]\n",
    "\n",
    "        ceil = -1\n",
    "        for i in range(N - 1, -1, -1):\n",
    "            if arr[i] < target:\n",
    "                break\n",
    "            else:\n",
    "                ceil = arr[i]\n",
    "\n",
    "        return floor, ceil\n",
    "\n",
    "    def binary() -> tuple[int, int]:\n",
    "        low, high, LB = 0, N - 1, -1\n",
    "        while low <= high:\n",
    "            mid = (low + high) // 2\n",
    "            if arr[mid] <= target:\n",
    "                LB = arr[mid]\n",
    "                low = mid + 1\n",
    "            else:\n",
    "                high = mid - 1\n",
    "\n",
    "        low, high, UB = 0, N - 1, -1\n",
    "        while low <= high:\n",
    "            mid = (low + high) // 2\n",
    "            if arr[mid] >= target:\n",
    "                UB = arr[mid]\n",
    "                high = mid - 1\n",
    "            else:\n",
    "                low = mid + 1\n",
    "\n",
    "        return LB, UB\n",
    "\n",
    "    return binary()\n",
    "\n",
    "# Testing the solution\n",
    "getFloorAndCeil([3, 4, 4, 7, 8, 10], 6, 8)"
   ]
  },
  {
   "cell_type": "markdown",
   "id": "d066d6da",
   "metadata": {
    "papermill": {
     "duration": 0.016733,
     "end_time": "2024-03-31T04:08:05.600785",
     "exception": false,
     "start_time": "2024-03-31T04:08:05.584052",
     "status": "completed"
    },
    "tags": []
   },
   "source": [
    "Video Link: https://www.youtube.com/watch?v=hjR1IYVx9lY&list=PLgUwDviBIf0oF6QL8m22w1hIDC1vJ_BHz&index=47"
   ]
  },
  {
   "cell_type": "code",
   "execution_count": 13,
   "id": "d11d7af8",
   "metadata": {
    "execution": {
     "iopub.execute_input": "2024-03-31T04:08:05.635701Z",
     "iopub.status.busy": "2024-03-31T04:08:05.635033Z",
     "iopub.status.idle": "2024-03-31T04:08:05.645239Z",
     "shell.execute_reply": "2024-03-31T04:08:05.644513Z"
    },
    "lines_to_next_cell": 1,
    "papermill": {
     "duration": 0.02945,
     "end_time": "2024-03-31T04:08:05.646907",
     "exception": false,
     "start_time": "2024-03-31T04:08:05.617457",
     "status": "completed"
    },
    "tags": []
   },
   "outputs": [
    {
     "data": {
      "text/plain": [
       "(-1, -1)"
      ]
     },
     "execution_count": 13,
     "metadata": {},
     "output_type": "execute_result"
    }
   ],
   "source": [
    "# Coding studio link: https://bit.ly/3Mdw2FX\n",
    "def firstAndLastPosition(arr: list[int], N: int, target: int) -> tuple[int, int]:\n",
    "    def findFirst() -> int:\n",
    "        low, high, ans = 0, N - 1, -1\n",
    "        while low <= high:\n",
    "            mid = (low + high) // 2\n",
    "            if arr[mid] >= target:\n",
    "                if arr[mid] == target:\n",
    "                    ans = mid\n",
    "                high = mid - 1\n",
    "            else:\n",
    "                low = mid + 1\n",
    "\n",
    "        return ans\n",
    "\n",
    "    def findLast() -> int:\n",
    "        low, high, ans = 0, N - 1, -1\n",
    "        while low <= high:\n",
    "            mid = (low + high) // 2\n",
    "            if arr[mid] <= target:\n",
    "                if arr[mid] == target:\n",
    "                    ans = mid\n",
    "                low = mid + 1\n",
    "            else:\n",
    "                high = mid - 1\n",
    "\n",
    "        return ans\n",
    "\n",
    "    first = findFirst()\n",
    "    if first == -1: # If not found, don't have to search again\n",
    "        return first, first\n",
    "    else:\n",
    "        return first, findLast()\n",
    "\n",
    "# Testing the solution\n",
    "firstAndLastPosition([1, 2, 3, 3, 3, 4, 5], 7, 9)"
   ]
  },
  {
   "cell_type": "code",
   "execution_count": 14,
   "id": "44578564",
   "metadata": {
    "execution": {
     "iopub.execute_input": "2024-03-31T04:08:05.683158Z",
     "iopub.status.busy": "2024-03-31T04:08:05.682580Z",
     "iopub.status.idle": "2024-03-31T04:08:05.692554Z",
     "shell.execute_reply": "2024-03-31T04:08:05.691827Z"
    },
    "lines_to_next_cell": 1,
    "papermill": {
     "duration": 0.029266,
     "end_time": "2024-03-31T04:08:05.694162",
     "exception": false,
     "start_time": "2024-03-31T04:08:05.664896",
     "status": "completed"
    },
    "tags": []
   },
   "outputs": [
    {
     "data": {
      "text/plain": [
       "0"
      ]
     },
     "execution_count": 14,
     "metadata": {},
     "output_type": "execute_result"
    }
   ],
   "source": [
    "# Coding Studio link: https://bit.ly/42ZDqM4\n",
    "def count_occurances(arr: list[int], N: int, target: int) -> int:\n",
    "    def findFirst() -> int:\n",
    "        low, high, ans = 0, N - 1, -1\n",
    "        while low <= high:\n",
    "            mid = (low + high) // 2\n",
    "            if arr[mid] >= target:\n",
    "                if arr[mid] == target:\n",
    "                    ans = mid\n",
    "                high = mid - 1\n",
    "            else:\n",
    "                low = mid + 1\n",
    "\n",
    "        return ans\n",
    "\n",
    "    def findLast() -> int:\n",
    "        low, high, ans = 0, N - 1, -1\n",
    "        while low <= high:\n",
    "            mid = (low + high) // 2\n",
    "            if arr[mid] <= target:\n",
    "                if arr[mid] == target:\n",
    "                    ans = mid\n",
    "                low = mid + 1\n",
    "            else:\n",
    "                high = mid - 1\n",
    "\n",
    "        return ans\n",
    "\n",
    "    firstIdx = findFirst()\n",
    "    if firstIdx == -1:\n",
    "        return 0\n",
    "    else:\n",
    "        return findLast() - firstIdx + 1\n",
    "\n",
    "# Testing the solution\n",
    "count_occurances([1, 2, 2, 3, 4, 4, 4, 5, 6], 9, 9)"
   ]
  },
  {
   "cell_type": "markdown",
   "id": "7ae08467",
   "metadata": {
    "papermill": {
     "duration": 0.016954,
     "end_time": "2024-03-31T04:08:05.728281",
     "exception": false,
     "start_time": "2024-03-31T04:08:05.711327",
     "status": "completed"
    },
    "tags": []
   },
   "source": [
    "Video Link: https://www.youtube.com/watch?v=5qGrJbHhqFs&list=PLgUwDviBIf0oF6QL8m22w1hIDC1vJ_BHz&index=48\n",
    "Search in a rotated sorted array: https://leetcode.com/problems/search-in-rotated-sorted-array/"
   ]
  },
  {
   "cell_type": "code",
   "execution_count": 15,
   "id": "07fd3a6e",
   "metadata": {
    "execution": {
     "iopub.execute_input": "2024-03-31T04:08:05.763353Z",
     "iopub.status.busy": "2024-03-31T04:08:05.762865Z",
     "iopub.status.idle": "2024-03-31T04:08:05.771659Z",
     "shell.execute_reply": "2024-03-31T04:08:05.770903Z"
    },
    "lines_to_next_cell": 1,
    "papermill": {
     "duration": 0.028083,
     "end_time": "2024-03-31T04:08:05.773287",
     "exception": false,
     "start_time": "2024-03-31T04:08:05.745204",
     "status": "completed"
    },
    "tags": []
   },
   "outputs": [
    {
     "data": {
      "text/plain": [
       "8"
      ]
     },
     "execution_count": 15,
     "metadata": {},
     "output_type": "execute_result"
    }
   ],
   "source": [
    "def search_rotated_sorted1(arr: list[int], target: int) -> int:\n",
    "    N = len(arr)\n",
    "    low, high = 0, N - 1\n",
    "    while low <= high:\n",
    "        mid = (low + high) // 2\n",
    "        if arr[mid] == target:\n",
    "            return mid\n",
    "\n",
    "        # Left half is sorted\n",
    "        elif arr[low] <= arr[mid]:\n",
    "            # Element can be found in the left half\n",
    "            if arr[low] <= target <= arr[mid]:\n",
    "                high = mid - 1\n",
    "            else:\n",
    "                low = mid + 1\n",
    "\n",
    "        # Right half is sorted\n",
    "        else:\n",
    "            # Element can be found in the right half\n",
    "            if arr[mid] <= target <= arr[high]:\n",
    "                low = mid + 1\n",
    "            else:\n",
    "                high = mid - 1\n",
    "    else:\n",
    "        return -1\n",
    "\n",
    "search_rotated_sorted1([7, 8, 9, 1, 2, 3, 4, 5, 6], 6)"
   ]
  },
  {
   "cell_type": "markdown",
   "id": "fd5e97f9",
   "metadata": {
    "papermill": {
     "duration": 0.016911,
     "end_time": "2024-03-31T04:08:05.807140",
     "exception": false,
     "start_time": "2024-03-31T04:08:05.790229",
     "status": "completed"
    },
    "tags": []
   },
   "source": [
    "Video Link: https://www.youtube.com/watch?v=w2G2W8l__pc&list=PLgUwDviBIf0oF6QL8m22w1hIDC1vJ_BHz&index=49\n",
    "Search in rotated sorted arrays (with duplicates)\n",
    "Leetcode link: https://leetcode.com/problems/search-in-rotated-sorted-array-ii/submissions/1210474431/"
   ]
  },
  {
   "cell_type": "code",
   "execution_count": 16,
   "id": "310f82f5",
   "metadata": {
    "execution": {
     "iopub.execute_input": "2024-03-31T04:08:05.842505Z",
     "iopub.status.busy": "2024-03-31T04:08:05.841979Z",
     "iopub.status.idle": "2024-03-31T04:08:05.851514Z",
     "shell.execute_reply": "2024-03-31T04:08:05.850782Z"
    },
    "lines_to_next_cell": 1,
    "papermill": {
     "duration": 0.028937,
     "end_time": "2024-03-31T04:08:05.853133",
     "exception": false,
     "start_time": "2024-03-31T04:08:05.824196",
     "status": "completed"
    },
    "tags": []
   },
   "outputs": [
    {
     "data": {
      "text/plain": [
       "True"
      ]
     },
     "execution_count": 16,
     "metadata": {},
     "output_type": "execute_result"
    }
   ],
   "source": [
    "# Time complexity: O(n / 2)\n",
    "# If there are a lot of duplicates we might need to need to trim the left/right\n",
    "# repeatedly until arr[left] != arr[mid] != arr[right]\n",
    "def search_rotated_sorted2(arr: list[int], target: int) -> bool:\n",
    "    N = len(arr)\n",
    "    low, high = 0, N - 1\n",
    "    while low <= high:\n",
    "        mid = (low + high) // 2\n",
    "        if arr[mid] == target:\n",
    "            return True\n",
    "\n",
    "        # Special Case - [3, 1, 2, 3, 3, 3, 3, 3], eliminating left or right is not possible\n",
    "        elif arr[low] == arr[mid] == arr[high]:\n",
    "            low, high = low + 1, high - 1\n",
    "\n",
    "        # Left half is sorted\n",
    "        elif arr[low] <= arr[mid]:\n",
    "            # Element can be found in the left half\n",
    "            if arr[low] <= target <= arr[mid]:\n",
    "                high = mid - 1\n",
    "            else:\n",
    "                low = mid + 1\n",
    "\n",
    "        # Right half is sorted\n",
    "        else:\n",
    "            # Element can be found in the right half\n",
    "            if arr[mid] <= target <= arr[high]:\n",
    "                low = mid + 1\n",
    "            else:\n",
    "                high = mid - 1\n",
    "    else:\n",
    "        return False\n",
    "\n",
    "search_rotated_sorted2([3, 1, 2, 3, 3, 3, 3], 1)"
   ]
  },
  {
   "cell_type": "markdown",
   "id": "6657c71c",
   "metadata": {
    "papermill": {
     "duration": 0.016962,
     "end_time": "2024-03-31T04:08:05.887388",
     "exception": false,
     "start_time": "2024-03-31T04:08:05.870426",
     "status": "completed"
    },
    "tags": []
   },
   "source": [
    "Video Link: https://www.youtube.com/watch?v=nhEMDKMB44g&list=PLgUwDviBIf0oF6QL8m22w1hIDC1vJ_BHz&index=50\n",
    "Leetcode: https://leetcode.com/problems/find-minimum-in-rotated-sorted-array/submissions/1210490796"
   ]
  },
  {
   "cell_type": "code",
   "execution_count": 17,
   "id": "b50d9ac8",
   "metadata": {
    "execution": {
     "iopub.execute_input": "2024-03-31T04:08:05.922939Z",
     "iopub.status.busy": "2024-03-31T04:08:05.922334Z",
     "iopub.status.idle": "2024-03-31T04:08:05.929781Z",
     "shell.execute_reply": "2024-03-31T04:08:05.929051Z"
    },
    "papermill": {
     "duration": 0.026937,
     "end_time": "2024-03-31T04:08:05.931434",
     "exception": false,
     "start_time": "2024-03-31T04:08:05.904497",
     "status": "completed"
    },
    "tags": []
   },
   "outputs": [],
   "source": [
    "class Solution:\n",
    "    def findMin(self, nums: list[int]) -> int:\n",
    "        N = len(nums)\n",
    "        low, high, ans = 0, N - 1, nums[0]\n",
    "        while low <= high:\n",
    "            mid = (low + high) // 2\n",
    "            # Left half and right half is sorted (happens when we have crossed the pivot point or if the array was rotated 0 times)\n",
    "            if nums[low] < nums[mid] < nums[high]:\n",
    "                ans = min(ans, nums[low])\n",
    "                low, high = mid + 1, mid - 1\n",
    "\n",
    "            # Left half is sorted, take the min from left half and trim search space to the right half\n",
    "            elif nums[low] <= nums[mid]:\n",
    "                ans = min(ans, nums[low])\n",
    "                low = mid + 1\n",
    "\n",
    "            # Right half is sorted, take the min from the right half and trim search space to the left half\n",
    "            else:\n",
    "                ans = min(ans, nums[mid])\n",
    "                high = mid - 1\n",
    "\n",
    "        return ans\n",
    "\n",
    "# Testing the solution\n",
    "assert Solution().findMin([3,4,5,1,2]) == 1\n",
    "assert Solution().findMin([4,5,6,7,0,1,2]) == 0\n",
    "assert Solution().findMin([11,13,15,17]) == 11"
   ]
  },
  {
   "cell_type": "markdown",
   "id": "c2e4d69a",
   "metadata": {
    "papermill": {
     "duration": 0.017161,
     "end_time": "2024-03-31T04:08:05.965860",
     "exception": false,
     "start_time": "2024-03-31T04:08:05.948699",
     "status": "completed"
    },
    "tags": []
   },
   "source": [
    "Video Link: https://www.youtube.com/watch?v=jtSiWTPLwd0&list=PLgUwDviBIf0oF6QL8m22w1hIDC1vJ_BHz&index=51\n",
    "Count number of times an array has been rotated"
   ]
  },
  {
   "cell_type": "code",
   "execution_count": 18,
   "id": "f854c012",
   "metadata": {
    "execution": {
     "iopub.execute_input": "2024-03-31T04:08:06.001459Z",
     "iopub.status.busy": "2024-03-31T04:08:06.000803Z",
     "iopub.status.idle": "2024-03-31T04:08:06.007831Z",
     "shell.execute_reply": "2024-03-31T04:08:06.007143Z"
    },
    "papermill": {
     "duration": 0.026532,
     "end_time": "2024-03-31T04:08:06.009458",
     "exception": false,
     "start_time": "2024-03-31T04:08:05.982926",
     "status": "completed"
    },
    "tags": []
   },
   "outputs": [
    {
     "data": {
      "text/plain": [
       "4"
      ]
     },
     "execution_count": 18,
     "metadata": {},
     "output_type": "execute_result"
    }
   ],
   "source": [
    "arr = [2, 3, 4, 5, 1]\n",
    "N = len(arr)\n",
    "low, high, ans = 0, N - 1, 0\n",
    "while low <= high:\n",
    "    mid = (low + high) // 2\n",
    "    if arr[low] <= arr[mid]:\n",
    "        if arr[ans] > arr[low]:\n",
    "            ans = low\n",
    "        low = mid + 1\n",
    "    else:\n",
    "        if arr[ans] > arr[mid]:\n",
    "            ans = mid\n",
    "        high = mid - 1\n",
    "\n",
    "ans"
   ]
  },
  {
   "cell_type": "markdown",
   "id": "5769e9e8",
   "metadata": {
    "papermill": {
     "duration": 0.03577,
     "end_time": "2024-03-31T04:08:06.062689",
     "exception": false,
     "start_time": "2024-03-31T04:08:06.026919",
     "status": "completed"
    },
    "tags": []
   },
   "source": [
    "Video Link: https://www.youtube.com/watch?v=AZOmHuHadxQ&list=PLgUwDviBIf0oF6QL8m22w1hIDC1vJ_BHz&index=52\n",
    "Leetcode link: https://leetcode.com/problems/single-element-in-a-sorted-array/submissions/1211393503"
   ]
  },
  {
   "cell_type": "code",
   "execution_count": 19,
   "id": "1abaf5dd",
   "metadata": {
    "execution": {
     "iopub.execute_input": "2024-03-31T04:08:06.099439Z",
     "iopub.status.busy": "2024-03-31T04:08:06.098816Z",
     "iopub.status.idle": "2024-03-31T04:08:06.105085Z",
     "shell.execute_reply": "2024-03-31T04:08:06.104256Z"
    },
    "papermill": {
     "duration": 0.026566,
     "end_time": "2024-03-31T04:08:06.106833",
     "exception": false,
     "start_time": "2024-03-31T04:08:06.080267",
     "status": "completed"
    },
    "tags": []
   },
   "outputs": [
    {
     "data": {
      "text/plain": [
       "4"
      ]
     },
     "execution_count": 19,
     "metadata": {},
     "output_type": "execute_result"
    }
   ],
   "source": [
    "# Brute force approach\n",
    "# Time - O(N)\n",
    "arr = [1, 1, 2, 2, 3, 3, 4, 5, 5, 6, 6]\n",
    "res = 0\n",
    "for i in arr:\n",
    "    res ^= i\n",
    "res"
   ]
  },
  {
   "cell_type": "code",
   "execution_count": 20,
   "id": "69d77039",
   "metadata": {
    "execution": {
     "iopub.execute_input": "2024-03-31T04:08:06.142632Z",
     "iopub.status.busy": "2024-03-31T04:08:06.142329Z",
     "iopub.status.idle": "2024-03-31T04:08:06.150751Z",
     "shell.execute_reply": "2024-03-31T04:08:06.149964Z"
    },
    "lines_to_next_cell": 1,
    "papermill": {
     "duration": 0.028186,
     "end_time": "2024-03-31T04:08:06.152390",
     "exception": false,
     "start_time": "2024-03-31T04:08:06.124204",
     "status": "completed"
    },
    "tags": []
   },
   "outputs": [
    {
     "data": {
      "text/plain": [
       "4"
      ]
     },
     "execution_count": 20,
     "metadata": {},
     "output_type": "execute_result"
    }
   ],
   "source": [
    "# Better approach: O(log N)\n",
    "\"\"\"\n",
    "[1, 2, 2]\n",
    "[1, 1, 2]\n",
    "[1, 2, 2, 3, 3]\n",
    "[1, 1, 2, 3, 3]\n",
    "[1, 1, 2, 2, 3]\n",
    "[1, 2, 2, 3, 3, 4, 4]\n",
    "[1, 1, 2, 3, 3, 4, 4]\n",
    "[1, 1, 2, 2, 3, 4, 4]\n",
    "[1, 1, 2, 2, 3, 3, 4]\n",
    "# if mid is odd, mid - 1, mid should be same for left to be okay: low = mid + 1 / high = mid + 1\n",
    "# if mid is even, mid, mid + 1 should be the same for left to be okay: low = mid / high = mid\n",
    "\"\"\"\n",
    "arr = [1, 1, 2, 2, 3, 3, 4, 5, 5, 6, 6]\n",
    "N = len(arr)\n",
    "low, high = 0, N - 1\n",
    "while low < high:\n",
    "    mid = (low + high) // 2\n",
    "    if mid % 2 == 0:\n",
    "        if arr[mid] == arr[mid + 1]:\n",
    "            low = mid\n",
    "        else:\n",
    "            high = mid\n",
    "    else:\n",
    "        if arr[mid] == arr[mid - 1]:\n",
    "            low = mid + 1\n",
    "        else:\n",
    "            high = mid - 1\n",
    "\n",
    "arr[low]"
   ]
  },
  {
   "cell_type": "markdown",
   "id": "1879fb32",
   "metadata": {
    "papermill": {
     "duration": 0.017463,
     "end_time": "2024-03-31T04:08:06.187425",
     "exception": false,
     "start_time": "2024-03-31T04:08:06.169962",
     "status": "completed"
    },
    "tags": []
   },
   "source": [
    "Video Link: https://www.youtube.com/watch?v=cXxmbemS6XM&list=PLgUwDviBIf0oF6QL8m22w1hIDC1vJ_BHz&index=53\n",
    "Find Peak element"
   ]
  },
  {
   "cell_type": "code",
   "execution_count": 21,
   "id": "7126b9cc",
   "metadata": {
    "execution": {
     "iopub.execute_input": "2024-03-31T04:08:06.223945Z",
     "iopub.status.busy": "2024-03-31T04:08:06.223352Z",
     "iopub.status.idle": "2024-03-31T04:08:06.230294Z",
     "shell.execute_reply": "2024-03-31T04:08:06.229539Z"
    },
    "lines_to_next_cell": 1,
    "papermill": {
     "duration": 0.027137,
     "end_time": "2024-03-31T04:08:06.232132",
     "exception": false,
     "start_time": "2024-03-31T04:08:06.204995",
     "status": "completed"
    },
    "tags": []
   },
   "outputs": [],
   "source": [
    "def findPeakElement(arr: [int]) -> int:\n",
    "    N = len(arr)\n",
    "    low, high = 0, N - 1\n",
    "    while low <= high:\n",
    "        mid = (low + high) // 2\n",
    "        l, m, r = arr[mid - 1] if mid > 0 else -math.inf, arr[mid], arr[mid + 1] if mid < N - 1 else -math.inf\n",
    "        if l <  m > r:\n",
    "            return mid\n",
    "        elif l < m < r:\n",
    "            low = mid + 1\n",
    "        # handles both cases - l > m > r and l > m < r\n",
    "        # If the case is l > m < r, multiple peak exists, going any dir we would be able to reach a peak\n",
    "        else:\n",
    "            high = mid - 1\n",
    "    return -1\n",
    "\n",
    "# Testing the solution\n",
    "assert findPeakElement([1, 2, 3, 1]) == 2\n",
    "assert findPeakElement([1,2,1,3,5,6,4]) == 5"
   ]
  },
  {
   "cell_type": "markdown",
   "id": "399ae8e1",
   "metadata": {
    "papermill": {
     "duration": 0.017672,
     "end_time": "2024-03-31T04:08:06.267394",
     "exception": false,
     "start_time": "2024-03-31T04:08:06.249722",
     "status": "completed"
    },
    "tags": []
   },
   "source": [
    "Video Link: https://www.youtube.com/watch?v=Bsv3FPUX_BA&list=PLgUwDviBIf0oF6QL8m22w1hIDC1vJ_BHz&index=54\n",
    "Square root of a number using binary search\n",
    "Take home:\n",
    "\n",
    "1. For questions involving patterns where ans is possible uptil a certain extent and post which answers are not possible, we can apply our binary search algorithm (we always know the range of possible answers)\n",
    "2. When we are having regions of possible and not possible like so: [ans, ans, ans, not ans, not ans] - at the end of binary search, low will end up pointing at a position that is 1 greater than the ans (3) while high will end up pointing at the ans (2)"
   ]
  },
  {
   "cell_type": "code",
   "execution_count": 22,
   "id": "64144c7a",
   "metadata": {
    "execution": {
     "iopub.execute_input": "2024-03-31T04:08:06.303911Z",
     "iopub.status.busy": "2024-03-31T04:08:06.303214Z",
     "iopub.status.idle": "2024-03-31T04:08:06.340941Z",
     "shell.execute_reply": "2024-03-31T04:08:06.340188Z"
    },
    "lines_to_next_cell": 1,
    "papermill": {
     "duration": 0.057686,
     "end_time": "2024-03-31T04:08:06.342546",
     "exception": false,
     "start_time": "2024-03-31T04:08:06.284860",
     "status": "completed"
    },
    "tags": []
   },
   "outputs": [
    {
     "name": "stderr",
     "output_type": "stream",
     "text": [
      "\r",
      "  0%|          | 0/10000 [00:00<?, ?it/s]"
     ]
    },
    {
     "name": "stderr",
     "output_type": "stream",
     "text": [
      "\r",
      "100%|██████████| 10000/10000 [00:00<00:00, 332530.27it/s]"
     ]
    },
    {
     "name": "stderr",
     "output_type": "stream",
     "text": [
      "\n"
     ]
    }
   ],
   "source": [
    "def floorSqrt(n: int) -> int:\n",
    "    'Time - O(log n)'\n",
    "    low, high = 1, n\n",
    "    while low <= high:\n",
    "        mid = (low + high) // 2\n",
    "        if mid * mid > n:\n",
    "            high = mid - 1\n",
    "        else:\n",
    "            low = mid + 1\n",
    "\n",
    "    return high\n",
    "\n",
    "# Testing the solution\n",
    "for i in tqdm.tqdm(range(int(1e4))):\n",
    "    assert floorSqrt(i) == int(math.sqrt(i))"
   ]
  },
  {
   "cell_type": "markdown",
   "id": "21ab1eeb",
   "metadata": {
    "papermill": {
     "duration": 0.017783,
     "end_time": "2024-03-31T04:08:06.378362",
     "exception": false,
     "start_time": "2024-03-31T04:08:06.360579",
     "status": "completed"
    },
    "tags": []
   },
   "source": [
    "Video Link: https://www.youtube.com/watch?v=rjEJeYCasHs&list=PLgUwDviBIf0oF6QL8m22w1hIDC1vJ_BHz&index=55\n",
    "Find Nth root of an integer"
   ]
  },
  {
   "cell_type": "code",
   "execution_count": 23,
   "id": "8e8ba6e9",
   "metadata": {
    "execution": {
     "iopub.execute_input": "2024-03-31T04:08:06.414963Z",
     "iopub.status.busy": "2024-03-31T04:08:06.414675Z",
     "iopub.status.idle": "2024-03-31T04:08:06.419917Z",
     "shell.execute_reply": "2024-03-31T04:08:06.419153Z"
    },
    "lines_to_next_cell": 1,
    "papermill": {
     "duration": 0.025453,
     "end_time": "2024-03-31T04:08:06.421590",
     "exception": false,
     "start_time": "2024-03-31T04:08:06.396137",
     "status": "completed"
    },
    "tags": []
   },
   "outputs": [],
   "source": [
    "# Brute force\n",
    "def NthRoot_brute(n: int, m: int) -> int:\n",
    "    \"Brute force - O(m * n)\"\n",
    "    for i in range(m):\n",
    "        curr = 1\n",
    "        for _ in range(n):\n",
    "            curr *= i\n",
    "            if curr > m:\n",
    "                break\n",
    "        if curr == m:\n",
    "            return i\n",
    "        elif curr > m:\n",
    "            break\n",
    "    return -1\n",
    "\n",
    "# Testing the solution\n",
    "assert NthRoot_brute(3, 27) == 3\n",
    "assert NthRoot_brute(4, 69) == -1"
   ]
  },
  {
   "cell_type": "code",
   "execution_count": 24,
   "id": "accd0d1c",
   "metadata": {
    "execution": {
     "iopub.execute_input": "2024-03-31T04:08:06.458770Z",
     "iopub.status.busy": "2024-03-31T04:08:06.458165Z",
     "iopub.status.idle": "2024-03-31T04:08:06.464300Z",
     "shell.execute_reply": "2024-03-31T04:08:06.463682Z"
    },
    "lines_to_next_cell": 1,
    "papermill": {
     "duration": 0.026443,
     "end_time": "2024-03-31T04:08:06.465967",
     "exception": false,
     "start_time": "2024-03-31T04:08:06.439524",
     "status": "completed"
    },
    "tags": []
   },
   "outputs": [],
   "source": [
    "# Optimal - Binary Search\n",
    "def NthRoot_binary(n: int, m: int) -> int:\n",
    "    \"Using binary search - O(log m * n)\"\n",
    "    low, high = 0, m\n",
    "    while low <= high:\n",
    "        mid = (low + high) // 2\n",
    "\n",
    "        curr = 1\n",
    "        for _ in range(n):\n",
    "            curr *= mid\n",
    "            if curr > m:\n",
    "                break\n",
    "\n",
    "        if curr == m:\n",
    "            return mid\n",
    "        elif curr < m:\n",
    "            low = mid + 1\n",
    "        else:\n",
    "            high = mid - 1\n",
    "\n",
    "    return -1\n",
    "\n",
    "# Testing the solution\n",
    "assert NthRoot_binary(3, 27) == 3\n",
    "assert NthRoot_binary(4, 69) == -1"
   ]
  },
  {
   "cell_type": "markdown",
   "id": "201c8d96",
   "metadata": {
    "papermill": {
     "duration": 0.017779,
     "end_time": "2024-03-31T04:08:06.501740",
     "exception": false,
     "start_time": "2024-03-31T04:08:06.483961",
     "status": "completed"
    },
    "tags": []
   },
   "source": [
    "Video link: https://youtu.be/qyfekrNni90?si=N28mkp8Cyx4lvNIq  \n",
    "Problem: Koko eating bananas"
   ]
  },
  {
   "cell_type": "code",
   "execution_count": 25,
   "id": "24fcadf8",
   "metadata": {
    "execution": {
     "iopub.execute_input": "2024-03-31T04:08:06.538336Z",
     "iopub.status.busy": "2024-03-31T04:08:06.538079Z",
     "iopub.status.idle": "2024-03-31T04:08:06.543639Z",
     "shell.execute_reply": "2024-03-31T04:08:06.542995Z"
    },
    "lines_to_next_cell": 1,
    "papermill": {
     "duration": 0.025656,
     "end_time": "2024-03-31T04:08:06.545289",
     "exception": false,
     "start_time": "2024-03-31T04:08:06.519633",
     "status": "completed"
    },
    "tags": []
   },
   "outputs": [],
   "source": [
    "# Brute force solution: O(v * h)\n",
    "def minimumRateToEatBananas_brute(v: list[int], h: int) -> int:\n",
    "    m, min_hours = 0, sum(v)\n",
    "    while min_hours > h:\n",
    "        m += 1\n",
    "        min_hours = 0\n",
    "        for p in v:\n",
    "            min_hours += math.ceil(p / m)\n",
    "\n",
    "    return m\n",
    "\n",
    "# Testing the solution\n",
    "assert minimumRateToEatBananas_brute([7, 15, 6, 3], 8) == 5\n",
    "assert minimumRateToEatBananas_brute([25, 12, 8, 14, 19], 5) == 25"
   ]
  },
  {
   "cell_type": "code",
   "execution_count": 26,
   "id": "77605b2a",
   "metadata": {
    "execution": {
     "iopub.execute_input": "2024-03-31T04:08:06.582489Z",
     "iopub.status.busy": "2024-03-31T04:08:06.581795Z",
     "iopub.status.idle": "2024-03-31T04:08:06.589077Z",
     "shell.execute_reply": "2024-03-31T04:08:06.588424Z"
    },
    "lines_to_next_cell": 1,
    "papermill": {
     "duration": 0.0276,
     "end_time": "2024-03-31T04:08:06.590741",
     "exception": false,
     "start_time": "2024-03-31T04:08:06.563141",
     "status": "completed"
    },
    "tags": []
   },
   "outputs": [],
   "source": [
    "# Better solution\n",
    "def minimumRateToEatBananas_better(v: list[int], h: int) -> int:\n",
    "    def compute_hours(m: int) -> int:\n",
    "        \"Assumes piles is sorted in asc order\"\n",
    "        V = N # Copy N for modification\n",
    "        hours = 0\n",
    "        while v[V - 1] > m and V > 0:\n",
    "            hours += math.ceil(v[V - 1] / m)\n",
    "            V -= 1\n",
    "\n",
    "        return hours + V\n",
    "\n",
    "    N = len(v)\n",
    "\n",
    "    # Time: O(v log v)\n",
    "    v.sort()\n",
    "\n",
    "    # Binary search\n",
    "    low, high = 1, v[-1]\n",
    "    while low <= high:\n",
    "        mid = (low + high) // 2\n",
    "        curr = compute_hours(mid)\n",
    "        if curr > h:\n",
    "            low = mid + 1\n",
    "        else:\n",
    "            high = mid - 1\n",
    "\n",
    "    return low\n",
    "\n",
    "# Testing the solution\n",
    "assert minimumRateToEatBananas_better([9], 2) == 5\n",
    "assert minimumRateToEatBananas_better([7, 15, 6, 3], 8) == 5\n",
    "assert minimumRateToEatBananas_better([25, 12, 8, 14, 19], 5) == 25"
   ]
  },
  {
   "cell_type": "markdown",
   "id": "81512acb",
   "metadata": {
    "papermill": {
     "duration": 0.017684,
     "end_time": "2024-03-31T04:08:06.626209",
     "exception": false,
     "start_time": "2024-03-31T04:08:06.608525",
     "status": "completed"
    },
    "tags": []
   },
   "source": [
    "Video Link: https://www.youtube.com/watch?v=TXAuxeYBTdg&list=PLgUwDviBIf0oF6QL8m22w1hIDC1vJ_BHz&index=57\n",
    "Minimum days to make M boquets"
   ]
  },
  {
   "cell_type": "code",
   "execution_count": 27,
   "id": "76ca4e35",
   "metadata": {
    "execution": {
     "iopub.execute_input": "2024-03-31T04:08:06.662807Z",
     "iopub.status.busy": "2024-03-31T04:08:06.662563Z",
     "iopub.status.idle": "2024-03-31T04:08:06.671200Z",
     "shell.execute_reply": "2024-03-31T04:08:06.670425Z"
    },
    "lines_to_next_cell": 1,
    "papermill": {
     "duration": 0.028908,
     "end_time": "2024-03-31T04:08:06.672855",
     "exception": false,
     "start_time": "2024-03-31T04:08:06.643947",
     "status": "completed"
    },
    "tags": []
   },
   "outputs": [],
   "source": [
    "# Solution link: https://leetcode.com/problems/minimum-number-of-days-to-make-m-bouquets/submissions/1213963810\n",
    "class Solution:\n",
    "    def minDays(self, bloomDay: list[int], m: int, k: int) -> int:\n",
    "        def countBoquets(day: int) -> int:\n",
    "            \"Count boquets in O(N) time\"\n",
    "            flower_count, boquet_count = 0, 0\n",
    "            for i in range(N):\n",
    "                if bloomDay[i] <= day:\n",
    "                    flower_count += 1\n",
    "                else:\n",
    "                    flower_count = 0\n",
    "\n",
    "                if flower_count == k:\n",
    "                    boquet_count += 1\n",
    "                    flower_count = 0\n",
    "\n",
    "            return boquet_count\n",
    "\n",
    "        N = len(bloomDay)\n",
    "\n",
    "        answer_range = sorted(set(bloomDay))\n",
    "        answer_range_length = len(answer_range)\n",
    "        low, high = 0, answer_range_length - 1\n",
    "        while low <= high:\n",
    "            mid = (low + high) // 2\n",
    "            boquet_count = countBoquets(answer_range[mid])\n",
    "            if boquet_count >= m:\n",
    "                high = mid - 1\n",
    "            else:\n",
    "                low = mid + 1\n",
    "\n",
    "        return answer_range[low] if low < answer_range_length else -1\n",
    "\n",
    "# Testing the solution\n",
    "assert Solution().minDays([1,10,3,10,2], 3, 1) == 3\n",
    "assert Solution().minDays([1,10,3,10,2], 3, 2) == -1\n",
    "assert Solution().minDays([7,7,7,7,12,7,7], 2, 3) == 12"
   ]
  },
  {
   "cell_type": "markdown",
   "id": "03f3ffa2",
   "metadata": {
    "papermill": {
     "duration": 0.017596,
     "end_time": "2024-03-31T04:08:06.708376",
     "exception": false,
     "start_time": "2024-03-31T04:08:06.690780",
     "status": "completed"
    },
    "tags": []
   },
   "source": [
    "Video Link: https://www.youtube.com/watch?v=UvBKTVaG6U8&list=PLgUwDviBIf0oF6QL8m22w1hIDC1vJ_BHz&index=58\n",
    "Smallest divisor given the threshold"
   ]
  },
  {
   "cell_type": "code",
   "execution_count": 28,
   "id": "fbac3ba5",
   "metadata": {
    "execution": {
     "iopub.execute_input": "2024-03-31T04:08:06.745590Z",
     "iopub.status.busy": "2024-03-31T04:08:06.744929Z",
     "iopub.status.idle": "2024-03-31T04:08:06.751996Z",
     "shell.execute_reply": "2024-03-31T04:08:06.751370Z"
    },
    "lines_to_next_cell": 1,
    "papermill": {
     "duration": 0.027393,
     "end_time": "2024-03-31T04:08:06.753633",
     "exception": false,
     "start_time": "2024-03-31T04:08:06.726240",
     "status": "completed"
    },
    "tags": []
   },
   "outputs": [],
   "source": [
    "# Solution Link: https://leetcode.com/problems/find-the-smallest-divisor-given-a-threshold/submissions/1213975584\n",
    "class Solution:\n",
    "    def smallestDivisor(self, nums: list[int], threshold: int) -> int:\n",
    "        def calcThresh(divisor: int) -> int:\n",
    "            thresh = 0\n",
    "            for n in nums:\n",
    "                thresh += math.ceil(n / divisor)\n",
    "            return thresh\n",
    "\n",
    "        N = len(nums)\n",
    "        low, high = 1, max(nums)\n",
    "        while low <= high:\n",
    "            mid = (low + high) // 2\n",
    "            if calcThresh(mid) <= threshold:\n",
    "                high = mid - 1\n",
    "            else:\n",
    "                low = mid + 1\n",
    "\n",
    "        return low\n",
    "\n",
    "# Testing the solution\n",
    "assert Solution().smallestDivisor([1,2,5,9], 6) == 5\n",
    "assert Solution().smallestDivisor([44,22,33,11,1], 5) == 44\n",
    "assert Solution().smallestDivisor([21212,10101,12121], 1000000) == 1"
   ]
  },
  {
   "cell_type": "markdown",
   "id": "01e65497",
   "metadata": {
    "papermill": {
     "duration": 0.017743,
     "end_time": "2024-03-31T04:08:06.789341",
     "exception": false,
     "start_time": "2024-03-31T04:08:06.771598",
     "status": "completed"
    },
    "tags": []
   },
   "source": [
    "Video Link: https://www.youtube.com/watch?v=MG-Ac4TAvTY&list=PLgUwDviBIf0oF6QL8m22w1hIDC1vJ_BHz&index=59\n",
    "Capacity to ship packages in D Days"
   ]
  },
  {
   "cell_type": "code",
   "execution_count": 29,
   "id": "48336458",
   "metadata": {
    "execution": {
     "iopub.execute_input": "2024-03-31T04:08:06.825949Z",
     "iopub.status.busy": "2024-03-31T04:08:06.825710Z",
     "iopub.status.idle": "2024-03-31T04:08:06.833629Z",
     "shell.execute_reply": "2024-03-31T04:08:06.832964Z"
    },
    "lines_to_next_cell": 1,
    "papermill": {
     "duration": 0.028269,
     "end_time": "2024-03-31T04:08:06.835355",
     "exception": false,
     "start_time": "2024-03-31T04:08:06.807086",
     "status": "completed"
    },
    "tags": []
   },
   "outputs": [],
   "source": [
    "# Problem link: https://leetcode.com/problems/capacity-to-ship-packages-within-d-days/submissions/1214006136\n",
    "class Solution:\n",
    "    def shipWithinDays(self, weights: list[int], days: int) -> int:\n",
    "        def countDays(capacity: int) -> int:\n",
    "            day_count = 0\n",
    "            weight = 0\n",
    "            for w in weights:\n",
    "                if weight + w <= capacity:\n",
    "                    weight += w\n",
    "                else:\n",
    "                    day_count += 1\n",
    "                    weight = w\n",
    "\n",
    "            return day_count + 1\n",
    "\n",
    "        # Sort the weights\n",
    "        N = len(weights)\n",
    "\n",
    "        # Min, max possibile answer - Binary search\n",
    "        low, high = max(weights), sum(weights)\n",
    "        while low <= high:\n",
    "            mid = (low + high) // 2\n",
    "            day_count = countDays(mid)\n",
    "            if day_count <= days:\n",
    "                high = mid - 1\n",
    "            else:\n",
    "                low = mid + 1\n",
    "\n",
    "        return low\n",
    "\n",
    "# Testing the solution\n",
    "assert Solution().shipWithinDays([1,2,3,4,5,6,7,8,9,10], 5) == 15\n",
    "assert Solution().shipWithinDays([3,2,2,4,1,4], 3) == 6\n",
    "assert Solution().shipWithinDays([1,2,3,1,1], 4) == 3"
   ]
  },
  {
   "cell_type": "markdown",
   "id": "0a0d2642",
   "metadata": {
    "papermill": {
     "duration": 0.017654,
     "end_time": "2024-03-31T04:08:06.871013",
     "exception": false,
     "start_time": "2024-03-31T04:08:06.853359",
     "status": "completed"
    },
    "tags": []
   },
   "source": [
    "Video Link: https://www.youtube.com/watch?v=uZ0N_hZpyps&list=PLgUwDviBIf0oF6QL8m22w1hIDC1vJ_BHz&index=60\n",
    "Kth missing +ve number: https://leetcode.com/problems/kth-missing-positive-number/submissions/1215199274/"
   ]
  },
  {
   "cell_type": "code",
   "execution_count": 30,
   "id": "fdbc80fd",
   "metadata": {
    "execution": {
     "iopub.execute_input": "2024-03-31T04:08:06.907744Z",
     "iopub.status.busy": "2024-03-31T04:08:06.907203Z",
     "iopub.status.idle": "2024-03-31T04:08:06.915979Z",
     "shell.execute_reply": "2024-03-31T04:08:06.915221Z"
    },
    "lines_to_next_cell": 1,
    "papermill": {
     "duration": 0.028889,
     "end_time": "2024-03-31T04:08:06.917543",
     "exception": false,
     "start_time": "2024-03-31T04:08:06.888654",
     "status": "completed"
    },
    "tags": []
   },
   "outputs": [],
   "source": [
    "# Linear run time solution\n",
    "class Solution:\n",
    "    def findKthPositive_brute(self, arr: list[int], k: int) -> int:\n",
    "        \"Brute force: Time - O(N), Space - O(N)\"\n",
    "        present: set[int] = set(arr)\n",
    "        max_ = arr[-1] + k\n",
    "        for i in range(1, max_ + 1):\n",
    "            if i not in present:\n",
    "                k -= 1\n",
    "            if k == 0:\n",
    "                break\n",
    "        return i\n",
    "\n",
    "    def findKthPositive_better(self, arr: list[int], k: int) -> int:\n",
    "        \"Striver Better solution: Time - O(N), Space - O(1)\"\n",
    "        for n in arr:\n",
    "            if n <= k:\n",
    "                k += 1\n",
    "            else:\n",
    "                break\n",
    "        return k\n",
    "\n",
    "    def findKthPositive(self, arr: list[int], k: int) -> int:\n",
    "        \"\"\"\n",
    "        Optimal - Binary search: Time - O(log N)\n",
    "        Primary Observation: Count of missing elements prior to index: arr[idx] - idx - 1.\n",
    "        This is because if there were no missing elements, at any idx the number should be idx + 1.\n",
    "\n",
    "        With this logic in mind, we can apply binary search.\n",
    "        \"\"\"\n",
    "        N = len(arr)\n",
    "        low, high = 0, N - 1\n",
    "        while low <= high:\n",
    "            mid = (low + high) // 2\n",
    "            missing_count = arr[mid] - mid - 1\n",
    "            if missing_count < k:\n",
    "                low = mid + 1\n",
    "            else:\n",
    "                high = mid - 1\n",
    "\n",
    "        # arr[high] + more \n",
    "        # arr[high] + k - missing \n",
    "        # arr[high] + k - arr[high] + high + 1\n",
    "        return high + k + 1\n",
    "\n",
    "# Testing the solution\n",
    "assert Solution().findKthPositive([2, 3, 4, 7, 11], 5) == 9"
   ]
  },
  {
   "cell_type": "markdown",
   "id": "5275fb71",
   "metadata": {
    "papermill": {
     "duration": 0.017707,
     "end_time": "2024-03-31T04:08:06.953119",
     "exception": false,
     "start_time": "2024-03-31T04:08:06.935412",
     "status": "completed"
    },
    "tags": []
   },
   "source": [
    "Video Link: https://www.youtube.com/watch?v=R_Mfw4ew-Vo&list=PLgUwDviBIf0oF6QL8m22w1hIDC1vJ_BHz&index=61"
   ]
  },
  {
   "cell_type": "code",
   "execution_count": 31,
   "id": "8139b363",
   "metadata": {
    "execution": {
     "iopub.execute_input": "2024-03-31T04:08:06.990265Z",
     "iopub.status.busy": "2024-03-31T04:08:06.989673Z",
     "iopub.status.idle": "2024-03-31T04:08:06.996323Z",
     "shell.execute_reply": "2024-03-31T04:08:06.995675Z"
    },
    "lines_to_next_cell": 1,
    "papermill": {
     "duration": 0.026966,
     "end_time": "2024-03-31T04:08:06.997988",
     "exception": false,
     "start_time": "2024-03-31T04:08:06.971022",
     "status": "completed"
    },
    "tags": []
   },
   "outputs": [],
   "source": [
    "# Brute force: ~ O(2 ^ N)\n",
    "def aggressiveCows(stalls: list[int], k: int) -> int:\n",
    "    def compute_min_distance(placement: tuple[int]) -> int:\n",
    "        dist = stalls[-1] - stalls[0]\n",
    "        for i in range(k - 1):\n",
    "            dist = min(dist, placement[i + 1] - placement[i])\n",
    "\n",
    "        return dist\n",
    "\n",
    "    # Sort the stalls so that the min dist would always be between 2 consequtive stalls\n",
    "    stalls.sort()\n",
    "\n",
    "    # Generate all subsequences\n",
    "    result = 0\n",
    "    for placement in itertools.combinations(stalls, k):\n",
    "        result = max(result, compute_min_distance(placement))\n",
    "    return result\n",
    "\n",
    "# Testing the solution\n",
    "assert aggressiveCows([0, 3, 4, 7, 10, 9], 4) == 3\n",
    "assert aggressiveCows([4, 2, 1, 3, 6], 2) == 5"
   ]
  },
  {
   "cell_type": "code",
   "execution_count": 32,
   "id": "ba2f0950",
   "metadata": {
    "execution": {
     "iopub.execute_input": "2024-03-31T04:08:07.035179Z",
     "iopub.status.busy": "2024-03-31T04:08:07.034518Z",
     "iopub.status.idle": "2024-03-31T04:08:07.041886Z",
     "shell.execute_reply": "2024-03-31T04:08:07.041157Z"
    },
    "lines_to_next_cell": 1,
    "papermill": {
     "duration": 0.027888,
     "end_time": "2024-03-31T04:08:07.043669",
     "exception": false,
     "start_time": "2024-03-31T04:08:07.015781",
     "status": "completed"
    },
    "tags": []
   },
   "outputs": [],
   "source": [
    "# Better: ~ O(N ^ 2) \n",
    "def aggressiveCows(stalls: list[int], k: int) -> int:\n",
    "    stalls.sort()\n",
    "\n",
    "    N = len(stalls)\n",
    "\n",
    "    distances = []\n",
    "    for i in range(N - 1):\n",
    "        distances.append(stalls[i + 1] - stalls[i])\n",
    "\n",
    "    # Eliminate N - k stalls\n",
    "    for i in range(N - k):\n",
    "        # Find min dist idx\n",
    "        min_ = 0\n",
    "        for j in range(N - i - 1):\n",
    "            if distances[j] < distances[min_]:\n",
    "                min_ = j\n",
    "        # Combine with the smaller value\n",
    "        if min_ == 0 or (min_ < N - i - 2 and distances[min_ + 1] < distances[min_ - 1]):\n",
    "            distances[min_ + 1] += distances[min_]\n",
    "        else:\n",
    "            distances[min_ - 1] += distances[min_]\n",
    "\n",
    "        # Remove that distance\n",
    "        distances.pop(min_)\n",
    "\n",
    "    return min(distances)\n",
    "\n",
    "# Testing the solution\n",
    "assert aggressiveCows([0, 3, 4, 7, 10, 9], 4) == 3\n",
    "assert aggressiveCows([4, 2, 1, 3, 6], 2) == 5"
   ]
  },
  {
   "cell_type": "code",
   "execution_count": 33,
   "id": "64f42a77",
   "metadata": {
    "execution": {
     "iopub.execute_input": "2024-03-31T04:08:07.081213Z",
     "iopub.status.busy": "2024-03-31T04:08:07.080654Z",
     "iopub.status.idle": "2024-03-31T04:08:07.087789Z",
     "shell.execute_reply": "2024-03-31T04:08:07.087013Z"
    },
    "lines_to_next_cell": 1,
    "papermill": {
     "duration": 0.027867,
     "end_time": "2024-03-31T04:08:07.089410",
     "exception": false,
     "start_time": "2024-03-31T04:08:07.061543",
     "status": "completed"
    },
    "tags": []
   },
   "outputs": [],
   "source": [
    "# Optimal Striver: O(N log N)\n",
    "def aggressiveCows(stalls: list[int], k: int) -> int:\n",
    "    def place_cows(dist: int) -> bool:\n",
    "        \"Place k cows with a min of k dist (>= dist)\"\n",
    "\n",
    "        # Place 1st cow at idx 0\n",
    "        k_, prev = k - 1, 0\n",
    "        for i in range(1, N):\n",
    "            if stalls[i] - stalls[prev] >= dist:\n",
    "                prev = i\n",
    "                k_ -= 1\n",
    "            if k_ == 0:\n",
    "                break\n",
    "\n",
    "        return k_ == 0\n",
    "\n",
    "    N = len(stalls)\n",
    "    stalls.sort()\n",
    "\n",
    "    low, high = 1, stalls[-1] - stalls[0]\n",
    "    while low <= high:\n",
    "        mid = (low + high) // 2\n",
    "        if place_cows(mid):\n",
    "            low = mid + 1\n",
    "        else:\n",
    "            high = mid - 1\n",
    "\n",
    "    return high\n",
    "\n",
    "# Testing the solution\n",
    "assert aggressiveCows([0, 3, 4, 7, 10, 9], 4) == 3\n",
    "assert aggressiveCows([4, 2, 1, 3, 6], 2) == 5"
   ]
  },
  {
   "cell_type": "markdown",
   "id": "c6415f70",
   "metadata": {
    "papermill": {
     "duration": 0.017767,
     "end_time": "2024-03-31T04:08:07.125292",
     "exception": false,
     "start_time": "2024-03-31T04:08:07.107525",
     "status": "completed"
    },
    "tags": []
   },
   "source": [
    "Video link: https://www.youtube.com/watch?v=Z0hwjftStI4&list=PLgUwDviBIf0oF6QL8m22w1hIDC1vJ_BHz&index=62"
   ]
  },
  {
   "cell_type": "code",
   "execution_count": 34,
   "id": "4e6344ff",
   "metadata": {
    "execution": {
     "iopub.execute_input": "2024-03-31T04:08:07.162261Z",
     "iopub.status.busy": "2024-03-31T04:08:07.161585Z",
     "iopub.status.idle": "2024-03-31T04:08:07.168522Z",
     "shell.execute_reply": "2024-03-31T04:08:07.167791Z"
    },
    "lines_to_next_cell": 1,
    "papermill": {
     "duration": 0.027097,
     "end_time": "2024-03-31T04:08:07.170169",
     "exception": false,
     "start_time": "2024-03-31T04:08:07.143072",
     "status": "completed"
    },
    "tags": []
   },
   "outputs": [],
   "source": [
    "# Brute force solution, Time, Space: O(N!)\n",
    "def findPages(arr: list[int], n: int, m: int) -> float:\n",
    "    N = len(arr)\n",
    "\n",
    "    @functools.cache\n",
    "    def backtrack(start: int, n_students: int) -> float:\n",
    "        if n_students == 1:\n",
    "            return sum(arr[start:])\n",
    "\n",
    "        else:\n",
    "            result = math.inf\n",
    "            sum_ = 0\n",
    "            for i in range(start, N - n_students + 1):\n",
    "                sum_ += arr[i]\n",
    "                result = min(result, max(sum_, backtrack(i + 1, n_students - 1)))\n",
    "\n",
    "            return result\n",
    "\n",
    "    result = backtrack(0, m)\n",
    "    return -1 if math.isinf(result) else result\n",
    "\n",
    "# Testing the solution\n",
    "assert findPages([12, 34, 67, 90], 4, 2) == 113\n",
    "assert findPages([25, 46, 28, 49, 24], 5, 4) == 71"
   ]
  },
  {
   "cell_type": "code",
   "execution_count": 35,
   "id": "569cb019",
   "metadata": {
    "execution": {
     "iopub.execute_input": "2024-03-31T04:08:07.207422Z",
     "iopub.status.busy": "2024-03-31T04:08:07.206778Z",
     "iopub.status.idle": "2024-03-31T04:08:07.215039Z",
     "shell.execute_reply": "2024-03-31T04:08:07.214417Z"
    },
    "lines_to_next_cell": 1,
    "papermill": {
     "duration": 0.028554,
     "end_time": "2024-03-31T04:08:07.216665",
     "exception": false,
     "start_time": "2024-03-31T04:08:07.188111",
     "status": "completed"
    },
    "tags": []
   },
   "outputs": [],
   "source": [
    "# Optimal - Binary search, Time - O(N log N)\n",
    "def findPages(arr: list[int], n: int, m: int) -> float:\n",
    "    N = len(arr)\n",
    "\n",
    "    def assign(maxPages: int) -> bool:\n",
    "        \"\"\"\n",
    "        Logic for this is more crucial than binary search itself.\n",
    "\n",
    "        Tip: Splits, Subarrays (contiguous).\n",
    "\n",
    "        To check if the maxPages is possible we GREEDILY assign as much as\n",
    "        possible to each guy before moving to the next guy.\n",
    "        \"\"\"\n",
    "        n_std, curr = 1, 0\n",
    "        for i in range(N):\n",
    "            if curr + arr[i] <= maxPages:\n",
    "                curr += arr[i]\n",
    "            else:\n",
    "                n_std, curr = n_std + 1, arr[i]\n",
    "\n",
    "        return n_std <= m\n",
    "\n",
    "    if N < m:\n",
    "        return -1\n",
    "    else:\n",
    "        low, high = max(arr), sum(arr)\n",
    "        while low <= high:\n",
    "            mid = (low + high) // 2\n",
    "            if assign(mid):\n",
    "                high = mid - 1\n",
    "            else:\n",
    "                low = mid + 1\n",
    "\n",
    "        return low\n",
    "\n",
    "# Testing the solution\n",
    "assert findPages([12, 34, 67, 90], 4, 2) == 113\n",
    "assert findPages([25, 46, 28, 49, 24], 5, 4) == 71\n",
    "assert findPages([2, 8, 8, 4, 5], 5, 6) == -1"
   ]
  },
  {
   "cell_type": "markdown",
   "id": "693edc5b",
   "metadata": {
    "papermill": {
     "duration": 0.017676,
     "end_time": "2024-03-31T04:08:07.252169",
     "exception": false,
     "start_time": "2024-03-31T04:08:07.234493",
     "status": "completed"
    },
    "tags": []
   },
   "source": [
    "Video Link: https://www.youtube.com/watch?v=thUd_WJn6wk&list=PLgUwDviBIf0oF6QL8m22w1hIDC1vJ_BHz&index=63\n",
    "Problem Link: https://leetcode.com/problems/split-array-largest-sum/submissions/1216912768"
   ]
  },
  {
   "cell_type": "code",
   "execution_count": 36,
   "id": "2f94d583",
   "metadata": {
    "execution": {
     "iopub.execute_input": "2024-03-31T04:08:07.289189Z",
     "iopub.status.busy": "2024-03-31T04:08:07.288599Z",
     "iopub.status.idle": "2024-03-31T04:08:07.296304Z",
     "shell.execute_reply": "2024-03-31T04:08:07.295568Z"
    },
    "lines_to_next_cell": 1,
    "papermill": {
     "duration": 0.028122,
     "end_time": "2024-03-31T04:08:07.298051",
     "exception": false,
     "start_time": "2024-03-31T04:08:07.269929",
     "status": "completed"
    },
    "tags": []
   },
   "outputs": [],
   "source": [
    "class Solution:\n",
    "    def splitArray(self, nums: list[int], k: int) -> int:\n",
    "        N = len(nums)\n",
    "\n",
    "        def countSplits(max_: int) -> bool:\n",
    "            \"\"\"\n",
    "            Greedily assign as much as possible to each guy before moving forward.\n",
    "            Same logic as the problem above. Remember only applicable for contigous\n",
    "            array slices: subarrays, splits, etc.\n",
    "            \"\"\"\n",
    "            n_splits, sum_ = 1, 0\n",
    "            for i in range(N):\n",
    "                if sum_ + nums[i] <= max_:\n",
    "                    sum_ += nums[i]\n",
    "                else:\n",
    "                    n_splits, sum_ = n_splits + 1, nums[i]\n",
    "\n",
    "            return n_splits <= k\n",
    "\n",
    "        if k > N:\n",
    "            return -1\n",
    "        else:\n",
    "            low, high = max(nums), sum(nums)\n",
    "            while low <= high:\n",
    "                mid = (low + high) // 2\n",
    "                if countSplits(mid):\n",
    "                    high = mid - 1\n",
    "                else:\n",
    "                    low = mid + 1\n",
    "\n",
    "            return low\n",
    "\n",
    "# Testing the solution\n",
    "assert Solution().splitArray([7,2,5,10,8], 2) == 18\n",
    "assert Solution().splitArray([1, 2, 3, 4, 5], 2) == 9"
   ]
  },
  {
   "cell_type": "markdown",
   "id": "b17280b3",
   "metadata": {
    "papermill": {
     "duration": 0.017702,
     "end_time": "2024-03-31T04:08:07.333659",
     "exception": false,
     "start_time": "2024-03-31T04:08:07.315957",
     "status": "completed"
    },
    "tags": []
   },
   "source": [
    "Video link: https://www.youtube.com/watch?v=kMSBvlZ-_HA&list=PLgUwDviBIf0oF6QL8m22w1hIDC1vJ_BHz&index=64"
   ]
  },
  {
   "cell_type": "code",
   "execution_count": 37,
   "id": "b31b6aea",
   "metadata": {
    "execution": {
     "iopub.execute_input": "2024-03-31T04:08:07.370877Z",
     "iopub.status.busy": "2024-03-31T04:08:07.370202Z",
     "iopub.status.idle": "2024-03-31T04:08:07.378588Z",
     "shell.execute_reply": "2024-03-31T04:08:07.377828Z"
    },
    "lines_to_next_cell": 1,
    "papermill": {
     "duration": 0.028651,
     "end_time": "2024-03-31T04:08:07.380148",
     "exception": false,
     "start_time": "2024-03-31T04:08:07.351497",
     "status": "completed"
    },
    "tags": []
   },
   "outputs": [],
   "source": [
    "def minimiseMaxDistance(arr: list[int], k: float) -> float:\n",
    "\n",
    "    def check(thresh: float) -> bool:\n",
    "        \"\"\"\n",
    "        If curr_dist is > thresh, try to split just until dist = thresh\n",
    "\n",
    "        >>> curr_dist / (n + 1) == thresh\n",
    "        >>> curr_dist / thresh - 1 = n \n",
    "        \"\"\"\n",
    "\n",
    "        n_splits = 0\n",
    "        for i in range(N - 1):\n",
    "            curr_dist = arr[i + 1] - arr[i]\n",
    "            if curr_dist > thresh:\n",
    "                # Ceil without using math.ceil => -(-x // 1)\n",
    "                splits_required = -(-curr_dist // thresh) - 1\n",
    "                n_splits += int(splits_required)\n",
    "\n",
    "        return n_splits <= k\n",
    "\n",
    "    N = len(arr)\n",
    "    max_dist = 0.\n",
    "    for i in range(N - 1):\n",
    "        max_dist = max(max_dist, arr[i + 1] - arr[i])\n",
    "\n",
    "    low, high = 0., max_dist\n",
    "    while high - low > 1e-7:\n",
    "        mid = (low + high) / 2\n",
    "        if check(mid):\n",
    "            high = mid\n",
    "        else:\n",
    "            low = mid\n",
    "\n",
    "    return low\n",
    "\n",
    "# Testing the solution\n",
    "assert round(minimiseMaxDistance([1, 2, 3, 4, 5], 4), 6) == 0.5\n",
    "assert round(minimiseMaxDistance([1, 2, 5], 4), 6) == 0.75\n",
    "assert round(minimiseMaxDistance([1, 3], 2), 6) == 0.666667"
   ]
  },
  {
   "cell_type": "code",
   "execution_count": 38,
   "id": "d0e0c3f2",
   "metadata": {
    "execution": {
     "iopub.execute_input": "2024-03-31T04:08:07.417243Z",
     "iopub.status.busy": "2024-03-31T04:08:07.416620Z",
     "iopub.status.idle": "2024-03-31T04:08:07.426573Z",
     "shell.execute_reply": "2024-03-31T04:08:07.425811Z"
    },
    "lines_to_next_cell": 1,
    "papermill": {
     "duration": 0.03024,
     "end_time": "2024-03-31T04:08:07.428219",
     "exception": false,
     "start_time": "2024-03-31T04:08:07.397979",
     "status": "completed"
    },
    "tags": []
   },
   "outputs": [],
   "source": [
    "# Striver - Brute force approach (simpler)\n",
    "def minimiseMaxDistance(arr: list[int], k: int) -> float:\n",
    "    \"\"\"\n",
    "    Time - O(N^2) originally, optimized with the usage of heaps to O(N log N)\n",
    "\n",
    "    We place the k one by one. Keeping track of how many gas stations we placed\n",
    "    at each gap. If we are to place additional gas station into a gap that already\n",
    "    contains a gas station, we would remove existing gas station and place both gas\n",
    "    stations at equal distances.\n",
    "\n",
    "    [1, _, 2], 1 => [1, 1.5, 2]\n",
    "    [1, _, 2], 2 => [1, 1.3, 1.6, 2]\n",
    "    [1, _, 2], 3 => [1, 1.25, 1.5, 1.75, 2]\n",
    "\n",
    "    \"\"\"\n",
    "\n",
    "    class Node:\n",
    "        def __init__(self, dist: int, placed: int = 0):\n",
    "            self.dist = dist\n",
    "            self.placed = placed\n",
    "            self.compute_gap()\n",
    "\n",
    "        def compute_gap(self):\n",
    "            self.gap = - self.dist / (self.placed + 1)\n",
    "\n",
    "        def increment_placed(self):\n",
    "            self.placed += 1\n",
    "            self.compute_gap()\n",
    "\n",
    "        def __repr__(self):\n",
    "            return f'{self.dist}/{self.placed}:{self.gap}'\n",
    "\n",
    "        def __lt__(self, other: 'Node'):\n",
    "            return self.gap < other.gap\n",
    "\n",
    "    N = len(arr)\n",
    "    nodes: list[Node] = []\n",
    "    for i in range(N - 1):\n",
    "        nodes.append(Node(dist=arr[i + 1] - arr[i], placed=0))\n",
    "\n",
    "    # Convert into max heap\n",
    "    heapq.heapify(nodes)\n",
    "\n",
    "    for i in range(k):\n",
    "        # Find the max distance and try to minimize it\n",
    "        max_node = heapq.heappop(nodes)\n",
    "        max_node.increment_placed()\n",
    "        heapq.heappush(nodes, max_node)\n",
    "\n",
    "    # Compute the max distance\n",
    "    return -nodes[0].gap\n",
    "\n",
    "# Testing the solution\n",
    "assert round(minimiseMaxDistance([1, 2, 3, 4, 5], 4), 6) == 0.5\n",
    "assert round(minimiseMaxDistance([1, 2, 5], 4), 6) == 0.75\n",
    "assert round(minimiseMaxDistance([1, 3], 2), 6) == 0.666667"
   ]
  },
  {
   "cell_type": "markdown",
   "id": "355b5a37",
   "metadata": {
    "papermill": {
     "duration": 0.017908,
     "end_time": "2024-03-31T04:08:07.463955",
     "exception": false,
     "start_time": "2024-03-31T04:08:07.446047",
     "status": "completed"
    },
    "tags": []
   },
   "source": [
    "Video link: https://www.youtube.com/watch?v=C2rRzz-JDk8&list=PLgUwDviBIf0oF6QL8m22w1hIDC1vJ_BHz&index=65\n",
    "Median of two sorted ararys"
   ]
  },
  {
   "cell_type": "code",
   "execution_count": 39,
   "id": "f6508851",
   "metadata": {
    "execution": {
     "iopub.execute_input": "2024-03-31T04:08:07.500974Z",
     "iopub.status.busy": "2024-03-31T04:08:07.500483Z",
     "iopub.status.idle": "2024-03-31T04:08:07.507725Z",
     "shell.execute_reply": "2024-03-31T04:08:07.507004Z"
    },
    "lines_to_next_cell": 1,
    "papermill": {
     "duration": 0.027496,
     "end_time": "2024-03-31T04:08:07.509351",
     "exception": false,
     "start_time": "2024-03-31T04:08:07.481855",
     "status": "completed"
    },
    "tags": []
   },
   "outputs": [],
   "source": [
    "# Brute force solution: Time, Space: O(M + N)\n",
    "class Solution:\n",
    "    def findMedianSortedArrays(self, nums1: list[int], nums2: list[int]) -> float:\n",
    "        # Merge both arrays in sorted order \n",
    "        N1, N2 = len(nums1), len(nums2)\n",
    "        N = N1 + N2\n",
    "        i = j = 0\n",
    "        nums: list[int] = []\n",
    "        while i < N1 or j < N2:\n",
    "            if j == N2 or (i < N1 and nums1[i] < nums2[j]):\n",
    "                nums.append(nums1[i])\n",
    "                i += 1\n",
    "            else:\n",
    "                nums.append(nums2[j])\n",
    "                j += 1\n",
    "\n",
    "        # Return median\n",
    "        mid = -(-N // 2) # Ceil of the number\n",
    "        if N % 2 == 0:\n",
    "            return (nums[mid - 1] + nums[mid]) / 2\n",
    "        else:\n",
    "            return nums[mid - 1]\n",
    "\n",
    "# Testing the solution\n",
    "assert Solution().findMedianSortedArrays([1, 3], [2]) == 2\n",
    "assert Solution().findMedianSortedArrays([1, 2], [3, 4]) == 2.5"
   ]
  },
  {
   "cell_type": "code",
   "execution_count": 40,
   "id": "612f92c2",
   "metadata": {
    "execution": {
     "iopub.execute_input": "2024-03-31T04:08:07.546566Z",
     "iopub.status.busy": "2024-03-31T04:08:07.545958Z",
     "iopub.status.idle": "2024-03-31T04:08:07.554404Z",
     "shell.execute_reply": "2024-03-31T04:08:07.553765Z"
    },
    "lines_to_next_cell": 1,
    "papermill": {
     "duration": 0.028671,
     "end_time": "2024-03-31T04:08:07.556030",
     "exception": false,
     "start_time": "2024-03-31T04:08:07.527359",
     "status": "completed"
    },
    "tags": []
   },
   "outputs": [],
   "source": [
    "# Better solution: Time: O(M + N), Space: O(1)\n",
    "class Solution:\n",
    "    def findMedianSortedArrays(self, nums1: list[int], nums2: list[int]) -> float:\n",
    "        N1, N2 = len(nums1), len(nums2)\n",
    "        N = N1 + N2\n",
    "        curr_idx = i = j = 0\n",
    "\n",
    "        # Left, Right based on N\n",
    "        mid = -(-N // 2) # Ceil of the number\n",
    "        if N % 2 == 0:\n",
    "            left_idx, right_idx = mid - 1, mid\n",
    "        else:\n",
    "            left_idx = right_idx = mid - 1\n",
    "\n",
    "        while i < N1 or j < N2:\n",
    "            if (j == N2) or (i < N1 and nums1[i] < nums2[j]):\n",
    "                curr = nums1[i]\n",
    "                i += 1\n",
    "            else:\n",
    "                curr = nums2[j]\n",
    "                j += 1\n",
    "            if curr_idx == left_idx:\n",
    "                left = curr\n",
    "            if curr_idx == right_idx:\n",
    "                right = curr\n",
    "                break\n",
    "\n",
    "            curr_idx += 1\n",
    "\n",
    "        return (left + right) / 2\n",
    "\n",
    "# Testing the solution\n",
    "assert Solution().findMedianSortedArrays([1, 3], [2]) == 2\n",
    "assert Solution().findMedianSortedArrays([1, 2], [3, 4]) == 2.5"
   ]
  },
  {
   "cell_type": "code",
   "execution_count": 41,
   "id": "0daf9188",
   "metadata": {
    "execution": {
     "iopub.execute_input": "2024-03-31T04:08:07.592826Z",
     "iopub.status.busy": "2024-03-31T04:08:07.592235Z",
     "iopub.status.idle": "2024-03-31T04:08:07.604074Z",
     "shell.execute_reply": "2024-03-31T04:08:07.603320Z"
    },
    "lines_to_next_cell": 1,
    "papermill": {
     "duration": 0.032108,
     "end_time": "2024-03-31T04:08:07.605879",
     "exception": false,
     "start_time": "2024-03-31T04:08:07.573771",
     "status": "completed"
    },
    "tags": []
   },
   "outputs": [],
   "source": [
    "# Better solution, Time - O(log N * log N)\n",
    "class Solution:\n",
    "    @staticmethod\n",
    "    def find_boundary_indices(target: int, arr: list[int], N: int) -> tuple[int, int]:\n",
    "        low, high = 0, N - 1\n",
    "        while low <= high:\n",
    "            mid = (low + high) // 2\n",
    "            if arr[mid] >= target:\n",
    "                high = mid - 1\n",
    "            else:\n",
    "                low = mid + 1\n",
    "\n",
    "        GTE_IDX = low\n",
    "\n",
    "        # Upper bound Binary (Striver's approach)\n",
    "        low, high = 0, N - 1\n",
    "        while low <= high:\n",
    "            mid = (low + high) // 2\n",
    "            if arr[mid] > target:\n",
    "                high = mid - 1\n",
    "            else:\n",
    "                low = mid + 1\n",
    "\n",
    "        LTE_IDX = low\n",
    "\n",
    "        return LTE_IDX, GTE_IDX\n",
    "\n",
    "    def findMedianSortedArrays(self, nums1: list[float], nums2: list[float]) -> float:\n",
    "        N1, N2 = len(nums1), len(nums2)\n",
    "        low, high = min(nums1[0], nums2[0]), max(nums1[-1], nums2[-1])\n",
    "        while low < high:\n",
    "            mid = (low + high) / 2\n",
    "            lte_idx1, gte_idx1 = Solution.find_boundary_indices(mid, nums1, N1)\n",
    "            lte_idx2, gte_idx2 = Solution.find_boundary_indices(mid, nums2, N2)\n",
    "            lte = lte_idx1 + lte_idx2\n",
    "            gte = N1 - gte_idx1 + N2 - gte_idx2\n",
    "            if lte == gte:\n",
    "                low = high = mid\n",
    "            elif lte < gte:\n",
    "                low = -(-mid // 1)\n",
    "            else:\n",
    "                high = mid // 1\n",
    "\n",
    "        lte_idx1, gte_idx1 = Solution.find_boundary_indices(low, nums1, N1)\n",
    "        lte_idx2, gte_idx2 = Solution.find_boundary_indices(low, nums2, N2)\n",
    "\n",
    "        lte = max(nums1[lte_idx1 - 1] if lte_idx1 > 0 else -math.inf, nums2[lte_idx2 - 1] if lte_idx2 > 0 else -math.inf)\n",
    "        gte = min(nums1[gte_idx1] if gte_idx1 < N1 else math.inf, nums2[gte_idx2] if gte_idx2 < N2 else math.inf)\n",
    "        return (lte + gte) / 2\n",
    "\n",
    "# Testing the solution\n",
    "assert Solution().findMedianSortedArrays([1, 3], [2]) == 2\n",
    "assert Solution().findMedianSortedArrays([1, 2], [3, 4]) == 2.5"
   ]
  },
  {
   "cell_type": "code",
   "execution_count": 42,
   "id": "cf415db1",
   "metadata": {
    "execution": {
     "iopub.execute_input": "2024-03-31T04:08:07.643018Z",
     "iopub.status.busy": "2024-03-31T04:08:07.642555Z",
     "iopub.status.idle": "2024-03-31T04:08:07.651142Z",
     "shell.execute_reply": "2024-03-31T04:08:07.650524Z"
    },
    "lines_to_next_cell": 1,
    "papermill": {
     "duration": 0.028898,
     "end_time": "2024-03-31T04:08:07.652771",
     "exception": false,
     "start_time": "2024-03-31T04:08:07.623873",
     "status": "completed"
    },
    "tags": []
   },
   "outputs": [],
   "source": [
    "# Striver Optimal Solution - O(log N)\n",
    "# Video Link: https://www.youtube.com/watch?v=F9c7LpRZWVQ&list=PLgUwDviBIf0oF6QL8m22w1hIDC1vJ_BHz&index=67\n",
    "def median(nums1: list[int], nums2: list[int]) -> float:\n",
    "    N1, N2 = len(nums1), len(nums2)\n",
    "    N = N1 + N2\n",
    "\n",
    "    if N1 > N2:\n",
    "        return median(nums2, nums1)\n",
    "\n",
    "    low, high = 0, N1\n",
    "    left_len = (N1 + N2 + 1) // 2\n",
    "    while low <= high:\n",
    "        mid1 = (low + high) // 2\n",
    "        mid2 = left_len - mid1\n",
    "        l1 = nums1[mid1 - 1] if mid1 > 0 else -math.inf\n",
    "        l2 = nums2[mid2 - 1] if mid2 > 0 else -math.inf\n",
    "        r1 = nums1[mid1] if mid1 < N1 else math.inf\n",
    "        r2 = nums2[mid2] if mid2 < N2 else math.inf\n",
    "\n",
    "        if l1 <= r2 and l2 <= r1:\n",
    "            if N % 2 == 0:\n",
    "                return (max(l1, l2) + min(r1, r2)) / 2\n",
    "            else:\n",
    "                return max(l1, l2)\n",
    "\n",
    "        # Smaller array is not centered, arr1 is on the left part\n",
    "        elif l1 > r2:\n",
    "            high = mid1 - 1\n",
    "\n",
    "        # (l2 > r1) Larger array is not centered, arr2 is on the right part (arr1 is on the left part)\n",
    "        else:\n",
    "            low = mid1 + 1\n",
    "\n",
    "    return -1\n",
    "\n",
    "# Testing the solution\n",
    "assert median([1, 3], [2]) == 2\n",
    "assert median([1, 2], [3, 4]) == 2.5"
   ]
  },
  {
   "cell_type": "markdown",
   "id": "6ed3c9e0",
   "metadata": {
    "papermill": {
     "duration": 0.017693,
     "end_time": "2024-03-31T04:08:07.688325",
     "exception": false,
     "start_time": "2024-03-31T04:08:07.670632",
     "status": "completed"
    },
    "tags": []
   },
   "source": [
    "Video Link: https://www.youtube.com/watch?v=D1oDwWCq50g&list=PLgUwDviBIf0oF6QL8m22w1hIDC1vJ_BHz&index=67\n",
    "Find kth element of two sorted arrays"
   ]
  },
  {
   "cell_type": "code",
   "execution_count": 43,
   "id": "394757ce",
   "metadata": {
    "execution": {
     "iopub.execute_input": "2024-03-31T04:08:07.725284Z",
     "iopub.status.busy": "2024-03-31T04:08:07.724699Z",
     "iopub.status.idle": "2024-03-31T04:08:07.731504Z",
     "shell.execute_reply": "2024-03-31T04:08:07.730898Z"
    },
    "lines_to_next_cell": 1,
    "papermill": {
     "duration": 0.027056,
     "end_time": "2024-03-31T04:08:07.733140",
     "exception": false,
     "start_time": "2024-03-31T04:08:07.706084",
     "status": "completed"
    },
    "tags": []
   },
   "outputs": [],
   "source": [
    "# Brute force - Time: O(M + N), Space: O(1)\n",
    "def kthElement_brute(arr1: list[int], N1: int, arr2: list[int], N2: int, k: int) -> int:\n",
    "    i = j = 0\n",
    "    while i < N1 or j < N2:\n",
    "        if j == N2 or (i < N1 and arr1[i] <= arr2[j]):\n",
    "            curr = arr1[i]\n",
    "            i += 1\n",
    "        else:\n",
    "            curr = arr2[j]\n",
    "            j += 1\n",
    "\n",
    "        k -= 1\n",
    "        if k == 0:\n",
    "            return curr\n",
    "\n",
    "    else:\n",
    "        return -1\n",
    "\n",
    "# Testing the solution\n",
    "assert kthElement_brute([2, 3, 45], 3, [4, 6, 7, 8], 4, 4) == 6\n",
    "assert kthElement_brute([1, 2, 3, 5, 6], 5, [4, 7, 8, 9, 100], 5, 6) == 6"
   ]
  },
  {
   "cell_type": "code",
   "execution_count": 44,
   "id": "633de9ca",
   "metadata": {
    "execution": {
     "iopub.execute_input": "2024-03-31T04:08:07.770309Z",
     "iopub.status.busy": "2024-03-31T04:08:07.770018Z",
     "iopub.status.idle": "2024-03-31T04:08:07.778581Z",
     "shell.execute_reply": "2024-03-31T04:08:07.777800Z"
    },
    "lines_to_next_cell": 1,
    "papermill": {
     "duration": 0.028906,
     "end_time": "2024-03-31T04:08:07.780188",
     "exception": false,
     "start_time": "2024-03-31T04:08:07.751282",
     "status": "completed"
    },
    "tags": []
   },
   "outputs": [],
   "source": [
    "def kthElement(arr1: list[int], N1: int, arr2: list[int], N2: int, k: int) -> float:\n",
    "    N1, N2 = len(arr1), len(arr2)\n",
    "    N = N1 + N2\n",
    "\n",
    "    if N1 > N2:\n",
    "        return kthElement(arr2, N2, arr1, N1, k)\n",
    "\n",
    "    left_length = k\n",
    "    low, high = max(0, k - N2), min(N1, k)\n",
    "    while low <= high:\n",
    "        mid1 = (low + high + 1) // 2\n",
    "        mid2 = left_length - mid1\n",
    "        l1 = arr1[mid1 - 1] if mid1 > 0 else -math.inf\n",
    "        l2 = arr2[mid2 - 1] if mid2 > 0 else -math.inf\n",
    "        r1 = arr1[mid1] if mid1 < N1 else math.inf\n",
    "        r2 = arr2[mid2] if mid2 < N2 else math.inf\n",
    "\n",
    "        if l1 <= r2 and l2 <= r1:\n",
    "            return max(l1, l2)\n",
    "        elif l1 > r2:\n",
    "            high = mid1 - 1\n",
    "        else: # l2 > r1\n",
    "            low = mid1 + 1\n",
    "\n",
    "    else:\n",
    "        return -1\n",
    "\n",
    "# Testing the solution\n",
    "assert kthElement([2, 3, 45], 3, [4, 6, 7, 8], 4, 4) == 6\n",
    "assert kthElement([1, 2, 3, 5, 6], 5, [4, 7, 8, 9, 100], 5, 6) == 6"
   ]
  },
  {
   "cell_type": "markdown",
   "id": "dfcc5868",
   "metadata": {
    "papermill": {
     "duration": 0.01781,
     "end_time": "2024-03-31T04:08:07.816034",
     "exception": false,
     "start_time": "2024-03-31T04:08:07.798224",
     "status": "completed"
    },
    "tags": []
   },
   "source": [
    "Video Link: https://www.youtube.com/watch?v=SCz-1TtYxDI&list=PLgUwDviBIf0oF6QL8m22w1hIDC1vJ_BHz&index=68\n",
    "Row with maximum number of 1s"
   ]
  },
  {
   "cell_type": "code",
   "execution_count": 45,
   "id": "16ce254c",
   "metadata": {
    "execution": {
     "iopub.execute_input": "2024-03-31T04:08:07.853126Z",
     "iopub.status.busy": "2024-03-31T04:08:07.852704Z",
     "iopub.status.idle": "2024-03-31T04:08:07.859995Z",
     "shell.execute_reply": "2024-03-31T04:08:07.859255Z"
    },
    "papermill": {
     "duration": 0.027482,
     "end_time": "2024-03-31T04:08:07.861545",
     "exception": false,
     "start_time": "2024-03-31T04:08:07.834063",
     "status": "completed"
    },
    "tags": []
   },
   "outputs": [],
   "source": [
    "# Time complexity: O(n * log m)\n",
    "def rowWithMax1s(matrix: list[list[int]], n: int, m: int) -> int:\n",
    "    def count1s(row_idx: int) -> int:\n",
    "        low, high = 0, m - 1\n",
    "        while low <= high:\n",
    "            mid = (low + high) // 2\n",
    "            if matrix[row_idx][mid] == 1:\n",
    "                high = mid - 1\n",
    "            else:\n",
    "                low = mid + 1\n",
    "\n",
    "        return m - low\n",
    "\n",
    "    # Row Idx, Count\n",
    "    max_ = -1, 0\n",
    "    for i in range(n):\n",
    "        curr_count = count1s(i)\n",
    "        if curr_count > max_[1]:\n",
    "            max_ = i, curr_count\n",
    "\n",
    "    return max_[0]\n",
    "\n",
    "# Testing the solution\n",
    "assert rowWithMax1s([[0], [0]], 2, 1) == -1\n",
    "assert rowWithMax1s([[1, 1], [1, 1]], 2, 2) == 0\n",
    "assert rowWithMax1s([[1, 1, 1], [0, 0, 1], [0, 0, 0]], 3, 3) == 0"
   ]
  }
 ],
 "metadata": {
  "kernelspec": {
   "display_name": "Python 3 (ipykernel)",
   "language": "python",
   "name": "python3"
  },
  "language_info": {
   "codemirror_mode": {
    "name": "ipython",
    "version": 3
   },
   "file_extension": ".py",
   "mimetype": "text/x-python",
   "name": "python",
   "nbconvert_exporter": "python",
   "pygments_lexer": "ipython3",
   "version": "3.10.14"
  },
  "papermill": {
   "default_parameters": {},
   "duration": 4.232542,
   "end_time": "2024-03-31T04:08:07.996158",
   "environment_variables": {},
   "exception": null,
   "input_path": "study/striver-A2Z/09-binary-search.ipynb",
   "output_path": "study/striver-A2Z/09-binary-search.ipynb",
   "parameters": {},
   "start_time": "2024-03-31T04:08:03.763616",
   "version": "2.5.0"
  }
 },
 "nbformat": 4,
 "nbformat_minor": 5
}