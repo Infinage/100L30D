{
 "cells": [
  {
   "cell_type": "markdown",
   "id": "39385271",
   "metadata": {
    "papermill": {
     "duration": 0.022581,
     "end_time": "2024-03-29T07:38:04.001470",
     "exception": false,
     "start_time": "2024-03-29T07:38:03.978889",
     "status": "completed"
    },
    "tags": []
   },
   "source": [
    "Some useful imports"
   ]
  },
  {
   "cell_type": "code",
   "execution_count": 1,
   "id": "fd129096",
   "metadata": {
    "execution": {
     "iopub.execute_input": "2024-03-29T07:38:04.140835Z",
     "iopub.status.busy": "2024-03-29T07:38:04.140084Z",
     "iopub.status.idle": "2024-03-29T07:38:04.154405Z",
     "shell.execute_reply": "2024-03-29T07:38:04.153750Z"
    },
    "lines_to_next_cell": 1,
    "papermill": {
     "duration": 0.133733,
     "end_time": "2024-03-29T07:38:04.156161",
     "exception": false,
     "start_time": "2024-03-29T07:38:04.022428",
     "status": "completed"
    },
    "tags": []
   },
   "outputs": [],
   "source": [
    "import math\n",
    "import random\n",
    "import functools\n",
    "import itertools\n",
    "import tqdm\n",
    "import pdb"
   ]
  },
  {
   "cell_type": "markdown",
   "id": "1b645c9d",
   "metadata": {
    "papermill": {
     "duration": 0.012379,
     "end_time": "2024-03-29T07:38:04.181309",
     "exception": false,
     "start_time": "2024-03-29T07:38:04.168930",
     "status": "completed"
    },
    "tags": []
   },
   "source": [
    "Video Link: https://www.youtube.com/watch?v=MHf6awe89xw&list=PLgUwDviBIf0oF6QL8m22w1hIDC1vJ_BHz&index=45"
   ]
  },
  {
   "cell_type": "code",
   "execution_count": 2,
   "id": "a8c5fd59",
   "metadata": {
    "execution": {
     "iopub.execute_input": "2024-03-29T07:38:04.207452Z",
     "iopub.status.busy": "2024-03-29T07:38:04.206909Z",
     "iopub.status.idle": "2024-03-29T07:38:04.211730Z",
     "shell.execute_reply": "2024-03-29T07:38:04.210852Z"
    },
    "lines_to_next_cell": 1,
    "papermill": {
     "duration": 0.019868,
     "end_time": "2024-03-29T07:38:04.213584",
     "exception": false,
     "start_time": "2024-03-29T07:38:04.193716",
     "status": "completed"
    },
    "tags": []
   },
   "outputs": [],
   "source": [
    "# Linear search\n",
    "def lsearch(arr: list[int], target: int) -> int:\n",
    "    for i in range(len(arr)):\n",
    "        if arr[i] == target:\n",
    "            return i\n",
    "    else:\n",
    "        return -1"
   ]
  },
  {
   "cell_type": "code",
   "execution_count": 3,
   "id": "b06d330f",
   "metadata": {
    "execution": {
     "iopub.execute_input": "2024-03-29T07:38:04.240659Z",
     "iopub.status.busy": "2024-03-29T07:38:04.240117Z",
     "iopub.status.idle": "2024-03-29T07:38:04.255130Z",
     "shell.execute_reply": "2024-03-29T07:38:04.254283Z"
    },
    "lines_to_next_cell": 1,
    "papermill": {
     "duration": 0.029981,
     "end_time": "2024-03-29T07:38:04.256777",
     "exception": false,
     "start_time": "2024-03-29T07:38:04.226796",
     "status": "completed"
    },
    "tags": []
   },
   "outputs": [
    {
     "name": "stderr",
     "output_type": "stream",
     "text": [
      "\r",
      "  0%|          | 0/100 [00:00<?, ?it/s]"
     ]
    },
    {
     "name": "stderr",
     "output_type": "stream",
     "text": [
      "\r",
      "100%|██████████| 100/100 [00:00<00:00, 56980.08it/s]"
     ]
    },
    {
     "name": "stderr",
     "output_type": "stream",
     "text": [
      "\n"
     ]
    }
   ],
   "source": [
    "# Iterative solution\n",
    "def bsearch_iter(arr: list[int], target: int) -> int:\n",
    "    low, high = 0, len(arr) - 1\n",
    "    while low <= high:\n",
    "        mid = (low + high) // 2\n",
    "        if arr[mid] == target:\n",
    "            return mid\n",
    "        elif target > arr[mid]:\n",
    "            low = mid + 1\n",
    "        else:\n",
    "            high = mid - 1\n",
    "    else:\n",
    "        return -1\n",
    "\n",
    "# Test the algorithm\n",
    "for i in tqdm.tqdm(range(100)):\n",
    "    temp = random.sample(list(range(15, 30)), random.randint(1, 15))\n",
    "    temp.sort()\n",
    "    j = random.randint(0, 45)\n",
    "    assert bsearch_iter(temp, j) == lsearch(temp, j), f\"failed for {temp}, {j}\""
   ]
  },
  {
   "cell_type": "code",
   "execution_count": 4,
   "id": "59682a10",
   "metadata": {
    "execution": {
     "iopub.execute_input": "2024-03-29T07:38:04.283957Z",
     "iopub.status.busy": "2024-03-29T07:38:04.283431Z",
     "iopub.status.idle": "2024-03-29T07:38:04.294508Z",
     "shell.execute_reply": "2024-03-29T07:38:04.293771Z"
    },
    "lines_to_next_cell": 1,
    "papermill": {
     "duration": 0.026366,
     "end_time": "2024-03-29T07:38:04.296100",
     "exception": false,
     "start_time": "2024-03-29T07:38:04.269734",
     "status": "completed"
    },
    "tags": []
   },
   "outputs": [
    {
     "name": "stderr",
     "output_type": "stream",
     "text": [
      "\r",
      "  0%|          | 0/100 [00:00<?, ?it/s]"
     ]
    },
    {
     "name": "stderr",
     "output_type": "stream",
     "text": [
      "\r",
      "100%|██████████| 100/100 [00:00<00:00, 56269.17it/s]"
     ]
    },
    {
     "name": "stderr",
     "output_type": "stream",
     "text": [
      "\n"
     ]
    }
   ],
   "source": [
    "# Recursive solution\n",
    "def bsearch_rec(arr: list[int], target: int) -> int:\n",
    "    def backtrack(low: int, high: int) -> int:\n",
    "        if low > high:\n",
    "            return -1\n",
    "        else:\n",
    "            mid = (low + high) // 2\n",
    "            if arr[mid] == target:\n",
    "                return mid\n",
    "            elif target < arr[mid]:\n",
    "                return backtrack(low, mid - 1)\n",
    "            else:\n",
    "                return backtrack(mid + 1, high)\n",
    "\n",
    "    return backtrack(0, len(arr) - 1)\n",
    "\n",
    "for i in tqdm.tqdm(range(100)):\n",
    "    temp = random.sample(list(range(15, 30)), random.randint(1, 15))\n",
    "    temp.sort()\n",
    "    j = random.randint(0, 45)\n",
    "    assert bsearch_rec(temp, j) == lsearch(temp, j), f\"failed for {temp}, {j}\""
   ]
  },
  {
   "cell_type": "markdown",
   "id": "1f2d9f50",
   "metadata": {
    "papermill": {
     "duration": 0.012995,
     "end_time": "2024-03-29T07:38:04.322148",
     "exception": false,
     "start_time": "2024-03-29T07:38:04.309153",
     "status": "completed"
    },
    "tags": []
   },
   "source": [
    "Video Link: https://www.youtube.com/watch?v=6zhGS79oQ4k&list=PLgUwDviBIf0oF6QL8m22w1hIDC1vJ_BHz&index=46\n",
    "Implement lower / bound"
   ]
  },
  {
   "cell_type": "code",
   "execution_count": 5,
   "id": "f23024a2",
   "metadata": {
    "execution": {
     "iopub.execute_input": "2024-03-29T07:38:04.349773Z",
     "iopub.status.busy": "2024-03-29T07:38:04.348997Z",
     "iopub.status.idle": "2024-03-29T07:38:04.358486Z",
     "shell.execute_reply": "2024-03-29T07:38:04.357739Z"
    },
    "lines_to_next_cell": 1,
    "papermill": {
     "duration": 0.024938,
     "end_time": "2024-03-29T07:38:04.360103",
     "exception": false,
     "start_time": "2024-03-29T07:38:04.335165",
     "status": "completed"
    },
    "tags": []
   },
   "outputs": [
    {
     "data": {
      "text/plain": [
       "5"
      ]
     },
     "execution_count": 5,
     "metadata": {},
     "output_type": "execute_result"
    }
   ],
   "source": [
    "# Lower bound with Linear Search\n",
    "def lower_bound_linear(arr: list[int], target: int) -> int:\n",
    "    N = len(arr)\n",
    "    for i in range(N):\n",
    "        if arr[i] >= target:\n",
    "            return i\n",
    "    return N\n",
    "\n",
    "lower_bound_linear([3, 5, 8, 15, 19], 20)"
   ]
  },
  {
   "cell_type": "code",
   "execution_count": 6,
   "id": "a0b8bf3a",
   "metadata": {
    "execution": {
     "iopub.execute_input": "2024-03-29T07:38:04.388140Z",
     "iopub.status.busy": "2024-03-29T07:38:04.387541Z",
     "iopub.status.idle": "2024-03-29T07:38:04.400231Z",
     "shell.execute_reply": "2024-03-29T07:38:04.399501Z"
    },
    "lines_to_next_cell": 1,
    "papermill": {
     "duration": 0.028348,
     "end_time": "2024-03-29T07:38:04.401839",
     "exception": false,
     "start_time": "2024-03-29T07:38:04.373491",
     "status": "completed"
    },
    "tags": []
   },
   "outputs": [
    {
     "name": "stderr",
     "output_type": "stream",
     "text": [
      "\r",
      "  0%|          | 0/200 [00:00<?, ?it/s]"
     ]
    },
    {
     "name": "stderr",
     "output_type": "stream",
     "text": [
      "\r",
      "100%|██████████| 200/200 [00:00<00:00, 57197.65it/s]"
     ]
    },
    {
     "name": "stderr",
     "output_type": "stream",
     "text": [
      "\n"
     ]
    }
   ],
   "source": [
    "def lower_bound_binary(arr: list[int], target: int):\n",
    "    N = len(arr)\n",
    "    low, high = 0, N - 1\n",
    "    while low <= high:\n",
    "        mid = (low + high) // 2\n",
    "        if arr[mid - 1] < target and arr[mid] >= target:\n",
    "            return mid\n",
    "        elif arr[mid] >= target:\n",
    "            high = mid - 1\n",
    "        else:\n",
    "            low = mid + 1\n",
    "    else:\n",
    "        return 0 if target <= arr[0] else N\n",
    "\n",
    "for i in tqdm.tqdm(range(200)):\n",
    "    temp = random.choices(list(range(100, 200)), k=random.randint(1, 50))\n",
    "    temp.sort()\n",
    "    j = random.randint(95, 205)\n",
    "    assert lower_bound_binary(temp, j) == lower_bound_linear(temp, j), f\"failed for {temp}, {j}\""
   ]
  },
  {
   "cell_type": "code",
   "execution_count": 7,
   "id": "6609aa48",
   "metadata": {
    "execution": {
     "iopub.execute_input": "2024-03-29T07:38:04.430054Z",
     "iopub.status.busy": "2024-03-29T07:38:04.429470Z",
     "iopub.status.idle": "2024-03-29T07:38:04.435655Z",
     "shell.execute_reply": "2024-03-29T07:38:04.434907Z"
    },
    "lines_to_next_cell": 1,
    "papermill": {
     "duration": 0.021963,
     "end_time": "2024-03-29T07:38:04.437312",
     "exception": false,
     "start_time": "2024-03-29T07:38:04.415349",
     "status": "completed"
    },
    "tags": []
   },
   "outputs": [
    {
     "data": {
      "text/plain": [
       "4"
      ]
     },
     "execution_count": 7,
     "metadata": {},
     "output_type": "execute_result"
    }
   ],
   "source": [
    "# Upper bound - Brute O(N)\n",
    "def upper_bound_linear(arr: list[int], target: int) -> int:\n",
    "    N = len(arr)\n",
    "    for i in range(N):\n",
    "        if arr[i] > target:\n",
    "            return i\n",
    "    return N\n",
    "\n",
    "upper_bound_linear([3, 5, 8, 15, 19, 19], 15)"
   ]
  },
  {
   "cell_type": "code",
   "execution_count": 8,
   "id": "4606b347",
   "metadata": {
    "execution": {
     "iopub.execute_input": "2024-03-29T07:38:04.465761Z",
     "iopub.status.busy": "2024-03-29T07:38:04.465318Z",
     "iopub.status.idle": "2024-03-29T07:38:04.479598Z",
     "shell.execute_reply": "2024-03-29T07:38:04.478738Z"
    },
    "lines_to_next_cell": 1,
    "papermill": {
     "duration": 0.030537,
     "end_time": "2024-03-29T07:38:04.481502",
     "exception": false,
     "start_time": "2024-03-29T07:38:04.450965",
     "status": "completed"
    },
    "tags": []
   },
   "outputs": [
    {
     "name": "stderr",
     "output_type": "stream",
     "text": [
      "\r",
      "  0%|          | 0/200 [00:00<?, ?it/s]"
     ]
    },
    {
     "name": "stderr",
     "output_type": "stream",
     "text": [
      "\r",
      "100%|██████████| 200/200 [00:00<00:00, 60142.01it/s]"
     ]
    },
    {
     "name": "stdout",
     "output_type": "stream",
     "text": [
      "0\n",
      "5\n"
     ]
    },
    {
     "name": "stderr",
     "output_type": "stream",
     "text": [
      "\n"
     ]
    }
   ],
   "source": [
    "# Binary Search\n",
    "def upper_bound_binary(arr: list[int], target: int) -> int:\n",
    "    N = len(arr)\n",
    "    low, high = 0, N - 1\n",
    "    while low <= high:\n",
    "        mid = (low + high) // 2\n",
    "        if arr[mid] > target and arr[mid - 1] <= target:\n",
    "            return mid\n",
    "        elif arr[mid] <= target:\n",
    "            low = mid + 1\n",
    "        else:\n",
    "            high = mid - 1\n",
    "    else:\n",
    "        return 0 if target < arr[0] else N\n",
    "\n",
    "for i in tqdm.tqdm(range(200)):\n",
    "    temp = random.choices(list(range(100, 200)), k=random.randint(1, 50))\n",
    "    temp.sort()\n",
    "    j = random.randint(95, 205)\n",
    "    assert upper_bound_binary(temp, j) == upper_bound_linear(temp, j), f\"failed for {temp}, {j}\"\n",
    "\n",
    "# Note the difference between the UB / LB\n",
    "print(lower_bound_binary([1, 1, 1, 1, 1], 1))\n",
    "print(upper_bound_binary([1, 1, 1, 1, 1], 1))"
   ]
  },
  {
   "cell_type": "markdown",
   "id": "5e497680",
   "metadata": {
    "papermill": {
     "duration": 0.013738,
     "end_time": "2024-03-29T07:38:04.509231",
     "exception": false,
     "start_time": "2024-03-29T07:38:04.495493",
     "status": "completed"
    },
    "tags": []
   },
   "source": [
    "Much more intutive approach by Striver:\n",
    "Retain a variable ans to N, update this variable when:\n",
    "arr[mid] >= target - Lower bound\n",
    "arr[mid] > target - Upper bound"
   ]
  },
  {
   "cell_type": "code",
   "execution_count": 9,
   "id": "8abcbf56",
   "metadata": {
    "execution": {
     "iopub.execute_input": "2024-03-29T07:38:04.538280Z",
     "iopub.status.busy": "2024-03-29T07:38:04.537675Z",
     "iopub.status.idle": "2024-03-29T07:38:04.544780Z",
     "shell.execute_reply": "2024-03-29T07:38:04.544060Z"
    },
    "lines_to_next_cell": 1,
    "papermill": {
     "duration": 0.023335,
     "end_time": "2024-03-29T07:38:04.546384",
     "exception": false,
     "start_time": "2024-03-29T07:38:04.523049",
     "status": "completed"
    },
    "tags": []
   },
   "outputs": [
    {
     "data": {
      "text/plain": [
       "0"
      ]
     },
     "execution_count": 9,
     "metadata": {},
     "output_type": "execute_result"
    }
   ],
   "source": [
    "# Lower bound Binary (Striver's approach)\n",
    "def lower_bound_striver(arr: list[int], target: int) -> int:\n",
    "    \"Smallest index, greater than or equal to target\"\n",
    "    N = len(arr)\n",
    "    low, high, ans = 0, N - 1, N\n",
    "    while low <= high:\n",
    "        mid = (low + high) // 2\n",
    "        if arr[mid] >= target:\n",
    "            ans = mid\n",
    "            high = mid - 1\n",
    "        else:\n",
    "            low = mid + 1\n",
    "\n",
    "    return ans\n",
    "\n",
    "lower_bound_striver([1, 1, 1, 1], 1)"
   ]
  },
  {
   "cell_type": "code",
   "execution_count": 10,
   "id": "5ab0dd9c",
   "metadata": {
    "execution": {
     "iopub.execute_input": "2024-03-29T07:38:04.575763Z",
     "iopub.status.busy": "2024-03-29T07:38:04.575122Z",
     "iopub.status.idle": "2024-03-29T07:38:04.582192Z",
     "shell.execute_reply": "2024-03-29T07:38:04.581421Z"
    },
    "lines_to_next_cell": 1,
    "papermill": {
     "duration": 0.023389,
     "end_time": "2024-03-29T07:38:04.583746",
     "exception": false,
     "start_time": "2024-03-29T07:38:04.560357",
     "status": "completed"
    },
    "tags": []
   },
   "outputs": [
    {
     "data": {
      "text/plain": [
       "4"
      ]
     },
     "execution_count": 10,
     "metadata": {},
     "output_type": "execute_result"
    }
   ],
   "source": [
    "# Upper bound Binary (Striver's approach)\n",
    "def upper_bound_striver(arr: list[int], target: int) -> int:\n",
    "    \"Smallest index, greater than target\"\n",
    "    N = len(arr)\n",
    "    low, high, ans = 0, N - 1, N\n",
    "    while low <= high:\n",
    "        mid = (low + high) // 2\n",
    "        if arr[mid] > target:\n",
    "            ans = mid\n",
    "            high = mid - 1\n",
    "        else:\n",
    "            low = mid + 1\n",
    "    return ans\n",
    "\n",
    "upper_bound_striver([1, 1, 1, 1], 1)"
   ]
  },
  {
   "cell_type": "markdown",
   "id": "6df8578a",
   "metadata": {
    "papermill": {
     "duration": 0.01399,
     "end_time": "2024-03-29T07:38:04.611940",
     "exception": false,
     "start_time": "2024-03-29T07:38:04.597950",
     "status": "completed"
    },
    "tags": []
   },
   "source": [
    "Search Insert position"
   ]
  },
  {
   "cell_type": "code",
   "execution_count": 11,
   "id": "e5e48474",
   "metadata": {
    "execution": {
     "iopub.execute_input": "2024-03-29T07:38:04.641469Z",
     "iopub.status.busy": "2024-03-29T07:38:04.640802Z",
     "iopub.status.idle": "2024-03-29T07:38:04.645797Z",
     "shell.execute_reply": "2024-03-29T07:38:04.645043Z"
    },
    "lines_to_next_cell": 1,
    "papermill": {
     "duration": 0.021553,
     "end_time": "2024-03-29T07:38:04.647480",
     "exception": false,
     "start_time": "2024-03-29T07:38:04.625927",
     "status": "completed"
    },
    "tags": []
   },
   "outputs": [],
   "source": [
    "def searchInsert(arr: list[int], target: int) -> int:\n",
    "    \"Lower bound - Smallest index, greater than or equal to target\"\n",
    "    N = len(arr)\n",
    "    low, high, ans = 0, N - 1, N\n",
    "    while low <= high:\n",
    "        mid = (low + high) // 2\n",
    "        if arr[mid] >= target:\n",
    "            ans = mid\n",
    "            high = mid - 1\n",
    "        else:\n",
    "            low = mid + 1\n",
    "\n",
    "    return ans"
   ]
  },
  {
   "cell_type": "code",
   "execution_count": 12,
   "id": "d3f82851",
   "metadata": {
    "execution": {
     "iopub.execute_input": "2024-03-29T07:38:04.676982Z",
     "iopub.status.busy": "2024-03-29T07:38:04.676574Z",
     "iopub.status.idle": "2024-03-29T07:38:04.687993Z",
     "shell.execute_reply": "2024-03-29T07:38:04.687269Z"
    },
    "lines_to_next_cell": 1,
    "papermill": {
     "duration": 0.028042,
     "end_time": "2024-03-29T07:38:04.689621",
     "exception": false,
     "start_time": "2024-03-29T07:38:04.661579",
     "status": "completed"
    },
    "tags": []
   },
   "outputs": [
    {
     "data": {
      "text/plain": [
       "(8, 8)"
      ]
     },
     "execution_count": 12,
     "metadata": {},
     "output_type": "execute_result"
    }
   ],
   "source": [
    "# Floor and Ceil of a target from a given array\n",
    "def getFloorAndCeil(arr: list[int], N: int, target: int):\n",
    "    def brute() -> tuple[int, int]:\n",
    "        \"Brute force solution\"\n",
    "        floor = -1\n",
    "        for i in range(N):\n",
    "            if arr[i] > target:\n",
    "                break\n",
    "            else:\n",
    "                floor = arr[i]\n",
    "\n",
    "        ceil = -1\n",
    "        for i in range(N - 1, -1, -1):\n",
    "            if arr[i] < target:\n",
    "                break\n",
    "            else:\n",
    "                ceil = arr[i]\n",
    "\n",
    "        return floor, ceil\n",
    "\n",
    "    def binary() -> tuple[int, int]:\n",
    "        low, high, LB = 0, N - 1, -1\n",
    "        while low <= high:\n",
    "            mid = (low + high) // 2\n",
    "            if arr[mid] <= target:\n",
    "                LB = arr[mid]\n",
    "                low = mid + 1\n",
    "            else:\n",
    "                high = mid - 1\n",
    "\n",
    "        low, high, UB = 0, N - 1, -1\n",
    "        while low <= high:\n",
    "            mid = (low + high) // 2\n",
    "            if arr[mid] >= target:\n",
    "                UB = arr[mid]\n",
    "                high = mid - 1\n",
    "            else:\n",
    "                low = mid + 1\n",
    "\n",
    "        return LB, UB\n",
    "\n",
    "    return binary()\n",
    "\n",
    "# Testing the solution\n",
    "getFloorAndCeil([3, 4, 4, 7, 8, 10], 6, 8)"
   ]
  },
  {
   "cell_type": "markdown",
   "id": "d066d6da",
   "metadata": {
    "papermill": {
     "duration": 0.014186,
     "end_time": "2024-03-29T07:38:04.718228",
     "exception": false,
     "start_time": "2024-03-29T07:38:04.704042",
     "status": "completed"
    },
    "tags": []
   },
   "source": [
    "Video Link: https://www.youtube.com/watch?v=hjR1IYVx9lY&list=PLgUwDviBIf0oF6QL8m22w1hIDC1vJ_BHz&index=47"
   ]
  },
  {
   "cell_type": "code",
   "execution_count": 13,
   "id": "d11d7af8",
   "metadata": {
    "execution": {
     "iopub.execute_input": "2024-03-29T07:38:04.747887Z",
     "iopub.status.busy": "2024-03-29T07:38:04.747299Z",
     "iopub.status.idle": "2024-03-29T07:38:04.757424Z",
     "shell.execute_reply": "2024-03-29T07:38:04.756698Z"
    },
    "lines_to_next_cell": 1,
    "papermill": {
     "duration": 0.026697,
     "end_time": "2024-03-29T07:38:04.759071",
     "exception": false,
     "start_time": "2024-03-29T07:38:04.732374",
     "status": "completed"
    },
    "tags": []
   },
   "outputs": [
    {
     "data": {
      "text/plain": [
       "(-1, -1)"
      ]
     },
     "execution_count": 13,
     "metadata": {},
     "output_type": "execute_result"
    }
   ],
   "source": [
    "# Coding studio link: https://bit.ly/3Mdw2FX\n",
    "def firstAndLastPosition(arr: list[int], N: int, target: int) -> tuple[int, int]:\n",
    "    def findFirst() -> int:\n",
    "        low, high, ans = 0, N - 1, -1\n",
    "        while low <= high:\n",
    "            mid = (low + high) // 2\n",
    "            if arr[mid] >= target:\n",
    "                if arr[mid] == target:\n",
    "                    ans = mid\n",
    "                high = mid - 1\n",
    "            else:\n",
    "                low = mid + 1\n",
    "\n",
    "        return ans\n",
    "\n",
    "    def findLast() -> int:\n",
    "        low, high, ans = 0, N - 1, -1\n",
    "        while low <= high:\n",
    "            mid = (low + high) // 2\n",
    "            if arr[mid] <= target:\n",
    "                if arr[mid] == target:\n",
    "                    ans = mid\n",
    "                low = mid + 1\n",
    "            else:\n",
    "                high = mid - 1\n",
    "\n",
    "        return ans\n",
    "\n",
    "    first = findFirst()\n",
    "    if first == -1: # If not found, don't have to search again\n",
    "        return first, first\n",
    "    else:\n",
    "        return first, findLast()\n",
    "\n",
    "# Testing the solution\n",
    "firstAndLastPosition([1, 2, 3, 3, 3, 4, 5], 7, 9)"
   ]
  },
  {
   "cell_type": "code",
   "execution_count": 14,
   "id": "44578564",
   "metadata": {
    "execution": {
     "iopub.execute_input": "2024-03-29T07:38:04.789170Z",
     "iopub.status.busy": "2024-03-29T07:38:04.788498Z",
     "iopub.status.idle": "2024-03-29T07:38:04.798611Z",
     "shell.execute_reply": "2024-03-29T07:38:04.797865Z"
    },
    "lines_to_next_cell": 1,
    "papermill": {
     "duration": 0.026838,
     "end_time": "2024-03-29T07:38:04.800238",
     "exception": false,
     "start_time": "2024-03-29T07:38:04.773400",
     "status": "completed"
    },
    "tags": []
   },
   "outputs": [
    {
     "data": {
      "text/plain": [
       "0"
      ]
     },
     "execution_count": 14,
     "metadata": {},
     "output_type": "execute_result"
    }
   ],
   "source": [
    "# Coding Studio link: https://bit.ly/42ZDqM4\n",
    "def count_occurances(arr: list[int], N: int, target: int) -> int:\n",
    "    def findFirst() -> int:\n",
    "        low, high, ans = 0, N - 1, -1\n",
    "        while low <= high:\n",
    "            mid = (low + high) // 2\n",
    "            if arr[mid] >= target:\n",
    "                if arr[mid] == target:\n",
    "                    ans = mid\n",
    "                high = mid - 1\n",
    "            else:\n",
    "                low = mid + 1\n",
    "\n",
    "        return ans\n",
    "\n",
    "    def findLast() -> int:\n",
    "        low, high, ans = 0, N - 1, -1\n",
    "        while low <= high:\n",
    "            mid = (low + high) // 2\n",
    "            if arr[mid] <= target:\n",
    "                if arr[mid] == target:\n",
    "                    ans = mid\n",
    "                low = mid + 1\n",
    "            else:\n",
    "                high = mid - 1\n",
    "\n",
    "        return ans\n",
    "\n",
    "    firstIdx = findFirst()\n",
    "    if firstIdx == -1:\n",
    "        return 0\n",
    "    else:\n",
    "        return findLast() - firstIdx + 1\n",
    "\n",
    "# Testing the solution\n",
    "count_occurances([1, 2, 2, 3, 4, 4, 4, 5, 6], 9, 9)"
   ]
  },
  {
   "cell_type": "markdown",
   "id": "7ae08467",
   "metadata": {
    "papermill": {
     "duration": 0.014386,
     "end_time": "2024-03-29T07:38:04.829401",
     "exception": false,
     "start_time": "2024-03-29T07:38:04.815015",
     "status": "completed"
    },
    "tags": []
   },
   "source": [
    "Video Link: https://www.youtube.com/watch?v=5qGrJbHhqFs&list=PLgUwDviBIf0oF6QL8m22w1hIDC1vJ_BHz&index=48\n",
    "Search in a rotated sorted array: https://leetcode.com/problems/search-in-rotated-sorted-array/"
   ]
  },
  {
   "cell_type": "code",
   "execution_count": 15,
   "id": "07fd3a6e",
   "metadata": {
    "execution": {
     "iopub.execute_input": "2024-03-29T07:38:04.859632Z",
     "iopub.status.busy": "2024-03-29T07:38:04.859071Z",
     "iopub.status.idle": "2024-03-29T07:38:04.867613Z",
     "shell.execute_reply": "2024-03-29T07:38:04.866881Z"
    },
    "lines_to_next_cell": 1,
    "papermill": {
     "duration": 0.02548,
     "end_time": "2024-03-29T07:38:04.869357",
     "exception": false,
     "start_time": "2024-03-29T07:38:04.843877",
     "status": "completed"
    },
    "tags": []
   },
   "outputs": [
    {
     "data": {
      "text/plain": [
       "8"
      ]
     },
     "execution_count": 15,
     "metadata": {},
     "output_type": "execute_result"
    }
   ],
   "source": [
    "def search_rotated_sorted1(arr: list[int], target: int) -> int:\n",
    "    N = len(arr)\n",
    "    low, high = 0, N - 1\n",
    "    while low <= high:\n",
    "        mid = (low + high) // 2\n",
    "        if arr[mid] == target:\n",
    "            return mid\n",
    "\n",
    "        # Left half is sorted\n",
    "        elif arr[low] <= arr[mid]:\n",
    "            # Element can be found in the left half\n",
    "            if arr[low] <= target <= arr[mid]:\n",
    "                high = mid - 1\n",
    "            else:\n",
    "                low = mid + 1\n",
    "\n",
    "        # Right half is sorted\n",
    "        else:\n",
    "            # Element can be found in the right half\n",
    "            if arr[mid] <= target <= arr[high]:\n",
    "                low = mid + 1\n",
    "            else:\n",
    "                high = mid - 1\n",
    "    else:\n",
    "        return -1\n",
    "\n",
    "search_rotated_sorted1([7, 8, 9, 1, 2, 3, 4, 5, 6], 6)"
   ]
  },
  {
   "cell_type": "markdown",
   "id": "fd5e97f9",
   "metadata": {
    "papermill": {
     "duration": 0.014705,
     "end_time": "2024-03-29T07:38:04.898941",
     "exception": false,
     "start_time": "2024-03-29T07:38:04.884236",
     "status": "completed"
    },
    "tags": []
   },
   "source": [
    "Video Link: https://www.youtube.com/watch?v=w2G2W8l__pc&list=PLgUwDviBIf0oF6QL8m22w1hIDC1vJ_BHz&index=49\n",
    "Search in rotated sorted arrays (with duplicates)\n",
    "Leetcode link: https://leetcode.com/problems/search-in-rotated-sorted-array-ii/submissions/1210474431/"
   ]
  },
  {
   "cell_type": "code",
   "execution_count": 16,
   "id": "310f82f5",
   "metadata": {
    "execution": {
     "iopub.execute_input": "2024-03-29T07:38:04.929717Z",
     "iopub.status.busy": "2024-03-29T07:38:04.929098Z",
     "iopub.status.idle": "2024-03-29T07:38:04.938476Z",
     "shell.execute_reply": "2024-03-29T07:38:04.937707Z"
    },
    "lines_to_next_cell": 1,
    "papermill": {
     "duration": 0.026429,
     "end_time": "2024-03-29T07:38:04.940099",
     "exception": false,
     "start_time": "2024-03-29T07:38:04.913670",
     "status": "completed"
    },
    "tags": []
   },
   "outputs": [
    {
     "data": {
      "text/plain": [
       "True"
      ]
     },
     "execution_count": 16,
     "metadata": {},
     "output_type": "execute_result"
    }
   ],
   "source": [
    "# Time complexity: O(n / 2)\n",
    "# If there are a lot of duplicates we might need to need to trim the left/right\n",
    "# repeatedly until arr[left] != arr[mid] != arr[right]\n",
    "def search_rotated_sorted2(arr: list[int], target: int) -> bool:\n",
    "    N = len(arr)\n",
    "    low, high = 0, N - 1\n",
    "    while low <= high:\n",
    "        mid = (low + high) // 2\n",
    "        if arr[mid] == target:\n",
    "            return True\n",
    "\n",
    "        # Special Case - [3, 1, 2, 3, 3, 3, 3, 3], eliminating left or right is not possible\n",
    "        elif arr[low] == arr[mid] == arr[high]:\n",
    "            low, high = low + 1, high - 1\n",
    "\n",
    "        # Left half is sorted\n",
    "        elif arr[low] <= arr[mid]:\n",
    "            # Element can be found in the left half\n",
    "            if arr[low] <= target <= arr[mid]:\n",
    "                high = mid - 1\n",
    "            else:\n",
    "                low = mid + 1\n",
    "\n",
    "        # Right half is sorted\n",
    "        else:\n",
    "            # Element can be found in the right half\n",
    "            if arr[mid] <= target <= arr[high]:\n",
    "                low = mid + 1\n",
    "            else:\n",
    "                high = mid - 1\n",
    "    else:\n",
    "        return False\n",
    "\n",
    "search_rotated_sorted2([3, 1, 2, 3, 3, 3, 3], 1)"
   ]
  },
  {
   "cell_type": "markdown",
   "id": "6657c71c",
   "metadata": {
    "papermill": {
     "duration": 0.01467,
     "end_time": "2024-03-29T07:38:04.969754",
     "exception": false,
     "start_time": "2024-03-29T07:38:04.955084",
     "status": "completed"
    },
    "tags": []
   },
   "source": [
    "Video Link: https://www.youtube.com/watch?v=nhEMDKMB44g&list=PLgUwDviBIf0oF6QL8m22w1hIDC1vJ_BHz&index=50\n",
    "Leetcode: https://leetcode.com/problems/find-minimum-in-rotated-sorted-array/submissions/1210490796"
   ]
  },
  {
   "cell_type": "code",
   "execution_count": 17,
   "id": "b50d9ac8",
   "metadata": {
    "execution": {
     "iopub.execute_input": "2024-03-29T07:38:05.000320Z",
     "iopub.status.busy": "2024-03-29T07:38:04.999822Z",
     "iopub.status.idle": "2024-03-29T07:38:05.007522Z",
     "shell.execute_reply": "2024-03-29T07:38:05.006863Z"
    },
    "papermill": {
     "duration": 0.024729,
     "end_time": "2024-03-29T07:38:05.009143",
     "exception": false,
     "start_time": "2024-03-29T07:38:04.984414",
     "status": "completed"
    },
    "tags": []
   },
   "outputs": [],
   "source": [
    "class Solution:\n",
    "    def findMin(self, nums: list[int]) -> int:\n",
    "        N = len(nums)\n",
    "        low, high, ans = 0, N - 1, nums[0]\n",
    "        while low <= high:\n",
    "            mid = (low + high) // 2\n",
    "            # Left half and right half is sorted (happens when we have crossed the pivot point or if the array was rotated 0 times)\n",
    "            if nums[low] < nums[mid] < nums[high]:\n",
    "                ans = min(ans, nums[low])\n",
    "                low, high = mid + 1, mid - 1\n",
    "\n",
    "            # Left half is sorted, take the min from left half and trim search space to the right half\n",
    "            elif nums[low] <= nums[mid]:\n",
    "                ans = min(ans, nums[low])\n",
    "                low = mid + 1\n",
    "\n",
    "            # Right half is sorted, take the min from the right half and trim search space to the left half\n",
    "            else:\n",
    "                ans = min(ans, nums[mid])\n",
    "                high = mid - 1\n",
    "\n",
    "        return ans\n",
    "\n",
    "# Testing the solution\n",
    "assert Solution().findMin([3,4,5,1,2]) == 1\n",
    "assert Solution().findMin([4,5,6,7,0,1,2]) == 0\n",
    "assert Solution().findMin([11,13,15,17]) == 11"
   ]
  },
  {
   "cell_type": "markdown",
   "id": "c2e4d69a",
   "metadata": {
    "papermill": {
     "duration": 0.01461,
     "end_time": "2024-03-29T07:38:05.038506",
     "exception": false,
     "start_time": "2024-03-29T07:38:05.023896",
     "status": "completed"
    },
    "tags": []
   },
   "source": [
    "Video Link: https://www.youtube.com/watch?v=jtSiWTPLwd0&list=PLgUwDviBIf0oF6QL8m22w1hIDC1vJ_BHz&index=51\n",
    "Count number of times an array has been rotated"
   ]
  },
  {
   "cell_type": "code",
   "execution_count": 18,
   "id": "f854c012",
   "metadata": {
    "execution": {
     "iopub.execute_input": "2024-03-29T07:38:05.069023Z",
     "iopub.status.busy": "2024-03-29T07:38:05.068764Z",
     "iopub.status.idle": "2024-03-29T07:38:05.075910Z",
     "shell.execute_reply": "2024-03-29T07:38:05.075131Z"
    },
    "papermill": {
     "duration": 0.024365,
     "end_time": "2024-03-29T07:38:05.077554",
     "exception": false,
     "start_time": "2024-03-29T07:38:05.053189",
     "status": "completed"
    },
    "tags": []
   },
   "outputs": [
    {
     "data": {
      "text/plain": [
       "4"
      ]
     },
     "execution_count": 18,
     "metadata": {},
     "output_type": "execute_result"
    }
   ],
   "source": [
    "arr = [2, 3, 4, 5, 1]\n",
    "N = len(arr)\n",
    "low, high, ans = 0, N - 1, 0\n",
    "while low <= high:\n",
    "    mid = (low + high) // 2\n",
    "    if arr[low] <= arr[mid]:\n",
    "        if arr[ans] > arr[low]:\n",
    "            ans = low\n",
    "        low = mid + 1\n",
    "    else:\n",
    "        if arr[ans] > arr[mid]:\n",
    "            ans = mid\n",
    "        high = mid - 1\n",
    "\n",
    "ans"
   ]
  },
  {
   "cell_type": "markdown",
   "id": "5769e9e8",
   "metadata": {
    "papermill": {
     "duration": 0.035184,
     "end_time": "2024-03-29T07:38:05.127784",
     "exception": false,
     "start_time": "2024-03-29T07:38:05.092600",
     "status": "completed"
    },
    "tags": []
   },
   "source": [
    "Video Link: https://www.youtube.com/watch?v=AZOmHuHadxQ&list=PLgUwDviBIf0oF6QL8m22w1hIDC1vJ_BHz&index=52\n",
    "Leetcode link: https://leetcode.com/problems/single-element-in-a-sorted-array/submissions/1211393503"
   ]
  },
  {
   "cell_type": "code",
   "execution_count": 19,
   "id": "1abaf5dd",
   "metadata": {
    "execution": {
     "iopub.execute_input": "2024-03-29T07:38:05.159081Z",
     "iopub.status.busy": "2024-03-29T07:38:05.158421Z",
     "iopub.status.idle": "2024-03-29T07:38:05.164595Z",
     "shell.execute_reply": "2024-03-29T07:38:05.163892Z"
    },
    "papermill": {
     "duration": 0.023596,
     "end_time": "2024-03-29T07:38:05.166264",
     "exception": false,
     "start_time": "2024-03-29T07:38:05.142668",
     "status": "completed"
    },
    "tags": []
   },
   "outputs": [
    {
     "data": {
      "text/plain": [
       "4"
      ]
     },
     "execution_count": 19,
     "metadata": {},
     "output_type": "execute_result"
    }
   ],
   "source": [
    "# Brute force approach\n",
    "# Time - O(N)\n",
    "arr = [1, 1, 2, 2, 3, 3, 4, 5, 5, 6, 6]\n",
    "res = 0\n",
    "for i in arr:\n",
    "    res ^= i\n",
    "res"
   ]
  },
  {
   "cell_type": "code",
   "execution_count": 20,
   "id": "69d77039",
   "metadata": {
    "execution": {
     "iopub.execute_input": "2024-03-29T07:38:05.197557Z",
     "iopub.status.busy": "2024-03-29T07:38:05.197263Z",
     "iopub.status.idle": "2024-03-29T07:38:05.205533Z",
     "shell.execute_reply": "2024-03-29T07:38:05.204752Z"
    },
    "lines_to_next_cell": 1,
    "papermill": {
     "duration": 0.025799,
     "end_time": "2024-03-29T07:38:05.207178",
     "exception": false,
     "start_time": "2024-03-29T07:38:05.181379",
     "status": "completed"
    },
    "tags": []
   },
   "outputs": [
    {
     "data": {
      "text/plain": [
       "4"
      ]
     },
     "execution_count": 20,
     "metadata": {},
     "output_type": "execute_result"
    }
   ],
   "source": [
    "# Better approach: O(log N)\n",
    "\"\"\"\n",
    "[1, 2, 2]\n",
    "[1, 1, 2]\n",
    "[1, 2, 2, 3, 3]\n",
    "[1, 1, 2, 3, 3]\n",
    "[1, 1, 2, 2, 3]\n",
    "[1, 2, 2, 3, 3, 4, 4]\n",
    "[1, 1, 2, 3, 3, 4, 4]\n",
    "[1, 1, 2, 2, 3, 4, 4]\n",
    "[1, 1, 2, 2, 3, 3, 4]\n",
    "# if mid is odd, mid - 1, mid should be same for left to be okay: low = mid + 1 / high = mid + 1\n",
    "# if mid is even, mid, mid + 1 should be the same for left to be okay: low = mid / high = mid\n",
    "\"\"\"\n",
    "arr = [1, 1, 2, 2, 3, 3, 4, 5, 5, 6, 6]\n",
    "N = len(arr)\n",
    "low, high = 0, N - 1\n",
    "while low < high:\n",
    "    mid = (low + high) // 2\n",
    "    if mid % 2 == 0:\n",
    "        if arr[mid] == arr[mid + 1]:\n",
    "            low = mid\n",
    "        else:\n",
    "            high = mid\n",
    "    else:\n",
    "        if arr[mid] == arr[mid - 1]:\n",
    "            low = mid + 1\n",
    "        else:\n",
    "            high = mid - 1\n",
    "\n",
    "arr[low]"
   ]
  },
  {
   "cell_type": "markdown",
   "id": "1879fb32",
   "metadata": {
    "papermill": {
     "duration": 0.015552,
     "end_time": "2024-03-29T07:38:05.238179",
     "exception": false,
     "start_time": "2024-03-29T07:38:05.222627",
     "status": "completed"
    },
    "tags": []
   },
   "source": [
    "Video Link: https://www.youtube.com/watch?v=cXxmbemS6XM&list=PLgUwDviBIf0oF6QL8m22w1hIDC1vJ_BHz&index=53\n",
    "Find Peak element"
   ]
  },
  {
   "cell_type": "code",
   "execution_count": 21,
   "id": "7126b9cc",
   "metadata": {
    "execution": {
     "iopub.execute_input": "2024-03-29T07:38:05.269750Z",
     "iopub.status.busy": "2024-03-29T07:38:05.269168Z",
     "iopub.status.idle": "2024-03-29T07:38:05.275618Z",
     "shell.execute_reply": "2024-03-29T07:38:05.274975Z"
    },
    "lines_to_next_cell": 1,
    "papermill": {
     "duration": 0.023938,
     "end_time": "2024-03-29T07:38:05.277221",
     "exception": false,
     "start_time": "2024-03-29T07:38:05.253283",
     "status": "completed"
    },
    "tags": []
   },
   "outputs": [],
   "source": [
    "def findPeakElement(arr: [int]) -> int:\n",
    "    N = len(arr)\n",
    "    low, high = 0, N - 1\n",
    "    while low <= high:\n",
    "        mid = (low + high) // 2\n",
    "        l, m, r = arr[mid - 1] if mid > 0 else -math.inf, arr[mid], arr[mid + 1] if mid < N - 1 else -math.inf\n",
    "        if l <  m > r:\n",
    "            return mid\n",
    "        elif l < m < r:\n",
    "            low = mid + 1\n",
    "        # handles both cases - l > m > r and l > m < r\n",
    "        # If the case is l > m < r, multiple peak exists, going any dir we would be able to reach a peak\n",
    "        else:\n",
    "            high = mid - 1\n",
    "    return -1\n",
    "\n",
    "# Testing the solution\n",
    "assert findPeakElement([1, 2, 3, 1]) == 2\n",
    "assert findPeakElement([1,2,1,3,5,6,4]) == 5"
   ]
  },
  {
   "cell_type": "markdown",
   "id": "399ae8e1",
   "metadata": {
    "papermill": {
     "duration": 0.015119,
     "end_time": "2024-03-29T07:38:05.307502",
     "exception": false,
     "start_time": "2024-03-29T07:38:05.292383",
     "status": "completed"
    },
    "tags": []
   },
   "source": [
    "Video Link: https://www.youtube.com/watch?v=Bsv3FPUX_BA&list=PLgUwDviBIf0oF6QL8m22w1hIDC1vJ_BHz&index=54\n",
    "Square root of a number using binary search\n",
    "Take home:\n",
    "\n",
    "1. For questions involving patterns where ans is possible uptil a certain extent and post which answers are not possible, we can apply our binary search algorithm (we always know the range of possible answers)\n",
    "2. When we are having regions of possible and not possible like so: [ans, ans, ans, not ans, not ans] - at the end of binary search, low will end up pointing at a position that is 1 greater than the ans (3) while high will end up pointing at the ans (2)"
   ]
  },
  {
   "cell_type": "code",
   "execution_count": 22,
   "id": "64144c7a",
   "metadata": {
    "execution": {
     "iopub.execute_input": "2024-03-29T07:38:05.339097Z",
     "iopub.status.busy": "2024-03-29T07:38:05.338740Z",
     "iopub.status.idle": "2024-03-29T07:38:05.378792Z",
     "shell.execute_reply": "2024-03-29T07:38:05.377986Z"
    },
    "lines_to_next_cell": 1,
    "papermill": {
     "duration": 0.057659,
     "end_time": "2024-03-29T07:38:05.380439",
     "exception": false,
     "start_time": "2024-03-29T07:38:05.322780",
     "status": "completed"
    },
    "tags": []
   },
   "outputs": [
    {
     "name": "stderr",
     "output_type": "stream",
     "text": [
      "\r",
      "  0%|          | 0/10000 [00:00<?, ?it/s]"
     ]
    },
    {
     "name": "stderr",
     "output_type": "stream",
     "text": [
      "\r",
      "100%|██████████| 10000/10000 [00:00<00:00, 313349.17it/s]"
     ]
    },
    {
     "name": "stderr",
     "output_type": "stream",
     "text": [
      "\n"
     ]
    }
   ],
   "source": [
    "def floorSqrt(n: int) -> int:\n",
    "    'Time - O(log n)'\n",
    "    low, high = 1, n\n",
    "    while low <= high:\n",
    "        mid = (low + high) // 2\n",
    "        if mid * mid > n:\n",
    "            high = mid - 1\n",
    "        else:\n",
    "            low = mid + 1\n",
    "\n",
    "    return high\n",
    "\n",
    "# Testing the solution\n",
    "for i in tqdm.tqdm(range(int(1e4))):\n",
    "    assert floorSqrt(i) == int(math.sqrt(i))"
   ]
  },
  {
   "cell_type": "markdown",
   "id": "21ab1eeb",
   "metadata": {
    "papermill": {
     "duration": 0.015284,
     "end_time": "2024-03-29T07:38:05.411117",
     "exception": false,
     "start_time": "2024-03-29T07:38:05.395833",
     "status": "completed"
    },
    "tags": []
   },
   "source": [
    "Video Link: https://www.youtube.com/watch?v=rjEJeYCasHs&list=PLgUwDviBIf0oF6QL8m22w1hIDC1vJ_BHz&index=55\n",
    "Find Nth root of an integer"
   ]
  },
  {
   "cell_type": "code",
   "execution_count": 23,
   "id": "8e8ba6e9",
   "metadata": {
    "execution": {
     "iopub.execute_input": "2024-03-29T07:38:05.443212Z",
     "iopub.status.busy": "2024-03-29T07:38:05.442630Z",
     "iopub.status.idle": "2024-03-29T07:38:05.448093Z",
     "shell.execute_reply": "2024-03-29T07:38:05.447482Z"
    },
    "lines_to_next_cell": 1,
    "papermill": {
     "duration": 0.023246,
     "end_time": "2024-03-29T07:38:05.449757",
     "exception": false,
     "start_time": "2024-03-29T07:38:05.426511",
     "status": "completed"
    },
    "tags": []
   },
   "outputs": [],
   "source": [
    "# Brute force\n",
    "def NthRoot_brute(n: int, m: int) -> int:\n",
    "    \"Brute force - O(m * n)\"\n",
    "    for i in range(m):\n",
    "        curr = 1\n",
    "        for _ in range(n):\n",
    "            curr *= i\n",
    "            if curr > m:\n",
    "                break\n",
    "        if curr == m:\n",
    "            return i\n",
    "        elif curr > m:\n",
    "            break\n",
    "    return -1\n",
    "\n",
    "# Testing the solution\n",
    "assert NthRoot_brute(3, 27) == 3\n",
    "assert NthRoot_brute(4, 69) == -1"
   ]
  },
  {
   "cell_type": "code",
   "execution_count": 24,
   "id": "accd0d1c",
   "metadata": {
    "execution": {
     "iopub.execute_input": "2024-03-29T07:38:05.482247Z",
     "iopub.status.busy": "2024-03-29T07:38:05.481734Z",
     "iopub.status.idle": "2024-03-29T07:38:05.487770Z",
     "shell.execute_reply": "2024-03-29T07:38:05.486989Z"
    },
    "lines_to_next_cell": 1,
    "papermill": {
     "duration": 0.024051,
     "end_time": "2024-03-29T07:38:05.489510",
     "exception": false,
     "start_time": "2024-03-29T07:38:05.465459",
     "status": "completed"
    },
    "tags": []
   },
   "outputs": [],
   "source": [
    "# Optimal - Binary Search\n",
    "def NthRoot_binary(n: int, m: int) -> int:\n",
    "    \"Using binary search - O(log m * n)\"\n",
    "    low, high = 0, m\n",
    "    while low <= high:\n",
    "        mid = (low + high) // 2\n",
    "\n",
    "        curr = 1\n",
    "        for _ in range(n):\n",
    "            curr *= mid\n",
    "            if curr > m:\n",
    "                break\n",
    "\n",
    "        if curr == m:\n",
    "            return mid\n",
    "        elif curr < m:\n",
    "            low = mid + 1\n",
    "        else:\n",
    "            high = mid - 1\n",
    "\n",
    "    return -1\n",
    "\n",
    "# Testing the solution\n",
    "assert NthRoot_binary(3, 27) == 3\n",
    "assert NthRoot_binary(4, 69) == -1"
   ]
  },
  {
   "cell_type": "markdown",
   "id": "201c8d96",
   "metadata": {
    "papermill": {
     "duration": 0.015285,
     "end_time": "2024-03-29T07:38:05.520202",
     "exception": false,
     "start_time": "2024-03-29T07:38:05.504917",
     "status": "completed"
    },
    "tags": []
   },
   "source": [
    "Video link: https://youtu.be/qyfekrNni90?si=N28mkp8Cyx4lvNIq  \n",
    "Problem: Koko eating bananas"
   ]
  },
  {
   "cell_type": "code",
   "execution_count": 25,
   "id": "24fcadf8",
   "metadata": {
    "execution": {
     "iopub.execute_input": "2024-03-29T07:38:05.552251Z",
     "iopub.status.busy": "2024-03-29T07:38:05.551656Z",
     "iopub.status.idle": "2024-03-29T07:38:05.556961Z",
     "shell.execute_reply": "2024-03-29T07:38:05.556200Z"
    },
    "lines_to_next_cell": 1,
    "papermill": {
     "duration": 0.023235,
     "end_time": "2024-03-29T07:38:05.558773",
     "exception": false,
     "start_time": "2024-03-29T07:38:05.535538",
     "status": "completed"
    },
    "tags": []
   },
   "outputs": [],
   "source": [
    "# Brute force solution: O(v * h)\n",
    "def minimumRateToEatBananas_brute(v: list[int], h: int) -> int:\n",
    "    m, min_hours = 0, sum(v)\n",
    "    while min_hours > h:\n",
    "        m += 1\n",
    "        min_hours = 0\n",
    "        for p in v:\n",
    "            min_hours += math.ceil(p / m)\n",
    "\n",
    "    return m\n",
    "\n",
    "# Testing the solution\n",
    "assert minimumRateToEatBananas_brute([7, 15, 6, 3], 8) == 5\n",
    "assert minimumRateToEatBananas_brute([25, 12, 8, 14, 19], 5) == 25"
   ]
  },
  {
   "cell_type": "code",
   "execution_count": 26,
   "id": "77605b2a",
   "metadata": {
    "execution": {
     "iopub.execute_input": "2024-03-29T07:38:05.591134Z",
     "iopub.status.busy": "2024-03-29T07:38:05.590590Z",
     "iopub.status.idle": "2024-03-29T07:38:05.597823Z",
     "shell.execute_reply": "2024-03-29T07:38:05.597067Z"
    },
    "lines_to_next_cell": 1,
    "papermill": {
     "duration": 0.025177,
     "end_time": "2024-03-29T07:38:05.599455",
     "exception": false,
     "start_time": "2024-03-29T07:38:05.574278",
     "status": "completed"
    },
    "tags": []
   },
   "outputs": [],
   "source": [
    "# Better solution\n",
    "def minimumRateToEatBananas_better(v: list[int], h: int) -> int:\n",
    "    def compute_hours(m: int) -> int:\n",
    "        \"Assumes piles is sorted in asc order\"\n",
    "        V = N # Copy N for modification\n",
    "        hours = 0\n",
    "        while v[V - 1] > m and V > 0:\n",
    "            hours += math.ceil(v[V - 1] / m)\n",
    "            V -= 1\n",
    "\n",
    "        return hours + V\n",
    "\n",
    "    N = len(v)\n",
    "\n",
    "    # Time: O(v log v)\n",
    "    v.sort()\n",
    "\n",
    "    # Binary search\n",
    "    low, high = 1, v[-1]\n",
    "    while low <= high:\n",
    "        mid = (low + high) // 2\n",
    "        curr = compute_hours(mid)\n",
    "        if curr > h:\n",
    "            low = mid + 1\n",
    "        else:\n",
    "            high = mid - 1\n",
    "\n",
    "    return low\n",
    "\n",
    "# Testing the solution\n",
    "assert minimumRateToEatBananas_better([9], 2) == 5\n",
    "assert minimumRateToEatBananas_better([7, 15, 6, 3], 8) == 5\n",
    "assert minimumRateToEatBananas_better([25, 12, 8, 14, 19], 5) == 25"
   ]
  },
  {
   "cell_type": "markdown",
   "id": "81512acb",
   "metadata": {
    "papermill": {
     "duration": 0.015367,
     "end_time": "2024-03-29T07:38:05.630330",
     "exception": false,
     "start_time": "2024-03-29T07:38:05.614963",
     "status": "completed"
    },
    "tags": []
   },
   "source": [
    "Video Link: https://www.youtube.com/watch?v=TXAuxeYBTdg&list=PLgUwDviBIf0oF6QL8m22w1hIDC1vJ_BHz&index=57\n",
    "Minimum days to make M boquets"
   ]
  },
  {
   "cell_type": "code",
   "execution_count": 27,
   "id": "76ca4e35",
   "metadata": {
    "execution": {
     "iopub.execute_input": "2024-03-29T07:38:05.662387Z",
     "iopub.status.busy": "2024-03-29T07:38:05.661844Z",
     "iopub.status.idle": "2024-03-29T07:38:05.670626Z",
     "shell.execute_reply": "2024-03-29T07:38:05.669858Z"
    },
    "lines_to_next_cell": 1,
    "papermill": {
     "duration": 0.026596,
     "end_time": "2024-03-29T07:38:05.672231",
     "exception": false,
     "start_time": "2024-03-29T07:38:05.645635",
     "status": "completed"
    },
    "tags": []
   },
   "outputs": [],
   "source": [
    "# Solution link: https://leetcode.com/problems/minimum-number-of-days-to-make-m-bouquets/submissions/1213963810\n",
    "class Solution:\n",
    "    def minDays(self, bloomDay: list[int], m: int, k: int) -> int:\n",
    "        def countBoquets(day: int) -> int:\n",
    "            \"Count boquets in O(N) time\"\n",
    "            flower_count, boquet_count = 0, 0\n",
    "            for i in range(N):\n",
    "                if bloomDay[i] <= day:\n",
    "                    flower_count += 1\n",
    "                else:\n",
    "                    flower_count = 0\n",
    "\n",
    "                if flower_count == k:\n",
    "                    boquet_count += 1\n",
    "                    flower_count = 0\n",
    "\n",
    "            return boquet_count\n",
    "\n",
    "        N = len(bloomDay)\n",
    "\n",
    "        answer_range = sorted(set(bloomDay))\n",
    "        answer_range_length = len(answer_range)\n",
    "        low, high = 0, answer_range_length - 1\n",
    "        while low <= high:\n",
    "            mid = (low + high) // 2\n",
    "            boquet_count = countBoquets(answer_range[mid])\n",
    "            if boquet_count >= m:\n",
    "                high = mid - 1\n",
    "            else:\n",
    "                low = mid + 1\n",
    "\n",
    "        return answer_range[low] if low < answer_range_length else -1\n",
    "\n",
    "# Testing the solution\n",
    "assert Solution().minDays([1,10,3,10,2], 3, 1) == 3\n",
    "assert Solution().minDays([1,10,3,10,2], 3, 2) == -1\n",
    "assert Solution().minDays([7,7,7,7,12,7,7], 2, 3) == 12"
   ]
  },
  {
   "cell_type": "markdown",
   "id": "03f3ffa2",
   "metadata": {
    "papermill": {
     "duration": 0.015455,
     "end_time": "2024-03-29T07:38:05.703275",
     "exception": false,
     "start_time": "2024-03-29T07:38:05.687820",
     "status": "completed"
    },
    "tags": []
   },
   "source": [
    "Video Link: https://www.youtube.com/watch?v=UvBKTVaG6U8&list=PLgUwDviBIf0oF6QL8m22w1hIDC1vJ_BHz&index=58\n",
    "Smallest divisor given the threshold"
   ]
  },
  {
   "cell_type": "code",
   "execution_count": 28,
   "id": "fbac3ba5",
   "metadata": {
    "execution": {
     "iopub.execute_input": "2024-03-29T07:38:05.735328Z",
     "iopub.status.busy": "2024-03-29T07:38:05.734710Z",
     "iopub.status.idle": "2024-03-29T07:38:05.741672Z",
     "shell.execute_reply": "2024-03-29T07:38:05.740940Z"
    },
    "lines_to_next_cell": 1,
    "papermill": {
     "duration": 0.024751,
     "end_time": "2024-03-29T07:38:05.743300",
     "exception": false,
     "start_time": "2024-03-29T07:38:05.718549",
     "status": "completed"
    },
    "tags": []
   },
   "outputs": [],
   "source": [
    "# Solution Link: https://leetcode.com/problems/find-the-smallest-divisor-given-a-threshold/submissions/1213975584\n",
    "class Solution:\n",
    "    def smallestDivisor(self, nums: list[int], threshold: int) -> int:\n",
    "        def calcThresh(divisor: int) -> int:\n",
    "            thresh = 0\n",
    "            for n in nums:\n",
    "                thresh += math.ceil(n / divisor)\n",
    "            return thresh\n",
    "\n",
    "        N = len(nums)\n",
    "        low, high = 1, max(nums)\n",
    "        while low <= high:\n",
    "            mid = (low + high) // 2\n",
    "            if calcThresh(mid) <= threshold:\n",
    "                high = mid - 1\n",
    "            else:\n",
    "                low = mid + 1\n",
    "\n",
    "        return low\n",
    "\n",
    "# Testing the solution\n",
    "assert Solution().smallestDivisor([1,2,5,9], 6) == 5\n",
    "assert Solution().smallestDivisor([44,22,33,11,1], 5) == 44\n",
    "assert Solution().smallestDivisor([21212,10101,12121], 1000000) == 1"
   ]
  },
  {
   "cell_type": "markdown",
   "id": "01e65497",
   "metadata": {
    "papermill": {
     "duration": 0.015178,
     "end_time": "2024-03-29T07:38:05.773860",
     "exception": false,
     "start_time": "2024-03-29T07:38:05.758682",
     "status": "completed"
    },
    "tags": []
   },
   "source": [
    "Video Link: https://www.youtube.com/watch?v=MG-Ac4TAvTY&list=PLgUwDviBIf0oF6QL8m22w1hIDC1vJ_BHz&index=59\n",
    "Capacity to ship packages in D Days"
   ]
  },
  {
   "cell_type": "code",
   "execution_count": 29,
   "id": "48336458",
   "metadata": {
    "execution": {
     "iopub.execute_input": "2024-03-29T07:38:05.806182Z",
     "iopub.status.busy": "2024-03-29T07:38:05.805559Z",
     "iopub.status.idle": "2024-03-29T07:38:05.813336Z",
     "shell.execute_reply": "2024-03-29T07:38:05.812603Z"
    },
    "lines_to_next_cell": 1,
    "papermill": {
     "duration": 0.025886,
     "end_time": "2024-03-29T07:38:05.815202",
     "exception": false,
     "start_time": "2024-03-29T07:38:05.789316",
     "status": "completed"
    },
    "tags": []
   },
   "outputs": [],
   "source": [
    "# Problem link: https://leetcode.com/problems/capacity-to-ship-packages-within-d-days/submissions/1214006136\n",
    "class Solution:\n",
    "    def shipWithinDays(self, weights: list[int], days: int) -> int:\n",
    "        def countDays(capacity: int) -> int:\n",
    "            day_count = 0\n",
    "            weight = 0\n",
    "            for w in weights:\n",
    "                if weight + w <= capacity:\n",
    "                    weight += w\n",
    "                else:\n",
    "                    day_count += 1\n",
    "                    weight = w\n",
    "\n",
    "            return day_count + 1\n",
    "\n",
    "        # Sort the weights\n",
    "        N = len(weights)\n",
    "\n",
    "        # Min, max possibile answer - Binary search\n",
    "        low, high = max(weights), sum(weights)\n",
    "        while low <= high:\n",
    "            mid = (low + high) // 2\n",
    "            day_count = countDays(mid)\n",
    "            if day_count <= days:\n",
    "                high = mid - 1\n",
    "            else:\n",
    "                low = mid + 1\n",
    "\n",
    "        return low\n",
    "\n",
    "# Testing the solution\n",
    "assert Solution().shipWithinDays([1,2,3,4,5,6,7,8,9,10], 5) == 15\n",
    "assert Solution().shipWithinDays([3,2,2,4,1,4], 3) == 6\n",
    "assert Solution().shipWithinDays([1,2,3,1,1], 4) == 3"
   ]
  },
  {
   "cell_type": "markdown",
   "id": "0a0d2642",
   "metadata": {
    "papermill": {
     "duration": 0.015212,
     "end_time": "2024-03-29T07:38:05.845818",
     "exception": false,
     "start_time": "2024-03-29T07:38:05.830606",
     "status": "completed"
    },
    "tags": []
   },
   "source": [
    "Video Link: https://www.youtube.com/watch?v=uZ0N_hZpyps&list=PLgUwDviBIf0oF6QL8m22w1hIDC1vJ_BHz&index=60\n",
    "Kth missing +ve number: https://leetcode.com/problems/kth-missing-positive-number/submissions/1215199274/"
   ]
  },
  {
   "cell_type": "code",
   "execution_count": 30,
   "id": "fdbc80fd",
   "metadata": {
    "execution": {
     "iopub.execute_input": "2024-03-29T07:38:05.877871Z",
     "iopub.status.busy": "2024-03-29T07:38:05.877263Z",
     "iopub.status.idle": "2024-03-29T07:38:05.885840Z",
     "shell.execute_reply": "2024-03-29T07:38:05.885102Z"
    },
    "lines_to_next_cell": 1,
    "papermill": {
     "duration": 0.026667,
     "end_time": "2024-03-29T07:38:05.887768",
     "exception": false,
     "start_time": "2024-03-29T07:38:05.861101",
     "status": "completed"
    },
    "tags": []
   },
   "outputs": [],
   "source": [
    "# Linear run time solution\n",
    "class Solution:\n",
    "    def findKthPositive_brute(self, arr: list[int], k: int) -> int:\n",
    "        \"Brute force: Time - O(N), Space - O(N)\"\n",
    "        present: set[int] = set(arr)\n",
    "        max_ = arr[-1] + k\n",
    "        for i in range(1, max_ + 1):\n",
    "            if i not in present:\n",
    "                k -= 1\n",
    "            if k == 0:\n",
    "                break\n",
    "        return i\n",
    "\n",
    "    def findKthPositive_better(self, arr: list[int], k: int) -> int:\n",
    "        \"Striver Better solution: Time - O(N), Space - O(1)\"\n",
    "        for n in arr:\n",
    "            if n <= k:\n",
    "                k += 1\n",
    "            else:\n",
    "                break\n",
    "        return k\n",
    "\n",
    "    def findKthPositive(self, arr: list[int], k: int) -> int:\n",
    "        \"\"\"\n",
    "        Optimal - Binary search: Time - O(log N)\n",
    "        Primary Observation: Count of missing elements prior to index: arr[idx] - idx - 1.\n",
    "        This is because if there were no missing elements, at any idx the number should be idx + 1.\n",
    "\n",
    "        With this logic in mind, we can apply binary search.\n",
    "        \"\"\"\n",
    "        N = len(arr)\n",
    "        low, high = 0, N - 1\n",
    "        while low <= high:\n",
    "            mid = (low + high) // 2\n",
    "            missing_count = arr[mid] - mid - 1\n",
    "            if missing_count < k:\n",
    "                low = mid + 1\n",
    "            else:\n",
    "                high = mid - 1\n",
    "\n",
    "        # arr[high] + more \n",
    "        # arr[high] + k - missing \n",
    "        # arr[high] + k - arr[high] + high + 1\n",
    "        return high + k + 1\n",
    "\n",
    "# Testing the solution\n",
    "assert Solution().findKthPositive([2, 3, 4, 7, 11], 5) == 9"
   ]
  },
  {
   "cell_type": "markdown",
   "id": "5275fb71",
   "metadata": {
    "papermill": {
     "duration": 0.015393,
     "end_time": "2024-03-29T07:38:05.918918",
     "exception": false,
     "start_time": "2024-03-29T07:38:05.903525",
     "status": "completed"
    },
    "tags": []
   },
   "source": [
    "Video Link: https://www.youtube.com/watch?v=R_Mfw4ew-Vo&list=PLgUwDviBIf0oF6QL8m22w1hIDC1vJ_BHz&index=61"
   ]
  },
  {
   "cell_type": "code",
   "execution_count": 31,
   "id": "8139b363",
   "metadata": {
    "execution": {
     "iopub.execute_input": "2024-03-29T07:38:05.951026Z",
     "iopub.status.busy": "2024-03-29T07:38:05.950400Z",
     "iopub.status.idle": "2024-03-29T07:38:05.956874Z",
     "shell.execute_reply": "2024-03-29T07:38:05.956142Z"
    },
    "lines_to_next_cell": 1,
    "papermill": {
     "duration": 0.02451,
     "end_time": "2024-03-29T07:38:05.958770",
     "exception": false,
     "start_time": "2024-03-29T07:38:05.934260",
     "status": "completed"
    },
    "tags": []
   },
   "outputs": [],
   "source": [
    "# Brute force: ~ O(2 ^ N)\n",
    "def aggressiveCows(stalls: list[int], k: int) -> int:\n",
    "    def compute_min_distance(placement: tuple[int]) -> int:\n",
    "        dist = stalls[-1] - stalls[0]\n",
    "        for i in range(k - 1):\n",
    "            dist = min(dist, placement[i + 1] - placement[i])\n",
    "\n",
    "        return dist\n",
    "\n",
    "    # Sort the stalls so that the min dist would always be between 2 consequtive stalls\n",
    "    stalls.sort()\n",
    "\n",
    "    # Generate all subsequences\n",
    "    result = 0\n",
    "    for placement in itertools.combinations(stalls, k):\n",
    "        result = max(result, compute_min_distance(placement))\n",
    "    return result\n",
    "\n",
    "# Testing the solution\n",
    "assert aggressiveCows([0, 3, 4, 7, 10, 9], 4) == 3\n",
    "assert aggressiveCows([4, 2, 1, 3, 6], 2) == 5"
   ]
  },
  {
   "cell_type": "code",
   "execution_count": 32,
   "id": "ba2f0950",
   "metadata": {
    "execution": {
     "iopub.execute_input": "2024-03-29T07:38:05.990884Z",
     "iopub.status.busy": "2024-03-29T07:38:05.990272Z",
     "iopub.status.idle": "2024-03-29T07:38:05.997727Z",
     "shell.execute_reply": "2024-03-29T07:38:05.996999Z"
    },
    "lines_to_next_cell": 1,
    "papermill": {
     "duration": 0.025304,
     "end_time": "2024-03-29T07:38:05.999540",
     "exception": false,
     "start_time": "2024-03-29T07:38:05.974236",
     "status": "completed"
    },
    "tags": []
   },
   "outputs": [],
   "source": [
    "# Better: ~ O(N ^ 2) \n",
    "def aggressiveCows(stalls: list[int], k: int) -> int:\n",
    "    stalls.sort()\n",
    "\n",
    "    N = len(stalls)\n",
    "\n",
    "    distances = []\n",
    "    for i in range(N - 1):\n",
    "        distances.append(stalls[i + 1] - stalls[i])\n",
    "\n",
    "    # Eliminate N - k stalls\n",
    "    for i in range(N - k):\n",
    "        # Find min dist idx\n",
    "        min_ = 0\n",
    "        for j in range(N - i - 1):\n",
    "            if distances[j] < distances[min_]:\n",
    "                min_ = j\n",
    "        # Combine with the smaller value\n",
    "        if min_ == 0 or (min_ < N - i - 2 and distances[min_ + 1] < distances[min_ - 1]):\n",
    "            distances[min_ + 1] += distances[min_]\n",
    "        else:\n",
    "            distances[min_ - 1] += distances[min_]\n",
    "\n",
    "        # Remove that distance\n",
    "        distances.pop(min_)\n",
    "\n",
    "    return min(distances)\n",
    "\n",
    "# Testing the solution\n",
    "assert aggressiveCows([0, 3, 4, 7, 10, 9], 4) == 3\n",
    "assert aggressiveCows([4, 2, 1, 3, 6], 2) == 5"
   ]
  },
  {
   "cell_type": "code",
   "execution_count": 33,
   "id": "64f42a77",
   "metadata": {
    "execution": {
     "iopub.execute_input": "2024-03-29T07:38:06.032111Z",
     "iopub.status.busy": "2024-03-29T07:38:06.031432Z",
     "iopub.status.idle": "2024-03-29T07:38:06.038881Z",
     "shell.execute_reply": "2024-03-29T07:38:06.038259Z"
    },
    "lines_to_next_cell": 1,
    "papermill": {
     "duration": 0.025385,
     "end_time": "2024-03-29T07:38:06.040530",
     "exception": false,
     "start_time": "2024-03-29T07:38:06.015145",
     "status": "completed"
    },
    "tags": []
   },
   "outputs": [],
   "source": [
    "# Optimal Striver: O(N log N)\n",
    "def aggressiveCows(stalls: list[int], k: int) -> int:\n",
    "    def place_cows(dist: int) -> bool:\n",
    "        \"Place k cows with a min of k dist (>= dist)\"\n",
    "\n",
    "        # Place 1st cow at idx 0\n",
    "        k_, prev = k - 1, 0\n",
    "        for i in range(1, N):\n",
    "            if stalls[i] - stalls[prev] >= dist:\n",
    "                prev = i\n",
    "                k_ -= 1\n",
    "            if k_ == 0:\n",
    "                break\n",
    "\n",
    "        return k_ == 0\n",
    "\n",
    "    N = len(stalls)\n",
    "    stalls.sort()\n",
    "\n",
    "    low, high = 1, stalls[-1] - stalls[0]\n",
    "    while low <= high:\n",
    "        mid = (low + high) // 2\n",
    "        if place_cows(mid):\n",
    "            low = mid + 1\n",
    "        else:\n",
    "            high = mid - 1\n",
    "\n",
    "    return high\n",
    "\n",
    "# Testing the solution\n",
    "assert aggressiveCows([0, 3, 4, 7, 10, 9], 4) == 3\n",
    "assert aggressiveCows([4, 2, 1, 3, 6], 2) == 5"
   ]
  },
  {
   "cell_type": "markdown",
   "id": "c6415f70",
   "metadata": {
    "papermill": {
     "duration": 0.015359,
     "end_time": "2024-03-29T07:38:06.071408",
     "exception": false,
     "start_time": "2024-03-29T07:38:06.056049",
     "status": "completed"
    },
    "tags": []
   },
   "source": [
    "Video link: https://www.youtube.com/watch?v=Z0hwjftStI4&list=PLgUwDviBIf0oF6QL8m22w1hIDC1vJ_BHz&index=62"
   ]
  },
  {
   "cell_type": "code",
   "execution_count": 34,
   "id": "4e6344ff",
   "metadata": {
    "execution": {
     "iopub.execute_input": "2024-03-29T07:38:06.103591Z",
     "iopub.status.busy": "2024-03-29T07:38:06.103033Z",
     "iopub.status.idle": "2024-03-29T07:38:06.109875Z",
     "shell.execute_reply": "2024-03-29T07:38:06.109122Z"
    },
    "lines_to_next_cell": 1,
    "papermill": {
     "duration": 0.024544,
     "end_time": "2024-03-29T07:38:06.111419",
     "exception": false,
     "start_time": "2024-03-29T07:38:06.086875",
     "status": "completed"
    },
    "tags": []
   },
   "outputs": [],
   "source": [
    "# Brute force solution, Time, Space: O(N!)\n",
    "def findPages(arr: list[int], n: int, m: int) -> float:\n",
    "    N = len(arr)\n",
    "\n",
    "    @functools.cache\n",
    "    def backtrack(start: int, n_students: int) -> float:\n",
    "        if n_students == 1:\n",
    "            return sum(arr[start:])\n",
    "\n",
    "        else:\n",
    "            result = math.inf\n",
    "            sum_ = 0\n",
    "            for i in range(start, N - n_students + 1):\n",
    "                sum_ += arr[i]\n",
    "                result = min(result, max(sum_, backtrack(i + 1, n_students - 1)))\n",
    "\n",
    "            return result\n",
    "\n",
    "    result = backtrack(0, m)\n",
    "    return -1 if math.isinf(result) else result\n",
    "\n",
    "# Testing the solution\n",
    "assert findPages([12, 34, 67, 90], 4, 2) == 113\n",
    "assert findPages([25, 46, 28, 49, 24], 5, 4) == 71"
   ]
  },
  {
   "cell_type": "code",
   "execution_count": 35,
   "id": "569cb019",
   "metadata": {
    "execution": {
     "iopub.execute_input": "2024-03-29T07:38:06.143889Z",
     "iopub.status.busy": "2024-03-29T07:38:06.143301Z",
     "iopub.status.idle": "2024-03-29T07:38:06.151156Z",
     "shell.execute_reply": "2024-03-29T07:38:06.150407Z"
    },
    "lines_to_next_cell": 1,
    "papermill": {
     "duration": 0.025832,
     "end_time": "2024-03-29T07:38:06.152853",
     "exception": false,
     "start_time": "2024-03-29T07:38:06.127021",
     "status": "completed"
    },
    "tags": []
   },
   "outputs": [],
   "source": [
    "# Optimal - Binary search, Time - O(N log N)\n",
    "def findPages(arr: list[int], n: int, m: int) -> float:\n",
    "    N = len(arr)\n",
    "\n",
    "    def assign(maxPages: int) -> bool:\n",
    "        \"\"\"\n",
    "        Logic for this is more crucial than binary search itself.\n",
    "\n",
    "        Tip: Splits, Subarrays (contiguous).\n",
    "\n",
    "        To check if the maxPages is possible we GREEDILY assign as much as\n",
    "        possible to each guy before moving to the next guy.\n",
    "        \"\"\"\n",
    "        n_std, curr = 1, 0\n",
    "        for i in range(N):\n",
    "            if curr + arr[i] <= maxPages:\n",
    "                curr += arr[i]\n",
    "            else:\n",
    "                n_std, curr = n_std + 1, arr[i]\n",
    "\n",
    "        return n_std <= m\n",
    "\n",
    "    if N < m:\n",
    "        return -1\n",
    "    else:\n",
    "        low, high = max(arr), sum(arr)\n",
    "        while low <= high:\n",
    "            mid = (low + high) // 2\n",
    "            if assign(mid):\n",
    "                high = mid - 1\n",
    "            else:\n",
    "                low = mid + 1\n",
    "\n",
    "        return low\n",
    "\n",
    "# Testing the solution\n",
    "assert findPages([12, 34, 67, 90], 4, 2) == 113\n",
    "assert findPages([25, 46, 28, 49, 24], 5, 4) == 71\n",
    "assert findPages([2, 8, 8, 4, 5], 5, 6) == -1"
   ]
  },
  {
   "cell_type": "markdown",
   "id": "693edc5b",
   "metadata": {
    "papermill": {
     "duration": 0.015398,
     "end_time": "2024-03-29T07:38:06.183735",
     "exception": false,
     "start_time": "2024-03-29T07:38:06.168337",
     "status": "completed"
    },
    "tags": []
   },
   "source": [
    "Video Link: https://www.youtube.com/watch?v=thUd_WJn6wk&list=PLgUwDviBIf0oF6QL8m22w1hIDC1vJ_BHz&index=63\n",
    "Problem Link: https://leetcode.com/problems/split-array-largest-sum/submissions/1216912768"
   ]
  },
  {
   "cell_type": "code",
   "execution_count": 36,
   "id": "2f94d583",
   "metadata": {
    "execution": {
     "iopub.execute_input": "2024-03-29T07:38:06.216262Z",
     "iopub.status.busy": "2024-03-29T07:38:06.215554Z",
     "iopub.status.idle": "2024-03-29T07:38:06.223772Z",
     "shell.execute_reply": "2024-03-29T07:38:06.223153Z"
    },
    "lines_to_next_cell": 1,
    "papermill": {
     "duration": 0.026256,
     "end_time": "2024-03-29T07:38:06.225440",
     "exception": false,
     "start_time": "2024-03-29T07:38:06.199184",
     "status": "completed"
    },
    "tags": []
   },
   "outputs": [],
   "source": [
    "class Solution:\n",
    "    def splitArray(self, nums: list[int], k: int) -> int:\n",
    "        N = len(nums)\n",
    "\n",
    "        def countSplits(max_: int) -> bool:\n",
    "            \"\"\"\n",
    "            Greedily assign as much as possible to each guy before moving forward.\n",
    "            Same logic as the problem above. Remember only applicable for contigous\n",
    "            array slices: subarrays, splits, etc.\n",
    "            \"\"\"\n",
    "            n_splits, sum_ = 1, 0\n",
    "            for i in range(N):\n",
    "                if sum_ + nums[i] <= max_:\n",
    "                    sum_ += nums[i]\n",
    "                else:\n",
    "                    n_splits, sum_ = n_splits + 1, nums[i]\n",
    "\n",
    "            return n_splits <= k\n",
    "\n",
    "        if k > N:\n",
    "            return -1\n",
    "        else:\n",
    "            low, high = max(nums), sum(nums)\n",
    "            while low <= high:\n",
    "                mid = (low + high) // 2\n",
    "                if countSplits(mid):\n",
    "                    high = mid - 1\n",
    "                else:\n",
    "                    low = mid + 1\n",
    "\n",
    "            return low\n",
    "\n",
    "# Testing the solution\n",
    "assert Solution().splitArray([7,2,5,10,8], 2) == 18\n",
    "assert Solution().splitArray([1, 2, 3, 4, 5], 2) == 9"
   ]
  },
  {
   "cell_type": "markdown",
   "id": "b17280b3",
   "metadata": {
    "papermill": {
     "duration": 0.015552,
     "end_time": "2024-03-29T07:38:06.256932",
     "exception": false,
     "start_time": "2024-03-29T07:38:06.241380",
     "status": "completed"
    },
    "tags": []
   },
   "source": [
    "Video link: https://www.youtube.com/watch?v=kMSBvlZ-_HA&list=PLgUwDviBIf0oF6QL8m22w1hIDC1vJ_BHz&index=64"
   ]
  },
  {
   "cell_type": "code",
   "execution_count": 37,
   "id": "b31b6aea",
   "metadata": {
    "execution": {
     "iopub.execute_input": "2024-03-29T07:38:06.289302Z",
     "iopub.status.busy": "2024-03-29T07:38:06.288753Z",
     "iopub.status.idle": "2024-03-29T07:38:06.297777Z",
     "shell.execute_reply": "2024-03-29T07:38:06.297010Z"
    },
    "papermill": {
     "duration": 0.026912,
     "end_time": "2024-03-29T07:38:06.299359",
     "exception": false,
     "start_time": "2024-03-29T07:38:06.272447",
     "status": "completed"
    },
    "tags": []
   },
   "outputs": [],
   "source": [
    "def minimiseMaxDistance(arr: list[int], k: float) -> float:\n",
    "\n",
    "    def check(thresh: float) -> bool:\n",
    "        \"\"\"\n",
    "        If curr_dist is > thresh, try to split just until dist = thresh\n",
    "\n",
    "        >>> curr_dist / (n + 1) == thresh\n",
    "        >>> curr_dist / thresh - 1 = n \n",
    "        \"\"\"\n",
    "\n",
    "        n_splits = 0\n",
    "        for i in range(N - 1):\n",
    "            curr_dist = arr[i + 1] - arr[i]\n",
    "            if curr_dist > thresh:\n",
    "                # Ceil without using math.ceil => -(-x // 1)\n",
    "                splits_required = -(-curr_dist // thresh) - 1\n",
    "                n_splits += int(splits_required)\n",
    "\n",
    "        return n_splits <= k\n",
    "\n",
    "    N = len(arr)\n",
    "    max_dist = 0.\n",
    "    for i in range(N - 1):\n",
    "        max_dist = max(max_dist, arr[i + 1] - arr[i])\n",
    "\n",
    "    low, high = 0., max_dist\n",
    "    while low < high:\n",
    "        mid = round((low + high) / 2, 7)\n",
    "        if mid == high or low == mid:\n",
    "            break\n",
    "        if check(mid):\n",
    "            high = mid\n",
    "        else:\n",
    "            low = mid\n",
    "\n",
    "    return low\n",
    "\n",
    "# Testing the solution\n",
    "assert round(minimiseMaxDistance([1, 2, 3, 4, 5], 4), 6) == 0.5\n",
    "assert round(minimiseMaxDistance([1, 2, 5], 4), 6) == 0.75\n",
    "assert round(minimiseMaxDistance([1, 3], 2), 6) == 0.666667"
   ]
  }
 ],
 "metadata": {
  "kernelspec": {
   "display_name": "Python 3 (ipykernel)",
   "language": "python",
   "name": "python3"
  },
  "language_info": {
   "codemirror_mode": {
    "name": "ipython",
    "version": 3
   },
   "file_extension": ".py",
   "mimetype": "text/x-python",
   "name": "python",
   "nbconvert_exporter": "python",
   "pygments_lexer": "ipython3",
   "version": "3.10.14"
  },
  "papermill": {
   "default_parameters": {},
   "duration": 3.495467,
   "end_time": "2024-03-29T07:38:06.431614",
   "environment_variables": {},
   "exception": null,
   "input_path": "study/striver-A2Z/09-binary-search.ipynb",
   "output_path": "study/striver-A2Z/09-binary-search.ipynb",
   "parameters": {},
   "start_time": "2024-03-29T07:38:02.936147",
   "version": "2.5.0"
  }
 },
 "nbformat": 4,
 "nbformat_minor": 5
}