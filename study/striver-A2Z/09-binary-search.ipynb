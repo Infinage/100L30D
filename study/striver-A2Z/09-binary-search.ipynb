{
 "cells": [
  {
   "cell_type": "markdown",
   "id": "39385271",
   "metadata": {
    "papermill": {
     "duration": 0.014953,
     "end_time": "2024-03-30T12:53:43.989769",
     "exception": false,
     "start_time": "2024-03-30T12:53:43.974816",
     "status": "completed"
    },
    "tags": []
   },
   "source": [
    "Some useful imports"
   ]
  },
  {
   "cell_type": "code",
   "execution_count": 1,
   "id": "fd129096",
   "metadata": {
    "execution": {
     "iopub.execute_input": "2024-03-30T12:53:44.019564Z",
     "iopub.status.busy": "2024-03-30T12:53:44.018973Z",
     "iopub.status.idle": "2024-03-30T12:53:44.129797Z",
     "shell.execute_reply": "2024-03-30T12:53:44.128910Z"
    },
    "lines_to_next_cell": 1,
    "papermill": {
     "duration": 0.128525,
     "end_time": "2024-03-30T12:53:44.132443",
     "exception": false,
     "start_time": "2024-03-30T12:53:44.003918",
     "status": "completed"
    },
    "tags": []
   },
   "outputs": [],
   "source": [
    "import math\n",
    "import random\n",
    "import functools\n",
    "import itertools\n",
    "import heapq\n",
    "import tqdm\n",
    "import pdb\n",
    "import numpy as np"
   ]
  },
  {
   "cell_type": "markdown",
   "id": "1b645c9d",
   "metadata": {
    "papermill": {
     "duration": 0.013843,
     "end_time": "2024-03-30T12:53:44.166665",
     "exception": false,
     "start_time": "2024-03-30T12:53:44.152822",
     "status": "completed"
    },
    "tags": []
   },
   "source": [
    "Video Link: https://www.youtube.com/watch?v=MHf6awe89xw&list=PLgUwDviBIf0oF6QL8m22w1hIDC1vJ_BHz&index=45"
   ]
  },
  {
   "cell_type": "code",
   "execution_count": 2,
   "id": "a8c5fd59",
   "metadata": {
    "execution": {
     "iopub.execute_input": "2024-03-30T12:53:44.195967Z",
     "iopub.status.busy": "2024-03-30T12:53:44.195232Z",
     "iopub.status.idle": "2024-03-30T12:53:44.199917Z",
     "shell.execute_reply": "2024-03-30T12:53:44.199151Z"
    },
    "lines_to_next_cell": 1,
    "papermill": {
     "duration": 0.021172,
     "end_time": "2024-03-30T12:53:44.201573",
     "exception": false,
     "start_time": "2024-03-30T12:53:44.180401",
     "status": "completed"
    },
    "tags": []
   },
   "outputs": [],
   "source": [
    "# Linear search\n",
    "def lsearch(arr: list[int], target: int) -> int:\n",
    "    for i in range(len(arr)):\n",
    "        if arr[i] == target:\n",
    "            return i\n",
    "    else:\n",
    "        return -1"
   ]
  },
  {
   "cell_type": "code",
   "execution_count": 3,
   "id": "b06d330f",
   "metadata": {
    "execution": {
     "iopub.execute_input": "2024-03-30T12:53:44.231478Z",
     "iopub.status.busy": "2024-03-30T12:53:44.230915Z",
     "iopub.status.idle": "2024-03-30T12:53:44.246417Z",
     "shell.execute_reply": "2024-03-30T12:53:44.245592Z"
    },
    "lines_to_next_cell": 1,
    "papermill": {
     "duration": 0.032087,
     "end_time": "2024-03-30T12:53:44.248222",
     "exception": false,
     "start_time": "2024-03-30T12:53:44.216135",
     "status": "completed"
    },
    "tags": []
   },
   "outputs": [
    {
     "name": "stderr",
     "output_type": "stream",
     "text": [
      "\r",
      "  0%|          | 0/100 [00:00<?, ?it/s]"
     ]
    },
    {
     "name": "stderr",
     "output_type": "stream",
     "text": [
      "\r",
      "100%|██████████| 100/100 [00:00<00:00, 57535.03it/s]"
     ]
    },
    {
     "name": "stderr",
     "output_type": "stream",
     "text": [
      "\n"
     ]
    }
   ],
   "source": [
    "# Iterative solution\n",
    "def bsearch_iter(arr: list[int], target: int) -> int:\n",
    "    low, high = 0, len(arr) - 1\n",
    "    while low <= high:\n",
    "        mid = (low + high) // 2\n",
    "        if arr[mid] == target:\n",
    "            return mid\n",
    "        elif target > arr[mid]:\n",
    "            low = mid + 1\n",
    "        else:\n",
    "            high = mid - 1\n",
    "    else:\n",
    "        return -1\n",
    "\n",
    "# Test the algorithm\n",
    "for i in tqdm.tqdm(range(100)):\n",
    "    temp = random.sample(list(range(15, 30)), random.randint(1, 15))\n",
    "    temp.sort()\n",
    "    j = random.randint(0, 45)\n",
    "    assert bsearch_iter(temp, j) == lsearch(temp, j), f\"failed for {temp}, {j}\""
   ]
  },
  {
   "cell_type": "code",
   "execution_count": 4,
   "id": "59682a10",
   "metadata": {
    "execution": {
     "iopub.execute_input": "2024-03-30T12:53:44.278681Z",
     "iopub.status.busy": "2024-03-30T12:53:44.278170Z",
     "iopub.status.idle": "2024-03-30T12:53:44.289890Z",
     "shell.execute_reply": "2024-03-30T12:53:44.289106Z"
    },
    "lines_to_next_cell": 1,
    "papermill": {
     "duration": 0.028731,
     "end_time": "2024-03-30T12:53:44.291606",
     "exception": false,
     "start_time": "2024-03-30T12:53:44.262875",
     "status": "completed"
    },
    "tags": []
   },
   "outputs": [
    {
     "name": "stderr",
     "output_type": "stream",
     "text": [
      "\r",
      "  0%|          | 0/100 [00:00<?, ?it/s]"
     ]
    },
    {
     "name": "stderr",
     "output_type": "stream",
     "text": [
      "\r",
      "100%|██████████| 100/100 [00:00<00:00, 53038.75it/s]"
     ]
    },
    {
     "name": "stderr",
     "output_type": "stream",
     "text": [
      "\n"
     ]
    }
   ],
   "source": [
    "# Recursive solution\n",
    "def bsearch_rec(arr: list[int], target: int) -> int:\n",
    "    def backtrack(low: int, high: int) -> int:\n",
    "        if low > high:\n",
    "            return -1\n",
    "        else:\n",
    "            mid = (low + high) // 2\n",
    "            if arr[mid] == target:\n",
    "                return mid\n",
    "            elif target < arr[mid]:\n",
    "                return backtrack(low, mid - 1)\n",
    "            else:\n",
    "                return backtrack(mid + 1, high)\n",
    "\n",
    "    return backtrack(0, len(arr) - 1)\n",
    "\n",
    "for i in tqdm.tqdm(range(100)):\n",
    "    temp = random.sample(list(range(15, 30)), random.randint(1, 15))\n",
    "    temp.sort()\n",
    "    j = random.randint(0, 45)\n",
    "    assert bsearch_rec(temp, j) == lsearch(temp, j), f\"failed for {temp}, {j}\""
   ]
  },
  {
   "cell_type": "markdown",
   "id": "1f2d9f50",
   "metadata": {
    "papermill": {
     "duration": 0.014349,
     "end_time": "2024-03-30T12:53:44.320551",
     "exception": false,
     "start_time": "2024-03-30T12:53:44.306202",
     "status": "completed"
    },
    "tags": []
   },
   "source": [
    "Video Link: https://www.youtube.com/watch?v=6zhGS79oQ4k&list=PLgUwDviBIf0oF6QL8m22w1hIDC1vJ_BHz&index=46\n",
    "Implement lower / bound"
   ]
  },
  {
   "cell_type": "code",
   "execution_count": 5,
   "id": "f23024a2",
   "metadata": {
    "execution": {
     "iopub.execute_input": "2024-03-30T12:53:44.350768Z",
     "iopub.status.busy": "2024-03-30T12:53:44.350207Z",
     "iopub.status.idle": "2024-03-30T12:53:44.359990Z",
     "shell.execute_reply": "2024-03-30T12:53:44.359285Z"
    },
    "lines_to_next_cell": 1,
    "papermill": {
     "duration": 0.026638,
     "end_time": "2024-03-30T12:53:44.361596",
     "exception": false,
     "start_time": "2024-03-30T12:53:44.334958",
     "status": "completed"
    },
    "tags": []
   },
   "outputs": [
    {
     "data": {
      "text/plain": [
       "5"
      ]
     },
     "execution_count": 5,
     "metadata": {},
     "output_type": "execute_result"
    }
   ],
   "source": [
    "# Lower bound with Linear Search\n",
    "def lower_bound_linear(arr: list[int], target: int) -> int:\n",
    "    N = len(arr)\n",
    "    for i in range(N):\n",
    "        if arr[i] >= target:\n",
    "            return i\n",
    "    return N\n",
    "\n",
    "lower_bound_linear([3, 5, 8, 15, 19], 20)"
   ]
  },
  {
   "cell_type": "code",
   "execution_count": 6,
   "id": "a0b8bf3a",
   "metadata": {
    "execution": {
     "iopub.execute_input": "2024-03-30T12:53:44.392298Z",
     "iopub.status.busy": "2024-03-30T12:53:44.391691Z",
     "iopub.status.idle": "2024-03-30T12:53:44.404321Z",
     "shell.execute_reply": "2024-03-30T12:53:44.403519Z"
    },
    "lines_to_next_cell": 1,
    "papermill": {
     "duration": 0.029736,
     "end_time": "2024-03-30T12:53:44.406064",
     "exception": false,
     "start_time": "2024-03-30T12:53:44.376328",
     "status": "completed"
    },
    "tags": []
   },
   "outputs": [
    {
     "name": "stderr",
     "output_type": "stream",
     "text": [
      "\r",
      "  0%|          | 0/200 [00:00<?, ?it/s]"
     ]
    },
    {
     "name": "stderr",
     "output_type": "stream",
     "text": [
      "\r",
      "100%|██████████| 200/200 [00:00<00:00, 62248.50it/s]"
     ]
    },
    {
     "name": "stderr",
     "output_type": "stream",
     "text": [
      "\n"
     ]
    }
   ],
   "source": [
    "def lower_bound_binary(arr: list[int], target: int):\n",
    "    N = len(arr)\n",
    "    low, high = 0, N - 1\n",
    "    while low <= high:\n",
    "        mid = (low + high) // 2\n",
    "        if arr[mid - 1] < target and arr[mid] >= target:\n",
    "            return mid\n",
    "        elif arr[mid] >= target:\n",
    "            high = mid - 1\n",
    "        else:\n",
    "            low = mid + 1\n",
    "    else:\n",
    "        return 0 if target <= arr[0] else N\n",
    "\n",
    "for i in tqdm.tqdm(range(200)):\n",
    "    temp = random.choices(list(range(100, 200)), k=random.randint(1, 50))\n",
    "    temp.sort()\n",
    "    j = random.randint(95, 205)\n",
    "    assert lower_bound_binary(temp, j) == lower_bound_linear(temp, j), f\"failed for {temp}, {j}\""
   ]
  },
  {
   "cell_type": "code",
   "execution_count": 7,
   "id": "6609aa48",
   "metadata": {
    "execution": {
     "iopub.execute_input": "2024-03-30T12:53:44.437261Z",
     "iopub.status.busy": "2024-03-30T12:53:44.436558Z",
     "iopub.status.idle": "2024-03-30T12:53:44.443636Z",
     "shell.execute_reply": "2024-03-30T12:53:44.442831Z"
    },
    "lines_to_next_cell": 1,
    "papermill": {
     "duration": 0.024277,
     "end_time": "2024-03-30T12:53:44.445256",
     "exception": false,
     "start_time": "2024-03-30T12:53:44.420979",
     "status": "completed"
    },
    "tags": []
   },
   "outputs": [
    {
     "data": {
      "text/plain": [
       "4"
      ]
     },
     "execution_count": 7,
     "metadata": {},
     "output_type": "execute_result"
    }
   ],
   "source": [
    "# Upper bound - Brute O(N)\n",
    "def upper_bound_linear(arr: list[int], target: int) -> int:\n",
    "    N = len(arr)\n",
    "    for i in range(N):\n",
    "        if arr[i] > target:\n",
    "            return i\n",
    "    return N\n",
    "\n",
    "upper_bound_linear([3, 5, 8, 15, 19, 19], 15)"
   ]
  },
  {
   "cell_type": "code",
   "execution_count": 8,
   "id": "4606b347",
   "metadata": {
    "execution": {
     "iopub.execute_input": "2024-03-30T12:53:44.476484Z",
     "iopub.status.busy": "2024-03-30T12:53:44.476234Z",
     "iopub.status.idle": "2024-03-30T12:53:44.490491Z",
     "shell.execute_reply": "2024-03-30T12:53:44.489735Z"
    },
    "lines_to_next_cell": 1,
    "papermill": {
     "duration": 0.031607,
     "end_time": "2024-03-30T12:53:44.492229",
     "exception": false,
     "start_time": "2024-03-30T12:53:44.460622",
     "status": "completed"
    },
    "tags": []
   },
   "outputs": [
    {
     "name": "stderr",
     "output_type": "stream",
     "text": [
      "\r",
      "  0%|          | 0/200 [00:00<?, ?it/s]"
     ]
    },
    {
     "name": "stderr",
     "output_type": "stream",
     "text": [
      "\r",
      "100%|██████████| 200/200 [00:00<00:00, 61235.19it/s]"
     ]
    },
    {
     "name": "stderr",
     "output_type": "stream",
     "text": [
      "\n"
     ]
    },
    {
     "name": "stdout",
     "output_type": "stream",
     "text": [
      "0\n",
      "5\n"
     ]
    }
   ],
   "source": [
    "# Binary Search\n",
    "def upper_bound_binary(arr: list[int], target: int) -> int:\n",
    "    N = len(arr)\n",
    "    low, high = 0, N - 1\n",
    "    while low <= high:\n",
    "        mid = (low + high) // 2\n",
    "        if arr[mid] > target and arr[mid - 1] <= target:\n",
    "            return mid\n",
    "        elif arr[mid] <= target:\n",
    "            low = mid + 1\n",
    "        else:\n",
    "            high = mid - 1\n",
    "    else:\n",
    "        return 0 if target < arr[0] else N\n",
    "\n",
    "for i in tqdm.tqdm(range(200)):\n",
    "    temp = random.choices(list(range(100, 200)), k=random.randint(1, 50))\n",
    "    temp.sort()\n",
    "    j = random.randint(95, 205)\n",
    "    assert upper_bound_binary(temp, j) == upper_bound_linear(temp, j), f\"failed for {temp}, {j}\"\n",
    "\n",
    "# Note the difference between the UB / LB\n",
    "print(lower_bound_binary([1, 1, 1, 1, 1], 1))\n",
    "print(upper_bound_binary([1, 1, 1, 1, 1], 1))"
   ]
  },
  {
   "cell_type": "markdown",
   "id": "5e497680",
   "metadata": {
    "papermill": {
     "duration": 0.015145,
     "end_time": "2024-03-30T12:53:44.522704",
     "exception": false,
     "start_time": "2024-03-30T12:53:44.507559",
     "status": "completed"
    },
    "tags": []
   },
   "source": [
    "Much more intutive approach by Striver:\n",
    "Retain a variable ans to N, update this variable when:\n",
    "arr[mid] >= target - Lower bound\n",
    "arr[mid] > target - Upper bound"
   ]
  },
  {
   "cell_type": "code",
   "execution_count": 9,
   "id": "8abcbf56",
   "metadata": {
    "execution": {
     "iopub.execute_input": "2024-03-30T12:53:44.554288Z",
     "iopub.status.busy": "2024-03-30T12:53:44.553966Z",
     "iopub.status.idle": "2024-03-30T12:53:44.561777Z",
     "shell.execute_reply": "2024-03-30T12:53:44.560942Z"
    },
    "lines_to_next_cell": 1,
    "papermill": {
     "duration": 0.025771,
     "end_time": "2024-03-30T12:53:44.563523",
     "exception": false,
     "start_time": "2024-03-30T12:53:44.537752",
     "status": "completed"
    },
    "tags": []
   },
   "outputs": [
    {
     "data": {
      "text/plain": [
       "0"
      ]
     },
     "execution_count": 9,
     "metadata": {},
     "output_type": "execute_result"
    }
   ],
   "source": [
    "# Lower bound Binary (Striver's approach)\n",
    "def lower_bound_striver(arr: list[int], target: int) -> int:\n",
    "    \"Smallest index, greater than or equal to target\"\n",
    "    N = len(arr)\n",
    "    low, high, ans = 0, N - 1, N\n",
    "    while low <= high:\n",
    "        mid = (low + high) // 2\n",
    "        if arr[mid] >= target:\n",
    "            ans = mid\n",
    "            high = mid - 1\n",
    "        else:\n",
    "            low = mid + 1\n",
    "\n",
    "    return ans\n",
    "\n",
    "lower_bound_striver([1, 1, 1, 1], 1)"
   ]
  },
  {
   "cell_type": "code",
   "execution_count": 10,
   "id": "5ab0dd9c",
   "metadata": {
    "execution": {
     "iopub.execute_input": "2024-03-30T12:53:44.595632Z",
     "iopub.status.busy": "2024-03-30T12:53:44.595089Z",
     "iopub.status.idle": "2024-03-30T12:53:44.602554Z",
     "shell.execute_reply": "2024-03-30T12:53:44.601732Z"
    },
    "lines_to_next_cell": 1,
    "papermill": {
     "duration": 0.025339,
     "end_time": "2024-03-30T12:53:44.604250",
     "exception": false,
     "start_time": "2024-03-30T12:53:44.578911",
     "status": "completed"
    },
    "tags": []
   },
   "outputs": [
    {
     "data": {
      "text/plain": [
       "4"
      ]
     },
     "execution_count": 10,
     "metadata": {},
     "output_type": "execute_result"
    }
   ],
   "source": [
    "# Upper bound Binary (Striver's approach)\n",
    "def upper_bound_striver(arr: list[int], target: int) -> int:\n",
    "    \"Smallest index, greater than target\"\n",
    "    N = len(arr)\n",
    "    low, high, ans = 0, N - 1, N\n",
    "    while low <= high:\n",
    "        mid = (low + high) // 2\n",
    "        if arr[mid] > target:\n",
    "            ans = mid\n",
    "            high = mid - 1\n",
    "        else:\n",
    "            low = mid + 1\n",
    "    return ans\n",
    "\n",
    "upper_bound_striver([1, 1, 1, 1], 1)"
   ]
  },
  {
   "cell_type": "markdown",
   "id": "6df8578a",
   "metadata": {
    "papermill": {
     "duration": 0.015343,
     "end_time": "2024-03-30T12:53:44.635311",
     "exception": false,
     "start_time": "2024-03-30T12:53:44.619968",
     "status": "completed"
    },
    "tags": []
   },
   "source": [
    "Search Insert position"
   ]
  },
  {
   "cell_type": "code",
   "execution_count": 11,
   "id": "e5e48474",
   "metadata": {
    "execution": {
     "iopub.execute_input": "2024-03-30T12:53:44.667541Z",
     "iopub.status.busy": "2024-03-30T12:53:44.666897Z",
     "iopub.status.idle": "2024-03-30T12:53:44.672572Z",
     "shell.execute_reply": "2024-03-30T12:53:44.671798Z"
    },
    "lines_to_next_cell": 1,
    "papermill": {
     "duration": 0.023731,
     "end_time": "2024-03-30T12:53:44.674385",
     "exception": false,
     "start_time": "2024-03-30T12:53:44.650654",
     "status": "completed"
    },
    "tags": []
   },
   "outputs": [],
   "source": [
    "def searchInsert(arr: list[int], target: int) -> int:\n",
    "    \"Lower bound - Smallest index, greater than or equal to target\"\n",
    "    N = len(arr)\n",
    "    low, high, ans = 0, N - 1, N\n",
    "    while low <= high:\n",
    "        mid = (low + high) // 2\n",
    "        if arr[mid] >= target:\n",
    "            ans = mid\n",
    "            high = mid - 1\n",
    "        else:\n",
    "            low = mid + 1\n",
    "\n",
    "    return ans"
   ]
  },
  {
   "cell_type": "code",
   "execution_count": 12,
   "id": "d3f82851",
   "metadata": {
    "execution": {
     "iopub.execute_input": "2024-03-30T12:53:44.706395Z",
     "iopub.status.busy": "2024-03-30T12:53:44.706116Z",
     "iopub.status.idle": "2024-03-30T12:53:44.718030Z",
     "shell.execute_reply": "2024-03-30T12:53:44.717221Z"
    },
    "lines_to_next_cell": 1,
    "papermill": {
     "duration": 0.029762,
     "end_time": "2024-03-30T12:53:44.719624",
     "exception": false,
     "start_time": "2024-03-30T12:53:44.689862",
     "status": "completed"
    },
    "tags": []
   },
   "outputs": [
    {
     "data": {
      "text/plain": [
       "(8, 8)"
      ]
     },
     "execution_count": 12,
     "metadata": {},
     "output_type": "execute_result"
    }
   ],
   "source": [
    "# Floor and Ceil of a target from a given array\n",
    "def getFloorAndCeil(arr: list[int], N: int, target: int):\n",
    "    def brute() -> tuple[int, int]:\n",
    "        \"Brute force solution\"\n",
    "        floor = -1\n",
    "        for i in range(N):\n",
    "            if arr[i] > target:\n",
    "                break\n",
    "            else:\n",
    "                floor = arr[i]\n",
    "\n",
    "        ceil = -1\n",
    "        for i in range(N - 1, -1, -1):\n",
    "            if arr[i] < target:\n",
    "                break\n",
    "            else:\n",
    "                ceil = arr[i]\n",
    "\n",
    "        return floor, ceil\n",
    "\n",
    "    def binary() -> tuple[int, int]:\n",
    "        low, high, LB = 0, N - 1, -1\n",
    "        while low <= high:\n",
    "            mid = (low + high) // 2\n",
    "            if arr[mid] <= target:\n",
    "                LB = arr[mid]\n",
    "                low = mid + 1\n",
    "            else:\n",
    "                high = mid - 1\n",
    "\n",
    "        low, high, UB = 0, N - 1, -1\n",
    "        while low <= high:\n",
    "            mid = (low + high) // 2\n",
    "            if arr[mid] >= target:\n",
    "                UB = arr[mid]\n",
    "                high = mid - 1\n",
    "            else:\n",
    "                low = mid + 1\n",
    "\n",
    "        return LB, UB\n",
    "\n",
    "    return binary()\n",
    "\n",
    "# Testing the solution\n",
    "getFloorAndCeil([3, 4, 4, 7, 8, 10], 6, 8)"
   ]
  },
  {
   "cell_type": "markdown",
   "id": "d066d6da",
   "metadata": {
    "papermill": {
     "duration": 0.015633,
     "end_time": "2024-03-30T12:53:44.751045",
     "exception": false,
     "start_time": "2024-03-30T12:53:44.735412",
     "status": "completed"
    },
    "tags": []
   },
   "source": [
    "Video Link: https://www.youtube.com/watch?v=hjR1IYVx9lY&list=PLgUwDviBIf0oF6QL8m22w1hIDC1vJ_BHz&index=47"
   ]
  },
  {
   "cell_type": "code",
   "execution_count": 13,
   "id": "d11d7af8",
   "metadata": {
    "execution": {
     "iopub.execute_input": "2024-03-30T12:53:44.783260Z",
     "iopub.status.busy": "2024-03-30T12:53:44.782966Z",
     "iopub.status.idle": "2024-03-30T12:53:44.793726Z",
     "shell.execute_reply": "2024-03-30T12:53:44.792921Z"
    },
    "lines_to_next_cell": 1,
    "papermill": {
     "duration": 0.028931,
     "end_time": "2024-03-30T12:53:44.795447",
     "exception": false,
     "start_time": "2024-03-30T12:53:44.766516",
     "status": "completed"
    },
    "tags": []
   },
   "outputs": [
    {
     "data": {
      "text/plain": [
       "(-1, -1)"
      ]
     },
     "execution_count": 13,
     "metadata": {},
     "output_type": "execute_result"
    }
   ],
   "source": [
    "# Coding studio link: https://bit.ly/3Mdw2FX\n",
    "def firstAndLastPosition(arr: list[int], N: int, target: int) -> tuple[int, int]:\n",
    "    def findFirst() -> int:\n",
    "        low, high, ans = 0, N - 1, -1\n",
    "        while low <= high:\n",
    "            mid = (low + high) // 2\n",
    "            if arr[mid] >= target:\n",
    "                if arr[mid] == target:\n",
    "                    ans = mid\n",
    "                high = mid - 1\n",
    "            else:\n",
    "                low = mid + 1\n",
    "\n",
    "        return ans\n",
    "\n",
    "    def findLast() -> int:\n",
    "        low, high, ans = 0, N - 1, -1\n",
    "        while low <= high:\n",
    "            mid = (low + high) // 2\n",
    "            if arr[mid] <= target:\n",
    "                if arr[mid] == target:\n",
    "                    ans = mid\n",
    "                low = mid + 1\n",
    "            else:\n",
    "                high = mid - 1\n",
    "\n",
    "        return ans\n",
    "\n",
    "    first = findFirst()\n",
    "    if first == -1: # If not found, don't have to search again\n",
    "        return first, first\n",
    "    else:\n",
    "        return first, findLast()\n",
    "\n",
    "# Testing the solution\n",
    "firstAndLastPosition([1, 2, 3, 3, 3, 4, 5], 7, 9)"
   ]
  },
  {
   "cell_type": "code",
   "execution_count": 14,
   "id": "44578564",
   "metadata": {
    "execution": {
     "iopub.execute_input": "2024-03-30T12:53:44.827903Z",
     "iopub.status.busy": "2024-03-30T12:53:44.827662Z",
     "iopub.status.idle": "2024-03-30T12:53:44.837921Z",
     "shell.execute_reply": "2024-03-30T12:53:44.837151Z"
    },
    "lines_to_next_cell": 1,
    "papermill": {
     "duration": 0.028268,
     "end_time": "2024-03-30T12:53:44.839512",
     "exception": false,
     "start_time": "2024-03-30T12:53:44.811244",
     "status": "completed"
    },
    "tags": []
   },
   "outputs": [
    {
     "data": {
      "text/plain": [
       "0"
      ]
     },
     "execution_count": 14,
     "metadata": {},
     "output_type": "execute_result"
    }
   ],
   "source": [
    "# Coding Studio link: https://bit.ly/42ZDqM4\n",
    "def count_occurances(arr: list[int], N: int, target: int) -> int:\n",
    "    def findFirst() -> int:\n",
    "        low, high, ans = 0, N - 1, -1\n",
    "        while low <= high:\n",
    "            mid = (low + high) // 2\n",
    "            if arr[mid] >= target:\n",
    "                if arr[mid] == target:\n",
    "                    ans = mid\n",
    "                high = mid - 1\n",
    "            else:\n",
    "                low = mid + 1\n",
    "\n",
    "        return ans\n",
    "\n",
    "    def findLast() -> int:\n",
    "        low, high, ans = 0, N - 1, -1\n",
    "        while low <= high:\n",
    "            mid = (low + high) // 2\n",
    "            if arr[mid] <= target:\n",
    "                if arr[mid] == target:\n",
    "                    ans = mid\n",
    "                low = mid + 1\n",
    "            else:\n",
    "                high = mid - 1\n",
    "\n",
    "        return ans\n",
    "\n",
    "    firstIdx = findFirst()\n",
    "    if firstIdx == -1:\n",
    "        return 0\n",
    "    else:\n",
    "        return findLast() - firstIdx + 1\n",
    "\n",
    "# Testing the solution\n",
    "count_occurances([1, 2, 2, 3, 4, 4, 4, 5, 6], 9, 9)"
   ]
  },
  {
   "cell_type": "markdown",
   "id": "7ae08467",
   "metadata": {
    "papermill": {
     "duration": 0.015793,
     "end_time": "2024-03-30T12:53:44.871337",
     "exception": false,
     "start_time": "2024-03-30T12:53:44.855544",
     "status": "completed"
    },
    "tags": []
   },
   "source": [
    "Video Link: https://www.youtube.com/watch?v=5qGrJbHhqFs&list=PLgUwDviBIf0oF6QL8m22w1hIDC1vJ_BHz&index=48\n",
    "Search in a rotated sorted array: https://leetcode.com/problems/search-in-rotated-sorted-array/"
   ]
  },
  {
   "cell_type": "code",
   "execution_count": 15,
   "id": "07fd3a6e",
   "metadata": {
    "execution": {
     "iopub.execute_input": "2024-03-30T12:53:44.904779Z",
     "iopub.status.busy": "2024-03-30T12:53:44.904161Z",
     "iopub.status.idle": "2024-03-30T12:53:44.913406Z",
     "shell.execute_reply": "2024-03-30T12:53:44.912662Z"
    },
    "lines_to_next_cell": 1,
    "papermill": {
     "duration": 0.027972,
     "end_time": "2024-03-30T12:53:44.915143",
     "exception": false,
     "start_time": "2024-03-30T12:53:44.887171",
     "status": "completed"
    },
    "tags": []
   },
   "outputs": [
    {
     "data": {
      "text/plain": [
       "8"
      ]
     },
     "execution_count": 15,
     "metadata": {},
     "output_type": "execute_result"
    }
   ],
   "source": [
    "def search_rotated_sorted1(arr: list[int], target: int) -> int:\n",
    "    N = len(arr)\n",
    "    low, high = 0, N - 1\n",
    "    while low <= high:\n",
    "        mid = (low + high) // 2\n",
    "        if arr[mid] == target:\n",
    "            return mid\n",
    "\n",
    "        # Left half is sorted\n",
    "        elif arr[low] <= arr[mid]:\n",
    "            # Element can be found in the left half\n",
    "            if arr[low] <= target <= arr[mid]:\n",
    "                high = mid - 1\n",
    "            else:\n",
    "                low = mid + 1\n",
    "\n",
    "        # Right half is sorted\n",
    "        else:\n",
    "            # Element can be found in the right half\n",
    "            if arr[mid] <= target <= arr[high]:\n",
    "                low = mid + 1\n",
    "            else:\n",
    "                high = mid - 1\n",
    "    else:\n",
    "        return -1\n",
    "\n",
    "search_rotated_sorted1([7, 8, 9, 1, 2, 3, 4, 5, 6], 6)"
   ]
  },
  {
   "cell_type": "markdown",
   "id": "fd5e97f9",
   "metadata": {
    "papermill": {
     "duration": 0.015761,
     "end_time": "2024-03-30T12:53:44.946907",
     "exception": false,
     "start_time": "2024-03-30T12:53:44.931146",
     "status": "completed"
    },
    "tags": []
   },
   "source": [
    "Video Link: https://www.youtube.com/watch?v=w2G2W8l__pc&list=PLgUwDviBIf0oF6QL8m22w1hIDC1vJ_BHz&index=49\n",
    "Search in rotated sorted arrays (with duplicates)\n",
    "Leetcode link: https://leetcode.com/problems/search-in-rotated-sorted-array-ii/submissions/1210474431/"
   ]
  },
  {
   "cell_type": "code",
   "execution_count": 16,
   "id": "310f82f5",
   "metadata": {
    "execution": {
     "iopub.execute_input": "2024-03-30T12:53:44.980527Z",
     "iopub.status.busy": "2024-03-30T12:53:44.979910Z",
     "iopub.status.idle": "2024-03-30T12:53:44.989907Z",
     "shell.execute_reply": "2024-03-30T12:53:44.989199Z"
    },
    "lines_to_next_cell": 1,
    "papermill": {
     "duration": 0.028602,
     "end_time": "2024-03-30T12:53:44.991558",
     "exception": false,
     "start_time": "2024-03-30T12:53:44.962956",
     "status": "completed"
    },
    "tags": []
   },
   "outputs": [
    {
     "data": {
      "text/plain": [
       "True"
      ]
     },
     "execution_count": 16,
     "metadata": {},
     "output_type": "execute_result"
    }
   ],
   "source": [
    "# Time complexity: O(n / 2)\n",
    "# If there are a lot of duplicates we might need to need to trim the left/right\n",
    "# repeatedly until arr[left] != arr[mid] != arr[right]\n",
    "def search_rotated_sorted2(arr: list[int], target: int) -> bool:\n",
    "    N = len(arr)\n",
    "    low, high = 0, N - 1\n",
    "    while low <= high:\n",
    "        mid = (low + high) // 2\n",
    "        if arr[mid] == target:\n",
    "            return True\n",
    "\n",
    "        # Special Case - [3, 1, 2, 3, 3, 3, 3, 3], eliminating left or right is not possible\n",
    "        elif arr[low] == arr[mid] == arr[high]:\n",
    "            low, high = low + 1, high - 1\n",
    "\n",
    "        # Left half is sorted\n",
    "        elif arr[low] <= arr[mid]:\n",
    "            # Element can be found in the left half\n",
    "            if arr[low] <= target <= arr[mid]:\n",
    "                high = mid - 1\n",
    "            else:\n",
    "                low = mid + 1\n",
    "\n",
    "        # Right half is sorted\n",
    "        else:\n",
    "            # Element can be found in the right half\n",
    "            if arr[mid] <= target <= arr[high]:\n",
    "                low = mid + 1\n",
    "            else:\n",
    "                high = mid - 1\n",
    "    else:\n",
    "        return False\n",
    "\n",
    "search_rotated_sorted2([3, 1, 2, 3, 3, 3, 3], 1)"
   ]
  },
  {
   "cell_type": "markdown",
   "id": "6657c71c",
   "metadata": {
    "papermill": {
     "duration": 0.016033,
     "end_time": "2024-03-30T12:53:45.023856",
     "exception": false,
     "start_time": "2024-03-30T12:53:45.007823",
     "status": "completed"
    },
    "tags": []
   },
   "source": [
    "Video Link: https://www.youtube.com/watch?v=nhEMDKMB44g&list=PLgUwDviBIf0oF6QL8m22w1hIDC1vJ_BHz&index=50\n",
    "Leetcode: https://leetcode.com/problems/find-minimum-in-rotated-sorted-array/submissions/1210490796"
   ]
  },
  {
   "cell_type": "code",
   "execution_count": 17,
   "id": "b50d9ac8",
   "metadata": {
    "execution": {
     "iopub.execute_input": "2024-03-30T12:53:45.057749Z",
     "iopub.status.busy": "2024-03-30T12:53:45.057090Z",
     "iopub.status.idle": "2024-03-30T12:53:45.064909Z",
     "shell.execute_reply": "2024-03-30T12:53:45.064153Z"
    },
    "papermill": {
     "duration": 0.02663,
     "end_time": "2024-03-30T12:53:45.066622",
     "exception": false,
     "start_time": "2024-03-30T12:53:45.039992",
     "status": "completed"
    },
    "tags": []
   },
   "outputs": [],
   "source": [
    "class Solution:\n",
    "    def findMin(self, nums: list[int]) -> int:\n",
    "        N = len(nums)\n",
    "        low, high, ans = 0, N - 1, nums[0]\n",
    "        while low <= high:\n",
    "            mid = (low + high) // 2\n",
    "            # Left half and right half is sorted (happens when we have crossed the pivot point or if the array was rotated 0 times)\n",
    "            if nums[low] < nums[mid] < nums[high]:\n",
    "                ans = min(ans, nums[low])\n",
    "                low, high = mid + 1, mid - 1\n",
    "\n",
    "            # Left half is sorted, take the min from left half and trim search space to the right half\n",
    "            elif nums[low] <= nums[mid]:\n",
    "                ans = min(ans, nums[low])\n",
    "                low = mid + 1\n",
    "\n",
    "            # Right half is sorted, take the min from the right half and trim search space to the left half\n",
    "            else:\n",
    "                ans = min(ans, nums[mid])\n",
    "                high = mid - 1\n",
    "\n",
    "        return ans\n",
    "\n",
    "# Testing the solution\n",
    "assert Solution().findMin([3,4,5,1,2]) == 1\n",
    "assert Solution().findMin([4,5,6,7,0,1,2]) == 0\n",
    "assert Solution().findMin([11,13,15,17]) == 11"
   ]
  },
  {
   "cell_type": "markdown",
   "id": "c2e4d69a",
   "metadata": {
    "papermill": {
     "duration": 0.016151,
     "end_time": "2024-03-30T12:53:45.099173",
     "exception": false,
     "start_time": "2024-03-30T12:53:45.083022",
     "status": "completed"
    },
    "tags": []
   },
   "source": [
    "Video Link: https://www.youtube.com/watch?v=jtSiWTPLwd0&list=PLgUwDviBIf0oF6QL8m22w1hIDC1vJ_BHz&index=51\n",
    "Count number of times an array has been rotated"
   ]
  },
  {
   "cell_type": "code",
   "execution_count": 18,
   "id": "f854c012",
   "metadata": {
    "execution": {
     "iopub.execute_input": "2024-03-30T12:53:45.132971Z",
     "iopub.status.busy": "2024-03-30T12:53:45.132262Z",
     "iopub.status.idle": "2024-03-30T12:53:45.139976Z",
     "shell.execute_reply": "2024-03-30T12:53:45.139339Z"
    },
    "papermill": {
     "duration": 0.026425,
     "end_time": "2024-03-30T12:53:45.141645",
     "exception": false,
     "start_time": "2024-03-30T12:53:45.115220",
     "status": "completed"
    },
    "tags": []
   },
   "outputs": [
    {
     "data": {
      "text/plain": [
       "4"
      ]
     },
     "execution_count": 18,
     "metadata": {},
     "output_type": "execute_result"
    }
   ],
   "source": [
    "arr = [2, 3, 4, 5, 1]\n",
    "N = len(arr)\n",
    "low, high, ans = 0, N - 1, 0\n",
    "while low <= high:\n",
    "    mid = (low + high) // 2\n",
    "    if arr[low] <= arr[mid]:\n",
    "        if arr[ans] > arr[low]:\n",
    "            ans = low\n",
    "        low = mid + 1\n",
    "    else:\n",
    "        if arr[ans] > arr[mid]:\n",
    "            ans = mid\n",
    "        high = mid - 1\n",
    "\n",
    "ans"
   ]
  },
  {
   "cell_type": "markdown",
   "id": "5769e9e8",
   "metadata": {
    "papermill": {
     "duration": 0.034952,
     "end_time": "2024-03-30T12:53:45.192848",
     "exception": false,
     "start_time": "2024-03-30T12:53:45.157896",
     "status": "completed"
    },
    "tags": []
   },
   "source": [
    "Video Link: https://www.youtube.com/watch?v=AZOmHuHadxQ&list=PLgUwDviBIf0oF6QL8m22w1hIDC1vJ_BHz&index=52\n",
    "Leetcode link: https://leetcode.com/problems/single-element-in-a-sorted-array/submissions/1211393503"
   ]
  },
  {
   "cell_type": "code",
   "execution_count": 19,
   "id": "1abaf5dd",
   "metadata": {
    "execution": {
     "iopub.execute_input": "2024-03-30T12:53:45.227662Z",
     "iopub.status.busy": "2024-03-30T12:53:45.226933Z",
     "iopub.status.idle": "2024-03-30T12:53:45.233308Z",
     "shell.execute_reply": "2024-03-30T12:53:45.232579Z"
    },
    "papermill": {
     "duration": 0.025884,
     "end_time": "2024-03-30T12:53:45.235059",
     "exception": false,
     "start_time": "2024-03-30T12:53:45.209175",
     "status": "completed"
    },
    "tags": []
   },
   "outputs": [
    {
     "data": {
      "text/plain": [
       "4"
      ]
     },
     "execution_count": 19,
     "metadata": {},
     "output_type": "execute_result"
    }
   ],
   "source": [
    "# Brute force approach\n",
    "# Time - O(N)\n",
    "arr = [1, 1, 2, 2, 3, 3, 4, 5, 5, 6, 6]\n",
    "res = 0\n",
    "for i in arr:\n",
    "    res ^= i\n",
    "res"
   ]
  },
  {
   "cell_type": "code",
   "execution_count": 20,
   "id": "69d77039",
   "metadata": {
    "execution": {
     "iopub.execute_input": "2024-03-30T12:53:45.269007Z",
     "iopub.status.busy": "2024-03-30T12:53:45.268284Z",
     "iopub.status.idle": "2024-03-30T12:53:45.276989Z",
     "shell.execute_reply": "2024-03-30T12:53:45.276297Z"
    },
    "lines_to_next_cell": 1,
    "papermill": {
     "duration": 0.027317,
     "end_time": "2024-03-30T12:53:45.278689",
     "exception": false,
     "start_time": "2024-03-30T12:53:45.251372",
     "status": "completed"
    },
    "tags": []
   },
   "outputs": [
    {
     "data": {
      "text/plain": [
       "4"
      ]
     },
     "execution_count": 20,
     "metadata": {},
     "output_type": "execute_result"
    }
   ],
   "source": [
    "# Better approach: O(log N)\n",
    "\"\"\"\n",
    "[1, 2, 2]\n",
    "[1, 1, 2]\n",
    "[1, 2, 2, 3, 3]\n",
    "[1, 1, 2, 3, 3]\n",
    "[1, 1, 2, 2, 3]\n",
    "[1, 2, 2, 3, 3, 4, 4]\n",
    "[1, 1, 2, 3, 3, 4, 4]\n",
    "[1, 1, 2, 2, 3, 4, 4]\n",
    "[1, 1, 2, 2, 3, 3, 4]\n",
    "# if mid is odd, mid - 1, mid should be same for left to be okay: low = mid + 1 / high = mid + 1\n",
    "# if mid is even, mid, mid + 1 should be the same for left to be okay: low = mid / high = mid\n",
    "\"\"\"\n",
    "arr = [1, 1, 2, 2, 3, 3, 4, 5, 5, 6, 6]\n",
    "N = len(arr)\n",
    "low, high = 0, N - 1\n",
    "while low < high:\n",
    "    mid = (low + high) // 2\n",
    "    if mid % 2 == 0:\n",
    "        if arr[mid] == arr[mid + 1]:\n",
    "            low = mid\n",
    "        else:\n",
    "            high = mid\n",
    "    else:\n",
    "        if arr[mid] == arr[mid - 1]:\n",
    "            low = mid + 1\n",
    "        else:\n",
    "            high = mid - 1\n",
    "\n",
    "arr[low]"
   ]
  },
  {
   "cell_type": "markdown",
   "id": "1879fb32",
   "metadata": {
    "papermill": {
     "duration": 0.016603,
     "end_time": "2024-03-30T12:53:45.312026",
     "exception": false,
     "start_time": "2024-03-30T12:53:45.295423",
     "status": "completed"
    },
    "tags": []
   },
   "source": [
    "Video Link: https://www.youtube.com/watch?v=cXxmbemS6XM&list=PLgUwDviBIf0oF6QL8m22w1hIDC1vJ_BHz&index=53\n",
    "Find Peak element"
   ]
  },
  {
   "cell_type": "code",
   "execution_count": 21,
   "id": "7126b9cc",
   "metadata": {
    "execution": {
     "iopub.execute_input": "2024-03-30T12:53:45.347250Z",
     "iopub.status.busy": "2024-03-30T12:53:45.346698Z",
     "iopub.status.idle": "2024-03-30T12:53:45.353728Z",
     "shell.execute_reply": "2024-03-30T12:53:45.352936Z"
    },
    "lines_to_next_cell": 1,
    "papermill": {
     "duration": 0.026785,
     "end_time": "2024-03-30T12:53:45.355565",
     "exception": false,
     "start_time": "2024-03-30T12:53:45.328780",
     "status": "completed"
    },
    "tags": []
   },
   "outputs": [],
   "source": [
    "def findPeakElement(arr: [int]) -> int:\n",
    "    N = len(arr)\n",
    "    low, high = 0, N - 1\n",
    "    while low <= high:\n",
    "        mid = (low + high) // 2\n",
    "        l, m, r = arr[mid - 1] if mid > 0 else -math.inf, arr[mid], arr[mid + 1] if mid < N - 1 else -math.inf\n",
    "        if l <  m > r:\n",
    "            return mid\n",
    "        elif l < m < r:\n",
    "            low = mid + 1\n",
    "        # handles both cases - l > m > r and l > m < r\n",
    "        # If the case is l > m < r, multiple peak exists, going any dir we would be able to reach a peak\n",
    "        else:\n",
    "            high = mid - 1\n",
    "    return -1\n",
    "\n",
    "# Testing the solution\n",
    "assert findPeakElement([1, 2, 3, 1]) == 2\n",
    "assert findPeakElement([1,2,1,3,5,6,4]) == 5"
   ]
  },
  {
   "cell_type": "markdown",
   "id": "399ae8e1",
   "metadata": {
    "papermill": {
     "duration": 0.016693,
     "end_time": "2024-03-30T12:53:45.389228",
     "exception": false,
     "start_time": "2024-03-30T12:53:45.372535",
     "status": "completed"
    },
    "tags": []
   },
   "source": [
    "Video Link: https://www.youtube.com/watch?v=Bsv3FPUX_BA&list=PLgUwDviBIf0oF6QL8m22w1hIDC1vJ_BHz&index=54\n",
    "Square root of a number using binary search\n",
    "Take home:\n",
    "\n",
    "1. For questions involving patterns where ans is possible uptil a certain extent and post which answers are not possible, we can apply our binary search algorithm (we always know the range of possible answers)\n",
    "2. When we are having regions of possible and not possible like so: [ans, ans, ans, not ans, not ans] - at the end of binary search, low will end up pointing at a position that is 1 greater than the ans (3) while high will end up pointing at the ans (2)"
   ]
  },
  {
   "cell_type": "code",
   "execution_count": 22,
   "id": "64144c7a",
   "metadata": {
    "execution": {
     "iopub.execute_input": "2024-03-30T12:53:45.424600Z",
     "iopub.status.busy": "2024-03-30T12:53:45.423945Z",
     "iopub.status.idle": "2024-03-30T12:53:45.462009Z",
     "shell.execute_reply": "2024-03-30T12:53:45.461220Z"
    },
    "lines_to_next_cell": 1,
    "papermill": {
     "duration": 0.057806,
     "end_time": "2024-03-30T12:53:45.463639",
     "exception": false,
     "start_time": "2024-03-30T12:53:45.405833",
     "status": "completed"
    },
    "tags": []
   },
   "outputs": [
    {
     "name": "stderr",
     "output_type": "stream",
     "text": [
      "\r",
      "  0%|          | 0/10000 [00:00<?, ?it/s]"
     ]
    },
    {
     "name": "stderr",
     "output_type": "stream",
     "text": [
      "\r",
      "100%|██████████| 10000/10000 [00:00<00:00, 335088.60it/s]"
     ]
    },
    {
     "name": "stderr",
     "output_type": "stream",
     "text": [
      "\n"
     ]
    }
   ],
   "source": [
    "def floorSqrt(n: int) -> int:\n",
    "    'Time - O(log n)'\n",
    "    low, high = 1, n\n",
    "    while low <= high:\n",
    "        mid = (low + high) // 2\n",
    "        if mid * mid > n:\n",
    "            high = mid - 1\n",
    "        else:\n",
    "            low = mid + 1\n",
    "\n",
    "    return high\n",
    "\n",
    "# Testing the solution\n",
    "for i in tqdm.tqdm(range(int(1e4))):\n",
    "    assert floorSqrt(i) == int(math.sqrt(i))"
   ]
  },
  {
   "cell_type": "markdown",
   "id": "21ab1eeb",
   "metadata": {
    "papermill": {
     "duration": 0.016776,
     "end_time": "2024-03-30T12:53:45.497708",
     "exception": false,
     "start_time": "2024-03-30T12:53:45.480932",
     "status": "completed"
    },
    "tags": []
   },
   "source": [
    "Video Link: https://www.youtube.com/watch?v=rjEJeYCasHs&list=PLgUwDviBIf0oF6QL8m22w1hIDC1vJ_BHz&index=55\n",
    "Find Nth root of an integer"
   ]
  },
  {
   "cell_type": "code",
   "execution_count": 23,
   "id": "8e8ba6e9",
   "metadata": {
    "execution": {
     "iopub.execute_input": "2024-03-30T12:53:45.532662Z",
     "iopub.status.busy": "2024-03-30T12:53:45.532020Z",
     "iopub.status.idle": "2024-03-30T12:53:45.537545Z",
     "shell.execute_reply": "2024-03-30T12:53:45.536891Z"
    },
    "lines_to_next_cell": 1,
    "papermill": {
     "duration": 0.024793,
     "end_time": "2024-03-30T12:53:45.539230",
     "exception": false,
     "start_time": "2024-03-30T12:53:45.514437",
     "status": "completed"
    },
    "tags": []
   },
   "outputs": [],
   "source": [
    "# Brute force\n",
    "def NthRoot_brute(n: int, m: int) -> int:\n",
    "    \"Brute force - O(m * n)\"\n",
    "    for i in range(m):\n",
    "        curr = 1\n",
    "        for _ in range(n):\n",
    "            curr *= i\n",
    "            if curr > m:\n",
    "                break\n",
    "        if curr == m:\n",
    "            return i\n",
    "        elif curr > m:\n",
    "            break\n",
    "    return -1\n",
    "\n",
    "# Testing the solution\n",
    "assert NthRoot_brute(3, 27) == 3\n",
    "assert NthRoot_brute(4, 69) == -1"
   ]
  },
  {
   "cell_type": "code",
   "execution_count": 24,
   "id": "accd0d1c",
   "metadata": {
    "execution": {
     "iopub.execute_input": "2024-03-30T12:53:45.574041Z",
     "iopub.status.busy": "2024-03-30T12:53:45.573471Z",
     "iopub.status.idle": "2024-03-30T12:53:45.579514Z",
     "shell.execute_reply": "2024-03-30T12:53:45.578747Z"
    },
    "lines_to_next_cell": 1,
    "papermill": {
     "duration": 0.025246,
     "end_time": "2024-03-30T12:53:45.581196",
     "exception": false,
     "start_time": "2024-03-30T12:53:45.555950",
     "status": "completed"
    },
    "tags": []
   },
   "outputs": [],
   "source": [
    "# Optimal - Binary Search\n",
    "def NthRoot_binary(n: int, m: int) -> int:\n",
    "    \"Using binary search - O(log m * n)\"\n",
    "    low, high = 0, m\n",
    "    while low <= high:\n",
    "        mid = (low + high) // 2\n",
    "\n",
    "        curr = 1\n",
    "        for _ in range(n):\n",
    "            curr *= mid\n",
    "            if curr > m:\n",
    "                break\n",
    "\n",
    "        if curr == m:\n",
    "            return mid\n",
    "        elif curr < m:\n",
    "            low = mid + 1\n",
    "        else:\n",
    "            high = mid - 1\n",
    "\n",
    "    return -1\n",
    "\n",
    "# Testing the solution\n",
    "assert NthRoot_binary(3, 27) == 3\n",
    "assert NthRoot_binary(4, 69) == -1"
   ]
  },
  {
   "cell_type": "markdown",
   "id": "201c8d96",
   "metadata": {
    "papermill": {
     "duration": 0.016759,
     "end_time": "2024-03-30T12:53:45.615068",
     "exception": false,
     "start_time": "2024-03-30T12:53:45.598309",
     "status": "completed"
    },
    "tags": []
   },
   "source": [
    "Video link: https://youtu.be/qyfekrNni90?si=N28mkp8Cyx4lvNIq  \n",
    "Problem: Koko eating bananas"
   ]
  },
  {
   "cell_type": "code",
   "execution_count": 25,
   "id": "24fcadf8",
   "metadata": {
    "execution": {
     "iopub.execute_input": "2024-03-30T12:53:45.650616Z",
     "iopub.status.busy": "2024-03-30T12:53:45.649904Z",
     "iopub.status.idle": "2024-03-30T12:53:45.655580Z",
     "shell.execute_reply": "2024-03-30T12:53:45.654941Z"
    },
    "lines_to_next_cell": 1,
    "papermill": {
     "duration": 0.025338,
     "end_time": "2024-03-30T12:53:45.657229",
     "exception": false,
     "start_time": "2024-03-30T12:53:45.631891",
     "status": "completed"
    },
    "tags": []
   },
   "outputs": [],
   "source": [
    "# Brute force solution: O(v * h)\n",
    "def minimumRateToEatBananas_brute(v: list[int], h: int) -> int:\n",
    "    m, min_hours = 0, sum(v)\n",
    "    while min_hours > h:\n",
    "        m += 1\n",
    "        min_hours = 0\n",
    "        for p in v:\n",
    "            min_hours += math.ceil(p / m)\n",
    "\n",
    "    return m\n",
    "\n",
    "# Testing the solution\n",
    "assert minimumRateToEatBananas_brute([7, 15, 6, 3], 8) == 5\n",
    "assert minimumRateToEatBananas_brute([25, 12, 8, 14, 19], 5) == 25"
   ]
  },
  {
   "cell_type": "code",
   "execution_count": 26,
   "id": "77605b2a",
   "metadata": {
    "execution": {
     "iopub.execute_input": "2024-03-30T12:53:45.692502Z",
     "iopub.status.busy": "2024-03-30T12:53:45.691902Z",
     "iopub.status.idle": "2024-03-30T12:53:45.699399Z",
     "shell.execute_reply": "2024-03-30T12:53:45.698653Z"
    },
    "lines_to_next_cell": 1,
    "papermill": {
     "duration": 0.026844,
     "end_time": "2024-03-30T12:53:45.701050",
     "exception": false,
     "start_time": "2024-03-30T12:53:45.674206",
     "status": "completed"
    },
    "tags": []
   },
   "outputs": [],
   "source": [
    "# Better solution\n",
    "def minimumRateToEatBananas_better(v: list[int], h: int) -> int:\n",
    "    def compute_hours(m: int) -> int:\n",
    "        \"Assumes piles is sorted in asc order\"\n",
    "        V = N # Copy N for modification\n",
    "        hours = 0\n",
    "        while v[V - 1] > m and V > 0:\n",
    "            hours += math.ceil(v[V - 1] / m)\n",
    "            V -= 1\n",
    "\n",
    "        return hours + V\n",
    "\n",
    "    N = len(v)\n",
    "\n",
    "    # Time: O(v log v)\n",
    "    v.sort()\n",
    "\n",
    "    # Binary search\n",
    "    low, high = 1, v[-1]\n",
    "    while low <= high:\n",
    "        mid = (low + high) // 2\n",
    "        curr = compute_hours(mid)\n",
    "        if curr > h:\n",
    "            low = mid + 1\n",
    "        else:\n",
    "            high = mid - 1\n",
    "\n",
    "    return low\n",
    "\n",
    "# Testing the solution\n",
    "assert minimumRateToEatBananas_better([9], 2) == 5\n",
    "assert minimumRateToEatBananas_better([7, 15, 6, 3], 8) == 5\n",
    "assert minimumRateToEatBananas_better([25, 12, 8, 14, 19], 5) == 25"
   ]
  },
  {
   "cell_type": "markdown",
   "id": "81512acb",
   "metadata": {
    "papermill": {
     "duration": 0.016815,
     "end_time": "2024-03-30T12:53:45.734782",
     "exception": false,
     "start_time": "2024-03-30T12:53:45.717967",
     "status": "completed"
    },
    "tags": []
   },
   "source": [
    "Video Link: https://www.youtube.com/watch?v=TXAuxeYBTdg&list=PLgUwDviBIf0oF6QL8m22w1hIDC1vJ_BHz&index=57\n",
    "Minimum days to make M boquets"
   ]
  },
  {
   "cell_type": "code",
   "execution_count": 27,
   "id": "76ca4e35",
   "metadata": {
    "execution": {
     "iopub.execute_input": "2024-03-30T12:53:45.769633Z",
     "iopub.status.busy": "2024-03-30T12:53:45.769085Z",
     "iopub.status.idle": "2024-03-30T12:53:45.778661Z",
     "shell.execute_reply": "2024-03-30T12:53:45.777869Z"
    },
    "lines_to_next_cell": 1,
    "papermill": {
     "duration": 0.028967,
     "end_time": "2024-03-30T12:53:45.780347",
     "exception": false,
     "start_time": "2024-03-30T12:53:45.751380",
     "status": "completed"
    },
    "tags": []
   },
   "outputs": [],
   "source": [
    "# Solution link: https://leetcode.com/problems/minimum-number-of-days-to-make-m-bouquets/submissions/1213963810\n",
    "class Solution:\n",
    "    def minDays(self, bloomDay: list[int], m: int, k: int) -> int:\n",
    "        def countBoquets(day: int) -> int:\n",
    "            \"Count boquets in O(N) time\"\n",
    "            flower_count, boquet_count = 0, 0\n",
    "            for i in range(N):\n",
    "                if bloomDay[i] <= day:\n",
    "                    flower_count += 1\n",
    "                else:\n",
    "                    flower_count = 0\n",
    "\n",
    "                if flower_count == k:\n",
    "                    boquet_count += 1\n",
    "                    flower_count = 0\n",
    "\n",
    "            return boquet_count\n",
    "\n",
    "        N = len(bloomDay)\n",
    "\n",
    "        answer_range = sorted(set(bloomDay))\n",
    "        answer_range_length = len(answer_range)\n",
    "        low, high = 0, answer_range_length - 1\n",
    "        while low <= high:\n",
    "            mid = (low + high) // 2\n",
    "            boquet_count = countBoquets(answer_range[mid])\n",
    "            if boquet_count >= m:\n",
    "                high = mid - 1\n",
    "            else:\n",
    "                low = mid + 1\n",
    "\n",
    "        return answer_range[low] if low < answer_range_length else -1\n",
    "\n",
    "# Testing the solution\n",
    "assert Solution().minDays([1,10,3,10,2], 3, 1) == 3\n",
    "assert Solution().minDays([1,10,3,10,2], 3, 2) == -1\n",
    "assert Solution().minDays([7,7,7,7,12,7,7], 2, 3) == 12"
   ]
  },
  {
   "cell_type": "markdown",
   "id": "03f3ffa2",
   "metadata": {
    "papermill": {
     "duration": 0.016654,
     "end_time": "2024-03-30T12:53:45.813749",
     "exception": false,
     "start_time": "2024-03-30T12:53:45.797095",
     "status": "completed"
    },
    "tags": []
   },
   "source": [
    "Video Link: https://www.youtube.com/watch?v=UvBKTVaG6U8&list=PLgUwDviBIf0oF6QL8m22w1hIDC1vJ_BHz&index=58\n",
    "Smallest divisor given the threshold"
   ]
  },
  {
   "cell_type": "code",
   "execution_count": 28,
   "id": "fbac3ba5",
   "metadata": {
    "execution": {
     "iopub.execute_input": "2024-03-30T12:53:45.848759Z",
     "iopub.status.busy": "2024-03-30T12:53:45.848140Z",
     "iopub.status.idle": "2024-03-30T12:53:45.855424Z",
     "shell.execute_reply": "2024-03-30T12:53:45.854668Z"
    },
    "lines_to_next_cell": 1,
    "papermill": {
     "duration": 0.02661,
     "end_time": "2024-03-30T12:53:45.857096",
     "exception": false,
     "start_time": "2024-03-30T12:53:45.830486",
     "status": "completed"
    },
    "tags": []
   },
   "outputs": [],
   "source": [
    "# Solution Link: https://leetcode.com/problems/find-the-smallest-divisor-given-a-threshold/submissions/1213975584\n",
    "class Solution:\n",
    "    def smallestDivisor(self, nums: list[int], threshold: int) -> int:\n",
    "        def calcThresh(divisor: int) -> int:\n",
    "            thresh = 0\n",
    "            for n in nums:\n",
    "                thresh += math.ceil(n / divisor)\n",
    "            return thresh\n",
    "\n",
    "        N = len(nums)\n",
    "        low, high = 1, max(nums)\n",
    "        while low <= high:\n",
    "            mid = (low + high) // 2\n",
    "            if calcThresh(mid) <= threshold:\n",
    "                high = mid - 1\n",
    "            else:\n",
    "                low = mid + 1\n",
    "\n",
    "        return low\n",
    "\n",
    "# Testing the solution\n",
    "assert Solution().smallestDivisor([1,2,5,9], 6) == 5\n",
    "assert Solution().smallestDivisor([44,22,33,11,1], 5) == 44\n",
    "assert Solution().smallestDivisor([21212,10101,12121], 1000000) == 1"
   ]
  },
  {
   "cell_type": "markdown",
   "id": "01e65497",
   "metadata": {
    "papermill": {
     "duration": 0.016577,
     "end_time": "2024-03-30T12:53:45.890464",
     "exception": false,
     "start_time": "2024-03-30T12:53:45.873887",
     "status": "completed"
    },
    "tags": []
   },
   "source": [
    "Video Link: https://www.youtube.com/watch?v=MG-Ac4TAvTY&list=PLgUwDviBIf0oF6QL8m22w1hIDC1vJ_BHz&index=59\n",
    "Capacity to ship packages in D Days"
   ]
  },
  {
   "cell_type": "code",
   "execution_count": 29,
   "id": "48336458",
   "metadata": {
    "execution": {
     "iopub.execute_input": "2024-03-30T12:53:45.925359Z",
     "iopub.status.busy": "2024-03-30T12:53:45.924590Z",
     "iopub.status.idle": "2024-03-30T12:53:45.932978Z",
     "shell.execute_reply": "2024-03-30T12:53:45.932353Z"
    },
    "lines_to_next_cell": 1,
    "papermill": {
     "duration": 0.027659,
     "end_time": "2024-03-30T12:53:45.934692",
     "exception": false,
     "start_time": "2024-03-30T12:53:45.907033",
     "status": "completed"
    },
    "tags": []
   },
   "outputs": [],
   "source": [
    "# Problem link: https://leetcode.com/problems/capacity-to-ship-packages-within-d-days/submissions/1214006136\n",
    "class Solution:\n",
    "    def shipWithinDays(self, weights: list[int], days: int) -> int:\n",
    "        def countDays(capacity: int) -> int:\n",
    "            day_count = 0\n",
    "            weight = 0\n",
    "            for w in weights:\n",
    "                if weight + w <= capacity:\n",
    "                    weight += w\n",
    "                else:\n",
    "                    day_count += 1\n",
    "                    weight = w\n",
    "\n",
    "            return day_count + 1\n",
    "\n",
    "        # Sort the weights\n",
    "        N = len(weights)\n",
    "\n",
    "        # Min, max possibile answer - Binary search\n",
    "        low, high = max(weights), sum(weights)\n",
    "        while low <= high:\n",
    "            mid = (low + high) // 2\n",
    "            day_count = countDays(mid)\n",
    "            if day_count <= days:\n",
    "                high = mid - 1\n",
    "            else:\n",
    "                low = mid + 1\n",
    "\n",
    "        return low\n",
    "\n",
    "# Testing the solution\n",
    "assert Solution().shipWithinDays([1,2,3,4,5,6,7,8,9,10], 5) == 15\n",
    "assert Solution().shipWithinDays([3,2,2,4,1,4], 3) == 6\n",
    "assert Solution().shipWithinDays([1,2,3,1,1], 4) == 3"
   ]
  },
  {
   "cell_type": "markdown",
   "id": "0a0d2642",
   "metadata": {
    "papermill": {
     "duration": 0.016769,
     "end_time": "2024-03-30T12:53:45.968452",
     "exception": false,
     "start_time": "2024-03-30T12:53:45.951683",
     "status": "completed"
    },
    "tags": []
   },
   "source": [
    "Video Link: https://www.youtube.com/watch?v=uZ0N_hZpyps&list=PLgUwDviBIf0oF6QL8m22w1hIDC1vJ_BHz&index=60\n",
    "Kth missing +ve number: https://leetcode.com/problems/kth-missing-positive-number/submissions/1215199274/"
   ]
  },
  {
   "cell_type": "code",
   "execution_count": 30,
   "id": "fdbc80fd",
   "metadata": {
    "execution": {
     "iopub.execute_input": "2024-03-30T12:53:46.003794Z",
     "iopub.status.busy": "2024-03-30T12:53:46.003114Z",
     "iopub.status.idle": "2024-03-30T12:53:46.012248Z",
     "shell.execute_reply": "2024-03-30T12:53:46.011497Z"
    },
    "lines_to_next_cell": 1,
    "papermill": {
     "duration": 0.028731,
     "end_time": "2024-03-30T12:53:46.013933",
     "exception": false,
     "start_time": "2024-03-30T12:53:45.985202",
     "status": "completed"
    },
    "tags": []
   },
   "outputs": [],
   "source": [
    "# Linear run time solution\n",
    "class Solution:\n",
    "    def findKthPositive_brute(self, arr: list[int], k: int) -> int:\n",
    "        \"Brute force: Time - O(N), Space - O(N)\"\n",
    "        present: set[int] = set(arr)\n",
    "        max_ = arr[-1] + k\n",
    "        for i in range(1, max_ + 1):\n",
    "            if i not in present:\n",
    "                k -= 1\n",
    "            if k == 0:\n",
    "                break\n",
    "        return i\n",
    "\n",
    "    def findKthPositive_better(self, arr: list[int], k: int) -> int:\n",
    "        \"Striver Better solution: Time - O(N), Space - O(1)\"\n",
    "        for n in arr:\n",
    "            if n <= k:\n",
    "                k += 1\n",
    "            else:\n",
    "                break\n",
    "        return k\n",
    "\n",
    "    def findKthPositive(self, arr: list[int], k: int) -> int:\n",
    "        \"\"\"\n",
    "        Optimal - Binary search: Time - O(log N)\n",
    "        Primary Observation: Count of missing elements prior to index: arr[idx] - idx - 1.\n",
    "        This is because if there were no missing elements, at any idx the number should be idx + 1.\n",
    "\n",
    "        With this logic in mind, we can apply binary search.\n",
    "        \"\"\"\n",
    "        N = len(arr)\n",
    "        low, high = 0, N - 1\n",
    "        while low <= high:\n",
    "            mid = (low + high) // 2\n",
    "            missing_count = arr[mid] - mid - 1\n",
    "            if missing_count < k:\n",
    "                low = mid + 1\n",
    "            else:\n",
    "                high = mid - 1\n",
    "\n",
    "        # arr[high] + more \n",
    "        # arr[high] + k - missing \n",
    "        # arr[high] + k - arr[high] + high + 1\n",
    "        return high + k + 1\n",
    "\n",
    "# Testing the solution\n",
    "assert Solution().findKthPositive([2, 3, 4, 7, 11], 5) == 9"
   ]
  },
  {
   "cell_type": "markdown",
   "id": "5275fb71",
   "metadata": {
    "papermill": {
     "duration": 0.016649,
     "end_time": "2024-03-30T12:53:46.047459",
     "exception": false,
     "start_time": "2024-03-30T12:53:46.030810",
     "status": "completed"
    },
    "tags": []
   },
   "source": [
    "Video Link: https://www.youtube.com/watch?v=R_Mfw4ew-Vo&list=PLgUwDviBIf0oF6QL8m22w1hIDC1vJ_BHz&index=61"
   ]
  },
  {
   "cell_type": "code",
   "execution_count": 31,
   "id": "8139b363",
   "metadata": {
    "execution": {
     "iopub.execute_input": "2024-03-30T12:53:46.082983Z",
     "iopub.status.busy": "2024-03-30T12:53:46.082317Z",
     "iopub.status.idle": "2024-03-30T12:53:46.088945Z",
     "shell.execute_reply": "2024-03-30T12:53:46.088192Z"
    },
    "lines_to_next_cell": 1,
    "papermill": {
     "duration": 0.026274,
     "end_time": "2024-03-30T12:53:46.090629",
     "exception": false,
     "start_time": "2024-03-30T12:53:46.064355",
     "status": "completed"
    },
    "tags": []
   },
   "outputs": [],
   "source": [
    "# Brute force: ~ O(2 ^ N)\n",
    "def aggressiveCows(stalls: list[int], k: int) -> int:\n",
    "    def compute_min_distance(placement: tuple[int]) -> int:\n",
    "        dist = stalls[-1] - stalls[0]\n",
    "        for i in range(k - 1):\n",
    "            dist = min(dist, placement[i + 1] - placement[i])\n",
    "\n",
    "        return dist\n",
    "\n",
    "    # Sort the stalls so that the min dist would always be between 2 consequtive stalls\n",
    "    stalls.sort()\n",
    "\n",
    "    # Generate all subsequences\n",
    "    result = 0\n",
    "    for placement in itertools.combinations(stalls, k):\n",
    "        result = max(result, compute_min_distance(placement))\n",
    "    return result\n",
    "\n",
    "# Testing the solution\n",
    "assert aggressiveCows([0, 3, 4, 7, 10, 9], 4) == 3\n",
    "assert aggressiveCows([4, 2, 1, 3, 6], 2) == 5"
   ]
  },
  {
   "cell_type": "code",
   "execution_count": 32,
   "id": "ba2f0950",
   "metadata": {
    "execution": {
     "iopub.execute_input": "2024-03-30T12:53:46.125778Z",
     "iopub.status.busy": "2024-03-30T12:53:46.125251Z",
     "iopub.status.idle": "2024-03-30T12:53:46.132761Z",
     "shell.execute_reply": "2024-03-30T12:53:46.132023Z"
    },
    "lines_to_next_cell": 1,
    "papermill": {
     "duration": 0.02686,
     "end_time": "2024-03-30T12:53:46.134478",
     "exception": false,
     "start_time": "2024-03-30T12:53:46.107618",
     "status": "completed"
    },
    "tags": []
   },
   "outputs": [],
   "source": [
    "# Better: ~ O(N ^ 2) \n",
    "def aggressiveCows(stalls: list[int], k: int) -> int:\n",
    "    stalls.sort()\n",
    "\n",
    "    N = len(stalls)\n",
    "\n",
    "    distances = []\n",
    "    for i in range(N - 1):\n",
    "        distances.append(stalls[i + 1] - stalls[i])\n",
    "\n",
    "    # Eliminate N - k stalls\n",
    "    for i in range(N - k):\n",
    "        # Find min dist idx\n",
    "        min_ = 0\n",
    "        for j in range(N - i - 1):\n",
    "            if distances[j] < distances[min_]:\n",
    "                min_ = j\n",
    "        # Combine with the smaller value\n",
    "        if min_ == 0 or (min_ < N - i - 2 and distances[min_ + 1] < distances[min_ - 1]):\n",
    "            distances[min_ + 1] += distances[min_]\n",
    "        else:\n",
    "            distances[min_ - 1] += distances[min_]\n",
    "\n",
    "        # Remove that distance\n",
    "        distances.pop(min_)\n",
    "\n",
    "    return min(distances)\n",
    "\n",
    "# Testing the solution\n",
    "assert aggressiveCows([0, 3, 4, 7, 10, 9], 4) == 3\n",
    "assert aggressiveCows([4, 2, 1, 3, 6], 2) == 5"
   ]
  },
  {
   "cell_type": "code",
   "execution_count": 33,
   "id": "64f42a77",
   "metadata": {
    "execution": {
     "iopub.execute_input": "2024-03-30T12:53:46.170083Z",
     "iopub.status.busy": "2024-03-30T12:53:46.169442Z",
     "iopub.status.idle": "2024-03-30T12:53:46.176792Z",
     "shell.execute_reply": "2024-03-30T12:53:46.176046Z"
    },
    "lines_to_next_cell": 1,
    "papermill": {
     "duration": 0.026989,
     "end_time": "2024-03-30T12:53:46.178422",
     "exception": false,
     "start_time": "2024-03-30T12:53:46.151433",
     "status": "completed"
    },
    "tags": []
   },
   "outputs": [],
   "source": [
    "# Optimal Striver: O(N log N)\n",
    "def aggressiveCows(stalls: list[int], k: int) -> int:\n",
    "    def place_cows(dist: int) -> bool:\n",
    "        \"Place k cows with a min of k dist (>= dist)\"\n",
    "\n",
    "        # Place 1st cow at idx 0\n",
    "        k_, prev = k - 1, 0\n",
    "        for i in range(1, N):\n",
    "            if stalls[i] - stalls[prev] >= dist:\n",
    "                prev = i\n",
    "                k_ -= 1\n",
    "            if k_ == 0:\n",
    "                break\n",
    "\n",
    "        return k_ == 0\n",
    "\n",
    "    N = len(stalls)\n",
    "    stalls.sort()\n",
    "\n",
    "    low, high = 1, stalls[-1] - stalls[0]\n",
    "    while low <= high:\n",
    "        mid = (low + high) // 2\n",
    "        if place_cows(mid):\n",
    "            low = mid + 1\n",
    "        else:\n",
    "            high = mid - 1\n",
    "\n",
    "    return high\n",
    "\n",
    "# Testing the solution\n",
    "assert aggressiveCows([0, 3, 4, 7, 10, 9], 4) == 3\n",
    "assert aggressiveCows([4, 2, 1, 3, 6], 2) == 5"
   ]
  },
  {
   "cell_type": "markdown",
   "id": "c6415f70",
   "metadata": {
    "papermill": {
     "duration": 0.016794,
     "end_time": "2024-03-30T12:53:46.212305",
     "exception": false,
     "start_time": "2024-03-30T12:53:46.195511",
     "status": "completed"
    },
    "tags": []
   },
   "source": [
    "Video link: https://www.youtube.com/watch?v=Z0hwjftStI4&list=PLgUwDviBIf0oF6QL8m22w1hIDC1vJ_BHz&index=62"
   ]
  },
  {
   "cell_type": "code",
   "execution_count": 34,
   "id": "4e6344ff",
   "metadata": {
    "execution": {
     "iopub.execute_input": "2024-03-30T12:53:46.247613Z",
     "iopub.status.busy": "2024-03-30T12:53:46.247005Z",
     "iopub.status.idle": "2024-03-30T12:53:46.254107Z",
     "shell.execute_reply": "2024-03-30T12:53:46.253383Z"
    },
    "lines_to_next_cell": 1,
    "papermill": {
     "duration": 0.026599,
     "end_time": "2024-03-30T12:53:46.255881",
     "exception": false,
     "start_time": "2024-03-30T12:53:46.229282",
     "status": "completed"
    },
    "tags": []
   },
   "outputs": [],
   "source": [
    "# Brute force solution, Time, Space: O(N!)\n",
    "def findPages(arr: list[int], n: int, m: int) -> float:\n",
    "    N = len(arr)\n",
    "\n",
    "    @functools.cache\n",
    "    def backtrack(start: int, n_students: int) -> float:\n",
    "        if n_students == 1:\n",
    "            return sum(arr[start:])\n",
    "\n",
    "        else:\n",
    "            result = math.inf\n",
    "            sum_ = 0\n",
    "            for i in range(start, N - n_students + 1):\n",
    "                sum_ += arr[i]\n",
    "                result = min(result, max(sum_, backtrack(i + 1, n_students - 1)))\n",
    "\n",
    "            return result\n",
    "\n",
    "    result = backtrack(0, m)\n",
    "    return -1 if math.isinf(result) else result\n",
    "\n",
    "# Testing the solution\n",
    "assert findPages([12, 34, 67, 90], 4, 2) == 113\n",
    "assert findPages([25, 46, 28, 49, 24], 5, 4) == 71"
   ]
  },
  {
   "cell_type": "code",
   "execution_count": 35,
   "id": "569cb019",
   "metadata": {
    "execution": {
     "iopub.execute_input": "2024-03-30T12:53:46.291091Z",
     "iopub.status.busy": "2024-03-30T12:53:46.290438Z",
     "iopub.status.idle": "2024-03-30T12:53:46.298622Z",
     "shell.execute_reply": "2024-03-30T12:53:46.297940Z"
    },
    "lines_to_next_cell": 1,
    "papermill": {
     "duration": 0.027704,
     "end_time": "2024-03-30T12:53:46.300354",
     "exception": false,
     "start_time": "2024-03-30T12:53:46.272650",
     "status": "completed"
    },
    "tags": []
   },
   "outputs": [],
   "source": [
    "# Optimal - Binary search, Time - O(N log N)\n",
    "def findPages(arr: list[int], n: int, m: int) -> float:\n",
    "    N = len(arr)\n",
    "\n",
    "    def assign(maxPages: int) -> bool:\n",
    "        \"\"\"\n",
    "        Logic for this is more crucial than binary search itself.\n",
    "\n",
    "        Tip: Splits, Subarrays (contiguous).\n",
    "\n",
    "        To check if the maxPages is possible we GREEDILY assign as much as\n",
    "        possible to each guy before moving to the next guy.\n",
    "        \"\"\"\n",
    "        n_std, curr = 1, 0\n",
    "        for i in range(N):\n",
    "            if curr + arr[i] <= maxPages:\n",
    "                curr += arr[i]\n",
    "            else:\n",
    "                n_std, curr = n_std + 1, arr[i]\n",
    "\n",
    "        return n_std <= m\n",
    "\n",
    "    if N < m:\n",
    "        return -1\n",
    "    else:\n",
    "        low, high = max(arr), sum(arr)\n",
    "        while low <= high:\n",
    "            mid = (low + high) // 2\n",
    "            if assign(mid):\n",
    "                high = mid - 1\n",
    "            else:\n",
    "                low = mid + 1\n",
    "\n",
    "        return low\n",
    "\n",
    "# Testing the solution\n",
    "assert findPages([12, 34, 67, 90], 4, 2) == 113\n",
    "assert findPages([25, 46, 28, 49, 24], 5, 4) == 71\n",
    "assert findPages([2, 8, 8, 4, 5], 5, 6) == -1"
   ]
  },
  {
   "cell_type": "markdown",
   "id": "693edc5b",
   "metadata": {
    "papermill": {
     "duration": 0.017151,
     "end_time": "2024-03-30T12:53:46.334609",
     "exception": false,
     "start_time": "2024-03-30T12:53:46.317458",
     "status": "completed"
    },
    "tags": []
   },
   "source": [
    "Video Link: https://www.youtube.com/watch?v=thUd_WJn6wk&list=PLgUwDviBIf0oF6QL8m22w1hIDC1vJ_BHz&index=63\n",
    "Problem Link: https://leetcode.com/problems/split-array-largest-sum/submissions/1216912768"
   ]
  },
  {
   "cell_type": "code",
   "execution_count": 36,
   "id": "2f94d583",
   "metadata": {
    "execution": {
     "iopub.execute_input": "2024-03-30T12:53:46.369917Z",
     "iopub.status.busy": "2024-03-30T12:53:46.369253Z",
     "iopub.status.idle": "2024-03-30T12:53:46.377169Z",
     "shell.execute_reply": "2024-03-30T12:53:46.376429Z"
    },
    "lines_to_next_cell": 1,
    "papermill": {
     "duration": 0.027442,
     "end_time": "2024-03-30T12:53:46.378895",
     "exception": false,
     "start_time": "2024-03-30T12:53:46.351453",
     "status": "completed"
    },
    "tags": []
   },
   "outputs": [],
   "source": [
    "class Solution:\n",
    "    def splitArray(self, nums: list[int], k: int) -> int:\n",
    "        N = len(nums)\n",
    "\n",
    "        def countSplits(max_: int) -> bool:\n",
    "            \"\"\"\n",
    "            Greedily assign as much as possible to each guy before moving forward.\n",
    "            Same logic as the problem above. Remember only applicable for contigous\n",
    "            array slices: subarrays, splits, etc.\n",
    "            \"\"\"\n",
    "            n_splits, sum_ = 1, 0\n",
    "            for i in range(N):\n",
    "                if sum_ + nums[i] <= max_:\n",
    "                    sum_ += nums[i]\n",
    "                else:\n",
    "                    n_splits, sum_ = n_splits + 1, nums[i]\n",
    "\n",
    "            return n_splits <= k\n",
    "\n",
    "        if k > N:\n",
    "            return -1\n",
    "        else:\n",
    "            low, high = max(nums), sum(nums)\n",
    "            while low <= high:\n",
    "                mid = (low + high) // 2\n",
    "                if countSplits(mid):\n",
    "                    high = mid - 1\n",
    "                else:\n",
    "                    low = mid + 1\n",
    "\n",
    "            return low\n",
    "\n",
    "# Testing the solution\n",
    "assert Solution().splitArray([7,2,5,10,8], 2) == 18\n",
    "assert Solution().splitArray([1, 2, 3, 4, 5], 2) == 9"
   ]
  },
  {
   "cell_type": "markdown",
   "id": "b17280b3",
   "metadata": {
    "papermill": {
     "duration": 0.016895,
     "end_time": "2024-03-30T12:53:46.412778",
     "exception": false,
     "start_time": "2024-03-30T12:53:46.395883",
     "status": "completed"
    },
    "tags": []
   },
   "source": [
    "Video link: https://www.youtube.com/watch?v=kMSBvlZ-_HA&list=PLgUwDviBIf0oF6QL8m22w1hIDC1vJ_BHz&index=64"
   ]
  },
  {
   "cell_type": "code",
   "execution_count": 37,
   "id": "b31b6aea",
   "metadata": {
    "execution": {
     "iopub.execute_input": "2024-03-30T12:53:46.449061Z",
     "iopub.status.busy": "2024-03-30T12:53:46.448205Z",
     "iopub.status.idle": "2024-03-30T12:53:46.456994Z",
     "shell.execute_reply": "2024-03-30T12:53:46.456349Z"
    },
    "lines_to_next_cell": 1,
    "papermill": {
     "duration": 0.028838,
     "end_time": "2024-03-30T12:53:46.458734",
     "exception": false,
     "start_time": "2024-03-30T12:53:46.429896",
     "status": "completed"
    },
    "tags": []
   },
   "outputs": [],
   "source": [
    "def minimiseMaxDistance(arr: list[int], k: float) -> float:\n",
    "\n",
    "    def check(thresh: float) -> bool:\n",
    "        \"\"\"\n",
    "        If curr_dist is > thresh, try to split just until dist = thresh\n",
    "\n",
    "        >>> curr_dist / (n + 1) == thresh\n",
    "        >>> curr_dist / thresh - 1 = n \n",
    "        \"\"\"\n",
    "\n",
    "        n_splits = 0\n",
    "        for i in range(N - 1):\n",
    "            curr_dist = arr[i + 1] - arr[i]\n",
    "            if curr_dist > thresh:\n",
    "                # Ceil without using math.ceil => -(-x // 1)\n",
    "                splits_required = -(-curr_dist // thresh) - 1\n",
    "                n_splits += int(splits_required)\n",
    "\n",
    "        return n_splits <= k\n",
    "\n",
    "    N = len(arr)\n",
    "    max_dist = 0.\n",
    "    for i in range(N - 1):\n",
    "        max_dist = max(max_dist, arr[i + 1] - arr[i])\n",
    "\n",
    "    low, high = 0., max_dist\n",
    "    while high - low > 1e-7:\n",
    "        mid = (low + high) / 2\n",
    "        if check(mid):\n",
    "            high = mid\n",
    "        else:\n",
    "            low = mid\n",
    "\n",
    "    return low\n",
    "\n",
    "# Testing the solution\n",
    "assert round(minimiseMaxDistance([1, 2, 3, 4, 5], 4), 6) == 0.5\n",
    "assert round(minimiseMaxDistance([1, 2, 5], 4), 6) == 0.75\n",
    "assert round(minimiseMaxDistance([1, 3], 2), 6) == 0.666667"
   ]
  },
  {
   "cell_type": "code",
   "execution_count": 38,
   "id": "d0e0c3f2",
   "metadata": {
    "execution": {
     "iopub.execute_input": "2024-03-30T12:53:46.494372Z",
     "iopub.status.busy": "2024-03-30T12:53:46.493792Z",
     "iopub.status.idle": "2024-03-30T12:53:46.504158Z",
     "shell.execute_reply": "2024-03-30T12:53:46.503507Z"
    },
    "lines_to_next_cell": 1,
    "papermill": {
     "duration": 0.029936,
     "end_time": "2024-03-30T12:53:46.505837",
     "exception": false,
     "start_time": "2024-03-30T12:53:46.475901",
     "status": "completed"
    },
    "tags": []
   },
   "outputs": [],
   "source": [
    "# Striver - Brute force approach (simpler)\n",
    "def minimiseMaxDistance(arr: list[int], k: int) -> float:\n",
    "    \"\"\"\n",
    "    Time - O(N^2) originally, optimized with the usage of heaps to O(N log N)\n",
    "\n",
    "    We place the k one by one. Keeping track of how many gas stations we placed\n",
    "    at each gap. If we are to place additional gas station into a gap that already\n",
    "    contains a gas station, we would remove existing gas station and place both gas\n",
    "    stations at equal distances.\n",
    "\n",
    "    [1, _, 2], 1 => [1, 1.5, 2]\n",
    "    [1, _, 2], 2 => [1, 1.3, 1.6, 2]\n",
    "    [1, _, 2], 3 => [1, 1.25, 1.5, 1.75, 2]\n",
    "\n",
    "    \"\"\"\n",
    "\n",
    "    class Node:\n",
    "        def __init__(self, dist: int, placed: int = 0):\n",
    "            self.dist = dist\n",
    "            self.placed = placed\n",
    "            self.compute_gap()\n",
    "\n",
    "        def compute_gap(self):\n",
    "            self.gap = - self.dist / (self.placed + 1)\n",
    "\n",
    "        def increment_placed(self):\n",
    "            self.placed += 1\n",
    "            self.compute_gap()\n",
    "\n",
    "        def __repr__(self):\n",
    "            return f'{self.dist}/{self.placed}:{self.gap}'\n",
    "\n",
    "        def __lt__(self, other: 'Node'):\n",
    "            return self.gap < other.gap\n",
    "\n",
    "    N = len(arr)\n",
    "    nodes: list[Node] = []\n",
    "    for i in range(N - 1):\n",
    "        nodes.append(Node(dist=arr[i + 1] - arr[i], placed=0))\n",
    "\n",
    "    # Convert into max heap\n",
    "    heapq.heapify(nodes)\n",
    "\n",
    "    for i in range(k):\n",
    "        # Find the max distance and try to minimize it\n",
    "        max_node = heapq.heappop(nodes)\n",
    "        max_node.increment_placed()\n",
    "        heapq.heappush(nodes, max_node)\n",
    "\n",
    "    # Compute the max distance\n",
    "    return -nodes[0].gap\n",
    "\n",
    "# Testing the solution\n",
    "assert round(minimiseMaxDistance([1, 2, 3, 4, 5], 4), 6) == 0.5\n",
    "assert round(minimiseMaxDistance([1, 2, 5], 4), 6) == 0.75\n",
    "assert round(minimiseMaxDistance([1, 3], 2), 6) == 0.666667"
   ]
  },
  {
   "cell_type": "markdown",
   "id": "355b5a37",
   "metadata": {
    "papermill": {
     "duration": 0.016708,
     "end_time": "2024-03-30T12:53:46.539379",
     "exception": false,
     "start_time": "2024-03-30T12:53:46.522671",
     "status": "completed"
    },
    "tags": []
   },
   "source": [
    "Video link: https://www.youtube.com/watch?v=C2rRzz-JDk8&list=PLgUwDviBIf0oF6QL8m22w1hIDC1vJ_BHz&index=65\n",
    "Median of two sorted ararys"
   ]
  },
  {
   "cell_type": "code",
   "execution_count": 39,
   "id": "f6508851",
   "metadata": {
    "execution": {
     "iopub.execute_input": "2024-03-30T12:53:46.574953Z",
     "iopub.status.busy": "2024-03-30T12:53:46.574242Z",
     "iopub.status.idle": "2024-03-30T12:53:46.581682Z",
     "shell.execute_reply": "2024-03-30T12:53:46.580932Z"
    },
    "lines_to_next_cell": 1,
    "papermill": {
     "duration": 0.027057,
     "end_time": "2024-03-30T12:53:46.583278",
     "exception": false,
     "start_time": "2024-03-30T12:53:46.556221",
     "status": "completed"
    },
    "tags": []
   },
   "outputs": [],
   "source": [
    "# Brute force solution: Time, Space: O(M + N)\n",
    "class Solution:\n",
    "    def findMedianSortedArrays(self, nums1: list[int], nums2: list[int]) -> float:\n",
    "        # Merge both arrays in sorted order \n",
    "        N1, N2 = len(nums1), len(nums2)\n",
    "        N = N1 + N2\n",
    "        i = j = 0\n",
    "        nums: list[int] = []\n",
    "        while i < N1 or j < N2:\n",
    "            if j == N2 or (i < N1 and nums1[i] < nums2[j]):\n",
    "                nums.append(nums1[i])\n",
    "                i += 1\n",
    "            else:\n",
    "                nums.append(nums2[j])\n",
    "                j += 1\n",
    "\n",
    "        # Return median\n",
    "        mid = -(-N // 2) # Ceil of the number\n",
    "        if N % 2 == 0:\n",
    "            return (nums[mid - 1] + nums[mid]) / 2\n",
    "        else:\n",
    "            return nums[mid - 1]\n",
    "\n",
    "# Testing the solution\n",
    "assert Solution().findMedianSortedArrays([1, 3], [2]) == 2\n",
    "assert Solution().findMedianSortedArrays([1, 2], [3, 4]) == 2.5"
   ]
  },
  {
   "cell_type": "code",
   "execution_count": 40,
   "id": "612f92c2",
   "metadata": {
    "execution": {
     "iopub.execute_input": "2024-03-30T12:53:46.618454Z",
     "iopub.status.busy": "2024-03-30T12:53:46.617781Z",
     "iopub.status.idle": "2024-03-30T12:53:46.626102Z",
     "shell.execute_reply": "2024-03-30T12:53:46.625369Z"
    },
    "lines_to_next_cell": 1,
    "papermill": {
     "duration": 0.027574,
     "end_time": "2024-03-30T12:53:46.627680",
     "exception": false,
     "start_time": "2024-03-30T12:53:46.600106",
     "status": "completed"
    },
    "tags": []
   },
   "outputs": [],
   "source": [
    "# Better solution: Time: O(M + N), Space: O(1)\n",
    "class Solution:\n",
    "    def findMedianSortedArrays(self, nums1: list[int], nums2: list[int]) -> float:\n",
    "        N1, N2 = len(nums1), len(nums2)\n",
    "        N = N1 + N2\n",
    "        curr_idx = i = j = 0\n",
    "\n",
    "        # Left, Right based on N\n",
    "        mid = -(-N // 2) # Ceil of the number\n",
    "        if N % 2 == 0:\n",
    "            left_idx, right_idx = mid - 1, mid\n",
    "        else:\n",
    "            left_idx = right_idx = mid - 1\n",
    "\n",
    "        while i < N1 or j < N2:\n",
    "            if (j == N2) or (i < N1 and nums1[i] < nums2[j]):\n",
    "                curr = nums1[i]\n",
    "                i += 1\n",
    "            else:\n",
    "                curr = nums2[j]\n",
    "                j += 1\n",
    "            if curr_idx == left_idx:\n",
    "                left = curr\n",
    "            if curr_idx == right_idx:\n",
    "                right = curr\n",
    "                break\n",
    "\n",
    "            curr_idx += 1\n",
    "\n",
    "        return (left + right) / 2\n",
    "\n",
    "# Testing the solution\n",
    "assert Solution().findMedianSortedArrays([1, 3], [2]) == 2\n",
    "assert Solution().findMedianSortedArrays([1, 2], [3, 4]) == 2.5"
   ]
  },
  {
   "cell_type": "code",
   "execution_count": 41,
   "id": "0daf9188",
   "metadata": {
    "execution": {
     "iopub.execute_input": "2024-03-30T12:53:46.663413Z",
     "iopub.status.busy": "2024-03-30T12:53:46.662877Z",
     "iopub.status.idle": "2024-03-30T12:53:46.675108Z",
     "shell.execute_reply": "2024-03-30T12:53:46.674350Z"
    },
    "lines_to_next_cell": 1,
    "papermill": {
     "duration": 0.031969,
     "end_time": "2024-03-30T12:53:46.676785",
     "exception": false,
     "start_time": "2024-03-30T12:53:46.644816",
     "status": "completed"
    },
    "tags": []
   },
   "outputs": [],
   "source": [
    "# Better solution, Time - O(log N * log N)\n",
    "class Solution:\n",
    "    @staticmethod\n",
    "    def find_boundary_indices(target: int, arr: list[int], N: int) -> tuple[int, int]:\n",
    "        low, high = 0, N - 1\n",
    "        while low <= high:\n",
    "            mid = (low + high) // 2\n",
    "            if arr[mid] >= target:\n",
    "                high = mid - 1\n",
    "            else:\n",
    "                low = mid + 1\n",
    "\n",
    "        GTE_IDX = low\n",
    "\n",
    "        # Upper bound Binary (Striver's approach)\n",
    "        low, high = 0, N - 1\n",
    "        while low <= high:\n",
    "            mid = (low + high) // 2\n",
    "            if arr[mid] > target:\n",
    "                high = mid - 1\n",
    "            else:\n",
    "                low = mid + 1\n",
    "\n",
    "        LTE_IDX = low\n",
    "\n",
    "        return LTE_IDX, GTE_IDX\n",
    "\n",
    "    def findMedianSortedArrays(self, nums1: list[float], nums2: list[float]) -> float:\n",
    "        N1, N2 = len(nums1), len(nums2)\n",
    "        low, high = min(nums1[0], nums2[0]), max(nums1[-1], nums2[-1])\n",
    "        while low < high:\n",
    "            mid = (low + high) / 2\n",
    "            lte_idx1, gte_idx1 = Solution.find_boundary_indices(mid, nums1, N1)\n",
    "            lte_idx2, gte_idx2 = Solution.find_boundary_indices(mid, nums2, N2)\n",
    "            lte = lte_idx1 + lte_idx2\n",
    "            gte = N1 - gte_idx1 + N2 - gte_idx2\n",
    "            if lte == gte:\n",
    "                low = high = mid\n",
    "            elif lte < gte:\n",
    "                low = -(-mid // 1)\n",
    "            else:\n",
    "                high = mid // 1\n",
    "\n",
    "        lte_idx1, gte_idx1 = Solution.find_boundary_indices(low, nums1, N1)\n",
    "        lte_idx2, gte_idx2 = Solution.find_boundary_indices(low, nums2, N2)\n",
    "\n",
    "        lte = max(nums1[lte_idx1 - 1] if lte_idx1 > 0 else -math.inf, nums2[lte_idx2 - 1] if lte_idx2 > 0 else -math.inf)\n",
    "        gte = min(nums1[gte_idx1] if gte_idx1 < N1 else math.inf, nums2[gte_idx2] if gte_idx2 < N2 else math.inf)\n",
    "        return (lte + gte) / 2\n",
    "\n",
    "# Testing the solution\n",
    "assert Solution().findMedianSortedArrays([1, 3], [2]) == 2\n",
    "assert Solution().findMedianSortedArrays([1, 2], [3, 4]) == 2.5"
   ]
  },
  {
   "cell_type": "code",
   "execution_count": 42,
   "id": "cf415db1",
   "metadata": {
    "execution": {
     "iopub.execute_input": "2024-03-30T12:53:46.712660Z",
     "iopub.status.busy": "2024-03-30T12:53:46.712333Z",
     "iopub.status.idle": "2024-03-30T12:53:46.723149Z",
     "shell.execute_reply": "2024-03-30T12:53:46.722453Z"
    },
    "papermill": {
     "duration": 0.030651,
     "end_time": "2024-03-30T12:53:46.724878",
     "exception": false,
     "start_time": "2024-03-30T12:53:46.694227",
     "status": "completed"
    },
    "tags": []
   },
   "outputs": [],
   "source": [
    "# Striver Optimal Solution - O(log N)\n",
    "# Video Link: https://www.youtube.com/watch?v=F9c7LpRZWVQ&list=PLgUwDviBIf0oF6QL8m22w1hIDC1vJ_BHz&index=67\n",
    "def median(nums1: list[int], nums2: list[int]) -> float:\n",
    "    N1, N2 = len(nums1), len(nums2)\n",
    "    N = N1 + N2\n",
    "\n",
    "    if N1 > N2:\n",
    "        return median(nums2, nums1)\n",
    "\n",
    "    low, high = 0, N1\n",
    "    left_len = (N1 + N2 + 1) // 2\n",
    "    while low <= high:\n",
    "        mid1 = (low + high) // 2\n",
    "        mid2 = left_len - mid1\n",
    "        l1 = nums1[mid1 - 1] if mid1 > 0 else -math.inf\n",
    "        l2 = nums2[mid2 - 1] if mid2 > 0 else -math.inf\n",
    "        r1 = nums1[mid1] if mid1 < N1 else math.inf\n",
    "        r2 = nums2[mid2] if mid2 < N2 else math.inf\n",
    "        if l1 <= r2 and l2 <= r1:\n",
    "            if N % 2 == 0:\n",
    "                return (max(l1, l2) + min(r1, r2)) / 2\n",
    "            else:\n",
    "                return max(l1, l2)\n",
    "        elif l1 > r2:\n",
    "            high = mid1 - 1\n",
    "        else:\n",
    "            low = mid1 + 1\n",
    "\n",
    "    return -1\n",
    "\n",
    "# Testing the solution\n",
    "assert median([1, 3], [2]) == 2\n",
    "assert median([1, 2], [3, 4]) == 2.5"
   ]
  }
 ],
 "metadata": {
  "kernelspec": {
   "display_name": "Python 3 (ipykernel)",
   "language": "python",
   "name": "python3"
  },
  "language_info": {
   "codemirror_mode": {
    "name": "ipython",
    "version": 3
   },
   "file_extension": ".py",
   "mimetype": "text/x-python",
   "name": "python",
   "nbconvert_exporter": "python",
   "pygments_lexer": "ipython3",
   "version": "3.10.14"
  },
  "papermill": {
   "default_parameters": {},
   "duration": 4.034817,
   "end_time": "2024-03-30T12:53:46.959539",
   "environment_variables": {},
   "exception": null,
   "input_path": "study/striver-A2Z/09-binary-search.ipynb",
   "output_path": "study/striver-A2Z/09-binary-search.ipynb",
   "parameters": {},
   "start_time": "2024-03-30T12:53:42.924722",
   "version": "2.5.0"
  }
 },
 "nbformat": 4,
 "nbformat_minor": 5
}