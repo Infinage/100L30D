{
 "cells": [
  {
   "cell_type": "markdown",
   "id": "39385271",
   "metadata": {
    "papermill": {
     "duration": 0.0111,
     "end_time": "2024-03-26T03:05:08.960350",
     "exception": false,
     "start_time": "2024-03-26T03:05:08.949250",
     "status": "completed"
    },
    "tags": []
   },
   "source": [
    "Some useful imports"
   ]
  },
  {
   "cell_type": "code",
   "execution_count": 1,
   "id": "fd129096",
   "metadata": {
    "execution": {
     "iopub.execute_input": "2024-03-26T03:05:08.983150Z",
     "iopub.status.busy": "2024-03-26T03:05:08.982605Z",
     "iopub.status.idle": "2024-03-26T03:05:08.997122Z",
     "shell.execute_reply": "2024-03-26T03:05:08.996452Z"
    },
    "lines_to_next_cell": 1,
    "papermill": {
     "duration": 0.02884,
     "end_time": "2024-03-26T03:05:08.999771",
     "exception": false,
     "start_time": "2024-03-26T03:05:08.970931",
     "status": "completed"
    },
    "tags": []
   },
   "outputs": [],
   "source": [
    "import math\n",
    "import random\n",
    "import functools\n",
    "import itertools\n",
    "import tqdm\n",
    "import pdb"
   ]
  },
  {
   "cell_type": "markdown",
   "id": "1b645c9d",
   "metadata": {
    "papermill": {
     "duration": 0.010577,
     "end_time": "2024-03-26T03:05:09.020902",
     "exception": false,
     "start_time": "2024-03-26T03:05:09.010325",
     "status": "completed"
    },
    "tags": []
   },
   "source": [
    "Video Link: https://www.youtube.com/watch?v=MHf6awe89xw&list=PLgUwDviBIf0oF6QL8m22w1hIDC1vJ_BHz&index=45"
   ]
  },
  {
   "cell_type": "code",
   "execution_count": 2,
   "id": "a8c5fd59",
   "metadata": {
    "execution": {
     "iopub.execute_input": "2024-03-26T03:05:09.043698Z",
     "iopub.status.busy": "2024-03-26T03:05:09.043067Z",
     "iopub.status.idle": "2024-03-26T03:05:09.048431Z",
     "shell.execute_reply": "2024-03-26T03:05:09.047540Z"
    },
    "lines_to_next_cell": 1,
    "papermill": {
     "duration": 0.019423,
     "end_time": "2024-03-26T03:05:09.050835",
     "exception": false,
     "start_time": "2024-03-26T03:05:09.031412",
     "status": "completed"
    },
    "tags": []
   },
   "outputs": [],
   "source": [
    "# Linear search\n",
    "def lsearch(arr: list[int], target: int) -> int:\n",
    "    for i in range(len(arr)):\n",
    "        if arr[i] == target:\n",
    "            return i\n",
    "    else:\n",
    "        return -1"
   ]
  },
  {
   "cell_type": "code",
   "execution_count": 3,
   "id": "b06d330f",
   "metadata": {
    "execution": {
     "iopub.execute_input": "2024-03-26T03:05:09.073972Z",
     "iopub.status.busy": "2024-03-26T03:05:09.073633Z",
     "iopub.status.idle": "2024-03-26T03:05:09.089206Z",
     "shell.execute_reply": "2024-03-26T03:05:09.088301Z"
    },
    "lines_to_next_cell": 1,
    "papermill": {
     "duration": 0.030266,
     "end_time": "2024-03-26T03:05:09.091634",
     "exception": false,
     "start_time": "2024-03-26T03:05:09.061368",
     "status": "completed"
    },
    "tags": []
   },
   "outputs": [
    {
     "name": "stderr",
     "output_type": "stream",
     "text": [
      "\r",
      "  0%|          | 0/100 [00:00<?, ?it/s]"
     ]
    },
    {
     "name": "stderr",
     "output_type": "stream",
     "text": [
      "\r",
      "100%|██████████| 100/100 [00:00<00:00, 60401.84it/s]"
     ]
    },
    {
     "name": "stderr",
     "output_type": "stream",
     "text": [
      "\n"
     ]
    }
   ],
   "source": [
    "# Iterative solution\n",
    "def bsearch_iter(arr: list[int], target: int) -> int:\n",
    "    low, high = 0, len(arr) - 1\n",
    "    while low <= high:\n",
    "        mid = (low + high) // 2\n",
    "        if arr[mid] == target:\n",
    "            return mid\n",
    "        elif target > arr[mid]:\n",
    "            low = mid + 1\n",
    "        else:\n",
    "            high = mid - 1\n",
    "    else:\n",
    "        return -1\n",
    "\n",
    "# Test the algorithm\n",
    "for i in tqdm.tqdm(range(100)):\n",
    "    temp = random.sample(list(range(15, 30)), random.randint(1, 15))\n",
    "    temp.sort()\n",
    "    j = random.randint(0, 45)\n",
    "    assert bsearch_iter(temp, j) == lsearch(temp, j), f\"failed for {temp}, {j}\""
   ]
  },
  {
   "cell_type": "code",
   "execution_count": 4,
   "id": "59682a10",
   "metadata": {
    "execution": {
     "iopub.execute_input": "2024-03-26T03:05:09.115470Z",
     "iopub.status.busy": "2024-03-26T03:05:09.114745Z",
     "iopub.status.idle": "2024-03-26T03:05:09.127478Z",
     "shell.execute_reply": "2024-03-26T03:05:09.126598Z"
    },
    "lines_to_next_cell": 1,
    "papermill": {
     "duration": 0.027075,
     "end_time": "2024-03-26T03:05:09.129813",
     "exception": false,
     "start_time": "2024-03-26T03:05:09.102738",
     "status": "completed"
    },
    "tags": []
   },
   "outputs": [
    {
     "name": "stderr",
     "output_type": "stream",
     "text": [
      "\r",
      "  0%|          | 0/100 [00:00<?, ?it/s]"
     ]
    },
    {
     "name": "stderr",
     "output_type": "stream",
     "text": [
      "\r",
      "100%|██████████| 100/100 [00:00<00:00, 56066.09it/s]"
     ]
    },
    {
     "name": "stderr",
     "output_type": "stream",
     "text": [
      "\n"
     ]
    }
   ],
   "source": [
    "# Recursive solution\n",
    "def bsearch_rec(arr: list[int], target: int) -> int:\n",
    "    def backtrack(low: int, high: int) -> int:\n",
    "        if low > high:\n",
    "            return -1\n",
    "        else:\n",
    "            mid = (low + high) // 2\n",
    "            if arr[mid] == target:\n",
    "                return mid\n",
    "            elif target < arr[mid]:\n",
    "                return backtrack(low, mid - 1)\n",
    "            else:\n",
    "                return backtrack(mid + 1, high)\n",
    "\n",
    "    return backtrack(0, len(arr) - 1)\n",
    "\n",
    "for i in tqdm.tqdm(range(100)):\n",
    "    temp = random.sample(list(range(15, 30)), random.randint(1, 15))\n",
    "    temp.sort()\n",
    "    j = random.randint(0, 45)\n",
    "    assert bsearch_rec(temp, j) == lsearch(temp, j), f\"failed for {temp}, {j}\""
   ]
  },
  {
   "cell_type": "markdown",
   "id": "1f2d9f50",
   "metadata": {
    "papermill": {
     "duration": 0.011096,
     "end_time": "2024-03-26T03:05:09.151915",
     "exception": false,
     "start_time": "2024-03-26T03:05:09.140819",
     "status": "completed"
    },
    "tags": []
   },
   "source": [
    "Video Link: https://www.youtube.com/watch?v=6zhGS79oQ4k&list=PLgUwDviBIf0oF6QL8m22w1hIDC1vJ_BHz&index=46\n",
    "Implement lower / bound"
   ]
  },
  {
   "cell_type": "code",
   "execution_count": 5,
   "id": "f23024a2",
   "metadata": {
    "execution": {
     "iopub.execute_input": "2024-03-26T03:05:09.175843Z",
     "iopub.status.busy": "2024-03-26T03:05:09.175129Z",
     "iopub.status.idle": "2024-03-26T03:05:09.185144Z",
     "shell.execute_reply": "2024-03-26T03:05:09.184269Z"
    },
    "lines_to_next_cell": 1,
    "papermill": {
     "duration": 0.024676,
     "end_time": "2024-03-26T03:05:09.187613",
     "exception": false,
     "start_time": "2024-03-26T03:05:09.162937",
     "status": "completed"
    },
    "tags": []
   },
   "outputs": [
    {
     "data": {
      "text/plain": [
       "5"
      ]
     },
     "execution_count": 5,
     "metadata": {},
     "output_type": "execute_result"
    }
   ],
   "source": [
    "# Lower bound with Linear Search\n",
    "def lower_bound_linear(arr: list[int], target: int) -> int:\n",
    "    N = len(arr)\n",
    "    for i in range(N):\n",
    "        if arr[i] >= target:\n",
    "            return i\n",
    "    return N\n",
    "\n",
    "lower_bound_linear([3, 5, 8, 15, 19], 20)"
   ]
  },
  {
   "cell_type": "code",
   "execution_count": 6,
   "id": "a0b8bf3a",
   "metadata": {
    "execution": {
     "iopub.execute_input": "2024-03-26T03:05:09.211708Z",
     "iopub.status.busy": "2024-03-26T03:05:09.210999Z",
     "iopub.status.idle": "2024-03-26T03:05:09.225254Z",
     "shell.execute_reply": "2024-03-26T03:05:09.224362Z"
    },
    "lines_to_next_cell": 1,
    "papermill": {
     "duration": 0.028815,
     "end_time": "2024-03-26T03:05:09.227604",
     "exception": false,
     "start_time": "2024-03-26T03:05:09.198789",
     "status": "completed"
    },
    "tags": []
   },
   "outputs": [
    {
     "name": "stderr",
     "output_type": "stream",
     "text": [
      "\r",
      "  0%|          | 0/200 [00:00<?, ?it/s]"
     ]
    },
    {
     "name": "stderr",
     "output_type": "stream",
     "text": [
      "\r",
      "100%|██████████| 200/200 [00:00<00:00, 59645.96it/s]"
     ]
    },
    {
     "name": "stderr",
     "output_type": "stream",
     "text": [
      "\n"
     ]
    }
   ],
   "source": [
    "def lower_bound_binary(arr: list[int], target: int):\n",
    "    N = len(arr)\n",
    "    low, high = 0, N - 1\n",
    "    while low <= high:\n",
    "        mid = (low + high) // 2\n",
    "        if arr[mid - 1] < target and arr[mid] >= target:\n",
    "            return mid\n",
    "        elif arr[mid] >= target:\n",
    "            high = mid - 1\n",
    "        else:\n",
    "            low = mid + 1\n",
    "    else:\n",
    "        return 0 if target <= arr[0] else N\n",
    "\n",
    "for i in tqdm.tqdm(range(200)):\n",
    "    temp = random.choices(list(range(100, 200)), k=random.randint(1, 50))\n",
    "    temp.sort()\n",
    "    j = random.randint(95, 205)\n",
    "    assert lower_bound_binary(temp, j) == lower_bound_linear(temp, j), f\"failed for {temp}, {j}\""
   ]
  },
  {
   "cell_type": "code",
   "execution_count": 7,
   "id": "6609aa48",
   "metadata": {
    "execution": {
     "iopub.execute_input": "2024-03-26T03:05:09.252269Z",
     "iopub.status.busy": "2024-03-26T03:05:09.251679Z",
     "iopub.status.idle": "2024-03-26T03:05:09.258752Z",
     "shell.execute_reply": "2024-03-26T03:05:09.257863Z"
    },
    "lines_to_next_cell": 1,
    "papermill": {
     "duration": 0.022513,
     "end_time": "2024-03-26T03:05:09.261659",
     "exception": false,
     "start_time": "2024-03-26T03:05:09.239146",
     "status": "completed"
    },
    "tags": []
   },
   "outputs": [
    {
     "data": {
      "text/plain": [
       "4"
      ]
     },
     "execution_count": 7,
     "metadata": {},
     "output_type": "execute_result"
    }
   ],
   "source": [
    "# Upper bound - Brute O(N)\n",
    "def upper_bound_linear(arr: list[int], target: int) -> int:\n",
    "    N = len(arr)\n",
    "    for i in range(N):\n",
    "        if arr[i] > target:\n",
    "            return i\n",
    "    return N\n",
    "\n",
    "upper_bound_linear([3, 5, 8, 15, 19, 19], 15)"
   ]
  },
  {
   "cell_type": "code",
   "execution_count": 8,
   "id": "4606b347",
   "metadata": {
    "execution": {
     "iopub.execute_input": "2024-03-26T03:05:09.286192Z",
     "iopub.status.busy": "2024-03-26T03:05:09.285499Z",
     "iopub.status.idle": "2024-03-26T03:05:09.299623Z",
     "shell.execute_reply": "2024-03-26T03:05:09.298791Z"
    },
    "lines_to_next_cell": 1,
    "papermill": {
     "duration": 0.028974,
     "end_time": "2024-03-26T03:05:09.301923",
     "exception": false,
     "start_time": "2024-03-26T03:05:09.272949",
     "status": "completed"
    },
    "tags": []
   },
   "outputs": [
    {
     "name": "stderr",
     "output_type": "stream",
     "text": [
      "\r",
      "  0%|          | 0/200 [00:00<?, ?it/s]"
     ]
    },
    {
     "name": "stderr",
     "output_type": "stream",
     "text": [
      "\r",
      "100%|██████████| 200/200 [00:00<00:00, 56144.89it/s]"
     ]
    },
    {
     "name": "stdout",
     "output_type": "stream",
     "text": [
      "0\n",
      "5\n"
     ]
    },
    {
     "name": "stderr",
     "output_type": "stream",
     "text": [
      "\n"
     ]
    }
   ],
   "source": [
    "# Binary Search\n",
    "def upper_bound_binary(arr: list[int], target: int) -> int:\n",
    "    N = len(arr)\n",
    "    low, high = 0, N - 1\n",
    "    while low <= high:\n",
    "        mid = (low + high) // 2\n",
    "        if arr[mid] > target and arr[mid - 1] <= target:\n",
    "            return mid\n",
    "        elif arr[mid] <= target:\n",
    "            low = mid + 1\n",
    "        else:\n",
    "            high = mid - 1\n",
    "    else:\n",
    "        return 0 if target < arr[0] else N\n",
    "\n",
    "for i in tqdm.tqdm(range(200)):\n",
    "    temp = random.choices(list(range(100, 200)), k=random.randint(1, 50))\n",
    "    temp.sort()\n",
    "    j = random.randint(95, 205)\n",
    "    assert upper_bound_binary(temp, j) == upper_bound_linear(temp, j), f\"failed for {temp}, {j}\"\n",
    "\n",
    "# Note the difference between the UB / LB\n",
    "print(lower_bound_binary([1, 1, 1, 1, 1], 1))\n",
    "print(upper_bound_binary([1, 1, 1, 1, 1], 1))"
   ]
  },
  {
   "cell_type": "markdown",
   "id": "5e497680",
   "metadata": {
    "papermill": {
     "duration": 0.011496,
     "end_time": "2024-03-26T03:05:09.325127",
     "exception": false,
     "start_time": "2024-03-26T03:05:09.313631",
     "status": "completed"
    },
    "tags": []
   },
   "source": [
    "Much more intutive approach by Striver:\n",
    "Retain a variable ans to N, update this variable when:\n",
    "arr[mid] >= target - Lower bound\n",
    "arr[mid] > target - Upper bound"
   ]
  },
  {
   "cell_type": "code",
   "execution_count": 9,
   "id": "8abcbf56",
   "metadata": {
    "execution": {
     "iopub.execute_input": "2024-03-26T03:05:09.350528Z",
     "iopub.status.busy": "2024-03-26T03:05:09.349966Z",
     "iopub.status.idle": "2024-03-26T03:05:09.357911Z",
     "shell.execute_reply": "2024-03-26T03:05:09.357090Z"
    },
    "lines_to_next_cell": 1,
    "papermill": {
     "duration": 0.023034,
     "end_time": "2024-03-26T03:05:09.359794",
     "exception": false,
     "start_time": "2024-03-26T03:05:09.336760",
     "status": "completed"
    },
    "tags": []
   },
   "outputs": [
    {
     "data": {
      "text/plain": [
       "0"
      ]
     },
     "execution_count": 9,
     "metadata": {},
     "output_type": "execute_result"
    }
   ],
   "source": [
    "# Lower bound Binary (Striver's approach)\n",
    "def lower_bound_striver(arr: list[int], target: int) -> int:\n",
    "    \"Smallest index, greater than or equal to target\"\n",
    "    N = len(arr)\n",
    "    low, high, ans = 0, N - 1, N\n",
    "    while low <= high:\n",
    "        mid = (low + high) // 2\n",
    "        if arr[mid] >= target:\n",
    "            ans = mid\n",
    "            high = mid - 1\n",
    "        else:\n",
    "            low = mid + 1\n",
    "\n",
    "    return ans\n",
    "\n",
    "lower_bound_striver([1, 1, 1, 1], 1)"
   ]
  },
  {
   "cell_type": "code",
   "execution_count": 10,
   "id": "5ab0dd9c",
   "metadata": {
    "execution": {
     "iopub.execute_input": "2024-03-26T03:05:09.386463Z",
     "iopub.status.busy": "2024-03-26T03:05:09.385833Z",
     "iopub.status.idle": "2024-03-26T03:05:09.393746Z",
     "shell.execute_reply": "2024-03-26T03:05:09.392943Z"
    },
    "lines_to_next_cell": 1,
    "papermill": {
     "duration": 0.023117,
     "end_time": "2024-03-26T03:05:09.395546",
     "exception": false,
     "start_time": "2024-03-26T03:05:09.372429",
     "status": "completed"
    },
    "tags": []
   },
   "outputs": [
    {
     "data": {
      "text/plain": [
       "4"
      ]
     },
     "execution_count": 10,
     "metadata": {},
     "output_type": "execute_result"
    }
   ],
   "source": [
    "# Upper bound Binary (Striver's approach)\n",
    "def upper_bound_striver(arr: list[int], target: int) -> int:\n",
    "    \"Smallest index, greater than target\"\n",
    "    N = len(arr)\n",
    "    low, high, ans = 0, N - 1, N\n",
    "    while low <= high:\n",
    "        mid = (low + high) // 2\n",
    "        if arr[mid] > target:\n",
    "            ans = mid\n",
    "            high = mid - 1\n",
    "        else:\n",
    "            low = mid + 1\n",
    "    return ans\n",
    "\n",
    "upper_bound_striver([1, 1, 1, 1], 1)"
   ]
  },
  {
   "cell_type": "markdown",
   "id": "6df8578a",
   "metadata": {
    "papermill": {
     "duration": 0.011925,
     "end_time": "2024-03-26T03:05:09.419798",
     "exception": false,
     "start_time": "2024-03-26T03:05:09.407873",
     "status": "completed"
    },
    "tags": []
   },
   "source": [
    "Search Insert position"
   ]
  },
  {
   "cell_type": "code",
   "execution_count": 11,
   "id": "e5e48474",
   "metadata": {
    "execution": {
     "iopub.execute_input": "2024-03-26T03:05:09.445528Z",
     "iopub.status.busy": "2024-03-26T03:05:09.444975Z",
     "iopub.status.idle": "2024-03-26T03:05:09.450282Z",
     "shell.execute_reply": "2024-03-26T03:05:09.449500Z"
    },
    "lines_to_next_cell": 1,
    "papermill": {
     "duration": 0.020217,
     "end_time": "2024-03-26T03:05:09.452001",
     "exception": false,
     "start_time": "2024-03-26T03:05:09.431784",
     "status": "completed"
    },
    "tags": []
   },
   "outputs": [],
   "source": [
    "def searchInsert(arr: list[int], target: int) -> int:\n",
    "    \"Lower bound - Smallest index, greater than or equal to target\"\n",
    "    N = len(arr)\n",
    "    low, high, ans = 0, N - 1, N\n",
    "    while low <= high:\n",
    "        mid = (low + high) // 2\n",
    "        if arr[mid] >= target:\n",
    "            ans = mid\n",
    "            high = mid - 1\n",
    "        else:\n",
    "            low = mid + 1\n",
    "\n",
    "    return ans"
   ]
  },
  {
   "cell_type": "code",
   "execution_count": 12,
   "id": "d3f82851",
   "metadata": {
    "execution": {
     "iopub.execute_input": "2024-03-26T03:05:09.478062Z",
     "iopub.status.busy": "2024-03-26T03:05:09.477375Z",
     "iopub.status.idle": "2024-03-26T03:05:09.489303Z",
     "shell.execute_reply": "2024-03-26T03:05:09.488541Z"
    },
    "lines_to_next_cell": 1,
    "papermill": {
     "duration": 0.027001,
     "end_time": "2024-03-26T03:05:09.491061",
     "exception": false,
     "start_time": "2024-03-26T03:05:09.464060",
     "status": "completed"
    },
    "tags": []
   },
   "outputs": [
    {
     "data": {
      "text/plain": [
       "(8, 8)"
      ]
     },
     "execution_count": 12,
     "metadata": {},
     "output_type": "execute_result"
    }
   ],
   "source": [
    "# Floor and Ceil of a target from a given array\n",
    "def getFloorAndCeil(arr: list[int], N: int, target: int):\n",
    "    def brute() -> tuple[int, int]:\n",
    "        \"Brute force solution\"\n",
    "        floor = -1\n",
    "        for i in range(N):\n",
    "            if arr[i] > target:\n",
    "                break\n",
    "            else:\n",
    "                floor = arr[i]\n",
    "\n",
    "        ceil = -1\n",
    "        for i in range(N - 1, -1, -1):\n",
    "            if arr[i] < target:\n",
    "                break\n",
    "            else:\n",
    "                ceil = arr[i]\n",
    "\n",
    "        return floor, ceil\n",
    "\n",
    "    def binary() -> tuple[int, int]:\n",
    "        low, high, LB = 0, N - 1, -1\n",
    "        while low <= high:\n",
    "            mid = (low + high) // 2\n",
    "            if arr[mid] <= target:\n",
    "                LB = arr[mid]\n",
    "                low = mid + 1\n",
    "            else:\n",
    "                high = mid - 1\n",
    "\n",
    "        low, high, UB = 0, N - 1, -1\n",
    "        while low <= high:\n",
    "            mid = (low + high) // 2\n",
    "            if arr[mid] >= target:\n",
    "                UB = arr[mid]\n",
    "                high = mid - 1\n",
    "            else:\n",
    "                low = mid + 1\n",
    "\n",
    "        return LB, UB\n",
    "\n",
    "    return binary()\n",
    "\n",
    "# Testing the solution\n",
    "getFloorAndCeil([3, 4, 4, 7, 8, 10], 6, 8)"
   ]
  },
  {
   "cell_type": "markdown",
   "id": "d066d6da",
   "metadata": {
    "papermill": {
     "duration": 0.011913,
     "end_time": "2024-03-26T03:05:09.515325",
     "exception": false,
     "start_time": "2024-03-26T03:05:09.503412",
     "status": "completed"
    },
    "tags": []
   },
   "source": [
    "Video Link: https://www.youtube.com/watch?v=hjR1IYVx9lY&list=PLgUwDviBIf0oF6QL8m22w1hIDC1vJ_BHz&index=47"
   ]
  },
  {
   "cell_type": "code",
   "execution_count": 13,
   "id": "d11d7af8",
   "metadata": {
    "execution": {
     "iopub.execute_input": "2024-03-26T03:05:09.541003Z",
     "iopub.status.busy": "2024-03-26T03:05:09.540266Z",
     "iopub.status.idle": "2024-03-26T03:05:09.551449Z",
     "shell.execute_reply": "2024-03-26T03:05:09.550693Z"
    },
    "lines_to_next_cell": 1,
    "papermill": {
     "duration": 0.026007,
     "end_time": "2024-03-26T03:05:09.553171",
     "exception": false,
     "start_time": "2024-03-26T03:05:09.527164",
     "status": "completed"
    },
    "tags": []
   },
   "outputs": [
    {
     "data": {
      "text/plain": [
       "(-1, -1)"
      ]
     },
     "execution_count": 13,
     "metadata": {},
     "output_type": "execute_result"
    }
   ],
   "source": [
    "# Coding studio link: https://bit.ly/3Mdw2FX\n",
    "def firstAndLastPosition(arr: list[int], N: int, target: int) -> tuple[int, int]:\n",
    "    def findFirst() -> int:\n",
    "        low, high, ans = 0, N - 1, -1\n",
    "        while low <= high:\n",
    "            mid = (low + high) // 2\n",
    "            if arr[mid] >= target:\n",
    "                if arr[mid] == target:\n",
    "                    ans = mid\n",
    "                high = mid - 1\n",
    "            else:\n",
    "                low = mid + 1\n",
    "\n",
    "        return ans\n",
    "\n",
    "    def findLast() -> int:\n",
    "        low, high, ans = 0, N - 1, -1\n",
    "        while low <= high:\n",
    "            mid = (low + high) // 2\n",
    "            if arr[mid] <= target:\n",
    "                if arr[mid] == target:\n",
    "                    ans = mid\n",
    "                low = mid + 1\n",
    "            else:\n",
    "                high = mid - 1\n",
    "\n",
    "        return ans\n",
    "\n",
    "    first = findFirst()\n",
    "    if first == -1: # If not found, don't have to search again\n",
    "        return first, first\n",
    "    else:\n",
    "        return first, findLast()\n",
    "\n",
    "# Testing the solution\n",
    "firstAndLastPosition([1, 2, 3, 3, 3, 4, 5], 7, 9)"
   ]
  },
  {
   "cell_type": "code",
   "execution_count": 14,
   "id": "44578564",
   "metadata": {
    "execution": {
     "iopub.execute_input": "2024-03-26T03:05:09.579601Z",
     "iopub.status.busy": "2024-03-26T03:05:09.578901Z",
     "iopub.status.idle": "2024-03-26T03:05:09.589535Z",
     "shell.execute_reply": "2024-03-26T03:05:09.588729Z"
    },
    "lines_to_next_cell": 1,
    "papermill": {
     "duration": 0.025872,
     "end_time": "2024-03-26T03:05:09.591313",
     "exception": false,
     "start_time": "2024-03-26T03:05:09.565441",
     "status": "completed"
    },
    "tags": []
   },
   "outputs": [
    {
     "data": {
      "text/plain": [
       "0"
      ]
     },
     "execution_count": 14,
     "metadata": {},
     "output_type": "execute_result"
    }
   ],
   "source": [
    "# Coding Studio link: https://bit.ly/42ZDqM4\n",
    "def count_occurances(arr: list[int], N: int, target: int) -> int:\n",
    "    def findFirst() -> int:\n",
    "        low, high, ans = 0, N - 1, -1\n",
    "        while low <= high:\n",
    "            mid = (low + high) // 2\n",
    "            if arr[mid] >= target:\n",
    "                if arr[mid] == target:\n",
    "                    ans = mid\n",
    "                high = mid - 1\n",
    "            else:\n",
    "                low = mid + 1\n",
    "\n",
    "        return ans\n",
    "\n",
    "    def findLast() -> int:\n",
    "        low, high, ans = 0, N - 1, -1\n",
    "        while low <= high:\n",
    "            mid = (low + high) // 2\n",
    "            if arr[mid] <= target:\n",
    "                if arr[mid] == target:\n",
    "                    ans = mid\n",
    "                low = mid + 1\n",
    "            else:\n",
    "                high = mid - 1\n",
    "\n",
    "        return ans\n",
    "\n",
    "    firstIdx = findFirst()\n",
    "    if firstIdx == -1:\n",
    "        return 0\n",
    "    else:\n",
    "        return findLast() - firstIdx + 1\n",
    "\n",
    "# Testing the solution\n",
    "count_occurances([1, 2, 2, 3, 4, 4, 4, 5, 6], 9, 9)"
   ]
  },
  {
   "cell_type": "markdown",
   "id": "7ae08467",
   "metadata": {
    "papermill": {
     "duration": 0.012604,
     "end_time": "2024-03-26T03:05:09.616815",
     "exception": false,
     "start_time": "2024-03-26T03:05:09.604211",
     "status": "completed"
    },
    "tags": []
   },
   "source": [
    "Video Link: https://www.youtube.com/watch?v=5qGrJbHhqFs&list=PLgUwDviBIf0oF6QL8m22w1hIDC1vJ_BHz&index=48\n",
    "Search in a rotated sorted array: https://leetcode.com/problems/search-in-rotated-sorted-array/"
   ]
  },
  {
   "cell_type": "code",
   "execution_count": 15,
   "id": "07fd3a6e",
   "metadata": {
    "execution": {
     "iopub.execute_input": "2024-03-26T03:05:09.643921Z",
     "iopub.status.busy": "2024-03-26T03:05:09.643291Z",
     "iopub.status.idle": "2024-03-26T03:05:09.652987Z",
     "shell.execute_reply": "2024-03-26T03:05:09.652190Z"
    },
    "lines_to_next_cell": 1,
    "papermill": {
     "duration": 0.025175,
     "end_time": "2024-03-26T03:05:09.654687",
     "exception": false,
     "start_time": "2024-03-26T03:05:09.629512",
     "status": "completed"
    },
    "tags": []
   },
   "outputs": [
    {
     "data": {
      "text/plain": [
       "8"
      ]
     },
     "execution_count": 15,
     "metadata": {},
     "output_type": "execute_result"
    }
   ],
   "source": [
    "def search_rotated_sorted1(arr: list[int], target: int) -> int:\n",
    "    N = len(arr)\n",
    "    low, high = 0, N - 1\n",
    "    while low <= high:\n",
    "        mid = (low + high) // 2\n",
    "        if arr[mid] == target:\n",
    "            return mid\n",
    "\n",
    "        # Left half is sorted\n",
    "        elif arr[low] <= arr[mid]:\n",
    "            # Element can be found in the left half\n",
    "            if arr[low] <= target <= arr[mid]:\n",
    "                high = mid - 1\n",
    "            else:\n",
    "                low = mid + 1\n",
    "\n",
    "        # Right half is sorted\n",
    "        else:\n",
    "            # Element can be found in the right half\n",
    "            if arr[mid] <= target <= arr[high]:\n",
    "                low = mid + 1\n",
    "            else:\n",
    "                high = mid - 1\n",
    "    else:\n",
    "        return -1\n",
    "\n",
    "search_rotated_sorted1([7, 8, 9, 1, 2, 3, 4, 5, 6], 6)"
   ]
  },
  {
   "cell_type": "markdown",
   "id": "fd5e97f9",
   "metadata": {
    "papermill": {
     "duration": 0.012508,
     "end_time": "2024-03-26T03:05:09.679905",
     "exception": false,
     "start_time": "2024-03-26T03:05:09.667397",
     "status": "completed"
    },
    "tags": []
   },
   "source": [
    "Video Link: https://www.youtube.com/watch?v=w2G2W8l__pc&list=PLgUwDviBIf0oF6QL8m22w1hIDC1vJ_BHz&index=49\n",
    "Search in rotated sorted arrays (with duplicates)\n",
    "Leetcode link: https://leetcode.com/problems/search-in-rotated-sorted-array-ii/submissions/1210474431/"
   ]
  },
  {
   "cell_type": "code",
   "execution_count": 16,
   "id": "310f82f5",
   "metadata": {
    "execution": {
     "iopub.execute_input": "2024-03-26T03:05:09.706918Z",
     "iopub.status.busy": "2024-03-26T03:05:09.706188Z",
     "iopub.status.idle": "2024-03-26T03:05:09.716738Z",
     "shell.execute_reply": "2024-03-26T03:05:09.716027Z"
    },
    "lines_to_next_cell": 1,
    "papermill": {
     "duration": 0.026098,
     "end_time": "2024-03-26T03:05:09.718519",
     "exception": false,
     "start_time": "2024-03-26T03:05:09.692421",
     "status": "completed"
    },
    "tags": []
   },
   "outputs": [
    {
     "data": {
      "text/plain": [
       "True"
      ]
     },
     "execution_count": 16,
     "metadata": {},
     "output_type": "execute_result"
    }
   ],
   "source": [
    "# Time complexity: O(n / 2)\n",
    "# If there are a lot of duplicates we might need to need to trim the left/right\n",
    "# repeatedly until arr[left] != arr[mid] != arr[right]\n",
    "def search_rotated_sorted2(arr: list[int], target: int) -> bool:\n",
    "    N = len(arr)\n",
    "    low, high = 0, N - 1\n",
    "    while low <= high:\n",
    "        mid = (low + high) // 2\n",
    "        if arr[mid] == target:\n",
    "            return True\n",
    "\n",
    "        # Special Case - [3, 1, 2, 3, 3, 3, 3, 3], eliminating left or right is not possible\n",
    "        elif arr[low] == arr[mid] == arr[high]:\n",
    "            low, high = low + 1, high - 1\n",
    "\n",
    "        # Left half is sorted\n",
    "        elif arr[low] <= arr[mid]:\n",
    "            # Element can be found in the left half\n",
    "            if arr[low] <= target <= arr[mid]:\n",
    "                high = mid - 1\n",
    "            else:\n",
    "                low = mid + 1\n",
    "\n",
    "        # Right half is sorted\n",
    "        else:\n",
    "            # Element can be found in the right half\n",
    "            if arr[mid] <= target <= arr[high]:\n",
    "                low = mid + 1\n",
    "            else:\n",
    "                high = mid - 1\n",
    "    else:\n",
    "        return False\n",
    "\n",
    "search_rotated_sorted2([3, 1, 2, 3, 3, 3, 3], 1)"
   ]
  },
  {
   "cell_type": "markdown",
   "id": "6657c71c",
   "metadata": {
    "papermill": {
     "duration": 0.012849,
     "end_time": "2024-03-26T03:05:09.744393",
     "exception": false,
     "start_time": "2024-03-26T03:05:09.731544",
     "status": "completed"
    },
    "tags": []
   },
   "source": [
    "Video Link: https://www.youtube.com/watch?v=nhEMDKMB44g&list=PLgUwDviBIf0oF6QL8m22w1hIDC1vJ_BHz&index=50\n",
    "Leetcode: https://leetcode.com/problems/find-minimum-in-rotated-sorted-array/submissions/1210490796"
   ]
  },
  {
   "cell_type": "code",
   "execution_count": 17,
   "id": "b50d9ac8",
   "metadata": {
    "execution": {
     "iopub.execute_input": "2024-03-26T03:05:09.771832Z",
     "iopub.status.busy": "2024-03-26T03:05:09.771135Z",
     "iopub.status.idle": "2024-03-26T03:05:09.779369Z",
     "shell.execute_reply": "2024-03-26T03:05:09.778524Z"
    },
    "papermill": {
     "duration": 0.023968,
     "end_time": "2024-03-26T03:05:09.781135",
     "exception": false,
     "start_time": "2024-03-26T03:05:09.757167",
     "status": "completed"
    },
    "tags": []
   },
   "outputs": [],
   "source": [
    "class Solution:\n",
    "    def findMin(self, nums: list[int]) -> int:\n",
    "        N = len(nums)\n",
    "        low, high, ans = 0, N - 1, nums[0]\n",
    "        while low <= high:\n",
    "            mid = (low + high) // 2\n",
    "            # Left half and right half is sorted (happens when we have crossed the pivot point or if the array was rotated 0 times)\n",
    "            if nums[low] < nums[mid] < nums[high]:\n",
    "                ans = min(ans, nums[low])\n",
    "                low, high = mid + 1, mid - 1\n",
    "\n",
    "            # Left half is sorted, take the min from left half and trim search space to the right half\n",
    "            elif nums[low] <= nums[mid]:\n",
    "                ans = min(ans, nums[low])\n",
    "                low = mid + 1\n",
    "\n",
    "            # Right half is sorted, take the min from the right half and trim search space to the left half\n",
    "            else:\n",
    "                ans = min(ans, nums[mid])\n",
    "                high = mid - 1\n",
    "\n",
    "        return ans\n",
    "\n",
    "# Testing the solution\n",
    "assert Solution().findMin([3,4,5,1,2]) == 1\n",
    "assert Solution().findMin([4,5,6,7,0,1,2]) == 0\n",
    "assert Solution().findMin([11,13,15,17]) == 11"
   ]
  },
  {
   "cell_type": "markdown",
   "id": "c2e4d69a",
   "metadata": {
    "papermill": {
     "duration": 0.012692,
     "end_time": "2024-03-26T03:05:09.806735",
     "exception": false,
     "start_time": "2024-03-26T03:05:09.794043",
     "status": "completed"
    },
    "tags": []
   },
   "source": [
    "Video Link: https://www.youtube.com/watch?v=jtSiWTPLwd0&list=PLgUwDviBIf0oF6QL8m22w1hIDC1vJ_BHz&index=51\n",
    "Count number of times an array has been rotated"
   ]
  },
  {
   "cell_type": "code",
   "execution_count": 18,
   "id": "f854c012",
   "metadata": {
    "execution": {
     "iopub.execute_input": "2024-03-26T03:05:09.833897Z",
     "iopub.status.busy": "2024-03-26T03:05:09.833213Z",
     "iopub.status.idle": "2024-03-26T03:05:09.840881Z",
     "shell.execute_reply": "2024-03-26T03:05:09.840102Z"
    },
    "papermill": {
     "duration": 0.023334,
     "end_time": "2024-03-26T03:05:09.842671",
     "exception": false,
     "start_time": "2024-03-26T03:05:09.819337",
     "status": "completed"
    },
    "tags": []
   },
   "outputs": [
    {
     "data": {
      "text/plain": [
       "4"
      ]
     },
     "execution_count": 18,
     "metadata": {},
     "output_type": "execute_result"
    }
   ],
   "source": [
    "arr = [2, 3, 4, 5, 1]\n",
    "N = len(arr)\n",
    "low, high, ans = 0, N - 1, 0\n",
    "while low <= high:\n",
    "    mid = (low + high) // 2\n",
    "    if arr[low] <= arr[mid]:\n",
    "        if arr[ans] > arr[low]:\n",
    "            ans = low\n",
    "        low = mid + 1\n",
    "    else:\n",
    "        if arr[ans] > arr[mid]:\n",
    "            ans = mid\n",
    "        high = mid - 1\n",
    "\n",
    "ans"
   ]
  },
  {
   "cell_type": "markdown",
   "id": "5769e9e8",
   "metadata": {
    "papermill": {
     "duration": 0.012767,
     "end_time": "2024-03-26T03:05:09.868597",
     "exception": false,
     "start_time": "2024-03-26T03:05:09.855830",
     "status": "completed"
    },
    "tags": []
   },
   "source": [
    "Video Link: https://www.youtube.com/watch?v=AZOmHuHadxQ&list=PLgUwDviBIf0oF6QL8m22w1hIDC1vJ_BHz&index=52\n",
    "Leetcode link: https://leetcode.com/problems/single-element-in-a-sorted-array/submissions/1211393503"
   ]
  },
  {
   "cell_type": "code",
   "execution_count": 19,
   "id": "1abaf5dd",
   "metadata": {
    "execution": {
     "iopub.execute_input": "2024-03-26T03:05:09.895889Z",
     "iopub.status.busy": "2024-03-26T03:05:09.895256Z",
     "iopub.status.idle": "2024-03-26T03:05:09.901458Z",
     "shell.execute_reply": "2024-03-26T03:05:09.900682Z"
    },
    "papermill": {
     "duration": 0.021807,
     "end_time": "2024-03-26T03:05:09.903215",
     "exception": false,
     "start_time": "2024-03-26T03:05:09.881408",
     "status": "completed"
    },
    "tags": []
   },
   "outputs": [
    {
     "data": {
      "text/plain": [
       "4"
      ]
     },
     "execution_count": 19,
     "metadata": {},
     "output_type": "execute_result"
    }
   ],
   "source": [
    "# Brute force approach\n",
    "# Time - O(N)\n",
    "arr = [1, 1, 2, 2, 3, 3, 4, 5, 5, 6, 6]\n",
    "res = 0\n",
    "for i in arr:\n",
    "    res ^= i\n",
    "res"
   ]
  },
  {
   "cell_type": "code",
   "execution_count": 20,
   "id": "69d77039",
   "metadata": {
    "execution": {
     "iopub.execute_input": "2024-03-26T03:05:09.930589Z",
     "iopub.status.busy": "2024-03-26T03:05:09.929970Z",
     "iopub.status.idle": "2024-03-26T03:05:09.938971Z",
     "shell.execute_reply": "2024-03-26T03:05:09.938097Z"
    },
    "lines_to_next_cell": 1,
    "papermill": {
     "duration": 0.024555,
     "end_time": "2024-03-26T03:05:09.940691",
     "exception": false,
     "start_time": "2024-03-26T03:05:09.916136",
     "status": "completed"
    },
    "tags": []
   },
   "outputs": [
    {
     "data": {
      "text/plain": [
       "4"
      ]
     },
     "execution_count": 20,
     "metadata": {},
     "output_type": "execute_result"
    }
   ],
   "source": [
    "# Better approach: O(log N)\n",
    "\"\"\"\n",
    "[1, 2, 2]\n",
    "[1, 1, 2]\n",
    "[1, 2, 2, 3, 3]\n",
    "[1, 1, 2, 3, 3]\n",
    "[1, 1, 2, 2, 3]\n",
    "[1, 2, 2, 3, 3, 4, 4]\n",
    "[1, 1, 2, 3, 3, 4, 4]\n",
    "[1, 1, 2, 2, 3, 4, 4]\n",
    "[1, 1, 2, 2, 3, 3, 4]\n",
    "# if mid is odd, mid - 1, mid should be same for left to be okay: low = mid + 1 / high = mid + 1\n",
    "# if mid is even, mid, mid + 1 should be the same for left to be okay: low = mid / high = mid\n",
    "\"\"\"\n",
    "arr = [1, 1, 2, 2, 3, 3, 4, 5, 5, 6, 6]\n",
    "N = len(arr)\n",
    "low, high = 0, N - 1\n",
    "while low < high:\n",
    "    mid = (low + high) // 2\n",
    "    if mid % 2 == 0:\n",
    "        if arr[mid] == arr[mid + 1]:\n",
    "            low = mid\n",
    "        else:\n",
    "            high = mid\n",
    "    else:\n",
    "        if arr[mid] == arr[mid - 1]:\n",
    "            low = mid + 1\n",
    "        else:\n",
    "            high = mid - 1\n",
    "\n",
    "arr[low]"
   ]
  },
  {
   "cell_type": "markdown",
   "id": "1879fb32",
   "metadata": {
    "papermill": {
     "duration": 0.013042,
     "end_time": "2024-03-26T03:05:09.966943",
     "exception": false,
     "start_time": "2024-03-26T03:05:09.953901",
     "status": "completed"
    },
    "tags": []
   },
   "source": [
    "Video Link: https://www.youtube.com/watch?v=cXxmbemS6XM&list=PLgUwDviBIf0oF6QL8m22w1hIDC1vJ_BHz&index=53\n",
    "Find Peak element"
   ]
  },
  {
   "cell_type": "code",
   "execution_count": 21,
   "id": "7126b9cc",
   "metadata": {
    "execution": {
     "iopub.execute_input": "2024-03-26T03:05:09.994901Z",
     "iopub.status.busy": "2024-03-26T03:05:09.994306Z",
     "iopub.status.idle": "2024-03-26T03:05:10.001413Z",
     "shell.execute_reply": "2024-03-26T03:05:10.000669Z"
    },
    "lines_to_next_cell": 1,
    "papermill": {
     "duration": 0.023193,
     "end_time": "2024-03-26T03:05:10.003159",
     "exception": false,
     "start_time": "2024-03-26T03:05:09.979966",
     "status": "completed"
    },
    "tags": []
   },
   "outputs": [],
   "source": [
    "def findPeakElement(arr: [int]) -> int:\n",
    "    N = len(arr)\n",
    "    low, high = 0, N - 1\n",
    "    while low <= high:\n",
    "        mid = (low + high) // 2\n",
    "        l, m, r = arr[mid - 1] if mid > 0 else -math.inf, arr[mid], arr[mid + 1] if mid < N - 1 else -math.inf\n",
    "        if l <  m > r:\n",
    "            return mid\n",
    "        elif l < m < r:\n",
    "            low = mid + 1\n",
    "        # handles both cases - l > m > r and l > m < r\n",
    "        # If the case is l > m < r, multiple peak exists, going any dir we would be able to reach a peak\n",
    "        else:\n",
    "            high = mid - 1\n",
    "    return -1\n",
    "\n",
    "# Testing the solution\n",
    "assert findPeakElement([1, 2, 3, 1]) == 2\n",
    "assert findPeakElement([1,2,1,3,5,6,4]) == 5"
   ]
  },
  {
   "cell_type": "markdown",
   "id": "399ae8e1",
   "metadata": {
    "papermill": {
     "duration": 0.013055,
     "end_time": "2024-03-26T03:05:10.057029",
     "exception": false,
     "start_time": "2024-03-26T03:05:10.043974",
     "status": "completed"
    },
    "tags": []
   },
   "source": [
    "Video Link: https://www.youtube.com/watch?v=Bsv3FPUX_BA&list=PLgUwDviBIf0oF6QL8m22w1hIDC1vJ_BHz&index=54\n",
    "Square root of a number using binary search\n",
    "Take home:\n",
    "\n",
    "1. For questions involving patterns where ans is possible uptil a certain extent and post which answers are not possible, we can apply our binary search algorithm (we always know the range of possible answers)\n",
    "2. When we are having regions of possible and not possible like so: [ans, ans, ans, not ans, not ans] - at the end of binary search, low will end up pointing at a position that is 1 greater than the ans (3) while high will end up pointing at the ans (2)"
   ]
  },
  {
   "cell_type": "code",
   "execution_count": 22,
   "id": "64144c7a",
   "metadata": {
    "execution": {
     "iopub.execute_input": "2024-03-26T03:05:10.085668Z",
     "iopub.status.busy": "2024-03-26T03:05:10.084948Z",
     "iopub.status.idle": "2024-03-26T03:05:10.124042Z",
     "shell.execute_reply": "2024-03-26T03:05:10.123153Z"
    },
    "lines_to_next_cell": 1,
    "papermill": {
     "duration": 0.055728,
     "end_time": "2024-03-26T03:05:10.125872",
     "exception": false,
     "start_time": "2024-03-26T03:05:10.070144",
     "status": "completed"
    },
    "tags": []
   },
   "outputs": [
    {
     "name": "stderr",
     "output_type": "stream",
     "text": [
      "\r",
      "  0%|          | 0/10000 [00:00<?, ?it/s]"
     ]
    },
    {
     "name": "stderr",
     "output_type": "stream",
     "text": [
      "\r",
      "100%|██████████| 10000/10000 [00:00<00:00, 331980.18it/s]"
     ]
    },
    {
     "name": "stderr",
     "output_type": "stream",
     "text": [
      "\n"
     ]
    }
   ],
   "source": [
    "def floorSqrt(n: int) -> int:\n",
    "    'Time - O(log n)'\n",
    "    low, high = 1, n\n",
    "    while low <= high:\n",
    "        mid = (low + high) // 2\n",
    "        if mid * mid > n:\n",
    "            high = mid - 1\n",
    "        else:\n",
    "            low = mid + 1\n",
    "\n",
    "    return high\n",
    "\n",
    "# Testing the solution\n",
    "for i in tqdm.tqdm(range(int(1e4))):\n",
    "    assert floorSqrt(i) == int(math.sqrt(i))"
   ]
  },
  {
   "cell_type": "markdown",
   "id": "21ab1eeb",
   "metadata": {
    "papermill": {
     "duration": 0.013081,
     "end_time": "2024-03-26T03:05:10.152510",
     "exception": false,
     "start_time": "2024-03-26T03:05:10.139429",
     "status": "completed"
    },
    "tags": []
   },
   "source": [
    "Video Link: https://www.youtube.com/watch?v=rjEJeYCasHs&list=PLgUwDviBIf0oF6QL8m22w1hIDC1vJ_BHz&index=55\n",
    "Find Nth root of an integer"
   ]
  },
  {
   "cell_type": "code",
   "execution_count": 23,
   "id": "8e8ba6e9",
   "metadata": {
    "execution": {
     "iopub.execute_input": "2024-03-26T03:05:10.180875Z",
     "iopub.status.busy": "2024-03-26T03:05:10.180183Z",
     "iopub.status.idle": "2024-03-26T03:05:10.185858Z",
     "shell.execute_reply": "2024-03-26T03:05:10.185047Z"
    },
    "lines_to_next_cell": 1,
    "papermill": {
     "duration": 0.021762,
     "end_time": "2024-03-26T03:05:10.187514",
     "exception": false,
     "start_time": "2024-03-26T03:05:10.165752",
     "status": "completed"
    },
    "tags": []
   },
   "outputs": [],
   "source": [
    "# Brute force\n",
    "def NthRoot_brute(n: int, m: int) -> int:\n",
    "    \"Brute force - O(m * n)\"\n",
    "    for i in range(m):\n",
    "        curr = 1\n",
    "        for _ in range(n):\n",
    "            curr *= i\n",
    "            if curr > m:\n",
    "                break\n",
    "        if curr == m:\n",
    "            return i\n",
    "        elif curr > m:\n",
    "            break\n",
    "    return -1\n",
    "\n",
    "# Testing the solution\n",
    "assert NthRoot_brute(3, 27) == 3\n",
    "assert NthRoot_brute(4, 69) == -1"
   ]
  },
  {
   "cell_type": "code",
   "execution_count": 24,
   "id": "accd0d1c",
   "metadata": {
    "execution": {
     "iopub.execute_input": "2024-03-26T03:05:10.215991Z",
     "iopub.status.busy": "2024-03-26T03:05:10.215413Z",
     "iopub.status.idle": "2024-03-26T03:05:10.221648Z",
     "shell.execute_reply": "2024-03-26T03:05:10.220850Z"
    },
    "lines_to_next_cell": 1,
    "papermill": {
     "duration": 0.022397,
     "end_time": "2024-03-26T03:05:10.223413",
     "exception": false,
     "start_time": "2024-03-26T03:05:10.201016",
     "status": "completed"
    },
    "tags": []
   },
   "outputs": [],
   "source": [
    "# Optimal - Binary Search\n",
    "def NthRoot_binary(n: int, m: int) -> int:\n",
    "    \"Using binary search - O(log m * n)\"\n",
    "    low, high = 0, m\n",
    "    while low <= high:\n",
    "        mid = (low + high) // 2\n",
    "\n",
    "        curr = 1\n",
    "        for _ in range(n):\n",
    "            curr *= mid\n",
    "            if curr > m:\n",
    "                break\n",
    "\n",
    "        if curr == m:\n",
    "            return mid\n",
    "        elif curr < m:\n",
    "            low = mid + 1\n",
    "        else:\n",
    "            high = mid - 1\n",
    "\n",
    "    return -1\n",
    "\n",
    "# Testing the solution\n",
    "assert NthRoot_binary(3, 27) == 3\n",
    "assert NthRoot_binary(4, 69) == -1"
   ]
  },
  {
   "cell_type": "markdown",
   "id": "201c8d96",
   "metadata": {
    "papermill": {
     "duration": 0.013275,
     "end_time": "2024-03-26T03:05:10.250077",
     "exception": false,
     "start_time": "2024-03-26T03:05:10.236802",
     "status": "completed"
    },
    "tags": []
   },
   "source": [
    "Video link: https://youtu.be/qyfekrNni90?si=N28mkp8Cyx4lvNIq  \n",
    "Problem: Koko eating bananas"
   ]
  },
  {
   "cell_type": "code",
   "execution_count": 25,
   "id": "24fcadf8",
   "metadata": {
    "execution": {
     "iopub.execute_input": "2024-03-26T03:05:10.278970Z",
     "iopub.status.busy": "2024-03-26T03:05:10.278302Z",
     "iopub.status.idle": "2024-03-26T03:05:10.284233Z",
     "shell.execute_reply": "2024-03-26T03:05:10.283416Z"
    },
    "lines_to_next_cell": 1,
    "papermill": {
     "duration": 0.022299,
     "end_time": "2024-03-26T03:05:10.285929",
     "exception": false,
     "start_time": "2024-03-26T03:05:10.263630",
     "status": "completed"
    },
    "tags": []
   },
   "outputs": [],
   "source": [
    "# Brute force solution: O(v * h)\n",
    "def minimumRateToEatBananas_brute(v: list[int], h: int) -> int:\n",
    "    m, min_hours = 0, sum(v)\n",
    "    while min_hours > h:\n",
    "        m += 1\n",
    "        min_hours = 0\n",
    "        for p in v:\n",
    "            min_hours += math.ceil(p / m)\n",
    "\n",
    "    return m\n",
    "\n",
    "# Testing the solution\n",
    "assert minimumRateToEatBananas_brute([7, 15, 6, 3], 8) == 5\n",
    "assert minimumRateToEatBananas_brute([25, 12, 8, 14, 19], 5) == 25"
   ]
  },
  {
   "cell_type": "code",
   "execution_count": 26,
   "id": "77605b2a",
   "metadata": {
    "execution": {
     "iopub.execute_input": "2024-03-26T03:05:10.315352Z",
     "iopub.status.busy": "2024-03-26T03:05:10.314697Z",
     "iopub.status.idle": "2024-03-26T03:05:10.322713Z",
     "shell.execute_reply": "2024-03-26T03:05:10.321789Z"
    },
    "lines_to_next_cell": 1,
    "papermill": {
     "duration": 0.024604,
     "end_time": "2024-03-26T03:05:10.324423",
     "exception": false,
     "start_time": "2024-03-26T03:05:10.299819",
     "status": "completed"
    },
    "tags": []
   },
   "outputs": [],
   "source": [
    "# Better solution\n",
    "def minimumRateToEatBananas_better(v: list[int], h: int) -> int:\n",
    "    def compute_hours(m: int) -> int:\n",
    "        \"Assumes piles is sorted in asc order\"\n",
    "        V = N # Copy N for modification\n",
    "        hours = 0\n",
    "        while v[V - 1] > m and V > 0:\n",
    "            hours += math.ceil(v[V - 1] / m)\n",
    "            V -= 1\n",
    "\n",
    "        return hours + V\n",
    "\n",
    "    N = len(v)\n",
    "\n",
    "    # Time: O(v log v)\n",
    "    v.sort()\n",
    "\n",
    "    # Binary search\n",
    "    low, high = 1, v[-1]\n",
    "    while low <= high:\n",
    "        mid = (low + high) // 2\n",
    "        curr = compute_hours(mid)\n",
    "        if curr > h:\n",
    "            low = mid + 1\n",
    "        else:\n",
    "            high = mid - 1\n",
    "\n",
    "    return low\n",
    "\n",
    "# Testing the solution\n",
    "assert minimumRateToEatBananas_better([9], 2) == 5\n",
    "assert minimumRateToEatBananas_better([7, 15, 6, 3], 8) == 5\n",
    "assert minimumRateToEatBananas_better([25, 12, 8, 14, 19], 5) == 25"
   ]
  },
  {
   "cell_type": "markdown",
   "id": "81512acb",
   "metadata": {
    "papermill": {
     "duration": 0.013256,
     "end_time": "2024-03-26T03:05:10.351192",
     "exception": false,
     "start_time": "2024-03-26T03:05:10.337936",
     "status": "completed"
    },
    "tags": []
   },
   "source": [
    "Video Link: https://www.youtube.com/watch?v=TXAuxeYBTdg&list=PLgUwDviBIf0oF6QL8m22w1hIDC1vJ_BHz&index=57\n",
    "Minimum days to make M boquets"
   ]
  },
  {
   "cell_type": "code",
   "execution_count": 27,
   "id": "76ca4e35",
   "metadata": {
    "execution": {
     "iopub.execute_input": "2024-03-26T03:05:10.379940Z",
     "iopub.status.busy": "2024-03-26T03:05:10.379301Z",
     "iopub.status.idle": "2024-03-26T03:05:10.388806Z",
     "shell.execute_reply": "2024-03-26T03:05:10.388107Z"
    },
    "lines_to_next_cell": 1,
    "papermill": {
     "duration": 0.026041,
     "end_time": "2024-03-26T03:05:10.390560",
     "exception": false,
     "start_time": "2024-03-26T03:05:10.364519",
     "status": "completed"
    },
    "tags": []
   },
   "outputs": [],
   "source": [
    "# Solution link: https://leetcode.com/problems/minimum-number-of-days-to-make-m-bouquets/submissions/1213963810\n",
    "class Solution:\n",
    "    def minDays(self, bloomDay: list[int], m: int, k: int) -> int:\n",
    "        def countBoquets(day: int) -> int:\n",
    "            \"Count boquets in O(N) time\"\n",
    "            flower_count, boquet_count = 0, 0\n",
    "            for i in range(N):\n",
    "                if bloomDay[i] <= day:\n",
    "                    flower_count += 1\n",
    "                else:\n",
    "                    flower_count = 0\n",
    "\n",
    "                if flower_count == k:\n",
    "                    boquet_count += 1\n",
    "                    flower_count = 0\n",
    "\n",
    "            return boquet_count\n",
    "\n",
    "        N = len(bloomDay)\n",
    "\n",
    "        answer_range = sorted(set(bloomDay))\n",
    "        answer_range_length = len(answer_range)\n",
    "        low, high = 0, answer_range_length - 1\n",
    "        while low <= high:\n",
    "            mid = (low + high) // 2\n",
    "            boquet_count = countBoquets(answer_range[mid])\n",
    "            if boquet_count >= m:\n",
    "                high = mid - 1\n",
    "            else:\n",
    "                low = mid + 1\n",
    "\n",
    "        return answer_range[low] if low < answer_range_length else -1\n",
    "\n",
    "# Testing the solution\n",
    "assert Solution().minDays([1,10,3,10,2], 3, 1) == 3\n",
    "assert Solution().minDays([1,10,3,10,2], 3, 2) == -1\n",
    "assert Solution().minDays([7,7,7,7,12,7,7], 2, 3) == 12"
   ]
  },
  {
   "cell_type": "markdown",
   "id": "03f3ffa2",
   "metadata": {
    "papermill": {
     "duration": 0.01315,
     "end_time": "2024-03-26T03:05:10.417410",
     "exception": false,
     "start_time": "2024-03-26T03:05:10.404260",
     "status": "completed"
    },
    "tags": []
   },
   "source": [
    "Video Link: https://www.youtube.com/watch?v=UvBKTVaG6U8&list=PLgUwDviBIf0oF6QL8m22w1hIDC1vJ_BHz&index=58\n",
    "Smallest divisor given the threshold"
   ]
  },
  {
   "cell_type": "code",
   "execution_count": 28,
   "id": "fbac3ba5",
   "metadata": {
    "execution": {
     "iopub.execute_input": "2024-03-26T03:05:10.445248Z",
     "iopub.status.busy": "2024-03-26T03:05:10.444583Z",
     "iopub.status.idle": "2024-03-26T03:05:10.452105Z",
     "shell.execute_reply": "2024-03-26T03:05:10.451413Z"
    },
    "lines_to_next_cell": 1,
    "papermill": {
     "duration": 0.023436,
     "end_time": "2024-03-26T03:05:10.453807",
     "exception": false,
     "start_time": "2024-03-26T03:05:10.430371",
     "status": "completed"
    },
    "tags": []
   },
   "outputs": [],
   "source": [
    "# Solution Link: https://leetcode.com/problems/find-the-smallest-divisor-given-a-threshold/submissions/1213975584\n",
    "class Solution:\n",
    "    def smallestDivisor(self, nums: list[int], threshold: int) -> int:\n",
    "        def calcThresh(divisor: int) -> int:\n",
    "            thresh = 0\n",
    "            for n in nums:\n",
    "                thresh += math.ceil(n / divisor)\n",
    "            return thresh\n",
    "\n",
    "        N = len(nums)\n",
    "        low, high = 1, max(nums)\n",
    "        while low <= high:\n",
    "            mid = (low + high) // 2\n",
    "            if calcThresh(mid) <= threshold:\n",
    "                high = mid - 1\n",
    "            else:\n",
    "                low = mid + 1\n",
    "\n",
    "        return low\n",
    "\n",
    "# Testing the solution\n",
    "assert Solution().smallestDivisor([1,2,5,9], 6) == 5\n",
    "assert Solution().smallestDivisor([44,22,33,11,1], 5) == 44\n",
    "assert Solution().smallestDivisor([21212,10101,12121], 1000000) == 1"
   ]
  },
  {
   "cell_type": "markdown",
   "id": "01e65497",
   "metadata": {
    "papermill": {
     "duration": 0.012964,
     "end_time": "2024-03-26T03:05:10.479982",
     "exception": false,
     "start_time": "2024-03-26T03:05:10.467018",
     "status": "completed"
    },
    "tags": []
   },
   "source": [
    "Video Link: https://www.youtube.com/watch?v=MG-Ac4TAvTY&list=PLgUwDviBIf0oF6QL8m22w1hIDC1vJ_BHz&index=59\n",
    "Capacity to ship packages in D Days"
   ]
  },
  {
   "cell_type": "code",
   "execution_count": 29,
   "id": "48336458",
   "metadata": {
    "execution": {
     "iopub.execute_input": "2024-03-26T03:05:10.508224Z",
     "iopub.status.busy": "2024-03-26T03:05:10.507472Z",
     "iopub.status.idle": "2024-03-26T03:05:10.516110Z",
     "shell.execute_reply": "2024-03-26T03:05:10.515439Z"
    },
    "papermill": {
     "duration": 0.024815,
     "end_time": "2024-03-26T03:05:10.517783",
     "exception": false,
     "start_time": "2024-03-26T03:05:10.492968",
     "status": "completed"
    },
    "tags": []
   },
   "outputs": [],
   "source": [
    "# Problem link: https://leetcode.com/problems/capacity-to-ship-packages-within-d-days/submissions/1214006136\n",
    "class Solution:\n",
    "    def shipWithinDays(self, weights: list[int], days: int) -> int:\n",
    "        def countDays(capacity: int) -> int:\n",
    "            day_count = 0\n",
    "            weight = 0\n",
    "            for w in weights:\n",
    "                if weight + w <= capacity:\n",
    "                    weight += w\n",
    "                else:\n",
    "                    day_count += 1\n",
    "                    weight = w\n",
    "\n",
    "            return day_count + 1\n",
    "\n",
    "        # Sort the weights\n",
    "        N = len(weights)\n",
    "\n",
    "        # Min, max possibile answer - Binary search\n",
    "        low, high = max(weights), sum(weights)\n",
    "        while low <= high:\n",
    "            mid = (low + high) // 2\n",
    "            day_count = countDays(mid)\n",
    "            if day_count <= days:\n",
    "                high = mid - 1\n",
    "            else:\n",
    "                low = mid + 1\n",
    "\n",
    "        return low\n",
    "\n",
    "# Testing the solution\n",
    "assert Solution().shipWithinDays([1,2,3,4,5,6,7,8,9,10], 5) == 15\n",
    "assert Solution().shipWithinDays([3,2,2,4,1,4], 3) == 6\n",
    "assert Solution().shipWithinDays([1,2,3,1,1], 4) == 3"
   ]
  }
 ],
 "metadata": {
  "kernelspec": {
   "display_name": "Python 3 (ipykernel)",
   "language": "python",
   "name": "python3"
  },
  "language_info": {
   "codemirror_mode": {
    "name": "ipython",
    "version": 3
   },
   "file_extension": ".py",
   "mimetype": "text/x-python",
   "name": "python",
   "nbconvert_exporter": "python",
   "pygments_lexer": "ipython3",
   "version": "3.10.14"
  },
  "papermill": {
   "default_parameters": {},
   "duration": 2.980766,
   "end_time": "2024-03-26T03:05:10.748681",
   "environment_variables": {},
   "exception": null,
   "input_path": "study/striver-A2Z/09-binary-search.ipynb",
   "output_path": "study/striver-A2Z/09-binary-search.ipynb",
   "parameters": {},
   "start_time": "2024-03-26T03:05:07.767915",
   "version": "2.5.0"
  }
 },
 "nbformat": 4,
 "nbformat_minor": 5
}