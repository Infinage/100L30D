{
 "cells": [
  {
   "cell_type": "markdown",
   "id": "39385271",
   "metadata": {
    "papermill": {
     "duration": 0.007174,
     "end_time": "2024-03-21T03:04:04.614139",
     "exception": false,
     "start_time": "2024-03-21T03:04:04.606965",
     "status": "completed"
    }
   },
   "source": [
    "Some useful imports"
   ]
  },
  {
   "cell_type": "code",
   "execution_count": null,
   "id": "fd129096",
   "metadata": {
    "lines_to_next_cell": 1,
    "papermill": {
     "duration": 0.021209,
     "end_time": "2024-03-21T03:04:04.640684",
     "exception": false,
     "start_time": "2024-03-21T03:04:04.619475",
     "status": "completed"
    }
   },
   "outputs": [],
   "source": [
    "import math\n",
    "import random\n",
    "import functools\n",
    "import itertools\n",
    "import tqdm\n",
    "import pdb"
   ]
  },
  {
   "cell_type": "markdown",
   "id": "1b645c9d",
   "metadata": {
    "papermill": {
     "duration": 0.004931,
     "end_time": "2024-03-21T03:04:04.652025",
     "exception": false,
     "start_time": "2024-03-21T03:04:04.647094",
     "status": "completed"
    }
   },
   "source": [
    "Video Link: https://www.youtube.com/watch?v=MHf6awe89xw&list=PLgUwDviBIf0oF6QL8m22w1hIDC1vJ_BHz&index=45"
   ]
  },
  {
   "cell_type": "code",
   "execution_count": null,
   "id": "a8c5fd59",
   "metadata": {
    "lines_to_next_cell": 1,
    "papermill": {
     "duration": 0.011948,
     "end_time": "2024-03-21T03:04:04.668872",
     "exception": false,
     "start_time": "2024-03-21T03:04:04.656924",
     "status": "completed"
    }
   },
   "outputs": [],
   "source": [
    "# Linear search\n",
    "def lsearch(arr: list[int], target: int) -> int:\n",
    "    for i in range(len(arr)):\n",
    "        if arr[i] == target:\n",
    "            return i\n",
    "    else:\n",
    "        return -1"
   ]
  },
  {
   "cell_type": "code",
   "execution_count": null,
   "id": "b06d330f",
   "metadata": {
    "lines_to_next_cell": 1,
    "papermill": {
     "duration": 0.022213,
     "end_time": "2024-03-21T03:04:04.697085",
     "exception": false,
     "start_time": "2024-03-21T03:04:04.674872",
     "status": "completed"
    }
   },
   "outputs": [],
   "source": [
    "# Iterative solution\n",
    "def bsearch_iter(arr: list[int], target: int) -> int:\n",
    "    low, high = 0, len(arr) - 1\n",
    "    while low <= high:\n",
    "        mid = (low + high) // 2\n",
    "        if arr[mid] == target:\n",
    "            return mid\n",
    "        elif target > arr[mid]:\n",
    "            low = mid + 1\n",
    "        else:\n",
    "            high = mid - 1\n",
    "    else:\n",
    "        return -1\n",
    "\n",
    "# Test the algorithm\n",
    "for i in tqdm.tqdm(range(100)):\n",
    "    temp = random.sample(list(range(15, 30)), random.randint(1, 15))\n",
    "    temp.sort()\n",
    "    j = random.randint(0, 45)\n",
    "    assert bsearch_iter(temp, j) == lsearch(temp, j), f\"failed for {temp}, {j}\""
   ]
  },
  {
   "cell_type": "code",
   "execution_count": null,
   "id": "59682a10",
   "metadata": {
    "lines_to_next_cell": 1,
    "papermill": {
     "duration": 0.020076,
     "end_time": "2024-03-21T03:04:04.724342",
     "exception": false,
     "start_time": "2024-03-21T03:04:04.704266",
     "status": "completed"
    }
   },
   "outputs": [],
   "source": [
    "# Recursive solution\n",
    "def bsearch_rec(arr: list[int], target: int) -> int:\n",
    "    def backtrack(low: int, high: int) -> int:\n",
    "        if low > high:\n",
    "            return -1\n",
    "        else:\n",
    "            mid = (low + high) // 2\n",
    "            if arr[mid] == target:\n",
    "                return mid\n",
    "            elif target < arr[mid]:\n",
    "                return backtrack(low, mid - 1)\n",
    "            else:\n",
    "                return backtrack(mid + 1, high)\n",
    "\n",
    "    return backtrack(0, len(arr) - 1)\n",
    "\n",
    "for i in tqdm.tqdm(range(100)):\n",
    "    temp = random.sample(list(range(15, 30)), random.randint(1, 15))\n",
    "    temp.sort()\n",
    "    j = random.randint(0, 45)\n",
    "    assert bsearch_rec(temp, j) == lsearch(temp, j), f\"failed for {temp}, {j}\""
   ]
  },
  {
   "cell_type": "markdown",
   "id": "1f2d9f50",
   "metadata": {
    "papermill": {
     "duration": 0.005738,
     "end_time": "2024-03-21T03:04:04.736220",
     "exception": false,
     "start_time": "2024-03-21T03:04:04.730482",
     "status": "completed"
    }
   },
   "source": [
    "Video Link: https://www.youtube.com/watch?v=6zhGS79oQ4k&list=PLgUwDviBIf0oF6QL8m22w1hIDC1vJ_BHz&index=46\n",
    "Implement lower / bound"
   ]
  },
  {
   "cell_type": "code",
   "execution_count": null,
   "id": "f23024a2",
   "metadata": {
    "lines_to_next_cell": 1,
    "papermill": {
     "duration": 0.017846,
     "end_time": "2024-03-21T03:04:04.759564",
     "exception": false,
     "start_time": "2024-03-21T03:04:04.741718",
     "status": "completed"
    }
   },
   "outputs": [],
   "source": [
    "# Lower bound with Linear Search\n",
    "def lower_bound_linear(arr: list[int], target: int) -> int:\n",
    "    N = len(arr)\n",
    "    for i in range(N):\n",
    "        if arr[i] >= target:\n",
    "            return i\n",
    "    return N\n",
    "\n",
    "lower_bound_linear([3, 5, 8, 15, 19], 20)"
   ]
  },
  {
   "cell_type": "code",
   "execution_count": null,
   "id": "a0b8bf3a",
   "metadata": {
    "lines_to_next_cell": 1,
    "papermill": {
     "duration": 0.021632,
     "end_time": "2024-03-21T03:04:04.786834",
     "exception": false,
     "start_time": "2024-03-21T03:04:04.765202",
     "status": "completed"
    }
   },
   "outputs": [],
   "source": [
    "def lower_bound_binary(arr: list[int], target: int):\n",
    "    N = len(arr)\n",
    "    low, high = 0, N - 1\n",
    "    while low <= high:\n",
    "        mid = (low + high) // 2\n",
    "        if arr[mid - 1] < target and arr[mid] >= target:\n",
    "            return mid\n",
    "        elif arr[mid] >= target:\n",
    "            high = mid - 1\n",
    "        else:\n",
    "            low = mid + 1\n",
    "    else:\n",
    "        return 0 if target <= arr[0] else N\n",
    "\n",
    "for i in tqdm.tqdm(range(200)):\n",
    "    temp = random.choices(list(range(100, 200)), k=random.randint(1, 50))\n",
    "    temp.sort()\n",
    "    j = random.randint(95, 205)\n",
    "    assert lower_bound_binary(temp, j) == lower_bound_linear(temp, j), f\"failed for {temp}, {j}\""
   ]
  },
  {
   "cell_type": "code",
   "execution_count": null,
   "id": "6609aa48",
   "metadata": {
    "lines_to_next_cell": 1,
    "papermill": {
     "duration": 0.015354,
     "end_time": "2024-03-21T03:04:04.808143",
     "exception": false,
     "start_time": "2024-03-21T03:04:04.792789",
     "status": "completed"
    }
   },
   "outputs": [],
   "source": [
    "# Upper bound - Brute O(N)\n",
    "def upper_bound_linear(arr: list[int], target: int) -> int:\n",
    "    N = len(arr)\n",
    "    for i in range(N):\n",
    "        if arr[i] > target:\n",
    "            return i\n",
    "    return N\n",
    "\n",
    "upper_bound_linear([3, 5, 8, 15, 19, 19], 15)"
   ]
  },
  {
   "cell_type": "code",
   "execution_count": null,
   "id": "4606b347",
   "metadata": {
    "lines_to_next_cell": 1,
    "papermill": {
     "duration": 0.022825,
     "end_time": "2024-03-21T03:04:04.837107",
     "exception": false,
     "start_time": "2024-03-21T03:04:04.814282",
     "status": "completed"
    }
   },
   "outputs": [],
   "source": [
    "# Binary Search\n",
    "def upper_bound_binary(arr: list[int], target: int) -> int:\n",
    "    N = len(arr)\n",
    "    low, high = 0, N - 1\n",
    "    while low <= high:\n",
    "        mid = (low + high) // 2\n",
    "        if arr[mid] > target and arr[mid - 1] <= target:\n",
    "            return mid\n",
    "        elif arr[mid] <= target:\n",
    "            low = mid + 1\n",
    "        else:\n",
    "            high = mid - 1\n",
    "    else:\n",
    "        return 0 if target < arr[0] else N\n",
    "\n",
    "for i in tqdm.tqdm(range(200)):\n",
    "    temp = random.choices(list(range(100, 200)), k=random.randint(1, 50))\n",
    "    temp.sort()\n",
    "    j = random.randint(95, 205)\n",
    "    assert upper_bound_binary(temp, j) == upper_bound_linear(temp, j), f\"failed for {temp}, {j}\"\n",
    "\n",
    "# Note the difference between the UB / LB\n",
    "print(lower_bound_binary([1, 1, 1, 1, 1], 1))\n",
    "print(upper_bound_binary([1, 1, 1, 1, 1], 1))"
   ]
  },
  {
   "cell_type": "markdown",
   "id": "5e497680",
   "metadata": {
    "papermill": {
     "duration": 0.006311,
     "end_time": "2024-03-21T03:04:04.849908",
     "exception": false,
     "start_time": "2024-03-21T03:04:04.843597",
     "status": "completed"
    }
   },
   "source": [
    "Much more intutive approach by Striver:\n",
    "Retain a variable ans to N, update this variable when:\n",
    "arr[mid] >= target - Lower bound\n",
    "arr[mid] > target - Upper bound"
   ]
  },
  {
   "cell_type": "code",
   "execution_count": null,
   "id": "8abcbf56",
   "metadata": {
    "lines_to_next_cell": 1,
    "papermill": {
     "duration": 0.016818,
     "end_time": "2024-03-21T03:04:04.873074",
     "exception": false,
     "start_time": "2024-03-21T03:04:04.856256",
     "status": "completed"
    }
   },
   "outputs": [],
   "source": [
    "# Lower bound Binary (Striver's approach)\n",
    "def lower_bound_striver(arr: list[int], target: int) -> int:\n",
    "    \"Smallest index, greater than or equal to target\"\n",
    "    N = len(arr)\n",
    "    low, high, ans = 0, N - 1, N\n",
    "    while low <= high:\n",
    "        mid = (low + high) // 2\n",
    "        if arr[mid] >= target:\n",
    "            ans = mid\n",
    "            high = mid - 1\n",
    "        else:\n",
    "            low = mid + 1\n",
    "\n",
    "    return ans\n",
    "\n",
    "lower_bound_striver([1, 1, 1, 1], 1)"
   ]
  },
  {
   "cell_type": "code",
   "execution_count": null,
   "id": "5ab0dd9c",
   "metadata": {
    "lines_to_next_cell": 1,
    "papermill": {
     "duration": 0.016315,
     "end_time": "2024-03-21T03:04:04.895834",
     "exception": false,
     "start_time": "2024-03-21T03:04:04.879519",
     "status": "completed"
    }
   },
   "outputs": [],
   "source": [
    "# Upper bound Binary (Striver's approach)\n",
    "def upper_bound_striver(arr: list[int], target: int) -> int:\n",
    "    \"Smallest index, greater than target\"\n",
    "    N = len(arr)\n",
    "    low, high, ans = 0, N - 1, N\n",
    "    while low <= high:\n",
    "        mid = (low + high) // 2\n",
    "        if arr[mid] > target:\n",
    "            ans = mid\n",
    "            high = mid - 1\n",
    "        else:\n",
    "            low = mid + 1\n",
    "    return ans\n",
    "\n",
    "upper_bound_striver([1, 1, 1, 1], 1)"
   ]
  },
  {
   "cell_type": "markdown",
   "id": "6df8578a",
   "metadata": {
    "papermill": {
     "duration": 0.006385,
     "end_time": "2024-03-21T03:04:04.908709",
     "exception": false,
     "start_time": "2024-03-21T03:04:04.902324",
     "status": "completed"
    }
   },
   "source": [
    "Search Insert position"
   ]
  },
  {
   "cell_type": "code",
   "execution_count": null,
   "id": "e5e48474",
   "metadata": {
    "lines_to_next_cell": 1,
    "papermill": {
     "duration": 0.014351,
     "end_time": "2024-03-21T03:04:04.929598",
     "exception": false,
     "start_time": "2024-03-21T03:04:04.915247",
     "status": "completed"
    }
   },
   "outputs": [],
   "source": [
    "def searchInsert(arr: list[int], target: int) -> int:\n",
    "    \"Lower bound - Smallest index, greater than or equal to target\"\n",
    "    N = len(arr)\n",
    "    low, high, ans = 0, N - 1, N\n",
    "    while low <= high:\n",
    "        mid = (low + high) // 2\n",
    "        if arr[mid] >= target:\n",
    "            ans = mid\n",
    "            high = mid - 1\n",
    "        else:\n",
    "            low = mid + 1\n",
    "\n",
    "    return ans"
   ]
  },
  {
   "cell_type": "code",
   "execution_count": null,
   "id": "d3f82851",
   "metadata": {
    "lines_to_next_cell": 1,
    "papermill": {
     "duration": 0.020224,
     "end_time": "2024-03-21T03:04:04.956383",
     "exception": false,
     "start_time": "2024-03-21T03:04:04.936159",
     "status": "completed"
    }
   },
   "outputs": [],
   "source": [
    "# Floor and Ceil of a target from a given array\n",
    "def getFloorAndCeil(arr: list[int], N: int, target: int):\n",
    "    def brute() -> tuple[int, int]:\n",
    "        \"Brute force solution\"\n",
    "        floor = -1\n",
    "        for i in range(N):\n",
    "            if arr[i] > target:\n",
    "                break\n",
    "            else:\n",
    "                floor = arr[i]\n",
    "\n",
    "        ceil = -1\n",
    "        for i in range(N - 1, -1, -1):\n",
    "            if arr[i] < target:\n",
    "                break\n",
    "            else:\n",
    "                ceil = arr[i]\n",
    "\n",
    "        return floor, ceil\n",
    "\n",
    "    def binary() -> tuple[int, int]:\n",
    "        low, high, LB = 0, N - 1, -1\n",
    "        while low <= high:\n",
    "            mid = (low + high) // 2\n",
    "            if arr[mid] <= target:\n",
    "                LB = arr[mid]\n",
    "                low = mid + 1\n",
    "            else:\n",
    "                high = mid - 1\n",
    "\n",
    "        low, high, UB = 0, N - 1, -1\n",
    "        while low <= high:\n",
    "            mid = (low + high) // 2\n",
    "            if arr[mid] >= target:\n",
    "                UB = arr[mid]\n",
    "                high = mid - 1\n",
    "            else:\n",
    "                low = mid + 1\n",
    "\n",
    "        return LB, UB\n",
    "\n",
    "    return binary()\n",
    "\n",
    "# Testing the solution\n",
    "getFloorAndCeil([3, 4, 4, 7, 8, 10], 6, 8)"
   ]
  },
  {
   "cell_type": "markdown",
   "id": "d066d6da",
   "metadata": {
    "papermill": {
     "duration": 0.007027,
     "end_time": "2024-03-21T03:04:04.970321",
     "exception": false,
     "start_time": "2024-03-21T03:04:04.963294",
     "status": "completed"
    }
   },
   "source": [
    "Video Link: https://www.youtube.com/watch?v=hjR1IYVx9lY&list=PLgUwDviBIf0oF6QL8m22w1hIDC1vJ_BHz&index=47"
   ]
  },
  {
   "cell_type": "code",
   "execution_count": null,
   "id": "d11d7af8",
   "metadata": {
    "lines_to_next_cell": 1,
    "papermill": {
     "duration": 0.019561,
     "end_time": "2024-03-21T03:04:04.996462",
     "exception": false,
     "start_time": "2024-03-21T03:04:04.976901",
     "status": "completed"
    }
   },
   "outputs": [],
   "source": [
    "# Coding studio link: https://bit.ly/3Mdw2FX\n",
    "def firstAndLastPosition(arr: list[int], N: int, target: int) -> tuple[int, int]:\n",
    "    def findFirst() -> int:\n",
    "        low, high, ans = 0, N - 1, -1\n",
    "        while low <= high:\n",
    "            mid = (low + high) // 2\n",
    "            if arr[mid] >= target:\n",
    "                if arr[mid] == target:\n",
    "                    ans = mid\n",
    "                high = mid - 1\n",
    "            else:\n",
    "                low = mid + 1\n",
    "\n",
    "        return ans\n",
    "\n",
    "    def findLast() -> int:\n",
    "        low, high, ans = 0, N - 1, -1\n",
    "        while low <= high:\n",
    "            mid = (low + high) // 2\n",
    "            if arr[mid] <= target:\n",
    "                if arr[mid] == target:\n",
    "                    ans = mid\n",
    "                low = mid + 1\n",
    "            else:\n",
    "                high = mid - 1\n",
    "\n",
    "        return ans\n",
    "\n",
    "    first = findFirst()\n",
    "    if first == -1: # If not found, don't have to search again\n",
    "        return first, first\n",
    "    else:\n",
    "        return first, findLast()\n",
    "\n",
    "# Testing the solution\n",
    "firstAndLastPosition([1, 2, 3, 3, 3, 4, 5], 7, 9)"
   ]
  },
  {
   "cell_type": "code",
   "execution_count": null,
   "id": "44578564",
   "metadata": {
    "lines_to_next_cell": 1,
    "papermill": {
     "duration": 0.019853,
     "end_time": "2024-03-21T03:04:05.023115",
     "exception": false,
     "start_time": "2024-03-21T03:04:05.003262",
     "status": "completed"
    }
   },
   "outputs": [],
   "source": [
    "# Coding Studio link: https://bit.ly/42ZDqM4\n",
    "def count_occurances(arr: list[int], N: int, target: int) -> int:\n",
    "    def findFirst() -> int:\n",
    "        low, high, ans = 0, N - 1, -1\n",
    "        while low <= high:\n",
    "            mid = (low + high) // 2\n",
    "            if arr[mid] >= target:\n",
    "                if arr[mid] == target:\n",
    "                    ans = mid\n",
    "                high = mid - 1\n",
    "            else:\n",
    "                low = mid + 1\n",
    "\n",
    "        return ans\n",
    "\n",
    "    def findLast() -> int:\n",
    "        low, high, ans = 0, N - 1, -1\n",
    "        while low <= high:\n",
    "            mid = (low + high) // 2\n",
    "            if arr[mid] <= target:\n",
    "                if arr[mid] == target:\n",
    "                    ans = mid\n",
    "                low = mid + 1\n",
    "            else:\n",
    "                high = mid - 1\n",
    "\n",
    "        return ans\n",
    "\n",
    "    firstIdx = findFirst()\n",
    "    if firstIdx == -1:\n",
    "        return 0\n",
    "    else:\n",
    "        return findLast() - firstIdx + 1\n",
    "\n",
    "# Testing the solution\n",
    "count_occurances([1, 2, 2, 3, 4, 4, 4, 5, 6], 9, 9)"
   ]
  },
  {
   "cell_type": "markdown",
   "id": "7ae08467",
   "metadata": {
    "papermill": {
     "duration": 0.006925,
     "end_time": "2024-03-21T03:04:05.037053",
     "exception": false,
     "start_time": "2024-03-21T03:04:05.030128",
     "status": "completed"
    }
   },
   "source": [
    "Video Link: https://www.youtube.com/watch?v=5qGrJbHhqFs&list=PLgUwDviBIf0oF6QL8m22w1hIDC1vJ_BHz&index=48\n",
    "Search in a rotated sorted array: https://leetcode.com/problems/search-in-rotated-sorted-array/"
   ]
  },
  {
   "cell_type": "code",
   "execution_count": null,
   "id": "07fd3a6e",
   "metadata": {
    "papermill": {
     "duration": 0.006869,
     "end_time": "2024-03-21T03:04:05.050845",
     "exception": false,
     "start_time": "2024-03-21T03:04:05.043976",
     "status": "completed"
    }
   },
   "outputs": [],
   "source": [
    "def search(arr: list[int], target: int) -> int:\n",
    "    N = len(arr)\n",
    "    low, high = 0, N - 1\n",
    "    while low <= high:\n",
    "        mid = (low + high) // 2\n",
    "        if arr[mid] == target:\n",
    "            return mid\n",
    "\n",
    "        # Left half is sorted\n",
    "        elif arr[low] <= arr[mid]:\n",
    "            # Element can be found in the left half\n",
    "            if arr[low] <= target <= arr[mid]:\n",
    "                high = mid - 1\n",
    "            else:\n",
    "                low = mid + 1\n",
    "\n",
    "        # Right half is sorted\n",
    "        else:\n",
    "            # Element can be found in the right half\n",
    "            if arr[mid] <= target <= arr[high]:\n",
    "                low = mid + 1\n",
    "            else:\n",
    "                high = mid - 1\n",
    "    else:\n",
    "        return -1\n",
    "\n",
    "search([7, 8, 9, 1, 2, 3, 4, 5, 6], 6)"
   ]
  }
 ],
 "metadata": {
  "kernelspec": {
   "display_name": "Python 3 (ipykernel)",
   "language": "python",
   "name": "python3"
  }
 },
 "nbformat": 4,
 "nbformat_minor": 5
}
