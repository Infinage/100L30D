{
 "cells": [
  {
   "cell_type": "markdown",
   "id": "39385271",
   "metadata": {
    "papermill": {
     "duration": 0.008665,
     "end_time": "2024-03-24T01:55:55.907963",
     "exception": false,
     "start_time": "2024-03-24T01:55:55.899298",
     "status": "completed"
    },
    "tags": []
   },
   "source": [
    "Some useful imports"
   ]
  },
  {
   "cell_type": "code",
   "execution_count": 1,
   "id": "fd129096",
   "metadata": {
    "execution": {
     "iopub.execute_input": "2024-03-24T01:55:55.925618Z",
     "iopub.status.busy": "2024-03-24T01:55:55.924978Z",
     "iopub.status.idle": "2024-03-24T01:55:55.939303Z",
     "shell.execute_reply": "2024-03-24T01:55:55.938634Z"
    },
    "lines_to_next_cell": 1,
    "papermill": {
     "duration": 0.025827,
     "end_time": "2024-03-24T01:55:55.941787",
     "exception": false,
     "start_time": "2024-03-24T01:55:55.915960",
     "status": "completed"
    },
    "tags": []
   },
   "outputs": [],
   "source": [
    "import math\n",
    "import random\n",
    "import functools\n",
    "import itertools\n",
    "import tqdm\n",
    "import pdb"
   ]
  },
  {
   "cell_type": "markdown",
   "id": "1b645c9d",
   "metadata": {
    "papermill": {
     "duration": 0.007824,
     "end_time": "2024-03-24T01:55:55.957551",
     "exception": false,
     "start_time": "2024-03-24T01:55:55.949727",
     "status": "completed"
    },
    "tags": []
   },
   "source": [
    "Video Link: https://www.youtube.com/watch?v=MHf6awe89xw&list=PLgUwDviBIf0oF6QL8m22w1hIDC1vJ_BHz&index=45"
   ]
  },
  {
   "cell_type": "code",
   "execution_count": 2,
   "id": "a8c5fd59",
   "metadata": {
    "execution": {
     "iopub.execute_input": "2024-03-24T01:55:55.974605Z",
     "iopub.status.busy": "2024-03-24T01:55:55.974106Z",
     "iopub.status.idle": "2024-03-24T01:55:55.979098Z",
     "shell.execute_reply": "2024-03-24T01:55:55.978299Z"
    },
    "lines_to_next_cell": 1,
    "papermill": {
     "duration": 0.015984,
     "end_time": "2024-03-24T01:55:55.981263",
     "exception": false,
     "start_time": "2024-03-24T01:55:55.965279",
     "status": "completed"
    },
    "tags": []
   },
   "outputs": [],
   "source": [
    "# Linear search\n",
    "def lsearch(arr: list[int], target: int) -> int:\n",
    "    for i in range(len(arr)):\n",
    "        if arr[i] == target:\n",
    "            return i\n",
    "    else:\n",
    "        return -1"
   ]
  },
  {
   "cell_type": "code",
   "execution_count": 3,
   "id": "b06d330f",
   "metadata": {
    "execution": {
     "iopub.execute_input": "2024-03-24T01:55:55.998635Z",
     "iopub.status.busy": "2024-03-24T01:55:55.997936Z",
     "iopub.status.idle": "2024-03-24T01:55:56.013431Z",
     "shell.execute_reply": "2024-03-24T01:55:56.012553Z"
    },
    "lines_to_next_cell": 1,
    "papermill": {
     "duration": 0.026806,
     "end_time": "2024-03-24T01:55:56.015812",
     "exception": false,
     "start_time": "2024-03-24T01:55:55.989006",
     "status": "completed"
    },
    "tags": []
   },
   "outputs": [
    {
     "name": "stderr",
     "output_type": "stream",
     "text": [
      "\r",
      "  0%|          | 0/100 [00:00<?, ?it/s]"
     ]
    },
    {
     "name": "stderr",
     "output_type": "stream",
     "text": [
      "\r",
      "100%|██████████| 100/100 [00:00<00:00, 61644.68it/s]"
     ]
    },
    {
     "name": "stderr",
     "output_type": "stream",
     "text": [
      "\n"
     ]
    }
   ],
   "source": [
    "# Iterative solution\n",
    "def bsearch_iter(arr: list[int], target: int) -> int:\n",
    "    low, high = 0, len(arr) - 1\n",
    "    while low <= high:\n",
    "        mid = (low + high) // 2\n",
    "        if arr[mid] == target:\n",
    "            return mid\n",
    "        elif target > arr[mid]:\n",
    "            low = mid + 1\n",
    "        else:\n",
    "            high = mid - 1\n",
    "    else:\n",
    "        return -1\n",
    "\n",
    "# Test the algorithm\n",
    "for i in tqdm.tqdm(range(100)):\n",
    "    temp = random.sample(list(range(15, 30)), random.randint(1, 15))\n",
    "    temp.sort()\n",
    "    j = random.randint(0, 45)\n",
    "    assert bsearch_iter(temp, j) == lsearch(temp, j), f\"failed for {temp}, {j}\""
   ]
  },
  {
   "cell_type": "code",
   "execution_count": 4,
   "id": "59682a10",
   "metadata": {
    "execution": {
     "iopub.execute_input": "2024-03-24T01:55:56.035610Z",
     "iopub.status.busy": "2024-03-24T01:55:56.035000Z",
     "iopub.status.idle": "2024-03-24T01:55:56.049038Z",
     "shell.execute_reply": "2024-03-24T01:55:56.048105Z"
    },
    "lines_to_next_cell": 1,
    "papermill": {
     "duration": 0.02622,
     "end_time": "2024-03-24T01:55:56.050839",
     "exception": false,
     "start_time": "2024-03-24T01:55:56.024619",
     "status": "completed"
    },
    "tags": []
   },
   "outputs": [
    {
     "name": "stderr",
     "output_type": "stream",
     "text": [
      "\r",
      "  0%|          | 0/100 [00:00<?, ?it/s]"
     ]
    },
    {
     "name": "stderr",
     "output_type": "stream",
     "text": [
      "\r",
      "100%|██████████| 100/100 [00:00<00:00, 30077.48it/s]"
     ]
    },
    {
     "name": "stderr",
     "output_type": "stream",
     "text": [
      "\n"
     ]
    }
   ],
   "source": [
    "# Recursive solution\n",
    "def bsearch_rec(arr: list[int], target: int) -> int:\n",
    "    def backtrack(low: int, high: int) -> int:\n",
    "        if low > high:\n",
    "            return -1\n",
    "        else:\n",
    "            mid = (low + high) // 2\n",
    "            if arr[mid] == target:\n",
    "                return mid\n",
    "            elif target < arr[mid]:\n",
    "                return backtrack(low, mid - 1)\n",
    "            else:\n",
    "                return backtrack(mid + 1, high)\n",
    "\n",
    "    return backtrack(0, len(arr) - 1)\n",
    "\n",
    "for i in tqdm.tqdm(range(100)):\n",
    "    temp = random.sample(list(range(15, 30)), random.randint(1, 15))\n",
    "    temp.sort()\n",
    "    j = random.randint(0, 45)\n",
    "    assert bsearch_rec(temp, j) == lsearch(temp, j), f\"failed for {temp}, {j}\""
   ]
  },
  {
   "cell_type": "markdown",
   "id": "1f2d9f50",
   "metadata": {
    "papermill": {
     "duration": 0.008412,
     "end_time": "2024-03-24T01:55:56.067734",
     "exception": false,
     "start_time": "2024-03-24T01:55:56.059322",
     "status": "completed"
    },
    "tags": []
   },
   "source": [
    "Video Link: https://www.youtube.com/watch?v=6zhGS79oQ4k&list=PLgUwDviBIf0oF6QL8m22w1hIDC1vJ_BHz&index=46\n",
    "Implement lower / bound"
   ]
  },
  {
   "cell_type": "code",
   "execution_count": 5,
   "id": "f23024a2",
   "metadata": {
    "execution": {
     "iopub.execute_input": "2024-03-24T01:55:56.086088Z",
     "iopub.status.busy": "2024-03-24T01:55:56.085572Z",
     "iopub.status.idle": "2024-03-24T01:55:56.095295Z",
     "shell.execute_reply": "2024-03-24T01:55:56.094435Z"
    },
    "lines_to_next_cell": 1,
    "papermill": {
     "duration": 0.022724,
     "end_time": "2024-03-24T01:55:56.098778",
     "exception": false,
     "start_time": "2024-03-24T01:55:56.076054",
     "status": "completed"
    },
    "tags": []
   },
   "outputs": [
    {
     "data": {
      "text/plain": [
       "5"
      ]
     },
     "execution_count": 5,
     "metadata": {},
     "output_type": "execute_result"
    }
   ],
   "source": [
    "# Lower bound with Linear Search\n",
    "def lower_bound_linear(arr: list[int], target: int) -> int:\n",
    "    N = len(arr)\n",
    "    for i in range(N):\n",
    "        if arr[i] >= target:\n",
    "            return i\n",
    "    return N\n",
    "\n",
    "lower_bound_linear([3, 5, 8, 15, 19], 20)"
   ]
  },
  {
   "cell_type": "code",
   "execution_count": 6,
   "id": "a0b8bf3a",
   "metadata": {
    "execution": {
     "iopub.execute_input": "2024-03-24T01:55:56.117874Z",
     "iopub.status.busy": "2024-03-24T01:55:56.117170Z",
     "iopub.status.idle": "2024-03-24T01:55:56.131098Z",
     "shell.execute_reply": "2024-03-24T01:55:56.130202Z"
    },
    "lines_to_next_cell": 1,
    "papermill": {
     "duration": 0.025335,
     "end_time": "2024-03-24T01:55:56.132772",
     "exception": false,
     "start_time": "2024-03-24T01:55:56.107437",
     "status": "completed"
    },
    "tags": []
   },
   "outputs": [
    {
     "name": "stderr",
     "output_type": "stream",
     "text": [
      "\r",
      "  0%|          | 0/200 [00:00<?, ?it/s]"
     ]
    },
    {
     "name": "stderr",
     "output_type": "stream",
     "text": [
      "\r",
      "100%|██████████| 200/200 [00:00<00:00, 59233.22it/s]"
     ]
    },
    {
     "name": "stderr",
     "output_type": "stream",
     "text": [
      "\n"
     ]
    }
   ],
   "source": [
    "def lower_bound_binary(arr: list[int], target: int):\n",
    "    N = len(arr)\n",
    "    low, high = 0, N - 1\n",
    "    while low <= high:\n",
    "        mid = (low + high) // 2\n",
    "        if arr[mid - 1] < target and arr[mid] >= target:\n",
    "            return mid\n",
    "        elif arr[mid] >= target:\n",
    "            high = mid - 1\n",
    "        else:\n",
    "            low = mid + 1\n",
    "    else:\n",
    "        return 0 if target <= arr[0] else N\n",
    "\n",
    "for i in tqdm.tqdm(range(200)):\n",
    "    temp = random.choices(list(range(100, 200)), k=random.randint(1, 50))\n",
    "    temp.sort()\n",
    "    j = random.randint(95, 205)\n",
    "    assert lower_bound_binary(temp, j) == lower_bound_linear(temp, j), f\"failed for {temp}, {j}\""
   ]
  },
  {
   "cell_type": "code",
   "execution_count": 7,
   "id": "6609aa48",
   "metadata": {
    "execution": {
     "iopub.execute_input": "2024-03-24T01:55:56.152171Z",
     "iopub.status.busy": "2024-03-24T01:55:56.151526Z",
     "iopub.status.idle": "2024-03-24T01:55:56.158519Z",
     "shell.execute_reply": "2024-03-24T01:55:56.157673Z"
    },
    "lines_to_next_cell": 1,
    "papermill": {
     "duration": 0.018553,
     "end_time": "2024-03-24T01:55:56.160249",
     "exception": false,
     "start_time": "2024-03-24T01:55:56.141696",
     "status": "completed"
    },
    "tags": []
   },
   "outputs": [
    {
     "data": {
      "text/plain": [
       "4"
      ]
     },
     "execution_count": 7,
     "metadata": {},
     "output_type": "execute_result"
    }
   ],
   "source": [
    "# Upper bound - Brute O(N)\n",
    "def upper_bound_linear(arr: list[int], target: int) -> int:\n",
    "    N = len(arr)\n",
    "    for i in range(N):\n",
    "        if arr[i] > target:\n",
    "            return i\n",
    "    return N\n",
    "\n",
    "upper_bound_linear([3, 5, 8, 15, 19, 19], 15)"
   ]
  },
  {
   "cell_type": "code",
   "execution_count": 8,
   "id": "4606b347",
   "metadata": {
    "execution": {
     "iopub.execute_input": "2024-03-24T01:55:56.180062Z",
     "iopub.status.busy": "2024-03-24T01:55:56.179413Z",
     "iopub.status.idle": "2024-03-24T01:55:56.194252Z",
     "shell.execute_reply": "2024-03-24T01:55:56.193428Z"
    },
    "lines_to_next_cell": 1,
    "papermill": {
     "duration": 0.027131,
     "end_time": "2024-03-24T01:55:56.196299",
     "exception": false,
     "start_time": "2024-03-24T01:55:56.169168",
     "status": "completed"
    },
    "tags": []
   },
   "outputs": [
    {
     "name": "stderr",
     "output_type": "stream",
     "text": [
      "\r",
      "  0%|          | 0/200 [00:00<?, ?it/s]"
     ]
    },
    {
     "name": "stderr",
     "output_type": "stream",
     "text": [
      "\r",
      "100%|██████████| 200/200 [00:00<00:00, 57713.16it/s]"
     ]
    },
    {
     "name": "stdout",
     "output_type": "stream",
     "text": [
      "0\n",
      "5\n"
     ]
    },
    {
     "name": "stderr",
     "output_type": "stream",
     "text": [
      "\n"
     ]
    }
   ],
   "source": [
    "# Binary Search\n",
    "def upper_bound_binary(arr: list[int], target: int) -> int:\n",
    "    N = len(arr)\n",
    "    low, high = 0, N - 1\n",
    "    while low <= high:\n",
    "        mid = (low + high) // 2\n",
    "        if arr[mid] > target and arr[mid - 1] <= target:\n",
    "            return mid\n",
    "        elif arr[mid] <= target:\n",
    "            low = mid + 1\n",
    "        else:\n",
    "            high = mid - 1\n",
    "    else:\n",
    "        return 0 if target < arr[0] else N\n",
    "\n",
    "for i in tqdm.tqdm(range(200)):\n",
    "    temp = random.choices(list(range(100, 200)), k=random.randint(1, 50))\n",
    "    temp.sort()\n",
    "    j = random.randint(95, 205)\n",
    "    assert upper_bound_binary(temp, j) == upper_bound_linear(temp, j), f\"failed for {temp}, {j}\"\n",
    "\n",
    "# Note the difference between the UB / LB\n",
    "print(lower_bound_binary([1, 1, 1, 1, 1], 1))\n",
    "print(upper_bound_binary([1, 1, 1, 1, 1], 1))"
   ]
  },
  {
   "cell_type": "markdown",
   "id": "5e497680",
   "metadata": {
    "papermill": {
     "duration": 0.009039,
     "end_time": "2024-03-24T01:55:56.214494",
     "exception": false,
     "start_time": "2024-03-24T01:55:56.205455",
     "status": "completed"
    },
    "tags": []
   },
   "source": [
    "Much more intutive approach by Striver:\n",
    "Retain a variable ans to N, update this variable when:\n",
    "arr[mid] >= target - Lower bound\n",
    "arr[mid] > target - Upper bound"
   ]
  },
  {
   "cell_type": "code",
   "execution_count": 9,
   "id": "8abcbf56",
   "metadata": {
    "execution": {
     "iopub.execute_input": "2024-03-24T01:55:56.234047Z",
     "iopub.status.busy": "2024-03-24T01:55:56.233671Z",
     "iopub.status.idle": "2024-03-24T01:55:56.241396Z",
     "shell.execute_reply": "2024-03-24T01:55:56.240552Z"
    },
    "lines_to_next_cell": 1,
    "papermill": {
     "duration": 0.019648,
     "end_time": "2024-03-24T01:55:56.243160",
     "exception": false,
     "start_time": "2024-03-24T01:55:56.223512",
     "status": "completed"
    },
    "tags": []
   },
   "outputs": [
    {
     "data": {
      "text/plain": [
       "0"
      ]
     },
     "execution_count": 9,
     "metadata": {},
     "output_type": "execute_result"
    }
   ],
   "source": [
    "# Lower bound Binary (Striver's approach)\n",
    "def lower_bound_striver(arr: list[int], target: int) -> int:\n",
    "    \"Smallest index, greater than or equal to target\"\n",
    "    N = len(arr)\n",
    "    low, high, ans = 0, N - 1, N\n",
    "    while low <= high:\n",
    "        mid = (low + high) // 2\n",
    "        if arr[mid] >= target:\n",
    "            ans = mid\n",
    "            high = mid - 1\n",
    "        else:\n",
    "            low = mid + 1\n",
    "\n",
    "    return ans\n",
    "\n",
    "lower_bound_striver([1, 1, 1, 1], 1)"
   ]
  },
  {
   "cell_type": "code",
   "execution_count": 10,
   "id": "5ab0dd9c",
   "metadata": {
    "execution": {
     "iopub.execute_input": "2024-03-24T01:55:56.263537Z",
     "iopub.status.busy": "2024-03-24T01:55:56.262946Z",
     "iopub.status.idle": "2024-03-24T01:55:56.270595Z",
     "shell.execute_reply": "2024-03-24T01:55:56.269769Z"
    },
    "lines_to_next_cell": 1,
    "papermill": {
     "duration": 0.019762,
     "end_time": "2024-03-24T01:55:56.272331",
     "exception": false,
     "start_time": "2024-03-24T01:55:56.252569",
     "status": "completed"
    },
    "tags": []
   },
   "outputs": [
    {
     "data": {
      "text/plain": [
       "4"
      ]
     },
     "execution_count": 10,
     "metadata": {},
     "output_type": "execute_result"
    }
   ],
   "source": [
    "# Upper bound Binary (Striver's approach)\n",
    "def upper_bound_striver(arr: list[int], target: int) -> int:\n",
    "    \"Smallest index, greater than target\"\n",
    "    N = len(arr)\n",
    "    low, high, ans = 0, N - 1, N\n",
    "    while low <= high:\n",
    "        mid = (low + high) // 2\n",
    "        if arr[mid] > target:\n",
    "            ans = mid\n",
    "            high = mid - 1\n",
    "        else:\n",
    "            low = mid + 1\n",
    "    return ans\n",
    "\n",
    "upper_bound_striver([1, 1, 1, 1], 1)"
   ]
  },
  {
   "cell_type": "markdown",
   "id": "6df8578a",
   "metadata": {
    "papermill": {
     "duration": 0.009237,
     "end_time": "2024-03-24T01:55:56.291375",
     "exception": false,
     "start_time": "2024-03-24T01:55:56.282138",
     "status": "completed"
    },
    "tags": []
   },
   "source": [
    "Search Insert position"
   ]
  },
  {
   "cell_type": "code",
   "execution_count": 11,
   "id": "e5e48474",
   "metadata": {
    "execution": {
     "iopub.execute_input": "2024-03-24T01:55:56.311886Z",
     "iopub.status.busy": "2024-03-24T01:55:56.311313Z",
     "iopub.status.idle": "2024-03-24T01:55:56.316784Z",
     "shell.execute_reply": "2024-03-24T01:55:56.316047Z"
    },
    "lines_to_next_cell": 1,
    "papermill": {
     "duration": 0.017688,
     "end_time": "2024-03-24T01:55:56.318498",
     "exception": false,
     "start_time": "2024-03-24T01:55:56.300810",
     "status": "completed"
    },
    "tags": []
   },
   "outputs": [],
   "source": [
    "def searchInsert(arr: list[int], target: int) -> int:\n",
    "    \"Lower bound - Smallest index, greater than or equal to target\"\n",
    "    N = len(arr)\n",
    "    low, high, ans = 0, N - 1, N\n",
    "    while low <= high:\n",
    "        mid = (low + high) // 2\n",
    "        if arr[mid] >= target:\n",
    "            ans = mid\n",
    "            high = mid - 1\n",
    "        else:\n",
    "            low = mid + 1\n",
    "\n",
    "    return ans"
   ]
  },
  {
   "cell_type": "code",
   "execution_count": 12,
   "id": "d3f82851",
   "metadata": {
    "execution": {
     "iopub.execute_input": "2024-03-24T01:55:56.338626Z",
     "iopub.status.busy": "2024-03-24T01:55:56.338335Z",
     "iopub.status.idle": "2024-03-24T01:55:56.350488Z",
     "shell.execute_reply": "2024-03-24T01:55:56.349671Z"
    },
    "lines_to_next_cell": 1,
    "papermill": {
     "duration": 0.024243,
     "end_time": "2024-03-24T01:55:56.352152",
     "exception": false,
     "start_time": "2024-03-24T01:55:56.327909",
     "status": "completed"
    },
    "tags": []
   },
   "outputs": [
    {
     "data": {
      "text/plain": [
       "(8, 8)"
      ]
     },
     "execution_count": 12,
     "metadata": {},
     "output_type": "execute_result"
    }
   ],
   "source": [
    "# Floor and Ceil of a target from a given array\n",
    "def getFloorAndCeil(arr: list[int], N: int, target: int):\n",
    "    def brute() -> tuple[int, int]:\n",
    "        \"Brute force solution\"\n",
    "        floor = -1\n",
    "        for i in range(N):\n",
    "            if arr[i] > target:\n",
    "                break\n",
    "            else:\n",
    "                floor = arr[i]\n",
    "\n",
    "        ceil = -1\n",
    "        for i in range(N - 1, -1, -1):\n",
    "            if arr[i] < target:\n",
    "                break\n",
    "            else:\n",
    "                ceil = arr[i]\n",
    "\n",
    "        return floor, ceil\n",
    "\n",
    "    def binary() -> tuple[int, int]:\n",
    "        low, high, LB = 0, N - 1, -1\n",
    "        while low <= high:\n",
    "            mid = (low + high) // 2\n",
    "            if arr[mid] <= target:\n",
    "                LB = arr[mid]\n",
    "                low = mid + 1\n",
    "            else:\n",
    "                high = mid - 1\n",
    "\n",
    "        low, high, UB = 0, N - 1, -1\n",
    "        while low <= high:\n",
    "            mid = (low + high) // 2\n",
    "            if arr[mid] >= target:\n",
    "                UB = arr[mid]\n",
    "                high = mid - 1\n",
    "            else:\n",
    "                low = mid + 1\n",
    "\n",
    "        return LB, UB\n",
    "\n",
    "    return binary()\n",
    "\n",
    "# Testing the solution\n",
    "getFloorAndCeil([3, 4, 4, 7, 8, 10], 6, 8)"
   ]
  },
  {
   "cell_type": "markdown",
   "id": "d066d6da",
   "metadata": {
    "papermill": {
     "duration": 0.009502,
     "end_time": "2024-03-24T01:55:56.371275",
     "exception": false,
     "start_time": "2024-03-24T01:55:56.361773",
     "status": "completed"
    },
    "tags": []
   },
   "source": [
    "Video Link: https://www.youtube.com/watch?v=hjR1IYVx9lY&list=PLgUwDviBIf0oF6QL8m22w1hIDC1vJ_BHz&index=47"
   ]
  },
  {
   "cell_type": "code",
   "execution_count": 13,
   "id": "d11d7af8",
   "metadata": {
    "execution": {
     "iopub.execute_input": "2024-03-24T01:55:56.392080Z",
     "iopub.status.busy": "2024-03-24T01:55:56.391260Z",
     "iopub.status.idle": "2024-03-24T01:55:56.401834Z",
     "shell.execute_reply": "2024-03-24T01:55:56.401077Z"
    },
    "lines_to_next_cell": 1,
    "papermill": {
     "duration": 0.022922,
     "end_time": "2024-03-24T01:55:56.403563",
     "exception": false,
     "start_time": "2024-03-24T01:55:56.380641",
     "status": "completed"
    },
    "tags": []
   },
   "outputs": [
    {
     "data": {
      "text/plain": [
       "(-1, -1)"
      ]
     },
     "execution_count": 13,
     "metadata": {},
     "output_type": "execute_result"
    }
   ],
   "source": [
    "# Coding studio link: https://bit.ly/3Mdw2FX\n",
    "def firstAndLastPosition(arr: list[int], N: int, target: int) -> tuple[int, int]:\n",
    "    def findFirst() -> int:\n",
    "        low, high, ans = 0, N - 1, -1\n",
    "        while low <= high:\n",
    "            mid = (low + high) // 2\n",
    "            if arr[mid] >= target:\n",
    "                if arr[mid] == target:\n",
    "                    ans = mid\n",
    "                high = mid - 1\n",
    "            else:\n",
    "                low = mid + 1\n",
    "\n",
    "        return ans\n",
    "\n",
    "    def findLast() -> int:\n",
    "        low, high, ans = 0, N - 1, -1\n",
    "        while low <= high:\n",
    "            mid = (low + high) // 2\n",
    "            if arr[mid] <= target:\n",
    "                if arr[mid] == target:\n",
    "                    ans = mid\n",
    "                low = mid + 1\n",
    "            else:\n",
    "                high = mid - 1\n",
    "\n",
    "        return ans\n",
    "\n",
    "    first = findFirst()\n",
    "    if first == -1: # If not found, don't have to search again\n",
    "        return first, first\n",
    "    else:\n",
    "        return first, findLast()\n",
    "\n",
    "# Testing the solution\n",
    "firstAndLastPosition([1, 2, 3, 3, 3, 4, 5], 7, 9)"
   ]
  },
  {
   "cell_type": "code",
   "execution_count": 14,
   "id": "44578564",
   "metadata": {
    "execution": {
     "iopub.execute_input": "2024-03-24T01:55:56.424683Z",
     "iopub.status.busy": "2024-03-24T01:55:56.424078Z",
     "iopub.status.idle": "2024-03-24T01:55:56.434872Z",
     "shell.execute_reply": "2024-03-24T01:55:56.434168Z"
    },
    "lines_to_next_cell": 1,
    "papermill": {
     "duration": 0.023208,
     "end_time": "2024-03-24T01:55:56.436563",
     "exception": false,
     "start_time": "2024-03-24T01:55:56.413355",
     "status": "completed"
    },
    "tags": []
   },
   "outputs": [
    {
     "data": {
      "text/plain": [
       "0"
      ]
     },
     "execution_count": 14,
     "metadata": {},
     "output_type": "execute_result"
    }
   ],
   "source": [
    "# Coding Studio link: https://bit.ly/42ZDqM4\n",
    "def count_occurances(arr: list[int], N: int, target: int) -> int:\n",
    "    def findFirst() -> int:\n",
    "        low, high, ans = 0, N - 1, -1\n",
    "        while low <= high:\n",
    "            mid = (low + high) // 2\n",
    "            if arr[mid] >= target:\n",
    "                if arr[mid] == target:\n",
    "                    ans = mid\n",
    "                high = mid - 1\n",
    "            else:\n",
    "                low = mid + 1\n",
    "\n",
    "        return ans\n",
    "\n",
    "    def findLast() -> int:\n",
    "        low, high, ans = 0, N - 1, -1\n",
    "        while low <= high:\n",
    "            mid = (low + high) // 2\n",
    "            if arr[mid] <= target:\n",
    "                if arr[mid] == target:\n",
    "                    ans = mid\n",
    "                low = mid + 1\n",
    "            else:\n",
    "                high = mid - 1\n",
    "\n",
    "        return ans\n",
    "\n",
    "    firstIdx = findFirst()\n",
    "    if firstIdx == -1:\n",
    "        return 0\n",
    "    else:\n",
    "        return findLast() - firstIdx + 1\n",
    "\n",
    "# Testing the solution\n",
    "count_occurances([1, 2, 2, 3, 4, 4, 4, 5, 6], 9, 9)"
   ]
  },
  {
   "cell_type": "markdown",
   "id": "7ae08467",
   "metadata": {
    "papermill": {
     "duration": 0.009537,
     "end_time": "2024-03-24T01:55:56.455990",
     "exception": false,
     "start_time": "2024-03-24T01:55:56.446453",
     "status": "completed"
    },
    "tags": []
   },
   "source": [
    "Video Link: https://www.youtube.com/watch?v=5qGrJbHhqFs&list=PLgUwDviBIf0oF6QL8m22w1hIDC1vJ_BHz&index=48\n",
    "Search in a rotated sorted array: https://leetcode.com/problems/search-in-rotated-sorted-array/"
   ]
  },
  {
   "cell_type": "code",
   "execution_count": 15,
   "id": "07fd3a6e",
   "metadata": {
    "execution": {
     "iopub.execute_input": "2024-03-24T01:55:56.477719Z",
     "iopub.status.busy": "2024-03-24T01:55:56.476992Z",
     "iopub.status.idle": "2024-03-24T01:55:56.486157Z",
     "shell.execute_reply": "2024-03-24T01:55:56.485366Z"
    },
    "lines_to_next_cell": 1,
    "papermill": {
     "duration": 0.021966,
     "end_time": "2024-03-24T01:55:56.487933",
     "exception": false,
     "start_time": "2024-03-24T01:55:56.465967",
     "status": "completed"
    },
    "tags": []
   },
   "outputs": [
    {
     "data": {
      "text/plain": [
       "8"
      ]
     },
     "execution_count": 15,
     "metadata": {},
     "output_type": "execute_result"
    }
   ],
   "source": [
    "def search_rotated_sorted1(arr: list[int], target: int) -> int:\n",
    "    N = len(arr)\n",
    "    low, high = 0, N - 1\n",
    "    while low <= high:\n",
    "        mid = (low + high) // 2\n",
    "        if arr[mid] == target:\n",
    "            return mid\n",
    "\n",
    "        # Left half is sorted\n",
    "        elif arr[low] <= arr[mid]:\n",
    "            # Element can be found in the left half\n",
    "            if arr[low] <= target <= arr[mid]:\n",
    "                high = mid - 1\n",
    "            else:\n",
    "                low = mid + 1\n",
    "\n",
    "        # Right half is sorted\n",
    "        else:\n",
    "            # Element can be found in the right half\n",
    "            if arr[mid] <= target <= arr[high]:\n",
    "                low = mid + 1\n",
    "            else:\n",
    "                high = mid - 1\n",
    "    else:\n",
    "        return -1\n",
    "\n",
    "search_rotated_sorted1([7, 8, 9, 1, 2, 3, 4, 5, 6], 6)"
   ]
  },
  {
   "cell_type": "markdown",
   "id": "fd5e97f9",
   "metadata": {
    "papermill": {
     "duration": 0.009697,
     "end_time": "2024-03-24T01:55:56.507642",
     "exception": false,
     "start_time": "2024-03-24T01:55:56.497945",
     "status": "completed"
    },
    "tags": []
   },
   "source": [
    "Video Link: https://www.youtube.com/watch?v=w2G2W8l__pc&list=PLgUwDviBIf0oF6QL8m22w1hIDC1vJ_BHz&index=49\n",
    "Search in rotated sorted arrays (with duplicates)\n",
    "Leetcode link: https://leetcode.com/problems/search-in-rotated-sorted-array-ii/submissions/1210474431/"
   ]
  },
  {
   "cell_type": "code",
   "execution_count": 16,
   "id": "310f82f5",
   "metadata": {
    "execution": {
     "iopub.execute_input": "2024-03-24T01:55:56.529084Z",
     "iopub.status.busy": "2024-03-24T01:55:56.528399Z",
     "iopub.status.idle": "2024-03-24T01:55:56.539009Z",
     "shell.execute_reply": "2024-03-24T01:55:56.538309Z"
    },
    "lines_to_next_cell": 1,
    "papermill": {
     "duration": 0.02332,
     "end_time": "2024-03-24T01:55:56.540737",
     "exception": false,
     "start_time": "2024-03-24T01:55:56.517417",
     "status": "completed"
    },
    "tags": []
   },
   "outputs": [
    {
     "data": {
      "text/plain": [
       "True"
      ]
     },
     "execution_count": 16,
     "metadata": {},
     "output_type": "execute_result"
    }
   ],
   "source": [
    "# Time complexity: O(n / 2)\n",
    "# If there are a lot of duplicates we might need to need to trim the left/right\n",
    "# repeatedly until arr[left] != arr[mid] != arr[right]\n",
    "def search_rotated_sorted2(arr: list[int], target: int) -> bool:\n",
    "    N = len(arr)\n",
    "    low, high = 0, N - 1\n",
    "    while low <= high:\n",
    "        mid = (low + high) // 2\n",
    "        if arr[mid] == target:\n",
    "            return True\n",
    "\n",
    "        # Special Case - [3, 1, 2, 3, 3, 3, 3, 3], eliminating left or right is not possible\n",
    "        elif arr[low] == arr[mid] == arr[high]:\n",
    "            low, high = low + 1, high - 1\n",
    "\n",
    "        # Left half is sorted\n",
    "        elif arr[low] <= arr[mid]:\n",
    "            # Element can be found in the left half\n",
    "            if arr[low] <= target <= arr[mid]:\n",
    "                high = mid - 1\n",
    "            else:\n",
    "                low = mid + 1\n",
    "\n",
    "        # Right half is sorted\n",
    "        else:\n",
    "            # Element can be found in the right half\n",
    "            if arr[mid] <= target <= arr[high]:\n",
    "                low = mid + 1\n",
    "            else:\n",
    "                high = mid - 1\n",
    "    else:\n",
    "        return False\n",
    "\n",
    "search_rotated_sorted2([3, 1, 2, 3, 3, 3, 3], 1)"
   ]
  },
  {
   "cell_type": "markdown",
   "id": "6657c71c",
   "metadata": {
    "papermill": {
     "duration": 0.009691,
     "end_time": "2024-03-24T01:55:56.560563",
     "exception": false,
     "start_time": "2024-03-24T01:55:56.550872",
     "status": "completed"
    },
    "tags": []
   },
   "source": [
    "Video Link: https://www.youtube.com/watch?v=nhEMDKMB44g&list=PLgUwDviBIf0oF6QL8m22w1hIDC1vJ_BHz&index=50\n",
    "Leetcode: https://leetcode.com/problems/find-minimum-in-rotated-sorted-array/submissions/1210490796"
   ]
  },
  {
   "cell_type": "code",
   "execution_count": 17,
   "id": "b50d9ac8",
   "metadata": {
    "execution": {
     "iopub.execute_input": "2024-03-24T01:55:56.582110Z",
     "iopub.status.busy": "2024-03-24T01:55:56.581540Z",
     "iopub.status.idle": "2024-03-24T01:55:56.589645Z",
     "shell.execute_reply": "2024-03-24T01:55:56.588816Z"
    },
    "papermill": {
     "duration": 0.020761,
     "end_time": "2024-03-24T01:55:56.591314",
     "exception": false,
     "start_time": "2024-03-24T01:55:56.570553",
     "status": "completed"
    },
    "tags": []
   },
   "outputs": [],
   "source": [
    "class Solution:\n",
    "    def findMin(self, nums: list[int]) -> int:\n",
    "        N = len(nums)\n",
    "        low, high, ans = 0, N - 1, nums[0]\n",
    "        while low <= high:\n",
    "            mid = (low + high) // 2\n",
    "            # Left half and right half is sorted (happens when we have crossed the pivot point or if the array was rotated 0 times)\n",
    "            if nums[low] < nums[mid] < nums[high]:\n",
    "                ans = min(ans, nums[low])\n",
    "                low, high = mid + 1, mid - 1\n",
    "\n",
    "            # Left half is sorted, take the min from left half and trim search space to the right half\n",
    "            elif nums[low] <= nums[mid]:\n",
    "                ans = min(ans, nums[low])\n",
    "                low = mid + 1\n",
    "\n",
    "            # Right half is sorted, take the min from the right half and trim search space to the left half\n",
    "            else:\n",
    "                ans = min(ans, nums[mid])\n",
    "                high = mid - 1\n",
    "\n",
    "        return ans\n",
    "\n",
    "# Testing the solution\n",
    "assert Solution().findMin([3,4,5,1,2]) == 1\n",
    "assert Solution().findMin([4,5,6,7,0,1,2]) == 0\n",
    "assert Solution().findMin([11,13,15,17]) == 11"
   ]
  },
  {
   "cell_type": "markdown",
   "id": "c2e4d69a",
   "metadata": {
    "papermill": {
     "duration": 0.00995,
     "end_time": "2024-03-24T01:55:56.611505",
     "exception": false,
     "start_time": "2024-03-24T01:55:56.601555",
     "status": "completed"
    },
    "tags": []
   },
   "source": [
    "Video Link: https://www.youtube.com/watch?v=jtSiWTPLwd0&list=PLgUwDviBIf0oF6QL8m22w1hIDC1vJ_BHz&index=51\n",
    "Count number of times an array has been rotated"
   ]
  },
  {
   "cell_type": "code",
   "execution_count": 18,
   "id": "f854c012",
   "metadata": {
    "execution": {
     "iopub.execute_input": "2024-03-24T01:55:56.633531Z",
     "iopub.status.busy": "2024-03-24T01:55:56.632768Z",
     "iopub.status.idle": "2024-03-24T01:55:56.640853Z",
     "shell.execute_reply": "2024-03-24T01:55:56.640108Z"
    },
    "papermill": {
     "duration": 0.020984,
     "end_time": "2024-03-24T01:55:56.642515",
     "exception": false,
     "start_time": "2024-03-24T01:55:56.621531",
     "status": "completed"
    },
    "tags": []
   },
   "outputs": [
    {
     "data": {
      "text/plain": [
       "4"
      ]
     },
     "execution_count": 18,
     "metadata": {},
     "output_type": "execute_result"
    }
   ],
   "source": [
    "arr = [2, 3, 4, 5, 1]\n",
    "N = len(arr)\n",
    "low, high, ans = 0, N - 1, 0\n",
    "while low <= high:\n",
    "    mid = (low + high) // 2\n",
    "    if arr[low] <= arr[mid]:\n",
    "        if arr[ans] > arr[low]:\n",
    "            ans = low\n",
    "        low = mid + 1\n",
    "    else:\n",
    "        if arr[ans] > arr[mid]:\n",
    "            ans = mid\n",
    "        high = mid - 1\n",
    "\n",
    "ans"
   ]
  },
  {
   "cell_type": "markdown",
   "id": "5769e9e8",
   "metadata": {
    "papermill": {
     "duration": 0.009853,
     "end_time": "2024-03-24T01:55:56.662584",
     "exception": false,
     "start_time": "2024-03-24T01:55:56.652731",
     "status": "completed"
    },
    "tags": []
   },
   "source": [
    "Video Link: https://www.youtube.com/watch?v=AZOmHuHadxQ&list=PLgUwDviBIf0oF6QL8m22w1hIDC1vJ_BHz&index=52\n",
    "Leetcode link: https://leetcode.com/problems/single-element-in-a-sorted-array/submissions/1211393503"
   ]
  },
  {
   "cell_type": "code",
   "execution_count": 19,
   "id": "1abaf5dd",
   "metadata": {
    "execution": {
     "iopub.execute_input": "2024-03-24T01:55:56.684471Z",
     "iopub.status.busy": "2024-03-24T01:55:56.683908Z",
     "iopub.status.idle": "2024-03-24T01:55:56.690414Z",
     "shell.execute_reply": "2024-03-24T01:55:56.689557Z"
    },
    "papermill": {
     "duration": 0.01944,
     "end_time": "2024-03-24T01:55:56.692154",
     "exception": false,
     "start_time": "2024-03-24T01:55:56.672714",
     "status": "completed"
    },
    "tags": []
   },
   "outputs": [
    {
     "data": {
      "text/plain": [
       "4"
      ]
     },
     "execution_count": 19,
     "metadata": {},
     "output_type": "execute_result"
    }
   ],
   "source": [
    "# Brute force approach\n",
    "# Time - O(N)\n",
    "arr = [1, 1, 2, 2, 3, 3, 4, 5, 5, 6, 6]\n",
    "res = 0\n",
    "for i in arr:\n",
    "    res ^= i\n",
    "res"
   ]
  },
  {
   "cell_type": "code",
   "execution_count": 20,
   "id": "69d77039",
   "metadata": {
    "execution": {
     "iopub.execute_input": "2024-03-24T01:55:56.714326Z",
     "iopub.status.busy": "2024-03-24T01:55:56.713658Z",
     "iopub.status.idle": "2024-03-24T01:55:56.722276Z",
     "shell.execute_reply": "2024-03-24T01:55:56.721529Z"
    },
    "lines_to_next_cell": 1,
    "papermill": {
     "duration": 0.021522,
     "end_time": "2024-03-24T01:55:56.723906",
     "exception": false,
     "start_time": "2024-03-24T01:55:56.702384",
     "status": "completed"
    },
    "tags": []
   },
   "outputs": [
    {
     "data": {
      "text/plain": [
       "4"
      ]
     },
     "execution_count": 20,
     "metadata": {},
     "output_type": "execute_result"
    }
   ],
   "source": [
    "# Better approach: O(log N)\n",
    "\"\"\"\n",
    "[1, 2, 2]\n",
    "[1, 1, 2]\n",
    "[1, 2, 2, 3, 3]\n",
    "[1, 1, 2, 3, 3]\n",
    "[1, 1, 2, 2, 3]\n",
    "[1, 2, 2, 3, 3, 4, 4]\n",
    "[1, 1, 2, 3, 3, 4, 4]\n",
    "[1, 1, 2, 2, 3, 4, 4]\n",
    "[1, 1, 2, 2, 3, 3, 4]\n",
    "# if mid is odd, mid - 1, mid should be same for left to be okay: low = mid + 1 / high = mid + 1\n",
    "# if mid is even, mid, mid + 1 should be the same for left to be okay: low = mid / high = mid\n",
    "\"\"\"\n",
    "arr = [1, 1, 2, 2, 3, 3, 4, 5, 5, 6, 6]\n",
    "N = len(arr)\n",
    "low, high = 0, N - 1\n",
    "while low < high:\n",
    "    mid = (low + high) // 2\n",
    "    if mid % 2 == 0:\n",
    "        if arr[mid] == arr[mid + 1]:\n",
    "            low = mid\n",
    "        else:\n",
    "            high = mid\n",
    "    else:\n",
    "        if arr[mid] == arr[mid - 1]:\n",
    "            low = mid + 1\n",
    "        else:\n",
    "            high = mid - 1\n",
    "\n",
    "arr[low]"
   ]
  },
  {
   "cell_type": "markdown",
   "id": "1879fb32",
   "metadata": {
    "papermill": {
     "duration": 0.010257,
     "end_time": "2024-03-24T01:55:56.744723",
     "exception": false,
     "start_time": "2024-03-24T01:55:56.734466",
     "status": "completed"
    },
    "tags": []
   },
   "source": [
    "Video Link: https://www.youtube.com/watch?v=cXxmbemS6XM&list=PLgUwDviBIf0oF6QL8m22w1hIDC1vJ_BHz&index=53\n",
    "Find Peak element"
   ]
  },
  {
   "cell_type": "code",
   "execution_count": 21,
   "id": "7126b9cc",
   "metadata": {
    "execution": {
     "iopub.execute_input": "2024-03-24T01:55:56.766965Z",
     "iopub.status.busy": "2024-03-24T01:55:56.766553Z",
     "iopub.status.idle": "2024-03-24T01:55:56.773300Z",
     "shell.execute_reply": "2024-03-24T01:55:56.772536Z"
    },
    "lines_to_next_cell": 1,
    "papermill": {
     "duration": 0.020003,
     "end_time": "2024-03-24T01:55:56.775029",
     "exception": false,
     "start_time": "2024-03-24T01:55:56.755026",
     "status": "completed"
    },
    "tags": []
   },
   "outputs": [],
   "source": [
    "def findPeakElement(arr: [int]) -> int:\n",
    "    N = len(arr)\n",
    "    low, high = 0, N - 1\n",
    "    while low <= high:\n",
    "        mid = (low + high) // 2\n",
    "        l, m, r = arr[mid - 1] if mid > 0 else -math.inf, arr[mid], arr[mid + 1] if mid < N - 1 else -math.inf\n",
    "        if l <  m > r:\n",
    "            return mid\n",
    "        elif l < m < r:\n",
    "            low = mid + 1\n",
    "        # handles both cases - l > m > r and l > m < r\n",
    "        # If the case is l > m < r, multiple peak exists, going any dir we would be able to reach a peak\n",
    "        else:\n",
    "            high = mid - 1\n",
    "    return -1\n",
    "\n",
    "# Testing the solution\n",
    "assert findPeakElement([1, 2, 3, 1]) == 2\n",
    "assert findPeakElement([1,2,1,3,5,6,4]) == 5"
   ]
  },
  {
   "cell_type": "markdown",
   "id": "399ae8e1",
   "metadata": {
    "papermill": {
     "duration": 0.010303,
     "end_time": "2024-03-24T01:55:56.795923",
     "exception": false,
     "start_time": "2024-03-24T01:55:56.785620",
     "status": "completed"
    },
    "tags": []
   },
   "source": [
    "Video Link: https://www.youtube.com/watch?v=Bsv3FPUX_BA&list=PLgUwDviBIf0oF6QL8m22w1hIDC1vJ_BHz&index=54\n",
    "Square root of a number using binary search\n",
    "Take home:\n",
    "\n",
    "1. For questions involving patterns where ans is possible uptil a certain extent and post which answers are not possible, we can apply our binary search algorithm (we always know the range of possible answers)\n",
    "2. When we are having regions of possible and not possible like so: [ans, ans, ans, not ans, not ans] - at the end of binary search, low will end up pointing at a position that is 1 greater than the ans (3) while high will end up pointing at the ans (2)"
   ]
  },
  {
   "cell_type": "code",
   "execution_count": 22,
   "id": "64144c7a",
   "metadata": {
    "execution": {
     "iopub.execute_input": "2024-03-24T01:55:56.818283Z",
     "iopub.status.busy": "2024-03-24T01:55:56.817599Z",
     "iopub.status.idle": "2024-03-24T01:55:56.857301Z",
     "shell.execute_reply": "2024-03-24T01:55:56.856470Z"
    },
    "papermill": {
     "duration": 0.052861,
     "end_time": "2024-03-24T01:55:56.859021",
     "exception": false,
     "start_time": "2024-03-24T01:55:56.806160",
     "status": "completed"
    },
    "tags": []
   },
   "outputs": [
    {
     "name": "stderr",
     "output_type": "stream",
     "text": [
      "\r",
      "  0%|          | 0/10000 [00:00<?, ?it/s]"
     ]
    },
    {
     "name": "stderr",
     "output_type": "stream",
     "text": [
      "\r",
      "100%|██████████| 10000/10000 [00:00<00:00, 322291.69it/s]"
     ]
    },
    {
     "name": "stderr",
     "output_type": "stream",
     "text": [
      "\n"
     ]
    }
   ],
   "source": [
    "def floorSqrt(n: int) -> int:\n",
    "    'Time - O(log n)'\n",
    "    low, high = 1, n\n",
    "    while low <= high:\n",
    "        mid = (low + high) // 2\n",
    "        if mid * mid > n:\n",
    "            high = mid - 1\n",
    "        else:\n",
    "            low = mid + 1\n",
    "\n",
    "    return high\n",
    "\n",
    "# Testing the solution\n",
    "for i in tqdm.tqdm(range(int(1e4))):\n",
    "    assert floorSqrt(i) == int(math.sqrt(i))"
   ]
  }
 ],
 "metadata": {
  "kernelspec": {
   "display_name": "Python 3 (ipykernel)",
   "language": "python",
   "name": "python3"
  },
  "language_info": {
   "codemirror_mode": {
    "name": "ipython",
    "version": 3
   },
   "file_extension": ".py",
   "mimetype": "text/x-python",
   "name": "python",
   "nbconvert_exporter": "python",
   "pygments_lexer": "ipython3",
   "version": "3.10.14"
  },
  "papermill": {
   "default_parameters": {},
   "duration": 2.345471,
   "end_time": "2024-03-24T01:55:57.087660",
   "environment_variables": {},
   "exception": null,
   "input_path": "study/striver-A2Z/09-binary-search.ipynb",
   "output_path": "study/striver-A2Z/09-binary-search.ipynb",
   "parameters": {},
   "start_time": "2024-03-24T01:55:54.742189",
   "version": "2.5.0"
  }
 },
 "nbformat": 4,
 "nbformat_minor": 5
}