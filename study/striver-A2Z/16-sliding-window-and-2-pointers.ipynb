{
 "cells": [
  {
   "cell_type": "markdown",
   "id": "537af087",
   "metadata": {},
   "source": [
    "### Useful imports"
   ]
  },
  {
   "cell_type": "code",
   "execution_count": null,
   "id": "8547ae8d",
   "metadata": {
    "lines_to_next_cell": 1
   },
   "outputs": [],
   "source": [
    "import math\n",
    "import bisect\n",
    "import collections\n",
    "import itertools\n",
    "import functools"
   ]
  },
  {
   "cell_type": "markdown",
   "id": "260ad104",
   "metadata": {},
   "source": [
    "### Sliding window and 2 pointers\n",
    "Video Link: https://youtu.be/9kdHxplyl5I?si=YRjMqeBd1hIsB-Pt\n",
    "Types of problems:\n",
    "  1. Constant window\n",
    "  2. Longest subarray with condition\n",
    "      - Expand happens for the right side of the window\n",
    "      - Shrink happens for the left side of the window\n",
    "  3. No of subarrays with condition\n",
    "  4. Shortest / minimum window with condition"
   ]
  },
  {
   "cell_type": "code",
   "execution_count": null,
   "id": "dadb6941",
   "metadata": {
    "lines_to_next_cell": 1
   },
   "outputs": [],
   "source": [
    "# Category 1: Maximum sum subarray of k elements\n",
    "def maxSumSubarray(arr: list[int], K: int) -> int:\n",
    "    # Time: O(N), Space: O(1)\n",
    "    N = len(arr)\n",
    "    max_ = sum_ = sum(arr[:K])\n",
    "    for j in range(K, N):\n",
    "        i = j - K\n",
    "        sum_  = sum_ - arr[i] + arr[j]\n",
    "        max_ = max(max_, sum_)\n",
    "\n",
    "    return max_\n",
    "\n",
    "# Testing the solution\n",
    "assert maxSumSubarray([-1,2,3,3,4,5,-1], 4) == 15"
   ]
  },
  {
   "cell_type": "code",
   "execution_count": null,
   "id": "e91c4e7f",
   "metadata": {
    "lines_to_next_cell": 1
   },
   "outputs": [],
   "source": [
    "# Category 2: Longest subarray with sum <= K\n",
    "def longestSubarrayBetter(arr: list[int], K: int):\n",
    "    N = len(arr)\n",
    "    max_, sum_, i, j = 0, float(arr[0]), 0, 0\n",
    "    while j < N and i < N:\n",
    "\n",
    "        # Expand\n",
    "        if sum_ <= K:\n",
    "            max_ = max(max_, j - i + 1)\n",
    "            sum_, j = sum_ + (arr[j + 1] if j + 1 < N else math.inf), j + 1\n",
    "\n",
    "        # Shrink\n",
    "        else:\n",
    "            sum_, i = sum_ - arr[i], i + 1\n",
    "            if i > j and i < N:\n",
    "                sum_, j = arr[i], i\n",
    "\n",
    "    return max_\n",
    "\n",
    "# Testing the solution\n",
    "assert longestSubarrayBetter([2,5,1,7,10], 14) == 3\n",
    "assert longestSubarrayBetter([2,5,1,7,10], 1) == 1\n",
    "assert longestSubarrayBetter([2,5,1,7,10], 0) == 0\n",
    "assert longestSubarrayBetter([7,10,0], 0) == 1"
   ]
  },
  {
   "cell_type": "code",
   "execution_count": null,
   "id": "78d6cebe",
   "metadata": {},
   "outputs": [],
   "source": [
    "def longestSubarrayOptimal(arr: list[int], K: int):\n",
    "    N = len(arr)\n",
    "    max_ = sum_ = i = j = 0\n",
    "    while j < N:\n",
    "        sum_ = sum_ + arr[j]\n",
    "        if sum_ > K:\n",
    "            sum_, i = sum_ - arr[i], i + 1\n",
    "        else:\n",
    "            max_ = max(max_, j - i + 1)\n",
    "        j += 1\n",
    "\n",
    "    return max_\n",
    "\n",
    "# Testing the solution\n",
    "assert longestSubarrayOptimal([2,5,1,7,10], 14) == 3\n",
    "assert longestSubarrayOptimal([2,5,1,7,10], 1) == 1\n",
    "assert longestSubarrayOptimal([2,5,1,7,10], 0) == 0\n",
    "assert longestSubarrayOptimal([7,10,0], 0) == 1"
   ]
  }
 ],
 "metadata": {
  "kernelspec": {
   "display_name": "Python 3 (ipykernel)",
   "language": "python",
   "name": "python3"
  }
 },
 "nbformat": 4,
 "nbformat_minor": 2
}
