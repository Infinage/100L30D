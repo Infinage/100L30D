{
 "cells": [
  {
   "cell_type": "markdown",
   "id": "b6671da9",
   "metadata": {
    "papermill": {
     "duration": 0.004677,
     "end_time": "2024-06-07T18:28:52.096496",
     "exception": false,
     "start_time": "2024-06-07T18:28:52.091819",
     "status": "completed"
    },
    "tags": []
   },
   "source": [
    "### Useful imports"
   ]
  },
  {
   "cell_type": "code",
   "execution_count": 1,
   "id": "8fe92d24",
   "metadata": {
    "execution": {
     "iopub.execute_input": "2024-06-07T18:28:52.105868Z",
     "iopub.status.busy": "2024-06-07T18:28:52.105389Z",
     "iopub.status.idle": "2024-06-07T18:28:52.110917Z",
     "shell.execute_reply": "2024-06-07T18:28:52.110367Z"
    },
    "lines_to_next_cell": 1,
    "papermill": {
     "duration": 0.011566,
     "end_time": "2024-06-07T18:28:52.112104",
     "exception": false,
     "start_time": "2024-06-07T18:28:52.100538",
     "status": "completed"
    },
    "tags": []
   },
   "outputs": [],
   "source": [
    "import math\n",
    "import bisect\n",
    "import collections\n",
    "import itertools\n",
    "import functools"
   ]
  },
  {
   "cell_type": "markdown",
   "id": "d85c2eae",
   "metadata": {
    "papermill": {
     "duration": 0.003969,
     "end_time": "2024-06-07T18:28:52.120100",
     "exception": false,
     "start_time": "2024-06-07T18:28:52.116131",
     "status": "completed"
    },
    "tags": []
   },
   "source": [
    "### Sliding window and 2 pointers\n",
    "Video Link: https://youtu.be/9kdHxplyl5I?si=YRjMqeBd1hIsB-Pt\n",
    "Types of problems:\n",
    "  1. Constant window\n",
    "  2. Longest subarray with condition\n",
    "      - Expand happens for the right side of the window\n",
    "      - Shrink happens for the left side of the window\n",
    "  3. No of subarrays with condition\n",
    "      - For eg: Num of subarrays with sum equals K => No of subarrays with sum <= K - No of subarrays with sum <= K - 1\n",
    "  4. Shortest / minimum window with condition\n",
    "      - Find a valid window, shrink until window remains valid"
   ]
  },
  {
   "cell_type": "code",
   "execution_count": 2,
   "id": "6ef36636",
   "metadata": {
    "execution": {
     "iopub.execute_input": "2024-06-07T18:28:52.130196Z",
     "iopub.status.busy": "2024-06-07T18:28:52.129634Z",
     "iopub.status.idle": "2024-06-07T18:28:52.133645Z",
     "shell.execute_reply": "2024-06-07T18:28:52.133228Z"
    },
    "lines_to_next_cell": 1,
    "papermill": {
     "duration": 0.010778,
     "end_time": "2024-06-07T18:28:52.134737",
     "exception": false,
     "start_time": "2024-06-07T18:28:52.123959",
     "status": "completed"
    },
    "tags": []
   },
   "outputs": [],
   "source": [
    "# Category 1: Maximum sum subarray of k elements\n",
    "def maxSumSubarray(arr: list[int], K: int) -> int:\n",
    "    # Time: O(N), Space: O(1)\n",
    "    N = len(arr)\n",
    "    max_ = sum_ = sum(arr[:K])\n",
    "    for j in range(K, N):\n",
    "        i = j - K\n",
    "        sum_  = sum_ - arr[i] + arr[j]\n",
    "        max_ = max(max_, sum_)\n",
    "\n",
    "    return max_\n",
    "\n",
    "# Testing the solution\n",
    "assert maxSumSubarray([-1,2,3,3,4,5,-1], 4) == 15"
   ]
  },
  {
   "cell_type": "code",
   "execution_count": 3,
   "id": "814183d5",
   "metadata": {
    "execution": {
     "iopub.execute_input": "2024-06-07T18:28:52.143797Z",
     "iopub.status.busy": "2024-06-07T18:28:52.143341Z",
     "iopub.status.idle": "2024-06-07T18:28:52.148839Z",
     "shell.execute_reply": "2024-06-07T18:28:52.148401Z"
    },
    "lines_to_next_cell": 1,
    "papermill": {
     "duration": 0.011155,
     "end_time": "2024-06-07T18:28:52.149868",
     "exception": false,
     "start_time": "2024-06-07T18:28:52.138713",
     "status": "completed"
    },
    "tags": []
   },
   "outputs": [],
   "source": [
    "# Category 2: Longest subarray with sum <= K\n",
    "def longestSubarrayBetter(arr: list[int], K: int):\n",
    "    \"\"\"\n",
    "    If valid, we try to expand\n",
    "    Else we try to shrink\n",
    "    This is the valid solution if we are especially asked to find and print the subarray\n",
    "\n",
    "    Time: O(2N), Space: O(1)\n",
    "    \"\"\"\n",
    "    N = len(arr)\n",
    "    max_, sum_, i, j = 0, float(arr[0]), 0, 0\n",
    "    while j < N and i < N:\n",
    "\n",
    "        # Expand\n",
    "        if sum_ <= K:\n",
    "            max_ = max(max_, j - i + 1)\n",
    "            sum_, j = sum_ + (arr[j + 1] if j + 1 < N else math.inf), j + 1\n",
    "\n",
    "        # Shrink\n",
    "        else:\n",
    "            sum_, i = sum_ - arr[i], i + 1\n",
    "            if i > j and i < N:\n",
    "                sum_, j = arr[i], i\n",
    "\n",
    "    return max_\n",
    "\n",
    "# Testing the solution\n",
    "assert longestSubarrayBetter([2,5,1,7,10], 14) == 3\n",
    "assert longestSubarrayBetter([2,5,1,7,10], 1) == 1\n",
    "assert longestSubarrayBetter([2,5,1,7,10], 0) == 0\n",
    "assert longestSubarrayBetter([7,10,0], 0) == 1"
   ]
  },
  {
   "cell_type": "code",
   "execution_count": 4,
   "id": "171f3929",
   "metadata": {
    "execution": {
     "iopub.execute_input": "2024-06-07T18:28:52.158639Z",
     "iopub.status.busy": "2024-06-07T18:28:52.158324Z",
     "iopub.status.idle": "2024-06-07T18:28:52.163510Z",
     "shell.execute_reply": "2024-06-07T18:28:52.162984Z"
    },
    "lines_to_next_cell": 1,
    "papermill": {
     "duration": 0.010797,
     "end_time": "2024-06-07T18:28:52.164599",
     "exception": false,
     "start_time": "2024-06-07T18:28:52.153802",
     "status": "completed"
    },
    "tags": []
   },
   "outputs": [],
   "source": [
    "def longestSubarrayOptimal(arr: list[int], K: int):\n",
    "    \"\"\"\n",
    "    The code is the same as above with 1 optimization.\n",
    "    Since we are asked to find just the length, we don't have to shrink the array beyond the max length already obtained.\n",
    "    Shrink until we have reached the max window size and then slide it forward.\n",
    "\n",
    "    Time: O(N), Space: O(1)\n",
    "    \"\"\"\n",
    "    N = len(arr)\n",
    "    max_, sum_, i, j = 0, float(arr[0]), 0, 0\n",
    "    while j < N and i < N:\n",
    "\n",
    "        # Expand\n",
    "        if sum_ <= K:\n",
    "            max_ = max(max_, j - i + 1)\n",
    "            sum_, j = sum_ + (arr[j + 1] if j + 1 < N else math.inf), j + 1\n",
    "\n",
    "        # Slide\n",
    "        else:\n",
    "            sum_, i, j = sum_ - arr[i] + (arr[j + 1] if j + 1 < N else math.inf), i + 1, j + 1\n",
    "\n",
    "    return max_\n",
    "\n",
    "# Testing the solution\n",
    "assert longestSubarrayOptimal([2,5,1,7,10], 14) == 3\n",
    "assert longestSubarrayOptimal([2,5,1,7,10], 1) == 1\n",
    "assert longestSubarrayOptimal([2,5,1,7,10], 0) == 0\n",
    "assert longestSubarrayOptimal([7,10,0], 0) == 1"
   ]
  },
  {
   "cell_type": "markdown",
   "id": "cf69814c",
   "metadata": {
    "papermill": {
     "duration": 0.003825,
     "end_time": "2024-06-07T18:28:52.172277",
     "exception": false,
     "start_time": "2024-06-07T18:28:52.168452",
     "status": "completed"
    },
    "tags": []
   },
   "source": [
    "Maximum points you can obtain from cards\n",
    "Video link: https://youtu.be/pBWCOCS636U?si=MrB1rbR3ScPbJGyB"
   ]
  },
  {
   "cell_type": "code",
   "execution_count": 5,
   "id": "d6a9257f",
   "metadata": {
    "execution": {
     "iopub.execute_input": "2024-06-07T18:28:52.181104Z",
     "iopub.status.busy": "2024-06-07T18:28:52.180755Z",
     "iopub.status.idle": "2024-06-07T18:28:52.185177Z",
     "shell.execute_reply": "2024-06-07T18:28:52.184669Z"
    },
    "lines_to_next_cell": 1,
    "papermill": {
     "duration": 0.010207,
     "end_time": "2024-06-07T18:28:52.186266",
     "exception": false,
     "start_time": "2024-06-07T18:28:52.176059",
     "status": "completed"
    },
    "tags": []
   },
   "outputs": [],
   "source": [
    "# https://leetcode.com/problems/maximum-points-you-can-obtain-from-cards/submissions/1276966170\n",
    "def maxScore(cardPoints: list[int], K: int) -> int:\n",
    "    N: int = len(cardPoints)\n",
    "    max_ = sum_ = sum(cardPoints[-K:])\n",
    "    for i in range(K):\n",
    "        sum_ = sum_ - cardPoints[N + i - K] + cardPoints[i]\n",
    "        max_ = max(max_, sum_)\n",
    "\n",
    "    return max_\n",
    "\n",
    "# Testing the solution\n",
    "assert maxScore([1,2,3,4,5,6,1], 3) == 12\n",
    "assert maxScore([1,2,3,4,5,6,1], 2) == 7\n",
    "assert maxScore([2,2,2], 2) == 4\n",
    "assert maxScore([9,7,7,9,7,7,9], 7) == 55"
   ]
  },
  {
   "cell_type": "markdown",
   "id": "0d36216d",
   "metadata": {
    "papermill": {
     "duration": 0.003794,
     "end_time": "2024-06-07T18:28:52.194030",
     "exception": false,
     "start_time": "2024-06-07T18:28:52.190236",
     "status": "completed"
    },
    "tags": []
   },
   "source": [
    "Longest substring without repeating characters\n",
    "Video Link: https://youtu.be/-zSxTJkcdAo?si=OCzXyY4AuXSZz-eS"
   ]
  },
  {
   "cell_type": "code",
   "execution_count": 6,
   "id": "688e574f",
   "metadata": {
    "execution": {
     "iopub.execute_input": "2024-06-07T18:28:52.202746Z",
     "iopub.status.busy": "2024-06-07T18:28:52.202383Z",
     "iopub.status.idle": "2024-06-07T18:28:52.206622Z",
     "shell.execute_reply": "2024-06-07T18:28:52.206175Z"
    },
    "lines_to_next_cell": 1,
    "papermill": {
     "duration": 0.009854,
     "end_time": "2024-06-07T18:28:52.207736",
     "exception": false,
     "start_time": "2024-06-07T18:28:52.197882",
     "status": "completed"
    },
    "tags": []
   },
   "outputs": [],
   "source": [
    "# https://leetcode.com/problems/longest-substring-without-repeating-characters/submissions/1277421731\n",
    "def lengthOfLongestSubstring(s: str) -> int:\n",
    "    N, max_, i = len(s), 0, 0\n",
    "    indices: dict[str, int] = {}\n",
    "    for j in range(N):\n",
    "        idx, indices[s[j]] = indices.get(s[j], -1), j\n",
    "        if idx < i:\n",
    "            max_ = max(max_, j - i + 1)\n",
    "        else:\n",
    "            i = idx + 1\n",
    "\n",
    "    return max_\n",
    "\n",
    "# Testing the solution\n",
    "assert lengthOfLongestSubstring(\"abcabcbb\") == 3\n",
    "assert lengthOfLongestSubstring(\"pwwkew\") == 3\n",
    "assert lengthOfLongestSubstring(\"aaqasdcdaq\") == 5"
   ]
  },
  {
   "cell_type": "markdown",
   "id": "50bdca9c",
   "metadata": {
    "papermill": {
     "duration": 0.003874,
     "end_time": "2024-06-07T18:28:52.215539",
     "exception": false,
     "start_time": "2024-06-07T18:28:52.211665",
     "status": "completed"
    },
    "tags": []
   },
   "source": [
    "Max consecutive ones III: https://leetcode.com/problems/max-consecutive-ones-iii/\n",
    "Video Link: https://youtu.be/3E4JBHSLpYk?si=63rPPAESHHuPbIas"
   ]
  },
  {
   "cell_type": "code",
   "execution_count": 7,
   "id": "b81ea511",
   "metadata": {
    "execution": {
     "iopub.execute_input": "2024-06-07T18:28:52.224034Z",
     "iopub.status.busy": "2024-06-07T18:28:52.223577Z",
     "iopub.status.idle": "2024-06-07T18:28:52.228902Z",
     "shell.execute_reply": "2024-06-07T18:28:52.228488Z"
    },
    "lines_to_next_cell": 1,
    "papermill": {
     "duration": 0.010641,
     "end_time": "2024-06-07T18:28:52.229906",
     "exception": false,
     "start_time": "2024-06-07T18:28:52.219265",
     "status": "completed"
    },
    "tags": []
   },
   "outputs": [],
   "source": [
    "# https://leetcode.com/problems/max-consecutive-ones-iii/submissions/1277492942/\n",
    "def longestOnes(nums: list[int], K: int) -> int:\n",
    "    \"\"\"\n",
    "    Expand if zero_count <= k\n",
    "    Else slide\n",
    "\n",
    "    We can optimize this code a little more if we kept track of the first 0 within our window.\n",
    "    Once zero_count > K, we can directly slide first_zero - i steps.\n",
    "    \"\"\"\n",
    "    N, zero_count = len(nums), 1 if nums[0] == 0 else 0\n",
    "    max_: int = 0\n",
    "    i = j = 0\n",
    "    while j < N:\n",
    "\n",
    "        # Expand\n",
    "        if zero_count <= K:\n",
    "            max_ = max(max_, j - i + 1)\n",
    "            j += 1\n",
    "            if j < N and nums[j] == 0:\n",
    "                zero_count += 1\n",
    "\n",
    "        # Slide\n",
    "        else:\n",
    "            if nums[i] == 0:\n",
    "                zero_count -= 1\n",
    "            if j + 1 < N and nums[j + 1] == 0:\n",
    "                zero_count += 1\n",
    "            i, j = i + 1, j + 1\n",
    "\n",
    "    return max_\n",
    "\n",
    "# Testing the solution\n",
    "assert longestOnes([1,1,1,0,0,0,1,1,1,1,0], 2) == 6\n",
    "assert longestOnes([0,0,1,1,0,0,1,1,1,0,1,1,0,0,0,1,1,1,1], 3) == 10\n",
    "assert longestOnes([0,0,0,0], 3) == 3"
   ]
  },
  {
   "cell_type": "markdown",
   "id": "ee79e853",
   "metadata": {
    "papermill": {
     "duration": 0.003764,
     "end_time": "2024-06-07T18:28:52.237558",
     "exception": false,
     "start_time": "2024-06-07T18:28:52.233794",
     "status": "completed"
    },
    "tags": []
   },
   "source": [
    "Fruit into baskets: https://leetcode.com/problems/fruit-into-baskets\n",
    "Video Link: https://youtu.be/e3bs0uA1NhQ?si=6ii_zUURKMi_Wu4i\n",
    "Striver uses a different approach of counting by freq, they are of the same time complexity"
   ]
  },
  {
   "cell_type": "code",
   "execution_count": 8,
   "id": "6d7b7c24",
   "metadata": {
    "execution": {
     "iopub.execute_input": "2024-06-07T18:28:52.246151Z",
     "iopub.status.busy": "2024-06-07T18:28:52.245808Z",
     "iopub.status.idle": "2024-06-07T18:28:52.250410Z",
     "shell.execute_reply": "2024-06-07T18:28:52.250003Z"
    },
    "lines_to_next_cell": 1,
    "papermill": {
     "duration": 0.010176,
     "end_time": "2024-06-07T18:28:52.251473",
     "exception": false,
     "start_time": "2024-06-07T18:28:52.241297",
     "status": "completed"
    },
    "tags": []
   },
   "outputs": [],
   "source": [
    "# https://leetcode.com/problems/fruit-into-baskets/submissions/1277567029\n",
    "def maxFruits(fruits: list[int]):\n",
    "    # Time: O(N), Space: O(1)\n",
    "    N = len(fruits)\n",
    "    indices: dict[int, int] = dict()\n",
    "    max_length = i = 0\n",
    "    for j in range(N):\n",
    "        indices[fruits[j]] = j\n",
    "        if len(indices) < 3:\n",
    "            max_length = max(max_length, j - i + 1)\n",
    "        else:\n",
    "            min_pair = (-1, N)\n",
    "\n",
    "            # At most 3 items\n",
    "            for k, v in indices.items():\n",
    "                if v < min_pair[1]:\n",
    "                    min_pair = (k, v)\n",
    "\n",
    "            indices.pop(min_pair[0])\n",
    "            i = min_pair[1] + 1\n",
    "\n",
    "    return max_length\n",
    "\n",
    "# Testing the solution\n",
    "assert maxFruits([2,1,2]) == 3\n",
    "assert maxFruits([0,1,2,2,2,2]) == 5\n",
    "assert maxFruits([1,3,1,2,2,3,2]) == 4"
   ]
  },
  {
   "cell_type": "markdown",
   "id": "ea13d95c",
   "metadata": {
    "papermill": {
     "duration": 0.003768,
     "end_time": "2024-06-07T18:28:52.259049",
     "exception": false,
     "start_time": "2024-06-07T18:28:52.255281",
     "status": "completed"
    },
    "tags": []
   },
   "source": [
    "Longest substring with k distinct characters: https://www.naukri.com/code360/problems/distinct-characters_2221410\n",
    "Video Link: https://youtu.be/teM9ZsVRQyc?si=FMHKeYm3rvkCu0GG"
   ]
  },
  {
   "cell_type": "code",
   "execution_count": 9,
   "id": "5116cf4c",
   "metadata": {
    "execution": {
     "iopub.execute_input": "2024-06-07T18:28:52.267878Z",
     "iopub.status.busy": "2024-06-07T18:28:52.267470Z",
     "iopub.status.idle": "2024-06-07T18:28:52.271959Z",
     "shell.execute_reply": "2024-06-07T18:28:52.271520Z"
    },
    "lines_to_next_cell": 1,
    "papermill": {
     "duration": 0.010025,
     "end_time": "2024-06-07T18:28:52.273010",
     "exception": false,
     "start_time": "2024-06-07T18:28:52.262985",
     "status": "completed"
    },
    "tags": []
   },
   "outputs": [],
   "source": [
    "def kDistinctChars(S: str, K: int):\n",
    "    \"\"\"\n",
    "    Although it is possible to use the same code as above, finding the min index to shift right might take O(24) time.\n",
    "    Better to use striver's implementation of the same problem.\n",
    "    \"\"\"\n",
    "\n",
    "    N = len(S)\n",
    "    max_ = i = 0\n",
    "    freq: dict[str, int] = dict()\n",
    "    for j in range(N):\n",
    "        freq[S[j]] = freq.get(S[j], 0) + 1\n",
    "\n",
    "        # Expand\n",
    "        if len(freq) <= K:\n",
    "            max_ = max(max_, j - i + 1)\n",
    "\n",
    "        # Slide\n",
    "        else:\n",
    "            freq[S[i]] -= 1\n",
    "            if freq[S[i]] == 0:\n",
    "                freq.pop(S[i])\n",
    "            i += 1\n",
    "\n",
    "    return max_\n",
    "\n",
    "# Testing the solution\n",
    "assert kDistinctChars(\"abbbbbbc\", 2) == 7\n",
    "assert kDistinctChars(\"abcddefg\", 3) == 4"
   ]
  },
  {
   "cell_type": "markdown",
   "id": "34efbc74",
   "metadata": {
    "papermill": {
     "duration": 0.003864,
     "end_time": "2024-06-07T18:28:52.280908",
     "exception": false,
     "start_time": "2024-06-07T18:28:52.277044",
     "status": "completed"
    },
    "tags": []
   },
   "source": [
    "Number of substrings containing all 3 characters\n",
    "Video link: https://youtu.be/xtqN4qlgr8s?si=T_1Xp0aNnlf_pQzn"
   ]
  },
  {
   "cell_type": "code",
   "execution_count": 10,
   "id": "23e9154b",
   "metadata": {
    "execution": {
     "iopub.execute_input": "2024-06-07T18:28:52.289301Z",
     "iopub.status.busy": "2024-06-07T18:28:52.289109Z",
     "iopub.status.idle": "2024-06-07T18:28:52.293719Z",
     "shell.execute_reply": "2024-06-07T18:28:52.293288Z"
    },
    "lines_to_next_cell": 1,
    "papermill": {
     "duration": 0.010064,
     "end_time": "2024-06-07T18:28:52.294726",
     "exception": false,
     "start_time": "2024-06-07T18:28:52.284662",
     "status": "completed"
    },
    "tags": []
   },
   "outputs": [],
   "source": [
    "# https://leetcode.com/problems/number-of-substrings-containing-all-three-characters/submissions/1277998565\n",
    "def numberOfSubstrings(S: str) -> int:\n",
    "    \"\"\"\n",
    "    Increase J until we find a valid sequence, everything to the right is also valid\n",
    "    Try shrinking left (increasing i) to see if it is valid, if it is everything to the right is also valid\n",
    "\n",
    "    Time: O(2N), Space: O(3)\n",
    "    \"\"\"\n",
    "    N = len(S)\n",
    "    freq: dict[str, int] = {S[0]: 1}\n",
    "    count = i = j = 0\n",
    "    while j < N:\n",
    "        if len(freq) == 3:\n",
    "            count += N - j\n",
    "            freq[S[i]] -= 1\n",
    "            if freq[S[i]] == 0:\n",
    "                freq.pop(S[i])\n",
    "            i += 1\n",
    "        else:\n",
    "            j += 1\n",
    "            if j < N:\n",
    "                freq[S[j]] = freq.get(S[j], 0) + 1\n",
    "\n",
    "    return count\n",
    "\n",
    "# Testing the solution\n",
    "assert numberOfSubstrings(\"abcabc\") == 10\n",
    "assert numberOfSubstrings(\"aaacb\") == 3\n",
    "assert numberOfSubstrings(\"abc\") == 1"
   ]
  },
  {
   "cell_type": "code",
   "execution_count": 11,
   "id": "f3d190d8",
   "metadata": {
    "execution": {
     "iopub.execute_input": "2024-06-07T18:28:52.303492Z",
     "iopub.status.busy": "2024-06-07T18:28:52.303023Z",
     "iopub.status.idle": "2024-06-07T18:28:52.306994Z",
     "shell.execute_reply": "2024-06-07T18:28:52.306568Z"
    },
    "lines_to_next_cell": 1,
    "papermill": {
     "duration": 0.009453,
     "end_time": "2024-06-07T18:28:52.308060",
     "exception": false,
     "start_time": "2024-06-07T18:28:52.298607",
     "status": "completed"
    },
    "tags": []
   },
   "outputs": [],
   "source": [
    "# https://leetcode.com/problems/number-of-substrings-containing-all-three-characters/submissions/1278006815\n",
    "def numberOfSubstringsStriver(S: str) -> int:\n",
    "    \"\"\"\n",
    "    At every index we keep track of the last seen index for each character a, b, c -> last_seen\n",
    "    Find the minimial window uptil which the window was valid - min(last_seen.values()) -> i\n",
    "    Every substring to the left of our minimal window would have still been valid: count += i + 1\n",
    "\n",
    "    Time: O(N), Space: O(3)\n",
    "    \"\"\"\n",
    "    N, count = len(S), 0\n",
    "    last_seen: dict[str, int] = {\"a\": -1, \"b\": -1, \"c\": -1}\n",
    "    for i in range(N):\n",
    "        last_seen[S[i]] = i\n",
    "        count += min(last_seen.values()) + 1\n",
    "\n",
    "    return count\n",
    "\n",
    "# Testing the solution\n",
    "assert numberOfSubstringsStriver(\"abcabc\") == 10\n",
    "assert numberOfSubstringsStriver(\"aaacb\") == 3\n",
    "assert numberOfSubstringsStriver(\"abc\") == 1"
   ]
  },
  {
   "cell_type": "markdown",
   "id": "52f58033",
   "metadata": {
    "papermill": {
     "duration": 0.004065,
     "end_time": "2024-06-07T18:28:52.316142",
     "exception": false,
     "start_time": "2024-06-07T18:28:52.312077",
     "status": "completed"
    },
    "tags": []
   },
   "source": [
    "Longest repeating character replacement\n",
    "Video Link: https://youtu.be/_eNhaDCr6P0?si=bsYcEmV-N7yOOh1z"
   ]
  },
  {
   "cell_type": "code",
   "execution_count": 12,
   "id": "91b23fa8",
   "metadata": {
    "execution": {
     "iopub.execute_input": "2024-06-07T18:28:52.324746Z",
     "iopub.status.busy": "2024-06-07T18:28:52.324360Z",
     "iopub.status.idle": "2024-06-07T18:28:52.329186Z",
     "shell.execute_reply": "2024-06-07T18:28:52.328694Z"
    },
    "lines_to_next_cell": 1,
    "papermill": {
     "duration": 0.010316,
     "end_time": "2024-06-07T18:28:52.330262",
     "exception": false,
     "start_time": "2024-06-07T18:28:52.319946",
     "status": "completed"
    },
    "tags": []
   },
   "outputs": [],
   "source": [
    "# https://leetcode.com/problems/longest-repeating-character-replacement/submissions/1278607910\n",
    "def characterReplacement(S: str, K: int) -> int:\n",
    "    \"\"\"\n",
    "    Logic: Given a string 'AAABBC', minimum conversions required would be length - maxfreq\n",
    "    \"\"\"\n",
    "    N, max_length = len(S), 0\n",
    "    freq: list[int] = [0 for i in range(26)]\n",
    "\n",
    "    i = j = 0\n",
    "    while j < N:\n",
    "\n",
    "        # Expand\n",
    "        if (j - i + 1) - max(freq) <= K:\n",
    "            max_length = max(max_length, j - i + 1)\n",
    "\n",
    "        # Slide\n",
    "        else:\n",
    "            freq[ord(S[i]) - ord('A')] -= 1\n",
    "            i += 1\n",
    "\n",
    "        j += 1\n",
    "        if j < N:\n",
    "            freq[ord(S[j]) - ord('A')] += 1\n",
    "\n",
    "    return max_length\n",
    "\n",
    "# Testing the solution\n",
    "assert characterReplacement(\"ABAB\", 2) == 4\n",
    "assert characterReplacement(\"AABABBA\", 1) == 4"
   ]
  },
  {
   "cell_type": "code",
   "execution_count": 13,
   "id": "35170d83",
   "metadata": {
    "execution": {
     "iopub.execute_input": "2024-06-07T18:28:52.339002Z",
     "iopub.status.busy": "2024-06-07T18:28:52.338550Z",
     "iopub.status.idle": "2024-06-07T18:28:52.343747Z",
     "shell.execute_reply": "2024-06-07T18:28:52.343197Z"
    },
    "lines_to_next_cell": 1,
    "papermill": {
     "duration": 0.010723,
     "end_time": "2024-06-07T18:28:52.344849",
     "exception": false,
     "start_time": "2024-06-07T18:28:52.334126",
     "status": "completed"
    },
    "tags": []
   },
   "outputs": [],
   "source": [
    "# https://leetcode.com/problems/longest-repeating-character-replacement/submissions/1278630543\n",
    "def characterReplacementStriver(S: str, K: int) -> int:\n",
    "    \"\"\"\n",
    "    Max freq variable keeps track of the maximum frequency.\n",
    "\n",
    "    We increase it each time we increment j.\n",
    "    We can rescan during the times we decrement i, however since we are trying to find\n",
    "    a length that is larger than the current largest, we can skip rescanning during the decrement portion.\n",
    "\n",
    "    5 (length) - 3 (max_freq) <= 2 (K) => VALID\n",
    "\n",
    "    We are trying to find length - 6, 7, 8, ..\n",
    "    max_freq if decreased would tend to make the window invalid\n",
    "\n",
    "    6 (length) - 2 (max_freq) > 4 (K) => INVALID\n",
    "    \"\"\"\n",
    "    N, max_length = len(S), 0\n",
    "    freq: list[int] = [0 for i in range(26)]\n",
    "    freq[ord(S[0]) - ord('A')] += 1\n",
    "    max_freq = 1\n",
    "\n",
    "    i = j = 0\n",
    "    while j < N:\n",
    "\n",
    "        # Expand\n",
    "        if (j - i + 1) - max_freq <= K:\n",
    "            max_length = max(max_length, j - i + 1)\n",
    "\n",
    "        # Slide\n",
    "        else:\n",
    "            freq[ord(S[i]) - ord('A')] -= 1\n",
    "            i += 1\n",
    "\n",
    "        j += 1\n",
    "        if j < N:\n",
    "            freq[ord(S[j]) - ord('A')] += 1\n",
    "            max_freq = max(max_freq, freq[ord(S[j]) - ord('A')])\n",
    "\n",
    "    return max_length\n",
    "\n",
    "# Testing the solution\n",
    "assert characterReplacementStriver(\"ABAB\", 2) == 4\n",
    "assert characterReplacementStriver(\"AABABBA\", 1) == 4"
   ]
  },
  {
   "cell_type": "markdown",
   "id": "98ae4a30",
   "metadata": {
    "papermill": {
     "duration": 0.003869,
     "end_time": "2024-06-07T18:28:52.352567",
     "exception": false,
     "start_time": "2024-06-07T18:28:52.348698",
     "status": "completed"
    },
    "tags": []
   },
   "source": [
    "Count binary arrays with sum: https://leetcode.com/problems/binary-subarrays-with-sum/\n",
    "Video Link: https://youtu.be/XnMdNUkX6VM?si=Ln4lCZRl4UNUFHdm"
   ]
  },
  {
   "cell_type": "code",
   "execution_count": 14,
   "id": "43e17995",
   "metadata": {
    "execution": {
     "iopub.execute_input": "2024-06-07T18:28:52.361266Z",
     "iopub.status.busy": "2024-06-07T18:28:52.360822Z",
     "iopub.status.idle": "2024-06-07T18:28:52.365041Z",
     "shell.execute_reply": "2024-06-07T18:28:52.364500Z"
    },
    "lines_to_next_cell": 1,
    "papermill": {
     "duration": 0.009684,
     "end_time": "2024-06-07T18:28:52.366088",
     "exception": false,
     "start_time": "2024-06-07T18:28:52.356404",
     "status": "completed"
    },
    "tags": []
   },
   "outputs": [],
   "source": [
    "def numSubarraysWithSumBrute(nums: list[int], goal: int) -> int:\n",
    "    N, count = len(nums), 0\n",
    "    for i in range(N):\n",
    "        sum_ = 0\n",
    "        for j in range(i, N):\n",
    "            sum_ += nums[j]\n",
    "            if sum_ == goal:\n",
    "                count += 1\n",
    "            elif sum_ > goal:\n",
    "                break\n",
    "    return count\n",
    "\n",
    "# Testing the solution\n",
    "assert numSubarraysWithSumBrute([1,0,1,0,1], 2) == 4\n",
    "assert numSubarraysWithSumBrute([0,0,0,0,0], 0) == 15"
   ]
  },
  {
   "cell_type": "code",
   "execution_count": 15,
   "id": "9cc52060",
   "metadata": {
    "execution": {
     "iopub.execute_input": "2024-06-07T18:28:52.374613Z",
     "iopub.status.busy": "2024-06-07T18:28:52.374292Z",
     "iopub.status.idle": "2024-06-07T18:28:52.378370Z",
     "shell.execute_reply": "2024-06-07T18:28:52.377877Z"
    },
    "lines_to_next_cell": 1,
    "papermill": {
     "duration": 0.009567,
     "end_time": "2024-06-07T18:28:52.379497",
     "exception": false,
     "start_time": "2024-06-07T18:28:52.369930",
     "status": "completed"
    },
    "tags": []
   },
   "outputs": [],
   "source": [
    "# https://leetcode.com/submissions/detail/1279702194/\n",
    "def numSubarraysWithSumBetter(nums: list[int], goal: int) -> int:\n",
    "    \"\"\"\n",
    "    A better solution using prefix sum - count arrays with sum equals K\n",
    "\n",
    "    1. For each n in arr, increment prefix_sum += n\n",
    "    2. If target - prefix_sum had existed in hashmap, increase count by the number of times target - pf occured.\n",
    "    3. Increment prefix_sum in hashmap by 1\n",
    "\n",
    "    Time: O(N), Space: O(N)\n",
    "    \"\"\"\n",
    "    # Store count of times that 'x' has occured\n",
    "    hm: dict[int, int] = {0: 1}\n",
    "    count = prefix_sum = 0\n",
    "\n",
    "    for n in nums:\n",
    "        prefix_sum += n\n",
    "        count += hm.get(prefix_sum - goal, 0)\n",
    "        hm[prefix_sum] = hm.get(prefix_sum, 0) + 1\n",
    "\n",
    "    return count\n",
    "\n",
    "# Testing the solution\n",
    "assert numSubarraysWithSumBetter([1,0,1,0,1], 2) == 4\n",
    "assert numSubarraysWithSumBetter([0,0,0,0,0], 0) == 15"
   ]
  },
  {
   "cell_type": "code",
   "execution_count": 16,
   "id": "1d2c7d1f",
   "metadata": {
    "execution": {
     "iopub.execute_input": "2024-06-07T18:28:52.388081Z",
     "iopub.status.busy": "2024-06-07T18:28:52.387756Z",
     "iopub.status.idle": "2024-06-07T18:28:52.392139Z",
     "shell.execute_reply": "2024-06-07T18:28:52.391659Z"
    },
    "lines_to_next_cell": 1,
    "papermill": {
     "duration": 0.009841,
     "end_time": "2024-06-07T18:28:52.393158",
     "exception": false,
     "start_time": "2024-06-07T18:28:52.383317",
     "status": "completed"
    },
    "tags": []
   },
   "outputs": [],
   "source": [
    "# https://leetcode.com/submissions/detail/1279747938\n",
    "def numSubarraysWithSumOptimal(nums: list[int], goal: int) -> int:\n",
    "    \"\"\"\n",
    "    When checking for sum equivalent to goal, we wouldn't know whether to shrink or to expand\n",
    "    Hence we modify the problem to find the count of subarrays <= goal\n",
    "    \"\"\"\n",
    "    def countSubArraysLTE(K: int) -> int:\n",
    "        count = sum_ = i = j = 0\n",
    "        while j < N:\n",
    "            sum_ += nums[j]\n",
    "            while i < N and sum_ > K:\n",
    "                sum_ -= nums[i]\n",
    "                i += 1\n",
    "            count += j - i + 1\n",
    "            j += 1\n",
    "\n",
    "        return count\n",
    "\n",
    "    N = len(nums)\n",
    "    return countSubArraysLTE(goal) - (countSubArraysLTE(goal - 1) if goal > 0 else 0)\n",
    "\n",
    "# Testing the solution\n",
    "assert numSubarraysWithSumOptimal([1,0,1,0,1], 2) == 4\n",
    "assert numSubarraysWithSumOptimal([0,0,0,0,0], 0) == 15"
   ]
  },
  {
   "cell_type": "markdown",
   "id": "76a28505",
   "metadata": {
    "papermill": {
     "duration": 0.003797,
     "end_time": "2024-06-07T18:28:52.400848",
     "exception": false,
     "start_time": "2024-06-07T18:28:52.397051",
     "status": "completed"
    },
    "tags": []
   },
   "source": [
    "Count number of nice subarrays: https://leetcode.com/problems/count-number-of-nice-subarrays/\n",
    "Video Link: https://youtu.be/j_QOv9OT9Og?si=bx1OWjbu3VXTIZhw"
   ]
  },
  {
   "cell_type": "code",
   "execution_count": 17,
   "id": "b13204ae",
   "metadata": {
    "execution": {
     "iopub.execute_input": "2024-06-07T18:28:52.409614Z",
     "iopub.status.busy": "2024-06-07T18:28:52.409181Z",
     "iopub.status.idle": "2024-06-07T18:28:52.413790Z",
     "shell.execute_reply": "2024-06-07T18:28:52.413368Z"
    },
    "lines_to_next_cell": 1,
    "papermill": {
     "duration": 0.010097,
     "end_time": "2024-06-07T18:28:52.414808",
     "exception": false,
     "start_time": "2024-06-07T18:28:52.404711",
     "status": "completed"
    },
    "tags": []
   },
   "outputs": [],
   "source": [
    "# https://leetcode.com/problems/count-number-of-nice-subarrays/submissions/1280053394\n",
    "def numberOfSubarrays(nums: list[int], K: int) -> int:\n",
    "    \"\"\"\n",
    "    Exact same logic as the previous question.\n",
    "    Time: O(2N + 2N) ~ O(N), Space: O(1)\n",
    "    \"\"\"\n",
    "    N = len(nums)\n",
    "    def countSubArrays(k_: int) -> int:\n",
    "        odd_count = count = i = j = 0\n",
    "        while j < N:\n",
    "            odd_count += nums[j] % 2\n",
    "            while odd_count > k_:\n",
    "                odd_count -= nums[i] % 2\n",
    "                i += 1\n",
    "            count += j - i + 1\n",
    "            j += 1\n",
    "\n",
    "        return count\n",
    "\n",
    "    return countSubArrays(K) - (countSubArrays(K - 1) if K > 0 else 0)\n",
    "\n",
    "# Testing the solution\n",
    "assert numberOfSubarrays([1,1,2,1,1], 3) == 2\n",
    "assert numberOfSubarrays([2,4,6], 1) == 0\n",
    "assert numberOfSubarrays([2,2,2,1,2,2,1,2,2,2], 2) == 16"
   ]
  },
  {
   "cell_type": "code",
   "execution_count": 18,
   "id": "b6b4a5ed",
   "metadata": {
    "execution": {
     "iopub.execute_input": "2024-06-07T18:28:52.423807Z",
     "iopub.status.busy": "2024-06-07T18:28:52.423411Z",
     "iopub.status.idle": "2024-06-07T18:28:52.428035Z",
     "shell.execute_reply": "2024-06-07T18:28:52.427614Z"
    },
    "lines_to_next_cell": 1,
    "papermill": {
     "duration": 0.010282,
     "end_time": "2024-06-07T18:28:52.429093",
     "exception": false,
     "start_time": "2024-06-07T18:28:52.418811",
     "status": "completed"
    },
    "tags": []
   },
   "outputs": [],
   "source": [
    "# https://leetcode.com/problems/count-number-of-nice-subarrays/submissions/1280056713\n",
    "def numberOfSubarraysStriver(nums: list[int], K: int) -> int:\n",
    "    \"\"\"\n",
    "    [1,2,5,1,2,6,8], 3\n",
    "\n",
    "    Apply a modulo 2 op on all numbers and it becomes: [1,0,1,1,0,0,0], 3\n",
    "    \"\"\"\n",
    "    def countSubArrays(k_: int) -> int:\n",
    "        count = sum_ = i = j = 0\n",
    "        while j < N:\n",
    "            sum_ += nums[j]\n",
    "            while sum_ > k_:\n",
    "                sum_ -= nums[i]\n",
    "                i += 1\n",
    "            count += j - i + 1\n",
    "            j += 1\n",
    "\n",
    "        return count\n",
    "\n",
    "    N = len(nums)\n",
    "    nums = list(map(lambda x: x % 2, nums))\n",
    "    return countSubArrays(K) - (countSubArrays(K - 1) if K > 0 else 0)\n",
    "\n",
    "# Testing the solution\n",
    "assert numberOfSubarraysStriver([1,1,2,1,1], 3) == 2\n",
    "assert numberOfSubarraysStriver([2,4,6], 1) == 0\n",
    "assert numberOfSubarraysStriver([2,2,2,1,2,2,1,2,2,2], 2) == 16"
   ]
  },
  {
   "cell_type": "markdown",
   "id": "19220f01",
   "metadata": {
    "papermill": {
     "duration": 0.003846,
     "end_time": "2024-06-07T18:28:52.438053",
     "exception": false,
     "start_time": "2024-06-07T18:28:52.434207",
     "status": "completed"
    },
    "tags": []
   },
   "source": [
    "Subarrays with K different integers: https://leetcode.com/problems/subarrays-with-k-different-integers/description/\n",
    "Video Link: https://youtu.be/7wYGbV_LsX4?si=m-cqYxni-iCnE80S"
   ]
  },
  {
   "cell_type": "code",
   "execution_count": 19,
   "id": "3162b8cb",
   "metadata": {
    "execution": {
     "iopub.execute_input": "2024-06-07T18:28:52.447071Z",
     "iopub.status.busy": "2024-06-07T18:28:52.446634Z",
     "iopub.status.idle": "2024-06-07T18:28:52.451618Z",
     "shell.execute_reply": "2024-06-07T18:28:52.451130Z"
    },
    "lines_to_next_cell": 1,
    "papermill": {
     "duration": 0.010678,
     "end_time": "2024-06-07T18:28:52.452660",
     "exception": false,
     "start_time": "2024-06-07T18:28:52.441982",
     "status": "completed"
    },
    "tags": []
   },
   "outputs": [],
   "source": [
    "# https://leetcode.com/problems/subarrays-with-k-different-integers/submissions/1280064513\n",
    "def subarraysWithKDistinct(nums: list[int], K: int) -> int:\n",
    "    \"\"\"Time: O(N), Space: O(N)\"\"\"\n",
    "    def countGoodSubArrays(k_: int) -> int:\n",
    "        count = i = j = 0\n",
    "        freq: dict[int, int] = dict()\n",
    "        while j < N:\n",
    "            freq[nums[j]] = freq.get(nums[j], 0) + 1\n",
    "            while len(freq) > k_:\n",
    "                freq[nums[i]] = freq[nums[i]] - 1\n",
    "                if freq[nums[i]] == 0:\n",
    "                    freq.pop(nums[i])\n",
    "                i += 1\n",
    "            count += j - i + 1\n",
    "            j += 1\n",
    "\n",
    "        return count\n",
    "\n",
    "    N = len(nums)\n",
    "    return countGoodSubArrays(K) - (countGoodSubArrays(K - 1) if K > 0 else 0)\n",
    "\n",
    "# Testing the solution\n",
    "assert subarraysWithKDistinct([1,2,1,2,3], 2) == 7\n",
    "assert subarraysWithKDistinct([1,2,1,3,4], 3) == 3"
   ]
  },
  {
   "cell_type": "markdown",
   "id": "43979531",
   "metadata": {
    "papermill": {
     "duration": 0.003943,
     "end_time": "2024-06-07T18:28:52.460561",
     "exception": false,
     "start_time": "2024-06-07T18:28:52.456618",
     "status": "completed"
    },
    "tags": []
   },
   "source": [
    "Minimum window substring: https://leetcode.com/problems/minimum-window-substring/\n",
    "Video Link: https://youtu.be/WJaij9ffOIY?si=aCQufx9ALwI_84Z7"
   ]
  },
  {
   "cell_type": "code",
   "execution_count": 20,
   "id": "76ff34c1",
   "metadata": {
    "execution": {
     "iopub.execute_input": "2024-06-07T18:28:52.469395Z",
     "iopub.status.busy": "2024-06-07T18:28:52.469001Z",
     "iopub.status.idle": "2024-06-07T18:28:52.473875Z",
     "shell.execute_reply": "2024-06-07T18:28:52.473464Z"
    },
    "lines_to_next_cell": 1,
    "papermill": {
     "duration": 0.010439,
     "end_time": "2024-06-07T18:28:52.474909",
     "exception": false,
     "start_time": "2024-06-07T18:28:52.464470",
     "status": "completed"
    },
    "tags": []
   },
   "outputs": [],
   "source": [
    "def minWindowBrute(s1: str, s2: str) -> str:\n",
    "    # Time: O(N ** 2), Space: O(1)\n",
    "    def included(freq: dict[str, int]) -> bool:\n",
    "        for k, v in s2_freq.items():\n",
    "            if k not in freq or v > freq[k]:\n",
    "                return False\n",
    "        return True\n",
    "\n",
    "    N1, N2 = len(s1), len(s2)\n",
    "    s2_freq = collections.Counter(s2)\n",
    "    min_ = N1 + N2, \"\"\n",
    "    for i in range(N1):\n",
    "        s1_freq: dict[str, int] = dict()\n",
    "        for j in range(i, N1):\n",
    "            s1_freq[s1[j]] = s1_freq.get(s1[j], 0) + 1\n",
    "            if min_[0] > j - i + 1 and included(s1_freq):\n",
    "                min_ = j - i + 1, s1[i: j + 1]\n",
    "\n",
    "    return min_[1]\n",
    "\n",
    "# Testing the solution\n",
    "assert minWindowBrute(\"ADOBECODEBANC\", \"ABC\") == \"BANC\"\n",
    "assert minWindowBrute(\"a\", \"a\") == \"a\"\n",
    "assert minWindowBrute(\"a\", \"aa\") == \"\""
   ]
  },
  {
   "cell_type": "code",
   "execution_count": 21,
   "id": "acd95ec3",
   "metadata": {
    "execution": {
     "iopub.execute_input": "2024-06-07T18:28:52.483865Z",
     "iopub.status.busy": "2024-06-07T18:28:52.483445Z",
     "iopub.status.idle": "2024-06-07T18:28:52.489223Z",
     "shell.execute_reply": "2024-06-07T18:28:52.488689Z"
    },
    "papermill": {
     "duration": 0.011459,
     "end_time": "2024-06-07T18:28:52.490376",
     "exception": false,
     "start_time": "2024-06-07T18:28:52.478917",
     "status": "completed"
    },
    "tags": []
   },
   "outputs": [],
   "source": [
    "# https://leetcode.com/problems/minimum-window-substring/submissions/1280827554\n",
    "def minWindow(s1: str, s2: str) -> str:\n",
    "    \"\"\"\n",
    "    Maintain a dictionary marking the frequencies.\n",
    "    Values greater than 0 indicate that the window is invalid.\n",
    "    Values lesser than 0 indicate that the window size can be shrunk\n",
    "    Values equal to 0 is hypothetically possible, the perfect window\n",
    "    \"\"\"\n",
    "    # Initialize values\n",
    "    N1, N2 = len(s1), len(s2)\n",
    "    window_char_match = i = j = 0\n",
    "    start_idx, min_length = -1, N1 + N2\n",
    "\n",
    "    # Compute the frequency of the second substring\n",
    "    freq: dict[str, int] = {}\n",
    "    for n in s2:\n",
    "        freq[n] = freq.get(n, 0) + 1\n",
    "\n",
    "    # If invalid, expand. If valid, try to shrink until it is no longer valid.\n",
    "    # Slide with the size of the minimum window we had obtained\n",
    "    while j < N1:\n",
    "        if window_char_match < N2:\n",
    "            freq[s1[j]] = freq.get(s1[j], 0) - 1\n",
    "            if freq[s1[j]] >= 0:\n",
    "                window_char_match += 1\n",
    "        while window_char_match >= N2:\n",
    "            if min_length > j - i + 1:\n",
    "                min_length, start_idx = j - i + 1, i\n",
    "            freq[s1[i]] = freq[s1[i]] + 1\n",
    "            if freq[s1[i]] > 0:\n",
    "                window_char_match -= 1\n",
    "            i += 1\n",
    "\n",
    "        # Long due to update, but for the sake of calc we update it at the end\n",
    "        j += 1\n",
    "\n",
    "    return s1[start_idx: start_idx + min_length] if start_idx >= 0 else \"\"\n",
    "\n",
    "# Testing the solution\n",
    "assert minWindow(\"ADOBECODEBANC\", \"ABC\") == \"BANC\"\n",
    "assert minWindow(\"a\", \"a\") == \"a\"\n",
    "assert minWindow(\"a\", \"aa\") == \"\""
   ]
  }
 ],
 "metadata": {
  "kernelspec": {
   "display_name": "Python 3 (ipykernel)",
   "language": "python",
   "name": "python3"
  },
  "language_info": {
   "codemirror_mode": {
    "name": "ipython",
    "version": 3
   },
   "file_extension": ".py",
   "mimetype": "text/x-python",
   "name": "python",
   "nbconvert_exporter": "python",
   "pygments_lexer": "ipython3",
   "version": "3.11.9"
  },
  "papermill": {
   "default_parameters": {},
   "duration": 1.657523,
   "end_time": "2024-06-07T18:28:52.609773",
   "environment_variables": {},
   "exception": null,
   "input_path": "study/striver-A2Z/16-sliding-window-and-2-pointers.ipynb",
   "output_path": "study/striver-A2Z/16-sliding-window-and-2-pointers.ipynb",
   "parameters": {},
   "start_time": "2024-06-07T18:28:50.952250",
   "version": "2.6.0"
  }
 },
 "nbformat": 4,
 "nbformat_minor": 5
}