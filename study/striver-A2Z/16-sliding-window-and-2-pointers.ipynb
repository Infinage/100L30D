{
 "cells": [
  {
   "cell_type": "markdown",
   "id": "b6671da9",
   "metadata": {
    "papermill": {
     "duration": 0.001713,
     "end_time": "2024-06-03T16:49:40.787303",
     "exception": false,
     "start_time": "2024-06-03T16:49:40.785590",
     "status": "completed"
    },
    "tags": []
   },
   "source": [
    "### Useful imports"
   ]
  },
  {
   "cell_type": "code",
   "execution_count": 1,
   "id": "8fe92d24",
   "metadata": {
    "execution": {
     "iopub.execute_input": "2024-06-03T16:49:40.790885Z",
     "iopub.status.busy": "2024-06-03T16:49:40.790354Z",
     "iopub.status.idle": "2024-06-03T16:49:40.795585Z",
     "shell.execute_reply": "2024-06-03T16:49:40.795186Z"
    },
    "lines_to_next_cell": 1,
    "papermill": {
     "duration": 0.008256,
     "end_time": "2024-06-03T16:49:40.796711",
     "exception": false,
     "start_time": "2024-06-03T16:49:40.788455",
     "status": "completed"
    },
    "tags": []
   },
   "outputs": [],
   "source": [
    "import math\n",
    "import bisect\n",
    "import collections\n",
    "import itertools\n",
    "import functools"
   ]
  },
  {
   "cell_type": "markdown",
   "id": "d85c2eae",
   "metadata": {
    "papermill": {
     "duration": 0.000897,
     "end_time": "2024-06-03T16:49:40.798576",
     "exception": false,
     "start_time": "2024-06-03T16:49:40.797679",
     "status": "completed"
    },
    "tags": []
   },
   "source": [
    "### Sliding window and 2 pointers\n",
    "Video Link: https://youtu.be/9kdHxplyl5I?si=YRjMqeBd1hIsB-Pt\n",
    "Types of problems:\n",
    "  1. Constant window\n",
    "  2. Longest subarray with condition\n",
    "      - Expand happens for the right side of the window\n",
    "      - Shrink happens for the left side of the window\n",
    "  3. No of subarrays with condition\n",
    "  4. Shortest / minimum window with condition"
   ]
  },
  {
   "cell_type": "code",
   "execution_count": 2,
   "id": "6ef36636",
   "metadata": {
    "execution": {
     "iopub.execute_input": "2024-06-03T16:49:40.801545Z",
     "iopub.status.busy": "2024-06-03T16:49:40.801121Z",
     "iopub.status.idle": "2024-06-03T16:49:40.805243Z",
     "shell.execute_reply": "2024-06-03T16:49:40.804751Z"
    },
    "lines_to_next_cell": 1,
    "papermill": {
     "duration": 0.006762,
     "end_time": "2024-06-03T16:49:40.806304",
     "exception": false,
     "start_time": "2024-06-03T16:49:40.799542",
     "status": "completed"
    },
    "tags": []
   },
   "outputs": [],
   "source": [
    "# Category 1: Maximum sum subarray of k elements\n",
    "def maxSumSubarray(arr: list[int], K: int) -> int:\n",
    "    # Time: O(N), Space: O(1)\n",
    "    N = len(arr)\n",
    "    max_ = sum_ = sum(arr[:K])\n",
    "    for j in range(K, N):\n",
    "        i = j - K\n",
    "        sum_  = sum_ - arr[i] + arr[j]\n",
    "        max_ = max(max_, sum_)\n",
    "\n",
    "    return max_\n",
    "\n",
    "# Testing the solution\n",
    "assert maxSumSubarray([-1,2,3,3,4,5,-1], 4) == 15"
   ]
  },
  {
   "cell_type": "code",
   "execution_count": 3,
   "id": "814183d5",
   "metadata": {
    "execution": {
     "iopub.execute_input": "2024-06-03T16:49:40.809031Z",
     "iopub.status.busy": "2024-06-03T16:49:40.808858Z",
     "iopub.status.idle": "2024-06-03T16:49:40.813883Z",
     "shell.execute_reply": "2024-06-03T16:49:40.813454Z"
    },
    "lines_to_next_cell": 1,
    "papermill": {
     "duration": 0.007658,
     "end_time": "2024-06-03T16:49:40.814922",
     "exception": false,
     "start_time": "2024-06-03T16:49:40.807264",
     "status": "completed"
    },
    "tags": []
   },
   "outputs": [],
   "source": [
    "# Category 2: Longest subarray with sum <= K\n",
    "def longestSubarrayBetter(arr: list[int], K: int):\n",
    "    N = len(arr)\n",
    "    max_, sum_, i, j = 0, float(arr[0]), 0, 0\n",
    "    while j < N and i < N:\n",
    "\n",
    "        # Expand\n",
    "        if sum_ <= K:\n",
    "            max_ = max(max_, j - i + 1)\n",
    "            sum_, j = sum_ + (arr[j + 1] if j + 1 < N else math.inf), j + 1\n",
    "\n",
    "        # Shrink\n",
    "        else:\n",
    "            sum_, i = sum_ - arr[i], i + 1\n",
    "            if i > j and i < N:\n",
    "                sum_, j = arr[i], i\n",
    "\n",
    "    return max_\n",
    "\n",
    "# Testing the solution\n",
    "assert longestSubarrayBetter([2,5,1,7,10], 14) == 3\n",
    "assert longestSubarrayBetter([2,5,1,7,10], 1) == 1\n",
    "assert longestSubarrayBetter([2,5,1,7,10], 0) == 0\n",
    "assert longestSubarrayBetter([7,10,0], 0) == 1"
   ]
  },
  {
   "cell_type": "code",
   "execution_count": 4,
   "id": "171f3929",
   "metadata": {
    "execution": {
     "iopub.execute_input": "2024-06-03T16:49:40.817600Z",
     "iopub.status.busy": "2024-06-03T16:49:40.817439Z",
     "iopub.status.idle": "2024-06-03T16:49:40.821926Z",
     "shell.execute_reply": "2024-06-03T16:49:40.821401Z"
    },
    "papermill": {
     "duration": 0.007012,
     "end_time": "2024-06-03T16:49:40.822914",
     "exception": false,
     "start_time": "2024-06-03T16:49:40.815902",
     "status": "completed"
    },
    "tags": []
   },
   "outputs": [],
   "source": [
    "def longestSubarrayOptimal(arr: list[int], K: int):\n",
    "    N = len(arr)\n",
    "    max_ = sum_ = i = j = 0\n",
    "    while j < N:\n",
    "        sum_ = sum_ + arr[j]\n",
    "        if sum_ > K:\n",
    "            sum_, i = sum_ - arr[i], i + 1\n",
    "        else:\n",
    "            max_ = max(max_, j - i + 1)\n",
    "        j += 1\n",
    "\n",
    "    return max_\n",
    "\n",
    "# Testing the solution\n",
    "assert longestSubarrayOptimal([2,5,1,7,10], 14) == 3\n",
    "assert longestSubarrayOptimal([2,5,1,7,10], 1) == 1\n",
    "assert longestSubarrayOptimal([2,5,1,7,10], 0) == 0\n",
    "assert longestSubarrayOptimal([7,10,0], 0) == 1"
   ]
  }
 ],
 "metadata": {
  "kernelspec": {
   "display_name": "Python 3 (ipykernel)",
   "language": "python",
   "name": "python3"
  },
  "language_info": {
   "codemirror_mode": {
    "name": "ipython",
    "version": 3
   },
   "file_extension": ".py",
   "mimetype": "text/x-python",
   "name": "python",
   "nbconvert_exporter": "python",
   "pygments_lexer": "ipython3",
   "version": "3.11.9"
  },
  "papermill": {
   "default_parameters": {},
   "duration": 1.315501,
   "end_time": "2024-06-03T16:49:40.938938",
   "environment_variables": {},
   "exception": null,
   "input_path": "study/striver-A2Z/16-sliding-window-and-2-pointers.ipynb",
   "output_path": "study/striver-A2Z/16-sliding-window-and-2-pointers.ipynb",
   "parameters": {},
   "start_time": "2024-06-03T16:49:39.623437",
   "version": "2.6.0"
  }
 },
 "nbformat": 4,
 "nbformat_minor": 5
}