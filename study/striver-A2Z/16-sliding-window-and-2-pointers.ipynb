{
 "cells": [
  {
   "cell_type": "markdown",
   "id": "b6671da9",
   "metadata": {
    "papermill": {
     "duration": 0.00278,
     "end_time": "2024-06-04T15:59:41.093858",
     "exception": false,
     "start_time": "2024-06-04T15:59:41.091078",
     "status": "completed"
    },
    "tags": []
   },
   "source": [
    "### Useful imports"
   ]
  },
  {
   "cell_type": "code",
   "execution_count": 1,
   "id": "8fe92d24",
   "metadata": {
    "execution": {
     "iopub.execute_input": "2024-06-04T15:59:41.099298Z",
     "iopub.status.busy": "2024-06-04T15:59:41.098901Z",
     "iopub.status.idle": "2024-06-04T15:59:41.104166Z",
     "shell.execute_reply": "2024-06-04T15:59:41.103659Z"
    },
    "lines_to_next_cell": 1,
    "papermill": {
     "duration": 0.00909,
     "end_time": "2024-06-04T15:59:41.105235",
     "exception": false,
     "start_time": "2024-06-04T15:59:41.096145",
     "status": "completed"
    },
    "tags": []
   },
   "outputs": [],
   "source": [
    "import math\n",
    "import bisect\n",
    "import collections\n",
    "import itertools\n",
    "import functools"
   ]
  },
  {
   "cell_type": "markdown",
   "id": "d85c2eae",
   "metadata": {
    "papermill": {
     "duration": 0.002452,
     "end_time": "2024-06-04T15:59:41.109737",
     "exception": false,
     "start_time": "2024-06-04T15:59:41.107285",
     "status": "completed"
    },
    "tags": []
   },
   "source": [
    "### Sliding window and 2 pointers\n",
    "Video Link: https://youtu.be/9kdHxplyl5I?si=YRjMqeBd1hIsB-Pt\n",
    "Types of problems:\n",
    "  1. Constant window\n",
    "  2. Longest subarray with condition\n",
    "      - Expand happens for the right side of the window\n",
    "      - Shrink happens for the left side of the window\n",
    "  3. No of subarrays with condition\n",
    "      - For eg: Num of subarrays with sum equals K => No of subarrays with sum <= K - No of subarrays with sum <= K - 1\n",
    "  4. Shortest / minimum window with condition\n",
    "      - Find a valid window, shrink until window remains valid"
   ]
  },
  {
   "cell_type": "code",
   "execution_count": 2,
   "id": "6ef36636",
   "metadata": {
    "execution": {
     "iopub.execute_input": "2024-06-04T15:59:41.115000Z",
     "iopub.status.busy": "2024-06-04T15:59:41.114597Z",
     "iopub.status.idle": "2024-06-04T15:59:41.118290Z",
     "shell.execute_reply": "2024-06-04T15:59:41.117858Z"
    },
    "lines_to_next_cell": 1,
    "papermill": {
     "duration": 0.007497,
     "end_time": "2024-06-04T15:59:41.119349",
     "exception": false,
     "start_time": "2024-06-04T15:59:41.111852",
     "status": "completed"
    },
    "tags": []
   },
   "outputs": [],
   "source": [
    "# Category 1: Maximum sum subarray of k elements\n",
    "def maxSumSubarray(arr: list[int], K: int) -> int:\n",
    "    # Time: O(N), Space: O(1)\n",
    "    N = len(arr)\n",
    "    max_ = sum_ = sum(arr[:K])\n",
    "    for j in range(K, N):\n",
    "        i = j - K\n",
    "        sum_  = sum_ - arr[i] + arr[j]\n",
    "        max_ = max(max_, sum_)\n",
    "\n",
    "    return max_\n",
    "\n",
    "# Testing the solution\n",
    "assert maxSumSubarray([-1,2,3,3,4,5,-1], 4) == 15"
   ]
  },
  {
   "cell_type": "code",
   "execution_count": 3,
   "id": "814183d5",
   "metadata": {
    "execution": {
     "iopub.execute_input": "2024-06-04T15:59:41.124566Z",
     "iopub.status.busy": "2024-06-04T15:59:41.124139Z",
     "iopub.status.idle": "2024-06-04T15:59:41.129585Z",
     "shell.execute_reply": "2024-06-04T15:59:41.129150Z"
    },
    "lines_to_next_cell": 1,
    "papermill": {
     "duration": 0.009133,
     "end_time": "2024-06-04T15:59:41.130648",
     "exception": false,
     "start_time": "2024-06-04T15:59:41.121515",
     "status": "completed"
    },
    "tags": []
   },
   "outputs": [],
   "source": [
    "# Category 2: Longest subarray with sum <= K\n",
    "def longestSubarrayBetter(arr: list[int], K: int):\n",
    "    \"\"\"\n",
    "    If valid, we try to expand\n",
    "    Else we try to shrink\n",
    "    This is the valid solution if we are especially asked to find and print the subarray\n",
    "\n",
    "    Time: O(2N), Space: O(1)\n",
    "    \"\"\"\n",
    "    N = len(arr)\n",
    "    max_, sum_, i, j = 0, float(arr[0]), 0, 0\n",
    "    while j < N and i < N:\n",
    "\n",
    "        # Expand\n",
    "        if sum_ <= K:\n",
    "            max_ = max(max_, j - i + 1)\n",
    "            sum_, j = sum_ + (arr[j + 1] if j + 1 < N else math.inf), j + 1\n",
    "\n",
    "        # Shrink\n",
    "        else:\n",
    "            sum_, i = sum_ - arr[i], i + 1\n",
    "            if i > j and i < N:\n",
    "                sum_, j = arr[i], i\n",
    "\n",
    "    return max_\n",
    "\n",
    "# Testing the solution\n",
    "assert longestSubarrayBetter([2,5,1,7,10], 14) == 3\n",
    "assert longestSubarrayBetter([2,5,1,7,10], 1) == 1\n",
    "assert longestSubarrayBetter([2,5,1,7,10], 0) == 0\n",
    "assert longestSubarrayBetter([7,10,0], 0) == 1"
   ]
  },
  {
   "cell_type": "code",
   "execution_count": 4,
   "id": "171f3929",
   "metadata": {
    "execution": {
     "iopub.execute_input": "2024-06-04T15:59:41.135405Z",
     "iopub.status.busy": "2024-06-04T15:59:41.134983Z",
     "iopub.status.idle": "2024-06-04T15:59:41.140086Z",
     "shell.execute_reply": "2024-06-04T15:59:41.139676Z"
    },
    "lines_to_next_cell": 1,
    "papermill": {
     "duration": 0.008609,
     "end_time": "2024-06-04T15:59:41.141122",
     "exception": false,
     "start_time": "2024-06-04T15:59:41.132513",
     "status": "completed"
    },
    "tags": []
   },
   "outputs": [],
   "source": [
    "def longestSubarrayOptimal(arr: list[int], K: int):\n",
    "    \"\"\"\n",
    "    The code is the same as above with 1 optimization.\n",
    "    Since we are asked to find just the length, we don't have to shrink the array beyond the max length already obtained.\n",
    "    Shrink until we have reached the max window size and then slide it forward.\n",
    "\n",
    "    Time: O(N), Space: O(1)\n",
    "    \"\"\"\n",
    "    N = len(arr)\n",
    "    max_, sum_, i, j = 0, float(arr[0]), 0, 0\n",
    "    while j < N and i < N:\n",
    "\n",
    "        # Expand\n",
    "        if sum_ <= K:\n",
    "            max_ = max(max_, j - i + 1)\n",
    "            sum_, j = sum_ + (arr[j + 1] if j + 1 < N else math.inf), j + 1\n",
    "\n",
    "        # Slide\n",
    "        else:\n",
    "            sum_, i, j = sum_ - arr[i] + (arr[j + 1] if j + 1 < N else math.inf), i + 1, j + 1\n",
    "\n",
    "    return max_\n",
    "\n",
    "# Testing the solution\n",
    "assert longestSubarrayOptimal([2,5,1,7,10], 14) == 3\n",
    "assert longestSubarrayOptimal([2,5,1,7,10], 1) == 1\n",
    "assert longestSubarrayOptimal([2,5,1,7,10], 0) == 0\n",
    "assert longestSubarrayOptimal([7,10,0], 0) == 1"
   ]
  },
  {
   "cell_type": "markdown",
   "id": "cf69814c",
   "metadata": {
    "papermill": {
     "duration": 0.001804,
     "end_time": "2024-06-04T15:59:41.144896",
     "exception": false,
     "start_time": "2024-06-04T15:59:41.143092",
     "status": "completed"
    },
    "tags": []
   },
   "source": [
    "Maximum points you can obtain from cards\n",
    "Video link: https://youtu.be/pBWCOCS636U?si=MrB1rbR3ScPbJGyB"
   ]
  },
  {
   "cell_type": "code",
   "execution_count": 5,
   "id": "d6a9257f",
   "metadata": {
    "execution": {
     "iopub.execute_input": "2024-06-04T15:59:41.149672Z",
     "iopub.status.busy": "2024-06-04T15:59:41.149203Z",
     "iopub.status.idle": "2024-06-04T15:59:41.153392Z",
     "shell.execute_reply": "2024-06-04T15:59:41.152864Z"
    },
    "lines_to_next_cell": 1,
    "papermill": {
     "duration": 0.007612,
     "end_time": "2024-06-04T15:59:41.154380",
     "exception": false,
     "start_time": "2024-06-04T15:59:41.146768",
     "status": "completed"
    },
    "tags": []
   },
   "outputs": [],
   "source": [
    "# https://leetcode.com/problems/maximum-points-you-can-obtain-from-cards/submissions/1276966170\n",
    "def maxScore(cardPoints: list[int], K: int) -> int:\n",
    "    N: int = len(cardPoints)\n",
    "    max_ = sum_ = sum(cardPoints[-K:])\n",
    "    for i in range(K):\n",
    "        sum_ = sum_ - cardPoints[N + i - K] + cardPoints[i]\n",
    "        max_ = max(max_, sum_)\n",
    "\n",
    "    return max_\n",
    "\n",
    "# Testing the solution\n",
    "assert maxScore([1,2,3,4,5,6,1], 3) == 12\n",
    "assert maxScore([1,2,3,4,5,6,1], 2) == 7\n",
    "assert maxScore([2,2,2], 2) == 4\n",
    "assert maxScore([9,7,7,9,7,7,9], 7) == 55"
   ]
  },
  {
   "cell_type": "markdown",
   "id": "0d36216d",
   "metadata": {
    "papermill": {
     "duration": 0.001913,
     "end_time": "2024-06-04T15:59:41.158121",
     "exception": false,
     "start_time": "2024-06-04T15:59:41.156208",
     "status": "completed"
    },
    "tags": []
   },
   "source": [
    "Longest substring without repeating characters\n",
    "Video Link: https://youtu.be/-zSxTJkcdAo?si=OCzXyY4AuXSZz-eS"
   ]
  },
  {
   "cell_type": "code",
   "execution_count": 6,
   "id": "688e574f",
   "metadata": {
    "execution": {
     "iopub.execute_input": "2024-06-04T15:59:41.163597Z",
     "iopub.status.busy": "2024-06-04T15:59:41.163173Z",
     "iopub.status.idle": "2024-06-04T15:59:41.167223Z",
     "shell.execute_reply": "2024-06-04T15:59:41.166794Z"
    },
    "lines_to_next_cell": 1,
    "papermill": {
     "duration": 0.007491,
     "end_time": "2024-06-04T15:59:41.168244",
     "exception": false,
     "start_time": "2024-06-04T15:59:41.160753",
     "status": "completed"
    },
    "tags": []
   },
   "outputs": [],
   "source": [
    "# https://leetcode.com/problems/longest-substring-without-repeating-characters/submissions/1277421731\n",
    "def lengthOfLongestSubstring(s: str) -> int:\n",
    "    N, max_, i = len(s), 0, 0\n",
    "    indices: dict[str, int] = {}\n",
    "    for j in range(N):\n",
    "        idx, indices[s[j]] = indices.get(s[j], -1), j\n",
    "        if idx < i:\n",
    "            max_ = max(max_, j - i + 1)\n",
    "        else:\n",
    "            i = idx + 1\n",
    "\n",
    "    return max_\n",
    "\n",
    "# Testing the solution\n",
    "assert lengthOfLongestSubstring(\"abcabcbb\") == 3\n",
    "assert lengthOfLongestSubstring(\"pwwkew\") == 3\n",
    "assert lengthOfLongestSubstring(\"aaqasdcdaq\") == 5"
   ]
  },
  {
   "cell_type": "markdown",
   "id": "50bdca9c",
   "metadata": {
    "papermill": {
     "duration": 0.001809,
     "end_time": "2024-06-04T15:59:41.171945",
     "exception": false,
     "start_time": "2024-06-04T15:59:41.170136",
     "status": "completed"
    },
    "tags": []
   },
   "source": [
    "Max consecutive ones III: https://leetcode.com/problems/max-consecutive-ones-iii/\n",
    "Video Link: https://youtu.be/3E4JBHSLpYk?si=63rPPAESHHuPbIas"
   ]
  },
  {
   "cell_type": "code",
   "execution_count": 7,
   "id": "b81ea511",
   "metadata": {
    "execution": {
     "iopub.execute_input": "2024-06-04T15:59:41.176449Z",
     "iopub.status.busy": "2024-06-04T15:59:41.176183Z",
     "iopub.status.idle": "2024-06-04T15:59:41.181223Z",
     "shell.execute_reply": "2024-06-04T15:59:41.180817Z"
    },
    "lines_to_next_cell": 1,
    "papermill": {
     "duration": 0.008492,
     "end_time": "2024-06-04T15:59:41.182308",
     "exception": false,
     "start_time": "2024-06-04T15:59:41.173816",
     "status": "completed"
    },
    "tags": []
   },
   "outputs": [],
   "source": [
    "# https://leetcode.com/problems/max-consecutive-ones-iii/submissions/1277492942/\n",
    "def longestOnes(nums: list[int], K: int) -> int:\n",
    "    \"\"\"\n",
    "    Expand if zero_count <= k\n",
    "    Else slide\n",
    "\n",
    "    We can optimize this code a little more if we kept track of the first 0 within our window.\n",
    "    Once zero_count > K, we can directly slide first_zero - i steps.\n",
    "    \"\"\"\n",
    "    N, zero_count = len(nums), 1 if nums[0] == 0 else 0\n",
    "    max_: int = 0\n",
    "    i = j = 0\n",
    "    while j < N:\n",
    "\n",
    "        # Expand\n",
    "        if zero_count <= K:\n",
    "            max_ = max(max_, j - i + 1)\n",
    "            j += 1\n",
    "            if j < N and nums[j] == 0:\n",
    "                zero_count += 1\n",
    "\n",
    "        # Slide\n",
    "        else:\n",
    "            if nums[i] == 0:\n",
    "                zero_count -= 1\n",
    "            if j + 1 < N and nums[j + 1] == 0:\n",
    "                zero_count += 1\n",
    "            i, j = i + 1, j + 1\n",
    "\n",
    "    return max_\n",
    "\n",
    "# Testing the solution\n",
    "assert longestOnes([1,1,1,0,0,0,1,1,1,1,0], 2) == 6\n",
    "assert longestOnes([0,0,1,1,0,0,1,1,1,0,1,1,0,0,0,1,1,1,1], 3) == 10\n",
    "assert longestOnes([0,0,0,0], 3) == 3"
   ]
  },
  {
   "cell_type": "markdown",
   "id": "ee79e853",
   "metadata": {
    "papermill": {
     "duration": 0.001845,
     "end_time": "2024-06-04T15:59:41.186081",
     "exception": false,
     "start_time": "2024-06-04T15:59:41.184236",
     "status": "completed"
    },
    "tags": []
   },
   "source": [
    "Fruit into baskets: https://leetcode.com/problems/fruit-into-baskets\n",
    "Video Link: https://youtu.be/e3bs0uA1NhQ?si=6ii_zUURKMi_Wu4i\n",
    "Striver uses a different approach of counting by freq, they are of the same time complexity"
   ]
  },
  {
   "cell_type": "code",
   "execution_count": 8,
   "id": "6d7b7c24",
   "metadata": {
    "execution": {
     "iopub.execute_input": "2024-06-04T15:59:41.190679Z",
     "iopub.status.busy": "2024-06-04T15:59:41.190293Z",
     "iopub.status.idle": "2024-06-04T15:59:41.194997Z",
     "shell.execute_reply": "2024-06-04T15:59:41.194576Z"
    },
    "papermill": {
     "duration": 0.008105,
     "end_time": "2024-06-04T15:59:41.196023",
     "exception": false,
     "start_time": "2024-06-04T15:59:41.187918",
     "status": "completed"
    },
    "tags": []
   },
   "outputs": [],
   "source": [
    "# https://leetcode.com/problems/fruit-into-baskets/submissions/1277567029\n",
    "def sumSubarrayMins(fruits: list[int]):\n",
    "    # Time: O(N), Space: O(1)\n",
    "    N = len(fruits)\n",
    "    indices: dict[int, int] = dict()\n",
    "    max_length = i = 0\n",
    "    for j in range(N):\n",
    "        indices[fruits[j]] = j\n",
    "        if len(indices) < 3:\n",
    "            max_length = max(max_length, j - i + 1)\n",
    "        else:\n",
    "            min_pair = (-1, N)\n",
    "\n",
    "            # At most 3 items\n",
    "            for k, v in indices.items():\n",
    "                if v < min_pair[1]:\n",
    "                    min_pair = (k, v)\n",
    "\n",
    "            indices.pop(min_pair[0])\n",
    "            i = min_pair[1] + 1\n",
    "\n",
    "    return max_length\n",
    "\n",
    "# Testing the solution\n",
    "assert sumSubarrayMins([2,1,2]) == 3\n",
    "assert sumSubarrayMins([0,1,2,2,2,2]) == 5\n",
    "assert sumSubarrayMins([1,3,1,2,2,3,2]) == 4"
   ]
  }
 ],
 "metadata": {
  "kernelspec": {
   "display_name": "Python 3 (ipykernel)",
   "language": "python",
   "name": "python3"
  },
  "language_info": {
   "codemirror_mode": {
    "name": "ipython",
    "version": 3
   },
   "file_extension": ".py",
   "mimetype": "text/x-python",
   "name": "python",
   "nbconvert_exporter": "python",
   "pygments_lexer": "ipython3",
   "version": "3.11.9"
  },
  "papermill": {
   "default_parameters": {},
   "duration": 1.342778,
   "end_time": "2024-06-04T15:59:41.313332",
   "environment_variables": {},
   "exception": null,
   "input_path": "study/striver-A2Z/16-sliding-window-and-2-pointers.ipynb",
   "output_path": "study/striver-A2Z/16-sliding-window-and-2-pointers.ipynb",
   "parameters": {},
   "start_time": "2024-06-04T15:59:39.970554",
   "version": "2.6.0"
  }
 },
 "nbformat": 4,
 "nbformat_minor": 5
}