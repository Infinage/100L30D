{
 "cells": [
  {
   "cell_type": "markdown",
   "id": "5d747994",
   "metadata": {
    "papermill": {
     "duration": 0.003151,
     "end_time": "2024-04-15T16:15:46.843807",
     "exception": false,
     "start_time": "2024-04-15T16:15:46.840656",
     "status": "completed"
    },
    "tags": []
   },
   "source": [
    "Video Link: https://youtu.be/p7-9UvDQZ3w?si=YlQ8vk0wODSic1Hr\n",
    "Properties of Binary Search Trees\n",
    "1. Left node < Root node < Right node.\n",
    "2. Left subtree, Right subtree should itself be a BST.\n",
    "3. Ideally there are no duplicates. However to allow duplicates, we can modify the condition to something like: Left <= Root < Right. Alternatively we could save a tuple of values (value, freq).\n",
    "4. Balanced BST search: O(log N)"
   ]
  },
  {
   "cell_type": "markdown",
   "id": "a1a768de",
   "metadata": {
    "papermill": {
     "duration": 0.002354,
     "end_time": "2024-04-15T16:15:46.848718",
     "exception": false,
     "start_time": "2024-04-15T16:15:46.846364",
     "status": "completed"
    },
    "tags": []
   },
   "source": [
    "#### Some useful imports"
   ]
  },
  {
   "cell_type": "code",
   "execution_count": 1,
   "id": "4d1b31ca",
   "metadata": {
    "execution": {
     "iopub.execute_input": "2024-04-15T16:15:46.855250Z",
     "iopub.status.busy": "2024-04-15T16:15:46.854469Z",
     "iopub.status.idle": "2024-04-15T16:15:46.864373Z",
     "shell.execute_reply": "2024-04-15T16:15:46.863634Z"
    },
    "lines_to_next_cell": 1,
    "papermill": {
     "duration": 0.01509,
     "end_time": "2024-04-15T16:15:46.866186",
     "exception": false,
     "start_time": "2024-04-15T16:15:46.851096",
     "status": "completed"
    },
    "tags": []
   },
   "outputs": [],
   "source": [
    "import math\n",
    "import collections\n",
    "import itertools\n",
    "import bisect\n",
    "import heapq"
   ]
  },
  {
   "cell_type": "markdown",
   "id": "558424e6",
   "metadata": {
    "papermill": {
     "duration": 0.002345,
     "end_time": "2024-04-15T16:15:46.871011",
     "exception": false,
     "start_time": "2024-04-15T16:15:46.868666",
     "status": "completed"
    },
    "tags": []
   },
   "source": [
    "#### Helper for Binary tree problems"
   ]
  },
  {
   "cell_type": "code",
   "execution_count": 2,
   "id": "960d5afe",
   "metadata": {
    "execution": {
     "iopub.execute_input": "2024-04-15T16:15:46.877323Z",
     "iopub.status.busy": "2024-04-15T16:15:46.876700Z",
     "iopub.status.idle": "2024-04-15T16:15:46.886482Z",
     "shell.execute_reply": "2024-04-15T16:15:46.885845Z"
    },
    "lines_to_next_cell": 1,
    "papermill": {
     "duration": 0.014706,
     "end_time": "2024-04-15T16:15:46.888081",
     "exception": false,
     "start_time": "2024-04-15T16:15:46.873375",
     "status": "completed"
    },
    "tags": []
   },
   "outputs": [],
   "source": [
    "class BinaryTreeNode:\n",
    "    def __init__(self, val=0, left=None, right=None):\n",
    "        self.val = val\n",
    "        self.left = left\n",
    "        self.right = right\n",
    "\n",
    "    def to_list(self):\n",
    "        to_visit = [self]\n",
    "        visited = []\n",
    "        while len(to_visit) > 0:\n",
    "            curr = to_visit.pop(0)\n",
    "            if curr:\n",
    "                to_visit.append(curr.left)\n",
    "                to_visit.append(curr.right)\n",
    "                visited.append(curr.val)\n",
    "            else:\n",
    "                visited.append(curr)\n",
    "\n",
    "        while visited and not visited[-1]:\n",
    "            visited.pop()\n",
    "\n",
    "        return visited\n",
    "\n",
    "    def __str__(self):\n",
    "        return str(self.val)\n",
    "\n",
    "    @staticmethod\n",
    "    def from_array(nums: list[int|None]):\n",
    "        '''Create a Tree from a list of nums. Returns the root node.'''\n",
    "        if len(nums) == 0:\n",
    "            return None\n",
    "        elif len(nums) == 1:\n",
    "            return BinaryTreeNode(nums[0])\n",
    "        else:\n",
    "            forest = [BinaryTreeNode(nums[0])]\n",
    "            parent_idx = -1\n",
    "            for i in range(1, len(nums)):\n",
    "\n",
    "                curr = None\n",
    "                if nums[i] is not None:\n",
    "                    curr = BinaryTreeNode(nums[i])\n",
    "                    forest.append(curr)\n",
    "\n",
    "                if i % 2 == 1:\n",
    "                    parent_idx += 1\n",
    "                    forest[parent_idx].left = curr\n",
    "                else:\n",
    "                    forest[parent_idx].right = curr\n",
    "\n",
    "        return forest[0]"
   ]
  },
  {
   "cell_type": "markdown",
   "id": "3fccb5da",
   "metadata": {
    "papermill": {
     "duration": 0.00241,
     "end_time": "2024-04-15T16:15:46.892956",
     "exception": false,
     "start_time": "2024-04-15T16:15:46.890546",
     "status": "completed"
    },
    "tags": []
   },
   "source": [
    "Video Link: https://youtu.be/KcNt6v_56cc?si=5YR5-7IR1paMMiXK\n",
    "Search in a BST: https://leetcode.com/problems/search-in-a-binary-search-tree/submissions/1232647689"
   ]
  },
  {
   "cell_type": "code",
   "execution_count": 3,
   "id": "09688508",
   "metadata": {
    "execution": {
     "iopub.execute_input": "2024-04-15T16:15:46.899182Z",
     "iopub.status.busy": "2024-04-15T16:15:46.898631Z",
     "iopub.status.idle": "2024-04-15T16:15:46.909151Z",
     "shell.execute_reply": "2024-04-15T16:15:46.908310Z"
    },
    "lines_to_next_cell": 1,
    "papermill": {
     "duration": 0.015485,
     "end_time": "2024-04-15T16:15:46.910868",
     "exception": false,
     "start_time": "2024-04-15T16:15:46.895383",
     "status": "completed"
    },
    "tags": []
   },
   "outputs": [
    {
     "data": {
      "text/plain": [
       "[2, 1, 3]"
      ]
     },
     "execution_count": 3,
     "metadata": {},
     "output_type": "execute_result"
    }
   ],
   "source": [
    "def searchBST(root: BinaryTreeNode, val: int) -> BinaryTreeNode:\n",
    "    \"Time: O(log N)\"\n",
    "    if not root or root.val == val:\n",
    "        return root\n",
    "    elif root.val < val:\n",
    "        return searchBST(root.right, val)\n",
    "    else:\n",
    "        return searchBST(root.left, val)\n",
    "\n",
    "# Testing the solution\n",
    "searchBST(BinaryTreeNode.from_array([4,2,7,1,3]), 2).to_list()"
   ]
  },
  {
   "cell_type": "markdown",
   "id": "051180ef",
   "metadata": {
    "papermill": {
     "duration": 0.003136,
     "end_time": "2024-04-15T16:15:46.917487",
     "exception": false,
     "start_time": "2024-04-15T16:15:46.914351",
     "status": "completed"
    },
    "tags": []
   },
   "source": [
    "Video Link: https://youtu.be/KSsk8AhdOZA?si=2T66YUCRiC1Vr7Fs\n",
    "Ceil in a BST"
   ]
  },
  {
   "cell_type": "code",
   "execution_count": 4,
   "id": "519b483a",
   "metadata": {
    "execution": {
     "iopub.execute_input": "2024-04-15T16:15:46.925823Z",
     "iopub.status.busy": "2024-04-15T16:15:46.925229Z",
     "iopub.status.idle": "2024-04-15T16:15:46.934509Z",
     "shell.execute_reply": "2024-04-15T16:15:46.933684Z"
    },
    "lines_to_next_cell": 1,
    "papermill": {
     "duration": 0.015481,
     "end_time": "2024-04-15T16:15:46.936258",
     "exception": false,
     "start_time": "2024-04-15T16:15:46.920777",
     "status": "completed"
    },
    "tags": []
   },
   "outputs": [],
   "source": [
    "# Recursive solution\n",
    "def findCeilRecurse(root: BinaryTreeNode, x: int) -> int:\n",
    "    \"Smallest value greater than or equal to target.\"\n",
    "    ceil = -1\n",
    "    def backtrack(curr: BinaryTreeNode):\n",
    "        nonlocal ceil\n",
    "        if not curr:\n",
    "            return\n",
    "        elif curr.val >= x:\n",
    "            ceil = curr.val\n",
    "            backtrack(curr.left)\n",
    "        else:\n",
    "            backtrack(curr.right)\n",
    "\n",
    "    backtrack(root)\n",
    "    return ceil\n",
    "\n",
    "# Testing the solution\n",
    "assert findCeilRecurse(BinaryTreeNode.from_array([8,5,10,2,6,None,None,None,None,None,7,None,None]), 9) == 10\n",
    "assert findCeilRecurse(BinaryTreeNode.from_array([10,5,13,3,6,11,14,2,4,None,9]), 11) == 11"
   ]
  },
  {
   "cell_type": "code",
   "execution_count": 5,
   "id": "96103462",
   "metadata": {
    "execution": {
     "iopub.execute_input": "2024-04-15T16:15:46.943089Z",
     "iopub.status.busy": "2024-04-15T16:15:46.942473Z",
     "iopub.status.idle": "2024-04-15T16:15:46.948403Z",
     "shell.execute_reply": "2024-04-15T16:15:46.947778Z"
    },
    "papermill": {
     "duration": 0.011117,
     "end_time": "2024-04-15T16:15:46.950112",
     "exception": false,
     "start_time": "2024-04-15T16:15:46.938995",
     "status": "completed"
    },
    "tags": []
   },
   "outputs": [],
   "source": [
    "# Iterative solution\n",
    "def findCeilIter(root: BinaryTreeNode, x: int) -> int:\n",
    "    \"Smallest value greater than or equal to target.\"\n",
    "    curr, ceil = root, -1\n",
    "    while curr:\n",
    "        if curr.val >= x:\n",
    "            ceil = curr.val\n",
    "            curr = curr.left\n",
    "        else:\n",
    "            curr = curr.right\n",
    "\n",
    "    return ceil\n",
    "\n",
    "# Testing the solution\n",
    "assert findCeilIter(BinaryTreeNode.from_array([8,5,10,2,6,None,None,None,None,None,7,None,None]), 9) == 10\n",
    "assert findCeilIter(BinaryTreeNode.from_array([10,5,13,3,6,11,14,2,4,None,9]), 11) == 11"
   ]
  }
 ],
 "metadata": {
  "kernelspec": {
   "display_name": "Python 3 (ipykernel)",
   "language": "python",
   "name": "python3"
  },
  "language_info": {
   "codemirror_mode": {
    "name": "ipython",
    "version": 3
   },
   "file_extension": ".py",
   "mimetype": "text/x-python",
   "name": "python",
   "nbconvert_exporter": "python",
   "pygments_lexer": "ipython3",
   "version": "3.10.14"
  },
  "papermill": {
   "default_parameters": {},
   "duration": 1.303426,
   "end_time": "2024-04-15T16:15:47.070485",
   "environment_variables": {},
   "exception": null,
   "input_path": "study/striver-A2Z/11-binary-search-trees.ipynb",
   "output_path": "study/striver-A2Z/11-binary-search-trees.ipynb",
   "parameters": {},
   "start_time": "2024-04-15T16:15:45.767059",
   "version": "2.5.0"
  }
 },
 "nbformat": 4,
 "nbformat_minor": 5
}