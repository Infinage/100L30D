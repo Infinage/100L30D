{
 "cells": [
  {
   "cell_type": "markdown",
   "id": "5d747994",
   "metadata": {
    "papermill": {
     "duration": 0.009434,
     "end_time": "2024-04-20T14:34:42.624084",
     "exception": false,
     "start_time": "2024-04-20T14:34:42.614650",
     "status": "completed"
    },
    "tags": []
   },
   "source": [
    "Video Link: https://youtu.be/p7-9UvDQZ3w?si=YlQ8vk0wODSic1Hr\n",
    "Properties of Binary Search Trees\n",
    "1. Left node < Root node < Right node.\n",
    "2. Left subtree, Right subtree should itself be a BST.\n",
    "3. Ideally there are no duplicates. However to allow duplicates, we can modify the condition to something like: Left <= Root < Right. Alternatively we could save a tuple of values (value, freq).\n",
    "4. Balanced BST search: O(log N)\n",
    "5. Inorder traversal of a BST is always in a sorted order."
   ]
  },
  {
   "cell_type": "markdown",
   "id": "a1a768de",
   "metadata": {
    "papermill": {
     "duration": 0.008559,
     "end_time": "2024-04-20T14:34:42.641338",
     "exception": false,
     "start_time": "2024-04-20T14:34:42.632779",
     "status": "completed"
    },
    "tags": []
   },
   "source": [
    "#### Some useful imports"
   ]
  },
  {
   "cell_type": "code",
   "execution_count": 1,
   "id": "4d1b31ca",
   "metadata": {
    "execution": {
     "iopub.execute_input": "2024-04-20T14:34:42.659860Z",
     "iopub.status.busy": "2024-04-20T14:34:42.659514Z",
     "iopub.status.idle": "2024-04-20T14:34:42.669957Z",
     "shell.execute_reply": "2024-04-20T14:34:42.669305Z"
    },
    "lines_to_next_cell": 1,
    "papermill": {
     "duration": 0.02194,
     "end_time": "2024-04-20T14:34:42.671722",
     "exception": false,
     "start_time": "2024-04-20T14:34:42.649782",
     "status": "completed"
    },
    "tags": []
   },
   "outputs": [],
   "source": [
    "import math\n",
    "import collections\n",
    "import itertools\n",
    "import bisect\n",
    "import heapq"
   ]
  },
  {
   "cell_type": "markdown",
   "id": "558424e6",
   "metadata": {
    "papermill": {
     "duration": 0.008315,
     "end_time": "2024-04-20T14:34:42.688477",
     "exception": false,
     "start_time": "2024-04-20T14:34:42.680162",
     "status": "completed"
    },
    "tags": []
   },
   "source": [
    "#### Helper for Binary tree problems"
   ]
  },
  {
   "cell_type": "code",
   "execution_count": 2,
   "id": "960d5afe",
   "metadata": {
    "execution": {
     "iopub.execute_input": "2024-04-20T14:34:42.706881Z",
     "iopub.status.busy": "2024-04-20T14:34:42.706544Z",
     "iopub.status.idle": "2024-04-20T14:34:42.717207Z",
     "shell.execute_reply": "2024-04-20T14:34:42.716471Z"
    },
    "lines_to_next_cell": 1,
    "papermill": {
     "duration": 0.022044,
     "end_time": "2024-04-20T14:34:42.718826",
     "exception": false,
     "start_time": "2024-04-20T14:34:42.696782",
     "status": "completed"
    },
    "tags": []
   },
   "outputs": [],
   "source": [
    "class BinaryTreeNode:\n",
    "    def __init__(self, val=0, left=None, right=None):\n",
    "        self.val = val\n",
    "        self.left = left\n",
    "        self.right = right\n",
    "\n",
    "    def to_list(self):\n",
    "        to_visit = [self]\n",
    "        visited = []\n",
    "        while len(to_visit) > 0:\n",
    "            curr = to_visit.pop(0)\n",
    "            if curr:\n",
    "                to_visit.append(curr.left)\n",
    "                to_visit.append(curr.right)\n",
    "                visited.append(curr.val)\n",
    "            else:\n",
    "                visited.append(curr)\n",
    "\n",
    "        while visited and not visited[-1]:\n",
    "            visited.pop()\n",
    "\n",
    "        return visited\n",
    "\n",
    "    def __str__(self):\n",
    "        return str(self.val)\n",
    "\n",
    "    @staticmethod\n",
    "    def from_array(nums: list[int|None]):\n",
    "        '''Create a Tree from a list of nums. Returns the root node.'''\n",
    "        if len(nums) == 0:\n",
    "            return None\n",
    "        elif len(nums) == 1:\n",
    "            return BinaryTreeNode(nums[0])\n",
    "        else:\n",
    "            forest = [BinaryTreeNode(nums[0])]\n",
    "            parent_idx = -1\n",
    "            for i in range(1, len(nums)):\n",
    "\n",
    "                curr = None\n",
    "                if nums[i] is not None:\n",
    "                    curr = BinaryTreeNode(nums[i])\n",
    "                    forest.append(curr)\n",
    "\n",
    "                if i % 2 == 1:\n",
    "                    parent_idx += 1\n",
    "                    forest[parent_idx].left = curr\n",
    "                else:\n",
    "                    forest[parent_idx].right = curr\n",
    "\n",
    "        return forest[0]"
   ]
  },
  {
   "cell_type": "markdown",
   "id": "3fccb5da",
   "metadata": {
    "papermill": {
     "duration": 0.008512,
     "end_time": "2024-04-20T14:34:42.735896",
     "exception": false,
     "start_time": "2024-04-20T14:34:42.727384",
     "status": "completed"
    },
    "tags": []
   },
   "source": [
    "Video Link: https://youtu.be/KcNt6v_56cc?si=5YR5-7IR1paMMiXK\n",
    "Search in a BST: https://leetcode.com/problems/search-in-a-binary-search-tree/submissions/1232647689"
   ]
  },
  {
   "cell_type": "code",
   "execution_count": 3,
   "id": "09688508",
   "metadata": {
    "execution": {
     "iopub.execute_input": "2024-04-20T14:34:42.754824Z",
     "iopub.status.busy": "2024-04-20T14:34:42.754178Z",
     "iopub.status.idle": "2024-04-20T14:34:42.764636Z",
     "shell.execute_reply": "2024-04-20T14:34:42.763963Z"
    },
    "lines_to_next_cell": 1,
    "papermill": {
     "duration": 0.021987,
     "end_time": "2024-04-20T14:34:42.766373",
     "exception": false,
     "start_time": "2024-04-20T14:34:42.744386",
     "status": "completed"
    },
    "tags": []
   },
   "outputs": [
    {
     "data": {
      "text/plain": [
       "[2, 1, 3]"
      ]
     },
     "execution_count": 3,
     "metadata": {},
     "output_type": "execute_result"
    }
   ],
   "source": [
    "def searchBST(root: BinaryTreeNode, val: int) -> BinaryTreeNode:\n",
    "    \"Time: O(log N)\"\n",
    "    if not root or root.val == val:\n",
    "        return root\n",
    "    elif root.val < val:\n",
    "        return searchBST(root.right, val)\n",
    "    else:\n",
    "        return searchBST(root.left, val)\n",
    "\n",
    "# Testing the solution\n",
    "searchBST(BinaryTreeNode.from_array([4,2,7,1,3]), 2).to_list()"
   ]
  },
  {
   "cell_type": "markdown",
   "id": "051180ef",
   "metadata": {
    "papermill": {
     "duration": 0.00864,
     "end_time": "2024-04-20T14:34:42.783580",
     "exception": false,
     "start_time": "2024-04-20T14:34:42.774940",
     "status": "completed"
    },
    "tags": []
   },
   "source": [
    "Video Link: https://youtu.be/KSsk8AhdOZA?si=2T66YUCRiC1Vr7Fs\n",
    "Ceil in a BST"
   ]
  },
  {
   "cell_type": "code",
   "execution_count": 4,
   "id": "519b483a",
   "metadata": {
    "execution": {
     "iopub.execute_input": "2024-04-20T14:34:42.802684Z",
     "iopub.status.busy": "2024-04-20T14:34:42.801908Z",
     "iopub.status.idle": "2024-04-20T14:34:42.809277Z",
     "shell.execute_reply": "2024-04-20T14:34:42.808626Z"
    },
    "lines_to_next_cell": 1,
    "papermill": {
     "duration": 0.018985,
     "end_time": "2024-04-20T14:34:42.811074",
     "exception": false,
     "start_time": "2024-04-20T14:34:42.792089",
     "status": "completed"
    },
    "tags": []
   },
   "outputs": [],
   "source": [
    "# Recursive solution\n",
    "def findCeilRecurse(root: BinaryTreeNode, x: int) -> int:\n",
    "    \"Smallest value greater than or equal to target.\"\n",
    "    ceil = -1\n",
    "    def backtrack(curr: BinaryTreeNode):\n",
    "        nonlocal ceil\n",
    "        if not curr:\n",
    "            return\n",
    "        elif curr.val >= x:\n",
    "            ceil = curr.val\n",
    "            backtrack(curr.left)\n",
    "        else:\n",
    "            backtrack(curr.right)\n",
    "\n",
    "    backtrack(root)\n",
    "    return ceil\n",
    "\n",
    "# Testing the solution\n",
    "assert findCeilRecurse(BinaryTreeNode.from_array([8,5,10,2,6,None,None,None,None,None,7,None,None]), 9) == 10\n",
    "assert findCeilRecurse(BinaryTreeNode.from_array([10,5,13,3,6,11,14,2,4,None,9]), 11) == 11"
   ]
  },
  {
   "cell_type": "code",
   "execution_count": 5,
   "id": "96103462",
   "metadata": {
    "execution": {
     "iopub.execute_input": "2024-04-20T14:34:42.830647Z",
     "iopub.status.busy": "2024-04-20T14:34:42.830030Z",
     "iopub.status.idle": "2024-04-20T14:34:42.836929Z",
     "shell.execute_reply": "2024-04-20T14:34:42.836226Z"
    },
    "lines_to_next_cell": 1,
    "papermill": {
     "duration": 0.018365,
     "end_time": "2024-04-20T14:34:42.838617",
     "exception": false,
     "start_time": "2024-04-20T14:34:42.820252",
     "status": "completed"
    },
    "tags": []
   },
   "outputs": [],
   "source": [
    "# Iterative solution\n",
    "def findCeilIter(root: BinaryTreeNode, x: int) -> int:\n",
    "    \"Smallest value greater than or equal to target.\"\n",
    "    curr, ceil = root, -1\n",
    "    while curr:\n",
    "        if curr.val >= x:\n",
    "            ceil = curr.val\n",
    "            curr = curr.left\n",
    "        else:\n",
    "            curr = curr.right\n",
    "\n",
    "    return ceil\n",
    "\n",
    "# Testing the solution\n",
    "assert findCeilIter(BinaryTreeNode.from_array([8,5,10,2,6,None,None,None,None,None,7,None,None]), 9) == 10\n",
    "assert findCeilIter(BinaryTreeNode.from_array([10,5,13,3,6,11,14,2,4,None,9]), 11) == 11"
   ]
  },
  {
   "cell_type": "markdown",
   "id": "2c170dfe",
   "metadata": {
    "papermill": {
     "duration": 0.008677,
     "end_time": "2024-04-20T14:34:42.856207",
     "exception": false,
     "start_time": "2024-04-20T14:34:42.847530",
     "status": "completed"
    },
    "tags": []
   },
   "source": [
    "Floor in a BST\n",
    "Video Link: https://youtu.be/xm_W1ub-K-w?si=ay4JzgX4mwb1RkBM"
   ]
  },
  {
   "cell_type": "code",
   "execution_count": 6,
   "id": "1674c736",
   "metadata": {
    "execution": {
     "iopub.execute_input": "2024-04-20T14:34:42.874741Z",
     "iopub.status.busy": "2024-04-20T14:34:42.874191Z",
     "iopub.status.idle": "2024-04-20T14:34:42.880636Z",
     "shell.execute_reply": "2024-04-20T14:34:42.879847Z"
    },
    "lines_to_next_cell": 1,
    "papermill": {
     "duration": 0.017784,
     "end_time": "2024-04-20T14:34:42.882409",
     "exception": false,
     "start_time": "2024-04-20T14:34:42.864625",
     "status": "completed"
    },
    "tags": []
   },
   "outputs": [],
   "source": [
    "def findFloor(root: BinaryTreeNode, key: int) -> int:\n",
    "    curr, floor = root, -1\n",
    "    while curr:\n",
    "        if curr.val <= key:\n",
    "            floor = curr.val\n",
    "            curr = curr.right\n",
    "        else:\n",
    "            curr = curr.left\n",
    "\n",
    "    return floor\n",
    "\n",
    "# Testing the solution\n",
    "assert findFloor(BinaryTreeNode.from_array([8,5,10,2,6,None,None,None,None,None,7,None,None]), 9) == 8\n",
    "assert findFloor(BinaryTreeNode.from_array([10,5,13,3,6,11,14,2,4,None,9]), 11) == 11"
   ]
  },
  {
   "cell_type": "markdown",
   "id": "f882be29",
   "metadata": {
    "papermill": {
     "duration": 0.008577,
     "end_time": "2024-04-20T14:34:42.901108",
     "exception": false,
     "start_time": "2024-04-20T14:34:42.892531",
     "status": "completed"
    },
    "tags": []
   },
   "source": [
    "Insert node into BST\n",
    "Video Link: https://youtu.be/FiFiNvM29ps?si=gLkHgOWwfsCsZYiC"
   ]
  },
  {
   "cell_type": "code",
   "execution_count": 7,
   "id": "2980e200",
   "metadata": {
    "execution": {
     "iopub.execute_input": "2024-04-20T14:34:42.919897Z",
     "iopub.status.busy": "2024-04-20T14:34:42.919238Z",
     "iopub.status.idle": "2024-04-20T14:34:42.925171Z",
     "shell.execute_reply": "2024-04-20T14:34:42.924515Z"
    },
    "lines_to_next_cell": 1,
    "papermill": {
     "duration": 0.017376,
     "end_time": "2024-04-20T14:34:42.926874",
     "exception": false,
     "start_time": "2024-04-20T14:34:42.909498",
     "status": "completed"
    },
    "tags": []
   },
   "outputs": [],
   "source": [
    "def insertIntoBST(root: BinaryTreeNode, val: int) -> BinaryTreeNode:\n",
    "    prev: BinaryTreeNode|None = None\n",
    "    curr: BinaryTreeNode|None = root\n",
    "\n",
    "    while curr:\n",
    "        prev = curr\n",
    "        if curr.val > val:\n",
    "            curr = curr.left\n",
    "        else:\n",
    "            curr = curr.right\n",
    "\n",
    "    curr = BinaryTreeNode(val)\n",
    "    if prev:\n",
    "        if prev.val > val:\n",
    "            prev.left = curr\n",
    "        else:\n",
    "            prev.right = curr\n",
    "\n",
    "    return root if prev else curr"
   ]
  },
  {
   "cell_type": "markdown",
   "id": "d29f77f3",
   "metadata": {
    "papermill": {
     "duration": 0.008392,
     "end_time": "2024-04-20T14:34:42.943962",
     "exception": false,
     "start_time": "2024-04-20T14:34:42.935570",
     "status": "completed"
    },
    "tags": []
   },
   "source": [
    "Delete a node: https://leetcode.com/problems/delete-node-in-a-bst/submissions/1233565259\n",
    "Video Link: https://youtu.be/kouxiP_H5WE?si=-J0yCkif1y5T8lLB"
   ]
  },
  {
   "cell_type": "code",
   "execution_count": 8,
   "id": "7aa66408",
   "metadata": {
    "execution": {
     "iopub.execute_input": "2024-04-20T14:34:42.963210Z",
     "iopub.status.busy": "2024-04-20T14:34:42.962485Z",
     "iopub.status.idle": "2024-04-20T14:34:42.972927Z",
     "shell.execute_reply": "2024-04-20T14:34:42.972170Z"
    },
    "lines_to_next_cell": 1,
    "papermill": {
     "duration": 0.022189,
     "end_time": "2024-04-20T14:34:42.974826",
     "exception": false,
     "start_time": "2024-04-20T14:34:42.952637",
     "status": "completed"
    },
    "tags": []
   },
   "outputs": [],
   "source": [
    "def deleteNode(root: BinaryTreeNode, key: int) -> BinaryTreeNode|None:\n",
    "    \"\"\"\n",
    "    Time: O(Height), Space: O(1)\n",
    "    1. Find curr such that curr.val = key (curr is node to be deleted)\n",
    "    2. curr.right would become the new curr. curr.right.left should point to curr.left\n",
    "    3. curr.left's rightmost node's right should point to curr.right.left\n",
    "    \"\"\"\n",
    "    def delete(parent: BinaryTreeNode|None, node: BinaryTreeNode):\n",
    "        if node.right and node.left:\n",
    "            # Find rightmost node in node.left\n",
    "            left: BinaryTreeNode = node.left\n",
    "            while left.right:\n",
    "                left = left.right\n",
    "            left.right = node.right.left\n",
    "            node.right.left = node.left\n",
    "\n",
    "        # Updated curr node post node deletion\n",
    "        post_delete = node.right if node.right else node.left\n",
    "\n",
    "        # If parent exists, modify parent right pointer to skip node being deleted\n",
    "        if parent:\n",
    "            if parent.val < node.val:\n",
    "                parent.right = post_delete\n",
    "            else:\n",
    "                parent.left = post_delete\n",
    "\n",
    "        # If parent doesn't exist, node is root. We return new root\n",
    "        else:\n",
    "            nonlocal root\n",
    "            root = post_delete\n",
    "\n",
    "    prev: BinaryTreeNode|None = None\n",
    "    curr: BinaryTreeNode|None = root\n",
    "\n",
    "    while curr:\n",
    "        if curr.val == key:\n",
    "            delete(prev, curr)\n",
    "            break\n",
    "        elif curr.val < key:\n",
    "            prev, curr = curr, curr.right\n",
    "        else:\n",
    "            prev, curr = curr, curr.left\n",
    "\n",
    "    return root\n",
    "\n",
    "# Testing the solution\n",
    "assert deleteNode(BinaryTreeNode.from_array([5,3,6,2,4,None,7]), 3).to_list() == [5,4,6,2,None,None,7]\n",
    "assert deleteNode(BinaryTreeNode.from_array([2,1]), 2).to_list() == [1]\n",
    "assert deleteNode(BinaryTreeNode.from_array([3,2,4,1]), 2).to_list() == [3,1,4]"
   ]
  },
  {
   "cell_type": "markdown",
   "id": "bef16c0a",
   "metadata": {
    "papermill": {
     "duration": 0.008531,
     "end_time": "2024-04-20T14:34:42.991924",
     "exception": false,
     "start_time": "2024-04-20T14:34:42.983393",
     "status": "completed"
    },
    "tags": []
   },
   "source": [
    "Kth Smallest element in BST: https://leetcode.com/problems/kth-smallest-element-in-a-bst/submissions/1234432057/\n",
    "Video Link: https://youtu.be/9TJYWh0adfk?si=J5aaXBmrPA5E6LGC"
   ]
  },
  {
   "cell_type": "code",
   "execution_count": 9,
   "id": "ce588656",
   "metadata": {
    "execution": {
     "iopub.execute_input": "2024-04-20T14:34:43.011192Z",
     "iopub.status.busy": "2024-04-20T14:34:43.010332Z",
     "iopub.status.idle": "2024-04-20T14:34:43.017838Z",
     "shell.execute_reply": "2024-04-20T14:34:43.017185Z"
    },
    "lines_to_next_cell": 1,
    "papermill": {
     "duration": 0.019314,
     "end_time": "2024-04-20T14:34:43.019734",
     "exception": false,
     "start_time": "2024-04-20T14:34:43.000420",
     "status": "completed"
    },
    "tags": []
   },
   "outputs": [],
   "source": [
    "def kthSmallest(root: BinaryTreeNode, k: int) -> int:\n",
    "    \"\"\"\n",
    "    Do an inorder traversal, storing the elements into an array. Return kth element.\n",
    "\n",
    "    Time: O(N), Space: O(N)\n",
    "    To eliminate space: O(N), we can use Morris Inorder traversal\n",
    "    \"\"\"\n",
    "\n",
    "    stack: list[BinaryTreeNode] = []\n",
    "    curr: BinaryTreeNode = root\n",
    "    while curr or stack:\n",
    "        if curr:\n",
    "            stack.append(curr)\n",
    "            curr = curr.left\n",
    "        else:\n",
    "            if stack:\n",
    "                curr = stack.pop()\n",
    "                if k == 1:\n",
    "                    return curr.val\n",
    "                else:\n",
    "                    curr = curr.right\n",
    "                    k -= 1\n",
    "\n",
    "    return -1\n",
    "\n",
    "# Testing the solution\n",
    "for i in range(1, 8):\n",
    "    assert kthSmallest(BinaryTreeNode.from_array([1,None,2,None,3,None,4,None,5,None,6,None,7]), i) == i"
   ]
  },
  {
   "cell_type": "markdown",
   "id": "e1c64a13",
   "metadata": {
    "papermill": {
     "duration": 0.008556,
     "end_time": "2024-04-20T14:34:43.037234",
     "exception": false,
     "start_time": "2024-04-20T14:34:43.028678",
     "status": "completed"
    },
    "tags": []
   },
   "source": [
    "Video Link: https://youtu.be/f-sj7I5oXEI?si=Pz_LGZrgKIHXQxi4\n",
    "Validate a BST "
   ]
  },
  {
   "cell_type": "code",
   "execution_count": 10,
   "id": "e1f9a579",
   "metadata": {
    "execution": {
     "iopub.execute_input": "2024-04-20T14:34:43.056733Z",
     "iopub.status.busy": "2024-04-20T14:34:43.055912Z",
     "iopub.status.idle": "2024-04-20T14:34:43.063153Z",
     "shell.execute_reply": "2024-04-20T14:34:43.062462Z"
    },
    "lines_to_next_cell": 1,
    "papermill": {
     "duration": 0.019104,
     "end_time": "2024-04-20T14:34:43.064920",
     "exception": false,
     "start_time": "2024-04-20T14:34:43.045816",
     "status": "completed"
    },
    "tags": []
   },
   "outputs": [],
   "source": [
    "# https://leetcode.com/problems/validate-binary-search-tree/submissions/1234444341\n",
    "def isValidBST(root: BinaryTreeNode) -> bool:\n",
    "    \"\"\"\n",
    "    Do an inorder traversal, if at any point curr < prev it is not a valid BST.\n",
    "\n",
    "    Time: O(N), Space: O(N)\n",
    "    \"\"\"\n",
    "\n",
    "    prev = -math.inf\n",
    "    stack: list[BinaryTreeNode] = []\n",
    "    curr: BinaryTreeNode = root\n",
    "    while stack or curr:\n",
    "        if curr:\n",
    "            stack.append(curr)\n",
    "            curr = curr.left\n",
    "        else:\n",
    "            curr = stack.pop()\n",
    "            if curr.val <= prev:\n",
    "                return False\n",
    "            else:\n",
    "                prev = curr.val\n",
    "                curr = curr.right\n",
    "\n",
    "    return True\n",
    "\n",
    "# Testing the solution\n",
    "assert isValidBST(BinaryTreeNode.from_array([5,4,6,None,None,3,7])) == False\n",
    "assert isValidBST(BinaryTreeNode.from_array([2,2,2])) == False"
   ]
  },
  {
   "cell_type": "code",
   "execution_count": 11,
   "id": "142f7fb4",
   "metadata": {
    "execution": {
     "iopub.execute_input": "2024-04-20T14:34:43.083812Z",
     "iopub.status.busy": "2024-04-20T14:34:43.083336Z",
     "iopub.status.idle": "2024-04-20T14:34:43.089283Z",
     "shell.execute_reply": "2024-04-20T14:34:43.088503Z"
    },
    "lines_to_next_cell": 1,
    "papermill": {
     "duration": 0.017307,
     "end_time": "2024-04-20T14:34:43.091051",
     "exception": false,
     "start_time": "2024-04-20T14:34:43.073744",
     "status": "completed"
    },
    "tags": []
   },
   "outputs": [],
   "source": [
    "# https://leetcode.com/problems/validate-binary-search-tree/submissions/1234448368\n",
    "def isValidBST_striver(root: BinaryTreeNode, min_: float= -math.inf, max_: float = math.inf) -> bool:\n",
    "    # Time: O(N), Space: O(1)\n",
    "    if not root:\n",
    "        return True\n",
    "    else:\n",
    "        return min_ < root.val < max_ and isValidBST_striver(root.left, min_, root.val) and isValidBST_striver(root.right, root.val, max_)\n",
    "\n",
    "# Testing the solution\n",
    "assert isValidBST_striver(BinaryTreeNode.from_array([5,4,6,None,None,3,7])) == False\n",
    "assert isValidBST_striver(BinaryTreeNode.from_array([2,2,2])) == False"
   ]
  },
  {
   "cell_type": "markdown",
   "id": "46ae2541",
   "metadata": {
    "papermill": {
     "duration": 0.008497,
     "end_time": "2024-04-20T14:34:43.108251",
     "exception": false,
     "start_time": "2024-04-20T14:34:43.099754",
     "status": "completed"
    },
    "tags": []
   },
   "source": [
    "Video Link: https://youtu.be/cX_kPV_foZc?si=YCFaerCUNhJwiPEV\n",
    "LCA in Binary Search Tree: https://leetcode.com/problems/lowest-common-ancestor-of-a-binary-search-tree/ "
   ]
  },
  {
   "cell_type": "code",
   "execution_count": 12,
   "id": "8233e212",
   "metadata": {
    "execution": {
     "iopub.execute_input": "2024-04-20T14:34:43.127168Z",
     "iopub.status.busy": "2024-04-20T14:34:43.126584Z",
     "iopub.status.idle": "2024-04-20T14:34:43.133611Z",
     "shell.execute_reply": "2024-04-20T14:34:43.132589Z"
    },
    "lines_to_next_cell": 1,
    "papermill": {
     "duration": 0.019412,
     "end_time": "2024-04-20T14:34:43.136148",
     "exception": false,
     "start_time": "2024-04-20T14:34:43.116736",
     "status": "completed"
    },
    "tags": []
   },
   "outputs": [],
   "source": [
    "# https://leetcode.com/problems/lowest-common-ancestor-of-a-binary-search-tree/submissions/1235328177/\n",
    "def lowestCommonAncestor(root: BinaryTreeNode, p: BinaryTreeNode, q: BinaryTreeNode) -> BinaryTreeNode:\n",
    "    \"\"\"\n",
    "    Striver's Approach, simplified version of my approach.\n",
    "    Time: O(log N), Space: O(1)\n",
    "    \"\"\"\n",
    "\n",
    "    curr = root\n",
    "    while curr:\n",
    "        if curr.val < p.val and curr.val < q.val:\n",
    "            curr = curr.right\n",
    "        elif curr.val > p.val and curr.val > q.val:\n",
    "            curr = curr.left\n",
    "        else:\n",
    "            break\n",
    "\n",
    "    return curr\n",
    "\n",
    "# Testing the solution\n",
    "temp: BinaryTreeNode = BinaryTreeNode.from_array([6,2,8,0,4,7,9,None,None,3,5])\n",
    "assert lowestCommonAncestor(temp, p=temp.left, q=temp.right).val == 6"
   ]
  },
  {
   "cell_type": "markdown",
   "id": "538229a8",
   "metadata": {
    "papermill": {
     "duration": 0.00851,
     "end_time": "2024-04-20T14:34:43.153515",
     "exception": false,
     "start_time": "2024-04-20T14:34:43.145005",
     "status": "completed"
    },
    "tags": []
   },
   "source": [
    "Construct BST from Preorder Traversal\n",
    "Video Link: https://youtu.be/UmJT3j26t1I?si=bZOGcW7usou-7xFK"
   ]
  },
  {
   "cell_type": "code",
   "execution_count": 13,
   "id": "87fe0260",
   "metadata": {
    "execution": {
     "iopub.execute_input": "2024-04-20T14:34:43.172217Z",
     "iopub.status.busy": "2024-04-20T14:34:43.171849Z",
     "iopub.status.idle": "2024-04-20T14:34:43.179060Z",
     "shell.execute_reply": "2024-04-20T14:34:43.178230Z"
    },
    "lines_to_next_cell": 1,
    "papermill": {
     "duration": 0.018639,
     "end_time": "2024-04-20T14:34:43.180778",
     "exception": false,
     "start_time": "2024-04-20T14:34:43.162139",
     "status": "completed"
    },
    "tags": []
   },
   "outputs": [],
   "source": [
    "# https://leetcode.com/problems/construct-binary-search-tree-from-preorder-traversal/submissions/1235338251\n",
    "def bstFromPreorderBrute(preorder: list[int]) -> BinaryTreeNode|None:\n",
    "    \"Time: O(N^2), Space: O(N)\"\n",
    "    def insert(curr: BinaryTreeNode|None, value: int) -> BinaryTreeNode:\n",
    "        if not curr:\n",
    "            return BinaryTreeNode(value)\n",
    "        elif curr.val < value:\n",
    "            curr.right = insert(curr.right, value)\n",
    "            return curr\n",
    "        else:\n",
    "            curr.left = insert(curr.left, value)\n",
    "            return curr\n",
    "\n",
    "    root: BinaryTreeNode|None = None\n",
    "    for value in preorder:\n",
    "        root = insert(root, value)\n",
    "\n",
    "    return root\n",
    "\n",
    "# Testing the solution\n",
    "assert bstFromPreorderBrute([8,5,1,7,10,12]).to_list() == [8,5,10,1,7,None,12]\n",
    "assert bstFromPreorderBrute([1,3]).to_list() == [1,None,3]"
   ]
  },
  {
   "cell_type": "code",
   "execution_count": 14,
   "id": "cea4e83a",
   "metadata": {
    "execution": {
     "iopub.execute_input": "2024-04-20T14:34:43.199666Z",
     "iopub.status.busy": "2024-04-20T14:34:43.199100Z",
     "iopub.status.idle": "2024-04-20T14:34:43.207151Z",
     "shell.execute_reply": "2024-04-20T14:34:43.206357Z"
    },
    "lines_to_next_cell": 1,
    "papermill": {
     "duration": 0.019403,
     "end_time": "2024-04-20T14:34:43.208845",
     "exception": false,
     "start_time": "2024-04-20T14:34:43.189442",
     "status": "completed"
    },
    "tags": []
   },
   "outputs": [],
   "source": [
    "# https://leetcode.com/problems/construct-binary-search-tree-from-preorder-traversal/submissions/1235351347\n",
    "def bstFromPreorderBetter(preorder: list[int]) -> BinaryTreeNode|None:\n",
    "    \"Time: O(N log N) Space: O(N)\"\n",
    "    N = len(preorder)\n",
    "    inorder = sorted(preorder)\n",
    "    inorder_indices = {n: i for i, n in enumerate(inorder)}\n",
    "    def createBT(pStart: int, pEnd: int, iStart: int, iEnd: int) -> BinaryTreeNode|None:\n",
    "        if iEnd - iStart < 0:\n",
    "            return None\n",
    "        else:\n",
    "            curr = BinaryTreeNode(preorder[pStart])\n",
    "            idx = inorder_indices[curr.val]\n",
    "            curr.left = createBT(pStart + 1, pStart + idx - iStart, iStart, idx - 1)\n",
    "            curr.right = createBT(pStart + idx - iStart + 1, pEnd, idx + 1, iEnd)\n",
    "            return curr\n",
    "\n",
    "    return createBT(0, N - 1, 0, N - 1)\n",
    "\n",
    "# Testing the solution\n",
    "assert bstFromPreorderBetter([8,5,1,7,10,12]).to_list() == [8,5,10,1,7,None,12]\n",
    "assert bstFromPreorderBetter([1,3]).to_list() == [1,None,3]"
   ]
  },
  {
   "cell_type": "code",
   "execution_count": 15,
   "id": "ac30bb42",
   "metadata": {
    "execution": {
     "iopub.execute_input": "2024-04-20T14:34:43.227395Z",
     "iopub.status.busy": "2024-04-20T14:34:43.226747Z",
     "iopub.status.idle": "2024-04-20T14:34:43.235135Z",
     "shell.execute_reply": "2024-04-20T14:34:43.234339Z"
    },
    "lines_to_next_cell": 1,
    "papermill": {
     "duration": 0.019474,
     "end_time": "2024-04-20T14:34:43.236786",
     "exception": false,
     "start_time": "2024-04-20T14:34:43.217312",
     "status": "completed"
    },
    "tags": []
   },
   "outputs": [],
   "source": [
    "# https://leetcode.com/problems/construct-binary-search-tree-from-preorder-traversal/submissions/1235363303/\n",
    "def bstFromPreorderOptimal(preorder: list[int]) -> BinaryTreeNode:\n",
    "    \"\"\"\n",
    "    Time: O(N), Space: O(N).\n",
    "    0. Initialize stack containing tuple of nodes and upper bound values.\n",
    "    1. We insert left if value to be inserted is less than last element in stack.\n",
    "    2. We insert right if value to be inserted is less than the lower bound of last element in stack.\n",
    "    3. If neither of above two holds, pop last element or recurse backwards.\n",
    "    \"\"\"\n",
    "    root: BinaryTreeNode = BinaryTreeNode(preorder[0])\n",
    "    stack: list[tuple[BinaryTreeNode, float]] = [(root, math.inf)]\n",
    "    for value in preorder[1:]:\n",
    "        curr = BinaryTreeNode(value)\n",
    "        while stack:\n",
    "            if value < stack[-1][0].val:\n",
    "                stack[-1][0].left = curr\n",
    "                stack.append((curr, stack[-1][0].val))\n",
    "                break\n",
    "            elif value < stack[-1][1]:\n",
    "                stack[-1][0].right = curr\n",
    "                stack.append((curr, stack[-1][1]))\n",
    "                break\n",
    "            else:\n",
    "                stack.pop()\n",
    "\n",
    "    return root\n",
    "\n",
    "# Testing the solution\n",
    "assert bstFromPreorderOptimal([8,5,1,7,10,12]).to_list() == [8,5,10,1,7,None,12]\n",
    "assert bstFromPreorderOptimal([1,3]).to_list() == [1,None,3]"
   ]
  },
  {
   "cell_type": "markdown",
   "id": "f916088f",
   "metadata": {
    "papermill": {
     "duration": 0.008484,
     "end_time": "2024-04-20T14:34:43.254100",
     "exception": false,
     "start_time": "2024-04-20T14:34:43.245616",
     "status": "completed"
    },
    "tags": []
   },
   "source": [
    "Inorder successor and predecessor of a BST\n",
    "Video Link: https://youtu.be/SXKAD2svfmI?si=MakIY0IWCvpCbHWB"
   ]
  },
  {
   "cell_type": "code",
   "execution_count": 16,
   "id": "1d877037",
   "metadata": {
    "execution": {
     "iopub.execute_input": "2024-04-20T14:34:43.273042Z",
     "iopub.status.busy": "2024-04-20T14:34:43.272378Z",
     "iopub.status.idle": "2024-04-20T14:34:43.278353Z",
     "shell.execute_reply": "2024-04-20T14:34:43.277528Z"
    },
    "lines_to_next_cell": 1,
    "papermill": {
     "duration": 0.01737,
     "end_time": "2024-04-20T14:34:43.279996",
     "exception": false,
     "start_time": "2024-04-20T14:34:43.262626",
     "status": "completed"
    },
    "tags": []
   },
   "outputs": [],
   "source": [
    "def predecessorSuccessor(root: BinaryTreeNode, key: int):\n",
    "    \"\"\"\n",
    "    Find the floor, ceil of key.\n",
    "    Time: O(H), Space: O(1)\n",
    "    \"\"\"\n",
    "    # Find LB\n",
    "    LB, curr = -1, root\n",
    "    while curr:\n",
    "        if curr.val < key:\n",
    "            LB = curr.val\n",
    "            curr = curr.right\n",
    "        else:\n",
    "            curr = curr.left\n",
    "\n",
    "    # Find UB\n",
    "    UB, curr = -1, root\n",
    "    while curr:\n",
    "        if curr.val > key:\n",
    "            UB = curr.val\n",
    "            curr = curr.left\n",
    "        else:\n",
    "            curr = curr.right\n",
    "\n",
    "    return LB, UB"
   ]
  },
  {
   "cell_type": "markdown",
   "id": "bee8b153",
   "metadata": {
    "papermill": {
     "duration": 0.008381,
     "end_time": "2024-04-20T14:34:43.297015",
     "exception": false,
     "start_time": "2024-04-20T14:34:43.288634",
     "status": "completed"
    },
    "tags": []
   },
   "source": [
    "BST Iterator: https://leetcode.com/problems/binary-search-tree-iterator/submissions/1236174700/\n",
    "Video Link: https://youtu.be/D2jMcmxU4bs?si=D8QZ784vB5u0LLPv"
   ]
  },
  {
   "cell_type": "code",
   "execution_count": 17,
   "id": "350f423a",
   "metadata": {
    "execution": {
     "iopub.execute_input": "2024-04-20T14:34:43.315803Z",
     "iopub.status.busy": "2024-04-20T14:34:43.315150Z",
     "iopub.status.idle": "2024-04-20T14:34:43.321448Z",
     "shell.execute_reply": "2024-04-20T14:34:43.320696Z"
    },
    "lines_to_next_cell": 1,
    "papermill": {
     "duration": 0.017664,
     "end_time": "2024-04-20T14:34:43.323313",
     "exception": false,
     "start_time": "2024-04-20T14:34:43.305649",
     "status": "completed"
    },
    "tags": []
   },
   "outputs": [],
   "source": [
    "class BSTIterator:\n",
    "    \"\"\"\n",
    "    Space: O(H)\n",
    "    Time: N spread over entire iteration O(N / N) ~ O(1) on average\n",
    "    \"\"\"\n",
    "    def __init__(self, root: BinaryTreeNode):\n",
    "        self.root = root\n",
    "\n",
    "        self.stack: list[BinaryTreeNode] = []\n",
    "        self.populateStack(self.root)\n",
    "\n",
    "    def populateStack(self, curr: BinaryTreeNode):\n",
    "        while curr:\n",
    "            self.stack.append(curr)\n",
    "            curr = curr.left\n",
    "\n",
    "    def next(self) -> int:\n",
    "        curr = self.stack.pop()\n",
    "        if curr.right:\n",
    "            self.populateStack(curr.right)\n",
    "\n",
    "        return curr.val\n",
    "\n",
    "    def hasNext(self) -> bool:\n",
    "        return len(self.stack) > 0"
   ]
  },
  {
   "cell_type": "markdown",
   "id": "59bb5f1f",
   "metadata": {
    "papermill": {
     "duration": 0.008566,
     "end_time": "2024-04-20T14:34:43.340346",
     "exception": false,
     "start_time": "2024-04-20T14:34:43.331780",
     "status": "completed"
    },
    "tags": []
   },
   "source": [
    "Video Link: https://youtu.be/ssL3sHwPeb4?si=Z4999grCFeuGVqKW\n",
    "Two Sum IV: BST Input"
   ]
  },
  {
   "cell_type": "code",
   "execution_count": 18,
   "id": "3d15c521",
   "metadata": {
    "execution": {
     "iopub.execute_input": "2024-04-20T14:34:43.360175Z",
     "iopub.status.busy": "2024-04-20T14:34:43.359486Z",
     "iopub.status.idle": "2024-04-20T14:34:43.367397Z",
     "shell.execute_reply": "2024-04-20T14:34:43.366580Z"
    },
    "lines_to_next_cell": 1,
    "papermill": {
     "duration": 0.019497,
     "end_time": "2024-04-20T14:34:43.369131",
     "exception": false,
     "start_time": "2024-04-20T14:34:43.349634",
     "status": "completed"
    },
    "tags": []
   },
   "outputs": [],
   "source": [
    "# https://leetcode.com/problems/two-sum-iv-input-is-a-bst/submissions/1236189602/\n",
    "def findTargetBrute(root: BinaryTreeNode, k: int) -> bool:\n",
    "    \"Time: O(N * log N), Space: O(1)\"\n",
    "    def find(target: int) -> bool:\n",
    "        curr = root\n",
    "        while curr:\n",
    "            if curr.val == target:\n",
    "                return True\n",
    "            elif curr.val < target:\n",
    "                curr = curr.right\n",
    "            else:\n",
    "                curr = curr.left\n",
    "        return False\n",
    "\n",
    "    queue: list[BinaryTreeNode] = [root]\n",
    "    while queue:\n",
    "        curr = queue.pop()\n",
    "        if curr:\n",
    "            if curr.val * 2 != k and find(k - curr.val):\n",
    "                return True\n",
    "            else:\n",
    "                queue.append(curr.left)\n",
    "                queue.append(curr.right)\n",
    "\n",
    "    return False\n",
    "\n",
    "# Testing the solution\n",
    "assert findTargetBrute(BinaryTreeNode.from_array([5,3,6,2,4,None,7]), 10) == True\n",
    "assert findTargetBrute(BinaryTreeNode.from_array([1]), 2) == False"
   ]
  },
  {
   "cell_type": "code",
   "execution_count": 19,
   "id": "8a27d83e",
   "metadata": {
    "execution": {
     "iopub.execute_input": "2024-04-20T14:34:43.388155Z",
     "iopub.status.busy": "2024-04-20T14:34:43.387567Z",
     "iopub.status.idle": "2024-04-20T14:34:43.398103Z",
     "shell.execute_reply": "2024-04-20T14:34:43.397424Z"
    },
    "lines_to_next_cell": 1,
    "papermill": {
     "duration": 0.021969,
     "end_time": "2024-04-20T14:34:43.399847",
     "exception": false,
     "start_time": "2024-04-20T14:34:43.377878",
     "status": "completed"
    },
    "tags": []
   },
   "outputs": [],
   "source": [
    "# https://leetcode.com/problems/two-sum-iv-input-is-a-bst/submissions/1236198223/\n",
    "def findTarget(root: BinaryTreeNode, k: int) -> bool:\n",
    "    \"\"\"\n",
    "    Idea is to create a BST Iterator that yields the smallest and largest element respectively.\n",
    "    Do a two pointer approach to two sum.\n",
    "\n",
    "    Time: O(N), Space: O(H)\n",
    "    \"\"\"\n",
    "    class BSTIterator:\n",
    "        def __init__(self, root_: BinaryTreeNode):\n",
    "            self.root = root_\n",
    "\n",
    "            self.stack: list[BinaryTreeNode] = []\n",
    "            self.populate(self.root, reverse=False)\n",
    "\n",
    "            self.rstack: list[BinaryTreeNode] = []\n",
    "            self.populate(self.root, reverse=True)\n",
    "\n",
    "        def populate(self, curr: BinaryTreeNode, reverse: bool):\n",
    "            while curr:\n",
    "                if not reverse:\n",
    "                    self.stack.append(curr)\n",
    "                    curr = curr.left\n",
    "                else:\n",
    "                    self.rstack.append(curr)\n",
    "                    curr = curr.right\n",
    "\n",
    "        def next(self, reverse: bool) -> int:\n",
    "            curr = self.stack.pop() if not reverse else self.rstack.pop()\n",
    "            if not reverse and curr.right:\n",
    "                self.populate(curr.right, reverse)\n",
    "            elif reverse and curr.left:\n",
    "                self.populate(curr.left, reverse)\n",
    "\n",
    "            return curr.val\n",
    "\n",
    "    bstIter = BSTIterator(root)\n",
    "    l, r = bstIter.next(False), bstIter.next(True)\n",
    "    while l < r:\n",
    "        k_ = l + r\n",
    "        if k_ == k:\n",
    "            return True\n",
    "        elif k_ < k:\n",
    "            l = bstIter.next(False)\n",
    "        else:\n",
    "            r = bstIter.next(True)\n",
    "\n",
    "    return False\n",
    "\n",
    "# Testing the solution\n",
    "assert findTarget(BinaryTreeNode.from_array([5,3,6,2,4,None,7]), 10) == True\n",
    "assert findTarget(BinaryTreeNode.from_array([1]), 2) == False"
   ]
  },
  {
   "cell_type": "markdown",
   "id": "db9c51ed",
   "metadata": {
    "papermill": {
     "duration": 0.008671,
     "end_time": "2024-04-20T14:34:43.417238",
     "exception": false,
     "start_time": "2024-04-20T14:34:43.408567",
     "status": "completed"
    },
    "tags": []
   },
   "source": [
    "Video Link: https://youtu.be/ZWGW7FminDM?si=fA6cUWtX4QjfjP6R\n",
    "Recover BST"
   ]
  },
  {
   "cell_type": "code",
   "execution_count": 20,
   "id": "d03db7ee",
   "metadata": {
    "execution": {
     "iopub.execute_input": "2024-04-20T14:34:43.436077Z",
     "iopub.status.busy": "2024-04-20T14:34:43.435597Z",
     "iopub.status.idle": "2024-04-20T14:34:43.443761Z",
     "shell.execute_reply": "2024-04-20T14:34:43.443100Z"
    },
    "lines_to_next_cell": 1,
    "papermill": {
     "duration": 0.019574,
     "end_time": "2024-04-20T14:34:43.445414",
     "exception": false,
     "start_time": "2024-04-20T14:34:43.425840",
     "status": "completed"
    },
    "tags": []
   },
   "outputs": [],
   "source": [
    "def recoverTree(root: BinaryTreeNode) -> None:\n",
    "    \"\"\"\n",
    "    Do an inorder traversal, mark violating nodes (curr < prev)\n",
    "    If two matches found, swap and break. (Non adjacent swaps: [1, 3, 2, 4, 5])\n",
    "    Else swap first match with next node. (Adjacent swaps: [1, 4, 3, 2, 5])\n",
    "\n",
    "    Time: O(N), Space: O(H)\n",
    "    \"\"\"\n",
    "    stack: list[BinaryTreeNode] = []\n",
    "    prev: BinaryTreeNode|None = None\n",
    "    curr: BinaryTreeNode|None = root\n",
    "    first: BinaryTreeNode|None = None\n",
    "    middle: BinaryTreeNode|None = None\n",
    "    while curr or stack:\n",
    "        if curr:\n",
    "            stack.append(curr)\n",
    "            curr = curr.left\n",
    "        else:\n",
    "            curr = stack.pop()\n",
    "            if prev and curr.val < prev.val:\n",
    "                if not first: # First violation\n",
    "                    first = prev\n",
    "                    middle = curr\n",
    "\n",
    "                else: # Second violation\n",
    "                    first.val, curr.val = curr.val, first.val\n",
    "                    break\n",
    "\n",
    "            prev = curr\n",
    "            curr = curr.right\n",
    "\n",
    "    else: # Second violation not found\n",
    "        if first and middle:\n",
    "            first.val, middle.val = middle.val, first.val\n",
    "\n",
    "# Testing the solution\n",
    "temp = BinaryTreeNode.from_array([1,3,None,None,2])\n",
    "recoverTree(temp)\n",
    "assert temp.to_list() == [3,1,None,None,2]"
   ]
  },
  {
   "cell_type": "markdown",
   "id": "ac910fc7",
   "metadata": {
    "papermill": {
     "duration": 0.008495,
     "end_time": "2024-04-20T14:34:43.462683",
     "exception": false,
     "start_time": "2024-04-20T14:34:43.454188",
     "status": "completed"
    },
    "tags": []
   },
   "source": [
    "Video Link: https://youtu.be/X0oXMdtUDwo?si=z3aO6Q8fi6awJ9Th\n",
    "Largest BST in Binary Tree"
   ]
  },
  {
   "cell_type": "code",
   "execution_count": 21,
   "id": "f808ec64",
   "metadata": {
    "execution": {
     "iopub.execute_input": "2024-04-20T14:34:43.481650Z",
     "iopub.status.busy": "2024-04-20T14:34:43.480898Z",
     "iopub.status.idle": "2024-04-20T14:34:43.488918Z",
     "shell.execute_reply": "2024-04-20T14:34:43.488147Z"
    },
    "lines_to_next_cell": 1,
    "papermill": {
     "duration": 0.019403,
     "end_time": "2024-04-20T14:34:43.490628",
     "exception": false,
     "start_time": "2024-04-20T14:34:43.471225",
     "status": "completed"
    },
    "tags": []
   },
   "outputs": [],
   "source": [
    "def largestBSTBrute(root: BinaryTreeNode) -> int:\n",
    "    def isValid(curr: BinaryTreeNode, min_: float = -math.inf, max_: float = math.inf) -> int:\n",
    "        if not curr:\n",
    "            return 0\n",
    "        else:\n",
    "            left = isValid(curr.left, min_, curr.val)\n",
    "            right = isValid(curr.right, curr.val, max_)\n",
    "            if min_ < curr.val < max_ and left != -1 and right != -1:\n",
    "                return 1 + left + right\n",
    "            else:\n",
    "                return -1\n",
    "\n",
    "    # Do a level order traversal\n",
    "    queue: list[BinaryTreeNode] = [root]\n",
    "    result: int = -1\n",
    "    while queue:\n",
    "        next_: list[BinaryTreeNode] = []\n",
    "        for curr in queue:\n",
    "            if curr:\n",
    "                result = max(result, isValid(curr))\n",
    "                next_.append(curr.left)\n",
    "                next_.append(curr.right)\n",
    "\n",
    "        queue = next_\n",
    "\n",
    "    return result\n",
    "\n",
    "# Testing the solution\n",
    "assert largestBSTBrute(BinaryTreeNode.from_array([5,2,4,1,3,None,None])) == 3"
   ]
  },
  {
   "cell_type": "code",
   "execution_count": 22,
   "id": "4a705ce6",
   "metadata": {
    "execution": {
     "iopub.execute_input": "2024-04-20T14:34:43.509686Z",
     "iopub.status.busy": "2024-04-20T14:34:43.509002Z",
     "iopub.status.idle": "2024-04-20T14:34:43.520558Z",
     "shell.execute_reply": "2024-04-20T14:34:43.519784Z"
    },
    "papermill": {
     "duration": 0.023028,
     "end_time": "2024-04-20T14:34:43.522408",
     "exception": false,
     "start_time": "2024-04-20T14:34:43.499380",
     "status": "completed"
    },
    "tags": []
   },
   "outputs": [
    {
     "data": {
      "text/plain": [
       "4"
      ]
     },
     "execution_count": 22,
     "metadata": {},
     "output_type": "execute_result"
    }
   ],
   "source": [
    "def largestBST(root: BinaryTreeNode) -> float:\n",
    "    \"\"\"\n",
    "    Do a post order traversal, returning size, min, max.\n",
    "\n",
    "    - Curr is valid if maximum on left < curr < minimum on right.\n",
    "    - Size: 1 + left_size + right_size\n",
    "\n",
    "    If child is not a valid BST, parent is not a valid BST as well.\n",
    "\n",
    "    Time: O(N), Space: O(H)\n",
    "    \"\"\"\n",
    "\n",
    "    largest = -math.inf\n",
    "    def postOrder(curr: BinaryTreeNode) -> tuple[int, float, float]:\n",
    "        if not curr:\n",
    "            return 0, math.inf, -math.inf\n",
    "        else:\n",
    "\n",
    "            left = postOrder(curr.left)\n",
    "            right = postOrder(curr.right)\n",
    "\n",
    "            # If valid BST\n",
    "            if left[0] != -1 and right[0] != - 1 and left[2] < curr.val < right[1]:\n",
    "                nonlocal largest\n",
    "                largest = max(largest, 1 + left[0] + right[0])\n",
    "                return 1 + left[0] + right[0], min(curr.val, left[1], right[1]), max(curr.val, left[2], right[2])\n",
    "\n",
    "            # If invalid BST, upper recursive calls should fail as well. Use size = -1 as indicator\n",
    "            else:\n",
    "                return -1, 0, 0\n",
    "\n",
    "    postOrder(root)\n",
    "    return largest\n",
    "\n",
    "# Testing the solution\n",
    "assert largestBST(BinaryTreeNode.from_array([5,2,4,1,3,None,None])) == 3\n",
    "largestBST(BinaryTreeNode.from_array([20,15,40,14,18,30,60,None,17,16,19,None,None,50]))"
   ]
  }
 ],
 "metadata": {
  "kernelspec": {
   "display_name": "Python 3 (ipykernel)",
   "language": "python",
   "name": "python3"
  },
  "language_info": {
   "codemirror_mode": {
    "name": "ipython",
    "version": 3
   },
   "file_extension": ".py",
   "mimetype": "text/x-python",
   "name": "python",
   "nbconvert_exporter": "python",
   "pygments_lexer": "ipython3",
   "version": "3.10.14"
  },
  "papermill": {
   "default_parameters": {},
   "duration": 2.195359,
   "end_time": "2024-04-20T14:34:43.750138",
   "environment_variables": {},
   "exception": null,
   "input_path": "study/striver-A2Z/11-binary-search-trees.ipynb",
   "output_path": "study/striver-A2Z/11-binary-search-trees.ipynb",
   "parameters": {},
   "start_time": "2024-04-20T14:34:41.554779",
   "version": "2.5.0"
  }
 },
 "nbformat": 4,
 "nbformat_minor": 5
}