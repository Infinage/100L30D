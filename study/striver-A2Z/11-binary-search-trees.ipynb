{
 "cells": [
  {
   "cell_type": "markdown",
   "id": "5d747994",
   "metadata": {
    "papermill": {
     "duration": 0.008155,
     "end_time": "2024-04-19T15:53:10.710795",
     "exception": false,
     "start_time": "2024-04-19T15:53:10.702640",
     "status": "completed"
    },
    "tags": []
   },
   "source": [
    "Video Link: https://youtu.be/p7-9UvDQZ3w?si=YlQ8vk0wODSic1Hr\n",
    "Properties of Binary Search Trees\n",
    "1. Left node < Root node < Right node.\n",
    "2. Left subtree, Right subtree should itself be a BST.\n",
    "3. Ideally there are no duplicates. However to allow duplicates, we can modify the condition to something like: Left <= Root < Right. Alternatively we could save a tuple of values (value, freq).\n",
    "4. Balanced BST search: O(log N)\n",
    "5. Inorder traversal of a BST is always in a sorted order."
   ]
  },
  {
   "cell_type": "markdown",
   "id": "a1a768de",
   "metadata": {
    "papermill": {
     "duration": 0.00725,
     "end_time": "2024-04-19T15:53:10.725536",
     "exception": false,
     "start_time": "2024-04-19T15:53:10.718286",
     "status": "completed"
    },
    "tags": []
   },
   "source": [
    "#### Some useful imports"
   ]
  },
  {
   "cell_type": "code",
   "execution_count": 1,
   "id": "4d1b31ca",
   "metadata": {
    "execution": {
     "iopub.execute_input": "2024-04-19T15:53:10.741924Z",
     "iopub.status.busy": "2024-04-19T15:53:10.741246Z",
     "iopub.status.idle": "2024-04-19T15:53:10.751330Z",
     "shell.execute_reply": "2024-04-19T15:53:10.750668Z"
    },
    "lines_to_next_cell": 1,
    "papermill": {
     "duration": 0.020222,
     "end_time": "2024-04-19T15:53:10.752961",
     "exception": false,
     "start_time": "2024-04-19T15:53:10.732739",
     "status": "completed"
    },
    "tags": []
   },
   "outputs": [],
   "source": [
    "import math\n",
    "import collections\n",
    "import itertools\n",
    "import bisect\n",
    "import heapq"
   ]
  },
  {
   "cell_type": "markdown",
   "id": "558424e6",
   "metadata": {
    "papermill": {
     "duration": 0.007108,
     "end_time": "2024-04-19T15:53:10.767316",
     "exception": false,
     "start_time": "2024-04-19T15:53:10.760208",
     "status": "completed"
    },
    "tags": []
   },
   "source": [
    "#### Helper for Binary tree problems"
   ]
  },
  {
   "cell_type": "code",
   "execution_count": 2,
   "id": "960d5afe",
   "metadata": {
    "execution": {
     "iopub.execute_input": "2024-04-19T15:53:10.783175Z",
     "iopub.status.busy": "2024-04-19T15:53:10.782631Z",
     "iopub.status.idle": "2024-04-19T15:53:10.792758Z",
     "shell.execute_reply": "2024-04-19T15:53:10.792097Z"
    },
    "lines_to_next_cell": 1,
    "papermill": {
     "duration": 0.019982,
     "end_time": "2024-04-19T15:53:10.794357",
     "exception": false,
     "start_time": "2024-04-19T15:53:10.774375",
     "status": "completed"
    },
    "tags": []
   },
   "outputs": [],
   "source": [
    "class BinaryTreeNode:\n",
    "    def __init__(self, val=0, left=None, right=None):\n",
    "        self.val = val\n",
    "        self.left = left\n",
    "        self.right = right\n",
    "\n",
    "    def to_list(self):\n",
    "        to_visit = [self]\n",
    "        visited = []\n",
    "        while len(to_visit) > 0:\n",
    "            curr = to_visit.pop(0)\n",
    "            if curr:\n",
    "                to_visit.append(curr.left)\n",
    "                to_visit.append(curr.right)\n",
    "                visited.append(curr.val)\n",
    "            else:\n",
    "                visited.append(curr)\n",
    "\n",
    "        while visited and not visited[-1]:\n",
    "            visited.pop()\n",
    "\n",
    "        return visited\n",
    "\n",
    "    def __str__(self):\n",
    "        return str(self.val)\n",
    "\n",
    "    @staticmethod\n",
    "    def from_array(nums: list[int|None]):\n",
    "        '''Create a Tree from a list of nums. Returns the root node.'''\n",
    "        if len(nums) == 0:\n",
    "            return None\n",
    "        elif len(nums) == 1:\n",
    "            return BinaryTreeNode(nums[0])\n",
    "        else:\n",
    "            forest = [BinaryTreeNode(nums[0])]\n",
    "            parent_idx = -1\n",
    "            for i in range(1, len(nums)):\n",
    "\n",
    "                curr = None\n",
    "                if nums[i] is not None:\n",
    "                    curr = BinaryTreeNode(nums[i])\n",
    "                    forest.append(curr)\n",
    "\n",
    "                if i % 2 == 1:\n",
    "                    parent_idx += 1\n",
    "                    forest[parent_idx].left = curr\n",
    "                else:\n",
    "                    forest[parent_idx].right = curr\n",
    "\n",
    "        return forest[0]"
   ]
  },
  {
   "cell_type": "markdown",
   "id": "3fccb5da",
   "metadata": {
    "papermill": {
     "duration": 0.007184,
     "end_time": "2024-04-19T15:53:10.808764",
     "exception": false,
     "start_time": "2024-04-19T15:53:10.801580",
     "status": "completed"
    },
    "tags": []
   },
   "source": [
    "Video Link: https://youtu.be/KcNt6v_56cc?si=5YR5-7IR1paMMiXK\n",
    "Search in a BST: https://leetcode.com/problems/search-in-a-binary-search-tree/submissions/1232647689"
   ]
  },
  {
   "cell_type": "code",
   "execution_count": 3,
   "id": "09688508",
   "metadata": {
    "execution": {
     "iopub.execute_input": "2024-04-19T15:53:10.824486Z",
     "iopub.status.busy": "2024-04-19T15:53:10.823940Z",
     "iopub.status.idle": "2024-04-19T15:53:10.834154Z",
     "shell.execute_reply": "2024-04-19T15:53:10.833413Z"
    },
    "lines_to_next_cell": 1,
    "papermill": {
     "duration": 0.019879,
     "end_time": "2024-04-19T15:53:10.835793",
     "exception": false,
     "start_time": "2024-04-19T15:53:10.815914",
     "status": "completed"
    },
    "tags": []
   },
   "outputs": [
    {
     "data": {
      "text/plain": [
       "[2, 1, 3]"
      ]
     },
     "execution_count": 3,
     "metadata": {},
     "output_type": "execute_result"
    }
   ],
   "source": [
    "def searchBST(root: BinaryTreeNode, val: int) -> BinaryTreeNode:\n",
    "    \"Time: O(log N)\"\n",
    "    if not root or root.val == val:\n",
    "        return root\n",
    "    elif root.val < val:\n",
    "        return searchBST(root.right, val)\n",
    "    else:\n",
    "        return searchBST(root.left, val)\n",
    "\n",
    "# Testing the solution\n",
    "searchBST(BinaryTreeNode.from_array([4,2,7,1,3]), 2).to_list()"
   ]
  },
  {
   "cell_type": "markdown",
   "id": "051180ef",
   "metadata": {
    "papermill": {
     "duration": 0.00747,
     "end_time": "2024-04-19T15:53:10.850813",
     "exception": false,
     "start_time": "2024-04-19T15:53:10.843343",
     "status": "completed"
    },
    "tags": []
   },
   "source": [
    "Video Link: https://youtu.be/KSsk8AhdOZA?si=2T66YUCRiC1Vr7Fs\n",
    "Ceil in a BST"
   ]
  },
  {
   "cell_type": "code",
   "execution_count": 4,
   "id": "519b483a",
   "metadata": {
    "execution": {
     "iopub.execute_input": "2024-04-19T15:53:10.867096Z",
     "iopub.status.busy": "2024-04-19T15:53:10.866337Z",
     "iopub.status.idle": "2024-04-19T15:53:10.873022Z",
     "shell.execute_reply": "2024-04-19T15:53:10.872284Z"
    },
    "lines_to_next_cell": 1,
    "papermill": {
     "duration": 0.016537,
     "end_time": "2024-04-19T15:53:10.874654",
     "exception": false,
     "start_time": "2024-04-19T15:53:10.858117",
     "status": "completed"
    },
    "tags": []
   },
   "outputs": [],
   "source": [
    "# Recursive solution\n",
    "def findCeilRecurse(root: BinaryTreeNode, x: int) -> int:\n",
    "    \"Smallest value greater than or equal to target.\"\n",
    "    ceil = -1\n",
    "    def backtrack(curr: BinaryTreeNode):\n",
    "        nonlocal ceil\n",
    "        if not curr:\n",
    "            return\n",
    "        elif curr.val >= x:\n",
    "            ceil = curr.val\n",
    "            backtrack(curr.left)\n",
    "        else:\n",
    "            backtrack(curr.right)\n",
    "\n",
    "    backtrack(root)\n",
    "    return ceil\n",
    "\n",
    "# Testing the solution\n",
    "assert findCeilRecurse(BinaryTreeNode.from_array([8,5,10,2,6,None,None,None,None,None,7,None,None]), 9) == 10\n",
    "assert findCeilRecurse(BinaryTreeNode.from_array([10,5,13,3,6,11,14,2,4,None,9]), 11) == 11"
   ]
  },
  {
   "cell_type": "code",
   "execution_count": 5,
   "id": "96103462",
   "metadata": {
    "execution": {
     "iopub.execute_input": "2024-04-19T15:53:10.891048Z",
     "iopub.status.busy": "2024-04-19T15:53:10.890312Z",
     "iopub.status.idle": "2024-04-19T15:53:10.896487Z",
     "shell.execute_reply": "2024-04-19T15:53:10.895748Z"
    },
    "lines_to_next_cell": 1,
    "papermill": {
     "duration": 0.016119,
     "end_time": "2024-04-19T15:53:10.898248",
     "exception": false,
     "start_time": "2024-04-19T15:53:10.882129",
     "status": "completed"
    },
    "tags": []
   },
   "outputs": [],
   "source": [
    "# Iterative solution\n",
    "def findCeilIter(root: BinaryTreeNode, x: int) -> int:\n",
    "    \"Smallest value greater than or equal to target.\"\n",
    "    curr, ceil = root, -1\n",
    "    while curr:\n",
    "        if curr.val >= x:\n",
    "            ceil = curr.val\n",
    "            curr = curr.left\n",
    "        else:\n",
    "            curr = curr.right\n",
    "\n",
    "    return ceil\n",
    "\n",
    "# Testing the solution\n",
    "assert findCeilIter(BinaryTreeNode.from_array([8,5,10,2,6,None,None,None,None,None,7,None,None]), 9) == 10\n",
    "assert findCeilIter(BinaryTreeNode.from_array([10,5,13,3,6,11,14,2,4,None,9]), 11) == 11"
   ]
  },
  {
   "cell_type": "markdown",
   "id": "2c170dfe",
   "metadata": {
    "papermill": {
     "duration": 0.007848,
     "end_time": "2024-04-19T15:53:10.915916",
     "exception": false,
     "start_time": "2024-04-19T15:53:10.908068",
     "status": "completed"
    },
    "tags": []
   },
   "source": [
    "Floor in a BST\n",
    "Video Link: https://youtu.be/xm_W1ub-K-w?si=ay4JzgX4mwb1RkBM"
   ]
  },
  {
   "cell_type": "code",
   "execution_count": 6,
   "id": "1674c736",
   "metadata": {
    "execution": {
     "iopub.execute_input": "2024-04-19T15:53:10.932387Z",
     "iopub.status.busy": "2024-04-19T15:53:10.931725Z",
     "iopub.status.idle": "2024-04-19T15:53:10.938070Z",
     "shell.execute_reply": "2024-04-19T15:53:10.937235Z"
    },
    "lines_to_next_cell": 1,
    "papermill": {
     "duration": 0.016481,
     "end_time": "2024-04-19T15:53:10.939805",
     "exception": false,
     "start_time": "2024-04-19T15:53:10.923324",
     "status": "completed"
    },
    "tags": []
   },
   "outputs": [],
   "source": [
    "def findFloor(root: BinaryTreeNode, key: int) -> int:\n",
    "    curr, floor = root, -1\n",
    "    while curr:\n",
    "        if curr.val <= key:\n",
    "            floor = curr.val\n",
    "            curr = curr.right\n",
    "        else:\n",
    "            curr = curr.left\n",
    "\n",
    "    return floor\n",
    "\n",
    "# Testing the solution\n",
    "assert findFloor(BinaryTreeNode.from_array([8,5,10,2,6,None,None,None,None,None,7,None,None]), 9) == 8\n",
    "assert findFloor(BinaryTreeNode.from_array([10,5,13,3,6,11,14,2,4,None,9]), 11) == 11"
   ]
  },
  {
   "cell_type": "markdown",
   "id": "f882be29",
   "metadata": {
    "papermill": {
     "duration": 0.007382,
     "end_time": "2024-04-19T15:53:10.955556",
     "exception": false,
     "start_time": "2024-04-19T15:53:10.948174",
     "status": "completed"
    },
    "tags": []
   },
   "source": [
    "Insert node into BST\n",
    "Video Link: https://youtu.be/FiFiNvM29ps?si=gLkHgOWwfsCsZYiC"
   ]
  },
  {
   "cell_type": "code",
   "execution_count": 7,
   "id": "2980e200",
   "metadata": {
    "execution": {
     "iopub.execute_input": "2024-04-19T15:53:10.973387Z",
     "iopub.status.busy": "2024-04-19T15:53:10.972701Z",
     "iopub.status.idle": "2024-04-19T15:53:10.978583Z",
     "shell.execute_reply": "2024-04-19T15:53:10.977937Z"
    },
    "lines_to_next_cell": 1,
    "papermill": {
     "duration": 0.01592,
     "end_time": "2024-04-19T15:53:10.980231",
     "exception": false,
     "start_time": "2024-04-19T15:53:10.964311",
     "status": "completed"
    },
    "tags": []
   },
   "outputs": [],
   "source": [
    "def insertIntoBST(root: BinaryTreeNode, val: int) -> BinaryTreeNode:\n",
    "    prev: BinaryTreeNode|None = None\n",
    "    curr: BinaryTreeNode|None = root\n",
    "\n",
    "    while curr:\n",
    "        prev = curr\n",
    "        if curr.val > val:\n",
    "            curr = curr.left\n",
    "        else:\n",
    "            curr = curr.right\n",
    "\n",
    "    curr = BinaryTreeNode(val)\n",
    "    if prev:\n",
    "        if prev.val > val:\n",
    "            prev.left = curr\n",
    "        else:\n",
    "            prev.right = curr\n",
    "\n",
    "    return root if prev else curr"
   ]
  },
  {
   "cell_type": "markdown",
   "id": "d29f77f3",
   "metadata": {
    "papermill": {
     "duration": 0.007337,
     "end_time": "2024-04-19T15:53:10.996470",
     "exception": false,
     "start_time": "2024-04-19T15:53:10.989133",
     "status": "completed"
    },
    "tags": []
   },
   "source": [
    "Delete a node: https://leetcode.com/problems/delete-node-in-a-bst/submissions/1233565259\n",
    "Video Link: https://youtu.be/kouxiP_H5WE?si=-J0yCkif1y5T8lLB"
   ]
  },
  {
   "cell_type": "code",
   "execution_count": 8,
   "id": "7aa66408",
   "metadata": {
    "execution": {
     "iopub.execute_input": "2024-04-19T15:53:11.012743Z",
     "iopub.status.busy": "2024-04-19T15:53:11.012167Z",
     "iopub.status.idle": "2024-04-19T15:53:11.022331Z",
     "shell.execute_reply": "2024-04-19T15:53:11.021572Z"
    },
    "lines_to_next_cell": 1,
    "papermill": {
     "duration": 0.02013,
     "end_time": "2024-04-19T15:53:11.024063",
     "exception": false,
     "start_time": "2024-04-19T15:53:11.003933",
     "status": "completed"
    },
    "tags": []
   },
   "outputs": [],
   "source": [
    "def deleteNode(root: BinaryTreeNode, key: int) -> BinaryTreeNode|None:\n",
    "    \"\"\"\n",
    "    Time: O(Height), Space: O(1)\n",
    "    1. Find curr such that curr.val = key (curr is node to be deleted)\n",
    "    2. curr.right would become the new curr. curr.right.left should point to curr.left\n",
    "    3. curr.left's rightmost node's right should point to curr.right.left\n",
    "    \"\"\"\n",
    "    def delete(parent: BinaryTreeNode|None, node: BinaryTreeNode):\n",
    "        if node.right and node.left:\n",
    "            # Find rightmost node in node.left\n",
    "            left: BinaryTreeNode = node.left\n",
    "            while left.right:\n",
    "                left = left.right\n",
    "            left.right = node.right.left\n",
    "            node.right.left = node.left\n",
    "\n",
    "        # Updated curr node post node deletion\n",
    "        post_delete = node.right if node.right else node.left\n",
    "\n",
    "        # If parent exists, modify parent right pointer to skip node being deleted\n",
    "        if parent:\n",
    "            if parent.val < node.val:\n",
    "                parent.right = post_delete\n",
    "            else:\n",
    "                parent.left = post_delete\n",
    "\n",
    "        # If parent doesn't exist, node is root. We return new root\n",
    "        else:\n",
    "            nonlocal root\n",
    "            root = post_delete\n",
    "\n",
    "    prev: BinaryTreeNode|None = None\n",
    "    curr: BinaryTreeNode|None = root\n",
    "\n",
    "    while curr:\n",
    "        if curr.val == key:\n",
    "            delete(prev, curr)\n",
    "            break\n",
    "        elif curr.val < key:\n",
    "            prev, curr = curr, curr.right\n",
    "        else:\n",
    "            prev, curr = curr, curr.left\n",
    "\n",
    "    return root\n",
    "\n",
    "# Testing the solution\n",
    "assert deleteNode(BinaryTreeNode.from_array([5,3,6,2,4,None,7]), 3).to_list() == [5,4,6,2,None,None,7]\n",
    "assert deleteNode(BinaryTreeNode.from_array([2,1]), 2).to_list() == [1]\n",
    "assert deleteNode(BinaryTreeNode.from_array([3,2,4,1]), 2).to_list() == [3,1,4]"
   ]
  },
  {
   "cell_type": "markdown",
   "id": "bef16c0a",
   "metadata": {
    "papermill": {
     "duration": 0.007413,
     "end_time": "2024-04-19T15:53:11.038993",
     "exception": false,
     "start_time": "2024-04-19T15:53:11.031580",
     "status": "completed"
    },
    "tags": []
   },
   "source": [
    "Kth Smallest element in BST: https://leetcode.com/problems/kth-smallest-element-in-a-bst/submissions/1234432057/\n",
    "Video Link: https://youtu.be/9TJYWh0adfk?si=J5aaXBmrPA5E6LGC"
   ]
  },
  {
   "cell_type": "code",
   "execution_count": 9,
   "id": "ce588656",
   "metadata": {
    "execution": {
     "iopub.execute_input": "2024-04-19T15:53:11.055421Z",
     "iopub.status.busy": "2024-04-19T15:53:11.054786Z",
     "iopub.status.idle": "2024-04-19T15:53:11.061548Z",
     "shell.execute_reply": "2024-04-19T15:53:11.060790Z"
    },
    "lines_to_next_cell": 1,
    "papermill": {
     "duration": 0.016911,
     "end_time": "2024-04-19T15:53:11.063265",
     "exception": false,
     "start_time": "2024-04-19T15:53:11.046354",
     "status": "completed"
    },
    "tags": []
   },
   "outputs": [],
   "source": [
    "def kthSmallest(root: BinaryTreeNode, k: int) -> int:\n",
    "    \"\"\"\n",
    "    Do an inorder traversal, storing the elements into an array. Return kth element.\n",
    "\n",
    "    Time: O(N), Space: O(N)\n",
    "    To eliminate space: O(N), we can use Morris Inorder traversal\n",
    "    \"\"\"\n",
    "\n",
    "    stack: list[BinaryTreeNode] = []\n",
    "    curr: BinaryTreeNode = root\n",
    "    while curr or stack:\n",
    "        if curr:\n",
    "            stack.append(curr)\n",
    "            curr = curr.left\n",
    "        else:\n",
    "            if stack:\n",
    "                curr = stack.pop()\n",
    "                if k == 1:\n",
    "                    return curr.val\n",
    "                else:\n",
    "                    curr = curr.right\n",
    "                    k -= 1\n",
    "\n",
    "    return -1\n",
    "\n",
    "# Testing the solution\n",
    "for i in range(1, 8):\n",
    "    assert kthSmallest(BinaryTreeNode.from_array([1,None,2,None,3,None,4,None,5,None,6,None,7]), i) == i"
   ]
  },
  {
   "cell_type": "markdown",
   "id": "e1c64a13",
   "metadata": {
    "papermill": {
     "duration": 0.007313,
     "end_time": "2024-04-19T15:53:11.078328",
     "exception": false,
     "start_time": "2024-04-19T15:53:11.071015",
     "status": "completed"
    },
    "tags": []
   },
   "source": [
    "Video Link: https://youtu.be/f-sj7I5oXEI?si=Pz_LGZrgKIHXQxi4\n",
    "Validate a BST "
   ]
  },
  {
   "cell_type": "code",
   "execution_count": 10,
   "id": "e1f9a579",
   "metadata": {
    "execution": {
     "iopub.execute_input": "2024-04-19T15:53:11.094666Z",
     "iopub.status.busy": "2024-04-19T15:53:11.094074Z",
     "iopub.status.idle": "2024-04-19T15:53:11.100774Z",
     "shell.execute_reply": "2024-04-19T15:53:11.100029Z"
    },
    "lines_to_next_cell": 1,
    "papermill": {
     "duration": 0.016867,
     "end_time": "2024-04-19T15:53:11.102520",
     "exception": false,
     "start_time": "2024-04-19T15:53:11.085653",
     "status": "completed"
    },
    "tags": []
   },
   "outputs": [],
   "source": [
    "# https://leetcode.com/problems/validate-binary-search-tree/submissions/1234444341\n",
    "def isValidBST(root: BinaryTreeNode) -> bool:\n",
    "    \"\"\"\n",
    "    Do an inorder traversal, if at any point curr < prev it is not a valid BST.\n",
    "\n",
    "    Time: O(N), Space: O(N)\n",
    "    \"\"\"\n",
    "\n",
    "    prev = -math.inf\n",
    "    stack: list[BinaryTreeNode] = []\n",
    "    curr: BinaryTreeNode = root\n",
    "    while stack or curr:\n",
    "        if curr:\n",
    "            stack.append(curr)\n",
    "            curr = curr.left\n",
    "        else:\n",
    "            curr = stack.pop()\n",
    "            if curr.val <= prev:\n",
    "                return False\n",
    "            else:\n",
    "                prev = curr.val\n",
    "                curr = curr.right\n",
    "\n",
    "    return True\n",
    "\n",
    "# Testing the solution\n",
    "assert isValidBST(BinaryTreeNode.from_array([5,4,6,None,None,3,7])) == False\n",
    "assert isValidBST(BinaryTreeNode.from_array([2,2,2])) == False"
   ]
  },
  {
   "cell_type": "code",
   "execution_count": 11,
   "id": "142f7fb4",
   "metadata": {
    "execution": {
     "iopub.execute_input": "2024-04-19T15:53:11.119097Z",
     "iopub.status.busy": "2024-04-19T15:53:11.118385Z",
     "iopub.status.idle": "2024-04-19T15:53:11.124332Z",
     "shell.execute_reply": "2024-04-19T15:53:11.123586Z"
    },
    "lines_to_next_cell": 1,
    "papermill": {
     "duration": 0.015937,
     "end_time": "2024-04-19T15:53:11.125923",
     "exception": false,
     "start_time": "2024-04-19T15:53:11.109986",
     "status": "completed"
    },
    "tags": []
   },
   "outputs": [],
   "source": [
    "# https://leetcode.com/problems/validate-binary-search-tree/submissions/1234448368\n",
    "def isValidBST_striver(root: BinaryTreeNode, min_: float= -math.inf, max_: float = math.inf) -> bool:\n",
    "    # Time: O(N), Space: O(1)\n",
    "    if not root:\n",
    "        return True\n",
    "    else:\n",
    "        return min_ < root.val < max_ and isValidBST_striver(root.left, min_, root.val) and isValidBST_striver(root.right, root.val, max_)\n",
    "\n",
    "# Testing the solution\n",
    "assert isValidBST_striver(BinaryTreeNode.from_array([5,4,6,None,None,3,7])) == False\n",
    "assert isValidBST_striver(BinaryTreeNode.from_array([2,2,2])) == False"
   ]
  },
  {
   "cell_type": "markdown",
   "id": "46ae2541",
   "metadata": {
    "papermill": {
     "duration": 0.007418,
     "end_time": "2024-04-19T15:53:11.140961",
     "exception": false,
     "start_time": "2024-04-19T15:53:11.133543",
     "status": "completed"
    },
    "tags": []
   },
   "source": [
    "Video Link: https://youtu.be/cX_kPV_foZc?si=YCFaerCUNhJwiPEV\n",
    "LCA in Binary Search Tree: https://leetcode.com/problems/lowest-common-ancestor-of-a-binary-search-tree/ "
   ]
  },
  {
   "cell_type": "code",
   "execution_count": 12,
   "id": "8233e212",
   "metadata": {
    "execution": {
     "iopub.execute_input": "2024-04-19T15:53:11.157743Z",
     "iopub.status.busy": "2024-04-19T15:53:11.157052Z",
     "iopub.status.idle": "2024-04-19T15:53:11.163622Z",
     "shell.execute_reply": "2024-04-19T15:53:11.162849Z"
    },
    "lines_to_next_cell": 1,
    "papermill": {
     "duration": 0.01687,
     "end_time": "2024-04-19T15:53:11.165311",
     "exception": false,
     "start_time": "2024-04-19T15:53:11.148441",
     "status": "completed"
    },
    "tags": []
   },
   "outputs": [],
   "source": [
    "# https://leetcode.com/problems/lowest-common-ancestor-of-a-binary-search-tree/submissions/1235328177/\n",
    "def lowestCommonAncestor(root: BinaryTreeNode, p: BinaryTreeNode, q: BinaryTreeNode) -> BinaryTreeNode:\n",
    "    \"\"\"\n",
    "    Striver's Approach, simplified version of my approach.\n",
    "    Time: O(log N), Space: O(1)\n",
    "    \"\"\"\n",
    "\n",
    "    curr = root\n",
    "    while curr:\n",
    "        if curr.val < p.val and curr.val < q.val:\n",
    "            curr = curr.right\n",
    "        elif curr.val > p.val and curr.val > q.val:\n",
    "            curr = curr.left\n",
    "        else:\n",
    "            break\n",
    "\n",
    "    return curr\n",
    "\n",
    "# Testing the solution\n",
    "temp: BinaryTreeNode = BinaryTreeNode.from_array([6,2,8,0,4,7,9,None,None,3,5])\n",
    "assert lowestCommonAncestor(temp, p=temp.left, q=temp.right).val == 6"
   ]
  },
  {
   "cell_type": "markdown",
   "id": "538229a8",
   "metadata": {
    "papermill": {
     "duration": 0.007409,
     "end_time": "2024-04-19T15:53:11.180366",
     "exception": false,
     "start_time": "2024-04-19T15:53:11.172957",
     "status": "completed"
    },
    "tags": []
   },
   "source": [
    "Construct BST from Preorder Traversal\n",
    "Video Link: https://youtu.be/UmJT3j26t1I?si=bZOGcW7usou-7xFK"
   ]
  },
  {
   "cell_type": "code",
   "execution_count": 13,
   "id": "87fe0260",
   "metadata": {
    "execution": {
     "iopub.execute_input": "2024-04-19T15:53:11.196803Z",
     "iopub.status.busy": "2024-04-19T15:53:11.196138Z",
     "iopub.status.idle": "2024-04-19T15:53:11.203206Z",
     "shell.execute_reply": "2024-04-19T15:53:11.202544Z"
    },
    "lines_to_next_cell": 1,
    "papermill": {
     "duration": 0.01704,
     "end_time": "2024-04-19T15:53:11.204810",
     "exception": false,
     "start_time": "2024-04-19T15:53:11.187770",
     "status": "completed"
    },
    "tags": []
   },
   "outputs": [],
   "source": [
    "# https://leetcode.com/problems/construct-binary-search-tree-from-preorder-traversal/submissions/1235338251\n",
    "def bstFromPreorderBrute(preorder: list[int]) -> BinaryTreeNode|None:\n",
    "    \"Time: O(N^2), Space: O(N)\"\n",
    "    def insert(curr: BinaryTreeNode|None, value: int) -> BinaryTreeNode:\n",
    "        if not curr:\n",
    "            return BinaryTreeNode(value)\n",
    "        elif curr.val < value:\n",
    "            curr.right = insert(curr.right, value)\n",
    "            return curr\n",
    "        else:\n",
    "            curr.left = insert(curr.left, value)\n",
    "            return curr\n",
    "\n",
    "    root: BinaryTreeNode|None = None\n",
    "    for value in preorder:\n",
    "        root = insert(root, value)\n",
    "\n",
    "    return root\n",
    "\n",
    "# Testing the solution\n",
    "assert bstFromPreorderBrute([8,5,1,7,10,12]).to_list() == [8,5,10,1,7,None,12]\n",
    "assert bstFromPreorderBrute([1,3]).to_list() == [1,None,3]"
   ]
  },
  {
   "cell_type": "code",
   "execution_count": 14,
   "id": "cea4e83a",
   "metadata": {
    "execution": {
     "iopub.execute_input": "2024-04-19T15:53:11.221161Z",
     "iopub.status.busy": "2024-04-19T15:53:11.220513Z",
     "iopub.status.idle": "2024-04-19T15:53:11.228181Z",
     "shell.execute_reply": "2024-04-19T15:53:11.227548Z"
    },
    "lines_to_next_cell": 1,
    "papermill": {
     "duration": 0.017541,
     "end_time": "2024-04-19T15:53:11.229806",
     "exception": false,
     "start_time": "2024-04-19T15:53:11.212265",
     "status": "completed"
    },
    "tags": []
   },
   "outputs": [],
   "source": [
    "# https://leetcode.com/problems/construct-binary-search-tree-from-preorder-traversal/submissions/1235351347\n",
    "def bstFromPreorderBetter(preorder: list[int]) -> BinaryTreeNode|None:\n",
    "    \"Time: O(N log N) Space: O(N)\"\n",
    "    N = len(preorder)\n",
    "    inorder = sorted(preorder)\n",
    "    inorder_indices = {n: i for i, n in enumerate(inorder)}\n",
    "    def createBT(pStart: int, pEnd: int, iStart: int, iEnd: int) -> BinaryTreeNode|None:\n",
    "        if iEnd - iStart < 0:\n",
    "            return None\n",
    "        else:\n",
    "            curr = BinaryTreeNode(preorder[pStart])\n",
    "            idx = inorder_indices[curr.val]\n",
    "            curr.left = createBT(pStart + 1, pStart + idx - iStart, iStart, idx - 1)\n",
    "            curr.right = createBT(pStart + idx - iStart + 1, pEnd, idx + 1, iEnd)\n",
    "            return curr\n",
    "\n",
    "    return createBT(0, N - 1, 0, N - 1)\n",
    "\n",
    "# Testing the solution\n",
    "assert bstFromPreorderBetter([8,5,1,7,10,12]).to_list() == [8,5,10,1,7,None,12]\n",
    "assert bstFromPreorderBetter([1,3]).to_list() == [1,None,3]"
   ]
  },
  {
   "cell_type": "code",
   "execution_count": 15,
   "id": "ac30bb42",
   "metadata": {
    "execution": {
     "iopub.execute_input": "2024-04-19T15:53:11.246064Z",
     "iopub.status.busy": "2024-04-19T15:53:11.245437Z",
     "iopub.status.idle": "2024-04-19T15:53:11.253927Z",
     "shell.execute_reply": "2024-04-19T15:53:11.253184Z"
    },
    "lines_to_next_cell": 1,
    "papermill": {
     "duration": 0.018349,
     "end_time": "2024-04-19T15:53:11.255582",
     "exception": false,
     "start_time": "2024-04-19T15:53:11.237233",
     "status": "completed"
    },
    "tags": []
   },
   "outputs": [],
   "source": [
    "# https://leetcode.com/problems/construct-binary-search-tree-from-preorder-traversal/submissions/1235363303/\n",
    "def bstFromPreorderOptimal(preorder: list[int]) -> BinaryTreeNode:\n",
    "    \"\"\"\n",
    "    Time: O(N), Space: O(N).\n",
    "    0. Initialize stack containing tuple of nodes and upper bound values.\n",
    "    1. We insert left if value to be inserted is less than last element in stack.\n",
    "    2. We insert right if value to be inserted is less than the lower bound of last element in stack.\n",
    "    3. If neither of above two holds, pop last element or recurse backwards.\n",
    "    \"\"\"\n",
    "    root: BinaryTreeNode = BinaryTreeNode(preorder[0])\n",
    "    stack: list[tuple[BinaryTreeNode, float]] = [(root, math.inf)]\n",
    "    for value in preorder[1:]:\n",
    "        curr = BinaryTreeNode(value)\n",
    "        while stack:\n",
    "            if value < stack[-1][0].val:\n",
    "                stack[-1][0].left = curr\n",
    "                stack.append((curr, stack[-1][0].val))\n",
    "                break\n",
    "            elif value < stack[-1][1]:\n",
    "                stack[-1][0].right = curr\n",
    "                stack.append((curr, stack[-1][1]))\n",
    "                break\n",
    "            else:\n",
    "                stack.pop()\n",
    "\n",
    "    return root\n",
    "\n",
    "# Testing the solution\n",
    "assert bstFromPreorderOptimal([8,5,1,7,10,12]).to_list() == [8,5,10,1,7,None,12]\n",
    "assert bstFromPreorderOptimal([1,3]).to_list() == [1,None,3]"
   ]
  },
  {
   "cell_type": "markdown",
   "id": "f916088f",
   "metadata": {
    "papermill": {
     "duration": 0.007231,
     "end_time": "2024-04-19T15:53:11.270333",
     "exception": false,
     "start_time": "2024-04-19T15:53:11.263102",
     "status": "completed"
    },
    "tags": []
   },
   "source": [
    "Inorder successor and predecessor of a BST\n",
    "Video Link: https://youtu.be/SXKAD2svfmI?si=MakIY0IWCvpCbHWB"
   ]
  },
  {
   "cell_type": "code",
   "execution_count": 16,
   "id": "1d877037",
   "metadata": {
    "execution": {
     "iopub.execute_input": "2024-04-19T15:53:11.287341Z",
     "iopub.status.busy": "2024-04-19T15:53:11.286625Z",
     "iopub.status.idle": "2024-04-19T15:53:11.292442Z",
     "shell.execute_reply": "2024-04-19T15:53:11.291680Z"
    },
    "lines_to_next_cell": 1,
    "papermill": {
     "duration": 0.016211,
     "end_time": "2024-04-19T15:53:11.294109",
     "exception": false,
     "start_time": "2024-04-19T15:53:11.277898",
     "status": "completed"
    },
    "tags": []
   },
   "outputs": [],
   "source": [
    "def predecessorSuccessor(root: BinaryTreeNode, key: int):\n",
    "    \"\"\"\n",
    "    Find the floor, ceil of key.\n",
    "    Time: O(H), Space: O(1)\n",
    "    \"\"\"\n",
    "    # Find LB\n",
    "    LB, curr = -1, root\n",
    "    while curr:\n",
    "        if curr.val < key:\n",
    "            LB = curr.val\n",
    "            curr = curr.right\n",
    "        else:\n",
    "            curr = curr.left\n",
    "\n",
    "    # Find UB\n",
    "    UB, curr = -1, root\n",
    "    while curr:\n",
    "        if curr.val > key:\n",
    "            UB = curr.val\n",
    "            curr = curr.left\n",
    "        else:\n",
    "            curr = curr.right\n",
    "\n",
    "    return LB, UB"
   ]
  },
  {
   "cell_type": "markdown",
   "id": "bee8b153",
   "metadata": {
    "papermill": {
     "duration": 0.007386,
     "end_time": "2024-04-19T15:53:11.309067",
     "exception": false,
     "start_time": "2024-04-19T15:53:11.301681",
     "status": "completed"
    },
    "tags": []
   },
   "source": [
    "BST Iterator: https://leetcode.com/problems/binary-search-tree-iterator/submissions/1236174700/\n",
    "Video Link: https://youtu.be/D2jMcmxU4bs?si=D8QZ784vB5u0LLPv"
   ]
  },
  {
   "cell_type": "code",
   "execution_count": 17,
   "id": "350f423a",
   "metadata": {
    "execution": {
     "iopub.execute_input": "2024-04-19T15:53:11.325399Z",
     "iopub.status.busy": "2024-04-19T15:53:11.324851Z",
     "iopub.status.idle": "2024-04-19T15:53:11.331213Z",
     "shell.execute_reply": "2024-04-19T15:53:11.330466Z"
    },
    "lines_to_next_cell": 1,
    "papermill": {
     "duration": 0.016243,
     "end_time": "2024-04-19T15:53:11.332814",
     "exception": false,
     "start_time": "2024-04-19T15:53:11.316571",
     "status": "completed"
    },
    "tags": []
   },
   "outputs": [],
   "source": [
    "class BSTIterator:\n",
    "    \"\"\"\n",
    "    Space: O(H)\n",
    "    Time: N spread over entire iteration O(N / N) ~ O(1) on average\n",
    "    \"\"\"\n",
    "    def __init__(self, root: BinaryTreeNode):\n",
    "        self.root = root\n",
    "\n",
    "        self.stack: list[BinaryTreeNode] = []\n",
    "        self.populateStack(self.root)\n",
    "\n",
    "    def populateStack(self, curr: BinaryTreeNode):\n",
    "        while curr:\n",
    "            self.stack.append(curr)\n",
    "            curr = curr.left\n",
    "\n",
    "    def next(self) -> int:\n",
    "        curr = self.stack.pop()\n",
    "        if curr.right:\n",
    "            self.populateStack(curr.right)\n",
    "\n",
    "        return curr.val\n",
    "\n",
    "    def hasNext(self) -> bool:\n",
    "        return len(self.stack) > 0"
   ]
  },
  {
   "cell_type": "markdown",
   "id": "59bb5f1f",
   "metadata": {
    "papermill": {
     "duration": 0.007437,
     "end_time": "2024-04-19T15:53:11.347775",
     "exception": false,
     "start_time": "2024-04-19T15:53:11.340338",
     "status": "completed"
    },
    "tags": []
   },
   "source": [
    "Video Link: https://youtu.be/ssL3sHwPeb4?si=Z4999grCFeuGVqKW\n",
    "Two Sum IV: BST Input"
   ]
  },
  {
   "cell_type": "code",
   "execution_count": 18,
   "id": "3d15c521",
   "metadata": {
    "execution": {
     "iopub.execute_input": "2024-04-19T15:53:11.364190Z",
     "iopub.status.busy": "2024-04-19T15:53:11.363563Z",
     "iopub.status.idle": "2024-04-19T15:53:11.371067Z",
     "shell.execute_reply": "2024-04-19T15:53:11.370331Z"
    },
    "lines_to_next_cell": 1,
    "papermill": {
     "duration": 0.017516,
     "end_time": "2024-04-19T15:53:11.372750",
     "exception": false,
     "start_time": "2024-04-19T15:53:11.355234",
     "status": "completed"
    },
    "tags": []
   },
   "outputs": [],
   "source": [
    "# https://leetcode.com/problems/two-sum-iv-input-is-a-bst/submissions/1236189602/\n",
    "def findTargetBrute(root: BinaryTreeNode, k: int) -> bool:\n",
    "    \"Time: O(N * log N), Space: O(1)\"\n",
    "    def find(target: int) -> bool:\n",
    "        curr = root\n",
    "        while curr:\n",
    "            if curr.val == target:\n",
    "                return True\n",
    "            elif curr.val < target:\n",
    "                curr = curr.right\n",
    "            else:\n",
    "                curr = curr.left\n",
    "        return False\n",
    "\n",
    "    queue: list[BinaryTreeNode] = [root]\n",
    "    while queue:\n",
    "        curr = queue.pop()\n",
    "        if curr:\n",
    "            if curr.val * 2 != k and find(k - curr.val):\n",
    "                return True\n",
    "            else:\n",
    "                queue.append(curr.left)\n",
    "                queue.append(curr.right)\n",
    "\n",
    "    return False\n",
    "\n",
    "# Testing the solution\n",
    "assert findTargetBrute(BinaryTreeNode.from_array([5,3,6,2,4,None,7]), 10) == True\n",
    "assert findTargetBrute(BinaryTreeNode.from_array([1]), 2) == False"
   ]
  },
  {
   "cell_type": "code",
   "execution_count": 19,
   "id": "8a27d83e",
   "metadata": {
    "execution": {
     "iopub.execute_input": "2024-04-19T15:53:11.389604Z",
     "iopub.status.busy": "2024-04-19T15:53:11.388993Z",
     "iopub.status.idle": "2024-04-19T15:53:11.399100Z",
     "shell.execute_reply": "2024-04-19T15:53:11.398470Z"
    },
    "papermill": {
     "duration": 0.020258,
     "end_time": "2024-04-19T15:53:11.400803",
     "exception": false,
     "start_time": "2024-04-19T15:53:11.380545",
     "status": "completed"
    },
    "tags": []
   },
   "outputs": [],
   "source": [
    "# https://leetcode.com/problems/two-sum-iv-input-is-a-bst/submissions/1236198223/\n",
    "def findTarget(root: BinaryTreeNode, k: int) -> bool:\n",
    "    \"\"\"\n",
    "    Idea is to create a BST Iterator that yields the smallest and largest element respectively.\n",
    "    Do a two pointer approach to two sum.\n",
    "\n",
    "    Time: O(N), Space: O(H)\n",
    "    \"\"\"\n",
    "    class BSTIterator:\n",
    "        def __init__(self, root_: BinaryTreeNode):\n",
    "            self.root = root_\n",
    "\n",
    "            self.stack: list[BinaryTreeNode] = []\n",
    "            self.populate(self.root, reverse=False)\n",
    "\n",
    "            self.rstack: list[BinaryTreeNode] = []\n",
    "            self.populate(self.root, reverse=True)\n",
    "\n",
    "        def populate(self, curr: BinaryTreeNode, reverse: bool):\n",
    "            while curr:\n",
    "                if not reverse:\n",
    "                    self.stack.append(curr)\n",
    "                    curr = curr.left\n",
    "                else:\n",
    "                    self.rstack.append(curr)\n",
    "                    curr = curr.right\n",
    "\n",
    "        def next(self, reverse: bool) -> int:\n",
    "            curr = self.stack.pop() if not reverse else self.rstack.pop()\n",
    "            if not reverse and curr.right:\n",
    "                self.populate(curr.right, reverse)\n",
    "            elif reverse and curr.left:\n",
    "                self.populate(curr.left, reverse)\n",
    "\n",
    "            return curr.val\n",
    "\n",
    "    bstIter = BSTIterator(root)\n",
    "    l, r = bstIter.next(False), bstIter.next(True)\n",
    "    while l < r:\n",
    "        k_ = l + r\n",
    "        if k_ == k:\n",
    "            return True\n",
    "        elif k_ < k:\n",
    "            l = bstIter.next(False)\n",
    "        else:\n",
    "            r = bstIter.next(True)\n",
    "\n",
    "    return False\n",
    "\n",
    "# Testing the solution\n",
    "assert findTarget(BinaryTreeNode.from_array([5,3,6,2,4,None,7]), 10) == True\n",
    "assert findTarget(BinaryTreeNode.from_array([1]), 2) == False"
   ]
  }
 ],
 "metadata": {
  "kernelspec": {
   "display_name": "Python 3 (ipykernel)",
   "language": "python",
   "name": "python3"
  },
  "language_info": {
   "codemirror_mode": {
    "name": "ipython",
    "version": 3
   },
   "file_extension": ".py",
   "mimetype": "text/x-python",
   "name": "python",
   "nbconvert_exporter": "python",
   "pygments_lexer": "ipython3",
   "version": "3.10.14"
  },
  "papermill": {
   "default_parameters": {},
   "duration": 1.864363,
   "end_time": "2024-04-19T15:53:11.524564",
   "environment_variables": {},
   "exception": null,
   "input_path": "study/striver-A2Z/11-binary-search-trees.ipynb",
   "output_path": "study/striver-A2Z/11-binary-search-trees.ipynb",
   "parameters": {},
   "start_time": "2024-04-19T15:53:09.660201",
   "version": "2.5.0"
  }
 },
 "nbformat": 4,
 "nbformat_minor": 5
}