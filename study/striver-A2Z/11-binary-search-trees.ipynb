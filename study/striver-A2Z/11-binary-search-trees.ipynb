{
 "cells": [
  {
   "cell_type": "markdown",
   "id": "5d747994",
   "metadata": {
    "papermill": {
     "duration": 0.004618,
     "end_time": "2024-04-16T03:00:03.676040",
     "exception": false,
     "start_time": "2024-04-16T03:00:03.671422",
     "status": "completed"
    },
    "tags": []
   },
   "source": [
    "Video Link: https://youtu.be/p7-9UvDQZ3w?si=YlQ8vk0wODSic1Hr\n",
    "Properties of Binary Search Trees\n",
    "1. Left node < Root node < Right node.\n",
    "2. Left subtree, Right subtree should itself be a BST.\n",
    "3. Ideally there are no duplicates. However to allow duplicates, we can modify the condition to something like: Left <= Root < Right. Alternatively we could save a tuple of values (value, freq).\n",
    "4. Balanced BST search: O(log N)"
   ]
  },
  {
   "cell_type": "markdown",
   "id": "a1a768de",
   "metadata": {
    "papermill": {
     "duration": 0.003959,
     "end_time": "2024-04-16T03:00:03.912567",
     "exception": false,
     "start_time": "2024-04-16T03:00:03.908608",
     "status": "completed"
    },
    "tags": []
   },
   "source": [
    "#### Some useful imports"
   ]
  },
  {
   "cell_type": "code",
   "execution_count": 1,
   "id": "4d1b31ca",
   "metadata": {
    "execution": {
     "iopub.execute_input": "2024-04-16T03:00:03.921577Z",
     "iopub.status.busy": "2024-04-16T03:00:03.921265Z",
     "iopub.status.idle": "2024-04-16T03:00:03.931830Z",
     "shell.execute_reply": "2024-04-16T03:00:03.931176Z"
    },
    "lines_to_next_cell": 1,
    "papermill": {
     "duration": 0.017192,
     "end_time": "2024-04-16T03:00:03.933501",
     "exception": false,
     "start_time": "2024-04-16T03:00:03.916309",
     "status": "completed"
    },
    "tags": []
   },
   "outputs": [],
   "source": [
    "import math\n",
    "import collections\n",
    "import itertools\n",
    "import bisect\n",
    "import heapq"
   ]
  },
  {
   "cell_type": "markdown",
   "id": "558424e6",
   "metadata": {
    "papermill": {
     "duration": 0.003691,
     "end_time": "2024-04-16T03:00:03.941013",
     "exception": false,
     "start_time": "2024-04-16T03:00:03.937322",
     "status": "completed"
    },
    "tags": []
   },
   "source": [
    "#### Helper for Binary tree problems"
   ]
  },
  {
   "cell_type": "code",
   "execution_count": 2,
   "id": "960d5afe",
   "metadata": {
    "execution": {
     "iopub.execute_input": "2024-04-16T03:00:03.949618Z",
     "iopub.status.busy": "2024-04-16T03:00:03.949366Z",
     "iopub.status.idle": "2024-04-16T03:00:03.959262Z",
     "shell.execute_reply": "2024-04-16T03:00:03.958500Z"
    },
    "lines_to_next_cell": 1,
    "papermill": {
     "duration": 0.016217,
     "end_time": "2024-04-16T03:00:03.960928",
     "exception": false,
     "start_time": "2024-04-16T03:00:03.944711",
     "status": "completed"
    },
    "tags": []
   },
   "outputs": [],
   "source": [
    "class BinaryTreeNode:\n",
    "    def __init__(self, val=0, left=None, right=None):\n",
    "        self.val = val\n",
    "        self.left = left\n",
    "        self.right = right\n",
    "\n",
    "    def to_list(self):\n",
    "        to_visit = [self]\n",
    "        visited = []\n",
    "        while len(to_visit) > 0:\n",
    "            curr = to_visit.pop(0)\n",
    "            if curr:\n",
    "                to_visit.append(curr.left)\n",
    "                to_visit.append(curr.right)\n",
    "                visited.append(curr.val)\n",
    "            else:\n",
    "                visited.append(curr)\n",
    "\n",
    "        while visited and not visited[-1]:\n",
    "            visited.pop()\n",
    "\n",
    "        return visited\n",
    "\n",
    "    def __str__(self):\n",
    "        return str(self.val)\n",
    "\n",
    "    @staticmethod\n",
    "    def from_array(nums: list[int|None]):\n",
    "        '''Create a Tree from a list of nums. Returns the root node.'''\n",
    "        if len(nums) == 0:\n",
    "            return None\n",
    "        elif len(nums) == 1:\n",
    "            return BinaryTreeNode(nums[0])\n",
    "        else:\n",
    "            forest = [BinaryTreeNode(nums[0])]\n",
    "            parent_idx = -1\n",
    "            for i in range(1, len(nums)):\n",
    "\n",
    "                curr = None\n",
    "                if nums[i] is not None:\n",
    "                    curr = BinaryTreeNode(nums[i])\n",
    "                    forest.append(curr)\n",
    "\n",
    "                if i % 2 == 1:\n",
    "                    parent_idx += 1\n",
    "                    forest[parent_idx].left = curr\n",
    "                else:\n",
    "                    forest[parent_idx].right = curr\n",
    "\n",
    "        return forest[0]"
   ]
  },
  {
   "cell_type": "markdown",
   "id": "3fccb5da",
   "metadata": {
    "papermill": {
     "duration": 0.003683,
     "end_time": "2024-04-16T03:00:03.968331",
     "exception": false,
     "start_time": "2024-04-16T03:00:03.964648",
     "status": "completed"
    },
    "tags": []
   },
   "source": [
    "Video Link: https://youtu.be/KcNt6v_56cc?si=5YR5-7IR1paMMiXK\n",
    "Search in a BST: https://leetcode.com/problems/search-in-a-binary-search-tree/submissions/1232647689"
   ]
  },
  {
   "cell_type": "code",
   "execution_count": 3,
   "id": "09688508",
   "metadata": {
    "execution": {
     "iopub.execute_input": "2024-04-16T03:00:03.977038Z",
     "iopub.status.busy": "2024-04-16T03:00:03.976499Z",
     "iopub.status.idle": "2024-04-16T03:00:03.986536Z",
     "shell.execute_reply": "2024-04-16T03:00:03.985874Z"
    },
    "lines_to_next_cell": 1,
    "papermill": {
     "duration": 0.016141,
     "end_time": "2024-04-16T03:00:03.988153",
     "exception": false,
     "start_time": "2024-04-16T03:00:03.972012",
     "status": "completed"
    },
    "tags": []
   },
   "outputs": [
    {
     "data": {
      "text/plain": [
       "[2, 1, 3]"
      ]
     },
     "execution_count": 3,
     "metadata": {},
     "output_type": "execute_result"
    }
   ],
   "source": [
    "def searchBST(root: BinaryTreeNode, val: int) -> BinaryTreeNode:\n",
    "    \"Time: O(log N)\"\n",
    "    if not root or root.val == val:\n",
    "        return root\n",
    "    elif root.val < val:\n",
    "        return searchBST(root.right, val)\n",
    "    else:\n",
    "        return searchBST(root.left, val)\n",
    "\n",
    "# Testing the solution\n",
    "searchBST(BinaryTreeNode.from_array([4,2,7,1,3]), 2).to_list()"
   ]
  },
  {
   "cell_type": "markdown",
   "id": "051180ef",
   "metadata": {
    "papermill": {
     "duration": 0.003812,
     "end_time": "2024-04-16T03:00:03.995825",
     "exception": false,
     "start_time": "2024-04-16T03:00:03.992013",
     "status": "completed"
    },
    "tags": []
   },
   "source": [
    "Video Link: https://youtu.be/KSsk8AhdOZA?si=2T66YUCRiC1Vr7Fs\n",
    "Ceil in a BST"
   ]
  },
  {
   "cell_type": "code",
   "execution_count": 4,
   "id": "519b483a",
   "metadata": {
    "execution": {
     "iopub.execute_input": "2024-04-16T03:00:04.004832Z",
     "iopub.status.busy": "2024-04-16T03:00:04.004169Z",
     "iopub.status.idle": "2024-04-16T03:00:04.010664Z",
     "shell.execute_reply": "2024-04-16T03:00:04.009925Z"
    },
    "lines_to_next_cell": 1,
    "papermill": {
     "duration": 0.012715,
     "end_time": "2024-04-16T03:00:04.012297",
     "exception": false,
     "start_time": "2024-04-16T03:00:03.999582",
     "status": "completed"
    },
    "tags": []
   },
   "outputs": [],
   "source": [
    "# Recursive solution\n",
    "def findCeilRecurse(root: BinaryTreeNode, x: int) -> int:\n",
    "    \"Smallest value greater than or equal to target.\"\n",
    "    ceil = -1\n",
    "    def backtrack(curr: BinaryTreeNode):\n",
    "        nonlocal ceil\n",
    "        if not curr:\n",
    "            return\n",
    "        elif curr.val >= x:\n",
    "            ceil = curr.val\n",
    "            backtrack(curr.left)\n",
    "        else:\n",
    "            backtrack(curr.right)\n",
    "\n",
    "    backtrack(root)\n",
    "    return ceil\n",
    "\n",
    "# Testing the solution\n",
    "assert findCeilRecurse(BinaryTreeNode.from_array([8,5,10,2,6,None,None,None,None,None,7,None,None]), 9) == 10\n",
    "assert findCeilRecurse(BinaryTreeNode.from_array([10,5,13,3,6,11,14,2,4,None,9]), 11) == 11"
   ]
  },
  {
   "cell_type": "code",
   "execution_count": 5,
   "id": "96103462",
   "metadata": {
    "execution": {
     "iopub.execute_input": "2024-04-16T03:00:04.021498Z",
     "iopub.status.busy": "2024-04-16T03:00:04.021205Z",
     "iopub.status.idle": "2024-04-16T03:00:04.027287Z",
     "shell.execute_reply": "2024-04-16T03:00:04.026538Z"
    },
    "lines_to_next_cell": 1,
    "papermill": {
     "duration": 0.012637,
     "end_time": "2024-04-16T03:00:04.028965",
     "exception": false,
     "start_time": "2024-04-16T03:00:04.016328",
     "status": "completed"
    },
    "tags": []
   },
   "outputs": [],
   "source": [
    "# Iterative solution\n",
    "def findCeilIter(root: BinaryTreeNode, x: int) -> int:\n",
    "    \"Smallest value greater than or equal to target.\"\n",
    "    curr, ceil = root, -1\n",
    "    while curr:\n",
    "        if curr.val >= x:\n",
    "            ceil = curr.val\n",
    "            curr = curr.left\n",
    "        else:\n",
    "            curr = curr.right\n",
    "\n",
    "    return ceil\n",
    "\n",
    "# Testing the solution\n",
    "assert findCeilIter(BinaryTreeNode.from_array([8,5,10,2,6,None,None,None,None,None,7,None,None]), 9) == 10\n",
    "assert findCeilIter(BinaryTreeNode.from_array([10,5,13,3,6,11,14,2,4,None,9]), 11) == 11"
   ]
  },
  {
   "cell_type": "markdown",
   "id": "2c170dfe",
   "metadata": {
    "papermill": {
     "duration": 0.00383,
     "end_time": "2024-04-16T03:00:04.036772",
     "exception": false,
     "start_time": "2024-04-16T03:00:04.032942",
     "status": "completed"
    },
    "tags": []
   },
   "source": [
    "Floor in a BST\n",
    "Video Link: https://youtu.be/xm_W1ub-K-w?si=ay4JzgX4mwb1RkBM"
   ]
  },
  {
   "cell_type": "code",
   "execution_count": 6,
   "id": "1674c736",
   "metadata": {
    "execution": {
     "iopub.execute_input": "2024-04-16T03:00:04.045718Z",
     "iopub.status.busy": "2024-04-16T03:00:04.045442Z",
     "iopub.status.idle": "2024-04-16T03:00:04.051511Z",
     "shell.execute_reply": "2024-04-16T03:00:04.050847Z"
    },
    "lines_to_next_cell": 1,
    "papermill": {
     "duration": 0.012579,
     "end_time": "2024-04-16T03:00:04.053231",
     "exception": false,
     "start_time": "2024-04-16T03:00:04.040652",
     "status": "completed"
    },
    "tags": []
   },
   "outputs": [],
   "source": [
    "def findFloor(root: BinaryTreeNode, key: int) -> int:\n",
    "    curr, floor = root, -1\n",
    "    while curr:\n",
    "        if curr.val <= key:\n",
    "            floor = curr.val\n",
    "            curr = curr.right\n",
    "        else:\n",
    "            curr = curr.left\n",
    "\n",
    "    return floor\n",
    "\n",
    "# Testing the solution\n",
    "assert findFloor(BinaryTreeNode.from_array([8,5,10,2,6,None,None,None,None,None,7,None,None]), 9) == 8\n",
    "assert findFloor(BinaryTreeNode.from_array([10,5,13,3,6,11,14,2,4,None,9]), 11) == 11"
   ]
  },
  {
   "cell_type": "markdown",
   "id": "f882be29",
   "metadata": {
    "papermill": {
     "duration": 0.003865,
     "end_time": "2024-04-16T03:00:04.061116",
     "exception": false,
     "start_time": "2024-04-16T03:00:04.057251",
     "status": "completed"
    },
    "tags": []
   },
   "source": [
    "Insert node into BST\n",
    "Video Link: https://youtu.be/FiFiNvM29ps?si=gLkHgOWwfsCsZYiC"
   ]
  },
  {
   "cell_type": "code",
   "execution_count": 7,
   "id": "2980e200",
   "metadata": {
    "execution": {
     "iopub.execute_input": "2024-04-16T03:00:04.070318Z",
     "iopub.status.busy": "2024-04-16T03:00:04.069682Z",
     "iopub.status.idle": "2024-04-16T03:00:04.075602Z",
     "shell.execute_reply": "2024-04-16T03:00:04.074968Z"
    },
    "lines_to_next_cell": 1,
    "papermill": {
     "duration": 0.012356,
     "end_time": "2024-04-16T03:00:04.077276",
     "exception": false,
     "start_time": "2024-04-16T03:00:04.064920",
     "status": "completed"
    },
    "tags": []
   },
   "outputs": [],
   "source": [
    "def insertIntoBST(root: BinaryTreeNode, val: int) -> BinaryTreeNode:\n",
    "    prev: BinaryTreeNode|None = None\n",
    "    curr: BinaryTreeNode|None = root\n",
    "\n",
    "    while curr:\n",
    "        prev = curr\n",
    "        if curr.val > val:\n",
    "            curr = curr.left\n",
    "        else:\n",
    "            curr = curr.right\n",
    "\n",
    "    curr = BinaryTreeNode(val)\n",
    "    if prev:\n",
    "        if prev.val > val:\n",
    "            prev.left = curr\n",
    "        else:\n",
    "            prev.right = curr\n",
    "\n",
    "    return root if prev else curr"
   ]
  },
  {
   "cell_type": "markdown",
   "id": "d29f77f3",
   "metadata": {
    "papermill": {
     "duration": 0.003819,
     "end_time": "2024-04-16T03:00:04.085161",
     "exception": false,
     "start_time": "2024-04-16T03:00:04.081342",
     "status": "completed"
    },
    "tags": []
   },
   "source": [
    "Delete a node: https://leetcode.com/problems/delete-node-in-a-bst/submissions/1233565259\n",
    "Video Link: https://youtu.be/kouxiP_H5WE?si=-J0yCkif1y5T8lLB"
   ]
  },
  {
   "cell_type": "code",
   "execution_count": 8,
   "id": "7aa66408",
   "metadata": {
    "execution": {
     "iopub.execute_input": "2024-04-16T03:00:04.094390Z",
     "iopub.status.busy": "2024-04-16T03:00:04.093838Z",
     "iopub.status.idle": "2024-04-16T03:00:04.103710Z",
     "shell.execute_reply": "2024-04-16T03:00:04.103065Z"
    },
    "papermill": {
     "duration": 0.016227,
     "end_time": "2024-04-16T03:00:04.105350",
     "exception": false,
     "start_time": "2024-04-16T03:00:04.089123",
     "status": "completed"
    },
    "tags": []
   },
   "outputs": [],
   "source": [
    "def deleteNode(root: BinaryTreeNode, key: int) -> BinaryTreeNode|None:\n",
    "    \"\"\"\n",
    "    Time: O(Height), Space: O(1)\n",
    "    1. Find curr such that curr.val = key (curr is node to be deleted)\n",
    "    2. curr.right would become the new curr. curr.right.left should point to curr.left\n",
    "    3. curr.left's rightmost node's right should point to curr.right.left\n",
    "    \"\"\"\n",
    "    def delete(parent: BinaryTreeNode|None, node: BinaryTreeNode):\n",
    "        if node.right and node.left:\n",
    "            # Find rightmost node in node.left\n",
    "            left: BinaryTreeNode = node.left\n",
    "            while left.right:\n",
    "                left = left.right\n",
    "            left.right = node.right.left\n",
    "            node.right.left = node.left\n",
    "\n",
    "        # Updated curr node post node deletion\n",
    "        post_delete = node.right if node.right else node.left\n",
    "\n",
    "        # If parent exists, modify parent right pointer to skip node being deleted\n",
    "        if parent:\n",
    "            if parent.val < node.val:\n",
    "                parent.right = post_delete\n",
    "            else:\n",
    "                parent.left = post_delete\n",
    "\n",
    "        # If parent doesn't exist, node is root. We return new root\n",
    "        else:\n",
    "            nonlocal root\n",
    "            root = post_delete\n",
    "\n",
    "    prev: BinaryTreeNode|None = None\n",
    "    curr: BinaryTreeNode|None = root\n",
    "\n",
    "    while curr:\n",
    "        if curr.val == key:\n",
    "            delete(prev, curr)\n",
    "            break\n",
    "        elif curr.val < key:\n",
    "            prev, curr = curr, curr.right\n",
    "        else:\n",
    "            prev, curr = curr, curr.left\n",
    "\n",
    "    return root\n",
    "\n",
    "# Testing the solution\n",
    "assert deleteNode(BinaryTreeNode.from_array([5,3,6,2,4,None,7]), 3).to_list() == [5,4,6,2,None,None,7]\n",
    "assert deleteNode(BinaryTreeNode.from_array([2,1]), 2).to_list() == [1]\n",
    "assert deleteNode(BinaryTreeNode.from_array([3,2,4,1]), 2).to_list() == [3,1,4]"
   ]
  }
 ],
 "metadata": {
  "kernelspec": {
   "display_name": "Python 3 (ipykernel)",
   "language": "python",
   "name": "python3"
  },
  "language_info": {
   "codemirror_mode": {
    "name": "ipython",
    "version": 3
   },
   "file_extension": ".py",
   "mimetype": "text/x-python",
   "name": "python",
   "nbconvert_exporter": "python",
   "pygments_lexer": "ipython3",
   "version": "3.10.14"
  },
  "papermill": {
   "default_parameters": {},
   "duration": 1.615155,
   "end_time": "2024-04-16T03:00:04.226619",
   "environment_variables": {},
   "exception": null,
   "input_path": "study/striver-A2Z/11-binary-search-trees.ipynb",
   "output_path": "study/striver-A2Z/11-binary-search-trees.ipynb",
   "parameters": {},
   "start_time": "2024-04-16T03:00:02.611464",
   "version": "2.5.0"
  }
 },
 "nbformat": 4,
 "nbformat_minor": 5
}