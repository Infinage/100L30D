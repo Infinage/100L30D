{
 "cells": [
  {
   "cell_type": "markdown",
   "id": "5d747994",
   "metadata": {
    "papermill": {
     "duration": 0.00551,
     "end_time": "2024-04-17T16:25:33.001948",
     "exception": false,
     "start_time": "2024-04-17T16:25:32.996438",
     "status": "completed"
    },
    "tags": []
   },
   "source": [
    "Video Link: https://youtu.be/p7-9UvDQZ3w?si=YlQ8vk0wODSic1Hr\n",
    "Properties of Binary Search Trees\n",
    "1. Left node < Root node < Right node.\n",
    "2. Left subtree, Right subtree should itself be a BST.\n",
    "3. Ideally there are no duplicates. However to allow duplicates, we can modify the condition to something like: Left <= Root < Right. Alternatively we could save a tuple of values (value, freq).\n",
    "4. Balanced BST search: O(log N)\n",
    "5. Inorder traversal of a BST is always in a sorted order."
   ]
  },
  {
   "cell_type": "markdown",
   "id": "a1a768de",
   "metadata": {
    "papermill": {
     "duration": 0.004747,
     "end_time": "2024-04-17T16:25:33.011711",
     "exception": false,
     "start_time": "2024-04-17T16:25:33.006964",
     "status": "completed"
    },
    "tags": []
   },
   "source": [
    "#### Some useful imports"
   ]
  },
  {
   "cell_type": "code",
   "execution_count": 1,
   "id": "4d1b31ca",
   "metadata": {
    "execution": {
     "iopub.execute_input": "2024-04-17T16:25:33.022993Z",
     "iopub.status.busy": "2024-04-17T16:25:33.022257Z",
     "iopub.status.idle": "2024-04-17T16:25:33.032237Z",
     "shell.execute_reply": "2024-04-17T16:25:33.031591Z"
    },
    "lines_to_next_cell": 1,
    "papermill": {
     "duration": 0.017664,
     "end_time": "2024-04-17T16:25:33.034040",
     "exception": false,
     "start_time": "2024-04-17T16:25:33.016376",
     "status": "completed"
    },
    "tags": []
   },
   "outputs": [],
   "source": [
    "import math\n",
    "import collections\n",
    "import itertools\n",
    "import bisect\n",
    "import heapq"
   ]
  },
  {
   "cell_type": "markdown",
   "id": "558424e6",
   "metadata": {
    "papermill": {
     "duration": 0.004635,
     "end_time": "2024-04-17T16:25:33.043772",
     "exception": false,
     "start_time": "2024-04-17T16:25:33.039137",
     "status": "completed"
    },
    "tags": []
   },
   "source": [
    "#### Helper for Binary tree problems"
   ]
  },
  {
   "cell_type": "code",
   "execution_count": 2,
   "id": "960d5afe",
   "metadata": {
    "execution": {
     "iopub.execute_input": "2024-04-17T16:25:33.055063Z",
     "iopub.status.busy": "2024-04-17T16:25:33.054414Z",
     "iopub.status.idle": "2024-04-17T16:25:33.064571Z",
     "shell.execute_reply": "2024-04-17T16:25:33.063893Z"
    },
    "lines_to_next_cell": 1,
    "papermill": {
     "duration": 0.017808,
     "end_time": "2024-04-17T16:25:33.066251",
     "exception": false,
     "start_time": "2024-04-17T16:25:33.048443",
     "status": "completed"
    },
    "tags": []
   },
   "outputs": [],
   "source": [
    "class BinaryTreeNode:\n",
    "    def __init__(self, val=0, left=None, right=None):\n",
    "        self.val = val\n",
    "        self.left = left\n",
    "        self.right = right\n",
    "\n",
    "    def to_list(self):\n",
    "        to_visit = [self]\n",
    "        visited = []\n",
    "        while len(to_visit) > 0:\n",
    "            curr = to_visit.pop(0)\n",
    "            if curr:\n",
    "                to_visit.append(curr.left)\n",
    "                to_visit.append(curr.right)\n",
    "                visited.append(curr.val)\n",
    "            else:\n",
    "                visited.append(curr)\n",
    "\n",
    "        while visited and not visited[-1]:\n",
    "            visited.pop()\n",
    "\n",
    "        return visited\n",
    "\n",
    "    def __str__(self):\n",
    "        return str(self.val)\n",
    "\n",
    "    @staticmethod\n",
    "    def from_array(nums: list[int|None]):\n",
    "        '''Create a Tree from a list of nums. Returns the root node.'''\n",
    "        if len(nums) == 0:\n",
    "            return None\n",
    "        elif len(nums) == 1:\n",
    "            return BinaryTreeNode(nums[0])\n",
    "        else:\n",
    "            forest = [BinaryTreeNode(nums[0])]\n",
    "            parent_idx = -1\n",
    "            for i in range(1, len(nums)):\n",
    "\n",
    "                curr = None\n",
    "                if nums[i] is not None:\n",
    "                    curr = BinaryTreeNode(nums[i])\n",
    "                    forest.append(curr)\n",
    "\n",
    "                if i % 2 == 1:\n",
    "                    parent_idx += 1\n",
    "                    forest[parent_idx].left = curr\n",
    "                else:\n",
    "                    forest[parent_idx].right = curr\n",
    "\n",
    "        return forest[0]"
   ]
  },
  {
   "cell_type": "markdown",
   "id": "3fccb5da",
   "metadata": {
    "papermill": {
     "duration": 0.004654,
     "end_time": "2024-04-17T16:25:33.075985",
     "exception": false,
     "start_time": "2024-04-17T16:25:33.071331",
     "status": "completed"
    },
    "tags": []
   },
   "source": [
    "Video Link: https://youtu.be/KcNt6v_56cc?si=5YR5-7IR1paMMiXK\n",
    "Search in a BST: https://leetcode.com/problems/search-in-a-binary-search-tree/submissions/1232647689"
   ]
  },
  {
   "cell_type": "code",
   "execution_count": 3,
   "id": "09688508",
   "metadata": {
    "execution": {
     "iopub.execute_input": "2024-04-17T16:25:33.086888Z",
     "iopub.status.busy": "2024-04-17T16:25:33.086425Z",
     "iopub.status.idle": "2024-04-17T16:25:33.096636Z",
     "shell.execute_reply": "2024-04-17T16:25:33.095794Z"
    },
    "lines_to_next_cell": 1,
    "papermill": {
     "duration": 0.017624,
     "end_time": "2024-04-17T16:25:33.098338",
     "exception": false,
     "start_time": "2024-04-17T16:25:33.080714",
     "status": "completed"
    },
    "tags": []
   },
   "outputs": [
    {
     "data": {
      "text/plain": [
       "[2, 1, 3]"
      ]
     },
     "execution_count": 3,
     "metadata": {},
     "output_type": "execute_result"
    }
   ],
   "source": [
    "def searchBST(root: BinaryTreeNode, val: int) -> BinaryTreeNode:\n",
    "    \"Time: O(log N)\"\n",
    "    if not root or root.val == val:\n",
    "        return root\n",
    "    elif root.val < val:\n",
    "        return searchBST(root.right, val)\n",
    "    else:\n",
    "        return searchBST(root.left, val)\n",
    "\n",
    "# Testing the solution\n",
    "searchBST(BinaryTreeNode.from_array([4,2,7,1,3]), 2).to_list()"
   ]
  },
  {
   "cell_type": "markdown",
   "id": "051180ef",
   "metadata": {
    "papermill": {
     "duration": 0.004797,
     "end_time": "2024-04-17T16:25:33.108275",
     "exception": false,
     "start_time": "2024-04-17T16:25:33.103478",
     "status": "completed"
    },
    "tags": []
   },
   "source": [
    "Video Link: https://youtu.be/KSsk8AhdOZA?si=2T66YUCRiC1Vr7Fs\n",
    "Ceil in a BST"
   ]
  },
  {
   "cell_type": "code",
   "execution_count": 4,
   "id": "519b483a",
   "metadata": {
    "execution": {
     "iopub.execute_input": "2024-04-17T16:25:33.120028Z",
     "iopub.status.busy": "2024-04-17T16:25:33.119359Z",
     "iopub.status.idle": "2024-04-17T16:25:33.126348Z",
     "shell.execute_reply": "2024-04-17T16:25:33.125563Z"
    },
    "lines_to_next_cell": 1,
    "papermill": {
     "duration": 0.01475,
     "end_time": "2024-04-17T16:25:33.127947",
     "exception": false,
     "start_time": "2024-04-17T16:25:33.113197",
     "status": "completed"
    },
    "tags": []
   },
   "outputs": [],
   "source": [
    "# Recursive solution\n",
    "def findCeilRecurse(root: BinaryTreeNode, x: int) -> int:\n",
    "    \"Smallest value greater than or equal to target.\"\n",
    "    ceil = -1\n",
    "    def backtrack(curr: BinaryTreeNode):\n",
    "        nonlocal ceil\n",
    "        if not curr:\n",
    "            return\n",
    "        elif curr.val >= x:\n",
    "            ceil = curr.val\n",
    "            backtrack(curr.left)\n",
    "        else:\n",
    "            backtrack(curr.right)\n",
    "\n",
    "    backtrack(root)\n",
    "    return ceil\n",
    "\n",
    "# Testing the solution\n",
    "assert findCeilRecurse(BinaryTreeNode.from_array([8,5,10,2,6,None,None,None,None,None,7,None,None]), 9) == 10\n",
    "assert findCeilRecurse(BinaryTreeNode.from_array([10,5,13,3,6,11,14,2,4,None,9]), 11) == 11"
   ]
  },
  {
   "cell_type": "code",
   "execution_count": 5,
   "id": "96103462",
   "metadata": {
    "execution": {
     "iopub.execute_input": "2024-04-17T16:25:33.139202Z",
     "iopub.status.busy": "2024-04-17T16:25:33.138574Z",
     "iopub.status.idle": "2024-04-17T16:25:33.144774Z",
     "shell.execute_reply": "2024-04-17T16:25:33.144018Z"
    },
    "lines_to_next_cell": 1,
    "papermill": {
     "duration": 0.013813,
     "end_time": "2024-04-17T16:25:33.146707",
     "exception": false,
     "start_time": "2024-04-17T16:25:33.132894",
     "status": "completed"
    },
    "tags": []
   },
   "outputs": [],
   "source": [
    "# Iterative solution\n",
    "def findCeilIter(root: BinaryTreeNode, x: int) -> int:\n",
    "    \"Smallest value greater than or equal to target.\"\n",
    "    curr, ceil = root, -1\n",
    "    while curr:\n",
    "        if curr.val >= x:\n",
    "            ceil = curr.val\n",
    "            curr = curr.left\n",
    "        else:\n",
    "            curr = curr.right\n",
    "\n",
    "    return ceil\n",
    "\n",
    "# Testing the solution\n",
    "assert findCeilIter(BinaryTreeNode.from_array([8,5,10,2,6,None,None,None,None,None,7,None,None]), 9) == 10\n",
    "assert findCeilIter(BinaryTreeNode.from_array([10,5,13,3,6,11,14,2,4,None,9]), 11) == 11"
   ]
  },
  {
   "cell_type": "markdown",
   "id": "2c170dfe",
   "metadata": {
    "papermill": {
     "duration": 0.004729,
     "end_time": "2024-04-17T16:25:33.156319",
     "exception": false,
     "start_time": "2024-04-17T16:25:33.151590",
     "status": "completed"
    },
    "tags": []
   },
   "source": [
    "Floor in a BST\n",
    "Video Link: https://youtu.be/xm_W1ub-K-w?si=ay4JzgX4mwb1RkBM"
   ]
  },
  {
   "cell_type": "code",
   "execution_count": 6,
   "id": "1674c736",
   "metadata": {
    "execution": {
     "iopub.execute_input": "2024-04-17T16:25:33.167687Z",
     "iopub.status.busy": "2024-04-17T16:25:33.166924Z",
     "iopub.status.idle": "2024-04-17T16:25:33.173292Z",
     "shell.execute_reply": "2024-04-17T16:25:33.172661Z"
    },
    "lines_to_next_cell": 1,
    "papermill": {
     "duration": 0.013857,
     "end_time": "2024-04-17T16:25:33.175022",
     "exception": false,
     "start_time": "2024-04-17T16:25:33.161165",
     "status": "completed"
    },
    "tags": []
   },
   "outputs": [],
   "source": [
    "def findFloor(root: BinaryTreeNode, key: int) -> int:\n",
    "    curr, floor = root, -1\n",
    "    while curr:\n",
    "        if curr.val <= key:\n",
    "            floor = curr.val\n",
    "            curr = curr.right\n",
    "        else:\n",
    "            curr = curr.left\n",
    "\n",
    "    return floor\n",
    "\n",
    "# Testing the solution\n",
    "assert findFloor(BinaryTreeNode.from_array([8,5,10,2,6,None,None,None,None,None,7,None,None]), 9) == 8\n",
    "assert findFloor(BinaryTreeNode.from_array([10,5,13,3,6,11,14,2,4,None,9]), 11) == 11"
   ]
  },
  {
   "cell_type": "markdown",
   "id": "f882be29",
   "metadata": {
    "papermill": {
     "duration": 0.004798,
     "end_time": "2024-04-17T16:25:33.184726",
     "exception": false,
     "start_time": "2024-04-17T16:25:33.179928",
     "status": "completed"
    },
    "tags": []
   },
   "source": [
    "Insert node into BST\n",
    "Video Link: https://youtu.be/FiFiNvM29ps?si=gLkHgOWwfsCsZYiC"
   ]
  },
  {
   "cell_type": "code",
   "execution_count": 7,
   "id": "2980e200",
   "metadata": {
    "execution": {
     "iopub.execute_input": "2024-04-17T16:25:33.196161Z",
     "iopub.status.busy": "2024-04-17T16:25:33.195490Z",
     "iopub.status.idle": "2024-04-17T16:25:33.201167Z",
     "shell.execute_reply": "2024-04-17T16:25:33.200553Z"
    },
    "lines_to_next_cell": 1,
    "papermill": {
     "duration": 0.013107,
     "end_time": "2024-04-17T16:25:33.202804",
     "exception": false,
     "start_time": "2024-04-17T16:25:33.189697",
     "status": "completed"
    },
    "tags": []
   },
   "outputs": [],
   "source": [
    "def insertIntoBST(root: BinaryTreeNode, val: int) -> BinaryTreeNode:\n",
    "    prev: BinaryTreeNode|None = None\n",
    "    curr: BinaryTreeNode|None = root\n",
    "\n",
    "    while curr:\n",
    "        prev = curr\n",
    "        if curr.val > val:\n",
    "            curr = curr.left\n",
    "        else:\n",
    "            curr = curr.right\n",
    "\n",
    "    curr = BinaryTreeNode(val)\n",
    "    if prev:\n",
    "        if prev.val > val:\n",
    "            prev.left = curr\n",
    "        else:\n",
    "            prev.right = curr\n",
    "\n",
    "    return root if prev else curr"
   ]
  },
  {
   "cell_type": "markdown",
   "id": "d29f77f3",
   "metadata": {
    "papermill": {
     "duration": 0.004842,
     "end_time": "2024-04-17T16:25:33.212735",
     "exception": false,
     "start_time": "2024-04-17T16:25:33.207893",
     "status": "completed"
    },
    "tags": []
   },
   "source": [
    "Delete a node: https://leetcode.com/problems/delete-node-in-a-bst/submissions/1233565259\n",
    "Video Link: https://youtu.be/kouxiP_H5WE?si=-J0yCkif1y5T8lLB"
   ]
  },
  {
   "cell_type": "code",
   "execution_count": 8,
   "id": "7aa66408",
   "metadata": {
    "execution": {
     "iopub.execute_input": "2024-04-17T16:25:33.224446Z",
     "iopub.status.busy": "2024-04-17T16:25:33.223828Z",
     "iopub.status.idle": "2024-04-17T16:25:33.233951Z",
     "shell.execute_reply": "2024-04-17T16:25:33.233209Z"
    },
    "lines_to_next_cell": 1,
    "papermill": {
     "duration": 0.018104,
     "end_time": "2024-04-17T16:25:33.235890",
     "exception": false,
     "start_time": "2024-04-17T16:25:33.217786",
     "status": "completed"
    },
    "tags": []
   },
   "outputs": [],
   "source": [
    "def deleteNode(root: BinaryTreeNode, key: int) -> BinaryTreeNode|None:\n",
    "    \"\"\"\n",
    "    Time: O(Height), Space: O(1)\n",
    "    1. Find curr such that curr.val = key (curr is node to be deleted)\n",
    "    2. curr.right would become the new curr. curr.right.left should point to curr.left\n",
    "    3. curr.left's rightmost node's right should point to curr.right.left\n",
    "    \"\"\"\n",
    "    def delete(parent: BinaryTreeNode|None, node: BinaryTreeNode):\n",
    "        if node.right and node.left:\n",
    "            # Find rightmost node in node.left\n",
    "            left: BinaryTreeNode = node.left\n",
    "            while left.right:\n",
    "                left = left.right\n",
    "            left.right = node.right.left\n",
    "            node.right.left = node.left\n",
    "\n",
    "        # Updated curr node post node deletion\n",
    "        post_delete = node.right if node.right else node.left\n",
    "\n",
    "        # If parent exists, modify parent right pointer to skip node being deleted\n",
    "        if parent:\n",
    "            if parent.val < node.val:\n",
    "                parent.right = post_delete\n",
    "            else:\n",
    "                parent.left = post_delete\n",
    "\n",
    "        # If parent doesn't exist, node is root. We return new root\n",
    "        else:\n",
    "            nonlocal root\n",
    "            root = post_delete\n",
    "\n",
    "    prev: BinaryTreeNode|None = None\n",
    "    curr: BinaryTreeNode|None = root\n",
    "\n",
    "    while curr:\n",
    "        if curr.val == key:\n",
    "            delete(prev, curr)\n",
    "            break\n",
    "        elif curr.val < key:\n",
    "            prev, curr = curr, curr.right\n",
    "        else:\n",
    "            prev, curr = curr, curr.left\n",
    "\n",
    "    return root\n",
    "\n",
    "# Testing the solution\n",
    "assert deleteNode(BinaryTreeNode.from_array([5,3,6,2,4,None,7]), 3).to_list() == [5,4,6,2,None,None,7]\n",
    "assert deleteNode(BinaryTreeNode.from_array([2,1]), 2).to_list() == [1]\n",
    "assert deleteNode(BinaryTreeNode.from_array([3,2,4,1]), 2).to_list() == [3,1,4]"
   ]
  },
  {
   "cell_type": "markdown",
   "id": "bef16c0a",
   "metadata": {
    "papermill": {
     "duration": 0.004797,
     "end_time": "2024-04-17T16:25:33.246960",
     "exception": false,
     "start_time": "2024-04-17T16:25:33.242163",
     "status": "completed"
    },
    "tags": []
   },
   "source": [
    "Kth Smallest element in BST: https://leetcode.com/problems/kth-smallest-element-in-a-bst/submissions/1234432057/\n",
    "Video Link: https://youtu.be/9TJYWh0adfk?si=J5aaXBmrPA5E6LGC"
   ]
  },
  {
   "cell_type": "code",
   "execution_count": 9,
   "id": "ce588656",
   "metadata": {
    "execution": {
     "iopub.execute_input": "2024-04-17T16:25:33.257946Z",
     "iopub.status.busy": "2024-04-17T16:25:33.257445Z",
     "iopub.status.idle": "2024-04-17T16:25:33.264013Z",
     "shell.execute_reply": "2024-04-17T16:25:33.263282Z"
    },
    "lines_to_next_cell": 1,
    "papermill": {
     "duration": 0.013895,
     "end_time": "2024-04-17T16:25:33.265698",
     "exception": false,
     "start_time": "2024-04-17T16:25:33.251803",
     "status": "completed"
    },
    "tags": []
   },
   "outputs": [],
   "source": [
    "def kthSmallest(root: BinaryTreeNode, k: int) -> int:\n",
    "    \"\"\"\n",
    "    Do an inorder traversal, storing the elements into an array. Return kth element.\n",
    "\n",
    "    Time: O(N), Space: O(N)\n",
    "    To eliminate space: O(N), we can use Morris Inorder traversal\n",
    "    \"\"\"\n",
    "\n",
    "    stack: list[BinaryTreeNode] = []\n",
    "    curr: BinaryTreeNode = root\n",
    "    while curr or stack:\n",
    "        if curr:\n",
    "            stack.append(curr)\n",
    "            curr = curr.left\n",
    "        else:\n",
    "            if stack:\n",
    "                curr = stack.pop()\n",
    "                if k == 1:\n",
    "                    return curr.val\n",
    "                else:\n",
    "                    curr = curr.right\n",
    "                    k -= 1\n",
    "\n",
    "    return -1\n",
    "\n",
    "# Testing the solution\n",
    "for i in range(1, 8):\n",
    "    assert kthSmallest(BinaryTreeNode.from_array([1,None,2,None,3,None,4,None,5,None,6,None,7]), i) == i"
   ]
  },
  {
   "cell_type": "markdown",
   "id": "e1c64a13",
   "metadata": {
    "papermill": {
     "duration": 0.004802,
     "end_time": "2024-04-17T16:25:33.276399",
     "exception": false,
     "start_time": "2024-04-17T16:25:33.271597",
     "status": "completed"
    },
    "tags": []
   },
   "source": [
    "Video Link: https://youtu.be/f-sj7I5oXEI?si=Pz_LGZrgKIHXQxi4\n",
    "Validate a BST "
   ]
  },
  {
   "cell_type": "code",
   "execution_count": 10,
   "id": "e1f9a579",
   "metadata": {
    "execution": {
     "iopub.execute_input": "2024-04-17T16:25:33.287752Z",
     "iopub.status.busy": "2024-04-17T16:25:33.287154Z",
     "iopub.status.idle": "2024-04-17T16:25:33.293475Z",
     "shell.execute_reply": "2024-04-17T16:25:33.292741Z"
    },
    "lines_to_next_cell": 1,
    "papermill": {
     "duration": 0.013846,
     "end_time": "2024-04-17T16:25:33.295193",
     "exception": false,
     "start_time": "2024-04-17T16:25:33.281347",
     "status": "completed"
    },
    "tags": []
   },
   "outputs": [],
   "source": [
    "# https://leetcode.com/problems/validate-binary-search-tree/submissions/1234444341\n",
    "def isValidBST(root: BinaryTreeNode) -> bool:\n",
    "    \"\"\"\n",
    "    Do an inorder traversal, if at any point curr < prev it is not a valid BST.\n",
    "\n",
    "    Time: O(N), Space: O(N)\n",
    "    \"\"\"\n",
    "\n",
    "    prev = -math.inf\n",
    "    stack: list[BinaryTreeNode] = []\n",
    "    curr: BinaryTreeNode = root\n",
    "    while stack or curr:\n",
    "        if curr:\n",
    "            stack.append(curr)\n",
    "            curr = curr.left\n",
    "        else:\n",
    "            curr = stack.pop()\n",
    "            if curr.val <= prev:\n",
    "                return False\n",
    "            else:\n",
    "                prev = curr.val\n",
    "                curr = curr.right\n",
    "\n",
    "    return True\n",
    "\n",
    "# Testing the solution\n",
    "assert isValidBST(BinaryTreeNode.from_array([5,4,6,None,None,3,7])) == False\n",
    "assert isValidBST(BinaryTreeNode.from_array([2,2,2])) == False"
   ]
  },
  {
   "cell_type": "code",
   "execution_count": 11,
   "id": "142f7fb4",
   "metadata": {
    "execution": {
     "iopub.execute_input": "2024-04-17T16:25:33.307535Z",
     "iopub.status.busy": "2024-04-17T16:25:33.306899Z",
     "iopub.status.idle": "2024-04-17T16:25:33.313307Z",
     "shell.execute_reply": "2024-04-17T16:25:33.312462Z"
    },
    "papermill": {
     "duration": 0.014021,
     "end_time": "2024-04-17T16:25:33.315050",
     "exception": false,
     "start_time": "2024-04-17T16:25:33.301029",
     "status": "completed"
    },
    "tags": []
   },
   "outputs": [],
   "source": [
    "# https://leetcode.com/problems/validate-binary-search-tree/submissions/1234448368\n",
    "def isValidBST_striver(root: BinaryTreeNode, min_: float= -math.inf, max_: float = math.inf) -> bool:\n",
    "    # Time: O(N), Space: O(1)\n",
    "    if not root:\n",
    "        return True\n",
    "    else:\n",
    "        return min_ < root.val < max_ and isValidBST_striver(root.left, min_, root.val) and isValidBST_striver(root.right, root.val, max_)\n",
    "\n",
    "# Testing the solution\n",
    "assert isValidBST_striver(BinaryTreeNode.from_array([5,4,6,None,None,3,7])) == False\n",
    "assert isValidBST_striver(BinaryTreeNode.from_array([2,2,2])) == False"
   ]
  }
 ],
 "metadata": {
  "kernelspec": {
   "display_name": "Python 3 (ipykernel)",
   "language": "python",
   "name": "python3"
  },
  "language_info": {
   "codemirror_mode": {
    "name": "ipython",
    "version": 3
   },
   "file_extension": ".py",
   "mimetype": "text/x-python",
   "name": "python",
   "nbconvert_exporter": "python",
   "pygments_lexer": "ipython3",
   "version": "3.10.14"
  },
  "papermill": {
   "default_parameters": {},
   "duration": 1.517167,
   "end_time": "2024-04-17T16:25:33.437242",
   "environment_variables": {},
   "exception": null,
   "input_path": "study/striver-A2Z/11-binary-search-trees.ipynb",
   "output_path": "study/striver-A2Z/11-binary-search-trees.ipynb",
   "parameters": {},
   "start_time": "2024-04-17T16:25:31.920075",
   "version": "2.5.0"
  }
 },
 "nbformat": 4,
 "nbformat_minor": 5
}