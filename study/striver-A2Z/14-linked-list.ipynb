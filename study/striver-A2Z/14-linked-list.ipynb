{
 "cells": [
  {
   "cell_type": "markdown",
   "id": "05899396",
   "metadata": {
    "papermill": {
     "duration": 0.00977,
     "end_time": "2024-05-29T16:38:23.109434",
     "exception": false,
     "start_time": "2024-05-29T16:38:23.099664",
     "status": "completed"
    },
    "tags": []
   },
   "source": [
    "#### Linked Lists\n",
    "- For deleting nodes, it works best to have a prev, curr value and that way at any point if needed we can retreive it. It is also helpful to retreive the tail node instead of resorting to stopping 1 value short of null.\n",
    "- Tortoise and hare algorithm has very important applications in detecting cycles, start of loop etc"
   ]
  },
  {
   "cell_type": "markdown",
   "id": "7bb754d1",
   "metadata": {
    "papermill": {
     "duration": 0.007935,
     "end_time": "2024-05-29T16:38:23.125383",
     "exception": false,
     "start_time": "2024-05-29T16:38:23.117448",
     "status": "completed"
    },
    "tags": []
   },
   "source": [
    "### Useful imports"
   ]
  },
  {
   "cell_type": "code",
   "execution_count": 1,
   "id": "9ca3a0e7",
   "metadata": {
    "execution": {
     "iopub.execute_input": "2024-05-29T16:38:23.142037Z",
     "iopub.status.busy": "2024-05-29T16:38:23.141822Z",
     "iopub.status.idle": "2024-05-29T16:38:23.497843Z",
     "shell.execute_reply": "2024-05-29T16:38:23.497290Z"
    },
    "lines_to_next_cell": 1,
    "papermill": {
     "duration": 0.365925,
     "end_time": "2024-05-29T16:38:23.499215",
     "exception": false,
     "start_time": "2024-05-29T16:38:23.133290",
     "status": "completed"
    },
    "tags": []
   },
   "outputs": [],
   "source": [
    "from typing import List, Optional, Generator\n",
    "import pandas as pd\n",
    "import numpy as np\n",
    "import sqlite3\n",
    "import re\n",
    "import io\n",
    "import math\n",
    "import collections\n",
    "import itertools\n",
    "import functools\n",
    "import random\n",
    "import string\n",
    "import tqdm\n",
    "import bisect\n",
    "import heapq"
   ]
  },
  {
   "cell_type": "markdown",
   "id": "4d54d767",
   "metadata": {
    "papermill": {
     "duration": 0.007964,
     "end_time": "2024-05-29T16:38:23.515500",
     "exception": false,
     "start_time": "2024-05-29T16:38:23.507536",
     "status": "completed"
    },
    "tags": []
   },
   "source": [
    "#### Helper for Singly Linked lists"
   ]
  },
  {
   "cell_type": "code",
   "execution_count": 2,
   "id": "db8c5b93",
   "metadata": {
    "execution": {
     "iopub.execute_input": "2024-05-29T16:38:23.532445Z",
     "iopub.status.busy": "2024-05-29T16:38:23.531941Z",
     "iopub.status.idle": "2024-05-29T16:38:23.538129Z",
     "shell.execute_reply": "2024-05-29T16:38:23.537665Z"
    },
    "lines_to_next_cell": 1,
    "papermill": {
     "duration": 0.015849,
     "end_time": "2024-05-29T16:38:23.539206",
     "exception": false,
     "start_time": "2024-05-29T16:38:23.523357",
     "status": "completed"
    },
    "tags": []
   },
   "outputs": [],
   "source": [
    "class ListNode:\n",
    "    def __init__(self, val=0, next_=None):\n",
    "        self.val = val\n",
    "        self.next = next_\n",
    "\n",
    "    def __str__(self):\n",
    "        return str(self.val)\n",
    "\n",
    "    def len(self) -> int:\n",
    "        \"\"\"\n",
    "        If we used __len__, it would be run every time we do a bool check.\n",
    "        Problematic when we have LL with cycles.\n",
    "        \"\"\"\n",
    "        N, curr = 0, self\n",
    "        while curr is not None:\n",
    "            N, curr = N + 1, curr.next\n",
    "        return N\n",
    "\n",
    "    def tail(self) -> 'ListNode':\n",
    "        prev, curr = None, self\n",
    "        while curr is not None:\n",
    "            prev, curr = curr, curr.next\n",
    "        return prev or curr\n",
    "\n",
    "    @staticmethod\n",
    "    def to_singly_linked_list(nums: list[int]):\n",
    "        root = prev = None\n",
    "        for n in nums:\n",
    "            curr = ListNode(n)\n",
    "            # Init once\n",
    "            if not root:\n",
    "                root = curr\n",
    "            if prev:\n",
    "                prev.next = curr\n",
    "            prev = curr\n",
    "\n",
    "        return root\n",
    "\n",
    "    def to_list(self) -> list[int]:\n",
    "        result = []\n",
    "        curr = self\n",
    "        while curr:\n",
    "            result.append(curr.val)\n",
    "            curr = curr.next\n",
    "        return result"
   ]
  },
  {
   "cell_type": "markdown",
   "id": "8f195f7d",
   "metadata": {
    "papermill": {
     "duration": 0.007963,
     "end_time": "2024-05-29T16:38:23.555164",
     "exception": false,
     "start_time": "2024-05-29T16:38:23.547201",
     "status": "completed"
    },
    "tags": []
   },
   "source": [
    "#### Helper for Doubly Linked lists"
   ]
  },
  {
   "cell_type": "code",
   "execution_count": 3,
   "id": "7d9ad38e",
   "metadata": {
    "execution": {
     "iopub.execute_input": "2024-05-29T16:38:23.571917Z",
     "iopub.status.busy": "2024-05-29T16:38:23.571758Z",
     "iopub.status.idle": "2024-05-29T16:38:23.577342Z",
     "shell.execute_reply": "2024-05-29T16:38:23.576820Z"
    },
    "papermill": {
     "duration": 0.015148,
     "end_time": "2024-05-29T16:38:23.578393",
     "exception": false,
     "start_time": "2024-05-29T16:38:23.563245",
     "status": "completed"
    },
    "tags": []
   },
   "outputs": [],
   "source": [
    "class DLLNode:\n",
    "    def __init__(self, val: int = 0, next_=None, prev = None):\n",
    "        self.val = val\n",
    "        self.next = next_\n",
    "        self.prev = next_\n",
    "\n",
    "    def __str__(self):\n",
    "        return str(self.val)\n",
    "\n",
    "    def __len__(self):\n",
    "        N, curr = 0, self\n",
    "        while curr is not None:\n",
    "            N, curr = N + 1, curr.next\n",
    "        return N\n",
    "\n",
    "    @staticmethod\n",
    "    def to_doubly_linked_list(nums: list[int]):\n",
    "        head = prev = None\n",
    "        for n in nums:\n",
    "            curr = DLLNode(n)\n",
    "            if prev:\n",
    "                prev.next = curr\n",
    "                curr.prev = prev\n",
    "            else:\n",
    "                head = curr\n",
    "            prev = curr\n",
    "        return head\n",
    "\n",
    "    def to_list(self) -> list[int]:\n",
    "        resultFwd = []\n",
    "        prev, curr = None, self\n",
    "        while curr:\n",
    "            resultFwd.append(curr.val)\n",
    "            prev, curr = curr, curr.next\n",
    "\n",
    "        resultBwd = []\n",
    "        prev, curr = None, prev # type: ignore\n",
    "        while curr:\n",
    "            resultBwd.append(curr.val)\n",
    "            prev, curr = curr, curr.prev\n",
    "\n",
    "        assert resultFwd == list(reversed(resultBwd)), \"Not a valid DLL\"\n",
    "        return resultFwd"
   ]
  },
  {
   "cell_type": "markdown",
   "id": "3bd55ce0",
   "metadata": {
    "papermill": {
     "duration": 0.007837,
     "end_time": "2024-05-29T16:38:23.594292",
     "exception": false,
     "start_time": "2024-05-29T16:38:23.586455",
     "status": "completed"
    },
    "tags": []
   },
   "source": [
    "Convert an array to Linked list"
   ]
  },
  {
   "cell_type": "code",
   "execution_count": 4,
   "id": "59dfeb8f",
   "metadata": {
    "execution": {
     "iopub.execute_input": "2024-05-29T16:38:23.611113Z",
     "iopub.status.busy": "2024-05-29T16:38:23.610688Z",
     "iopub.status.idle": "2024-05-29T16:38:23.614641Z",
     "shell.execute_reply": "2024-05-29T16:38:23.614094Z"
    },
    "lines_to_next_cell": 1,
    "papermill": {
     "duration": 0.013336,
     "end_time": "2024-05-29T16:38:23.615632",
     "exception": false,
     "start_time": "2024-05-29T16:38:23.602296",
     "status": "completed"
    },
    "tags": []
   },
   "outputs": [],
   "source": [
    "def constructLL(arr: list[int]) -> ListNode|None:\n",
    "    head: \"ListNode\" | None = None\n",
    "    tail = head\n",
    "\n",
    "    for n in arr:\n",
    "        curr = ListNode(n)\n",
    "        if not tail:\n",
    "            head = tail = curr\n",
    "        else:\n",
    "            tail.next = curr\n",
    "            tail = curr\n",
    "\n",
    "    return head"
   ]
  },
  {
   "cell_type": "markdown",
   "id": "0c090b60",
   "metadata": {
    "papermill": {
     "duration": 0.008019,
     "end_time": "2024-05-29T16:38:23.631770",
     "exception": false,
     "start_time": "2024-05-29T16:38:23.623751",
     "status": "completed"
    },
    "tags": []
   },
   "source": [
    "Length of LL"
   ]
  },
  {
   "cell_type": "code",
   "execution_count": 5,
   "id": "d41e087f",
   "metadata": {
    "execution": {
     "iopub.execute_input": "2024-05-29T16:38:23.648630Z",
     "iopub.status.busy": "2024-05-29T16:38:23.648182Z",
     "iopub.status.idle": "2024-05-29T16:38:23.651911Z",
     "shell.execute_reply": "2024-05-29T16:38:23.651355Z"
    },
    "lines_to_next_cell": 1,
    "papermill": {
     "duration": 0.013309,
     "end_time": "2024-05-29T16:38:23.653010",
     "exception": false,
     "start_time": "2024-05-29T16:38:23.639701",
     "status": "completed"
    },
    "tags": []
   },
   "outputs": [],
   "source": [
    "def lengthOfLL(head: ListNode) -> int:\n",
    "    curr = head\n",
    "    count = 0\n",
    "    while curr:\n",
    "        curr = curr.next\n",
    "        count += 1\n",
    "\n",
    "    return count\n",
    "\n",
    "# Testing the solution\n",
    "assert lengthOfLL(ListNode.to_singly_linked_list([1,2,3,4,5])) == 5"
   ]
  },
  {
   "cell_type": "markdown",
   "id": "bd9565da",
   "metadata": {
    "papermill": {
     "duration": 0.00792,
     "end_time": "2024-05-29T16:38:23.668969",
     "exception": false,
     "start_time": "2024-05-29T16:38:23.661049",
     "status": "completed"
    },
    "tags": []
   },
   "source": [
    "Search in a linked list"
   ]
  },
  {
   "cell_type": "code",
   "execution_count": 6,
   "id": "1137b6e9",
   "metadata": {
    "execution": {
     "iopub.execute_input": "2024-05-29T16:38:23.685855Z",
     "iopub.status.busy": "2024-05-29T16:38:23.685534Z",
     "iopub.status.idle": "2024-05-29T16:38:23.688996Z",
     "shell.execute_reply": "2024-05-29T16:38:23.688579Z"
    },
    "lines_to_next_cell": 1,
    "papermill": {
     "duration": 0.013168,
     "end_time": "2024-05-29T16:38:23.690071",
     "exception": false,
     "start_time": "2024-05-29T16:38:23.676903",
     "status": "completed"
    },
    "tags": []
   },
   "outputs": [],
   "source": [
    "def searchInLinkedList(head: ListNode, k: int):\n",
    "    curr = head\n",
    "    while curr:\n",
    "        if curr.val == k:\n",
    "            return 1\n",
    "        else:\n",
    "            curr = curr.next\n",
    "\n",
    "    return 0\n",
    "\n",
    "# Testing the solution\n",
    "assert searchInLinkedList(ListNode.to_singly_linked_list([1,2,3,4]), 4) == 1"
   ]
  },
  {
   "cell_type": "markdown",
   "id": "73478462",
   "metadata": {
    "papermill": {
     "duration": 0.008126,
     "end_time": "2024-05-29T16:38:23.706486",
     "exception": false,
     "start_time": "2024-05-29T16:38:23.698360",
     "status": "completed"
    },
    "tags": []
   },
   "source": [
    "Delete a node from linked list\n",
    "https://www.geeksforgeeks.org/problems/delete-a-node-in-single-linked-list/1"
   ]
  },
  {
   "cell_type": "code",
   "execution_count": 7,
   "id": "5bd512fc",
   "metadata": {
    "execution": {
     "iopub.execute_input": "2024-05-29T16:38:23.723407Z",
     "iopub.status.busy": "2024-05-29T16:38:23.723007Z",
     "iopub.status.idle": "2024-05-29T16:38:23.728074Z",
     "shell.execute_reply": "2024-05-29T16:38:23.727657Z"
    },
    "lines_to_next_cell": 1,
    "papermill": {
     "duration": 0.014604,
     "end_time": "2024-05-29T16:38:23.729122",
     "exception": false,
     "start_time": "2024-05-29T16:38:23.714518",
     "status": "completed"
    },
    "tags": []
   },
   "outputs": [],
   "source": [
    "def delNodePos(head: ListNode, k: int):\n",
    "    if not head or k == 0:\n",
    "        return head\n",
    "    elif k == 1:\n",
    "        return head.next\n",
    "    else:\n",
    "        count: int = 0\n",
    "        prev: ListNode|None = None\n",
    "        curr: ListNode|None = head\n",
    "\n",
    "        while curr:\n",
    "            count += 1\n",
    "            if count == k and prev:\n",
    "                prev.next = prev.next.next\n",
    "                break\n",
    "            else:\n",
    "                prev, curr = curr, curr.next\n",
    "\n",
    "        return head\n",
    "\n",
    "# Testing the solution\n",
    "assert delNodePos(ListNode.to_singly_linked_list([1,2]), 2).to_list() == [1]\n",
    "assert delNodePos(ListNode.to_singly_linked_list([1,2]), 1).to_list() == [2]\n",
    "assert delNodePos(ListNode.to_singly_linked_list([1]), 1) is None\n",
    "assert delNodePos(ListNode.to_singly_linked_list([1]), 10).to_list() == [1]\n",
    "assert delNodePos(ListNode.to_singly_linked_list([1,2,3]), 10).to_list() == [1,2,3]"
   ]
  },
  {
   "cell_type": "markdown",
   "id": "6ea5a2c5",
   "metadata": {
    "papermill": {
     "duration": 0.008063,
     "end_time": "2024-05-29T16:38:23.745422",
     "exception": false,
     "start_time": "2024-05-29T16:38:23.737359",
     "status": "completed"
    },
    "tags": []
   },
   "source": [
    "Delete node by value"
   ]
  },
  {
   "cell_type": "code",
   "execution_count": 8,
   "id": "420f38cf",
   "metadata": {
    "execution": {
     "iopub.execute_input": "2024-05-29T16:38:23.762460Z",
     "iopub.status.busy": "2024-05-29T16:38:23.762061Z",
     "iopub.status.idle": "2024-05-29T16:38:23.767259Z",
     "shell.execute_reply": "2024-05-29T16:38:23.766735Z"
    },
    "lines_to_next_cell": 1,
    "papermill": {
     "duration": 0.014888,
     "end_time": "2024-05-29T16:38:23.768315",
     "exception": false,
     "start_time": "2024-05-29T16:38:23.753427",
     "status": "completed"
    },
    "tags": []
   },
   "outputs": [],
   "source": [
    "def delNodeVal(head: ListNode, val: int):\n",
    "    if not head:\n",
    "        return head\n",
    "    elif head.val == val:\n",
    "        return head.next\n",
    "    else:\n",
    "        prev: ListNode|None = None\n",
    "        curr: ListNode|None = head\n",
    "        while curr:\n",
    "            if curr.val == val and prev:\n",
    "                prev.next = prev.next.next\n",
    "                break\n",
    "            else:\n",
    "                prev, curr = curr, curr.next\n",
    "\n",
    "        return head\n",
    "\n",
    "# Testing the solution\n",
    "assert delNodeVal(ListNode.to_singly_linked_list([1,2]), 2).to_list() == [1]\n",
    "assert delNodeVal(ListNode.to_singly_linked_list([1,2]), 1).to_list() == [2]\n",
    "assert delNodeVal(ListNode.to_singly_linked_list([1]), 1) is None\n",
    "assert delNodeVal(ListNode.to_singly_linked_list([1]), 10).to_list() == [1]\n",
    "assert delNodeVal(ListNode.to_singly_linked_list([1,2,3]), 3).to_list() == [1,2]"
   ]
  },
  {
   "cell_type": "markdown",
   "id": "53646359",
   "metadata": {
    "papermill": {
     "duration": 0.007937,
     "end_time": "2024-05-29T16:38:23.784269",
     "exception": false,
     "start_time": "2024-05-29T16:38:23.776332",
     "status": "completed"
    },
    "tags": []
   },
   "source": [
    "Inserting into a linked list"
   ]
  },
  {
   "cell_type": "code",
   "execution_count": 9,
   "id": "9de3ec91",
   "metadata": {
    "execution": {
     "iopub.execute_input": "2024-05-29T16:38:23.801133Z",
     "iopub.status.busy": "2024-05-29T16:38:23.800707Z",
     "iopub.status.idle": "2024-05-29T16:38:23.805363Z",
     "shell.execute_reply": "2024-05-29T16:38:23.804805Z"
    },
    "lines_to_next_cell": 1,
    "papermill": {
     "duration": 0.014241,
     "end_time": "2024-05-29T16:38:23.806478",
     "exception": false,
     "start_time": "2024-05-29T16:38:23.792237",
     "status": "completed"
    },
    "tags": []
   },
   "outputs": [],
   "source": [
    "def insertNode(head: ListNode, N: int, pos: int, val: int) -> ListNode:\n",
    "    node = ListNode(val)\n",
    "    if pos == 0:\n",
    "        node.next = head\n",
    "        return node\n",
    "    else:\n",
    "        prev: ListNode|None = None\n",
    "        curr: ListNode|None = head\n",
    "\n",
    "        count = 0\n",
    "        while count < pos:\n",
    "            count += 1\n",
    "            if curr:\n",
    "                prev, curr = curr, curr.next\n",
    "\n",
    "        if prev:\n",
    "            prev.next = node\n",
    "            node.next = curr\n",
    "\n",
    "        return head\n",
    "\n",
    "# Testing the solution\n",
    "assert insertNode(ListNode.to_singly_linked_list([1,2,3,4]), 4, 0, 0).to_list() == [0,1,2,3,4]\n",
    "assert insertNode(ListNode.to_singly_linked_list([]), 0, 0, 0).to_list() == [0]"
   ]
  },
  {
   "cell_type": "markdown",
   "id": "80af1929",
   "metadata": {
    "papermill": {
     "duration": 0.007939,
     "end_time": "2024-05-29T16:38:23.822469",
     "exception": false,
     "start_time": "2024-05-29T16:38:23.814530",
     "status": "completed"
    },
    "tags": []
   },
   "source": [
    "### Doubly Linked List\n",
    "Construct doubly linked list from array"
   ]
  },
  {
   "cell_type": "code",
   "execution_count": 10,
   "id": "1d2d3de2",
   "metadata": {
    "execution": {
     "iopub.execute_input": "2024-05-29T16:38:23.839491Z",
     "iopub.status.busy": "2024-05-29T16:38:23.839082Z",
     "iopub.status.idle": "2024-05-29T16:38:23.843083Z",
     "shell.execute_reply": "2024-05-29T16:38:23.842634Z"
    },
    "lines_to_next_cell": 1,
    "papermill": {
     "duration": 0.013537,
     "end_time": "2024-05-29T16:38:23.844125",
     "exception": false,
     "start_time": "2024-05-29T16:38:23.830588",
     "status": "completed"
    },
    "tags": []
   },
   "outputs": [],
   "source": [
    "def constructDLL(arr: list[int]) -> DLLNode:\n",
    "    head: DLLNode|None =  None\n",
    "    prev: DLLNode|None =  None\n",
    "\n",
    "    for n in arr:\n",
    "        curr = DLLNode(n)\n",
    "        if prev:\n",
    "            prev.next = curr\n",
    "            curr.prev = prev\n",
    "        else:\n",
    "            head = curr\n",
    "        prev = curr\n",
    "\n",
    "    return head # type: ignore\n",
    "\n",
    "# Testing the solution\n",
    "assert constructDLL([1,2,3,4,5]).to_list() == [1,2,3,4,5]"
   ]
  },
  {
   "cell_type": "markdown",
   "id": "57e40a96",
   "metadata": {
    "papermill": {
     "duration": 0.007948,
     "end_time": "2024-05-29T16:38:23.860206",
     "exception": false,
     "start_time": "2024-05-29T16:38:23.852258",
     "status": "completed"
    },
    "tags": []
   },
   "source": [
    "Inserting into a Doubly linked list"
   ]
  },
  {
   "cell_type": "code",
   "execution_count": 11,
   "id": "eeae0793",
   "metadata": {
    "execution": {
     "iopub.execute_input": "2024-05-29T16:38:23.877001Z",
     "iopub.status.busy": "2024-05-29T16:38:23.876649Z",
     "iopub.status.idle": "2024-05-29T16:38:23.880633Z",
     "shell.execute_reply": "2024-05-29T16:38:23.880193Z"
    },
    "lines_to_next_cell": 1,
    "papermill": {
     "duration": 0.013555,
     "end_time": "2024-05-29T16:38:23.881709",
     "exception": false,
     "start_time": "2024-05-29T16:38:23.868154",
     "status": "completed"
    },
    "tags": []
   },
   "outputs": [],
   "source": [
    "def addDLLNode(head: DLLNode, p: int, data: int) -> DLLNode:\n",
    "    node: DLLNode = DLLNode(data)\n",
    "    prev: DLLNode = head\n",
    "\n",
    "    while p > 0:\n",
    "        p -= 1\n",
    "        prev = prev.next\n",
    "\n",
    "    next_ = prev.next\n",
    "    node.next = next_\n",
    "    prev.next = node\n",
    "    node.prev = prev\n",
    "\n",
    "    if next_:\n",
    "        next_.prev = node\n",
    "\n",
    "    return head\n",
    "\n",
    "# Testing the solution\n",
    "assert addDLLNode(DLLNode.to_doubly_linked_list([2,4,5]), 2, 6).to_list() == [2,4,5,6]"
   ]
  },
  {
   "cell_type": "markdown",
   "id": "4cebaf84",
   "metadata": {
    "papermill": {
     "duration": 0.007943,
     "end_time": "2024-05-29T16:38:23.897614",
     "exception": false,
     "start_time": "2024-05-29T16:38:23.889671",
     "status": "completed"
    },
    "tags": []
   },
   "source": [
    "Deleting from a doubly linked list\n",
    "```\n",
    "Easier way still would be to write all edge cases specifically\n",
    "If curr is null (and prev, next are null), we have no nodes to delete\n",
    "If prev and next is null, we have only 1 node to delete\n",
    "If prev is null, we are to delete the head node\n",
    "If next is null, we are to delete the tail node\n",
    "```"
   ]
  },
  {
   "cell_type": "code",
   "execution_count": 12,
   "id": "5e1cf229",
   "metadata": {
    "execution": {
     "iopub.execute_input": "2024-05-29T16:38:23.914488Z",
     "iopub.status.busy": "2024-05-29T16:38:23.914003Z",
     "iopub.status.idle": "2024-05-29T16:38:23.918657Z",
     "shell.execute_reply": "2024-05-29T16:38:23.918105Z"
    },
    "lines_to_next_cell": 1,
    "papermill": {
     "duration": 0.01418,
     "end_time": "2024-05-29T16:38:23.919704",
     "exception": false,
     "start_time": "2024-05-29T16:38:23.905524",
     "status": "completed"
    },
    "tags": []
   },
   "outputs": [],
   "source": [
    "def deleteDLLNode(head: DLLNode, p: int):\n",
    "    curr: DLLNode = head\n",
    "\n",
    "    count = p\n",
    "    while count > 0:\n",
    "        count -= 1\n",
    "        curr = curr.next\n",
    "\n",
    "    prev = curr.prev\n",
    "    next_ = curr.next\n",
    "\n",
    "    if prev:\n",
    "        prev.next = next_\n",
    "    if next_:\n",
    "        next_.prev = prev\n",
    "\n",
    "    return head if p > 0 else head.next\n",
    "\n",
    "# Testing the solution\n",
    "assert deleteDLLNode(DLLNode.to_doubly_linked_list([1,2]), 1).to_list() == [1]\n",
    "assert deleteDLLNode(DLLNode.to_doubly_linked_list([1,2]), 0).to_list() == [2]\n",
    "assert deleteDLLNode(DLLNode.to_doubly_linked_list([1]), 0) is None"
   ]
  },
  {
   "cell_type": "markdown",
   "id": "dfa8d518",
   "metadata": {
    "papermill": {
     "duration": 0.007864,
     "end_time": "2024-05-29T16:38:23.935559",
     "exception": false,
     "start_time": "2024-05-29T16:38:23.927695",
     "status": "completed"
    },
    "tags": []
   },
   "source": [
    "Reverse a DLL\n",
    "Video Link: https://youtu.be/u3WUW2qe6ww?si=80DlW_QGoHKnBDjY"
   ]
  },
  {
   "cell_type": "code",
   "execution_count": 13,
   "id": "aac2ae31",
   "metadata": {
    "execution": {
     "iopub.execute_input": "2024-05-29T16:38:23.952412Z",
     "iopub.status.busy": "2024-05-29T16:38:23.952094Z",
     "iopub.status.idle": "2024-05-29T16:38:23.956401Z",
     "shell.execute_reply": "2024-05-29T16:38:23.955857Z"
    },
    "lines_to_next_cell": 1,
    "papermill": {
     "duration": 0.013958,
     "end_time": "2024-05-29T16:38:23.957456",
     "exception": false,
     "start_time": "2024-05-29T16:38:23.943498",
     "status": "completed"
    },
    "tags": []
   },
   "outputs": [],
   "source": [
    "def reverseDLL(head: DLLNode) -> DLLNode:\n",
    "    prev: DLLNode = None # type: ignore\n",
    "    curr: DLLNode = head\n",
    "\n",
    "    while curr:\n",
    "        curr.next, curr.prev = prev, curr.next\n",
    "        prev, curr = curr, curr.prev\n",
    "\n",
    "    return prev\n",
    "\n",
    "# Testing the solution\n",
    "assert reverseDLL(DLLNode.to_doubly_linked_list([1,2])).to_list() == [2,1]\n",
    "assert reverseDLL(DLLNode.to_doubly_linked_list([2])).to_list() == [2]\n",
    "assert reverseDLL(DLLNode.to_doubly_linked_list([1,2,3,4])).to_list() == [4,3,2,1]\n",
    "assert reverseDLL(DLLNode.to_doubly_linked_list([])) is None"
   ]
  },
  {
   "cell_type": "markdown",
   "id": "5c7d5007",
   "metadata": {
    "papermill": {
     "duration": 0.00796,
     "end_time": "2024-05-29T16:38:23.973480",
     "exception": false,
     "start_time": "2024-05-29T16:38:23.965520",
     "status": "completed"
    },
    "tags": []
   },
   "source": [
    "Add two numbers\n",
    "Video Link: https://youtu.be/XmRrGzR6udg?si=0Wc8Sp_7v8a_2kPp"
   ]
  },
  {
   "cell_type": "code",
   "execution_count": 14,
   "id": "2a271620",
   "metadata": {
    "execution": {
     "iopub.execute_input": "2024-05-29T16:38:23.990353Z",
     "iopub.status.busy": "2024-05-29T16:38:23.989988Z",
     "iopub.status.idle": "2024-05-29T16:38:23.995146Z",
     "shell.execute_reply": "2024-05-29T16:38:23.994595Z"
    },
    "lines_to_next_cell": 1,
    "papermill": {
     "duration": 0.014776,
     "end_time": "2024-05-29T16:38:23.996202",
     "exception": false,
     "start_time": "2024-05-29T16:38:23.981426",
     "status": "completed"
    },
    "tags": []
   },
   "outputs": [],
   "source": [
    "def addTwoNumbers(head1: ListNode, head2: ListNode) -> ListNode:\n",
    "    n1, n2 = head1, head2\n",
    "    sum_head: ListNode|None = None\n",
    "    sum_node: ListNode|None = None\n",
    "    carry_forward = 0\n",
    "\n",
    "    # Carry_forward is kept here so that in cases where both are exhausted \n",
    "    # and we still have 1 (say 5 + 5, both are exhausted but carry exists)\n",
    "    while n1 or n2 or carry_forward:\n",
    "        sum_ = carry_forward\n",
    "\n",
    "        if n1:\n",
    "            sum_ += n1.val\n",
    "            n1 = n1.next\n",
    "        if n2:\n",
    "            sum_ += n2.val\n",
    "            n2 = n2.next\n",
    "\n",
    "        sum_, carry_forward = sum_ % 10, sum_ // 10\n",
    "        curr = ListNode(sum_)\n",
    "        if not sum_node:\n",
    "            sum_head = sum_node = curr\n",
    "        else:\n",
    "            sum_node.next = curr\n",
    "            sum_node = curr\n",
    "\n",
    "    return sum_head # type: ignore\n",
    "\n",
    "# Testing the solution\n",
    "assert addTwoNumbers(ListNode.to_singly_linked_list([2,4,6]), ListNode.to_singly_linked_list([3,8,7])).to_list() == [5,2,4,1]\n",
    "assert addTwoNumbers(ListNode.to_singly_linked_list([3,5]), ListNode.to_singly_linked_list([4,5,9,9])).to_list() == [7,0,0,0,1]"
   ]
  },
  {
   "cell_type": "markdown",
   "id": "0d492d94",
   "metadata": {
    "papermill": {
     "duration": 0.00789,
     "end_time": "2024-05-29T16:38:24.012119",
     "exception": false,
     "start_time": "2024-05-29T16:38:24.004229",
     "status": "completed"
    },
    "tags": []
   },
   "source": [
    "Odd Even Linked List: https://leetcode.com/problems/odd-even-linked-list/description/\n",
    "Video Link: https://youtu.be/qf6qp7GzD5Q?si=f0kxJQ7bJ8JSSZGe"
   ]
  },
  {
   "cell_type": "code",
   "execution_count": 15,
   "id": "ed28b236",
   "metadata": {
    "execution": {
     "iopub.execute_input": "2024-05-29T16:38:24.029029Z",
     "iopub.status.busy": "2024-05-29T16:38:24.028704Z",
     "iopub.status.idle": "2024-05-29T16:38:24.033487Z",
     "shell.execute_reply": "2024-05-29T16:38:24.032912Z"
    },
    "lines_to_next_cell": 1,
    "papermill": {
     "duration": 0.01435,
     "end_time": "2024-05-29T16:38:24.034473",
     "exception": false,
     "start_time": "2024-05-29T16:38:24.020123",
     "status": "completed"
    },
    "tags": []
   },
   "outputs": [],
   "source": [
    "# https://leetcode.com/problems/odd-even-linked-list/submissions/1268536963/\n",
    "def oddEvenList(head: ListNode) -> ListNode:\n",
    "    \"\"\"\n",
    "    The trick here lies in the fact that we should alter the links instead of\n",
    "    trying to alter the values, since we need a O(1) Space, O(N) time complexity.\n",
    "    \"\"\"\n",
    "\n",
    "    # Handling edge case\n",
    "    if not head:\n",
    "        return head\n",
    "\n",
    "    # Split work into creating the even and odd LLs\n",
    "    oddHead = odd = head\n",
    "    evenHead = even = head.next\n",
    "\n",
    "    # It is possible that we iterate until we reach either odd or even\n",
    "    # Checking for even makes code simpler, odd makes it more messy\n",
    "    while even and even.next:\n",
    "        odd.next = odd.next.next\n",
    "        even.next = even.next.next\n",
    "        even, odd = even.next, odd.next\n",
    "\n",
    "    # Once odd and even LL are constructed, odd next should point to evenHead\n",
    "    odd.next = evenHead # type: ignore\n",
    "    return oddHead\n",
    "\n",
    "# Testing the solution\n",
    "assert oddEvenList(ListNode.to_singly_linked_list([1,2,3,4,5])).to_list() == [1,3,5,2,4]\n",
    "assert oddEvenList(ListNode.to_singly_linked_list([1,2,3,4])).to_list() == [1,3,2,4]\n",
    "assert oddEvenList(ListNode.to_singly_linked_list([1,2])).to_list() == [1,2]\n",
    "assert oddEvenList(ListNode.to_singly_linked_list([1])).to_list() == [1]"
   ]
  },
  {
   "cell_type": "markdown",
   "id": "da1e9ff5",
   "metadata": {
    "papermill": {
     "duration": 0.008031,
     "end_time": "2024-05-29T16:38:24.065230",
     "exception": false,
     "start_time": "2024-05-29T16:38:24.057199",
     "status": "completed"
    },
    "tags": []
   },
   "source": [
    "Sorted linked list of 0s, 1s, 2s"
   ]
  },
  {
   "cell_type": "code",
   "execution_count": 16,
   "id": "283f2b99",
   "metadata": {
    "execution": {
     "iopub.execute_input": "2024-05-29T16:38:24.082555Z",
     "iopub.status.busy": "2024-05-29T16:38:24.082153Z",
     "iopub.status.idle": "2024-05-29T16:38:24.087261Z",
     "shell.execute_reply": "2024-05-29T16:38:24.086750Z"
    },
    "lines_to_next_cell": 1,
    "papermill": {
     "duration": 0.015028,
     "end_time": "2024-05-29T16:38:24.088324",
     "exception": false,
     "start_time": "2024-05-29T16:38:24.073296",
     "status": "completed"
    },
    "tags": []
   },
   "outputs": [],
   "source": [
    "def sortList012Idea1(head: ListNode) -> ListNode:\n",
    "    count0 = count1 = count2 = 0\n",
    "\n",
    "    # Iterate and compute the counts\n",
    "    curr = head\n",
    "    while curr:\n",
    "        if curr.val == 0:\n",
    "            count0 += 1\n",
    "        elif curr.val == 1:\n",
    "            count1 += 1\n",
    "        else:\n",
    "            count2 += 1\n",
    "        curr = curr.next\n",
    "\n",
    "    # Replace the values\n",
    "    curr = head\n",
    "    while curr:\n",
    "        if count0 > 0:\n",
    "            curr.val, count0 = 0, count0 - 1\n",
    "        elif count1 > 0:\n",
    "            curr.val, count1 = 1, count1 - 1\n",
    "        else:\n",
    "            curr.val, count2 = 2, count2 - 1\n",
    "        curr = curr.next\n",
    "\n",
    "    return head\n",
    "\n",
    "# Testing the solution\n",
    "assert sortList012Idea1(ListNode.to_singly_linked_list([1,0,2,1,0,1,0,2])).to_list() == [0,0,0,1,1,1,2,2]\n",
    "assert sortList012Idea1(ListNode.to_singly_linked_list([2,1])).to_list() == [1,2]"
   ]
  },
  {
   "cell_type": "code",
   "execution_count": 17,
   "id": "04a13e4d",
   "metadata": {
    "execution": {
     "iopub.execute_input": "2024-05-29T16:38:24.105528Z",
     "iopub.status.busy": "2024-05-29T16:38:24.105011Z",
     "iopub.status.idle": "2024-05-29T16:38:24.109832Z",
     "shell.execute_reply": "2024-05-29T16:38:24.109302Z"
    },
    "lines_to_next_cell": 1,
    "papermill": {
     "duration": 0.014478,
     "end_time": "2024-05-29T16:38:24.110852",
     "exception": false,
     "start_time": "2024-05-29T16:38:24.096374",
     "status": "completed"
    },
    "tags": []
   },
   "outputs": [],
   "source": [
    "def sortList012Idea2(head: ListNode) -> ListNode:\n",
    "\n",
    "    # Maintain position until which the LL is sorted\n",
    "    sorted_end: ListNode = head\n",
    "\n",
    "    # Sort 0s\n",
    "    curr = sorted_end\n",
    "    while curr:\n",
    "        if curr.val == 0:\n",
    "            sorted_end.val, curr.val = curr.val, sorted_end.val\n",
    "            sorted_end = sorted_end.next\n",
    "        curr = curr.next\n",
    "\n",
    "    # Sort 1s\n",
    "    curr = sorted_end\n",
    "    while curr:\n",
    "        if curr.val == 1:\n",
    "            sorted_end.val, curr.val = curr.val, sorted_end.val\n",
    "            sorted_end = sorted_end.next\n",
    "        curr = curr.next\n",
    "\n",
    "    return head\n",
    "\n",
    "# Testing the solution\n",
    "assert sortList012Idea2(ListNode.to_singly_linked_list([1,0,2,1,0,1,0,2])).to_list() == [0,0,0,1,1,1,2,2]\n",
    "assert sortList012Idea2(ListNode.to_singly_linked_list([2,1])).to_list() == [1,2]"
   ]
  },
  {
   "cell_type": "code",
   "execution_count": 18,
   "id": "5b07c320",
   "metadata": {
    "execution": {
     "iopub.execute_input": "2024-05-29T16:38:24.127965Z",
     "iopub.status.busy": "2024-05-29T16:38:24.127647Z",
     "iopub.status.idle": "2024-05-29T16:38:24.133629Z",
     "shell.execute_reply": "2024-05-29T16:38:24.133168Z"
    },
    "lines_to_next_cell": 1,
    "papermill": {
     "duration": 0.015785,
     "end_time": "2024-05-29T16:38:24.134732",
     "exception": false,
     "start_time": "2024-05-29T16:38:24.118947",
     "status": "completed"
    },
    "tags": []
   },
   "outputs": [],
   "source": [
    "# Striver Idea 3: One pass solution, similar to odd even list problem\n",
    "def sortList012Idea3(head: ListNode) -> ListNode:\n",
    "    # Time: O(N), Space: O(1)\n",
    "    head0: ListNode = None # type: ignore\n",
    "    head1: ListNode = None # type: ignore\n",
    "    head2: ListNode = None # type: ignore\n",
    "\n",
    "    curr = head\n",
    "    zero = one = two = None\n",
    "    while curr:\n",
    "        next_ = curr.next\n",
    "        if curr.val == 0:\n",
    "            if not zero:\n",
    "                head0 = zero = curr\n",
    "            else:\n",
    "                zero.next = curr\n",
    "                zero = curr\n",
    "        elif curr.val == 1:\n",
    "            if not one:\n",
    "                head1 = one = curr\n",
    "            else:\n",
    "                one.next = curr\n",
    "                one = curr\n",
    "        else:\n",
    "            if not two:\n",
    "                head2 = two = curr\n",
    "            else:\n",
    "                two.next = curr\n",
    "                two = curr\n",
    "\n",
    "        curr.next, curr = None, next_\n",
    "\n",
    "    if zero:\n",
    "        zero.next = head1\n",
    "    if one:\n",
    "        one.next = head2\n",
    "\n",
    "    return head0 if head0 else head1 if head1 else head2\n",
    "\n",
    "# Testing the solution\n",
    "assert sortList012Idea3(ListNode.to_singly_linked_list([1,0,2,1,0,1,0,2])).to_list() == [0,0,0,1,1,1,2,2]\n",
    "assert sortList012Idea3(ListNode.to_singly_linked_list([2,1])).to_list() == [1,2]\n",
    "assert sortList012Idea3(ListNode.to_singly_linked_list([1,0])).to_list() == [0,1]"
   ]
  },
  {
   "cell_type": "markdown",
   "id": "5f9ff800",
   "metadata": {
    "papermill": {
     "duration": 0.008016,
     "end_time": "2024-05-29T16:38:24.150937",
     "exception": false,
     "start_time": "2024-05-29T16:38:24.142921",
     "status": "completed"
    },
    "tags": []
   },
   "source": [
    "Remove Nth node from the end of the linked list\n",
    "Video Link: https://youtu.be/3kMKYQ2wNIU?si=njmZ0_XKAc1S0dZo\n",
    "Ideas:\n",
    "1. Delete N - kth node\n",
    "2. Reverse the LL, delete kth node and reverse again\n",
    "3. Recursively assign numbers to node, while returning skip node if number == N - k\n",
    "4. Store all nodes into a hashmap. Compute len of LL, delete node and return head\n",
    "5. Striver's Approach"
   ]
  },
  {
   "cell_type": "code",
   "execution_count": 19,
   "id": "75b0f078",
   "metadata": {
    "execution": {
     "iopub.execute_input": "2024-05-29T16:38:24.167922Z",
     "iopub.status.busy": "2024-05-29T16:38:24.167612Z",
     "iopub.status.idle": "2024-05-29T16:38:24.172649Z",
     "shell.execute_reply": "2024-05-29T16:38:24.172123Z"
    },
    "lines_to_next_cell": 1,
    "papermill": {
     "duration": 0.014799,
     "end_time": "2024-05-29T16:38:24.173780",
     "exception": false,
     "start_time": "2024-05-29T16:38:24.158981",
     "status": "completed"
    },
    "tags": []
   },
   "outputs": [],
   "source": [
    "# https://leetcode.com/problems/remove-nth-node-from-end-of-list/submissions\n",
    "def removeNthFromEndIdea1(head: ListNode, k: int) -> ListNode:\n",
    "    # Compute the length\n",
    "    N, curr = 0, head\n",
    "    while curr:\n",
    "        N, curr = N + 1, curr.next\n",
    "\n",
    "    # Delete N - kth node\n",
    "    count, prev, curr = 0, None, head\n",
    "    while count < N - k:\n",
    "        count += 1\n",
    "        prev, curr = curr, curr.next\n",
    "\n",
    "    # Delete 1st Node (idx - 0)\n",
    "    if not prev:\n",
    "        head = curr.next\n",
    "\n",
    "    # Delete any other node\n",
    "    else:\n",
    "        prev.next = curr.next\n",
    "\n",
    "    return head\n",
    "\n",
    "# Testing the solution\n",
    "assert removeNthFromEndIdea1(ListNode.to_singly_linked_list([1,2,3,4,5]), 2).to_list() == [1,2,3,5]\n",
    "assert removeNthFromEndIdea1(ListNode.to_singly_linked_list([1,2,3,4,5]), 5).to_list() == [2,3,4,5]\n",
    "assert removeNthFromEndIdea1(ListNode.to_singly_linked_list([1,2,3,4,5]), 1).to_list() == [1,2,3,4]\n",
    "assert removeNthFromEndIdea1(ListNode.to_singly_linked_list([1]), 1) is None"
   ]
  },
  {
   "cell_type": "code",
   "execution_count": 20,
   "id": "7b9ce41b",
   "metadata": {
    "execution": {
     "iopub.execute_input": "2024-05-29T16:38:24.191251Z",
     "iopub.status.busy": "2024-05-29T16:38:24.190801Z",
     "iopub.status.idle": "2024-05-29T16:38:24.195752Z",
     "shell.execute_reply": "2024-05-29T16:38:24.195311Z"
    },
    "lines_to_next_cell": 1,
    "papermill": {
     "duration": 0.014913,
     "end_time": "2024-05-29T16:38:24.196800",
     "exception": false,
     "start_time": "2024-05-29T16:38:24.181887",
     "status": "completed"
    },
    "tags": []
   },
   "outputs": [],
   "source": [
    "def removeNthFromEndIdea4(head: ListNode, k: int) -> ListNode:\n",
    "    # Store the current, prev for all positions\n",
    "    prevs: dict[int, tuple[ListNode|None, ListNode|None]] = dict()\n",
    "    N, prev, curr = 0, None, head\n",
    "    while curr:\n",
    "        prevs[N] = prev, curr\n",
    "        prev, curr, N = curr, curr.next, N + 1\n",
    "\n",
    "    # Delete kth node from back => N - k from front\n",
    "    prev, curr = prevs[N - k]\n",
    "    if prev:\n",
    "        prev.next = curr.next\n",
    "    else:\n",
    "        head = head.next\n",
    "\n",
    "    return head\n",
    "\n",
    "# Testing the solution\n",
    "assert removeNthFromEndIdea4(ListNode.to_singly_linked_list([1,2,3,4,5]), 2).to_list() == [1,2,3,5]\n",
    "assert removeNthFromEndIdea4(ListNode.to_singly_linked_list([1,2,3,4,5]), 5).to_list() == [2,3,4,5]\n",
    "assert removeNthFromEndIdea4(ListNode.to_singly_linked_list([1,2,3,4,5]), 1).to_list() == [1,2,3,4]\n",
    "assert removeNthFromEndIdea4(ListNode.to_singly_linked_list([1]), 1) is None"
   ]
  },
  {
   "cell_type": "code",
   "execution_count": 21,
   "id": "ca7f81f2",
   "metadata": {
    "execution": {
     "iopub.execute_input": "2024-05-29T16:38:24.213691Z",
     "iopub.status.busy": "2024-05-29T16:38:24.213421Z",
     "iopub.status.idle": "2024-05-29T16:38:24.218431Z",
     "shell.execute_reply": "2024-05-29T16:38:24.217897Z"
    },
    "lines_to_next_cell": 1,
    "papermill": {
     "duration": 0.014557,
     "end_time": "2024-05-29T16:38:24.219443",
     "exception": false,
     "start_time": "2024-05-29T16:38:24.204886",
     "status": "completed"
    },
    "tags": []
   },
   "outputs": [],
   "source": [
    "# https://leetcode.com/problems/remove-nth-node-from-end-of-list/submissions/1269029952\n",
    "def removeNthFromEndIdea5(head: ListNode, k: int) -> ListNode:\n",
    "    \"\"\"\n",
    "    Target is to reach kth node from the end.\n",
    "    [_, _, _, _, _], k = 2\n",
    "              *\n",
    "\n",
    "    Add a second pointer to the end.\n",
    "    [_, _, _, _, _] _\n",
    "              *     #\n",
    "\n",
    "    Shift left until * reaches 0, we see a gap of k - 1.\n",
    "    [_, _, _, _, _] _\n",
    "     *     #\n",
    "\n",
    "    Hence the idea:\n",
    "        1. Iterate a fast pointer k times.\n",
    "        2. Add a second slow pointer.\n",
    "        3. Start iterating both the fast and slow pointers simaltaneously until fast reaches end.\n",
    "        4. Slow pointer would now point at the node to be deleted.\n",
    "    \"\"\"\n",
    "\n",
    "    # Iterate k times\n",
    "    count = 0\n",
    "    fast = head\n",
    "    while count < k:\n",
    "        count += 1\n",
    "        fast = fast.next\n",
    "\n",
    "    # Add a second pointer slow, move fast and slow together until fast hits end\n",
    "    prev, slow = None, head\n",
    "    while fast:\n",
    "        prev, slow, fast = slow, slow.next, fast.next\n",
    "\n",
    "    # Delete 1st Node (idx - 0)\n",
    "    if not prev:\n",
    "        head = head.next\n",
    "    # Delete any other node\n",
    "    else:\n",
    "        prev.next = slow.next\n",
    "\n",
    "    return head\n",
    "\n",
    "# Testing the solution\n",
    "assert removeNthFromEndIdea5(ListNode.to_singly_linked_list([1,2,3,4,5]), 2).to_list() == [1,2,3,5]\n",
    "assert removeNthFromEndIdea5(ListNode.to_singly_linked_list([1,2,3,4,5]), 5).to_list() == [2,3,4,5]\n",
    "assert removeNthFromEndIdea5(ListNode.to_singly_linked_list([1,2,3,4,5]), 1).to_list() == [1,2,3,4]\n",
    "assert removeNthFromEndIdea5(ListNode.to_singly_linked_list([1]), 1) is None"
   ]
  },
  {
   "cell_type": "markdown",
   "id": "b934ca84",
   "metadata": {
    "papermill": {
     "duration": 0.00799,
     "end_time": "2024-05-29T16:38:24.235574",
     "exception": false,
     "start_time": "2024-05-29T16:38:24.227584",
     "status": "completed"
    },
    "tags": []
   },
   "source": [
    "Reverse a linked list\n",
    "Video Link: https://youtu.be/D2vI2DNJGd8?si=9usE4WRYEPSsmoPW"
   ]
  },
  {
   "cell_type": "code",
   "execution_count": 22,
   "id": "8327b0f1",
   "metadata": {
    "execution": {
     "iopub.execute_input": "2024-05-29T16:38:24.252396Z",
     "iopub.status.busy": "2024-05-29T16:38:24.252078Z",
     "iopub.status.idle": "2024-05-29T16:38:24.256316Z",
     "shell.execute_reply": "2024-05-29T16:38:24.255858Z"
    },
    "lines_to_next_cell": 1,
    "papermill": {
     "duration": 0.013787,
     "end_time": "2024-05-29T16:38:24.257366",
     "exception": false,
     "start_time": "2024-05-29T16:38:24.243579",
     "status": "completed"
    },
    "tags": []
   },
   "outputs": [],
   "source": [
    "# https://leetcode.com/problems/reverse-linked-list/submissions/1269437666/\n",
    "def reverseListRecurse(curr: ListNode) -> ListNode:\n",
    "    \"\"\"\n",
    "    Time: O(N), Space: O(N)\n",
    "    \"\"\"\n",
    "    # Store the next_ node for reversing in the future\n",
    "    if not curr or not curr.next:\n",
    "        return curr\n",
    "    else:\n",
    "        root = reverseListRecurse(curr.next)\n",
    "        curr.next.next = curr\n",
    "        curr.next = None\n",
    "        return root\n",
    "\n",
    "# Testing the solution\n",
    "assert reverseListRecurse(ListNode.to_singly_linked_list([1,2,3,4,5])).to_list() == [5,4,3,2,1]\n",
    "assert reverseListRecurse(ListNode.to_singly_linked_list([1])).to_list() == [1]\n",
    "assert reverseListRecurse(ListNode.to_singly_linked_list([1,2])).to_list() == [2,1]\n",
    "assert reverseListRecurse(ListNode.to_singly_linked_list([])) is None"
   ]
  },
  {
   "cell_type": "code",
   "execution_count": 23,
   "id": "edb937c7",
   "metadata": {
    "execution": {
     "iopub.execute_input": "2024-05-29T16:38:24.274432Z",
     "iopub.status.busy": "2024-05-29T16:38:24.274119Z",
     "iopub.status.idle": "2024-05-29T16:38:24.278199Z",
     "shell.execute_reply": "2024-05-29T16:38:24.277748Z"
    },
    "lines_to_next_cell": 1,
    "papermill": {
     "duration": 0.013799,
     "end_time": "2024-05-29T16:38:24.279285",
     "exception": false,
     "start_time": "2024-05-29T16:38:24.265486",
     "status": "completed"
    },
    "tags": []
   },
   "outputs": [],
   "source": [
    "# https://leetcode.com/problems/reverse-linked-list/submissions/1269442108/\n",
    "def reverseListIter(head: ListNode) -> ListNode:\n",
    "    \"\"\"\n",
    "    Time: O(N), Space: O(1)\n",
    "    \"\"\"\n",
    "    prev: ListNode|None = None\n",
    "    curr: ListNode|None = head\n",
    "    while curr:\n",
    "        next_ = curr.next\n",
    "        curr.next = prev\n",
    "        prev, curr = curr, next_\n",
    "\n",
    "    return prev # type: ignore\n",
    "\n",
    "# Testing the solution\n",
    "assert reverseListIter(ListNode.to_singly_linked_list([1,2,3,4,5])).to_list() == [5,4,3,2,1]\n",
    "assert reverseListIter(ListNode.to_singly_linked_list([1])).to_list() == [1]\n",
    "assert reverseListIter(ListNode.to_singly_linked_list([1,2])).to_list() == [2,1]\n",
    "assert reverseListIter(ListNode.to_singly_linked_list([])) is None"
   ]
  },
  {
   "cell_type": "markdown",
   "id": "9fa31e87",
   "metadata": {
    "papermill": {
     "duration": 0.008042,
     "end_time": "2024-05-29T16:38:24.295513",
     "exception": false,
     "start_time": "2024-05-29T16:38:24.287471",
     "status": "completed"
    },
    "tags": []
   },
   "source": [
    "Palindrome Linked List"
   ]
  },
  {
   "cell_type": "code",
   "execution_count": 24,
   "id": "c1bf8469",
   "metadata": {
    "execution": {
     "iopub.execute_input": "2024-05-29T16:38:24.312563Z",
     "iopub.status.busy": "2024-05-29T16:38:24.312078Z",
     "iopub.status.idle": "2024-05-29T16:38:24.318139Z",
     "shell.execute_reply": "2024-05-29T16:38:24.317598Z"
    },
    "lines_to_next_cell": 1,
    "papermill": {
     "duration": 0.0157,
     "end_time": "2024-05-29T16:38:24.319233",
     "exception": false,
     "start_time": "2024-05-29T16:38:24.303533",
     "status": "completed"
    },
    "tags": []
   },
   "outputs": [],
   "source": [
    "# https://leetcode.com/problems/palindrome-linked-list/submissions/1269504641/\n",
    "def isPalindromeIter(head: ListNode) -> bool:\n",
    "    \"\"\"\n",
    "    Use slow and fast pointers to find the middle of LL.\n",
    "    Make sure that we reverse the linkedlist as the slow pointer moves.\n",
    "\n",
    "    Update post watching striver: Before returning the solution return the\n",
    "    reversed portion back to normal (best practice)\n",
    "    \"\"\"\n",
    "    if not head.next:\n",
    "        return True\n",
    "    else:\n",
    "        slow = fast = head\n",
    "        slow_prev: ListNode|None = None\n",
    "        fast_prev: ListNode|None = None\n",
    "        while fast and fast.next:\n",
    "            # Fast pointer moves as usual\n",
    "            fast_prev, fast = fast.next, fast.next.next\n",
    "\n",
    "            # As slow moves along, reverse the LL\n",
    "            slow_next = slow.next\n",
    "            slow.next = slow_prev\n",
    "            slow_prev, slow = slow, slow_next\n",
    "\n",
    "        if fast: # odd length\n",
    "            slow, fast = slow_prev, slow.next # type: ignore\n",
    "        else: # even length\n",
    "            slow, fast = slow_prev, slow # type: ignore\n",
    "\n",
    "        while fast and slow:\n",
    "            if fast.val != slow.val:\n",
    "                return False\n",
    "            else:\n",
    "                fast, slow = fast.next, slow.next\n",
    "\n",
    "        return True\n",
    "\n",
    "# Testing the solution\n",
    "assert isPalindromeIter(ListNode.to_singly_linked_list([1,2,3,2,1])) == True\n",
    "assert isPalindromeIter(ListNode.to_singly_linked_list([1,2,3,4,1])) == False\n",
    "assert isPalindromeIter(ListNode.to_singly_linked_list([1,2,2,1])) == True\n",
    "assert isPalindromeIter(ListNode.to_singly_linked_list([1,2,2,2])) == False\n",
    "assert isPalindromeIter(ListNode.to_singly_linked_list([1,2])) == False\n",
    "assert isPalindromeIter(ListNode.to_singly_linked_list([1,1])) == True"
   ]
  },
  {
   "cell_type": "code",
   "execution_count": 25,
   "id": "a979ac07",
   "metadata": {
    "execution": {
     "iopub.execute_input": "2024-05-29T16:38:24.336388Z",
     "iopub.status.busy": "2024-05-29T16:38:24.335941Z",
     "iopub.status.idle": "2024-05-29T16:38:24.341765Z",
     "shell.execute_reply": "2024-05-29T16:38:24.341289Z"
    },
    "lines_to_next_cell": 1,
    "papermill": {
     "duration": 0.01549,
     "end_time": "2024-05-29T16:38:24.342866",
     "exception": false,
     "start_time": "2024-05-29T16:38:24.327376",
     "status": "completed"
    },
    "tags": []
   },
   "outputs": [],
   "source": [
    "# https://leetcode.com/problems/palindrome-linked-list/submissions/1269543768\n",
    "def isPalindromeRecursive(head: ListNode) -> bool:\n",
    "    curr_ = head\n",
    "    def backtrack(curr: ListNode) -> bool:\n",
    "        if not curr:\n",
    "            return True\n",
    "        else:\n",
    "            nonlocal curr_\n",
    "            result = backtrack(curr.next) and curr.val == curr_.val\n",
    "            curr_ = curr_.next\n",
    "            return result\n",
    "\n",
    "    return backtrack(head)\n",
    "\n",
    "# Testing the solution\n",
    "assert isPalindromeRecursive(ListNode.to_singly_linked_list([1,2,3,2,1])) == True\n",
    "assert isPalindromeRecursive(ListNode.to_singly_linked_list([1,2,3,4,1])) == False\n",
    "assert isPalindromeRecursive(ListNode.to_singly_linked_list([1,2,2,1])) == True\n",
    "assert isPalindromeRecursive(ListNode.to_singly_linked_list([1,2,2,2])) == False\n",
    "assert isPalindromeRecursive(ListNode.to_singly_linked_list([1,2])) == False\n",
    "assert isPalindromeRecursive(ListNode.to_singly_linked_list([1,1])) == True"
   ]
  },
  {
   "cell_type": "markdown",
   "id": "d549ddf5",
   "metadata": {
    "papermill": {
     "duration": 0.007964,
     "end_time": "2024-05-29T16:38:24.358909",
     "exception": false,
     "start_time": "2024-05-29T16:38:24.350945",
     "status": "completed"
    },
    "tags": []
   },
   "source": [
    "Add one: https://youtu.be/aXQWhbvT3w0?si=VxL8WQhPa15JP7Nl"
   ]
  },
  {
   "cell_type": "code",
   "execution_count": 26,
   "id": "ec4aa5bd",
   "metadata": {
    "execution": {
     "iopub.execute_input": "2024-05-29T16:38:24.375714Z",
     "iopub.status.busy": "2024-05-29T16:38:24.375512Z",
     "iopub.status.idle": "2024-05-29T16:38:24.379647Z",
     "shell.execute_reply": "2024-05-29T16:38:24.379214Z"
    },
    "lines_to_next_cell": 1,
    "papermill": {
     "duration": 0.013735,
     "end_time": "2024-05-29T16:38:24.380665",
     "exception": false,
     "start_time": "2024-05-29T16:38:24.366930",
     "status": "completed"
    },
    "tags": []
   },
   "outputs": [],
   "source": [
    "def addOneRecursive(head: ListNode) -> ListNode:\n",
    "    def backtrack(curr: ListNode) -> int:\n",
    "        if not curr:\n",
    "            return 1\n",
    "        else:\n",
    "            value = curr.val + backtrack(curr.next)\n",
    "            curr.val = value % 10\n",
    "            return value // 10\n",
    "\n",
    "    carry = backtrack(head)\n",
    "    return ListNode(carry, head) if carry else head\n",
    "\n",
    "# Testing the solution\n",
    "assert addOneRecursive(ListNode.to_singly_linked_list([9])).to_list() == [1,0]\n",
    "assert addOneRecursive(ListNode.to_singly_linked_list([0])).to_list() == [1]"
   ]
  },
  {
   "cell_type": "code",
   "execution_count": 27,
   "id": "7d6145a8",
   "metadata": {
    "execution": {
     "iopub.execute_input": "2024-05-29T16:38:24.397973Z",
     "iopub.status.busy": "2024-05-29T16:38:24.397495Z",
     "iopub.status.idle": "2024-05-29T16:38:24.402100Z",
     "shell.execute_reply": "2024-05-29T16:38:24.401635Z"
    },
    "lines_to_next_cell": 1,
    "papermill": {
     "duration": 0.014376,
     "end_time": "2024-05-29T16:38:24.403145",
     "exception": false,
     "start_time": "2024-05-29T16:38:24.388769",
     "status": "completed"
    },
    "tags": []
   },
   "outputs": [],
   "source": [
    "def addOneIter(head: ListNode) -> ListNode:\n",
    "    def reverseLL(root: ListNode) -> ListNode:\n",
    "        prev, curr = None, root\n",
    "        while curr:\n",
    "            next_ = curr.next\n",
    "            curr.next = prev\n",
    "            prev, curr = curr, next_\n",
    "\n",
    "        return prev # type: ignore\n",
    "\n",
    "    rev_head = curr = reverseLL(head)\n",
    "\n",
    "    # Add 1 to reversed head and move forward\n",
    "    prev, carry = None, 1\n",
    "    while curr:\n",
    "        value = curr.val + carry\n",
    "        carry, curr.val = value // 10, value % 10\n",
    "        prev, curr = curr, curr.next\n",
    "\n",
    "    if carry and prev:\n",
    "        prev.next = ListNode(carry)\n",
    "\n",
    "    return reverseLL(rev_head)\n",
    "\n",
    "# Testing the solution\n",
    "assert addOneIter(ListNode.to_singly_linked_list([9])).to_list() == [1,0]\n",
    "assert addOneIter(ListNode.to_singly_linked_list([0])).to_list() == [1]"
   ]
  },
  {
   "cell_type": "markdown",
   "id": "f6fa4b2a",
   "metadata": {
    "papermill": {
     "duration": 0.008029,
     "end_time": "2024-05-29T16:38:24.419223",
     "exception": false,
     "start_time": "2024-05-29T16:38:24.411194",
     "status": "completed"
    },
    "tags": []
   },
   "source": [
    "Find intersection point of two linked lists: https://leetcode.com/problems/intersection-of-two-linked-lists/\n",
    "Video Link: https://youtu.be/0DYoPz2Tpt4?si=Xb8Vkn3dRvw57Se8"
   ]
  },
  {
   "cell_type": "markdown",
   "id": "7e7a074f",
   "metadata": {
    "papermill": {
     "duration": 0.007973,
     "end_time": "2024-05-29T16:38:24.435228",
     "exception": false,
     "start_time": "2024-05-29T16:38:24.427255",
     "status": "completed"
    },
    "tags": []
   },
   "source": [
    "Code snippet for generating test cases relevant to this problem"
   ]
  },
  {
   "cell_type": "code",
   "execution_count": 28,
   "id": "df06d967",
   "metadata": {
    "execution": {
     "iopub.execute_input": "2024-05-29T16:38:24.452326Z",
     "iopub.status.busy": "2024-05-29T16:38:24.451983Z",
     "iopub.status.idle": "2024-05-29T16:38:24.456506Z",
     "shell.execute_reply": "2024-05-29T16:38:24.456078Z"
    },
    "papermill": {
     "duration": 0.014298,
     "end_time": "2024-05-29T16:38:24.457601",
     "exception": false,
     "start_time": "2024-05-29T16:38:24.443303",
     "status": "completed"
    },
    "tags": []
   },
   "outputs": [],
   "source": [
    "def generateTestCasesForGetIntersectionNodes() -> tuple[ListNode, ListNode, ListNode]:\n",
    "    \"\"\"\n",
    "    1. Generate a list of ListNodes\n",
    "    2. Split the list into 3 groups (headA, headB, common)\n",
    "    3. Tail of both headA and headB points to common\n",
    "    \"\"\"\n",
    "\n",
    "    N = random.randint(5, 20)\n",
    "    nodes = [random.randint(1, 100) for i in range(N)]\n",
    "    common_length = random.randint(0, N - 2)\n",
    "    lenA = random.randint(1, N - common_length - 1)\n",
    "    lenB = N - common_length - lenA\n",
    "\n",
    "    headA = ListNode.to_singly_linked_list(nodes[:lenA])\n",
    "    headB = ListNode.to_singly_linked_list(nodes[lenA:lenA + lenB])\n",
    "    common = ListNode.to_singly_linked_list(nodes[lenA + lenB:])\n",
    "\n",
    "    if common:\n",
    "        currA = headA\n",
    "        while currA.next:\n",
    "            currA = currA.next\n",
    "\n",
    "        currB = headB\n",
    "        while currB.next:\n",
    "            currB = currB.next\n",
    "\n",
    "        currA.next = currB.next = common\n",
    "\n",
    "    return headA, headB, common"
   ]
  },
  {
   "cell_type": "code",
   "execution_count": 29,
   "id": "dc25919d",
   "metadata": {
    "execution": {
     "iopub.execute_input": "2024-05-29T16:38:24.474742Z",
     "iopub.status.busy": "2024-05-29T16:38:24.474314Z",
     "iopub.status.idle": "2024-05-29T16:38:24.479173Z",
     "shell.execute_reply": "2024-05-29T16:38:24.478656Z"
    },
    "lines_to_next_cell": 1,
    "papermill": {
     "duration": 0.014503,
     "end_time": "2024-05-29T16:38:24.480206",
     "exception": false,
     "start_time": "2024-05-29T16:38:24.465703",
     "status": "completed"
    },
    "tags": []
   },
   "outputs": [],
   "source": [
    "# https://leetcode.com/problems/intersection-of-two-linked-lists/submissions/1270019723\n",
    "def getIntersectionNode(headA: ListNode, headB: ListNode) -> ListNode|None:\n",
    "    \"\"\"\n",
    "    Compute the length of both nodes.\n",
    "    The problem is the different sizes of the LL, so move the longer one until both lengths are equal.\n",
    "    Start iterating and stop at the point where both nodes are the same.\n",
    "    \"\"\"\n",
    "    # Compute lengths of both LL\n",
    "    N1, curr = 0, headA\n",
    "    while curr:\n",
    "        N1, curr = N1 + 1, curr.next\n",
    "\n",
    "    # Compute lengths of both LL\n",
    "    N2, curr = 0, headB\n",
    "    while curr:\n",
    "        N2, curr = N2 + 1, curr.next\n",
    "\n",
    "    # Start iterating until there is a match\n",
    "    currA = headA\n",
    "    currB = headB\n",
    "    while currA != currB:\n",
    "        if N1 == N2:\n",
    "            currA, currB = currA.next, currB.next\n",
    "        elif N1 > N2:\n",
    "            currA = currA.next\n",
    "            N1 -= 1\n",
    "        else:\n",
    "            currB = currB.next\n",
    "            N2 -= 1\n",
    "\n",
    "    return currA\n",
    "\n",
    "# Testing the solution\n",
    "for i in range(20):\n",
    "    tempA, tempB, common = generateTestCasesForGetIntersectionNodes()\n",
    "    assert getIntersectionNode(tempA, tempB) == common"
   ]
  },
  {
   "cell_type": "code",
   "execution_count": 30,
   "id": "ddbe2569",
   "metadata": {
    "execution": {
     "iopub.execute_input": "2024-05-29T16:38:24.497032Z",
     "iopub.status.busy": "2024-05-29T16:38:24.496876Z",
     "iopub.status.idle": "2024-05-29T16:38:24.501238Z",
     "shell.execute_reply": "2024-05-29T16:38:24.500737Z"
    },
    "lines_to_next_cell": 1,
    "papermill": {
     "duration": 0.014165,
     "end_time": "2024-05-29T16:38:24.502394",
     "exception": false,
     "start_time": "2024-05-29T16:38:24.488229",
     "status": "completed"
    },
    "tags": []
   },
   "outputs": [],
   "source": [
    "def getIntersectionNodeStriver(headA: ListNode, headB: ListNode) -> ListNode|None:\n",
    "    \"\"\"\n",
    "    Iterate currA, currB simaltaneously\n",
    "    If currA and currB reaches null together return null\n",
    "    Otherwise move currA to beginning of headB when currA hits null else move currB to beginning of headA when currB hits null\n",
    "\n",
    "    They align with shifting the pointers to the other LLs because:\n",
    "        - Assume diff between the len as d\n",
    "        - Shorter pointer will hit null first and reach the head of longer Linked list, longer pointer would still be d steps behind (at the longer LL).\n",
    "        - By the time longer pointer hits the shorter LL's head, shorter pointer would have travelled d steps in the longer linked list thus aligning together.\n",
    "\n",
    "    Time Complexity: O (M + N) (each pointer travels length of LL1 and LL2, but simaltaneously)\n",
    "    Space Complexity: O(1)\n",
    "    \"\"\"\n",
    "    currA, currB = headA, headB\n",
    "    while currA or currB:\n",
    "        if currA == currB:\n",
    "            return currA\n",
    "        elif not currA:\n",
    "            currA = headB\n",
    "        elif not currB:\n",
    "            currB = headA\n",
    "        else:\n",
    "            currA, currB = currA.next, currB.next\n",
    "    return None\n",
    "\n",
    "# Testing the solution\n",
    "for i in range(20):\n",
    "    tempA, tempB, common = generateTestCasesForGetIntersectionNodes()\n",
    "    assert getIntersectionNodeStriver(tempA, tempB) == common"
   ]
  },
  {
   "cell_type": "markdown",
   "id": "cbf674eb",
   "metadata": {
    "papermill": {
     "duration": 0.008028,
     "end_time": "2024-05-29T16:38:24.518649",
     "exception": false,
     "start_time": "2024-05-29T16:38:24.510621",
     "status": "completed"
    },
    "tags": []
   },
   "source": [
    "Middle of a linked list: https://leetcode.com/problems/middle-of-the-linked-list/\n",
    "Video Link: https://youtu.be/7LjQ57RqgEc?si=5CaPgtXPsfwLGqPJ "
   ]
  },
  {
   "cell_type": "code",
   "execution_count": 31,
   "id": "42d42838",
   "metadata": {
    "execution": {
     "iopub.execute_input": "2024-05-29T16:38:24.535600Z",
     "iopub.status.busy": "2024-05-29T16:38:24.535244Z",
     "iopub.status.idle": "2024-05-29T16:38:24.539113Z",
     "shell.execute_reply": "2024-05-29T16:38:24.538675Z"
    },
    "lines_to_next_cell": 1,
    "papermill": {
     "duration": 0.013467,
     "end_time": "2024-05-29T16:38:24.540152",
     "exception": false,
     "start_time": "2024-05-29T16:38:24.526685",
     "status": "completed"
    },
    "tags": []
   },
   "outputs": [],
   "source": [
    "def middleNode(head: ListNode) -> ListNode:\n",
    "    # Tortoise and hair algorithm\n",
    "    slow = fast = head\n",
    "    while fast and fast.next:\n",
    "        slow, fast = slow.next, fast.next.next\n",
    "\n",
    "    return slow\n",
    "\n",
    "# Testing the solution\n",
    "assert middleNode(ListNode.to_singly_linked_list([1,2,3,4])).val == 3\n",
    "assert middleNode(ListNode.to_singly_linked_list([1,2,3])).val == 2\n",
    "assert middleNode(ListNode.to_singly_linked_list([1])).val == 1"
   ]
  },
  {
   "cell_type": "markdown",
   "id": "07ca0d01",
   "metadata": {
    "papermill": {
     "duration": 0.008041,
     "end_time": "2024-05-29T16:38:24.556322",
     "exception": false,
     "start_time": "2024-05-29T16:38:24.548281",
     "status": "completed"
    },
    "tags": []
   },
   "source": [
    "Detect cycle"
   ]
  },
  {
   "cell_type": "markdown",
   "id": "a5f83af7",
   "metadata": {
    "papermill": {
     "duration": 0.008044,
     "end_time": "2024-05-29T16:38:24.572476",
     "exception": false,
     "start_time": "2024-05-29T16:38:24.564432",
     "status": "completed"
    },
    "tags": []
   },
   "source": [
    "Function to generate test cases for LL with cycles"
   ]
  },
  {
   "cell_type": "code",
   "execution_count": 32,
   "id": "ccde5409",
   "metadata": {
    "execution": {
     "iopub.execute_input": "2024-05-29T16:38:24.589502Z",
     "iopub.status.busy": "2024-05-29T16:38:24.589052Z",
     "iopub.status.idle": "2024-05-29T16:38:24.593312Z",
     "shell.execute_reply": "2024-05-29T16:38:24.592855Z"
    },
    "lines_to_next_cell": 1,
    "papermill": {
     "duration": 0.013962,
     "end_time": "2024-05-29T16:38:24.594400",
     "exception": false,
     "start_time": "2024-05-29T16:38:24.580438",
     "status": "completed"
    },
    "tags": []
   },
   "outputs": [],
   "source": [
    "def generateTestCasesForHasCycle() -> tuple[ListNode, bool, int]:\n",
    "    cycle = random.random() > 0.5\n",
    "    N = random.randint(2, 25)\n",
    "    head = ListNode.to_singly_linked_list([random.randint(1, 50) for i in range(N)])\n",
    "\n",
    "    if cycle:\n",
    "        cycle_end = random.randint(0, N - 1)\n",
    "        cycle_end_node = None\n",
    "        count, prev, curr = 0, None, head\n",
    "        while curr:\n",
    "            if count == cycle_end:\n",
    "                cycle_end_node = curr\n",
    "            prev, curr = curr, curr.next\n",
    "            count += 1\n",
    "        prev.next = cycle_end_node # type: ignore\n",
    "\n",
    "    else:\n",
    "        cycle_end = N\n",
    "\n",
    "    return head, cycle, N - cycle_end"
   ]
  },
  {
   "cell_type": "code",
   "execution_count": 33,
   "id": "6bf15063",
   "metadata": {
    "execution": {
     "iopub.execute_input": "2024-05-29T16:38:24.611651Z",
     "iopub.status.busy": "2024-05-29T16:38:24.611212Z",
     "iopub.status.idle": "2024-05-29T16:38:24.615069Z",
     "shell.execute_reply": "2024-05-29T16:38:24.614634Z"
    },
    "lines_to_next_cell": 1,
    "papermill": {
     "duration": 0.013498,
     "end_time": "2024-05-29T16:38:24.616088",
     "exception": false,
     "start_time": "2024-05-29T16:38:24.602590",
     "status": "completed"
    },
    "tags": []
   },
   "outputs": [],
   "source": [
    "# https://leetcode.com/problems/linked-list-cycle/submissions/1270124229/\n",
    "def hasCycle(head: ListNode) -> bool:\n",
    "    \"\"\"\n",
    "    Once inside cycle fast and slow will always collide, reason being\n",
    "    At each step, slow is moving away from fast at rate of 1 unit distance. Fast is\n",
    "    moving towards slow at a rate of 2 unit distances. Net diff is -1. Distance is slowly\n",
    "    closed in by the fast pointer until they evenutally reach.\n",
    "\n",
    "    This happens only because slow moves by 1 step and fast moves by 2 steps, so as to keep the\n",
    "    net diff as 1.\n",
    "    \"\"\"\n",
    "    slow = fast = head\n",
    "    while slow and fast and fast.next:\n",
    "        slow, fast = slow.next, fast.next.next\n",
    "        if slow == fast:\n",
    "            return True\n",
    "\n",
    "    return False\n",
    "\n",
    "# Testing the solution\n",
    "for i in range(20):\n",
    "    temp, result, _ = generateTestCasesForHasCycle()\n",
    "    assert hasCycle(temp) == result"
   ]
  },
  {
   "cell_type": "markdown",
   "id": "d4704b18",
   "metadata": {
    "papermill": {
     "duration": 0.00801,
     "end_time": "2024-05-29T16:38:24.632290",
     "exception": false,
     "start_time": "2024-05-29T16:38:24.624280",
     "status": "completed"
    },
    "tags": []
   },
   "source": [
    "Find the length of the LL\n",
    "Video Link: https://youtu.be/I4g1qbkTPus?si=GVUwRbb-TQ_Ko7md\n",
    "Brute force: Store node and time. When a node is revisited, return curr_time - past_time for the length"
   ]
  },
  {
   "cell_type": "code",
   "execution_count": 34,
   "id": "c473e001",
   "metadata": {
    "execution": {
     "iopub.execute_input": "2024-05-29T16:38:24.649268Z",
     "iopub.status.busy": "2024-05-29T16:38:24.648838Z",
     "iopub.status.idle": "2024-05-29T16:38:24.653333Z",
     "shell.execute_reply": "2024-05-29T16:38:24.652818Z"
    },
    "lines_to_next_cell": 1,
    "papermill": {
     "duration": 0.014026,
     "end_time": "2024-05-29T16:38:24.654338",
     "exception": false,
     "start_time": "2024-05-29T16:38:24.640312",
     "status": "completed"
    },
    "tags": []
   },
   "outputs": [],
   "source": [
    "def countNodesinLoop(head: ListNode) -> int:\n",
    "    # Find a point of intersection\n",
    "    slow = fast = head\n",
    "    while fast and fast.next:\n",
    "        slow, fast = slow.next, fast.next.next\n",
    "        if slow == fast:\n",
    "            break\n",
    "\n",
    "    # Count number of nodes in loop\n",
    "    if not fast or not fast.next:\n",
    "        return 0\n",
    "    else:\n",
    "        count = 1\n",
    "        curr = fast.next\n",
    "        while curr != fast:\n",
    "            curr, count = curr.next, count + 1\n",
    "        return count\n",
    "\n",
    "# Testing the solution\n",
    "for i in range(20):\n",
    "    temp, result, cycle_length = generateTestCasesForHasCycle()\n",
    "    assert countNodesinLoop(temp) == cycle_length"
   ]
  },
  {
   "cell_type": "markdown",
   "id": "3d4d86ad",
   "metadata": {
    "papermill": {
     "duration": 0.007997,
     "end_time": "2024-05-29T16:38:24.670376",
     "exception": false,
     "start_time": "2024-05-29T16:38:24.662379",
     "status": "completed"
    },
    "tags": []
   },
   "source": [
    "Delete the middle node of a LL: https://leetcode.com/problems/delete-the-middle-node-of-a-linked-list/\n",
    "Video Link: https://youtu.be/ePpV-_pfOeI?si=CrCPJnN2MA38JYZh"
   ]
  },
  {
   "cell_type": "code",
   "execution_count": 35,
   "id": "ac21940a",
   "metadata": {
    "execution": {
     "iopub.execute_input": "2024-05-29T16:38:24.687259Z",
     "iopub.status.busy": "2024-05-29T16:38:24.686927Z",
     "iopub.status.idle": "2024-05-29T16:38:24.691321Z",
     "shell.execute_reply": "2024-05-29T16:38:24.690823Z"
    },
    "lines_to_next_cell": 1,
    "papermill": {
     "duration": 0.013989,
     "end_time": "2024-05-29T16:38:24.692424",
     "exception": false,
     "start_time": "2024-05-29T16:38:24.678435",
     "status": "completed"
    },
    "tags": []
   },
   "outputs": [],
   "source": [
    "# https://leetcode.com/problems/delete-the-middle-node-of-a-linked-list/submissions/1270182161\n",
    "def deleteMiddle(head: ListNode) -> ListNode:\n",
    "    # Tortoise and hare to find the node's middle\n",
    "    prev = None\n",
    "    slow = fast = head\n",
    "    while fast and fast.next:\n",
    "        prev, slow, fast = slow, slow.next, fast.next.next\n",
    "\n",
    "    # Delete the node\n",
    "    if not prev:\n",
    "        head = head.next\n",
    "    else:\n",
    "        prev.next = prev.next.next\n",
    "\n",
    "    return head\n",
    "\n",
    "# Testing the solution\n",
    "assert deleteMiddle(ListNode.to_singly_linked_list([1,3,4,7,1,2,6])).to_list() == [1,3,4,1,2,6]\n",
    "assert deleteMiddle(ListNode.to_singly_linked_list([1,2,3,4])).to_list() == [1,2,4]\n",
    "assert deleteMiddle(ListNode.to_singly_linked_list([2,1])).to_list() == [2]"
   ]
  },
  {
   "cell_type": "markdown",
   "id": "79fcca0d",
   "metadata": {
    "papermill": {
     "duration": 0.007985,
     "end_time": "2024-05-29T16:38:24.708614",
     "exception": false,
     "start_time": "2024-05-29T16:38:24.700629",
     "status": "completed"
    },
    "tags": []
   },
   "source": [
    "Find starting point of a loop / cycle\n",
    "Video Link: https://youtu.be/2Kd0KKmmHFc?si=9XzuefTJpWk7vgEI"
   ]
  },
  {
   "cell_type": "code",
   "execution_count": 36,
   "id": "4ea0855f",
   "metadata": {
    "execution": {
     "iopub.execute_input": "2024-05-29T16:38:24.725459Z",
     "iopub.status.busy": "2024-05-29T16:38:24.725301Z",
     "iopub.status.idle": "2024-05-29T16:38:24.728283Z",
     "shell.execute_reply": "2024-05-29T16:38:24.727867Z"
    },
    "lines_to_next_cell": 1,
    "papermill": {
     "duration": 0.01263,
     "end_time": "2024-05-29T16:38:24.729346",
     "exception": false,
     "start_time": "2024-05-29T16:38:24.716716",
     "status": "completed"
    },
    "tags": []
   },
   "outputs": [],
   "source": [
    "def detectCycleStartBrute(head: ListNode) -> ListNode|None:\n",
    "    set_: set[ListNode] = set()\n",
    "    curr = head\n",
    "    while curr:\n",
    "        if curr not in set_:\n",
    "            set_.add(curr)\n",
    "            curr = curr.next\n",
    "        else:\n",
    "            return curr\n",
    "    return None"
   ]
  },
  {
   "cell_type": "code",
   "execution_count": 37,
   "id": "ceabaf44",
   "metadata": {
    "execution": {
     "iopub.execute_input": "2024-05-29T16:38:24.746739Z",
     "iopub.status.busy": "2024-05-29T16:38:24.746305Z",
     "iopub.status.idle": "2024-05-29T16:38:24.751170Z",
     "shell.execute_reply": "2024-05-29T16:38:24.750729Z"
    },
    "lines_to_next_cell": 1,
    "papermill": {
     "duration": 0.01459,
     "end_time": "2024-05-29T16:38:24.752205",
     "exception": false,
     "start_time": "2024-05-29T16:38:24.737615",
     "status": "completed"
    },
    "tags": []
   },
   "outputs": [],
   "source": [
    "# https://leetcode.com/problems/linked-list-cycle-ii/submissions/1270513369\n",
    "def detectCycleStart(head: ListNode) -> ListNode|None:\n",
    "    \"\"\"\n",
    "    1. Init fast and slow pointers, iterate until they collide\n",
    "    2. Init a new pointer and move it simaltaneously along with the slow pointer until they both intersect. This would be the point of intersection.\n",
    "\n",
    "    For intution watch the video from 16:00\n",
    "    - When the slow pointer reaches the start of the loop (L distance), the fast pointer would have traversed L distance into the loop.\n",
    "    - Assume distance between fast pointer and start of the loop is 'd'.\n",
    "    - We iterate until fast and slow collide. When they collide, slow would have traversed 'd' units and fast would have traversed '2d' units, reason being the d distance is covered by slow pointer a ta pace of 1 unit at a time which fast moving 2 units at a time and takes 2 * d units of travel.\n",
    "    - Total length of loop is L + d. At collision, slow pointer would be d units into the loop or in other words: L units away from the start of the loop.\n",
    "    - We move slow (L units away from start of loop) and start iterating from the head (L units from start of loop).\n",
    "    - They are at equal distance and would collide at start of the loop.\n",
    "    \"\"\"\n",
    "    # Fast and slow pointer algorithm until collision\n",
    "    slow = fast = head\n",
    "    while fast and fast.next:\n",
    "        slow, fast = slow.next, fast.next.next\n",
    "        if slow == fast:\n",
    "            break\n",
    "\n",
    "    # We have reached an intersecting node, we iterate slow and new pointer at head until we intersect again\n",
    "    if fast and fast.next:\n",
    "        curr = head\n",
    "        while curr != slow:\n",
    "            curr, slow = curr.next, slow.next\n",
    "        return curr\n",
    "    else:\n",
    "        return None\n",
    "\n",
    "# Testing the solution\n",
    "for i in range(20):\n",
    "    temp, _, _ = generateTestCasesForHasCycle()\n",
    "    detectCycleStartBrute(temp) == detectCycleStart(temp)"
   ]
  },
  {
   "cell_type": "markdown",
   "id": "4a5b91af",
   "metadata": {
    "papermill": {
     "duration": 0.008004,
     "end_time": "2024-05-29T16:38:24.768306",
     "exception": false,
     "start_time": "2024-05-29T16:38:24.760302",
     "status": "completed"
    },
    "tags": []
   },
   "source": [
    "Delete all occurances of key from DLL\n",
    "Video Link: https://youtu.be/Mh0NH_SD92k?si=EOHv42dLQgWo2hfo"
   ]
  },
  {
   "cell_type": "code",
   "execution_count": 38,
   "id": "8afd6d09",
   "metadata": {
    "execution": {
     "iopub.execute_input": "2024-05-29T16:38:24.785359Z",
     "iopub.status.busy": "2024-05-29T16:38:24.784922Z",
     "iopub.status.idle": "2024-05-29T16:38:24.789178Z",
     "shell.execute_reply": "2024-05-29T16:38:24.788726Z"
    },
    "lines_to_next_cell": 1,
    "papermill": {
     "duration": 0.0139,
     "end_time": "2024-05-29T16:38:24.790281",
     "exception": false,
     "start_time": "2024-05-29T16:38:24.776381",
     "status": "completed"
    },
    "tags": []
   },
   "outputs": [],
   "source": [
    "def deleteAllOccurrences(head: DLLNode, k: int) -> DLLNode:\n",
    "    curr = head\n",
    "    while curr:\n",
    "        if curr.val == k:\n",
    "            prev, next_ = curr.prev, curr.next\n",
    "            if not prev:\n",
    "                head = head.next\n",
    "            if prev:\n",
    "                prev.next = next_\n",
    "            if next_:\n",
    "                next_.prev = prev\n",
    "        curr = curr.next\n",
    "\n",
    "    return head\n",
    "\n",
    "# Testing the solution\n",
    "assert deleteAllOccurrences(DLLNode.to_doubly_linked_list([1,2,3,1,1,5,1]), 1).to_list() == [2,3,5]\n",
    "assert deleteAllOccurrences(DLLNode.to_doubly_linked_list([1,1,5,1]), 1).to_list() == [5]"
   ]
  },
  {
   "cell_type": "markdown",
   "id": "c24d725f",
   "metadata": {
    "papermill": {
     "duration": 0.007968,
     "end_time": "2024-05-29T16:38:24.806370",
     "exception": false,
     "start_time": "2024-05-29T16:38:24.798402",
     "status": "completed"
    },
    "tags": []
   },
   "source": [
    "Find all pairs that sum to pair\n",
    "Video Link: https://youtu.be/YitR4dQsddE?si=hKS4D96sIRLllVkU"
   ]
  },
  {
   "cell_type": "code",
   "execution_count": 39,
   "id": "db9ee204",
   "metadata": {
    "execution": {
     "iopub.execute_input": "2024-05-29T16:38:24.823295Z",
     "iopub.status.busy": "2024-05-29T16:38:24.822926Z",
     "iopub.status.idle": "2024-05-29T16:38:24.827395Z",
     "shell.execute_reply": "2024-05-29T16:38:24.826864Z"
    },
    "lines_to_next_cell": 1,
    "papermill": {
     "duration": 0.014103,
     "end_time": "2024-05-29T16:38:24.828479",
     "exception": false,
     "start_time": "2024-05-29T16:38:24.814376",
     "status": "completed"
    },
    "tags": []
   },
   "outputs": [],
   "source": [
    "def findPairsWithGivenSum(target: int, head: DLLNode) -> list[list[int]]:\n",
    "    # Find the tail of the LL\n",
    "    tail: DLLNode = head\n",
    "    while tail.next:\n",
    "        tail = tail.next\n",
    "\n",
    "    # Two pointer traversal\n",
    "    results: list[list[int]] = []\n",
    "    left, right = head, tail\n",
    "    while left.val < right.val:\n",
    "        sum_ = left.val + right.val\n",
    "        if sum_ == target:\n",
    "            results.append([left.val, right.val])\n",
    "            left, right = left.next, right.prev\n",
    "        elif sum_ < target:\n",
    "            left = left.next\n",
    "        else:\n",
    "            right = right.prev\n",
    "\n",
    "    return results\n",
    "\n",
    "# Testing the solution\n",
    "assert findPairsWithGivenSum(7, DLLNode.to_doubly_linked_list([1,2,4,5,6,8,9])) == [[1,6], [2,5]]"
   ]
  },
  {
   "cell_type": "markdown",
   "id": "03d3836e",
   "metadata": {
    "papermill": {
     "duration": 0.008002,
     "end_time": "2024-05-29T16:38:24.844624",
     "exception": false,
     "start_time": "2024-05-29T16:38:24.836622",
     "status": "completed"
    },
    "tags": []
   },
   "source": [
    "Remove duplicates from sorted DLL\n",
    "Video Link: https://youtu.be/YJKVTnOJXSY?si=iUsYyLyw32khR4qk"
   ]
  },
  {
   "cell_type": "code",
   "execution_count": 40,
   "id": "96d1a14c",
   "metadata": {
    "execution": {
     "iopub.execute_input": "2024-05-29T16:38:24.861883Z",
     "iopub.status.busy": "2024-05-29T16:38:24.861534Z",
     "iopub.status.idle": "2024-05-29T16:38:24.865663Z",
     "shell.execute_reply": "2024-05-29T16:38:24.865193Z"
    },
    "lines_to_next_cell": 1,
    "papermill": {
     "duration": 0.013833,
     "end_time": "2024-05-29T16:38:24.866691",
     "exception": false,
     "start_time": "2024-05-29T16:38:24.852858",
     "status": "completed"
    },
    "tags": []
   },
   "outputs": [],
   "source": [
    "def removeDuplicates(head: DLLNode) -> DLLNode:\n",
    "    \"\"\"\n",
    "    Check if prev == curr. We would never face a situation where we have to del the head.\n",
    "    Time: O(N), Space: O(1)\n",
    "    \"\"\"\n",
    "    curr = head\n",
    "    while curr:\n",
    "        prev, next_ = curr.prev, curr.next\n",
    "        if prev and prev.val == curr.val:\n",
    "            prev.next = next_\n",
    "            if next_:\n",
    "                next_.prev = prev\n",
    "        curr = curr.next\n",
    "\n",
    "    return head\n",
    "\n",
    "# Testing the solution\n",
    "assert removeDuplicates(DLLNode.to_doubly_linked_list([1,2,2,2,3,3,3,3])).to_list() == [1,2,3]"
   ]
  },
  {
   "cell_type": "markdown",
   "id": "0e87575b",
   "metadata": {
    "papermill": {
     "duration": 0.008058,
     "end_time": "2024-05-29T16:38:24.882860",
     "exception": false,
     "start_time": "2024-05-29T16:38:24.874802",
     "status": "completed"
    },
    "tags": []
   },
   "source": [
    "Reverse nodes in K group\n",
    "Video Link: https://youtu.be/lIar1skcQYI?si=iMT4yb5RPdSAKTGz"
   ]
  },
  {
   "cell_type": "code",
   "execution_count": 41,
   "id": "a9d91617",
   "metadata": {
    "execution": {
     "iopub.execute_input": "2024-05-29T16:38:24.900063Z",
     "iopub.status.busy": "2024-05-29T16:38:24.899579Z",
     "iopub.status.idle": "2024-05-29T16:38:24.904937Z",
     "shell.execute_reply": "2024-05-29T16:38:24.904512Z"
    },
    "lines_to_next_cell": 1,
    "papermill": {
     "duration": 0.015064,
     "end_time": "2024-05-29T16:38:24.906048",
     "exception": false,
     "start_time": "2024-05-29T16:38:24.890984",
     "status": "completed"
    },
    "tags": []
   },
   "outputs": [],
   "source": [
    "# https://leetcode.com/problems/reverse-nodes-in-k-group/submissions/1271081842\n",
    "def reverseKGroupBrute(head: ListNode, k: int) -> ListNode:\n",
    "    \"Time: O(2N), Space: O(1)\"\n",
    "    def reverseLL(start: ListNode, end: ListNode):\n",
    "        \"\"\"\n",
    "        Reverses the LL from start to end: end -> ... start -> None\n",
    "        \"\"\"\n",
    "        prev, curr = None, start\n",
    "        while curr:\n",
    "            next_ = curr.next if curr != end else None\n",
    "            curr.next = prev\n",
    "            prev, curr = curr, next_\n",
    "\n",
    "    count, prev, curr = 1, None, head\n",
    "    while curr:\n",
    "        next_ = curr.next\n",
    "        if count in [1, k]:\n",
    "            if prev:\n",
    "                prev.next = curr\n",
    "            else:\n",
    "                head = curr\n",
    "\n",
    "            if count == 1:\n",
    "                start = curr\n",
    "            elif count == k:\n",
    "                reverseLL(start, curr)\n",
    "                prev, count = start, 0\n",
    "\n",
    "        count, curr = count + 1, next_\n",
    "\n",
    "    return head\n",
    "\n",
    "# Testing the solution\n",
    "assert reverseKGroupBrute(ListNode.to_singly_linked_list([1,2,3,4,5]), 2).to_list() == [2,1,4,3,5]\n",
    "assert reverseKGroupBrute(ListNode.to_singly_linked_list([1,2,3,4,5]), 3).to_list() == [3,2,1,4,5]"
   ]
  },
  {
   "cell_type": "markdown",
   "id": "31555836",
   "metadata": {
    "papermill": {
     "duration": 0.008001,
     "end_time": "2024-05-29T16:38:24.922161",
     "exception": false,
     "start_time": "2024-05-29T16:38:24.914160",
     "status": "completed"
    },
    "tags": []
   },
   "source": [
    "Rotate Linked List: https://leetcode.com/problems/rotate-list/\n",
    "Video Link: https://youtu.be/uT7YI7XbTY8?si=oTcsMXbd4Ukx7peu"
   ]
  },
  {
   "cell_type": "code",
   "execution_count": 42,
   "id": "21fcd05a",
   "metadata": {
    "execution": {
     "iopub.execute_input": "2024-05-29T16:38:24.939312Z",
     "iopub.status.busy": "2024-05-29T16:38:24.938904Z",
     "iopub.status.idle": "2024-05-29T16:38:24.943429Z",
     "shell.execute_reply": "2024-05-29T16:38:24.942904Z"
    },
    "lines_to_next_cell": 1,
    "papermill": {
     "duration": 0.014273,
     "end_time": "2024-05-29T16:38:24.944521",
     "exception": false,
     "start_time": "2024-05-29T16:38:24.930248",
     "status": "completed"
    },
    "tags": []
   },
   "outputs": [],
   "source": [
    "# https://leetcode.com/problems/rotate-list/submissions/1271204624\n",
    "def rotateRight(head: ListNode, k: int) -> ListNode:\n",
    "    \"Space: O(1), Time: O(2N)\"\n",
    "    # Base case\n",
    "    if not head:\n",
    "        return head\n",
    "\n",
    "    else:\n",
    "        # Rotations beyond N can be rounded off\n",
    "        N = head.len()\n",
    "        k = N - (k % N)\n",
    "\n",
    "        # Link the tail node to the start\n",
    "        tail = head.tail()\n",
    "        tail.next = head\n",
    "\n",
    "        # Remove the connection which needs removal\n",
    "        prev, curr = tail, head\n",
    "        while k > 0:\n",
    "            k, prev, curr = k - 1, curr, curr.next\n",
    "        prev.next = None\n",
    "\n",
    "        return curr\n",
    "\n",
    "# Testing the solution\n",
    "assert rotateRight(ListNode.to_singly_linked_list([1,2,3,4,5]), 2).to_list() == [4,5,1,2,3]\n",
    "assert rotateRight(ListNode.to_singly_linked_list([1,2,3,4,5]), 3).to_list() == [3,4,5,1,2]"
   ]
  },
  {
   "cell_type": "markdown",
   "id": "b8060f9c",
   "metadata": {
    "papermill": {
     "duration": 0.008001,
     "end_time": "2024-05-29T16:38:24.960617",
     "exception": false,
     "start_time": "2024-05-29T16:38:24.952616",
     "status": "completed"
    },
    "tags": []
   },
   "source": [
    "Merge Two sorted linked lists: https://leetcode.com/problems/merge-two-sorted-lists/\n",
    "Video Link: https://youtu.be/jXu-H7XuClE?si=cAYJXOGmugB-R1Jw"
   ]
  },
  {
   "cell_type": "code",
   "execution_count": 43,
   "id": "9bda15a0",
   "metadata": {
    "execution": {
     "iopub.execute_input": "2024-05-29T16:38:24.977748Z",
     "iopub.status.busy": "2024-05-29T16:38:24.977412Z",
     "iopub.status.idle": "2024-05-29T16:38:24.982102Z",
     "shell.execute_reply": "2024-05-29T16:38:24.981605Z"
    },
    "lines_to_next_cell": 1,
    "papermill": {
     "duration": 0.014542,
     "end_time": "2024-05-29T16:38:24.983249",
     "exception": false,
     "start_time": "2024-05-29T16:38:24.968707",
     "status": "completed"
    },
    "tags": []
   },
   "outputs": [],
   "source": [
    "# https://leetcode.com/problems/merge-two-sorted-lists/submissions/1271581186\n",
    "def mergeTwoLists(head1: ListNode, head2: ListNode) -> ListNode:\n",
    "    # Keep a dummy node\n",
    "    merged: ListNode = ListNode(val=999)\n",
    "\n",
    "    # Iterate using standard two pointer approach\n",
    "    curr, curr1, curr2 = merged, head1, head2\n",
    "    while curr1 or curr2:\n",
    "        if not curr2 or (curr1 and curr1.val < curr2.val):\n",
    "            curr.next = curr1\n",
    "            curr, curr1 = curr.next, curr1.next\n",
    "        else:\n",
    "            curr.next = curr2\n",
    "            curr, curr2 = curr.next, curr2.next\n",
    "\n",
    "    # Return merged list skipping our dummy\n",
    "    return merged.next\n",
    "\n",
    "# Testing the solution\n",
    "assert mergeTwoLists(ListNode.to_singly_linked_list([1,2,4]), ListNode.to_singly_linked_list([1,3,4])).to_list() == [1,1,2,3,4,4]\n",
    "assert mergeTwoLists(ListNode.to_singly_linked_list([1,1]), ListNode.to_singly_linked_list([1,2])).to_list() == [1,1,1,2]"
   ]
  },
  {
   "cell_type": "markdown",
   "id": "635b1ce4",
   "metadata": {},
   "source": [
    "Flattening a linked list\n",
    "Video Link: https://youtu.be/ykelywHJWLg?si=xEMHwY-n0wADGYA6"
   ]
  },
  {
   "cell_type": "code",
   "execution_count": null,
   "id": "8e34e33f",
   "metadata": {
    "lines_to_next_cell": 1
   },
   "outputs": [],
   "source": [
    "class GFGFlattenLLNode:\n",
    "    def __init__(self, data):\n",
    "        self.data = data\n",
    "        self.next = None\n",
    "        self.bottom = None\n",
    "\n",
    "    def __repr__(self):\n",
    "        return str(self.data)\n",
    "\n",
    "    def to_list(self) -> list[int]:\n",
    "        result: list[int] = []\n",
    "        horizontal = self\n",
    "        while horizontal:\n",
    "            vertical = horizontal\n",
    "            while vertical:\n",
    "                result.append(vertical.data)\n",
    "                vertical = vertical.bottom\n",
    "            horizontal = horizontal.next\n",
    "        return result"
   ]
  },
  {
   "cell_type": "code",
   "execution_count": null,
   "id": "6f6d740f",
   "metadata": {
    "lines_to_next_cell": 1
   },
   "outputs": [],
   "source": [
    "def generateTestCasesForGFGFlattenLL(N: int, heights: list[int], values: list[int]) -> GFGFlattenLLNode:\n",
    "    nested: list[GFGFlattenLLNode] = []\n",
    "    i = 0\n",
    "    for height in heights:\n",
    "        nested.append(GFGFlattenLLNode(-1))\n",
    "        curr = nested[-1]\n",
    "        while height > 0:\n",
    "            curr.bottom = GFGFlattenLLNode(values[i])\n",
    "            curr, i, height = curr.bottom, i + 1, height - 1\n",
    "        nested[-1] = nested[-1].bottom\n",
    "\n",
    "    prev = nested[0]\n",
    "    for i in range(1, N):\n",
    "        curr = nested[i]\n",
    "        prev.next = curr\n",
    "        prev = curr\n",
    "\n",
    "    return nested[0]\n",
    "\n",
    "# Testing the test case generator ;)\n",
    "generateTestCasesForGFGFlattenLL(4, [4,2,3,4], [5,7,8,30,10,20,19,22,50,28,35,40,45]).to_list()"
   ]
  },
  {
   "cell_type": "code",
   "execution_count": null,
   "id": "7db963ef",
   "metadata": {
    "lines_to_next_cell": 1
   },
   "outputs": [],
   "source": [
    "def GFGflattenLL(root) -> GFGFlattenLLNode:\n",
    "    \"\"\"\n",
    "    Time: O(N) + O(N x N x M) ~ O(N x N x M)\n",
    "    Space: O(N)\n",
    "    \"\"\"\n",
    "    # Store all the top level nodes\n",
    "    curr: GFGFlattenLLNode = root\n",
    "    heads: set[GFGFlattenLLNode] = set()\n",
    "    while curr:\n",
    "        next_ = curr.next\n",
    "        heads.add(curr)\n",
    "        curr.next = None\n",
    "        curr = next_\n",
    "\n",
    "    # Create a dummy node of ease of ops\n",
    "    merged = GFGFlattenLLNode(0)\n",
    "    mh = merged\n",
    "    while heads:\n",
    "        min_ = GFGFlattenLLNode(math.inf)\n",
    "        for curr in heads:\n",
    "            if curr.data < min_.data:\n",
    "                min_ = curr\n",
    "\n",
    "        heads.remove(min_)\n",
    "        mh.bottom = min_\n",
    "        mh, min_ = mh.bottom, min_.bottom\n",
    "        if min_:\n",
    "            heads.add(min_)\n",
    "\n",
    "    return merged.bottom\n",
    "\n",
    "# Testing the solution\n",
    "assert GFGflattenLL(generateTestCasesForGFGFlattenLL(4, [4,2,3,4], [5,7,8,30,10,20,19,22,50,28,35,40,45])).to_list() == [5,7,8,10,19,20,22,28,30,35,40,45,50]\n",
    "assert GFGflattenLL(generateTestCasesForGFGFlattenLL(4, [4,1,3,1], [5,7,8,30,10,19,22,50,28])).to_list() == [5,7,8,10,19,22,28,30,50]"
   ]
  },
  {
   "cell_type": "code",
   "execution_count": null,
   "id": "0af56f93",
   "metadata": {
    "lines_to_next_cell": 1
   },
   "outputs": [],
   "source": [
    "def GFGflattenLLStriver(root) -> GFGFlattenLLNode:\n",
    "    \"\"\"\n",
    "    Instead of iterating through all N for every iteration, we can try\n",
    "    joining two heads at a time for better runtime.\n",
    "\n",
    "    Time: O(N) + O(N x 2M) ~ O(NM)\n",
    "    Space: O(N)\n",
    "    \"\"\"\n",
    "    def mergeGFGNodes(head1: GFGFlattenLLNode, head2: GFGFlattenLLNode) -> GFGFlattenLLNode:\n",
    "        merged: GFGFlattenLLNode = GFGFlattenLLNode(-1)\n",
    "        mh, curr1, curr2 = merged, head1, head2\n",
    "        while curr1 or curr2:\n",
    "            if not curr2 or (curr1 and curr1.data < curr2.data):\n",
    "                mh.bottom = curr1\n",
    "                mh, curr1 = mh.bottom, curr1.bottom\n",
    "            else:\n",
    "                mh.bottom = curr2\n",
    "                mh, curr2 = mh.bottom, curr2.bottom\n",
    "\n",
    "        return merged.bottom\n",
    "\n",
    "    # Store all the top level nodes\n",
    "    curr: GFGFlattenLLNode = root\n",
    "    heads: set[GFGFlattenLLNode] = set()\n",
    "    while curr:\n",
    "        next_ = curr.next\n",
    "        heads.add(curr)\n",
    "        curr.next = None\n",
    "        curr = next_\n",
    "\n",
    "    while len(heads) > 1:\n",
    "        heads.add(mergeGFGNodes(heads.pop(), heads.pop()))\n",
    "\n",
    "    return heads.pop()\n",
    "\n",
    "# Testing the solution\n",
    "assert GFGflattenLLStriver(generateTestCasesForGFGFlattenLL(4, [4,2,3,4], [5,7,8,30,10,20,19,22,50,28,35,40,45])).to_list() == [5,7,8,10,19,20,22,28,30,35,40,45,50]\n",
    "assert GFGflattenLLStriver(generateTestCasesForGFGFlattenLL(4, [4,1,3,1], [5,7,8,30,10,19,22,50,28])).to_list() == [5,7,8,10,19,22,28,30,50]"
   ]
  },
  {
   "cell_type": "markdown",
   "id": "372da5f1",
   "metadata": {},
   "source": [
    "Merge K sorted Lists: https://leetcode.com/problems/merge-k-sorted-lists/\n",
    "Video Link: https://youtu.be/1zktEppsdig?si=o9ttliAfO99YDin8"
   ]
  },
  {
   "cell_type": "code",
   "execution_count": null,
   "id": "0c98d074",
   "metadata": {
    "lines_to_next_cell": 1
   },
   "outputs": [],
   "source": [
    "# https://leetcode.com/problems/merge-k-sorted-lists/submissions/1272090418\n",
    "def mergeKLists(lists: list[ListNode]) -> ListNode:\n",
    "    \"\"\"\n",
    "    Time: O(2N + 3N .. KN) ~ O(N x K ** 2) ~ O(N ** 3)\n",
    "    Space: O(1)\n",
    "    \"\"\"\n",
    "    def merge(head1: ListNode, head2: ListNode) -> ListNode:\n",
    "        merged: ListNode = ListNode(-1)\n",
    "        mh, curr1, curr2 = merged, head1, head2\n",
    "        while curr1 or curr2:\n",
    "            if not curr2 or (curr1 and curr1.val < curr2.val):\n",
    "                mh.next = curr1\n",
    "                mh, curr1 = mh.next, curr1.next\n",
    "            else:\n",
    "                mh.next = curr2\n",
    "                mh, curr2 = mh.next, curr2.next\n",
    "        return merged.next\n",
    "\n",
    "    while len(lists) > 1:\n",
    "        lists.append(merge(lists.pop(), lists.pop()))\n",
    "\n",
    "    return lists.pop() if lists else None\n",
    "\n",
    "# Testing the solution\n",
    "assert mergeKLists([ListNode.to_singly_linked_list([1,4,5]),ListNode.to_singly_linked_list([1,3,4]),ListNode.to_singly_linked_list([2,6])]).to_list() == [1,1,2,3,4,4,5,6]"
   ]
  },
  {
   "cell_type": "code",
   "execution_count": null,
   "id": "3cb0bb18",
   "metadata": {},
   "outputs": [],
   "source": [
    "# https://leetcode.com/problems/merge-k-sorted-lists/submissions/1272122618/\n",
    "def mergeKListsStriver(lists: list[ListNode]) -> ListNode:\n",
    "    \"\"\"\n",
    "    Instead of iterating through pairs of heads, we use a min heap data structure.\n",
    "    Initially add all heads to heap. Get the min, add to the merged list and add the next_ back to heap.\n",
    "\n",
    "    Time: O(N x N x log N) (Total Nodes: N x N)\n",
    "    Space: O(N)\n",
    "    \"\"\"\n",
    "\n",
    "    heads: list[ListNode] = [node for node in lists]\n",
    "    heap: list[tuple[int, int]] = [(heads[i].val, i) for i in range(len(heads)) if heads[i]]\n",
    "    heapq.heapify(heap)\n",
    "\n",
    "    merged: ListNode = ListNode(-1)\n",
    "    mh = merged\n",
    "    while heap:\n",
    "        min_idx = heapq.heappop(heap)[1]\n",
    "        min_ = heads[min_idx]\n",
    "        mh.next = min_\n",
    "        mh = mh.next\n",
    "        if min_.next:\n",
    "            heapq.heappush(heap, (min_.next.val, min_idx))\n",
    "            heads[min_idx] = min_.next\n",
    "\n",
    "    return merged.next\n",
    "\n",
    "# Testing the solution\n",
    "assert mergeKListsStriver([ListNode.to_singly_linked_list([1,4,5]),ListNode.to_singly_linked_list([1,3,4]),ListNode.to_singly_linked_list([2,6])]).to_list() == [1,1,2,3,4,4,5,6]"
   ]
  }
 ],
 "metadata": {
  "kernelspec": {
   "display_name": "Python 3 (ipykernel)",
   "language": "python",
   "name": "python3"
  },
  "language_info": {
   "codemirror_mode": {
    "name": "ipython",
    "version": 3
   },
   "file_extension": ".py",
   "mimetype": "text/x-python",
   "name": "python",
   "nbconvert_exporter": "python",
   "pygments_lexer": "ipython3",
   "version": "3.11.9"
  },
  "papermill": {
   "default_parameters": {},
   "duration": 3.235833,
   "end_time": "2024-05-29T16:38:25.206891",
   "environment_variables": {},
   "exception": null,
   "input_path": "study/striver-A2Z/14-linked-list.ipynb",
   "output_path": "study/striver-A2Z/14-linked-list.ipynb",
   "parameters": {},
   "start_time": "2024-05-29T16:38:21.971058",
   "version": "2.6.0"
  }
 },
 "nbformat": 4,
 "nbformat_minor": 5
}
