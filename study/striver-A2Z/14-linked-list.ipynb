{
 "cells": [
  {
   "cell_type": "markdown",
   "id": "7bb754d1",
   "metadata": {
    "papermill": {
     "duration": 0.004487,
     "end_time": "2024-05-24T15:47:38.507883",
     "exception": false,
     "start_time": "2024-05-24T15:47:38.503396",
     "status": "completed"
    },
    "tags": []
   },
   "source": [
    "### Useful imports"
   ]
  },
  {
   "cell_type": "code",
   "execution_count": 1,
   "id": "9ca3a0e7",
   "metadata": {
    "execution": {
     "iopub.execute_input": "2024-05-24T15:47:38.512858Z",
     "iopub.status.busy": "2024-05-24T15:47:38.512587Z",
     "iopub.status.idle": "2024-05-24T15:47:38.894394Z",
     "shell.execute_reply": "2024-05-24T15:47:38.893788Z"
    },
    "lines_to_next_cell": 1,
    "papermill": {
     "duration": 0.386448,
     "end_time": "2024-05-24T15:47:38.895997",
     "exception": false,
     "start_time": "2024-05-24T15:47:38.509549",
     "status": "completed"
    },
    "tags": []
   },
   "outputs": [],
   "source": [
    "from typing import List, Optional, Generator\n",
    "import pandas as pd\n",
    "import numpy as np\n",
    "import sqlite3\n",
    "import re\n",
    "import io\n",
    "import math\n",
    "import collections\n",
    "import itertools\n",
    "import functools\n",
    "import random\n",
    "import string\n",
    "import tqdm\n",
    "import bisect\n",
    "import heapq"
   ]
  },
  {
   "cell_type": "markdown",
   "id": "4d54d767",
   "metadata": {
    "papermill": {
     "duration": 0.00141,
     "end_time": "2024-05-24T15:47:38.899175",
     "exception": false,
     "start_time": "2024-05-24T15:47:38.897765",
     "status": "completed"
    },
    "tags": []
   },
   "source": [
    "#### Helper for Singly Linked lists"
   ]
  },
  {
   "cell_type": "code",
   "execution_count": 2,
   "id": "db8c5b93",
   "metadata": {
    "execution": {
     "iopub.execute_input": "2024-05-24T15:47:38.903237Z",
     "iopub.status.busy": "2024-05-24T15:47:38.902686Z",
     "iopub.status.idle": "2024-05-24T15:47:38.907544Z",
     "shell.execute_reply": "2024-05-24T15:47:38.907093Z"
    },
    "lines_to_next_cell": 1,
    "papermill": {
     "duration": 0.008122,
     "end_time": "2024-05-24T15:47:38.908655",
     "exception": false,
     "start_time": "2024-05-24T15:47:38.900533",
     "status": "completed"
    },
    "tags": []
   },
   "outputs": [],
   "source": [
    "class ListNode:\n",
    "    def __init__(self, val=0, next_=None):\n",
    "        self.val = val\n",
    "        self.next = next_\n",
    "\n",
    "    def __str__(self):\n",
    "        return str(self.val)\n",
    "\n",
    "    @staticmethod\n",
    "    def to_singly_linked_list(nums: list[int]):\n",
    "        root = prev = None\n",
    "        for n in nums:\n",
    "            curr = ListNode(n)\n",
    "            # Init once\n",
    "            if not root:\n",
    "                root = curr\n",
    "            if prev:\n",
    "                prev.next = curr\n",
    "            prev = curr\n",
    "\n",
    "        return root\n",
    "\n",
    "    def to_list(self) -> list[int]:\n",
    "        result = []\n",
    "        curr = self\n",
    "        while curr:\n",
    "            result.append(curr.val)\n",
    "            curr = curr.next\n",
    "        return result"
   ]
  },
  {
   "cell_type": "markdown",
   "id": "3bd55ce0",
   "metadata": {
    "papermill": {
     "duration": 0.001349,
     "end_time": "2024-05-24T15:47:38.911399",
     "exception": false,
     "start_time": "2024-05-24T15:47:38.910050",
     "status": "completed"
    },
    "tags": []
   },
   "source": [
    "Convert an array to Linked list"
   ]
  },
  {
   "cell_type": "code",
   "execution_count": 3,
   "id": "59dfeb8f",
   "metadata": {
    "execution": {
     "iopub.execute_input": "2024-05-24T15:47:38.915310Z",
     "iopub.status.busy": "2024-05-24T15:47:38.914830Z",
     "iopub.status.idle": "2024-05-24T15:47:38.918413Z",
     "shell.execute_reply": "2024-05-24T15:47:38.917990Z"
    },
    "lines_to_next_cell": 1,
    "papermill": {
     "duration": 0.006834,
     "end_time": "2024-05-24T15:47:38.919577",
     "exception": false,
     "start_time": "2024-05-24T15:47:38.912743",
     "status": "completed"
    },
    "tags": []
   },
   "outputs": [],
   "source": [
    "def constructLL(arr: list[int]) -> ListNode|None:\n",
    "    head: \"ListNode\" | None = None\n",
    "    tail = head\n",
    "\n",
    "    for n in arr:\n",
    "        curr = ListNode(n)\n",
    "        if not tail:\n",
    "            head = tail = curr\n",
    "        else:\n",
    "            tail.next = curr\n",
    "            tail = curr\n",
    "\n",
    "    return head"
   ]
  },
  {
   "cell_type": "markdown",
   "id": "0c090b60",
   "metadata": {
    "papermill": {
     "duration": 0.001394,
     "end_time": "2024-05-24T15:47:38.922394",
     "exception": false,
     "start_time": "2024-05-24T15:47:38.921000",
     "status": "completed"
    },
    "tags": []
   },
   "source": [
    "Length of LL"
   ]
  },
  {
   "cell_type": "code",
   "execution_count": 4,
   "id": "d41e087f",
   "metadata": {
    "execution": {
     "iopub.execute_input": "2024-05-24T15:47:38.926418Z",
     "iopub.status.busy": "2024-05-24T15:47:38.925899Z",
     "iopub.status.idle": "2024-05-24T15:47:38.929331Z",
     "shell.execute_reply": "2024-05-24T15:47:38.928855Z"
    },
    "lines_to_next_cell": 1,
    "papermill": {
     "duration": 0.006617,
     "end_time": "2024-05-24T15:47:38.930429",
     "exception": false,
     "start_time": "2024-05-24T15:47:38.923812",
     "status": "completed"
    },
    "tags": []
   },
   "outputs": [],
   "source": [
    "def lengthOfLL(head: ListNode) -> int:\n",
    "    curr = head\n",
    "    count = 0\n",
    "    while curr:\n",
    "        curr = curr.next\n",
    "        count += 1\n",
    "\n",
    "    return count\n",
    "\n",
    "# Testing the solution\n",
    "assert lengthOfLL(ListNode.to_singly_linked_list([1,2,3,4,5])) == 5"
   ]
  },
  {
   "cell_type": "markdown",
   "id": "bd9565da",
   "metadata": {
    "papermill": {
     "duration": 0.001454,
     "end_time": "2024-05-24T15:47:38.933324",
     "exception": false,
     "start_time": "2024-05-24T15:47:38.931870",
     "status": "completed"
    },
    "tags": []
   },
   "source": [
    "Search in a linked list"
   ]
  },
  {
   "cell_type": "code",
   "execution_count": 5,
   "id": "1137b6e9",
   "metadata": {
    "execution": {
     "iopub.execute_input": "2024-05-24T15:47:38.937406Z",
     "iopub.status.busy": "2024-05-24T15:47:38.936858Z",
     "iopub.status.idle": "2024-05-24T15:47:38.940368Z",
     "shell.execute_reply": "2024-05-24T15:47:38.939918Z"
    },
    "papermill": {
     "duration": 0.006764,
     "end_time": "2024-05-24T15:47:38.941552",
     "exception": false,
     "start_time": "2024-05-24T15:47:38.934788",
     "status": "completed"
    },
    "tags": []
   },
   "outputs": [],
   "source": [
    "def searchInLinkedList(head: ListNode, k: int):\n",
    "    curr = head\n",
    "    while curr:\n",
    "        if curr.val == k:\n",
    "            return 1\n",
    "        else:\n",
    "            curr = curr.next\n",
    "\n",
    "    return 0\n",
    "\n",
    "# Testing the solution\n",
    "assert searchInLinkedList(ListNode.to_singly_linked_list([1,2,3,4]), 4) == 1"
   ]
  }
 ],
 "metadata": {
  "kernelspec": {
   "display_name": "Python 3 (ipykernel)",
   "language": "python",
   "name": "python3"
  },
  "language_info": {
   "codemirror_mode": {
    "name": "ipython",
    "version": 3
   },
   "file_extension": ".py",
   "mimetype": "text/x-python",
   "name": "python",
   "nbconvert_exporter": "python",
   "pygments_lexer": "ipython3",
   "version": "3.11.9"
  },
  "papermill": {
   "default_parameters": {},
   "duration": 1.824549,
   "end_time": "2024-05-24T15:47:39.158405",
   "environment_variables": {},
   "exception": null,
   "input_path": "study/striver-A2Z/14-linked-list.ipynb",
   "output_path": "study/striver-A2Z/14-linked-list.ipynb",
   "parameters": {},
   "start_time": "2024-05-24T15:47:37.333856",
   "version": "2.6.0"
  }
 },
 "nbformat": 4,
 "nbformat_minor": 5
}