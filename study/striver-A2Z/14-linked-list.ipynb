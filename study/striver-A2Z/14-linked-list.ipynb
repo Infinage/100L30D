{
 "cells": [
  {
   "cell_type": "markdown",
   "id": "05899396",
   "metadata": {
    "papermill": {
     "duration": 0.010962,
     "end_time": "2024-05-31T01:13:31.326014",
     "exception": false,
     "start_time": "2024-05-31T01:13:31.315052",
     "status": "completed"
    },
    "tags": []
   },
   "source": [
    "#### Linked Lists\n",
    "- For deleting nodes, it works best to have a prev, curr value and that way at any point if needed we can retreive it. It is also helpful to retreive the tail node instead of resorting to stopping 1 value short of null.\n",
    "- Tortoise and hare algorithm has very important applications in detecting cycles, start of loop etc"
   ]
  },
  {
   "cell_type": "markdown",
   "id": "7bb754d1",
   "metadata": {
    "papermill": {
     "duration": 0.009175,
     "end_time": "2024-05-31T01:13:31.344535",
     "exception": false,
     "start_time": "2024-05-31T01:13:31.335360",
     "status": "completed"
    },
    "tags": []
   },
   "source": [
    "### Useful imports"
   ]
  },
  {
   "cell_type": "code",
   "execution_count": 1,
   "id": "9ca3a0e7",
   "metadata": {
    "execution": {
     "iopub.execute_input": "2024-05-31T01:13:31.364321Z",
     "iopub.status.busy": "2024-05-31T01:13:31.363774Z",
     "iopub.status.idle": "2024-05-31T01:13:31.740958Z",
     "shell.execute_reply": "2024-05-31T01:13:31.740409Z"
    },
    "lines_to_next_cell": 1,
    "papermill": {
     "duration": 0.38883,
     "end_time": "2024-05-31T01:13:31.742377",
     "exception": false,
     "start_time": "2024-05-31T01:13:31.353547",
     "status": "completed"
    },
    "tags": []
   },
   "outputs": [],
   "source": [
    "from typing import List, Optional, Generator\n",
    "import pandas as pd\n",
    "import numpy as np\n",
    "import sqlite3\n",
    "import re\n",
    "import io\n",
    "import math\n",
    "import collections\n",
    "import itertools\n",
    "import functools\n",
    "import random\n",
    "import string\n",
    "import tqdm\n",
    "import bisect\n",
    "import heapq"
   ]
  },
  {
   "cell_type": "markdown",
   "id": "4d54d767",
   "metadata": {
    "papermill": {
     "duration": 0.009223,
     "end_time": "2024-05-31T01:13:31.761079",
     "exception": false,
     "start_time": "2024-05-31T01:13:31.751856",
     "status": "completed"
    },
    "tags": []
   },
   "source": [
    "#### Helper for Singly Linked lists"
   ]
  },
  {
   "cell_type": "code",
   "execution_count": 2,
   "id": "db8c5b93",
   "metadata": {
    "execution": {
     "iopub.execute_input": "2024-05-31T01:13:31.780934Z",
     "iopub.status.busy": "2024-05-31T01:13:31.780283Z",
     "iopub.status.idle": "2024-05-31T01:13:31.787304Z",
     "shell.execute_reply": "2024-05-31T01:13:31.786749Z"
    },
    "lines_to_next_cell": 1,
    "papermill": {
     "duration": 0.018252,
     "end_time": "2024-05-31T01:13:31.788460",
     "exception": false,
     "start_time": "2024-05-31T01:13:31.770208",
     "status": "completed"
    },
    "tags": []
   },
   "outputs": [],
   "source": [
    "class ListNode:\n",
    "    def __init__(self, val=0, next_=None):\n",
    "        self.val = val\n",
    "        self.next = next_\n",
    "\n",
    "    def __str__(self):\n",
    "        return str(self.val)\n",
    "\n",
    "    def len(self) -> int:\n",
    "        \"\"\"\n",
    "        If we used __len__, it would be run every time we do a bool check.\n",
    "        Problematic when we have LL with cycles.\n",
    "        \"\"\"\n",
    "        N, curr = 0, self\n",
    "        while curr is not None:\n",
    "            N, curr = N + 1, curr.next\n",
    "        return N\n",
    "\n",
    "    def tail(self) -> 'ListNode':\n",
    "        prev, curr = None, self\n",
    "        while curr is not None:\n",
    "            prev, curr = curr, curr.next\n",
    "        return prev or curr\n",
    "\n",
    "    @staticmethod\n",
    "    def to_singly_linked_list(nums: list[int]):\n",
    "        root = prev = None\n",
    "        for n in nums:\n",
    "            curr = ListNode(n)\n",
    "            # Init once\n",
    "            if not root:\n",
    "                root = curr\n",
    "            if prev:\n",
    "                prev.next = curr\n",
    "            prev = curr\n",
    "\n",
    "        return root\n",
    "\n",
    "    def to_list(self) -> list[int]:\n",
    "        result = []\n",
    "        curr = self\n",
    "        while curr:\n",
    "            result.append(curr.val)\n",
    "            curr = curr.next\n",
    "        return result"
   ]
  },
  {
   "cell_type": "markdown",
   "id": "8f195f7d",
   "metadata": {
    "papermill": {
     "duration": 0.00923,
     "end_time": "2024-05-31T01:13:31.806961",
     "exception": false,
     "start_time": "2024-05-31T01:13:31.797731",
     "status": "completed"
    },
    "tags": []
   },
   "source": [
    "#### Helper for Doubly Linked lists"
   ]
  },
  {
   "cell_type": "code",
   "execution_count": 3,
   "id": "7d9ad38e",
   "metadata": {
    "execution": {
     "iopub.execute_input": "2024-05-31T01:13:31.826371Z",
     "iopub.status.busy": "2024-05-31T01:13:31.825944Z",
     "iopub.status.idle": "2024-05-31T01:13:31.831735Z",
     "shell.execute_reply": "2024-05-31T01:13:31.831207Z"
    },
    "papermill": {
     "duration": 0.016866,
     "end_time": "2024-05-31T01:13:31.832910",
     "exception": false,
     "start_time": "2024-05-31T01:13:31.816044",
     "status": "completed"
    },
    "tags": []
   },
   "outputs": [],
   "source": [
    "class DLLNode:\n",
    "    def __init__(self, val: int = 0, next_=None, prev = None):\n",
    "        self.val = val\n",
    "        self.next = next_\n",
    "        self.prev = next_\n",
    "\n",
    "    def __str__(self):\n",
    "        return str(self.val)\n",
    "\n",
    "    def __len__(self):\n",
    "        N, curr = 0, self\n",
    "        while curr is not None:\n",
    "            N, curr = N + 1, curr.next\n",
    "        return N\n",
    "\n",
    "    @staticmethod\n",
    "    def to_doubly_linked_list(nums: list[int]):\n",
    "        head = prev = None\n",
    "        for n in nums:\n",
    "            curr = DLLNode(n)\n",
    "            if prev:\n",
    "                prev.next = curr\n",
    "                curr.prev = prev\n",
    "            else:\n",
    "                head = curr\n",
    "            prev = curr\n",
    "        return head\n",
    "\n",
    "    def to_list(self) -> list[int]:\n",
    "        resultFwd = []\n",
    "        prev, curr = None, self\n",
    "        while curr:\n",
    "            resultFwd.append(curr.val)\n",
    "            prev, curr = curr, curr.next\n",
    "\n",
    "        resultBwd = []\n",
    "        prev, curr = None, prev # type: ignore\n",
    "        while curr:\n",
    "            resultBwd.append(curr.val)\n",
    "            prev, curr = curr, curr.prev\n",
    "\n",
    "        assert resultFwd == list(reversed(resultBwd)), \"Not a valid DLL\"\n",
    "        return resultFwd"
   ]
  },
  {
   "cell_type": "markdown",
   "id": "3bd55ce0",
   "metadata": {
    "papermill": {
     "duration": 0.009116,
     "end_time": "2024-05-31T01:13:31.851190",
     "exception": false,
     "start_time": "2024-05-31T01:13:31.842074",
     "status": "completed"
    },
    "tags": []
   },
   "source": [
    "Convert an array to Linked list"
   ]
  },
  {
   "cell_type": "code",
   "execution_count": 4,
   "id": "59dfeb8f",
   "metadata": {
    "execution": {
     "iopub.execute_input": "2024-05-31T01:13:31.870903Z",
     "iopub.status.busy": "2024-05-31T01:13:31.870473Z",
     "iopub.status.idle": "2024-05-31T01:13:31.874110Z",
     "shell.execute_reply": "2024-05-31T01:13:31.873642Z"
    },
    "lines_to_next_cell": 1,
    "papermill": {
     "duration": 0.014869,
     "end_time": "2024-05-31T01:13:31.875219",
     "exception": false,
     "start_time": "2024-05-31T01:13:31.860350",
     "status": "completed"
    },
    "tags": []
   },
   "outputs": [],
   "source": [
    "def constructLL(arr: list[int]) -> ListNode|None:\n",
    "    head: \"ListNode\" | None = None\n",
    "    tail = head\n",
    "\n",
    "    for n in arr:\n",
    "        curr = ListNode(n)\n",
    "        if not tail:\n",
    "            head = tail = curr\n",
    "        else:\n",
    "            tail.next = curr\n",
    "            tail = curr\n",
    "\n",
    "    return head"
   ]
  },
  {
   "cell_type": "markdown",
   "id": "0c090b60",
   "metadata": {
    "papermill": {
     "duration": 0.009322,
     "end_time": "2024-05-31T01:13:31.893716",
     "exception": false,
     "start_time": "2024-05-31T01:13:31.884394",
     "status": "completed"
    },
    "tags": []
   },
   "source": [
    "Length of LL"
   ]
  },
  {
   "cell_type": "code",
   "execution_count": 5,
   "id": "d41e087f",
   "metadata": {
    "execution": {
     "iopub.execute_input": "2024-05-31T01:13:31.913549Z",
     "iopub.status.busy": "2024-05-31T01:13:31.913056Z",
     "iopub.status.idle": "2024-05-31T01:13:31.916706Z",
     "shell.execute_reply": "2024-05-31T01:13:31.916272Z"
    },
    "lines_to_next_cell": 1,
    "papermill": {
     "duration": 0.014999,
     "end_time": "2024-05-31T01:13:31.917866",
     "exception": false,
     "start_time": "2024-05-31T01:13:31.902867",
     "status": "completed"
    },
    "tags": []
   },
   "outputs": [],
   "source": [
    "def lengthOfLL(head: ListNode) -> int:\n",
    "    curr = head\n",
    "    count = 0\n",
    "    while curr:\n",
    "        curr = curr.next\n",
    "        count += 1\n",
    "\n",
    "    return count\n",
    "\n",
    "# Testing the solution\n",
    "assert lengthOfLL(ListNode.to_singly_linked_list([1,2,3,4,5])) == 5"
   ]
  },
  {
   "cell_type": "markdown",
   "id": "bd9565da",
   "metadata": {
    "papermill": {
     "duration": 0.009087,
     "end_time": "2024-05-31T01:13:31.936271",
     "exception": false,
     "start_time": "2024-05-31T01:13:31.927184",
     "status": "completed"
    },
    "tags": []
   },
   "source": [
    "Search in a linked list"
   ]
  },
  {
   "cell_type": "code",
   "execution_count": 6,
   "id": "1137b6e9",
   "metadata": {
    "execution": {
     "iopub.execute_input": "2024-05-31T01:13:31.955744Z",
     "iopub.status.busy": "2024-05-31T01:13:31.955261Z",
     "iopub.status.idle": "2024-05-31T01:13:31.959449Z",
     "shell.execute_reply": "2024-05-31T01:13:31.958882Z"
    },
    "lines_to_next_cell": 1,
    "papermill": {
     "duration": 0.01531,
     "end_time": "2024-05-31T01:13:31.960600",
     "exception": false,
     "start_time": "2024-05-31T01:13:31.945290",
     "status": "completed"
    },
    "tags": []
   },
   "outputs": [],
   "source": [
    "def searchInLinkedList(head: ListNode, k: int):\n",
    "    curr = head\n",
    "    while curr:\n",
    "        if curr.val == k:\n",
    "            return 1\n",
    "        else:\n",
    "            curr = curr.next\n",
    "\n",
    "    return 0\n",
    "\n",
    "# Testing the solution\n",
    "assert searchInLinkedList(ListNode.to_singly_linked_list([1,2,3,4]), 4) == 1"
   ]
  },
  {
   "cell_type": "markdown",
   "id": "73478462",
   "metadata": {
    "papermill": {
     "duration": 0.009178,
     "end_time": "2024-05-31T01:13:31.979074",
     "exception": false,
     "start_time": "2024-05-31T01:13:31.969896",
     "status": "completed"
    },
    "tags": []
   },
   "source": [
    "Delete a node from linked list\n",
    "https://www.geeksforgeeks.org/problems/delete-a-node-in-single-linked-list/1"
   ]
  },
  {
   "cell_type": "code",
   "execution_count": 7,
   "id": "5bd512fc",
   "metadata": {
    "execution": {
     "iopub.execute_input": "2024-05-31T01:13:31.998160Z",
     "iopub.status.busy": "2024-05-31T01:13:31.997981Z",
     "iopub.status.idle": "2024-05-31T01:13:32.003070Z",
     "shell.execute_reply": "2024-05-31T01:13:32.002610Z"
    },
    "lines_to_next_cell": 1,
    "papermill": {
     "duration": 0.01606,
     "end_time": "2024-05-31T01:13:32.004138",
     "exception": false,
     "start_time": "2024-05-31T01:13:31.988078",
     "status": "completed"
    },
    "tags": []
   },
   "outputs": [],
   "source": [
    "def delNodePos(head: ListNode, k: int):\n",
    "    if not head or k == 0:\n",
    "        return head\n",
    "    elif k == 1:\n",
    "        return head.next\n",
    "    else:\n",
    "        count: int = 0\n",
    "        prev: ListNode|None = None\n",
    "        curr: ListNode|None = head\n",
    "\n",
    "        while curr:\n",
    "            count += 1\n",
    "            if count == k and prev:\n",
    "                prev.next = prev.next.next\n",
    "                break\n",
    "            else:\n",
    "                prev, curr = curr, curr.next\n",
    "\n",
    "        return head\n",
    "\n",
    "# Testing the solution\n",
    "assert delNodePos(ListNode.to_singly_linked_list([1,2]), 2).to_list() == [1]\n",
    "assert delNodePos(ListNode.to_singly_linked_list([1,2]), 1).to_list() == [2]\n",
    "assert delNodePos(ListNode.to_singly_linked_list([1]), 1) is None\n",
    "assert delNodePos(ListNode.to_singly_linked_list([1]), 10).to_list() == [1]\n",
    "assert delNodePos(ListNode.to_singly_linked_list([1,2,3]), 10).to_list() == [1,2,3]"
   ]
  },
  {
   "cell_type": "markdown",
   "id": "6ea5a2c5",
   "metadata": {
    "papermill": {
     "duration": 0.009245,
     "end_time": "2024-05-31T01:13:32.022519",
     "exception": false,
     "start_time": "2024-05-31T01:13:32.013274",
     "status": "completed"
    },
    "tags": []
   },
   "source": [
    "Delete node by value"
   ]
  },
  {
   "cell_type": "code",
   "execution_count": 8,
   "id": "420f38cf",
   "metadata": {
    "execution": {
     "iopub.execute_input": "2024-05-31T01:13:32.041626Z",
     "iopub.status.busy": "2024-05-31T01:13:32.041416Z",
     "iopub.status.idle": "2024-05-31T01:13:32.046526Z",
     "shell.execute_reply": "2024-05-31T01:13:32.046081Z"
    },
    "lines_to_next_cell": 1,
    "papermill": {
     "duration": 0.015929,
     "end_time": "2024-05-31T01:13:32.047553",
     "exception": false,
     "start_time": "2024-05-31T01:13:32.031624",
     "status": "completed"
    },
    "tags": []
   },
   "outputs": [],
   "source": [
    "def delNodeVal(head: ListNode, val: int):\n",
    "    if not head:\n",
    "        return head\n",
    "    elif head.val == val:\n",
    "        return head.next\n",
    "    else:\n",
    "        prev: ListNode|None = None\n",
    "        curr: ListNode|None = head\n",
    "        while curr:\n",
    "            if curr.val == val and prev:\n",
    "                prev.next = prev.next.next\n",
    "                break\n",
    "            else:\n",
    "                prev, curr = curr, curr.next\n",
    "\n",
    "        return head\n",
    "\n",
    "# Testing the solution\n",
    "assert delNodeVal(ListNode.to_singly_linked_list([1,2]), 2).to_list() == [1]\n",
    "assert delNodeVal(ListNode.to_singly_linked_list([1,2]), 1).to_list() == [2]\n",
    "assert delNodeVal(ListNode.to_singly_linked_list([1]), 1) is None\n",
    "assert delNodeVal(ListNode.to_singly_linked_list([1]), 10).to_list() == [1]\n",
    "assert delNodeVal(ListNode.to_singly_linked_list([1,2,3]), 3).to_list() == [1,2]"
   ]
  },
  {
   "cell_type": "markdown",
   "id": "53646359",
   "metadata": {
    "papermill": {
     "duration": 0.009353,
     "end_time": "2024-05-31T01:13:32.066049",
     "exception": false,
     "start_time": "2024-05-31T01:13:32.056696",
     "status": "completed"
    },
    "tags": []
   },
   "source": [
    "Inserting into a linked list"
   ]
  },
  {
   "cell_type": "code",
   "execution_count": 9,
   "id": "9de3ec91",
   "metadata": {
    "execution": {
     "iopub.execute_input": "2024-05-31T01:13:32.085811Z",
     "iopub.status.busy": "2024-05-31T01:13:32.085329Z",
     "iopub.status.idle": "2024-05-31T01:13:32.090094Z",
     "shell.execute_reply": "2024-05-31T01:13:32.089556Z"
    },
    "lines_to_next_cell": 1,
    "papermill": {
     "duration": 0.015868,
     "end_time": "2024-05-31T01:13:32.091145",
     "exception": false,
     "start_time": "2024-05-31T01:13:32.075277",
     "status": "completed"
    },
    "tags": []
   },
   "outputs": [],
   "source": [
    "def insertNode(head: ListNode, N: int, pos: int, val: int) -> ListNode:\n",
    "    node = ListNode(val)\n",
    "    if pos == 0:\n",
    "        node.next = head\n",
    "        return node\n",
    "    else:\n",
    "        prev: ListNode|None = None\n",
    "        curr: ListNode|None = head\n",
    "\n",
    "        count = 0\n",
    "        while count < pos:\n",
    "            count += 1\n",
    "            if curr:\n",
    "                prev, curr = curr, curr.next\n",
    "\n",
    "        if prev:\n",
    "            prev.next = node\n",
    "            node.next = curr\n",
    "\n",
    "        return head\n",
    "\n",
    "# Testing the solution\n",
    "assert insertNode(ListNode.to_singly_linked_list([1,2,3,4]), 4, 0, 0).to_list() == [0,1,2,3,4]\n",
    "assert insertNode(ListNode.to_singly_linked_list([]), 0, 0, 0).to_list() == [0]"
   ]
  },
  {
   "cell_type": "markdown",
   "id": "80af1929",
   "metadata": {
    "papermill": {
     "duration": 0.009084,
     "end_time": "2024-05-31T01:13:32.109496",
     "exception": false,
     "start_time": "2024-05-31T01:13:32.100412",
     "status": "completed"
    },
    "tags": []
   },
   "source": [
    "### Doubly Linked List\n",
    "Construct doubly linked list from array"
   ]
  },
  {
   "cell_type": "code",
   "execution_count": 10,
   "id": "1d2d3de2",
   "metadata": {
    "execution": {
     "iopub.execute_input": "2024-05-31T01:13:32.128798Z",
     "iopub.status.busy": "2024-05-31T01:13:32.128483Z",
     "iopub.status.idle": "2024-05-31T01:13:32.132505Z",
     "shell.execute_reply": "2024-05-31T01:13:32.131954Z"
    },
    "lines_to_next_cell": 1,
    "papermill": {
     "duration": 0.015083,
     "end_time": "2024-05-31T01:13:32.133683",
     "exception": false,
     "start_time": "2024-05-31T01:13:32.118600",
     "status": "completed"
    },
    "tags": []
   },
   "outputs": [],
   "source": [
    "def constructDLL(arr: list[int]) -> DLLNode:\n",
    "    head: DLLNode|None =  None\n",
    "    prev: DLLNode|None =  None\n",
    "\n",
    "    for n in arr:\n",
    "        curr = DLLNode(n)\n",
    "        if prev:\n",
    "            prev.next = curr\n",
    "            curr.prev = prev\n",
    "        else:\n",
    "            head = curr\n",
    "        prev = curr\n",
    "\n",
    "    return head # type: ignore\n",
    "\n",
    "# Testing the solution\n",
    "assert constructDLL([1,2,3,4,5]).to_list() == [1,2,3,4,5]"
   ]
  },
  {
   "cell_type": "markdown",
   "id": "57e40a96",
   "metadata": {
    "papermill": {
     "duration": 0.009284,
     "end_time": "2024-05-31T01:13:32.152219",
     "exception": false,
     "start_time": "2024-05-31T01:13:32.142935",
     "status": "completed"
    },
    "tags": []
   },
   "source": [
    "Inserting into a Doubly linked list"
   ]
  },
  {
   "cell_type": "code",
   "execution_count": 11,
   "id": "eeae0793",
   "metadata": {
    "execution": {
     "iopub.execute_input": "2024-05-31T01:13:32.171850Z",
     "iopub.status.busy": "2024-05-31T01:13:32.171359Z",
     "iopub.status.idle": "2024-05-31T01:13:32.175769Z",
     "shell.execute_reply": "2024-05-31T01:13:32.175327Z"
    },
    "lines_to_next_cell": 1,
    "papermill": {
     "duration": 0.015536,
     "end_time": "2024-05-31T01:13:32.176846",
     "exception": false,
     "start_time": "2024-05-31T01:13:32.161310",
     "status": "completed"
    },
    "tags": []
   },
   "outputs": [],
   "source": [
    "def addDLLNode(head: DLLNode, p: int, data: int) -> DLLNode:\n",
    "    node: DLLNode = DLLNode(data)\n",
    "    prev: DLLNode = head\n",
    "\n",
    "    while p > 0:\n",
    "        p -= 1\n",
    "        prev = prev.next\n",
    "\n",
    "    next_ = prev.next\n",
    "    node.next = next_\n",
    "    prev.next = node\n",
    "    node.prev = prev\n",
    "\n",
    "    if next_:\n",
    "        next_.prev = node\n",
    "\n",
    "    return head\n",
    "\n",
    "# Testing the solution\n",
    "assert addDLLNode(DLLNode.to_doubly_linked_list([2,4,5]), 2, 6).to_list() == [2,4,5,6]"
   ]
  },
  {
   "cell_type": "markdown",
   "id": "4cebaf84",
   "metadata": {
    "papermill": {
     "duration": 0.009282,
     "end_time": "2024-05-31T01:13:32.195568",
     "exception": false,
     "start_time": "2024-05-31T01:13:32.186286",
     "status": "completed"
    },
    "tags": []
   },
   "source": [
    "Deleting from a doubly linked list\n",
    "```\n",
    "Easier way still would be to write all edge cases specifically\n",
    "If curr is null (and prev, next are null), we have no nodes to delete\n",
    "If prev and next is null, we have only 1 node to delete\n",
    "If prev is null, we are to delete the head node\n",
    "If next is null, we are to delete the tail node\n",
    "```"
   ]
  },
  {
   "cell_type": "code",
   "execution_count": 12,
   "id": "5e1cf229",
   "metadata": {
    "execution": {
     "iopub.execute_input": "2024-05-31T01:13:32.217340Z",
     "iopub.status.busy": "2024-05-31T01:13:32.216858Z",
     "iopub.status.idle": "2024-05-31T01:13:32.221346Z",
     "shell.execute_reply": "2024-05-31T01:13:32.220824Z"
    },
    "lines_to_next_cell": 1,
    "papermill": {
     "duration": 0.01716,
     "end_time": "2024-05-31T01:13:32.222496",
     "exception": false,
     "start_time": "2024-05-31T01:13:32.205336",
     "status": "completed"
    },
    "tags": []
   },
   "outputs": [],
   "source": [
    "def deleteDLLNode(head: DLLNode, p: int):\n",
    "    curr: DLLNode = head\n",
    "\n",
    "    count = p\n",
    "    while count > 0:\n",
    "        count -= 1\n",
    "        curr = curr.next\n",
    "\n",
    "    prev = curr.prev\n",
    "    next_ = curr.next\n",
    "\n",
    "    if prev:\n",
    "        prev.next = next_\n",
    "    if next_:\n",
    "        next_.prev = prev\n",
    "\n",
    "    return head if p > 0 else head.next\n",
    "\n",
    "# Testing the solution\n",
    "assert deleteDLLNode(DLLNode.to_doubly_linked_list([1,2]), 1).to_list() == [1]\n",
    "assert deleteDLLNode(DLLNode.to_doubly_linked_list([1,2]), 0).to_list() == [2]\n",
    "assert deleteDLLNode(DLLNode.to_doubly_linked_list([1]), 0) is None"
   ]
  },
  {
   "cell_type": "markdown",
   "id": "dfa8d518",
   "metadata": {
    "papermill": {
     "duration": 0.009165,
     "end_time": "2024-05-31T01:13:32.240812",
     "exception": false,
     "start_time": "2024-05-31T01:13:32.231647",
     "status": "completed"
    },
    "tags": []
   },
   "source": [
    "Reverse a DLL\n",
    "Video Link: https://youtu.be/u3WUW2qe6ww?si=80DlW_QGoHKnBDjY"
   ]
  },
  {
   "cell_type": "code",
   "execution_count": 13,
   "id": "aac2ae31",
   "metadata": {
    "execution": {
     "iopub.execute_input": "2024-05-31T01:13:32.260002Z",
     "iopub.status.busy": "2024-05-31T01:13:32.259604Z",
     "iopub.status.idle": "2024-05-31T01:13:32.263646Z",
     "shell.execute_reply": "2024-05-31T01:13:32.263205Z"
    },
    "lines_to_next_cell": 1,
    "papermill": {
     "duration": 0.014797,
     "end_time": "2024-05-31T01:13:32.264698",
     "exception": false,
     "start_time": "2024-05-31T01:13:32.249901",
     "status": "completed"
    },
    "tags": []
   },
   "outputs": [],
   "source": [
    "def reverseDLL(head: DLLNode) -> DLLNode:\n",
    "    prev: DLLNode = None # type: ignore\n",
    "    curr: DLLNode = head\n",
    "\n",
    "    while curr:\n",
    "        curr.next, curr.prev = prev, curr.next\n",
    "        prev, curr = curr, curr.prev\n",
    "\n",
    "    return prev\n",
    "\n",
    "# Testing the solution\n",
    "assert reverseDLL(DLLNode.to_doubly_linked_list([1,2])).to_list() == [2,1]\n",
    "assert reverseDLL(DLLNode.to_doubly_linked_list([2])).to_list() == [2]\n",
    "assert reverseDLL(DLLNode.to_doubly_linked_list([1,2,3,4])).to_list() == [4,3,2,1]\n",
    "assert reverseDLL(DLLNode.to_doubly_linked_list([])) is None"
   ]
  },
  {
   "cell_type": "markdown",
   "id": "5c7d5007",
   "metadata": {
    "papermill": {
     "duration": 0.009082,
     "end_time": "2024-05-31T01:13:32.282949",
     "exception": false,
     "start_time": "2024-05-31T01:13:32.273867",
     "status": "completed"
    },
    "tags": []
   },
   "source": [
    "Add two numbers\n",
    "Video Link: https://youtu.be/XmRrGzR6udg?si=0Wc8Sp_7v8a_2kPp"
   ]
  },
  {
   "cell_type": "code",
   "execution_count": 14,
   "id": "2a271620",
   "metadata": {
    "execution": {
     "iopub.execute_input": "2024-05-31T01:13:32.318090Z",
     "iopub.status.busy": "2024-05-31T01:13:32.317595Z",
     "iopub.status.idle": "2024-05-31T01:13:32.323040Z",
     "shell.execute_reply": "2024-05-31T01:13:32.322492Z"
    },
    "lines_to_next_cell": 1,
    "papermill": {
     "duration": 0.016745,
     "end_time": "2024-05-31T01:13:32.324062",
     "exception": false,
     "start_time": "2024-05-31T01:13:32.307317",
     "status": "completed"
    },
    "tags": []
   },
   "outputs": [],
   "source": [
    "def addTwoNumbers(head1: ListNode, head2: ListNode) -> ListNode:\n",
    "    n1, n2 = head1, head2\n",
    "    sum_head: ListNode|None = None\n",
    "    sum_node: ListNode|None = None\n",
    "    carry_forward = 0\n",
    "\n",
    "    # Carry_forward is kept here so that in cases where both are exhausted \n",
    "    # and we still have 1 (say 5 + 5, both are exhausted but carry exists)\n",
    "    while n1 or n2 or carry_forward:\n",
    "        sum_ = carry_forward\n",
    "\n",
    "        if n1:\n",
    "            sum_ += n1.val\n",
    "            n1 = n1.next\n",
    "        if n2:\n",
    "            sum_ += n2.val\n",
    "            n2 = n2.next\n",
    "\n",
    "        sum_, carry_forward = sum_ % 10, sum_ // 10\n",
    "        curr = ListNode(sum_)\n",
    "        if not sum_node:\n",
    "            sum_head = sum_node = curr\n",
    "        else:\n",
    "            sum_node.next = curr\n",
    "            sum_node = curr\n",
    "\n",
    "    return sum_head # type: ignore\n",
    "\n",
    "# Testing the solution\n",
    "assert addTwoNumbers(ListNode.to_singly_linked_list([2,4,6]), ListNode.to_singly_linked_list([3,8,7])).to_list() == [5,2,4,1]\n",
    "assert addTwoNumbers(ListNode.to_singly_linked_list([3,5]), ListNode.to_singly_linked_list([4,5,9,9])).to_list() == [7,0,0,0,1]"
   ]
  },
  {
   "cell_type": "markdown",
   "id": "0d492d94",
   "metadata": {
    "papermill": {
     "duration": 0.009268,
     "end_time": "2024-05-31T01:13:32.342608",
     "exception": false,
     "start_time": "2024-05-31T01:13:32.333340",
     "status": "completed"
    },
    "tags": []
   },
   "source": [
    "Odd Even Linked List: https://leetcode.com/problems/odd-even-linked-list/description/\n",
    "Video Link: https://youtu.be/qf6qp7GzD5Q?si=f0kxJQ7bJ8JSSZGe"
   ]
  },
  {
   "cell_type": "code",
   "execution_count": 15,
   "id": "ed28b236",
   "metadata": {
    "execution": {
     "iopub.execute_input": "2024-05-31T01:13:32.362039Z",
     "iopub.status.busy": "2024-05-31T01:13:32.361702Z",
     "iopub.status.idle": "2024-05-31T01:13:32.366557Z",
     "shell.execute_reply": "2024-05-31T01:13:32.366067Z"
    },
    "lines_to_next_cell": 1,
    "papermill": {
     "duration": 0.015887,
     "end_time": "2024-05-31T01:13:32.367655",
     "exception": false,
     "start_time": "2024-05-31T01:13:32.351768",
     "status": "completed"
    },
    "tags": []
   },
   "outputs": [],
   "source": [
    "# https://leetcode.com/problems/odd-even-linked-list/submissions/1268536963/\n",
    "def oddEvenList(head: ListNode) -> ListNode:\n",
    "    \"\"\"\n",
    "    The trick here lies in the fact that we should alter the links instead of\n",
    "    trying to alter the values, since we need a O(1) Space, O(N) time complexity.\n",
    "    \"\"\"\n",
    "\n",
    "    # Handling edge case\n",
    "    if not head:\n",
    "        return head\n",
    "\n",
    "    # Split work into creating the even and odd LLs\n",
    "    oddHead = odd = head\n",
    "    evenHead = even = head.next\n",
    "\n",
    "    # It is possible that we iterate until we reach either odd or even\n",
    "    # Checking for even makes code simpler, odd makes it more messy\n",
    "    while even and even.next:\n",
    "        odd.next = odd.next.next\n",
    "        even.next = even.next.next\n",
    "        even, odd = even.next, odd.next\n",
    "\n",
    "    # Once odd and even LL are constructed, odd next should point to evenHead\n",
    "    odd.next = evenHead # type: ignore\n",
    "    return oddHead\n",
    "\n",
    "# Testing the solution\n",
    "assert oddEvenList(ListNode.to_singly_linked_list([1,2,3,4,5])).to_list() == [1,3,5,2,4]\n",
    "assert oddEvenList(ListNode.to_singly_linked_list([1,2,3,4])).to_list() == [1,3,2,4]\n",
    "assert oddEvenList(ListNode.to_singly_linked_list([1,2])).to_list() == [1,2]\n",
    "assert oddEvenList(ListNode.to_singly_linked_list([1])).to_list() == [1]"
   ]
  },
  {
   "cell_type": "markdown",
   "id": "da1e9ff5",
   "metadata": {
    "papermill": {
     "duration": 0.009294,
     "end_time": "2024-05-31T01:13:32.386146",
     "exception": false,
     "start_time": "2024-05-31T01:13:32.376852",
     "status": "completed"
    },
    "tags": []
   },
   "source": [
    "Sorted linked list of 0s, 1s, 2s"
   ]
  },
  {
   "cell_type": "code",
   "execution_count": 16,
   "id": "283f2b99",
   "metadata": {
    "execution": {
     "iopub.execute_input": "2024-05-31T01:13:32.405624Z",
     "iopub.status.busy": "2024-05-31T01:13:32.405259Z",
     "iopub.status.idle": "2024-05-31T01:13:32.410222Z",
     "shell.execute_reply": "2024-05-31T01:13:32.409676Z"
    },
    "lines_to_next_cell": 1,
    "papermill": {
     "duration": 0.016058,
     "end_time": "2024-05-31T01:13:32.411228",
     "exception": false,
     "start_time": "2024-05-31T01:13:32.395170",
     "status": "completed"
    },
    "tags": []
   },
   "outputs": [],
   "source": [
    "def sortList012Idea1(head: ListNode) -> ListNode:\n",
    "    count0 = count1 = count2 = 0\n",
    "\n",
    "    # Iterate and compute the counts\n",
    "    curr = head\n",
    "    while curr:\n",
    "        if curr.val == 0:\n",
    "            count0 += 1\n",
    "        elif curr.val == 1:\n",
    "            count1 += 1\n",
    "        else:\n",
    "            count2 += 1\n",
    "        curr = curr.next\n",
    "\n",
    "    # Replace the values\n",
    "    curr = head\n",
    "    while curr:\n",
    "        if count0 > 0:\n",
    "            curr.val, count0 = 0, count0 - 1\n",
    "        elif count1 > 0:\n",
    "            curr.val, count1 = 1, count1 - 1\n",
    "        else:\n",
    "            curr.val, count2 = 2, count2 - 1\n",
    "        curr = curr.next\n",
    "\n",
    "    return head\n",
    "\n",
    "# Testing the solution\n",
    "assert sortList012Idea1(ListNode.to_singly_linked_list([1,0,2,1,0,1,0,2])).to_list() == [0,0,0,1,1,1,2,2]\n",
    "assert sortList012Idea1(ListNode.to_singly_linked_list([2,1])).to_list() == [1,2]"
   ]
  },
  {
   "cell_type": "code",
   "execution_count": 17,
   "id": "04a13e4d",
   "metadata": {
    "execution": {
     "iopub.execute_input": "2024-05-31T01:13:32.430966Z",
     "iopub.status.busy": "2024-05-31T01:13:32.430626Z",
     "iopub.status.idle": "2024-05-31T01:13:32.435070Z",
     "shell.execute_reply": "2024-05-31T01:13:32.434555Z"
    },
    "lines_to_next_cell": 1,
    "papermill": {
     "duration": 0.015627,
     "end_time": "2024-05-31T01:13:32.436115",
     "exception": false,
     "start_time": "2024-05-31T01:13:32.420488",
     "status": "completed"
    },
    "tags": []
   },
   "outputs": [],
   "source": [
    "def sortList012Idea2(head: ListNode) -> ListNode:\n",
    "\n",
    "    # Maintain position until which the LL is sorted\n",
    "    sorted_end: ListNode = head\n",
    "\n",
    "    # Sort 0s\n",
    "    curr = sorted_end\n",
    "    while curr:\n",
    "        if curr.val == 0:\n",
    "            sorted_end.val, curr.val = curr.val, sorted_end.val\n",
    "            sorted_end = sorted_end.next\n",
    "        curr = curr.next\n",
    "\n",
    "    # Sort 1s\n",
    "    curr = sorted_end\n",
    "    while curr:\n",
    "        if curr.val == 1:\n",
    "            sorted_end.val, curr.val = curr.val, sorted_end.val\n",
    "            sorted_end = sorted_end.next\n",
    "        curr = curr.next\n",
    "\n",
    "    return head\n",
    "\n",
    "# Testing the solution\n",
    "assert sortList012Idea2(ListNode.to_singly_linked_list([1,0,2,1,0,1,0,2])).to_list() == [0,0,0,1,1,1,2,2]\n",
    "assert sortList012Idea2(ListNode.to_singly_linked_list([2,1])).to_list() == [1,2]"
   ]
  },
  {
   "cell_type": "code",
   "execution_count": 18,
   "id": "5b07c320",
   "metadata": {
    "execution": {
     "iopub.execute_input": "2024-05-31T01:13:32.455444Z",
     "iopub.status.busy": "2024-05-31T01:13:32.455123Z",
     "iopub.status.idle": "2024-05-31T01:13:32.460727Z",
     "shell.execute_reply": "2024-05-31T01:13:32.460311Z"
    },
    "lines_to_next_cell": 1,
    "papermill": {
     "duration": 0.016546,
     "end_time": "2024-05-31T01:13:32.461827",
     "exception": false,
     "start_time": "2024-05-31T01:13:32.445281",
     "status": "completed"
    },
    "tags": []
   },
   "outputs": [],
   "source": [
    "# Striver Idea 3: One pass solution, similar to odd even list problem\n",
    "def sortList012Idea3(head: ListNode) -> ListNode:\n",
    "    # Time: O(N), Space: O(1)\n",
    "    head0: ListNode = None # type: ignore\n",
    "    head1: ListNode = None # type: ignore\n",
    "    head2: ListNode = None # type: ignore\n",
    "\n",
    "    curr = head\n",
    "    zero = one = two = None\n",
    "    while curr:\n",
    "        next_ = curr.next\n",
    "        if curr.val == 0:\n",
    "            if not zero:\n",
    "                head0 = zero = curr\n",
    "            else:\n",
    "                zero.next = curr\n",
    "                zero = curr\n",
    "        elif curr.val == 1:\n",
    "            if not one:\n",
    "                head1 = one = curr\n",
    "            else:\n",
    "                one.next = curr\n",
    "                one = curr\n",
    "        else:\n",
    "            if not two:\n",
    "                head2 = two = curr\n",
    "            else:\n",
    "                two.next = curr\n",
    "                two = curr\n",
    "\n",
    "        curr.next, curr = None, next_\n",
    "\n",
    "    if zero:\n",
    "        zero.next = head1\n",
    "    if one:\n",
    "        one.next = head2\n",
    "\n",
    "    return head0 if head0 else head1 if head1 else head2\n",
    "\n",
    "# Testing the solution\n",
    "assert sortList012Idea3(ListNode.to_singly_linked_list([1,0,2,1,0,1,0,2])).to_list() == [0,0,0,1,1,1,2,2]\n",
    "assert sortList012Idea3(ListNode.to_singly_linked_list([2,1])).to_list() == [1,2]\n",
    "assert sortList012Idea3(ListNode.to_singly_linked_list([1,0])).to_list() == [0,1]"
   ]
  },
  {
   "cell_type": "markdown",
   "id": "5f9ff800",
   "metadata": {
    "papermill": {
     "duration": 0.009197,
     "end_time": "2024-05-31T01:13:32.480166",
     "exception": false,
     "start_time": "2024-05-31T01:13:32.470969",
     "status": "completed"
    },
    "tags": []
   },
   "source": [
    "Remove Nth node from the end of the linked list\n",
    "Video Link: https://youtu.be/3kMKYQ2wNIU?si=njmZ0_XKAc1S0dZo\n",
    "Ideas:\n",
    "1. Delete N - kth node\n",
    "2. Reverse the LL, delete kth node and reverse again\n",
    "3. Recursively assign numbers to node, while returning skip node if number == N - k\n",
    "4. Store all nodes into a hashmap. Compute len of LL, delete node and return head\n",
    "5. Striver's Approach"
   ]
  },
  {
   "cell_type": "code",
   "execution_count": 19,
   "id": "75b0f078",
   "metadata": {
    "execution": {
     "iopub.execute_input": "2024-05-31T01:13:32.499530Z",
     "iopub.status.busy": "2024-05-31T01:13:32.499203Z",
     "iopub.status.idle": "2024-05-31T01:13:32.504135Z",
     "shell.execute_reply": "2024-05-31T01:13:32.503597Z"
    },
    "lines_to_next_cell": 1,
    "papermill": {
     "duration": 0.015964,
     "end_time": "2024-05-31T01:13:32.505289",
     "exception": false,
     "start_time": "2024-05-31T01:13:32.489325",
     "status": "completed"
    },
    "tags": []
   },
   "outputs": [],
   "source": [
    "# https://leetcode.com/problems/remove-nth-node-from-end-of-list/submissions\n",
    "def removeNthFromEndIdea1(head: ListNode, k: int) -> ListNode:\n",
    "    # Compute the length\n",
    "    N, curr = 0, head\n",
    "    while curr:\n",
    "        N, curr = N + 1, curr.next\n",
    "\n",
    "    # Delete N - kth node\n",
    "    count, prev, curr = 0, None, head\n",
    "    while count < N - k:\n",
    "        count += 1\n",
    "        prev, curr = curr, curr.next\n",
    "\n",
    "    # Delete 1st Node (idx - 0)\n",
    "    if not prev:\n",
    "        head = curr.next\n",
    "\n",
    "    # Delete any other node\n",
    "    else:\n",
    "        prev.next = curr.next\n",
    "\n",
    "    return head\n",
    "\n",
    "# Testing the solution\n",
    "assert removeNthFromEndIdea1(ListNode.to_singly_linked_list([1,2,3,4,5]), 2).to_list() == [1,2,3,5]\n",
    "assert removeNthFromEndIdea1(ListNode.to_singly_linked_list([1,2,3,4,5]), 5).to_list() == [2,3,4,5]\n",
    "assert removeNthFromEndIdea1(ListNode.to_singly_linked_list([1,2,3,4,5]), 1).to_list() == [1,2,3,4]\n",
    "assert removeNthFromEndIdea1(ListNode.to_singly_linked_list([1]), 1) is None"
   ]
  },
  {
   "cell_type": "code",
   "execution_count": 20,
   "id": "7b9ce41b",
   "metadata": {
    "execution": {
     "iopub.execute_input": "2024-05-31T01:13:32.524786Z",
     "iopub.status.busy": "2024-05-31T01:13:32.524457Z",
     "iopub.status.idle": "2024-05-31T01:13:32.529775Z",
     "shell.execute_reply": "2024-05-31T01:13:32.529247Z"
    },
    "lines_to_next_cell": 1,
    "papermill": {
     "duration": 0.01635,
     "end_time": "2024-05-31T01:13:32.530965",
     "exception": false,
     "start_time": "2024-05-31T01:13:32.514615",
     "status": "completed"
    },
    "tags": []
   },
   "outputs": [],
   "source": [
    "def removeNthFromEndIdea4(head: ListNode, k: int) -> ListNode:\n",
    "    # Store the current, prev for all positions\n",
    "    prevs: dict[int, tuple[ListNode|None, ListNode|None]] = dict()\n",
    "    N, prev, curr = 0, None, head\n",
    "    while curr:\n",
    "        prevs[N] = prev, curr\n",
    "        prev, curr, N = curr, curr.next, N + 1\n",
    "\n",
    "    # Delete kth node from back => N - k from front\n",
    "    prev, curr = prevs[N - k]\n",
    "    if prev:\n",
    "        prev.next = curr.next\n",
    "    else:\n",
    "        head = head.next\n",
    "\n",
    "    return head\n",
    "\n",
    "# Testing the solution\n",
    "assert removeNthFromEndIdea4(ListNode.to_singly_linked_list([1,2,3,4,5]), 2).to_list() == [1,2,3,5]\n",
    "assert removeNthFromEndIdea4(ListNode.to_singly_linked_list([1,2,3,4,5]), 5).to_list() == [2,3,4,5]\n",
    "assert removeNthFromEndIdea4(ListNode.to_singly_linked_list([1,2,3,4,5]), 1).to_list() == [1,2,3,4]\n",
    "assert removeNthFromEndIdea4(ListNode.to_singly_linked_list([1]), 1) is None"
   ]
  },
  {
   "cell_type": "code",
   "execution_count": 21,
   "id": "ca7f81f2",
   "metadata": {
    "execution": {
     "iopub.execute_input": "2024-05-31T01:13:32.550663Z",
     "iopub.status.busy": "2024-05-31T01:13:32.550483Z",
     "iopub.status.idle": "2024-05-31T01:13:32.555556Z",
     "shell.execute_reply": "2024-05-31T01:13:32.555117Z"
    },
    "lines_to_next_cell": 1,
    "papermill": {
     "duration": 0.016193,
     "end_time": "2024-05-31T01:13:32.556608",
     "exception": false,
     "start_time": "2024-05-31T01:13:32.540415",
     "status": "completed"
    },
    "tags": []
   },
   "outputs": [],
   "source": [
    "# https://leetcode.com/problems/remove-nth-node-from-end-of-list/submissions/1269029952\n",
    "def removeNthFromEndIdea5(head: ListNode, k: int) -> ListNode:\n",
    "    \"\"\"\n",
    "    Target is to reach kth node from the end.\n",
    "    [_, _, _, _, _], k = 2\n",
    "              *\n",
    "\n",
    "    Add a second pointer to the end.\n",
    "    [_, _, _, _, _] _\n",
    "              *     #\n",
    "\n",
    "    Shift left until * reaches 0, we see a gap of k - 1.\n",
    "    [_, _, _, _, _] _\n",
    "     *     #\n",
    "\n",
    "    Hence the idea:\n",
    "        1. Iterate a fast pointer k times.\n",
    "        2. Add a second slow pointer.\n",
    "        3. Start iterating both the fast and slow pointers simaltaneously until fast reaches end.\n",
    "        4. Slow pointer would now point at the node to be deleted.\n",
    "    \"\"\"\n",
    "\n",
    "    # Iterate k times\n",
    "    count = 0\n",
    "    fast = head\n",
    "    while count < k:\n",
    "        count += 1\n",
    "        fast = fast.next\n",
    "\n",
    "    # Add a second pointer slow, move fast and slow together until fast hits end\n",
    "    prev, slow = None, head\n",
    "    while fast:\n",
    "        prev, slow, fast = slow, slow.next, fast.next\n",
    "\n",
    "    # Delete 1st Node (idx - 0)\n",
    "    if not prev:\n",
    "        head = head.next\n",
    "    # Delete any other node\n",
    "    else:\n",
    "        prev.next = slow.next\n",
    "\n",
    "    return head\n",
    "\n",
    "# Testing the solution\n",
    "assert removeNthFromEndIdea5(ListNode.to_singly_linked_list([1,2,3,4,5]), 2).to_list() == [1,2,3,5]\n",
    "assert removeNthFromEndIdea5(ListNode.to_singly_linked_list([1,2,3,4,5]), 5).to_list() == [2,3,4,5]\n",
    "assert removeNthFromEndIdea5(ListNode.to_singly_linked_list([1,2,3,4,5]), 1).to_list() == [1,2,3,4]\n",
    "assert removeNthFromEndIdea5(ListNode.to_singly_linked_list([1]), 1) is None"
   ]
  },
  {
   "cell_type": "markdown",
   "id": "b934ca84",
   "metadata": {
    "papermill": {
     "duration": 0.009293,
     "end_time": "2024-05-31T01:13:32.575255",
     "exception": false,
     "start_time": "2024-05-31T01:13:32.565962",
     "status": "completed"
    },
    "tags": []
   },
   "source": [
    "Reverse a linked list\n",
    "Video Link: https://youtu.be/D2vI2DNJGd8?si=9usE4WRYEPSsmoPW"
   ]
  },
  {
   "cell_type": "code",
   "execution_count": 22,
   "id": "8327b0f1",
   "metadata": {
    "execution": {
     "iopub.execute_input": "2024-05-31T01:13:32.594586Z",
     "iopub.status.busy": "2024-05-31T01:13:32.594124Z",
     "iopub.status.idle": "2024-05-31T01:13:32.598427Z",
     "shell.execute_reply": "2024-05-31T01:13:32.597995Z"
    },
    "lines_to_next_cell": 1,
    "papermill": {
     "duration": 0.015152,
     "end_time": "2024-05-31T01:13:32.599458",
     "exception": false,
     "start_time": "2024-05-31T01:13:32.584306",
     "status": "completed"
    },
    "tags": []
   },
   "outputs": [],
   "source": [
    "# https://leetcode.com/problems/reverse-linked-list/submissions/1269437666/\n",
    "def reverseListRecurse(curr: ListNode) -> ListNode:\n",
    "    \"\"\"\n",
    "    Time: O(N), Space: O(N)\n",
    "    \"\"\"\n",
    "    # Store the next_ node for reversing in the future\n",
    "    if not curr or not curr.next:\n",
    "        return curr\n",
    "    else:\n",
    "        root = reverseListRecurse(curr.next)\n",
    "        curr.next.next = curr\n",
    "        curr.next = None\n",
    "        return root\n",
    "\n",
    "# Testing the solution\n",
    "assert reverseListRecurse(ListNode.to_singly_linked_list([1,2,3,4,5])).to_list() == [5,4,3,2,1]\n",
    "assert reverseListRecurse(ListNode.to_singly_linked_list([1])).to_list() == [1]\n",
    "assert reverseListRecurse(ListNode.to_singly_linked_list([1,2])).to_list() == [2,1]\n",
    "assert reverseListRecurse(ListNode.to_singly_linked_list([])) is None"
   ]
  },
  {
   "cell_type": "code",
   "execution_count": 23,
   "id": "edb937c7",
   "metadata": {
    "execution": {
     "iopub.execute_input": "2024-05-31T01:13:32.618793Z",
     "iopub.status.busy": "2024-05-31T01:13:32.618464Z",
     "iopub.status.idle": "2024-05-31T01:13:32.622577Z",
     "shell.execute_reply": "2024-05-31T01:13:32.622125Z"
    },
    "lines_to_next_cell": 1,
    "papermill": {
     "duration": 0.015072,
     "end_time": "2024-05-31T01:13:32.623704",
     "exception": false,
     "start_time": "2024-05-31T01:13:32.608632",
     "status": "completed"
    },
    "tags": []
   },
   "outputs": [],
   "source": [
    "# https://leetcode.com/problems/reverse-linked-list/submissions/1269442108/\n",
    "def reverseListIter(head: ListNode) -> ListNode:\n",
    "    \"\"\"\n",
    "    Time: O(N), Space: O(1)\n",
    "    \"\"\"\n",
    "    prev: ListNode|None = None\n",
    "    curr: ListNode|None = head\n",
    "    while curr:\n",
    "        next_ = curr.next\n",
    "        curr.next = prev\n",
    "        prev, curr = curr, next_\n",
    "\n",
    "    return prev # type: ignore\n",
    "\n",
    "# Testing the solution\n",
    "assert reverseListIter(ListNode.to_singly_linked_list([1,2,3,4,5])).to_list() == [5,4,3,2,1]\n",
    "assert reverseListIter(ListNode.to_singly_linked_list([1])).to_list() == [1]\n",
    "assert reverseListIter(ListNode.to_singly_linked_list([1,2])).to_list() == [2,1]\n",
    "assert reverseListIter(ListNode.to_singly_linked_list([])) is None"
   ]
  },
  {
   "cell_type": "markdown",
   "id": "9fa31e87",
   "metadata": {
    "papermill": {
     "duration": 0.009335,
     "end_time": "2024-05-31T01:13:32.642264",
     "exception": false,
     "start_time": "2024-05-31T01:13:32.632929",
     "status": "completed"
    },
    "tags": []
   },
   "source": [
    "Palindrome Linked List"
   ]
  },
  {
   "cell_type": "code",
   "execution_count": 24,
   "id": "c1bf8469",
   "metadata": {
    "execution": {
     "iopub.execute_input": "2024-05-31T01:13:32.661653Z",
     "iopub.status.busy": "2024-05-31T01:13:32.661427Z",
     "iopub.status.idle": "2024-05-31T01:13:32.667166Z",
     "shell.execute_reply": "2024-05-31T01:13:32.666732Z"
    },
    "lines_to_next_cell": 1,
    "papermill": {
     "duration": 0.016697,
     "end_time": "2024-05-31T01:13:32.668191",
     "exception": false,
     "start_time": "2024-05-31T01:13:32.651494",
     "status": "completed"
    },
    "tags": []
   },
   "outputs": [],
   "source": [
    "# https://leetcode.com/problems/palindrome-linked-list/submissions/1269504641/\n",
    "def isPalindromeIter(head: ListNode) -> bool:\n",
    "    \"\"\"\n",
    "    Use slow and fast pointers to find the middle of LL.\n",
    "    Make sure that we reverse the linkedlist as the slow pointer moves.\n",
    "\n",
    "    Update post watching striver: Before returning the solution return the\n",
    "    reversed portion back to normal (best practice)\n",
    "    \"\"\"\n",
    "    if not head.next:\n",
    "        return True\n",
    "    else:\n",
    "        slow = fast = head\n",
    "        slow_prev: ListNode|None = None\n",
    "        fast_prev: ListNode|None = None\n",
    "        while fast and fast.next:\n",
    "            # Fast pointer moves as usual\n",
    "            fast_prev, fast = fast.next, fast.next.next\n",
    "\n",
    "            # As slow moves along, reverse the LL\n",
    "            slow_next = slow.next\n",
    "            slow.next = slow_prev\n",
    "            slow_prev, slow = slow, slow_next\n",
    "\n",
    "        if fast: # odd length\n",
    "            slow, fast = slow_prev, slow.next # type: ignore\n",
    "        else: # even length\n",
    "            slow, fast = slow_prev, slow # type: ignore\n",
    "\n",
    "        while fast and slow:\n",
    "            if fast.val != slow.val:\n",
    "                return False\n",
    "            else:\n",
    "                fast, slow = fast.next, slow.next\n",
    "\n",
    "        return True\n",
    "\n",
    "# Testing the solution\n",
    "assert isPalindromeIter(ListNode.to_singly_linked_list([1,2,3,2,1])) == True\n",
    "assert isPalindromeIter(ListNode.to_singly_linked_list([1,2,3,4,1])) == False\n",
    "assert isPalindromeIter(ListNode.to_singly_linked_list([1,2,2,1])) == True\n",
    "assert isPalindromeIter(ListNode.to_singly_linked_list([1,2,2,2])) == False\n",
    "assert isPalindromeIter(ListNode.to_singly_linked_list([1,2])) == False\n",
    "assert isPalindromeIter(ListNode.to_singly_linked_list([1,1])) == True"
   ]
  },
  {
   "cell_type": "code",
   "execution_count": 25,
   "id": "a979ac07",
   "metadata": {
    "execution": {
     "iopub.execute_input": "2024-05-31T01:13:32.687649Z",
     "iopub.status.busy": "2024-05-31T01:13:32.687317Z",
     "iopub.status.idle": "2024-05-31T01:13:32.691985Z",
     "shell.execute_reply": "2024-05-31T01:13:32.691470Z"
    },
    "lines_to_next_cell": 1,
    "papermill": {
     "duration": 0.015388,
     "end_time": "2024-05-31T01:13:32.692991",
     "exception": false,
     "start_time": "2024-05-31T01:13:32.677603",
     "status": "completed"
    },
    "tags": []
   },
   "outputs": [],
   "source": [
    "# https://leetcode.com/problems/palindrome-linked-list/submissions/1269543768\n",
    "def isPalindromeRecursive(head: ListNode) -> bool:\n",
    "    curr_ = head\n",
    "    def backtrack(curr: ListNode) -> bool:\n",
    "        if not curr:\n",
    "            return True\n",
    "        else:\n",
    "            nonlocal curr_\n",
    "            result = backtrack(curr.next) and curr.val == curr_.val\n",
    "            curr_ = curr_.next\n",
    "            return result\n",
    "\n",
    "    return backtrack(head)\n",
    "\n",
    "# Testing the solution\n",
    "assert isPalindromeRecursive(ListNode.to_singly_linked_list([1,2,3,2,1])) == True\n",
    "assert isPalindromeRecursive(ListNode.to_singly_linked_list([1,2,3,4,1])) == False\n",
    "assert isPalindromeRecursive(ListNode.to_singly_linked_list([1,2,2,1])) == True\n",
    "assert isPalindromeRecursive(ListNode.to_singly_linked_list([1,2,2,2])) == False\n",
    "assert isPalindromeRecursive(ListNode.to_singly_linked_list([1,2])) == False\n",
    "assert isPalindromeRecursive(ListNode.to_singly_linked_list([1,1])) == True"
   ]
  },
  {
   "cell_type": "markdown",
   "id": "d549ddf5",
   "metadata": {
    "papermill": {
     "duration": 0.00923,
     "end_time": "2024-05-31T01:13:32.711428",
     "exception": false,
     "start_time": "2024-05-31T01:13:32.702198",
     "status": "completed"
    },
    "tags": []
   },
   "source": [
    "Add one: https://youtu.be/aXQWhbvT3w0?si=VxL8WQhPa15JP7Nl"
   ]
  },
  {
   "cell_type": "code",
   "execution_count": 26,
   "id": "ec4aa5bd",
   "metadata": {
    "execution": {
     "iopub.execute_input": "2024-05-31T01:13:32.730928Z",
     "iopub.status.busy": "2024-05-31T01:13:32.730418Z",
     "iopub.status.idle": "2024-05-31T01:13:32.734291Z",
     "shell.execute_reply": "2024-05-31T01:13:32.733863Z"
    },
    "lines_to_next_cell": 1,
    "papermill": {
     "duration": 0.014693,
     "end_time": "2024-05-31T01:13:32.735299",
     "exception": false,
     "start_time": "2024-05-31T01:13:32.720606",
     "status": "completed"
    },
    "tags": []
   },
   "outputs": [],
   "source": [
    "def addOneRecursive(head: ListNode) -> ListNode:\n",
    "    def backtrack(curr: ListNode) -> int:\n",
    "        if not curr:\n",
    "            return 1\n",
    "        else:\n",
    "            value = curr.val + backtrack(curr.next)\n",
    "            curr.val = value % 10\n",
    "            return value // 10\n",
    "\n",
    "    carry = backtrack(head)\n",
    "    return ListNode(carry, head) if carry else head\n",
    "\n",
    "# Testing the solution\n",
    "assert addOneRecursive(ListNode.to_singly_linked_list([9])).to_list() == [1,0]\n",
    "assert addOneRecursive(ListNode.to_singly_linked_list([0])).to_list() == [1]"
   ]
  },
  {
   "cell_type": "code",
   "execution_count": 27,
   "id": "7d6145a8",
   "metadata": {
    "execution": {
     "iopub.execute_input": "2024-05-31T01:13:32.754772Z",
     "iopub.status.busy": "2024-05-31T01:13:32.754424Z",
     "iopub.status.idle": "2024-05-31T01:13:32.759004Z",
     "shell.execute_reply": "2024-05-31T01:13:32.758560Z"
    },
    "lines_to_next_cell": 1,
    "papermill": {
     "duration": 0.015523,
     "end_time": "2024-05-31T01:13:32.760097",
     "exception": false,
     "start_time": "2024-05-31T01:13:32.744574",
     "status": "completed"
    },
    "tags": []
   },
   "outputs": [],
   "source": [
    "def addOneIter(head: ListNode) -> ListNode:\n",
    "    def reverseLL(root: ListNode) -> ListNode:\n",
    "        prev, curr = None, root\n",
    "        while curr:\n",
    "            next_ = curr.next\n",
    "            curr.next = prev\n",
    "            prev, curr = curr, next_\n",
    "\n",
    "        return prev # type: ignore\n",
    "\n",
    "    rev_head = curr = reverseLL(head)\n",
    "\n",
    "    # Add 1 to reversed head and move forward\n",
    "    prev, carry = None, 1\n",
    "    while curr:\n",
    "        value = curr.val + carry\n",
    "        carry, curr.val = value // 10, value % 10\n",
    "        prev, curr = curr, curr.next\n",
    "\n",
    "    if carry and prev:\n",
    "        prev.next = ListNode(carry)\n",
    "\n",
    "    return reverseLL(rev_head)\n",
    "\n",
    "# Testing the solution\n",
    "assert addOneIter(ListNode.to_singly_linked_list([9])).to_list() == [1,0]\n",
    "assert addOneIter(ListNode.to_singly_linked_list([0])).to_list() == [1]"
   ]
  },
  {
   "cell_type": "markdown",
   "id": "f6fa4b2a",
   "metadata": {
    "papermill": {
     "duration": 0.009373,
     "end_time": "2024-05-31T01:13:32.778817",
     "exception": false,
     "start_time": "2024-05-31T01:13:32.769444",
     "status": "completed"
    },
    "tags": []
   },
   "source": [
    "Find intersection point of two linked lists: https://leetcode.com/problems/intersection-of-two-linked-lists/\n",
    "Video Link: https://youtu.be/0DYoPz2Tpt4?si=Xb8Vkn3dRvw57Se8"
   ]
  },
  {
   "cell_type": "markdown",
   "id": "7e7a074f",
   "metadata": {
    "papermill": {
     "duration": 0.009109,
     "end_time": "2024-05-31T01:13:32.797023",
     "exception": false,
     "start_time": "2024-05-31T01:13:32.787914",
     "status": "completed"
    },
    "tags": []
   },
   "source": [
    "Code snippet for generating test cases relevant to this problem"
   ]
  },
  {
   "cell_type": "code",
   "execution_count": 28,
   "id": "df06d967",
   "metadata": {
    "execution": {
     "iopub.execute_input": "2024-05-31T01:13:32.816287Z",
     "iopub.status.busy": "2024-05-31T01:13:32.815943Z",
     "iopub.status.idle": "2024-05-31T01:13:32.820502Z",
     "shell.execute_reply": "2024-05-31T01:13:32.819984Z"
    },
    "papermill": {
     "duration": 0.015437,
     "end_time": "2024-05-31T01:13:32.821561",
     "exception": false,
     "start_time": "2024-05-31T01:13:32.806124",
     "status": "completed"
    },
    "tags": []
   },
   "outputs": [],
   "source": [
    "def generateTestCasesForGetIntersectionNodes() -> tuple[ListNode, ListNode, ListNode]:\n",
    "    \"\"\"\n",
    "    1. Generate a list of ListNodes\n",
    "    2. Split the list into 3 groups (headA, headB, common)\n",
    "    3. Tail of both headA and headB points to common\n",
    "    \"\"\"\n",
    "\n",
    "    N = random.randint(5, 20)\n",
    "    nodes = [random.randint(1, 100) for i in range(N)]\n",
    "    common_length = random.randint(0, N - 2)\n",
    "    lenA = random.randint(1, N - common_length - 1)\n",
    "    lenB = N - common_length - lenA\n",
    "\n",
    "    headA = ListNode.to_singly_linked_list(nodes[:lenA])\n",
    "    headB = ListNode.to_singly_linked_list(nodes[lenA:lenA + lenB])\n",
    "    common = ListNode.to_singly_linked_list(nodes[lenA + lenB:])\n",
    "\n",
    "    if common:\n",
    "        currA = headA\n",
    "        while currA.next:\n",
    "            currA = currA.next\n",
    "\n",
    "        currB = headB\n",
    "        while currB.next:\n",
    "            currB = currB.next\n",
    "\n",
    "        currA.next = currB.next = common\n",
    "\n",
    "    return headA, headB, common"
   ]
  },
  {
   "cell_type": "code",
   "execution_count": 29,
   "id": "dc25919d",
   "metadata": {
    "execution": {
     "iopub.execute_input": "2024-05-31T01:13:32.840886Z",
     "iopub.status.busy": "2024-05-31T01:13:32.840508Z",
     "iopub.status.idle": "2024-05-31T01:13:32.845457Z",
     "shell.execute_reply": "2024-05-31T01:13:32.844935Z"
    },
    "lines_to_next_cell": 1,
    "papermill": {
     "duration": 0.015784,
     "end_time": "2024-05-31T01:13:32.846556",
     "exception": false,
     "start_time": "2024-05-31T01:13:32.830772",
     "status": "completed"
    },
    "tags": []
   },
   "outputs": [],
   "source": [
    "# https://leetcode.com/problems/intersection-of-two-linked-lists/submissions/1270019723\n",
    "def getIntersectionNode(headA: ListNode, headB: ListNode) -> ListNode|None:\n",
    "    \"\"\"\n",
    "    Compute the length of both nodes.\n",
    "    The problem is the different sizes of the LL, so move the longer one until both lengths are equal.\n",
    "    Start iterating and stop at the point where both nodes are the same.\n",
    "    \"\"\"\n",
    "    # Compute lengths of both LL\n",
    "    N1, curr = 0, headA\n",
    "    while curr:\n",
    "        N1, curr = N1 + 1, curr.next\n",
    "\n",
    "    # Compute lengths of both LL\n",
    "    N2, curr = 0, headB\n",
    "    while curr:\n",
    "        N2, curr = N2 + 1, curr.next\n",
    "\n",
    "    # Start iterating until there is a match\n",
    "    currA = headA\n",
    "    currB = headB\n",
    "    while currA != currB:\n",
    "        if N1 == N2:\n",
    "            currA, currB = currA.next, currB.next\n",
    "        elif N1 > N2:\n",
    "            currA = currA.next\n",
    "            N1 -= 1\n",
    "        else:\n",
    "            currB = currB.next\n",
    "            N2 -= 1\n",
    "\n",
    "    return currA\n",
    "\n",
    "# Testing the solution\n",
    "for i in range(20):\n",
    "    tempA, tempB, common = generateTestCasesForGetIntersectionNodes()\n",
    "    assert getIntersectionNode(tempA, tempB) == common"
   ]
  },
  {
   "cell_type": "code",
   "execution_count": 30,
   "id": "ddbe2569",
   "metadata": {
    "execution": {
     "iopub.execute_input": "2024-05-31T01:13:32.866067Z",
     "iopub.status.busy": "2024-05-31T01:13:32.865726Z",
     "iopub.status.idle": "2024-05-31T01:13:32.870160Z",
     "shell.execute_reply": "2024-05-31T01:13:32.869650Z"
    },
    "lines_to_next_cell": 1,
    "papermill": {
     "duration": 0.015396,
     "end_time": "2024-05-31T01:13:32.871205",
     "exception": false,
     "start_time": "2024-05-31T01:13:32.855809",
     "status": "completed"
    },
    "tags": []
   },
   "outputs": [],
   "source": [
    "def getIntersectionNodeStriver(headA: ListNode, headB: ListNode) -> ListNode|None:\n",
    "    \"\"\"\n",
    "    Iterate currA, currB simaltaneously\n",
    "    If currA and currB reaches null together return null\n",
    "    Otherwise move currA to beginning of headB when currA hits null else move currB to beginning of headA when currB hits null\n",
    "\n",
    "    They align with shifting the pointers to the other LLs because:\n",
    "        - Assume diff between the len as d\n",
    "        - Shorter pointer will hit null first and reach the head of longer Linked list, longer pointer would still be d steps behind (at the longer LL).\n",
    "        - By the time longer pointer hits the shorter LL's head, shorter pointer would have travelled d steps in the longer linked list thus aligning together.\n",
    "\n",
    "    Time Complexity: O (M + N) (each pointer travels length of LL1 and LL2, but simaltaneously)\n",
    "    Space Complexity: O(1)\n",
    "    \"\"\"\n",
    "    currA, currB = headA, headB\n",
    "    while currA or currB:\n",
    "        if currA == currB:\n",
    "            return currA\n",
    "        elif not currA:\n",
    "            currA = headB\n",
    "        elif not currB:\n",
    "            currB = headA\n",
    "        else:\n",
    "            currA, currB = currA.next, currB.next\n",
    "    return None\n",
    "\n",
    "# Testing the solution\n",
    "for i in range(20):\n",
    "    tempA, tempB, common = generateTestCasesForGetIntersectionNodes()\n",
    "    assert getIntersectionNodeStriver(tempA, tempB) == common"
   ]
  },
  {
   "cell_type": "markdown",
   "id": "cbf674eb",
   "metadata": {
    "papermill": {
     "duration": 0.009354,
     "end_time": "2024-05-31T01:13:32.889841",
     "exception": false,
     "start_time": "2024-05-31T01:13:32.880487",
     "status": "completed"
    },
    "tags": []
   },
   "source": [
    "Middle of a linked list: https://leetcode.com/problems/middle-of-the-linked-list/\n",
    "Video Link: https://youtu.be/7LjQ57RqgEc?si=5CaPgtXPsfwLGqPJ "
   ]
  },
  {
   "cell_type": "code",
   "execution_count": 31,
   "id": "42d42838",
   "metadata": {
    "execution": {
     "iopub.execute_input": "2024-05-31T01:13:32.909414Z",
     "iopub.status.busy": "2024-05-31T01:13:32.908959Z",
     "iopub.status.idle": "2024-05-31T01:13:32.912718Z",
     "shell.execute_reply": "2024-05-31T01:13:32.912294Z"
    },
    "lines_to_next_cell": 1,
    "papermill": {
     "duration": 0.014851,
     "end_time": "2024-05-31T01:13:32.913835",
     "exception": false,
     "start_time": "2024-05-31T01:13:32.898984",
     "status": "completed"
    },
    "tags": []
   },
   "outputs": [],
   "source": [
    "def middleNode(head: ListNode) -> ListNode:\n",
    "    # Tortoise and hair algorithm\n",
    "    slow = fast = head\n",
    "    while fast and fast.next:\n",
    "        slow, fast = slow.next, fast.next.next\n",
    "\n",
    "    return slow\n",
    "\n",
    "# Testing the solution\n",
    "assert middleNode(ListNode.to_singly_linked_list([1,2,3,4])).val == 3\n",
    "assert middleNode(ListNode.to_singly_linked_list([1,2,3])).val == 2\n",
    "assert middleNode(ListNode.to_singly_linked_list([1])).val == 1"
   ]
  },
  {
   "cell_type": "markdown",
   "id": "07ca0d01",
   "metadata": {
    "papermill": {
     "duration": 0.009172,
     "end_time": "2024-05-31T01:13:32.932235",
     "exception": false,
     "start_time": "2024-05-31T01:13:32.923063",
     "status": "completed"
    },
    "tags": []
   },
   "source": [
    "Detect cycle"
   ]
  },
  {
   "cell_type": "markdown",
   "id": "a5f83af7",
   "metadata": {
    "papermill": {
     "duration": 0.009213,
     "end_time": "2024-05-31T01:13:32.950569",
     "exception": false,
     "start_time": "2024-05-31T01:13:32.941356",
     "status": "completed"
    },
    "tags": []
   },
   "source": [
    "Function to generate test cases for LL with cycles"
   ]
  },
  {
   "cell_type": "code",
   "execution_count": 32,
   "id": "ccde5409",
   "metadata": {
    "execution": {
     "iopub.execute_input": "2024-05-31T01:13:32.970082Z",
     "iopub.status.busy": "2024-05-31T01:13:32.969619Z",
     "iopub.status.idle": "2024-05-31T01:13:32.974012Z",
     "shell.execute_reply": "2024-05-31T01:13:32.973605Z"
    },
    "lines_to_next_cell": 1,
    "papermill": {
     "duration": 0.015372,
     "end_time": "2024-05-31T01:13:32.975054",
     "exception": false,
     "start_time": "2024-05-31T01:13:32.959682",
     "status": "completed"
    },
    "tags": []
   },
   "outputs": [],
   "source": [
    "def generateTestCasesForHasCycle() -> tuple[ListNode, bool, int]:\n",
    "    cycle = random.random() > 0.5\n",
    "    N = random.randint(2, 25)\n",
    "    head = ListNode.to_singly_linked_list([random.randint(1, 50) for i in range(N)])\n",
    "\n",
    "    if cycle:\n",
    "        cycle_end = random.randint(0, N - 1)\n",
    "        cycle_end_node = None\n",
    "        count, prev, curr = 0, None, head\n",
    "        while curr:\n",
    "            if count == cycle_end:\n",
    "                cycle_end_node = curr\n",
    "            prev, curr = curr, curr.next\n",
    "            count += 1\n",
    "        prev.next = cycle_end_node # type: ignore\n",
    "\n",
    "    else:\n",
    "        cycle_end = N\n",
    "\n",
    "    return head, cycle, N - cycle_end"
   ]
  },
  {
   "cell_type": "code",
   "execution_count": 33,
   "id": "6bf15063",
   "metadata": {
    "execution": {
     "iopub.execute_input": "2024-05-31T01:13:32.994813Z",
     "iopub.status.busy": "2024-05-31T01:13:32.994363Z",
     "iopub.status.idle": "2024-05-31T01:13:32.998472Z",
     "shell.execute_reply": "2024-05-31T01:13:32.998020Z"
    },
    "lines_to_next_cell": 1,
    "papermill": {
     "duration": 0.015173,
     "end_time": "2024-05-31T01:13:32.999539",
     "exception": false,
     "start_time": "2024-05-31T01:13:32.984366",
     "status": "completed"
    },
    "tags": []
   },
   "outputs": [],
   "source": [
    "# https://leetcode.com/problems/linked-list-cycle/submissions/1270124229/\n",
    "def hasCycle(head: ListNode) -> bool:\n",
    "    \"\"\"\n",
    "    Once inside cycle fast and slow will always collide, reason being\n",
    "    At each step, slow is moving away from fast at rate of 1 unit distance. Fast is\n",
    "    moving towards slow at a rate of 2 unit distances. Net diff is -1. Distance is slowly\n",
    "    closed in by the fast pointer until they evenutally reach.\n",
    "\n",
    "    This happens only because slow moves by 1 step and fast moves by 2 steps, so as to keep the\n",
    "    net diff as 1.\n",
    "    \"\"\"\n",
    "    slow = fast = head\n",
    "    while slow and fast and fast.next:\n",
    "        slow, fast = slow.next, fast.next.next\n",
    "        if slow == fast:\n",
    "            return True\n",
    "\n",
    "    return False\n",
    "\n",
    "# Testing the solution\n",
    "for i in range(20):\n",
    "    temp, result, _ = generateTestCasesForHasCycle()\n",
    "    assert hasCycle(temp) == result"
   ]
  },
  {
   "cell_type": "markdown",
   "id": "d4704b18",
   "metadata": {
    "papermill": {
     "duration": 0.009226,
     "end_time": "2024-05-31T01:13:33.018032",
     "exception": false,
     "start_time": "2024-05-31T01:13:33.008806",
     "status": "completed"
    },
    "tags": []
   },
   "source": [
    "Find the length of the LL\n",
    "Video Link: https://youtu.be/I4g1qbkTPus?si=GVUwRbb-TQ_Ko7md\n",
    "Brute force: Store node and time. When a node is revisited, return curr_time - past_time for the length"
   ]
  },
  {
   "cell_type": "code",
   "execution_count": 34,
   "id": "c473e001",
   "metadata": {
    "execution": {
     "iopub.execute_input": "2024-05-31T01:13:33.037393Z",
     "iopub.status.busy": "2024-05-31T01:13:33.037200Z",
     "iopub.status.idle": "2024-05-31T01:13:33.041429Z",
     "shell.execute_reply": "2024-05-31T01:13:33.041009Z"
    },
    "lines_to_next_cell": 1,
    "papermill": {
     "duration": 0.015197,
     "end_time": "2024-05-31T01:13:33.042460",
     "exception": false,
     "start_time": "2024-05-31T01:13:33.027263",
     "status": "completed"
    },
    "tags": []
   },
   "outputs": [],
   "source": [
    "def countNodesinLoop(head: ListNode) -> int:\n",
    "    # Find a point of intersection\n",
    "    slow = fast = head\n",
    "    while fast and fast.next:\n",
    "        slow, fast = slow.next, fast.next.next\n",
    "        if slow == fast:\n",
    "            break\n",
    "\n",
    "    # Count number of nodes in loop\n",
    "    if not fast or not fast.next:\n",
    "        return 0\n",
    "    else:\n",
    "        count = 1\n",
    "        curr = fast.next\n",
    "        while curr != fast:\n",
    "            curr, count = curr.next, count + 1\n",
    "        return count\n",
    "\n",
    "# Testing the solution\n",
    "for i in range(20):\n",
    "    temp, result, cycle_length = generateTestCasesForHasCycle()\n",
    "    assert countNodesinLoop(temp) == cycle_length"
   ]
  },
  {
   "cell_type": "markdown",
   "id": "3d4d86ad",
   "metadata": {
    "papermill": {
     "duration": 0.00933,
     "end_time": "2024-05-31T01:13:33.061053",
     "exception": false,
     "start_time": "2024-05-31T01:13:33.051723",
     "status": "completed"
    },
    "tags": []
   },
   "source": [
    "Delete the middle node of a LL: https://leetcode.com/problems/delete-the-middle-node-of-a-linked-list/\n",
    "Video Link: https://youtu.be/ePpV-_pfOeI?si=CrCPJnN2MA38JYZh"
   ]
  },
  {
   "cell_type": "code",
   "execution_count": 35,
   "id": "ac21940a",
   "metadata": {
    "execution": {
     "iopub.execute_input": "2024-05-31T01:13:33.080849Z",
     "iopub.status.busy": "2024-05-31T01:13:33.080456Z",
     "iopub.status.idle": "2024-05-31T01:13:33.084951Z",
     "shell.execute_reply": "2024-05-31T01:13:33.084486Z"
    },
    "lines_to_next_cell": 1,
    "papermill": {
     "duration": 0.01569,
     "end_time": "2024-05-31T01:13:33.086044",
     "exception": false,
     "start_time": "2024-05-31T01:13:33.070354",
     "status": "completed"
    },
    "tags": []
   },
   "outputs": [],
   "source": [
    "# https://leetcode.com/problems/delete-the-middle-node-of-a-linked-list/submissions/1270182161\n",
    "def deleteMiddle(head: ListNode) -> ListNode:\n",
    "    # Tortoise and hare to find the node's middle\n",
    "    prev = None\n",
    "    slow = fast = head\n",
    "    while fast and fast.next:\n",
    "        prev, slow, fast = slow, slow.next, fast.next.next\n",
    "\n",
    "    # Delete the node\n",
    "    if not prev:\n",
    "        head = head.next\n",
    "    else:\n",
    "        prev.next = prev.next.next\n",
    "\n",
    "    return head\n",
    "\n",
    "# Testing the solution\n",
    "assert deleteMiddle(ListNode.to_singly_linked_list([1,3,4,7,1,2,6])).to_list() == [1,3,4,1,2,6]\n",
    "assert deleteMiddle(ListNode.to_singly_linked_list([1,2,3,4])).to_list() == [1,2,4]\n",
    "assert deleteMiddle(ListNode.to_singly_linked_list([2,1])).to_list() == [2]"
   ]
  },
  {
   "cell_type": "markdown",
   "id": "79fcca0d",
   "metadata": {
    "papermill": {
     "duration": 0.009213,
     "end_time": "2024-05-31T01:13:33.104649",
     "exception": false,
     "start_time": "2024-05-31T01:13:33.095436",
     "status": "completed"
    },
    "tags": []
   },
   "source": [
    "Find starting point of a loop / cycle\n",
    "Video Link: https://youtu.be/2Kd0KKmmHFc?si=9XzuefTJpWk7vgEI"
   ]
  },
  {
   "cell_type": "code",
   "execution_count": 36,
   "id": "4ea0855f",
   "metadata": {
    "execution": {
     "iopub.execute_input": "2024-05-31T01:13:33.123929Z",
     "iopub.status.busy": "2024-05-31T01:13:33.123563Z",
     "iopub.status.idle": "2024-05-31T01:13:33.126984Z",
     "shell.execute_reply": "2024-05-31T01:13:33.126542Z"
    },
    "lines_to_next_cell": 1,
    "papermill": {
     "duration": 0.014312,
     "end_time": "2024-05-31T01:13:33.128082",
     "exception": false,
     "start_time": "2024-05-31T01:13:33.113770",
     "status": "completed"
    },
    "tags": []
   },
   "outputs": [],
   "source": [
    "def detectCycleStartBrute(head: ListNode) -> ListNode|None:\n",
    "    set_: set[ListNode] = set()\n",
    "    curr = head\n",
    "    while curr:\n",
    "        if curr not in set_:\n",
    "            set_.add(curr)\n",
    "            curr = curr.next\n",
    "        else:\n",
    "            return curr\n",
    "    return None"
   ]
  },
  {
   "cell_type": "code",
   "execution_count": 37,
   "id": "ceabaf44",
   "metadata": {
    "execution": {
     "iopub.execute_input": "2024-05-31T01:13:33.147459Z",
     "iopub.status.busy": "2024-05-31T01:13:33.147143Z",
     "iopub.status.idle": "2024-05-31T01:13:33.151886Z",
     "shell.execute_reply": "2024-05-31T01:13:33.151365Z"
    },
    "lines_to_next_cell": 1,
    "papermill": {
     "duration": 0.015642,
     "end_time": "2024-05-31T01:13:33.152919",
     "exception": false,
     "start_time": "2024-05-31T01:13:33.137277",
     "status": "completed"
    },
    "tags": []
   },
   "outputs": [],
   "source": [
    "# https://leetcode.com/problems/linked-list-cycle-ii/submissions/1270513369\n",
    "def detectCycleStart(head: ListNode) -> ListNode|None:\n",
    "    \"\"\"\n",
    "    1. Init fast and slow pointers, iterate until they collide\n",
    "    2. Init a new pointer and move it simaltaneously along with the slow pointer until they both intersect. This would be the point of intersection.\n",
    "\n",
    "    For intution watch the video from 16:00\n",
    "    - When the slow pointer reaches the start of the loop (L distance), the fast pointer would have traversed L distance into the loop.\n",
    "    - Assume distance between fast pointer and start of the loop is 'd'.\n",
    "    - We iterate until fast and slow collide. When they collide, slow would have traversed 'd' units and fast would have traversed '2d' units, reason being the d distance is covered by slow pointer a ta pace of 1 unit at a time which fast moving 2 units at a time and takes 2 * d units of travel.\n",
    "    - Total length of loop is L + d. At collision, slow pointer would be d units into the loop or in other words: L units away from the start of the loop.\n",
    "    - We move slow (L units away from start of loop) and start iterating from the head (L units from start of loop).\n",
    "    - They are at equal distance and would collide at start of the loop.\n",
    "    \"\"\"\n",
    "    # Fast and slow pointer algorithm until collision\n",
    "    slow = fast = head\n",
    "    while fast and fast.next:\n",
    "        slow, fast = slow.next, fast.next.next\n",
    "        if slow == fast:\n",
    "            break\n",
    "\n",
    "    # We have reached an intersecting node, we iterate slow and new pointer at head until we intersect again\n",
    "    if fast and fast.next:\n",
    "        curr = head\n",
    "        while curr != slow:\n",
    "            curr, slow = curr.next, slow.next\n",
    "        return curr\n",
    "    else:\n",
    "        return None\n",
    "\n",
    "# Testing the solution\n",
    "for i in range(20):\n",
    "    temp, _, _ = generateTestCasesForHasCycle()\n",
    "    detectCycleStartBrute(temp) == detectCycleStart(temp)"
   ]
  },
  {
   "cell_type": "markdown",
   "id": "4a5b91af",
   "metadata": {
    "papermill": {
     "duration": 0.009242,
     "end_time": "2024-05-31T01:13:33.171363",
     "exception": false,
     "start_time": "2024-05-31T01:13:33.162121",
     "status": "completed"
    },
    "tags": []
   },
   "source": [
    "Delete all occurances of key from DLL\n",
    "Video Link: https://youtu.be/Mh0NH_SD92k?si=EOHv42dLQgWo2hfo"
   ]
  },
  {
   "cell_type": "code",
   "execution_count": 38,
   "id": "8afd6d09",
   "metadata": {
    "execution": {
     "iopub.execute_input": "2024-05-31T01:13:33.191087Z",
     "iopub.status.busy": "2024-05-31T01:13:33.190655Z",
     "iopub.status.idle": "2024-05-31T01:13:33.195203Z",
     "shell.execute_reply": "2024-05-31T01:13:33.194717Z"
    },
    "lines_to_next_cell": 1,
    "papermill": {
     "duration": 0.015626,
     "end_time": "2024-05-31T01:13:33.196322",
     "exception": false,
     "start_time": "2024-05-31T01:13:33.180696",
     "status": "completed"
    },
    "tags": []
   },
   "outputs": [],
   "source": [
    "def deleteAllOccurrences(head: DLLNode, k: int) -> DLLNode:\n",
    "    curr = head\n",
    "    while curr:\n",
    "        if curr.val == k:\n",
    "            prev, next_ = curr.prev, curr.next\n",
    "            if not prev:\n",
    "                head = head.next\n",
    "            if prev:\n",
    "                prev.next = next_\n",
    "            if next_:\n",
    "                next_.prev = prev\n",
    "        curr = curr.next\n",
    "\n",
    "    return head\n",
    "\n",
    "# Testing the solution\n",
    "assert deleteAllOccurrences(DLLNode.to_doubly_linked_list([1,2,3,1,1,5,1]), 1).to_list() == [2,3,5]\n",
    "assert deleteAllOccurrences(DLLNode.to_doubly_linked_list([1,1,5,1]), 1).to_list() == [5]"
   ]
  },
  {
   "cell_type": "markdown",
   "id": "c24d725f",
   "metadata": {
    "papermill": {
     "duration": 0.009493,
     "end_time": "2024-05-31T01:13:33.215498",
     "exception": false,
     "start_time": "2024-05-31T01:13:33.206005",
     "status": "completed"
    },
    "tags": []
   },
   "source": [
    "Find all pairs that sum to pair\n",
    "Video Link: https://youtu.be/YitR4dQsddE?si=hKS4D96sIRLllVkU"
   ]
  },
  {
   "cell_type": "code",
   "execution_count": 39,
   "id": "db9ee204",
   "metadata": {
    "execution": {
     "iopub.execute_input": "2024-05-31T01:13:33.235173Z",
     "iopub.status.busy": "2024-05-31T01:13:33.234687Z",
     "iopub.status.idle": "2024-05-31T01:13:33.239589Z",
     "shell.execute_reply": "2024-05-31T01:13:33.239133Z"
    },
    "lines_to_next_cell": 1,
    "papermill": {
     "duration": 0.015992,
     "end_time": "2024-05-31T01:13:33.240643",
     "exception": false,
     "start_time": "2024-05-31T01:13:33.224651",
     "status": "completed"
    },
    "tags": []
   },
   "outputs": [],
   "source": [
    "def findPairsWithGivenSum(target: int, head: DLLNode) -> list[list[int]]:\n",
    "    # Find the tail of the LL\n",
    "    tail: DLLNode = head\n",
    "    while tail.next:\n",
    "        tail = tail.next\n",
    "\n",
    "    # Two pointer traversal\n",
    "    results: list[list[int]] = []\n",
    "    left, right = head, tail\n",
    "    while left.val < right.val:\n",
    "        sum_ = left.val + right.val\n",
    "        if sum_ == target:\n",
    "            results.append([left.val, right.val])\n",
    "            left, right = left.next, right.prev\n",
    "        elif sum_ < target:\n",
    "            left = left.next\n",
    "        else:\n",
    "            right = right.prev\n",
    "\n",
    "    return results\n",
    "\n",
    "# Testing the solution\n",
    "assert findPairsWithGivenSum(7, DLLNode.to_doubly_linked_list([1,2,4,5,6,8,9])) == [[1,6], [2,5]]"
   ]
  },
  {
   "cell_type": "markdown",
   "id": "03d3836e",
   "metadata": {
    "papermill": {
     "duration": 0.009178,
     "end_time": "2024-05-31T01:13:33.258986",
     "exception": false,
     "start_time": "2024-05-31T01:13:33.249808",
     "status": "completed"
    },
    "tags": []
   },
   "source": [
    "Remove duplicates from sorted DLL\n",
    "Video Link: https://youtu.be/YJKVTnOJXSY?si=iUsYyLyw32khR4qk"
   ]
  },
  {
   "cell_type": "code",
   "execution_count": 40,
   "id": "96d1a14c",
   "metadata": {
    "execution": {
     "iopub.execute_input": "2024-05-31T01:13:33.278436Z",
     "iopub.status.busy": "2024-05-31T01:13:33.278008Z",
     "iopub.status.idle": "2024-05-31T01:13:33.281946Z",
     "shell.execute_reply": "2024-05-31T01:13:33.281449Z"
    },
    "lines_to_next_cell": 1,
    "papermill": {
     "duration": 0.014909,
     "end_time": "2024-05-31T01:13:33.282975",
     "exception": false,
     "start_time": "2024-05-31T01:13:33.268066",
     "status": "completed"
    },
    "tags": []
   },
   "outputs": [],
   "source": [
    "def removeDuplicates(head: DLLNode) -> DLLNode:\n",
    "    \"\"\"\n",
    "    Check if prev == curr. We would never face a situation where we have to del the head.\n",
    "    Time: O(N), Space: O(1)\n",
    "    \"\"\"\n",
    "    curr = head\n",
    "    while curr:\n",
    "        prev, next_ = curr.prev, curr.next\n",
    "        if prev and prev.val == curr.val:\n",
    "            prev.next = next_\n",
    "            if next_:\n",
    "                next_.prev = prev\n",
    "        curr = curr.next\n",
    "\n",
    "    return head\n",
    "\n",
    "# Testing the solution\n",
    "assert removeDuplicates(DLLNode.to_doubly_linked_list([1,2,2,2,3,3,3,3])).to_list() == [1,2,3]"
   ]
  },
  {
   "cell_type": "markdown",
   "id": "0e87575b",
   "metadata": {
    "papermill": {
     "duration": 0.009276,
     "end_time": "2024-05-31T01:13:33.301495",
     "exception": false,
     "start_time": "2024-05-31T01:13:33.292219",
     "status": "completed"
    },
    "tags": []
   },
   "source": [
    "Reverse nodes in K group\n",
    "Video Link: https://youtu.be/lIar1skcQYI?si=iMT4yb5RPdSAKTGz"
   ]
  },
  {
   "cell_type": "code",
   "execution_count": 41,
   "id": "a9d91617",
   "metadata": {
    "execution": {
     "iopub.execute_input": "2024-05-31T01:13:33.321618Z",
     "iopub.status.busy": "2024-05-31T01:13:33.321124Z",
     "iopub.status.idle": "2024-05-31T01:13:33.326716Z",
     "shell.execute_reply": "2024-05-31T01:13:33.326260Z"
    },
    "lines_to_next_cell": 1,
    "papermill": {
     "duration": 0.016896,
     "end_time": "2024-05-31T01:13:33.327765",
     "exception": false,
     "start_time": "2024-05-31T01:13:33.310869",
     "status": "completed"
    },
    "tags": []
   },
   "outputs": [],
   "source": [
    "# https://leetcode.com/problems/reverse-nodes-in-k-group/submissions/1271081842\n",
    "def reverseKGroupBrute(head: ListNode, k: int) -> ListNode:\n",
    "    \"Time: O(2N), Space: O(1)\"\n",
    "    def reverseLL(start: ListNode, end: ListNode):\n",
    "        \"\"\"\n",
    "        Reverses the LL from start to end: end -> ... start -> None\n",
    "        \"\"\"\n",
    "        prev, curr = None, start\n",
    "        while curr:\n",
    "            next_ = curr.next if curr != end else None\n",
    "            curr.next = prev\n",
    "            prev, curr = curr, next_\n",
    "\n",
    "    count, prev, curr = 1, None, head\n",
    "    while curr:\n",
    "        next_ = curr.next\n",
    "        if count in [1, k]:\n",
    "            if prev:\n",
    "                prev.next = curr\n",
    "            else:\n",
    "                head = curr\n",
    "\n",
    "            if count == 1:\n",
    "                start = curr\n",
    "            elif count == k:\n",
    "                reverseLL(start, curr)\n",
    "                prev, count = start, 0\n",
    "\n",
    "        count, curr = count + 1, next_\n",
    "\n",
    "    return head\n",
    "\n",
    "# Testing the solution\n",
    "assert reverseKGroupBrute(ListNode.to_singly_linked_list([1,2,3,4,5]), 2).to_list() == [2,1,4,3,5]\n",
    "assert reverseKGroupBrute(ListNode.to_singly_linked_list([1,2,3,4,5]), 3).to_list() == [3,2,1,4,5]"
   ]
  },
  {
   "cell_type": "markdown",
   "id": "31555836",
   "metadata": {
    "papermill": {
     "duration": 0.009172,
     "end_time": "2024-05-31T01:13:33.346159",
     "exception": false,
     "start_time": "2024-05-31T01:13:33.336987",
     "status": "completed"
    },
    "tags": []
   },
   "source": [
    "Rotate Linked List: https://leetcode.com/problems/rotate-list/\n",
    "Video Link: https://youtu.be/uT7YI7XbTY8?si=oTcsMXbd4Ukx7peu"
   ]
  },
  {
   "cell_type": "code",
   "execution_count": 42,
   "id": "21fcd05a",
   "metadata": {
    "execution": {
     "iopub.execute_input": "2024-05-31T01:13:33.365645Z",
     "iopub.status.busy": "2024-05-31T01:13:33.365150Z",
     "iopub.status.idle": "2024-05-31T01:13:33.369895Z",
     "shell.execute_reply": "2024-05-31T01:13:33.369341Z"
    },
    "lines_to_next_cell": 1,
    "papermill": {
     "duration": 0.015731,
     "end_time": "2024-05-31T01:13:33.370996",
     "exception": false,
     "start_time": "2024-05-31T01:13:33.355265",
     "status": "completed"
    },
    "tags": []
   },
   "outputs": [],
   "source": [
    "# https://leetcode.com/problems/rotate-list/submissions/1271204624\n",
    "def rotateRight(head: ListNode, k: int) -> ListNode:\n",
    "    \"Space: O(1), Time: O(2N)\"\n",
    "    # Base case\n",
    "    if not head:\n",
    "        return head\n",
    "\n",
    "    else:\n",
    "        # Rotations beyond N can be rounded off\n",
    "        N = head.len()\n",
    "        k = N - (k % N)\n",
    "\n",
    "        # Link the tail node to the start\n",
    "        tail = head.tail()\n",
    "        tail.next = head\n",
    "\n",
    "        # Remove the connection which needs removal\n",
    "        prev, curr = tail, head\n",
    "        while k > 0:\n",
    "            k, prev, curr = k - 1, curr, curr.next\n",
    "        prev.next = None\n",
    "\n",
    "        return curr\n",
    "\n",
    "# Testing the solution\n",
    "assert rotateRight(ListNode.to_singly_linked_list([1,2,3,4,5]), 2).to_list() == [4,5,1,2,3]\n",
    "assert rotateRight(ListNode.to_singly_linked_list([1,2,3,4,5]), 3).to_list() == [3,4,5,1,2]"
   ]
  },
  {
   "cell_type": "markdown",
   "id": "b8060f9c",
   "metadata": {
    "papermill": {
     "duration": 0.009335,
     "end_time": "2024-05-31T01:13:33.389649",
     "exception": false,
     "start_time": "2024-05-31T01:13:33.380314",
     "status": "completed"
    },
    "tags": []
   },
   "source": [
    "Merge Two sorted linked lists: https://leetcode.com/problems/merge-two-sorted-lists/\n",
    "Video Link: https://youtu.be/jXu-H7XuClE?si=cAYJXOGmugB-R1Jw"
   ]
  },
  {
   "cell_type": "code",
   "execution_count": 43,
   "id": "9bda15a0",
   "metadata": {
    "execution": {
     "iopub.execute_input": "2024-05-31T01:13:33.409558Z",
     "iopub.status.busy": "2024-05-31T01:13:33.409058Z",
     "iopub.status.idle": "2024-05-31T01:13:33.413929Z",
     "shell.execute_reply": "2024-05-31T01:13:33.413377Z"
    },
    "lines_to_next_cell": 1,
    "papermill": {
     "duration": 0.016101,
     "end_time": "2024-05-31T01:13:33.414945",
     "exception": false,
     "start_time": "2024-05-31T01:13:33.398844",
     "status": "completed"
    },
    "tags": []
   },
   "outputs": [],
   "source": [
    "# https://leetcode.com/problems/merge-two-sorted-lists/submissions/1271581186\n",
    "def mergeTwoLists(head1: ListNode, head2: ListNode) -> ListNode:\n",
    "    # Keep a dummy node\n",
    "    merged: ListNode = ListNode(val=999)\n",
    "\n",
    "    # Iterate using standard two pointer approach\n",
    "    curr, curr1, curr2 = merged, head1, head2\n",
    "    while curr1 or curr2:\n",
    "        if not curr2 or (curr1 and curr1.val < curr2.val):\n",
    "            curr.next = curr1\n",
    "            curr, curr1 = curr.next, curr1.next\n",
    "        else:\n",
    "            curr.next = curr2\n",
    "            curr, curr2 = curr.next, curr2.next\n",
    "\n",
    "    # Return merged list skipping our dummy\n",
    "    return merged.next\n",
    "\n",
    "# Testing the solution\n",
    "assert mergeTwoLists(ListNode.to_singly_linked_list([1,2,4]), ListNode.to_singly_linked_list([1,3,4])).to_list() == [1,1,2,3,4,4]\n",
    "assert mergeTwoLists(ListNode.to_singly_linked_list([1,1]), ListNode.to_singly_linked_list([1,2])).to_list() == [1,1,1,2]"
   ]
  },
  {
   "cell_type": "markdown",
   "id": "635b1ce4",
   "metadata": {
    "papermill": {
     "duration": 0.009374,
     "end_time": "2024-05-31T01:13:33.433619",
     "exception": false,
     "start_time": "2024-05-31T01:13:33.424245",
     "status": "completed"
    },
    "tags": []
   },
   "source": [
    "Flattening a linked list\n",
    "Video Link: https://youtu.be/ykelywHJWLg?si=xEMHwY-n0wADGYA6"
   ]
  },
  {
   "cell_type": "code",
   "execution_count": 44,
   "id": "8e34e33f",
   "metadata": {
    "execution": {
     "iopub.execute_input": "2024-05-31T01:13:33.452967Z",
     "iopub.status.busy": "2024-05-31T01:13:33.452628Z",
     "iopub.status.idle": "2024-05-31T01:13:33.456487Z",
     "shell.execute_reply": "2024-05-31T01:13:33.455978Z"
    },
    "lines_to_next_cell": 1,
    "papermill": {
     "duration": 0.01479,
     "end_time": "2024-05-31T01:13:33.457565",
     "exception": false,
     "start_time": "2024-05-31T01:13:33.442775",
     "status": "completed"
    },
    "tags": []
   },
   "outputs": [],
   "source": [
    "class GFGFlattenLLNode:\n",
    "    def __init__(self, data):\n",
    "        self.data = data\n",
    "        self.next = None\n",
    "        self.bottom = None\n",
    "\n",
    "    def __repr__(self):\n",
    "        return str(self.data)\n",
    "\n",
    "    def to_list(self) -> list[int]:\n",
    "        result: list[int] = []\n",
    "        horizontal = self\n",
    "        while horizontal:\n",
    "            vertical = horizontal\n",
    "            while vertical:\n",
    "                result.append(vertical.data)\n",
    "                vertical = vertical.bottom\n",
    "            horizontal = horizontal.next\n",
    "        return result"
   ]
  },
  {
   "cell_type": "code",
   "execution_count": 45,
   "id": "6f6d740f",
   "metadata": {
    "execution": {
     "iopub.execute_input": "2024-05-31T01:13:33.477263Z",
     "iopub.status.busy": "2024-05-31T01:13:33.476843Z",
     "iopub.status.idle": "2024-05-31T01:13:33.484680Z",
     "shell.execute_reply": "2024-05-31T01:13:33.484243Z"
    },
    "lines_to_next_cell": 1,
    "papermill": {
     "duration": 0.01887,
     "end_time": "2024-05-31T01:13:33.485795",
     "exception": false,
     "start_time": "2024-05-31T01:13:33.466925",
     "status": "completed"
    },
    "tags": []
   },
   "outputs": [
    {
     "data": {
      "text/plain": [
       "[5, 7, 8, 30, 10, 20, 19, 22, 50, 28, 35, 40, 45]"
      ]
     },
     "execution_count": 45,
     "metadata": {},
     "output_type": "execute_result"
    }
   ],
   "source": [
    "def generateTestCasesForGFGFlattenLL(N: int, heights: list[int], values: list[int]) -> GFGFlattenLLNode:\n",
    "    nested: list[GFGFlattenLLNode] = []\n",
    "    i = 0\n",
    "    for height in heights:\n",
    "        nested.append(GFGFlattenLLNode(-1))\n",
    "        curr = nested[-1]\n",
    "        while height > 0:\n",
    "            curr.bottom = GFGFlattenLLNode(values[i])\n",
    "            curr, i, height = curr.bottom, i + 1, height - 1\n",
    "        nested[-1] = nested[-1].bottom\n",
    "\n",
    "    prev = nested[0]\n",
    "    for i in range(1, N):\n",
    "        curr = nested[i]\n",
    "        prev.next = curr\n",
    "        prev = curr\n",
    "\n",
    "    return nested[0]\n",
    "\n",
    "# Testing the test case generator ;)\n",
    "generateTestCasesForGFGFlattenLL(4, [4,2,3,4], [5,7,8,30,10,20,19,22,50,28,35,40,45]).to_list()"
   ]
  },
  {
   "cell_type": "code",
   "execution_count": 46,
   "id": "7db963ef",
   "metadata": {
    "execution": {
     "iopub.execute_input": "2024-05-31T01:13:33.505755Z",
     "iopub.status.busy": "2024-05-31T01:13:33.505378Z",
     "iopub.status.idle": "2024-05-31T01:13:33.511122Z",
     "shell.execute_reply": "2024-05-31T01:13:33.510594Z"
    },
    "lines_to_next_cell": 1,
    "papermill": {
     "duration": 0.016923,
     "end_time": "2024-05-31T01:13:33.512201",
     "exception": false,
     "start_time": "2024-05-31T01:13:33.495278",
     "status": "completed"
    },
    "tags": []
   },
   "outputs": [],
   "source": [
    "def GFGflattenLL(root) -> GFGFlattenLLNode:\n",
    "    \"\"\"\n",
    "    Time: O(N) + O(N x N x M) ~ O(N x N x M)\n",
    "    Space: O(N)\n",
    "    \"\"\"\n",
    "    # Store all the top level nodes\n",
    "    curr: GFGFlattenLLNode = root\n",
    "    heads: set[GFGFlattenLLNode] = set()\n",
    "    while curr:\n",
    "        next_ = curr.next\n",
    "        heads.add(curr)\n",
    "        curr.next = None\n",
    "        curr = next_\n",
    "\n",
    "    # Create a dummy node of ease of ops\n",
    "    merged = GFGFlattenLLNode(0)\n",
    "    mh = merged\n",
    "    while heads:\n",
    "        min_ = GFGFlattenLLNode(math.inf)\n",
    "        for curr in heads:\n",
    "            if curr.data < min_.data:\n",
    "                min_ = curr\n",
    "\n",
    "        heads.remove(min_)\n",
    "        mh.bottom = min_\n",
    "        mh, min_ = mh.bottom, min_.bottom\n",
    "        if min_:\n",
    "            heads.add(min_)\n",
    "\n",
    "    return merged.bottom\n",
    "\n",
    "# Testing the solution\n",
    "assert GFGflattenLL(generateTestCasesForGFGFlattenLL(4, [4,2,3,4], [5,7,8,30,10,20,19,22,50,28,35,40,45])).to_list() == [5,7,8,10,19,20,22,28,30,35,40,45,50]\n",
    "assert GFGflattenLL(generateTestCasesForGFGFlattenLL(4, [4,1,3,1], [5,7,8,30,10,19,22,50,28])).to_list() == [5,7,8,10,19,22,28,30,50]"
   ]
  },
  {
   "cell_type": "code",
   "execution_count": 47,
   "id": "0af56f93",
   "metadata": {
    "execution": {
     "iopub.execute_input": "2024-05-31T01:13:33.532215Z",
     "iopub.status.busy": "2024-05-31T01:13:33.531883Z",
     "iopub.status.idle": "2024-05-31T01:13:33.538154Z",
     "shell.execute_reply": "2024-05-31T01:13:33.537671Z"
    },
    "lines_to_next_cell": 1,
    "papermill": {
     "duration": 0.017611,
     "end_time": "2024-05-31T01:13:33.539224",
     "exception": false,
     "start_time": "2024-05-31T01:13:33.521613",
     "status": "completed"
    },
    "tags": []
   },
   "outputs": [],
   "source": [
    "def GFGflattenLLStriver(root) -> GFGFlattenLLNode:\n",
    "    \"\"\"\n",
    "    Instead of iterating through all N for every iteration, we can try\n",
    "    joining two heads at a time for better runtime.\n",
    "\n",
    "    Time: O(N) + O(N x 2M) ~ O(NM)\n",
    "    Space: O(N)\n",
    "    \"\"\"\n",
    "    def mergeGFGNodes(head1: GFGFlattenLLNode, head2: GFGFlattenLLNode) -> GFGFlattenLLNode:\n",
    "        merged: GFGFlattenLLNode = GFGFlattenLLNode(-1)\n",
    "        mh, curr1, curr2 = merged, head1, head2\n",
    "        while curr1 or curr2:\n",
    "            if not curr2 or (curr1 and curr1.data < curr2.data):\n",
    "                mh.bottom = curr1\n",
    "                mh, curr1 = mh.bottom, curr1.bottom\n",
    "            else:\n",
    "                mh.bottom = curr2\n",
    "                mh, curr2 = mh.bottom, curr2.bottom\n",
    "\n",
    "        return merged.bottom\n",
    "\n",
    "    # Store all the top level nodes\n",
    "    curr: GFGFlattenLLNode = root\n",
    "    heads: set[GFGFlattenLLNode] = set()\n",
    "    while curr:\n",
    "        next_ = curr.next\n",
    "        heads.add(curr)\n",
    "        curr.next = None\n",
    "        curr = next_\n",
    "\n",
    "    while len(heads) > 1:\n",
    "        heads.add(mergeGFGNodes(heads.pop(), heads.pop()))\n",
    "\n",
    "    return heads.pop()\n",
    "\n",
    "# Testing the solution\n",
    "assert GFGflattenLLStriver(generateTestCasesForGFGFlattenLL(4, [4,2,3,4], [5,7,8,30,10,20,19,22,50,28,35,40,45])).to_list() == [5,7,8,10,19,20,22,28,30,35,40,45,50]\n",
    "assert GFGflattenLLStriver(generateTestCasesForGFGFlattenLL(4, [4,1,3,1], [5,7,8,30,10,19,22,50,28])).to_list() == [5,7,8,10,19,22,28,30,50]"
   ]
  },
  {
   "cell_type": "markdown",
   "id": "372da5f1",
   "metadata": {
    "papermill": {
     "duration": 0.009488,
     "end_time": "2024-05-31T01:13:33.558327",
     "exception": false,
     "start_time": "2024-05-31T01:13:33.548839",
     "status": "completed"
    },
    "tags": []
   },
   "source": [
    "Merge K sorted Lists: https://leetcode.com/problems/merge-k-sorted-lists/\n",
    "Video Link: https://youtu.be/1zktEppsdig?si=o9ttliAfO99YDin8"
   ]
  },
  {
   "cell_type": "code",
   "execution_count": 48,
   "id": "0c98d074",
   "metadata": {
    "execution": {
     "iopub.execute_input": "2024-05-31T01:13:33.578271Z",
     "iopub.status.busy": "2024-05-31T01:13:33.577767Z",
     "iopub.status.idle": "2024-05-31T01:13:33.582943Z",
     "shell.execute_reply": "2024-05-31T01:13:33.582516Z"
    },
    "lines_to_next_cell": 1,
    "papermill": {
     "duration": 0.016347,
     "end_time": "2024-05-31T01:13:33.583984",
     "exception": false,
     "start_time": "2024-05-31T01:13:33.567637",
     "status": "completed"
    },
    "tags": []
   },
   "outputs": [],
   "source": [
    "# https://leetcode.com/problems/merge-k-sorted-lists/submissions/1272090418\n",
    "def mergeKLists(lists: list[ListNode]) -> ListNode:\n",
    "    \"\"\"\n",
    "    Time: O(2N + 3N .. KN) ~ O(N x K ** 2) ~ O(N ** 3)\n",
    "    Space: O(1)\n",
    "    \"\"\"\n",
    "    def merge(head1: ListNode, head2: ListNode) -> ListNode:\n",
    "        merged: ListNode = ListNode(-1)\n",
    "        mh, curr1, curr2 = merged, head1, head2\n",
    "        while curr1 or curr2:\n",
    "            if not curr2 or (curr1 and curr1.val < curr2.val):\n",
    "                mh.next = curr1\n",
    "                mh, curr1 = mh.next, curr1.next\n",
    "            else:\n",
    "                mh.next = curr2\n",
    "                mh, curr2 = mh.next, curr2.next\n",
    "        return merged.next\n",
    "\n",
    "    while len(lists) > 1:\n",
    "        lists.append(merge(lists.pop(), lists.pop()))\n",
    "\n",
    "    return lists.pop() if lists else None\n",
    "\n",
    "# Testing the solution\n",
    "assert mergeKLists([ListNode.to_singly_linked_list([1,4,5]),ListNode.to_singly_linked_list([1,3,4]),ListNode.to_singly_linked_list([2,6])]).to_list() == [1,1,2,3,4,4,5,6]"
   ]
  },
  {
   "cell_type": "code",
   "execution_count": 49,
   "id": "3cb0bb18",
   "metadata": {
    "execution": {
     "iopub.execute_input": "2024-05-31T01:13:33.603574Z",
     "iopub.status.busy": "2024-05-31T01:13:33.603406Z",
     "iopub.status.idle": "2024-05-31T01:13:33.608270Z",
     "shell.execute_reply": "2024-05-31T01:13:33.607852Z"
    },
    "lines_to_next_cell": 1,
    "papermill": {
     "duration": 0.016001,
     "end_time": "2024-05-31T01:13:33.609375",
     "exception": false,
     "start_time": "2024-05-31T01:13:33.593374",
     "status": "completed"
    },
    "tags": []
   },
   "outputs": [],
   "source": [
    "# https://leetcode.com/problems/merge-k-sorted-lists/submissions/1272122618/\n",
    "def mergeKListsStriver(lists: list[ListNode]) -> ListNode:\n",
    "    \"\"\"\n",
    "    Instead of iterating through pairs of heads, we use a min heap data structure.\n",
    "    Initially add all heads to heap. Get the min, add to the merged list and add the next_ back to heap.\n",
    "\n",
    "    Time: O(N x N x log N) (Total Nodes: N x N)\n",
    "    Space: O(N)\n",
    "    \"\"\"\n",
    "\n",
    "    heads: list[ListNode] = [node for node in lists]\n",
    "    heap: list[tuple[int, int]] = [(heads[i].val, i) for i in range(len(heads)) if heads[i]]\n",
    "    heapq.heapify(heap)\n",
    "\n",
    "    merged: ListNode = ListNode(-1)\n",
    "    mh = merged\n",
    "    while heap:\n",
    "        min_idx = heapq.heappop(heap)[1]\n",
    "        min_ = heads[min_idx]\n",
    "        mh.next = min_\n",
    "        mh = mh.next\n",
    "        if min_.next:\n",
    "            heapq.heappush(heap, (min_.next.val, min_idx))\n",
    "            heads[min_idx] = min_.next\n",
    "\n",
    "    return merged.next\n",
    "\n",
    "# Testing the solution\n",
    "assert mergeKListsStriver([ListNode.to_singly_linked_list([1,4,5]),ListNode.to_singly_linked_list([1,3,4]),ListNode.to_singly_linked_list([2,6])]).to_list() == [1,1,2,3,4,4,5,6]"
   ]
  },
  {
   "cell_type": "markdown",
   "id": "77ed623c",
   "metadata": {
    "papermill": {
     "duration": 0.009357,
     "end_time": "2024-05-31T01:13:33.628113",
     "exception": false,
     "start_time": "2024-05-31T01:13:33.618756",
     "status": "completed"
    },
    "tags": []
   },
   "source": [
    "Sort a linked List: https://leetcode.com/problems/sort-list/\n",
    "Video Link: https://youtu.be/8ocB7a_c-Cc?si=JfJceeGOqxqhlaV0"
   ]
  },
  {
   "cell_type": "code",
   "execution_count": 50,
   "id": "055682d7",
   "metadata": {
    "execution": {
     "iopub.execute_input": "2024-05-31T01:13:33.647843Z",
     "iopub.status.busy": "2024-05-31T01:13:33.647425Z",
     "iopub.status.idle": "2024-05-31T01:13:33.653293Z",
     "shell.execute_reply": "2024-05-31T01:13:33.652884Z"
    },
    "lines_to_next_cell": 1,
    "papermill": {
     "duration": 0.016894,
     "end_time": "2024-05-31T01:13:33.654335",
     "exception": false,
     "start_time": "2024-05-31T01:13:33.637441",
     "status": "completed"
    },
    "tags": []
   },
   "outputs": [],
   "source": [
    "# https://leetcode.com/problems/sort-list/submissions/1272831788/\n",
    "def sortList(head: ListNode, end: ListNode) -> ListNode:\n",
    "    \"\"\"\n",
    "    Time: O(N log N), Space: O(log N)\n",
    "    \"\"\"\n",
    "    # If len <= 1\n",
    "    if not head or not head.next:\n",
    "        return head\n",
    "\n",
    "    else:\n",
    "        # Find the middle node for split\n",
    "        prev, slow, fast = None, head, head\n",
    "        while fast and fast.next:\n",
    "            prev, slow, fast = slow, slow.next, fast.next.next\n",
    "\n",
    "        prev.next = None # type: ignore\n",
    "\n",
    "        # Sort left, right\n",
    "        left = sortList(head, None) # type: ignore\n",
    "        right = sortList(slow, end)\n",
    "\n",
    "        # Merge left and right\n",
    "        merged: ListNode = ListNode(-1)\n",
    "        mh, curr1, curr2 = merged, left, right\n",
    "        while curr1 or curr2:\n",
    "            if not curr2 or (curr1 and curr1.val < curr2.val):\n",
    "                mh.next = curr1\n",
    "                mh, curr1 = mh.next, curr1.next\n",
    "            else:\n",
    "                mh.next = curr2\n",
    "                mh, curr2 = mh.next, curr2.next\n",
    "\n",
    "        # Skip dummy head\n",
    "        return merged.next\n",
    "\n",
    "# Testing the solution\n",
    "assert sortList(ListNode.to_singly_linked_list([1,3,4,1,2,3,8,5]), None).to_list() == [1,1,2,3,3,4,5,8] # type: ignore\n",
    "assert sortList(ListNode.to_singly_linked_list([3,1,2]), None).to_list() == [1,2,3] # type: ignore\n",
    "assert sortList(ListNode.to_singly_linked_list([3,1]), None).to_list() == [1,3] # type: ignore\n",
    "assert sortList(ListNode.to_singly_linked_list([3]), None).to_list() == [3] # type: ignore"
   ]
  },
  {
   "cell_type": "markdown",
   "id": "de4a441d",
   "metadata": {},
   "source": [
    "Copy list with random pointer\n",
    "Video Link: https://youtu.be/q570bKdrnlw?si=psXR0pw8TtHK_wu_"
   ]
  },
  {
   "cell_type": "code",
   "execution_count": null,
   "id": "089d0d42",
   "metadata": {
    "lines_to_next_cell": 1
   },
   "outputs": [],
   "source": [
    "class RandomPointerLLNode:\n",
    "    def __init__(self, val: int, next_ = None, random = None):\n",
    "        self.val = val\n",
    "        self.next = next_\n",
    "        self.random = random\n",
    "\n",
    "    @staticmethod\n",
    "    def to_random_pointer_ll(arr: list[tuple[int, int|None]]) -> 'RandomPointerLLNode|None':\n",
    "        # Compute total length\n",
    "        N = len(arr)\n",
    "\n",
    "        # Create nodes for linkage\n",
    "        nodes: list['RandomPointerLLNode'] = [RandomPointerLLNode(arr[i][0]) for i in range(N)]\n",
    "\n",
    "        # Set the pointers\n",
    "        for i, (_, rand_idx) in enumerate(arr):\n",
    "            nodes[i].next = nodes[i + 1] if i + 1 < N else None\n",
    "            if rand_idx is not None:\n",
    "                nodes[i].random = nodes[rand_idx]\n",
    "\n",
    "        return nodes[0] if nodes else None\n",
    "\n",
    "    def to_list(self) -> list[tuple[int, int|None]]:\n",
    "        # Store the results\n",
    "        result: list[tuple[int, int|None]] = []\n",
    "\n",
    "        # Create a dictionary of nodes-indices pairs\n",
    "        i, curr = 0, self\n",
    "        nodes_dict: dict['RandomPointerLLNode', int] = {}\n",
    "        while curr:\n",
    "            nodes_dict[curr] = i\n",
    "            i, curr = i + 1, curr.next\n",
    "\n",
    "        # Store the results\n",
    "        curr = self\n",
    "        while curr:\n",
    "            result.append((curr.val, curr.random and nodes_dict[curr.random]))\n",
    "            curr = curr.next\n",
    "\n",
    "        return result\n",
    "\n",
    "# Testing the Random LL Node code\n",
    "assert RandomPointerLLNode.to_random_pointer_ll([(7,None),(13,0),(11,4),(10,2),(1,0)]).to_list() == [(7,None),(13,0),(11,4),(10,2),(1,0)]"
   ]
  },
  {
   "cell_type": "code",
   "execution_count": null,
   "id": "feef787a",
   "metadata": {
    "lines_to_next_cell": 1
   },
   "outputs": [],
   "source": [
    "# https://leetcode.com/problems/copy-list-with-random-pointer/submissions/1273432189\n",
    "def copyRandomList(head: RandomPointerLLNode|None) ->  RandomPointerLLNode|None:\n",
    "    \"\"\"\n",
    "    Time: O(N), Space: O(N)\n",
    "    \"\"\"\n",
    "    node_mapping: dict[RandomPointerLLNode, RandomPointerLLNode] = dict()\n",
    "    def clone(curr: RandomPointerLLNode|None):\n",
    "        if not curr:\n",
    "            return curr\n",
    "        elif curr in node_mapping:\n",
    "            return node_mapping[curr]\n",
    "        else:\n",
    "            node = RandomPointerLLNode(curr.val)\n",
    "            node_mapping[curr] = node\n",
    "            node.next = clone(curr.next)\n",
    "            node.random = clone(curr.random)\n",
    "            return node\n",
    "\n",
    "    return clone(head)\n",
    "\n",
    "# Testing the solution\n",
    "assert copyRandomList(RandomPointerLLNode.to_random_pointer_ll([(7,None),(13,0),(11,4),(10,2),(1,0)])).to_list() == [(7,None),(13,0),(11,4),(10,2),(1,0)]"
   ]
  },
  {
   "cell_type": "code",
   "execution_count": null,
   "id": "83e57137",
   "metadata": {
    "lines_to_next_cell": 1
   },
   "outputs": [],
   "source": [
    "# https://leetcode.com/problems/copy-list-with-random-pointer/submissions/1273461946/\n",
    "def copyRandomListStriver(head: RandomPointerLLNode|None) ->  RandomPointerLLNode|None:\n",
    "    \"\"\"\n",
    "    1. Insert nodes in between.\n",
    "    2. Connect the random pointers.\n",
    "    3. Connect the next pointers.\n",
    "\n",
    "    Time: O(N), Space: O(1) (ignoring the extra space to return output)\n",
    "    \"\"\"\n",
    "\n",
    "    # Insert nodes in between\n",
    "    curr = head\n",
    "    while curr:\n",
    "        node = RandomPointerLLNode(curr.val)\n",
    "        next_ = curr.next\n",
    "        curr.next, node.next = node, next_\n",
    "        curr = curr.next.next\n",
    "\n",
    "    # Connect the random pointers\n",
    "    curr = head\n",
    "    while curr:\n",
    "        curr.next.random = curr.random and curr.random.next\n",
    "        curr = curr.next.next\n",
    "\n",
    "    # Connect the next pointers\n",
    "    curr = head\n",
    "    while curr and curr.next.next:\n",
    "        next_old = curr.next.next\n",
    "        curr.next.next = next_old.next\n",
    "        curr = next_old\n",
    "\n",
    "    return head and head.next\n",
    "\n",
    "# Testing the solution\n",
    "assert copyRandomListStriver(RandomPointerLLNode.to_random_pointer_ll([(7,None),(13,0),(11,4),(10,2),(1,0)])).to_list() == [(7,None),(13,0),(11,4),(10,2),(1,0)]"
   ]
  },
  {
   "cell_type": "markdown",
   "id": "bcb1cd09",
   "metadata": {},
   "source": [
    "Design browser history: https://leetcode.com/problems/design-browser-history/description/\n",
    "Video Link: https://youtu.be/mG3KLugbOdc?si=qZFXTEnbaYpgkD93"
   ]
  },
  {
   "cell_type": "code",
   "execution_count": null,
   "id": "d4b50d7b",
   "metadata": {
    "lines_to_next_cell": 1
   },
   "outputs": [],
   "source": [
    "class BrowserHistoryNode:\n",
    "    def __init__(self, url: str, prev = None, next_ = None):\n",
    "        self.url = url\n",
    "        self.next = next_\n",
    "        self.prev = prev"
   ]
  },
  {
   "cell_type": "code",
   "execution_count": null,
   "id": "332b79a0",
   "metadata": {},
   "outputs": [],
   "source": [
    "# https://leetcode.com/problems/design-browser-history/submissions/1273489626/\n",
    "class BrowserHistory:\n",
    "\n",
    "    def __init__(self, homepage: str):\n",
    "        self.dll = BrowserHistoryNode(homepage)\n",
    "        self.curr = self.dll\n",
    "\n",
    "    @staticmethod\n",
    "    def clear(head: BrowserHistoryNode) -> None:\n",
    "        curr = head\n",
    "        while curr:\n",
    "            next_ = curr.next\n",
    "            curr.prev = curr.next = None\n",
    "            curr = next_\n",
    "\n",
    "    def visit(self, url: str) -> None:\n",
    "        node = BrowserHistoryNode(url)\n",
    "        BrowserHistory.clear(self.curr.next)\n",
    "        self.curr.next, node.prev = node, self.curr\n",
    "        self.curr = self.curr.next\n",
    "\n",
    "    def back(self, steps: int) -> str:\n",
    "        while steps > 0 and self.curr.prev:\n",
    "            steps, self.curr = steps - 1, self.curr.prev\n",
    "        return self.curr.url\n",
    "\n",
    "    def forward(self, steps: int) -> str:\n",
    "        while steps > 0 and self.curr.next:\n",
    "            steps, self.curr = steps - 1, self.curr.next\n",
    "        return self.curr.url\n",
    "\n",
    "# Testing the solution\n",
    "bh = BrowserHistory(\"leetcode.com\")\n",
    "bh.visit(\"google.com\")\n",
    "bh.visit(\"facebook.com\")\n",
    "bh.visit(\"youtube.com\")\n",
    "assert bh.back(1) == \"facebook.com\"\n",
    "assert bh.back(1) == \"google.com\"\n",
    "assert bh.forward(1) == \"facebook.com\"\n",
    "bh.visit(\"linkedin.com\")\n",
    "assert bh.forward(2) == \"linkedin.com\"\n",
    "assert bh.back(2) == \"google.com\"\n",
    "assert bh.back(7) == \"leetcode.com\""
   ]
  }
 ],
 "metadata": {
  "kernelspec": {
   "display_name": "Python 3 (ipykernel)",
   "language": "python",
   "name": "python3"
  },
  "language_info": {
   "codemirror_mode": {
    "name": "ipython",
    "version": 3
   },
   "file_extension": ".py",
   "mimetype": "text/x-python",
   "name": "python",
   "nbconvert_exporter": "python",
   "pygments_lexer": "ipython3",
   "version": "3.11.9"
  },
  "papermill": {
   "default_parameters": {},
   "duration": 3.698874,
   "end_time": "2024-05-31T01:13:33.880753",
   "environment_variables": {},
   "exception": null,
   "input_path": "study/striver-A2Z/14-linked-list.ipynb",
   "output_path": "study/striver-A2Z/14-linked-list.ipynb",
   "parameters": {},
   "start_time": "2024-05-31T01:13:30.181879",
   "version": "2.6.0"
  }
 },
 "nbformat": 4,
 "nbformat_minor": 5
}
