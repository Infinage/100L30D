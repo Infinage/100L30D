{
 "cells": [
  {
   "cell_type": "markdown",
   "id": "7bb754d1",
   "metadata": {
    "papermill": {
     "duration": 0.007112,
     "end_time": "2024-05-28T07:43:37.452153",
     "exception": false,
     "start_time": "2024-05-28T07:43:37.445041",
     "status": "completed"
    },
    "tags": []
   },
   "source": [
    "### Useful imports"
   ]
  },
  {
   "cell_type": "code",
   "execution_count": 1,
   "id": "9ca3a0e7",
   "metadata": {
    "execution": {
     "iopub.execute_input": "2024-05-28T07:43:37.467230Z",
     "iopub.status.busy": "2024-05-28T07:43:37.466800Z",
     "iopub.status.idle": "2024-05-28T07:43:37.840100Z",
     "shell.execute_reply": "2024-05-28T07:43:37.839558Z"
    },
    "lines_to_next_cell": 1,
    "papermill": {
     "duration": 0.38295,
     "end_time": "2024-05-28T07:43:37.841609",
     "exception": false,
     "start_time": "2024-05-28T07:43:37.458659",
     "status": "completed"
    },
    "tags": []
   },
   "outputs": [],
   "source": [
    "from typing import List, Optional, Generator\n",
    "import pandas as pd\n",
    "import numpy as np\n",
    "import sqlite3\n",
    "import re\n",
    "import io\n",
    "import math\n",
    "import collections\n",
    "import itertools\n",
    "import functools\n",
    "import random\n",
    "import string\n",
    "import tqdm\n",
    "import bisect\n",
    "import heapq"
   ]
  },
  {
   "cell_type": "markdown",
   "id": "4d54d767",
   "metadata": {
    "papermill": {
     "duration": 0.006696,
     "end_time": "2024-05-28T07:43:37.855424",
     "exception": false,
     "start_time": "2024-05-28T07:43:37.848728",
     "status": "completed"
    },
    "tags": []
   },
   "source": [
    "#### Helper for Singly Linked lists"
   ]
  },
  {
   "cell_type": "code",
   "execution_count": 2,
   "id": "db8c5b93",
   "metadata": {
    "execution": {
     "iopub.execute_input": "2024-05-28T07:43:37.870168Z",
     "iopub.status.busy": "2024-05-28T07:43:37.869448Z",
     "iopub.status.idle": "2024-05-28T07:43:37.875577Z",
     "shell.execute_reply": "2024-05-28T07:43:37.875036Z"
    },
    "lines_to_next_cell": 1,
    "papermill": {
     "duration": 0.014707,
     "end_time": "2024-05-28T07:43:37.876754",
     "exception": false,
     "start_time": "2024-05-28T07:43:37.862047",
     "status": "completed"
    },
    "tags": []
   },
   "outputs": [],
   "source": [
    "class ListNode:\n",
    "    def __init__(self, val=0, next_=None):\n",
    "        self.val = val\n",
    "        self.next = next_\n",
    "\n",
    "    def __str__(self):\n",
    "        return str(self.val)\n",
    "\n",
    "    @staticmethod\n",
    "    def to_singly_linked_list(nums: list[int]):\n",
    "        root = prev = None\n",
    "        for n in nums:\n",
    "            curr = ListNode(n)\n",
    "            # Init once\n",
    "            if not root:\n",
    "                root = curr\n",
    "            if prev:\n",
    "                prev.next = curr\n",
    "            prev = curr\n",
    "\n",
    "        return root\n",
    "\n",
    "    def to_list(self) -> list[int]:\n",
    "        result = []\n",
    "        curr = self\n",
    "        while curr:\n",
    "            result.append(curr.val)\n",
    "            curr = curr.next\n",
    "        return result"
   ]
  },
  {
   "cell_type": "markdown",
   "id": "8f195f7d",
   "metadata": {
    "papermill": {
     "duration": 0.006508,
     "end_time": "2024-05-28T07:43:37.890004",
     "exception": false,
     "start_time": "2024-05-28T07:43:37.883496",
     "status": "completed"
    },
    "tags": []
   },
   "source": [
    "#### Helper for Doubly Linked lists"
   ]
  },
  {
   "cell_type": "code",
   "execution_count": 3,
   "id": "7d9ad38e",
   "metadata": {
    "execution": {
     "iopub.execute_input": "2024-05-28T07:43:37.904203Z",
     "iopub.status.busy": "2024-05-28T07:43:37.903812Z",
     "iopub.status.idle": "2024-05-28T07:43:37.908403Z",
     "shell.execute_reply": "2024-05-28T07:43:37.907957Z"
    },
    "papermill": {
     "duration": 0.01306,
     "end_time": "2024-05-28T07:43:37.909567",
     "exception": false,
     "start_time": "2024-05-28T07:43:37.896507",
     "status": "completed"
    },
    "tags": []
   },
   "outputs": [],
   "source": [
    "class DLLNode:\n",
    "    def __init__(self, val: int = 0, next_=None, prev = None):\n",
    "        self.val = val\n",
    "        self.next = next_\n",
    "        self.prev = next_\n",
    "\n",
    "    def __str__(self):\n",
    "        return str(self.val)\n",
    "\n",
    "    @staticmethod\n",
    "    def to_doubly_linked_list(nums: list[int]):\n",
    "        head = prev = None\n",
    "        for n in nums:\n",
    "            curr = DLLNode(n)\n",
    "            if prev:\n",
    "                prev.next = curr\n",
    "                curr.prev = prev\n",
    "            else:\n",
    "                head = curr\n",
    "            prev = curr\n",
    "        return head\n",
    "\n",
    "    def to_list(self) -> list[int]:\n",
    "        resultFwd = []\n",
    "        prev, curr = None, self\n",
    "        while curr:\n",
    "            resultFwd.append(curr.val)\n",
    "            prev, curr = curr, curr.next\n",
    "\n",
    "        resultBwd = []\n",
    "        prev, curr = None, prev # type: ignore\n",
    "        while curr:\n",
    "            resultBwd.append(curr.val)\n",
    "            prev, curr = curr, curr.prev\n",
    "\n",
    "        assert resultFwd == list(reversed(resultBwd)), \"Not a valid DLL\"\n",
    "        return resultFwd"
   ]
  },
  {
   "cell_type": "markdown",
   "id": "3bd55ce0",
   "metadata": {
    "papermill": {
     "duration": 0.006398,
     "end_time": "2024-05-28T07:43:37.922439",
     "exception": false,
     "start_time": "2024-05-28T07:43:37.916041",
     "status": "completed"
    },
    "tags": []
   },
   "source": [
    "Convert an array to Linked list"
   ]
  },
  {
   "cell_type": "code",
   "execution_count": 4,
   "id": "59dfeb8f",
   "metadata": {
    "execution": {
     "iopub.execute_input": "2024-05-28T07:43:37.936718Z",
     "iopub.status.busy": "2024-05-28T07:43:37.936215Z",
     "iopub.status.idle": "2024-05-28T07:43:37.939922Z",
     "shell.execute_reply": "2024-05-28T07:43:37.939484Z"
    },
    "lines_to_next_cell": 1,
    "papermill": {
     "duration": 0.012092,
     "end_time": "2024-05-28T07:43:37.940993",
     "exception": false,
     "start_time": "2024-05-28T07:43:37.928901",
     "status": "completed"
    },
    "tags": []
   },
   "outputs": [],
   "source": [
    "def constructLL(arr: list[int]) -> ListNode|None:\n",
    "    head: \"ListNode\" | None = None\n",
    "    tail = head\n",
    "\n",
    "    for n in arr:\n",
    "        curr = ListNode(n)\n",
    "        if not tail:\n",
    "            head = tail = curr\n",
    "        else:\n",
    "            tail.next = curr\n",
    "            tail = curr\n",
    "\n",
    "    return head"
   ]
  },
  {
   "cell_type": "markdown",
   "id": "0c090b60",
   "metadata": {
    "papermill": {
     "duration": 0.006469,
     "end_time": "2024-05-28T07:43:37.954046",
     "exception": false,
     "start_time": "2024-05-28T07:43:37.947577",
     "status": "completed"
    },
    "tags": []
   },
   "source": [
    "Length of LL"
   ]
  },
  {
   "cell_type": "code",
   "execution_count": 5,
   "id": "d41e087f",
   "metadata": {
    "execution": {
     "iopub.execute_input": "2024-05-28T07:43:37.968414Z",
     "iopub.status.busy": "2024-05-28T07:43:37.968017Z",
     "iopub.status.idle": "2024-05-28T07:43:37.971582Z",
     "shell.execute_reply": "2024-05-28T07:43:37.971115Z"
    },
    "lines_to_next_cell": 1,
    "papermill": {
     "duration": 0.011956,
     "end_time": "2024-05-28T07:43:37.972618",
     "exception": false,
     "start_time": "2024-05-28T07:43:37.960662",
     "status": "completed"
    },
    "tags": []
   },
   "outputs": [],
   "source": [
    "def lengthOfLL(head: ListNode) -> int:\n",
    "    curr = head\n",
    "    count = 0\n",
    "    while curr:\n",
    "        curr = curr.next\n",
    "        count += 1\n",
    "\n",
    "    return count\n",
    "\n",
    "# Testing the solution\n",
    "assert lengthOfLL(ListNode.to_singly_linked_list([1,2,3,4,5])) == 5"
   ]
  },
  {
   "cell_type": "markdown",
   "id": "bd9565da",
   "metadata": {
    "papermill": {
     "duration": 0.006489,
     "end_time": "2024-05-28T07:43:37.985670",
     "exception": false,
     "start_time": "2024-05-28T07:43:37.979181",
     "status": "completed"
    },
    "tags": []
   },
   "source": [
    "Search in a linked list"
   ]
  },
  {
   "cell_type": "code",
   "execution_count": 6,
   "id": "1137b6e9",
   "metadata": {
    "execution": {
     "iopub.execute_input": "2024-05-28T07:43:37.999778Z",
     "iopub.status.busy": "2024-05-28T07:43:37.999323Z",
     "iopub.status.idle": "2024-05-28T07:43:38.003261Z",
     "shell.execute_reply": "2024-05-28T07:43:38.002705Z"
    },
    "lines_to_next_cell": 1,
    "papermill": {
     "duration": 0.012181,
     "end_time": "2024-05-28T07:43:38.004299",
     "exception": false,
     "start_time": "2024-05-28T07:43:37.992118",
     "status": "completed"
    },
    "tags": []
   },
   "outputs": [],
   "source": [
    "def searchInLinkedList(head: ListNode, k: int):\n",
    "    curr = head\n",
    "    while curr:\n",
    "        if curr.val == k:\n",
    "            return 1\n",
    "        else:\n",
    "            curr = curr.next\n",
    "\n",
    "    return 0\n",
    "\n",
    "# Testing the solution\n",
    "assert searchInLinkedList(ListNode.to_singly_linked_list([1,2,3,4]), 4) == 1"
   ]
  },
  {
   "cell_type": "markdown",
   "id": "73478462",
   "metadata": {
    "papermill": {
     "duration": 0.006441,
     "end_time": "2024-05-28T07:43:38.017325",
     "exception": false,
     "start_time": "2024-05-28T07:43:38.010884",
     "status": "completed"
    },
    "tags": []
   },
   "source": [
    "Delete a node from linked list\n",
    "https://www.geeksforgeeks.org/problems/delete-a-node-in-single-linked-list/1"
   ]
  },
  {
   "cell_type": "code",
   "execution_count": 7,
   "id": "5bd512fc",
   "metadata": {
    "execution": {
     "iopub.execute_input": "2024-05-28T07:43:38.031521Z",
     "iopub.status.busy": "2024-05-28T07:43:38.031057Z",
     "iopub.status.idle": "2024-05-28T07:43:38.036651Z",
     "shell.execute_reply": "2024-05-28T07:43:38.036113Z"
    },
    "lines_to_next_cell": 1,
    "papermill": {
     "duration": 0.01397,
     "end_time": "2024-05-28T07:43:38.037801",
     "exception": false,
     "start_time": "2024-05-28T07:43:38.023831",
     "status": "completed"
    },
    "tags": []
   },
   "outputs": [],
   "source": [
    "def delNodePos(head: ListNode, k: int):\n",
    "    if not head or k == 0:\n",
    "        return head\n",
    "    elif k == 1:\n",
    "        return head.next\n",
    "    else:\n",
    "        count: int = 0\n",
    "        prev: ListNode|None = None\n",
    "        curr: ListNode|None = head\n",
    "\n",
    "        while curr:\n",
    "            count += 1\n",
    "            if count == k and prev:\n",
    "                prev.next = prev.next.next\n",
    "                break\n",
    "            else:\n",
    "                prev, curr = curr, curr.next\n",
    "\n",
    "        return head\n",
    "\n",
    "# Testing the solution\n",
    "assert delNodePos(ListNode.to_singly_linked_list([1,2]), 2).to_list() == [1]\n",
    "assert delNodePos(ListNode.to_singly_linked_list([1,2]), 1).to_list() == [2]\n",
    "assert delNodePos(ListNode.to_singly_linked_list([1]), 1) is None\n",
    "assert delNodePos(ListNode.to_singly_linked_list([1]), 10).to_list() == [1]\n",
    "assert delNodePos(ListNode.to_singly_linked_list([1,2,3]), 10).to_list() == [1,2,3]"
   ]
  },
  {
   "cell_type": "markdown",
   "id": "6ea5a2c5",
   "metadata": {
    "papermill": {
     "duration": 0.006463,
     "end_time": "2024-05-28T07:43:38.050740",
     "exception": false,
     "start_time": "2024-05-28T07:43:38.044277",
     "status": "completed"
    },
    "tags": []
   },
   "source": [
    "Delete node by value"
   ]
  },
  {
   "cell_type": "code",
   "execution_count": 8,
   "id": "420f38cf",
   "metadata": {
    "execution": {
     "iopub.execute_input": "2024-05-28T07:43:38.064772Z",
     "iopub.status.busy": "2024-05-28T07:43:38.064291Z",
     "iopub.status.idle": "2024-05-28T07:43:38.069533Z",
     "shell.execute_reply": "2024-05-28T07:43:38.069032Z"
    },
    "lines_to_next_cell": 1,
    "papermill": {
     "duration": 0.013394,
     "end_time": "2024-05-28T07:43:38.070571",
     "exception": false,
     "start_time": "2024-05-28T07:43:38.057177",
     "status": "completed"
    },
    "tags": []
   },
   "outputs": [],
   "source": [
    "def delNodeVal(head: ListNode, val: int):\n",
    "    if not head:\n",
    "        return head\n",
    "    elif head.val == val:\n",
    "        return head.next\n",
    "    else:\n",
    "        prev: ListNode|None = None\n",
    "        curr: ListNode|None = head\n",
    "        while curr:\n",
    "            if curr.val == val and prev:\n",
    "                prev.next = prev.next.next\n",
    "                break\n",
    "            else:\n",
    "                prev, curr = curr, curr.next\n",
    "\n",
    "        return head\n",
    "\n",
    "# Testing the solution\n",
    "assert delNodeVal(ListNode.to_singly_linked_list([1,2]), 2).to_list() == [1]\n",
    "assert delNodeVal(ListNode.to_singly_linked_list([1,2]), 1).to_list() == [2]\n",
    "assert delNodeVal(ListNode.to_singly_linked_list([1]), 1) is None\n",
    "assert delNodeVal(ListNode.to_singly_linked_list([1]), 10).to_list() == [1]\n",
    "assert delNodeVal(ListNode.to_singly_linked_list([1,2,3]), 3).to_list() == [1,2]"
   ]
  },
  {
   "cell_type": "markdown",
   "id": "53646359",
   "metadata": {
    "papermill": {
     "duration": 0.006648,
     "end_time": "2024-05-28T07:43:38.083851",
     "exception": false,
     "start_time": "2024-05-28T07:43:38.077203",
     "status": "completed"
    },
    "tags": []
   },
   "source": [
    "Inserting into a linked list"
   ]
  },
  {
   "cell_type": "code",
   "execution_count": 9,
   "id": "9de3ec91",
   "metadata": {
    "execution": {
     "iopub.execute_input": "2024-05-28T07:43:38.097986Z",
     "iopub.status.busy": "2024-05-28T07:43:38.097442Z",
     "iopub.status.idle": "2024-05-28T07:43:38.102399Z",
     "shell.execute_reply": "2024-05-28T07:43:38.101931Z"
    },
    "lines_to_next_cell": 1,
    "papermill": {
     "duration": 0.013149,
     "end_time": "2024-05-28T07:43:38.103446",
     "exception": false,
     "start_time": "2024-05-28T07:43:38.090297",
     "status": "completed"
    },
    "tags": []
   },
   "outputs": [],
   "source": [
    "def insertNode(head: ListNode, N: int, pos: int, val: int) -> ListNode:\n",
    "    node = ListNode(val)\n",
    "    if pos == 0:\n",
    "        node.next = head\n",
    "        return node\n",
    "    else:\n",
    "        prev: ListNode|None = None\n",
    "        curr: ListNode|None = head\n",
    "\n",
    "        count = 0\n",
    "        while count < pos:\n",
    "            count += 1\n",
    "            if curr:\n",
    "                prev, curr = curr, curr.next\n",
    "\n",
    "        if prev:\n",
    "            prev.next = node\n",
    "            node.next = curr\n",
    "\n",
    "        return head\n",
    "\n",
    "# Testing the solution\n",
    "assert insertNode(ListNode.to_singly_linked_list([1,2,3,4]), 4, 0, 0).to_list() == [0,1,2,3,4]\n",
    "assert insertNode(ListNode.to_singly_linked_list([]), 0, 0, 0).to_list() == [0]"
   ]
  },
  {
   "cell_type": "markdown",
   "id": "80af1929",
   "metadata": {
    "papermill": {
     "duration": 0.006388,
     "end_time": "2024-05-28T07:43:38.116409",
     "exception": false,
     "start_time": "2024-05-28T07:43:38.110021",
     "status": "completed"
    },
    "tags": []
   },
   "source": [
    "### Doubly Linked List\n",
    "Construct doubly linked list from array"
   ]
  },
  {
   "cell_type": "code",
   "execution_count": 10,
   "id": "1d2d3de2",
   "metadata": {
    "execution": {
     "iopub.execute_input": "2024-05-28T07:43:38.130287Z",
     "iopub.status.busy": "2024-05-28T07:43:38.129991Z",
     "iopub.status.idle": "2024-05-28T07:43:38.133883Z",
     "shell.execute_reply": "2024-05-28T07:43:38.133401Z"
    },
    "lines_to_next_cell": 1,
    "papermill": {
     "duration": 0.012134,
     "end_time": "2024-05-28T07:43:38.135008",
     "exception": false,
     "start_time": "2024-05-28T07:43:38.122874",
     "status": "completed"
    },
    "tags": []
   },
   "outputs": [],
   "source": [
    "def constructDLL(arr: list[int]) -> DLLNode:\n",
    "    head: DLLNode|None =  None\n",
    "    prev: DLLNode|None =  None\n",
    "\n",
    "    for n in arr:\n",
    "        curr = DLLNode(n)\n",
    "        if prev:\n",
    "            prev.next = curr\n",
    "            curr.prev = prev\n",
    "        else:\n",
    "            head = curr\n",
    "        prev = curr\n",
    "\n",
    "    return head # type: ignore\n",
    "\n",
    "# Testing the solution\n",
    "assert constructDLL([1,2,3,4,5]).to_list() == [1,2,3,4,5]"
   ]
  },
  {
   "cell_type": "markdown",
   "id": "57e40a96",
   "metadata": {
    "papermill": {
     "duration": 0.006456,
     "end_time": "2024-05-28T07:43:38.148059",
     "exception": false,
     "start_time": "2024-05-28T07:43:38.141603",
     "status": "completed"
    },
    "tags": []
   },
   "source": [
    "Inserting into a Doubly linked list"
   ]
  },
  {
   "cell_type": "code",
   "execution_count": 11,
   "id": "eeae0793",
   "metadata": {
    "execution": {
     "iopub.execute_input": "2024-05-28T07:43:38.162445Z",
     "iopub.status.busy": "2024-05-28T07:43:38.161947Z",
     "iopub.status.idle": "2024-05-28T07:43:38.166185Z",
     "shell.execute_reply": "2024-05-28T07:43:38.165621Z"
    },
    "lines_to_next_cell": 1,
    "papermill": {
     "duration": 0.012762,
     "end_time": "2024-05-28T07:43:38.167358",
     "exception": false,
     "start_time": "2024-05-28T07:43:38.154596",
     "status": "completed"
    },
    "tags": []
   },
   "outputs": [],
   "source": [
    "def addDLLNode(head: DLLNode, p: int, data: int) -> DLLNode:\n",
    "    node: DLLNode = DLLNode(data)\n",
    "    prev: DLLNode = head\n",
    "\n",
    "    while p > 0:\n",
    "        p -= 1\n",
    "        prev = prev.next\n",
    "\n",
    "    next_ = prev.next\n",
    "    node.next = next_\n",
    "    prev.next = node\n",
    "    node.prev = prev\n",
    "\n",
    "    if next_:\n",
    "        next_.prev = node\n",
    "\n",
    "    return head\n",
    "\n",
    "# Testing the solution\n",
    "assert addDLLNode(DLLNode.to_doubly_linked_list([2,4,5]), 2, 6).to_list() == [2,4,5,6]"
   ]
  },
  {
   "cell_type": "markdown",
   "id": "4cebaf84",
   "metadata": {
    "papermill": {
     "duration": 0.006466,
     "end_time": "2024-05-28T07:43:38.180630",
     "exception": false,
     "start_time": "2024-05-28T07:43:38.174164",
     "status": "completed"
    },
    "tags": []
   },
   "source": [
    "Deleting from a doubly linked list\n",
    "```\n",
    "Easier way still would be to write all edge cases specifically\n",
    "If curr is null (and prev, next are null), we have no nodes to delete\n",
    "If prev and next is null, we have only 1 node to delete\n",
    "If prev is null, we are to delete the head node\n",
    "If next is null, we are to delete the tail node\n",
    "```"
   ]
  },
  {
   "cell_type": "code",
   "execution_count": 12,
   "id": "5e1cf229",
   "metadata": {
    "execution": {
     "iopub.execute_input": "2024-05-28T07:43:38.195022Z",
     "iopub.status.busy": "2024-05-28T07:43:38.194698Z",
     "iopub.status.idle": "2024-05-28T07:43:38.199218Z",
     "shell.execute_reply": "2024-05-28T07:43:38.198675Z"
    },
    "lines_to_next_cell": 1,
    "papermill": {
     "duration": 0.013092,
     "end_time": "2024-05-28T07:43:38.200366",
     "exception": false,
     "start_time": "2024-05-28T07:43:38.187274",
     "status": "completed"
    },
    "tags": []
   },
   "outputs": [],
   "source": [
    "def deleteDLLNode(head: DLLNode, p: int):\n",
    "    curr: DLLNode = head\n",
    "\n",
    "    count = p\n",
    "    while count > 0:\n",
    "        count -= 1\n",
    "        curr = curr.next\n",
    "\n",
    "    prev = curr.prev\n",
    "    next_ = curr.next\n",
    "\n",
    "    if prev:\n",
    "        prev.next = next_\n",
    "    if next_:\n",
    "        next_.prev = prev\n",
    "\n",
    "    return head if p > 0 else head.next\n",
    "\n",
    "# Testing the solution\n",
    "assert deleteDLLNode(DLLNode.to_doubly_linked_list([1,2]), 1).to_list() == [1]\n",
    "assert deleteDLLNode(DLLNode.to_doubly_linked_list([1,2]), 0).to_list() == [2]\n",
    "assert deleteDLLNode(DLLNode.to_doubly_linked_list([1]), 0) is None"
   ]
  },
  {
   "cell_type": "markdown",
   "id": "dfa8d518",
   "metadata": {
    "papermill": {
     "duration": 0.006445,
     "end_time": "2024-05-28T07:43:38.213498",
     "exception": false,
     "start_time": "2024-05-28T07:43:38.207053",
     "status": "completed"
    },
    "tags": []
   },
   "source": [
    "Reverse a DLL\n",
    "Video Link: https://youtu.be/u3WUW2qe6ww?si=80DlW_QGoHKnBDjY"
   ]
  },
  {
   "cell_type": "code",
   "execution_count": 13,
   "id": "aac2ae31",
   "metadata": {
    "execution": {
     "iopub.execute_input": "2024-05-28T07:43:38.227444Z",
     "iopub.status.busy": "2024-05-28T07:43:38.227173Z",
     "iopub.status.idle": "2024-05-28T07:43:38.231350Z",
     "shell.execute_reply": "2024-05-28T07:43:38.230921Z"
    },
    "lines_to_next_cell": 1,
    "papermill": {
     "duration": 0.012427,
     "end_time": "2024-05-28T07:43:38.232385",
     "exception": false,
     "start_time": "2024-05-28T07:43:38.219958",
     "status": "completed"
    },
    "tags": []
   },
   "outputs": [],
   "source": [
    "def reverseDLL(head: DLLNode) -> DLLNode:\n",
    "    prev: DLLNode = None # type: ignore\n",
    "    curr: DLLNode = head\n",
    "\n",
    "    while curr:\n",
    "        curr.next, curr.prev = prev, curr.next\n",
    "        prev, curr = curr, curr.prev\n",
    "\n",
    "    return prev\n",
    "\n",
    "# Testing the solution\n",
    "assert reverseDLL(DLLNode.to_doubly_linked_list([1,2])).to_list() == [2,1]\n",
    "assert reverseDLL(DLLNode.to_doubly_linked_list([2])).to_list() == [2]\n",
    "assert reverseDLL(DLLNode.to_doubly_linked_list([1,2,3,4])).to_list() == [4,3,2,1]\n",
    "assert reverseDLL(DLLNode.to_doubly_linked_list([])) is None"
   ]
  },
  {
   "cell_type": "markdown",
   "id": "5c7d5007",
   "metadata": {
    "papermill": {
     "duration": 0.006348,
     "end_time": "2024-05-28T07:43:38.245210",
     "exception": false,
     "start_time": "2024-05-28T07:43:38.238862",
     "status": "completed"
    },
    "tags": []
   },
   "source": [
    "Add two numbers\n",
    "Video Link: https://youtu.be/XmRrGzR6udg?si=0Wc8Sp_7v8a_2kPp"
   ]
  },
  {
   "cell_type": "code",
   "execution_count": 14,
   "id": "2a271620",
   "metadata": {
    "execution": {
     "iopub.execute_input": "2024-05-28T07:43:38.259194Z",
     "iopub.status.busy": "2024-05-28T07:43:38.258734Z",
     "iopub.status.idle": "2024-05-28T07:43:38.263882Z",
     "shell.execute_reply": "2024-05-28T07:43:38.263419Z"
    },
    "lines_to_next_cell": 1,
    "papermill": {
     "duration": 0.013327,
     "end_time": "2024-05-28T07:43:38.264943",
     "exception": false,
     "start_time": "2024-05-28T07:43:38.251616",
     "status": "completed"
    },
    "tags": []
   },
   "outputs": [],
   "source": [
    "def addTwoNumbers(head1: ListNode, head2: ListNode) -> ListNode:\n",
    "    n1, n2 = head1, head2\n",
    "    sum_head: ListNode|None = None\n",
    "    sum_node: ListNode|None = None\n",
    "    carry_forward = 0\n",
    "\n",
    "    # Carry_forward is kept here so that in cases where both are exhausted \n",
    "    # and we still have 1 (say 5 + 5, both are exhausted but carry exists)\n",
    "    while n1 or n2 or carry_forward:\n",
    "        sum_ = carry_forward\n",
    "\n",
    "        if n1:\n",
    "            sum_ += n1.val\n",
    "            n1 = n1.next\n",
    "        if n2:\n",
    "            sum_ += n2.val\n",
    "            n2 = n2.next\n",
    "\n",
    "        sum_, carry_forward = sum_ % 10, sum_ // 10\n",
    "        curr = ListNode(sum_)\n",
    "        if not sum_node:\n",
    "            sum_head = sum_node = curr\n",
    "        else:\n",
    "            sum_node.next = curr\n",
    "            sum_node = curr\n",
    "\n",
    "    return sum_head # type: ignore\n",
    "\n",
    "# Testing the solution\n",
    "assert addTwoNumbers(ListNode.to_singly_linked_list([2,4,6]), ListNode.to_singly_linked_list([3,8,7])).to_list() == [5,2,4,1]\n",
    "assert addTwoNumbers(ListNode.to_singly_linked_list([3,5]), ListNode.to_singly_linked_list([4,5,9,9])).to_list() == [7,0,0,0,1]"
   ]
  },
  {
   "cell_type": "markdown",
   "id": "0d492d94",
   "metadata": {
    "papermill": {
     "duration": 0.006423,
     "end_time": "2024-05-28T07:43:38.277951",
     "exception": false,
     "start_time": "2024-05-28T07:43:38.271528",
     "status": "completed"
    },
    "tags": []
   },
   "source": [
    "Odd Even Linked List: https://leetcode.com/problems/odd-even-linked-list/description/\n",
    "Video Link: https://youtu.be/qf6qp7GzD5Q?si=f0kxJQ7bJ8JSSZGe"
   ]
  },
  {
   "cell_type": "code",
   "execution_count": 15,
   "id": "ed28b236",
   "metadata": {
    "execution": {
     "iopub.execute_input": "2024-05-28T07:43:38.292064Z",
     "iopub.status.busy": "2024-05-28T07:43:38.291606Z",
     "iopub.status.idle": "2024-05-28T07:43:38.296775Z",
     "shell.execute_reply": "2024-05-28T07:43:38.296302Z"
    },
    "lines_to_next_cell": 1,
    "papermill": {
     "duration": 0.013462,
     "end_time": "2024-05-28T07:43:38.297892",
     "exception": false,
     "start_time": "2024-05-28T07:43:38.284430",
     "status": "completed"
    },
    "tags": []
   },
   "outputs": [],
   "source": [
    "# https://leetcode.com/problems/odd-even-linked-list/submissions/1268536963/\n",
    "def oddEvenList(head: ListNode) -> ListNode:\n",
    "    \"\"\"\n",
    "    The trick here lies in the fact that we should alter the links instead of\n",
    "    trying to alter the values, since we need a O(1) Space, O(N) time complexity.\n",
    "    \"\"\"\n",
    "\n",
    "    # Handling edge case\n",
    "    if not head:\n",
    "        return head\n",
    "\n",
    "    # Split work into creating the even and odd LLs\n",
    "    oddHead = odd = head\n",
    "    evenHead = even = head.next\n",
    "\n",
    "    # It is possible that we iterate until we reach either odd or even\n",
    "    # Checking for even makes code simpler, odd makes it more messy\n",
    "    while even and even.next:\n",
    "        odd.next = odd.next.next\n",
    "        even.next = even.next.next\n",
    "        even, odd = even.next, odd.next\n",
    "\n",
    "    # Once odd and even LL are constructed, odd next should point to evenHead\n",
    "    odd.next = evenHead # type: ignore\n",
    "    return oddHead\n",
    "\n",
    "# Testing the solution\n",
    "assert oddEvenList(ListNode.to_singly_linked_list([1,2,3,4,5])).to_list() == [1,3,5,2,4]\n",
    "assert oddEvenList(ListNode.to_singly_linked_list([1,2,3,4])).to_list() == [1,3,2,4]\n",
    "assert oddEvenList(ListNode.to_singly_linked_list([1,2])).to_list() == [1,2]\n",
    "assert oddEvenList(ListNode.to_singly_linked_list([1])).to_list() == [1]"
   ]
  },
  {
   "cell_type": "markdown",
   "id": "da1e9ff5",
   "metadata": {
    "papermill": {
     "duration": 0.006675,
     "end_time": "2024-05-28T07:43:38.311229",
     "exception": false,
     "start_time": "2024-05-28T07:43:38.304554",
     "status": "completed"
    },
    "tags": []
   },
   "source": [
    "Sorted linked list of 0s, 1s, 2s"
   ]
  },
  {
   "cell_type": "code",
   "execution_count": 16,
   "id": "283f2b99",
   "metadata": {
    "execution": {
     "iopub.execute_input": "2024-05-28T07:43:38.325347Z",
     "iopub.status.busy": "2024-05-28T07:43:38.324920Z",
     "iopub.status.idle": "2024-05-28T07:43:38.329933Z",
     "shell.execute_reply": "2024-05-28T07:43:38.329445Z"
    },
    "lines_to_next_cell": 1,
    "papermill": {
     "duration": 0.013263,
     "end_time": "2024-05-28T07:43:38.330971",
     "exception": false,
     "start_time": "2024-05-28T07:43:38.317708",
     "status": "completed"
    },
    "tags": []
   },
   "outputs": [],
   "source": [
    "def sortList012Idea1(head: ListNode) -> ListNode:\n",
    "    count0 = count1 = count2 = 0\n",
    "\n",
    "    # Iterate and compute the counts\n",
    "    curr = head\n",
    "    while curr:\n",
    "        if curr.val == 0:\n",
    "            count0 += 1\n",
    "        elif curr.val == 1:\n",
    "            count1 += 1\n",
    "        else:\n",
    "            count2 += 1\n",
    "        curr = curr.next\n",
    "\n",
    "    # Replace the values\n",
    "    curr = head\n",
    "    while curr:\n",
    "        if count0 > 0:\n",
    "            curr.val, count0 = 0, count0 - 1\n",
    "        elif count1 > 0:\n",
    "            curr.val, count1 = 1, count1 - 1\n",
    "        else:\n",
    "            curr.val, count2 = 2, count2 - 1\n",
    "        curr = curr.next\n",
    "\n",
    "    return head\n",
    "\n",
    "# Testing the solution\n",
    "assert sortList012Idea1(ListNode.to_singly_linked_list([1,0,2,1,0,1,0,2])).to_list() == [0,0,0,1,1,1,2,2]\n",
    "assert sortList012Idea1(ListNode.to_singly_linked_list([2,1])).to_list() == [1,2]"
   ]
  },
  {
   "cell_type": "code",
   "execution_count": 17,
   "id": "04a13e4d",
   "metadata": {
    "execution": {
     "iopub.execute_input": "2024-05-28T07:43:38.362249Z",
     "iopub.status.busy": "2024-05-28T07:43:38.361786Z",
     "iopub.status.idle": "2024-05-28T07:43:38.366587Z",
     "shell.execute_reply": "2024-05-28T07:43:38.366119Z"
    },
    "lines_to_next_cell": 1,
    "papermill": {
     "duration": 0.013424,
     "end_time": "2024-05-28T07:43:38.367704",
     "exception": false,
     "start_time": "2024-05-28T07:43:38.354280",
     "status": "completed"
    },
    "tags": []
   },
   "outputs": [],
   "source": [
    "def sortList012Idea2(head: ListNode) -> ListNode:\n",
    "\n",
    "    # Maintain position until which the LL is sorted\n",
    "    sorted_end: ListNode = head\n",
    "\n",
    "    # Sort 0s\n",
    "    curr = sorted_end\n",
    "    while curr:\n",
    "        if curr.val == 0:\n",
    "            sorted_end.val, curr.val = curr.val, sorted_end.val\n",
    "            sorted_end = sorted_end.next\n",
    "        curr = curr.next\n",
    "\n",
    "    # Sort 1s\n",
    "    curr = sorted_end\n",
    "    while curr:\n",
    "        if curr.val == 1:\n",
    "            sorted_end.val, curr.val = curr.val, sorted_end.val\n",
    "            sorted_end = sorted_end.next\n",
    "        curr = curr.next\n",
    "\n",
    "    return head\n",
    "\n",
    "# Testing the solution\n",
    "assert sortList012Idea2(ListNode.to_singly_linked_list([1,0,2,1,0,1,0,2])).to_list() == [0,0,0,1,1,1,2,2]\n",
    "assert sortList012Idea2(ListNode.to_singly_linked_list([2,1])).to_list() == [1,2]"
   ]
  },
  {
   "cell_type": "code",
   "execution_count": 18,
   "id": "5b07c320",
   "metadata": {
    "execution": {
     "iopub.execute_input": "2024-05-28T07:43:38.381886Z",
     "iopub.status.busy": "2024-05-28T07:43:38.381425Z",
     "iopub.status.idle": "2024-05-28T07:43:38.387219Z",
     "shell.execute_reply": "2024-05-28T07:43:38.386758Z"
    },
    "lines_to_next_cell": 1,
    "papermill": {
     "duration": 0.014055,
     "end_time": "2024-05-28T07:43:38.388338",
     "exception": false,
     "start_time": "2024-05-28T07:43:38.374283",
     "status": "completed"
    },
    "tags": []
   },
   "outputs": [],
   "source": [
    "# Striver Idea 3: One pass solution, similar to odd even list problem\n",
    "def sortList012Idea3(head: ListNode) -> ListNode:\n",
    "    # Time: O(N), Space: O(1)\n",
    "    head0: ListNode = None # type: ignore\n",
    "    head1: ListNode = None # type: ignore\n",
    "    head2: ListNode = None # type: ignore\n",
    "\n",
    "    curr = head\n",
    "    zero = one = two = None\n",
    "    while curr:\n",
    "        next_ = curr.next\n",
    "        if curr.val == 0:\n",
    "            if not zero:\n",
    "                head0 = zero = curr\n",
    "            else:\n",
    "                zero.next = curr\n",
    "                zero = curr\n",
    "        elif curr.val == 1:\n",
    "            if not one:\n",
    "                head1 = one = curr\n",
    "            else:\n",
    "                one.next = curr\n",
    "                one = curr\n",
    "        else:\n",
    "            if not two:\n",
    "                head2 = two = curr\n",
    "            else:\n",
    "                two.next = curr\n",
    "                two = curr\n",
    "\n",
    "        curr.next, curr = None, next_\n",
    "\n",
    "    if zero:\n",
    "        zero.next = head1\n",
    "    if one:\n",
    "        one.next = head2\n",
    "\n",
    "    return head0 if head0 else head1 if head1 else head2\n",
    "\n",
    "# Testing the solution\n",
    "assert sortList012Idea3(ListNode.to_singly_linked_list([1,0,2,1,0,1,0,2])).to_list() == [0,0,0,1,1,1,2,2]\n",
    "assert sortList012Idea3(ListNode.to_singly_linked_list([2,1])).to_list() == [1,2]\n",
    "assert sortList012Idea3(ListNode.to_singly_linked_list([1,0])).to_list() == [0,1]"
   ]
  },
  {
   "cell_type": "markdown",
   "id": "5f9ff800",
   "metadata": {
    "papermill": {
     "duration": 0.006521,
     "end_time": "2024-05-28T07:43:38.401591",
     "exception": false,
     "start_time": "2024-05-28T07:43:38.395070",
     "status": "completed"
    },
    "tags": []
   },
   "source": [
    "Remove Nth node from the end of the linked list\n",
    "Video Link: https://youtu.be/3kMKYQ2wNIU?si=njmZ0_XKAc1S0dZo\n",
    "Ideas:\n",
    "1. Delete N - kth node\n",
    "2. Reverse the LL, delete kth node and reverse again\n",
    "3. Recursively assign numbers to node, while returning skip node if number == N - k\n",
    "4. Store all nodes into a hashmap. Compute len of LL, delete node and return head\n",
    "5. Striver's Approach"
   ]
  },
  {
   "cell_type": "code",
   "execution_count": 19,
   "id": "75b0f078",
   "metadata": {
    "execution": {
     "iopub.execute_input": "2024-05-28T07:43:38.415876Z",
     "iopub.status.busy": "2024-05-28T07:43:38.415476Z",
     "iopub.status.idle": "2024-05-28T07:43:38.420565Z",
     "shell.execute_reply": "2024-05-28T07:43:38.420126Z"
    },
    "lines_to_next_cell": 1,
    "papermill": {
     "duration": 0.013646,
     "end_time": "2024-05-28T07:43:38.421769",
     "exception": false,
     "start_time": "2024-05-28T07:43:38.408123",
     "status": "completed"
    },
    "tags": []
   },
   "outputs": [],
   "source": [
    "# https://leetcode.com/problems/remove-nth-node-from-end-of-list/submissions\n",
    "def removeNthFromEndIdea1(head: ListNode, k: int) -> ListNode:\n",
    "    # Compute the length\n",
    "    N, curr = 0, head\n",
    "    while curr:\n",
    "        N, curr = N + 1, curr.next\n",
    "\n",
    "    # Delete N - kth node\n",
    "    count, prev, curr = 0, None, head\n",
    "    while count < N - k:\n",
    "        count += 1\n",
    "        prev, curr = curr, curr.next\n",
    "\n",
    "    # Delete 1st Node (idx - 0)\n",
    "    if not prev:\n",
    "        head = curr.next\n",
    "\n",
    "    # Delete any other node\n",
    "    else:\n",
    "        prev.next = curr.next\n",
    "\n",
    "    return head\n",
    "\n",
    "# Testing the solution\n",
    "assert removeNthFromEndIdea1(ListNode.to_singly_linked_list([1,2,3,4,5]), 2).to_list() == [1,2,3,5]\n",
    "assert removeNthFromEndIdea1(ListNode.to_singly_linked_list([1,2,3,4,5]), 5).to_list() == [2,3,4,5]\n",
    "assert removeNthFromEndIdea1(ListNode.to_singly_linked_list([1,2,3,4,5]), 1).to_list() == [1,2,3,4]\n",
    "assert removeNthFromEndIdea1(ListNode.to_singly_linked_list([1]), 1) is None"
   ]
  },
  {
   "cell_type": "code",
   "execution_count": 20,
   "id": "7b9ce41b",
   "metadata": {
    "execution": {
     "iopub.execute_input": "2024-05-28T07:43:38.436434Z",
     "iopub.status.busy": "2024-05-28T07:43:38.436178Z",
     "iopub.status.idle": "2024-05-28T07:43:38.441302Z",
     "shell.execute_reply": "2024-05-28T07:43:38.440842Z"
    },
    "lines_to_next_cell": 1,
    "papermill": {
     "duration": 0.013815,
     "end_time": "2024-05-28T07:43:38.442428",
     "exception": false,
     "start_time": "2024-05-28T07:43:38.428613",
     "status": "completed"
    },
    "tags": []
   },
   "outputs": [],
   "source": [
    "def removeNthFromEndIdea4(head: ListNode, k: int) -> ListNode:\n",
    "    # Store the current, prev for all positions\n",
    "    prevs: dict[int, tuple[ListNode|None, ListNode|None]] = dict()\n",
    "    N, prev, curr = 0, None, head\n",
    "    while curr:\n",
    "        prevs[N] = prev, curr\n",
    "        prev, curr, N = curr, curr.next, N + 1\n",
    "\n",
    "    # Delete kth node from back => N - k from front\n",
    "    prev, curr = prevs[N - k]\n",
    "    if prev:\n",
    "        prev.next = curr.next\n",
    "    else:\n",
    "        head = head.next\n",
    "\n",
    "    return head\n",
    "\n",
    "# Testing the solution\n",
    "assert removeNthFromEndIdea4(ListNode.to_singly_linked_list([1,2,3,4,5]), 2).to_list() == [1,2,3,5]\n",
    "assert removeNthFromEndIdea4(ListNode.to_singly_linked_list([1,2,3,4,5]), 5).to_list() == [2,3,4,5]\n",
    "assert removeNthFromEndIdea4(ListNode.to_singly_linked_list([1,2,3,4,5]), 1).to_list() == [1,2,3,4]\n",
    "assert removeNthFromEndIdea4(ListNode.to_singly_linked_list([1]), 1) is None"
   ]
  },
  {
   "cell_type": "code",
   "execution_count": 21,
   "id": "ca7f81f2",
   "metadata": {
    "execution": {
     "iopub.execute_input": "2024-05-28T07:43:38.456961Z",
     "iopub.status.busy": "2024-05-28T07:43:38.456495Z",
     "iopub.status.idle": "2024-05-28T07:43:38.462244Z",
     "shell.execute_reply": "2024-05-28T07:43:38.461678Z"
    },
    "lines_to_next_cell": 1,
    "papermill": {
     "duration": 0.014234,
     "end_time": "2024-05-28T07:43:38.463398",
     "exception": false,
     "start_time": "2024-05-28T07:43:38.449164",
     "status": "completed"
    },
    "tags": []
   },
   "outputs": [],
   "source": [
    "# https://leetcode.com/problems/remove-nth-node-from-end-of-list/submissions/1269029952\n",
    "def removeNthFromEndIdea5(head: ListNode, k: int) -> ListNode:\n",
    "    \"\"\"\n",
    "    Target is to reach kth node from the end.\n",
    "    [_, _, _, _, _], k = 2\n",
    "              *\n",
    "\n",
    "    Add a second pointer to the end.\n",
    "    [_, _, _, _, _] _\n",
    "              *     #\n",
    "\n",
    "    Shift left until * reaches 0, we see a gap of k - 1.\n",
    "    [_, _, _, _, _] _\n",
    "     *     #\n",
    "\n",
    "    Hence the idea:\n",
    "        1. Iterate a fast pointer k times.\n",
    "        2. Add a second slow pointer.\n",
    "        3. Start iterating both the fast and slow pointers simaltaneously until fast reaches end.\n",
    "        4. Slow pointer would now point at the node to be deleted.\n",
    "    \"\"\"\n",
    "\n",
    "    # Iterate k times\n",
    "    count = 0\n",
    "    fast = head\n",
    "    while count < k:\n",
    "        count += 1\n",
    "        fast = fast.next\n",
    "\n",
    "    # Add a second pointer slow, move fast and slow together until fast hits end\n",
    "    prev, slow = None, head\n",
    "    while fast:\n",
    "        prev, slow, fast = slow, slow.next, fast.next\n",
    "\n",
    "    # Delete 1st Node (idx - 0)\n",
    "    if not prev:\n",
    "        head = head.next\n",
    "    # Delete any other node\n",
    "    else:\n",
    "        prev.next = slow.next\n",
    "\n",
    "    return head\n",
    "\n",
    "# Testing the solution\n",
    "assert removeNthFromEndIdea5(ListNode.to_singly_linked_list([1,2,3,4,5]), 2).to_list() == [1,2,3,5]\n",
    "assert removeNthFromEndIdea5(ListNode.to_singly_linked_list([1,2,3,4,5]), 5).to_list() == [2,3,4,5]\n",
    "assert removeNthFromEndIdea5(ListNode.to_singly_linked_list([1,2,3,4,5]), 1).to_list() == [1,2,3,4]\n",
    "assert removeNthFromEndIdea5(ListNode.to_singly_linked_list([1]), 1) is None"
   ]
  },
  {
   "cell_type": "markdown",
   "id": "b934ca84",
   "metadata": {
    "papermill": {
     "duration": 0.006487,
     "end_time": "2024-05-28T07:43:38.476596",
     "exception": false,
     "start_time": "2024-05-28T07:43:38.470109",
     "status": "completed"
    },
    "tags": []
   },
   "source": [
    "Reverse a linked list\n",
    "Video Link: https://youtu.be/D2vI2DNJGd8?si=9usE4WRYEPSsmoPW"
   ]
  },
  {
   "cell_type": "code",
   "execution_count": 22,
   "id": "8327b0f1",
   "metadata": {
    "execution": {
     "iopub.execute_input": "2024-05-28T07:43:38.490825Z",
     "iopub.status.busy": "2024-05-28T07:43:38.490291Z",
     "iopub.status.idle": "2024-05-28T07:43:38.494939Z",
     "shell.execute_reply": "2024-05-28T07:43:38.494388Z"
    },
    "lines_to_next_cell": 1,
    "papermill": {
     "duration": 0.013001,
     "end_time": "2024-05-28T07:43:38.496129",
     "exception": false,
     "start_time": "2024-05-28T07:43:38.483128",
     "status": "completed"
    },
    "tags": []
   },
   "outputs": [],
   "source": [
    "# https://leetcode.com/problems/reverse-linked-list/submissions/1269437666/\n",
    "def reverseListRecurse(curr: ListNode) -> ListNode:\n",
    "    \"\"\"\n",
    "    Time: O(N), Space: O(N)\n",
    "    \"\"\"\n",
    "    # Store the next_ node for reversing in the future\n",
    "    if not curr or not curr.next:\n",
    "        return curr\n",
    "    else:\n",
    "        root = reverseListRecurse(curr.next)\n",
    "        curr.next.next = curr\n",
    "        curr.next = None\n",
    "        return root\n",
    "\n",
    "# Testing the solution\n",
    "assert reverseListRecurse(ListNode.to_singly_linked_list([1,2,3,4,5])).to_list() == [5,4,3,2,1]\n",
    "assert reverseListRecurse(ListNode.to_singly_linked_list([1])).to_list() == [1]\n",
    "assert reverseListRecurse(ListNode.to_singly_linked_list([1,2])).to_list() == [2,1]\n",
    "assert reverseListRecurse(ListNode.to_singly_linked_list([])) is None"
   ]
  },
  {
   "cell_type": "code",
   "execution_count": 23,
   "id": "edb937c7",
   "metadata": {
    "execution": {
     "iopub.execute_input": "2024-05-28T07:43:38.510377Z",
     "iopub.status.busy": "2024-05-28T07:43:38.509963Z",
     "iopub.status.idle": "2024-05-28T07:43:38.514191Z",
     "shell.execute_reply": "2024-05-28T07:43:38.513658Z"
    },
    "lines_to_next_cell": 1,
    "papermill": {
     "duration": 0.012528,
     "end_time": "2024-05-28T07:43:38.515288",
     "exception": false,
     "start_time": "2024-05-28T07:43:38.502760",
     "status": "completed"
    },
    "tags": []
   },
   "outputs": [],
   "source": [
    "# https://leetcode.com/problems/reverse-linked-list/submissions/1269442108/\n",
    "def reverseListIter(head: ListNode) -> ListNode:\n",
    "    \"\"\"\n",
    "    Time: O(N), Space: O(1)\n",
    "    \"\"\"\n",
    "    prev: ListNode|None = None\n",
    "    curr: ListNode|None = head\n",
    "    while curr:\n",
    "        next_ = curr.next\n",
    "        curr.next = prev\n",
    "        prev, curr = curr, next_\n",
    "\n",
    "    return prev # type: ignore\n",
    "\n",
    "# Testing the solution\n",
    "assert reverseListIter(ListNode.to_singly_linked_list([1,2,3,4,5])).to_list() == [5,4,3,2,1]\n",
    "assert reverseListIter(ListNode.to_singly_linked_list([1])).to_list() == [1]\n",
    "assert reverseListIter(ListNode.to_singly_linked_list([1,2])).to_list() == [2,1]\n",
    "assert reverseListIter(ListNode.to_singly_linked_list([])) is None"
   ]
  },
  {
   "cell_type": "markdown",
   "id": "9fa31e87",
   "metadata": {
    "papermill": {
     "duration": 0.006453,
     "end_time": "2024-05-28T07:43:38.528363",
     "exception": false,
     "start_time": "2024-05-28T07:43:38.521910",
     "status": "completed"
    },
    "tags": []
   },
   "source": [
    "Palindrome Linked List"
   ]
  },
  {
   "cell_type": "code",
   "execution_count": 24,
   "id": "c1bf8469",
   "metadata": {
    "execution": {
     "iopub.execute_input": "2024-05-28T07:43:38.542890Z",
     "iopub.status.busy": "2024-05-28T07:43:38.542448Z",
     "iopub.status.idle": "2024-05-28T07:43:38.548537Z",
     "shell.execute_reply": "2024-05-28T07:43:38.548123Z"
    },
    "lines_to_next_cell": 1,
    "papermill": {
     "duration": 0.014498,
     "end_time": "2024-05-28T07:43:38.549650",
     "exception": false,
     "start_time": "2024-05-28T07:43:38.535152",
     "status": "completed"
    },
    "tags": []
   },
   "outputs": [],
   "source": [
    "# https://leetcode.com/problems/palindrome-linked-list/submissions/1269504641/\n",
    "def isPalindromeIter(head: ListNode) -> bool:\n",
    "    \"\"\"\n",
    "    Use slow and fast pointers to find the middle of LL.\n",
    "    Make sure that we reverse the linkedlist as the slow pointer moves.\n",
    "\n",
    "    Update post watching striver: Before returning the solution return the\n",
    "    reversed portion back to normal (best practice)\n",
    "    \"\"\"\n",
    "    if not head.next:\n",
    "        return True\n",
    "    else:\n",
    "        slow = fast = head\n",
    "        slow_prev: ListNode|None = None\n",
    "        fast_prev: ListNode|None = None\n",
    "        while fast and fast.next:\n",
    "            # Fast pointer moves as usual\n",
    "            fast_prev, fast = fast.next, fast.next.next\n",
    "\n",
    "            # As slow moves along, reverse the LL\n",
    "            slow_next = slow.next\n",
    "            slow.next = slow_prev\n",
    "            slow_prev, slow = slow, slow_next\n",
    "\n",
    "        if fast: # odd length\n",
    "            slow, fast = slow_prev, slow.next # type: ignore\n",
    "        else: # even length\n",
    "            slow, fast = slow_prev, slow # type: ignore\n",
    "\n",
    "        while fast and slow:\n",
    "            if fast.val != slow.val:\n",
    "                return False\n",
    "            else:\n",
    "                fast, slow = fast.next, slow.next\n",
    "\n",
    "        return True\n",
    "\n",
    "# Testing the solution\n",
    "assert isPalindromeIter(ListNode.to_singly_linked_list([1,2,3,2,1])) == True\n",
    "assert isPalindromeIter(ListNode.to_singly_linked_list([1,2,3,4,1])) == False\n",
    "assert isPalindromeIter(ListNode.to_singly_linked_list([1,2,2,1])) == True\n",
    "assert isPalindromeIter(ListNode.to_singly_linked_list([1,2,2,2])) == False\n",
    "assert isPalindromeIter(ListNode.to_singly_linked_list([1,2])) == False\n",
    "assert isPalindromeIter(ListNode.to_singly_linked_list([1,1])) == True"
   ]
  },
  {
   "cell_type": "code",
   "execution_count": 25,
   "id": "a979ac07",
   "metadata": {
    "execution": {
     "iopub.execute_input": "2024-05-28T07:43:38.563459Z",
     "iopub.status.busy": "2024-05-28T07:43:38.563287Z",
     "iopub.status.idle": "2024-05-28T07:43:38.568035Z",
     "shell.execute_reply": "2024-05-28T07:43:38.567576Z"
    },
    "lines_to_next_cell": 1,
    "papermill": {
     "duration": 0.012858,
     "end_time": "2024-05-28T07:43:38.569047",
     "exception": false,
     "start_time": "2024-05-28T07:43:38.556189",
     "status": "completed"
    },
    "tags": []
   },
   "outputs": [],
   "source": [
    "# https://leetcode.com/problems/palindrome-linked-list/submissions/1269543768\n",
    "def isPalindromeRecursive(head: ListNode) -> bool:\n",
    "    curr_ = head\n",
    "    def backtrack(curr: ListNode) -> bool:\n",
    "        if not curr:\n",
    "            return True\n",
    "        else:\n",
    "            nonlocal curr_\n",
    "            result = backtrack(curr.next) and curr.val == curr_.val\n",
    "            curr_ = curr_.next\n",
    "            return result\n",
    "\n",
    "    return backtrack(head)\n",
    "\n",
    "# Testing the solution\n",
    "assert isPalindromeRecursive(ListNode.to_singly_linked_list([1,2,3,2,1])) == True\n",
    "assert isPalindromeRecursive(ListNode.to_singly_linked_list([1,2,3,4,1])) == False\n",
    "assert isPalindromeRecursive(ListNode.to_singly_linked_list([1,2,2,1])) == True\n",
    "assert isPalindromeRecursive(ListNode.to_singly_linked_list([1,2,2,2])) == False\n",
    "assert isPalindromeRecursive(ListNode.to_singly_linked_list([1,2])) == False\n",
    "assert isPalindromeRecursive(ListNode.to_singly_linked_list([1,1])) == True"
   ]
  },
  {
   "cell_type": "markdown",
   "id": "d549ddf5",
   "metadata": {
    "papermill": {
     "duration": 0.006471,
     "end_time": "2024-05-28T07:43:38.582121",
     "exception": false,
     "start_time": "2024-05-28T07:43:38.575650",
     "status": "completed"
    },
    "tags": []
   },
   "source": [
    "Add one: https://youtu.be/aXQWhbvT3w0?si=VxL8WQhPa15JP7Nl"
   ]
  },
  {
   "cell_type": "code",
   "execution_count": 26,
   "id": "ec4aa5bd",
   "metadata": {
    "execution": {
     "iopub.execute_input": "2024-05-28T07:43:38.596222Z",
     "iopub.status.busy": "2024-05-28T07:43:38.595995Z",
     "iopub.status.idle": "2024-05-28T07:43:38.600173Z",
     "shell.execute_reply": "2024-05-28T07:43:38.599715Z"
    },
    "lines_to_next_cell": 1,
    "papermill": {
     "duration": 0.012394,
     "end_time": "2024-05-28T07:43:38.601207",
     "exception": false,
     "start_time": "2024-05-28T07:43:38.588813",
     "status": "completed"
    },
    "tags": []
   },
   "outputs": [],
   "source": [
    "def addOneRecursive(head: ListNode) -> ListNode:\n",
    "    def backtrack(curr: ListNode) -> int:\n",
    "        if not curr:\n",
    "            return 1\n",
    "        else:\n",
    "            value = curr.val + backtrack(curr.next)\n",
    "            curr.val = value % 10\n",
    "            return value // 10\n",
    "\n",
    "    carry = backtrack(head)\n",
    "    return ListNode(carry, head) if carry else head\n",
    "\n",
    "# Testing the solution\n",
    "assert addOneRecursive(ListNode.to_singly_linked_list([9])).to_list() == [1,0]\n",
    "assert addOneRecursive(ListNode.to_singly_linked_list([0])).to_list() == [1]"
   ]
  },
  {
   "cell_type": "code",
   "execution_count": 27,
   "id": "7d6145a8",
   "metadata": {
    "execution": {
     "iopub.execute_input": "2024-05-28T07:43:38.615167Z",
     "iopub.status.busy": "2024-05-28T07:43:38.614787Z",
     "iopub.status.idle": "2024-05-28T07:43:38.619506Z",
     "shell.execute_reply": "2024-05-28T07:43:38.619059Z"
    },
    "lines_to_next_cell": 1,
    "papermill": {
     "duration": 0.012743,
     "end_time": "2024-05-28T07:43:38.620514",
     "exception": false,
     "start_time": "2024-05-28T07:43:38.607771",
     "status": "completed"
    },
    "tags": []
   },
   "outputs": [],
   "source": [
    "def addOneIter(head: ListNode) -> ListNode:\n",
    "    def reverseLL(root: ListNode) -> ListNode:\n",
    "        prev, curr = None, root\n",
    "        while curr:\n",
    "            next_ = curr.next\n",
    "            curr.next = prev\n",
    "            prev, curr = curr, next_\n",
    "\n",
    "        return prev # type: ignore\n",
    "\n",
    "    rev_head = curr = reverseLL(head)\n",
    "\n",
    "    # Add 1 to reversed head and move forward\n",
    "    prev, carry = None, 1\n",
    "    while curr:\n",
    "        value = curr.val + carry\n",
    "        carry, curr.val = value // 10, value % 10\n",
    "        prev, curr = curr, curr.next\n",
    "\n",
    "    if carry and prev:\n",
    "        prev.next = ListNode(carry)\n",
    "\n",
    "    return reverseLL(rev_head)\n",
    "\n",
    "# Testing the solution\n",
    "assert addOneIter(ListNode.to_singly_linked_list([9])).to_list() == [1,0]\n",
    "assert addOneIter(ListNode.to_singly_linked_list([0])).to_list() == [1]"
   ]
  },
  {
   "cell_type": "markdown",
   "id": "f6fa4b2a",
   "metadata": {
    "papermill": {
     "duration": 0.006484,
     "end_time": "2024-05-28T07:43:38.633663",
     "exception": false,
     "start_time": "2024-05-28T07:43:38.627179",
     "status": "completed"
    },
    "tags": []
   },
   "source": [
    "Find intersection point of two linked lists: https://leetcode.com/problems/intersection-of-two-linked-lists/\n",
    "Video Link: https://youtu.be/0DYoPz2Tpt4?si=Xb8Vkn3dRvw57Se8"
   ]
  },
  {
   "cell_type": "markdown",
   "id": "7e7a074f",
   "metadata": {
    "papermill": {
     "duration": 0.006585,
     "end_time": "2024-05-28T07:43:38.646831",
     "exception": false,
     "start_time": "2024-05-28T07:43:38.640246",
     "status": "completed"
    },
    "tags": []
   },
   "source": [
    "Code snippet for generating test cases relevant to this problem"
   ]
  },
  {
   "cell_type": "code",
   "execution_count": 28,
   "id": "df06d967",
   "metadata": {
    "execution": {
     "iopub.execute_input": "2024-05-28T07:43:38.661101Z",
     "iopub.status.busy": "2024-05-28T07:43:38.660720Z",
     "iopub.status.idle": "2024-05-28T07:43:38.665538Z",
     "shell.execute_reply": "2024-05-28T07:43:38.665057Z"
    },
    "papermill": {
     "duration": 0.013311,
     "end_time": "2024-05-28T07:43:38.666612",
     "exception": false,
     "start_time": "2024-05-28T07:43:38.653301",
     "status": "completed"
    },
    "tags": []
   },
   "outputs": [],
   "source": [
    "def generateTestCasesForGetIntersectionNodes() -> tuple[ListNode, ListNode, ListNode]:\n",
    "    \"\"\"\n",
    "    1. Generate a list of ListNodes\n",
    "    2. Split the list into 3 groups (headA, headB, common)\n",
    "    3. Tail of both headA and headB points to common\n",
    "    \"\"\"\n",
    "\n",
    "    N = random.randint(5, 20)\n",
    "    nodes = [random.randint(1, 100) for i in range(N)]\n",
    "    common_length = random.randint(0, N - 2)\n",
    "    lenA = random.randint(1, N - common_length - 1)\n",
    "    lenB = N - common_length - lenA\n",
    "\n",
    "    headA = ListNode.to_singly_linked_list(nodes[:lenA])\n",
    "    headB = ListNode.to_singly_linked_list(nodes[lenA:lenA + lenB])\n",
    "    common = ListNode.to_singly_linked_list(nodes[lenA + lenB:])\n",
    "\n",
    "    if common:\n",
    "        currA = headA\n",
    "        while currA.next:\n",
    "            currA = currA.next\n",
    "\n",
    "        currB = headB\n",
    "        while currB.next:\n",
    "            currB = currB.next\n",
    "\n",
    "        currA.next = currB.next = common\n",
    "\n",
    "    return headA, headB, common"
   ]
  },
  {
   "cell_type": "code",
   "execution_count": 29,
   "id": "dc25919d",
   "metadata": {
    "execution": {
     "iopub.execute_input": "2024-05-28T07:43:38.680841Z",
     "iopub.status.busy": "2024-05-28T07:43:38.680386Z",
     "iopub.status.idle": "2024-05-28T07:43:38.685318Z",
     "shell.execute_reply": "2024-05-28T07:43:38.684793Z"
    },
    "lines_to_next_cell": 1,
    "papermill": {
     "duration": 0.013152,
     "end_time": "2024-05-28T07:43:38.686369",
     "exception": false,
     "start_time": "2024-05-28T07:43:38.673217",
     "status": "completed"
    },
    "tags": []
   },
   "outputs": [],
   "source": [
    "# https://leetcode.com/problems/intersection-of-two-linked-lists/submissions/1270019723\n",
    "def getIntersectionNode(headA: ListNode, headB: ListNode) -> ListNode|None:\n",
    "    \"\"\"\n",
    "    Compute the length of both nodes.\n",
    "    The problem is the different sizes of the LL, so move the longer one until both lengths are equal.\n",
    "    Start iterating and stop at the point where both nodes are the same.\n",
    "    \"\"\"\n",
    "    # Compute lengths of both LL\n",
    "    N1, curr = 0, headA\n",
    "    while curr:\n",
    "        N1, curr = N1 + 1, curr.next\n",
    "\n",
    "    # Compute lengths of both LL\n",
    "    N2, curr = 0, headB\n",
    "    while curr:\n",
    "        N2, curr = N2 + 1, curr.next\n",
    "\n",
    "    # Start iterating until there is a match\n",
    "    currA = headA\n",
    "    currB = headB\n",
    "    while currA != currB:\n",
    "        if N1 == N2:\n",
    "            currA, currB = currA.next, currB.next\n",
    "        elif N1 > N2:\n",
    "            currA = currA.next\n",
    "            N1 -= 1\n",
    "        else:\n",
    "            currB = currB.next\n",
    "            N2 -= 1\n",
    "\n",
    "    return currA\n",
    "\n",
    "# Testing the solution\n",
    "for i in range(20):\n",
    "    tempA, tempB, common = generateTestCasesForGetIntersectionNodes()\n",
    "    assert getIntersectionNode(tempA, tempB) == common"
   ]
  },
  {
   "cell_type": "code",
   "execution_count": 30,
   "id": "ddbe2569",
   "metadata": {
    "execution": {
     "iopub.execute_input": "2024-05-28T07:43:38.700338Z",
     "iopub.status.busy": "2024-05-28T07:43:38.700016Z",
     "iopub.status.idle": "2024-05-28T07:43:38.704441Z",
     "shell.execute_reply": "2024-05-28T07:43:38.704013Z"
    },
    "lines_to_next_cell": 1,
    "papermill": {
     "duration": 0.012602,
     "end_time": "2024-05-28T07:43:38.705505",
     "exception": false,
     "start_time": "2024-05-28T07:43:38.692903",
     "status": "completed"
    },
    "tags": []
   },
   "outputs": [],
   "source": [
    "def getIntersectionNodeStriver(headA: ListNode, headB: ListNode) -> ListNode|None:\n",
    "    \"\"\"\n",
    "    Iterate currA, currB simaltaneously\n",
    "    If currA and currB reaches null together return null\n",
    "    Otherwise move currA to beginning of headB when currA hits null else move currB to beginning of headA when currB hits null\n",
    "\n",
    "    They align with shifting the pointers to the other LLs because:\n",
    "        - Assume diff between the len as d\n",
    "        - Shorter pointer will hit null first and reach the head of longer Linked list, longer pointer would still be d steps behind (at the longer LL).\n",
    "        - By the time longer pointer hits the shorter LL's head, shorter pointer would have travelled d steps in the longer linked list thus aligning together.\n",
    "\n",
    "    Time Complexity: O (M + N) (each pointer travels length of LL1 and LL2, but simaltaneously)\n",
    "    Space Complexity: O(1)\n",
    "    \"\"\"\n",
    "    currA, currB = headA, headB\n",
    "    while currA or currB:\n",
    "        if currA == currB:\n",
    "            return currA\n",
    "        elif not currA:\n",
    "            currA = headB\n",
    "        elif not currB:\n",
    "            currB = headA\n",
    "        else:\n",
    "            currA, currB = currA.next, currB.next\n",
    "    return None\n",
    "\n",
    "# Testing the solution\n",
    "for i in range(20):\n",
    "    tempA, tempB, common = generateTestCasesForGetIntersectionNodes()\n",
    "    assert getIntersectionNodeStriver(tempA, tempB) == common"
   ]
  },
  {
   "cell_type": "markdown",
   "id": "cbf674eb",
   "metadata": {
    "papermill": {
     "duration": 0.006471,
     "end_time": "2024-05-28T07:43:38.718530",
     "exception": false,
     "start_time": "2024-05-28T07:43:38.712059",
     "status": "completed"
    },
    "tags": []
   },
   "source": [
    "Middle of a linked list: https://leetcode.com/problems/middle-of-the-linked-list/\n",
    "Video Link: https://youtu.be/7LjQ57RqgEc?si=5CaPgtXPsfwLGqPJ "
   ]
  },
  {
   "cell_type": "code",
   "execution_count": 31,
   "id": "42d42838",
   "metadata": {
    "execution": {
     "iopub.execute_input": "2024-05-28T07:43:38.732893Z",
     "iopub.status.busy": "2024-05-28T07:43:38.732392Z",
     "iopub.status.idle": "2024-05-28T07:43:38.736430Z",
     "shell.execute_reply": "2024-05-28T07:43:38.735930Z"
    },
    "lines_to_next_cell": 1,
    "papermill": {
     "duration": 0.01244,
     "end_time": "2024-05-28T07:43:38.737522",
     "exception": false,
     "start_time": "2024-05-28T07:43:38.725082",
     "status": "completed"
    },
    "tags": []
   },
   "outputs": [],
   "source": [
    "def middleNode(head: ListNode) -> ListNode:\n",
    "    # Tortoise and hair algorithm\n",
    "    slow = fast = head\n",
    "    while fast and fast.next:\n",
    "        slow, fast = slow.next, fast.next.next\n",
    "\n",
    "    return slow\n",
    "\n",
    "# Testing the solution\n",
    "assert middleNode(ListNode.to_singly_linked_list([1,2,3,4])).val == 3\n",
    "assert middleNode(ListNode.to_singly_linked_list([1,2,3])).val == 2\n",
    "assert middleNode(ListNode.to_singly_linked_list([1])).val == 1"
   ]
  },
  {
   "cell_type": "markdown",
   "id": "07ca0d01",
   "metadata": {
    "papermill": {
     "duration": 0.006638,
     "end_time": "2024-05-28T07:43:38.750850",
     "exception": false,
     "start_time": "2024-05-28T07:43:38.744212",
     "status": "completed"
    },
    "tags": []
   },
   "source": [
    "Detect cycle"
   ]
  },
  {
   "cell_type": "markdown",
   "id": "a5f83af7",
   "metadata": {
    "papermill": {
     "duration": 0.006543,
     "end_time": "2024-05-28T07:43:38.763925",
     "exception": false,
     "start_time": "2024-05-28T07:43:38.757382",
     "status": "completed"
    },
    "tags": []
   },
   "source": [
    "Function to generate test cases for LL with cycles"
   ]
  },
  {
   "cell_type": "code",
   "execution_count": 32,
   "id": "ccde5409",
   "metadata": {
    "execution": {
     "iopub.execute_input": "2024-05-28T07:43:38.778533Z",
     "iopub.status.busy": "2024-05-28T07:43:38.778041Z",
     "iopub.status.idle": "2024-05-28T07:43:38.782630Z",
     "shell.execute_reply": "2024-05-28T07:43:38.782090Z"
    },
    "lines_to_next_cell": 1,
    "papermill": {
     "duration": 0.013178,
     "end_time": "2024-05-28T07:43:38.783706",
     "exception": false,
     "start_time": "2024-05-28T07:43:38.770528",
     "status": "completed"
    },
    "tags": []
   },
   "outputs": [],
   "source": [
    "def generateTestCasesForHasCycle() -> tuple[ListNode, bool, int]:\n",
    "    cycle = random.random() > 0.5\n",
    "    N = random.randint(2, 25)\n",
    "    head = ListNode.to_singly_linked_list([random.randint(1, 50) for i in range(N)])\n",
    "\n",
    "    if cycle:\n",
    "        cycle_end = random.randint(0, N - 1)\n",
    "        cycle_end_node = None\n",
    "        count, prev, curr = 0, None, head\n",
    "        while curr:\n",
    "            if count == cycle_end:\n",
    "                cycle_end_node = curr\n",
    "            prev, curr = curr, curr.next\n",
    "            count += 1\n",
    "        prev.next = cycle_end_node # type: ignore\n",
    "\n",
    "    else:\n",
    "        cycle_end = N\n",
    "\n",
    "    return head, cycle, N - cycle_end"
   ]
  },
  {
   "cell_type": "code",
   "execution_count": 33,
   "id": "6bf15063",
   "metadata": {
    "execution": {
     "iopub.execute_input": "2024-05-28T07:43:38.798293Z",
     "iopub.status.busy": "2024-05-28T07:43:38.797876Z",
     "iopub.status.idle": "2024-05-28T07:43:38.801914Z",
     "shell.execute_reply": "2024-05-28T07:43:38.801433Z"
    },
    "lines_to_next_cell": 1,
    "papermill": {
     "duration": 0.012425,
     "end_time": "2024-05-28T07:43:38.802958",
     "exception": false,
     "start_time": "2024-05-28T07:43:38.790533",
     "status": "completed"
    },
    "tags": []
   },
   "outputs": [],
   "source": [
    "# https://leetcode.com/problems/linked-list-cycle/submissions/1270124229/\n",
    "def hasCycle(head: ListNode) -> bool:\n",
    "    \"\"\"\n",
    "    Once inside cycle fast and slow will always collide, reason being\n",
    "    At each step, slow is moving away from fast at rate of 1 unit distance. Fast is\n",
    "    moving towards slow at a rate of 2 unit distances. Net diff is -1. Distance is slowly\n",
    "    closed in by the fast pointer until they evenutally reach.\n",
    "\n",
    "    This happens only because slow moves by 1 step and fast moves by 2 steps, so as to keep the\n",
    "    net diff as 1.\n",
    "    \"\"\"\n",
    "    slow = fast = head\n",
    "    while slow and fast and fast.next:\n",
    "        slow, fast = slow.next, fast.next.next\n",
    "        if slow == fast:\n",
    "            return True\n",
    "\n",
    "    return False\n",
    "\n",
    "# Testing the solution\n",
    "for i in range(20):\n",
    "    temp, result, _ = generateTestCasesForHasCycle()\n",
    "    assert hasCycle(temp) == result"
   ]
  },
  {
   "cell_type": "markdown",
   "id": "d4704b18",
   "metadata": {
    "papermill": {
     "duration": 0.006618,
     "end_time": "2024-05-28T07:43:38.816366",
     "exception": false,
     "start_time": "2024-05-28T07:43:38.809748",
     "status": "completed"
    },
    "tags": []
   },
   "source": [
    "Find the length of the LL\n",
    "Video Link: https://youtu.be/I4g1qbkTPus?si=GVUwRbb-TQ_Ko7md\n",
    "Brute force: Store node and time. When a node is revisited, return curr_time - past_time for the length"
   ]
  },
  {
   "cell_type": "code",
   "execution_count": 34,
   "id": "c473e001",
   "metadata": {
    "execution": {
     "iopub.execute_input": "2024-05-28T07:43:38.830551Z",
     "iopub.status.busy": "2024-05-28T07:43:38.830364Z",
     "iopub.status.idle": "2024-05-28T07:43:38.834707Z",
     "shell.execute_reply": "2024-05-28T07:43:38.834254Z"
    },
    "lines_to_next_cell": 1,
    "papermill": {
     "duration": 0.012713,
     "end_time": "2024-05-28T07:43:38.835790",
     "exception": false,
     "start_time": "2024-05-28T07:43:38.823077",
     "status": "completed"
    },
    "tags": []
   },
   "outputs": [],
   "source": [
    "def countNodesinLoop(head: ListNode) -> int:\n",
    "    # Find a point of intersection\n",
    "    slow = fast = head\n",
    "    while fast and fast.next:\n",
    "        slow, fast = slow.next, fast.next.next\n",
    "        if slow == fast:\n",
    "            break\n",
    "\n",
    "    # Count number of nodes in loop\n",
    "    if not fast or not fast.next:\n",
    "        return 0\n",
    "    else:\n",
    "        count = 1\n",
    "        curr = fast.next\n",
    "        while curr != fast:\n",
    "            curr, count = curr.next, count + 1\n",
    "        return count\n",
    "\n",
    "# Testing the solution\n",
    "for i in range(20):\n",
    "    temp, result, cycle_length = generateTestCasesForHasCycle()\n",
    "    assert countNodesinLoop(temp) == cycle_length"
   ]
  },
  {
   "cell_type": "markdown",
   "id": "3d4d86ad",
   "metadata": {
    "papermill": {
     "duration": 0.006581,
     "end_time": "2024-05-28T07:43:38.849257",
     "exception": false,
     "start_time": "2024-05-28T07:43:38.842676",
     "status": "completed"
    },
    "tags": []
   },
   "source": [
    "Delete the middle node of a LL: https://leetcode.com/problems/delete-the-middle-node-of-a-linked-list/\n",
    "Video Link: https://youtu.be/ePpV-_pfOeI?si=CrCPJnN2MA38JYZh"
   ]
  },
  {
   "cell_type": "code",
   "execution_count": 35,
   "id": "ac21940a",
   "metadata": {
    "execution": {
     "iopub.execute_input": "2024-05-28T07:43:38.864067Z",
     "iopub.status.busy": "2024-05-28T07:43:38.863603Z",
     "iopub.status.idle": "2024-05-28T07:43:38.868078Z",
     "shell.execute_reply": "2024-05-28T07:43:38.867611Z"
    },
    "lines_to_next_cell": 1,
    "papermill": {
     "duration": 0.013105,
     "end_time": "2024-05-28T07:43:38.869151",
     "exception": false,
     "start_time": "2024-05-28T07:43:38.856046",
     "status": "completed"
    },
    "tags": []
   },
   "outputs": [],
   "source": [
    "# https://leetcode.com/problems/delete-the-middle-node-of-a-linked-list/submissions/1270182161\n",
    "def deleteMiddle(head: ListNode) -> ListNode:\n",
    "    # Tortoise and hare to find the node's middle\n",
    "    prev = None\n",
    "    slow = fast = head\n",
    "    while fast and fast.next:\n",
    "        prev, slow, fast = slow, slow.next, fast.next.next\n",
    "\n",
    "    # Delete the node\n",
    "    if not prev:\n",
    "        head = head.next\n",
    "    else:\n",
    "        prev.next = prev.next.next\n",
    "\n",
    "    return head\n",
    "\n",
    "# Testing the solution\n",
    "assert deleteMiddle(ListNode.to_singly_linked_list([1,3,4,7,1,2,6])).to_list() == [1,3,4,1,2,6]\n",
    "assert deleteMiddle(ListNode.to_singly_linked_list([1,2,3,4])).to_list() == [1,2,4]\n",
    "assert deleteMiddle(ListNode.to_singly_linked_list([2,1])).to_list() == [2]"
   ]
  },
  {
   "cell_type": "markdown",
   "id": "79fcca0d",
   "metadata": {},
   "source": [
    "Find starting point of a loop / cycle\n",
    "Video Link: https://youtu.be/2Kd0KKmmHFc?si=9XzuefTJpWk7vgEI"
   ]
  },
  {
   "cell_type": "code",
   "execution_count": null,
   "id": "4ea0855f",
   "metadata": {
    "lines_to_next_cell": 1
   },
   "outputs": [],
   "source": [
    "def detectCycleStartBrute(head: ListNode) -> ListNode|None:\n",
    "    set_: set[ListNode] = set()\n",
    "    curr = head\n",
    "    while curr:\n",
    "        if curr not in set_:\n",
    "            set_.add(curr)\n",
    "            curr = curr.next\n",
    "        else:\n",
    "            return curr\n",
    "    return None"
   ]
  },
  {
   "cell_type": "code",
   "execution_count": null,
   "id": "ceabaf44",
   "metadata": {
    "lines_to_next_cell": 1
   },
   "outputs": [],
   "source": [
    "# https://leetcode.com/problems/linked-list-cycle-ii/submissions/1270513369\n",
    "def detectCycleStart(head: ListNode) -> ListNode|None:\n",
    "    \"\"\"\n",
    "    1. Init fast and slow pointers, iterate until they collide\n",
    "    2. Init a new pointer and move it simaltaneously along with the slow pointer until they both intersect. This would be the point of intersection.\n",
    "\n",
    "    For intution watch the video from 16:00\n",
    "    - When the slow pointer reaches the start of the loop (L distance), the fast pointer would have traversed L distance into the loop.\n",
    "    - Assume distance between fast pointer and start of the loop is 'd'.\n",
    "    - We iterate until fast and slow collide. When they collide, slow would have traversed 'd' units and fast would have traversed '2d' units, reason being the d distance is covered by slow pointer a ta pace of 1 unit at a time which fast moving 2 units at a time and takes 2 * d units of travel.\n",
    "    - Total length of loop is L + d. At collision, slow pointer would be d units into the loop or in other words: L units away from the start of the loop.\n",
    "    - We move slow (L units away from start of loop) and start iterating from the head (L units from start of loop).\n",
    "    - They are at equal distance and would collide at start of the loop.\n",
    "    \"\"\"\n",
    "    # Fast and slow pointer algorithm until collision\n",
    "    slow = fast = head\n",
    "    while fast and fast.next:\n",
    "        slow, fast = slow.next, fast.next.next\n",
    "        if slow == fast:\n",
    "            break\n",
    "\n",
    "    # We have reached an intersecting node, we iterate slow and new pointer at head until we intersect again\n",
    "    if fast and fast.next:\n",
    "        curr = head\n",
    "        while curr != slow:\n",
    "            curr, slow = curr.next, slow.next\n",
    "        return curr\n",
    "    else:\n",
    "        return None\n",
    "\n",
    "# Testing the solution\n",
    "for i in range(20):\n",
    "    temp, _, _ = generateTestCasesForHasCycle()\n",
    "    detectCycleStartBrute(temp) == detectCycleStart(temp)"
   ]
  },
  {
   "cell_type": "markdown",
   "id": "4a5b91af",
   "metadata": {},
   "source": [
    "Delete all occurances of key from DLL\n",
    "Video Link: https://youtu.be/Mh0NH_SD92k?si=EOHv42dLQgWo2hfo"
   ]
  },
  {
   "cell_type": "code",
   "execution_count": null,
   "id": "8afd6d09",
   "metadata": {},
   "outputs": [],
   "source": [
    "def deleteAllOccurrences(head: DLLNode, k: int) -> DLLNode:\n",
    "    curr = head\n",
    "    while curr:\n",
    "        if curr.val == k:\n",
    "            prev, next_ = curr.prev, curr.next\n",
    "            if not prev:\n",
    "                head = head.next\n",
    "            if prev:\n",
    "                prev.next = next_\n",
    "            if next_:\n",
    "                next_.prev = prev\n",
    "        curr = curr.next\n",
    "\n",
    "    return head\n",
    "\n",
    "# Testing the solution\n",
    "assert deleteAllOccurrences(DLLNode.to_doubly_linked_list([1,2,3,1,1,5,1]), 1).to_list() == [2,3,5]\n",
    "assert deleteAllOccurrences(DLLNode.to_doubly_linked_list([1,1,5,1]), 1).to_list() == [5]"
   ]
  }
 ],
 "metadata": {
  "kernelspec": {
   "display_name": "Python 3 (ipykernel)",
   "language": "python",
   "name": "python3"
  },
  "language_info": {
   "codemirror_mode": {
    "name": "ipython",
    "version": 3
   },
   "file_extension": ".py",
   "mimetype": "text/x-python",
   "name": "python",
   "nbconvert_exporter": "python",
   "pygments_lexer": "ipython3",
   "version": "3.11.9"
  },
  "papermill": {
   "default_parameters": {},
   "duration": 2.779616,
   "end_time": "2024-05-28T07:43:39.091448",
   "environment_variables": {},
   "exception": null,
   "input_path": "study/striver-A2Z/14-linked-list.ipynb",
   "output_path": "study/striver-A2Z/14-linked-list.ipynb",
   "parameters": {},
   "start_time": "2024-05-28T07:43:36.311832",
   "version": "2.6.0"
  }
 },
 "nbformat": 4,
 "nbformat_minor": 5
}
