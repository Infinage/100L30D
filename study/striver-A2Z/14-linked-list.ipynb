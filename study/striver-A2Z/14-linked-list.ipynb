{
 "cells": [
  {
   "cell_type": "markdown",
   "id": "7bb754d1",
   "metadata": {
    "papermill": {
     "duration": 0.002875,
     "end_time": "2024-05-25T16:09:02.759262",
     "exception": false,
     "start_time": "2024-05-25T16:09:02.756387",
     "status": "completed"
    },
    "tags": []
   },
   "source": [
    "### Useful imports"
   ]
  },
  {
   "cell_type": "code",
   "execution_count": 1,
   "id": "9ca3a0e7",
   "metadata": {
    "execution": {
     "iopub.execute_input": "2024-05-25T16:09:02.764727Z",
     "iopub.status.busy": "2024-05-25T16:09:02.764293Z",
     "iopub.status.idle": "2024-05-25T16:09:03.132583Z",
     "shell.execute_reply": "2024-05-25T16:09:03.131969Z"
    },
    "lines_to_next_cell": 1,
    "papermill": {
     "duration": 0.372879,
     "end_time": "2024-05-25T16:09:03.134205",
     "exception": false,
     "start_time": "2024-05-25T16:09:02.761326",
     "status": "completed"
    },
    "tags": []
   },
   "outputs": [],
   "source": [
    "from typing import List, Optional, Generator\n",
    "import pandas as pd\n",
    "import numpy as np\n",
    "import sqlite3\n",
    "import re\n",
    "import io\n",
    "import math\n",
    "import collections\n",
    "import itertools\n",
    "import functools\n",
    "import random\n",
    "import string\n",
    "import tqdm\n",
    "import bisect\n",
    "import heapq"
   ]
  },
  {
   "cell_type": "markdown",
   "id": "4d54d767",
   "metadata": {
    "papermill": {
     "duration": 0.002153,
     "end_time": "2024-05-25T16:09:03.138521",
     "exception": false,
     "start_time": "2024-05-25T16:09:03.136368",
     "status": "completed"
    },
    "tags": []
   },
   "source": [
    "#### Helper for Singly Linked lists"
   ]
  },
  {
   "cell_type": "code",
   "execution_count": 2,
   "id": "db8c5b93",
   "metadata": {
    "execution": {
     "iopub.execute_input": "2024-05-25T16:09:03.143586Z",
     "iopub.status.busy": "2024-05-25T16:09:03.143027Z",
     "iopub.status.idle": "2024-05-25T16:09:03.148429Z",
     "shell.execute_reply": "2024-05-25T16:09:03.147807Z"
    },
    "lines_to_next_cell": 1,
    "papermill": {
     "duration": 0.009302,
     "end_time": "2024-05-25T16:09:03.149702",
     "exception": false,
     "start_time": "2024-05-25T16:09:03.140400",
     "status": "completed"
    },
    "tags": []
   },
   "outputs": [],
   "source": [
    "class ListNode:\n",
    "    def __init__(self, val=0, next_=None):\n",
    "        self.val = val\n",
    "        self.next = next_\n",
    "\n",
    "    def __str__(self):\n",
    "        return str(self.val)\n",
    "\n",
    "    @staticmethod\n",
    "    def to_singly_linked_list(nums: list[int]):\n",
    "        root = prev = None\n",
    "        for n in nums:\n",
    "            curr = ListNode(n)\n",
    "            # Init once\n",
    "            if not root:\n",
    "                root = curr\n",
    "            if prev:\n",
    "                prev.next = curr\n",
    "            prev = curr\n",
    "\n",
    "        return root\n",
    "\n",
    "    def to_list(self) -> list[int]:\n",
    "        result = []\n",
    "        curr = self\n",
    "        while curr:\n",
    "            result.append(curr.val)\n",
    "            curr = curr.next\n",
    "        return result"
   ]
  },
  {
   "cell_type": "markdown",
   "id": "8f195f7d",
   "metadata": {},
   "source": [
    "#### Helper for Doubly Linked lists"
   ]
  },
  {
   "cell_type": "code",
   "execution_count": null,
   "id": "7d9ad38e",
   "metadata": {},
   "outputs": [],
   "source": [
    "class DLLNode:\n",
    "    def __init__(self, val: int = 0, next_=None, prev = None):\n",
    "        self.val = val\n",
    "        self.next = next_\n",
    "        self.prev = next_\n",
    "\n",
    "    def __str__(self):\n",
    "        return str(self.val)\n",
    "\n",
    "    @staticmethod\n",
    "    def to_doubly_linked_list(nums: list[int]):\n",
    "        head = prev = None\n",
    "        for n in nums:\n",
    "            curr = DLLNode(n)\n",
    "            if prev:\n",
    "                prev.next = curr\n",
    "                curr.prev = prev\n",
    "            else:\n",
    "                head = curr\n",
    "            prev = curr\n",
    "        return head\n",
    "\n",
    "    def to_list(self) -> list[int]:\n",
    "        result = []\n",
    "        curr = self\n",
    "        while curr:\n",
    "            result.append(curr.val)\n",
    "            curr = curr.next\n",
    "        return result"
   ]
  },
  {
   "cell_type": "markdown",
   "id": "3bd55ce0",
   "metadata": {
    "papermill": {
     "duration": 0.001868,
     "end_time": "2024-05-25T16:09:03.153690",
     "exception": false,
     "start_time": "2024-05-25T16:09:03.151822",
     "status": "completed"
    },
    "tags": []
   },
   "source": [
    "Convert an array to Linked list"
   ]
  },
  {
   "cell_type": "code",
   "execution_count": 3,
   "id": "59dfeb8f",
   "metadata": {
    "execution": {
     "iopub.execute_input": "2024-05-25T16:09:03.158866Z",
     "iopub.status.busy": "2024-05-25T16:09:03.158326Z",
     "iopub.status.idle": "2024-05-25T16:09:03.162123Z",
     "shell.execute_reply": "2024-05-25T16:09:03.161655Z"
    },
    "lines_to_next_cell": 1,
    "papermill": {
     "duration": 0.007529,
     "end_time": "2024-05-25T16:09:03.163210",
     "exception": false,
     "start_time": "2024-05-25T16:09:03.155681",
     "status": "completed"
    },
    "tags": []
   },
   "outputs": [],
   "source": [
    "def constructLL(arr: list[int]) -> ListNode|None:\n",
    "    head: \"ListNode\" | None = None\n",
    "    tail = head\n",
    "\n",
    "    for n in arr:\n",
    "        curr = ListNode(n)\n",
    "        if not tail:\n",
    "            head = tail = curr\n",
    "        else:\n",
    "            tail.next = curr\n",
    "            tail = curr\n",
    "\n",
    "    return head"
   ]
  },
  {
   "cell_type": "markdown",
   "id": "0c090b60",
   "metadata": {
    "papermill": {
     "duration": 0.001914,
     "end_time": "2024-05-25T16:09:03.167050",
     "exception": false,
     "start_time": "2024-05-25T16:09:03.165136",
     "status": "completed"
    },
    "tags": []
   },
   "source": [
    "Length of LL"
   ]
  },
  {
   "cell_type": "code",
   "execution_count": 4,
   "id": "d41e087f",
   "metadata": {
    "execution": {
     "iopub.execute_input": "2024-05-25T16:09:03.172013Z",
     "iopub.status.busy": "2024-05-25T16:09:03.171513Z",
     "iopub.status.idle": "2024-05-25T16:09:03.174974Z",
     "shell.execute_reply": "2024-05-25T16:09:03.174544Z"
    },
    "lines_to_next_cell": 1,
    "papermill": {
     "duration": 0.007079,
     "end_time": "2024-05-25T16:09:03.176029",
     "exception": false,
     "start_time": "2024-05-25T16:09:03.168950",
     "status": "completed"
    },
    "tags": []
   },
   "outputs": [],
   "source": [
    "def lengthOfLL(head: ListNode) -> int:\n",
    "    curr = head\n",
    "    count = 0\n",
    "    while curr:\n",
    "        curr = curr.next\n",
    "        count += 1\n",
    "\n",
    "    return count\n",
    "\n",
    "# Testing the solution\n",
    "assert lengthOfLL(ListNode.to_singly_linked_list([1,2,3,4,5])) == 5"
   ]
  },
  {
   "cell_type": "markdown",
   "id": "bd9565da",
   "metadata": {
    "papermill": {
     "duration": 0.001983,
     "end_time": "2024-05-25T16:09:03.180037",
     "exception": false,
     "start_time": "2024-05-25T16:09:03.178054",
     "status": "completed"
    },
    "tags": []
   },
   "source": [
    "Search in a linked list"
   ]
  },
  {
   "cell_type": "code",
   "execution_count": 5,
   "id": "1137b6e9",
   "metadata": {
    "execution": {
     "iopub.execute_input": "2024-05-25T16:09:03.185528Z",
     "iopub.status.busy": "2024-05-25T16:09:03.184969Z",
     "iopub.status.idle": "2024-05-25T16:09:03.188754Z",
     "shell.execute_reply": "2024-05-25T16:09:03.188207Z"
    },
    "lines_to_next_cell": 1,
    "papermill": {
     "duration": 0.007763,
     "end_time": "2024-05-25T16:09:03.189863",
     "exception": false,
     "start_time": "2024-05-25T16:09:03.182100",
     "status": "completed"
    },
    "tags": []
   },
   "outputs": [],
   "source": [
    "def searchInLinkedList(head: ListNode, k: int):\n",
    "    curr = head\n",
    "    while curr:\n",
    "        if curr.val == k:\n",
    "            return 1\n",
    "        else:\n",
    "            curr = curr.next\n",
    "\n",
    "    return 0\n",
    "\n",
    "# Testing the solution\n",
    "assert searchInLinkedList(ListNode.to_singly_linked_list([1,2,3,4]), 4) == 1"
   ]
  },
  {
   "cell_type": "markdown",
   "id": "73478462",
   "metadata": {
    "papermill": {
     "duration": 0.001953,
     "end_time": "2024-05-25T16:09:03.194540",
     "exception": false,
     "start_time": "2024-05-25T16:09:03.192587",
     "status": "completed"
    },
    "tags": []
   },
   "source": [
    "Delete a node from linked list\n",
    "https://www.geeksforgeeks.org/problems/delete-a-node-in-single-linked-list/1"
   ]
  },
  {
   "cell_type": "code",
   "execution_count": 6,
   "id": "5bd512fc",
   "metadata": {
    "execution": {
     "iopub.execute_input": "2024-05-25T16:09:03.199564Z",
     "iopub.status.busy": "2024-05-25T16:09:03.199072Z",
     "iopub.status.idle": "2024-05-25T16:09:03.205224Z",
     "shell.execute_reply": "2024-05-25T16:09:03.204664Z"
    },
    "lines_to_next_cell": 1,
    "papermill": {
     "duration": 0.009943,
     "end_time": "2024-05-25T16:09:03.206422",
     "exception": false,
     "start_time": "2024-05-25T16:09:03.196479",
     "status": "completed"
    },
    "tags": []
   },
   "outputs": [],
   "source": [
    "def delNodePos(head: ListNode, k: int):\n",
    "    if not head or k == 0:\n",
    "        return head\n",
    "    elif k == 1:\n",
    "        return head.next\n",
    "    else:\n",
    "        count: int = 0\n",
    "        prev: ListNode|None = None\n",
    "        curr: ListNode|None = head\n",
    "\n",
    "        while curr:\n",
    "            count += 1\n",
    "            if count == k and prev:\n",
    "                prev.next = prev.next.next\n",
    "                break\n",
    "            else:\n",
    "                prev, curr = curr, curr.next\n",
    "\n",
    "        return head\n",
    "\n",
    "# Testing the solution\n",
    "assert delNodePos(ListNode.to_singly_linked_list([1,2]), 2).to_list() == [1]\n",
    "assert delNodePos(ListNode.to_singly_linked_list([1,2]), 1).to_list() == [2]\n",
    "assert delNodePos(ListNode.to_singly_linked_list([1]), 1) is None\n",
    "assert delNodePos(ListNode.to_singly_linked_list([1]), 10).to_list() == [1]\n",
    "assert delNodePos(ListNode.to_singly_linked_list([1,2,3]), 10).to_list() == [1,2,3]"
   ]
  },
  {
   "cell_type": "markdown",
   "id": "6ea5a2c5",
   "metadata": {
    "papermill": {
     "duration": 0.002052,
     "end_time": "2024-05-25T16:09:03.210471",
     "exception": false,
     "start_time": "2024-05-25T16:09:03.208419",
     "status": "completed"
    },
    "tags": []
   },
   "source": [
    "Delete node by value"
   ]
  },
  {
   "cell_type": "code",
   "execution_count": 7,
   "id": "420f38cf",
   "metadata": {
    "execution": {
     "iopub.execute_input": "2024-05-25T16:09:03.215472Z",
     "iopub.status.busy": "2024-05-25T16:09:03.215022Z",
     "iopub.status.idle": "2024-05-25T16:09:03.219931Z",
     "shell.execute_reply": "2024-05-25T16:09:03.219404Z"
    },
    "lines_to_next_cell": 1,
    "papermill": {
     "duration": 0.009105,
     "end_time": "2024-05-25T16:09:03.221545",
     "exception": false,
     "start_time": "2024-05-25T16:09:03.212440",
     "status": "completed"
    },
    "tags": []
   },
   "outputs": [],
   "source": [
    "def delNodeVal(head: ListNode, val: int):\n",
    "    if not head:\n",
    "        return head\n",
    "    elif head.val == val:\n",
    "        return head.next\n",
    "    else:\n",
    "        prev: ListNode|None = None\n",
    "        curr: ListNode|None = head\n",
    "        while curr:\n",
    "            if curr.val == val and prev:\n",
    "                prev.next = prev.next.next\n",
    "                break\n",
    "            else:\n",
    "                prev, curr = curr, curr.next\n",
    "\n",
    "        return head\n",
    "\n",
    "# Testing the solution\n",
    "assert delNodeVal(ListNode.to_singly_linked_list([1,2]), 2).to_list() == [1]\n",
    "assert delNodeVal(ListNode.to_singly_linked_list([1,2]), 1).to_list() == [2]\n",
    "assert delNodeVal(ListNode.to_singly_linked_list([1]), 1) is None\n",
    "assert delNodeVal(ListNode.to_singly_linked_list([1]), 10).to_list() == [1]\n",
    "assert delNodeVal(ListNode.to_singly_linked_list([1,2,3]), 3).to_list() == [1,2]"
   ]
  },
  {
   "cell_type": "markdown",
   "id": "53646359",
   "metadata": {
    "papermill": {
     "duration": 0.001969,
     "end_time": "2024-05-25T16:09:03.226362",
     "exception": false,
     "start_time": "2024-05-25T16:09:03.224393",
     "status": "completed"
    },
    "tags": []
   },
   "source": [
    "Inserting into a linked list"
   ]
  },
  {
   "cell_type": "code",
   "execution_count": 8,
   "id": "9de3ec91",
   "metadata": {
    "execution": {
     "iopub.execute_input": "2024-05-25T16:09:03.231348Z",
     "iopub.status.busy": "2024-05-25T16:09:03.230884Z",
     "iopub.status.idle": "2024-05-25T16:09:03.235480Z",
     "shell.execute_reply": "2024-05-25T16:09:03.235045Z"
    },
    "lines_to_next_cell": 1,
    "papermill": {
     "duration": 0.008243,
     "end_time": "2024-05-25T16:09:03.236624",
     "exception": false,
     "start_time": "2024-05-25T16:09:03.228381",
     "status": "completed"
    },
    "tags": []
   },
   "outputs": [],
   "source": [
    "def insertNode(head: ListNode, N: int, pos: int, val: int) -> ListNode:\n",
    "    node = ListNode(val)\n",
    "    if pos == 0:\n",
    "        node.next = head\n",
    "        return node\n",
    "    else:\n",
    "        prev: ListNode|None = None\n",
    "        curr: ListNode|None = head\n",
    "\n",
    "        count = 0\n",
    "        while count < pos:\n",
    "            count += 1\n",
    "            if curr:\n",
    "                prev, curr = curr, curr.next\n",
    "\n",
    "        if prev:\n",
    "            prev.next = node\n",
    "            node.next = curr\n",
    "\n",
    "        return head\n",
    "\n",
    "# Testing the solution\n",
    "assert insertNode(ListNode.to_singly_linked_list([1,2,3,4]), 4, 0, 0).to_list() == [0,1,2,3,4]\n",
    "assert insertNode(ListNode.to_singly_linked_list([]), 0, 0, 0).to_list() == [0]"
   ]
  },
  {
   "cell_type": "markdown",
   "id": "80af1929",
   "metadata": {},
   "source": [
    "### Doubly Linked List\n",
    "Construct doubly linked list from array"
   ]
  },
  {
   "cell_type": "code",
   "execution_count": null,
   "id": "1d2d3de2",
   "metadata": {
    "lines_to_next_cell": 1
   },
   "outputs": [],
   "source": [
    "def constructDLL(arr: list[int]) -> DLLNode:\n",
    "    head: DLLNode|None =  None\n",
    "    prev: DLLNode|None =  None\n",
    "\n",
    "    for n in arr:\n",
    "        curr = DLLNode(n)\n",
    "        if prev:\n",
    "            prev.next = curr\n",
    "            curr.prev = prev\n",
    "        else:\n",
    "            head = curr\n",
    "        prev = curr\n",
    "\n",
    "    return head # type: ignore\n",
    "\n",
    "# Testing the solution\n",
    "assert constructDLL([1,2,3,4,5]).to_list() == [1,2,3,4,5]"
   ]
  },
  {
   "cell_type": "markdown",
   "id": "57e40a96",
   "metadata": {},
   "source": [
    "Inserting into a Doubly linked list"
   ]
  },
  {
   "cell_type": "code",
   "execution_count": null,
   "id": "eeae0793",
   "metadata": {
    "lines_to_next_cell": 1
   },
   "outputs": [],
   "source": [
    "def addDLLNode(head: DLLNode, p: int, data: int) -> DLLNode:\n",
    "    node: DLLNode = DLLNode(data)\n",
    "    prev: DLLNode = head\n",
    "\n",
    "    while p > 0:\n",
    "        p -= 1\n",
    "        prev = prev.next\n",
    "\n",
    "    next_ = prev.next\n",
    "    node.next = next_\n",
    "    prev.next = node\n",
    "    node.prev = prev\n",
    "\n",
    "    if next_:\n",
    "        next_.prev = node\n",
    "\n",
    "    return head\n",
    "\n",
    "# Testing the solution\n",
    "assert addDLLNode(DLLNode.to_doubly_linked_list([2,4,5]), 2, 6).to_list() == [2,4,5,6]"
   ]
  },
  {
   "cell_type": "markdown",
   "id": "4cebaf84",
   "metadata": {},
   "source": [
    "Deleting from a doubly linked list\n",
    "```\n",
    "Easier way still would be to write all edge cases specifically\n",
    "If curr is null (and prev, next are null), we have no nodes to delete\n",
    "If prev and next is null, we have only 1 node to delete\n",
    "If prev is null, we are to delete the head node\n",
    "If next is null, we are to delete the tail node\n",
    "```"
   ]
  },
  {
   "cell_type": "code",
   "execution_count": null,
   "id": "5e1cf229",
   "metadata": {
    "lines_to_next_cell": 1
   },
   "outputs": [],
   "source": [
    "def deleteDLLNode(head: DLLNode, p: int):\n",
    "    curr: DLLNode = head\n",
    "\n",
    "    count = p\n",
    "    while count > 0:\n",
    "        count -= 1\n",
    "        curr = curr.next\n",
    "\n",
    "    prev = curr.prev\n",
    "    next_ = curr.next\n",
    "\n",
    "    if prev:\n",
    "        prev.next = next_\n",
    "    if next_:\n",
    "        next_.prev = prev\n",
    "\n",
    "    return head if p > 0 else head.next\n",
    "\n",
    "# Testing the solution\n",
    "assert deleteDLLNode(DLLNode.to_doubly_linked_list([1,2]), 1).to_list() == [1]\n",
    "assert deleteDLLNode(DLLNode.to_doubly_linked_list([1,2]), 0).to_list() == [2]\n",
    "assert deleteDLLNode(DLLNode.to_doubly_linked_list([1]), 0) is None"
   ]
  },
  {
   "cell_type": "markdown",
   "id": "dfa8d518",
   "metadata": {},
   "source": [
    "Reverse a DLL\n",
    "Video Link: https://youtu.be/u3WUW2qe6ww?si=80DlW_QGoHKnBDjY"
   ]
  },
  {
   "cell_type": "code",
   "execution_count": null,
   "id": "aac2ae31",
   "metadata": {
    "lines_to_next_cell": 1
   },
   "outputs": [],
   "source": [
    "def reverseDLL(head: DLLNode) -> DLLNode:\n",
    "    prev: DLLNode = None # type: ignore\n",
    "    curr: DLLNode = head\n",
    "\n",
    "    while curr:\n",
    "        curr.next, curr.prev = prev, curr.next\n",
    "        prev, curr = curr, curr.prev\n",
    "\n",
    "    return prev\n",
    "\n",
    "# Testing the solution\n",
    "assert reverseDLL(DLLNode.to_doubly_linked_list([1,2])).to_list() == [2,1]\n",
    "assert reverseDLL(DLLNode.to_doubly_linked_list([2])).to_list() == [2]\n",
    "assert reverseDLL(DLLNode.to_doubly_linked_list([1,2,3,4])).to_list() == [4,3,2,1]\n",
    "assert reverseDLL(DLLNode.to_doubly_linked_list([])) is None"
   ]
  },
  {
   "cell_type": "markdown",
   "id": "5c7d5007",
   "metadata": {},
   "source": [
    "Add two numbers\n",
    "Video Link: https://youtu.be/XmRrGzR6udg?si=0Wc8Sp_7v8a_2kPp"
   ]
  },
  {
   "cell_type": "code",
   "execution_count": null,
   "id": "2a271620",
   "metadata": {
    "lines_to_next_cell": 1
   },
   "outputs": [],
   "source": [
    "def addTwoNumbers(head1: ListNode, head2: ListNode) -> ListNode:\n",
    "    n1, n2 = head1, head2\n",
    "    sum_head: ListNode|None = None\n",
    "    sum_node: ListNode|None = None\n",
    "    carry_forward = 0\n",
    "\n",
    "    # Carry_forward is kept here so that in cases where both are exhausted \n",
    "    # and we still have 1 (say 5 + 5, both are exhausted but carry exists)\n",
    "    while n1 or n2 or carry_forward:\n",
    "        sum_ = carry_forward\n",
    "\n",
    "        if n1:\n",
    "            sum_ += n1.val\n",
    "            n1 = n1.next\n",
    "        if n2:\n",
    "            sum_ += n2.val\n",
    "            n2 = n2.next\n",
    "\n",
    "        sum_, carry_forward = sum_ % 10, sum_ // 10\n",
    "        curr = ListNode(sum_)\n",
    "        if not sum_node:\n",
    "            sum_head = sum_node = curr\n",
    "        else:\n",
    "            sum_node.next = curr\n",
    "            sum_node = curr\n",
    "\n",
    "    return sum_head # type: ignore\n",
    "\n",
    "# Testing the solution\n",
    "assert addTwoNumbers(ListNode.to_singly_linked_list([2,4,6]), ListNode.to_singly_linked_list([3,8,7])).to_list() == [5,2,4,1]\n",
    "assert addTwoNumbers(ListNode.to_singly_linked_list([3,5]), ListNode.to_singly_linked_list([4,5,9,9])).to_list() == [7,0,0,0,1]"
   ]
  },
  {
   "cell_type": "markdown",
   "id": "0d492d94",
   "metadata": {},
   "source": [
    "Odd Even Linked List: https://leetcode.com/problems/odd-even-linked-list/description/\n",
    "Video Link: https://youtu.be/qf6qp7GzD5Q?si=f0kxJQ7bJ8JSSZGe"
   ]
  },
  {
   "cell_type": "code",
   "execution_count": null,
   "id": "ed28b236",
   "metadata": {
    "lines_to_next_cell": 1
   },
   "outputs": [],
   "source": [
    "# https://leetcode.com/problems/odd-even-linked-list/submissions/1268536963/\n",
    "def oddEvenList(head: ListNode) -> ListNode:\n",
    "    \"\"\"\n",
    "    The trick here lies in the fact that we should alter the links instead of\n",
    "    trying to alter the values, since we need a O(1) Space, O(N) time complexity.\n",
    "    \"\"\"\n",
    "\n",
    "    # Handling edge case\n",
    "    if not head:\n",
    "        return head\n",
    "\n",
    "    # Split work into creating the even and odd LLs\n",
    "    oddHead = odd = head\n",
    "    evenHead = even = head.next\n",
    "\n",
    "    # It is possible that we iterate until we reach either odd or even\n",
    "    # Checking for even makes code simpler, odd makes it more messy\n",
    "    while even and even.next:\n",
    "        odd.next = odd.next.next\n",
    "        even.next = even.next.next\n",
    "        even, odd = even.next, odd.next\n",
    "\n",
    "    # Once odd and even LL are constructed, odd next should point to evenHead\n",
    "    odd.next = evenHead # type: ignore\n",
    "    return oddHead\n",
    "\n",
    "# Testing the solution\n",
    "assert oddEvenList(ListNode.to_singly_linked_list([1,2,3,4,5])).to_list() == [1,3,5,2,4]\n",
    "assert oddEvenList(ListNode.to_singly_linked_list([1,2,3,4])).to_list() == [1,3,2,4]\n",
    "assert oddEvenList(ListNode.to_singly_linked_list([1,2])).to_list() == [1,2]\n",
    "assert oddEvenList(ListNode.to_singly_linked_list([1])).to_list() == [1]"
   ]
  },
  {
   "cell_type": "markdown",
   "id": "da1e9ff5",
   "metadata": {},
   "source": [
    "Sorted linked list of 0s, 1s, 2s"
   ]
  },
  {
   "cell_type": "code",
   "execution_count": null,
   "id": "283f2b99",
   "metadata": {
    "lines_to_next_cell": 1
   },
   "outputs": [],
   "source": [
    "def sortList012Idea1(head: ListNode) -> ListNode:\n",
    "    count0 = count1 = count2 = 0\n",
    "\n",
    "    # Iterate and compute the counts\n",
    "    curr = head\n",
    "    while curr:\n",
    "        if curr.val == 0:\n",
    "            count0 += 1\n",
    "        elif curr.val == 1:\n",
    "            count1 += 1\n",
    "        else:\n",
    "            count2 += 1\n",
    "        curr = curr.next\n",
    "\n",
    "    # Replace the values\n",
    "    curr = head\n",
    "    while curr:\n",
    "        if count0 > 0:\n",
    "            curr.val, count0 = 0, count0 - 1\n",
    "        elif count1 > 0:\n",
    "            curr.val, count1 = 1, count1 - 1\n",
    "        else:\n",
    "            curr.val, count2 = 2, count2 - 1\n",
    "        curr = curr.next\n",
    "\n",
    "    return head\n",
    "\n",
    "# Testing the solution\n",
    "assert sortList012Idea1(ListNode.to_singly_linked_list([1,0,2,1,0,1,0,2])).to_list() == [0,0,0,1,1,1,2,2]\n",
    "assert sortList012Idea1(ListNode.to_singly_linked_list([2,1])).to_list() == [1,2]"
   ]
  },
  {
   "cell_type": "code",
   "execution_count": null,
   "id": "04a13e4d",
   "metadata": {
    "lines_to_next_cell": 1
   },
   "outputs": [],
   "source": [
    "def sortList012Idea2(head: ListNode) -> ListNode:\n",
    "\n",
    "    # Maintain position until which the LL is sorted\n",
    "    sorted_end: ListNode = head\n",
    "\n",
    "    # Sort 0s\n",
    "    curr = sorted_end\n",
    "    while curr:\n",
    "        if curr.val == 0:\n",
    "            sorted_end.val, curr.val = curr.val, sorted_end.val\n",
    "            sorted_end = sorted_end.next\n",
    "        curr = curr.next\n",
    "\n",
    "    # Sort 1s\n",
    "    curr = sorted_end\n",
    "    while curr:\n",
    "        if curr.val == 1:\n",
    "            sorted_end.val, curr.val = curr.val, sorted_end.val\n",
    "            sorted_end = sorted_end.next\n",
    "        curr = curr.next\n",
    "\n",
    "    return head\n",
    "\n",
    "# Testing the solution\n",
    "assert sortList012Idea2(ListNode.to_singly_linked_list([1,0,2,1,0,1,0,2])).to_list() == [0,0,0,1,1,1,2,2]\n",
    "assert sortList012Idea2(ListNode.to_singly_linked_list([2,1])).to_list() == [1,2]"
   ]
  },
  {
   "cell_type": "code",
   "execution_count": null,
   "id": "5b07c320",
   "metadata": {},
   "outputs": [],
   "source": [
    "# Striver Idea 3: One pass solution, similar to odd even list problem\n",
    "def sortList012Idea3(head: ListNode) -> ListNode:\n",
    "    # Time: O(N), Space: O(1)\n",
    "    head0: ListNode = None # type: ignore\n",
    "    head1: ListNode = None # type: ignore\n",
    "    head2: ListNode = None # type: ignore\n",
    "\n",
    "    curr = head\n",
    "    zero = one = two = None\n",
    "    while curr:\n",
    "        next_ = curr.next\n",
    "        if curr.val == 0:\n",
    "            if not zero:\n",
    "                head0 = zero = curr\n",
    "            else:\n",
    "                zero.next = curr\n",
    "                zero = curr\n",
    "        elif curr.val == 1:\n",
    "            if not one:\n",
    "                head1 = one = curr\n",
    "            else:\n",
    "                one.next = curr\n",
    "                one = curr\n",
    "        else:\n",
    "            if not two:\n",
    "                head2 = two = curr\n",
    "            else:\n",
    "                two.next = curr\n",
    "                two = curr\n",
    "\n",
    "        curr.next, curr = None, next_\n",
    "\n",
    "    if zero:\n",
    "        zero.next = head1\n",
    "    if one:\n",
    "        one.next = head2\n",
    "\n",
    "    return head0 if head0 else head1 if head1 else head2\n",
    "\n",
    "# Testing the solution\n",
    "assert sortList012Idea3(ListNode.to_singly_linked_list([1,0,2,1,0,1,0,2])).to_list() == [0,0,0,1,1,1,2,2]\n",
    "assert sortList012Idea3(ListNode.to_singly_linked_list([2,1])).to_list() == [1,2]\n",
    "assert sortList012Idea3(ListNode.to_singly_linked_list([1,0])).to_list() == [0,1]"
   ]
  }
 ],
 "metadata": {
  "kernelspec": {
   "display_name": "Python 3 (ipykernel)",
   "language": "python",
   "name": "python3"
  },
  "language_info": {
   "codemirror_mode": {
    "name": "ipython",
    "version": 3
   },
   "file_extension": ".py",
   "mimetype": "text/x-python",
   "name": "python",
   "nbconvert_exporter": "python",
   "pygments_lexer": "ipython3",
   "version": "3.11.9"
  },
  "papermill": {
   "default_parameters": {},
   "duration": 1.816931,
   "end_time": "2024-05-25T16:09:03.454394",
   "environment_variables": {},
   "exception": null,
   "input_path": "study/striver-A2Z/14-linked-list.ipynb",
   "output_path": "study/striver-A2Z/14-linked-list.ipynb",
   "parameters": {},
   "start_time": "2024-05-25T16:09:01.637463",
   "version": "2.6.0"
  }
 },
 "nbformat": 4,
 "nbformat_minor": 5
}
