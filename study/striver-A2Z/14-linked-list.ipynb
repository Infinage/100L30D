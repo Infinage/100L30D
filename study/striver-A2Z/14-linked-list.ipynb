{
 "cells": [
  {
   "cell_type": "markdown",
   "id": "7bb754d1",
   "metadata": {
    "papermill": {
     "duration": 0.00624,
     "end_time": "2024-05-27T16:47:21.863188",
     "exception": false,
     "start_time": "2024-05-27T16:47:21.856948",
     "status": "completed"
    },
    "tags": []
   },
   "source": [
    "### Useful imports"
   ]
  },
  {
   "cell_type": "code",
   "execution_count": 1,
   "id": "9ca3a0e7",
   "metadata": {
    "execution": {
     "iopub.execute_input": "2024-05-27T16:47:21.875728Z",
     "iopub.status.busy": "2024-05-27T16:47:21.875282Z",
     "iopub.status.idle": "2024-05-27T16:47:22.265138Z",
     "shell.execute_reply": "2024-05-27T16:47:22.264542Z"
    },
    "lines_to_next_cell": 1,
    "papermill": {
     "duration": 0.397844,
     "end_time": "2024-05-27T16:47:22.266590",
     "exception": false,
     "start_time": "2024-05-27T16:47:21.868746",
     "status": "completed"
    },
    "tags": []
   },
   "outputs": [],
   "source": [
    "from typing import List, Optional, Generator\n",
    "import pandas as pd\n",
    "import numpy as np\n",
    "import sqlite3\n",
    "import re\n",
    "import io\n",
    "import math\n",
    "import collections\n",
    "import itertools\n",
    "import functools\n",
    "import random\n",
    "import string\n",
    "import tqdm\n",
    "import bisect\n",
    "import heapq"
   ]
  },
  {
   "cell_type": "markdown",
   "id": "4d54d767",
   "metadata": {
    "papermill": {
     "duration": 0.005457,
     "end_time": "2024-05-27T16:47:22.278730",
     "exception": false,
     "start_time": "2024-05-27T16:47:22.273273",
     "status": "completed"
    },
    "tags": []
   },
   "source": [
    "#### Helper for Singly Linked lists"
   ]
  },
  {
   "cell_type": "code",
   "execution_count": 2,
   "id": "db8c5b93",
   "metadata": {
    "execution": {
     "iopub.execute_input": "2024-05-27T16:47:22.290397Z",
     "iopub.status.busy": "2024-05-27T16:47:22.289767Z",
     "iopub.status.idle": "2024-05-27T16:47:22.294906Z",
     "shell.execute_reply": "2024-05-27T16:47:22.294444Z"
    },
    "lines_to_next_cell": 1,
    "papermill": {
     "duration": 0.012229,
     "end_time": "2024-05-27T16:47:22.295978",
     "exception": false,
     "start_time": "2024-05-27T16:47:22.283749",
     "status": "completed"
    },
    "tags": []
   },
   "outputs": [],
   "source": [
    "class ListNode:\n",
    "    def __init__(self, val=0, next_=None):\n",
    "        self.val = val\n",
    "        self.next = next_\n",
    "\n",
    "    def __str__(self):\n",
    "        return str(self.val)\n",
    "\n",
    "    @staticmethod\n",
    "    def to_singly_linked_list(nums: list[int]):\n",
    "        root = prev = None\n",
    "        for n in nums:\n",
    "            curr = ListNode(n)\n",
    "            # Init once\n",
    "            if not root:\n",
    "                root = curr\n",
    "            if prev:\n",
    "                prev.next = curr\n",
    "            prev = curr\n",
    "\n",
    "        return root\n",
    "\n",
    "    def to_list(self) -> list[int]:\n",
    "        result = []\n",
    "        curr = self\n",
    "        while curr:\n",
    "            result.append(curr.val)\n",
    "            curr = curr.next\n",
    "        return result"
   ]
  },
  {
   "cell_type": "markdown",
   "id": "8f195f7d",
   "metadata": {
    "papermill": {
     "duration": 0.005009,
     "end_time": "2024-05-27T16:47:22.306224",
     "exception": false,
     "start_time": "2024-05-27T16:47:22.301215",
     "status": "completed"
    },
    "tags": []
   },
   "source": [
    "#### Helper for Doubly Linked lists"
   ]
  },
  {
   "cell_type": "code",
   "execution_count": 3,
   "id": "7d9ad38e",
   "metadata": {
    "execution": {
     "iopub.execute_input": "2024-05-27T16:47:22.317869Z",
     "iopub.status.busy": "2024-05-27T16:47:22.317314Z",
     "iopub.status.idle": "2024-05-27T16:47:22.322344Z",
     "shell.execute_reply": "2024-05-27T16:47:22.321888Z"
    },
    "papermill": {
     "duration": 0.012185,
     "end_time": "2024-05-27T16:47:22.323392",
     "exception": false,
     "start_time": "2024-05-27T16:47:22.311207",
     "status": "completed"
    },
    "tags": []
   },
   "outputs": [],
   "source": [
    "class DLLNode:\n",
    "    def __init__(self, val: int = 0, next_=None, prev = None):\n",
    "        self.val = val\n",
    "        self.next = next_\n",
    "        self.prev = next_\n",
    "\n",
    "    def __str__(self):\n",
    "        return str(self.val)\n",
    "\n",
    "    @staticmethod\n",
    "    def to_doubly_linked_list(nums: list[int]):\n",
    "        head = prev = None\n",
    "        for n in nums:\n",
    "            curr = DLLNode(n)\n",
    "            if prev:\n",
    "                prev.next = curr\n",
    "                curr.prev = prev\n",
    "            else:\n",
    "                head = curr\n",
    "            prev = curr\n",
    "        return head\n",
    "\n",
    "    def to_list(self) -> list[int]:\n",
    "        result = []\n",
    "        curr = self\n",
    "        while curr:\n",
    "            result.append(curr.val)\n",
    "            curr = curr.next\n",
    "        return result"
   ]
  },
  {
   "cell_type": "markdown",
   "id": "3bd55ce0",
   "metadata": {
    "papermill": {
     "duration": 0.005028,
     "end_time": "2024-05-27T16:47:22.333360",
     "exception": false,
     "start_time": "2024-05-27T16:47:22.328332",
     "status": "completed"
    },
    "tags": []
   },
   "source": [
    "Convert an array to Linked list"
   ]
  },
  {
   "cell_type": "code",
   "execution_count": 4,
   "id": "59dfeb8f",
   "metadata": {
    "execution": {
     "iopub.execute_input": "2024-05-27T16:47:22.344829Z",
     "iopub.status.busy": "2024-05-27T16:47:22.344224Z",
     "iopub.status.idle": "2024-05-27T16:47:22.347918Z",
     "shell.execute_reply": "2024-05-27T16:47:22.347486Z"
    },
    "lines_to_next_cell": 1,
    "papermill": {
     "duration": 0.010769,
     "end_time": "2024-05-27T16:47:22.349076",
     "exception": false,
     "start_time": "2024-05-27T16:47:22.338307",
     "status": "completed"
    },
    "tags": []
   },
   "outputs": [],
   "source": [
    "def constructLL(arr: list[int]) -> ListNode|None:\n",
    "    head: \"ListNode\" | None = None\n",
    "    tail = head\n",
    "\n",
    "    for n in arr:\n",
    "        curr = ListNode(n)\n",
    "        if not tail:\n",
    "            head = tail = curr\n",
    "        else:\n",
    "            tail.next = curr\n",
    "            tail = curr\n",
    "\n",
    "    return head"
   ]
  },
  {
   "cell_type": "markdown",
   "id": "0c090b60",
   "metadata": {
    "papermill": {
     "duration": 0.005005,
     "end_time": "2024-05-27T16:47:22.359100",
     "exception": false,
     "start_time": "2024-05-27T16:47:22.354095",
     "status": "completed"
    },
    "tags": []
   },
   "source": [
    "Length of LL"
   ]
  },
  {
   "cell_type": "code",
   "execution_count": 5,
   "id": "d41e087f",
   "metadata": {
    "execution": {
     "iopub.execute_input": "2024-05-27T16:47:22.370733Z",
     "iopub.status.busy": "2024-05-27T16:47:22.370123Z",
     "iopub.status.idle": "2024-05-27T16:47:22.374033Z",
     "shell.execute_reply": "2024-05-27T16:47:22.373574Z"
    },
    "lines_to_next_cell": 1,
    "papermill": {
     "duration": 0.011012,
     "end_time": "2024-05-27T16:47:22.375061",
     "exception": false,
     "start_time": "2024-05-27T16:47:22.364049",
     "status": "completed"
    },
    "tags": []
   },
   "outputs": [],
   "source": [
    "def lengthOfLL(head: ListNode) -> int:\n",
    "    curr = head\n",
    "    count = 0\n",
    "    while curr:\n",
    "        curr = curr.next\n",
    "        count += 1\n",
    "\n",
    "    return count\n",
    "\n",
    "# Testing the solution\n",
    "assert lengthOfLL(ListNode.to_singly_linked_list([1,2,3,4,5])) == 5"
   ]
  },
  {
   "cell_type": "markdown",
   "id": "bd9565da",
   "metadata": {
    "papermill": {
     "duration": 0.005126,
     "end_time": "2024-05-27T16:47:22.385297",
     "exception": false,
     "start_time": "2024-05-27T16:47:22.380171",
     "status": "completed"
    },
    "tags": []
   },
   "source": [
    "Search in a linked list"
   ]
  },
  {
   "cell_type": "code",
   "execution_count": 6,
   "id": "1137b6e9",
   "metadata": {
    "execution": {
     "iopub.execute_input": "2024-05-27T16:47:22.396533Z",
     "iopub.status.busy": "2024-05-27T16:47:22.395958Z",
     "iopub.status.idle": "2024-05-27T16:47:22.399797Z",
     "shell.execute_reply": "2024-05-27T16:47:22.399251Z"
    },
    "lines_to_next_cell": 1,
    "papermill": {
     "duration": 0.011395,
     "end_time": "2024-05-27T16:47:22.401527",
     "exception": false,
     "start_time": "2024-05-27T16:47:22.390132",
     "status": "completed"
    },
    "tags": []
   },
   "outputs": [],
   "source": [
    "def searchInLinkedList(head: ListNode, k: int):\n",
    "    curr = head\n",
    "    while curr:\n",
    "        if curr.val == k:\n",
    "            return 1\n",
    "        else:\n",
    "            curr = curr.next\n",
    "\n",
    "    return 0\n",
    "\n",
    "# Testing the solution\n",
    "assert searchInLinkedList(ListNode.to_singly_linked_list([1,2,3,4]), 4) == 1"
   ]
  },
  {
   "cell_type": "markdown",
   "id": "73478462",
   "metadata": {
    "papermill": {
     "duration": 0.005047,
     "end_time": "2024-05-27T16:47:22.411867",
     "exception": false,
     "start_time": "2024-05-27T16:47:22.406820",
     "status": "completed"
    },
    "tags": []
   },
   "source": [
    "Delete a node from linked list\n",
    "https://www.geeksforgeeks.org/problems/delete-a-node-in-single-linked-list/1"
   ]
  },
  {
   "cell_type": "code",
   "execution_count": 7,
   "id": "5bd512fc",
   "metadata": {
    "execution": {
     "iopub.execute_input": "2024-05-27T16:47:22.422987Z",
     "iopub.status.busy": "2024-05-27T16:47:22.422712Z",
     "iopub.status.idle": "2024-05-27T16:47:22.429219Z",
     "shell.execute_reply": "2024-05-27T16:47:22.428715Z"
    },
    "lines_to_next_cell": 1,
    "papermill": {
     "duration": 0.013575,
     "end_time": "2024-05-27T16:47:22.430365",
     "exception": false,
     "start_time": "2024-05-27T16:47:22.416790",
     "status": "completed"
    },
    "tags": []
   },
   "outputs": [],
   "source": [
    "def delNodePos(head: ListNode, k: int):\n",
    "    if not head or k == 0:\n",
    "        return head\n",
    "    elif k == 1:\n",
    "        return head.next\n",
    "    else:\n",
    "        count: int = 0\n",
    "        prev: ListNode|None = None\n",
    "        curr: ListNode|None = head\n",
    "\n",
    "        while curr:\n",
    "            count += 1\n",
    "            if count == k and prev:\n",
    "                prev.next = prev.next.next\n",
    "                break\n",
    "            else:\n",
    "                prev, curr = curr, curr.next\n",
    "\n",
    "        return head\n",
    "\n",
    "# Testing the solution\n",
    "assert delNodePos(ListNode.to_singly_linked_list([1,2]), 2).to_list() == [1]\n",
    "assert delNodePos(ListNode.to_singly_linked_list([1,2]), 1).to_list() == [2]\n",
    "assert delNodePos(ListNode.to_singly_linked_list([1]), 1) is None\n",
    "assert delNodePos(ListNode.to_singly_linked_list([1]), 10).to_list() == [1]\n",
    "assert delNodePos(ListNode.to_singly_linked_list([1,2,3]), 10).to_list() == [1,2,3]"
   ]
  },
  {
   "cell_type": "markdown",
   "id": "6ea5a2c5",
   "metadata": {
    "papermill": {
     "duration": 0.00502,
     "end_time": "2024-05-27T16:47:22.440444",
     "exception": false,
     "start_time": "2024-05-27T16:47:22.435424",
     "status": "completed"
    },
    "tags": []
   },
   "source": [
    "Delete node by value"
   ]
  },
  {
   "cell_type": "code",
   "execution_count": 8,
   "id": "420f38cf",
   "metadata": {
    "execution": {
     "iopub.execute_input": "2024-05-27T16:47:22.451908Z",
     "iopub.status.busy": "2024-05-27T16:47:22.451340Z",
     "iopub.status.idle": "2024-05-27T16:47:22.456832Z",
     "shell.execute_reply": "2024-05-27T16:47:22.456259Z"
    },
    "lines_to_next_cell": 1,
    "papermill": {
     "duration": 0.012545,
     "end_time": "2024-05-27T16:47:22.457924",
     "exception": false,
     "start_time": "2024-05-27T16:47:22.445379",
     "status": "completed"
    },
    "tags": []
   },
   "outputs": [],
   "source": [
    "def delNodeVal(head: ListNode, val: int):\n",
    "    if not head:\n",
    "        return head\n",
    "    elif head.val == val:\n",
    "        return head.next\n",
    "    else:\n",
    "        prev: ListNode|None = None\n",
    "        curr: ListNode|None = head\n",
    "        while curr:\n",
    "            if curr.val == val and prev:\n",
    "                prev.next = prev.next.next\n",
    "                break\n",
    "            else:\n",
    "                prev, curr = curr, curr.next\n",
    "\n",
    "        return head\n",
    "\n",
    "# Testing the solution\n",
    "assert delNodeVal(ListNode.to_singly_linked_list([1,2]), 2).to_list() == [1]\n",
    "assert delNodeVal(ListNode.to_singly_linked_list([1,2]), 1).to_list() == [2]\n",
    "assert delNodeVal(ListNode.to_singly_linked_list([1]), 1) is None\n",
    "assert delNodeVal(ListNode.to_singly_linked_list([1]), 10).to_list() == [1]\n",
    "assert delNodeVal(ListNode.to_singly_linked_list([1,2,3]), 3).to_list() == [1,2]"
   ]
  },
  {
   "cell_type": "markdown",
   "id": "53646359",
   "metadata": {
    "papermill": {
     "duration": 0.005022,
     "end_time": "2024-05-27T16:47:22.467957",
     "exception": false,
     "start_time": "2024-05-27T16:47:22.462935",
     "status": "completed"
    },
    "tags": []
   },
   "source": [
    "Inserting into a linked list"
   ]
  },
  {
   "cell_type": "code",
   "execution_count": 9,
   "id": "9de3ec91",
   "metadata": {
    "execution": {
     "iopub.execute_input": "2024-05-27T16:47:22.479324Z",
     "iopub.status.busy": "2024-05-27T16:47:22.478791Z",
     "iopub.status.idle": "2024-05-27T16:47:22.483829Z",
     "shell.execute_reply": "2024-05-27T16:47:22.483296Z"
    },
    "lines_to_next_cell": 1,
    "papermill": {
     "duration": 0.01218,
     "end_time": "2024-05-27T16:47:22.485059",
     "exception": false,
     "start_time": "2024-05-27T16:47:22.472879",
     "status": "completed"
    },
    "tags": []
   },
   "outputs": [],
   "source": [
    "def insertNode(head: ListNode, N: int, pos: int, val: int) -> ListNode:\n",
    "    node = ListNode(val)\n",
    "    if pos == 0:\n",
    "        node.next = head\n",
    "        return node\n",
    "    else:\n",
    "        prev: ListNode|None = None\n",
    "        curr: ListNode|None = head\n",
    "\n",
    "        count = 0\n",
    "        while count < pos:\n",
    "            count += 1\n",
    "            if curr:\n",
    "                prev, curr = curr, curr.next\n",
    "\n",
    "        if prev:\n",
    "            prev.next = node\n",
    "            node.next = curr\n",
    "\n",
    "        return head\n",
    "\n",
    "# Testing the solution\n",
    "assert insertNode(ListNode.to_singly_linked_list([1,2,3,4]), 4, 0, 0).to_list() == [0,1,2,3,4]\n",
    "assert insertNode(ListNode.to_singly_linked_list([]), 0, 0, 0).to_list() == [0]"
   ]
  },
  {
   "cell_type": "markdown",
   "id": "80af1929",
   "metadata": {
    "papermill": {
     "duration": 0.005321,
     "end_time": "2024-05-27T16:47:22.495510",
     "exception": false,
     "start_time": "2024-05-27T16:47:22.490189",
     "status": "completed"
    },
    "tags": []
   },
   "source": [
    "### Doubly Linked List\n",
    "Construct doubly linked list from array"
   ]
  },
  {
   "cell_type": "code",
   "execution_count": 10,
   "id": "1d2d3de2",
   "metadata": {
    "execution": {
     "iopub.execute_input": "2024-05-27T16:47:22.506855Z",
     "iopub.status.busy": "2024-05-27T16:47:22.506302Z",
     "iopub.status.idle": "2024-05-27T16:47:22.510406Z",
     "shell.execute_reply": "2024-05-27T16:47:22.509960Z"
    },
    "lines_to_next_cell": 1,
    "papermill": {
     "duration": 0.01107,
     "end_time": "2024-05-27T16:47:22.511464",
     "exception": false,
     "start_time": "2024-05-27T16:47:22.500394",
     "status": "completed"
    },
    "tags": []
   },
   "outputs": [],
   "source": [
    "def constructDLL(arr: list[int]) -> DLLNode:\n",
    "    head: DLLNode|None =  None\n",
    "    prev: DLLNode|None =  None\n",
    "\n",
    "    for n in arr:\n",
    "        curr = DLLNode(n)\n",
    "        if prev:\n",
    "            prev.next = curr\n",
    "            curr.prev = prev\n",
    "        else:\n",
    "            head = curr\n",
    "        prev = curr\n",
    "\n",
    "    return head # type: ignore\n",
    "\n",
    "# Testing the solution\n",
    "assert constructDLL([1,2,3,4,5]).to_list() == [1,2,3,4,5]"
   ]
  },
  {
   "cell_type": "markdown",
   "id": "57e40a96",
   "metadata": {
    "papermill": {
     "duration": 0.004992,
     "end_time": "2024-05-27T16:47:22.521483",
     "exception": false,
     "start_time": "2024-05-27T16:47:22.516491",
     "status": "completed"
    },
    "tags": []
   },
   "source": [
    "Inserting into a Doubly linked list"
   ]
  },
  {
   "cell_type": "code",
   "execution_count": 11,
   "id": "eeae0793",
   "metadata": {
    "execution": {
     "iopub.execute_input": "2024-05-27T16:47:22.532812Z",
     "iopub.status.busy": "2024-05-27T16:47:22.532369Z",
     "iopub.status.idle": "2024-05-27T16:47:22.536652Z",
     "shell.execute_reply": "2024-05-27T16:47:22.536204Z"
    },
    "lines_to_next_cell": 1,
    "papermill": {
     "duration": 0.011367,
     "end_time": "2024-05-27T16:47:22.537801",
     "exception": false,
     "start_time": "2024-05-27T16:47:22.526434",
     "status": "completed"
    },
    "tags": []
   },
   "outputs": [],
   "source": [
    "def addDLLNode(head: DLLNode, p: int, data: int) -> DLLNode:\n",
    "    node: DLLNode = DLLNode(data)\n",
    "    prev: DLLNode = head\n",
    "\n",
    "    while p > 0:\n",
    "        p -= 1\n",
    "        prev = prev.next\n",
    "\n",
    "    next_ = prev.next\n",
    "    node.next = next_\n",
    "    prev.next = node\n",
    "    node.prev = prev\n",
    "\n",
    "    if next_:\n",
    "        next_.prev = node\n",
    "\n",
    "    return head\n",
    "\n",
    "# Testing the solution\n",
    "assert addDLLNode(DLLNode.to_doubly_linked_list([2,4,5]), 2, 6).to_list() == [2,4,5,6]"
   ]
  },
  {
   "cell_type": "markdown",
   "id": "4cebaf84",
   "metadata": {
    "papermill": {
     "duration": 0.004951,
     "end_time": "2024-05-27T16:47:22.547698",
     "exception": false,
     "start_time": "2024-05-27T16:47:22.542747",
     "status": "completed"
    },
    "tags": []
   },
   "source": [
    "Deleting from a doubly linked list\n",
    "```\n",
    "Easier way still would be to write all edge cases specifically\n",
    "If curr is null (and prev, next are null), we have no nodes to delete\n",
    "If prev and next is null, we have only 1 node to delete\n",
    "If prev is null, we are to delete the head node\n",
    "If next is null, we are to delete the tail node\n",
    "```"
   ]
  },
  {
   "cell_type": "code",
   "execution_count": 12,
   "id": "5e1cf229",
   "metadata": {
    "execution": {
     "iopub.execute_input": "2024-05-27T16:47:22.558835Z",
     "iopub.status.busy": "2024-05-27T16:47:22.558339Z",
     "iopub.status.idle": "2024-05-27T16:47:22.562852Z",
     "shell.execute_reply": "2024-05-27T16:47:22.562323Z"
    },
    "lines_to_next_cell": 1,
    "papermill": {
     "duration": 0.011286,
     "end_time": "2024-05-27T16:47:22.563879",
     "exception": false,
     "start_time": "2024-05-27T16:47:22.552593",
     "status": "completed"
    },
    "tags": []
   },
   "outputs": [],
   "source": [
    "def deleteDLLNode(head: DLLNode, p: int):\n",
    "    curr: DLLNode = head\n",
    "\n",
    "    count = p\n",
    "    while count > 0:\n",
    "        count -= 1\n",
    "        curr = curr.next\n",
    "\n",
    "    prev = curr.prev\n",
    "    next_ = curr.next\n",
    "\n",
    "    if prev:\n",
    "        prev.next = next_\n",
    "    if next_:\n",
    "        next_.prev = prev\n",
    "\n",
    "    return head if p > 0 else head.next\n",
    "\n",
    "# Testing the solution\n",
    "assert deleteDLLNode(DLLNode.to_doubly_linked_list([1,2]), 1).to_list() == [1]\n",
    "assert deleteDLLNode(DLLNode.to_doubly_linked_list([1,2]), 0).to_list() == [2]\n",
    "assert deleteDLLNode(DLLNode.to_doubly_linked_list([1]), 0) is None"
   ]
  },
  {
   "cell_type": "markdown",
   "id": "dfa8d518",
   "metadata": {
    "papermill": {
     "duration": 0.004912,
     "end_time": "2024-05-27T16:47:22.573634",
     "exception": false,
     "start_time": "2024-05-27T16:47:22.568722",
     "status": "completed"
    },
    "tags": []
   },
   "source": [
    "Reverse a DLL\n",
    "Video Link: https://youtu.be/u3WUW2qe6ww?si=80DlW_QGoHKnBDjY"
   ]
  },
  {
   "cell_type": "code",
   "execution_count": 13,
   "id": "aac2ae31",
   "metadata": {
    "execution": {
     "iopub.execute_input": "2024-05-27T16:47:22.584651Z",
     "iopub.status.busy": "2024-05-27T16:47:22.584156Z",
     "iopub.status.idle": "2024-05-27T16:47:22.588424Z",
     "shell.execute_reply": "2024-05-27T16:47:22.587963Z"
    },
    "lines_to_next_cell": 1,
    "papermill": {
     "duration": 0.010965,
     "end_time": "2024-05-27T16:47:22.589497",
     "exception": false,
     "start_time": "2024-05-27T16:47:22.578532",
     "status": "completed"
    },
    "tags": []
   },
   "outputs": [],
   "source": [
    "def reverseDLL(head: DLLNode) -> DLLNode:\n",
    "    prev: DLLNode = None # type: ignore\n",
    "    curr: DLLNode = head\n",
    "\n",
    "    while curr:\n",
    "        curr.next, curr.prev = prev, curr.next\n",
    "        prev, curr = curr, curr.prev\n",
    "\n",
    "    return prev\n",
    "\n",
    "# Testing the solution\n",
    "assert reverseDLL(DLLNode.to_doubly_linked_list([1,2])).to_list() == [2,1]\n",
    "assert reverseDLL(DLLNode.to_doubly_linked_list([2])).to_list() == [2]\n",
    "assert reverseDLL(DLLNode.to_doubly_linked_list([1,2,3,4])).to_list() == [4,3,2,1]\n",
    "assert reverseDLL(DLLNode.to_doubly_linked_list([])) is None"
   ]
  },
  {
   "cell_type": "markdown",
   "id": "5c7d5007",
   "metadata": {
    "papermill": {
     "duration": 0.005174,
     "end_time": "2024-05-27T16:47:22.599881",
     "exception": false,
     "start_time": "2024-05-27T16:47:22.594707",
     "status": "completed"
    },
    "tags": []
   },
   "source": [
    "Add two numbers\n",
    "Video Link: https://youtu.be/XmRrGzR6udg?si=0Wc8Sp_7v8a_2kPp"
   ]
  },
  {
   "cell_type": "code",
   "execution_count": 14,
   "id": "2a271620",
   "metadata": {
    "execution": {
     "iopub.execute_input": "2024-05-27T16:47:22.610903Z",
     "iopub.status.busy": "2024-05-27T16:47:22.610643Z",
     "iopub.status.idle": "2024-05-27T16:47:22.616104Z",
     "shell.execute_reply": "2024-05-27T16:47:22.615572Z"
    },
    "lines_to_next_cell": 1,
    "papermill": {
     "duration": 0.012381,
     "end_time": "2024-05-27T16:47:22.617177",
     "exception": false,
     "start_time": "2024-05-27T16:47:22.604796",
     "status": "completed"
    },
    "tags": []
   },
   "outputs": [],
   "source": [
    "def addTwoNumbers(head1: ListNode, head2: ListNode) -> ListNode:\n",
    "    n1, n2 = head1, head2\n",
    "    sum_head: ListNode|None = None\n",
    "    sum_node: ListNode|None = None\n",
    "    carry_forward = 0\n",
    "\n",
    "    # Carry_forward is kept here so that in cases where both are exhausted \n",
    "    # and we still have 1 (say 5 + 5, both are exhausted but carry exists)\n",
    "    while n1 or n2 or carry_forward:\n",
    "        sum_ = carry_forward\n",
    "\n",
    "        if n1:\n",
    "            sum_ += n1.val\n",
    "            n1 = n1.next\n",
    "        if n2:\n",
    "            sum_ += n2.val\n",
    "            n2 = n2.next\n",
    "\n",
    "        sum_, carry_forward = sum_ % 10, sum_ // 10\n",
    "        curr = ListNode(sum_)\n",
    "        if not sum_node:\n",
    "            sum_head = sum_node = curr\n",
    "        else:\n",
    "            sum_node.next = curr\n",
    "            sum_node = curr\n",
    "\n",
    "    return sum_head # type: ignore\n",
    "\n",
    "# Testing the solution\n",
    "assert addTwoNumbers(ListNode.to_singly_linked_list([2,4,6]), ListNode.to_singly_linked_list([3,8,7])).to_list() == [5,2,4,1]\n",
    "assert addTwoNumbers(ListNode.to_singly_linked_list([3,5]), ListNode.to_singly_linked_list([4,5,9,9])).to_list() == [7,0,0,0,1]"
   ]
  },
  {
   "cell_type": "markdown",
   "id": "0d492d94",
   "metadata": {
    "papermill": {
     "duration": 0.005036,
     "end_time": "2024-05-27T16:47:22.627326",
     "exception": false,
     "start_time": "2024-05-27T16:47:22.622290",
     "status": "completed"
    },
    "tags": []
   },
   "source": [
    "Odd Even Linked List: https://leetcode.com/problems/odd-even-linked-list/description/\n",
    "Video Link: https://youtu.be/qf6qp7GzD5Q?si=f0kxJQ7bJ8JSSZGe"
   ]
  },
  {
   "cell_type": "code",
   "execution_count": 15,
   "id": "ed28b236",
   "metadata": {
    "execution": {
     "iopub.execute_input": "2024-05-27T16:47:22.638902Z",
     "iopub.status.busy": "2024-05-27T16:47:22.638422Z",
     "iopub.status.idle": "2024-05-27T16:47:22.644154Z",
     "shell.execute_reply": "2024-05-27T16:47:22.643659Z"
    },
    "lines_to_next_cell": 1,
    "papermill": {
     "duration": 0.013109,
     "end_time": "2024-05-27T16:47:22.645391",
     "exception": false,
     "start_time": "2024-05-27T16:47:22.632282",
     "status": "completed"
    },
    "tags": []
   },
   "outputs": [],
   "source": [
    "# https://leetcode.com/problems/odd-even-linked-list/submissions/1268536963/\n",
    "def oddEvenList(head: ListNode) -> ListNode:\n",
    "    \"\"\"\n",
    "    The trick here lies in the fact that we should alter the links instead of\n",
    "    trying to alter the values, since we need a O(1) Space, O(N) time complexity.\n",
    "    \"\"\"\n",
    "\n",
    "    # Handling edge case\n",
    "    if not head:\n",
    "        return head\n",
    "\n",
    "    # Split work into creating the even and odd LLs\n",
    "    oddHead = odd = head\n",
    "    evenHead = even = head.next\n",
    "\n",
    "    # It is possible that we iterate until we reach either odd or even\n",
    "    # Checking for even makes code simpler, odd makes it more messy\n",
    "    while even and even.next:\n",
    "        odd.next = odd.next.next\n",
    "        even.next = even.next.next\n",
    "        even, odd = even.next, odd.next\n",
    "\n",
    "    # Once odd and even LL are constructed, odd next should point to evenHead\n",
    "    odd.next = evenHead # type: ignore\n",
    "    return oddHead\n",
    "\n",
    "# Testing the solution\n",
    "assert oddEvenList(ListNode.to_singly_linked_list([1,2,3,4,5])).to_list() == [1,3,5,2,4]\n",
    "assert oddEvenList(ListNode.to_singly_linked_list([1,2,3,4])).to_list() == [1,3,2,4]\n",
    "assert oddEvenList(ListNode.to_singly_linked_list([1,2])).to_list() == [1,2]\n",
    "assert oddEvenList(ListNode.to_singly_linked_list([1])).to_list() == [1]"
   ]
  },
  {
   "cell_type": "markdown",
   "id": "da1e9ff5",
   "metadata": {
    "papermill": {
     "duration": 0.005004,
     "end_time": "2024-05-27T16:47:22.655469",
     "exception": false,
     "start_time": "2024-05-27T16:47:22.650465",
     "status": "completed"
    },
    "tags": []
   },
   "source": [
    "Sorted linked list of 0s, 1s, 2s"
   ]
  },
  {
   "cell_type": "code",
   "execution_count": 16,
   "id": "283f2b99",
   "metadata": {
    "execution": {
     "iopub.execute_input": "2024-05-27T16:47:22.667028Z",
     "iopub.status.busy": "2024-05-27T16:47:22.666488Z",
     "iopub.status.idle": "2024-05-27T16:47:22.671831Z",
     "shell.execute_reply": "2024-05-27T16:47:22.671254Z"
    },
    "lines_to_next_cell": 1,
    "papermill": {
     "duration": 0.012649,
     "end_time": "2024-05-27T16:47:22.673043",
     "exception": false,
     "start_time": "2024-05-27T16:47:22.660394",
     "status": "completed"
    },
    "tags": []
   },
   "outputs": [],
   "source": [
    "def sortList012Idea1(head: ListNode) -> ListNode:\n",
    "    count0 = count1 = count2 = 0\n",
    "\n",
    "    # Iterate and compute the counts\n",
    "    curr = head\n",
    "    while curr:\n",
    "        if curr.val == 0:\n",
    "            count0 += 1\n",
    "        elif curr.val == 1:\n",
    "            count1 += 1\n",
    "        else:\n",
    "            count2 += 1\n",
    "        curr = curr.next\n",
    "\n",
    "    # Replace the values\n",
    "    curr = head\n",
    "    while curr:\n",
    "        if count0 > 0:\n",
    "            curr.val, count0 = 0, count0 - 1\n",
    "        elif count1 > 0:\n",
    "            curr.val, count1 = 1, count1 - 1\n",
    "        else:\n",
    "            curr.val, count2 = 2, count2 - 1\n",
    "        curr = curr.next\n",
    "\n",
    "    return head\n",
    "\n",
    "# Testing the solution\n",
    "assert sortList012Idea1(ListNode.to_singly_linked_list([1,0,2,1,0,1,0,2])).to_list() == [0,0,0,1,1,1,2,2]\n",
    "assert sortList012Idea1(ListNode.to_singly_linked_list([2,1])).to_list() == [1,2]"
   ]
  },
  {
   "cell_type": "code",
   "execution_count": 17,
   "id": "04a13e4d",
   "metadata": {
    "execution": {
     "iopub.execute_input": "2024-05-27T16:47:22.684788Z",
     "iopub.status.busy": "2024-05-27T16:47:22.684226Z",
     "iopub.status.idle": "2024-05-27T16:47:22.689332Z",
     "shell.execute_reply": "2024-05-27T16:47:22.688870Z"
    },
    "lines_to_next_cell": 1,
    "papermill": {
     "duration": 0.012289,
     "end_time": "2024-05-27T16:47:22.690507",
     "exception": false,
     "start_time": "2024-05-27T16:47:22.678218",
     "status": "completed"
    },
    "tags": []
   },
   "outputs": [],
   "source": [
    "def sortList012Idea2(head: ListNode) -> ListNode:\n",
    "\n",
    "    # Maintain position until which the LL is sorted\n",
    "    sorted_end: ListNode = head\n",
    "\n",
    "    # Sort 0s\n",
    "    curr = sorted_end\n",
    "    while curr:\n",
    "        if curr.val == 0:\n",
    "            sorted_end.val, curr.val = curr.val, sorted_end.val\n",
    "            sorted_end = sorted_end.next\n",
    "        curr = curr.next\n",
    "\n",
    "    # Sort 1s\n",
    "    curr = sorted_end\n",
    "    while curr:\n",
    "        if curr.val == 1:\n",
    "            sorted_end.val, curr.val = curr.val, sorted_end.val\n",
    "            sorted_end = sorted_end.next\n",
    "        curr = curr.next\n",
    "\n",
    "    return head\n",
    "\n",
    "# Testing the solution\n",
    "assert sortList012Idea2(ListNode.to_singly_linked_list([1,0,2,1,0,1,0,2])).to_list() == [0,0,0,1,1,1,2,2]\n",
    "assert sortList012Idea2(ListNode.to_singly_linked_list([2,1])).to_list() == [1,2]"
   ]
  },
  {
   "cell_type": "code",
   "execution_count": 18,
   "id": "5b07c320",
   "metadata": {
    "execution": {
     "iopub.execute_input": "2024-05-27T16:47:22.702944Z",
     "iopub.status.busy": "2024-05-27T16:47:22.702474Z",
     "iopub.status.idle": "2024-05-27T16:47:22.708985Z",
     "shell.execute_reply": "2024-05-27T16:47:22.708442Z"
    },
    "lines_to_next_cell": 1,
    "papermill": {
     "duration": 0.014127,
     "end_time": "2024-05-27T16:47:22.710172",
     "exception": false,
     "start_time": "2024-05-27T16:47:22.696045",
     "status": "completed"
    },
    "tags": []
   },
   "outputs": [],
   "source": [
    "# Striver Idea 3: One pass solution, similar to odd even list problem\n",
    "def sortList012Idea3(head: ListNode) -> ListNode:\n",
    "    # Time: O(N), Space: O(1)\n",
    "    head0: ListNode = None # type: ignore\n",
    "    head1: ListNode = None # type: ignore\n",
    "    head2: ListNode = None # type: ignore\n",
    "\n",
    "    curr = head\n",
    "    zero = one = two = None\n",
    "    while curr:\n",
    "        next_ = curr.next\n",
    "        if curr.val == 0:\n",
    "            if not zero:\n",
    "                head0 = zero = curr\n",
    "            else:\n",
    "                zero.next = curr\n",
    "                zero = curr\n",
    "        elif curr.val == 1:\n",
    "            if not one:\n",
    "                head1 = one = curr\n",
    "            else:\n",
    "                one.next = curr\n",
    "                one = curr\n",
    "        else:\n",
    "            if not two:\n",
    "                head2 = two = curr\n",
    "            else:\n",
    "                two.next = curr\n",
    "                two = curr\n",
    "\n",
    "        curr.next, curr = None, next_\n",
    "\n",
    "    if zero:\n",
    "        zero.next = head1\n",
    "    if one:\n",
    "        one.next = head2\n",
    "\n",
    "    return head0 if head0 else head1 if head1 else head2\n",
    "\n",
    "# Testing the solution\n",
    "assert sortList012Idea3(ListNode.to_singly_linked_list([1,0,2,1,0,1,0,2])).to_list() == [0,0,0,1,1,1,2,2]\n",
    "assert sortList012Idea3(ListNode.to_singly_linked_list([2,1])).to_list() == [1,2]\n",
    "assert sortList012Idea3(ListNode.to_singly_linked_list([1,0])).to_list() == [0,1]"
   ]
  },
  {
   "cell_type": "markdown",
   "id": "5f9ff800",
   "metadata": {
    "papermill": {
     "duration": 0.005095,
     "end_time": "2024-05-27T16:47:22.720688",
     "exception": false,
     "start_time": "2024-05-27T16:47:22.715593",
     "status": "completed"
    },
    "tags": []
   },
   "source": [
    "Remove Nth node from the end of the linked list\n",
    "Video Link: https://youtu.be/3kMKYQ2wNIU?si=njmZ0_XKAc1S0dZo\n",
    "Ideas:\n",
    "1. Delete N - kth node\n",
    "2. Reverse the LL, delete kth node and reverse again\n",
    "3. Recursively assign numbers to node, while returning skip node if number == N - k\n",
    "4. Store all nodes into a hashmap. Compute len of LL, delete node and return head\n",
    "5. Striver's Approach"
   ]
  },
  {
   "cell_type": "code",
   "execution_count": 19,
   "id": "75b0f078",
   "metadata": {
    "execution": {
     "iopub.execute_input": "2024-05-27T16:47:22.732275Z",
     "iopub.status.busy": "2024-05-27T16:47:22.731672Z",
     "iopub.status.idle": "2024-05-27T16:47:22.737351Z",
     "shell.execute_reply": "2024-05-27T16:47:22.736843Z"
    },
    "lines_to_next_cell": 1,
    "papermill": {
     "duration": 0.012822,
     "end_time": "2024-05-27T16:47:22.738504",
     "exception": false,
     "start_time": "2024-05-27T16:47:22.725682",
     "status": "completed"
    },
    "tags": []
   },
   "outputs": [],
   "source": [
    "# https://leetcode.com/problems/remove-nth-node-from-end-of-list/submissions\n",
    "def removeNthFromEndIdea1(head: ListNode, k: int) -> ListNode:\n",
    "    # Compute the length\n",
    "    N, curr = 0, head\n",
    "    while curr:\n",
    "        N, curr = N + 1, curr.next\n",
    "\n",
    "    # Delete N - kth node\n",
    "    count, prev, curr = 0, None, head\n",
    "    while count < N - k:\n",
    "        count += 1\n",
    "        prev, curr = curr, curr.next\n",
    "\n",
    "    # Delete 1st Node (idx - 0)\n",
    "    if not prev:\n",
    "        head = curr.next\n",
    "\n",
    "    # Delete any other node\n",
    "    else:\n",
    "        prev.next = curr.next\n",
    "\n",
    "    return head\n",
    "\n",
    "# Testing the solution\n",
    "assert removeNthFromEndIdea1(ListNode.to_singly_linked_list([1,2,3,4,5]), 2).to_list() == [1,2,3,5]\n",
    "assert removeNthFromEndIdea1(ListNode.to_singly_linked_list([1,2,3,4,5]), 5).to_list() == [2,3,4,5]\n",
    "assert removeNthFromEndIdea1(ListNode.to_singly_linked_list([1,2,3,4,5]), 1).to_list() == [1,2,3,4]\n",
    "assert removeNthFromEndIdea1(ListNode.to_singly_linked_list([1]), 1) is None"
   ]
  },
  {
   "cell_type": "code",
   "execution_count": 20,
   "id": "7b9ce41b",
   "metadata": {
    "execution": {
     "iopub.execute_input": "2024-05-27T16:47:22.750497Z",
     "iopub.status.busy": "2024-05-27T16:47:22.749858Z",
     "iopub.status.idle": "2024-05-27T16:47:22.755345Z",
     "shell.execute_reply": "2024-05-27T16:47:22.754817Z"
    },
    "lines_to_next_cell": 1,
    "papermill": {
     "duration": 0.012669,
     "end_time": "2024-05-27T16:47:22.756413",
     "exception": false,
     "start_time": "2024-05-27T16:47:22.743744",
     "status": "completed"
    },
    "tags": []
   },
   "outputs": [],
   "source": [
    "def removeNthFromEndIdea4(head: ListNode, k: int) -> ListNode:\n",
    "    # Store the current, prev for all positions\n",
    "    prevs: dict[int, tuple[ListNode|None, ListNode|None]] = dict()\n",
    "    N, prev, curr = 0, None, head\n",
    "    while curr:\n",
    "        prevs[N] = prev, curr\n",
    "        prev, curr, N = curr, curr.next, N + 1\n",
    "\n",
    "    # Delete kth node from back => N - k from front\n",
    "    prev, curr = prevs[N - k]\n",
    "    if prev:\n",
    "        prev.next = curr.next\n",
    "    else:\n",
    "        head = head.next\n",
    "\n",
    "    return head\n",
    "\n",
    "# Testing the solution\n",
    "assert removeNthFromEndIdea4(ListNode.to_singly_linked_list([1,2,3,4,5]), 2).to_list() == [1,2,3,5]\n",
    "assert removeNthFromEndIdea4(ListNode.to_singly_linked_list([1,2,3,4,5]), 5).to_list() == [2,3,4,5]\n",
    "assert removeNthFromEndIdea4(ListNode.to_singly_linked_list([1,2,3,4,5]), 1).to_list() == [1,2,3,4]\n",
    "assert removeNthFromEndIdea4(ListNode.to_singly_linked_list([1]), 1) is None"
   ]
  },
  {
   "cell_type": "code",
   "execution_count": 21,
   "id": "ca7f81f2",
   "metadata": {
    "execution": {
     "iopub.execute_input": "2024-05-27T16:47:22.768034Z",
     "iopub.status.busy": "2024-05-27T16:47:22.767787Z",
     "iopub.status.idle": "2024-05-27T16:47:22.773472Z",
     "shell.execute_reply": "2024-05-27T16:47:22.772941Z"
    },
    "lines_to_next_cell": 1,
    "papermill": {
     "duration": 0.012787,
     "end_time": "2024-05-27T16:47:22.774556",
     "exception": false,
     "start_time": "2024-05-27T16:47:22.761769",
     "status": "completed"
    },
    "tags": []
   },
   "outputs": [],
   "source": [
    "# https://leetcode.com/problems/remove-nth-node-from-end-of-list/submissions/1269029952\n",
    "def removeNthFromEndIdea5(head: ListNode, k: int) -> ListNode:\n",
    "    \"\"\"\n",
    "    Target is to reach kth node from the end.\n",
    "    [_, _, _, _, _], k = 2\n",
    "              *\n",
    "\n",
    "    Add a second pointer to the end.\n",
    "    [_, _, _, _, _] _\n",
    "              *     #\n",
    "\n",
    "    Shift left until * reaches 0, we see a gap of k - 1.\n",
    "    [_, _, _, _, _] _\n",
    "     *     #\n",
    "\n",
    "    Hence the idea:\n",
    "        1. Iterate a fast pointer k times.\n",
    "        2. Add a second slow pointer.\n",
    "        3. Start iterating both the fast and slow pointers simaltaneously until fast reaches end.\n",
    "        4. Slow pointer would now point at the node to be deleted.\n",
    "    \"\"\"\n",
    "\n",
    "    # Iterate k times\n",
    "    count = 0\n",
    "    fast = head\n",
    "    while count < k:\n",
    "        count += 1\n",
    "        fast = fast.next\n",
    "\n",
    "    # Add a second pointer slow, move fast and slow together until fast hits end\n",
    "    prev, slow = None, head\n",
    "    while fast:\n",
    "        prev, slow, fast = slow, slow.next, fast.next\n",
    "\n",
    "    # Delete 1st Node (idx - 0)\n",
    "    if not prev:\n",
    "        head = head.next\n",
    "    # Delete any other node\n",
    "    else:\n",
    "        prev.next = slow.next\n",
    "\n",
    "    return head\n",
    "\n",
    "# Testing the solution\n",
    "assert removeNthFromEndIdea5(ListNode.to_singly_linked_list([1,2,3,4,5]), 2).to_list() == [1,2,3,5]\n",
    "assert removeNthFromEndIdea5(ListNode.to_singly_linked_list([1,2,3,4,5]), 5).to_list() == [2,3,4,5]\n",
    "assert removeNthFromEndIdea5(ListNode.to_singly_linked_list([1,2,3,4,5]), 1).to_list() == [1,2,3,4]\n",
    "assert removeNthFromEndIdea5(ListNode.to_singly_linked_list([1]), 1) is None"
   ]
  },
  {
   "cell_type": "markdown",
   "id": "b934ca84",
   "metadata": {
    "papermill": {
     "duration": 0.005097,
     "end_time": "2024-05-27T16:47:22.784790",
     "exception": false,
     "start_time": "2024-05-27T16:47:22.779693",
     "status": "completed"
    },
    "tags": []
   },
   "source": [
    "Reverse a linked list\n",
    "Video Link: https://youtu.be/D2vI2DNJGd8?si=9usE4WRYEPSsmoPW"
   ]
  },
  {
   "cell_type": "code",
   "execution_count": 22,
   "id": "8327b0f1",
   "metadata": {
    "execution": {
     "iopub.execute_input": "2024-05-27T16:47:22.796127Z",
     "iopub.status.busy": "2024-05-27T16:47:22.795865Z",
     "iopub.status.idle": "2024-05-27T16:47:22.800546Z",
     "shell.execute_reply": "2024-05-27T16:47:22.800012Z"
    },
    "lines_to_next_cell": 1,
    "papermill": {
     "duration": 0.011965,
     "end_time": "2024-05-27T16:47:22.801777",
     "exception": false,
     "start_time": "2024-05-27T16:47:22.789812",
     "status": "completed"
    },
    "tags": []
   },
   "outputs": [],
   "source": [
    "# https://leetcode.com/problems/reverse-linked-list/submissions/1269437666/\n",
    "def reverseListRecurse(curr: ListNode) -> ListNode:\n",
    "    \"\"\"\n",
    "    Time: O(N), Space: O(N)\n",
    "    \"\"\"\n",
    "    # Store the next_ node for reversing in the future\n",
    "    if not curr or not curr.next:\n",
    "        return curr\n",
    "    else:\n",
    "        root = reverseListRecurse(curr.next)\n",
    "        curr.next.next = curr\n",
    "        curr.next = None\n",
    "        return root\n",
    "\n",
    "# Testing the solution\n",
    "assert reverseListRecurse(ListNode.to_singly_linked_list([1,2,3,4,5])).to_list() == [5,4,3,2,1]\n",
    "assert reverseListRecurse(ListNode.to_singly_linked_list([1])).to_list() == [1]\n",
    "assert reverseListRecurse(ListNode.to_singly_linked_list([1,2])).to_list() == [2,1]\n",
    "assert reverseListRecurse(ListNode.to_singly_linked_list([])) is None"
   ]
  },
  {
   "cell_type": "code",
   "execution_count": 23,
   "id": "edb937c7",
   "metadata": {
    "execution": {
     "iopub.execute_input": "2024-05-27T16:47:22.813731Z",
     "iopub.status.busy": "2024-05-27T16:47:22.813472Z",
     "iopub.status.idle": "2024-05-27T16:47:22.818053Z",
     "shell.execute_reply": "2024-05-27T16:47:22.817585Z"
    },
    "lines_to_next_cell": 1,
    "papermill": {
     "duration": 0.011869,
     "end_time": "2024-05-27T16:47:22.819098",
     "exception": false,
     "start_time": "2024-05-27T16:47:22.807229",
     "status": "completed"
    },
    "tags": []
   },
   "outputs": [],
   "source": [
    "# https://leetcode.com/problems/reverse-linked-list/submissions/1269442108/\n",
    "def reverseListIter(head: ListNode) -> ListNode:\n",
    "    \"\"\"\n",
    "    Time: O(N), Space: O(1)\n",
    "    \"\"\"\n",
    "    prev: ListNode|None = None\n",
    "    curr: ListNode|None = head\n",
    "    while curr:\n",
    "        next_ = curr.next\n",
    "        curr.next = prev\n",
    "        prev, curr = curr, next_\n",
    "\n",
    "    return prev # type: ignore\n",
    "\n",
    "# Testing the solution\n",
    "assert reverseListIter(ListNode.to_singly_linked_list([1,2,3,4,5])).to_list() == [5,4,3,2,1]\n",
    "assert reverseListIter(ListNode.to_singly_linked_list([1])).to_list() == [1]\n",
    "assert reverseListIter(ListNode.to_singly_linked_list([1,2])).to_list() == [2,1]\n",
    "assert reverseListIter(ListNode.to_singly_linked_list([])) is None"
   ]
  },
  {
   "cell_type": "markdown",
   "id": "9fa31e87",
   "metadata": {
    "papermill": {
     "duration": 0.005228,
     "end_time": "2024-05-27T16:47:22.829637",
     "exception": false,
     "start_time": "2024-05-27T16:47:22.824409",
     "status": "completed"
    },
    "tags": []
   },
   "source": [
    "Palindrome Linked List"
   ]
  },
  {
   "cell_type": "code",
   "execution_count": 24,
   "id": "c1bf8469",
   "metadata": {
    "execution": {
     "iopub.execute_input": "2024-05-27T16:47:22.841393Z",
     "iopub.status.busy": "2024-05-27T16:47:22.840918Z",
     "iopub.status.idle": "2024-05-27T16:47:22.847227Z",
     "shell.execute_reply": "2024-05-27T16:47:22.846772Z"
    },
    "lines_to_next_cell": 1,
    "papermill": {
     "duration": 0.013627,
     "end_time": "2024-05-27T16:47:22.848328",
     "exception": false,
     "start_time": "2024-05-27T16:47:22.834701",
     "status": "completed"
    },
    "tags": []
   },
   "outputs": [],
   "source": [
    "# https://leetcode.com/problems/palindrome-linked-list/submissions/1269504641/\n",
    "def isPalindromeIter(head: ListNode) -> bool:\n",
    "    \"\"\"\n",
    "    Use slow and fast pointers to find the middle of LL.\n",
    "    Make sure that we reverse the linkedlist as the slow pointer moves.\n",
    "    \"\"\"\n",
    "    if not head.next:\n",
    "        return True\n",
    "    else:\n",
    "        slow = fast = head\n",
    "        slow_prev: ListNode|None = None\n",
    "        fast_prev: ListNode|None = None\n",
    "        while fast and fast.next:\n",
    "            # Fast pointer moves as usual\n",
    "            fast_prev, fast = fast.next, fast.next.next\n",
    "\n",
    "            # As slow moves along, reverse the LL\n",
    "            slow_next = slow.next\n",
    "            slow.next = slow_prev\n",
    "            slow_prev, slow = slow, slow_next\n",
    "\n",
    "        if fast: # odd length\n",
    "            slow, fast = slow_prev, slow.next # type: ignore\n",
    "        else: # even length\n",
    "            slow, fast = slow_prev, slow # type: ignore\n",
    "\n",
    "        while fast and slow:\n",
    "            if fast.val != slow.val:\n",
    "                return False\n",
    "            else:\n",
    "                fast, slow = fast.next, slow.next\n",
    "\n",
    "        return True\n",
    "\n",
    "# Testing the solution\n",
    "assert isPalindromeIter(ListNode.to_singly_linked_list([1,2,3,2,1])) == True\n",
    "assert isPalindromeIter(ListNode.to_singly_linked_list([1,2,3,4,1])) == False\n",
    "assert isPalindromeIter(ListNode.to_singly_linked_list([1,2,2,1])) == True\n",
    "assert isPalindromeIter(ListNode.to_singly_linked_list([1,2,2,2])) == False\n",
    "assert isPalindromeIter(ListNode.to_singly_linked_list([1,2])) == False\n",
    "assert isPalindromeIter(ListNode.to_singly_linked_list([1,1])) == True"
   ]
  },
  {
   "cell_type": "code",
   "execution_count": 25,
   "id": "a979ac07",
   "metadata": {
    "execution": {
     "iopub.execute_input": "2024-05-27T16:47:22.860299Z",
     "iopub.status.busy": "2024-05-27T16:47:22.859849Z",
     "iopub.status.idle": "2024-05-27T16:47:22.865097Z",
     "shell.execute_reply": "2024-05-27T16:47:22.864536Z"
    },
    "lines_to_next_cell": 1,
    "papermill": {
     "duration": 0.012496,
     "end_time": "2024-05-27T16:47:22.866207",
     "exception": false,
     "start_time": "2024-05-27T16:47:22.853711",
     "status": "completed"
    },
    "tags": []
   },
   "outputs": [],
   "source": [
    "# https://leetcode.com/problems/palindrome-linked-list/submissions/1269543768\n",
    "def isPalindromeRecursive(head: ListNode) -> bool:\n",
    "    curr_ = head\n",
    "    def backtrack(curr: ListNode) -> bool:\n",
    "        if not curr:\n",
    "            return True\n",
    "        else:\n",
    "            nonlocal curr_\n",
    "            result = backtrack(curr.next) and curr.val == curr_.val\n",
    "            curr_ = curr_.next\n",
    "            return result\n",
    "\n",
    "    return backtrack(head)\n",
    "\n",
    "# Testing the solution\n",
    "assert isPalindromeRecursive(ListNode.to_singly_linked_list([1,2,3,2,1])) == True\n",
    "assert isPalindromeRecursive(ListNode.to_singly_linked_list([1,2,3,4,1])) == False\n",
    "assert isPalindromeRecursive(ListNode.to_singly_linked_list([1,2,2,1])) == True\n",
    "assert isPalindromeRecursive(ListNode.to_singly_linked_list([1,2,2,2])) == False\n",
    "assert isPalindromeRecursive(ListNode.to_singly_linked_list([1,2])) == False\n",
    "assert isPalindromeRecursive(ListNode.to_singly_linked_list([1,1])) == True"
   ]
  },
  {
   "cell_type": "markdown",
   "id": "d549ddf5",
   "metadata": {
    "papermill": {
     "duration": 0.005312,
     "end_time": "2024-05-27T16:47:22.876834",
     "exception": false,
     "start_time": "2024-05-27T16:47:22.871522",
     "status": "completed"
    },
    "tags": []
   },
   "source": [
    "Add one: https://youtu.be/aXQWhbvT3w0?si=VxL8WQhPa15JP7Nl"
   ]
  },
  {
   "cell_type": "code",
   "execution_count": 26,
   "id": "ec4aa5bd",
   "metadata": {
    "execution": {
     "iopub.execute_input": "2024-05-27T16:47:22.888698Z",
     "iopub.status.busy": "2024-05-27T16:47:22.888330Z",
     "iopub.status.idle": "2024-05-27T16:47:22.893054Z",
     "shell.execute_reply": "2024-05-27T16:47:22.892496Z"
    },
    "lines_to_next_cell": 1,
    "papermill": {
     "duration": 0.012098,
     "end_time": "2024-05-27T16:47:22.894142",
     "exception": false,
     "start_time": "2024-05-27T16:47:22.882044",
     "status": "completed"
    },
    "tags": []
   },
   "outputs": [],
   "source": [
    "def addOneRecursive(head: ListNode) -> ListNode:\n",
    "    def backtrack(curr: ListNode) -> int:\n",
    "        if not curr:\n",
    "            return 1\n",
    "        else:\n",
    "            value = curr.val + backtrack(curr.next)\n",
    "            curr.val = value % 10\n",
    "            return value // 10\n",
    "\n",
    "    carry = backtrack(head)\n",
    "    return ListNode(carry, head) if carry else head\n",
    "\n",
    "# Testing the solution\n",
    "assert addOneRecursive(ListNode.to_singly_linked_list([9])).to_list() == [1,0]\n",
    "assert addOneRecursive(ListNode.to_singly_linked_list([0])).to_list() == [1]"
   ]
  },
  {
   "cell_type": "code",
   "execution_count": 27,
   "id": "7d6145a8",
   "metadata": {
    "execution": {
     "iopub.execute_input": "2024-05-27T16:47:22.906249Z",
     "iopub.status.busy": "2024-05-27T16:47:22.905865Z",
     "iopub.status.idle": "2024-05-27T16:47:22.911144Z",
     "shell.execute_reply": "2024-05-27T16:47:22.910667Z"
    },
    "papermill": {
     "duration": 0.012743,
     "end_time": "2024-05-27T16:47:22.912225",
     "exception": false,
     "start_time": "2024-05-27T16:47:22.899482",
     "status": "completed"
    },
    "tags": []
   },
   "outputs": [],
   "source": [
    "def addOneIter(head: ListNode) -> ListNode:\n",
    "    def reverseLL(root: ListNode) -> ListNode:\n",
    "        prev, curr = None, root\n",
    "        while curr:\n",
    "            next_ = curr.next\n",
    "            curr.next = prev\n",
    "            prev, curr = curr, next_\n",
    "\n",
    "        return prev # type: ignore\n",
    "\n",
    "    rev_head = curr = reverseLL(head)\n",
    "\n",
    "    # Add 1 to reversed head and move forward\n",
    "    prev, carry = None, 1\n",
    "    while curr:\n",
    "        value = curr.val + carry\n",
    "        carry, curr.val = value // 10, value % 10\n",
    "        prev, curr = curr, curr.next\n",
    "\n",
    "    if carry and prev:\n",
    "        prev.next = ListNode(carry)\n",
    "\n",
    "    return reverseLL(rev_head)\n",
    "\n",
    "# Testing the solution\n",
    "assert addOneIter(ListNode.to_singly_linked_list([9])).to_list() == [1,0]\n",
    "assert addOneIter(ListNode.to_singly_linked_list([0])).to_list() == [1]"
   ]
  }
 ],
 "metadata": {
  "kernelspec": {
   "display_name": "Python 3 (ipykernel)",
   "language": "python",
   "name": "python3"
  },
  "language_info": {
   "codemirror_mode": {
    "name": "ipython",
    "version": 3
   },
   "file_extension": ".py",
   "mimetype": "text/x-python",
   "name": "python",
   "nbconvert_exporter": "python",
   "pygments_lexer": "ipython3",
   "version": "3.11.9"
  },
  "papermill": {
   "default_parameters": {},
   "duration": 2.514262,
   "end_time": "2024-05-27T16:47:23.233824",
   "environment_variables": {},
   "exception": null,
   "input_path": "study/striver-A2Z/14-linked-list.ipynb",
   "output_path": "study/striver-A2Z/14-linked-list.ipynb",
   "parameters": {},
   "start_time": "2024-05-27T16:47:20.719562",
   "version": "2.6.0"
  }
 },
 "nbformat": 4,
 "nbformat_minor": 5
}