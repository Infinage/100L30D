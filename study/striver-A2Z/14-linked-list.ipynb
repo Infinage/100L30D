{
 "cells": [
  {
   "cell_type": "markdown",
   "id": "7bb754d1",
   "metadata": {
    "papermill": {
     "duration": 0.002875,
     "end_time": "2024-05-25T16:09:02.759262",
     "exception": false,
     "start_time": "2024-05-25T16:09:02.756387",
     "status": "completed"
    },
    "tags": []
   },
   "source": [
    "### Useful imports"
   ]
  },
  {
   "cell_type": "code",
   "execution_count": 1,
   "id": "9ca3a0e7",
   "metadata": {
    "execution": {
     "iopub.execute_input": "2024-05-25T16:09:02.764727Z",
     "iopub.status.busy": "2024-05-25T16:09:02.764293Z",
     "iopub.status.idle": "2024-05-25T16:09:03.132583Z",
     "shell.execute_reply": "2024-05-25T16:09:03.131969Z"
    },
    "lines_to_next_cell": 1,
    "papermill": {
     "duration": 0.372879,
     "end_time": "2024-05-25T16:09:03.134205",
     "exception": false,
     "start_time": "2024-05-25T16:09:02.761326",
     "status": "completed"
    },
    "tags": []
   },
   "outputs": [],
   "source": [
    "from typing import List, Optional, Generator\n",
    "import pandas as pd\n",
    "import numpy as np\n",
    "import sqlite3\n",
    "import re\n",
    "import io\n",
    "import math\n",
    "import collections\n",
    "import itertools\n",
    "import functools\n",
    "import random\n",
    "import string\n",
    "import tqdm\n",
    "import bisect\n",
    "import heapq"
   ]
  },
  {
   "cell_type": "markdown",
   "id": "4d54d767",
   "metadata": {
    "papermill": {
     "duration": 0.002153,
     "end_time": "2024-05-25T16:09:03.138521",
     "exception": false,
     "start_time": "2024-05-25T16:09:03.136368",
     "status": "completed"
    },
    "tags": []
   },
   "source": [
    "#### Helper for Singly Linked lists"
   ]
  },
  {
   "cell_type": "code",
   "execution_count": 2,
   "id": "db8c5b93",
   "metadata": {
    "execution": {
     "iopub.execute_input": "2024-05-25T16:09:03.143586Z",
     "iopub.status.busy": "2024-05-25T16:09:03.143027Z",
     "iopub.status.idle": "2024-05-25T16:09:03.148429Z",
     "shell.execute_reply": "2024-05-25T16:09:03.147807Z"
    },
    "lines_to_next_cell": 1,
    "papermill": {
     "duration": 0.009302,
     "end_time": "2024-05-25T16:09:03.149702",
     "exception": false,
     "start_time": "2024-05-25T16:09:03.140400",
     "status": "completed"
    },
    "tags": []
   },
   "outputs": [],
   "source": [
    "class ListNode:\n",
    "    def __init__(self, val=0, next_=None):\n",
    "        self.val = val\n",
    "        self.next = next_\n",
    "\n",
    "    def __str__(self):\n",
    "        return str(self.val)\n",
    "\n",
    "    @staticmethod\n",
    "    def to_singly_linked_list(nums: list[int]):\n",
    "        root = prev = None\n",
    "        for n in nums:\n",
    "            curr = ListNode(n)\n",
    "            # Init once\n",
    "            if not root:\n",
    "                root = curr\n",
    "            if prev:\n",
    "                prev.next = curr\n",
    "            prev = curr\n",
    "\n",
    "        return root\n",
    "\n",
    "    def to_list(self) -> list[int]:\n",
    "        result = []\n",
    "        curr = self\n",
    "        while curr:\n",
    "            result.append(curr.val)\n",
    "            curr = curr.next\n",
    "        return result"
   ]
  },
  {
   "cell_type": "markdown",
   "id": "3bd55ce0",
   "metadata": {
    "papermill": {
     "duration": 0.001868,
     "end_time": "2024-05-25T16:09:03.153690",
     "exception": false,
     "start_time": "2024-05-25T16:09:03.151822",
     "status": "completed"
    },
    "tags": []
   },
   "source": [
    "Convert an array to Linked list"
   ]
  },
  {
   "cell_type": "code",
   "execution_count": 3,
   "id": "59dfeb8f",
   "metadata": {
    "execution": {
     "iopub.execute_input": "2024-05-25T16:09:03.158866Z",
     "iopub.status.busy": "2024-05-25T16:09:03.158326Z",
     "iopub.status.idle": "2024-05-25T16:09:03.162123Z",
     "shell.execute_reply": "2024-05-25T16:09:03.161655Z"
    },
    "lines_to_next_cell": 1,
    "papermill": {
     "duration": 0.007529,
     "end_time": "2024-05-25T16:09:03.163210",
     "exception": false,
     "start_time": "2024-05-25T16:09:03.155681",
     "status": "completed"
    },
    "tags": []
   },
   "outputs": [],
   "source": [
    "def constructLL(arr: list[int]) -> ListNode|None:\n",
    "    head: \"ListNode\" | None = None\n",
    "    tail = head\n",
    "\n",
    "    for n in arr:\n",
    "        curr = ListNode(n)\n",
    "        if not tail:\n",
    "            head = tail = curr\n",
    "        else:\n",
    "            tail.next = curr\n",
    "            tail = curr\n",
    "\n",
    "    return head"
   ]
  },
  {
   "cell_type": "markdown",
   "id": "0c090b60",
   "metadata": {
    "papermill": {
     "duration": 0.001914,
     "end_time": "2024-05-25T16:09:03.167050",
     "exception": false,
     "start_time": "2024-05-25T16:09:03.165136",
     "status": "completed"
    },
    "tags": []
   },
   "source": [
    "Length of LL"
   ]
  },
  {
   "cell_type": "code",
   "execution_count": 4,
   "id": "d41e087f",
   "metadata": {
    "execution": {
     "iopub.execute_input": "2024-05-25T16:09:03.172013Z",
     "iopub.status.busy": "2024-05-25T16:09:03.171513Z",
     "iopub.status.idle": "2024-05-25T16:09:03.174974Z",
     "shell.execute_reply": "2024-05-25T16:09:03.174544Z"
    },
    "lines_to_next_cell": 1,
    "papermill": {
     "duration": 0.007079,
     "end_time": "2024-05-25T16:09:03.176029",
     "exception": false,
     "start_time": "2024-05-25T16:09:03.168950",
     "status": "completed"
    },
    "tags": []
   },
   "outputs": [],
   "source": [
    "def lengthOfLL(head: ListNode) -> int:\n",
    "    curr = head\n",
    "    count = 0\n",
    "    while curr:\n",
    "        curr = curr.next\n",
    "        count += 1\n",
    "\n",
    "    return count\n",
    "\n",
    "# Testing the solution\n",
    "assert lengthOfLL(ListNode.to_singly_linked_list([1,2,3,4,5])) == 5"
   ]
  },
  {
   "cell_type": "markdown",
   "id": "bd9565da",
   "metadata": {
    "papermill": {
     "duration": 0.001983,
     "end_time": "2024-05-25T16:09:03.180037",
     "exception": false,
     "start_time": "2024-05-25T16:09:03.178054",
     "status": "completed"
    },
    "tags": []
   },
   "source": [
    "Search in a linked list"
   ]
  },
  {
   "cell_type": "code",
   "execution_count": 5,
   "id": "1137b6e9",
   "metadata": {
    "execution": {
     "iopub.execute_input": "2024-05-25T16:09:03.185528Z",
     "iopub.status.busy": "2024-05-25T16:09:03.184969Z",
     "iopub.status.idle": "2024-05-25T16:09:03.188754Z",
     "shell.execute_reply": "2024-05-25T16:09:03.188207Z"
    },
    "lines_to_next_cell": 1,
    "papermill": {
     "duration": 0.007763,
     "end_time": "2024-05-25T16:09:03.189863",
     "exception": false,
     "start_time": "2024-05-25T16:09:03.182100",
     "status": "completed"
    },
    "tags": []
   },
   "outputs": [],
   "source": [
    "def searchInLinkedList(head: ListNode, k: int):\n",
    "    curr = head\n",
    "    while curr:\n",
    "        if curr.val == k:\n",
    "            return 1\n",
    "        else:\n",
    "            curr = curr.next\n",
    "\n",
    "    return 0\n",
    "\n",
    "# Testing the solution\n",
    "assert searchInLinkedList(ListNode.to_singly_linked_list([1,2,3,4]), 4) == 1"
   ]
  },
  {
   "cell_type": "markdown",
   "id": "73478462",
   "metadata": {
    "papermill": {
     "duration": 0.001953,
     "end_time": "2024-05-25T16:09:03.194540",
     "exception": false,
     "start_time": "2024-05-25T16:09:03.192587",
     "status": "completed"
    },
    "tags": []
   },
   "source": [
    "Delete a node from linked list\n",
    "https://www.geeksforgeeks.org/problems/delete-a-node-in-single-linked-list/1"
   ]
  },
  {
   "cell_type": "code",
   "execution_count": 6,
   "id": "5bd512fc",
   "metadata": {
    "execution": {
     "iopub.execute_input": "2024-05-25T16:09:03.199564Z",
     "iopub.status.busy": "2024-05-25T16:09:03.199072Z",
     "iopub.status.idle": "2024-05-25T16:09:03.205224Z",
     "shell.execute_reply": "2024-05-25T16:09:03.204664Z"
    },
    "lines_to_next_cell": 1,
    "papermill": {
     "duration": 0.009943,
     "end_time": "2024-05-25T16:09:03.206422",
     "exception": false,
     "start_time": "2024-05-25T16:09:03.196479",
     "status": "completed"
    },
    "tags": []
   },
   "outputs": [],
   "source": [
    "def delNodePos(head: ListNode, k: int):\n",
    "    if not head or k == 0:\n",
    "        return head\n",
    "    elif k == 1:\n",
    "        return head.next\n",
    "    else:\n",
    "        count: int = 0\n",
    "        prev: ListNode|None = None\n",
    "        curr: ListNode|None = head\n",
    "\n",
    "        while curr:\n",
    "            count += 1\n",
    "            if count == k and prev:\n",
    "                prev.next = prev.next.next\n",
    "                break\n",
    "            else:\n",
    "                prev, curr = curr, curr.next\n",
    "\n",
    "        return head\n",
    "\n",
    "# Testing the solution\n",
    "assert delNodePos(ListNode.to_singly_linked_list([1,2]), 2).to_list() == [1]\n",
    "assert delNodePos(ListNode.to_singly_linked_list([1,2]), 1).to_list() == [2]\n",
    "assert delNodePos(ListNode.to_singly_linked_list([1]), 1) is None\n",
    "assert delNodePos(ListNode.to_singly_linked_list([1]), 10).to_list() == [1]\n",
    "assert delNodePos(ListNode.to_singly_linked_list([1,2,3]), 10).to_list() == [1,2,3]"
   ]
  },
  {
   "cell_type": "markdown",
   "id": "6ea5a2c5",
   "metadata": {
    "papermill": {
     "duration": 0.002052,
     "end_time": "2024-05-25T16:09:03.210471",
     "exception": false,
     "start_time": "2024-05-25T16:09:03.208419",
     "status": "completed"
    },
    "tags": []
   },
   "source": [
    "Delete node by value"
   ]
  },
  {
   "cell_type": "code",
   "execution_count": 7,
   "id": "420f38cf",
   "metadata": {
    "execution": {
     "iopub.execute_input": "2024-05-25T16:09:03.215472Z",
     "iopub.status.busy": "2024-05-25T16:09:03.215022Z",
     "iopub.status.idle": "2024-05-25T16:09:03.219931Z",
     "shell.execute_reply": "2024-05-25T16:09:03.219404Z"
    },
    "lines_to_next_cell": 1,
    "papermill": {
     "duration": 0.009105,
     "end_time": "2024-05-25T16:09:03.221545",
     "exception": false,
     "start_time": "2024-05-25T16:09:03.212440",
     "status": "completed"
    },
    "tags": []
   },
   "outputs": [],
   "source": [
    "def delNodeVal(head: ListNode, val: int):\n",
    "    if not head:\n",
    "        return head\n",
    "    elif head.val == val:\n",
    "        return head.next\n",
    "    else:\n",
    "        prev: ListNode|None = None\n",
    "        curr: ListNode|None = head\n",
    "        while curr:\n",
    "            if curr.val == val and prev:\n",
    "                prev.next = prev.next.next\n",
    "                break\n",
    "            else:\n",
    "                prev, curr = curr, curr.next\n",
    "\n",
    "        return head\n",
    "\n",
    "# Testing the solution\n",
    "assert delNodeVal(ListNode.to_singly_linked_list([1,2]), 2).to_list() == [1]\n",
    "assert delNodeVal(ListNode.to_singly_linked_list([1,2]), 1).to_list() == [2]\n",
    "assert delNodeVal(ListNode.to_singly_linked_list([1]), 1) is None\n",
    "assert delNodeVal(ListNode.to_singly_linked_list([1]), 10).to_list() == [1]\n",
    "assert delNodeVal(ListNode.to_singly_linked_list([1,2,3]), 3).to_list() == [1,2]"
   ]
  },
  {
   "cell_type": "markdown",
   "id": "53646359",
   "metadata": {
    "papermill": {
     "duration": 0.001969,
     "end_time": "2024-05-25T16:09:03.226362",
     "exception": false,
     "start_time": "2024-05-25T16:09:03.224393",
     "status": "completed"
    },
    "tags": []
   },
   "source": [
    "Inserting into a linked list"
   ]
  },
  {
   "cell_type": "code",
   "execution_count": 8,
   "id": "9de3ec91",
   "metadata": {
    "execution": {
     "iopub.execute_input": "2024-05-25T16:09:03.231348Z",
     "iopub.status.busy": "2024-05-25T16:09:03.230884Z",
     "iopub.status.idle": "2024-05-25T16:09:03.235480Z",
     "shell.execute_reply": "2024-05-25T16:09:03.235045Z"
    },
    "papermill": {
     "duration": 0.008243,
     "end_time": "2024-05-25T16:09:03.236624",
     "exception": false,
     "start_time": "2024-05-25T16:09:03.228381",
     "status": "completed"
    },
    "tags": []
   },
   "outputs": [],
   "source": [
    "def insertNode(head: ListNode, N: int, pos: int, val: int) -> ListNode:\n",
    "    node = ListNode(val)\n",
    "    if pos == 0:\n",
    "        node.next = head\n",
    "        return node\n",
    "    else:\n",
    "        prev: ListNode|None = None\n",
    "        curr: ListNode|None = head\n",
    "\n",
    "        count = 0\n",
    "        while count < pos:\n",
    "            count += 1\n",
    "            if curr:\n",
    "                prev, curr = curr, curr.next\n",
    "\n",
    "        if prev:\n",
    "            prev.next = node\n",
    "            node.next = curr\n",
    "\n",
    "        return head\n",
    "\n",
    "# Testing the solution\n",
    "assert insertNode(ListNode.to_singly_linked_list([1,2,3,4]), 4, 0, 0).to_list() == [0,1,2,3,4]\n",
    "assert insertNode(ListNode.to_singly_linked_list([]), 0, 0, 0).to_list() == [0]"
   ]
  }
 ],
 "metadata": {
  "kernelspec": {
   "display_name": "Python 3 (ipykernel)",
   "language": "python",
   "name": "python3"
  },
  "language_info": {
   "codemirror_mode": {
    "name": "ipython",
    "version": 3
   },
   "file_extension": ".py",
   "mimetype": "text/x-python",
   "name": "python",
   "nbconvert_exporter": "python",
   "pygments_lexer": "ipython3",
   "version": "3.11.9"
  },
  "papermill": {
   "default_parameters": {},
   "duration": 1.816931,
   "end_time": "2024-05-25T16:09:03.454394",
   "environment_variables": {},
   "exception": null,
   "input_path": "study/striver-A2Z/14-linked-list.ipynb",
   "output_path": "study/striver-A2Z/14-linked-list.ipynb",
   "parameters": {},
   "start_time": "2024-05-25T16:09:01.637463",
   "version": "2.6.0"
  }
 },
 "nbformat": 4,
 "nbformat_minor": 5
}