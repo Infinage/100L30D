{
 "cells": [
  {
   "cell_type": "markdown",
   "id": "7a3eac84",
   "metadata": {
    "papermill": {
     "duration": 0.005821,
     "end_time": "2024-02-27T03:01:44.556207",
     "exception": false,
     "start_time": "2024-02-27T03:01:44.550386",
     "status": "completed"
    },
    "tags": []
   },
   "source": [
    "Video link: https://www.youtube.com/watch?v=tNm_NNSB3_w&list=PLgUwDviBIf0oF6QL8m22w1hIDC1vJ_BHz&index=://www.youtube.com/watch?v=1xNbjMdbjug&list=PLgUwDviBIf0oF6QL8m22w1hIDC1vJ_BHz&index=6 "
   ]
  },
  {
   "cell_type": "code",
   "execution_count": 1,
   "id": "27c2f0df",
   "metadata": {
    "execution": {
     "iopub.execute_input": "2024-02-27T03:01:44.570558Z",
     "iopub.status.busy": "2024-02-27T03:01:44.569679Z",
     "iopub.status.idle": "2024-02-27T03:01:44.594624Z",
     "shell.execute_reply": "2024-02-27T03:01:44.591066Z"
    },
    "papermill": {
     "duration": 0.037002,
     "end_time": "2024-02-27T03:01:44.598834",
     "exception": false,
     "start_time": "2024-02-27T03:01:44.561832",
     "status": "completed"
    },
    "tags": []
   },
   "outputs": [],
   "source": [
    "# Some necessary imports\n",
    "import math"
   ]
  },
  {
   "cell_type": "code",
   "execution_count": 2,
   "id": "48b302bb",
   "metadata": {
    "execution": {
     "iopub.execute_input": "2024-02-27T03:01:44.624360Z",
     "iopub.status.busy": "2024-02-27T03:01:44.622310Z",
     "iopub.status.idle": "2024-02-27T03:01:44.643886Z",
     "shell.execute_reply": "2024-02-27T03:01:44.641476Z"
    },
    "lines_to_next_cell": 2,
    "papermill": {
     "duration": 0.043409,
     "end_time": "2024-02-27T03:01:44.647294",
     "exception": false,
     "start_time": "2024-02-27T03:01:44.603885",
     "status": "completed"
    },
    "tags": []
   },
   "outputs": [
    {
     "name": "stdout",
     "output_type": "stream",
     "text": [
      "24\n",
      "24\n"
     ]
    }
   ],
   "source": [
    "# Q1 - Count digits\n",
    "N = N_ = 123213121231231231221323\n",
    "\n",
    "# Counting digits in O(log10(N))\n",
    "# Log10(N) because everytime N is divided by 10\n",
    "\n",
    "# LogM(N) if N is divided by M everytime\n",
    "count = 0\n",
    "while N_ > 0:\n",
    "    N_ = N_ // 10\n",
    "    count += 1\n",
    "print(count)\n",
    "\n",
    "# Count digits in O(1)\n",
    "print(int(math.log10(N) + 1))"
   ]
  },
  {
   "cell_type": "code",
   "execution_count": 3,
   "id": "228219f8",
   "metadata": {
    "execution": {
     "iopub.execute_input": "2024-02-27T03:01:44.655418Z",
     "iopub.status.busy": "2024-02-27T03:01:44.654672Z",
     "iopub.status.idle": "2024-02-27T03:01:44.662241Z",
     "shell.execute_reply": "2024-02-27T03:01:44.660544Z"
    },
    "papermill": {
     "duration": 0.014812,
     "end_time": "2024-02-27T03:01:44.665190",
     "exception": false,
     "start_time": "2024-02-27T03:01:44.650378",
     "status": "completed"
    },
    "tags": []
   },
   "outputs": [
    {
     "name": "stdout",
     "output_type": "stream",
     "text": [
      "321\n"
     ]
    }
   ],
   "source": [
    "# Q2 - Reverse a number\n",
    "N = 1230\n",
    "rev = 0\n",
    "while N > 0:\n",
    "    rev = (rev * 10) + (N % 10)\n",
    "    N //= 10\n",
    "print(rev)"
   ]
  },
  {
   "cell_type": "code",
   "execution_count": 4,
   "id": "50d26615",
   "metadata": {
    "execution": {
     "iopub.execute_input": "2024-02-27T03:01:44.673875Z",
     "iopub.status.busy": "2024-02-27T03:01:44.672946Z",
     "iopub.status.idle": "2024-02-27T03:01:44.680976Z",
     "shell.execute_reply": "2024-02-27T03:01:44.679116Z"
    },
    "lines_to_next_cell": 1,
    "papermill": {
     "duration": 0.0158,
     "end_time": "2024-02-27T03:01:44.683884",
     "exception": false,
     "start_time": "2024-02-27T03:01:44.668084",
     "status": "completed"
    },
    "tags": []
   },
   "outputs": [
    {
     "name": "stdout",
     "output_type": "stream",
     "text": [
      "True\n"
     ]
    }
   ],
   "source": [
    "# Q3 - Palindrome\n",
    "N_ = N = 10201\n",
    "rev = 0\n",
    "while N_ > 0:\n",
    "    rev = (rev * 10) + (N_ % 10)\n",
    "    N_ //= 10\n",
    "print(rev == N)"
   ]
  },
  {
   "cell_type": "code",
   "execution_count": 5,
   "id": "7939a9d7",
   "metadata": {
    "execution": {
     "iopub.execute_input": "2024-02-27T03:01:44.692009Z",
     "iopub.status.busy": "2024-02-27T03:01:44.691610Z",
     "iopub.status.idle": "2024-02-27T03:01:44.702612Z",
     "shell.execute_reply": "2024-02-27T03:01:44.700614Z"
    },
    "papermill": {
     "duration": 0.01884,
     "end_time": "2024-02-27T03:01:44.705246",
     "exception": false,
     "start_time": "2024-02-27T03:01:44.686406",
     "status": "completed"
    },
    "tags": []
   },
   "outputs": [
    {
     "name": "stdout",
     "output_type": "stream",
     "text": [
      "4\n"
     ]
    }
   ],
   "source": [
    "# Q4 - GCD\n",
    "def gcd(a: int, b: int) -> int:\n",
    "    \"O(log(min(a, b))\"\n",
    "    while a > 0 and b > 0:\n",
    "        max_, min_ = max(a, b), min(a, b)\n",
    "        a, b = max_ % min_, min_\n",
    "    return max(a, b)\n",
    "print(gcd(52, 24))"
   ]
  },
  {
   "cell_type": "code",
   "execution_count": 6,
   "id": "a1ad42ba",
   "metadata": {
    "execution": {
     "iopub.execute_input": "2024-02-27T03:01:44.714477Z",
     "iopub.status.busy": "2024-02-27T03:01:44.713143Z",
     "iopub.status.idle": "2024-02-27T03:01:44.721347Z",
     "shell.execute_reply": "2024-02-27T03:01:44.719559Z"
    },
    "papermill": {
     "duration": 0.016255,
     "end_time": "2024-02-27T03:01:44.724137",
     "exception": false,
     "start_time": "2024-02-27T03:01:44.707882",
     "status": "completed"
    },
    "tags": []
   },
   "outputs": [
    {
     "name": "stdout",
     "output_type": "stream",
     "text": [
      "True\n"
     ]
    }
   ],
   "source": [
    "# Q5 - Armstrong Numbers\n",
    "N_ = N = 371\n",
    "acc = 0\n",
    "while N_ > 0:\n",
    "    acc += (N_ % 10) ** 3\n",
    "    N_ //= 10\n",
    "print(acc == N)"
   ]
  },
  {
   "cell_type": "code",
   "execution_count": 7,
   "id": "f64a952c",
   "metadata": {
    "execution": {
     "iopub.execute_input": "2024-02-27T03:01:44.733727Z",
     "iopub.status.busy": "2024-02-27T03:01:44.732893Z",
     "iopub.status.idle": "2024-02-27T03:01:44.740850Z",
     "shell.execute_reply": "2024-02-27T03:01:44.739323Z"
    },
    "papermill": {
     "duration": 0.015358,
     "end_time": "2024-02-27T03:01:44.743236",
     "exception": false,
     "start_time": "2024-02-27T03:01:44.727878",
     "status": "completed"
    },
    "tags": []
   },
   "outputs": [
    {
     "name": "stdout",
     "output_type": "stream",
     "text": [
      "[1, 2, 3, 4, 6, 9, 12, 18, 36]\n"
     ]
    }
   ],
   "source": [
    "# Q6 - Print all divisors\n",
    "# O(sqrt(N) x log(sqrt(N)))\n",
    "N = 36\n",
    "i = 1\n",
    "result = set()\n",
    "while i*i <= N:\n",
    "    if N % i == 0:\n",
    "        result.add(i)\n",
    "        result.add(N // i)\n",
    "    i += 1\n",
    "print(sorted(result))"
   ]
  },
  {
   "cell_type": "code",
   "execution_count": 8,
   "id": "fb3d2c16",
   "metadata": {
    "execution": {
     "iopub.execute_input": "2024-02-27T03:01:44.752215Z",
     "iopub.status.busy": "2024-02-27T03:01:44.751811Z",
     "iopub.status.idle": "2024-02-27T03:01:44.759199Z",
     "shell.execute_reply": "2024-02-27T03:01:44.757383Z"
    },
    "papermill": {
     "duration": 0.015464,
     "end_time": "2024-02-27T03:01:44.761574",
     "exception": false,
     "start_time": "2024-02-27T03:01:44.746110",
     "status": "completed"
    },
    "tags": []
   },
   "outputs": [
    {
     "name": "stdout",
     "output_type": "stream",
     "text": [
      "True\n"
     ]
    }
   ],
   "source": [
    "# Q7 - Prime\n",
    "N = 13\n",
    "i = 2\n",
    "while i * i <= N:\n",
    "    if N % i == 0:\n",
    "        print(\"False\")\n",
    "        break\n",
    "    i += 1\n",
    "else:\n",
    "    print(\"True\")"
   ]
  }
 ],
 "metadata": {
  "kernelspec": {
   "display_name": "Python 3 (ipykernel)",
   "language": "python",
   "name": "python3"
  },
  "language_info": {
   "codemirror_mode": {
    "name": "ipython",
    "version": 3
   },
   "file_extension": ".py",
   "mimetype": "text/x-python",
   "name": "python",
   "nbconvert_exporter": "python",
   "pygments_lexer": "ipython3",
   "version": "3.10.13"
  },
  "papermill": {
   "default_parameters": {},
   "duration": 2.080938,
   "end_time": "2024-02-27T03:01:45.189263",
   "environment_variables": {},
   "exception": null,
   "input_path": "basic-math.ipynb",
   "output_path": "basic-math.ipynb",
   "parameters": {},
   "start_time": "2024-02-27T03:01:43.108325",
   "version": "2.4.0"
  }
 },
 "nbformat": 4,
 "nbformat_minor": 5
}