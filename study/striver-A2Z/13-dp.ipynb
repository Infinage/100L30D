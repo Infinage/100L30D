{
 "cells": [
  {
   "cell_type": "markdown",
   "id": "807dd9ee",
   "metadata": {
    "papermill": {
     "duration": 0.020942,
     "end_time": "2024-05-24T15:47:28.268883",
     "exception": false,
     "start_time": "2024-05-24T15:47:28.247941",
     "status": "completed"
    },
    "tags": []
   },
   "source": [
    "Important notes\n",
    "- All subset based problems (non contigous subarrays would have the pick/nopick approach)\n",
    "- To convert a memoization solution to tabulation:\n",
    "  1. Find the base case and assign the the DP\n",
    "  2. Start iterating from the base case all the way to our starting point\n",
    "  3. Return the value at the starting point\n",
    "- We can space optimize a tabulation solution whenever we see only the prev/next rows being used in the tabualation solution.\n",
    "- Time complexity of unmemoized DP code is typically exponential O(number of branches ** N)\n",
    "- All subsets problem involve recursion trying all combinations: Pick, no pick\n",
    "- For problems where there is an infinite supply, take would increase total but remain at the same index.\n",
    "- For problems involving counts, we try all possb combinations and base case would either return 1 or 0."
   ]
  },
  {
   "cell_type": "markdown",
   "id": "457ab51f",
   "metadata": {
    "papermill": {
     "duration": 0.018909,
     "end_time": "2024-05-24T15:47:28.307259",
     "exception": false,
     "start_time": "2024-05-24T15:47:28.288350",
     "status": "completed"
    },
    "tags": []
   },
   "source": [
    "### Some important imports"
   ]
  },
  {
   "cell_type": "code",
   "execution_count": 1,
   "id": "164d751b",
   "metadata": {
    "execution": {
     "iopub.execute_input": "2024-05-24T15:47:28.347123Z",
     "iopub.status.busy": "2024-05-24T15:47:28.346646Z",
     "iopub.status.idle": "2024-05-24T15:47:28.352229Z",
     "shell.execute_reply": "2024-05-24T15:47:28.351770Z"
    },
    "lines_to_next_cell": 1,
    "papermill": {
     "duration": 0.027035,
     "end_time": "2024-05-24T15:47:28.353370",
     "exception": false,
     "start_time": "2024-05-24T15:47:28.326335",
     "status": "completed"
    },
    "tags": []
   },
   "outputs": [],
   "source": [
    "import functools\n",
    "import itertools\n",
    "import collections\n",
    "import math\n",
    "import heapq"
   ]
  },
  {
   "cell_type": "markdown",
   "id": "48648354",
   "metadata": {
    "papermill": {
     "duration": 0.018787,
     "end_time": "2024-05-24T15:47:28.391420",
     "exception": false,
     "start_time": "2024-05-24T15:47:28.372633",
     "status": "completed"
    },
    "tags": []
   },
   "source": [
    "Introduction to DP: https://youtu.be/tyB0ztf0DNY?si=SgpBwGNqPXzdPSRA\n",
    "1. Tabulation: Bottom up DP: Ans -> Base case -> Ans\n",
    "2. Memoization: Top down DP: Base case -> Ans"
   ]
  },
  {
   "cell_type": "code",
   "execution_count": 2,
   "id": "41c46591",
   "metadata": {
    "execution": {
     "iopub.execute_input": "2024-05-24T15:47:28.433218Z",
     "iopub.status.busy": "2024-05-24T15:47:28.432775Z",
     "iopub.status.idle": "2024-05-24T15:47:28.439770Z",
     "shell.execute_reply": "2024-05-24T15:47:28.439204Z"
    },
    "lines_to_next_cell": 1,
    "papermill": {
     "duration": 0.030774,
     "end_time": "2024-05-24T15:47:28.441219",
     "exception": false,
     "start_time": "2024-05-24T15:47:28.410445",
     "status": "completed"
    },
    "tags": []
   },
   "outputs": [
    {
     "data": {
      "text/plain": [
       "55"
      ]
     },
     "execution_count": 2,
     "metadata": {},
     "output_type": "execute_result"
    }
   ],
   "source": [
    "def fiboBrute(n: int) -> int:\n",
    "    \"\"\"\n",
    "    Vanilla recursion\n",
    "    Time: O(2 ^ N), Space: O(2 ^ N)\n",
    "    \"\"\"\n",
    "    if n <= 1:\n",
    "        return n\n",
    "    else:\n",
    "        return fiboBrute(n - 1) + fiboBrute(n - 2)\n",
    "\n",
    "fiboBrute(10)"
   ]
  },
  {
   "cell_type": "code",
   "execution_count": 3,
   "id": "83ba7cd5",
   "metadata": {
    "execution": {
     "iopub.execute_input": "2024-05-24T15:47:28.492018Z",
     "iopub.status.busy": "2024-05-24T15:47:28.491492Z",
     "iopub.status.idle": "2024-05-24T15:47:28.497664Z",
     "shell.execute_reply": "2024-05-24T15:47:28.497103Z"
    },
    "lines_to_next_cell": 1,
    "papermill": {
     "duration": 0.028265,
     "end_time": "2024-05-24T15:47:28.498836",
     "exception": false,
     "start_time": "2024-05-24T15:47:28.470571",
     "status": "completed"
    },
    "tags": []
   },
   "outputs": [
    {
     "data": {
      "text/plain": [
       "55"
      ]
     },
     "execution_count": 3,
     "metadata": {},
     "output_type": "execute_result"
    }
   ],
   "source": [
    "def fiboBetter1(n: int) -> int:\n",
    "    \"\"\"\n",
    "    Memoization Approach: Top down approach\n",
    "    Time: O(N), Space: O(N) + O(N)\n",
    "    \"\"\"\n",
    "    dp: list[int] = [-1 for i in range(n + 1)]\n",
    "    def backtrack(curr: int) -> int:\n",
    "        if curr <= 1:\n",
    "            return curr\n",
    "        elif dp[curr] != -1:\n",
    "            return dp[curr]\n",
    "        else:\n",
    "            dp[curr] = backtrack(curr - 1) + backtrack(curr - 2)\n",
    "            return dp[curr]\n",
    "\n",
    "    return backtrack(n)\n",
    "\n",
    "fiboBetter1(10)"
   ]
  },
  {
   "cell_type": "code",
   "execution_count": 4,
   "id": "80fded7e",
   "metadata": {
    "execution": {
     "iopub.execute_input": "2024-05-24T15:47:28.542525Z",
     "iopub.status.busy": "2024-05-24T15:47:28.542063Z",
     "iopub.status.idle": "2024-05-24T15:47:28.547277Z",
     "shell.execute_reply": "2024-05-24T15:47:28.546814Z"
    },
    "lines_to_next_cell": 1,
    "papermill": {
     "duration": 0.027682,
     "end_time": "2024-05-24T15:47:28.548359",
     "exception": false,
     "start_time": "2024-05-24T15:47:28.520677",
     "status": "completed"
    },
    "tags": []
   },
   "outputs": [
    {
     "data": {
      "text/plain": [
       "55"
      ]
     },
     "execution_count": 4,
     "metadata": {},
     "output_type": "execute_result"
    }
   ],
   "source": [
    "def fiboBetter2(n: int) -> int:\n",
    "    \"\"\"\n",
    "    Tabulation: Bottom up approach\n",
    "    Time: O(N), Space: O(N)\n",
    "    \"\"\"\n",
    "    dp: list[int] = [-1 if i > 1 else i for i in range(n + 1)]\n",
    "    for i in range(2, n + 1):\n",
    "        dp[i] = dp[i - 1] + dp[i - 2]\n",
    "\n",
    "    return dp[n]\n",
    "\n",
    "fiboBetter2(10)"
   ]
  },
  {
   "cell_type": "code",
   "execution_count": 5,
   "id": "8f7d86e2",
   "metadata": {
    "execution": {
     "iopub.execute_input": "2024-05-24T15:47:28.588984Z",
     "iopub.status.busy": "2024-05-24T15:47:28.588410Z",
     "iopub.status.idle": "2024-05-24T15:47:28.593278Z",
     "shell.execute_reply": "2024-05-24T15:47:28.592713Z"
    },
    "lines_to_next_cell": 1,
    "papermill": {
     "duration": 0.026171,
     "end_time": "2024-05-24T15:47:28.594338",
     "exception": false,
     "start_time": "2024-05-24T15:47:28.568167",
     "status": "completed"
    },
    "tags": []
   },
   "outputs": [
    {
     "data": {
      "text/plain": [
       "55"
      ]
     },
     "execution_count": 5,
     "metadata": {},
     "output_type": "execute_result"
    }
   ],
   "source": [
    "def fiboOptimal(n: int) -> int:\n",
    "    \"\"\"\n",
    "    Bottom up approach\n",
    "    Time: O(N), Space: O(1)\n",
    "    \"\"\"\n",
    "    prev2, prev1 = 0, 1\n",
    "    for i in range(2, n + 1):\n",
    "        prev2, prev1 = prev1, prev1 + prev2\n",
    "        n -= 1\n",
    "\n",
    "    return prev1\n",
    "\n",
    "fiboOptimal(10)"
   ]
  },
  {
   "cell_type": "markdown",
   "id": "855c35fb",
   "metadata": {
    "papermill": {
     "duration": 0.019279,
     "end_time": "2024-05-24T15:47:28.633633",
     "exception": false,
     "start_time": "2024-05-24T15:47:28.614354",
     "status": "completed"
    },
    "tags": []
   },
   "source": [
    "Climbing Stairs: https://leetcode.com/problems/climbing-stairs/\n",
    "Video Link: https://youtu.be/mLfjzJsN8us?si=C7W-jiYvql0mEnbh"
   ]
  },
  {
   "cell_type": "code",
   "execution_count": 6,
   "id": "87993489",
   "metadata": {
    "execution": {
     "iopub.execute_input": "2024-05-24T15:47:28.694643Z",
     "iopub.status.busy": "2024-05-24T15:47:28.694235Z",
     "iopub.status.idle": "2024-05-24T15:47:28.698490Z",
     "shell.execute_reply": "2024-05-24T15:47:28.698049Z"
    },
    "lines_to_next_cell": 1,
    "papermill": {
     "duration": 0.026408,
     "end_time": "2024-05-24T15:47:28.699596",
     "exception": false,
     "start_time": "2024-05-24T15:47:28.673188",
     "status": "completed"
    },
    "tags": []
   },
   "outputs": [],
   "source": [
    "def climbStairsBetter(n: int) -> int:\n",
    "    \"\"\"Time: O(N), Space: O(N)\"\"\"\n",
    "\n",
    "    dp: list[int] = [-1 for i in range(n + 1)]\n",
    "    def backtrack(curr: int) -> int:\n",
    "        if curr <= 1:\n",
    "            return 1\n",
    "        elif dp[curr] != -1:\n",
    "            return dp[curr]\n",
    "        else:\n",
    "            dp[curr] = backtrack(curr - 1) + backtrack(curr - 2)\n",
    "            return dp[curr]\n",
    "\n",
    "    return backtrack(n)\n",
    "\n",
    "assert climbStairsBetter(45) == 1836311903"
   ]
  },
  {
   "cell_type": "code",
   "execution_count": 7,
   "id": "2dc15ac3",
   "metadata": {
    "execution": {
     "iopub.execute_input": "2024-05-24T15:47:28.740436Z",
     "iopub.status.busy": "2024-05-24T15:47:28.739865Z",
     "iopub.status.idle": "2024-05-24T15:47:28.743571Z",
     "shell.execute_reply": "2024-05-24T15:47:28.743040Z"
    },
    "lines_to_next_cell": 1,
    "papermill": {
     "duration": 0.025406,
     "end_time": "2024-05-24T15:47:28.744788",
     "exception": false,
     "start_time": "2024-05-24T15:47:28.719382",
     "status": "completed"
    },
    "tags": []
   },
   "outputs": [],
   "source": [
    "def climbStairs(n: int) -> int:\n",
    "    \"\"\"Time: O(N), Space: O(1)\"\"\"\n",
    "    prev2, prev1 = 1, 1\n",
    "    while n > 0:\n",
    "        prev2, prev1 = prev1, prev1 + prev2\n",
    "        n -= 1\n",
    "\n",
    "    return prev2\n",
    "\n",
    "assert climbStairs(45) == 1836311903"
   ]
  },
  {
   "cell_type": "markdown",
   "id": "3cd4d88c",
   "metadata": {
    "papermill": {
     "duration": 0.019181,
     "end_time": "2024-05-24T15:47:28.783720",
     "exception": false,
     "start_time": "2024-05-24T15:47:28.764539",
     "status": "completed"
    },
    "tags": []
   },
   "source": [
    "Video link: https://youtu.be/EgG3jsGoPvQ?si=Cm5AVvq_zCnr-w6q\n",
    "Frog Jump: 1"
   ]
  },
  {
   "cell_type": "code",
   "execution_count": 8,
   "id": "59c27b1e",
   "metadata": {
    "execution": {
     "iopub.execute_input": "2024-05-24T15:47:28.824402Z",
     "iopub.status.busy": "2024-05-24T15:47:28.823884Z",
     "iopub.status.idle": "2024-05-24T15:47:28.829138Z",
     "shell.execute_reply": "2024-05-24T15:47:28.828628Z"
    },
    "lines_to_next_cell": 1,
    "papermill": {
     "duration": 0.026999,
     "end_time": "2024-05-24T15:47:28.830213",
     "exception": false,
     "start_time": "2024-05-24T15:47:28.803214",
     "status": "completed"
    },
    "tags": []
   },
   "outputs": [],
   "source": [
    "def frogJumpBetter(N: int, heights: list[int]) -> int:\n",
    "    \"\"\"\n",
    "    Time: O(N), Space: O(N) + O(N)\n",
    "    \"\"\"\n",
    "\n",
    "    @functools.cache\n",
    "    def backtrack(curr: int) -> int:\n",
    "        if curr == N - 1:\n",
    "            return 0\n",
    "        elif curr == N - 2:\n",
    "            return abs(heights[N - 1] - heights[N - 2])\n",
    "        else:\n",
    "            jump1 = abs(heights[curr] - heights[curr + 1]) + backtrack(curr + 1)\n",
    "            jump2 = abs(heights[curr] - heights[curr + 2]) + backtrack(curr + 2)\n",
    "            return min(jump1, jump2)\n",
    "\n",
    "    return backtrack(0)\n",
    "\n",
    "# Testing the solution\n",
    "assert frogJumpBetter(4, [10,20,30,10]) == 20\n",
    "assert frogJumpBetter(3, [10,50,10]) == 0"
   ]
  },
  {
   "cell_type": "code",
   "execution_count": 9,
   "id": "2bc52e04",
   "metadata": {
    "execution": {
     "iopub.execute_input": "2024-05-24T15:47:28.870674Z",
     "iopub.status.busy": "2024-05-24T15:47:28.870200Z",
     "iopub.status.idle": "2024-05-24T15:47:28.874679Z",
     "shell.execute_reply": "2024-05-24T15:47:28.874156Z"
    },
    "lines_to_next_cell": 1,
    "papermill": {
     "duration": 0.025795,
     "end_time": "2024-05-24T15:47:28.875749",
     "exception": false,
     "start_time": "2024-05-24T15:47:28.849954",
     "status": "completed"
    },
    "tags": []
   },
   "outputs": [],
   "source": [
    "def frogJumpOptimal(N: int, heights: list[int]) -> int:\n",
    "    \"Time: O(N), Space: O(1)\"\n",
    "    jump1, jump2 = abs(heights[-2] - heights[-1]), 0\n",
    "    for i in range(N - 3, -1, -1):\n",
    "        curr = min(abs(heights[i] - heights[i + 1]) + jump1, abs(heights[i] - heights[i + 2]) + jump2)\n",
    "        jump1, jump2 = curr, jump1\n",
    "\n",
    "    return jump1\n",
    "\n",
    "assert frogJumpOptimal(4, [10,20,30,10]) == 20\n",
    "assert frogJumpOptimal(3, [10,50,10]) == 0"
   ]
  },
  {
   "cell_type": "markdown",
   "id": "4fa38d19",
   "metadata": {
    "papermill": {
     "duration": 0.019335,
     "end_time": "2024-05-24T15:47:28.914784",
     "exception": false,
     "start_time": "2024-05-24T15:47:28.895449",
     "status": "completed"
    },
    "tags": []
   },
   "source": [
    "Video Link: https://youtu.be/Kmh3rhyEtB8?si=rqZ5-pJcjIzWU5i8\n",
    "Frog Jump with K distance"
   ]
  },
  {
   "cell_type": "code",
   "execution_count": 10,
   "id": "f21ca119",
   "metadata": {
    "execution": {
     "iopub.execute_input": "2024-05-24T15:47:28.955931Z",
     "iopub.status.busy": "2024-05-24T15:47:28.955466Z",
     "iopub.status.idle": "2024-05-24T15:47:28.960356Z",
     "shell.execute_reply": "2024-05-24T15:47:28.959841Z"
    },
    "lines_to_next_cell": 1,
    "papermill": {
     "duration": 0.026861,
     "end_time": "2024-05-24T15:47:28.961470",
     "exception": false,
     "start_time": "2024-05-24T15:47:28.934609",
     "status": "completed"
    },
    "tags": []
   },
   "outputs": [],
   "source": [
    "def frogJumpAtKDistBetter1(N: int, K: int, heights: list[int]) -> int:\n",
    "    \"\"\"\n",
    "    Memoization Approach: Top Down Approach\n",
    "    Time: O(N x K), Space: O(N) + O(N)\n",
    "    \"\"\"\n",
    "\n",
    "    @functools.cache\n",
    "    def backtrack(curr: int) -> int:\n",
    "        if curr >= N - 1:\n",
    "            return 0\n",
    "        else:\n",
    "            minCost = math.inf\n",
    "            for next_ in range(curr + 1, min(N, curr + K + 1)):\n",
    "                cost = abs(heights[curr] - heights[next_]) + backtrack(next_)\n",
    "                minCost = min(minCost, cost)\n",
    "\n",
    "            return int(minCost)\n",
    "\n",
    "    return backtrack(0)\n",
    "\n",
    "# Testing the solution\n",
    "assert frogJumpAtKDistBetter1(5, 3, [10,30,40,50,20]) == 30\n",
    "assert frogJumpAtKDistBetter1(3, 1, [10,20,10]) == 20"
   ]
  },
  {
   "cell_type": "code",
   "execution_count": 11,
   "id": "1b9a86c0",
   "metadata": {
    "execution": {
     "iopub.execute_input": "2024-05-24T15:47:29.002273Z",
     "iopub.status.busy": "2024-05-24T15:47:29.001766Z",
     "iopub.status.idle": "2024-05-24T15:47:29.006709Z",
     "shell.execute_reply": "2024-05-24T15:47:29.006259Z"
    },
    "lines_to_next_cell": 1,
    "papermill": {
     "duration": 0.026419,
     "end_time": "2024-05-24T15:47:29.007871",
     "exception": false,
     "start_time": "2024-05-24T15:47:28.981452",
     "status": "completed"
    },
    "tags": []
   },
   "outputs": [],
   "source": [
    "def frogJumpAtKDistBetter2(N: int, K: int, heights: list[int]) -> int:\n",
    "    \"\"\"\n",
    "    Tabulation: Bottom up approach\n",
    "    Time: O(N x K), Space: O(N)\n",
    "    \"\"\"\n",
    "\n",
    "    dp: list[int] = [-1 for i in range(N)]\n",
    "    dp[-1] = 0\n",
    "\n",
    "    for curr in range(N - 2, -1, -1):\n",
    "        minCost = math.inf\n",
    "        for next_ in range(curr + 1, min(N, curr + K + 1)):\n",
    "            cost = abs(heights[curr] - heights[next_]) + dp[next_]\n",
    "            minCost = min(minCost, cost)\n",
    "        dp[curr] = int(minCost)\n",
    "\n",
    "    return dp[0]\n",
    "\n",
    "# Testing the solution\n",
    "assert frogJumpAtKDistBetter2(5, 3, [10,30,40,50,20]) == 30\n",
    "assert frogJumpAtKDistBetter2(3, 1, [10,20,10]) == 20"
   ]
  },
  {
   "cell_type": "code",
   "execution_count": 12,
   "id": "09ca5d18",
   "metadata": {
    "execution": {
     "iopub.execute_input": "2024-05-24T15:47:29.048884Z",
     "iopub.status.busy": "2024-05-24T15:47:29.048552Z",
     "iopub.status.idle": "2024-05-24T15:47:29.053702Z",
     "shell.execute_reply": "2024-05-24T15:47:29.053100Z"
    },
    "lines_to_next_cell": 1,
    "papermill": {
     "duration": 0.026708,
     "end_time": "2024-05-24T15:47:29.054848",
     "exception": false,
     "start_time": "2024-05-24T15:47:29.028140",
     "status": "completed"
    },
    "tags": []
   },
   "outputs": [],
   "source": [
    "def frogJumpAtKDist(N: int, K: int, heights: list[int]) -> int:\n",
    "    \"\"\"\n",
    "    Tabulation: Bottom up approach\n",
    "    Time: O(N x K), Space: O(K)\n",
    "    \"\"\"\n",
    "\n",
    "    dp: collections.deque[int] = collections.deque([0])\n",
    "    for curr in range(N - 2, -1, -1):\n",
    "        minCost = math.inf\n",
    "        for jump in range(1, min(N - curr, K + 1)):\n",
    "            next_ = curr + jump\n",
    "            cost = abs(heights[curr] - heights[next_]) + dp[jump - 1]\n",
    "            minCost = min(minCost, cost)\n",
    "\n",
    "        dp.appendleft(int(minCost))\n",
    "        if len(dp) > K:\n",
    "            dp.pop()\n",
    "\n",
    "    return dp[0]\n",
    "\n",
    "# Testing the solution\n",
    "assert frogJumpAtKDist(5, 3, [10,30,40,50,20]) == 30\n",
    "assert frogJumpAtKDist(3, 1, [10,20,10]) == 20"
   ]
  },
  {
   "cell_type": "markdown",
   "id": "259d53f8",
   "metadata": {
    "papermill": {
     "duration": 0.019582,
     "end_time": "2024-05-24T15:47:29.094552",
     "exception": false,
     "start_time": "2024-05-24T15:47:29.074970",
     "status": "completed"
    },
    "tags": []
   },
   "source": [
    "Maximum sum of Non Adjacent Elements: House Robber\n",
    "Video Link: https://youtu.be/GrMBfJNk_NY?si=IPuGJglc0axETveU"
   ]
  },
  {
   "cell_type": "code",
   "execution_count": 13,
   "id": "89d8dea7",
   "metadata": {
    "execution": {
     "iopub.execute_input": "2024-05-24T15:47:29.135048Z",
     "iopub.status.busy": "2024-05-24T15:47:29.134593Z",
     "iopub.status.idle": "2024-05-24T15:47:29.139001Z",
     "shell.execute_reply": "2024-05-24T15:47:29.138416Z"
    },
    "lines_to_next_cell": 1,
    "papermill": {
     "duration": 0.026068,
     "end_time": "2024-05-24T15:47:29.140078",
     "exception": false,
     "start_time": "2024-05-24T15:47:29.114010",
     "status": "completed"
    },
    "tags": []
   },
   "outputs": [],
   "source": [
    "def robMemo(nums: list[int]) -> int:\n",
    "    \"\"\"\n",
    "    Memoization: Top down approach\n",
    "    Time: O(N), Space: O(N)\n",
    "    \"\"\"\n",
    "\n",
    "    @functools.cache\n",
    "    def backtrack(curr: int) -> int:\n",
    "        if curr >= N:\n",
    "            return 0\n",
    "        else:\n",
    "            return max(backtrack(curr + 1), nums[curr] + backtrack(curr + 2))\n",
    "\n",
    "    N = len(nums)\n",
    "    return backtrack(0)\n",
    "\n",
    "# Testing the solution\n",
    "assert robMemo([2,7,9,3,1]) == 12"
   ]
  },
  {
   "cell_type": "code",
   "execution_count": 14,
   "id": "e69063ac",
   "metadata": {
    "execution": {
     "iopub.execute_input": "2024-05-24T15:47:29.180725Z",
     "iopub.status.busy": "2024-05-24T15:47:29.180243Z",
     "iopub.status.idle": "2024-05-24T15:47:29.184498Z",
     "shell.execute_reply": "2024-05-24T15:47:29.184055Z"
    },
    "lines_to_next_cell": 1,
    "papermill": {
     "duration": 0.025641,
     "end_time": "2024-05-24T15:47:29.185681",
     "exception": false,
     "start_time": "2024-05-24T15:47:29.160040",
     "status": "completed"
    },
    "tags": []
   },
   "outputs": [],
   "source": [
    "def robTab(nums: list[int]) -> int:\n",
    "    \"\"\"\n",
    "    Tabulation: Bottom up approach\n",
    "    Time: O(N), Space: O(N)\n",
    "    \"\"\"\n",
    "    N = len(nums)\n",
    "    dp: list[int] = [-1 for i in range(N + 1)]\n",
    "    dp[-1], dp[-2] = 0, nums[-1]\n",
    "    for curr in range(N - 2, -1, -1):\n",
    "        dp[curr] = max(nums[curr] + dp[curr + 2], dp[curr + 1])\n",
    "\n",
    "    return dp[0]\n",
    "\n",
    "# Testing the solution\n",
    "assert robTab([2,7,9,3,1]) == 12"
   ]
  },
  {
   "cell_type": "code",
   "execution_count": 15,
   "id": "d3ac1b1c",
   "metadata": {
    "execution": {
     "iopub.execute_input": "2024-05-24T15:47:29.227132Z",
     "iopub.status.busy": "2024-05-24T15:47:29.226564Z",
     "iopub.status.idle": "2024-05-24T15:47:29.230768Z",
     "shell.execute_reply": "2024-05-24T15:47:29.230348Z"
    },
    "lines_to_next_cell": 1,
    "papermill": {
     "duration": 0.025935,
     "end_time": "2024-05-24T15:47:29.231854",
     "exception": false,
     "start_time": "2024-05-24T15:47:29.205919",
     "status": "completed"
    },
    "tags": []
   },
   "outputs": [],
   "source": [
    "# https://leetcode.com/problems/house-robber/submissions/1249841355/\n",
    "def robSpaceOptimized(nums: list[int]) -> int:\n",
    "    \"Time: O(N), Space: O(1)\"\n",
    "    next1 = next2 = 0\n",
    "    for curr in range(len(nums) - 1, -1, -1):\n",
    "        next1, next2 = max(nums[curr] + next2, next1), next1\n",
    "\n",
    "    return next1\n",
    "\n",
    "assert robSpaceOptimized([2,7,9,3,1]) == 12"
   ]
  },
  {
   "cell_type": "markdown",
   "id": "630eec21",
   "metadata": {
    "papermill": {
     "duration": 0.019443,
     "end_time": "2024-05-24T15:47:29.271357",
     "exception": false,
     "start_time": "2024-05-24T15:47:29.251914",
     "status": "completed"
    },
    "tags": []
   },
   "source": [
    "House Robber 2: https://youtu.be/3WaxQMELSkw?si=i9oGKnDJGJxvUjbu\n",
    "https://leetcode.com/problems/house-robber-ii/submissions/1249888930"
   ]
  },
  {
   "cell_type": "code",
   "execution_count": 16,
   "id": "3ee7a5cf",
   "metadata": {
    "execution": {
     "iopub.execute_input": "2024-05-24T15:47:29.312341Z",
     "iopub.status.busy": "2024-05-24T15:47:29.311674Z",
     "iopub.status.idle": "2024-05-24T15:47:29.316369Z",
     "shell.execute_reply": "2024-05-24T15:47:29.315922Z"
    },
    "lines_to_next_cell": 1,
    "papermill": {
     "duration": 0.026504,
     "end_time": "2024-05-24T15:47:29.317510",
     "exception": false,
     "start_time": "2024-05-24T15:47:29.291006",
     "status": "completed"
    },
    "tags": []
   },
   "outputs": [],
   "source": [
    "def rob2(nums: list[int]) -> int:\n",
    "    \"\"\"\n",
    "    Ans cannot contain both the first and the last house.\n",
    "    It can contain either the first or the last house.\n",
    "    \"\"\"\n",
    "    def rob(arr: list[int]) -> int:\n",
    "        next1 = next2 = 0\n",
    "        for curr in range(len(arr) - 1, -1, -1):\n",
    "            next1, next2 = max(arr[curr] + next2, next1), next1\n",
    "\n",
    "        return next1\n",
    "\n",
    "    return max(rob(nums[1:]), rob(nums[:-1])) if len(nums) > 1 else sum(nums)\n",
    "\n",
    "# Testing the solution\n",
    "assert rob2([1,2,3,1]) == 4\n",
    "assert rob2([]) == 0"
   ]
  },
  {
   "cell_type": "markdown",
   "id": "52745498",
   "metadata": {
    "papermill": {
     "duration": 0.020014,
     "end_time": "2024-05-24T15:47:29.357704",
     "exception": false,
     "start_time": "2024-05-24T15:47:29.337690",
     "status": "completed"
    },
    "tags": []
   },
   "source": [
    "Ninja's Training: https://youtu.be/AE39gJYuRog?si=n4BhCotno-9chP5j"
   ]
  },
  {
   "cell_type": "code",
   "execution_count": 17,
   "id": "c814dc79",
   "metadata": {
    "execution": {
     "iopub.execute_input": "2024-05-24T15:47:29.398210Z",
     "iopub.status.busy": "2024-05-24T15:47:29.397680Z",
     "iopub.status.idle": "2024-05-24T15:47:29.403100Z",
     "shell.execute_reply": "2024-05-24T15:47:29.402635Z"
    },
    "lines_to_next_cell": 1,
    "papermill": {
     "duration": 0.027091,
     "end_time": "2024-05-24T15:47:29.404267",
     "exception": false,
     "start_time": "2024-05-24T15:47:29.377176",
     "status": "completed"
    },
    "tags": []
   },
   "outputs": [],
   "source": [
    "def ninjaTrainingBetter(N: int, points: list[list[int]]) -> int:\n",
    "    \"\"\"\n",
    "    Memoization: Top down approach\n",
    "\n",
    "    Time: O(N), Space: O(N) + O(N)\n",
    "    \"\"\"\n",
    "\n",
    "    @functools.cache\n",
    "    def backtrack(i: int, j: int) -> int:\n",
    "        if i == N:\n",
    "            return 0\n",
    "        else:\n",
    "            max_ = -math.inf\n",
    "            for k in range(3):\n",
    "                if k != j:\n",
    "                    max_ = max(max_, points[i][k] + backtrack(i + 1, k))\n",
    "\n",
    "            return int(max_)\n",
    "\n",
    "    return backtrack(0, -1)\n",
    "\n",
    "# Testing the solution\n",
    "assert ninjaTrainingBetter(3, [[10,40,70], [20,50,80], [30,60,90]]) == 210\n",
    "assert ninjaTrainingBetter(3, [[1,2,5], [3,1,1], [3,3,3]]) == 11\n",
    "assert ninjaTrainingBetter(2, [[10,50,1], [5,100,11]]) == 110"
   ]
  },
  {
   "cell_type": "code",
   "execution_count": 18,
   "id": "015e9458",
   "metadata": {
    "execution": {
     "iopub.execute_input": "2024-05-24T15:47:29.444904Z",
     "iopub.status.busy": "2024-05-24T15:47:29.444448Z",
     "iopub.status.idle": "2024-05-24T15:47:29.450360Z",
     "shell.execute_reply": "2024-05-24T15:47:29.449897Z"
    },
    "lines_to_next_cell": 1,
    "papermill": {
     "duration": 0.027321,
     "end_time": "2024-05-24T15:47:29.451414",
     "exception": false,
     "start_time": "2024-05-24T15:47:29.424093",
     "status": "completed"
    },
    "tags": []
   },
   "outputs": [],
   "source": [
    "def ninjaTraining(N: int, points: list[list[int]]) -> int:\n",
    "    \"\"\"\n",
    "    Space optimized Tabulation DP: Bottom up\n",
    "\n",
    "    Start at the last day.\n",
    "    At each day we sum up corresponding values with the values in DP and assign them to DP.\n",
    "    Before moving the prev day, to the DP perform this op -> dp[i] = max(dp[j]) where j != i\n",
    "\n",
    "    At the end of the iteration simply return max of DP.\n",
    "\n",
    "    Time: O(N), Space: O(1)\n",
    "    \"\"\"\n",
    "\n",
    "    dp: list[int] = [0, 0, 0]\n",
    "    for i in range(N - 1, -1, -1):\n",
    "        for j in range(3):\n",
    "            dp[j] += points[i][j]\n",
    "\n",
    "        next_dp: list[int] = []\n",
    "        for j in range(3):\n",
    "            next_dp.append(max(dp[k] for k in range(3) if k != j))\n",
    "\n",
    "        dp = next_dp\n",
    "\n",
    "    return max(dp)\n",
    "\n",
    "# Testing the solution\n",
    "assert ninjaTraining(3, [[10,40,70], [20,50,80], [30,60,90]]) == 210\n",
    "assert ninjaTraining(3, [[1,2,5], [3,1,1], [3,3,3]]) == 11\n",
    "assert ninjaTraining(2, [[10,50,1], [5,100,11]]) == 110"
   ]
  },
  {
   "cell_type": "markdown",
   "id": "d132fa58",
   "metadata": {
    "papermill": {
     "duration": 0.019535,
     "end_time": "2024-05-24T15:47:29.490862",
     "exception": false,
     "start_time": "2024-05-24T15:47:29.471327",
     "status": "completed"
    },
    "tags": []
   },
   "source": [
    "Unique 2D paths: https://youtu.be/sdE0A2Oxofw?si=g1FpuSIYx0x95G-7\n",
    "https://leetcode.com/problems/unique-paths/"
   ]
  },
  {
   "cell_type": "code",
   "execution_count": 19,
   "id": "d035c9d7",
   "metadata": {
    "execution": {
     "iopub.execute_input": "2024-05-24T15:47:29.531019Z",
     "iopub.status.busy": "2024-05-24T15:47:29.530622Z",
     "iopub.status.idle": "2024-05-24T15:47:29.535101Z",
     "shell.execute_reply": "2024-05-24T15:47:29.534621Z"
    },
    "lines_to_next_cell": 1,
    "papermill": {
     "duration": 0.026108,
     "end_time": "2024-05-24T15:47:29.536200",
     "exception": false,
     "start_time": "2024-05-24T15:47:29.510092",
     "status": "completed"
    },
    "tags": []
   },
   "outputs": [],
   "source": [
    "def uniquePathsMemo(m: int, n: int) -> int:\n",
    "    \"\"\"\n",
    "    Memoization Solution: Top Down\n",
    "    Time: O(m x n), Space: O(m x n) + O(m x n)\n",
    "    \"\"\"\n",
    "    @functools.cache\n",
    "    def backtrack(i: int, j: int) -> int:\n",
    "        if i == m - 1 and j == n - 1:\n",
    "            return 1\n",
    "        elif i >= m or j >= n:\n",
    "            return 0\n",
    "        else:\n",
    "            return backtrack(i + 1, j) + backtrack(i, j + 1)\n",
    "\n",
    "    return backtrack(0, 0)\n",
    "\n",
    "# Testing the solution\n",
    "assert uniquePathsMemo(3, 7) == 28\n",
    "assert uniquePathsMemo(3, 2) == 3"
   ]
  },
  {
   "cell_type": "code",
   "execution_count": 20,
   "id": "c3fb756d",
   "metadata": {
    "execution": {
     "iopub.execute_input": "2024-05-24T15:47:29.576753Z",
     "iopub.status.busy": "2024-05-24T15:47:29.576345Z",
     "iopub.status.idle": "2024-05-24T15:47:29.580818Z",
     "shell.execute_reply": "2024-05-24T15:47:29.580284Z"
    },
    "lines_to_next_cell": 1,
    "papermill": {
     "duration": 0.025797,
     "end_time": "2024-05-24T15:47:29.581944",
     "exception": false,
     "start_time": "2024-05-24T15:47:29.556147",
     "status": "completed"
    },
    "tags": []
   },
   "outputs": [],
   "source": [
    "# https://leetcode.com/problems/unique-paths/submissions/1250526713\n",
    "def uniquePathsTab(m: int, n: int) -> int:\n",
    "    \"Time: O(m x n), Space: O(min(m, n))\"\n",
    "    M, N = min(m, n), max(m, n)\n",
    "    dp: list[int] = [1 for i in range(M)]\n",
    "\n",
    "    for i in range(N - 1):\n",
    "        for j in range(M - 2, -1, -1):\n",
    "            dp[j] += dp[j + 1]\n",
    "\n",
    "    return dp[0]\n",
    "\n",
    "# Testing the solution\n",
    "assert uniquePathsTab(3, 7) == 28\n",
    "assert uniquePathsTab(3, 2) == 3"
   ]
  },
  {
   "cell_type": "markdown",
   "id": "bb22f54a",
   "metadata": {
    "papermill": {
     "duration": 0.019749,
     "end_time": "2024-05-24T15:47:29.621893",
     "exception": false,
     "start_time": "2024-05-24T15:47:29.602144",
     "status": "completed"
    },
    "tags": []
   },
   "source": [
    "Video link: https://youtu.be/TmhpgXScLyY?si=M_FfFKRqRTXid4Jj\n",
    "Unique Paths - ii: https://leetcode.com/problems/unique-paths-ii/submissions/1250615914"
   ]
  },
  {
   "cell_type": "code",
   "execution_count": 21,
   "id": "f59a530c",
   "metadata": {
    "execution": {
     "iopub.execute_input": "2024-05-24T15:47:29.662977Z",
     "iopub.status.busy": "2024-05-24T15:47:29.662437Z",
     "iopub.status.idle": "2024-05-24T15:47:29.667705Z",
     "shell.execute_reply": "2024-05-24T15:47:29.667171Z"
    },
    "lines_to_next_cell": 1,
    "papermill": {
     "duration": 0.027339,
     "end_time": "2024-05-24T15:47:29.668926",
     "exception": false,
     "start_time": "2024-05-24T15:47:29.641587",
     "status": "completed"
    },
    "tags": []
   },
   "outputs": [],
   "source": [
    "def uniquePathsWithObstacles(obstacleGrid: list[list[int]]) -> int:\n",
    "    \"Time: O(M x N), Space: O(N)\"\n",
    "    M, N = len(obstacleGrid), len(obstacleGrid[0])\n",
    "\n",
    "    dp: list[int] = [0 for j in range(N)]\n",
    "    dp[-1] = 1\n",
    "\n",
    "    for i in range(M - 1, -1, -1):\n",
    "        for j in range(N - 1, -1, -1):\n",
    "            if obstacleGrid[i][j] == 0:\n",
    "                dp[j] = dp[j] + dp[j + 1] if j < N - 1 else dp[j]\n",
    "            else:\n",
    "                dp[j] = 0\n",
    "\n",
    "    return dp[0]\n",
    "\n",
    "# Testing the solution\n",
    "assert uniquePathsWithObstacles([[0,0,0],[0,1,0],[0,0,0]]) == 2\n",
    "assert uniquePathsWithObstacles([[0,1],[0,0]]) == 1\n",
    "assert uniquePathsWithObstacles([[1]]) == 0"
   ]
  },
  {
   "cell_type": "markdown",
   "id": "93e28e9b",
   "metadata": {
    "papermill": {
     "duration": 0.019289,
     "end_time": "2024-05-24T15:47:29.708434",
     "exception": false,
     "start_time": "2024-05-24T15:47:29.689145",
     "status": "completed"
    },
    "tags": []
   },
   "source": [
    "Minimum Path Sum: https://youtu.be/_rgTlyky1uQ?si=3xJY7MmVg5tTEW5Q\n",
    "https://leetcode.com/problems/minimum-path-sum/submissions/1250633614"
   ]
  },
  {
   "cell_type": "code",
   "execution_count": 22,
   "id": "c97f7ce9",
   "metadata": {
    "execution": {
     "iopub.execute_input": "2024-05-24T15:47:29.749092Z",
     "iopub.status.busy": "2024-05-24T15:47:29.748754Z",
     "iopub.status.idle": "2024-05-24T15:47:29.753924Z",
     "shell.execute_reply": "2024-05-24T15:47:29.753382Z"
    },
    "lines_to_next_cell": 1,
    "papermill": {
     "duration": 0.027066,
     "end_time": "2024-05-24T15:47:29.755221",
     "exception": false,
     "start_time": "2024-05-24T15:47:29.728155",
     "status": "completed"
    },
    "tags": []
   },
   "outputs": [],
   "source": [
    "def minPathSum(grid: list[list[int]]) -> int:\n",
    "    \"Time: O(M x N), Space: O(N)\"\n",
    "    M, N = len(grid), len(grid[0])\n",
    "\n",
    "    # Initialize DP\n",
    "    dp: list[float] = [math.inf for j in range(N)]\n",
    "    dp[-1] = 0\n",
    "\n",
    "    # DP Solution\n",
    "    for i in range(M - 1, -1, -1):\n",
    "        for j in range(N - 1, -1, -1):\n",
    "            dp[j] = grid[i][j] + (min(dp[j + 1], dp[j]) if j < N - 1 else dp[j])\n",
    "\n",
    "    return int(dp[0])\n",
    "\n",
    "# Testing the solution\n",
    "assert minPathSum([[1,3,1],[1,5,1],[4,2,1]]) == 7\n",
    "assert minPathSum([[1,2,3],[4,5,6]]) == 12"
   ]
  },
  {
   "cell_type": "markdown",
   "id": "107526ff",
   "metadata": {
    "papermill": {
     "duration": 0.019292,
     "end_time": "2024-05-24T15:47:29.794289",
     "exception": false,
     "start_time": "2024-05-24T15:47:29.774997",
     "status": "completed"
    },
    "tags": []
   },
   "source": [
    "Video Link: https://youtu.be/0bHoB32fuj0?si=5UHeArKmLvTVpbrk\n",
    "Triangle: https://leetcode.com/problems/triangle/submissions/1251774955/"
   ]
  },
  {
   "cell_type": "code",
   "execution_count": 23,
   "id": "62387041",
   "metadata": {
    "execution": {
     "iopub.execute_input": "2024-05-24T15:47:29.834610Z",
     "iopub.status.busy": "2024-05-24T15:47:29.834324Z",
     "iopub.status.idle": "2024-05-24T15:47:29.839122Z",
     "shell.execute_reply": "2024-05-24T15:47:29.838591Z"
    },
    "lines_to_next_cell": 1,
    "papermill": {
     "duration": 0.026504,
     "end_time": "2024-05-24T15:47:29.840272",
     "exception": false,
     "start_time": "2024-05-24T15:47:29.813768",
     "status": "completed"
    },
    "tags": []
   },
   "outputs": [],
   "source": [
    "def minimumTotal(triangle: list[list[int]]) -> int:\n",
    "    \"\"\"Time: O(N x N), Space: O(N)\"\"\"\n",
    "    N = len(triangle)\n",
    "    dp: list[int] = [0 for i in range(N + 1)]\n",
    "\n",
    "    while N > 0:\n",
    "        next_: list[int] = []\n",
    "        for i in range(N):\n",
    "            next_.append(min(dp[i], dp[i + 1]) + triangle[N - 1][i])\n",
    "        dp = next_\n",
    "        N -= 1\n",
    "\n",
    "    return dp[0]\n",
    "\n",
    "# Testing the solution\n",
    "assert minimumTotal([[2],[3,4],[6,5,7],[4,1,8,3]]) == 11\n",
    "assert minimumTotal([[-10]]) == -10"
   ]
  },
  {
   "cell_type": "markdown",
   "id": "51332104",
   "metadata": {
    "papermill": {
     "duration": 0.019406,
     "end_time": "2024-05-24T15:47:29.879486",
     "exception": false,
     "start_time": "2024-05-24T15:47:29.860080",
     "status": "completed"
    },
    "tags": []
   },
   "source": [
    "Video Link: https://youtu.be/N_aJ5qQbYA0?si=LTME1YI3hqtU8u8_\n",
    "Maximum Falling path sum\n",
    "We cannot apply greedy algorithms here because there is no uniformity mentioned. Uniformity implies how the numbers are distributed.\n",
    "For eg:\n",
    "```\n",
    "1   2  3    4\n",
    "10  1  100  1\n",
    "1   2  5    0\n",
    "```\n",
    "In the above example from (0, 0), if we greedily chose (1, 0) - we would miss out on 100 at (1, 2). \n",
    "If suppose we were told that the numbers were arranged in ascending or descending order we can greedily pick a path"
   ]
  },
  {
   "cell_type": "code",
   "execution_count": 24,
   "id": "4f9fb3eb",
   "metadata": {
    "execution": {
     "iopub.execute_input": "2024-05-24T15:47:29.919439Z",
     "iopub.status.busy": "2024-05-24T15:47:29.919002Z",
     "iopub.status.idle": "2024-05-24T15:47:29.924907Z",
     "shell.execute_reply": "2024-05-24T15:47:29.924481Z"
    },
    "lines_to_next_cell": 1,
    "papermill": {
     "duration": 0.027017,
     "end_time": "2024-05-24T15:47:29.926002",
     "exception": false,
     "start_time": "2024-05-24T15:47:29.898985",
     "status": "completed"
    },
    "tags": []
   },
   "outputs": [],
   "source": [
    "def getMaxPathSumBetter(matrix: list[list[int]]):\n",
    "    \"\"\"\n",
    "    With memoization:\n",
    "    Time complexity: O(3 ^ N)\n",
    "\n",
    "    Memoization Approach: Top Down\n",
    "    Time: O(N x M), Space: O(N x M) + O(N x M)\n",
    "    \"\"\"\n",
    "    M, N = len(matrix), len(matrix[0])\n",
    "\n",
    "    @functools.cache\n",
    "    def backtrack(i: int = 0, j: int = 0) -> float:\n",
    "        if i >= M:\n",
    "            return 0\n",
    "        elif j < 0 or j >= N:\n",
    "            return -math.inf\n",
    "        else:\n",
    "            return matrix[i][j] + max(backtrack(i + 1, j - 1), backtrack(i + 1, j), backtrack(i + 1, j + 1))\n",
    "\n",
    "    maxPathSum = -math.inf\n",
    "    for j in range(N):\n",
    "        maxPathSum = max(maxPathSum, backtrack(0, j))\n",
    "\n",
    "    return int(maxPathSum)\n",
    "\n",
    "# Testing the solution\n",
    "assert getMaxPathSumBetter([[1,2,10,4],[100,3,2,1],[1,1,20,2],[1,2,2,1]]) == 105\n",
    "assert getMaxPathSumBetter([[10,2,3],[3,7,2],[8,1,5]]) == 25"
   ]
  },
  {
   "cell_type": "code",
   "execution_count": 25,
   "id": "b3cf95be",
   "metadata": {
    "execution": {
     "iopub.execute_input": "2024-05-24T15:47:29.966811Z",
     "iopub.status.busy": "2024-05-24T15:47:29.966238Z",
     "iopub.status.idle": "2024-05-24T15:47:29.971750Z",
     "shell.execute_reply": "2024-05-24T15:47:29.971296Z"
    },
    "lines_to_next_cell": 1,
    "papermill": {
     "duration": 0.026871,
     "end_time": "2024-05-24T15:47:29.972869",
     "exception": false,
     "start_time": "2024-05-24T15:47:29.945998",
     "status": "completed"
    },
    "tags": []
   },
   "outputs": [],
   "source": [
    "def getMaxPathSum(matrix: list[list[int]]):\n",
    "    \"\"\"\n",
    "    Space optimized DP: Bottom up\n",
    "    Time: O(M x N), Space: O(N)\n",
    "    \"\"\"\n",
    "    M, N = len(matrix), len(matrix[0])\n",
    "\n",
    "    dp: list[float] = [0 for i in range(N)]\n",
    "    i = M - 1\n",
    "    while i >= 0:\n",
    "        next_: list[float] = []\n",
    "        for j in range(N):\n",
    "            next_.append(matrix[i][j] + max(dp[j - 1] if j - 1 >= 0 else -math.inf, dp[j], dp[j + 1] if j + 1 < N else -math.inf))\n",
    "\n",
    "        dp = next_\n",
    "        i -= 1\n",
    "\n",
    "    return max(dp)\n",
    "\n",
    "# Testing the solution\n",
    "assert getMaxPathSum([[1,2,10,4],[100,3,2,1],[1,1,20,2],[1,2,2,1]]) == 105\n",
    "assert getMaxPathSum([[10,2,3],[3,7,2],[8,1,5]]) == 25"
   ]
  },
  {
   "cell_type": "markdown",
   "id": "703cdb9d",
   "metadata": {
    "papermill": {
     "duration": 0.019161,
     "end_time": "2024-05-24T15:47:30.011949",
     "exception": false,
     "start_time": "2024-05-24T15:47:29.992788",
     "status": "completed"
    },
    "tags": []
   },
   "source": [
    "Cherry Pickup: 2: https://leetcode.com/problems/cherry-pickup-ii/\n",
    "Video Link: https://youtu.be/QGfn7JeXK54?si=2K0Lz9iKN_IxLUDN"
   ]
  },
  {
   "cell_type": "code",
   "execution_count": 26,
   "id": "d82f0e5d",
   "metadata": {
    "execution": {
     "iopub.execute_input": "2024-05-24T15:47:30.052040Z",
     "iopub.status.busy": "2024-05-24T15:47:30.051532Z",
     "iopub.status.idle": "2024-05-24T15:47:30.059030Z",
     "shell.execute_reply": "2024-05-24T15:47:30.058458Z"
    },
    "lines_to_next_cell": 1,
    "papermill": {
     "duration": 0.028846,
     "end_time": "2024-05-24T15:47:30.060253",
     "exception": false,
     "start_time": "2024-05-24T15:47:30.031407",
     "status": "completed"
    },
    "tags": []
   },
   "outputs": [],
   "source": [
    "def cherryPickupMemo(grid: list[list[int]]) -> int:\n",
    "    \"\"\"\n",
    "    Without memoization, time complexity: O(3 ^ M * 3 ^ M)\n",
    "\n",
    "    Space complexity is definitely improved with using @functools.cache, using list here to illustrate.\n",
    "    Time: O (M x N x N), Space: O (M x N x N)\n",
    "\n",
    "    To figure out the dp size, simply check how many parameters are chaning. Here we have an i, j1, j2 and hence dp is a 3D Matrix.\n",
    "    \"\"\"\n",
    "    M, N = len(grid), len(grid[0])\n",
    "    dp: list[list[list[float]]] = [[[-1 for k in range(N)] for j in range(N)] for i in range(M)]\n",
    "\n",
    "    def backtrack(i: int, j1: int, j2: int) -> float:\n",
    "        if j1 < 0 or j2 < 0 or j1 >= N or j2 >= N or j1 == j2:\n",
    "            return -math.inf\n",
    "        elif i > M - 1:\n",
    "            return 0\n",
    "        elif dp[i][j1][j2] != -1:\n",
    "            return dp[i][j1][j2]\n",
    "        else:\n",
    "            next_picked = -math.inf\n",
    "            for j1_offset in range(-1, 2):\n",
    "                for j2_offset in range(-1, 2):\n",
    "                    next_picked = max(next_picked, backtrack(i + 1, j1 + j1_offset, j2 + j2_offset))\n",
    "\n",
    "            dp[i][j1][j2] = grid[i][j1] + grid[i][j2] + next_picked\n",
    "            return dp[i][j1][j2]\n",
    "\n",
    "    result = int(backtrack(0, 0, N - 1))\n",
    "    return result\n",
    "\n",
    "# Testing the solution\n",
    "assert cherryPickupMemo([[1,0,0,0,0,0,1],[2,0,0,0,0,3,0],[2,0,9,0,0,0,0],[0,3,0,5,4,0,0],[1,0,2,3,0,0,6]]) == 28"
   ]
  },
  {
   "cell_type": "code",
   "execution_count": 27,
   "id": "85c88b05",
   "metadata": {
    "execution": {
     "iopub.execute_input": "2024-05-24T15:47:30.101302Z",
     "iopub.status.busy": "2024-05-24T15:47:30.100785Z",
     "iopub.status.idle": "2024-05-24T15:47:30.108650Z",
     "shell.execute_reply": "2024-05-24T15:47:30.108195Z"
    },
    "lines_to_next_cell": 1,
    "papermill": {
     "duration": 0.029519,
     "end_time": "2024-05-24T15:47:30.109755",
     "exception": false,
     "start_time": "2024-05-24T15:47:30.080236",
     "status": "completed"
    },
    "tags": []
   },
   "outputs": [],
   "source": [
    "def cherryPickupTab(grid: list[list[int]]) -> int:\n",
    "    \"\"\"\n",
    "    Simply start with the base case. Move bottom up.\n",
    "    \"\"\"\n",
    "    M, N = len(grid), len(grid[0])\n",
    "\n",
    "    # Initialize DP with the base case\n",
    "    dp: list[list[list[float]]] = [[[0 for k in range(N)] for j in range(N)] for i in range(M)]\n",
    "    for j1 in range(N):\n",
    "        for j2 in range(N):\n",
    "            dp[-1][j1][j2] = grid[-1][j1] + grid[-1][j2] if j1 != j2 else grid[-1][j1]\n",
    "\n",
    "    # i, j1, j2: (0 - M), (0 - N), (0 - N)\n",
    "    for i in range(M - 2, -1, -1):\n",
    "        for j1 in range(N):\n",
    "            for j2 in range(N):\n",
    "                max_: float = -math.inf\n",
    "                curr = grid[i][j1] + grid[i][j2] if j1 != j2 else grid[i][j1]\n",
    "                for j1_offset in range(-1, 2):\n",
    "                    for j2_offset in range(-1, 2):\n",
    "                        if 0 <= j1 + j1_offset < N and 0 <= j2 + j2_offset < N:\n",
    "                            max_ = max(max_, dp[i + 1][j1 + j1_offset][j2 + j2_offset])\n",
    "\n",
    "                dp[i][j1][j2] = max(-1, max_ + curr)\n",
    "\n",
    "    return int(dp[0][0][-1])\n",
    "\n",
    "# Testing the solution\n",
    "assert cherryPickupTab([[1,0,0,0,0,0,1],[2,0,0,0,0,3,0],[2,0,9,0,0,0,0],[0,3,0,5,4,0,0],[1,0,2,3,0,0,6]]) == 28"
   ]
  },
  {
   "cell_type": "code",
   "execution_count": 28,
   "id": "e2fdb650",
   "metadata": {
    "execution": {
     "iopub.execute_input": "2024-05-24T15:47:30.150442Z",
     "iopub.status.busy": "2024-05-24T15:47:30.150072Z",
     "iopub.status.idle": "2024-05-24T15:47:30.157300Z",
     "shell.execute_reply": "2024-05-24T15:47:30.156804Z"
    },
    "lines_to_next_cell": 1,
    "papermill": {
     "duration": 0.028482,
     "end_time": "2024-05-24T15:47:30.158317",
     "exception": false,
     "start_time": "2024-05-24T15:47:30.129835",
     "status": "completed"
    },
    "tags": []
   },
   "outputs": [],
   "source": [
    "def cherryPickupSpaceOptimized(grid: list[list[int]]) -> int:\n",
    "    M, N = len(grid), len(grid[0])\n",
    "    dp: list[list[float]] = [[grid[-1][j1] + grid[-1][j2] if j1 != j2 else grid[-1][j1] for j1 in range(N)] for j2 in range(N)]\n",
    "\n",
    "    for i in range(M - 2, -1, -1):\n",
    "        dp_next: list[list[float]] = []\n",
    "        for j1 in range(N):\n",
    "            dp_next.append([])\n",
    "            for j2 in range(N):\n",
    "                max_: float = -math.inf\n",
    "                curr = grid[i][j1] + grid[i][j2] if j1 != j2 else grid[i][j1]\n",
    "                for j1_offset in range(-1, 2):\n",
    "                    for j2_offset in range(-1, 2):\n",
    "                        if 0 <= j1 + j1_offset < N and 0 <= j2 + j2_offset < N:\n",
    "                            max_ = max(max_, dp[j1 + j1_offset][j2 + j2_offset])\n",
    "\n",
    "                dp_next[j1].append(curr + max_)\n",
    "        dp = dp_next\n",
    "\n",
    "    return int(dp[0][-1])\n",
    "\n",
    "# Testing the solution\n",
    "assert cherryPickupSpaceOptimized([[1,0,0,0,0,0,1],[2,0,0,0,0,3,0],[2,0,9,0,0,0,0],[0,3,0,5,4,0,0],[1,0,2,3,0,0,6]]) == 28"
   ]
  },
  {
   "cell_type": "markdown",
   "id": "17816765",
   "metadata": {
    "papermill": {
     "duration": 0.019083,
     "end_time": "2024-05-24T15:47:30.197373",
     "exception": false,
     "start_time": "2024-05-24T15:47:30.178290",
     "status": "completed"
    },
    "tags": []
   },
   "source": [
    "Subset sum equals target\n",
    "Video Link: https://youtu.be/fWX9xDmIzRI?si=jb2Tgvw_E0Tyk1Pj"
   ]
  },
  {
   "cell_type": "code",
   "execution_count": 29,
   "id": "4f37d7b7",
   "metadata": {
    "execution": {
     "iopub.execute_input": "2024-05-24T15:47:30.237383Z",
     "iopub.status.busy": "2024-05-24T15:47:30.236852Z",
     "iopub.status.idle": "2024-05-24T15:47:30.242320Z",
     "shell.execute_reply": "2024-05-24T15:47:30.241884Z"
    },
    "lines_to_next_cell": 1,
    "papermill": {
     "duration": 0.026785,
     "end_time": "2024-05-24T15:47:30.243427",
     "exception": false,
     "start_time": "2024-05-24T15:47:30.216642",
     "status": "completed"
    },
    "tags": []
   },
   "outputs": [],
   "source": [
    "def isSubsetSumMemo(N: int, arr: list[int], target: int) -> int:\n",
    "    \"\"\"\n",
    "    For cases where subset exists, the recursion would stop early. For the negative cases, we would get overlapping subproblems and\n",
    "    hence memoization would help decrease the time complexity.\n",
    "\n",
    "    Time without memoization: O(2 ^ N), Space: O(N)\n",
    "    With memoization: O(N x target), Space: O(N x target) + O(N)\n",
    "    \"\"\"\n",
    "\n",
    "    dp: list[list[int]] = [[-1 for j in range(target + 1)] for i in range(N)]\n",
    "    def backtrack(i: int, total: int) -> bool:\n",
    "        if total == 0:\n",
    "            return True\n",
    "        elif total < 0 or i > N - 1:\n",
    "            return False\n",
    "        elif dp[i][total] != -1:\n",
    "            return bool(dp[i][total])\n",
    "        else:\n",
    "            result = backtrack(i + 1, total - arr[i]) or backtrack(i + 1, total)\n",
    "            dp[i][total] = int(result)\n",
    "            return result\n",
    "\n",
    "    return backtrack(0, target)\n",
    "\n",
    "# Testing the solution\n",
    "assert isSubsetSumMemo(6, [3, 34, 4, 12, 5, 2], 9) == True\n",
    "assert isSubsetSumMemo(6, [3, 34, 4, 12, 5, 2], 30) == False"
   ]
  },
  {
   "cell_type": "code",
   "execution_count": 30,
   "id": "5551c36b",
   "metadata": {
    "execution": {
     "iopub.execute_input": "2024-05-24T15:47:30.285291Z",
     "iopub.status.busy": "2024-05-24T15:47:30.284840Z",
     "iopub.status.idle": "2024-05-24T15:47:30.291057Z",
     "shell.execute_reply": "2024-05-24T15:47:30.290526Z"
    },
    "lines_to_next_cell": 1,
    "papermill": {
     "duration": 0.028497,
     "end_time": "2024-05-24T15:47:30.292237",
     "exception": false,
     "start_time": "2024-05-24T15:47:30.263740",
     "status": "completed"
    },
    "tags": []
   },
   "outputs": [
    {
     "name": "stdout",
     "output_type": "stream",
     "text": [
      "[[1, 0, 1, 1, 1, 1, 1, 1, 1, 1], [1, 0, 1, 0, 1, 1, 1, 1, 0, 1], [1, 0, 1, 0, 1, 1, 1, 1, 0, 1], [1, 0, 1, 0, 0, 1, 0, 1, 0, 0], [1, 0, 1, 0, 0, 1, 0, 1, 0, 0], [1, 0, 1, 0, 0, 0, 0, 0, 0, 0], [1, 0, 0, 0, 0, 0, 0, 0, 0, 0]]\n",
      "[[1, 0, 1, 1, 1, 1, 1, 1, 1, 1, 1, 1, 1, 0, 1, 1, 1, 1, 1, 1, 1, 1, 1, 1, 1, 0, 1, 0, 0, 0, 0], [1, 0, 1, 0, 1, 1, 1, 1, 0, 1, 0, 1, 1, 0, 1, 0, 1, 1, 1, 1, 0, 1, 0, 1, 0, 0, 0, 0, 0, 0, 0], [1, 0, 1, 0, 1, 1, 1, 1, 0, 1, 0, 1, 1, 0, 1, 0, 1, 1, 1, 1, 0, 1, 0, 1, 0, 0, 0, 0, 0, 0, 0], [1, 0, 1, 0, 0, 1, 0, 1, 0, 0, 0, 0, 1, 0, 1, 0, 0, 1, 0, 1, 0, 0, 0, 0, 0, 0, 0, 0, 0, 0, 0], [1, 0, 1, 0, 0, 1, 0, 1, 0, 0, 0, 0, 0, 0, 0, 0, 0, 0, 0, 0, 0, 0, 0, 0, 0, 0, 0, 0, 0, 0, 0], [1, 0, 1, 0, 0, 0, 0, 0, 0, 0, 0, 0, 0, 0, 0, 0, 0, 0, 0, 0, 0, 0, 0, 0, 0, 0, 0, 0, 0, 0, 0], [1, 0, 0, 0, 0, 0, 0, 0, 0, 0, 0, 0, 0, 0, 0, 0, 0, 0, 0, 0, 0, 0, 0, 0, 0, 0, 0, 0, 0, 0, 0]]\n"
     ]
    }
   ],
   "source": [
    "def isSubsetSumTab(N: int, arr: list[int], target: int) -> bool:\n",
    "    \"\"\"\n",
    "    Each cell in the dp represents -> If total - arr[i] is true down the line.\n",
    "    Note that dp[i][0] is always true, since if the target is to be 0 regardless of arr[i] tehn subsetSumTarget is possible.\n",
    "    \"\"\"\n",
    "    dp: list[list[int]] = [[1 if j == 0 else -1 if i < N else 0 for j in range(target + 1)] for i in range(N + 1)]\n",
    "\n",
    "    for i in range(N - 1, -1, -1):\n",
    "        for total in range(1, target + 1):\n",
    "            if dp[i + 1][total] == 1 or (total - arr[i] >= 0 and dp[i + 1][total - arr[i]] == 1):\n",
    "                dp[i][total] = 1\n",
    "            else:\n",
    "                dp[i][total] = 0\n",
    "\n",
    "    print(dp)\n",
    "    return bool(dp[0][target])\n",
    "\n",
    "# Testing the solution\n",
    "assert isSubsetSumTab(6, [3, 34, 4, 12, 5, 2], 9) == True\n",
    "assert isSubsetSumTab(6, [3, 34, 4, 12, 5, 2], 30) == False"
   ]
  },
  {
   "cell_type": "code",
   "execution_count": 31,
   "id": "ca80b369",
   "metadata": {
    "execution": {
     "iopub.execute_input": "2024-05-24T15:47:30.333410Z",
     "iopub.status.busy": "2024-05-24T15:47:30.333011Z",
     "iopub.status.idle": "2024-05-24T15:47:30.338144Z",
     "shell.execute_reply": "2024-05-24T15:47:30.337601Z"
    },
    "lines_to_next_cell": 1,
    "papermill": {
     "duration": 0.026701,
     "end_time": "2024-05-24T15:47:30.339220",
     "exception": false,
     "start_time": "2024-05-24T15:47:30.312519",
     "status": "completed"
    },
    "tags": []
   },
   "outputs": [],
   "source": [
    "def isSubsetSumSpaceOptimized(N: int, arr: list[int], target: int) -> bool:\n",
    "    \"Time: O(N x target), Space: O(target)\"\n",
    "    dp: list[int] = [0 if j > 0 else 1 for j in range(target + 1)]\n",
    "\n",
    "    for i in range(N - 1, -1, -1):\n",
    "        next_: list[int] = []\n",
    "        for total in range(target + 1):\n",
    "            if total == 0 or dp[total] == 1 or (total - arr[i] >= 0 and dp[total - arr[i]] == 1):\n",
    "                next_.append(1)\n",
    "            else:\n",
    "                next_.append(0)\n",
    "\n",
    "        dp = next_\n",
    "\n",
    "    return bool(dp[target])\n",
    "\n",
    "# Testing the solution\n",
    "assert isSubsetSumSpaceOptimized(6, [3, 34, 4, 12, 5, 2], 9) == True\n",
    "assert isSubsetSumSpaceOptimized(6, [3, 34, 4, 12, 5, 2], 30) == False"
   ]
  },
  {
   "cell_type": "markdown",
   "id": "7a10f4ca",
   "metadata": {
    "papermill": {
     "duration": 0.019415,
     "end_time": "2024-05-24T15:47:30.378643",
     "exception": false,
     "start_time": "2024-05-24T15:47:30.359228",
     "status": "completed"
    },
    "tags": []
   },
   "source": [
    "Partition equal subset sum: https://leetcode.com/problems/partition-equal-subset-sum/\n",
    "Video Link: https://youtu.be/7win3dcgo3k?si=LJO4Ot4EZzQ2fRc0"
   ]
  },
  {
   "cell_type": "code",
   "execution_count": 32,
   "id": "373088cf",
   "metadata": {
    "execution": {
     "iopub.execute_input": "2024-05-24T15:47:30.419236Z",
     "iopub.status.busy": "2024-05-24T15:47:30.418813Z",
     "iopub.status.idle": "2024-05-24T15:47:30.424481Z",
     "shell.execute_reply": "2024-05-24T15:47:30.423925Z"
    },
    "lines_to_next_cell": 1,
    "papermill": {
     "duration": 0.027342,
     "end_time": "2024-05-24T15:47:30.425614",
     "exception": false,
     "start_time": "2024-05-24T15:47:30.398272",
     "status": "completed"
    },
    "tags": []
   },
   "outputs": [],
   "source": [
    "# https://leetcode.com/problems/partition-equal-subset-sum/submissions/1253314239\n",
    "def canPartition(nums: list[int]) -> bool:\n",
    "    def subsetSumEqualsTarget(target: int) -> bool:\n",
    "        \"Time: O(N x target), Space: O(target)\"\n",
    "        dp: list[bool] = [False if i > 0 else True for i in range(target + 1)]\n",
    "        for i in range(N - 1, -1, -1):\n",
    "            next_: list[bool] = []\n",
    "            for total in range(target + 1):\n",
    "                if total == 0 or dp[total] or (total - nums[i] >= 0 and dp[total - nums[i]]):\n",
    "                    next_.append(True)\n",
    "                else:\n",
    "                    next_.append(False)\n",
    "\n",
    "            dp = next_\n",
    "\n",
    "        return dp[target]\n",
    "\n",
    "    N = len(nums)\n",
    "    total = sum(nums)\n",
    "    return total % 2 == 0 and subsetSumEqualsTarget(total // 2)\n",
    "\n",
    "# Testing the solution\n",
    "assert canPartition([1,5,11,5]) == True\n",
    "assert canPartition([1,2,3,5]) == False\n",
    "assert canPartition([3,3,3,4,5]) == True"
   ]
  },
  {
   "cell_type": "markdown",
   "id": "56f6a268",
   "metadata": {
    "papermill": {
     "duration": 0.01965,
     "end_time": "2024-05-24T15:47:30.465503",
     "exception": false,
     "start_time": "2024-05-24T15:47:30.445853",
     "status": "completed"
    },
    "tags": []
   },
   "source": [
    "Partition Array Into Two Arrays to Minimize Sum Difference\n",
    "Video link: https://youtu.be/GS_OqZb2CWc?si=Jtc2dP_dqmNi5Zli"
   ]
  },
  {
   "cell_type": "code",
   "execution_count": 33,
   "id": "00588c88",
   "metadata": {
    "execution": {
     "iopub.execute_input": "2024-05-24T15:47:30.506038Z",
     "iopub.status.busy": "2024-05-24T15:47:30.505634Z",
     "iopub.status.idle": "2024-05-24T15:47:30.511157Z",
     "shell.execute_reply": "2024-05-24T15:47:30.510684Z"
    },
    "lines_to_next_cell": 1,
    "papermill": {
     "duration": 0.026997,
     "end_time": "2024-05-24T15:47:30.512222",
     "exception": false,
     "start_time": "2024-05-24T15:47:30.485225",
     "status": "completed"
    },
    "tags": []
   },
   "outputs": [],
   "source": [
    "def minimumDifferenceBrute(nums: list[int]) -> int:\n",
    "    \"\"\"\n",
    "    Throws a TLE :(\n",
    "    \"\"\"\n",
    "    N, total_sum = len(nums), sum(nums)\n",
    "    subset_length = N // 2\n",
    "\n",
    "    @functools.cache\n",
    "    def backtrack(i: int, subset_sum: int, count: int) -> float:\n",
    "        if count == subset_length:\n",
    "            return abs(2 * subset_sum - total_sum)\n",
    "        elif i == N:\n",
    "            return math.inf\n",
    "        else:\n",
    "            return min(backtrack(i + 1, subset_sum + nums[i], count + 1), backtrack(i + 1, subset_sum, count))\n",
    "\n",
    "    result = int(backtrack(0, 0, 0))\n",
    "    return result\n",
    "\n",
    "# Testing the solution\n",
    "assert minimumDifferenceBrute([3,9,7,3]) == 2\n",
    "assert minimumDifferenceBrute([-36,36]) == 72\n",
    "assert minimumDifferenceBrute([2,-1,0,4,-2,-9]) == 0"
   ]
  },
  {
   "cell_type": "code",
   "execution_count": 34,
   "id": "97c34ef1",
   "metadata": {
    "execution": {
     "iopub.execute_input": "2024-05-24T15:47:30.553542Z",
     "iopub.status.busy": "2024-05-24T15:47:30.553221Z",
     "iopub.status.idle": "2024-05-24T15:47:30.560684Z",
     "shell.execute_reply": "2024-05-24T15:47:30.560225Z"
    },
    "lines_to_next_cell": 1,
    "papermill": {
     "duration": 0.029139,
     "end_time": "2024-05-24T15:47:30.561799",
     "exception": false,
     "start_time": "2024-05-24T15:47:30.532660",
     "status": "completed"
    },
    "tags": []
   },
   "outputs": [],
   "source": [
    "def minimumDifference(nums: list[int]) -> int:\n",
    "    \"\"\"\n",
    "    Use the DP tabulation approach we used to check if a subset with target sum exists. Still Memory limit exceeded.\n",
    "    Note that this is different the one on the video. This solution is leetcode specific. In the video by Striver, the values can only be positive. Further more we can split into any size.\n",
    "    In LC however, the subset must be split into 2 halves, values can be both positive and negative.\n",
    "    \"\"\"\n",
    "\n",
    "    N, total_abs_sum, total_sum = len(nums), sum(map(abs, nums)), sum(nums)\n",
    "\n",
    "    # Each value represents the length of subset summing up to target. -1 if cannot be reached.\n",
    "    dp: list[int] = [-1 if j != 0 else 0 for j in range(-total_abs_sum, total_abs_sum + 1)]\n",
    "\n",
    "    for i in range(N - 1, -1, -1):\n",
    "        next_dp: list[int] = []\n",
    "        for target in range(-total_abs_sum, total_abs_sum + 1):\n",
    "            # Pick, subset length incremented by 1\n",
    "            if 0 <= target - nums[i] + total_abs_sum <= 2 * total_abs_sum and dp[target - nums[i] + total_abs_sum] != -1:\n",
    "                subset_length = dp[target - nums[i] + total_abs_sum] + 1\n",
    "                existing_length = dp[target + total_abs_sum]\n",
    "                next_dp.append(subset_length if existing_length != N // 2 else existing_length)\n",
    "            # No pick, hence subset length is unupdated\n",
    "            elif dp[target + total_abs_sum] != -1:\n",
    "                next_dp.append(dp[target + total_abs_sum])\n",
    "            # Base case\n",
    "            elif target == 0:\n",
    "                next_dp.append(0)\n",
    "            # Sum cannot be reached\n",
    "            else:\n",
    "                next_dp.append(-1)\n",
    "\n",
    "        dp = next_dp\n",
    "\n",
    "    # Find out targets where value is N // 2\n",
    "    min_diff: float = math.inf\n",
    "    for subset_sum, subset_length in enumerate(dp, start=-total_abs_sum):\n",
    "        if subset_length == N // 2:\n",
    "            min_diff = min(min_diff, abs(2 * subset_sum - total_sum))\n",
    "\n",
    "    return int(min_diff)\n",
    "\n",
    "# Testing the solution\n",
    "assert minimumDifference([3,9,7,3]) == 2\n",
    "assert minimumDifference([-36,36]) == 72\n",
    "assert minimumDifference([2,-1,0,4,-2,-9]) == 0"
   ]
  },
  {
   "cell_type": "code",
   "execution_count": 35,
   "id": "54752ee1",
   "metadata": {
    "execution": {
     "iopub.execute_input": "2024-05-24T15:47:30.603229Z",
     "iopub.status.busy": "2024-05-24T15:47:30.602805Z",
     "iopub.status.idle": "2024-05-24T15:47:30.608553Z",
     "shell.execute_reply": "2024-05-24T15:47:30.608077Z"
    },
    "lines_to_next_cell": 1,
    "papermill": {
     "duration": 0.027655,
     "end_time": "2024-05-24T15:47:30.609670",
     "exception": false,
     "start_time": "2024-05-24T15:47:30.582015",
     "status": "completed"
    },
    "tags": []
   },
   "outputs": [],
   "source": [
    "def minSubsetSumDifference(arr: list[int], N: int) -> int:\n",
    "    # Compute max total sum\n",
    "    total_sum: int = sum(arr)\n",
    "\n",
    "    # Compute DP grid for all possible subset sums\n",
    "    dp: list[bool] = [False if i > 0 else True for i in range(total_sum + 1)]\n",
    "    for i in range(N - 1, -1, -1):\n",
    "        next_dp: list[bool] = []\n",
    "        for target in range(total_sum + 1):\n",
    "            if target == 0 or dp[target] or (target - arr[i] >= 0 and dp[target - arr[i]]):\n",
    "                next_dp.append(True)\n",
    "            else:\n",
    "                next_dp.append(False)\n",
    "        dp = next_dp\n",
    "\n",
    "    # Compute the minimum subset difference\n",
    "    min_diff: int = total_sum\n",
    "\n",
    "    # total_sum / 2 since it is enough if we computed one half, diff of sum from total sum would cover the other half as well\n",
    "    for target in range(math.ceil(total_sum / 2) + 1):\n",
    "        if dp[target]:\n",
    "            min_diff = min(min_diff, abs(2 * target - total_sum))\n",
    "\n",
    "    return min_diff\n",
    "\n",
    "# Testing the solution\n",
    "assert minSubsetSumDifference([8,6,5], 3) == 3"
   ]
  },
  {
   "cell_type": "markdown",
   "id": "884d535e",
   "metadata": {
    "papermill": {
     "duration": 0.019652,
     "end_time": "2024-05-24T15:47:30.649835",
     "exception": false,
     "start_time": "2024-05-24T15:47:30.630183",
     "status": "completed"
    },
    "tags": []
   },
   "source": [
    "Count subsets with sum k"
   ]
  },
  {
   "cell_type": "code",
   "execution_count": 36,
   "id": "534b55bb",
   "metadata": {
    "execution": {
     "iopub.execute_input": "2024-05-24T15:47:30.690922Z",
     "iopub.status.busy": "2024-05-24T15:47:30.690479Z",
     "iopub.status.idle": "2024-05-24T15:47:30.696531Z",
     "shell.execute_reply": "2024-05-24T15:47:30.695993Z"
    },
    "lines_to_next_cell": 1,
    "papermill": {
     "duration": 0.027835,
     "end_time": "2024-05-24T15:47:30.697686",
     "exception": false,
     "start_time": "2024-05-24T15:47:30.669851",
     "status": "completed"
    },
    "tags": []
   },
   "outputs": [],
   "source": [
    "def perfectSumMemo(nums: list[int], N: int, K: int):\n",
    "    \"\"\"\n",
    "    Time: O(N * K) + O(N); Space: O(N * K)\n",
    "    \"\"\"\n",
    "\n",
    "    # Filter out all the zeros\n",
    "    arr: list[int] = []\n",
    "    N = zero_count = 0\n",
    "    for n in nums:\n",
    "        if n > 0:\n",
    "            arr.append(n)\n",
    "            N += 1\n",
    "        else:\n",
    "            zero_count += 1\n",
    "\n",
    "    # Compute the results and store it to a list\n",
    "    dp: list[list[int]] = [[-1 for j in range(K + 1)] for i in range(N)]\n",
    "\n",
    "    # Recursively find the solution\n",
    "    def backtrack(i: int, total: int) -> int:\n",
    "        if total == K:\n",
    "            return 1\n",
    "        elif i >= N or total > K:\n",
    "            return 0\n",
    "        elif dp[i][total] != -1:\n",
    "            return dp[i][total]\n",
    "        else:\n",
    "            result = backtrack(i + 1, total + arr[i]) + backtrack(i + 1, total)\n",
    "            dp[i][total] = result\n",
    "            return result\n",
    "\n",
    "    return backtrack(0, 0) * (2 ** zero_count)\n",
    "\n",
    "# Testing the solution\n",
    "assert perfectSumMemo([5, 2, 3, 10, 6, 8], 6, 10) == 3\n",
    "assert perfectSumMemo([1, 0], 2, 1) == 2"
   ]
  },
  {
   "cell_type": "code",
   "execution_count": 37,
   "id": "dee4da2c",
   "metadata": {
    "execution": {
     "iopub.execute_input": "2024-05-24T15:47:30.739032Z",
     "iopub.status.busy": "2024-05-24T15:47:30.738645Z",
     "iopub.status.idle": "2024-05-24T15:47:30.744677Z",
     "shell.execute_reply": "2024-05-24T15:47:30.744114Z"
    },
    "lines_to_next_cell": 1,
    "papermill": {
     "duration": 0.02788,
     "end_time": "2024-05-24T15:47:30.745761",
     "exception": false,
     "start_time": "2024-05-24T15:47:30.717881",
     "status": "completed"
    },
    "tags": []
   },
   "outputs": [],
   "source": [
    "def perfectSumTabulation(nums: list[int], N: int, K: int):\n",
    "    # Filter out all the zeros\n",
    "    arr: list[int] = []\n",
    "    N = zero_count = 0\n",
    "    for n in nums:\n",
    "        if n > 0:\n",
    "            arr.append(n)\n",
    "            N += 1\n",
    "        else:\n",
    "            zero_count += 1\n",
    "\n",
    "    # Initialize a DP array\n",
    "    dp: list[list[int]] = [[-1 if j < K else 1 for j in range(K + 1)] for i in range(N)]\n",
    "    dp.append([0 if j < K else 1 for j in range(K + 1)])\n",
    "\n",
    "    # Traverse through grid\n",
    "    for i in range(N - 1, -1, -1):\n",
    "        for total in range(K):\n",
    "            dp[i][total] = dp[i + 1][total]\n",
    "            if total + arr[i] <= K:\n",
    "                dp[i][total] += dp[i + 1][total + arr[i]]\n",
    "\n",
    "    return dp[0][0] * (2 ** zero_count)\n",
    "\n",
    "# Testing the solution\n",
    "assert perfectSumTabulation([5, 2, 3, 10, 6, 8], 6, 10) == 3\n",
    "assert perfectSumTabulation([1, 0], 2, 1) == 2"
   ]
  },
  {
   "cell_type": "code",
   "execution_count": 38,
   "id": "2d2468ad",
   "metadata": {
    "execution": {
     "iopub.execute_input": "2024-05-24T15:47:30.786988Z",
     "iopub.status.busy": "2024-05-24T15:47:30.786528Z",
     "iopub.status.idle": "2024-05-24T15:47:30.792072Z",
     "shell.execute_reply": "2024-05-24T15:47:30.791496Z"
    },
    "lines_to_next_cell": 1,
    "papermill": {
     "duration": 0.027166,
     "end_time": "2024-05-24T15:47:30.793192",
     "exception": false,
     "start_time": "2024-05-24T15:47:30.766026",
     "status": "completed"
    },
    "tags": []
   },
   "outputs": [],
   "source": [
    "def perfectSum(nums: list[int], N: int, K: int):\n",
    "    # Filter out all the zeros\n",
    "    arr: list[int] = []\n",
    "    N = zero_count = 0\n",
    "    for n in nums:\n",
    "        if n > 0:\n",
    "            arr.append(n)\n",
    "            N += 1\n",
    "        else:\n",
    "            zero_count += 1\n",
    "\n",
    "    # Initialize a DP array\n",
    "    dp: list[int] = [0 if j < K else 1 for j in range(K + 1)]\n",
    "\n",
    "    # Traverse through grid\n",
    "    for i in range(N - 1, -1, -1):\n",
    "        next_dp: list[int] = []\n",
    "        for total in range(K + 1):\n",
    "            next_dp.append(dp[total])\n",
    "            if total + arr[i] <= K:\n",
    "                next_dp[-1] += dp[total + arr[i]]\n",
    "\n",
    "        dp = next_dp\n",
    "\n",
    "    return dp[0] * (2 ** zero_count)\n",
    "\n",
    "# Testing the solution\n",
    "assert perfectSum([5, 2, 3, 10, 6, 8], 6, 10) == 3\n",
    "assert perfectSum([1, 0], 2, 1) == 2"
   ]
  },
  {
   "cell_type": "markdown",
   "id": "2bff8c7f",
   "metadata": {
    "papermill": {
     "duration": 0.019774,
     "end_time": "2024-05-24T15:47:30.833300",
     "exception": false,
     "start_time": "2024-05-24T15:47:30.813526",
     "status": "completed"
    },
    "tags": []
   },
   "source": [
    "Count Paritions with given difference: https://youtu.be/zoilQD1kYSg?si=F8PFSkzkZXEsFJ2N"
   ]
  },
  {
   "cell_type": "code",
   "execution_count": 39,
   "id": "051bd113",
   "metadata": {
    "execution": {
     "iopub.execute_input": "2024-05-24T15:47:30.873995Z",
     "iopub.status.busy": "2024-05-24T15:47:30.873483Z",
     "iopub.status.idle": "2024-05-24T15:47:30.878592Z",
     "shell.execute_reply": "2024-05-24T15:47:30.878143Z"
    },
    "lines_to_next_cell": 1,
    "papermill": {
     "duration": 0.026793,
     "end_time": "2024-05-24T15:47:30.879681",
     "exception": false,
     "start_time": "2024-05-24T15:47:30.852888",
     "status": "completed"
    },
    "tags": []
   },
   "outputs": [],
   "source": [
    "def countPartitionsMemo(N: int, diff: int, arr: list[int]) -> int:\n",
    "    \"\"\"\n",
    "    s1 + s2 = S\n",
    "    s1 - s2 = d\n",
    "    2 * s1 = S + d\n",
    "\n",
    "    Time: O(N x target) + O(N)\n",
    "    Space: O(N x target)\n",
    "    \"\"\"\n",
    "\n",
    "    # Simply check if the target exists\n",
    "    target = (sum(arr) + diff) / 2\n",
    "\n",
    "    # Count all subset sums equals target\n",
    "    @functools.cache\n",
    "    def backtrack(i: int, total: int) -> int:\n",
    "        if i == N:\n",
    "            return total == target\n",
    "        elif total > target:\n",
    "            return 0\n",
    "        else:\n",
    "            return backtrack(i + 1, total + arr[i]) + backtrack(i + 1, total)\n",
    "\n",
    "    result = backtrack(0, 0) if target == int(target) else 0\n",
    "    MOD = int(1e9 + 7)\n",
    "    return result % MOD\n",
    "\n",
    "# Testing the solution\n",
    "assert countPartitionsMemo(4, 0, [1,1,1,1]) == 6\n",
    "assert countPartitionsMemo(4, 3, [5,2,6,4]) == 1\n",
    "assert countPartitionsMemo(5, 5, [1,3,3,2,1]) == 0"
   ]
  },
  {
   "cell_type": "code",
   "execution_count": 40,
   "id": "4cd9fbc1",
   "metadata": {
    "execution": {
     "iopub.execute_input": "2024-05-24T15:47:30.920314Z",
     "iopub.status.busy": "2024-05-24T15:47:30.920055Z",
     "iopub.status.idle": "2024-05-24T15:47:30.926136Z",
     "shell.execute_reply": "2024-05-24T15:47:30.925614Z"
    },
    "lines_to_next_cell": 1,
    "papermill": {
     "duration": 0.027407,
     "end_time": "2024-05-24T15:47:30.927301",
     "exception": false,
     "start_time": "2024-05-24T15:47:30.899894",
     "status": "completed"
    },
    "tags": []
   },
   "outputs": [],
   "source": [
    "def countPartitionsTabulation(N: int, diff: int, arr: list[int]) -> int:\n",
    "    \"\"\"\n",
    "    Time: O(N x target), Space: O(N x target)\n",
    "    \"\"\"\n",
    "    # Simply check if the target exists\n",
    "    target_: float = (sum(arr) + diff) / 2\n",
    "    MOD = int(1e9 + 7)\n",
    "\n",
    "    if int(target_) != target_:\n",
    "        return 0\n",
    "\n",
    "    else:\n",
    "\n",
    "        # Convert to int for typing support\n",
    "        target = int(target_)\n",
    "\n",
    "        # Initialize DP array for tabulation\n",
    "        dp: list[list[int]] = [[0 if j != target or i != N else 1 for j in range(target + 1)] for i in range(N + 1)]\n",
    "\n",
    "        # Iterate through DP and find the solution\n",
    "        for i in range(N - 1, -1, -1):\n",
    "            for total in range(target + 1):\n",
    "                dp[i][total] = dp[i + 1][total]\n",
    "                if total + arr[i] <= target:\n",
    "                    dp[i][total] += dp[i + 1][total + arr[i]]\n",
    "\n",
    "        return dp[0][0]\n",
    "\n",
    "# Testing the solution\n",
    "assert countPartitionsTabulation(4, 3, [5,2,6,4]) == 1\n",
    "assert countPartitionsTabulation(4, 3, [5,2,6,4]) == 1\n",
    "assert countPartitionsTabulation(5, 5, [1,3,3,2,1]) == 0"
   ]
  },
  {
   "cell_type": "code",
   "execution_count": 41,
   "id": "09aacbe5",
   "metadata": {
    "execution": {
     "iopub.execute_input": "2024-05-24T15:47:30.970112Z",
     "iopub.status.busy": "2024-05-24T15:47:30.969578Z",
     "iopub.status.idle": "2024-05-24T15:47:30.975220Z",
     "shell.execute_reply": "2024-05-24T15:47:30.974771Z"
    },
    "lines_to_next_cell": 1,
    "papermill": {
     "duration": 0.028872,
     "end_time": "2024-05-24T15:47:30.976311",
     "exception": false,
     "start_time": "2024-05-24T15:47:30.947439",
     "status": "completed"
    },
    "tags": []
   },
   "outputs": [],
   "source": [
    "def countPartitions(N: int, diff: int, arr: list[int]) -> int:\n",
    "    # Simply check if the target exists\n",
    "    target_: float = (sum(arr) + diff) / 2\n",
    "    MOD = int(1e9 + 7)\n",
    "\n",
    "    if int(target_) != target_:\n",
    "        return 0\n",
    "\n",
    "    else:\n",
    "        # Convert to int for type hinting\n",
    "        target = int(target_)\n",
    "\n",
    "        # Create a 1D grid (space optimized)\n",
    "        dp: list[int] = [0 if j != target else 1 for j in range(target + 1)]\n",
    "\n",
    "        # Iterate through DP\n",
    "        for i in range(N - 1, -1, -1):\n",
    "            next_dp: list[int] = []\n",
    "            for total in range(target + 1):\n",
    "                next_dp.append(dp[total])\n",
    "                if total + arr[i] <= target:\n",
    "                    next_dp[-1] += dp[total + arr[i]]\n",
    "\n",
    "            dp = next_dp\n",
    "\n",
    "        return dp[0] % MOD\n",
    "\n",
    "# Testing the solution\n",
    "assert countPartitions(4, 3, [5,2,6,4]) == 1\n",
    "assert countPartitions(4, 3, [5,2,6,4]) == 1\n",
    "assert countPartitions(5, 5, [1,3,3,2,1]) == 0"
   ]
  },
  {
   "cell_type": "markdown",
   "id": "db7bdbb0",
   "metadata": {
    "papermill": {
     "duration": 0.01953,
     "end_time": "2024-05-24T15:47:31.015855",
     "exception": false,
     "start_time": "2024-05-24T15:47:30.996325",
     "status": "completed"
    },
    "tags": []
   },
   "source": [
    "Video Link: https://youtu.be/GqOmJHQZivw?si=dHaZZvKQa2PHaukO\n",
    "0/1 Knapsack"
   ]
  },
  {
   "cell_type": "code",
   "execution_count": 42,
   "id": "51fdc55d",
   "metadata": {
    "execution": {
     "iopub.execute_input": "2024-05-24T15:47:31.056240Z",
     "iopub.status.busy": "2024-05-24T15:47:31.055662Z",
     "iopub.status.idle": "2024-05-24T15:47:31.061227Z",
     "shell.execute_reply": "2024-05-24T15:47:31.060631Z"
    },
    "lines_to_next_cell": 1,
    "papermill": {
     "duration": 0.027072,
     "end_time": "2024-05-24T15:47:31.062436",
     "exception": false,
     "start_time": "2024-05-24T15:47:31.035364",
     "status": "completed"
    },
    "tags": []
   },
   "outputs": [],
   "source": [
    "def knapsack01Memo(N: int, max_weight: int, weights: list[int], values: list[int]) -> int:\n",
    "    \"\"\"\n",
    "    Time complexity without memoization: O(2 ** N), Space: O(N).\n",
    "    Post memoization: O(N x max_weight), Space: O(N x max_weight)\n",
    "    \"\"\"\n",
    "    @functools.cache\n",
    "    def backtrack(i: int, total_weight: int) -> float:\n",
    "        \"\"\"\n",
    "        Intuition: Till index i, what is the max value, we can accumulate with max_weight as total_weight.\n",
    "        \"\"\"\n",
    "        if total_weight > max_weight:\n",
    "            return -math.inf\n",
    "        elif i >= N:\n",
    "            return 0\n",
    "        else:\n",
    "            pick = values[i] + backtrack(i + 1, total_weight + weights[i])\n",
    "            nopick = backtrack(i + 1, total_weight)\n",
    "            return max(pick, nopick)\n",
    "\n",
    "    result = backtrack(0, 0)\n",
    "    return int(max(result, 0))\n",
    "\n",
    "# Testing the solution\n",
    "assert knapsack01Memo(4, 5, [1,2,4,5], [5,4,8,6]) == 13\n",
    "assert knapsack01Memo(3, 8, [3,4,5], [30,50,60]) == 90"
   ]
  },
  {
   "cell_type": "code",
   "execution_count": 43,
   "id": "e0b05d00",
   "metadata": {
    "execution": {
     "iopub.execute_input": "2024-05-24T15:47:31.103672Z",
     "iopub.status.busy": "2024-05-24T15:47:31.103182Z",
     "iopub.status.idle": "2024-05-24T15:47:31.108620Z",
     "shell.execute_reply": "2024-05-24T15:47:31.108147Z"
    },
    "lines_to_next_cell": 1,
    "papermill": {
     "duration": 0.027167,
     "end_time": "2024-05-24T15:47:31.109736",
     "exception": false,
     "start_time": "2024-05-24T15:47:31.082569",
     "status": "completed"
    },
    "tags": []
   },
   "outputs": [],
   "source": [
    "def knapsack01Tabulation(N: int, max_weight: int, weights: list[int], values: list[int]) -> int:\n",
    "    dp: list[list[int]] = [[-1 if i < N else 0 for j in range(max_weight + 1)] for i in range(N + 1)]\n",
    "    for i in range(N - 1, -1, -1):\n",
    "        for total_weight in range(max_weight + 1):\n",
    "            # No pick\n",
    "            dp[i][total_weight] = dp[i + 1][total_weight]\n",
    "\n",
    "            # Pick\n",
    "            if total_weight + weights[i] <= max_weight:\n",
    "                dp[i][total_weight] = max(dp[i][total_weight], values[i] + dp[i + 1][total_weight + weights[i]])\n",
    "\n",
    "    return dp[0][0]\n",
    "\n",
    "# Testing the solution\n",
    "assert knapsack01Tabulation(4, 5, [1,2,4,5], [5,4,8,6]) == 13\n",
    "assert knapsack01Tabulation(3, 8, [3,4,5], [30,50,60]) == 90"
   ]
  },
  {
   "cell_type": "code",
   "execution_count": 44,
   "id": "045af9de",
   "metadata": {
    "execution": {
     "iopub.execute_input": "2024-05-24T15:47:31.150964Z",
     "iopub.status.busy": "2024-05-24T15:47:31.150534Z",
     "iopub.status.idle": "2024-05-24T15:47:31.155938Z",
     "shell.execute_reply": "2024-05-24T15:47:31.155364Z"
    },
    "lines_to_next_cell": 1,
    "papermill": {
     "duration": 0.027353,
     "end_time": "2024-05-24T15:47:31.157135",
     "exception": false,
     "start_time": "2024-05-24T15:47:31.129782",
     "status": "completed"
    },
    "tags": []
   },
   "outputs": [],
   "source": [
    "def knapsack01SpaceOptimized(N: int, max_weight: int, weights: list[int], values: list[int]) -> int:\n",
    "    dp: list[int] = [0 for j in range(max_weight + 1)]\n",
    "    for i in range(N - 1, -1, -1):\n",
    "        next_dp: list[int] = []\n",
    "        for total_weight in range(max_weight + 1):\n",
    "            next_dp.append(dp[total_weight]) # No pick\n",
    "            if weights[i] + total_weight <= max_weight:\n",
    "                next_dp[-1] = max(next_dp[-1], values[i] + dp[weights[i] + total_weight]) # Pick\n",
    "        dp = next_dp\n",
    "\n",
    "    return dp[0]\n",
    "\n",
    "# Testing the solution\n",
    "assert knapsack01SpaceOptimized(4, 5, [1,2,4,5], [5,4,8,6]) == 13\n",
    "assert knapsack01SpaceOptimized(3, 8, [3,4,5], [30,50,60]) == 90"
   ]
  },
  {
   "cell_type": "code",
   "execution_count": 45,
   "id": "b6d1c8d2",
   "metadata": {
    "execution": {
     "iopub.execute_input": "2024-05-24T15:47:31.199124Z",
     "iopub.status.busy": "2024-05-24T15:47:31.198713Z",
     "iopub.status.idle": "2024-05-24T15:47:31.203862Z",
     "shell.execute_reply": "2024-05-24T15:47:31.203286Z"
    },
    "lines_to_next_cell": 1,
    "papermill": {
     "duration": 0.027391,
     "end_time": "2024-05-24T15:47:31.205008",
     "exception": false,
     "start_time": "2024-05-24T15:47:31.177617",
     "status": "completed"
    },
    "tags": []
   },
   "outputs": [],
   "source": [
    "def knapsack01(N: int, max_weight: int, weights: list[int], values: list[int]) -> int:\n",
    "    \"\"\"\n",
    "    Space optimization to use just a single row. This is possible because\n",
    "    in the inner loop we are moving from the left to right and at each iteration\n",
    "    we are using the element to the right, we have no need of the element to the left\n",
    "\n",
    "    [x . . . . . . * . . . ]\n",
    "    [. x . . . * . . . . . ]\n",
    "    [. . x . . . . . * . . ]\n",
    "\n",
    "    At the inner loop we had required the value of the element to the left, this would not have been possible.\n",
    "    \"\"\"\n",
    "    dp: list[int] = [0 for j in range(max_weight + 1)]\n",
    "    for i in range(N - 1, -1, -1):\n",
    "        for total_weight in range(max_weight + 1):\n",
    "            if weights[i] + total_weight <= max_weight:\n",
    "                dp[total_weight] = max(dp[total_weight], values[i] + dp[total_weight + weights[i]])\n",
    "\n",
    "    return dp[0]\n",
    "\n",
    "# Testing the solution\n",
    "assert knapsack01(4, 5, [1,2,4,5], [5,4,8,6]) == 13\n",
    "assert knapsack01(3, 8, [3,4,5], [30,50,60]) == 90"
   ]
  },
  {
   "cell_type": "markdown",
   "id": "71d6293a",
   "metadata": {
    "papermill": {
     "duration": 0.019658,
     "end_time": "2024-05-24T15:47:31.244889",
     "exception": false,
     "start_time": "2024-05-24T15:47:31.225231",
     "status": "completed"
    },
    "tags": []
   },
   "source": [
    "Video link: https://youtu.be/myPeWb3Y68A?si=9z1QMQXCYmEcFEW4\n",
    "Coin Change: https://leetcode.com/problems/coin-change/submissions/1255049748\n",
    "Logic: Whenever there is an infinite / unlimited supply, not_take would update the index, <br>\n",
    "take would not update index - it would stay where it is because we might end up picking it more than once"
   ]
  },
  {
   "cell_type": "code",
   "execution_count": 46,
   "id": "93a2c45e",
   "metadata": {
    "execution": {
     "iopub.execute_input": "2024-05-24T15:47:31.285683Z",
     "iopub.status.busy": "2024-05-24T15:47:31.285106Z",
     "iopub.status.idle": "2024-05-24T15:47:31.290009Z",
     "shell.execute_reply": "2024-05-24T15:47:31.289472Z"
    },
    "lines_to_next_cell": 1,
    "papermill": {
     "duration": 0.026606,
     "end_time": "2024-05-24T15:47:31.291091",
     "exception": false,
     "start_time": "2024-05-24T15:47:31.264485",
     "status": "completed"
    },
    "tags": []
   },
   "outputs": [],
   "source": [
    "def coinChangeMemoization(coins: list[int], amount: int) -> int:\n",
    "    \"\"\"\n",
    "    Without memoization, the time complexity is roughly 2 ** N. It would be greater than\n",
    "    2 ** N since at each index for take we are still staying at the same index.\n",
    "\n",
    "    With memoization, the time complexity is O(N x amount)\n",
    "    \"\"\"\n",
    "    @functools.cache\n",
    "    def backtrack(i: int, total: int) -> float:\n",
    "        if total == amount:\n",
    "            return 0\n",
    "        elif i == N or total > amount:\n",
    "            return math.inf\n",
    "        else:\n",
    "            return min(1 + backtrack(i, total + coins[i]), backtrack(i + 1, total))\n",
    "\n",
    "    N = len(coins)\n",
    "    result = backtrack(0, 0)\n",
    "    return int(result) if not math.isinf(result) else -1\n",
    "\n",
    "# Testing the solution\n",
    "assert coinChangeMemoization([1,2,5], 11) == 3\n",
    "assert coinChangeMemoization([2], 3) == -1"
   ]
  },
  {
   "cell_type": "code",
   "execution_count": 47,
   "id": "eb1b662f",
   "metadata": {
    "execution": {
     "iopub.execute_input": "2024-05-24T15:47:31.331498Z",
     "iopub.status.busy": "2024-05-24T15:47:31.331081Z",
     "iopub.status.idle": "2024-05-24T15:47:31.336514Z",
     "shell.execute_reply": "2024-05-24T15:47:31.335975Z"
    },
    "lines_to_next_cell": 1,
    "papermill": {
     "duration": 0.026907,
     "end_time": "2024-05-24T15:47:31.337711",
     "exception": false,
     "start_time": "2024-05-24T15:47:31.310804",
     "status": "completed"
    },
    "tags": []
   },
   "outputs": [],
   "source": [
    "def coinChangeTabulation(coins: list[int], amount: int) -> int:\n",
    "    N = len(coins)\n",
    "    dp: list[list[float]] = [[math.inf if j < amount else 0 for j in range(amount + 1)] for i in range(N + 1)]\n",
    "    for i in range(N - 1, -1, -1):\n",
    "        for total in range(amount, -1, -1):\n",
    "            if total + coins[i] <= amount:\n",
    "                dp[i][total] = min(dp[i + 1][total], 1 + dp[i][total + coins[i]])\n",
    "            else:\n",
    "                dp[i][total] = dp[i + 1][total]\n",
    "\n",
    "    result = dp[0][0]\n",
    "    return int(result) if not math.isinf(result) else -1\n",
    "\n",
    "# Testing the solution\n",
    "assert coinChangeTabulation([1,2,5], 11) == 3\n",
    "assert coinChangeTabulation([2], 3) == -1"
   ]
  },
  {
   "cell_type": "code",
   "execution_count": 48,
   "id": "ddd554c7",
   "metadata": {
    "execution": {
     "iopub.execute_input": "2024-05-24T15:47:31.378685Z",
     "iopub.status.busy": "2024-05-24T15:47:31.378346Z",
     "iopub.status.idle": "2024-05-24T15:47:31.383212Z",
     "shell.execute_reply": "2024-05-24T15:47:31.382680Z"
    },
    "lines_to_next_cell": 1,
    "papermill": {
     "duration": 0.02671,
     "end_time": "2024-05-24T15:47:31.384362",
     "exception": false,
     "start_time": "2024-05-24T15:47:31.357652",
     "status": "completed"
    },
    "tags": []
   },
   "outputs": [],
   "source": [
    "def coinChangeSpaceOptimized(coins: list[int], amount: int) -> int:\n",
    "    N = len(coins)\n",
    "    dp: list[float] = [math.inf if j < amount else 0 for j in range(amount + 1)]\n",
    "    for i in range(N - 1, -1, -1):\n",
    "        for total in range(amount, -1, -1):\n",
    "            if total + coins[i] <= amount:\n",
    "                dp[total] = min(dp[total], 1 + dp[total + coins[i]])\n",
    "\n",
    "    result = dp[0]\n",
    "    return int(result) if not math.isinf(result) else -1\n",
    "\n",
    "# Testing the solution\n",
    "assert coinChangeSpaceOptimized([1,2,5], 11) == 3\n",
    "assert coinChangeSpaceOptimized([2], 3) == -1"
   ]
  },
  {
   "cell_type": "markdown",
   "id": "3e5fb6cb",
   "metadata": {
    "papermill": {
     "duration": 0.019397,
     "end_time": "2024-05-24T15:47:31.423826",
     "exception": false,
     "start_time": "2024-05-24T15:47:31.404429",
     "status": "completed"
    },
    "tags": []
   },
   "source": [
    "Video Link: https://youtu.be/b3GD8263-PQ?si=CNz-raf3oynQQsPJ\n",
    "Target Sum: https://leetcode.com/problems/target-sum/"
   ]
  },
  {
   "cell_type": "code",
   "execution_count": 49,
   "id": "18960ee2",
   "metadata": {
    "execution": {
     "iopub.execute_input": "2024-05-24T15:47:31.464252Z",
     "iopub.status.busy": "2024-05-24T15:47:31.463793Z",
     "iopub.status.idle": "2024-05-24T15:47:31.468450Z",
     "shell.execute_reply": "2024-05-24T15:47:31.467985Z"
    },
    "lines_to_next_cell": 1,
    "papermill": {
     "duration": 0.026263,
     "end_time": "2024-05-24T15:47:31.469579",
     "exception": false,
     "start_time": "2024-05-24T15:47:31.443316",
     "status": "completed"
    },
    "tags": []
   },
   "outputs": [],
   "source": [
    "# https://leetcode.com/problems/target-sum/submissions/1255976702\n",
    "def findTargetSumWaysMemo(nums: list[int], target: int) -> int:\n",
    "    @functools.cache\n",
    "    def backtrack(i: int, total: int) -> int:\n",
    "        if i == N:\n",
    "            return int(total == target)\n",
    "        else:\n",
    "            return backtrack(i + 1, total - nums[i]) + backtrack(i + 1, total + nums[i])\n",
    "\n",
    "    N = len(nums)\n",
    "    return backtrack(0, 0)\n",
    "\n",
    "# Testing the solution\n",
    "assert findTargetSumWaysMemo([1,1,1,1,1], 3) == 5\n",
    "assert findTargetSumWaysMemo([1], 2) == 0"
   ]
  },
  {
   "cell_type": "code",
   "execution_count": 50,
   "id": "8420cf7b",
   "metadata": {
    "execution": {
     "iopub.execute_input": "2024-05-24T15:47:31.511403Z",
     "iopub.status.busy": "2024-05-24T15:47:31.510861Z",
     "iopub.status.idle": "2024-05-24T15:47:31.516534Z",
     "shell.execute_reply": "2024-05-24T15:47:31.516073Z"
    },
    "lines_to_next_cell": 1,
    "papermill": {
     "duration": 0.027499,
     "end_time": "2024-05-24T15:47:31.517643",
     "exception": false,
     "start_time": "2024-05-24T15:47:31.490144",
     "status": "completed"
    },
    "tags": []
   },
   "outputs": [],
   "source": [
    "def findTargetSumWaysTab(nums: list[int], target: int) -> int:\n",
    "    N: int = len(nums)\n",
    "    boundary: int = sum(nums)\n",
    "    dp: list[list[int]] = [[0 if i < N or j != target else 1 for j in range(-boundary, boundary + 1)] for i in range(N + 1)]\n",
    "\n",
    "    for i in range(N - 1, -1, -1):\n",
    "        for total in range(-boundary, boundary + 1):\n",
    "            if total - nums[i] + boundary >= 0:\n",
    "                dp[i][total + boundary] += dp[i + 1][total - nums[i] + boundary]\n",
    "            if total + nums[i] + boundary <= 2 * boundary:\n",
    "                dp[i][total + boundary] += dp[i + 1][total + nums[i] + boundary]\n",
    "\n",
    "    return dp[0][boundary]\n",
    "\n",
    "# Testing the solution\n",
    "assert findTargetSumWaysTab([1,1,1,1,1], 3) == 5\n",
    "assert findTargetSumWaysTab([1], 2) == 0"
   ]
  },
  {
   "cell_type": "code",
   "execution_count": 51,
   "id": "7c66396e",
   "metadata": {
    "execution": {
     "iopub.execute_input": "2024-05-24T15:47:31.558455Z",
     "iopub.status.busy": "2024-05-24T15:47:31.557815Z",
     "iopub.status.idle": "2024-05-24T15:47:31.563528Z",
     "shell.execute_reply": "2024-05-24T15:47:31.562968Z"
    },
    "lines_to_next_cell": 1,
    "papermill": {
     "duration": 0.027306,
     "end_time": "2024-05-24T15:47:31.564615",
     "exception": false,
     "start_time": "2024-05-24T15:47:31.537309",
     "status": "completed"
    },
    "tags": []
   },
   "outputs": [],
   "source": [
    "# https://leetcode.com/problems/target-sum/submissions/1255976333/\n",
    "def findTargetSumWays(nums: list[int], target: int) -> int:\n",
    "    N = len(nums)\n",
    "    boundary: int = sum(nums)\n",
    "    dp: list[int] = [0 if j != target else 1 for j in range(-boundary, boundary + 1)]\n",
    "\n",
    "    for i in range(N - 1, -1, -1):\n",
    "        next_dp: list[int] = []\n",
    "        for total in range(-boundary, boundary + 1):\n",
    "            next_dp.append(0)\n",
    "            if total + nums[i] + boundary <= 2 * boundary:\n",
    "                next_dp[-1] += dp[total + nums[i] + boundary]\n",
    "            if total - nums[i] + boundary >= 0:\n",
    "                next_dp[-1] += dp[total - nums[i] + boundary]\n",
    "\n",
    "        dp = next_dp\n",
    "\n",
    "    return dp[boundary]\n",
    "\n",
    "# Testing the solution\n",
    "assert findTargetSumWays([1,1,1,1,1], 3) == 5\n",
    "assert findTargetSumWays([1], 2) == 0"
   ]
  },
  {
   "cell_type": "code",
   "execution_count": 52,
   "id": "8f0e96f1",
   "metadata": {
    "execution": {
     "iopub.execute_input": "2024-05-24T15:47:31.605616Z",
     "iopub.status.busy": "2024-05-24T15:47:31.605025Z",
     "iopub.status.idle": "2024-05-24T15:47:31.611274Z",
     "shell.execute_reply": "2024-05-24T15:47:31.610738Z"
    },
    "lines_to_next_cell": 1,
    "papermill": {
     "duration": 0.028015,
     "end_time": "2024-05-24T15:47:31.612299",
     "exception": false,
     "start_time": "2024-05-24T15:47:31.584284",
     "status": "completed"
    },
    "tags": []
   },
   "outputs": [],
   "source": [
    "# Striver's approach: Use logic from 'Count Paritions with given difference'\n",
    "# https://leetcode.com/problems/target-sum/submissions/1255993345/\n",
    "def findTargetSumWaysStriver(nums: list[int], target: int) -> int:\n",
    "    \"\"\"\n",
    "    We need to count the number of subsets s1, s2 such that s1 - s2 = target.\n",
    "    s1 = (S + d) / 2\n",
    "    \"\"\"\n",
    "\n",
    "    S = sum(nums)\n",
    "    s1 = (S + target) / 2\n",
    "    s2 = S - s1\n",
    "\n",
    "    # Edge case - target is negative.\n",
    "    if s1 < 0:\n",
    "        s1 = s2\n",
    "\n",
    "    count = 0\n",
    "    if int(s1) == s1:\n",
    "        s1 = int(s1)\n",
    "        zero_count = nums.count(0)\n",
    "        nums = list(filter(lambda x: x != 0, nums))\n",
    "        N = len(nums)\n",
    "        dp: list[int] = [0 if j < s1 else 1 for j in range(s1 + 1)]\n",
    "        for i in range(N - 1, -1, -1):\n",
    "            for total in range(s1 + 1):\n",
    "                if total + nums[i] <= s1:\n",
    "                    dp[total] += dp[total + nums[i]]\n",
    "\n",
    "        count = dp[0] * (2 ** zero_count)\n",
    "\n",
    "    return count\n",
    "\n",
    "# Testing the solution\n",
    "assert findTargetSumWaysStriver([1,1,1,1,1], 3) == 5\n",
    "assert findTargetSumWaysStriver([1,0,0], 1) == 4\n",
    "assert findTargetSumWaysStriver([100], -200) == 0\n",
    "assert findTargetSumWaysStriver([100], -100) == 1"
   ]
  },
  {
   "cell_type": "markdown",
   "id": "54ee6894",
   "metadata": {
    "papermill": {
     "duration": 0.019617,
     "end_time": "2024-05-24T15:47:31.651903",
     "exception": false,
     "start_time": "2024-05-24T15:47:31.632286",
     "status": "completed"
    },
    "tags": []
   },
   "source": [
    "Video link: https://youtu.be/HgyouUi11zk?si=tgZcsIOYwWogacGr\n",
    "Coin Change II: https://leetcode.com/problems/coin-change-ii/description/"
   ]
  },
  {
   "cell_type": "code",
   "execution_count": 53,
   "id": "a21ca5a5",
   "metadata": {
    "execution": {
     "iopub.execute_input": "2024-05-24T15:47:31.692198Z",
     "iopub.status.busy": "2024-05-24T15:47:31.691707Z",
     "iopub.status.idle": "2024-05-24T15:47:31.696312Z",
     "shell.execute_reply": "2024-05-24T15:47:31.695785Z"
    },
    "lines_to_next_cell": 1,
    "papermill": {
     "duration": 0.02608,
     "end_time": "2024-05-24T15:47:31.697403",
     "exception": false,
     "start_time": "2024-05-24T15:47:31.671323",
     "status": "completed"
    },
    "tags": []
   },
   "outputs": [],
   "source": [
    "def coinChangeMemo(amount: int, coins: list[int]):\n",
    "    \"\"\"\n",
    "    Time: ~O(N x amount), Space: O(N x amount) + O(amount)\n",
    "    \"\"\"\n",
    "\n",
    "    @functools.cache\n",
    "    def backtrack(i: int, total: int) -> int:\n",
    "        if total == amount:\n",
    "            return 1\n",
    "        elif total > amount or i == N:\n",
    "            return 0\n",
    "        else:\n",
    "            return backtrack(i, total + coins[i]) + backtrack(i + 1, total)\n",
    "\n",
    "    N = len(coins)\n",
    "    return backtrack(0, 0)\n",
    "\n",
    "# Testing the solution\n",
    "assert coinChangeMemo(5, [1,2,5]) == 4\n",
    "assert coinChangeMemo(3, [2]) == 0"
   ]
  },
  {
   "cell_type": "code",
   "execution_count": 54,
   "id": "b74d7fa9",
   "metadata": {
    "execution": {
     "iopub.execute_input": "2024-05-24T15:47:31.738160Z",
     "iopub.status.busy": "2024-05-24T15:47:31.737771Z",
     "iopub.status.idle": "2024-05-24T15:47:31.742516Z",
     "shell.execute_reply": "2024-05-24T15:47:31.741987Z"
    },
    "lines_to_next_cell": 1,
    "papermill": {
     "duration": 0.026398,
     "end_time": "2024-05-24T15:47:31.743592",
     "exception": false,
     "start_time": "2024-05-24T15:47:31.717194",
     "status": "completed"
    },
    "tags": []
   },
   "outputs": [],
   "source": [
    "# https://leetcode.com/problems/coin-change-ii/submissions/1256028931\n",
    "def coinChangeTab(amount: int, coins: list[int]):\n",
    "    N = len(coins)\n",
    "    dp: list[int] = [0 if j != amount else 1 for j in range(amount + 1)]\n",
    "    for i in range(N - 1, -1, -1):\n",
    "        for total in range(amount, -1, -1):\n",
    "            if total + coins[i] <= amount:\n",
    "                dp[total] += dp[total + coins[i]]\n",
    "\n",
    "    return dp[0]\n",
    "\n",
    "# Testing the solution\n",
    "assert coinChangeTab(5, [1,2,5]) == 4\n",
    "assert coinChangeTab(3, [2]) == 0"
   ]
  },
  {
   "cell_type": "markdown",
   "id": "b0b593c4",
   "metadata": {
    "papermill": {
     "duration": 0.019237,
     "end_time": "2024-05-24T15:47:31.782753",
     "exception": false,
     "start_time": "2024-05-24T15:47:31.763516",
     "status": "completed"
    },
    "tags": []
   },
   "source": [
    "Video Link: https://youtu.be/OgvOZ6OrJoY?si=rcbpx6IrU_SvQ4v1\n",
    "Unbounded Knapsack"
   ]
  },
  {
   "cell_type": "code",
   "execution_count": 55,
   "id": "5fc22211",
   "metadata": {
    "execution": {
     "iopub.execute_input": "2024-05-24T15:47:31.822644Z",
     "iopub.status.busy": "2024-05-24T15:47:31.822272Z",
     "iopub.status.idle": "2024-05-24T15:47:31.827154Z",
     "shell.execute_reply": "2024-05-24T15:47:31.826691Z"
    },
    "lines_to_next_cell": 1,
    "papermill": {
     "duration": 0.026163,
     "end_time": "2024-05-24T15:47:31.828282",
     "exception": false,
     "start_time": "2024-05-24T15:47:31.802119",
     "status": "completed"
    },
    "tags": []
   },
   "outputs": [],
   "source": [
    "def unboundedKnapSackMemo(N: int, max_weight: int, values: list[int], weights: list[int]) -> int:\n",
    "     @functools.cache\n",
    "     def backtrack(i: int, total_weight: int) -> float:\n",
    "         if total_weight > max_weight:\n",
    "             return -math.inf\n",
    "         elif i == N:\n",
    "             return 0\n",
    "         else:\n",
    "             return max(values[i] + backtrack(i, total_weight + weights[i]), backtrack(i + 1, total_weight))\n",
    "\n",
    "     return int(backtrack(0, 0))\n",
    "\n",
    "# Testing the solution\n",
    "assert unboundedKnapSackMemo(2, 3, [1, 1], [2, 1]) == 3\n",
    "assert unboundedKnapSackMemo(4, 8, [6, 1, 7, 7], [1, 3, 4, 5]) == 48"
   ]
  },
  {
   "cell_type": "code",
   "execution_count": 56,
   "id": "3377312f",
   "metadata": {
    "execution": {
     "iopub.execute_input": "2024-05-24T15:47:31.869459Z",
     "iopub.status.busy": "2024-05-24T15:47:31.868918Z",
     "iopub.status.idle": "2024-05-24T15:47:31.873710Z",
     "shell.execute_reply": "2024-05-24T15:47:31.873269Z"
    },
    "lines_to_next_cell": 1,
    "papermill": {
     "duration": 0.026549,
     "end_time": "2024-05-24T15:47:31.874804",
     "exception": false,
     "start_time": "2024-05-24T15:47:31.848255",
     "status": "completed"
    },
    "tags": []
   },
   "outputs": [],
   "source": [
    "def unboundedKnapSackTab(N: int, max_weight: int, values: list[int], weights: list[int]) -> int:\n",
    "    dp: list[int] = [0 for j in range(max_weight + 1)]\n",
    "    for i in range(N - 1, -1, -1):\n",
    "        for total in range(max_weight, -1, -1):\n",
    "            if total + weights[i] <= max_weight:\n",
    "                dp[total] = max(dp[total], values[i] + dp[total + weights[i]])\n",
    "\n",
    "    return dp[0]\n",
    "\n",
    "# Testing the solution\n",
    "assert unboundedKnapSackTab(2, 3, [1, 1], [2, 1]) == 3\n",
    "assert unboundedKnapSackTab(4, 8, [6, 1, 7, 7], [1, 3, 4, 5]) == 48"
   ]
  },
  {
   "cell_type": "markdown",
   "id": "2d0c40ff",
   "metadata": {
    "papermill": {
     "duration": 0.019655,
     "end_time": "2024-05-24T15:47:31.914986",
     "exception": false,
     "start_time": "2024-05-24T15:47:31.895331",
     "status": "completed"
    },
    "tags": []
   },
   "source": [
    "Video Link: https://youtu.be/mO8XpGoJwuo?si=uzBPZ8auw70L9WCm\n",
    "Rod cutting Problem"
   ]
  },
  {
   "cell_type": "code",
   "execution_count": 57,
   "id": "aee57cd8",
   "metadata": {
    "execution": {
     "iopub.execute_input": "2024-05-24T15:47:31.955582Z",
     "iopub.status.busy": "2024-05-24T15:47:31.955211Z",
     "iopub.status.idle": "2024-05-24T15:47:31.959960Z",
     "shell.execute_reply": "2024-05-24T15:47:31.959504Z"
    },
    "lines_to_next_cell": 1,
    "papermill": {
     "duration": 0.026596,
     "end_time": "2024-05-24T15:47:31.961120",
     "exception": false,
     "start_time": "2024-05-24T15:47:31.934524",
     "status": "completed"
    },
    "tags": []
   },
   "outputs": [],
   "source": [
    "def cutRodMemo(price: list[int], N: int) -> int:\n",
    "    @functools.cache\n",
    "    def backtrack(i: int, length: int) -> float:\n",
    "        if length == 0:\n",
    "            return 0\n",
    "        elif i == N or length < 0:\n",
    "            return -math.inf\n",
    "        else:\n",
    "            return max(price[i] + backtrack(i, length - i - 1), backtrack(i + 1, length))\n",
    "\n",
    "    result = backtrack(0, N)\n",
    "    return int(result)\n",
    "\n",
    "# Testing the solution\n",
    "assert cutRodMemo([1, 5, 8, 9, 10, 17, 17, 20], 8) == 22\n",
    "assert cutRodMemo([3, 5, 8, 9, 10, 17, 17, 20], 8) == 24"
   ]
  },
  {
   "cell_type": "code",
   "execution_count": 58,
   "id": "bcdf21dd",
   "metadata": {
    "execution": {
     "iopub.execute_input": "2024-05-24T15:47:32.002517Z",
     "iopub.status.busy": "2024-05-24T15:47:32.002164Z",
     "iopub.status.idle": "2024-05-24T15:47:32.007154Z",
     "shell.execute_reply": "2024-05-24T15:47:32.006616Z"
    },
    "lines_to_next_cell": 1,
    "papermill": {
     "duration": 0.026573,
     "end_time": "2024-05-24T15:47:32.008237",
     "exception": false,
     "start_time": "2024-05-24T15:47:31.981664",
     "status": "completed"
    },
    "tags": []
   },
   "outputs": [],
   "source": [
    "def cutRodTab(price: list[int], N: int) -> int:\n",
    "    dp: list[float] = [-math.inf if j > 0 else 0 for j in range(N + 1)]\n",
    "    for i in range(N - 1, -1, -1):\n",
    "        for length in range(N + 1):\n",
    "            if length - i - 1 >= 0:\n",
    "                dp[length] = max(dp[length], price[i] + dp[length - i - 1])\n",
    "\n",
    "    return int(dp[N])\n",
    "\n",
    "# Testing the solution\n",
    "assert cutRodTab([1, 5, 8, 9, 10, 17, 17, 20], 8) == 22\n",
    "assert cutRodTab([3, 5, 8, 9, 10, 17, 17, 20], 8) == 24"
   ]
  },
  {
   "cell_type": "markdown",
   "id": "8e8177cc",
   "metadata": {
    "papermill": {
     "duration": 0.019506,
     "end_time": "2024-05-24T15:47:32.048081",
     "exception": false,
     "start_time": "2024-05-24T15:47:32.028575",
     "status": "completed"
    },
    "tags": []
   },
   "source": [
    "Video link: https://youtu.be/NPZn9jBrX8U?si=RNey3xHjlEm1LXyr\n",
    "Longest common subsequences: https://leetcode.com/problems/longest-common-subsequence\n",
    "Naive approach: Generate all subsequences O((2 ** N) x (2 ** M)) and compare common subsequences in both"
   ]
  },
  {
   "cell_type": "code",
   "execution_count": 59,
   "id": "917d5e52",
   "metadata": {
    "execution": {
     "iopub.execute_input": "2024-05-24T15:47:32.089276Z",
     "iopub.status.busy": "2024-05-24T15:47:32.088721Z",
     "iopub.status.idle": "2024-05-24T15:47:32.093958Z",
     "shell.execute_reply": "2024-05-24T15:47:32.093461Z"
    },
    "papermill": {
     "duration": 0.027308,
     "end_time": "2024-05-24T15:47:32.095085",
     "exception": false,
     "start_time": "2024-05-24T15:47:32.067777",
     "status": "completed"
    },
    "tags": []
   },
   "outputs": [],
   "source": [
    "def longestCommonSubsequenceMemo(text1: str, text2: str) -> int:\n",
    "    # Time: O(N x M), Space: O(N x M) + O(M + N)\n",
    "    @functools.cache\n",
    "    def backtrack(i: int, j: int) -> int:\n",
    "        if i == N1 or j == N2:\n",
    "            return 0\n",
    "        elif text1[i] == text2[j]:\n",
    "            return 1 + backtrack(i + 1, j + 1)\n",
    "        else:\n",
    "            return max(backtrack(i + 1, j), backtrack(i, j + 1))\n",
    "\n",
    "    N1, N2 = len(text1), len(text2)\n",
    "    return backtrack(0, 0)\n",
    "\n",
    "# Testing the solution\n",
    "assert longestCommonSubsequenceMemo(\"abcde\", \"ace\") == 3\n",
    "assert longestCommonSubsequenceMemo(\"bsbininm\", \"jmjkbkjkv\") == 1\n",
    "assert longestCommonSubsequenceMemo(\"aaaaaaaaaaaaaaaaaaaaaaaaaaaaaaaaaaa\", \"aaaaaaaaaaaaaaaaaaaaaaaaaaaaaaaaaaaaaaaaaaaaa\") == 35\n",
    "assert longestCommonSubsequenceMemo(\"bl\", \"yby\") == 1"
   ]
  },
  {
   "cell_type": "code",
   "execution_count": 60,
   "id": "30813726",
   "metadata": {
    "execution": {
     "iopub.execute_input": "2024-05-24T15:47:32.136750Z",
     "iopub.status.busy": "2024-05-24T15:47:32.136260Z",
     "iopub.status.idle": "2024-05-24T15:47:32.141889Z",
     "shell.execute_reply": "2024-05-24T15:47:32.141367Z"
    },
    "lines_to_next_cell": 1,
    "papermill": {
     "duration": 0.027425,
     "end_time": "2024-05-24T15:47:32.142979",
     "exception": false,
     "start_time": "2024-05-24T15:47:32.115554",
     "status": "completed"
    },
    "tags": []
   },
   "outputs": [],
   "source": [
    "def longestCommonSubsequenceTab(text1: str, text2: str) -> int:\n",
    "    # Time: O(M x N), Space: O(N x M)\n",
    "    N1, N2 = len(text1), len(text2)\n",
    "    dp: list[list[int]] = [[0 for j in range(N2 + 1)] for i in range(N1 + 1)]\n",
    "    for i in range(N1 - 1, -1, -1):\n",
    "        for j in range(N2 - 1, -1, -1):\n",
    "            if text1[i] == text2[j]:\n",
    "                dp[i][j] = 1 + dp[i + 1][j + 1]\n",
    "            else:\n",
    "                dp[i][j] = max(dp[i + 1][j], dp[i][j + 1])\n",
    "\n",
    "    return dp[0][0]\n",
    "\n",
    "# Testing the solution\n",
    "assert longestCommonSubsequenceTab(\"abcde\", \"ace\") == 3\n",
    "assert longestCommonSubsequenceTab(\"bsbininm\", \"jmjkbkjkv\") == 1\n",
    "assert longestCommonSubsequenceTab(\"aaaaaaaaaaaaaaaaaaaaaaaaaaaaaaaaaaa\", \"aaaaaaaaaaaaaaaaaaaaaaaaaaaaaaaaaaaaaaaaaaaaa\") == 35\n",
    "assert longestCommonSubsequenceTab(\"bl\", \"yby\") == 1"
   ]
  },
  {
   "cell_type": "code",
   "execution_count": 61,
   "id": "e099ef3b",
   "metadata": {
    "execution": {
     "iopub.execute_input": "2024-05-24T15:47:32.185028Z",
     "iopub.status.busy": "2024-05-24T15:47:32.184539Z",
     "iopub.status.idle": "2024-05-24T15:47:32.189946Z",
     "shell.execute_reply": "2024-05-24T15:47:32.189488Z"
    },
    "lines_to_next_cell": 1,
    "papermill": {
     "duration": 0.027729,
     "end_time": "2024-05-24T15:47:32.191042",
     "exception": false,
     "start_time": "2024-05-24T15:47:32.163313",
     "status": "completed"
    },
    "tags": []
   },
   "outputs": [],
   "source": [
    "# https://leetcode.com/problems/longest-common-subsequence/submissions/1256127917\n",
    "def longestCommonSubsequence(text1: str, text2: str) -> int:\n",
    "    # Time: O(M x N), Space: O(N2 + N2)\n",
    "    N1, N2 = len(text1), len(text2)\n",
    "    dp: list[int] = [0 for j in range(N2 + 1)]\n",
    "    for i in range(N1 - 1, -1, -1):\n",
    "        next_dp: list[int] = list(dp)\n",
    "        for j in range(N2 - 1, -1, -1):\n",
    "            if text1[i] == text2[j]:\n",
    "                next_dp[j] = 1 + dp[j + 1]\n",
    "            else:\n",
    "                next_dp[j] = max(dp[j], next_dp[j + 1])\n",
    "\n",
    "        dp = next_dp\n",
    "\n",
    "    return dp[0]\n",
    "\n",
    "# Testing the solution\n",
    "assert longestCommonSubsequence(\"abcde\", \"ace\") == 3\n",
    "assert longestCommonSubsequence(\"bsbininm\", \"jmjkbkjkv\") == 1\n",
    "assert longestCommonSubsequence(\"aaaaaaaaaaaaaaaaaaaaaaaaaaaaaaaaaaa\", \"aaaaaaaaaaaaaaaaaaaaaaaaaaaaaaaaaaaaaaaaaaaaa\") == 35\n",
    "assert longestCommonSubsequence(\"bl\", \"yby\") == 1"
   ]
  },
  {
   "cell_type": "markdown",
   "id": "e01786f1",
   "metadata": {
    "papermill": {
     "duration": 0.019297,
     "end_time": "2024-05-24T15:47:32.230237",
     "exception": false,
     "start_time": "2024-05-24T15:47:32.210940",
     "status": "completed"
    },
    "tags": []
   },
   "source": [
    "Video Link: https://youtu.be/-zI4mrF2Pb4?si=8kICsv0E7jYx6sWn\n",
    "Print longest common subsequece"
   ]
  },
  {
   "cell_type": "code",
   "execution_count": 62,
   "id": "1c0d3fe8",
   "metadata": {
    "execution": {
     "iopub.execute_input": "2024-05-24T15:47:32.271437Z",
     "iopub.status.busy": "2024-05-24T15:47:32.270918Z",
     "iopub.status.idle": "2024-05-24T15:47:32.279134Z",
     "shell.execute_reply": "2024-05-24T15:47:32.278660Z"
    },
    "lines_to_next_cell": 1,
    "papermill": {
     "duration": 0.030065,
     "end_time": "2024-05-24T15:47:32.280201",
     "exception": false,
     "start_time": "2024-05-24T15:47:32.250136",
     "status": "completed"
    },
    "tags": []
   },
   "outputs": [],
   "source": [
    "def all_longest_common_subsequences(text1: str, text2: str) -> list[str]:\n",
    "    \"\"\"\n",
    "    DP grid computes the longest common subseq length given starting pos of text1, text2\n",
    "    We start at -1, -1 on the grid.\n",
    "    If text1[i] == text2[j], we know that the line: 1 + dp[i + 1][j + 1] was executed, there we increment both i, j by 1\n",
    "    If text1[i] != text2[j], either the max came from text1 or text2. If only one max exists, recurse into that else recurse through both\n",
    "\n",
    "    Time: DP grid compute: O(M x N) + Backtracking to find longest common subsequence: O(M + N)\n",
    "    Space: O(M x N)\n",
    "    \"\"\"\n",
    "\n",
    "    N1, N2 = len(text1), len(text2)\n",
    "    dp: list[list[int]] = [[0 for j in range(N2 + 1)] for i in range(N1 + 1)]\n",
    "    for i in range(N1 - 1, -1, -1):\n",
    "        for j in range(N2 - 1, -1, -1):\n",
    "            if text1[i] == text2[j]:\n",
    "                dp[i][j] = 1 + dp[i + 1][j + 1]\n",
    "            else:\n",
    "                dp[i][j] = max(dp[i + 1][j], dp[i][j + 1])\n",
    "\n",
    "    def backtrack(i: int, j: int):\n",
    "        if dp[i][j] == 0:\n",
    "            result.add(''.join(stack))\n",
    "            return\n",
    "        elif text1[i] == text2[j]:\n",
    "            stack.append(text1[i])\n",
    "            backtrack(i + 1, j + 1)\n",
    "            stack.pop()\n",
    "        else:\n",
    "            max_ = max(dp[i + 1][j], dp[i][j + 1])\n",
    "            if dp[i + 1][j] == max_:\n",
    "                backtrack(i + 1, j)\n",
    "            if dp[i][j + 1] == max_:\n",
    "                backtrack(i, j + 1)\n",
    "\n",
    "    result: set[str] = set()\n",
    "    stack: list[str] = []\n",
    "    backtrack(i, j)\n",
    "    return sorted(result)\n",
    "\n",
    "# Tesitng the solution\n",
    "assert all_longest_common_subsequences(\"abcde\", \"ace\") == ['ace']\n",
    "assert all_longest_common_subsequences(\"abaaa\", \"baabaca\") == ['aaaa', 'abaa', 'baaa']"
   ]
  },
  {
   "cell_type": "markdown",
   "id": "1b3c52ec",
   "metadata": {
    "papermill": {
     "duration": 0.019874,
     "end_time": "2024-05-24T15:47:32.320851",
     "exception": false,
     "start_time": "2024-05-24T15:47:32.300977",
     "status": "completed"
    },
    "tags": []
   },
   "source": [
    "Video Link: https://youtu.be/_wP9mWNPL5w?si=UHRuFgDl6a5g8OlH\n",
    "Longest common Substring"
   ]
  },
  {
   "cell_type": "code",
   "execution_count": 63,
   "id": "95b817c0",
   "metadata": {
    "execution": {
     "iopub.execute_input": "2024-05-24T15:47:32.361578Z",
     "iopub.status.busy": "2024-05-24T15:47:32.361170Z",
     "iopub.status.idle": "2024-05-24T15:47:32.366279Z",
     "shell.execute_reply": "2024-05-24T15:47:32.365817Z"
    },
    "lines_to_next_cell": 1,
    "papermill": {
     "duration": 0.026697,
     "end_time": "2024-05-24T15:47:32.367302",
     "exception": false,
     "start_time": "2024-05-24T15:47:32.340605",
     "status": "completed"
    },
    "tags": []
   },
   "outputs": [],
   "source": [
    "def longestCommonSubstrTab(text1: str, text2: str) -> int:\n",
    "    \"\"\"\n",
    "    Same code as longest common subsequence but with a slight modification.\n",
    "    Here we reset the dp table value to 0 if text1[i] != text2[j] instead of getting the max of dp[i + 1][j] or dp[i][j + 1] since we are not allowed non consequetive values.\n",
    "\n",
    "    Time: O(N1 x N2), Space: O(N1 x N2)\n",
    "    \"\"\"\n",
    "    N1, N2 = len(text1), len(text2)\n",
    "    dp: list[list[int]] = [[0 for j in range(N2 + 1)] for i in range(N1 + 1)]\n",
    "    max_length = 0\n",
    "    for i in range(N1 - 1, -1, -1):\n",
    "        for j in range(N2 - 1, -1, -1):\n",
    "            if text1[i] == text2[j]:\n",
    "                dp[i][j] = dp[i + 1][j + 1] + 1\n",
    "                max_length = max(max_length, dp[i][j])\n",
    "\n",
    "    return max_length\n",
    "\n",
    "# Testing the solution\n",
    "assert longestCommonSubstrTab(\"ABCDGH\", \"ACDGHR\") == 4\n",
    "assert longestCommonSubstrTab(\"ABC\", \"ACB\") == 1"
   ]
  },
  {
   "cell_type": "code",
   "execution_count": 64,
   "id": "f32221a7",
   "metadata": {
    "execution": {
     "iopub.execute_input": "2024-05-24T15:47:32.408454Z",
     "iopub.status.busy": "2024-05-24T15:47:32.408091Z",
     "iopub.status.idle": "2024-05-24T15:47:32.413229Z",
     "shell.execute_reply": "2024-05-24T15:47:32.412740Z"
    },
    "lines_to_next_cell": 1,
    "papermill": {
     "duration": 0.026596,
     "end_time": "2024-05-24T15:47:32.414261",
     "exception": false,
     "start_time": "2024-05-24T15:47:32.387665",
     "status": "completed"
    },
    "tags": []
   },
   "outputs": [],
   "source": [
    "def longestCommonSubstr(text1: str, text2: str) -> int:\n",
    "    \"\"\"Time: O(N1 x N2), Space: O(N2)\"\"\"\n",
    "    N1, N2 = len(text1), len(text2)\n",
    "    dp: list[int] = [0 for j in range(N2 + 1)]\n",
    "    max_length = 0\n",
    "    for i in range(N1 - 1, -1, -1):\n",
    "        next_dp: list[int] = [0]\n",
    "        for j in range(N2 - 1, -1, -1):\n",
    "            if text1[i] == text2[j]:\n",
    "                next_dp.append(1 + dp[j + 1])\n",
    "                max_length = max(max_length, next_dp[-1])\n",
    "            else:\n",
    "                next_dp.append(0)\n",
    "\n",
    "        dp = list(reversed(next_dp))\n",
    "\n",
    "    return max_length\n",
    "\n",
    "# Testing the solution\n",
    "assert longestCommonSubstr(\"ABCDGH\", \"ACDGHR\") == 4\n",
    "assert longestCommonSubstr(\"ABC\", \"ACB\") == 1"
   ]
  },
  {
   "cell_type": "markdown",
   "id": "32bd7ea7",
   "metadata": {
    "papermill": {
     "duration": 0.01946,
     "end_time": "2024-05-24T15:47:32.453524",
     "exception": false,
     "start_time": "2024-05-24T15:47:32.434064",
     "status": "completed"
    },
    "tags": []
   },
   "source": [
    "Video Link: https://youtu.be/6i_T5kkfv4A?si=3pJmCMahWgxxnGRq\n",
    "Longest Palindromic Subsequence"
   ]
  },
  {
   "cell_type": "code",
   "execution_count": 65,
   "id": "d0a53967",
   "metadata": {
    "execution": {
     "iopub.execute_input": "2024-05-24T15:47:32.493440Z",
     "iopub.status.busy": "2024-05-24T15:47:32.492999Z",
     "iopub.status.idle": "2024-05-24T15:47:32.497713Z",
     "shell.execute_reply": "2024-05-24T15:47:32.497267Z"
    },
    "lines_to_next_cell": 1,
    "papermill": {
     "duration": 0.025968,
     "end_time": "2024-05-24T15:47:32.498848",
     "exception": false,
     "start_time": "2024-05-24T15:47:32.472880",
     "status": "completed"
    },
    "tags": []
   },
   "outputs": [],
   "source": [
    "# https://leetcode.com/problems/longest-palindromic-subsequence/submissions/1256744931\n",
    "def longestPalindromeSubseqMemo(text: str) -> int:\n",
    "    @functools.cache\n",
    "    def backtrack(i: int, j: int) -> int:\n",
    "        if i >= j:\n",
    "            return int(i == j)\n",
    "        elif text[i] == text[j]:\n",
    "            return 2 + backtrack(i + 1, j - 1)\n",
    "        else:\n",
    "            return max(backtrack(i + 1, j), backtrack(i, j - 1))\n",
    "\n",
    "    N = len(text)\n",
    "    result = backtrack(0, N - 1)\n",
    "    return result\n",
    "\n",
    "# Testing the solution\n",
    "assert longestPalindromeSubseqMemo(\"bbbab\") == 4\n",
    "assert longestPalindromeSubseqMemo(\"cbbd\") == 2"
   ]
  },
  {
   "cell_type": "code",
   "execution_count": 66,
   "id": "c5612366",
   "metadata": {
    "execution": {
     "iopub.execute_input": "2024-05-24T15:47:32.538839Z",
     "iopub.status.busy": "2024-05-24T15:47:32.538373Z",
     "iopub.status.idle": "2024-05-24T15:47:32.543506Z",
     "shell.execute_reply": "2024-05-24T15:47:32.542974Z"
    },
    "lines_to_next_cell": 1,
    "papermill": {
     "duration": 0.02627,
     "end_time": "2024-05-24T15:47:32.544604",
     "exception": false,
     "start_time": "2024-05-24T15:47:32.518334",
     "status": "completed"
    },
    "tags": []
   },
   "outputs": [],
   "source": [
    "def longestPalindromeSubseqTab(text: str) -> int:\n",
    "    N = len(text)\n",
    "    dp: list[list[int]] = [[0 if j != (N - 1) / 2 else 1 for j in range(N + 1)] for i in range(N + 1)]\n",
    "    for i in range(N - 1, -1, -1):\n",
    "        for j in range(N):\n",
    "            if i >= j:\n",
    "                dp[i][j] = int(i == j)\n",
    "            elif text[i] == text[j]:\n",
    "                dp[i][j] = 2 + dp[i + 1][j - 1]\n",
    "            else:\n",
    "                dp[i][j] = max(dp[i + 1][j], dp[i][j - 1])\n",
    "\n",
    "    return dp[0][N - 1]\n",
    "\n",
    "# Testing the solution\n",
    "assert longestPalindromeSubseqTab(\"bbbab\") == 4\n",
    "assert longestPalindromeSubseqTab(\"cbbd\") == 2"
   ]
  },
  {
   "cell_type": "code",
   "execution_count": 67,
   "id": "a74fa1d5",
   "metadata": {
    "execution": {
     "iopub.execute_input": "2024-05-24T15:47:32.585138Z",
     "iopub.status.busy": "2024-05-24T15:47:32.584592Z",
     "iopub.status.idle": "2024-05-24T15:47:32.589803Z",
     "shell.execute_reply": "2024-05-24T15:47:32.589264Z"
    },
    "lines_to_next_cell": 1,
    "papermill": {
     "duration": 0.026472,
     "end_time": "2024-05-24T15:47:32.590901",
     "exception": false,
     "start_time": "2024-05-24T15:47:32.564429",
     "status": "completed"
    },
    "tags": []
   },
   "outputs": [],
   "source": [
    "# https://leetcode.com/problems/longest-palindromic-subsequence/submissions/1256759252\n",
    "def longestPalindromeSubseq(text: str) -> int:\n",
    "    N = len(text)\n",
    "    dp: list[int] = [0 if j != (N - 1) / 2 else 1 for j in range(N + 1)]\n",
    "    for i in range(N - 1, -1, -1):\n",
    "        next_dp: list[int] = []\n",
    "        for j in range(N):\n",
    "            if i >= j:\n",
    "                next_dp.append(int(i == j))\n",
    "            elif text[i] == text[j]:\n",
    "                next_dp.append(2 + dp[j - 1])\n",
    "            else:\n",
    "                next_dp.append(max(dp[j], next_dp[-1]))\n",
    "\n",
    "        # We run the inner loop for N iterations, dp however has a length of N + 1\n",
    "        # Hence we add 0 in the end to make sure that the values are consistent of DP compute\n",
    "        # We could make this simpler by initializing next_dp as list(dp), but that would\n",
    "        # be wasted O(N) runtime.\n",
    "        next_dp.append(0)\n",
    "        dp = next_dp\n",
    "\n",
    "    return dp[N - 1]\n",
    "\n",
    "# Testing the solution\n",
    "assert longestPalindromeSubseq(\"bbbab\") == 4\n",
    "assert longestPalindromeSubseq(\"cbbd\") == 2"
   ]
  },
  {
   "cell_type": "code",
   "execution_count": 68,
   "id": "e94ba584",
   "metadata": {
    "execution": {
     "iopub.execute_input": "2024-05-24T15:47:32.632378Z",
     "iopub.status.busy": "2024-05-24T15:47:32.631862Z",
     "iopub.status.idle": "2024-05-24T15:47:32.637030Z",
     "shell.execute_reply": "2024-05-24T15:47:32.636573Z"
    },
    "lines_to_next_cell": 1,
    "papermill": {
     "duration": 0.026706,
     "end_time": "2024-05-24T15:47:32.638117",
     "exception": false,
     "start_time": "2024-05-24T15:47:32.611411",
     "status": "completed"
    },
    "tags": []
   },
   "outputs": [],
   "source": [
    "def longestPalindromeSubseqStriver(text: str) -> int:\n",
    "    \"\"\"\n",
    "    1. We reverse text.\n",
    "    2. Whatever value is the LCS of both the texts, that is our desired answer\n",
    "    \"\"\"\n",
    "    def LCS(text1: str, text2: str) -> int:\n",
    "        N = len(text1)\n",
    "        dp: list[int] = [0 for j in range(N + 1)]\n",
    "        for i in range(N - 1, -1, -1):\n",
    "            next_dp: list[int] = list(dp)\n",
    "            for j in range(N - 1, -1, -1):\n",
    "                if text1[i] == text2[j]:\n",
    "                    next_dp[j] = 1 + dp[j + 1]\n",
    "                else:\n",
    "                    next_dp[j] = max(dp[j], next_dp[j + 1])\n",
    "            dp = next_dp\n",
    "\n",
    "        return dp[0]\n",
    "\n",
    "    return LCS(text, text[::-1])\n",
    "\n",
    "# Testing the solution\n",
    "assert longestPalindromeSubseqStriver(\"bbbab\") == 4\n",
    "assert longestPalindromeSubseqStriver(\"cbbd\") == 2"
   ]
  },
  {
   "cell_type": "code",
   "execution_count": 69,
   "id": "5a62593a",
   "metadata": {
    "execution": {
     "iopub.execute_input": "2024-05-24T15:47:32.678486Z",
     "iopub.status.busy": "2024-05-24T15:47:32.678110Z",
     "iopub.status.idle": "2024-05-24T15:47:32.680706Z",
     "shell.execute_reply": "2024-05-24T15:47:32.680265Z"
    },
    "papermill": {
     "duration": 0.023579,
     "end_time": "2024-05-24T15:47:32.681764",
     "exception": false,
     "start_time": "2024-05-24T15:47:32.658185",
     "status": "completed"
    },
    "tags": []
   },
   "outputs": [],
   "source": [
    "# Video link: https://youtu.be/xPBLEj41rFU?si=TkaEwZIQqY7WkasB\n",
    "# Minimum insertions to make a string palindromic"
   ]
  },
  {
   "cell_type": "code",
   "execution_count": 70,
   "id": "a73343a1",
   "metadata": {
    "execution": {
     "iopub.execute_input": "2024-05-24T15:47:32.722053Z",
     "iopub.status.busy": "2024-05-24T15:47:32.721599Z",
     "iopub.status.idle": "2024-05-24T15:47:32.726212Z",
     "shell.execute_reply": "2024-05-24T15:47:32.725756Z"
    },
    "lines_to_next_cell": 1,
    "papermill": {
     "duration": 0.026023,
     "end_time": "2024-05-24T15:47:32.727289",
     "exception": false,
     "start_time": "2024-05-24T15:47:32.701266",
     "status": "completed"
    },
    "tags": []
   },
   "outputs": [],
   "source": [
    "# https://leetcode.com/problems/minimum-insertion-steps-to-make-a-string-palindrome/submissions/1256992480/\n",
    "def minInsertions(text: str) -> int:\n",
    "    \"\"\"\n",
    "    1. Find the longest palindromic substring\n",
    "    2. Minimum insertions required would be length of the N - longest palindromic substr\n",
    "    \"\"\"\n",
    "\n",
    "    @functools.cache\n",
    "    def longestPalindromicSubstrLength(i: int, j: int) -> int:\n",
    "        if i >= j:\n",
    "            return int(i == j)\n",
    "        elif text[i] == text[j]:\n",
    "            return 2 + longestPalindromicSubstrLength(i + 1, j - 1)\n",
    "        else:\n",
    "            return max(longestPalindromicSubstrLength(i + 1, j), longestPalindromicSubstrLength(i, j - 1))\n",
    "\n",
    "    N = len(text)\n",
    "    return N - longestPalindromicSubstrLength(0, N - 1)\n",
    "\n",
    "# Testing the solution\n",
    "assert minInsertions(\"mbadm\") == 2\n",
    "assert minInsertions(\"leetcode\") == 5"
   ]
  },
  {
   "cell_type": "markdown",
   "id": "76604d02",
   "metadata": {
    "papermill": {
     "duration": 0.019154,
     "end_time": "2024-05-24T15:47:32.766028",
     "exception": false,
     "start_time": "2024-05-24T15:47:32.746874",
     "status": "completed"
    },
    "tags": []
   },
   "source": [
    "Minimum ops to convert s1 to s2\n",
    "Video Link: https://youtu.be/yMnH0jrir0Q?si=WNsLNkqd3rhHqzDX"
   ]
  },
  {
   "cell_type": "code",
   "execution_count": 71,
   "id": "07d4a7a1",
   "metadata": {
    "execution": {
     "iopub.execute_input": "2024-05-24T15:47:32.805767Z",
     "iopub.status.busy": "2024-05-24T15:47:32.805170Z",
     "iopub.status.idle": "2024-05-24T15:47:32.811715Z",
     "shell.execute_reply": "2024-05-24T15:47:32.811270Z"
    },
    "lines_to_next_cell": 1,
    "papermill": {
     "duration": 0.027514,
     "end_time": "2024-05-24T15:47:32.812771",
     "exception": false,
     "start_time": "2024-05-24T15:47:32.785257",
     "status": "completed"
    },
    "tags": []
   },
   "outputs": [],
   "source": [
    "# https://leetcode.com/problems/delete-operation-for-two-strings/submissions/1257015539\n",
    "def minDistance(word1: str, word2: str) -> int:\n",
    "    \"\"\"\n",
    "    The idea is to think about what characters we should leave untouched. In this\n",
    "    case, we can leave out characters that are subsequences also present in word2.o\n",
    "\n",
    "    Hence logic: Find length of longest common subsequence -> (N1 - S) + (N2 - S)\n",
    "    \"\"\"\n",
    "    N1, N2 = len(word1), len(word2)\n",
    "    dp: list[int] = [0 for j in range(N2 + 1)]\n",
    "    for i in range(N1 - 1, -1, -1):\n",
    "        next_dp: list[int] = [0]\n",
    "        for j in range(N2 - 1, -1, -1):\n",
    "            if word1[i] == word2[j]:\n",
    "                next_dp.append(1 + dp[j + 1])\n",
    "            else:\n",
    "                next_dp.append(max(dp[j], next_dp[-1]))\n",
    "\n",
    "        next_dp.reverse()\n",
    "        dp = next_dp\n",
    "\n",
    "    substr_length = dp[0]\n",
    "    return (N1 - substr_length) + (N2 - substr_length)\n",
    "\n",
    "# Testing the solution\n",
    "assert minDistance(\"leetcode\", \"etco\") == 4\n",
    "assert minDistance(\"sea\", \"eat\") == 2"
   ]
  },
  {
   "cell_type": "markdown",
   "id": "899a0256",
   "metadata": {
    "papermill": {
     "duration": 0.018999,
     "end_time": "2024-05-24T15:47:32.851220",
     "exception": false,
     "start_time": "2024-05-24T15:47:32.832221",
     "status": "completed"
    },
    "tags": []
   },
   "source": [
    "Shortest common supersequence: https://youtu.be/xElxAuBcvsU?si=A_v7qeegsKrHgGle\n",
    "https://leetcode.com/problems/shortest-common-supersequence/"
   ]
  },
  {
   "cell_type": "code",
   "execution_count": 72,
   "id": "ddeea61a",
   "metadata": {
    "execution": {
     "iopub.execute_input": "2024-05-24T15:47:32.890564Z",
     "iopub.status.busy": "2024-05-24T15:47:32.890227Z",
     "iopub.status.idle": "2024-05-24T15:47:32.898348Z",
     "shell.execute_reply": "2024-05-24T15:47:32.897905Z"
    },
    "lines_to_next_cell": 1,
    "papermill": {
     "duration": 0.029137,
     "end_time": "2024-05-24T15:47:32.899420",
     "exception": false,
     "start_time": "2024-05-24T15:47:32.870283",
     "status": "completed"
    },
    "tags": []
   },
   "outputs": [],
   "source": [
    "# https://leetcode.com/problems/shortest-common-supersequence/submissions/1257426491\n",
    "def shortestCommonSupersequenceBetter(str1: str, str2: str) -> str:\n",
    "    \"\"\"\n",
    "    Logic: Common characters should be taken once. Add missing characters in order.\n",
    "    \"\"\"\n",
    "    N1, N2 = len(str1), len(str2)\n",
    "\n",
    "    # Compute the DP grid for Longest common subsequence\n",
    "    dp: list[list[int]] = [[0 for j in range(N2 + 1)] for i in range(N1 + 1)]\n",
    "    for i in range(N1 - 1, -1, -1):\n",
    "        for j in range(N2 - 1, -1, -1):\n",
    "            if str1[i] == str2[j]:\n",
    "                dp[i][j] = 1 + dp[i + 1][j + 1]\n",
    "            else:\n",
    "                dp[i][j] = max(dp[i + 1][j], dp[i][j + 1])\n",
    "\n",
    "    # Find out the subsequence\n",
    "    lcs_list: list[str] = []\n",
    "    i = j = 0\n",
    "    while i < N1 and j < N2:\n",
    "        if str1[i] == str2[j]:\n",
    "            lcs_list.append(str1[i])\n",
    "            i, j = i + 1, j + 1\n",
    "        elif dp[i][j + 1] >= dp[i + 1][j]:\n",
    "            j = j + 1\n",
    "        else:\n",
    "            i = i + 1\n",
    "\n",
    "    # Compute LCS string\n",
    "    lcs_list.append(\"*\")\n",
    "    lcs = ''.join(lcs_list)\n",
    "    N3 = len(lcs)\n",
    "\n",
    "    # Add the missing characters in order\n",
    "    i = j = k = 0\n",
    "    supersequence_list: list[str] = []\n",
    "    while k < N3:\n",
    "        while i < N1 and str1[i] != lcs[k]:\n",
    "            supersequence_list.append(str1[i])\n",
    "            i += 1\n",
    "        while j < N2 and str2[j] != lcs[k]:\n",
    "            supersequence_list.append(str2[j])\n",
    "            j += 1\n",
    "        supersequence_list.append(lcs[k])\n",
    "        i, j, k = i + 1, j + 1, k + 1\n",
    "\n",
    "    supersequence_list.pop()\n",
    "    return ''.join(supersequence_list)\n",
    "\n",
    "# Testing the solution\n",
    "assert len(shortestCommonSupersequenceBetter(\"abac\", \"cab\")) == 5\n",
    "assert len(shortestCommonSupersequenceBetter(\"brute\", \"groot\")) == 8"
   ]
  },
  {
   "cell_type": "code",
   "execution_count": 73,
   "id": "e8a2cfe9",
   "metadata": {
    "execution": {
     "iopub.execute_input": "2024-05-24T15:47:32.959288Z",
     "iopub.status.busy": "2024-05-24T15:47:32.958744Z",
     "iopub.status.idle": "2024-05-24T15:47:32.965679Z",
     "shell.execute_reply": "2024-05-24T15:47:32.965116Z"
    },
    "lines_to_next_cell": 1,
    "papermill": {
     "duration": 0.047689,
     "end_time": "2024-05-24T15:47:32.966783",
     "exception": false,
     "start_time": "2024-05-24T15:47:32.919094",
     "status": "completed"
    },
    "tags": []
   },
   "outputs": [],
   "source": [
    "# https://leetcode.com/problems/shortest-common-supersequence/submissions/1257436090/\n",
    "def shortestCommonSupersequenceStriver(str1: str, str2: str) -> str:\n",
    "    \"\"\"\n",
    "    Instead of computing the missing characters seperately we add them during out iteration through the DP table itself.\n",
    "    \"\"\"\n",
    "    N1, N2 = len(str1), len(str2)\n",
    "\n",
    "    # Compute the DP grid for Longest common subsequence\n",
    "    dp: list[list[int]] = [[0 for j in range(N2 + 1)] for i in range(N1 + 1)]\n",
    "    for i in range(N1 - 1, -1, -1):\n",
    "        for j in range(N2 - 1, -1, -1):\n",
    "            if str1[i] == str2[j]:\n",
    "                dp[i][j] = 1 + dp[i + 1][j + 1]\n",
    "            else:\n",
    "                dp[i][j] = max(dp[i + 1][j], dp[i][j + 1])\n",
    "\n",
    "    # Find out the supersequence, slight modification to LCS print code\n",
    "    # Instead of iterating until any one of the strings going out of bounds, we iterate until both are out of bounds\n",
    "    # When strings don't match and we go to the direction of maximum in the DP table, we add the string that is being shrunk\n",
    "    # j = j + 1 code => str2[j] is added other wise str1[i]\n",
    "    supersequence_list: list[str] = []\n",
    "    i = j = 0\n",
    "    while i < N1 or j < N2:\n",
    "        if i < N1 and j < N2 and str1[i] == str2[j]:\n",
    "            supersequence_list.append(str1[i])\n",
    "            i, j = i + 1, j + 1\n",
    "        elif i >= N1 or (j < N2 and dp[i][j + 1] >= dp[i + 1][j]):\n",
    "            supersequence_list.append(str2[j])\n",
    "            j = j + 1\n",
    "        else:\n",
    "            supersequence_list.append(str1[i])\n",
    "            i = i + 1\n",
    "\n",
    "    return ''.join(supersequence_list)\n",
    "\n",
    "# Testing the solution\n",
    "assert len(shortestCommonSupersequenceStriver(\"abac\", \"cab\")) == 5\n",
    "assert len(shortestCommonSupersequenceStriver(\"brute\", \"groot\")) == 8"
   ]
  },
  {
   "cell_type": "markdown",
   "id": "2e842207",
   "metadata": {
    "papermill": {
     "duration": 0.020155,
     "end_time": "2024-05-24T15:47:33.007418",
     "exception": false,
     "start_time": "2024-05-24T15:47:32.987263",
     "status": "completed"
    },
    "tags": []
   },
   "source": [
    "Number of Distinct Subsequences: https://leetcode.com/problems/distinct-subsequences\n",
    "Video Link: https://youtu.be/nVG7eTiD2bY?si=aNNyhjH2VDvfErnT\n",
    "Naive Time complexity: Exponential, Space: O(M + N)"
   ]
  },
  {
   "cell_type": "code",
   "execution_count": 74,
   "id": "b80cade8",
   "metadata": {
    "execution": {
     "iopub.execute_input": "2024-05-24T15:47:33.047760Z",
     "iopub.status.busy": "2024-05-24T15:47:33.047210Z",
     "iopub.status.idle": "2024-05-24T15:47:33.051870Z",
     "shell.execute_reply": "2024-05-24T15:47:33.051419Z"
    },
    "lines_to_next_cell": 1,
    "papermill": {
     "duration": 0.026049,
     "end_time": "2024-05-24T15:47:33.052958",
     "exception": false,
     "start_time": "2024-05-24T15:47:33.026909",
     "status": "completed"
    },
    "tags": []
   },
   "outputs": [],
   "source": [
    "def numDistinctMemo(s: str, t: str) -> int:\n",
    "    @functools.cache\n",
    "    def backtrack(i: int, j: int) -> int:\n",
    "        if j >= N2:\n",
    "            return 1\n",
    "        elif i >= N1:\n",
    "            return 0\n",
    "        elif s[i] != t[j]:\n",
    "            return backtrack(i + 1, j)\n",
    "        else:\n",
    "            return backtrack(i + 1, j + 1) + backtrack(i + 1, j)\n",
    "\n",
    "    N1, N2 = len(s), len(t)\n",
    "    return backtrack(0, 0)\n",
    "\n",
    "# Testing the solution\n",
    "assert numDistinctMemo(\"babgbag\", \"bag\") == 5\n",
    "assert numDistinctMemo(\"rabbbit\", \"rabbit\") == 3"
   ]
  },
  {
   "cell_type": "code",
   "execution_count": 75,
   "id": "97af7ce5",
   "metadata": {
    "execution": {
     "iopub.execute_input": "2024-05-24T15:47:33.094511Z",
     "iopub.status.busy": "2024-05-24T15:47:33.093863Z",
     "iopub.status.idle": "2024-05-24T15:47:33.099436Z",
     "shell.execute_reply": "2024-05-24T15:47:33.098855Z"
    },
    "lines_to_next_cell": 1,
    "papermill": {
     "duration": 0.027631,
     "end_time": "2024-05-24T15:47:33.100591",
     "exception": false,
     "start_time": "2024-05-24T15:47:33.072960",
     "status": "completed"
    },
    "tags": []
   },
   "outputs": [],
   "source": [
    "def numDistinctTab(s: str, t: str) -> int:\n",
    "    N1, N2 = len(s), len(t)\n",
    "    dp: list[list[int]] = [[0 if j < N2 else 1 for j in range(N2 + 1)] for i in range(N1 + 1)]\n",
    "    for i in range(N1 - 1, -1, -1):\n",
    "        for j in range(N2 - 1, -1, -1):\n",
    "            if s[i] != t[j]:\n",
    "                dp[i][j] = dp[i + 1][j]\n",
    "            else:\n",
    "                dp[i][j] = dp[i + 1][j + 1] + dp[i + 1][j]\n",
    "\n",
    "    return dp[0][0]\n",
    "\n",
    "# Testing the solution\n",
    "assert numDistinctTab(\"babgbag\", \"bag\") == 5\n",
    "assert numDistinctTab(\"rabbbit\", \"rabbit\") == 3"
   ]
  },
  {
   "cell_type": "code",
   "execution_count": 76,
   "id": "7ac5bcf2",
   "metadata": {
    "execution": {
     "iopub.execute_input": "2024-05-24T15:47:33.142790Z",
     "iopub.status.busy": "2024-05-24T15:47:33.142235Z",
     "iopub.status.idle": "2024-05-24T15:47:33.147720Z",
     "shell.execute_reply": "2024-05-24T15:47:33.147160Z"
    },
    "lines_to_next_cell": 1,
    "papermill": {
     "duration": 0.027617,
     "end_time": "2024-05-24T15:47:33.148878",
     "exception": false,
     "start_time": "2024-05-24T15:47:33.121261",
     "status": "completed"
    },
    "tags": []
   },
   "outputs": [],
   "source": [
    "# https://leetcode.com/problems/distinct-subsequences/submissions/1258020441\n",
    "def numDistinctSpaceOptimized(s: str, t: str) -> int:\n",
    "    N1, N2 = len(s), len(t)\n",
    "    dp: list[int] = [0 if j < N2 else 1 for j in range(N2 + 1)]\n",
    "    for i in range(N1 - 1, -1, -1):\n",
    "        next_dp: list[int] = [1]\n",
    "        for j in range(N2 - 1, -1, -1):\n",
    "            if s[i] != t[j]:\n",
    "                next_dp.append(dp[j])\n",
    "            else:\n",
    "                next_dp.append(dp[j + 1] + dp[j])\n",
    "\n",
    "        next_dp.reverse()\n",
    "        dp = next_dp\n",
    "\n",
    "    return dp[0]\n",
    "\n",
    "# Testing the solution\n",
    "assert numDistinctSpaceOptimized(\"babgbag\", \"bag\") == 5\n",
    "assert numDistinctSpaceOptimized(\"rabbbit\", \"rabbit\") == 3"
   ]
  },
  {
   "cell_type": "code",
   "execution_count": 77,
   "id": "67fc3008",
   "metadata": {
    "execution": {
     "iopub.execute_input": "2024-05-24T15:47:33.193059Z",
     "iopub.status.busy": "2024-05-24T15:47:33.192632Z",
     "iopub.status.idle": "2024-05-24T15:47:33.197311Z",
     "shell.execute_reply": "2024-05-24T15:47:33.196809Z"
    },
    "lines_to_next_cell": 1,
    "papermill": {
     "duration": 0.029245,
     "end_time": "2024-05-24T15:47:33.198469",
     "exception": false,
     "start_time": "2024-05-24T15:47:33.169224",
     "status": "completed"
    },
    "tags": []
   },
   "outputs": [],
   "source": [
    "# https://leetcode.com/problems/distinct-subsequences/submissions/1258288057\n",
    "def numDistinct(s: str, t: str) -> int:\n",
    "    N1, N2 = len(s), len(t)\n",
    "    dp: list[int] = [0 if j < N2 else 1 for j in range(N2 + 1)]\n",
    "    for i in range(N1 - 1, -1, -1):\n",
    "        for j in range(N2):\n",
    "            if s[i] == t[j]:\n",
    "                dp[j] += dp[j + 1]\n",
    "\n",
    "    return dp[0]\n",
    "\n",
    "# Testing the solution\n",
    "assert numDistinct(\"babgbag\", \"bag\") == 5\n",
    "assert numDistinct(\"rabbbit\", \"rabbit\") == 3"
   ]
  },
  {
   "cell_type": "markdown",
   "id": "88f0f8ed",
   "metadata": {
    "papermill": {
     "duration": 0.0197,
     "end_time": "2024-05-24T15:47:33.238277",
     "exception": false,
     "start_time": "2024-05-24T15:47:33.218577",
     "status": "completed"
    },
    "tags": []
   },
   "source": [
    "Edit Distance\n",
    "Video Link: https://youtu.be/fJaKO8FbDdo?si=YtaIzd2Iphw_Vrlc\n",
    "Naive solution time complexity: O(3 ** N x 3 ** M), Space: O(M + N)"
   ]
  },
  {
   "cell_type": "code",
   "execution_count": 78,
   "id": "1ece6567",
   "metadata": {
    "execution": {
     "iopub.execute_input": "2024-05-24T15:47:33.281167Z",
     "iopub.status.busy": "2024-05-24T15:47:33.280770Z",
     "iopub.status.idle": "2024-05-24T15:47:33.286008Z",
     "shell.execute_reply": "2024-05-24T15:47:33.285551Z"
    },
    "lines_to_next_cell": 1,
    "papermill": {
     "duration": 0.027074,
     "end_time": "2024-05-24T15:47:33.287083",
     "exception": false,
     "start_time": "2024-05-24T15:47:33.260009",
     "status": "completed"
    },
    "tags": []
   },
   "outputs": [],
   "source": [
    "# https://leetcode.com/problems/edit-distance/submissions/1258864387/\n",
    "def editDistanceMemo(word1: str, word2: str) -> int:\n",
    "    @functools.cache\n",
    "    def backtrack(i: int, j: int) -> int:\n",
    "        if i >= N1 or j >= N2:\n",
    "            return (N1 - i) + (N2 - j)\n",
    "        elif word1[i] == word2[j]:\n",
    "            return backtrack(i + 1, j + 1)\n",
    "        else:\n",
    "            delete_op = backtrack(i + 1, j)\n",
    "            insert_op = backtrack(i, j + 1)\n",
    "            replace_op = backtrack(i + 1, j + 1)\n",
    "            return 1 + min(delete_op, insert_op, replace_op)\n",
    "\n",
    "    N1, N2 = len(word1), len(word2)\n",
    "    return backtrack(0, 0)\n",
    "\n",
    "# Testing the solution\n",
    "assert editDistanceMemo(\"horse\", \"ros\") == 3\n",
    "assert editDistanceMemo(\"intention\", \"execution\") == 5"
   ]
  },
  {
   "cell_type": "code",
   "execution_count": 79,
   "id": "a32793d7",
   "metadata": {
    "execution": {
     "iopub.execute_input": "2024-05-24T15:47:33.328388Z",
     "iopub.status.busy": "2024-05-24T15:47:33.327982Z",
     "iopub.status.idle": "2024-05-24T15:47:33.333633Z",
     "shell.execute_reply": "2024-05-24T15:47:33.333162Z"
    },
    "lines_to_next_cell": 1,
    "papermill": {
     "duration": 0.027548,
     "end_time": "2024-05-24T15:47:33.334761",
     "exception": false,
     "start_time": "2024-05-24T15:47:33.307213",
     "status": "completed"
    },
    "tags": []
   },
   "outputs": [],
   "source": [
    "def editDistanceTab(word1: str, word2: str) -> int:\n",
    "    N1, N2 = len(word1), len(word2)\n",
    "    dp: list[list[int]] = [[(N1 - i) + (N2 - j) if i >= N1 or j >= N2 else 0 for j in range(N2 + 1)] for i in range(N1 + 1)]\n",
    "    for i in range(N1 - 1, -1, -1):\n",
    "        for j in range(N2 - 1, -1, -1):\n",
    "            if word1[i] == word2[j]:\n",
    "                dp[i][j] = dp[i + 1][j + 1]\n",
    "            else:\n",
    "                dp[i][j] = 1 + min(dp[i + 1][j], dp[i][j + 1], dp[i + 1][j + 1])\n",
    "\n",
    "    return dp[0][0]\n",
    "\n",
    "# Testing the solution\n",
    "assert editDistanceTab(\"horse\", \"ros\") == 3\n",
    "assert editDistanceTab(\"intention\", \"execution\") == 5"
   ]
  },
  {
   "cell_type": "code",
   "execution_count": 80,
   "id": "5af4af2c",
   "metadata": {
    "execution": {
     "iopub.execute_input": "2024-05-24T15:47:33.375622Z",
     "iopub.status.busy": "2024-05-24T15:47:33.375227Z",
     "iopub.status.idle": "2024-05-24T15:47:33.380813Z",
     "shell.execute_reply": "2024-05-24T15:47:33.380345Z"
    },
    "lines_to_next_cell": 1,
    "papermill": {
     "duration": 0.027119,
     "end_time": "2024-05-24T15:47:33.381883",
     "exception": false,
     "start_time": "2024-05-24T15:47:33.354764",
     "status": "completed"
    },
    "tags": []
   },
   "outputs": [],
   "source": [
    "def editDistanceSpaceOptimized(word1: str, word2: str) -> int:\n",
    "    N1, N2 = len(word1), len(word2)\n",
    "    if N1 == 0 or N2 == 0:\n",
    "        return max(N1, N2)\n",
    "\n",
    "    else:\n",
    "        dp: list[int] = [N2 - j for j in range(N2 + 1)]\n",
    "        for i in range(N1 - 1, -1, -1):\n",
    "            dp[-1] = N1 - i - 1\n",
    "            next_dp: list[int] = list(dp)\n",
    "            for j in range(N2 - 1, -1, -1):\n",
    "                if word1[i] == word2[j]:\n",
    "                    next_dp[j] = dp[j + 1]\n",
    "                else:\n",
    "                    next_dp[j] = 1 + min(dp[j], dp[j + 1], next_dp[j + 1])\n",
    "\n",
    "            dp = next_dp\n",
    "\n",
    "        return dp[0]\n",
    "\n",
    "# Testing the solution\n",
    "assert editDistanceSpaceOptimized(\"horse\", \"ros\") == 3\n",
    "assert editDistanceSpaceOptimized(\"intention\", \"execution\") == 5"
   ]
  },
  {
   "cell_type": "markdown",
   "id": "06a1202d",
   "metadata": {
    "papermill": {
     "duration": 0.019675,
     "end_time": "2024-05-24T15:47:33.422246",
     "exception": false,
     "start_time": "2024-05-24T15:47:33.402571",
     "status": "completed"
    },
    "tags": []
   },
   "source": [
    "Video Link: https://youtu.be/ZmlQ3vgAOMo?si=E_X4r10aFkD_A9Nn\n",
    "Wildcard Matching"
   ]
  },
  {
   "cell_type": "code",
   "execution_count": 81,
   "id": "fc9c33aa",
   "metadata": {
    "execution": {
     "iopub.execute_input": "2024-05-24T15:47:33.462777Z",
     "iopub.status.busy": "2024-05-24T15:47:33.462219Z",
     "iopub.status.idle": "2024-05-24T15:47:33.468072Z",
     "shell.execute_reply": "2024-05-24T15:47:33.467626Z"
    },
    "lines_to_next_cell": 1,
    "papermill": {
     "duration": 0.027459,
     "end_time": "2024-05-24T15:47:33.469248",
     "exception": false,
     "start_time": "2024-05-24T15:47:33.441789",
     "status": "completed"
    },
    "tags": []
   },
   "outputs": [],
   "source": [
    "def isMatchMemo(s: str, p: str) -> bool:\n",
    "    @functools.cache\n",
    "    def backtrack(i: int, j: int) -> bool:\n",
    "        if i >= N1 and j >= N2:\n",
    "            return True\n",
    "        elif i >= N1 or j >= N2:\n",
    "            return False\n",
    "        elif s[i] == p[j] or p[j] == '?':\n",
    "            return backtrack(i + 1, j + 1)\n",
    "        elif p[j] == '*':\n",
    "            # consume s[i] or don't consume s[i]\n",
    "            return backtrack(i + 1, j) or backtrack(i, j + 1)\n",
    "        else:\n",
    "            return False\n",
    "\n",
    "    s, p = s + '$', p + '$'\n",
    "    N1, N2 = len(s), len(p)\n",
    "    return backtrack(0, 0)\n",
    "\n",
    "# Testing the solution\n",
    "assert isMatchMemo(\"d\", \"*d\") == True\n",
    "assert isMatchMemo(\"abacd\", \"*c?\") == True\n",
    "assert isMatchMemo(\"aa\", \"*\") == True\n",
    "assert isMatchMemo(\"cb\", \"?a\") == False\n",
    "assert isMatchMemo(\"cb\", \"?a\") == False\n",
    "assert isMatchMemo(\"abcabczzzde\", \"*abc???de*\") == True\n",
    "assert isMatchMemo(\"aaa\", \"***a\") == True"
   ]
  },
  {
   "cell_type": "code",
   "execution_count": 82,
   "id": "66694128",
   "metadata": {
    "execution": {
     "iopub.execute_input": "2024-05-24T15:47:33.511553Z",
     "iopub.status.busy": "2024-05-24T15:47:33.511054Z",
     "iopub.status.idle": "2024-05-24T15:47:33.517245Z",
     "shell.execute_reply": "2024-05-24T15:47:33.516661Z"
    },
    "lines_to_next_cell": 1,
    "papermill": {
     "duration": 0.028369,
     "end_time": "2024-05-24T15:47:33.518413",
     "exception": false,
     "start_time": "2024-05-24T15:47:33.490044",
     "status": "completed"
    },
    "tags": []
   },
   "outputs": [],
   "source": [
    "def isMatchTab(s: str, p: str) -> bool:\n",
    "    s, p = s + '$', p + '$'\n",
    "    N1, N2 = len(s), len(p)\n",
    "    dp: list[list[bool]] = [[True if i >= N1 and j >= N2 else False for j in range(N2 + 1)] for i in range(N1 + 1)]\n",
    "    for i in range(N1 - 1, -1, -1):\n",
    "        for j in range(N2 - 1, -1, -1):\n",
    "            if s[i] == p[j] or p[j] == '?':\n",
    "                dp[i][j] = dp[i + 1][j + 1]\n",
    "            elif p[j] == '*':\n",
    "                dp[i][j] = dp[i + 1][j] or dp[i][j + 1]\n",
    "            else:\n",
    "                dp[i][j] = False\n",
    "\n",
    "    return dp[0][0]\n",
    "\n",
    "# Testing the solution\n",
    "assert isMatchTab(\"abacd\", \"*c?\") == True\n",
    "assert isMatchTab(\"abcabczzzde\", \"*abc???de*\") == True\n",
    "assert isMatchTab(\"aaa\", \"***?\") == True"
   ]
  },
  {
   "cell_type": "code",
   "execution_count": 83,
   "id": "1803ba8d",
   "metadata": {
    "execution": {
     "iopub.execute_input": "2024-05-24T15:47:33.560597Z",
     "iopub.status.busy": "2024-05-24T15:47:33.560316Z",
     "iopub.status.idle": "2024-05-24T15:47:33.565980Z",
     "shell.execute_reply": "2024-05-24T15:47:33.565507Z"
    },
    "lines_to_next_cell": 1,
    "papermill": {
     "duration": 0.028064,
     "end_time": "2024-05-24T15:47:33.567063",
     "exception": false,
     "start_time": "2024-05-24T15:47:33.538999",
     "status": "completed"
    },
    "tags": []
   },
   "outputs": [],
   "source": [
    "# https://leetcode.com/problems/wildcard-matching/submissions/1259222651\n",
    "def isMatch(s: str, p: str) -> bool:\n",
    "    s, p = s + '$', p + '$'\n",
    "    N1, N2 = len(s), len(p)\n",
    "    dp: list[bool] = [True if j >= N2 else False for j in range(N2 + 1)]\n",
    "    for i in range(N1 - 1, -1, -1):\n",
    "        next_dp: list[bool] = list(dp)\n",
    "        for j in range(N2 - 1, -1, -1):\n",
    "            if s[i] == p[j] or p[j] == '?':\n",
    "                next_dp[j] = dp[j + 1]\n",
    "            elif p[j] == '*':\n",
    "                next_dp[j] = dp[j] or next_dp[j + 1]\n",
    "            else:\n",
    "                next_dp[j] = False\n",
    "\n",
    "        dp = next_dp\n",
    "\n",
    "    return dp[0]\n",
    "\n",
    "# Testing the solution\n",
    "assert isMatch(\"abacd\", \"*c?\") == True\n",
    "assert isMatch(\"abcabczzzde\", \"*abc???de*\") == True\n",
    "assert isMatch(\"aaa\", \"***?\") == True"
   ]
  },
  {
   "cell_type": "markdown",
   "id": "0af9e13b",
   "metadata": {
    "papermill": {
     "duration": 0.020046,
     "end_time": "2024-05-24T15:47:33.607685",
     "exception": false,
     "start_time": "2024-05-24T15:47:33.587639",
     "status": "completed"
    },
    "tags": []
   },
   "source": [
    "Best time to buy and sell stocks - II\n",
    "Video Link: https://youtu.be/nGJmxkUJQGs?si=xgX1LFznD2IAPCJ7"
   ]
  },
  {
   "cell_type": "code",
   "execution_count": 84,
   "id": "0b5303c1",
   "metadata": {
    "execution": {
     "iopub.execute_input": "2024-05-24T15:47:33.649705Z",
     "iopub.status.busy": "2024-05-24T15:47:33.649221Z",
     "iopub.status.idle": "2024-05-24T15:47:33.654348Z",
     "shell.execute_reply": "2024-05-24T15:47:33.653875Z"
    },
    "lines_to_next_cell": 1,
    "papermill": {
     "duration": 0.027653,
     "end_time": "2024-05-24T15:47:33.655419",
     "exception": false,
     "start_time": "2024-05-24T15:47:33.627766",
     "status": "completed"
    },
    "tags": []
   },
   "outputs": [],
   "source": [
    "def stocks1Memo(prices: list[int]) -> int:\n",
    "    @functools.cache\n",
    "    def backtrack(i: int, inventory: int) -> int:\n",
    "        if i == N:\n",
    "            return 0\n",
    "        elif inventory == -1:\n",
    "            return max(backtrack(i + 1, i), backtrack(i + 1, -1))\n",
    "        else:\n",
    "            return max(prices[i] - prices[inventory] + backtrack(i + 1, -1), backtrack(i + 1, inventory))\n",
    "\n",
    "    N = len(prices)\n",
    "    return backtrack(0, -1)\n",
    "\n",
    "# Testing the solution\n",
    "assert stocks1Memo([7,1,5,3,6,4]) == 7\n",
    "assert stocks1Memo([1,2,3,4,5]) == 4\n",
    "assert stocks1Memo([7,6,4,3,1]) == 0"
   ]
  },
  {
   "cell_type": "code",
   "execution_count": 85,
   "id": "b24f5c40",
   "metadata": {
    "execution": {
     "iopub.execute_input": "2024-05-24T15:47:33.697345Z",
     "iopub.status.busy": "2024-05-24T15:47:33.696832Z",
     "iopub.status.idle": "2024-05-24T15:47:33.702011Z",
     "shell.execute_reply": "2024-05-24T15:47:33.701541Z"
    },
    "lines_to_next_cell": 1,
    "papermill": {
     "duration": 0.02709,
     "end_time": "2024-05-24T15:47:33.703107",
     "exception": false,
     "start_time": "2024-05-24T15:47:33.676017",
     "status": "completed"
    },
    "tags": []
   },
   "outputs": [],
   "source": [
    "# Striver's approach\n",
    "def stocks1StriverMemo(prices: list[int]) -> int:\n",
    "    @functools.cache\n",
    "    def backtrack(i: int, inventory: bool) -> int:\n",
    "        if i == N:\n",
    "            return 0\n",
    "        elif not inventory: # No stock previously purchased: buy or not buy\n",
    "            return max(-prices[i] + backtrack(i + 1, True), backtrack(i + 1, False))\n",
    "        else: # Stock already exists: sell or hold stock\n",
    "            return max(prices[i] + backtrack(i + 1, False), backtrack(i + 1, True))\n",
    "\n",
    "    N = len(prices)\n",
    "    return backtrack(0, False)\n",
    "\n",
    "# Testing the solution\n",
    "assert stocks1StriverMemo([7,1,5,3,6,4]) == 7\n",
    "assert stocks1StriverMemo([1,2,3,4,5]) == 4\n",
    "assert stocks1StriverMemo([7,6,4,3,1]) == 0"
   ]
  },
  {
   "cell_type": "code",
   "execution_count": 86,
   "id": "6e752e9f",
   "metadata": {
    "execution": {
     "iopub.execute_input": "2024-05-24T15:47:33.745293Z",
     "iopub.status.busy": "2024-05-24T15:47:33.744864Z",
     "iopub.status.idle": "2024-05-24T15:47:33.750513Z",
     "shell.execute_reply": "2024-05-24T15:47:33.750025Z"
    },
    "lines_to_next_cell": 1,
    "papermill": {
     "duration": 0.027955,
     "end_time": "2024-05-24T15:47:33.751647",
     "exception": false,
     "start_time": "2024-05-24T15:47:33.723692",
     "status": "completed"
    },
    "tags": []
   },
   "outputs": [],
   "source": [
    "def stocks1Tab(prices: list[int]) -> int:\n",
    "    N = len(prices)\n",
    "    dp: list[list[int]] = [[0 for j in range(2)] for i in range(N + 1)]\n",
    "    for i in range(N - 1, -1, -1):\n",
    "        for j in range(1, -1, -1):\n",
    "            if j == 0:\n",
    "                dp[i][j] = max(-prices[i] + dp[i + 1][1], dp[i + 1][0])\n",
    "            else:\n",
    "                dp[i][j] = max(prices[i] + dp[i + 1][0], dp[i + 1][1])\n",
    "\n",
    "    return dp[0][0]\n",
    "\n",
    "# Testing the solution\n",
    "assert stocks1Tab([7,1,5,3,6,4]) == 7\n",
    "assert stocks1Tab([1,2,3,4,5]) == 4\n",
    "assert stocks1Tab([7,6,4,3,1]) == 0"
   ]
  },
  {
   "cell_type": "code",
   "execution_count": 87,
   "id": "32c0e187",
   "metadata": {
    "execution": {
     "iopub.execute_input": "2024-05-24T15:47:33.794571Z",
     "iopub.status.busy": "2024-05-24T15:47:33.794278Z",
     "iopub.status.idle": "2024-05-24T15:47:33.799739Z",
     "shell.execute_reply": "2024-05-24T15:47:33.799157Z"
    },
    "lines_to_next_cell": 1,
    "papermill": {
     "duration": 0.028973,
     "end_time": "2024-05-24T15:47:33.801117",
     "exception": false,
     "start_time": "2024-05-24T15:47:33.772144",
     "status": "completed"
    },
    "tags": []
   },
   "outputs": [],
   "source": [
    "# https://leetcode.com/problems/best-time-to-buy-and-sell-stock-ii/submissions/1259669260\n",
    "def stocks1(prices: list[int]) -> int:\n",
    "    N = len(prices)\n",
    "    dp: list[int] = [0 for j in range(2)]\n",
    "    for i in range(N - 1, -1, -1):\n",
    "        for j in range(1, -1, -1):\n",
    "            if j == 0:\n",
    "                dp[j] = max(-prices[i] + dp[1], dp[0])\n",
    "            else:\n",
    "                dp[j] = max(prices[i] + dp[0], dp[1])\n",
    "\n",
    "    return dp[0]\n",
    "\n",
    "# Testing the solution\n",
    "assert stocks1([7,1,5,3,6,4]) == 7\n",
    "assert stocks1([1,2,3,4,5]) == 4\n",
    "assert stocks1([7,6,4,3,1]) == 0"
   ]
  },
  {
   "cell_type": "markdown",
   "id": "f99546d3",
   "metadata": {
    "papermill": {
     "duration": 0.033729,
     "end_time": "2024-05-24T15:47:33.862370",
     "exception": false,
     "start_time": "2024-05-24T15:47:33.828641",
     "status": "completed"
    },
    "tags": []
   },
   "source": [
    "Video Link: https://youtu.be/-uQGzhYj8BQ?si=-Ps8pCdPtuWjuTQZ\n",
    "Buy and Sell Stocks - III: https://leetcode.com/problems/best-time-to-buy-and-sell-stock-iii/"
   ]
  },
  {
   "cell_type": "code",
   "execution_count": 88,
   "id": "8939c406",
   "metadata": {
    "execution": {
     "iopub.execute_input": "2024-05-24T15:47:33.927559Z",
     "iopub.status.busy": "2024-05-24T15:47:33.927268Z",
     "iopub.status.idle": "2024-05-24T15:47:33.932867Z",
     "shell.execute_reply": "2024-05-24T15:47:33.932186Z"
    },
    "lines_to_next_cell": 1,
    "papermill": {
     "duration": 0.035435,
     "end_time": "2024-05-24T15:47:33.934514",
     "exception": false,
     "start_time": "2024-05-24T15:47:33.899079",
     "status": "completed"
    },
    "tags": []
   },
   "outputs": [],
   "source": [
    "def stocks2Memo(prices: list[int]) -> int:\n",
    "    \"\"\"\n",
    "    0 - Start\n",
    "    1 - Buy 1\n",
    "    2 - Sell 1\n",
    "    3 - Buy 2\n",
    "    4 - Sell 2\n",
    "    \"\"\"\n",
    "    @functools.cache\n",
    "    def backtrack(i: int, j: int) -> int:\n",
    "        if i == N or j == 4:\n",
    "            return 0\n",
    "        elif j % 2 == 0: # Not holding any stock: buy / not buy\n",
    "            return max(-prices[i] + backtrack(i + 1, j + 1), backtrack(i + 1, j))\n",
    "        else:\n",
    "            return max(prices[i] + backtrack(i + 1, j + 1), backtrack(i + 1, j))\n",
    "\n",
    "    N = len(prices)\n",
    "    return backtrack(0, 0)\n",
    "\n",
    "# Testing the solution\n",
    "assert stocks2Memo([3,3,5,0,0,3,1,4]) == 6\n",
    "assert stocks2Memo([1,2,3,4,5]) == 4\n",
    "assert stocks2Memo([7,6,4,3,1]) == 0"
   ]
  },
  {
   "cell_type": "code",
   "execution_count": 89,
   "id": "4f33510b",
   "metadata": {
    "execution": {
     "iopub.execute_input": "2024-05-24T15:47:33.986870Z",
     "iopub.status.busy": "2024-05-24T15:47:33.986471Z",
     "iopub.status.idle": "2024-05-24T15:47:33.991948Z",
     "shell.execute_reply": "2024-05-24T15:47:33.991500Z"
    },
    "lines_to_next_cell": 1,
    "papermill": {
     "duration": 0.029544,
     "end_time": "2024-05-24T15:47:33.993039",
     "exception": false,
     "start_time": "2024-05-24T15:47:33.963495",
     "status": "completed"
    },
    "tags": []
   },
   "outputs": [],
   "source": [
    "def stocks2Tab(prices: list[int]) -> int:\n",
    "    N = len(prices)\n",
    "    dp: list[list[int]] = [[0 for j in range(5)] for i in range(N + 1)]\n",
    "    for i in range(N - 1, -1, -1):\n",
    "        for j in range(3, -1, -1):\n",
    "            if j % 2 == 0: # Not holding any stock: buy / not buy\n",
    "                dp[i][j] = max(-prices[i] + dp[i + 1][j + 1], dp[i + 1][j])\n",
    "            else:\n",
    "                dp[i][j] = max(prices[i] + dp[i + 1][j + 1], dp[i + 1][j])\n",
    "\n",
    "    return dp[0][0]\n",
    "\n",
    "# Testing the solution\n",
    "assert stocks2Tab([3,3,5,0,0,3,1,4]) == 6\n",
    "assert stocks2Tab([1,2,3,4,5]) == 4\n",
    "assert stocks2Tab([7,6,4,3,1]) == 0"
   ]
  },
  {
   "cell_type": "code",
   "execution_count": 90,
   "id": "2d27ea1d",
   "metadata": {
    "execution": {
     "iopub.execute_input": "2024-05-24T15:47:34.044537Z",
     "iopub.status.busy": "2024-05-24T15:47:34.044055Z",
     "iopub.status.idle": "2024-05-24T15:47:34.049383Z",
     "shell.execute_reply": "2024-05-24T15:47:34.048875Z"
    },
    "lines_to_next_cell": 1,
    "papermill": {
     "duration": 0.02761,
     "end_time": "2024-05-24T15:47:34.050496",
     "exception": false,
     "start_time": "2024-05-24T15:47:34.022886",
     "status": "completed"
    },
    "tags": []
   },
   "outputs": [],
   "source": [
    "# https://leetcode.com/problems/best-time-to-buy-and-sell-stock-iii/submissions/1259699363\n",
    "def stocks2(prices: list[int]) -> int:\n",
    "    N = len(prices)\n",
    "    dp: list[int] = [0 for j in range(5)]\n",
    "    for i in range(N - 1, -1, -1):\n",
    "        for j in range(3, -1, -1):\n",
    "            if j % 2 == 0: # Not holding any stock: buy / not buy\n",
    "                dp[j] = max(-prices[i] + dp[j + 1], dp[j])\n",
    "            else:\n",
    "                dp[j] = max(prices[i] + dp[j + 1], dp[j])\n",
    "\n",
    "    return dp[0]\n",
    "\n",
    "# Testing the solution\n",
    "assert stocks2([3,3,5,0,0,3,1,4]) == 6\n",
    "assert stocks2([1,2,3,4,5]) == 4\n",
    "assert stocks2([7,6,4,3,1]) == 0"
   ]
  },
  {
   "cell_type": "markdown",
   "id": "3105a916",
   "metadata": {
    "papermill": {
     "duration": 0.019806,
     "end_time": "2024-05-24T15:47:34.091080",
     "exception": false,
     "start_time": "2024-05-24T15:47:34.071274",
     "status": "completed"
    },
    "tags": []
   },
   "source": [
    "Best time to buy and sell stocks - IV\n",
    "Video Link: https://youtu.be/IV1dHbk5CDc?si=zvqGmxYAZN10-UGg"
   ]
  },
  {
   "cell_type": "code",
   "execution_count": 91,
   "id": "9619fbbe",
   "metadata": {
    "execution": {
     "iopub.execute_input": "2024-05-24T15:47:34.131768Z",
     "iopub.status.busy": "2024-05-24T15:47:34.131299Z",
     "iopub.status.idle": "2024-05-24T15:47:34.136335Z",
     "shell.execute_reply": "2024-05-24T15:47:34.135882Z"
    },
    "lines_to_next_cell": 1,
    "papermill": {
     "duration": 0.02675,
     "end_time": "2024-05-24T15:47:34.137500",
     "exception": false,
     "start_time": "2024-05-24T15:47:34.110750",
     "status": "completed"
    },
    "tags": []
   },
   "outputs": [],
   "source": [
    "# Minor update on the previous problem\n",
    "def stocks3(k: int, prices: list[int]) -> int:\n",
    "    N = len(prices)\n",
    "    max_transaction = 2 * k\n",
    "    dp: list[int] = [0 for j in range(max_transaction + 1)]\n",
    "    for i in range(N - 1, -1, -1):\n",
    "        for j in range(max_transaction - 1, -1, -1):\n",
    "            if j % 2 == 0: # Not holding any stock: buy / not buy\n",
    "                dp[j] = max(-prices[i] + dp[j + 1], dp[j])\n",
    "            else:\n",
    "                dp[j] = max(prices[i] + dp[j + 1], dp[j])\n",
    "\n",
    "    return dp[0]\n",
    "\n",
    "# Testing the solution\n",
    "assert stocks3(2, [2,4,1]) == 2\n",
    "assert stocks3(2, [3,2,6,5,0,3]) == 7"
   ]
  },
  {
   "cell_type": "code",
   "execution_count": 92,
   "id": "317bdab8",
   "metadata": {
    "execution": {
     "iopub.execute_input": "2024-05-24T15:47:34.180222Z",
     "iopub.status.busy": "2024-05-24T15:47:34.179701Z",
     "iopub.status.idle": "2024-05-24T15:47:34.184902Z",
     "shell.execute_reply": "2024-05-24T15:47:34.184380Z"
    },
    "lines_to_next_cell": 1,
    "papermill": {
     "duration": 0.02786,
     "end_time": "2024-05-24T15:47:34.186007",
     "exception": false,
     "start_time": "2024-05-24T15:47:34.158147",
     "status": "completed"
    },
    "tags": []
   },
   "outputs": [],
   "source": [
    "# Let's try striver's approach of using a 3D array\n",
    "def stocks3StriverMemo(k: int, prices: list[int]) -> int:\n",
    "    @functools.cache\n",
    "    def backtrack(i: int, inventory: bool, count: int) -> int:\n",
    "        if i == N or count == k:\n",
    "            return 0\n",
    "        elif not inventory: # Not holding any stock\n",
    "            return max(-prices[i] + backtrack(i + 1, True, count), backtrack(i + 1, False, count))\n",
    "        else:\n",
    "            return max(prices[i] + backtrack(i + 1, False, count + 1), backtrack(i + 1, True, count))\n",
    "\n",
    "    N = len(prices)\n",
    "    return backtrack(0, 0, 0)\n",
    "\n",
    "# Testing the solution\n",
    "assert stocks3StriverMemo(2, [2,4,1]) == 2\n",
    "assert stocks3StriverMemo(2, [3,2,6,5,0,3]) == 7"
   ]
  },
  {
   "cell_type": "code",
   "execution_count": 93,
   "id": "a04d3d04",
   "metadata": {
    "execution": {
     "iopub.execute_input": "2024-05-24T15:47:34.227385Z",
     "iopub.status.busy": "2024-05-24T15:47:34.226854Z",
     "iopub.status.idle": "2024-05-24T15:47:34.232701Z",
     "shell.execute_reply": "2024-05-24T15:47:34.232161Z"
    },
    "lines_to_next_cell": 1,
    "papermill": {
     "duration": 0.027229,
     "end_time": "2024-05-24T15:47:34.233768",
     "exception": false,
     "start_time": "2024-05-24T15:47:34.206539",
     "status": "completed"
    },
    "tags": []
   },
   "outputs": [],
   "source": [
    "def stocks3StriverTab(K: int, prices: list[int]) -> int:\n",
    "    N = len(prices)\n",
    "    dp: list[list[list[int]]] = [[[0 for count in range(K + 1)] for j in range(2)] for i in range(N + 1)]\n",
    "    for i in range(N - 1, -1, -1):\n",
    "        for j in range(1, -1, -1):\n",
    "            for count in range(K - 1, -1, -1):\n",
    "                if j == 0:\n",
    "                    dp[i][j][count] = max(-prices[i] + dp[i + 1][1][count], dp[i + 1][0][count])\n",
    "                else:\n",
    "                    dp[i][j][count] = max(prices[i] + dp[i + 1][0][count + 1], dp[i + 1][1][count])\n",
    "\n",
    "    return dp[0][0][0]\n",
    "\n",
    "# Testing the solution\n",
    "assert stocks3StriverTab(2, [2,4,1]) == 2\n",
    "assert stocks3StriverTab(2, [3,2,6,5,0,3]) == 7"
   ]
  },
  {
   "cell_type": "code",
   "execution_count": 94,
   "id": "f4b496e3",
   "metadata": {
    "execution": {
     "iopub.execute_input": "2024-05-24T15:47:34.274951Z",
     "iopub.status.busy": "2024-05-24T15:47:34.274436Z",
     "iopub.status.idle": "2024-05-24T15:47:34.280104Z",
     "shell.execute_reply": "2024-05-24T15:47:34.279435Z"
    },
    "lines_to_next_cell": 1,
    "papermill": {
     "duration": 0.027424,
     "end_time": "2024-05-24T15:47:34.281376",
     "exception": false,
     "start_time": "2024-05-24T15:47:34.253952",
     "status": "completed"
    },
    "tags": []
   },
   "outputs": [],
   "source": [
    "def stocks3Striver(K: int, prices: list[int]) -> int:\n",
    "    N = len(prices)\n",
    "    dp: list[list[int]] = [[0 for count in range(K + 1)] for j in range(2)]\n",
    "    for i in range(N - 1, -1, -1):\n",
    "        for j in range(1, -1, -1):\n",
    "            for count in range(K - 1, -1, -1):\n",
    "                if j == 0:\n",
    "                    dp[j][count] = max(-prices[i] + dp[1][count], dp[0][count])\n",
    "                else:\n",
    "                    dp[j][count] = max(prices[i] + dp[0][count + 1], dp[1][count])\n",
    "\n",
    "    return dp[0][0]\n",
    "\n",
    "# Testing the solution\n",
    "assert stocks3Striver(2, [2,4,1]) == 2\n",
    "assert stocks3Striver(2, [3,2,6,5,0,3]) == 7"
   ]
  },
  {
   "cell_type": "markdown",
   "id": "6d856ff6",
   "metadata": {
    "papermill": {
     "duration": 0.01977,
     "end_time": "2024-05-24T15:47:34.321686",
     "exception": false,
     "start_time": "2024-05-24T15:47:34.301916",
     "status": "completed"
    },
    "tags": []
   },
   "source": [
    "Video link: https://youtu.be/IGIe46xw3YY?si=B0IUJM2GtIGVlq7D\n",
    "Best time to buy and sell stock with cooldown"
   ]
  },
  {
   "cell_type": "code",
   "execution_count": 95,
   "id": "d8063cf8",
   "metadata": {
    "execution": {
     "iopub.execute_input": "2024-05-24T15:47:34.362513Z",
     "iopub.status.busy": "2024-05-24T15:47:34.362000Z",
     "iopub.status.idle": "2024-05-24T15:47:34.367873Z",
     "shell.execute_reply": "2024-05-24T15:47:34.367407Z"
    },
    "lines_to_next_cell": 1,
    "papermill": {
     "duration": 0.027479,
     "end_time": "2024-05-24T15:47:34.368987",
     "exception": false,
     "start_time": "2024-05-24T15:47:34.341508",
     "status": "completed"
    },
    "tags": []
   },
   "outputs": [],
   "source": [
    "# Copy pasting code from stocks II, when selling do a i + 2 instead of i + 1\n",
    "def stocksWithCooldownTab(prices: list[int]) -> int:\n",
    "    N = len(prices)\n",
    "    dp: list[list[int]] = [[0 for j in range(2)] for i in range(N + 2)]\n",
    "    for i in range(N - 1, -1, -1):\n",
    "        for j in range(1, -1, -1):\n",
    "            if j == 0:\n",
    "                dp[i][j] = max(-prices[i] + dp[i + 1][1], dp[i + 1][0])\n",
    "            else:\n",
    "                dp[i][j] = max(prices[i] + dp[i + 2][0], dp[i + 1][1])\n",
    "\n",
    "    return dp[0][0]\n",
    "\n",
    "# Testing the solution\n",
    "assert stocksWithCooldownTab([1,2,3,0,2]) == 3\n",
    "assert stocksWithCooldownTab([1,2,2,3,1,2,3,3,1,2,3,4,1,2,3,1,2,3,2,2,3,4,1,23,2,23]) == 31"
   ]
  },
  {
   "cell_type": "code",
   "execution_count": 96,
   "id": "0f414ee0",
   "metadata": {
    "execution": {
     "iopub.execute_input": "2024-05-24T15:47:34.410963Z",
     "iopub.status.busy": "2024-05-24T15:47:34.410435Z",
     "iopub.status.idle": "2024-05-24T15:47:34.416014Z",
     "shell.execute_reply": "2024-05-24T15:47:34.415559Z"
    },
    "lines_to_next_cell": 1,
    "papermill": {
     "duration": 0.027613,
     "end_time": "2024-05-24T15:47:34.417054",
     "exception": false,
     "start_time": "2024-05-24T15:47:34.389441",
     "status": "completed"
    },
    "tags": []
   },
   "outputs": [],
   "source": [
    "def stocksWithCooldown(prices: list[int]) -> int:\n",
    "    N = len(prices)\n",
    "    dp: list[int] = [0 for j in range(2)]\n",
    "    next_dp: list[int] = [0 for j in range(2)]\n",
    "    for i in range(N - 1, -1, -1):\n",
    "        temp = list(dp)\n",
    "        for j in range(1, -1, -1):\n",
    "            if j == 0:\n",
    "                dp[j] = max(-prices[i] + dp[1], dp[0])\n",
    "            else:\n",
    "                dp[j] = max(prices[i] + next_dp[0], dp[1])\n",
    "        next_dp = temp\n",
    "\n",
    "    return dp[0]\n",
    "\n",
    "# Testing the solution\n",
    "assert stocksWithCooldown([1,2,3,0,2]) == 3\n",
    "assert stocksWithCooldown([1,2,2,3,1,2,3,3,1,2,3,4,1,2,3,1,2,3,2,2,3,4,1,23,2,23]) == 31"
   ]
  },
  {
   "cell_type": "markdown",
   "id": "ba9b90d0",
   "metadata": {
    "papermill": {
     "duration": 0.019413,
     "end_time": "2024-05-24T15:47:34.456818",
     "exception": false,
     "start_time": "2024-05-24T15:47:34.437405",
     "status": "completed"
    },
    "tags": []
   },
   "source": [
    "Video link: https://youtu.be/k4eK-vEmnKg?si=-J8puY5S-kGzz_uT\n",
    "Buy and sell stocks with transaction fee"
   ]
  },
  {
   "cell_type": "code",
   "execution_count": 97,
   "id": "31f18961",
   "metadata": {
    "execution": {
     "iopub.execute_input": "2024-05-24T15:47:34.497714Z",
     "iopub.status.busy": "2024-05-24T15:47:34.497301Z",
     "iopub.status.idle": "2024-05-24T15:47:34.502501Z",
     "shell.execute_reply": "2024-05-24T15:47:34.502042Z"
    },
    "lines_to_next_cell": 1,
    "papermill": {
     "duration": 0.027249,
     "end_time": "2024-05-24T15:47:34.503571",
     "exception": false,
     "start_time": "2024-05-24T15:47:34.476322",
     "status": "completed"
    },
    "tags": []
   },
   "outputs": [],
   "source": [
    "def stocksWithTranFeeMemo(prices: list[int], fee: int) -> int:\n",
    "    @functools.cache\n",
    "    def backtrack(i: int, inventory: bool) -> int:\n",
    "        if i == N:\n",
    "            return 0\n",
    "        elif not inventory:\n",
    "            return max(-prices[i] + backtrack(i + 1, True), backtrack(i + 1, False))\n",
    "        else:\n",
    "            return max(prices[i] + backtrack(i + 1, False) - fee, backtrack(i + 1, True))\n",
    "\n",
    "    N = len(prices)\n",
    "    return backtrack(0, False)\n",
    "\n",
    "# Testing the solution\n",
    "assert stocksWithTranFeeMemo([1,3,2,8,4,9], 2) == 8\n",
    "assert stocksWithTranFeeMemo([1,3,7,5,10,3], 3) == 6"
   ]
  },
  {
   "cell_type": "code",
   "execution_count": 98,
   "id": "ebfef8d3",
   "metadata": {
    "execution": {
     "iopub.execute_input": "2024-05-24T15:47:34.544457Z",
     "iopub.status.busy": "2024-05-24T15:47:34.544122Z",
     "iopub.status.idle": "2024-05-24T15:47:34.549600Z",
     "shell.execute_reply": "2024-05-24T15:47:34.549077Z"
    },
    "lines_to_next_cell": 1,
    "papermill": {
     "duration": 0.026821,
     "end_time": "2024-05-24T15:47:34.550626",
     "exception": false,
     "start_time": "2024-05-24T15:47:34.523805",
     "status": "completed"
    },
    "tags": []
   },
   "outputs": [],
   "source": [
    "def stocksWithTranFeeTab(prices: list[int], fee: int) -> int:\n",
    "    N = len(prices)\n",
    "    dp: list[list[int]] = [[0 for j in range(2)] for i in range(N + 1)]\n",
    "    for i in range(N - 1, -1, -1):\n",
    "        for j in range(2):\n",
    "            if not j:\n",
    "                dp[i][j] = max(-prices[i] + dp[i + 1][1], dp[i + 1][0])\n",
    "            else:\n",
    "                dp[i][j] = max(prices[i] + dp[i + 1][0] - fee, dp[i + 1][1])\n",
    "\n",
    "    return dp[0][0]\n",
    "\n",
    "# Testing the solution\n",
    "assert stocksWithTranFeeTab([1,3,2,8,4,9], 2) == 8\n",
    "assert stocksWithTranFeeTab([1,3,7,5,10,3], 3) == 6"
   ]
  },
  {
   "cell_type": "code",
   "execution_count": 99,
   "id": "4ca839d1",
   "metadata": {
    "execution": {
     "iopub.execute_input": "2024-05-24T15:47:34.591066Z",
     "iopub.status.busy": "2024-05-24T15:47:34.590696Z",
     "iopub.status.idle": "2024-05-24T15:47:34.595637Z",
     "shell.execute_reply": "2024-05-24T15:47:34.595173Z"
    },
    "lines_to_next_cell": 1,
    "papermill": {
     "duration": 0.026034,
     "end_time": "2024-05-24T15:47:34.596698",
     "exception": false,
     "start_time": "2024-05-24T15:47:34.570664",
     "status": "completed"
    },
    "tags": []
   },
   "outputs": [],
   "source": [
    "# https://leetcode.com/problems/best-time-to-buy-and-sell-stock-with-transaction-fee/submissions/1260096941\n",
    "def stocksWithTranFee(prices: list[int], fee: int) -> int:\n",
    "    \"\"\"\n",
    "    Can simplify the inner loop since we are always checking for case where\n",
    "    we are holding stock and not holding stock.\n",
    "    \"\"\"\n",
    "    N = len(prices)\n",
    "    dp: list[int] = [0 for j in range(2)]\n",
    "    for i in range(N - 1, -1, -1):\n",
    "        dp[0] = max(-prices[i] + dp[1], dp[0])\n",
    "        dp[1] = max(prices[i] + dp[0] - fee, dp[1])\n",
    "\n",
    "    return dp[0]\n",
    "\n",
    "# Testing the solution\n",
    "assert stocksWithTranFee([1,3,2,8,4,9], 2) == 8\n",
    "assert stocksWithTranFee([1,3,7,5,3,3], 10) == 0"
   ]
  },
  {
   "cell_type": "markdown",
   "id": "5c9cb929",
   "metadata": {
    "papermill": {
     "duration": 0.019599,
     "end_time": "2024-05-24T15:47:34.636191",
     "exception": false,
     "start_time": "2024-05-24T15:47:34.616592",
     "status": "completed"
    },
    "tags": []
   },
   "source": [
    "Longest increasing subsequence\n",
    "Video link: https://youtu.be/ekcwMsSIzVc?si=53GtUk_ZTJC3oDDc"
   ]
  },
  {
   "cell_type": "code",
   "execution_count": 100,
   "id": "1a46c49e",
   "metadata": {
    "execution": {
     "iopub.execute_input": "2024-05-24T15:47:34.677450Z",
     "iopub.status.busy": "2024-05-24T15:47:34.676877Z",
     "iopub.status.idle": "2024-05-24T15:47:34.682347Z",
     "shell.execute_reply": "2024-05-24T15:47:34.681896Z"
    },
    "lines_to_next_cell": 1,
    "papermill": {
     "duration": 0.027375,
     "end_time": "2024-05-24T15:47:34.683393",
     "exception": false,
     "start_time": "2024-05-24T15:47:34.656018",
     "status": "completed"
    },
    "tags": []
   },
   "outputs": [],
   "source": [
    "def lengthOfLISMemo(nums: list[int]) -> int:\n",
    "    \"\"\"\n",
    "    In striver's video, instead of stroing the max_, he stores the index of the latest max.\n",
    "    This way subsequent tabulations would be much simpler.\n",
    "    \"\"\"\n",
    "    @functools.cache\n",
    "    def backtrack(i: int, max_: int) -> int:\n",
    "        if i == N:\n",
    "            return 0\n",
    "        elif nums[i] > max_:\n",
    "            return max(1 + backtrack(i + 1, nums[i]), backtrack(i + 1, max_))\n",
    "        else:\n",
    "            return backtrack(i + 1, max_)\n",
    "\n",
    "    N, min_ = len(nums), min(nums)\n",
    "    return backtrack(0, min_ - 1)\n",
    "\n",
    "# Testing the solution\n",
    "assert lengthOfLISMemo([10,9,2,5,3,7,101,18]) == 4\n",
    "assert lengthOfLISMemo([0,1,0,3,2,3]) == 4\n",
    "assert lengthOfLISMemo([1,1,1,1,1]) == 1"
   ]
  },
  {
   "cell_type": "code",
   "execution_count": 101,
   "id": "cd333f6f",
   "metadata": {
    "execution": {
     "iopub.execute_input": "2024-05-24T15:47:34.724570Z",
     "iopub.status.busy": "2024-05-24T15:47:34.724065Z",
     "iopub.status.idle": "2024-05-24T15:47:34.729627Z",
     "shell.execute_reply": "2024-05-24T15:47:34.729167Z"
    },
    "lines_to_next_cell": 1,
    "papermill": {
     "duration": 0.027192,
     "end_time": "2024-05-24T15:47:34.730801",
     "exception": false,
     "start_time": "2024-05-24T15:47:34.703609",
     "status": "completed"
    },
    "tags": []
   },
   "outputs": [],
   "source": [
    "def lengthOfLISTab(nums: list[int]) -> int:\n",
    "    N = len(nums)\n",
    "    dp: list[list[int]] = [[0 for j in range(N + 2)] for i in range(N + 1)]\n",
    "    for i in range(N - 1, -1, -1):\n",
    "        for j in range(N - 1, -1, -1):\n",
    "            # if j == 0, max_ => min_ - 1, j is right shifted by 1 index to accomodated min_ - 1\n",
    "            if j == 0 or nums[i] > nums[j - 1]:\n",
    "                dp[i][j] = max(1 + dp[i + 1][i + 1], dp[i + 1][j])\n",
    "            else:\n",
    "                dp[i][j] = dp[i + 1][j]\n",
    "\n",
    "    return dp[0][0]\n",
    "\n",
    "# Testing the solution\n",
    "assert lengthOfLISTab([0,1,0,3,2,3]) == 4\n",
    "assert lengthOfLISTab([1,1,1,1,1]) == 1"
   ]
  },
  {
   "cell_type": "code",
   "execution_count": 102,
   "id": "27be61f6",
   "metadata": {
    "execution": {
     "iopub.execute_input": "2024-05-24T15:47:34.772562Z",
     "iopub.status.busy": "2024-05-24T15:47:34.772049Z",
     "iopub.status.idle": "2024-05-24T15:47:34.777087Z",
     "shell.execute_reply": "2024-05-24T15:47:34.776614Z"
    },
    "lines_to_next_cell": 1,
    "papermill": {
     "duration": 0.02672,
     "end_time": "2024-05-24T15:47:34.778202",
     "exception": false,
     "start_time": "2024-05-24T15:47:34.751482",
     "status": "completed"
    },
    "tags": []
   },
   "outputs": [],
   "source": [
    "def lengthOfLIS(nums: list[int]) -> int:\n",
    "    \"Slight improvement, at any point - j (inner loop) cannot be greater than i itself\"\n",
    "    N = len(nums)\n",
    "    dp: list[int] = [0 for j in range(N + 2)]\n",
    "    for i in range(N - 1, -1, -1):\n",
    "        for j in range(i, -1, -1):\n",
    "            if j == 0 or nums[i] > nums[j - 1]:\n",
    "                dp[j] = max(1 + dp[i + 1], dp[j])\n",
    "\n",
    "    return dp[0]\n",
    "\n",
    "# Testing the solution\n",
    "assert lengthOfLIS([0,1,0,3,2,3]) == 4\n",
    "assert lengthOfLIS([1,1,1,1,1]) == 1"
   ]
  },
  {
   "cell_type": "code",
   "execution_count": 103,
   "id": "1c08a876",
   "metadata": {
    "execution": {
     "iopub.execute_input": "2024-05-24T15:47:34.819019Z",
     "iopub.status.busy": "2024-05-24T15:47:34.818484Z",
     "iopub.status.idle": "2024-05-24T15:47:34.821365Z",
     "shell.execute_reply": "2024-05-24T15:47:34.820895Z"
    },
    "papermill": {
     "duration": 0.02413,
     "end_time": "2024-05-24T15:47:34.822397",
     "exception": false,
     "start_time": "2024-05-24T15:47:34.798267",
     "status": "completed"
    },
    "tags": []
   },
   "outputs": [],
   "source": [
    "# LIS Tabulation: https://youtu.be/IFfYfonAFGc?si=XTbp31f-RLY2EsvQ"
   ]
  },
  {
   "cell_type": "code",
   "execution_count": 104,
   "id": "9532e810",
   "metadata": {
    "execution": {
     "iopub.execute_input": "2024-05-24T15:47:34.863220Z",
     "iopub.status.busy": "2024-05-24T15:47:34.862827Z",
     "iopub.status.idle": "2024-05-24T15:47:34.869559Z",
     "shell.execute_reply": "2024-05-24T15:47:34.869015Z"
    },
    "lines_to_next_cell": 1,
    "papermill": {
     "duration": 0.028264,
     "end_time": "2024-05-24T15:47:34.870670",
     "exception": false,
     "start_time": "2024-05-24T15:47:34.842406",
     "status": "completed"
    },
    "tags": []
   },
   "outputs": [
    {
     "name": "stdout",
     "output_type": "stream",
     "text": [
      "[1, 2, 3, 3]\n",
      "[1]\n"
     ]
    }
   ],
   "source": [
    "def lengthOfLISBetter(nums: list[int]) -> int:\n",
    "    \"\"\"\n",
    "    Time: O(N ** 2), Space: O(N)\n",
    "    This solution would be required if we were to trace back the LIS.\n",
    "    \"\"\"\n",
    "    N = len(nums)\n",
    "    lengths: list[int] = [1 for i in range(N)]\n",
    "    prevs: list[int] = [i for i in range(N)]\n",
    "    for i in range(N):\n",
    "        for j in range(i):\n",
    "            if nums[j] < nums[i] and lengths[i] < 1 + lengths[j]:\n",
    "                lengths[i] = 1 + lengths[j]\n",
    "                prevs[i] = j\n",
    "\n",
    "    # Prev Index, Length\n",
    "    max_: tuple[int, int] = (0, 1)\n",
    "    for i in range(N):\n",
    "        if max_[1] < lengths[i]:\n",
    "            max_ = i, lengths[i]\n",
    "\n",
    "    # Backtrack and print the LIS\n",
    "    i = max_[0]\n",
    "    LIS: list[int] = [nums[i]]\n",
    "    while i != prevs[i]:\n",
    "        LIS.append(nums[i])\n",
    "        i = prevs[i]\n",
    "\n",
    "    # Reverse the LIS and print it\n",
    "    LIS.reverse()\n",
    "    print(LIS)\n",
    "\n",
    "    return max_[1]\n",
    "\n",
    "# Testing the solution\n",
    "assert lengthOfLISBetter([0,1,0,3,2,3]) == 4\n",
    "assert lengthOfLISBetter([1,1,1,1,1]) == 1"
   ]
  },
  {
   "cell_type": "markdown",
   "id": "c89b7972",
   "metadata": {
    "papermill": {
     "duration": 0.019663,
     "end_time": "2024-05-24T15:47:34.910693",
     "exception": false,
     "start_time": "2024-05-24T15:47:34.891030",
     "status": "completed"
    },
    "tags": []
   },
   "source": [
    "LIS with Binary Search: https://youtu.be/on2hvxBXJH4?si=XLlRu7uTag9KM_Mr\n",
    "Intuition:\n",
    "```\n",
    "Say we have an array like:\n",
    "0, 1, 0, 3, 2, 3\n",
    "\n",
    "Step 1: [0]\n",
    "Step 2: [0, 1]\n",
    "Step 3: [0, 1], [0]\n",
    "Step 4: [0, 1, 3], [0, 3]\n",
    "Step 5: [0, 1, 3], [0, 3], [0, 1, 2], [0, 2]\n",
    "Step 6: [0, 1, 3], [0, 3], [0, 1, 2, 3], [0, 2, 3]\n",
    "\n",
    "Basically at each step we are inserting into the right position and creating a new array if we cannot insert into existing arrays. This consumes a lot of time and memory.\n",
    "We could instead simply save the correct insert position to find the max LIS length which is the trick to finding the N log N solution\n",
    "\n",
    "Step 1: [0]\n",
    "Step 2: [0, 1]\n",
    "Step 3: [0, 1]\n",
    "Step 4: [0, 1, 3]\n",
    "Step 5: [0, 1, 2] (replace 2 at the position where it would get inserted into)\n",
    "Step 6: [0, 1, 2, 3]\n",
    "\n",
    "Do note that this array is not the subsequence. We merely use it to compute the length of LIS.\n",
    "```"
   ]
  },
  {
   "cell_type": "code",
   "execution_count": 105,
   "id": "17062257",
   "metadata": {
    "execution": {
     "iopub.execute_input": "2024-05-24T15:47:34.951836Z",
     "iopub.status.busy": "2024-05-24T15:47:34.951400Z",
     "iopub.status.idle": "2024-05-24T15:47:34.956987Z",
     "shell.execute_reply": "2024-05-24T15:47:34.956383Z"
    },
    "lines_to_next_cell": 1,
    "papermill": {
     "duration": 0.027561,
     "end_time": "2024-05-24T15:47:34.958124",
     "exception": false,
     "start_time": "2024-05-24T15:47:34.930563",
     "status": "completed"
    },
    "tags": []
   },
   "outputs": [],
   "source": [
    "# https://leetcode.com/problems/longest-increasing-subsequence/submissions/1260560726\n",
    "def lengthOfLISOptimal(nums: list[int]) -> int:\n",
    "    def LB(arr: list[int], target: int) -> int:\n",
    "        \"\"\"\n",
    "        Given n, returns the insertion position of N\n",
    "        \"\"\"\n",
    "        N = len(arr)\n",
    "        low, high = 0, N - 1\n",
    "        while low <= high:\n",
    "            mid = (low + high) // 2\n",
    "            if arr[mid] < target:\n",
    "                low = mid + 1\n",
    "            else:\n",
    "                high = mid - 1\n",
    "\n",
    "        return low\n",
    "\n",
    "    dp: list[int] = []\n",
    "    for n in nums:\n",
    "        if not dp or dp[-1] < n:\n",
    "            dp.append(n)\n",
    "        else:\n",
    "            idx = LB(dp, n)\n",
    "            dp[idx] = n\n",
    "\n",
    "    return len(dp)\n",
    "\n",
    "# Testing the solution\n",
    "assert lengthOfLISOptimal([0,1,0,3,2,3]) == 4\n",
    "assert lengthOfLISOptimal([1,1,1,1,1]) == 1"
   ]
  },
  {
   "cell_type": "markdown",
   "id": "8847dadb",
   "metadata": {
    "papermill": {
     "duration": 0.020146,
     "end_time": "2024-05-24T15:47:34.999139",
     "exception": false,
     "start_time": "2024-05-24T15:47:34.978993",
     "status": "completed"
    },
    "tags": []
   },
   "source": [
    "Largest divisible subset: https://leetcode.com/problems/largest-divisible-subset/description/\n",
    "Video Link: https://youtu.be/gDuZwBW9VvM?si=Ar4BoU9h-JYT5j_S"
   ]
  },
  {
   "cell_type": "code",
   "execution_count": 106,
   "id": "85cb2adc",
   "metadata": {
    "execution": {
     "iopub.execute_input": "2024-05-24T15:47:35.040925Z",
     "iopub.status.busy": "2024-05-24T15:47:35.040382Z",
     "iopub.status.idle": "2024-05-24T15:47:35.048340Z",
     "shell.execute_reply": "2024-05-24T15:47:35.047806Z"
    },
    "lines_to_next_cell": 1,
    "papermill": {
     "duration": 0.030228,
     "end_time": "2024-05-24T15:47:35.049569",
     "exception": false,
     "start_time": "2024-05-24T15:47:35.019341",
     "status": "completed"
    },
    "tags": []
   },
   "outputs": [
    {
     "data": {
      "text/plain": [
       "[32, 8, 4, 2, 1]"
      ]
     },
     "execution_count": 106,
     "metadata": {},
     "output_type": "execute_result"
    }
   ],
   "source": [
    "# https://leetcode.com/problems/largest-divisible-subset/submissions/1260986041\n",
    "def largestDivisibleSubset(nums: list[int]) -> list[int]:\n",
    "    \"\"\"\n",
    "    At each element, it is pick or no pick. We can pick it max_ divides n or n divides max_. Once we chose to pick n, update max_\n",
    "    Time: O(N), Space: O(N)\n",
    "    \"\"\"\n",
    "    N = len(nums)\n",
    "\n",
    "    # We sort it to make our loop code easier, works without sorting\n",
    "    # but need to check for i % j as well j % i. Besides we are asked for\n",
    "    # a subset and the ordering doesn't really matter.\n",
    "    nums.sort()\n",
    "\n",
    "    # Dp to store the longest subset and the prevs for backtracking (refer: lengthOfLISBetter())\n",
    "    lengths: list[int] = [1 for i in range(N)]\n",
    "    prevs: list[int] = [i for i in range(N)]\n",
    "\n",
    "    # Till index i, what is max length divisible subset that I can find?\n",
    "    for i in range(N):\n",
    "        for j in range(i):\n",
    "            if nums[i] % nums[j] == 0 and lengths[i] < lengths[j] + 1:\n",
    "                lengths[i] = lengths[j] + 1\n",
    "                prevs[i] = j\n",
    "\n",
    "    # Find the maximum length\n",
    "    max_idx = 0\n",
    "    for i in range(N):\n",
    "        if lengths[max_idx] < lengths[i]:\n",
    "            max_idx = i\n",
    "\n",
    "    # Create the Largest Divisible Subset\n",
    "    i = max_idx\n",
    "    LDS: list[int] = [nums[i]]\n",
    "    while prevs[i] != i:\n",
    "        i = prevs[i]\n",
    "        LDS.append(nums[i])\n",
    "\n",
    "    return LDS\n",
    "\n",
    "# Testing the solution\n",
    "largestDivisibleSubset([1,3,2,4,6,8,9,10,12,13,14,7,18,20,21,25,26,28,30,32])"
   ]
  },
  {
   "cell_type": "markdown",
   "id": "fd81bb05",
   "metadata": {
    "papermill": {
     "duration": 0.020379,
     "end_time": "2024-05-24T15:47:35.090511",
     "exception": false,
     "start_time": "2024-05-24T15:47:35.070132",
     "status": "completed"
    },
    "tags": []
   },
   "source": [
    "Longest String Chain: https://leetcode.com/problems/longest-string-chain/description/\n",
    "Video Link: https://leetcode.com/problems/longest-string-chain/description/"
   ]
  },
  {
   "cell_type": "code",
   "execution_count": 107,
   "id": "c6e337f6",
   "metadata": {
    "execution": {
     "iopub.execute_input": "2024-05-24T15:47:35.132449Z",
     "iopub.status.busy": "2024-05-24T15:47:35.131960Z",
     "iopub.status.idle": "2024-05-24T15:47:35.138602Z",
     "shell.execute_reply": "2024-05-24T15:47:35.138062Z"
    },
    "lines_to_next_cell": 1,
    "papermill": {
     "duration": 0.028896,
     "end_time": "2024-05-24T15:47:35.139744",
     "exception": false,
     "start_time": "2024-05-24T15:47:35.110848",
     "status": "completed"
    },
    "tags": []
   },
   "outputs": [],
   "source": [
    "def longestStrChainMemo(words: list[str]) -> int:\n",
    "    def isNext(i1: int, i2: int) -> bool:\n",
    "        \"\"\"\n",
    "        xbc, cxbc -> True\n",
    "        xbc, xcbc -> True\n",
    "        xbc, xbcc -> True\n",
    "        xbc, xacc -> False\n",
    "        \"\"\"\n",
    "        N1, N2 = len(words[i1]), len(words[i2])\n",
    "        if N2 - N1 != 1:\n",
    "            return False\n",
    "        else:\n",
    "            mismatch = 0\n",
    "            i = j = 0\n",
    "            while i < N1 and j < N2:\n",
    "                if words[i1][i] != words[i2][j]:\n",
    "                    j += 1\n",
    "                    mismatch += 1\n",
    "                else:\n",
    "                    i, j = i + 1, j + 1\n",
    "\n",
    "            return mismatch <= 1\n",
    "\n",
    "    @functools.cache\n",
    "    def backtrack(i: int, prev: int) -> int:\n",
    "        if i == N:\n",
    "            return 0\n",
    "        elif prev == -1 or isNext(prev, i):\n",
    "            return max(1 + backtrack(i + 1, i), backtrack(i + 1, prev))\n",
    "        else:\n",
    "            return backtrack(i + 1, prev)\n",
    "\n",
    "    # Sorting to make things easier\n",
    "    N = len(words)\n",
    "    words.sort(key=len)\n",
    "    return backtrack(0, -1)\n",
    "\n",
    "# Testing the solution\n",
    "assert longestStrChainMemo([\"xbc\",\"pcxbcf\",\"xb\",\"cxbc\",\"pcxbc\"]) == 5\n",
    "assert longestStrChainMemo([\"a\",\"b\",\"ba\",\"bca\",\"bda\",\"bdca\"]) == 4\n",
    "assert longestStrChainMemo([\"abcd\",\"dbqca\"]) == 1"
   ]
  },
  {
   "cell_type": "code",
   "execution_count": 108,
   "id": "89ac7af0",
   "metadata": {
    "execution": {
     "iopub.execute_input": "2024-05-24T15:47:35.181734Z",
     "iopub.status.busy": "2024-05-24T15:47:35.181200Z",
     "iopub.status.idle": "2024-05-24T15:47:35.188465Z",
     "shell.execute_reply": "2024-05-24T15:47:35.187861Z"
    },
    "lines_to_next_cell": 1,
    "papermill": {
     "duration": 0.029165,
     "end_time": "2024-05-24T15:47:35.189594",
     "exception": false,
     "start_time": "2024-05-24T15:47:35.160429",
     "status": "completed"
    },
    "tags": []
   },
   "outputs": [],
   "source": [
    "def longestStrChainTab(words: list[str]) -> int:\n",
    "    def isNext(i1: int, i2: int) -> bool:\n",
    "        N1, N2 = len(words[i1]), len(words[i2])\n",
    "        if N2 - N1 != 1:\n",
    "            return False\n",
    "        else:\n",
    "            mismatch = 0\n",
    "            i = j = 0\n",
    "            while i < N1 and j < N2:\n",
    "                if words[i1][i] != words[i2][j]:\n",
    "                    j += 1\n",
    "                    mismatch += 1\n",
    "                else:\n",
    "                    i, j = i + 1, j + 1\n",
    "\n",
    "            return mismatch <= 1\n",
    "\n",
    "    N = len(words)\n",
    "    words.sort(key=len)\n",
    "    dp: list[list[int]] = [[0 for j in range(N + 2)] for i in range(N + 1)]\n",
    "    for i in range(N - 1, -1, -1):\n",
    "        for prev in range(i, -1, -1):\n",
    "            if prev == 0 or isNext(prev - 1, i):\n",
    "                dp[i][prev] = max(1 + dp[i + 1][i + 1], dp[i + 1][prev])\n",
    "            else:\n",
    "                dp[i][prev] = dp[i + 1][prev]\n",
    "\n",
    "    return dp[0][0]\n",
    "\n",
    "# Testing the solution\n",
    "assert longestStrChainTab([\"xbc\",\"pcxbcf\",\"xb\",\"cxbc\",\"pcxbc\"]) == 5\n",
    "assert longestStrChainTab([\"a\",\"b\",\"ba\",\"bca\",\"bda\",\"bdca\"]) == 4\n",
    "assert longestStrChainTab([\"abcd\",\"dbqca\"]) == 1"
   ]
  },
  {
   "cell_type": "code",
   "execution_count": 109,
   "id": "45db1b07",
   "metadata": {
    "execution": {
     "iopub.execute_input": "2024-05-24T15:47:35.232040Z",
     "iopub.status.busy": "2024-05-24T15:47:35.231526Z",
     "iopub.status.idle": "2024-05-24T15:47:35.238381Z",
     "shell.execute_reply": "2024-05-24T15:47:35.237808Z"
    },
    "lines_to_next_cell": 1,
    "papermill": {
     "duration": 0.028766,
     "end_time": "2024-05-24T15:47:35.239514",
     "exception": false,
     "start_time": "2024-05-24T15:47:35.210748",
     "status": "completed"
    },
    "tags": []
   },
   "outputs": [],
   "source": [
    "def longestStrChain(words: list[str]) -> int:\n",
    "    \"\"\"\n",
    "    Time: O(N ** 2 x L), Space: O(N)\n",
    "    L - max word length\n",
    "    \"\"\"\n",
    "    def isNext(i1: int, i2: int) -> bool:\n",
    "        N1, N2 = len(words[i1]), len(words[i2])\n",
    "        if N2 - N1 != 1:\n",
    "            return False\n",
    "        else:\n",
    "            mismatch = 0\n",
    "            i = j = 0\n",
    "            while i < N1 and j < N2:\n",
    "                if words[i1][i] != words[i2][j]:\n",
    "                    j += 1\n",
    "                    mismatch += 1\n",
    "                else:\n",
    "                    i, j = i + 1, j + 1\n",
    "\n",
    "            return mismatch <= 1\n",
    "\n",
    "    N = len(words)\n",
    "    words.sort(key=len)\n",
    "    dp: list[int] = [0 for j in range(N + 2)]\n",
    "    for i in range(N - 1, -1, -1):\n",
    "        for prev in range(i, -1, -1):\n",
    "            if prev == 0 or isNext(prev - 1, i):\n",
    "                dp[prev] = max(1 + dp[i + 1], dp[prev])\n",
    "\n",
    "    return dp[0]\n",
    "\n",
    "# Testing the solution\n",
    "assert longestStrChain([\"xbc\",\"pcxbcf\",\"xb\",\"cxbc\",\"pcxbc\"]) == 5\n",
    "assert longestStrChain([\"a\",\"b\",\"ba\",\"bca\",\"bda\",\"bdca\"]) == 4\n",
    "assert longestStrChain([\"abcd\",\"dbqca\"]) == 1"
   ]
  },
  {
   "cell_type": "markdown",
   "id": "5173b7e5",
   "metadata": {
    "papermill": {
     "duration": 0.020127,
     "end_time": "2024-05-24T15:47:35.280114",
     "exception": false,
     "start_time": "2024-05-24T15:47:35.259987",
     "status": "completed"
    },
    "tags": []
   },
   "source": [
    "Longest Bitonic Subsequence\n",
    "Video Link: https://youtu.be/y4vN0WNdrlg?si=6eUQzwVJYFEeUj49"
   ]
  },
  {
   "cell_type": "code",
   "execution_count": 110,
   "id": "e2d77aba",
   "metadata": {
    "execution": {
     "iopub.execute_input": "2024-05-24T15:47:35.321383Z",
     "iopub.status.busy": "2024-05-24T15:47:35.320864Z",
     "iopub.status.idle": "2024-05-24T15:47:35.327081Z",
     "shell.execute_reply": "2024-05-24T15:47:35.326544Z"
    },
    "lines_to_next_cell": 1,
    "papermill": {
     "duration": 0.028098,
     "end_time": "2024-05-24T15:47:35.328189",
     "exception": false,
     "start_time": "2024-05-24T15:47:35.300091",
     "status": "completed"
    },
    "tags": []
   },
   "outputs": [],
   "source": [
    "def longestBitonicSequence(N : int, nums : list[int]) -> int:\n",
    "    # Find the subsequence length of strictly increasing subsequence\n",
    "    increasing: list[int] = [1 for i in range(N)]\n",
    "    for i in range(N):\n",
    "        for j in range(i):\n",
    "            if nums[j] < nums[i]:\n",
    "                increasing[i] = max(increasing[i], increasing[j] + 1)\n",
    "\n",
    "    # Find the subsequence length of strictly decreasing subsequence\n",
    "    decreasing: list[int] = [1 for i in range(N)]\n",
    "    for i in range(N - 1, -1, -1):\n",
    "        for j in range(i + 1, N):\n",
    "            if nums[j] < nums[i]:\n",
    "                decreasing[i] = max(decreasing[i], decreasing[j] + 1)\n",
    "\n",
    "    # Compute the longest Bitonic sequence\n",
    "    max_length = 0\n",
    "    for i in range(N):\n",
    "        if increasing[i] > 1 and decreasing[i] > 1:\n",
    "            max_length = max(max_length, increasing[i] + decreasing[i] - 1)\n",
    "\n",
    "    return max_length\n",
    "\n",
    "# Testing the solution\n",
    "assert longestBitonicSequence(8, [1, 11, 2, 10, 4, 5, 2, 1]) == 6\n",
    "assert longestBitonicSequence(5, [1, 2, 5, 3, 2]) == 5\n",
    "assert longestBitonicSequence(3, [5, 7, 9]) == 0"
   ]
  },
  {
   "cell_type": "markdown",
   "id": "dbcaf743",
   "metadata": {
    "papermill": {
     "duration": 0.020149,
     "end_time": "2024-05-24T15:47:35.369087",
     "exception": false,
     "start_time": "2024-05-24T15:47:35.348938",
     "status": "completed"
    },
    "tags": []
   },
   "source": [
    "Number of longest increasing subsequences: https://leetcode.com/problems/number-of-longest-increasing-subsequence/\n",
    "Video link: https://youtu.be/cKVl1TFdNXg?si=F5dpyIpk-GQ0mhEl"
   ]
  },
  {
   "cell_type": "code",
   "execution_count": 111,
   "id": "8e5206cb",
   "metadata": {
    "execution": {
     "iopub.execute_input": "2024-05-24T15:47:35.411415Z",
     "iopub.status.busy": "2024-05-24T15:47:35.411000Z",
     "iopub.status.idle": "2024-05-24T15:47:35.418839Z",
     "shell.execute_reply": "2024-05-24T15:47:35.418373Z"
    },
    "lines_to_next_cell": 1,
    "papermill": {
     "duration": 0.030309,
     "end_time": "2024-05-24T15:47:35.419933",
     "exception": false,
     "start_time": "2024-05-24T15:47:35.389624",
     "status": "completed"
    },
    "tags": []
   },
   "outputs": [],
   "source": [
    "# https://leetcode.com/problems/number-of-longest-increasing-subsequence/submissions/1261164775\n",
    "def findNumberOfLIS(nums: list[int]) -> int:\n",
    "    N = len(nums)\n",
    "    dp: list[int] = [1 for i in range(N)]\n",
    "    prevs: dict[int, set[int]] = dict()\n",
    "    for i in range(N):\n",
    "        for j in range(i):\n",
    "            if nums[j] < nums[i] and dp[i] <= 1 + dp[j]:\n",
    "                # If new max, reset prev\n",
    "                if dp[i] < 1 + dp[j]:\n",
    "                    prevs[i] = {j}\n",
    "                # If max already exists, add to prev\n",
    "                else:\n",
    "                    prev = prevs.get(i, set())\n",
    "                    prev.add(j)\n",
    "                    prevs[i] = prev\n",
    "\n",
    "                dp[i] = 1 + dp[j]\n",
    "\n",
    "    # Find the max index\n",
    "    max_indices: list[int] = [0]\n",
    "    for i in range(1, N):\n",
    "        if dp[i] > dp[max_indices[0]]:\n",
    "            max_indices = [i]\n",
    "        elif dp[i] == dp[max_indices[0]]:\n",
    "            max_indices.append(i)\n",
    "\n",
    "    # Backtrack to find the counts\n",
    "    def backtrack(i: int) -> int:\n",
    "        if i not in prevs:\n",
    "            return 1\n",
    "        else:\n",
    "            count = 0\n",
    "            for j in prevs[i]:\n",
    "                count += backtrack(j)\n",
    "            return count\n",
    "\n",
    "    # Find count for all max indices and sum them\n",
    "    result: int = 0\n",
    "    for max_idx in max_indices:\n",
    "        result += backtrack(max_idx)\n",
    "\n",
    "    return result\n",
    "\n",
    "# Testing the solution\n",
    "assert findNumberOfLIS([1,3,5,4,7,6,5]) == 5\n",
    "assert findNumberOfLIS([2,2,2,2,2]) == 5\n",
    "assert findNumberOfLIS([1,2,3,4,4,4,4,5,5,2,3,3,4,5,6,6,4,2,1,2,2,3,4,5]) == 34"
   ]
  },
  {
   "cell_type": "code",
   "execution_count": 112,
   "id": "7cf84ae9",
   "metadata": {
    "execution": {
     "iopub.execute_input": "2024-05-24T15:47:35.462308Z",
     "iopub.status.busy": "2024-05-24T15:47:35.461749Z",
     "iopub.status.idle": "2024-05-24T15:47:35.468296Z",
     "shell.execute_reply": "2024-05-24T15:47:35.467739Z"
    },
    "lines_to_next_cell": 1,
    "papermill": {
     "duration": 0.02886,
     "end_time": "2024-05-24T15:47:35.469517",
     "exception": false,
     "start_time": "2024-05-24T15:47:35.440657",
     "status": "completed"
    },
    "tags": []
   },
   "outputs": [],
   "source": [
    "# https://leetcode.com/problems/number-of-longest-increasing-subsequence/submissions/1261259922\n",
    "def findNumberOfLISStriver(nums: list[int]) -> int:\n",
    "    N = len(nums)\n",
    "    dp: list[int] = [1 for i in range(N)]\n",
    "    counts: list[int] = [1 for i in range(N)]\n",
    "\n",
    "    # Compute the max length LIS and store the counts\n",
    "    lis_length: int = 1\n",
    "    for i in range(N):\n",
    "        for j in range(i):\n",
    "            if nums[j] < nums[i] and dp[i] <= 1 + dp[j]:\n",
    "                # Inherit\n",
    "                if dp[i] < 1 + dp[j]:\n",
    "                    dp[i] = 1 + dp[j]\n",
    "                    counts[i] = counts[j]\n",
    "                    lis_length = max(lis_length, dp[i])\n",
    "\n",
    "                # Increment\n",
    "                else:\n",
    "                    counts[i] += counts[j]\n",
    "\n",
    "    # Count the occurances of max length LIS\n",
    "    lis_count = 0\n",
    "    for i in range(N):\n",
    "        if dp[i] == lis_length:\n",
    "            lis_count += counts[i]\n",
    "\n",
    "    return lis_count\n",
    "\n",
    "# Testing the solution\n",
    "assert findNumberOfLISStriver([1,3,5,4,7,6,5]) == 5\n",
    "assert findNumberOfLISStriver([2,2,2,2,2]) == 5\n",
    "assert findNumberOfLISStriver([1,2,3,4,4,4,4,5,5,2,3,3,4,5,6,6,4,2,1,2,2,3,4,5]) == 34"
   ]
  },
  {
   "cell_type": "code",
   "execution_count": 113,
   "id": "1ea62afb",
   "metadata": {
    "execution": {
     "iopub.execute_input": "2024-05-24T15:47:35.511460Z",
     "iopub.status.busy": "2024-05-24T15:47:35.510935Z",
     "iopub.status.idle": "2024-05-24T15:47:35.515633Z",
     "shell.execute_reply": "2024-05-24T15:47:35.515085Z"
    },
    "lines_to_next_cell": 1,
    "papermill": {
     "duration": 0.026804,
     "end_time": "2024-05-24T15:47:35.516801",
     "exception": false,
     "start_time": "2024-05-24T15:47:35.489997",
     "status": "completed"
    },
    "tags": []
   },
   "outputs": [],
   "source": [
    "def matrixMultiplicationBrute(N: int, arr: list[int]) -> float:\n",
    "    if N == 2:\n",
    "        return 0\n",
    "    else:\n",
    "        min_: float = math.inf\n",
    "        for i in range(1, N - 1):\n",
    "            min_ = min(min_, (arr[i - 1] * arr[i] * arr[i + 1]) + matrixMultiplicationBrute(N - 1, arr[:i] + arr[i + 1:]))\n",
    "        return min_\n",
    "\n",
    "# Testing the solution\n",
    "assert matrixMultiplicationBrute(5, [40, 20, 30, 10, 30]) == 26000\n",
    "assert matrixMultiplicationBrute(4, [10, 30, 5, 60]) == 4500"
   ]
  },
  {
   "cell_type": "code",
   "execution_count": 114,
   "id": "f269aff7",
   "metadata": {
    "execution": {
     "iopub.execute_input": "2024-05-24T15:47:35.558426Z",
     "iopub.status.busy": "2024-05-24T15:47:35.557905Z",
     "iopub.status.idle": "2024-05-24T15:47:35.563198Z",
     "shell.execute_reply": "2024-05-24T15:47:35.562731Z"
    },
    "lines_to_next_cell": 1,
    "papermill": {
     "duration": 0.02685,
     "end_time": "2024-05-24T15:47:35.564273",
     "exception": false,
     "start_time": "2024-05-24T15:47:35.537423",
     "status": "completed"
    },
    "tags": []
   },
   "outputs": [],
   "source": [
    "def matrixMultiplicationMemo(N: int, arr: list[int]) -> float:\n",
    "    @functools.cache\n",
    "    def backtrack(i: int, j: int) -> float:\n",
    "        if i == j:\n",
    "            return 0\n",
    "        else:\n",
    "            min_: float = math.inf\n",
    "            for k in range(i, j):\n",
    "                min_ = min(min_, (arr[i - 1] * arr[k] * arr[j]) + backtrack(i, k) + backtrack(k + 1, j))\n",
    "            return min_\n",
    "\n",
    "    return backtrack(1, N - 1)\n",
    "\n",
    "# Testing the solution\n",
    "assert matrixMultiplicationMemo(5, [40, 20, 30, 10, 30]) == 26000\n",
    "assert matrixMultiplicationMemo(4, [10, 30, 5, 60]) == 4500"
   ]
  },
  {
   "cell_type": "code",
   "execution_count": 115,
   "id": "e3cb9f72",
   "metadata": {
    "execution": {
     "iopub.execute_input": "2024-05-24T15:47:35.605294Z",
     "iopub.status.busy": "2024-05-24T15:47:35.604989Z",
     "iopub.status.idle": "2024-05-24T15:47:35.610398Z",
     "shell.execute_reply": "2024-05-24T15:47:35.609941Z"
    },
    "lines_to_next_cell": 1,
    "papermill": {
     "duration": 0.026972,
     "end_time": "2024-05-24T15:47:35.611446",
     "exception": false,
     "start_time": "2024-05-24T15:47:35.584474",
     "status": "completed"
    },
    "tags": []
   },
   "outputs": [],
   "source": [
    "def matrixMultiplicationTab(N: int, arr: list[int]) -> float:\n",
    "    # Time: O(N ** 3), Space: O(N ** 2)\n",
    "    dp: list[list[float]] = [[math.inf if i != j else 0 for j in range(N)] for i in range(N)]\n",
    "    for i in range(N - 1, 0, -1):\n",
    "        for j in range(i + 1, N): # J should be to the right of i, as soon as i == j we return 0 (captured already in DP)\n",
    "            for k in range(i, j):\n",
    "                dp[i][j] = min(dp[i][j], (arr[i - 1] * arr[k] * arr[j]) + dp[i][k] + dp[k + 1][j])\n",
    "\n",
    "    return dp[1][N - 1]\n",
    "\n",
    "# Testing the solution\n",
    "assert matrixMultiplicationTab(5, [40, 20, 30, 10, 30]) == 26000\n",
    "assert matrixMultiplicationTab(4, [10, 30, 5, 60]) == 4500"
   ]
  },
  {
   "cell_type": "markdown",
   "id": "c4626b2b",
   "metadata": {
    "papermill": {
     "duration": 0.019705,
     "end_time": "2024-05-24T15:47:35.651385",
     "exception": false,
     "start_time": "2024-05-24T15:47:35.631680",
     "status": "completed"
    },
    "tags": []
   },
   "source": [
    "Minimum cost to cut a stick: Partition DP\n",
    "Video Link: https://youtu.be/xwomavsC86c?si=mMNfxJYMPVbhildn\n",
    "Problem Link: https://leetcode.com/problems/minimum-cost-to-cut-a-stick/description/"
   ]
  },
  {
   "cell_type": "code",
   "execution_count": 116,
   "id": "39a420ce",
   "metadata": {
    "execution": {
     "iopub.execute_input": "2024-05-24T15:47:35.693114Z",
     "iopub.status.busy": "2024-05-24T15:47:35.692652Z",
     "iopub.status.idle": "2024-05-24T15:47:35.698150Z",
     "shell.execute_reply": "2024-05-24T15:47:35.697675Z"
    },
    "lines_to_next_cell": 1,
    "papermill": {
     "duration": 0.027724,
     "end_time": "2024-05-24T15:47:35.699235",
     "exception": false,
     "start_time": "2024-05-24T15:47:35.671511",
     "status": "completed"
    },
    "tags": []
   },
   "outputs": [],
   "source": [
    "# https://leetcode.com/problems/minimum-cost-to-cut-a-stick/submissions/1262208436\n",
    "def minCostToCutStickMemo(N: int, cuts: list[int]) -> int:\n",
    "    @functools.cache\n",
    "    def backtrack(i: int, j: int) -> int:\n",
    "        if i + 1 == j:\n",
    "            return 0\n",
    "        else:\n",
    "            left = cuts[i] if i >= 0 else 0\n",
    "            right = cuts[j] if j < n_cuts else N\n",
    "            cost = right - left\n",
    "            min_: float = math.inf\n",
    "            for k in range(i + 1, j):\n",
    "                min_ = min(min_, backtrack(i, k) + backtrack(k, j))\n",
    "            return int(min_ + cost)\n",
    "\n",
    "    cuts.sort()\n",
    "    n_cuts = len(cuts)\n",
    "    return backtrack(-1, n_cuts)\n",
    "\n",
    "# Testing the solution\n",
    "assert minCostToCutStickMemo(9, [5,6,1,4,2]) == 22\n",
    "assert minCostToCutStickMemo(7, [1,3,4,5]) == 16"
   ]
  },
  {
   "cell_type": "code",
   "execution_count": 117,
   "id": "d96a27e2",
   "metadata": {
    "execution": {
     "iopub.execute_input": "2024-05-24T15:47:35.741184Z",
     "iopub.status.busy": "2024-05-24T15:47:35.740838Z",
     "iopub.status.idle": "2024-05-24T15:47:35.747101Z",
     "shell.execute_reply": "2024-05-24T15:47:35.746630Z"
    },
    "lines_to_next_cell": 1,
    "papermill": {
     "duration": 0.028218,
     "end_time": "2024-05-24T15:47:35.748218",
     "exception": false,
     "start_time": "2024-05-24T15:47:35.720000",
     "status": "completed"
    },
    "tags": []
   },
   "outputs": [],
   "source": [
    "# https://leetcode.com/problems/minimum-cost-to-cut-a-stick/submissions/1262240842\n",
    "def minCostToCutStickTab(N: int, cuts: list[int]) -> int:\n",
    "    cuts.sort()\n",
    "    n_cuts = len(cuts)\n",
    "    dp: list[list[float]] = [[math.inf if i + 1 != j else 0 for j in range(-1, n_cuts + 1)] for i in range(-1, n_cuts + 1)]\n",
    "    for i in range(n_cuts - 1, -2, -1):\n",
    "        for j in range(i + 2, n_cuts + 1):\n",
    "            left = cuts[i] if i >= 0 else 0\n",
    "            right = cuts[j] if j < n_cuts else N\n",
    "            for k in range(i + 1, j):\n",
    "                dp[i + 1][j + 1] = min(dp[i + 1][j + 1], right - left + dp[i + 1][k + 1] + dp[k + 1][j + 1])\n",
    "\n",
    "    return int(dp[0][n_cuts + 1])\n",
    "\n",
    "# Testing the solution\n",
    "assert minCostToCutStickTab(9, [5,6,1,4,2]) == 22\n",
    "assert minCostToCutStickTab(7, [1,3,4,5]) == 16"
   ]
  },
  {
   "cell_type": "markdown",
   "id": "2d0e0f7d",
   "metadata": {
    "papermill": {
     "duration": 0.020139,
     "end_time": "2024-05-24T15:47:35.789382",
     "exception": false,
     "start_time": "2024-05-24T15:47:35.769243",
     "status": "completed"
    },
    "tags": []
   },
   "source": [
    "Video Link: https://youtu.be/Yz4LlDSlkns?si=EmIPfeTOs548wE0c\n",
    "Burst Balloons"
   ]
  },
  {
   "cell_type": "code",
   "execution_count": 118,
   "id": "4a6fad8b",
   "metadata": {
    "execution": {
     "iopub.execute_input": "2024-05-24T15:47:35.831410Z",
     "iopub.status.busy": "2024-05-24T15:47:35.831024Z",
     "iopub.status.idle": "2024-05-24T15:47:35.836197Z",
     "shell.execute_reply": "2024-05-24T15:47:35.835617Z"
    },
    "lines_to_next_cell": 1,
    "papermill": {
     "duration": 0.02749,
     "end_time": "2024-05-24T15:47:35.837318",
     "exception": false,
     "start_time": "2024-05-24T15:47:35.809828",
     "status": "completed"
    },
    "tags": []
   },
   "outputs": [],
   "source": [
    "# https://leetcode.com/problems/burst-balloons/submissions/1262677527\n",
    "def maxCoinsMemo(nums: list[int]) -> int:\n",
    "    @functools.cache\n",
    "    def backtrack(i: int, j: int) -> int:\n",
    "        if j - i <= 1:\n",
    "            return 0\n",
    "        else:\n",
    "            max_: int = 0\n",
    "            for k in range(i + 1, j):\n",
    "                max_ = max(max_, (nums[i] * nums[j] * nums[k]) + backtrack(i, k) + backtrack(k, j))\n",
    "            return max_\n",
    "\n",
    "    N = len(nums) + 2\n",
    "    nums = [1] + nums + [1]\n",
    "    return backtrack(0, N - 1)\n",
    "\n",
    "# Testing the solution\n",
    "assert maxCoinsMemo([3,1,5,8]) == 167\n",
    "assert maxCoinsMemo([1,5]) == 10"
   ]
  },
  {
   "cell_type": "code",
   "execution_count": 119,
   "id": "29a841ea",
   "metadata": {
    "execution": {
     "iopub.execute_input": "2024-05-24T15:47:35.879664Z",
     "iopub.status.busy": "2024-05-24T15:47:35.879327Z",
     "iopub.status.idle": "2024-05-24T15:47:35.884604Z",
     "shell.execute_reply": "2024-05-24T15:47:35.884141Z"
    },
    "lines_to_next_cell": 1,
    "papermill": {
     "duration": 0.02765,
     "end_time": "2024-05-24T15:47:35.885715",
     "exception": false,
     "start_time": "2024-05-24T15:47:35.858065",
     "status": "completed"
    },
    "tags": []
   },
   "outputs": [],
   "source": [
    "# https://leetcode.com/problems/burst-balloons/submissions/1262679628\n",
    "def maxCoinsTab(nums: list[int]) -> int:\n",
    "    N = len(nums) + 2\n",
    "    nums = [1] + nums + [1]\n",
    "    dp: list[list[int]] = [[0 for j in range(N)] for i in range(N)]\n",
    "\n",
    "    for i in range(N - 1, -1, -1):\n",
    "        for j in range(i + 2, N):\n",
    "            for k in range(i + 1, j):\n",
    "                dp[i][j] = max(dp[i][j], (nums[i] * nums[j] * nums[k]) + dp[i][k] + dp[k][j])\n",
    "\n",
    "    return dp[0][N - 1]\n",
    "\n",
    "# Testing the solution\n",
    "assert maxCoinsTab([3,1,5,8]) == 167\n",
    "assert maxCoinsTab([1,5]) == 10"
   ]
  },
  {
   "cell_type": "markdown",
   "id": "01f559b8",
   "metadata": {
    "papermill": {
     "duration": 0.019559,
     "end_time": "2024-05-24T15:47:35.925440",
     "exception": false,
     "start_time": "2024-05-24T15:47:35.905881",
     "status": "completed"
    },
    "tags": []
   },
   "source": [
    "Evaluate boolean expression as True\n",
    "Video Link: https://youtu.be/MM7fXopgyjw?si=lw6_9kkRokpveAIx"
   ]
  },
  {
   "cell_type": "code",
   "execution_count": 120,
   "id": "675b0e3d",
   "metadata": {
    "execution": {
     "iopub.execute_input": "2024-05-24T15:47:35.966592Z",
     "iopub.status.busy": "2024-05-24T15:47:35.966299Z",
     "iopub.status.idle": "2024-05-24T15:47:35.972590Z",
     "shell.execute_reply": "2024-05-24T15:47:35.972104Z"
    },
    "lines_to_next_cell": 1,
    "papermill": {
     "duration": 0.028346,
     "end_time": "2024-05-24T15:47:35.973742",
     "exception": false,
     "start_time": "2024-05-24T15:47:35.945396",
     "status": "completed"
    },
    "tags": []
   },
   "outputs": [],
   "source": [
    "def evaluateExpMemo(exp: str) -> int:\n",
    "    @functools.cache\n",
    "    def backtrack(i: int, j: int) -> tuple[int, int]:\n",
    "        if i == j:\n",
    "            return (1 if exp[i] == 'T' else 0, 1 if exp[i] == 'F' else 0)\n",
    "        else:\n",
    "            true_count = false_count = 0\n",
    "\n",
    "            for k in range(i + 1, j, 2):\n",
    "                lt, lf = backtrack(i, k - 1)\n",
    "                rt, rf = backtrack(k + 1, j)\n",
    "                if exp[k] == '|':\n",
    "                    true_count += (lt * rt) + (lt * rf) + (lf * rt)\n",
    "                    false_count += lf * rf\n",
    "                elif exp[k] == '&':\n",
    "                    true_count += (lt * rt)\n",
    "                    false_count += (lf * rf) + (lt * rf) + (lf * rt)\n",
    "                else:\n",
    "                    true_count += (lt * rf) + (lf * rt)\n",
    "                    false_count += (lt * rt) + (lf * rf)\n",
    "\n",
    "            return true_count, false_count\n",
    "\n",
    "    N = len(exp)\n",
    "    tc, fc = backtrack(0, N - 1)\n",
    "    return tc % 1000000007\n",
    "\n",
    "# Testing the solution\n",
    "assert evaluateExpMemo(\"T|T&F\") == 1\n",
    "assert evaluateExpMemo(\"T^T^F\") == 0\n",
    "assert evaluateExpMemo(\"F|T^F\") == 2"
   ]
  },
  {
   "cell_type": "code",
   "execution_count": 121,
   "id": "e2b87ae9",
   "metadata": {
    "execution": {
     "iopub.execute_input": "2024-05-24T15:47:36.016527Z",
     "iopub.status.busy": "2024-05-24T15:47:36.015944Z",
     "iopub.status.idle": "2024-05-24T15:47:36.023023Z",
     "shell.execute_reply": "2024-05-24T15:47:36.022543Z"
    },
    "lines_to_next_cell": 1,
    "papermill": {
     "duration": 0.029051,
     "end_time": "2024-05-24T15:47:36.024121",
     "exception": false,
     "start_time": "2024-05-24T15:47:35.995070",
     "status": "completed"
    },
    "tags": []
   },
   "outputs": [],
   "source": [
    "def evaluateExpTab(exp: str) -> int:\n",
    "    N = len(exp)\n",
    "    dp: list[list[list[int]]] = [[[0, 0] if i != j else [1 if exp[i] == 'T' else 0, 1 if exp[i] == 'F' else 0] for j in range(N)] for i in range(N)]\n",
    "    for i in range(N - 1, -1, -2):\n",
    "        for j in range(0, N, 2):\n",
    "            for k in range(i + 1, j, 2):\n",
    "                lt, lf = dp[i][k - 1]\n",
    "                rt, rf = dp[k + 1][j]\n",
    "                if exp[k] == '|':\n",
    "                    dp[i][j][0] += (lt * rt) + (lt * rf) + (lf * rt)\n",
    "                    dp[i][j][1] += (lf * rf)\n",
    "                elif exp[k] == '&':\n",
    "                    dp[i][j][0] += (lt * rt)\n",
    "                    dp[i][j][1] += (lf * rf) + (lt * rf) + (lf * rt)\n",
    "                else:\n",
    "                    dp[i][j][0] += (lt * rf) + (lf * rt)\n",
    "                    dp[i][j][1] += (lt * rt) + (lf * rf)\n",
    "\n",
    "    return dp[0][N - 1][0]\n",
    "\n",
    "# Testing the solution\n",
    "assert evaluateExpTab(\"T|T&F\") == 1\n",
    "assert evaluateExpTab(\"T^T^F\") == 0\n",
    "assert evaluateExpTab(\"F|T^F\") == 2"
   ]
  },
  {
   "cell_type": "markdown",
   "id": "f714c361",
   "metadata": {
    "papermill": {
     "duration": 0.019835,
     "end_time": "2024-05-24T15:47:36.064703",
     "exception": false,
     "start_time": "2024-05-24T15:47:36.044868",
     "status": "completed"
    },
    "tags": []
   },
   "source": [
    "Palindrome Partioning - II\n",
    "Video Link: https://youtu.be/_H8V5hJUGd0?si=OOY_8LYblESUYFXc"
   ]
  },
  {
   "cell_type": "code",
   "execution_count": 122,
   "id": "af3fe529",
   "metadata": {
    "execution": {
     "iopub.execute_input": "2024-05-24T15:47:36.106794Z",
     "iopub.status.busy": "2024-05-24T15:47:36.106259Z",
     "iopub.status.idle": "2024-05-24T15:47:36.112029Z",
     "shell.execute_reply": "2024-05-24T15:47:36.111563Z"
    },
    "lines_to_next_cell": 1,
    "papermill": {
     "duration": 0.0283,
     "end_time": "2024-05-24T15:47:36.113149",
     "exception": false,
     "start_time": "2024-05-24T15:47:36.084849",
     "status": "completed"
    },
    "tags": []
   },
   "outputs": [],
   "source": [
    "# Time out :(\n",
    "def minCutBrute(s: str) -> int:\n",
    "    @functools.cache\n",
    "    def isPalindrome(i: int, j: int) -> bool:\n",
    "        if i >= j:\n",
    "            return True\n",
    "        elif s[i] == s[j]:\n",
    "            return isPalindrome(i + 1, j - 1)\n",
    "        else:\n",
    "            return False\n",
    "\n",
    "    @functools.cache\n",
    "    def backtrack(i: int, j: int) -> int:\n",
    "        if isPalindrome(i, j):\n",
    "            return 0\n",
    "        else:\n",
    "            min_ = N\n",
    "            for k in range(i, j):\n",
    "                min_ = min(min_, 1 + backtrack(i, k) + backtrack(k + 1, j))\n",
    "            return min_\n",
    "\n",
    "    N = len(s)\n",
    "    return backtrack(0, N - 1)\n",
    "\n",
    "# Testing the solution\n",
    "assert minCutBrute(\"racecarmalayalammadam\") == 2"
   ]
  },
  {
   "cell_type": "code",
   "execution_count": 123,
   "id": "8bb639d1",
   "metadata": {
    "execution": {
     "iopub.execute_input": "2024-05-24T15:47:36.156071Z",
     "iopub.status.busy": "2024-05-24T15:47:36.155534Z",
     "iopub.status.idle": "2024-05-24T15:47:36.160786Z",
     "shell.execute_reply": "2024-05-24T15:47:36.160249Z"
    },
    "lines_to_next_cell": 1,
    "papermill": {
     "duration": 0.027628,
     "end_time": "2024-05-24T15:47:36.161868",
     "exception": false,
     "start_time": "2024-05-24T15:47:36.134240",
     "status": "completed"
    },
    "tags": []
   },
   "outputs": [],
   "source": [
    "# https://leetcode.com/problems/palindrome-partitioning-ii/submissions/1265073831/\n",
    "def minCutMemo(s: str) -> int:\n",
    "    @functools.cache\n",
    "    def isPalindrome(i: int, j: int) -> bool:\n",
    "        if i >= j:\n",
    "            return True\n",
    "        elif s[i] == s[j]:\n",
    "            return isPalindrome(i + 1, j - 1)\n",
    "        else:\n",
    "            return False\n",
    "\n",
    "    @functools.cache\n",
    "    def backtrack(i: int):\n",
    "        if i == N:\n",
    "            return 0\n",
    "        else:\n",
    "            min_: int = N\n",
    "            for k in range(i, N):\n",
    "                if isPalindrome(i, k):\n",
    "                    min_ = min(min_, 1 + backtrack(k + 1))\n",
    "            return min_\n",
    "\n",
    "    N = len(s)\n",
    "    return backtrack(0) - 1\n",
    "\n",
    "# Testing the solution\n",
    "assert minCutMemo(\"racecarmalayalammadam\") == 2"
   ]
  },
  {
   "cell_type": "code",
   "execution_count": 124,
   "id": "9ef6014f",
   "metadata": {
    "execution": {
     "iopub.execute_input": "2024-05-24T15:47:36.204187Z",
     "iopub.status.busy": "2024-05-24T15:47:36.203644Z",
     "iopub.status.idle": "2024-05-24T15:47:36.208768Z",
     "shell.execute_reply": "2024-05-24T15:47:36.208333Z"
    },
    "lines_to_next_cell": 1,
    "papermill": {
     "duration": 0.027073,
     "end_time": "2024-05-24T15:47:36.209893",
     "exception": false,
     "start_time": "2024-05-24T15:47:36.182820",
     "status": "completed"
    },
    "tags": []
   },
   "outputs": [],
   "source": [
    "# https://leetcode.com/problems/palindrome-partitioning-ii/submissions/1265079990/\n",
    "def minCut(s: str) -> int:\n",
    "    @functools.cache\n",
    "    def isPalindrome(i: int, j: int) -> bool:\n",
    "        if i >= j:\n",
    "            return True\n",
    "        elif s[i] == s[j]:\n",
    "            return isPalindrome(i + 1, j - 1)\n",
    "        else:\n",
    "            return False\n",
    "\n",
    "    N = len(s)\n",
    "    dp: list[int] = [N if i < N else 0 for i in range(N + 1)]\n",
    "    for i in range(N - 1, -1, -1):\n",
    "        for k in range(i, N):\n",
    "            if isPalindrome(i, k):\n",
    "                dp[i] = min(dp[i], 1 + dp[k + 1])\n",
    "\n",
    "    return dp[0] - 1\n",
    "\n",
    "# Testing the solution\n",
    "assert minCut(\"racecarmalayalammadam\") == 2"
   ]
  },
  {
   "cell_type": "markdown",
   "id": "7ac10060",
   "metadata": {
    "papermill": {
     "duration": 0.020112,
     "end_time": "2024-05-24T15:47:36.250913",
     "exception": false,
     "start_time": "2024-05-24T15:47:36.230801",
     "status": "completed"
    },
    "tags": []
   },
   "source": [
    "Video Link: https://youtu.be/PhWWJmaKfMc?si=H-WauOziRcL4hSvH\n",
    "Partition array for Maximum sum: https://leetcode.com/problems/partition-array-for-maximum-sum/"
   ]
  },
  {
   "cell_type": "code",
   "execution_count": 125,
   "id": "fa20e840",
   "metadata": {
    "execution": {
     "iopub.execute_input": "2024-05-24T15:47:36.316876Z",
     "iopub.status.busy": "2024-05-24T15:47:36.316370Z",
     "iopub.status.idle": "2024-05-24T15:47:36.321919Z",
     "shell.execute_reply": "2024-05-24T15:47:36.321456Z"
    },
    "lines_to_next_cell": 1,
    "papermill": {
     "duration": 0.02754,
     "end_time": "2024-05-24T15:47:36.322968",
     "exception": false,
     "start_time": "2024-05-24T15:47:36.295428",
     "status": "completed"
    },
    "tags": []
   },
   "outputs": [],
   "source": [
    "# https://leetcode.com/problems/partition-array-for-maximum-sum/submissions/1265345168\n",
    "def maxSumAfterPartitioningMemo(arr: list[int], partition_len: int) -> int:\n",
    "    @functools.cache\n",
    "    def backtrack(i: int) -> int:\n",
    "        max_sum, partition_max = 0, arr[i] if i < N else 0\n",
    "        for k in range(i, min(i + partition_len, N)):\n",
    "            partition_max = max(partition_max, arr[k])\n",
    "            max_sum = max(max_sum, (partition_max * (k - i + 1)) + backtrack(k + 1))\n",
    "\n",
    "        return max_sum\n",
    "\n",
    "    N = len(arr)\n",
    "    return backtrack(0)\n",
    "\n",
    "# Testing the solution\n",
    "assert maxSumAfterPartitioningMemo([1,15,7,9,2,5,10], 3) == 84\n",
    "assert maxSumAfterPartitioningMemo([1,4,1,5,7,3,6,1,9,9,3], 4) == 83\n",
    "assert maxSumAfterPartitioningMemo([1], 1) == 1"
   ]
  },
  {
   "cell_type": "code",
   "execution_count": 126,
   "id": "b99c657b",
   "metadata": {
    "execution": {
     "iopub.execute_input": "2024-05-24T15:47:36.365009Z",
     "iopub.status.busy": "2024-05-24T15:47:36.364502Z",
     "iopub.status.idle": "2024-05-24T15:47:36.369942Z",
     "shell.execute_reply": "2024-05-24T15:47:36.369393Z"
    },
    "lines_to_next_cell": 1,
    "papermill": {
     "duration": 0.027285,
     "end_time": "2024-05-24T15:47:36.370989",
     "exception": false,
     "start_time": "2024-05-24T15:47:36.343704",
     "status": "completed"
    },
    "tags": []
   },
   "outputs": [],
   "source": [
    "# https://leetcode.com/problems/partition-array-for-maximum-sum/submissions/1265346933/\n",
    "def maxSumAfterPartitioningTab(arr: list[int], partition_len: int) -> int:\n",
    "    N = len(arr)\n",
    "    dp: list[int] = [0 for i in range(N + 1)]\n",
    "    for i in range(N - 1, -1, -1):\n",
    "        partition_max = arr[i]\n",
    "        for k in range(i, min(i + partition_len, N)):\n",
    "            partition_max = max(partition_max, arr[k])\n",
    "            dp[i] = max(dp[i], (partition_max * (k - i + 1)) + dp[k + 1])\n",
    "\n",
    "    return dp[0]\n",
    "\n",
    "# Testing the solution\n",
    "assert maxSumAfterPartitioningTab([1,15,7,9,2,5,10], 3) == 84\n",
    "assert maxSumAfterPartitioningTab([1,4,1,5,7,3,6,1,9,9,3], 4) == 83\n",
    "assert maxSumAfterPartitioningTab([1], 1) == 1"
   ]
  },
  {
   "cell_type": "markdown",
   "id": "9443fb6d",
   "metadata": {
    "papermill": {
     "duration": 0.019861,
     "end_time": "2024-05-24T15:47:36.411306",
     "exception": false,
     "start_time": "2024-05-24T15:47:36.391445",
     "status": "completed"
    },
    "tags": []
   },
   "source": [
    "Video Link: https://youtu.be/tOylVCugy9k?si=k4-22OPYjlUCexAT\n",
    "Maximum rectangle with all 1s: https://leetcode.com/problems/maximal-rectangle"
   ]
  },
  {
   "cell_type": "code",
   "execution_count": 127,
   "id": "3c8d2dff",
   "metadata": {
    "execution": {
     "iopub.execute_input": "2024-05-24T15:47:36.452222Z",
     "iopub.status.busy": "2024-05-24T15:47:36.451943Z",
     "iopub.status.idle": "2024-05-24T15:47:36.464751Z",
     "shell.execute_reply": "2024-05-24T15:47:36.464281Z"
    },
    "lines_to_next_cell": 1,
    "papermill": {
     "duration": 0.034648,
     "end_time": "2024-05-24T15:47:36.465800",
     "exception": false,
     "start_time": "2024-05-24T15:47:36.431152",
     "status": "completed"
    },
    "tags": []
   },
   "outputs": [],
   "source": [
    "# https://leetcode.com/problems/maximal-rectangle/submissions/1266681280/\n",
    "def maximalRectangle(matrix: list[list[str]]) -> int:\n",
    "    \"\"\"\n",
    "    - For each cell, calculate count of 1s to the \"right\" and the below (\"down\")\n",
    "\n",
    "    - For each cell\n",
    "        right_count: Calculate count of rows to the right that are greater than or equal to \"down\"\n",
    "        down_count: Calculate count of rows to the down that are greater than or equal to \"right\"\n",
    "        Area is max(right * right_count, down * down_count)\n",
    "\n",
    "    - Find max of all such areas\n",
    "    \"\"\"\n",
    "\n",
    "    ROWS, COLS = len(matrix), len(matrix[0])\n",
    "    dp: list[list[tuple[int, int]]] = [[(1, 1) if matrix[i][j] == \"1\" else (0, 0) for j in range(COLS)] for i in range(ROWS)]\n",
    "    for i in range(ROWS - 1, -1, -1):\n",
    "        for j in range(COLS - 1, -1, -1):\n",
    "            if matrix[i][j] == \"1\":\n",
    "                RIGHT = (dp[i][j + 1][0] if j + 1 < COLS else 0) + 1\n",
    "                DOWN = (dp[i + 1][j][1] if i + 1 < ROWS else 0) + 1\n",
    "                dp[i][j] = RIGHT, DOWN\n",
    "\n",
    "    right_counts: list[list[int]] = [[COLS - j for j in range(COLS)] for i in range(ROWS)]\n",
    "    for i in range(ROWS):\n",
    "        stack: list[tuple[int, int]] = []\n",
    "        for j in range(COLS):\n",
    "            curr = dp[i][j][1], j\n",
    "            while stack and stack[-1][0] > curr[0]:\n",
    "                prev = stack.pop()\n",
    "                right_counts[i][prev[1]] = curr[1] - prev[1]\n",
    "            stack.append(curr)\n",
    "\n",
    "    left_counts: list[list[int]] = [[j + 1 for j in range(COLS)] for i in range(ROWS)]\n",
    "    for i in range(ROWS):\n",
    "        stack = []\n",
    "        for j in range(COLS - 1, -1, -1):\n",
    "            curr = dp[i][j][1], j\n",
    "            while stack and stack[-1][0] > curr[0]:\n",
    "                prev = stack.pop()\n",
    "                left_counts[i][prev[1]] =  prev[1] - curr[1]\n",
    "            stack.append(curr)\n",
    "\n",
    "    down_counts: list[list[int]] = [[ROWS - i for j in range(COLS)] for i in range(ROWS)]\n",
    "    for j in range(COLS):\n",
    "        stack = []\n",
    "        for i in range(ROWS):\n",
    "            curr = dp[i][j][0], i\n",
    "            while stack and stack[-1][0] > curr[0]:\n",
    "                prev = stack.pop()\n",
    "                down_counts[prev[1]][j] = curr[1] - prev[1]\n",
    "            stack.append(curr)\n",
    "\n",
    "    up_counts: list[list[int]] = [[i + 1 for j in range(COLS)] for i in range(ROWS)]\n",
    "    for j in range(COLS):\n",
    "        stack = []\n",
    "        for i in range(ROWS - 1, -1, -1):\n",
    "            curr = dp[i][j][0], i\n",
    "            while stack and stack[-1][0] > curr[0]:\n",
    "                prev = stack.pop()\n",
    "                up_counts[prev[1]][j] =  prev[1] - curr[1]\n",
    "            stack.append(curr)\n",
    "\n",
    "    max_ = 0\n",
    "    for i in range(ROWS):\n",
    "        for j in range(COLS):\n",
    "            if matrix[i][j] == \"1\":\n",
    "                max_ = max(max_, dp[i][j][1] * (right_counts[i][j] + left_counts[i][j] - 1), dp[i][j][0] * (down_counts[i][j] + up_counts[i][j] - 1))\n",
    "\n",
    "    return max_\n",
    "\n",
    "# Testing the solution\n",
    "assert maximalRectangle([[\"1\",\"0\",\"1\",\"0\",\"0\"],[\"1\",\"0\",\"1\",\"1\",\"1\"],[\"1\",\"1\",\"1\",\"1\",\"1\"],[\"1\",\"0\",\"0\",\"1\",\"0\"]]) == 6"
   ]
  },
  {
   "cell_type": "code",
   "execution_count": 128,
   "id": "a97d2b3b",
   "metadata": {
    "execution": {
     "iopub.execute_input": "2024-05-24T15:47:36.507427Z",
     "iopub.status.busy": "2024-05-24T15:47:36.506898Z",
     "iopub.status.idle": "2024-05-24T15:47:36.514389Z",
     "shell.execute_reply": "2024-05-24T15:47:36.513840Z"
    },
    "lines_to_next_cell": 1,
    "papermill": {
     "duration": 0.029597,
     "end_time": "2024-05-24T15:47:36.515689",
     "exception": false,
     "start_time": "2024-05-24T15:47:36.486092",
     "status": "completed"
    },
    "tags": []
   },
   "outputs": [],
   "source": [
    "# Striver's Solution\n",
    "# https://leetcode.com/problems/maximal-rectangle/submissions/1266698905/\n",
    "def maximalRectangleStriver(matrix: list[list[str]]) -> int:\n",
    "    \"\"\"\n",
    "    For each row compute the elevation and compute the largest rectangle in that histogram.\n",
    "    If prev cell is 0 for j, reset elevation as 0. Otherwise increase elevation by 1.\n",
    "\n",
    "    Find maximum of all largestRectangleAreas for all rows.\n",
    "\n",
    "    Time: O (N ^ 2), Space: O(N)\n",
    "    \"\"\"\n",
    "    def largestRectangleArea(heights: list[int]) -> int:\n",
    "        N = len(heights)\n",
    "\n",
    "        stack: list[int] = []\n",
    "        right_dp: list[int] = [N - i for i in range(N)]\n",
    "        for i in range(N):\n",
    "            while stack and heights[stack[-1]] > heights[i]:\n",
    "                prev = stack.pop()\n",
    "                right_dp[prev] = i - prev\n",
    "            stack.append(i)\n",
    "\n",
    "        stack = []\n",
    "        left_dp: list[int] = [i + 1 for i in range(N)]\n",
    "        for i in range(N - 1, -1, -1):\n",
    "            while stack and heights[stack[-1]] > heights[i]:\n",
    "                prev = stack.pop()\n",
    "                left_dp[prev] = prev - i\n",
    "            stack.append(i)\n",
    "\n",
    "        max_ = 0\n",
    "        for i in range(N):\n",
    "            max_ = max(max_, heights[i] * (left_dp[i] + right_dp[i] - 1))\n",
    "\n",
    "        return max_\n",
    "\n",
    "    ROWS, COLS = len(matrix), len(matrix[0])\n",
    "\n",
    "    max_ = 0\n",
    "    curr: list[int] = [0 for j in range(COLS)]\n",
    "    for i in range(ROWS):\n",
    "        for j in range(COLS):\n",
    "            if matrix[i][j] == \"1\":\n",
    "                curr[j] += 1\n",
    "            else:\n",
    "                curr[j] = 0\n",
    "\n",
    "        max_ = max(max_, largestRectangleArea(curr))\n",
    "\n",
    "    return max_\n",
    "\n",
    "# Testing the solution\n",
    "assert maximalRectangleStriver([[\"1\",\"0\",\"1\",\"0\",\"0\"],[\"1\",\"0\",\"1\",\"1\",\"1\"],[\"1\",\"1\",\"1\",\"1\",\"1\"],[\"1\",\"0\",\"0\",\"1\",\"0\"]]) == 6"
   ]
  },
  {
   "cell_type": "markdown",
   "id": "969fa14d",
   "metadata": {
    "papermill": {
     "duration": 0.019938,
     "end_time": "2024-05-24T15:47:36.556232",
     "exception": false,
     "start_time": "2024-05-24T15:47:36.536294",
     "status": "completed"
    },
    "tags": []
   },
   "source": [
    "Count max submatrices with all 1s\n",
    "Video Link: https://youtu.be/auS1fynpnjo?si=ZGi2fdRHjjiYKI1I\n",
    "Problem link: https://leetcode.com/problems/count-square-submatrices-with-all-ones/"
   ]
  },
  {
   "cell_type": "code",
   "execution_count": 129,
   "id": "39b4132b",
   "metadata": {
    "execution": {
     "iopub.execute_input": "2024-05-24T15:47:36.597292Z",
     "iopub.status.busy": "2024-05-24T15:47:36.596813Z",
     "iopub.status.idle": "2024-05-24T15:47:36.602378Z",
     "shell.execute_reply": "2024-05-24T15:47:36.601881Z"
    },
    "papermill": {
     "duration": 0.02742,
     "end_time": "2024-05-24T15:47:36.603465",
     "exception": false,
     "start_time": "2024-05-24T15:47:36.576045",
     "status": "completed"
    },
    "tags": []
   },
   "outputs": [],
   "source": [
    "# https://leetcode.com/problems/count-square-submatrices-with-all-ones/submissions/1266717874\n",
    "def countSquares(matrix: list[list[int]]) -> int:\n",
    "    square_count = 0\n",
    "    ROWS, COLS = len(matrix), len(matrix[0])\n",
    "    for i in range(ROWS - 1, -1, -1):\n",
    "        for j in range(COLS - 1, -1, -1):\n",
    "            if matrix[i][j] == 1:\n",
    "                matrix[i][j] = 1 + min(matrix[i][j + 1] if j + 1 < COLS else 0, matrix[i + 1][j] if i + 1 < ROWS else 0, matrix[i + 1][j + 1] if i + 1 < ROWS and j + 1 < COLS else 0)\n",
    "                square_count += matrix[i][j]\n",
    "\n",
    "    return square_count\n",
    "\n",
    "# Testing the solution\n",
    "assert countSquares([[1,0,1],[1,1,0],[1,1,0]]) == 7\n",
    "assert countSquares([[0,1,1,1],[1,1,1,1],[0,1,1,1]]) == 15"
   ]
  }
 ],
 "metadata": {
  "kernelspec": {
   "display_name": "Python 3 (ipykernel)",
   "language": "python",
   "name": "python3"
  },
  "language_info": {
   "codemirror_mode": {
    "name": "ipython",
    "version": 3
   },
   "file_extension": ".py",
   "mimetype": "text/x-python",
   "name": "python",
   "nbconvert_exporter": "python",
   "pygments_lexer": "ipython3",
   "version": "3.11.9"
  },
  "papermill": {
   "default_parameters": {},
   "duration": 9.644833,
   "end_time": "2024-05-24T15:47:36.739196",
   "environment_variables": {},
   "exception": null,
   "input_path": "study/striver-A2Z/13-dp.ipynb",
   "output_path": "study/striver-A2Z/13-dp.ipynb",
   "parameters": {},
   "start_time": "2024-05-24T15:47:27.094363",
   "version": "2.6.0"
  }
 },
 "nbformat": 4,
 "nbformat_minor": 5
}