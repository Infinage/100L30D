{
 "cells": [
  {
   "cell_type": "markdown",
   "id": "457ab51f",
   "metadata": {
    "papermill": {
     "duration": 0.005964,
     "end_time": "2024-05-09T07:01:29.188633",
     "exception": false,
     "start_time": "2024-05-09T07:01:29.182669",
     "status": "completed"
    },
    "tags": []
   },
   "source": [
    "### Some important imports"
   ]
  },
  {
   "cell_type": "code",
   "execution_count": 1,
   "id": "164d751b",
   "metadata": {
    "execution": {
     "iopub.execute_input": "2024-05-09T07:01:29.200194Z",
     "iopub.status.busy": "2024-05-09T07:01:29.199717Z",
     "iopub.status.idle": "2024-05-09T07:01:29.204865Z",
     "shell.execute_reply": "2024-05-09T07:01:29.204366Z"
    },
    "lines_to_next_cell": 1,
    "papermill": {
     "duration": 0.012139,
     "end_time": "2024-05-09T07:01:29.206038",
     "exception": false,
     "start_time": "2024-05-09T07:01:29.193899",
     "status": "completed"
    },
    "tags": []
   },
   "outputs": [],
   "source": [
    "import functools\n",
    "import itertools\n",
    "import collections\n",
    "import math\n",
    "import heapq"
   ]
  },
  {
   "cell_type": "markdown",
   "id": "48648354",
   "metadata": {
    "papermill": {
     "duration": 0.005223,
     "end_time": "2024-05-09T07:01:29.217306",
     "exception": false,
     "start_time": "2024-05-09T07:01:29.212083",
     "status": "completed"
    },
    "tags": []
   },
   "source": [
    "Introduction to DP: https://youtu.be/tyB0ztf0DNY?si=SgpBwGNqPXzdPSRA\n",
    "1. Tabulation: Bottom up DP: Ans -> Base case -> Ans\n",
    "2. Memoization: Top down DP: Base case -> Ans"
   ]
  },
  {
   "cell_type": "code",
   "execution_count": 2,
   "id": "41c46591",
   "metadata": {
    "execution": {
     "iopub.execute_input": "2024-05-09T07:01:29.228558Z",
     "iopub.status.busy": "2024-05-09T07:01:29.228390Z",
     "iopub.status.idle": "2024-05-09T07:01:29.234189Z",
     "shell.execute_reply": "2024-05-09T07:01:29.233760Z"
    },
    "lines_to_next_cell": 1,
    "papermill": {
     "duration": 0.012675,
     "end_time": "2024-05-09T07:01:29.235192",
     "exception": false,
     "start_time": "2024-05-09T07:01:29.222517",
     "status": "completed"
    },
    "tags": []
   },
   "outputs": [
    {
     "data": {
      "text/plain": [
       "55"
      ]
     },
     "execution_count": 2,
     "metadata": {},
     "output_type": "execute_result"
    }
   ],
   "source": [
    "def fiboBrute(n: int) -> int:\n",
    "    \"\"\"\n",
    "    Vanilla recursion\n",
    "    Time: O(2 ^ N), Space: O(2 ^ N)\n",
    "    \"\"\"\n",
    "    if n <= 1:\n",
    "        return n\n",
    "    else:\n",
    "        return fiboBrute(n - 1) + fiboBrute(n - 2)\n",
    "\n",
    "fiboBrute(10)"
   ]
  },
  {
   "cell_type": "code",
   "execution_count": 3,
   "id": "83ba7cd5",
   "metadata": {
    "execution": {
     "iopub.execute_input": "2024-05-09T07:01:29.246904Z",
     "iopub.status.busy": "2024-05-09T07:01:29.246456Z",
     "iopub.status.idle": "2024-05-09T07:01:29.251667Z",
     "shell.execute_reply": "2024-05-09T07:01:29.251160Z"
    },
    "lines_to_next_cell": 1,
    "papermill": {
     "duration": 0.012155,
     "end_time": "2024-05-09T07:01:29.252742",
     "exception": false,
     "start_time": "2024-05-09T07:01:29.240587",
     "status": "completed"
    },
    "tags": []
   },
   "outputs": [
    {
     "data": {
      "text/plain": [
       "55"
      ]
     },
     "execution_count": 3,
     "metadata": {},
     "output_type": "execute_result"
    }
   ],
   "source": [
    "def fiboBetter1(n: int) -> int:\n",
    "    \"\"\"\n",
    "    Memoization Approach: Top down approach\n",
    "    Time: O(N), Space: O(N) + O(N)\n",
    "    \"\"\"\n",
    "    dp: list[int] = [-1 for i in range(n + 1)]\n",
    "    def backtrack(curr: int) -> int:\n",
    "        if curr <= 1:\n",
    "            return curr\n",
    "        elif dp[curr] != -1:\n",
    "            return dp[curr]\n",
    "        else:\n",
    "            dp[curr] = backtrack(curr - 1) + backtrack(curr - 2)\n",
    "            return dp[curr]\n",
    "\n",
    "    return backtrack(n)\n",
    "\n",
    "fiboBetter1(10)"
   ]
  },
  {
   "cell_type": "code",
   "execution_count": 4,
   "id": "80fded7e",
   "metadata": {
    "execution": {
     "iopub.execute_input": "2024-05-09T07:01:29.264435Z",
     "iopub.status.busy": "2024-05-09T07:01:29.264083Z",
     "iopub.status.idle": "2024-05-09T07:01:29.268739Z",
     "shell.execute_reply": "2024-05-09T07:01:29.268232Z"
    },
    "lines_to_next_cell": 1,
    "papermill": {
     "duration": 0.011672,
     "end_time": "2024-05-09T07:01:29.269809",
     "exception": false,
     "start_time": "2024-05-09T07:01:29.258137",
     "status": "completed"
    },
    "tags": []
   },
   "outputs": [
    {
     "data": {
      "text/plain": [
       "55"
      ]
     },
     "execution_count": 4,
     "metadata": {},
     "output_type": "execute_result"
    }
   ],
   "source": [
    "def fiboBetter2(n: int) -> int:\n",
    "    \"\"\"\n",
    "    Tabulation: Bottom up approach\n",
    "    Time: O(N), Space: O(N)\n",
    "    \"\"\"\n",
    "    dp: list[int] = [-1 if i > 1 else i for i in range(n + 1)]\n",
    "    for i in range(2, n + 1):\n",
    "        dp[i] = dp[i - 1] + dp[i - 2]\n",
    "\n",
    "    return dp[n]\n",
    "\n",
    "fiboBetter2(10)"
   ]
  },
  {
   "cell_type": "code",
   "execution_count": 5,
   "id": "8f7d86e2",
   "metadata": {
    "execution": {
     "iopub.execute_input": "2024-05-09T07:01:29.281646Z",
     "iopub.status.busy": "2024-05-09T07:01:29.281273Z",
     "iopub.status.idle": "2024-05-09T07:01:29.285578Z",
     "shell.execute_reply": "2024-05-09T07:01:29.285066Z"
    },
    "lines_to_next_cell": 1,
    "papermill": {
     "duration": 0.01139,
     "end_time": "2024-05-09T07:01:29.286580",
     "exception": false,
     "start_time": "2024-05-09T07:01:29.275190",
     "status": "completed"
    },
    "tags": []
   },
   "outputs": [
    {
     "data": {
      "text/plain": [
       "55"
      ]
     },
     "execution_count": 5,
     "metadata": {},
     "output_type": "execute_result"
    }
   ],
   "source": [
    "def fiboOptimal(n: int) -> int:\n",
    "    \"\"\"\n",
    "    Bottom up approach\n",
    "    Time: O(N), Space: O(1)\n",
    "    \"\"\"\n",
    "    prev2, prev1 = 0, 1\n",
    "    for i in range(2, n + 1):\n",
    "        prev2, prev1 = prev1, prev1 + prev2\n",
    "        n -= 1\n",
    "\n",
    "    return prev1\n",
    "\n",
    "fiboOptimal(10)"
   ]
  },
  {
   "cell_type": "markdown",
   "id": "855c35fb",
   "metadata": {
    "papermill": {
     "duration": 0.005386,
     "end_time": "2024-05-09T07:01:29.297430",
     "exception": false,
     "start_time": "2024-05-09T07:01:29.292044",
     "status": "completed"
    },
    "tags": []
   },
   "source": [
    "Climbing Stairs: https://leetcode.com/problems/climbing-stairs/\n",
    "Video Link: https://youtu.be/mLfjzJsN8us?si=C7W-jiYvql0mEnbh"
   ]
  },
  {
   "cell_type": "code",
   "execution_count": 6,
   "id": "87993489",
   "metadata": {
    "execution": {
     "iopub.execute_input": "2024-05-09T07:01:29.309351Z",
     "iopub.status.busy": "2024-05-09T07:01:29.309070Z",
     "iopub.status.idle": "2024-05-09T07:01:29.312884Z",
     "shell.execute_reply": "2024-05-09T07:01:29.312338Z"
    },
    "lines_to_next_cell": 1,
    "papermill": {
     "duration": 0.01097,
     "end_time": "2024-05-09T07:01:29.313898",
     "exception": false,
     "start_time": "2024-05-09T07:01:29.302928",
     "status": "completed"
    },
    "tags": []
   },
   "outputs": [],
   "source": [
    "def climbStairsBetter(n: int) -> int:\n",
    "    \"\"\"Time: O(N), Space: O(N)\"\"\"\n",
    "\n",
    "    dp: list[int] = [-1 for i in range(n + 1)]\n",
    "    def backtrack(curr: int) -> int:\n",
    "        if curr <= 1:\n",
    "            return 1\n",
    "        elif dp[curr] != -1:\n",
    "            return dp[curr]\n",
    "        else:\n",
    "            dp[curr] = backtrack(curr - 1) + backtrack(curr - 2)\n",
    "            return dp[curr]\n",
    "\n",
    "    return backtrack(n)\n",
    "\n",
    "assert climbStairsBetter(45) == 1836311903"
   ]
  },
  {
   "cell_type": "code",
   "execution_count": 7,
   "id": "2dc15ac3",
   "metadata": {
    "execution": {
     "iopub.execute_input": "2024-05-09T07:01:29.325811Z",
     "iopub.status.busy": "2024-05-09T07:01:29.325420Z",
     "iopub.status.idle": "2024-05-09T07:01:29.328631Z",
     "shell.execute_reply": "2024-05-09T07:01:29.328060Z"
    },
    "lines_to_next_cell": 1,
    "papermill": {
     "duration": 0.010174,
     "end_time": "2024-05-09T07:01:29.329637",
     "exception": false,
     "start_time": "2024-05-09T07:01:29.319463",
     "status": "completed"
    },
    "tags": []
   },
   "outputs": [],
   "source": [
    "def climbStairs(n: int) -> int:\n",
    "    \"\"\"Time: O(N), Space: O(1)\"\"\"\n",
    "    prev2, prev1 = 1, 1\n",
    "    while n > 0:\n",
    "        prev2, prev1 = prev1, prev1 + prev2\n",
    "        n -= 1\n",
    "\n",
    "    return prev2\n",
    "\n",
    "assert climbStairs(45) == 1836311903"
   ]
  },
  {
   "cell_type": "markdown",
   "id": "3cd4d88c",
   "metadata": {
    "papermill": {
     "duration": 0.00537,
     "end_time": "2024-05-09T07:01:29.340530",
     "exception": false,
     "start_time": "2024-05-09T07:01:29.335160",
     "status": "completed"
    },
    "tags": []
   },
   "source": [
    "Video link: https://youtu.be/EgG3jsGoPvQ?si=Cm5AVvq_zCnr-w6q\n",
    "Frog Jump: 1"
   ]
  },
  {
   "cell_type": "code",
   "execution_count": 8,
   "id": "59c27b1e",
   "metadata": {
    "execution": {
     "iopub.execute_input": "2024-05-09T07:01:29.352302Z",
     "iopub.status.busy": "2024-05-09T07:01:29.351814Z",
     "iopub.status.idle": "2024-05-09T07:01:29.356730Z",
     "shell.execute_reply": "2024-05-09T07:01:29.356165Z"
    },
    "lines_to_next_cell": 1,
    "papermill": {
     "duration": 0.011881,
     "end_time": "2024-05-09T07:01:29.357806",
     "exception": false,
     "start_time": "2024-05-09T07:01:29.345925",
     "status": "completed"
    },
    "tags": []
   },
   "outputs": [],
   "source": [
    "def frogJumpBetter(N: int, heights: list[int]) -> int:\n",
    "    \"\"\"\n",
    "    Time: O(N), Space: O(N) + O(N)\n",
    "    \"\"\"\n",
    "\n",
    "    @functools.cache\n",
    "    def backtrack(curr: int) -> int:\n",
    "        if curr == N - 1:\n",
    "            return 0\n",
    "        elif curr == N - 2:\n",
    "            return abs(heights[N - 1] - heights[N - 2])\n",
    "        else:\n",
    "            jump1 = abs(heights[curr] - heights[curr + 1]) + backtrack(curr + 1)\n",
    "            jump2 = abs(heights[curr] - heights[curr + 2]) + backtrack(curr + 2)\n",
    "            return min(jump1, jump2)\n",
    "\n",
    "    return backtrack(0)\n",
    "\n",
    "# Testing the solution\n",
    "assert frogJumpBetter(4, [10,20,30,10]) == 20\n",
    "assert frogJumpBetter(3, [10,50,10]) == 0"
   ]
  },
  {
   "cell_type": "code",
   "execution_count": 9,
   "id": "2bc52e04",
   "metadata": {
    "execution": {
     "iopub.execute_input": "2024-05-09T07:01:29.369476Z",
     "iopub.status.busy": "2024-05-09T07:01:29.369306Z",
     "iopub.status.idle": "2024-05-09T07:01:29.373318Z",
     "shell.execute_reply": "2024-05-09T07:01:29.372892Z"
    },
    "lines_to_next_cell": 1,
    "papermill": {
     "duration": 0.011038,
     "end_time": "2024-05-09T07:01:29.374333",
     "exception": false,
     "start_time": "2024-05-09T07:01:29.363295",
     "status": "completed"
    },
    "tags": []
   },
   "outputs": [],
   "source": [
    "def frogJumpOptimal(N: int, heights: list[int]) -> int:\n",
    "    \"Time: O(N), Space: O(1)\"\n",
    "    jump1, jump2 = abs(heights[-2] - heights[-1]), 0\n",
    "    for i in range(N - 3, -1, -1):\n",
    "        curr = min(abs(heights[i] - heights[i + 1]) + jump1, abs(heights[i] - heights[i + 2]) + jump2)\n",
    "        jump1, jump2 = curr, jump1\n",
    "\n",
    "    return jump1\n",
    "\n",
    "assert frogJumpOptimal(4, [10,20,30,10]) == 20\n",
    "assert frogJumpOptimal(3, [10,50,10]) == 0"
   ]
  },
  {
   "cell_type": "markdown",
   "id": "4fa38d19",
   "metadata": {
    "papermill": {
     "duration": 0.005389,
     "end_time": "2024-05-09T07:01:29.385200",
     "exception": false,
     "start_time": "2024-05-09T07:01:29.379811",
     "status": "completed"
    },
    "tags": []
   },
   "source": [
    "Video Link: https://youtu.be/Kmh3rhyEtB8?si=rqZ5-pJcjIzWU5i8\n",
    "Frog Jump with K distance"
   ]
  },
  {
   "cell_type": "code",
   "execution_count": 10,
   "id": "f21ca119",
   "metadata": {
    "execution": {
     "iopub.execute_input": "2024-05-09T07:01:29.396936Z",
     "iopub.status.busy": "2024-05-09T07:01:29.396739Z",
     "iopub.status.idle": "2024-05-09T07:01:29.401191Z",
     "shell.execute_reply": "2024-05-09T07:01:29.400780Z"
    },
    "lines_to_next_cell": 1,
    "papermill": {
     "duration": 0.011735,
     "end_time": "2024-05-09T07:01:29.402408",
     "exception": false,
     "start_time": "2024-05-09T07:01:29.390673",
     "status": "completed"
    },
    "tags": []
   },
   "outputs": [],
   "source": [
    "def frogJumpAtKDistBetter1(N: int, K: int, heights: list[int]) -> int:\n",
    "    \"\"\"\n",
    "    Memoization Approach: Top Down Approach\n",
    "    Time: O(N x K), Space: O(N) + O(N)\n",
    "    \"\"\"\n",
    "\n",
    "    @functools.cache\n",
    "    def backtrack(curr: int) -> int:\n",
    "        if curr >= N - 1:\n",
    "            return 0\n",
    "        else:\n",
    "            minCost = math.inf\n",
    "            for next_ in range(curr + 1, min(N, curr + K + 1)):\n",
    "                cost = abs(heights[curr] - heights[next_]) + backtrack(next_)\n",
    "                minCost = min(minCost, cost)\n",
    "\n",
    "            return int(minCost)\n",
    "\n",
    "    return backtrack(0)\n",
    "\n",
    "# Testing the solution\n",
    "assert frogJumpAtKDistBetter1(5, 3, [10,30,40,50,20]) == 30\n",
    "assert frogJumpAtKDistBetter1(3, 1, [10,20,10]) == 20"
   ]
  },
  {
   "cell_type": "code",
   "execution_count": 11,
   "id": "1b9a86c0",
   "metadata": {
    "execution": {
     "iopub.execute_input": "2024-05-09T07:01:29.414409Z",
     "iopub.status.busy": "2024-05-09T07:01:29.414003Z",
     "iopub.status.idle": "2024-05-09T07:01:29.418610Z",
     "shell.execute_reply": "2024-05-09T07:01:29.418168Z"
    },
    "lines_to_next_cell": 1,
    "papermill": {
     "duration": 0.011611,
     "end_time": "2024-05-09T07:01:29.419598",
     "exception": false,
     "start_time": "2024-05-09T07:01:29.407987",
     "status": "completed"
    },
    "tags": []
   },
   "outputs": [],
   "source": [
    "def frogJumpAtKDistBetter2(N: int, K: int, heights: list[int]) -> int:\n",
    "    \"\"\"\n",
    "    Tabulation: Bottom up approach\n",
    "    Time: O(N x K), Space: O(N)\n",
    "    \"\"\"\n",
    "\n",
    "    dp: list[int] = [-1 for i in range(N)]\n",
    "    dp[-1] = 0\n",
    "\n",
    "    for curr in range(N - 2, -1, -1):\n",
    "        minCost = math.inf\n",
    "        for next_ in range(curr + 1, min(N, curr + K + 1)):\n",
    "            cost = abs(heights[curr] - heights[next_]) + dp[next_]\n",
    "            minCost = min(minCost, cost)\n",
    "        dp[curr] = int(minCost)\n",
    "\n",
    "    return dp[0]\n",
    "\n",
    "# Testing the solution\n",
    "assert frogJumpAtKDistBetter2(5, 3, [10,30,40,50,20]) == 30\n",
    "assert frogJumpAtKDistBetter2(3, 1, [10,20,10]) == 20"
   ]
  },
  {
   "cell_type": "code",
   "execution_count": 12,
   "id": "09ca5d18",
   "metadata": {
    "execution": {
     "iopub.execute_input": "2024-05-09T07:01:29.431662Z",
     "iopub.status.busy": "2024-05-09T07:01:29.431156Z",
     "iopub.status.idle": "2024-05-09T07:01:29.435881Z",
     "shell.execute_reply": "2024-05-09T07:01:29.435443Z"
    },
    "lines_to_next_cell": 1,
    "papermill": {
     "duration": 0.011739,
     "end_time": "2024-05-09T07:01:29.436893",
     "exception": false,
     "start_time": "2024-05-09T07:01:29.425154",
     "status": "completed"
    },
    "tags": []
   },
   "outputs": [],
   "source": [
    "def frogJumpAtKDist(N: int, K: int, heights: list[int]) -> int:\n",
    "    \"\"\"\n",
    "    Tabulation: Bottom up approach\n",
    "    Time: O(N x K), Space: O(K)\n",
    "    \"\"\"\n",
    "\n",
    "    dp: collections.deque[int] = collections.deque([0])\n",
    "    for curr in range(N - 2, -1, -1):\n",
    "        minCost = math.inf\n",
    "        for jump in range(1, min(N - curr, K + 1)):\n",
    "            next_ = curr + jump\n",
    "            cost = abs(heights[curr] - heights[next_]) + dp[jump - 1]\n",
    "            minCost = min(minCost, cost)\n",
    "\n",
    "        dp.appendleft(int(minCost))\n",
    "        if len(dp) > K:\n",
    "            dp.pop()\n",
    "\n",
    "    return dp[0]\n",
    "\n",
    "# Testing the solution\n",
    "assert frogJumpAtKDist(5, 3, [10,30,40,50,20]) == 30\n",
    "assert frogJumpAtKDist(3, 1, [10,20,10]) == 20"
   ]
  },
  {
   "cell_type": "markdown",
   "id": "259d53f8",
   "metadata": {
    "papermill": {
     "duration": 0.005484,
     "end_time": "2024-05-09T07:01:29.447943",
     "exception": false,
     "start_time": "2024-05-09T07:01:29.442459",
     "status": "completed"
    },
    "tags": []
   },
   "source": [
    "Maximum sum of Non Adjacent Elements: House Robber\n",
    "Video Link: https://youtu.be/GrMBfJNk_NY?si=IPuGJglc0axETveU"
   ]
  },
  {
   "cell_type": "code",
   "execution_count": 13,
   "id": "89d8dea7",
   "metadata": {
    "execution": {
     "iopub.execute_input": "2024-05-09T07:01:29.459770Z",
     "iopub.status.busy": "2024-05-09T07:01:29.459455Z",
     "iopub.status.idle": "2024-05-09T07:01:29.463179Z",
     "shell.execute_reply": "2024-05-09T07:01:29.462685Z"
    },
    "lines_to_next_cell": 1,
    "papermill": {
     "duration": 0.010728,
     "end_time": "2024-05-09T07:01:29.464196",
     "exception": false,
     "start_time": "2024-05-09T07:01:29.453468",
     "status": "completed"
    },
    "tags": []
   },
   "outputs": [],
   "source": [
    "def robMemo(nums: list[int]) -> int:\n",
    "    \"\"\"\n",
    "    Memoization: Top down approach\n",
    "    Time: O(N), Space: O(N)\n",
    "    \"\"\"\n",
    "\n",
    "    @functools.cache\n",
    "    def backtrack(curr: int) -> int:\n",
    "        if curr >= N:\n",
    "            return 0\n",
    "        else:\n",
    "            return max(backtrack(curr + 1), nums[curr] + backtrack(curr + 2))\n",
    "\n",
    "    N = len(nums)\n",
    "    return backtrack(0)\n",
    "\n",
    "# Testing the solution\n",
    "assert robMemo([2,7,9,3,1]) == 12"
   ]
  },
  {
   "cell_type": "code",
   "execution_count": 14,
   "id": "e69063ac",
   "metadata": {
    "execution": {
     "iopub.execute_input": "2024-05-09T07:01:29.475974Z",
     "iopub.status.busy": "2024-05-09T07:01:29.475556Z",
     "iopub.status.idle": "2024-05-09T07:01:29.479335Z",
     "shell.execute_reply": "2024-05-09T07:01:29.478917Z"
    },
    "lines_to_next_cell": 1,
    "papermill": {
     "duration": 0.010804,
     "end_time": "2024-05-09T07:01:29.480425",
     "exception": false,
     "start_time": "2024-05-09T07:01:29.469621",
     "status": "completed"
    },
    "tags": []
   },
   "outputs": [],
   "source": [
    "def robTab(nums: list[int]) -> int:\n",
    "    \"\"\"\n",
    "    Tabulation: Bottom up approach\n",
    "    Time: O(N), Space: O(N)\n",
    "    \"\"\"\n",
    "    N = len(nums)\n",
    "    dp: list[int] = [-1 for i in range(N + 1)]\n",
    "    dp[-1], dp[-2] = 0, nums[-1]\n",
    "    for curr in range(N - 2, -1, -1):\n",
    "        dp[curr] = max(nums[curr] + dp[curr + 2], dp[curr + 1])\n",
    "\n",
    "    return dp[0]\n",
    "\n",
    "# Testing the solution\n",
    "assert robTab([2,7,9,3,1]) == 12"
   ]
  },
  {
   "cell_type": "code",
   "execution_count": 15,
   "id": "d3ac1b1c",
   "metadata": {
    "execution": {
     "iopub.execute_input": "2024-05-09T07:01:29.492452Z",
     "iopub.status.busy": "2024-05-09T07:01:29.492240Z",
     "iopub.status.idle": "2024-05-09T07:01:29.495442Z",
     "shell.execute_reply": "2024-05-09T07:01:29.495050Z"
    },
    "lines_to_next_cell": 1,
    "papermill": {
     "duration": 0.010599,
     "end_time": "2024-05-09T07:01:29.496514",
     "exception": false,
     "start_time": "2024-05-09T07:01:29.485915",
     "status": "completed"
    },
    "tags": []
   },
   "outputs": [],
   "source": [
    "# https://leetcode.com/problems/house-robber/submissions/1249841355/\n",
    "def robSpaceOptimized(nums: list[int]) -> int:\n",
    "    \"Time: O(N), Space: O(1)\"\n",
    "    next1 = next2 = 0\n",
    "    for curr in range(len(nums) - 1, -1, -1):\n",
    "        next1, next2 = max(nums[curr] + next2, next1), next1\n",
    "\n",
    "    return next1\n",
    "\n",
    "assert robSpaceOptimized([2,7,9,3,1]) == 12"
   ]
  },
  {
   "cell_type": "markdown",
   "id": "630eec21",
   "metadata": {
    "papermill": {
     "duration": 0.005421,
     "end_time": "2024-05-09T07:01:29.507446",
     "exception": false,
     "start_time": "2024-05-09T07:01:29.502025",
     "status": "completed"
    },
    "tags": []
   },
   "source": [
    "House Robber 2: https://youtu.be/3WaxQMELSkw?si=i9oGKnDJGJxvUjbu\n",
    "https://leetcode.com/problems/house-robber-ii/submissions/1249888930"
   ]
  },
  {
   "cell_type": "code",
   "execution_count": 16,
   "id": "3ee7a5cf",
   "metadata": {
    "execution": {
     "iopub.execute_input": "2024-05-09T07:01:29.519668Z",
     "iopub.status.busy": "2024-05-09T07:01:29.519211Z",
     "iopub.status.idle": "2024-05-09T07:01:29.523263Z",
     "shell.execute_reply": "2024-05-09T07:01:29.522864Z"
    },
    "lines_to_next_cell": 1,
    "papermill": {
     "duration": 0.011247,
     "end_time": "2024-05-09T07:01:29.524335",
     "exception": false,
     "start_time": "2024-05-09T07:01:29.513088",
     "status": "completed"
    },
    "tags": []
   },
   "outputs": [],
   "source": [
    "def rob2(nums: list[int]) -> int:\n",
    "    \"\"\"\n",
    "    Ans cannot contain both the first and the last house.\n",
    "    It can contain either the first or the last house.\n",
    "    \"\"\"\n",
    "    def rob(arr: list[int]) -> int:\n",
    "        next1 = next2 = 0\n",
    "        for curr in range(len(arr) - 1, -1, -1):\n",
    "            next1, next2 = max(arr[curr] + next2, next1), next1\n",
    "\n",
    "        return next1\n",
    "\n",
    "    return max(rob(nums[1:]), rob(nums[:-1])) if len(nums) > 1 else sum(nums)\n",
    "\n",
    "# Testing the solution\n",
    "assert rob2([1,2,3,1]) == 4\n",
    "assert rob2([]) == 0"
   ]
  },
  {
   "cell_type": "markdown",
   "id": "52745498",
   "metadata": {
    "papermill": {
     "duration": 0.005428,
     "end_time": "2024-05-09T07:01:29.535274",
     "exception": false,
     "start_time": "2024-05-09T07:01:29.529846",
     "status": "completed"
    },
    "tags": []
   },
   "source": [
    "Ninja's Training: https://youtu.be/AE39gJYuRog?si=n4BhCotno-9chP5j"
   ]
  },
  {
   "cell_type": "code",
   "execution_count": 17,
   "id": "c814dc79",
   "metadata": {
    "execution": {
     "iopub.execute_input": "2024-05-09T07:01:29.547168Z",
     "iopub.status.busy": "2024-05-09T07:01:29.546814Z",
     "iopub.status.idle": "2024-05-09T07:01:29.551857Z",
     "shell.execute_reply": "2024-05-09T07:01:29.551455Z"
    },
    "lines_to_next_cell": 1,
    "papermill": {
     "duration": 0.012143,
     "end_time": "2024-05-09T07:01:29.552939",
     "exception": false,
     "start_time": "2024-05-09T07:01:29.540796",
     "status": "completed"
    },
    "tags": []
   },
   "outputs": [],
   "source": [
    "def ninjaTrainingBetter(N: int, points: list[list[int]]) -> int:\n",
    "    \"\"\"\n",
    "    Memoization: Top down approach\n",
    "\n",
    "    Time: O(N), Space: O(N) + O(N)\n",
    "    \"\"\"\n",
    "\n",
    "    @functools.cache\n",
    "    def backtrack(i: int, j: int) -> int:\n",
    "        if i == N:\n",
    "            return 0\n",
    "        else:\n",
    "            max_ = -math.inf\n",
    "            for k in range(3):\n",
    "                if k != j:\n",
    "                    max_ = max(max_, points[i][k] + backtrack(i + 1, k))\n",
    "\n",
    "            return int(max_)\n",
    "\n",
    "    return backtrack(0, -1)\n",
    "\n",
    "# Testing the solution\n",
    "assert ninjaTrainingBetter(3, [[10,40,70], [20,50,80], [30,60,90]]) == 210\n",
    "assert ninjaTrainingBetter(3, [[1,2,5], [3,1,1], [3,3,3]]) == 11\n",
    "assert ninjaTrainingBetter(2, [[10,50,1], [5,100,11]]) == 110"
   ]
  },
  {
   "cell_type": "code",
   "execution_count": 18,
   "id": "015e9458",
   "metadata": {
    "execution": {
     "iopub.execute_input": "2024-05-09T07:01:29.564820Z",
     "iopub.status.busy": "2024-05-09T07:01:29.564530Z",
     "iopub.status.idle": "2024-05-09T07:01:29.569644Z",
     "shell.execute_reply": "2024-05-09T07:01:29.569236Z"
    },
    "lines_to_next_cell": 1,
    "papermill": {
     "duration": 0.012232,
     "end_time": "2024-05-09T07:01:29.570710",
     "exception": false,
     "start_time": "2024-05-09T07:01:29.558478",
     "status": "completed"
    },
    "tags": []
   },
   "outputs": [],
   "source": [
    "def ninjaTraining(N: int, points: list[list[int]]) -> int:\n",
    "    \"\"\"\n",
    "    Space optimized Tabulation DP: Bottom up\n",
    "\n",
    "    Start at the last day.\n",
    "    At each day we sum up corresponding values with the values in DP and assign them to DP.\n",
    "    Before moving the prev day, to the DP perform this op -> dp[i] = max(dp[j]) where j != i\n",
    "\n",
    "    At the end of the iteration simply return max of DP.\n",
    "\n",
    "    Time: O(N), Space: O(1)\n",
    "    \"\"\"\n",
    "\n",
    "    dp: list[int] = [0, 0, 0]\n",
    "    for i in range(N - 1, -1, -1):\n",
    "        for j in range(3):\n",
    "            dp[j] += points[i][j]\n",
    "\n",
    "        next_dp: list[int] = []\n",
    "        for j in range(3):\n",
    "            next_dp.append(max(dp[k] for k in range(3) if k != j))\n",
    "\n",
    "        dp = next_dp\n",
    "\n",
    "    return max(dp)\n",
    "\n",
    "# Testing the solution\n",
    "assert ninjaTraining(3, [[10,40,70], [20,50,80], [30,60,90]]) == 210\n",
    "assert ninjaTraining(3, [[1,2,5], [3,1,1], [3,3,3]]) == 11\n",
    "assert ninjaTraining(2, [[10,50,1], [5,100,11]]) == 110"
   ]
  },
  {
   "cell_type": "markdown",
   "id": "d132fa58",
   "metadata": {
    "papermill": {
     "duration": 0.005411,
     "end_time": "2024-05-09T07:01:29.581696",
     "exception": false,
     "start_time": "2024-05-09T07:01:29.576285",
     "status": "completed"
    },
    "tags": []
   },
   "source": [
    "Unique 2D paths: https://youtu.be/sdE0A2Oxofw?si=g1FpuSIYx0x95G-7\n",
    "https://leetcode.com/problems/unique-paths/"
   ]
  },
  {
   "cell_type": "code",
   "execution_count": 19,
   "id": "d035c9d7",
   "metadata": {
    "execution": {
     "iopub.execute_input": "2024-05-09T07:01:29.593556Z",
     "iopub.status.busy": "2024-05-09T07:01:29.593131Z",
     "iopub.status.idle": "2024-05-09T07:01:29.597198Z",
     "shell.execute_reply": "2024-05-09T07:01:29.596756Z"
    },
    "lines_to_next_cell": 1,
    "papermill": {
     "duration": 0.011057,
     "end_time": "2024-05-09T07:01:29.598219",
     "exception": false,
     "start_time": "2024-05-09T07:01:29.587162",
     "status": "completed"
    },
    "tags": []
   },
   "outputs": [],
   "source": [
    "def uniquePathsMemo(m: int, n: int) -> int:\n",
    "    \"\"\"\n",
    "    Memoization Solution: Top Down\n",
    "    Time: O(m x n), Space: O(m x n) + O(m x n)\n",
    "    \"\"\"\n",
    "    @functools.cache\n",
    "    def backtrack(i: int, j: int) -> int:\n",
    "        if i == m - 1 and j == n - 1:\n",
    "            return 1\n",
    "        elif i >= m or j >= n:\n",
    "            return 0\n",
    "        else:\n",
    "            return backtrack(i + 1, j) + backtrack(i, j + 1)\n",
    "\n",
    "    return backtrack(0, 0)\n",
    "\n",
    "# Testing the solution\n",
    "assert uniquePathsMemo(3, 7) == 28\n",
    "assert uniquePathsMemo(3, 2) == 3"
   ]
  },
  {
   "cell_type": "code",
   "execution_count": 20,
   "id": "c3fb756d",
   "metadata": {
    "execution": {
     "iopub.execute_input": "2024-05-09T07:01:29.610110Z",
     "iopub.status.busy": "2024-05-09T07:01:29.609664Z",
     "iopub.status.idle": "2024-05-09T07:01:29.613488Z",
     "shell.execute_reply": "2024-05-09T07:01:29.612991Z"
    },
    "lines_to_next_cell": 1,
    "papermill": {
     "duration": 0.01089,
     "end_time": "2024-05-09T07:01:29.614600",
     "exception": false,
     "start_time": "2024-05-09T07:01:29.603710",
     "status": "completed"
    },
    "tags": []
   },
   "outputs": [],
   "source": [
    "# https://leetcode.com/problems/unique-paths/submissions/1250526713\n",
    "def uniquePathsTab(m: int, n: int) -> int:\n",
    "    \"Time: O(m x n), Space: O(min(m, n))\"\n",
    "    M, N = min(m, n), max(m, n)\n",
    "    dp: list[int] = [1 for i in range(M)]\n",
    "\n",
    "    for i in range(N - 1):\n",
    "        for j in range(M - 2, -1, -1):\n",
    "            dp[j] += dp[j + 1]\n",
    "\n",
    "    return dp[0]\n",
    "\n",
    "# Testing the solution\n",
    "assert uniquePathsTab(3, 7) == 28\n",
    "assert uniquePathsTab(3, 2) == 3"
   ]
  },
  {
   "cell_type": "markdown",
   "id": "bb22f54a",
   "metadata": {
    "papermill": {
     "duration": 0.005431,
     "end_time": "2024-05-09T07:01:29.625721",
     "exception": false,
     "start_time": "2024-05-09T07:01:29.620290",
     "status": "completed"
    },
    "tags": []
   },
   "source": [
    "Video link: https://youtu.be/TmhpgXScLyY?si=M_FfFKRqRTXid4Jj\n",
    "Unique Paths - ii: https://leetcode.com/problems/unique-paths-ii/submissions/1250615914"
   ]
  },
  {
   "cell_type": "code",
   "execution_count": 21,
   "id": "f59a530c",
   "metadata": {
    "execution": {
     "iopub.execute_input": "2024-05-09T07:01:29.637611Z",
     "iopub.status.busy": "2024-05-09T07:01:29.637190Z",
     "iopub.status.idle": "2024-05-09T07:01:29.642049Z",
     "shell.execute_reply": "2024-05-09T07:01:29.641556Z"
    },
    "lines_to_next_cell": 1,
    "papermill": {
     "duration": 0.011931,
     "end_time": "2024-05-09T07:01:29.643129",
     "exception": false,
     "start_time": "2024-05-09T07:01:29.631198",
     "status": "completed"
    },
    "tags": []
   },
   "outputs": [],
   "source": [
    "def uniquePathsWithObstacles(obstacleGrid: list[list[int]]) -> int:\n",
    "    \"Time: O(M x N), Space: O(N)\"\n",
    "    M, N = len(obstacleGrid), len(obstacleGrid[0])\n",
    "\n",
    "    dp: list[int] = [0 for j in range(N)]\n",
    "    dp[-1] = 1\n",
    "\n",
    "    for i in range(M - 1, -1, -1):\n",
    "        for j in range(N - 1, -1, -1):\n",
    "            if obstacleGrid[i][j] == 0:\n",
    "                dp[j] = dp[j] + dp[j + 1] if j < N - 1 else dp[j]\n",
    "            else:\n",
    "                dp[j] = 0\n",
    "\n",
    "    return dp[0]\n",
    "\n",
    "# Testing the solution\n",
    "assert uniquePathsWithObstacles([[0,0,0],[0,1,0],[0,0,0]]) == 2\n",
    "assert uniquePathsWithObstacles([[0,1],[0,0]]) == 1\n",
    "assert uniquePathsWithObstacles([[1]]) == 0"
   ]
  },
  {
   "cell_type": "markdown",
   "id": "93e28e9b",
   "metadata": {
    "papermill": {
     "duration": 0.00546,
     "end_time": "2024-05-09T07:01:29.654128",
     "exception": false,
     "start_time": "2024-05-09T07:01:29.648668",
     "status": "completed"
    },
    "tags": []
   },
   "source": [
    "Minimum Path Sum: https://youtu.be/_rgTlyky1uQ?si=3xJY7MmVg5tTEW5Q\n",
    "https://leetcode.com/problems/minimum-path-sum/submissions/1250633614"
   ]
  },
  {
   "cell_type": "code",
   "execution_count": 22,
   "id": "c97f7ce9",
   "metadata": {
    "execution": {
     "iopub.execute_input": "2024-05-09T07:01:29.665925Z",
     "iopub.status.busy": "2024-05-09T07:01:29.665554Z",
     "iopub.status.idle": "2024-05-09T07:01:29.670126Z",
     "shell.execute_reply": "2024-05-09T07:01:29.669634Z"
    },
    "lines_to_next_cell": 1,
    "papermill": {
     "duration": 0.011598,
     "end_time": "2024-05-09T07:01:29.671182",
     "exception": false,
     "start_time": "2024-05-09T07:01:29.659584",
     "status": "completed"
    },
    "tags": []
   },
   "outputs": [],
   "source": [
    "def minPathSum(grid: list[list[int]]) -> int:\n",
    "    \"Time: O(M x N), Space: O(N)\"\n",
    "    M, N = len(grid), len(grid[0])\n",
    "\n",
    "    # Initialize DP\n",
    "    dp: list[float] = [math.inf for j in range(N)]\n",
    "    dp[-1] = 0\n",
    "\n",
    "    # DP Solution\n",
    "    for i in range(M - 1, -1, -1):\n",
    "        for j in range(N - 1, -1, -1):\n",
    "            dp[j] = grid[i][j] + (min(dp[j + 1], dp[j]) if j < N - 1 else dp[j])\n",
    "\n",
    "    return int(dp[0])\n",
    "\n",
    "# Testing the solution\n",
    "assert minPathSum([[1,3,1],[1,5,1],[4,2,1]]) == 7\n",
    "assert minPathSum([[1,2,3],[4,5,6]]) == 12"
   ]
  },
  {
   "cell_type": "markdown",
   "id": "107526ff",
   "metadata": {
    "papermill": {
     "duration": 0.005376,
     "end_time": "2024-05-09T07:01:29.682080",
     "exception": false,
     "start_time": "2024-05-09T07:01:29.676704",
     "status": "completed"
    },
    "tags": []
   },
   "source": [
    "Video Link: https://youtu.be/0bHoB32fuj0?si=5UHeArKmLvTVpbrk\n",
    "Triangle: https://leetcode.com/problems/triangle/submissions/1251774955/"
   ]
  },
  {
   "cell_type": "code",
   "execution_count": 23,
   "id": "62387041",
   "metadata": {
    "execution": {
     "iopub.execute_input": "2024-05-09T07:01:29.693892Z",
     "iopub.status.busy": "2024-05-09T07:01:29.693579Z",
     "iopub.status.idle": "2024-05-09T07:01:29.697792Z",
     "shell.execute_reply": "2024-05-09T07:01:29.697374Z"
    },
    "lines_to_next_cell": 1,
    "papermill": {
     "duration": 0.011195,
     "end_time": "2024-05-09T07:01:29.698749",
     "exception": false,
     "start_time": "2024-05-09T07:01:29.687554",
     "status": "completed"
    },
    "tags": []
   },
   "outputs": [],
   "source": [
    "def minimumTotal(triangle: list[list[int]]) -> int:\n",
    "    \"\"\"Time: O(N x N), Space: O(N)\"\"\"\n",
    "    N = len(triangle)\n",
    "    dp: list[int] = [0 for i in range(N + 1)]\n",
    "\n",
    "    while N > 0:\n",
    "        next_: list[int] = []\n",
    "        for i in range(N):\n",
    "            next_.append(min(dp[i], dp[i + 1]) + triangle[N - 1][i])\n",
    "        dp = next_\n",
    "        N -= 1\n",
    "\n",
    "    return dp[0]\n",
    "\n",
    "# Testing the solution\n",
    "assert minimumTotal([[2],[3,4],[6,5,7],[4,1,8,3]]) == 11\n",
    "assert minimumTotal([[-10]]) == -10"
   ]
  },
  {
   "cell_type": "markdown",
   "id": "51332104",
   "metadata": {
    "papermill": {
     "duration": 0.005482,
     "end_time": "2024-05-09T07:01:29.709786",
     "exception": false,
     "start_time": "2024-05-09T07:01:29.704304",
     "status": "completed"
    },
    "tags": []
   },
   "source": [
    "Video Link: https://youtu.be/N_aJ5qQbYA0?si=LTME1YI3hqtU8u8_\n",
    "Maximum Falling path sum\n",
    "We cannot apply greedy algorithms here because there is no uniformity mentioned. Uniformity implies how the numbers are distributed.\n",
    "For eg:\n",
    "```\n",
    "1   2  3    4\n",
    "10  1  100  1\n",
    "1   2  5    0\n",
    "```\n",
    "In the above example from (0, 0), if we greedily chose (1, 0) - we would miss out on 100 at (1, 2). \n",
    "If suppose we were told that the numbers were arranged in ascending or descending order we can greedily pick a path"
   ]
  },
  {
   "cell_type": "code",
   "execution_count": 24,
   "id": "4f9fb3eb",
   "metadata": {
    "execution": {
     "iopub.execute_input": "2024-05-09T07:01:29.721654Z",
     "iopub.status.busy": "2024-05-09T07:01:29.721341Z",
     "iopub.status.idle": "2024-05-09T07:01:29.726489Z",
     "shell.execute_reply": "2024-05-09T07:01:29.725971Z"
    },
    "lines_to_next_cell": 1,
    "papermill": {
     "duration": 0.012303,
     "end_time": "2024-05-09T07:01:29.727588",
     "exception": false,
     "start_time": "2024-05-09T07:01:29.715285",
     "status": "completed"
    },
    "tags": []
   },
   "outputs": [],
   "source": [
    "def getMaxPathSumBetter(matrix: list[list[int]]):\n",
    "    \"\"\"\n",
    "    With memoization:\n",
    "    Time complexity: O(3 ^ N)\n",
    "\n",
    "    Memoization Approach: Top Down\n",
    "    Time: O(N x M), Space: O(N x M) + O(N x M)\n",
    "    \"\"\"\n",
    "    M, N = len(matrix), len(matrix[0])\n",
    "\n",
    "    @functools.cache\n",
    "    def backtrack(i: int = 0, j: int = 0) -> float:\n",
    "        if i >= M:\n",
    "            return 0\n",
    "        elif j < 0 or j >= N:\n",
    "            return -math.inf\n",
    "        else:\n",
    "            return matrix[i][j] + max(backtrack(i + 1, j - 1), backtrack(i + 1, j), backtrack(i + 1, j + 1))\n",
    "\n",
    "    maxPathSum = -math.inf\n",
    "    for j in range(N):\n",
    "        maxPathSum = max(maxPathSum, backtrack(0, j))\n",
    "\n",
    "    return int(maxPathSum)\n",
    "\n",
    "# Testing the solution\n",
    "assert getMaxPathSumBetter([[1,2,10,4],[100,3,2,1],[1,1,20,2],[1,2,2,1]]) == 105\n",
    "assert getMaxPathSumBetter([[10,2,3],[3,7,2],[8,1,5]]) == 25"
   ]
  },
  {
   "cell_type": "code",
   "execution_count": 25,
   "id": "b3cf95be",
   "metadata": {
    "execution": {
     "iopub.execute_input": "2024-05-09T07:01:29.739841Z",
     "iopub.status.busy": "2024-05-09T07:01:29.739455Z",
     "iopub.status.idle": "2024-05-09T07:01:29.744388Z",
     "shell.execute_reply": "2024-05-09T07:01:29.743865Z"
    },
    "lines_to_next_cell": 1,
    "papermill": {
     "duration": 0.012121,
     "end_time": "2024-05-09T07:01:29.745379",
     "exception": false,
     "start_time": "2024-05-09T07:01:29.733258",
     "status": "completed"
    },
    "tags": []
   },
   "outputs": [],
   "source": [
    "def getMaxPathSum(matrix: list[list[int]]):\n",
    "    \"\"\"\n",
    "    Space optimized DP: Bottom up\n",
    "    Time: O(M x N), Space: O(N)\n",
    "    \"\"\"\n",
    "    M, N = len(matrix), len(matrix[0])\n",
    "\n",
    "    dp: list[float] = [0 for i in range(N)]\n",
    "    i = M - 1\n",
    "    while i >= 0:\n",
    "        next_: list[float] = []\n",
    "        for j in range(N):\n",
    "            next_.append(matrix[i][j] + max(dp[j - 1] if j - 1 >= 0 else -math.inf, dp[j], dp[j + 1] if j + 1 < N else -math.inf))\n",
    "\n",
    "        dp = next_\n",
    "        i -= 1\n",
    "\n",
    "    return max(dp)\n",
    "\n",
    "# Testing the solution\n",
    "assert getMaxPathSum([[1,2,10,4],[100,3,2,1],[1,1,20,2],[1,2,2,1]]) == 105\n",
    "assert getMaxPathSum([[10,2,3],[3,7,2],[8,1,5]]) == 25"
   ]
  },
  {
   "cell_type": "markdown",
   "id": "703cdb9d",
   "metadata": {
    "papermill": {
     "duration": 0.005491,
     "end_time": "2024-05-09T07:01:29.756373",
     "exception": false,
     "start_time": "2024-05-09T07:01:29.750882",
     "status": "completed"
    },
    "tags": []
   },
   "source": [
    "Cherry Pickup: 2: https://leetcode.com/problems/cherry-pickup-ii/\n",
    "Video Link: https://youtu.be/QGfn7JeXK54?si=2K0Lz9iKN_IxLUDN"
   ]
  },
  {
   "cell_type": "code",
   "execution_count": 26,
   "id": "d82f0e5d",
   "metadata": {
    "execution": {
     "iopub.execute_input": "2024-05-09T07:01:29.768156Z",
     "iopub.status.busy": "2024-05-09T07:01:29.767833Z",
     "iopub.status.idle": "2024-05-09T07:01:29.774480Z",
     "shell.execute_reply": "2024-05-09T07:01:29.773976Z"
    },
    "lines_to_next_cell": 1,
    "papermill": {
     "duration": 0.013647,
     "end_time": "2024-05-09T07:01:29.775484",
     "exception": false,
     "start_time": "2024-05-09T07:01:29.761837",
     "status": "completed"
    },
    "tags": []
   },
   "outputs": [],
   "source": [
    "def cherryPickupMemo(grid: list[list[int]]) -> int:\n",
    "    \"\"\"\n",
    "    Without memoization, time complexity: O(3 ^ M * 3 ^ M)\n",
    "\n",
    "    Space complexity is definitely improved with using @functools.cache, using list here to illustrate.\n",
    "    Time: O (M x N x N), Space: O (M x N x N)\n",
    "\n",
    "    To figure out the dp size, simply check how many parameters are chaning. Here we have an i, j1, j2 and hence dp is a 3D Matrix.\n",
    "    \"\"\"\n",
    "    M, N = len(grid), len(grid[0])\n",
    "    dp: list[list[list[float]]] = [[[-1 for k in range(N)] for j in range(N)] for i in range(M)]\n",
    "\n",
    "    def backtrack(i: int, j1: int, j2: int) -> float:\n",
    "        if j1 < 0 or j2 < 0 or j1 >= N or j2 >= N or j1 == j2:\n",
    "            return -math.inf\n",
    "        elif i > M - 1:\n",
    "            return 0\n",
    "        elif dp[i][j1][j2] != -1:\n",
    "            return dp[i][j1][j2]\n",
    "        else:\n",
    "            next_picked = -math.inf\n",
    "            for j1_offset in range(-1, 2):\n",
    "                for j2_offset in range(-1, 2):\n",
    "                    next_picked = max(next_picked, backtrack(i + 1, j1 + j1_offset, j2 + j2_offset))\n",
    "\n",
    "            dp[i][j1][j2] = grid[i][j1] + grid[i][j2] + next_picked\n",
    "            return dp[i][j1][j2]\n",
    "\n",
    "    result = int(backtrack(0, 0, N - 1))\n",
    "    return result\n",
    "\n",
    "# Testing the solution\n",
    "assert cherryPickupMemo([[1,0,0,0,0,0,1],[2,0,0,0,0,3,0],[2,0,9,0,0,0,0],[0,3,0,5,4,0,0],[1,0,2,3,0,0,6]]) == 28"
   ]
  },
  {
   "cell_type": "code",
   "execution_count": 27,
   "id": "85c88b05",
   "metadata": {
    "execution": {
     "iopub.execute_input": "2024-05-09T07:01:29.787408Z",
     "iopub.status.busy": "2024-05-09T07:01:29.787059Z",
     "iopub.status.idle": "2024-05-09T07:01:29.794142Z",
     "shell.execute_reply": "2024-05-09T07:01:29.793637Z"
    },
    "lines_to_next_cell": 1,
    "papermill": {
     "duration": 0.014132,
     "end_time": "2024-05-09T07:01:29.795155",
     "exception": false,
     "start_time": "2024-05-09T07:01:29.781023",
     "status": "completed"
    },
    "tags": []
   },
   "outputs": [],
   "source": [
    "def cherryPickupTab(grid: list[list[int]]) -> int:\n",
    "    \"\"\"\n",
    "    Simply start with the base case. Move bottom up.\n",
    "    \"\"\"\n",
    "    M, N = len(grid), len(grid[0])\n",
    "\n",
    "    # Initialize DP with the base case\n",
    "    dp: list[list[list[float]]] = [[[0 for k in range(N)] for j in range(N)] for i in range(M)]\n",
    "    for j1 in range(N):\n",
    "        for j2 in range(N):\n",
    "            dp[-1][j1][j2] = grid[-1][j1] + grid[-1][j2] if j1 != j2 else grid[-1][j1]\n",
    "\n",
    "    # i, j1, j2: (0 - M), (0 - N), (0 - N)\n",
    "    for i in range(M - 2, -1, -1):\n",
    "        for j1 in range(N):\n",
    "            for j2 in range(N):\n",
    "                max_: float = -math.inf\n",
    "                curr = grid[i][j1] + grid[i][j2] if j1 != j2 else grid[i][j1]\n",
    "                for j1_offset in range(-1, 2):\n",
    "                    for j2_offset in range(-1, 2):\n",
    "                        if 0 <= j1 + j1_offset < N and 0 <= j2 + j2_offset < N:\n",
    "                            max_ = max(max_, dp[i + 1][j1 + j1_offset][j2 + j2_offset])\n",
    "\n",
    "                dp[i][j1][j2] = max(-1, max_ + curr)\n",
    "\n",
    "    return int(dp[0][0][-1])\n",
    "\n",
    "# Testing the solution\n",
    "assert cherryPickupTab([[1,0,0,0,0,0,1],[2,0,0,0,0,3,0],[2,0,9,0,0,0,0],[0,3,0,5,4,0,0],[1,0,2,3,0,0,6]]) == 28"
   ]
  },
  {
   "cell_type": "code",
   "execution_count": 28,
   "id": "e2fdb650",
   "metadata": {
    "execution": {
     "iopub.execute_input": "2024-05-09T07:01:29.806962Z",
     "iopub.status.busy": "2024-05-09T07:01:29.806658Z",
     "iopub.status.idle": "2024-05-09T07:01:29.813242Z",
     "shell.execute_reply": "2024-05-09T07:01:29.812749Z"
    },
    "lines_to_next_cell": 1,
    "papermill": {
     "duration": 0.013653,
     "end_time": "2024-05-09T07:01:29.814311",
     "exception": false,
     "start_time": "2024-05-09T07:01:29.800658",
     "status": "completed"
    },
    "tags": []
   },
   "outputs": [],
   "source": [
    "def cherryPickupSpaceOptimized(grid: list[list[int]]) -> int:\n",
    "    M, N = len(grid), len(grid[0])\n",
    "    dp: list[list[float]] = [[grid[-1][j1] + grid[-1][j2] if j1 != j2 else grid[-1][j1] for j1 in range(N)] for j2 in range(N)]\n",
    "\n",
    "    for i in range(M - 2, -1, -1):\n",
    "        dp_next: list[list[float]] = []\n",
    "        for j1 in range(N):\n",
    "            dp_next.append([])\n",
    "            for j2 in range(N):\n",
    "                max_: float = -math.inf\n",
    "                curr = grid[i][j1] + grid[i][j2] if j1 != j2 else grid[i][j1]\n",
    "                for j1_offset in range(-1, 2):\n",
    "                    for j2_offset in range(-1, 2):\n",
    "                        if 0 <= j1 + j1_offset < N and 0 <= j2 + j2_offset < N:\n",
    "                            max_ = max(max_, dp[j1 + j1_offset][j2 + j2_offset])\n",
    "\n",
    "                dp_next[j1].append(curr + max_)\n",
    "        dp = dp_next\n",
    "\n",
    "    return int(dp[0][-1])\n",
    "\n",
    "# Testing the solution\n",
    "assert cherryPickupSpaceOptimized([[1,0,0,0,0,0,1],[2,0,0,0,0,3,0],[2,0,9,0,0,0,0],[0,3,0,5,4,0,0],[1,0,2,3,0,0,6]]) == 28"
   ]
  },
  {
   "cell_type": "markdown",
   "id": "17816765",
   "metadata": {
    "papermill": {
     "duration": 0.005502,
     "end_time": "2024-05-09T07:01:29.825397",
     "exception": false,
     "start_time": "2024-05-09T07:01:29.819895",
     "status": "completed"
    },
    "tags": []
   },
   "source": [
    "Subset sum equals target\n",
    "Video Link: https://youtu.be/fWX9xDmIzRI?si=jb2Tgvw_E0Tyk1Pj"
   ]
  },
  {
   "cell_type": "code",
   "execution_count": 29,
   "id": "4f37d7b7",
   "metadata": {
    "execution": {
     "iopub.execute_input": "2024-05-09T07:01:29.837484Z",
     "iopub.status.busy": "2024-05-09T07:01:29.837048Z",
     "iopub.status.idle": "2024-05-09T07:01:29.842170Z",
     "shell.execute_reply": "2024-05-09T07:01:29.841743Z"
    },
    "lines_to_next_cell": 1,
    "papermill": {
     "duration": 0.012222,
     "end_time": "2024-05-09T07:01:29.843176",
     "exception": false,
     "start_time": "2024-05-09T07:01:29.830954",
     "status": "completed"
    },
    "tags": []
   },
   "outputs": [],
   "source": [
    "def isSubsetSumMemo(N: int, arr: list[int], target: int) -> int:\n",
    "    \"\"\"\n",
    "    For cases where subset exists, the recursion would stop early. For the negative cases, we would get overlapping subproblems and\n",
    "    hence memoization would help decrease the time complexity.\n",
    "\n",
    "    Time without memoization: O(2 ^ N), Space: O(N)\n",
    "    With memoization: O(N x target), Space: O(N x target) + O(N)\n",
    "    \"\"\"\n",
    "\n",
    "    dp: list[list[int]] = [[-1 for j in range(target + 1)] for i in range(N)]\n",
    "    def backtrack(i: int, total: int) -> bool:\n",
    "        if total == 0:\n",
    "            return True\n",
    "        elif total < 0 or i > N - 1:\n",
    "            return False\n",
    "        elif dp[i][total] != -1:\n",
    "            return bool(dp[i][total])\n",
    "        else:\n",
    "            result = backtrack(i + 1, total - arr[i]) or backtrack(i + 1, total)\n",
    "            dp[i][total] = int(result)\n",
    "            return result\n",
    "\n",
    "    return backtrack(0, target)\n",
    "\n",
    "# Testing the solution\n",
    "assert isSubsetSumMemo(6, [3, 34, 4, 12, 5, 2], 9) == True\n",
    "assert isSubsetSumMemo(6, [3, 34, 4, 12, 5, 2], 30) == False"
   ]
  },
  {
   "cell_type": "code",
   "execution_count": 30,
   "id": "5551c36b",
   "metadata": {
    "execution": {
     "iopub.execute_input": "2024-05-09T07:01:29.855529Z",
     "iopub.status.busy": "2024-05-09T07:01:29.855094Z",
     "iopub.status.idle": "2024-05-09T07:01:29.860867Z",
     "shell.execute_reply": "2024-05-09T07:01:29.860383Z"
    },
    "lines_to_next_cell": 1,
    "papermill": {
     "duration": 0.013056,
     "end_time": "2024-05-09T07:01:29.861956",
     "exception": false,
     "start_time": "2024-05-09T07:01:29.848900",
     "status": "completed"
    },
    "tags": []
   },
   "outputs": [
    {
     "name": "stdout",
     "output_type": "stream",
     "text": [
      "[[1, 0, 1, 1, 1, 1, 1, 1, 1, 1], [1, 0, 1, 0, 1, 1, 1, 1, 0, 1], [1, 0, 1, 0, 1, 1, 1, 1, 0, 1], [1, 0, 1, 0, 0, 1, 0, 1, 0, 0], [1, 0, 1, 0, 0, 1, 0, 1, 0, 0], [1, 0, 1, 0, 0, 0, 0, 0, 0, 0], [1, 0, 0, 0, 0, 0, 0, 0, 0, 0]]\n",
      "[[1, 0, 1, 1, 1, 1, 1, 1, 1, 1, 1, 1, 1, 0, 1, 1, 1, 1, 1, 1, 1, 1, 1, 1, 1, 0, 1, 0, 0, 0, 0], [1, 0, 1, 0, 1, 1, 1, 1, 0, 1, 0, 1, 1, 0, 1, 0, 1, 1, 1, 1, 0, 1, 0, 1, 0, 0, 0, 0, 0, 0, 0], [1, 0, 1, 0, 1, 1, 1, 1, 0, 1, 0, 1, 1, 0, 1, 0, 1, 1, 1, 1, 0, 1, 0, 1, 0, 0, 0, 0, 0, 0, 0], [1, 0, 1, 0, 0, 1, 0, 1, 0, 0, 0, 0, 1, 0, 1, 0, 0, 1, 0, 1, 0, 0, 0, 0, 0, 0, 0, 0, 0, 0, 0], [1, 0, 1, 0, 0, 1, 0, 1, 0, 0, 0, 0, 0, 0, 0, 0, 0, 0, 0, 0, 0, 0, 0, 0, 0, 0, 0, 0, 0, 0, 0], [1, 0, 1, 0, 0, 0, 0, 0, 0, 0, 0, 0, 0, 0, 0, 0, 0, 0, 0, 0, 0, 0, 0, 0, 0, 0, 0, 0, 0, 0, 0], [1, 0, 0, 0, 0, 0, 0, 0, 0, 0, 0, 0, 0, 0, 0, 0, 0, 0, 0, 0, 0, 0, 0, 0, 0, 0, 0, 0, 0, 0, 0]]\n"
     ]
    }
   ],
   "source": [
    "def isSubsetSumTab(N: int, arr: list[int], target: int) -> bool:\n",
    "    \"\"\"\n",
    "    Each cell in the dp represents -> If total - arr[i] is true down the line.\n",
    "    Note that dp[i][0] is always true, since if the target is to be 0 regardless of arr[i] tehn subsetSumTarget is possible.\n",
    "    \"\"\"\n",
    "    dp: list[list[int]] = [[1 if j == 0 else -1 if i < N else 0 for j in range(target + 1)] for i in range(N + 1)]\n",
    "\n",
    "    for i in range(N - 1, -1, -1):\n",
    "        for total in range(1, target + 1):\n",
    "            if dp[i + 1][total] == 1 or (total - arr[i] >= 0 and dp[i + 1][total - arr[i]] == 1):\n",
    "                dp[i][total] = 1\n",
    "            else:\n",
    "                dp[i][total] = 0\n",
    "\n",
    "    print(dp)\n",
    "    return bool(dp[0][target])\n",
    "\n",
    "# Testing the solution\n",
    "assert isSubsetSumTab(6, [3, 34, 4, 12, 5, 2], 9) == True\n",
    "assert isSubsetSumTab(6, [3, 34, 4, 12, 5, 2], 30) == False"
   ]
  },
  {
   "cell_type": "code",
   "execution_count": 31,
   "id": "ca80b369",
   "metadata": {
    "execution": {
     "iopub.execute_input": "2024-05-09T07:01:29.874156Z",
     "iopub.status.busy": "2024-05-09T07:01:29.873777Z",
     "iopub.status.idle": "2024-05-09T07:01:29.878386Z",
     "shell.execute_reply": "2024-05-09T07:01:29.877981Z"
    },
    "lines_to_next_cell": 1,
    "papermill": {
     "duration": 0.011808,
     "end_time": "2024-05-09T07:01:29.879460",
     "exception": false,
     "start_time": "2024-05-09T07:01:29.867652",
     "status": "completed"
    },
    "tags": []
   },
   "outputs": [],
   "source": [
    "def isSubsetSumSpaceOptimized(N: int, arr: list[int], target: int) -> bool:\n",
    "    \"Time: O(N x target), Space: O(target)\"\n",
    "    dp: list[int] = [0 if j > 0 else 1 for j in range(target + 1)]\n",
    "\n",
    "    for i in range(N - 1, -1, -1):\n",
    "        next_: list[int] = []\n",
    "        for total in range(target + 1):\n",
    "            if total == 0 or dp[total] == 1 or (total - arr[i] >= 0 and dp[total - arr[i]] == 1):\n",
    "                next_.append(1)\n",
    "            else:\n",
    "                next_.append(0)\n",
    "\n",
    "        dp = next_\n",
    "\n",
    "    return bool(dp[target])\n",
    "\n",
    "# Testing the solution\n",
    "assert isSubsetSumSpaceOptimized(6, [3, 34, 4, 12, 5, 2], 9) == True\n",
    "assert isSubsetSumSpaceOptimized(6, [3, 34, 4, 12, 5, 2], 30) == False"
   ]
  },
  {
   "cell_type": "markdown",
   "id": "7a10f4ca",
   "metadata": {
    "papermill": {
     "duration": 0.005583,
     "end_time": "2024-05-09T07:01:29.890756",
     "exception": false,
     "start_time": "2024-05-09T07:01:29.885173",
     "status": "completed"
    },
    "tags": []
   },
   "source": [
    "Partition equal subset sum: https://leetcode.com/problems/partition-equal-subset-sum/\n",
    "Video Link: https://youtu.be/7win3dcgo3k?si=LJO4Ot4EZzQ2fRc0"
   ]
  },
  {
   "cell_type": "code",
   "execution_count": 32,
   "id": "373088cf",
   "metadata": {
    "execution": {
     "iopub.execute_input": "2024-05-09T07:01:29.903109Z",
     "iopub.status.busy": "2024-05-09T07:01:29.902591Z",
     "iopub.status.idle": "2024-05-09T07:01:29.907898Z",
     "shell.execute_reply": "2024-05-09T07:01:29.907364Z"
    },
    "papermill": {
     "duration": 0.012722,
     "end_time": "2024-05-09T07:01:29.909174",
     "exception": false,
     "start_time": "2024-05-09T07:01:29.896452",
     "status": "completed"
    },
    "tags": []
   },
   "outputs": [],
   "source": [
    "# https://leetcode.com/problems/partition-equal-subset-sum/submissions/1253314239\n",
    "def canPartition(nums: list[int]) -> bool:\n",
    "    def subsetSumEqualsTarget(target: int) -> bool:\n",
    "        \"Time: O(N x target), Space: O(target)\"\n",
    "        dp: list[bool] = [False if i > 0 else True for i in range(target + 1)]\n",
    "        for i in range(N - 1, -1, -1):\n",
    "            next_: list[bool] = []\n",
    "            for total in range(target + 1):\n",
    "                if total == 0 or dp[total] or (total - nums[i] >= 0 and dp[total - nums[i]]):\n",
    "                    next_.append(True)\n",
    "                else:\n",
    "                    next_.append(False)\n",
    "\n",
    "            dp = next_\n",
    "\n",
    "        return dp[target]\n",
    "\n",
    "    N = len(nums)\n",
    "    total = sum(nums)\n",
    "    return total % 2 == 0 and subsetSumEqualsTarget(total // 2)\n",
    "\n",
    "# Testing the solution\n",
    "assert canPartition([1,5,11,5]) == True\n",
    "assert canPartition([1,2,3,5]) == False\n",
    "assert canPartition([3,3,3,4,5]) == True"
   ]
  }
 ],
 "metadata": {
  "kernelspec": {
   "display_name": "Python 3 (ipykernel)",
   "language": "python",
   "name": "python3"
  },
  "language_info": {
   "codemirror_mode": {
    "name": "ipython",
    "version": 3
   },
   "file_extension": ".py",
   "mimetype": "text/x-python",
   "name": "python",
   "nbconvert_exporter": "python",
   "pygments_lexer": "ipython3",
   "version": "3.11.9"
  },
  "papermill": {
   "default_parameters": {},
   "duration": 1.866125,
   "end_time": "2024-05-09T07:01:30.030534",
   "environment_variables": {},
   "exception": null,
   "input_path": "study/striver-A2Z/13-dp.ipynb",
   "output_path": "study/striver-A2Z/13-dp.ipynb",
   "parameters": {},
   "start_time": "2024-05-09T07:01:28.164409",
   "version": "2.6.0"
  }
 },
 "nbformat": 4,
 "nbformat_minor": 5
}