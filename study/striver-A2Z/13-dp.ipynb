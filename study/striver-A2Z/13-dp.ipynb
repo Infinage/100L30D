{
 "cells": [
  {
   "cell_type": "markdown",
   "id": "457ab51f",
   "metadata": {
    "papermill": {
     "duration": 0.004847,
     "end_time": "2024-05-07T16:44:30.315671",
     "exception": false,
     "start_time": "2024-05-07T16:44:30.310824",
     "status": "completed"
    },
    "tags": []
   },
   "source": [
    "### Some important imports"
   ]
  },
  {
   "cell_type": "code",
   "execution_count": 1,
   "id": "164d751b",
   "metadata": {
    "execution": {
     "iopub.execute_input": "2024-05-07T16:44:30.325040Z",
     "iopub.status.busy": "2024-05-07T16:44:30.324626Z",
     "iopub.status.idle": "2024-05-07T16:44:30.330209Z",
     "shell.execute_reply": "2024-05-07T16:44:30.329747Z"
    },
    "lines_to_next_cell": 1,
    "papermill": {
     "duration": 0.011528,
     "end_time": "2024-05-07T16:44:30.331267",
     "exception": false,
     "start_time": "2024-05-07T16:44:30.319739",
     "status": "completed"
    },
    "tags": []
   },
   "outputs": [],
   "source": [
    "import functools\n",
    "import itertools\n",
    "import collections\n",
    "import math\n",
    "import heapq"
   ]
  },
  {
   "cell_type": "markdown",
   "id": "48648354",
   "metadata": {
    "papermill": {
     "duration": 0.003844,
     "end_time": "2024-05-07T16:44:30.339085",
     "exception": false,
     "start_time": "2024-05-07T16:44:30.335241",
     "status": "completed"
    },
    "tags": []
   },
   "source": [
    "Introduction to DP: https://youtu.be/tyB0ztf0DNY?si=SgpBwGNqPXzdPSRA\n",
    "1. Tabulation: Bottom up DP: Ans -> Base case -> Ans\n",
    "2. Memoization: Top down DP: Base case -> Ans"
   ]
  },
  {
   "cell_type": "code",
   "execution_count": 2,
   "id": "41c46591",
   "metadata": {
    "execution": {
     "iopub.execute_input": "2024-05-07T16:44:30.348064Z",
     "iopub.status.busy": "2024-05-07T16:44:30.347592Z",
     "iopub.status.idle": "2024-05-07T16:44:30.353856Z",
     "shell.execute_reply": "2024-05-07T16:44:30.353326Z"
    },
    "lines_to_next_cell": 1,
    "papermill": {
     "duration": 0.012,
     "end_time": "2024-05-07T16:44:30.355020",
     "exception": false,
     "start_time": "2024-05-07T16:44:30.343020",
     "status": "completed"
    },
    "tags": []
   },
   "outputs": [
    {
     "data": {
      "text/plain": [
       "55"
      ]
     },
     "execution_count": 2,
     "metadata": {},
     "output_type": "execute_result"
    }
   ],
   "source": [
    "def fiboBrute(n: int) -> int:\n",
    "    \"\"\"\n",
    "    Vanilla recursion\n",
    "    Time: O(2 ^ N), Space: O(2 ^ N)\n",
    "    \"\"\"\n",
    "    if n <= 1:\n",
    "        return n\n",
    "    else:\n",
    "        return fiboBrute(n - 1) + fiboBrute(n - 2)\n",
    "\n",
    "fiboBrute(10)"
   ]
  },
  {
   "cell_type": "code",
   "execution_count": 3,
   "id": "83ba7cd5",
   "metadata": {
    "execution": {
     "iopub.execute_input": "2024-05-07T16:44:30.364837Z",
     "iopub.status.busy": "2024-05-07T16:44:30.364402Z",
     "iopub.status.idle": "2024-05-07T16:44:30.369605Z",
     "shell.execute_reply": "2024-05-07T16:44:30.369102Z"
    },
    "lines_to_next_cell": 1,
    "papermill": {
     "duration": 0.010986,
     "end_time": "2024-05-07T16:44:30.370760",
     "exception": false,
     "start_time": "2024-05-07T16:44:30.359774",
     "status": "completed"
    },
    "tags": []
   },
   "outputs": [
    {
     "data": {
      "text/plain": [
       "55"
      ]
     },
     "execution_count": 3,
     "metadata": {},
     "output_type": "execute_result"
    }
   ],
   "source": [
    "def fiboBetter1(n: int) -> int:\n",
    "    \"\"\"\n",
    "    Memoization Approach: Top down approach\n",
    "    Time: O(N), Space: O(N) + O(N)\n",
    "    \"\"\"\n",
    "    dp: list[int] = [-1 for i in range(n + 1)]\n",
    "    def backtrack(curr: int) -> int:\n",
    "        if curr <= 1:\n",
    "            return curr\n",
    "        elif dp[curr] != -1:\n",
    "            return dp[curr]\n",
    "        else:\n",
    "            dp[curr] = backtrack(curr - 1) + backtrack(curr - 2)\n",
    "            return dp[curr]\n",
    "\n",
    "    return backtrack(n)\n",
    "\n",
    "fiboBetter1(10)"
   ]
  },
  {
   "cell_type": "code",
   "execution_count": 4,
   "id": "80fded7e",
   "metadata": {
    "execution": {
     "iopub.execute_input": "2024-05-07T16:44:30.379730Z",
     "iopub.status.busy": "2024-05-07T16:44:30.379459Z",
     "iopub.status.idle": "2024-05-07T16:44:30.384176Z",
     "shell.execute_reply": "2024-05-07T16:44:30.383750Z"
    },
    "lines_to_next_cell": 1,
    "papermill": {
     "duration": 0.010262,
     "end_time": "2024-05-07T16:44:30.385176",
     "exception": false,
     "start_time": "2024-05-07T16:44:30.374914",
     "status": "completed"
    },
    "tags": []
   },
   "outputs": [
    {
     "data": {
      "text/plain": [
       "55"
      ]
     },
     "execution_count": 4,
     "metadata": {},
     "output_type": "execute_result"
    }
   ],
   "source": [
    "def fiboBetter2(n: int) -> int:\n",
    "    \"\"\"\n",
    "    Tabulation: Bottom up approach\n",
    "    Time: O(N), Space: O(N)\n",
    "    \"\"\"\n",
    "    dp: list[int] = [-1 if i > 1 else i for i in range(n + 1)]\n",
    "    for i in range(2, n + 1):\n",
    "        dp[i] = dp[i - 1] + dp[i - 2]\n",
    "\n",
    "    return dp[n]\n",
    "\n",
    "fiboBetter2(10)"
   ]
  },
  {
   "cell_type": "code",
   "execution_count": 5,
   "id": "8f7d86e2",
   "metadata": {
    "execution": {
     "iopub.execute_input": "2024-05-07T16:44:30.394368Z",
     "iopub.status.busy": "2024-05-07T16:44:30.393914Z",
     "iopub.status.idle": "2024-05-07T16:44:30.398281Z",
     "shell.execute_reply": "2024-05-07T16:44:30.397776Z"
    },
    "lines_to_next_cell": 1,
    "papermill": {
     "duration": 0.010041,
     "end_time": "2024-05-07T16:44:30.399317",
     "exception": false,
     "start_time": "2024-05-07T16:44:30.389276",
     "status": "completed"
    },
    "tags": []
   },
   "outputs": [
    {
     "data": {
      "text/plain": [
       "55"
      ]
     },
     "execution_count": 5,
     "metadata": {},
     "output_type": "execute_result"
    }
   ],
   "source": [
    "def fiboOptimal(n: int) -> int:\n",
    "    \"\"\"\n",
    "    Bottom up approach\n",
    "    Time: O(N), Space: O(1)\n",
    "    \"\"\"\n",
    "    prev2, prev1 = 0, 1\n",
    "    for i in range(2, n + 1):\n",
    "        prev2, prev1 = prev1, prev1 + prev2\n",
    "        n -= 1\n",
    "\n",
    "    return prev1\n",
    "\n",
    "fiboOptimal(10)"
   ]
  },
  {
   "cell_type": "markdown",
   "id": "855c35fb",
   "metadata": {
    "papermill": {
     "duration": 0.004113,
     "end_time": "2024-05-07T16:44:30.407651",
     "exception": false,
     "start_time": "2024-05-07T16:44:30.403538",
     "status": "completed"
    },
    "tags": []
   },
   "source": [
    "Climbing Stairs: https://leetcode.com/problems/climbing-stairs/\n",
    "Video Link: https://youtu.be/mLfjzJsN8us?si=C7W-jiYvql0mEnbh"
   ]
  },
  {
   "cell_type": "code",
   "execution_count": 6,
   "id": "87993489",
   "metadata": {
    "execution": {
     "iopub.execute_input": "2024-05-07T16:44:30.416893Z",
     "iopub.status.busy": "2024-05-07T16:44:30.416692Z",
     "iopub.status.idle": "2024-05-07T16:44:30.420907Z",
     "shell.execute_reply": "2024-05-07T16:44:30.420477Z"
    },
    "lines_to_next_cell": 1,
    "papermill": {
     "duration": 0.010189,
     "end_time": "2024-05-07T16:44:30.422006",
     "exception": false,
     "start_time": "2024-05-07T16:44:30.411817",
     "status": "completed"
    },
    "tags": []
   },
   "outputs": [],
   "source": [
    "def climbStairsBetter(n: int) -> int:\n",
    "    \"\"\"Time: O(N), Space: O(N)\"\"\"\n",
    "\n",
    "    dp: list[int] = [-1 for i in range(n + 1)]\n",
    "    def backtrack(curr: int) -> int:\n",
    "        if curr <= 1:\n",
    "            return 1\n",
    "        elif dp[curr] != -1:\n",
    "            return dp[curr]\n",
    "        else:\n",
    "            dp[curr] = backtrack(curr - 1) + backtrack(curr - 2)\n",
    "            return dp[curr]\n",
    "\n",
    "    return backtrack(n)\n",
    "\n",
    "assert climbStairsBetter(45) == 1836311903"
   ]
  },
  {
   "cell_type": "code",
   "execution_count": 7,
   "id": "2dc15ac3",
   "metadata": {
    "execution": {
     "iopub.execute_input": "2024-05-07T16:44:30.431599Z",
     "iopub.status.busy": "2024-05-07T16:44:30.431174Z",
     "iopub.status.idle": "2024-05-07T16:44:30.434535Z",
     "shell.execute_reply": "2024-05-07T16:44:30.434117Z"
    },
    "lines_to_next_cell": 1,
    "papermill": {
     "duration": 0.009283,
     "end_time": "2024-05-07T16:44:30.435539",
     "exception": false,
     "start_time": "2024-05-07T16:44:30.426256",
     "status": "completed"
    },
    "tags": []
   },
   "outputs": [],
   "source": [
    "def climbStairs(n: int) -> int:\n",
    "    \"\"\"Time: O(N), Space: O(1)\"\"\"\n",
    "    prev2, prev1 = 1, 1\n",
    "    while n > 0:\n",
    "        prev2, prev1 = prev1, prev1 + prev2\n",
    "        n -= 1\n",
    "\n",
    "    return prev2\n",
    "\n",
    "assert climbStairs(45) == 1836311903"
   ]
  },
  {
   "cell_type": "markdown",
   "id": "3cd4d88c",
   "metadata": {
    "papermill": {
     "duration": 0.004112,
     "end_time": "2024-05-07T16:44:30.443890",
     "exception": false,
     "start_time": "2024-05-07T16:44:30.439778",
     "status": "completed"
    },
    "tags": []
   },
   "source": [
    "Video link: https://youtu.be/EgG3jsGoPvQ?si=Cm5AVvq_zCnr-w6q\n",
    "Frog Jump: 1"
   ]
  },
  {
   "cell_type": "code",
   "execution_count": 8,
   "id": "59c27b1e",
   "metadata": {
    "execution": {
     "iopub.execute_input": "2024-05-07T16:44:30.453304Z",
     "iopub.status.busy": "2024-05-07T16:44:30.452807Z",
     "iopub.status.idle": "2024-05-07T16:44:30.457559Z",
     "shell.execute_reply": "2024-05-07T16:44:30.457020Z"
    },
    "lines_to_next_cell": 1,
    "papermill": {
     "duration": 0.010629,
     "end_time": "2024-05-07T16:44:30.458696",
     "exception": false,
     "start_time": "2024-05-07T16:44:30.448067",
     "status": "completed"
    },
    "tags": []
   },
   "outputs": [],
   "source": [
    "def frogJumpBetter(N: int, heights: list[int]) -> int:\n",
    "    \"\"\"\n",
    "    Time: O(N), Space: O(N) + O(N)\n",
    "    \"\"\"\n",
    "\n",
    "    @functools.cache\n",
    "    def backtrack(curr: int) -> int:\n",
    "        if curr == N - 1:\n",
    "            return 0\n",
    "        elif curr == N - 2:\n",
    "            return abs(heights[N - 1] - heights[N - 2])\n",
    "        else:\n",
    "            jump1 = abs(heights[curr] - heights[curr + 1]) + backtrack(curr + 1)\n",
    "            jump2 = abs(heights[curr] - heights[curr + 2]) + backtrack(curr + 2)\n",
    "            return min(jump1, jump2)\n",
    "\n",
    "    return backtrack(0)\n",
    "\n",
    "# Testing the solution\n",
    "assert frogJumpBetter(4, [10,20,30,10]) == 20\n",
    "assert frogJumpBetter(3, [10,50,10]) == 0"
   ]
  },
  {
   "cell_type": "code",
   "execution_count": 9,
   "id": "2bc52e04",
   "metadata": {
    "execution": {
     "iopub.execute_input": "2024-05-07T16:44:30.467971Z",
     "iopub.status.busy": "2024-05-07T16:44:30.467638Z",
     "iopub.status.idle": "2024-05-07T16:44:30.471730Z",
     "shell.execute_reply": "2024-05-07T16:44:30.471212Z"
    },
    "lines_to_next_cell": 1,
    "papermill": {
     "duration": 0.009782,
     "end_time": "2024-05-07T16:44:30.472745",
     "exception": false,
     "start_time": "2024-05-07T16:44:30.462963",
     "status": "completed"
    },
    "tags": []
   },
   "outputs": [],
   "source": [
    "def frogJumpOptimal(N: int, heights: list[int]) -> int:\n",
    "    \"Time: O(N), Space: O(1)\"\n",
    "    jump1, jump2 = abs(heights[-2] - heights[-1]), 0\n",
    "    for i in range(N - 3, -1, -1):\n",
    "        curr = min(abs(heights[i] - heights[i + 1]) + jump1, abs(heights[i] - heights[i + 2]) + jump2)\n",
    "        jump1, jump2 = curr, jump1\n",
    "\n",
    "    return jump1\n",
    "\n",
    "assert frogJumpOptimal(4, [10,20,30,10]) == 20\n",
    "assert frogJumpOptimal(3, [10,50,10]) == 0"
   ]
  },
  {
   "cell_type": "markdown",
   "id": "4fa38d19",
   "metadata": {
    "papermill": {
     "duration": 0.004112,
     "end_time": "2024-05-07T16:44:30.481105",
     "exception": false,
     "start_time": "2024-05-07T16:44:30.476993",
     "status": "completed"
    },
    "tags": []
   },
   "source": [
    "Video Link: https://youtu.be/Kmh3rhyEtB8?si=rqZ5-pJcjIzWU5i8\n",
    "Frog Jump with K distance"
   ]
  },
  {
   "cell_type": "code",
   "execution_count": 10,
   "id": "f21ca119",
   "metadata": {
    "execution": {
     "iopub.execute_input": "2024-05-07T16:44:30.490481Z",
     "iopub.status.busy": "2024-05-07T16:44:30.490010Z",
     "iopub.status.idle": "2024-05-07T16:44:30.494501Z",
     "shell.execute_reply": "2024-05-07T16:44:30.494008Z"
    },
    "lines_to_next_cell": 1,
    "papermill": {
     "duration": 0.010339,
     "end_time": "2024-05-07T16:44:30.495591",
     "exception": false,
     "start_time": "2024-05-07T16:44:30.485252",
     "status": "completed"
    },
    "tags": []
   },
   "outputs": [],
   "source": [
    "def frogJumpAtKDistBetter1(N: int, K: int, heights: list[int]) -> int:\n",
    "    \"\"\"\n",
    "    Memoization Approach: Top Down Approach\n",
    "    Time: O(N x K), Space: O(N) + O(N)\n",
    "    \"\"\"\n",
    "\n",
    "    @functools.cache\n",
    "    def backtrack(curr: int) -> int:\n",
    "        if curr >= N - 1:\n",
    "            return 0\n",
    "        else:\n",
    "            minCost = math.inf\n",
    "            for next_ in range(curr + 1, min(N, curr + K + 1)):\n",
    "                cost = abs(heights[curr] - heights[next_]) + backtrack(next_)\n",
    "                minCost = min(minCost, cost)\n",
    "\n",
    "            return int(minCost)\n",
    "\n",
    "    return backtrack(0)\n",
    "\n",
    "# Testing the solution\n",
    "assert frogJumpAtKDistBetter1(5, 3, [10,30,40,50,20]) == 30\n",
    "assert frogJumpAtKDistBetter1(3, 1, [10,20,10]) == 20"
   ]
  },
  {
   "cell_type": "code",
   "execution_count": 11,
   "id": "1b9a86c0",
   "metadata": {
    "execution": {
     "iopub.execute_input": "2024-05-07T16:44:30.504786Z",
     "iopub.status.busy": "2024-05-07T16:44:30.504524Z",
     "iopub.status.idle": "2024-05-07T16:44:30.509044Z",
     "shell.execute_reply": "2024-05-07T16:44:30.508536Z"
    },
    "lines_to_next_cell": 1,
    "papermill": {
     "duration": 0.010326,
     "end_time": "2024-05-07T16:44:30.510146",
     "exception": false,
     "start_time": "2024-05-07T16:44:30.499820",
     "status": "completed"
    },
    "tags": []
   },
   "outputs": [],
   "source": [
    "def frogJumpAtKDistBetter2(N: int, K: int, heights: list[int]) -> int:\n",
    "    \"\"\"\n",
    "    Tabulation: Bottom up approach\n",
    "    Time: O(N x K), Space: O(N)\n",
    "    \"\"\"\n",
    "\n",
    "    dp: list[int] = [-1 for i in range(N)]\n",
    "    dp[-1] = 0\n",
    "\n",
    "    for curr in range(N - 2, -1, -1):\n",
    "        minCost = math.inf\n",
    "        for next_ in range(curr + 1, min(N, curr + K + 1)):\n",
    "            cost = abs(heights[curr] - heights[next_]) + dp[next_]\n",
    "            minCost = min(minCost, cost)\n",
    "        dp[curr] = int(minCost)\n",
    "\n",
    "    return dp[0]\n",
    "\n",
    "# Testing the solution\n",
    "assert frogJumpAtKDistBetter2(5, 3, [10,30,40,50,20]) == 30\n",
    "assert frogJumpAtKDistBetter2(3, 1, [10,20,10]) == 20"
   ]
  },
  {
   "cell_type": "code",
   "execution_count": 12,
   "id": "09ca5d18",
   "metadata": {
    "execution": {
     "iopub.execute_input": "2024-05-07T16:44:30.519564Z",
     "iopub.status.busy": "2024-05-07T16:44:30.519155Z",
     "iopub.status.idle": "2024-05-07T16:44:30.523975Z",
     "shell.execute_reply": "2024-05-07T16:44:30.523471Z"
    },
    "lines_to_next_cell": 1,
    "papermill": {
     "duration": 0.010618,
     "end_time": "2024-05-07T16:44:30.525024",
     "exception": false,
     "start_time": "2024-05-07T16:44:30.514406",
     "status": "completed"
    },
    "tags": []
   },
   "outputs": [],
   "source": [
    "def frogJumpAtKDist(N: int, K: int, heights: list[int]) -> int:\n",
    "    \"\"\"\n",
    "    Tabulation: Bottom up approach\n",
    "    Time: O(N x K), Space: O(K)\n",
    "    \"\"\"\n",
    "\n",
    "    dp: collections.deque[int] = collections.deque([0])\n",
    "    for curr in range(N - 2, -1, -1):\n",
    "        minCost = math.inf\n",
    "        for jump in range(1, min(N - curr, K + 1)):\n",
    "            next_ = curr + jump\n",
    "            cost = abs(heights[curr] - heights[next_]) + dp[jump - 1]\n",
    "            minCost = min(minCost, cost)\n",
    "\n",
    "        dp.appendleft(int(minCost))\n",
    "        if len(dp) > K:\n",
    "            dp.pop()\n",
    "\n",
    "    return dp[0]\n",
    "\n",
    "# Testing the solution\n",
    "assert frogJumpAtKDist(5, 3, [10,30,40,50,20]) == 30\n",
    "assert frogJumpAtKDist(3, 1, [10,20,10]) == 20"
   ]
  },
  {
   "cell_type": "markdown",
   "id": "259d53f8",
   "metadata": {
    "papermill": {
     "duration": 0.004342,
     "end_time": "2024-05-07T16:44:30.533695",
     "exception": false,
     "start_time": "2024-05-07T16:44:30.529353",
     "status": "completed"
    },
    "tags": []
   },
   "source": [
    "Maximum sum of Non Adjacent Elements: House Robber\n",
    "Video Link: https://youtu.be/GrMBfJNk_NY?si=IPuGJglc0axETveU"
   ]
  },
  {
   "cell_type": "code",
   "execution_count": 13,
   "id": "89d8dea7",
   "metadata": {
    "execution": {
     "iopub.execute_input": "2024-05-07T16:44:30.542799Z",
     "iopub.status.busy": "2024-05-07T16:44:30.542472Z",
     "iopub.status.idle": "2024-05-07T16:44:30.546409Z",
     "shell.execute_reply": "2024-05-07T16:44:30.545862Z"
    },
    "lines_to_next_cell": 1,
    "papermill": {
     "duration": 0.009649,
     "end_time": "2024-05-07T16:44:30.547408",
     "exception": false,
     "start_time": "2024-05-07T16:44:30.537759",
     "status": "completed"
    },
    "tags": []
   },
   "outputs": [],
   "source": [
    "def robMemo(nums: list[int]) -> int:\n",
    "    \"\"\"\n",
    "    Memoization: Top down approach\n",
    "    Time: O(N), Space: O(N)\n",
    "    \"\"\"\n",
    "\n",
    "    @functools.cache\n",
    "    def backtrack(curr: int) -> int:\n",
    "        if curr >= N:\n",
    "            return 0\n",
    "        else:\n",
    "            return max(backtrack(curr + 1), nums[curr] + backtrack(curr + 2))\n",
    "\n",
    "    N = len(nums)\n",
    "    return backtrack(0)\n",
    "\n",
    "# Testing the solution\n",
    "assert robMemo([2,7,9,3,1]) == 12"
   ]
  },
  {
   "cell_type": "code",
   "execution_count": 14,
   "id": "e69063ac",
   "metadata": {
    "execution": {
     "iopub.execute_input": "2024-05-07T16:44:30.556585Z",
     "iopub.status.busy": "2024-05-07T16:44:30.556274Z",
     "iopub.status.idle": "2024-05-07T16:44:30.560143Z",
     "shell.execute_reply": "2024-05-07T16:44:30.559726Z"
    },
    "lines_to_next_cell": 1,
    "papermill": {
     "duration": 0.00957,
     "end_time": "2024-05-07T16:44:30.561211",
     "exception": false,
     "start_time": "2024-05-07T16:44:30.551641",
     "status": "completed"
    },
    "tags": []
   },
   "outputs": [],
   "source": [
    "def robTab(nums: list[int]) -> int:\n",
    "    \"\"\"\n",
    "    Tabulation: Bottom up approach\n",
    "    Time: O(N), Space: O(N)\n",
    "    \"\"\"\n",
    "    N = len(nums)\n",
    "    dp: list[int] = [-1 for i in range(N + 1)]\n",
    "    dp[-1], dp[-2] = 0, nums[-1]\n",
    "    for curr in range(N - 2, -1, -1):\n",
    "        dp[curr] = max(nums[curr] + dp[curr + 2], dp[curr + 1])\n",
    "\n",
    "    return dp[0]\n",
    "\n",
    "# Testing the solution\n",
    "assert robTab([2,7,9,3,1]) == 12"
   ]
  },
  {
   "cell_type": "code",
   "execution_count": 15,
   "id": "d3ac1b1c",
   "metadata": {
    "execution": {
     "iopub.execute_input": "2024-05-07T16:44:30.570747Z",
     "iopub.status.busy": "2024-05-07T16:44:30.570320Z",
     "iopub.status.idle": "2024-05-07T16:44:30.573758Z",
     "shell.execute_reply": "2024-05-07T16:44:30.573329Z"
    },
    "lines_to_next_cell": 1,
    "papermill": {
     "duration": 0.009333,
     "end_time": "2024-05-07T16:44:30.574767",
     "exception": false,
     "start_time": "2024-05-07T16:44:30.565434",
     "status": "completed"
    },
    "tags": []
   },
   "outputs": [],
   "source": [
    "# https://leetcode.com/problems/house-robber/submissions/1249841355/\n",
    "def robSpaceOptimized(nums: list[int]) -> int:\n",
    "    \"Time: O(N), Space: O(1)\"\n",
    "    next1 = next2 = 0\n",
    "    for curr in range(len(nums) - 1, -1, -1):\n",
    "        next1, next2 = max(nums[curr] + next2, next1), next1\n",
    "\n",
    "    return next1\n",
    "\n",
    "assert robSpaceOptimized([2,7,9,3,1]) == 12"
   ]
  },
  {
   "cell_type": "markdown",
   "id": "630eec21",
   "metadata": {
    "papermill": {
     "duration": 0.004162,
     "end_time": "2024-05-07T16:44:30.583103",
     "exception": false,
     "start_time": "2024-05-07T16:44:30.578941",
     "status": "completed"
    },
    "tags": []
   },
   "source": [
    "House Robber 2: https://youtu.be/3WaxQMELSkw?si=i9oGKnDJGJxvUjbu\n",
    "https://leetcode.com/problems/house-robber-ii/submissions/1249888930"
   ]
  },
  {
   "cell_type": "code",
   "execution_count": 16,
   "id": "3ee7a5cf",
   "metadata": {
    "execution": {
     "iopub.execute_input": "2024-05-07T16:44:30.592419Z",
     "iopub.status.busy": "2024-05-07T16:44:30.592075Z",
     "iopub.status.idle": "2024-05-07T16:44:30.596413Z",
     "shell.execute_reply": "2024-05-07T16:44:30.595974Z"
    },
    "lines_to_next_cell": 1,
    "papermill": {
     "duration": 0.010144,
     "end_time": "2024-05-07T16:44:30.597474",
     "exception": false,
     "start_time": "2024-05-07T16:44:30.587330",
     "status": "completed"
    },
    "tags": []
   },
   "outputs": [],
   "source": [
    "def rob2(nums: list[int]) -> int:\n",
    "    \"\"\"\n",
    "    Ans cannot contain both the first and the last house.\n",
    "    It can contain either the first or the last house.\n",
    "    \"\"\"\n",
    "    def rob(arr: list[int]) -> int:\n",
    "        next1 = next2 = 0\n",
    "        for curr in range(len(arr) - 1, -1, -1):\n",
    "            next1, next2 = max(arr[curr] + next2, next1), next1\n",
    "\n",
    "        return next1\n",
    "\n",
    "    return max(rob(nums[1:]), rob(nums[:-1])) if len(nums) > 1 else sum(nums)\n",
    "\n",
    "# Testing the solution\n",
    "assert rob2([1,2,3,1]) == 4\n",
    "assert rob2([]) == 0"
   ]
  },
  {
   "cell_type": "markdown",
   "id": "52745498",
   "metadata": {
    "papermill": {
     "duration": 0.004296,
     "end_time": "2024-05-07T16:44:30.606001",
     "exception": false,
     "start_time": "2024-05-07T16:44:30.601705",
     "status": "completed"
    },
    "tags": []
   },
   "source": [
    "Ninja's Training: https://youtu.be/AE39gJYuRog?si=n4BhCotno-9chP5j"
   ]
  },
  {
   "cell_type": "code",
   "execution_count": 17,
   "id": "c814dc79",
   "metadata": {
    "execution": {
     "iopub.execute_input": "2024-05-07T16:44:30.615586Z",
     "iopub.status.busy": "2024-05-07T16:44:30.615326Z",
     "iopub.status.idle": "2024-05-07T16:44:30.620175Z",
     "shell.execute_reply": "2024-05-07T16:44:30.619667Z"
    },
    "lines_to_next_cell": 1,
    "papermill": {
     "duration": 0.010699,
     "end_time": "2024-05-07T16:44:30.621290",
     "exception": false,
     "start_time": "2024-05-07T16:44:30.610591",
     "status": "completed"
    },
    "tags": []
   },
   "outputs": [],
   "source": [
    "def ninjaTrainingBetter(N: int, points: list[list[int]]) -> int:\n",
    "    \"\"\"\n",
    "    Memoization: Top down approach\n",
    "\n",
    "    Time: O(N), Space: O(N) + O(N)\n",
    "    \"\"\"\n",
    "\n",
    "    @functools.cache\n",
    "    def backtrack(i: int, j: int) -> int:\n",
    "        if i == N:\n",
    "            return 0\n",
    "        else:\n",
    "            max_ = -math.inf\n",
    "            for k in range(3):\n",
    "                if k != j:\n",
    "                    max_ = max(max_, points[i][k] + backtrack(i + 1, k))\n",
    "\n",
    "            return int(max_)\n",
    "\n",
    "    return backtrack(0, -1)\n",
    "\n",
    "# Testing the solution\n",
    "assert ninjaTrainingBetter(3, [[10,40,70], [20,50,80], [30,60,90]]) == 210\n",
    "assert ninjaTrainingBetter(3, [[1,2,5], [3,1,1], [3,3,3]]) == 11\n",
    "assert ninjaTrainingBetter(2, [[10,50,1], [5,100,11]]) == 110"
   ]
  },
  {
   "cell_type": "code",
   "execution_count": 18,
   "id": "015e9458",
   "metadata": {
    "execution": {
     "iopub.execute_input": "2024-05-07T16:44:30.630816Z",
     "iopub.status.busy": "2024-05-07T16:44:30.630399Z",
     "iopub.status.idle": "2024-05-07T16:44:30.635820Z",
     "shell.execute_reply": "2024-05-07T16:44:30.635382Z"
    },
    "lines_to_next_cell": 1,
    "papermill": {
     "duration": 0.011232,
     "end_time": "2024-05-07T16:44:30.636819",
     "exception": false,
     "start_time": "2024-05-07T16:44:30.625587",
     "status": "completed"
    },
    "tags": []
   },
   "outputs": [],
   "source": [
    "def ninjaTraining(N: int, points: list[list[int]]) -> int:\n",
    "    \"\"\"\n",
    "    Space optimized Tabulation DP: Bottom up\n",
    "\n",
    "    Start at the last day.\n",
    "    At each day we sum up corresponding values with the values in DP and assign them to DP.\n",
    "    Before moving the prev day, to the DP perform this op -> dp[i] = max(dp[j]) where j != i\n",
    "\n",
    "    At the end of the iteration simply return max of DP.\n",
    "\n",
    "    Time: O(N), Space: O(1)\n",
    "    \"\"\"\n",
    "\n",
    "    dp: list[int] = [0, 0, 0]\n",
    "    for i in range(N - 1, -1, -1):\n",
    "        for j in range(3):\n",
    "            dp[j] += points[i][j]\n",
    "\n",
    "        next_dp: list[int] = []\n",
    "        for j in range(3):\n",
    "            next_dp.append(max(dp[k] for k in range(3) if k != j))\n",
    "\n",
    "        dp = next_dp\n",
    "\n",
    "    return max(dp)\n",
    "\n",
    "# Testing the solution\n",
    "assert ninjaTraining(3, [[10,40,70], [20,50,80], [30,60,90]]) == 210\n",
    "assert ninjaTraining(3, [[1,2,5], [3,1,1], [3,3,3]]) == 11\n",
    "assert ninjaTraining(2, [[10,50,1], [5,100,11]]) == 110"
   ]
  },
  {
   "cell_type": "markdown",
   "id": "d132fa58",
   "metadata": {
    "papermill": {
     "duration": 0.004316,
     "end_time": "2024-05-07T16:44:30.645504",
     "exception": false,
     "start_time": "2024-05-07T16:44:30.641188",
     "status": "completed"
    },
    "tags": []
   },
   "source": [
    "Unique 2D paths: https://youtu.be/sdE0A2Oxofw?si=g1FpuSIYx0x95G-7\n",
    "https://leetcode.com/problems/unique-paths/"
   ]
  },
  {
   "cell_type": "code",
   "execution_count": 19,
   "id": "d035c9d7",
   "metadata": {
    "execution": {
     "iopub.execute_input": "2024-05-07T16:44:30.654799Z",
     "iopub.status.busy": "2024-05-07T16:44:30.654384Z",
     "iopub.status.idle": "2024-05-07T16:44:30.658752Z",
     "shell.execute_reply": "2024-05-07T16:44:30.658233Z"
    },
    "lines_to_next_cell": 1,
    "papermill": {
     "duration": 0.010198,
     "end_time": "2024-05-07T16:44:30.659854",
     "exception": false,
     "start_time": "2024-05-07T16:44:30.649656",
     "status": "completed"
    },
    "tags": []
   },
   "outputs": [],
   "source": [
    "def uniquePathsMemo(m: int, n: int) -> int:\n",
    "    \"\"\"\n",
    "    Memoization Solution: Top Down\n",
    "    Time: O(m x n), Space: O(m x n) + O(m x n)\n",
    "    \"\"\"\n",
    "    @functools.cache\n",
    "    def backtrack(i: int, j: int) -> int:\n",
    "        if i == m - 1 and j == n - 1:\n",
    "            return 1\n",
    "        elif i >= m or j >= n:\n",
    "            return 0\n",
    "        else:\n",
    "            return backtrack(i + 1, j) + backtrack(i, j + 1)\n",
    "\n",
    "    return backtrack(0, 0)\n",
    "\n",
    "# Testing the solution\n",
    "assert uniquePathsMemo(3, 7) == 28\n",
    "assert uniquePathsMemo(3, 2) == 3"
   ]
  },
  {
   "cell_type": "code",
   "execution_count": 20,
   "id": "c3fb756d",
   "metadata": {
    "execution": {
     "iopub.execute_input": "2024-05-07T16:44:30.669370Z",
     "iopub.status.busy": "2024-05-07T16:44:30.668957Z",
     "iopub.status.idle": "2024-05-07T16:44:30.672994Z",
     "shell.execute_reply": "2024-05-07T16:44:30.672576Z"
    },
    "lines_to_next_cell": 1,
    "papermill": {
     "duration": 0.009886,
     "end_time": "2024-05-07T16:44:30.674044",
     "exception": false,
     "start_time": "2024-05-07T16:44:30.664158",
     "status": "completed"
    },
    "tags": []
   },
   "outputs": [],
   "source": [
    "# https://leetcode.com/problems/unique-paths/submissions/1250526713\n",
    "def uniquePathsTab(m: int, n: int) -> int:\n",
    "    \"Time: O(m x n), Space: O(min(m, n))\"\n",
    "    M, N = min(m, n), max(m, n)\n",
    "    dp: list[int] = [1 for i in range(M)]\n",
    "\n",
    "    for i in range(N - 1):\n",
    "        for j in range(M - 2, -1, -1):\n",
    "            dp[j] += dp[j + 1]\n",
    "\n",
    "    return dp[0]\n",
    "\n",
    "# Testing the solution\n",
    "assert uniquePathsTab(3, 7) == 28\n",
    "assert uniquePathsTab(3, 2) == 3"
   ]
  },
  {
   "cell_type": "markdown",
   "id": "bb22f54a",
   "metadata": {
    "papermill": {
     "duration": 0.004178,
     "end_time": "2024-05-07T16:44:30.682501",
     "exception": false,
     "start_time": "2024-05-07T16:44:30.678323",
     "status": "completed"
    },
    "tags": []
   },
   "source": [
    "Video link: https://youtu.be/TmhpgXScLyY?si=M_FfFKRqRTXid4Jj\n",
    "Unique Paths - ii: https://leetcode.com/problems/unique-paths-ii/submissions/1250615914"
   ]
  },
  {
   "cell_type": "code",
   "execution_count": 21,
   "id": "f59a530c",
   "metadata": {
    "execution": {
     "iopub.execute_input": "2024-05-07T16:44:30.691774Z",
     "iopub.status.busy": "2024-05-07T16:44:30.691343Z",
     "iopub.status.idle": "2024-05-07T16:44:30.696212Z",
     "shell.execute_reply": "2024-05-07T16:44:30.695780Z"
    },
    "lines_to_next_cell": 1,
    "papermill": {
     "duration": 0.010602,
     "end_time": "2024-05-07T16:44:30.697251",
     "exception": false,
     "start_time": "2024-05-07T16:44:30.686649",
     "status": "completed"
    },
    "tags": []
   },
   "outputs": [],
   "source": [
    "def uniquePathsWithObstacles(obstacleGrid: list[list[int]]) -> int:\n",
    "    \"Time: O(M x N), Space: O(N)\"\n",
    "    M, N = len(obstacleGrid), len(obstacleGrid[0])\n",
    "\n",
    "    dp: list[int] = [0 for j in range(N)]\n",
    "    dp[-1] = 1\n",
    "\n",
    "    for i in range(M - 1, -1, -1):\n",
    "        for j in range(N - 1, -1, -1):\n",
    "            if obstacleGrid[i][j] == 0:\n",
    "                dp[j] = dp[j] + dp[j + 1] if j < N - 1 else dp[j]\n",
    "            else:\n",
    "                dp[j] = 0\n",
    "\n",
    "    return dp[0]\n",
    "\n",
    "# Testing the solution\n",
    "assert uniquePathsWithObstacles([[0,0,0],[0,1,0],[0,0,0]]) == 2\n",
    "assert uniquePathsWithObstacles([[0,1],[0,0]]) == 1\n",
    "assert uniquePathsWithObstacles([[1]]) == 0"
   ]
  },
  {
   "cell_type": "markdown",
   "id": "93e28e9b",
   "metadata": {
    "papermill": {
     "duration": 0.004137,
     "end_time": "2024-05-07T16:44:30.705666",
     "exception": false,
     "start_time": "2024-05-07T16:44:30.701529",
     "status": "completed"
    },
    "tags": []
   },
   "source": [
    "Minimum Path Sum: https://youtu.be/_rgTlyky1uQ?si=3xJY7MmVg5tTEW5Q\n",
    "https://leetcode.com/problems/minimum-path-sum/submissions/1250633614"
   ]
  },
  {
   "cell_type": "code",
   "execution_count": 22,
   "id": "c97f7ce9",
   "metadata": {
    "execution": {
     "iopub.execute_input": "2024-05-07T16:44:30.715271Z",
     "iopub.status.busy": "2024-05-07T16:44:30.714670Z",
     "iopub.status.idle": "2024-05-07T16:44:30.719450Z",
     "shell.execute_reply": "2024-05-07T16:44:30.719022Z"
    },
    "lines_to_next_cell": 1,
    "papermill": {
     "duration": 0.010606,
     "end_time": "2024-05-07T16:44:30.720509",
     "exception": false,
     "start_time": "2024-05-07T16:44:30.709903",
     "status": "completed"
    },
    "tags": []
   },
   "outputs": [],
   "source": [
    "def minPathSum(grid: list[list[int]]) -> int:\n",
    "    \"Time: O(M x N), Space: O(N)\"\n",
    "    M, N = len(grid), len(grid[0])\n",
    "\n",
    "    # Initialize DP\n",
    "    dp: list[float] = [math.inf for j in range(N)]\n",
    "    dp[-1] = 0\n",
    "\n",
    "    # DP Solution\n",
    "    for i in range(M - 1, -1, -1):\n",
    "        for j in range(N - 1, -1, -1):\n",
    "            dp[j] = grid[i][j] + (min(dp[j + 1], dp[j]) if j < N - 1 else dp[j])\n",
    "\n",
    "    return int(dp[0])\n",
    "\n",
    "# Testing the solution\n",
    "assert minPathSum([[1,3,1],[1,5,1],[4,2,1]]) == 7\n",
    "assert minPathSum([[1,2,3],[4,5,6]]) == 12"
   ]
  },
  {
   "cell_type": "markdown",
   "id": "107526ff",
   "metadata": {
    "papermill": {
     "duration": 0.004127,
     "end_time": "2024-05-07T16:44:30.728826",
     "exception": false,
     "start_time": "2024-05-07T16:44:30.724699",
     "status": "completed"
    },
    "tags": []
   },
   "source": [
    "Video Link: https://youtu.be/0bHoB32fuj0?si=5UHeArKmLvTVpbrk\n",
    "Triangle: https://leetcode.com/problems/triangle/submissions/1251774955/"
   ]
  },
  {
   "cell_type": "code",
   "execution_count": 23,
   "id": "62387041",
   "metadata": {
    "execution": {
     "iopub.execute_input": "2024-05-07T16:44:30.738225Z",
     "iopub.status.busy": "2024-05-07T16:44:30.737780Z",
     "iopub.status.idle": "2024-05-07T16:44:30.742169Z",
     "shell.execute_reply": "2024-05-07T16:44:30.741699Z"
    },
    "papermill": {
     "duration": 0.010146,
     "end_time": "2024-05-07T16:44:30.743172",
     "exception": false,
     "start_time": "2024-05-07T16:44:30.733026",
     "status": "completed"
    },
    "tags": []
   },
   "outputs": [],
   "source": [
    "def minimumTotal(triangle: list[list[int]]) -> int:\n",
    "    \"\"\"Time: O(N x N), Space: O(N)\"\"\"\n",
    "    N = len(triangle)\n",
    "    dp: list[int] = [0 for i in range(N + 1)]\n",
    "\n",
    "    while N > 0:\n",
    "        next_: list[int] = []\n",
    "        for i in range(N):\n",
    "            next_.append(min(dp[i], dp[i + 1]) + triangle[N - 1][i])\n",
    "        dp = next_\n",
    "        N -= 1\n",
    "\n",
    "    return dp[0]\n",
    "\n",
    "# Testing the solution\n",
    "assert minimumTotal([[2],[3,4],[6,5,7],[4,1,8,3]]) == 11\n",
    "assert minimumTotal([[-10]]) == -10"
   ]
  }
 ],
 "metadata": {
  "kernelspec": {
   "display_name": "Python 3 (ipykernel)",
   "language": "python",
   "name": "python3"
  },
  "language_info": {
   "codemirror_mode": {
    "name": "ipython",
    "version": 3
   },
   "file_extension": ".py",
   "mimetype": "text/x-python",
   "name": "python",
   "nbconvert_exporter": "python",
   "pygments_lexer": "ipython3",
   "version": "3.11.9"
  },
  "papermill": {
   "default_parameters": {},
   "duration": 1.677194,
   "end_time": "2024-05-07T16:44:30.863008",
   "environment_variables": {},
   "exception": null,
   "input_path": "study/striver-A2Z/13-dp.ipynb",
   "output_path": "study/striver-A2Z/13-dp.ipynb",
   "parameters": {},
   "start_time": "2024-05-07T16:44:29.185814",
   "version": "2.6.0"
  }
 },
 "nbformat": 4,
 "nbformat_minor": 5
}