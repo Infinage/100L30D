{
 "cells": [
  {
   "cell_type": "markdown",
   "id": "807dd9ee",
   "metadata": {
    "papermill": {
     "duration": 0.00795,
     "end_time": "2024-05-11T09:06:05.261503",
     "exception": false,
     "start_time": "2024-05-11T09:06:05.253553",
     "status": "completed"
    },
    "tags": []
   },
   "source": [
    "Important notes\n",
    "- All subset based problems (non contigous subarrays would have the pick/nopick approach)"
   ]
  },
  {
   "cell_type": "markdown",
   "id": "457ab51f",
   "metadata": {
    "papermill": {
     "duration": 0.007128,
     "end_time": "2024-05-11T09:06:05.276650",
     "exception": false,
     "start_time": "2024-05-11T09:06:05.269522",
     "status": "completed"
    },
    "tags": []
   },
   "source": [
    "### Some important imports"
   ]
  },
  {
   "cell_type": "code",
   "execution_count": 1,
   "id": "164d751b",
   "metadata": {
    "execution": {
     "iopub.execute_input": "2024-05-11T09:06:05.292052Z",
     "iopub.status.busy": "2024-05-11T09:06:05.291572Z",
     "iopub.status.idle": "2024-05-11T09:06:05.297021Z",
     "shell.execute_reply": "2024-05-11T09:06:05.296511Z"
    },
    "lines_to_next_cell": 1,
    "papermill": {
     "duration": 0.014498,
     "end_time": "2024-05-11T09:06:05.298239",
     "exception": false,
     "start_time": "2024-05-11T09:06:05.283741",
     "status": "completed"
    },
    "tags": []
   },
   "outputs": [],
   "source": [
    "import functools\n",
    "import itertools\n",
    "import collections\n",
    "import math\n",
    "import heapq"
   ]
  },
  {
   "cell_type": "markdown",
   "id": "48648354",
   "metadata": {
    "papermill": {
     "duration": 0.007099,
     "end_time": "2024-05-11T09:06:05.312518",
     "exception": false,
     "start_time": "2024-05-11T09:06:05.305419",
     "status": "completed"
    },
    "tags": []
   },
   "source": [
    "Introduction to DP: https://youtu.be/tyB0ztf0DNY?si=SgpBwGNqPXzdPSRA\n",
    "1. Tabulation: Bottom up DP: Ans -> Base case -> Ans\n",
    "2. Memoization: Top down DP: Base case -> Ans"
   ]
  },
  {
   "cell_type": "code",
   "execution_count": 2,
   "id": "41c46591",
   "metadata": {
    "execution": {
     "iopub.execute_input": "2024-05-11T09:06:05.327784Z",
     "iopub.status.busy": "2024-05-11T09:06:05.327382Z",
     "iopub.status.idle": "2024-05-11T09:06:05.333261Z",
     "shell.execute_reply": "2024-05-11T09:06:05.332764Z"
    },
    "lines_to_next_cell": 1,
    "papermill": {
     "duration": 0.014779,
     "end_time": "2024-05-11T09:06:05.334429",
     "exception": false,
     "start_time": "2024-05-11T09:06:05.319650",
     "status": "completed"
    },
    "tags": []
   },
   "outputs": [
    {
     "data": {
      "text/plain": [
       "55"
      ]
     },
     "execution_count": 2,
     "metadata": {},
     "output_type": "execute_result"
    }
   ],
   "source": [
    "def fiboBrute(n: int) -> int:\n",
    "    \"\"\"\n",
    "    Vanilla recursion\n",
    "    Time: O(2 ^ N), Space: O(2 ^ N)\n",
    "    \"\"\"\n",
    "    if n <= 1:\n",
    "        return n\n",
    "    else:\n",
    "        return fiboBrute(n - 1) + fiboBrute(n - 2)\n",
    "\n",
    "fiboBrute(10)"
   ]
  },
  {
   "cell_type": "code",
   "execution_count": 3,
   "id": "83ba7cd5",
   "metadata": {
    "execution": {
     "iopub.execute_input": "2024-05-11T09:06:05.350215Z",
     "iopub.status.busy": "2024-05-11T09:06:05.349761Z",
     "iopub.status.idle": "2024-05-11T09:06:05.355158Z",
     "shell.execute_reply": "2024-05-11T09:06:05.354630Z"
    },
    "lines_to_next_cell": 1,
    "papermill": {
     "duration": 0.014287,
     "end_time": "2024-05-11T09:06:05.356155",
     "exception": false,
     "start_time": "2024-05-11T09:06:05.341868",
     "status": "completed"
    },
    "tags": []
   },
   "outputs": [
    {
     "data": {
      "text/plain": [
       "55"
      ]
     },
     "execution_count": 3,
     "metadata": {},
     "output_type": "execute_result"
    }
   ],
   "source": [
    "def fiboBetter1(n: int) -> int:\n",
    "    \"\"\"\n",
    "    Memoization Approach: Top down approach\n",
    "    Time: O(N), Space: O(N) + O(N)\n",
    "    \"\"\"\n",
    "    dp: list[int] = [-1 for i in range(n + 1)]\n",
    "    def backtrack(curr: int) -> int:\n",
    "        if curr <= 1:\n",
    "            return curr\n",
    "        elif dp[curr] != -1:\n",
    "            return dp[curr]\n",
    "        else:\n",
    "            dp[curr] = backtrack(curr - 1) + backtrack(curr - 2)\n",
    "            return dp[curr]\n",
    "\n",
    "    return backtrack(n)\n",
    "\n",
    "fiboBetter1(10)"
   ]
  },
  {
   "cell_type": "code",
   "execution_count": 4,
   "id": "80fded7e",
   "metadata": {
    "execution": {
     "iopub.execute_input": "2024-05-11T09:06:05.371709Z",
     "iopub.status.busy": "2024-05-11T09:06:05.371445Z",
     "iopub.status.idle": "2024-05-11T09:06:05.376071Z",
     "shell.execute_reply": "2024-05-11T09:06:05.375641Z"
    },
    "lines_to_next_cell": 1,
    "papermill": {
     "duration": 0.013531,
     "end_time": "2024-05-11T09:06:05.377080",
     "exception": false,
     "start_time": "2024-05-11T09:06:05.363549",
     "status": "completed"
    },
    "tags": []
   },
   "outputs": [
    {
     "data": {
      "text/plain": [
       "55"
      ]
     },
     "execution_count": 4,
     "metadata": {},
     "output_type": "execute_result"
    }
   ],
   "source": [
    "def fiboBetter2(n: int) -> int:\n",
    "    \"\"\"\n",
    "    Tabulation: Bottom up approach\n",
    "    Time: O(N), Space: O(N)\n",
    "    \"\"\"\n",
    "    dp: list[int] = [-1 if i > 1 else i for i in range(n + 1)]\n",
    "    for i in range(2, n + 1):\n",
    "        dp[i] = dp[i - 1] + dp[i - 2]\n",
    "\n",
    "    return dp[n]\n",
    "\n",
    "fiboBetter2(10)"
   ]
  },
  {
   "cell_type": "code",
   "execution_count": 5,
   "id": "8f7d86e2",
   "metadata": {
    "execution": {
     "iopub.execute_input": "2024-05-11T09:06:05.392946Z",
     "iopub.status.busy": "2024-05-11T09:06:05.392628Z",
     "iopub.status.idle": "2024-05-11T09:06:05.397196Z",
     "shell.execute_reply": "2024-05-11T09:06:05.396673Z"
    },
    "lines_to_next_cell": 1,
    "papermill": {
     "duration": 0.013679,
     "end_time": "2024-05-11T09:06:05.398294",
     "exception": false,
     "start_time": "2024-05-11T09:06:05.384615",
     "status": "completed"
    },
    "tags": []
   },
   "outputs": [
    {
     "data": {
      "text/plain": [
       "55"
      ]
     },
     "execution_count": 5,
     "metadata": {},
     "output_type": "execute_result"
    }
   ],
   "source": [
    "def fiboOptimal(n: int) -> int:\n",
    "    \"\"\"\n",
    "    Bottom up approach\n",
    "    Time: O(N), Space: O(1)\n",
    "    \"\"\"\n",
    "    prev2, prev1 = 0, 1\n",
    "    for i in range(2, n + 1):\n",
    "        prev2, prev1 = prev1, prev1 + prev2\n",
    "        n -= 1\n",
    "\n",
    "    return prev1\n",
    "\n",
    "fiboOptimal(10)"
   ]
  },
  {
   "cell_type": "markdown",
   "id": "855c35fb",
   "metadata": {
    "papermill": {
     "duration": 0.007413,
     "end_time": "2024-05-11T09:06:05.413225",
     "exception": false,
     "start_time": "2024-05-11T09:06:05.405812",
     "status": "completed"
    },
    "tags": []
   },
   "source": [
    "Climbing Stairs: https://leetcode.com/problems/climbing-stairs/\n",
    "Video Link: https://youtu.be/mLfjzJsN8us?si=C7W-jiYvql0mEnbh"
   ]
  },
  {
   "cell_type": "code",
   "execution_count": 6,
   "id": "87993489",
   "metadata": {
    "execution": {
     "iopub.execute_input": "2024-05-11T09:06:05.429071Z",
     "iopub.status.busy": "2024-05-11T09:06:05.428631Z",
     "iopub.status.idle": "2024-05-11T09:06:05.432724Z",
     "shell.execute_reply": "2024-05-11T09:06:05.432228Z"
    },
    "lines_to_next_cell": 1,
    "papermill": {
     "duration": 0.013244,
     "end_time": "2024-05-11T09:06:05.433862",
     "exception": false,
     "start_time": "2024-05-11T09:06:05.420618",
     "status": "completed"
    },
    "tags": []
   },
   "outputs": [],
   "source": [
    "def climbStairsBetter(n: int) -> int:\n",
    "    \"\"\"Time: O(N), Space: O(N)\"\"\"\n",
    "\n",
    "    dp: list[int] = [-1 for i in range(n + 1)]\n",
    "    def backtrack(curr: int) -> int:\n",
    "        if curr <= 1:\n",
    "            return 1\n",
    "        elif dp[curr] != -1:\n",
    "            return dp[curr]\n",
    "        else:\n",
    "            dp[curr] = backtrack(curr - 1) + backtrack(curr - 2)\n",
    "            return dp[curr]\n",
    "\n",
    "    return backtrack(n)\n",
    "\n",
    "assert climbStairsBetter(45) == 1836311903"
   ]
  },
  {
   "cell_type": "code",
   "execution_count": 7,
   "id": "2dc15ac3",
   "metadata": {
    "execution": {
     "iopub.execute_input": "2024-05-11T09:06:05.449686Z",
     "iopub.status.busy": "2024-05-11T09:06:05.449373Z",
     "iopub.status.idle": "2024-05-11T09:06:05.452412Z",
     "shell.execute_reply": "2024-05-11T09:06:05.452020Z"
    },
    "lines_to_next_cell": 1,
    "papermill": {
     "duration": 0.012035,
     "end_time": "2024-05-11T09:06:05.453423",
     "exception": false,
     "start_time": "2024-05-11T09:06:05.441388",
     "status": "completed"
    },
    "tags": []
   },
   "outputs": [],
   "source": [
    "def climbStairs(n: int) -> int:\n",
    "    \"\"\"Time: O(N), Space: O(1)\"\"\"\n",
    "    prev2, prev1 = 1, 1\n",
    "    while n > 0:\n",
    "        prev2, prev1 = prev1, prev1 + prev2\n",
    "        n -= 1\n",
    "\n",
    "    return prev2\n",
    "\n",
    "assert climbStairs(45) == 1836311903"
   ]
  },
  {
   "cell_type": "markdown",
   "id": "3cd4d88c",
   "metadata": {
    "papermill": {
     "duration": 0.007444,
     "end_time": "2024-05-11T09:06:05.468368",
     "exception": false,
     "start_time": "2024-05-11T09:06:05.460924",
     "status": "completed"
    },
    "tags": []
   },
   "source": [
    "Video link: https://youtu.be/EgG3jsGoPvQ?si=Cm5AVvq_zCnr-w6q\n",
    "Frog Jump: 1"
   ]
  },
  {
   "cell_type": "code",
   "execution_count": 8,
   "id": "59c27b1e",
   "metadata": {
    "execution": {
     "iopub.execute_input": "2024-05-11T09:06:05.484143Z",
     "iopub.status.busy": "2024-05-11T09:06:05.483942Z",
     "iopub.status.idle": "2024-05-11T09:06:05.488354Z",
     "shell.execute_reply": "2024-05-11T09:06:05.487950Z"
    },
    "lines_to_next_cell": 1,
    "papermill": {
     "duration": 0.013522,
     "end_time": "2024-05-11T09:06:05.489392",
     "exception": false,
     "start_time": "2024-05-11T09:06:05.475870",
     "status": "completed"
    },
    "tags": []
   },
   "outputs": [],
   "source": [
    "def frogJumpBetter(N: int, heights: list[int]) -> int:\n",
    "    \"\"\"\n",
    "    Time: O(N), Space: O(N) + O(N)\n",
    "    \"\"\"\n",
    "\n",
    "    @functools.cache\n",
    "    def backtrack(curr: int) -> int:\n",
    "        if curr == N - 1:\n",
    "            return 0\n",
    "        elif curr == N - 2:\n",
    "            return abs(heights[N - 1] - heights[N - 2])\n",
    "        else:\n",
    "            jump1 = abs(heights[curr] - heights[curr + 1]) + backtrack(curr + 1)\n",
    "            jump2 = abs(heights[curr] - heights[curr + 2]) + backtrack(curr + 2)\n",
    "            return min(jump1, jump2)\n",
    "\n",
    "    return backtrack(0)\n",
    "\n",
    "# Testing the solution\n",
    "assert frogJumpBetter(4, [10,20,30,10]) == 20\n",
    "assert frogJumpBetter(3, [10,50,10]) == 0"
   ]
  },
  {
   "cell_type": "code",
   "execution_count": 9,
   "id": "2bc52e04",
   "metadata": {
    "execution": {
     "iopub.execute_input": "2024-05-11T09:06:05.505559Z",
     "iopub.status.busy": "2024-05-11T09:06:05.505143Z",
     "iopub.status.idle": "2024-05-11T09:06:05.509136Z",
     "shell.execute_reply": "2024-05-11T09:06:05.508637Z"
    },
    "lines_to_next_cell": 1,
    "papermill": {
     "duration": 0.013069,
     "end_time": "2024-05-11T09:06:05.510110",
     "exception": false,
     "start_time": "2024-05-11T09:06:05.497041",
     "status": "completed"
    },
    "tags": []
   },
   "outputs": [],
   "source": [
    "def frogJumpOptimal(N: int, heights: list[int]) -> int:\n",
    "    \"Time: O(N), Space: O(1)\"\n",
    "    jump1, jump2 = abs(heights[-2] - heights[-1]), 0\n",
    "    for i in range(N - 3, -1, -1):\n",
    "        curr = min(abs(heights[i] - heights[i + 1]) + jump1, abs(heights[i] - heights[i + 2]) + jump2)\n",
    "        jump1, jump2 = curr, jump1\n",
    "\n",
    "    return jump1\n",
    "\n",
    "assert frogJumpOptimal(4, [10,20,30,10]) == 20\n",
    "assert frogJumpOptimal(3, [10,50,10]) == 0"
   ]
  },
  {
   "cell_type": "markdown",
   "id": "4fa38d19",
   "metadata": {
    "papermill": {
     "duration": 0.007338,
     "end_time": "2024-05-11T09:06:05.524952",
     "exception": false,
     "start_time": "2024-05-11T09:06:05.517614",
     "status": "completed"
    },
    "tags": []
   },
   "source": [
    "Video Link: https://youtu.be/Kmh3rhyEtB8?si=rqZ5-pJcjIzWU5i8\n",
    "Frog Jump with K distance"
   ]
  },
  {
   "cell_type": "code",
   "execution_count": 10,
   "id": "f21ca119",
   "metadata": {
    "execution": {
     "iopub.execute_input": "2024-05-11T09:06:05.540715Z",
     "iopub.status.busy": "2024-05-11T09:06:05.540359Z",
     "iopub.status.idle": "2024-05-11T09:06:05.544780Z",
     "shell.execute_reply": "2024-05-11T09:06:05.544278Z"
    },
    "lines_to_next_cell": 1,
    "papermill": {
     "duration": 0.013351,
     "end_time": "2024-05-11T09:06:05.545766",
     "exception": false,
     "start_time": "2024-05-11T09:06:05.532415",
     "status": "completed"
    },
    "tags": []
   },
   "outputs": [],
   "source": [
    "def frogJumpAtKDistBetter1(N: int, K: int, heights: list[int]) -> int:\n",
    "    \"\"\"\n",
    "    Memoization Approach: Top Down Approach\n",
    "    Time: O(N x K), Space: O(N) + O(N)\n",
    "    \"\"\"\n",
    "\n",
    "    @functools.cache\n",
    "    def backtrack(curr: int) -> int:\n",
    "        if curr >= N - 1:\n",
    "            return 0\n",
    "        else:\n",
    "            minCost = math.inf\n",
    "            for next_ in range(curr + 1, min(N, curr + K + 1)):\n",
    "                cost = abs(heights[curr] - heights[next_]) + backtrack(next_)\n",
    "                minCost = min(minCost, cost)\n",
    "\n",
    "            return int(minCost)\n",
    "\n",
    "    return backtrack(0)\n",
    "\n",
    "# Testing the solution\n",
    "assert frogJumpAtKDistBetter1(5, 3, [10,30,40,50,20]) == 30\n",
    "assert frogJumpAtKDistBetter1(3, 1, [10,20,10]) == 20"
   ]
  },
  {
   "cell_type": "code",
   "execution_count": 11,
   "id": "1b9a86c0",
   "metadata": {
    "execution": {
     "iopub.execute_input": "2024-05-11T09:06:05.561700Z",
     "iopub.status.busy": "2024-05-11T09:06:05.561372Z",
     "iopub.status.idle": "2024-05-11T09:06:05.565864Z",
     "shell.execute_reply": "2024-05-11T09:06:05.565380Z"
    },
    "lines_to_next_cell": 1,
    "papermill": {
     "duration": 0.013715,
     "end_time": "2024-05-11T09:06:05.566883",
     "exception": false,
     "start_time": "2024-05-11T09:06:05.553168",
     "status": "completed"
    },
    "tags": []
   },
   "outputs": [],
   "source": [
    "def frogJumpAtKDistBetter2(N: int, K: int, heights: list[int]) -> int:\n",
    "    \"\"\"\n",
    "    Tabulation: Bottom up approach\n",
    "    Time: O(N x K), Space: O(N)\n",
    "    \"\"\"\n",
    "\n",
    "    dp: list[int] = [-1 for i in range(N)]\n",
    "    dp[-1] = 0\n",
    "\n",
    "    for curr in range(N - 2, -1, -1):\n",
    "        minCost = math.inf\n",
    "        for next_ in range(curr + 1, min(N, curr + K + 1)):\n",
    "            cost = abs(heights[curr] - heights[next_]) + dp[next_]\n",
    "            minCost = min(minCost, cost)\n",
    "        dp[curr] = int(minCost)\n",
    "\n",
    "    return dp[0]\n",
    "\n",
    "# Testing the solution\n",
    "assert frogJumpAtKDistBetter2(5, 3, [10,30,40,50,20]) == 30\n",
    "assert frogJumpAtKDistBetter2(3, 1, [10,20,10]) == 20"
   ]
  },
  {
   "cell_type": "code",
   "execution_count": 12,
   "id": "09ca5d18",
   "metadata": {
    "execution": {
     "iopub.execute_input": "2024-05-11T09:06:05.582604Z",
     "iopub.status.busy": "2024-05-11T09:06:05.582249Z",
     "iopub.status.idle": "2024-05-11T09:06:05.586942Z",
     "shell.execute_reply": "2024-05-11T09:06:05.586446Z"
    },
    "lines_to_next_cell": 1,
    "papermill": {
     "duration": 0.013685,
     "end_time": "2024-05-11T09:06:05.587975",
     "exception": false,
     "start_time": "2024-05-11T09:06:05.574290",
     "status": "completed"
    },
    "tags": []
   },
   "outputs": [],
   "source": [
    "def frogJumpAtKDist(N: int, K: int, heights: list[int]) -> int:\n",
    "    \"\"\"\n",
    "    Tabulation: Bottom up approach\n",
    "    Time: O(N x K), Space: O(K)\n",
    "    \"\"\"\n",
    "\n",
    "    dp: collections.deque[int] = collections.deque([0])\n",
    "    for curr in range(N - 2, -1, -1):\n",
    "        minCost = math.inf\n",
    "        for jump in range(1, min(N - curr, K + 1)):\n",
    "            next_ = curr + jump\n",
    "            cost = abs(heights[curr] - heights[next_]) + dp[jump - 1]\n",
    "            minCost = min(minCost, cost)\n",
    "\n",
    "        dp.appendleft(int(minCost))\n",
    "        if len(dp) > K:\n",
    "            dp.pop()\n",
    "\n",
    "    return dp[0]\n",
    "\n",
    "# Testing the solution\n",
    "assert frogJumpAtKDist(5, 3, [10,30,40,50,20]) == 30\n",
    "assert frogJumpAtKDist(3, 1, [10,20,10]) == 20"
   ]
  },
  {
   "cell_type": "markdown",
   "id": "259d53f8",
   "metadata": {
    "papermill": {
     "duration": 0.007386,
     "end_time": "2024-05-11T09:06:05.602798",
     "exception": false,
     "start_time": "2024-05-11T09:06:05.595412",
     "status": "completed"
    },
    "tags": []
   },
   "source": [
    "Maximum sum of Non Adjacent Elements: House Robber\n",
    "Video Link: https://youtu.be/GrMBfJNk_NY?si=IPuGJglc0axETveU"
   ]
  },
  {
   "cell_type": "code",
   "execution_count": 13,
   "id": "89d8dea7",
   "metadata": {
    "execution": {
     "iopub.execute_input": "2024-05-11T09:06:05.618908Z",
     "iopub.status.busy": "2024-05-11T09:06:05.618470Z",
     "iopub.status.idle": "2024-05-11T09:06:05.622062Z",
     "shell.execute_reply": "2024-05-11T09:06:05.621644Z"
    },
    "lines_to_next_cell": 1,
    "papermill": {
     "duration": 0.012794,
     "end_time": "2024-05-11T09:06:05.623097",
     "exception": false,
     "start_time": "2024-05-11T09:06:05.610303",
     "status": "completed"
    },
    "tags": []
   },
   "outputs": [],
   "source": [
    "def robMemo(nums: list[int]) -> int:\n",
    "    \"\"\"\n",
    "    Memoization: Top down approach\n",
    "    Time: O(N), Space: O(N)\n",
    "    \"\"\"\n",
    "\n",
    "    @functools.cache\n",
    "    def backtrack(curr: int) -> int:\n",
    "        if curr >= N:\n",
    "            return 0\n",
    "        else:\n",
    "            return max(backtrack(curr + 1), nums[curr] + backtrack(curr + 2))\n",
    "\n",
    "    N = len(nums)\n",
    "    return backtrack(0)\n",
    "\n",
    "# Testing the solution\n",
    "assert robMemo([2,7,9,3,1]) == 12"
   ]
  },
  {
   "cell_type": "code",
   "execution_count": 14,
   "id": "e69063ac",
   "metadata": {
    "execution": {
     "iopub.execute_input": "2024-05-11T09:06:05.638961Z",
     "iopub.status.busy": "2024-05-11T09:06:05.638572Z",
     "iopub.status.idle": "2024-05-11T09:06:05.642452Z",
     "shell.execute_reply": "2024-05-11T09:06:05.641919Z"
    },
    "lines_to_next_cell": 1,
    "papermill": {
     "duration": 0.01288,
     "end_time": "2024-05-11T09:06:05.643490",
     "exception": false,
     "start_time": "2024-05-11T09:06:05.630610",
     "status": "completed"
    },
    "tags": []
   },
   "outputs": [],
   "source": [
    "def robTab(nums: list[int]) -> int:\n",
    "    \"\"\"\n",
    "    Tabulation: Bottom up approach\n",
    "    Time: O(N), Space: O(N)\n",
    "    \"\"\"\n",
    "    N = len(nums)\n",
    "    dp: list[int] = [-1 for i in range(N + 1)]\n",
    "    dp[-1], dp[-2] = 0, nums[-1]\n",
    "    for curr in range(N - 2, -1, -1):\n",
    "        dp[curr] = max(nums[curr] + dp[curr + 2], dp[curr + 1])\n",
    "\n",
    "    return dp[0]\n",
    "\n",
    "# Testing the solution\n",
    "assert robTab([2,7,9,3,1]) == 12"
   ]
  },
  {
   "cell_type": "code",
   "execution_count": 15,
   "id": "d3ac1b1c",
   "metadata": {
    "execution": {
     "iopub.execute_input": "2024-05-11T09:06:05.659406Z",
     "iopub.status.busy": "2024-05-11T09:06:05.659016Z",
     "iopub.status.idle": "2024-05-11T09:06:05.662390Z",
     "shell.execute_reply": "2024-05-11T09:06:05.661861Z"
    },
    "lines_to_next_cell": 1,
    "papermill": {
     "duration": 0.012339,
     "end_time": "2024-05-11T09:06:05.663364",
     "exception": false,
     "start_time": "2024-05-11T09:06:05.651025",
     "status": "completed"
    },
    "tags": []
   },
   "outputs": [],
   "source": [
    "# https://leetcode.com/problems/house-robber/submissions/1249841355/\n",
    "def robSpaceOptimized(nums: list[int]) -> int:\n",
    "    \"Time: O(N), Space: O(1)\"\n",
    "    next1 = next2 = 0\n",
    "    for curr in range(len(nums) - 1, -1, -1):\n",
    "        next1, next2 = max(nums[curr] + next2, next1), next1\n",
    "\n",
    "    return next1\n",
    "\n",
    "assert robSpaceOptimized([2,7,9,3,1]) == 12"
   ]
  },
  {
   "cell_type": "markdown",
   "id": "630eec21",
   "metadata": {
    "papermill": {
     "duration": 0.007399,
     "end_time": "2024-05-11T09:06:05.678238",
     "exception": false,
     "start_time": "2024-05-11T09:06:05.670839",
     "status": "completed"
    },
    "tags": []
   },
   "source": [
    "House Robber 2: https://youtu.be/3WaxQMELSkw?si=i9oGKnDJGJxvUjbu\n",
    "https://leetcode.com/problems/house-robber-ii/submissions/1249888930"
   ]
  },
  {
   "cell_type": "code",
   "execution_count": 16,
   "id": "3ee7a5cf",
   "metadata": {
    "execution": {
     "iopub.execute_input": "2024-05-11T09:06:05.694019Z",
     "iopub.status.busy": "2024-05-11T09:06:05.693678Z",
     "iopub.status.idle": "2024-05-11T09:06:05.697797Z",
     "shell.execute_reply": "2024-05-11T09:06:05.697300Z"
    },
    "lines_to_next_cell": 1,
    "papermill": {
     "duration": 0.013182,
     "end_time": "2024-05-11T09:06:05.698822",
     "exception": false,
     "start_time": "2024-05-11T09:06:05.685640",
     "status": "completed"
    },
    "tags": []
   },
   "outputs": [],
   "source": [
    "def rob2(nums: list[int]) -> int:\n",
    "    \"\"\"\n",
    "    Ans cannot contain both the first and the last house.\n",
    "    It can contain either the first or the last house.\n",
    "    \"\"\"\n",
    "    def rob(arr: list[int]) -> int:\n",
    "        next1 = next2 = 0\n",
    "        for curr in range(len(arr) - 1, -1, -1):\n",
    "            next1, next2 = max(arr[curr] + next2, next1), next1\n",
    "\n",
    "        return next1\n",
    "\n",
    "    return max(rob(nums[1:]), rob(nums[:-1])) if len(nums) > 1 else sum(nums)\n",
    "\n",
    "# Testing the solution\n",
    "assert rob2([1,2,3,1]) == 4\n",
    "assert rob2([]) == 0"
   ]
  },
  {
   "cell_type": "markdown",
   "id": "52745498",
   "metadata": {
    "papermill": {
     "duration": 0.007305,
     "end_time": "2024-05-11T09:06:05.713536",
     "exception": false,
     "start_time": "2024-05-11T09:06:05.706231",
     "status": "completed"
    },
    "tags": []
   },
   "source": [
    "Ninja's Training: https://youtu.be/AE39gJYuRog?si=n4BhCotno-9chP5j"
   ]
  },
  {
   "cell_type": "code",
   "execution_count": 17,
   "id": "c814dc79",
   "metadata": {
    "execution": {
     "iopub.execute_input": "2024-05-11T09:06:05.729450Z",
     "iopub.status.busy": "2024-05-11T09:06:05.729140Z",
     "iopub.status.idle": "2024-05-11T09:06:05.734256Z",
     "shell.execute_reply": "2024-05-11T09:06:05.733721Z"
    },
    "lines_to_next_cell": 1,
    "papermill": {
     "duration": 0.014141,
     "end_time": "2024-05-11T09:06:05.735234",
     "exception": false,
     "start_time": "2024-05-11T09:06:05.721093",
     "status": "completed"
    },
    "tags": []
   },
   "outputs": [],
   "source": [
    "def ninjaTrainingBetter(N: int, points: list[list[int]]) -> int:\n",
    "    \"\"\"\n",
    "    Memoization: Top down approach\n",
    "\n",
    "    Time: O(N), Space: O(N) + O(N)\n",
    "    \"\"\"\n",
    "\n",
    "    @functools.cache\n",
    "    def backtrack(i: int, j: int) -> int:\n",
    "        if i == N:\n",
    "            return 0\n",
    "        else:\n",
    "            max_ = -math.inf\n",
    "            for k in range(3):\n",
    "                if k != j:\n",
    "                    max_ = max(max_, points[i][k] + backtrack(i + 1, k))\n",
    "\n",
    "            return int(max_)\n",
    "\n",
    "    return backtrack(0, -1)\n",
    "\n",
    "# Testing the solution\n",
    "assert ninjaTrainingBetter(3, [[10,40,70], [20,50,80], [30,60,90]]) == 210\n",
    "assert ninjaTrainingBetter(3, [[1,2,5], [3,1,1], [3,3,3]]) == 11\n",
    "assert ninjaTrainingBetter(2, [[10,50,1], [5,100,11]]) == 110"
   ]
  },
  {
   "cell_type": "code",
   "execution_count": 18,
   "id": "015e9458",
   "metadata": {
    "execution": {
     "iopub.execute_input": "2024-05-11T09:06:05.751005Z",
     "iopub.status.busy": "2024-05-11T09:06:05.750634Z",
     "iopub.status.idle": "2024-05-11T09:06:05.755936Z",
     "shell.execute_reply": "2024-05-11T09:06:05.755405Z"
    },
    "lines_to_next_cell": 1,
    "papermill": {
     "duration": 0.014285,
     "end_time": "2024-05-11T09:06:05.756938",
     "exception": false,
     "start_time": "2024-05-11T09:06:05.742653",
     "status": "completed"
    },
    "tags": []
   },
   "outputs": [],
   "source": [
    "def ninjaTraining(N: int, points: list[list[int]]) -> int:\n",
    "    \"\"\"\n",
    "    Space optimized Tabulation DP: Bottom up\n",
    "\n",
    "    Start at the last day.\n",
    "    At each day we sum up corresponding values with the values in DP and assign them to DP.\n",
    "    Before moving the prev day, to the DP perform this op -> dp[i] = max(dp[j]) where j != i\n",
    "\n",
    "    At the end of the iteration simply return max of DP.\n",
    "\n",
    "    Time: O(N), Space: O(1)\n",
    "    \"\"\"\n",
    "\n",
    "    dp: list[int] = [0, 0, 0]\n",
    "    for i in range(N - 1, -1, -1):\n",
    "        for j in range(3):\n",
    "            dp[j] += points[i][j]\n",
    "\n",
    "        next_dp: list[int] = []\n",
    "        for j in range(3):\n",
    "            next_dp.append(max(dp[k] for k in range(3) if k != j))\n",
    "\n",
    "        dp = next_dp\n",
    "\n",
    "    return max(dp)\n",
    "\n",
    "# Testing the solution\n",
    "assert ninjaTraining(3, [[10,40,70], [20,50,80], [30,60,90]]) == 210\n",
    "assert ninjaTraining(3, [[1,2,5], [3,1,1], [3,3,3]]) == 11\n",
    "assert ninjaTraining(2, [[10,50,1], [5,100,11]]) == 110"
   ]
  },
  {
   "cell_type": "markdown",
   "id": "d132fa58",
   "metadata": {
    "papermill": {
     "duration": 0.007425,
     "end_time": "2024-05-11T09:06:05.771817",
     "exception": false,
     "start_time": "2024-05-11T09:06:05.764392",
     "status": "completed"
    },
    "tags": []
   },
   "source": [
    "Unique 2D paths: https://youtu.be/sdE0A2Oxofw?si=g1FpuSIYx0x95G-7\n",
    "https://leetcode.com/problems/unique-paths/"
   ]
  },
  {
   "cell_type": "code",
   "execution_count": 19,
   "id": "d035c9d7",
   "metadata": {
    "execution": {
     "iopub.execute_input": "2024-05-11T09:06:05.787621Z",
     "iopub.status.busy": "2024-05-11T09:06:05.787246Z",
     "iopub.status.idle": "2024-05-11T09:06:05.791197Z",
     "shell.execute_reply": "2024-05-11T09:06:05.790690Z"
    },
    "lines_to_next_cell": 1,
    "papermill": {
     "duration": 0.012932,
     "end_time": "2024-05-11T09:06:05.792166",
     "exception": false,
     "start_time": "2024-05-11T09:06:05.779234",
     "status": "completed"
    },
    "tags": []
   },
   "outputs": [],
   "source": [
    "def uniquePathsMemo(m: int, n: int) -> int:\n",
    "    \"\"\"\n",
    "    Memoization Solution: Top Down\n",
    "    Time: O(m x n), Space: O(m x n) + O(m x n)\n",
    "    \"\"\"\n",
    "    @functools.cache\n",
    "    def backtrack(i: int, j: int) -> int:\n",
    "        if i == m - 1 and j == n - 1:\n",
    "            return 1\n",
    "        elif i >= m or j >= n:\n",
    "            return 0\n",
    "        else:\n",
    "            return backtrack(i + 1, j) + backtrack(i, j + 1)\n",
    "\n",
    "    return backtrack(0, 0)\n",
    "\n",
    "# Testing the solution\n",
    "assert uniquePathsMemo(3, 7) == 28\n",
    "assert uniquePathsMemo(3, 2) == 3"
   ]
  },
  {
   "cell_type": "code",
   "execution_count": 20,
   "id": "c3fb756d",
   "metadata": {
    "execution": {
     "iopub.execute_input": "2024-05-11T09:06:05.808029Z",
     "iopub.status.busy": "2024-05-11T09:06:05.807774Z",
     "iopub.status.idle": "2024-05-11T09:06:05.811671Z",
     "shell.execute_reply": "2024-05-11T09:06:05.811237Z"
    },
    "lines_to_next_cell": 1,
    "papermill": {
     "duration": 0.012966,
     "end_time": "2024-05-11T09:06:05.812653",
     "exception": false,
     "start_time": "2024-05-11T09:06:05.799687",
     "status": "completed"
    },
    "tags": []
   },
   "outputs": [],
   "source": [
    "# https://leetcode.com/problems/unique-paths/submissions/1250526713\n",
    "def uniquePathsTab(m: int, n: int) -> int:\n",
    "    \"Time: O(m x n), Space: O(min(m, n))\"\n",
    "    M, N = min(m, n), max(m, n)\n",
    "    dp: list[int] = [1 for i in range(M)]\n",
    "\n",
    "    for i in range(N - 1):\n",
    "        for j in range(M - 2, -1, -1):\n",
    "            dp[j] += dp[j + 1]\n",
    "\n",
    "    return dp[0]\n",
    "\n",
    "# Testing the solution\n",
    "assert uniquePathsTab(3, 7) == 28\n",
    "assert uniquePathsTab(3, 2) == 3"
   ]
  },
  {
   "cell_type": "markdown",
   "id": "bb22f54a",
   "metadata": {
    "papermill": {
     "duration": 0.007479,
     "end_time": "2024-05-11T09:06:05.827609",
     "exception": false,
     "start_time": "2024-05-11T09:06:05.820130",
     "status": "completed"
    },
    "tags": []
   },
   "source": [
    "Video link: https://youtu.be/TmhpgXScLyY?si=M_FfFKRqRTXid4Jj\n",
    "Unique Paths - ii: https://leetcode.com/problems/unique-paths-ii/submissions/1250615914"
   ]
  },
  {
   "cell_type": "code",
   "execution_count": 21,
   "id": "f59a530c",
   "metadata": {
    "execution": {
     "iopub.execute_input": "2024-05-11T09:06:05.858730Z",
     "iopub.status.busy": "2024-05-11T09:06:05.858261Z",
     "iopub.status.idle": "2024-05-11T09:06:05.863146Z",
     "shell.execute_reply": "2024-05-11T09:06:05.862713Z"
    },
    "lines_to_next_cell": 1,
    "papermill": {
     "duration": 0.028995,
     "end_time": "2024-05-11T09:06:05.864213",
     "exception": false,
     "start_time": "2024-05-11T09:06:05.835218",
     "status": "completed"
    },
    "tags": []
   },
   "outputs": [],
   "source": [
    "def uniquePathsWithObstacles(obstacleGrid: list[list[int]]) -> int:\n",
    "    \"Time: O(M x N), Space: O(N)\"\n",
    "    M, N = len(obstacleGrid), len(obstacleGrid[0])\n",
    "\n",
    "    dp: list[int] = [0 for j in range(N)]\n",
    "    dp[-1] = 1\n",
    "\n",
    "    for i in range(M - 1, -1, -1):\n",
    "        for j in range(N - 1, -1, -1):\n",
    "            if obstacleGrid[i][j] == 0:\n",
    "                dp[j] = dp[j] + dp[j + 1] if j < N - 1 else dp[j]\n",
    "            else:\n",
    "                dp[j] = 0\n",
    "\n",
    "    return dp[0]\n",
    "\n",
    "# Testing the solution\n",
    "assert uniquePathsWithObstacles([[0,0,0],[0,1,0],[0,0,0]]) == 2\n",
    "assert uniquePathsWithObstacles([[0,1],[0,0]]) == 1\n",
    "assert uniquePathsWithObstacles([[1]]) == 0"
   ]
  },
  {
   "cell_type": "markdown",
   "id": "93e28e9b",
   "metadata": {
    "papermill": {
     "duration": 0.007524,
     "end_time": "2024-05-11T09:06:05.879354",
     "exception": false,
     "start_time": "2024-05-11T09:06:05.871830",
     "status": "completed"
    },
    "tags": []
   },
   "source": [
    "Minimum Path Sum: https://youtu.be/_rgTlyky1uQ?si=3xJY7MmVg5tTEW5Q\n",
    "https://leetcode.com/problems/minimum-path-sum/submissions/1250633614"
   ]
  },
  {
   "cell_type": "code",
   "execution_count": 22,
   "id": "c97f7ce9",
   "metadata": {
    "execution": {
     "iopub.execute_input": "2024-05-11T09:06:05.895447Z",
     "iopub.status.busy": "2024-05-11T09:06:05.895051Z",
     "iopub.status.idle": "2024-05-11T09:06:05.899798Z",
     "shell.execute_reply": "2024-05-11T09:06:05.899295Z"
    },
    "lines_to_next_cell": 1,
    "papermill": {
     "duration": 0.013979,
     "end_time": "2024-05-11T09:06:05.900865",
     "exception": false,
     "start_time": "2024-05-11T09:06:05.886886",
     "status": "completed"
    },
    "tags": []
   },
   "outputs": [],
   "source": [
    "def minPathSum(grid: list[list[int]]) -> int:\n",
    "    \"Time: O(M x N), Space: O(N)\"\n",
    "    M, N = len(grid), len(grid[0])\n",
    "\n",
    "    # Initialize DP\n",
    "    dp: list[float] = [math.inf for j in range(N)]\n",
    "    dp[-1] = 0\n",
    "\n",
    "    # DP Solution\n",
    "    for i in range(M - 1, -1, -1):\n",
    "        for j in range(N - 1, -1, -1):\n",
    "            dp[j] = grid[i][j] + (min(dp[j + 1], dp[j]) if j < N - 1 else dp[j])\n",
    "\n",
    "    return int(dp[0])\n",
    "\n",
    "# Testing the solution\n",
    "assert minPathSum([[1,3,1],[1,5,1],[4,2,1]]) == 7\n",
    "assert minPathSum([[1,2,3],[4,5,6]]) == 12"
   ]
  },
  {
   "cell_type": "markdown",
   "id": "107526ff",
   "metadata": {
    "papermill": {
     "duration": 0.007455,
     "end_time": "2024-05-11T09:06:05.915845",
     "exception": false,
     "start_time": "2024-05-11T09:06:05.908390",
     "status": "completed"
    },
    "tags": []
   },
   "source": [
    "Video Link: https://youtu.be/0bHoB32fuj0?si=5UHeArKmLvTVpbrk\n",
    "Triangle: https://leetcode.com/problems/triangle/submissions/1251774955/"
   ]
  },
  {
   "cell_type": "code",
   "execution_count": 23,
   "id": "62387041",
   "metadata": {
    "execution": {
     "iopub.execute_input": "2024-05-11T09:06:05.931702Z",
     "iopub.status.busy": "2024-05-11T09:06:05.931540Z",
     "iopub.status.idle": "2024-05-11T09:06:05.935911Z",
     "shell.execute_reply": "2024-05-11T09:06:05.935474Z"
    },
    "lines_to_next_cell": 1,
    "papermill": {
     "duration": 0.013503,
     "end_time": "2024-05-11T09:06:05.936910",
     "exception": false,
     "start_time": "2024-05-11T09:06:05.923407",
     "status": "completed"
    },
    "tags": []
   },
   "outputs": [],
   "source": [
    "def minimumTotal(triangle: list[list[int]]) -> int:\n",
    "    \"\"\"Time: O(N x N), Space: O(N)\"\"\"\n",
    "    N = len(triangle)\n",
    "    dp: list[int] = [0 for i in range(N + 1)]\n",
    "\n",
    "    while N > 0:\n",
    "        next_: list[int] = []\n",
    "        for i in range(N):\n",
    "            next_.append(min(dp[i], dp[i + 1]) + triangle[N - 1][i])\n",
    "        dp = next_\n",
    "        N -= 1\n",
    "\n",
    "    return dp[0]\n",
    "\n",
    "# Testing the solution\n",
    "assert minimumTotal([[2],[3,4],[6,5,7],[4,1,8,3]]) == 11\n",
    "assert minimumTotal([[-10]]) == -10"
   ]
  },
  {
   "cell_type": "markdown",
   "id": "51332104",
   "metadata": {
    "papermill": {
     "duration": 0.007515,
     "end_time": "2024-05-11T09:06:05.952009",
     "exception": false,
     "start_time": "2024-05-11T09:06:05.944494",
     "status": "completed"
    },
    "tags": []
   },
   "source": [
    "Video Link: https://youtu.be/N_aJ5qQbYA0?si=LTME1YI3hqtU8u8_\n",
    "Maximum Falling path sum\n",
    "We cannot apply greedy algorithms here because there is no uniformity mentioned. Uniformity implies how the numbers are distributed.\n",
    "For eg:\n",
    "```\n",
    "1   2  3    4\n",
    "10  1  100  1\n",
    "1   2  5    0\n",
    "```\n",
    "In the above example from (0, 0), if we greedily chose (1, 0) - we would miss out on 100 at (1, 2). \n",
    "If suppose we were told that the numbers were arranged in ascending or descending order we can greedily pick a path"
   ]
  },
  {
   "cell_type": "code",
   "execution_count": 24,
   "id": "4f9fb3eb",
   "metadata": {
    "execution": {
     "iopub.execute_input": "2024-05-11T09:06:05.967902Z",
     "iopub.status.busy": "2024-05-11T09:06:05.967743Z",
     "iopub.status.idle": "2024-05-11T09:06:05.972852Z",
     "shell.execute_reply": "2024-05-11T09:06:05.972422Z"
    },
    "lines_to_next_cell": 1,
    "papermill": {
     "duration": 0.014237,
     "end_time": "2024-05-11T09:06:05.973897",
     "exception": false,
     "start_time": "2024-05-11T09:06:05.959660",
     "status": "completed"
    },
    "tags": []
   },
   "outputs": [],
   "source": [
    "def getMaxPathSumBetter(matrix: list[list[int]]):\n",
    "    \"\"\"\n",
    "    With memoization:\n",
    "    Time complexity: O(3 ^ N)\n",
    "\n",
    "    Memoization Approach: Top Down\n",
    "    Time: O(N x M), Space: O(N x M) + O(N x M)\n",
    "    \"\"\"\n",
    "    M, N = len(matrix), len(matrix[0])\n",
    "\n",
    "    @functools.cache\n",
    "    def backtrack(i: int = 0, j: int = 0) -> float:\n",
    "        if i >= M:\n",
    "            return 0\n",
    "        elif j < 0 or j >= N:\n",
    "            return -math.inf\n",
    "        else:\n",
    "            return matrix[i][j] + max(backtrack(i + 1, j - 1), backtrack(i + 1, j), backtrack(i + 1, j + 1))\n",
    "\n",
    "    maxPathSum = -math.inf\n",
    "    for j in range(N):\n",
    "        maxPathSum = max(maxPathSum, backtrack(0, j))\n",
    "\n",
    "    return int(maxPathSum)\n",
    "\n",
    "# Testing the solution\n",
    "assert getMaxPathSumBetter([[1,2,10,4],[100,3,2,1],[1,1,20,2],[1,2,2,1]]) == 105\n",
    "assert getMaxPathSumBetter([[10,2,3],[3,7,2],[8,1,5]]) == 25"
   ]
  },
  {
   "cell_type": "code",
   "execution_count": 25,
   "id": "b3cf95be",
   "metadata": {
    "execution": {
     "iopub.execute_input": "2024-05-11T09:06:05.989904Z",
     "iopub.status.busy": "2024-05-11T09:06:05.989492Z",
     "iopub.status.idle": "2024-05-11T09:06:05.994690Z",
     "shell.execute_reply": "2024-05-11T09:06:05.994266Z"
    },
    "lines_to_next_cell": 1,
    "papermill": {
     "duration": 0.014279,
     "end_time": "2024-05-11T09:06:05.995730",
     "exception": false,
     "start_time": "2024-05-11T09:06:05.981451",
     "status": "completed"
    },
    "tags": []
   },
   "outputs": [],
   "source": [
    "def getMaxPathSum(matrix: list[list[int]]):\n",
    "    \"\"\"\n",
    "    Space optimized DP: Bottom up\n",
    "    Time: O(M x N), Space: O(N)\n",
    "    \"\"\"\n",
    "    M, N = len(matrix), len(matrix[0])\n",
    "\n",
    "    dp: list[float] = [0 for i in range(N)]\n",
    "    i = M - 1\n",
    "    while i >= 0:\n",
    "        next_: list[float] = []\n",
    "        for j in range(N):\n",
    "            next_.append(matrix[i][j] + max(dp[j - 1] if j - 1 >= 0 else -math.inf, dp[j], dp[j + 1] if j + 1 < N else -math.inf))\n",
    "\n",
    "        dp = next_\n",
    "        i -= 1\n",
    "\n",
    "    return max(dp)\n",
    "\n",
    "# Testing the solution\n",
    "assert getMaxPathSum([[1,2,10,4],[100,3,2,1],[1,1,20,2],[1,2,2,1]]) == 105\n",
    "assert getMaxPathSum([[10,2,3],[3,7,2],[8,1,5]]) == 25"
   ]
  },
  {
   "cell_type": "markdown",
   "id": "703cdb9d",
   "metadata": {
    "papermill": {
     "duration": 0.007528,
     "end_time": "2024-05-11T09:06:06.010789",
     "exception": false,
     "start_time": "2024-05-11T09:06:06.003261",
     "status": "completed"
    },
    "tags": []
   },
   "source": [
    "Cherry Pickup: 2: https://leetcode.com/problems/cherry-pickup-ii/\n",
    "Video Link: https://youtu.be/QGfn7JeXK54?si=2K0Lz9iKN_IxLUDN"
   ]
  },
  {
   "cell_type": "code",
   "execution_count": 26,
   "id": "d82f0e5d",
   "metadata": {
    "execution": {
     "iopub.execute_input": "2024-05-11T09:06:06.026964Z",
     "iopub.status.busy": "2024-05-11T09:06:06.026543Z",
     "iopub.status.idle": "2024-05-11T09:06:06.033120Z",
     "shell.execute_reply": "2024-05-11T09:06:06.032629Z"
    },
    "lines_to_next_cell": 1,
    "papermill": {
     "duration": 0.015892,
     "end_time": "2024-05-11T09:06:06.034252",
     "exception": false,
     "start_time": "2024-05-11T09:06:06.018360",
     "status": "completed"
    },
    "tags": []
   },
   "outputs": [],
   "source": [
    "def cherryPickupMemo(grid: list[list[int]]) -> int:\n",
    "    \"\"\"\n",
    "    Without memoization, time complexity: O(3 ^ M * 3 ^ M)\n",
    "\n",
    "    Space complexity is definitely improved with using @functools.cache, using list here to illustrate.\n",
    "    Time: O (M x N x N), Space: O (M x N x N)\n",
    "\n",
    "    To figure out the dp size, simply check how many parameters are chaning. Here we have an i, j1, j2 and hence dp is a 3D Matrix.\n",
    "    \"\"\"\n",
    "    M, N = len(grid), len(grid[0])\n",
    "    dp: list[list[list[float]]] = [[[-1 for k in range(N)] for j in range(N)] for i in range(M)]\n",
    "\n",
    "    def backtrack(i: int, j1: int, j2: int) -> float:\n",
    "        if j1 < 0 or j2 < 0 or j1 >= N or j2 >= N or j1 == j2:\n",
    "            return -math.inf\n",
    "        elif i > M - 1:\n",
    "            return 0\n",
    "        elif dp[i][j1][j2] != -1:\n",
    "            return dp[i][j1][j2]\n",
    "        else:\n",
    "            next_picked = -math.inf\n",
    "            for j1_offset in range(-1, 2):\n",
    "                for j2_offset in range(-1, 2):\n",
    "                    next_picked = max(next_picked, backtrack(i + 1, j1 + j1_offset, j2 + j2_offset))\n",
    "\n",
    "            dp[i][j1][j2] = grid[i][j1] + grid[i][j2] + next_picked\n",
    "            return dp[i][j1][j2]\n",
    "\n",
    "    result = int(backtrack(0, 0, N - 1))\n",
    "    return result\n",
    "\n",
    "# Testing the solution\n",
    "assert cherryPickupMemo([[1,0,0,0,0,0,1],[2,0,0,0,0,3,0],[2,0,9,0,0,0,0],[0,3,0,5,4,0,0],[1,0,2,3,0,0,6]]) == 28"
   ]
  },
  {
   "cell_type": "code",
   "execution_count": 27,
   "id": "85c88b05",
   "metadata": {
    "execution": {
     "iopub.execute_input": "2024-05-11T09:06:06.050220Z",
     "iopub.status.busy": "2024-05-11T09:06:06.049771Z",
     "iopub.status.idle": "2024-05-11T09:06:06.056966Z",
     "shell.execute_reply": "2024-05-11T09:06:06.056537Z"
    },
    "lines_to_next_cell": 1,
    "papermill": {
     "duration": 0.016235,
     "end_time": "2024-05-11T09:06:06.058000",
     "exception": false,
     "start_time": "2024-05-11T09:06:06.041765",
     "status": "completed"
    },
    "tags": []
   },
   "outputs": [],
   "source": [
    "def cherryPickupTab(grid: list[list[int]]) -> int:\n",
    "    \"\"\"\n",
    "    Simply start with the base case. Move bottom up.\n",
    "    \"\"\"\n",
    "    M, N = len(grid), len(grid[0])\n",
    "\n",
    "    # Initialize DP with the base case\n",
    "    dp: list[list[list[float]]] = [[[0 for k in range(N)] for j in range(N)] for i in range(M)]\n",
    "    for j1 in range(N):\n",
    "        for j2 in range(N):\n",
    "            dp[-1][j1][j2] = grid[-1][j1] + grid[-1][j2] if j1 != j2 else grid[-1][j1]\n",
    "\n",
    "    # i, j1, j2: (0 - M), (0 - N), (0 - N)\n",
    "    for i in range(M - 2, -1, -1):\n",
    "        for j1 in range(N):\n",
    "            for j2 in range(N):\n",
    "                max_: float = -math.inf\n",
    "                curr = grid[i][j1] + grid[i][j2] if j1 != j2 else grid[i][j1]\n",
    "                for j1_offset in range(-1, 2):\n",
    "                    for j2_offset in range(-1, 2):\n",
    "                        if 0 <= j1 + j1_offset < N and 0 <= j2 + j2_offset < N:\n",
    "                            max_ = max(max_, dp[i + 1][j1 + j1_offset][j2 + j2_offset])\n",
    "\n",
    "                dp[i][j1][j2] = max(-1, max_ + curr)\n",
    "\n",
    "    return int(dp[0][0][-1])\n",
    "\n",
    "# Testing the solution\n",
    "assert cherryPickupTab([[1,0,0,0,0,0,1],[2,0,0,0,0,3,0],[2,0,9,0,0,0,0],[0,3,0,5,4,0,0],[1,0,2,3,0,0,6]]) == 28"
   ]
  },
  {
   "cell_type": "code",
   "execution_count": 28,
   "id": "e2fdb650",
   "metadata": {
    "execution": {
     "iopub.execute_input": "2024-05-11T09:06:06.074282Z",
     "iopub.status.busy": "2024-05-11T09:06:06.073814Z",
     "iopub.status.idle": "2024-05-11T09:06:06.080408Z",
     "shell.execute_reply": "2024-05-11T09:06:06.079969Z"
    },
    "lines_to_next_cell": 1,
    "papermill": {
     "duration": 0.015753,
     "end_time": "2024-05-11T09:06:06.081413",
     "exception": false,
     "start_time": "2024-05-11T09:06:06.065660",
     "status": "completed"
    },
    "tags": []
   },
   "outputs": [],
   "source": [
    "def cherryPickupSpaceOptimized(grid: list[list[int]]) -> int:\n",
    "    M, N = len(grid), len(grid[0])\n",
    "    dp: list[list[float]] = [[grid[-1][j1] + grid[-1][j2] if j1 != j2 else grid[-1][j1] for j1 in range(N)] for j2 in range(N)]\n",
    "\n",
    "    for i in range(M - 2, -1, -1):\n",
    "        dp_next: list[list[float]] = []\n",
    "        for j1 in range(N):\n",
    "            dp_next.append([])\n",
    "            for j2 in range(N):\n",
    "                max_: float = -math.inf\n",
    "                curr = grid[i][j1] + grid[i][j2] if j1 != j2 else grid[i][j1]\n",
    "                for j1_offset in range(-1, 2):\n",
    "                    for j2_offset in range(-1, 2):\n",
    "                        if 0 <= j1 + j1_offset < N and 0 <= j2 + j2_offset < N:\n",
    "                            max_ = max(max_, dp[j1 + j1_offset][j2 + j2_offset])\n",
    "\n",
    "                dp_next[j1].append(curr + max_)\n",
    "        dp = dp_next\n",
    "\n",
    "    return int(dp[0][-1])\n",
    "\n",
    "# Testing the solution\n",
    "assert cherryPickupSpaceOptimized([[1,0,0,0,0,0,1],[2,0,0,0,0,3,0],[2,0,9,0,0,0,0],[0,3,0,5,4,0,0],[1,0,2,3,0,0,6]]) == 28"
   ]
  },
  {
   "cell_type": "markdown",
   "id": "17816765",
   "metadata": {
    "papermill": {
     "duration": 0.00743,
     "end_time": "2024-05-11T09:06:06.096349",
     "exception": false,
     "start_time": "2024-05-11T09:06:06.088919",
     "status": "completed"
    },
    "tags": []
   },
   "source": [
    "Subset sum equals target\n",
    "Video Link: https://youtu.be/fWX9xDmIzRI?si=jb2Tgvw_E0Tyk1Pj"
   ]
  },
  {
   "cell_type": "code",
   "execution_count": 29,
   "id": "4f37d7b7",
   "metadata": {
    "execution": {
     "iopub.execute_input": "2024-05-11T09:06:06.112130Z",
     "iopub.status.busy": "2024-05-11T09:06:06.111771Z",
     "iopub.status.idle": "2024-05-11T09:06:06.116991Z",
     "shell.execute_reply": "2024-05-11T09:06:06.116560Z"
    },
    "lines_to_next_cell": 1,
    "papermill": {
     "duration": 0.014169,
     "end_time": "2024-05-11T09:06:06.118008",
     "exception": false,
     "start_time": "2024-05-11T09:06:06.103839",
     "status": "completed"
    },
    "tags": []
   },
   "outputs": [],
   "source": [
    "def isSubsetSumMemo(N: int, arr: list[int], target: int) -> int:\n",
    "    \"\"\"\n",
    "    For cases where subset exists, the recursion would stop early. For the negative cases, we would get overlapping subproblems and\n",
    "    hence memoization would help decrease the time complexity.\n",
    "\n",
    "    Time without memoization: O(2 ^ N), Space: O(N)\n",
    "    With memoization: O(N x target), Space: O(N x target) + O(N)\n",
    "    \"\"\"\n",
    "\n",
    "    dp: list[list[int]] = [[-1 for j in range(target + 1)] for i in range(N)]\n",
    "    def backtrack(i: int, total: int) -> bool:\n",
    "        if total == 0:\n",
    "            return True\n",
    "        elif total < 0 or i > N - 1:\n",
    "            return False\n",
    "        elif dp[i][total] != -1:\n",
    "            return bool(dp[i][total])\n",
    "        else:\n",
    "            result = backtrack(i + 1, total - arr[i]) or backtrack(i + 1, total)\n",
    "            dp[i][total] = int(result)\n",
    "            return result\n",
    "\n",
    "    return backtrack(0, target)\n",
    "\n",
    "# Testing the solution\n",
    "assert isSubsetSumMemo(6, [3, 34, 4, 12, 5, 2], 9) == True\n",
    "assert isSubsetSumMemo(6, [3, 34, 4, 12, 5, 2], 30) == False"
   ]
  },
  {
   "cell_type": "code",
   "execution_count": 30,
   "id": "5551c36b",
   "metadata": {
    "execution": {
     "iopub.execute_input": "2024-05-11T09:06:06.133951Z",
     "iopub.status.busy": "2024-05-11T09:06:06.133616Z",
     "iopub.status.idle": "2024-05-11T09:06:06.139094Z",
     "shell.execute_reply": "2024-05-11T09:06:06.138624Z"
    },
    "lines_to_next_cell": 1,
    "papermill": {
     "duration": 0.014603,
     "end_time": "2024-05-11T09:06:06.140169",
     "exception": false,
     "start_time": "2024-05-11T09:06:06.125566",
     "status": "completed"
    },
    "tags": []
   },
   "outputs": [
    {
     "name": "stdout",
     "output_type": "stream",
     "text": [
      "[[1, 0, 1, 1, 1, 1, 1, 1, 1, 1], [1, 0, 1, 0, 1, 1, 1, 1, 0, 1], [1, 0, 1, 0, 1, 1, 1, 1, 0, 1], [1, 0, 1, 0, 0, 1, 0, 1, 0, 0], [1, 0, 1, 0, 0, 1, 0, 1, 0, 0], [1, 0, 1, 0, 0, 0, 0, 0, 0, 0], [1, 0, 0, 0, 0, 0, 0, 0, 0, 0]]\n",
      "[[1, 0, 1, 1, 1, 1, 1, 1, 1, 1, 1, 1, 1, 0, 1, 1, 1, 1, 1, 1, 1, 1, 1, 1, 1, 0, 1, 0, 0, 0, 0], [1, 0, 1, 0, 1, 1, 1, 1, 0, 1, 0, 1, 1, 0, 1, 0, 1, 1, 1, 1, 0, 1, 0, 1, 0, 0, 0, 0, 0, 0, 0], [1, 0, 1, 0, 1, 1, 1, 1, 0, 1, 0, 1, 1, 0, 1, 0, 1, 1, 1, 1, 0, 1, 0, 1, 0, 0, 0, 0, 0, 0, 0], [1, 0, 1, 0, 0, 1, 0, 1, 0, 0, 0, 0, 1, 0, 1, 0, 0, 1, 0, 1, 0, 0, 0, 0, 0, 0, 0, 0, 0, 0, 0], [1, 0, 1, 0, 0, 1, 0, 1, 0, 0, 0, 0, 0, 0, 0, 0, 0, 0, 0, 0, 0, 0, 0, 0, 0, 0, 0, 0, 0, 0, 0], [1, 0, 1, 0, 0, 0, 0, 0, 0, 0, 0, 0, 0, 0, 0, 0, 0, 0, 0, 0, 0, 0, 0, 0, 0, 0, 0, 0, 0, 0, 0], [1, 0, 0, 0, 0, 0, 0, 0, 0, 0, 0, 0, 0, 0, 0, 0, 0, 0, 0, 0, 0, 0, 0, 0, 0, 0, 0, 0, 0, 0, 0]]\n"
     ]
    }
   ],
   "source": [
    "def isSubsetSumTab(N: int, arr: list[int], target: int) -> bool:\n",
    "    \"\"\"\n",
    "    Each cell in the dp represents -> If total - arr[i] is true down the line.\n",
    "    Note that dp[i][0] is always true, since if the target is to be 0 regardless of arr[i] tehn subsetSumTarget is possible.\n",
    "    \"\"\"\n",
    "    dp: list[list[int]] = [[1 if j == 0 else -1 if i < N else 0 for j in range(target + 1)] for i in range(N + 1)]\n",
    "\n",
    "    for i in range(N - 1, -1, -1):\n",
    "        for total in range(1, target + 1):\n",
    "            if dp[i + 1][total] == 1 or (total - arr[i] >= 0 and dp[i + 1][total - arr[i]] == 1):\n",
    "                dp[i][total] = 1\n",
    "            else:\n",
    "                dp[i][total] = 0\n",
    "\n",
    "    print(dp)\n",
    "    return bool(dp[0][target])\n",
    "\n",
    "# Testing the solution\n",
    "assert isSubsetSumTab(6, [3, 34, 4, 12, 5, 2], 9) == True\n",
    "assert isSubsetSumTab(6, [3, 34, 4, 12, 5, 2], 30) == False"
   ]
  },
  {
   "cell_type": "code",
   "execution_count": 31,
   "id": "ca80b369",
   "metadata": {
    "execution": {
     "iopub.execute_input": "2024-05-11T09:06:06.156345Z",
     "iopub.status.busy": "2024-05-11T09:06:06.156006Z",
     "iopub.status.idle": "2024-05-11T09:06:06.160797Z",
     "shell.execute_reply": "2024-05-11T09:06:06.160363Z"
    },
    "lines_to_next_cell": 1,
    "papermill": {
     "duration": 0.013959,
     "end_time": "2024-05-11T09:06:06.161846",
     "exception": false,
     "start_time": "2024-05-11T09:06:06.147887",
     "status": "completed"
    },
    "tags": []
   },
   "outputs": [],
   "source": [
    "def isSubsetSumSpaceOptimized(N: int, arr: list[int], target: int) -> bool:\n",
    "    \"Time: O(N x target), Space: O(target)\"\n",
    "    dp: list[int] = [0 if j > 0 else 1 for j in range(target + 1)]\n",
    "\n",
    "    for i in range(N - 1, -1, -1):\n",
    "        next_: list[int] = []\n",
    "        for total in range(target + 1):\n",
    "            if total == 0 or dp[total] == 1 or (total - arr[i] >= 0 and dp[total - arr[i]] == 1):\n",
    "                next_.append(1)\n",
    "            else:\n",
    "                next_.append(0)\n",
    "\n",
    "        dp = next_\n",
    "\n",
    "    return bool(dp[target])\n",
    "\n",
    "# Testing the solution\n",
    "assert isSubsetSumSpaceOptimized(6, [3, 34, 4, 12, 5, 2], 9) == True\n",
    "assert isSubsetSumSpaceOptimized(6, [3, 34, 4, 12, 5, 2], 30) == False"
   ]
  },
  {
   "cell_type": "markdown",
   "id": "7a10f4ca",
   "metadata": {
    "papermill": {
     "duration": 0.007651,
     "end_time": "2024-05-11T09:06:06.177346",
     "exception": false,
     "start_time": "2024-05-11T09:06:06.169695",
     "status": "completed"
    },
    "tags": []
   },
   "source": [
    "Partition equal subset sum: https://leetcode.com/problems/partition-equal-subset-sum/\n",
    "Video Link: https://youtu.be/7win3dcgo3k?si=LJO4Ot4EZzQ2fRc0"
   ]
  },
  {
   "cell_type": "code",
   "execution_count": 32,
   "id": "373088cf",
   "metadata": {
    "execution": {
     "iopub.execute_input": "2024-05-11T09:06:06.193457Z",
     "iopub.status.busy": "2024-05-11T09:06:06.193121Z",
     "iopub.status.idle": "2024-05-11T09:06:06.198316Z",
     "shell.execute_reply": "2024-05-11T09:06:06.197804Z"
    },
    "lines_to_next_cell": 1,
    "papermill": {
     "duration": 0.014411,
     "end_time": "2024-05-11T09:06:06.199334",
     "exception": false,
     "start_time": "2024-05-11T09:06:06.184923",
     "status": "completed"
    },
    "tags": []
   },
   "outputs": [],
   "source": [
    "# https://leetcode.com/problems/partition-equal-subset-sum/submissions/1253314239\n",
    "def canPartition(nums: list[int]) -> bool:\n",
    "    def subsetSumEqualsTarget(target: int) -> bool:\n",
    "        \"Time: O(N x target), Space: O(target)\"\n",
    "        dp: list[bool] = [False if i > 0 else True for i in range(target + 1)]\n",
    "        for i in range(N - 1, -1, -1):\n",
    "            next_: list[bool] = []\n",
    "            for total in range(target + 1):\n",
    "                if total == 0 or dp[total] or (total - nums[i] >= 0 and dp[total - nums[i]]):\n",
    "                    next_.append(True)\n",
    "                else:\n",
    "                    next_.append(False)\n",
    "\n",
    "            dp = next_\n",
    "\n",
    "        return dp[target]\n",
    "\n",
    "    N = len(nums)\n",
    "    total = sum(nums)\n",
    "    return total % 2 == 0 and subsetSumEqualsTarget(total // 2)\n",
    "\n",
    "# Testing the solution\n",
    "assert canPartition([1,5,11,5]) == True\n",
    "assert canPartition([1,2,3,5]) == False\n",
    "assert canPartition([3,3,3,4,5]) == True"
   ]
  },
  {
   "cell_type": "markdown",
   "id": "56f6a268",
   "metadata": {
    "papermill": {
     "duration": 0.007571,
     "end_time": "2024-05-11T09:06:06.214575",
     "exception": false,
     "start_time": "2024-05-11T09:06:06.207004",
     "status": "completed"
    },
    "tags": []
   },
   "source": [
    "Partition Array Into Two Arrays to Minimize Sum Difference\n",
    "Video link: https://youtu.be/GS_OqZb2CWc?si=Jtc2dP_dqmNi5Zli"
   ]
  },
  {
   "cell_type": "code",
   "execution_count": 33,
   "id": "00588c88",
   "metadata": {
    "execution": {
     "iopub.execute_input": "2024-05-11T09:06:06.230552Z",
     "iopub.status.busy": "2024-05-11T09:06:06.230269Z",
     "iopub.status.idle": "2024-05-11T09:06:06.234980Z",
     "shell.execute_reply": "2024-05-11T09:06:06.234480Z"
    },
    "lines_to_next_cell": 1,
    "papermill": {
     "duration": 0.013878,
     "end_time": "2024-05-11T09:06:06.235982",
     "exception": false,
     "start_time": "2024-05-11T09:06:06.222104",
     "status": "completed"
    },
    "tags": []
   },
   "outputs": [],
   "source": [
    "def minimumDifferenceBrute(nums: list[int]) -> int:\n",
    "    \"\"\"\n",
    "    Throws a TLE :(\n",
    "    \"\"\"\n",
    "    N, total_sum = len(nums), sum(nums)\n",
    "    subset_length = N // 2\n",
    "\n",
    "    @functools.cache\n",
    "    def backtrack(i: int, subset_sum: int, count: int) -> float:\n",
    "        if count == subset_length:\n",
    "            return abs(2 * subset_sum - total_sum)\n",
    "        elif i == N:\n",
    "            return math.inf\n",
    "        else:\n",
    "            return min(backtrack(i + 1, subset_sum + nums[i], count + 1), backtrack(i + 1, subset_sum, count))\n",
    "\n",
    "    result = int(backtrack(0, 0, 0))\n",
    "    return result\n",
    "\n",
    "# Testing the solution\n",
    "assert minimumDifferenceBrute([3,9,7,3]) == 2\n",
    "assert minimumDifferenceBrute([-36,36]) == 72\n",
    "assert minimumDifferenceBrute([2,-1,0,4,-2,-9]) == 0"
   ]
  },
  {
   "cell_type": "code",
   "execution_count": 34,
   "id": "97c34ef1",
   "metadata": {
    "execution": {
     "iopub.execute_input": "2024-05-11T09:06:06.251811Z",
     "iopub.status.busy": "2024-05-11T09:06:06.251491Z",
     "iopub.status.idle": "2024-05-11T09:06:06.258102Z",
     "shell.execute_reply": "2024-05-11T09:06:06.257600Z"
    },
    "lines_to_next_cell": 1,
    "papermill": {
     "duration": 0.015664,
     "end_time": "2024-05-11T09:06:06.259157",
     "exception": false,
     "start_time": "2024-05-11T09:06:06.243493",
     "status": "completed"
    },
    "tags": []
   },
   "outputs": [],
   "source": [
    "def minimumDifference(nums: list[int]) -> int:\n",
    "    \"\"\"\n",
    "    Use the DP tabulation approach we used to check if a subset with target sum exists. Still Memory limit exceeded.\n",
    "    Note that this is different the one on the video. This solution is leetcode specific. In the video by Striver, the values can only be positive. Further more we can split into any size.\n",
    "    In LC however, the subset must be split into 2 halves, values can be both positive and negative.\n",
    "    \"\"\"\n",
    "\n",
    "    N, total_abs_sum, total_sum = len(nums), sum(map(abs, nums)), sum(nums)\n",
    "\n",
    "    # Each value represents the length of subset summing up to target. -1 if cannot be reached.\n",
    "    dp: list[int] = [-1 if j != 0 else 0 for j in range(-total_abs_sum, total_abs_sum + 1)]\n",
    "\n",
    "    for i in range(N - 1, -1, -1):\n",
    "        next_dp: list[int] = []\n",
    "        for target in range(-total_abs_sum, total_abs_sum + 1):\n",
    "            # Pick, subset length incremented by 1\n",
    "            if 0 <= target - nums[i] + total_abs_sum <= 2 * total_abs_sum and dp[target - nums[i] + total_abs_sum] != -1:\n",
    "                subset_length = dp[target - nums[i] + total_abs_sum] + 1\n",
    "                existing_length = dp[target + total_abs_sum]\n",
    "                next_dp.append(subset_length if existing_length != N // 2 else existing_length)\n",
    "            # No pick, hence subset length is unupdated\n",
    "            elif dp[target + total_abs_sum] != -1:\n",
    "                next_dp.append(dp[target + total_abs_sum])\n",
    "            # Base case\n",
    "            elif target == 0:\n",
    "                next_dp.append(0)\n",
    "            # Sum cannot be reached\n",
    "            else:\n",
    "                next_dp.append(-1)\n",
    "\n",
    "        dp = next_dp\n",
    "\n",
    "    # Find out targets where value is N // 2\n",
    "    min_diff: float = math.inf\n",
    "    for subset_sum, subset_length in enumerate(dp, start=-total_abs_sum):\n",
    "        if subset_length == N // 2:\n",
    "            min_diff = min(min_diff, abs(2 * subset_sum - total_sum))\n",
    "\n",
    "    return int(min_diff)\n",
    "\n",
    "# Testing the solution\n",
    "assert minimumDifference([3,9,7,3]) == 2\n",
    "assert minimumDifference([-36,36]) == 72\n",
    "assert minimumDifference([2,-1,0,4,-2,-9]) == 0"
   ]
  },
  {
   "cell_type": "code",
   "execution_count": 35,
   "id": "54752ee1",
   "metadata": {
    "execution": {
     "iopub.execute_input": "2024-05-11T09:06:06.275104Z",
     "iopub.status.busy": "2024-05-11T09:06:06.274682Z",
     "iopub.status.idle": "2024-05-11T09:06:06.279647Z",
     "shell.execute_reply": "2024-05-11T09:06:06.279213Z"
    },
    "lines_to_next_cell": 1,
    "papermill": {
     "duration": 0.013979,
     "end_time": "2024-05-11T09:06:06.280645",
     "exception": false,
     "start_time": "2024-05-11T09:06:06.266666",
     "status": "completed"
    },
    "tags": []
   },
   "outputs": [],
   "source": [
    "def minSubsetSumDifference(arr: list[int], N: int) -> int:\n",
    "    # Compute max total sum\n",
    "    total_sum: int = sum(arr)\n",
    "\n",
    "    # Compute DP grid for all possible subset sums\n",
    "    dp: list[bool] = [False if i > 0 else True for i in range(total_sum + 1)]\n",
    "    for i in range(N - 1, -1, -1):\n",
    "        next_dp: list[bool] = []\n",
    "        for target in range(total_sum + 1):\n",
    "            if target == 0 or dp[target] or (target - arr[i] >= 0 and dp[target - arr[i]]):\n",
    "                next_dp.append(True)\n",
    "            else:\n",
    "                next_dp.append(False)\n",
    "        dp = next_dp\n",
    "\n",
    "    # Compute the minimum subset difference\n",
    "    min_diff: int = total_sum\n",
    "\n",
    "    # total_sum / 2 since it is enough if we computed one half, diff of sum from total sum would cover the other half as well\n",
    "    for target in range(math.ceil(total_sum / 2) + 1):\n",
    "        if dp[target]:\n",
    "            min_diff = min(min_diff, abs(2 * target - total_sum))\n",
    "\n",
    "    return min_diff\n",
    "\n",
    "# Testing the solution\n",
    "assert minSubsetSumDifference([8,6,5], 3) == 3"
   ]
  },
  {
   "cell_type": "markdown",
   "id": "884d535e",
   "metadata": {
    "papermill": {
     "duration": 0.00784,
     "end_time": "2024-05-11T09:06:06.296218",
     "exception": false,
     "start_time": "2024-05-11T09:06:06.288378",
     "status": "completed"
    },
    "tags": []
   },
   "source": [
    "Count subsets with sum k"
   ]
  },
  {
   "cell_type": "code",
   "execution_count": 36,
   "id": "534b55bb",
   "metadata": {
    "execution": {
     "iopub.execute_input": "2024-05-11T09:06:06.312388Z",
     "iopub.status.busy": "2024-05-11T09:06:06.312059Z",
     "iopub.status.idle": "2024-05-11T09:06:06.317416Z",
     "shell.execute_reply": "2024-05-11T09:06:06.316927Z"
    },
    "lines_to_next_cell": 1,
    "papermill": {
     "duration": 0.014776,
     "end_time": "2024-05-11T09:06:06.318556",
     "exception": false,
     "start_time": "2024-05-11T09:06:06.303780",
     "status": "completed"
    },
    "tags": []
   },
   "outputs": [],
   "source": [
    "def perfectSumMemo(nums: list[int], N: int, K: int):\n",
    "    \"\"\"\n",
    "    Time: O(N * K) + O(N); Space: O(N * K)\n",
    "    \"\"\"\n",
    "\n",
    "    # Filter out all the zeros\n",
    "    arr: list[int] = []\n",
    "    N = zero_count = 0\n",
    "    for n in nums:\n",
    "        if n > 0:\n",
    "            arr.append(n)\n",
    "            N += 1\n",
    "        else:\n",
    "            zero_count += 1\n",
    "\n",
    "    # Compute the results and store it to a list\n",
    "    dp: list[list[int]] = [[-1 for j in range(K + 1)] for i in range(N)]\n",
    "\n",
    "    # Recursively find the solution\n",
    "    def backtrack(i: int, total: int) -> int:\n",
    "        if total == K:\n",
    "            return 1\n",
    "        elif i >= N or total > K:\n",
    "            return 0\n",
    "        elif dp[i][total] != -1:\n",
    "            return dp[i][total]\n",
    "        else:\n",
    "            result = backtrack(i + 1, total + arr[i]) + backtrack(i + 1, total)\n",
    "            dp[i][total] = result\n",
    "            return result\n",
    "\n",
    "    return backtrack(0, 0) * (2 ** zero_count)\n",
    "\n",
    "# Testing the solution\n",
    "assert perfectSumMemo([5, 2, 3, 10, 6, 8], 6, 10) == 3\n",
    "assert perfectSumMemo([1, 0], 2, 1) == 2"
   ]
  },
  {
   "cell_type": "code",
   "execution_count": 37,
   "id": "dee4da2c",
   "metadata": {
    "execution": {
     "iopub.execute_input": "2024-05-11T09:06:06.334717Z",
     "iopub.status.busy": "2024-05-11T09:06:06.334322Z",
     "iopub.status.idle": "2024-05-11T09:06:06.339599Z",
     "shell.execute_reply": "2024-05-11T09:06:06.339087Z"
    },
    "lines_to_next_cell": 1,
    "papermill": {
     "duration": 0.014405,
     "end_time": "2024-05-11T09:06:06.340609",
     "exception": false,
     "start_time": "2024-05-11T09:06:06.326204",
     "status": "completed"
    },
    "tags": []
   },
   "outputs": [],
   "source": [
    "def perfectSumTabulation(nums: list[int], N: int, K: int):\n",
    "    # Filter out all the zeros\n",
    "    arr: list[int] = []\n",
    "    N = zero_count = 0\n",
    "    for n in nums:\n",
    "        if n > 0:\n",
    "            arr.append(n)\n",
    "            N += 1\n",
    "        else:\n",
    "            zero_count += 1\n",
    "\n",
    "    # Initialize a DP array\n",
    "    dp: list[list[int]] = [[-1 if j < K else 1 for j in range(K + 1)] for i in range(N)]\n",
    "    dp.append([0 if j < K else 1 for j in range(K + 1)])\n",
    "\n",
    "    # Traverse through grid\n",
    "    for i in range(N - 1, -1, -1):\n",
    "        for total in range(K):\n",
    "            dp[i][total] = dp[i + 1][total]\n",
    "            if total + arr[i] <= K:\n",
    "                dp[i][total] += dp[i + 1][total + arr[i]]\n",
    "\n",
    "    return dp[0][0] * (2 ** zero_count)\n",
    "\n",
    "# Testing the solution\n",
    "assert perfectSumTabulation([5, 2, 3, 10, 6, 8], 6, 10) == 3\n",
    "assert perfectSumTabulation([1, 0], 2, 1) == 2"
   ]
  },
  {
   "cell_type": "code",
   "execution_count": 38,
   "id": "2d2468ad",
   "metadata": {
    "execution": {
     "iopub.execute_input": "2024-05-11T09:06:06.357005Z",
     "iopub.status.busy": "2024-05-11T09:06:06.356632Z",
     "iopub.status.idle": "2024-05-11T09:06:06.361469Z",
     "shell.execute_reply": "2024-05-11T09:06:06.361056Z"
    },
    "lines_to_next_cell": 1,
    "papermill": {
     "duration": 0.01409,
     "end_time": "2024-05-11T09:06:06.362537",
     "exception": false,
     "start_time": "2024-05-11T09:06:06.348447",
     "status": "completed"
    },
    "tags": []
   },
   "outputs": [],
   "source": [
    "def perfectSum(nums: list[int], N: int, K: int):\n",
    "    # Filter out all the zeros\n",
    "    arr: list[int] = []\n",
    "    N = zero_count = 0\n",
    "    for n in nums:\n",
    "        if n > 0:\n",
    "            arr.append(n)\n",
    "            N += 1\n",
    "        else:\n",
    "            zero_count += 1\n",
    "\n",
    "    # Initialize a DP array\n",
    "    dp: list[int] = [0 if j < K else 1 for j in range(K + 1)]\n",
    "\n",
    "    # Traverse through grid\n",
    "    for i in range(N - 1, -1, -1):\n",
    "        next_dp: list[int] = []\n",
    "        for total in range(K + 1):\n",
    "            next_dp.append(dp[total])\n",
    "            if total + arr[i] <= K:\n",
    "                next_dp[-1] += dp[total + arr[i]]\n",
    "\n",
    "        dp = next_dp\n",
    "\n",
    "    return dp[0] * (2 ** zero_count)\n",
    "\n",
    "# Testing the solution\n",
    "assert perfectSum([5, 2, 3, 10, 6, 8], 6, 10) == 3\n",
    "assert perfectSum([1, 0], 2, 1) == 2"
   ]
  },
  {
   "cell_type": "markdown",
   "id": "2bff8c7f",
   "metadata": {
    "papermill": {
     "duration": 0.007557,
     "end_time": "2024-05-11T09:06:06.377830",
     "exception": false,
     "start_time": "2024-05-11T09:06:06.370273",
     "status": "completed"
    },
    "tags": []
   },
   "source": [
    "Count Paritions with given difference: https://youtu.be/zoilQD1kYSg?si=F8PFSkzkZXEsFJ2N"
   ]
  },
  {
   "cell_type": "code",
   "execution_count": 39,
   "id": "051bd113",
   "metadata": {
    "execution": {
     "iopub.execute_input": "2024-05-11T09:06:06.393873Z",
     "iopub.status.busy": "2024-05-11T09:06:06.393521Z",
     "iopub.status.idle": "2024-05-11T09:06:06.398370Z",
     "shell.execute_reply": "2024-05-11T09:06:06.397920Z"
    },
    "lines_to_next_cell": 1,
    "papermill": {
     "duration": 0.014,
     "end_time": "2024-05-11T09:06:06.399399",
     "exception": false,
     "start_time": "2024-05-11T09:06:06.385399",
     "status": "completed"
    },
    "tags": []
   },
   "outputs": [],
   "source": [
    "def countPartitionsMemo(N: int, diff: int, arr: list[int]) -> int:\n",
    "    \"\"\"\n",
    "    s1 + s2 = S\n",
    "    s1 - s2 = d\n",
    "    2 * s1 = S + d\n",
    "\n",
    "    Time: O(N x target) + O(N)\n",
    "    Space: O(N x target)\n",
    "    \"\"\"\n",
    "\n",
    "    # Simply check if the target exists\n",
    "    target = (sum(arr) + diff) / 2\n",
    "\n",
    "    # Count all subset sums equals target\n",
    "    @functools.cache\n",
    "    def backtrack(i: int, total: int) -> int:\n",
    "        if i == N:\n",
    "            return total == target\n",
    "        elif total > target:\n",
    "            return 0\n",
    "        else:\n",
    "            return backtrack(i + 1, total + arr[i]) + backtrack(i + 1, total)\n",
    "\n",
    "    result = backtrack(0, 0) if target == int(target) else 0\n",
    "    MOD = int(1e9 + 7)\n",
    "    return result % MOD\n",
    "\n",
    "# Testing the solution\n",
    "assert countPartitionsMemo(4, 0, [1,1,1,1]) == 6\n",
    "assert countPartitionsMemo(4, 3, [5,2,6,4]) == 1\n",
    "assert countPartitionsMemo(5, 5, [1,3,3,2,1]) == 0"
   ]
  },
  {
   "cell_type": "code",
   "execution_count": 40,
   "id": "4cd9fbc1",
   "metadata": {
    "execution": {
     "iopub.execute_input": "2024-05-11T09:06:06.415708Z",
     "iopub.status.busy": "2024-05-11T09:06:06.415400Z",
     "iopub.status.idle": "2024-05-11T09:06:06.420795Z",
     "shell.execute_reply": "2024-05-11T09:06:06.420295Z"
    },
    "lines_to_next_cell": 1,
    "papermill": {
     "duration": 0.014795,
     "end_time": "2024-05-11T09:06:06.421902",
     "exception": false,
     "start_time": "2024-05-11T09:06:06.407107",
     "status": "completed"
    },
    "tags": []
   },
   "outputs": [],
   "source": [
    "def countPartitionsTabulation(N: int, diff: int, arr: list[int]) -> int:\n",
    "    \"\"\"\n",
    "    Time: O(N x target), Space: O(N x target)\n",
    "    \"\"\"\n",
    "    # Simply check if the target exists\n",
    "    target_: float = (sum(arr) + diff) / 2\n",
    "    MOD = int(1e9 + 7)\n",
    "\n",
    "    if int(target_) != target_:\n",
    "        return 0\n",
    "\n",
    "    else:\n",
    "\n",
    "        # Convert to int for typing support\n",
    "        target = int(target_)\n",
    "\n",
    "        # Initialize DP array for tabulation\n",
    "        dp: list[list[int]] = [[0 if j != target or i != N else 1 for j in range(target + 1)] for i in range(N + 1)]\n",
    "\n",
    "        # Iterate through DP and find the solution\n",
    "        for i in range(N - 1, -1, -1):\n",
    "            for total in range(target + 1):\n",
    "                dp[i][total] = dp[i + 1][total]\n",
    "                if total + arr[i] <= target:\n",
    "                    dp[i][total] += dp[i + 1][total + arr[i]]\n",
    "\n",
    "        return dp[0][0]\n",
    "\n",
    "# Testing the solution\n",
    "assert countPartitionsTabulation(4, 3, [5,2,6,4]) == 1\n",
    "assert countPartitionsTabulation(4, 3, [5,2,6,4]) == 1\n",
    "assert countPartitionsTabulation(5, 5, [1,3,3,2,1]) == 0"
   ]
  },
  {
   "cell_type": "code",
   "execution_count": 41,
   "id": "09aacbe5",
   "metadata": {
    "execution": {
     "iopub.execute_input": "2024-05-11T09:06:06.438066Z",
     "iopub.status.busy": "2024-05-11T09:06:06.437661Z",
     "iopub.status.idle": "2024-05-11T09:06:06.443098Z",
     "shell.execute_reply": "2024-05-11T09:06:06.442568Z"
    },
    "lines_to_next_cell": 1,
    "papermill": {
     "duration": 0.014693,
     "end_time": "2024-05-11T09:06:06.444212",
     "exception": false,
     "start_time": "2024-05-11T09:06:06.429519",
     "status": "completed"
    },
    "tags": []
   },
   "outputs": [],
   "source": [
    "def countPartitions(N: int, diff: int, arr: list[int]) -> int:\n",
    "    # Simply check if the target exists\n",
    "    target_: float = (sum(arr) + diff) / 2\n",
    "    MOD = int(1e9 + 7)\n",
    "\n",
    "    if int(target_) != target_:\n",
    "        return 0\n",
    "\n",
    "    else:\n",
    "        # Convert to int for type hinting\n",
    "        target = int(target_)\n",
    "\n",
    "        # Create a 1D grid (space optimized)\n",
    "        dp: list[int] = [0 if j != target else 1 for j in range(target + 1)]\n",
    "\n",
    "        # Iterate through DP\n",
    "        for i in range(N - 1, -1, -1):\n",
    "            next_dp: list[int] = []\n",
    "            for total in range(target + 1):\n",
    "                next_dp.append(dp[total])\n",
    "                if total + arr[i] <= target:\n",
    "                    next_dp[-1] += dp[total + arr[i]]\n",
    "\n",
    "            dp = next_dp\n",
    "\n",
    "        return dp[0] % MOD\n",
    "\n",
    "# Testing the solution\n",
    "assert countPartitions(4, 3, [5,2,6,4]) == 1\n",
    "assert countPartitions(4, 3, [5,2,6,4]) == 1\n",
    "assert countPartitions(5, 5, [1,3,3,2,1]) == 0"
   ]
  },
  {
   "cell_type": "markdown",
   "id": "db7bdbb0",
   "metadata": {
    "papermill": {
     "duration": 0.007504,
     "end_time": "2024-05-11T09:06:06.459335",
     "exception": false,
     "start_time": "2024-05-11T09:06:06.451831",
     "status": "completed"
    },
    "tags": []
   },
   "source": [
    "Video Link: https://youtu.be/GqOmJHQZivw?si=dHaZZvKQa2PHaukO\n",
    "0/1 Knapsack"
   ]
  },
  {
   "cell_type": "code",
   "execution_count": 42,
   "id": "51fdc55d",
   "metadata": {
    "execution": {
     "iopub.execute_input": "2024-05-11T09:06:06.475408Z",
     "iopub.status.busy": "2024-05-11T09:06:06.475114Z",
     "iopub.status.idle": "2024-05-11T09:06:06.479880Z",
     "shell.execute_reply": "2024-05-11T09:06:06.479437Z"
    },
    "lines_to_next_cell": 1,
    "papermill": {
     "duration": 0.013972,
     "end_time": "2024-05-11T09:06:06.480905",
     "exception": false,
     "start_time": "2024-05-11T09:06:06.466933",
     "status": "completed"
    },
    "tags": []
   },
   "outputs": [],
   "source": [
    "def knapsack01Memo(N: int, max_weight: int, weights: list[int], values: list[int]) -> int:\n",
    "    \"\"\"\n",
    "    Time complexity without memoization: O(2 ** N), Space: O(N).\n",
    "    Post memoization: O(N x max_weight), Space: O(N x max_weight)\n",
    "    \"\"\"\n",
    "    @functools.cache\n",
    "    def backtrack(i: int, total_weight: int) -> float:\n",
    "        \"\"\"\n",
    "        Intuition: Till index i, what is the max value, we can accumulate with max_weight as total_weight.\n",
    "        \"\"\"\n",
    "        if total_weight > max_weight:\n",
    "            return -math.inf\n",
    "        elif i >= N:\n",
    "            return 0\n",
    "        else:\n",
    "            pick = values[i] + backtrack(i + 1, total_weight + weights[i])\n",
    "            nopick = backtrack(i + 1, total_weight)\n",
    "            return max(pick, nopick)\n",
    "\n",
    "    result = backtrack(0, 0)\n",
    "    return int(max(result, 0))\n",
    "\n",
    "# Testing the solution\n",
    "assert knapsack01Memo(4, 5, [1,2,4,5], [5,4,8,6]) == 13\n",
    "assert knapsack01Memo(3, 8, [3,4,5], [30,50,60]) == 90"
   ]
  },
  {
   "cell_type": "code",
   "execution_count": 43,
   "id": "e0b05d00",
   "metadata": {
    "execution": {
     "iopub.execute_input": "2024-05-11T09:06:06.497122Z",
     "iopub.status.busy": "2024-05-11T09:06:06.496779Z",
     "iopub.status.idle": "2024-05-11T09:06:06.501779Z",
     "shell.execute_reply": "2024-05-11T09:06:06.501347Z"
    },
    "lines_to_next_cell": 1,
    "papermill": {
     "duration": 0.014178,
     "end_time": "2024-05-11T09:06:06.502800",
     "exception": false,
     "start_time": "2024-05-11T09:06:06.488622",
     "status": "completed"
    },
    "tags": []
   },
   "outputs": [],
   "source": [
    "def knapsack01Tabulation(N: int, max_weight: int, weights: list[int], values: list[int]) -> int:\n",
    "    dp: list[list[int]] = [[-1 if i < N else 0 for j in range(max_weight + 1)] for i in range(N + 1)]\n",
    "    for i in range(N - 1, -1, -1):\n",
    "        for total_weight in range(max_weight + 1):\n",
    "            # No pick\n",
    "            dp[i][total_weight] = dp[i + 1][total_weight]\n",
    "\n",
    "            # Pick\n",
    "            if total_weight + weights[i] <= max_weight:\n",
    "                dp[i][total_weight] = max(dp[i][total_weight], values[i] + dp[i + 1][total_weight + weights[i]])\n",
    "\n",
    "    return dp[0][0]\n",
    "\n",
    "# Testing the solution\n",
    "assert knapsack01Tabulation(4, 5, [1,2,4,5], [5,4,8,6]) == 13\n",
    "assert knapsack01Tabulation(3, 8, [3,4,5], [30,50,60]) == 90"
   ]
  },
  {
   "cell_type": "code",
   "execution_count": 44,
   "id": "045af9de",
   "metadata": {
    "execution": {
     "iopub.execute_input": "2024-05-11T09:06:06.519286Z",
     "iopub.status.busy": "2024-05-11T09:06:06.518927Z",
     "iopub.status.idle": "2024-05-11T09:06:06.523712Z",
     "shell.execute_reply": "2024-05-11T09:06:06.523277Z"
    },
    "lines_to_next_cell": 1,
    "papermill": {
     "duration": 0.01422,
     "end_time": "2024-05-11T09:06:06.524808",
     "exception": false,
     "start_time": "2024-05-11T09:06:06.510588",
     "status": "completed"
    },
    "tags": []
   },
   "outputs": [],
   "source": [
    "def knapsack01SpaceOptimized(N: int, max_weight: int, weights: list[int], values: list[int]) -> int:\n",
    "    dp: list[int] = [0 for j in range(max_weight + 1)]\n",
    "    for i in range(N - 1, -1, -1):\n",
    "        next_dp: list[int] = []\n",
    "        for total_weight in range(max_weight + 1):\n",
    "            next_dp.append(dp[total_weight]) # No pick\n",
    "            if weights[i] + total_weight <= max_weight:\n",
    "                next_dp[-1] = max(next_dp[-1], values[i] + dp[weights[i] + total_weight]) # Pick\n",
    "        dp = next_dp\n",
    "\n",
    "    return dp[0]\n",
    "\n",
    "# Testing the solution\n",
    "assert knapsack01SpaceOptimized(4, 5, [1,2,4,5], [5,4,8,6]) == 13\n",
    "assert knapsack01SpaceOptimized(3, 8, [3,4,5], [30,50,60]) == 90"
   ]
  },
  {
   "cell_type": "code",
   "execution_count": 45,
   "id": "b6d1c8d2",
   "metadata": {
    "execution": {
     "iopub.execute_input": "2024-05-11T09:06:06.541087Z",
     "iopub.status.busy": "2024-05-11T09:06:06.540647Z",
     "iopub.status.idle": "2024-05-11T09:06:06.545412Z",
     "shell.execute_reply": "2024-05-11T09:06:06.544986Z"
    },
    "lines_to_next_cell": 1,
    "papermill": {
     "duration": 0.013961,
     "end_time": "2024-05-11T09:06:06.546446",
     "exception": false,
     "start_time": "2024-05-11T09:06:06.532485",
     "status": "completed"
    },
    "tags": []
   },
   "outputs": [],
   "source": [
    "def knapsack01(N: int, max_weight: int, weights: list[int], values: list[int]) -> int:\n",
    "    \"\"\"\n",
    "    Space optimization to use just a single row. This is possible because\n",
    "    in the inner loop we are moving from the left to right and at each iteration\n",
    "    we are using the element to the right, we have no need of the element to the left\n",
    "\n",
    "    [x . . . . . . * . . . ]\n",
    "    [. x . . . * . . . . . ]\n",
    "    [. . x . . . . . * . . ]\n",
    "\n",
    "    At the inner loop we had required the value of the element to the left, this would not have been possible.\n",
    "    \"\"\"\n",
    "    dp: list[int] = [0 for j in range(max_weight + 1)]\n",
    "    for i in range(N - 1, -1, -1):\n",
    "        for total_weight in range(max_weight + 1):\n",
    "            if weights[i] + total_weight <= max_weight:\n",
    "                dp[total_weight] = max(dp[total_weight], values[i] + dp[total_weight + weights[i]])\n",
    "\n",
    "    return dp[0]\n",
    "\n",
    "# Testing the solution\n",
    "assert knapsack01(4, 5, [1,2,4,5], [5,4,8,6]) == 13\n",
    "assert knapsack01(3, 8, [3,4,5], [30,50,60]) == 90"
   ]
  },
  {
   "cell_type": "markdown",
   "id": "71d6293a",
   "metadata": {},
   "source": [
    "Video link: https://youtu.be/myPeWb3Y68A?si=9z1QMQXCYmEcFEW4\n",
    "Coin Change: https://leetcode.com/problems/coin-change/submissions/1255049748\n",
    "Logic: Whenever there is an infinite / unlimited supply, not_take would update the index, <br>\n",
    "take would not update index - it would stay where it is because we might end up picking it more than once"
   ]
  },
  {
   "cell_type": "code",
   "execution_count": null,
   "id": "93a2c45e",
   "metadata": {
    "lines_to_next_cell": 1
   },
   "outputs": [],
   "source": [
    "def coinChangeMemoization(coins: list[int], amount: int) -> int:\n",
    "    @functools.cache\n",
    "    def backtrack(i: int, total: int) -> float:\n",
    "        if total == amount:\n",
    "            return 0\n",
    "        elif i == N or total > amount:\n",
    "            return math.inf\n",
    "        else:\n",
    "            return min(1 + backtrack(i, total + coins[i]), backtrack(i + 1, total))\n",
    "\n",
    "    N = len(coins)\n",
    "    result = backtrack(0, 0)\n",
    "    return int(result) if not math.isinf(result) else -1\n",
    "\n",
    "# Testing the solution\n",
    "assert coinChangeMemoization([1,2,5], 11) == 3\n",
    "assert coinChangeMemoization([2], 3) == -1"
   ]
  },
  {
   "cell_type": "code",
   "execution_count": null,
   "id": "eb1b662f",
   "metadata": {
    "lines_to_next_cell": 1
   },
   "outputs": [],
   "source": [
    "def coinChangeTabulation(coins: list[int], amount: int) -> int:\n",
    "    N = len(coins)\n",
    "    dp: list[list[float]] = [[math.inf if j < amount else 0 for j in range(amount + 1)] for i in range(N + 1)]\n",
    "    for i in range(N - 1, -1, -1):\n",
    "        for total in range(amount, -1, -1):\n",
    "            if total + coins[i] <= amount:\n",
    "                dp[i][total] = min(dp[i + 1][total], 1 + dp[i][total + coins[i]])\n",
    "            else:\n",
    "                dp[i][total] = dp[i + 1][total]\n",
    "\n",
    "    result = dp[0][0]\n",
    "    return int(result) if not math.isinf(result) else -1\n",
    "\n",
    "# Testing the solution\n",
    "assert coinChangeTabulation([1,2,5], 11) == 3\n",
    "assert coinChangeTabulation([2], 3) == -1"
   ]
  },
  {
   "cell_type": "code",
   "execution_count": null,
   "id": "ddd554c7",
   "metadata": {},
   "outputs": [],
   "source": [
    "def coinChangeSpaceOptimized(coins: list[int], amount: int) -> int:\n",
    "    N = len(coins)\n",
    "    dp: list[float] = [math.inf if j < amount else 0 for j in range(amount + 1)]\n",
    "    for i in range(N - 1, -1, -1):\n",
    "        for total in range(amount, -1, -1):\n",
    "            if total + coins[i] <= amount:\n",
    "                dp[total] = min(dp[total], 1 + dp[total + coins[i]])\n",
    "\n",
    "    result = dp[0]\n",
    "    return int(result) if not math.isinf(result) else -1\n",
    "\n",
    "# Testing the solution\n",
    "assert coinChangeSpaceOptimized([1,2,5], 11) == 3\n",
    "assert coinChangeSpaceOptimized([2], 3) == -1"
   ]
  }
 ],
 "metadata": {
  "kernelspec": {
   "display_name": "Python 3 (ipykernel)",
   "language": "python",
   "name": "python3"
  },
  "language_info": {
   "codemirror_mode": {
    "name": "ipython",
    "version": 3
   },
   "file_extension": ".py",
   "mimetype": "text/x-python",
   "name": "python",
   "nbconvert_exporter": "python",
   "pygments_lexer": "ipython3",
   "version": "3.11.9"
  },
  "papermill": {
   "default_parameters": {},
   "duration": 2.536346,
   "end_time": "2024-05-11T09:06:06.669343",
   "environment_variables": {},
   "exception": null,
   "input_path": "study/striver-A2Z/13-dp.ipynb",
   "output_path": "study/striver-A2Z/13-dp.ipynb",
   "parameters": {},
   "start_time": "2024-05-11T09:06:04.132997",
   "version": "2.6.0"
  }
 },
 "nbformat": 4,
 "nbformat_minor": 5
}
