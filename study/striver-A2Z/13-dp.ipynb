{
 "cells": [
  {
   "cell_type": "markdown",
   "id": "807dd9ee",
   "metadata": {
    "papermill": {
     "duration": 0.008302,
     "end_time": "2024-05-11T17:21:26.882645",
     "exception": false,
     "start_time": "2024-05-11T17:21:26.874343",
     "status": "completed"
    },
    "tags": []
   },
   "source": [
    "Important notes\n",
    "- All subset based problems (non contigous subarrays would have the pick/nopick approach)\n",
    "- To convert a memoization solution to tabulation:\n",
    "  1. Find the base case and assign the the DP\n",
    "  2. Start iterating from the base case all the way to our starting point\n",
    "  3. Return the value at the starting point\n",
    "- We can space optimize a tabulation solution whenever we see only the prev/next rows being used in the tabualation solution.\n",
    "- Time complexity of unmemoized DP code is typically exponential O(number of branches ** N)\n",
    "- All subsets problem involve recursion trying all combinations: Pick, no pick\n",
    "- For problems where there is an infinite supply, take would increase total but remain at the same index.\n",
    "- For problems involving counts, we try all possb combinations and base case would either return 1 or 0."
   ]
  },
  {
   "cell_type": "markdown",
   "id": "457ab51f",
   "metadata": {
    "papermill": {
     "duration": 0.007525,
     "end_time": "2024-05-11T17:21:26.898527",
     "exception": false,
     "start_time": "2024-05-11T17:21:26.891002",
     "status": "completed"
    },
    "tags": []
   },
   "source": [
    "### Some important imports"
   ]
  },
  {
   "cell_type": "code",
   "execution_count": 1,
   "id": "164d751b",
   "metadata": {
    "execution": {
     "iopub.execute_input": "2024-05-11T17:21:26.914359Z",
     "iopub.status.busy": "2024-05-11T17:21:26.913989Z",
     "iopub.status.idle": "2024-05-11T17:21:26.919390Z",
     "shell.execute_reply": "2024-05-11T17:21:26.918969Z"
    },
    "lines_to_next_cell": 1,
    "papermill": {
     "duration": 0.014607,
     "end_time": "2024-05-11T17:21:26.920538",
     "exception": false,
     "start_time": "2024-05-11T17:21:26.905931",
     "status": "completed"
    },
    "tags": []
   },
   "outputs": [],
   "source": [
    "import functools\n",
    "import itertools\n",
    "import collections\n",
    "import math\n",
    "import heapq"
   ]
  },
  {
   "cell_type": "markdown",
   "id": "48648354",
   "metadata": {
    "papermill": {
     "duration": 0.007447,
     "end_time": "2024-05-11T17:21:26.935504",
     "exception": false,
     "start_time": "2024-05-11T17:21:26.928057",
     "status": "completed"
    },
    "tags": []
   },
   "source": [
    "Introduction to DP: https://youtu.be/tyB0ztf0DNY?si=SgpBwGNqPXzdPSRA\n",
    "1. Tabulation: Bottom up DP: Ans -> Base case -> Ans\n",
    "2. Memoization: Top down DP: Base case -> Ans"
   ]
  },
  {
   "cell_type": "code",
   "execution_count": 2,
   "id": "41c46591",
   "metadata": {
    "execution": {
     "iopub.execute_input": "2024-05-11T17:21:26.951457Z",
     "iopub.status.busy": "2024-05-11T17:21:26.950998Z",
     "iopub.status.idle": "2024-05-11T17:21:26.957163Z",
     "shell.execute_reply": "2024-05-11T17:21:26.956733Z"
    },
    "lines_to_next_cell": 1,
    "papermill": {
     "duration": 0.015256,
     "end_time": "2024-05-11T17:21:26.958208",
     "exception": false,
     "start_time": "2024-05-11T17:21:26.942952",
     "status": "completed"
    },
    "tags": []
   },
   "outputs": [
    {
     "data": {
      "text/plain": [
       "55"
      ]
     },
     "execution_count": 2,
     "metadata": {},
     "output_type": "execute_result"
    }
   ],
   "source": [
    "def fiboBrute(n: int) -> int:\n",
    "    \"\"\"\n",
    "    Vanilla recursion\n",
    "    Time: O(2 ^ N), Space: O(2 ^ N)\n",
    "    \"\"\"\n",
    "    if n <= 1:\n",
    "        return n\n",
    "    else:\n",
    "        return fiboBrute(n - 1) + fiboBrute(n - 2)\n",
    "\n",
    "fiboBrute(10)"
   ]
  },
  {
   "cell_type": "code",
   "execution_count": 3,
   "id": "83ba7cd5",
   "metadata": {
    "execution": {
     "iopub.execute_input": "2024-05-11T17:21:26.974623Z",
     "iopub.status.busy": "2024-05-11T17:21:26.974147Z",
     "iopub.status.idle": "2024-05-11T17:21:26.979391Z",
     "shell.execute_reply": "2024-05-11T17:21:26.978981Z"
    },
    "lines_to_next_cell": 1,
    "papermill": {
     "duration": 0.01465,
     "end_time": "2024-05-11T17:21:26.980526",
     "exception": false,
     "start_time": "2024-05-11T17:21:26.965876",
     "status": "completed"
    },
    "tags": []
   },
   "outputs": [
    {
     "data": {
      "text/plain": [
       "55"
      ]
     },
     "execution_count": 3,
     "metadata": {},
     "output_type": "execute_result"
    }
   ],
   "source": [
    "def fiboBetter1(n: int) -> int:\n",
    "    \"\"\"\n",
    "    Memoization Approach: Top down approach\n",
    "    Time: O(N), Space: O(N) + O(N)\n",
    "    \"\"\"\n",
    "    dp: list[int] = [-1 for i in range(n + 1)]\n",
    "    def backtrack(curr: int) -> int:\n",
    "        if curr <= 1:\n",
    "            return curr\n",
    "        elif dp[curr] != -1:\n",
    "            return dp[curr]\n",
    "        else:\n",
    "            dp[curr] = backtrack(curr - 1) + backtrack(curr - 2)\n",
    "            return dp[curr]\n",
    "\n",
    "    return backtrack(n)\n",
    "\n",
    "fiboBetter1(10)"
   ]
  },
  {
   "cell_type": "code",
   "execution_count": 4,
   "id": "80fded7e",
   "metadata": {
    "execution": {
     "iopub.execute_input": "2024-05-11T17:21:26.996963Z",
     "iopub.status.busy": "2024-05-11T17:21:26.996542Z",
     "iopub.status.idle": "2024-05-11T17:21:27.001581Z",
     "shell.execute_reply": "2024-05-11T17:21:27.001045Z"
    },
    "lines_to_next_cell": 1,
    "papermill": {
     "duration": 0.014315,
     "end_time": "2024-05-11T17:21:27.002607",
     "exception": false,
     "start_time": "2024-05-11T17:21:26.988292",
     "status": "completed"
    },
    "tags": []
   },
   "outputs": [
    {
     "data": {
      "text/plain": [
       "55"
      ]
     },
     "execution_count": 4,
     "metadata": {},
     "output_type": "execute_result"
    }
   ],
   "source": [
    "def fiboBetter2(n: int) -> int:\n",
    "    \"\"\"\n",
    "    Tabulation: Bottom up approach\n",
    "    Time: O(N), Space: O(N)\n",
    "    \"\"\"\n",
    "    dp: list[int] = [-1 if i > 1 else i for i in range(n + 1)]\n",
    "    for i in range(2, n + 1):\n",
    "        dp[i] = dp[i - 1] + dp[i - 2]\n",
    "\n",
    "    return dp[n]\n",
    "\n",
    "fiboBetter2(10)"
   ]
  },
  {
   "cell_type": "code",
   "execution_count": 5,
   "id": "8f7d86e2",
   "metadata": {
    "execution": {
     "iopub.execute_input": "2024-05-11T17:21:27.019349Z",
     "iopub.status.busy": "2024-05-11T17:21:27.018903Z",
     "iopub.status.idle": "2024-05-11T17:21:27.023652Z",
     "shell.execute_reply": "2024-05-11T17:21:27.023113Z"
    },
    "lines_to_next_cell": 1,
    "papermill": {
     "duration": 0.014252,
     "end_time": "2024-05-11T17:21:27.024751",
     "exception": false,
     "start_time": "2024-05-11T17:21:27.010499",
     "status": "completed"
    },
    "tags": []
   },
   "outputs": [
    {
     "data": {
      "text/plain": [
       "55"
      ]
     },
     "execution_count": 5,
     "metadata": {},
     "output_type": "execute_result"
    }
   ],
   "source": [
    "def fiboOptimal(n: int) -> int:\n",
    "    \"\"\"\n",
    "    Bottom up approach\n",
    "    Time: O(N), Space: O(1)\n",
    "    \"\"\"\n",
    "    prev2, prev1 = 0, 1\n",
    "    for i in range(2, n + 1):\n",
    "        prev2, prev1 = prev1, prev1 + prev2\n",
    "        n -= 1\n",
    "\n",
    "    return prev1\n",
    "\n",
    "fiboOptimal(10)"
   ]
  },
  {
   "cell_type": "markdown",
   "id": "855c35fb",
   "metadata": {
    "papermill": {
     "duration": 0.007747,
     "end_time": "2024-05-11T17:21:27.040336",
     "exception": false,
     "start_time": "2024-05-11T17:21:27.032589",
     "status": "completed"
    },
    "tags": []
   },
   "source": [
    "Climbing Stairs: https://leetcode.com/problems/climbing-stairs/\n",
    "Video Link: https://youtu.be/mLfjzJsN8us?si=C7W-jiYvql0mEnbh"
   ]
  },
  {
   "cell_type": "code",
   "execution_count": 6,
   "id": "87993489",
   "metadata": {
    "execution": {
     "iopub.execute_input": "2024-05-11T17:21:27.056739Z",
     "iopub.status.busy": "2024-05-11T17:21:27.056411Z",
     "iopub.status.idle": "2024-05-11T17:21:27.060234Z",
     "shell.execute_reply": "2024-05-11T17:21:27.059753Z"
    },
    "lines_to_next_cell": 1,
    "papermill": {
     "duration": 0.013336,
     "end_time": "2024-05-11T17:21:27.061407",
     "exception": false,
     "start_time": "2024-05-11T17:21:27.048071",
     "status": "completed"
    },
    "tags": []
   },
   "outputs": [],
   "source": [
    "def climbStairsBetter(n: int) -> int:\n",
    "    \"\"\"Time: O(N), Space: O(N)\"\"\"\n",
    "\n",
    "    dp: list[int] = [-1 for i in range(n + 1)]\n",
    "    def backtrack(curr: int) -> int:\n",
    "        if curr <= 1:\n",
    "            return 1\n",
    "        elif dp[curr] != -1:\n",
    "            return dp[curr]\n",
    "        else:\n",
    "            dp[curr] = backtrack(curr - 1) + backtrack(curr - 2)\n",
    "            return dp[curr]\n",
    "\n",
    "    return backtrack(n)\n",
    "\n",
    "assert climbStairsBetter(45) == 1836311903"
   ]
  },
  {
   "cell_type": "code",
   "execution_count": 7,
   "id": "2dc15ac3",
   "metadata": {
    "execution": {
     "iopub.execute_input": "2024-05-11T17:21:27.078260Z",
     "iopub.status.busy": "2024-05-11T17:21:27.077908Z",
     "iopub.status.idle": "2024-05-11T17:21:27.081176Z",
     "shell.execute_reply": "2024-05-11T17:21:27.080737Z"
    },
    "lines_to_next_cell": 1,
    "papermill": {
     "duration": 0.012699,
     "end_time": "2024-05-11T17:21:27.082170",
     "exception": false,
     "start_time": "2024-05-11T17:21:27.069471",
     "status": "completed"
    },
    "tags": []
   },
   "outputs": [],
   "source": [
    "def climbStairs(n: int) -> int:\n",
    "    \"\"\"Time: O(N), Space: O(1)\"\"\"\n",
    "    prev2, prev1 = 1, 1\n",
    "    while n > 0:\n",
    "        prev2, prev1 = prev1, prev1 + prev2\n",
    "        n -= 1\n",
    "\n",
    "    return prev2\n",
    "\n",
    "assert climbStairs(45) == 1836311903"
   ]
  },
  {
   "cell_type": "markdown",
   "id": "3cd4d88c",
   "metadata": {
    "papermill": {
     "duration": 0.007692,
     "end_time": "2024-05-11T17:21:27.097722",
     "exception": false,
     "start_time": "2024-05-11T17:21:27.090030",
     "status": "completed"
    },
    "tags": []
   },
   "source": [
    "Video link: https://youtu.be/EgG3jsGoPvQ?si=Cm5AVvq_zCnr-w6q\n",
    "Frog Jump: 1"
   ]
  },
  {
   "cell_type": "code",
   "execution_count": 8,
   "id": "59c27b1e",
   "metadata": {
    "execution": {
     "iopub.execute_input": "2024-05-11T17:21:27.114061Z",
     "iopub.status.busy": "2024-05-11T17:21:27.113694Z",
     "iopub.status.idle": "2024-05-11T17:21:27.118362Z",
     "shell.execute_reply": "2024-05-11T17:21:27.117918Z"
    },
    "lines_to_next_cell": 1,
    "papermill": {
     "duration": 0.014027,
     "end_time": "2024-05-11T17:21:27.119445",
     "exception": false,
     "start_time": "2024-05-11T17:21:27.105418",
     "status": "completed"
    },
    "tags": []
   },
   "outputs": [],
   "source": [
    "def frogJumpBetter(N: int, heights: list[int]) -> int:\n",
    "    \"\"\"\n",
    "    Time: O(N), Space: O(N) + O(N)\n",
    "    \"\"\"\n",
    "\n",
    "    @functools.cache\n",
    "    def backtrack(curr: int) -> int:\n",
    "        if curr == N - 1:\n",
    "            return 0\n",
    "        elif curr == N - 2:\n",
    "            return abs(heights[N - 1] - heights[N - 2])\n",
    "        else:\n",
    "            jump1 = abs(heights[curr] - heights[curr + 1]) + backtrack(curr + 1)\n",
    "            jump2 = abs(heights[curr] - heights[curr + 2]) + backtrack(curr + 2)\n",
    "            return min(jump1, jump2)\n",
    "\n",
    "    return backtrack(0)\n",
    "\n",
    "# Testing the solution\n",
    "assert frogJumpBetter(4, [10,20,30,10]) == 20\n",
    "assert frogJumpBetter(3, [10,50,10]) == 0"
   ]
  },
  {
   "cell_type": "code",
   "execution_count": 9,
   "id": "2bc52e04",
   "metadata": {
    "execution": {
     "iopub.execute_input": "2024-05-11T17:21:27.136245Z",
     "iopub.status.busy": "2024-05-11T17:21:27.135744Z",
     "iopub.status.idle": "2024-05-11T17:21:27.139951Z",
     "shell.execute_reply": "2024-05-11T17:21:27.139493Z"
    },
    "lines_to_next_cell": 1,
    "papermill": {
     "duration": 0.013588,
     "end_time": "2024-05-11T17:21:27.140994",
     "exception": false,
     "start_time": "2024-05-11T17:21:27.127406",
     "status": "completed"
    },
    "tags": []
   },
   "outputs": [],
   "source": [
    "def frogJumpOptimal(N: int, heights: list[int]) -> int:\n",
    "    \"Time: O(N), Space: O(1)\"\n",
    "    jump1, jump2 = abs(heights[-2] - heights[-1]), 0\n",
    "    for i in range(N - 3, -1, -1):\n",
    "        curr = min(abs(heights[i] - heights[i + 1]) + jump1, abs(heights[i] - heights[i + 2]) + jump2)\n",
    "        jump1, jump2 = curr, jump1\n",
    "\n",
    "    return jump1\n",
    "\n",
    "assert frogJumpOptimal(4, [10,20,30,10]) == 20\n",
    "assert frogJumpOptimal(3, [10,50,10]) == 0"
   ]
  },
  {
   "cell_type": "markdown",
   "id": "4fa38d19",
   "metadata": {
    "papermill": {
     "duration": 0.007751,
     "end_time": "2024-05-11T17:21:27.156612",
     "exception": false,
     "start_time": "2024-05-11T17:21:27.148861",
     "status": "completed"
    },
    "tags": []
   },
   "source": [
    "Video Link: https://youtu.be/Kmh3rhyEtB8?si=rqZ5-pJcjIzWU5i8\n",
    "Frog Jump with K distance"
   ]
  },
  {
   "cell_type": "code",
   "execution_count": 10,
   "id": "f21ca119",
   "metadata": {
    "execution": {
     "iopub.execute_input": "2024-05-11T17:21:27.173051Z",
     "iopub.status.busy": "2024-05-11T17:21:27.172622Z",
     "iopub.status.idle": "2024-05-11T17:21:27.177034Z",
     "shell.execute_reply": "2024-05-11T17:21:27.176600Z"
    },
    "lines_to_next_cell": 1,
    "papermill": {
     "duration": 0.013672,
     "end_time": "2024-05-11T17:21:27.178027",
     "exception": false,
     "start_time": "2024-05-11T17:21:27.164355",
     "status": "completed"
    },
    "tags": []
   },
   "outputs": [],
   "source": [
    "def frogJumpAtKDistBetter1(N: int, K: int, heights: list[int]) -> int:\n",
    "    \"\"\"\n",
    "    Memoization Approach: Top Down Approach\n",
    "    Time: O(N x K), Space: O(N) + O(N)\n",
    "    \"\"\"\n",
    "\n",
    "    @functools.cache\n",
    "    def backtrack(curr: int) -> int:\n",
    "        if curr >= N - 1:\n",
    "            return 0\n",
    "        else:\n",
    "            minCost = math.inf\n",
    "            for next_ in range(curr + 1, min(N, curr + K + 1)):\n",
    "                cost = abs(heights[curr] - heights[next_]) + backtrack(next_)\n",
    "                minCost = min(minCost, cost)\n",
    "\n",
    "            return int(minCost)\n",
    "\n",
    "    return backtrack(0)\n",
    "\n",
    "# Testing the solution\n",
    "assert frogJumpAtKDistBetter1(5, 3, [10,30,40,50,20]) == 30\n",
    "assert frogJumpAtKDistBetter1(3, 1, [10,20,10]) == 20"
   ]
  },
  {
   "cell_type": "code",
   "execution_count": 11,
   "id": "1b9a86c0",
   "metadata": {
    "execution": {
     "iopub.execute_input": "2024-05-11T17:21:27.194486Z",
     "iopub.status.busy": "2024-05-11T17:21:27.194075Z",
     "iopub.status.idle": "2024-05-11T17:21:27.198621Z",
     "shell.execute_reply": "2024-05-11T17:21:27.198187Z"
    },
    "lines_to_next_cell": 1,
    "papermill": {
     "duration": 0.013951,
     "end_time": "2024-05-11T17:21:27.199709",
     "exception": false,
     "start_time": "2024-05-11T17:21:27.185758",
     "status": "completed"
    },
    "tags": []
   },
   "outputs": [],
   "source": [
    "def frogJumpAtKDistBetter2(N: int, K: int, heights: list[int]) -> int:\n",
    "    \"\"\"\n",
    "    Tabulation: Bottom up approach\n",
    "    Time: O(N x K), Space: O(N)\n",
    "    \"\"\"\n",
    "\n",
    "    dp: list[int] = [-1 for i in range(N)]\n",
    "    dp[-1] = 0\n",
    "\n",
    "    for curr in range(N - 2, -1, -1):\n",
    "        minCost = math.inf\n",
    "        for next_ in range(curr + 1, min(N, curr + K + 1)):\n",
    "            cost = abs(heights[curr] - heights[next_]) + dp[next_]\n",
    "            minCost = min(minCost, cost)\n",
    "        dp[curr] = int(minCost)\n",
    "\n",
    "    return dp[0]\n",
    "\n",
    "# Testing the solution\n",
    "assert frogJumpAtKDistBetter2(5, 3, [10,30,40,50,20]) == 30\n",
    "assert frogJumpAtKDistBetter2(3, 1, [10,20,10]) == 20"
   ]
  },
  {
   "cell_type": "code",
   "execution_count": 12,
   "id": "09ca5d18",
   "metadata": {
    "execution": {
     "iopub.execute_input": "2024-05-11T17:21:27.216420Z",
     "iopub.status.busy": "2024-05-11T17:21:27.215960Z",
     "iopub.status.idle": "2024-05-11T17:21:27.220808Z",
     "shell.execute_reply": "2024-05-11T17:21:27.220254Z"
    },
    "lines_to_next_cell": 1,
    "papermill": {
     "duration": 0.01427,
     "end_time": "2024-05-11T17:21:27.221823",
     "exception": false,
     "start_time": "2024-05-11T17:21:27.207553",
     "status": "completed"
    },
    "tags": []
   },
   "outputs": [],
   "source": [
    "def frogJumpAtKDist(N: int, K: int, heights: list[int]) -> int:\n",
    "    \"\"\"\n",
    "    Tabulation: Bottom up approach\n",
    "    Time: O(N x K), Space: O(K)\n",
    "    \"\"\"\n",
    "\n",
    "    dp: collections.deque[int] = collections.deque([0])\n",
    "    for curr in range(N - 2, -1, -1):\n",
    "        minCost = math.inf\n",
    "        for jump in range(1, min(N - curr, K + 1)):\n",
    "            next_ = curr + jump\n",
    "            cost = abs(heights[curr] - heights[next_]) + dp[jump - 1]\n",
    "            minCost = min(minCost, cost)\n",
    "\n",
    "        dp.appendleft(int(minCost))\n",
    "        if len(dp) > K:\n",
    "            dp.pop()\n",
    "\n",
    "    return dp[0]\n",
    "\n",
    "# Testing the solution\n",
    "assert frogJumpAtKDist(5, 3, [10,30,40,50,20]) == 30\n",
    "assert frogJumpAtKDist(3, 1, [10,20,10]) == 20"
   ]
  },
  {
   "cell_type": "markdown",
   "id": "259d53f8",
   "metadata": {
    "papermill": {
     "duration": 0.00793,
     "end_time": "2024-05-11T17:21:27.237695",
     "exception": false,
     "start_time": "2024-05-11T17:21:27.229765",
     "status": "completed"
    },
    "tags": []
   },
   "source": [
    "Maximum sum of Non Adjacent Elements: House Robber\n",
    "Video Link: https://youtu.be/GrMBfJNk_NY?si=IPuGJglc0axETveU"
   ]
  },
  {
   "cell_type": "code",
   "execution_count": 13,
   "id": "89d8dea7",
   "metadata": {
    "execution": {
     "iopub.execute_input": "2024-05-11T17:21:27.255090Z",
     "iopub.status.busy": "2024-05-11T17:21:27.254923Z",
     "iopub.status.idle": "2024-05-11T17:21:27.258592Z",
     "shell.execute_reply": "2024-05-11T17:21:27.258165Z"
    },
    "lines_to_next_cell": 1,
    "papermill": {
     "duration": 0.014204,
     "end_time": "2024-05-11T17:21:27.259626",
     "exception": false,
     "start_time": "2024-05-11T17:21:27.245422",
     "status": "completed"
    },
    "tags": []
   },
   "outputs": [],
   "source": [
    "def robMemo(nums: list[int]) -> int:\n",
    "    \"\"\"\n",
    "    Memoization: Top down approach\n",
    "    Time: O(N), Space: O(N)\n",
    "    \"\"\"\n",
    "\n",
    "    @functools.cache\n",
    "    def backtrack(curr: int) -> int:\n",
    "        if curr >= N:\n",
    "            return 0\n",
    "        else:\n",
    "            return max(backtrack(curr + 1), nums[curr] + backtrack(curr + 2))\n",
    "\n",
    "    N = len(nums)\n",
    "    return backtrack(0)\n",
    "\n",
    "# Testing the solution\n",
    "assert robMemo([2,7,9,3,1]) == 12"
   ]
  },
  {
   "cell_type": "code",
   "execution_count": 14,
   "id": "e69063ac",
   "metadata": {
    "execution": {
     "iopub.execute_input": "2024-05-11T17:21:27.276088Z",
     "iopub.status.busy": "2024-05-11T17:21:27.275927Z",
     "iopub.status.idle": "2024-05-11T17:21:27.279839Z",
     "shell.execute_reply": "2024-05-11T17:21:27.279373Z"
    },
    "lines_to_next_cell": 1,
    "papermill": {
     "duration": 0.013339,
     "end_time": "2024-05-11T17:21:27.280845",
     "exception": false,
     "start_time": "2024-05-11T17:21:27.267506",
     "status": "completed"
    },
    "tags": []
   },
   "outputs": [],
   "source": [
    "def robTab(nums: list[int]) -> int:\n",
    "    \"\"\"\n",
    "    Tabulation: Bottom up approach\n",
    "    Time: O(N), Space: O(N)\n",
    "    \"\"\"\n",
    "    N = len(nums)\n",
    "    dp: list[int] = [-1 for i in range(N + 1)]\n",
    "    dp[-1], dp[-2] = 0, nums[-1]\n",
    "    for curr in range(N - 2, -1, -1):\n",
    "        dp[curr] = max(nums[curr] + dp[curr + 2], dp[curr + 1])\n",
    "\n",
    "    return dp[0]\n",
    "\n",
    "# Testing the solution\n",
    "assert robTab([2,7,9,3,1]) == 12"
   ]
  },
  {
   "cell_type": "code",
   "execution_count": 15,
   "id": "d3ac1b1c",
   "metadata": {
    "execution": {
     "iopub.execute_input": "2024-05-11T17:21:27.297173Z",
     "iopub.status.busy": "2024-05-11T17:21:27.296979Z",
     "iopub.status.idle": "2024-05-11T17:21:27.300623Z",
     "shell.execute_reply": "2024-05-11T17:21:27.300187Z"
    },
    "lines_to_next_cell": 1,
    "papermill": {
     "duration": 0.012992,
     "end_time": "2024-05-11T17:21:27.301623",
     "exception": false,
     "start_time": "2024-05-11T17:21:27.288631",
     "status": "completed"
    },
    "tags": []
   },
   "outputs": [],
   "source": [
    "# https://leetcode.com/problems/house-robber/submissions/1249841355/\n",
    "def robSpaceOptimized(nums: list[int]) -> int:\n",
    "    \"Time: O(N), Space: O(1)\"\n",
    "    next1 = next2 = 0\n",
    "    for curr in range(len(nums) - 1, -1, -1):\n",
    "        next1, next2 = max(nums[curr] + next2, next1), next1\n",
    "\n",
    "    return next1\n",
    "\n",
    "assert robSpaceOptimized([2,7,9,3,1]) == 12"
   ]
  },
  {
   "cell_type": "markdown",
   "id": "630eec21",
   "metadata": {
    "papermill": {
     "duration": 0.007831,
     "end_time": "2024-05-11T17:21:27.317364",
     "exception": false,
     "start_time": "2024-05-11T17:21:27.309533",
     "status": "completed"
    },
    "tags": []
   },
   "source": [
    "House Robber 2: https://youtu.be/3WaxQMELSkw?si=i9oGKnDJGJxvUjbu\n",
    "https://leetcode.com/problems/house-robber-ii/submissions/1249888930"
   ]
  },
  {
   "cell_type": "code",
   "execution_count": 16,
   "id": "3ee7a5cf",
   "metadata": {
    "execution": {
     "iopub.execute_input": "2024-05-11T17:21:27.333994Z",
     "iopub.status.busy": "2024-05-11T17:21:27.333660Z",
     "iopub.status.idle": "2024-05-11T17:21:27.337804Z",
     "shell.execute_reply": "2024-05-11T17:21:27.337297Z"
    },
    "lines_to_next_cell": 1,
    "papermill": {
     "duration": 0.013679,
     "end_time": "2024-05-11T17:21:27.338905",
     "exception": false,
     "start_time": "2024-05-11T17:21:27.325226",
     "status": "completed"
    },
    "tags": []
   },
   "outputs": [],
   "source": [
    "def rob2(nums: list[int]) -> int:\n",
    "    \"\"\"\n",
    "    Ans cannot contain both the first and the last house.\n",
    "    It can contain either the first or the last house.\n",
    "    \"\"\"\n",
    "    def rob(arr: list[int]) -> int:\n",
    "        next1 = next2 = 0\n",
    "        for curr in range(len(arr) - 1, -1, -1):\n",
    "            next1, next2 = max(arr[curr] + next2, next1), next1\n",
    "\n",
    "        return next1\n",
    "\n",
    "    return max(rob(nums[1:]), rob(nums[:-1])) if len(nums) > 1 else sum(nums)\n",
    "\n",
    "# Testing the solution\n",
    "assert rob2([1,2,3,1]) == 4\n",
    "assert rob2([]) == 0"
   ]
  },
  {
   "cell_type": "markdown",
   "id": "52745498",
   "metadata": {
    "papermill": {
     "duration": 0.007818,
     "end_time": "2024-05-11T17:21:27.354704",
     "exception": false,
     "start_time": "2024-05-11T17:21:27.346886",
     "status": "completed"
    },
    "tags": []
   },
   "source": [
    "Ninja's Training: https://youtu.be/AE39gJYuRog?si=n4BhCotno-9chP5j"
   ]
  },
  {
   "cell_type": "code",
   "execution_count": 17,
   "id": "c814dc79",
   "metadata": {
    "execution": {
     "iopub.execute_input": "2024-05-11T17:21:27.371332Z",
     "iopub.status.busy": "2024-05-11T17:21:27.370889Z",
     "iopub.status.idle": "2024-05-11T17:21:27.376059Z",
     "shell.execute_reply": "2024-05-11T17:21:27.375619Z"
    },
    "lines_to_next_cell": 1,
    "papermill": {
     "duration": 0.014565,
     "end_time": "2024-05-11T17:21:27.377103",
     "exception": false,
     "start_time": "2024-05-11T17:21:27.362538",
     "status": "completed"
    },
    "tags": []
   },
   "outputs": [],
   "source": [
    "def ninjaTrainingBetter(N: int, points: list[list[int]]) -> int:\n",
    "    \"\"\"\n",
    "    Memoization: Top down approach\n",
    "\n",
    "    Time: O(N), Space: O(N) + O(N)\n",
    "    \"\"\"\n",
    "\n",
    "    @functools.cache\n",
    "    def backtrack(i: int, j: int) -> int:\n",
    "        if i == N:\n",
    "            return 0\n",
    "        else:\n",
    "            max_ = -math.inf\n",
    "            for k in range(3):\n",
    "                if k != j:\n",
    "                    max_ = max(max_, points[i][k] + backtrack(i + 1, k))\n",
    "\n",
    "            return int(max_)\n",
    "\n",
    "    return backtrack(0, -1)\n",
    "\n",
    "# Testing the solution\n",
    "assert ninjaTrainingBetter(3, [[10,40,70], [20,50,80], [30,60,90]]) == 210\n",
    "assert ninjaTrainingBetter(3, [[1,2,5], [3,1,1], [3,3,3]]) == 11\n",
    "assert ninjaTrainingBetter(2, [[10,50,1], [5,100,11]]) == 110"
   ]
  },
  {
   "cell_type": "code",
   "execution_count": 18,
   "id": "015e9458",
   "metadata": {
    "execution": {
     "iopub.execute_input": "2024-05-11T17:21:27.393703Z",
     "iopub.status.busy": "2024-05-11T17:21:27.393421Z",
     "iopub.status.idle": "2024-05-11T17:21:27.398817Z",
     "shell.execute_reply": "2024-05-11T17:21:27.398371Z"
    },
    "lines_to_next_cell": 1,
    "papermill": {
     "duration": 0.014903,
     "end_time": "2024-05-11T17:21:27.399878",
     "exception": false,
     "start_time": "2024-05-11T17:21:27.384975",
     "status": "completed"
    },
    "tags": []
   },
   "outputs": [],
   "source": [
    "def ninjaTraining(N: int, points: list[list[int]]) -> int:\n",
    "    \"\"\"\n",
    "    Space optimized Tabulation DP: Bottom up\n",
    "\n",
    "    Start at the last day.\n",
    "    At each day we sum up corresponding values with the values in DP and assign them to DP.\n",
    "    Before moving the prev day, to the DP perform this op -> dp[i] = max(dp[j]) where j != i\n",
    "\n",
    "    At the end of the iteration simply return max of DP.\n",
    "\n",
    "    Time: O(N), Space: O(1)\n",
    "    \"\"\"\n",
    "\n",
    "    dp: list[int] = [0, 0, 0]\n",
    "    for i in range(N - 1, -1, -1):\n",
    "        for j in range(3):\n",
    "            dp[j] += points[i][j]\n",
    "\n",
    "        next_dp: list[int] = []\n",
    "        for j in range(3):\n",
    "            next_dp.append(max(dp[k] for k in range(3) if k != j))\n",
    "\n",
    "        dp = next_dp\n",
    "\n",
    "    return max(dp)\n",
    "\n",
    "# Testing the solution\n",
    "assert ninjaTraining(3, [[10,40,70], [20,50,80], [30,60,90]]) == 210\n",
    "assert ninjaTraining(3, [[1,2,5], [3,1,1], [3,3,3]]) == 11\n",
    "assert ninjaTraining(2, [[10,50,1], [5,100,11]]) == 110"
   ]
  },
  {
   "cell_type": "markdown",
   "id": "d132fa58",
   "metadata": {
    "papermill": {
     "duration": 0.007751,
     "end_time": "2024-05-11T17:21:27.415486",
     "exception": false,
     "start_time": "2024-05-11T17:21:27.407735",
     "status": "completed"
    },
    "tags": []
   },
   "source": [
    "Unique 2D paths: https://youtu.be/sdE0A2Oxofw?si=g1FpuSIYx0x95G-7\n",
    "https://leetcode.com/problems/unique-paths/"
   ]
  },
  {
   "cell_type": "code",
   "execution_count": 19,
   "id": "d035c9d7",
   "metadata": {
    "execution": {
     "iopub.execute_input": "2024-05-11T17:21:27.432088Z",
     "iopub.status.busy": "2024-05-11T17:21:27.431665Z",
     "iopub.status.idle": "2024-05-11T17:21:27.436020Z",
     "shell.execute_reply": "2024-05-11T17:21:27.435506Z"
    },
    "lines_to_next_cell": 1,
    "papermill": {
     "duration": 0.013717,
     "end_time": "2024-05-11T17:21:27.437006",
     "exception": false,
     "start_time": "2024-05-11T17:21:27.423289",
     "status": "completed"
    },
    "tags": []
   },
   "outputs": [],
   "source": [
    "def uniquePathsMemo(m: int, n: int) -> int:\n",
    "    \"\"\"\n",
    "    Memoization Solution: Top Down\n",
    "    Time: O(m x n), Space: O(m x n) + O(m x n)\n",
    "    \"\"\"\n",
    "    @functools.cache\n",
    "    def backtrack(i: int, j: int) -> int:\n",
    "        if i == m - 1 and j == n - 1:\n",
    "            return 1\n",
    "        elif i >= m or j >= n:\n",
    "            return 0\n",
    "        else:\n",
    "            return backtrack(i + 1, j) + backtrack(i, j + 1)\n",
    "\n",
    "    return backtrack(0, 0)\n",
    "\n",
    "# Testing the solution\n",
    "assert uniquePathsMemo(3, 7) == 28\n",
    "assert uniquePathsMemo(3, 2) == 3"
   ]
  },
  {
   "cell_type": "code",
   "execution_count": 20,
   "id": "c3fb756d",
   "metadata": {
    "execution": {
     "iopub.execute_input": "2024-05-11T17:21:27.453342Z",
     "iopub.status.busy": "2024-05-11T17:21:27.453008Z",
     "iopub.status.idle": "2024-05-11T17:21:27.456810Z",
     "shell.execute_reply": "2024-05-11T17:21:27.456360Z"
    },
    "lines_to_next_cell": 1,
    "papermill": {
     "duration": 0.013083,
     "end_time": "2024-05-11T17:21:27.457834",
     "exception": false,
     "start_time": "2024-05-11T17:21:27.444751",
     "status": "completed"
    },
    "tags": []
   },
   "outputs": [],
   "source": [
    "# https://leetcode.com/problems/unique-paths/submissions/1250526713\n",
    "def uniquePathsTab(m: int, n: int) -> int:\n",
    "    \"Time: O(m x n), Space: O(min(m, n))\"\n",
    "    M, N = min(m, n), max(m, n)\n",
    "    dp: list[int] = [1 for i in range(M)]\n",
    "\n",
    "    for i in range(N - 1):\n",
    "        for j in range(M - 2, -1, -1):\n",
    "            dp[j] += dp[j + 1]\n",
    "\n",
    "    return dp[0]\n",
    "\n",
    "# Testing the solution\n",
    "assert uniquePathsTab(3, 7) == 28\n",
    "assert uniquePathsTab(3, 2) == 3"
   ]
  },
  {
   "cell_type": "markdown",
   "id": "bb22f54a",
   "metadata": {
    "papermill": {
     "duration": 0.007879,
     "end_time": "2024-05-11T17:21:27.473626",
     "exception": false,
     "start_time": "2024-05-11T17:21:27.465747",
     "status": "completed"
    },
    "tags": []
   },
   "source": [
    "Video link: https://youtu.be/TmhpgXScLyY?si=M_FfFKRqRTXid4Jj\n",
    "Unique Paths - ii: https://leetcode.com/problems/unique-paths-ii/submissions/1250615914"
   ]
  },
  {
   "cell_type": "code",
   "execution_count": 21,
   "id": "f59a530c",
   "metadata": {
    "execution": {
     "iopub.execute_input": "2024-05-11T17:21:27.504703Z",
     "iopub.status.busy": "2024-05-11T17:21:27.504210Z",
     "iopub.status.idle": "2024-05-11T17:21:27.509194Z",
     "shell.execute_reply": "2024-05-11T17:21:27.508766Z"
    },
    "lines_to_next_cell": 1,
    "papermill": {
     "duration": 0.028853,
     "end_time": "2024-05-11T17:21:27.510257",
     "exception": false,
     "start_time": "2024-05-11T17:21:27.481404",
     "status": "completed"
    },
    "tags": []
   },
   "outputs": [],
   "source": [
    "def uniquePathsWithObstacles(obstacleGrid: list[list[int]]) -> int:\n",
    "    \"Time: O(M x N), Space: O(N)\"\n",
    "    M, N = len(obstacleGrid), len(obstacleGrid[0])\n",
    "\n",
    "    dp: list[int] = [0 for j in range(N)]\n",
    "    dp[-1] = 1\n",
    "\n",
    "    for i in range(M - 1, -1, -1):\n",
    "        for j in range(N - 1, -1, -1):\n",
    "            if obstacleGrid[i][j] == 0:\n",
    "                dp[j] = dp[j] + dp[j + 1] if j < N - 1 else dp[j]\n",
    "            else:\n",
    "                dp[j] = 0\n",
    "\n",
    "    return dp[0]\n",
    "\n",
    "# Testing the solution\n",
    "assert uniquePathsWithObstacles([[0,0,0],[0,1,0],[0,0,0]]) == 2\n",
    "assert uniquePathsWithObstacles([[0,1],[0,0]]) == 1\n",
    "assert uniquePathsWithObstacles([[1]]) == 0"
   ]
  },
  {
   "cell_type": "markdown",
   "id": "93e28e9b",
   "metadata": {
    "papermill": {
     "duration": 0.007777,
     "end_time": "2024-05-11T17:21:27.525904",
     "exception": false,
     "start_time": "2024-05-11T17:21:27.518127",
     "status": "completed"
    },
    "tags": []
   },
   "source": [
    "Minimum Path Sum: https://youtu.be/_rgTlyky1uQ?si=3xJY7MmVg5tTEW5Q\n",
    "https://leetcode.com/problems/minimum-path-sum/submissions/1250633614"
   ]
  },
  {
   "cell_type": "code",
   "execution_count": 22,
   "id": "c97f7ce9",
   "metadata": {
    "execution": {
     "iopub.execute_input": "2024-05-11T17:21:27.542498Z",
     "iopub.status.busy": "2024-05-11T17:21:27.542077Z",
     "iopub.status.idle": "2024-05-11T17:21:27.546651Z",
     "shell.execute_reply": "2024-05-11T17:21:27.546229Z"
    },
    "lines_to_next_cell": 1,
    "papermill": {
     "duration": 0.01411,
     "end_time": "2024-05-11T17:21:27.547764",
     "exception": false,
     "start_time": "2024-05-11T17:21:27.533654",
     "status": "completed"
    },
    "tags": []
   },
   "outputs": [],
   "source": [
    "def minPathSum(grid: list[list[int]]) -> int:\n",
    "    \"Time: O(M x N), Space: O(N)\"\n",
    "    M, N = len(grid), len(grid[0])\n",
    "\n",
    "    # Initialize DP\n",
    "    dp: list[float] = [math.inf for j in range(N)]\n",
    "    dp[-1] = 0\n",
    "\n",
    "    # DP Solution\n",
    "    for i in range(M - 1, -1, -1):\n",
    "        for j in range(N - 1, -1, -1):\n",
    "            dp[j] = grid[i][j] + (min(dp[j + 1], dp[j]) if j < N - 1 else dp[j])\n",
    "\n",
    "    return int(dp[0])\n",
    "\n",
    "# Testing the solution\n",
    "assert minPathSum([[1,3,1],[1,5,1],[4,2,1]]) == 7\n",
    "assert minPathSum([[1,2,3],[4,5,6]]) == 12"
   ]
  },
  {
   "cell_type": "markdown",
   "id": "107526ff",
   "metadata": {
    "papermill": {
     "duration": 0.007857,
     "end_time": "2024-05-11T17:21:27.563467",
     "exception": false,
     "start_time": "2024-05-11T17:21:27.555610",
     "status": "completed"
    },
    "tags": []
   },
   "source": [
    "Video Link: https://youtu.be/0bHoB32fuj0?si=5UHeArKmLvTVpbrk\n",
    "Triangle: https://leetcode.com/problems/triangle/submissions/1251774955/"
   ]
  },
  {
   "cell_type": "code",
   "execution_count": 23,
   "id": "62387041",
   "metadata": {
    "execution": {
     "iopub.execute_input": "2024-05-11T17:21:27.580244Z",
     "iopub.status.busy": "2024-05-11T17:21:27.579926Z",
     "iopub.status.idle": "2024-05-11T17:21:27.584279Z",
     "shell.execute_reply": "2024-05-11T17:21:27.583811Z"
    },
    "lines_to_next_cell": 1,
    "papermill": {
     "duration": 0.013921,
     "end_time": "2024-05-11T17:21:27.585283",
     "exception": false,
     "start_time": "2024-05-11T17:21:27.571362",
     "status": "completed"
    },
    "tags": []
   },
   "outputs": [],
   "source": [
    "def minimumTotal(triangle: list[list[int]]) -> int:\n",
    "    \"\"\"Time: O(N x N), Space: O(N)\"\"\"\n",
    "    N = len(triangle)\n",
    "    dp: list[int] = [0 for i in range(N + 1)]\n",
    "\n",
    "    while N > 0:\n",
    "        next_: list[int] = []\n",
    "        for i in range(N):\n",
    "            next_.append(min(dp[i], dp[i + 1]) + triangle[N - 1][i])\n",
    "        dp = next_\n",
    "        N -= 1\n",
    "\n",
    "    return dp[0]\n",
    "\n",
    "# Testing the solution\n",
    "assert minimumTotal([[2],[3,4],[6,5,7],[4,1,8,3]]) == 11\n",
    "assert minimumTotal([[-10]]) == -10"
   ]
  },
  {
   "cell_type": "markdown",
   "id": "51332104",
   "metadata": {
    "papermill": {
     "duration": 0.007827,
     "end_time": "2024-05-11T17:21:27.600901",
     "exception": false,
     "start_time": "2024-05-11T17:21:27.593074",
     "status": "completed"
    },
    "tags": []
   },
   "source": [
    "Video Link: https://youtu.be/N_aJ5qQbYA0?si=LTME1YI3hqtU8u8_\n",
    "Maximum Falling path sum\n",
    "We cannot apply greedy algorithms here because there is no uniformity mentioned. Uniformity implies how the numbers are distributed.\n",
    "For eg:\n",
    "```\n",
    "1   2  3    4\n",
    "10  1  100  1\n",
    "1   2  5    0\n",
    "```\n",
    "In the above example from (0, 0), if we greedily chose (1, 0) - we would miss out on 100 at (1, 2). \n",
    "If suppose we were told that the numbers were arranged in ascending or descending order we can greedily pick a path"
   ]
  },
  {
   "cell_type": "code",
   "execution_count": 24,
   "id": "4f9fb3eb",
   "metadata": {
    "execution": {
     "iopub.execute_input": "2024-05-11T17:21:27.617485Z",
     "iopub.status.busy": "2024-05-11T17:21:27.617054Z",
     "iopub.status.idle": "2024-05-11T17:21:27.622407Z",
     "shell.execute_reply": "2024-05-11T17:21:27.621977Z"
    },
    "lines_to_next_cell": 1,
    "papermill": {
     "duration": 0.014806,
     "end_time": "2024-05-11T17:21:27.623462",
     "exception": false,
     "start_time": "2024-05-11T17:21:27.608656",
     "status": "completed"
    },
    "tags": []
   },
   "outputs": [],
   "source": [
    "def getMaxPathSumBetter(matrix: list[list[int]]):\n",
    "    \"\"\"\n",
    "    With memoization:\n",
    "    Time complexity: O(3 ^ N)\n",
    "\n",
    "    Memoization Approach: Top Down\n",
    "    Time: O(N x M), Space: O(N x M) + O(N x M)\n",
    "    \"\"\"\n",
    "    M, N = len(matrix), len(matrix[0])\n",
    "\n",
    "    @functools.cache\n",
    "    def backtrack(i: int = 0, j: int = 0) -> float:\n",
    "        if i >= M:\n",
    "            return 0\n",
    "        elif j < 0 or j >= N:\n",
    "            return -math.inf\n",
    "        else:\n",
    "            return matrix[i][j] + max(backtrack(i + 1, j - 1), backtrack(i + 1, j), backtrack(i + 1, j + 1))\n",
    "\n",
    "    maxPathSum = -math.inf\n",
    "    for j in range(N):\n",
    "        maxPathSum = max(maxPathSum, backtrack(0, j))\n",
    "\n",
    "    return int(maxPathSum)\n",
    "\n",
    "# Testing the solution\n",
    "assert getMaxPathSumBetter([[1,2,10,4],[100,3,2,1],[1,1,20,2],[1,2,2,1]]) == 105\n",
    "assert getMaxPathSumBetter([[10,2,3],[3,7,2],[8,1,5]]) == 25"
   ]
  },
  {
   "cell_type": "code",
   "execution_count": 25,
   "id": "b3cf95be",
   "metadata": {
    "execution": {
     "iopub.execute_input": "2024-05-11T17:21:27.640144Z",
     "iopub.status.busy": "2024-05-11T17:21:27.639734Z",
     "iopub.status.idle": "2024-05-11T17:21:27.644842Z",
     "shell.execute_reply": "2024-05-11T17:21:27.644400Z"
    },
    "lines_to_next_cell": 1,
    "papermill": {
     "duration": 0.014585,
     "end_time": "2024-05-11T17:21:27.645922",
     "exception": false,
     "start_time": "2024-05-11T17:21:27.631337",
     "status": "completed"
    },
    "tags": []
   },
   "outputs": [],
   "source": [
    "def getMaxPathSum(matrix: list[list[int]]):\n",
    "    \"\"\"\n",
    "    Space optimized DP: Bottom up\n",
    "    Time: O(M x N), Space: O(N)\n",
    "    \"\"\"\n",
    "    M, N = len(matrix), len(matrix[0])\n",
    "\n",
    "    dp: list[float] = [0 for i in range(N)]\n",
    "    i = M - 1\n",
    "    while i >= 0:\n",
    "        next_: list[float] = []\n",
    "        for j in range(N):\n",
    "            next_.append(matrix[i][j] + max(dp[j - 1] if j - 1 >= 0 else -math.inf, dp[j], dp[j + 1] if j + 1 < N else -math.inf))\n",
    "\n",
    "        dp = next_\n",
    "        i -= 1\n",
    "\n",
    "    return max(dp)\n",
    "\n",
    "# Testing the solution\n",
    "assert getMaxPathSum([[1,2,10,4],[100,3,2,1],[1,1,20,2],[1,2,2,1]]) == 105\n",
    "assert getMaxPathSum([[10,2,3],[3,7,2],[8,1,5]]) == 25"
   ]
  },
  {
   "cell_type": "markdown",
   "id": "703cdb9d",
   "metadata": {
    "papermill": {
     "duration": 0.007878,
     "end_time": "2024-05-11T17:21:27.661715",
     "exception": false,
     "start_time": "2024-05-11T17:21:27.653837",
     "status": "completed"
    },
    "tags": []
   },
   "source": [
    "Cherry Pickup: 2: https://leetcode.com/problems/cherry-pickup-ii/\n",
    "Video Link: https://youtu.be/QGfn7JeXK54?si=2K0Lz9iKN_IxLUDN"
   ]
  },
  {
   "cell_type": "code",
   "execution_count": 26,
   "id": "d82f0e5d",
   "metadata": {
    "execution": {
     "iopub.execute_input": "2024-05-11T17:21:27.678410Z",
     "iopub.status.busy": "2024-05-11T17:21:27.677990Z",
     "iopub.status.idle": "2024-05-11T17:21:27.684854Z",
     "shell.execute_reply": "2024-05-11T17:21:27.684324Z"
    },
    "lines_to_next_cell": 1,
    "papermill": {
     "duration": 0.016372,
     "end_time": "2024-05-11T17:21:27.685974",
     "exception": false,
     "start_time": "2024-05-11T17:21:27.669602",
     "status": "completed"
    },
    "tags": []
   },
   "outputs": [],
   "source": [
    "def cherryPickupMemo(grid: list[list[int]]) -> int:\n",
    "    \"\"\"\n",
    "    Without memoization, time complexity: O(3 ^ M * 3 ^ M)\n",
    "\n",
    "    Space complexity is definitely improved with using @functools.cache, using list here to illustrate.\n",
    "    Time: O (M x N x N), Space: O (M x N x N)\n",
    "\n",
    "    To figure out the dp size, simply check how many parameters are chaning. Here we have an i, j1, j2 and hence dp is a 3D Matrix.\n",
    "    \"\"\"\n",
    "    M, N = len(grid), len(grid[0])\n",
    "    dp: list[list[list[float]]] = [[[-1 for k in range(N)] for j in range(N)] for i in range(M)]\n",
    "\n",
    "    def backtrack(i: int, j1: int, j2: int) -> float:\n",
    "        if j1 < 0 or j2 < 0 or j1 >= N or j2 >= N or j1 == j2:\n",
    "            return -math.inf\n",
    "        elif i > M - 1:\n",
    "            return 0\n",
    "        elif dp[i][j1][j2] != -1:\n",
    "            return dp[i][j1][j2]\n",
    "        else:\n",
    "            next_picked = -math.inf\n",
    "            for j1_offset in range(-1, 2):\n",
    "                for j2_offset in range(-1, 2):\n",
    "                    next_picked = max(next_picked, backtrack(i + 1, j1 + j1_offset, j2 + j2_offset))\n",
    "\n",
    "            dp[i][j1][j2] = grid[i][j1] + grid[i][j2] + next_picked\n",
    "            return dp[i][j1][j2]\n",
    "\n",
    "    result = int(backtrack(0, 0, N - 1))\n",
    "    return result\n",
    "\n",
    "# Testing the solution\n",
    "assert cherryPickupMemo([[1,0,0,0,0,0,1],[2,0,0,0,0,3,0],[2,0,9,0,0,0,0],[0,3,0,5,4,0,0],[1,0,2,3,0,0,6]]) == 28"
   ]
  },
  {
   "cell_type": "code",
   "execution_count": 27,
   "id": "85c88b05",
   "metadata": {
    "execution": {
     "iopub.execute_input": "2024-05-11T17:21:27.702777Z",
     "iopub.status.busy": "2024-05-11T17:21:27.702301Z",
     "iopub.status.idle": "2024-05-11T17:21:27.709421Z",
     "shell.execute_reply": "2024-05-11T17:21:27.708905Z"
    },
    "lines_to_next_cell": 1,
    "papermill": {
     "duration": 0.016507,
     "end_time": "2024-05-11T17:21:27.710399",
     "exception": false,
     "start_time": "2024-05-11T17:21:27.693892",
     "status": "completed"
    },
    "tags": []
   },
   "outputs": [],
   "source": [
    "def cherryPickupTab(grid: list[list[int]]) -> int:\n",
    "    \"\"\"\n",
    "    Simply start with the base case. Move bottom up.\n",
    "    \"\"\"\n",
    "    M, N = len(grid), len(grid[0])\n",
    "\n",
    "    # Initialize DP with the base case\n",
    "    dp: list[list[list[float]]] = [[[0 for k in range(N)] for j in range(N)] for i in range(M)]\n",
    "    for j1 in range(N):\n",
    "        for j2 in range(N):\n",
    "            dp[-1][j1][j2] = grid[-1][j1] + grid[-1][j2] if j1 != j2 else grid[-1][j1]\n",
    "\n",
    "    # i, j1, j2: (0 - M), (0 - N), (0 - N)\n",
    "    for i in range(M - 2, -1, -1):\n",
    "        for j1 in range(N):\n",
    "            for j2 in range(N):\n",
    "                max_: float = -math.inf\n",
    "                curr = grid[i][j1] + grid[i][j2] if j1 != j2 else grid[i][j1]\n",
    "                for j1_offset in range(-1, 2):\n",
    "                    for j2_offset in range(-1, 2):\n",
    "                        if 0 <= j1 + j1_offset < N and 0 <= j2 + j2_offset < N:\n",
    "                            max_ = max(max_, dp[i + 1][j1 + j1_offset][j2 + j2_offset])\n",
    "\n",
    "                dp[i][j1][j2] = max(-1, max_ + curr)\n",
    "\n",
    "    return int(dp[0][0][-1])\n",
    "\n",
    "# Testing the solution\n",
    "assert cherryPickupTab([[1,0,0,0,0,0,1],[2,0,0,0,0,3,0],[2,0,9,0,0,0,0],[0,3,0,5,4,0,0],[1,0,2,3,0,0,6]]) == 28"
   ]
  },
  {
   "cell_type": "code",
   "execution_count": 28,
   "id": "e2fdb650",
   "metadata": {
    "execution": {
     "iopub.execute_input": "2024-05-11T17:21:27.726806Z",
     "iopub.status.busy": "2024-05-11T17:21:27.726443Z",
     "iopub.status.idle": "2024-05-11T17:21:27.732907Z",
     "shell.execute_reply": "2024-05-11T17:21:27.732490Z"
    },
    "lines_to_next_cell": 1,
    "papermill": {
     "duration": 0.015853,
     "end_time": "2024-05-11T17:21:27.733969",
     "exception": false,
     "start_time": "2024-05-11T17:21:27.718116",
     "status": "completed"
    },
    "tags": []
   },
   "outputs": [],
   "source": [
    "def cherryPickupSpaceOptimized(grid: list[list[int]]) -> int:\n",
    "    M, N = len(grid), len(grid[0])\n",
    "    dp: list[list[float]] = [[grid[-1][j1] + grid[-1][j2] if j1 != j2 else grid[-1][j1] for j1 in range(N)] for j2 in range(N)]\n",
    "\n",
    "    for i in range(M - 2, -1, -1):\n",
    "        dp_next: list[list[float]] = []\n",
    "        for j1 in range(N):\n",
    "            dp_next.append([])\n",
    "            for j2 in range(N):\n",
    "                max_: float = -math.inf\n",
    "                curr = grid[i][j1] + grid[i][j2] if j1 != j2 else grid[i][j1]\n",
    "                for j1_offset in range(-1, 2):\n",
    "                    for j2_offset in range(-1, 2):\n",
    "                        if 0 <= j1 + j1_offset < N and 0 <= j2 + j2_offset < N:\n",
    "                            max_ = max(max_, dp[j1 + j1_offset][j2 + j2_offset])\n",
    "\n",
    "                dp_next[j1].append(curr + max_)\n",
    "        dp = dp_next\n",
    "\n",
    "    return int(dp[0][-1])\n",
    "\n",
    "# Testing the solution\n",
    "assert cherryPickupSpaceOptimized([[1,0,0,0,0,0,1],[2,0,0,0,0,3,0],[2,0,9,0,0,0,0],[0,3,0,5,4,0,0],[1,0,2,3,0,0,6]]) == 28"
   ]
  },
  {
   "cell_type": "markdown",
   "id": "17816765",
   "metadata": {
    "papermill": {
     "duration": 0.007709,
     "end_time": "2024-05-11T17:21:27.749450",
     "exception": false,
     "start_time": "2024-05-11T17:21:27.741741",
     "status": "completed"
    },
    "tags": []
   },
   "source": [
    "Subset sum equals target\n",
    "Video Link: https://youtu.be/fWX9xDmIzRI?si=jb2Tgvw_E0Tyk1Pj"
   ]
  },
  {
   "cell_type": "code",
   "execution_count": 29,
   "id": "4f37d7b7",
   "metadata": {
    "execution": {
     "iopub.execute_input": "2024-05-11T17:21:27.766122Z",
     "iopub.status.busy": "2024-05-11T17:21:27.765718Z",
     "iopub.status.idle": "2024-05-11T17:21:27.770847Z",
     "shell.execute_reply": "2024-05-11T17:21:27.770416Z"
    },
    "lines_to_next_cell": 1,
    "papermill": {
     "duration": 0.014544,
     "end_time": "2024-05-11T17:21:27.771852",
     "exception": false,
     "start_time": "2024-05-11T17:21:27.757308",
     "status": "completed"
    },
    "tags": []
   },
   "outputs": [],
   "source": [
    "def isSubsetSumMemo(N: int, arr: list[int], target: int) -> int:\n",
    "    \"\"\"\n",
    "    For cases where subset exists, the recursion would stop early. For the negative cases, we would get overlapping subproblems and\n",
    "    hence memoization would help decrease the time complexity.\n",
    "\n",
    "    Time without memoization: O(2 ^ N), Space: O(N)\n",
    "    With memoization: O(N x target), Space: O(N x target) + O(N)\n",
    "    \"\"\"\n",
    "\n",
    "    dp: list[list[int]] = [[-1 for j in range(target + 1)] for i in range(N)]\n",
    "    def backtrack(i: int, total: int) -> bool:\n",
    "        if total == 0:\n",
    "            return True\n",
    "        elif total < 0 or i > N - 1:\n",
    "            return False\n",
    "        elif dp[i][total] != -1:\n",
    "            return bool(dp[i][total])\n",
    "        else:\n",
    "            result = backtrack(i + 1, total - arr[i]) or backtrack(i + 1, total)\n",
    "            dp[i][total] = int(result)\n",
    "            return result\n",
    "\n",
    "    return backtrack(0, target)\n",
    "\n",
    "# Testing the solution\n",
    "assert isSubsetSumMemo(6, [3, 34, 4, 12, 5, 2], 9) == True\n",
    "assert isSubsetSumMemo(6, [3, 34, 4, 12, 5, 2], 30) == False"
   ]
  },
  {
   "cell_type": "code",
   "execution_count": 30,
   "id": "5551c36b",
   "metadata": {
    "execution": {
     "iopub.execute_input": "2024-05-11T17:21:27.788393Z",
     "iopub.status.busy": "2024-05-11T17:21:27.788200Z",
     "iopub.status.idle": "2024-05-11T17:21:27.793705Z",
     "shell.execute_reply": "2024-05-11T17:21:27.793212Z"
    },
    "lines_to_next_cell": 1,
    "papermill": {
     "duration": 0.015046,
     "end_time": "2024-05-11T17:21:27.794744",
     "exception": false,
     "start_time": "2024-05-11T17:21:27.779698",
     "status": "completed"
    },
    "tags": []
   },
   "outputs": [
    {
     "name": "stdout",
     "output_type": "stream",
     "text": [
      "[[1, 0, 1, 1, 1, 1, 1, 1, 1, 1], [1, 0, 1, 0, 1, 1, 1, 1, 0, 1], [1, 0, 1, 0, 1, 1, 1, 1, 0, 1], [1, 0, 1, 0, 0, 1, 0, 1, 0, 0], [1, 0, 1, 0, 0, 1, 0, 1, 0, 0], [1, 0, 1, 0, 0, 0, 0, 0, 0, 0], [1, 0, 0, 0, 0, 0, 0, 0, 0, 0]]\n",
      "[[1, 0, 1, 1, 1, 1, 1, 1, 1, 1, 1, 1, 1, 0, 1, 1, 1, 1, 1, 1, 1, 1, 1, 1, 1, 0, 1, 0, 0, 0, 0], [1, 0, 1, 0, 1, 1, 1, 1, 0, 1, 0, 1, 1, 0, 1, 0, 1, 1, 1, 1, 0, 1, 0, 1, 0, 0, 0, 0, 0, 0, 0], [1, 0, 1, 0, 1, 1, 1, 1, 0, 1, 0, 1, 1, 0, 1, 0, 1, 1, 1, 1, 0, 1, 0, 1, 0, 0, 0, 0, 0, 0, 0], [1, 0, 1, 0, 0, 1, 0, 1, 0, 0, 0, 0, 1, 0, 1, 0, 0, 1, 0, 1, 0, 0, 0, 0, 0, 0, 0, 0, 0, 0, 0], [1, 0, 1, 0, 0, 1, 0, 1, 0, 0, 0, 0, 0, 0, 0, 0, 0, 0, 0, 0, 0, 0, 0, 0, 0, 0, 0, 0, 0, 0, 0], [1, 0, 1, 0, 0, 0, 0, 0, 0, 0, 0, 0, 0, 0, 0, 0, 0, 0, 0, 0, 0, 0, 0, 0, 0, 0, 0, 0, 0, 0, 0], [1, 0, 0, 0, 0, 0, 0, 0, 0, 0, 0, 0, 0, 0, 0, 0, 0, 0, 0, 0, 0, 0, 0, 0, 0, 0, 0, 0, 0, 0, 0]]\n"
     ]
    }
   ],
   "source": [
    "def isSubsetSumTab(N: int, arr: list[int], target: int) -> bool:\n",
    "    \"\"\"\n",
    "    Each cell in the dp represents -> If total - arr[i] is true down the line.\n",
    "    Note that dp[i][0] is always true, since if the target is to be 0 regardless of arr[i] tehn subsetSumTarget is possible.\n",
    "    \"\"\"\n",
    "    dp: list[list[int]] = [[1 if j == 0 else -1 if i < N else 0 for j in range(target + 1)] for i in range(N + 1)]\n",
    "\n",
    "    for i in range(N - 1, -1, -1):\n",
    "        for total in range(1, target + 1):\n",
    "            if dp[i + 1][total] == 1 or (total - arr[i] >= 0 and dp[i + 1][total - arr[i]] == 1):\n",
    "                dp[i][total] = 1\n",
    "            else:\n",
    "                dp[i][total] = 0\n",
    "\n",
    "    print(dp)\n",
    "    return bool(dp[0][target])\n",
    "\n",
    "# Testing the solution\n",
    "assert isSubsetSumTab(6, [3, 34, 4, 12, 5, 2], 9) == True\n",
    "assert isSubsetSumTab(6, [3, 34, 4, 12, 5, 2], 30) == False"
   ]
  },
  {
   "cell_type": "code",
   "execution_count": 31,
   "id": "ca80b369",
   "metadata": {
    "execution": {
     "iopub.execute_input": "2024-05-11T17:21:27.811787Z",
     "iopub.status.busy": "2024-05-11T17:21:27.811402Z",
     "iopub.status.idle": "2024-05-11T17:21:27.816347Z",
     "shell.execute_reply": "2024-05-11T17:21:27.815814Z"
    },
    "lines_to_next_cell": 1,
    "papermill": {
     "duration": 0.01457,
     "end_time": "2024-05-11T17:21:27.817362",
     "exception": false,
     "start_time": "2024-05-11T17:21:27.802792",
     "status": "completed"
    },
    "tags": []
   },
   "outputs": [],
   "source": [
    "def isSubsetSumSpaceOptimized(N: int, arr: list[int], target: int) -> bool:\n",
    "    \"Time: O(N x target), Space: O(target)\"\n",
    "    dp: list[int] = [0 if j > 0 else 1 for j in range(target + 1)]\n",
    "\n",
    "    for i in range(N - 1, -1, -1):\n",
    "        next_: list[int] = []\n",
    "        for total in range(target + 1):\n",
    "            if total == 0 or dp[total] == 1 or (total - arr[i] >= 0 and dp[total - arr[i]] == 1):\n",
    "                next_.append(1)\n",
    "            else:\n",
    "                next_.append(0)\n",
    "\n",
    "        dp = next_\n",
    "\n",
    "    return bool(dp[target])\n",
    "\n",
    "# Testing the solution\n",
    "assert isSubsetSumSpaceOptimized(6, [3, 34, 4, 12, 5, 2], 9) == True\n",
    "assert isSubsetSumSpaceOptimized(6, [3, 34, 4, 12, 5, 2], 30) == False"
   ]
  },
  {
   "cell_type": "markdown",
   "id": "7a10f4ca",
   "metadata": {
    "papermill": {
     "duration": 0.00794,
     "end_time": "2024-05-11T17:21:27.833357",
     "exception": false,
     "start_time": "2024-05-11T17:21:27.825417",
     "status": "completed"
    },
    "tags": []
   },
   "source": [
    "Partition equal subset sum: https://leetcode.com/problems/partition-equal-subset-sum/\n",
    "Video Link: https://youtu.be/7win3dcgo3k?si=LJO4Ot4EZzQ2fRc0"
   ]
  },
  {
   "cell_type": "code",
   "execution_count": 32,
   "id": "373088cf",
   "metadata": {
    "execution": {
     "iopub.execute_input": "2024-05-11T17:21:27.850222Z",
     "iopub.status.busy": "2024-05-11T17:21:27.849905Z",
     "iopub.status.idle": "2024-05-11T17:21:27.854942Z",
     "shell.execute_reply": "2024-05-11T17:21:27.854441Z"
    },
    "lines_to_next_cell": 1,
    "papermill": {
     "duration": 0.01473,
     "end_time": "2024-05-11T17:21:27.856061",
     "exception": false,
     "start_time": "2024-05-11T17:21:27.841331",
     "status": "completed"
    },
    "tags": []
   },
   "outputs": [],
   "source": [
    "# https://leetcode.com/problems/partition-equal-subset-sum/submissions/1253314239\n",
    "def canPartition(nums: list[int]) -> bool:\n",
    "    def subsetSumEqualsTarget(target: int) -> bool:\n",
    "        \"Time: O(N x target), Space: O(target)\"\n",
    "        dp: list[bool] = [False if i > 0 else True for i in range(target + 1)]\n",
    "        for i in range(N - 1, -1, -1):\n",
    "            next_: list[bool] = []\n",
    "            for total in range(target + 1):\n",
    "                if total == 0 or dp[total] or (total - nums[i] >= 0 and dp[total - nums[i]]):\n",
    "                    next_.append(True)\n",
    "                else:\n",
    "                    next_.append(False)\n",
    "\n",
    "            dp = next_\n",
    "\n",
    "        return dp[target]\n",
    "\n",
    "    N = len(nums)\n",
    "    total = sum(nums)\n",
    "    return total % 2 == 0 and subsetSumEqualsTarget(total // 2)\n",
    "\n",
    "# Testing the solution\n",
    "assert canPartition([1,5,11,5]) == True\n",
    "assert canPartition([1,2,3,5]) == False\n",
    "assert canPartition([3,3,3,4,5]) == True"
   ]
  },
  {
   "cell_type": "markdown",
   "id": "56f6a268",
   "metadata": {
    "papermill": {
     "duration": 0.007889,
     "end_time": "2024-05-11T17:21:27.871914",
     "exception": false,
     "start_time": "2024-05-11T17:21:27.864025",
     "status": "completed"
    },
    "tags": []
   },
   "source": [
    "Partition Array Into Two Arrays to Minimize Sum Difference\n",
    "Video link: https://youtu.be/GS_OqZb2CWc?si=Jtc2dP_dqmNi5Zli"
   ]
  },
  {
   "cell_type": "code",
   "execution_count": 33,
   "id": "00588c88",
   "metadata": {
    "execution": {
     "iopub.execute_input": "2024-05-11T17:21:27.888584Z",
     "iopub.status.busy": "2024-05-11T17:21:27.888160Z",
     "iopub.status.idle": "2024-05-11T17:21:27.893160Z",
     "shell.execute_reply": "2024-05-11T17:21:27.892757Z"
    },
    "lines_to_next_cell": 1,
    "papermill": {
     "duration": 0.014388,
     "end_time": "2024-05-11T17:21:27.894175",
     "exception": false,
     "start_time": "2024-05-11T17:21:27.879787",
     "status": "completed"
    },
    "tags": []
   },
   "outputs": [],
   "source": [
    "def minimumDifferenceBrute(nums: list[int]) -> int:\n",
    "    \"\"\"\n",
    "    Throws a TLE :(\n",
    "    \"\"\"\n",
    "    N, total_sum = len(nums), sum(nums)\n",
    "    subset_length = N // 2\n",
    "\n",
    "    @functools.cache\n",
    "    def backtrack(i: int, subset_sum: int, count: int) -> float:\n",
    "        if count == subset_length:\n",
    "            return abs(2 * subset_sum - total_sum)\n",
    "        elif i == N:\n",
    "            return math.inf\n",
    "        else:\n",
    "            return min(backtrack(i + 1, subset_sum + nums[i], count + 1), backtrack(i + 1, subset_sum, count))\n",
    "\n",
    "    result = int(backtrack(0, 0, 0))\n",
    "    return result\n",
    "\n",
    "# Testing the solution\n",
    "assert minimumDifferenceBrute([3,9,7,3]) == 2\n",
    "assert minimumDifferenceBrute([-36,36]) == 72\n",
    "assert minimumDifferenceBrute([2,-1,0,4,-2,-9]) == 0"
   ]
  },
  {
   "cell_type": "code",
   "execution_count": 34,
   "id": "97c34ef1",
   "metadata": {
    "execution": {
     "iopub.execute_input": "2024-05-11T17:21:27.910905Z",
     "iopub.status.busy": "2024-05-11T17:21:27.910475Z",
     "iopub.status.idle": "2024-05-11T17:21:27.917414Z",
     "shell.execute_reply": "2024-05-11T17:21:27.916878Z"
    },
    "lines_to_next_cell": 1,
    "papermill": {
     "duration": 0.016406,
     "end_time": "2024-05-11T17:21:27.918425",
     "exception": false,
     "start_time": "2024-05-11T17:21:27.902019",
     "status": "completed"
    },
    "tags": []
   },
   "outputs": [],
   "source": [
    "def minimumDifference(nums: list[int]) -> int:\n",
    "    \"\"\"\n",
    "    Use the DP tabulation approach we used to check if a subset with target sum exists. Still Memory limit exceeded.\n",
    "    Note that this is different the one on the video. This solution is leetcode specific. In the video by Striver, the values can only be positive. Further more we can split into any size.\n",
    "    In LC however, the subset must be split into 2 halves, values can be both positive and negative.\n",
    "    \"\"\"\n",
    "\n",
    "    N, total_abs_sum, total_sum = len(nums), sum(map(abs, nums)), sum(nums)\n",
    "\n",
    "    # Each value represents the length of subset summing up to target. -1 if cannot be reached.\n",
    "    dp: list[int] = [-1 if j != 0 else 0 for j in range(-total_abs_sum, total_abs_sum + 1)]\n",
    "\n",
    "    for i in range(N - 1, -1, -1):\n",
    "        next_dp: list[int] = []\n",
    "        for target in range(-total_abs_sum, total_abs_sum + 1):\n",
    "            # Pick, subset length incremented by 1\n",
    "            if 0 <= target - nums[i] + total_abs_sum <= 2 * total_abs_sum and dp[target - nums[i] + total_abs_sum] != -1:\n",
    "                subset_length = dp[target - nums[i] + total_abs_sum] + 1\n",
    "                existing_length = dp[target + total_abs_sum]\n",
    "                next_dp.append(subset_length if existing_length != N // 2 else existing_length)\n",
    "            # No pick, hence subset length is unupdated\n",
    "            elif dp[target + total_abs_sum] != -1:\n",
    "                next_dp.append(dp[target + total_abs_sum])\n",
    "            # Base case\n",
    "            elif target == 0:\n",
    "                next_dp.append(0)\n",
    "            # Sum cannot be reached\n",
    "            else:\n",
    "                next_dp.append(-1)\n",
    "\n",
    "        dp = next_dp\n",
    "\n",
    "    # Find out targets where value is N // 2\n",
    "    min_diff: float = math.inf\n",
    "    for subset_sum, subset_length in enumerate(dp, start=-total_abs_sum):\n",
    "        if subset_length == N // 2:\n",
    "            min_diff = min(min_diff, abs(2 * subset_sum - total_sum))\n",
    "\n",
    "    return int(min_diff)\n",
    "\n",
    "# Testing the solution\n",
    "assert minimumDifference([3,9,7,3]) == 2\n",
    "assert minimumDifference([-36,36]) == 72\n",
    "assert minimumDifference([2,-1,0,4,-2,-9]) == 0"
   ]
  },
  {
   "cell_type": "code",
   "execution_count": 35,
   "id": "54752ee1",
   "metadata": {
    "execution": {
     "iopub.execute_input": "2024-05-11T17:21:27.935437Z",
     "iopub.status.busy": "2024-05-11T17:21:27.935001Z",
     "iopub.status.idle": "2024-05-11T17:21:27.940139Z",
     "shell.execute_reply": "2024-05-11T17:21:27.939593Z"
    },
    "lines_to_next_cell": 1,
    "papermill": {
     "duration": 0.014695,
     "end_time": "2024-05-11T17:21:27.941142",
     "exception": false,
     "start_time": "2024-05-11T17:21:27.926447",
     "status": "completed"
    },
    "tags": []
   },
   "outputs": [],
   "source": [
    "def minSubsetSumDifference(arr: list[int], N: int) -> int:\n",
    "    # Compute max total sum\n",
    "    total_sum: int = sum(arr)\n",
    "\n",
    "    # Compute DP grid for all possible subset sums\n",
    "    dp: list[bool] = [False if i > 0 else True for i in range(total_sum + 1)]\n",
    "    for i in range(N - 1, -1, -1):\n",
    "        next_dp: list[bool] = []\n",
    "        for target in range(total_sum + 1):\n",
    "            if target == 0 or dp[target] or (target - arr[i] >= 0 and dp[target - arr[i]]):\n",
    "                next_dp.append(True)\n",
    "            else:\n",
    "                next_dp.append(False)\n",
    "        dp = next_dp\n",
    "\n",
    "    # Compute the minimum subset difference\n",
    "    min_diff: int = total_sum\n",
    "\n",
    "    # total_sum / 2 since it is enough if we computed one half, diff of sum from total sum would cover the other half as well\n",
    "    for target in range(math.ceil(total_sum / 2) + 1):\n",
    "        if dp[target]:\n",
    "            min_diff = min(min_diff, abs(2 * target - total_sum))\n",
    "\n",
    "    return min_diff\n",
    "\n",
    "# Testing the solution\n",
    "assert minSubsetSumDifference([8,6,5], 3) == 3"
   ]
  },
  {
   "cell_type": "markdown",
   "id": "884d535e",
   "metadata": {
    "papermill": {
     "duration": 0.007871,
     "end_time": "2024-05-11T17:21:27.956887",
     "exception": false,
     "start_time": "2024-05-11T17:21:27.949016",
     "status": "completed"
    },
    "tags": []
   },
   "source": [
    "Count subsets with sum k"
   ]
  },
  {
   "cell_type": "code",
   "execution_count": 36,
   "id": "534b55bb",
   "metadata": {
    "execution": {
     "iopub.execute_input": "2024-05-11T17:21:27.973470Z",
     "iopub.status.busy": "2024-05-11T17:21:27.973149Z",
     "iopub.status.idle": "2024-05-11T17:21:27.978378Z",
     "shell.execute_reply": "2024-05-11T17:21:27.977959Z"
    },
    "lines_to_next_cell": 1,
    "papermill": {
     "duration": 0.014655,
     "end_time": "2024-05-11T17:21:27.979376",
     "exception": false,
     "start_time": "2024-05-11T17:21:27.964721",
     "status": "completed"
    },
    "tags": []
   },
   "outputs": [],
   "source": [
    "def perfectSumMemo(nums: list[int], N: int, K: int):\n",
    "    \"\"\"\n",
    "    Time: O(N * K) + O(N); Space: O(N * K)\n",
    "    \"\"\"\n",
    "\n",
    "    # Filter out all the zeros\n",
    "    arr: list[int] = []\n",
    "    N = zero_count = 0\n",
    "    for n in nums:\n",
    "        if n > 0:\n",
    "            arr.append(n)\n",
    "            N += 1\n",
    "        else:\n",
    "            zero_count += 1\n",
    "\n",
    "    # Compute the results and store it to a list\n",
    "    dp: list[list[int]] = [[-1 for j in range(K + 1)] for i in range(N)]\n",
    "\n",
    "    # Recursively find the solution\n",
    "    def backtrack(i: int, total: int) -> int:\n",
    "        if total == K:\n",
    "            return 1\n",
    "        elif i >= N or total > K:\n",
    "            return 0\n",
    "        elif dp[i][total] != -1:\n",
    "            return dp[i][total]\n",
    "        else:\n",
    "            result = backtrack(i + 1, total + arr[i]) + backtrack(i + 1, total)\n",
    "            dp[i][total] = result\n",
    "            return result\n",
    "\n",
    "    return backtrack(0, 0) * (2 ** zero_count)\n",
    "\n",
    "# Testing the solution\n",
    "assert perfectSumMemo([5, 2, 3, 10, 6, 8], 6, 10) == 3\n",
    "assert perfectSumMemo([1, 0], 2, 1) == 2"
   ]
  },
  {
   "cell_type": "code",
   "execution_count": 37,
   "id": "dee4da2c",
   "metadata": {
    "execution": {
     "iopub.execute_input": "2024-05-11T17:21:27.995972Z",
     "iopub.status.busy": "2024-05-11T17:21:27.995551Z",
     "iopub.status.idle": "2024-05-11T17:21:28.001190Z",
     "shell.execute_reply": "2024-05-11T17:21:28.000679Z"
    },
    "lines_to_next_cell": 1,
    "papermill": {
     "duration": 0.015097,
     "end_time": "2024-05-11T17:21:28.002291",
     "exception": false,
     "start_time": "2024-05-11T17:21:27.987194",
     "status": "completed"
    },
    "tags": []
   },
   "outputs": [],
   "source": [
    "def perfectSumTabulation(nums: list[int], N: int, K: int):\n",
    "    # Filter out all the zeros\n",
    "    arr: list[int] = []\n",
    "    N = zero_count = 0\n",
    "    for n in nums:\n",
    "        if n > 0:\n",
    "            arr.append(n)\n",
    "            N += 1\n",
    "        else:\n",
    "            zero_count += 1\n",
    "\n",
    "    # Initialize a DP array\n",
    "    dp: list[list[int]] = [[-1 if j < K else 1 for j in range(K + 1)] for i in range(N)]\n",
    "    dp.append([0 if j < K else 1 for j in range(K + 1)])\n",
    "\n",
    "    # Traverse through grid\n",
    "    for i in range(N - 1, -1, -1):\n",
    "        for total in range(K):\n",
    "            dp[i][total] = dp[i + 1][total]\n",
    "            if total + arr[i] <= K:\n",
    "                dp[i][total] += dp[i + 1][total + arr[i]]\n",
    "\n",
    "    return dp[0][0] * (2 ** zero_count)\n",
    "\n",
    "# Testing the solution\n",
    "assert perfectSumTabulation([5, 2, 3, 10, 6, 8], 6, 10) == 3\n",
    "assert perfectSumTabulation([1, 0], 2, 1) == 2"
   ]
  },
  {
   "cell_type": "code",
   "execution_count": 38,
   "id": "2d2468ad",
   "metadata": {
    "execution": {
     "iopub.execute_input": "2024-05-11T17:21:28.019221Z",
     "iopub.status.busy": "2024-05-11T17:21:28.018731Z",
     "iopub.status.idle": "2024-05-11T17:21:28.024028Z",
     "shell.execute_reply": "2024-05-11T17:21:28.023478Z"
    },
    "lines_to_next_cell": 1,
    "papermill": {
     "duration": 0.014881,
     "end_time": "2024-05-11T17:21:28.025127",
     "exception": false,
     "start_time": "2024-05-11T17:21:28.010246",
     "status": "completed"
    },
    "tags": []
   },
   "outputs": [],
   "source": [
    "def perfectSum(nums: list[int], N: int, K: int):\n",
    "    # Filter out all the zeros\n",
    "    arr: list[int] = []\n",
    "    N = zero_count = 0\n",
    "    for n in nums:\n",
    "        if n > 0:\n",
    "            arr.append(n)\n",
    "            N += 1\n",
    "        else:\n",
    "            zero_count += 1\n",
    "\n",
    "    # Initialize a DP array\n",
    "    dp: list[int] = [0 if j < K else 1 for j in range(K + 1)]\n",
    "\n",
    "    # Traverse through grid\n",
    "    for i in range(N - 1, -1, -1):\n",
    "        next_dp: list[int] = []\n",
    "        for total in range(K + 1):\n",
    "            next_dp.append(dp[total])\n",
    "            if total + arr[i] <= K:\n",
    "                next_dp[-1] += dp[total + arr[i]]\n",
    "\n",
    "        dp = next_dp\n",
    "\n",
    "    return dp[0] * (2 ** zero_count)\n",
    "\n",
    "# Testing the solution\n",
    "assert perfectSum([5, 2, 3, 10, 6, 8], 6, 10) == 3\n",
    "assert perfectSum([1, 0], 2, 1) == 2"
   ]
  },
  {
   "cell_type": "markdown",
   "id": "2bff8c7f",
   "metadata": {
    "papermill": {
     "duration": 0.007895,
     "end_time": "2024-05-11T17:21:28.041081",
     "exception": false,
     "start_time": "2024-05-11T17:21:28.033186",
     "status": "completed"
    },
    "tags": []
   },
   "source": [
    "Count Paritions with given difference: https://youtu.be/zoilQD1kYSg?si=F8PFSkzkZXEsFJ2N"
   ]
  },
  {
   "cell_type": "code",
   "execution_count": 39,
   "id": "051bd113",
   "metadata": {
    "execution": {
     "iopub.execute_input": "2024-05-11T17:21:28.057852Z",
     "iopub.status.busy": "2024-05-11T17:21:28.057430Z",
     "iopub.status.idle": "2024-05-11T17:21:28.062250Z",
     "shell.execute_reply": "2024-05-11T17:21:28.061729Z"
    },
    "lines_to_next_cell": 1,
    "papermill": {
     "duration": 0.014436,
     "end_time": "2024-05-11T17:21:28.063302",
     "exception": false,
     "start_time": "2024-05-11T17:21:28.048866",
     "status": "completed"
    },
    "tags": []
   },
   "outputs": [],
   "source": [
    "def countPartitionsMemo(N: int, diff: int, arr: list[int]) -> int:\n",
    "    \"\"\"\n",
    "    s1 + s2 = S\n",
    "    s1 - s2 = d\n",
    "    2 * s1 = S + d\n",
    "\n",
    "    Time: O(N x target) + O(N)\n",
    "    Space: O(N x target)\n",
    "    \"\"\"\n",
    "\n",
    "    # Simply check if the target exists\n",
    "    target = (sum(arr) + diff) / 2\n",
    "\n",
    "    # Count all subset sums equals target\n",
    "    @functools.cache\n",
    "    def backtrack(i: int, total: int) -> int:\n",
    "        if i == N:\n",
    "            return total == target\n",
    "        elif total > target:\n",
    "            return 0\n",
    "        else:\n",
    "            return backtrack(i + 1, total + arr[i]) + backtrack(i + 1, total)\n",
    "\n",
    "    result = backtrack(0, 0) if target == int(target) else 0\n",
    "    MOD = int(1e9 + 7)\n",
    "    return result % MOD\n",
    "\n",
    "# Testing the solution\n",
    "assert countPartitionsMemo(4, 0, [1,1,1,1]) == 6\n",
    "assert countPartitionsMemo(4, 3, [5,2,6,4]) == 1\n",
    "assert countPartitionsMemo(5, 5, [1,3,3,2,1]) == 0"
   ]
  },
  {
   "cell_type": "code",
   "execution_count": 40,
   "id": "4cd9fbc1",
   "metadata": {
    "execution": {
     "iopub.execute_input": "2024-05-11T17:21:28.080296Z",
     "iopub.status.busy": "2024-05-11T17:21:28.079956Z",
     "iopub.status.idle": "2024-05-11T17:21:28.085573Z",
     "shell.execute_reply": "2024-05-11T17:21:28.085122Z"
    },
    "lines_to_next_cell": 1,
    "papermill": {
     "duration": 0.015269,
     "end_time": "2024-05-11T17:21:28.086612",
     "exception": false,
     "start_time": "2024-05-11T17:21:28.071343",
     "status": "completed"
    },
    "tags": []
   },
   "outputs": [],
   "source": [
    "def countPartitionsTabulation(N: int, diff: int, arr: list[int]) -> int:\n",
    "    \"\"\"\n",
    "    Time: O(N x target), Space: O(N x target)\n",
    "    \"\"\"\n",
    "    # Simply check if the target exists\n",
    "    target_: float = (sum(arr) + diff) / 2\n",
    "    MOD = int(1e9 + 7)\n",
    "\n",
    "    if int(target_) != target_:\n",
    "        return 0\n",
    "\n",
    "    else:\n",
    "\n",
    "        # Convert to int for typing support\n",
    "        target = int(target_)\n",
    "\n",
    "        # Initialize DP array for tabulation\n",
    "        dp: list[list[int]] = [[0 if j != target or i != N else 1 for j in range(target + 1)] for i in range(N + 1)]\n",
    "\n",
    "        # Iterate through DP and find the solution\n",
    "        for i in range(N - 1, -1, -1):\n",
    "            for total in range(target + 1):\n",
    "                dp[i][total] = dp[i + 1][total]\n",
    "                if total + arr[i] <= target:\n",
    "                    dp[i][total] += dp[i + 1][total + arr[i]]\n",
    "\n",
    "        return dp[0][0]\n",
    "\n",
    "# Testing the solution\n",
    "assert countPartitionsTabulation(4, 3, [5,2,6,4]) == 1\n",
    "assert countPartitionsTabulation(4, 3, [5,2,6,4]) == 1\n",
    "assert countPartitionsTabulation(5, 5, [1,3,3,2,1]) == 0"
   ]
  },
  {
   "cell_type": "code",
   "execution_count": 41,
   "id": "09aacbe5",
   "metadata": {
    "execution": {
     "iopub.execute_input": "2024-05-11T17:21:28.103350Z",
     "iopub.status.busy": "2024-05-11T17:21:28.102910Z",
     "iopub.status.idle": "2024-05-11T17:21:28.108213Z",
     "shell.execute_reply": "2024-05-11T17:21:28.107665Z"
    },
    "lines_to_next_cell": 1,
    "papermill": {
     "duration": 0.014759,
     "end_time": "2024-05-11T17:21:28.109298",
     "exception": false,
     "start_time": "2024-05-11T17:21:28.094539",
     "status": "completed"
    },
    "tags": []
   },
   "outputs": [],
   "source": [
    "def countPartitions(N: int, diff: int, arr: list[int]) -> int:\n",
    "    # Simply check if the target exists\n",
    "    target_: float = (sum(arr) + diff) / 2\n",
    "    MOD = int(1e9 + 7)\n",
    "\n",
    "    if int(target_) != target_:\n",
    "        return 0\n",
    "\n",
    "    else:\n",
    "        # Convert to int for type hinting\n",
    "        target = int(target_)\n",
    "\n",
    "        # Create a 1D grid (space optimized)\n",
    "        dp: list[int] = [0 if j != target else 1 for j in range(target + 1)]\n",
    "\n",
    "        # Iterate through DP\n",
    "        for i in range(N - 1, -1, -1):\n",
    "            next_dp: list[int] = []\n",
    "            for total in range(target + 1):\n",
    "                next_dp.append(dp[total])\n",
    "                if total + arr[i] <= target:\n",
    "                    next_dp[-1] += dp[total + arr[i]]\n",
    "\n",
    "            dp = next_dp\n",
    "\n",
    "        return dp[0] % MOD\n",
    "\n",
    "# Testing the solution\n",
    "assert countPartitions(4, 3, [5,2,6,4]) == 1\n",
    "assert countPartitions(4, 3, [5,2,6,4]) == 1\n",
    "assert countPartitions(5, 5, [1,3,3,2,1]) == 0"
   ]
  },
  {
   "cell_type": "markdown",
   "id": "db7bdbb0",
   "metadata": {
    "papermill": {
     "duration": 0.00789,
     "end_time": "2024-05-11T17:21:28.125119",
     "exception": false,
     "start_time": "2024-05-11T17:21:28.117229",
     "status": "completed"
    },
    "tags": []
   },
   "source": [
    "Video Link: https://youtu.be/GqOmJHQZivw?si=dHaZZvKQa2PHaukO\n",
    "0/1 Knapsack"
   ]
  },
  {
   "cell_type": "code",
   "execution_count": 42,
   "id": "51fdc55d",
   "metadata": {
    "execution": {
     "iopub.execute_input": "2024-05-11T17:21:28.142080Z",
     "iopub.status.busy": "2024-05-11T17:21:28.141764Z",
     "iopub.status.idle": "2024-05-11T17:21:28.146504Z",
     "shell.execute_reply": "2024-05-11T17:21:28.146073Z"
    },
    "lines_to_next_cell": 1,
    "papermill": {
     "duration": 0.014329,
     "end_time": "2024-05-11T17:21:28.147588",
     "exception": false,
     "start_time": "2024-05-11T17:21:28.133259",
     "status": "completed"
    },
    "tags": []
   },
   "outputs": [],
   "source": [
    "def knapsack01Memo(N: int, max_weight: int, weights: list[int], values: list[int]) -> int:\n",
    "    \"\"\"\n",
    "    Time complexity without memoization: O(2 ** N), Space: O(N).\n",
    "    Post memoization: O(N x max_weight), Space: O(N x max_weight)\n",
    "    \"\"\"\n",
    "    @functools.cache\n",
    "    def backtrack(i: int, total_weight: int) -> float:\n",
    "        \"\"\"\n",
    "        Intuition: Till index i, what is the max value, we can accumulate with max_weight as total_weight.\n",
    "        \"\"\"\n",
    "        if total_weight > max_weight:\n",
    "            return -math.inf\n",
    "        elif i >= N:\n",
    "            return 0\n",
    "        else:\n",
    "            pick = values[i] + backtrack(i + 1, total_weight + weights[i])\n",
    "            nopick = backtrack(i + 1, total_weight)\n",
    "            return max(pick, nopick)\n",
    "\n",
    "    result = backtrack(0, 0)\n",
    "    return int(max(result, 0))\n",
    "\n",
    "# Testing the solution\n",
    "assert knapsack01Memo(4, 5, [1,2,4,5], [5,4,8,6]) == 13\n",
    "assert knapsack01Memo(3, 8, [3,4,5], [30,50,60]) == 90"
   ]
  },
  {
   "cell_type": "code",
   "execution_count": 43,
   "id": "e0b05d00",
   "metadata": {
    "execution": {
     "iopub.execute_input": "2024-05-11T17:21:28.164513Z",
     "iopub.status.busy": "2024-05-11T17:21:28.164131Z",
     "iopub.status.idle": "2024-05-11T17:21:28.169099Z",
     "shell.execute_reply": "2024-05-11T17:21:28.168582Z"
    },
    "lines_to_next_cell": 1,
    "papermill": {
     "duration": 0.014711,
     "end_time": "2024-05-11T17:21:28.170181",
     "exception": false,
     "start_time": "2024-05-11T17:21:28.155470",
     "status": "completed"
    },
    "tags": []
   },
   "outputs": [],
   "source": [
    "def knapsack01Tabulation(N: int, max_weight: int, weights: list[int], values: list[int]) -> int:\n",
    "    dp: list[list[int]] = [[-1 if i < N else 0 for j in range(max_weight + 1)] for i in range(N + 1)]\n",
    "    for i in range(N - 1, -1, -1):\n",
    "        for total_weight in range(max_weight + 1):\n",
    "            # No pick\n",
    "            dp[i][total_weight] = dp[i + 1][total_weight]\n",
    "\n",
    "            # Pick\n",
    "            if total_weight + weights[i] <= max_weight:\n",
    "                dp[i][total_weight] = max(dp[i][total_weight], values[i] + dp[i + 1][total_weight + weights[i]])\n",
    "\n",
    "    return dp[0][0]\n",
    "\n",
    "# Testing the solution\n",
    "assert knapsack01Tabulation(4, 5, [1,2,4,5], [5,4,8,6]) == 13\n",
    "assert knapsack01Tabulation(3, 8, [3,4,5], [30,50,60]) == 90"
   ]
  },
  {
   "cell_type": "code",
   "execution_count": 44,
   "id": "045af9de",
   "metadata": {
    "execution": {
     "iopub.execute_input": "2024-05-11T17:21:28.186830Z",
     "iopub.status.busy": "2024-05-11T17:21:28.186490Z",
     "iopub.status.idle": "2024-05-11T17:21:28.191610Z",
     "shell.execute_reply": "2024-05-11T17:21:28.191161Z"
    },
    "lines_to_next_cell": 1,
    "papermill": {
     "duration": 0.014596,
     "end_time": "2024-05-11T17:21:28.192665",
     "exception": false,
     "start_time": "2024-05-11T17:21:28.178069",
     "status": "completed"
    },
    "tags": []
   },
   "outputs": [],
   "source": [
    "def knapsack01SpaceOptimized(N: int, max_weight: int, weights: list[int], values: list[int]) -> int:\n",
    "    dp: list[int] = [0 for j in range(max_weight + 1)]\n",
    "    for i in range(N - 1, -1, -1):\n",
    "        next_dp: list[int] = []\n",
    "        for total_weight in range(max_weight + 1):\n",
    "            next_dp.append(dp[total_weight]) # No pick\n",
    "            if weights[i] + total_weight <= max_weight:\n",
    "                next_dp[-1] = max(next_dp[-1], values[i] + dp[weights[i] + total_weight]) # Pick\n",
    "        dp = next_dp\n",
    "\n",
    "    return dp[0]\n",
    "\n",
    "# Testing the solution\n",
    "assert knapsack01SpaceOptimized(4, 5, [1,2,4,5], [5,4,8,6]) == 13\n",
    "assert knapsack01SpaceOptimized(3, 8, [3,4,5], [30,50,60]) == 90"
   ]
  },
  {
   "cell_type": "code",
   "execution_count": 45,
   "id": "b6d1c8d2",
   "metadata": {
    "execution": {
     "iopub.execute_input": "2024-05-11T17:21:28.209538Z",
     "iopub.status.busy": "2024-05-11T17:21:28.209117Z",
     "iopub.status.idle": "2024-05-11T17:21:28.213584Z",
     "shell.execute_reply": "2024-05-11T17:21:28.213181Z"
    },
    "lines_to_next_cell": 1,
    "papermill": {
     "duration": 0.013914,
     "end_time": "2024-05-11T17:21:28.214643",
     "exception": false,
     "start_time": "2024-05-11T17:21:28.200729",
     "status": "completed"
    },
    "tags": []
   },
   "outputs": [],
   "source": [
    "def knapsack01(N: int, max_weight: int, weights: list[int], values: list[int]) -> int:\n",
    "    \"\"\"\n",
    "    Space optimization to use just a single row. This is possible because\n",
    "    in the inner loop we are moving from the left to right and at each iteration\n",
    "    we are using the element to the right, we have no need of the element to the left\n",
    "\n",
    "    [x . . . . . . * . . . ]\n",
    "    [. x . . . * . . . . . ]\n",
    "    [. . x . . . . . * . . ]\n",
    "\n",
    "    At the inner loop we had required the value of the element to the left, this would not have been possible.\n",
    "    \"\"\"\n",
    "    dp: list[int] = [0 for j in range(max_weight + 1)]\n",
    "    for i in range(N - 1, -1, -1):\n",
    "        for total_weight in range(max_weight + 1):\n",
    "            if weights[i] + total_weight <= max_weight:\n",
    "                dp[total_weight] = max(dp[total_weight], values[i] + dp[total_weight + weights[i]])\n",
    "\n",
    "    return dp[0]\n",
    "\n",
    "# Testing the solution\n",
    "assert knapsack01(4, 5, [1,2,4,5], [5,4,8,6]) == 13\n",
    "assert knapsack01(3, 8, [3,4,5], [30,50,60]) == 90"
   ]
  },
  {
   "cell_type": "markdown",
   "id": "71d6293a",
   "metadata": {
    "papermill": {
     "duration": 0.007887,
     "end_time": "2024-05-11T17:21:28.230390",
     "exception": false,
     "start_time": "2024-05-11T17:21:28.222503",
     "status": "completed"
    },
    "tags": []
   },
   "source": [
    "Video link: https://youtu.be/myPeWb3Y68A?si=9z1QMQXCYmEcFEW4\n",
    "Coin Change: https://leetcode.com/problems/coin-change/submissions/1255049748\n",
    "Logic: Whenever there is an infinite / unlimited supply, not_take would update the index, <br>\n",
    "take would not update index - it would stay where it is because we might end up picking it more than once"
   ]
  },
  {
   "cell_type": "code",
   "execution_count": 46,
   "id": "93a2c45e",
   "metadata": {
    "execution": {
     "iopub.execute_input": "2024-05-11T17:21:28.247180Z",
     "iopub.status.busy": "2024-05-11T17:21:28.246766Z",
     "iopub.status.idle": "2024-05-11T17:21:28.251068Z",
     "shell.execute_reply": "2024-05-11T17:21:28.250591Z"
    },
    "lines_to_next_cell": 1,
    "papermill": {
     "duration": 0.01389,
     "end_time": "2024-05-11T17:21:28.252174",
     "exception": false,
     "start_time": "2024-05-11T17:21:28.238284",
     "status": "completed"
    },
    "tags": []
   },
   "outputs": [],
   "source": [
    "def coinChangeMemoization(coins: list[int], amount: int) -> int:\n",
    "    \"\"\"\n",
    "    Without memoization, the time complexity is roughly 2 ** N. It would be greater than\n",
    "    2 ** N since at each index for take we are still staying at the same index.\n",
    "\n",
    "    With memoization, the time complexity is O(N x amount)\n",
    "    \"\"\"\n",
    "    @functools.cache\n",
    "    def backtrack(i: int, total: int) -> float:\n",
    "        if total == amount:\n",
    "            return 0\n",
    "        elif i == N or total > amount:\n",
    "            return math.inf\n",
    "        else:\n",
    "            return min(1 + backtrack(i, total + coins[i]), backtrack(i + 1, total))\n",
    "\n",
    "    N = len(coins)\n",
    "    result = backtrack(0, 0)\n",
    "    return int(result) if not math.isinf(result) else -1\n",
    "\n",
    "# Testing the solution\n",
    "assert coinChangeMemoization([1,2,5], 11) == 3\n",
    "assert coinChangeMemoization([2], 3) == -1"
   ]
  },
  {
   "cell_type": "code",
   "execution_count": 47,
   "id": "eb1b662f",
   "metadata": {
    "execution": {
     "iopub.execute_input": "2024-05-11T17:21:28.269285Z",
     "iopub.status.busy": "2024-05-11T17:21:28.268906Z",
     "iopub.status.idle": "2024-05-11T17:21:28.273854Z",
     "shell.execute_reply": "2024-05-11T17:21:28.273344Z"
    },
    "lines_to_next_cell": 1,
    "papermill": {
     "duration": 0.014694,
     "end_time": "2024-05-11T17:21:28.275008",
     "exception": false,
     "start_time": "2024-05-11T17:21:28.260314",
     "status": "completed"
    },
    "tags": []
   },
   "outputs": [],
   "source": [
    "def coinChangeTabulation(coins: list[int], amount: int) -> int:\n",
    "    N = len(coins)\n",
    "    dp: list[list[float]] = [[math.inf if j < amount else 0 for j in range(amount + 1)] for i in range(N + 1)]\n",
    "    for i in range(N - 1, -1, -1):\n",
    "        for total in range(amount, -1, -1):\n",
    "            if total + coins[i] <= amount:\n",
    "                dp[i][total] = min(dp[i + 1][total], 1 + dp[i][total + coins[i]])\n",
    "            else:\n",
    "                dp[i][total] = dp[i + 1][total]\n",
    "\n",
    "    result = dp[0][0]\n",
    "    return int(result) if not math.isinf(result) else -1\n",
    "\n",
    "# Testing the solution\n",
    "assert coinChangeTabulation([1,2,5], 11) == 3\n",
    "assert coinChangeTabulation([2], 3) == -1"
   ]
  },
  {
   "cell_type": "code",
   "execution_count": 48,
   "id": "ddd554c7",
   "metadata": {
    "execution": {
     "iopub.execute_input": "2024-05-11T17:21:28.292124Z",
     "iopub.status.busy": "2024-05-11T17:21:28.291798Z",
     "iopub.status.idle": "2024-05-11T17:21:28.296317Z",
     "shell.execute_reply": "2024-05-11T17:21:28.295788Z"
    },
    "lines_to_next_cell": 1,
    "papermill": {
     "duration": 0.014208,
     "end_time": "2024-05-11T17:21:28.297372",
     "exception": false,
     "start_time": "2024-05-11T17:21:28.283164",
     "status": "completed"
    },
    "tags": []
   },
   "outputs": [],
   "source": [
    "def coinChangeSpaceOptimized(coins: list[int], amount: int) -> int:\n",
    "    N = len(coins)\n",
    "    dp: list[float] = [math.inf if j < amount else 0 for j in range(amount + 1)]\n",
    "    for i in range(N - 1, -1, -1):\n",
    "        for total in range(amount, -1, -1):\n",
    "            if total + coins[i] <= amount:\n",
    "                dp[total] = min(dp[total], 1 + dp[total + coins[i]])\n",
    "\n",
    "    result = dp[0]\n",
    "    return int(result) if not math.isinf(result) else -1\n",
    "\n",
    "# Testing the solution\n",
    "assert coinChangeSpaceOptimized([1,2,5], 11) == 3\n",
    "assert coinChangeSpaceOptimized([2], 3) == -1"
   ]
  },
  {
   "cell_type": "markdown",
   "id": "3e5fb6cb",
   "metadata": {},
   "source": [
    "Video Link: https://youtu.be/b3GD8263-PQ?si=CNz-raf3oynQQsPJ\n",
    "Target Sum: https://leetcode.com/problems/target-sum/"
   ]
  },
  {
   "cell_type": "code",
   "execution_count": null,
   "id": "18960ee2",
   "metadata": {
    "lines_to_next_cell": 1
   },
   "outputs": [],
   "source": [
    "# https://leetcode.com/problems/target-sum/submissions/1255976702\n",
    "def findTargetSumWaysMemo(nums: list[int], target: int) -> int:\n",
    "    @functools.cache\n",
    "    def backtrack(i: int, total: int) -> int:\n",
    "        if i == N:\n",
    "            return int(total == target)\n",
    "        else:\n",
    "            return backtrack(i + 1, total - nums[i]) + backtrack(i + 1, total + nums[i])\n",
    "\n",
    "    N = len(nums)\n",
    "    return backtrack(0, 0)\n",
    "\n",
    "# Testing the solution\n",
    "assert findTargetSumWaysMemo([1,1,1,1,1], 3) == 5\n",
    "assert findTargetSumWaysMemo([1], 2) == 0"
   ]
  },
  {
   "cell_type": "code",
   "execution_count": null,
   "id": "8420cf7b",
   "metadata": {
    "lines_to_next_cell": 1
   },
   "outputs": [],
   "source": [
    "def findTargetSumWaysTab(nums: list[int], target: int) -> int:\n",
    "    N: int = len(nums)\n",
    "    boundary: int = sum(nums)\n",
    "    dp: list[list[int]] = [[0 if i < N or j != target else 1 for j in range(-boundary, boundary + 1)] for i in range(N + 1)]\n",
    "\n",
    "    for i in range(N - 1, -1, -1):\n",
    "        for total in range(-boundary, boundary + 1):\n",
    "            if total - nums[i] + boundary >= 0:\n",
    "                dp[i][total + boundary] += dp[i + 1][total - nums[i] + boundary]\n",
    "            if total + nums[i] + boundary <= 2 * boundary:\n",
    "                dp[i][total + boundary] += dp[i + 1][total + nums[i] + boundary]\n",
    "\n",
    "    return dp[0][boundary]\n",
    "\n",
    "# Testing the solution\n",
    "assert findTargetSumWaysTab([1,1,1,1,1], 3) == 5\n",
    "assert findTargetSumWaysTab([1], 2) == 0"
   ]
  },
  {
   "cell_type": "code",
   "execution_count": null,
   "id": "7c66396e",
   "metadata": {
    "lines_to_next_cell": 1
   },
   "outputs": [],
   "source": [
    "# https://leetcode.com/problems/target-sum/submissions/1255976333/\n",
    "def findTargetSumWays(nums: list[int], target: int) -> int:\n",
    "    N = len(nums)\n",
    "    boundary: int = sum(nums)\n",
    "    dp: list[int] = [0 if j != target else 1 for j in range(-boundary, boundary + 1)]\n",
    "\n",
    "    for i in range(N - 1, -1, -1):\n",
    "        next_dp: list[int] = []\n",
    "        for total in range(-boundary, boundary + 1):\n",
    "            next_dp.append(0)\n",
    "            if total + nums[i] + boundary <= 2 * boundary:\n",
    "                next_dp[-1] += dp[total + nums[i] + boundary]\n",
    "            if total - nums[i] + boundary >= 0:\n",
    "                next_dp[-1] += dp[total - nums[i] + boundary]\n",
    "\n",
    "        dp = next_dp\n",
    "\n",
    "    return dp[boundary]\n",
    "\n",
    "# Testing the solution\n",
    "assert findTargetSumWays([1,1,1,1,1], 3) == 5\n",
    "assert findTargetSumWays([1], 2) == 0"
   ]
  },
  {
   "cell_type": "code",
   "execution_count": null,
   "id": "8f0e96f1",
   "metadata": {
    "lines_to_next_cell": 1
   },
   "outputs": [],
   "source": [
    "# Striver's approach: Use logic from 'Count Paritions with given difference'\n",
    "# https://leetcode.com/problems/target-sum/submissions/1255993345/\n",
    "def findTargetSumWaysStriver(nums: list[int], target: int) -> int:\n",
    "    \"\"\"\n",
    "    We need to count the number of subsets s1, s2 such that s1 - s2 = target.\n",
    "    s1 = (S + d) / 2\n",
    "    \"\"\"\n",
    "\n",
    "    S = sum(nums)\n",
    "    s1 = (S + target) / 2\n",
    "    s2 = S - s1\n",
    "\n",
    "    # Edge case - target is negative.\n",
    "    if s1 < 0:\n",
    "        s1 = s2\n",
    "\n",
    "    count = 0\n",
    "    if int(s1) == s1:\n",
    "        s1 = int(s1)\n",
    "        zero_count = nums.count(0)\n",
    "        nums = list(filter(lambda x: x != 0, nums))\n",
    "        N = len(nums)\n",
    "        dp: list[int] = [0 if j < s1 else 1 for j in range(s1 + 1)]\n",
    "        for i in range(N - 1, -1, -1):\n",
    "            for total in range(s1 + 1):\n",
    "                if total + nums[i] <= s1:\n",
    "                    dp[total] += dp[total + nums[i]]\n",
    "\n",
    "        count = dp[0] * (2 ** zero_count)\n",
    "\n",
    "    return count\n",
    "\n",
    "# Testing the solution\n",
    "assert findTargetSumWaysStriver([1,1,1,1,1], 3) == 5\n",
    "assert findTargetSumWaysStriver([1,0,0], 1) == 4\n",
    "assert findTargetSumWaysStriver([100], -200) == 0\n",
    "assert findTargetSumWaysStriver([100], -100) == 1"
   ]
  },
  {
   "cell_type": "markdown",
   "id": "54ee6894",
   "metadata": {},
   "source": [
    "Video link: https://youtu.be/HgyouUi11zk?si=tgZcsIOYwWogacGr\n",
    "Coin Change II: https://leetcode.com/problems/coin-change-ii/description/"
   ]
  },
  {
   "cell_type": "code",
   "execution_count": null,
   "id": "a21ca5a5",
   "metadata": {
    "lines_to_next_cell": 1
   },
   "outputs": [],
   "source": [
    "def coinChangeMemo(amount: int, coins: list[int]):\n",
    "    \"\"\"\n",
    "    Time: ~O(N x amount), Space: O(N x amount) + O(amount)\n",
    "    \"\"\"\n",
    "\n",
    "    @functools.cache\n",
    "    def backtrack(i: int, total: int) -> int:\n",
    "        if total == amount:\n",
    "            return 1\n",
    "        elif total > amount or i == N:\n",
    "            return 0\n",
    "        else:\n",
    "            return backtrack(i, total + coins[i]) + backtrack(i + 1, total)\n",
    "\n",
    "    N = len(coins)\n",
    "    return backtrack(0, 0)\n",
    "\n",
    "# Testing the solution\n",
    "assert coinChangeMemo(5, [1,2,5]) == 4\n",
    "assert coinChangeMemo(3, [2]) == 0"
   ]
  },
  {
   "cell_type": "code",
   "execution_count": null,
   "id": "b74d7fa9",
   "metadata": {
    "lines_to_next_cell": 1
   },
   "outputs": [],
   "source": [
    "# https://leetcode.com/problems/coin-change-ii/submissions/1256028931\n",
    "def coinChangeTab(amount: int, coins: list[int]):\n",
    "    N = len(coins)\n",
    "    dp: list[int] = [0 if j != amount else 1 for j in range(amount + 1)]\n",
    "    for i in range(N - 1, -1, -1):\n",
    "        for total in range(amount, -1, -1):\n",
    "            if total + coins[i] <= amount:\n",
    "                dp[total] += dp[total + coins[i]]\n",
    "\n",
    "    return dp[0]\n",
    "\n",
    "# Testing the solution\n",
    "assert coinChangeTab(5, [1,2,5]) == 4\n",
    "assert coinChangeTab(3, [2]) == 0"
   ]
  },
  {
   "cell_type": "markdown",
   "id": "b0b593c4",
   "metadata": {},
   "source": [
    "Video Link: https://youtu.be/OgvOZ6OrJoY?si=rcbpx6IrU_SvQ4v1\n",
    "Unbounded Knapsack"
   ]
  },
  {
   "cell_type": "code",
   "execution_count": null,
   "id": "5fc22211",
   "metadata": {
    "lines_to_next_cell": 1
   },
   "outputs": [],
   "source": [
    "def unboundedKnapSackMemo(N: int, max_weight: int, values: list[int], weights: list[int]) -> int:\n",
    "     @functools.cache\n",
    "     def backtrack(i: int, total_weight: int) -> float:\n",
    "         if total_weight > max_weight:\n",
    "             return -math.inf\n",
    "         elif i == N:\n",
    "             return 0\n",
    "         else:\n",
    "             return max(values[i] + backtrack(i, total_weight + weights[i]), backtrack(i + 1, total_weight))\n",
    "\n",
    "     return int(backtrack(0, 0))\n",
    "\n",
    "# Testing the solution\n",
    "assert unboundedKnapSackMemo(2, 3, [1, 1], [2, 1]) == 3\n",
    "assert unboundedKnapSackMemo(4, 8, [6, 1, 7, 7], [1, 3, 4, 5]) == 48"
   ]
  },
  {
   "cell_type": "code",
   "execution_count": null,
   "id": "3377312f",
   "metadata": {
    "lines_to_next_cell": 1
   },
   "outputs": [],
   "source": [
    "def unboundedKnapSackTab(N: int, max_weight: int, values: list[int], weights: list[int]) -> int:\n",
    "    dp: list[int] = [0 for j in range(max_weight + 1)]\n",
    "    for i in range(N - 1, -1, -1):\n",
    "        for total in range(max_weight, -1, -1):\n",
    "            if total + weights[i] <= max_weight:\n",
    "                dp[total] = max(dp[total], values[i] + dp[total + weights[i]])\n",
    "\n",
    "    return dp[0]\n",
    "\n",
    "# Testing the solution\n",
    "assert unboundedKnapSackTab(2, 3, [1, 1], [2, 1]) == 3\n",
    "assert unboundedKnapSackTab(4, 8, [6, 1, 7, 7], [1, 3, 4, 5]) == 48"
   ]
  },
  {
   "cell_type": "markdown",
   "id": "2d0c40ff",
   "metadata": {},
   "source": [
    "Video Link: https://youtu.be/mO8XpGoJwuo?si=uzBPZ8auw70L9WCm\n",
    "Rod cutting Problem"
   ]
  },
  {
   "cell_type": "code",
   "execution_count": null,
   "id": "aee57cd8",
   "metadata": {
    "lines_to_next_cell": 1
   },
   "outputs": [],
   "source": [
    "def cutRodMemo(price: list[int], N: int) -> int:\n",
    "    @functools.cache\n",
    "    def backtrack(i: int, length: int) -> float:\n",
    "        if length == 0:\n",
    "            return 0\n",
    "        elif i == N or length < 0:\n",
    "            return -math.inf\n",
    "        else:\n",
    "            return max(price[i] + backtrack(i, length - i - 1), backtrack(i + 1, length))\n",
    "\n",
    "    result = backtrack(0, N)\n",
    "    return int(result)\n",
    "\n",
    "# Testing the solution\n",
    "assert cutRodMemo([1, 5, 8, 9, 10, 17, 17, 20], 8) == 22\n",
    "assert cutRodMemo([3, 5, 8, 9, 10, 17, 17, 20], 8) == 24"
   ]
  },
  {
   "cell_type": "code",
   "execution_count": null,
   "id": "bcdf21dd",
   "metadata": {
    "lines_to_next_cell": 1
   },
   "outputs": [],
   "source": [
    "def cutRodTab(price: list[int], N: int) -> int:\n",
    "    dp: list[float] = [-math.inf if j > 0 else 0 for j in range(N + 1)]\n",
    "    for i in range(N - 1, -1, -1):\n",
    "        for length in range(N + 1):\n",
    "            if length - i - 1 >= 0:\n",
    "                dp[length] = max(dp[length], price[i] + dp[length - i - 1])\n",
    "\n",
    "    return int(dp[N])\n",
    "\n",
    "# Testing the solution\n",
    "assert cutRodTab([1, 5, 8, 9, 10, 17, 17, 20], 8) == 22\n",
    "assert cutRodTab([3, 5, 8, 9, 10, 17, 17, 20], 8) == 24"
   ]
  },
  {
   "cell_type": "markdown",
   "id": "8e8177cc",
   "metadata": {},
   "source": [
    "Video link: https://youtu.be/NPZn9jBrX8U?si=RNey3xHjlEm1LXyr\n",
    "Longest common subsequences: https://leetcode.com/problems/longest-common-subsequence\n",
    "Naive approach: Generate all subsequences O((2 ** N) x (2 ** M)) and compare common subsequences in both"
   ]
  },
  {
   "cell_type": "code",
   "execution_count": null,
   "id": "917d5e52",
   "metadata": {},
   "outputs": [],
   "source": [
    "def longestCommonSubsequenceMemo(text1: str, text2: str) -> int:\n",
    "    # Time: O(N x M), Space: O(N x M) + O(M + N)\n",
    "    @functools.cache\n",
    "    def backtrack(i: int, j: int) -> int:\n",
    "        if i == N1 or j == N2:\n",
    "            return 0\n",
    "        elif text1[i] == text2[j]:\n",
    "            return 1 + backtrack(i + 1, j + 1)\n",
    "        else:\n",
    "            return max(backtrack(i + 1, j), backtrack(i, j + 1))\n",
    "\n",
    "    N1, N2 = len(text1), len(text2)\n",
    "    return backtrack(0, 0)\n",
    "\n",
    "# Testing the solution\n",
    "assert longestCommonSubsequenceMemo(\"abcde\", \"ace\") == 3\n",
    "assert longestCommonSubsequenceMemo(\"bsbininm\", \"jmjkbkjkv\") == 1\n",
    "assert longestCommonSubsequenceMemo(\"aaaaaaaaaaaaaaaaaaaaaaaaaaaaaaaaaaa\", \"aaaaaaaaaaaaaaaaaaaaaaaaaaaaaaaaaaaaaaaaaaaaa\") == 35\n",
    "assert longestCommonSubsequenceMemo(\"bl\", \"yby\") == 1"
   ]
  },
  {
   "cell_type": "code",
   "execution_count": null,
   "id": "30813726",
   "metadata": {
    "lines_to_next_cell": 1
   },
   "outputs": [],
   "source": [
    "def longestCommonSubsequenceTab(text1: str, text2: str) -> int:\n",
    "    # Time: O(M x N), Space: O(N x M)\n",
    "    N1, N2 = len(text1), len(text2)\n",
    "    dp: list[list[int]] = [[0 for j in range(N2 + 1)] for i in range(N1 + 1)]\n",
    "    for i in range(N1 - 1, -1, -1):\n",
    "        for j in range(N2 - 1, -1, -1):\n",
    "            if text1[i] == text2[j]:\n",
    "                dp[i][j] = 1 + dp[i + 1][j + 1]\n",
    "            else:\n",
    "                dp[i][j] = max(dp[i + 1][j], dp[i][j + 1])\n",
    "\n",
    "    return dp[0][0]\n",
    "\n",
    "# Testing the solution\n",
    "assert longestCommonSubsequenceTab(\"abcde\", \"ace\") == 3\n",
    "assert longestCommonSubsequenceTab(\"bsbininm\", \"jmjkbkjkv\") == 1\n",
    "assert longestCommonSubsequenceTab(\"aaaaaaaaaaaaaaaaaaaaaaaaaaaaaaaaaaa\", \"aaaaaaaaaaaaaaaaaaaaaaaaaaaaaaaaaaaaaaaaaaaaa\") == 35\n",
    "assert longestCommonSubsequenceTab(\"bl\", \"yby\") == 1"
   ]
  },
  {
   "cell_type": "code",
   "execution_count": null,
   "id": "e099ef3b",
   "metadata": {},
   "outputs": [],
   "source": [
    "# https://leetcode.com/problems/longest-common-subsequence/submissions/1256127917\n",
    "def longestCommonSubsequence(text1: str, text2: str) -> int:\n",
    "    # Time: O(M x N), Space: O(N2 + N2)\n",
    "    N1, N2 = len(text1), len(text2)\n",
    "    dp: list[int] = [0 for j in range(N2 + 1)]\n",
    "    for i in range(N1 - 1, -1, -1):\n",
    "        next_dp: list[int] = list(dp)\n",
    "        for j in range(N2 - 1, -1, -1):\n",
    "            if text1[i] == text2[j]:\n",
    "                next_dp[j] = 1 + dp[j + 1]\n",
    "            else:\n",
    "                next_dp[j] = max(dp[j], next_dp[j + 1])\n",
    "\n",
    "        dp = next_dp\n",
    "\n",
    "    return dp[0]\n",
    "\n",
    "# Testing the solution\n",
    "assert longestCommonSubsequence(\"abcde\", \"ace\") == 3\n",
    "assert longestCommonSubsequence(\"bsbininm\", \"jmjkbkjkv\") == 1\n",
    "assert longestCommonSubsequence(\"aaaaaaaaaaaaaaaaaaaaaaaaaaaaaaaaaaa\", \"aaaaaaaaaaaaaaaaaaaaaaaaaaaaaaaaaaaaaaaaaaaaa\") == 35\n",
    "assert longestCommonSubsequence(\"bl\", \"yby\") == 1"
   ]
  }
 ],
 "metadata": {
  "kernelspec": {
   "display_name": "Python 3 (ipykernel)",
   "language": "python",
   "name": "python3"
  },
  "language_info": {
   "codemirror_mode": {
    "name": "ipython",
    "version": 3
   },
   "file_extension": ".py",
   "mimetype": "text/x-python",
   "name": "python",
   "nbconvert_exporter": "python",
   "pygments_lexer": "ipython3",
   "version": "3.11.9"
  },
  "papermill": {
   "default_parameters": {},
   "duration": 2.571692,
   "end_time": "2024-05-11T17:21:28.420846",
   "environment_variables": {},
   "exception": null,
   "input_path": "study/striver-A2Z/13-dp.ipynb",
   "output_path": "study/striver-A2Z/13-dp.ipynb",
   "parameters": {},
   "start_time": "2024-05-11T17:21:25.849154",
   "version": "2.6.0"
  }
 },
 "nbformat": 4,
 "nbformat_minor": 5
}
