{
 "cells": [
  {
   "cell_type": "markdown",
   "id": "807dd9ee",
   "metadata": {
    "papermill": {
     "duration": 0.017179,
     "end_time": "2024-05-17T02:31:31.076752",
     "exception": false,
     "start_time": "2024-05-17T02:31:31.059573",
     "status": "completed"
    },
    "tags": []
   },
   "source": [
    "Important notes\n",
    "- All subset based problems (non contigous subarrays would have the pick/nopick approach)\n",
    "- To convert a memoization solution to tabulation:\n",
    "  1. Find the base case and assign the the DP\n",
    "  2. Start iterating from the base case all the way to our starting point\n",
    "  3. Return the value at the starting point\n",
    "- We can space optimize a tabulation solution whenever we see only the prev/next rows being used in the tabualation solution.\n",
    "- Time complexity of unmemoized DP code is typically exponential O(number of branches ** N)\n",
    "- All subsets problem involve recursion trying all combinations: Pick, no pick\n",
    "- For problems where there is an infinite supply, take would increase total but remain at the same index.\n",
    "- For problems involving counts, we try all possb combinations and base case would either return 1 or 0."
   ]
  },
  {
   "cell_type": "markdown",
   "id": "457ab51f",
   "metadata": {
    "papermill": {
     "duration": 0.014929,
     "end_time": "2024-05-17T02:31:31.106822",
     "exception": false,
     "start_time": "2024-05-17T02:31:31.091893",
     "status": "completed"
    },
    "tags": []
   },
   "source": [
    "### Some important imports"
   ]
  },
  {
   "cell_type": "code",
   "execution_count": 1,
   "id": "164d751b",
   "metadata": {
    "execution": {
     "iopub.execute_input": "2024-05-17T02:31:31.137965Z",
     "iopub.status.busy": "2024-05-17T02:31:31.137751Z",
     "iopub.status.idle": "2024-05-17T02:31:31.143311Z",
     "shell.execute_reply": "2024-05-17T02:31:31.142811Z"
    },
    "lines_to_next_cell": 1,
    "papermill": {
     "duration": 0.022622,
     "end_time": "2024-05-17T02:31:31.144488",
     "exception": false,
     "start_time": "2024-05-17T02:31:31.121866",
     "status": "completed"
    },
    "tags": []
   },
   "outputs": [],
   "source": [
    "import functools\n",
    "import itertools\n",
    "import collections\n",
    "import math\n",
    "import heapq"
   ]
  },
  {
   "cell_type": "markdown",
   "id": "48648354",
   "metadata": {
    "papermill": {
     "duration": 0.014862,
     "end_time": "2024-05-17T02:31:31.174799",
     "exception": false,
     "start_time": "2024-05-17T02:31:31.159937",
     "status": "completed"
    },
    "tags": []
   },
   "source": [
    "Introduction to DP: https://youtu.be/tyB0ztf0DNY?si=SgpBwGNqPXzdPSRA\n",
    "1. Tabulation: Bottom up DP: Ans -> Base case -> Ans\n",
    "2. Memoization: Top down DP: Base case -> Ans"
   ]
  },
  {
   "cell_type": "code",
   "execution_count": 2,
   "id": "41c46591",
   "metadata": {
    "execution": {
     "iopub.execute_input": "2024-05-17T02:31:31.206655Z",
     "iopub.status.busy": "2024-05-17T02:31:31.206220Z",
     "iopub.status.idle": "2024-05-17T02:31:31.212541Z",
     "shell.execute_reply": "2024-05-17T02:31:31.212029Z"
    },
    "lines_to_next_cell": 1,
    "papermill": {
     "duration": 0.023669,
     "end_time": "2024-05-17T02:31:31.213639",
     "exception": false,
     "start_time": "2024-05-17T02:31:31.189970",
     "status": "completed"
    },
    "tags": []
   },
   "outputs": [
    {
     "data": {
      "text/plain": [
       "55"
      ]
     },
     "execution_count": 2,
     "metadata": {},
     "output_type": "execute_result"
    }
   ],
   "source": [
    "def fiboBrute(n: int) -> int:\n",
    "    \"\"\"\n",
    "    Vanilla recursion\n",
    "    Time: O(2 ^ N), Space: O(2 ^ N)\n",
    "    \"\"\"\n",
    "    if n <= 1:\n",
    "        return n\n",
    "    else:\n",
    "        return fiboBrute(n - 1) + fiboBrute(n - 2)\n",
    "\n",
    "fiboBrute(10)"
   ]
  },
  {
   "cell_type": "code",
   "execution_count": 3,
   "id": "83ba7cd5",
   "metadata": {
    "execution": {
     "iopub.execute_input": "2024-05-17T02:31:31.245793Z",
     "iopub.status.busy": "2024-05-17T02:31:31.245260Z",
     "iopub.status.idle": "2024-05-17T02:31:31.250747Z",
     "shell.execute_reply": "2024-05-17T02:31:31.250224Z"
    },
    "lines_to_next_cell": 1,
    "papermill": {
     "duration": 0.022757,
     "end_time": "2024-05-17T02:31:31.251943",
     "exception": false,
     "start_time": "2024-05-17T02:31:31.229186",
     "status": "completed"
    },
    "tags": []
   },
   "outputs": [
    {
     "data": {
      "text/plain": [
       "55"
      ]
     },
     "execution_count": 3,
     "metadata": {},
     "output_type": "execute_result"
    }
   ],
   "source": [
    "def fiboBetter1(n: int) -> int:\n",
    "    \"\"\"\n",
    "    Memoization Approach: Top down approach\n",
    "    Time: O(N), Space: O(N) + O(N)\n",
    "    \"\"\"\n",
    "    dp: list[int] = [-1 for i in range(n + 1)]\n",
    "    def backtrack(curr: int) -> int:\n",
    "        if curr <= 1:\n",
    "            return curr\n",
    "        elif dp[curr] != -1:\n",
    "            return dp[curr]\n",
    "        else:\n",
    "            dp[curr] = backtrack(curr - 1) + backtrack(curr - 2)\n",
    "            return dp[curr]\n",
    "\n",
    "    return backtrack(n)\n",
    "\n",
    "fiboBetter1(10)"
   ]
  },
  {
   "cell_type": "code",
   "execution_count": 4,
   "id": "80fded7e",
   "metadata": {
    "execution": {
     "iopub.execute_input": "2024-05-17T02:31:31.284005Z",
     "iopub.status.busy": "2024-05-17T02:31:31.283685Z",
     "iopub.status.idle": "2024-05-17T02:31:31.288837Z",
     "shell.execute_reply": "2024-05-17T02:31:31.288383Z"
    },
    "lines_to_next_cell": 1,
    "papermill": {
     "duration": 0.022441,
     "end_time": "2024-05-17T02:31:31.289933",
     "exception": false,
     "start_time": "2024-05-17T02:31:31.267492",
     "status": "completed"
    },
    "tags": []
   },
   "outputs": [
    {
     "data": {
      "text/plain": [
       "55"
      ]
     },
     "execution_count": 4,
     "metadata": {},
     "output_type": "execute_result"
    }
   ],
   "source": [
    "def fiboBetter2(n: int) -> int:\n",
    "    \"\"\"\n",
    "    Tabulation: Bottom up approach\n",
    "    Time: O(N), Space: O(N)\n",
    "    \"\"\"\n",
    "    dp: list[int] = [-1 if i > 1 else i for i in range(n + 1)]\n",
    "    for i in range(2, n + 1):\n",
    "        dp[i] = dp[i - 1] + dp[i - 2]\n",
    "\n",
    "    return dp[n]\n",
    "\n",
    "fiboBetter2(10)"
   ]
  },
  {
   "cell_type": "code",
   "execution_count": 5,
   "id": "8f7d86e2",
   "metadata": {
    "execution": {
     "iopub.execute_input": "2024-05-17T02:31:31.321362Z",
     "iopub.status.busy": "2024-05-17T02:31:31.321118Z",
     "iopub.status.idle": "2024-05-17T02:31:31.325769Z",
     "shell.execute_reply": "2024-05-17T02:31:31.325242Z"
    },
    "lines_to_next_cell": 1,
    "papermill": {
     "duration": 0.021615,
     "end_time": "2024-05-17T02:31:31.326914",
     "exception": false,
     "start_time": "2024-05-17T02:31:31.305299",
     "status": "completed"
    },
    "tags": []
   },
   "outputs": [
    {
     "data": {
      "text/plain": [
       "55"
      ]
     },
     "execution_count": 5,
     "metadata": {},
     "output_type": "execute_result"
    }
   ],
   "source": [
    "def fiboOptimal(n: int) -> int:\n",
    "    \"\"\"\n",
    "    Bottom up approach\n",
    "    Time: O(N), Space: O(1)\n",
    "    \"\"\"\n",
    "    prev2, prev1 = 0, 1\n",
    "    for i in range(2, n + 1):\n",
    "        prev2, prev1 = prev1, prev1 + prev2\n",
    "        n -= 1\n",
    "\n",
    "    return prev1\n",
    "\n",
    "fiboOptimal(10)"
   ]
  },
  {
   "cell_type": "markdown",
   "id": "855c35fb",
   "metadata": {
    "papermill": {
     "duration": 0.015227,
     "end_time": "2024-05-17T02:31:31.357889",
     "exception": false,
     "start_time": "2024-05-17T02:31:31.342662",
     "status": "completed"
    },
    "tags": []
   },
   "source": [
    "Climbing Stairs: https://leetcode.com/problems/climbing-stairs/\n",
    "Video Link: https://youtu.be/mLfjzJsN8us?si=C7W-jiYvql0mEnbh"
   ]
  },
  {
   "cell_type": "code",
   "execution_count": 6,
   "id": "87993489",
   "metadata": {
    "execution": {
     "iopub.execute_input": "2024-05-17T02:31:31.389853Z",
     "iopub.status.busy": "2024-05-17T02:31:31.389412Z",
     "iopub.status.idle": "2024-05-17T02:31:31.393636Z",
     "shell.execute_reply": "2024-05-17T02:31:31.393171Z"
    },
    "lines_to_next_cell": 1,
    "papermill": {
     "duration": 0.021467,
     "end_time": "2024-05-17T02:31:31.394735",
     "exception": false,
     "start_time": "2024-05-17T02:31:31.373268",
     "status": "completed"
    },
    "tags": []
   },
   "outputs": [],
   "source": [
    "def climbStairsBetter(n: int) -> int:\n",
    "    \"\"\"Time: O(N), Space: O(N)\"\"\"\n",
    "\n",
    "    dp: list[int] = [-1 for i in range(n + 1)]\n",
    "    def backtrack(curr: int) -> int:\n",
    "        if curr <= 1:\n",
    "            return 1\n",
    "        elif dp[curr] != -1:\n",
    "            return dp[curr]\n",
    "        else:\n",
    "            dp[curr] = backtrack(curr - 1) + backtrack(curr - 2)\n",
    "            return dp[curr]\n",
    "\n",
    "    return backtrack(n)\n",
    "\n",
    "assert climbStairsBetter(45) == 1836311903"
   ]
  },
  {
   "cell_type": "code",
   "execution_count": 7,
   "id": "2dc15ac3",
   "metadata": {
    "execution": {
     "iopub.execute_input": "2024-05-17T02:31:31.443181Z",
     "iopub.status.busy": "2024-05-17T02:31:31.442701Z",
     "iopub.status.idle": "2024-05-17T02:31:31.446139Z",
     "shell.execute_reply": "2024-05-17T02:31:31.445709Z"
    },
    "lines_to_next_cell": 1,
    "papermill": {
     "duration": 0.037583,
     "end_time": "2024-05-17T02:31:31.447888",
     "exception": false,
     "start_time": "2024-05-17T02:31:31.410305",
     "status": "completed"
    },
    "tags": []
   },
   "outputs": [],
   "source": [
    "def climbStairs(n: int) -> int:\n",
    "    \"\"\"Time: O(N), Space: O(1)\"\"\"\n",
    "    prev2, prev1 = 1, 1\n",
    "    while n > 0:\n",
    "        prev2, prev1 = prev1, prev1 + prev2\n",
    "        n -= 1\n",
    "\n",
    "    return prev2\n",
    "\n",
    "assert climbStairs(45) == 1836311903"
   ]
  },
  {
   "cell_type": "markdown",
   "id": "3cd4d88c",
   "metadata": {
    "papermill": {
     "duration": 0.015554,
     "end_time": "2024-05-17T02:31:31.480294",
     "exception": false,
     "start_time": "2024-05-17T02:31:31.464740",
     "status": "completed"
    },
    "tags": []
   },
   "source": [
    "Video link: https://youtu.be/EgG3jsGoPvQ?si=Cm5AVvq_zCnr-w6q\n",
    "Frog Jump: 1"
   ]
  },
  {
   "cell_type": "code",
   "execution_count": 8,
   "id": "59c27b1e",
   "metadata": {
    "execution": {
     "iopub.execute_input": "2024-05-17T02:31:31.512300Z",
     "iopub.status.busy": "2024-05-17T02:31:31.511880Z",
     "iopub.status.idle": "2024-05-17T02:31:31.517046Z",
     "shell.execute_reply": "2024-05-17T02:31:31.516482Z"
    },
    "lines_to_next_cell": 1,
    "papermill": {
     "duration": 0.022613,
     "end_time": "2024-05-17T02:31:31.518238",
     "exception": false,
     "start_time": "2024-05-17T02:31:31.495625",
     "status": "completed"
    },
    "tags": []
   },
   "outputs": [],
   "source": [
    "def frogJumpBetter(N: int, heights: list[int]) -> int:\n",
    "    \"\"\"\n",
    "    Time: O(N), Space: O(N) + O(N)\n",
    "    \"\"\"\n",
    "\n",
    "    @functools.cache\n",
    "    def backtrack(curr: int) -> int:\n",
    "        if curr == N - 1:\n",
    "            return 0\n",
    "        elif curr == N - 2:\n",
    "            return abs(heights[N - 1] - heights[N - 2])\n",
    "        else:\n",
    "            jump1 = abs(heights[curr] - heights[curr + 1]) + backtrack(curr + 1)\n",
    "            jump2 = abs(heights[curr] - heights[curr + 2]) + backtrack(curr + 2)\n",
    "            return min(jump1, jump2)\n",
    "\n",
    "    return backtrack(0)\n",
    "\n",
    "# Testing the solution\n",
    "assert frogJumpBetter(4, [10,20,30,10]) == 20\n",
    "assert frogJumpBetter(3, [10,50,10]) == 0"
   ]
  },
  {
   "cell_type": "code",
   "execution_count": 9,
   "id": "2bc52e04",
   "metadata": {
    "execution": {
     "iopub.execute_input": "2024-05-17T02:31:31.551109Z",
     "iopub.status.busy": "2024-05-17T02:31:31.550601Z",
     "iopub.status.idle": "2024-05-17T02:31:31.555163Z",
     "shell.execute_reply": "2024-05-17T02:31:31.554592Z"
    },
    "lines_to_next_cell": 1,
    "papermill": {
     "duration": 0.022072,
     "end_time": "2024-05-17T02:31:31.556237",
     "exception": false,
     "start_time": "2024-05-17T02:31:31.534165",
     "status": "completed"
    },
    "tags": []
   },
   "outputs": [],
   "source": [
    "def frogJumpOptimal(N: int, heights: list[int]) -> int:\n",
    "    \"Time: O(N), Space: O(1)\"\n",
    "    jump1, jump2 = abs(heights[-2] - heights[-1]), 0\n",
    "    for i in range(N - 3, -1, -1):\n",
    "        curr = min(abs(heights[i] - heights[i + 1]) + jump1, abs(heights[i] - heights[i + 2]) + jump2)\n",
    "        jump1, jump2 = curr, jump1\n",
    "\n",
    "    return jump1\n",
    "\n",
    "assert frogJumpOptimal(4, [10,20,30,10]) == 20\n",
    "assert frogJumpOptimal(3, [10,50,10]) == 0"
   ]
  },
  {
   "cell_type": "markdown",
   "id": "4fa38d19",
   "metadata": {
    "papermill": {
     "duration": 0.015572,
     "end_time": "2024-05-17T02:31:31.587560",
     "exception": false,
     "start_time": "2024-05-17T02:31:31.571988",
     "status": "completed"
    },
    "tags": []
   },
   "source": [
    "Video Link: https://youtu.be/Kmh3rhyEtB8?si=rqZ5-pJcjIzWU5i8\n",
    "Frog Jump with K distance"
   ]
  },
  {
   "cell_type": "code",
   "execution_count": 10,
   "id": "f21ca119",
   "metadata": {
    "execution": {
     "iopub.execute_input": "2024-05-17T02:31:31.619948Z",
     "iopub.status.busy": "2024-05-17T02:31:31.619535Z",
     "iopub.status.idle": "2024-05-17T02:31:31.624441Z",
     "shell.execute_reply": "2024-05-17T02:31:31.623980Z"
    },
    "lines_to_next_cell": 1,
    "papermill": {
     "duration": 0.022284,
     "end_time": "2024-05-17T02:31:31.625523",
     "exception": false,
     "start_time": "2024-05-17T02:31:31.603239",
     "status": "completed"
    },
    "tags": []
   },
   "outputs": [],
   "source": [
    "def frogJumpAtKDistBetter1(N: int, K: int, heights: list[int]) -> int:\n",
    "    \"\"\"\n",
    "    Memoization Approach: Top Down Approach\n",
    "    Time: O(N x K), Space: O(N) + O(N)\n",
    "    \"\"\"\n",
    "\n",
    "    @functools.cache\n",
    "    def backtrack(curr: int) -> int:\n",
    "        if curr >= N - 1:\n",
    "            return 0\n",
    "        else:\n",
    "            minCost = math.inf\n",
    "            for next_ in range(curr + 1, min(N, curr + K + 1)):\n",
    "                cost = abs(heights[curr] - heights[next_]) + backtrack(next_)\n",
    "                minCost = min(minCost, cost)\n",
    "\n",
    "            return int(minCost)\n",
    "\n",
    "    return backtrack(0)\n",
    "\n",
    "# Testing the solution\n",
    "assert frogJumpAtKDistBetter1(5, 3, [10,30,40,50,20]) == 30\n",
    "assert frogJumpAtKDistBetter1(3, 1, [10,20,10]) == 20"
   ]
  },
  {
   "cell_type": "code",
   "execution_count": 11,
   "id": "1b9a86c0",
   "metadata": {
    "execution": {
     "iopub.execute_input": "2024-05-17T02:31:31.657177Z",
     "iopub.status.busy": "2024-05-17T02:31:31.656976Z",
     "iopub.status.idle": "2024-05-17T02:31:31.661837Z",
     "shell.execute_reply": "2024-05-17T02:31:31.661387Z"
    },
    "lines_to_next_cell": 1,
    "papermill": {
     "duration": 0.021757,
     "end_time": "2024-05-17T02:31:31.662875",
     "exception": false,
     "start_time": "2024-05-17T02:31:31.641118",
     "status": "completed"
    },
    "tags": []
   },
   "outputs": [],
   "source": [
    "def frogJumpAtKDistBetter2(N: int, K: int, heights: list[int]) -> int:\n",
    "    \"\"\"\n",
    "    Tabulation: Bottom up approach\n",
    "    Time: O(N x K), Space: O(N)\n",
    "    \"\"\"\n",
    "\n",
    "    dp: list[int] = [-1 for i in range(N)]\n",
    "    dp[-1] = 0\n",
    "\n",
    "    for curr in range(N - 2, -1, -1):\n",
    "        minCost = math.inf\n",
    "        for next_ in range(curr + 1, min(N, curr + K + 1)):\n",
    "            cost = abs(heights[curr] - heights[next_]) + dp[next_]\n",
    "            minCost = min(minCost, cost)\n",
    "        dp[curr] = int(minCost)\n",
    "\n",
    "    return dp[0]\n",
    "\n",
    "# Testing the solution\n",
    "assert frogJumpAtKDistBetter2(5, 3, [10,30,40,50,20]) == 30\n",
    "assert frogJumpAtKDistBetter2(3, 1, [10,20,10]) == 20"
   ]
  },
  {
   "cell_type": "code",
   "execution_count": 12,
   "id": "09ca5d18",
   "metadata": {
    "execution": {
     "iopub.execute_input": "2024-05-17T02:31:31.695533Z",
     "iopub.status.busy": "2024-05-17T02:31:31.694974Z",
     "iopub.status.idle": "2024-05-17T02:31:31.700195Z",
     "shell.execute_reply": "2024-05-17T02:31:31.699743Z"
    },
    "lines_to_next_cell": 1,
    "papermill": {
     "duration": 0.02277,
     "end_time": "2024-05-17T02:31:31.701289",
     "exception": false,
     "start_time": "2024-05-17T02:31:31.678519",
     "status": "completed"
    },
    "tags": []
   },
   "outputs": [],
   "source": [
    "def frogJumpAtKDist(N: int, K: int, heights: list[int]) -> int:\n",
    "    \"\"\"\n",
    "    Tabulation: Bottom up approach\n",
    "    Time: O(N x K), Space: O(K)\n",
    "    \"\"\"\n",
    "\n",
    "    dp: collections.deque[int] = collections.deque([0])\n",
    "    for curr in range(N - 2, -1, -1):\n",
    "        minCost = math.inf\n",
    "        for jump in range(1, min(N - curr, K + 1)):\n",
    "            next_ = curr + jump\n",
    "            cost = abs(heights[curr] - heights[next_]) + dp[jump - 1]\n",
    "            minCost = min(minCost, cost)\n",
    "\n",
    "        dp.appendleft(int(minCost))\n",
    "        if len(dp) > K:\n",
    "            dp.pop()\n",
    "\n",
    "    return dp[0]\n",
    "\n",
    "# Testing the solution\n",
    "assert frogJumpAtKDist(5, 3, [10,30,40,50,20]) == 30\n",
    "assert frogJumpAtKDist(3, 1, [10,20,10]) == 20"
   ]
  },
  {
   "cell_type": "markdown",
   "id": "259d53f8",
   "metadata": {
    "papermill": {
     "duration": 0.015076,
     "end_time": "2024-05-17T02:31:31.731877",
     "exception": false,
     "start_time": "2024-05-17T02:31:31.716801",
     "status": "completed"
    },
    "tags": []
   },
   "source": [
    "Maximum sum of Non Adjacent Elements: House Robber\n",
    "Video Link: https://youtu.be/GrMBfJNk_NY?si=IPuGJglc0axETveU"
   ]
  },
  {
   "cell_type": "code",
   "execution_count": 13,
   "id": "89d8dea7",
   "metadata": {
    "execution": {
     "iopub.execute_input": "2024-05-17T02:31:31.763565Z",
     "iopub.status.busy": "2024-05-17T02:31:31.763071Z",
     "iopub.status.idle": "2024-05-17T02:31:31.767202Z",
     "shell.execute_reply": "2024-05-17T02:31:31.766660Z"
    },
    "lines_to_next_cell": 1,
    "papermill": {
     "duration": 0.021303,
     "end_time": "2024-05-17T02:31:31.768382",
     "exception": false,
     "start_time": "2024-05-17T02:31:31.747079",
     "status": "completed"
    },
    "tags": []
   },
   "outputs": [],
   "source": [
    "def robMemo(nums: list[int]) -> int:\n",
    "    \"\"\"\n",
    "    Memoization: Top down approach\n",
    "    Time: O(N), Space: O(N)\n",
    "    \"\"\"\n",
    "\n",
    "    @functools.cache\n",
    "    def backtrack(curr: int) -> int:\n",
    "        if curr >= N:\n",
    "            return 0\n",
    "        else:\n",
    "            return max(backtrack(curr + 1), nums[curr] + backtrack(curr + 2))\n",
    "\n",
    "    N = len(nums)\n",
    "    return backtrack(0)\n",
    "\n",
    "# Testing the solution\n",
    "assert robMemo([2,7,9,3,1]) == 12"
   ]
  },
  {
   "cell_type": "code",
   "execution_count": 14,
   "id": "e69063ac",
   "metadata": {
    "execution": {
     "iopub.execute_input": "2024-05-17T02:31:31.800495Z",
     "iopub.status.busy": "2024-05-17T02:31:31.800031Z",
     "iopub.status.idle": "2024-05-17T02:31:31.804343Z",
     "shell.execute_reply": "2024-05-17T02:31:31.803816Z"
    },
    "lines_to_next_cell": 1,
    "papermill": {
     "duration": 0.021334,
     "end_time": "2024-05-17T02:31:31.805362",
     "exception": false,
     "start_time": "2024-05-17T02:31:31.784028",
     "status": "completed"
    },
    "tags": []
   },
   "outputs": [],
   "source": [
    "def robTab(nums: list[int]) -> int:\n",
    "    \"\"\"\n",
    "    Tabulation: Bottom up approach\n",
    "    Time: O(N), Space: O(N)\n",
    "    \"\"\"\n",
    "    N = len(nums)\n",
    "    dp: list[int] = [-1 for i in range(N + 1)]\n",
    "    dp[-1], dp[-2] = 0, nums[-1]\n",
    "    for curr in range(N - 2, -1, -1):\n",
    "        dp[curr] = max(nums[curr] + dp[curr + 2], dp[curr + 1])\n",
    "\n",
    "    return dp[0]\n",
    "\n",
    "# Testing the solution\n",
    "assert robTab([2,7,9,3,1]) == 12"
   ]
  },
  {
   "cell_type": "code",
   "execution_count": 15,
   "id": "d3ac1b1c",
   "metadata": {
    "execution": {
     "iopub.execute_input": "2024-05-17T02:31:31.838575Z",
     "iopub.status.busy": "2024-05-17T02:31:31.838116Z",
     "iopub.status.idle": "2024-05-17T02:31:31.841924Z",
     "shell.execute_reply": "2024-05-17T02:31:31.841459Z"
    },
    "lines_to_next_cell": 1,
    "papermill": {
     "duration": 0.021049,
     "end_time": "2024-05-17T02:31:31.842962",
     "exception": false,
     "start_time": "2024-05-17T02:31:31.821913",
     "status": "completed"
    },
    "tags": []
   },
   "outputs": [],
   "source": [
    "# https://leetcode.com/problems/house-robber/submissions/1249841355/\n",
    "def robSpaceOptimized(nums: list[int]) -> int:\n",
    "    \"Time: O(N), Space: O(1)\"\n",
    "    next1 = next2 = 0\n",
    "    for curr in range(len(nums) - 1, -1, -1):\n",
    "        next1, next2 = max(nums[curr] + next2, next1), next1\n",
    "\n",
    "    return next1\n",
    "\n",
    "assert robSpaceOptimized([2,7,9,3,1]) == 12"
   ]
  },
  {
   "cell_type": "markdown",
   "id": "630eec21",
   "metadata": {
    "papermill": {
     "duration": 0.015285,
     "end_time": "2024-05-17T02:31:31.873927",
     "exception": false,
     "start_time": "2024-05-17T02:31:31.858642",
     "status": "completed"
    },
    "tags": []
   },
   "source": [
    "House Robber 2: https://youtu.be/3WaxQMELSkw?si=i9oGKnDJGJxvUjbu\n",
    "https://leetcode.com/problems/house-robber-ii/submissions/1249888930"
   ]
  },
  {
   "cell_type": "code",
   "execution_count": 16,
   "id": "3ee7a5cf",
   "metadata": {
    "execution": {
     "iopub.execute_input": "2024-05-17T02:31:31.906130Z",
     "iopub.status.busy": "2024-05-17T02:31:31.905578Z",
     "iopub.status.idle": "2024-05-17T02:31:31.910110Z",
     "shell.execute_reply": "2024-05-17T02:31:31.909657Z"
    },
    "lines_to_next_cell": 1,
    "papermill": {
     "duration": 0.021932,
     "end_time": "2024-05-17T02:31:31.911264",
     "exception": false,
     "start_time": "2024-05-17T02:31:31.889332",
     "status": "completed"
    },
    "tags": []
   },
   "outputs": [],
   "source": [
    "def rob2(nums: list[int]) -> int:\n",
    "    \"\"\"\n",
    "    Ans cannot contain both the first and the last house.\n",
    "    It can contain either the first or the last house.\n",
    "    \"\"\"\n",
    "    def rob(arr: list[int]) -> int:\n",
    "        next1 = next2 = 0\n",
    "        for curr in range(len(arr) - 1, -1, -1):\n",
    "            next1, next2 = max(arr[curr] + next2, next1), next1\n",
    "\n",
    "        return next1\n",
    "\n",
    "    return max(rob(nums[1:]), rob(nums[:-1])) if len(nums) > 1 else sum(nums)\n",
    "\n",
    "# Testing the solution\n",
    "assert rob2([1,2,3,1]) == 4\n",
    "assert rob2([]) == 0"
   ]
  },
  {
   "cell_type": "markdown",
   "id": "52745498",
   "metadata": {
    "papermill": {
     "duration": 0.015387,
     "end_time": "2024-05-17T02:31:31.942605",
     "exception": false,
     "start_time": "2024-05-17T02:31:31.927218",
     "status": "completed"
    },
    "tags": []
   },
   "source": [
    "Ninja's Training: https://youtu.be/AE39gJYuRog?si=n4BhCotno-9chP5j"
   ]
  },
  {
   "cell_type": "code",
   "execution_count": 17,
   "id": "c814dc79",
   "metadata": {
    "execution": {
     "iopub.execute_input": "2024-05-17T02:31:31.974731Z",
     "iopub.status.busy": "2024-05-17T02:31:31.974288Z",
     "iopub.status.idle": "2024-05-17T02:31:31.979651Z",
     "shell.execute_reply": "2024-05-17T02:31:31.979122Z"
    },
    "lines_to_next_cell": 1,
    "papermill": {
     "duration": 0.022865,
     "end_time": "2024-05-17T02:31:31.980775",
     "exception": false,
     "start_time": "2024-05-17T02:31:31.957910",
     "status": "completed"
    },
    "tags": []
   },
   "outputs": [],
   "source": [
    "def ninjaTrainingBetter(N: int, points: list[list[int]]) -> int:\n",
    "    \"\"\"\n",
    "    Memoization: Top down approach\n",
    "\n",
    "    Time: O(N), Space: O(N) + O(N)\n",
    "    \"\"\"\n",
    "\n",
    "    @functools.cache\n",
    "    def backtrack(i: int, j: int) -> int:\n",
    "        if i == N:\n",
    "            return 0\n",
    "        else:\n",
    "            max_ = -math.inf\n",
    "            for k in range(3):\n",
    "                if k != j:\n",
    "                    max_ = max(max_, points[i][k] + backtrack(i + 1, k))\n",
    "\n",
    "            return int(max_)\n",
    "\n",
    "    return backtrack(0, -1)\n",
    "\n",
    "# Testing the solution\n",
    "assert ninjaTrainingBetter(3, [[10,40,70], [20,50,80], [30,60,90]]) == 210\n",
    "assert ninjaTrainingBetter(3, [[1,2,5], [3,1,1], [3,3,3]]) == 11\n",
    "assert ninjaTrainingBetter(2, [[10,50,1], [5,100,11]]) == 110"
   ]
  },
  {
   "cell_type": "code",
   "execution_count": 18,
   "id": "015e9458",
   "metadata": {
    "execution": {
     "iopub.execute_input": "2024-05-17T02:31:32.013307Z",
     "iopub.status.busy": "2024-05-17T02:31:32.012853Z",
     "iopub.status.idle": "2024-05-17T02:31:32.018433Z",
     "shell.execute_reply": "2024-05-17T02:31:32.017980Z"
    },
    "lines_to_next_cell": 1,
    "papermill": {
     "duration": 0.022951,
     "end_time": "2024-05-17T02:31:32.019597",
     "exception": false,
     "start_time": "2024-05-17T02:31:31.996646",
     "status": "completed"
    },
    "tags": []
   },
   "outputs": [],
   "source": [
    "def ninjaTraining(N: int, points: list[list[int]]) -> int:\n",
    "    \"\"\"\n",
    "    Space optimized Tabulation DP: Bottom up\n",
    "\n",
    "    Start at the last day.\n",
    "    At each day we sum up corresponding values with the values in DP and assign them to DP.\n",
    "    Before moving the prev day, to the DP perform this op -> dp[i] = max(dp[j]) where j != i\n",
    "\n",
    "    At the end of the iteration simply return max of DP.\n",
    "\n",
    "    Time: O(N), Space: O(1)\n",
    "    \"\"\"\n",
    "\n",
    "    dp: list[int] = [0, 0, 0]\n",
    "    for i in range(N - 1, -1, -1):\n",
    "        for j in range(3):\n",
    "            dp[j] += points[i][j]\n",
    "\n",
    "        next_dp: list[int] = []\n",
    "        for j in range(3):\n",
    "            next_dp.append(max(dp[k] for k in range(3) if k != j))\n",
    "\n",
    "        dp = next_dp\n",
    "\n",
    "    return max(dp)\n",
    "\n",
    "# Testing the solution\n",
    "assert ninjaTraining(3, [[10,40,70], [20,50,80], [30,60,90]]) == 210\n",
    "assert ninjaTraining(3, [[1,2,5], [3,1,1], [3,3,3]]) == 11\n",
    "assert ninjaTraining(2, [[10,50,1], [5,100,11]]) == 110"
   ]
  },
  {
   "cell_type": "markdown",
   "id": "d132fa58",
   "metadata": {
    "papermill": {
     "duration": 0.015261,
     "end_time": "2024-05-17T02:31:32.050820",
     "exception": false,
     "start_time": "2024-05-17T02:31:32.035559",
     "status": "completed"
    },
    "tags": []
   },
   "source": [
    "Unique 2D paths: https://youtu.be/sdE0A2Oxofw?si=g1FpuSIYx0x95G-7\n",
    "https://leetcode.com/problems/unique-paths/"
   ]
  },
  {
   "cell_type": "code",
   "execution_count": 19,
   "id": "d035c9d7",
   "metadata": {
    "execution": {
     "iopub.execute_input": "2024-05-17T02:31:32.082917Z",
     "iopub.status.busy": "2024-05-17T02:31:32.082374Z",
     "iopub.status.idle": "2024-05-17T02:31:32.087183Z",
     "shell.execute_reply": "2024-05-17T02:31:32.086664Z"
    },
    "lines_to_next_cell": 1,
    "papermill": {
     "duration": 0.022024,
     "end_time": "2024-05-17T02:31:32.088253",
     "exception": false,
     "start_time": "2024-05-17T02:31:32.066229",
     "status": "completed"
    },
    "tags": []
   },
   "outputs": [],
   "source": [
    "def uniquePathsMemo(m: int, n: int) -> int:\n",
    "    \"\"\"\n",
    "    Memoization Solution: Top Down\n",
    "    Time: O(m x n), Space: O(m x n) + O(m x n)\n",
    "    \"\"\"\n",
    "    @functools.cache\n",
    "    def backtrack(i: int, j: int) -> int:\n",
    "        if i == m - 1 and j == n - 1:\n",
    "            return 1\n",
    "        elif i >= m or j >= n:\n",
    "            return 0\n",
    "        else:\n",
    "            return backtrack(i + 1, j) + backtrack(i, j + 1)\n",
    "\n",
    "    return backtrack(0, 0)\n",
    "\n",
    "# Testing the solution\n",
    "assert uniquePathsMemo(3, 7) == 28\n",
    "assert uniquePathsMemo(3, 2) == 3"
   ]
  },
  {
   "cell_type": "code",
   "execution_count": 20,
   "id": "c3fb756d",
   "metadata": {
    "execution": {
     "iopub.execute_input": "2024-05-17T02:31:32.120646Z",
     "iopub.status.busy": "2024-05-17T02:31:32.120118Z",
     "iopub.status.idle": "2024-05-17T02:31:32.124365Z",
     "shell.execute_reply": "2024-05-17T02:31:32.123823Z"
    },
    "lines_to_next_cell": 1,
    "papermill": {
     "duration": 0.021492,
     "end_time": "2024-05-17T02:31:32.125491",
     "exception": false,
     "start_time": "2024-05-17T02:31:32.103999",
     "status": "completed"
    },
    "tags": []
   },
   "outputs": [],
   "source": [
    "# https://leetcode.com/problems/unique-paths/submissions/1250526713\n",
    "def uniquePathsTab(m: int, n: int) -> int:\n",
    "    \"Time: O(m x n), Space: O(min(m, n))\"\n",
    "    M, N = min(m, n), max(m, n)\n",
    "    dp: list[int] = [1 for i in range(M)]\n",
    "\n",
    "    for i in range(N - 1):\n",
    "        for j in range(M - 2, -1, -1):\n",
    "            dp[j] += dp[j + 1]\n",
    "\n",
    "    return dp[0]\n",
    "\n",
    "# Testing the solution\n",
    "assert uniquePathsTab(3, 7) == 28\n",
    "assert uniquePathsTab(3, 2) == 3"
   ]
  },
  {
   "cell_type": "markdown",
   "id": "bb22f54a",
   "metadata": {
    "papermill": {
     "duration": 0.015351,
     "end_time": "2024-05-17T02:31:32.156522",
     "exception": false,
     "start_time": "2024-05-17T02:31:32.141171",
     "status": "completed"
    },
    "tags": []
   },
   "source": [
    "Video link: https://youtu.be/TmhpgXScLyY?si=M_FfFKRqRTXid4Jj\n",
    "Unique Paths - ii: https://leetcode.com/problems/unique-paths-ii/submissions/1250615914"
   ]
  },
  {
   "cell_type": "code",
   "execution_count": 21,
   "id": "f59a530c",
   "metadata": {
    "execution": {
     "iopub.execute_input": "2024-05-17T02:31:32.189189Z",
     "iopub.status.busy": "2024-05-17T02:31:32.188598Z",
     "iopub.status.idle": "2024-05-17T02:31:32.194174Z",
     "shell.execute_reply": "2024-05-17T02:31:32.193613Z"
    },
    "lines_to_next_cell": 1,
    "papermill": {
     "duration": 0.022999,
     "end_time": "2024-05-17T02:31:32.195362",
     "exception": false,
     "start_time": "2024-05-17T02:31:32.172363",
     "status": "completed"
    },
    "tags": []
   },
   "outputs": [],
   "source": [
    "def uniquePathsWithObstacles(obstacleGrid: list[list[int]]) -> int:\n",
    "    \"Time: O(M x N), Space: O(N)\"\n",
    "    M, N = len(obstacleGrid), len(obstacleGrid[0])\n",
    "\n",
    "    dp: list[int] = [0 for j in range(N)]\n",
    "    dp[-1] = 1\n",
    "\n",
    "    for i in range(M - 1, -1, -1):\n",
    "        for j in range(N - 1, -1, -1):\n",
    "            if obstacleGrid[i][j] == 0:\n",
    "                dp[j] = dp[j] + dp[j + 1] if j < N - 1 else dp[j]\n",
    "            else:\n",
    "                dp[j] = 0\n",
    "\n",
    "    return dp[0]\n",
    "\n",
    "# Testing the solution\n",
    "assert uniquePathsWithObstacles([[0,0,0],[0,1,0],[0,0,0]]) == 2\n",
    "assert uniquePathsWithObstacles([[0,1],[0,0]]) == 1\n",
    "assert uniquePathsWithObstacles([[1]]) == 0"
   ]
  },
  {
   "cell_type": "markdown",
   "id": "93e28e9b",
   "metadata": {
    "papermill": {
     "duration": 0.015536,
     "end_time": "2024-05-17T02:31:32.226751",
     "exception": false,
     "start_time": "2024-05-17T02:31:32.211215",
     "status": "completed"
    },
    "tags": []
   },
   "source": [
    "Minimum Path Sum: https://youtu.be/_rgTlyky1uQ?si=3xJY7MmVg5tTEW5Q\n",
    "https://leetcode.com/problems/minimum-path-sum/submissions/1250633614"
   ]
  },
  {
   "cell_type": "code",
   "execution_count": 22,
   "id": "c97f7ce9",
   "metadata": {
    "execution": {
     "iopub.execute_input": "2024-05-17T02:31:32.259071Z",
     "iopub.status.busy": "2024-05-17T02:31:32.258553Z",
     "iopub.status.idle": "2024-05-17T02:31:32.263926Z",
     "shell.execute_reply": "2024-05-17T02:31:32.263405Z"
    },
    "lines_to_next_cell": 1,
    "papermill": {
     "duration": 0.022711,
     "end_time": "2024-05-17T02:31:32.265118",
     "exception": false,
     "start_time": "2024-05-17T02:31:32.242407",
     "status": "completed"
    },
    "tags": []
   },
   "outputs": [],
   "source": [
    "def minPathSum(grid: list[list[int]]) -> int:\n",
    "    \"Time: O(M x N), Space: O(N)\"\n",
    "    M, N = len(grid), len(grid[0])\n",
    "\n",
    "    # Initialize DP\n",
    "    dp: list[float] = [math.inf for j in range(N)]\n",
    "    dp[-1] = 0\n",
    "\n",
    "    # DP Solution\n",
    "    for i in range(M - 1, -1, -1):\n",
    "        for j in range(N - 1, -1, -1):\n",
    "            dp[j] = grid[i][j] + (min(dp[j + 1], dp[j]) if j < N - 1 else dp[j])\n",
    "\n",
    "    return int(dp[0])\n",
    "\n",
    "# Testing the solution\n",
    "assert minPathSum([[1,3,1],[1,5,1],[4,2,1]]) == 7\n",
    "assert minPathSum([[1,2,3],[4,5,6]]) == 12"
   ]
  },
  {
   "cell_type": "markdown",
   "id": "107526ff",
   "metadata": {
    "papermill": {
     "duration": 0.015282,
     "end_time": "2024-05-17T02:31:32.296154",
     "exception": false,
     "start_time": "2024-05-17T02:31:32.280872",
     "status": "completed"
    },
    "tags": []
   },
   "source": [
    "Video Link: https://youtu.be/0bHoB32fuj0?si=5UHeArKmLvTVpbrk\n",
    "Triangle: https://leetcode.com/problems/triangle/submissions/1251774955/"
   ]
  },
  {
   "cell_type": "code",
   "execution_count": 23,
   "id": "62387041",
   "metadata": {
    "execution": {
     "iopub.execute_input": "2024-05-17T02:31:32.328191Z",
     "iopub.status.busy": "2024-05-17T02:31:32.327774Z",
     "iopub.status.idle": "2024-05-17T02:31:32.332554Z",
     "shell.execute_reply": "2024-05-17T02:31:32.331999Z"
    },
    "lines_to_next_cell": 1,
    "papermill": {
     "duration": 0.022106,
     "end_time": "2024-05-17T02:31:32.333680",
     "exception": false,
     "start_time": "2024-05-17T02:31:32.311574",
     "status": "completed"
    },
    "tags": []
   },
   "outputs": [],
   "source": [
    "def minimumTotal(triangle: list[list[int]]) -> int:\n",
    "    \"\"\"Time: O(N x N), Space: O(N)\"\"\"\n",
    "    N = len(triangle)\n",
    "    dp: list[int] = [0 for i in range(N + 1)]\n",
    "\n",
    "    while N > 0:\n",
    "        next_: list[int] = []\n",
    "        for i in range(N):\n",
    "            next_.append(min(dp[i], dp[i + 1]) + triangle[N - 1][i])\n",
    "        dp = next_\n",
    "        N -= 1\n",
    "\n",
    "    return dp[0]\n",
    "\n",
    "# Testing the solution\n",
    "assert minimumTotal([[2],[3,4],[6,5,7],[4,1,8,3]]) == 11\n",
    "assert minimumTotal([[-10]]) == -10"
   ]
  },
  {
   "cell_type": "markdown",
   "id": "51332104",
   "metadata": {
    "papermill": {
     "duration": 0.015237,
     "end_time": "2024-05-17T02:31:32.364346",
     "exception": false,
     "start_time": "2024-05-17T02:31:32.349109",
     "status": "completed"
    },
    "tags": []
   },
   "source": [
    "Video Link: https://youtu.be/N_aJ5qQbYA0?si=LTME1YI3hqtU8u8_\n",
    "Maximum Falling path sum\n",
    "We cannot apply greedy algorithms here because there is no uniformity mentioned. Uniformity implies how the numbers are distributed.\n",
    "For eg:\n",
    "```\n",
    "1   2  3    4\n",
    "10  1  100  1\n",
    "1   2  5    0\n",
    "```\n",
    "In the above example from (0, 0), if we greedily chose (1, 0) - we would miss out on 100 at (1, 2). \n",
    "If suppose we were told that the numbers were arranged in ascending or descending order we can greedily pick a path"
   ]
  },
  {
   "cell_type": "code",
   "execution_count": 24,
   "id": "4f9fb3eb",
   "metadata": {
    "execution": {
     "iopub.execute_input": "2024-05-17T02:31:32.396038Z",
     "iopub.status.busy": "2024-05-17T02:31:32.395685Z",
     "iopub.status.idle": "2024-05-17T02:31:32.401296Z",
     "shell.execute_reply": "2024-05-17T02:31:32.400833Z"
    },
    "lines_to_next_cell": 1,
    "papermill": {
     "duration": 0.022779,
     "end_time": "2024-05-17T02:31:32.402360",
     "exception": false,
     "start_time": "2024-05-17T02:31:32.379581",
     "status": "completed"
    },
    "tags": []
   },
   "outputs": [],
   "source": [
    "def getMaxPathSumBetter(matrix: list[list[int]]):\n",
    "    \"\"\"\n",
    "    With memoization:\n",
    "    Time complexity: O(3 ^ N)\n",
    "\n",
    "    Memoization Approach: Top Down\n",
    "    Time: O(N x M), Space: O(N x M) + O(N x M)\n",
    "    \"\"\"\n",
    "    M, N = len(matrix), len(matrix[0])\n",
    "\n",
    "    @functools.cache\n",
    "    def backtrack(i: int = 0, j: int = 0) -> float:\n",
    "        if i >= M:\n",
    "            return 0\n",
    "        elif j < 0 or j >= N:\n",
    "            return -math.inf\n",
    "        else:\n",
    "            return matrix[i][j] + max(backtrack(i + 1, j - 1), backtrack(i + 1, j), backtrack(i + 1, j + 1))\n",
    "\n",
    "    maxPathSum = -math.inf\n",
    "    for j in range(N):\n",
    "        maxPathSum = max(maxPathSum, backtrack(0, j))\n",
    "\n",
    "    return int(maxPathSum)\n",
    "\n",
    "# Testing the solution\n",
    "assert getMaxPathSumBetter([[1,2,10,4],[100,3,2,1],[1,1,20,2],[1,2,2,1]]) == 105\n",
    "assert getMaxPathSumBetter([[10,2,3],[3,7,2],[8,1,5]]) == 25"
   ]
  },
  {
   "cell_type": "code",
   "execution_count": 25,
   "id": "b3cf95be",
   "metadata": {
    "execution": {
     "iopub.execute_input": "2024-05-17T02:31:32.435443Z",
     "iopub.status.busy": "2024-05-17T02:31:32.434953Z",
     "iopub.status.idle": "2024-05-17T02:31:32.440305Z",
     "shell.execute_reply": "2024-05-17T02:31:32.439842Z"
    },
    "lines_to_next_cell": 1,
    "papermill": {
     "duration": 0.023146,
     "end_time": "2024-05-17T02:31:32.441389",
     "exception": false,
     "start_time": "2024-05-17T02:31:32.418243",
     "status": "completed"
    },
    "tags": []
   },
   "outputs": [],
   "source": [
    "def getMaxPathSum(matrix: list[list[int]]):\n",
    "    \"\"\"\n",
    "    Space optimized DP: Bottom up\n",
    "    Time: O(M x N), Space: O(N)\n",
    "    \"\"\"\n",
    "    M, N = len(matrix), len(matrix[0])\n",
    "\n",
    "    dp: list[float] = [0 for i in range(N)]\n",
    "    i = M - 1\n",
    "    while i >= 0:\n",
    "        next_: list[float] = []\n",
    "        for j in range(N):\n",
    "            next_.append(matrix[i][j] + max(dp[j - 1] if j - 1 >= 0 else -math.inf, dp[j], dp[j + 1] if j + 1 < N else -math.inf))\n",
    "\n",
    "        dp = next_\n",
    "        i -= 1\n",
    "\n",
    "    return max(dp)\n",
    "\n",
    "# Testing the solution\n",
    "assert getMaxPathSum([[1,2,10,4],[100,3,2,1],[1,1,20,2],[1,2,2,1]]) == 105\n",
    "assert getMaxPathSum([[10,2,3],[3,7,2],[8,1,5]]) == 25"
   ]
  },
  {
   "cell_type": "markdown",
   "id": "703cdb9d",
   "metadata": {
    "papermill": {
     "duration": 0.015356,
     "end_time": "2024-05-17T02:31:32.472596",
     "exception": false,
     "start_time": "2024-05-17T02:31:32.457240",
     "status": "completed"
    },
    "tags": []
   },
   "source": [
    "Cherry Pickup: 2: https://leetcode.com/problems/cherry-pickup-ii/\n",
    "Video Link: https://youtu.be/QGfn7JeXK54?si=2K0Lz9iKN_IxLUDN"
   ]
  },
  {
   "cell_type": "code",
   "execution_count": 26,
   "id": "d82f0e5d",
   "metadata": {
    "execution": {
     "iopub.execute_input": "2024-05-17T02:31:32.504463Z",
     "iopub.status.busy": "2024-05-17T02:31:32.504006Z",
     "iopub.status.idle": "2024-05-17T02:31:32.511149Z",
     "shell.execute_reply": "2024-05-17T02:31:32.510576Z"
    },
    "lines_to_next_cell": 1,
    "papermill": {
     "duration": 0.024358,
     "end_time": "2024-05-17T02:31:32.512250",
     "exception": false,
     "start_time": "2024-05-17T02:31:32.487892",
     "status": "completed"
    },
    "tags": []
   },
   "outputs": [],
   "source": [
    "def cherryPickupMemo(grid: list[list[int]]) -> int:\n",
    "    \"\"\"\n",
    "    Without memoization, time complexity: O(3 ^ M * 3 ^ M)\n",
    "\n",
    "    Space complexity is definitely improved with using @functools.cache, using list here to illustrate.\n",
    "    Time: O (M x N x N), Space: O (M x N x N)\n",
    "\n",
    "    To figure out the dp size, simply check how many parameters are chaning. Here we have an i, j1, j2 and hence dp is a 3D Matrix.\n",
    "    \"\"\"\n",
    "    M, N = len(grid), len(grid[0])\n",
    "    dp: list[list[list[float]]] = [[[-1 for k in range(N)] for j in range(N)] for i in range(M)]\n",
    "\n",
    "    def backtrack(i: int, j1: int, j2: int) -> float:\n",
    "        if j1 < 0 or j2 < 0 or j1 >= N or j2 >= N or j1 == j2:\n",
    "            return -math.inf\n",
    "        elif i > M - 1:\n",
    "            return 0\n",
    "        elif dp[i][j1][j2] != -1:\n",
    "            return dp[i][j1][j2]\n",
    "        else:\n",
    "            next_picked = -math.inf\n",
    "            for j1_offset in range(-1, 2):\n",
    "                for j2_offset in range(-1, 2):\n",
    "                    next_picked = max(next_picked, backtrack(i + 1, j1 + j1_offset, j2 + j2_offset))\n",
    "\n",
    "            dp[i][j1][j2] = grid[i][j1] + grid[i][j2] + next_picked\n",
    "            return dp[i][j1][j2]\n",
    "\n",
    "    result = int(backtrack(0, 0, N - 1))\n",
    "    return result\n",
    "\n",
    "# Testing the solution\n",
    "assert cherryPickupMemo([[1,0,0,0,0,0,1],[2,0,0,0,0,3,0],[2,0,9,0,0,0,0],[0,3,0,5,4,0,0],[1,0,2,3,0,0,6]]) == 28"
   ]
  },
  {
   "cell_type": "code",
   "execution_count": 27,
   "id": "85c88b05",
   "metadata": {
    "execution": {
     "iopub.execute_input": "2024-05-17T02:31:32.545086Z",
     "iopub.status.busy": "2024-05-17T02:31:32.544625Z",
     "iopub.status.idle": "2024-05-17T02:31:32.552201Z",
     "shell.execute_reply": "2024-05-17T02:31:32.551661Z"
    },
    "lines_to_next_cell": 1,
    "papermill": {
     "duration": 0.02506,
     "end_time": "2024-05-17T02:31:32.553274",
     "exception": false,
     "start_time": "2024-05-17T02:31:32.528214",
     "status": "completed"
    },
    "tags": []
   },
   "outputs": [],
   "source": [
    "def cherryPickupTab(grid: list[list[int]]) -> int:\n",
    "    \"\"\"\n",
    "    Simply start with the base case. Move bottom up.\n",
    "    \"\"\"\n",
    "    M, N = len(grid), len(grid[0])\n",
    "\n",
    "    # Initialize DP with the base case\n",
    "    dp: list[list[list[float]]] = [[[0 for k in range(N)] for j in range(N)] for i in range(M)]\n",
    "    for j1 in range(N):\n",
    "        for j2 in range(N):\n",
    "            dp[-1][j1][j2] = grid[-1][j1] + grid[-1][j2] if j1 != j2 else grid[-1][j1]\n",
    "\n",
    "    # i, j1, j2: (0 - M), (0 - N), (0 - N)\n",
    "    for i in range(M - 2, -1, -1):\n",
    "        for j1 in range(N):\n",
    "            for j2 in range(N):\n",
    "                max_: float = -math.inf\n",
    "                curr = grid[i][j1] + grid[i][j2] if j1 != j2 else grid[i][j1]\n",
    "                for j1_offset in range(-1, 2):\n",
    "                    for j2_offset in range(-1, 2):\n",
    "                        if 0 <= j1 + j1_offset < N and 0 <= j2 + j2_offset < N:\n",
    "                            max_ = max(max_, dp[i + 1][j1 + j1_offset][j2 + j2_offset])\n",
    "\n",
    "                dp[i][j1][j2] = max(-1, max_ + curr)\n",
    "\n",
    "    return int(dp[0][0][-1])\n",
    "\n",
    "# Testing the solution\n",
    "assert cherryPickupTab([[1,0,0,0,0,0,1],[2,0,0,0,0,3,0],[2,0,9,0,0,0,0],[0,3,0,5,4,0,0],[1,0,2,3,0,0,6]]) == 28"
   ]
  },
  {
   "cell_type": "code",
   "execution_count": 28,
   "id": "e2fdb650",
   "metadata": {
    "execution": {
     "iopub.execute_input": "2024-05-17T02:31:32.586001Z",
     "iopub.status.busy": "2024-05-17T02:31:32.585456Z",
     "iopub.status.idle": "2024-05-17T02:31:32.592555Z",
     "shell.execute_reply": "2024-05-17T02:31:32.592097Z"
    },
    "lines_to_next_cell": 1,
    "papermill": {
     "duration": 0.024536,
     "end_time": "2024-05-17T02:31:32.593616",
     "exception": false,
     "start_time": "2024-05-17T02:31:32.569080",
     "status": "completed"
    },
    "tags": []
   },
   "outputs": [],
   "source": [
    "def cherryPickupSpaceOptimized(grid: list[list[int]]) -> int:\n",
    "    M, N = len(grid), len(grid[0])\n",
    "    dp: list[list[float]] = [[grid[-1][j1] + grid[-1][j2] if j1 != j2 else grid[-1][j1] for j1 in range(N)] for j2 in range(N)]\n",
    "\n",
    "    for i in range(M - 2, -1, -1):\n",
    "        dp_next: list[list[float]] = []\n",
    "        for j1 in range(N):\n",
    "            dp_next.append([])\n",
    "            for j2 in range(N):\n",
    "                max_: float = -math.inf\n",
    "                curr = grid[i][j1] + grid[i][j2] if j1 != j2 else grid[i][j1]\n",
    "                for j1_offset in range(-1, 2):\n",
    "                    for j2_offset in range(-1, 2):\n",
    "                        if 0 <= j1 + j1_offset < N and 0 <= j2 + j2_offset < N:\n",
    "                            max_ = max(max_, dp[j1 + j1_offset][j2 + j2_offset])\n",
    "\n",
    "                dp_next[j1].append(curr + max_)\n",
    "        dp = dp_next\n",
    "\n",
    "    return int(dp[0][-1])\n",
    "\n",
    "# Testing the solution\n",
    "assert cherryPickupSpaceOptimized([[1,0,0,0,0,0,1],[2,0,0,0,0,3,0],[2,0,9,0,0,0,0],[0,3,0,5,4,0,0],[1,0,2,3,0,0,6]]) == 28"
   ]
  },
  {
   "cell_type": "markdown",
   "id": "17816765",
   "metadata": {
    "papermill": {
     "duration": 0.015544,
     "end_time": "2024-05-17T02:31:32.625315",
     "exception": false,
     "start_time": "2024-05-17T02:31:32.609771",
     "status": "completed"
    },
    "tags": []
   },
   "source": [
    "Subset sum equals target\n",
    "Video Link: https://youtu.be/fWX9xDmIzRI?si=jb2Tgvw_E0Tyk1Pj"
   ]
  },
  {
   "cell_type": "code",
   "execution_count": 29,
   "id": "4f37d7b7",
   "metadata": {
    "execution": {
     "iopub.execute_input": "2024-05-17T02:31:32.657572Z",
     "iopub.status.busy": "2024-05-17T02:31:32.657133Z",
     "iopub.status.idle": "2024-05-17T02:31:32.662619Z",
     "shell.execute_reply": "2024-05-17T02:31:32.662087Z"
    },
    "lines_to_next_cell": 1,
    "papermill": {
     "duration": 0.022893,
     "end_time": "2024-05-17T02:31:32.663703",
     "exception": false,
     "start_time": "2024-05-17T02:31:32.640810",
     "status": "completed"
    },
    "tags": []
   },
   "outputs": [],
   "source": [
    "def isSubsetSumMemo(N: int, arr: list[int], target: int) -> int:\n",
    "    \"\"\"\n",
    "    For cases where subset exists, the recursion would stop early. For the negative cases, we would get overlapping subproblems and\n",
    "    hence memoization would help decrease the time complexity.\n",
    "\n",
    "    Time without memoization: O(2 ^ N), Space: O(N)\n",
    "    With memoization: O(N x target), Space: O(N x target) + O(N)\n",
    "    \"\"\"\n",
    "\n",
    "    dp: list[list[int]] = [[-1 for j in range(target + 1)] for i in range(N)]\n",
    "    def backtrack(i: int, total: int) -> bool:\n",
    "        if total == 0:\n",
    "            return True\n",
    "        elif total < 0 or i > N - 1:\n",
    "            return False\n",
    "        elif dp[i][total] != -1:\n",
    "            return bool(dp[i][total])\n",
    "        else:\n",
    "            result = backtrack(i + 1, total - arr[i]) or backtrack(i + 1, total)\n",
    "            dp[i][total] = int(result)\n",
    "            return result\n",
    "\n",
    "    return backtrack(0, target)\n",
    "\n",
    "# Testing the solution\n",
    "assert isSubsetSumMemo(6, [3, 34, 4, 12, 5, 2], 9) == True\n",
    "assert isSubsetSumMemo(6, [3, 34, 4, 12, 5, 2], 30) == False"
   ]
  },
  {
   "cell_type": "code",
   "execution_count": 30,
   "id": "5551c36b",
   "metadata": {
    "execution": {
     "iopub.execute_input": "2024-05-17T02:31:32.696347Z",
     "iopub.status.busy": "2024-05-17T02:31:32.695947Z",
     "iopub.status.idle": "2024-05-17T02:31:32.702142Z",
     "shell.execute_reply": "2024-05-17T02:31:32.701674Z"
    },
    "lines_to_next_cell": 1,
    "papermill": {
     "duration": 0.023809,
     "end_time": "2024-05-17T02:31:32.703274",
     "exception": false,
     "start_time": "2024-05-17T02:31:32.679465",
     "status": "completed"
    },
    "tags": []
   },
   "outputs": [
    {
     "name": "stdout",
     "output_type": "stream",
     "text": [
      "[[1, 0, 1, 1, 1, 1, 1, 1, 1, 1], [1, 0, 1, 0, 1, 1, 1, 1, 0, 1], [1, 0, 1, 0, 1, 1, 1, 1, 0, 1], [1, 0, 1, 0, 0, 1, 0, 1, 0, 0], [1, 0, 1, 0, 0, 1, 0, 1, 0, 0], [1, 0, 1, 0, 0, 0, 0, 0, 0, 0], [1, 0, 0, 0, 0, 0, 0, 0, 0, 0]]\n",
      "[[1, 0, 1, 1, 1, 1, 1, 1, 1, 1, 1, 1, 1, 0, 1, 1, 1, 1, 1, 1, 1, 1, 1, 1, 1, 0, 1, 0, 0, 0, 0], [1, 0, 1, 0, 1, 1, 1, 1, 0, 1, 0, 1, 1, 0, 1, 0, 1, 1, 1, 1, 0, 1, 0, 1, 0, 0, 0, 0, 0, 0, 0], [1, 0, 1, 0, 1, 1, 1, 1, 0, 1, 0, 1, 1, 0, 1, 0, 1, 1, 1, 1, 0, 1, 0, 1, 0, 0, 0, 0, 0, 0, 0], [1, 0, 1, 0, 0, 1, 0, 1, 0, 0, 0, 0, 1, 0, 1, 0, 0, 1, 0, 1, 0, 0, 0, 0, 0, 0, 0, 0, 0, 0, 0], [1, 0, 1, 0, 0, 1, 0, 1, 0, 0, 0, 0, 0, 0, 0, 0, 0, 0, 0, 0, 0, 0, 0, 0, 0, 0, 0, 0, 0, 0, 0], [1, 0, 1, 0, 0, 0, 0, 0, 0, 0, 0, 0, 0, 0, 0, 0, 0, 0, 0, 0, 0, 0, 0, 0, 0, 0, 0, 0, 0, 0, 0], [1, 0, 0, 0, 0, 0, 0, 0, 0, 0, 0, 0, 0, 0, 0, 0, 0, 0, 0, 0, 0, 0, 0, 0, 0, 0, 0, 0, 0, 0, 0]]\n"
     ]
    }
   ],
   "source": [
    "def isSubsetSumTab(N: int, arr: list[int], target: int) -> bool:\n",
    "    \"\"\"\n",
    "    Each cell in the dp represents -> If total - arr[i] is true down the line.\n",
    "    Note that dp[i][0] is always true, since if the target is to be 0 regardless of arr[i] tehn subsetSumTarget is possible.\n",
    "    \"\"\"\n",
    "    dp: list[list[int]] = [[1 if j == 0 else -1 if i < N else 0 for j in range(target + 1)] for i in range(N + 1)]\n",
    "\n",
    "    for i in range(N - 1, -1, -1):\n",
    "        for total in range(1, target + 1):\n",
    "            if dp[i + 1][total] == 1 or (total - arr[i] >= 0 and dp[i + 1][total - arr[i]] == 1):\n",
    "                dp[i][total] = 1\n",
    "            else:\n",
    "                dp[i][total] = 0\n",
    "\n",
    "    print(dp)\n",
    "    return bool(dp[0][target])\n",
    "\n",
    "# Testing the solution\n",
    "assert isSubsetSumTab(6, [3, 34, 4, 12, 5, 2], 9) == True\n",
    "assert isSubsetSumTab(6, [3, 34, 4, 12, 5, 2], 30) == False"
   ]
  },
  {
   "cell_type": "code",
   "execution_count": 31,
   "id": "ca80b369",
   "metadata": {
    "execution": {
     "iopub.execute_input": "2024-05-17T02:31:32.735976Z",
     "iopub.status.busy": "2024-05-17T02:31:32.735369Z",
     "iopub.status.idle": "2024-05-17T02:31:32.740736Z",
     "shell.execute_reply": "2024-05-17T02:31:32.740306Z"
    },
    "lines_to_next_cell": 1,
    "papermill": {
     "duration": 0.02288,
     "end_time": "2024-05-17T02:31:32.741839",
     "exception": false,
     "start_time": "2024-05-17T02:31:32.718959",
     "status": "completed"
    },
    "tags": []
   },
   "outputs": [],
   "source": [
    "def isSubsetSumSpaceOptimized(N: int, arr: list[int], target: int) -> bool:\n",
    "    \"Time: O(N x target), Space: O(target)\"\n",
    "    dp: list[int] = [0 if j > 0 else 1 for j in range(target + 1)]\n",
    "\n",
    "    for i in range(N - 1, -1, -1):\n",
    "        next_: list[int] = []\n",
    "        for total in range(target + 1):\n",
    "            if total == 0 or dp[total] == 1 or (total - arr[i] >= 0 and dp[total - arr[i]] == 1):\n",
    "                next_.append(1)\n",
    "            else:\n",
    "                next_.append(0)\n",
    "\n",
    "        dp = next_\n",
    "\n",
    "    return bool(dp[target])\n",
    "\n",
    "# Testing the solution\n",
    "assert isSubsetSumSpaceOptimized(6, [3, 34, 4, 12, 5, 2], 9) == True\n",
    "assert isSubsetSumSpaceOptimized(6, [3, 34, 4, 12, 5, 2], 30) == False"
   ]
  },
  {
   "cell_type": "markdown",
   "id": "7a10f4ca",
   "metadata": {
    "papermill": {
     "duration": 0.015615,
     "end_time": "2024-05-17T02:31:32.773588",
     "exception": false,
     "start_time": "2024-05-17T02:31:32.757973",
     "status": "completed"
    },
    "tags": []
   },
   "source": [
    "Partition equal subset sum: https://leetcode.com/problems/partition-equal-subset-sum/\n",
    "Video Link: https://youtu.be/7win3dcgo3k?si=LJO4Ot4EZzQ2fRc0"
   ]
  },
  {
   "cell_type": "code",
   "execution_count": 32,
   "id": "373088cf",
   "metadata": {
    "execution": {
     "iopub.execute_input": "2024-05-17T02:31:32.806125Z",
     "iopub.status.busy": "2024-05-17T02:31:32.805628Z",
     "iopub.status.idle": "2024-05-17T02:31:32.811066Z",
     "shell.execute_reply": "2024-05-17T02:31:32.810615Z"
    },
    "lines_to_next_cell": 1,
    "papermill": {
     "duration": 0.022838,
     "end_time": "2024-05-17T02:31:32.812212",
     "exception": false,
     "start_time": "2024-05-17T02:31:32.789374",
     "status": "completed"
    },
    "tags": []
   },
   "outputs": [],
   "source": [
    "# https://leetcode.com/problems/partition-equal-subset-sum/submissions/1253314239\n",
    "def canPartition(nums: list[int]) -> bool:\n",
    "    def subsetSumEqualsTarget(target: int) -> bool:\n",
    "        \"Time: O(N x target), Space: O(target)\"\n",
    "        dp: list[bool] = [False if i > 0 else True for i in range(target + 1)]\n",
    "        for i in range(N - 1, -1, -1):\n",
    "            next_: list[bool] = []\n",
    "            for total in range(target + 1):\n",
    "                if total == 0 or dp[total] or (total - nums[i] >= 0 and dp[total - nums[i]]):\n",
    "                    next_.append(True)\n",
    "                else:\n",
    "                    next_.append(False)\n",
    "\n",
    "            dp = next_\n",
    "\n",
    "        return dp[target]\n",
    "\n",
    "    N = len(nums)\n",
    "    total = sum(nums)\n",
    "    return total % 2 == 0 and subsetSumEqualsTarget(total // 2)\n",
    "\n",
    "# Testing the solution\n",
    "assert canPartition([1,5,11,5]) == True\n",
    "assert canPartition([1,2,3,5]) == False\n",
    "assert canPartition([3,3,3,4,5]) == True"
   ]
  },
  {
   "cell_type": "markdown",
   "id": "56f6a268",
   "metadata": {
    "papermill": {
     "duration": 0.015388,
     "end_time": "2024-05-17T02:31:32.843640",
     "exception": false,
     "start_time": "2024-05-17T02:31:32.828252",
     "status": "completed"
    },
    "tags": []
   },
   "source": [
    "Partition Array Into Two Arrays to Minimize Sum Difference\n",
    "Video link: https://youtu.be/GS_OqZb2CWc?si=Jtc2dP_dqmNi5Zli"
   ]
  },
  {
   "cell_type": "code",
   "execution_count": 33,
   "id": "00588c88",
   "metadata": {
    "execution": {
     "iopub.execute_input": "2024-05-17T02:31:32.876196Z",
     "iopub.status.busy": "2024-05-17T02:31:32.875676Z",
     "iopub.status.idle": "2024-05-17T02:31:32.881149Z",
     "shell.execute_reply": "2024-05-17T02:31:32.880616Z"
    },
    "lines_to_next_cell": 1,
    "papermill": {
     "duration": 0.023102,
     "end_time": "2024-05-17T02:31:32.882254",
     "exception": false,
     "start_time": "2024-05-17T02:31:32.859152",
     "status": "completed"
    },
    "tags": []
   },
   "outputs": [],
   "source": [
    "def minimumDifferenceBrute(nums: list[int]) -> int:\n",
    "    \"\"\"\n",
    "    Throws a TLE :(\n",
    "    \"\"\"\n",
    "    N, total_sum = len(nums), sum(nums)\n",
    "    subset_length = N // 2\n",
    "\n",
    "    @functools.cache\n",
    "    def backtrack(i: int, subset_sum: int, count: int) -> float:\n",
    "        if count == subset_length:\n",
    "            return abs(2 * subset_sum - total_sum)\n",
    "        elif i == N:\n",
    "            return math.inf\n",
    "        else:\n",
    "            return min(backtrack(i + 1, subset_sum + nums[i], count + 1), backtrack(i + 1, subset_sum, count))\n",
    "\n",
    "    result = int(backtrack(0, 0, 0))\n",
    "    return result\n",
    "\n",
    "# Testing the solution\n",
    "assert minimumDifferenceBrute([3,9,7,3]) == 2\n",
    "assert minimumDifferenceBrute([-36,36]) == 72\n",
    "assert minimumDifferenceBrute([2,-1,0,4,-2,-9]) == 0"
   ]
  },
  {
   "cell_type": "code",
   "execution_count": 34,
   "id": "97c34ef1",
   "metadata": {
    "execution": {
     "iopub.execute_input": "2024-05-17T02:31:32.915111Z",
     "iopub.status.busy": "2024-05-17T02:31:32.914626Z",
     "iopub.status.idle": "2024-05-17T02:31:32.921867Z",
     "shell.execute_reply": "2024-05-17T02:31:32.921315Z"
    },
    "lines_to_next_cell": 1,
    "papermill": {
     "duration": 0.024822,
     "end_time": "2024-05-17T02:31:32.923032",
     "exception": false,
     "start_time": "2024-05-17T02:31:32.898210",
     "status": "completed"
    },
    "tags": []
   },
   "outputs": [],
   "source": [
    "def minimumDifference(nums: list[int]) -> int:\n",
    "    \"\"\"\n",
    "    Use the DP tabulation approach we used to check if a subset with target sum exists. Still Memory limit exceeded.\n",
    "    Note that this is different the one on the video. This solution is leetcode specific. In the video by Striver, the values can only be positive. Further more we can split into any size.\n",
    "    In LC however, the subset must be split into 2 halves, values can be both positive and negative.\n",
    "    \"\"\"\n",
    "\n",
    "    N, total_abs_sum, total_sum = len(nums), sum(map(abs, nums)), sum(nums)\n",
    "\n",
    "    # Each value represents the length of subset summing up to target. -1 if cannot be reached.\n",
    "    dp: list[int] = [-1 if j != 0 else 0 for j in range(-total_abs_sum, total_abs_sum + 1)]\n",
    "\n",
    "    for i in range(N - 1, -1, -1):\n",
    "        next_dp: list[int] = []\n",
    "        for target in range(-total_abs_sum, total_abs_sum + 1):\n",
    "            # Pick, subset length incremented by 1\n",
    "            if 0 <= target - nums[i] + total_abs_sum <= 2 * total_abs_sum and dp[target - nums[i] + total_abs_sum] != -1:\n",
    "                subset_length = dp[target - nums[i] + total_abs_sum] + 1\n",
    "                existing_length = dp[target + total_abs_sum]\n",
    "                next_dp.append(subset_length if existing_length != N // 2 else existing_length)\n",
    "            # No pick, hence subset length is unupdated\n",
    "            elif dp[target + total_abs_sum] != -1:\n",
    "                next_dp.append(dp[target + total_abs_sum])\n",
    "            # Base case\n",
    "            elif target == 0:\n",
    "                next_dp.append(0)\n",
    "            # Sum cannot be reached\n",
    "            else:\n",
    "                next_dp.append(-1)\n",
    "\n",
    "        dp = next_dp\n",
    "\n",
    "    # Find out targets where value is N // 2\n",
    "    min_diff: float = math.inf\n",
    "    for subset_sum, subset_length in enumerate(dp, start=-total_abs_sum):\n",
    "        if subset_length == N // 2:\n",
    "            min_diff = min(min_diff, abs(2 * subset_sum - total_sum))\n",
    "\n",
    "    return int(min_diff)\n",
    "\n",
    "# Testing the solution\n",
    "assert minimumDifference([3,9,7,3]) == 2\n",
    "assert minimumDifference([-36,36]) == 72\n",
    "assert minimumDifference([2,-1,0,4,-2,-9]) == 0"
   ]
  },
  {
   "cell_type": "code",
   "execution_count": 35,
   "id": "54752ee1",
   "metadata": {
    "execution": {
     "iopub.execute_input": "2024-05-17T02:31:32.955496Z",
     "iopub.status.busy": "2024-05-17T02:31:32.954956Z",
     "iopub.status.idle": "2024-05-17T02:31:32.960579Z",
     "shell.execute_reply": "2024-05-17T02:31:32.960130Z"
    },
    "lines_to_next_cell": 1,
    "papermill": {
     "duration": 0.022962,
     "end_time": "2024-05-17T02:31:32.961686",
     "exception": false,
     "start_time": "2024-05-17T02:31:32.938724",
     "status": "completed"
    },
    "tags": []
   },
   "outputs": [],
   "source": [
    "def minSubsetSumDifference(arr: list[int], N: int) -> int:\n",
    "    # Compute max total sum\n",
    "    total_sum: int = sum(arr)\n",
    "\n",
    "    # Compute DP grid for all possible subset sums\n",
    "    dp: list[bool] = [False if i > 0 else True for i in range(total_sum + 1)]\n",
    "    for i in range(N - 1, -1, -1):\n",
    "        next_dp: list[bool] = []\n",
    "        for target in range(total_sum + 1):\n",
    "            if target == 0 or dp[target] or (target - arr[i] >= 0 and dp[target - arr[i]]):\n",
    "                next_dp.append(True)\n",
    "            else:\n",
    "                next_dp.append(False)\n",
    "        dp = next_dp\n",
    "\n",
    "    # Compute the minimum subset difference\n",
    "    min_diff: int = total_sum\n",
    "\n",
    "    # total_sum / 2 since it is enough if we computed one half, diff of sum from total sum would cover the other half as well\n",
    "    for target in range(math.ceil(total_sum / 2) + 1):\n",
    "        if dp[target]:\n",
    "            min_diff = min(min_diff, abs(2 * target - total_sum))\n",
    "\n",
    "    return min_diff\n",
    "\n",
    "# Testing the solution\n",
    "assert minSubsetSumDifference([8,6,5], 3) == 3"
   ]
  },
  {
   "cell_type": "markdown",
   "id": "884d535e",
   "metadata": {
    "papermill": {
     "duration": 0.015391,
     "end_time": "2024-05-17T02:31:32.993076",
     "exception": false,
     "start_time": "2024-05-17T02:31:32.977685",
     "status": "completed"
    },
    "tags": []
   },
   "source": [
    "Count subsets with sum k"
   ]
  },
  {
   "cell_type": "code",
   "execution_count": 36,
   "id": "534b55bb",
   "metadata": {
    "execution": {
     "iopub.execute_input": "2024-05-17T02:31:33.025208Z",
     "iopub.status.busy": "2024-05-17T02:31:33.024697Z",
     "iopub.status.idle": "2024-05-17T02:31:33.030806Z",
     "shell.execute_reply": "2024-05-17T02:31:33.030349Z"
    },
    "lines_to_next_cell": 1,
    "papermill": {
     "duration": 0.023519,
     "end_time": "2024-05-17T02:31:33.032007",
     "exception": false,
     "start_time": "2024-05-17T02:31:33.008488",
     "status": "completed"
    },
    "tags": []
   },
   "outputs": [],
   "source": [
    "def perfectSumMemo(nums: list[int], N: int, K: int):\n",
    "    \"\"\"\n",
    "    Time: O(N * K) + O(N); Space: O(N * K)\n",
    "    \"\"\"\n",
    "\n",
    "    # Filter out all the zeros\n",
    "    arr: list[int] = []\n",
    "    N = zero_count = 0\n",
    "    for n in nums:\n",
    "        if n > 0:\n",
    "            arr.append(n)\n",
    "            N += 1\n",
    "        else:\n",
    "            zero_count += 1\n",
    "\n",
    "    # Compute the results and store it to a list\n",
    "    dp: list[list[int]] = [[-1 for j in range(K + 1)] for i in range(N)]\n",
    "\n",
    "    # Recursively find the solution\n",
    "    def backtrack(i: int, total: int) -> int:\n",
    "        if total == K:\n",
    "            return 1\n",
    "        elif i >= N or total > K:\n",
    "            return 0\n",
    "        elif dp[i][total] != -1:\n",
    "            return dp[i][total]\n",
    "        else:\n",
    "            result = backtrack(i + 1, total + arr[i]) + backtrack(i + 1, total)\n",
    "            dp[i][total] = result\n",
    "            return result\n",
    "\n",
    "    return backtrack(0, 0) * (2 ** zero_count)\n",
    "\n",
    "# Testing the solution\n",
    "assert perfectSumMemo([5, 2, 3, 10, 6, 8], 6, 10) == 3\n",
    "assert perfectSumMemo([1, 0], 2, 1) == 2"
   ]
  },
  {
   "cell_type": "code",
   "execution_count": 37,
   "id": "dee4da2c",
   "metadata": {
    "execution": {
     "iopub.execute_input": "2024-05-17T02:31:33.064702Z",
     "iopub.status.busy": "2024-05-17T02:31:33.064200Z",
     "iopub.status.idle": "2024-05-17T02:31:33.069943Z",
     "shell.execute_reply": "2024-05-17T02:31:33.069433Z"
    },
    "lines_to_next_cell": 1,
    "papermill": {
     "duration": 0.023192,
     "end_time": "2024-05-17T02:31:33.071002",
     "exception": false,
     "start_time": "2024-05-17T02:31:33.047810",
     "status": "completed"
    },
    "tags": []
   },
   "outputs": [],
   "source": [
    "def perfectSumTabulation(nums: list[int], N: int, K: int):\n",
    "    # Filter out all the zeros\n",
    "    arr: list[int] = []\n",
    "    N = zero_count = 0\n",
    "    for n in nums:\n",
    "        if n > 0:\n",
    "            arr.append(n)\n",
    "            N += 1\n",
    "        else:\n",
    "            zero_count += 1\n",
    "\n",
    "    # Initialize a DP array\n",
    "    dp: list[list[int]] = [[-1 if j < K else 1 for j in range(K + 1)] for i in range(N)]\n",
    "    dp.append([0 if j < K else 1 for j in range(K + 1)])\n",
    "\n",
    "    # Traverse through grid\n",
    "    for i in range(N - 1, -1, -1):\n",
    "        for total in range(K):\n",
    "            dp[i][total] = dp[i + 1][total]\n",
    "            if total + arr[i] <= K:\n",
    "                dp[i][total] += dp[i + 1][total + arr[i]]\n",
    "\n",
    "    return dp[0][0] * (2 ** zero_count)\n",
    "\n",
    "# Testing the solution\n",
    "assert perfectSumTabulation([5, 2, 3, 10, 6, 8], 6, 10) == 3\n",
    "assert perfectSumTabulation([1, 0], 2, 1) == 2"
   ]
  },
  {
   "cell_type": "code",
   "execution_count": 38,
   "id": "2d2468ad",
   "metadata": {
    "execution": {
     "iopub.execute_input": "2024-05-17T02:31:33.103633Z",
     "iopub.status.busy": "2024-05-17T02:31:33.103137Z",
     "iopub.status.idle": "2024-05-17T02:31:33.108621Z",
     "shell.execute_reply": "2024-05-17T02:31:33.108171Z"
    },
    "lines_to_next_cell": 1,
    "papermill": {
     "duration": 0.023047,
     "end_time": "2024-05-17T02:31:33.109736",
     "exception": false,
     "start_time": "2024-05-17T02:31:33.086689",
     "status": "completed"
    },
    "tags": []
   },
   "outputs": [],
   "source": [
    "def perfectSum(nums: list[int], N: int, K: int):\n",
    "    # Filter out all the zeros\n",
    "    arr: list[int] = []\n",
    "    N = zero_count = 0\n",
    "    for n in nums:\n",
    "        if n > 0:\n",
    "            arr.append(n)\n",
    "            N += 1\n",
    "        else:\n",
    "            zero_count += 1\n",
    "\n",
    "    # Initialize a DP array\n",
    "    dp: list[int] = [0 if j < K else 1 for j in range(K + 1)]\n",
    "\n",
    "    # Traverse through grid\n",
    "    for i in range(N - 1, -1, -1):\n",
    "        next_dp: list[int] = []\n",
    "        for total in range(K + 1):\n",
    "            next_dp.append(dp[total])\n",
    "            if total + arr[i] <= K:\n",
    "                next_dp[-1] += dp[total + arr[i]]\n",
    "\n",
    "        dp = next_dp\n",
    "\n",
    "    return dp[0] * (2 ** zero_count)\n",
    "\n",
    "# Testing the solution\n",
    "assert perfectSum([5, 2, 3, 10, 6, 8], 6, 10) == 3\n",
    "assert perfectSum([1, 0], 2, 1) == 2"
   ]
  },
  {
   "cell_type": "markdown",
   "id": "2bff8c7f",
   "metadata": {
    "papermill": {
     "duration": 0.01533,
     "end_time": "2024-05-17T02:31:33.141009",
     "exception": false,
     "start_time": "2024-05-17T02:31:33.125679",
     "status": "completed"
    },
    "tags": []
   },
   "source": [
    "Count Paritions with given difference: https://youtu.be/zoilQD1kYSg?si=F8PFSkzkZXEsFJ2N"
   ]
  },
  {
   "cell_type": "code",
   "execution_count": 39,
   "id": "051bd113",
   "metadata": {
    "execution": {
     "iopub.execute_input": "2024-05-17T02:31:33.173263Z",
     "iopub.status.busy": "2024-05-17T02:31:33.172732Z",
     "iopub.status.idle": "2024-05-17T02:31:33.177890Z",
     "shell.execute_reply": "2024-05-17T02:31:33.177456Z"
    },
    "lines_to_next_cell": 1,
    "papermill": {
     "duration": 0.022745,
     "end_time": "2024-05-17T02:31:33.179248",
     "exception": false,
     "start_time": "2024-05-17T02:31:33.156503",
     "status": "completed"
    },
    "tags": []
   },
   "outputs": [],
   "source": [
    "def countPartitionsMemo(N: int, diff: int, arr: list[int]) -> int:\n",
    "    \"\"\"\n",
    "    s1 + s2 = S\n",
    "    s1 - s2 = d\n",
    "    2 * s1 = S + d\n",
    "\n",
    "    Time: O(N x target) + O(N)\n",
    "    Space: O(N x target)\n",
    "    \"\"\"\n",
    "\n",
    "    # Simply check if the target exists\n",
    "    target = (sum(arr) + diff) / 2\n",
    "\n",
    "    # Count all subset sums equals target\n",
    "    @functools.cache\n",
    "    def backtrack(i: int, total: int) -> int:\n",
    "        if i == N:\n",
    "            return total == target\n",
    "        elif total > target:\n",
    "            return 0\n",
    "        else:\n",
    "            return backtrack(i + 1, total + arr[i]) + backtrack(i + 1, total)\n",
    "\n",
    "    result = backtrack(0, 0) if target == int(target) else 0\n",
    "    MOD = int(1e9 + 7)\n",
    "    return result % MOD\n",
    "\n",
    "# Testing the solution\n",
    "assert countPartitionsMemo(4, 0, [1,1,1,1]) == 6\n",
    "assert countPartitionsMemo(4, 3, [5,2,6,4]) == 1\n",
    "assert countPartitionsMemo(5, 5, [1,3,3,2,1]) == 0"
   ]
  },
  {
   "cell_type": "code",
   "execution_count": 40,
   "id": "4cd9fbc1",
   "metadata": {
    "execution": {
     "iopub.execute_input": "2024-05-17T02:31:33.212285Z",
     "iopub.status.busy": "2024-05-17T02:31:33.211764Z",
     "iopub.status.idle": "2024-05-17T02:31:33.217643Z",
     "shell.execute_reply": "2024-05-17T02:31:33.217123Z"
    },
    "lines_to_next_cell": 1,
    "papermill": {
     "duration": 0.023549,
     "end_time": "2024-05-17T02:31:33.218790",
     "exception": false,
     "start_time": "2024-05-17T02:31:33.195241",
     "status": "completed"
    },
    "tags": []
   },
   "outputs": [],
   "source": [
    "def countPartitionsTabulation(N: int, diff: int, arr: list[int]) -> int:\n",
    "    \"\"\"\n",
    "    Time: O(N x target), Space: O(N x target)\n",
    "    \"\"\"\n",
    "    # Simply check if the target exists\n",
    "    target_: float = (sum(arr) + diff) / 2\n",
    "    MOD = int(1e9 + 7)\n",
    "\n",
    "    if int(target_) != target_:\n",
    "        return 0\n",
    "\n",
    "    else:\n",
    "\n",
    "        # Convert to int for typing support\n",
    "        target = int(target_)\n",
    "\n",
    "        # Initialize DP array for tabulation\n",
    "        dp: list[list[int]] = [[0 if j != target or i != N else 1 for j in range(target + 1)] for i in range(N + 1)]\n",
    "\n",
    "        # Iterate through DP and find the solution\n",
    "        for i in range(N - 1, -1, -1):\n",
    "            for total in range(target + 1):\n",
    "                dp[i][total] = dp[i + 1][total]\n",
    "                if total + arr[i] <= target:\n",
    "                    dp[i][total] += dp[i + 1][total + arr[i]]\n",
    "\n",
    "        return dp[0][0]\n",
    "\n",
    "# Testing the solution\n",
    "assert countPartitionsTabulation(4, 3, [5,2,6,4]) == 1\n",
    "assert countPartitionsTabulation(4, 3, [5,2,6,4]) == 1\n",
    "assert countPartitionsTabulation(5, 5, [1,3,3,2,1]) == 0"
   ]
  },
  {
   "cell_type": "code",
   "execution_count": 41,
   "id": "09aacbe5",
   "metadata": {
    "execution": {
     "iopub.execute_input": "2024-05-17T02:31:33.251345Z",
     "iopub.status.busy": "2024-05-17T02:31:33.250860Z",
     "iopub.status.idle": "2024-05-17T02:31:33.256516Z",
     "shell.execute_reply": "2024-05-17T02:31:33.256057Z"
    },
    "lines_to_next_cell": 1,
    "papermill": {
     "duration": 0.023127,
     "end_time": "2024-05-17T02:31:33.257601",
     "exception": false,
     "start_time": "2024-05-17T02:31:33.234474",
     "status": "completed"
    },
    "tags": []
   },
   "outputs": [],
   "source": [
    "def countPartitions(N: int, diff: int, arr: list[int]) -> int:\n",
    "    # Simply check if the target exists\n",
    "    target_: float = (sum(arr) + diff) / 2\n",
    "    MOD = int(1e9 + 7)\n",
    "\n",
    "    if int(target_) != target_:\n",
    "        return 0\n",
    "\n",
    "    else:\n",
    "        # Convert to int for type hinting\n",
    "        target = int(target_)\n",
    "\n",
    "        # Create a 1D grid (space optimized)\n",
    "        dp: list[int] = [0 if j != target else 1 for j in range(target + 1)]\n",
    "\n",
    "        # Iterate through DP\n",
    "        for i in range(N - 1, -1, -1):\n",
    "            next_dp: list[int] = []\n",
    "            for total in range(target + 1):\n",
    "                next_dp.append(dp[total])\n",
    "                if total + arr[i] <= target:\n",
    "                    next_dp[-1] += dp[total + arr[i]]\n",
    "\n",
    "            dp = next_dp\n",
    "\n",
    "        return dp[0] % MOD\n",
    "\n",
    "# Testing the solution\n",
    "assert countPartitions(4, 3, [5,2,6,4]) == 1\n",
    "assert countPartitions(4, 3, [5,2,6,4]) == 1\n",
    "assert countPartitions(5, 5, [1,3,3,2,1]) == 0"
   ]
  },
  {
   "cell_type": "markdown",
   "id": "db7bdbb0",
   "metadata": {
    "papermill": {
     "duration": 0.015459,
     "end_time": "2024-05-17T02:31:33.288775",
     "exception": false,
     "start_time": "2024-05-17T02:31:33.273316",
     "status": "completed"
    },
    "tags": []
   },
   "source": [
    "Video Link: https://youtu.be/GqOmJHQZivw?si=dHaZZvKQa2PHaukO\n",
    "0/1 Knapsack"
   ]
  },
  {
   "cell_type": "code",
   "execution_count": 42,
   "id": "51fdc55d",
   "metadata": {
    "execution": {
     "iopub.execute_input": "2024-05-17T02:31:33.320905Z",
     "iopub.status.busy": "2024-05-17T02:31:33.320375Z",
     "iopub.status.idle": "2024-05-17T02:31:33.325574Z",
     "shell.execute_reply": "2024-05-17T02:31:33.325063Z"
    },
    "lines_to_next_cell": 1,
    "papermill": {
     "duration": 0.022789,
     "end_time": "2024-05-17T02:31:33.326963",
     "exception": false,
     "start_time": "2024-05-17T02:31:33.304174",
     "status": "completed"
    },
    "tags": []
   },
   "outputs": [],
   "source": [
    "def knapsack01Memo(N: int, max_weight: int, weights: list[int], values: list[int]) -> int:\n",
    "    \"\"\"\n",
    "    Time complexity without memoization: O(2 ** N), Space: O(N).\n",
    "    Post memoization: O(N x max_weight), Space: O(N x max_weight)\n",
    "    \"\"\"\n",
    "    @functools.cache\n",
    "    def backtrack(i: int, total_weight: int) -> float:\n",
    "        \"\"\"\n",
    "        Intuition: Till index i, what is the max value, we can accumulate with max_weight as total_weight.\n",
    "        \"\"\"\n",
    "        if total_weight > max_weight:\n",
    "            return -math.inf\n",
    "        elif i >= N:\n",
    "            return 0\n",
    "        else:\n",
    "            pick = values[i] + backtrack(i + 1, total_weight + weights[i])\n",
    "            nopick = backtrack(i + 1, total_weight)\n",
    "            return max(pick, nopick)\n",
    "\n",
    "    result = backtrack(0, 0)\n",
    "    return int(max(result, 0))\n",
    "\n",
    "# Testing the solution\n",
    "assert knapsack01Memo(4, 5, [1,2,4,5], [5,4,8,6]) == 13\n",
    "assert knapsack01Memo(3, 8, [3,4,5], [30,50,60]) == 90"
   ]
  },
  {
   "cell_type": "code",
   "execution_count": 43,
   "id": "e0b05d00",
   "metadata": {
    "execution": {
     "iopub.execute_input": "2024-05-17T02:31:33.358914Z",
     "iopub.status.busy": "2024-05-17T02:31:33.358535Z",
     "iopub.status.idle": "2024-05-17T02:31:33.363779Z",
     "shell.execute_reply": "2024-05-17T02:31:33.363315Z"
    },
    "lines_to_next_cell": 1,
    "papermill": {
     "duration": 0.022321,
     "end_time": "2024-05-17T02:31:33.364893",
     "exception": false,
     "start_time": "2024-05-17T02:31:33.342572",
     "status": "completed"
    },
    "tags": []
   },
   "outputs": [],
   "source": [
    "def knapsack01Tabulation(N: int, max_weight: int, weights: list[int], values: list[int]) -> int:\n",
    "    dp: list[list[int]] = [[-1 if i < N else 0 for j in range(max_weight + 1)] for i in range(N + 1)]\n",
    "    for i in range(N - 1, -1, -1):\n",
    "        for total_weight in range(max_weight + 1):\n",
    "            # No pick\n",
    "            dp[i][total_weight] = dp[i + 1][total_weight]\n",
    "\n",
    "            # Pick\n",
    "            if total_weight + weights[i] <= max_weight:\n",
    "                dp[i][total_weight] = max(dp[i][total_weight], values[i] + dp[i + 1][total_weight + weights[i]])\n",
    "\n",
    "    return dp[0][0]\n",
    "\n",
    "# Testing the solution\n",
    "assert knapsack01Tabulation(4, 5, [1,2,4,5], [5,4,8,6]) == 13\n",
    "assert knapsack01Tabulation(3, 8, [3,4,5], [30,50,60]) == 90"
   ]
  },
  {
   "cell_type": "code",
   "execution_count": 44,
   "id": "045af9de",
   "metadata": {
    "execution": {
     "iopub.execute_input": "2024-05-17T02:31:33.396535Z",
     "iopub.status.busy": "2024-05-17T02:31:33.396169Z",
     "iopub.status.idle": "2024-05-17T02:31:33.401132Z",
     "shell.execute_reply": "2024-05-17T02:31:33.400685Z"
    },
    "lines_to_next_cell": 1,
    "papermill": {
     "duration": 0.021794,
     "end_time": "2024-05-17T02:31:33.402214",
     "exception": false,
     "start_time": "2024-05-17T02:31:33.380420",
     "status": "completed"
    },
    "tags": []
   },
   "outputs": [],
   "source": [
    "def knapsack01SpaceOptimized(N: int, max_weight: int, weights: list[int], values: list[int]) -> int:\n",
    "    dp: list[int] = [0 for j in range(max_weight + 1)]\n",
    "    for i in range(N - 1, -1, -1):\n",
    "        next_dp: list[int] = []\n",
    "        for total_weight in range(max_weight + 1):\n",
    "            next_dp.append(dp[total_weight]) # No pick\n",
    "            if weights[i] + total_weight <= max_weight:\n",
    "                next_dp[-1] = max(next_dp[-1], values[i] + dp[weights[i] + total_weight]) # Pick\n",
    "        dp = next_dp\n",
    "\n",
    "    return dp[0]\n",
    "\n",
    "# Testing the solution\n",
    "assert knapsack01SpaceOptimized(4, 5, [1,2,4,5], [5,4,8,6]) == 13\n",
    "assert knapsack01SpaceOptimized(3, 8, [3,4,5], [30,50,60]) == 90"
   ]
  },
  {
   "cell_type": "code",
   "execution_count": 45,
   "id": "b6d1c8d2",
   "metadata": {
    "execution": {
     "iopub.execute_input": "2024-05-17T02:31:33.434375Z",
     "iopub.status.busy": "2024-05-17T02:31:33.434029Z",
     "iopub.status.idle": "2024-05-17T02:31:33.438905Z",
     "shell.execute_reply": "2024-05-17T02:31:33.438409Z"
    },
    "lines_to_next_cell": 1,
    "papermill": {
     "duration": 0.022163,
     "end_time": "2024-05-17T02:31:33.440015",
     "exception": false,
     "start_time": "2024-05-17T02:31:33.417852",
     "status": "completed"
    },
    "tags": []
   },
   "outputs": [],
   "source": [
    "def knapsack01(N: int, max_weight: int, weights: list[int], values: list[int]) -> int:\n",
    "    \"\"\"\n",
    "    Space optimization to use just a single row. This is possible because\n",
    "    in the inner loop we are moving from the left to right and at each iteration\n",
    "    we are using the element to the right, we have no need of the element to the left\n",
    "\n",
    "    [x . . . . . . * . . . ]\n",
    "    [. x . . . * . . . . . ]\n",
    "    [. . x . . . . . * . . ]\n",
    "\n",
    "    At the inner loop we had required the value of the element to the left, this would not have been possible.\n",
    "    \"\"\"\n",
    "    dp: list[int] = [0 for j in range(max_weight + 1)]\n",
    "    for i in range(N - 1, -1, -1):\n",
    "        for total_weight in range(max_weight + 1):\n",
    "            if weights[i] + total_weight <= max_weight:\n",
    "                dp[total_weight] = max(dp[total_weight], values[i] + dp[total_weight + weights[i]])\n",
    "\n",
    "    return dp[0]\n",
    "\n",
    "# Testing the solution\n",
    "assert knapsack01(4, 5, [1,2,4,5], [5,4,8,6]) == 13\n",
    "assert knapsack01(3, 8, [3,4,5], [30,50,60]) == 90"
   ]
  },
  {
   "cell_type": "markdown",
   "id": "71d6293a",
   "metadata": {
    "papermill": {
     "duration": 0.015256,
     "end_time": "2024-05-17T02:31:33.470701",
     "exception": false,
     "start_time": "2024-05-17T02:31:33.455445",
     "status": "completed"
    },
    "tags": []
   },
   "source": [
    "Video link: https://youtu.be/myPeWb3Y68A?si=9z1QMQXCYmEcFEW4\n",
    "Coin Change: https://leetcode.com/problems/coin-change/submissions/1255049748\n",
    "Logic: Whenever there is an infinite / unlimited supply, not_take would update the index, <br>\n",
    "take would not update index - it would stay where it is because we might end up picking it more than once"
   ]
  },
  {
   "cell_type": "code",
   "execution_count": 46,
   "id": "93a2c45e",
   "metadata": {
    "execution": {
     "iopub.execute_input": "2024-05-17T02:31:33.503209Z",
     "iopub.status.busy": "2024-05-17T02:31:33.502635Z",
     "iopub.status.idle": "2024-05-17T02:31:33.507670Z",
     "shell.execute_reply": "2024-05-17T02:31:33.507218Z"
    },
    "lines_to_next_cell": 1,
    "papermill": {
     "duration": 0.022599,
     "end_time": "2024-05-17T02:31:33.508747",
     "exception": false,
     "start_time": "2024-05-17T02:31:33.486148",
     "status": "completed"
    },
    "tags": []
   },
   "outputs": [],
   "source": [
    "def coinChangeMemoization(coins: list[int], amount: int) -> int:\n",
    "    \"\"\"\n",
    "    Without memoization, the time complexity is roughly 2 ** N. It would be greater than\n",
    "    2 ** N since at each index for take we are still staying at the same index.\n",
    "\n",
    "    With memoization, the time complexity is O(N x amount)\n",
    "    \"\"\"\n",
    "    @functools.cache\n",
    "    def backtrack(i: int, total: int) -> float:\n",
    "        if total == amount:\n",
    "            return 0\n",
    "        elif i == N or total > amount:\n",
    "            return math.inf\n",
    "        else:\n",
    "            return min(1 + backtrack(i, total + coins[i]), backtrack(i + 1, total))\n",
    "\n",
    "    N = len(coins)\n",
    "    result = backtrack(0, 0)\n",
    "    return int(result) if not math.isinf(result) else -1\n",
    "\n",
    "# Testing the solution\n",
    "assert coinChangeMemoization([1,2,5], 11) == 3\n",
    "assert coinChangeMemoization([2], 3) == -1"
   ]
  },
  {
   "cell_type": "code",
   "execution_count": 47,
   "id": "eb1b662f",
   "metadata": {
    "execution": {
     "iopub.execute_input": "2024-05-17T02:31:33.543710Z",
     "iopub.status.busy": "2024-05-17T02:31:33.543423Z",
     "iopub.status.idle": "2024-05-17T02:31:33.549257Z",
     "shell.execute_reply": "2024-05-17T02:31:33.548678Z"
    },
    "lines_to_next_cell": 1,
    "papermill": {
     "duration": 0.025646,
     "end_time": "2024-05-17T02:31:33.550613",
     "exception": false,
     "start_time": "2024-05-17T02:31:33.524967",
     "status": "completed"
    },
    "tags": []
   },
   "outputs": [],
   "source": [
    "def coinChangeTabulation(coins: list[int], amount: int) -> int:\n",
    "    N = len(coins)\n",
    "    dp: list[list[float]] = [[math.inf if j < amount else 0 for j in range(amount + 1)] for i in range(N + 1)]\n",
    "    for i in range(N - 1, -1, -1):\n",
    "        for total in range(amount, -1, -1):\n",
    "            if total + coins[i] <= amount:\n",
    "                dp[i][total] = min(dp[i + 1][total], 1 + dp[i][total + coins[i]])\n",
    "            else:\n",
    "                dp[i][total] = dp[i + 1][total]\n",
    "\n",
    "    result = dp[0][0]\n",
    "    return int(result) if not math.isinf(result) else -1\n",
    "\n",
    "# Testing the solution\n",
    "assert coinChangeTabulation([1,2,5], 11) == 3\n",
    "assert coinChangeTabulation([2], 3) == -1"
   ]
  },
  {
   "cell_type": "code",
   "execution_count": 48,
   "id": "ddd554c7",
   "metadata": {
    "execution": {
     "iopub.execute_input": "2024-05-17T02:31:33.583292Z",
     "iopub.status.busy": "2024-05-17T02:31:33.582772Z",
     "iopub.status.idle": "2024-05-17T02:31:33.587893Z",
     "shell.execute_reply": "2024-05-17T02:31:33.587440Z"
    },
    "lines_to_next_cell": 1,
    "papermill": {
     "duration": 0.022551,
     "end_time": "2024-05-17T02:31:33.589038",
     "exception": false,
     "start_time": "2024-05-17T02:31:33.566487",
     "status": "completed"
    },
    "tags": []
   },
   "outputs": [],
   "source": [
    "def coinChangeSpaceOptimized(coins: list[int], amount: int) -> int:\n",
    "    N = len(coins)\n",
    "    dp: list[float] = [math.inf if j < amount else 0 for j in range(amount + 1)]\n",
    "    for i in range(N - 1, -1, -1):\n",
    "        for total in range(amount, -1, -1):\n",
    "            if total + coins[i] <= amount:\n",
    "                dp[total] = min(dp[total], 1 + dp[total + coins[i]])\n",
    "\n",
    "    result = dp[0]\n",
    "    return int(result) if not math.isinf(result) else -1\n",
    "\n",
    "# Testing the solution\n",
    "assert coinChangeSpaceOptimized([1,2,5], 11) == 3\n",
    "assert coinChangeSpaceOptimized([2], 3) == -1"
   ]
  },
  {
   "cell_type": "markdown",
   "id": "3e5fb6cb",
   "metadata": {
    "papermill": {
     "duration": 0.015382,
     "end_time": "2024-05-17T02:31:33.620313",
     "exception": false,
     "start_time": "2024-05-17T02:31:33.604931",
     "status": "completed"
    },
    "tags": []
   },
   "source": [
    "Video Link: https://youtu.be/b3GD8263-PQ?si=CNz-raf3oynQQsPJ\n",
    "Target Sum: https://leetcode.com/problems/target-sum/"
   ]
  },
  {
   "cell_type": "code",
   "execution_count": 49,
   "id": "18960ee2",
   "metadata": {
    "execution": {
     "iopub.execute_input": "2024-05-17T02:31:33.652428Z",
     "iopub.status.busy": "2024-05-17T02:31:33.652180Z",
     "iopub.status.idle": "2024-05-17T02:31:33.656538Z",
     "shell.execute_reply": "2024-05-17T02:31:33.656036Z"
    },
    "lines_to_next_cell": 1,
    "papermill": {
     "duration": 0.021746,
     "end_time": "2024-05-17T02:31:33.657597",
     "exception": false,
     "start_time": "2024-05-17T02:31:33.635851",
     "status": "completed"
    },
    "tags": []
   },
   "outputs": [],
   "source": [
    "# https://leetcode.com/problems/target-sum/submissions/1255976702\n",
    "def findTargetSumWaysMemo(nums: list[int], target: int) -> int:\n",
    "    @functools.cache\n",
    "    def backtrack(i: int, total: int) -> int:\n",
    "        if i == N:\n",
    "            return int(total == target)\n",
    "        else:\n",
    "            return backtrack(i + 1, total - nums[i]) + backtrack(i + 1, total + nums[i])\n",
    "\n",
    "    N = len(nums)\n",
    "    return backtrack(0, 0)\n",
    "\n",
    "# Testing the solution\n",
    "assert findTargetSumWaysMemo([1,1,1,1,1], 3) == 5\n",
    "assert findTargetSumWaysMemo([1], 2) == 0"
   ]
  },
  {
   "cell_type": "code",
   "execution_count": 50,
   "id": "8420cf7b",
   "metadata": {
    "execution": {
     "iopub.execute_input": "2024-05-17T02:31:33.690194Z",
     "iopub.status.busy": "2024-05-17T02:31:33.689735Z",
     "iopub.status.idle": "2024-05-17T02:31:33.695516Z",
     "shell.execute_reply": "2024-05-17T02:31:33.695011Z"
    },
    "lines_to_next_cell": 1,
    "papermill": {
     "duration": 0.023269,
     "end_time": "2024-05-17T02:31:33.696683",
     "exception": false,
     "start_time": "2024-05-17T02:31:33.673414",
     "status": "completed"
    },
    "tags": []
   },
   "outputs": [],
   "source": [
    "def findTargetSumWaysTab(nums: list[int], target: int) -> int:\n",
    "    N: int = len(nums)\n",
    "    boundary: int = sum(nums)\n",
    "    dp: list[list[int]] = [[0 if i < N or j != target else 1 for j in range(-boundary, boundary + 1)] for i in range(N + 1)]\n",
    "\n",
    "    for i in range(N - 1, -1, -1):\n",
    "        for total in range(-boundary, boundary + 1):\n",
    "            if total - nums[i] + boundary >= 0:\n",
    "                dp[i][total + boundary] += dp[i + 1][total - nums[i] + boundary]\n",
    "            if total + nums[i] + boundary <= 2 * boundary:\n",
    "                dp[i][total + boundary] += dp[i + 1][total + nums[i] + boundary]\n",
    "\n",
    "    return dp[0][boundary]\n",
    "\n",
    "# Testing the solution\n",
    "assert findTargetSumWaysTab([1,1,1,1,1], 3) == 5\n",
    "assert findTargetSumWaysTab([1], 2) == 0"
   ]
  },
  {
   "cell_type": "code",
   "execution_count": 51,
   "id": "7c66396e",
   "metadata": {
    "execution": {
     "iopub.execute_input": "2024-05-17T02:31:33.729242Z",
     "iopub.status.busy": "2024-05-17T02:31:33.728856Z",
     "iopub.status.idle": "2024-05-17T02:31:33.734157Z",
     "shell.execute_reply": "2024-05-17T02:31:33.733639Z"
    },
    "lines_to_next_cell": 1,
    "papermill": {
     "duration": 0.022767,
     "end_time": "2024-05-17T02:31:33.735381",
     "exception": false,
     "start_time": "2024-05-17T02:31:33.712614",
     "status": "completed"
    },
    "tags": []
   },
   "outputs": [],
   "source": [
    "# https://leetcode.com/problems/target-sum/submissions/1255976333/\n",
    "def findTargetSumWays(nums: list[int], target: int) -> int:\n",
    "    N = len(nums)\n",
    "    boundary: int = sum(nums)\n",
    "    dp: list[int] = [0 if j != target else 1 for j in range(-boundary, boundary + 1)]\n",
    "\n",
    "    for i in range(N - 1, -1, -1):\n",
    "        next_dp: list[int] = []\n",
    "        for total in range(-boundary, boundary + 1):\n",
    "            next_dp.append(0)\n",
    "            if total + nums[i] + boundary <= 2 * boundary:\n",
    "                next_dp[-1] += dp[total + nums[i] + boundary]\n",
    "            if total - nums[i] + boundary >= 0:\n",
    "                next_dp[-1] += dp[total - nums[i] + boundary]\n",
    "\n",
    "        dp = next_dp\n",
    "\n",
    "    return dp[boundary]\n",
    "\n",
    "# Testing the solution\n",
    "assert findTargetSumWays([1,1,1,1,1], 3) == 5\n",
    "assert findTargetSumWays([1], 2) == 0"
   ]
  },
  {
   "cell_type": "code",
   "execution_count": 52,
   "id": "8f0e96f1",
   "metadata": {
    "execution": {
     "iopub.execute_input": "2024-05-17T02:31:33.768365Z",
     "iopub.status.busy": "2024-05-17T02:31:33.767925Z",
     "iopub.status.idle": "2024-05-17T02:31:33.773950Z",
     "shell.execute_reply": "2024-05-17T02:31:33.773409Z"
    },
    "lines_to_next_cell": 1,
    "papermill": {
     "duration": 0.023536,
     "end_time": "2024-05-17T02:31:33.775154",
     "exception": false,
     "start_time": "2024-05-17T02:31:33.751618",
     "status": "completed"
    },
    "tags": []
   },
   "outputs": [],
   "source": [
    "# Striver's approach: Use logic from 'Count Paritions with given difference'\n",
    "# https://leetcode.com/problems/target-sum/submissions/1255993345/\n",
    "def findTargetSumWaysStriver(nums: list[int], target: int) -> int:\n",
    "    \"\"\"\n",
    "    We need to count the number of subsets s1, s2 such that s1 - s2 = target.\n",
    "    s1 = (S + d) / 2\n",
    "    \"\"\"\n",
    "\n",
    "    S = sum(nums)\n",
    "    s1 = (S + target) / 2\n",
    "    s2 = S - s1\n",
    "\n",
    "    # Edge case - target is negative.\n",
    "    if s1 < 0:\n",
    "        s1 = s2\n",
    "\n",
    "    count = 0\n",
    "    if int(s1) == s1:\n",
    "        s1 = int(s1)\n",
    "        zero_count = nums.count(0)\n",
    "        nums = list(filter(lambda x: x != 0, nums))\n",
    "        N = len(nums)\n",
    "        dp: list[int] = [0 if j < s1 else 1 for j in range(s1 + 1)]\n",
    "        for i in range(N - 1, -1, -1):\n",
    "            for total in range(s1 + 1):\n",
    "                if total + nums[i] <= s1:\n",
    "                    dp[total] += dp[total + nums[i]]\n",
    "\n",
    "        count = dp[0] * (2 ** zero_count)\n",
    "\n",
    "    return count\n",
    "\n",
    "# Testing the solution\n",
    "assert findTargetSumWaysStriver([1,1,1,1,1], 3) == 5\n",
    "assert findTargetSumWaysStriver([1,0,0], 1) == 4\n",
    "assert findTargetSumWaysStriver([100], -200) == 0\n",
    "assert findTargetSumWaysStriver([100], -100) == 1"
   ]
  },
  {
   "cell_type": "markdown",
   "id": "54ee6894",
   "metadata": {
    "papermill": {
     "duration": 0.015205,
     "end_time": "2024-05-17T02:31:33.806178",
     "exception": false,
     "start_time": "2024-05-17T02:31:33.790973",
     "status": "completed"
    },
    "tags": []
   },
   "source": [
    "Video link: https://youtu.be/HgyouUi11zk?si=tgZcsIOYwWogacGr\n",
    "Coin Change II: https://leetcode.com/problems/coin-change-ii/description/"
   ]
  },
  {
   "cell_type": "code",
   "execution_count": 53,
   "id": "a21ca5a5",
   "metadata": {
    "execution": {
     "iopub.execute_input": "2024-05-17T02:31:33.838356Z",
     "iopub.status.busy": "2024-05-17T02:31:33.837871Z",
     "iopub.status.idle": "2024-05-17T02:31:33.842397Z",
     "shell.execute_reply": "2024-05-17T02:31:33.841866Z"
    },
    "lines_to_next_cell": 1,
    "papermill": {
     "duration": 0.022115,
     "end_time": "2024-05-17T02:31:33.843605",
     "exception": false,
     "start_time": "2024-05-17T02:31:33.821490",
     "status": "completed"
    },
    "tags": []
   },
   "outputs": [],
   "source": [
    "def coinChangeMemo(amount: int, coins: list[int]):\n",
    "    \"\"\"\n",
    "    Time: ~O(N x amount), Space: O(N x amount) + O(amount)\n",
    "    \"\"\"\n",
    "\n",
    "    @functools.cache\n",
    "    def backtrack(i: int, total: int) -> int:\n",
    "        if total == amount:\n",
    "            return 1\n",
    "        elif total > amount or i == N:\n",
    "            return 0\n",
    "        else:\n",
    "            return backtrack(i, total + coins[i]) + backtrack(i + 1, total)\n",
    "\n",
    "    N = len(coins)\n",
    "    return backtrack(0, 0)\n",
    "\n",
    "# Testing the solution\n",
    "assert coinChangeMemo(5, [1,2,5]) == 4\n",
    "assert coinChangeMemo(3, [2]) == 0"
   ]
  },
  {
   "cell_type": "code",
   "execution_count": 54,
   "id": "b74d7fa9",
   "metadata": {
    "execution": {
     "iopub.execute_input": "2024-05-17T02:31:33.876554Z",
     "iopub.status.busy": "2024-05-17T02:31:33.876017Z",
     "iopub.status.idle": "2024-05-17T02:31:33.880682Z",
     "shell.execute_reply": "2024-05-17T02:31:33.880262Z"
    },
    "lines_to_next_cell": 1,
    "papermill": {
     "duration": 0.022159,
     "end_time": "2024-05-17T02:31:33.881848",
     "exception": false,
     "start_time": "2024-05-17T02:31:33.859689",
     "status": "completed"
    },
    "tags": []
   },
   "outputs": [],
   "source": [
    "# https://leetcode.com/problems/coin-change-ii/submissions/1256028931\n",
    "def coinChangeTab(amount: int, coins: list[int]):\n",
    "    N = len(coins)\n",
    "    dp: list[int] = [0 if j != amount else 1 for j in range(amount + 1)]\n",
    "    for i in range(N - 1, -1, -1):\n",
    "        for total in range(amount, -1, -1):\n",
    "            if total + coins[i] <= amount:\n",
    "                dp[total] += dp[total + coins[i]]\n",
    "\n",
    "    return dp[0]\n",
    "\n",
    "# Testing the solution\n",
    "assert coinChangeTab(5, [1,2,5]) == 4\n",
    "assert coinChangeTab(3, [2]) == 0"
   ]
  },
  {
   "cell_type": "markdown",
   "id": "b0b593c4",
   "metadata": {
    "papermill": {
     "duration": 0.015601,
     "end_time": "2024-05-17T02:31:33.913239",
     "exception": false,
     "start_time": "2024-05-17T02:31:33.897638",
     "status": "completed"
    },
    "tags": []
   },
   "source": [
    "Video Link: https://youtu.be/OgvOZ6OrJoY?si=rcbpx6IrU_SvQ4v1\n",
    "Unbounded Knapsack"
   ]
  },
  {
   "cell_type": "code",
   "execution_count": 55,
   "id": "5fc22211",
   "metadata": {
    "execution": {
     "iopub.execute_input": "2024-05-17T02:31:33.945789Z",
     "iopub.status.busy": "2024-05-17T02:31:33.945168Z",
     "iopub.status.idle": "2024-05-17T02:31:33.950085Z",
     "shell.execute_reply": "2024-05-17T02:31:33.949639Z"
    },
    "lines_to_next_cell": 1,
    "papermill": {
     "duration": 0.022447,
     "end_time": "2024-05-17T02:31:33.951215",
     "exception": false,
     "start_time": "2024-05-17T02:31:33.928768",
     "status": "completed"
    },
    "tags": []
   },
   "outputs": [],
   "source": [
    "def unboundedKnapSackMemo(N: int, max_weight: int, values: list[int], weights: list[int]) -> int:\n",
    "     @functools.cache\n",
    "     def backtrack(i: int, total_weight: int) -> float:\n",
    "         if total_weight > max_weight:\n",
    "             return -math.inf\n",
    "         elif i == N:\n",
    "             return 0\n",
    "         else:\n",
    "             return max(values[i] + backtrack(i, total_weight + weights[i]), backtrack(i + 1, total_weight))\n",
    "\n",
    "     return int(backtrack(0, 0))\n",
    "\n",
    "# Testing the solution\n",
    "assert unboundedKnapSackMemo(2, 3, [1, 1], [2, 1]) == 3\n",
    "assert unboundedKnapSackMemo(4, 8, [6, 1, 7, 7], [1, 3, 4, 5]) == 48"
   ]
  },
  {
   "cell_type": "code",
   "execution_count": 56,
   "id": "3377312f",
   "metadata": {
    "execution": {
     "iopub.execute_input": "2024-05-17T02:31:33.984325Z",
     "iopub.status.busy": "2024-05-17T02:31:33.983821Z",
     "iopub.status.idle": "2024-05-17T02:31:33.988720Z",
     "shell.execute_reply": "2024-05-17T02:31:33.988274Z"
    },
    "lines_to_next_cell": 1,
    "papermill": {
     "duration": 0.022516,
     "end_time": "2024-05-17T02:31:33.989812",
     "exception": false,
     "start_time": "2024-05-17T02:31:33.967296",
     "status": "completed"
    },
    "tags": []
   },
   "outputs": [],
   "source": [
    "def unboundedKnapSackTab(N: int, max_weight: int, values: list[int], weights: list[int]) -> int:\n",
    "    dp: list[int] = [0 for j in range(max_weight + 1)]\n",
    "    for i in range(N - 1, -1, -1):\n",
    "        for total in range(max_weight, -1, -1):\n",
    "            if total + weights[i] <= max_weight:\n",
    "                dp[total] = max(dp[total], values[i] + dp[total + weights[i]])\n",
    "\n",
    "    return dp[0]\n",
    "\n",
    "# Testing the solution\n",
    "assert unboundedKnapSackTab(2, 3, [1, 1], [2, 1]) == 3\n",
    "assert unboundedKnapSackTab(4, 8, [6, 1, 7, 7], [1, 3, 4, 5]) == 48"
   ]
  },
  {
   "cell_type": "markdown",
   "id": "2d0c40ff",
   "metadata": {
    "papermill": {
     "duration": 0.015316,
     "end_time": "2024-05-17T02:31:34.021212",
     "exception": false,
     "start_time": "2024-05-17T02:31:34.005896",
     "status": "completed"
    },
    "tags": []
   },
   "source": [
    "Video Link: https://youtu.be/mO8XpGoJwuo?si=uzBPZ8auw70L9WCm\n",
    "Rod cutting Problem"
   ]
  },
  {
   "cell_type": "code",
   "execution_count": 57,
   "id": "aee57cd8",
   "metadata": {
    "execution": {
     "iopub.execute_input": "2024-05-17T02:31:34.053360Z",
     "iopub.status.busy": "2024-05-17T02:31:34.052846Z",
     "iopub.status.idle": "2024-05-17T02:31:34.057703Z",
     "shell.execute_reply": "2024-05-17T02:31:34.057266Z"
    },
    "lines_to_next_cell": 1,
    "papermill": {
     "duration": 0.022232,
     "end_time": "2024-05-17T02:31:34.058807",
     "exception": false,
     "start_time": "2024-05-17T02:31:34.036575",
     "status": "completed"
    },
    "tags": []
   },
   "outputs": [],
   "source": [
    "def cutRodMemo(price: list[int], N: int) -> int:\n",
    "    @functools.cache\n",
    "    def backtrack(i: int, length: int) -> float:\n",
    "        if length == 0:\n",
    "            return 0\n",
    "        elif i == N or length < 0:\n",
    "            return -math.inf\n",
    "        else:\n",
    "            return max(price[i] + backtrack(i, length - i - 1), backtrack(i + 1, length))\n",
    "\n",
    "    result = backtrack(0, N)\n",
    "    return int(result)\n",
    "\n",
    "# Testing the solution\n",
    "assert cutRodMemo([1, 5, 8, 9, 10, 17, 17, 20], 8) == 22\n",
    "assert cutRodMemo([3, 5, 8, 9, 10, 17, 17, 20], 8) == 24"
   ]
  },
  {
   "cell_type": "code",
   "execution_count": 58,
   "id": "bcdf21dd",
   "metadata": {
    "execution": {
     "iopub.execute_input": "2024-05-17T02:31:34.090794Z",
     "iopub.status.busy": "2024-05-17T02:31:34.090407Z",
     "iopub.status.idle": "2024-05-17T02:31:34.095255Z",
     "shell.execute_reply": "2024-05-17T02:31:34.094759Z"
    },
    "lines_to_next_cell": 1,
    "papermill": {
     "duration": 0.022127,
     "end_time": "2024-05-17T02:31:34.096432",
     "exception": false,
     "start_time": "2024-05-17T02:31:34.074305",
     "status": "completed"
    },
    "tags": []
   },
   "outputs": [],
   "source": [
    "def cutRodTab(price: list[int], N: int) -> int:\n",
    "    dp: list[float] = [-math.inf if j > 0 else 0 for j in range(N + 1)]\n",
    "    for i in range(N - 1, -1, -1):\n",
    "        for length in range(N + 1):\n",
    "            if length - i - 1 >= 0:\n",
    "                dp[length] = max(dp[length], price[i] + dp[length - i - 1])\n",
    "\n",
    "    return int(dp[N])\n",
    "\n",
    "# Testing the solution\n",
    "assert cutRodTab([1, 5, 8, 9, 10, 17, 17, 20], 8) == 22\n",
    "assert cutRodTab([3, 5, 8, 9, 10, 17, 17, 20], 8) == 24"
   ]
  },
  {
   "cell_type": "markdown",
   "id": "8e8177cc",
   "metadata": {
    "papermill": {
     "duration": 0.015235,
     "end_time": "2024-05-17T02:31:34.127219",
     "exception": false,
     "start_time": "2024-05-17T02:31:34.111984",
     "status": "completed"
    },
    "tags": []
   },
   "source": [
    "Video link: https://youtu.be/NPZn9jBrX8U?si=RNey3xHjlEm1LXyr\n",
    "Longest common subsequences: https://leetcode.com/problems/longest-common-subsequence\n",
    "Naive approach: Generate all subsequences O((2 ** N) x (2 ** M)) and compare common subsequences in both"
   ]
  },
  {
   "cell_type": "code",
   "execution_count": 59,
   "id": "917d5e52",
   "metadata": {
    "execution": {
     "iopub.execute_input": "2024-05-17T02:31:34.158981Z",
     "iopub.status.busy": "2024-05-17T02:31:34.158569Z",
     "iopub.status.idle": "2024-05-17T02:31:34.163750Z",
     "shell.execute_reply": "2024-05-17T02:31:34.163218Z"
    },
    "papermill": {
     "duration": 0.022219,
     "end_time": "2024-05-17T02:31:34.164766",
     "exception": false,
     "start_time": "2024-05-17T02:31:34.142547",
     "status": "completed"
    },
    "tags": []
   },
   "outputs": [],
   "source": [
    "def longestCommonSubsequenceMemo(text1: str, text2: str) -> int:\n",
    "    # Time: O(N x M), Space: O(N x M) + O(M + N)\n",
    "    @functools.cache\n",
    "    def backtrack(i: int, j: int) -> int:\n",
    "        if i == N1 or j == N2:\n",
    "            return 0\n",
    "        elif text1[i] == text2[j]:\n",
    "            return 1 + backtrack(i + 1, j + 1)\n",
    "        else:\n",
    "            return max(backtrack(i + 1, j), backtrack(i, j + 1))\n",
    "\n",
    "    N1, N2 = len(text1), len(text2)\n",
    "    return backtrack(0, 0)\n",
    "\n",
    "# Testing the solution\n",
    "assert longestCommonSubsequenceMemo(\"abcde\", \"ace\") == 3\n",
    "assert longestCommonSubsequenceMemo(\"bsbininm\", \"jmjkbkjkv\") == 1\n",
    "assert longestCommonSubsequenceMemo(\"aaaaaaaaaaaaaaaaaaaaaaaaaaaaaaaaaaa\", \"aaaaaaaaaaaaaaaaaaaaaaaaaaaaaaaaaaaaaaaaaaaaa\") == 35\n",
    "assert longestCommonSubsequenceMemo(\"bl\", \"yby\") == 1"
   ]
  },
  {
   "cell_type": "code",
   "execution_count": 60,
   "id": "30813726",
   "metadata": {
    "execution": {
     "iopub.execute_input": "2024-05-17T02:31:34.196861Z",
     "iopub.status.busy": "2024-05-17T02:31:34.196585Z",
     "iopub.status.idle": "2024-05-17T02:31:34.202616Z",
     "shell.execute_reply": "2024-05-17T02:31:34.202171Z"
    },
    "lines_to_next_cell": 1,
    "papermill": {
     "duration": 0.023149,
     "end_time": "2024-05-17T02:31:34.203754",
     "exception": false,
     "start_time": "2024-05-17T02:31:34.180605",
     "status": "completed"
    },
    "tags": []
   },
   "outputs": [],
   "source": [
    "def longestCommonSubsequenceTab(text1: str, text2: str) -> int:\n",
    "    # Time: O(M x N), Space: O(N x M)\n",
    "    N1, N2 = len(text1), len(text2)\n",
    "    dp: list[list[int]] = [[0 for j in range(N2 + 1)] for i in range(N1 + 1)]\n",
    "    for i in range(N1 - 1, -1, -1):\n",
    "        for j in range(N2 - 1, -1, -1):\n",
    "            if text1[i] == text2[j]:\n",
    "                dp[i][j] = 1 + dp[i + 1][j + 1]\n",
    "            else:\n",
    "                dp[i][j] = max(dp[i + 1][j], dp[i][j + 1])\n",
    "\n",
    "    return dp[0][0]\n",
    "\n",
    "# Testing the solution\n",
    "assert longestCommonSubsequenceTab(\"abcde\", \"ace\") == 3\n",
    "assert longestCommonSubsequenceTab(\"bsbininm\", \"jmjkbkjkv\") == 1\n",
    "assert longestCommonSubsequenceTab(\"aaaaaaaaaaaaaaaaaaaaaaaaaaaaaaaaaaa\", \"aaaaaaaaaaaaaaaaaaaaaaaaaaaaaaaaaaaaaaaaaaaaa\") == 35\n",
    "assert longestCommonSubsequenceTab(\"bl\", \"yby\") == 1"
   ]
  },
  {
   "cell_type": "code",
   "execution_count": 61,
   "id": "e099ef3b",
   "metadata": {
    "execution": {
     "iopub.execute_input": "2024-05-17T02:31:34.235725Z",
     "iopub.status.busy": "2024-05-17T02:31:34.235281Z",
     "iopub.status.idle": "2024-05-17T02:31:34.240523Z",
     "shell.execute_reply": "2024-05-17T02:31:34.240076Z"
    },
    "lines_to_next_cell": 1,
    "papermill": {
     "duration": 0.022341,
     "end_time": "2024-05-17T02:31:34.241601",
     "exception": false,
     "start_time": "2024-05-17T02:31:34.219260",
     "status": "completed"
    },
    "tags": []
   },
   "outputs": [],
   "source": [
    "# https://leetcode.com/problems/longest-common-subsequence/submissions/1256127917\n",
    "def longestCommonSubsequence(text1: str, text2: str) -> int:\n",
    "    # Time: O(M x N), Space: O(N2 + N2)\n",
    "    N1, N2 = len(text1), len(text2)\n",
    "    dp: list[int] = [0 for j in range(N2 + 1)]\n",
    "    for i in range(N1 - 1, -1, -1):\n",
    "        next_dp: list[int] = list(dp)\n",
    "        for j in range(N2 - 1, -1, -1):\n",
    "            if text1[i] == text2[j]:\n",
    "                next_dp[j] = 1 + dp[j + 1]\n",
    "            else:\n",
    "                next_dp[j] = max(dp[j], next_dp[j + 1])\n",
    "\n",
    "        dp = next_dp\n",
    "\n",
    "    return dp[0]\n",
    "\n",
    "# Testing the solution\n",
    "assert longestCommonSubsequence(\"abcde\", \"ace\") == 3\n",
    "assert longestCommonSubsequence(\"bsbininm\", \"jmjkbkjkv\") == 1\n",
    "assert longestCommonSubsequence(\"aaaaaaaaaaaaaaaaaaaaaaaaaaaaaaaaaaa\", \"aaaaaaaaaaaaaaaaaaaaaaaaaaaaaaaaaaaaaaaaaaaaa\") == 35\n",
    "assert longestCommonSubsequence(\"bl\", \"yby\") == 1"
   ]
  },
  {
   "cell_type": "markdown",
   "id": "e01786f1",
   "metadata": {
    "papermill": {
     "duration": 0.015529,
     "end_time": "2024-05-17T02:31:34.273063",
     "exception": false,
     "start_time": "2024-05-17T02:31:34.257534",
     "status": "completed"
    },
    "tags": []
   },
   "source": [
    "Video Link: https://youtu.be/-zI4mrF2Pb4?si=8kICsv0E7jYx6sWn\n",
    "Print longest common subsequece"
   ]
  },
  {
   "cell_type": "code",
   "execution_count": 62,
   "id": "1c0d3fe8",
   "metadata": {
    "execution": {
     "iopub.execute_input": "2024-05-17T02:31:34.305985Z",
     "iopub.status.busy": "2024-05-17T02:31:34.305490Z",
     "iopub.status.idle": "2024-05-17T02:31:34.313111Z",
     "shell.execute_reply": "2024-05-17T02:31:34.312661Z"
    },
    "lines_to_next_cell": 1,
    "papermill": {
     "duration": 0.02544,
     "end_time": "2024-05-17T02:31:34.314195",
     "exception": false,
     "start_time": "2024-05-17T02:31:34.288755",
     "status": "completed"
    },
    "tags": []
   },
   "outputs": [],
   "source": [
    "def all_longest_common_subsequences(text1: str, text2: str) -> list[str]:\n",
    "    \"\"\"\n",
    "    DP grid computes the longest common subseq length given starting pos of text1, text2\n",
    "    We start at -1, -1 on the grid.\n",
    "    If text1[i] == text2[j], we know that the line: 1 + dp[i + 1][j + 1] was executed, there we increment both i, j by 1\n",
    "    If text1[i] != text2[j], either the max came from text1 or text2. If only one max exists, recurse into that else recurse through both\n",
    "\n",
    "    Time: DP grid compute: O(M x N) + Backtracking to find longest common subsequence: O(M + N)\n",
    "    Space: O(M x N)\n",
    "    \"\"\"\n",
    "\n",
    "    N1, N2 = len(text1), len(text2)\n",
    "    dp: list[list[int]] = [[0 for j in range(N2 + 1)] for i in range(N1 + 1)]\n",
    "    for i in range(N1 - 1, -1, -1):\n",
    "        for j in range(N2 - 1, -1, -1):\n",
    "            if text1[i] == text2[j]:\n",
    "                dp[i][j] = 1 + dp[i + 1][j + 1]\n",
    "            else:\n",
    "                dp[i][j] = max(dp[i + 1][j], dp[i][j + 1])\n",
    "\n",
    "    def backtrack(i: int, j: int):\n",
    "        if dp[i][j] == 0:\n",
    "            result.add(''.join(stack))\n",
    "            return\n",
    "        elif text1[i] == text2[j]:\n",
    "            stack.append(text1[i])\n",
    "            backtrack(i + 1, j + 1)\n",
    "            stack.pop()\n",
    "        else:\n",
    "            max_ = max(dp[i + 1][j], dp[i][j + 1])\n",
    "            if dp[i + 1][j] == max_:\n",
    "                backtrack(i + 1, j)\n",
    "            if dp[i][j + 1] == max_:\n",
    "                backtrack(i, j + 1)\n",
    "\n",
    "    result: set[str] = set()\n",
    "    stack: list[str] = []\n",
    "    backtrack(i, j)\n",
    "    return sorted(result)\n",
    "\n",
    "# Tesitng the solution\n",
    "assert all_longest_common_subsequences(\"abcde\", \"ace\") == ['ace']\n",
    "assert all_longest_common_subsequences(\"abaaa\", \"baabaca\") == ['aaaa', 'abaa', 'baaa']"
   ]
  },
  {
   "cell_type": "markdown",
   "id": "1b3c52ec",
   "metadata": {
    "papermill": {
     "duration": 0.01568,
     "end_time": "2024-05-17T02:31:34.345985",
     "exception": false,
     "start_time": "2024-05-17T02:31:34.330305",
     "status": "completed"
    },
    "tags": []
   },
   "source": [
    "Video Link: https://youtu.be/_wP9mWNPL5w?si=UHRuFgDl6a5g8OlH\n",
    "Longest common Substring"
   ]
  },
  {
   "cell_type": "code",
   "execution_count": 63,
   "id": "95b817c0",
   "metadata": {
    "execution": {
     "iopub.execute_input": "2024-05-17T02:31:34.378599Z",
     "iopub.status.busy": "2024-05-17T02:31:34.378217Z",
     "iopub.status.idle": "2024-05-17T02:31:34.383494Z",
     "shell.execute_reply": "2024-05-17T02:31:34.383011Z"
    },
    "lines_to_next_cell": 1,
    "papermill": {
     "duration": 0.022945,
     "end_time": "2024-05-17T02:31:34.384576",
     "exception": false,
     "start_time": "2024-05-17T02:31:34.361631",
     "status": "completed"
    },
    "tags": []
   },
   "outputs": [],
   "source": [
    "def longestCommonSubstrTab(text1: str, text2: str) -> int:\n",
    "    \"\"\"\n",
    "    Same code as longest common subsequence but with a slight modification.\n",
    "    Here we reset the dp table value to 0 if text1[i] != text2[j] instead of getting the max of dp[i + 1][j] or dp[i][j + 1] since we are not allowed non consequetive values.\n",
    "\n",
    "    Time: O(N1 x N2), Space: O(N1 x N2)\n",
    "    \"\"\"\n",
    "    N1, N2 = len(text1), len(text2)\n",
    "    dp: list[list[int]] = [[0 for j in range(N2 + 1)] for i in range(N1 + 1)]\n",
    "    max_length = 0\n",
    "    for i in range(N1 - 1, -1, -1):\n",
    "        for j in range(N2 - 1, -1, -1):\n",
    "            if text1[i] == text2[j]:\n",
    "                dp[i][j] = dp[i + 1][j + 1] + 1\n",
    "                max_length = max(max_length, dp[i][j])\n",
    "\n",
    "    return max_length\n",
    "\n",
    "# Testing the solution\n",
    "assert longestCommonSubstrTab(\"ABCDGH\", \"ACDGHR\") == 4\n",
    "assert longestCommonSubstrTab(\"ABC\", \"ACB\") == 1"
   ]
  },
  {
   "cell_type": "code",
   "execution_count": 64,
   "id": "f32221a7",
   "metadata": {
    "execution": {
     "iopub.execute_input": "2024-05-17T02:31:34.417679Z",
     "iopub.status.busy": "2024-05-17T02:31:34.417158Z",
     "iopub.status.idle": "2024-05-17T02:31:34.422115Z",
     "shell.execute_reply": "2024-05-17T02:31:34.421661Z"
    },
    "lines_to_next_cell": 1,
    "papermill": {
     "duration": 0.022577,
     "end_time": "2024-05-17T02:31:34.423251",
     "exception": false,
     "start_time": "2024-05-17T02:31:34.400674",
     "status": "completed"
    },
    "tags": []
   },
   "outputs": [],
   "source": [
    "def longestCommonSubstr(text1: str, text2: str) -> int:\n",
    "    \"\"\"Time: O(N1 x N2), Space: O(N2)\"\"\"\n",
    "    N1, N2 = len(text1), len(text2)\n",
    "    dp: list[int] = [0 for j in range(N2 + 1)]\n",
    "    max_length = 0\n",
    "    for i in range(N1 - 1, -1, -1):\n",
    "        next_dp: list[int] = [0]\n",
    "        for j in range(N2 - 1, -1, -1):\n",
    "            if text1[i] == text2[j]:\n",
    "                next_dp.append(1 + dp[j + 1])\n",
    "                max_length = max(max_length, next_dp[-1])\n",
    "            else:\n",
    "                next_dp.append(0)\n",
    "\n",
    "        dp = list(reversed(next_dp))\n",
    "\n",
    "    return max_length\n",
    "\n",
    "# Testing the solution\n",
    "assert longestCommonSubstr(\"ABCDGH\", \"ACDGHR\") == 4\n",
    "assert longestCommonSubstr(\"ABC\", \"ACB\") == 1"
   ]
  },
  {
   "cell_type": "markdown",
   "id": "32bd7ea7",
   "metadata": {
    "papermill": {
     "duration": 0.015647,
     "end_time": "2024-05-17T02:31:34.454767",
     "exception": false,
     "start_time": "2024-05-17T02:31:34.439120",
     "status": "completed"
    },
    "tags": []
   },
   "source": [
    "Video Link: https://youtu.be/6i_T5kkfv4A?si=3pJmCMahWgxxnGRq\n",
    "Longest Palindromic Subsequence"
   ]
  },
  {
   "cell_type": "code",
   "execution_count": 65,
   "id": "d0a53967",
   "metadata": {
    "execution": {
     "iopub.execute_input": "2024-05-17T02:31:34.487267Z",
     "iopub.status.busy": "2024-05-17T02:31:34.486847Z",
     "iopub.status.idle": "2024-05-17T02:31:34.491464Z",
     "shell.execute_reply": "2024-05-17T02:31:34.490903Z"
    },
    "lines_to_next_cell": 1,
    "papermill": {
     "duration": 0.022121,
     "end_time": "2024-05-17T02:31:34.492597",
     "exception": false,
     "start_time": "2024-05-17T02:31:34.470476",
     "status": "completed"
    },
    "tags": []
   },
   "outputs": [],
   "source": [
    "# https://leetcode.com/problems/longest-palindromic-subsequence/submissions/1256744931\n",
    "def longestPalindromeSubseqMemo(text: str) -> int:\n",
    "    @functools.cache\n",
    "    def backtrack(i: int, j: int) -> int:\n",
    "        if i >= j:\n",
    "            return int(i == j)\n",
    "        elif text[i] == text[j]:\n",
    "            return 2 + backtrack(i + 1, j - 1)\n",
    "        else:\n",
    "            return max(backtrack(i + 1, j), backtrack(i, j - 1))\n",
    "\n",
    "    N = len(text)\n",
    "    result = backtrack(0, N - 1)\n",
    "    return result\n",
    "\n",
    "# Testing the solution\n",
    "assert longestPalindromeSubseqMemo(\"bbbab\") == 4\n",
    "assert longestPalindromeSubseqMemo(\"cbbd\") == 2"
   ]
  },
  {
   "cell_type": "code",
   "execution_count": 66,
   "id": "c5612366",
   "metadata": {
    "execution": {
     "iopub.execute_input": "2024-05-17T02:31:34.526024Z",
     "iopub.status.busy": "2024-05-17T02:31:34.525506Z",
     "iopub.status.idle": "2024-05-17T02:31:34.530583Z",
     "shell.execute_reply": "2024-05-17T02:31:34.530155Z"
    },
    "lines_to_next_cell": 1,
    "papermill": {
     "duration": 0.022773,
     "end_time": "2024-05-17T02:31:34.531671",
     "exception": false,
     "start_time": "2024-05-17T02:31:34.508898",
     "status": "completed"
    },
    "tags": []
   },
   "outputs": [],
   "source": [
    "def longestPalindromeSubseqTab(text: str) -> int:\n",
    "    N = len(text)\n",
    "    dp: list[list[int]] = [[0 if j != (N - 1) / 2 else 1 for j in range(N + 1)] for i in range(N + 1)]\n",
    "    for i in range(N - 1, -1, -1):\n",
    "        for j in range(N):\n",
    "            if i >= j:\n",
    "                dp[i][j] = int(i == j)\n",
    "            elif text[i] == text[j]:\n",
    "                dp[i][j] = 2 + dp[i + 1][j - 1]\n",
    "            else:\n",
    "                dp[i][j] = max(dp[i + 1][j], dp[i][j - 1])\n",
    "\n",
    "    return dp[0][N - 1]\n",
    "\n",
    "# Testing the solution\n",
    "assert longestPalindromeSubseqTab(\"bbbab\") == 4\n",
    "assert longestPalindromeSubseqTab(\"cbbd\") == 2"
   ]
  },
  {
   "cell_type": "code",
   "execution_count": 67,
   "id": "a74fa1d5",
   "metadata": {
    "execution": {
     "iopub.execute_input": "2024-05-17T02:31:34.564776Z",
     "iopub.status.busy": "2024-05-17T02:31:34.564254Z",
     "iopub.status.idle": "2024-05-17T02:31:34.569388Z",
     "shell.execute_reply": "2024-05-17T02:31:34.568869Z"
    },
    "lines_to_next_cell": 1,
    "papermill": {
     "duration": 0.022759,
     "end_time": "2024-05-17T02:31:34.570592",
     "exception": false,
     "start_time": "2024-05-17T02:31:34.547833",
     "status": "completed"
    },
    "tags": []
   },
   "outputs": [],
   "source": [
    "# https://leetcode.com/problems/longest-palindromic-subsequence/submissions/1256759252\n",
    "def longestPalindromeSubseq(text: str) -> int:\n",
    "    N = len(text)\n",
    "    dp: list[int] = [0 if j != (N - 1) / 2 else 1 for j in range(N + 1)]\n",
    "    for i in range(N - 1, -1, -1):\n",
    "        next_dp: list[int] = []\n",
    "        for j in range(N):\n",
    "            if i >= j:\n",
    "                next_dp.append(int(i == j))\n",
    "            elif text[i] == text[j]:\n",
    "                next_dp.append(2 + dp[j - 1])\n",
    "            else:\n",
    "                next_dp.append(max(dp[j], next_dp[-1]))\n",
    "\n",
    "        # We run the inner loop for N iterations, dp however has a length of N + 1\n",
    "        # Hence we add 0 in the end to make sure that the values are consistent of DP compute\n",
    "        # We could make this simpler by initializing next_dp as list(dp), but that would\n",
    "        # be wasted O(N) runtime.\n",
    "        next_dp.append(0)\n",
    "        dp = next_dp\n",
    "\n",
    "    return dp[N - 1]\n",
    "\n",
    "# Testing the solution\n",
    "assert longestPalindromeSubseq(\"bbbab\") == 4\n",
    "assert longestPalindromeSubseq(\"cbbd\") == 2"
   ]
  },
  {
   "cell_type": "code",
   "execution_count": 68,
   "id": "e94ba584",
   "metadata": {
    "execution": {
     "iopub.execute_input": "2024-05-17T02:31:34.602828Z",
     "iopub.status.busy": "2024-05-17T02:31:34.602345Z",
     "iopub.status.idle": "2024-05-17T02:31:34.607503Z",
     "shell.execute_reply": "2024-05-17T02:31:34.607072Z"
    },
    "lines_to_next_cell": 1,
    "papermill": {
     "duration": 0.022332,
     "end_time": "2024-05-17T02:31:34.608628",
     "exception": false,
     "start_time": "2024-05-17T02:31:34.586296",
     "status": "completed"
    },
    "tags": []
   },
   "outputs": [],
   "source": [
    "def longestPalindromeSubseqStriver(text: str) -> int:\n",
    "    \"\"\"\n",
    "    1. We reverse text.\n",
    "    2. Whatever value is the LCS of both the texts, that is our desired answer\n",
    "    \"\"\"\n",
    "    def LCS(text1: str, text2: str) -> int:\n",
    "        N = len(text1)\n",
    "        dp: list[int] = [0 for j in range(N + 1)]\n",
    "        for i in range(N - 1, -1, -1):\n",
    "            next_dp: list[int] = list(dp)\n",
    "            for j in range(N - 1, -1, -1):\n",
    "                if text1[i] == text2[j]:\n",
    "                    next_dp[j] = 1 + dp[j + 1]\n",
    "                else:\n",
    "                    next_dp[j] = max(dp[j], next_dp[j + 1])\n",
    "            dp = next_dp\n",
    "\n",
    "        return dp[0]\n",
    "\n",
    "    return LCS(text, text[::-1])\n",
    "\n",
    "# Testing the solution\n",
    "assert longestPalindromeSubseqStriver(\"bbbab\") == 4\n",
    "assert longestPalindromeSubseqStriver(\"cbbd\") == 2"
   ]
  },
  {
   "cell_type": "code",
   "execution_count": 69,
   "id": "5a62593a",
   "metadata": {
    "execution": {
     "iopub.execute_input": "2024-05-17T02:31:34.641089Z",
     "iopub.status.busy": "2024-05-17T02:31:34.640775Z",
     "iopub.status.idle": "2024-05-17T02:31:34.643340Z",
     "shell.execute_reply": "2024-05-17T02:31:34.642858Z"
    },
    "papermill": {
     "duration": 0.019957,
     "end_time": "2024-05-17T02:31:34.644358",
     "exception": false,
     "start_time": "2024-05-17T02:31:34.624401",
     "status": "completed"
    },
    "tags": []
   },
   "outputs": [],
   "source": [
    "# Video link: https://youtu.be/xPBLEj41rFU?si=TkaEwZIQqY7WkasB\n",
    "# Minimum insertions to make a string palindromic"
   ]
  },
  {
   "cell_type": "code",
   "execution_count": 70,
   "id": "a73343a1",
   "metadata": {
    "execution": {
     "iopub.execute_input": "2024-05-17T02:31:34.677519Z",
     "iopub.status.busy": "2024-05-17T02:31:34.677049Z",
     "iopub.status.idle": "2024-05-17T02:31:34.681656Z",
     "shell.execute_reply": "2024-05-17T02:31:34.681175Z"
    },
    "lines_to_next_cell": 1,
    "papermill": {
     "duration": 0.022536,
     "end_time": "2024-05-17T02:31:34.682786",
     "exception": false,
     "start_time": "2024-05-17T02:31:34.660250",
     "status": "completed"
    },
    "tags": []
   },
   "outputs": [],
   "source": [
    "# https://leetcode.com/problems/minimum-insertion-steps-to-make-a-string-palindrome/submissions/1256992480/\n",
    "def minInsertions(text: str) -> int:\n",
    "    \"\"\"\n",
    "    1. Find the longest palindromic substring\n",
    "    2. Minimum insertions required would be length of the N - longest palindromic substr\n",
    "    \"\"\"\n",
    "\n",
    "    @functools.cache\n",
    "    def longestPalindromicSubstrLength(i: int, j: int) -> int:\n",
    "        if i >= j:\n",
    "            return int(i == j)\n",
    "        elif text[i] == text[j]:\n",
    "            return 2 + longestPalindromicSubstrLength(i + 1, j - 1)\n",
    "        else:\n",
    "            return max(longestPalindromicSubstrLength(i + 1, j), longestPalindromicSubstrLength(i, j - 1))\n",
    "\n",
    "    N = len(text)\n",
    "    return N - longestPalindromicSubstrLength(0, N - 1)\n",
    "\n",
    "# Testing the solution\n",
    "assert minInsertions(\"mbadm\") == 2\n",
    "assert minInsertions(\"leetcode\") == 5"
   ]
  },
  {
   "cell_type": "markdown",
   "id": "76604d02",
   "metadata": {
    "papermill": {
     "duration": 0.01548,
     "end_time": "2024-05-17T02:31:34.714387",
     "exception": false,
     "start_time": "2024-05-17T02:31:34.698907",
     "status": "completed"
    },
    "tags": []
   },
   "source": [
    "Minimum ops to convert s1 to s2\n",
    "Video Link: https://youtu.be/yMnH0jrir0Q?si=WNsLNkqd3rhHqzDX"
   ]
  },
  {
   "cell_type": "code",
   "execution_count": 71,
   "id": "07d4a7a1",
   "metadata": {
    "execution": {
     "iopub.execute_input": "2024-05-17T02:31:34.747119Z",
     "iopub.status.busy": "2024-05-17T02:31:34.746532Z",
     "iopub.status.idle": "2024-05-17T02:31:34.753252Z",
     "shell.execute_reply": "2024-05-17T02:31:34.752818Z"
    },
    "lines_to_next_cell": 1,
    "papermill": {
     "duration": 0.024278,
     "end_time": "2024-05-17T02:31:34.754379",
     "exception": false,
     "start_time": "2024-05-17T02:31:34.730101",
     "status": "completed"
    },
    "tags": []
   },
   "outputs": [],
   "source": [
    "# https://leetcode.com/problems/delete-operation-for-two-strings/submissions/1257015539\n",
    "def minDistance(word1: str, word2: str) -> int:\n",
    "    \"\"\"\n",
    "    The idea is to think about what characters we should leave untouched. In this\n",
    "    case, we can leave out characters that are subsequences also present in word2.o\n",
    "\n",
    "    Hence logic: Find length of longest common subsequence -> (N1 - S) + (N2 - S)\n",
    "    \"\"\"\n",
    "    N1, N2 = len(word1), len(word2)\n",
    "    dp: list[int] = [0 for j in range(N2 + 1)]\n",
    "    for i in range(N1 - 1, -1, -1):\n",
    "        next_dp: list[int] = [0]\n",
    "        for j in range(N2 - 1, -1, -1):\n",
    "            if word1[i] == word2[j]:\n",
    "                next_dp.append(1 + dp[j + 1])\n",
    "            else:\n",
    "                next_dp.append(max(dp[j], next_dp[-1]))\n",
    "\n",
    "        next_dp.reverse()\n",
    "        dp = next_dp\n",
    "\n",
    "    substr_length = dp[0]\n",
    "    return (N1 - substr_length) + (N2 - substr_length)\n",
    "\n",
    "# Testing the solution\n",
    "assert minDistance(\"leetcode\", \"etco\") == 4\n",
    "assert minDistance(\"sea\", \"eat\") == 2"
   ]
  },
  {
   "cell_type": "markdown",
   "id": "899a0256",
   "metadata": {
    "papermill": {
     "duration": 0.015319,
     "end_time": "2024-05-17T02:31:34.785410",
     "exception": false,
     "start_time": "2024-05-17T02:31:34.770091",
     "status": "completed"
    },
    "tags": []
   },
   "source": [
    "Shortest common supersequence: https://youtu.be/xElxAuBcvsU?si=A_v7qeegsKrHgGle\n",
    "https://leetcode.com/problems/shortest-common-supersequence/"
   ]
  },
  {
   "cell_type": "code",
   "execution_count": 72,
   "id": "ddeea61a",
   "metadata": {
    "execution": {
     "iopub.execute_input": "2024-05-17T02:31:34.817458Z",
     "iopub.status.busy": "2024-05-17T02:31:34.816916Z",
     "iopub.status.idle": "2024-05-17T02:31:34.824856Z",
     "shell.execute_reply": "2024-05-17T02:31:34.824429Z"
    },
    "lines_to_next_cell": 1,
    "papermill": {
     "duration": 0.025217,
     "end_time": "2024-05-17T02:31:34.825975",
     "exception": false,
     "start_time": "2024-05-17T02:31:34.800758",
     "status": "completed"
    },
    "tags": []
   },
   "outputs": [],
   "source": [
    "# https://leetcode.com/problems/shortest-common-supersequence/submissions/1257426491\n",
    "def shortestCommonSupersequenceBetter(str1: str, str2: str) -> str:\n",
    "    \"\"\"\n",
    "    Logic: Common characters should be taken once. Add missing characters in order.\n",
    "    \"\"\"\n",
    "    N1, N2 = len(str1), len(str2)\n",
    "\n",
    "    # Compute the DP grid for Longest common subsequence\n",
    "    dp: list[list[int]] = [[0 for j in range(N2 + 1)] for i in range(N1 + 1)]\n",
    "    for i in range(N1 - 1, -1, -1):\n",
    "        for j in range(N2 - 1, -1, -1):\n",
    "            if str1[i] == str2[j]:\n",
    "                dp[i][j] = 1 + dp[i + 1][j + 1]\n",
    "            else:\n",
    "                dp[i][j] = max(dp[i + 1][j], dp[i][j + 1])\n",
    "\n",
    "    # Find out the subsequence\n",
    "    lcs_list: list[str] = []\n",
    "    i = j = 0\n",
    "    while i < N1 and j < N2:\n",
    "        if str1[i] == str2[j]:\n",
    "            lcs_list.append(str1[i])\n",
    "            i, j = i + 1, j + 1\n",
    "        elif dp[i][j + 1] >= dp[i + 1][j]:\n",
    "            j = j + 1\n",
    "        else:\n",
    "            i = i + 1\n",
    "\n",
    "    # Compute LCS string\n",
    "    lcs_list.append(\"*\")\n",
    "    lcs = ''.join(lcs_list)\n",
    "    N3 = len(lcs)\n",
    "\n",
    "    # Add the missing characters in order\n",
    "    i = j = k = 0\n",
    "    supersequence_list: list[str] = []\n",
    "    while k < N3:\n",
    "        while i < N1 and str1[i] != lcs[k]:\n",
    "            supersequence_list.append(str1[i])\n",
    "            i += 1\n",
    "        while j < N2 and str2[j] != lcs[k]:\n",
    "            supersequence_list.append(str2[j])\n",
    "            j += 1\n",
    "        supersequence_list.append(lcs[k])\n",
    "        i, j, k = i + 1, j + 1, k + 1\n",
    "\n",
    "    supersequence_list.pop()\n",
    "    return ''.join(supersequence_list)\n",
    "\n",
    "# Testing the solution\n",
    "assert len(shortestCommonSupersequenceBetter(\"abac\", \"cab\")) == 5\n",
    "assert len(shortestCommonSupersequenceBetter(\"brute\", \"groot\")) == 8"
   ]
  },
  {
   "cell_type": "code",
   "execution_count": 73,
   "id": "e8a2cfe9",
   "metadata": {
    "execution": {
     "iopub.execute_input": "2024-05-17T02:31:34.858202Z",
     "iopub.status.busy": "2024-05-17T02:31:34.857800Z",
     "iopub.status.idle": "2024-05-17T02:31:34.864525Z",
     "shell.execute_reply": "2024-05-17T02:31:34.863987Z"
    },
    "lines_to_next_cell": 1,
    "papermill": {
     "duration": 0.02399,
     "end_time": "2024-05-17T02:31:34.865644",
     "exception": false,
     "start_time": "2024-05-17T02:31:34.841654",
     "status": "completed"
    },
    "tags": []
   },
   "outputs": [],
   "source": [
    "# https://leetcode.com/problems/shortest-common-supersequence/submissions/1257436090/\n",
    "def shortestCommonSupersequenceStriver(str1: str, str2: str) -> str:\n",
    "    \"\"\"\n",
    "    Instead of computing the missing characters seperately we add them during out iteration through the DP table itself.\n",
    "    \"\"\"\n",
    "    N1, N2 = len(str1), len(str2)\n",
    "\n",
    "    # Compute the DP grid for Longest common subsequence\n",
    "    dp: list[list[int]] = [[0 for j in range(N2 + 1)] for i in range(N1 + 1)]\n",
    "    for i in range(N1 - 1, -1, -1):\n",
    "        for j in range(N2 - 1, -1, -1):\n",
    "            if str1[i] == str2[j]:\n",
    "                dp[i][j] = 1 + dp[i + 1][j + 1]\n",
    "            else:\n",
    "                dp[i][j] = max(dp[i + 1][j], dp[i][j + 1])\n",
    "\n",
    "    # Find out the supersequence, slight modification to LCS print code\n",
    "    # Instead of iterating until any one of the strings going out of bounds, we iterate until both are out of bounds\n",
    "    # When strings don't match and we go to the direction of maximum in the DP table, we add the string that is being shrunk\n",
    "    # j = j + 1 code => str2[j] is added other wise str1[i]\n",
    "    supersequence_list: list[str] = []\n",
    "    i = j = 0\n",
    "    while i < N1 or j < N2:\n",
    "        if i < N1 and j < N2 and str1[i] == str2[j]:\n",
    "            supersequence_list.append(str1[i])\n",
    "            i, j = i + 1, j + 1\n",
    "        elif i >= N1 or (j < N2 and dp[i][j + 1] >= dp[i + 1][j]):\n",
    "            supersequence_list.append(str2[j])\n",
    "            j = j + 1\n",
    "        else:\n",
    "            supersequence_list.append(str1[i])\n",
    "            i = i + 1\n",
    "\n",
    "    return ''.join(supersequence_list)\n",
    "\n",
    "# Testing the solution\n",
    "assert len(shortestCommonSupersequenceStriver(\"abac\", \"cab\")) == 5\n",
    "assert len(shortestCommonSupersequenceStriver(\"brute\", \"groot\")) == 8"
   ]
  },
  {
   "cell_type": "markdown",
   "id": "2e842207",
   "metadata": {
    "papermill": {
     "duration": 0.015164,
     "end_time": "2024-05-17T02:31:34.896476",
     "exception": false,
     "start_time": "2024-05-17T02:31:34.881312",
     "status": "completed"
    },
    "tags": []
   },
   "source": [
    "Number of Distinct Subsequences: https://leetcode.com/problems/distinct-subsequences\n",
    "Video Link: https://youtu.be/nVG7eTiD2bY?si=aNNyhjH2VDvfErnT\n",
    "Naive Time complexity: Exponential, Space: O(M + N)"
   ]
  },
  {
   "cell_type": "code",
   "execution_count": 74,
   "id": "b80cade8",
   "metadata": {
    "execution": {
     "iopub.execute_input": "2024-05-17T02:31:34.928355Z",
     "iopub.status.busy": "2024-05-17T02:31:34.927814Z",
     "iopub.status.idle": "2024-05-17T02:31:34.932515Z",
     "shell.execute_reply": "2024-05-17T02:31:34.932099Z"
    },
    "lines_to_next_cell": 1,
    "papermill": {
     "duration": 0.021913,
     "end_time": "2024-05-17T02:31:34.933624",
     "exception": false,
     "start_time": "2024-05-17T02:31:34.911711",
     "status": "completed"
    },
    "tags": []
   },
   "outputs": [],
   "source": [
    "def numDistinctMemo(s: str, t: str) -> int:\n",
    "    @functools.cache\n",
    "    def backtrack(i: int, j: int) -> int:\n",
    "        if j >= N2:\n",
    "            return 1\n",
    "        elif i >= N1:\n",
    "            return 0\n",
    "        elif s[i] != t[j]:\n",
    "            return backtrack(i + 1, j)\n",
    "        else:\n",
    "            return backtrack(i + 1, j + 1) + backtrack(i + 1, j)\n",
    "\n",
    "    N1, N2 = len(s), len(t)\n",
    "    return backtrack(0, 0)\n",
    "\n",
    "# Testing the solution\n",
    "assert numDistinctMemo(\"babgbag\", \"bag\") == 5\n",
    "assert numDistinctMemo(\"rabbbit\", \"rabbit\") == 3"
   ]
  },
  {
   "cell_type": "code",
   "execution_count": 75,
   "id": "97af7ce5",
   "metadata": {
    "execution": {
     "iopub.execute_input": "2024-05-17T02:31:34.966719Z",
     "iopub.status.busy": "2024-05-17T02:31:34.966209Z",
     "iopub.status.idle": "2024-05-17T02:31:34.971582Z",
     "shell.execute_reply": "2024-05-17T02:31:34.971140Z"
    },
    "lines_to_next_cell": 1,
    "papermill": {
     "duration": 0.023189,
     "end_time": "2024-05-17T02:31:34.972649",
     "exception": false,
     "start_time": "2024-05-17T02:31:34.949460",
     "status": "completed"
    },
    "tags": []
   },
   "outputs": [],
   "source": [
    "def numDistinctTab(s: str, t: str) -> int:\n",
    "    N1, N2 = len(s), len(t)\n",
    "    dp: list[list[int]] = [[0 if j < N2 else 1 for j in range(N2 + 1)] for i in range(N1 + 1)]\n",
    "    for i in range(N1 - 1, -1, -1):\n",
    "        for j in range(N2 - 1, -1, -1):\n",
    "            if s[i] != t[j]:\n",
    "                dp[i][j] = dp[i + 1][j]\n",
    "            else:\n",
    "                dp[i][j] = dp[i + 1][j + 1] + dp[i + 1][j]\n",
    "\n",
    "    return dp[0][0]\n",
    "\n",
    "# Testing the solution\n",
    "assert numDistinctTab(\"babgbag\", \"bag\") == 5\n",
    "assert numDistinctTab(\"rabbbit\", \"rabbit\") == 3"
   ]
  },
  {
   "cell_type": "code",
   "execution_count": 76,
   "id": "7ac5bcf2",
   "metadata": {
    "execution": {
     "iopub.execute_input": "2024-05-17T02:31:35.005075Z",
     "iopub.status.busy": "2024-05-17T02:31:35.004587Z",
     "iopub.status.idle": "2024-05-17T02:31:35.009450Z",
     "shell.execute_reply": "2024-05-17T02:31:35.008927Z"
    },
    "lines_to_next_cell": 1,
    "papermill": {
     "duration": 0.022131,
     "end_time": "2024-05-17T02:31:35.010490",
     "exception": false,
     "start_time": "2024-05-17T02:31:34.988359",
     "status": "completed"
    },
    "tags": []
   },
   "outputs": [],
   "source": [
    "# https://leetcode.com/problems/distinct-subsequences/submissions/1258020441\n",
    "def numDistinctSpaceOptimized(s: str, t: str) -> int:\n",
    "    N1, N2 = len(s), len(t)\n",
    "    dp: list[int] = [0 if j < N2 else 1 for j in range(N2 + 1)]\n",
    "    for i in range(N1 - 1, -1, -1):\n",
    "        next_dp: list[int] = [1]\n",
    "        for j in range(N2 - 1, -1, -1):\n",
    "            if s[i] != t[j]:\n",
    "                next_dp.append(dp[j])\n",
    "            else:\n",
    "                next_dp.append(dp[j + 1] + dp[j])\n",
    "\n",
    "        next_dp.reverse()\n",
    "        dp = next_dp\n",
    "\n",
    "    return dp[0]\n",
    "\n",
    "# Testing the solution\n",
    "assert numDistinctSpaceOptimized(\"babgbag\", \"bag\") == 5\n",
    "assert numDistinctSpaceOptimized(\"rabbbit\", \"rabbit\") == 3"
   ]
  },
  {
   "cell_type": "code",
   "execution_count": 77,
   "id": "67fc3008",
   "metadata": {
    "execution": {
     "iopub.execute_input": "2024-05-17T02:31:35.043236Z",
     "iopub.status.busy": "2024-05-17T02:31:35.042965Z",
     "iopub.status.idle": "2024-05-17T02:31:35.047593Z",
     "shell.execute_reply": "2024-05-17T02:31:35.047016Z"
    },
    "lines_to_next_cell": 1,
    "papermill": {
     "duration": 0.02228,
     "end_time": "2024-05-17T02:31:35.048695",
     "exception": false,
     "start_time": "2024-05-17T02:31:35.026415",
     "status": "completed"
    },
    "tags": []
   },
   "outputs": [],
   "source": [
    "# https://leetcode.com/problems/distinct-subsequences/submissions/1258288057\n",
    "def numDistinct(s: str, t: str) -> int:\n",
    "    N1, N2 = len(s), len(t)\n",
    "    dp: list[int] = [0 if j < N2 else 1 for j in range(N2 + 1)]\n",
    "    for i in range(N1 - 1, -1, -1):\n",
    "        for j in range(N2):\n",
    "            if s[i] == t[j]:\n",
    "                dp[j] += dp[j + 1]\n",
    "\n",
    "    return dp[0]\n",
    "\n",
    "# Testing the solution\n",
    "assert numDistinct(\"babgbag\", \"bag\") == 5\n",
    "assert numDistinct(\"rabbbit\", \"rabbit\") == 3"
   ]
  },
  {
   "cell_type": "markdown",
   "id": "88f0f8ed",
   "metadata": {
    "papermill": {
     "duration": 0.015672,
     "end_time": "2024-05-17T02:31:35.080449",
     "exception": false,
     "start_time": "2024-05-17T02:31:35.064777",
     "status": "completed"
    },
    "tags": []
   },
   "source": [
    "Edit Distance\n",
    "Video Link: https://youtu.be/fJaKO8FbDdo?si=YtaIzd2Iphw_Vrlc\n",
    "Naive solution time complexity: O(3 ** N x 3 ** M), Space: O(M + N)"
   ]
  },
  {
   "cell_type": "code",
   "execution_count": 78,
   "id": "1ece6567",
   "metadata": {
    "execution": {
     "iopub.execute_input": "2024-05-17T02:31:35.112992Z",
     "iopub.status.busy": "2024-05-17T02:31:35.112501Z",
     "iopub.status.idle": "2024-05-17T02:31:35.117700Z",
     "shell.execute_reply": "2024-05-17T02:31:35.117262Z"
    },
    "lines_to_next_cell": 1,
    "papermill": {
     "duration": 0.022771,
     "end_time": "2024-05-17T02:31:35.118736",
     "exception": false,
     "start_time": "2024-05-17T02:31:35.095965",
     "status": "completed"
    },
    "tags": []
   },
   "outputs": [],
   "source": [
    "# https://leetcode.com/problems/edit-distance/submissions/1258864387/\n",
    "def editDistanceMemo(word1: str, word2: str) -> int:\n",
    "    @functools.cache\n",
    "    def backtrack(i: int, j: int) -> int:\n",
    "        if i >= N1 or j >= N2:\n",
    "            return (N1 - i) + (N2 - j)\n",
    "        elif word1[i] == word2[j]:\n",
    "            return backtrack(i + 1, j + 1)\n",
    "        else:\n",
    "            delete_op = backtrack(i + 1, j)\n",
    "            insert_op = backtrack(i, j + 1)\n",
    "            replace_op = backtrack(i + 1, j + 1)\n",
    "            return 1 + min(delete_op, insert_op, replace_op)\n",
    "\n",
    "    N1, N2 = len(word1), len(word2)\n",
    "    return backtrack(0, 0)\n",
    "\n",
    "# Testing the solution\n",
    "assert editDistanceMemo(\"horse\", \"ros\") == 3\n",
    "assert editDistanceMemo(\"intention\", \"execution\") == 5"
   ]
  },
  {
   "cell_type": "code",
   "execution_count": 79,
   "id": "a32793d7",
   "metadata": {
    "execution": {
     "iopub.execute_input": "2024-05-17T02:31:35.151168Z",
     "iopub.status.busy": "2024-05-17T02:31:35.150908Z",
     "iopub.status.idle": "2024-05-17T02:31:35.156209Z",
     "shell.execute_reply": "2024-05-17T02:31:35.155784Z"
    },
    "lines_to_next_cell": 1,
    "papermill": {
     "duration": 0.022647,
     "end_time": "2024-05-17T02:31:35.157289",
     "exception": false,
     "start_time": "2024-05-17T02:31:35.134642",
     "status": "completed"
    },
    "tags": []
   },
   "outputs": [],
   "source": [
    "def editDistanceTab(word1: str, word2: str) -> int:\n",
    "    N1, N2 = len(word1), len(word2)\n",
    "    dp: list[list[int]] = [[(N1 - i) + (N2 - j) if i >= N1 or j >= N2 else 0 for j in range(N2 + 1)] for i in range(N1 + 1)]\n",
    "    for i in range(N1 - 1, -1, -1):\n",
    "        for j in range(N2 - 1, -1, -1):\n",
    "            if word1[i] == word2[j]:\n",
    "                dp[i][j] = dp[i + 1][j + 1]\n",
    "            else:\n",
    "                dp[i][j] = 1 + min(dp[i + 1][j], dp[i][j + 1], dp[i + 1][j + 1])\n",
    "\n",
    "    return dp[0][0]\n",
    "\n",
    "# Testing the solution\n",
    "assert editDistanceTab(\"horse\", \"ros\") == 3\n",
    "assert editDistanceTab(\"intention\", \"execution\") == 5"
   ]
  },
  {
   "cell_type": "code",
   "execution_count": 80,
   "id": "5af4af2c",
   "metadata": {
    "execution": {
     "iopub.execute_input": "2024-05-17T02:31:35.190281Z",
     "iopub.status.busy": "2024-05-17T02:31:35.189794Z",
     "iopub.status.idle": "2024-05-17T02:31:35.195143Z",
     "shell.execute_reply": "2024-05-17T02:31:35.194641Z"
    },
    "lines_to_next_cell": 1,
    "papermill": {
     "duration": 0.023105,
     "end_time": "2024-05-17T02:31:35.196217",
     "exception": false,
     "start_time": "2024-05-17T02:31:35.173112",
     "status": "completed"
    },
    "tags": []
   },
   "outputs": [],
   "source": [
    "def editDistanceSpaceOptimized(word1: str, word2: str) -> int:\n",
    "    N1, N2 = len(word1), len(word2)\n",
    "    if N1 == 0 or N2 == 0:\n",
    "        return max(N1, N2)\n",
    "\n",
    "    else:\n",
    "        dp: list[int] = [N2 - j for j in range(N2 + 1)]\n",
    "        for i in range(N1 - 1, -1, -1):\n",
    "            dp[-1] = N1 - i - 1\n",
    "            next_dp: list[int] = list(dp)\n",
    "            for j in range(N2 - 1, -1, -1):\n",
    "                if word1[i] == word2[j]:\n",
    "                    next_dp[j] = dp[j + 1]\n",
    "                else:\n",
    "                    next_dp[j] = 1 + min(dp[j], dp[j + 1], next_dp[j + 1])\n",
    "\n",
    "            dp = next_dp\n",
    "\n",
    "        return dp[0]\n",
    "\n",
    "# Testing the solution\n",
    "assert editDistanceSpaceOptimized(\"horse\", \"ros\") == 3\n",
    "assert editDistanceSpaceOptimized(\"intention\", \"execution\") == 5"
   ]
  },
  {
   "cell_type": "markdown",
   "id": "06a1202d",
   "metadata": {
    "papermill": {
     "duration": 0.015357,
     "end_time": "2024-05-17T02:31:35.227191",
     "exception": false,
     "start_time": "2024-05-17T02:31:35.211834",
     "status": "completed"
    },
    "tags": []
   },
   "source": [
    "Video Link: https://youtu.be/ZmlQ3vgAOMo?si=E_X4r10aFkD_A9Nn\n",
    "Wildcard Matching"
   ]
  },
  {
   "cell_type": "code",
   "execution_count": 81,
   "id": "fc9c33aa",
   "metadata": {
    "execution": {
     "iopub.execute_input": "2024-05-17T02:31:35.259132Z",
     "iopub.status.busy": "2024-05-17T02:31:35.258724Z",
     "iopub.status.idle": "2024-05-17T02:31:35.264419Z",
     "shell.execute_reply": "2024-05-17T02:31:35.263980Z"
    },
    "lines_to_next_cell": 1,
    "papermill": {
     "duration": 0.022948,
     "end_time": "2024-05-17T02:31:35.265483",
     "exception": false,
     "start_time": "2024-05-17T02:31:35.242535",
     "status": "completed"
    },
    "tags": []
   },
   "outputs": [],
   "source": [
    "def isMatchMemo(s: str, p: str) -> bool:\n",
    "    @functools.cache\n",
    "    def backtrack(i: int, j: int) -> bool:\n",
    "        if i >= N1 and j >= N2:\n",
    "            return True\n",
    "        elif i >= N1 or j >= N2:\n",
    "            return False\n",
    "        elif s[i] == p[j] or p[j] == '?':\n",
    "            return backtrack(i + 1, j + 1)\n",
    "        elif p[j] == '*':\n",
    "            # consume s[i] or don't consume s[i]\n",
    "            return backtrack(i + 1, j) or backtrack(i, j + 1)\n",
    "        else:\n",
    "            return False\n",
    "\n",
    "    s, p = s + '$', p + '$'\n",
    "    N1, N2 = len(s), len(p)\n",
    "    return backtrack(0, 0)\n",
    "\n",
    "# Testing the solution\n",
    "assert isMatchMemo(\"d\", \"*d\") == True\n",
    "assert isMatchMemo(\"abacd\", \"*c?\") == True\n",
    "assert isMatchMemo(\"aa\", \"*\") == True\n",
    "assert isMatchMemo(\"cb\", \"?a\") == False\n",
    "assert isMatchMemo(\"cb\", \"?a\") == False\n",
    "assert isMatchMemo(\"abcabczzzde\", \"*abc???de*\") == True\n",
    "assert isMatchMemo(\"aaa\", \"***a\") == True"
   ]
  },
  {
   "cell_type": "code",
   "execution_count": 82,
   "id": "66694128",
   "metadata": {
    "execution": {
     "iopub.execute_input": "2024-05-17T02:31:35.298067Z",
     "iopub.status.busy": "2024-05-17T02:31:35.297507Z",
     "iopub.status.idle": "2024-05-17T02:31:35.303679Z",
     "shell.execute_reply": "2024-05-17T02:31:35.303244Z"
    },
    "lines_to_next_cell": 1,
    "papermill": {
     "duration": 0.023529,
     "end_time": "2024-05-17T02:31:35.304732",
     "exception": false,
     "start_time": "2024-05-17T02:31:35.281203",
     "status": "completed"
    },
    "tags": []
   },
   "outputs": [],
   "source": [
    "def isMatchTab(s: str, p: str) -> bool:\n",
    "    s, p = s + '$', p + '$'\n",
    "    N1, N2 = len(s), len(p)\n",
    "    dp: list[list[bool]] = [[True if i >= N1 and j >= N2 else False for j in range(N2 + 1)] for i in range(N1 + 1)]\n",
    "    for i in range(N1 - 1, -1, -1):\n",
    "        for j in range(N2 - 1, -1, -1):\n",
    "            if s[i] == p[j] or p[j] == '?':\n",
    "                dp[i][j] = dp[i + 1][j + 1]\n",
    "            elif p[j] == '*':\n",
    "                dp[i][j] = dp[i + 1][j] or dp[i][j + 1]\n",
    "            else:\n",
    "                dp[i][j] = False\n",
    "\n",
    "    return dp[0][0]\n",
    "\n",
    "# Testing the solution\n",
    "assert isMatchTab(\"abacd\", \"*c?\") == True\n",
    "assert isMatchTab(\"abcabczzzde\", \"*abc???de*\") == True\n",
    "assert isMatchTab(\"aaa\", \"***?\") == True"
   ]
  },
  {
   "cell_type": "code",
   "execution_count": 83,
   "id": "1803ba8d",
   "metadata": {
    "execution": {
     "iopub.execute_input": "2024-05-17T02:31:35.337033Z",
     "iopub.status.busy": "2024-05-17T02:31:35.336595Z",
     "iopub.status.idle": "2024-05-17T02:31:35.342010Z",
     "shell.execute_reply": "2024-05-17T02:31:35.341558Z"
    },
    "lines_to_next_cell": 1,
    "papermill": {
     "duration": 0.022699,
     "end_time": "2024-05-17T02:31:35.343120",
     "exception": false,
     "start_time": "2024-05-17T02:31:35.320421",
     "status": "completed"
    },
    "tags": []
   },
   "outputs": [],
   "source": [
    "# https://leetcode.com/problems/wildcard-matching/submissions/1259222651\n",
    "def isMatch(s: str, p: str) -> bool:\n",
    "    s, p = s + '$', p + '$'\n",
    "    N1, N2 = len(s), len(p)\n",
    "    dp: list[bool] = [True if j >= N2 else False for j in range(N2 + 1)]\n",
    "    for i in range(N1 - 1, -1, -1):\n",
    "        next_dp: list[bool] = list(dp)\n",
    "        for j in range(N2 - 1, -1, -1):\n",
    "            if s[i] == p[j] or p[j] == '?':\n",
    "                next_dp[j] = dp[j + 1]\n",
    "            elif p[j] == '*':\n",
    "                next_dp[j] = dp[j] or next_dp[j + 1]\n",
    "            else:\n",
    "                next_dp[j] = False\n",
    "\n",
    "        dp = next_dp\n",
    "\n",
    "    return dp[0]\n",
    "\n",
    "# Testing the solution\n",
    "assert isMatch(\"abacd\", \"*c?\") == True\n",
    "assert isMatch(\"abcabczzzde\", \"*abc???de*\") == True\n",
    "assert isMatch(\"aaa\", \"***?\") == True"
   ]
  },
  {
   "cell_type": "markdown",
   "id": "0af9e13b",
   "metadata": {
    "papermill": {
     "duration": 0.015421,
     "end_time": "2024-05-17T02:31:35.374192",
     "exception": false,
     "start_time": "2024-05-17T02:31:35.358771",
     "status": "completed"
    },
    "tags": []
   },
   "source": [
    "Best time to buy and sell stocks - II\n",
    "Video Link: https://youtu.be/nGJmxkUJQGs?si=xgX1LFznD2IAPCJ7"
   ]
  },
  {
   "cell_type": "code",
   "execution_count": 84,
   "id": "0b5303c1",
   "metadata": {
    "execution": {
     "iopub.execute_input": "2024-05-17T02:31:35.406431Z",
     "iopub.status.busy": "2024-05-17T02:31:35.405969Z",
     "iopub.status.idle": "2024-05-17T02:31:35.410933Z",
     "shell.execute_reply": "2024-05-17T02:31:35.410464Z"
    },
    "lines_to_next_cell": 1,
    "papermill": {
     "duration": 0.022469,
     "end_time": "2024-05-17T02:31:35.412098",
     "exception": false,
     "start_time": "2024-05-17T02:31:35.389629",
     "status": "completed"
    },
    "tags": []
   },
   "outputs": [],
   "source": [
    "def stocks1Memo(prices: list[int]) -> int:\n",
    "    @functools.cache\n",
    "    def backtrack(i: int, inventory: int) -> int:\n",
    "        if i == N:\n",
    "            return 0\n",
    "        elif inventory == -1:\n",
    "            return max(backtrack(i + 1, i), backtrack(i + 1, -1))\n",
    "        else:\n",
    "            return max(prices[i] - prices[inventory] + backtrack(i + 1, -1), backtrack(i + 1, inventory))\n",
    "\n",
    "    N = len(prices)\n",
    "    return backtrack(0, -1)\n",
    "\n",
    "# Testing the solution\n",
    "assert stocks1Memo([7,1,5,3,6,4]) == 7\n",
    "assert stocks1Memo([1,2,3,4,5]) == 4\n",
    "assert stocks1Memo([7,6,4,3,1]) == 0"
   ]
  },
  {
   "cell_type": "code",
   "execution_count": 85,
   "id": "b24f5c40",
   "metadata": {
    "execution": {
     "iopub.execute_input": "2024-05-17T02:31:35.444268Z",
     "iopub.status.busy": "2024-05-17T02:31:35.443949Z",
     "iopub.status.idle": "2024-05-17T02:31:35.448792Z",
     "shell.execute_reply": "2024-05-17T02:31:35.448284Z"
    },
    "lines_to_next_cell": 1,
    "papermill": {
     "duration": 0.022085,
     "end_time": "2024-05-17T02:31:35.449868",
     "exception": false,
     "start_time": "2024-05-17T02:31:35.427783",
     "status": "completed"
    },
    "tags": []
   },
   "outputs": [],
   "source": [
    "# Striver's approach\n",
    "def stocks1StriverMemo(prices: list[int]) -> int:\n",
    "    @functools.cache\n",
    "    def backtrack(i: int, inventory: bool) -> int:\n",
    "        if i == N:\n",
    "            return 0\n",
    "        elif not inventory: # No stock previously purchased: buy or not buy\n",
    "            return max(-prices[i] + backtrack(i + 1, True), backtrack(i + 1, False))\n",
    "        else: # Stock already exists: sell or hold stock\n",
    "            return max(prices[i] + backtrack(i + 1, False), backtrack(i + 1, True))\n",
    "\n",
    "    N = len(prices)\n",
    "    return backtrack(0, False)\n",
    "\n",
    "# Testing the solution\n",
    "assert stocks1StriverMemo([7,1,5,3,6,4]) == 7\n",
    "assert stocks1StriverMemo([1,2,3,4,5]) == 4\n",
    "assert stocks1StriverMemo([7,6,4,3,1]) == 0"
   ]
  },
  {
   "cell_type": "code",
   "execution_count": 86,
   "id": "6e752e9f",
   "metadata": {
    "execution": {
     "iopub.execute_input": "2024-05-17T02:31:35.481749Z",
     "iopub.status.busy": "2024-05-17T02:31:35.481357Z",
     "iopub.status.idle": "2024-05-17T02:31:35.486628Z",
     "shell.execute_reply": "2024-05-17T02:31:35.486207Z"
    },
    "lines_to_next_cell": 1,
    "papermill": {
     "duration": 0.022223,
     "end_time": "2024-05-17T02:31:35.487686",
     "exception": false,
     "start_time": "2024-05-17T02:31:35.465463",
     "status": "completed"
    },
    "tags": []
   },
   "outputs": [],
   "source": [
    "def stocks1Tab(prices: list[int]) -> int:\n",
    "    N = len(prices)\n",
    "    dp: list[list[int]] = [[0 for j in range(2)] for i in range(N + 1)]\n",
    "    for i in range(N - 1, -1, -1):\n",
    "        for j in range(1, -1, -1):\n",
    "            if j == 0:\n",
    "                dp[i][j] = max(-prices[i] + dp[i + 1][1], dp[i + 1][0])\n",
    "            else:\n",
    "                dp[i][j] = max(prices[i] + dp[i + 1][0], dp[i + 1][1])\n",
    "\n",
    "    return dp[0][0]\n",
    "\n",
    "# Testing the solution\n",
    "assert stocks1Tab([7,1,5,3,6,4]) == 7\n",
    "assert stocks1Tab([1,2,3,4,5]) == 4\n",
    "assert stocks1Tab([7,6,4,3,1]) == 0"
   ]
  },
  {
   "cell_type": "code",
   "execution_count": 87,
   "id": "32c0e187",
   "metadata": {
    "execution": {
     "iopub.execute_input": "2024-05-17T02:31:35.519919Z",
     "iopub.status.busy": "2024-05-17T02:31:35.519449Z",
     "iopub.status.idle": "2024-05-17T02:31:35.524240Z",
     "shell.execute_reply": "2024-05-17T02:31:35.523825Z"
    },
    "lines_to_next_cell": 1,
    "papermill": {
     "duration": 0.021942,
     "end_time": "2024-05-17T02:31:35.525315",
     "exception": false,
     "start_time": "2024-05-17T02:31:35.503373",
     "status": "completed"
    },
    "tags": []
   },
   "outputs": [],
   "source": [
    "# https://leetcode.com/problems/best-time-to-buy-and-sell-stock-ii/submissions/1259669260\n",
    "def stocks1(prices: list[int]) -> int:\n",
    "    N = len(prices)\n",
    "    dp: list[int] = [0 for j in range(2)]\n",
    "    for i in range(N - 1, -1, -1):\n",
    "        for j in range(1, -1, -1):\n",
    "            if j == 0:\n",
    "                dp[j] = max(-prices[i] + dp[1], dp[0])\n",
    "            else:\n",
    "                dp[j] = max(prices[i] + dp[0], dp[1])\n",
    "\n",
    "    return dp[0]\n",
    "\n",
    "# Testing the solution\n",
    "assert stocks1([7,1,5,3,6,4]) == 7\n",
    "assert stocks1([1,2,3,4,5]) == 4\n",
    "assert stocks1([7,6,4,3,1]) == 0"
   ]
  },
  {
   "cell_type": "markdown",
   "id": "f99546d3",
   "metadata": {
    "papermill": {
     "duration": 0.015342,
     "end_time": "2024-05-17T02:31:35.556159",
     "exception": false,
     "start_time": "2024-05-17T02:31:35.540817",
     "status": "completed"
    },
    "tags": []
   },
   "source": [
    "Video Link: https://youtu.be/-uQGzhYj8BQ?si=-Ps8pCdPtuWjuTQZ\n",
    "Buy and Sell Stocks - III: https://leetcode.com/problems/best-time-to-buy-and-sell-stock-iii/"
   ]
  },
  {
   "cell_type": "code",
   "execution_count": 88,
   "id": "8939c406",
   "metadata": {
    "execution": {
     "iopub.execute_input": "2024-05-17T02:31:35.588533Z",
     "iopub.status.busy": "2024-05-17T02:31:35.588036Z",
     "iopub.status.idle": "2024-05-17T02:31:35.593205Z",
     "shell.execute_reply": "2024-05-17T02:31:35.592786Z"
    },
    "lines_to_next_cell": 1,
    "papermill": {
     "duration": 0.022509,
     "end_time": "2024-05-17T02:31:35.594269",
     "exception": false,
     "start_time": "2024-05-17T02:31:35.571760",
     "status": "completed"
    },
    "tags": []
   },
   "outputs": [],
   "source": [
    "def stocks2Memo(prices: list[int]) -> int:\n",
    "    \"\"\"\n",
    "    0 - Start\n",
    "    1 - Buy 1\n",
    "    2 - Sell 1\n",
    "    3 - Buy 2\n",
    "    4 - Sell 2\n",
    "    \"\"\"\n",
    "    @functools.cache\n",
    "    def backtrack(i: int, j: int) -> int:\n",
    "        if i == N or j == 4:\n",
    "            return 0\n",
    "        elif j % 2 == 0: # Not holding any stock: buy / not buy\n",
    "            return max(-prices[i] + backtrack(i + 1, j + 1), backtrack(i + 1, j))\n",
    "        else:\n",
    "            return max(prices[i] + backtrack(i + 1, j + 1), backtrack(i + 1, j))\n",
    "\n",
    "    N = len(prices)\n",
    "    return backtrack(0, 0)\n",
    "\n",
    "# Testing the solution\n",
    "assert stocks2Memo([3,3,5,0,0,3,1,4]) == 6\n",
    "assert stocks2Memo([1,2,3,4,5]) == 4\n",
    "assert stocks2Memo([7,6,4,3,1]) == 0"
   ]
  },
  {
   "cell_type": "code",
   "execution_count": 89,
   "id": "4f33510b",
   "metadata": {
    "execution": {
     "iopub.execute_input": "2024-05-17T02:31:35.626953Z",
     "iopub.status.busy": "2024-05-17T02:31:35.626562Z",
     "iopub.status.idle": "2024-05-17T02:31:35.631997Z",
     "shell.execute_reply": "2024-05-17T02:31:35.631531Z"
    },
    "lines_to_next_cell": 1,
    "papermill": {
     "duration": 0.022772,
     "end_time": "2024-05-17T02:31:35.633056",
     "exception": false,
     "start_time": "2024-05-17T02:31:35.610284",
     "status": "completed"
    },
    "tags": []
   },
   "outputs": [],
   "source": [
    "def stocks2Tab(prices: list[int]) -> int:\n",
    "    N = len(prices)\n",
    "    dp: list[list[int]] = [[0 for j in range(5)] for i in range(N + 1)]\n",
    "    for i in range(N - 1, -1, -1):\n",
    "        for j in range(3, -1, -1):\n",
    "            if j % 2 == 0: # Not holding any stock: buy / not buy\n",
    "                dp[i][j] = max(-prices[i] + dp[i + 1][j + 1], dp[i + 1][j])\n",
    "            else:\n",
    "                dp[i][j] = max(prices[i] + dp[i + 1][j + 1], dp[i + 1][j])\n",
    "\n",
    "    return dp[0][0]\n",
    "\n",
    "# Testing the solution\n",
    "assert stocks2Tab([3,3,5,0,0,3,1,4]) == 6\n",
    "assert stocks2Tab([1,2,3,4,5]) == 4\n",
    "assert stocks2Tab([7,6,4,3,1]) == 0"
   ]
  },
  {
   "cell_type": "code",
   "execution_count": 90,
   "id": "2d27ea1d",
   "metadata": {
    "execution": {
     "iopub.execute_input": "2024-05-17T02:31:35.664774Z",
     "iopub.status.busy": "2024-05-17T02:31:35.664583Z",
     "iopub.status.idle": "2024-05-17T02:31:35.669579Z",
     "shell.execute_reply": "2024-05-17T02:31:35.669139Z"
    },
    "lines_to_next_cell": 1,
    "papermill": {
     "duration": 0.022025,
     "end_time": "2024-05-17T02:31:35.670671",
     "exception": false,
     "start_time": "2024-05-17T02:31:35.648646",
     "status": "completed"
    },
    "tags": []
   },
   "outputs": [],
   "source": [
    "# https://leetcode.com/problems/best-time-to-buy-and-sell-stock-iii/submissions/1259699363\n",
    "def stocks2(prices: list[int]) -> int:\n",
    "    N = len(prices)\n",
    "    dp: list[int] = [0 for j in range(5)]\n",
    "    for i in range(N - 1, -1, -1):\n",
    "        for j in range(3, -1, -1):\n",
    "            if j % 2 == 0: # Not holding any stock: buy / not buy\n",
    "                dp[j] = max(-prices[i] + dp[j + 1], dp[j])\n",
    "            else:\n",
    "                dp[j] = max(prices[i] + dp[j + 1], dp[j])\n",
    "\n",
    "    return dp[0]\n",
    "\n",
    "# Testing the solution\n",
    "assert stocks2([3,3,5,0,0,3,1,4]) == 6\n",
    "assert stocks2([1,2,3,4,5]) == 4\n",
    "assert stocks2([7,6,4,3,1]) == 0"
   ]
  },
  {
   "cell_type": "markdown",
   "id": "3105a916",
   "metadata": {
    "papermill": {
     "duration": 0.015249,
     "end_time": "2024-05-17T02:31:35.701388",
     "exception": false,
     "start_time": "2024-05-17T02:31:35.686139",
     "status": "completed"
    },
    "tags": []
   },
   "source": [
    "Best time to buy and sell stocks - IV\n",
    "Video Link: https://youtu.be/IV1dHbk5CDc?si=zvqGmxYAZN10-UGg"
   ]
  },
  {
   "cell_type": "code",
   "execution_count": 91,
   "id": "9619fbbe",
   "metadata": {
    "execution": {
     "iopub.execute_input": "2024-05-17T02:31:35.733365Z",
     "iopub.status.busy": "2024-05-17T02:31:35.732862Z",
     "iopub.status.idle": "2024-05-17T02:31:35.737927Z",
     "shell.execute_reply": "2024-05-17T02:31:35.737388Z"
    },
    "lines_to_next_cell": 1,
    "papermill": {
     "duration": 0.022138,
     "end_time": "2024-05-17T02:31:35.739002",
     "exception": false,
     "start_time": "2024-05-17T02:31:35.716864",
     "status": "completed"
    },
    "tags": []
   },
   "outputs": [],
   "source": [
    "# Minor update on the previous problem\n",
    "def stocks3(k: int, prices: list[int]) -> int:\n",
    "    N = len(prices)\n",
    "    max_transaction = 2 * k\n",
    "    dp: list[int] = [0 for j in range(max_transaction + 1)]\n",
    "    for i in range(N - 1, -1, -1):\n",
    "        for j in range(max_transaction - 1, -1, -1):\n",
    "            if j % 2 == 0: # Not holding any stock: buy / not buy\n",
    "                dp[j] = max(-prices[i] + dp[j + 1], dp[j])\n",
    "            else:\n",
    "                dp[j] = max(prices[i] + dp[j + 1], dp[j])\n",
    "\n",
    "    return dp[0]\n",
    "\n",
    "# Testing the solution\n",
    "assert stocks3(2, [2,4,1]) == 2\n",
    "assert stocks3(2, [3,2,6,5,0,3]) == 7"
   ]
  },
  {
   "cell_type": "code",
   "execution_count": 92,
   "id": "317bdab8",
   "metadata": {
    "execution": {
     "iopub.execute_input": "2024-05-17T02:31:35.771187Z",
     "iopub.status.busy": "2024-05-17T02:31:35.770761Z",
     "iopub.status.idle": "2024-05-17T02:31:35.775865Z",
     "shell.execute_reply": "2024-05-17T02:31:35.775415Z"
    },
    "lines_to_next_cell": 1,
    "papermill": {
     "duration": 0.022237,
     "end_time": "2024-05-17T02:31:35.776895",
     "exception": false,
     "start_time": "2024-05-17T02:31:35.754658",
     "status": "completed"
    },
    "tags": []
   },
   "outputs": [],
   "source": [
    "# Let's try striver's approach of using a 3D array\n",
    "def stocks3StriverMemo(k: int, prices: list[int]) -> int:\n",
    "    @functools.cache\n",
    "    def backtrack(i: int, inventory: bool, count: int) -> int:\n",
    "        if i == N or count == k:\n",
    "            return 0\n",
    "        elif not inventory: # Not holding any stock\n",
    "            return max(-prices[i] + backtrack(i + 1, True, count), backtrack(i + 1, False, count))\n",
    "        else:\n",
    "            return max(prices[i] + backtrack(i + 1, False, count + 1), backtrack(i + 1, True, count))\n",
    "\n",
    "    N = len(prices)\n",
    "    return backtrack(0, 0, 0)\n",
    "\n",
    "# Testing the solution\n",
    "assert stocks3StriverMemo(2, [2,4,1]) == 2\n",
    "assert stocks3StriverMemo(2, [3,2,6,5,0,3]) == 7"
   ]
  },
  {
   "cell_type": "code",
   "execution_count": 93,
   "id": "a04d3d04",
   "metadata": {
    "execution": {
     "iopub.execute_input": "2024-05-17T02:31:35.809111Z",
     "iopub.status.busy": "2024-05-17T02:31:35.808734Z",
     "iopub.status.idle": "2024-05-17T02:31:35.814270Z",
     "shell.execute_reply": "2024-05-17T02:31:35.813806Z"
    },
    "lines_to_next_cell": 1,
    "papermill": {
     "duration": 0.022878,
     "end_time": "2024-05-17T02:31:35.815452",
     "exception": false,
     "start_time": "2024-05-17T02:31:35.792574",
     "status": "completed"
    },
    "tags": []
   },
   "outputs": [],
   "source": [
    "def stocks3StriverTab(K: int, prices: list[int]) -> int:\n",
    "    N = len(prices)\n",
    "    dp: list[list[list[int]]] = [[[0 for count in range(K + 1)] for j in range(2)] for i in range(N + 1)]\n",
    "    for i in range(N - 1, -1, -1):\n",
    "        for j in range(1, -1, -1):\n",
    "            for count in range(K - 1, -1, -1):\n",
    "                if j == 0:\n",
    "                    dp[i][j][count] = max(-prices[i] + dp[i + 1][1][count], dp[i + 1][0][count])\n",
    "                else:\n",
    "                    dp[i][j][count] = max(prices[i] + dp[i + 1][0][count + 1], dp[i + 1][1][count])\n",
    "\n",
    "    return dp[0][0][0]\n",
    "\n",
    "# Testing the solution\n",
    "assert stocks3StriverTab(2, [2,4,1]) == 2\n",
    "assert stocks3StriverTab(2, [3,2,6,5,0,3]) == 7"
   ]
  },
  {
   "cell_type": "code",
   "execution_count": 94,
   "id": "f4b496e3",
   "metadata": {
    "execution": {
     "iopub.execute_input": "2024-05-17T02:31:35.849206Z",
     "iopub.status.busy": "2024-05-17T02:31:35.848830Z",
     "iopub.status.idle": "2024-05-17T02:31:35.854221Z",
     "shell.execute_reply": "2024-05-17T02:31:35.853686Z"
    },
    "lines_to_next_cell": 1,
    "papermill": {
     "duration": 0.022833,
     "end_time": "2024-05-17T02:31:35.855418",
     "exception": false,
     "start_time": "2024-05-17T02:31:35.832585",
     "status": "completed"
    },
    "tags": []
   },
   "outputs": [],
   "source": [
    "def stocks3Striver(K: int, prices: list[int]) -> int:\n",
    "    N = len(prices)\n",
    "    dp: list[list[int]] = [[0 for count in range(K + 1)] for j in range(2)]\n",
    "    for i in range(N - 1, -1, -1):\n",
    "        for j in range(1, -1, -1):\n",
    "            for count in range(K - 1, -1, -1):\n",
    "                if j == 0:\n",
    "                    dp[j][count] = max(-prices[i] + dp[1][count], dp[0][count])\n",
    "                else:\n",
    "                    dp[j][count] = max(prices[i] + dp[0][count + 1], dp[1][count])\n",
    "\n",
    "    return dp[0][0]\n",
    "\n",
    "# Testing the solution\n",
    "assert stocks3Striver(2, [2,4,1]) == 2\n",
    "assert stocks3Striver(2, [3,2,6,5,0,3]) == 7"
   ]
  },
  {
   "cell_type": "markdown",
   "id": "6d856ff6",
   "metadata": {
    "papermill": {
     "duration": 0.015236,
     "end_time": "2024-05-17T02:31:35.886189",
     "exception": false,
     "start_time": "2024-05-17T02:31:35.870953",
     "status": "completed"
    },
    "tags": []
   },
   "source": [
    "Video link: https://youtu.be/IGIe46xw3YY?si=B0IUJM2GtIGVlq7D\n",
    "Best time to buy and sell stock with cooldown"
   ]
  },
  {
   "cell_type": "code",
   "execution_count": 95,
   "id": "d8063cf8",
   "metadata": {
    "execution": {
     "iopub.execute_input": "2024-05-17T02:31:35.917920Z",
     "iopub.status.busy": "2024-05-17T02:31:35.917673Z",
     "iopub.status.idle": "2024-05-17T02:31:35.923180Z",
     "shell.execute_reply": "2024-05-17T02:31:35.922651Z"
    },
    "lines_to_next_cell": 1,
    "papermill": {
     "duration": 0.022653,
     "end_time": "2024-05-17T02:31:35.924266",
     "exception": false,
     "start_time": "2024-05-17T02:31:35.901613",
     "status": "completed"
    },
    "tags": []
   },
   "outputs": [],
   "source": [
    "# Copy pasting code from stocks II, when selling do a i + 2 instead of i + 1\n",
    "def stocksWithCooldownTab(prices: list[int]) -> int:\n",
    "    N = len(prices)\n",
    "    dp: list[list[int]] = [[0 for j in range(2)] for i in range(N + 2)]\n",
    "    for i in range(N - 1, -1, -1):\n",
    "        for j in range(1, -1, -1):\n",
    "            if j == 0:\n",
    "                dp[i][j] = max(-prices[i] + dp[i + 1][1], dp[i + 1][0])\n",
    "            else:\n",
    "                dp[i][j] = max(prices[i] + dp[i + 2][0], dp[i + 1][1])\n",
    "\n",
    "    return dp[0][0]\n",
    "\n",
    "# Testing the solution\n",
    "assert stocksWithCooldownTab([1,2,3,0,2]) == 3\n",
    "assert stocksWithCooldownTab([1,2,2,3,1,2,3,3,1,2,3,4,1,2,3,1,2,3,2,2,3,4,1,23,2,23]) == 31"
   ]
  },
  {
   "cell_type": "code",
   "execution_count": 96,
   "id": "0f414ee0",
   "metadata": {
    "execution": {
     "iopub.execute_input": "2024-05-17T02:31:35.956353Z",
     "iopub.status.busy": "2024-05-17T02:31:35.955943Z",
     "iopub.status.idle": "2024-05-17T02:31:35.961190Z",
     "shell.execute_reply": "2024-05-17T02:31:35.960767Z"
    },
    "lines_to_next_cell": 1,
    "papermill": {
     "duration": 0.022391,
     "end_time": "2024-05-17T02:31:35.962231",
     "exception": false,
     "start_time": "2024-05-17T02:31:35.939840",
     "status": "completed"
    },
    "tags": []
   },
   "outputs": [],
   "source": [
    "def stocksWithCooldown(prices: list[int]) -> int:\n",
    "    N = len(prices)\n",
    "    dp: list[int] = [0 for j in range(2)]\n",
    "    next_dp: list[int] = [0 for j in range(2)]\n",
    "    for i in range(N - 1, -1, -1):\n",
    "        temp = list(dp)\n",
    "        for j in range(1, -1, -1):\n",
    "            if j == 0:\n",
    "                dp[j] = max(-prices[i] + dp[1], dp[0])\n",
    "            else:\n",
    "                dp[j] = max(prices[i] + next_dp[0], dp[1])\n",
    "        next_dp = temp\n",
    "\n",
    "    return dp[0]\n",
    "\n",
    "# Testing the solution\n",
    "assert stocksWithCooldown([1,2,3,0,2]) == 3\n",
    "assert stocksWithCooldown([1,2,2,3,1,2,3,3,1,2,3,4,1,2,3,1,2,3,2,2,3,4,1,23,2,23]) == 31"
   ]
  },
  {
   "cell_type": "markdown",
   "id": "ba9b90d0",
   "metadata": {
    "papermill": {
     "duration": 0.015257,
     "end_time": "2024-05-17T02:31:35.993127",
     "exception": false,
     "start_time": "2024-05-17T02:31:35.977870",
     "status": "completed"
    },
    "tags": []
   },
   "source": [
    "Video link: https://youtu.be/k4eK-vEmnKg?si=-J8puY5S-kGzz_uT\n",
    "Buy and sell stocks with transaction fee"
   ]
  },
  {
   "cell_type": "code",
   "execution_count": 97,
   "id": "31f18961",
   "metadata": {
    "execution": {
     "iopub.execute_input": "2024-05-17T02:31:36.026875Z",
     "iopub.status.busy": "2024-05-17T02:31:36.026570Z",
     "iopub.status.idle": "2024-05-17T02:31:36.031465Z",
     "shell.execute_reply": "2024-05-17T02:31:36.030911Z"
    },
    "lines_to_next_cell": 1,
    "papermill": {
     "duration": 0.024115,
     "end_time": "2024-05-17T02:31:36.032589",
     "exception": false,
     "start_time": "2024-05-17T02:31:36.008474",
     "status": "completed"
    },
    "tags": []
   },
   "outputs": [],
   "source": [
    "def stocksWithTranFeeMemo(prices: list[int], fee: int) -> int:\n",
    "    @functools.cache\n",
    "    def backtrack(i: int, inventory: bool) -> int:\n",
    "        if i == N:\n",
    "            return 0\n",
    "        elif not inventory:\n",
    "            return max(-prices[i] + backtrack(i + 1, True), backtrack(i + 1, False))\n",
    "        else:\n",
    "            return max(prices[i] + backtrack(i + 1, False) - fee, backtrack(i + 1, True))\n",
    "\n",
    "    N = len(prices)\n",
    "    return backtrack(0, False)\n",
    "\n",
    "# Testing the solution\n",
    "assert stocksWithTranFeeMemo([1,3,2,8,4,9], 2) == 8\n",
    "assert stocksWithTranFeeMemo([1,3,7,5,10,3], 3) == 6"
   ]
  },
  {
   "cell_type": "code",
   "execution_count": 98,
   "id": "ebfef8d3",
   "metadata": {
    "execution": {
     "iopub.execute_input": "2024-05-17T02:31:36.066140Z",
     "iopub.status.busy": "2024-05-17T02:31:36.065619Z",
     "iopub.status.idle": "2024-05-17T02:31:36.071116Z",
     "shell.execute_reply": "2024-05-17T02:31:36.070633Z"
    },
    "lines_to_next_cell": 1,
    "papermill": {
     "duration": 0.023415,
     "end_time": "2024-05-17T02:31:36.072207",
     "exception": false,
     "start_time": "2024-05-17T02:31:36.048792",
     "status": "completed"
    },
    "tags": []
   },
   "outputs": [],
   "source": [
    "def stocksWithTranFeeTab(prices: list[int], fee: int) -> int:\n",
    "    N = len(prices)\n",
    "    dp: list[list[int]] = [[0 for j in range(2)] for i in range(N + 1)]\n",
    "    for i in range(N - 1, -1, -1):\n",
    "        for j in range(2):\n",
    "            if not j:\n",
    "                dp[i][j] = max(-prices[i] + dp[i + 1][1], dp[i + 1][0])\n",
    "            else:\n",
    "                dp[i][j] = max(prices[i] + dp[i + 1][0] - fee, dp[i + 1][1])\n",
    "\n",
    "    return dp[0][0]\n",
    "\n",
    "# Testing the solution\n",
    "assert stocksWithTranFeeTab([1,3,2,8,4,9], 2) == 8\n",
    "assert stocksWithTranFeeTab([1,3,7,5,10,3], 3) == 6"
   ]
  },
  {
   "cell_type": "code",
   "execution_count": 99,
   "id": "4ca839d1",
   "metadata": {
    "execution": {
     "iopub.execute_input": "2024-05-17T02:31:36.104662Z",
     "iopub.status.busy": "2024-05-17T02:31:36.104182Z",
     "iopub.status.idle": "2024-05-17T02:31:36.108949Z",
     "shell.execute_reply": "2024-05-17T02:31:36.108503Z"
    },
    "lines_to_next_cell": 1,
    "papermill": {
     "duration": 0.022151,
     "end_time": "2024-05-17T02:31:36.110073",
     "exception": false,
     "start_time": "2024-05-17T02:31:36.087922",
     "status": "completed"
    },
    "tags": []
   },
   "outputs": [],
   "source": [
    "# https://leetcode.com/problems/best-time-to-buy-and-sell-stock-with-transaction-fee/submissions/1260096941\n",
    "def stocksWithTranFee(prices: list[int], fee: int) -> int:\n",
    "    \"\"\"\n",
    "    Can simplify the inner loop since we are always checking for case where\n",
    "    we are holding stock and not holding stock.\n",
    "    \"\"\"\n",
    "    N = len(prices)\n",
    "    dp: list[int] = [0 for j in range(2)]\n",
    "    for i in range(N - 1, -1, -1):\n",
    "        dp[0] = max(-prices[i] + dp[1], dp[0])\n",
    "        dp[1] = max(prices[i] + dp[0] - fee, dp[1])\n",
    "\n",
    "    return dp[0]\n",
    "\n",
    "# Testing the solution\n",
    "assert stocksWithTranFee([1,3,2,8,4,9], 2) == 8\n",
    "assert stocksWithTranFee([1,3,7,5,3,3], 10) == 0"
   ]
  },
  {
   "cell_type": "markdown",
   "id": "5c9cb929",
   "metadata": {
    "papermill": {
     "duration": 0.015529,
     "end_time": "2024-05-17T02:31:36.141424",
     "exception": false,
     "start_time": "2024-05-17T02:31:36.125895",
     "status": "completed"
    },
    "tags": []
   },
   "source": [
    "Longest increasing subsequence\n",
    "Video link: https://youtu.be/ekcwMsSIzVc?si=53GtUk_ZTJC3oDDc"
   ]
  },
  {
   "cell_type": "code",
   "execution_count": 100,
   "id": "1a46c49e",
   "metadata": {
    "execution": {
     "iopub.execute_input": "2024-05-17T02:31:36.175054Z",
     "iopub.status.busy": "2024-05-17T02:31:36.174598Z",
     "iopub.status.idle": "2024-05-17T02:31:36.179983Z",
     "shell.execute_reply": "2024-05-17T02:31:36.179529Z"
    },
    "lines_to_next_cell": 1,
    "papermill": {
     "duration": 0.024027,
     "end_time": "2024-05-17T02:31:36.181138",
     "exception": false,
     "start_time": "2024-05-17T02:31:36.157111",
     "status": "completed"
    },
    "tags": []
   },
   "outputs": [],
   "source": [
    "def lengthOfLISMemo(nums: list[int]) -> int:\n",
    "    \"\"\"\n",
    "    In striver's video, instead of stroing the max_, he stores the index of the latest max.\n",
    "    This way subsequent tabulations would be much simpler.\n",
    "    \"\"\"\n",
    "    @functools.cache\n",
    "    def backtrack(i: int, max_: int) -> int:\n",
    "        if i == N:\n",
    "            return 0\n",
    "        elif nums[i] > max_:\n",
    "            return max(1 + backtrack(i + 1, nums[i]), backtrack(i + 1, max_))\n",
    "        else:\n",
    "            return backtrack(i + 1, max_)\n",
    "\n",
    "    N, min_ = len(nums), min(nums)\n",
    "    return backtrack(0, min_ - 1)\n",
    "\n",
    "# Testing the solution\n",
    "assert lengthOfLISMemo([10,9,2,5,3,7,101,18]) == 4\n",
    "assert lengthOfLISMemo([0,1,0,3,2,3]) == 4\n",
    "assert lengthOfLISMemo([1,1,1,1,1]) == 1"
   ]
  },
  {
   "cell_type": "code",
   "execution_count": 101,
   "id": "cd333f6f",
   "metadata": {
    "execution": {
     "iopub.execute_input": "2024-05-17T02:31:36.214798Z",
     "iopub.status.busy": "2024-05-17T02:31:36.214229Z",
     "iopub.status.idle": "2024-05-17T02:31:36.219616Z",
     "shell.execute_reply": "2024-05-17T02:31:36.219158Z"
    },
    "lines_to_next_cell": 1,
    "papermill": {
     "duration": 0.023295,
     "end_time": "2024-05-17T02:31:36.220710",
     "exception": false,
     "start_time": "2024-05-17T02:31:36.197415",
     "status": "completed"
    },
    "tags": []
   },
   "outputs": [],
   "source": [
    "def lengthOfLISTab(nums: list[int]) -> int:\n",
    "    N = len(nums)\n",
    "    dp: list[list[int]] = [[0 for j in range(N + 2)] for i in range(N + 1)]\n",
    "    for i in range(N - 1, -1, -1):\n",
    "        for j in range(N - 1, -1, -1):\n",
    "            # if j == 0, max_ => min_ - 1, j is right shifted by 1 index to accomodated min_ - 1\n",
    "            if j == 0 or nums[i] > nums[j - 1]:\n",
    "                dp[i][j] = max(1 + dp[i + 1][i + 1], dp[i + 1][j])\n",
    "            else:\n",
    "                dp[i][j] = dp[i + 1][j]\n",
    "\n",
    "    return dp[0][0]\n",
    "\n",
    "# Testing the solution\n",
    "assert lengthOfLISTab([0,1,0,3,2,3]) == 4\n",
    "assert lengthOfLISTab([1,1,1,1,1]) == 1"
   ]
  },
  {
   "cell_type": "code",
   "execution_count": 102,
   "id": "27be61f6",
   "metadata": {
    "execution": {
     "iopub.execute_input": "2024-05-17T02:31:36.253526Z",
     "iopub.status.busy": "2024-05-17T02:31:36.253049Z",
     "iopub.status.idle": "2024-05-17T02:31:36.258003Z",
     "shell.execute_reply": "2024-05-17T02:31:36.257473Z"
    },
    "lines_to_next_cell": 1,
    "papermill": {
     "duration": 0.022634,
     "end_time": "2024-05-17T02:31:36.259209",
     "exception": false,
     "start_time": "2024-05-17T02:31:36.236575",
     "status": "completed"
    },
    "tags": []
   },
   "outputs": [],
   "source": [
    "def lengthOfLIS(nums: list[int]) -> int:\n",
    "    \"Slight improvement, at any point - j (inner loop) cannot be greater than i itself\"\n",
    "    N = len(nums)\n",
    "    dp: list[int] = [0 for j in range(N + 2)]\n",
    "    for i in range(N - 1, -1, -1):\n",
    "        for j in range(i, -1, -1):\n",
    "            if j == 0 or nums[i] > nums[j - 1]:\n",
    "                dp[j] = max(1 + dp[i + 1], dp[j])\n",
    "\n",
    "    return dp[0]\n",
    "\n",
    "# Testing the solution\n",
    "assert lengthOfLIS([0,1,0,3,2,3]) == 4\n",
    "assert lengthOfLIS([1,1,1,1,1]) == 1"
   ]
  },
  {
   "cell_type": "code",
   "execution_count": null,
   "id": "1c08a876",
   "metadata": {},
   "outputs": [],
   "source": [
    "# LIS Tabulation: https://youtu.be/IFfYfonAFGc?si=XTbp31f-RLY2EsvQ"
   ]
  },
  {
   "cell_type": "code",
   "execution_count": null,
   "id": "9532e810",
   "metadata": {
    "lines_to_next_cell": 1
   },
   "outputs": [],
   "source": [
    "def lengthOfLISBetter(nums: list[int]) -> int:\n",
    "    \"\"\"\n",
    "    Time: O(N ** 2), Space: O(N)\n",
    "    This solution would be required if we were to trace back the LIS.\n",
    "    \"\"\"\n",
    "    N = len(nums)\n",
    "    lengths: list[int] = [1 for i in range(N)]\n",
    "    prevs: list[int] = [i for i in range(N)]\n",
    "    for i in range(N):\n",
    "        for j in range(i):\n",
    "            if nums[j] < nums[i] and lengths[i] < 1 + lengths[j]:\n",
    "                lengths[i] = 1 + lengths[j]\n",
    "                prevs[i] = j\n",
    "\n",
    "    # Prev Index, Length\n",
    "    max_: tuple[int, int] = (0, 1)\n",
    "    for i in range(N):\n",
    "        if max_[1] < lengths[i]:\n",
    "            max_ = i, lengths[i]\n",
    "\n",
    "    # Backtrack and print the LIS\n",
    "    i = max_[0]\n",
    "    LIS: list[int] = [nums[i]]\n",
    "    while i != prevs[i]:\n",
    "        LIS.append(nums[i])\n",
    "        i = prevs[i]\n",
    "\n",
    "    # Reverse the LIS and print it\n",
    "    LIS.reverse()\n",
    "    print(LIS)\n",
    "\n",
    "    return max_[1]\n",
    "\n",
    "# Testing the solution\n",
    "assert lengthOfLISBetter([0,1,0,3,2,3]) == 4\n",
    "assert lengthOfLISBetter([1,1,1,1,1]) == 1"
   ]
  },
  {
   "cell_type": "markdown",
   "id": "c89b7972",
   "metadata": {},
   "source": [
    "LIS with Binary Search: https://youtu.be/on2hvxBXJH4?si=XLlRu7uTag9KM_Mr\n",
    "Intuition:\n",
    "```\n",
    "Say we have an array like:\n",
    "0, 1, 0, 3, 2, 3\n",
    "\n",
    "Step 1: [0]\n",
    "Step 2: [0, 1]\n",
    "Step 3: [0, 1], [0]\n",
    "Step 4: [0, 1, 3], [0, 3]\n",
    "Step 5: [0, 1, 3], [0, 3], [0, 1, 2], [0, 2]\n",
    "Step 6: [0, 1, 3], [0, 3], [0, 1, 2, 3], [0, 2, 3]\n",
    "\n",
    "Basically at each step we are inserting into the right position and creating a new array if we cannot insert into existing arrays. This consumes a lot of time and memory.\n",
    "We could instead simply save the correct insert position to find the max LIS length which is the trick to finding the N log N solution\n",
    "\n",
    "Step 1: [0]\n",
    "Step 2: [0, 1]\n",
    "Step 3: [0, 1]\n",
    "Step 4: [0, 1, 3]\n",
    "Step 5: [0, 1, 2] (replace 2 at the position where it would get inserted into)\n",
    "Step 6: [0, 1, 2, 3]\n",
    "\n",
    "Do note that this array is not the subsequence. We merely use it to compute the length of LIS.\n",
    "```"
   ]
  },
  {
   "cell_type": "code",
   "execution_count": null,
   "id": "17062257",
   "metadata": {},
   "outputs": [],
   "source": [
    "# https://leetcode.com/problems/longest-increasing-subsequence/submissions/1260560726\n",
    "def lengthOfLISOptimal(nums: list[int]) -> int:\n",
    "    def LB(arr: list[int], target: int) -> int:\n",
    "        \"\"\"\n",
    "        Given n, returns the insertion position of N\n",
    "        \"\"\"\n",
    "        N = len(arr)\n",
    "        low, high = 0, N - 1\n",
    "        while low <= high:\n",
    "            mid = (low + high) // 2\n",
    "            if arr[mid] < target:\n",
    "                low = mid + 1\n",
    "            else:\n",
    "                high = mid - 1\n",
    "\n",
    "        return low\n",
    "\n",
    "    dp: list[int] = []\n",
    "    for n in nums:\n",
    "        if not dp or dp[-1] < n:\n",
    "            dp.append(n)\n",
    "        else:\n",
    "            idx = LB(dp, n)\n",
    "            dp[idx] = n\n",
    "\n",
    "    return len(dp)\n",
    "\n",
    "# Testing the solution\n",
    "assert lengthOfLISOptimal([0,1,0,3,2,3]) == 4\n",
    "assert lengthOfLISOptimal([1,1,1,1,1]) == 1"
   ]
  }
 ],
 "metadata": {
  "kernelspec": {
   "display_name": "Python 3 (ipykernel)",
   "language": "python",
   "name": "python3"
  },
  "language_info": {
   "codemirror_mode": {
    "name": "ipython",
    "version": 3
   },
   "file_extension": ".py",
   "mimetype": "text/x-python",
   "name": "python",
   "nbconvert_exporter": "python",
   "pygments_lexer": "ipython3",
   "version": "3.11.9"
  },
  "papermill": {
   "default_parameters": {},
   "duration": 6.47572,
   "end_time": "2024-05-17T02:31:36.390417",
   "environment_variables": {},
   "exception": null,
   "input_path": "study/striver-A2Z/13-dp.ipynb",
   "output_path": "study/striver-A2Z/13-dp.ipynb",
   "parameters": {},
   "start_time": "2024-05-17T02:31:29.914697",
   "version": "2.6.0"
  }
 },
 "nbformat": 4,
 "nbformat_minor": 5
}
