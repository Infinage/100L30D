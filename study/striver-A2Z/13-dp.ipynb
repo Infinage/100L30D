{
 "cells": [
  {
   "cell_type": "markdown",
   "id": "807dd9ee",
   "metadata": {
    "papermill": {
     "duration": 0.017646,
     "end_time": "2024-05-18T13:43:57.168810",
     "exception": false,
     "start_time": "2024-05-18T13:43:57.151164",
     "status": "completed"
    },
    "tags": []
   },
   "source": [
    "Important notes\n",
    "- All subset based problems (non contigous subarrays would have the pick/nopick approach)\n",
    "- To convert a memoization solution to tabulation:\n",
    "  1. Find the base case and assign the the DP\n",
    "  2. Start iterating from the base case all the way to our starting point\n",
    "  3. Return the value at the starting point\n",
    "- We can space optimize a tabulation solution whenever we see only the prev/next rows being used in the tabualation solution.\n",
    "- Time complexity of unmemoized DP code is typically exponential O(number of branches ** N)\n",
    "- All subsets problem involve recursion trying all combinations: Pick, no pick\n",
    "- For problems where there is an infinite supply, take would increase total but remain at the same index.\n",
    "- For problems involving counts, we try all possb combinations and base case would either return 1 or 0."
   ]
  },
  {
   "cell_type": "markdown",
   "id": "457ab51f",
   "metadata": {
    "papermill": {
     "duration": 0.016505,
     "end_time": "2024-05-18T13:43:57.201605",
     "exception": false,
     "start_time": "2024-05-18T13:43:57.185100",
     "status": "completed"
    },
    "tags": []
   },
   "source": [
    "### Some important imports"
   ]
  },
  {
   "cell_type": "code",
   "execution_count": 1,
   "id": "164d751b",
   "metadata": {
    "execution": {
     "iopub.execute_input": "2024-05-18T13:43:57.235224Z",
     "iopub.status.busy": "2024-05-18T13:43:57.234878Z",
     "iopub.status.idle": "2024-05-18T13:43:57.240485Z",
     "shell.execute_reply": "2024-05-18T13:43:57.240025Z"
    },
    "lines_to_next_cell": 1,
    "papermill": {
     "duration": 0.02378,
     "end_time": "2024-05-18T13:43:57.241587",
     "exception": false,
     "start_time": "2024-05-18T13:43:57.217807",
     "status": "completed"
    },
    "tags": []
   },
   "outputs": [],
   "source": [
    "import functools\n",
    "import itertools\n",
    "import collections\n",
    "import math\n",
    "import heapq"
   ]
  },
  {
   "cell_type": "markdown",
   "id": "48648354",
   "metadata": {
    "papermill": {
     "duration": 0.016366,
     "end_time": "2024-05-18T13:43:57.274427",
     "exception": false,
     "start_time": "2024-05-18T13:43:57.258061",
     "status": "completed"
    },
    "tags": []
   },
   "source": [
    "Introduction to DP: https://youtu.be/tyB0ztf0DNY?si=SgpBwGNqPXzdPSRA\n",
    "1. Tabulation: Bottom up DP: Ans -> Base case -> Ans\n",
    "2. Memoization: Top down DP: Base case -> Ans"
   ]
  },
  {
   "cell_type": "code",
   "execution_count": 2,
   "id": "41c46591",
   "metadata": {
    "execution": {
     "iopub.execute_input": "2024-05-18T13:43:57.308160Z",
     "iopub.status.busy": "2024-05-18T13:43:57.307734Z",
     "iopub.status.idle": "2024-05-18T13:43:57.313735Z",
     "shell.execute_reply": "2024-05-18T13:43:57.313286Z"
    },
    "lines_to_next_cell": 1,
    "papermill": {
     "duration": 0.023978,
     "end_time": "2024-05-18T13:43:57.314786",
     "exception": false,
     "start_time": "2024-05-18T13:43:57.290808",
     "status": "completed"
    },
    "tags": []
   },
   "outputs": [
    {
     "data": {
      "text/plain": [
       "55"
      ]
     },
     "execution_count": 2,
     "metadata": {},
     "output_type": "execute_result"
    }
   ],
   "source": [
    "def fiboBrute(n: int) -> int:\n",
    "    \"\"\"\n",
    "    Vanilla recursion\n",
    "    Time: O(2 ^ N), Space: O(2 ^ N)\n",
    "    \"\"\"\n",
    "    if n <= 1:\n",
    "        return n\n",
    "    else:\n",
    "        return fiboBrute(n - 1) + fiboBrute(n - 2)\n",
    "\n",
    "fiboBrute(10)"
   ]
  },
  {
   "cell_type": "code",
   "execution_count": 3,
   "id": "83ba7cd5",
   "metadata": {
    "execution": {
     "iopub.execute_input": "2024-05-18T13:43:57.348427Z",
     "iopub.status.busy": "2024-05-18T13:43:57.348268Z",
     "iopub.status.idle": "2024-05-18T13:43:57.353494Z",
     "shell.execute_reply": "2024-05-18T13:43:57.353014Z"
    },
    "lines_to_next_cell": 1,
    "papermill": {
     "duration": 0.023256,
     "end_time": "2024-05-18T13:43:57.354560",
     "exception": false,
     "start_time": "2024-05-18T13:43:57.331304",
     "status": "completed"
    },
    "tags": []
   },
   "outputs": [
    {
     "data": {
      "text/plain": [
       "55"
      ]
     },
     "execution_count": 3,
     "metadata": {},
     "output_type": "execute_result"
    }
   ],
   "source": [
    "def fiboBetter1(n: int) -> int:\n",
    "    \"\"\"\n",
    "    Memoization Approach: Top down approach\n",
    "    Time: O(N), Space: O(N) + O(N)\n",
    "    \"\"\"\n",
    "    dp: list[int] = [-1 for i in range(n + 1)]\n",
    "    def backtrack(curr: int) -> int:\n",
    "        if curr <= 1:\n",
    "            return curr\n",
    "        elif dp[curr] != -1:\n",
    "            return dp[curr]\n",
    "        else:\n",
    "            dp[curr] = backtrack(curr - 1) + backtrack(curr - 2)\n",
    "            return dp[curr]\n",
    "\n",
    "    return backtrack(n)\n",
    "\n",
    "fiboBetter1(10)"
   ]
  },
  {
   "cell_type": "code",
   "execution_count": 4,
   "id": "80fded7e",
   "metadata": {
    "execution": {
     "iopub.execute_input": "2024-05-18T13:43:57.388768Z",
     "iopub.status.busy": "2024-05-18T13:43:57.388326Z",
     "iopub.status.idle": "2024-05-18T13:43:57.392936Z",
     "shell.execute_reply": "2024-05-18T13:43:57.392507Z"
    },
    "lines_to_next_cell": 1,
    "papermill": {
     "duration": 0.022744,
     "end_time": "2024-05-18T13:43:57.393979",
     "exception": false,
     "start_time": "2024-05-18T13:43:57.371235",
     "status": "completed"
    },
    "tags": []
   },
   "outputs": [
    {
     "data": {
      "text/plain": [
       "55"
      ]
     },
     "execution_count": 4,
     "metadata": {},
     "output_type": "execute_result"
    }
   ],
   "source": [
    "def fiboBetter2(n: int) -> int:\n",
    "    \"\"\"\n",
    "    Tabulation: Bottom up approach\n",
    "    Time: O(N), Space: O(N)\n",
    "    \"\"\"\n",
    "    dp: list[int] = [-1 if i > 1 else i for i in range(n + 1)]\n",
    "    for i in range(2, n + 1):\n",
    "        dp[i] = dp[i - 1] + dp[i - 2]\n",
    "\n",
    "    return dp[n]\n",
    "\n",
    "fiboBetter2(10)"
   ]
  },
  {
   "cell_type": "code",
   "execution_count": 5,
   "id": "8f7d86e2",
   "metadata": {
    "execution": {
     "iopub.execute_input": "2024-05-18T13:43:57.428442Z",
     "iopub.status.busy": "2024-05-18T13:43:57.428032Z",
     "iopub.status.idle": "2024-05-18T13:43:57.432329Z",
     "shell.execute_reply": "2024-05-18T13:43:57.431826Z"
    },
    "lines_to_next_cell": 1,
    "papermill": {
     "duration": 0.022615,
     "end_time": "2024-05-18T13:43:57.433368",
     "exception": false,
     "start_time": "2024-05-18T13:43:57.410753",
     "status": "completed"
    },
    "tags": []
   },
   "outputs": [
    {
     "data": {
      "text/plain": [
       "55"
      ]
     },
     "execution_count": 5,
     "metadata": {},
     "output_type": "execute_result"
    }
   ],
   "source": [
    "def fiboOptimal(n: int) -> int:\n",
    "    \"\"\"\n",
    "    Bottom up approach\n",
    "    Time: O(N), Space: O(1)\n",
    "    \"\"\"\n",
    "    prev2, prev1 = 0, 1\n",
    "    for i in range(2, n + 1):\n",
    "        prev2, prev1 = prev1, prev1 + prev2\n",
    "        n -= 1\n",
    "\n",
    "    return prev1\n",
    "\n",
    "fiboOptimal(10)"
   ]
  },
  {
   "cell_type": "markdown",
   "id": "855c35fb",
   "metadata": {
    "papermill": {
     "duration": 0.016546,
     "end_time": "2024-05-18T13:43:57.466594",
     "exception": false,
     "start_time": "2024-05-18T13:43:57.450048",
     "status": "completed"
    },
    "tags": []
   },
   "source": [
    "Climbing Stairs: https://leetcode.com/problems/climbing-stairs/\n",
    "Video Link: https://youtu.be/mLfjzJsN8us?si=C7W-jiYvql0mEnbh"
   ]
  },
  {
   "cell_type": "code",
   "execution_count": 6,
   "id": "87993489",
   "metadata": {
    "execution": {
     "iopub.execute_input": "2024-05-18T13:43:57.516213Z",
     "iopub.status.busy": "2024-05-18T13:43:57.515797Z",
     "iopub.status.idle": "2024-05-18T13:43:57.519887Z",
     "shell.execute_reply": "2024-05-18T13:43:57.519461Z"
    },
    "lines_to_next_cell": 1,
    "papermill": {
     "duration": 0.03763,
     "end_time": "2024-05-18T13:43:57.520932",
     "exception": false,
     "start_time": "2024-05-18T13:43:57.483302",
     "status": "completed"
    },
    "tags": []
   },
   "outputs": [],
   "source": [
    "def climbStairsBetter(n: int) -> int:\n",
    "    \"\"\"Time: O(N), Space: O(N)\"\"\"\n",
    "\n",
    "    dp: list[int] = [-1 for i in range(n + 1)]\n",
    "    def backtrack(curr: int) -> int:\n",
    "        if curr <= 1:\n",
    "            return 1\n",
    "        elif dp[curr] != -1:\n",
    "            return dp[curr]\n",
    "        else:\n",
    "            dp[curr] = backtrack(curr - 1) + backtrack(curr - 2)\n",
    "            return dp[curr]\n",
    "\n",
    "    return backtrack(n)\n",
    "\n",
    "assert climbStairsBetter(45) == 1836311903"
   ]
  },
  {
   "cell_type": "code",
   "execution_count": 7,
   "id": "2dc15ac3",
   "metadata": {
    "execution": {
     "iopub.execute_input": "2024-05-18T13:43:57.555334Z",
     "iopub.status.busy": "2024-05-18T13:43:57.554925Z",
     "iopub.status.idle": "2024-05-18T13:43:57.558048Z",
     "shell.execute_reply": "2024-05-18T13:43:57.557606Z"
    },
    "lines_to_next_cell": 1,
    "papermill": {
     "duration": 0.021345,
     "end_time": "2024-05-18T13:43:57.559112",
     "exception": false,
     "start_time": "2024-05-18T13:43:57.537767",
     "status": "completed"
    },
    "tags": []
   },
   "outputs": [],
   "source": [
    "def climbStairs(n: int) -> int:\n",
    "    \"\"\"Time: O(N), Space: O(1)\"\"\"\n",
    "    prev2, prev1 = 1, 1\n",
    "    while n > 0:\n",
    "        prev2, prev1 = prev1, prev1 + prev2\n",
    "        n -= 1\n",
    "\n",
    "    return prev2\n",
    "\n",
    "assert climbStairs(45) == 1836311903"
   ]
  },
  {
   "cell_type": "markdown",
   "id": "3cd4d88c",
   "metadata": {
    "papermill": {
     "duration": 0.0165,
     "end_time": "2024-05-18T13:43:57.592476",
     "exception": false,
     "start_time": "2024-05-18T13:43:57.575976",
     "status": "completed"
    },
    "tags": []
   },
   "source": [
    "Video link: https://youtu.be/EgG3jsGoPvQ?si=Cm5AVvq_zCnr-w6q\n",
    "Frog Jump: 1"
   ]
  },
  {
   "cell_type": "code",
   "execution_count": 8,
   "id": "59c27b1e",
   "metadata": {
    "execution": {
     "iopub.execute_input": "2024-05-18T13:43:57.626369Z",
     "iopub.status.busy": "2024-05-18T13:43:57.626003Z",
     "iopub.status.idle": "2024-05-18T13:43:57.630706Z",
     "shell.execute_reply": "2024-05-18T13:43:57.630258Z"
    },
    "lines_to_next_cell": 1,
    "papermill": {
     "duration": 0.022785,
     "end_time": "2024-05-18T13:43:57.631721",
     "exception": false,
     "start_time": "2024-05-18T13:43:57.608936",
     "status": "completed"
    },
    "tags": []
   },
   "outputs": [],
   "source": [
    "def frogJumpBetter(N: int, heights: list[int]) -> int:\n",
    "    \"\"\"\n",
    "    Time: O(N), Space: O(N) + O(N)\n",
    "    \"\"\"\n",
    "\n",
    "    @functools.cache\n",
    "    def backtrack(curr: int) -> int:\n",
    "        if curr == N - 1:\n",
    "            return 0\n",
    "        elif curr == N - 2:\n",
    "            return abs(heights[N - 1] - heights[N - 2])\n",
    "        else:\n",
    "            jump1 = abs(heights[curr] - heights[curr + 1]) + backtrack(curr + 1)\n",
    "            jump2 = abs(heights[curr] - heights[curr + 2]) + backtrack(curr + 2)\n",
    "            return min(jump1, jump2)\n",
    "\n",
    "    return backtrack(0)\n",
    "\n",
    "# Testing the solution\n",
    "assert frogJumpBetter(4, [10,20,30,10]) == 20\n",
    "assert frogJumpBetter(3, [10,50,10]) == 0"
   ]
  },
  {
   "cell_type": "code",
   "execution_count": 9,
   "id": "2bc52e04",
   "metadata": {
    "execution": {
     "iopub.execute_input": "2024-05-18T13:43:57.666089Z",
     "iopub.status.busy": "2024-05-18T13:43:57.665714Z",
     "iopub.status.idle": "2024-05-18T13:43:57.670015Z",
     "shell.execute_reply": "2024-05-18T13:43:57.669559Z"
    },
    "lines_to_next_cell": 1,
    "papermill": {
     "duration": 0.022478,
     "end_time": "2024-05-18T13:43:57.671057",
     "exception": false,
     "start_time": "2024-05-18T13:43:57.648579",
     "status": "completed"
    },
    "tags": []
   },
   "outputs": [],
   "source": [
    "def frogJumpOptimal(N: int, heights: list[int]) -> int:\n",
    "    \"Time: O(N), Space: O(1)\"\n",
    "    jump1, jump2 = abs(heights[-2] - heights[-1]), 0\n",
    "    for i in range(N - 3, -1, -1):\n",
    "        curr = min(abs(heights[i] - heights[i + 1]) + jump1, abs(heights[i] - heights[i + 2]) + jump2)\n",
    "        jump1, jump2 = curr, jump1\n",
    "\n",
    "    return jump1\n",
    "\n",
    "assert frogJumpOptimal(4, [10,20,30,10]) == 20\n",
    "assert frogJumpOptimal(3, [10,50,10]) == 0"
   ]
  },
  {
   "cell_type": "markdown",
   "id": "4fa38d19",
   "metadata": {
    "papermill": {
     "duration": 0.016483,
     "end_time": "2024-05-18T13:43:57.704215",
     "exception": false,
     "start_time": "2024-05-18T13:43:57.687732",
     "status": "completed"
    },
    "tags": []
   },
   "source": [
    "Video Link: https://youtu.be/Kmh3rhyEtB8?si=rqZ5-pJcjIzWU5i8\n",
    "Frog Jump with K distance"
   ]
  },
  {
   "cell_type": "code",
   "execution_count": 10,
   "id": "f21ca119",
   "metadata": {
    "execution": {
     "iopub.execute_input": "2024-05-18T13:43:57.738356Z",
     "iopub.status.busy": "2024-05-18T13:43:57.737975Z",
     "iopub.status.idle": "2024-05-18T13:43:57.742705Z",
     "shell.execute_reply": "2024-05-18T13:43:57.742189Z"
    },
    "lines_to_next_cell": 1,
    "papermill": {
     "duration": 0.022994,
     "end_time": "2024-05-18T13:43:57.743787",
     "exception": false,
     "start_time": "2024-05-18T13:43:57.720793",
     "status": "completed"
    },
    "tags": []
   },
   "outputs": [],
   "source": [
    "def frogJumpAtKDistBetter1(N: int, K: int, heights: list[int]) -> int:\n",
    "    \"\"\"\n",
    "    Memoization Approach: Top Down Approach\n",
    "    Time: O(N x K), Space: O(N) + O(N)\n",
    "    \"\"\"\n",
    "\n",
    "    @functools.cache\n",
    "    def backtrack(curr: int) -> int:\n",
    "        if curr >= N - 1:\n",
    "            return 0\n",
    "        else:\n",
    "            minCost = math.inf\n",
    "            for next_ in range(curr + 1, min(N, curr + K + 1)):\n",
    "                cost = abs(heights[curr] - heights[next_]) + backtrack(next_)\n",
    "                minCost = min(minCost, cost)\n",
    "\n",
    "            return int(minCost)\n",
    "\n",
    "    return backtrack(0)\n",
    "\n",
    "# Testing the solution\n",
    "assert frogJumpAtKDistBetter1(5, 3, [10,30,40,50,20]) == 30\n",
    "assert frogJumpAtKDistBetter1(3, 1, [10,20,10]) == 20"
   ]
  },
  {
   "cell_type": "code",
   "execution_count": 11,
   "id": "1b9a86c0",
   "metadata": {
    "execution": {
     "iopub.execute_input": "2024-05-18T13:43:57.777929Z",
     "iopub.status.busy": "2024-05-18T13:43:57.777604Z",
     "iopub.status.idle": "2024-05-18T13:43:57.782281Z",
     "shell.execute_reply": "2024-05-18T13:43:57.781757Z"
    },
    "lines_to_next_cell": 1,
    "papermill": {
     "duration": 0.022962,
     "end_time": "2024-05-18T13:43:57.783446",
     "exception": false,
     "start_time": "2024-05-18T13:43:57.760484",
     "status": "completed"
    },
    "tags": []
   },
   "outputs": [],
   "source": [
    "def frogJumpAtKDistBetter2(N: int, K: int, heights: list[int]) -> int:\n",
    "    \"\"\"\n",
    "    Tabulation: Bottom up approach\n",
    "    Time: O(N x K), Space: O(N)\n",
    "    \"\"\"\n",
    "\n",
    "    dp: list[int] = [-1 for i in range(N)]\n",
    "    dp[-1] = 0\n",
    "\n",
    "    for curr in range(N - 2, -1, -1):\n",
    "        minCost = math.inf\n",
    "        for next_ in range(curr + 1, min(N, curr + K + 1)):\n",
    "            cost = abs(heights[curr] - heights[next_]) + dp[next_]\n",
    "            minCost = min(minCost, cost)\n",
    "        dp[curr] = int(minCost)\n",
    "\n",
    "    return dp[0]\n",
    "\n",
    "# Testing the solution\n",
    "assert frogJumpAtKDistBetter2(5, 3, [10,30,40,50,20]) == 30\n",
    "assert frogJumpAtKDistBetter2(3, 1, [10,20,10]) == 20"
   ]
  },
  {
   "cell_type": "code",
   "execution_count": 12,
   "id": "09ca5d18",
   "metadata": {
    "execution": {
     "iopub.execute_input": "2024-05-18T13:43:57.817972Z",
     "iopub.status.busy": "2024-05-18T13:43:57.817803Z",
     "iopub.status.idle": "2024-05-18T13:43:57.822711Z",
     "shell.execute_reply": "2024-05-18T13:43:57.822263Z"
    },
    "lines_to_next_cell": 1,
    "papermill": {
     "duration": 0.023293,
     "end_time": "2024-05-18T13:43:57.823747",
     "exception": false,
     "start_time": "2024-05-18T13:43:57.800454",
     "status": "completed"
    },
    "tags": []
   },
   "outputs": [],
   "source": [
    "def frogJumpAtKDist(N: int, K: int, heights: list[int]) -> int:\n",
    "    \"\"\"\n",
    "    Tabulation: Bottom up approach\n",
    "    Time: O(N x K), Space: O(K)\n",
    "    \"\"\"\n",
    "\n",
    "    dp: collections.deque[int] = collections.deque([0])\n",
    "    for curr in range(N - 2, -1, -1):\n",
    "        minCost = math.inf\n",
    "        for jump in range(1, min(N - curr, K + 1)):\n",
    "            next_ = curr + jump\n",
    "            cost = abs(heights[curr] - heights[next_]) + dp[jump - 1]\n",
    "            minCost = min(minCost, cost)\n",
    "\n",
    "        dp.appendleft(int(minCost))\n",
    "        if len(dp) > K:\n",
    "            dp.pop()\n",
    "\n",
    "    return dp[0]\n",
    "\n",
    "# Testing the solution\n",
    "assert frogJumpAtKDist(5, 3, [10,30,40,50,20]) == 30\n",
    "assert frogJumpAtKDist(3, 1, [10,20,10]) == 20"
   ]
  },
  {
   "cell_type": "markdown",
   "id": "259d53f8",
   "metadata": {
    "papermill": {
     "duration": 0.016657,
     "end_time": "2024-05-18T13:43:57.857233",
     "exception": false,
     "start_time": "2024-05-18T13:43:57.840576",
     "status": "completed"
    },
    "tags": []
   },
   "source": [
    "Maximum sum of Non Adjacent Elements: House Robber\n",
    "Video Link: https://youtu.be/GrMBfJNk_NY?si=IPuGJglc0axETveU"
   ]
  },
  {
   "cell_type": "code",
   "execution_count": 13,
   "id": "89d8dea7",
   "metadata": {
    "execution": {
     "iopub.execute_input": "2024-05-18T13:43:57.891639Z",
     "iopub.status.busy": "2024-05-18T13:43:57.891210Z",
     "iopub.status.idle": "2024-05-18T13:43:57.895185Z",
     "shell.execute_reply": "2024-05-18T13:43:57.894733Z"
    },
    "lines_to_next_cell": 1,
    "papermill": {
     "duration": 0.022315,
     "end_time": "2024-05-18T13:43:57.896239",
     "exception": false,
     "start_time": "2024-05-18T13:43:57.873924",
     "status": "completed"
    },
    "tags": []
   },
   "outputs": [],
   "source": [
    "def robMemo(nums: list[int]) -> int:\n",
    "    \"\"\"\n",
    "    Memoization: Top down approach\n",
    "    Time: O(N), Space: O(N)\n",
    "    \"\"\"\n",
    "\n",
    "    @functools.cache\n",
    "    def backtrack(curr: int) -> int:\n",
    "        if curr >= N:\n",
    "            return 0\n",
    "        else:\n",
    "            return max(backtrack(curr + 1), nums[curr] + backtrack(curr + 2))\n",
    "\n",
    "    N = len(nums)\n",
    "    return backtrack(0)\n",
    "\n",
    "# Testing the solution\n",
    "assert robMemo([2,7,9,3,1]) == 12"
   ]
  },
  {
   "cell_type": "code",
   "execution_count": 14,
   "id": "e69063ac",
   "metadata": {
    "execution": {
     "iopub.execute_input": "2024-05-18T13:43:57.930531Z",
     "iopub.status.busy": "2024-05-18T13:43:57.930101Z",
     "iopub.status.idle": "2024-05-18T13:43:57.934065Z",
     "shell.execute_reply": "2024-05-18T13:43:57.933538Z"
    },
    "lines_to_next_cell": 1,
    "papermill": {
     "duration": 0.02213,
     "end_time": "2024-05-18T13:43:57.935195",
     "exception": false,
     "start_time": "2024-05-18T13:43:57.913065",
     "status": "completed"
    },
    "tags": []
   },
   "outputs": [],
   "source": [
    "def robTab(nums: list[int]) -> int:\n",
    "    \"\"\"\n",
    "    Tabulation: Bottom up approach\n",
    "    Time: O(N), Space: O(N)\n",
    "    \"\"\"\n",
    "    N = len(nums)\n",
    "    dp: list[int] = [-1 for i in range(N + 1)]\n",
    "    dp[-1], dp[-2] = 0, nums[-1]\n",
    "    for curr in range(N - 2, -1, -1):\n",
    "        dp[curr] = max(nums[curr] + dp[curr + 2], dp[curr + 1])\n",
    "\n",
    "    return dp[0]\n",
    "\n",
    "# Testing the solution\n",
    "assert robTab([2,7,9,3,1]) == 12"
   ]
  },
  {
   "cell_type": "code",
   "execution_count": 15,
   "id": "d3ac1b1c",
   "metadata": {
    "execution": {
     "iopub.execute_input": "2024-05-18T13:43:57.969818Z",
     "iopub.status.busy": "2024-05-18T13:43:57.969424Z",
     "iopub.status.idle": "2024-05-18T13:43:57.972855Z",
     "shell.execute_reply": "2024-05-18T13:43:57.972345Z"
    },
    "lines_to_next_cell": 1,
    "papermill": {
     "duration": 0.021824,
     "end_time": "2024-05-18T13:43:57.973879",
     "exception": false,
     "start_time": "2024-05-18T13:43:57.952055",
     "status": "completed"
    },
    "tags": []
   },
   "outputs": [],
   "source": [
    "# https://leetcode.com/problems/house-robber/submissions/1249841355/\n",
    "def robSpaceOptimized(nums: list[int]) -> int:\n",
    "    \"Time: O(N), Space: O(1)\"\n",
    "    next1 = next2 = 0\n",
    "    for curr in range(len(nums) - 1, -1, -1):\n",
    "        next1, next2 = max(nums[curr] + next2, next1), next1\n",
    "\n",
    "    return next1\n",
    "\n",
    "assert robSpaceOptimized([2,7,9,3,1]) == 12"
   ]
  },
  {
   "cell_type": "markdown",
   "id": "630eec21",
   "metadata": {
    "papermill": {
     "duration": 0.016653,
     "end_time": "2024-05-18T13:43:58.007320",
     "exception": false,
     "start_time": "2024-05-18T13:43:57.990667",
     "status": "completed"
    },
    "tags": []
   },
   "source": [
    "House Robber 2: https://youtu.be/3WaxQMELSkw?si=i9oGKnDJGJxvUjbu\n",
    "https://leetcode.com/problems/house-robber-ii/submissions/1249888930"
   ]
  },
  {
   "cell_type": "code",
   "execution_count": 16,
   "id": "3ee7a5cf",
   "metadata": {
    "execution": {
     "iopub.execute_input": "2024-05-18T13:43:58.041449Z",
     "iopub.status.busy": "2024-05-18T13:43:58.041103Z",
     "iopub.status.idle": "2024-05-18T13:43:58.045148Z",
     "shell.execute_reply": "2024-05-18T13:43:58.044714Z"
    },
    "lines_to_next_cell": 1,
    "papermill": {
     "duration": 0.022187,
     "end_time": "2024-05-18T13:43:58.046168",
     "exception": false,
     "start_time": "2024-05-18T13:43:58.023981",
     "status": "completed"
    },
    "tags": []
   },
   "outputs": [],
   "source": [
    "def rob2(nums: list[int]) -> int:\n",
    "    \"\"\"\n",
    "    Ans cannot contain both the first and the last house.\n",
    "    It can contain either the first or the last house.\n",
    "    \"\"\"\n",
    "    def rob(arr: list[int]) -> int:\n",
    "        next1 = next2 = 0\n",
    "        for curr in range(len(arr) - 1, -1, -1):\n",
    "            next1, next2 = max(arr[curr] + next2, next1), next1\n",
    "\n",
    "        return next1\n",
    "\n",
    "    return max(rob(nums[1:]), rob(nums[:-1])) if len(nums) > 1 else sum(nums)\n",
    "\n",
    "# Testing the solution\n",
    "assert rob2([1,2,3,1]) == 4\n",
    "assert rob2([]) == 0"
   ]
  },
  {
   "cell_type": "markdown",
   "id": "52745498",
   "metadata": {
    "papermill": {
     "duration": 0.016576,
     "end_time": "2024-05-18T13:43:58.079479",
     "exception": false,
     "start_time": "2024-05-18T13:43:58.062903",
     "status": "completed"
    },
    "tags": []
   },
   "source": [
    "Ninja's Training: https://youtu.be/AE39gJYuRog?si=n4BhCotno-9chP5j"
   ]
  },
  {
   "cell_type": "code",
   "execution_count": 17,
   "id": "c814dc79",
   "metadata": {
    "execution": {
     "iopub.execute_input": "2024-05-18T13:43:58.114089Z",
     "iopub.status.busy": "2024-05-18T13:43:58.113604Z",
     "iopub.status.idle": "2024-05-18T13:43:58.118794Z",
     "shell.execute_reply": "2024-05-18T13:43:58.118363Z"
    },
    "lines_to_next_cell": 1,
    "papermill": {
     "duration": 0.023599,
     "end_time": "2024-05-18T13:43:58.119857",
     "exception": false,
     "start_time": "2024-05-18T13:43:58.096258",
     "status": "completed"
    },
    "tags": []
   },
   "outputs": [],
   "source": [
    "def ninjaTrainingBetter(N: int, points: list[list[int]]) -> int:\n",
    "    \"\"\"\n",
    "    Memoization: Top down approach\n",
    "\n",
    "    Time: O(N), Space: O(N) + O(N)\n",
    "    \"\"\"\n",
    "\n",
    "    @functools.cache\n",
    "    def backtrack(i: int, j: int) -> int:\n",
    "        if i == N:\n",
    "            return 0\n",
    "        else:\n",
    "            max_ = -math.inf\n",
    "            for k in range(3):\n",
    "                if k != j:\n",
    "                    max_ = max(max_, points[i][k] + backtrack(i + 1, k))\n",
    "\n",
    "            return int(max_)\n",
    "\n",
    "    return backtrack(0, -1)\n",
    "\n",
    "# Testing the solution\n",
    "assert ninjaTrainingBetter(3, [[10,40,70], [20,50,80], [30,60,90]]) == 210\n",
    "assert ninjaTrainingBetter(3, [[1,2,5], [3,1,1], [3,3,3]]) == 11\n",
    "assert ninjaTrainingBetter(2, [[10,50,1], [5,100,11]]) == 110"
   ]
  },
  {
   "cell_type": "code",
   "execution_count": 18,
   "id": "015e9458",
   "metadata": {
    "execution": {
     "iopub.execute_input": "2024-05-18T13:43:58.154170Z",
     "iopub.status.busy": "2024-05-18T13:43:58.153750Z",
     "iopub.status.idle": "2024-05-18T13:43:58.158934Z",
     "shell.execute_reply": "2024-05-18T13:43:58.158513Z"
    },
    "lines_to_next_cell": 1,
    "papermill": {
     "duration": 0.023285,
     "end_time": "2024-05-18T13:43:58.159968",
     "exception": false,
     "start_time": "2024-05-18T13:43:58.136683",
     "status": "completed"
    },
    "tags": []
   },
   "outputs": [],
   "source": [
    "def ninjaTraining(N: int, points: list[list[int]]) -> int:\n",
    "    \"\"\"\n",
    "    Space optimized Tabulation DP: Bottom up\n",
    "\n",
    "    Start at the last day.\n",
    "    At each day we sum up corresponding values with the values in DP and assign them to DP.\n",
    "    Before moving the prev day, to the DP perform this op -> dp[i] = max(dp[j]) where j != i\n",
    "\n",
    "    At the end of the iteration simply return max of DP.\n",
    "\n",
    "    Time: O(N), Space: O(1)\n",
    "    \"\"\"\n",
    "\n",
    "    dp: list[int] = [0, 0, 0]\n",
    "    for i in range(N - 1, -1, -1):\n",
    "        for j in range(3):\n",
    "            dp[j] += points[i][j]\n",
    "\n",
    "        next_dp: list[int] = []\n",
    "        for j in range(3):\n",
    "            next_dp.append(max(dp[k] for k in range(3) if k != j))\n",
    "\n",
    "        dp = next_dp\n",
    "\n",
    "    return max(dp)\n",
    "\n",
    "# Testing the solution\n",
    "assert ninjaTraining(3, [[10,40,70], [20,50,80], [30,60,90]]) == 210\n",
    "assert ninjaTraining(3, [[1,2,5], [3,1,1], [3,3,3]]) == 11\n",
    "assert ninjaTraining(2, [[10,50,1], [5,100,11]]) == 110"
   ]
  },
  {
   "cell_type": "markdown",
   "id": "d132fa58",
   "metadata": {
    "papermill": {
     "duration": 0.016576,
     "end_time": "2024-05-18T13:43:58.193338",
     "exception": false,
     "start_time": "2024-05-18T13:43:58.176762",
     "status": "completed"
    },
    "tags": []
   },
   "source": [
    "Unique 2D paths: https://youtu.be/sdE0A2Oxofw?si=g1FpuSIYx0x95G-7\n",
    "https://leetcode.com/problems/unique-paths/"
   ]
  },
  {
   "cell_type": "code",
   "execution_count": 19,
   "id": "d035c9d7",
   "metadata": {
    "execution": {
     "iopub.execute_input": "2024-05-18T13:43:58.227471Z",
     "iopub.status.busy": "2024-05-18T13:43:58.227154Z",
     "iopub.status.idle": "2024-05-18T13:43:58.231253Z",
     "shell.execute_reply": "2024-05-18T13:43:58.230816Z"
    },
    "lines_to_next_cell": 1,
    "papermill": {
     "duration": 0.022409,
     "end_time": "2024-05-18T13:43:58.232268",
     "exception": false,
     "start_time": "2024-05-18T13:43:58.209859",
     "status": "completed"
    },
    "tags": []
   },
   "outputs": [],
   "source": [
    "def uniquePathsMemo(m: int, n: int) -> int:\n",
    "    \"\"\"\n",
    "    Memoization Solution: Top Down\n",
    "    Time: O(m x n), Space: O(m x n) + O(m x n)\n",
    "    \"\"\"\n",
    "    @functools.cache\n",
    "    def backtrack(i: int, j: int) -> int:\n",
    "        if i == m - 1 and j == n - 1:\n",
    "            return 1\n",
    "        elif i >= m or j >= n:\n",
    "            return 0\n",
    "        else:\n",
    "            return backtrack(i + 1, j) + backtrack(i, j + 1)\n",
    "\n",
    "    return backtrack(0, 0)\n",
    "\n",
    "# Testing the solution\n",
    "assert uniquePathsMemo(3, 7) == 28\n",
    "assert uniquePathsMemo(3, 2) == 3"
   ]
  },
  {
   "cell_type": "code",
   "execution_count": 20,
   "id": "c3fb756d",
   "metadata": {
    "execution": {
     "iopub.execute_input": "2024-05-18T13:43:58.267349Z",
     "iopub.status.busy": "2024-05-18T13:43:58.266901Z",
     "iopub.status.idle": "2024-05-18T13:43:58.270974Z",
     "shell.execute_reply": "2024-05-18T13:43:58.270561Z"
    },
    "lines_to_next_cell": 1,
    "papermill": {
     "duration": 0.022719,
     "end_time": "2024-05-18T13:43:58.272021",
     "exception": false,
     "start_time": "2024-05-18T13:43:58.249302",
     "status": "completed"
    },
    "tags": []
   },
   "outputs": [],
   "source": [
    "# https://leetcode.com/problems/unique-paths/submissions/1250526713\n",
    "def uniquePathsTab(m: int, n: int) -> int:\n",
    "    \"Time: O(m x n), Space: O(min(m, n))\"\n",
    "    M, N = min(m, n), max(m, n)\n",
    "    dp: list[int] = [1 for i in range(M)]\n",
    "\n",
    "    for i in range(N - 1):\n",
    "        for j in range(M - 2, -1, -1):\n",
    "            dp[j] += dp[j + 1]\n",
    "\n",
    "    return dp[0]\n",
    "\n",
    "# Testing the solution\n",
    "assert uniquePathsTab(3, 7) == 28\n",
    "assert uniquePathsTab(3, 2) == 3"
   ]
  },
  {
   "cell_type": "markdown",
   "id": "bb22f54a",
   "metadata": {
    "papermill": {
     "duration": 0.01649,
     "end_time": "2024-05-18T13:43:58.305159",
     "exception": false,
     "start_time": "2024-05-18T13:43:58.288669",
     "status": "completed"
    },
    "tags": []
   },
   "source": [
    "Video link: https://youtu.be/TmhpgXScLyY?si=M_FfFKRqRTXid4Jj\n",
    "Unique Paths - ii: https://leetcode.com/problems/unique-paths-ii/submissions/1250615914"
   ]
  },
  {
   "cell_type": "code",
   "execution_count": 21,
   "id": "f59a530c",
   "metadata": {
    "execution": {
     "iopub.execute_input": "2024-05-18T13:43:58.339549Z",
     "iopub.status.busy": "2024-05-18T13:43:58.339096Z",
     "iopub.status.idle": "2024-05-18T13:43:58.343960Z",
     "shell.execute_reply": "2024-05-18T13:43:58.343443Z"
    },
    "lines_to_next_cell": 1,
    "papermill": {
     "duration": 0.023137,
     "end_time": "2024-05-18T13:43:58.345033",
     "exception": false,
     "start_time": "2024-05-18T13:43:58.321896",
     "status": "completed"
    },
    "tags": []
   },
   "outputs": [],
   "source": [
    "def uniquePathsWithObstacles(obstacleGrid: list[list[int]]) -> int:\n",
    "    \"Time: O(M x N), Space: O(N)\"\n",
    "    M, N = len(obstacleGrid), len(obstacleGrid[0])\n",
    "\n",
    "    dp: list[int] = [0 for j in range(N)]\n",
    "    dp[-1] = 1\n",
    "\n",
    "    for i in range(M - 1, -1, -1):\n",
    "        for j in range(N - 1, -1, -1):\n",
    "            if obstacleGrid[i][j] == 0:\n",
    "                dp[j] = dp[j] + dp[j + 1] if j < N - 1 else dp[j]\n",
    "            else:\n",
    "                dp[j] = 0\n",
    "\n",
    "    return dp[0]\n",
    "\n",
    "# Testing the solution\n",
    "assert uniquePathsWithObstacles([[0,0,0],[0,1,0],[0,0,0]]) == 2\n",
    "assert uniquePathsWithObstacles([[0,1],[0,0]]) == 1\n",
    "assert uniquePathsWithObstacles([[1]]) == 0"
   ]
  },
  {
   "cell_type": "markdown",
   "id": "93e28e9b",
   "metadata": {
    "papermill": {
     "duration": 0.016482,
     "end_time": "2024-05-18T13:43:58.378206",
     "exception": false,
     "start_time": "2024-05-18T13:43:58.361724",
     "status": "completed"
    },
    "tags": []
   },
   "source": [
    "Minimum Path Sum: https://youtu.be/_rgTlyky1uQ?si=3xJY7MmVg5tTEW5Q\n",
    "https://leetcode.com/problems/minimum-path-sum/submissions/1250633614"
   ]
  },
  {
   "cell_type": "code",
   "execution_count": 22,
   "id": "c97f7ce9",
   "metadata": {
    "execution": {
     "iopub.execute_input": "2024-05-18T13:43:58.412170Z",
     "iopub.status.busy": "2024-05-18T13:43:58.411854Z",
     "iopub.status.idle": "2024-05-18T13:43:58.416451Z",
     "shell.execute_reply": "2024-05-18T13:43:58.416006Z"
    },
    "lines_to_next_cell": 1,
    "papermill": {
     "duration": 0.022746,
     "end_time": "2024-05-18T13:43:58.417502",
     "exception": false,
     "start_time": "2024-05-18T13:43:58.394756",
     "status": "completed"
    },
    "tags": []
   },
   "outputs": [],
   "source": [
    "def minPathSum(grid: list[list[int]]) -> int:\n",
    "    \"Time: O(M x N), Space: O(N)\"\n",
    "    M, N = len(grid), len(grid[0])\n",
    "\n",
    "    # Initialize DP\n",
    "    dp: list[float] = [math.inf for j in range(N)]\n",
    "    dp[-1] = 0\n",
    "\n",
    "    # DP Solution\n",
    "    for i in range(M - 1, -1, -1):\n",
    "        for j in range(N - 1, -1, -1):\n",
    "            dp[j] = grid[i][j] + (min(dp[j + 1], dp[j]) if j < N - 1 else dp[j])\n",
    "\n",
    "    return int(dp[0])\n",
    "\n",
    "# Testing the solution\n",
    "assert minPathSum([[1,3,1],[1,5,1],[4,2,1]]) == 7\n",
    "assert minPathSum([[1,2,3],[4,5,6]]) == 12"
   ]
  },
  {
   "cell_type": "markdown",
   "id": "107526ff",
   "metadata": {
    "papermill": {
     "duration": 0.016647,
     "end_time": "2024-05-18T13:43:58.451008",
     "exception": false,
     "start_time": "2024-05-18T13:43:58.434361",
     "status": "completed"
    },
    "tags": []
   },
   "source": [
    "Video Link: https://youtu.be/0bHoB32fuj0?si=5UHeArKmLvTVpbrk\n",
    "Triangle: https://leetcode.com/problems/triangle/submissions/1251774955/"
   ]
  },
  {
   "cell_type": "code",
   "execution_count": 23,
   "id": "62387041",
   "metadata": {
    "execution": {
     "iopub.execute_input": "2024-05-18T13:43:58.484961Z",
     "iopub.status.busy": "2024-05-18T13:43:58.484759Z",
     "iopub.status.idle": "2024-05-18T13:43:58.489361Z",
     "shell.execute_reply": "2024-05-18T13:43:58.488870Z"
    },
    "lines_to_next_cell": 1,
    "papermill": {
     "duration": 0.022827,
     "end_time": "2024-05-18T13:43:58.490442",
     "exception": false,
     "start_time": "2024-05-18T13:43:58.467615",
     "status": "completed"
    },
    "tags": []
   },
   "outputs": [],
   "source": [
    "def minimumTotal(triangle: list[list[int]]) -> int:\n",
    "    \"\"\"Time: O(N x N), Space: O(N)\"\"\"\n",
    "    N = len(triangle)\n",
    "    dp: list[int] = [0 for i in range(N + 1)]\n",
    "\n",
    "    while N > 0:\n",
    "        next_: list[int] = []\n",
    "        for i in range(N):\n",
    "            next_.append(min(dp[i], dp[i + 1]) + triangle[N - 1][i])\n",
    "        dp = next_\n",
    "        N -= 1\n",
    "\n",
    "    return dp[0]\n",
    "\n",
    "# Testing the solution\n",
    "assert minimumTotal([[2],[3,4],[6,5,7],[4,1,8,3]]) == 11\n",
    "assert minimumTotal([[-10]]) == -10"
   ]
  },
  {
   "cell_type": "markdown",
   "id": "51332104",
   "metadata": {
    "papermill": {
     "duration": 0.016685,
     "end_time": "2024-05-18T13:43:58.523907",
     "exception": false,
     "start_time": "2024-05-18T13:43:58.507222",
     "status": "completed"
    },
    "tags": []
   },
   "source": [
    "Video Link: https://youtu.be/N_aJ5qQbYA0?si=LTME1YI3hqtU8u8_\n",
    "Maximum Falling path sum\n",
    "We cannot apply greedy algorithms here because there is no uniformity mentioned. Uniformity implies how the numbers are distributed.\n",
    "For eg:\n",
    "```\n",
    "1   2  3    4\n",
    "10  1  100  1\n",
    "1   2  5    0\n",
    "```\n",
    "In the above example from (0, 0), if we greedily chose (1, 0) - we would miss out on 100 at (1, 2). \n",
    "If suppose we were told that the numbers were arranged in ascending or descending order we can greedily pick a path"
   ]
  },
  {
   "cell_type": "code",
   "execution_count": 24,
   "id": "4f9fb3eb",
   "metadata": {
    "execution": {
     "iopub.execute_input": "2024-05-18T13:43:58.558555Z",
     "iopub.status.busy": "2024-05-18T13:43:58.558226Z",
     "iopub.status.idle": "2024-05-18T13:43:58.563513Z",
     "shell.execute_reply": "2024-05-18T13:43:58.563004Z"
    },
    "lines_to_next_cell": 1,
    "papermill": {
     "duration": 0.023921,
     "end_time": "2024-05-18T13:43:58.564651",
     "exception": false,
     "start_time": "2024-05-18T13:43:58.540730",
     "status": "completed"
    },
    "tags": []
   },
   "outputs": [],
   "source": [
    "def getMaxPathSumBetter(matrix: list[list[int]]):\n",
    "    \"\"\"\n",
    "    With memoization:\n",
    "    Time complexity: O(3 ^ N)\n",
    "\n",
    "    Memoization Approach: Top Down\n",
    "    Time: O(N x M), Space: O(N x M) + O(N x M)\n",
    "    \"\"\"\n",
    "    M, N = len(matrix), len(matrix[0])\n",
    "\n",
    "    @functools.cache\n",
    "    def backtrack(i: int = 0, j: int = 0) -> float:\n",
    "        if i >= M:\n",
    "            return 0\n",
    "        elif j < 0 or j >= N:\n",
    "            return -math.inf\n",
    "        else:\n",
    "            return matrix[i][j] + max(backtrack(i + 1, j - 1), backtrack(i + 1, j), backtrack(i + 1, j + 1))\n",
    "\n",
    "    maxPathSum = -math.inf\n",
    "    for j in range(N):\n",
    "        maxPathSum = max(maxPathSum, backtrack(0, j))\n",
    "\n",
    "    return int(maxPathSum)\n",
    "\n",
    "# Testing the solution\n",
    "assert getMaxPathSumBetter([[1,2,10,4],[100,3,2,1],[1,1,20,2],[1,2,2,1]]) == 105\n",
    "assert getMaxPathSumBetter([[10,2,3],[3,7,2],[8,1,5]]) == 25"
   ]
  },
  {
   "cell_type": "code",
   "execution_count": 25,
   "id": "b3cf95be",
   "metadata": {
    "execution": {
     "iopub.execute_input": "2024-05-18T13:43:58.598926Z",
     "iopub.status.busy": "2024-05-18T13:43:58.598540Z",
     "iopub.status.idle": "2024-05-18T13:43:58.603477Z",
     "shell.execute_reply": "2024-05-18T13:43:58.602969Z"
    },
    "lines_to_next_cell": 1,
    "papermill": {
     "duration": 0.023147,
     "end_time": "2024-05-18T13:43:58.604537",
     "exception": false,
     "start_time": "2024-05-18T13:43:58.581390",
     "status": "completed"
    },
    "tags": []
   },
   "outputs": [],
   "source": [
    "def getMaxPathSum(matrix: list[list[int]]):\n",
    "    \"\"\"\n",
    "    Space optimized DP: Bottom up\n",
    "    Time: O(M x N), Space: O(N)\n",
    "    \"\"\"\n",
    "    M, N = len(matrix), len(matrix[0])\n",
    "\n",
    "    dp: list[float] = [0 for i in range(N)]\n",
    "    i = M - 1\n",
    "    while i >= 0:\n",
    "        next_: list[float] = []\n",
    "        for j in range(N):\n",
    "            next_.append(matrix[i][j] + max(dp[j - 1] if j - 1 >= 0 else -math.inf, dp[j], dp[j + 1] if j + 1 < N else -math.inf))\n",
    "\n",
    "        dp = next_\n",
    "        i -= 1\n",
    "\n",
    "    return max(dp)\n",
    "\n",
    "# Testing the solution\n",
    "assert getMaxPathSum([[1,2,10,4],[100,3,2,1],[1,1,20,2],[1,2,2,1]]) == 105\n",
    "assert getMaxPathSum([[10,2,3],[3,7,2],[8,1,5]]) == 25"
   ]
  },
  {
   "cell_type": "markdown",
   "id": "703cdb9d",
   "metadata": {
    "papermill": {
     "duration": 0.016581,
     "end_time": "2024-05-18T13:43:58.637812",
     "exception": false,
     "start_time": "2024-05-18T13:43:58.621231",
     "status": "completed"
    },
    "tags": []
   },
   "source": [
    "Cherry Pickup: 2: https://leetcode.com/problems/cherry-pickup-ii/\n",
    "Video Link: https://youtu.be/QGfn7JeXK54?si=2K0Lz9iKN_IxLUDN"
   ]
  },
  {
   "cell_type": "code",
   "execution_count": 26,
   "id": "d82f0e5d",
   "metadata": {
    "execution": {
     "iopub.execute_input": "2024-05-18T13:43:58.672306Z",
     "iopub.status.busy": "2024-05-18T13:43:58.671874Z",
     "iopub.status.idle": "2024-05-18T13:43:58.678851Z",
     "shell.execute_reply": "2024-05-18T13:43:58.678409Z"
    },
    "lines_to_next_cell": 1,
    "papermill": {
     "duration": 0.025282,
     "end_time": "2024-05-18T13:43:58.679882",
     "exception": false,
     "start_time": "2024-05-18T13:43:58.654600",
     "status": "completed"
    },
    "tags": []
   },
   "outputs": [],
   "source": [
    "def cherryPickupMemo(grid: list[list[int]]) -> int:\n",
    "    \"\"\"\n",
    "    Without memoization, time complexity: O(3 ^ M * 3 ^ M)\n",
    "\n",
    "    Space complexity is definitely improved with using @functools.cache, using list here to illustrate.\n",
    "    Time: O (M x N x N), Space: O (M x N x N)\n",
    "\n",
    "    To figure out the dp size, simply check how many parameters are chaning. Here we have an i, j1, j2 and hence dp is a 3D Matrix.\n",
    "    \"\"\"\n",
    "    M, N = len(grid), len(grid[0])\n",
    "    dp: list[list[list[float]]] = [[[-1 for k in range(N)] for j in range(N)] for i in range(M)]\n",
    "\n",
    "    def backtrack(i: int, j1: int, j2: int) -> float:\n",
    "        if j1 < 0 or j2 < 0 or j1 >= N or j2 >= N or j1 == j2:\n",
    "            return -math.inf\n",
    "        elif i > M - 1:\n",
    "            return 0\n",
    "        elif dp[i][j1][j2] != -1:\n",
    "            return dp[i][j1][j2]\n",
    "        else:\n",
    "            next_picked = -math.inf\n",
    "            for j1_offset in range(-1, 2):\n",
    "                for j2_offset in range(-1, 2):\n",
    "                    next_picked = max(next_picked, backtrack(i + 1, j1 + j1_offset, j2 + j2_offset))\n",
    "\n",
    "            dp[i][j1][j2] = grid[i][j1] + grid[i][j2] + next_picked\n",
    "            return dp[i][j1][j2]\n",
    "\n",
    "    result = int(backtrack(0, 0, N - 1))\n",
    "    return result\n",
    "\n",
    "# Testing the solution\n",
    "assert cherryPickupMemo([[1,0,0,0,0,0,1],[2,0,0,0,0,3,0],[2,0,9,0,0,0,0],[0,3,0,5,4,0,0],[1,0,2,3,0,0,6]]) == 28"
   ]
  },
  {
   "cell_type": "code",
   "execution_count": 27,
   "id": "85c88b05",
   "metadata": {
    "execution": {
     "iopub.execute_input": "2024-05-18T13:43:58.714265Z",
     "iopub.status.busy": "2024-05-18T13:43:58.714067Z",
     "iopub.status.idle": "2024-05-18T13:43:58.721365Z",
     "shell.execute_reply": "2024-05-18T13:43:58.720896Z"
    },
    "lines_to_next_cell": 1,
    "papermill": {
     "duration": 0.025635,
     "end_time": "2024-05-18T13:43:58.722397",
     "exception": false,
     "start_time": "2024-05-18T13:43:58.696762",
     "status": "completed"
    },
    "tags": []
   },
   "outputs": [],
   "source": [
    "def cherryPickupTab(grid: list[list[int]]) -> int:\n",
    "    \"\"\"\n",
    "    Simply start with the base case. Move bottom up.\n",
    "    \"\"\"\n",
    "    M, N = len(grid), len(grid[0])\n",
    "\n",
    "    # Initialize DP with the base case\n",
    "    dp: list[list[list[float]]] = [[[0 for k in range(N)] for j in range(N)] for i in range(M)]\n",
    "    for j1 in range(N):\n",
    "        for j2 in range(N):\n",
    "            dp[-1][j1][j2] = grid[-1][j1] + grid[-1][j2] if j1 != j2 else grid[-1][j1]\n",
    "\n",
    "    # i, j1, j2: (0 - M), (0 - N), (0 - N)\n",
    "    for i in range(M - 2, -1, -1):\n",
    "        for j1 in range(N):\n",
    "            for j2 in range(N):\n",
    "                max_: float = -math.inf\n",
    "                curr = grid[i][j1] + grid[i][j2] if j1 != j2 else grid[i][j1]\n",
    "                for j1_offset in range(-1, 2):\n",
    "                    for j2_offset in range(-1, 2):\n",
    "                        if 0 <= j1 + j1_offset < N and 0 <= j2 + j2_offset < N:\n",
    "                            max_ = max(max_, dp[i + 1][j1 + j1_offset][j2 + j2_offset])\n",
    "\n",
    "                dp[i][j1][j2] = max(-1, max_ + curr)\n",
    "\n",
    "    return int(dp[0][0][-1])\n",
    "\n",
    "# Testing the solution\n",
    "assert cherryPickupTab([[1,0,0,0,0,0,1],[2,0,0,0,0,3,0],[2,0,9,0,0,0,0],[0,3,0,5,4,0,0],[1,0,2,3,0,0,6]]) == 28"
   ]
  },
  {
   "cell_type": "code",
   "execution_count": 28,
   "id": "e2fdb650",
   "metadata": {
    "execution": {
     "iopub.execute_input": "2024-05-18T13:43:58.756663Z",
     "iopub.status.busy": "2024-05-18T13:43:58.756333Z",
     "iopub.status.idle": "2024-05-18T13:43:58.763125Z",
     "shell.execute_reply": "2024-05-18T13:43:58.762490Z"
    },
    "lines_to_next_cell": 1,
    "papermill": {
     "duration": 0.025139,
     "end_time": "2024-05-18T13:43:58.764277",
     "exception": false,
     "start_time": "2024-05-18T13:43:58.739138",
     "status": "completed"
    },
    "tags": []
   },
   "outputs": [],
   "source": [
    "def cherryPickupSpaceOptimized(grid: list[list[int]]) -> int:\n",
    "    M, N = len(grid), len(grid[0])\n",
    "    dp: list[list[float]] = [[grid[-1][j1] + grid[-1][j2] if j1 != j2 else grid[-1][j1] for j1 in range(N)] for j2 in range(N)]\n",
    "\n",
    "    for i in range(M - 2, -1, -1):\n",
    "        dp_next: list[list[float]] = []\n",
    "        for j1 in range(N):\n",
    "            dp_next.append([])\n",
    "            for j2 in range(N):\n",
    "                max_: float = -math.inf\n",
    "                curr = grid[i][j1] + grid[i][j2] if j1 != j2 else grid[i][j1]\n",
    "                for j1_offset in range(-1, 2):\n",
    "                    for j2_offset in range(-1, 2):\n",
    "                        if 0 <= j1 + j1_offset < N and 0 <= j2 + j2_offset < N:\n",
    "                            max_ = max(max_, dp[j1 + j1_offset][j2 + j2_offset])\n",
    "\n",
    "                dp_next[j1].append(curr + max_)\n",
    "        dp = dp_next\n",
    "\n",
    "    return int(dp[0][-1])\n",
    "\n",
    "# Testing the solution\n",
    "assert cherryPickupSpaceOptimized([[1,0,0,0,0,0,1],[2,0,0,0,0,3,0],[2,0,9,0,0,0,0],[0,3,0,5,4,0,0],[1,0,2,3,0,0,6]]) == 28"
   ]
  },
  {
   "cell_type": "markdown",
   "id": "17816765",
   "metadata": {
    "papermill": {
     "duration": 0.016779,
     "end_time": "2024-05-18T13:43:58.798110",
     "exception": false,
     "start_time": "2024-05-18T13:43:58.781331",
     "status": "completed"
    },
    "tags": []
   },
   "source": [
    "Subset sum equals target\n",
    "Video Link: https://youtu.be/fWX9xDmIzRI?si=jb2Tgvw_E0Tyk1Pj"
   ]
  },
  {
   "cell_type": "code",
   "execution_count": 29,
   "id": "4f37d7b7",
   "metadata": {
    "execution": {
     "iopub.execute_input": "2024-05-18T13:43:58.832278Z",
     "iopub.status.busy": "2024-05-18T13:43:58.831831Z",
     "iopub.status.idle": "2024-05-18T13:43:58.837065Z",
     "shell.execute_reply": "2024-05-18T13:43:58.836510Z"
    },
    "lines_to_next_cell": 1,
    "papermill": {
     "duration": 0.023477,
     "end_time": "2024-05-18T13:43:58.838165",
     "exception": false,
     "start_time": "2024-05-18T13:43:58.814688",
     "status": "completed"
    },
    "tags": []
   },
   "outputs": [],
   "source": [
    "def isSubsetSumMemo(N: int, arr: list[int], target: int) -> int:\n",
    "    \"\"\"\n",
    "    For cases where subset exists, the recursion would stop early. For the negative cases, we would get overlapping subproblems and\n",
    "    hence memoization would help decrease the time complexity.\n",
    "\n",
    "    Time without memoization: O(2 ^ N), Space: O(N)\n",
    "    With memoization: O(N x target), Space: O(N x target) + O(N)\n",
    "    \"\"\"\n",
    "\n",
    "    dp: list[list[int]] = [[-1 for j in range(target + 1)] for i in range(N)]\n",
    "    def backtrack(i: int, total: int) -> bool:\n",
    "        if total == 0:\n",
    "            return True\n",
    "        elif total < 0 or i > N - 1:\n",
    "            return False\n",
    "        elif dp[i][total] != -1:\n",
    "            return bool(dp[i][total])\n",
    "        else:\n",
    "            result = backtrack(i + 1, total - arr[i]) or backtrack(i + 1, total)\n",
    "            dp[i][total] = int(result)\n",
    "            return result\n",
    "\n",
    "    return backtrack(0, target)\n",
    "\n",
    "# Testing the solution\n",
    "assert isSubsetSumMemo(6, [3, 34, 4, 12, 5, 2], 9) == True\n",
    "assert isSubsetSumMemo(6, [3, 34, 4, 12, 5, 2], 30) == False"
   ]
  },
  {
   "cell_type": "code",
   "execution_count": 30,
   "id": "5551c36b",
   "metadata": {
    "execution": {
     "iopub.execute_input": "2024-05-18T13:43:58.872463Z",
     "iopub.status.busy": "2024-05-18T13:43:58.872262Z",
     "iopub.status.idle": "2024-05-18T13:43:58.878273Z",
     "shell.execute_reply": "2024-05-18T13:43:58.877834Z"
    },
    "lines_to_next_cell": 1,
    "papermill": {
     "duration": 0.02435,
     "end_time": "2024-05-18T13:43:58.879329",
     "exception": false,
     "start_time": "2024-05-18T13:43:58.854979",
     "status": "completed"
    },
    "tags": []
   },
   "outputs": [
    {
     "name": "stdout",
     "output_type": "stream",
     "text": [
      "[[1, 0, 1, 1, 1, 1, 1, 1, 1, 1], [1, 0, 1, 0, 1, 1, 1, 1, 0, 1], [1, 0, 1, 0, 1, 1, 1, 1, 0, 1], [1, 0, 1, 0, 0, 1, 0, 1, 0, 0], [1, 0, 1, 0, 0, 1, 0, 1, 0, 0], [1, 0, 1, 0, 0, 0, 0, 0, 0, 0], [1, 0, 0, 0, 0, 0, 0, 0, 0, 0]]\n",
      "[[1, 0, 1, 1, 1, 1, 1, 1, 1, 1, 1, 1, 1, 0, 1, 1, 1, 1, 1, 1, 1, 1, 1, 1, 1, 0, 1, 0, 0, 0, 0], [1, 0, 1, 0, 1, 1, 1, 1, 0, 1, 0, 1, 1, 0, 1, 0, 1, 1, 1, 1, 0, 1, 0, 1, 0, 0, 0, 0, 0, 0, 0], [1, 0, 1, 0, 1, 1, 1, 1, 0, 1, 0, 1, 1, 0, 1, 0, 1, 1, 1, 1, 0, 1, 0, 1, 0, 0, 0, 0, 0, 0, 0], [1, 0, 1, 0, 0, 1, 0, 1, 0, 0, 0, 0, 1, 0, 1, 0, 0, 1, 0, 1, 0, 0, 0, 0, 0, 0, 0, 0, 0, 0, 0], [1, 0, 1, 0, 0, 1, 0, 1, 0, 0, 0, 0, 0, 0, 0, 0, 0, 0, 0, 0, 0, 0, 0, 0, 0, 0, 0, 0, 0, 0, 0], [1, 0, 1, 0, 0, 0, 0, 0, 0, 0, 0, 0, 0, 0, 0, 0, 0, 0, 0, 0, 0, 0, 0, 0, 0, 0, 0, 0, 0, 0, 0], [1, 0, 0, 0, 0, 0, 0, 0, 0, 0, 0, 0, 0, 0, 0, 0, 0, 0, 0, 0, 0, 0, 0, 0, 0, 0, 0, 0, 0, 0, 0]]\n"
     ]
    }
   ],
   "source": [
    "def isSubsetSumTab(N: int, arr: list[int], target: int) -> bool:\n",
    "    \"\"\"\n",
    "    Each cell in the dp represents -> If total - arr[i] is true down the line.\n",
    "    Note that dp[i][0] is always true, since if the target is to be 0 regardless of arr[i] tehn subsetSumTarget is possible.\n",
    "    \"\"\"\n",
    "    dp: list[list[int]] = [[1 if j == 0 else -1 if i < N else 0 for j in range(target + 1)] for i in range(N + 1)]\n",
    "\n",
    "    for i in range(N - 1, -1, -1):\n",
    "        for total in range(1, target + 1):\n",
    "            if dp[i + 1][total] == 1 or (total - arr[i] >= 0 and dp[i + 1][total - arr[i]] == 1):\n",
    "                dp[i][total] = 1\n",
    "            else:\n",
    "                dp[i][total] = 0\n",
    "\n",
    "    print(dp)\n",
    "    return bool(dp[0][target])\n",
    "\n",
    "# Testing the solution\n",
    "assert isSubsetSumTab(6, [3, 34, 4, 12, 5, 2], 9) == True\n",
    "assert isSubsetSumTab(6, [3, 34, 4, 12, 5, 2], 30) == False"
   ]
  },
  {
   "cell_type": "code",
   "execution_count": 31,
   "id": "ca80b369",
   "metadata": {
    "execution": {
     "iopub.execute_input": "2024-05-18T13:43:58.913913Z",
     "iopub.status.busy": "2024-05-18T13:43:58.913479Z",
     "iopub.status.idle": "2024-05-18T13:43:58.918513Z",
     "shell.execute_reply": "2024-05-18T13:43:58.918073Z"
    },
    "lines_to_next_cell": 1,
    "papermill": {
     "duration": 0.023391,
     "end_time": "2024-05-18T13:43:58.919592",
     "exception": false,
     "start_time": "2024-05-18T13:43:58.896201",
     "status": "completed"
    },
    "tags": []
   },
   "outputs": [],
   "source": [
    "def isSubsetSumSpaceOptimized(N: int, arr: list[int], target: int) -> bool:\n",
    "    \"Time: O(N x target), Space: O(target)\"\n",
    "    dp: list[int] = [0 if j > 0 else 1 for j in range(target + 1)]\n",
    "\n",
    "    for i in range(N - 1, -1, -1):\n",
    "        next_: list[int] = []\n",
    "        for total in range(target + 1):\n",
    "            if total == 0 or dp[total] == 1 or (total - arr[i] >= 0 and dp[total - arr[i]] == 1):\n",
    "                next_.append(1)\n",
    "            else:\n",
    "                next_.append(0)\n",
    "\n",
    "        dp = next_\n",
    "\n",
    "    return bool(dp[target])\n",
    "\n",
    "# Testing the solution\n",
    "assert isSubsetSumSpaceOptimized(6, [3, 34, 4, 12, 5, 2], 9) == True\n",
    "assert isSubsetSumSpaceOptimized(6, [3, 34, 4, 12, 5, 2], 30) == False"
   ]
  },
  {
   "cell_type": "markdown",
   "id": "7a10f4ca",
   "metadata": {
    "papermill": {
     "duration": 0.016762,
     "end_time": "2024-05-18T13:43:58.953328",
     "exception": false,
     "start_time": "2024-05-18T13:43:58.936566",
     "status": "completed"
    },
    "tags": []
   },
   "source": [
    "Partition equal subset sum: https://leetcode.com/problems/partition-equal-subset-sum/\n",
    "Video Link: https://youtu.be/7win3dcgo3k?si=LJO4Ot4EZzQ2fRc0"
   ]
  },
  {
   "cell_type": "code",
   "execution_count": 32,
   "id": "373088cf",
   "metadata": {
    "execution": {
     "iopub.execute_input": "2024-05-18T13:43:58.987762Z",
     "iopub.status.busy": "2024-05-18T13:43:58.987544Z",
     "iopub.status.idle": "2024-05-18T13:43:58.992907Z",
     "shell.execute_reply": "2024-05-18T13:43:58.992458Z"
    },
    "lines_to_next_cell": 1,
    "papermill": {
     "duration": 0.024008,
     "end_time": "2024-05-18T13:43:58.994099",
     "exception": false,
     "start_time": "2024-05-18T13:43:58.970091",
     "status": "completed"
    },
    "tags": []
   },
   "outputs": [],
   "source": [
    "# https://leetcode.com/problems/partition-equal-subset-sum/submissions/1253314239\n",
    "def canPartition(nums: list[int]) -> bool:\n",
    "    def subsetSumEqualsTarget(target: int) -> bool:\n",
    "        \"Time: O(N x target), Space: O(target)\"\n",
    "        dp: list[bool] = [False if i > 0 else True for i in range(target + 1)]\n",
    "        for i in range(N - 1, -1, -1):\n",
    "            next_: list[bool] = []\n",
    "            for total in range(target + 1):\n",
    "                if total == 0 or dp[total] or (total - nums[i] >= 0 and dp[total - nums[i]]):\n",
    "                    next_.append(True)\n",
    "                else:\n",
    "                    next_.append(False)\n",
    "\n",
    "            dp = next_\n",
    "\n",
    "        return dp[target]\n",
    "\n",
    "    N = len(nums)\n",
    "    total = sum(nums)\n",
    "    return total % 2 == 0 and subsetSumEqualsTarget(total // 2)\n",
    "\n",
    "# Testing the solution\n",
    "assert canPartition([1,5,11,5]) == True\n",
    "assert canPartition([1,2,3,5]) == False\n",
    "assert canPartition([3,3,3,4,5]) == True"
   ]
  },
  {
   "cell_type": "markdown",
   "id": "56f6a268",
   "metadata": {
    "papermill": {
     "duration": 0.016738,
     "end_time": "2024-05-18T13:43:59.027864",
     "exception": false,
     "start_time": "2024-05-18T13:43:59.011126",
     "status": "completed"
    },
    "tags": []
   },
   "source": [
    "Partition Array Into Two Arrays to Minimize Sum Difference\n",
    "Video link: https://youtu.be/GS_OqZb2CWc?si=Jtc2dP_dqmNi5Zli"
   ]
  },
  {
   "cell_type": "code",
   "execution_count": 33,
   "id": "00588c88",
   "metadata": {
    "execution": {
     "iopub.execute_input": "2024-05-18T13:43:59.062144Z",
     "iopub.status.busy": "2024-05-18T13:43:59.061817Z",
     "iopub.status.idle": "2024-05-18T13:43:59.066716Z",
     "shell.execute_reply": "2024-05-18T13:43:59.066206Z"
    },
    "lines_to_next_cell": 1,
    "papermill": {
     "duration": 0.0233,
     "end_time": "2024-05-18T13:43:59.067867",
     "exception": false,
     "start_time": "2024-05-18T13:43:59.044567",
     "status": "completed"
    },
    "tags": []
   },
   "outputs": [],
   "source": [
    "def minimumDifferenceBrute(nums: list[int]) -> int:\n",
    "    \"\"\"\n",
    "    Throws a TLE :(\n",
    "    \"\"\"\n",
    "    N, total_sum = len(nums), sum(nums)\n",
    "    subset_length = N // 2\n",
    "\n",
    "    @functools.cache\n",
    "    def backtrack(i: int, subset_sum: int, count: int) -> float:\n",
    "        if count == subset_length:\n",
    "            return abs(2 * subset_sum - total_sum)\n",
    "        elif i == N:\n",
    "            return math.inf\n",
    "        else:\n",
    "            return min(backtrack(i + 1, subset_sum + nums[i], count + 1), backtrack(i + 1, subset_sum, count))\n",
    "\n",
    "    result = int(backtrack(0, 0, 0))\n",
    "    return result\n",
    "\n",
    "# Testing the solution\n",
    "assert minimumDifferenceBrute([3,9,7,3]) == 2\n",
    "assert minimumDifferenceBrute([-36,36]) == 72\n",
    "assert minimumDifferenceBrute([2,-1,0,4,-2,-9]) == 0"
   ]
  },
  {
   "cell_type": "code",
   "execution_count": 34,
   "id": "97c34ef1",
   "metadata": {
    "execution": {
     "iopub.execute_input": "2024-05-18T13:43:59.102584Z",
     "iopub.status.busy": "2024-05-18T13:43:59.102256Z",
     "iopub.status.idle": "2024-05-18T13:43:59.109021Z",
     "shell.execute_reply": "2024-05-18T13:43:59.108504Z"
    },
    "lines_to_next_cell": 1,
    "papermill": {
     "duration": 0.025201,
     "end_time": "2024-05-18T13:43:59.110059",
     "exception": false,
     "start_time": "2024-05-18T13:43:59.084858",
     "status": "completed"
    },
    "tags": []
   },
   "outputs": [],
   "source": [
    "def minimumDifference(nums: list[int]) -> int:\n",
    "    \"\"\"\n",
    "    Use the DP tabulation approach we used to check if a subset with target sum exists. Still Memory limit exceeded.\n",
    "    Note that this is different the one on the video. This solution is leetcode specific. In the video by Striver, the values can only be positive. Further more we can split into any size.\n",
    "    In LC however, the subset must be split into 2 halves, values can be both positive and negative.\n",
    "    \"\"\"\n",
    "\n",
    "    N, total_abs_sum, total_sum = len(nums), sum(map(abs, nums)), sum(nums)\n",
    "\n",
    "    # Each value represents the length of subset summing up to target. -1 if cannot be reached.\n",
    "    dp: list[int] = [-1 if j != 0 else 0 for j in range(-total_abs_sum, total_abs_sum + 1)]\n",
    "\n",
    "    for i in range(N - 1, -1, -1):\n",
    "        next_dp: list[int] = []\n",
    "        for target in range(-total_abs_sum, total_abs_sum + 1):\n",
    "            # Pick, subset length incremented by 1\n",
    "            if 0 <= target - nums[i] + total_abs_sum <= 2 * total_abs_sum and dp[target - nums[i] + total_abs_sum] != -1:\n",
    "                subset_length = dp[target - nums[i] + total_abs_sum] + 1\n",
    "                existing_length = dp[target + total_abs_sum]\n",
    "                next_dp.append(subset_length if existing_length != N // 2 else existing_length)\n",
    "            # No pick, hence subset length is unupdated\n",
    "            elif dp[target + total_abs_sum] != -1:\n",
    "                next_dp.append(dp[target + total_abs_sum])\n",
    "            # Base case\n",
    "            elif target == 0:\n",
    "                next_dp.append(0)\n",
    "            # Sum cannot be reached\n",
    "            else:\n",
    "                next_dp.append(-1)\n",
    "\n",
    "        dp = next_dp\n",
    "\n",
    "    # Find out targets where value is N // 2\n",
    "    min_diff: float = math.inf\n",
    "    for subset_sum, subset_length in enumerate(dp, start=-total_abs_sum):\n",
    "        if subset_length == N // 2:\n",
    "            min_diff = min(min_diff, abs(2 * subset_sum - total_sum))\n",
    "\n",
    "    return int(min_diff)\n",
    "\n",
    "# Testing the solution\n",
    "assert minimumDifference([3,9,7,3]) == 2\n",
    "assert minimumDifference([-36,36]) == 72\n",
    "assert minimumDifference([2,-1,0,4,-2,-9]) == 0"
   ]
  },
  {
   "cell_type": "code",
   "execution_count": 35,
   "id": "54752ee1",
   "metadata": {
    "execution": {
     "iopub.execute_input": "2024-05-18T13:43:59.144637Z",
     "iopub.status.busy": "2024-05-18T13:43:59.144199Z",
     "iopub.status.idle": "2024-05-18T13:43:59.149194Z",
     "shell.execute_reply": "2024-05-18T13:43:59.148668Z"
    },
    "lines_to_next_cell": 1,
    "papermill": {
     "duration": 0.023295,
     "end_time": "2024-05-18T13:43:59.150194",
     "exception": false,
     "start_time": "2024-05-18T13:43:59.126899",
     "status": "completed"
    },
    "tags": []
   },
   "outputs": [],
   "source": [
    "def minSubsetSumDifference(arr: list[int], N: int) -> int:\n",
    "    # Compute max total sum\n",
    "    total_sum: int = sum(arr)\n",
    "\n",
    "    # Compute DP grid for all possible subset sums\n",
    "    dp: list[bool] = [False if i > 0 else True for i in range(total_sum + 1)]\n",
    "    for i in range(N - 1, -1, -1):\n",
    "        next_dp: list[bool] = []\n",
    "        for target in range(total_sum + 1):\n",
    "            if target == 0 or dp[target] or (target - arr[i] >= 0 and dp[target - arr[i]]):\n",
    "                next_dp.append(True)\n",
    "            else:\n",
    "                next_dp.append(False)\n",
    "        dp = next_dp\n",
    "\n",
    "    # Compute the minimum subset difference\n",
    "    min_diff: int = total_sum\n",
    "\n",
    "    # total_sum / 2 since it is enough if we computed one half, diff of sum from total sum would cover the other half as well\n",
    "    for target in range(math.ceil(total_sum / 2) + 1):\n",
    "        if dp[target]:\n",
    "            min_diff = min(min_diff, abs(2 * target - total_sum))\n",
    "\n",
    "    return min_diff\n",
    "\n",
    "# Testing the solution\n",
    "assert minSubsetSumDifference([8,6,5], 3) == 3"
   ]
  },
  {
   "cell_type": "markdown",
   "id": "884d535e",
   "metadata": {
    "papermill": {
     "duration": 0.0167,
     "end_time": "2024-05-18T13:43:59.183651",
     "exception": false,
     "start_time": "2024-05-18T13:43:59.166951",
     "status": "completed"
    },
    "tags": []
   },
   "source": [
    "Count subsets with sum k"
   ]
  },
  {
   "cell_type": "code",
   "execution_count": 36,
   "id": "534b55bb",
   "metadata": {
    "execution": {
     "iopub.execute_input": "2024-05-18T13:43:59.217861Z",
     "iopub.status.busy": "2024-05-18T13:43:59.217547Z",
     "iopub.status.idle": "2024-05-18T13:43:59.222991Z",
     "shell.execute_reply": "2024-05-18T13:43:59.222472Z"
    },
    "lines_to_next_cell": 1,
    "papermill": {
     "duration": 0.023747,
     "end_time": "2024-05-18T13:43:59.224045",
     "exception": false,
     "start_time": "2024-05-18T13:43:59.200298",
     "status": "completed"
    },
    "tags": []
   },
   "outputs": [],
   "source": [
    "def perfectSumMemo(nums: list[int], N: int, K: int):\n",
    "    \"\"\"\n",
    "    Time: O(N * K) + O(N); Space: O(N * K)\n",
    "    \"\"\"\n",
    "\n",
    "    # Filter out all the zeros\n",
    "    arr: list[int] = []\n",
    "    N = zero_count = 0\n",
    "    for n in nums:\n",
    "        if n > 0:\n",
    "            arr.append(n)\n",
    "            N += 1\n",
    "        else:\n",
    "            zero_count += 1\n",
    "\n",
    "    # Compute the results and store it to a list\n",
    "    dp: list[list[int]] = [[-1 for j in range(K + 1)] for i in range(N)]\n",
    "\n",
    "    # Recursively find the solution\n",
    "    def backtrack(i: int, total: int) -> int:\n",
    "        if total == K:\n",
    "            return 1\n",
    "        elif i >= N or total > K:\n",
    "            return 0\n",
    "        elif dp[i][total] != -1:\n",
    "            return dp[i][total]\n",
    "        else:\n",
    "            result = backtrack(i + 1, total + arr[i]) + backtrack(i + 1, total)\n",
    "            dp[i][total] = result\n",
    "            return result\n",
    "\n",
    "    return backtrack(0, 0) * (2 ** zero_count)\n",
    "\n",
    "# Testing the solution\n",
    "assert perfectSumMemo([5, 2, 3, 10, 6, 8], 6, 10) == 3\n",
    "assert perfectSumMemo([1, 0], 2, 1) == 2"
   ]
  },
  {
   "cell_type": "code",
   "execution_count": 37,
   "id": "dee4da2c",
   "metadata": {
    "execution": {
     "iopub.execute_input": "2024-05-18T13:43:59.258794Z",
     "iopub.status.busy": "2024-05-18T13:43:59.258397Z",
     "iopub.status.idle": "2024-05-18T13:43:59.263901Z",
     "shell.execute_reply": "2024-05-18T13:43:59.263399Z"
    },
    "lines_to_next_cell": 1,
    "papermill": {
     "duration": 0.024167,
     "end_time": "2024-05-18T13:43:59.265022",
     "exception": false,
     "start_time": "2024-05-18T13:43:59.240855",
     "status": "completed"
    },
    "tags": []
   },
   "outputs": [],
   "source": [
    "def perfectSumTabulation(nums: list[int], N: int, K: int):\n",
    "    # Filter out all the zeros\n",
    "    arr: list[int] = []\n",
    "    N = zero_count = 0\n",
    "    for n in nums:\n",
    "        if n > 0:\n",
    "            arr.append(n)\n",
    "            N += 1\n",
    "        else:\n",
    "            zero_count += 1\n",
    "\n",
    "    # Initialize a DP array\n",
    "    dp: list[list[int]] = [[-1 if j < K else 1 for j in range(K + 1)] for i in range(N)]\n",
    "    dp.append([0 if j < K else 1 for j in range(K + 1)])\n",
    "\n",
    "    # Traverse through grid\n",
    "    for i in range(N - 1, -1, -1):\n",
    "        for total in range(K):\n",
    "            dp[i][total] = dp[i + 1][total]\n",
    "            if total + arr[i] <= K:\n",
    "                dp[i][total] += dp[i + 1][total + arr[i]]\n",
    "\n",
    "    return dp[0][0] * (2 ** zero_count)\n",
    "\n",
    "# Testing the solution\n",
    "assert perfectSumTabulation([5, 2, 3, 10, 6, 8], 6, 10) == 3\n",
    "assert perfectSumTabulation([1, 0], 2, 1) == 2"
   ]
  },
  {
   "cell_type": "code",
   "execution_count": 38,
   "id": "2d2468ad",
   "metadata": {
    "execution": {
     "iopub.execute_input": "2024-05-18T13:43:59.299816Z",
     "iopub.status.busy": "2024-05-18T13:43:59.299468Z",
     "iopub.status.idle": "2024-05-18T13:43:59.304455Z",
     "shell.execute_reply": "2024-05-18T13:43:59.304013Z"
    },
    "lines_to_next_cell": 1,
    "papermill": {
     "duration": 0.023536,
     "end_time": "2024-05-18T13:43:59.305627",
     "exception": false,
     "start_time": "2024-05-18T13:43:59.282091",
     "status": "completed"
    },
    "tags": []
   },
   "outputs": [],
   "source": [
    "def perfectSum(nums: list[int], N: int, K: int):\n",
    "    # Filter out all the zeros\n",
    "    arr: list[int] = []\n",
    "    N = zero_count = 0\n",
    "    for n in nums:\n",
    "        if n > 0:\n",
    "            arr.append(n)\n",
    "            N += 1\n",
    "        else:\n",
    "            zero_count += 1\n",
    "\n",
    "    # Initialize a DP array\n",
    "    dp: list[int] = [0 if j < K else 1 for j in range(K + 1)]\n",
    "\n",
    "    # Traverse through grid\n",
    "    for i in range(N - 1, -1, -1):\n",
    "        next_dp: list[int] = []\n",
    "        for total in range(K + 1):\n",
    "            next_dp.append(dp[total])\n",
    "            if total + arr[i] <= K:\n",
    "                next_dp[-1] += dp[total + arr[i]]\n",
    "\n",
    "        dp = next_dp\n",
    "\n",
    "    return dp[0] * (2 ** zero_count)\n",
    "\n",
    "# Testing the solution\n",
    "assert perfectSum([5, 2, 3, 10, 6, 8], 6, 10) == 3\n",
    "assert perfectSum([1, 0], 2, 1) == 2"
   ]
  },
  {
   "cell_type": "markdown",
   "id": "2bff8c7f",
   "metadata": {
    "papermill": {
     "duration": 0.016686,
     "end_time": "2024-05-18T13:43:59.339200",
     "exception": false,
     "start_time": "2024-05-18T13:43:59.322514",
     "status": "completed"
    },
    "tags": []
   },
   "source": [
    "Count Paritions with given difference: https://youtu.be/zoilQD1kYSg?si=F8PFSkzkZXEsFJ2N"
   ]
  },
  {
   "cell_type": "code",
   "execution_count": 39,
   "id": "051bd113",
   "metadata": {
    "execution": {
     "iopub.execute_input": "2024-05-18T13:43:59.373568Z",
     "iopub.status.busy": "2024-05-18T13:43:59.373091Z",
     "iopub.status.idle": "2024-05-18T13:43:59.378126Z",
     "shell.execute_reply": "2024-05-18T13:43:59.377557Z"
    },
    "lines_to_next_cell": 1,
    "papermill": {
     "duration": 0.023383,
     "end_time": "2024-05-18T13:43:59.379255",
     "exception": false,
     "start_time": "2024-05-18T13:43:59.355872",
     "status": "completed"
    },
    "tags": []
   },
   "outputs": [],
   "source": [
    "def countPartitionsMemo(N: int, diff: int, arr: list[int]) -> int:\n",
    "    \"\"\"\n",
    "    s1 + s2 = S\n",
    "    s1 - s2 = d\n",
    "    2 * s1 = S + d\n",
    "\n",
    "    Time: O(N x target) + O(N)\n",
    "    Space: O(N x target)\n",
    "    \"\"\"\n",
    "\n",
    "    # Simply check if the target exists\n",
    "    target = (sum(arr) + diff) / 2\n",
    "\n",
    "    # Count all subset sums equals target\n",
    "    @functools.cache\n",
    "    def backtrack(i: int, total: int) -> int:\n",
    "        if i == N:\n",
    "            return total == target\n",
    "        elif total > target:\n",
    "            return 0\n",
    "        else:\n",
    "            return backtrack(i + 1, total + arr[i]) + backtrack(i + 1, total)\n",
    "\n",
    "    result = backtrack(0, 0) if target == int(target) else 0\n",
    "    MOD = int(1e9 + 7)\n",
    "    return result % MOD\n",
    "\n",
    "# Testing the solution\n",
    "assert countPartitionsMemo(4, 0, [1,1,1,1]) == 6\n",
    "assert countPartitionsMemo(4, 3, [5,2,6,4]) == 1\n",
    "assert countPartitionsMemo(5, 5, [1,3,3,2,1]) == 0"
   ]
  },
  {
   "cell_type": "code",
   "execution_count": 40,
   "id": "4cd9fbc1",
   "metadata": {
    "execution": {
     "iopub.execute_input": "2024-05-18T13:43:59.413973Z",
     "iopub.status.busy": "2024-05-18T13:43:59.413645Z",
     "iopub.status.idle": "2024-05-18T13:43:59.419137Z",
     "shell.execute_reply": "2024-05-18T13:43:59.418607Z"
    },
    "lines_to_next_cell": 1,
    "papermill": {
     "duration": 0.023888,
     "end_time": "2024-05-18T13:43:59.420120",
     "exception": false,
     "start_time": "2024-05-18T13:43:59.396232",
     "status": "completed"
    },
    "tags": []
   },
   "outputs": [],
   "source": [
    "def countPartitionsTabulation(N: int, diff: int, arr: list[int]) -> int:\n",
    "    \"\"\"\n",
    "    Time: O(N x target), Space: O(N x target)\n",
    "    \"\"\"\n",
    "    # Simply check if the target exists\n",
    "    target_: float = (sum(arr) + diff) / 2\n",
    "    MOD = int(1e9 + 7)\n",
    "\n",
    "    if int(target_) != target_:\n",
    "        return 0\n",
    "\n",
    "    else:\n",
    "\n",
    "        # Convert to int for typing support\n",
    "        target = int(target_)\n",
    "\n",
    "        # Initialize DP array for tabulation\n",
    "        dp: list[list[int]] = [[0 if j != target or i != N else 1 for j in range(target + 1)] for i in range(N + 1)]\n",
    "\n",
    "        # Iterate through DP and find the solution\n",
    "        for i in range(N - 1, -1, -1):\n",
    "            for total in range(target + 1):\n",
    "                dp[i][total] = dp[i + 1][total]\n",
    "                if total + arr[i] <= target:\n",
    "                    dp[i][total] += dp[i + 1][total + arr[i]]\n",
    "\n",
    "        return dp[0][0]\n",
    "\n",
    "# Testing the solution\n",
    "assert countPartitionsTabulation(4, 3, [5,2,6,4]) == 1\n",
    "assert countPartitionsTabulation(4, 3, [5,2,6,4]) == 1\n",
    "assert countPartitionsTabulation(5, 5, [1,3,3,2,1]) == 0"
   ]
  },
  {
   "cell_type": "code",
   "execution_count": 41,
   "id": "09aacbe5",
   "metadata": {
    "execution": {
     "iopub.execute_input": "2024-05-18T13:43:59.454613Z",
     "iopub.status.busy": "2024-05-18T13:43:59.454133Z",
     "iopub.status.idle": "2024-05-18T13:43:59.459476Z",
     "shell.execute_reply": "2024-05-18T13:43:59.458966Z"
    },
    "lines_to_next_cell": 1,
    "papermill": {
     "duration": 0.023654,
     "end_time": "2024-05-18T13:43:59.460596",
     "exception": false,
     "start_time": "2024-05-18T13:43:59.436942",
     "status": "completed"
    },
    "tags": []
   },
   "outputs": [],
   "source": [
    "def countPartitions(N: int, diff: int, arr: list[int]) -> int:\n",
    "    # Simply check if the target exists\n",
    "    target_: float = (sum(arr) + diff) / 2\n",
    "    MOD = int(1e9 + 7)\n",
    "\n",
    "    if int(target_) != target_:\n",
    "        return 0\n",
    "\n",
    "    else:\n",
    "        # Convert to int for type hinting\n",
    "        target = int(target_)\n",
    "\n",
    "        # Create a 1D grid (space optimized)\n",
    "        dp: list[int] = [0 if j != target else 1 for j in range(target + 1)]\n",
    "\n",
    "        # Iterate through DP\n",
    "        for i in range(N - 1, -1, -1):\n",
    "            next_dp: list[int] = []\n",
    "            for total in range(target + 1):\n",
    "                next_dp.append(dp[total])\n",
    "                if total + arr[i] <= target:\n",
    "                    next_dp[-1] += dp[total + arr[i]]\n",
    "\n",
    "            dp = next_dp\n",
    "\n",
    "        return dp[0] % MOD\n",
    "\n",
    "# Testing the solution\n",
    "assert countPartitions(4, 3, [5,2,6,4]) == 1\n",
    "assert countPartitions(4, 3, [5,2,6,4]) == 1\n",
    "assert countPartitions(5, 5, [1,3,3,2,1]) == 0"
   ]
  },
  {
   "cell_type": "markdown",
   "id": "db7bdbb0",
   "metadata": {
    "papermill": {
     "duration": 0.01662,
     "end_time": "2024-05-18T13:43:59.494120",
     "exception": false,
     "start_time": "2024-05-18T13:43:59.477500",
     "status": "completed"
    },
    "tags": []
   },
   "source": [
    "Video Link: https://youtu.be/GqOmJHQZivw?si=dHaZZvKQa2PHaukO\n",
    "0/1 Knapsack"
   ]
  },
  {
   "cell_type": "code",
   "execution_count": 42,
   "id": "51fdc55d",
   "metadata": {
    "execution": {
     "iopub.execute_input": "2024-05-18T13:43:59.528412Z",
     "iopub.status.busy": "2024-05-18T13:43:59.528033Z",
     "iopub.status.idle": "2024-05-18T13:43:59.532857Z",
     "shell.execute_reply": "2024-05-18T13:43:59.532328Z"
    },
    "lines_to_next_cell": 1,
    "papermill": {
     "duration": 0.023024,
     "end_time": "2024-05-18T13:43:59.533885",
     "exception": false,
     "start_time": "2024-05-18T13:43:59.510861",
     "status": "completed"
    },
    "tags": []
   },
   "outputs": [],
   "source": [
    "def knapsack01Memo(N: int, max_weight: int, weights: list[int], values: list[int]) -> int:\n",
    "    \"\"\"\n",
    "    Time complexity without memoization: O(2 ** N), Space: O(N).\n",
    "    Post memoization: O(N x max_weight), Space: O(N x max_weight)\n",
    "    \"\"\"\n",
    "    @functools.cache\n",
    "    def backtrack(i: int, total_weight: int) -> float:\n",
    "        \"\"\"\n",
    "        Intuition: Till index i, what is the max value, we can accumulate with max_weight as total_weight.\n",
    "        \"\"\"\n",
    "        if total_weight > max_weight:\n",
    "            return -math.inf\n",
    "        elif i >= N:\n",
    "            return 0\n",
    "        else:\n",
    "            pick = values[i] + backtrack(i + 1, total_weight + weights[i])\n",
    "            nopick = backtrack(i + 1, total_weight)\n",
    "            return max(pick, nopick)\n",
    "\n",
    "    result = backtrack(0, 0)\n",
    "    return int(max(result, 0))\n",
    "\n",
    "# Testing the solution\n",
    "assert knapsack01Memo(4, 5, [1,2,4,5], [5,4,8,6]) == 13\n",
    "assert knapsack01Memo(3, 8, [3,4,5], [30,50,60]) == 90"
   ]
  },
  {
   "cell_type": "code",
   "execution_count": 43,
   "id": "e0b05d00",
   "metadata": {
    "execution": {
     "iopub.execute_input": "2024-05-18T13:43:59.568248Z",
     "iopub.status.busy": "2024-05-18T13:43:59.567789Z",
     "iopub.status.idle": "2024-05-18T13:43:59.572700Z",
     "shell.execute_reply": "2024-05-18T13:43:59.572275Z"
    },
    "lines_to_next_cell": 1,
    "papermill": {
     "duration": 0.023204,
     "end_time": "2024-05-18T13:43:59.573811",
     "exception": false,
     "start_time": "2024-05-18T13:43:59.550607",
     "status": "completed"
    },
    "tags": []
   },
   "outputs": [],
   "source": [
    "def knapsack01Tabulation(N: int, max_weight: int, weights: list[int], values: list[int]) -> int:\n",
    "    dp: list[list[int]] = [[-1 if i < N else 0 for j in range(max_weight + 1)] for i in range(N + 1)]\n",
    "    for i in range(N - 1, -1, -1):\n",
    "        for total_weight in range(max_weight + 1):\n",
    "            # No pick\n",
    "            dp[i][total_weight] = dp[i + 1][total_weight]\n",
    "\n",
    "            # Pick\n",
    "            if total_weight + weights[i] <= max_weight:\n",
    "                dp[i][total_weight] = max(dp[i][total_weight], values[i] + dp[i + 1][total_weight + weights[i]])\n",
    "\n",
    "    return dp[0][0]\n",
    "\n",
    "# Testing the solution\n",
    "assert knapsack01Tabulation(4, 5, [1,2,4,5], [5,4,8,6]) == 13\n",
    "assert knapsack01Tabulation(3, 8, [3,4,5], [30,50,60]) == 90"
   ]
  },
  {
   "cell_type": "code",
   "execution_count": 44,
   "id": "045af9de",
   "metadata": {
    "execution": {
     "iopub.execute_input": "2024-05-18T13:43:59.608611Z",
     "iopub.status.busy": "2024-05-18T13:43:59.608228Z",
     "iopub.status.idle": "2024-05-18T13:43:59.613649Z",
     "shell.execute_reply": "2024-05-18T13:43:59.613088Z"
    },
    "lines_to_next_cell": 1,
    "papermill": {
     "duration": 0.024025,
     "end_time": "2024-05-18T13:43:59.614766",
     "exception": false,
     "start_time": "2024-05-18T13:43:59.590741",
     "status": "completed"
    },
    "tags": []
   },
   "outputs": [],
   "source": [
    "def knapsack01SpaceOptimized(N: int, max_weight: int, weights: list[int], values: list[int]) -> int:\n",
    "    dp: list[int] = [0 for j in range(max_weight + 1)]\n",
    "    for i in range(N - 1, -1, -1):\n",
    "        next_dp: list[int] = []\n",
    "        for total_weight in range(max_weight + 1):\n",
    "            next_dp.append(dp[total_weight]) # No pick\n",
    "            if weights[i] + total_weight <= max_weight:\n",
    "                next_dp[-1] = max(next_dp[-1], values[i] + dp[weights[i] + total_weight]) # Pick\n",
    "        dp = next_dp\n",
    "\n",
    "    return dp[0]\n",
    "\n",
    "# Testing the solution\n",
    "assert knapsack01SpaceOptimized(4, 5, [1,2,4,5], [5,4,8,6]) == 13\n",
    "assert knapsack01SpaceOptimized(3, 8, [3,4,5], [30,50,60]) == 90"
   ]
  },
  {
   "cell_type": "code",
   "execution_count": 45,
   "id": "b6d1c8d2",
   "metadata": {
    "execution": {
     "iopub.execute_input": "2024-05-18T13:43:59.649368Z",
     "iopub.status.busy": "2024-05-18T13:43:59.649174Z",
     "iopub.status.idle": "2024-05-18T13:43:59.653712Z",
     "shell.execute_reply": "2024-05-18T13:43:59.653288Z"
    },
    "lines_to_next_cell": 1,
    "papermill": {
     "duration": 0.022974,
     "end_time": "2024-05-18T13:43:59.654765",
     "exception": false,
     "start_time": "2024-05-18T13:43:59.631791",
     "status": "completed"
    },
    "tags": []
   },
   "outputs": [],
   "source": [
    "def knapsack01(N: int, max_weight: int, weights: list[int], values: list[int]) -> int:\n",
    "    \"\"\"\n",
    "    Space optimization to use just a single row. This is possible because\n",
    "    in the inner loop we are moving from the left to right and at each iteration\n",
    "    we are using the element to the right, we have no need of the element to the left\n",
    "\n",
    "    [x . . . . . . * . . . ]\n",
    "    [. x . . . * . . . . . ]\n",
    "    [. . x . . . . . * . . ]\n",
    "\n",
    "    At the inner loop we had required the value of the element to the left, this would not have been possible.\n",
    "    \"\"\"\n",
    "    dp: list[int] = [0 for j in range(max_weight + 1)]\n",
    "    for i in range(N - 1, -1, -1):\n",
    "        for total_weight in range(max_weight + 1):\n",
    "            if weights[i] + total_weight <= max_weight:\n",
    "                dp[total_weight] = max(dp[total_weight], values[i] + dp[total_weight + weights[i]])\n",
    "\n",
    "    return dp[0]\n",
    "\n",
    "# Testing the solution\n",
    "assert knapsack01(4, 5, [1,2,4,5], [5,4,8,6]) == 13\n",
    "assert knapsack01(3, 8, [3,4,5], [30,50,60]) == 90"
   ]
  },
  {
   "cell_type": "markdown",
   "id": "71d6293a",
   "metadata": {
    "papermill": {
     "duration": 0.016638,
     "end_time": "2024-05-18T13:43:59.688180",
     "exception": false,
     "start_time": "2024-05-18T13:43:59.671542",
     "status": "completed"
    },
    "tags": []
   },
   "source": [
    "Video link: https://youtu.be/myPeWb3Y68A?si=9z1QMQXCYmEcFEW4\n",
    "Coin Change: https://leetcode.com/problems/coin-change/submissions/1255049748\n",
    "Logic: Whenever there is an infinite / unlimited supply, not_take would update the index, <br>\n",
    "take would not update index - it would stay where it is because we might end up picking it more than once"
   ]
  },
  {
   "cell_type": "code",
   "execution_count": 46,
   "id": "93a2c45e",
   "metadata": {
    "execution": {
     "iopub.execute_input": "2024-05-18T13:43:59.723002Z",
     "iopub.status.busy": "2024-05-18T13:43:59.722520Z",
     "iopub.status.idle": "2024-05-18T13:43:59.727426Z",
     "shell.execute_reply": "2024-05-18T13:43:59.726878Z"
    },
    "lines_to_next_cell": 1,
    "papermill": {
     "duration": 0.023621,
     "end_time": "2024-05-18T13:43:59.728539",
     "exception": false,
     "start_time": "2024-05-18T13:43:59.704918",
     "status": "completed"
    },
    "tags": []
   },
   "outputs": [],
   "source": [
    "def coinChangeMemoization(coins: list[int], amount: int) -> int:\n",
    "    \"\"\"\n",
    "    Without memoization, the time complexity is roughly 2 ** N. It would be greater than\n",
    "    2 ** N since at each index for take we are still staying at the same index.\n",
    "\n",
    "    With memoization, the time complexity is O(N x amount)\n",
    "    \"\"\"\n",
    "    @functools.cache\n",
    "    def backtrack(i: int, total: int) -> float:\n",
    "        if total == amount:\n",
    "            return 0\n",
    "        elif i == N or total > amount:\n",
    "            return math.inf\n",
    "        else:\n",
    "            return min(1 + backtrack(i, total + coins[i]), backtrack(i + 1, total))\n",
    "\n",
    "    N = len(coins)\n",
    "    result = backtrack(0, 0)\n",
    "    return int(result) if not math.isinf(result) else -1\n",
    "\n",
    "# Testing the solution\n",
    "assert coinChangeMemoization([1,2,5], 11) == 3\n",
    "assert coinChangeMemoization([2], 3) == -1"
   ]
  },
  {
   "cell_type": "code",
   "execution_count": 47,
   "id": "eb1b662f",
   "metadata": {
    "execution": {
     "iopub.execute_input": "2024-05-18T13:43:59.762934Z",
     "iopub.status.busy": "2024-05-18T13:43:59.762569Z",
     "iopub.status.idle": "2024-05-18T13:43:59.767628Z",
     "shell.execute_reply": "2024-05-18T13:43:59.767134Z"
    },
    "lines_to_next_cell": 1,
    "papermill": {
     "duration": 0.023395,
     "end_time": "2024-05-18T13:43:59.768717",
     "exception": false,
     "start_time": "2024-05-18T13:43:59.745322",
     "status": "completed"
    },
    "tags": []
   },
   "outputs": [],
   "source": [
    "def coinChangeTabulation(coins: list[int], amount: int) -> int:\n",
    "    N = len(coins)\n",
    "    dp: list[list[float]] = [[math.inf if j < amount else 0 for j in range(amount + 1)] for i in range(N + 1)]\n",
    "    for i in range(N - 1, -1, -1):\n",
    "        for total in range(amount, -1, -1):\n",
    "            if total + coins[i] <= amount:\n",
    "                dp[i][total] = min(dp[i + 1][total], 1 + dp[i][total + coins[i]])\n",
    "            else:\n",
    "                dp[i][total] = dp[i + 1][total]\n",
    "\n",
    "    result = dp[0][0]\n",
    "    return int(result) if not math.isinf(result) else -1\n",
    "\n",
    "# Testing the solution\n",
    "assert coinChangeTabulation([1,2,5], 11) == 3\n",
    "assert coinChangeTabulation([2], 3) == -1"
   ]
  },
  {
   "cell_type": "code",
   "execution_count": 48,
   "id": "ddd554c7",
   "metadata": {
    "execution": {
     "iopub.execute_input": "2024-05-18T13:43:59.803258Z",
     "iopub.status.busy": "2024-05-18T13:43:59.802931Z",
     "iopub.status.idle": "2024-05-18T13:43:59.807764Z",
     "shell.execute_reply": "2024-05-18T13:43:59.807239Z"
    },
    "lines_to_next_cell": 1,
    "papermill": {
     "duration": 0.02317,
     "end_time": "2024-05-18T13:43:59.808888",
     "exception": false,
     "start_time": "2024-05-18T13:43:59.785718",
     "status": "completed"
    },
    "tags": []
   },
   "outputs": [],
   "source": [
    "def coinChangeSpaceOptimized(coins: list[int], amount: int) -> int:\n",
    "    N = len(coins)\n",
    "    dp: list[float] = [math.inf if j < amount else 0 for j in range(amount + 1)]\n",
    "    for i in range(N - 1, -1, -1):\n",
    "        for total in range(amount, -1, -1):\n",
    "            if total + coins[i] <= amount:\n",
    "                dp[total] = min(dp[total], 1 + dp[total + coins[i]])\n",
    "\n",
    "    result = dp[0]\n",
    "    return int(result) if not math.isinf(result) else -1\n",
    "\n",
    "# Testing the solution\n",
    "assert coinChangeSpaceOptimized([1,2,5], 11) == 3\n",
    "assert coinChangeSpaceOptimized([2], 3) == -1"
   ]
  },
  {
   "cell_type": "markdown",
   "id": "3e5fb6cb",
   "metadata": {
    "papermill": {
     "duration": 0.016715,
     "end_time": "2024-05-18T13:43:59.842490",
     "exception": false,
     "start_time": "2024-05-18T13:43:59.825775",
     "status": "completed"
    },
    "tags": []
   },
   "source": [
    "Video Link: https://youtu.be/b3GD8263-PQ?si=CNz-raf3oynQQsPJ\n",
    "Target Sum: https://leetcode.com/problems/target-sum/"
   ]
  },
  {
   "cell_type": "code",
   "execution_count": 49,
   "id": "18960ee2",
   "metadata": {
    "execution": {
     "iopub.execute_input": "2024-05-18T13:43:59.876664Z",
     "iopub.status.busy": "2024-05-18T13:43:59.876211Z",
     "iopub.status.idle": "2024-05-18T13:43:59.880294Z",
     "shell.execute_reply": "2024-05-18T13:43:59.879860Z"
    },
    "lines_to_next_cell": 1,
    "papermill": {
     "duration": 0.022283,
     "end_time": "2024-05-18T13:43:59.881355",
     "exception": false,
     "start_time": "2024-05-18T13:43:59.859072",
     "status": "completed"
    },
    "tags": []
   },
   "outputs": [],
   "source": [
    "# https://leetcode.com/problems/target-sum/submissions/1255976702\n",
    "def findTargetSumWaysMemo(nums: list[int], target: int) -> int:\n",
    "    @functools.cache\n",
    "    def backtrack(i: int, total: int) -> int:\n",
    "        if i == N:\n",
    "            return int(total == target)\n",
    "        else:\n",
    "            return backtrack(i + 1, total - nums[i]) + backtrack(i + 1, total + nums[i])\n",
    "\n",
    "    N = len(nums)\n",
    "    return backtrack(0, 0)\n",
    "\n",
    "# Testing the solution\n",
    "assert findTargetSumWaysMemo([1,1,1,1,1], 3) == 5\n",
    "assert findTargetSumWaysMemo([1], 2) == 0"
   ]
  },
  {
   "cell_type": "code",
   "execution_count": 50,
   "id": "8420cf7b",
   "metadata": {
    "execution": {
     "iopub.execute_input": "2024-05-18T13:43:59.917764Z",
     "iopub.status.busy": "2024-05-18T13:43:59.917252Z",
     "iopub.status.idle": "2024-05-18T13:43:59.922635Z",
     "shell.execute_reply": "2024-05-18T13:43:59.922159Z"
    },
    "lines_to_next_cell": 1,
    "papermill": {
     "duration": 0.025527,
     "end_time": "2024-05-18T13:43:59.923763",
     "exception": false,
     "start_time": "2024-05-18T13:43:59.898236",
     "status": "completed"
    },
    "tags": []
   },
   "outputs": [],
   "source": [
    "def findTargetSumWaysTab(nums: list[int], target: int) -> int:\n",
    "    N: int = len(nums)\n",
    "    boundary: int = sum(nums)\n",
    "    dp: list[list[int]] = [[0 if i < N or j != target else 1 for j in range(-boundary, boundary + 1)] for i in range(N + 1)]\n",
    "\n",
    "    for i in range(N - 1, -1, -1):\n",
    "        for total in range(-boundary, boundary + 1):\n",
    "            if total - nums[i] + boundary >= 0:\n",
    "                dp[i][total + boundary] += dp[i + 1][total - nums[i] + boundary]\n",
    "            if total + nums[i] + boundary <= 2 * boundary:\n",
    "                dp[i][total + boundary] += dp[i + 1][total + nums[i] + boundary]\n",
    "\n",
    "    return dp[0][boundary]\n",
    "\n",
    "# Testing the solution\n",
    "assert findTargetSumWaysTab([1,1,1,1,1], 3) == 5\n",
    "assert findTargetSumWaysTab([1], 2) == 0"
   ]
  },
  {
   "cell_type": "code",
   "execution_count": 51,
   "id": "7c66396e",
   "metadata": {
    "execution": {
     "iopub.execute_input": "2024-05-18T13:43:59.958359Z",
     "iopub.status.busy": "2024-05-18T13:43:59.958193Z",
     "iopub.status.idle": "2024-05-18T13:43:59.963107Z",
     "shell.execute_reply": "2024-05-18T13:43:59.962662Z"
    },
    "lines_to_next_cell": 1,
    "papermill": {
     "duration": 0.023479,
     "end_time": "2024-05-18T13:43:59.964172",
     "exception": false,
     "start_time": "2024-05-18T13:43:59.940693",
     "status": "completed"
    },
    "tags": []
   },
   "outputs": [],
   "source": [
    "# https://leetcode.com/problems/target-sum/submissions/1255976333/\n",
    "def findTargetSumWays(nums: list[int], target: int) -> int:\n",
    "    N = len(nums)\n",
    "    boundary: int = sum(nums)\n",
    "    dp: list[int] = [0 if j != target else 1 for j in range(-boundary, boundary + 1)]\n",
    "\n",
    "    for i in range(N - 1, -1, -1):\n",
    "        next_dp: list[int] = []\n",
    "        for total in range(-boundary, boundary + 1):\n",
    "            next_dp.append(0)\n",
    "            if total + nums[i] + boundary <= 2 * boundary:\n",
    "                next_dp[-1] += dp[total + nums[i] + boundary]\n",
    "            if total - nums[i] + boundary >= 0:\n",
    "                next_dp[-1] += dp[total - nums[i] + boundary]\n",
    "\n",
    "        dp = next_dp\n",
    "\n",
    "    return dp[boundary]\n",
    "\n",
    "# Testing the solution\n",
    "assert findTargetSumWays([1,1,1,1,1], 3) == 5\n",
    "assert findTargetSumWays([1], 2) == 0"
   ]
  },
  {
   "cell_type": "code",
   "execution_count": 52,
   "id": "8f0e96f1",
   "metadata": {
    "execution": {
     "iopub.execute_input": "2024-05-18T13:43:59.998807Z",
     "iopub.status.busy": "2024-05-18T13:43:59.998449Z",
     "iopub.status.idle": "2024-05-18T13:44:00.004602Z",
     "shell.execute_reply": "2024-05-18T13:44:00.004028Z"
    },
    "lines_to_next_cell": 1,
    "papermill": {
     "duration": 0.024709,
     "end_time": "2024-05-18T13:44:00.005803",
     "exception": false,
     "start_time": "2024-05-18T13:43:59.981094",
     "status": "completed"
    },
    "tags": []
   },
   "outputs": [],
   "source": [
    "# Striver's approach: Use logic from 'Count Paritions with given difference'\n",
    "# https://leetcode.com/problems/target-sum/submissions/1255993345/\n",
    "def findTargetSumWaysStriver(nums: list[int], target: int) -> int:\n",
    "    \"\"\"\n",
    "    We need to count the number of subsets s1, s2 such that s1 - s2 = target.\n",
    "    s1 = (S + d) / 2\n",
    "    \"\"\"\n",
    "\n",
    "    S = sum(nums)\n",
    "    s1 = (S + target) / 2\n",
    "    s2 = S - s1\n",
    "\n",
    "    # Edge case - target is negative.\n",
    "    if s1 < 0:\n",
    "        s1 = s2\n",
    "\n",
    "    count = 0\n",
    "    if int(s1) == s1:\n",
    "        s1 = int(s1)\n",
    "        zero_count = nums.count(0)\n",
    "        nums = list(filter(lambda x: x != 0, nums))\n",
    "        N = len(nums)\n",
    "        dp: list[int] = [0 if j < s1 else 1 for j in range(s1 + 1)]\n",
    "        for i in range(N - 1, -1, -1):\n",
    "            for total in range(s1 + 1):\n",
    "                if total + nums[i] <= s1:\n",
    "                    dp[total] += dp[total + nums[i]]\n",
    "\n",
    "        count = dp[0] * (2 ** zero_count)\n",
    "\n",
    "    return count\n",
    "\n",
    "# Testing the solution\n",
    "assert findTargetSumWaysStriver([1,1,1,1,1], 3) == 5\n",
    "assert findTargetSumWaysStriver([1,0,0], 1) == 4\n",
    "assert findTargetSumWaysStriver([100], -200) == 0\n",
    "assert findTargetSumWaysStriver([100], -100) == 1"
   ]
  },
  {
   "cell_type": "markdown",
   "id": "54ee6894",
   "metadata": {
    "papermill": {
     "duration": 0.016771,
     "end_time": "2024-05-18T13:44:00.040412",
     "exception": false,
     "start_time": "2024-05-18T13:44:00.023641",
     "status": "completed"
    },
    "tags": []
   },
   "source": [
    "Video link: https://youtu.be/HgyouUi11zk?si=tgZcsIOYwWogacGr\n",
    "Coin Change II: https://leetcode.com/problems/coin-change-ii/description/"
   ]
  },
  {
   "cell_type": "code",
   "execution_count": 53,
   "id": "a21ca5a5",
   "metadata": {
    "execution": {
     "iopub.execute_input": "2024-05-18T13:44:00.075146Z",
     "iopub.status.busy": "2024-05-18T13:44:00.074674Z",
     "iopub.status.idle": "2024-05-18T13:44:00.079078Z",
     "shell.execute_reply": "2024-05-18T13:44:00.078632Z"
    },
    "lines_to_next_cell": 1,
    "papermill": {
     "duration": 0.022844,
     "end_time": "2024-05-18T13:44:00.080087",
     "exception": false,
     "start_time": "2024-05-18T13:44:00.057243",
     "status": "completed"
    },
    "tags": []
   },
   "outputs": [],
   "source": [
    "def coinChangeMemo(amount: int, coins: list[int]):\n",
    "    \"\"\"\n",
    "    Time: ~O(N x amount), Space: O(N x amount) + O(amount)\n",
    "    \"\"\"\n",
    "\n",
    "    @functools.cache\n",
    "    def backtrack(i: int, total: int) -> int:\n",
    "        if total == amount:\n",
    "            return 1\n",
    "        elif total > amount or i == N:\n",
    "            return 0\n",
    "        else:\n",
    "            return backtrack(i, total + coins[i]) + backtrack(i + 1, total)\n",
    "\n",
    "    N = len(coins)\n",
    "    return backtrack(0, 0)\n",
    "\n",
    "# Testing the solution\n",
    "assert coinChangeMemo(5, [1,2,5]) == 4\n",
    "assert coinChangeMemo(3, [2]) == 0"
   ]
  },
  {
   "cell_type": "code",
   "execution_count": 54,
   "id": "b74d7fa9",
   "metadata": {
    "execution": {
     "iopub.execute_input": "2024-05-18T13:44:00.114557Z",
     "iopub.status.busy": "2024-05-18T13:44:00.114239Z",
     "iopub.status.idle": "2024-05-18T13:44:00.118250Z",
     "shell.execute_reply": "2024-05-18T13:44:00.117814Z"
    },
    "lines_to_next_cell": 1,
    "papermill": {
     "duration": 0.022259,
     "end_time": "2024-05-18T13:44:00.119269",
     "exception": false,
     "start_time": "2024-05-18T13:44:00.097010",
     "status": "completed"
    },
    "tags": []
   },
   "outputs": [],
   "source": [
    "# https://leetcode.com/problems/coin-change-ii/submissions/1256028931\n",
    "def coinChangeTab(amount: int, coins: list[int]):\n",
    "    N = len(coins)\n",
    "    dp: list[int] = [0 if j != amount else 1 for j in range(amount + 1)]\n",
    "    for i in range(N - 1, -1, -1):\n",
    "        for total in range(amount, -1, -1):\n",
    "            if total + coins[i] <= amount:\n",
    "                dp[total] += dp[total + coins[i]]\n",
    "\n",
    "    return dp[0]\n",
    "\n",
    "# Testing the solution\n",
    "assert coinChangeTab(5, [1,2,5]) == 4\n",
    "assert coinChangeTab(3, [2]) == 0"
   ]
  },
  {
   "cell_type": "markdown",
   "id": "b0b593c4",
   "metadata": {
    "papermill": {
     "duration": 0.016559,
     "end_time": "2024-05-18T13:44:00.152627",
     "exception": false,
     "start_time": "2024-05-18T13:44:00.136068",
     "status": "completed"
    },
    "tags": []
   },
   "source": [
    "Video Link: https://youtu.be/OgvOZ6OrJoY?si=rcbpx6IrU_SvQ4v1\n",
    "Unbounded Knapsack"
   ]
  },
  {
   "cell_type": "code",
   "execution_count": 55,
   "id": "5fc22211",
   "metadata": {
    "execution": {
     "iopub.execute_input": "2024-05-18T13:44:00.187038Z",
     "iopub.status.busy": "2024-05-18T13:44:00.186771Z",
     "iopub.status.idle": "2024-05-18T13:44:00.191083Z",
     "shell.execute_reply": "2024-05-18T13:44:00.190653Z"
    },
    "lines_to_next_cell": 1,
    "papermill": {
     "duration": 0.022657,
     "end_time": "2024-05-18T13:44:00.192149",
     "exception": false,
     "start_time": "2024-05-18T13:44:00.169492",
     "status": "completed"
    },
    "tags": []
   },
   "outputs": [],
   "source": [
    "def unboundedKnapSackMemo(N: int, max_weight: int, values: list[int], weights: list[int]) -> int:\n",
    "     @functools.cache\n",
    "     def backtrack(i: int, total_weight: int) -> float:\n",
    "         if total_weight > max_weight:\n",
    "             return -math.inf\n",
    "         elif i == N:\n",
    "             return 0\n",
    "         else:\n",
    "             return max(values[i] + backtrack(i, total_weight + weights[i]), backtrack(i + 1, total_weight))\n",
    "\n",
    "     return int(backtrack(0, 0))\n",
    "\n",
    "# Testing the solution\n",
    "assert unboundedKnapSackMemo(2, 3, [1, 1], [2, 1]) == 3\n",
    "assert unboundedKnapSackMemo(4, 8, [6, 1, 7, 7], [1, 3, 4, 5]) == 48"
   ]
  },
  {
   "cell_type": "code",
   "execution_count": 56,
   "id": "3377312f",
   "metadata": {
    "execution": {
     "iopub.execute_input": "2024-05-18T13:44:00.226662Z",
     "iopub.status.busy": "2024-05-18T13:44:00.226499Z",
     "iopub.status.idle": "2024-05-18T13:44:00.230896Z",
     "shell.execute_reply": "2024-05-18T13:44:00.230475Z"
    },
    "lines_to_next_cell": 1,
    "papermill": {
     "duration": 0.022823,
     "end_time": "2024-05-18T13:44:00.231916",
     "exception": false,
     "start_time": "2024-05-18T13:44:00.209093",
     "status": "completed"
    },
    "tags": []
   },
   "outputs": [],
   "source": [
    "def unboundedKnapSackTab(N: int, max_weight: int, values: list[int], weights: list[int]) -> int:\n",
    "    dp: list[int] = [0 for j in range(max_weight + 1)]\n",
    "    for i in range(N - 1, -1, -1):\n",
    "        for total in range(max_weight, -1, -1):\n",
    "            if total + weights[i] <= max_weight:\n",
    "                dp[total] = max(dp[total], values[i] + dp[total + weights[i]])\n",
    "\n",
    "    return dp[0]\n",
    "\n",
    "# Testing the solution\n",
    "assert unboundedKnapSackTab(2, 3, [1, 1], [2, 1]) == 3\n",
    "assert unboundedKnapSackTab(4, 8, [6, 1, 7, 7], [1, 3, 4, 5]) == 48"
   ]
  },
  {
   "cell_type": "markdown",
   "id": "2d0c40ff",
   "metadata": {
    "papermill": {
     "duration": 0.016928,
     "end_time": "2024-05-18T13:44:00.280469",
     "exception": false,
     "start_time": "2024-05-18T13:44:00.263541",
     "status": "completed"
    },
    "tags": []
   },
   "source": [
    "Video Link: https://youtu.be/mO8XpGoJwuo?si=uzBPZ8auw70L9WCm\n",
    "Rod cutting Problem"
   ]
  },
  {
   "cell_type": "code",
   "execution_count": 57,
   "id": "aee57cd8",
   "metadata": {
    "execution": {
     "iopub.execute_input": "2024-05-18T13:44:00.315564Z",
     "iopub.status.busy": "2024-05-18T13:44:00.315046Z",
     "iopub.status.idle": "2024-05-18T13:44:00.320244Z",
     "shell.execute_reply": "2024-05-18T13:44:00.319701Z"
    },
    "lines_to_next_cell": 1,
    "papermill": {
     "duration": 0.024066,
     "end_time": "2024-05-18T13:44:00.321433",
     "exception": false,
     "start_time": "2024-05-18T13:44:00.297367",
     "status": "completed"
    },
    "tags": []
   },
   "outputs": [],
   "source": [
    "def cutRodMemo(price: list[int], N: int) -> int:\n",
    "    @functools.cache\n",
    "    def backtrack(i: int, length: int) -> float:\n",
    "        if length == 0:\n",
    "            return 0\n",
    "        elif i == N or length < 0:\n",
    "            return -math.inf\n",
    "        else:\n",
    "            return max(price[i] + backtrack(i, length - i - 1), backtrack(i + 1, length))\n",
    "\n",
    "    result = backtrack(0, N)\n",
    "    return int(result)\n",
    "\n",
    "# Testing the solution\n",
    "assert cutRodMemo([1, 5, 8, 9, 10, 17, 17, 20], 8) == 22\n",
    "assert cutRodMemo([3, 5, 8, 9, 10, 17, 17, 20], 8) == 24"
   ]
  },
  {
   "cell_type": "code",
   "execution_count": 58,
   "id": "bcdf21dd",
   "metadata": {
    "execution": {
     "iopub.execute_input": "2024-05-18T13:44:00.356000Z",
     "iopub.status.busy": "2024-05-18T13:44:00.355583Z",
     "iopub.status.idle": "2024-05-18T13:44:00.360274Z",
     "shell.execute_reply": "2024-05-18T13:44:00.359828Z"
    },
    "lines_to_next_cell": 1,
    "papermill": {
     "duration": 0.023056,
     "end_time": "2024-05-18T13:44:00.361378",
     "exception": false,
     "start_time": "2024-05-18T13:44:00.338322",
     "status": "completed"
    },
    "tags": []
   },
   "outputs": [],
   "source": [
    "def cutRodTab(price: list[int], N: int) -> int:\n",
    "    dp: list[float] = [-math.inf if j > 0 else 0 for j in range(N + 1)]\n",
    "    for i in range(N - 1, -1, -1):\n",
    "        for length in range(N + 1):\n",
    "            if length - i - 1 >= 0:\n",
    "                dp[length] = max(dp[length], price[i] + dp[length - i - 1])\n",
    "\n",
    "    return int(dp[N])\n",
    "\n",
    "# Testing the solution\n",
    "assert cutRodTab([1, 5, 8, 9, 10, 17, 17, 20], 8) == 22\n",
    "assert cutRodTab([3, 5, 8, 9, 10, 17, 17, 20], 8) == 24"
   ]
  },
  {
   "cell_type": "markdown",
   "id": "8e8177cc",
   "metadata": {
    "papermill": {
     "duration": 0.016782,
     "end_time": "2024-05-18T13:44:00.395159",
     "exception": false,
     "start_time": "2024-05-18T13:44:00.378377",
     "status": "completed"
    },
    "tags": []
   },
   "source": [
    "Video link: https://youtu.be/NPZn9jBrX8U?si=RNey3xHjlEm1LXyr\n",
    "Longest common subsequences: https://leetcode.com/problems/longest-common-subsequence\n",
    "Naive approach: Generate all subsequences O((2 ** N) x (2 ** M)) and compare common subsequences in both"
   ]
  },
  {
   "cell_type": "code",
   "execution_count": 59,
   "id": "917d5e52",
   "metadata": {
    "execution": {
     "iopub.execute_input": "2024-05-18T13:44:00.429596Z",
     "iopub.status.busy": "2024-05-18T13:44:00.429073Z",
     "iopub.status.idle": "2024-05-18T13:44:00.433952Z",
     "shell.execute_reply": "2024-05-18T13:44:00.433361Z"
    },
    "papermill": {
     "duration": 0.023296,
     "end_time": "2024-05-18T13:44:00.434968",
     "exception": false,
     "start_time": "2024-05-18T13:44:00.411672",
     "status": "completed"
    },
    "tags": []
   },
   "outputs": [],
   "source": [
    "def longestCommonSubsequenceMemo(text1: str, text2: str) -> int:\n",
    "    # Time: O(N x M), Space: O(N x M) + O(M + N)\n",
    "    @functools.cache\n",
    "    def backtrack(i: int, j: int) -> int:\n",
    "        if i == N1 or j == N2:\n",
    "            return 0\n",
    "        elif text1[i] == text2[j]:\n",
    "            return 1 + backtrack(i + 1, j + 1)\n",
    "        else:\n",
    "            return max(backtrack(i + 1, j), backtrack(i, j + 1))\n",
    "\n",
    "    N1, N2 = len(text1), len(text2)\n",
    "    return backtrack(0, 0)\n",
    "\n",
    "# Testing the solution\n",
    "assert longestCommonSubsequenceMemo(\"abcde\", \"ace\") == 3\n",
    "assert longestCommonSubsequenceMemo(\"bsbininm\", \"jmjkbkjkv\") == 1\n",
    "assert longestCommonSubsequenceMemo(\"aaaaaaaaaaaaaaaaaaaaaaaaaaaaaaaaaaa\", \"aaaaaaaaaaaaaaaaaaaaaaaaaaaaaaaaaaaaaaaaaaaaa\") == 35\n",
    "assert longestCommonSubsequenceMemo(\"bl\", \"yby\") == 1"
   ]
  },
  {
   "cell_type": "code",
   "execution_count": 60,
   "id": "30813726",
   "metadata": {
    "execution": {
     "iopub.execute_input": "2024-05-18T13:44:00.469546Z",
     "iopub.status.busy": "2024-05-18T13:44:00.469017Z",
     "iopub.status.idle": "2024-05-18T13:44:00.474447Z",
     "shell.execute_reply": "2024-05-18T13:44:00.474003Z"
    },
    "lines_to_next_cell": 1,
    "papermill": {
     "duration": 0.023778,
     "end_time": "2024-05-18T13:44:00.475481",
     "exception": false,
     "start_time": "2024-05-18T13:44:00.451703",
     "status": "completed"
    },
    "tags": []
   },
   "outputs": [],
   "source": [
    "def longestCommonSubsequenceTab(text1: str, text2: str) -> int:\n",
    "    # Time: O(M x N), Space: O(N x M)\n",
    "    N1, N2 = len(text1), len(text2)\n",
    "    dp: list[list[int]] = [[0 for j in range(N2 + 1)] for i in range(N1 + 1)]\n",
    "    for i in range(N1 - 1, -1, -1):\n",
    "        for j in range(N2 - 1, -1, -1):\n",
    "            if text1[i] == text2[j]:\n",
    "                dp[i][j] = 1 + dp[i + 1][j + 1]\n",
    "            else:\n",
    "                dp[i][j] = max(dp[i + 1][j], dp[i][j + 1])\n",
    "\n",
    "    return dp[0][0]\n",
    "\n",
    "# Testing the solution\n",
    "assert longestCommonSubsequenceTab(\"abcde\", \"ace\") == 3\n",
    "assert longestCommonSubsequenceTab(\"bsbininm\", \"jmjkbkjkv\") == 1\n",
    "assert longestCommonSubsequenceTab(\"aaaaaaaaaaaaaaaaaaaaaaaaaaaaaaaaaaa\", \"aaaaaaaaaaaaaaaaaaaaaaaaaaaaaaaaaaaaaaaaaaaaa\") == 35\n",
    "assert longestCommonSubsequenceTab(\"bl\", \"yby\") == 1"
   ]
  },
  {
   "cell_type": "code",
   "execution_count": 61,
   "id": "e099ef3b",
   "metadata": {
    "execution": {
     "iopub.execute_input": "2024-05-18T13:44:00.509739Z",
     "iopub.status.busy": "2024-05-18T13:44:00.509535Z",
     "iopub.status.idle": "2024-05-18T13:44:00.514483Z",
     "shell.execute_reply": "2024-05-18T13:44:00.513983Z"
    },
    "lines_to_next_cell": 1,
    "papermill": {
     "duration": 0.023533,
     "end_time": "2024-05-18T13:44:00.515813",
     "exception": false,
     "start_time": "2024-05-18T13:44:00.492280",
     "status": "completed"
    },
    "tags": []
   },
   "outputs": [],
   "source": [
    "# https://leetcode.com/problems/longest-common-subsequence/submissions/1256127917\n",
    "def longestCommonSubsequence(text1: str, text2: str) -> int:\n",
    "    # Time: O(M x N), Space: O(N2 + N2)\n",
    "    N1, N2 = len(text1), len(text2)\n",
    "    dp: list[int] = [0 for j in range(N2 + 1)]\n",
    "    for i in range(N1 - 1, -1, -1):\n",
    "        next_dp: list[int] = list(dp)\n",
    "        for j in range(N2 - 1, -1, -1):\n",
    "            if text1[i] == text2[j]:\n",
    "                next_dp[j] = 1 + dp[j + 1]\n",
    "            else:\n",
    "                next_dp[j] = max(dp[j], next_dp[j + 1])\n",
    "\n",
    "        dp = next_dp\n",
    "\n",
    "    return dp[0]\n",
    "\n",
    "# Testing the solution\n",
    "assert longestCommonSubsequence(\"abcde\", \"ace\") == 3\n",
    "assert longestCommonSubsequence(\"bsbininm\", \"jmjkbkjkv\") == 1\n",
    "assert longestCommonSubsequence(\"aaaaaaaaaaaaaaaaaaaaaaaaaaaaaaaaaaa\", \"aaaaaaaaaaaaaaaaaaaaaaaaaaaaaaaaaaaaaaaaaaaaa\") == 35\n",
    "assert longestCommonSubsequence(\"bl\", \"yby\") == 1"
   ]
  },
  {
   "cell_type": "markdown",
   "id": "e01786f1",
   "metadata": {
    "papermill": {
     "duration": 0.016787,
     "end_time": "2024-05-18T13:44:00.549520",
     "exception": false,
     "start_time": "2024-05-18T13:44:00.532733",
     "status": "completed"
    },
    "tags": []
   },
   "source": [
    "Video Link: https://youtu.be/-zI4mrF2Pb4?si=8kICsv0E7jYx6sWn\n",
    "Print longest common subsequece"
   ]
  },
  {
   "cell_type": "code",
   "execution_count": 62,
   "id": "1c0d3fe8",
   "metadata": {
    "execution": {
     "iopub.execute_input": "2024-05-18T13:44:00.583888Z",
     "iopub.status.busy": "2024-05-18T13:44:00.583553Z",
     "iopub.status.idle": "2024-05-18T13:44:00.591250Z",
     "shell.execute_reply": "2024-05-18T13:44:00.590735Z"
    },
    "lines_to_next_cell": 1,
    "papermill": {
     "duration": 0.026126,
     "end_time": "2024-05-18T13:44:00.592334",
     "exception": false,
     "start_time": "2024-05-18T13:44:00.566208",
     "status": "completed"
    },
    "tags": []
   },
   "outputs": [],
   "source": [
    "def all_longest_common_subsequences(text1: str, text2: str) -> list[str]:\n",
    "    \"\"\"\n",
    "    DP grid computes the longest common subseq length given starting pos of text1, text2\n",
    "    We start at -1, -1 on the grid.\n",
    "    If text1[i] == text2[j], we know that the line: 1 + dp[i + 1][j + 1] was executed, there we increment both i, j by 1\n",
    "    If text1[i] != text2[j], either the max came from text1 or text2. If only one max exists, recurse into that else recurse through both\n",
    "\n",
    "    Time: DP grid compute: O(M x N) + Backtracking to find longest common subsequence: O(M + N)\n",
    "    Space: O(M x N)\n",
    "    \"\"\"\n",
    "\n",
    "    N1, N2 = len(text1), len(text2)\n",
    "    dp: list[list[int]] = [[0 for j in range(N2 + 1)] for i in range(N1 + 1)]\n",
    "    for i in range(N1 - 1, -1, -1):\n",
    "        for j in range(N2 - 1, -1, -1):\n",
    "            if text1[i] == text2[j]:\n",
    "                dp[i][j] = 1 + dp[i + 1][j + 1]\n",
    "            else:\n",
    "                dp[i][j] = max(dp[i + 1][j], dp[i][j + 1])\n",
    "\n",
    "    def backtrack(i: int, j: int):\n",
    "        if dp[i][j] == 0:\n",
    "            result.add(''.join(stack))\n",
    "            return\n",
    "        elif text1[i] == text2[j]:\n",
    "            stack.append(text1[i])\n",
    "            backtrack(i + 1, j + 1)\n",
    "            stack.pop()\n",
    "        else:\n",
    "            max_ = max(dp[i + 1][j], dp[i][j + 1])\n",
    "            if dp[i + 1][j] == max_:\n",
    "                backtrack(i + 1, j)\n",
    "            if dp[i][j + 1] == max_:\n",
    "                backtrack(i, j + 1)\n",
    "\n",
    "    result: set[str] = set()\n",
    "    stack: list[str] = []\n",
    "    backtrack(i, j)\n",
    "    return sorted(result)\n",
    "\n",
    "# Tesitng the solution\n",
    "assert all_longest_common_subsequences(\"abcde\", \"ace\") == ['ace']\n",
    "assert all_longest_common_subsequences(\"abaaa\", \"baabaca\") == ['aaaa', 'abaa', 'baaa']"
   ]
  },
  {
   "cell_type": "markdown",
   "id": "1b3c52ec",
   "metadata": {
    "papermill": {
     "duration": 0.016799,
     "end_time": "2024-05-18T13:44:00.626246",
     "exception": false,
     "start_time": "2024-05-18T13:44:00.609447",
     "status": "completed"
    },
    "tags": []
   },
   "source": [
    "Video Link: https://youtu.be/_wP9mWNPL5w?si=UHRuFgDl6a5g8OlH\n",
    "Longest common Substring"
   ]
  },
  {
   "cell_type": "code",
   "execution_count": 63,
   "id": "95b817c0",
   "metadata": {
    "execution": {
     "iopub.execute_input": "2024-05-18T13:44:00.660922Z",
     "iopub.status.busy": "2024-05-18T13:44:00.660467Z",
     "iopub.status.idle": "2024-05-18T13:44:00.665076Z",
     "shell.execute_reply": "2024-05-18T13:44:00.664660Z"
    },
    "lines_to_next_cell": 1,
    "papermill": {
     "duration": 0.023064,
     "end_time": "2024-05-18T13:44:00.666171",
     "exception": false,
     "start_time": "2024-05-18T13:44:00.643107",
     "status": "completed"
    },
    "tags": []
   },
   "outputs": [],
   "source": [
    "def longestCommonSubstrTab(text1: str, text2: str) -> int:\n",
    "    \"\"\"\n",
    "    Same code as longest common subsequence but with a slight modification.\n",
    "    Here we reset the dp table value to 0 if text1[i] != text2[j] instead of getting the max of dp[i + 1][j] or dp[i][j + 1] since we are not allowed non consequetive values.\n",
    "\n",
    "    Time: O(N1 x N2), Space: O(N1 x N2)\n",
    "    \"\"\"\n",
    "    N1, N2 = len(text1), len(text2)\n",
    "    dp: list[list[int]] = [[0 for j in range(N2 + 1)] for i in range(N1 + 1)]\n",
    "    max_length = 0\n",
    "    for i in range(N1 - 1, -1, -1):\n",
    "        for j in range(N2 - 1, -1, -1):\n",
    "            if text1[i] == text2[j]:\n",
    "                dp[i][j] = dp[i + 1][j + 1] + 1\n",
    "                max_length = max(max_length, dp[i][j])\n",
    "\n",
    "    return max_length\n",
    "\n",
    "# Testing the solution\n",
    "assert longestCommonSubstrTab(\"ABCDGH\", \"ACDGHR\") == 4\n",
    "assert longestCommonSubstrTab(\"ABC\", \"ACB\") == 1"
   ]
  },
  {
   "cell_type": "code",
   "execution_count": 64,
   "id": "f32221a7",
   "metadata": {
    "execution": {
     "iopub.execute_input": "2024-05-18T13:44:00.701500Z",
     "iopub.status.busy": "2024-05-18T13:44:00.701008Z",
     "iopub.status.idle": "2024-05-18T13:44:00.705868Z",
     "shell.execute_reply": "2024-05-18T13:44:00.705356Z"
    },
    "lines_to_next_cell": 1,
    "papermill": {
     "duration": 0.023608,
     "end_time": "2024-05-18T13:44:00.706932",
     "exception": false,
     "start_time": "2024-05-18T13:44:00.683324",
     "status": "completed"
    },
    "tags": []
   },
   "outputs": [],
   "source": [
    "def longestCommonSubstr(text1: str, text2: str) -> int:\n",
    "    \"\"\"Time: O(N1 x N2), Space: O(N2)\"\"\"\n",
    "    N1, N2 = len(text1), len(text2)\n",
    "    dp: list[int] = [0 for j in range(N2 + 1)]\n",
    "    max_length = 0\n",
    "    for i in range(N1 - 1, -1, -1):\n",
    "        next_dp: list[int] = [0]\n",
    "        for j in range(N2 - 1, -1, -1):\n",
    "            if text1[i] == text2[j]:\n",
    "                next_dp.append(1 + dp[j + 1])\n",
    "                max_length = max(max_length, next_dp[-1])\n",
    "            else:\n",
    "                next_dp.append(0)\n",
    "\n",
    "        dp = list(reversed(next_dp))\n",
    "\n",
    "    return max_length\n",
    "\n",
    "# Testing the solution\n",
    "assert longestCommonSubstr(\"ABCDGH\", \"ACDGHR\") == 4\n",
    "assert longestCommonSubstr(\"ABC\", \"ACB\") == 1"
   ]
  },
  {
   "cell_type": "markdown",
   "id": "32bd7ea7",
   "metadata": {
    "papermill": {
     "duration": 0.016618,
     "end_time": "2024-05-18T13:44:00.740369",
     "exception": false,
     "start_time": "2024-05-18T13:44:00.723751",
     "status": "completed"
    },
    "tags": []
   },
   "source": [
    "Video Link: https://youtu.be/6i_T5kkfv4A?si=3pJmCMahWgxxnGRq\n",
    "Longest Palindromic Subsequence"
   ]
  },
  {
   "cell_type": "code",
   "execution_count": 65,
   "id": "d0a53967",
   "metadata": {
    "execution": {
     "iopub.execute_input": "2024-05-18T13:44:00.775205Z",
     "iopub.status.busy": "2024-05-18T13:44:00.774796Z",
     "iopub.status.idle": "2024-05-18T13:44:00.779255Z",
     "shell.execute_reply": "2024-05-18T13:44:00.778752Z"
    },
    "lines_to_next_cell": 1,
    "papermill": {
     "duration": 0.023398,
     "end_time": "2024-05-18T13:44:00.780428",
     "exception": false,
     "start_time": "2024-05-18T13:44:00.757030",
     "status": "completed"
    },
    "tags": []
   },
   "outputs": [],
   "source": [
    "# https://leetcode.com/problems/longest-palindromic-subsequence/submissions/1256744931\n",
    "def longestPalindromeSubseqMemo(text: str) -> int:\n",
    "    @functools.cache\n",
    "    def backtrack(i: int, j: int) -> int:\n",
    "        if i >= j:\n",
    "            return int(i == j)\n",
    "        elif text[i] == text[j]:\n",
    "            return 2 + backtrack(i + 1, j - 1)\n",
    "        else:\n",
    "            return max(backtrack(i + 1, j), backtrack(i, j - 1))\n",
    "\n",
    "    N = len(text)\n",
    "    result = backtrack(0, N - 1)\n",
    "    return result\n",
    "\n",
    "# Testing the solution\n",
    "assert longestPalindromeSubseqMemo(\"bbbab\") == 4\n",
    "assert longestPalindromeSubseqMemo(\"cbbd\") == 2"
   ]
  },
  {
   "cell_type": "code",
   "execution_count": 66,
   "id": "c5612366",
   "metadata": {
    "execution": {
     "iopub.execute_input": "2024-05-18T13:44:00.815065Z",
     "iopub.status.busy": "2024-05-18T13:44:00.814666Z",
     "iopub.status.idle": "2024-05-18T13:44:00.819390Z",
     "shell.execute_reply": "2024-05-18T13:44:00.818874Z"
    },
    "lines_to_next_cell": 1,
    "papermill": {
     "duration": 0.023037,
     "end_time": "2024-05-18T13:44:00.820470",
     "exception": false,
     "start_time": "2024-05-18T13:44:00.797433",
     "status": "completed"
    },
    "tags": []
   },
   "outputs": [],
   "source": [
    "def longestPalindromeSubseqTab(text: str) -> int:\n",
    "    N = len(text)\n",
    "    dp: list[list[int]] = [[0 if j != (N - 1) / 2 else 1 for j in range(N + 1)] for i in range(N + 1)]\n",
    "    for i in range(N - 1, -1, -1):\n",
    "        for j in range(N):\n",
    "            if i >= j:\n",
    "                dp[i][j] = int(i == j)\n",
    "            elif text[i] == text[j]:\n",
    "                dp[i][j] = 2 + dp[i + 1][j - 1]\n",
    "            else:\n",
    "                dp[i][j] = max(dp[i + 1][j], dp[i][j - 1])\n",
    "\n",
    "    return dp[0][N - 1]\n",
    "\n",
    "# Testing the solution\n",
    "assert longestPalindromeSubseqTab(\"bbbab\") == 4\n",
    "assert longestPalindromeSubseqTab(\"cbbd\") == 2"
   ]
  },
  {
   "cell_type": "code",
   "execution_count": 67,
   "id": "a74fa1d5",
   "metadata": {
    "execution": {
     "iopub.execute_input": "2024-05-18T13:44:00.854943Z",
     "iopub.status.busy": "2024-05-18T13:44:00.854660Z",
     "iopub.status.idle": "2024-05-18T13:44:00.859369Z",
     "shell.execute_reply": "2024-05-18T13:44:00.858923Z"
    },
    "lines_to_next_cell": 1,
    "papermill": {
     "duration": 0.023232,
     "end_time": "2024-05-18T13:44:00.860493",
     "exception": false,
     "start_time": "2024-05-18T13:44:00.837261",
     "status": "completed"
    },
    "tags": []
   },
   "outputs": [],
   "source": [
    "# https://leetcode.com/problems/longest-palindromic-subsequence/submissions/1256759252\n",
    "def longestPalindromeSubseq(text: str) -> int:\n",
    "    N = len(text)\n",
    "    dp: list[int] = [0 if j != (N - 1) / 2 else 1 for j in range(N + 1)]\n",
    "    for i in range(N - 1, -1, -1):\n",
    "        next_dp: list[int] = []\n",
    "        for j in range(N):\n",
    "            if i >= j:\n",
    "                next_dp.append(int(i == j))\n",
    "            elif text[i] == text[j]:\n",
    "                next_dp.append(2 + dp[j - 1])\n",
    "            else:\n",
    "                next_dp.append(max(dp[j], next_dp[-1]))\n",
    "\n",
    "        # We run the inner loop for N iterations, dp however has a length of N + 1\n",
    "        # Hence we add 0 in the end to make sure that the values are consistent of DP compute\n",
    "        # We could make this simpler by initializing next_dp as list(dp), but that would\n",
    "        # be wasted O(N) runtime.\n",
    "        next_dp.append(0)\n",
    "        dp = next_dp\n",
    "\n",
    "    return dp[N - 1]\n",
    "\n",
    "# Testing the solution\n",
    "assert longestPalindromeSubseq(\"bbbab\") == 4\n",
    "assert longestPalindromeSubseq(\"cbbd\") == 2"
   ]
  },
  {
   "cell_type": "code",
   "execution_count": 68,
   "id": "e94ba584",
   "metadata": {
    "execution": {
     "iopub.execute_input": "2024-05-18T13:44:00.895248Z",
     "iopub.status.busy": "2024-05-18T13:44:00.894844Z",
     "iopub.status.idle": "2024-05-18T13:44:00.899879Z",
     "shell.execute_reply": "2024-05-18T13:44:00.899345Z"
    },
    "lines_to_next_cell": 1,
    "papermill": {
     "duration": 0.02344,
     "end_time": "2024-05-18T13:44:00.900984",
     "exception": false,
     "start_time": "2024-05-18T13:44:00.877544",
     "status": "completed"
    },
    "tags": []
   },
   "outputs": [],
   "source": [
    "def longestPalindromeSubseqStriver(text: str) -> int:\n",
    "    \"\"\"\n",
    "    1. We reverse text.\n",
    "    2. Whatever value is the LCS of both the texts, that is our desired answer\n",
    "    \"\"\"\n",
    "    def LCS(text1: str, text2: str) -> int:\n",
    "        N = len(text1)\n",
    "        dp: list[int] = [0 for j in range(N + 1)]\n",
    "        for i in range(N - 1, -1, -1):\n",
    "            next_dp: list[int] = list(dp)\n",
    "            for j in range(N - 1, -1, -1):\n",
    "                if text1[i] == text2[j]:\n",
    "                    next_dp[j] = 1 + dp[j + 1]\n",
    "                else:\n",
    "                    next_dp[j] = max(dp[j], next_dp[j + 1])\n",
    "            dp = next_dp\n",
    "\n",
    "        return dp[0]\n",
    "\n",
    "    return LCS(text, text[::-1])\n",
    "\n",
    "# Testing the solution\n",
    "assert longestPalindromeSubseqStriver(\"bbbab\") == 4\n",
    "assert longestPalindromeSubseqStriver(\"cbbd\") == 2"
   ]
  },
  {
   "cell_type": "code",
   "execution_count": 69,
   "id": "5a62593a",
   "metadata": {
    "execution": {
     "iopub.execute_input": "2024-05-18T13:44:00.935559Z",
     "iopub.status.busy": "2024-05-18T13:44:00.935138Z",
     "iopub.status.idle": "2024-05-18T13:44:00.937765Z",
     "shell.execute_reply": "2024-05-18T13:44:00.937306Z"
    },
    "papermill": {
     "duration": 0.021033,
     "end_time": "2024-05-18T13:44:00.938803",
     "exception": false,
     "start_time": "2024-05-18T13:44:00.917770",
     "status": "completed"
    },
    "tags": []
   },
   "outputs": [],
   "source": [
    "# Video link: https://youtu.be/xPBLEj41rFU?si=TkaEwZIQqY7WkasB\n",
    "# Minimum insertions to make a string palindromic"
   ]
  },
  {
   "cell_type": "code",
   "execution_count": 70,
   "id": "a73343a1",
   "metadata": {
    "execution": {
     "iopub.execute_input": "2024-05-18T13:44:00.973407Z",
     "iopub.status.busy": "2024-05-18T13:44:00.972908Z",
     "iopub.status.idle": "2024-05-18T13:44:00.977592Z",
     "shell.execute_reply": "2024-05-18T13:44:00.977033Z"
    },
    "lines_to_next_cell": 1,
    "papermill": {
     "duration": 0.023076,
     "end_time": "2024-05-18T13:44:00.978721",
     "exception": false,
     "start_time": "2024-05-18T13:44:00.955645",
     "status": "completed"
    },
    "tags": []
   },
   "outputs": [],
   "source": [
    "# https://leetcode.com/problems/minimum-insertion-steps-to-make-a-string-palindrome/submissions/1256992480/\n",
    "def minInsertions(text: str) -> int:\n",
    "    \"\"\"\n",
    "    1. Find the longest palindromic substring\n",
    "    2. Minimum insertions required would be length of the N - longest palindromic substr\n",
    "    \"\"\"\n",
    "\n",
    "    @functools.cache\n",
    "    def longestPalindromicSubstrLength(i: int, j: int) -> int:\n",
    "        if i >= j:\n",
    "            return int(i == j)\n",
    "        elif text[i] == text[j]:\n",
    "            return 2 + longestPalindromicSubstrLength(i + 1, j - 1)\n",
    "        else:\n",
    "            return max(longestPalindromicSubstrLength(i + 1, j), longestPalindromicSubstrLength(i, j - 1))\n",
    "\n",
    "    N = len(text)\n",
    "    return N - longestPalindromicSubstrLength(0, N - 1)\n",
    "\n",
    "# Testing the solution\n",
    "assert minInsertions(\"mbadm\") == 2\n",
    "assert minInsertions(\"leetcode\") == 5"
   ]
  },
  {
   "cell_type": "markdown",
   "id": "76604d02",
   "metadata": {
    "papermill": {
     "duration": 0.016783,
     "end_time": "2024-05-18T13:44:01.012549",
     "exception": false,
     "start_time": "2024-05-18T13:44:00.995766",
     "status": "completed"
    },
    "tags": []
   },
   "source": [
    "Minimum ops to convert s1 to s2\n",
    "Video Link: https://youtu.be/yMnH0jrir0Q?si=WNsLNkqd3rhHqzDX"
   ]
  },
  {
   "cell_type": "code",
   "execution_count": 71,
   "id": "07d4a7a1",
   "metadata": {
    "execution": {
     "iopub.execute_input": "2024-05-18T13:44:01.047120Z",
     "iopub.status.busy": "2024-05-18T13:44:01.046770Z",
     "iopub.status.idle": "2024-05-18T13:44:01.053365Z",
     "shell.execute_reply": "2024-05-18T13:44:01.052816Z"
    },
    "lines_to_next_cell": 1,
    "papermill": {
     "duration": 0.02511,
     "end_time": "2024-05-18T13:44:01.054494",
     "exception": false,
     "start_time": "2024-05-18T13:44:01.029384",
     "status": "completed"
    },
    "tags": []
   },
   "outputs": [],
   "source": [
    "# https://leetcode.com/problems/delete-operation-for-two-strings/submissions/1257015539\n",
    "def minDistance(word1: str, word2: str) -> int:\n",
    "    \"\"\"\n",
    "    The idea is to think about what characters we should leave untouched. In this\n",
    "    case, we can leave out characters that are subsequences also present in word2.o\n",
    "\n",
    "    Hence logic: Find length of longest common subsequence -> (N1 - S) + (N2 - S)\n",
    "    \"\"\"\n",
    "    N1, N2 = len(word1), len(word2)\n",
    "    dp: list[int] = [0 for j in range(N2 + 1)]\n",
    "    for i in range(N1 - 1, -1, -1):\n",
    "        next_dp: list[int] = [0]\n",
    "        for j in range(N2 - 1, -1, -1):\n",
    "            if word1[i] == word2[j]:\n",
    "                next_dp.append(1 + dp[j + 1])\n",
    "            else:\n",
    "                next_dp.append(max(dp[j], next_dp[-1]))\n",
    "\n",
    "        next_dp.reverse()\n",
    "        dp = next_dp\n",
    "\n",
    "    substr_length = dp[0]\n",
    "    return (N1 - substr_length) + (N2 - substr_length)\n",
    "\n",
    "# Testing the solution\n",
    "assert minDistance(\"leetcode\", \"etco\") == 4\n",
    "assert minDistance(\"sea\", \"eat\") == 2"
   ]
  },
  {
   "cell_type": "markdown",
   "id": "899a0256",
   "metadata": {
    "papermill": {
     "duration": 0.016722,
     "end_time": "2024-05-18T13:44:01.088065",
     "exception": false,
     "start_time": "2024-05-18T13:44:01.071343",
     "status": "completed"
    },
    "tags": []
   },
   "source": [
    "Shortest common supersequence: https://youtu.be/xElxAuBcvsU?si=A_v7qeegsKrHgGle\n",
    "https://leetcode.com/problems/shortest-common-supersequence/"
   ]
  },
  {
   "cell_type": "code",
   "execution_count": 72,
   "id": "ddeea61a",
   "metadata": {
    "execution": {
     "iopub.execute_input": "2024-05-18T13:44:01.123069Z",
     "iopub.status.busy": "2024-05-18T13:44:01.122630Z",
     "iopub.status.idle": "2024-05-18T13:44:01.130294Z",
     "shell.execute_reply": "2024-05-18T13:44:01.129759Z"
    },
    "lines_to_next_cell": 1,
    "papermill": {
     "duration": 0.026228,
     "end_time": "2024-05-18T13:44:01.131399",
     "exception": false,
     "start_time": "2024-05-18T13:44:01.105171",
     "status": "completed"
    },
    "tags": []
   },
   "outputs": [],
   "source": [
    "# https://leetcode.com/problems/shortest-common-supersequence/submissions/1257426491\n",
    "def shortestCommonSupersequenceBetter(str1: str, str2: str) -> str:\n",
    "    \"\"\"\n",
    "    Logic: Common characters should be taken once. Add missing characters in order.\n",
    "    \"\"\"\n",
    "    N1, N2 = len(str1), len(str2)\n",
    "\n",
    "    # Compute the DP grid for Longest common subsequence\n",
    "    dp: list[list[int]] = [[0 for j in range(N2 + 1)] for i in range(N1 + 1)]\n",
    "    for i in range(N1 - 1, -1, -1):\n",
    "        for j in range(N2 - 1, -1, -1):\n",
    "            if str1[i] == str2[j]:\n",
    "                dp[i][j] = 1 + dp[i + 1][j + 1]\n",
    "            else:\n",
    "                dp[i][j] = max(dp[i + 1][j], dp[i][j + 1])\n",
    "\n",
    "    # Find out the subsequence\n",
    "    lcs_list: list[str] = []\n",
    "    i = j = 0\n",
    "    while i < N1 and j < N2:\n",
    "        if str1[i] == str2[j]:\n",
    "            lcs_list.append(str1[i])\n",
    "            i, j = i + 1, j + 1\n",
    "        elif dp[i][j + 1] >= dp[i + 1][j]:\n",
    "            j = j + 1\n",
    "        else:\n",
    "            i = i + 1\n",
    "\n",
    "    # Compute LCS string\n",
    "    lcs_list.append(\"*\")\n",
    "    lcs = ''.join(lcs_list)\n",
    "    N3 = len(lcs)\n",
    "\n",
    "    # Add the missing characters in order\n",
    "    i = j = k = 0\n",
    "    supersequence_list: list[str] = []\n",
    "    while k < N3:\n",
    "        while i < N1 and str1[i] != lcs[k]:\n",
    "            supersequence_list.append(str1[i])\n",
    "            i += 1\n",
    "        while j < N2 and str2[j] != lcs[k]:\n",
    "            supersequence_list.append(str2[j])\n",
    "            j += 1\n",
    "        supersequence_list.append(lcs[k])\n",
    "        i, j, k = i + 1, j + 1, k + 1\n",
    "\n",
    "    supersequence_list.pop()\n",
    "    return ''.join(supersequence_list)\n",
    "\n",
    "# Testing the solution\n",
    "assert len(shortestCommonSupersequenceBetter(\"abac\", \"cab\")) == 5\n",
    "assert len(shortestCommonSupersequenceBetter(\"brute\", \"groot\")) == 8"
   ]
  },
  {
   "cell_type": "code",
   "execution_count": 73,
   "id": "e8a2cfe9",
   "metadata": {
    "execution": {
     "iopub.execute_input": "2024-05-18T13:44:01.166255Z",
     "iopub.status.busy": "2024-05-18T13:44:01.165823Z",
     "iopub.status.idle": "2024-05-18T13:44:01.172192Z",
     "shell.execute_reply": "2024-05-18T13:44:01.171740Z"
    },
    "lines_to_next_cell": 1,
    "papermill": {
     "duration": 0.024902,
     "end_time": "2024-05-18T13:44:01.173244",
     "exception": false,
     "start_time": "2024-05-18T13:44:01.148342",
     "status": "completed"
    },
    "tags": []
   },
   "outputs": [],
   "source": [
    "# https://leetcode.com/problems/shortest-common-supersequence/submissions/1257436090/\n",
    "def shortestCommonSupersequenceStriver(str1: str, str2: str) -> str:\n",
    "    \"\"\"\n",
    "    Instead of computing the missing characters seperately we add them during out iteration through the DP table itself.\n",
    "    \"\"\"\n",
    "    N1, N2 = len(str1), len(str2)\n",
    "\n",
    "    # Compute the DP grid for Longest common subsequence\n",
    "    dp: list[list[int]] = [[0 for j in range(N2 + 1)] for i in range(N1 + 1)]\n",
    "    for i in range(N1 - 1, -1, -1):\n",
    "        for j in range(N2 - 1, -1, -1):\n",
    "            if str1[i] == str2[j]:\n",
    "                dp[i][j] = 1 + dp[i + 1][j + 1]\n",
    "            else:\n",
    "                dp[i][j] = max(dp[i + 1][j], dp[i][j + 1])\n",
    "\n",
    "    # Find out the supersequence, slight modification to LCS print code\n",
    "    # Instead of iterating until any one of the strings going out of bounds, we iterate until both are out of bounds\n",
    "    # When strings don't match and we go to the direction of maximum in the DP table, we add the string that is being shrunk\n",
    "    # j = j + 1 code => str2[j] is added other wise str1[i]\n",
    "    supersequence_list: list[str] = []\n",
    "    i = j = 0\n",
    "    while i < N1 or j < N2:\n",
    "        if i < N1 and j < N2 and str1[i] == str2[j]:\n",
    "            supersequence_list.append(str1[i])\n",
    "            i, j = i + 1, j + 1\n",
    "        elif i >= N1 or (j < N2 and dp[i][j + 1] >= dp[i + 1][j]):\n",
    "            supersequence_list.append(str2[j])\n",
    "            j = j + 1\n",
    "        else:\n",
    "            supersequence_list.append(str1[i])\n",
    "            i = i + 1\n",
    "\n",
    "    return ''.join(supersequence_list)\n",
    "\n",
    "# Testing the solution\n",
    "assert len(shortestCommonSupersequenceStriver(\"abac\", \"cab\")) == 5\n",
    "assert len(shortestCommonSupersequenceStriver(\"brute\", \"groot\")) == 8"
   ]
  },
  {
   "cell_type": "markdown",
   "id": "2e842207",
   "metadata": {
    "papermill": {
     "duration": 0.016697,
     "end_time": "2024-05-18T13:44:01.206784",
     "exception": false,
     "start_time": "2024-05-18T13:44:01.190087",
     "status": "completed"
    },
    "tags": []
   },
   "source": [
    "Number of Distinct Subsequences: https://leetcode.com/problems/distinct-subsequences\n",
    "Video Link: https://youtu.be/nVG7eTiD2bY?si=aNNyhjH2VDvfErnT\n",
    "Naive Time complexity: Exponential, Space: O(M + N)"
   ]
  },
  {
   "cell_type": "code",
   "execution_count": 74,
   "id": "b80cade8",
   "metadata": {
    "execution": {
     "iopub.execute_input": "2024-05-18T13:44:01.241355Z",
     "iopub.status.busy": "2024-05-18T13:44:01.241003Z",
     "iopub.status.idle": "2024-05-18T13:44:01.245387Z",
     "shell.execute_reply": "2024-05-18T13:44:01.244900Z"
    },
    "lines_to_next_cell": 1,
    "papermill": {
     "duration": 0.022809,
     "end_time": "2024-05-18T13:44:01.246420",
     "exception": false,
     "start_time": "2024-05-18T13:44:01.223611",
     "status": "completed"
    },
    "tags": []
   },
   "outputs": [],
   "source": [
    "def numDistinctMemo(s: str, t: str) -> int:\n",
    "    @functools.cache\n",
    "    def backtrack(i: int, j: int) -> int:\n",
    "        if j >= N2:\n",
    "            return 1\n",
    "        elif i >= N1:\n",
    "            return 0\n",
    "        elif s[i] != t[j]:\n",
    "            return backtrack(i + 1, j)\n",
    "        else:\n",
    "            return backtrack(i + 1, j + 1) + backtrack(i + 1, j)\n",
    "\n",
    "    N1, N2 = len(s), len(t)\n",
    "    return backtrack(0, 0)\n",
    "\n",
    "# Testing the solution\n",
    "assert numDistinctMemo(\"babgbag\", \"bag\") == 5\n",
    "assert numDistinctMemo(\"rabbbit\", \"rabbit\") == 3"
   ]
  },
  {
   "cell_type": "code",
   "execution_count": 75,
   "id": "97af7ce5",
   "metadata": {
    "execution": {
     "iopub.execute_input": "2024-05-18T13:44:01.280707Z",
     "iopub.status.busy": "2024-05-18T13:44:01.280553Z",
     "iopub.status.idle": "2024-05-18T13:44:01.285176Z",
     "shell.execute_reply": "2024-05-18T13:44:01.284761Z"
    },
    "lines_to_next_cell": 1,
    "papermill": {
     "duration": 0.022914,
     "end_time": "2024-05-18T13:44:01.286250",
     "exception": false,
     "start_time": "2024-05-18T13:44:01.263336",
     "status": "completed"
    },
    "tags": []
   },
   "outputs": [],
   "source": [
    "def numDistinctTab(s: str, t: str) -> int:\n",
    "    N1, N2 = len(s), len(t)\n",
    "    dp: list[list[int]] = [[0 if j < N2 else 1 for j in range(N2 + 1)] for i in range(N1 + 1)]\n",
    "    for i in range(N1 - 1, -1, -1):\n",
    "        for j in range(N2 - 1, -1, -1):\n",
    "            if s[i] != t[j]:\n",
    "                dp[i][j] = dp[i + 1][j]\n",
    "            else:\n",
    "                dp[i][j] = dp[i + 1][j + 1] + dp[i + 1][j]\n",
    "\n",
    "    return dp[0][0]\n",
    "\n",
    "# Testing the solution\n",
    "assert numDistinctTab(\"babgbag\", \"bag\") == 5\n",
    "assert numDistinctTab(\"rabbbit\", \"rabbit\") == 3"
   ]
  },
  {
   "cell_type": "code",
   "execution_count": 76,
   "id": "7ac5bcf2",
   "metadata": {
    "execution": {
     "iopub.execute_input": "2024-05-18T13:44:01.321081Z",
     "iopub.status.busy": "2024-05-18T13:44:01.320713Z",
     "iopub.status.idle": "2024-05-18T13:44:01.325409Z",
     "shell.execute_reply": "2024-05-18T13:44:01.324956Z"
    },
    "lines_to_next_cell": 1,
    "papermill": {
     "duration": 0.023375,
     "end_time": "2024-05-18T13:44:01.326516",
     "exception": false,
     "start_time": "2024-05-18T13:44:01.303141",
     "status": "completed"
    },
    "tags": []
   },
   "outputs": [],
   "source": [
    "# https://leetcode.com/problems/distinct-subsequences/submissions/1258020441\n",
    "def numDistinctSpaceOptimized(s: str, t: str) -> int:\n",
    "    N1, N2 = len(s), len(t)\n",
    "    dp: list[int] = [0 if j < N2 else 1 for j in range(N2 + 1)]\n",
    "    for i in range(N1 - 1, -1, -1):\n",
    "        next_dp: list[int] = [1]\n",
    "        for j in range(N2 - 1, -1, -1):\n",
    "            if s[i] != t[j]:\n",
    "                next_dp.append(dp[j])\n",
    "            else:\n",
    "                next_dp.append(dp[j + 1] + dp[j])\n",
    "\n",
    "        next_dp.reverse()\n",
    "        dp = next_dp\n",
    "\n",
    "    return dp[0]\n",
    "\n",
    "# Testing the solution\n",
    "assert numDistinctSpaceOptimized(\"babgbag\", \"bag\") == 5\n",
    "assert numDistinctSpaceOptimized(\"rabbbit\", \"rabbit\") == 3"
   ]
  },
  {
   "cell_type": "code",
   "execution_count": 77,
   "id": "67fc3008",
   "metadata": {
    "execution": {
     "iopub.execute_input": "2024-05-18T13:44:01.361469Z",
     "iopub.status.busy": "2024-05-18T13:44:01.361104Z",
     "iopub.status.idle": "2024-05-18T13:44:01.365526Z",
     "shell.execute_reply": "2024-05-18T13:44:01.364962Z"
    },
    "lines_to_next_cell": 1,
    "papermill": {
     "duration": 0.023099,
     "end_time": "2024-05-18T13:44:01.366640",
     "exception": false,
     "start_time": "2024-05-18T13:44:01.343541",
     "status": "completed"
    },
    "tags": []
   },
   "outputs": [],
   "source": [
    "# https://leetcode.com/problems/distinct-subsequences/submissions/1258288057\n",
    "def numDistinct(s: str, t: str) -> int:\n",
    "    N1, N2 = len(s), len(t)\n",
    "    dp: list[int] = [0 if j < N2 else 1 for j in range(N2 + 1)]\n",
    "    for i in range(N1 - 1, -1, -1):\n",
    "        for j in range(N2):\n",
    "            if s[i] == t[j]:\n",
    "                dp[j] += dp[j + 1]\n",
    "\n",
    "    return dp[0]\n",
    "\n",
    "# Testing the solution\n",
    "assert numDistinct(\"babgbag\", \"bag\") == 5\n",
    "assert numDistinct(\"rabbbit\", \"rabbit\") == 3"
   ]
  },
  {
   "cell_type": "markdown",
   "id": "88f0f8ed",
   "metadata": {
    "papermill": {
     "duration": 0.016938,
     "end_time": "2024-05-18T13:44:01.400645",
     "exception": false,
     "start_time": "2024-05-18T13:44:01.383707",
     "status": "completed"
    },
    "tags": []
   },
   "source": [
    "Edit Distance\n",
    "Video Link: https://youtu.be/fJaKO8FbDdo?si=YtaIzd2Iphw_Vrlc\n",
    "Naive solution time complexity: O(3 ** N x 3 ** M), Space: O(M + N)"
   ]
  },
  {
   "cell_type": "code",
   "execution_count": 78,
   "id": "1ece6567",
   "metadata": {
    "execution": {
     "iopub.execute_input": "2024-05-18T13:44:01.435416Z",
     "iopub.status.busy": "2024-05-18T13:44:01.434980Z",
     "iopub.status.idle": "2024-05-18T13:44:01.439857Z",
     "shell.execute_reply": "2024-05-18T13:44:01.439335Z"
    },
    "lines_to_next_cell": 1,
    "papermill": {
     "duration": 0.023472,
     "end_time": "2024-05-18T13:44:01.441004",
     "exception": false,
     "start_time": "2024-05-18T13:44:01.417532",
     "status": "completed"
    },
    "tags": []
   },
   "outputs": [],
   "source": [
    "# https://leetcode.com/problems/edit-distance/submissions/1258864387/\n",
    "def editDistanceMemo(word1: str, word2: str) -> int:\n",
    "    @functools.cache\n",
    "    def backtrack(i: int, j: int) -> int:\n",
    "        if i >= N1 or j >= N2:\n",
    "            return (N1 - i) + (N2 - j)\n",
    "        elif word1[i] == word2[j]:\n",
    "            return backtrack(i + 1, j + 1)\n",
    "        else:\n",
    "            delete_op = backtrack(i + 1, j)\n",
    "            insert_op = backtrack(i, j + 1)\n",
    "            replace_op = backtrack(i + 1, j + 1)\n",
    "            return 1 + min(delete_op, insert_op, replace_op)\n",
    "\n",
    "    N1, N2 = len(word1), len(word2)\n",
    "    return backtrack(0, 0)\n",
    "\n",
    "# Testing the solution\n",
    "assert editDistanceMemo(\"horse\", \"ros\") == 3\n",
    "assert editDistanceMemo(\"intention\", \"execution\") == 5"
   ]
  },
  {
   "cell_type": "code",
   "execution_count": 79,
   "id": "a32793d7",
   "metadata": {
    "execution": {
     "iopub.execute_input": "2024-05-18T13:44:01.475740Z",
     "iopub.status.busy": "2024-05-18T13:44:01.475295Z",
     "iopub.status.idle": "2024-05-18T13:44:01.480398Z",
     "shell.execute_reply": "2024-05-18T13:44:01.479959Z"
    },
    "lines_to_next_cell": 1,
    "papermill": {
     "duration": 0.023526,
     "end_time": "2024-05-18T13:44:01.481518",
     "exception": false,
     "start_time": "2024-05-18T13:44:01.457992",
     "status": "completed"
    },
    "tags": []
   },
   "outputs": [],
   "source": [
    "def editDistanceTab(word1: str, word2: str) -> int:\n",
    "    N1, N2 = len(word1), len(word2)\n",
    "    dp: list[list[int]] = [[(N1 - i) + (N2 - j) if i >= N1 or j >= N2 else 0 for j in range(N2 + 1)] for i in range(N1 + 1)]\n",
    "    for i in range(N1 - 1, -1, -1):\n",
    "        for j in range(N2 - 1, -1, -1):\n",
    "            if word1[i] == word2[j]:\n",
    "                dp[i][j] = dp[i + 1][j + 1]\n",
    "            else:\n",
    "                dp[i][j] = 1 + min(dp[i + 1][j], dp[i][j + 1], dp[i + 1][j + 1])\n",
    "\n",
    "    return dp[0][0]\n",
    "\n",
    "# Testing the solution\n",
    "assert editDistanceTab(\"horse\", \"ros\") == 3\n",
    "assert editDistanceTab(\"intention\", \"execution\") == 5"
   ]
  },
  {
   "cell_type": "code",
   "execution_count": 80,
   "id": "5af4af2c",
   "metadata": {
    "execution": {
     "iopub.execute_input": "2024-05-18T13:44:01.516033Z",
     "iopub.status.busy": "2024-05-18T13:44:01.515531Z",
     "iopub.status.idle": "2024-05-18T13:44:01.521847Z",
     "shell.execute_reply": "2024-05-18T13:44:01.521290Z"
    },
    "lines_to_next_cell": 1,
    "papermill": {
     "duration": 0.024689,
     "end_time": "2024-05-18T13:44:01.522994",
     "exception": false,
     "start_time": "2024-05-18T13:44:01.498305",
     "status": "completed"
    },
    "tags": []
   },
   "outputs": [],
   "source": [
    "def editDistanceSpaceOptimized(word1: str, word2: str) -> int:\n",
    "    N1, N2 = len(word1), len(word2)\n",
    "    if N1 == 0 or N2 == 0:\n",
    "        return max(N1, N2)\n",
    "\n",
    "    else:\n",
    "        dp: list[int] = [N2 - j for j in range(N2 + 1)]\n",
    "        for i in range(N1 - 1, -1, -1):\n",
    "            dp[-1] = N1 - i - 1\n",
    "            next_dp: list[int] = list(dp)\n",
    "            for j in range(N2 - 1, -1, -1):\n",
    "                if word1[i] == word2[j]:\n",
    "                    next_dp[j] = dp[j + 1]\n",
    "                else:\n",
    "                    next_dp[j] = 1 + min(dp[j], dp[j + 1], next_dp[j + 1])\n",
    "\n",
    "            dp = next_dp\n",
    "\n",
    "        return dp[0]\n",
    "\n",
    "# Testing the solution\n",
    "assert editDistanceSpaceOptimized(\"horse\", \"ros\") == 3\n",
    "assert editDistanceSpaceOptimized(\"intention\", \"execution\") == 5"
   ]
  },
  {
   "cell_type": "markdown",
   "id": "06a1202d",
   "metadata": {
    "papermill": {
     "duration": 0.016743,
     "end_time": "2024-05-18T13:44:01.556698",
     "exception": false,
     "start_time": "2024-05-18T13:44:01.539955",
     "status": "completed"
    },
    "tags": []
   },
   "source": [
    "Video Link: https://youtu.be/ZmlQ3vgAOMo?si=E_X4r10aFkD_A9Nn\n",
    "Wildcard Matching"
   ]
  },
  {
   "cell_type": "code",
   "execution_count": 81,
   "id": "fc9c33aa",
   "metadata": {
    "execution": {
     "iopub.execute_input": "2024-05-18T13:44:01.591016Z",
     "iopub.status.busy": "2024-05-18T13:44:01.590850Z",
     "iopub.status.idle": "2024-05-18T13:44:01.596162Z",
     "shell.execute_reply": "2024-05-18T13:44:01.595650Z"
    },
    "lines_to_next_cell": 1,
    "papermill": {
     "duration": 0.02372,
     "end_time": "2024-05-18T13:44:01.597220",
     "exception": false,
     "start_time": "2024-05-18T13:44:01.573500",
     "status": "completed"
    },
    "tags": []
   },
   "outputs": [],
   "source": [
    "def isMatchMemo(s: str, p: str) -> bool:\n",
    "    @functools.cache\n",
    "    def backtrack(i: int, j: int) -> bool:\n",
    "        if i >= N1 and j >= N2:\n",
    "            return True\n",
    "        elif i >= N1 or j >= N2:\n",
    "            return False\n",
    "        elif s[i] == p[j] or p[j] == '?':\n",
    "            return backtrack(i + 1, j + 1)\n",
    "        elif p[j] == '*':\n",
    "            # consume s[i] or don't consume s[i]\n",
    "            return backtrack(i + 1, j) or backtrack(i, j + 1)\n",
    "        else:\n",
    "            return False\n",
    "\n",
    "    s, p = s + '$', p + '$'\n",
    "    N1, N2 = len(s), len(p)\n",
    "    return backtrack(0, 0)\n",
    "\n",
    "# Testing the solution\n",
    "assert isMatchMemo(\"d\", \"*d\") == True\n",
    "assert isMatchMemo(\"abacd\", \"*c?\") == True\n",
    "assert isMatchMemo(\"aa\", \"*\") == True\n",
    "assert isMatchMemo(\"cb\", \"?a\") == False\n",
    "assert isMatchMemo(\"cb\", \"?a\") == False\n",
    "assert isMatchMemo(\"abcabczzzde\", \"*abc???de*\") == True\n",
    "assert isMatchMemo(\"aaa\", \"***a\") == True"
   ]
  },
  {
   "cell_type": "code",
   "execution_count": 82,
   "id": "66694128",
   "metadata": {
    "execution": {
     "iopub.execute_input": "2024-05-18T13:44:01.631721Z",
     "iopub.status.busy": "2024-05-18T13:44:01.631358Z",
     "iopub.status.idle": "2024-05-18T13:44:01.636970Z",
     "shell.execute_reply": "2024-05-18T13:44:01.636457Z"
    },
    "lines_to_next_cell": 1,
    "papermill": {
     "duration": 0.024198,
     "end_time": "2024-05-18T13:44:01.638178",
     "exception": false,
     "start_time": "2024-05-18T13:44:01.613980",
     "status": "completed"
    },
    "tags": []
   },
   "outputs": [],
   "source": [
    "def isMatchTab(s: str, p: str) -> bool:\n",
    "    s, p = s + '$', p + '$'\n",
    "    N1, N2 = len(s), len(p)\n",
    "    dp: list[list[bool]] = [[True if i >= N1 and j >= N2 else False for j in range(N2 + 1)] for i in range(N1 + 1)]\n",
    "    for i in range(N1 - 1, -1, -1):\n",
    "        for j in range(N2 - 1, -1, -1):\n",
    "            if s[i] == p[j] or p[j] == '?':\n",
    "                dp[i][j] = dp[i + 1][j + 1]\n",
    "            elif p[j] == '*':\n",
    "                dp[i][j] = dp[i + 1][j] or dp[i][j + 1]\n",
    "            else:\n",
    "                dp[i][j] = False\n",
    "\n",
    "    return dp[0][0]\n",
    "\n",
    "# Testing the solution\n",
    "assert isMatchTab(\"abacd\", \"*c?\") == True\n",
    "assert isMatchTab(\"abcabczzzde\", \"*abc???de*\") == True\n",
    "assert isMatchTab(\"aaa\", \"***?\") == True"
   ]
  },
  {
   "cell_type": "code",
   "execution_count": 83,
   "id": "1803ba8d",
   "metadata": {
    "execution": {
     "iopub.execute_input": "2024-05-18T13:44:01.672875Z",
     "iopub.status.busy": "2024-05-18T13:44:01.672598Z",
     "iopub.status.idle": "2024-05-18T13:44:01.677653Z",
     "shell.execute_reply": "2024-05-18T13:44:01.677119Z"
    },
    "lines_to_next_cell": 1,
    "papermill": {
     "duration": 0.023593,
     "end_time": "2024-05-18T13:44:01.678774",
     "exception": false,
     "start_time": "2024-05-18T13:44:01.655181",
     "status": "completed"
    },
    "tags": []
   },
   "outputs": [],
   "source": [
    "# https://leetcode.com/problems/wildcard-matching/submissions/1259222651\n",
    "def isMatch(s: str, p: str) -> bool:\n",
    "    s, p = s + '$', p + '$'\n",
    "    N1, N2 = len(s), len(p)\n",
    "    dp: list[bool] = [True if j >= N2 else False for j in range(N2 + 1)]\n",
    "    for i in range(N1 - 1, -1, -1):\n",
    "        next_dp: list[bool] = list(dp)\n",
    "        for j in range(N2 - 1, -1, -1):\n",
    "            if s[i] == p[j] or p[j] == '?':\n",
    "                next_dp[j] = dp[j + 1]\n",
    "            elif p[j] == '*':\n",
    "                next_dp[j] = dp[j] or next_dp[j + 1]\n",
    "            else:\n",
    "                next_dp[j] = False\n",
    "\n",
    "        dp = next_dp\n",
    "\n",
    "    return dp[0]\n",
    "\n",
    "# Testing the solution\n",
    "assert isMatch(\"abacd\", \"*c?\") == True\n",
    "assert isMatch(\"abcabczzzde\", \"*abc???de*\") == True\n",
    "assert isMatch(\"aaa\", \"***?\") == True"
   ]
  },
  {
   "cell_type": "markdown",
   "id": "0af9e13b",
   "metadata": {
    "papermill": {
     "duration": 0.016905,
     "end_time": "2024-05-18T13:44:01.712640",
     "exception": false,
     "start_time": "2024-05-18T13:44:01.695735",
     "status": "completed"
    },
    "tags": []
   },
   "source": [
    "Best time to buy and sell stocks - II\n",
    "Video Link: https://youtu.be/nGJmxkUJQGs?si=xgX1LFznD2IAPCJ7"
   ]
  },
  {
   "cell_type": "code",
   "execution_count": 84,
   "id": "0b5303c1",
   "metadata": {
    "execution": {
     "iopub.execute_input": "2024-05-18T13:44:01.747231Z",
     "iopub.status.busy": "2024-05-18T13:44:01.746803Z",
     "iopub.status.idle": "2024-05-18T13:44:01.751641Z",
     "shell.execute_reply": "2024-05-18T13:44:01.751209Z"
    },
    "lines_to_next_cell": 1,
    "papermill": {
     "duration": 0.023269,
     "end_time": "2024-05-18T13:44:01.752727",
     "exception": false,
     "start_time": "2024-05-18T13:44:01.729458",
     "status": "completed"
    },
    "tags": []
   },
   "outputs": [],
   "source": [
    "def stocks1Memo(prices: list[int]) -> int:\n",
    "    @functools.cache\n",
    "    def backtrack(i: int, inventory: int) -> int:\n",
    "        if i == N:\n",
    "            return 0\n",
    "        elif inventory == -1:\n",
    "            return max(backtrack(i + 1, i), backtrack(i + 1, -1))\n",
    "        else:\n",
    "            return max(prices[i] - prices[inventory] + backtrack(i + 1, -1), backtrack(i + 1, inventory))\n",
    "\n",
    "    N = len(prices)\n",
    "    return backtrack(0, -1)\n",
    "\n",
    "# Testing the solution\n",
    "assert stocks1Memo([7,1,5,3,6,4]) == 7\n",
    "assert stocks1Memo([1,2,3,4,5]) == 4\n",
    "assert stocks1Memo([7,6,4,3,1]) == 0"
   ]
  },
  {
   "cell_type": "code",
   "execution_count": 85,
   "id": "b24f5c40",
   "metadata": {
    "execution": {
     "iopub.execute_input": "2024-05-18T13:44:01.787517Z",
     "iopub.status.busy": "2024-05-18T13:44:01.787174Z",
     "iopub.status.idle": "2024-05-18T13:44:01.791857Z",
     "shell.execute_reply": "2024-05-18T13:44:01.791416Z"
    },
    "lines_to_next_cell": 1,
    "papermill": {
     "duration": 0.023346,
     "end_time": "2024-05-18T13:44:01.792975",
     "exception": false,
     "start_time": "2024-05-18T13:44:01.769629",
     "status": "completed"
    },
    "tags": []
   },
   "outputs": [],
   "source": [
    "# Striver's approach\n",
    "def stocks1StriverMemo(prices: list[int]) -> int:\n",
    "    @functools.cache\n",
    "    def backtrack(i: int, inventory: bool) -> int:\n",
    "        if i == N:\n",
    "            return 0\n",
    "        elif not inventory: # No stock previously purchased: buy or not buy\n",
    "            return max(-prices[i] + backtrack(i + 1, True), backtrack(i + 1, False))\n",
    "        else: # Stock already exists: sell or hold stock\n",
    "            return max(prices[i] + backtrack(i + 1, False), backtrack(i + 1, True))\n",
    "\n",
    "    N = len(prices)\n",
    "    return backtrack(0, False)\n",
    "\n",
    "# Testing the solution\n",
    "assert stocks1StriverMemo([7,1,5,3,6,4]) == 7\n",
    "assert stocks1StriverMemo([1,2,3,4,5]) == 4\n",
    "assert stocks1StriverMemo([7,6,4,3,1]) == 0"
   ]
  },
  {
   "cell_type": "code",
   "execution_count": 86,
   "id": "6e752e9f",
   "metadata": {
    "execution": {
     "iopub.execute_input": "2024-05-18T13:44:01.827795Z",
     "iopub.status.busy": "2024-05-18T13:44:01.827593Z",
     "iopub.status.idle": "2024-05-18T13:44:01.833085Z",
     "shell.execute_reply": "2024-05-18T13:44:01.832644Z"
    },
    "lines_to_next_cell": 1,
    "papermill": {
     "duration": 0.023912,
     "end_time": "2024-05-18T13:44:01.834156",
     "exception": false,
     "start_time": "2024-05-18T13:44:01.810244",
     "status": "completed"
    },
    "tags": []
   },
   "outputs": [],
   "source": [
    "def stocks1Tab(prices: list[int]) -> int:\n",
    "    N = len(prices)\n",
    "    dp: list[list[int]] = [[0 for j in range(2)] for i in range(N + 1)]\n",
    "    for i in range(N - 1, -1, -1):\n",
    "        for j in range(1, -1, -1):\n",
    "            if j == 0:\n",
    "                dp[i][j] = max(-prices[i] + dp[i + 1][1], dp[i + 1][0])\n",
    "            else:\n",
    "                dp[i][j] = max(prices[i] + dp[i + 1][0], dp[i + 1][1])\n",
    "\n",
    "    return dp[0][0]\n",
    "\n",
    "# Testing the solution\n",
    "assert stocks1Tab([7,1,5,3,6,4]) == 7\n",
    "assert stocks1Tab([1,2,3,4,5]) == 4\n",
    "assert stocks1Tab([7,6,4,3,1]) == 0"
   ]
  },
  {
   "cell_type": "code",
   "execution_count": 87,
   "id": "32c0e187",
   "metadata": {
    "execution": {
     "iopub.execute_input": "2024-05-18T13:44:01.868751Z",
     "iopub.status.busy": "2024-05-18T13:44:01.868429Z",
     "iopub.status.idle": "2024-05-18T13:44:01.873328Z",
     "shell.execute_reply": "2024-05-18T13:44:01.872751Z"
    },
    "lines_to_next_cell": 1,
    "papermill": {
     "duration": 0.02321,
     "end_time": "2024-05-18T13:44:01.874322",
     "exception": false,
     "start_time": "2024-05-18T13:44:01.851112",
     "status": "completed"
    },
    "tags": []
   },
   "outputs": [],
   "source": [
    "# https://leetcode.com/problems/best-time-to-buy-and-sell-stock-ii/submissions/1259669260\n",
    "def stocks1(prices: list[int]) -> int:\n",
    "    N = len(prices)\n",
    "    dp: list[int] = [0 for j in range(2)]\n",
    "    for i in range(N - 1, -1, -1):\n",
    "        for j in range(1, -1, -1):\n",
    "            if j == 0:\n",
    "                dp[j] = max(-prices[i] + dp[1], dp[0])\n",
    "            else:\n",
    "                dp[j] = max(prices[i] + dp[0], dp[1])\n",
    "\n",
    "    return dp[0]\n",
    "\n",
    "# Testing the solution\n",
    "assert stocks1([7,1,5,3,6,4]) == 7\n",
    "assert stocks1([1,2,3,4,5]) == 4\n",
    "assert stocks1([7,6,4,3,1]) == 0"
   ]
  },
  {
   "cell_type": "markdown",
   "id": "f99546d3",
   "metadata": {
    "papermill": {
     "duration": 0.016862,
     "end_time": "2024-05-18T13:44:01.908087",
     "exception": false,
     "start_time": "2024-05-18T13:44:01.891225",
     "status": "completed"
    },
    "tags": []
   },
   "source": [
    "Video Link: https://youtu.be/-uQGzhYj8BQ?si=-Ps8pCdPtuWjuTQZ\n",
    "Buy and Sell Stocks - III: https://leetcode.com/problems/best-time-to-buy-and-sell-stock-iii/"
   ]
  },
  {
   "cell_type": "code",
   "execution_count": 88,
   "id": "8939c406",
   "metadata": {
    "execution": {
     "iopub.execute_input": "2024-05-18T13:44:01.944012Z",
     "iopub.status.busy": "2024-05-18T13:44:01.943490Z",
     "iopub.status.idle": "2024-05-18T13:44:01.948763Z",
     "shell.execute_reply": "2024-05-18T13:44:01.948274Z"
    },
    "lines_to_next_cell": 1,
    "papermill": {
     "duration": 0.024871,
     "end_time": "2024-05-18T13:44:01.949941",
     "exception": false,
     "start_time": "2024-05-18T13:44:01.925070",
     "status": "completed"
    },
    "tags": []
   },
   "outputs": [],
   "source": [
    "def stocks2Memo(prices: list[int]) -> int:\n",
    "    \"\"\"\n",
    "    0 - Start\n",
    "    1 - Buy 1\n",
    "    2 - Sell 1\n",
    "    3 - Buy 2\n",
    "    4 - Sell 2\n",
    "    \"\"\"\n",
    "    @functools.cache\n",
    "    def backtrack(i: int, j: int) -> int:\n",
    "        if i == N or j == 4:\n",
    "            return 0\n",
    "        elif j % 2 == 0: # Not holding any stock: buy / not buy\n",
    "            return max(-prices[i] + backtrack(i + 1, j + 1), backtrack(i + 1, j))\n",
    "        else:\n",
    "            return max(prices[i] + backtrack(i + 1, j + 1), backtrack(i + 1, j))\n",
    "\n",
    "    N = len(prices)\n",
    "    return backtrack(0, 0)\n",
    "\n",
    "# Testing the solution\n",
    "assert stocks2Memo([3,3,5,0,0,3,1,4]) == 6\n",
    "assert stocks2Memo([1,2,3,4,5]) == 4\n",
    "assert stocks2Memo([7,6,4,3,1]) == 0"
   ]
  },
  {
   "cell_type": "code",
   "execution_count": 89,
   "id": "4f33510b",
   "metadata": {
    "execution": {
     "iopub.execute_input": "2024-05-18T13:44:01.986051Z",
     "iopub.status.busy": "2024-05-18T13:44:01.985839Z",
     "iopub.status.idle": "2024-05-18T13:44:01.991148Z",
     "shell.execute_reply": "2024-05-18T13:44:01.990615Z"
    },
    "lines_to_next_cell": 1,
    "papermill": {
     "duration": 0.024489,
     "end_time": "2024-05-18T13:44:01.992217",
     "exception": false,
     "start_time": "2024-05-18T13:44:01.967728",
     "status": "completed"
    },
    "tags": []
   },
   "outputs": [],
   "source": [
    "def stocks2Tab(prices: list[int]) -> int:\n",
    "    N = len(prices)\n",
    "    dp: list[list[int]] = [[0 for j in range(5)] for i in range(N + 1)]\n",
    "    for i in range(N - 1, -1, -1):\n",
    "        for j in range(3, -1, -1):\n",
    "            if j % 2 == 0: # Not holding any stock: buy / not buy\n",
    "                dp[i][j] = max(-prices[i] + dp[i + 1][j + 1], dp[i + 1][j])\n",
    "            else:\n",
    "                dp[i][j] = max(prices[i] + dp[i + 1][j + 1], dp[i + 1][j])\n",
    "\n",
    "    return dp[0][0]\n",
    "\n",
    "# Testing the solution\n",
    "assert stocks2Tab([3,3,5,0,0,3,1,4]) == 6\n",
    "assert stocks2Tab([1,2,3,4,5]) == 4\n",
    "assert stocks2Tab([7,6,4,3,1]) == 0"
   ]
  },
  {
   "cell_type": "code",
   "execution_count": 90,
   "id": "2d27ea1d",
   "metadata": {
    "execution": {
     "iopub.execute_input": "2024-05-18T13:44:02.028408Z",
     "iopub.status.busy": "2024-05-18T13:44:02.027897Z",
     "iopub.status.idle": "2024-05-18T13:44:02.033088Z",
     "shell.execute_reply": "2024-05-18T13:44:02.032631Z"
    },
    "lines_to_next_cell": 1,
    "papermill": {
     "duration": 0.024342,
     "end_time": "2024-05-18T13:44:02.034214",
     "exception": false,
     "start_time": "2024-05-18T13:44:02.009872",
     "status": "completed"
    },
    "tags": []
   },
   "outputs": [],
   "source": [
    "# https://leetcode.com/problems/best-time-to-buy-and-sell-stock-iii/submissions/1259699363\n",
    "def stocks2(prices: list[int]) -> int:\n",
    "    N = len(prices)\n",
    "    dp: list[int] = [0 for j in range(5)]\n",
    "    for i in range(N - 1, -1, -1):\n",
    "        for j in range(3, -1, -1):\n",
    "            if j % 2 == 0: # Not holding any stock: buy / not buy\n",
    "                dp[j] = max(-prices[i] + dp[j + 1], dp[j])\n",
    "            else:\n",
    "                dp[j] = max(prices[i] + dp[j + 1], dp[j])\n",
    "\n",
    "    return dp[0]\n",
    "\n",
    "# Testing the solution\n",
    "assert stocks2([3,3,5,0,0,3,1,4]) == 6\n",
    "assert stocks2([1,2,3,4,5]) == 4\n",
    "assert stocks2([7,6,4,3,1]) == 0"
   ]
  },
  {
   "cell_type": "markdown",
   "id": "3105a916",
   "metadata": {
    "papermill": {
     "duration": 0.016911,
     "end_time": "2024-05-18T13:44:02.083480",
     "exception": false,
     "start_time": "2024-05-18T13:44:02.066569",
     "status": "completed"
    },
    "tags": []
   },
   "source": [
    "Best time to buy and sell stocks - IV\n",
    "Video Link: https://youtu.be/IV1dHbk5CDc?si=zvqGmxYAZN10-UGg"
   ]
  },
  {
   "cell_type": "code",
   "execution_count": 91,
   "id": "9619fbbe",
   "metadata": {
    "execution": {
     "iopub.execute_input": "2024-05-18T13:44:02.118266Z",
     "iopub.status.busy": "2024-05-18T13:44:02.117775Z",
     "iopub.status.idle": "2024-05-18T13:44:02.122663Z",
     "shell.execute_reply": "2024-05-18T13:44:02.122231Z"
    },
    "lines_to_next_cell": 1,
    "papermill": {
     "duration": 0.023509,
     "end_time": "2024-05-18T13:44:02.123750",
     "exception": false,
     "start_time": "2024-05-18T13:44:02.100241",
     "status": "completed"
    },
    "tags": []
   },
   "outputs": [],
   "source": [
    "# Minor update on the previous problem\n",
    "def stocks3(k: int, prices: list[int]) -> int:\n",
    "    N = len(prices)\n",
    "    max_transaction = 2 * k\n",
    "    dp: list[int] = [0 for j in range(max_transaction + 1)]\n",
    "    for i in range(N - 1, -1, -1):\n",
    "        for j in range(max_transaction - 1, -1, -1):\n",
    "            if j % 2 == 0: # Not holding any stock: buy / not buy\n",
    "                dp[j] = max(-prices[i] + dp[j + 1], dp[j])\n",
    "            else:\n",
    "                dp[j] = max(prices[i] + dp[j + 1], dp[j])\n",
    "\n",
    "    return dp[0]\n",
    "\n",
    "# Testing the solution\n",
    "assert stocks3(2, [2,4,1]) == 2\n",
    "assert stocks3(2, [3,2,6,5,0,3]) == 7"
   ]
  },
  {
   "cell_type": "code",
   "execution_count": 92,
   "id": "317bdab8",
   "metadata": {
    "execution": {
     "iopub.execute_input": "2024-05-18T13:44:02.158501Z",
     "iopub.status.busy": "2024-05-18T13:44:02.158076Z",
     "iopub.status.idle": "2024-05-18T13:44:02.162684Z",
     "shell.execute_reply": "2024-05-18T13:44:02.162258Z"
    },
    "lines_to_next_cell": 1,
    "papermill": {
     "duration": 0.023099,
     "end_time": "2024-05-18T13:44:02.163835",
     "exception": false,
     "start_time": "2024-05-18T13:44:02.140736",
     "status": "completed"
    },
    "tags": []
   },
   "outputs": [],
   "source": [
    "# Let's try striver's approach of using a 3D array\n",
    "def stocks3StriverMemo(k: int, prices: list[int]) -> int:\n",
    "    @functools.cache\n",
    "    def backtrack(i: int, inventory: bool, count: int) -> int:\n",
    "        if i == N or count == k:\n",
    "            return 0\n",
    "        elif not inventory: # Not holding any stock\n",
    "            return max(-prices[i] + backtrack(i + 1, True, count), backtrack(i + 1, False, count))\n",
    "        else:\n",
    "            return max(prices[i] + backtrack(i + 1, False, count + 1), backtrack(i + 1, True, count))\n",
    "\n",
    "    N = len(prices)\n",
    "    return backtrack(0, 0, 0)\n",
    "\n",
    "# Testing the solution\n",
    "assert stocks3StriverMemo(2, [2,4,1]) == 2\n",
    "assert stocks3StriverMemo(2, [3,2,6,5,0,3]) == 7"
   ]
  },
  {
   "cell_type": "code",
   "execution_count": 93,
   "id": "a04d3d04",
   "metadata": {
    "execution": {
     "iopub.execute_input": "2024-05-18T13:44:02.198557Z",
     "iopub.status.busy": "2024-05-18T13:44:02.198130Z",
     "iopub.status.idle": "2024-05-18T13:44:02.203548Z",
     "shell.execute_reply": "2024-05-18T13:44:02.203074Z"
    },
    "lines_to_next_cell": 1,
    "papermill": {
     "duration": 0.023995,
     "end_time": "2024-05-18T13:44:02.204744",
     "exception": false,
     "start_time": "2024-05-18T13:44:02.180749",
     "status": "completed"
    },
    "tags": []
   },
   "outputs": [],
   "source": [
    "def stocks3StriverTab(K: int, prices: list[int]) -> int:\n",
    "    N = len(prices)\n",
    "    dp: list[list[list[int]]] = [[[0 for count in range(K + 1)] for j in range(2)] for i in range(N + 1)]\n",
    "    for i in range(N - 1, -1, -1):\n",
    "        for j in range(1, -1, -1):\n",
    "            for count in range(K - 1, -1, -1):\n",
    "                if j == 0:\n",
    "                    dp[i][j][count] = max(-prices[i] + dp[i + 1][1][count], dp[i + 1][0][count])\n",
    "                else:\n",
    "                    dp[i][j][count] = max(prices[i] + dp[i + 1][0][count + 1], dp[i + 1][1][count])\n",
    "\n",
    "    return dp[0][0][0]\n",
    "\n",
    "# Testing the solution\n",
    "assert stocks3StriverTab(2, [2,4,1]) == 2\n",
    "assert stocks3StriverTab(2, [3,2,6,5,0,3]) == 7"
   ]
  },
  {
   "cell_type": "code",
   "execution_count": 94,
   "id": "f4b496e3",
   "metadata": {
    "execution": {
     "iopub.execute_input": "2024-05-18T13:44:02.239763Z",
     "iopub.status.busy": "2024-05-18T13:44:02.239324Z",
     "iopub.status.idle": "2024-05-18T13:44:02.244691Z",
     "shell.execute_reply": "2024-05-18T13:44:02.244170Z"
    },
    "lines_to_next_cell": 1,
    "papermill": {
     "duration": 0.024129,
     "end_time": "2024-05-18T13:44:02.245886",
     "exception": false,
     "start_time": "2024-05-18T13:44:02.221757",
     "status": "completed"
    },
    "tags": []
   },
   "outputs": [],
   "source": [
    "def stocks3Striver(K: int, prices: list[int]) -> int:\n",
    "    N = len(prices)\n",
    "    dp: list[list[int]] = [[0 for count in range(K + 1)] for j in range(2)]\n",
    "    for i in range(N - 1, -1, -1):\n",
    "        for j in range(1, -1, -1):\n",
    "            for count in range(K - 1, -1, -1):\n",
    "                if j == 0:\n",
    "                    dp[j][count] = max(-prices[i] + dp[1][count], dp[0][count])\n",
    "                else:\n",
    "                    dp[j][count] = max(prices[i] + dp[0][count + 1], dp[1][count])\n",
    "\n",
    "    return dp[0][0]\n",
    "\n",
    "# Testing the solution\n",
    "assert stocks3Striver(2, [2,4,1]) == 2\n",
    "assert stocks3Striver(2, [3,2,6,5,0,3]) == 7"
   ]
  },
  {
   "cell_type": "markdown",
   "id": "6d856ff6",
   "metadata": {
    "papermill": {
     "duration": 0.017133,
     "end_time": "2024-05-18T13:44:02.280225",
     "exception": false,
     "start_time": "2024-05-18T13:44:02.263092",
     "status": "completed"
    },
    "tags": []
   },
   "source": [
    "Video link: https://youtu.be/IGIe46xw3YY?si=B0IUJM2GtIGVlq7D\n",
    "Best time to buy and sell stock with cooldown"
   ]
  },
  {
   "cell_type": "code",
   "execution_count": 95,
   "id": "d8063cf8",
   "metadata": {
    "execution": {
     "iopub.execute_input": "2024-05-18T13:44:02.315157Z",
     "iopub.status.busy": "2024-05-18T13:44:02.314989Z",
     "iopub.status.idle": "2024-05-18T13:44:02.319970Z",
     "shell.execute_reply": "2024-05-18T13:44:02.319542Z"
    },
    "lines_to_next_cell": 1,
    "papermill": {
     "duration": 0.023595,
     "end_time": "2024-05-18T13:44:02.321063",
     "exception": false,
     "start_time": "2024-05-18T13:44:02.297468",
     "status": "completed"
    },
    "tags": []
   },
   "outputs": [],
   "source": [
    "# Copy pasting code from stocks II, when selling do a i + 2 instead of i + 1\n",
    "def stocksWithCooldownTab(prices: list[int]) -> int:\n",
    "    N = len(prices)\n",
    "    dp: list[list[int]] = [[0 for j in range(2)] for i in range(N + 2)]\n",
    "    for i in range(N - 1, -1, -1):\n",
    "        for j in range(1, -1, -1):\n",
    "            if j == 0:\n",
    "                dp[i][j] = max(-prices[i] + dp[i + 1][1], dp[i + 1][0])\n",
    "            else:\n",
    "                dp[i][j] = max(prices[i] + dp[i + 2][0], dp[i + 1][1])\n",
    "\n",
    "    return dp[0][0]\n",
    "\n",
    "# Testing the solution\n",
    "assert stocksWithCooldownTab([1,2,3,0,2]) == 3\n",
    "assert stocksWithCooldownTab([1,2,2,3,1,2,3,3,1,2,3,4,1,2,3,1,2,3,2,2,3,4,1,23,2,23]) == 31"
   ]
  },
  {
   "cell_type": "code",
   "execution_count": 96,
   "id": "0f414ee0",
   "metadata": {
    "execution": {
     "iopub.execute_input": "2024-05-18T13:44:02.355831Z",
     "iopub.status.busy": "2024-05-18T13:44:02.355508Z",
     "iopub.status.idle": "2024-05-18T13:44:02.360719Z",
     "shell.execute_reply": "2024-05-18T13:44:02.360272Z"
    },
    "lines_to_next_cell": 1,
    "papermill": {
     "duration": 0.023746,
     "end_time": "2024-05-18T13:44:02.361775",
     "exception": false,
     "start_time": "2024-05-18T13:44:02.338029",
     "status": "completed"
    },
    "tags": []
   },
   "outputs": [],
   "source": [
    "def stocksWithCooldown(prices: list[int]) -> int:\n",
    "    N = len(prices)\n",
    "    dp: list[int] = [0 for j in range(2)]\n",
    "    next_dp: list[int] = [0 for j in range(2)]\n",
    "    for i in range(N - 1, -1, -1):\n",
    "        temp = list(dp)\n",
    "        for j in range(1, -1, -1):\n",
    "            if j == 0:\n",
    "                dp[j] = max(-prices[i] + dp[1], dp[0])\n",
    "            else:\n",
    "                dp[j] = max(prices[i] + next_dp[0], dp[1])\n",
    "        next_dp = temp\n",
    "\n",
    "    return dp[0]\n",
    "\n",
    "# Testing the solution\n",
    "assert stocksWithCooldown([1,2,3,0,2]) == 3\n",
    "assert stocksWithCooldown([1,2,2,3,1,2,3,3,1,2,3,4,1,2,3,1,2,3,2,2,3,4,1,23,2,23]) == 31"
   ]
  },
  {
   "cell_type": "markdown",
   "id": "ba9b90d0",
   "metadata": {
    "papermill": {
     "duration": 0.016661,
     "end_time": "2024-05-18T13:44:02.395369",
     "exception": false,
     "start_time": "2024-05-18T13:44:02.378708",
     "status": "completed"
    },
    "tags": []
   },
   "source": [
    "Video link: https://youtu.be/k4eK-vEmnKg?si=-J8puY5S-kGzz_uT\n",
    "Buy and sell stocks with transaction fee"
   ]
  },
  {
   "cell_type": "code",
   "execution_count": 97,
   "id": "31f18961",
   "metadata": {
    "execution": {
     "iopub.execute_input": "2024-05-18T13:44:02.430154Z",
     "iopub.status.busy": "2024-05-18T13:44:02.429672Z",
     "iopub.status.idle": "2024-05-18T13:44:02.434494Z",
     "shell.execute_reply": "2024-05-18T13:44:02.434069Z"
    },
    "lines_to_next_cell": 1,
    "papermill": {
     "duration": 0.023283,
     "end_time": "2024-05-18T13:44:02.435551",
     "exception": false,
     "start_time": "2024-05-18T13:44:02.412268",
     "status": "completed"
    },
    "tags": []
   },
   "outputs": [],
   "source": [
    "def stocksWithTranFeeMemo(prices: list[int], fee: int) -> int:\n",
    "    @functools.cache\n",
    "    def backtrack(i: int, inventory: bool) -> int:\n",
    "        if i == N:\n",
    "            return 0\n",
    "        elif not inventory:\n",
    "            return max(-prices[i] + backtrack(i + 1, True), backtrack(i + 1, False))\n",
    "        else:\n",
    "            return max(prices[i] + backtrack(i + 1, False) - fee, backtrack(i + 1, True))\n",
    "\n",
    "    N = len(prices)\n",
    "    return backtrack(0, False)\n",
    "\n",
    "# Testing the solution\n",
    "assert stocksWithTranFeeMemo([1,3,2,8,4,9], 2) == 8\n",
    "assert stocksWithTranFeeMemo([1,3,7,5,10,3], 3) == 6"
   ]
  },
  {
   "cell_type": "code",
   "execution_count": 98,
   "id": "ebfef8d3",
   "metadata": {
    "execution": {
     "iopub.execute_input": "2024-05-18T13:44:02.479010Z",
     "iopub.status.busy": "2024-05-18T13:44:02.478566Z",
     "iopub.status.idle": "2024-05-18T13:44:02.483703Z",
     "shell.execute_reply": "2024-05-18T13:44:02.483263Z"
    },
    "lines_to_next_cell": 1,
    "papermill": {
     "duration": 0.02578,
     "end_time": "2024-05-18T13:44:02.484899",
     "exception": false,
     "start_time": "2024-05-18T13:44:02.459119",
     "status": "completed"
    },
    "tags": []
   },
   "outputs": [],
   "source": [
    "def stocksWithTranFeeTab(prices: list[int], fee: int) -> int:\n",
    "    N = len(prices)\n",
    "    dp: list[list[int]] = [[0 for j in range(2)] for i in range(N + 1)]\n",
    "    for i in range(N - 1, -1, -1):\n",
    "        for j in range(2):\n",
    "            if not j:\n",
    "                dp[i][j] = max(-prices[i] + dp[i + 1][1], dp[i + 1][0])\n",
    "            else:\n",
    "                dp[i][j] = max(prices[i] + dp[i + 1][0] - fee, dp[i + 1][1])\n",
    "\n",
    "    return dp[0][0]\n",
    "\n",
    "# Testing the solution\n",
    "assert stocksWithTranFeeTab([1,3,2,8,4,9], 2) == 8\n",
    "assert stocksWithTranFeeTab([1,3,7,5,10,3], 3) == 6"
   ]
  },
  {
   "cell_type": "code",
   "execution_count": 99,
   "id": "4ca839d1",
   "metadata": {
    "execution": {
     "iopub.execute_input": "2024-05-18T13:44:02.519936Z",
     "iopub.status.busy": "2024-05-18T13:44:02.519518Z",
     "iopub.status.idle": "2024-05-18T13:44:02.524040Z",
     "shell.execute_reply": "2024-05-18T13:44:02.523550Z"
    },
    "lines_to_next_cell": 1,
    "papermill": {
     "duration": 0.023065,
     "end_time": "2024-05-18T13:44:02.525109",
     "exception": false,
     "start_time": "2024-05-18T13:44:02.502044",
     "status": "completed"
    },
    "tags": []
   },
   "outputs": [],
   "source": [
    "# https://leetcode.com/problems/best-time-to-buy-and-sell-stock-with-transaction-fee/submissions/1260096941\n",
    "def stocksWithTranFee(prices: list[int], fee: int) -> int:\n",
    "    \"\"\"\n",
    "    Can simplify the inner loop since we are always checking for case where\n",
    "    we are holding stock and not holding stock.\n",
    "    \"\"\"\n",
    "    N = len(prices)\n",
    "    dp: list[int] = [0 for j in range(2)]\n",
    "    for i in range(N - 1, -1, -1):\n",
    "        dp[0] = max(-prices[i] + dp[1], dp[0])\n",
    "        dp[1] = max(prices[i] + dp[0] - fee, dp[1])\n",
    "\n",
    "    return dp[0]\n",
    "\n",
    "# Testing the solution\n",
    "assert stocksWithTranFee([1,3,2,8,4,9], 2) == 8\n",
    "assert stocksWithTranFee([1,3,7,5,3,3], 10) == 0"
   ]
  },
  {
   "cell_type": "markdown",
   "id": "5c9cb929",
   "metadata": {
    "papermill": {
     "duration": 0.01698,
     "end_time": "2024-05-18T13:44:02.559347",
     "exception": false,
     "start_time": "2024-05-18T13:44:02.542367",
     "status": "completed"
    },
    "tags": []
   },
   "source": [
    "Longest increasing subsequence\n",
    "Video link: https://youtu.be/ekcwMsSIzVc?si=53GtUk_ZTJC3oDDc"
   ]
  },
  {
   "cell_type": "code",
   "execution_count": 100,
   "id": "1a46c49e",
   "metadata": {
    "execution": {
     "iopub.execute_input": "2024-05-18T13:44:02.594190Z",
     "iopub.status.busy": "2024-05-18T13:44:02.593770Z",
     "iopub.status.idle": "2024-05-18T13:44:02.598896Z",
     "shell.execute_reply": "2024-05-18T13:44:02.598454Z"
    },
    "lines_to_next_cell": 1,
    "papermill": {
     "duration": 0.023695,
     "end_time": "2024-05-18T13:44:02.600005",
     "exception": false,
     "start_time": "2024-05-18T13:44:02.576310",
     "status": "completed"
    },
    "tags": []
   },
   "outputs": [],
   "source": [
    "def lengthOfLISMemo(nums: list[int]) -> int:\n",
    "    \"\"\"\n",
    "    In striver's video, instead of stroing the max_, he stores the index of the latest max.\n",
    "    This way subsequent tabulations would be much simpler.\n",
    "    \"\"\"\n",
    "    @functools.cache\n",
    "    def backtrack(i: int, max_: int) -> int:\n",
    "        if i == N:\n",
    "            return 0\n",
    "        elif nums[i] > max_:\n",
    "            return max(1 + backtrack(i + 1, nums[i]), backtrack(i + 1, max_))\n",
    "        else:\n",
    "            return backtrack(i + 1, max_)\n",
    "\n",
    "    N, min_ = len(nums), min(nums)\n",
    "    return backtrack(0, min_ - 1)\n",
    "\n",
    "# Testing the solution\n",
    "assert lengthOfLISMemo([10,9,2,5,3,7,101,18]) == 4\n",
    "assert lengthOfLISMemo([0,1,0,3,2,3]) == 4\n",
    "assert lengthOfLISMemo([1,1,1,1,1]) == 1"
   ]
  },
  {
   "cell_type": "code",
   "execution_count": 101,
   "id": "cd333f6f",
   "metadata": {
    "execution": {
     "iopub.execute_input": "2024-05-18T13:44:02.634776Z",
     "iopub.status.busy": "2024-05-18T13:44:02.634402Z",
     "iopub.status.idle": "2024-05-18T13:44:02.639156Z",
     "shell.execute_reply": "2024-05-18T13:44:02.638735Z"
    },
    "lines_to_next_cell": 1,
    "papermill": {
     "duration": 0.023087,
     "end_time": "2024-05-18T13:44:02.640177",
     "exception": false,
     "start_time": "2024-05-18T13:44:02.617090",
     "status": "completed"
    },
    "tags": []
   },
   "outputs": [],
   "source": [
    "def lengthOfLISTab(nums: list[int]) -> int:\n",
    "    N = len(nums)\n",
    "    dp: list[list[int]] = [[0 for j in range(N + 2)] for i in range(N + 1)]\n",
    "    for i in range(N - 1, -1, -1):\n",
    "        for j in range(N - 1, -1, -1):\n",
    "            # if j == 0, max_ => min_ - 1, j is right shifted by 1 index to accomodated min_ - 1\n",
    "            if j == 0 or nums[i] > nums[j - 1]:\n",
    "                dp[i][j] = max(1 + dp[i + 1][i + 1], dp[i + 1][j])\n",
    "            else:\n",
    "                dp[i][j] = dp[i + 1][j]\n",
    "\n",
    "    return dp[0][0]\n",
    "\n",
    "# Testing the solution\n",
    "assert lengthOfLISTab([0,1,0,3,2,3]) == 4\n",
    "assert lengthOfLISTab([1,1,1,1,1]) == 1"
   ]
  },
  {
   "cell_type": "code",
   "execution_count": 102,
   "id": "27be61f6",
   "metadata": {
    "execution": {
     "iopub.execute_input": "2024-05-18T13:44:02.674996Z",
     "iopub.status.busy": "2024-05-18T13:44:02.674808Z",
     "iopub.status.idle": "2024-05-18T13:44:02.679250Z",
     "shell.execute_reply": "2024-05-18T13:44:02.678799Z"
    },
    "lines_to_next_cell": 1,
    "papermill": {
     "duration": 0.023008,
     "end_time": "2024-05-18T13:44:02.680313",
     "exception": false,
     "start_time": "2024-05-18T13:44:02.657305",
     "status": "completed"
    },
    "tags": []
   },
   "outputs": [],
   "source": [
    "def lengthOfLIS(nums: list[int]) -> int:\n",
    "    \"Slight improvement, at any point - j (inner loop) cannot be greater than i itself\"\n",
    "    N = len(nums)\n",
    "    dp: list[int] = [0 for j in range(N + 2)]\n",
    "    for i in range(N - 1, -1, -1):\n",
    "        for j in range(i, -1, -1):\n",
    "            if j == 0 or nums[i] > nums[j - 1]:\n",
    "                dp[j] = max(1 + dp[i + 1], dp[j])\n",
    "\n",
    "    return dp[0]\n",
    "\n",
    "# Testing the solution\n",
    "assert lengthOfLIS([0,1,0,3,2,3]) == 4\n",
    "assert lengthOfLIS([1,1,1,1,1]) == 1"
   ]
  },
  {
   "cell_type": "code",
   "execution_count": 103,
   "id": "1c08a876",
   "metadata": {
    "execution": {
     "iopub.execute_input": "2024-05-18T13:44:02.714660Z",
     "iopub.status.busy": "2024-05-18T13:44:02.714450Z",
     "iopub.status.idle": "2024-05-18T13:44:02.717129Z",
     "shell.execute_reply": "2024-05-18T13:44:02.716694Z"
    },
    "papermill": {
     "duration": 0.021076,
     "end_time": "2024-05-18T13:44:02.718201",
     "exception": false,
     "start_time": "2024-05-18T13:44:02.697125",
     "status": "completed"
    },
    "tags": []
   },
   "outputs": [],
   "source": [
    "# LIS Tabulation: https://youtu.be/IFfYfonAFGc?si=XTbp31f-RLY2EsvQ"
   ]
  },
  {
   "cell_type": "code",
   "execution_count": 104,
   "id": "9532e810",
   "metadata": {
    "execution": {
     "iopub.execute_input": "2024-05-18T13:44:02.752973Z",
     "iopub.status.busy": "2024-05-18T13:44:02.752546Z",
     "iopub.status.idle": "2024-05-18T13:44:02.758927Z",
     "shell.execute_reply": "2024-05-18T13:44:02.758374Z"
    },
    "lines_to_next_cell": 1,
    "papermill": {
     "duration": 0.024909,
     "end_time": "2024-05-18T13:44:02.759935",
     "exception": false,
     "start_time": "2024-05-18T13:44:02.735026",
     "status": "completed"
    },
    "tags": []
   },
   "outputs": [
    {
     "name": "stdout",
     "output_type": "stream",
     "text": [
      "[1, 2, 3, 3]\n",
      "[1]\n"
     ]
    }
   ],
   "source": [
    "def lengthOfLISBetter(nums: list[int]) -> int:\n",
    "    \"\"\"\n",
    "    Time: O(N ** 2), Space: O(N)\n",
    "    This solution would be required if we were to trace back the LIS.\n",
    "    \"\"\"\n",
    "    N = len(nums)\n",
    "    lengths: list[int] = [1 for i in range(N)]\n",
    "    prevs: list[int] = [i for i in range(N)]\n",
    "    for i in range(N):\n",
    "        for j in range(i):\n",
    "            if nums[j] < nums[i] and lengths[i] < 1 + lengths[j]:\n",
    "                lengths[i] = 1 + lengths[j]\n",
    "                prevs[i] = j\n",
    "\n",
    "    # Prev Index, Length\n",
    "    max_: tuple[int, int] = (0, 1)\n",
    "    for i in range(N):\n",
    "        if max_[1] < lengths[i]:\n",
    "            max_ = i, lengths[i]\n",
    "\n",
    "    # Backtrack and print the LIS\n",
    "    i = max_[0]\n",
    "    LIS: list[int] = [nums[i]]\n",
    "    while i != prevs[i]:\n",
    "        LIS.append(nums[i])\n",
    "        i = prevs[i]\n",
    "\n",
    "    # Reverse the LIS and print it\n",
    "    LIS.reverse()\n",
    "    print(LIS)\n",
    "\n",
    "    return max_[1]\n",
    "\n",
    "# Testing the solution\n",
    "assert lengthOfLISBetter([0,1,0,3,2,3]) == 4\n",
    "assert lengthOfLISBetter([1,1,1,1,1]) == 1"
   ]
  },
  {
   "cell_type": "markdown",
   "id": "c89b7972",
   "metadata": {
    "papermill": {
     "duration": 0.017068,
     "end_time": "2024-05-18T13:44:02.793943",
     "exception": false,
     "start_time": "2024-05-18T13:44:02.776875",
     "status": "completed"
    },
    "tags": []
   },
   "source": [
    "LIS with Binary Search: https://youtu.be/on2hvxBXJH4?si=XLlRu7uTag9KM_Mr\n",
    "Intuition:\n",
    "```\n",
    "Say we have an array like:\n",
    "0, 1, 0, 3, 2, 3\n",
    "\n",
    "Step 1: [0]\n",
    "Step 2: [0, 1]\n",
    "Step 3: [0, 1], [0]\n",
    "Step 4: [0, 1, 3], [0, 3]\n",
    "Step 5: [0, 1, 3], [0, 3], [0, 1, 2], [0, 2]\n",
    "Step 6: [0, 1, 3], [0, 3], [0, 1, 2, 3], [0, 2, 3]\n",
    "\n",
    "Basically at each step we are inserting into the right position and creating a new array if we cannot insert into existing arrays. This consumes a lot of time and memory.\n",
    "We could instead simply save the correct insert position to find the max LIS length which is the trick to finding the N log N solution\n",
    "\n",
    "Step 1: [0]\n",
    "Step 2: [0, 1]\n",
    "Step 3: [0, 1]\n",
    "Step 4: [0, 1, 3]\n",
    "Step 5: [0, 1, 2] (replace 2 at the position where it would get inserted into)\n",
    "Step 6: [0, 1, 2, 3]\n",
    "\n",
    "Do note that this array is not the subsequence. We merely use it to compute the length of LIS.\n",
    "```"
   ]
  },
  {
   "cell_type": "code",
   "execution_count": 105,
   "id": "17062257",
   "metadata": {
    "execution": {
     "iopub.execute_input": "2024-05-18T13:44:02.828305Z",
     "iopub.status.busy": "2024-05-18T13:44:02.828003Z",
     "iopub.status.idle": "2024-05-18T13:44:02.833206Z",
     "shell.execute_reply": "2024-05-18T13:44:02.832665Z"
    },
    "lines_to_next_cell": 1,
    "papermill": {
     "duration": 0.023573,
     "end_time": "2024-05-18T13:44:02.834247",
     "exception": false,
     "start_time": "2024-05-18T13:44:02.810674",
     "status": "completed"
    },
    "tags": []
   },
   "outputs": [],
   "source": [
    "# https://leetcode.com/problems/longest-increasing-subsequence/submissions/1260560726\n",
    "def lengthOfLISOptimal(nums: list[int]) -> int:\n",
    "    def LB(arr: list[int], target: int) -> int:\n",
    "        \"\"\"\n",
    "        Given n, returns the insertion position of N\n",
    "        \"\"\"\n",
    "        N = len(arr)\n",
    "        low, high = 0, N - 1\n",
    "        while low <= high:\n",
    "            mid = (low + high) // 2\n",
    "            if arr[mid] < target:\n",
    "                low = mid + 1\n",
    "            else:\n",
    "                high = mid - 1\n",
    "\n",
    "        return low\n",
    "\n",
    "    dp: list[int] = []\n",
    "    for n in nums:\n",
    "        if not dp or dp[-1] < n:\n",
    "            dp.append(n)\n",
    "        else:\n",
    "            idx = LB(dp, n)\n",
    "            dp[idx] = n\n",
    "\n",
    "    return len(dp)\n",
    "\n",
    "# Testing the solution\n",
    "assert lengthOfLISOptimal([0,1,0,3,2,3]) == 4\n",
    "assert lengthOfLISOptimal([1,1,1,1,1]) == 1"
   ]
  },
  {
   "cell_type": "markdown",
   "id": "8847dadb",
   "metadata": {
    "papermill": {
     "duration": 0.016864,
     "end_time": "2024-05-18T13:44:02.868119",
     "exception": false,
     "start_time": "2024-05-18T13:44:02.851255",
     "status": "completed"
    },
    "tags": []
   },
   "source": [
    "Largest divisible subset: https://leetcode.com/problems/largest-divisible-subset/description/\n",
    "Video Link: https://youtu.be/gDuZwBW9VvM?si=Ar4BoU9h-JYT5j_S"
   ]
  },
  {
   "cell_type": "code",
   "execution_count": 106,
   "id": "85cb2adc",
   "metadata": {
    "execution": {
     "iopub.execute_input": "2024-05-18T13:44:02.902713Z",
     "iopub.status.busy": "2024-05-18T13:44:02.902295Z",
     "iopub.status.idle": "2024-05-18T13:44:02.909586Z",
     "shell.execute_reply": "2024-05-18T13:44:02.909044Z"
    },
    "lines_to_next_cell": 1,
    "papermill": {
     "duration": 0.025722,
     "end_time": "2024-05-18T13:44:02.910590",
     "exception": false,
     "start_time": "2024-05-18T13:44:02.884868",
     "status": "completed"
    },
    "tags": []
   },
   "outputs": [
    {
     "data": {
      "text/plain": [
       "[32, 8, 4, 2, 1]"
      ]
     },
     "execution_count": 106,
     "metadata": {},
     "output_type": "execute_result"
    }
   ],
   "source": [
    "# https://leetcode.com/problems/largest-divisible-subset/submissions/1260986041\n",
    "def largestDivisibleSubset(nums: list[int]) -> list[int]:\n",
    "    \"\"\"\n",
    "    At each element, it is pick or no pick. We can pick it max_ divides n or n divides max_. Once we chose to pick n, update max_\n",
    "    Time: O(N), Space: O(N)\n",
    "    \"\"\"\n",
    "    N = len(nums)\n",
    "\n",
    "    # We sort it to make our loop code easier, works without sorting\n",
    "    # but need to check for i % j as well j % i. Besides we are asked for\n",
    "    # a subset and the ordering doesn't really matter.\n",
    "    nums.sort()\n",
    "\n",
    "    # Dp to store the longest subset and the prevs for backtracking (refer: lengthOfLISBetter())\n",
    "    lengths: list[int] = [1 for i in range(N)]\n",
    "    prevs: list[int] = [i for i in range(N)]\n",
    "\n",
    "    # Till index i, what is max length divisible subset that I can find?\n",
    "    for i in range(N):\n",
    "        for j in range(i):\n",
    "            if nums[i] % nums[j] == 0 and lengths[i] < lengths[j] + 1:\n",
    "                lengths[i] = lengths[j] + 1\n",
    "                prevs[i] = j\n",
    "\n",
    "    # Find the maximum length\n",
    "    max_idx = 0\n",
    "    for i in range(N):\n",
    "        if lengths[max_idx] < lengths[i]:\n",
    "            max_idx = i\n",
    "\n",
    "    # Create the Largest Divisible Subset\n",
    "    i = max_idx\n",
    "    LDS: list[int] = [nums[i]]\n",
    "    while prevs[i] != i:\n",
    "        i = prevs[i]\n",
    "        LDS.append(nums[i])\n",
    "\n",
    "    return LDS\n",
    "\n",
    "# Testing the solution\n",
    "largestDivisibleSubset([1,3,2,4,6,8,9,10,12,13,14,7,18,20,21,25,26,28,30,32])"
   ]
  },
  {
   "cell_type": "markdown",
   "id": "fd81bb05",
   "metadata": {
    "papermill": {
     "duration": 0.016854,
     "end_time": "2024-05-18T13:44:02.944352",
     "exception": false,
     "start_time": "2024-05-18T13:44:02.927498",
     "status": "completed"
    },
    "tags": []
   },
   "source": [
    "Longest String Chain: https://leetcode.com/problems/longest-string-chain/description/\n",
    "Video Link: https://leetcode.com/problems/longest-string-chain/description/"
   ]
  },
  {
   "cell_type": "code",
   "execution_count": 107,
   "id": "c6e337f6",
   "metadata": {
    "execution": {
     "iopub.execute_input": "2024-05-18T13:44:02.979199Z",
     "iopub.status.busy": "2024-05-18T13:44:02.978833Z",
     "iopub.status.idle": "2024-05-18T13:44:02.985045Z",
     "shell.execute_reply": "2024-05-18T13:44:02.984520Z"
    },
    "lines_to_next_cell": 1,
    "papermill": {
     "duration": 0.024789,
     "end_time": "2024-05-18T13:44:02.986091",
     "exception": false,
     "start_time": "2024-05-18T13:44:02.961302",
     "status": "completed"
    },
    "tags": []
   },
   "outputs": [],
   "source": [
    "def longestStrChainMemo(words: list[str]) -> int:\n",
    "    def isNext(i1: int, i2: int) -> bool:\n",
    "        \"\"\"\n",
    "        xbc, cxbc -> True\n",
    "        xbc, xcbc -> True\n",
    "        xbc, xbcc -> True\n",
    "        xbc, xacc -> False\n",
    "        \"\"\"\n",
    "        N1, N2 = len(words[i1]), len(words[i2])\n",
    "        if N2 - N1 != 1:\n",
    "            return False\n",
    "        else:\n",
    "            mismatch = 0\n",
    "            i = j = 0\n",
    "            while i < N1 and j < N2:\n",
    "                if words[i1][i] != words[i2][j]:\n",
    "                    j += 1\n",
    "                    mismatch += 1\n",
    "                else:\n",
    "                    i, j = i + 1, j + 1\n",
    "\n",
    "            return mismatch <= 1\n",
    "\n",
    "    @functools.cache\n",
    "    def backtrack(i: int, prev: int) -> int:\n",
    "        if i == N:\n",
    "            return 0\n",
    "        elif prev == -1 or isNext(prev, i):\n",
    "            return max(1 + backtrack(i + 1, i), backtrack(i + 1, prev))\n",
    "        else:\n",
    "            return backtrack(i + 1, prev)\n",
    "\n",
    "    # Sorting to make things easier\n",
    "    N = len(words)\n",
    "    words.sort(key=len)\n",
    "    return backtrack(0, -1)\n",
    "\n",
    "# Testing the solution\n",
    "assert longestStrChainMemo([\"xbc\",\"pcxbcf\",\"xb\",\"cxbc\",\"pcxbc\"]) == 5\n",
    "assert longestStrChainMemo([\"a\",\"b\",\"ba\",\"bca\",\"bda\",\"bdca\"]) == 4\n",
    "assert longestStrChainMemo([\"abcd\",\"dbqca\"]) == 1"
   ]
  },
  {
   "cell_type": "code",
   "execution_count": 108,
   "id": "89ac7af0",
   "metadata": {
    "execution": {
     "iopub.execute_input": "2024-05-18T13:44:03.021137Z",
     "iopub.status.busy": "2024-05-18T13:44:03.020792Z",
     "iopub.status.idle": "2024-05-18T13:44:03.027252Z",
     "shell.execute_reply": "2024-05-18T13:44:03.026825Z"
    },
    "lines_to_next_cell": 1,
    "papermill": {
     "duration": 0.025034,
     "end_time": "2024-05-18T13:44:03.028294",
     "exception": false,
     "start_time": "2024-05-18T13:44:03.003260",
     "status": "completed"
    },
    "tags": []
   },
   "outputs": [],
   "source": [
    "def longestStrChainTab(words: list[str]) -> int:\n",
    "    def isNext(i1: int, i2: int) -> bool:\n",
    "        N1, N2 = len(words[i1]), len(words[i2])\n",
    "        if N2 - N1 != 1:\n",
    "            return False\n",
    "        else:\n",
    "            mismatch = 0\n",
    "            i = j = 0\n",
    "            while i < N1 and j < N2:\n",
    "                if words[i1][i] != words[i2][j]:\n",
    "                    j += 1\n",
    "                    mismatch += 1\n",
    "                else:\n",
    "                    i, j = i + 1, j + 1\n",
    "\n",
    "            return mismatch <= 1\n",
    "\n",
    "    N = len(words)\n",
    "    words.sort(key=len)\n",
    "    dp: list[list[int]] = [[0 for j in range(N + 2)] for i in range(N + 1)]\n",
    "    for i in range(N - 1, -1, -1):\n",
    "        for prev in range(i, -1, -1):\n",
    "            if prev == 0 or isNext(prev - 1, i):\n",
    "                dp[i][prev] = max(1 + dp[i + 1][i + 1], dp[i + 1][prev])\n",
    "            else:\n",
    "                dp[i][prev] = dp[i + 1][prev]\n",
    "\n",
    "    return dp[0][0]\n",
    "\n",
    "# Testing the solution\n",
    "assert longestStrChainTab([\"xbc\",\"pcxbcf\",\"xb\",\"cxbc\",\"pcxbc\"]) == 5\n",
    "assert longestStrChainTab([\"a\",\"b\",\"ba\",\"bca\",\"bda\",\"bdca\"]) == 4\n",
    "assert longestStrChainTab([\"abcd\",\"dbqca\"]) == 1"
   ]
  },
  {
   "cell_type": "code",
   "execution_count": 109,
   "id": "45db1b07",
   "metadata": {
    "execution": {
     "iopub.execute_input": "2024-05-18T13:44:03.063478Z",
     "iopub.status.busy": "2024-05-18T13:44:03.063132Z",
     "iopub.status.idle": "2024-05-18T13:44:03.069081Z",
     "shell.execute_reply": "2024-05-18T13:44:03.068619Z"
    },
    "lines_to_next_cell": 1,
    "papermill": {
     "duration": 0.02458,
     "end_time": "2024-05-18T13:44:03.070142",
     "exception": false,
     "start_time": "2024-05-18T13:44:03.045562",
     "status": "completed"
    },
    "tags": []
   },
   "outputs": [],
   "source": [
    "def longestStrChain(words: list[str]) -> int:\n",
    "    \"\"\"\n",
    "    Time: O(N ** 2 x L), Space: O(N)\n",
    "    L - max word length\n",
    "    \"\"\"\n",
    "    def isNext(i1: int, i2: int) -> bool:\n",
    "        N1, N2 = len(words[i1]), len(words[i2])\n",
    "        if N2 - N1 != 1:\n",
    "            return False\n",
    "        else:\n",
    "            mismatch = 0\n",
    "            i = j = 0\n",
    "            while i < N1 and j < N2:\n",
    "                if words[i1][i] != words[i2][j]:\n",
    "                    j += 1\n",
    "                    mismatch += 1\n",
    "                else:\n",
    "                    i, j = i + 1, j + 1\n",
    "\n",
    "            return mismatch <= 1\n",
    "\n",
    "    N = len(words)\n",
    "    words.sort(key=len)\n",
    "    dp: list[int] = [0 for j in range(N + 2)]\n",
    "    for i in range(N - 1, -1, -1):\n",
    "        for prev in range(i, -1, -1):\n",
    "            if prev == 0 or isNext(prev - 1, i):\n",
    "                dp[prev] = max(1 + dp[i + 1], dp[prev])\n",
    "\n",
    "    return dp[0]\n",
    "\n",
    "# Testing the solution\n",
    "assert longestStrChain([\"xbc\",\"pcxbcf\",\"xb\",\"cxbc\",\"pcxbc\"]) == 5\n",
    "assert longestStrChain([\"a\",\"b\",\"ba\",\"bca\",\"bda\",\"bdca\"]) == 4\n",
    "assert longestStrChain([\"abcd\",\"dbqca\"]) == 1"
   ]
  },
  {
   "cell_type": "markdown",
   "id": "5173b7e5",
   "metadata": {
    "papermill": {
     "duration": 0.017053,
     "end_time": "2024-05-18T13:44:03.104330",
     "exception": false,
     "start_time": "2024-05-18T13:44:03.087277",
     "status": "completed"
    },
    "tags": []
   },
   "source": [
    "Longest Bitonic Subsequence\n",
    "Video Link: https://youtu.be/y4vN0WNdrlg?si=6eUQzwVJYFEeUj49"
   ]
  },
  {
   "cell_type": "code",
   "execution_count": 110,
   "id": "e2d77aba",
   "metadata": {
    "execution": {
     "iopub.execute_input": "2024-05-18T13:44:03.139245Z",
     "iopub.status.busy": "2024-05-18T13:44:03.138861Z",
     "iopub.status.idle": "2024-05-18T13:44:03.144507Z",
     "shell.execute_reply": "2024-05-18T13:44:03.144076Z"
    },
    "lines_to_next_cell": 1,
    "papermill": {
     "duration": 0.024306,
     "end_time": "2024-05-18T13:44:03.145613",
     "exception": false,
     "start_time": "2024-05-18T13:44:03.121307",
     "status": "completed"
    },
    "tags": []
   },
   "outputs": [],
   "source": [
    "def longestBitonicSequence(N : int, nums : list[int]) -> int:\n",
    "    # Find the subsequence length of strictly increasing subsequence\n",
    "    increasing: list[int] = [1 for i in range(N)]\n",
    "    for i in range(N):\n",
    "        for j in range(i):\n",
    "            if nums[j] < nums[i]:\n",
    "                increasing[i] = max(increasing[i], increasing[j] + 1)\n",
    "\n",
    "    # Find the subsequence length of strictly decreasing subsequence\n",
    "    decreasing: list[int] = [1 for i in range(N)]\n",
    "    for i in range(N - 1, -1, -1):\n",
    "        for j in range(i + 1, N):\n",
    "            if nums[j] < nums[i]:\n",
    "                decreasing[i] = max(decreasing[i], decreasing[j] + 1)\n",
    "\n",
    "    # Compute the longest Bitonic sequence\n",
    "    max_length = 0\n",
    "    for i in range(N):\n",
    "        if increasing[i] > 1 and decreasing[i] > 1:\n",
    "            max_length = max(max_length, increasing[i] + decreasing[i] - 1)\n",
    "\n",
    "    return max_length\n",
    "\n",
    "# Testing the solution\n",
    "assert longestBitonicSequence(8, [1, 11, 2, 10, 4, 5, 2, 1]) == 6\n",
    "assert longestBitonicSequence(5, [1, 2, 5, 3, 2]) == 5\n",
    "assert longestBitonicSequence(3, [5, 7, 9]) == 0"
   ]
  },
  {
   "cell_type": "markdown",
   "id": "dbcaf743",
   "metadata": {
    "papermill": {
     "duration": 0.016952,
     "end_time": "2024-05-18T13:44:03.179610",
     "exception": false,
     "start_time": "2024-05-18T13:44:03.162658",
     "status": "completed"
    },
    "tags": []
   },
   "source": [
    "Number of longest increasing subsequences: https://leetcode.com/problems/number-of-longest-increasing-subsequence/\n",
    "Video link: https://youtu.be/cKVl1TFdNXg?si=F5dpyIpk-GQ0mhEl"
   ]
  },
  {
   "cell_type": "code",
   "execution_count": 111,
   "id": "8e5206cb",
   "metadata": {
    "execution": {
     "iopub.execute_input": "2024-05-18T13:44:03.214588Z",
     "iopub.status.busy": "2024-05-18T13:44:03.214249Z",
     "iopub.status.idle": "2024-05-18T13:44:03.221669Z",
     "shell.execute_reply": "2024-05-18T13:44:03.221206Z"
    },
    "lines_to_next_cell": 1,
    "papermill": {
     "duration": 0.026081,
     "end_time": "2024-05-18T13:44:03.222733",
     "exception": false,
     "start_time": "2024-05-18T13:44:03.196652",
     "status": "completed"
    },
    "tags": []
   },
   "outputs": [],
   "source": [
    "# https://leetcode.com/problems/number-of-longest-increasing-subsequence/submissions/1261164775\n",
    "def findNumberOfLIS(nums: list[int]) -> int:\n",
    "    N = len(nums)\n",
    "    dp: list[int] = [1 for i in range(N)]\n",
    "    prevs: dict[int, set[int]] = dict()\n",
    "    for i in range(N):\n",
    "        for j in range(i):\n",
    "            if nums[j] < nums[i] and dp[i] <= 1 + dp[j]:\n",
    "                # If new max, reset prev\n",
    "                if dp[i] < 1 + dp[j]:\n",
    "                    prevs[i] = {j}\n",
    "                # If max already exists, add to prev\n",
    "                else:\n",
    "                    prev = prevs.get(i, set())\n",
    "                    prev.add(j)\n",
    "                    prevs[i] = prev\n",
    "\n",
    "                dp[i] = 1 + dp[j]\n",
    "\n",
    "    # Find the max index\n",
    "    max_indices: list[int] = [0]\n",
    "    for i in range(1, N):\n",
    "        if dp[i] > dp[max_indices[0]]:\n",
    "            max_indices = [i]\n",
    "        elif dp[i] == dp[max_indices[0]]:\n",
    "            max_indices.append(i)\n",
    "\n",
    "    # Backtrack to find the counts\n",
    "    def backtrack(i: int) -> int:\n",
    "        if i not in prevs:\n",
    "            return 1\n",
    "        else:\n",
    "            count = 0\n",
    "            for j in prevs[i]:\n",
    "                count += backtrack(j)\n",
    "            return count\n",
    "\n",
    "    # Find count for all max indices and sum them\n",
    "    result: int = 0\n",
    "    for max_idx in max_indices:\n",
    "        result += backtrack(max_idx)\n",
    "\n",
    "    return result\n",
    "\n",
    "# Testing the solution\n",
    "assert findNumberOfLIS([1,3,5,4,7,6,5]) == 5\n",
    "assert findNumberOfLIS([2,2,2,2,2]) == 5\n",
    "assert findNumberOfLIS([1,2,3,4,4,4,4,5,5,2,3,3,4,5,6,6,4,2,1,2,2,3,4,5]) == 34"
   ]
  },
  {
   "cell_type": "code",
   "execution_count": 112,
   "id": "7cf84ae9",
   "metadata": {
    "execution": {
     "iopub.execute_input": "2024-05-18T13:44:03.258321Z",
     "iopub.status.busy": "2024-05-18T13:44:03.257864Z",
     "iopub.status.idle": "2024-05-18T13:44:03.263655Z",
     "shell.execute_reply": "2024-05-18T13:44:03.263195Z"
    },
    "lines_to_next_cell": 1,
    "papermill": {
     "duration": 0.024666,
     "end_time": "2024-05-18T13:44:03.264678",
     "exception": false,
     "start_time": "2024-05-18T13:44:03.240012",
     "status": "completed"
    },
    "tags": []
   },
   "outputs": [],
   "source": [
    "# https://leetcode.com/problems/number-of-longest-increasing-subsequence/submissions/1261259922\n",
    "def findNumberOfLISStriver(nums: list[int]) -> int:\n",
    "    N = len(nums)\n",
    "    dp: list[int] = [1 for i in range(N)]\n",
    "    counts: list[int] = [1 for i in range(N)]\n",
    "\n",
    "    # Compute the max length LIS and store the counts\n",
    "    lis_length: int = 1\n",
    "    for i in range(N):\n",
    "        for j in range(i):\n",
    "            if nums[j] < nums[i] and dp[i] <= 1 + dp[j]:\n",
    "                # Inherit\n",
    "                if dp[i] < 1 + dp[j]:\n",
    "                    dp[i] = 1 + dp[j]\n",
    "                    counts[i] = counts[j]\n",
    "                    lis_length = max(lis_length, dp[i])\n",
    "\n",
    "                # Increment\n",
    "                else:\n",
    "                    counts[i] += counts[j]\n",
    "\n",
    "    # Count the occurances of max length LIS\n",
    "    lis_count = 0\n",
    "    for i in range(N):\n",
    "        if dp[i] == lis_length:\n",
    "            lis_count += counts[i]\n",
    "\n",
    "    return lis_count\n",
    "\n",
    "# Testing the solution\n",
    "assert findNumberOfLISStriver([1,3,5,4,7,6,5]) == 5\n",
    "assert findNumberOfLISStriver([2,2,2,2,2]) == 5\n",
    "assert findNumberOfLISStriver([1,2,3,4,4,4,4,5,5,2,3,3,4,5,6,6,4,2,1,2,2,3,4,5]) == 34"
   ]
  },
  {
   "cell_type": "code",
   "execution_count": 113,
   "id": "1ea62afb",
   "metadata": {
    "execution": {
     "iopub.execute_input": "2024-05-18T13:44:03.300397Z",
     "iopub.status.busy": "2024-05-18T13:44:03.300073Z",
     "iopub.status.idle": "2024-05-18T13:44:03.304162Z",
     "shell.execute_reply": "2024-05-18T13:44:03.303665Z"
    },
    "lines_to_next_cell": 1,
    "papermill": {
     "duration": 0.022998,
     "end_time": "2024-05-18T13:44:03.305201",
     "exception": false,
     "start_time": "2024-05-18T13:44:03.282203",
     "status": "completed"
    },
    "tags": []
   },
   "outputs": [],
   "source": [
    "def matrixMultiplicationBrute(N: int, arr: list[int]) -> float:\n",
    "    if N == 2:\n",
    "        return 0\n",
    "    else:\n",
    "        min_: float = math.inf\n",
    "        for i in range(1, N - 1):\n",
    "            min_ = min(min_, (arr[i - 1] * arr[i] * arr[i + 1]) + matrixMultiplicationBrute(N - 1, arr[:i] + arr[i + 1:]))\n",
    "        return min_\n",
    "\n",
    "# Testing the solution\n",
    "assert matrixMultiplicationBrute(5, [40, 20, 30, 10, 30]) == 26000\n",
    "assert matrixMultiplicationBrute(4, [10, 30, 5, 60]) == 4500"
   ]
  },
  {
   "cell_type": "code",
   "execution_count": 114,
   "id": "f269aff7",
   "metadata": {
    "execution": {
     "iopub.execute_input": "2024-05-18T13:44:03.340466Z",
     "iopub.status.busy": "2024-05-18T13:44:03.340151Z",
     "iopub.status.idle": "2024-05-18T13:44:03.344602Z",
     "shell.execute_reply": "2024-05-18T13:44:03.344083Z"
    },
    "papermill": {
     "duration": 0.023242,
     "end_time": "2024-05-18T13:44:03.345702",
     "exception": false,
     "start_time": "2024-05-18T13:44:03.322460",
     "status": "completed"
    },
    "tags": []
   },
   "outputs": [],
   "source": [
    "def matrixMultiplication(N: int, arr: list[int]) -> float:\n",
    "    @functools.cache\n",
    "    def backtrack(i: int, j: int) -> float:\n",
    "        if i == j:\n",
    "            return 0\n",
    "        else:\n",
    "            min_: float = math.inf\n",
    "            for k in range(i, j):\n",
    "                min_ = min(min_, (arr[i - 1] * arr[k] * arr[j]) + backtrack(i, k) + backtrack(k + 1, j))\n",
    "            return min_\n",
    "\n",
    "    return backtrack(1, N - 1)\n",
    "\n",
    "# Testing the solution\n",
    "assert matrixMultiplication(5, [40, 20, 30, 10, 30]) == 26000\n",
    "assert matrixMultiplication(4, [10, 30, 5, 60]) == 4500"
   ]
  }
 ],
 "metadata": {
  "kernelspec": {
   "display_name": "Python 3 (ipykernel)",
   "language": "python",
   "name": "python3"
  },
  "language_info": {
   "codemirror_mode": {
    "name": "ipython",
    "version": 3
   },
   "file_extension": ".py",
   "mimetype": "text/x-python",
   "name": "python",
   "nbconvert_exporter": "python",
   "pygments_lexer": "ipython3",
   "version": "3.11.9"
  },
  "papermill": {
   "default_parameters": {},
   "duration": 7.464716,
   "end_time": "2024-05-18T13:44:03.478392",
   "environment_variables": {},
   "exception": null,
   "input_path": "study/striver-A2Z/13-dp.ipynb",
   "output_path": "study/striver-A2Z/13-dp.ipynb",
   "parameters": {},
   "start_time": "2024-05-18T13:43:56.013676",
   "version": "2.6.0"
  }
 },
 "nbformat": 4,
 "nbformat_minor": 5
}