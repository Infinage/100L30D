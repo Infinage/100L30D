{
 "cells": [
  {
   "cell_type": "markdown",
   "id": "457ab51f",
   "metadata": {
    "papermill": {
     "duration": 0.005558,
     "end_time": "2024-05-08T18:18:48.905368",
     "exception": false,
     "start_time": "2024-05-08T18:18:48.899810",
     "status": "completed"
    },
    "tags": []
   },
   "source": [
    "### Some important imports"
   ]
  },
  {
   "cell_type": "code",
   "execution_count": 1,
   "id": "164d751b",
   "metadata": {
    "execution": {
     "iopub.execute_input": "2024-05-08T18:18:48.916365Z",
     "iopub.status.busy": "2024-05-08T18:18:48.915969Z",
     "iopub.status.idle": "2024-05-08T18:18:48.921497Z",
     "shell.execute_reply": "2024-05-08T18:18:48.920934Z"
    },
    "lines_to_next_cell": 1,
    "papermill": {
     "duration": 0.012369,
     "end_time": "2024-05-08T18:18:48.922635",
     "exception": false,
     "start_time": "2024-05-08T18:18:48.910266",
     "status": "completed"
    },
    "tags": []
   },
   "outputs": [],
   "source": [
    "import functools\n",
    "import itertools\n",
    "import collections\n",
    "import math\n",
    "import heapq"
   ]
  },
  {
   "cell_type": "markdown",
   "id": "48648354",
   "metadata": {
    "papermill": {
     "duration": 0.004552,
     "end_time": "2024-05-08T18:18:48.931963",
     "exception": false,
     "start_time": "2024-05-08T18:18:48.927411",
     "status": "completed"
    },
    "tags": []
   },
   "source": [
    "Introduction to DP: https://youtu.be/tyB0ztf0DNY?si=SgpBwGNqPXzdPSRA\n",
    "1. Tabulation: Bottom up DP: Ans -> Base case -> Ans\n",
    "2. Memoization: Top down DP: Base case -> Ans"
   ]
  },
  {
   "cell_type": "code",
   "execution_count": 2,
   "id": "41c46591",
   "metadata": {
    "execution": {
     "iopub.execute_input": "2024-05-08T18:18:48.943360Z",
     "iopub.status.busy": "2024-05-08T18:18:48.943039Z",
     "iopub.status.idle": "2024-05-08T18:18:48.949252Z",
     "shell.execute_reply": "2024-05-08T18:18:48.948703Z"
    },
    "lines_to_next_cell": 1,
    "papermill": {
     "duration": 0.013042,
     "end_time": "2024-05-08T18:18:48.950475",
     "exception": false,
     "start_time": "2024-05-08T18:18:48.937433",
     "status": "completed"
    },
    "tags": []
   },
   "outputs": [
    {
     "data": {
      "text/plain": [
       "55"
      ]
     },
     "execution_count": 2,
     "metadata": {},
     "output_type": "execute_result"
    }
   ],
   "source": [
    "def fiboBrute(n: int) -> int:\n",
    "    \"\"\"\n",
    "    Vanilla recursion\n",
    "    Time: O(2 ^ N), Space: O(2 ^ N)\n",
    "    \"\"\"\n",
    "    if n <= 1:\n",
    "        return n\n",
    "    else:\n",
    "        return fiboBrute(n - 1) + fiboBrute(n - 2)\n",
    "\n",
    "fiboBrute(10)"
   ]
  },
  {
   "cell_type": "code",
   "execution_count": 3,
   "id": "83ba7cd5",
   "metadata": {
    "execution": {
     "iopub.execute_input": "2024-05-08T18:18:48.961888Z",
     "iopub.status.busy": "2024-05-08T18:18:48.961427Z",
     "iopub.status.idle": "2024-05-08T18:18:48.967031Z",
     "shell.execute_reply": "2024-05-08T18:18:48.966580Z"
    },
    "lines_to_next_cell": 1,
    "papermill": {
     "duration": 0.012606,
     "end_time": "2024-05-08T18:18:48.968180",
     "exception": false,
     "start_time": "2024-05-08T18:18:48.955574",
     "status": "completed"
    },
    "tags": []
   },
   "outputs": [
    {
     "data": {
      "text/plain": [
       "55"
      ]
     },
     "execution_count": 3,
     "metadata": {},
     "output_type": "execute_result"
    }
   ],
   "source": [
    "def fiboBetter1(n: int) -> int:\n",
    "    \"\"\"\n",
    "    Memoization Approach: Top down approach\n",
    "    Time: O(N), Space: O(N) + O(N)\n",
    "    \"\"\"\n",
    "    dp: list[int] = [-1 for i in range(n + 1)]\n",
    "    def backtrack(curr: int) -> int:\n",
    "        if curr <= 1:\n",
    "            return curr\n",
    "        elif dp[curr] != -1:\n",
    "            return dp[curr]\n",
    "        else:\n",
    "            dp[curr] = backtrack(curr - 1) + backtrack(curr - 2)\n",
    "            return dp[curr]\n",
    "\n",
    "    return backtrack(n)\n",
    "\n",
    "fiboBetter1(10)"
   ]
  },
  {
   "cell_type": "code",
   "execution_count": 4,
   "id": "80fded7e",
   "metadata": {
    "execution": {
     "iopub.execute_input": "2024-05-08T18:18:48.979520Z",
     "iopub.status.busy": "2024-05-08T18:18:48.979156Z",
     "iopub.status.idle": "2024-05-08T18:18:48.984112Z",
     "shell.execute_reply": "2024-05-08T18:18:48.983689Z"
    },
    "lines_to_next_cell": 1,
    "papermill": {
     "duration": 0.01197,
     "end_time": "2024-05-08T18:18:48.985284",
     "exception": false,
     "start_time": "2024-05-08T18:18:48.973314",
     "status": "completed"
    },
    "tags": []
   },
   "outputs": [
    {
     "data": {
      "text/plain": [
       "55"
      ]
     },
     "execution_count": 4,
     "metadata": {},
     "output_type": "execute_result"
    }
   ],
   "source": [
    "def fiboBetter2(n: int) -> int:\n",
    "    \"\"\"\n",
    "    Tabulation: Bottom up approach\n",
    "    Time: O(N), Space: O(N)\n",
    "    \"\"\"\n",
    "    dp: list[int] = [-1 if i > 1 else i for i in range(n + 1)]\n",
    "    for i in range(2, n + 1):\n",
    "        dp[i] = dp[i - 1] + dp[i - 2]\n",
    "\n",
    "    return dp[n]\n",
    "\n",
    "fiboBetter2(10)"
   ]
  },
  {
   "cell_type": "code",
   "execution_count": 5,
   "id": "8f7d86e2",
   "metadata": {
    "execution": {
     "iopub.execute_input": "2024-05-08T18:18:48.996644Z",
     "iopub.status.busy": "2024-05-08T18:18:48.996323Z",
     "iopub.status.idle": "2024-05-08T18:18:49.001087Z",
     "shell.execute_reply": "2024-05-08T18:18:49.000535Z"
    },
    "lines_to_next_cell": 1,
    "papermill": {
     "duration": 0.011611,
     "end_time": "2024-05-08T18:18:49.002145",
     "exception": false,
     "start_time": "2024-05-08T18:18:48.990534",
     "status": "completed"
    },
    "tags": []
   },
   "outputs": [
    {
     "data": {
      "text/plain": [
       "55"
      ]
     },
     "execution_count": 5,
     "metadata": {},
     "output_type": "execute_result"
    }
   ],
   "source": [
    "def fiboOptimal(n: int) -> int:\n",
    "    \"\"\"\n",
    "    Bottom up approach\n",
    "    Time: O(N), Space: O(1)\n",
    "    \"\"\"\n",
    "    prev2, prev1 = 0, 1\n",
    "    for i in range(2, n + 1):\n",
    "        prev2, prev1 = prev1, prev1 + prev2\n",
    "        n -= 1\n",
    "\n",
    "    return prev1\n",
    "\n",
    "fiboOptimal(10)"
   ]
  },
  {
   "cell_type": "markdown",
   "id": "855c35fb",
   "metadata": {
    "papermill": {
     "duration": 0.00498,
     "end_time": "2024-05-08T18:18:49.012322",
     "exception": false,
     "start_time": "2024-05-08T18:18:49.007342",
     "status": "completed"
    },
    "tags": []
   },
   "source": [
    "Climbing Stairs: https://leetcode.com/problems/climbing-stairs/\n",
    "Video Link: https://youtu.be/mLfjzJsN8us?si=C7W-jiYvql0mEnbh"
   ]
  },
  {
   "cell_type": "code",
   "execution_count": 6,
   "id": "87993489",
   "metadata": {
    "execution": {
     "iopub.execute_input": "2024-05-08T18:18:49.023904Z",
     "iopub.status.busy": "2024-05-08T18:18:49.023513Z",
     "iopub.status.idle": "2024-05-08T18:18:49.028008Z",
     "shell.execute_reply": "2024-05-08T18:18:49.027440Z"
    },
    "lines_to_next_cell": 1,
    "papermill": {
     "duration": 0.011558,
     "end_time": "2024-05-08T18:18:49.029091",
     "exception": false,
     "start_time": "2024-05-08T18:18:49.017533",
     "status": "completed"
    },
    "tags": []
   },
   "outputs": [],
   "source": [
    "def climbStairsBetter(n: int) -> int:\n",
    "    \"\"\"Time: O(N), Space: O(N)\"\"\"\n",
    "\n",
    "    dp: list[int] = [-1 for i in range(n + 1)]\n",
    "    def backtrack(curr: int) -> int:\n",
    "        if curr <= 1:\n",
    "            return 1\n",
    "        elif dp[curr] != -1:\n",
    "            return dp[curr]\n",
    "        else:\n",
    "            dp[curr] = backtrack(curr - 1) + backtrack(curr - 2)\n",
    "            return dp[curr]\n",
    "\n",
    "    return backtrack(n)\n",
    "\n",
    "assert climbStairsBetter(45) == 1836311903"
   ]
  },
  {
   "cell_type": "code",
   "execution_count": 7,
   "id": "2dc15ac3",
   "metadata": {
    "execution": {
     "iopub.execute_input": "2024-05-08T18:18:49.040929Z",
     "iopub.status.busy": "2024-05-08T18:18:49.040474Z",
     "iopub.status.idle": "2024-05-08T18:18:49.044095Z",
     "shell.execute_reply": "2024-05-08T18:18:49.043556Z"
    },
    "lines_to_next_cell": 1,
    "papermill": {
     "duration": 0.010815,
     "end_time": "2024-05-08T18:18:49.045257",
     "exception": false,
     "start_time": "2024-05-08T18:18:49.034442",
     "status": "completed"
    },
    "tags": []
   },
   "outputs": [],
   "source": [
    "def climbStairs(n: int) -> int:\n",
    "    \"\"\"Time: O(N), Space: O(1)\"\"\"\n",
    "    prev2, prev1 = 1, 1\n",
    "    while n > 0:\n",
    "        prev2, prev1 = prev1, prev1 + prev2\n",
    "        n -= 1\n",
    "\n",
    "    return prev2\n",
    "\n",
    "assert climbStairs(45) == 1836311903"
   ]
  },
  {
   "cell_type": "markdown",
   "id": "3cd4d88c",
   "metadata": {
    "papermill": {
     "duration": 0.005028,
     "end_time": "2024-05-08T18:18:49.055526",
     "exception": false,
     "start_time": "2024-05-08T18:18:49.050498",
     "status": "completed"
    },
    "tags": []
   },
   "source": [
    "Video link: https://youtu.be/EgG3jsGoPvQ?si=Cm5AVvq_zCnr-w6q\n",
    "Frog Jump: 1"
   ]
  },
  {
   "cell_type": "code",
   "execution_count": 8,
   "id": "59c27b1e",
   "metadata": {
    "execution": {
     "iopub.execute_input": "2024-05-08T18:18:49.066941Z",
     "iopub.status.busy": "2024-05-08T18:18:49.066425Z",
     "iopub.status.idle": "2024-05-08T18:18:49.071268Z",
     "shell.execute_reply": "2024-05-08T18:18:49.070808Z"
    },
    "lines_to_next_cell": 1,
    "papermill": {
     "duration": 0.011669,
     "end_time": "2024-05-08T18:18:49.072303",
     "exception": false,
     "start_time": "2024-05-08T18:18:49.060634",
     "status": "completed"
    },
    "tags": []
   },
   "outputs": [],
   "source": [
    "def frogJumpBetter(N: int, heights: list[int]) -> int:\n",
    "    \"\"\"\n",
    "    Time: O(N), Space: O(N) + O(N)\n",
    "    \"\"\"\n",
    "\n",
    "    @functools.cache\n",
    "    def backtrack(curr: int) -> int:\n",
    "        if curr == N - 1:\n",
    "            return 0\n",
    "        elif curr == N - 2:\n",
    "            return abs(heights[N - 1] - heights[N - 2])\n",
    "        else:\n",
    "            jump1 = abs(heights[curr] - heights[curr + 1]) + backtrack(curr + 1)\n",
    "            jump2 = abs(heights[curr] - heights[curr + 2]) + backtrack(curr + 2)\n",
    "            return min(jump1, jump2)\n",
    "\n",
    "    return backtrack(0)\n",
    "\n",
    "# Testing the solution\n",
    "assert frogJumpBetter(4, [10,20,30,10]) == 20\n",
    "assert frogJumpBetter(3, [10,50,10]) == 0"
   ]
  },
  {
   "cell_type": "code",
   "execution_count": 9,
   "id": "2bc52e04",
   "metadata": {
    "execution": {
     "iopub.execute_input": "2024-05-08T18:18:49.083734Z",
     "iopub.status.busy": "2024-05-08T18:18:49.083428Z",
     "iopub.status.idle": "2024-05-08T18:18:49.087746Z",
     "shell.execute_reply": "2024-05-08T18:18:49.087167Z"
    },
    "lines_to_next_cell": 1,
    "papermill": {
     "duration": 0.011365,
     "end_time": "2024-05-08T18:18:49.088975",
     "exception": false,
     "start_time": "2024-05-08T18:18:49.077610",
     "status": "completed"
    },
    "tags": []
   },
   "outputs": [],
   "source": [
    "def frogJumpOptimal(N: int, heights: list[int]) -> int:\n",
    "    \"Time: O(N), Space: O(1)\"\n",
    "    jump1, jump2 = abs(heights[-2] - heights[-1]), 0\n",
    "    for i in range(N - 3, -1, -1):\n",
    "        curr = min(abs(heights[i] - heights[i + 1]) + jump1, abs(heights[i] - heights[i + 2]) + jump2)\n",
    "        jump1, jump2 = curr, jump1\n",
    "\n",
    "    return jump1\n",
    "\n",
    "assert frogJumpOptimal(4, [10,20,30,10]) == 20\n",
    "assert frogJumpOptimal(3, [10,50,10]) == 0"
   ]
  },
  {
   "cell_type": "markdown",
   "id": "4fa38d19",
   "metadata": {
    "papermill": {
     "duration": 0.004926,
     "end_time": "2024-05-08T18:18:49.099212",
     "exception": false,
     "start_time": "2024-05-08T18:18:49.094286",
     "status": "completed"
    },
    "tags": []
   },
   "source": [
    "Video Link: https://youtu.be/Kmh3rhyEtB8?si=rqZ5-pJcjIzWU5i8\n",
    "Frog Jump with K distance"
   ]
  },
  {
   "cell_type": "code",
   "execution_count": 10,
   "id": "f21ca119",
   "metadata": {
    "execution": {
     "iopub.execute_input": "2024-05-08T18:18:49.110497Z",
     "iopub.status.busy": "2024-05-08T18:18:49.110152Z",
     "iopub.status.idle": "2024-05-08T18:18:49.115024Z",
     "shell.execute_reply": "2024-05-08T18:18:49.114477Z"
    },
    "lines_to_next_cell": 1,
    "papermill": {
     "duration": 0.011865,
     "end_time": "2024-05-08T18:18:49.116097",
     "exception": false,
     "start_time": "2024-05-08T18:18:49.104232",
     "status": "completed"
    },
    "tags": []
   },
   "outputs": [],
   "source": [
    "def frogJumpAtKDistBetter1(N: int, K: int, heights: list[int]) -> int:\n",
    "    \"\"\"\n",
    "    Memoization Approach: Top Down Approach\n",
    "    Time: O(N x K), Space: O(N) + O(N)\n",
    "    \"\"\"\n",
    "\n",
    "    @functools.cache\n",
    "    def backtrack(curr: int) -> int:\n",
    "        if curr >= N - 1:\n",
    "            return 0\n",
    "        else:\n",
    "            minCost = math.inf\n",
    "            for next_ in range(curr + 1, min(N, curr + K + 1)):\n",
    "                cost = abs(heights[curr] - heights[next_]) + backtrack(next_)\n",
    "                minCost = min(minCost, cost)\n",
    "\n",
    "            return int(minCost)\n",
    "\n",
    "    return backtrack(0)\n",
    "\n",
    "# Testing the solution\n",
    "assert frogJumpAtKDistBetter1(5, 3, [10,30,40,50,20]) == 30\n",
    "assert frogJumpAtKDistBetter1(3, 1, [10,20,10]) == 20"
   ]
  },
  {
   "cell_type": "code",
   "execution_count": 11,
   "id": "1b9a86c0",
   "metadata": {
    "execution": {
     "iopub.execute_input": "2024-05-08T18:18:49.128535Z",
     "iopub.status.busy": "2024-05-08T18:18:49.128030Z",
     "iopub.status.idle": "2024-05-08T18:18:49.132975Z",
     "shell.execute_reply": "2024-05-08T18:18:49.132468Z"
    },
    "lines_to_next_cell": 1,
    "papermill": {
     "duration": 0.012419,
     "end_time": "2024-05-08T18:18:49.134050",
     "exception": false,
     "start_time": "2024-05-08T18:18:49.121631",
     "status": "completed"
    },
    "tags": []
   },
   "outputs": [],
   "source": [
    "def frogJumpAtKDistBetter2(N: int, K: int, heights: list[int]) -> int:\n",
    "    \"\"\"\n",
    "    Tabulation: Bottom up approach\n",
    "    Time: O(N x K), Space: O(N)\n",
    "    \"\"\"\n",
    "\n",
    "    dp: list[int] = [-1 for i in range(N)]\n",
    "    dp[-1] = 0\n",
    "\n",
    "    for curr in range(N - 2, -1, -1):\n",
    "        minCost = math.inf\n",
    "        for next_ in range(curr + 1, min(N, curr + K + 1)):\n",
    "            cost = abs(heights[curr] - heights[next_]) + dp[next_]\n",
    "            minCost = min(minCost, cost)\n",
    "        dp[curr] = int(minCost)\n",
    "\n",
    "    return dp[0]\n",
    "\n",
    "# Testing the solution\n",
    "assert frogJumpAtKDistBetter2(5, 3, [10,30,40,50,20]) == 30\n",
    "assert frogJumpAtKDistBetter2(3, 1, [10,20,10]) == 20"
   ]
  },
  {
   "cell_type": "code",
   "execution_count": 12,
   "id": "09ca5d18",
   "metadata": {
    "execution": {
     "iopub.execute_input": "2024-05-08T18:18:49.145701Z",
     "iopub.status.busy": "2024-05-08T18:18:49.145160Z",
     "iopub.status.idle": "2024-05-08T18:18:49.150320Z",
     "shell.execute_reply": "2024-05-08T18:18:49.149858Z"
    },
    "lines_to_next_cell": 1,
    "papermill": {
     "duration": 0.012086,
     "end_time": "2024-05-08T18:18:49.151441",
     "exception": false,
     "start_time": "2024-05-08T18:18:49.139355",
     "status": "completed"
    },
    "tags": []
   },
   "outputs": [],
   "source": [
    "def frogJumpAtKDist(N: int, K: int, heights: list[int]) -> int:\n",
    "    \"\"\"\n",
    "    Tabulation: Bottom up approach\n",
    "    Time: O(N x K), Space: O(K)\n",
    "    \"\"\"\n",
    "\n",
    "    dp: collections.deque[int] = collections.deque([0])\n",
    "    for curr in range(N - 2, -1, -1):\n",
    "        minCost = math.inf\n",
    "        for jump in range(1, min(N - curr, K + 1)):\n",
    "            next_ = curr + jump\n",
    "            cost = abs(heights[curr] - heights[next_]) + dp[jump - 1]\n",
    "            minCost = min(minCost, cost)\n",
    "\n",
    "        dp.appendleft(int(minCost))\n",
    "        if len(dp) > K:\n",
    "            dp.pop()\n",
    "\n",
    "    return dp[0]\n",
    "\n",
    "# Testing the solution\n",
    "assert frogJumpAtKDist(5, 3, [10,30,40,50,20]) == 30\n",
    "assert frogJumpAtKDist(3, 1, [10,20,10]) == 20"
   ]
  },
  {
   "cell_type": "markdown",
   "id": "259d53f8",
   "metadata": {
    "papermill": {
     "duration": 0.004933,
     "end_time": "2024-05-08T18:18:49.161612",
     "exception": false,
     "start_time": "2024-05-08T18:18:49.156679",
     "status": "completed"
    },
    "tags": []
   },
   "source": [
    "Maximum sum of Non Adjacent Elements: House Robber\n",
    "Video Link: https://youtu.be/GrMBfJNk_NY?si=IPuGJglc0axETveU"
   ]
  },
  {
   "cell_type": "code",
   "execution_count": 13,
   "id": "89d8dea7",
   "metadata": {
    "execution": {
     "iopub.execute_input": "2024-05-08T18:18:49.173133Z",
     "iopub.status.busy": "2024-05-08T18:18:49.172679Z",
     "iopub.status.idle": "2024-05-08T18:18:49.176617Z",
     "shell.execute_reply": "2024-05-08T18:18:49.176111Z"
    },
    "lines_to_next_cell": 1,
    "papermill": {
     "duration": 0.010938,
     "end_time": "2024-05-08T18:18:49.177678",
     "exception": false,
     "start_time": "2024-05-08T18:18:49.166740",
     "status": "completed"
    },
    "tags": []
   },
   "outputs": [],
   "source": [
    "def robMemo(nums: list[int]) -> int:\n",
    "    \"\"\"\n",
    "    Memoization: Top down approach\n",
    "    Time: O(N), Space: O(N)\n",
    "    \"\"\"\n",
    "\n",
    "    @functools.cache\n",
    "    def backtrack(curr: int) -> int:\n",
    "        if curr >= N:\n",
    "            return 0\n",
    "        else:\n",
    "            return max(backtrack(curr + 1), nums[curr] + backtrack(curr + 2))\n",
    "\n",
    "    N = len(nums)\n",
    "    return backtrack(0)\n",
    "\n",
    "# Testing the solution\n",
    "assert robMemo([2,7,9,3,1]) == 12"
   ]
  },
  {
   "cell_type": "code",
   "execution_count": 14,
   "id": "e69063ac",
   "metadata": {
    "execution": {
     "iopub.execute_input": "2024-05-08T18:18:49.189299Z",
     "iopub.status.busy": "2024-05-08T18:18:49.188884Z",
     "iopub.status.idle": "2024-05-08T18:18:49.193236Z",
     "shell.execute_reply": "2024-05-08T18:18:49.192775Z"
    },
    "lines_to_next_cell": 1,
    "papermill": {
     "duration": 0.011391,
     "end_time": "2024-05-08T18:18:49.194296",
     "exception": false,
     "start_time": "2024-05-08T18:18:49.182905",
     "status": "completed"
    },
    "tags": []
   },
   "outputs": [],
   "source": [
    "def robTab(nums: list[int]) -> int:\n",
    "    \"\"\"\n",
    "    Tabulation: Bottom up approach\n",
    "    Time: O(N), Space: O(N)\n",
    "    \"\"\"\n",
    "    N = len(nums)\n",
    "    dp: list[int] = [-1 for i in range(N + 1)]\n",
    "    dp[-1], dp[-2] = 0, nums[-1]\n",
    "    for curr in range(N - 2, -1, -1):\n",
    "        dp[curr] = max(nums[curr] + dp[curr + 2], dp[curr + 1])\n",
    "\n",
    "    return dp[0]\n",
    "\n",
    "# Testing the solution\n",
    "assert robTab([2,7,9,3,1]) == 12"
   ]
  },
  {
   "cell_type": "code",
   "execution_count": 15,
   "id": "d3ac1b1c",
   "metadata": {
    "execution": {
     "iopub.execute_input": "2024-05-08T18:18:49.206048Z",
     "iopub.status.busy": "2024-05-08T18:18:49.205667Z",
     "iopub.status.idle": "2024-05-08T18:18:49.209459Z",
     "shell.execute_reply": "2024-05-08T18:18:49.208920Z"
    },
    "lines_to_next_cell": 1,
    "papermill": {
     "duration": 0.010876,
     "end_time": "2024-05-08T18:18:49.210500",
     "exception": false,
     "start_time": "2024-05-08T18:18:49.199624",
     "status": "completed"
    },
    "tags": []
   },
   "outputs": [],
   "source": [
    "# https://leetcode.com/problems/house-robber/submissions/1249841355/\n",
    "def robSpaceOptimized(nums: list[int]) -> int:\n",
    "    \"Time: O(N), Space: O(1)\"\n",
    "    next1 = next2 = 0\n",
    "    for curr in range(len(nums) - 1, -1, -1):\n",
    "        next1, next2 = max(nums[curr] + next2, next1), next1\n",
    "\n",
    "    return next1\n",
    "\n",
    "assert robSpaceOptimized([2,7,9,3,1]) == 12"
   ]
  },
  {
   "cell_type": "markdown",
   "id": "630eec21",
   "metadata": {
    "papermill": {
     "duration": 0.005078,
     "end_time": "2024-05-08T18:18:49.220979",
     "exception": false,
     "start_time": "2024-05-08T18:18:49.215901",
     "status": "completed"
    },
    "tags": []
   },
   "source": [
    "House Robber 2: https://youtu.be/3WaxQMELSkw?si=i9oGKnDJGJxvUjbu\n",
    "https://leetcode.com/problems/house-robber-ii/submissions/1249888930"
   ]
  },
  {
   "cell_type": "code",
   "execution_count": 16,
   "id": "3ee7a5cf",
   "metadata": {
    "execution": {
     "iopub.execute_input": "2024-05-08T18:18:49.232923Z",
     "iopub.status.busy": "2024-05-08T18:18:49.232387Z",
     "iopub.status.idle": "2024-05-08T18:18:49.236921Z",
     "shell.execute_reply": "2024-05-08T18:18:49.236444Z"
    },
    "lines_to_next_cell": 1,
    "papermill": {
     "duration": 0.011895,
     "end_time": "2024-05-08T18:18:49.238111",
     "exception": false,
     "start_time": "2024-05-08T18:18:49.226216",
     "status": "completed"
    },
    "tags": []
   },
   "outputs": [],
   "source": [
    "def rob2(nums: list[int]) -> int:\n",
    "    \"\"\"\n",
    "    Ans cannot contain both the first and the last house.\n",
    "    It can contain either the first or the last house.\n",
    "    \"\"\"\n",
    "    def rob(arr: list[int]) -> int:\n",
    "        next1 = next2 = 0\n",
    "        for curr in range(len(arr) - 1, -1, -1):\n",
    "            next1, next2 = max(arr[curr] + next2, next1), next1\n",
    "\n",
    "        return next1\n",
    "\n",
    "    return max(rob(nums[1:]), rob(nums[:-1])) if len(nums) > 1 else sum(nums)\n",
    "\n",
    "# Testing the solution\n",
    "assert rob2([1,2,3,1]) == 4\n",
    "assert rob2([]) == 0"
   ]
  },
  {
   "cell_type": "markdown",
   "id": "52745498",
   "metadata": {
    "papermill": {
     "duration": 0.005039,
     "end_time": "2024-05-08T18:18:49.248380",
     "exception": false,
     "start_time": "2024-05-08T18:18:49.243341",
     "status": "completed"
    },
    "tags": []
   },
   "source": [
    "Ninja's Training: https://youtu.be/AE39gJYuRog?si=n4BhCotno-9chP5j"
   ]
  },
  {
   "cell_type": "code",
   "execution_count": 17,
   "id": "c814dc79",
   "metadata": {
    "execution": {
     "iopub.execute_input": "2024-05-08T18:18:49.260012Z",
     "iopub.status.busy": "2024-05-08T18:18:49.259497Z",
     "iopub.status.idle": "2024-05-08T18:18:49.264861Z",
     "shell.execute_reply": "2024-05-08T18:18:49.264366Z"
    },
    "lines_to_next_cell": 1,
    "papermill": {
     "duration": 0.012381,
     "end_time": "2024-05-08T18:18:49.265898",
     "exception": false,
     "start_time": "2024-05-08T18:18:49.253517",
     "status": "completed"
    },
    "tags": []
   },
   "outputs": [],
   "source": [
    "def ninjaTrainingBetter(N: int, points: list[list[int]]) -> int:\n",
    "    \"\"\"\n",
    "    Memoization: Top down approach\n",
    "\n",
    "    Time: O(N), Space: O(N) + O(N)\n",
    "    \"\"\"\n",
    "\n",
    "    @functools.cache\n",
    "    def backtrack(i: int, j: int) -> int:\n",
    "        if i == N:\n",
    "            return 0\n",
    "        else:\n",
    "            max_ = -math.inf\n",
    "            for k in range(3):\n",
    "                if k != j:\n",
    "                    max_ = max(max_, points[i][k] + backtrack(i + 1, k))\n",
    "\n",
    "            return int(max_)\n",
    "\n",
    "    return backtrack(0, -1)\n",
    "\n",
    "# Testing the solution\n",
    "assert ninjaTrainingBetter(3, [[10,40,70], [20,50,80], [30,60,90]]) == 210\n",
    "assert ninjaTrainingBetter(3, [[1,2,5], [3,1,1], [3,3,3]]) == 11\n",
    "assert ninjaTrainingBetter(2, [[10,50,1], [5,100,11]]) == 110"
   ]
  },
  {
   "cell_type": "code",
   "execution_count": 18,
   "id": "015e9458",
   "metadata": {
    "execution": {
     "iopub.execute_input": "2024-05-08T18:18:49.277497Z",
     "iopub.status.busy": "2024-05-08T18:18:49.276978Z",
     "iopub.status.idle": "2024-05-08T18:18:49.282689Z",
     "shell.execute_reply": "2024-05-08T18:18:49.282242Z"
    },
    "lines_to_next_cell": 1,
    "papermill": {
     "duration": 0.012637,
     "end_time": "2024-05-08T18:18:49.283746",
     "exception": false,
     "start_time": "2024-05-08T18:18:49.271109",
     "status": "completed"
    },
    "tags": []
   },
   "outputs": [],
   "source": [
    "def ninjaTraining(N: int, points: list[list[int]]) -> int:\n",
    "    \"\"\"\n",
    "    Space optimized Tabulation DP: Bottom up\n",
    "\n",
    "    Start at the last day.\n",
    "    At each day we sum up corresponding values with the values in DP and assign them to DP.\n",
    "    Before moving the prev day, to the DP perform this op -> dp[i] = max(dp[j]) where j != i\n",
    "\n",
    "    At the end of the iteration simply return max of DP.\n",
    "\n",
    "    Time: O(N), Space: O(1)\n",
    "    \"\"\"\n",
    "\n",
    "    dp: list[int] = [0, 0, 0]\n",
    "    for i in range(N - 1, -1, -1):\n",
    "        for j in range(3):\n",
    "            dp[j] += points[i][j]\n",
    "\n",
    "        next_dp: list[int] = []\n",
    "        for j in range(3):\n",
    "            next_dp.append(max(dp[k] for k in range(3) if k != j))\n",
    "\n",
    "        dp = next_dp\n",
    "\n",
    "    return max(dp)\n",
    "\n",
    "# Testing the solution\n",
    "assert ninjaTraining(3, [[10,40,70], [20,50,80], [30,60,90]]) == 210\n",
    "assert ninjaTraining(3, [[1,2,5], [3,1,1], [3,3,3]]) == 11\n",
    "assert ninjaTraining(2, [[10,50,1], [5,100,11]]) == 110"
   ]
  },
  {
   "cell_type": "markdown",
   "id": "d132fa58",
   "metadata": {
    "papermill": {
     "duration": 0.005097,
     "end_time": "2024-05-08T18:18:49.294053",
     "exception": false,
     "start_time": "2024-05-08T18:18:49.288956",
     "status": "completed"
    },
    "tags": []
   },
   "source": [
    "Unique 2D paths: https://youtu.be/sdE0A2Oxofw?si=g1FpuSIYx0x95G-7\n",
    "https://leetcode.com/problems/unique-paths/"
   ]
  },
  {
   "cell_type": "code",
   "execution_count": 19,
   "id": "d035c9d7",
   "metadata": {
    "execution": {
     "iopub.execute_input": "2024-05-08T18:18:49.305446Z",
     "iopub.status.busy": "2024-05-08T18:18:49.304908Z",
     "iopub.status.idle": "2024-05-08T18:18:49.309432Z",
     "shell.execute_reply": "2024-05-08T18:18:49.308904Z"
    },
    "lines_to_next_cell": 1,
    "papermill": {
     "duration": 0.011368,
     "end_time": "2024-05-08T18:18:49.310478",
     "exception": false,
     "start_time": "2024-05-08T18:18:49.299110",
     "status": "completed"
    },
    "tags": []
   },
   "outputs": [],
   "source": [
    "def uniquePathsMemo(m: int, n: int) -> int:\n",
    "    \"\"\"\n",
    "    Memoization Solution: Top Down\n",
    "    Time: O(m x n), Space: O(m x n) + O(m x n)\n",
    "    \"\"\"\n",
    "    @functools.cache\n",
    "    def backtrack(i: int, j: int) -> int:\n",
    "        if i == m - 1 and j == n - 1:\n",
    "            return 1\n",
    "        elif i >= m or j >= n:\n",
    "            return 0\n",
    "        else:\n",
    "            return backtrack(i + 1, j) + backtrack(i, j + 1)\n",
    "\n",
    "    return backtrack(0, 0)\n",
    "\n",
    "# Testing the solution\n",
    "assert uniquePathsMemo(3, 7) == 28\n",
    "assert uniquePathsMemo(3, 2) == 3"
   ]
  },
  {
   "cell_type": "code",
   "execution_count": 20,
   "id": "c3fb756d",
   "metadata": {
    "execution": {
     "iopub.execute_input": "2024-05-08T18:18:49.321981Z",
     "iopub.status.busy": "2024-05-08T18:18:49.321539Z",
     "iopub.status.idle": "2024-05-08T18:18:49.326162Z",
     "shell.execute_reply": "2024-05-08T18:18:49.325608Z"
    },
    "lines_to_next_cell": 1,
    "papermill": {
     "duration": 0.011644,
     "end_time": "2024-05-08T18:18:49.327329",
     "exception": false,
     "start_time": "2024-05-08T18:18:49.315685",
     "status": "completed"
    },
    "tags": []
   },
   "outputs": [],
   "source": [
    "# https://leetcode.com/problems/unique-paths/submissions/1250526713\n",
    "def uniquePathsTab(m: int, n: int) -> int:\n",
    "    \"Time: O(m x n), Space: O(min(m, n))\"\n",
    "    M, N = min(m, n), max(m, n)\n",
    "    dp: list[int] = [1 for i in range(M)]\n",
    "\n",
    "    for i in range(N - 1):\n",
    "        for j in range(M - 2, -1, -1):\n",
    "            dp[j] += dp[j + 1]\n",
    "\n",
    "    return dp[0]\n",
    "\n",
    "# Testing the solution\n",
    "assert uniquePathsTab(3, 7) == 28\n",
    "assert uniquePathsTab(3, 2) == 3"
   ]
  },
  {
   "cell_type": "markdown",
   "id": "bb22f54a",
   "metadata": {
    "papermill": {
     "duration": 0.00507,
     "end_time": "2024-05-08T18:18:49.337752",
     "exception": false,
     "start_time": "2024-05-08T18:18:49.332682",
     "status": "completed"
    },
    "tags": []
   },
   "source": [
    "Video link: https://youtu.be/TmhpgXScLyY?si=M_FfFKRqRTXid4Jj\n",
    "Unique Paths - ii: https://leetcode.com/problems/unique-paths-ii/submissions/1250615914"
   ]
  },
  {
   "cell_type": "code",
   "execution_count": 21,
   "id": "f59a530c",
   "metadata": {
    "execution": {
     "iopub.execute_input": "2024-05-08T18:18:49.349187Z",
     "iopub.status.busy": "2024-05-08T18:18:49.348745Z",
     "iopub.status.idle": "2024-05-08T18:18:49.353858Z",
     "shell.execute_reply": "2024-05-08T18:18:49.353391Z"
    },
    "lines_to_next_cell": 1,
    "papermill": {
     "duration": 0.012124,
     "end_time": "2024-05-08T18:18:49.354924",
     "exception": false,
     "start_time": "2024-05-08T18:18:49.342800",
     "status": "completed"
    },
    "tags": []
   },
   "outputs": [],
   "source": [
    "def uniquePathsWithObstacles(obstacleGrid: list[list[int]]) -> int:\n",
    "    \"Time: O(M x N), Space: O(N)\"\n",
    "    M, N = len(obstacleGrid), len(obstacleGrid[0])\n",
    "\n",
    "    dp: list[int] = [0 for j in range(N)]\n",
    "    dp[-1] = 1\n",
    "\n",
    "    for i in range(M - 1, -1, -1):\n",
    "        for j in range(N - 1, -1, -1):\n",
    "            if obstacleGrid[i][j] == 0:\n",
    "                dp[j] = dp[j] + dp[j + 1] if j < N - 1 else dp[j]\n",
    "            else:\n",
    "                dp[j] = 0\n",
    "\n",
    "    return dp[0]\n",
    "\n",
    "# Testing the solution\n",
    "assert uniquePathsWithObstacles([[0,0,0],[0,1,0],[0,0,0]]) == 2\n",
    "assert uniquePathsWithObstacles([[0,1],[0,0]]) == 1\n",
    "assert uniquePathsWithObstacles([[1]]) == 0"
   ]
  },
  {
   "cell_type": "markdown",
   "id": "93e28e9b",
   "metadata": {
    "papermill": {
     "duration": 0.005062,
     "end_time": "2024-05-08T18:18:49.365352",
     "exception": false,
     "start_time": "2024-05-08T18:18:49.360290",
     "status": "completed"
    },
    "tags": []
   },
   "source": [
    "Minimum Path Sum: https://youtu.be/_rgTlyky1uQ?si=3xJY7MmVg5tTEW5Q\n",
    "https://leetcode.com/problems/minimum-path-sum/submissions/1250633614"
   ]
  },
  {
   "cell_type": "code",
   "execution_count": 22,
   "id": "c97f7ce9",
   "metadata": {
    "execution": {
     "iopub.execute_input": "2024-05-08T18:18:49.376875Z",
     "iopub.status.busy": "2024-05-08T18:18:49.376327Z",
     "iopub.status.idle": "2024-05-08T18:18:49.381504Z",
     "shell.execute_reply": "2024-05-08T18:18:49.380977Z"
    },
    "lines_to_next_cell": 1,
    "papermill": {
     "duration": 0.012282,
     "end_time": "2024-05-08T18:18:49.382685",
     "exception": false,
     "start_time": "2024-05-08T18:18:49.370403",
     "status": "completed"
    },
    "tags": []
   },
   "outputs": [],
   "source": [
    "def minPathSum(grid: list[list[int]]) -> int:\n",
    "    \"Time: O(M x N), Space: O(N)\"\n",
    "    M, N = len(grid), len(grid[0])\n",
    "\n",
    "    # Initialize DP\n",
    "    dp: list[float] = [math.inf for j in range(N)]\n",
    "    dp[-1] = 0\n",
    "\n",
    "    # DP Solution\n",
    "    for i in range(M - 1, -1, -1):\n",
    "        for j in range(N - 1, -1, -1):\n",
    "            dp[j] = grid[i][j] + (min(dp[j + 1], dp[j]) if j < N - 1 else dp[j])\n",
    "\n",
    "    return int(dp[0])\n",
    "\n",
    "# Testing the solution\n",
    "assert minPathSum([[1,3,1],[1,5,1],[4,2,1]]) == 7\n",
    "assert minPathSum([[1,2,3],[4,5,6]]) == 12"
   ]
  },
  {
   "cell_type": "markdown",
   "id": "107526ff",
   "metadata": {
    "papermill": {
     "duration": 0.005011,
     "end_time": "2024-05-08T18:18:49.392948",
     "exception": false,
     "start_time": "2024-05-08T18:18:49.387937",
     "status": "completed"
    },
    "tags": []
   },
   "source": [
    "Video Link: https://youtu.be/0bHoB32fuj0?si=5UHeArKmLvTVpbrk\n",
    "Triangle: https://leetcode.com/problems/triangle/submissions/1251774955/"
   ]
  },
  {
   "cell_type": "code",
   "execution_count": 23,
   "id": "62387041",
   "metadata": {
    "execution": {
     "iopub.execute_input": "2024-05-08T18:18:49.404287Z",
     "iopub.status.busy": "2024-05-08T18:18:49.403777Z",
     "iopub.status.idle": "2024-05-08T18:18:49.408627Z",
     "shell.execute_reply": "2024-05-08T18:18:49.408159Z"
    },
    "lines_to_next_cell": 1,
    "papermill": {
     "duration": 0.011783,
     "end_time": "2024-05-08T18:18:49.409703",
     "exception": false,
     "start_time": "2024-05-08T18:18:49.397920",
     "status": "completed"
    },
    "tags": []
   },
   "outputs": [],
   "source": [
    "def minimumTotal(triangle: list[list[int]]) -> int:\n",
    "    \"\"\"Time: O(N x N), Space: O(N)\"\"\"\n",
    "    N = len(triangle)\n",
    "    dp: list[int] = [0 for i in range(N + 1)]\n",
    "\n",
    "    while N > 0:\n",
    "        next_: list[int] = []\n",
    "        for i in range(N):\n",
    "            next_.append(min(dp[i], dp[i + 1]) + triangle[N - 1][i])\n",
    "        dp = next_\n",
    "        N -= 1\n",
    "\n",
    "    return dp[0]\n",
    "\n",
    "# Testing the solution\n",
    "assert minimumTotal([[2],[3,4],[6,5,7],[4,1,8,3]]) == 11\n",
    "assert minimumTotal([[-10]]) == -10"
   ]
  },
  {
   "cell_type": "markdown",
   "id": "51332104",
   "metadata": {
    "papermill": {
     "duration": 0.004988,
     "end_time": "2024-05-08T18:18:49.420044",
     "exception": false,
     "start_time": "2024-05-08T18:18:49.415056",
     "status": "completed"
    },
    "tags": []
   },
   "source": [
    "Video Link: https://youtu.be/N_aJ5qQbYA0?si=LTME1YI3hqtU8u8_\n",
    "Maximum Falling path sum\n",
    "We cannot apply greedy algorithms here because there is no uniformity mentioned. Uniformity implies how the numbers are distributed.\n",
    "For eg:\n",
    "```\n",
    "1   2  3    4\n",
    "10  1  100  1\n",
    "1   2  5    0\n",
    "```\n",
    "In the above example from (0, 0), if we greedily chose (1, 0) - we would miss out on 100 at (1, 2). \n",
    "If suppose we were told that the numbers were arranged in ascending or descending order we can greedily pick a path"
   ]
  },
  {
   "cell_type": "code",
   "execution_count": 24,
   "id": "4f9fb3eb",
   "metadata": {
    "execution": {
     "iopub.execute_input": "2024-05-08T18:18:49.431411Z",
     "iopub.status.busy": "2024-05-08T18:18:49.430932Z",
     "iopub.status.idle": "2024-05-08T18:18:49.436547Z",
     "shell.execute_reply": "2024-05-08T18:18:49.436005Z"
    },
    "lines_to_next_cell": 1,
    "papermill": {
     "duration": 0.01255,
     "end_time": "2024-05-08T18:18:49.437626",
     "exception": false,
     "start_time": "2024-05-08T18:18:49.425076",
     "status": "completed"
    },
    "tags": []
   },
   "outputs": [],
   "source": [
    "def getMaxPathSumBetter(matrix: list[list[int]]):\n",
    "    \"\"\"\n",
    "    With memoization:\n",
    "    Time complexity: O(3 ^ N)\n",
    "\n",
    "    Memoization Approach: Top Down\n",
    "    Time: O(N x M), Space: O(N x M) + O(N x M)\n",
    "    \"\"\"\n",
    "    M, N = len(matrix), len(matrix[0])\n",
    "\n",
    "    @functools.cache\n",
    "    def backtrack(i: int = 0, j: int = 0) -> float:\n",
    "        if i >= M:\n",
    "            return 0\n",
    "        elif j < 0 or j >= N:\n",
    "            return -math.inf\n",
    "        else:\n",
    "            return matrix[i][j] + max(backtrack(i + 1, j - 1), backtrack(i + 1, j), backtrack(i + 1, j + 1))\n",
    "\n",
    "    maxPathSum = -math.inf\n",
    "    for j in range(N):\n",
    "        maxPathSum = max(maxPathSum, backtrack(0, j))\n",
    "\n",
    "    return int(maxPathSum)\n",
    "\n",
    "# Testing the solution\n",
    "assert getMaxPathSumBetter([[1,2,10,4],[100,3,2,1],[1,1,20,2],[1,2,2,1]]) == 105\n",
    "assert getMaxPathSumBetter([[10,2,3],[3,7,2],[8,1,5]]) == 25"
   ]
  },
  {
   "cell_type": "code",
   "execution_count": 25,
   "id": "b3cf95be",
   "metadata": {
    "execution": {
     "iopub.execute_input": "2024-05-08T18:18:49.449511Z",
     "iopub.status.busy": "2024-05-08T18:18:49.449056Z",
     "iopub.status.idle": "2024-05-08T18:18:49.454351Z",
     "shell.execute_reply": "2024-05-08T18:18:49.453813Z"
    },
    "lines_to_next_cell": 1,
    "papermill": {
     "duration": 0.012504,
     "end_time": "2024-05-08T18:18:49.455495",
     "exception": false,
     "start_time": "2024-05-08T18:18:49.442991",
     "status": "completed"
    },
    "tags": []
   },
   "outputs": [],
   "source": [
    "def getMaxPathSum(matrix: list[list[int]]):\n",
    "    \"\"\"\n",
    "    Space optimized DP: Bottom up\n",
    "    Time: O(M x N), Space: O(N)\n",
    "    \"\"\"\n",
    "    M, N = len(matrix), len(matrix[0])\n",
    "\n",
    "    dp: list[float] = [0 for i in range(N)]\n",
    "    i = M - 1\n",
    "    while i >= 0:\n",
    "        next_: list[float] = []\n",
    "        for j in range(N):\n",
    "            next_.append(matrix[i][j] + max(dp[j - 1] if j - 1 >= 0 else -math.inf, dp[j], dp[j + 1] if j + 1 < N else -math.inf))\n",
    "\n",
    "        dp = next_\n",
    "        i -= 1\n",
    "\n",
    "    return max(dp)\n",
    "\n",
    "# Testing the solution\n",
    "assert getMaxPathSum([[1,2,10,4],[100,3,2,1],[1,1,20,2],[1,2,2,1]]) == 105\n",
    "assert getMaxPathSum([[10,2,3],[3,7,2],[8,1,5]]) == 25"
   ]
  },
  {
   "cell_type": "markdown",
   "id": "703cdb9d",
   "metadata": {
    "papermill": {
     "duration": 0.005119,
     "end_time": "2024-05-08T18:18:49.465936",
     "exception": false,
     "start_time": "2024-05-08T18:18:49.460817",
     "status": "completed"
    },
    "tags": []
   },
   "source": [
    "Cherry Pickup: 2: https://leetcode.com/problems/cherry-pickup-ii/\n",
    "Video Link: https://youtu.be/QGfn7JeXK54?si=2K0Lz9iKN_IxLUDN"
   ]
  },
  {
   "cell_type": "code",
   "execution_count": 26,
   "id": "d82f0e5d",
   "metadata": {
    "execution": {
     "iopub.execute_input": "2024-05-08T18:18:49.477274Z",
     "iopub.status.busy": "2024-05-08T18:18:49.476824Z",
     "iopub.status.idle": "2024-05-08T18:18:49.483821Z",
     "shell.execute_reply": "2024-05-08T18:18:49.483353Z"
    },
    "lines_to_next_cell": 1,
    "papermill": {
     "duration": 0.014014,
     "end_time": "2024-05-08T18:18:49.484971",
     "exception": false,
     "start_time": "2024-05-08T18:18:49.470957",
     "status": "completed"
    },
    "tags": []
   },
   "outputs": [],
   "source": [
    "def cherryPickupMemo(grid: list[list[int]]) -> int:\n",
    "    \"\"\"\n",
    "    Without memoization, time complexity: O(3 ^ M * 3 ^ M)\n",
    "\n",
    "    Space complexity is definitely improved with using @functools.cache, using list here to illustrate.\n",
    "    Time: O (M x N x N), Space: O (M x N x N)\n",
    "\n",
    "    To figure out the dp size, simply check how many parameters are chaning. Here we have an i, j1, j2 and hence dp is a 3D Matrix.\n",
    "    \"\"\"\n",
    "    M, N = len(grid), len(grid[0])\n",
    "    dp: list[list[list[float]]] = [[[-1 for k in range(N)] for j in range(N)] for i in range(M)]\n",
    "\n",
    "    def backtrack(i: int, j1: int, j2: int) -> float:\n",
    "        if j1 < 0 or j2 < 0 or j1 >= N or j2 >= N or j1 == j2:\n",
    "            return -math.inf\n",
    "        elif i > M - 1:\n",
    "            return 0\n",
    "        elif dp[i][j1][j2] != -1:\n",
    "            return dp[i][j1][j2]\n",
    "        else:\n",
    "            next_picked = -math.inf\n",
    "            for j1_offset in range(-1, 2):\n",
    "                for j2_offset in range(-1, 2):\n",
    "                    next_picked = max(next_picked, backtrack(i + 1, j1 + j1_offset, j2 + j2_offset))\n",
    "\n",
    "            dp[i][j1][j2] = grid[i][j1] + grid[i][j2] + next_picked\n",
    "            return dp[i][j1][j2]\n",
    "\n",
    "    result = int(backtrack(0, 0, N - 1))\n",
    "    return result\n",
    "\n",
    "# Testing the solution\n",
    "assert cherryPickupMemo([[1,0,0,0,0,0,1],[2,0,0,0,0,3,0],[2,0,9,0,0,0,0],[0,3,0,5,4,0,0],[1,0,2,3,0,0,6]]) == 28"
   ]
  },
  {
   "cell_type": "code",
   "execution_count": 27,
   "id": "85c88b05",
   "metadata": {
    "execution": {
     "iopub.execute_input": "2024-05-08T18:18:49.496685Z",
     "iopub.status.busy": "2024-05-08T18:18:49.496201Z",
     "iopub.status.idle": "2024-05-08T18:18:49.503576Z",
     "shell.execute_reply": "2024-05-08T18:18:49.503127Z"
    },
    "lines_to_next_cell": 1,
    "papermill": {
     "duration": 0.014273,
     "end_time": "2024-05-08T18:18:49.504617",
     "exception": false,
     "start_time": "2024-05-08T18:18:49.490344",
     "status": "completed"
    },
    "tags": []
   },
   "outputs": [],
   "source": [
    "def cherryPickupTab(grid: list[list[int]]) -> int:\n",
    "    \"\"\"\n",
    "    Simply start with the base case. Move bottom up.\n",
    "    \"\"\"\n",
    "    M, N = len(grid), len(grid[0])\n",
    "\n",
    "    # Initialize DP with the base case\n",
    "    dp: list[list[list[float]]] = [[[0 for k in range(N)] for j in range(N)] for i in range(M)]\n",
    "    for j1 in range(N):\n",
    "        for j2 in range(N):\n",
    "            dp[-1][j1][j2] = grid[-1][j1] + grid[-1][j2] if j1 != j2 else grid[-1][j1]\n",
    "\n",
    "    # i, j1, j2: (0 - M), (0 - N), (0 - N)\n",
    "    for i in range(M - 2, -1, -1):\n",
    "        for j1 in range(N):\n",
    "            for j2 in range(N):\n",
    "                max_: float = -math.inf\n",
    "                curr = grid[i][j1] + grid[i][j2] if j1 != j2 else grid[i][j1]\n",
    "                for j1_offset in range(-1, 2):\n",
    "                    for j2_offset in range(-1, 2):\n",
    "                        if 0 <= j1 + j1_offset < N and 0 <= j2 + j2_offset < N:\n",
    "                            max_ = max(max_, dp[i + 1][j1 + j1_offset][j2 + j2_offset])\n",
    "\n",
    "                dp[i][j1][j2] = max(-1, max_ + curr)\n",
    "\n",
    "    return int(dp[0][0][-1])\n",
    "\n",
    "# Testing the solution\n",
    "assert cherryPickupTab([[1,0,0,0,0,0,1],[2,0,0,0,0,3,0],[2,0,9,0,0,0,0],[0,3,0,5,4,0,0],[1,0,2,3,0,0,6]]) == 28"
   ]
  },
  {
   "cell_type": "code",
   "execution_count": 28,
   "id": "e2fdb650",
   "metadata": {
    "execution": {
     "iopub.execute_input": "2024-05-08T18:18:49.516058Z",
     "iopub.status.busy": "2024-05-08T18:18:49.515733Z",
     "iopub.status.idle": "2024-05-08T18:18:49.522593Z",
     "shell.execute_reply": "2024-05-08T18:18:49.522109Z"
    },
    "papermill": {
     "duration": 0.013794,
     "end_time": "2024-05-08T18:18:49.523648",
     "exception": false,
     "start_time": "2024-05-08T18:18:49.509854",
     "status": "completed"
    },
    "tags": []
   },
   "outputs": [],
   "source": [
    "def cherryPickupSpaceOptimized(grid: list[list[int]]) -> int:\n",
    "    M, N = len(grid), len(grid[0])\n",
    "    dp: list[list[float]] = [[grid[-1][j1] + grid[-1][j2] if j1 != j2 else grid[-1][j1] for j1 in range(N)] for j2 in range(N)]\n",
    "\n",
    "    for i in range(M - 2, -1, -1):\n",
    "        dp_next: list[list[float]] = []\n",
    "        for j1 in range(N):\n",
    "            dp_next.append([])\n",
    "            for j2 in range(N):\n",
    "                max_: float = -math.inf\n",
    "                curr = grid[i][j1] + grid[i][j2] if j1 != j2 else grid[i][j1]\n",
    "                for j1_offset in range(-1, 2):\n",
    "                    for j2_offset in range(-1, 2):\n",
    "                        if 0 <= j1 + j1_offset < N and 0 <= j2 + j2_offset < N:\n",
    "                            max_ = max(max_, dp[j1 + j1_offset][j2 + j2_offset])\n",
    "\n",
    "                dp_next[j1].append(curr + max_)\n",
    "        dp = dp_next\n",
    "\n",
    "    return int(dp[0][-1])\n",
    "\n",
    "# Testing the solution\n",
    "assert cherryPickupSpaceOptimized([[1,0,0,0,0,0,1],[2,0,0,0,0,3,0],[2,0,9,0,0,0,0],[0,3,0,5,4,0,0],[1,0,2,3,0,0,6]]) == 28"
   ]
  }
 ],
 "metadata": {
  "kernelspec": {
   "display_name": "Python 3 (ipykernel)",
   "language": "python",
   "name": "python3"
  },
  "language_info": {
   "codemirror_mode": {
    "name": "ipython",
    "version": 3
   },
   "file_extension": ".py",
   "mimetype": "text/x-python",
   "name": "python",
   "nbconvert_exporter": "python",
   "pygments_lexer": "ipython3",
   "version": "3.11.9"
  },
  "papermill": {
   "default_parameters": {},
   "duration": 1.983386,
   "end_time": "2024-05-08T18:18:49.744366",
   "environment_variables": {},
   "exception": null,
   "input_path": "study/striver-A2Z/13-dp.ipynb",
   "output_path": "study/striver-A2Z/13-dp.ipynb",
   "parameters": {},
   "start_time": "2024-05-08T18:18:47.760980",
   "version": "2.6.0"
  }
 },
 "nbformat": 4,
 "nbformat_minor": 5
}