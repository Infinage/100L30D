{
 "cells": [
  {
   "cell_type": "markdown",
   "id": "457ab51f",
   "metadata": {
    "papermill": {
     "duration": 0.00375,
     "end_time": "2024-05-04T15:52:04.566678",
     "exception": false,
     "start_time": "2024-05-04T15:52:04.562928",
     "status": "completed"
    },
    "tags": []
   },
   "source": [
    "### Some important imports"
   ]
  },
  {
   "cell_type": "code",
   "execution_count": 1,
   "id": "164d751b",
   "metadata": {
    "execution": {
     "iopub.execute_input": "2024-05-04T15:52:04.574735Z",
     "iopub.status.busy": "2024-05-04T15:52:04.574039Z",
     "iopub.status.idle": "2024-05-04T15:52:04.584124Z",
     "shell.execute_reply": "2024-05-04T15:52:04.583357Z"
    },
    "lines_to_next_cell": 1,
    "papermill": {
     "duration": 0.016161,
     "end_time": "2024-05-04T15:52:04.585964",
     "exception": false,
     "start_time": "2024-05-04T15:52:04.569803",
     "status": "completed"
    },
    "tags": []
   },
   "outputs": [],
   "source": [
    "import functools\n",
    "import itertools\n",
    "import collections\n",
    "import math\n",
    "import heapq"
   ]
  },
  {
   "cell_type": "markdown",
   "id": "48648354",
   "metadata": {
    "papermill": {
     "duration": 0.002906,
     "end_time": "2024-05-04T15:52:04.591960",
     "exception": false,
     "start_time": "2024-05-04T15:52:04.589054",
     "status": "completed"
    },
    "tags": []
   },
   "source": [
    "Introduction to DP: https://youtu.be/tyB0ztf0DNY?si=SgpBwGNqPXzdPSRA\n",
    "1. Tabulation: Bottom up DP: Ans -> Base case -> Ans\n",
    "2. Memoization: Top down DP: Base case -> Ans"
   ]
  },
  {
   "cell_type": "code",
   "execution_count": 2,
   "id": "41c46591",
   "metadata": {
    "execution": {
     "iopub.execute_input": "2024-05-04T15:52:04.599557Z",
     "iopub.status.busy": "2024-05-04T15:52:04.598886Z",
     "iopub.status.idle": "2024-05-04T15:52:04.608291Z",
     "shell.execute_reply": "2024-05-04T15:52:04.607534Z"
    },
    "lines_to_next_cell": 1,
    "papermill": {
     "duration": 0.014989,
     "end_time": "2024-05-04T15:52:04.609950",
     "exception": false,
     "start_time": "2024-05-04T15:52:04.594961",
     "status": "completed"
    },
    "tags": []
   },
   "outputs": [
    {
     "data": {
      "text/plain": [
       "55"
      ]
     },
     "execution_count": 2,
     "metadata": {},
     "output_type": "execute_result"
    }
   ],
   "source": [
    "def fiboBrute(n: int) -> int:\n",
    "    \"\"\"\n",
    "    Vanilla recursion\n",
    "    Time: O(2 ^ N), Space: O(2 ^ N)\n",
    "    \"\"\"\n",
    "    if n <= 1:\n",
    "        return n\n",
    "    else:\n",
    "        return fiboBrute(n - 1) + fiboBrute(n - 2)\n",
    "\n",
    "fiboBrute(10)"
   ]
  },
  {
   "cell_type": "code",
   "execution_count": 3,
   "id": "83ba7cd5",
   "metadata": {
    "execution": {
     "iopub.execute_input": "2024-05-04T15:52:04.617855Z",
     "iopub.status.busy": "2024-05-04T15:52:04.617222Z",
     "iopub.status.idle": "2024-05-04T15:52:04.625016Z",
     "shell.execute_reply": "2024-05-04T15:52:04.624266Z"
    },
    "lines_to_next_cell": 1,
    "papermill": {
     "duration": 0.013492,
     "end_time": "2024-05-04T15:52:04.626692",
     "exception": false,
     "start_time": "2024-05-04T15:52:04.613200",
     "status": "completed"
    },
    "tags": []
   },
   "outputs": [
    {
     "data": {
      "text/plain": [
       "55"
      ]
     },
     "execution_count": 3,
     "metadata": {},
     "output_type": "execute_result"
    }
   ],
   "source": [
    "def fiboBetter1(n: int) -> int:\n",
    "    \"\"\"\n",
    "    Memoization Approach: Top down approach\n",
    "    Time: O(N), Space: O(N) + O(N)\n",
    "    \"\"\"\n",
    "    dp: list[int] = [-1 for i in range(n + 1)]\n",
    "    def backtrack(curr: int) -> int:\n",
    "        if curr <= 1:\n",
    "            return curr\n",
    "        elif dp[curr] != -1:\n",
    "            return dp[curr]\n",
    "        else:\n",
    "            dp[curr] = backtrack(curr - 1) + backtrack(curr - 2)\n",
    "            return dp[curr]\n",
    "\n",
    "    return backtrack(n)\n",
    "\n",
    "fiboBetter1(10)"
   ]
  },
  {
   "cell_type": "code",
   "execution_count": 4,
   "id": "80fded7e",
   "metadata": {
    "execution": {
     "iopub.execute_input": "2024-05-04T15:52:04.635390Z",
     "iopub.status.busy": "2024-05-04T15:52:04.634667Z",
     "iopub.status.idle": "2024-05-04T15:52:04.641694Z",
     "shell.execute_reply": "2024-05-04T15:52:04.640955Z"
    },
    "lines_to_next_cell": 1,
    "papermill": {
     "duration": 0.013378,
     "end_time": "2024-05-04T15:52:04.643547",
     "exception": false,
     "start_time": "2024-05-04T15:52:04.630169",
     "status": "completed"
    },
    "tags": []
   },
   "outputs": [
    {
     "data": {
      "text/plain": [
       "55"
      ]
     },
     "execution_count": 4,
     "metadata": {},
     "output_type": "execute_result"
    }
   ],
   "source": [
    "def fiboBetter2(n: int) -> int:\n",
    "    \"\"\"\n",
    "    Tabulation: Bottom up approach\n",
    "    Time: O(N), Space: O(N)\n",
    "    \"\"\"\n",
    "    dp: list[int] = [-1 if i > 1 else i for i in range(n + 1)]\n",
    "    for i in range(2, n + 1):\n",
    "        dp[i] = dp[i - 1] + dp[i - 2]\n",
    "\n",
    "    return dp[n]\n",
    "\n",
    "fiboBetter2(10)"
   ]
  },
  {
   "cell_type": "code",
   "execution_count": 5,
   "id": "8f7d86e2",
   "metadata": {
    "execution": {
     "iopub.execute_input": "2024-05-04T15:52:04.652307Z",
     "iopub.status.busy": "2024-05-04T15:52:04.651698Z",
     "iopub.status.idle": "2024-05-04T15:52:04.658615Z",
     "shell.execute_reply": "2024-05-04T15:52:04.657728Z"
    },
    "lines_to_next_cell": 1,
    "papermill": {
     "duration": 0.013166,
     "end_time": "2024-05-04T15:52:04.660324",
     "exception": false,
     "start_time": "2024-05-04T15:52:04.647158",
     "status": "completed"
    },
    "tags": []
   },
   "outputs": [
    {
     "data": {
      "text/plain": [
       "55"
      ]
     },
     "execution_count": 5,
     "metadata": {},
     "output_type": "execute_result"
    }
   ],
   "source": [
    "def fiboOptimal(n: int) -> int:\n",
    "    \"\"\"\n",
    "    Bottom up approach\n",
    "    Time: O(N), Space: O(1)\n",
    "    \"\"\"\n",
    "    prev2, prev1 = 0, 1\n",
    "    for i in range(2, n + 1):\n",
    "        prev2, prev1 = prev1, prev1 + prev2\n",
    "        n -= 1\n",
    "\n",
    "    return prev1\n",
    "\n",
    "fiboOptimal(10)"
   ]
  },
  {
   "cell_type": "markdown",
   "id": "855c35fb",
   "metadata": {
    "papermill": {
     "duration": 0.003617,
     "end_time": "2024-05-04T15:52:04.667695",
     "exception": false,
     "start_time": "2024-05-04T15:52:04.664078",
     "status": "completed"
    },
    "tags": []
   },
   "source": [
    "Climbing Stairs: https://leetcode.com/problems/climbing-stairs/\n",
    "Video Link: https://youtu.be/mLfjzJsN8us?si=C7W-jiYvql0mEnbh"
   ]
  },
  {
   "cell_type": "code",
   "execution_count": 6,
   "id": "87993489",
   "metadata": {
    "execution": {
     "iopub.execute_input": "2024-05-04T15:52:04.677018Z",
     "iopub.status.busy": "2024-05-04T15:52:04.676536Z",
     "iopub.status.idle": "2024-05-04T15:52:04.682641Z",
     "shell.execute_reply": "2024-05-04T15:52:04.681813Z"
    },
    "lines_to_next_cell": 1,
    "papermill": {
     "duration": 0.012812,
     "end_time": "2024-05-04T15:52:04.684377",
     "exception": false,
     "start_time": "2024-05-04T15:52:04.671565",
     "status": "completed"
    },
    "tags": []
   },
   "outputs": [],
   "source": [
    "def climbStairsBetter(n: int) -> int:\n",
    "    \"\"\"Time: O(N), Space: O(N)\"\"\"\n",
    "\n",
    "    dp: list[int] = [-1 for i in range(n + 1)]\n",
    "    def backtrack(curr: int) -> int:\n",
    "        if curr <= 1:\n",
    "            return 1\n",
    "        elif dp[curr] != -1:\n",
    "            return dp[curr]\n",
    "        else:\n",
    "            dp[curr] = backtrack(curr - 1) + backtrack(curr - 2)\n",
    "            return dp[curr]\n",
    "\n",
    "    return backtrack(n)\n",
    "\n",
    "assert climbStairsBetter(45) == 1836311903"
   ]
  },
  {
   "cell_type": "code",
   "execution_count": 7,
   "id": "2dc15ac3",
   "metadata": {
    "execution": {
     "iopub.execute_input": "2024-05-04T15:52:04.693749Z",
     "iopub.status.busy": "2024-05-04T15:52:04.693194Z",
     "iopub.status.idle": "2024-05-04T15:52:04.698660Z",
     "shell.execute_reply": "2024-05-04T15:52:04.697845Z"
    },
    "lines_to_next_cell": 1,
    "papermill": {
     "duration": 0.012146,
     "end_time": "2024-05-04T15:52:04.700417",
     "exception": false,
     "start_time": "2024-05-04T15:52:04.688271",
     "status": "completed"
    },
    "tags": []
   },
   "outputs": [],
   "source": [
    "def climbStairs(n: int) -> int:\n",
    "    \"\"\"Time: O(N), Space: O(1)\"\"\"\n",
    "    prev2, prev1 = 1, 1\n",
    "    while n > 0:\n",
    "        prev2, prev1 = prev1, prev1 + prev2\n",
    "        n -= 1\n",
    "\n",
    "    return prev2\n",
    "\n",
    "assert climbStairs(45) == 1836311903"
   ]
  },
  {
   "cell_type": "markdown",
   "id": "3cd4d88c",
   "metadata": {
    "papermill": {
     "duration": 0.003869,
     "end_time": "2024-05-04T15:52:04.708317",
     "exception": false,
     "start_time": "2024-05-04T15:52:04.704448",
     "status": "completed"
    },
    "tags": []
   },
   "source": [
    "Video link: https://youtu.be/EgG3jsGoPvQ?si=Cm5AVvq_zCnr-w6q\n",
    "Frog Jump: 1"
   ]
  },
  {
   "cell_type": "code",
   "execution_count": 8,
   "id": "59c27b1e",
   "metadata": {
    "execution": {
     "iopub.execute_input": "2024-05-04T15:52:04.718091Z",
     "iopub.status.busy": "2024-05-04T15:52:04.717628Z",
     "iopub.status.idle": "2024-05-04T15:52:04.725360Z",
     "shell.execute_reply": "2024-05-04T15:52:04.724524Z"
    },
    "lines_to_next_cell": 1,
    "papermill": {
     "duration": 0.014861,
     "end_time": "2024-05-04T15:52:04.727139",
     "exception": false,
     "start_time": "2024-05-04T15:52:04.712278",
     "status": "completed"
    },
    "tags": []
   },
   "outputs": [],
   "source": [
    "def frogJumpBetter(N: int, heights: list[int]) -> int:\n",
    "    \"\"\"\n",
    "    Time: O(N), Space: O(N) + O(N)\n",
    "    \"\"\"\n",
    "\n",
    "    @functools.cache\n",
    "    def backtrack(curr: int) -> int:\n",
    "        if curr == N - 1:\n",
    "            return 0\n",
    "        elif curr == N - 2:\n",
    "            return abs(heights[N - 1] - heights[N - 2])\n",
    "        else:\n",
    "            jump1 = abs(heights[curr] - heights[curr + 1]) + backtrack(curr + 1)\n",
    "            jump2 = abs(heights[curr] - heights[curr + 2]) + backtrack(curr + 2)\n",
    "            return min(jump1, jump2)\n",
    "\n",
    "    return backtrack(0)\n",
    "\n",
    "# Testing the solution\n",
    "assert frogJumpBetter(4, [10,20,30,10]) == 20\n",
    "assert frogJumpBetter(3, [10,50,10]) == 0"
   ]
  },
  {
   "cell_type": "code",
   "execution_count": 9,
   "id": "2bc52e04",
   "metadata": {
    "execution": {
     "iopub.execute_input": "2024-05-04T15:52:04.736736Z",
     "iopub.status.busy": "2024-05-04T15:52:04.736073Z",
     "iopub.status.idle": "2024-05-04T15:52:04.742719Z",
     "shell.execute_reply": "2024-05-04T15:52:04.741978Z"
    },
    "papermill": {
     "duration": 0.013244,
     "end_time": "2024-05-04T15:52:04.744434",
     "exception": false,
     "start_time": "2024-05-04T15:52:04.731190",
     "status": "completed"
    },
    "tags": []
   },
   "outputs": [],
   "source": [
    "def frogJumpOptimal(N: int, heights: list[int]) -> int:\n",
    "    \"Time: O(N), Space: O(1)\"\n",
    "    jump1, jump2 = abs(heights[-2] - heights[-1]), 0\n",
    "    for i in range(N - 3, -1, -1):\n",
    "        curr = min(abs(heights[i] - heights[i + 1]) + jump1, abs(heights[i] - heights[i + 2]) + jump2)\n",
    "        jump1, jump2 = curr, jump1\n",
    "\n",
    "    return jump1\n",
    "\n",
    "assert frogJumpOptimal(4, [10,20,30,10]) == 20\n",
    "assert frogJumpOptimal(3, [10,50,10]) == 0"
   ]
  }
 ],
 "metadata": {
  "kernelspec": {
   "display_name": "Python 3 (ipykernel)",
   "language": "python",
   "name": "python3"
  },
  "language_info": {
   "codemirror_mode": {
    "name": "ipython",
    "version": 3
   },
   "file_extension": ".py",
   "mimetype": "text/x-python",
   "name": "python",
   "nbconvert_exporter": "python",
   "pygments_lexer": "ipython3",
   "version": "3.10.14"
  },
  "papermill": {
   "default_parameters": {},
   "duration": 1.548715,
   "end_time": "2024-05-04T15:52:04.967120",
   "environment_variables": {},
   "exception": null,
   "input_path": "study/striver-A2Z/13-dp.ipynb",
   "output_path": "study/striver-A2Z/13-dp.ipynb",
   "parameters": {},
   "start_time": "2024-05-04T15:52:03.418405",
   "version": "2.6.0"
  }
 },
 "nbformat": 4,
 "nbformat_minor": 5
}