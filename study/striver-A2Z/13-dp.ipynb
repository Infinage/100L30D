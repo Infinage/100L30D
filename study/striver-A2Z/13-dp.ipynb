{
 "cells": [
  {
   "cell_type": "markdown",
   "id": "807dd9ee",
   "metadata": {
    "papermill": {
     "duration": 0.018166,
     "end_time": "2024-05-19T14:23:39.466308",
     "exception": false,
     "start_time": "2024-05-19T14:23:39.448142",
     "status": "completed"
    },
    "tags": []
   },
   "source": [
    "Important notes\n",
    "- All subset based problems (non contigous subarrays would have the pick/nopick approach)\n",
    "- To convert a memoization solution to tabulation:\n",
    "  1. Find the base case and assign the the DP\n",
    "  2. Start iterating from the base case all the way to our starting point\n",
    "  3. Return the value at the starting point\n",
    "- We can space optimize a tabulation solution whenever we see only the prev/next rows being used in the tabualation solution.\n",
    "- Time complexity of unmemoized DP code is typically exponential O(number of branches ** N)\n",
    "- All subsets problem involve recursion trying all combinations: Pick, no pick\n",
    "- For problems where there is an infinite supply, take would increase total but remain at the same index.\n",
    "- For problems involving counts, we try all possb combinations and base case would either return 1 or 0."
   ]
  },
  {
   "cell_type": "markdown",
   "id": "457ab51f",
   "metadata": {
    "papermill": {
     "duration": 0.017161,
     "end_time": "2024-05-19T14:23:39.500468",
     "exception": false,
     "start_time": "2024-05-19T14:23:39.483307",
     "status": "completed"
    },
    "tags": []
   },
   "source": [
    "### Some important imports"
   ]
  },
  {
   "cell_type": "code",
   "execution_count": 1,
   "id": "164d751b",
   "metadata": {
    "execution": {
     "iopub.execute_input": "2024-05-19T14:23:39.535575Z",
     "iopub.status.busy": "2024-05-19T14:23:39.535185Z",
     "iopub.status.idle": "2024-05-19T14:23:39.540668Z",
     "shell.execute_reply": "2024-05-19T14:23:39.540146Z"
    },
    "lines_to_next_cell": 1,
    "papermill": {
     "duration": 0.024575,
     "end_time": "2024-05-19T14:23:39.541941",
     "exception": false,
     "start_time": "2024-05-19T14:23:39.517366",
     "status": "completed"
    },
    "tags": []
   },
   "outputs": [],
   "source": [
    "import functools\n",
    "import itertools\n",
    "import collections\n",
    "import math\n",
    "import heapq"
   ]
  },
  {
   "cell_type": "markdown",
   "id": "48648354",
   "metadata": {
    "papermill": {
     "duration": 0.016757,
     "end_time": "2024-05-19T14:23:39.575864",
     "exception": false,
     "start_time": "2024-05-19T14:23:39.559107",
     "status": "completed"
    },
    "tags": []
   },
   "source": [
    "Introduction to DP: https://youtu.be/tyB0ztf0DNY?si=SgpBwGNqPXzdPSRA\n",
    "1. Tabulation: Bottom up DP: Ans -> Base case -> Ans\n",
    "2. Memoization: Top down DP: Base case -> Ans"
   ]
  },
  {
   "cell_type": "code",
   "execution_count": 2,
   "id": "41c46591",
   "metadata": {
    "execution": {
     "iopub.execute_input": "2024-05-19T14:23:39.610881Z",
     "iopub.status.busy": "2024-05-19T14:23:39.610673Z",
     "iopub.status.idle": "2024-05-19T14:23:39.616712Z",
     "shell.execute_reply": "2024-05-19T14:23:39.616217Z"
    },
    "lines_to_next_cell": 1,
    "papermill": {
     "duration": 0.025022,
     "end_time": "2024-05-19T14:23:39.617840",
     "exception": false,
     "start_time": "2024-05-19T14:23:39.592818",
     "status": "completed"
    },
    "tags": []
   },
   "outputs": [
    {
     "data": {
      "text/plain": [
       "55"
      ]
     },
     "execution_count": 2,
     "metadata": {},
     "output_type": "execute_result"
    }
   ],
   "source": [
    "def fiboBrute(n: int) -> int:\n",
    "    \"\"\"\n",
    "    Vanilla recursion\n",
    "    Time: O(2 ^ N), Space: O(2 ^ N)\n",
    "    \"\"\"\n",
    "    if n <= 1:\n",
    "        return n\n",
    "    else:\n",
    "        return fiboBrute(n - 1) + fiboBrute(n - 2)\n",
    "\n",
    "fiboBrute(10)"
   ]
  },
  {
   "cell_type": "code",
   "execution_count": 3,
   "id": "83ba7cd5",
   "metadata": {
    "execution": {
     "iopub.execute_input": "2024-05-19T14:23:39.652928Z",
     "iopub.status.busy": "2024-05-19T14:23:39.652750Z",
     "iopub.status.idle": "2024-05-19T14:23:39.657858Z",
     "shell.execute_reply": "2024-05-19T14:23:39.657335Z"
    },
    "lines_to_next_cell": 1,
    "papermill": {
     "duration": 0.024021,
     "end_time": "2024-05-19T14:23:39.659077",
     "exception": false,
     "start_time": "2024-05-19T14:23:39.635056",
     "status": "completed"
    },
    "tags": []
   },
   "outputs": [
    {
     "data": {
      "text/plain": [
       "55"
      ]
     },
     "execution_count": 3,
     "metadata": {},
     "output_type": "execute_result"
    }
   ],
   "source": [
    "def fiboBetter1(n: int) -> int:\n",
    "    \"\"\"\n",
    "    Memoization Approach: Top down approach\n",
    "    Time: O(N), Space: O(N) + O(N)\n",
    "    \"\"\"\n",
    "    dp: list[int] = [-1 for i in range(n + 1)]\n",
    "    def backtrack(curr: int) -> int:\n",
    "        if curr <= 1:\n",
    "            return curr\n",
    "        elif dp[curr] != -1:\n",
    "            return dp[curr]\n",
    "        else:\n",
    "            dp[curr] = backtrack(curr - 1) + backtrack(curr - 2)\n",
    "            return dp[curr]\n",
    "\n",
    "    return backtrack(n)\n",
    "\n",
    "fiboBetter1(10)"
   ]
  },
  {
   "cell_type": "code",
   "execution_count": 4,
   "id": "80fded7e",
   "metadata": {
    "execution": {
     "iopub.execute_input": "2024-05-19T14:23:39.695039Z",
     "iopub.status.busy": "2024-05-19T14:23:39.694582Z",
     "iopub.status.idle": "2024-05-19T14:23:39.699611Z",
     "shell.execute_reply": "2024-05-19T14:23:39.699079Z"
    },
    "lines_to_next_cell": 1,
    "papermill": {
     "duration": 0.024086,
     "end_time": "2024-05-19T14:23:39.700698",
     "exception": false,
     "start_time": "2024-05-19T14:23:39.676612",
     "status": "completed"
    },
    "tags": []
   },
   "outputs": [
    {
     "data": {
      "text/plain": [
       "55"
      ]
     },
     "execution_count": 4,
     "metadata": {},
     "output_type": "execute_result"
    }
   ],
   "source": [
    "def fiboBetter2(n: int) -> int:\n",
    "    \"\"\"\n",
    "    Tabulation: Bottom up approach\n",
    "    Time: O(N), Space: O(N)\n",
    "    \"\"\"\n",
    "    dp: list[int] = [-1 if i > 1 else i for i in range(n + 1)]\n",
    "    for i in range(2, n + 1):\n",
    "        dp[i] = dp[i - 1] + dp[i - 2]\n",
    "\n",
    "    return dp[n]\n",
    "\n",
    "fiboBetter2(10)"
   ]
  },
  {
   "cell_type": "code",
   "execution_count": 5,
   "id": "8f7d86e2",
   "metadata": {
    "execution": {
     "iopub.execute_input": "2024-05-19T14:23:39.736349Z",
     "iopub.status.busy": "2024-05-19T14:23:39.736002Z",
     "iopub.status.idle": "2024-05-19T14:23:39.740394Z",
     "shell.execute_reply": "2024-05-19T14:23:39.739877Z"
    },
    "lines_to_next_cell": 1,
    "papermill": {
     "duration": 0.023455,
     "end_time": "2024-05-19T14:23:39.741548",
     "exception": false,
     "start_time": "2024-05-19T14:23:39.718093",
     "status": "completed"
    },
    "tags": []
   },
   "outputs": [
    {
     "data": {
      "text/plain": [
       "55"
      ]
     },
     "execution_count": 5,
     "metadata": {},
     "output_type": "execute_result"
    }
   ],
   "source": [
    "def fiboOptimal(n: int) -> int:\n",
    "    \"\"\"\n",
    "    Bottom up approach\n",
    "    Time: O(N), Space: O(1)\n",
    "    \"\"\"\n",
    "    prev2, prev1 = 0, 1\n",
    "    for i in range(2, n + 1):\n",
    "        prev2, prev1 = prev1, prev1 + prev2\n",
    "        n -= 1\n",
    "\n",
    "    return prev1\n",
    "\n",
    "fiboOptimal(10)"
   ]
  },
  {
   "cell_type": "markdown",
   "id": "855c35fb",
   "metadata": {
    "papermill": {
     "duration": 0.017307,
     "end_time": "2024-05-19T14:23:39.776230",
     "exception": false,
     "start_time": "2024-05-19T14:23:39.758923",
     "status": "completed"
    },
    "tags": []
   },
   "source": [
    "Climbing Stairs: https://leetcode.com/problems/climbing-stairs/\n",
    "Video Link: https://youtu.be/mLfjzJsN8us?si=C7W-jiYvql0mEnbh"
   ]
  },
  {
   "cell_type": "code",
   "execution_count": 6,
   "id": "87993489",
   "metadata": {
    "execution": {
     "iopub.execute_input": "2024-05-19T14:23:39.831925Z",
     "iopub.status.busy": "2024-05-19T14:23:39.831463Z",
     "iopub.status.idle": "2024-05-19T14:23:39.835778Z",
     "shell.execute_reply": "2024-05-19T14:23:39.835241Z"
    },
    "lines_to_next_cell": 1,
    "papermill": {
     "duration": 0.043062,
     "end_time": "2024-05-19T14:23:39.836952",
     "exception": false,
     "start_time": "2024-05-19T14:23:39.793890",
     "status": "completed"
    },
    "tags": []
   },
   "outputs": [],
   "source": [
    "def climbStairsBetter(n: int) -> int:\n",
    "    \"\"\"Time: O(N), Space: O(N)\"\"\"\n",
    "\n",
    "    dp: list[int] = [-1 for i in range(n + 1)]\n",
    "    def backtrack(curr: int) -> int:\n",
    "        if curr <= 1:\n",
    "            return 1\n",
    "        elif dp[curr] != -1:\n",
    "            return dp[curr]\n",
    "        else:\n",
    "            dp[curr] = backtrack(curr - 1) + backtrack(curr - 2)\n",
    "            return dp[curr]\n",
    "\n",
    "    return backtrack(n)\n",
    "\n",
    "assert climbStairsBetter(45) == 1836311903"
   ]
  },
  {
   "cell_type": "code",
   "execution_count": 7,
   "id": "2dc15ac3",
   "metadata": {
    "execution": {
     "iopub.execute_input": "2024-05-19T14:23:39.874360Z",
     "iopub.status.busy": "2024-05-19T14:23:39.873873Z",
     "iopub.status.idle": "2024-05-19T14:23:39.877303Z",
     "shell.execute_reply": "2024-05-19T14:23:39.876848Z"
    },
    "lines_to_next_cell": 1,
    "papermill": {
     "duration": 0.023126,
     "end_time": "2024-05-19T14:23:39.878467",
     "exception": false,
     "start_time": "2024-05-19T14:23:39.855341",
     "status": "completed"
    },
    "tags": []
   },
   "outputs": [],
   "source": [
    "def climbStairs(n: int) -> int:\n",
    "    \"\"\"Time: O(N), Space: O(1)\"\"\"\n",
    "    prev2, prev1 = 1, 1\n",
    "    while n > 0:\n",
    "        prev2, prev1 = prev1, prev1 + prev2\n",
    "        n -= 1\n",
    "\n",
    "    return prev2\n",
    "\n",
    "assert climbStairs(45) == 1836311903"
   ]
  },
  {
   "cell_type": "markdown",
   "id": "3cd4d88c",
   "metadata": {
    "papermill": {
     "duration": 0.017867,
     "end_time": "2024-05-19T14:23:39.914251",
     "exception": false,
     "start_time": "2024-05-19T14:23:39.896384",
     "status": "completed"
    },
    "tags": []
   },
   "source": [
    "Video link: https://youtu.be/EgG3jsGoPvQ?si=Cm5AVvq_zCnr-w6q\n",
    "Frog Jump: 1"
   ]
  },
  {
   "cell_type": "code",
   "execution_count": 8,
   "id": "59c27b1e",
   "metadata": {
    "execution": {
     "iopub.execute_input": "2024-05-19T14:23:39.950303Z",
     "iopub.status.busy": "2024-05-19T14:23:39.950013Z",
     "iopub.status.idle": "2024-05-19T14:23:39.954835Z",
     "shell.execute_reply": "2024-05-19T14:23:39.954351Z"
    },
    "lines_to_next_cell": 1,
    "papermill": {
     "duration": 0.024149,
     "end_time": "2024-05-19T14:23:39.955934",
     "exception": false,
     "start_time": "2024-05-19T14:23:39.931785",
     "status": "completed"
    },
    "tags": []
   },
   "outputs": [],
   "source": [
    "def frogJumpBetter(N: int, heights: list[int]) -> int:\n",
    "    \"\"\"\n",
    "    Time: O(N), Space: O(N) + O(N)\n",
    "    \"\"\"\n",
    "\n",
    "    @functools.cache\n",
    "    def backtrack(curr: int) -> int:\n",
    "        if curr == N - 1:\n",
    "            return 0\n",
    "        elif curr == N - 2:\n",
    "            return abs(heights[N - 1] - heights[N - 2])\n",
    "        else:\n",
    "            jump1 = abs(heights[curr] - heights[curr + 1]) + backtrack(curr + 1)\n",
    "            jump2 = abs(heights[curr] - heights[curr + 2]) + backtrack(curr + 2)\n",
    "            return min(jump1, jump2)\n",
    "\n",
    "    return backtrack(0)\n",
    "\n",
    "# Testing the solution\n",
    "assert frogJumpBetter(4, [10,20,30,10]) == 20\n",
    "assert frogJumpBetter(3, [10,50,10]) == 0"
   ]
  },
  {
   "cell_type": "code",
   "execution_count": 9,
   "id": "2bc52e04",
   "metadata": {
    "execution": {
     "iopub.execute_input": "2024-05-19T14:23:39.991860Z",
     "iopub.status.busy": "2024-05-19T14:23:39.991502Z",
     "iopub.status.idle": "2024-05-19T14:23:39.995800Z",
     "shell.execute_reply": "2024-05-19T14:23:39.995263Z"
    },
    "lines_to_next_cell": 1,
    "papermill": {
     "duration": 0.023257,
     "end_time": "2024-05-19T14:23:39.996875",
     "exception": false,
     "start_time": "2024-05-19T14:23:39.973618",
     "status": "completed"
    },
    "tags": []
   },
   "outputs": [],
   "source": [
    "def frogJumpOptimal(N: int, heights: list[int]) -> int:\n",
    "    \"Time: O(N), Space: O(1)\"\n",
    "    jump1, jump2 = abs(heights[-2] - heights[-1]), 0\n",
    "    for i in range(N - 3, -1, -1):\n",
    "        curr = min(abs(heights[i] - heights[i + 1]) + jump1, abs(heights[i] - heights[i + 2]) + jump2)\n",
    "        jump1, jump2 = curr, jump1\n",
    "\n",
    "    return jump1\n",
    "\n",
    "assert frogJumpOptimal(4, [10,20,30,10]) == 20\n",
    "assert frogJumpOptimal(3, [10,50,10]) == 0"
   ]
  },
  {
   "cell_type": "markdown",
   "id": "4fa38d19",
   "metadata": {
    "papermill": {
     "duration": 0.016965,
     "end_time": "2024-05-19T14:23:40.031086",
     "exception": false,
     "start_time": "2024-05-19T14:23:40.014121",
     "status": "completed"
    },
    "tags": []
   },
   "source": [
    "Video Link: https://youtu.be/Kmh3rhyEtB8?si=rqZ5-pJcjIzWU5i8\n",
    "Frog Jump with K distance"
   ]
  },
  {
   "cell_type": "code",
   "execution_count": 10,
   "id": "f21ca119",
   "metadata": {
    "execution": {
     "iopub.execute_input": "2024-05-19T14:23:40.066918Z",
     "iopub.status.busy": "2024-05-19T14:23:40.066419Z",
     "iopub.status.idle": "2024-05-19T14:23:40.071434Z",
     "shell.execute_reply": "2024-05-19T14:23:40.070901Z"
    },
    "lines_to_next_cell": 1,
    "papermill": {
     "duration": 0.024435,
     "end_time": "2024-05-19T14:23:40.072580",
     "exception": false,
     "start_time": "2024-05-19T14:23:40.048145",
     "status": "completed"
    },
    "tags": []
   },
   "outputs": [],
   "source": [
    "def frogJumpAtKDistBetter1(N: int, K: int, heights: list[int]) -> int:\n",
    "    \"\"\"\n",
    "    Memoization Approach: Top Down Approach\n",
    "    Time: O(N x K), Space: O(N) + O(N)\n",
    "    \"\"\"\n",
    "\n",
    "    @functools.cache\n",
    "    def backtrack(curr: int) -> int:\n",
    "        if curr >= N - 1:\n",
    "            return 0\n",
    "        else:\n",
    "            minCost = math.inf\n",
    "            for next_ in range(curr + 1, min(N, curr + K + 1)):\n",
    "                cost = abs(heights[curr] - heights[next_]) + backtrack(next_)\n",
    "                minCost = min(minCost, cost)\n",
    "\n",
    "            return int(minCost)\n",
    "\n",
    "    return backtrack(0)\n",
    "\n",
    "# Testing the solution\n",
    "assert frogJumpAtKDistBetter1(5, 3, [10,30,40,50,20]) == 30\n",
    "assert frogJumpAtKDistBetter1(3, 1, [10,20,10]) == 20"
   ]
  },
  {
   "cell_type": "code",
   "execution_count": 11,
   "id": "1b9a86c0",
   "metadata": {
    "execution": {
     "iopub.execute_input": "2024-05-19T14:23:40.110364Z",
     "iopub.status.busy": "2024-05-19T14:23:40.109872Z",
     "iopub.status.idle": "2024-05-19T14:23:40.115878Z",
     "shell.execute_reply": "2024-05-19T14:23:40.115344Z"
    },
    "lines_to_next_cell": 1,
    "papermill": {
     "duration": 0.026033,
     "end_time": "2024-05-19T14:23:40.116975",
     "exception": false,
     "start_time": "2024-05-19T14:23:40.090942",
     "status": "completed"
    },
    "tags": []
   },
   "outputs": [],
   "source": [
    "def frogJumpAtKDistBetter2(N: int, K: int, heights: list[int]) -> int:\n",
    "    \"\"\"\n",
    "    Tabulation: Bottom up approach\n",
    "    Time: O(N x K), Space: O(N)\n",
    "    \"\"\"\n",
    "\n",
    "    dp: list[int] = [-1 for i in range(N)]\n",
    "    dp[-1] = 0\n",
    "\n",
    "    for curr in range(N - 2, -1, -1):\n",
    "        minCost = math.inf\n",
    "        for next_ in range(curr + 1, min(N, curr + K + 1)):\n",
    "            cost = abs(heights[curr] - heights[next_]) + dp[next_]\n",
    "            minCost = min(minCost, cost)\n",
    "        dp[curr] = int(minCost)\n",
    "\n",
    "    return dp[0]\n",
    "\n",
    "# Testing the solution\n",
    "assert frogJumpAtKDistBetter2(5, 3, [10,30,40,50,20]) == 30\n",
    "assert frogJumpAtKDistBetter2(3, 1, [10,20,10]) == 20"
   ]
  },
  {
   "cell_type": "code",
   "execution_count": 12,
   "id": "09ca5d18",
   "metadata": {
    "execution": {
     "iopub.execute_input": "2024-05-19T14:23:40.154349Z",
     "iopub.status.busy": "2024-05-19T14:23:40.153854Z",
     "iopub.status.idle": "2024-05-19T14:23:40.158810Z",
     "shell.execute_reply": "2024-05-19T14:23:40.158373Z"
    },
    "lines_to_next_cell": 1,
    "papermill": {
     "duration": 0.024625,
     "end_time": "2024-05-19T14:23:40.159902",
     "exception": false,
     "start_time": "2024-05-19T14:23:40.135277",
     "status": "completed"
    },
    "tags": []
   },
   "outputs": [],
   "source": [
    "def frogJumpAtKDist(N: int, K: int, heights: list[int]) -> int:\n",
    "    \"\"\"\n",
    "    Tabulation: Bottom up approach\n",
    "    Time: O(N x K), Space: O(K)\n",
    "    \"\"\"\n",
    "\n",
    "    dp: collections.deque[int] = collections.deque([0])\n",
    "    for curr in range(N - 2, -1, -1):\n",
    "        minCost = math.inf\n",
    "        for jump in range(1, min(N - curr, K + 1)):\n",
    "            next_ = curr + jump\n",
    "            cost = abs(heights[curr] - heights[next_]) + dp[jump - 1]\n",
    "            minCost = min(minCost, cost)\n",
    "\n",
    "        dp.appendleft(int(minCost))\n",
    "        if len(dp) > K:\n",
    "            dp.pop()\n",
    "\n",
    "    return dp[0]\n",
    "\n",
    "# Testing the solution\n",
    "assert frogJumpAtKDist(5, 3, [10,30,40,50,20]) == 30\n",
    "assert frogJumpAtKDist(3, 1, [10,20,10]) == 20"
   ]
  },
  {
   "cell_type": "markdown",
   "id": "259d53f8",
   "metadata": {
    "papermill": {
     "duration": 0.01705,
     "end_time": "2024-05-19T14:23:40.194450",
     "exception": false,
     "start_time": "2024-05-19T14:23:40.177400",
     "status": "completed"
    },
    "tags": []
   },
   "source": [
    "Maximum sum of Non Adjacent Elements: House Robber\n",
    "Video Link: https://youtu.be/GrMBfJNk_NY?si=IPuGJglc0axETveU"
   ]
  },
  {
   "cell_type": "code",
   "execution_count": 13,
   "id": "89d8dea7",
   "metadata": {
    "execution": {
     "iopub.execute_input": "2024-05-19T14:23:40.229867Z",
     "iopub.status.busy": "2024-05-19T14:23:40.229522Z",
     "iopub.status.idle": "2024-05-19T14:23:40.233490Z",
     "shell.execute_reply": "2024-05-19T14:23:40.232947Z"
    },
    "lines_to_next_cell": 1,
    "papermill": {
     "duration": 0.022957,
     "end_time": "2024-05-19T14:23:40.234552",
     "exception": false,
     "start_time": "2024-05-19T14:23:40.211595",
     "status": "completed"
    },
    "tags": []
   },
   "outputs": [],
   "source": [
    "def robMemo(nums: list[int]) -> int:\n",
    "    \"\"\"\n",
    "    Memoization: Top down approach\n",
    "    Time: O(N), Space: O(N)\n",
    "    \"\"\"\n",
    "\n",
    "    @functools.cache\n",
    "    def backtrack(curr: int) -> int:\n",
    "        if curr >= N:\n",
    "            return 0\n",
    "        else:\n",
    "            return max(backtrack(curr + 1), nums[curr] + backtrack(curr + 2))\n",
    "\n",
    "    N = len(nums)\n",
    "    return backtrack(0)\n",
    "\n",
    "# Testing the solution\n",
    "assert robMemo([2,7,9,3,1]) == 12"
   ]
  },
  {
   "cell_type": "code",
   "execution_count": 14,
   "id": "e69063ac",
   "metadata": {
    "execution": {
     "iopub.execute_input": "2024-05-19T14:23:40.270225Z",
     "iopub.status.busy": "2024-05-19T14:23:40.269862Z",
     "iopub.status.idle": "2024-05-19T14:23:40.273949Z",
     "shell.execute_reply": "2024-05-19T14:23:40.273483Z"
    },
    "lines_to_next_cell": 1,
    "papermill": {
     "duration": 0.023127,
     "end_time": "2024-05-19T14:23:40.275028",
     "exception": false,
     "start_time": "2024-05-19T14:23:40.251901",
     "status": "completed"
    },
    "tags": []
   },
   "outputs": [],
   "source": [
    "def robTab(nums: list[int]) -> int:\n",
    "    \"\"\"\n",
    "    Tabulation: Bottom up approach\n",
    "    Time: O(N), Space: O(N)\n",
    "    \"\"\"\n",
    "    N = len(nums)\n",
    "    dp: list[int] = [-1 for i in range(N + 1)]\n",
    "    dp[-1], dp[-2] = 0, nums[-1]\n",
    "    for curr in range(N - 2, -1, -1):\n",
    "        dp[curr] = max(nums[curr] + dp[curr + 2], dp[curr + 1])\n",
    "\n",
    "    return dp[0]\n",
    "\n",
    "# Testing the solution\n",
    "assert robTab([2,7,9,3,1]) == 12"
   ]
  },
  {
   "cell_type": "code",
   "execution_count": 15,
   "id": "d3ac1b1c",
   "metadata": {
    "execution": {
     "iopub.execute_input": "2024-05-19T14:23:40.310548Z",
     "iopub.status.busy": "2024-05-19T14:23:40.310341Z",
     "iopub.status.idle": "2024-05-19T14:23:40.313632Z",
     "shell.execute_reply": "2024-05-19T14:23:40.313225Z"
    },
    "lines_to_next_cell": 1,
    "papermill": {
     "duration": 0.022258,
     "end_time": "2024-05-19T14:23:40.314680",
     "exception": false,
     "start_time": "2024-05-19T14:23:40.292422",
     "status": "completed"
    },
    "tags": []
   },
   "outputs": [],
   "source": [
    "# https://leetcode.com/problems/house-robber/submissions/1249841355/\n",
    "def robSpaceOptimized(nums: list[int]) -> int:\n",
    "    \"Time: O(N), Space: O(1)\"\n",
    "    next1 = next2 = 0\n",
    "    for curr in range(len(nums) - 1, -1, -1):\n",
    "        next1, next2 = max(nums[curr] + next2, next1), next1\n",
    "\n",
    "    return next1\n",
    "\n",
    "assert robSpaceOptimized([2,7,9,3,1]) == 12"
   ]
  },
  {
   "cell_type": "markdown",
   "id": "630eec21",
   "metadata": {
    "papermill": {
     "duration": 0.017132,
     "end_time": "2024-05-19T14:23:40.349162",
     "exception": false,
     "start_time": "2024-05-19T14:23:40.332030",
     "status": "completed"
    },
    "tags": []
   },
   "source": [
    "House Robber 2: https://youtu.be/3WaxQMELSkw?si=i9oGKnDJGJxvUjbu\n",
    "https://leetcode.com/problems/house-robber-ii/submissions/1249888930"
   ]
  },
  {
   "cell_type": "code",
   "execution_count": 16,
   "id": "3ee7a5cf",
   "metadata": {
    "execution": {
     "iopub.execute_input": "2024-05-19T14:23:40.384343Z",
     "iopub.status.busy": "2024-05-19T14:23:40.383904Z",
     "iopub.status.idle": "2024-05-19T14:23:40.388111Z",
     "shell.execute_reply": "2024-05-19T14:23:40.387607Z"
    },
    "lines_to_next_cell": 1,
    "papermill": {
     "duration": 0.0229,
     "end_time": "2024-05-19T14:23:40.389212",
     "exception": false,
     "start_time": "2024-05-19T14:23:40.366312",
     "status": "completed"
    },
    "tags": []
   },
   "outputs": [],
   "source": [
    "def rob2(nums: list[int]) -> int:\n",
    "    \"\"\"\n",
    "    Ans cannot contain both the first and the last house.\n",
    "    It can contain either the first or the last house.\n",
    "    \"\"\"\n",
    "    def rob(arr: list[int]) -> int:\n",
    "        next1 = next2 = 0\n",
    "        for curr in range(len(arr) - 1, -1, -1):\n",
    "            next1, next2 = max(arr[curr] + next2, next1), next1\n",
    "\n",
    "        return next1\n",
    "\n",
    "    return max(rob(nums[1:]), rob(nums[:-1])) if len(nums) > 1 else sum(nums)\n",
    "\n",
    "# Testing the solution\n",
    "assert rob2([1,2,3,1]) == 4\n",
    "assert rob2([]) == 0"
   ]
  },
  {
   "cell_type": "markdown",
   "id": "52745498",
   "metadata": {
    "papermill": {
     "duration": 0.017175,
     "end_time": "2024-05-19T14:23:40.423877",
     "exception": false,
     "start_time": "2024-05-19T14:23:40.406702",
     "status": "completed"
    },
    "tags": []
   },
   "source": [
    "Ninja's Training: https://youtu.be/AE39gJYuRog?si=n4BhCotno-9chP5j"
   ]
  },
  {
   "cell_type": "code",
   "execution_count": 17,
   "id": "c814dc79",
   "metadata": {
    "execution": {
     "iopub.execute_input": "2024-05-19T14:23:40.459342Z",
     "iopub.status.busy": "2024-05-19T14:23:40.459014Z",
     "iopub.status.idle": "2024-05-19T14:23:40.463831Z",
     "shell.execute_reply": "2024-05-19T14:23:40.463428Z"
    },
    "lines_to_next_cell": 1,
    "papermill": {
     "duration": 0.023654,
     "end_time": "2024-05-19T14:23:40.464917",
     "exception": false,
     "start_time": "2024-05-19T14:23:40.441263",
     "status": "completed"
    },
    "tags": []
   },
   "outputs": [],
   "source": [
    "def ninjaTrainingBetter(N: int, points: list[list[int]]) -> int:\n",
    "    \"\"\"\n",
    "    Memoization: Top down approach\n",
    "\n",
    "    Time: O(N), Space: O(N) + O(N)\n",
    "    \"\"\"\n",
    "\n",
    "    @functools.cache\n",
    "    def backtrack(i: int, j: int) -> int:\n",
    "        if i == N:\n",
    "            return 0\n",
    "        else:\n",
    "            max_ = -math.inf\n",
    "            for k in range(3):\n",
    "                if k != j:\n",
    "                    max_ = max(max_, points[i][k] + backtrack(i + 1, k))\n",
    "\n",
    "            return int(max_)\n",
    "\n",
    "    return backtrack(0, -1)\n",
    "\n",
    "# Testing the solution\n",
    "assert ninjaTrainingBetter(3, [[10,40,70], [20,50,80], [30,60,90]]) == 210\n",
    "assert ninjaTrainingBetter(3, [[1,2,5], [3,1,1], [3,3,3]]) == 11\n",
    "assert ninjaTrainingBetter(2, [[10,50,1], [5,100,11]]) == 110"
   ]
  },
  {
   "cell_type": "code",
   "execution_count": 18,
   "id": "015e9458",
   "metadata": {
    "execution": {
     "iopub.execute_input": "2024-05-19T14:23:40.500022Z",
     "iopub.status.busy": "2024-05-19T14:23:40.499693Z",
     "iopub.status.idle": "2024-05-19T14:23:40.504950Z",
     "shell.execute_reply": "2024-05-19T14:23:40.504513Z"
    },
    "lines_to_next_cell": 1,
    "papermill": {
     "duration": 0.023839,
     "end_time": "2024-05-19T14:23:40.505938",
     "exception": false,
     "start_time": "2024-05-19T14:23:40.482099",
     "status": "completed"
    },
    "tags": []
   },
   "outputs": [],
   "source": [
    "def ninjaTraining(N: int, points: list[list[int]]) -> int:\n",
    "    \"\"\"\n",
    "    Space optimized Tabulation DP: Bottom up\n",
    "\n",
    "    Start at the last day.\n",
    "    At each day we sum up corresponding values with the values in DP and assign them to DP.\n",
    "    Before moving the prev day, to the DP perform this op -> dp[i] = max(dp[j]) where j != i\n",
    "\n",
    "    At the end of the iteration simply return max of DP.\n",
    "\n",
    "    Time: O(N), Space: O(1)\n",
    "    \"\"\"\n",
    "\n",
    "    dp: list[int] = [0, 0, 0]\n",
    "    for i in range(N - 1, -1, -1):\n",
    "        for j in range(3):\n",
    "            dp[j] += points[i][j]\n",
    "\n",
    "        next_dp: list[int] = []\n",
    "        for j in range(3):\n",
    "            next_dp.append(max(dp[k] for k in range(3) if k != j))\n",
    "\n",
    "        dp = next_dp\n",
    "\n",
    "    return max(dp)\n",
    "\n",
    "# Testing the solution\n",
    "assert ninjaTraining(3, [[10,40,70], [20,50,80], [30,60,90]]) == 210\n",
    "assert ninjaTraining(3, [[1,2,5], [3,1,1], [3,3,3]]) == 11\n",
    "assert ninjaTraining(2, [[10,50,1], [5,100,11]]) == 110"
   ]
  },
  {
   "cell_type": "markdown",
   "id": "d132fa58",
   "metadata": {
    "papermill": {
     "duration": 0.017276,
     "end_time": "2024-05-19T14:23:40.540573",
     "exception": false,
     "start_time": "2024-05-19T14:23:40.523297",
     "status": "completed"
    },
    "tags": []
   },
   "source": [
    "Unique 2D paths: https://youtu.be/sdE0A2Oxofw?si=g1FpuSIYx0x95G-7\n",
    "https://leetcode.com/problems/unique-paths/"
   ]
  },
  {
   "cell_type": "code",
   "execution_count": 19,
   "id": "d035c9d7",
   "metadata": {
    "execution": {
     "iopub.execute_input": "2024-05-19T14:23:40.575920Z",
     "iopub.status.busy": "2024-05-19T14:23:40.575522Z",
     "iopub.status.idle": "2024-05-19T14:23:40.579774Z",
     "shell.execute_reply": "2024-05-19T14:23:40.579233Z"
    },
    "lines_to_next_cell": 1,
    "papermill": {
     "duration": 0.023095,
     "end_time": "2024-05-19T14:23:40.580883",
     "exception": false,
     "start_time": "2024-05-19T14:23:40.557788",
     "status": "completed"
    },
    "tags": []
   },
   "outputs": [],
   "source": [
    "def uniquePathsMemo(m: int, n: int) -> int:\n",
    "    \"\"\"\n",
    "    Memoization Solution: Top Down\n",
    "    Time: O(m x n), Space: O(m x n) + O(m x n)\n",
    "    \"\"\"\n",
    "    @functools.cache\n",
    "    def backtrack(i: int, j: int) -> int:\n",
    "        if i == m - 1 and j == n - 1:\n",
    "            return 1\n",
    "        elif i >= m or j >= n:\n",
    "            return 0\n",
    "        else:\n",
    "            return backtrack(i + 1, j) + backtrack(i, j + 1)\n",
    "\n",
    "    return backtrack(0, 0)\n",
    "\n",
    "# Testing the solution\n",
    "assert uniquePathsMemo(3, 7) == 28\n",
    "assert uniquePathsMemo(3, 2) == 3"
   ]
  },
  {
   "cell_type": "code",
   "execution_count": 20,
   "id": "c3fb756d",
   "metadata": {
    "execution": {
     "iopub.execute_input": "2024-05-19T14:23:40.616204Z",
     "iopub.status.busy": "2024-05-19T14:23:40.615876Z",
     "iopub.status.idle": "2024-05-19T14:23:40.619665Z",
     "shell.execute_reply": "2024-05-19T14:23:40.619240Z"
    },
    "lines_to_next_cell": 1,
    "papermill": {
     "duration": 0.022664,
     "end_time": "2024-05-19T14:23:40.620737",
     "exception": false,
     "start_time": "2024-05-19T14:23:40.598073",
     "status": "completed"
    },
    "tags": []
   },
   "outputs": [],
   "source": [
    "# https://leetcode.com/problems/unique-paths/submissions/1250526713\n",
    "def uniquePathsTab(m: int, n: int) -> int:\n",
    "    \"Time: O(m x n), Space: O(min(m, n))\"\n",
    "    M, N = min(m, n), max(m, n)\n",
    "    dp: list[int] = [1 for i in range(M)]\n",
    "\n",
    "    for i in range(N - 1):\n",
    "        for j in range(M - 2, -1, -1):\n",
    "            dp[j] += dp[j + 1]\n",
    "\n",
    "    return dp[0]\n",
    "\n",
    "# Testing the solution\n",
    "assert uniquePathsTab(3, 7) == 28\n",
    "assert uniquePathsTab(3, 2) == 3"
   ]
  },
  {
   "cell_type": "markdown",
   "id": "bb22f54a",
   "metadata": {
    "papermill": {
     "duration": 0.017166,
     "end_time": "2024-05-19T14:23:40.655304",
     "exception": false,
     "start_time": "2024-05-19T14:23:40.638138",
     "status": "completed"
    },
    "tags": []
   },
   "source": [
    "Video link: https://youtu.be/TmhpgXScLyY?si=M_FfFKRqRTXid4Jj\n",
    "Unique Paths - ii: https://leetcode.com/problems/unique-paths-ii/submissions/1250615914"
   ]
  },
  {
   "cell_type": "code",
   "execution_count": 21,
   "id": "f59a530c",
   "metadata": {
    "execution": {
     "iopub.execute_input": "2024-05-19T14:23:40.691390Z",
     "iopub.status.busy": "2024-05-19T14:23:40.690872Z",
     "iopub.status.idle": "2024-05-19T14:23:40.696158Z",
     "shell.execute_reply": "2024-05-19T14:23:40.695618Z"
    },
    "lines_to_next_cell": 1,
    "papermill": {
     "duration": 0.024581,
     "end_time": "2024-05-19T14:23:40.697298",
     "exception": false,
     "start_time": "2024-05-19T14:23:40.672717",
     "status": "completed"
    },
    "tags": []
   },
   "outputs": [],
   "source": [
    "def uniquePathsWithObstacles(obstacleGrid: list[list[int]]) -> int:\n",
    "    \"Time: O(M x N), Space: O(N)\"\n",
    "    M, N = len(obstacleGrid), len(obstacleGrid[0])\n",
    "\n",
    "    dp: list[int] = [0 for j in range(N)]\n",
    "    dp[-1] = 1\n",
    "\n",
    "    for i in range(M - 1, -1, -1):\n",
    "        for j in range(N - 1, -1, -1):\n",
    "            if obstacleGrid[i][j] == 0:\n",
    "                dp[j] = dp[j] + dp[j + 1] if j < N - 1 else dp[j]\n",
    "            else:\n",
    "                dp[j] = 0\n",
    "\n",
    "    return dp[0]\n",
    "\n",
    "# Testing the solution\n",
    "assert uniquePathsWithObstacles([[0,0,0],[0,1,0],[0,0,0]]) == 2\n",
    "assert uniquePathsWithObstacles([[0,1],[0,0]]) == 1\n",
    "assert uniquePathsWithObstacles([[1]]) == 0"
   ]
  },
  {
   "cell_type": "markdown",
   "id": "93e28e9b",
   "metadata": {
    "papermill": {
     "duration": 0.017131,
     "end_time": "2024-05-19T14:23:40.731805",
     "exception": false,
     "start_time": "2024-05-19T14:23:40.714674",
     "status": "completed"
    },
    "tags": []
   },
   "source": [
    "Minimum Path Sum: https://youtu.be/_rgTlyky1uQ?si=3xJY7MmVg5tTEW5Q\n",
    "https://leetcode.com/problems/minimum-path-sum/submissions/1250633614"
   ]
  },
  {
   "cell_type": "code",
   "execution_count": 22,
   "id": "c97f7ce9",
   "metadata": {
    "execution": {
     "iopub.execute_input": "2024-05-19T14:23:40.767032Z",
     "iopub.status.busy": "2024-05-19T14:23:40.766638Z",
     "iopub.status.idle": "2024-05-19T14:23:40.771308Z",
     "shell.execute_reply": "2024-05-19T14:23:40.770801Z"
    },
    "lines_to_next_cell": 1,
    "papermill": {
     "duration": 0.02337,
     "end_time": "2024-05-19T14:23:40.772304",
     "exception": false,
     "start_time": "2024-05-19T14:23:40.748934",
     "status": "completed"
    },
    "tags": []
   },
   "outputs": [],
   "source": [
    "def minPathSum(grid: list[list[int]]) -> int:\n",
    "    \"Time: O(M x N), Space: O(N)\"\n",
    "    M, N = len(grid), len(grid[0])\n",
    "\n",
    "    # Initialize DP\n",
    "    dp: list[float] = [math.inf for j in range(N)]\n",
    "    dp[-1] = 0\n",
    "\n",
    "    # DP Solution\n",
    "    for i in range(M - 1, -1, -1):\n",
    "        for j in range(N - 1, -1, -1):\n",
    "            dp[j] = grid[i][j] + (min(dp[j + 1], dp[j]) if j < N - 1 else dp[j])\n",
    "\n",
    "    return int(dp[0])\n",
    "\n",
    "# Testing the solution\n",
    "assert minPathSum([[1,3,1],[1,5,1],[4,2,1]]) == 7\n",
    "assert minPathSum([[1,2,3],[4,5,6]]) == 12"
   ]
  },
  {
   "cell_type": "markdown",
   "id": "107526ff",
   "metadata": {
    "papermill": {
     "duration": 0.017554,
     "end_time": "2024-05-19T14:23:40.807192",
     "exception": false,
     "start_time": "2024-05-19T14:23:40.789638",
     "status": "completed"
    },
    "tags": []
   },
   "source": [
    "Video Link: https://youtu.be/0bHoB32fuj0?si=5UHeArKmLvTVpbrk\n",
    "Triangle: https://leetcode.com/problems/triangle/submissions/1251774955/"
   ]
  },
  {
   "cell_type": "code",
   "execution_count": 23,
   "id": "62387041",
   "metadata": {
    "execution": {
     "iopub.execute_input": "2024-05-19T14:23:40.842776Z",
     "iopub.status.busy": "2024-05-19T14:23:40.842379Z",
     "iopub.status.idle": "2024-05-19T14:23:40.846878Z",
     "shell.execute_reply": "2024-05-19T14:23:40.846370Z"
    },
    "lines_to_next_cell": 1,
    "papermill": {
     "duration": 0.023456,
     "end_time": "2024-05-19T14:23:40.847928",
     "exception": false,
     "start_time": "2024-05-19T14:23:40.824472",
     "status": "completed"
    },
    "tags": []
   },
   "outputs": [],
   "source": [
    "def minimumTotal(triangle: list[list[int]]) -> int:\n",
    "    \"\"\"Time: O(N x N), Space: O(N)\"\"\"\n",
    "    N = len(triangle)\n",
    "    dp: list[int] = [0 for i in range(N + 1)]\n",
    "\n",
    "    while N > 0:\n",
    "        next_: list[int] = []\n",
    "        for i in range(N):\n",
    "            next_.append(min(dp[i], dp[i + 1]) + triangle[N - 1][i])\n",
    "        dp = next_\n",
    "        N -= 1\n",
    "\n",
    "    return dp[0]\n",
    "\n",
    "# Testing the solution\n",
    "assert minimumTotal([[2],[3,4],[6,5,7],[4,1,8,3]]) == 11\n",
    "assert minimumTotal([[-10]]) == -10"
   ]
  },
  {
   "cell_type": "markdown",
   "id": "51332104",
   "metadata": {
    "papermill": {
     "duration": 0.017289,
     "end_time": "2024-05-19T14:23:40.882554",
     "exception": false,
     "start_time": "2024-05-19T14:23:40.865265",
     "status": "completed"
    },
    "tags": []
   },
   "source": [
    "Video Link: https://youtu.be/N_aJ5qQbYA0?si=LTME1YI3hqtU8u8_\n",
    "Maximum Falling path sum\n",
    "We cannot apply greedy algorithms here because there is no uniformity mentioned. Uniformity implies how the numbers are distributed.\n",
    "For eg:\n",
    "```\n",
    "1   2  3    4\n",
    "10  1  100  1\n",
    "1   2  5    0\n",
    "```\n",
    "In the above example from (0, 0), if we greedily chose (1, 0) - we would miss out on 100 at (1, 2). \n",
    "If suppose we were told that the numbers were arranged in ascending or descending order we can greedily pick a path"
   ]
  },
  {
   "cell_type": "code",
   "execution_count": 24,
   "id": "4f9fb3eb",
   "metadata": {
    "execution": {
     "iopub.execute_input": "2024-05-19T14:23:40.918070Z",
     "iopub.status.busy": "2024-05-19T14:23:40.917743Z",
     "iopub.status.idle": "2024-05-19T14:23:40.922959Z",
     "shell.execute_reply": "2024-05-19T14:23:40.922468Z"
    },
    "lines_to_next_cell": 1,
    "papermill": {
     "duration": 0.024168,
     "end_time": "2024-05-19T14:23:40.924035",
     "exception": false,
     "start_time": "2024-05-19T14:23:40.899867",
     "status": "completed"
    },
    "tags": []
   },
   "outputs": [],
   "source": [
    "def getMaxPathSumBetter(matrix: list[list[int]]):\n",
    "    \"\"\"\n",
    "    With memoization:\n",
    "    Time complexity: O(3 ^ N)\n",
    "\n",
    "    Memoization Approach: Top Down\n",
    "    Time: O(N x M), Space: O(N x M) + O(N x M)\n",
    "    \"\"\"\n",
    "    M, N = len(matrix), len(matrix[0])\n",
    "\n",
    "    @functools.cache\n",
    "    def backtrack(i: int = 0, j: int = 0) -> float:\n",
    "        if i >= M:\n",
    "            return 0\n",
    "        elif j < 0 or j >= N:\n",
    "            return -math.inf\n",
    "        else:\n",
    "            return matrix[i][j] + max(backtrack(i + 1, j - 1), backtrack(i + 1, j), backtrack(i + 1, j + 1))\n",
    "\n",
    "    maxPathSum = -math.inf\n",
    "    for j in range(N):\n",
    "        maxPathSum = max(maxPathSum, backtrack(0, j))\n",
    "\n",
    "    return int(maxPathSum)\n",
    "\n",
    "# Testing the solution\n",
    "assert getMaxPathSumBetter([[1,2,10,4],[100,3,2,1],[1,1,20,2],[1,2,2,1]]) == 105\n",
    "assert getMaxPathSumBetter([[10,2,3],[3,7,2],[8,1,5]]) == 25"
   ]
  },
  {
   "cell_type": "code",
   "execution_count": 25,
   "id": "b3cf95be",
   "metadata": {
    "execution": {
     "iopub.execute_input": "2024-05-19T14:23:40.961565Z",
     "iopub.status.busy": "2024-05-19T14:23:40.961075Z",
     "iopub.status.idle": "2024-05-19T14:23:40.966204Z",
     "shell.execute_reply": "2024-05-19T14:23:40.965665Z"
    },
    "lines_to_next_cell": 1,
    "papermill": {
     "duration": 0.023851,
     "end_time": "2024-05-19T14:23:40.967194",
     "exception": false,
     "start_time": "2024-05-19T14:23:40.943343",
     "status": "completed"
    },
    "tags": []
   },
   "outputs": [],
   "source": [
    "def getMaxPathSum(matrix: list[list[int]]):\n",
    "    \"\"\"\n",
    "    Space optimized DP: Bottom up\n",
    "    Time: O(M x N), Space: O(N)\n",
    "    \"\"\"\n",
    "    M, N = len(matrix), len(matrix[0])\n",
    "\n",
    "    dp: list[float] = [0 for i in range(N)]\n",
    "    i = M - 1\n",
    "    while i >= 0:\n",
    "        next_: list[float] = []\n",
    "        for j in range(N):\n",
    "            next_.append(matrix[i][j] + max(dp[j - 1] if j - 1 >= 0 else -math.inf, dp[j], dp[j + 1] if j + 1 < N else -math.inf))\n",
    "\n",
    "        dp = next_\n",
    "        i -= 1\n",
    "\n",
    "    return max(dp)\n",
    "\n",
    "# Testing the solution\n",
    "assert getMaxPathSum([[1,2,10,4],[100,3,2,1],[1,1,20,2],[1,2,2,1]]) == 105\n",
    "assert getMaxPathSum([[10,2,3],[3,7,2],[8,1,5]]) == 25"
   ]
  },
  {
   "cell_type": "markdown",
   "id": "703cdb9d",
   "metadata": {
    "papermill": {
     "duration": 0.017047,
     "end_time": "2024-05-19T14:23:41.001433",
     "exception": false,
     "start_time": "2024-05-19T14:23:40.984386",
     "status": "completed"
    },
    "tags": []
   },
   "source": [
    "Cherry Pickup: 2: https://leetcode.com/problems/cherry-pickup-ii/\n",
    "Video Link: https://youtu.be/QGfn7JeXK54?si=2K0Lz9iKN_IxLUDN"
   ]
  },
  {
   "cell_type": "code",
   "execution_count": 26,
   "id": "d82f0e5d",
   "metadata": {
    "execution": {
     "iopub.execute_input": "2024-05-19T14:23:41.037305Z",
     "iopub.status.busy": "2024-05-19T14:23:41.037097Z",
     "iopub.status.idle": "2024-05-19T14:23:41.043993Z",
     "shell.execute_reply": "2024-05-19T14:23:41.043471Z"
    },
    "lines_to_next_cell": 1,
    "papermill": {
     "duration": 0.025653,
     "end_time": "2024-05-19T14:23:41.044990",
     "exception": false,
     "start_time": "2024-05-19T14:23:41.019337",
     "status": "completed"
    },
    "tags": []
   },
   "outputs": [],
   "source": [
    "def cherryPickupMemo(grid: list[list[int]]) -> int:\n",
    "    \"\"\"\n",
    "    Without memoization, time complexity: O(3 ^ M * 3 ^ M)\n",
    "\n",
    "    Space complexity is definitely improved with using @functools.cache, using list here to illustrate.\n",
    "    Time: O (M x N x N), Space: O (M x N x N)\n",
    "\n",
    "    To figure out the dp size, simply check how many parameters are chaning. Here we have an i, j1, j2 and hence dp is a 3D Matrix.\n",
    "    \"\"\"\n",
    "    M, N = len(grid), len(grid[0])\n",
    "    dp: list[list[list[float]]] = [[[-1 for k in range(N)] for j in range(N)] for i in range(M)]\n",
    "\n",
    "    def backtrack(i: int, j1: int, j2: int) -> float:\n",
    "        if j1 < 0 or j2 < 0 or j1 >= N or j2 >= N or j1 == j2:\n",
    "            return -math.inf\n",
    "        elif i > M - 1:\n",
    "            return 0\n",
    "        elif dp[i][j1][j2] != -1:\n",
    "            return dp[i][j1][j2]\n",
    "        else:\n",
    "            next_picked = -math.inf\n",
    "            for j1_offset in range(-1, 2):\n",
    "                for j2_offset in range(-1, 2):\n",
    "                    next_picked = max(next_picked, backtrack(i + 1, j1 + j1_offset, j2 + j2_offset))\n",
    "\n",
    "            dp[i][j1][j2] = grid[i][j1] + grid[i][j2] + next_picked\n",
    "            return dp[i][j1][j2]\n",
    "\n",
    "    result = int(backtrack(0, 0, N - 1))\n",
    "    return result\n",
    "\n",
    "# Testing the solution\n",
    "assert cherryPickupMemo([[1,0,0,0,0,0,1],[2,0,0,0,0,3,0],[2,0,9,0,0,0,0],[0,3,0,5,4,0,0],[1,0,2,3,0,0,6]]) == 28"
   ]
  },
  {
   "cell_type": "code",
   "execution_count": 27,
   "id": "85c88b05",
   "metadata": {
    "execution": {
     "iopub.execute_input": "2024-05-19T14:23:41.080211Z",
     "iopub.status.busy": "2024-05-19T14:23:41.079805Z",
     "iopub.status.idle": "2024-05-19T14:23:41.086794Z",
     "shell.execute_reply": "2024-05-19T14:23:41.086296Z"
    },
    "lines_to_next_cell": 1,
    "papermill": {
     "duration": 0.025574,
     "end_time": "2024-05-19T14:23:41.087769",
     "exception": false,
     "start_time": "2024-05-19T14:23:41.062195",
     "status": "completed"
    },
    "tags": []
   },
   "outputs": [],
   "source": [
    "def cherryPickupTab(grid: list[list[int]]) -> int:\n",
    "    \"\"\"\n",
    "    Simply start with the base case. Move bottom up.\n",
    "    \"\"\"\n",
    "    M, N = len(grid), len(grid[0])\n",
    "\n",
    "    # Initialize DP with the base case\n",
    "    dp: list[list[list[float]]] = [[[0 for k in range(N)] for j in range(N)] for i in range(M)]\n",
    "    for j1 in range(N):\n",
    "        for j2 in range(N):\n",
    "            dp[-1][j1][j2] = grid[-1][j1] + grid[-1][j2] if j1 != j2 else grid[-1][j1]\n",
    "\n",
    "    # i, j1, j2: (0 - M), (0 - N), (0 - N)\n",
    "    for i in range(M - 2, -1, -1):\n",
    "        for j1 in range(N):\n",
    "            for j2 in range(N):\n",
    "                max_: float = -math.inf\n",
    "                curr = grid[i][j1] + grid[i][j2] if j1 != j2 else grid[i][j1]\n",
    "                for j1_offset in range(-1, 2):\n",
    "                    for j2_offset in range(-1, 2):\n",
    "                        if 0 <= j1 + j1_offset < N and 0 <= j2 + j2_offset < N:\n",
    "                            max_ = max(max_, dp[i + 1][j1 + j1_offset][j2 + j2_offset])\n",
    "\n",
    "                dp[i][j1][j2] = max(-1, max_ + curr)\n",
    "\n",
    "    return int(dp[0][0][-1])\n",
    "\n",
    "# Testing the solution\n",
    "assert cherryPickupTab([[1,0,0,0,0,0,1],[2,0,0,0,0,3,0],[2,0,9,0,0,0,0],[0,3,0,5,4,0,0],[1,0,2,3,0,0,6]]) == 28"
   ]
  },
  {
   "cell_type": "code",
   "execution_count": 28,
   "id": "e2fdb650",
   "metadata": {
    "execution": {
     "iopub.execute_input": "2024-05-19T14:23:41.123325Z",
     "iopub.status.busy": "2024-05-19T14:23:41.122823Z",
     "iopub.status.idle": "2024-05-19T14:23:41.129481Z",
     "shell.execute_reply": "2024-05-19T14:23:41.129021Z"
    },
    "lines_to_next_cell": 1,
    "papermill": {
     "duration": 0.025652,
     "end_time": "2024-05-19T14:23:41.130589",
     "exception": false,
     "start_time": "2024-05-19T14:23:41.104937",
     "status": "completed"
    },
    "tags": []
   },
   "outputs": [],
   "source": [
    "def cherryPickupSpaceOptimized(grid: list[list[int]]) -> int:\n",
    "    M, N = len(grid), len(grid[0])\n",
    "    dp: list[list[float]] = [[grid[-1][j1] + grid[-1][j2] if j1 != j2 else grid[-1][j1] for j1 in range(N)] for j2 in range(N)]\n",
    "\n",
    "    for i in range(M - 2, -1, -1):\n",
    "        dp_next: list[list[float]] = []\n",
    "        for j1 in range(N):\n",
    "            dp_next.append([])\n",
    "            for j2 in range(N):\n",
    "                max_: float = -math.inf\n",
    "                curr = grid[i][j1] + grid[i][j2] if j1 != j2 else grid[i][j1]\n",
    "                for j1_offset in range(-1, 2):\n",
    "                    for j2_offset in range(-1, 2):\n",
    "                        if 0 <= j1 + j1_offset < N and 0 <= j2 + j2_offset < N:\n",
    "                            max_ = max(max_, dp[j1 + j1_offset][j2 + j2_offset])\n",
    "\n",
    "                dp_next[j1].append(curr + max_)\n",
    "        dp = dp_next\n",
    "\n",
    "    return int(dp[0][-1])\n",
    "\n",
    "# Testing the solution\n",
    "assert cherryPickupSpaceOptimized([[1,0,0,0,0,0,1],[2,0,0,0,0,3,0],[2,0,9,0,0,0,0],[0,3,0,5,4,0,0],[1,0,2,3,0,0,6]]) == 28"
   ]
  },
  {
   "cell_type": "markdown",
   "id": "17816765",
   "metadata": {
    "papermill": {
     "duration": 0.017229,
     "end_time": "2024-05-19T14:23:41.165245",
     "exception": false,
     "start_time": "2024-05-19T14:23:41.148016",
     "status": "completed"
    },
    "tags": []
   },
   "source": [
    "Subset sum equals target\n",
    "Video Link: https://youtu.be/fWX9xDmIzRI?si=jb2Tgvw_E0Tyk1Pj"
   ]
  },
  {
   "cell_type": "code",
   "execution_count": 29,
   "id": "4f37d7b7",
   "metadata": {
    "execution": {
     "iopub.execute_input": "2024-05-19T14:23:41.200346Z",
     "iopub.status.busy": "2024-05-19T14:23:41.200067Z",
     "iopub.status.idle": "2024-05-19T14:23:41.205166Z",
     "shell.execute_reply": "2024-05-19T14:23:41.204720Z"
    },
    "lines_to_next_cell": 1,
    "papermill": {
     "duration": 0.023949,
     "end_time": "2024-05-19T14:23:41.206288",
     "exception": false,
     "start_time": "2024-05-19T14:23:41.182339",
     "status": "completed"
    },
    "tags": []
   },
   "outputs": [],
   "source": [
    "def isSubsetSumMemo(N: int, arr: list[int], target: int) -> int:\n",
    "    \"\"\"\n",
    "    For cases where subset exists, the recursion would stop early. For the negative cases, we would get overlapping subproblems and\n",
    "    hence memoization would help decrease the time complexity.\n",
    "\n",
    "    Time without memoization: O(2 ^ N), Space: O(N)\n",
    "    With memoization: O(N x target), Space: O(N x target) + O(N)\n",
    "    \"\"\"\n",
    "\n",
    "    dp: list[list[int]] = [[-1 for j in range(target + 1)] for i in range(N)]\n",
    "    def backtrack(i: int, total: int) -> bool:\n",
    "        if total == 0:\n",
    "            return True\n",
    "        elif total < 0 or i > N - 1:\n",
    "            return False\n",
    "        elif dp[i][total] != -1:\n",
    "            return bool(dp[i][total])\n",
    "        else:\n",
    "            result = backtrack(i + 1, total - arr[i]) or backtrack(i + 1, total)\n",
    "            dp[i][total] = int(result)\n",
    "            return result\n",
    "\n",
    "    return backtrack(0, target)\n",
    "\n",
    "# Testing the solution\n",
    "assert isSubsetSumMemo(6, [3, 34, 4, 12, 5, 2], 9) == True\n",
    "assert isSubsetSumMemo(6, [3, 34, 4, 12, 5, 2], 30) == False"
   ]
  },
  {
   "cell_type": "code",
   "execution_count": 30,
   "id": "5551c36b",
   "metadata": {
    "execution": {
     "iopub.execute_input": "2024-05-19T14:23:41.241995Z",
     "iopub.status.busy": "2024-05-19T14:23:41.241675Z",
     "iopub.status.idle": "2024-05-19T14:23:41.247350Z",
     "shell.execute_reply": "2024-05-19T14:23:41.246925Z"
    },
    "lines_to_next_cell": 1,
    "papermill": {
     "duration": 0.024475,
     "end_time": "2024-05-19T14:23:41.248432",
     "exception": false,
     "start_time": "2024-05-19T14:23:41.223957",
     "status": "completed"
    },
    "tags": []
   },
   "outputs": [
    {
     "name": "stdout",
     "output_type": "stream",
     "text": [
      "[[1, 0, 1, 1, 1, 1, 1, 1, 1, 1], [1, 0, 1, 0, 1, 1, 1, 1, 0, 1], [1, 0, 1, 0, 1, 1, 1, 1, 0, 1], [1, 0, 1, 0, 0, 1, 0, 1, 0, 0], [1, 0, 1, 0, 0, 1, 0, 1, 0, 0], [1, 0, 1, 0, 0, 0, 0, 0, 0, 0], [1, 0, 0, 0, 0, 0, 0, 0, 0, 0]]\n",
      "[[1, 0, 1, 1, 1, 1, 1, 1, 1, 1, 1, 1, 1, 0, 1, 1, 1, 1, 1, 1, 1, 1, 1, 1, 1, 0, 1, 0, 0, 0, 0], [1, 0, 1, 0, 1, 1, 1, 1, 0, 1, 0, 1, 1, 0, 1, 0, 1, 1, 1, 1, 0, 1, 0, 1, 0, 0, 0, 0, 0, 0, 0], [1, 0, 1, 0, 1, 1, 1, 1, 0, 1, 0, 1, 1, 0, 1, 0, 1, 1, 1, 1, 0, 1, 0, 1, 0, 0, 0, 0, 0, 0, 0], [1, 0, 1, 0, 0, 1, 0, 1, 0, 0, 0, 0, 1, 0, 1, 0, 0, 1, 0, 1, 0, 0, 0, 0, 0, 0, 0, 0, 0, 0, 0], [1, 0, 1, 0, 0, 1, 0, 1, 0, 0, 0, 0, 0, 0, 0, 0, 0, 0, 0, 0, 0, 0, 0, 0, 0, 0, 0, 0, 0, 0, 0], [1, 0, 1, 0, 0, 0, 0, 0, 0, 0, 0, 0, 0, 0, 0, 0, 0, 0, 0, 0, 0, 0, 0, 0, 0, 0, 0, 0, 0, 0, 0], [1, 0, 0, 0, 0, 0, 0, 0, 0, 0, 0, 0, 0, 0, 0, 0, 0, 0, 0, 0, 0, 0, 0, 0, 0, 0, 0, 0, 0, 0, 0]]\n"
     ]
    }
   ],
   "source": [
    "def isSubsetSumTab(N: int, arr: list[int], target: int) -> bool:\n",
    "    \"\"\"\n",
    "    Each cell in the dp represents -> If total - arr[i] is true down the line.\n",
    "    Note that dp[i][0] is always true, since if the target is to be 0 regardless of arr[i] tehn subsetSumTarget is possible.\n",
    "    \"\"\"\n",
    "    dp: list[list[int]] = [[1 if j == 0 else -1 if i < N else 0 for j in range(target + 1)] for i in range(N + 1)]\n",
    "\n",
    "    for i in range(N - 1, -1, -1):\n",
    "        for total in range(1, target + 1):\n",
    "            if dp[i + 1][total] == 1 or (total - arr[i] >= 0 and dp[i + 1][total - arr[i]] == 1):\n",
    "                dp[i][total] = 1\n",
    "            else:\n",
    "                dp[i][total] = 0\n",
    "\n",
    "    print(dp)\n",
    "    return bool(dp[0][target])\n",
    "\n",
    "# Testing the solution\n",
    "assert isSubsetSumTab(6, [3, 34, 4, 12, 5, 2], 9) == True\n",
    "assert isSubsetSumTab(6, [3, 34, 4, 12, 5, 2], 30) == False"
   ]
  },
  {
   "cell_type": "code",
   "execution_count": 31,
   "id": "ca80b369",
   "metadata": {
    "execution": {
     "iopub.execute_input": "2024-05-19T14:23:41.284130Z",
     "iopub.status.busy": "2024-05-19T14:23:41.283726Z",
     "iopub.status.idle": "2024-05-19T14:23:41.288416Z",
     "shell.execute_reply": "2024-05-19T14:23:41.288000Z"
    },
    "lines_to_next_cell": 1,
    "papermill": {
     "duration": 0.023576,
     "end_time": "2024-05-19T14:23:41.289498",
     "exception": false,
     "start_time": "2024-05-19T14:23:41.265922",
     "status": "completed"
    },
    "tags": []
   },
   "outputs": [],
   "source": [
    "def isSubsetSumSpaceOptimized(N: int, arr: list[int], target: int) -> bool:\n",
    "    \"Time: O(N x target), Space: O(target)\"\n",
    "    dp: list[int] = [0 if j > 0 else 1 for j in range(target + 1)]\n",
    "\n",
    "    for i in range(N - 1, -1, -1):\n",
    "        next_: list[int] = []\n",
    "        for total in range(target + 1):\n",
    "            if total == 0 or dp[total] == 1 or (total - arr[i] >= 0 and dp[total - arr[i]] == 1):\n",
    "                next_.append(1)\n",
    "            else:\n",
    "                next_.append(0)\n",
    "\n",
    "        dp = next_\n",
    "\n",
    "    return bool(dp[target])\n",
    "\n",
    "# Testing the solution\n",
    "assert isSubsetSumSpaceOptimized(6, [3, 34, 4, 12, 5, 2], 9) == True\n",
    "assert isSubsetSumSpaceOptimized(6, [3, 34, 4, 12, 5, 2], 30) == False"
   ]
  },
  {
   "cell_type": "markdown",
   "id": "7a10f4ca",
   "metadata": {
    "papermill": {
     "duration": 0.01714,
     "end_time": "2024-05-19T14:23:41.324185",
     "exception": false,
     "start_time": "2024-05-19T14:23:41.307045",
     "status": "completed"
    },
    "tags": []
   },
   "source": [
    "Partition equal subset sum: https://leetcode.com/problems/partition-equal-subset-sum/\n",
    "Video Link: https://youtu.be/7win3dcgo3k?si=LJO4Ot4EZzQ2fRc0"
   ]
  },
  {
   "cell_type": "code",
   "execution_count": 32,
   "id": "373088cf",
   "metadata": {
    "execution": {
     "iopub.execute_input": "2024-05-19T14:23:41.359725Z",
     "iopub.status.busy": "2024-05-19T14:23:41.359337Z",
     "iopub.status.idle": "2024-05-19T14:23:41.364466Z",
     "shell.execute_reply": "2024-05-19T14:23:41.364023Z"
    },
    "lines_to_next_cell": 1,
    "papermill": {
     "duration": 0.023969,
     "end_time": "2024-05-19T14:23:41.365490",
     "exception": false,
     "start_time": "2024-05-19T14:23:41.341521",
     "status": "completed"
    },
    "tags": []
   },
   "outputs": [],
   "source": [
    "# https://leetcode.com/problems/partition-equal-subset-sum/submissions/1253314239\n",
    "def canPartition(nums: list[int]) -> bool:\n",
    "    def subsetSumEqualsTarget(target: int) -> bool:\n",
    "        \"Time: O(N x target), Space: O(target)\"\n",
    "        dp: list[bool] = [False if i > 0 else True for i in range(target + 1)]\n",
    "        for i in range(N - 1, -1, -1):\n",
    "            next_: list[bool] = []\n",
    "            for total in range(target + 1):\n",
    "                if total == 0 or dp[total] or (total - nums[i] >= 0 and dp[total - nums[i]]):\n",
    "                    next_.append(True)\n",
    "                else:\n",
    "                    next_.append(False)\n",
    "\n",
    "            dp = next_\n",
    "\n",
    "        return dp[target]\n",
    "\n",
    "    N = len(nums)\n",
    "    total = sum(nums)\n",
    "    return total % 2 == 0 and subsetSumEqualsTarget(total // 2)\n",
    "\n",
    "# Testing the solution\n",
    "assert canPartition([1,5,11,5]) == True\n",
    "assert canPartition([1,2,3,5]) == False\n",
    "assert canPartition([3,3,3,4,5]) == True"
   ]
  },
  {
   "cell_type": "markdown",
   "id": "56f6a268",
   "metadata": {
    "papermill": {
     "duration": 0.017194,
     "end_time": "2024-05-19T14:23:41.400137",
     "exception": false,
     "start_time": "2024-05-19T14:23:41.382943",
     "status": "completed"
    },
    "tags": []
   },
   "source": [
    "Partition Array Into Two Arrays to Minimize Sum Difference\n",
    "Video link: https://youtu.be/GS_OqZb2CWc?si=Jtc2dP_dqmNi5Zli"
   ]
  },
  {
   "cell_type": "code",
   "execution_count": 33,
   "id": "00588c88",
   "metadata": {
    "execution": {
     "iopub.execute_input": "2024-05-19T14:23:41.435426Z",
     "iopub.status.busy": "2024-05-19T14:23:41.435233Z",
     "iopub.status.idle": "2024-05-19T14:23:41.439797Z",
     "shell.execute_reply": "2024-05-19T14:23:41.439362Z"
    },
    "lines_to_next_cell": 1,
    "papermill": {
     "duration": 0.023539,
     "end_time": "2024-05-19T14:23:41.440801",
     "exception": false,
     "start_time": "2024-05-19T14:23:41.417262",
     "status": "completed"
    },
    "tags": []
   },
   "outputs": [],
   "source": [
    "def minimumDifferenceBrute(nums: list[int]) -> int:\n",
    "    \"\"\"\n",
    "    Throws a TLE :(\n",
    "    \"\"\"\n",
    "    N, total_sum = len(nums), sum(nums)\n",
    "    subset_length = N // 2\n",
    "\n",
    "    @functools.cache\n",
    "    def backtrack(i: int, subset_sum: int, count: int) -> float:\n",
    "        if count == subset_length:\n",
    "            return abs(2 * subset_sum - total_sum)\n",
    "        elif i == N:\n",
    "            return math.inf\n",
    "        else:\n",
    "            return min(backtrack(i + 1, subset_sum + nums[i], count + 1), backtrack(i + 1, subset_sum, count))\n",
    "\n",
    "    result = int(backtrack(0, 0, 0))\n",
    "    return result\n",
    "\n",
    "# Testing the solution\n",
    "assert minimumDifferenceBrute([3,9,7,3]) == 2\n",
    "assert minimumDifferenceBrute([-36,36]) == 72\n",
    "assert minimumDifferenceBrute([2,-1,0,4,-2,-9]) == 0"
   ]
  },
  {
   "cell_type": "code",
   "execution_count": 34,
   "id": "97c34ef1",
   "metadata": {
    "execution": {
     "iopub.execute_input": "2024-05-19T14:23:41.476386Z",
     "iopub.status.busy": "2024-05-19T14:23:41.475974Z",
     "iopub.status.idle": "2024-05-19T14:23:41.482815Z",
     "shell.execute_reply": "2024-05-19T14:23:41.482375Z"
    },
    "lines_to_next_cell": 1,
    "papermill": {
     "duration": 0.025636,
     "end_time": "2024-05-19T14:23:41.483866",
     "exception": false,
     "start_time": "2024-05-19T14:23:41.458230",
     "status": "completed"
    },
    "tags": []
   },
   "outputs": [],
   "source": [
    "def minimumDifference(nums: list[int]) -> int:\n",
    "    \"\"\"\n",
    "    Use the DP tabulation approach we used to check if a subset with target sum exists. Still Memory limit exceeded.\n",
    "    Note that this is different the one on the video. This solution is leetcode specific. In the video by Striver, the values can only be positive. Further more we can split into any size.\n",
    "    In LC however, the subset must be split into 2 halves, values can be both positive and negative.\n",
    "    \"\"\"\n",
    "\n",
    "    N, total_abs_sum, total_sum = len(nums), sum(map(abs, nums)), sum(nums)\n",
    "\n",
    "    # Each value represents the length of subset summing up to target. -1 if cannot be reached.\n",
    "    dp: list[int] = [-1 if j != 0 else 0 for j in range(-total_abs_sum, total_abs_sum + 1)]\n",
    "\n",
    "    for i in range(N - 1, -1, -1):\n",
    "        next_dp: list[int] = []\n",
    "        for target in range(-total_abs_sum, total_abs_sum + 1):\n",
    "            # Pick, subset length incremented by 1\n",
    "            if 0 <= target - nums[i] + total_abs_sum <= 2 * total_abs_sum and dp[target - nums[i] + total_abs_sum] != -1:\n",
    "                subset_length = dp[target - nums[i] + total_abs_sum] + 1\n",
    "                existing_length = dp[target + total_abs_sum]\n",
    "                next_dp.append(subset_length if existing_length != N // 2 else existing_length)\n",
    "            # No pick, hence subset length is unupdated\n",
    "            elif dp[target + total_abs_sum] != -1:\n",
    "                next_dp.append(dp[target + total_abs_sum])\n",
    "            # Base case\n",
    "            elif target == 0:\n",
    "                next_dp.append(0)\n",
    "            # Sum cannot be reached\n",
    "            else:\n",
    "                next_dp.append(-1)\n",
    "\n",
    "        dp = next_dp\n",
    "\n",
    "    # Find out targets where value is N // 2\n",
    "    min_diff: float = math.inf\n",
    "    for subset_sum, subset_length in enumerate(dp, start=-total_abs_sum):\n",
    "        if subset_length == N // 2:\n",
    "            min_diff = min(min_diff, abs(2 * subset_sum - total_sum))\n",
    "\n",
    "    return int(min_diff)\n",
    "\n",
    "# Testing the solution\n",
    "assert minimumDifference([3,9,7,3]) == 2\n",
    "assert minimumDifference([-36,36]) == 72\n",
    "assert minimumDifference([2,-1,0,4,-2,-9]) == 0"
   ]
  },
  {
   "cell_type": "code",
   "execution_count": 35,
   "id": "54752ee1",
   "metadata": {
    "execution": {
     "iopub.execute_input": "2024-05-19T14:23:41.519811Z",
     "iopub.status.busy": "2024-05-19T14:23:41.519486Z",
     "iopub.status.idle": "2024-05-19T14:23:41.524315Z",
     "shell.execute_reply": "2024-05-19T14:23:41.523911Z"
    },
    "lines_to_next_cell": 1,
    "papermill": {
     "duration": 0.023801,
     "end_time": "2024-05-19T14:23:41.525328",
     "exception": false,
     "start_time": "2024-05-19T14:23:41.501527",
     "status": "completed"
    },
    "tags": []
   },
   "outputs": [],
   "source": [
    "def minSubsetSumDifference(arr: list[int], N: int) -> int:\n",
    "    # Compute max total sum\n",
    "    total_sum: int = sum(arr)\n",
    "\n",
    "    # Compute DP grid for all possible subset sums\n",
    "    dp: list[bool] = [False if i > 0 else True for i in range(total_sum + 1)]\n",
    "    for i in range(N - 1, -1, -1):\n",
    "        next_dp: list[bool] = []\n",
    "        for target in range(total_sum + 1):\n",
    "            if target == 0 or dp[target] or (target - arr[i] >= 0 and dp[target - arr[i]]):\n",
    "                next_dp.append(True)\n",
    "            else:\n",
    "                next_dp.append(False)\n",
    "        dp = next_dp\n",
    "\n",
    "    # Compute the minimum subset difference\n",
    "    min_diff: int = total_sum\n",
    "\n",
    "    # total_sum / 2 since it is enough if we computed one half, diff of sum from total sum would cover the other half as well\n",
    "    for target in range(math.ceil(total_sum / 2) + 1):\n",
    "        if dp[target]:\n",
    "            min_diff = min(min_diff, abs(2 * target - total_sum))\n",
    "\n",
    "    return min_diff\n",
    "\n",
    "# Testing the solution\n",
    "assert minSubsetSumDifference([8,6,5], 3) == 3"
   ]
  },
  {
   "cell_type": "markdown",
   "id": "884d535e",
   "metadata": {
    "papermill": {
     "duration": 0.017373,
     "end_time": "2024-05-19T14:23:41.560174",
     "exception": false,
     "start_time": "2024-05-19T14:23:41.542801",
     "status": "completed"
    },
    "tags": []
   },
   "source": [
    "Count subsets with sum k"
   ]
  },
  {
   "cell_type": "code",
   "execution_count": 36,
   "id": "534b55bb",
   "metadata": {
    "execution": {
     "iopub.execute_input": "2024-05-19T14:23:41.595431Z",
     "iopub.status.busy": "2024-05-19T14:23:41.595265Z",
     "iopub.status.idle": "2024-05-19T14:23:41.600499Z",
     "shell.execute_reply": "2024-05-19T14:23:41.600090Z"
    },
    "lines_to_next_cell": 1,
    "papermill": {
     "duration": 0.024079,
     "end_time": "2024-05-19T14:23:41.601535",
     "exception": false,
     "start_time": "2024-05-19T14:23:41.577456",
     "status": "completed"
    },
    "tags": []
   },
   "outputs": [],
   "source": [
    "def perfectSumMemo(nums: list[int], N: int, K: int):\n",
    "    \"\"\"\n",
    "    Time: O(N * K) + O(N); Space: O(N * K)\n",
    "    \"\"\"\n",
    "\n",
    "    # Filter out all the zeros\n",
    "    arr: list[int] = []\n",
    "    N = zero_count = 0\n",
    "    for n in nums:\n",
    "        if n > 0:\n",
    "            arr.append(n)\n",
    "            N += 1\n",
    "        else:\n",
    "            zero_count += 1\n",
    "\n",
    "    # Compute the results and store it to a list\n",
    "    dp: list[list[int]] = [[-1 for j in range(K + 1)] for i in range(N)]\n",
    "\n",
    "    # Recursively find the solution\n",
    "    def backtrack(i: int, total: int) -> int:\n",
    "        if total == K:\n",
    "            return 1\n",
    "        elif i >= N or total > K:\n",
    "            return 0\n",
    "        elif dp[i][total] != -1:\n",
    "            return dp[i][total]\n",
    "        else:\n",
    "            result = backtrack(i + 1, total + arr[i]) + backtrack(i + 1, total)\n",
    "            dp[i][total] = result\n",
    "            return result\n",
    "\n",
    "    return backtrack(0, 0) * (2 ** zero_count)\n",
    "\n",
    "# Testing the solution\n",
    "assert perfectSumMemo([5, 2, 3, 10, 6, 8], 6, 10) == 3\n",
    "assert perfectSumMemo([1, 0], 2, 1) == 2"
   ]
  },
  {
   "cell_type": "code",
   "execution_count": 37,
   "id": "dee4da2c",
   "metadata": {
    "execution": {
     "iopub.execute_input": "2024-05-19T14:23:41.637181Z",
     "iopub.status.busy": "2024-05-19T14:23:41.636921Z",
     "iopub.status.idle": "2024-05-19T14:23:41.642381Z",
     "shell.execute_reply": "2024-05-19T14:23:41.641822Z"
    },
    "lines_to_next_cell": 1,
    "papermill": {
     "duration": 0.024337,
     "end_time": "2024-05-19T14:23:41.643397",
     "exception": false,
     "start_time": "2024-05-19T14:23:41.619060",
     "status": "completed"
    },
    "tags": []
   },
   "outputs": [],
   "source": [
    "def perfectSumTabulation(nums: list[int], N: int, K: int):\n",
    "    # Filter out all the zeros\n",
    "    arr: list[int] = []\n",
    "    N = zero_count = 0\n",
    "    for n in nums:\n",
    "        if n > 0:\n",
    "            arr.append(n)\n",
    "            N += 1\n",
    "        else:\n",
    "            zero_count += 1\n",
    "\n",
    "    # Initialize a DP array\n",
    "    dp: list[list[int]] = [[-1 if j < K else 1 for j in range(K + 1)] for i in range(N)]\n",
    "    dp.append([0 if j < K else 1 for j in range(K + 1)])\n",
    "\n",
    "    # Traverse through grid\n",
    "    for i in range(N - 1, -1, -1):\n",
    "        for total in range(K):\n",
    "            dp[i][total] = dp[i + 1][total]\n",
    "            if total + arr[i] <= K:\n",
    "                dp[i][total] += dp[i + 1][total + arr[i]]\n",
    "\n",
    "    return dp[0][0] * (2 ** zero_count)\n",
    "\n",
    "# Testing the solution\n",
    "assert perfectSumTabulation([5, 2, 3, 10, 6, 8], 6, 10) == 3\n",
    "assert perfectSumTabulation([1, 0], 2, 1) == 2"
   ]
  },
  {
   "cell_type": "code",
   "execution_count": 38,
   "id": "2d2468ad",
   "metadata": {
    "execution": {
     "iopub.execute_input": "2024-05-19T14:23:41.678902Z",
     "iopub.status.busy": "2024-05-19T14:23:41.678552Z",
     "iopub.status.idle": "2024-05-19T14:23:41.683686Z",
     "shell.execute_reply": "2024-05-19T14:23:41.683253Z"
    },
    "lines_to_next_cell": 1,
    "papermill": {
     "duration": 0.023996,
     "end_time": "2024-05-19T14:23:41.684708",
     "exception": false,
     "start_time": "2024-05-19T14:23:41.660712",
     "status": "completed"
    },
    "tags": []
   },
   "outputs": [],
   "source": [
    "def perfectSum(nums: list[int], N: int, K: int):\n",
    "    # Filter out all the zeros\n",
    "    arr: list[int] = []\n",
    "    N = zero_count = 0\n",
    "    for n in nums:\n",
    "        if n > 0:\n",
    "            arr.append(n)\n",
    "            N += 1\n",
    "        else:\n",
    "            zero_count += 1\n",
    "\n",
    "    # Initialize a DP array\n",
    "    dp: list[int] = [0 if j < K else 1 for j in range(K + 1)]\n",
    "\n",
    "    # Traverse through grid\n",
    "    for i in range(N - 1, -1, -1):\n",
    "        next_dp: list[int] = []\n",
    "        for total in range(K + 1):\n",
    "            next_dp.append(dp[total])\n",
    "            if total + arr[i] <= K:\n",
    "                next_dp[-1] += dp[total + arr[i]]\n",
    "\n",
    "        dp = next_dp\n",
    "\n",
    "    return dp[0] * (2 ** zero_count)\n",
    "\n",
    "# Testing the solution\n",
    "assert perfectSum([5, 2, 3, 10, 6, 8], 6, 10) == 3\n",
    "assert perfectSum([1, 0], 2, 1) == 2"
   ]
  },
  {
   "cell_type": "markdown",
   "id": "2bff8c7f",
   "metadata": {
    "papermill": {
     "duration": 0.017345,
     "end_time": "2024-05-19T14:23:41.719350",
     "exception": false,
     "start_time": "2024-05-19T14:23:41.702005",
     "status": "completed"
    },
    "tags": []
   },
   "source": [
    "Count Paritions with given difference: https://youtu.be/zoilQD1kYSg?si=F8PFSkzkZXEsFJ2N"
   ]
  },
  {
   "cell_type": "code",
   "execution_count": 39,
   "id": "051bd113",
   "metadata": {
    "execution": {
     "iopub.execute_input": "2024-05-19T14:23:41.755332Z",
     "iopub.status.busy": "2024-05-19T14:23:41.754768Z",
     "iopub.status.idle": "2024-05-19T14:23:41.759737Z",
     "shell.execute_reply": "2024-05-19T14:23:41.759317Z"
    },
    "lines_to_next_cell": 1,
    "papermill": {
     "duration": 0.024152,
     "end_time": "2024-05-19T14:23:41.760787",
     "exception": false,
     "start_time": "2024-05-19T14:23:41.736635",
     "status": "completed"
    },
    "tags": []
   },
   "outputs": [],
   "source": [
    "def countPartitionsMemo(N: int, diff: int, arr: list[int]) -> int:\n",
    "    \"\"\"\n",
    "    s1 + s2 = S\n",
    "    s1 - s2 = d\n",
    "    2 * s1 = S + d\n",
    "\n",
    "    Time: O(N x target) + O(N)\n",
    "    Space: O(N x target)\n",
    "    \"\"\"\n",
    "\n",
    "    # Simply check if the target exists\n",
    "    target = (sum(arr) + diff) / 2\n",
    "\n",
    "    # Count all subset sums equals target\n",
    "    @functools.cache\n",
    "    def backtrack(i: int, total: int) -> int:\n",
    "        if i == N:\n",
    "            return total == target\n",
    "        elif total > target:\n",
    "            return 0\n",
    "        else:\n",
    "            return backtrack(i + 1, total + arr[i]) + backtrack(i + 1, total)\n",
    "\n",
    "    result = backtrack(0, 0) if target == int(target) else 0\n",
    "    MOD = int(1e9 + 7)\n",
    "    return result % MOD\n",
    "\n",
    "# Testing the solution\n",
    "assert countPartitionsMemo(4, 0, [1,1,1,1]) == 6\n",
    "assert countPartitionsMemo(4, 3, [5,2,6,4]) == 1\n",
    "assert countPartitionsMemo(5, 5, [1,3,3,2,1]) == 0"
   ]
  },
  {
   "cell_type": "code",
   "execution_count": 40,
   "id": "4cd9fbc1",
   "metadata": {
    "execution": {
     "iopub.execute_input": "2024-05-19T14:23:41.796523Z",
     "iopub.status.busy": "2024-05-19T14:23:41.796098Z",
     "iopub.status.idle": "2024-05-19T14:23:41.801554Z",
     "shell.execute_reply": "2024-05-19T14:23:41.801037Z"
    },
    "lines_to_next_cell": 1,
    "papermill": {
     "duration": 0.024236,
     "end_time": "2024-05-19T14:23:41.802599",
     "exception": false,
     "start_time": "2024-05-19T14:23:41.778363",
     "status": "completed"
    },
    "tags": []
   },
   "outputs": [],
   "source": [
    "def countPartitionsTabulation(N: int, diff: int, arr: list[int]) -> int:\n",
    "    \"\"\"\n",
    "    Time: O(N x target), Space: O(N x target)\n",
    "    \"\"\"\n",
    "    # Simply check if the target exists\n",
    "    target_: float = (sum(arr) + diff) / 2\n",
    "    MOD = int(1e9 + 7)\n",
    "\n",
    "    if int(target_) != target_:\n",
    "        return 0\n",
    "\n",
    "    else:\n",
    "\n",
    "        # Convert to int for typing support\n",
    "        target = int(target_)\n",
    "\n",
    "        # Initialize DP array for tabulation\n",
    "        dp: list[list[int]] = [[0 if j != target or i != N else 1 for j in range(target + 1)] for i in range(N + 1)]\n",
    "\n",
    "        # Iterate through DP and find the solution\n",
    "        for i in range(N - 1, -1, -1):\n",
    "            for total in range(target + 1):\n",
    "                dp[i][total] = dp[i + 1][total]\n",
    "                if total + arr[i] <= target:\n",
    "                    dp[i][total] += dp[i + 1][total + arr[i]]\n",
    "\n",
    "        return dp[0][0]\n",
    "\n",
    "# Testing the solution\n",
    "assert countPartitionsTabulation(4, 3, [5,2,6,4]) == 1\n",
    "assert countPartitionsTabulation(4, 3, [5,2,6,4]) == 1\n",
    "assert countPartitionsTabulation(5, 5, [1,3,3,2,1]) == 0"
   ]
  },
  {
   "cell_type": "code",
   "execution_count": 41,
   "id": "09aacbe5",
   "metadata": {
    "execution": {
     "iopub.execute_input": "2024-05-19T14:23:41.838442Z",
     "iopub.status.busy": "2024-05-19T14:23:41.837950Z",
     "iopub.status.idle": "2024-05-19T14:23:41.843576Z",
     "shell.execute_reply": "2024-05-19T14:23:41.843078Z"
    },
    "lines_to_next_cell": 1,
    "papermill": {
     "duration": 0.024521,
     "end_time": "2024-05-19T14:23:41.844626",
     "exception": false,
     "start_time": "2024-05-19T14:23:41.820105",
     "status": "completed"
    },
    "tags": []
   },
   "outputs": [],
   "source": [
    "def countPartitions(N: int, diff: int, arr: list[int]) -> int:\n",
    "    # Simply check if the target exists\n",
    "    target_: float = (sum(arr) + diff) / 2\n",
    "    MOD = int(1e9 + 7)\n",
    "\n",
    "    if int(target_) != target_:\n",
    "        return 0\n",
    "\n",
    "    else:\n",
    "        # Convert to int for type hinting\n",
    "        target = int(target_)\n",
    "\n",
    "        # Create a 1D grid (space optimized)\n",
    "        dp: list[int] = [0 if j != target else 1 for j in range(target + 1)]\n",
    "\n",
    "        # Iterate through DP\n",
    "        for i in range(N - 1, -1, -1):\n",
    "            next_dp: list[int] = []\n",
    "            for total in range(target + 1):\n",
    "                next_dp.append(dp[total])\n",
    "                if total + arr[i] <= target:\n",
    "                    next_dp[-1] += dp[total + arr[i]]\n",
    "\n",
    "            dp = next_dp\n",
    "\n",
    "        return dp[0] % MOD\n",
    "\n",
    "# Testing the solution\n",
    "assert countPartitions(4, 3, [5,2,6,4]) == 1\n",
    "assert countPartitions(4, 3, [5,2,6,4]) == 1\n",
    "assert countPartitions(5, 5, [1,3,3,2,1]) == 0"
   ]
  },
  {
   "cell_type": "markdown",
   "id": "db7bdbb0",
   "metadata": {
    "papermill": {
     "duration": 0.017352,
     "end_time": "2024-05-19T14:23:41.879349",
     "exception": false,
     "start_time": "2024-05-19T14:23:41.861997",
     "status": "completed"
    },
    "tags": []
   },
   "source": [
    "Video Link: https://youtu.be/GqOmJHQZivw?si=dHaZZvKQa2PHaukO\n",
    "0/1 Knapsack"
   ]
  },
  {
   "cell_type": "code",
   "execution_count": 42,
   "id": "51fdc55d",
   "metadata": {
    "execution": {
     "iopub.execute_input": "2024-05-19T14:23:41.914595Z",
     "iopub.status.busy": "2024-05-19T14:23:41.914441Z",
     "iopub.status.idle": "2024-05-19T14:23:41.919094Z",
     "shell.execute_reply": "2024-05-19T14:23:41.918661Z"
    },
    "lines_to_next_cell": 1,
    "papermill": {
     "duration": 0.023491,
     "end_time": "2024-05-19T14:23:41.920167",
     "exception": false,
     "start_time": "2024-05-19T14:23:41.896676",
     "status": "completed"
    },
    "tags": []
   },
   "outputs": [],
   "source": [
    "def knapsack01Memo(N: int, max_weight: int, weights: list[int], values: list[int]) -> int:\n",
    "    \"\"\"\n",
    "    Time complexity without memoization: O(2 ** N), Space: O(N).\n",
    "    Post memoization: O(N x max_weight), Space: O(N x max_weight)\n",
    "    \"\"\"\n",
    "    @functools.cache\n",
    "    def backtrack(i: int, total_weight: int) -> float:\n",
    "        \"\"\"\n",
    "        Intuition: Till index i, what is the max value, we can accumulate with max_weight as total_weight.\n",
    "        \"\"\"\n",
    "        if total_weight > max_weight:\n",
    "            return -math.inf\n",
    "        elif i >= N:\n",
    "            return 0\n",
    "        else:\n",
    "            pick = values[i] + backtrack(i + 1, total_weight + weights[i])\n",
    "            nopick = backtrack(i + 1, total_weight)\n",
    "            return max(pick, nopick)\n",
    "\n",
    "    result = backtrack(0, 0)\n",
    "    return int(max(result, 0))\n",
    "\n",
    "# Testing the solution\n",
    "assert knapsack01Memo(4, 5, [1,2,4,5], [5,4,8,6]) == 13\n",
    "assert knapsack01Memo(3, 8, [3,4,5], [30,50,60]) == 90"
   ]
  },
  {
   "cell_type": "code",
   "execution_count": 43,
   "id": "e0b05d00",
   "metadata": {
    "execution": {
     "iopub.execute_input": "2024-05-19T14:23:41.955604Z",
     "iopub.status.busy": "2024-05-19T14:23:41.955216Z",
     "iopub.status.idle": "2024-05-19T14:23:41.960135Z",
     "shell.execute_reply": "2024-05-19T14:23:41.959689Z"
    },
    "lines_to_next_cell": 1,
    "papermill": {
     "duration": 0.023535,
     "end_time": "2024-05-19T14:23:41.961136",
     "exception": false,
     "start_time": "2024-05-19T14:23:41.937601",
     "status": "completed"
    },
    "tags": []
   },
   "outputs": [],
   "source": [
    "def knapsack01Tabulation(N: int, max_weight: int, weights: list[int], values: list[int]) -> int:\n",
    "    dp: list[list[int]] = [[-1 if i < N else 0 for j in range(max_weight + 1)] for i in range(N + 1)]\n",
    "    for i in range(N - 1, -1, -1):\n",
    "        for total_weight in range(max_weight + 1):\n",
    "            # No pick\n",
    "            dp[i][total_weight] = dp[i + 1][total_weight]\n",
    "\n",
    "            # Pick\n",
    "            if total_weight + weights[i] <= max_weight:\n",
    "                dp[i][total_weight] = max(dp[i][total_weight], values[i] + dp[i + 1][total_weight + weights[i]])\n",
    "\n",
    "    return dp[0][0]\n",
    "\n",
    "# Testing the solution\n",
    "assert knapsack01Tabulation(4, 5, [1,2,4,5], [5,4,8,6]) == 13\n",
    "assert knapsack01Tabulation(3, 8, [3,4,5], [30,50,60]) == 90"
   ]
  },
  {
   "cell_type": "code",
   "execution_count": 44,
   "id": "045af9de",
   "metadata": {
    "execution": {
     "iopub.execute_input": "2024-05-19T14:23:41.996877Z",
     "iopub.status.busy": "2024-05-19T14:23:41.996481Z",
     "iopub.status.idle": "2024-05-19T14:23:42.001121Z",
     "shell.execute_reply": "2024-05-19T14:23:42.000684Z"
    },
    "lines_to_next_cell": 1,
    "papermill": {
     "duration": 0.023691,
     "end_time": "2024-05-19T14:23:42.002227",
     "exception": false,
     "start_time": "2024-05-19T14:23:41.978536",
     "status": "completed"
    },
    "tags": []
   },
   "outputs": [],
   "source": [
    "def knapsack01SpaceOptimized(N: int, max_weight: int, weights: list[int], values: list[int]) -> int:\n",
    "    dp: list[int] = [0 for j in range(max_weight + 1)]\n",
    "    for i in range(N - 1, -1, -1):\n",
    "        next_dp: list[int] = []\n",
    "        for total_weight in range(max_weight + 1):\n",
    "            next_dp.append(dp[total_weight]) # No pick\n",
    "            if weights[i] + total_weight <= max_weight:\n",
    "                next_dp[-1] = max(next_dp[-1], values[i] + dp[weights[i] + total_weight]) # Pick\n",
    "        dp = next_dp\n",
    "\n",
    "    return dp[0]\n",
    "\n",
    "# Testing the solution\n",
    "assert knapsack01SpaceOptimized(4, 5, [1,2,4,5], [5,4,8,6]) == 13\n",
    "assert knapsack01SpaceOptimized(3, 8, [3,4,5], [30,50,60]) == 90"
   ]
  },
  {
   "cell_type": "code",
   "execution_count": 45,
   "id": "b6d1c8d2",
   "metadata": {
    "execution": {
     "iopub.execute_input": "2024-05-19T14:23:42.038077Z",
     "iopub.status.busy": "2024-05-19T14:23:42.037623Z",
     "iopub.status.idle": "2024-05-19T14:23:42.042605Z",
     "shell.execute_reply": "2024-05-19T14:23:42.042101Z"
    },
    "lines_to_next_cell": 1,
    "papermill": {
     "duration": 0.024072,
     "end_time": "2024-05-19T14:23:42.043629",
     "exception": false,
     "start_time": "2024-05-19T14:23:42.019557",
     "status": "completed"
    },
    "tags": []
   },
   "outputs": [],
   "source": [
    "def knapsack01(N: int, max_weight: int, weights: list[int], values: list[int]) -> int:\n",
    "    \"\"\"\n",
    "    Space optimization to use just a single row. This is possible because\n",
    "    in the inner loop we are moving from the left to right and at each iteration\n",
    "    we are using the element to the right, we have no need of the element to the left\n",
    "\n",
    "    [x . . . . . . * . . . ]\n",
    "    [. x . . . * . . . . . ]\n",
    "    [. . x . . . . . * . . ]\n",
    "\n",
    "    At the inner loop we had required the value of the element to the left, this would not have been possible.\n",
    "    \"\"\"\n",
    "    dp: list[int] = [0 for j in range(max_weight + 1)]\n",
    "    for i in range(N - 1, -1, -1):\n",
    "        for total_weight in range(max_weight + 1):\n",
    "            if weights[i] + total_weight <= max_weight:\n",
    "                dp[total_weight] = max(dp[total_weight], values[i] + dp[total_weight + weights[i]])\n",
    "\n",
    "    return dp[0]\n",
    "\n",
    "# Testing the solution\n",
    "assert knapsack01(4, 5, [1,2,4,5], [5,4,8,6]) == 13\n",
    "assert knapsack01(3, 8, [3,4,5], [30,50,60]) == 90"
   ]
  },
  {
   "cell_type": "markdown",
   "id": "71d6293a",
   "metadata": {
    "papermill": {
     "duration": 0.017578,
     "end_time": "2024-05-19T14:23:42.078643",
     "exception": false,
     "start_time": "2024-05-19T14:23:42.061065",
     "status": "completed"
    },
    "tags": []
   },
   "source": [
    "Video link: https://youtu.be/myPeWb3Y68A?si=9z1QMQXCYmEcFEW4\n",
    "Coin Change: https://leetcode.com/problems/coin-change/submissions/1255049748\n",
    "Logic: Whenever there is an infinite / unlimited supply, not_take would update the index, <br>\n",
    "take would not update index - it would stay where it is because we might end up picking it more than once"
   ]
  },
  {
   "cell_type": "code",
   "execution_count": 46,
   "id": "93a2c45e",
   "metadata": {
    "execution": {
     "iopub.execute_input": "2024-05-19T14:23:42.114181Z",
     "iopub.status.busy": "2024-05-19T14:23:42.114011Z",
     "iopub.status.idle": "2024-05-19T14:23:42.118708Z",
     "shell.execute_reply": "2024-05-19T14:23:42.118187Z"
    },
    "lines_to_next_cell": 1,
    "papermill": {
     "duration": 0.023693,
     "end_time": "2024-05-19T14:23:42.119699",
     "exception": false,
     "start_time": "2024-05-19T14:23:42.096006",
     "status": "completed"
    },
    "tags": []
   },
   "outputs": [],
   "source": [
    "def coinChangeMemoization(coins: list[int], amount: int) -> int:\n",
    "    \"\"\"\n",
    "    Without memoization, the time complexity is roughly 2 ** N. It would be greater than\n",
    "    2 ** N since at each index for take we are still staying at the same index.\n",
    "\n",
    "    With memoization, the time complexity is O(N x amount)\n",
    "    \"\"\"\n",
    "    @functools.cache\n",
    "    def backtrack(i: int, total: int) -> float:\n",
    "        if total == amount:\n",
    "            return 0\n",
    "        elif i == N or total > amount:\n",
    "            return math.inf\n",
    "        else:\n",
    "            return min(1 + backtrack(i, total + coins[i]), backtrack(i + 1, total))\n",
    "\n",
    "    N = len(coins)\n",
    "    result = backtrack(0, 0)\n",
    "    return int(result) if not math.isinf(result) else -1\n",
    "\n",
    "# Testing the solution\n",
    "assert coinChangeMemoization([1,2,5], 11) == 3\n",
    "assert coinChangeMemoization([2], 3) == -1"
   ]
  },
  {
   "cell_type": "code",
   "execution_count": 47,
   "id": "eb1b662f",
   "metadata": {
    "execution": {
     "iopub.execute_input": "2024-05-19T14:23:42.155126Z",
     "iopub.status.busy": "2024-05-19T14:23:42.154802Z",
     "iopub.status.idle": "2024-05-19T14:23:42.159770Z",
     "shell.execute_reply": "2024-05-19T14:23:42.159229Z"
    },
    "lines_to_next_cell": 1,
    "papermill": {
     "duration": 0.02392,
     "end_time": "2024-05-19T14:23:42.160931",
     "exception": false,
     "start_time": "2024-05-19T14:23:42.137011",
     "status": "completed"
    },
    "tags": []
   },
   "outputs": [],
   "source": [
    "def coinChangeTabulation(coins: list[int], amount: int) -> int:\n",
    "    N = len(coins)\n",
    "    dp: list[list[float]] = [[math.inf if j < amount else 0 for j in range(amount + 1)] for i in range(N + 1)]\n",
    "    for i in range(N - 1, -1, -1):\n",
    "        for total in range(amount, -1, -1):\n",
    "            if total + coins[i] <= amount:\n",
    "                dp[i][total] = min(dp[i + 1][total], 1 + dp[i][total + coins[i]])\n",
    "            else:\n",
    "                dp[i][total] = dp[i + 1][total]\n",
    "\n",
    "    result = dp[0][0]\n",
    "    return int(result) if not math.isinf(result) else -1\n",
    "\n",
    "# Testing the solution\n",
    "assert coinChangeTabulation([1,2,5], 11) == 3\n",
    "assert coinChangeTabulation([2], 3) == -1"
   ]
  },
  {
   "cell_type": "code",
   "execution_count": 48,
   "id": "ddd554c7",
   "metadata": {
    "execution": {
     "iopub.execute_input": "2024-05-19T14:23:42.196528Z",
     "iopub.status.busy": "2024-05-19T14:23:42.196117Z",
     "iopub.status.idle": "2024-05-19T14:23:42.200436Z",
     "shell.execute_reply": "2024-05-19T14:23:42.200018Z"
    },
    "lines_to_next_cell": 1,
    "papermill": {
     "duration": 0.023165,
     "end_time": "2024-05-19T14:23:42.201452",
     "exception": false,
     "start_time": "2024-05-19T14:23:42.178287",
     "status": "completed"
    },
    "tags": []
   },
   "outputs": [],
   "source": [
    "def coinChangeSpaceOptimized(coins: list[int], amount: int) -> int:\n",
    "    N = len(coins)\n",
    "    dp: list[float] = [math.inf if j < amount else 0 for j in range(amount + 1)]\n",
    "    for i in range(N - 1, -1, -1):\n",
    "        for total in range(amount, -1, -1):\n",
    "            if total + coins[i] <= amount:\n",
    "                dp[total] = min(dp[total], 1 + dp[total + coins[i]])\n",
    "\n",
    "    result = dp[0]\n",
    "    return int(result) if not math.isinf(result) else -1\n",
    "\n",
    "# Testing the solution\n",
    "assert coinChangeSpaceOptimized([1,2,5], 11) == 3\n",
    "assert coinChangeSpaceOptimized([2], 3) == -1"
   ]
  },
  {
   "cell_type": "markdown",
   "id": "3e5fb6cb",
   "metadata": {
    "papermill": {
     "duration": 0.017455,
     "end_time": "2024-05-19T14:23:42.236486",
     "exception": false,
     "start_time": "2024-05-19T14:23:42.219031",
     "status": "completed"
    },
    "tags": []
   },
   "source": [
    "Video Link: https://youtu.be/b3GD8263-PQ?si=CNz-raf3oynQQsPJ\n",
    "Target Sum: https://leetcode.com/problems/target-sum/"
   ]
  },
  {
   "cell_type": "code",
   "execution_count": 49,
   "id": "18960ee2",
   "metadata": {
    "execution": {
     "iopub.execute_input": "2024-05-19T14:23:42.274695Z",
     "iopub.status.busy": "2024-05-19T14:23:42.274145Z",
     "iopub.status.idle": "2024-05-19T14:23:42.278714Z",
     "shell.execute_reply": "2024-05-19T14:23:42.278085Z"
    },
    "lines_to_next_cell": 1,
    "papermill": {
     "duration": 0.025922,
     "end_time": "2024-05-19T14:23:42.279927",
     "exception": false,
     "start_time": "2024-05-19T14:23:42.254005",
     "status": "completed"
    },
    "tags": []
   },
   "outputs": [],
   "source": [
    "# https://leetcode.com/problems/target-sum/submissions/1255976702\n",
    "def findTargetSumWaysMemo(nums: list[int], target: int) -> int:\n",
    "    @functools.cache\n",
    "    def backtrack(i: int, total: int) -> int:\n",
    "        if i == N:\n",
    "            return int(total == target)\n",
    "        else:\n",
    "            return backtrack(i + 1, total - nums[i]) + backtrack(i + 1, total + nums[i])\n",
    "\n",
    "    N = len(nums)\n",
    "    return backtrack(0, 0)\n",
    "\n",
    "# Testing the solution\n",
    "assert findTargetSumWaysMemo([1,1,1,1,1], 3) == 5\n",
    "assert findTargetSumWaysMemo([1], 2) == 0"
   ]
  },
  {
   "cell_type": "code",
   "execution_count": 50,
   "id": "8420cf7b",
   "metadata": {
    "execution": {
     "iopub.execute_input": "2024-05-19T14:23:42.317608Z",
     "iopub.status.busy": "2024-05-19T14:23:42.317255Z",
     "iopub.status.idle": "2024-05-19T14:23:42.322601Z",
     "shell.execute_reply": "2024-05-19T14:23:42.322014Z"
    },
    "lines_to_next_cell": 1,
    "papermill": {
     "duration": 0.024235,
     "end_time": "2024-05-19T14:23:42.323649",
     "exception": false,
     "start_time": "2024-05-19T14:23:42.299414",
     "status": "completed"
    },
    "tags": []
   },
   "outputs": [],
   "source": [
    "def findTargetSumWaysTab(nums: list[int], target: int) -> int:\n",
    "    N: int = len(nums)\n",
    "    boundary: int = sum(nums)\n",
    "    dp: list[list[int]] = [[0 if i < N or j != target else 1 for j in range(-boundary, boundary + 1)] for i in range(N + 1)]\n",
    "\n",
    "    for i in range(N - 1, -1, -1):\n",
    "        for total in range(-boundary, boundary + 1):\n",
    "            if total - nums[i] + boundary >= 0:\n",
    "                dp[i][total + boundary] += dp[i + 1][total - nums[i] + boundary]\n",
    "            if total + nums[i] + boundary <= 2 * boundary:\n",
    "                dp[i][total + boundary] += dp[i + 1][total + nums[i] + boundary]\n",
    "\n",
    "    return dp[0][boundary]\n",
    "\n",
    "# Testing the solution\n",
    "assert findTargetSumWaysTab([1,1,1,1,1], 3) == 5\n",
    "assert findTargetSumWaysTab([1], 2) == 0"
   ]
  },
  {
   "cell_type": "code",
   "execution_count": 51,
   "id": "7c66396e",
   "metadata": {
    "execution": {
     "iopub.execute_input": "2024-05-19T14:23:42.359827Z",
     "iopub.status.busy": "2024-05-19T14:23:42.359399Z",
     "iopub.status.idle": "2024-05-19T14:23:42.364368Z",
     "shell.execute_reply": "2024-05-19T14:23:42.363916Z"
    },
    "lines_to_next_cell": 1,
    "papermill": {
     "duration": 0.024185,
     "end_time": "2024-05-19T14:23:42.365400",
     "exception": false,
     "start_time": "2024-05-19T14:23:42.341215",
     "status": "completed"
    },
    "tags": []
   },
   "outputs": [],
   "source": [
    "# https://leetcode.com/problems/target-sum/submissions/1255976333/\n",
    "def findTargetSumWays(nums: list[int], target: int) -> int:\n",
    "    N = len(nums)\n",
    "    boundary: int = sum(nums)\n",
    "    dp: list[int] = [0 if j != target else 1 for j in range(-boundary, boundary + 1)]\n",
    "\n",
    "    for i in range(N - 1, -1, -1):\n",
    "        next_dp: list[int] = []\n",
    "        for total in range(-boundary, boundary + 1):\n",
    "            next_dp.append(0)\n",
    "            if total + nums[i] + boundary <= 2 * boundary:\n",
    "                next_dp[-1] += dp[total + nums[i] + boundary]\n",
    "            if total - nums[i] + boundary >= 0:\n",
    "                next_dp[-1] += dp[total - nums[i] + boundary]\n",
    "\n",
    "        dp = next_dp\n",
    "\n",
    "    return dp[boundary]\n",
    "\n",
    "# Testing the solution\n",
    "assert findTargetSumWays([1,1,1,1,1], 3) == 5\n",
    "assert findTargetSumWays([1], 2) == 0"
   ]
  },
  {
   "cell_type": "code",
   "execution_count": 52,
   "id": "8f0e96f1",
   "metadata": {
    "execution": {
     "iopub.execute_input": "2024-05-19T14:23:42.400721Z",
     "iopub.status.busy": "2024-05-19T14:23:42.400355Z",
     "iopub.status.idle": "2024-05-19T14:23:42.405911Z",
     "shell.execute_reply": "2024-05-19T14:23:42.405469Z"
    },
    "lines_to_next_cell": 1,
    "papermill": {
     "duration": 0.024234,
     "end_time": "2024-05-19T14:23:42.406956",
     "exception": false,
     "start_time": "2024-05-19T14:23:42.382722",
     "status": "completed"
    },
    "tags": []
   },
   "outputs": [],
   "source": [
    "# Striver's approach: Use logic from 'Count Paritions with given difference'\n",
    "# https://leetcode.com/problems/target-sum/submissions/1255993345/\n",
    "def findTargetSumWaysStriver(nums: list[int], target: int) -> int:\n",
    "    \"\"\"\n",
    "    We need to count the number of subsets s1, s2 such that s1 - s2 = target.\n",
    "    s1 = (S + d) / 2\n",
    "    \"\"\"\n",
    "\n",
    "    S = sum(nums)\n",
    "    s1 = (S + target) / 2\n",
    "    s2 = S - s1\n",
    "\n",
    "    # Edge case - target is negative.\n",
    "    if s1 < 0:\n",
    "        s1 = s2\n",
    "\n",
    "    count = 0\n",
    "    if int(s1) == s1:\n",
    "        s1 = int(s1)\n",
    "        zero_count = nums.count(0)\n",
    "        nums = list(filter(lambda x: x != 0, nums))\n",
    "        N = len(nums)\n",
    "        dp: list[int] = [0 if j < s1 else 1 for j in range(s1 + 1)]\n",
    "        for i in range(N - 1, -1, -1):\n",
    "            for total in range(s1 + 1):\n",
    "                if total + nums[i] <= s1:\n",
    "                    dp[total] += dp[total + nums[i]]\n",
    "\n",
    "        count = dp[0] * (2 ** zero_count)\n",
    "\n",
    "    return count\n",
    "\n",
    "# Testing the solution\n",
    "assert findTargetSumWaysStriver([1,1,1,1,1], 3) == 5\n",
    "assert findTargetSumWaysStriver([1,0,0], 1) == 4\n",
    "assert findTargetSumWaysStriver([100], -200) == 0\n",
    "assert findTargetSumWaysStriver([100], -100) == 1"
   ]
  },
  {
   "cell_type": "markdown",
   "id": "54ee6894",
   "metadata": {
    "papermill": {
     "duration": 0.01733,
     "end_time": "2024-05-19T14:23:42.441620",
     "exception": false,
     "start_time": "2024-05-19T14:23:42.424290",
     "status": "completed"
    },
    "tags": []
   },
   "source": [
    "Video link: https://youtu.be/HgyouUi11zk?si=tgZcsIOYwWogacGr\n",
    "Coin Change II: https://leetcode.com/problems/coin-change-ii/description/"
   ]
  },
  {
   "cell_type": "code",
   "execution_count": 53,
   "id": "a21ca5a5",
   "metadata": {
    "execution": {
     "iopub.execute_input": "2024-05-19T14:23:42.477343Z",
     "iopub.status.busy": "2024-05-19T14:23:42.476883Z",
     "iopub.status.idle": "2024-05-19T14:23:42.481169Z",
     "shell.execute_reply": "2024-05-19T14:23:42.480631Z"
    },
    "lines_to_next_cell": 1,
    "papermill": {
     "duration": 0.023359,
     "end_time": "2024-05-19T14:23:42.482394",
     "exception": false,
     "start_time": "2024-05-19T14:23:42.459035",
     "status": "completed"
    },
    "tags": []
   },
   "outputs": [],
   "source": [
    "def coinChangeMemo(amount: int, coins: list[int]):\n",
    "    \"\"\"\n",
    "    Time: ~O(N x amount), Space: O(N x amount) + O(amount)\n",
    "    \"\"\"\n",
    "\n",
    "    @functools.cache\n",
    "    def backtrack(i: int, total: int) -> int:\n",
    "        if total == amount:\n",
    "            return 1\n",
    "        elif total > amount or i == N:\n",
    "            return 0\n",
    "        else:\n",
    "            return backtrack(i, total + coins[i]) + backtrack(i + 1, total)\n",
    "\n",
    "    N = len(coins)\n",
    "    return backtrack(0, 0)\n",
    "\n",
    "# Testing the solution\n",
    "assert coinChangeMemo(5, [1,2,5]) == 4\n",
    "assert coinChangeMemo(3, [2]) == 0"
   ]
  },
  {
   "cell_type": "code",
   "execution_count": 54,
   "id": "b74d7fa9",
   "metadata": {
    "execution": {
     "iopub.execute_input": "2024-05-19T14:23:42.518226Z",
     "iopub.status.busy": "2024-05-19T14:23:42.517767Z",
     "iopub.status.idle": "2024-05-19T14:23:42.521855Z",
     "shell.execute_reply": "2024-05-19T14:23:42.521422Z"
    },
    "lines_to_next_cell": 1,
    "papermill": {
     "duration": 0.023031,
     "end_time": "2024-05-19T14:23:42.522898",
     "exception": false,
     "start_time": "2024-05-19T14:23:42.499867",
     "status": "completed"
    },
    "tags": []
   },
   "outputs": [],
   "source": [
    "# https://leetcode.com/problems/coin-change-ii/submissions/1256028931\n",
    "def coinChangeTab(amount: int, coins: list[int]):\n",
    "    N = len(coins)\n",
    "    dp: list[int] = [0 if j != amount else 1 for j in range(amount + 1)]\n",
    "    for i in range(N - 1, -1, -1):\n",
    "        for total in range(amount, -1, -1):\n",
    "            if total + coins[i] <= amount:\n",
    "                dp[total] += dp[total + coins[i]]\n",
    "\n",
    "    return dp[0]\n",
    "\n",
    "# Testing the solution\n",
    "assert coinChangeTab(5, [1,2,5]) == 4\n",
    "assert coinChangeTab(3, [2]) == 0"
   ]
  },
  {
   "cell_type": "markdown",
   "id": "b0b593c4",
   "metadata": {
    "papermill": {
     "duration": 0.017413,
     "end_time": "2024-05-19T14:23:42.557743",
     "exception": false,
     "start_time": "2024-05-19T14:23:42.540330",
     "status": "completed"
    },
    "tags": []
   },
   "source": [
    "Video Link: https://youtu.be/OgvOZ6OrJoY?si=rcbpx6IrU_SvQ4v1\n",
    "Unbounded Knapsack"
   ]
  },
  {
   "cell_type": "code",
   "execution_count": 55,
   "id": "5fc22211",
   "metadata": {
    "execution": {
     "iopub.execute_input": "2024-05-19T14:23:42.593589Z",
     "iopub.status.busy": "2024-05-19T14:23:42.593253Z",
     "iopub.status.idle": "2024-05-19T14:23:42.597852Z",
     "shell.execute_reply": "2024-05-19T14:23:42.597405Z"
    },
    "lines_to_next_cell": 1,
    "papermill": {
     "duration": 0.023564,
     "end_time": "2024-05-19T14:23:42.598895",
     "exception": false,
     "start_time": "2024-05-19T14:23:42.575331",
     "status": "completed"
    },
    "tags": []
   },
   "outputs": [],
   "source": [
    "def unboundedKnapSackMemo(N: int, max_weight: int, values: list[int], weights: list[int]) -> int:\n",
    "     @functools.cache\n",
    "     def backtrack(i: int, total_weight: int) -> float:\n",
    "         if total_weight > max_weight:\n",
    "             return -math.inf\n",
    "         elif i == N:\n",
    "             return 0\n",
    "         else:\n",
    "             return max(values[i] + backtrack(i, total_weight + weights[i]), backtrack(i + 1, total_weight))\n",
    "\n",
    "     return int(backtrack(0, 0))\n",
    "\n",
    "# Testing the solution\n",
    "assert unboundedKnapSackMemo(2, 3, [1, 1], [2, 1]) == 3\n",
    "assert unboundedKnapSackMemo(4, 8, [6, 1, 7, 7], [1, 3, 4, 5]) == 48"
   ]
  },
  {
   "cell_type": "code",
   "execution_count": 56,
   "id": "3377312f",
   "metadata": {
    "execution": {
     "iopub.execute_input": "2024-05-19T14:23:42.634376Z",
     "iopub.status.busy": "2024-05-19T14:23:42.633997Z",
     "iopub.status.idle": "2024-05-19T14:23:42.638647Z",
     "shell.execute_reply": "2024-05-19T14:23:42.638133Z"
    },
    "lines_to_next_cell": 1,
    "papermill": {
     "duration": 0.0234,
     "end_time": "2024-05-19T14:23:42.639650",
     "exception": false,
     "start_time": "2024-05-19T14:23:42.616250",
     "status": "completed"
    },
    "tags": []
   },
   "outputs": [],
   "source": [
    "def unboundedKnapSackTab(N: int, max_weight: int, values: list[int], weights: list[int]) -> int:\n",
    "    dp: list[int] = [0 for j in range(max_weight + 1)]\n",
    "    for i in range(N - 1, -1, -1):\n",
    "        for total in range(max_weight, -1, -1):\n",
    "            if total + weights[i] <= max_weight:\n",
    "                dp[total] = max(dp[total], values[i] + dp[total + weights[i]])\n",
    "\n",
    "    return dp[0]\n",
    "\n",
    "# Testing the solution\n",
    "assert unboundedKnapSackTab(2, 3, [1, 1], [2, 1]) == 3\n",
    "assert unboundedKnapSackTab(4, 8, [6, 1, 7, 7], [1, 3, 4, 5]) == 48"
   ]
  },
  {
   "cell_type": "markdown",
   "id": "2d0c40ff",
   "metadata": {
    "papermill": {
     "duration": 0.017276,
     "end_time": "2024-05-19T14:23:42.674320",
     "exception": false,
     "start_time": "2024-05-19T14:23:42.657044",
     "status": "completed"
    },
    "tags": []
   },
   "source": [
    "Video Link: https://youtu.be/mO8XpGoJwuo?si=uzBPZ8auw70L9WCm\n",
    "Rod cutting Problem"
   ]
  },
  {
   "cell_type": "code",
   "execution_count": 57,
   "id": "aee57cd8",
   "metadata": {
    "execution": {
     "iopub.execute_input": "2024-05-19T14:23:42.709874Z",
     "iopub.status.busy": "2024-05-19T14:23:42.709553Z",
     "iopub.status.idle": "2024-05-19T14:23:42.714230Z",
     "shell.execute_reply": "2024-05-19T14:23:42.713751Z"
    },
    "lines_to_next_cell": 1,
    "papermill": {
     "duration": 0.023655,
     "end_time": "2024-05-19T14:23:42.715240",
     "exception": false,
     "start_time": "2024-05-19T14:23:42.691585",
     "status": "completed"
    },
    "tags": []
   },
   "outputs": [],
   "source": [
    "def cutRodMemo(price: list[int], N: int) -> int:\n",
    "    @functools.cache\n",
    "    def backtrack(i: int, length: int) -> float:\n",
    "        if length == 0:\n",
    "            return 0\n",
    "        elif i == N or length < 0:\n",
    "            return -math.inf\n",
    "        else:\n",
    "            return max(price[i] + backtrack(i, length - i - 1), backtrack(i + 1, length))\n",
    "\n",
    "    result = backtrack(0, N)\n",
    "    return int(result)\n",
    "\n",
    "# Testing the solution\n",
    "assert cutRodMemo([1, 5, 8, 9, 10, 17, 17, 20], 8) == 22\n",
    "assert cutRodMemo([3, 5, 8, 9, 10, 17, 17, 20], 8) == 24"
   ]
  },
  {
   "cell_type": "code",
   "execution_count": 58,
   "id": "bcdf21dd",
   "metadata": {
    "execution": {
     "iopub.execute_input": "2024-05-19T14:23:42.750876Z",
     "iopub.status.busy": "2024-05-19T14:23:42.750461Z",
     "iopub.status.idle": "2024-05-19T14:23:42.754855Z",
     "shell.execute_reply": "2024-05-19T14:23:42.754371Z"
    },
    "lines_to_next_cell": 1,
    "papermill": {
     "duration": 0.023189,
     "end_time": "2024-05-19T14:23:42.755861",
     "exception": false,
     "start_time": "2024-05-19T14:23:42.732672",
     "status": "completed"
    },
    "tags": []
   },
   "outputs": [],
   "source": [
    "def cutRodTab(price: list[int], N: int) -> int:\n",
    "    dp: list[float] = [-math.inf if j > 0 else 0 for j in range(N + 1)]\n",
    "    for i in range(N - 1, -1, -1):\n",
    "        for length in range(N + 1):\n",
    "            if length - i - 1 >= 0:\n",
    "                dp[length] = max(dp[length], price[i] + dp[length - i - 1])\n",
    "\n",
    "    return int(dp[N])\n",
    "\n",
    "# Testing the solution\n",
    "assert cutRodTab([1, 5, 8, 9, 10, 17, 17, 20], 8) == 22\n",
    "assert cutRodTab([3, 5, 8, 9, 10, 17, 17, 20], 8) == 24"
   ]
  },
  {
   "cell_type": "markdown",
   "id": "8e8177cc",
   "metadata": {
    "papermill": {
     "duration": 0.017194,
     "end_time": "2024-05-19T14:23:42.790482",
     "exception": false,
     "start_time": "2024-05-19T14:23:42.773288",
     "status": "completed"
    },
    "tags": []
   },
   "source": [
    "Video link: https://youtu.be/NPZn9jBrX8U?si=RNey3xHjlEm1LXyr\n",
    "Longest common subsequences: https://leetcode.com/problems/longest-common-subsequence\n",
    "Naive approach: Generate all subsequences O((2 ** N) x (2 ** M)) and compare common subsequences in both"
   ]
  },
  {
   "cell_type": "code",
   "execution_count": 59,
   "id": "917d5e52",
   "metadata": {
    "execution": {
     "iopub.execute_input": "2024-05-19T14:23:42.826310Z",
     "iopub.status.busy": "2024-05-19T14:23:42.825825Z",
     "iopub.status.idle": "2024-05-19T14:23:42.830559Z",
     "shell.execute_reply": "2024-05-19T14:23:42.830111Z"
    },
    "papermill": {
     "duration": 0.023754,
     "end_time": "2024-05-19T14:23:42.831593",
     "exception": false,
     "start_time": "2024-05-19T14:23:42.807839",
     "status": "completed"
    },
    "tags": []
   },
   "outputs": [],
   "source": [
    "def longestCommonSubsequenceMemo(text1: str, text2: str) -> int:\n",
    "    # Time: O(N x M), Space: O(N x M) + O(M + N)\n",
    "    @functools.cache\n",
    "    def backtrack(i: int, j: int) -> int:\n",
    "        if i == N1 or j == N2:\n",
    "            return 0\n",
    "        elif text1[i] == text2[j]:\n",
    "            return 1 + backtrack(i + 1, j + 1)\n",
    "        else:\n",
    "            return max(backtrack(i + 1, j), backtrack(i, j + 1))\n",
    "\n",
    "    N1, N2 = len(text1), len(text2)\n",
    "    return backtrack(0, 0)\n",
    "\n",
    "# Testing the solution\n",
    "assert longestCommonSubsequenceMemo(\"abcde\", \"ace\") == 3\n",
    "assert longestCommonSubsequenceMemo(\"bsbininm\", \"jmjkbkjkv\") == 1\n",
    "assert longestCommonSubsequenceMemo(\"aaaaaaaaaaaaaaaaaaaaaaaaaaaaaaaaaaa\", \"aaaaaaaaaaaaaaaaaaaaaaaaaaaaaaaaaaaaaaaaaaaaa\") == 35\n",
    "assert longestCommonSubsequenceMemo(\"bl\", \"yby\") == 1"
   ]
  },
  {
   "cell_type": "code",
   "execution_count": 60,
   "id": "30813726",
   "metadata": {
    "execution": {
     "iopub.execute_input": "2024-05-19T14:23:42.867273Z",
     "iopub.status.busy": "2024-05-19T14:23:42.867079Z",
     "iopub.status.idle": "2024-05-19T14:23:42.872727Z",
     "shell.execute_reply": "2024-05-19T14:23:42.872296Z"
    },
    "lines_to_next_cell": 1,
    "papermill": {
     "duration": 0.024643,
     "end_time": "2024-05-19T14:23:42.873777",
     "exception": false,
     "start_time": "2024-05-19T14:23:42.849134",
     "status": "completed"
    },
    "tags": []
   },
   "outputs": [],
   "source": [
    "def longestCommonSubsequenceTab(text1: str, text2: str) -> int:\n",
    "    # Time: O(M x N), Space: O(N x M)\n",
    "    N1, N2 = len(text1), len(text2)\n",
    "    dp: list[list[int]] = [[0 for j in range(N2 + 1)] for i in range(N1 + 1)]\n",
    "    for i in range(N1 - 1, -1, -1):\n",
    "        for j in range(N2 - 1, -1, -1):\n",
    "            if text1[i] == text2[j]:\n",
    "                dp[i][j] = 1 + dp[i + 1][j + 1]\n",
    "            else:\n",
    "                dp[i][j] = max(dp[i + 1][j], dp[i][j + 1])\n",
    "\n",
    "    return dp[0][0]\n",
    "\n",
    "# Testing the solution\n",
    "assert longestCommonSubsequenceTab(\"abcde\", \"ace\") == 3\n",
    "assert longestCommonSubsequenceTab(\"bsbininm\", \"jmjkbkjkv\") == 1\n",
    "assert longestCommonSubsequenceTab(\"aaaaaaaaaaaaaaaaaaaaaaaaaaaaaaaaaaa\", \"aaaaaaaaaaaaaaaaaaaaaaaaaaaaaaaaaaaaaaaaaaaaa\") == 35\n",
    "assert longestCommonSubsequenceTab(\"bl\", \"yby\") == 1"
   ]
  },
  {
   "cell_type": "code",
   "execution_count": 61,
   "id": "e099ef3b",
   "metadata": {
    "execution": {
     "iopub.execute_input": "2024-05-19T14:23:42.909541Z",
     "iopub.status.busy": "2024-05-19T14:23:42.909211Z",
     "iopub.status.idle": "2024-05-19T14:23:42.914255Z",
     "shell.execute_reply": "2024-05-19T14:23:42.913702Z"
    },
    "lines_to_next_cell": 1,
    "papermill": {
     "duration": 0.024048,
     "end_time": "2024-05-19T14:23:42.915381",
     "exception": false,
     "start_time": "2024-05-19T14:23:42.891333",
     "status": "completed"
    },
    "tags": []
   },
   "outputs": [],
   "source": [
    "# https://leetcode.com/problems/longest-common-subsequence/submissions/1256127917\n",
    "def longestCommonSubsequence(text1: str, text2: str) -> int:\n",
    "    # Time: O(M x N), Space: O(N2 + N2)\n",
    "    N1, N2 = len(text1), len(text2)\n",
    "    dp: list[int] = [0 for j in range(N2 + 1)]\n",
    "    for i in range(N1 - 1, -1, -1):\n",
    "        next_dp: list[int] = list(dp)\n",
    "        for j in range(N2 - 1, -1, -1):\n",
    "            if text1[i] == text2[j]:\n",
    "                next_dp[j] = 1 + dp[j + 1]\n",
    "            else:\n",
    "                next_dp[j] = max(dp[j], next_dp[j + 1])\n",
    "\n",
    "        dp = next_dp\n",
    "\n",
    "    return dp[0]\n",
    "\n",
    "# Testing the solution\n",
    "assert longestCommonSubsequence(\"abcde\", \"ace\") == 3\n",
    "assert longestCommonSubsequence(\"bsbininm\", \"jmjkbkjkv\") == 1\n",
    "assert longestCommonSubsequence(\"aaaaaaaaaaaaaaaaaaaaaaaaaaaaaaaaaaa\", \"aaaaaaaaaaaaaaaaaaaaaaaaaaaaaaaaaaaaaaaaaaaaa\") == 35\n",
    "assert longestCommonSubsequence(\"bl\", \"yby\") == 1"
   ]
  },
  {
   "cell_type": "markdown",
   "id": "e01786f1",
   "metadata": {
    "papermill": {
     "duration": 0.01722,
     "end_time": "2024-05-19T14:23:42.950151",
     "exception": false,
     "start_time": "2024-05-19T14:23:42.932931",
     "status": "completed"
    },
    "tags": []
   },
   "source": [
    "Video Link: https://youtu.be/-zI4mrF2Pb4?si=8kICsv0E7jYx6sWn\n",
    "Print longest common subsequece"
   ]
  },
  {
   "cell_type": "code",
   "execution_count": 62,
   "id": "1c0d3fe8",
   "metadata": {
    "execution": {
     "iopub.execute_input": "2024-05-19T14:23:42.985437Z",
     "iopub.status.busy": "2024-05-19T14:23:42.985235Z",
     "iopub.status.idle": "2024-05-19T14:23:42.991963Z",
     "shell.execute_reply": "2024-05-19T14:23:42.991522Z"
    },
    "lines_to_next_cell": 1,
    "papermill": {
     "duration": 0.025625,
     "end_time": "2024-05-19T14:23:42.993091",
     "exception": false,
     "start_time": "2024-05-19T14:23:42.967466",
     "status": "completed"
    },
    "tags": []
   },
   "outputs": [],
   "source": [
    "def all_longest_common_subsequences(text1: str, text2: str) -> list[str]:\n",
    "    \"\"\"\n",
    "    DP grid computes the longest common subseq length given starting pos of text1, text2\n",
    "    We start at -1, -1 on the grid.\n",
    "    If text1[i] == text2[j], we know that the line: 1 + dp[i + 1][j + 1] was executed, there we increment both i, j by 1\n",
    "    If text1[i] != text2[j], either the max came from text1 or text2. If only one max exists, recurse into that else recurse through both\n",
    "\n",
    "    Time: DP grid compute: O(M x N) + Backtracking to find longest common subsequence: O(M + N)\n",
    "    Space: O(M x N)\n",
    "    \"\"\"\n",
    "\n",
    "    N1, N2 = len(text1), len(text2)\n",
    "    dp: list[list[int]] = [[0 for j in range(N2 + 1)] for i in range(N1 + 1)]\n",
    "    for i in range(N1 - 1, -1, -1):\n",
    "        for j in range(N2 - 1, -1, -1):\n",
    "            if text1[i] == text2[j]:\n",
    "                dp[i][j] = 1 + dp[i + 1][j + 1]\n",
    "            else:\n",
    "                dp[i][j] = max(dp[i + 1][j], dp[i][j + 1])\n",
    "\n",
    "    def backtrack(i: int, j: int):\n",
    "        if dp[i][j] == 0:\n",
    "            result.add(''.join(stack))\n",
    "            return\n",
    "        elif text1[i] == text2[j]:\n",
    "            stack.append(text1[i])\n",
    "            backtrack(i + 1, j + 1)\n",
    "            stack.pop()\n",
    "        else:\n",
    "            max_ = max(dp[i + 1][j], dp[i][j + 1])\n",
    "            if dp[i + 1][j] == max_:\n",
    "                backtrack(i + 1, j)\n",
    "            if dp[i][j + 1] == max_:\n",
    "                backtrack(i, j + 1)\n",
    "\n",
    "    result: set[str] = set()\n",
    "    stack: list[str] = []\n",
    "    backtrack(i, j)\n",
    "    return sorted(result)\n",
    "\n",
    "# Tesitng the solution\n",
    "assert all_longest_common_subsequences(\"abcde\", \"ace\") == ['ace']\n",
    "assert all_longest_common_subsequences(\"abaaa\", \"baabaca\") == ['aaaa', 'abaa', 'baaa']"
   ]
  },
  {
   "cell_type": "markdown",
   "id": "1b3c52ec",
   "metadata": {
    "papermill": {
     "duration": 0.01716,
     "end_time": "2024-05-19T14:23:43.027790",
     "exception": false,
     "start_time": "2024-05-19T14:23:43.010630",
     "status": "completed"
    },
    "tags": []
   },
   "source": [
    "Video Link: https://youtu.be/_wP9mWNPL5w?si=UHRuFgDl6a5g8OlH\n",
    "Longest common Substring"
   ]
  },
  {
   "cell_type": "code",
   "execution_count": 63,
   "id": "95b817c0",
   "metadata": {
    "execution": {
     "iopub.execute_input": "2024-05-19T14:23:43.063645Z",
     "iopub.status.busy": "2024-05-19T14:23:43.063132Z",
     "iopub.status.idle": "2024-05-19T14:23:43.067812Z",
     "shell.execute_reply": "2024-05-19T14:23:43.067374Z"
    },
    "lines_to_next_cell": 1,
    "papermill": {
     "duration": 0.02378,
     "end_time": "2024-05-19T14:23:43.068850",
     "exception": false,
     "start_time": "2024-05-19T14:23:43.045070",
     "status": "completed"
    },
    "tags": []
   },
   "outputs": [],
   "source": [
    "def longestCommonSubstrTab(text1: str, text2: str) -> int:\n",
    "    \"\"\"\n",
    "    Same code as longest common subsequence but with a slight modification.\n",
    "    Here we reset the dp table value to 0 if text1[i] != text2[j] instead of getting the max of dp[i + 1][j] or dp[i][j + 1] since we are not allowed non consequetive values.\n",
    "\n",
    "    Time: O(N1 x N2), Space: O(N1 x N2)\n",
    "    \"\"\"\n",
    "    N1, N2 = len(text1), len(text2)\n",
    "    dp: list[list[int]] = [[0 for j in range(N2 + 1)] for i in range(N1 + 1)]\n",
    "    max_length = 0\n",
    "    for i in range(N1 - 1, -1, -1):\n",
    "        for j in range(N2 - 1, -1, -1):\n",
    "            if text1[i] == text2[j]:\n",
    "                dp[i][j] = dp[i + 1][j + 1] + 1\n",
    "                max_length = max(max_length, dp[i][j])\n",
    "\n",
    "    return max_length\n",
    "\n",
    "# Testing the solution\n",
    "assert longestCommonSubstrTab(\"ABCDGH\", \"ACDGHR\") == 4\n",
    "assert longestCommonSubstrTab(\"ABC\", \"ACB\") == 1"
   ]
  },
  {
   "cell_type": "code",
   "execution_count": 64,
   "id": "f32221a7",
   "metadata": {
    "execution": {
     "iopub.execute_input": "2024-05-19T14:23:43.104563Z",
     "iopub.status.busy": "2024-05-19T14:23:43.104058Z",
     "iopub.status.idle": "2024-05-19T14:23:43.108853Z",
     "shell.execute_reply": "2024-05-19T14:23:43.108428Z"
    },
    "lines_to_next_cell": 1,
    "papermill": {
     "duration": 0.02365,
     "end_time": "2024-05-19T14:23:43.109874",
     "exception": false,
     "start_time": "2024-05-19T14:23:43.086224",
     "status": "completed"
    },
    "tags": []
   },
   "outputs": [],
   "source": [
    "def longestCommonSubstr(text1: str, text2: str) -> int:\n",
    "    \"\"\"Time: O(N1 x N2), Space: O(N2)\"\"\"\n",
    "    N1, N2 = len(text1), len(text2)\n",
    "    dp: list[int] = [0 for j in range(N2 + 1)]\n",
    "    max_length = 0\n",
    "    for i in range(N1 - 1, -1, -1):\n",
    "        next_dp: list[int] = [0]\n",
    "        for j in range(N2 - 1, -1, -1):\n",
    "            if text1[i] == text2[j]:\n",
    "                next_dp.append(1 + dp[j + 1])\n",
    "                max_length = max(max_length, next_dp[-1])\n",
    "            else:\n",
    "                next_dp.append(0)\n",
    "\n",
    "        dp = list(reversed(next_dp))\n",
    "\n",
    "    return max_length\n",
    "\n",
    "# Testing the solution\n",
    "assert longestCommonSubstr(\"ABCDGH\", \"ACDGHR\") == 4\n",
    "assert longestCommonSubstr(\"ABC\", \"ACB\") == 1"
   ]
  },
  {
   "cell_type": "markdown",
   "id": "32bd7ea7",
   "metadata": {
    "papermill": {
     "duration": 0.017368,
     "end_time": "2024-05-19T14:23:43.144723",
     "exception": false,
     "start_time": "2024-05-19T14:23:43.127355",
     "status": "completed"
    },
    "tags": []
   },
   "source": [
    "Video Link: https://youtu.be/6i_T5kkfv4A?si=3pJmCMahWgxxnGRq\n",
    "Longest Palindromic Subsequence"
   ]
  },
  {
   "cell_type": "code",
   "execution_count": 65,
   "id": "d0a53967",
   "metadata": {
    "execution": {
     "iopub.execute_input": "2024-05-19T14:23:43.180494Z",
     "iopub.status.busy": "2024-05-19T14:23:43.180054Z",
     "iopub.status.idle": "2024-05-19T14:23:43.184286Z",
     "shell.execute_reply": "2024-05-19T14:23:43.183720Z"
    },
    "lines_to_next_cell": 1,
    "papermill": {
     "duration": 0.023221,
     "end_time": "2024-05-19T14:23:43.185290",
     "exception": false,
     "start_time": "2024-05-19T14:23:43.162069",
     "status": "completed"
    },
    "tags": []
   },
   "outputs": [],
   "source": [
    "# https://leetcode.com/problems/longest-palindromic-subsequence/submissions/1256744931\n",
    "def longestPalindromeSubseqMemo(text: str) -> int:\n",
    "    @functools.cache\n",
    "    def backtrack(i: int, j: int) -> int:\n",
    "        if i >= j:\n",
    "            return int(i == j)\n",
    "        elif text[i] == text[j]:\n",
    "            return 2 + backtrack(i + 1, j - 1)\n",
    "        else:\n",
    "            return max(backtrack(i + 1, j), backtrack(i, j - 1))\n",
    "\n",
    "    N = len(text)\n",
    "    result = backtrack(0, N - 1)\n",
    "    return result\n",
    "\n",
    "# Testing the solution\n",
    "assert longestPalindromeSubseqMemo(\"bbbab\") == 4\n",
    "assert longestPalindromeSubseqMemo(\"cbbd\") == 2"
   ]
  },
  {
   "cell_type": "code",
   "execution_count": 66,
   "id": "c5612366",
   "metadata": {
    "execution": {
     "iopub.execute_input": "2024-05-19T14:23:43.221352Z",
     "iopub.status.busy": "2024-05-19T14:23:43.220930Z",
     "iopub.status.idle": "2024-05-19T14:23:43.225633Z",
     "shell.execute_reply": "2024-05-19T14:23:43.225140Z"
    },
    "lines_to_next_cell": 1,
    "papermill": {
     "duration": 0.024053,
     "end_time": "2024-05-19T14:23:43.226722",
     "exception": false,
     "start_time": "2024-05-19T14:23:43.202669",
     "status": "completed"
    },
    "tags": []
   },
   "outputs": [],
   "source": [
    "def longestPalindromeSubseqTab(text: str) -> int:\n",
    "    N = len(text)\n",
    "    dp: list[list[int]] = [[0 if j != (N - 1) / 2 else 1 for j in range(N + 1)] for i in range(N + 1)]\n",
    "    for i in range(N - 1, -1, -1):\n",
    "        for j in range(N):\n",
    "            if i >= j:\n",
    "                dp[i][j] = int(i == j)\n",
    "            elif text[i] == text[j]:\n",
    "                dp[i][j] = 2 + dp[i + 1][j - 1]\n",
    "            else:\n",
    "                dp[i][j] = max(dp[i + 1][j], dp[i][j - 1])\n",
    "\n",
    "    return dp[0][N - 1]\n",
    "\n",
    "# Testing the solution\n",
    "assert longestPalindromeSubseqTab(\"bbbab\") == 4\n",
    "assert longestPalindromeSubseqTab(\"cbbd\") == 2"
   ]
  },
  {
   "cell_type": "code",
   "execution_count": 67,
   "id": "a74fa1d5",
   "metadata": {
    "execution": {
     "iopub.execute_input": "2024-05-19T14:23:43.262737Z",
     "iopub.status.busy": "2024-05-19T14:23:43.262315Z",
     "iopub.status.idle": "2024-05-19T14:23:43.267127Z",
     "shell.execute_reply": "2024-05-19T14:23:43.266612Z"
    },
    "lines_to_next_cell": 1,
    "papermill": {
     "duration": 0.023878,
     "end_time": "2024-05-19T14:23:43.268153",
     "exception": false,
     "start_time": "2024-05-19T14:23:43.244275",
     "status": "completed"
    },
    "tags": []
   },
   "outputs": [],
   "source": [
    "# https://leetcode.com/problems/longest-palindromic-subsequence/submissions/1256759252\n",
    "def longestPalindromeSubseq(text: str) -> int:\n",
    "    N = len(text)\n",
    "    dp: list[int] = [0 if j != (N - 1) / 2 else 1 for j in range(N + 1)]\n",
    "    for i in range(N - 1, -1, -1):\n",
    "        next_dp: list[int] = []\n",
    "        for j in range(N):\n",
    "            if i >= j:\n",
    "                next_dp.append(int(i == j))\n",
    "            elif text[i] == text[j]:\n",
    "                next_dp.append(2 + dp[j - 1])\n",
    "            else:\n",
    "                next_dp.append(max(dp[j], next_dp[-1]))\n",
    "\n",
    "        # We run the inner loop for N iterations, dp however has a length of N + 1\n",
    "        # Hence we add 0 in the end to make sure that the values are consistent of DP compute\n",
    "        # We could make this simpler by initializing next_dp as list(dp), but that would\n",
    "        # be wasted O(N) runtime.\n",
    "        next_dp.append(0)\n",
    "        dp = next_dp\n",
    "\n",
    "    return dp[N - 1]\n",
    "\n",
    "# Testing the solution\n",
    "assert longestPalindromeSubseq(\"bbbab\") == 4\n",
    "assert longestPalindromeSubseq(\"cbbd\") == 2"
   ]
  },
  {
   "cell_type": "code",
   "execution_count": 68,
   "id": "e94ba584",
   "metadata": {
    "execution": {
     "iopub.execute_input": "2024-05-19T14:23:43.303938Z",
     "iopub.status.busy": "2024-05-19T14:23:43.303602Z",
     "iopub.status.idle": "2024-05-19T14:23:43.308474Z",
     "shell.execute_reply": "2024-05-19T14:23:43.307922Z"
    },
    "lines_to_next_cell": 1,
    "papermill": {
     "duration": 0.023746,
     "end_time": "2024-05-19T14:23:43.309480",
     "exception": false,
     "start_time": "2024-05-19T14:23:43.285734",
     "status": "completed"
    },
    "tags": []
   },
   "outputs": [],
   "source": [
    "def longestPalindromeSubseqStriver(text: str) -> int:\n",
    "    \"\"\"\n",
    "    1. We reverse text.\n",
    "    2. Whatever value is the LCS of both the texts, that is our desired answer\n",
    "    \"\"\"\n",
    "    def LCS(text1: str, text2: str) -> int:\n",
    "        N = len(text1)\n",
    "        dp: list[int] = [0 for j in range(N + 1)]\n",
    "        for i in range(N - 1, -1, -1):\n",
    "            next_dp: list[int] = list(dp)\n",
    "            for j in range(N - 1, -1, -1):\n",
    "                if text1[i] == text2[j]:\n",
    "                    next_dp[j] = 1 + dp[j + 1]\n",
    "                else:\n",
    "                    next_dp[j] = max(dp[j], next_dp[j + 1])\n",
    "            dp = next_dp\n",
    "\n",
    "        return dp[0]\n",
    "\n",
    "    return LCS(text, text[::-1])\n",
    "\n",
    "# Testing the solution\n",
    "assert longestPalindromeSubseqStriver(\"bbbab\") == 4\n",
    "assert longestPalindromeSubseqStriver(\"cbbd\") == 2"
   ]
  },
  {
   "cell_type": "code",
   "execution_count": 69,
   "id": "5a62593a",
   "metadata": {
    "execution": {
     "iopub.execute_input": "2024-05-19T14:23:43.345522Z",
     "iopub.status.busy": "2024-05-19T14:23:43.345197Z",
     "iopub.status.idle": "2024-05-19T14:23:43.347527Z",
     "shell.execute_reply": "2024-05-19T14:23:43.347096Z"
    },
    "papermill": {
     "duration": 0.021419,
     "end_time": "2024-05-19T14:23:43.348579",
     "exception": false,
     "start_time": "2024-05-19T14:23:43.327160",
     "status": "completed"
    },
    "tags": []
   },
   "outputs": [],
   "source": [
    "# Video link: https://youtu.be/xPBLEj41rFU?si=TkaEwZIQqY7WkasB\n",
    "# Minimum insertions to make a string palindromic"
   ]
  },
  {
   "cell_type": "code",
   "execution_count": 70,
   "id": "a73343a1",
   "metadata": {
    "execution": {
     "iopub.execute_input": "2024-05-19T14:23:43.383926Z",
     "iopub.status.busy": "2024-05-19T14:23:43.383612Z",
     "iopub.status.idle": "2024-05-19T14:23:43.387784Z",
     "shell.execute_reply": "2024-05-19T14:23:43.387252Z"
    },
    "lines_to_next_cell": 1,
    "papermill": {
     "duration": 0.022945,
     "end_time": "2024-05-19T14:23:43.388816",
     "exception": false,
     "start_time": "2024-05-19T14:23:43.365871",
     "status": "completed"
    },
    "tags": []
   },
   "outputs": [],
   "source": [
    "# https://leetcode.com/problems/minimum-insertion-steps-to-make-a-string-palindrome/submissions/1256992480/\n",
    "def minInsertions(text: str) -> int:\n",
    "    \"\"\"\n",
    "    1. Find the longest palindromic substring\n",
    "    2. Minimum insertions required would be length of the N - longest palindromic substr\n",
    "    \"\"\"\n",
    "\n",
    "    @functools.cache\n",
    "    def longestPalindromicSubstrLength(i: int, j: int) -> int:\n",
    "        if i >= j:\n",
    "            return int(i == j)\n",
    "        elif text[i] == text[j]:\n",
    "            return 2 + longestPalindromicSubstrLength(i + 1, j - 1)\n",
    "        else:\n",
    "            return max(longestPalindromicSubstrLength(i + 1, j), longestPalindromicSubstrLength(i, j - 1))\n",
    "\n",
    "    N = len(text)\n",
    "    return N - longestPalindromicSubstrLength(0, N - 1)\n",
    "\n",
    "# Testing the solution\n",
    "assert minInsertions(\"mbadm\") == 2\n",
    "assert minInsertions(\"leetcode\") == 5"
   ]
  },
  {
   "cell_type": "markdown",
   "id": "76604d02",
   "metadata": {
    "papermill": {
     "duration": 0.01727,
     "end_time": "2024-05-19T14:23:43.423531",
     "exception": false,
     "start_time": "2024-05-19T14:23:43.406261",
     "status": "completed"
    },
    "tags": []
   },
   "source": [
    "Minimum ops to convert s1 to s2\n",
    "Video Link: https://youtu.be/yMnH0jrir0Q?si=WNsLNkqd3rhHqzDX"
   ]
  },
  {
   "cell_type": "code",
   "execution_count": 71,
   "id": "07d4a7a1",
   "metadata": {
    "execution": {
     "iopub.execute_input": "2024-05-19T14:23:43.459197Z",
     "iopub.status.busy": "2024-05-19T14:23:43.458823Z",
     "iopub.status.idle": "2024-05-19T14:23:43.465153Z",
     "shell.execute_reply": "2024-05-19T14:23:43.464728Z"
    },
    "lines_to_next_cell": 1,
    "papermill": {
     "duration": 0.025337,
     "end_time": "2024-05-19T14:23:43.466189",
     "exception": false,
     "start_time": "2024-05-19T14:23:43.440852",
     "status": "completed"
    },
    "tags": []
   },
   "outputs": [],
   "source": [
    "# https://leetcode.com/problems/delete-operation-for-two-strings/submissions/1257015539\n",
    "def minDistance(word1: str, word2: str) -> int:\n",
    "    \"\"\"\n",
    "    The idea is to think about what characters we should leave untouched. In this\n",
    "    case, we can leave out characters that are subsequences also present in word2.o\n",
    "\n",
    "    Hence logic: Find length of longest common subsequence -> (N1 - S) + (N2 - S)\n",
    "    \"\"\"\n",
    "    N1, N2 = len(word1), len(word2)\n",
    "    dp: list[int] = [0 for j in range(N2 + 1)]\n",
    "    for i in range(N1 - 1, -1, -1):\n",
    "        next_dp: list[int] = [0]\n",
    "        for j in range(N2 - 1, -1, -1):\n",
    "            if word1[i] == word2[j]:\n",
    "                next_dp.append(1 + dp[j + 1])\n",
    "            else:\n",
    "                next_dp.append(max(dp[j], next_dp[-1]))\n",
    "\n",
    "        next_dp.reverse()\n",
    "        dp = next_dp\n",
    "\n",
    "    substr_length = dp[0]\n",
    "    return (N1 - substr_length) + (N2 - substr_length)\n",
    "\n",
    "# Testing the solution\n",
    "assert minDistance(\"leetcode\", \"etco\") == 4\n",
    "assert minDistance(\"sea\", \"eat\") == 2"
   ]
  },
  {
   "cell_type": "markdown",
   "id": "899a0256",
   "metadata": {
    "papermill": {
     "duration": 0.017371,
     "end_time": "2024-05-19T14:23:43.500941",
     "exception": false,
     "start_time": "2024-05-19T14:23:43.483570",
     "status": "completed"
    },
    "tags": []
   },
   "source": [
    "Shortest common supersequence: https://youtu.be/xElxAuBcvsU?si=A_v7qeegsKrHgGle\n",
    "https://leetcode.com/problems/shortest-common-supersequence/"
   ]
  },
  {
   "cell_type": "code",
   "execution_count": 72,
   "id": "ddeea61a",
   "metadata": {
    "execution": {
     "iopub.execute_input": "2024-05-19T14:23:43.536792Z",
     "iopub.status.busy": "2024-05-19T14:23:43.536314Z",
     "iopub.status.idle": "2024-05-19T14:23:43.543616Z",
     "shell.execute_reply": "2024-05-19T14:23:43.543215Z"
    },
    "lines_to_next_cell": 1,
    "papermill": {
     "duration": 0.026249,
     "end_time": "2024-05-19T14:23:43.544696",
     "exception": false,
     "start_time": "2024-05-19T14:23:43.518447",
     "status": "completed"
    },
    "tags": []
   },
   "outputs": [],
   "source": [
    "# https://leetcode.com/problems/shortest-common-supersequence/submissions/1257426491\n",
    "def shortestCommonSupersequenceBetter(str1: str, str2: str) -> str:\n",
    "    \"\"\"\n",
    "    Logic: Common characters should be taken once. Add missing characters in order.\n",
    "    \"\"\"\n",
    "    N1, N2 = len(str1), len(str2)\n",
    "\n",
    "    # Compute the DP grid for Longest common subsequence\n",
    "    dp: list[list[int]] = [[0 for j in range(N2 + 1)] for i in range(N1 + 1)]\n",
    "    for i in range(N1 - 1, -1, -1):\n",
    "        for j in range(N2 - 1, -1, -1):\n",
    "            if str1[i] == str2[j]:\n",
    "                dp[i][j] = 1 + dp[i + 1][j + 1]\n",
    "            else:\n",
    "                dp[i][j] = max(dp[i + 1][j], dp[i][j + 1])\n",
    "\n",
    "    # Find out the subsequence\n",
    "    lcs_list: list[str] = []\n",
    "    i = j = 0\n",
    "    while i < N1 and j < N2:\n",
    "        if str1[i] == str2[j]:\n",
    "            lcs_list.append(str1[i])\n",
    "            i, j = i + 1, j + 1\n",
    "        elif dp[i][j + 1] >= dp[i + 1][j]:\n",
    "            j = j + 1\n",
    "        else:\n",
    "            i = i + 1\n",
    "\n",
    "    # Compute LCS string\n",
    "    lcs_list.append(\"*\")\n",
    "    lcs = ''.join(lcs_list)\n",
    "    N3 = len(lcs)\n",
    "\n",
    "    # Add the missing characters in order\n",
    "    i = j = k = 0\n",
    "    supersequence_list: list[str] = []\n",
    "    while k < N3:\n",
    "        while i < N1 and str1[i] != lcs[k]:\n",
    "            supersequence_list.append(str1[i])\n",
    "            i += 1\n",
    "        while j < N2 and str2[j] != lcs[k]:\n",
    "            supersequence_list.append(str2[j])\n",
    "            j += 1\n",
    "        supersequence_list.append(lcs[k])\n",
    "        i, j, k = i + 1, j + 1, k + 1\n",
    "\n",
    "    supersequence_list.pop()\n",
    "    return ''.join(supersequence_list)\n",
    "\n",
    "# Testing the solution\n",
    "assert len(shortestCommonSupersequenceBetter(\"abac\", \"cab\")) == 5\n",
    "assert len(shortestCommonSupersequenceBetter(\"brute\", \"groot\")) == 8"
   ]
  },
  {
   "cell_type": "code",
   "execution_count": 73,
   "id": "e8a2cfe9",
   "metadata": {
    "execution": {
     "iopub.execute_input": "2024-05-19T14:23:43.580438Z",
     "iopub.status.busy": "2024-05-19T14:23:43.580097Z",
     "iopub.status.idle": "2024-05-19T14:23:43.586409Z",
     "shell.execute_reply": "2024-05-19T14:23:43.585925Z"
    },
    "lines_to_next_cell": 1,
    "papermill": {
     "duration": 0.025324,
     "end_time": "2024-05-19T14:23:43.587458",
     "exception": false,
     "start_time": "2024-05-19T14:23:43.562134",
     "status": "completed"
    },
    "tags": []
   },
   "outputs": [],
   "source": [
    "# https://leetcode.com/problems/shortest-common-supersequence/submissions/1257436090/\n",
    "def shortestCommonSupersequenceStriver(str1: str, str2: str) -> str:\n",
    "    \"\"\"\n",
    "    Instead of computing the missing characters seperately we add them during out iteration through the DP table itself.\n",
    "    \"\"\"\n",
    "    N1, N2 = len(str1), len(str2)\n",
    "\n",
    "    # Compute the DP grid for Longest common subsequence\n",
    "    dp: list[list[int]] = [[0 for j in range(N2 + 1)] for i in range(N1 + 1)]\n",
    "    for i in range(N1 - 1, -1, -1):\n",
    "        for j in range(N2 - 1, -1, -1):\n",
    "            if str1[i] == str2[j]:\n",
    "                dp[i][j] = 1 + dp[i + 1][j + 1]\n",
    "            else:\n",
    "                dp[i][j] = max(dp[i + 1][j], dp[i][j + 1])\n",
    "\n",
    "    # Find out the supersequence, slight modification to LCS print code\n",
    "    # Instead of iterating until any one of the strings going out of bounds, we iterate until both are out of bounds\n",
    "    # When strings don't match and we go to the direction of maximum in the DP table, we add the string that is being shrunk\n",
    "    # j = j + 1 code => str2[j] is added other wise str1[i]\n",
    "    supersequence_list: list[str] = []\n",
    "    i = j = 0\n",
    "    while i < N1 or j < N2:\n",
    "        if i < N1 and j < N2 and str1[i] == str2[j]:\n",
    "            supersequence_list.append(str1[i])\n",
    "            i, j = i + 1, j + 1\n",
    "        elif i >= N1 or (j < N2 and dp[i][j + 1] >= dp[i + 1][j]):\n",
    "            supersequence_list.append(str2[j])\n",
    "            j = j + 1\n",
    "        else:\n",
    "            supersequence_list.append(str1[i])\n",
    "            i = i + 1\n",
    "\n",
    "    return ''.join(supersequence_list)\n",
    "\n",
    "# Testing the solution\n",
    "assert len(shortestCommonSupersequenceStriver(\"abac\", \"cab\")) == 5\n",
    "assert len(shortestCommonSupersequenceStriver(\"brute\", \"groot\")) == 8"
   ]
  },
  {
   "cell_type": "markdown",
   "id": "2e842207",
   "metadata": {
    "papermill": {
     "duration": 0.017222,
     "end_time": "2024-05-19T14:23:43.622192",
     "exception": false,
     "start_time": "2024-05-19T14:23:43.604970",
     "status": "completed"
    },
    "tags": []
   },
   "source": [
    "Number of Distinct Subsequences: https://leetcode.com/problems/distinct-subsequences\n",
    "Video Link: https://youtu.be/nVG7eTiD2bY?si=aNNyhjH2VDvfErnT\n",
    "Naive Time complexity: Exponential, Space: O(M + N)"
   ]
  },
  {
   "cell_type": "code",
   "execution_count": 74,
   "id": "b80cade8",
   "metadata": {
    "execution": {
     "iopub.execute_input": "2024-05-19T14:23:43.657737Z",
     "iopub.status.busy": "2024-05-19T14:23:43.657534Z",
     "iopub.status.idle": "2024-05-19T14:23:43.661681Z",
     "shell.execute_reply": "2024-05-19T14:23:43.661272Z"
    },
    "lines_to_next_cell": 1,
    "papermill": {
     "duration": 0.023182,
     "end_time": "2024-05-19T14:23:43.662763",
     "exception": false,
     "start_time": "2024-05-19T14:23:43.639581",
     "status": "completed"
    },
    "tags": []
   },
   "outputs": [],
   "source": [
    "def numDistinctMemo(s: str, t: str) -> int:\n",
    "    @functools.cache\n",
    "    def backtrack(i: int, j: int) -> int:\n",
    "        if j >= N2:\n",
    "            return 1\n",
    "        elif i >= N1:\n",
    "            return 0\n",
    "        elif s[i] != t[j]:\n",
    "            return backtrack(i + 1, j)\n",
    "        else:\n",
    "            return backtrack(i + 1, j + 1) + backtrack(i + 1, j)\n",
    "\n",
    "    N1, N2 = len(s), len(t)\n",
    "    return backtrack(0, 0)\n",
    "\n",
    "# Testing the solution\n",
    "assert numDistinctMemo(\"babgbag\", \"bag\") == 5\n",
    "assert numDistinctMemo(\"rabbbit\", \"rabbit\") == 3"
   ]
  },
  {
   "cell_type": "code",
   "execution_count": 75,
   "id": "97af7ce5",
   "metadata": {
    "execution": {
     "iopub.execute_input": "2024-05-19T14:23:43.698465Z",
     "iopub.status.busy": "2024-05-19T14:23:43.698147Z",
     "iopub.status.idle": "2024-05-19T14:23:43.702903Z",
     "shell.execute_reply": "2024-05-19T14:23:43.702394Z"
    },
    "lines_to_next_cell": 1,
    "papermill": {
     "duration": 0.023761,
     "end_time": "2024-05-19T14:23:43.703934",
     "exception": false,
     "start_time": "2024-05-19T14:23:43.680173",
     "status": "completed"
    },
    "tags": []
   },
   "outputs": [],
   "source": [
    "def numDistinctTab(s: str, t: str) -> int:\n",
    "    N1, N2 = len(s), len(t)\n",
    "    dp: list[list[int]] = [[0 if j < N2 else 1 for j in range(N2 + 1)] for i in range(N1 + 1)]\n",
    "    for i in range(N1 - 1, -1, -1):\n",
    "        for j in range(N2 - 1, -1, -1):\n",
    "            if s[i] != t[j]:\n",
    "                dp[i][j] = dp[i + 1][j]\n",
    "            else:\n",
    "                dp[i][j] = dp[i + 1][j + 1] + dp[i + 1][j]\n",
    "\n",
    "    return dp[0][0]\n",
    "\n",
    "# Testing the solution\n",
    "assert numDistinctTab(\"babgbag\", \"bag\") == 5\n",
    "assert numDistinctTab(\"rabbbit\", \"rabbit\") == 3"
   ]
  },
  {
   "cell_type": "code",
   "execution_count": 76,
   "id": "7ac5bcf2",
   "metadata": {
    "execution": {
     "iopub.execute_input": "2024-05-19T14:23:43.739628Z",
     "iopub.status.busy": "2024-05-19T14:23:43.739316Z",
     "iopub.status.idle": "2024-05-19T14:23:43.743968Z",
     "shell.execute_reply": "2024-05-19T14:23:43.743531Z"
    },
    "lines_to_next_cell": 1,
    "papermill": {
     "duration": 0.02365,
     "end_time": "2024-05-19T14:23:43.745034",
     "exception": false,
     "start_time": "2024-05-19T14:23:43.721384",
     "status": "completed"
    },
    "tags": []
   },
   "outputs": [],
   "source": [
    "# https://leetcode.com/problems/distinct-subsequences/submissions/1258020441\n",
    "def numDistinctSpaceOptimized(s: str, t: str) -> int:\n",
    "    N1, N2 = len(s), len(t)\n",
    "    dp: list[int] = [0 if j < N2 else 1 for j in range(N2 + 1)]\n",
    "    for i in range(N1 - 1, -1, -1):\n",
    "        next_dp: list[int] = [1]\n",
    "        for j in range(N2 - 1, -1, -1):\n",
    "            if s[i] != t[j]:\n",
    "                next_dp.append(dp[j])\n",
    "            else:\n",
    "                next_dp.append(dp[j + 1] + dp[j])\n",
    "\n",
    "        next_dp.reverse()\n",
    "        dp = next_dp\n",
    "\n",
    "    return dp[0]\n",
    "\n",
    "# Testing the solution\n",
    "assert numDistinctSpaceOptimized(\"babgbag\", \"bag\") == 5\n",
    "assert numDistinctSpaceOptimized(\"rabbbit\", \"rabbit\") == 3"
   ]
  },
  {
   "cell_type": "code",
   "execution_count": 77,
   "id": "67fc3008",
   "metadata": {
    "execution": {
     "iopub.execute_input": "2024-05-19T14:23:43.780871Z",
     "iopub.status.busy": "2024-05-19T14:23:43.780448Z",
     "iopub.status.idle": "2024-05-19T14:23:43.784543Z",
     "shell.execute_reply": "2024-05-19T14:23:43.784125Z"
    },
    "lines_to_next_cell": 1,
    "papermill": {
     "duration": 0.02298,
     "end_time": "2024-05-19T14:23:43.785582",
     "exception": false,
     "start_time": "2024-05-19T14:23:43.762602",
     "status": "completed"
    },
    "tags": []
   },
   "outputs": [],
   "source": [
    "# https://leetcode.com/problems/distinct-subsequences/submissions/1258288057\n",
    "def numDistinct(s: str, t: str) -> int:\n",
    "    N1, N2 = len(s), len(t)\n",
    "    dp: list[int] = [0 if j < N2 else 1 for j in range(N2 + 1)]\n",
    "    for i in range(N1 - 1, -1, -1):\n",
    "        for j in range(N2):\n",
    "            if s[i] == t[j]:\n",
    "                dp[j] += dp[j + 1]\n",
    "\n",
    "    return dp[0]\n",
    "\n",
    "# Testing the solution\n",
    "assert numDistinct(\"babgbag\", \"bag\") == 5\n",
    "assert numDistinct(\"rabbbit\", \"rabbit\") == 3"
   ]
  },
  {
   "cell_type": "markdown",
   "id": "88f0f8ed",
   "metadata": {
    "papermill": {
     "duration": 0.017175,
     "end_time": "2024-05-19T14:23:43.820141",
     "exception": false,
     "start_time": "2024-05-19T14:23:43.802966",
     "status": "completed"
    },
    "tags": []
   },
   "source": [
    "Edit Distance\n",
    "Video Link: https://youtu.be/fJaKO8FbDdo?si=YtaIzd2Iphw_Vrlc\n",
    "Naive solution time complexity: O(3 ** N x 3 ** M), Space: O(M + N)"
   ]
  },
  {
   "cell_type": "code",
   "execution_count": 78,
   "id": "1ece6567",
   "metadata": {
    "execution": {
     "iopub.execute_input": "2024-05-19T14:23:43.855807Z",
     "iopub.status.busy": "2024-05-19T14:23:43.855441Z",
     "iopub.status.idle": "2024-05-19T14:23:43.860066Z",
     "shell.execute_reply": "2024-05-19T14:23:43.859555Z"
    },
    "lines_to_next_cell": 1,
    "papermill": {
     "duration": 0.023673,
     "end_time": "2024-05-19T14:23:43.861103",
     "exception": false,
     "start_time": "2024-05-19T14:23:43.837430",
     "status": "completed"
    },
    "tags": []
   },
   "outputs": [],
   "source": [
    "# https://leetcode.com/problems/edit-distance/submissions/1258864387/\n",
    "def editDistanceMemo(word1: str, word2: str) -> int:\n",
    "    @functools.cache\n",
    "    def backtrack(i: int, j: int) -> int:\n",
    "        if i >= N1 or j >= N2:\n",
    "            return (N1 - i) + (N2 - j)\n",
    "        elif word1[i] == word2[j]:\n",
    "            return backtrack(i + 1, j + 1)\n",
    "        else:\n",
    "            delete_op = backtrack(i + 1, j)\n",
    "            insert_op = backtrack(i, j + 1)\n",
    "            replace_op = backtrack(i + 1, j + 1)\n",
    "            return 1 + min(delete_op, insert_op, replace_op)\n",
    "\n",
    "    N1, N2 = len(word1), len(word2)\n",
    "    return backtrack(0, 0)\n",
    "\n",
    "# Testing the solution\n",
    "assert editDistanceMemo(\"horse\", \"ros\") == 3\n",
    "assert editDistanceMemo(\"intention\", \"execution\") == 5"
   ]
  },
  {
   "cell_type": "code",
   "execution_count": 79,
   "id": "a32793d7",
   "metadata": {
    "execution": {
     "iopub.execute_input": "2024-05-19T14:23:43.896700Z",
     "iopub.status.busy": "2024-05-19T14:23:43.896270Z",
     "iopub.status.idle": "2024-05-19T14:23:43.901350Z",
     "shell.execute_reply": "2024-05-19T14:23:43.900825Z"
    },
    "lines_to_next_cell": 1,
    "papermill": {
     "duration": 0.023805,
     "end_time": "2024-05-19T14:23:43.902374",
     "exception": false,
     "start_time": "2024-05-19T14:23:43.878569",
     "status": "completed"
    },
    "tags": []
   },
   "outputs": [],
   "source": [
    "def editDistanceTab(word1: str, word2: str) -> int:\n",
    "    N1, N2 = len(word1), len(word2)\n",
    "    dp: list[list[int]] = [[(N1 - i) + (N2 - j) if i >= N1 or j >= N2 else 0 for j in range(N2 + 1)] for i in range(N1 + 1)]\n",
    "    for i in range(N1 - 1, -1, -1):\n",
    "        for j in range(N2 - 1, -1, -1):\n",
    "            if word1[i] == word2[j]:\n",
    "                dp[i][j] = dp[i + 1][j + 1]\n",
    "            else:\n",
    "                dp[i][j] = 1 + min(dp[i + 1][j], dp[i][j + 1], dp[i + 1][j + 1])\n",
    "\n",
    "    return dp[0][0]\n",
    "\n",
    "# Testing the solution\n",
    "assert editDistanceTab(\"horse\", \"ros\") == 3\n",
    "assert editDistanceTab(\"intention\", \"execution\") == 5"
   ]
  },
  {
   "cell_type": "code",
   "execution_count": 80,
   "id": "5af4af2c",
   "metadata": {
    "execution": {
     "iopub.execute_input": "2024-05-19T14:23:43.937954Z",
     "iopub.status.busy": "2024-05-19T14:23:43.937641Z",
     "iopub.status.idle": "2024-05-19T14:23:43.942887Z",
     "shell.execute_reply": "2024-05-19T14:23:43.942442Z"
    },
    "lines_to_next_cell": 1,
    "papermill": {
     "duration": 0.024219,
     "end_time": "2024-05-19T14:23:43.943957",
     "exception": false,
     "start_time": "2024-05-19T14:23:43.919738",
     "status": "completed"
    },
    "tags": []
   },
   "outputs": [],
   "source": [
    "def editDistanceSpaceOptimized(word1: str, word2: str) -> int:\n",
    "    N1, N2 = len(word1), len(word2)\n",
    "    if N1 == 0 or N2 == 0:\n",
    "        return max(N1, N2)\n",
    "\n",
    "    else:\n",
    "        dp: list[int] = [N2 - j for j in range(N2 + 1)]\n",
    "        for i in range(N1 - 1, -1, -1):\n",
    "            dp[-1] = N1 - i - 1\n",
    "            next_dp: list[int] = list(dp)\n",
    "            for j in range(N2 - 1, -1, -1):\n",
    "                if word1[i] == word2[j]:\n",
    "                    next_dp[j] = dp[j + 1]\n",
    "                else:\n",
    "                    next_dp[j] = 1 + min(dp[j], dp[j + 1], next_dp[j + 1])\n",
    "\n",
    "            dp = next_dp\n",
    "\n",
    "        return dp[0]\n",
    "\n",
    "# Testing the solution\n",
    "assert editDistanceSpaceOptimized(\"horse\", \"ros\") == 3\n",
    "assert editDistanceSpaceOptimized(\"intention\", \"execution\") == 5"
   ]
  },
  {
   "cell_type": "markdown",
   "id": "06a1202d",
   "metadata": {
    "papermill": {
     "duration": 0.01726,
     "end_time": "2024-05-19T14:23:43.978494",
     "exception": false,
     "start_time": "2024-05-19T14:23:43.961234",
     "status": "completed"
    },
    "tags": []
   },
   "source": [
    "Video Link: https://youtu.be/ZmlQ3vgAOMo?si=E_X4r10aFkD_A9Nn\n",
    "Wildcard Matching"
   ]
  },
  {
   "cell_type": "code",
   "execution_count": 81,
   "id": "fc9c33aa",
   "metadata": {
    "execution": {
     "iopub.execute_input": "2024-05-19T14:23:44.014398Z",
     "iopub.status.busy": "2024-05-19T14:23:44.013889Z",
     "iopub.status.idle": "2024-05-19T14:23:44.019466Z",
     "shell.execute_reply": "2024-05-19T14:23:44.019025Z"
    },
    "lines_to_next_cell": 1,
    "papermill": {
     "duration": 0.024564,
     "end_time": "2024-05-19T14:23:44.020539",
     "exception": false,
     "start_time": "2024-05-19T14:23:43.995975",
     "status": "completed"
    },
    "tags": []
   },
   "outputs": [],
   "source": [
    "def isMatchMemo(s: str, p: str) -> bool:\n",
    "    @functools.cache\n",
    "    def backtrack(i: int, j: int) -> bool:\n",
    "        if i >= N1 and j >= N2:\n",
    "            return True\n",
    "        elif i >= N1 or j >= N2:\n",
    "            return False\n",
    "        elif s[i] == p[j] or p[j] == '?':\n",
    "            return backtrack(i + 1, j + 1)\n",
    "        elif p[j] == '*':\n",
    "            # consume s[i] or don't consume s[i]\n",
    "            return backtrack(i + 1, j) or backtrack(i, j + 1)\n",
    "        else:\n",
    "            return False\n",
    "\n",
    "    s, p = s + '$', p + '$'\n",
    "    N1, N2 = len(s), len(p)\n",
    "    return backtrack(0, 0)\n",
    "\n",
    "# Testing the solution\n",
    "assert isMatchMemo(\"d\", \"*d\") == True\n",
    "assert isMatchMemo(\"abacd\", \"*c?\") == True\n",
    "assert isMatchMemo(\"aa\", \"*\") == True\n",
    "assert isMatchMemo(\"cb\", \"?a\") == False\n",
    "assert isMatchMemo(\"cb\", \"?a\") == False\n",
    "assert isMatchMemo(\"abcabczzzde\", \"*abc???de*\") == True\n",
    "assert isMatchMemo(\"aaa\", \"***a\") == True"
   ]
  },
  {
   "cell_type": "code",
   "execution_count": 82,
   "id": "66694128",
   "metadata": {
    "execution": {
     "iopub.execute_input": "2024-05-19T14:23:44.056594Z",
     "iopub.status.busy": "2024-05-19T14:23:44.056142Z",
     "iopub.status.idle": "2024-05-19T14:23:44.061783Z",
     "shell.execute_reply": "2024-05-19T14:23:44.061338Z"
    },
    "lines_to_next_cell": 1,
    "papermill": {
     "duration": 0.024664,
     "end_time": "2024-05-19T14:23:44.062853",
     "exception": false,
     "start_time": "2024-05-19T14:23:44.038189",
     "status": "completed"
    },
    "tags": []
   },
   "outputs": [],
   "source": [
    "def isMatchTab(s: str, p: str) -> bool:\n",
    "    s, p = s + '$', p + '$'\n",
    "    N1, N2 = len(s), len(p)\n",
    "    dp: list[list[bool]] = [[True if i >= N1 and j >= N2 else False for j in range(N2 + 1)] for i in range(N1 + 1)]\n",
    "    for i in range(N1 - 1, -1, -1):\n",
    "        for j in range(N2 - 1, -1, -1):\n",
    "            if s[i] == p[j] or p[j] == '?':\n",
    "                dp[i][j] = dp[i + 1][j + 1]\n",
    "            elif p[j] == '*':\n",
    "                dp[i][j] = dp[i + 1][j] or dp[i][j + 1]\n",
    "            else:\n",
    "                dp[i][j] = False\n",
    "\n",
    "    return dp[0][0]\n",
    "\n",
    "# Testing the solution\n",
    "assert isMatchTab(\"abacd\", \"*c?\") == True\n",
    "assert isMatchTab(\"abcabczzzde\", \"*abc???de*\") == True\n",
    "assert isMatchTab(\"aaa\", \"***?\") == True"
   ]
  },
  {
   "cell_type": "code",
   "execution_count": 83,
   "id": "1803ba8d",
   "metadata": {
    "execution": {
     "iopub.execute_input": "2024-05-19T14:23:44.098484Z",
     "iopub.status.busy": "2024-05-19T14:23:44.098283Z",
     "iopub.status.idle": "2024-05-19T14:23:44.103481Z",
     "shell.execute_reply": "2024-05-19T14:23:44.103040Z"
    },
    "lines_to_next_cell": 1,
    "papermill": {
     "duration": 0.024177,
     "end_time": "2024-05-19T14:23:44.104499",
     "exception": false,
     "start_time": "2024-05-19T14:23:44.080322",
     "status": "completed"
    },
    "tags": []
   },
   "outputs": [],
   "source": [
    "# https://leetcode.com/problems/wildcard-matching/submissions/1259222651\n",
    "def isMatch(s: str, p: str) -> bool:\n",
    "    s, p = s + '$', p + '$'\n",
    "    N1, N2 = len(s), len(p)\n",
    "    dp: list[bool] = [True if j >= N2 else False for j in range(N2 + 1)]\n",
    "    for i in range(N1 - 1, -1, -1):\n",
    "        next_dp: list[bool] = list(dp)\n",
    "        for j in range(N2 - 1, -1, -1):\n",
    "            if s[i] == p[j] or p[j] == '?':\n",
    "                next_dp[j] = dp[j + 1]\n",
    "            elif p[j] == '*':\n",
    "                next_dp[j] = dp[j] or next_dp[j + 1]\n",
    "            else:\n",
    "                next_dp[j] = False\n",
    "\n",
    "        dp = next_dp\n",
    "\n",
    "    return dp[0]\n",
    "\n",
    "# Testing the solution\n",
    "assert isMatch(\"abacd\", \"*c?\") == True\n",
    "assert isMatch(\"abcabczzzde\", \"*abc???de*\") == True\n",
    "assert isMatch(\"aaa\", \"***?\") == True"
   ]
  },
  {
   "cell_type": "markdown",
   "id": "0af9e13b",
   "metadata": {
    "papermill": {
     "duration": 0.017475,
     "end_time": "2024-05-19T14:23:44.139419",
     "exception": false,
     "start_time": "2024-05-19T14:23:44.121944",
     "status": "completed"
    },
    "tags": []
   },
   "source": [
    "Best time to buy and sell stocks - II\n",
    "Video Link: https://youtu.be/nGJmxkUJQGs?si=xgX1LFznD2IAPCJ7"
   ]
  },
  {
   "cell_type": "code",
   "execution_count": 84,
   "id": "0b5303c1",
   "metadata": {
    "execution": {
     "iopub.execute_input": "2024-05-19T14:23:44.175080Z",
     "iopub.status.busy": "2024-05-19T14:23:44.174575Z",
     "iopub.status.idle": "2024-05-19T14:23:44.179579Z",
     "shell.execute_reply": "2024-05-19T14:23:44.179035Z"
    },
    "lines_to_next_cell": 1,
    "papermill": {
     "duration": 0.024051,
     "end_time": "2024-05-19T14:23:44.180684",
     "exception": false,
     "start_time": "2024-05-19T14:23:44.156633",
     "status": "completed"
    },
    "tags": []
   },
   "outputs": [],
   "source": [
    "def stocks1Memo(prices: list[int]) -> int:\n",
    "    @functools.cache\n",
    "    def backtrack(i: int, inventory: int) -> int:\n",
    "        if i == N:\n",
    "            return 0\n",
    "        elif inventory == -1:\n",
    "            return max(backtrack(i + 1, i), backtrack(i + 1, -1))\n",
    "        else:\n",
    "            return max(prices[i] - prices[inventory] + backtrack(i + 1, -1), backtrack(i + 1, inventory))\n",
    "\n",
    "    N = len(prices)\n",
    "    return backtrack(0, -1)\n",
    "\n",
    "# Testing the solution\n",
    "assert stocks1Memo([7,1,5,3,6,4]) == 7\n",
    "assert stocks1Memo([1,2,3,4,5]) == 4\n",
    "assert stocks1Memo([7,6,4,3,1]) == 0"
   ]
  },
  {
   "cell_type": "code",
   "execution_count": 85,
   "id": "b24f5c40",
   "metadata": {
    "execution": {
     "iopub.execute_input": "2024-05-19T14:23:44.216544Z",
     "iopub.status.busy": "2024-05-19T14:23:44.216209Z",
     "iopub.status.idle": "2024-05-19T14:23:44.221599Z",
     "shell.execute_reply": "2024-05-19T14:23:44.221164Z"
    },
    "lines_to_next_cell": 1,
    "papermill": {
     "duration": 0.024382,
     "end_time": "2024-05-19T14:23:44.222614",
     "exception": false,
     "start_time": "2024-05-19T14:23:44.198232",
     "status": "completed"
    },
    "tags": []
   },
   "outputs": [],
   "source": [
    "# Striver's approach\n",
    "def stocks1StriverMemo(prices: list[int]) -> int:\n",
    "    @functools.cache\n",
    "    def backtrack(i: int, inventory: bool) -> int:\n",
    "        if i == N:\n",
    "            return 0\n",
    "        elif not inventory: # No stock previously purchased: buy or not buy\n",
    "            return max(-prices[i] + backtrack(i + 1, True), backtrack(i + 1, False))\n",
    "        else: # Stock already exists: sell or hold stock\n",
    "            return max(prices[i] + backtrack(i + 1, False), backtrack(i + 1, True))\n",
    "\n",
    "    N = len(prices)\n",
    "    return backtrack(0, False)\n",
    "\n",
    "# Testing the solution\n",
    "assert stocks1StriverMemo([7,1,5,3,6,4]) == 7\n",
    "assert stocks1StriverMemo([1,2,3,4,5]) == 4\n",
    "assert stocks1StriverMemo([7,6,4,3,1]) == 0"
   ]
  },
  {
   "cell_type": "code",
   "execution_count": 86,
   "id": "6e752e9f",
   "metadata": {
    "execution": {
     "iopub.execute_input": "2024-05-19T14:23:44.258551Z",
     "iopub.status.busy": "2024-05-19T14:23:44.258117Z",
     "iopub.status.idle": "2024-05-19T14:23:44.263536Z",
     "shell.execute_reply": "2024-05-19T14:23:44.263089Z"
    },
    "lines_to_next_cell": 1,
    "papermill": {
     "duration": 0.024385,
     "end_time": "2024-05-19T14:23:44.264552",
     "exception": false,
     "start_time": "2024-05-19T14:23:44.240167",
     "status": "completed"
    },
    "tags": []
   },
   "outputs": [],
   "source": [
    "def stocks1Tab(prices: list[int]) -> int:\n",
    "    N = len(prices)\n",
    "    dp: list[list[int]] = [[0 for j in range(2)] for i in range(N + 1)]\n",
    "    for i in range(N - 1, -1, -1):\n",
    "        for j in range(1, -1, -1):\n",
    "            if j == 0:\n",
    "                dp[i][j] = max(-prices[i] + dp[i + 1][1], dp[i + 1][0])\n",
    "            else:\n",
    "                dp[i][j] = max(prices[i] + dp[i + 1][0], dp[i + 1][1])\n",
    "\n",
    "    return dp[0][0]\n",
    "\n",
    "# Testing the solution\n",
    "assert stocks1Tab([7,1,5,3,6,4]) == 7\n",
    "assert stocks1Tab([1,2,3,4,5]) == 4\n",
    "assert stocks1Tab([7,6,4,3,1]) == 0"
   ]
  },
  {
   "cell_type": "code",
   "execution_count": 87,
   "id": "32c0e187",
   "metadata": {
    "execution": {
     "iopub.execute_input": "2024-05-19T14:23:44.300024Z",
     "iopub.status.busy": "2024-05-19T14:23:44.299862Z",
     "iopub.status.idle": "2024-05-19T14:23:44.304562Z",
     "shell.execute_reply": "2024-05-19T14:23:44.304127Z"
    },
    "lines_to_next_cell": 1,
    "papermill": {
     "duration": 0.023616,
     "end_time": "2024-05-19T14:23:44.305595",
     "exception": false,
     "start_time": "2024-05-19T14:23:44.281979",
     "status": "completed"
    },
    "tags": []
   },
   "outputs": [],
   "source": [
    "# https://leetcode.com/problems/best-time-to-buy-and-sell-stock-ii/submissions/1259669260\n",
    "def stocks1(prices: list[int]) -> int:\n",
    "    N = len(prices)\n",
    "    dp: list[int] = [0 for j in range(2)]\n",
    "    for i in range(N - 1, -1, -1):\n",
    "        for j in range(1, -1, -1):\n",
    "            if j == 0:\n",
    "                dp[j] = max(-prices[i] + dp[1], dp[0])\n",
    "            else:\n",
    "                dp[j] = max(prices[i] + dp[0], dp[1])\n",
    "\n",
    "    return dp[0]\n",
    "\n",
    "# Testing the solution\n",
    "assert stocks1([7,1,5,3,6,4]) == 7\n",
    "assert stocks1([1,2,3,4,5]) == 4\n",
    "assert stocks1([7,6,4,3,1]) == 0"
   ]
  },
  {
   "cell_type": "markdown",
   "id": "f99546d3",
   "metadata": {
    "papermill": {
     "duration": 0.017406,
     "end_time": "2024-05-19T14:23:44.340333",
     "exception": false,
     "start_time": "2024-05-19T14:23:44.322927",
     "status": "completed"
    },
    "tags": []
   },
   "source": [
    "Video Link: https://youtu.be/-uQGzhYj8BQ?si=-Ps8pCdPtuWjuTQZ\n",
    "Buy and Sell Stocks - III: https://leetcode.com/problems/best-time-to-buy-and-sell-stock-iii/"
   ]
  },
  {
   "cell_type": "code",
   "execution_count": 88,
   "id": "8939c406",
   "metadata": {
    "execution": {
     "iopub.execute_input": "2024-05-19T14:23:44.376074Z",
     "iopub.status.busy": "2024-05-19T14:23:44.375604Z",
     "iopub.status.idle": "2024-05-19T14:23:44.380448Z",
     "shell.execute_reply": "2024-05-19T14:23:44.380038Z"
    },
    "lines_to_next_cell": 1,
    "papermill": {
     "duration": 0.023794,
     "end_time": "2024-05-19T14:23:44.381502",
     "exception": false,
     "start_time": "2024-05-19T14:23:44.357708",
     "status": "completed"
    },
    "tags": []
   },
   "outputs": [],
   "source": [
    "def stocks2Memo(prices: list[int]) -> int:\n",
    "    \"\"\"\n",
    "    0 - Start\n",
    "    1 - Buy 1\n",
    "    2 - Sell 1\n",
    "    3 - Buy 2\n",
    "    4 - Sell 2\n",
    "    \"\"\"\n",
    "    @functools.cache\n",
    "    def backtrack(i: int, j: int) -> int:\n",
    "        if i == N or j == 4:\n",
    "            return 0\n",
    "        elif j % 2 == 0: # Not holding any stock: buy / not buy\n",
    "            return max(-prices[i] + backtrack(i + 1, j + 1), backtrack(i + 1, j))\n",
    "        else:\n",
    "            return max(prices[i] + backtrack(i + 1, j + 1), backtrack(i + 1, j))\n",
    "\n",
    "    N = len(prices)\n",
    "    return backtrack(0, 0)\n",
    "\n",
    "# Testing the solution\n",
    "assert stocks2Memo([3,3,5,0,0,3,1,4]) == 6\n",
    "assert stocks2Memo([1,2,3,4,5]) == 4\n",
    "assert stocks2Memo([7,6,4,3,1]) == 0"
   ]
  },
  {
   "cell_type": "code",
   "execution_count": 89,
   "id": "4f33510b",
   "metadata": {
    "execution": {
     "iopub.execute_input": "2024-05-19T14:23:44.417503Z",
     "iopub.status.busy": "2024-05-19T14:23:44.417117Z",
     "iopub.status.idle": "2024-05-19T14:23:44.422328Z",
     "shell.execute_reply": "2024-05-19T14:23:44.421790Z"
    },
    "lines_to_next_cell": 1,
    "papermill": {
     "duration": 0.024271,
     "end_time": "2024-05-19T14:23:44.423327",
     "exception": false,
     "start_time": "2024-05-19T14:23:44.399056",
     "status": "completed"
    },
    "tags": []
   },
   "outputs": [],
   "source": [
    "def stocks2Tab(prices: list[int]) -> int:\n",
    "    N = len(prices)\n",
    "    dp: list[list[int]] = [[0 for j in range(5)] for i in range(N + 1)]\n",
    "    for i in range(N - 1, -1, -1):\n",
    "        for j in range(3, -1, -1):\n",
    "            if j % 2 == 0: # Not holding any stock: buy / not buy\n",
    "                dp[i][j] = max(-prices[i] + dp[i + 1][j + 1], dp[i + 1][j])\n",
    "            else:\n",
    "                dp[i][j] = max(prices[i] + dp[i + 1][j + 1], dp[i + 1][j])\n",
    "\n",
    "    return dp[0][0]\n",
    "\n",
    "# Testing the solution\n",
    "assert stocks2Tab([3,3,5,0,0,3,1,4]) == 6\n",
    "assert stocks2Tab([1,2,3,4,5]) == 4\n",
    "assert stocks2Tab([7,6,4,3,1]) == 0"
   ]
  },
  {
   "cell_type": "code",
   "execution_count": 90,
   "id": "2d27ea1d",
   "metadata": {
    "execution": {
     "iopub.execute_input": "2024-05-19T14:23:44.458984Z",
     "iopub.status.busy": "2024-05-19T14:23:44.458618Z",
     "iopub.status.idle": "2024-05-19T14:23:44.463535Z",
     "shell.execute_reply": "2024-05-19T14:23:44.463004Z"
    },
    "lines_to_next_cell": 1,
    "papermill": {
     "duration": 0.023911,
     "end_time": "2024-05-19T14:23:44.464612",
     "exception": false,
     "start_time": "2024-05-19T14:23:44.440701",
     "status": "completed"
    },
    "tags": []
   },
   "outputs": [],
   "source": [
    "# https://leetcode.com/problems/best-time-to-buy-and-sell-stock-iii/submissions/1259699363\n",
    "def stocks2(prices: list[int]) -> int:\n",
    "    N = len(prices)\n",
    "    dp: list[int] = [0 for j in range(5)]\n",
    "    for i in range(N - 1, -1, -1):\n",
    "        for j in range(3, -1, -1):\n",
    "            if j % 2 == 0: # Not holding any stock: buy / not buy\n",
    "                dp[j] = max(-prices[i] + dp[j + 1], dp[j])\n",
    "            else:\n",
    "                dp[j] = max(prices[i] + dp[j + 1], dp[j])\n",
    "\n",
    "    return dp[0]\n",
    "\n",
    "# Testing the solution\n",
    "assert stocks2([3,3,5,0,0,3,1,4]) == 6\n",
    "assert stocks2([1,2,3,4,5]) == 4\n",
    "assert stocks2([7,6,4,3,1]) == 0"
   ]
  },
  {
   "cell_type": "markdown",
   "id": "3105a916",
   "metadata": {
    "papermill": {
     "duration": 0.01734,
     "end_time": "2024-05-19T14:23:44.499446",
     "exception": false,
     "start_time": "2024-05-19T14:23:44.482106",
     "status": "completed"
    },
    "tags": []
   },
   "source": [
    "Best time to buy and sell stocks - IV\n",
    "Video Link: https://youtu.be/IV1dHbk5CDc?si=zvqGmxYAZN10-UGg"
   ]
  },
  {
   "cell_type": "code",
   "execution_count": 91,
   "id": "9619fbbe",
   "metadata": {
    "execution": {
     "iopub.execute_input": "2024-05-19T14:23:44.535722Z",
     "iopub.status.busy": "2024-05-19T14:23:44.535170Z",
     "iopub.status.idle": "2024-05-19T14:23:44.540147Z",
     "shell.execute_reply": "2024-05-19T14:23:44.539704Z"
    },
    "lines_to_next_cell": 1,
    "papermill": {
     "duration": 0.024267,
     "end_time": "2024-05-19T14:23:44.541206",
     "exception": false,
     "start_time": "2024-05-19T14:23:44.516939",
     "status": "completed"
    },
    "tags": []
   },
   "outputs": [],
   "source": [
    "# Minor update on the previous problem\n",
    "def stocks3(k: int, prices: list[int]) -> int:\n",
    "    N = len(prices)\n",
    "    max_transaction = 2 * k\n",
    "    dp: list[int] = [0 for j in range(max_transaction + 1)]\n",
    "    for i in range(N - 1, -1, -1):\n",
    "        for j in range(max_transaction - 1, -1, -1):\n",
    "            if j % 2 == 0: # Not holding any stock: buy / not buy\n",
    "                dp[j] = max(-prices[i] + dp[j + 1], dp[j])\n",
    "            else:\n",
    "                dp[j] = max(prices[i] + dp[j + 1], dp[j])\n",
    "\n",
    "    return dp[0]\n",
    "\n",
    "# Testing the solution\n",
    "assert stocks3(2, [2,4,1]) == 2\n",
    "assert stocks3(2, [3,2,6,5,0,3]) == 7"
   ]
  },
  {
   "cell_type": "code",
   "execution_count": 92,
   "id": "317bdab8",
   "metadata": {
    "execution": {
     "iopub.execute_input": "2024-05-19T14:23:44.577321Z",
     "iopub.status.busy": "2024-05-19T14:23:44.576936Z",
     "iopub.status.idle": "2024-05-19T14:23:44.581704Z",
     "shell.execute_reply": "2024-05-19T14:23:44.581287Z"
    },
    "lines_to_next_cell": 1,
    "papermill": {
     "duration": 0.023941,
     "end_time": "2024-05-19T14:23:44.582792",
     "exception": false,
     "start_time": "2024-05-19T14:23:44.558851",
     "status": "completed"
    },
    "tags": []
   },
   "outputs": [],
   "source": [
    "# Let's try striver's approach of using a 3D array\n",
    "def stocks3StriverMemo(k: int, prices: list[int]) -> int:\n",
    "    @functools.cache\n",
    "    def backtrack(i: int, inventory: bool, count: int) -> int:\n",
    "        if i == N or count == k:\n",
    "            return 0\n",
    "        elif not inventory: # Not holding any stock\n",
    "            return max(-prices[i] + backtrack(i + 1, True, count), backtrack(i + 1, False, count))\n",
    "        else:\n",
    "            return max(prices[i] + backtrack(i + 1, False, count + 1), backtrack(i + 1, True, count))\n",
    "\n",
    "    N = len(prices)\n",
    "    return backtrack(0, 0, 0)\n",
    "\n",
    "# Testing the solution\n",
    "assert stocks3StriverMemo(2, [2,4,1]) == 2\n",
    "assert stocks3StriverMemo(2, [3,2,6,5,0,3]) == 7"
   ]
  },
  {
   "cell_type": "code",
   "execution_count": 93,
   "id": "a04d3d04",
   "metadata": {
    "execution": {
     "iopub.execute_input": "2024-05-19T14:23:44.619052Z",
     "iopub.status.busy": "2024-05-19T14:23:44.618539Z",
     "iopub.status.idle": "2024-05-19T14:23:44.624231Z",
     "shell.execute_reply": "2024-05-19T14:23:44.623762Z"
    },
    "lines_to_next_cell": 1,
    "papermill": {
     "duration": 0.024931,
     "end_time": "2024-05-19T14:23:44.625347",
     "exception": false,
     "start_time": "2024-05-19T14:23:44.600416",
     "status": "completed"
    },
    "tags": []
   },
   "outputs": [],
   "source": [
    "def stocks3StriverTab(K: int, prices: list[int]) -> int:\n",
    "    N = len(prices)\n",
    "    dp: list[list[list[int]]] = [[[0 for count in range(K + 1)] for j in range(2)] for i in range(N + 1)]\n",
    "    for i in range(N - 1, -1, -1):\n",
    "        for j in range(1, -1, -1):\n",
    "            for count in range(K - 1, -1, -1):\n",
    "                if j == 0:\n",
    "                    dp[i][j][count] = max(-prices[i] + dp[i + 1][1][count], dp[i + 1][0][count])\n",
    "                else:\n",
    "                    dp[i][j][count] = max(prices[i] + dp[i + 1][0][count + 1], dp[i + 1][1][count])\n",
    "\n",
    "    return dp[0][0][0]\n",
    "\n",
    "# Testing the solution\n",
    "assert stocks3StriverTab(2, [2,4,1]) == 2\n",
    "assert stocks3StriverTab(2, [3,2,6,5,0,3]) == 7"
   ]
  },
  {
   "cell_type": "code",
   "execution_count": 94,
   "id": "f4b496e3",
   "metadata": {
    "execution": {
     "iopub.execute_input": "2024-05-19T14:23:44.661459Z",
     "iopub.status.busy": "2024-05-19T14:23:44.661115Z",
     "iopub.status.idle": "2024-05-19T14:23:44.666362Z",
     "shell.execute_reply": "2024-05-19T14:23:44.665879Z"
    },
    "lines_to_next_cell": 1,
    "papermill": {
     "duration": 0.024305,
     "end_time": "2024-05-19T14:23:44.667383",
     "exception": false,
     "start_time": "2024-05-19T14:23:44.643078",
     "status": "completed"
    },
    "tags": []
   },
   "outputs": [],
   "source": [
    "def stocks3Striver(K: int, prices: list[int]) -> int:\n",
    "    N = len(prices)\n",
    "    dp: list[list[int]] = [[0 for count in range(K + 1)] for j in range(2)]\n",
    "    for i in range(N - 1, -1, -1):\n",
    "        for j in range(1, -1, -1):\n",
    "            for count in range(K - 1, -1, -1):\n",
    "                if j == 0:\n",
    "                    dp[j][count] = max(-prices[i] + dp[1][count], dp[0][count])\n",
    "                else:\n",
    "                    dp[j][count] = max(prices[i] + dp[0][count + 1], dp[1][count])\n",
    "\n",
    "    return dp[0][0]\n",
    "\n",
    "# Testing the solution\n",
    "assert stocks3Striver(2, [2,4,1]) == 2\n",
    "assert stocks3Striver(2, [3,2,6,5,0,3]) == 7"
   ]
  },
  {
   "cell_type": "markdown",
   "id": "6d856ff6",
   "metadata": {
    "papermill": {
     "duration": 0.017475,
     "end_time": "2024-05-19T14:23:44.702290",
     "exception": false,
     "start_time": "2024-05-19T14:23:44.684815",
     "status": "completed"
    },
    "tags": []
   },
   "source": [
    "Video link: https://youtu.be/IGIe46xw3YY?si=B0IUJM2GtIGVlq7D\n",
    "Best time to buy and sell stock with cooldown"
   ]
  },
  {
   "cell_type": "code",
   "execution_count": 95,
   "id": "d8063cf8",
   "metadata": {
    "execution": {
     "iopub.execute_input": "2024-05-19T14:23:44.738446Z",
     "iopub.status.busy": "2024-05-19T14:23:44.738060Z",
     "iopub.status.idle": "2024-05-19T14:23:44.743519Z",
     "shell.execute_reply": "2024-05-19T14:23:44.743000Z"
    },
    "lines_to_next_cell": 1,
    "papermill": {
     "duration": 0.024889,
     "end_time": "2024-05-19T14:23:44.744641",
     "exception": false,
     "start_time": "2024-05-19T14:23:44.719752",
     "status": "completed"
    },
    "tags": []
   },
   "outputs": [],
   "source": [
    "# Copy pasting code from stocks II, when selling do a i + 2 instead of i + 1\n",
    "def stocksWithCooldownTab(prices: list[int]) -> int:\n",
    "    N = len(prices)\n",
    "    dp: list[list[int]] = [[0 for j in range(2)] for i in range(N + 2)]\n",
    "    for i in range(N - 1, -1, -1):\n",
    "        for j in range(1, -1, -1):\n",
    "            if j == 0:\n",
    "                dp[i][j] = max(-prices[i] + dp[i + 1][1], dp[i + 1][0])\n",
    "            else:\n",
    "                dp[i][j] = max(prices[i] + dp[i + 2][0], dp[i + 1][1])\n",
    "\n",
    "    return dp[0][0]\n",
    "\n",
    "# Testing the solution\n",
    "assert stocksWithCooldownTab([1,2,3,0,2]) == 3\n",
    "assert stocksWithCooldownTab([1,2,2,3,1,2,3,3,1,2,3,4,1,2,3,1,2,3,2,2,3,4,1,23,2,23]) == 31"
   ]
  },
  {
   "cell_type": "code",
   "execution_count": 96,
   "id": "0f414ee0",
   "metadata": {
    "execution": {
     "iopub.execute_input": "2024-05-19T14:23:44.780394Z",
     "iopub.status.busy": "2024-05-19T14:23:44.779995Z",
     "iopub.status.idle": "2024-05-19T14:23:44.785049Z",
     "shell.execute_reply": "2024-05-19T14:23:44.784538Z"
    },
    "lines_to_next_cell": 1,
    "papermill": {
     "duration": 0.023933,
     "end_time": "2024-05-19T14:23:44.786038",
     "exception": false,
     "start_time": "2024-05-19T14:23:44.762105",
     "status": "completed"
    },
    "tags": []
   },
   "outputs": [],
   "source": [
    "def stocksWithCooldown(prices: list[int]) -> int:\n",
    "    N = len(prices)\n",
    "    dp: list[int] = [0 for j in range(2)]\n",
    "    next_dp: list[int] = [0 for j in range(2)]\n",
    "    for i in range(N - 1, -1, -1):\n",
    "        temp = list(dp)\n",
    "        for j in range(1, -1, -1):\n",
    "            if j == 0:\n",
    "                dp[j] = max(-prices[i] + dp[1], dp[0])\n",
    "            else:\n",
    "                dp[j] = max(prices[i] + next_dp[0], dp[1])\n",
    "        next_dp = temp\n",
    "\n",
    "    return dp[0]\n",
    "\n",
    "# Testing the solution\n",
    "assert stocksWithCooldown([1,2,3,0,2]) == 3\n",
    "assert stocksWithCooldown([1,2,2,3,1,2,3,3,1,2,3,4,1,2,3,1,2,3,2,2,3,4,1,23,2,23]) == 31"
   ]
  },
  {
   "cell_type": "markdown",
   "id": "ba9b90d0",
   "metadata": {
    "papermill": {
     "duration": 0.017374,
     "end_time": "2024-05-19T14:23:44.820859",
     "exception": false,
     "start_time": "2024-05-19T14:23:44.803485",
     "status": "completed"
    },
    "tags": []
   },
   "source": [
    "Video link: https://youtu.be/k4eK-vEmnKg?si=-J8puY5S-kGzz_uT\n",
    "Buy and sell stocks with transaction fee"
   ]
  },
  {
   "cell_type": "code",
   "execution_count": 97,
   "id": "31f18961",
   "metadata": {
    "execution": {
     "iopub.execute_input": "2024-05-19T14:23:44.863670Z",
     "iopub.status.busy": "2024-05-19T14:23:44.863237Z",
     "iopub.status.idle": "2024-05-19T14:23:44.869092Z",
     "shell.execute_reply": "2024-05-19T14:23:44.868567Z"
    },
    "lines_to_next_cell": 1,
    "papermill": {
     "duration": 0.031706,
     "end_time": "2024-05-19T14:23:44.870232",
     "exception": false,
     "start_time": "2024-05-19T14:23:44.838526",
     "status": "completed"
    },
    "tags": []
   },
   "outputs": [],
   "source": [
    "def stocksWithTranFeeMemo(prices: list[int], fee: int) -> int:\n",
    "    @functools.cache\n",
    "    def backtrack(i: int, inventory: bool) -> int:\n",
    "        if i == N:\n",
    "            return 0\n",
    "        elif not inventory:\n",
    "            return max(-prices[i] + backtrack(i + 1, True), backtrack(i + 1, False))\n",
    "        else:\n",
    "            return max(prices[i] + backtrack(i + 1, False) - fee, backtrack(i + 1, True))\n",
    "\n",
    "    N = len(prices)\n",
    "    return backtrack(0, False)\n",
    "\n",
    "# Testing the solution\n",
    "assert stocksWithTranFeeMemo([1,3,2,8,4,9], 2) == 8\n",
    "assert stocksWithTranFeeMemo([1,3,7,5,10,3], 3) == 6"
   ]
  },
  {
   "cell_type": "code",
   "execution_count": 98,
   "id": "ebfef8d3",
   "metadata": {
    "execution": {
     "iopub.execute_input": "2024-05-19T14:23:44.912790Z",
     "iopub.status.busy": "2024-05-19T14:23:44.912339Z",
     "iopub.status.idle": "2024-05-19T14:23:44.917812Z",
     "shell.execute_reply": "2024-05-19T14:23:44.917272Z"
    },
    "lines_to_next_cell": 1,
    "papermill": {
     "duration": 0.029,
     "end_time": "2024-05-19T14:23:44.918991",
     "exception": false,
     "start_time": "2024-05-19T14:23:44.889991",
     "status": "completed"
    },
    "tags": []
   },
   "outputs": [],
   "source": [
    "def stocksWithTranFeeTab(prices: list[int], fee: int) -> int:\n",
    "    N = len(prices)\n",
    "    dp: list[list[int]] = [[0 for j in range(2)] for i in range(N + 1)]\n",
    "    for i in range(N - 1, -1, -1):\n",
    "        for j in range(2):\n",
    "            if not j:\n",
    "                dp[i][j] = max(-prices[i] + dp[i + 1][1], dp[i + 1][0])\n",
    "            else:\n",
    "                dp[i][j] = max(prices[i] + dp[i + 1][0] - fee, dp[i + 1][1])\n",
    "\n",
    "    return dp[0][0]\n",
    "\n",
    "# Testing the solution\n",
    "assert stocksWithTranFeeTab([1,3,2,8,4,9], 2) == 8\n",
    "assert stocksWithTranFeeTab([1,3,7,5,10,3], 3) == 6"
   ]
  },
  {
   "cell_type": "code",
   "execution_count": 99,
   "id": "4ca839d1",
   "metadata": {
    "execution": {
     "iopub.execute_input": "2024-05-19T14:23:44.957752Z",
     "iopub.status.busy": "2024-05-19T14:23:44.957152Z",
     "iopub.status.idle": "2024-05-19T14:23:44.962545Z",
     "shell.execute_reply": "2024-05-19T14:23:44.961990Z"
    },
    "lines_to_next_cell": 1,
    "papermill": {
     "duration": 0.026065,
     "end_time": "2024-05-19T14:23:44.963671",
     "exception": false,
     "start_time": "2024-05-19T14:23:44.937606",
     "status": "completed"
    },
    "tags": []
   },
   "outputs": [],
   "source": [
    "# https://leetcode.com/problems/best-time-to-buy-and-sell-stock-with-transaction-fee/submissions/1260096941\n",
    "def stocksWithTranFee(prices: list[int], fee: int) -> int:\n",
    "    \"\"\"\n",
    "    Can simplify the inner loop since we are always checking for case where\n",
    "    we are holding stock and not holding stock.\n",
    "    \"\"\"\n",
    "    N = len(prices)\n",
    "    dp: list[int] = [0 for j in range(2)]\n",
    "    for i in range(N - 1, -1, -1):\n",
    "        dp[0] = max(-prices[i] + dp[1], dp[0])\n",
    "        dp[1] = max(prices[i] + dp[0] - fee, dp[1])\n",
    "\n",
    "    return dp[0]\n",
    "\n",
    "# Testing the solution\n",
    "assert stocksWithTranFee([1,3,2,8,4,9], 2) == 8\n",
    "assert stocksWithTranFee([1,3,7,5,3,3], 10) == 0"
   ]
  },
  {
   "cell_type": "markdown",
   "id": "5c9cb929",
   "metadata": {
    "papermill": {
     "duration": 0.020886,
     "end_time": "2024-05-19T14:23:45.005423",
     "exception": false,
     "start_time": "2024-05-19T14:23:44.984537",
     "status": "completed"
    },
    "tags": []
   },
   "source": [
    "Longest increasing subsequence\n",
    "Video link: https://youtu.be/ekcwMsSIzVc?si=53GtUk_ZTJC3oDDc"
   ]
  },
  {
   "cell_type": "code",
   "execution_count": 100,
   "id": "1a46c49e",
   "metadata": {
    "execution": {
     "iopub.execute_input": "2024-05-19T14:23:45.054762Z",
     "iopub.status.busy": "2024-05-19T14:23:45.054329Z",
     "iopub.status.idle": "2024-05-19T14:23:45.059345Z",
     "shell.execute_reply": "2024-05-19T14:23:45.058907Z"
    },
    "lines_to_next_cell": 1,
    "papermill": {
     "duration": 0.026677,
     "end_time": "2024-05-19T14:23:45.060582",
     "exception": false,
     "start_time": "2024-05-19T14:23:45.033905",
     "status": "completed"
    },
    "tags": []
   },
   "outputs": [],
   "source": [
    "def lengthOfLISMemo(nums: list[int]) -> int:\n",
    "    \"\"\"\n",
    "    In striver's video, instead of stroing the max_, he stores the index of the latest max.\n",
    "    This way subsequent tabulations would be much simpler.\n",
    "    \"\"\"\n",
    "    @functools.cache\n",
    "    def backtrack(i: int, max_: int) -> int:\n",
    "        if i == N:\n",
    "            return 0\n",
    "        elif nums[i] > max_:\n",
    "            return max(1 + backtrack(i + 1, nums[i]), backtrack(i + 1, max_))\n",
    "        else:\n",
    "            return backtrack(i + 1, max_)\n",
    "\n",
    "    N, min_ = len(nums), min(nums)\n",
    "    return backtrack(0, min_ - 1)\n",
    "\n",
    "# Testing the solution\n",
    "assert lengthOfLISMemo([10,9,2,5,3,7,101,18]) == 4\n",
    "assert lengthOfLISMemo([0,1,0,3,2,3]) == 4\n",
    "assert lengthOfLISMemo([1,1,1,1,1]) == 1"
   ]
  },
  {
   "cell_type": "code",
   "execution_count": 101,
   "id": "cd333f6f",
   "metadata": {
    "execution": {
     "iopub.execute_input": "2024-05-19T14:23:45.096580Z",
     "iopub.status.busy": "2024-05-19T14:23:45.096157Z",
     "iopub.status.idle": "2024-05-19T14:23:45.101109Z",
     "shell.execute_reply": "2024-05-19T14:23:45.100674Z"
    },
    "lines_to_next_cell": 1,
    "papermill": {
     "duration": 0.023927,
     "end_time": "2024-05-19T14:23:45.102124",
     "exception": false,
     "start_time": "2024-05-19T14:23:45.078197",
     "status": "completed"
    },
    "tags": []
   },
   "outputs": [],
   "source": [
    "def lengthOfLISTab(nums: list[int]) -> int:\n",
    "    N = len(nums)\n",
    "    dp: list[list[int]] = [[0 for j in range(N + 2)] for i in range(N + 1)]\n",
    "    for i in range(N - 1, -1, -1):\n",
    "        for j in range(N - 1, -1, -1):\n",
    "            # if j == 0, max_ => min_ - 1, j is right shifted by 1 index to accomodated min_ - 1\n",
    "            if j == 0 or nums[i] > nums[j - 1]:\n",
    "                dp[i][j] = max(1 + dp[i + 1][i + 1], dp[i + 1][j])\n",
    "            else:\n",
    "                dp[i][j] = dp[i + 1][j]\n",
    "\n",
    "    return dp[0][0]\n",
    "\n",
    "# Testing the solution\n",
    "assert lengthOfLISTab([0,1,0,3,2,3]) == 4\n",
    "assert lengthOfLISTab([1,1,1,1,1]) == 1"
   ]
  },
  {
   "cell_type": "code",
   "execution_count": 102,
   "id": "27be61f6",
   "metadata": {
    "execution": {
     "iopub.execute_input": "2024-05-19T14:23:45.139026Z",
     "iopub.status.busy": "2024-05-19T14:23:45.138581Z",
     "iopub.status.idle": "2024-05-19T14:23:45.143209Z",
     "shell.execute_reply": "2024-05-19T14:23:45.142764Z"
    },
    "lines_to_next_cell": 1,
    "papermill": {
     "duration": 0.023846,
     "end_time": "2024-05-19T14:23:45.144226",
     "exception": false,
     "start_time": "2024-05-19T14:23:45.120380",
     "status": "completed"
    },
    "tags": []
   },
   "outputs": [],
   "source": [
    "def lengthOfLIS(nums: list[int]) -> int:\n",
    "    \"Slight improvement, at any point - j (inner loop) cannot be greater than i itself\"\n",
    "    N = len(nums)\n",
    "    dp: list[int] = [0 for j in range(N + 2)]\n",
    "    for i in range(N - 1, -1, -1):\n",
    "        for j in range(i, -1, -1):\n",
    "            if j == 0 or nums[i] > nums[j - 1]:\n",
    "                dp[j] = max(1 + dp[i + 1], dp[j])\n",
    "\n",
    "    return dp[0]\n",
    "\n",
    "# Testing the solution\n",
    "assert lengthOfLIS([0,1,0,3,2,3]) == 4\n",
    "assert lengthOfLIS([1,1,1,1,1]) == 1"
   ]
  },
  {
   "cell_type": "code",
   "execution_count": 103,
   "id": "1c08a876",
   "metadata": {
    "execution": {
     "iopub.execute_input": "2024-05-19T14:23:45.179967Z",
     "iopub.status.busy": "2024-05-19T14:23:45.179754Z",
     "iopub.status.idle": "2024-05-19T14:23:45.182467Z",
     "shell.execute_reply": "2024-05-19T14:23:45.182012Z"
    },
    "papermill": {
     "duration": 0.021786,
     "end_time": "2024-05-19T14:23:45.183446",
     "exception": false,
     "start_time": "2024-05-19T14:23:45.161660",
     "status": "completed"
    },
    "tags": []
   },
   "outputs": [],
   "source": [
    "# LIS Tabulation: https://youtu.be/IFfYfonAFGc?si=XTbp31f-RLY2EsvQ"
   ]
  },
  {
   "cell_type": "code",
   "execution_count": 104,
   "id": "9532e810",
   "metadata": {
    "execution": {
     "iopub.execute_input": "2024-05-19T14:23:45.219021Z",
     "iopub.status.busy": "2024-05-19T14:23:45.218657Z",
     "iopub.status.idle": "2024-05-19T14:23:45.225402Z",
     "shell.execute_reply": "2024-05-19T14:23:45.224892Z"
    },
    "lines_to_next_cell": 1,
    "papermill": {
     "duration": 0.025674,
     "end_time": "2024-05-19T14:23:45.226466",
     "exception": false,
     "start_time": "2024-05-19T14:23:45.200792",
     "status": "completed"
    },
    "tags": []
   },
   "outputs": [
    {
     "name": "stdout",
     "output_type": "stream",
     "text": [
      "[1, 2, 3, 3]\n",
      "[1]\n"
     ]
    }
   ],
   "source": [
    "def lengthOfLISBetter(nums: list[int]) -> int:\n",
    "    \"\"\"\n",
    "    Time: O(N ** 2), Space: O(N)\n",
    "    This solution would be required if we were to trace back the LIS.\n",
    "    \"\"\"\n",
    "    N = len(nums)\n",
    "    lengths: list[int] = [1 for i in range(N)]\n",
    "    prevs: list[int] = [i for i in range(N)]\n",
    "    for i in range(N):\n",
    "        for j in range(i):\n",
    "            if nums[j] < nums[i] and lengths[i] < 1 + lengths[j]:\n",
    "                lengths[i] = 1 + lengths[j]\n",
    "                prevs[i] = j\n",
    "\n",
    "    # Prev Index, Length\n",
    "    max_: tuple[int, int] = (0, 1)\n",
    "    for i in range(N):\n",
    "        if max_[1] < lengths[i]:\n",
    "            max_ = i, lengths[i]\n",
    "\n",
    "    # Backtrack and print the LIS\n",
    "    i = max_[0]\n",
    "    LIS: list[int] = [nums[i]]\n",
    "    while i != prevs[i]:\n",
    "        LIS.append(nums[i])\n",
    "        i = prevs[i]\n",
    "\n",
    "    # Reverse the LIS and print it\n",
    "    LIS.reverse()\n",
    "    print(LIS)\n",
    "\n",
    "    return max_[1]\n",
    "\n",
    "# Testing the solution\n",
    "assert lengthOfLISBetter([0,1,0,3,2,3]) == 4\n",
    "assert lengthOfLISBetter([1,1,1,1,1]) == 1"
   ]
  },
  {
   "cell_type": "markdown",
   "id": "c89b7972",
   "metadata": {
    "papermill": {
     "duration": 0.017402,
     "end_time": "2024-05-19T14:23:45.261375",
     "exception": false,
     "start_time": "2024-05-19T14:23:45.243973",
     "status": "completed"
    },
    "tags": []
   },
   "source": [
    "LIS with Binary Search: https://youtu.be/on2hvxBXJH4?si=XLlRu7uTag9KM_Mr\n",
    "Intuition:\n",
    "```\n",
    "Say we have an array like:\n",
    "0, 1, 0, 3, 2, 3\n",
    "\n",
    "Step 1: [0]\n",
    "Step 2: [0, 1]\n",
    "Step 3: [0, 1], [0]\n",
    "Step 4: [0, 1, 3], [0, 3]\n",
    "Step 5: [0, 1, 3], [0, 3], [0, 1, 2], [0, 2]\n",
    "Step 6: [0, 1, 3], [0, 3], [0, 1, 2, 3], [0, 2, 3]\n",
    "\n",
    "Basically at each step we are inserting into the right position and creating a new array if we cannot insert into existing arrays. This consumes a lot of time and memory.\n",
    "We could instead simply save the correct insert position to find the max LIS length which is the trick to finding the N log N solution\n",
    "\n",
    "Step 1: [0]\n",
    "Step 2: [0, 1]\n",
    "Step 3: [0, 1]\n",
    "Step 4: [0, 1, 3]\n",
    "Step 5: [0, 1, 2] (replace 2 at the position where it would get inserted into)\n",
    "Step 6: [0, 1, 2, 3]\n",
    "\n",
    "Do note that this array is not the subsequence. We merely use it to compute the length of LIS.\n",
    "```"
   ]
  },
  {
   "cell_type": "code",
   "execution_count": 105,
   "id": "17062257",
   "metadata": {
    "execution": {
     "iopub.execute_input": "2024-05-19T14:23:45.296725Z",
     "iopub.status.busy": "2024-05-19T14:23:45.296397Z",
     "iopub.status.idle": "2024-05-19T14:23:45.301443Z",
     "shell.execute_reply": "2024-05-19T14:23:45.300928Z"
    },
    "lines_to_next_cell": 1,
    "papermill": {
     "duration": 0.023884,
     "end_time": "2024-05-19T14:23:45.302484",
     "exception": false,
     "start_time": "2024-05-19T14:23:45.278600",
     "status": "completed"
    },
    "tags": []
   },
   "outputs": [],
   "source": [
    "# https://leetcode.com/problems/longest-increasing-subsequence/submissions/1260560726\n",
    "def lengthOfLISOptimal(nums: list[int]) -> int:\n",
    "    def LB(arr: list[int], target: int) -> int:\n",
    "        \"\"\"\n",
    "        Given n, returns the insertion position of N\n",
    "        \"\"\"\n",
    "        N = len(arr)\n",
    "        low, high = 0, N - 1\n",
    "        while low <= high:\n",
    "            mid = (low + high) // 2\n",
    "            if arr[mid] < target:\n",
    "                low = mid + 1\n",
    "            else:\n",
    "                high = mid - 1\n",
    "\n",
    "        return low\n",
    "\n",
    "    dp: list[int] = []\n",
    "    for n in nums:\n",
    "        if not dp or dp[-1] < n:\n",
    "            dp.append(n)\n",
    "        else:\n",
    "            idx = LB(dp, n)\n",
    "            dp[idx] = n\n",
    "\n",
    "    return len(dp)\n",
    "\n",
    "# Testing the solution\n",
    "assert lengthOfLISOptimal([0,1,0,3,2,3]) == 4\n",
    "assert lengthOfLISOptimal([1,1,1,1,1]) == 1"
   ]
  },
  {
   "cell_type": "markdown",
   "id": "8847dadb",
   "metadata": {
    "papermill": {
     "duration": 0.017333,
     "end_time": "2024-05-19T14:23:45.337198",
     "exception": false,
     "start_time": "2024-05-19T14:23:45.319865",
     "status": "completed"
    },
    "tags": []
   },
   "source": [
    "Largest divisible subset: https://leetcode.com/problems/largest-divisible-subset/description/\n",
    "Video Link: https://youtu.be/gDuZwBW9VvM?si=Ar4BoU9h-JYT5j_S"
   ]
  },
  {
   "cell_type": "code",
   "execution_count": 106,
   "id": "85cb2adc",
   "metadata": {
    "execution": {
     "iopub.execute_input": "2024-05-19T14:23:45.373061Z",
     "iopub.status.busy": "2024-05-19T14:23:45.372581Z",
     "iopub.status.idle": "2024-05-19T14:23:45.379934Z",
     "shell.execute_reply": "2024-05-19T14:23:45.379524Z"
    },
    "lines_to_next_cell": 1,
    "papermill": {
     "duration": 0.026298,
     "end_time": "2024-05-19T14:23:45.380968",
     "exception": false,
     "start_time": "2024-05-19T14:23:45.354670",
     "status": "completed"
    },
    "tags": []
   },
   "outputs": [
    {
     "data": {
      "text/plain": [
       "[32, 8, 4, 2, 1]"
      ]
     },
     "execution_count": 106,
     "metadata": {},
     "output_type": "execute_result"
    }
   ],
   "source": [
    "# https://leetcode.com/problems/largest-divisible-subset/submissions/1260986041\n",
    "def largestDivisibleSubset(nums: list[int]) -> list[int]:\n",
    "    \"\"\"\n",
    "    At each element, it is pick or no pick. We can pick it max_ divides n or n divides max_. Once we chose to pick n, update max_\n",
    "    Time: O(N), Space: O(N)\n",
    "    \"\"\"\n",
    "    N = len(nums)\n",
    "\n",
    "    # We sort it to make our loop code easier, works without sorting\n",
    "    # but need to check for i % j as well j % i. Besides we are asked for\n",
    "    # a subset and the ordering doesn't really matter.\n",
    "    nums.sort()\n",
    "\n",
    "    # Dp to store the longest subset and the prevs for backtracking (refer: lengthOfLISBetter())\n",
    "    lengths: list[int] = [1 for i in range(N)]\n",
    "    prevs: list[int] = [i for i in range(N)]\n",
    "\n",
    "    # Till index i, what is max length divisible subset that I can find?\n",
    "    for i in range(N):\n",
    "        for j in range(i):\n",
    "            if nums[i] % nums[j] == 0 and lengths[i] < lengths[j] + 1:\n",
    "                lengths[i] = lengths[j] + 1\n",
    "                prevs[i] = j\n",
    "\n",
    "    # Find the maximum length\n",
    "    max_idx = 0\n",
    "    for i in range(N):\n",
    "        if lengths[max_idx] < lengths[i]:\n",
    "            max_idx = i\n",
    "\n",
    "    # Create the Largest Divisible Subset\n",
    "    i = max_idx\n",
    "    LDS: list[int] = [nums[i]]\n",
    "    while prevs[i] != i:\n",
    "        i = prevs[i]\n",
    "        LDS.append(nums[i])\n",
    "\n",
    "    return LDS\n",
    "\n",
    "# Testing the solution\n",
    "largestDivisibleSubset([1,3,2,4,6,8,9,10,12,13,14,7,18,20,21,25,26,28,30,32])"
   ]
  },
  {
   "cell_type": "markdown",
   "id": "fd81bb05",
   "metadata": {
    "papermill": {
     "duration": 0.017481,
     "end_time": "2024-05-19T14:23:45.416204",
     "exception": false,
     "start_time": "2024-05-19T14:23:45.398723",
     "status": "completed"
    },
    "tags": []
   },
   "source": [
    "Longest String Chain: https://leetcode.com/problems/longest-string-chain/description/\n",
    "Video Link: https://leetcode.com/problems/longest-string-chain/description/"
   ]
  },
  {
   "cell_type": "code",
   "execution_count": 107,
   "id": "c6e337f6",
   "metadata": {
    "execution": {
     "iopub.execute_input": "2024-05-19T14:23:45.451908Z",
     "iopub.status.busy": "2024-05-19T14:23:45.451493Z",
     "iopub.status.idle": "2024-05-19T14:23:45.457474Z",
     "shell.execute_reply": "2024-05-19T14:23:45.457030Z"
    },
    "lines_to_next_cell": 1,
    "papermill": {
     "duration": 0.024891,
     "end_time": "2024-05-19T14:23:45.458547",
     "exception": false,
     "start_time": "2024-05-19T14:23:45.433656",
     "status": "completed"
    },
    "tags": []
   },
   "outputs": [],
   "source": [
    "def longestStrChainMemo(words: list[str]) -> int:\n",
    "    def isNext(i1: int, i2: int) -> bool:\n",
    "        \"\"\"\n",
    "        xbc, cxbc -> True\n",
    "        xbc, xcbc -> True\n",
    "        xbc, xbcc -> True\n",
    "        xbc, xacc -> False\n",
    "        \"\"\"\n",
    "        N1, N2 = len(words[i1]), len(words[i2])\n",
    "        if N2 - N1 != 1:\n",
    "            return False\n",
    "        else:\n",
    "            mismatch = 0\n",
    "            i = j = 0\n",
    "            while i < N1 and j < N2:\n",
    "                if words[i1][i] != words[i2][j]:\n",
    "                    j += 1\n",
    "                    mismatch += 1\n",
    "                else:\n",
    "                    i, j = i + 1, j + 1\n",
    "\n",
    "            return mismatch <= 1\n",
    "\n",
    "    @functools.cache\n",
    "    def backtrack(i: int, prev: int) -> int:\n",
    "        if i == N:\n",
    "            return 0\n",
    "        elif prev == -1 or isNext(prev, i):\n",
    "            return max(1 + backtrack(i + 1, i), backtrack(i + 1, prev))\n",
    "        else:\n",
    "            return backtrack(i + 1, prev)\n",
    "\n",
    "    # Sorting to make things easier\n",
    "    N = len(words)\n",
    "    words.sort(key=len)\n",
    "    return backtrack(0, -1)\n",
    "\n",
    "# Testing the solution\n",
    "assert longestStrChainMemo([\"xbc\",\"pcxbcf\",\"xb\",\"cxbc\",\"pcxbc\"]) == 5\n",
    "assert longestStrChainMemo([\"a\",\"b\",\"ba\",\"bca\",\"bda\",\"bdca\"]) == 4\n",
    "assert longestStrChainMemo([\"abcd\",\"dbqca\"]) == 1"
   ]
  },
  {
   "cell_type": "code",
   "execution_count": 108,
   "id": "89ac7af0",
   "metadata": {
    "execution": {
     "iopub.execute_input": "2024-05-19T14:23:45.494718Z",
     "iopub.status.busy": "2024-05-19T14:23:45.494326Z",
     "iopub.status.idle": "2024-05-19T14:23:45.500513Z",
     "shell.execute_reply": "2024-05-19T14:23:45.500096Z"
    },
    "lines_to_next_cell": 1,
    "papermill": {
     "duration": 0.025361,
     "end_time": "2024-05-19T14:23:45.501528",
     "exception": false,
     "start_time": "2024-05-19T14:23:45.476167",
     "status": "completed"
    },
    "tags": []
   },
   "outputs": [],
   "source": [
    "def longestStrChainTab(words: list[str]) -> int:\n",
    "    def isNext(i1: int, i2: int) -> bool:\n",
    "        N1, N2 = len(words[i1]), len(words[i2])\n",
    "        if N2 - N1 != 1:\n",
    "            return False\n",
    "        else:\n",
    "            mismatch = 0\n",
    "            i = j = 0\n",
    "            while i < N1 and j < N2:\n",
    "                if words[i1][i] != words[i2][j]:\n",
    "                    j += 1\n",
    "                    mismatch += 1\n",
    "                else:\n",
    "                    i, j = i + 1, j + 1\n",
    "\n",
    "            return mismatch <= 1\n",
    "\n",
    "    N = len(words)\n",
    "    words.sort(key=len)\n",
    "    dp: list[list[int]] = [[0 for j in range(N + 2)] for i in range(N + 1)]\n",
    "    for i in range(N - 1, -1, -1):\n",
    "        for prev in range(i, -1, -1):\n",
    "            if prev == 0 or isNext(prev - 1, i):\n",
    "                dp[i][prev] = max(1 + dp[i + 1][i + 1], dp[i + 1][prev])\n",
    "            else:\n",
    "                dp[i][prev] = dp[i + 1][prev]\n",
    "\n",
    "    return dp[0][0]\n",
    "\n",
    "# Testing the solution\n",
    "assert longestStrChainTab([\"xbc\",\"pcxbcf\",\"xb\",\"cxbc\",\"pcxbc\"]) == 5\n",
    "assert longestStrChainTab([\"a\",\"b\",\"ba\",\"bca\",\"bda\",\"bdca\"]) == 4\n",
    "assert longestStrChainTab([\"abcd\",\"dbqca\"]) == 1"
   ]
  },
  {
   "cell_type": "code",
   "execution_count": 109,
   "id": "45db1b07",
   "metadata": {
    "execution": {
     "iopub.execute_input": "2024-05-19T14:23:45.537497Z",
     "iopub.status.busy": "2024-05-19T14:23:45.537159Z",
     "iopub.status.idle": "2024-05-19T14:23:45.543006Z",
     "shell.execute_reply": "2024-05-19T14:23:45.542577Z"
    },
    "lines_to_next_cell": 1,
    "papermill": {
     "duration": 0.024878,
     "end_time": "2024-05-19T14:23:45.544028",
     "exception": false,
     "start_time": "2024-05-19T14:23:45.519150",
     "status": "completed"
    },
    "tags": []
   },
   "outputs": [],
   "source": [
    "def longestStrChain(words: list[str]) -> int:\n",
    "    \"\"\"\n",
    "    Time: O(N ** 2 x L), Space: O(N)\n",
    "    L - max word length\n",
    "    \"\"\"\n",
    "    def isNext(i1: int, i2: int) -> bool:\n",
    "        N1, N2 = len(words[i1]), len(words[i2])\n",
    "        if N2 - N1 != 1:\n",
    "            return False\n",
    "        else:\n",
    "            mismatch = 0\n",
    "            i = j = 0\n",
    "            while i < N1 and j < N2:\n",
    "                if words[i1][i] != words[i2][j]:\n",
    "                    j += 1\n",
    "                    mismatch += 1\n",
    "                else:\n",
    "                    i, j = i + 1, j + 1\n",
    "\n",
    "            return mismatch <= 1\n",
    "\n",
    "    N = len(words)\n",
    "    words.sort(key=len)\n",
    "    dp: list[int] = [0 for j in range(N + 2)]\n",
    "    for i in range(N - 1, -1, -1):\n",
    "        for prev in range(i, -1, -1):\n",
    "            if prev == 0 or isNext(prev - 1, i):\n",
    "                dp[prev] = max(1 + dp[i + 1], dp[prev])\n",
    "\n",
    "    return dp[0]\n",
    "\n",
    "# Testing the solution\n",
    "assert longestStrChain([\"xbc\",\"pcxbcf\",\"xb\",\"cxbc\",\"pcxbc\"]) == 5\n",
    "assert longestStrChain([\"a\",\"b\",\"ba\",\"bca\",\"bda\",\"bdca\"]) == 4\n",
    "assert longestStrChain([\"abcd\",\"dbqca\"]) == 1"
   ]
  },
  {
   "cell_type": "markdown",
   "id": "5173b7e5",
   "metadata": {
    "papermill": {
     "duration": 0.017442,
     "end_time": "2024-05-19T14:23:45.579043",
     "exception": false,
     "start_time": "2024-05-19T14:23:45.561601",
     "status": "completed"
    },
    "tags": []
   },
   "source": [
    "Longest Bitonic Subsequence\n",
    "Video Link: https://youtu.be/y4vN0WNdrlg?si=6eUQzwVJYFEeUj49"
   ]
  },
  {
   "cell_type": "code",
   "execution_count": 110,
   "id": "e2d77aba",
   "metadata": {
    "execution": {
     "iopub.execute_input": "2024-05-19T14:23:45.614840Z",
     "iopub.status.busy": "2024-05-19T14:23:45.614577Z",
     "iopub.status.idle": "2024-05-19T14:23:45.620286Z",
     "shell.execute_reply": "2024-05-19T14:23:45.619838Z"
    },
    "lines_to_next_cell": 1,
    "papermill": {
     "duration": 0.024789,
     "end_time": "2024-05-19T14:23:45.621361",
     "exception": false,
     "start_time": "2024-05-19T14:23:45.596572",
     "status": "completed"
    },
    "tags": []
   },
   "outputs": [],
   "source": [
    "def longestBitonicSequence(N : int, nums : list[int]) -> int:\n",
    "    # Find the subsequence length of strictly increasing subsequence\n",
    "    increasing: list[int] = [1 for i in range(N)]\n",
    "    for i in range(N):\n",
    "        for j in range(i):\n",
    "            if nums[j] < nums[i]:\n",
    "                increasing[i] = max(increasing[i], increasing[j] + 1)\n",
    "\n",
    "    # Find the subsequence length of strictly decreasing subsequence\n",
    "    decreasing: list[int] = [1 for i in range(N)]\n",
    "    for i in range(N - 1, -1, -1):\n",
    "        for j in range(i + 1, N):\n",
    "            if nums[j] < nums[i]:\n",
    "                decreasing[i] = max(decreasing[i], decreasing[j] + 1)\n",
    "\n",
    "    # Compute the longest Bitonic sequence\n",
    "    max_length = 0\n",
    "    for i in range(N):\n",
    "        if increasing[i] > 1 and decreasing[i] > 1:\n",
    "            max_length = max(max_length, increasing[i] + decreasing[i] - 1)\n",
    "\n",
    "    return max_length\n",
    "\n",
    "# Testing the solution\n",
    "assert longestBitonicSequence(8, [1, 11, 2, 10, 4, 5, 2, 1]) == 6\n",
    "assert longestBitonicSequence(5, [1, 2, 5, 3, 2]) == 5\n",
    "assert longestBitonicSequence(3, [5, 7, 9]) == 0"
   ]
  },
  {
   "cell_type": "markdown",
   "id": "dbcaf743",
   "metadata": {
    "papermill": {
     "duration": 0.017794,
     "end_time": "2024-05-19T14:23:45.656984",
     "exception": false,
     "start_time": "2024-05-19T14:23:45.639190",
     "status": "completed"
    },
    "tags": []
   },
   "source": [
    "Number of longest increasing subsequences: https://leetcode.com/problems/number-of-longest-increasing-subsequence/\n",
    "Video link: https://youtu.be/cKVl1TFdNXg?si=F5dpyIpk-GQ0mhEl"
   ]
  },
  {
   "cell_type": "code",
   "execution_count": 111,
   "id": "8e5206cb",
   "metadata": {
    "execution": {
     "iopub.execute_input": "2024-05-19T14:23:45.692808Z",
     "iopub.status.busy": "2024-05-19T14:23:45.692372Z",
     "iopub.status.idle": "2024-05-19T14:23:45.699506Z",
     "shell.execute_reply": "2024-05-19T14:23:45.699098Z"
    },
    "lines_to_next_cell": 1,
    "papermill": {
     "duration": 0.026128,
     "end_time": "2024-05-19T14:23:45.700558",
     "exception": false,
     "start_time": "2024-05-19T14:23:45.674430",
     "status": "completed"
    },
    "tags": []
   },
   "outputs": [],
   "source": [
    "# https://leetcode.com/problems/number-of-longest-increasing-subsequence/submissions/1261164775\n",
    "def findNumberOfLIS(nums: list[int]) -> int:\n",
    "    N = len(nums)\n",
    "    dp: list[int] = [1 for i in range(N)]\n",
    "    prevs: dict[int, set[int]] = dict()\n",
    "    for i in range(N):\n",
    "        for j in range(i):\n",
    "            if nums[j] < nums[i] and dp[i] <= 1 + dp[j]:\n",
    "                # If new max, reset prev\n",
    "                if dp[i] < 1 + dp[j]:\n",
    "                    prevs[i] = {j}\n",
    "                # If max already exists, add to prev\n",
    "                else:\n",
    "                    prev = prevs.get(i, set())\n",
    "                    prev.add(j)\n",
    "                    prevs[i] = prev\n",
    "\n",
    "                dp[i] = 1 + dp[j]\n",
    "\n",
    "    # Find the max index\n",
    "    max_indices: list[int] = [0]\n",
    "    for i in range(1, N):\n",
    "        if dp[i] > dp[max_indices[0]]:\n",
    "            max_indices = [i]\n",
    "        elif dp[i] == dp[max_indices[0]]:\n",
    "            max_indices.append(i)\n",
    "\n",
    "    # Backtrack to find the counts\n",
    "    def backtrack(i: int) -> int:\n",
    "        if i not in prevs:\n",
    "            return 1\n",
    "        else:\n",
    "            count = 0\n",
    "            for j in prevs[i]:\n",
    "                count += backtrack(j)\n",
    "            return count\n",
    "\n",
    "    # Find count for all max indices and sum them\n",
    "    result: int = 0\n",
    "    for max_idx in max_indices:\n",
    "        result += backtrack(max_idx)\n",
    "\n",
    "    return result\n",
    "\n",
    "# Testing the solution\n",
    "assert findNumberOfLIS([1,3,5,4,7,6,5]) == 5\n",
    "assert findNumberOfLIS([2,2,2,2,2]) == 5\n",
    "assert findNumberOfLIS([1,2,3,4,4,4,4,5,5,2,3,3,4,5,6,6,4,2,1,2,2,3,4,5]) == 34"
   ]
  },
  {
   "cell_type": "code",
   "execution_count": 112,
   "id": "7cf84ae9",
   "metadata": {
    "execution": {
     "iopub.execute_input": "2024-05-19T14:23:45.737092Z",
     "iopub.status.busy": "2024-05-19T14:23:45.736671Z",
     "iopub.status.idle": "2024-05-19T14:23:45.742612Z",
     "shell.execute_reply": "2024-05-19T14:23:45.742067Z"
    },
    "lines_to_next_cell": 1,
    "papermill": {
     "duration": 0.025295,
     "end_time": "2024-05-19T14:23:45.743723",
     "exception": false,
     "start_time": "2024-05-19T14:23:45.718428",
     "status": "completed"
    },
    "tags": []
   },
   "outputs": [],
   "source": [
    "# https://leetcode.com/problems/number-of-longest-increasing-subsequence/submissions/1261259922\n",
    "def findNumberOfLISStriver(nums: list[int]) -> int:\n",
    "    N = len(nums)\n",
    "    dp: list[int] = [1 for i in range(N)]\n",
    "    counts: list[int] = [1 for i in range(N)]\n",
    "\n",
    "    # Compute the max length LIS and store the counts\n",
    "    lis_length: int = 1\n",
    "    for i in range(N):\n",
    "        for j in range(i):\n",
    "            if nums[j] < nums[i] and dp[i] <= 1 + dp[j]:\n",
    "                # Inherit\n",
    "                if dp[i] < 1 + dp[j]:\n",
    "                    dp[i] = 1 + dp[j]\n",
    "                    counts[i] = counts[j]\n",
    "                    lis_length = max(lis_length, dp[i])\n",
    "\n",
    "                # Increment\n",
    "                else:\n",
    "                    counts[i] += counts[j]\n",
    "\n",
    "    # Count the occurances of max length LIS\n",
    "    lis_count = 0\n",
    "    for i in range(N):\n",
    "        if dp[i] == lis_length:\n",
    "            lis_count += counts[i]\n",
    "\n",
    "    return lis_count\n",
    "\n",
    "# Testing the solution\n",
    "assert findNumberOfLISStriver([1,3,5,4,7,6,5]) == 5\n",
    "assert findNumberOfLISStriver([2,2,2,2,2]) == 5\n",
    "assert findNumberOfLISStriver([1,2,3,4,4,4,4,5,5,2,3,3,4,5,6,6,4,2,1,2,2,3,4,5]) == 34"
   ]
  },
  {
   "cell_type": "code",
   "execution_count": 113,
   "id": "1ea62afb",
   "metadata": {
    "execution": {
     "iopub.execute_input": "2024-05-19T14:23:45.779748Z",
     "iopub.status.busy": "2024-05-19T14:23:45.779435Z",
     "iopub.status.idle": "2024-05-19T14:23:45.783633Z",
     "shell.execute_reply": "2024-05-19T14:23:45.783123Z"
    },
    "lines_to_next_cell": 1,
    "papermill": {
     "duration": 0.023219,
     "end_time": "2024-05-19T14:23:45.784628",
     "exception": false,
     "start_time": "2024-05-19T14:23:45.761409",
     "status": "completed"
    },
    "tags": []
   },
   "outputs": [],
   "source": [
    "def matrixMultiplicationBrute(N: int, arr: list[int]) -> float:\n",
    "    if N == 2:\n",
    "        return 0\n",
    "    else:\n",
    "        min_: float = math.inf\n",
    "        for i in range(1, N - 1):\n",
    "            min_ = min(min_, (arr[i - 1] * arr[i] * arr[i + 1]) + matrixMultiplicationBrute(N - 1, arr[:i] + arr[i + 1:]))\n",
    "        return min_\n",
    "\n",
    "# Testing the solution\n",
    "assert matrixMultiplicationBrute(5, [40, 20, 30, 10, 30]) == 26000\n",
    "assert matrixMultiplicationBrute(4, [10, 30, 5, 60]) == 4500"
   ]
  },
  {
   "cell_type": "code",
   "execution_count": 114,
   "id": "f269aff7",
   "metadata": {
    "execution": {
     "iopub.execute_input": "2024-05-19T14:23:45.820966Z",
     "iopub.status.busy": "2024-05-19T14:23:45.820510Z",
     "iopub.status.idle": "2024-05-19T14:23:45.825004Z",
     "shell.execute_reply": "2024-05-19T14:23:45.824498Z"
    },
    "lines_to_next_cell": 1,
    "papermill": {
     "duration": 0.02368,
     "end_time": "2024-05-19T14:23:45.825994",
     "exception": false,
     "start_time": "2024-05-19T14:23:45.802314",
     "status": "completed"
    },
    "tags": []
   },
   "outputs": [],
   "source": [
    "def matrixMultiplicationMemo(N: int, arr: list[int]) -> float:\n",
    "    @functools.cache\n",
    "    def backtrack(i: int, j: int) -> float:\n",
    "        if i == j:\n",
    "            return 0\n",
    "        else:\n",
    "            min_: float = math.inf\n",
    "            for k in range(i, j):\n",
    "                min_ = min(min_, (arr[i - 1] * arr[k] * arr[j]) + backtrack(i, k) + backtrack(k + 1, j))\n",
    "            return min_\n",
    "\n",
    "    return backtrack(1, N - 1)\n",
    "\n",
    "# Testing the solution\n",
    "assert matrixMultiplicationMemo(5, [40, 20, 30, 10, 30]) == 26000\n",
    "assert matrixMultiplicationMemo(4, [10, 30, 5, 60]) == 4500"
   ]
  },
  {
   "cell_type": "code",
   "execution_count": 115,
   "id": "e3cb9f72",
   "metadata": {
    "execution": {
     "iopub.execute_input": "2024-05-19T14:23:45.862390Z",
     "iopub.status.busy": "2024-05-19T14:23:45.862049Z",
     "iopub.status.idle": "2024-05-19T14:23:45.866889Z",
     "shell.execute_reply": "2024-05-19T14:23:45.866458Z"
    },
    "lines_to_next_cell": 1,
    "papermill": {
     "duration": 0.02415,
     "end_time": "2024-05-19T14:23:45.867914",
     "exception": false,
     "start_time": "2024-05-19T14:23:45.843764",
     "status": "completed"
    },
    "tags": []
   },
   "outputs": [],
   "source": [
    "def matrixMultiplicationTab(N: int, arr: list[int]) -> float:\n",
    "    # Time: O(N ** 3), Space: O(N ** 2)\n",
    "    dp: list[list[float]] = [[math.inf if i != j else 0 for j in range(N)] for i in range(N)]\n",
    "    for i in range(N - 1, 0, -1):\n",
    "        for j in range(i + 1, N): # J should be to the right of i, as soon as i == j we return 0 (captured already in DP)\n",
    "            for k in range(i, j):\n",
    "                dp[i][j] = min(dp[i][j], (arr[i - 1] * arr[k] * arr[j]) + dp[i][k] + dp[k + 1][j])\n",
    "\n",
    "    return dp[1][N - 1]\n",
    "\n",
    "# Testing the solution\n",
    "assert matrixMultiplicationTab(5, [40, 20, 30, 10, 30]) == 26000\n",
    "assert matrixMultiplicationTab(4, [10, 30, 5, 60]) == 4500"
   ]
  },
  {
   "cell_type": "markdown",
   "id": "c4626b2b",
   "metadata": {
    "papermill": {
     "duration": 0.017511,
     "end_time": "2024-05-19T14:23:45.903130",
     "exception": false,
     "start_time": "2024-05-19T14:23:45.885619",
     "status": "completed"
    },
    "tags": []
   },
   "source": [
    "Minimum cost to cut a stick: Partition DP\n",
    "Video Link: https://youtu.be/xwomavsC86c?si=mMNfxJYMPVbhildn\n",
    "Problem Link: https://leetcode.com/problems/minimum-cost-to-cut-a-stick/description/"
   ]
  },
  {
   "cell_type": "code",
   "execution_count": 116,
   "id": "39a420ce",
   "metadata": {
    "execution": {
     "iopub.execute_input": "2024-05-19T14:23:45.939411Z",
     "iopub.status.busy": "2024-05-19T14:23:45.939049Z",
     "iopub.status.idle": "2024-05-19T14:23:45.944070Z",
     "shell.execute_reply": "2024-05-19T14:23:45.943639Z"
    },
    "lines_to_next_cell": 1,
    "papermill": {
     "duration": 0.024458,
     "end_time": "2024-05-19T14:23:45.945120",
     "exception": false,
     "start_time": "2024-05-19T14:23:45.920662",
     "status": "completed"
    },
    "tags": []
   },
   "outputs": [],
   "source": [
    "# https://leetcode.com/problems/minimum-cost-to-cut-a-stick/submissions/1262208436\n",
    "def minCostToCutStickMemo(N: int, cuts: list[int]) -> int:\n",
    "    @functools.cache\n",
    "    def backtrack(i: int, j: int) -> int:\n",
    "        if i + 1 == j:\n",
    "            return 0\n",
    "        else:\n",
    "            left = cuts[i] if i >= 0 else 0\n",
    "            right = cuts[j] if j < n_cuts else N\n",
    "            cost = right - left\n",
    "            min_: float = math.inf\n",
    "            for k in range(i + 1, j):\n",
    "                min_ = min(min_, backtrack(i, k) + backtrack(k, j))\n",
    "            return int(min_ + cost)\n",
    "\n",
    "    cuts.sort()\n",
    "    n_cuts = len(cuts)\n",
    "    return backtrack(-1, n_cuts)\n",
    "\n",
    "# Testing the solution\n",
    "assert minCostToCutStickMemo(9, [5,6,1,4,2]) == 22\n",
    "assert minCostToCutStickMemo(7, [1,3,4,5]) == 16"
   ]
  },
  {
   "cell_type": "code",
   "execution_count": 117,
   "id": "d96a27e2",
   "metadata": {
    "execution": {
     "iopub.execute_input": "2024-05-19T14:23:45.981839Z",
     "iopub.status.busy": "2024-05-19T14:23:45.981622Z",
     "iopub.status.idle": "2024-05-19T14:23:45.987133Z",
     "shell.execute_reply": "2024-05-19T14:23:45.986708Z"
    },
    "papermill": {
     "duration": 0.024911,
     "end_time": "2024-05-19T14:23:45.988155",
     "exception": false,
     "start_time": "2024-05-19T14:23:45.963244",
     "status": "completed"
    },
    "tags": []
   },
   "outputs": [],
   "source": [
    "# https://leetcode.com/problems/minimum-cost-to-cut-a-stick/submissions/1262240842\n",
    "def minCostToCutStickTab(N: int, cuts: list[int]) -> int:\n",
    "    cuts.sort()\n",
    "    n_cuts = len(cuts)\n",
    "    dp: list[list[float]] = [[math.inf if i + 1 != j else 0 for j in range(-1, n_cuts + 1)] for i in range(-1, n_cuts + 1)]\n",
    "    for i in range(n_cuts - 1, -2, -1):\n",
    "        for j in range(i + 2, n_cuts + 1):\n",
    "            left = cuts[i] if i >= 0 else 0\n",
    "            right = cuts[j] if j < n_cuts else N\n",
    "            for k in range(i + 1, j):\n",
    "                dp[i + 1][j + 1] = min(dp[i + 1][j + 1], right - left + dp[i + 1][k + 1] + dp[k + 1][j + 1])\n",
    "\n",
    "    return int(dp[0][n_cuts + 1])\n",
    "\n",
    "# Testing the solution\n",
    "assert minCostToCutStickTab(9, [5,6,1,4,2]) == 22\n",
    "assert minCostToCutStickTab(7, [1,3,4,5]) == 16"
   ]
  }
 ],
 "metadata": {
  "kernelspec": {
   "display_name": "Python 3 (ipykernel)",
   "language": "python",
   "name": "python3"
  },
  "language_info": {
   "codemirror_mode": {
    "name": "ipython",
    "version": 3
   },
   "file_extension": ".py",
   "mimetype": "text/x-python",
   "name": "python",
   "nbconvert_exporter": "python",
   "pygments_lexer": "ipython3",
   "version": "3.11.9"
  },
  "papermill": {
   "default_parameters": {},
   "duration": 7.712079,
   "end_time": "2024-05-19T14:23:46.120486",
   "environment_variables": {},
   "exception": null,
   "input_path": "study/striver-A2Z/13-dp.ipynb",
   "output_path": "study/striver-A2Z/13-dp.ipynb",
   "parameters": {},
   "start_time": "2024-05-19T14:23:38.408407",
   "version": "2.6.0"
  }
 },
 "nbformat": 4,
 "nbformat_minor": 5
}