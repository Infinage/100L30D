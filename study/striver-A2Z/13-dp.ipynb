{
 "cells": [
  {
   "cell_type": "markdown",
   "id": "807dd9ee",
   "metadata": {
    "papermill": {
     "duration": 0.016323,
     "end_time": "2024-05-17T14:08:48.693012",
     "exception": false,
     "start_time": "2024-05-17T14:08:48.676689",
     "status": "completed"
    },
    "tags": []
   },
   "source": [
    "Important notes\n",
    "- All subset based problems (non contigous subarrays would have the pick/nopick approach)\n",
    "- To convert a memoization solution to tabulation:\n",
    "  1. Find the base case and assign the the DP\n",
    "  2. Start iterating from the base case all the way to our starting point\n",
    "  3. Return the value at the starting point\n",
    "- We can space optimize a tabulation solution whenever we see only the prev/next rows being used in the tabualation solution.\n",
    "- Time complexity of unmemoized DP code is typically exponential O(number of branches ** N)\n",
    "- All subsets problem involve recursion trying all combinations: Pick, no pick\n",
    "- For problems where there is an infinite supply, take would increase total but remain at the same index.\n",
    "- For problems involving counts, we try all possb combinations and base case would either return 1 or 0."
   ]
  },
  {
   "cell_type": "markdown",
   "id": "457ab51f",
   "metadata": {
    "papermill": {
     "duration": 0.015218,
     "end_time": "2024-05-17T14:08:48.723317",
     "exception": false,
     "start_time": "2024-05-17T14:08:48.708099",
     "status": "completed"
    },
    "tags": []
   },
   "source": [
    "### Some important imports"
   ]
  },
  {
   "cell_type": "code",
   "execution_count": 1,
   "id": "164d751b",
   "metadata": {
    "execution": {
     "iopub.execute_input": "2024-05-17T14:08:48.754573Z",
     "iopub.status.busy": "2024-05-17T14:08:48.754386Z",
     "iopub.status.idle": "2024-05-17T14:08:48.759793Z",
     "shell.execute_reply": "2024-05-17T14:08:48.759366Z"
    },
    "lines_to_next_cell": 1,
    "papermill": {
     "duration": 0.022356,
     "end_time": "2024-05-17T14:08:48.760862",
     "exception": false,
     "start_time": "2024-05-17T14:08:48.738506",
     "status": "completed"
    },
    "tags": []
   },
   "outputs": [],
   "source": [
    "import functools\n",
    "import itertools\n",
    "import collections\n",
    "import math\n",
    "import heapq"
   ]
  },
  {
   "cell_type": "markdown",
   "id": "48648354",
   "metadata": {
    "papermill": {
     "duration": 0.015159,
     "end_time": "2024-05-17T14:08:48.791689",
     "exception": false,
     "start_time": "2024-05-17T14:08:48.776530",
     "status": "completed"
    },
    "tags": []
   },
   "source": [
    "Introduction to DP: https://youtu.be/tyB0ztf0DNY?si=SgpBwGNqPXzdPSRA\n",
    "1. Tabulation: Bottom up DP: Ans -> Base case -> Ans\n",
    "2. Memoization: Top down DP: Base case -> Ans"
   ]
  },
  {
   "cell_type": "code",
   "execution_count": 2,
   "id": "41c46591",
   "metadata": {
    "execution": {
     "iopub.execute_input": "2024-05-17T14:08:48.823304Z",
     "iopub.status.busy": "2024-05-17T14:08:48.822826Z",
     "iopub.status.idle": "2024-05-17T14:08:48.828983Z",
     "shell.execute_reply": "2024-05-17T14:08:48.828446Z"
    },
    "lines_to_next_cell": 1,
    "papermill": {
     "duration": 0.023087,
     "end_time": "2024-05-17T14:08:48.830061",
     "exception": false,
     "start_time": "2024-05-17T14:08:48.806974",
     "status": "completed"
    },
    "tags": []
   },
   "outputs": [
    {
     "data": {
      "text/plain": [
       "55"
      ]
     },
     "execution_count": 2,
     "metadata": {},
     "output_type": "execute_result"
    }
   ],
   "source": [
    "def fiboBrute(n: int) -> int:\n",
    "    \"\"\"\n",
    "    Vanilla recursion\n",
    "    Time: O(2 ^ N), Space: O(2 ^ N)\n",
    "    \"\"\"\n",
    "    if n <= 1:\n",
    "        return n\n",
    "    else:\n",
    "        return fiboBrute(n - 1) + fiboBrute(n - 2)\n",
    "\n",
    "fiboBrute(10)"
   ]
  },
  {
   "cell_type": "code",
   "execution_count": 3,
   "id": "83ba7cd5",
   "metadata": {
    "execution": {
     "iopub.execute_input": "2024-05-17T14:08:48.861621Z",
     "iopub.status.busy": "2024-05-17T14:08:48.861302Z",
     "iopub.status.idle": "2024-05-17T14:08:48.866216Z",
     "shell.execute_reply": "2024-05-17T14:08:48.865730Z"
    },
    "lines_to_next_cell": 1,
    "papermill": {
     "duration": 0.021736,
     "end_time": "2024-05-17T14:08:48.867225",
     "exception": false,
     "start_time": "2024-05-17T14:08:48.845489",
     "status": "completed"
    },
    "tags": []
   },
   "outputs": [
    {
     "data": {
      "text/plain": [
       "55"
      ]
     },
     "execution_count": 3,
     "metadata": {},
     "output_type": "execute_result"
    }
   ],
   "source": [
    "def fiboBetter1(n: int) -> int:\n",
    "    \"\"\"\n",
    "    Memoization Approach: Top down approach\n",
    "    Time: O(N), Space: O(N) + O(N)\n",
    "    \"\"\"\n",
    "    dp: list[int] = [-1 for i in range(n + 1)]\n",
    "    def backtrack(curr: int) -> int:\n",
    "        if curr <= 1:\n",
    "            return curr\n",
    "        elif dp[curr] != -1:\n",
    "            return dp[curr]\n",
    "        else:\n",
    "            dp[curr] = backtrack(curr - 1) + backtrack(curr - 2)\n",
    "            return dp[curr]\n",
    "\n",
    "    return backtrack(n)\n",
    "\n",
    "fiboBetter1(10)"
   ]
  },
  {
   "cell_type": "code",
   "execution_count": 4,
   "id": "80fded7e",
   "metadata": {
    "execution": {
     "iopub.execute_input": "2024-05-17T14:08:48.898690Z",
     "iopub.status.busy": "2024-05-17T14:08:48.898378Z",
     "iopub.status.idle": "2024-05-17T14:08:48.902855Z",
     "shell.execute_reply": "2024-05-17T14:08:48.902362Z"
    },
    "lines_to_next_cell": 1,
    "papermill": {
     "duration": 0.021225,
     "end_time": "2024-05-17T14:08:48.903840",
     "exception": false,
     "start_time": "2024-05-17T14:08:48.882615",
     "status": "completed"
    },
    "tags": []
   },
   "outputs": [
    {
     "data": {
      "text/plain": [
       "55"
      ]
     },
     "execution_count": 4,
     "metadata": {},
     "output_type": "execute_result"
    }
   ],
   "source": [
    "def fiboBetter2(n: int) -> int:\n",
    "    \"\"\"\n",
    "    Tabulation: Bottom up approach\n",
    "    Time: O(N), Space: O(N)\n",
    "    \"\"\"\n",
    "    dp: list[int] = [-1 if i > 1 else i for i in range(n + 1)]\n",
    "    for i in range(2, n + 1):\n",
    "        dp[i] = dp[i - 1] + dp[i - 2]\n",
    "\n",
    "    return dp[n]\n",
    "\n",
    "fiboBetter2(10)"
   ]
  },
  {
   "cell_type": "code",
   "execution_count": 5,
   "id": "8f7d86e2",
   "metadata": {
    "execution": {
     "iopub.execute_input": "2024-05-17T14:08:48.935625Z",
     "iopub.status.busy": "2024-05-17T14:08:48.935215Z",
     "iopub.status.idle": "2024-05-17T14:08:48.939473Z",
     "shell.execute_reply": "2024-05-17T14:08:48.938990Z"
    },
    "lines_to_next_cell": 1,
    "papermill": {
     "duration": 0.021238,
     "end_time": "2024-05-17T14:08:48.940568",
     "exception": false,
     "start_time": "2024-05-17T14:08:48.919330",
     "status": "completed"
    },
    "tags": []
   },
   "outputs": [
    {
     "data": {
      "text/plain": [
       "55"
      ]
     },
     "execution_count": 5,
     "metadata": {},
     "output_type": "execute_result"
    }
   ],
   "source": [
    "def fiboOptimal(n: int) -> int:\n",
    "    \"\"\"\n",
    "    Bottom up approach\n",
    "    Time: O(N), Space: O(1)\n",
    "    \"\"\"\n",
    "    prev2, prev1 = 0, 1\n",
    "    for i in range(2, n + 1):\n",
    "        prev2, prev1 = prev1, prev1 + prev2\n",
    "        n -= 1\n",
    "\n",
    "    return prev1\n",
    "\n",
    "fiboOptimal(10)"
   ]
  },
  {
   "cell_type": "markdown",
   "id": "855c35fb",
   "metadata": {
    "papermill": {
     "duration": 0.015422,
     "end_time": "2024-05-17T14:08:48.971648",
     "exception": false,
     "start_time": "2024-05-17T14:08:48.956226",
     "status": "completed"
    },
    "tags": []
   },
   "source": [
    "Climbing Stairs: https://leetcode.com/problems/climbing-stairs/\n",
    "Video Link: https://youtu.be/mLfjzJsN8us?si=C7W-jiYvql0mEnbh"
   ]
  },
  {
   "cell_type": "code",
   "execution_count": 6,
   "id": "87993489",
   "metadata": {
    "execution": {
     "iopub.execute_input": "2024-05-17T14:08:49.003171Z",
     "iopub.status.busy": "2024-05-17T14:08:49.002986Z",
     "iopub.status.idle": "2024-05-17T14:08:49.006998Z",
     "shell.execute_reply": "2024-05-17T14:08:49.006423Z"
    },
    "lines_to_next_cell": 1,
    "papermill": {
     "duration": 0.021556,
     "end_time": "2024-05-17T14:08:49.008599",
     "exception": false,
     "start_time": "2024-05-17T14:08:48.987043",
     "status": "completed"
    },
    "tags": []
   },
   "outputs": [],
   "source": [
    "def climbStairsBetter(n: int) -> int:\n",
    "    \"\"\"Time: O(N), Space: O(N)\"\"\"\n",
    "\n",
    "    dp: list[int] = [-1 for i in range(n + 1)]\n",
    "    def backtrack(curr: int) -> int:\n",
    "        if curr <= 1:\n",
    "            return 1\n",
    "        elif dp[curr] != -1:\n",
    "            return dp[curr]\n",
    "        else:\n",
    "            dp[curr] = backtrack(curr - 1) + backtrack(curr - 2)\n",
    "            return dp[curr]\n",
    "\n",
    "    return backtrack(n)\n",
    "\n",
    "assert climbStairsBetter(45) == 1836311903"
   ]
  },
  {
   "cell_type": "code",
   "execution_count": 7,
   "id": "2dc15ac3",
   "metadata": {
    "execution": {
     "iopub.execute_input": "2024-05-17T14:08:49.056071Z",
     "iopub.status.busy": "2024-05-17T14:08:49.055567Z",
     "iopub.status.idle": "2024-05-17T14:08:49.059236Z",
     "shell.execute_reply": "2024-05-17T14:08:49.058811Z"
    },
    "lines_to_next_cell": 1,
    "papermill": {
     "duration": 0.021206,
     "end_time": "2024-05-17T14:08:49.060245",
     "exception": false,
     "start_time": "2024-05-17T14:08:49.039039",
     "status": "completed"
    },
    "tags": []
   },
   "outputs": [],
   "source": [
    "def climbStairs(n: int) -> int:\n",
    "    \"\"\"Time: O(N), Space: O(1)\"\"\"\n",
    "    prev2, prev1 = 1, 1\n",
    "    while n > 0:\n",
    "        prev2, prev1 = prev1, prev1 + prev2\n",
    "        n -= 1\n",
    "\n",
    "    return prev2\n",
    "\n",
    "assert climbStairs(45) == 1836311903"
   ]
  },
  {
   "cell_type": "markdown",
   "id": "3cd4d88c",
   "metadata": {
    "papermill": {
     "duration": 0.01547,
     "end_time": "2024-05-17T14:08:49.091536",
     "exception": false,
     "start_time": "2024-05-17T14:08:49.076066",
     "status": "completed"
    },
    "tags": []
   },
   "source": [
    "Video link: https://youtu.be/EgG3jsGoPvQ?si=Cm5AVvq_zCnr-w6q\n",
    "Frog Jump: 1"
   ]
  },
  {
   "cell_type": "code",
   "execution_count": 8,
   "id": "59c27b1e",
   "metadata": {
    "execution": {
     "iopub.execute_input": "2024-05-17T14:08:49.123769Z",
     "iopub.status.busy": "2024-05-17T14:08:49.123379Z",
     "iopub.status.idle": "2024-05-17T14:08:49.128056Z",
     "shell.execute_reply": "2024-05-17T14:08:49.127605Z"
    },
    "lines_to_next_cell": 1,
    "papermill": {
     "duration": 0.022033,
     "end_time": "2024-05-17T14:08:49.129205",
     "exception": false,
     "start_time": "2024-05-17T14:08:49.107172",
     "status": "completed"
    },
    "tags": []
   },
   "outputs": [],
   "source": [
    "def frogJumpBetter(N: int, heights: list[int]) -> int:\n",
    "    \"\"\"\n",
    "    Time: O(N), Space: O(N) + O(N)\n",
    "    \"\"\"\n",
    "\n",
    "    @functools.cache\n",
    "    def backtrack(curr: int) -> int:\n",
    "        if curr == N - 1:\n",
    "            return 0\n",
    "        elif curr == N - 2:\n",
    "            return abs(heights[N - 1] - heights[N - 2])\n",
    "        else:\n",
    "            jump1 = abs(heights[curr] - heights[curr + 1]) + backtrack(curr + 1)\n",
    "            jump2 = abs(heights[curr] - heights[curr + 2]) + backtrack(curr + 2)\n",
    "            return min(jump1, jump2)\n",
    "\n",
    "    return backtrack(0)\n",
    "\n",
    "# Testing the solution\n",
    "assert frogJumpBetter(4, [10,20,30,10]) == 20\n",
    "assert frogJumpBetter(3, [10,50,10]) == 0"
   ]
  },
  {
   "cell_type": "code",
   "execution_count": 9,
   "id": "2bc52e04",
   "metadata": {
    "execution": {
     "iopub.execute_input": "2024-05-17T14:08:49.161147Z",
     "iopub.status.busy": "2024-05-17T14:08:49.160670Z",
     "iopub.status.idle": "2024-05-17T14:08:49.164885Z",
     "shell.execute_reply": "2024-05-17T14:08:49.164470Z"
    },
    "lines_to_next_cell": 1,
    "papermill": {
     "duration": 0.02125,
     "end_time": "2024-05-17T14:08:49.165964",
     "exception": false,
     "start_time": "2024-05-17T14:08:49.144714",
     "status": "completed"
    },
    "tags": []
   },
   "outputs": [],
   "source": [
    "def frogJumpOptimal(N: int, heights: list[int]) -> int:\n",
    "    \"Time: O(N), Space: O(1)\"\n",
    "    jump1, jump2 = abs(heights[-2] - heights[-1]), 0\n",
    "    for i in range(N - 3, -1, -1):\n",
    "        curr = min(abs(heights[i] - heights[i + 1]) + jump1, abs(heights[i] - heights[i + 2]) + jump2)\n",
    "        jump1, jump2 = curr, jump1\n",
    "\n",
    "    return jump1\n",
    "\n",
    "assert frogJumpOptimal(4, [10,20,30,10]) == 20\n",
    "assert frogJumpOptimal(3, [10,50,10]) == 0"
   ]
  },
  {
   "cell_type": "markdown",
   "id": "4fa38d19",
   "metadata": {
    "papermill": {
     "duration": 0.015415,
     "end_time": "2024-05-17T14:08:49.197159",
     "exception": false,
     "start_time": "2024-05-17T14:08:49.181744",
     "status": "completed"
    },
    "tags": []
   },
   "source": [
    "Video Link: https://youtu.be/Kmh3rhyEtB8?si=rqZ5-pJcjIzWU5i8\n",
    "Frog Jump with K distance"
   ]
  },
  {
   "cell_type": "code",
   "execution_count": 10,
   "id": "f21ca119",
   "metadata": {
    "execution": {
     "iopub.execute_input": "2024-05-17T14:08:49.228788Z",
     "iopub.status.busy": "2024-05-17T14:08:49.228574Z",
     "iopub.status.idle": "2024-05-17T14:08:49.233376Z",
     "shell.execute_reply": "2024-05-17T14:08:49.232829Z"
    },
    "lines_to_next_cell": 1,
    "papermill": {
     "duration": 0.021936,
     "end_time": "2024-05-17T14:08:49.234412",
     "exception": false,
     "start_time": "2024-05-17T14:08:49.212476",
     "status": "completed"
    },
    "tags": []
   },
   "outputs": [],
   "source": [
    "def frogJumpAtKDistBetter1(N: int, K: int, heights: list[int]) -> int:\n",
    "    \"\"\"\n",
    "    Memoization Approach: Top Down Approach\n",
    "    Time: O(N x K), Space: O(N) + O(N)\n",
    "    \"\"\"\n",
    "\n",
    "    @functools.cache\n",
    "    def backtrack(curr: int) -> int:\n",
    "        if curr >= N - 1:\n",
    "            return 0\n",
    "        else:\n",
    "            minCost = math.inf\n",
    "            for next_ in range(curr + 1, min(N, curr + K + 1)):\n",
    "                cost = abs(heights[curr] - heights[next_]) + backtrack(next_)\n",
    "                minCost = min(minCost, cost)\n",
    "\n",
    "            return int(minCost)\n",
    "\n",
    "    return backtrack(0)\n",
    "\n",
    "# Testing the solution\n",
    "assert frogJumpAtKDistBetter1(5, 3, [10,30,40,50,20]) == 30\n",
    "assert frogJumpAtKDistBetter1(3, 1, [10,20,10]) == 20"
   ]
  },
  {
   "cell_type": "code",
   "execution_count": 11,
   "id": "1b9a86c0",
   "metadata": {
    "execution": {
     "iopub.execute_input": "2024-05-17T14:08:49.266392Z",
     "iopub.status.busy": "2024-05-17T14:08:49.266069Z",
     "iopub.status.idle": "2024-05-17T14:08:49.270673Z",
     "shell.execute_reply": "2024-05-17T14:08:49.270232Z"
    },
    "lines_to_next_cell": 1,
    "papermill": {
     "duration": 0.021695,
     "end_time": "2024-05-17T14:08:49.271752",
     "exception": false,
     "start_time": "2024-05-17T14:08:49.250057",
     "status": "completed"
    },
    "tags": []
   },
   "outputs": [],
   "source": [
    "def frogJumpAtKDistBetter2(N: int, K: int, heights: list[int]) -> int:\n",
    "    \"\"\"\n",
    "    Tabulation: Bottom up approach\n",
    "    Time: O(N x K), Space: O(N)\n",
    "    \"\"\"\n",
    "\n",
    "    dp: list[int] = [-1 for i in range(N)]\n",
    "    dp[-1] = 0\n",
    "\n",
    "    for curr in range(N - 2, -1, -1):\n",
    "        minCost = math.inf\n",
    "        for next_ in range(curr + 1, min(N, curr + K + 1)):\n",
    "            cost = abs(heights[curr] - heights[next_]) + dp[next_]\n",
    "            minCost = min(minCost, cost)\n",
    "        dp[curr] = int(minCost)\n",
    "\n",
    "    return dp[0]\n",
    "\n",
    "# Testing the solution\n",
    "assert frogJumpAtKDistBetter2(5, 3, [10,30,40,50,20]) == 30\n",
    "assert frogJumpAtKDistBetter2(3, 1, [10,20,10]) == 20"
   ]
  },
  {
   "cell_type": "code",
   "execution_count": 12,
   "id": "09ca5d18",
   "metadata": {
    "execution": {
     "iopub.execute_input": "2024-05-17T14:08:49.303567Z",
     "iopub.status.busy": "2024-05-17T14:08:49.303364Z",
     "iopub.status.idle": "2024-05-17T14:08:49.308299Z",
     "shell.execute_reply": "2024-05-17T14:08:49.307776Z"
    },
    "lines_to_next_cell": 1,
    "papermill": {
     "duration": 0.022038,
     "end_time": "2024-05-17T14:08:49.309343",
     "exception": false,
     "start_time": "2024-05-17T14:08:49.287305",
     "status": "completed"
    },
    "tags": []
   },
   "outputs": [],
   "source": [
    "def frogJumpAtKDist(N: int, K: int, heights: list[int]) -> int:\n",
    "    \"\"\"\n",
    "    Tabulation: Bottom up approach\n",
    "    Time: O(N x K), Space: O(K)\n",
    "    \"\"\"\n",
    "\n",
    "    dp: collections.deque[int] = collections.deque([0])\n",
    "    for curr in range(N - 2, -1, -1):\n",
    "        minCost = math.inf\n",
    "        for jump in range(1, min(N - curr, K + 1)):\n",
    "            next_ = curr + jump\n",
    "            cost = abs(heights[curr] - heights[next_]) + dp[jump - 1]\n",
    "            minCost = min(minCost, cost)\n",
    "\n",
    "        dp.appendleft(int(minCost))\n",
    "        if len(dp) > K:\n",
    "            dp.pop()\n",
    "\n",
    "    return dp[0]\n",
    "\n",
    "# Testing the solution\n",
    "assert frogJumpAtKDist(5, 3, [10,30,40,50,20]) == 30\n",
    "assert frogJumpAtKDist(3, 1, [10,20,10]) == 20"
   ]
  },
  {
   "cell_type": "markdown",
   "id": "259d53f8",
   "metadata": {
    "papermill": {
     "duration": 0.015451,
     "end_time": "2024-05-17T14:08:49.340443",
     "exception": false,
     "start_time": "2024-05-17T14:08:49.324992",
     "status": "completed"
    },
    "tags": []
   },
   "source": [
    "Maximum sum of Non Adjacent Elements: House Robber\n",
    "Video Link: https://youtu.be/GrMBfJNk_NY?si=IPuGJglc0axETveU"
   ]
  },
  {
   "cell_type": "code",
   "execution_count": 13,
   "id": "89d8dea7",
   "metadata": {
    "execution": {
     "iopub.execute_input": "2024-05-17T14:08:49.372450Z",
     "iopub.status.busy": "2024-05-17T14:08:49.371988Z",
     "iopub.status.idle": "2024-05-17T14:08:49.376238Z",
     "shell.execute_reply": "2024-05-17T14:08:49.375724Z"
    },
    "lines_to_next_cell": 1,
    "papermill": {
     "duration": 0.021524,
     "end_time": "2024-05-17T14:08:49.377407",
     "exception": false,
     "start_time": "2024-05-17T14:08:49.355883",
     "status": "completed"
    },
    "tags": []
   },
   "outputs": [],
   "source": [
    "def robMemo(nums: list[int]) -> int:\n",
    "    \"\"\"\n",
    "    Memoization: Top down approach\n",
    "    Time: O(N), Space: O(N)\n",
    "    \"\"\"\n",
    "\n",
    "    @functools.cache\n",
    "    def backtrack(curr: int) -> int:\n",
    "        if curr >= N:\n",
    "            return 0\n",
    "        else:\n",
    "            return max(backtrack(curr + 1), nums[curr] + backtrack(curr + 2))\n",
    "\n",
    "    N = len(nums)\n",
    "    return backtrack(0)\n",
    "\n",
    "# Testing the solution\n",
    "assert robMemo([2,7,9,3,1]) == 12"
   ]
  },
  {
   "cell_type": "code",
   "execution_count": 14,
   "id": "e69063ac",
   "metadata": {
    "execution": {
     "iopub.execute_input": "2024-05-17T14:08:49.409857Z",
     "iopub.status.busy": "2024-05-17T14:08:49.409449Z",
     "iopub.status.idle": "2024-05-17T14:08:49.413472Z",
     "shell.execute_reply": "2024-05-17T14:08:49.413014Z"
    },
    "lines_to_next_cell": 1,
    "papermill": {
     "duration": 0.021291,
     "end_time": "2024-05-17T14:08:49.414476",
     "exception": false,
     "start_time": "2024-05-17T14:08:49.393185",
     "status": "completed"
    },
    "tags": []
   },
   "outputs": [],
   "source": [
    "def robTab(nums: list[int]) -> int:\n",
    "    \"\"\"\n",
    "    Tabulation: Bottom up approach\n",
    "    Time: O(N), Space: O(N)\n",
    "    \"\"\"\n",
    "    N = len(nums)\n",
    "    dp: list[int] = [-1 for i in range(N + 1)]\n",
    "    dp[-1], dp[-2] = 0, nums[-1]\n",
    "    for curr in range(N - 2, -1, -1):\n",
    "        dp[curr] = max(nums[curr] + dp[curr + 2], dp[curr + 1])\n",
    "\n",
    "    return dp[0]\n",
    "\n",
    "# Testing the solution\n",
    "assert robTab([2,7,9,3,1]) == 12"
   ]
  },
  {
   "cell_type": "code",
   "execution_count": 15,
   "id": "d3ac1b1c",
   "metadata": {
    "execution": {
     "iopub.execute_input": "2024-05-17T14:08:49.446513Z",
     "iopub.status.busy": "2024-05-17T14:08:49.446144Z",
     "iopub.status.idle": "2024-05-17T14:08:49.449401Z",
     "shell.execute_reply": "2024-05-17T14:08:49.448957Z"
    },
    "lines_to_next_cell": 1,
    "papermill": {
     "duration": 0.020316,
     "end_time": "2024-05-17T14:08:49.450429",
     "exception": false,
     "start_time": "2024-05-17T14:08:49.430113",
     "status": "completed"
    },
    "tags": []
   },
   "outputs": [],
   "source": [
    "# https://leetcode.com/problems/house-robber/submissions/1249841355/\n",
    "def robSpaceOptimized(nums: list[int]) -> int:\n",
    "    \"Time: O(N), Space: O(1)\"\n",
    "    next1 = next2 = 0\n",
    "    for curr in range(len(nums) - 1, -1, -1):\n",
    "        next1, next2 = max(nums[curr] + next2, next1), next1\n",
    "\n",
    "    return next1\n",
    "\n",
    "assert robSpaceOptimized([2,7,9,3,1]) == 12"
   ]
  },
  {
   "cell_type": "markdown",
   "id": "630eec21",
   "metadata": {
    "papermill": {
     "duration": 0.01554,
     "end_time": "2024-05-17T14:08:49.481574",
     "exception": false,
     "start_time": "2024-05-17T14:08:49.466034",
     "status": "completed"
    },
    "tags": []
   },
   "source": [
    "House Robber 2: https://youtu.be/3WaxQMELSkw?si=i9oGKnDJGJxvUjbu\n",
    "https://leetcode.com/problems/house-robber-ii/submissions/1249888930"
   ]
  },
  {
   "cell_type": "code",
   "execution_count": 16,
   "id": "3ee7a5cf",
   "metadata": {
    "execution": {
     "iopub.execute_input": "2024-05-17T14:08:49.513741Z",
     "iopub.status.busy": "2024-05-17T14:08:49.513515Z",
     "iopub.status.idle": "2024-05-17T14:08:49.517502Z",
     "shell.execute_reply": "2024-05-17T14:08:49.517084Z"
    },
    "lines_to_next_cell": 1,
    "papermill": {
     "duration": 0.021433,
     "end_time": "2024-05-17T14:08:49.518551",
     "exception": false,
     "start_time": "2024-05-17T14:08:49.497118",
     "status": "completed"
    },
    "tags": []
   },
   "outputs": [],
   "source": [
    "def rob2(nums: list[int]) -> int:\n",
    "    \"\"\"\n",
    "    Ans cannot contain both the first and the last house.\n",
    "    It can contain either the first or the last house.\n",
    "    \"\"\"\n",
    "    def rob(arr: list[int]) -> int:\n",
    "        next1 = next2 = 0\n",
    "        for curr in range(len(arr) - 1, -1, -1):\n",
    "            next1, next2 = max(arr[curr] + next2, next1), next1\n",
    "\n",
    "        return next1\n",
    "\n",
    "    return max(rob(nums[1:]), rob(nums[:-1])) if len(nums) > 1 else sum(nums)\n",
    "\n",
    "# Testing the solution\n",
    "assert rob2([1,2,3,1]) == 4\n",
    "assert rob2([]) == 0"
   ]
  },
  {
   "cell_type": "markdown",
   "id": "52745498",
   "metadata": {
    "papermill": {
     "duration": 0.015516,
     "end_time": "2024-05-17T14:08:49.549622",
     "exception": false,
     "start_time": "2024-05-17T14:08:49.534106",
     "status": "completed"
    },
    "tags": []
   },
   "source": [
    "Ninja's Training: https://youtu.be/AE39gJYuRog?si=n4BhCotno-9chP5j"
   ]
  },
  {
   "cell_type": "code",
   "execution_count": 17,
   "id": "c814dc79",
   "metadata": {
    "execution": {
     "iopub.execute_input": "2024-05-17T14:08:49.581673Z",
     "iopub.status.busy": "2024-05-17T14:08:49.581326Z",
     "iopub.status.idle": "2024-05-17T14:08:49.586499Z",
     "shell.execute_reply": "2024-05-17T14:08:49.585973Z"
    },
    "lines_to_next_cell": 1,
    "papermill": {
     "duration": 0.022523,
     "end_time": "2024-05-17T14:08:49.587523",
     "exception": false,
     "start_time": "2024-05-17T14:08:49.565000",
     "status": "completed"
    },
    "tags": []
   },
   "outputs": [],
   "source": [
    "def ninjaTrainingBetter(N: int, points: list[list[int]]) -> int:\n",
    "    \"\"\"\n",
    "    Memoization: Top down approach\n",
    "\n",
    "    Time: O(N), Space: O(N) + O(N)\n",
    "    \"\"\"\n",
    "\n",
    "    @functools.cache\n",
    "    def backtrack(i: int, j: int) -> int:\n",
    "        if i == N:\n",
    "            return 0\n",
    "        else:\n",
    "            max_ = -math.inf\n",
    "            for k in range(3):\n",
    "                if k != j:\n",
    "                    max_ = max(max_, points[i][k] + backtrack(i + 1, k))\n",
    "\n",
    "            return int(max_)\n",
    "\n",
    "    return backtrack(0, -1)\n",
    "\n",
    "# Testing the solution\n",
    "assert ninjaTrainingBetter(3, [[10,40,70], [20,50,80], [30,60,90]]) == 210\n",
    "assert ninjaTrainingBetter(3, [[1,2,5], [3,1,1], [3,3,3]]) == 11\n",
    "assert ninjaTrainingBetter(2, [[10,50,1], [5,100,11]]) == 110"
   ]
  },
  {
   "cell_type": "code",
   "execution_count": 18,
   "id": "015e9458",
   "metadata": {
    "execution": {
     "iopub.execute_input": "2024-05-17T14:08:49.619593Z",
     "iopub.status.busy": "2024-05-17T14:08:49.619160Z",
     "iopub.status.idle": "2024-05-17T14:08:49.624303Z",
     "shell.execute_reply": "2024-05-17T14:08:49.623870Z"
    },
    "lines_to_next_cell": 1,
    "papermill": {
     "duration": 0.022258,
     "end_time": "2024-05-17T14:08:49.625403",
     "exception": false,
     "start_time": "2024-05-17T14:08:49.603145",
     "status": "completed"
    },
    "tags": []
   },
   "outputs": [],
   "source": [
    "def ninjaTraining(N: int, points: list[list[int]]) -> int:\n",
    "    \"\"\"\n",
    "    Space optimized Tabulation DP: Bottom up\n",
    "\n",
    "    Start at the last day.\n",
    "    At each day we sum up corresponding values with the values in DP and assign them to DP.\n",
    "    Before moving the prev day, to the DP perform this op -> dp[i] = max(dp[j]) where j != i\n",
    "\n",
    "    At the end of the iteration simply return max of DP.\n",
    "\n",
    "    Time: O(N), Space: O(1)\n",
    "    \"\"\"\n",
    "\n",
    "    dp: list[int] = [0, 0, 0]\n",
    "    for i in range(N - 1, -1, -1):\n",
    "        for j in range(3):\n",
    "            dp[j] += points[i][j]\n",
    "\n",
    "        next_dp: list[int] = []\n",
    "        for j in range(3):\n",
    "            next_dp.append(max(dp[k] for k in range(3) if k != j))\n",
    "\n",
    "        dp = next_dp\n",
    "\n",
    "    return max(dp)\n",
    "\n",
    "# Testing the solution\n",
    "assert ninjaTraining(3, [[10,40,70], [20,50,80], [30,60,90]]) == 210\n",
    "assert ninjaTraining(3, [[1,2,5], [3,1,1], [3,3,3]]) == 11\n",
    "assert ninjaTraining(2, [[10,50,1], [5,100,11]]) == 110"
   ]
  },
  {
   "cell_type": "markdown",
   "id": "d132fa58",
   "metadata": {
    "papermill": {
     "duration": 0.015299,
     "end_time": "2024-05-17T14:08:49.656228",
     "exception": false,
     "start_time": "2024-05-17T14:08:49.640929",
     "status": "completed"
    },
    "tags": []
   },
   "source": [
    "Unique 2D paths: https://youtu.be/sdE0A2Oxofw?si=g1FpuSIYx0x95G-7\n",
    "https://leetcode.com/problems/unique-paths/"
   ]
  },
  {
   "cell_type": "code",
   "execution_count": 19,
   "id": "d035c9d7",
   "metadata": {
    "execution": {
     "iopub.execute_input": "2024-05-17T14:08:49.687964Z",
     "iopub.status.busy": "2024-05-17T14:08:49.687645Z",
     "iopub.status.idle": "2024-05-17T14:08:49.691795Z",
     "shell.execute_reply": "2024-05-17T14:08:49.691286Z"
    },
    "lines_to_next_cell": 1,
    "papermill": {
     "duration": 0.021105,
     "end_time": "2024-05-17T14:08:49.692804",
     "exception": false,
     "start_time": "2024-05-17T14:08:49.671699",
     "status": "completed"
    },
    "tags": []
   },
   "outputs": [],
   "source": [
    "def uniquePathsMemo(m: int, n: int) -> int:\n",
    "    \"\"\"\n",
    "    Memoization Solution: Top Down\n",
    "    Time: O(m x n), Space: O(m x n) + O(m x n)\n",
    "    \"\"\"\n",
    "    @functools.cache\n",
    "    def backtrack(i: int, j: int) -> int:\n",
    "        if i == m - 1 and j == n - 1:\n",
    "            return 1\n",
    "        elif i >= m or j >= n:\n",
    "            return 0\n",
    "        else:\n",
    "            return backtrack(i + 1, j) + backtrack(i, j + 1)\n",
    "\n",
    "    return backtrack(0, 0)\n",
    "\n",
    "# Testing the solution\n",
    "assert uniquePathsMemo(3, 7) == 28\n",
    "assert uniquePathsMemo(3, 2) == 3"
   ]
  },
  {
   "cell_type": "code",
   "execution_count": 20,
   "id": "c3fb756d",
   "metadata": {
    "execution": {
     "iopub.execute_input": "2024-05-17T14:08:49.724759Z",
     "iopub.status.busy": "2024-05-17T14:08:49.724400Z",
     "iopub.status.idle": "2024-05-17T14:08:49.728301Z",
     "shell.execute_reply": "2024-05-17T14:08:49.727891Z"
    },
    "lines_to_next_cell": 1,
    "papermill": {
     "duration": 0.021101,
     "end_time": "2024-05-17T14:08:49.729392",
     "exception": false,
     "start_time": "2024-05-17T14:08:49.708291",
     "status": "completed"
    },
    "tags": []
   },
   "outputs": [],
   "source": [
    "# https://leetcode.com/problems/unique-paths/submissions/1250526713\n",
    "def uniquePathsTab(m: int, n: int) -> int:\n",
    "    \"Time: O(m x n), Space: O(min(m, n))\"\n",
    "    M, N = min(m, n), max(m, n)\n",
    "    dp: list[int] = [1 for i in range(M)]\n",
    "\n",
    "    for i in range(N - 1):\n",
    "        for j in range(M - 2, -1, -1):\n",
    "            dp[j] += dp[j + 1]\n",
    "\n",
    "    return dp[0]\n",
    "\n",
    "# Testing the solution\n",
    "assert uniquePathsTab(3, 7) == 28\n",
    "assert uniquePathsTab(3, 2) == 3"
   ]
  },
  {
   "cell_type": "markdown",
   "id": "bb22f54a",
   "metadata": {
    "papermill": {
     "duration": 0.015452,
     "end_time": "2024-05-17T14:08:49.760384",
     "exception": false,
     "start_time": "2024-05-17T14:08:49.744932",
     "status": "completed"
    },
    "tags": []
   },
   "source": [
    "Video link: https://youtu.be/TmhpgXScLyY?si=M_FfFKRqRTXid4Jj\n",
    "Unique Paths - ii: https://leetcode.com/problems/unique-paths-ii/submissions/1250615914"
   ]
  },
  {
   "cell_type": "code",
   "execution_count": 21,
   "id": "f59a530c",
   "metadata": {
    "execution": {
     "iopub.execute_input": "2024-05-17T14:08:49.792760Z",
     "iopub.status.busy": "2024-05-17T14:08:49.792261Z",
     "iopub.status.idle": "2024-05-17T14:08:49.797300Z",
     "shell.execute_reply": "2024-05-17T14:08:49.796821Z"
    },
    "lines_to_next_cell": 1,
    "papermill": {
     "duration": 0.022455,
     "end_time": "2024-05-17T14:08:49.798321",
     "exception": false,
     "start_time": "2024-05-17T14:08:49.775866",
     "status": "completed"
    },
    "tags": []
   },
   "outputs": [],
   "source": [
    "def uniquePathsWithObstacles(obstacleGrid: list[list[int]]) -> int:\n",
    "    \"Time: O(M x N), Space: O(N)\"\n",
    "    M, N = len(obstacleGrid), len(obstacleGrid[0])\n",
    "\n",
    "    dp: list[int] = [0 for j in range(N)]\n",
    "    dp[-1] = 1\n",
    "\n",
    "    for i in range(M - 1, -1, -1):\n",
    "        for j in range(N - 1, -1, -1):\n",
    "            if obstacleGrid[i][j] == 0:\n",
    "                dp[j] = dp[j] + dp[j + 1] if j < N - 1 else dp[j]\n",
    "            else:\n",
    "                dp[j] = 0\n",
    "\n",
    "    return dp[0]\n",
    "\n",
    "# Testing the solution\n",
    "assert uniquePathsWithObstacles([[0,0,0],[0,1,0],[0,0,0]]) == 2\n",
    "assert uniquePathsWithObstacles([[0,1],[0,0]]) == 1\n",
    "assert uniquePathsWithObstacles([[1]]) == 0"
   ]
  },
  {
   "cell_type": "markdown",
   "id": "93e28e9b",
   "metadata": {
    "papermill": {
     "duration": 0.015422,
     "end_time": "2024-05-17T14:08:49.829334",
     "exception": false,
     "start_time": "2024-05-17T14:08:49.813912",
     "status": "completed"
    },
    "tags": []
   },
   "source": [
    "Minimum Path Sum: https://youtu.be/_rgTlyky1uQ?si=3xJY7MmVg5tTEW5Q\n",
    "https://leetcode.com/problems/minimum-path-sum/submissions/1250633614"
   ]
  },
  {
   "cell_type": "code",
   "execution_count": 22,
   "id": "c97f7ce9",
   "metadata": {
    "execution": {
     "iopub.execute_input": "2024-05-17T14:08:49.861348Z",
     "iopub.status.busy": "2024-05-17T14:08:49.860962Z",
     "iopub.status.idle": "2024-05-17T14:08:49.865695Z",
     "shell.execute_reply": "2024-05-17T14:08:49.865269Z"
    },
    "lines_to_next_cell": 1,
    "papermill": {
     "duration": 0.021879,
     "end_time": "2024-05-17T14:08:49.866751",
     "exception": false,
     "start_time": "2024-05-17T14:08:49.844872",
     "status": "completed"
    },
    "tags": []
   },
   "outputs": [],
   "source": [
    "def minPathSum(grid: list[list[int]]) -> int:\n",
    "    \"Time: O(M x N), Space: O(N)\"\n",
    "    M, N = len(grid), len(grid[0])\n",
    "\n",
    "    # Initialize DP\n",
    "    dp: list[float] = [math.inf for j in range(N)]\n",
    "    dp[-1] = 0\n",
    "\n",
    "    # DP Solution\n",
    "    for i in range(M - 1, -1, -1):\n",
    "        for j in range(N - 1, -1, -1):\n",
    "            dp[j] = grid[i][j] + (min(dp[j + 1], dp[j]) if j < N - 1 else dp[j])\n",
    "\n",
    "    return int(dp[0])\n",
    "\n",
    "# Testing the solution\n",
    "assert minPathSum([[1,3,1],[1,5,1],[4,2,1]]) == 7\n",
    "assert minPathSum([[1,2,3],[4,5,6]]) == 12"
   ]
  },
  {
   "cell_type": "markdown",
   "id": "107526ff",
   "metadata": {
    "papermill": {
     "duration": 0.015523,
     "end_time": "2024-05-17T14:08:49.897997",
     "exception": false,
     "start_time": "2024-05-17T14:08:49.882474",
     "status": "completed"
    },
    "tags": []
   },
   "source": [
    "Video Link: https://youtu.be/0bHoB32fuj0?si=5UHeArKmLvTVpbrk\n",
    "Triangle: https://leetcode.com/problems/triangle/submissions/1251774955/"
   ]
  },
  {
   "cell_type": "code",
   "execution_count": 23,
   "id": "62387041",
   "metadata": {
    "execution": {
     "iopub.execute_input": "2024-05-17T14:08:49.929713Z",
     "iopub.status.busy": "2024-05-17T14:08:49.929547Z",
     "iopub.status.idle": "2024-05-17T14:08:49.933894Z",
     "shell.execute_reply": "2024-05-17T14:08:49.933460Z"
    },
    "lines_to_next_cell": 1,
    "papermill": {
     "duration": 0.02146,
     "end_time": "2024-05-17T14:08:49.934974",
     "exception": false,
     "start_time": "2024-05-17T14:08:49.913514",
     "status": "completed"
    },
    "tags": []
   },
   "outputs": [],
   "source": [
    "def minimumTotal(triangle: list[list[int]]) -> int:\n",
    "    \"\"\"Time: O(N x N), Space: O(N)\"\"\"\n",
    "    N = len(triangle)\n",
    "    dp: list[int] = [0 for i in range(N + 1)]\n",
    "\n",
    "    while N > 0:\n",
    "        next_: list[int] = []\n",
    "        for i in range(N):\n",
    "            next_.append(min(dp[i], dp[i + 1]) + triangle[N - 1][i])\n",
    "        dp = next_\n",
    "        N -= 1\n",
    "\n",
    "    return dp[0]\n",
    "\n",
    "# Testing the solution\n",
    "assert minimumTotal([[2],[3,4],[6,5,7],[4,1,8,3]]) == 11\n",
    "assert minimumTotal([[-10]]) == -10"
   ]
  },
  {
   "cell_type": "markdown",
   "id": "51332104",
   "metadata": {
    "papermill": {
     "duration": 0.01554,
     "end_time": "2024-05-17T14:08:49.966099",
     "exception": false,
     "start_time": "2024-05-17T14:08:49.950559",
     "status": "completed"
    },
    "tags": []
   },
   "source": [
    "Video Link: https://youtu.be/N_aJ5qQbYA0?si=LTME1YI3hqtU8u8_\n",
    "Maximum Falling path sum\n",
    "We cannot apply greedy algorithms here because there is no uniformity mentioned. Uniformity implies how the numbers are distributed.\n",
    "For eg:\n",
    "```\n",
    "1   2  3    4\n",
    "10  1  100  1\n",
    "1   2  5    0\n",
    "```\n",
    "In the above example from (0, 0), if we greedily chose (1, 0) - we would miss out on 100 at (1, 2). \n",
    "If suppose we were told that the numbers were arranged in ascending or descending order we can greedily pick a path"
   ]
  },
  {
   "cell_type": "code",
   "execution_count": 24,
   "id": "4f9fb3eb",
   "metadata": {
    "execution": {
     "iopub.execute_input": "2024-05-17T14:08:49.997949Z",
     "iopub.status.busy": "2024-05-17T14:08:49.997477Z",
     "iopub.status.idle": "2024-05-17T14:08:50.002794Z",
     "shell.execute_reply": "2024-05-17T14:08:50.002353Z"
    },
    "lines_to_next_cell": 1,
    "papermill": {
     "duration": 0.022351,
     "end_time": "2024-05-17T14:08:50.003840",
     "exception": false,
     "start_time": "2024-05-17T14:08:49.981489",
     "status": "completed"
    },
    "tags": []
   },
   "outputs": [],
   "source": [
    "def getMaxPathSumBetter(matrix: list[list[int]]):\n",
    "    \"\"\"\n",
    "    With memoization:\n",
    "    Time complexity: O(3 ^ N)\n",
    "\n",
    "    Memoization Approach: Top Down\n",
    "    Time: O(N x M), Space: O(N x M) + O(N x M)\n",
    "    \"\"\"\n",
    "    M, N = len(matrix), len(matrix[0])\n",
    "\n",
    "    @functools.cache\n",
    "    def backtrack(i: int = 0, j: int = 0) -> float:\n",
    "        if i >= M:\n",
    "            return 0\n",
    "        elif j < 0 or j >= N:\n",
    "            return -math.inf\n",
    "        else:\n",
    "            return matrix[i][j] + max(backtrack(i + 1, j - 1), backtrack(i + 1, j), backtrack(i + 1, j + 1))\n",
    "\n",
    "    maxPathSum = -math.inf\n",
    "    for j in range(N):\n",
    "        maxPathSum = max(maxPathSum, backtrack(0, j))\n",
    "\n",
    "    return int(maxPathSum)\n",
    "\n",
    "# Testing the solution\n",
    "assert getMaxPathSumBetter([[1,2,10,4],[100,3,2,1],[1,1,20,2],[1,2,2,1]]) == 105\n",
    "assert getMaxPathSumBetter([[10,2,3],[3,7,2],[8,1,5]]) == 25"
   ]
  },
  {
   "cell_type": "code",
   "execution_count": 25,
   "id": "b3cf95be",
   "metadata": {
    "execution": {
     "iopub.execute_input": "2024-05-17T14:08:50.035890Z",
     "iopub.status.busy": "2024-05-17T14:08:50.035730Z",
     "iopub.status.idle": "2024-05-17T14:08:50.040701Z",
     "shell.execute_reply": "2024-05-17T14:08:50.040266Z"
    },
    "lines_to_next_cell": 1,
    "papermill": {
     "duration": 0.022279,
     "end_time": "2024-05-17T14:08:50.041723",
     "exception": false,
     "start_time": "2024-05-17T14:08:50.019444",
     "status": "completed"
    },
    "tags": []
   },
   "outputs": [],
   "source": [
    "def getMaxPathSum(matrix: list[list[int]]):\n",
    "    \"\"\"\n",
    "    Space optimized DP: Bottom up\n",
    "    Time: O(M x N), Space: O(N)\n",
    "    \"\"\"\n",
    "    M, N = len(matrix), len(matrix[0])\n",
    "\n",
    "    dp: list[float] = [0 for i in range(N)]\n",
    "    i = M - 1\n",
    "    while i >= 0:\n",
    "        next_: list[float] = []\n",
    "        for j in range(N):\n",
    "            next_.append(matrix[i][j] + max(dp[j - 1] if j - 1 >= 0 else -math.inf, dp[j], dp[j + 1] if j + 1 < N else -math.inf))\n",
    "\n",
    "        dp = next_\n",
    "        i -= 1\n",
    "\n",
    "    return max(dp)\n",
    "\n",
    "# Testing the solution\n",
    "assert getMaxPathSum([[1,2,10,4],[100,3,2,1],[1,1,20,2],[1,2,2,1]]) == 105\n",
    "assert getMaxPathSum([[10,2,3],[3,7,2],[8,1,5]]) == 25"
   ]
  },
  {
   "cell_type": "markdown",
   "id": "703cdb9d",
   "metadata": {
    "papermill": {
     "duration": 0.015564,
     "end_time": "2024-05-17T14:08:50.072880",
     "exception": false,
     "start_time": "2024-05-17T14:08:50.057316",
     "status": "completed"
    },
    "tags": []
   },
   "source": [
    "Cherry Pickup: 2: https://leetcode.com/problems/cherry-pickup-ii/\n",
    "Video Link: https://youtu.be/QGfn7JeXK54?si=2K0Lz9iKN_IxLUDN"
   ]
  },
  {
   "cell_type": "code",
   "execution_count": 26,
   "id": "d82f0e5d",
   "metadata": {
    "execution": {
     "iopub.execute_input": "2024-05-17T14:08:50.104429Z",
     "iopub.status.busy": "2024-05-17T14:08:50.104224Z",
     "iopub.status.idle": "2024-05-17T14:08:50.111113Z",
     "shell.execute_reply": "2024-05-17T14:08:50.110632Z"
    },
    "lines_to_next_cell": 1,
    "papermill": {
     "duration": 0.023858,
     "end_time": "2024-05-17T14:08:50.112125",
     "exception": false,
     "start_time": "2024-05-17T14:08:50.088267",
     "status": "completed"
    },
    "tags": []
   },
   "outputs": [],
   "source": [
    "def cherryPickupMemo(grid: list[list[int]]) -> int:\n",
    "    \"\"\"\n",
    "    Without memoization, time complexity: O(3 ^ M * 3 ^ M)\n",
    "\n",
    "    Space complexity is definitely improved with using @functools.cache, using list here to illustrate.\n",
    "    Time: O (M x N x N), Space: O (M x N x N)\n",
    "\n",
    "    To figure out the dp size, simply check how many parameters are chaning. Here we have an i, j1, j2 and hence dp is a 3D Matrix.\n",
    "    \"\"\"\n",
    "    M, N = len(grid), len(grid[0])\n",
    "    dp: list[list[list[float]]] = [[[-1 for k in range(N)] for j in range(N)] for i in range(M)]\n",
    "\n",
    "    def backtrack(i: int, j1: int, j2: int) -> float:\n",
    "        if j1 < 0 or j2 < 0 or j1 >= N or j2 >= N or j1 == j2:\n",
    "            return -math.inf\n",
    "        elif i > M - 1:\n",
    "            return 0\n",
    "        elif dp[i][j1][j2] != -1:\n",
    "            return dp[i][j1][j2]\n",
    "        else:\n",
    "            next_picked = -math.inf\n",
    "            for j1_offset in range(-1, 2):\n",
    "                for j2_offset in range(-1, 2):\n",
    "                    next_picked = max(next_picked, backtrack(i + 1, j1 + j1_offset, j2 + j2_offset))\n",
    "\n",
    "            dp[i][j1][j2] = grid[i][j1] + grid[i][j2] + next_picked\n",
    "            return dp[i][j1][j2]\n",
    "\n",
    "    result = int(backtrack(0, 0, N - 1))\n",
    "    return result\n",
    "\n",
    "# Testing the solution\n",
    "assert cherryPickupMemo([[1,0,0,0,0,0,1],[2,0,0,0,0,3,0],[2,0,9,0,0,0,0],[0,3,0,5,4,0,0],[1,0,2,3,0,0,6]]) == 28"
   ]
  },
  {
   "cell_type": "code",
   "execution_count": 27,
   "id": "85c88b05",
   "metadata": {
    "execution": {
     "iopub.execute_input": "2024-05-17T14:08:50.143767Z",
     "iopub.status.busy": "2024-05-17T14:08:50.143570Z",
     "iopub.status.idle": "2024-05-17T14:08:50.150806Z",
     "shell.execute_reply": "2024-05-17T14:08:50.150296Z"
    },
    "lines_to_next_cell": 1,
    "papermill": {
     "duration": 0.024258,
     "end_time": "2024-05-17T14:08:50.151901",
     "exception": false,
     "start_time": "2024-05-17T14:08:50.127643",
     "status": "completed"
    },
    "tags": []
   },
   "outputs": [],
   "source": [
    "def cherryPickupTab(grid: list[list[int]]) -> int:\n",
    "    \"\"\"\n",
    "    Simply start with the base case. Move bottom up.\n",
    "    \"\"\"\n",
    "    M, N = len(grid), len(grid[0])\n",
    "\n",
    "    # Initialize DP with the base case\n",
    "    dp: list[list[list[float]]] = [[[0 for k in range(N)] for j in range(N)] for i in range(M)]\n",
    "    for j1 in range(N):\n",
    "        for j2 in range(N):\n",
    "            dp[-1][j1][j2] = grid[-1][j1] + grid[-1][j2] if j1 != j2 else grid[-1][j1]\n",
    "\n",
    "    # i, j1, j2: (0 - M), (0 - N), (0 - N)\n",
    "    for i in range(M - 2, -1, -1):\n",
    "        for j1 in range(N):\n",
    "            for j2 in range(N):\n",
    "                max_: float = -math.inf\n",
    "                curr = grid[i][j1] + grid[i][j2] if j1 != j2 else grid[i][j1]\n",
    "                for j1_offset in range(-1, 2):\n",
    "                    for j2_offset in range(-1, 2):\n",
    "                        if 0 <= j1 + j1_offset < N and 0 <= j2 + j2_offset < N:\n",
    "                            max_ = max(max_, dp[i + 1][j1 + j1_offset][j2 + j2_offset])\n",
    "\n",
    "                dp[i][j1][j2] = max(-1, max_ + curr)\n",
    "\n",
    "    return int(dp[0][0][-1])\n",
    "\n",
    "# Testing the solution\n",
    "assert cherryPickupTab([[1,0,0,0,0,0,1],[2,0,0,0,0,3,0],[2,0,9,0,0,0,0],[0,3,0,5,4,0,0],[1,0,2,3,0,0,6]]) == 28"
   ]
  },
  {
   "cell_type": "code",
   "execution_count": 28,
   "id": "e2fdb650",
   "metadata": {
    "execution": {
     "iopub.execute_input": "2024-05-17T14:08:50.184249Z",
     "iopub.status.busy": "2024-05-17T14:08:50.183825Z",
     "iopub.status.idle": "2024-05-17T14:08:50.190568Z",
     "shell.execute_reply": "2024-05-17T14:08:50.190158Z"
    },
    "lines_to_next_cell": 1,
    "papermill": {
     "duration": 0.023853,
     "end_time": "2024-05-17T14:08:50.191574",
     "exception": false,
     "start_time": "2024-05-17T14:08:50.167721",
     "status": "completed"
    },
    "tags": []
   },
   "outputs": [],
   "source": [
    "def cherryPickupSpaceOptimized(grid: list[list[int]]) -> int:\n",
    "    M, N = len(grid), len(grid[0])\n",
    "    dp: list[list[float]] = [[grid[-1][j1] + grid[-1][j2] if j1 != j2 else grid[-1][j1] for j1 in range(N)] for j2 in range(N)]\n",
    "\n",
    "    for i in range(M - 2, -1, -1):\n",
    "        dp_next: list[list[float]] = []\n",
    "        for j1 in range(N):\n",
    "            dp_next.append([])\n",
    "            for j2 in range(N):\n",
    "                max_: float = -math.inf\n",
    "                curr = grid[i][j1] + grid[i][j2] if j1 != j2 else grid[i][j1]\n",
    "                for j1_offset in range(-1, 2):\n",
    "                    for j2_offset in range(-1, 2):\n",
    "                        if 0 <= j1 + j1_offset < N and 0 <= j2 + j2_offset < N:\n",
    "                            max_ = max(max_, dp[j1 + j1_offset][j2 + j2_offset])\n",
    "\n",
    "                dp_next[j1].append(curr + max_)\n",
    "        dp = dp_next\n",
    "\n",
    "    return int(dp[0][-1])\n",
    "\n",
    "# Testing the solution\n",
    "assert cherryPickupSpaceOptimized([[1,0,0,0,0,0,1],[2,0,0,0,0,3,0],[2,0,9,0,0,0,0],[0,3,0,5,4,0,0],[1,0,2,3,0,0,6]]) == 28"
   ]
  },
  {
   "cell_type": "markdown",
   "id": "17816765",
   "metadata": {
    "papermill": {
     "duration": 0.015501,
     "end_time": "2024-05-17T14:08:50.222786",
     "exception": false,
     "start_time": "2024-05-17T14:08:50.207285",
     "status": "completed"
    },
    "tags": []
   },
   "source": [
    "Subset sum equals target\n",
    "Video Link: https://youtu.be/fWX9xDmIzRI?si=jb2Tgvw_E0Tyk1Pj"
   ]
  },
  {
   "cell_type": "code",
   "execution_count": 29,
   "id": "4f37d7b7",
   "metadata": {
    "execution": {
     "iopub.execute_input": "2024-05-17T14:08:50.255043Z",
     "iopub.status.busy": "2024-05-17T14:08:50.254787Z",
     "iopub.status.idle": "2024-05-17T14:08:50.259869Z",
     "shell.execute_reply": "2024-05-17T14:08:50.259359Z"
    },
    "lines_to_next_cell": 1,
    "papermill": {
     "duration": 0.022255,
     "end_time": "2024-05-17T14:08:50.260861",
     "exception": false,
     "start_time": "2024-05-17T14:08:50.238606",
     "status": "completed"
    },
    "tags": []
   },
   "outputs": [],
   "source": [
    "def isSubsetSumMemo(N: int, arr: list[int], target: int) -> int:\n",
    "    \"\"\"\n",
    "    For cases where subset exists, the recursion would stop early. For the negative cases, we would get overlapping subproblems and\n",
    "    hence memoization would help decrease the time complexity.\n",
    "\n",
    "    Time without memoization: O(2 ^ N), Space: O(N)\n",
    "    With memoization: O(N x target), Space: O(N x target) + O(N)\n",
    "    \"\"\"\n",
    "\n",
    "    dp: list[list[int]] = [[-1 for j in range(target + 1)] for i in range(N)]\n",
    "    def backtrack(i: int, total: int) -> bool:\n",
    "        if total == 0:\n",
    "            return True\n",
    "        elif total < 0 or i > N - 1:\n",
    "            return False\n",
    "        elif dp[i][total] != -1:\n",
    "            return bool(dp[i][total])\n",
    "        else:\n",
    "            result = backtrack(i + 1, total - arr[i]) or backtrack(i + 1, total)\n",
    "            dp[i][total] = int(result)\n",
    "            return result\n",
    "\n",
    "    return backtrack(0, target)\n",
    "\n",
    "# Testing the solution\n",
    "assert isSubsetSumMemo(6, [3, 34, 4, 12, 5, 2], 9) == True\n",
    "assert isSubsetSumMemo(6, [3, 34, 4, 12, 5, 2], 30) == False"
   ]
  },
  {
   "cell_type": "code",
   "execution_count": 30,
   "id": "5551c36b",
   "metadata": {
    "execution": {
     "iopub.execute_input": "2024-05-17T14:08:50.293066Z",
     "iopub.status.busy": "2024-05-17T14:08:50.292707Z",
     "iopub.status.idle": "2024-05-17T14:08:50.298419Z",
     "shell.execute_reply": "2024-05-17T14:08:50.297964Z"
    },
    "lines_to_next_cell": 1,
    "papermill": {
     "duration": 0.023048,
     "end_time": "2024-05-17T14:08:50.299466",
     "exception": false,
     "start_time": "2024-05-17T14:08:50.276418",
     "status": "completed"
    },
    "tags": []
   },
   "outputs": [
    {
     "name": "stdout",
     "output_type": "stream",
     "text": [
      "[[1, 0, 1, 1, 1, 1, 1, 1, 1, 1], [1, 0, 1, 0, 1, 1, 1, 1, 0, 1], [1, 0, 1, 0, 1, 1, 1, 1, 0, 1], [1, 0, 1, 0, 0, 1, 0, 1, 0, 0], [1, 0, 1, 0, 0, 1, 0, 1, 0, 0], [1, 0, 1, 0, 0, 0, 0, 0, 0, 0], [1, 0, 0, 0, 0, 0, 0, 0, 0, 0]]\n",
      "[[1, 0, 1, 1, 1, 1, 1, 1, 1, 1, 1, 1, 1, 0, 1, 1, 1, 1, 1, 1, 1, 1, 1, 1, 1, 0, 1, 0, 0, 0, 0], [1, 0, 1, 0, 1, 1, 1, 1, 0, 1, 0, 1, 1, 0, 1, 0, 1, 1, 1, 1, 0, 1, 0, 1, 0, 0, 0, 0, 0, 0, 0], [1, 0, 1, 0, 1, 1, 1, 1, 0, 1, 0, 1, 1, 0, 1, 0, 1, 1, 1, 1, 0, 1, 0, 1, 0, 0, 0, 0, 0, 0, 0], [1, 0, 1, 0, 0, 1, 0, 1, 0, 0, 0, 0, 1, 0, 1, 0, 0, 1, 0, 1, 0, 0, 0, 0, 0, 0, 0, 0, 0, 0, 0], [1, 0, 1, 0, 0, 1, 0, 1, 0, 0, 0, 0, 0, 0, 0, 0, 0, 0, 0, 0, 0, 0, 0, 0, 0, 0, 0, 0, 0, 0, 0], [1, 0, 1, 0, 0, 0, 0, 0, 0, 0, 0, 0, 0, 0, 0, 0, 0, 0, 0, 0, 0, 0, 0, 0, 0, 0, 0, 0, 0, 0, 0], [1, 0, 0, 0, 0, 0, 0, 0, 0, 0, 0, 0, 0, 0, 0, 0, 0, 0, 0, 0, 0, 0, 0, 0, 0, 0, 0, 0, 0, 0, 0]]\n"
     ]
    }
   ],
   "source": [
    "def isSubsetSumTab(N: int, arr: list[int], target: int) -> bool:\n",
    "    \"\"\"\n",
    "    Each cell in the dp represents -> If total - arr[i] is true down the line.\n",
    "    Note that dp[i][0] is always true, since if the target is to be 0 regardless of arr[i] tehn subsetSumTarget is possible.\n",
    "    \"\"\"\n",
    "    dp: list[list[int]] = [[1 if j == 0 else -1 if i < N else 0 for j in range(target + 1)] for i in range(N + 1)]\n",
    "\n",
    "    for i in range(N - 1, -1, -1):\n",
    "        for total in range(1, target + 1):\n",
    "            if dp[i + 1][total] == 1 or (total - arr[i] >= 0 and dp[i + 1][total - arr[i]] == 1):\n",
    "                dp[i][total] = 1\n",
    "            else:\n",
    "                dp[i][total] = 0\n",
    "\n",
    "    print(dp)\n",
    "    return bool(dp[0][target])\n",
    "\n",
    "# Testing the solution\n",
    "assert isSubsetSumTab(6, [3, 34, 4, 12, 5, 2], 9) == True\n",
    "assert isSubsetSumTab(6, [3, 34, 4, 12, 5, 2], 30) == False"
   ]
  },
  {
   "cell_type": "code",
   "execution_count": 31,
   "id": "ca80b369",
   "metadata": {
    "execution": {
     "iopub.execute_input": "2024-05-17T14:08:50.331888Z",
     "iopub.status.busy": "2024-05-17T14:08:50.331691Z",
     "iopub.status.idle": "2024-05-17T14:08:50.336432Z",
     "shell.execute_reply": "2024-05-17T14:08:50.336015Z"
    },
    "lines_to_next_cell": 1,
    "papermill": {
     "duration": 0.022066,
     "end_time": "2024-05-17T14:08:50.337481",
     "exception": false,
     "start_time": "2024-05-17T14:08:50.315415",
     "status": "completed"
    },
    "tags": []
   },
   "outputs": [],
   "source": [
    "def isSubsetSumSpaceOptimized(N: int, arr: list[int], target: int) -> bool:\n",
    "    \"Time: O(N x target), Space: O(target)\"\n",
    "    dp: list[int] = [0 if j > 0 else 1 for j in range(target + 1)]\n",
    "\n",
    "    for i in range(N - 1, -1, -1):\n",
    "        next_: list[int] = []\n",
    "        for total in range(target + 1):\n",
    "            if total == 0 or dp[total] == 1 or (total - arr[i] >= 0 and dp[total - arr[i]] == 1):\n",
    "                next_.append(1)\n",
    "            else:\n",
    "                next_.append(0)\n",
    "\n",
    "        dp = next_\n",
    "\n",
    "    return bool(dp[target])\n",
    "\n",
    "# Testing the solution\n",
    "assert isSubsetSumSpaceOptimized(6, [3, 34, 4, 12, 5, 2], 9) == True\n",
    "assert isSubsetSumSpaceOptimized(6, [3, 34, 4, 12, 5, 2], 30) == False"
   ]
  },
  {
   "cell_type": "markdown",
   "id": "7a10f4ca",
   "metadata": {
    "papermill": {
     "duration": 0.015537,
     "end_time": "2024-05-17T14:08:50.368896",
     "exception": false,
     "start_time": "2024-05-17T14:08:50.353359",
     "status": "completed"
    },
    "tags": []
   },
   "source": [
    "Partition equal subset sum: https://leetcode.com/problems/partition-equal-subset-sum/\n",
    "Video Link: https://youtu.be/7win3dcgo3k?si=LJO4Ot4EZzQ2fRc0"
   ]
  },
  {
   "cell_type": "code",
   "execution_count": 32,
   "id": "373088cf",
   "metadata": {
    "execution": {
     "iopub.execute_input": "2024-05-17T14:08:50.401011Z",
     "iopub.status.busy": "2024-05-17T14:08:50.400694Z",
     "iopub.status.idle": "2024-05-17T14:08:50.405975Z",
     "shell.execute_reply": "2024-05-17T14:08:50.405524Z"
    },
    "lines_to_next_cell": 1,
    "papermill": {
     "duration": 0.022466,
     "end_time": "2024-05-17T14:08:50.407038",
     "exception": false,
     "start_time": "2024-05-17T14:08:50.384572",
     "status": "completed"
    },
    "tags": []
   },
   "outputs": [],
   "source": [
    "# https://leetcode.com/problems/partition-equal-subset-sum/submissions/1253314239\n",
    "def canPartition(nums: list[int]) -> bool:\n",
    "    def subsetSumEqualsTarget(target: int) -> bool:\n",
    "        \"Time: O(N x target), Space: O(target)\"\n",
    "        dp: list[bool] = [False if i > 0 else True for i in range(target + 1)]\n",
    "        for i in range(N - 1, -1, -1):\n",
    "            next_: list[bool] = []\n",
    "            for total in range(target + 1):\n",
    "                if total == 0 or dp[total] or (total - nums[i] >= 0 and dp[total - nums[i]]):\n",
    "                    next_.append(True)\n",
    "                else:\n",
    "                    next_.append(False)\n",
    "\n",
    "            dp = next_\n",
    "\n",
    "        return dp[target]\n",
    "\n",
    "    N = len(nums)\n",
    "    total = sum(nums)\n",
    "    return total % 2 == 0 and subsetSumEqualsTarget(total // 2)\n",
    "\n",
    "# Testing the solution\n",
    "assert canPartition([1,5,11,5]) == True\n",
    "assert canPartition([1,2,3,5]) == False\n",
    "assert canPartition([3,3,3,4,5]) == True"
   ]
  },
  {
   "cell_type": "markdown",
   "id": "56f6a268",
   "metadata": {
    "papermill": {
     "duration": 0.01538,
     "end_time": "2024-05-17T14:08:50.438131",
     "exception": false,
     "start_time": "2024-05-17T14:08:50.422751",
     "status": "completed"
    },
    "tags": []
   },
   "source": [
    "Partition Array Into Two Arrays to Minimize Sum Difference\n",
    "Video link: https://youtu.be/GS_OqZb2CWc?si=Jtc2dP_dqmNi5Zli"
   ]
  },
  {
   "cell_type": "code",
   "execution_count": 33,
   "id": "00588c88",
   "metadata": {
    "execution": {
     "iopub.execute_input": "2024-05-17T14:08:50.469984Z",
     "iopub.status.busy": "2024-05-17T14:08:50.469668Z",
     "iopub.status.idle": "2024-05-17T14:08:50.474368Z",
     "shell.execute_reply": "2024-05-17T14:08:50.473952Z"
    },
    "lines_to_next_cell": 1,
    "papermill": {
     "duration": 0.021753,
     "end_time": "2024-05-17T14:08:50.475394",
     "exception": false,
     "start_time": "2024-05-17T14:08:50.453641",
     "status": "completed"
    },
    "tags": []
   },
   "outputs": [],
   "source": [
    "def minimumDifferenceBrute(nums: list[int]) -> int:\n",
    "    \"\"\"\n",
    "    Throws a TLE :(\n",
    "    \"\"\"\n",
    "    N, total_sum = len(nums), sum(nums)\n",
    "    subset_length = N // 2\n",
    "\n",
    "    @functools.cache\n",
    "    def backtrack(i: int, subset_sum: int, count: int) -> float:\n",
    "        if count == subset_length:\n",
    "            return abs(2 * subset_sum - total_sum)\n",
    "        elif i == N:\n",
    "            return math.inf\n",
    "        else:\n",
    "            return min(backtrack(i + 1, subset_sum + nums[i], count + 1), backtrack(i + 1, subset_sum, count))\n",
    "\n",
    "    result = int(backtrack(0, 0, 0))\n",
    "    return result\n",
    "\n",
    "# Testing the solution\n",
    "assert minimumDifferenceBrute([3,9,7,3]) == 2\n",
    "assert minimumDifferenceBrute([-36,36]) == 72\n",
    "assert minimumDifferenceBrute([2,-1,0,4,-2,-9]) == 0"
   ]
  },
  {
   "cell_type": "code",
   "execution_count": 34,
   "id": "97c34ef1",
   "metadata": {
    "execution": {
     "iopub.execute_input": "2024-05-17T14:08:50.507843Z",
     "iopub.status.busy": "2024-05-17T14:08:50.507493Z",
     "iopub.status.idle": "2024-05-17T14:08:50.514230Z",
     "shell.execute_reply": "2024-05-17T14:08:50.513812Z"
    },
    "lines_to_next_cell": 1,
    "papermill": {
     "duration": 0.02408,
     "end_time": "2024-05-17T14:08:50.515272",
     "exception": false,
     "start_time": "2024-05-17T14:08:50.491192",
     "status": "completed"
    },
    "tags": []
   },
   "outputs": [],
   "source": [
    "def minimumDifference(nums: list[int]) -> int:\n",
    "    \"\"\"\n",
    "    Use the DP tabulation approach we used to check if a subset with target sum exists. Still Memory limit exceeded.\n",
    "    Note that this is different the one on the video. This solution is leetcode specific. In the video by Striver, the values can only be positive. Further more we can split into any size.\n",
    "    In LC however, the subset must be split into 2 halves, values can be both positive and negative.\n",
    "    \"\"\"\n",
    "\n",
    "    N, total_abs_sum, total_sum = len(nums), sum(map(abs, nums)), sum(nums)\n",
    "\n",
    "    # Each value represents the length of subset summing up to target. -1 if cannot be reached.\n",
    "    dp: list[int] = [-1 if j != 0 else 0 for j in range(-total_abs_sum, total_abs_sum + 1)]\n",
    "\n",
    "    for i in range(N - 1, -1, -1):\n",
    "        next_dp: list[int] = []\n",
    "        for target in range(-total_abs_sum, total_abs_sum + 1):\n",
    "            # Pick, subset length incremented by 1\n",
    "            if 0 <= target - nums[i] + total_abs_sum <= 2 * total_abs_sum and dp[target - nums[i] + total_abs_sum] != -1:\n",
    "                subset_length = dp[target - nums[i] + total_abs_sum] + 1\n",
    "                existing_length = dp[target + total_abs_sum]\n",
    "                next_dp.append(subset_length if existing_length != N // 2 else existing_length)\n",
    "            # No pick, hence subset length is unupdated\n",
    "            elif dp[target + total_abs_sum] != -1:\n",
    "                next_dp.append(dp[target + total_abs_sum])\n",
    "            # Base case\n",
    "            elif target == 0:\n",
    "                next_dp.append(0)\n",
    "            # Sum cannot be reached\n",
    "            else:\n",
    "                next_dp.append(-1)\n",
    "\n",
    "        dp = next_dp\n",
    "\n",
    "    # Find out targets where value is N // 2\n",
    "    min_diff: float = math.inf\n",
    "    for subset_sum, subset_length in enumerate(dp, start=-total_abs_sum):\n",
    "        if subset_length == N // 2:\n",
    "            min_diff = min(min_diff, abs(2 * subset_sum - total_sum))\n",
    "\n",
    "    return int(min_diff)\n",
    "\n",
    "# Testing the solution\n",
    "assert minimumDifference([3,9,7,3]) == 2\n",
    "assert minimumDifference([-36,36]) == 72\n",
    "assert minimumDifference([2,-1,0,4,-2,-9]) == 0"
   ]
  },
  {
   "cell_type": "code",
   "execution_count": 35,
   "id": "54752ee1",
   "metadata": {
    "execution": {
     "iopub.execute_input": "2024-05-17T14:08:50.547351Z",
     "iopub.status.busy": "2024-05-17T14:08:50.547154Z",
     "iopub.status.idle": "2024-05-17T14:08:50.552281Z",
     "shell.execute_reply": "2024-05-17T14:08:50.551815Z"
    },
    "lines_to_next_cell": 1,
    "papermill": {
     "duration": 0.022185,
     "end_time": "2024-05-17T14:08:50.553306",
     "exception": false,
     "start_time": "2024-05-17T14:08:50.531121",
     "status": "completed"
    },
    "tags": []
   },
   "outputs": [],
   "source": [
    "def minSubsetSumDifference(arr: list[int], N: int) -> int:\n",
    "    # Compute max total sum\n",
    "    total_sum: int = sum(arr)\n",
    "\n",
    "    # Compute DP grid for all possible subset sums\n",
    "    dp: list[bool] = [False if i > 0 else True for i in range(total_sum + 1)]\n",
    "    for i in range(N - 1, -1, -1):\n",
    "        next_dp: list[bool] = []\n",
    "        for target in range(total_sum + 1):\n",
    "            if target == 0 or dp[target] or (target - arr[i] >= 0 and dp[target - arr[i]]):\n",
    "                next_dp.append(True)\n",
    "            else:\n",
    "                next_dp.append(False)\n",
    "        dp = next_dp\n",
    "\n",
    "    # Compute the minimum subset difference\n",
    "    min_diff: int = total_sum\n",
    "\n",
    "    # total_sum / 2 since it is enough if we computed one half, diff of sum from total sum would cover the other half as well\n",
    "    for target in range(math.ceil(total_sum / 2) + 1):\n",
    "        if dp[target]:\n",
    "            min_diff = min(min_diff, abs(2 * target - total_sum))\n",
    "\n",
    "    return min_diff\n",
    "\n",
    "# Testing the solution\n",
    "assert minSubsetSumDifference([8,6,5], 3) == 3"
   ]
  },
  {
   "cell_type": "markdown",
   "id": "884d535e",
   "metadata": {
    "papermill": {
     "duration": 0.015437,
     "end_time": "2024-05-17T14:08:50.584232",
     "exception": false,
     "start_time": "2024-05-17T14:08:50.568795",
     "status": "completed"
    },
    "tags": []
   },
   "source": [
    "Count subsets with sum k"
   ]
  },
  {
   "cell_type": "code",
   "execution_count": 36,
   "id": "534b55bb",
   "metadata": {
    "execution": {
     "iopub.execute_input": "2024-05-17T14:08:50.616111Z",
     "iopub.status.busy": "2024-05-17T14:08:50.615911Z",
     "iopub.status.idle": "2024-05-17T14:08:50.621600Z",
     "shell.execute_reply": "2024-05-17T14:08:50.621169Z"
    },
    "lines_to_next_cell": 1,
    "papermill": {
     "duration": 0.022871,
     "end_time": "2024-05-17T14:08:50.622632",
     "exception": false,
     "start_time": "2024-05-17T14:08:50.599761",
     "status": "completed"
    },
    "tags": []
   },
   "outputs": [],
   "source": [
    "def perfectSumMemo(nums: list[int], N: int, K: int):\n",
    "    \"\"\"\n",
    "    Time: O(N * K) + O(N); Space: O(N * K)\n",
    "    \"\"\"\n",
    "\n",
    "    # Filter out all the zeros\n",
    "    arr: list[int] = []\n",
    "    N = zero_count = 0\n",
    "    for n in nums:\n",
    "        if n > 0:\n",
    "            arr.append(n)\n",
    "            N += 1\n",
    "        else:\n",
    "            zero_count += 1\n",
    "\n",
    "    # Compute the results and store it to a list\n",
    "    dp: list[list[int]] = [[-1 for j in range(K + 1)] for i in range(N)]\n",
    "\n",
    "    # Recursively find the solution\n",
    "    def backtrack(i: int, total: int) -> int:\n",
    "        if total == K:\n",
    "            return 1\n",
    "        elif i >= N or total > K:\n",
    "            return 0\n",
    "        elif dp[i][total] != -1:\n",
    "            return dp[i][total]\n",
    "        else:\n",
    "            result = backtrack(i + 1, total + arr[i]) + backtrack(i + 1, total)\n",
    "            dp[i][total] = result\n",
    "            return result\n",
    "\n",
    "    return backtrack(0, 0) * (2 ** zero_count)\n",
    "\n",
    "# Testing the solution\n",
    "assert perfectSumMemo([5, 2, 3, 10, 6, 8], 6, 10) == 3\n",
    "assert perfectSumMemo([1, 0], 2, 1) == 2"
   ]
  },
  {
   "cell_type": "code",
   "execution_count": 37,
   "id": "dee4da2c",
   "metadata": {
    "execution": {
     "iopub.execute_input": "2024-05-17T14:08:50.655026Z",
     "iopub.status.busy": "2024-05-17T14:08:50.654601Z",
     "iopub.status.idle": "2024-05-17T14:08:50.660184Z",
     "shell.execute_reply": "2024-05-17T14:08:50.659747Z"
    },
    "lines_to_next_cell": 1,
    "papermill": {
     "duration": 0.022828,
     "end_time": "2024-05-17T14:08:50.661265",
     "exception": false,
     "start_time": "2024-05-17T14:08:50.638437",
     "status": "completed"
    },
    "tags": []
   },
   "outputs": [],
   "source": [
    "def perfectSumTabulation(nums: list[int], N: int, K: int):\n",
    "    # Filter out all the zeros\n",
    "    arr: list[int] = []\n",
    "    N = zero_count = 0\n",
    "    for n in nums:\n",
    "        if n > 0:\n",
    "            arr.append(n)\n",
    "            N += 1\n",
    "        else:\n",
    "            zero_count += 1\n",
    "\n",
    "    # Initialize a DP array\n",
    "    dp: list[list[int]] = [[-1 if j < K else 1 for j in range(K + 1)] for i in range(N)]\n",
    "    dp.append([0 if j < K else 1 for j in range(K + 1)])\n",
    "\n",
    "    # Traverse through grid\n",
    "    for i in range(N - 1, -1, -1):\n",
    "        for total in range(K):\n",
    "            dp[i][total] = dp[i + 1][total]\n",
    "            if total + arr[i] <= K:\n",
    "                dp[i][total] += dp[i + 1][total + arr[i]]\n",
    "\n",
    "    return dp[0][0] * (2 ** zero_count)\n",
    "\n",
    "# Testing the solution\n",
    "assert perfectSumTabulation([5, 2, 3, 10, 6, 8], 6, 10) == 3\n",
    "assert perfectSumTabulation([1, 0], 2, 1) == 2"
   ]
  },
  {
   "cell_type": "code",
   "execution_count": 38,
   "id": "2d2468ad",
   "metadata": {
    "execution": {
     "iopub.execute_input": "2024-05-17T14:08:50.693113Z",
     "iopub.status.busy": "2024-05-17T14:08:50.692908Z",
     "iopub.status.idle": "2024-05-17T14:08:50.697869Z",
     "shell.execute_reply": "2024-05-17T14:08:50.697431Z"
    },
    "lines_to_next_cell": 1,
    "papermill": {
     "duration": 0.022091,
     "end_time": "2024-05-17T14:08:50.698931",
     "exception": false,
     "start_time": "2024-05-17T14:08:50.676840",
     "status": "completed"
    },
    "tags": []
   },
   "outputs": [],
   "source": [
    "def perfectSum(nums: list[int], N: int, K: int):\n",
    "    # Filter out all the zeros\n",
    "    arr: list[int] = []\n",
    "    N = zero_count = 0\n",
    "    for n in nums:\n",
    "        if n > 0:\n",
    "            arr.append(n)\n",
    "            N += 1\n",
    "        else:\n",
    "            zero_count += 1\n",
    "\n",
    "    # Initialize a DP array\n",
    "    dp: list[int] = [0 if j < K else 1 for j in range(K + 1)]\n",
    "\n",
    "    # Traverse through grid\n",
    "    for i in range(N - 1, -1, -1):\n",
    "        next_dp: list[int] = []\n",
    "        for total in range(K + 1):\n",
    "            next_dp.append(dp[total])\n",
    "            if total + arr[i] <= K:\n",
    "                next_dp[-1] += dp[total + arr[i]]\n",
    "\n",
    "        dp = next_dp\n",
    "\n",
    "    return dp[0] * (2 ** zero_count)\n",
    "\n",
    "# Testing the solution\n",
    "assert perfectSum([5, 2, 3, 10, 6, 8], 6, 10) == 3\n",
    "assert perfectSum([1, 0], 2, 1) == 2"
   ]
  },
  {
   "cell_type": "markdown",
   "id": "2bff8c7f",
   "metadata": {
    "papermill": {
     "duration": 0.015836,
     "end_time": "2024-05-17T14:08:50.730462",
     "exception": false,
     "start_time": "2024-05-17T14:08:50.714626",
     "status": "completed"
    },
    "tags": []
   },
   "source": [
    "Count Paritions with given difference: https://youtu.be/zoilQD1kYSg?si=F8PFSkzkZXEsFJ2N"
   ]
  },
  {
   "cell_type": "code",
   "execution_count": 39,
   "id": "051bd113",
   "metadata": {
    "execution": {
     "iopub.execute_input": "2024-05-17T14:08:50.763236Z",
     "iopub.status.busy": "2024-05-17T14:08:50.762695Z",
     "iopub.status.idle": "2024-05-17T14:08:50.767875Z",
     "shell.execute_reply": "2024-05-17T14:08:50.767363Z"
    },
    "lines_to_next_cell": 1,
    "papermill": {
     "duration": 0.022804,
     "end_time": "2024-05-17T14:08:50.768896",
     "exception": false,
     "start_time": "2024-05-17T14:08:50.746092",
     "status": "completed"
    },
    "tags": []
   },
   "outputs": [],
   "source": [
    "def countPartitionsMemo(N: int, diff: int, arr: list[int]) -> int:\n",
    "    \"\"\"\n",
    "    s1 + s2 = S\n",
    "    s1 - s2 = d\n",
    "    2 * s1 = S + d\n",
    "\n",
    "    Time: O(N x target) + O(N)\n",
    "    Space: O(N x target)\n",
    "    \"\"\"\n",
    "\n",
    "    # Simply check if the target exists\n",
    "    target = (sum(arr) + diff) / 2\n",
    "\n",
    "    # Count all subset sums equals target\n",
    "    @functools.cache\n",
    "    def backtrack(i: int, total: int) -> int:\n",
    "        if i == N:\n",
    "            return total == target\n",
    "        elif total > target:\n",
    "            return 0\n",
    "        else:\n",
    "            return backtrack(i + 1, total + arr[i]) + backtrack(i + 1, total)\n",
    "\n",
    "    result = backtrack(0, 0) if target == int(target) else 0\n",
    "    MOD = int(1e9 + 7)\n",
    "    return result % MOD\n",
    "\n",
    "# Testing the solution\n",
    "assert countPartitionsMemo(4, 0, [1,1,1,1]) == 6\n",
    "assert countPartitionsMemo(4, 3, [5,2,6,4]) == 1\n",
    "assert countPartitionsMemo(5, 5, [1,3,3,2,1]) == 0"
   ]
  },
  {
   "cell_type": "code",
   "execution_count": 40,
   "id": "4cd9fbc1",
   "metadata": {
    "execution": {
     "iopub.execute_input": "2024-05-17T14:08:50.802147Z",
     "iopub.status.busy": "2024-05-17T14:08:50.801662Z",
     "iopub.status.idle": "2024-05-17T14:08:50.807451Z",
     "shell.execute_reply": "2024-05-17T14:08:50.806931Z"
    },
    "lines_to_next_cell": 1,
    "papermill": {
     "duration": 0.023766,
     "end_time": "2024-05-17T14:08:50.808576",
     "exception": false,
     "start_time": "2024-05-17T14:08:50.784810",
     "status": "completed"
    },
    "tags": []
   },
   "outputs": [],
   "source": [
    "def countPartitionsTabulation(N: int, diff: int, arr: list[int]) -> int:\n",
    "    \"\"\"\n",
    "    Time: O(N x target), Space: O(N x target)\n",
    "    \"\"\"\n",
    "    # Simply check if the target exists\n",
    "    target_: float = (sum(arr) + diff) / 2\n",
    "    MOD = int(1e9 + 7)\n",
    "\n",
    "    if int(target_) != target_:\n",
    "        return 0\n",
    "\n",
    "    else:\n",
    "\n",
    "        # Convert to int for typing support\n",
    "        target = int(target_)\n",
    "\n",
    "        # Initialize DP array for tabulation\n",
    "        dp: list[list[int]] = [[0 if j != target or i != N else 1 for j in range(target + 1)] for i in range(N + 1)]\n",
    "\n",
    "        # Iterate through DP and find the solution\n",
    "        for i in range(N - 1, -1, -1):\n",
    "            for total in range(target + 1):\n",
    "                dp[i][total] = dp[i + 1][total]\n",
    "                if total + arr[i] <= target:\n",
    "                    dp[i][total] += dp[i + 1][total + arr[i]]\n",
    "\n",
    "        return dp[0][0]\n",
    "\n",
    "# Testing the solution\n",
    "assert countPartitionsTabulation(4, 3, [5,2,6,4]) == 1\n",
    "assert countPartitionsTabulation(4, 3, [5,2,6,4]) == 1\n",
    "assert countPartitionsTabulation(5, 5, [1,3,3,2,1]) == 0"
   ]
  },
  {
   "cell_type": "code",
   "execution_count": 41,
   "id": "09aacbe5",
   "metadata": {
    "execution": {
     "iopub.execute_input": "2024-05-17T14:08:50.842148Z",
     "iopub.status.busy": "2024-05-17T14:08:50.841692Z",
     "iopub.status.idle": "2024-05-17T14:08:50.847322Z",
     "shell.execute_reply": "2024-05-17T14:08:50.846797Z"
    },
    "lines_to_next_cell": 1,
    "papermill": {
     "duration": 0.02366,
     "end_time": "2024-05-17T14:08:50.848490",
     "exception": false,
     "start_time": "2024-05-17T14:08:50.824830",
     "status": "completed"
    },
    "tags": []
   },
   "outputs": [],
   "source": [
    "def countPartitions(N: int, diff: int, arr: list[int]) -> int:\n",
    "    # Simply check if the target exists\n",
    "    target_: float = (sum(arr) + diff) / 2\n",
    "    MOD = int(1e9 + 7)\n",
    "\n",
    "    if int(target_) != target_:\n",
    "        return 0\n",
    "\n",
    "    else:\n",
    "        # Convert to int for type hinting\n",
    "        target = int(target_)\n",
    "\n",
    "        # Create a 1D grid (space optimized)\n",
    "        dp: list[int] = [0 if j != target else 1 for j in range(target + 1)]\n",
    "\n",
    "        # Iterate through DP\n",
    "        for i in range(N - 1, -1, -1):\n",
    "            next_dp: list[int] = []\n",
    "            for total in range(target + 1):\n",
    "                next_dp.append(dp[total])\n",
    "                if total + arr[i] <= target:\n",
    "                    next_dp[-1] += dp[total + arr[i]]\n",
    "\n",
    "            dp = next_dp\n",
    "\n",
    "        return dp[0] % MOD\n",
    "\n",
    "# Testing the solution\n",
    "assert countPartitions(4, 3, [5,2,6,4]) == 1\n",
    "assert countPartitions(4, 3, [5,2,6,4]) == 1\n",
    "assert countPartitions(5, 5, [1,3,3,2,1]) == 0"
   ]
  },
  {
   "cell_type": "markdown",
   "id": "db7bdbb0",
   "metadata": {
    "papermill": {
     "duration": 0.016027,
     "end_time": "2024-05-17T14:08:50.880660",
     "exception": false,
     "start_time": "2024-05-17T14:08:50.864633",
     "status": "completed"
    },
    "tags": []
   },
   "source": [
    "Video Link: https://youtu.be/GqOmJHQZivw?si=dHaZZvKQa2PHaukO\n",
    "0/1 Knapsack"
   ]
  },
  {
   "cell_type": "code",
   "execution_count": 42,
   "id": "51fdc55d",
   "metadata": {
    "execution": {
     "iopub.execute_input": "2024-05-17T14:08:50.913871Z",
     "iopub.status.busy": "2024-05-17T14:08:50.913351Z",
     "iopub.status.idle": "2024-05-17T14:08:50.918866Z",
     "shell.execute_reply": "2024-05-17T14:08:50.918422Z"
    },
    "lines_to_next_cell": 1,
    "papermill": {
     "duration": 0.023526,
     "end_time": "2024-05-17T14:08:50.919923",
     "exception": false,
     "start_time": "2024-05-17T14:08:50.896397",
     "status": "completed"
    },
    "tags": []
   },
   "outputs": [],
   "source": [
    "def knapsack01Memo(N: int, max_weight: int, weights: list[int], values: list[int]) -> int:\n",
    "    \"\"\"\n",
    "    Time complexity without memoization: O(2 ** N), Space: O(N).\n",
    "    Post memoization: O(N x max_weight), Space: O(N x max_weight)\n",
    "    \"\"\"\n",
    "    @functools.cache\n",
    "    def backtrack(i: int, total_weight: int) -> float:\n",
    "        \"\"\"\n",
    "        Intuition: Till index i, what is the max value, we can accumulate with max_weight as total_weight.\n",
    "        \"\"\"\n",
    "        if total_weight > max_weight:\n",
    "            return -math.inf\n",
    "        elif i >= N:\n",
    "            return 0\n",
    "        else:\n",
    "            pick = values[i] + backtrack(i + 1, total_weight + weights[i])\n",
    "            nopick = backtrack(i + 1, total_weight)\n",
    "            return max(pick, nopick)\n",
    "\n",
    "    result = backtrack(0, 0)\n",
    "    return int(max(result, 0))\n",
    "\n",
    "# Testing the solution\n",
    "assert knapsack01Memo(4, 5, [1,2,4,5], [5,4,8,6]) == 13\n",
    "assert knapsack01Memo(3, 8, [3,4,5], [30,50,60]) == 90"
   ]
  },
  {
   "cell_type": "code",
   "execution_count": 43,
   "id": "e0b05d00",
   "metadata": {
    "execution": {
     "iopub.execute_input": "2024-05-17T14:08:50.953949Z",
     "iopub.status.busy": "2024-05-17T14:08:50.953574Z",
     "iopub.status.idle": "2024-05-17T14:08:50.958855Z",
     "shell.execute_reply": "2024-05-17T14:08:50.958385Z"
    },
    "lines_to_next_cell": 1,
    "papermill": {
     "duration": 0.023583,
     "end_time": "2024-05-17T14:08:50.959956",
     "exception": false,
     "start_time": "2024-05-17T14:08:50.936373",
     "status": "completed"
    },
    "tags": []
   },
   "outputs": [],
   "source": [
    "def knapsack01Tabulation(N: int, max_weight: int, weights: list[int], values: list[int]) -> int:\n",
    "    dp: list[list[int]] = [[-1 if i < N else 0 for j in range(max_weight + 1)] for i in range(N + 1)]\n",
    "    for i in range(N - 1, -1, -1):\n",
    "        for total_weight in range(max_weight + 1):\n",
    "            # No pick\n",
    "            dp[i][total_weight] = dp[i + 1][total_weight]\n",
    "\n",
    "            # Pick\n",
    "            if total_weight + weights[i] <= max_weight:\n",
    "                dp[i][total_weight] = max(dp[i][total_weight], values[i] + dp[i + 1][total_weight + weights[i]])\n",
    "\n",
    "    return dp[0][0]\n",
    "\n",
    "# Testing the solution\n",
    "assert knapsack01Tabulation(4, 5, [1,2,4,5], [5,4,8,6]) == 13\n",
    "assert knapsack01Tabulation(3, 8, [3,4,5], [30,50,60]) == 90"
   ]
  },
  {
   "cell_type": "code",
   "execution_count": 44,
   "id": "045af9de",
   "metadata": {
    "execution": {
     "iopub.execute_input": "2024-05-17T14:08:50.993433Z",
     "iopub.status.busy": "2024-05-17T14:08:50.992901Z",
     "iopub.status.idle": "2024-05-17T14:08:50.997952Z",
     "shell.execute_reply": "2024-05-17T14:08:50.997508Z"
    },
    "lines_to_next_cell": 1,
    "papermill": {
     "duration": 0.022898,
     "end_time": "2024-05-17T14:08:50.998997",
     "exception": false,
     "start_time": "2024-05-17T14:08:50.976099",
     "status": "completed"
    },
    "tags": []
   },
   "outputs": [],
   "source": [
    "def knapsack01SpaceOptimized(N: int, max_weight: int, weights: list[int], values: list[int]) -> int:\n",
    "    dp: list[int] = [0 for j in range(max_weight + 1)]\n",
    "    for i in range(N - 1, -1, -1):\n",
    "        next_dp: list[int] = []\n",
    "        for total_weight in range(max_weight + 1):\n",
    "            next_dp.append(dp[total_weight]) # No pick\n",
    "            if weights[i] + total_weight <= max_weight:\n",
    "                next_dp[-1] = max(next_dp[-1], values[i] + dp[weights[i] + total_weight]) # Pick\n",
    "        dp = next_dp\n",
    "\n",
    "    return dp[0]\n",
    "\n",
    "# Testing the solution\n",
    "assert knapsack01SpaceOptimized(4, 5, [1,2,4,5], [5,4,8,6]) == 13\n",
    "assert knapsack01SpaceOptimized(3, 8, [3,4,5], [30,50,60]) == 90"
   ]
  },
  {
   "cell_type": "code",
   "execution_count": 45,
   "id": "b6d1c8d2",
   "metadata": {
    "execution": {
     "iopub.execute_input": "2024-05-17T14:08:51.031759Z",
     "iopub.status.busy": "2024-05-17T14:08:51.031296Z",
     "iopub.status.idle": "2024-05-17T14:08:51.036524Z",
     "shell.execute_reply": "2024-05-17T14:08:51.035988Z"
    },
    "lines_to_next_cell": 1,
    "papermill": {
     "duration": 0.022663,
     "end_time": "2024-05-17T14:08:51.037577",
     "exception": false,
     "start_time": "2024-05-17T14:08:51.014914",
     "status": "completed"
    },
    "tags": []
   },
   "outputs": [],
   "source": [
    "def knapsack01(N: int, max_weight: int, weights: list[int], values: list[int]) -> int:\n",
    "    \"\"\"\n",
    "    Space optimization to use just a single row. This is possible because\n",
    "    in the inner loop we are moving from the left to right and at each iteration\n",
    "    we are using the element to the right, we have no need of the element to the left\n",
    "\n",
    "    [x . . . . . . * . . . ]\n",
    "    [. x . . . * . . . . . ]\n",
    "    [. . x . . . . . * . . ]\n",
    "\n",
    "    At the inner loop we had required the value of the element to the left, this would not have been possible.\n",
    "    \"\"\"\n",
    "    dp: list[int] = [0 for j in range(max_weight + 1)]\n",
    "    for i in range(N - 1, -1, -1):\n",
    "        for total_weight in range(max_weight + 1):\n",
    "            if weights[i] + total_weight <= max_weight:\n",
    "                dp[total_weight] = max(dp[total_weight], values[i] + dp[total_weight + weights[i]])\n",
    "\n",
    "    return dp[0]\n",
    "\n",
    "# Testing the solution\n",
    "assert knapsack01(4, 5, [1,2,4,5], [5,4,8,6]) == 13\n",
    "assert knapsack01(3, 8, [3,4,5], [30,50,60]) == 90"
   ]
  },
  {
   "cell_type": "markdown",
   "id": "71d6293a",
   "metadata": {
    "papermill": {
     "duration": 0.016025,
     "end_time": "2024-05-17T14:08:51.069630",
     "exception": false,
     "start_time": "2024-05-17T14:08:51.053605",
     "status": "completed"
    },
    "tags": []
   },
   "source": [
    "Video link: https://youtu.be/myPeWb3Y68A?si=9z1QMQXCYmEcFEW4\n",
    "Coin Change: https://leetcode.com/problems/coin-change/submissions/1255049748\n",
    "Logic: Whenever there is an infinite / unlimited supply, not_take would update the index, <br>\n",
    "take would not update index - it would stay where it is because we might end up picking it more than once"
   ]
  },
  {
   "cell_type": "code",
   "execution_count": 46,
   "id": "93a2c45e",
   "metadata": {
    "execution": {
     "iopub.execute_input": "2024-05-17T14:08:51.102897Z",
     "iopub.status.busy": "2024-05-17T14:08:51.102293Z",
     "iopub.status.idle": "2024-05-17T14:08:51.107415Z",
     "shell.execute_reply": "2024-05-17T14:08:51.106914Z"
    },
    "lines_to_next_cell": 1,
    "papermill": {
     "duration": 0.022768,
     "end_time": "2024-05-17T14:08:51.108484",
     "exception": false,
     "start_time": "2024-05-17T14:08:51.085716",
     "status": "completed"
    },
    "tags": []
   },
   "outputs": [],
   "source": [
    "def coinChangeMemoization(coins: list[int], amount: int) -> int:\n",
    "    \"\"\"\n",
    "    Without memoization, the time complexity is roughly 2 ** N. It would be greater than\n",
    "    2 ** N since at each index for take we are still staying at the same index.\n",
    "\n",
    "    With memoization, the time complexity is O(N x amount)\n",
    "    \"\"\"\n",
    "    @functools.cache\n",
    "    def backtrack(i: int, total: int) -> float:\n",
    "        if total == amount:\n",
    "            return 0\n",
    "        elif i == N or total > amount:\n",
    "            return math.inf\n",
    "        else:\n",
    "            return min(1 + backtrack(i, total + coins[i]), backtrack(i + 1, total))\n",
    "\n",
    "    N = len(coins)\n",
    "    result = backtrack(0, 0)\n",
    "    return int(result) if not math.isinf(result) else -1\n",
    "\n",
    "# Testing the solution\n",
    "assert coinChangeMemoization([1,2,5], 11) == 3\n",
    "assert coinChangeMemoization([2], 3) == -1"
   ]
  },
  {
   "cell_type": "code",
   "execution_count": 47,
   "id": "eb1b662f",
   "metadata": {
    "execution": {
     "iopub.execute_input": "2024-05-17T14:08:51.141533Z",
     "iopub.status.busy": "2024-05-17T14:08:51.141124Z",
     "iopub.status.idle": "2024-05-17T14:08:51.146425Z",
     "shell.execute_reply": "2024-05-17T14:08:51.145972Z"
    },
    "lines_to_next_cell": 1,
    "papermill": {
     "duration": 0.022993,
     "end_time": "2024-05-17T14:08:51.147507",
     "exception": false,
     "start_time": "2024-05-17T14:08:51.124514",
     "status": "completed"
    },
    "tags": []
   },
   "outputs": [],
   "source": [
    "def coinChangeTabulation(coins: list[int], amount: int) -> int:\n",
    "    N = len(coins)\n",
    "    dp: list[list[float]] = [[math.inf if j < amount else 0 for j in range(amount + 1)] for i in range(N + 1)]\n",
    "    for i in range(N - 1, -1, -1):\n",
    "        for total in range(amount, -1, -1):\n",
    "            if total + coins[i] <= amount:\n",
    "                dp[i][total] = min(dp[i + 1][total], 1 + dp[i][total + coins[i]])\n",
    "            else:\n",
    "                dp[i][total] = dp[i + 1][total]\n",
    "\n",
    "    result = dp[0][0]\n",
    "    return int(result) if not math.isinf(result) else -1\n",
    "\n",
    "# Testing the solution\n",
    "assert coinChangeTabulation([1,2,5], 11) == 3\n",
    "assert coinChangeTabulation([2], 3) == -1"
   ]
  },
  {
   "cell_type": "code",
   "execution_count": 48,
   "id": "ddd554c7",
   "metadata": {
    "execution": {
     "iopub.execute_input": "2024-05-17T14:08:51.180844Z",
     "iopub.status.busy": "2024-05-17T14:08:51.180345Z",
     "iopub.status.idle": "2024-05-17T14:08:51.185188Z",
     "shell.execute_reply": "2024-05-17T14:08:51.184661Z"
    },
    "lines_to_next_cell": 1,
    "papermill": {
     "duration": 0.022656,
     "end_time": "2024-05-17T14:08:51.186347",
     "exception": false,
     "start_time": "2024-05-17T14:08:51.163691",
     "status": "completed"
    },
    "tags": []
   },
   "outputs": [],
   "source": [
    "def coinChangeSpaceOptimized(coins: list[int], amount: int) -> int:\n",
    "    N = len(coins)\n",
    "    dp: list[float] = [math.inf if j < amount else 0 for j in range(amount + 1)]\n",
    "    for i in range(N - 1, -1, -1):\n",
    "        for total in range(amount, -1, -1):\n",
    "            if total + coins[i] <= amount:\n",
    "                dp[total] = min(dp[total], 1 + dp[total + coins[i]])\n",
    "\n",
    "    result = dp[0]\n",
    "    return int(result) if not math.isinf(result) else -1\n",
    "\n",
    "# Testing the solution\n",
    "assert coinChangeSpaceOptimized([1,2,5], 11) == 3\n",
    "assert coinChangeSpaceOptimized([2], 3) == -1"
   ]
  },
  {
   "cell_type": "markdown",
   "id": "3e5fb6cb",
   "metadata": {
    "papermill": {
     "duration": 0.015647,
     "end_time": "2024-05-17T14:08:51.218135",
     "exception": false,
     "start_time": "2024-05-17T14:08:51.202488",
     "status": "completed"
    },
    "tags": []
   },
   "source": [
    "Video Link: https://youtu.be/b3GD8263-PQ?si=CNz-raf3oynQQsPJ\n",
    "Target Sum: https://leetcode.com/problems/target-sum/"
   ]
  },
  {
   "cell_type": "code",
   "execution_count": 49,
   "id": "18960ee2",
   "metadata": {
    "execution": {
     "iopub.execute_input": "2024-05-17T14:08:51.250886Z",
     "iopub.status.busy": "2024-05-17T14:08:51.250416Z",
     "iopub.status.idle": "2024-05-17T14:08:51.254781Z",
     "shell.execute_reply": "2024-05-17T14:08:51.254268Z"
    },
    "lines_to_next_cell": 1,
    "papermill": {
     "duration": 0.021946,
     "end_time": "2024-05-17T14:08:51.255819",
     "exception": false,
     "start_time": "2024-05-17T14:08:51.233873",
     "status": "completed"
    },
    "tags": []
   },
   "outputs": [],
   "source": [
    "# https://leetcode.com/problems/target-sum/submissions/1255976702\n",
    "def findTargetSumWaysMemo(nums: list[int], target: int) -> int:\n",
    "    @functools.cache\n",
    "    def backtrack(i: int, total: int) -> int:\n",
    "        if i == N:\n",
    "            return int(total == target)\n",
    "        else:\n",
    "            return backtrack(i + 1, total - nums[i]) + backtrack(i + 1, total + nums[i])\n",
    "\n",
    "    N = len(nums)\n",
    "    return backtrack(0, 0)\n",
    "\n",
    "# Testing the solution\n",
    "assert findTargetSumWaysMemo([1,1,1,1,1], 3) == 5\n",
    "assert findTargetSumWaysMemo([1], 2) == 0"
   ]
  },
  {
   "cell_type": "code",
   "execution_count": 50,
   "id": "8420cf7b",
   "metadata": {
    "execution": {
     "iopub.execute_input": "2024-05-17T14:08:51.288414Z",
     "iopub.status.busy": "2024-05-17T14:08:51.288036Z",
     "iopub.status.idle": "2024-05-17T14:08:51.293530Z",
     "shell.execute_reply": "2024-05-17T14:08:51.292997Z"
    },
    "lines_to_next_cell": 1,
    "papermill": {
     "duration": 0.023059,
     "end_time": "2024-05-17T14:08:51.294625",
     "exception": false,
     "start_time": "2024-05-17T14:08:51.271566",
     "status": "completed"
    },
    "tags": []
   },
   "outputs": [],
   "source": [
    "def findTargetSumWaysTab(nums: list[int], target: int) -> int:\n",
    "    N: int = len(nums)\n",
    "    boundary: int = sum(nums)\n",
    "    dp: list[list[int]] = [[0 if i < N or j != target else 1 for j in range(-boundary, boundary + 1)] for i in range(N + 1)]\n",
    "\n",
    "    for i in range(N - 1, -1, -1):\n",
    "        for total in range(-boundary, boundary + 1):\n",
    "            if total - nums[i] + boundary >= 0:\n",
    "                dp[i][total + boundary] += dp[i + 1][total - nums[i] + boundary]\n",
    "            if total + nums[i] + boundary <= 2 * boundary:\n",
    "                dp[i][total + boundary] += dp[i + 1][total + nums[i] + boundary]\n",
    "\n",
    "    return dp[0][boundary]\n",
    "\n",
    "# Testing the solution\n",
    "assert findTargetSumWaysTab([1,1,1,1,1], 3) == 5\n",
    "assert findTargetSumWaysTab([1], 2) == 0"
   ]
  },
  {
   "cell_type": "code",
   "execution_count": 51,
   "id": "7c66396e",
   "metadata": {
    "execution": {
     "iopub.execute_input": "2024-05-17T14:08:51.327333Z",
     "iopub.status.busy": "2024-05-17T14:08:51.326953Z",
     "iopub.status.idle": "2024-05-17T14:08:51.332149Z",
     "shell.execute_reply": "2024-05-17T14:08:51.331705Z"
    },
    "lines_to_next_cell": 1,
    "papermill": {
     "duration": 0.022858,
     "end_time": "2024-05-17T14:08:51.333192",
     "exception": false,
     "start_time": "2024-05-17T14:08:51.310334",
     "status": "completed"
    },
    "tags": []
   },
   "outputs": [],
   "source": [
    "# https://leetcode.com/problems/target-sum/submissions/1255976333/\n",
    "def findTargetSumWays(nums: list[int], target: int) -> int:\n",
    "    N = len(nums)\n",
    "    boundary: int = sum(nums)\n",
    "    dp: list[int] = [0 if j != target else 1 for j in range(-boundary, boundary + 1)]\n",
    "\n",
    "    for i in range(N - 1, -1, -1):\n",
    "        next_dp: list[int] = []\n",
    "        for total in range(-boundary, boundary + 1):\n",
    "            next_dp.append(0)\n",
    "            if total + nums[i] + boundary <= 2 * boundary:\n",
    "                next_dp[-1] += dp[total + nums[i] + boundary]\n",
    "            if total - nums[i] + boundary >= 0:\n",
    "                next_dp[-1] += dp[total - nums[i] + boundary]\n",
    "\n",
    "        dp = next_dp\n",
    "\n",
    "    return dp[boundary]\n",
    "\n",
    "# Testing the solution\n",
    "assert findTargetSumWays([1,1,1,1,1], 3) == 5\n",
    "assert findTargetSumWays([1], 2) == 0"
   ]
  },
  {
   "cell_type": "code",
   "execution_count": 52,
   "id": "8f0e96f1",
   "metadata": {
    "execution": {
     "iopub.execute_input": "2024-05-17T14:08:51.366597Z",
     "iopub.status.busy": "2024-05-17T14:08:51.366078Z",
     "iopub.status.idle": "2024-05-17T14:08:51.372621Z",
     "shell.execute_reply": "2024-05-17T14:08:51.372078Z"
    },
    "lines_to_next_cell": 1,
    "papermill": {
     "duration": 0.024509,
     "end_time": "2024-05-17T14:08:51.373797",
     "exception": false,
     "start_time": "2024-05-17T14:08:51.349288",
     "status": "completed"
    },
    "tags": []
   },
   "outputs": [],
   "source": [
    "# Striver's approach: Use logic from 'Count Paritions with given difference'\n",
    "# https://leetcode.com/problems/target-sum/submissions/1255993345/\n",
    "def findTargetSumWaysStriver(nums: list[int], target: int) -> int:\n",
    "    \"\"\"\n",
    "    We need to count the number of subsets s1, s2 such that s1 - s2 = target.\n",
    "    s1 = (S + d) / 2\n",
    "    \"\"\"\n",
    "\n",
    "    S = sum(nums)\n",
    "    s1 = (S + target) / 2\n",
    "    s2 = S - s1\n",
    "\n",
    "    # Edge case - target is negative.\n",
    "    if s1 < 0:\n",
    "        s1 = s2\n",
    "\n",
    "    count = 0\n",
    "    if int(s1) == s1:\n",
    "        s1 = int(s1)\n",
    "        zero_count = nums.count(0)\n",
    "        nums = list(filter(lambda x: x != 0, nums))\n",
    "        N = len(nums)\n",
    "        dp: list[int] = [0 if j < s1 else 1 for j in range(s1 + 1)]\n",
    "        for i in range(N - 1, -1, -1):\n",
    "            for total in range(s1 + 1):\n",
    "                if total + nums[i] <= s1:\n",
    "                    dp[total] += dp[total + nums[i]]\n",
    "\n",
    "        count = dp[0] * (2 ** zero_count)\n",
    "\n",
    "    return count\n",
    "\n",
    "# Testing the solution\n",
    "assert findTargetSumWaysStriver([1,1,1,1,1], 3) == 5\n",
    "assert findTargetSumWaysStriver([1,0,0], 1) == 4\n",
    "assert findTargetSumWaysStriver([100], -200) == 0\n",
    "assert findTargetSumWaysStriver([100], -100) == 1"
   ]
  },
  {
   "cell_type": "markdown",
   "id": "54ee6894",
   "metadata": {
    "papermill": {
     "duration": 0.016739,
     "end_time": "2024-05-17T14:08:51.408642",
     "exception": false,
     "start_time": "2024-05-17T14:08:51.391903",
     "status": "completed"
    },
    "tags": []
   },
   "source": [
    "Video link: https://youtu.be/HgyouUi11zk?si=tgZcsIOYwWogacGr\n",
    "Coin Change II: https://leetcode.com/problems/coin-change-ii/description/"
   ]
  },
  {
   "cell_type": "code",
   "execution_count": 53,
   "id": "a21ca5a5",
   "metadata": {
    "execution": {
     "iopub.execute_input": "2024-05-17T14:08:51.441690Z",
     "iopub.status.busy": "2024-05-17T14:08:51.441152Z",
     "iopub.status.idle": "2024-05-17T14:08:51.445532Z",
     "shell.execute_reply": "2024-05-17T14:08:51.445068Z"
    },
    "lines_to_next_cell": 1,
    "papermill": {
     "duration": 0.022176,
     "end_time": "2024-05-17T14:08:51.446614",
     "exception": false,
     "start_time": "2024-05-17T14:08:51.424438",
     "status": "completed"
    },
    "tags": []
   },
   "outputs": [],
   "source": [
    "def coinChangeMemo(amount: int, coins: list[int]):\n",
    "    \"\"\"\n",
    "    Time: ~O(N x amount), Space: O(N x amount) + O(amount)\n",
    "    \"\"\"\n",
    "\n",
    "    @functools.cache\n",
    "    def backtrack(i: int, total: int) -> int:\n",
    "        if total == amount:\n",
    "            return 1\n",
    "        elif total > amount or i == N:\n",
    "            return 0\n",
    "        else:\n",
    "            return backtrack(i, total + coins[i]) + backtrack(i + 1, total)\n",
    "\n",
    "    N = len(coins)\n",
    "    return backtrack(0, 0)\n",
    "\n",
    "# Testing the solution\n",
    "assert coinChangeMemo(5, [1,2,5]) == 4\n",
    "assert coinChangeMemo(3, [2]) == 0"
   ]
  },
  {
   "cell_type": "code",
   "execution_count": 54,
   "id": "b74d7fa9",
   "metadata": {
    "execution": {
     "iopub.execute_input": "2024-05-17T14:08:51.479851Z",
     "iopub.status.busy": "2024-05-17T14:08:51.479420Z",
     "iopub.status.idle": "2024-05-17T14:08:51.483927Z",
     "shell.execute_reply": "2024-05-17T14:08:51.483458Z"
    },
    "lines_to_next_cell": 1,
    "papermill": {
     "duration": 0.02233,
     "end_time": "2024-05-17T14:08:51.484933",
     "exception": false,
     "start_time": "2024-05-17T14:08:51.462603",
     "status": "completed"
    },
    "tags": []
   },
   "outputs": [],
   "source": [
    "# https://leetcode.com/problems/coin-change-ii/submissions/1256028931\n",
    "def coinChangeTab(amount: int, coins: list[int]):\n",
    "    N = len(coins)\n",
    "    dp: list[int] = [0 if j != amount else 1 for j in range(amount + 1)]\n",
    "    for i in range(N - 1, -1, -1):\n",
    "        for total in range(amount, -1, -1):\n",
    "            if total + coins[i] <= amount:\n",
    "                dp[total] += dp[total + coins[i]]\n",
    "\n",
    "    return dp[0]\n",
    "\n",
    "# Testing the solution\n",
    "assert coinChangeTab(5, [1,2,5]) == 4\n",
    "assert coinChangeTab(3, [2]) == 0"
   ]
  },
  {
   "cell_type": "markdown",
   "id": "b0b593c4",
   "metadata": {
    "papermill": {
     "duration": 0.015899,
     "end_time": "2024-05-17T14:08:51.517184",
     "exception": false,
     "start_time": "2024-05-17T14:08:51.501285",
     "status": "completed"
    },
    "tags": []
   },
   "source": [
    "Video Link: https://youtu.be/OgvOZ6OrJoY?si=rcbpx6IrU_SvQ4v1\n",
    "Unbounded Knapsack"
   ]
  },
  {
   "cell_type": "code",
   "execution_count": 55,
   "id": "5fc22211",
   "metadata": {
    "execution": {
     "iopub.execute_input": "2024-05-17T14:08:51.550279Z",
     "iopub.status.busy": "2024-05-17T14:08:51.549790Z",
     "iopub.status.idle": "2024-05-17T14:08:51.554450Z",
     "shell.execute_reply": "2024-05-17T14:08:51.554029Z"
    },
    "lines_to_next_cell": 1,
    "papermill": {
     "duration": 0.022551,
     "end_time": "2024-05-17T14:08:51.555525",
     "exception": false,
     "start_time": "2024-05-17T14:08:51.532974",
     "status": "completed"
    },
    "tags": []
   },
   "outputs": [],
   "source": [
    "def unboundedKnapSackMemo(N: int, max_weight: int, values: list[int], weights: list[int]) -> int:\n",
    "     @functools.cache\n",
    "     def backtrack(i: int, total_weight: int) -> float:\n",
    "         if total_weight > max_weight:\n",
    "             return -math.inf\n",
    "         elif i == N:\n",
    "             return 0\n",
    "         else:\n",
    "             return max(values[i] + backtrack(i, total_weight + weights[i]), backtrack(i + 1, total_weight))\n",
    "\n",
    "     return int(backtrack(0, 0))\n",
    "\n",
    "# Testing the solution\n",
    "assert unboundedKnapSackMemo(2, 3, [1, 1], [2, 1]) == 3\n",
    "assert unboundedKnapSackMemo(4, 8, [6, 1, 7, 7], [1, 3, 4, 5]) == 48"
   ]
  },
  {
   "cell_type": "code",
   "execution_count": 56,
   "id": "3377312f",
   "metadata": {
    "execution": {
     "iopub.execute_input": "2024-05-17T14:08:51.588888Z",
     "iopub.status.busy": "2024-05-17T14:08:51.588449Z",
     "iopub.status.idle": "2024-05-17T14:08:51.593291Z",
     "shell.execute_reply": "2024-05-17T14:08:51.592729Z"
    },
    "lines_to_next_cell": 1,
    "papermill": {
     "duration": 0.022699,
     "end_time": "2024-05-17T14:08:51.594402",
     "exception": false,
     "start_time": "2024-05-17T14:08:51.571703",
     "status": "completed"
    },
    "tags": []
   },
   "outputs": [],
   "source": [
    "def unboundedKnapSackTab(N: int, max_weight: int, values: list[int], weights: list[int]) -> int:\n",
    "    dp: list[int] = [0 for j in range(max_weight + 1)]\n",
    "    for i in range(N - 1, -1, -1):\n",
    "        for total in range(max_weight, -1, -1):\n",
    "            if total + weights[i] <= max_weight:\n",
    "                dp[total] = max(dp[total], values[i] + dp[total + weights[i]])\n",
    "\n",
    "    return dp[0]\n",
    "\n",
    "# Testing the solution\n",
    "assert unboundedKnapSackTab(2, 3, [1, 1], [2, 1]) == 3\n",
    "assert unboundedKnapSackTab(4, 8, [6, 1, 7, 7], [1, 3, 4, 5]) == 48"
   ]
  },
  {
   "cell_type": "markdown",
   "id": "2d0c40ff",
   "metadata": {
    "papermill": {
     "duration": 0.015942,
     "end_time": "2024-05-17T14:08:51.626611",
     "exception": false,
     "start_time": "2024-05-17T14:08:51.610669",
     "status": "completed"
    },
    "tags": []
   },
   "source": [
    "Video Link: https://youtu.be/mO8XpGoJwuo?si=uzBPZ8auw70L9WCm\n",
    "Rod cutting Problem"
   ]
  },
  {
   "cell_type": "code",
   "execution_count": 57,
   "id": "aee57cd8",
   "metadata": {
    "execution": {
     "iopub.execute_input": "2024-05-17T14:08:51.676729Z",
     "iopub.status.busy": "2024-05-17T14:08:51.676205Z",
     "iopub.status.idle": "2024-05-17T14:08:51.681178Z",
     "shell.execute_reply": "2024-05-17T14:08:51.680698Z"
    },
    "lines_to_next_cell": 1,
    "papermill": {
     "duration": 0.022713,
     "end_time": "2024-05-17T14:08:51.682206",
     "exception": false,
     "start_time": "2024-05-17T14:08:51.659493",
     "status": "completed"
    },
    "tags": []
   },
   "outputs": [],
   "source": [
    "def cutRodMemo(price: list[int], N: int) -> int:\n",
    "    @functools.cache\n",
    "    def backtrack(i: int, length: int) -> float:\n",
    "        if length == 0:\n",
    "            return 0\n",
    "        elif i == N or length < 0:\n",
    "            return -math.inf\n",
    "        else:\n",
    "            return max(price[i] + backtrack(i, length - i - 1), backtrack(i + 1, length))\n",
    "\n",
    "    result = backtrack(0, N)\n",
    "    return int(result)\n",
    "\n",
    "# Testing the solution\n",
    "assert cutRodMemo([1, 5, 8, 9, 10, 17, 17, 20], 8) == 22\n",
    "assert cutRodMemo([3, 5, 8, 9, 10, 17, 17, 20], 8) == 24"
   ]
  },
  {
   "cell_type": "code",
   "execution_count": 58,
   "id": "bcdf21dd",
   "metadata": {
    "execution": {
     "iopub.execute_input": "2024-05-17T14:08:51.714999Z",
     "iopub.status.busy": "2024-05-17T14:08:51.714502Z",
     "iopub.status.idle": "2024-05-17T14:08:51.719161Z",
     "shell.execute_reply": "2024-05-17T14:08:51.718698Z"
    },
    "lines_to_next_cell": 1,
    "papermill": {
     "duration": 0.022202,
     "end_time": "2024-05-17T14:08:51.720211",
     "exception": false,
     "start_time": "2024-05-17T14:08:51.698009",
     "status": "completed"
    },
    "tags": []
   },
   "outputs": [],
   "source": [
    "def cutRodTab(price: list[int], N: int) -> int:\n",
    "    dp: list[float] = [-math.inf if j > 0 else 0 for j in range(N + 1)]\n",
    "    for i in range(N - 1, -1, -1):\n",
    "        for length in range(N + 1):\n",
    "            if length - i - 1 >= 0:\n",
    "                dp[length] = max(dp[length], price[i] + dp[length - i - 1])\n",
    "\n",
    "    return int(dp[N])\n",
    "\n",
    "# Testing the solution\n",
    "assert cutRodTab([1, 5, 8, 9, 10, 17, 17, 20], 8) == 22\n",
    "assert cutRodTab([3, 5, 8, 9, 10, 17, 17, 20], 8) == 24"
   ]
  },
  {
   "cell_type": "markdown",
   "id": "8e8177cc",
   "metadata": {
    "papermill": {
     "duration": 0.01579,
     "end_time": "2024-05-17T14:08:51.751905",
     "exception": false,
     "start_time": "2024-05-17T14:08:51.736115",
     "status": "completed"
    },
    "tags": []
   },
   "source": [
    "Video link: https://youtu.be/NPZn9jBrX8U?si=RNey3xHjlEm1LXyr\n",
    "Longest common subsequences: https://leetcode.com/problems/longest-common-subsequence\n",
    "Naive approach: Generate all subsequences O((2 ** N) x (2 ** M)) and compare common subsequences in both"
   ]
  },
  {
   "cell_type": "code",
   "execution_count": 59,
   "id": "917d5e52",
   "metadata": {
    "execution": {
     "iopub.execute_input": "2024-05-17T14:08:51.784460Z",
     "iopub.status.busy": "2024-05-17T14:08:51.784073Z",
     "iopub.status.idle": "2024-05-17T14:08:51.789120Z",
     "shell.execute_reply": "2024-05-17T14:08:51.788643Z"
    },
    "papermill": {
     "duration": 0.022632,
     "end_time": "2024-05-17T14:08:51.790150",
     "exception": false,
     "start_time": "2024-05-17T14:08:51.767518",
     "status": "completed"
    },
    "tags": []
   },
   "outputs": [],
   "source": [
    "def longestCommonSubsequenceMemo(text1: str, text2: str) -> int:\n",
    "    # Time: O(N x M), Space: O(N x M) + O(M + N)\n",
    "    @functools.cache\n",
    "    def backtrack(i: int, j: int) -> int:\n",
    "        if i == N1 or j == N2:\n",
    "            return 0\n",
    "        elif text1[i] == text2[j]:\n",
    "            return 1 + backtrack(i + 1, j + 1)\n",
    "        else:\n",
    "            return max(backtrack(i + 1, j), backtrack(i, j + 1))\n",
    "\n",
    "    N1, N2 = len(text1), len(text2)\n",
    "    return backtrack(0, 0)\n",
    "\n",
    "# Testing the solution\n",
    "assert longestCommonSubsequenceMemo(\"abcde\", \"ace\") == 3\n",
    "assert longestCommonSubsequenceMemo(\"bsbininm\", \"jmjkbkjkv\") == 1\n",
    "assert longestCommonSubsequenceMemo(\"aaaaaaaaaaaaaaaaaaaaaaaaaaaaaaaaaaa\", \"aaaaaaaaaaaaaaaaaaaaaaaaaaaaaaaaaaaaaaaaaaaaa\") == 35\n",
    "assert longestCommonSubsequenceMemo(\"bl\", \"yby\") == 1"
   ]
  },
  {
   "cell_type": "code",
   "execution_count": 60,
   "id": "30813726",
   "metadata": {
    "execution": {
     "iopub.execute_input": "2024-05-17T14:08:51.823289Z",
     "iopub.status.busy": "2024-05-17T14:08:51.822818Z",
     "iopub.status.idle": "2024-05-17T14:08:51.828112Z",
     "shell.execute_reply": "2024-05-17T14:08:51.827641Z"
    },
    "lines_to_next_cell": 1,
    "papermill": {
     "duration": 0.022912,
     "end_time": "2024-05-17T14:08:51.829230",
     "exception": false,
     "start_time": "2024-05-17T14:08:51.806318",
     "status": "completed"
    },
    "tags": []
   },
   "outputs": [],
   "source": [
    "def longestCommonSubsequenceTab(text1: str, text2: str) -> int:\n",
    "    # Time: O(M x N), Space: O(N x M)\n",
    "    N1, N2 = len(text1), len(text2)\n",
    "    dp: list[list[int]] = [[0 for j in range(N2 + 1)] for i in range(N1 + 1)]\n",
    "    for i in range(N1 - 1, -1, -1):\n",
    "        for j in range(N2 - 1, -1, -1):\n",
    "            if text1[i] == text2[j]:\n",
    "                dp[i][j] = 1 + dp[i + 1][j + 1]\n",
    "            else:\n",
    "                dp[i][j] = max(dp[i + 1][j], dp[i][j + 1])\n",
    "\n",
    "    return dp[0][0]\n",
    "\n",
    "# Testing the solution\n",
    "assert longestCommonSubsequenceTab(\"abcde\", \"ace\") == 3\n",
    "assert longestCommonSubsequenceTab(\"bsbininm\", \"jmjkbkjkv\") == 1\n",
    "assert longestCommonSubsequenceTab(\"aaaaaaaaaaaaaaaaaaaaaaaaaaaaaaaaaaa\", \"aaaaaaaaaaaaaaaaaaaaaaaaaaaaaaaaaaaaaaaaaaaaa\") == 35\n",
    "assert longestCommonSubsequenceTab(\"bl\", \"yby\") == 1"
   ]
  },
  {
   "cell_type": "code",
   "execution_count": 61,
   "id": "e099ef3b",
   "metadata": {
    "execution": {
     "iopub.execute_input": "2024-05-17T14:08:51.862634Z",
     "iopub.status.busy": "2024-05-17T14:08:51.862200Z",
     "iopub.status.idle": "2024-05-17T14:08:51.867391Z",
     "shell.execute_reply": "2024-05-17T14:08:51.866868Z"
    },
    "lines_to_next_cell": 1,
    "papermill": {
     "duration": 0.023163,
     "end_time": "2024-05-17T14:08:51.868500",
     "exception": false,
     "start_time": "2024-05-17T14:08:51.845337",
     "status": "completed"
    },
    "tags": []
   },
   "outputs": [],
   "source": [
    "# https://leetcode.com/problems/longest-common-subsequence/submissions/1256127917\n",
    "def longestCommonSubsequence(text1: str, text2: str) -> int:\n",
    "    # Time: O(M x N), Space: O(N2 + N2)\n",
    "    N1, N2 = len(text1), len(text2)\n",
    "    dp: list[int] = [0 for j in range(N2 + 1)]\n",
    "    for i in range(N1 - 1, -1, -1):\n",
    "        next_dp: list[int] = list(dp)\n",
    "        for j in range(N2 - 1, -1, -1):\n",
    "            if text1[i] == text2[j]:\n",
    "                next_dp[j] = 1 + dp[j + 1]\n",
    "            else:\n",
    "                next_dp[j] = max(dp[j], next_dp[j + 1])\n",
    "\n",
    "        dp = next_dp\n",
    "\n",
    "    return dp[0]\n",
    "\n",
    "# Testing the solution\n",
    "assert longestCommonSubsequence(\"abcde\", \"ace\") == 3\n",
    "assert longestCommonSubsequence(\"bsbininm\", \"jmjkbkjkv\") == 1\n",
    "assert longestCommonSubsequence(\"aaaaaaaaaaaaaaaaaaaaaaaaaaaaaaaaaaa\", \"aaaaaaaaaaaaaaaaaaaaaaaaaaaaaaaaaaaaaaaaaaaaa\") == 35\n",
    "assert longestCommonSubsequence(\"bl\", \"yby\") == 1"
   ]
  },
  {
   "cell_type": "markdown",
   "id": "e01786f1",
   "metadata": {
    "papermill": {
     "duration": 0.015595,
     "end_time": "2024-05-17T14:08:51.900195",
     "exception": false,
     "start_time": "2024-05-17T14:08:51.884600",
     "status": "completed"
    },
    "tags": []
   },
   "source": [
    "Video Link: https://youtu.be/-zI4mrF2Pb4?si=8kICsv0E7jYx6sWn\n",
    "Print longest common subsequece"
   ]
  },
  {
   "cell_type": "code",
   "execution_count": 62,
   "id": "1c0d3fe8",
   "metadata": {
    "execution": {
     "iopub.execute_input": "2024-05-17T14:08:51.932754Z",
     "iopub.status.busy": "2024-05-17T14:08:51.932284Z",
     "iopub.status.idle": "2024-05-17T14:08:51.940074Z",
     "shell.execute_reply": "2024-05-17T14:08:51.939563Z"
    },
    "lines_to_next_cell": 1,
    "papermill": {
     "duration": 0.025345,
     "end_time": "2024-05-17T14:08:51.941176",
     "exception": false,
     "start_time": "2024-05-17T14:08:51.915831",
     "status": "completed"
    },
    "tags": []
   },
   "outputs": [],
   "source": [
    "def all_longest_common_subsequences(text1: str, text2: str) -> list[str]:\n",
    "    \"\"\"\n",
    "    DP grid computes the longest common subseq length given starting pos of text1, text2\n",
    "    We start at -1, -1 on the grid.\n",
    "    If text1[i] == text2[j], we know that the line: 1 + dp[i + 1][j + 1] was executed, there we increment both i, j by 1\n",
    "    If text1[i] != text2[j], either the max came from text1 or text2. If only one max exists, recurse into that else recurse through both\n",
    "\n",
    "    Time: DP grid compute: O(M x N) + Backtracking to find longest common subsequence: O(M + N)\n",
    "    Space: O(M x N)\n",
    "    \"\"\"\n",
    "\n",
    "    N1, N2 = len(text1), len(text2)\n",
    "    dp: list[list[int]] = [[0 for j in range(N2 + 1)] for i in range(N1 + 1)]\n",
    "    for i in range(N1 - 1, -1, -1):\n",
    "        for j in range(N2 - 1, -1, -1):\n",
    "            if text1[i] == text2[j]:\n",
    "                dp[i][j] = 1 + dp[i + 1][j + 1]\n",
    "            else:\n",
    "                dp[i][j] = max(dp[i + 1][j], dp[i][j + 1])\n",
    "\n",
    "    def backtrack(i: int, j: int):\n",
    "        if dp[i][j] == 0:\n",
    "            result.add(''.join(stack))\n",
    "            return\n",
    "        elif text1[i] == text2[j]:\n",
    "            stack.append(text1[i])\n",
    "            backtrack(i + 1, j + 1)\n",
    "            stack.pop()\n",
    "        else:\n",
    "            max_ = max(dp[i + 1][j], dp[i][j + 1])\n",
    "            if dp[i + 1][j] == max_:\n",
    "                backtrack(i + 1, j)\n",
    "            if dp[i][j + 1] == max_:\n",
    "                backtrack(i, j + 1)\n",
    "\n",
    "    result: set[str] = set()\n",
    "    stack: list[str] = []\n",
    "    backtrack(i, j)\n",
    "    return sorted(result)\n",
    "\n",
    "# Tesitng the solution\n",
    "assert all_longest_common_subsequences(\"abcde\", \"ace\") == ['ace']\n",
    "assert all_longest_common_subsequences(\"abaaa\", \"baabaca\") == ['aaaa', 'abaa', 'baaa']"
   ]
  },
  {
   "cell_type": "markdown",
   "id": "1b3c52ec",
   "metadata": {
    "papermill": {
     "duration": 0.015908,
     "end_time": "2024-05-17T14:08:51.973329",
     "exception": false,
     "start_time": "2024-05-17T14:08:51.957421",
     "status": "completed"
    },
    "tags": []
   },
   "source": [
    "Video Link: https://youtu.be/_wP9mWNPL5w?si=UHRuFgDl6a5g8OlH\n",
    "Longest common Substring"
   ]
  },
  {
   "cell_type": "code",
   "execution_count": 63,
   "id": "95b817c0",
   "metadata": {
    "execution": {
     "iopub.execute_input": "2024-05-17T14:08:52.006135Z",
     "iopub.status.busy": "2024-05-17T14:08:52.005655Z",
     "iopub.status.idle": "2024-05-17T14:08:52.010581Z",
     "shell.execute_reply": "2024-05-17T14:08:52.010139Z"
    },
    "lines_to_next_cell": 1,
    "papermill": {
     "duration": 0.022566,
     "end_time": "2024-05-17T14:08:52.011656",
     "exception": false,
     "start_time": "2024-05-17T14:08:51.989090",
     "status": "completed"
    },
    "tags": []
   },
   "outputs": [],
   "source": [
    "def longestCommonSubstrTab(text1: str, text2: str) -> int:\n",
    "    \"\"\"\n",
    "    Same code as longest common subsequence but with a slight modification.\n",
    "    Here we reset the dp table value to 0 if text1[i] != text2[j] instead of getting the max of dp[i + 1][j] or dp[i][j + 1] since we are not allowed non consequetive values.\n",
    "\n",
    "    Time: O(N1 x N2), Space: O(N1 x N2)\n",
    "    \"\"\"\n",
    "    N1, N2 = len(text1), len(text2)\n",
    "    dp: list[list[int]] = [[0 for j in range(N2 + 1)] for i in range(N1 + 1)]\n",
    "    max_length = 0\n",
    "    for i in range(N1 - 1, -1, -1):\n",
    "        for j in range(N2 - 1, -1, -1):\n",
    "            if text1[i] == text2[j]:\n",
    "                dp[i][j] = dp[i + 1][j + 1] + 1\n",
    "                max_length = max(max_length, dp[i][j])\n",
    "\n",
    "    return max_length\n",
    "\n",
    "# Testing the solution\n",
    "assert longestCommonSubstrTab(\"ABCDGH\", \"ACDGHR\") == 4\n",
    "assert longestCommonSubstrTab(\"ABC\", \"ACB\") == 1"
   ]
  },
  {
   "cell_type": "code",
   "execution_count": 64,
   "id": "f32221a7",
   "metadata": {
    "execution": {
     "iopub.execute_input": "2024-05-17T14:08:52.044159Z",
     "iopub.status.busy": "2024-05-17T14:08:52.043946Z",
     "iopub.status.idle": "2024-05-17T14:08:52.048725Z",
     "shell.execute_reply": "2024-05-17T14:08:52.048282Z"
    },
    "lines_to_next_cell": 1,
    "papermill": {
     "duration": 0.022248,
     "end_time": "2024-05-17T14:08:52.049796",
     "exception": false,
     "start_time": "2024-05-17T14:08:52.027548",
     "status": "completed"
    },
    "tags": []
   },
   "outputs": [],
   "source": [
    "def longestCommonSubstr(text1: str, text2: str) -> int:\n",
    "    \"\"\"Time: O(N1 x N2), Space: O(N2)\"\"\"\n",
    "    N1, N2 = len(text1), len(text2)\n",
    "    dp: list[int] = [0 for j in range(N2 + 1)]\n",
    "    max_length = 0\n",
    "    for i in range(N1 - 1, -1, -1):\n",
    "        next_dp: list[int] = [0]\n",
    "        for j in range(N2 - 1, -1, -1):\n",
    "            if text1[i] == text2[j]:\n",
    "                next_dp.append(1 + dp[j + 1])\n",
    "                max_length = max(max_length, next_dp[-1])\n",
    "            else:\n",
    "                next_dp.append(0)\n",
    "\n",
    "        dp = list(reversed(next_dp))\n",
    "\n",
    "    return max_length\n",
    "\n",
    "# Testing the solution\n",
    "assert longestCommonSubstr(\"ABCDGH\", \"ACDGHR\") == 4\n",
    "assert longestCommonSubstr(\"ABC\", \"ACB\") == 1"
   ]
  },
  {
   "cell_type": "markdown",
   "id": "32bd7ea7",
   "metadata": {
    "papermill": {
     "duration": 0.015787,
     "end_time": "2024-05-17T14:08:52.081564",
     "exception": false,
     "start_time": "2024-05-17T14:08:52.065777",
     "status": "completed"
    },
    "tags": []
   },
   "source": [
    "Video Link: https://youtu.be/6i_T5kkfv4A?si=3pJmCMahWgxxnGRq\n",
    "Longest Palindromic Subsequence"
   ]
  },
  {
   "cell_type": "code",
   "execution_count": 65,
   "id": "d0a53967",
   "metadata": {
    "execution": {
     "iopub.execute_input": "2024-05-17T14:08:52.114171Z",
     "iopub.status.busy": "2024-05-17T14:08:52.113790Z",
     "iopub.status.idle": "2024-05-17T14:08:52.117993Z",
     "shell.execute_reply": "2024-05-17T14:08:52.117567Z"
    },
    "lines_to_next_cell": 1,
    "papermill": {
     "duration": 0.021776,
     "end_time": "2024-05-17T14:08:52.119059",
     "exception": false,
     "start_time": "2024-05-17T14:08:52.097283",
     "status": "completed"
    },
    "tags": []
   },
   "outputs": [],
   "source": [
    "# https://leetcode.com/problems/longest-palindromic-subsequence/submissions/1256744931\n",
    "def longestPalindromeSubseqMemo(text: str) -> int:\n",
    "    @functools.cache\n",
    "    def backtrack(i: int, j: int) -> int:\n",
    "        if i >= j:\n",
    "            return int(i == j)\n",
    "        elif text[i] == text[j]:\n",
    "            return 2 + backtrack(i + 1, j - 1)\n",
    "        else:\n",
    "            return max(backtrack(i + 1, j), backtrack(i, j - 1))\n",
    "\n",
    "    N = len(text)\n",
    "    result = backtrack(0, N - 1)\n",
    "    return result\n",
    "\n",
    "# Testing the solution\n",
    "assert longestPalindromeSubseqMemo(\"bbbab\") == 4\n",
    "assert longestPalindromeSubseqMemo(\"cbbd\") == 2"
   ]
  },
  {
   "cell_type": "code",
   "execution_count": 66,
   "id": "c5612366",
   "metadata": {
    "execution": {
     "iopub.execute_input": "2024-05-17T14:08:52.151188Z",
     "iopub.status.busy": "2024-05-17T14:08:52.150981Z",
     "iopub.status.idle": "2024-05-17T14:08:52.155704Z",
     "shell.execute_reply": "2024-05-17T14:08:52.155290Z"
    },
    "lines_to_next_cell": 1,
    "papermill": {
     "duration": 0.021937,
     "end_time": "2024-05-17T14:08:52.156761",
     "exception": false,
     "start_time": "2024-05-17T14:08:52.134824",
     "status": "completed"
    },
    "tags": []
   },
   "outputs": [],
   "source": [
    "def longestPalindromeSubseqTab(text: str) -> int:\n",
    "    N = len(text)\n",
    "    dp: list[list[int]] = [[0 if j != (N - 1) / 2 else 1 for j in range(N + 1)] for i in range(N + 1)]\n",
    "    for i in range(N - 1, -1, -1):\n",
    "        for j in range(N):\n",
    "            if i >= j:\n",
    "                dp[i][j] = int(i == j)\n",
    "            elif text[i] == text[j]:\n",
    "                dp[i][j] = 2 + dp[i + 1][j - 1]\n",
    "            else:\n",
    "                dp[i][j] = max(dp[i + 1][j], dp[i][j - 1])\n",
    "\n",
    "    return dp[0][N - 1]\n",
    "\n",
    "# Testing the solution\n",
    "assert longestPalindromeSubseqTab(\"bbbab\") == 4\n",
    "assert longestPalindromeSubseqTab(\"cbbd\") == 2"
   ]
  },
  {
   "cell_type": "code",
   "execution_count": 67,
   "id": "a74fa1d5",
   "metadata": {
    "execution": {
     "iopub.execute_input": "2024-05-17T14:08:52.189821Z",
     "iopub.status.busy": "2024-05-17T14:08:52.189290Z",
     "iopub.status.idle": "2024-05-17T14:08:52.194290Z",
     "shell.execute_reply": "2024-05-17T14:08:52.193869Z"
    },
    "lines_to_next_cell": 1,
    "papermill": {
     "duration": 0.022747,
     "end_time": "2024-05-17T14:08:52.195332",
     "exception": false,
     "start_time": "2024-05-17T14:08:52.172585",
     "status": "completed"
    },
    "tags": []
   },
   "outputs": [],
   "source": [
    "# https://leetcode.com/problems/longest-palindromic-subsequence/submissions/1256759252\n",
    "def longestPalindromeSubseq(text: str) -> int:\n",
    "    N = len(text)\n",
    "    dp: list[int] = [0 if j != (N - 1) / 2 else 1 for j in range(N + 1)]\n",
    "    for i in range(N - 1, -1, -1):\n",
    "        next_dp: list[int] = []\n",
    "        for j in range(N):\n",
    "            if i >= j:\n",
    "                next_dp.append(int(i == j))\n",
    "            elif text[i] == text[j]:\n",
    "                next_dp.append(2 + dp[j - 1])\n",
    "            else:\n",
    "                next_dp.append(max(dp[j], next_dp[-1]))\n",
    "\n",
    "        # We run the inner loop for N iterations, dp however has a length of N + 1\n",
    "        # Hence we add 0 in the end to make sure that the values are consistent of DP compute\n",
    "        # We could make this simpler by initializing next_dp as list(dp), but that would\n",
    "        # be wasted O(N) runtime.\n",
    "        next_dp.append(0)\n",
    "        dp = next_dp\n",
    "\n",
    "    return dp[N - 1]\n",
    "\n",
    "# Testing the solution\n",
    "assert longestPalindromeSubseq(\"bbbab\") == 4\n",
    "assert longestPalindromeSubseq(\"cbbd\") == 2"
   ]
  },
  {
   "cell_type": "code",
   "execution_count": 68,
   "id": "e94ba584",
   "metadata": {
    "execution": {
     "iopub.execute_input": "2024-05-17T14:08:52.228838Z",
     "iopub.status.busy": "2024-05-17T14:08:52.228275Z",
     "iopub.status.idle": "2024-05-17T14:08:52.233279Z",
     "shell.execute_reply": "2024-05-17T14:08:52.232816Z"
    },
    "lines_to_next_cell": 1,
    "papermill": {
     "duration": 0.023041,
     "end_time": "2024-05-17T14:08:52.234370",
     "exception": false,
     "start_time": "2024-05-17T14:08:52.211329",
     "status": "completed"
    },
    "tags": []
   },
   "outputs": [],
   "source": [
    "def longestPalindromeSubseqStriver(text: str) -> int:\n",
    "    \"\"\"\n",
    "    1. We reverse text.\n",
    "    2. Whatever value is the LCS of both the texts, that is our desired answer\n",
    "    \"\"\"\n",
    "    def LCS(text1: str, text2: str) -> int:\n",
    "        N = len(text1)\n",
    "        dp: list[int] = [0 for j in range(N + 1)]\n",
    "        for i in range(N - 1, -1, -1):\n",
    "            next_dp: list[int] = list(dp)\n",
    "            for j in range(N - 1, -1, -1):\n",
    "                if text1[i] == text2[j]:\n",
    "                    next_dp[j] = 1 + dp[j + 1]\n",
    "                else:\n",
    "                    next_dp[j] = max(dp[j], next_dp[j + 1])\n",
    "            dp = next_dp\n",
    "\n",
    "        return dp[0]\n",
    "\n",
    "    return LCS(text, text[::-1])\n",
    "\n",
    "# Testing the solution\n",
    "assert longestPalindromeSubseqStriver(\"bbbab\") == 4\n",
    "assert longestPalindromeSubseqStriver(\"cbbd\") == 2"
   ]
  },
  {
   "cell_type": "code",
   "execution_count": 69,
   "id": "5a62593a",
   "metadata": {
    "execution": {
     "iopub.execute_input": "2024-05-17T14:08:52.268300Z",
     "iopub.status.busy": "2024-05-17T14:08:52.267739Z",
     "iopub.status.idle": "2024-05-17T14:08:52.270467Z",
     "shell.execute_reply": "2024-05-17T14:08:52.270043Z"
    },
    "papermill": {
     "duration": 0.020943,
     "end_time": "2024-05-17T14:08:52.271518",
     "exception": false,
     "start_time": "2024-05-17T14:08:52.250575",
     "status": "completed"
    },
    "tags": []
   },
   "outputs": [],
   "source": [
    "# Video link: https://youtu.be/xPBLEj41rFU?si=TkaEwZIQqY7WkasB\n",
    "# Minimum insertions to make a string palindromic"
   ]
  },
  {
   "cell_type": "code",
   "execution_count": 70,
   "id": "a73343a1",
   "metadata": {
    "execution": {
     "iopub.execute_input": "2024-05-17T14:08:52.304331Z",
     "iopub.status.busy": "2024-05-17T14:08:52.303974Z",
     "iopub.status.idle": "2024-05-17T14:08:52.308339Z",
     "shell.execute_reply": "2024-05-17T14:08:52.307927Z"
    },
    "lines_to_next_cell": 1,
    "papermill": {
     "duration": 0.021989,
     "end_time": "2024-05-17T14:08:52.309383",
     "exception": false,
     "start_time": "2024-05-17T14:08:52.287394",
     "status": "completed"
    },
    "tags": []
   },
   "outputs": [],
   "source": [
    "# https://leetcode.com/problems/minimum-insertion-steps-to-make-a-string-palindrome/submissions/1256992480/\n",
    "def minInsertions(text: str) -> int:\n",
    "    \"\"\"\n",
    "    1. Find the longest palindromic substring\n",
    "    2. Minimum insertions required would be length of the N - longest palindromic substr\n",
    "    \"\"\"\n",
    "\n",
    "    @functools.cache\n",
    "    def longestPalindromicSubstrLength(i: int, j: int) -> int:\n",
    "        if i >= j:\n",
    "            return int(i == j)\n",
    "        elif text[i] == text[j]:\n",
    "            return 2 + longestPalindromicSubstrLength(i + 1, j - 1)\n",
    "        else:\n",
    "            return max(longestPalindromicSubstrLength(i + 1, j), longestPalindromicSubstrLength(i, j - 1))\n",
    "\n",
    "    N = len(text)\n",
    "    return N - longestPalindromicSubstrLength(0, N - 1)\n",
    "\n",
    "# Testing the solution\n",
    "assert minInsertions(\"mbadm\") == 2\n",
    "assert minInsertions(\"leetcode\") == 5"
   ]
  },
  {
   "cell_type": "markdown",
   "id": "76604d02",
   "metadata": {
    "papermill": {
     "duration": 0.015705,
     "end_time": "2024-05-17T14:08:52.340958",
     "exception": false,
     "start_time": "2024-05-17T14:08:52.325253",
     "status": "completed"
    },
    "tags": []
   },
   "source": [
    "Minimum ops to convert s1 to s2\n",
    "Video Link: https://youtu.be/yMnH0jrir0Q?si=WNsLNkqd3rhHqzDX"
   ]
  },
  {
   "cell_type": "code",
   "execution_count": 71,
   "id": "07d4a7a1",
   "metadata": {
    "execution": {
     "iopub.execute_input": "2024-05-17T14:08:52.374030Z",
     "iopub.status.busy": "2024-05-17T14:08:52.373573Z",
     "iopub.status.idle": "2024-05-17T14:08:52.380265Z",
     "shell.execute_reply": "2024-05-17T14:08:52.379830Z"
    },
    "lines_to_next_cell": 1,
    "papermill": {
     "duration": 0.024449,
     "end_time": "2024-05-17T14:08:52.381380",
     "exception": false,
     "start_time": "2024-05-17T14:08:52.356931",
     "status": "completed"
    },
    "tags": []
   },
   "outputs": [],
   "source": [
    "# https://leetcode.com/problems/delete-operation-for-two-strings/submissions/1257015539\n",
    "def minDistance(word1: str, word2: str) -> int:\n",
    "    \"\"\"\n",
    "    The idea is to think about what characters we should leave untouched. In this\n",
    "    case, we can leave out characters that are subsequences also present in word2.o\n",
    "\n",
    "    Hence logic: Find length of longest common subsequence -> (N1 - S) + (N2 - S)\n",
    "    \"\"\"\n",
    "    N1, N2 = len(word1), len(word2)\n",
    "    dp: list[int] = [0 for j in range(N2 + 1)]\n",
    "    for i in range(N1 - 1, -1, -1):\n",
    "        next_dp: list[int] = [0]\n",
    "        for j in range(N2 - 1, -1, -1):\n",
    "            if word1[i] == word2[j]:\n",
    "                next_dp.append(1 + dp[j + 1])\n",
    "            else:\n",
    "                next_dp.append(max(dp[j], next_dp[-1]))\n",
    "\n",
    "        next_dp.reverse()\n",
    "        dp = next_dp\n",
    "\n",
    "    substr_length = dp[0]\n",
    "    return (N1 - substr_length) + (N2 - substr_length)\n",
    "\n",
    "# Testing the solution\n",
    "assert minDistance(\"leetcode\", \"etco\") == 4\n",
    "assert minDistance(\"sea\", \"eat\") == 2"
   ]
  },
  {
   "cell_type": "markdown",
   "id": "899a0256",
   "metadata": {
    "papermill": {
     "duration": 0.015849,
     "end_time": "2024-05-17T14:08:52.413497",
     "exception": false,
     "start_time": "2024-05-17T14:08:52.397648",
     "status": "completed"
    },
    "tags": []
   },
   "source": [
    "Shortest common supersequence: https://youtu.be/xElxAuBcvsU?si=A_v7qeegsKrHgGle\n",
    "https://leetcode.com/problems/shortest-common-supersequence/"
   ]
  },
  {
   "cell_type": "code",
   "execution_count": 72,
   "id": "ddeea61a",
   "metadata": {
    "execution": {
     "iopub.execute_input": "2024-05-17T14:08:52.446262Z",
     "iopub.status.busy": "2024-05-17T14:08:52.445801Z",
     "iopub.status.idle": "2024-05-17T14:08:52.453494Z",
     "shell.execute_reply": "2024-05-17T14:08:52.453014Z"
    },
    "lines_to_next_cell": 1,
    "papermill": {
     "duration": 0.025438,
     "end_time": "2024-05-17T14:08:52.454557",
     "exception": false,
     "start_time": "2024-05-17T14:08:52.429119",
     "status": "completed"
    },
    "tags": []
   },
   "outputs": [],
   "source": [
    "# https://leetcode.com/problems/shortest-common-supersequence/submissions/1257426491\n",
    "def shortestCommonSupersequenceBetter(str1: str, str2: str) -> str:\n",
    "    \"\"\"\n",
    "    Logic: Common characters should be taken once. Add missing characters in order.\n",
    "    \"\"\"\n",
    "    N1, N2 = len(str1), len(str2)\n",
    "\n",
    "    # Compute the DP grid for Longest common subsequence\n",
    "    dp: list[list[int]] = [[0 for j in range(N2 + 1)] for i in range(N1 + 1)]\n",
    "    for i in range(N1 - 1, -1, -1):\n",
    "        for j in range(N2 - 1, -1, -1):\n",
    "            if str1[i] == str2[j]:\n",
    "                dp[i][j] = 1 + dp[i + 1][j + 1]\n",
    "            else:\n",
    "                dp[i][j] = max(dp[i + 1][j], dp[i][j + 1])\n",
    "\n",
    "    # Find out the subsequence\n",
    "    lcs_list: list[str] = []\n",
    "    i = j = 0\n",
    "    while i < N1 and j < N2:\n",
    "        if str1[i] == str2[j]:\n",
    "            lcs_list.append(str1[i])\n",
    "            i, j = i + 1, j + 1\n",
    "        elif dp[i][j + 1] >= dp[i + 1][j]:\n",
    "            j = j + 1\n",
    "        else:\n",
    "            i = i + 1\n",
    "\n",
    "    # Compute LCS string\n",
    "    lcs_list.append(\"*\")\n",
    "    lcs = ''.join(lcs_list)\n",
    "    N3 = len(lcs)\n",
    "\n",
    "    # Add the missing characters in order\n",
    "    i = j = k = 0\n",
    "    supersequence_list: list[str] = []\n",
    "    while k < N3:\n",
    "        while i < N1 and str1[i] != lcs[k]:\n",
    "            supersequence_list.append(str1[i])\n",
    "            i += 1\n",
    "        while j < N2 and str2[j] != lcs[k]:\n",
    "            supersequence_list.append(str2[j])\n",
    "            j += 1\n",
    "        supersequence_list.append(lcs[k])\n",
    "        i, j, k = i + 1, j + 1, k + 1\n",
    "\n",
    "    supersequence_list.pop()\n",
    "    return ''.join(supersequence_list)\n",
    "\n",
    "# Testing the solution\n",
    "assert len(shortestCommonSupersequenceBetter(\"abac\", \"cab\")) == 5\n",
    "assert len(shortestCommonSupersequenceBetter(\"brute\", \"groot\")) == 8"
   ]
  },
  {
   "cell_type": "code",
   "execution_count": 73,
   "id": "e8a2cfe9",
   "metadata": {
    "execution": {
     "iopub.execute_input": "2024-05-17T14:08:52.488267Z",
     "iopub.status.busy": "2024-05-17T14:08:52.487705Z",
     "iopub.status.idle": "2024-05-17T14:08:52.494310Z",
     "shell.execute_reply": "2024-05-17T14:08:52.493784Z"
    },
    "lines_to_next_cell": 1,
    "papermill": {
     "duration": 0.024633,
     "end_time": "2024-05-17T14:08:52.495354",
     "exception": false,
     "start_time": "2024-05-17T14:08:52.470721",
     "status": "completed"
    },
    "tags": []
   },
   "outputs": [],
   "source": [
    "# https://leetcode.com/problems/shortest-common-supersequence/submissions/1257436090/\n",
    "def shortestCommonSupersequenceStriver(str1: str, str2: str) -> str:\n",
    "    \"\"\"\n",
    "    Instead of computing the missing characters seperately we add them during out iteration through the DP table itself.\n",
    "    \"\"\"\n",
    "    N1, N2 = len(str1), len(str2)\n",
    "\n",
    "    # Compute the DP grid for Longest common subsequence\n",
    "    dp: list[list[int]] = [[0 for j in range(N2 + 1)] for i in range(N1 + 1)]\n",
    "    for i in range(N1 - 1, -1, -1):\n",
    "        for j in range(N2 - 1, -1, -1):\n",
    "            if str1[i] == str2[j]:\n",
    "                dp[i][j] = 1 + dp[i + 1][j + 1]\n",
    "            else:\n",
    "                dp[i][j] = max(dp[i + 1][j], dp[i][j + 1])\n",
    "\n",
    "    # Find out the supersequence, slight modification to LCS print code\n",
    "    # Instead of iterating until any one of the strings going out of bounds, we iterate until both are out of bounds\n",
    "    # When strings don't match and we go to the direction of maximum in the DP table, we add the string that is being shrunk\n",
    "    # j = j + 1 code => str2[j] is added other wise str1[i]\n",
    "    supersequence_list: list[str] = []\n",
    "    i = j = 0\n",
    "    while i < N1 or j < N2:\n",
    "        if i < N1 and j < N2 and str1[i] == str2[j]:\n",
    "            supersequence_list.append(str1[i])\n",
    "            i, j = i + 1, j + 1\n",
    "        elif i >= N1 or (j < N2 and dp[i][j + 1] >= dp[i + 1][j]):\n",
    "            supersequence_list.append(str2[j])\n",
    "            j = j + 1\n",
    "        else:\n",
    "            supersequence_list.append(str1[i])\n",
    "            i = i + 1\n",
    "\n",
    "    return ''.join(supersequence_list)\n",
    "\n",
    "# Testing the solution\n",
    "assert len(shortestCommonSupersequenceStriver(\"abac\", \"cab\")) == 5\n",
    "assert len(shortestCommonSupersequenceStriver(\"brute\", \"groot\")) == 8"
   ]
  },
  {
   "cell_type": "markdown",
   "id": "2e842207",
   "metadata": {
    "papermill": {
     "duration": 0.015928,
     "end_time": "2024-05-17T14:08:52.527639",
     "exception": false,
     "start_time": "2024-05-17T14:08:52.511711",
     "status": "completed"
    },
    "tags": []
   },
   "source": [
    "Number of Distinct Subsequences: https://leetcode.com/problems/distinct-subsequences\n",
    "Video Link: https://youtu.be/nVG7eTiD2bY?si=aNNyhjH2VDvfErnT\n",
    "Naive Time complexity: Exponential, Space: O(M + N)"
   ]
  },
  {
   "cell_type": "code",
   "execution_count": 74,
   "id": "b80cade8",
   "metadata": {
    "execution": {
     "iopub.execute_input": "2024-05-17T14:08:52.560723Z",
     "iopub.status.busy": "2024-05-17T14:08:52.560196Z",
     "iopub.status.idle": "2024-05-17T14:08:52.564653Z",
     "shell.execute_reply": "2024-05-17T14:08:52.564204Z"
    },
    "lines_to_next_cell": 1,
    "papermill": {
     "duration": 0.0222,
     "end_time": "2024-05-17T14:08:52.565719",
     "exception": false,
     "start_time": "2024-05-17T14:08:52.543519",
     "status": "completed"
    },
    "tags": []
   },
   "outputs": [],
   "source": [
    "def numDistinctMemo(s: str, t: str) -> int:\n",
    "    @functools.cache\n",
    "    def backtrack(i: int, j: int) -> int:\n",
    "        if j >= N2:\n",
    "            return 1\n",
    "        elif i >= N1:\n",
    "            return 0\n",
    "        elif s[i] != t[j]:\n",
    "            return backtrack(i + 1, j)\n",
    "        else:\n",
    "            return backtrack(i + 1, j + 1) + backtrack(i + 1, j)\n",
    "\n",
    "    N1, N2 = len(s), len(t)\n",
    "    return backtrack(0, 0)\n",
    "\n",
    "# Testing the solution\n",
    "assert numDistinctMemo(\"babgbag\", \"bag\") == 5\n",
    "assert numDistinctMemo(\"rabbbit\", \"rabbit\") == 3"
   ]
  },
  {
   "cell_type": "code",
   "execution_count": 75,
   "id": "97af7ce5",
   "metadata": {
    "execution": {
     "iopub.execute_input": "2024-05-17T14:08:52.598692Z",
     "iopub.status.busy": "2024-05-17T14:08:52.598278Z",
     "iopub.status.idle": "2024-05-17T14:08:52.603286Z",
     "shell.execute_reply": "2024-05-17T14:08:52.602831Z"
    },
    "lines_to_next_cell": 1,
    "papermill": {
     "duration": 0.022592,
     "end_time": "2024-05-17T14:08:52.604278",
     "exception": false,
     "start_time": "2024-05-17T14:08:52.581686",
     "status": "completed"
    },
    "tags": []
   },
   "outputs": [],
   "source": [
    "def numDistinctTab(s: str, t: str) -> int:\n",
    "    N1, N2 = len(s), len(t)\n",
    "    dp: list[list[int]] = [[0 if j < N2 else 1 for j in range(N2 + 1)] for i in range(N1 + 1)]\n",
    "    for i in range(N1 - 1, -1, -1):\n",
    "        for j in range(N2 - 1, -1, -1):\n",
    "            if s[i] != t[j]:\n",
    "                dp[i][j] = dp[i + 1][j]\n",
    "            else:\n",
    "                dp[i][j] = dp[i + 1][j + 1] + dp[i + 1][j]\n",
    "\n",
    "    return dp[0][0]\n",
    "\n",
    "# Testing the solution\n",
    "assert numDistinctTab(\"babgbag\", \"bag\") == 5\n",
    "assert numDistinctTab(\"rabbbit\", \"rabbit\") == 3"
   ]
  },
  {
   "cell_type": "code",
   "execution_count": 76,
   "id": "7ac5bcf2",
   "metadata": {
    "execution": {
     "iopub.execute_input": "2024-05-17T14:08:52.637506Z",
     "iopub.status.busy": "2024-05-17T14:08:52.636970Z",
     "iopub.status.idle": "2024-05-17T14:08:52.641887Z",
     "shell.execute_reply": "2024-05-17T14:08:52.641348Z"
    },
    "lines_to_next_cell": 1,
    "papermill": {
     "duration": 0.022657,
     "end_time": "2024-05-17T14:08:52.642915",
     "exception": false,
     "start_time": "2024-05-17T14:08:52.620258",
     "status": "completed"
    },
    "tags": []
   },
   "outputs": [],
   "source": [
    "# https://leetcode.com/problems/distinct-subsequences/submissions/1258020441\n",
    "def numDistinctSpaceOptimized(s: str, t: str) -> int:\n",
    "    N1, N2 = len(s), len(t)\n",
    "    dp: list[int] = [0 if j < N2 else 1 for j in range(N2 + 1)]\n",
    "    for i in range(N1 - 1, -1, -1):\n",
    "        next_dp: list[int] = [1]\n",
    "        for j in range(N2 - 1, -1, -1):\n",
    "            if s[i] != t[j]:\n",
    "                next_dp.append(dp[j])\n",
    "            else:\n",
    "                next_dp.append(dp[j + 1] + dp[j])\n",
    "\n",
    "        next_dp.reverse()\n",
    "        dp = next_dp\n",
    "\n",
    "    return dp[0]\n",
    "\n",
    "# Testing the solution\n",
    "assert numDistinctSpaceOptimized(\"babgbag\", \"bag\") == 5\n",
    "assert numDistinctSpaceOptimized(\"rabbbit\", \"rabbit\") == 3"
   ]
  },
  {
   "cell_type": "code",
   "execution_count": 77,
   "id": "67fc3008",
   "metadata": {
    "execution": {
     "iopub.execute_input": "2024-05-17T14:08:52.675677Z",
     "iopub.status.busy": "2024-05-17T14:08:52.675126Z",
     "iopub.status.idle": "2024-05-17T14:08:52.679519Z",
     "shell.execute_reply": "2024-05-17T14:08:52.679095Z"
    },
    "lines_to_next_cell": 1,
    "papermill": {
     "duration": 0.021986,
     "end_time": "2024-05-17T14:08:52.680567",
     "exception": false,
     "start_time": "2024-05-17T14:08:52.658581",
     "status": "completed"
    },
    "tags": []
   },
   "outputs": [],
   "source": [
    "# https://leetcode.com/problems/distinct-subsequences/submissions/1258288057\n",
    "def numDistinct(s: str, t: str) -> int:\n",
    "    N1, N2 = len(s), len(t)\n",
    "    dp: list[int] = [0 if j < N2 else 1 for j in range(N2 + 1)]\n",
    "    for i in range(N1 - 1, -1, -1):\n",
    "        for j in range(N2):\n",
    "            if s[i] == t[j]:\n",
    "                dp[j] += dp[j + 1]\n",
    "\n",
    "    return dp[0]\n",
    "\n",
    "# Testing the solution\n",
    "assert numDistinct(\"babgbag\", \"bag\") == 5\n",
    "assert numDistinct(\"rabbbit\", \"rabbit\") == 3"
   ]
  },
  {
   "cell_type": "markdown",
   "id": "88f0f8ed",
   "metadata": {
    "papermill": {
     "duration": 0.015638,
     "end_time": "2024-05-17T14:08:52.712444",
     "exception": false,
     "start_time": "2024-05-17T14:08:52.696806",
     "status": "completed"
    },
    "tags": []
   },
   "source": [
    "Edit Distance\n",
    "Video Link: https://youtu.be/fJaKO8FbDdo?si=YtaIzd2Iphw_Vrlc\n",
    "Naive solution time complexity: O(3 ** N x 3 ** M), Space: O(M + N)"
   ]
  },
  {
   "cell_type": "code",
   "execution_count": 78,
   "id": "1ece6567",
   "metadata": {
    "execution": {
     "iopub.execute_input": "2024-05-17T14:08:52.745470Z",
     "iopub.status.busy": "2024-05-17T14:08:52.744941Z",
     "iopub.status.idle": "2024-05-17T14:08:52.749967Z",
     "shell.execute_reply": "2024-05-17T14:08:52.749441Z"
    },
    "lines_to_next_cell": 1,
    "papermill": {
     "duration": 0.022688,
     "end_time": "2024-05-17T14:08:52.750974",
     "exception": false,
     "start_time": "2024-05-17T14:08:52.728286",
     "status": "completed"
    },
    "tags": []
   },
   "outputs": [],
   "source": [
    "# https://leetcode.com/problems/edit-distance/submissions/1258864387/\n",
    "def editDistanceMemo(word1: str, word2: str) -> int:\n",
    "    @functools.cache\n",
    "    def backtrack(i: int, j: int) -> int:\n",
    "        if i >= N1 or j >= N2:\n",
    "            return (N1 - i) + (N2 - j)\n",
    "        elif word1[i] == word2[j]:\n",
    "            return backtrack(i + 1, j + 1)\n",
    "        else:\n",
    "            delete_op = backtrack(i + 1, j)\n",
    "            insert_op = backtrack(i, j + 1)\n",
    "            replace_op = backtrack(i + 1, j + 1)\n",
    "            return 1 + min(delete_op, insert_op, replace_op)\n",
    "\n",
    "    N1, N2 = len(word1), len(word2)\n",
    "    return backtrack(0, 0)\n",
    "\n",
    "# Testing the solution\n",
    "assert editDistanceMemo(\"horse\", \"ros\") == 3\n",
    "assert editDistanceMemo(\"intention\", \"execution\") == 5"
   ]
  },
  {
   "cell_type": "code",
   "execution_count": 79,
   "id": "a32793d7",
   "metadata": {
    "execution": {
     "iopub.execute_input": "2024-05-17T14:08:52.783570Z",
     "iopub.status.busy": "2024-05-17T14:08:52.783236Z",
     "iopub.status.idle": "2024-05-17T14:08:52.788532Z",
     "shell.execute_reply": "2024-05-17T14:08:52.788080Z"
    },
    "lines_to_next_cell": 1,
    "papermill": {
     "duration": 0.022803,
     "end_time": "2024-05-17T14:08:52.789606",
     "exception": false,
     "start_time": "2024-05-17T14:08:52.766803",
     "status": "completed"
    },
    "tags": []
   },
   "outputs": [],
   "source": [
    "def editDistanceTab(word1: str, word2: str) -> int:\n",
    "    N1, N2 = len(word1), len(word2)\n",
    "    dp: list[list[int]] = [[(N1 - i) + (N2 - j) if i >= N1 or j >= N2 else 0 for j in range(N2 + 1)] for i in range(N1 + 1)]\n",
    "    for i in range(N1 - 1, -1, -1):\n",
    "        for j in range(N2 - 1, -1, -1):\n",
    "            if word1[i] == word2[j]:\n",
    "                dp[i][j] = dp[i + 1][j + 1]\n",
    "            else:\n",
    "                dp[i][j] = 1 + min(dp[i + 1][j], dp[i][j + 1], dp[i + 1][j + 1])\n",
    "\n",
    "    return dp[0][0]\n",
    "\n",
    "# Testing the solution\n",
    "assert editDistanceTab(\"horse\", \"ros\") == 3\n",
    "assert editDistanceTab(\"intention\", \"execution\") == 5"
   ]
  },
  {
   "cell_type": "code",
   "execution_count": 80,
   "id": "5af4af2c",
   "metadata": {
    "execution": {
     "iopub.execute_input": "2024-05-17T14:08:52.823103Z",
     "iopub.status.busy": "2024-05-17T14:08:52.822539Z",
     "iopub.status.idle": "2024-05-17T14:08:52.827906Z",
     "shell.execute_reply": "2024-05-17T14:08:52.827499Z"
    },
    "lines_to_next_cell": 1,
    "papermill": {
     "duration": 0.023311,
     "end_time": "2024-05-17T14:08:52.828934",
     "exception": false,
     "start_time": "2024-05-17T14:08:52.805623",
     "status": "completed"
    },
    "tags": []
   },
   "outputs": [],
   "source": [
    "def editDistanceSpaceOptimized(word1: str, word2: str) -> int:\n",
    "    N1, N2 = len(word1), len(word2)\n",
    "    if N1 == 0 or N2 == 0:\n",
    "        return max(N1, N2)\n",
    "\n",
    "    else:\n",
    "        dp: list[int] = [N2 - j for j in range(N2 + 1)]\n",
    "        for i in range(N1 - 1, -1, -1):\n",
    "            dp[-1] = N1 - i - 1\n",
    "            next_dp: list[int] = list(dp)\n",
    "            for j in range(N2 - 1, -1, -1):\n",
    "                if word1[i] == word2[j]:\n",
    "                    next_dp[j] = dp[j + 1]\n",
    "                else:\n",
    "                    next_dp[j] = 1 + min(dp[j], dp[j + 1], next_dp[j + 1])\n",
    "\n",
    "            dp = next_dp\n",
    "\n",
    "        return dp[0]\n",
    "\n",
    "# Testing the solution\n",
    "assert editDistanceSpaceOptimized(\"horse\", \"ros\") == 3\n",
    "assert editDistanceSpaceOptimized(\"intention\", \"execution\") == 5"
   ]
  },
  {
   "cell_type": "markdown",
   "id": "06a1202d",
   "metadata": {
    "papermill": {
     "duration": 0.015754,
     "end_time": "2024-05-17T14:08:52.860711",
     "exception": false,
     "start_time": "2024-05-17T14:08:52.844957",
     "status": "completed"
    },
    "tags": []
   },
   "source": [
    "Video Link: https://youtu.be/ZmlQ3vgAOMo?si=E_X4r10aFkD_A9Nn\n",
    "Wildcard Matching"
   ]
  },
  {
   "cell_type": "code",
   "execution_count": 81,
   "id": "fc9c33aa",
   "metadata": {
    "execution": {
     "iopub.execute_input": "2024-05-17T14:08:52.893538Z",
     "iopub.status.busy": "2024-05-17T14:08:52.893076Z",
     "iopub.status.idle": "2024-05-17T14:08:52.898835Z",
     "shell.execute_reply": "2024-05-17T14:08:52.898303Z"
    },
    "lines_to_next_cell": 1,
    "papermill": {
     "duration": 0.023368,
     "end_time": "2024-05-17T14:08:52.899891",
     "exception": false,
     "start_time": "2024-05-17T14:08:52.876523",
     "status": "completed"
    },
    "tags": []
   },
   "outputs": [],
   "source": [
    "def isMatchMemo(s: str, p: str) -> bool:\n",
    "    @functools.cache\n",
    "    def backtrack(i: int, j: int) -> bool:\n",
    "        if i >= N1 and j >= N2:\n",
    "            return True\n",
    "        elif i >= N1 or j >= N2:\n",
    "            return False\n",
    "        elif s[i] == p[j] or p[j] == '?':\n",
    "            return backtrack(i + 1, j + 1)\n",
    "        elif p[j] == '*':\n",
    "            # consume s[i] or don't consume s[i]\n",
    "            return backtrack(i + 1, j) or backtrack(i, j + 1)\n",
    "        else:\n",
    "            return False\n",
    "\n",
    "    s, p = s + '$', p + '$'\n",
    "    N1, N2 = len(s), len(p)\n",
    "    return backtrack(0, 0)\n",
    "\n",
    "# Testing the solution\n",
    "assert isMatchMemo(\"d\", \"*d\") == True\n",
    "assert isMatchMemo(\"abacd\", \"*c?\") == True\n",
    "assert isMatchMemo(\"aa\", \"*\") == True\n",
    "assert isMatchMemo(\"cb\", \"?a\") == False\n",
    "assert isMatchMemo(\"cb\", \"?a\") == False\n",
    "assert isMatchMemo(\"abcabczzzde\", \"*abc???de*\") == True\n",
    "assert isMatchMemo(\"aaa\", \"***a\") == True"
   ]
  },
  {
   "cell_type": "code",
   "execution_count": 82,
   "id": "66694128",
   "metadata": {
    "execution": {
     "iopub.execute_input": "2024-05-17T14:08:52.933067Z",
     "iopub.status.busy": "2024-05-17T14:08:52.932578Z",
     "iopub.status.idle": "2024-05-17T14:08:52.938349Z",
     "shell.execute_reply": "2024-05-17T14:08:52.937812Z"
    },
    "lines_to_next_cell": 1,
    "papermill": {
     "duration": 0.023584,
     "end_time": "2024-05-17T14:08:52.939491",
     "exception": false,
     "start_time": "2024-05-17T14:08:52.915907",
     "status": "completed"
    },
    "tags": []
   },
   "outputs": [],
   "source": [
    "def isMatchTab(s: str, p: str) -> bool:\n",
    "    s, p = s + '$', p + '$'\n",
    "    N1, N2 = len(s), len(p)\n",
    "    dp: list[list[bool]] = [[True if i >= N1 and j >= N2 else False for j in range(N2 + 1)] for i in range(N1 + 1)]\n",
    "    for i in range(N1 - 1, -1, -1):\n",
    "        for j in range(N2 - 1, -1, -1):\n",
    "            if s[i] == p[j] or p[j] == '?':\n",
    "                dp[i][j] = dp[i + 1][j + 1]\n",
    "            elif p[j] == '*':\n",
    "                dp[i][j] = dp[i + 1][j] or dp[i][j + 1]\n",
    "            else:\n",
    "                dp[i][j] = False\n",
    "\n",
    "    return dp[0][0]\n",
    "\n",
    "# Testing the solution\n",
    "assert isMatchTab(\"abacd\", \"*c?\") == True\n",
    "assert isMatchTab(\"abcabczzzde\", \"*abc???de*\") == True\n",
    "assert isMatchTab(\"aaa\", \"***?\") == True"
   ]
  },
  {
   "cell_type": "code",
   "execution_count": 83,
   "id": "1803ba8d",
   "metadata": {
    "execution": {
     "iopub.execute_input": "2024-05-17T14:08:52.972844Z",
     "iopub.status.busy": "2024-05-17T14:08:52.972453Z",
     "iopub.status.idle": "2024-05-17T14:08:52.977961Z",
     "shell.execute_reply": "2024-05-17T14:08:52.977451Z"
    },
    "lines_to_next_cell": 1,
    "papermill": {
     "duration": 0.023275,
     "end_time": "2024-05-17T14:08:52.978979",
     "exception": false,
     "start_time": "2024-05-17T14:08:52.955704",
     "status": "completed"
    },
    "tags": []
   },
   "outputs": [],
   "source": [
    "# https://leetcode.com/problems/wildcard-matching/submissions/1259222651\n",
    "def isMatch(s: str, p: str) -> bool:\n",
    "    s, p = s + '$', p + '$'\n",
    "    N1, N2 = len(s), len(p)\n",
    "    dp: list[bool] = [True if j >= N2 else False for j in range(N2 + 1)]\n",
    "    for i in range(N1 - 1, -1, -1):\n",
    "        next_dp: list[bool] = list(dp)\n",
    "        for j in range(N2 - 1, -1, -1):\n",
    "            if s[i] == p[j] or p[j] == '?':\n",
    "                next_dp[j] = dp[j + 1]\n",
    "            elif p[j] == '*':\n",
    "                next_dp[j] = dp[j] or next_dp[j + 1]\n",
    "            else:\n",
    "                next_dp[j] = False\n",
    "\n",
    "        dp = next_dp\n",
    "\n",
    "    return dp[0]\n",
    "\n",
    "# Testing the solution\n",
    "assert isMatch(\"abacd\", \"*c?\") == True\n",
    "assert isMatch(\"abcabczzzde\", \"*abc???de*\") == True\n",
    "assert isMatch(\"aaa\", \"***?\") == True"
   ]
  },
  {
   "cell_type": "markdown",
   "id": "0af9e13b",
   "metadata": {
    "papermill": {
     "duration": 0.015511,
     "end_time": "2024-05-17T14:08:53.010271",
     "exception": false,
     "start_time": "2024-05-17T14:08:52.994760",
     "status": "completed"
    },
    "tags": []
   },
   "source": [
    "Best time to buy and sell stocks - II\n",
    "Video Link: https://youtu.be/nGJmxkUJQGs?si=xgX1LFznD2IAPCJ7"
   ]
  },
  {
   "cell_type": "code",
   "execution_count": 84,
   "id": "0b5303c1",
   "metadata": {
    "execution": {
     "iopub.execute_input": "2024-05-17T14:08:53.042911Z",
     "iopub.status.busy": "2024-05-17T14:08:53.042410Z",
     "iopub.status.idle": "2024-05-17T14:08:53.047255Z",
     "shell.execute_reply": "2024-05-17T14:08:53.046847Z"
    },
    "lines_to_next_cell": 1,
    "papermill": {
     "duration": 0.022432,
     "end_time": "2024-05-17T14:08:53.048325",
     "exception": false,
     "start_time": "2024-05-17T14:08:53.025893",
     "status": "completed"
    },
    "tags": []
   },
   "outputs": [],
   "source": [
    "def stocks1Memo(prices: list[int]) -> int:\n",
    "    @functools.cache\n",
    "    def backtrack(i: int, inventory: int) -> int:\n",
    "        if i == N:\n",
    "            return 0\n",
    "        elif inventory == -1:\n",
    "            return max(backtrack(i + 1, i), backtrack(i + 1, -1))\n",
    "        else:\n",
    "            return max(prices[i] - prices[inventory] + backtrack(i + 1, -1), backtrack(i + 1, inventory))\n",
    "\n",
    "    N = len(prices)\n",
    "    return backtrack(0, -1)\n",
    "\n",
    "# Testing the solution\n",
    "assert stocks1Memo([7,1,5,3,6,4]) == 7\n",
    "assert stocks1Memo([1,2,3,4,5]) == 4\n",
    "assert stocks1Memo([7,6,4,3,1]) == 0"
   ]
  },
  {
   "cell_type": "code",
   "execution_count": 85,
   "id": "b24f5c40",
   "metadata": {
    "execution": {
     "iopub.execute_input": "2024-05-17T14:08:53.081969Z",
     "iopub.status.busy": "2024-05-17T14:08:53.081541Z",
     "iopub.status.idle": "2024-05-17T14:08:53.086551Z",
     "shell.execute_reply": "2024-05-17T14:08:53.086111Z"
    },
    "lines_to_next_cell": 1,
    "papermill": {
     "duration": 0.022874,
     "end_time": "2024-05-17T14:08:53.087595",
     "exception": false,
     "start_time": "2024-05-17T14:08:53.064721",
     "status": "completed"
    },
    "tags": []
   },
   "outputs": [],
   "source": [
    "# Striver's approach\n",
    "def stocks1StriverMemo(prices: list[int]) -> int:\n",
    "    @functools.cache\n",
    "    def backtrack(i: int, inventory: bool) -> int:\n",
    "        if i == N:\n",
    "            return 0\n",
    "        elif not inventory: # No stock previously purchased: buy or not buy\n",
    "            return max(-prices[i] + backtrack(i + 1, True), backtrack(i + 1, False))\n",
    "        else: # Stock already exists: sell or hold stock\n",
    "            return max(prices[i] + backtrack(i + 1, False), backtrack(i + 1, True))\n",
    "\n",
    "    N = len(prices)\n",
    "    return backtrack(0, False)\n",
    "\n",
    "# Testing the solution\n",
    "assert stocks1StriverMemo([7,1,5,3,6,4]) == 7\n",
    "assert stocks1StriverMemo([1,2,3,4,5]) == 4\n",
    "assert stocks1StriverMemo([7,6,4,3,1]) == 0"
   ]
  },
  {
   "cell_type": "code",
   "execution_count": 86,
   "id": "6e752e9f",
   "metadata": {
    "execution": {
     "iopub.execute_input": "2024-05-17T14:08:53.120076Z",
     "iopub.status.busy": "2024-05-17T14:08:53.119855Z",
     "iopub.status.idle": "2024-05-17T14:08:53.125432Z",
     "shell.execute_reply": "2024-05-17T14:08:53.124953Z"
    },
    "lines_to_next_cell": 1,
    "papermill": {
     "duration": 0.023024,
     "end_time": "2024-05-17T14:08:53.126470",
     "exception": false,
     "start_time": "2024-05-17T14:08:53.103446",
     "status": "completed"
    },
    "tags": []
   },
   "outputs": [],
   "source": [
    "def stocks1Tab(prices: list[int]) -> int:\n",
    "    N = len(prices)\n",
    "    dp: list[list[int]] = [[0 for j in range(2)] for i in range(N + 1)]\n",
    "    for i in range(N - 1, -1, -1):\n",
    "        for j in range(1, -1, -1):\n",
    "            if j == 0:\n",
    "                dp[i][j] = max(-prices[i] + dp[i + 1][1], dp[i + 1][0])\n",
    "            else:\n",
    "                dp[i][j] = max(prices[i] + dp[i + 1][0], dp[i + 1][1])\n",
    "\n",
    "    return dp[0][0]\n",
    "\n",
    "# Testing the solution\n",
    "assert stocks1Tab([7,1,5,3,6,4]) == 7\n",
    "assert stocks1Tab([1,2,3,4,5]) == 4\n",
    "assert stocks1Tab([7,6,4,3,1]) == 0"
   ]
  },
  {
   "cell_type": "code",
   "execution_count": 87,
   "id": "32c0e187",
   "metadata": {
    "execution": {
     "iopub.execute_input": "2024-05-17T14:08:53.159231Z",
     "iopub.status.busy": "2024-05-17T14:08:53.158993Z",
     "iopub.status.idle": "2024-05-17T14:08:53.164042Z",
     "shell.execute_reply": "2024-05-17T14:08:53.163590Z"
    },
    "lines_to_next_cell": 1,
    "papermill": {
     "duration": 0.022775,
     "end_time": "2024-05-17T14:08:53.165129",
     "exception": false,
     "start_time": "2024-05-17T14:08:53.142354",
     "status": "completed"
    },
    "tags": []
   },
   "outputs": [],
   "source": [
    "# https://leetcode.com/problems/best-time-to-buy-and-sell-stock-ii/submissions/1259669260\n",
    "def stocks1(prices: list[int]) -> int:\n",
    "    N = len(prices)\n",
    "    dp: list[int] = [0 for j in range(2)]\n",
    "    for i in range(N - 1, -1, -1):\n",
    "        for j in range(1, -1, -1):\n",
    "            if j == 0:\n",
    "                dp[j] = max(-prices[i] + dp[1], dp[0])\n",
    "            else:\n",
    "                dp[j] = max(prices[i] + dp[0], dp[1])\n",
    "\n",
    "    return dp[0]\n",
    "\n",
    "# Testing the solution\n",
    "assert stocks1([7,1,5,3,6,4]) == 7\n",
    "assert stocks1([1,2,3,4,5]) == 4\n",
    "assert stocks1([7,6,4,3,1]) == 0"
   ]
  },
  {
   "cell_type": "markdown",
   "id": "f99546d3",
   "metadata": {
    "papermill": {
     "duration": 0.015703,
     "end_time": "2024-05-17T14:08:53.197125",
     "exception": false,
     "start_time": "2024-05-17T14:08:53.181422",
     "status": "completed"
    },
    "tags": []
   },
   "source": [
    "Video Link: https://youtu.be/-uQGzhYj8BQ?si=-Ps8pCdPtuWjuTQZ\n",
    "Buy and Sell Stocks - III: https://leetcode.com/problems/best-time-to-buy-and-sell-stock-iii/"
   ]
  },
  {
   "cell_type": "code",
   "execution_count": 88,
   "id": "8939c406",
   "metadata": {
    "execution": {
     "iopub.execute_input": "2024-05-17T14:08:53.229458Z",
     "iopub.status.busy": "2024-05-17T14:08:53.229210Z",
     "iopub.status.idle": "2024-05-17T14:08:53.234548Z",
     "shell.execute_reply": "2024-05-17T14:08:53.234097Z"
    },
    "lines_to_next_cell": 1,
    "papermill": {
     "duration": 0.022822,
     "end_time": "2024-05-17T14:08:53.235532",
     "exception": false,
     "start_time": "2024-05-17T14:08:53.212710",
     "status": "completed"
    },
    "tags": []
   },
   "outputs": [],
   "source": [
    "def stocks2Memo(prices: list[int]) -> int:\n",
    "    \"\"\"\n",
    "    0 - Start\n",
    "    1 - Buy 1\n",
    "    2 - Sell 1\n",
    "    3 - Buy 2\n",
    "    4 - Sell 2\n",
    "    \"\"\"\n",
    "    @functools.cache\n",
    "    def backtrack(i: int, j: int) -> int:\n",
    "        if i == N or j == 4:\n",
    "            return 0\n",
    "        elif j % 2 == 0: # Not holding any stock: buy / not buy\n",
    "            return max(-prices[i] + backtrack(i + 1, j + 1), backtrack(i + 1, j))\n",
    "        else:\n",
    "            return max(prices[i] + backtrack(i + 1, j + 1), backtrack(i + 1, j))\n",
    "\n",
    "    N = len(prices)\n",
    "    return backtrack(0, 0)\n",
    "\n",
    "# Testing the solution\n",
    "assert stocks2Memo([3,3,5,0,0,3,1,4]) == 6\n",
    "assert stocks2Memo([1,2,3,4,5]) == 4\n",
    "assert stocks2Memo([7,6,4,3,1]) == 0"
   ]
  },
  {
   "cell_type": "code",
   "execution_count": 89,
   "id": "4f33510b",
   "metadata": {
    "execution": {
     "iopub.execute_input": "2024-05-17T14:08:53.268302Z",
     "iopub.status.busy": "2024-05-17T14:08:53.267878Z",
     "iopub.status.idle": "2024-05-17T14:08:53.274648Z",
     "shell.execute_reply": "2024-05-17T14:08:53.274125Z"
    },
    "lines_to_next_cell": 1,
    "papermill": {
     "duration": 0.024328,
     "end_time": "2024-05-17T14:08:53.275726",
     "exception": false,
     "start_time": "2024-05-17T14:08:53.251398",
     "status": "completed"
    },
    "tags": []
   },
   "outputs": [],
   "source": [
    "def stocks2Tab(prices: list[int]) -> int:\n",
    "    N = len(prices)\n",
    "    dp: list[list[int]] = [[0 for j in range(5)] for i in range(N + 1)]\n",
    "    for i in range(N - 1, -1, -1):\n",
    "        for j in range(3, -1, -1):\n",
    "            if j % 2 == 0: # Not holding any stock: buy / not buy\n",
    "                dp[i][j] = max(-prices[i] + dp[i + 1][j + 1], dp[i + 1][j])\n",
    "            else:\n",
    "                dp[i][j] = max(prices[i] + dp[i + 1][j + 1], dp[i + 1][j])\n",
    "\n",
    "    return dp[0][0]\n",
    "\n",
    "# Testing the solution\n",
    "assert stocks2Tab([3,3,5,0,0,3,1,4]) == 6\n",
    "assert stocks2Tab([1,2,3,4,5]) == 4\n",
    "assert stocks2Tab([7,6,4,3,1]) == 0"
   ]
  },
  {
   "cell_type": "code",
   "execution_count": 90,
   "id": "2d27ea1d",
   "metadata": {
    "execution": {
     "iopub.execute_input": "2024-05-17T14:08:53.309392Z",
     "iopub.status.busy": "2024-05-17T14:08:53.308898Z",
     "iopub.status.idle": "2024-05-17T14:08:53.313957Z",
     "shell.execute_reply": "2024-05-17T14:08:53.313446Z"
    },
    "lines_to_next_cell": 1,
    "papermill": {
     "duration": 0.022912,
     "end_time": "2024-05-17T14:08:53.314941",
     "exception": false,
     "start_time": "2024-05-17T14:08:53.292029",
     "status": "completed"
    },
    "tags": []
   },
   "outputs": [],
   "source": [
    "# https://leetcode.com/problems/best-time-to-buy-and-sell-stock-iii/submissions/1259699363\n",
    "def stocks2(prices: list[int]) -> int:\n",
    "    N = len(prices)\n",
    "    dp: list[int] = [0 for j in range(5)]\n",
    "    for i in range(N - 1, -1, -1):\n",
    "        for j in range(3, -1, -1):\n",
    "            if j % 2 == 0: # Not holding any stock: buy / not buy\n",
    "                dp[j] = max(-prices[i] + dp[j + 1], dp[j])\n",
    "            else:\n",
    "                dp[j] = max(prices[i] + dp[j + 1], dp[j])\n",
    "\n",
    "    return dp[0]\n",
    "\n",
    "# Testing the solution\n",
    "assert stocks2([3,3,5,0,0,3,1,4]) == 6\n",
    "assert stocks2([1,2,3,4,5]) == 4\n",
    "assert stocks2([7,6,4,3,1]) == 0"
   ]
  },
  {
   "cell_type": "markdown",
   "id": "3105a916",
   "metadata": {
    "papermill": {
     "duration": 0.020358,
     "end_time": "2024-05-17T14:08:53.351073",
     "exception": false,
     "start_time": "2024-05-17T14:08:53.330715",
     "status": "completed"
    },
    "tags": []
   },
   "source": [
    "Best time to buy and sell stocks - IV\n",
    "Video Link: https://youtu.be/IV1dHbk5CDc?si=zvqGmxYAZN10-UGg"
   ]
  },
  {
   "cell_type": "code",
   "execution_count": 91,
   "id": "9619fbbe",
   "metadata": {
    "execution": {
     "iopub.execute_input": "2024-05-17T14:08:53.397605Z",
     "iopub.status.busy": "2024-05-17T14:08:53.397114Z",
     "iopub.status.idle": "2024-05-17T14:08:53.402053Z",
     "shell.execute_reply": "2024-05-17T14:08:53.401568Z"
    },
    "lines_to_next_cell": 1,
    "papermill": {
     "duration": 0.022632,
     "end_time": "2024-05-17T14:08:53.403140",
     "exception": false,
     "start_time": "2024-05-17T14:08:53.380508",
     "status": "completed"
    },
    "tags": []
   },
   "outputs": [],
   "source": [
    "# Minor update on the previous problem\n",
    "def stocks3(k: int, prices: list[int]) -> int:\n",
    "    N = len(prices)\n",
    "    max_transaction = 2 * k\n",
    "    dp: list[int] = [0 for j in range(max_transaction + 1)]\n",
    "    for i in range(N - 1, -1, -1):\n",
    "        for j in range(max_transaction - 1, -1, -1):\n",
    "            if j % 2 == 0: # Not holding any stock: buy / not buy\n",
    "                dp[j] = max(-prices[i] + dp[j + 1], dp[j])\n",
    "            else:\n",
    "                dp[j] = max(prices[i] + dp[j + 1], dp[j])\n",
    "\n",
    "    return dp[0]\n",
    "\n",
    "# Testing the solution\n",
    "assert stocks3(2, [2,4,1]) == 2\n",
    "assert stocks3(2, [3,2,6,5,0,3]) == 7"
   ]
  },
  {
   "cell_type": "code",
   "execution_count": 92,
   "id": "317bdab8",
   "metadata": {
    "execution": {
     "iopub.execute_input": "2024-05-17T14:08:53.436595Z",
     "iopub.status.busy": "2024-05-17T14:08:53.436161Z",
     "iopub.status.idle": "2024-05-17T14:08:53.441143Z",
     "shell.execute_reply": "2024-05-17T14:08:53.440593Z"
    },
    "lines_to_next_cell": 1,
    "papermill": {
     "duration": 0.02297,
     "end_time": "2024-05-17T14:08:53.442189",
     "exception": false,
     "start_time": "2024-05-17T14:08:53.419219",
     "status": "completed"
    },
    "tags": []
   },
   "outputs": [],
   "source": [
    "# Let's try striver's approach of using a 3D array\n",
    "def stocks3StriverMemo(k: int, prices: list[int]) -> int:\n",
    "    @functools.cache\n",
    "    def backtrack(i: int, inventory: bool, count: int) -> int:\n",
    "        if i == N or count == k:\n",
    "            return 0\n",
    "        elif not inventory: # Not holding any stock\n",
    "            return max(-prices[i] + backtrack(i + 1, True, count), backtrack(i + 1, False, count))\n",
    "        else:\n",
    "            return max(prices[i] + backtrack(i + 1, False, count + 1), backtrack(i + 1, True, count))\n",
    "\n",
    "    N = len(prices)\n",
    "    return backtrack(0, 0, 0)\n",
    "\n",
    "# Testing the solution\n",
    "assert stocks3StriverMemo(2, [2,4,1]) == 2\n",
    "assert stocks3StriverMemo(2, [3,2,6,5,0,3]) == 7"
   ]
  },
  {
   "cell_type": "code",
   "execution_count": 93,
   "id": "a04d3d04",
   "metadata": {
    "execution": {
     "iopub.execute_input": "2024-05-17T14:08:53.475286Z",
     "iopub.status.busy": "2024-05-17T14:08:53.474907Z",
     "iopub.status.idle": "2024-05-17T14:08:53.480661Z",
     "shell.execute_reply": "2024-05-17T14:08:53.480185Z"
    },
    "lines_to_next_cell": 1,
    "papermill": {
     "duration": 0.02351,
     "end_time": "2024-05-17T14:08:53.481788",
     "exception": false,
     "start_time": "2024-05-17T14:08:53.458278",
     "status": "completed"
    },
    "tags": []
   },
   "outputs": [],
   "source": [
    "def stocks3StriverTab(K: int, prices: list[int]) -> int:\n",
    "    N = len(prices)\n",
    "    dp: list[list[list[int]]] = [[[0 for count in range(K + 1)] for j in range(2)] for i in range(N + 1)]\n",
    "    for i in range(N - 1, -1, -1):\n",
    "        for j in range(1, -1, -1):\n",
    "            for count in range(K - 1, -1, -1):\n",
    "                if j == 0:\n",
    "                    dp[i][j][count] = max(-prices[i] + dp[i + 1][1][count], dp[i + 1][0][count])\n",
    "                else:\n",
    "                    dp[i][j][count] = max(prices[i] + dp[i + 1][0][count + 1], dp[i + 1][1][count])\n",
    "\n",
    "    return dp[0][0][0]\n",
    "\n",
    "# Testing the solution\n",
    "assert stocks3StriverTab(2, [2,4,1]) == 2\n",
    "assert stocks3StriverTab(2, [3,2,6,5,0,3]) == 7"
   ]
  },
  {
   "cell_type": "code",
   "execution_count": 94,
   "id": "f4b496e3",
   "metadata": {
    "execution": {
     "iopub.execute_input": "2024-05-17T14:08:53.514600Z",
     "iopub.status.busy": "2024-05-17T14:08:53.514145Z",
     "iopub.status.idle": "2024-05-17T14:08:53.519528Z",
     "shell.execute_reply": "2024-05-17T14:08:53.519093Z"
    },
    "lines_to_next_cell": 1,
    "papermill": {
     "duration": 0.022874,
     "end_time": "2024-05-17T14:08:53.520585",
     "exception": false,
     "start_time": "2024-05-17T14:08:53.497711",
     "status": "completed"
    },
    "tags": []
   },
   "outputs": [],
   "source": [
    "def stocks3Striver(K: int, prices: list[int]) -> int:\n",
    "    N = len(prices)\n",
    "    dp: list[list[int]] = [[0 for count in range(K + 1)] for j in range(2)]\n",
    "    for i in range(N - 1, -1, -1):\n",
    "        for j in range(1, -1, -1):\n",
    "            for count in range(K - 1, -1, -1):\n",
    "                if j == 0:\n",
    "                    dp[j][count] = max(-prices[i] + dp[1][count], dp[0][count])\n",
    "                else:\n",
    "                    dp[j][count] = max(prices[i] + dp[0][count + 1], dp[1][count])\n",
    "\n",
    "    return dp[0][0]\n",
    "\n",
    "# Testing the solution\n",
    "assert stocks3Striver(2, [2,4,1]) == 2\n",
    "assert stocks3Striver(2, [3,2,6,5,0,3]) == 7"
   ]
  },
  {
   "cell_type": "markdown",
   "id": "6d856ff6",
   "metadata": {
    "papermill": {
     "duration": 0.016223,
     "end_time": "2024-05-17T14:08:53.553230",
     "exception": false,
     "start_time": "2024-05-17T14:08:53.537007",
     "status": "completed"
    },
    "tags": []
   },
   "source": [
    "Video link: https://youtu.be/IGIe46xw3YY?si=B0IUJM2GtIGVlq7D\n",
    "Best time to buy and sell stock with cooldown"
   ]
  },
  {
   "cell_type": "code",
   "execution_count": 95,
   "id": "d8063cf8",
   "metadata": {
    "execution": {
     "iopub.execute_input": "2024-05-17T14:08:53.585880Z",
     "iopub.status.busy": "2024-05-17T14:08:53.585672Z",
     "iopub.status.idle": "2024-05-17T14:08:53.590985Z",
     "shell.execute_reply": "2024-05-17T14:08:53.590569Z"
    },
    "lines_to_next_cell": 1,
    "papermill": {
     "duration": 0.022915,
     "end_time": "2024-05-17T14:08:53.592006",
     "exception": false,
     "start_time": "2024-05-17T14:08:53.569091",
     "status": "completed"
    },
    "tags": []
   },
   "outputs": [],
   "source": [
    "# Copy pasting code from stocks II, when selling do a i + 2 instead of i + 1\n",
    "def stocksWithCooldownTab(prices: list[int]) -> int:\n",
    "    N = len(prices)\n",
    "    dp: list[list[int]] = [[0 for j in range(2)] for i in range(N + 2)]\n",
    "    for i in range(N - 1, -1, -1):\n",
    "        for j in range(1, -1, -1):\n",
    "            if j == 0:\n",
    "                dp[i][j] = max(-prices[i] + dp[i + 1][1], dp[i + 1][0])\n",
    "            else:\n",
    "                dp[i][j] = max(prices[i] + dp[i + 2][0], dp[i + 1][1])\n",
    "\n",
    "    return dp[0][0]\n",
    "\n",
    "# Testing the solution\n",
    "assert stocksWithCooldownTab([1,2,3,0,2]) == 3\n",
    "assert stocksWithCooldownTab([1,2,2,3,1,2,3,3,1,2,3,4,1,2,3,1,2,3,2,2,3,4,1,23,2,23]) == 31"
   ]
  },
  {
   "cell_type": "code",
   "execution_count": 96,
   "id": "0f414ee0",
   "metadata": {
    "execution": {
     "iopub.execute_input": "2024-05-17T14:08:53.625636Z",
     "iopub.status.busy": "2024-05-17T14:08:53.625288Z",
     "iopub.status.idle": "2024-05-17T14:08:53.630682Z",
     "shell.execute_reply": "2024-05-17T14:08:53.630237Z"
    },
    "lines_to_next_cell": 1,
    "papermill": {
     "duration": 0.023561,
     "end_time": "2024-05-17T14:08:53.631712",
     "exception": false,
     "start_time": "2024-05-17T14:08:53.608151",
     "status": "completed"
    },
    "tags": []
   },
   "outputs": [],
   "source": [
    "def stocksWithCooldown(prices: list[int]) -> int:\n",
    "    N = len(prices)\n",
    "    dp: list[int] = [0 for j in range(2)]\n",
    "    next_dp: list[int] = [0 for j in range(2)]\n",
    "    for i in range(N - 1, -1, -1):\n",
    "        temp = list(dp)\n",
    "        for j in range(1, -1, -1):\n",
    "            if j == 0:\n",
    "                dp[j] = max(-prices[i] + dp[1], dp[0])\n",
    "            else:\n",
    "                dp[j] = max(prices[i] + next_dp[0], dp[1])\n",
    "        next_dp = temp\n",
    "\n",
    "    return dp[0]\n",
    "\n",
    "# Testing the solution\n",
    "assert stocksWithCooldown([1,2,3,0,2]) == 3\n",
    "assert stocksWithCooldown([1,2,2,3,1,2,3,3,1,2,3,4,1,2,3,1,2,3,2,2,3,4,1,23,2,23]) == 31"
   ]
  },
  {
   "cell_type": "markdown",
   "id": "ba9b90d0",
   "metadata": {
    "papermill": {
     "duration": 0.016263,
     "end_time": "2024-05-17T14:08:53.664333",
     "exception": false,
     "start_time": "2024-05-17T14:08:53.648070",
     "status": "completed"
    },
    "tags": []
   },
   "source": [
    "Video link: https://youtu.be/k4eK-vEmnKg?si=-J8puY5S-kGzz_uT\n",
    "Buy and sell stocks with transaction fee"
   ]
  },
  {
   "cell_type": "code",
   "execution_count": 97,
   "id": "31f18961",
   "metadata": {
    "execution": {
     "iopub.execute_input": "2024-05-17T14:08:53.697129Z",
     "iopub.status.busy": "2024-05-17T14:08:53.696619Z",
     "iopub.status.idle": "2024-05-17T14:08:53.701466Z",
     "shell.execute_reply": "2024-05-17T14:08:53.700927Z"
    },
    "lines_to_next_cell": 1,
    "papermill": {
     "duration": 0.022409,
     "end_time": "2024-05-17T14:08:53.702484",
     "exception": false,
     "start_time": "2024-05-17T14:08:53.680075",
     "status": "completed"
    },
    "tags": []
   },
   "outputs": [],
   "source": [
    "def stocksWithTranFeeMemo(prices: list[int], fee: int) -> int:\n",
    "    @functools.cache\n",
    "    def backtrack(i: int, inventory: bool) -> int:\n",
    "        if i == N:\n",
    "            return 0\n",
    "        elif not inventory:\n",
    "            return max(-prices[i] + backtrack(i + 1, True), backtrack(i + 1, False))\n",
    "        else:\n",
    "            return max(prices[i] + backtrack(i + 1, False) - fee, backtrack(i + 1, True))\n",
    "\n",
    "    N = len(prices)\n",
    "    return backtrack(0, False)\n",
    "\n",
    "# Testing the solution\n",
    "assert stocksWithTranFeeMemo([1,3,2,8,4,9], 2) == 8\n",
    "assert stocksWithTranFeeMemo([1,3,7,5,10,3], 3) == 6"
   ]
  },
  {
   "cell_type": "code",
   "execution_count": 98,
   "id": "ebfef8d3",
   "metadata": {
    "execution": {
     "iopub.execute_input": "2024-05-17T14:08:53.736154Z",
     "iopub.status.busy": "2024-05-17T14:08:53.735847Z",
     "iopub.status.idle": "2024-05-17T14:08:53.741110Z",
     "shell.execute_reply": "2024-05-17T14:08:53.740576Z"
    },
    "lines_to_next_cell": 1,
    "papermill": {
     "duration": 0.023714,
     "end_time": "2024-05-17T14:08:53.742244",
     "exception": false,
     "start_time": "2024-05-17T14:08:53.718530",
     "status": "completed"
    },
    "tags": []
   },
   "outputs": [],
   "source": [
    "def stocksWithTranFeeTab(prices: list[int], fee: int) -> int:\n",
    "    N = len(prices)\n",
    "    dp: list[list[int]] = [[0 for j in range(2)] for i in range(N + 1)]\n",
    "    for i in range(N - 1, -1, -1):\n",
    "        for j in range(2):\n",
    "            if not j:\n",
    "                dp[i][j] = max(-prices[i] + dp[i + 1][1], dp[i + 1][0])\n",
    "            else:\n",
    "                dp[i][j] = max(prices[i] + dp[i + 1][0] - fee, dp[i + 1][1])\n",
    "\n",
    "    return dp[0][0]\n",
    "\n",
    "# Testing the solution\n",
    "assert stocksWithTranFeeTab([1,3,2,8,4,9], 2) == 8\n",
    "assert stocksWithTranFeeTab([1,3,7,5,10,3], 3) == 6"
   ]
  },
  {
   "cell_type": "code",
   "execution_count": 99,
   "id": "4ca839d1",
   "metadata": {
    "execution": {
     "iopub.execute_input": "2024-05-17T14:08:53.775895Z",
     "iopub.status.busy": "2024-05-17T14:08:53.775485Z",
     "iopub.status.idle": "2024-05-17T14:08:53.780500Z",
     "shell.execute_reply": "2024-05-17T14:08:53.779951Z"
    },
    "lines_to_next_cell": 1,
    "papermill": {
     "duration": 0.022995,
     "end_time": "2024-05-17T14:08:53.781640",
     "exception": false,
     "start_time": "2024-05-17T14:08:53.758645",
     "status": "completed"
    },
    "tags": []
   },
   "outputs": [],
   "source": [
    "# https://leetcode.com/problems/best-time-to-buy-and-sell-stock-with-transaction-fee/submissions/1260096941\n",
    "def stocksWithTranFee(prices: list[int], fee: int) -> int:\n",
    "    \"\"\"\n",
    "    Can simplify the inner loop since we are always checking for case where\n",
    "    we are holding stock and not holding stock.\n",
    "    \"\"\"\n",
    "    N = len(prices)\n",
    "    dp: list[int] = [0 for j in range(2)]\n",
    "    for i in range(N - 1, -1, -1):\n",
    "        dp[0] = max(-prices[i] + dp[1], dp[0])\n",
    "        dp[1] = max(prices[i] + dp[0] - fee, dp[1])\n",
    "\n",
    "    return dp[0]\n",
    "\n",
    "# Testing the solution\n",
    "assert stocksWithTranFee([1,3,2,8,4,9], 2) == 8\n",
    "assert stocksWithTranFee([1,3,7,5,3,3], 10) == 0"
   ]
  },
  {
   "cell_type": "markdown",
   "id": "5c9cb929",
   "metadata": {
    "papermill": {
     "duration": 0.016005,
     "end_time": "2024-05-17T14:08:53.813985",
     "exception": false,
     "start_time": "2024-05-17T14:08:53.797980",
     "status": "completed"
    },
    "tags": []
   },
   "source": [
    "Longest increasing subsequence\n",
    "Video link: https://youtu.be/ekcwMsSIzVc?si=53GtUk_ZTJC3oDDc"
   ]
  },
  {
   "cell_type": "code",
   "execution_count": 100,
   "id": "1a46c49e",
   "metadata": {
    "execution": {
     "iopub.execute_input": "2024-05-17T14:08:53.847123Z",
     "iopub.status.busy": "2024-05-17T14:08:53.846646Z",
     "iopub.status.idle": "2024-05-17T14:08:53.851917Z",
     "shell.execute_reply": "2024-05-17T14:08:53.851401Z"
    },
    "lines_to_next_cell": 1,
    "papermill": {
     "duration": 0.022809,
     "end_time": "2024-05-17T14:08:53.853002",
     "exception": false,
     "start_time": "2024-05-17T14:08:53.830193",
     "status": "completed"
    },
    "tags": []
   },
   "outputs": [],
   "source": [
    "def lengthOfLISMemo(nums: list[int]) -> int:\n",
    "    \"\"\"\n",
    "    In striver's video, instead of stroing the max_, he stores the index of the latest max.\n",
    "    This way subsequent tabulations would be much simpler.\n",
    "    \"\"\"\n",
    "    @functools.cache\n",
    "    def backtrack(i: int, max_: int) -> int:\n",
    "        if i == N:\n",
    "            return 0\n",
    "        elif nums[i] > max_:\n",
    "            return max(1 + backtrack(i + 1, nums[i]), backtrack(i + 1, max_))\n",
    "        else:\n",
    "            return backtrack(i + 1, max_)\n",
    "\n",
    "    N, min_ = len(nums), min(nums)\n",
    "    return backtrack(0, min_ - 1)\n",
    "\n",
    "# Testing the solution\n",
    "assert lengthOfLISMemo([10,9,2,5,3,7,101,18]) == 4\n",
    "assert lengthOfLISMemo([0,1,0,3,2,3]) == 4\n",
    "assert lengthOfLISMemo([1,1,1,1,1]) == 1"
   ]
  },
  {
   "cell_type": "code",
   "execution_count": 101,
   "id": "cd333f6f",
   "metadata": {
    "execution": {
     "iopub.execute_input": "2024-05-17T14:08:53.885735Z",
     "iopub.status.busy": "2024-05-17T14:08:53.885377Z",
     "iopub.status.idle": "2024-05-17T14:08:53.890610Z",
     "shell.execute_reply": "2024-05-17T14:08:53.890145Z"
    },
    "lines_to_next_cell": 1,
    "papermill": {
     "duration": 0.022779,
     "end_time": "2024-05-17T14:08:53.891645",
     "exception": false,
     "start_time": "2024-05-17T14:08:53.868866",
     "status": "completed"
    },
    "tags": []
   },
   "outputs": [],
   "source": [
    "def lengthOfLISTab(nums: list[int]) -> int:\n",
    "    N = len(nums)\n",
    "    dp: list[list[int]] = [[0 for j in range(N + 2)] for i in range(N + 1)]\n",
    "    for i in range(N - 1, -1, -1):\n",
    "        for j in range(N - 1, -1, -1):\n",
    "            # if j == 0, max_ => min_ - 1, j is right shifted by 1 index to accomodated min_ - 1\n",
    "            if j == 0 or nums[i] > nums[j - 1]:\n",
    "                dp[i][j] = max(1 + dp[i + 1][i + 1], dp[i + 1][j])\n",
    "            else:\n",
    "                dp[i][j] = dp[i + 1][j]\n",
    "\n",
    "    return dp[0][0]\n",
    "\n",
    "# Testing the solution\n",
    "assert lengthOfLISTab([0,1,0,3,2,3]) == 4\n",
    "assert lengthOfLISTab([1,1,1,1,1]) == 1"
   ]
  },
  {
   "cell_type": "code",
   "execution_count": 102,
   "id": "27be61f6",
   "metadata": {
    "execution": {
     "iopub.execute_input": "2024-05-17T14:08:53.923913Z",
     "iopub.status.busy": "2024-05-17T14:08:53.923455Z",
     "iopub.status.idle": "2024-05-17T14:08:53.927783Z",
     "shell.execute_reply": "2024-05-17T14:08:53.927353Z"
    },
    "lines_to_next_cell": 1,
    "papermill": {
     "duration": 0.021421,
     "end_time": "2024-05-17T14:08:53.928812",
     "exception": false,
     "start_time": "2024-05-17T14:08:53.907391",
     "status": "completed"
    },
    "tags": []
   },
   "outputs": [],
   "source": [
    "def lengthOfLIS(nums: list[int]) -> int:\n",
    "    \"Slight improvement, at any point - j (inner loop) cannot be greater than i itself\"\n",
    "    N = len(nums)\n",
    "    dp: list[int] = [0 for j in range(N + 2)]\n",
    "    for i in range(N - 1, -1, -1):\n",
    "        for j in range(i, -1, -1):\n",
    "            if j == 0 or nums[i] > nums[j - 1]:\n",
    "                dp[j] = max(1 + dp[i + 1], dp[j])\n",
    "\n",
    "    return dp[0]\n",
    "\n",
    "# Testing the solution\n",
    "assert lengthOfLIS([0,1,0,3,2,3]) == 4\n",
    "assert lengthOfLIS([1,1,1,1,1]) == 1"
   ]
  },
  {
   "cell_type": "code",
   "execution_count": 103,
   "id": "1c08a876",
   "metadata": {
    "execution": {
     "iopub.execute_input": "2024-05-17T14:08:53.961587Z",
     "iopub.status.busy": "2024-05-17T14:08:53.961132Z",
     "iopub.status.idle": "2024-05-17T14:08:53.963852Z",
     "shell.execute_reply": "2024-05-17T14:08:53.963346Z"
    },
    "papermill": {
     "duration": 0.0203,
     "end_time": "2024-05-17T14:08:53.964956",
     "exception": false,
     "start_time": "2024-05-17T14:08:53.944656",
     "status": "completed"
    },
    "tags": []
   },
   "outputs": [],
   "source": [
    "# LIS Tabulation: https://youtu.be/IFfYfonAFGc?si=XTbp31f-RLY2EsvQ"
   ]
  },
  {
   "cell_type": "code",
   "execution_count": 104,
   "id": "9532e810",
   "metadata": {
    "execution": {
     "iopub.execute_input": "2024-05-17T14:08:53.997568Z",
     "iopub.status.busy": "2024-05-17T14:08:53.997197Z",
     "iopub.status.idle": "2024-05-17T14:08:54.003582Z",
     "shell.execute_reply": "2024-05-17T14:08:54.003139Z"
    },
    "lines_to_next_cell": 1,
    "papermill": {
     "duration": 0.023674,
     "end_time": "2024-05-17T14:08:54.004589",
     "exception": false,
     "start_time": "2024-05-17T14:08:53.980915",
     "status": "completed"
    },
    "tags": []
   },
   "outputs": [
    {
     "name": "stdout",
     "output_type": "stream",
     "text": [
      "[1, 2, 3, 3]\n",
      "[1]\n"
     ]
    }
   ],
   "source": [
    "def lengthOfLISBetter(nums: list[int]) -> int:\n",
    "    \"\"\"\n",
    "    Time: O(N ** 2), Space: O(N)\n",
    "    This solution would be required if we were to trace back the LIS.\n",
    "    \"\"\"\n",
    "    N = len(nums)\n",
    "    lengths: list[int] = [1 for i in range(N)]\n",
    "    prevs: list[int] = [i for i in range(N)]\n",
    "    for i in range(N):\n",
    "        for j in range(i):\n",
    "            if nums[j] < nums[i] and lengths[i] < 1 + lengths[j]:\n",
    "                lengths[i] = 1 + lengths[j]\n",
    "                prevs[i] = j\n",
    "\n",
    "    # Prev Index, Length\n",
    "    max_: tuple[int, int] = (0, 1)\n",
    "    for i in range(N):\n",
    "        if max_[1] < lengths[i]:\n",
    "            max_ = i, lengths[i]\n",
    "\n",
    "    # Backtrack and print the LIS\n",
    "    i = max_[0]\n",
    "    LIS: list[int] = [nums[i]]\n",
    "    while i != prevs[i]:\n",
    "        LIS.append(nums[i])\n",
    "        i = prevs[i]\n",
    "\n",
    "    # Reverse the LIS and print it\n",
    "    LIS.reverse()\n",
    "    print(LIS)\n",
    "\n",
    "    return max_[1]\n",
    "\n",
    "# Testing the solution\n",
    "assert lengthOfLISBetter([0,1,0,3,2,3]) == 4\n",
    "assert lengthOfLISBetter([1,1,1,1,1]) == 1"
   ]
  },
  {
   "cell_type": "markdown",
   "id": "c89b7972",
   "metadata": {
    "papermill": {
     "duration": 0.015689,
     "end_time": "2024-05-17T14:08:54.036074",
     "exception": false,
     "start_time": "2024-05-17T14:08:54.020385",
     "status": "completed"
    },
    "tags": []
   },
   "source": [
    "LIS with Binary Search: https://youtu.be/on2hvxBXJH4?si=XLlRu7uTag9KM_Mr\n",
    "Intuition:\n",
    "```\n",
    "Say we have an array like:\n",
    "0, 1, 0, 3, 2, 3\n",
    "\n",
    "Step 1: [0]\n",
    "Step 2: [0, 1]\n",
    "Step 3: [0, 1], [0]\n",
    "Step 4: [0, 1, 3], [0, 3]\n",
    "Step 5: [0, 1, 3], [0, 3], [0, 1, 2], [0, 2]\n",
    "Step 6: [0, 1, 3], [0, 3], [0, 1, 2, 3], [0, 2, 3]\n",
    "\n",
    "Basically at each step we are inserting into the right position and creating a new array if we cannot insert into existing arrays. This consumes a lot of time and memory.\n",
    "We could instead simply save the correct insert position to find the max LIS length which is the trick to finding the N log N solution\n",
    "\n",
    "Step 1: [0]\n",
    "Step 2: [0, 1]\n",
    "Step 3: [0, 1]\n",
    "Step 4: [0, 1, 3]\n",
    "Step 5: [0, 1, 2] (replace 2 at the position where it would get inserted into)\n",
    "Step 6: [0, 1, 2, 3]\n",
    "\n",
    "Do note that this array is not the subsequence. We merely use it to compute the length of LIS.\n",
    "```"
   ]
  },
  {
   "cell_type": "code",
   "execution_count": 105,
   "id": "17062257",
   "metadata": {
    "execution": {
     "iopub.execute_input": "2024-05-17T14:08:54.068143Z",
     "iopub.status.busy": "2024-05-17T14:08:54.067933Z",
     "iopub.status.idle": "2024-05-17T14:08:54.072674Z",
     "shell.execute_reply": "2024-05-17T14:08:54.072270Z"
    },
    "papermill": {
     "duration": 0.022077,
     "end_time": "2024-05-17T14:08:54.073772",
     "exception": false,
     "start_time": "2024-05-17T14:08:54.051695",
     "status": "completed"
    },
    "tags": []
   },
   "outputs": [],
   "source": [
    "# https://leetcode.com/problems/longest-increasing-subsequence/submissions/1260560726\n",
    "def lengthOfLISOptimal(nums: list[int]) -> int:\n",
    "    def LB(arr: list[int], target: int) -> int:\n",
    "        \"\"\"\n",
    "        Given n, returns the insertion position of N\n",
    "        \"\"\"\n",
    "        N = len(arr)\n",
    "        low, high = 0, N - 1\n",
    "        while low <= high:\n",
    "            mid = (low + high) // 2\n",
    "            if arr[mid] < target:\n",
    "                low = mid + 1\n",
    "            else:\n",
    "                high = mid - 1\n",
    "\n",
    "        return low\n",
    "\n",
    "    dp: list[int] = []\n",
    "    for n in nums:\n",
    "        if not dp or dp[-1] < n:\n",
    "            dp.append(n)\n",
    "        else:\n",
    "            idx = LB(dp, n)\n",
    "            dp[idx] = n\n",
    "\n",
    "    return len(dp)\n",
    "\n",
    "# Testing the solution\n",
    "assert lengthOfLISOptimal([0,1,0,3,2,3]) == 4\n",
    "assert lengthOfLISOptimal([1,1,1,1,1]) == 1"
   ]
  }
 ],
 "metadata": {
  "kernelspec": {
   "display_name": "Python 3 (ipykernel)",
   "language": "python",
   "name": "python3"
  },
  "language_info": {
   "codemirror_mode": {
    "name": "ipython",
    "version": 3
   },
   "file_extension": ".py",
   "mimetype": "text/x-python",
   "name": "python",
   "nbconvert_exporter": "python",
   "pygments_lexer": "ipython3",
   "version": "3.11.9"
  },
  "papermill": {
   "default_parameters": {},
   "duration": 6.659531,
   "end_time": "2024-05-17T14:08:54.204647",
   "environment_variables": {},
   "exception": null,
   "input_path": "study/striver-A2Z/13-dp.ipynb",
   "output_path": "study/striver-A2Z/13-dp.ipynb",
   "parameters": {},
   "start_time": "2024-05-17T14:08:47.545116",
   "version": "2.6.0"
  }
 },
 "nbformat": 4,
 "nbformat_minor": 5
}