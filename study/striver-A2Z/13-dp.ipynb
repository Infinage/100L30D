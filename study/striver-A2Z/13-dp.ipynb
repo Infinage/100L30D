{
 "cells": [
  {
   "cell_type": "markdown",
   "id": "b5c4dc26",
   "metadata": {},
   "source": [
    "### Some important imports"
   ]
  },
  {
   "cell_type": "code",
   "execution_count": null,
   "id": "8d5fd813",
   "metadata": {
    "lines_to_next_cell": 1
   },
   "outputs": [],
   "source": [
    "import functools\n",
    "import itertools\n",
    "import collections\n",
    "import math\n",
    "import heapq"
   ]
  },
  {
   "cell_type": "markdown",
   "id": "7f222d72",
   "metadata": {},
   "source": [
    "Introduction to DP: https://youtu.be/tyB0ztf0DNY?si=SgpBwGNqPXzdPSRA\n",
    "1. Tabulation: Bottom up DP: Ans -> Base case -> Ans\n",
    "2. Memoization: Top down DP: Base case -> Ans"
   ]
  },
  {
   "cell_type": "code",
   "execution_count": null,
   "id": "050030aa",
   "metadata": {
    "lines_to_next_cell": 1
   },
   "outputs": [],
   "source": [
    "def fiboBrute(n: int) -> int:\n",
    "    \"\"\"\n",
    "    Vanilla recursion\n",
    "    Time: O(2 ^ N), Space: O(2 ^ N)\n",
    "    \"\"\"\n",
    "    if n <= 1:\n",
    "        return n\n",
    "    else:\n",
    "        return fiboBrute(n - 1) + fiboBrute(n - 2)\n",
    "\n",
    "fiboBrute(10)"
   ]
  },
  {
   "cell_type": "code",
   "execution_count": null,
   "id": "09e8917d",
   "metadata": {
    "lines_to_next_cell": 1
   },
   "outputs": [],
   "source": [
    "def fiboBetter1(n: int) -> int:\n",
    "    \"\"\"\n",
    "    Memoization Approach: Top down approach\n",
    "    Time: O(N), Space: O(N) + O(N)\n",
    "    \"\"\"\n",
    "    dp: list[int] = [-1 for i in range(n + 1)]\n",
    "    def backtrack(curr: int) -> int:\n",
    "        if curr <= 1:\n",
    "            return curr\n",
    "        elif dp[curr] != -1:\n",
    "            return dp[curr]\n",
    "        else:\n",
    "            dp[curr] = backtrack(curr - 1) + backtrack(curr - 2)\n",
    "            return dp[curr]\n",
    "\n",
    "    return backtrack(n)\n",
    "\n",
    "fiboBetter1(10)"
   ]
  },
  {
   "cell_type": "code",
   "execution_count": null,
   "id": "60383af1",
   "metadata": {
    "lines_to_next_cell": 1
   },
   "outputs": [],
   "source": [
    "def fiboBetter2(n: int) -> int:\n",
    "    \"\"\"\n",
    "    Tabulation: Bottom up approach\n",
    "    Time: O(N), Space: O(N)\n",
    "    \"\"\"\n",
    "    dp: list[int] = [-1 if i > 1 else i for i in range(n + 1)]\n",
    "    for i in range(2, n + 1):\n",
    "        dp[i] = dp[i - 1] + dp[i - 2]\n",
    "\n",
    "    return dp[n]\n",
    "\n",
    "fiboBetter2(10)"
   ]
  },
  {
   "cell_type": "code",
   "execution_count": null,
   "id": "d4ce6674",
   "metadata": {
    "lines_to_next_cell": 1
   },
   "outputs": [],
   "source": [
    "def fiboOptimal(n: int) -> int:\n",
    "    \"\"\"\n",
    "    Bottom up approach\n",
    "    Time: O(N), Space: O(1)\n",
    "    \"\"\"\n",
    "    prev2, prev1 = 0, 1\n",
    "    for i in range(2, n + 1):\n",
    "        prev2, prev1 = prev1, prev1 + prev2\n",
    "        n -= 1\n",
    "\n",
    "    return prev1\n",
    "\n",
    "fiboOptimal(10)"
   ]
  },
  {
   "cell_type": "markdown",
   "id": "04743448",
   "metadata": {},
   "source": [
    "Climbing Stairs: https://leetcode.com/problems/climbing-stairs/\n",
    "Video Link: https://youtu.be/mLfjzJsN8us?si=C7W-jiYvql0mEnbh"
   ]
  },
  {
   "cell_type": "code",
   "execution_count": null,
   "id": "3f12c899",
   "metadata": {
    "lines_to_next_cell": 1
   },
   "outputs": [],
   "source": [
    "def climbStairsBetter(n: int) -> int:\n",
    "    \"\"\"Time: O(N), Space: O(N)\"\"\"\n",
    "\n",
    "    dp: list[int] = [-1 for i in range(n + 1)]\n",
    "    def backtrack(curr: int) -> int:\n",
    "        if curr <= 1:\n",
    "            return 1\n",
    "        elif dp[curr] != -1:\n",
    "            return dp[curr]\n",
    "        else:\n",
    "            dp[curr] = backtrack(curr - 1) + backtrack(curr - 2)\n",
    "            return dp[curr]\n",
    "\n",
    "    return backtrack(n)\n",
    "\n",
    "assert climbStairsBetter(45) == 1836311903"
   ]
  },
  {
   "cell_type": "code",
   "execution_count": null,
   "id": "2c60812a",
   "metadata": {
    "lines_to_next_cell": 1
   },
   "outputs": [],
   "source": [
    "def climbStairs(n: int) -> int:\n",
    "    \"\"\"Time: O(N), Space: O(1)\"\"\"\n",
    "    prev2, prev1 = 1, 1\n",
    "    while n > 0:\n",
    "        prev2, prev1 = prev1, prev1 + prev2\n",
    "        n -= 1\n",
    "\n",
    "    return prev2\n",
    "\n",
    "assert climbStairs(45) == 1836311903"
   ]
  },
  {
   "cell_type": "markdown",
   "id": "335b0410",
   "metadata": {},
   "source": [
    "Video link: https://youtu.be/EgG3jsGoPvQ?si=Cm5AVvq_zCnr-w6q\n",
    "Frog Jump: 1"
   ]
  },
  {
   "cell_type": "code",
   "execution_count": null,
   "id": "9a8080e9",
   "metadata": {
    "lines_to_next_cell": 1
   },
   "outputs": [],
   "source": [
    "def frogJumpBetter(N: int, heights: list[int]) -> int:\n",
    "    \"\"\"\n",
    "    Time: O(N), Space: O(N) + O(N)\n",
    "    \"\"\"\n",
    "\n",
    "    @functools.cache\n",
    "    def backtrack(curr: int) -> int:\n",
    "        if curr == N - 1:\n",
    "            return 0\n",
    "        elif curr == N - 2:\n",
    "            return abs(heights[N - 1] - heights[N - 2])\n",
    "        else:\n",
    "            jump1 = abs(heights[curr] - heights[curr + 1]) + backtrack(curr + 1)\n",
    "            jump2 = abs(heights[curr] - heights[curr + 2]) + backtrack(curr + 2)\n",
    "            return min(jump1, jump2)\n",
    "\n",
    "    return backtrack(0)\n",
    "\n",
    "# Testing the solution\n",
    "assert frogJumpBetter(4, [10,20,30,10]) == 20\n",
    "assert frogJumpBetter(3, [10,50,10]) == 0"
   ]
  },
  {
   "cell_type": "code",
   "execution_count": null,
   "id": "18e6c47c",
   "metadata": {},
   "outputs": [],
   "source": [
    "def frogJumpOptimal(N: int, heights: list[int]) -> int:\n",
    "    \"Time: O(N), Space: O(1)\"\n",
    "    jump1, jump2 = abs(heights[-2] - heights[-1]), 0\n",
    "    for i in range(N - 3, -1, -1):\n",
    "        curr = min(abs(heights[i] - heights[i + 1]) + jump1, abs(heights[i] - heights[i + 2]) + jump2)\n",
    "        jump1, jump2 = curr, jump1\n",
    "\n",
    "    return jump1\n",
    "\n",
    "assert frogJumpOptimal(4, [10,20,30,10]) == 20\n",
    "assert frogJumpOptimal(3, [10,50,10]) == 0"
   ]
  }
 ],
 "metadata": {
  "kernelspec": {
   "display_name": "Python 3 (ipykernel)",
   "language": "python",
   "name": "python3"
  }
 },
 "nbformat": 4,
 "nbformat_minor": 2
}
