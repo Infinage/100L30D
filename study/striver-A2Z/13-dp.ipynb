{
 "cells": [
  {
   "cell_type": "markdown",
   "id": "807dd9ee",
   "metadata": {
    "papermill": {
     "duration": 0.008623,
     "end_time": "2024-05-10T15:56:40.303633",
     "exception": false,
     "start_time": "2024-05-10T15:56:40.295010",
     "status": "completed"
    },
    "tags": []
   },
   "source": [
    "Important notes\n",
    "- All subset based problems (non contigous subarrays would have the pick/nopick approach)"
   ]
  },
  {
   "cell_type": "markdown",
   "id": "457ab51f",
   "metadata": {
    "papermill": {
     "duration": 0.007251,
     "end_time": "2024-05-10T15:56:40.318395",
     "exception": false,
     "start_time": "2024-05-10T15:56:40.311144",
     "status": "completed"
    },
    "tags": []
   },
   "source": [
    "### Some important imports"
   ]
  },
  {
   "cell_type": "code",
   "execution_count": 1,
   "id": "164d751b",
   "metadata": {
    "execution": {
     "iopub.execute_input": "2024-05-10T15:56:40.333144Z",
     "iopub.status.busy": "2024-05-10T15:56:40.332743Z",
     "iopub.status.idle": "2024-05-10T15:56:40.338372Z",
     "shell.execute_reply": "2024-05-10T15:56:40.337921Z"
    },
    "lines_to_next_cell": 1,
    "papermill": {
     "duration": 0.013923,
     "end_time": "2024-05-10T15:56:40.339469",
     "exception": false,
     "start_time": "2024-05-10T15:56:40.325546",
     "status": "completed"
    },
    "tags": []
   },
   "outputs": [],
   "source": [
    "import functools\n",
    "import itertools\n",
    "import collections\n",
    "import math\n",
    "import heapq"
   ]
  },
  {
   "cell_type": "markdown",
   "id": "48648354",
   "metadata": {
    "papermill": {
     "duration": 0.006469,
     "end_time": "2024-05-10T15:56:40.352471",
     "exception": false,
     "start_time": "2024-05-10T15:56:40.346002",
     "status": "completed"
    },
    "tags": []
   },
   "source": [
    "Introduction to DP: https://youtu.be/tyB0ztf0DNY?si=SgpBwGNqPXzdPSRA\n",
    "1. Tabulation: Bottom up DP: Ans -> Base case -> Ans\n",
    "2. Memoization: Top down DP: Base case -> Ans"
   ]
  },
  {
   "cell_type": "code",
   "execution_count": 2,
   "id": "41c46591",
   "metadata": {
    "execution": {
     "iopub.execute_input": "2024-05-10T15:56:40.366425Z",
     "iopub.status.busy": "2024-05-10T15:56:40.366043Z",
     "iopub.status.idle": "2024-05-10T15:56:40.372248Z",
     "shell.execute_reply": "2024-05-10T15:56:40.371820Z"
    },
    "lines_to_next_cell": 1,
    "papermill": {
     "duration": 0.014365,
     "end_time": "2024-05-10T15:56:40.373305",
     "exception": false,
     "start_time": "2024-05-10T15:56:40.358940",
     "status": "completed"
    },
    "tags": []
   },
   "outputs": [
    {
     "data": {
      "text/plain": [
       "55"
      ]
     },
     "execution_count": 2,
     "metadata": {},
     "output_type": "execute_result"
    }
   ],
   "source": [
    "def fiboBrute(n: int) -> int:\n",
    "    \"\"\"\n",
    "    Vanilla recursion\n",
    "    Time: O(2 ^ N), Space: O(2 ^ N)\n",
    "    \"\"\"\n",
    "    if n <= 1:\n",
    "        return n\n",
    "    else:\n",
    "        return fiboBrute(n - 1) + fiboBrute(n - 2)\n",
    "\n",
    "fiboBrute(10)"
   ]
  },
  {
   "cell_type": "code",
   "execution_count": 3,
   "id": "83ba7cd5",
   "metadata": {
    "execution": {
     "iopub.execute_input": "2024-05-10T15:56:40.387765Z",
     "iopub.status.busy": "2024-05-10T15:56:40.387366Z",
     "iopub.status.idle": "2024-05-10T15:56:40.392556Z",
     "shell.execute_reply": "2024-05-10T15:56:40.392049Z"
    },
    "lines_to_next_cell": 1,
    "papermill": {
     "duration": 0.01369,
     "end_time": "2024-05-10T15:56:40.393642",
     "exception": false,
     "start_time": "2024-05-10T15:56:40.379952",
     "status": "completed"
    },
    "tags": []
   },
   "outputs": [
    {
     "data": {
      "text/plain": [
       "55"
      ]
     },
     "execution_count": 3,
     "metadata": {},
     "output_type": "execute_result"
    }
   ],
   "source": [
    "def fiboBetter1(n: int) -> int:\n",
    "    \"\"\"\n",
    "    Memoization Approach: Top down approach\n",
    "    Time: O(N), Space: O(N) + O(N)\n",
    "    \"\"\"\n",
    "    dp: list[int] = [-1 for i in range(n + 1)]\n",
    "    def backtrack(curr: int) -> int:\n",
    "        if curr <= 1:\n",
    "            return curr\n",
    "        elif dp[curr] != -1:\n",
    "            return dp[curr]\n",
    "        else:\n",
    "            dp[curr] = backtrack(curr - 1) + backtrack(curr - 2)\n",
    "            return dp[curr]\n",
    "\n",
    "    return backtrack(n)\n",
    "\n",
    "fiboBetter1(10)"
   ]
  },
  {
   "cell_type": "code",
   "execution_count": 4,
   "id": "80fded7e",
   "metadata": {
    "execution": {
     "iopub.execute_input": "2024-05-10T15:56:40.407909Z",
     "iopub.status.busy": "2024-05-10T15:56:40.407643Z",
     "iopub.status.idle": "2024-05-10T15:56:40.412270Z",
     "shell.execute_reply": "2024-05-10T15:56:40.411763Z"
    },
    "lines_to_next_cell": 1,
    "papermill": {
     "duration": 0.01299,
     "end_time": "2024-05-10T15:56:40.413364",
     "exception": false,
     "start_time": "2024-05-10T15:56:40.400374",
     "status": "completed"
    },
    "tags": []
   },
   "outputs": [
    {
     "data": {
      "text/plain": [
       "55"
      ]
     },
     "execution_count": 4,
     "metadata": {},
     "output_type": "execute_result"
    }
   ],
   "source": [
    "def fiboBetter2(n: int) -> int:\n",
    "    \"\"\"\n",
    "    Tabulation: Bottom up approach\n",
    "    Time: O(N), Space: O(N)\n",
    "    \"\"\"\n",
    "    dp: list[int] = [-1 if i > 1 else i for i in range(n + 1)]\n",
    "    for i in range(2, n + 1):\n",
    "        dp[i] = dp[i - 1] + dp[i - 2]\n",
    "\n",
    "    return dp[n]\n",
    "\n",
    "fiboBetter2(10)"
   ]
  },
  {
   "cell_type": "code",
   "execution_count": 5,
   "id": "8f7d86e2",
   "metadata": {
    "execution": {
     "iopub.execute_input": "2024-05-10T15:56:40.427957Z",
     "iopub.status.busy": "2024-05-10T15:56:40.427554Z",
     "iopub.status.idle": "2024-05-10T15:56:40.431977Z",
     "shell.execute_reply": "2024-05-10T15:56:40.431553Z"
    },
    "lines_to_next_cell": 1,
    "papermill": {
     "duration": 0.012819,
     "end_time": "2024-05-10T15:56:40.433029",
     "exception": false,
     "start_time": "2024-05-10T15:56:40.420210",
     "status": "completed"
    },
    "tags": []
   },
   "outputs": [
    {
     "data": {
      "text/plain": [
       "55"
      ]
     },
     "execution_count": 5,
     "metadata": {},
     "output_type": "execute_result"
    }
   ],
   "source": [
    "def fiboOptimal(n: int) -> int:\n",
    "    \"\"\"\n",
    "    Bottom up approach\n",
    "    Time: O(N), Space: O(1)\n",
    "    \"\"\"\n",
    "    prev2, prev1 = 0, 1\n",
    "    for i in range(2, n + 1):\n",
    "        prev2, prev1 = prev1, prev1 + prev2\n",
    "        n -= 1\n",
    "\n",
    "    return prev1\n",
    "\n",
    "fiboOptimal(10)"
   ]
  },
  {
   "cell_type": "markdown",
   "id": "855c35fb",
   "metadata": {
    "papermill": {
     "duration": 0.006859,
     "end_time": "2024-05-10T15:56:40.446777",
     "exception": false,
     "start_time": "2024-05-10T15:56:40.439918",
     "status": "completed"
    },
    "tags": []
   },
   "source": [
    "Climbing Stairs: https://leetcode.com/problems/climbing-stairs/\n",
    "Video Link: https://youtu.be/mLfjzJsN8us?si=C7W-jiYvql0mEnbh"
   ]
  },
  {
   "cell_type": "code",
   "execution_count": 6,
   "id": "87993489",
   "metadata": {
    "execution": {
     "iopub.execute_input": "2024-05-10T15:56:40.461158Z",
     "iopub.status.busy": "2024-05-10T15:56:40.460869Z",
     "iopub.status.idle": "2024-05-10T15:56:40.464704Z",
     "shell.execute_reply": "2024-05-10T15:56:40.464270Z"
    },
    "lines_to_next_cell": 1,
    "papermill": {
     "duration": 0.01221,
     "end_time": "2024-05-10T15:56:40.465719",
     "exception": false,
     "start_time": "2024-05-10T15:56:40.453509",
     "status": "completed"
    },
    "tags": []
   },
   "outputs": [],
   "source": [
    "def climbStairsBetter(n: int) -> int:\n",
    "    \"\"\"Time: O(N), Space: O(N)\"\"\"\n",
    "\n",
    "    dp: list[int] = [-1 for i in range(n + 1)]\n",
    "    def backtrack(curr: int) -> int:\n",
    "        if curr <= 1:\n",
    "            return 1\n",
    "        elif dp[curr] != -1:\n",
    "            return dp[curr]\n",
    "        else:\n",
    "            dp[curr] = backtrack(curr - 1) + backtrack(curr - 2)\n",
    "            return dp[curr]\n",
    "\n",
    "    return backtrack(n)\n",
    "\n",
    "assert climbStairsBetter(45) == 1836311903"
   ]
  },
  {
   "cell_type": "code",
   "execution_count": 7,
   "id": "2dc15ac3",
   "metadata": {
    "execution": {
     "iopub.execute_input": "2024-05-10T15:56:40.480120Z",
     "iopub.status.busy": "2024-05-10T15:56:40.479959Z",
     "iopub.status.idle": "2024-05-10T15:56:40.483213Z",
     "shell.execute_reply": "2024-05-10T15:56:40.482765Z"
    },
    "lines_to_next_cell": 1,
    "papermill": {
     "duration": 0.011628,
     "end_time": "2024-05-10T15:56:40.484223",
     "exception": false,
     "start_time": "2024-05-10T15:56:40.472595",
     "status": "completed"
    },
    "tags": []
   },
   "outputs": [],
   "source": [
    "def climbStairs(n: int) -> int:\n",
    "    \"\"\"Time: O(N), Space: O(1)\"\"\"\n",
    "    prev2, prev1 = 1, 1\n",
    "    while n > 0:\n",
    "        prev2, prev1 = prev1, prev1 + prev2\n",
    "        n -= 1\n",
    "\n",
    "    return prev2\n",
    "\n",
    "assert climbStairs(45) == 1836311903"
   ]
  },
  {
   "cell_type": "markdown",
   "id": "3cd4d88c",
   "metadata": {
    "papermill": {
     "duration": 0.006757,
     "end_time": "2024-05-10T15:56:40.497804",
     "exception": false,
     "start_time": "2024-05-10T15:56:40.491047",
     "status": "completed"
    },
    "tags": []
   },
   "source": [
    "Video link: https://youtu.be/EgG3jsGoPvQ?si=Cm5AVvq_zCnr-w6q\n",
    "Frog Jump: 1"
   ]
  },
  {
   "cell_type": "code",
   "execution_count": 8,
   "id": "59c27b1e",
   "metadata": {
    "execution": {
     "iopub.execute_input": "2024-05-10T15:56:40.512165Z",
     "iopub.status.busy": "2024-05-10T15:56:40.511989Z",
     "iopub.status.idle": "2024-05-10T15:56:40.516602Z",
     "shell.execute_reply": "2024-05-10T15:56:40.516149Z"
    },
    "lines_to_next_cell": 1,
    "papermill": {
     "duration": 0.013017,
     "end_time": "2024-05-10T15:56:40.517629",
     "exception": false,
     "start_time": "2024-05-10T15:56:40.504612",
     "status": "completed"
    },
    "tags": []
   },
   "outputs": [],
   "source": [
    "def frogJumpBetter(N: int, heights: list[int]) -> int:\n",
    "    \"\"\"\n",
    "    Time: O(N), Space: O(N) + O(N)\n",
    "    \"\"\"\n",
    "\n",
    "    @functools.cache\n",
    "    def backtrack(curr: int) -> int:\n",
    "        if curr == N - 1:\n",
    "            return 0\n",
    "        elif curr == N - 2:\n",
    "            return abs(heights[N - 1] - heights[N - 2])\n",
    "        else:\n",
    "            jump1 = abs(heights[curr] - heights[curr + 1]) + backtrack(curr + 1)\n",
    "            jump2 = abs(heights[curr] - heights[curr + 2]) + backtrack(curr + 2)\n",
    "            return min(jump1, jump2)\n",
    "\n",
    "    return backtrack(0)\n",
    "\n",
    "# Testing the solution\n",
    "assert frogJumpBetter(4, [10,20,30,10]) == 20\n",
    "assert frogJumpBetter(3, [10,50,10]) == 0"
   ]
  },
  {
   "cell_type": "code",
   "execution_count": 9,
   "id": "2bc52e04",
   "metadata": {
    "execution": {
     "iopub.execute_input": "2024-05-10T15:56:40.532159Z",
     "iopub.status.busy": "2024-05-10T15:56:40.531961Z",
     "iopub.status.idle": "2024-05-10T15:56:40.536254Z",
     "shell.execute_reply": "2024-05-10T15:56:40.535717Z"
    },
    "lines_to_next_cell": 1,
    "papermill": {
     "duration": 0.012745,
     "end_time": "2024-05-10T15:56:40.537297",
     "exception": false,
     "start_time": "2024-05-10T15:56:40.524552",
     "status": "completed"
    },
    "tags": []
   },
   "outputs": [],
   "source": [
    "def frogJumpOptimal(N: int, heights: list[int]) -> int:\n",
    "    \"Time: O(N), Space: O(1)\"\n",
    "    jump1, jump2 = abs(heights[-2] - heights[-1]), 0\n",
    "    for i in range(N - 3, -1, -1):\n",
    "        curr = min(abs(heights[i] - heights[i + 1]) + jump1, abs(heights[i] - heights[i + 2]) + jump2)\n",
    "        jump1, jump2 = curr, jump1\n",
    "\n",
    "    return jump1\n",
    "\n",
    "assert frogJumpOptimal(4, [10,20,30,10]) == 20\n",
    "assert frogJumpOptimal(3, [10,50,10]) == 0"
   ]
  },
  {
   "cell_type": "markdown",
   "id": "4fa38d19",
   "metadata": {
    "papermill": {
     "duration": 0.006734,
     "end_time": "2024-05-10T15:56:40.550828",
     "exception": false,
     "start_time": "2024-05-10T15:56:40.544094",
     "status": "completed"
    },
    "tags": []
   },
   "source": [
    "Video Link: https://youtu.be/Kmh3rhyEtB8?si=rqZ5-pJcjIzWU5i8\n",
    "Frog Jump with K distance"
   ]
  },
  {
   "cell_type": "code",
   "execution_count": 10,
   "id": "f21ca119",
   "metadata": {
    "execution": {
     "iopub.execute_input": "2024-05-10T15:56:40.565197Z",
     "iopub.status.busy": "2024-05-10T15:56:40.564999Z",
     "iopub.status.idle": "2024-05-10T15:56:40.569788Z",
     "shell.execute_reply": "2024-05-10T15:56:40.569342Z"
    },
    "lines_to_next_cell": 1,
    "papermill": {
     "duration": 0.013291,
     "end_time": "2024-05-10T15:56:40.570876",
     "exception": false,
     "start_time": "2024-05-10T15:56:40.557585",
     "status": "completed"
    },
    "tags": []
   },
   "outputs": [],
   "source": [
    "def frogJumpAtKDistBetter1(N: int, K: int, heights: list[int]) -> int:\n",
    "    \"\"\"\n",
    "    Memoization Approach: Top Down Approach\n",
    "    Time: O(N x K), Space: O(N) + O(N)\n",
    "    \"\"\"\n",
    "\n",
    "    @functools.cache\n",
    "    def backtrack(curr: int) -> int:\n",
    "        if curr >= N - 1:\n",
    "            return 0\n",
    "        else:\n",
    "            minCost = math.inf\n",
    "            for next_ in range(curr + 1, min(N, curr + K + 1)):\n",
    "                cost = abs(heights[curr] - heights[next_]) + backtrack(next_)\n",
    "                minCost = min(minCost, cost)\n",
    "\n",
    "            return int(minCost)\n",
    "\n",
    "    return backtrack(0)\n",
    "\n",
    "# Testing the solution\n",
    "assert frogJumpAtKDistBetter1(5, 3, [10,30,40,50,20]) == 30\n",
    "assert frogJumpAtKDistBetter1(3, 1, [10,20,10]) == 20"
   ]
  },
  {
   "cell_type": "code",
   "execution_count": 11,
   "id": "1b9a86c0",
   "metadata": {
    "execution": {
     "iopub.execute_input": "2024-05-10T15:56:40.585431Z",
     "iopub.status.busy": "2024-05-10T15:56:40.585147Z",
     "iopub.status.idle": "2024-05-10T15:56:40.589829Z",
     "shell.execute_reply": "2024-05-10T15:56:40.589330Z"
    },
    "lines_to_next_cell": 1,
    "papermill": {
     "duration": 0.013139,
     "end_time": "2024-05-10T15:56:40.590854",
     "exception": false,
     "start_time": "2024-05-10T15:56:40.577715",
     "status": "completed"
    },
    "tags": []
   },
   "outputs": [],
   "source": [
    "def frogJumpAtKDistBetter2(N: int, K: int, heights: list[int]) -> int:\n",
    "    \"\"\"\n",
    "    Tabulation: Bottom up approach\n",
    "    Time: O(N x K), Space: O(N)\n",
    "    \"\"\"\n",
    "\n",
    "    dp: list[int] = [-1 for i in range(N)]\n",
    "    dp[-1] = 0\n",
    "\n",
    "    for curr in range(N - 2, -1, -1):\n",
    "        minCost = math.inf\n",
    "        for next_ in range(curr + 1, min(N, curr + K + 1)):\n",
    "            cost = abs(heights[curr] - heights[next_]) + dp[next_]\n",
    "            minCost = min(minCost, cost)\n",
    "        dp[curr] = int(minCost)\n",
    "\n",
    "    return dp[0]\n",
    "\n",
    "# Testing the solution\n",
    "assert frogJumpAtKDistBetter2(5, 3, [10,30,40,50,20]) == 30\n",
    "assert frogJumpAtKDistBetter2(3, 1, [10,20,10]) == 20"
   ]
  },
  {
   "cell_type": "code",
   "execution_count": 12,
   "id": "09ca5d18",
   "metadata": {
    "execution": {
     "iopub.execute_input": "2024-05-10T15:56:40.605410Z",
     "iopub.status.busy": "2024-05-10T15:56:40.605044Z",
     "iopub.status.idle": "2024-05-10T15:56:40.609928Z",
     "shell.execute_reply": "2024-05-10T15:56:40.609388Z"
    },
    "lines_to_next_cell": 1,
    "papermill": {
     "duration": 0.013359,
     "end_time": "2024-05-10T15:56:40.610997",
     "exception": false,
     "start_time": "2024-05-10T15:56:40.597638",
     "status": "completed"
    },
    "tags": []
   },
   "outputs": [],
   "source": [
    "def frogJumpAtKDist(N: int, K: int, heights: list[int]) -> int:\n",
    "    \"\"\"\n",
    "    Tabulation: Bottom up approach\n",
    "    Time: O(N x K), Space: O(K)\n",
    "    \"\"\"\n",
    "\n",
    "    dp: collections.deque[int] = collections.deque([0])\n",
    "    for curr in range(N - 2, -1, -1):\n",
    "        minCost = math.inf\n",
    "        for jump in range(1, min(N - curr, K + 1)):\n",
    "            next_ = curr + jump\n",
    "            cost = abs(heights[curr] - heights[next_]) + dp[jump - 1]\n",
    "            minCost = min(minCost, cost)\n",
    "\n",
    "        dp.appendleft(int(minCost))\n",
    "        if len(dp) > K:\n",
    "            dp.pop()\n",
    "\n",
    "    return dp[0]\n",
    "\n",
    "# Testing the solution\n",
    "assert frogJumpAtKDist(5, 3, [10,30,40,50,20]) == 30\n",
    "assert frogJumpAtKDist(3, 1, [10,20,10]) == 20"
   ]
  },
  {
   "cell_type": "markdown",
   "id": "259d53f8",
   "metadata": {
    "papermill": {
     "duration": 0.006705,
     "end_time": "2024-05-10T15:56:40.624565",
     "exception": false,
     "start_time": "2024-05-10T15:56:40.617860",
     "status": "completed"
    },
    "tags": []
   },
   "source": [
    "Maximum sum of Non Adjacent Elements: House Robber\n",
    "Video Link: https://youtu.be/GrMBfJNk_NY?si=IPuGJglc0axETveU"
   ]
  },
  {
   "cell_type": "code",
   "execution_count": 13,
   "id": "89d8dea7",
   "metadata": {
    "execution": {
     "iopub.execute_input": "2024-05-10T15:56:40.639045Z",
     "iopub.status.busy": "2024-05-10T15:56:40.638883Z",
     "iopub.status.idle": "2024-05-10T15:56:40.642733Z",
     "shell.execute_reply": "2024-05-10T15:56:40.642301Z"
    },
    "lines_to_next_cell": 1,
    "papermill": {
     "duration": 0.01243,
     "end_time": "2024-05-10T15:56:40.643801",
     "exception": false,
     "start_time": "2024-05-10T15:56:40.631371",
     "status": "completed"
    },
    "tags": []
   },
   "outputs": [],
   "source": [
    "def robMemo(nums: list[int]) -> int:\n",
    "    \"\"\"\n",
    "    Memoization: Top down approach\n",
    "    Time: O(N), Space: O(N)\n",
    "    \"\"\"\n",
    "\n",
    "    @functools.cache\n",
    "    def backtrack(curr: int) -> int:\n",
    "        if curr >= N:\n",
    "            return 0\n",
    "        else:\n",
    "            return max(backtrack(curr + 1), nums[curr] + backtrack(curr + 2))\n",
    "\n",
    "    N = len(nums)\n",
    "    return backtrack(0)\n",
    "\n",
    "# Testing the solution\n",
    "assert robMemo([2,7,9,3,1]) == 12"
   ]
  },
  {
   "cell_type": "code",
   "execution_count": 14,
   "id": "e69063ac",
   "metadata": {
    "execution": {
     "iopub.execute_input": "2024-05-10T15:56:40.658454Z",
     "iopub.status.busy": "2024-05-10T15:56:40.658029Z",
     "iopub.status.idle": "2024-05-10T15:56:40.662023Z",
     "shell.execute_reply": "2024-05-10T15:56:40.661582Z"
    },
    "lines_to_next_cell": 1,
    "papermill": {
     "duration": 0.012406,
     "end_time": "2024-05-10T15:56:40.663051",
     "exception": false,
     "start_time": "2024-05-10T15:56:40.650645",
     "status": "completed"
    },
    "tags": []
   },
   "outputs": [],
   "source": [
    "def robTab(nums: list[int]) -> int:\n",
    "    \"\"\"\n",
    "    Tabulation: Bottom up approach\n",
    "    Time: O(N), Space: O(N)\n",
    "    \"\"\"\n",
    "    N = len(nums)\n",
    "    dp: list[int] = [-1 for i in range(N + 1)]\n",
    "    dp[-1], dp[-2] = 0, nums[-1]\n",
    "    for curr in range(N - 2, -1, -1):\n",
    "        dp[curr] = max(nums[curr] + dp[curr + 2], dp[curr + 1])\n",
    "\n",
    "    return dp[0]\n",
    "\n",
    "# Testing the solution\n",
    "assert robTab([2,7,9,3,1]) == 12"
   ]
  },
  {
   "cell_type": "code",
   "execution_count": 15,
   "id": "d3ac1b1c",
   "metadata": {
    "execution": {
     "iopub.execute_input": "2024-05-10T15:56:40.677694Z",
     "iopub.status.busy": "2024-05-10T15:56:40.677330Z",
     "iopub.status.idle": "2024-05-10T15:56:40.680905Z",
     "shell.execute_reply": "2024-05-10T15:56:40.680501Z"
    },
    "lines_to_next_cell": 1,
    "papermill": {
     "duration": 0.011998,
     "end_time": "2024-05-10T15:56:40.681898",
     "exception": false,
     "start_time": "2024-05-10T15:56:40.669900",
     "status": "completed"
    },
    "tags": []
   },
   "outputs": [],
   "source": [
    "# https://leetcode.com/problems/house-robber/submissions/1249841355/\n",
    "def robSpaceOptimized(nums: list[int]) -> int:\n",
    "    \"Time: O(N), Space: O(1)\"\n",
    "    next1 = next2 = 0\n",
    "    for curr in range(len(nums) - 1, -1, -1):\n",
    "        next1, next2 = max(nums[curr] + next2, next1), next1\n",
    "\n",
    "    return next1\n",
    "\n",
    "assert robSpaceOptimized([2,7,9,3,1]) == 12"
   ]
  },
  {
   "cell_type": "markdown",
   "id": "630eec21",
   "metadata": {
    "papermill": {
     "duration": 0.006867,
     "end_time": "2024-05-10T15:56:40.695633",
     "exception": false,
     "start_time": "2024-05-10T15:56:40.688766",
     "status": "completed"
    },
    "tags": []
   },
   "source": [
    "House Robber 2: https://youtu.be/3WaxQMELSkw?si=i9oGKnDJGJxvUjbu\n",
    "https://leetcode.com/problems/house-robber-ii/submissions/1249888930"
   ]
  },
  {
   "cell_type": "code",
   "execution_count": 16,
   "id": "3ee7a5cf",
   "metadata": {
    "execution": {
     "iopub.execute_input": "2024-05-10T15:56:40.710153Z",
     "iopub.status.busy": "2024-05-10T15:56:40.709865Z",
     "iopub.status.idle": "2024-05-10T15:56:40.714142Z",
     "shell.execute_reply": "2024-05-10T15:56:40.713600Z"
    },
    "lines_to_next_cell": 1,
    "papermill": {
     "duration": 0.012714,
     "end_time": "2024-05-10T15:56:40.715201",
     "exception": false,
     "start_time": "2024-05-10T15:56:40.702487",
     "status": "completed"
    },
    "tags": []
   },
   "outputs": [],
   "source": [
    "def rob2(nums: list[int]) -> int:\n",
    "    \"\"\"\n",
    "    Ans cannot contain both the first and the last house.\n",
    "    It can contain either the first or the last house.\n",
    "    \"\"\"\n",
    "    def rob(arr: list[int]) -> int:\n",
    "        next1 = next2 = 0\n",
    "        for curr in range(len(arr) - 1, -1, -1):\n",
    "            next1, next2 = max(arr[curr] + next2, next1), next1\n",
    "\n",
    "        return next1\n",
    "\n",
    "    return max(rob(nums[1:]), rob(nums[:-1])) if len(nums) > 1 else sum(nums)\n",
    "\n",
    "# Testing the solution\n",
    "assert rob2([1,2,3,1]) == 4\n",
    "assert rob2([]) == 0"
   ]
  },
  {
   "cell_type": "markdown",
   "id": "52745498",
   "metadata": {
    "papermill": {
     "duration": 0.00683,
     "end_time": "2024-05-10T15:56:40.728845",
     "exception": false,
     "start_time": "2024-05-10T15:56:40.722015",
     "status": "completed"
    },
    "tags": []
   },
   "source": [
    "Ninja's Training: https://youtu.be/AE39gJYuRog?si=n4BhCotno-9chP5j"
   ]
  },
  {
   "cell_type": "code",
   "execution_count": 17,
   "id": "c814dc79",
   "metadata": {
    "execution": {
     "iopub.execute_input": "2024-05-10T15:56:40.743583Z",
     "iopub.status.busy": "2024-05-10T15:56:40.743267Z",
     "iopub.status.idle": "2024-05-10T15:56:40.748198Z",
     "shell.execute_reply": "2024-05-10T15:56:40.747681Z"
    },
    "lines_to_next_cell": 1,
    "papermill": {
     "duration": 0.013469,
     "end_time": "2024-05-10T15:56:40.749243",
     "exception": false,
     "start_time": "2024-05-10T15:56:40.735774",
     "status": "completed"
    },
    "tags": []
   },
   "outputs": [],
   "source": [
    "def ninjaTrainingBetter(N: int, points: list[list[int]]) -> int:\n",
    "    \"\"\"\n",
    "    Memoization: Top down approach\n",
    "\n",
    "    Time: O(N), Space: O(N) + O(N)\n",
    "    \"\"\"\n",
    "\n",
    "    @functools.cache\n",
    "    def backtrack(i: int, j: int) -> int:\n",
    "        if i == N:\n",
    "            return 0\n",
    "        else:\n",
    "            max_ = -math.inf\n",
    "            for k in range(3):\n",
    "                if k != j:\n",
    "                    max_ = max(max_, points[i][k] + backtrack(i + 1, k))\n",
    "\n",
    "            return int(max_)\n",
    "\n",
    "    return backtrack(0, -1)\n",
    "\n",
    "# Testing the solution\n",
    "assert ninjaTrainingBetter(3, [[10,40,70], [20,50,80], [30,60,90]]) == 210\n",
    "assert ninjaTrainingBetter(3, [[1,2,5], [3,1,1], [3,3,3]]) == 11\n",
    "assert ninjaTrainingBetter(2, [[10,50,1], [5,100,11]]) == 110"
   ]
  },
  {
   "cell_type": "code",
   "execution_count": 18,
   "id": "015e9458",
   "metadata": {
    "execution": {
     "iopub.execute_input": "2024-05-10T15:56:40.763795Z",
     "iopub.status.busy": "2024-05-10T15:56:40.763352Z",
     "iopub.status.idle": "2024-05-10T15:56:40.768730Z",
     "shell.execute_reply": "2024-05-10T15:56:40.768302Z"
    },
    "lines_to_next_cell": 1,
    "papermill": {
     "duration": 0.013801,
     "end_time": "2024-05-10T15:56:40.769793",
     "exception": false,
     "start_time": "2024-05-10T15:56:40.755992",
     "status": "completed"
    },
    "tags": []
   },
   "outputs": [],
   "source": [
    "def ninjaTraining(N: int, points: list[list[int]]) -> int:\n",
    "    \"\"\"\n",
    "    Space optimized Tabulation DP: Bottom up\n",
    "\n",
    "    Start at the last day.\n",
    "    At each day we sum up corresponding values with the values in DP and assign them to DP.\n",
    "    Before moving the prev day, to the DP perform this op -> dp[i] = max(dp[j]) where j != i\n",
    "\n",
    "    At the end of the iteration simply return max of DP.\n",
    "\n",
    "    Time: O(N), Space: O(1)\n",
    "    \"\"\"\n",
    "\n",
    "    dp: list[int] = [0, 0, 0]\n",
    "    for i in range(N - 1, -1, -1):\n",
    "        for j in range(3):\n",
    "            dp[j] += points[i][j]\n",
    "\n",
    "        next_dp: list[int] = []\n",
    "        for j in range(3):\n",
    "            next_dp.append(max(dp[k] for k in range(3) if k != j))\n",
    "\n",
    "        dp = next_dp\n",
    "\n",
    "    return max(dp)\n",
    "\n",
    "# Testing the solution\n",
    "assert ninjaTraining(3, [[10,40,70], [20,50,80], [30,60,90]]) == 210\n",
    "assert ninjaTraining(3, [[1,2,5], [3,1,1], [3,3,3]]) == 11\n",
    "assert ninjaTraining(2, [[10,50,1], [5,100,11]]) == 110"
   ]
  },
  {
   "cell_type": "markdown",
   "id": "d132fa58",
   "metadata": {
    "papermill": {
     "duration": 0.006807,
     "end_time": "2024-05-10T15:56:40.783377",
     "exception": false,
     "start_time": "2024-05-10T15:56:40.776570",
     "status": "completed"
    },
    "tags": []
   },
   "source": [
    "Unique 2D paths: https://youtu.be/sdE0A2Oxofw?si=g1FpuSIYx0x95G-7\n",
    "https://leetcode.com/problems/unique-paths/"
   ]
  },
  {
   "cell_type": "code",
   "execution_count": 19,
   "id": "d035c9d7",
   "metadata": {
    "execution": {
     "iopub.execute_input": "2024-05-10T15:56:40.797649Z",
     "iopub.status.busy": "2024-05-10T15:56:40.797495Z",
     "iopub.status.idle": "2024-05-10T15:56:40.801367Z",
     "shell.execute_reply": "2024-05-10T15:56:40.800940Z"
    },
    "lines_to_next_cell": 1,
    "papermill": {
     "duration": 0.01233,
     "end_time": "2024-05-10T15:56:40.802457",
     "exception": false,
     "start_time": "2024-05-10T15:56:40.790127",
     "status": "completed"
    },
    "tags": []
   },
   "outputs": [],
   "source": [
    "def uniquePathsMemo(m: int, n: int) -> int:\n",
    "    \"\"\"\n",
    "    Memoization Solution: Top Down\n",
    "    Time: O(m x n), Space: O(m x n) + O(m x n)\n",
    "    \"\"\"\n",
    "    @functools.cache\n",
    "    def backtrack(i: int, j: int) -> int:\n",
    "        if i == m - 1 and j == n - 1:\n",
    "            return 1\n",
    "        elif i >= m or j >= n:\n",
    "            return 0\n",
    "        else:\n",
    "            return backtrack(i + 1, j) + backtrack(i, j + 1)\n",
    "\n",
    "    return backtrack(0, 0)\n",
    "\n",
    "# Testing the solution\n",
    "assert uniquePathsMemo(3, 7) == 28\n",
    "assert uniquePathsMemo(3, 2) == 3"
   ]
  },
  {
   "cell_type": "code",
   "execution_count": 20,
   "id": "c3fb756d",
   "metadata": {
    "execution": {
     "iopub.execute_input": "2024-05-10T15:56:40.817014Z",
     "iopub.status.busy": "2024-05-10T15:56:40.816710Z",
     "iopub.status.idle": "2024-05-10T15:56:40.820666Z",
     "shell.execute_reply": "2024-05-10T15:56:40.820229Z"
    },
    "lines_to_next_cell": 1,
    "papermill": {
     "duration": 0.012374,
     "end_time": "2024-05-10T15:56:40.821682",
     "exception": false,
     "start_time": "2024-05-10T15:56:40.809308",
     "status": "completed"
    },
    "tags": []
   },
   "outputs": [],
   "source": [
    "# https://leetcode.com/problems/unique-paths/submissions/1250526713\n",
    "def uniquePathsTab(m: int, n: int) -> int:\n",
    "    \"Time: O(m x n), Space: O(min(m, n))\"\n",
    "    M, N = min(m, n), max(m, n)\n",
    "    dp: list[int] = [1 for i in range(M)]\n",
    "\n",
    "    for i in range(N - 1):\n",
    "        for j in range(M - 2, -1, -1):\n",
    "            dp[j] += dp[j + 1]\n",
    "\n",
    "    return dp[0]\n",
    "\n",
    "# Testing the solution\n",
    "assert uniquePathsTab(3, 7) == 28\n",
    "assert uniquePathsTab(3, 2) == 3"
   ]
  },
  {
   "cell_type": "markdown",
   "id": "bb22f54a",
   "metadata": {
    "papermill": {
     "duration": 0.006856,
     "end_time": "2024-05-10T15:56:40.835435",
     "exception": false,
     "start_time": "2024-05-10T15:56:40.828579",
     "status": "completed"
    },
    "tags": []
   },
   "source": [
    "Video link: https://youtu.be/TmhpgXScLyY?si=M_FfFKRqRTXid4Jj\n",
    "Unique Paths - ii: https://leetcode.com/problems/unique-paths-ii/submissions/1250615914"
   ]
  },
  {
   "cell_type": "code",
   "execution_count": 21,
   "id": "f59a530c",
   "metadata": {
    "execution": {
     "iopub.execute_input": "2024-05-10T15:56:40.850302Z",
     "iopub.status.busy": "2024-05-10T15:56:40.849914Z",
     "iopub.status.idle": "2024-05-10T15:56:40.855138Z",
     "shell.execute_reply": "2024-05-10T15:56:40.854562Z"
    },
    "lines_to_next_cell": 1,
    "papermill": {
     "duration": 0.013903,
     "end_time": "2024-05-10T15:56:40.856293",
     "exception": false,
     "start_time": "2024-05-10T15:56:40.842390",
     "status": "completed"
    },
    "tags": []
   },
   "outputs": [],
   "source": [
    "def uniquePathsWithObstacles(obstacleGrid: list[list[int]]) -> int:\n",
    "    \"Time: O(M x N), Space: O(N)\"\n",
    "    M, N = len(obstacleGrid), len(obstacleGrid[0])\n",
    "\n",
    "    dp: list[int] = [0 for j in range(N)]\n",
    "    dp[-1] = 1\n",
    "\n",
    "    for i in range(M - 1, -1, -1):\n",
    "        for j in range(N - 1, -1, -1):\n",
    "            if obstacleGrid[i][j] == 0:\n",
    "                dp[j] = dp[j] + dp[j + 1] if j < N - 1 else dp[j]\n",
    "            else:\n",
    "                dp[j] = 0\n",
    "\n",
    "    return dp[0]\n",
    "\n",
    "# Testing the solution\n",
    "assert uniquePathsWithObstacles([[0,0,0],[0,1,0],[0,0,0]]) == 2\n",
    "assert uniquePathsWithObstacles([[0,1],[0,0]]) == 1\n",
    "assert uniquePathsWithObstacles([[1]]) == 0"
   ]
  },
  {
   "cell_type": "markdown",
   "id": "93e28e9b",
   "metadata": {
    "papermill": {
     "duration": 0.022622,
     "end_time": "2024-05-10T15:56:40.885690",
     "exception": false,
     "start_time": "2024-05-10T15:56:40.863068",
     "status": "completed"
    },
    "tags": []
   },
   "source": [
    "Minimum Path Sum: https://youtu.be/_rgTlyky1uQ?si=3xJY7MmVg5tTEW5Q\n",
    "https://leetcode.com/problems/minimum-path-sum/submissions/1250633614"
   ]
  },
  {
   "cell_type": "code",
   "execution_count": 22,
   "id": "c97f7ce9",
   "metadata": {
    "execution": {
     "iopub.execute_input": "2024-05-10T15:56:40.900616Z",
     "iopub.status.busy": "2024-05-10T15:56:40.900223Z",
     "iopub.status.idle": "2024-05-10T15:56:40.905081Z",
     "shell.execute_reply": "2024-05-10T15:56:40.904643Z"
    },
    "lines_to_next_cell": 1,
    "papermill": {
     "duration": 0.013653,
     "end_time": "2024-05-10T15:56:40.906198",
     "exception": false,
     "start_time": "2024-05-10T15:56:40.892545",
     "status": "completed"
    },
    "tags": []
   },
   "outputs": [],
   "source": [
    "def minPathSum(grid: list[list[int]]) -> int:\n",
    "    \"Time: O(M x N), Space: O(N)\"\n",
    "    M, N = len(grid), len(grid[0])\n",
    "\n",
    "    # Initialize DP\n",
    "    dp: list[float] = [math.inf for j in range(N)]\n",
    "    dp[-1] = 0\n",
    "\n",
    "    # DP Solution\n",
    "    for i in range(M - 1, -1, -1):\n",
    "        for j in range(N - 1, -1, -1):\n",
    "            dp[j] = grid[i][j] + (min(dp[j + 1], dp[j]) if j < N - 1 else dp[j])\n",
    "\n",
    "    return int(dp[0])\n",
    "\n",
    "# Testing the solution\n",
    "assert minPathSum([[1,3,1],[1,5,1],[4,2,1]]) == 7\n",
    "assert minPathSum([[1,2,3],[4,5,6]]) == 12"
   ]
  },
  {
   "cell_type": "markdown",
   "id": "107526ff",
   "metadata": {
    "papermill": {
     "duration": 0.006902,
     "end_time": "2024-05-10T15:56:40.920008",
     "exception": false,
     "start_time": "2024-05-10T15:56:40.913106",
     "status": "completed"
    },
    "tags": []
   },
   "source": [
    "Video Link: https://youtu.be/0bHoB32fuj0?si=5UHeArKmLvTVpbrk\n",
    "Triangle: https://leetcode.com/problems/triangle/submissions/1251774955/"
   ]
  },
  {
   "cell_type": "code",
   "execution_count": 23,
   "id": "62387041",
   "metadata": {
    "execution": {
     "iopub.execute_input": "2024-05-10T15:56:40.935196Z",
     "iopub.status.busy": "2024-05-10T15:56:40.934724Z",
     "iopub.status.idle": "2024-05-10T15:56:40.939209Z",
     "shell.execute_reply": "2024-05-10T15:56:40.938683Z"
    },
    "lines_to_next_cell": 1,
    "papermill": {
     "duration": 0.013273,
     "end_time": "2024-05-10T15:56:40.940206",
     "exception": false,
     "start_time": "2024-05-10T15:56:40.926933",
     "status": "completed"
    },
    "tags": []
   },
   "outputs": [],
   "source": [
    "def minimumTotal(triangle: list[list[int]]) -> int:\n",
    "    \"\"\"Time: O(N x N), Space: O(N)\"\"\"\n",
    "    N = len(triangle)\n",
    "    dp: list[int] = [0 for i in range(N + 1)]\n",
    "\n",
    "    while N > 0:\n",
    "        next_: list[int] = []\n",
    "        for i in range(N):\n",
    "            next_.append(min(dp[i], dp[i + 1]) + triangle[N - 1][i])\n",
    "        dp = next_\n",
    "        N -= 1\n",
    "\n",
    "    return dp[0]\n",
    "\n",
    "# Testing the solution\n",
    "assert minimumTotal([[2],[3,4],[6,5,7],[4,1,8,3]]) == 11\n",
    "assert minimumTotal([[-10]]) == -10"
   ]
  },
  {
   "cell_type": "markdown",
   "id": "51332104",
   "metadata": {
    "papermill": {
     "duration": 0.0068,
     "end_time": "2024-05-10T15:56:40.953877",
     "exception": false,
     "start_time": "2024-05-10T15:56:40.947077",
     "status": "completed"
    },
    "tags": []
   },
   "source": [
    "Video Link: https://youtu.be/N_aJ5qQbYA0?si=LTME1YI3hqtU8u8_\n",
    "Maximum Falling path sum\n",
    "We cannot apply greedy algorithms here because there is no uniformity mentioned. Uniformity implies how the numbers are distributed.\n",
    "For eg:\n",
    "```\n",
    "1   2  3    4\n",
    "10  1  100  1\n",
    "1   2  5    0\n",
    "```\n",
    "In the above example from (0, 0), if we greedily chose (1, 0) - we would miss out on 100 at (1, 2). \n",
    "If suppose we were told that the numbers were arranged in ascending or descending order we can greedily pick a path"
   ]
  },
  {
   "cell_type": "code",
   "execution_count": 24,
   "id": "4f9fb3eb",
   "metadata": {
    "execution": {
     "iopub.execute_input": "2024-05-10T15:56:40.968620Z",
     "iopub.status.busy": "2024-05-10T15:56:40.968364Z",
     "iopub.status.idle": "2024-05-10T15:56:40.973461Z",
     "shell.execute_reply": "2024-05-10T15:56:40.973017Z"
    },
    "lines_to_next_cell": 1,
    "papermill": {
     "duration": 0.013724,
     "end_time": "2024-05-10T15:56:40.974568",
     "exception": false,
     "start_time": "2024-05-10T15:56:40.960844",
     "status": "completed"
    },
    "tags": []
   },
   "outputs": [],
   "source": [
    "def getMaxPathSumBetter(matrix: list[list[int]]):\n",
    "    \"\"\"\n",
    "    With memoization:\n",
    "    Time complexity: O(3 ^ N)\n",
    "\n",
    "    Memoization Approach: Top Down\n",
    "    Time: O(N x M), Space: O(N x M) + O(N x M)\n",
    "    \"\"\"\n",
    "    M, N = len(matrix), len(matrix[0])\n",
    "\n",
    "    @functools.cache\n",
    "    def backtrack(i: int = 0, j: int = 0) -> float:\n",
    "        if i >= M:\n",
    "            return 0\n",
    "        elif j < 0 or j >= N:\n",
    "            return -math.inf\n",
    "        else:\n",
    "            return matrix[i][j] + max(backtrack(i + 1, j - 1), backtrack(i + 1, j), backtrack(i + 1, j + 1))\n",
    "\n",
    "    maxPathSum = -math.inf\n",
    "    for j in range(N):\n",
    "        maxPathSum = max(maxPathSum, backtrack(0, j))\n",
    "\n",
    "    return int(maxPathSum)\n",
    "\n",
    "# Testing the solution\n",
    "assert getMaxPathSumBetter([[1,2,10,4],[100,3,2,1],[1,1,20,2],[1,2,2,1]]) == 105\n",
    "assert getMaxPathSumBetter([[10,2,3],[3,7,2],[8,1,5]]) == 25"
   ]
  },
  {
   "cell_type": "code",
   "execution_count": 25,
   "id": "b3cf95be",
   "metadata": {
    "execution": {
     "iopub.execute_input": "2024-05-10T15:56:40.989281Z",
     "iopub.status.busy": "2024-05-10T15:56:40.988945Z",
     "iopub.status.idle": "2024-05-10T15:56:40.994039Z",
     "shell.execute_reply": "2024-05-10T15:56:40.993506Z"
    },
    "lines_to_next_cell": 1,
    "papermill": {
     "duration": 0.013598,
     "end_time": "2024-05-10T15:56:40.995050",
     "exception": false,
     "start_time": "2024-05-10T15:56:40.981452",
     "status": "completed"
    },
    "tags": []
   },
   "outputs": [],
   "source": [
    "def getMaxPathSum(matrix: list[list[int]]):\n",
    "    \"\"\"\n",
    "    Space optimized DP: Bottom up\n",
    "    Time: O(M x N), Space: O(N)\n",
    "    \"\"\"\n",
    "    M, N = len(matrix), len(matrix[0])\n",
    "\n",
    "    dp: list[float] = [0 for i in range(N)]\n",
    "    i = M - 1\n",
    "    while i >= 0:\n",
    "        next_: list[float] = []\n",
    "        for j in range(N):\n",
    "            next_.append(matrix[i][j] + max(dp[j - 1] if j - 1 >= 0 else -math.inf, dp[j], dp[j + 1] if j + 1 < N else -math.inf))\n",
    "\n",
    "        dp = next_\n",
    "        i -= 1\n",
    "\n",
    "    return max(dp)\n",
    "\n",
    "# Testing the solution\n",
    "assert getMaxPathSum([[1,2,10,4],[100,3,2,1],[1,1,20,2],[1,2,2,1]]) == 105\n",
    "assert getMaxPathSum([[10,2,3],[3,7,2],[8,1,5]]) == 25"
   ]
  },
  {
   "cell_type": "markdown",
   "id": "703cdb9d",
   "metadata": {
    "papermill": {
     "duration": 0.006848,
     "end_time": "2024-05-10T15:56:41.008730",
     "exception": false,
     "start_time": "2024-05-10T15:56:41.001882",
     "status": "completed"
    },
    "tags": []
   },
   "source": [
    "Cherry Pickup: 2: https://leetcode.com/problems/cherry-pickup-ii/\n",
    "Video Link: https://youtu.be/QGfn7JeXK54?si=2K0Lz9iKN_IxLUDN"
   ]
  },
  {
   "cell_type": "code",
   "execution_count": 26,
   "id": "d82f0e5d",
   "metadata": {
    "execution": {
     "iopub.execute_input": "2024-05-10T15:56:41.023484Z",
     "iopub.status.busy": "2024-05-10T15:56:41.023126Z",
     "iopub.status.idle": "2024-05-10T15:56:41.029847Z",
     "shell.execute_reply": "2024-05-10T15:56:41.029409Z"
    },
    "lines_to_next_cell": 1,
    "papermill": {
     "duration": 0.015264,
     "end_time": "2024-05-10T15:56:41.030902",
     "exception": false,
     "start_time": "2024-05-10T15:56:41.015638",
     "status": "completed"
    },
    "tags": []
   },
   "outputs": [],
   "source": [
    "def cherryPickupMemo(grid: list[list[int]]) -> int:\n",
    "    \"\"\"\n",
    "    Without memoization, time complexity: O(3 ^ M * 3 ^ M)\n",
    "\n",
    "    Space complexity is definitely improved with using @functools.cache, using list here to illustrate.\n",
    "    Time: O (M x N x N), Space: O (M x N x N)\n",
    "\n",
    "    To figure out the dp size, simply check how many parameters are chaning. Here we have an i, j1, j2 and hence dp is a 3D Matrix.\n",
    "    \"\"\"\n",
    "    M, N = len(grid), len(grid[0])\n",
    "    dp: list[list[list[float]]] = [[[-1 for k in range(N)] for j in range(N)] for i in range(M)]\n",
    "\n",
    "    def backtrack(i: int, j1: int, j2: int) -> float:\n",
    "        if j1 < 0 or j2 < 0 or j1 >= N or j2 >= N or j1 == j2:\n",
    "            return -math.inf\n",
    "        elif i > M - 1:\n",
    "            return 0\n",
    "        elif dp[i][j1][j2] != -1:\n",
    "            return dp[i][j1][j2]\n",
    "        else:\n",
    "            next_picked = -math.inf\n",
    "            for j1_offset in range(-1, 2):\n",
    "                for j2_offset in range(-1, 2):\n",
    "                    next_picked = max(next_picked, backtrack(i + 1, j1 + j1_offset, j2 + j2_offset))\n",
    "\n",
    "            dp[i][j1][j2] = grid[i][j1] + grid[i][j2] + next_picked\n",
    "            return dp[i][j1][j2]\n",
    "\n",
    "    result = int(backtrack(0, 0, N - 1))\n",
    "    return result\n",
    "\n",
    "# Testing the solution\n",
    "assert cherryPickupMemo([[1,0,0,0,0,0,1],[2,0,0,0,0,3,0],[2,0,9,0,0,0,0],[0,3,0,5,4,0,0],[1,0,2,3,0,0,6]]) == 28"
   ]
  },
  {
   "cell_type": "code",
   "execution_count": 27,
   "id": "85c88b05",
   "metadata": {
    "execution": {
     "iopub.execute_input": "2024-05-10T15:56:41.045539Z",
     "iopub.status.busy": "2024-05-10T15:56:41.045106Z",
     "iopub.status.idle": "2024-05-10T15:56:41.052109Z",
     "shell.execute_reply": "2024-05-10T15:56:41.051694Z"
    },
    "lines_to_next_cell": 1,
    "papermill": {
     "duration": 0.015457,
     "end_time": "2024-05-10T15:56:41.053136",
     "exception": false,
     "start_time": "2024-05-10T15:56:41.037679",
     "status": "completed"
    },
    "tags": []
   },
   "outputs": [],
   "source": [
    "def cherryPickupTab(grid: list[list[int]]) -> int:\n",
    "    \"\"\"\n",
    "    Simply start with the base case. Move bottom up.\n",
    "    \"\"\"\n",
    "    M, N = len(grid), len(grid[0])\n",
    "\n",
    "    # Initialize DP with the base case\n",
    "    dp: list[list[list[float]]] = [[[0 for k in range(N)] for j in range(N)] for i in range(M)]\n",
    "    for j1 in range(N):\n",
    "        for j2 in range(N):\n",
    "            dp[-1][j1][j2] = grid[-1][j1] + grid[-1][j2] if j1 != j2 else grid[-1][j1]\n",
    "\n",
    "    # i, j1, j2: (0 - M), (0 - N), (0 - N)\n",
    "    for i in range(M - 2, -1, -1):\n",
    "        for j1 in range(N):\n",
    "            for j2 in range(N):\n",
    "                max_: float = -math.inf\n",
    "                curr = grid[i][j1] + grid[i][j2] if j1 != j2 else grid[i][j1]\n",
    "                for j1_offset in range(-1, 2):\n",
    "                    for j2_offset in range(-1, 2):\n",
    "                        if 0 <= j1 + j1_offset < N and 0 <= j2 + j2_offset < N:\n",
    "                            max_ = max(max_, dp[i + 1][j1 + j1_offset][j2 + j2_offset])\n",
    "\n",
    "                dp[i][j1][j2] = max(-1, max_ + curr)\n",
    "\n",
    "    return int(dp[0][0][-1])\n",
    "\n",
    "# Testing the solution\n",
    "assert cherryPickupTab([[1,0,0,0,0,0,1],[2,0,0,0,0,3,0],[2,0,9,0,0,0,0],[0,3,0,5,4,0,0],[1,0,2,3,0,0,6]]) == 28"
   ]
  },
  {
   "cell_type": "code",
   "execution_count": 28,
   "id": "e2fdb650",
   "metadata": {
    "execution": {
     "iopub.execute_input": "2024-05-10T15:56:41.067742Z",
     "iopub.status.busy": "2024-05-10T15:56:41.067577Z",
     "iopub.status.idle": "2024-05-10T15:56:41.074072Z",
     "shell.execute_reply": "2024-05-10T15:56:41.073655Z"
    },
    "lines_to_next_cell": 1,
    "papermill": {
     "duration": 0.014983,
     "end_time": "2024-05-10T15:56:41.075121",
     "exception": false,
     "start_time": "2024-05-10T15:56:41.060138",
     "status": "completed"
    },
    "tags": []
   },
   "outputs": [],
   "source": [
    "def cherryPickupSpaceOptimized(grid: list[list[int]]) -> int:\n",
    "    M, N = len(grid), len(grid[0])\n",
    "    dp: list[list[float]] = [[grid[-1][j1] + grid[-1][j2] if j1 != j2 else grid[-1][j1] for j1 in range(N)] for j2 in range(N)]\n",
    "\n",
    "    for i in range(M - 2, -1, -1):\n",
    "        dp_next: list[list[float]] = []\n",
    "        for j1 in range(N):\n",
    "            dp_next.append([])\n",
    "            for j2 in range(N):\n",
    "                max_: float = -math.inf\n",
    "                curr = grid[i][j1] + grid[i][j2] if j1 != j2 else grid[i][j1]\n",
    "                for j1_offset in range(-1, 2):\n",
    "                    for j2_offset in range(-1, 2):\n",
    "                        if 0 <= j1 + j1_offset < N and 0 <= j2 + j2_offset < N:\n",
    "                            max_ = max(max_, dp[j1 + j1_offset][j2 + j2_offset])\n",
    "\n",
    "                dp_next[j1].append(curr + max_)\n",
    "        dp = dp_next\n",
    "\n",
    "    return int(dp[0][-1])\n",
    "\n",
    "# Testing the solution\n",
    "assert cherryPickupSpaceOptimized([[1,0,0,0,0,0,1],[2,0,0,0,0,3,0],[2,0,9,0,0,0,0],[0,3,0,5,4,0,0],[1,0,2,3,0,0,6]]) == 28"
   ]
  },
  {
   "cell_type": "markdown",
   "id": "17816765",
   "metadata": {
    "papermill": {
     "duration": 0.006901,
     "end_time": "2024-05-10T15:56:41.089000",
     "exception": false,
     "start_time": "2024-05-10T15:56:41.082099",
     "status": "completed"
    },
    "tags": []
   },
   "source": [
    "Subset sum equals target\n",
    "Video Link: https://youtu.be/fWX9xDmIzRI?si=jb2Tgvw_E0Tyk1Pj"
   ]
  },
  {
   "cell_type": "code",
   "execution_count": 29,
   "id": "4f37d7b7",
   "metadata": {
    "execution": {
     "iopub.execute_input": "2024-05-10T15:56:41.103631Z",
     "iopub.status.busy": "2024-05-10T15:56:41.103205Z",
     "iopub.status.idle": "2024-05-10T15:56:41.108193Z",
     "shell.execute_reply": "2024-05-10T15:56:41.107767Z"
    },
    "lines_to_next_cell": 1,
    "papermill": {
     "duration": 0.013462,
     "end_time": "2024-05-10T15:56:41.109301",
     "exception": false,
     "start_time": "2024-05-10T15:56:41.095839",
     "status": "completed"
    },
    "tags": []
   },
   "outputs": [],
   "source": [
    "def isSubsetSumMemo(N: int, arr: list[int], target: int) -> int:\n",
    "    \"\"\"\n",
    "    For cases where subset exists, the recursion would stop early. For the negative cases, we would get overlapping subproblems and\n",
    "    hence memoization would help decrease the time complexity.\n",
    "\n",
    "    Time without memoization: O(2 ^ N), Space: O(N)\n",
    "    With memoization: O(N x target), Space: O(N x target) + O(N)\n",
    "    \"\"\"\n",
    "\n",
    "    dp: list[list[int]] = [[-1 for j in range(target + 1)] for i in range(N)]\n",
    "    def backtrack(i: int, total: int) -> bool:\n",
    "        if total == 0:\n",
    "            return True\n",
    "        elif total < 0 or i > N - 1:\n",
    "            return False\n",
    "        elif dp[i][total] != -1:\n",
    "            return bool(dp[i][total])\n",
    "        else:\n",
    "            result = backtrack(i + 1, total - arr[i]) or backtrack(i + 1, total)\n",
    "            dp[i][total] = int(result)\n",
    "            return result\n",
    "\n",
    "    return backtrack(0, target)\n",
    "\n",
    "# Testing the solution\n",
    "assert isSubsetSumMemo(6, [3, 34, 4, 12, 5, 2], 9) == True\n",
    "assert isSubsetSumMemo(6, [3, 34, 4, 12, 5, 2], 30) == False"
   ]
  },
  {
   "cell_type": "code",
   "execution_count": 30,
   "id": "5551c36b",
   "metadata": {
    "execution": {
     "iopub.execute_input": "2024-05-10T15:56:41.124459Z",
     "iopub.status.busy": "2024-05-10T15:56:41.123968Z",
     "iopub.status.idle": "2024-05-10T15:56:41.129751Z",
     "shell.execute_reply": "2024-05-10T15:56:41.129333Z"
    },
    "lines_to_next_cell": 1,
    "papermill": {
     "duration": 0.01442,
     "end_time": "2024-05-10T15:56:41.130778",
     "exception": false,
     "start_time": "2024-05-10T15:56:41.116358",
     "status": "completed"
    },
    "tags": []
   },
   "outputs": [
    {
     "name": "stdout",
     "output_type": "stream",
     "text": [
      "[[1, 0, 1, 1, 1, 1, 1, 1, 1, 1], [1, 0, 1, 0, 1, 1, 1, 1, 0, 1], [1, 0, 1, 0, 1, 1, 1, 1, 0, 1], [1, 0, 1, 0, 0, 1, 0, 1, 0, 0], [1, 0, 1, 0, 0, 1, 0, 1, 0, 0], [1, 0, 1, 0, 0, 0, 0, 0, 0, 0], [1, 0, 0, 0, 0, 0, 0, 0, 0, 0]]\n",
      "[[1, 0, 1, 1, 1, 1, 1, 1, 1, 1, 1, 1, 1, 0, 1, 1, 1, 1, 1, 1, 1, 1, 1, 1, 1, 0, 1, 0, 0, 0, 0], [1, 0, 1, 0, 1, 1, 1, 1, 0, 1, 0, 1, 1, 0, 1, 0, 1, 1, 1, 1, 0, 1, 0, 1, 0, 0, 0, 0, 0, 0, 0], [1, 0, 1, 0, 1, 1, 1, 1, 0, 1, 0, 1, 1, 0, 1, 0, 1, 1, 1, 1, 0, 1, 0, 1, 0, 0, 0, 0, 0, 0, 0], [1, 0, 1, 0, 0, 1, 0, 1, 0, 0, 0, 0, 1, 0, 1, 0, 0, 1, 0, 1, 0, 0, 0, 0, 0, 0, 0, 0, 0, 0, 0], [1, 0, 1, 0, 0, 1, 0, 1, 0, 0, 0, 0, 0, 0, 0, 0, 0, 0, 0, 0, 0, 0, 0, 0, 0, 0, 0, 0, 0, 0, 0], [1, 0, 1, 0, 0, 0, 0, 0, 0, 0, 0, 0, 0, 0, 0, 0, 0, 0, 0, 0, 0, 0, 0, 0, 0, 0, 0, 0, 0, 0, 0], [1, 0, 0, 0, 0, 0, 0, 0, 0, 0, 0, 0, 0, 0, 0, 0, 0, 0, 0, 0, 0, 0, 0, 0, 0, 0, 0, 0, 0, 0, 0]]\n"
     ]
    }
   ],
   "source": [
    "def isSubsetSumTab(N: int, arr: list[int], target: int) -> bool:\n",
    "    \"\"\"\n",
    "    Each cell in the dp represents -> If total - arr[i] is true down the line.\n",
    "    Note that dp[i][0] is always true, since if the target is to be 0 regardless of arr[i] tehn subsetSumTarget is possible.\n",
    "    \"\"\"\n",
    "    dp: list[list[int]] = [[1 if j == 0 else -1 if i < N else 0 for j in range(target + 1)] for i in range(N + 1)]\n",
    "\n",
    "    for i in range(N - 1, -1, -1):\n",
    "        for total in range(1, target + 1):\n",
    "            if dp[i + 1][total] == 1 or (total - arr[i] >= 0 and dp[i + 1][total - arr[i]] == 1):\n",
    "                dp[i][total] = 1\n",
    "            else:\n",
    "                dp[i][total] = 0\n",
    "\n",
    "    print(dp)\n",
    "    return bool(dp[0][target])\n",
    "\n",
    "# Testing the solution\n",
    "assert isSubsetSumTab(6, [3, 34, 4, 12, 5, 2], 9) == True\n",
    "assert isSubsetSumTab(6, [3, 34, 4, 12, 5, 2], 30) == False"
   ]
  },
  {
   "cell_type": "code",
   "execution_count": 31,
   "id": "ca80b369",
   "metadata": {
    "execution": {
     "iopub.execute_input": "2024-05-10T15:56:41.145594Z",
     "iopub.status.busy": "2024-05-10T15:56:41.145232Z",
     "iopub.status.idle": "2024-05-10T15:56:41.150110Z",
     "shell.execute_reply": "2024-05-10T15:56:41.149603Z"
    },
    "lines_to_next_cell": 1,
    "papermill": {
     "duration": 0.013395,
     "end_time": "2024-05-10T15:56:41.151130",
     "exception": false,
     "start_time": "2024-05-10T15:56:41.137735",
     "status": "completed"
    },
    "tags": []
   },
   "outputs": [],
   "source": [
    "def isSubsetSumSpaceOptimized(N: int, arr: list[int], target: int) -> bool:\n",
    "    \"Time: O(N x target), Space: O(target)\"\n",
    "    dp: list[int] = [0 if j > 0 else 1 for j in range(target + 1)]\n",
    "\n",
    "    for i in range(N - 1, -1, -1):\n",
    "        next_: list[int] = []\n",
    "        for total in range(target + 1):\n",
    "            if total == 0 or dp[total] == 1 or (total - arr[i] >= 0 and dp[total - arr[i]] == 1):\n",
    "                next_.append(1)\n",
    "            else:\n",
    "                next_.append(0)\n",
    "\n",
    "        dp = next_\n",
    "\n",
    "    return bool(dp[target])\n",
    "\n",
    "# Testing the solution\n",
    "assert isSubsetSumSpaceOptimized(6, [3, 34, 4, 12, 5, 2], 9) == True\n",
    "assert isSubsetSumSpaceOptimized(6, [3, 34, 4, 12, 5, 2], 30) == False"
   ]
  },
  {
   "cell_type": "markdown",
   "id": "7a10f4ca",
   "metadata": {
    "papermill": {
     "duration": 0.006863,
     "end_time": "2024-05-10T15:56:41.164910",
     "exception": false,
     "start_time": "2024-05-10T15:56:41.158047",
     "status": "completed"
    },
    "tags": []
   },
   "source": [
    "Partition equal subset sum: https://leetcode.com/problems/partition-equal-subset-sum/\n",
    "Video Link: https://youtu.be/7win3dcgo3k?si=LJO4Ot4EZzQ2fRc0"
   ]
  },
  {
   "cell_type": "code",
   "execution_count": 32,
   "id": "373088cf",
   "metadata": {
    "execution": {
     "iopub.execute_input": "2024-05-10T15:56:41.179649Z",
     "iopub.status.busy": "2024-05-10T15:56:41.179320Z",
     "iopub.status.idle": "2024-05-10T15:56:41.184360Z",
     "shell.execute_reply": "2024-05-10T15:56:41.183949Z"
    },
    "lines_to_next_cell": 1,
    "papermill": {
     "duration": 0.013576,
     "end_time": "2024-05-10T15:56:41.185421",
     "exception": false,
     "start_time": "2024-05-10T15:56:41.171845",
     "status": "completed"
    },
    "tags": []
   },
   "outputs": [],
   "source": [
    "# https://leetcode.com/problems/partition-equal-subset-sum/submissions/1253314239\n",
    "def canPartition(nums: list[int]) -> bool:\n",
    "    def subsetSumEqualsTarget(target: int) -> bool:\n",
    "        \"Time: O(N x target), Space: O(target)\"\n",
    "        dp: list[bool] = [False if i > 0 else True for i in range(target + 1)]\n",
    "        for i in range(N - 1, -1, -1):\n",
    "            next_: list[bool] = []\n",
    "            for total in range(target + 1):\n",
    "                if total == 0 or dp[total] or (total - nums[i] >= 0 and dp[total - nums[i]]):\n",
    "                    next_.append(True)\n",
    "                else:\n",
    "                    next_.append(False)\n",
    "\n",
    "            dp = next_\n",
    "\n",
    "        return dp[target]\n",
    "\n",
    "    N = len(nums)\n",
    "    total = sum(nums)\n",
    "    return total % 2 == 0 and subsetSumEqualsTarget(total // 2)\n",
    "\n",
    "# Testing the solution\n",
    "assert canPartition([1,5,11,5]) == True\n",
    "assert canPartition([1,2,3,5]) == False\n",
    "assert canPartition([3,3,3,4,5]) == True"
   ]
  },
  {
   "cell_type": "markdown",
   "id": "56f6a268",
   "metadata": {
    "papermill": {
     "duration": 0.007003,
     "end_time": "2024-05-10T15:56:41.199591",
     "exception": false,
     "start_time": "2024-05-10T15:56:41.192588",
     "status": "completed"
    },
    "tags": []
   },
   "source": [
    "Partition Array Into Two Arrays to Minimize Sum Difference\n",
    "Video link: https://youtu.be/GS_OqZb2CWc?si=Jtc2dP_dqmNi5Zli"
   ]
  },
  {
   "cell_type": "code",
   "execution_count": 33,
   "id": "00588c88",
   "metadata": {
    "execution": {
     "iopub.execute_input": "2024-05-10T15:56:41.214545Z",
     "iopub.status.busy": "2024-05-10T15:56:41.214157Z",
     "iopub.status.idle": "2024-05-10T15:56:41.219150Z",
     "shell.execute_reply": "2024-05-10T15:56:41.218708Z"
    },
    "lines_to_next_cell": 1,
    "papermill": {
     "duration": 0.013574,
     "end_time": "2024-05-10T15:56:41.220171",
     "exception": false,
     "start_time": "2024-05-10T15:56:41.206597",
     "status": "completed"
    },
    "tags": []
   },
   "outputs": [],
   "source": [
    "def minimumDifferenceBrute(nums: list[int]) -> int:\n",
    "    \"\"\"\n",
    "    Throws a TLE :(\n",
    "    \"\"\"\n",
    "    N, total_sum = len(nums), sum(nums)\n",
    "    subset_length = N // 2\n",
    "\n",
    "    @functools.cache\n",
    "    def backtrack(i: int, subset_sum: int, count: int) -> float:\n",
    "        if count == subset_length:\n",
    "            return abs(2 * subset_sum - total_sum)\n",
    "        elif i == N:\n",
    "            return math.inf\n",
    "        else:\n",
    "            return min(backtrack(i + 1, subset_sum + nums[i], count + 1), backtrack(i + 1, subset_sum, count))\n",
    "\n",
    "    result = int(backtrack(0, 0, 0))\n",
    "    return result\n",
    "\n",
    "# Testing the solution\n",
    "assert minimumDifferenceBrute([3,9,7,3]) == 2\n",
    "assert minimumDifferenceBrute([-36,36]) == 72\n",
    "assert minimumDifferenceBrute([2,-1,0,4,-2,-9]) == 0"
   ]
  },
  {
   "cell_type": "code",
   "execution_count": 34,
   "id": "97c34ef1",
   "metadata": {
    "execution": {
     "iopub.execute_input": "2024-05-10T15:56:41.235214Z",
     "iopub.status.busy": "2024-05-10T15:56:41.234789Z",
     "iopub.status.idle": "2024-05-10T15:56:41.241632Z",
     "shell.execute_reply": "2024-05-10T15:56:41.241191Z"
    },
    "lines_to_next_cell": 1,
    "papermill": {
     "duration": 0.015525,
     "end_time": "2024-05-10T15:56:41.242709",
     "exception": false,
     "start_time": "2024-05-10T15:56:41.227184",
     "status": "completed"
    },
    "tags": []
   },
   "outputs": [],
   "source": [
    "def minimumDifference(nums: list[int]) -> int:\n",
    "    \"\"\"\n",
    "    Use the DP tabulation approach we used to check if a subset with target sum exists. Still Memory limit exceeded.\n",
    "    Note that this is different the one on the video. This solution is leetcode specific. In the video by Striver, the values can only be positive. Further more we can split into any size.\n",
    "    In LC however, the subset must be split into 2 halves, values can be both positive and negative.\n",
    "    \"\"\"\n",
    "\n",
    "    N, total_abs_sum, total_sum = len(nums), sum(map(abs, nums)), sum(nums)\n",
    "\n",
    "    # Each value represents the length of subset summing up to target. -1 if cannot be reached.\n",
    "    dp: list[int] = [-1 if j != 0 else 0 for j in range(-total_abs_sum, total_abs_sum + 1)]\n",
    "\n",
    "    for i in range(N - 1, -1, -1):\n",
    "        next_dp: list[int] = []\n",
    "        for target in range(-total_abs_sum, total_abs_sum + 1):\n",
    "            # Pick, subset length incremented by 1\n",
    "            if 0 <= target - nums[i] + total_abs_sum <= 2 * total_abs_sum and dp[target - nums[i] + total_abs_sum] != -1:\n",
    "                subset_length = dp[target - nums[i] + total_abs_sum] + 1\n",
    "                existing_length = dp[target + total_abs_sum]\n",
    "                next_dp.append(subset_length if existing_length != N // 2 else existing_length)\n",
    "            # No pick, hence subset length is unupdated\n",
    "            elif dp[target + total_abs_sum] != -1:\n",
    "                next_dp.append(dp[target + total_abs_sum])\n",
    "            # Base case\n",
    "            elif target == 0:\n",
    "                next_dp.append(0)\n",
    "            # Sum cannot be reached\n",
    "            else:\n",
    "                next_dp.append(-1)\n",
    "\n",
    "        dp = next_dp\n",
    "\n",
    "    # Find out targets where value is N // 2\n",
    "    min_diff: float = math.inf\n",
    "    for subset_sum, subset_length in enumerate(dp, start=-total_abs_sum):\n",
    "        if subset_length == N // 2:\n",
    "            min_diff = min(min_diff, abs(2 * subset_sum - total_sum))\n",
    "\n",
    "    return int(min_diff)\n",
    "\n",
    "# Testing the solution\n",
    "assert minimumDifference([3,9,7,3]) == 2\n",
    "assert minimumDifference([-36,36]) == 72\n",
    "assert minimumDifference([2,-1,0,4,-2,-9]) == 0"
   ]
  },
  {
   "cell_type": "code",
   "execution_count": 35,
   "id": "54752ee1",
   "metadata": {
    "execution": {
     "iopub.execute_input": "2024-05-10T15:56:41.257565Z",
     "iopub.status.busy": "2024-05-10T15:56:41.257368Z",
     "iopub.status.idle": "2024-05-10T15:56:41.262525Z",
     "shell.execute_reply": "2024-05-10T15:56:41.262041Z"
    },
    "lines_to_next_cell": 1,
    "papermill": {
     "duration": 0.013799,
     "end_time": "2024-05-10T15:56:41.263541",
     "exception": false,
     "start_time": "2024-05-10T15:56:41.249742",
     "status": "completed"
    },
    "tags": []
   },
   "outputs": [],
   "source": [
    "def minSubsetSumDifference(arr: list[int], N: int) -> int:\n",
    "    # Compute max total sum\n",
    "    total_sum: int = sum(arr)\n",
    "\n",
    "    # Compute DP grid for all possible subset sums\n",
    "    dp: list[bool] = [False if i > 0 else True for i in range(total_sum + 1)]\n",
    "    for i in range(N - 1, -1, -1):\n",
    "        next_dp: list[bool] = []\n",
    "        for target in range(total_sum + 1):\n",
    "            if target == 0 or dp[target] or (target - arr[i] >= 0 and dp[target - arr[i]]):\n",
    "                next_dp.append(True)\n",
    "            else:\n",
    "                next_dp.append(False)\n",
    "        dp = next_dp\n",
    "\n",
    "    # Compute the minimum subset difference\n",
    "    min_diff: int = total_sum\n",
    "\n",
    "    # total_sum / 2 since it is enough if we computed one half, diff of sum from total sum would cover the other half as well\n",
    "    for target in range(math.ceil(total_sum / 2) + 1):\n",
    "        if dp[target]:\n",
    "            min_diff = min(min_diff, abs(2 * target - total_sum))\n",
    "\n",
    "    return min_diff\n",
    "\n",
    "# Testing the solution\n",
    "assert minSubsetSumDifference([8,6,5], 3) == 3"
   ]
  },
  {
   "cell_type": "markdown",
   "id": "884d535e",
   "metadata": {
    "papermill": {
     "duration": 0.006942,
     "end_time": "2024-05-10T15:56:41.277562",
     "exception": false,
     "start_time": "2024-05-10T15:56:41.270620",
     "status": "completed"
    },
    "tags": []
   },
   "source": [
    "Count subsets with sum k"
   ]
  },
  {
   "cell_type": "code",
   "execution_count": 36,
   "id": "534b55bb",
   "metadata": {
    "execution": {
     "iopub.execute_input": "2024-05-10T15:56:41.292284Z",
     "iopub.status.busy": "2024-05-10T15:56:41.292116Z",
     "iopub.status.idle": "2024-05-10T15:56:41.297517Z",
     "shell.execute_reply": "2024-05-10T15:56:41.297073Z"
    },
    "lines_to_next_cell": 1,
    "papermill": {
     "duration": 0.014077,
     "end_time": "2024-05-10T15:56:41.298592",
     "exception": false,
     "start_time": "2024-05-10T15:56:41.284515",
     "status": "completed"
    },
    "tags": []
   },
   "outputs": [],
   "source": [
    "def perfectSumMemo(nums: list[int], N: int, K: int):\n",
    "    \"\"\"\n",
    "    Time: O(N * K) + O(N); Space: O(N * K)\n",
    "    \"\"\"\n",
    "\n",
    "    # Filter out all the zeros\n",
    "    arr: list[int] = []\n",
    "    N = zero_count = 0\n",
    "    for n in nums:\n",
    "        if n > 0:\n",
    "            arr.append(n)\n",
    "            N += 1\n",
    "        else:\n",
    "            zero_count += 1\n",
    "\n",
    "    # Compute the results and store it to a list\n",
    "    dp: list[list[int]] = [[-1 for j in range(K + 1)] for i in range(N)]\n",
    "\n",
    "    # Recursively find the solution\n",
    "    def backtrack(i: int, total: int) -> int:\n",
    "        if total == K:\n",
    "            return 1\n",
    "        elif i >= N or total > K:\n",
    "            return 0\n",
    "        elif dp[i][total] != -1:\n",
    "            return dp[i][total]\n",
    "        else:\n",
    "            result = backtrack(i + 1, total + arr[i]) + backtrack(i + 1, total)\n",
    "            dp[i][total] = result\n",
    "            return result\n",
    "\n",
    "    return backtrack(0, 0) * (2 ** zero_count)\n",
    "\n",
    "# Testing the solution\n",
    "assert perfectSumMemo([5, 2, 3, 10, 6, 8], 6, 10) == 3\n",
    "assert perfectSumMemo([1, 0], 2, 1) == 2"
   ]
  },
  {
   "cell_type": "code",
   "execution_count": 37,
   "id": "dee4da2c",
   "metadata": {
    "execution": {
     "iopub.execute_input": "2024-05-10T15:56:41.313783Z",
     "iopub.status.busy": "2024-05-10T15:56:41.313587Z",
     "iopub.status.idle": "2024-05-10T15:56:41.319187Z",
     "shell.execute_reply": "2024-05-10T15:56:41.318675Z"
    },
    "lines_to_next_cell": 1,
    "papermill": {
     "duration": 0.014497,
     "end_time": "2024-05-10T15:56:41.320249",
     "exception": false,
     "start_time": "2024-05-10T15:56:41.305752",
     "status": "completed"
    },
    "tags": []
   },
   "outputs": [],
   "source": [
    "def perfectSumTabulation(nums: list[int], N: int, K: int):\n",
    "    # Filter out all the zeros\n",
    "    arr: list[int] = []\n",
    "    N = zero_count = 0\n",
    "    for n in nums:\n",
    "        if n > 0:\n",
    "            arr.append(n)\n",
    "            N += 1\n",
    "        else:\n",
    "            zero_count += 1\n",
    "\n",
    "    # Initialize a DP array\n",
    "    dp: list[list[int]] = [[-1 if j < K else 1 for j in range(K + 1)] for i in range(N)]\n",
    "    dp.append([0 if j < K else 1 for j in range(K + 1)])\n",
    "\n",
    "    # Traverse through grid\n",
    "    for i in range(N - 1, -1, -1):\n",
    "        for total in range(K):\n",
    "            dp[i][total] = dp[i + 1][total]\n",
    "            if total + arr[i] <= K:\n",
    "                dp[i][total] += dp[i + 1][total + arr[i]]\n",
    "\n",
    "    return dp[0][0] * (2 ** zero_count)\n",
    "\n",
    "# Testing the solution\n",
    "assert perfectSumTabulation([5, 2, 3, 10, 6, 8], 6, 10) == 3\n",
    "assert perfectSumTabulation([1, 0], 2, 1) == 2"
   ]
  },
  {
   "cell_type": "code",
   "execution_count": 38,
   "id": "2d2468ad",
   "metadata": {
    "execution": {
     "iopub.execute_input": "2024-05-10T15:56:41.335417Z",
     "iopub.status.busy": "2024-05-10T15:56:41.335000Z",
     "iopub.status.idle": "2024-05-10T15:56:41.339924Z",
     "shell.execute_reply": "2024-05-10T15:56:41.339496Z"
    },
    "lines_to_next_cell": 1,
    "papermill": {
     "duration": 0.013669,
     "end_time": "2024-05-10T15:56:41.341010",
     "exception": false,
     "start_time": "2024-05-10T15:56:41.327341",
     "status": "completed"
    },
    "tags": []
   },
   "outputs": [],
   "source": [
    "def perfectSum(nums: list[int], N: int, K: int):\n",
    "    # Filter out all the zeros\n",
    "    arr: list[int] = []\n",
    "    N = zero_count = 0\n",
    "    for n in nums:\n",
    "        if n > 0:\n",
    "            arr.append(n)\n",
    "            N += 1\n",
    "        else:\n",
    "            zero_count += 1\n",
    "\n",
    "    # Initialize a DP array\n",
    "    dp: list[int] = [0 if j < K else 1 for j in range(K + 1)]\n",
    "\n",
    "    # Traverse through grid\n",
    "    for i in range(N - 1, -1, -1):\n",
    "        next_dp: list[int] = []\n",
    "        for total in range(K + 1):\n",
    "            next_dp.append(dp[total])\n",
    "            if total + arr[i] <= K:\n",
    "                next_dp[-1] += dp[total + arr[i]]\n",
    "\n",
    "        dp = next_dp\n",
    "\n",
    "    return dp[0] * (2 ** zero_count)\n",
    "\n",
    "# Testing the solution\n",
    "assert perfectSum([5, 2, 3, 10, 6, 8], 6, 10) == 3\n",
    "assert perfectSum([1, 0], 2, 1) == 2"
   ]
  },
  {
   "cell_type": "markdown",
   "id": "2bff8c7f",
   "metadata": {
    "papermill": {
     "duration": 0.007107,
     "end_time": "2024-05-10T15:56:41.355272",
     "exception": false,
     "start_time": "2024-05-10T15:56:41.348165",
     "status": "completed"
    },
    "tags": []
   },
   "source": [
    "Count Paritions with given difference: https://youtu.be/zoilQD1kYSg?si=F8PFSkzkZXEsFJ2N"
   ]
  },
  {
   "cell_type": "code",
   "execution_count": 39,
   "id": "051bd113",
   "metadata": {
    "execution": {
     "iopub.execute_input": "2024-05-10T15:56:41.370436Z",
     "iopub.status.busy": "2024-05-10T15:56:41.370037Z",
     "iopub.status.idle": "2024-05-10T15:56:41.374934Z",
     "shell.execute_reply": "2024-05-10T15:56:41.374391Z"
    },
    "lines_to_next_cell": 1,
    "papermill": {
     "duration": 0.013717,
     "end_time": "2024-05-10T15:56:41.376092",
     "exception": false,
     "start_time": "2024-05-10T15:56:41.362375",
     "status": "completed"
    },
    "tags": []
   },
   "outputs": [],
   "source": [
    "def countPartitionsMemo(N: int, diff: int, arr: list[int]) -> int:\n",
    "    \"\"\"\n",
    "    s1 + s2 = S\n",
    "    s1 - s2 = d\n",
    "    2 * s1 = S + d\n",
    "\n",
    "    Time: O(N x target) + O(N)\n",
    "    Space: O(N x target)\n",
    "    \"\"\"\n",
    "\n",
    "    # Simply check if the target exists\n",
    "    target = (sum(arr) + diff) / 2\n",
    "\n",
    "    # Count all subset sums equals target\n",
    "    @functools.cache\n",
    "    def backtrack(i: int, total: int) -> int:\n",
    "        if i == N:\n",
    "            return total == target\n",
    "        elif total > target:\n",
    "            return 0\n",
    "        else:\n",
    "            return backtrack(i + 1, total + arr[i]) + backtrack(i + 1, total)\n",
    "\n",
    "    result = backtrack(0, 0) if target == int(target) else 0\n",
    "    MOD = int(1e9 + 7)\n",
    "    return result % MOD\n",
    "\n",
    "# Testing the solution\n",
    "assert countPartitionsMemo(4, 0, [1,1,1,1]) == 6\n",
    "assert countPartitionsMemo(4, 3, [5,2,6,4]) == 1\n",
    "assert countPartitionsMemo(5, 5, [1,3,3,2,1]) == 0"
   ]
  },
  {
   "cell_type": "code",
   "execution_count": 40,
   "id": "4cd9fbc1",
   "metadata": {
    "execution": {
     "iopub.execute_input": "2024-05-10T15:56:41.391584Z",
     "iopub.status.busy": "2024-05-10T15:56:41.391180Z",
     "iopub.status.idle": "2024-05-10T15:56:41.396719Z",
     "shell.execute_reply": "2024-05-10T15:56:41.396276Z"
    },
    "lines_to_next_cell": 1,
    "papermill": {
     "duration": 0.014431,
     "end_time": "2024-05-10T15:56:41.397729",
     "exception": false,
     "start_time": "2024-05-10T15:56:41.383298",
     "status": "completed"
    },
    "tags": []
   },
   "outputs": [],
   "source": [
    "def countPartitionsTabulation(N: int, diff: int, arr: list[int]) -> int:\n",
    "    \"\"\"\n",
    "    Time: O(N x target), Space: O(N x target)\n",
    "    \"\"\"\n",
    "    # Simply check if the target exists\n",
    "    target_: float = (sum(arr) + diff) / 2\n",
    "    MOD = int(1e9 + 7)\n",
    "\n",
    "    if int(target_) != target_:\n",
    "        return 0\n",
    "\n",
    "    else:\n",
    "\n",
    "        # Convert to int for typing support\n",
    "        target = int(target_)\n",
    "\n",
    "        # Initialize DP array for tabulation\n",
    "        dp: list[list[int]] = [[0 if j != target or i != N else 1 for j in range(target + 1)] for i in range(N + 1)]\n",
    "\n",
    "        # Iterate through DP and find the solution\n",
    "        for i in range(N - 1, -1, -1):\n",
    "            for total in range(target + 1):\n",
    "                dp[i][total] = dp[i + 1][total]\n",
    "                if total + arr[i] <= target:\n",
    "                    dp[i][total] += dp[i + 1][total + arr[i]]\n",
    "\n",
    "        return dp[0][0]\n",
    "\n",
    "# Testing the solution\n",
    "assert countPartitionsTabulation(4, 3, [5,2,6,4]) == 1\n",
    "assert countPartitionsTabulation(4, 3, [5,2,6,4]) == 1\n",
    "assert countPartitionsTabulation(5, 5, [1,3,3,2,1]) == 0"
   ]
  },
  {
   "cell_type": "code",
   "execution_count": 41,
   "id": "09aacbe5",
   "metadata": {
    "execution": {
     "iopub.execute_input": "2024-05-10T15:56:41.413074Z",
     "iopub.status.busy": "2024-05-10T15:56:41.412703Z",
     "iopub.status.idle": "2024-05-10T15:56:41.418155Z",
     "shell.execute_reply": "2024-05-10T15:56:41.417647Z"
    },
    "papermill": {
     "duration": 0.014367,
     "end_time": "2024-05-10T15:56:41.419303",
     "exception": false,
     "start_time": "2024-05-10T15:56:41.404936",
     "status": "completed"
    },
    "tags": []
   },
   "outputs": [],
   "source": [
    "def countPartitions(N: int, diff: int, arr: list[int]) -> int:\n",
    "    # Simply check if the target exists\n",
    "    target_: float = (sum(arr) + diff) / 2\n",
    "    MOD = int(1e9 + 7)\n",
    "\n",
    "    if int(target_) != target_:\n",
    "        return 0\n",
    "\n",
    "    else:\n",
    "        # Convert to int for type hinting\n",
    "        target = int(target_)\n",
    "\n",
    "        # Create a 1D grid (space optimized)\n",
    "        dp: list[int] = [0 if j != target else 1 for j in range(target + 1)]\n",
    "\n",
    "        # Iterate through DP\n",
    "        for i in range(N - 1, -1, -1):\n",
    "            next_dp: list[int] = []\n",
    "            for total in range(target + 1):\n",
    "                next_dp.append(dp[total])\n",
    "                if total + arr[i] <= target:\n",
    "                    next_dp[-1] += dp[total + arr[i]]\n",
    "\n",
    "            dp = next_dp\n",
    "\n",
    "        return dp[0] % MOD\n",
    "\n",
    "# Testing the solution\n",
    "assert countPartitions(4, 3, [5,2,6,4]) == 1\n",
    "assert countPartitions(4, 3, [5,2,6,4]) == 1\n",
    "assert countPartitions(5, 5, [1,3,3,2,1]) == 0"
   ]
  }
 ],
 "metadata": {
  "kernelspec": {
   "display_name": "Python 3 (ipykernel)",
   "language": "python",
   "name": "python3"
  },
  "language_info": {
   "codemirror_mode": {
    "name": "ipython",
    "version": 3
   },
   "file_extension": ".py",
   "mimetype": "text/x-python",
   "name": "python",
   "nbconvert_exporter": "python",
   "pygments_lexer": "ipython3",
   "version": "3.11.9"
  },
  "papermill": {
   "default_parameters": {},
   "duration": 2.370487,
   "end_time": "2024-05-10T15:56:41.541934",
   "environment_variables": {},
   "exception": null,
   "input_path": "study/striver-A2Z/13-dp.ipynb",
   "output_path": "study/striver-A2Z/13-dp.ipynb",
   "parameters": {},
   "start_time": "2024-05-10T15:56:39.171447",
   "version": "2.6.0"
  }
 },
 "nbformat": 4,
 "nbformat_minor": 5
}