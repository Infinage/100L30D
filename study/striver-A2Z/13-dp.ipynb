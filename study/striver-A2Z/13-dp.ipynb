{
 "cells": [
  {
   "cell_type": "markdown",
   "id": "807dd9ee",
   "metadata": {
    "papermill": {
     "duration": 0.014206,
     "end_time": "2024-05-15T17:31:03.239511",
     "exception": false,
     "start_time": "2024-05-15T17:31:03.225305",
     "status": "completed"
    },
    "tags": []
   },
   "source": [
    "Important notes\n",
    "- All subset based problems (non contigous subarrays would have the pick/nopick approach)\n",
    "- To convert a memoization solution to tabulation:\n",
    "  1. Find the base case and assign the the DP\n",
    "  2. Start iterating from the base case all the way to our starting point\n",
    "  3. Return the value at the starting point\n",
    "- We can space optimize a tabulation solution whenever we see only the prev/next rows being used in the tabualation solution.\n",
    "- Time complexity of unmemoized DP code is typically exponential O(number of branches ** N)\n",
    "- All subsets problem involve recursion trying all combinations: Pick, no pick\n",
    "- For problems where there is an infinite supply, take would increase total but remain at the same index.\n",
    "- For problems involving counts, we try all possb combinations and base case would either return 1 or 0."
   ]
  },
  {
   "cell_type": "markdown",
   "id": "457ab51f",
   "metadata": {
    "papermill": {
     "duration": 0.011963,
     "end_time": "2024-05-15T17:31:03.263648",
     "exception": false,
     "start_time": "2024-05-15T17:31:03.251685",
     "status": "completed"
    },
    "tags": []
   },
   "source": [
    "### Some important imports"
   ]
  },
  {
   "cell_type": "code",
   "execution_count": 1,
   "id": "164d751b",
   "metadata": {
    "execution": {
     "iopub.execute_input": "2024-05-15T17:31:03.288943Z",
     "iopub.status.busy": "2024-05-15T17:31:03.288544Z",
     "iopub.status.idle": "2024-05-15T17:31:03.293944Z",
     "shell.execute_reply": "2024-05-15T17:31:03.293518Z"
    },
    "lines_to_next_cell": 1,
    "papermill": {
     "duration": 0.019396,
     "end_time": "2024-05-15T17:31:03.295057",
     "exception": false,
     "start_time": "2024-05-15T17:31:03.275661",
     "status": "completed"
    },
    "tags": []
   },
   "outputs": [],
   "source": [
    "import functools\n",
    "import itertools\n",
    "import collections\n",
    "import math\n",
    "import heapq"
   ]
  },
  {
   "cell_type": "markdown",
   "id": "48648354",
   "metadata": {
    "papermill": {
     "duration": 0.01243,
     "end_time": "2024-05-15T17:31:03.319984",
     "exception": false,
     "start_time": "2024-05-15T17:31:03.307554",
     "status": "completed"
    },
    "tags": []
   },
   "source": [
    "Introduction to DP: https://youtu.be/tyB0ztf0DNY?si=SgpBwGNqPXzdPSRA\n",
    "1. Tabulation: Bottom up DP: Ans -> Base case -> Ans\n",
    "2. Memoization: Top down DP: Base case -> Ans"
   ]
  },
  {
   "cell_type": "code",
   "execution_count": 2,
   "id": "41c46591",
   "metadata": {
    "execution": {
     "iopub.execute_input": "2024-05-15T17:31:03.345771Z",
     "iopub.status.busy": "2024-05-15T17:31:03.345229Z",
     "iopub.status.idle": "2024-05-15T17:31:03.351630Z",
     "shell.execute_reply": "2024-05-15T17:31:03.351096Z"
    },
    "lines_to_next_cell": 1,
    "papermill": {
     "duration": 0.020607,
     "end_time": "2024-05-15T17:31:03.352738",
     "exception": false,
     "start_time": "2024-05-15T17:31:03.332131",
     "status": "completed"
    },
    "tags": []
   },
   "outputs": [
    {
     "data": {
      "text/plain": [
       "55"
      ]
     },
     "execution_count": 2,
     "metadata": {},
     "output_type": "execute_result"
    }
   ],
   "source": [
    "def fiboBrute(n: int) -> int:\n",
    "    \"\"\"\n",
    "    Vanilla recursion\n",
    "    Time: O(2 ^ N), Space: O(2 ^ N)\n",
    "    \"\"\"\n",
    "    if n <= 1:\n",
    "        return n\n",
    "    else:\n",
    "        return fiboBrute(n - 1) + fiboBrute(n - 2)\n",
    "\n",
    "fiboBrute(10)"
   ]
  },
  {
   "cell_type": "code",
   "execution_count": 3,
   "id": "83ba7cd5",
   "metadata": {
    "execution": {
     "iopub.execute_input": "2024-05-15T17:31:03.381604Z",
     "iopub.status.busy": "2024-05-15T17:31:03.381174Z",
     "iopub.status.idle": "2024-05-15T17:31:03.386749Z",
     "shell.execute_reply": "2024-05-15T17:31:03.386210Z"
    },
    "lines_to_next_cell": 1,
    "papermill": {
     "duration": 0.019991,
     "end_time": "2024-05-15T17:31:03.387882",
     "exception": false,
     "start_time": "2024-05-15T17:31:03.367891",
     "status": "completed"
    },
    "tags": []
   },
   "outputs": [
    {
     "data": {
      "text/plain": [
       "55"
      ]
     },
     "execution_count": 3,
     "metadata": {},
     "output_type": "execute_result"
    }
   ],
   "source": [
    "def fiboBetter1(n: int) -> int:\n",
    "    \"\"\"\n",
    "    Memoization Approach: Top down approach\n",
    "    Time: O(N), Space: O(N) + O(N)\n",
    "    \"\"\"\n",
    "    dp: list[int] = [-1 for i in range(n + 1)]\n",
    "    def backtrack(curr: int) -> int:\n",
    "        if curr <= 1:\n",
    "            return curr\n",
    "        elif dp[curr] != -1:\n",
    "            return dp[curr]\n",
    "        else:\n",
    "            dp[curr] = backtrack(curr - 1) + backtrack(curr - 2)\n",
    "            return dp[curr]\n",
    "\n",
    "    return backtrack(n)\n",
    "\n",
    "fiboBetter1(10)"
   ]
  },
  {
   "cell_type": "code",
   "execution_count": 4,
   "id": "80fded7e",
   "metadata": {
    "execution": {
     "iopub.execute_input": "2024-05-15T17:31:03.414712Z",
     "iopub.status.busy": "2024-05-15T17:31:03.414187Z",
     "iopub.status.idle": "2024-05-15T17:31:03.419158Z",
     "shell.execute_reply": "2024-05-15T17:31:03.418720Z"
    },
    "lines_to_next_cell": 1,
    "papermill": {
     "duration": 0.019469,
     "end_time": "2024-05-15T17:31:03.420251",
     "exception": false,
     "start_time": "2024-05-15T17:31:03.400782",
     "status": "completed"
    },
    "tags": []
   },
   "outputs": [
    {
     "data": {
      "text/plain": [
       "55"
      ]
     },
     "execution_count": 4,
     "metadata": {},
     "output_type": "execute_result"
    }
   ],
   "source": [
    "def fiboBetter2(n: int) -> int:\n",
    "    \"\"\"\n",
    "    Tabulation: Bottom up approach\n",
    "    Time: O(N), Space: O(N)\n",
    "    \"\"\"\n",
    "    dp: list[int] = [-1 if i > 1 else i for i in range(n + 1)]\n",
    "    for i in range(2, n + 1):\n",
    "        dp[i] = dp[i - 1] + dp[i - 2]\n",
    "\n",
    "    return dp[n]\n",
    "\n",
    "fiboBetter2(10)"
   ]
  },
  {
   "cell_type": "code",
   "execution_count": 5,
   "id": "8f7d86e2",
   "metadata": {
    "execution": {
     "iopub.execute_input": "2024-05-15T17:31:03.447049Z",
     "iopub.status.busy": "2024-05-15T17:31:03.446549Z",
     "iopub.status.idle": "2024-05-15T17:31:03.451334Z",
     "shell.execute_reply": "2024-05-15T17:31:03.450774Z"
    },
    "lines_to_next_cell": 1,
    "papermill": {
     "duration": 0.020067,
     "end_time": "2024-05-15T17:31:03.453096",
     "exception": false,
     "start_time": "2024-05-15T17:31:03.433029",
     "status": "completed"
    },
    "tags": []
   },
   "outputs": [
    {
     "data": {
      "text/plain": [
       "55"
      ]
     },
     "execution_count": 5,
     "metadata": {},
     "output_type": "execute_result"
    }
   ],
   "source": [
    "def fiboOptimal(n: int) -> int:\n",
    "    \"\"\"\n",
    "    Bottom up approach\n",
    "    Time: O(N), Space: O(1)\n",
    "    \"\"\"\n",
    "    prev2, prev1 = 0, 1\n",
    "    for i in range(2, n + 1):\n",
    "        prev2, prev1 = prev1, prev1 + prev2\n",
    "        n -= 1\n",
    "\n",
    "    return prev1\n",
    "\n",
    "fiboOptimal(10)"
   ]
  },
  {
   "cell_type": "markdown",
   "id": "855c35fb",
   "metadata": {
    "papermill": {
     "duration": 0.012931,
     "end_time": "2024-05-15T17:31:03.478828",
     "exception": false,
     "start_time": "2024-05-15T17:31:03.465897",
     "status": "completed"
    },
    "tags": []
   },
   "source": [
    "Climbing Stairs: https://leetcode.com/problems/climbing-stairs/\n",
    "Video Link: https://youtu.be/mLfjzJsN8us?si=C7W-jiYvql0mEnbh"
   ]
  },
  {
   "cell_type": "code",
   "execution_count": 6,
   "id": "87993489",
   "metadata": {
    "execution": {
     "iopub.execute_input": "2024-05-15T17:31:03.506919Z",
     "iopub.status.busy": "2024-05-15T17:31:03.506574Z",
     "iopub.status.idle": "2024-05-15T17:31:03.510818Z",
     "shell.execute_reply": "2024-05-15T17:31:03.510286Z"
    },
    "lines_to_next_cell": 1,
    "papermill": {
     "duration": 0.020114,
     "end_time": "2024-05-15T17:31:03.511890",
     "exception": false,
     "start_time": "2024-05-15T17:31:03.491776",
     "status": "completed"
    },
    "tags": []
   },
   "outputs": [],
   "source": [
    "def climbStairsBetter(n: int) -> int:\n",
    "    \"\"\"Time: O(N), Space: O(N)\"\"\"\n",
    "\n",
    "    dp: list[int] = [-1 for i in range(n + 1)]\n",
    "    def backtrack(curr: int) -> int:\n",
    "        if curr <= 1:\n",
    "            return 1\n",
    "        elif dp[curr] != -1:\n",
    "            return dp[curr]\n",
    "        else:\n",
    "            dp[curr] = backtrack(curr - 1) + backtrack(curr - 2)\n",
    "            return dp[curr]\n",
    "\n",
    "    return backtrack(n)\n",
    "\n",
    "assert climbStairsBetter(45) == 1836311903"
   ]
  },
  {
   "cell_type": "code",
   "execution_count": 7,
   "id": "2dc15ac3",
   "metadata": {
    "execution": {
     "iopub.execute_input": "2024-05-15T17:31:03.538649Z",
     "iopub.status.busy": "2024-05-15T17:31:03.538119Z",
     "iopub.status.idle": "2024-05-15T17:31:03.541628Z",
     "shell.execute_reply": "2024-05-15T17:31:03.541181Z"
    },
    "lines_to_next_cell": 1,
    "papermill": {
     "duration": 0.017972,
     "end_time": "2024-05-15T17:31:03.542693",
     "exception": false,
     "start_time": "2024-05-15T17:31:03.524721",
     "status": "completed"
    },
    "tags": []
   },
   "outputs": [],
   "source": [
    "def climbStairs(n: int) -> int:\n",
    "    \"\"\"Time: O(N), Space: O(1)\"\"\"\n",
    "    prev2, prev1 = 1, 1\n",
    "    while n > 0:\n",
    "        prev2, prev1 = prev1, prev1 + prev2\n",
    "        n -= 1\n",
    "\n",
    "    return prev2\n",
    "\n",
    "assert climbStairs(45) == 1836311903"
   ]
  },
  {
   "cell_type": "markdown",
   "id": "3cd4d88c",
   "metadata": {
    "papermill": {
     "duration": 0.012578,
     "end_time": "2024-05-15T17:31:03.568348",
     "exception": false,
     "start_time": "2024-05-15T17:31:03.555770",
     "status": "completed"
    },
    "tags": []
   },
   "source": [
    "Video link: https://youtu.be/EgG3jsGoPvQ?si=Cm5AVvq_zCnr-w6q\n",
    "Frog Jump: 1"
   ]
  },
  {
   "cell_type": "code",
   "execution_count": 8,
   "id": "59c27b1e",
   "metadata": {
    "execution": {
     "iopub.execute_input": "2024-05-15T17:31:03.594751Z",
     "iopub.status.busy": "2024-05-15T17:31:03.594240Z",
     "iopub.status.idle": "2024-05-15T17:31:03.599200Z",
     "shell.execute_reply": "2024-05-15T17:31:03.598684Z"
    },
    "lines_to_next_cell": 1,
    "papermill": {
     "duration": 0.019377,
     "end_time": "2024-05-15T17:31:03.600290",
     "exception": false,
     "start_time": "2024-05-15T17:31:03.580913",
     "status": "completed"
    },
    "tags": []
   },
   "outputs": [],
   "source": [
    "def frogJumpBetter(N: int, heights: list[int]) -> int:\n",
    "    \"\"\"\n",
    "    Time: O(N), Space: O(N) + O(N)\n",
    "    \"\"\"\n",
    "\n",
    "    @functools.cache\n",
    "    def backtrack(curr: int) -> int:\n",
    "        if curr == N - 1:\n",
    "            return 0\n",
    "        elif curr == N - 2:\n",
    "            return abs(heights[N - 1] - heights[N - 2])\n",
    "        else:\n",
    "            jump1 = abs(heights[curr] - heights[curr + 1]) + backtrack(curr + 1)\n",
    "            jump2 = abs(heights[curr] - heights[curr + 2]) + backtrack(curr + 2)\n",
    "            return min(jump1, jump2)\n",
    "\n",
    "    return backtrack(0)\n",
    "\n",
    "# Testing the solution\n",
    "assert frogJumpBetter(4, [10,20,30,10]) == 20\n",
    "assert frogJumpBetter(3, [10,50,10]) == 0"
   ]
  },
  {
   "cell_type": "code",
   "execution_count": 9,
   "id": "2bc52e04",
   "metadata": {
    "execution": {
     "iopub.execute_input": "2024-05-15T17:31:03.627362Z",
     "iopub.status.busy": "2024-05-15T17:31:03.626913Z",
     "iopub.status.idle": "2024-05-15T17:31:03.631300Z",
     "shell.execute_reply": "2024-05-15T17:31:03.630848Z"
    },
    "lines_to_next_cell": 1,
    "papermill": {
     "duration": 0.019295,
     "end_time": "2024-05-15T17:31:03.632426",
     "exception": false,
     "start_time": "2024-05-15T17:31:03.613131",
     "status": "completed"
    },
    "tags": []
   },
   "outputs": [],
   "source": [
    "def frogJumpOptimal(N: int, heights: list[int]) -> int:\n",
    "    \"Time: O(N), Space: O(1)\"\n",
    "    jump1, jump2 = abs(heights[-2] - heights[-1]), 0\n",
    "    for i in range(N - 3, -1, -1):\n",
    "        curr = min(abs(heights[i] - heights[i + 1]) + jump1, abs(heights[i] - heights[i + 2]) + jump2)\n",
    "        jump1, jump2 = curr, jump1\n",
    "\n",
    "    return jump1\n",
    "\n",
    "assert frogJumpOptimal(4, [10,20,30,10]) == 20\n",
    "assert frogJumpOptimal(3, [10,50,10]) == 0"
   ]
  },
  {
   "cell_type": "markdown",
   "id": "4fa38d19",
   "metadata": {
    "papermill": {
     "duration": 0.012767,
     "end_time": "2024-05-15T17:31:03.658207",
     "exception": false,
     "start_time": "2024-05-15T17:31:03.645440",
     "status": "completed"
    },
    "tags": []
   },
   "source": [
    "Video Link: https://youtu.be/Kmh3rhyEtB8?si=rqZ5-pJcjIzWU5i8\n",
    "Frog Jump with K distance"
   ]
  },
  {
   "cell_type": "code",
   "execution_count": 10,
   "id": "f21ca119",
   "metadata": {
    "execution": {
     "iopub.execute_input": "2024-05-15T17:31:03.704542Z",
     "iopub.status.busy": "2024-05-15T17:31:03.704148Z",
     "iopub.status.idle": "2024-05-15T17:31:03.709121Z",
     "shell.execute_reply": "2024-05-15T17:31:03.708587Z"
    },
    "lines_to_next_cell": 1,
    "papermill": {
     "duration": 0.03924,
     "end_time": "2024-05-15T17:31:03.710157",
     "exception": false,
     "start_time": "2024-05-15T17:31:03.670917",
     "status": "completed"
    },
    "tags": []
   },
   "outputs": [],
   "source": [
    "def frogJumpAtKDistBetter1(N: int, K: int, heights: list[int]) -> int:\n",
    "    \"\"\"\n",
    "    Memoization Approach: Top Down Approach\n",
    "    Time: O(N x K), Space: O(N) + O(N)\n",
    "    \"\"\"\n",
    "\n",
    "    @functools.cache\n",
    "    def backtrack(curr: int) -> int:\n",
    "        if curr >= N - 1:\n",
    "            return 0\n",
    "        else:\n",
    "            minCost = math.inf\n",
    "            for next_ in range(curr + 1, min(N, curr + K + 1)):\n",
    "                cost = abs(heights[curr] - heights[next_]) + backtrack(next_)\n",
    "                minCost = min(minCost, cost)\n",
    "\n",
    "            return int(minCost)\n",
    "\n",
    "    return backtrack(0)\n",
    "\n",
    "# Testing the solution\n",
    "assert frogJumpAtKDistBetter1(5, 3, [10,30,40,50,20]) == 30\n",
    "assert frogJumpAtKDistBetter1(3, 1, [10,20,10]) == 20"
   ]
  },
  {
   "cell_type": "code",
   "execution_count": 11,
   "id": "1b9a86c0",
   "metadata": {
    "execution": {
     "iopub.execute_input": "2024-05-15T17:31:03.737029Z",
     "iopub.status.busy": "2024-05-15T17:31:03.736619Z",
     "iopub.status.idle": "2024-05-15T17:31:03.741624Z",
     "shell.execute_reply": "2024-05-15T17:31:03.741116Z"
    },
    "lines_to_next_cell": 1,
    "papermill": {
     "duration": 0.019673,
     "end_time": "2024-05-15T17:31:03.742664",
     "exception": false,
     "start_time": "2024-05-15T17:31:03.722991",
     "status": "completed"
    },
    "tags": []
   },
   "outputs": [],
   "source": [
    "def frogJumpAtKDistBetter2(N: int, K: int, heights: list[int]) -> int:\n",
    "    \"\"\"\n",
    "    Tabulation: Bottom up approach\n",
    "    Time: O(N x K), Space: O(N)\n",
    "    \"\"\"\n",
    "\n",
    "    dp: list[int] = [-1 for i in range(N)]\n",
    "    dp[-1] = 0\n",
    "\n",
    "    for curr in range(N - 2, -1, -1):\n",
    "        minCost = math.inf\n",
    "        for next_ in range(curr + 1, min(N, curr + K + 1)):\n",
    "            cost = abs(heights[curr] - heights[next_]) + dp[next_]\n",
    "            minCost = min(minCost, cost)\n",
    "        dp[curr] = int(minCost)\n",
    "\n",
    "    return dp[0]\n",
    "\n",
    "# Testing the solution\n",
    "assert frogJumpAtKDistBetter2(5, 3, [10,30,40,50,20]) == 30\n",
    "assert frogJumpAtKDistBetter2(3, 1, [10,20,10]) == 20"
   ]
  },
  {
   "cell_type": "code",
   "execution_count": 12,
   "id": "09ca5d18",
   "metadata": {
    "execution": {
     "iopub.execute_input": "2024-05-15T17:31:03.769130Z",
     "iopub.status.busy": "2024-05-15T17:31:03.768818Z",
     "iopub.status.idle": "2024-05-15T17:31:03.773700Z",
     "shell.execute_reply": "2024-05-15T17:31:03.773254Z"
    },
    "lines_to_next_cell": 1,
    "papermill": {
     "duration": 0.019467,
     "end_time": "2024-05-15T17:31:03.774780",
     "exception": false,
     "start_time": "2024-05-15T17:31:03.755313",
     "status": "completed"
    },
    "tags": []
   },
   "outputs": [],
   "source": [
    "def frogJumpAtKDist(N: int, K: int, heights: list[int]) -> int:\n",
    "    \"\"\"\n",
    "    Tabulation: Bottom up approach\n",
    "    Time: O(N x K), Space: O(K)\n",
    "    \"\"\"\n",
    "\n",
    "    dp: collections.deque[int] = collections.deque([0])\n",
    "    for curr in range(N - 2, -1, -1):\n",
    "        minCost = math.inf\n",
    "        for jump in range(1, min(N - curr, K + 1)):\n",
    "            next_ = curr + jump\n",
    "            cost = abs(heights[curr] - heights[next_]) + dp[jump - 1]\n",
    "            minCost = min(minCost, cost)\n",
    "\n",
    "        dp.appendleft(int(minCost))\n",
    "        if len(dp) > K:\n",
    "            dp.pop()\n",
    "\n",
    "    return dp[0]\n",
    "\n",
    "# Testing the solution\n",
    "assert frogJumpAtKDist(5, 3, [10,30,40,50,20]) == 30\n",
    "assert frogJumpAtKDist(3, 1, [10,20,10]) == 20"
   ]
  },
  {
   "cell_type": "markdown",
   "id": "259d53f8",
   "metadata": {
    "papermill": {
     "duration": 0.01269,
     "end_time": "2024-05-15T17:31:03.800324",
     "exception": false,
     "start_time": "2024-05-15T17:31:03.787634",
     "status": "completed"
    },
    "tags": []
   },
   "source": [
    "Maximum sum of Non Adjacent Elements: House Robber\n",
    "Video Link: https://youtu.be/GrMBfJNk_NY?si=IPuGJglc0axETveU"
   ]
  },
  {
   "cell_type": "code",
   "execution_count": 13,
   "id": "89d8dea7",
   "metadata": {
    "execution": {
     "iopub.execute_input": "2024-05-15T17:31:03.826928Z",
     "iopub.status.busy": "2024-05-15T17:31:03.826421Z",
     "iopub.status.idle": "2024-05-15T17:31:03.830423Z",
     "shell.execute_reply": "2024-05-15T17:31:03.829963Z"
    },
    "lines_to_next_cell": 1,
    "papermill": {
     "duration": 0.018548,
     "end_time": "2024-05-15T17:31:03.831546",
     "exception": false,
     "start_time": "2024-05-15T17:31:03.812998",
     "status": "completed"
    },
    "tags": []
   },
   "outputs": [],
   "source": [
    "def robMemo(nums: list[int]) -> int:\n",
    "    \"\"\"\n",
    "    Memoization: Top down approach\n",
    "    Time: O(N), Space: O(N)\n",
    "    \"\"\"\n",
    "\n",
    "    @functools.cache\n",
    "    def backtrack(curr: int) -> int:\n",
    "        if curr >= N:\n",
    "            return 0\n",
    "        else:\n",
    "            return max(backtrack(curr + 1), nums[curr] + backtrack(curr + 2))\n",
    "\n",
    "    N = len(nums)\n",
    "    return backtrack(0)\n",
    "\n",
    "# Testing the solution\n",
    "assert robMemo([2,7,9,3,1]) == 12"
   ]
  },
  {
   "cell_type": "code",
   "execution_count": 14,
   "id": "e69063ac",
   "metadata": {
    "execution": {
     "iopub.execute_input": "2024-05-15T17:31:03.858937Z",
     "iopub.status.busy": "2024-05-15T17:31:03.858480Z",
     "iopub.status.idle": "2024-05-15T17:31:03.862845Z",
     "shell.execute_reply": "2024-05-15T17:31:03.862391Z"
    },
    "lines_to_next_cell": 1,
    "papermill": {
     "duration": 0.01933,
     "end_time": "2024-05-15T17:31:03.863971",
     "exception": false,
     "start_time": "2024-05-15T17:31:03.844641",
     "status": "completed"
    },
    "tags": []
   },
   "outputs": [],
   "source": [
    "def robTab(nums: list[int]) -> int:\n",
    "    \"\"\"\n",
    "    Tabulation: Bottom up approach\n",
    "    Time: O(N), Space: O(N)\n",
    "    \"\"\"\n",
    "    N = len(nums)\n",
    "    dp: list[int] = [-1 for i in range(N + 1)]\n",
    "    dp[-1], dp[-2] = 0, nums[-1]\n",
    "    for curr in range(N - 2, -1, -1):\n",
    "        dp[curr] = max(nums[curr] + dp[curr + 2], dp[curr + 1])\n",
    "\n",
    "    return dp[0]\n",
    "\n",
    "# Testing the solution\n",
    "assert robTab([2,7,9,3,1]) == 12"
   ]
  },
  {
   "cell_type": "code",
   "execution_count": 15,
   "id": "d3ac1b1c",
   "metadata": {
    "execution": {
     "iopub.execute_input": "2024-05-15T17:31:03.891010Z",
     "iopub.status.busy": "2024-05-15T17:31:03.890564Z",
     "iopub.status.idle": "2024-05-15T17:31:03.894222Z",
     "shell.execute_reply": "2024-05-15T17:31:03.893782Z"
    },
    "lines_to_next_cell": 1,
    "papermill": {
     "duration": 0.01831,
     "end_time": "2024-05-15T17:31:03.895336",
     "exception": false,
     "start_time": "2024-05-15T17:31:03.877026",
     "status": "completed"
    },
    "tags": []
   },
   "outputs": [],
   "source": [
    "# https://leetcode.com/problems/house-robber/submissions/1249841355/\n",
    "def robSpaceOptimized(nums: list[int]) -> int:\n",
    "    \"Time: O(N), Space: O(1)\"\n",
    "    next1 = next2 = 0\n",
    "    for curr in range(len(nums) - 1, -1, -1):\n",
    "        next1, next2 = max(nums[curr] + next2, next1), next1\n",
    "\n",
    "    return next1\n",
    "\n",
    "assert robSpaceOptimized([2,7,9,3,1]) == 12"
   ]
  },
  {
   "cell_type": "markdown",
   "id": "630eec21",
   "metadata": {
    "papermill": {
     "duration": 0.012721,
     "end_time": "2024-05-15T17:31:03.920866",
     "exception": false,
     "start_time": "2024-05-15T17:31:03.908145",
     "status": "completed"
    },
    "tags": []
   },
   "source": [
    "House Robber 2: https://youtu.be/3WaxQMELSkw?si=i9oGKnDJGJxvUjbu\n",
    "https://leetcode.com/problems/house-robber-ii/submissions/1249888930"
   ]
  },
  {
   "cell_type": "code",
   "execution_count": 16,
   "id": "3ee7a5cf",
   "metadata": {
    "execution": {
     "iopub.execute_input": "2024-05-15T17:31:03.947927Z",
     "iopub.status.busy": "2024-05-15T17:31:03.947648Z",
     "iopub.status.idle": "2024-05-15T17:31:03.952243Z",
     "shell.execute_reply": "2024-05-15T17:31:03.951708Z"
    },
    "lines_to_next_cell": 1,
    "papermill": {
     "duration": 0.019872,
     "end_time": "2024-05-15T17:31:03.953417",
     "exception": false,
     "start_time": "2024-05-15T17:31:03.933545",
     "status": "completed"
    },
    "tags": []
   },
   "outputs": [],
   "source": [
    "def rob2(nums: list[int]) -> int:\n",
    "    \"\"\"\n",
    "    Ans cannot contain both the first and the last house.\n",
    "    It can contain either the first or the last house.\n",
    "    \"\"\"\n",
    "    def rob(arr: list[int]) -> int:\n",
    "        next1 = next2 = 0\n",
    "        for curr in range(len(arr) - 1, -1, -1):\n",
    "            next1, next2 = max(arr[curr] + next2, next1), next1\n",
    "\n",
    "        return next1\n",
    "\n",
    "    return max(rob(nums[1:]), rob(nums[:-1])) if len(nums) > 1 else sum(nums)\n",
    "\n",
    "# Testing the solution\n",
    "assert rob2([1,2,3,1]) == 4\n",
    "assert rob2([]) == 0"
   ]
  },
  {
   "cell_type": "markdown",
   "id": "52745498",
   "metadata": {
    "papermill": {
     "duration": 0.012957,
     "end_time": "2024-05-15T17:31:03.979561",
     "exception": false,
     "start_time": "2024-05-15T17:31:03.966604",
     "status": "completed"
    },
    "tags": []
   },
   "source": [
    "Ninja's Training: https://youtu.be/AE39gJYuRog?si=n4BhCotno-9chP5j"
   ]
  },
  {
   "cell_type": "code",
   "execution_count": 17,
   "id": "c814dc79",
   "metadata": {
    "execution": {
     "iopub.execute_input": "2024-05-15T17:31:04.006556Z",
     "iopub.status.busy": "2024-05-15T17:31:04.006077Z",
     "iopub.status.idle": "2024-05-15T17:31:04.011380Z",
     "shell.execute_reply": "2024-05-15T17:31:04.010843Z"
    },
    "lines_to_next_cell": 1,
    "papermill": {
     "duration": 0.020065,
     "end_time": "2024-05-15T17:31:04.012560",
     "exception": false,
     "start_time": "2024-05-15T17:31:03.992495",
     "status": "completed"
    },
    "tags": []
   },
   "outputs": [],
   "source": [
    "def ninjaTrainingBetter(N: int, points: list[list[int]]) -> int:\n",
    "    \"\"\"\n",
    "    Memoization: Top down approach\n",
    "\n",
    "    Time: O(N), Space: O(N) + O(N)\n",
    "    \"\"\"\n",
    "\n",
    "    @functools.cache\n",
    "    def backtrack(i: int, j: int) -> int:\n",
    "        if i == N:\n",
    "            return 0\n",
    "        else:\n",
    "            max_ = -math.inf\n",
    "            for k in range(3):\n",
    "                if k != j:\n",
    "                    max_ = max(max_, points[i][k] + backtrack(i + 1, k))\n",
    "\n",
    "            return int(max_)\n",
    "\n",
    "    return backtrack(0, -1)\n",
    "\n",
    "# Testing the solution\n",
    "assert ninjaTrainingBetter(3, [[10,40,70], [20,50,80], [30,60,90]]) == 210\n",
    "assert ninjaTrainingBetter(3, [[1,2,5], [3,1,1], [3,3,3]]) == 11\n",
    "assert ninjaTrainingBetter(2, [[10,50,1], [5,100,11]]) == 110"
   ]
  },
  {
   "cell_type": "code",
   "execution_count": 18,
   "id": "015e9458",
   "metadata": {
    "execution": {
     "iopub.execute_input": "2024-05-15T17:31:04.039795Z",
     "iopub.status.busy": "2024-05-15T17:31:04.039252Z",
     "iopub.status.idle": "2024-05-15T17:31:04.045363Z",
     "shell.execute_reply": "2024-05-15T17:31:04.044797Z"
    },
    "lines_to_next_cell": 1,
    "papermill": {
     "duration": 0.0208,
     "end_time": "2024-05-15T17:31:04.046499",
     "exception": false,
     "start_time": "2024-05-15T17:31:04.025699",
     "status": "completed"
    },
    "tags": []
   },
   "outputs": [],
   "source": [
    "def ninjaTraining(N: int, points: list[list[int]]) -> int:\n",
    "    \"\"\"\n",
    "    Space optimized Tabulation DP: Bottom up\n",
    "\n",
    "    Start at the last day.\n",
    "    At each day we sum up corresponding values with the values in DP and assign them to DP.\n",
    "    Before moving the prev day, to the DP perform this op -> dp[i] = max(dp[j]) where j != i\n",
    "\n",
    "    At the end of the iteration simply return max of DP.\n",
    "\n",
    "    Time: O(N), Space: O(1)\n",
    "    \"\"\"\n",
    "\n",
    "    dp: list[int] = [0, 0, 0]\n",
    "    for i in range(N - 1, -1, -1):\n",
    "        for j in range(3):\n",
    "            dp[j] += points[i][j]\n",
    "\n",
    "        next_dp: list[int] = []\n",
    "        for j in range(3):\n",
    "            next_dp.append(max(dp[k] for k in range(3) if k != j))\n",
    "\n",
    "        dp = next_dp\n",
    "\n",
    "    return max(dp)\n",
    "\n",
    "# Testing the solution\n",
    "assert ninjaTraining(3, [[10,40,70], [20,50,80], [30,60,90]]) == 210\n",
    "assert ninjaTraining(3, [[1,2,5], [3,1,1], [3,3,3]]) == 11\n",
    "assert ninjaTraining(2, [[10,50,1], [5,100,11]]) == 110"
   ]
  },
  {
   "cell_type": "markdown",
   "id": "d132fa58",
   "metadata": {
    "papermill": {
     "duration": 0.012657,
     "end_time": "2024-05-15T17:31:04.072396",
     "exception": false,
     "start_time": "2024-05-15T17:31:04.059739",
     "status": "completed"
    },
    "tags": []
   },
   "source": [
    "Unique 2D paths: https://youtu.be/sdE0A2Oxofw?si=g1FpuSIYx0x95G-7\n",
    "https://leetcode.com/problems/unique-paths/"
   ]
  },
  {
   "cell_type": "code",
   "execution_count": 19,
   "id": "d035c9d7",
   "metadata": {
    "execution": {
     "iopub.execute_input": "2024-05-15T17:31:04.099086Z",
     "iopub.status.busy": "2024-05-15T17:31:04.098626Z",
     "iopub.status.idle": "2024-05-15T17:31:04.103070Z",
     "shell.execute_reply": "2024-05-15T17:31:04.102542Z"
    },
    "lines_to_next_cell": 1,
    "papermill": {
     "duration": 0.019009,
     "end_time": "2024-05-15T17:31:04.104120",
     "exception": false,
     "start_time": "2024-05-15T17:31:04.085111",
     "status": "completed"
    },
    "tags": []
   },
   "outputs": [],
   "source": [
    "def uniquePathsMemo(m: int, n: int) -> int:\n",
    "    \"\"\"\n",
    "    Memoization Solution: Top Down\n",
    "    Time: O(m x n), Space: O(m x n) + O(m x n)\n",
    "    \"\"\"\n",
    "    @functools.cache\n",
    "    def backtrack(i: int, j: int) -> int:\n",
    "        if i == m - 1 and j == n - 1:\n",
    "            return 1\n",
    "        elif i >= m or j >= n:\n",
    "            return 0\n",
    "        else:\n",
    "            return backtrack(i + 1, j) + backtrack(i, j + 1)\n",
    "\n",
    "    return backtrack(0, 0)\n",
    "\n",
    "# Testing the solution\n",
    "assert uniquePathsMemo(3, 7) == 28\n",
    "assert uniquePathsMemo(3, 2) == 3"
   ]
  },
  {
   "cell_type": "code",
   "execution_count": 20,
   "id": "c3fb756d",
   "metadata": {
    "execution": {
     "iopub.execute_input": "2024-05-15T17:31:04.130629Z",
     "iopub.status.busy": "2024-05-15T17:31:04.130229Z",
     "iopub.status.idle": "2024-05-15T17:31:04.134586Z",
     "shell.execute_reply": "2024-05-15T17:31:04.134135Z"
    },
    "lines_to_next_cell": 1,
    "papermill": {
     "duration": 0.018994,
     "end_time": "2024-05-15T17:31:04.135772",
     "exception": false,
     "start_time": "2024-05-15T17:31:04.116778",
     "status": "completed"
    },
    "tags": []
   },
   "outputs": [],
   "source": [
    "# https://leetcode.com/problems/unique-paths/submissions/1250526713\n",
    "def uniquePathsTab(m: int, n: int) -> int:\n",
    "    \"Time: O(m x n), Space: O(min(m, n))\"\n",
    "    M, N = min(m, n), max(m, n)\n",
    "    dp: list[int] = [1 for i in range(M)]\n",
    "\n",
    "    for i in range(N - 1):\n",
    "        for j in range(M - 2, -1, -1):\n",
    "            dp[j] += dp[j + 1]\n",
    "\n",
    "    return dp[0]\n",
    "\n",
    "# Testing the solution\n",
    "assert uniquePathsTab(3, 7) == 28\n",
    "assert uniquePathsTab(3, 2) == 3"
   ]
  },
  {
   "cell_type": "markdown",
   "id": "bb22f54a",
   "metadata": {
    "papermill": {
     "duration": 0.012424,
     "end_time": "2024-05-15T17:31:04.160948",
     "exception": false,
     "start_time": "2024-05-15T17:31:04.148524",
     "status": "completed"
    },
    "tags": []
   },
   "source": [
    "Video link: https://youtu.be/TmhpgXScLyY?si=M_FfFKRqRTXid4Jj\n",
    "Unique Paths - ii: https://leetcode.com/problems/unique-paths-ii/submissions/1250615914"
   ]
  },
  {
   "cell_type": "code",
   "execution_count": 21,
   "id": "f59a530c",
   "metadata": {
    "execution": {
     "iopub.execute_input": "2024-05-15T17:31:04.187353Z",
     "iopub.status.busy": "2024-05-15T17:31:04.186968Z",
     "iopub.status.idle": "2024-05-15T17:31:04.192292Z",
     "shell.execute_reply": "2024-05-15T17:31:04.191743Z"
    },
    "lines_to_next_cell": 1,
    "papermill": {
     "duration": 0.019935,
     "end_time": "2024-05-15T17:31:04.193404",
     "exception": false,
     "start_time": "2024-05-15T17:31:04.173469",
     "status": "completed"
    },
    "tags": []
   },
   "outputs": [],
   "source": [
    "def uniquePathsWithObstacles(obstacleGrid: list[list[int]]) -> int:\n",
    "    \"Time: O(M x N), Space: O(N)\"\n",
    "    M, N = len(obstacleGrid), len(obstacleGrid[0])\n",
    "\n",
    "    dp: list[int] = [0 for j in range(N)]\n",
    "    dp[-1] = 1\n",
    "\n",
    "    for i in range(M - 1, -1, -1):\n",
    "        for j in range(N - 1, -1, -1):\n",
    "            if obstacleGrid[i][j] == 0:\n",
    "                dp[j] = dp[j] + dp[j + 1] if j < N - 1 else dp[j]\n",
    "            else:\n",
    "                dp[j] = 0\n",
    "\n",
    "    return dp[0]\n",
    "\n",
    "# Testing the solution\n",
    "assert uniquePathsWithObstacles([[0,0,0],[0,1,0],[0,0,0]]) == 2\n",
    "assert uniquePathsWithObstacles([[0,1],[0,0]]) == 1\n",
    "assert uniquePathsWithObstacles([[1]]) == 0"
   ]
  },
  {
   "cell_type": "markdown",
   "id": "93e28e9b",
   "metadata": {
    "papermill": {
     "duration": 0.012812,
     "end_time": "2024-05-15T17:31:04.219302",
     "exception": false,
     "start_time": "2024-05-15T17:31:04.206490",
     "status": "completed"
    },
    "tags": []
   },
   "source": [
    "Minimum Path Sum: https://youtu.be/_rgTlyky1uQ?si=3xJY7MmVg5tTEW5Q\n",
    "https://leetcode.com/problems/minimum-path-sum/submissions/1250633614"
   ]
  },
  {
   "cell_type": "code",
   "execution_count": 22,
   "id": "c97f7ce9",
   "metadata": {
    "execution": {
     "iopub.execute_input": "2024-05-15T17:31:04.245963Z",
     "iopub.status.busy": "2024-05-15T17:31:04.245470Z",
     "iopub.status.idle": "2024-05-15T17:31:04.250616Z",
     "shell.execute_reply": "2024-05-15T17:31:04.250093Z"
    },
    "lines_to_next_cell": 1,
    "papermill": {
     "duration": 0.019723,
     "end_time": "2024-05-15T17:31:04.251709",
     "exception": false,
     "start_time": "2024-05-15T17:31:04.231986",
     "status": "completed"
    },
    "tags": []
   },
   "outputs": [],
   "source": [
    "def minPathSum(grid: list[list[int]]) -> int:\n",
    "    \"Time: O(M x N), Space: O(N)\"\n",
    "    M, N = len(grid), len(grid[0])\n",
    "\n",
    "    # Initialize DP\n",
    "    dp: list[float] = [math.inf for j in range(N)]\n",
    "    dp[-1] = 0\n",
    "\n",
    "    # DP Solution\n",
    "    for i in range(M - 1, -1, -1):\n",
    "        for j in range(N - 1, -1, -1):\n",
    "            dp[j] = grid[i][j] + (min(dp[j + 1], dp[j]) if j < N - 1 else dp[j])\n",
    "\n",
    "    return int(dp[0])\n",
    "\n",
    "# Testing the solution\n",
    "assert minPathSum([[1,3,1],[1,5,1],[4,2,1]]) == 7\n",
    "assert minPathSum([[1,2,3],[4,5,6]]) == 12"
   ]
  },
  {
   "cell_type": "markdown",
   "id": "107526ff",
   "metadata": {
    "papermill": {
     "duration": 0.012741,
     "end_time": "2024-05-15T17:31:04.277448",
     "exception": false,
     "start_time": "2024-05-15T17:31:04.264707",
     "status": "completed"
    },
    "tags": []
   },
   "source": [
    "Video Link: https://youtu.be/0bHoB32fuj0?si=5UHeArKmLvTVpbrk\n",
    "Triangle: https://leetcode.com/problems/triangle/submissions/1251774955/"
   ]
  },
  {
   "cell_type": "code",
   "execution_count": 23,
   "id": "62387041",
   "metadata": {
    "execution": {
     "iopub.execute_input": "2024-05-15T17:31:04.304439Z",
     "iopub.status.busy": "2024-05-15T17:31:04.303905Z",
     "iopub.status.idle": "2024-05-15T17:31:04.308694Z",
     "shell.execute_reply": "2024-05-15T17:31:04.308171Z"
    },
    "lines_to_next_cell": 1,
    "papermill": {
     "duration": 0.019496,
     "end_time": "2024-05-15T17:31:04.309753",
     "exception": false,
     "start_time": "2024-05-15T17:31:04.290257",
     "status": "completed"
    },
    "tags": []
   },
   "outputs": [],
   "source": [
    "def minimumTotal(triangle: list[list[int]]) -> int:\n",
    "    \"\"\"Time: O(N x N), Space: O(N)\"\"\"\n",
    "    N = len(triangle)\n",
    "    dp: list[int] = [0 for i in range(N + 1)]\n",
    "\n",
    "    while N > 0:\n",
    "        next_: list[int] = []\n",
    "        for i in range(N):\n",
    "            next_.append(min(dp[i], dp[i + 1]) + triangle[N - 1][i])\n",
    "        dp = next_\n",
    "        N -= 1\n",
    "\n",
    "    return dp[0]\n",
    "\n",
    "# Testing the solution\n",
    "assert minimumTotal([[2],[3,4],[6,5,7],[4,1,8,3]]) == 11\n",
    "assert minimumTotal([[-10]]) == -10"
   ]
  },
  {
   "cell_type": "markdown",
   "id": "51332104",
   "metadata": {
    "papermill": {
     "duration": 0.012916,
     "end_time": "2024-05-15T17:31:04.335883",
     "exception": false,
     "start_time": "2024-05-15T17:31:04.322967",
     "status": "completed"
    },
    "tags": []
   },
   "source": [
    "Video Link: https://youtu.be/N_aJ5qQbYA0?si=LTME1YI3hqtU8u8_\n",
    "Maximum Falling path sum\n",
    "We cannot apply greedy algorithms here because there is no uniformity mentioned. Uniformity implies how the numbers are distributed.\n",
    "For eg:\n",
    "```\n",
    "1   2  3    4\n",
    "10  1  100  1\n",
    "1   2  5    0\n",
    "```\n",
    "In the above example from (0, 0), if we greedily chose (1, 0) - we would miss out on 100 at (1, 2). \n",
    "If suppose we were told that the numbers were arranged in ascending or descending order we can greedily pick a path"
   ]
  },
  {
   "cell_type": "code",
   "execution_count": 24,
   "id": "4f9fb3eb",
   "metadata": {
    "execution": {
     "iopub.execute_input": "2024-05-15T17:31:04.362809Z",
     "iopub.status.busy": "2024-05-15T17:31:04.362338Z",
     "iopub.status.idle": "2024-05-15T17:31:04.367973Z",
     "shell.execute_reply": "2024-05-15T17:31:04.367397Z"
    },
    "lines_to_next_cell": 1,
    "papermill": {
     "duration": 0.020372,
     "end_time": "2024-05-15T17:31:04.369128",
     "exception": false,
     "start_time": "2024-05-15T17:31:04.348756",
     "status": "completed"
    },
    "tags": []
   },
   "outputs": [],
   "source": [
    "def getMaxPathSumBetter(matrix: list[list[int]]):\n",
    "    \"\"\"\n",
    "    With memoization:\n",
    "    Time complexity: O(3 ^ N)\n",
    "\n",
    "    Memoization Approach: Top Down\n",
    "    Time: O(N x M), Space: O(N x M) + O(N x M)\n",
    "    \"\"\"\n",
    "    M, N = len(matrix), len(matrix[0])\n",
    "\n",
    "    @functools.cache\n",
    "    def backtrack(i: int = 0, j: int = 0) -> float:\n",
    "        if i >= M:\n",
    "            return 0\n",
    "        elif j < 0 or j >= N:\n",
    "            return -math.inf\n",
    "        else:\n",
    "            return matrix[i][j] + max(backtrack(i + 1, j - 1), backtrack(i + 1, j), backtrack(i + 1, j + 1))\n",
    "\n",
    "    maxPathSum = -math.inf\n",
    "    for j in range(N):\n",
    "        maxPathSum = max(maxPathSum, backtrack(0, j))\n",
    "\n",
    "    return int(maxPathSum)\n",
    "\n",
    "# Testing the solution\n",
    "assert getMaxPathSumBetter([[1,2,10,4],[100,3,2,1],[1,1,20,2],[1,2,2,1]]) == 105\n",
    "assert getMaxPathSumBetter([[10,2,3],[3,7,2],[8,1,5]]) == 25"
   ]
  },
  {
   "cell_type": "code",
   "execution_count": 25,
   "id": "b3cf95be",
   "metadata": {
    "execution": {
     "iopub.execute_input": "2024-05-15T17:31:04.396863Z",
     "iopub.status.busy": "2024-05-15T17:31:04.396343Z",
     "iopub.status.idle": "2024-05-15T17:31:04.401726Z",
     "shell.execute_reply": "2024-05-15T17:31:04.401280Z"
    },
    "lines_to_next_cell": 1,
    "papermill": {
     "duration": 0.020466,
     "end_time": "2024-05-15T17:31:04.402855",
     "exception": false,
     "start_time": "2024-05-15T17:31:04.382389",
     "status": "completed"
    },
    "tags": []
   },
   "outputs": [],
   "source": [
    "def getMaxPathSum(matrix: list[list[int]]):\n",
    "    \"\"\"\n",
    "    Space optimized DP: Bottom up\n",
    "    Time: O(M x N), Space: O(N)\n",
    "    \"\"\"\n",
    "    M, N = len(matrix), len(matrix[0])\n",
    "\n",
    "    dp: list[float] = [0 for i in range(N)]\n",
    "    i = M - 1\n",
    "    while i >= 0:\n",
    "        next_: list[float] = []\n",
    "        for j in range(N):\n",
    "            next_.append(matrix[i][j] + max(dp[j - 1] if j - 1 >= 0 else -math.inf, dp[j], dp[j + 1] if j + 1 < N else -math.inf))\n",
    "\n",
    "        dp = next_\n",
    "        i -= 1\n",
    "\n",
    "    return max(dp)\n",
    "\n",
    "# Testing the solution\n",
    "assert getMaxPathSum([[1,2,10,4],[100,3,2,1],[1,1,20,2],[1,2,2,1]]) == 105\n",
    "assert getMaxPathSum([[10,2,3],[3,7,2],[8,1,5]]) == 25"
   ]
  },
  {
   "cell_type": "markdown",
   "id": "703cdb9d",
   "metadata": {
    "papermill": {
     "duration": 0.012657,
     "end_time": "2024-05-15T17:31:04.428734",
     "exception": false,
     "start_time": "2024-05-15T17:31:04.416077",
     "status": "completed"
    },
    "tags": []
   },
   "source": [
    "Cherry Pickup: 2: https://leetcode.com/problems/cherry-pickup-ii/\n",
    "Video Link: https://youtu.be/QGfn7JeXK54?si=2K0Lz9iKN_IxLUDN"
   ]
  },
  {
   "cell_type": "code",
   "execution_count": 26,
   "id": "d82f0e5d",
   "metadata": {
    "execution": {
     "iopub.execute_input": "2024-05-15T17:31:04.456125Z",
     "iopub.status.busy": "2024-05-15T17:31:04.455587Z",
     "iopub.status.idle": "2024-05-15T17:31:04.462510Z",
     "shell.execute_reply": "2024-05-15T17:31:04.462082Z"
    },
    "lines_to_next_cell": 1,
    "papermill": {
     "duration": 0.02207,
     "end_time": "2024-05-15T17:31:04.463606",
     "exception": false,
     "start_time": "2024-05-15T17:31:04.441536",
     "status": "completed"
    },
    "tags": []
   },
   "outputs": [],
   "source": [
    "def cherryPickupMemo(grid: list[list[int]]) -> int:\n",
    "    \"\"\"\n",
    "    Without memoization, time complexity: O(3 ^ M * 3 ^ M)\n",
    "\n",
    "    Space complexity is definitely improved with using @functools.cache, using list here to illustrate.\n",
    "    Time: O (M x N x N), Space: O (M x N x N)\n",
    "\n",
    "    To figure out the dp size, simply check how many parameters are chaning. Here we have an i, j1, j2 and hence dp is a 3D Matrix.\n",
    "    \"\"\"\n",
    "    M, N = len(grid), len(grid[0])\n",
    "    dp: list[list[list[float]]] = [[[-1 for k in range(N)] for j in range(N)] for i in range(M)]\n",
    "\n",
    "    def backtrack(i: int, j1: int, j2: int) -> float:\n",
    "        if j1 < 0 or j2 < 0 or j1 >= N or j2 >= N or j1 == j2:\n",
    "            return -math.inf\n",
    "        elif i > M - 1:\n",
    "            return 0\n",
    "        elif dp[i][j1][j2] != -1:\n",
    "            return dp[i][j1][j2]\n",
    "        else:\n",
    "            next_picked = -math.inf\n",
    "            for j1_offset in range(-1, 2):\n",
    "                for j2_offset in range(-1, 2):\n",
    "                    next_picked = max(next_picked, backtrack(i + 1, j1 + j1_offset, j2 + j2_offset))\n",
    "\n",
    "            dp[i][j1][j2] = grid[i][j1] + grid[i][j2] + next_picked\n",
    "            return dp[i][j1][j2]\n",
    "\n",
    "    result = int(backtrack(0, 0, N - 1))\n",
    "    return result\n",
    "\n",
    "# Testing the solution\n",
    "assert cherryPickupMemo([[1,0,0,0,0,0,1],[2,0,0,0,0,3,0],[2,0,9,0,0,0,0],[0,3,0,5,4,0,0],[1,0,2,3,0,0,6]]) == 28"
   ]
  },
  {
   "cell_type": "code",
   "execution_count": 27,
   "id": "85c88b05",
   "metadata": {
    "execution": {
     "iopub.execute_input": "2024-05-15T17:31:04.490974Z",
     "iopub.status.busy": "2024-05-15T17:31:04.490437Z",
     "iopub.status.idle": "2024-05-15T17:31:04.497920Z",
     "shell.execute_reply": "2024-05-15T17:31:04.497454Z"
    },
    "lines_to_next_cell": 1,
    "papermill": {
     "duration": 0.022316,
     "end_time": "2024-05-15T17:31:04.499056",
     "exception": false,
     "start_time": "2024-05-15T17:31:04.476740",
     "status": "completed"
    },
    "tags": []
   },
   "outputs": [],
   "source": [
    "def cherryPickupTab(grid: list[list[int]]) -> int:\n",
    "    \"\"\"\n",
    "    Simply start with the base case. Move bottom up.\n",
    "    \"\"\"\n",
    "    M, N = len(grid), len(grid[0])\n",
    "\n",
    "    # Initialize DP with the base case\n",
    "    dp: list[list[list[float]]] = [[[0 for k in range(N)] for j in range(N)] for i in range(M)]\n",
    "    for j1 in range(N):\n",
    "        for j2 in range(N):\n",
    "            dp[-1][j1][j2] = grid[-1][j1] + grid[-1][j2] if j1 != j2 else grid[-1][j1]\n",
    "\n",
    "    # i, j1, j2: (0 - M), (0 - N), (0 - N)\n",
    "    for i in range(M - 2, -1, -1):\n",
    "        for j1 in range(N):\n",
    "            for j2 in range(N):\n",
    "                max_: float = -math.inf\n",
    "                curr = grid[i][j1] + grid[i][j2] if j1 != j2 else grid[i][j1]\n",
    "                for j1_offset in range(-1, 2):\n",
    "                    for j2_offset in range(-1, 2):\n",
    "                        if 0 <= j1 + j1_offset < N and 0 <= j2 + j2_offset < N:\n",
    "                            max_ = max(max_, dp[i + 1][j1 + j1_offset][j2 + j2_offset])\n",
    "\n",
    "                dp[i][j1][j2] = max(-1, max_ + curr)\n",
    "\n",
    "    return int(dp[0][0][-1])\n",
    "\n",
    "# Testing the solution\n",
    "assert cherryPickupTab([[1,0,0,0,0,0,1],[2,0,0,0,0,3,0],[2,0,9,0,0,0,0],[0,3,0,5,4,0,0],[1,0,2,3,0,0,6]]) == 28"
   ]
  },
  {
   "cell_type": "code",
   "execution_count": 28,
   "id": "e2fdb650",
   "metadata": {
    "execution": {
     "iopub.execute_input": "2024-05-15T17:31:04.526384Z",
     "iopub.status.busy": "2024-05-15T17:31:04.525967Z",
     "iopub.status.idle": "2024-05-15T17:31:04.533205Z",
     "shell.execute_reply": "2024-05-15T17:31:04.532625Z"
    },
    "lines_to_next_cell": 1,
    "papermill": {
     "duration": 0.022075,
     "end_time": "2024-05-15T17:31:04.534265",
     "exception": false,
     "start_time": "2024-05-15T17:31:04.512190",
     "status": "completed"
    },
    "tags": []
   },
   "outputs": [],
   "source": [
    "def cherryPickupSpaceOptimized(grid: list[list[int]]) -> int:\n",
    "    M, N = len(grid), len(grid[0])\n",
    "    dp: list[list[float]] = [[grid[-1][j1] + grid[-1][j2] if j1 != j2 else grid[-1][j1] for j1 in range(N)] for j2 in range(N)]\n",
    "\n",
    "    for i in range(M - 2, -1, -1):\n",
    "        dp_next: list[list[float]] = []\n",
    "        for j1 in range(N):\n",
    "            dp_next.append([])\n",
    "            for j2 in range(N):\n",
    "                max_: float = -math.inf\n",
    "                curr = grid[i][j1] + grid[i][j2] if j1 != j2 else grid[i][j1]\n",
    "                for j1_offset in range(-1, 2):\n",
    "                    for j2_offset in range(-1, 2):\n",
    "                        if 0 <= j1 + j1_offset < N and 0 <= j2 + j2_offset < N:\n",
    "                            max_ = max(max_, dp[j1 + j1_offset][j2 + j2_offset])\n",
    "\n",
    "                dp_next[j1].append(curr + max_)\n",
    "        dp = dp_next\n",
    "\n",
    "    return int(dp[0][-1])\n",
    "\n",
    "# Testing the solution\n",
    "assert cherryPickupSpaceOptimized([[1,0,0,0,0,0,1],[2,0,0,0,0,3,0],[2,0,9,0,0,0,0],[0,3,0,5,4,0,0],[1,0,2,3,0,0,6]]) == 28"
   ]
  },
  {
   "cell_type": "markdown",
   "id": "17816765",
   "metadata": {
    "papermill": {
     "duration": 0.01295,
     "end_time": "2024-05-15T17:31:04.560228",
     "exception": false,
     "start_time": "2024-05-15T17:31:04.547278",
     "status": "completed"
    },
    "tags": []
   },
   "source": [
    "Subset sum equals target\n",
    "Video Link: https://youtu.be/fWX9xDmIzRI?si=jb2Tgvw_E0Tyk1Pj"
   ]
  },
  {
   "cell_type": "code",
   "execution_count": 29,
   "id": "4f37d7b7",
   "metadata": {
    "execution": {
     "iopub.execute_input": "2024-05-15T17:31:04.587090Z",
     "iopub.status.busy": "2024-05-15T17:31:04.586614Z",
     "iopub.status.idle": "2024-05-15T17:31:04.592161Z",
     "shell.execute_reply": "2024-05-15T17:31:04.591598Z"
    },
    "lines_to_next_cell": 1,
    "papermill": {
     "duration": 0.020363,
     "end_time": "2024-05-15T17:31:04.593250",
     "exception": false,
     "start_time": "2024-05-15T17:31:04.572887",
     "status": "completed"
    },
    "tags": []
   },
   "outputs": [],
   "source": [
    "def isSubsetSumMemo(N: int, arr: list[int], target: int) -> int:\n",
    "    \"\"\"\n",
    "    For cases where subset exists, the recursion would stop early. For the negative cases, we would get overlapping subproblems and\n",
    "    hence memoization would help decrease the time complexity.\n",
    "\n",
    "    Time without memoization: O(2 ^ N), Space: O(N)\n",
    "    With memoization: O(N x target), Space: O(N x target) + O(N)\n",
    "    \"\"\"\n",
    "\n",
    "    dp: list[list[int]] = [[-1 for j in range(target + 1)] for i in range(N)]\n",
    "    def backtrack(i: int, total: int) -> bool:\n",
    "        if total == 0:\n",
    "            return True\n",
    "        elif total < 0 or i > N - 1:\n",
    "            return False\n",
    "        elif dp[i][total] != -1:\n",
    "            return bool(dp[i][total])\n",
    "        else:\n",
    "            result = backtrack(i + 1, total - arr[i]) or backtrack(i + 1, total)\n",
    "            dp[i][total] = int(result)\n",
    "            return result\n",
    "\n",
    "    return backtrack(0, target)\n",
    "\n",
    "# Testing the solution\n",
    "assert isSubsetSumMemo(6, [3, 34, 4, 12, 5, 2], 9) == True\n",
    "assert isSubsetSumMemo(6, [3, 34, 4, 12, 5, 2], 30) == False"
   ]
  },
  {
   "cell_type": "code",
   "execution_count": 30,
   "id": "5551c36b",
   "metadata": {
    "execution": {
     "iopub.execute_input": "2024-05-15T17:31:04.620516Z",
     "iopub.status.busy": "2024-05-15T17:31:04.620000Z",
     "iopub.status.idle": "2024-05-15T17:31:04.626065Z",
     "shell.execute_reply": "2024-05-15T17:31:04.625531Z"
    },
    "lines_to_next_cell": 1,
    "papermill": {
     "duration": 0.021024,
     "end_time": "2024-05-15T17:31:04.627259",
     "exception": false,
     "start_time": "2024-05-15T17:31:04.606235",
     "status": "completed"
    },
    "tags": []
   },
   "outputs": [
    {
     "name": "stdout",
     "output_type": "stream",
     "text": [
      "[[1, 0, 1, 1, 1, 1, 1, 1, 1, 1], [1, 0, 1, 0, 1, 1, 1, 1, 0, 1], [1, 0, 1, 0, 1, 1, 1, 1, 0, 1], [1, 0, 1, 0, 0, 1, 0, 1, 0, 0], [1, 0, 1, 0, 0, 1, 0, 1, 0, 0], [1, 0, 1, 0, 0, 0, 0, 0, 0, 0], [1, 0, 0, 0, 0, 0, 0, 0, 0, 0]]\n",
      "[[1, 0, 1, 1, 1, 1, 1, 1, 1, 1, 1, 1, 1, 0, 1, 1, 1, 1, 1, 1, 1, 1, 1, 1, 1, 0, 1, 0, 0, 0, 0], [1, 0, 1, 0, 1, 1, 1, 1, 0, 1, 0, 1, 1, 0, 1, 0, 1, 1, 1, 1, 0, 1, 0, 1, 0, 0, 0, 0, 0, 0, 0], [1, 0, 1, 0, 1, 1, 1, 1, 0, 1, 0, 1, 1, 0, 1, 0, 1, 1, 1, 1, 0, 1, 0, 1, 0, 0, 0, 0, 0, 0, 0], [1, 0, 1, 0, 0, 1, 0, 1, 0, 0, 0, 0, 1, 0, 1, 0, 0, 1, 0, 1, 0, 0, 0, 0, 0, 0, 0, 0, 0, 0, 0], [1, 0, 1, 0, 0, 1, 0, 1, 0, 0, 0, 0, 0, 0, 0, 0, 0, 0, 0, 0, 0, 0, 0, 0, 0, 0, 0, 0, 0, 0, 0], [1, 0, 1, 0, 0, 0, 0, 0, 0, 0, 0, 0, 0, 0, 0, 0, 0, 0, 0, 0, 0, 0, 0, 0, 0, 0, 0, 0, 0, 0, 0], [1, 0, 0, 0, 0, 0, 0, 0, 0, 0, 0, 0, 0, 0, 0, 0, 0, 0, 0, 0, 0, 0, 0, 0, 0, 0, 0, 0, 0, 0, 0]]\n"
     ]
    }
   ],
   "source": [
    "def isSubsetSumTab(N: int, arr: list[int], target: int) -> bool:\n",
    "    \"\"\"\n",
    "    Each cell in the dp represents -> If total - arr[i] is true down the line.\n",
    "    Note that dp[i][0] is always true, since if the target is to be 0 regardless of arr[i] tehn subsetSumTarget is possible.\n",
    "    \"\"\"\n",
    "    dp: list[list[int]] = [[1 if j == 0 else -1 if i < N else 0 for j in range(target + 1)] for i in range(N + 1)]\n",
    "\n",
    "    for i in range(N - 1, -1, -1):\n",
    "        for total in range(1, target + 1):\n",
    "            if dp[i + 1][total] == 1 or (total - arr[i] >= 0 and dp[i + 1][total - arr[i]] == 1):\n",
    "                dp[i][total] = 1\n",
    "            else:\n",
    "                dp[i][total] = 0\n",
    "\n",
    "    print(dp)\n",
    "    return bool(dp[0][target])\n",
    "\n",
    "# Testing the solution\n",
    "assert isSubsetSumTab(6, [3, 34, 4, 12, 5, 2], 9) == True\n",
    "assert isSubsetSumTab(6, [3, 34, 4, 12, 5, 2], 30) == False"
   ]
  },
  {
   "cell_type": "code",
   "execution_count": 31,
   "id": "ca80b369",
   "metadata": {
    "execution": {
     "iopub.execute_input": "2024-05-15T17:31:04.655054Z",
     "iopub.status.busy": "2024-05-15T17:31:04.654580Z",
     "iopub.status.idle": "2024-05-15T17:31:04.659868Z",
     "shell.execute_reply": "2024-05-15T17:31:04.659368Z"
    },
    "lines_to_next_cell": 1,
    "papermill": {
     "duration": 0.020492,
     "end_time": "2024-05-15T17:31:04.661046",
     "exception": false,
     "start_time": "2024-05-15T17:31:04.640554",
     "status": "completed"
    },
    "tags": []
   },
   "outputs": [],
   "source": [
    "def isSubsetSumSpaceOptimized(N: int, arr: list[int], target: int) -> bool:\n",
    "    \"Time: O(N x target), Space: O(target)\"\n",
    "    dp: list[int] = [0 if j > 0 else 1 for j in range(target + 1)]\n",
    "\n",
    "    for i in range(N - 1, -1, -1):\n",
    "        next_: list[int] = []\n",
    "        for total in range(target + 1):\n",
    "            if total == 0 or dp[total] == 1 or (total - arr[i] >= 0 and dp[total - arr[i]] == 1):\n",
    "                next_.append(1)\n",
    "            else:\n",
    "                next_.append(0)\n",
    "\n",
    "        dp = next_\n",
    "\n",
    "    return bool(dp[target])\n",
    "\n",
    "# Testing the solution\n",
    "assert isSubsetSumSpaceOptimized(6, [3, 34, 4, 12, 5, 2], 9) == True\n",
    "assert isSubsetSumSpaceOptimized(6, [3, 34, 4, 12, 5, 2], 30) == False"
   ]
  },
  {
   "cell_type": "markdown",
   "id": "7a10f4ca",
   "metadata": {
    "papermill": {
     "duration": 0.012734,
     "end_time": "2024-05-15T17:31:04.687076",
     "exception": false,
     "start_time": "2024-05-15T17:31:04.674342",
     "status": "completed"
    },
    "tags": []
   },
   "source": [
    "Partition equal subset sum: https://leetcode.com/problems/partition-equal-subset-sum/\n",
    "Video Link: https://youtu.be/7win3dcgo3k?si=LJO4Ot4EZzQ2fRc0"
   ]
  },
  {
   "cell_type": "code",
   "execution_count": 32,
   "id": "373088cf",
   "metadata": {
    "execution": {
     "iopub.execute_input": "2024-05-15T17:31:04.714303Z",
     "iopub.status.busy": "2024-05-15T17:31:04.713837Z",
     "iopub.status.idle": "2024-05-15T17:31:04.719413Z",
     "shell.execute_reply": "2024-05-15T17:31:04.718966Z"
    },
    "lines_to_next_cell": 1,
    "papermill": {
     "duration": 0.020589,
     "end_time": "2024-05-15T17:31:04.720506",
     "exception": false,
     "start_time": "2024-05-15T17:31:04.699917",
     "status": "completed"
    },
    "tags": []
   },
   "outputs": [],
   "source": [
    "# https://leetcode.com/problems/partition-equal-subset-sum/submissions/1253314239\n",
    "def canPartition(nums: list[int]) -> bool:\n",
    "    def subsetSumEqualsTarget(target: int) -> bool:\n",
    "        \"Time: O(N x target), Space: O(target)\"\n",
    "        dp: list[bool] = [False if i > 0 else True for i in range(target + 1)]\n",
    "        for i in range(N - 1, -1, -1):\n",
    "            next_: list[bool] = []\n",
    "            for total in range(target + 1):\n",
    "                if total == 0 or dp[total] or (total - nums[i] >= 0 and dp[total - nums[i]]):\n",
    "                    next_.append(True)\n",
    "                else:\n",
    "                    next_.append(False)\n",
    "\n",
    "            dp = next_\n",
    "\n",
    "        return dp[target]\n",
    "\n",
    "    N = len(nums)\n",
    "    total = sum(nums)\n",
    "    return total % 2 == 0 and subsetSumEqualsTarget(total // 2)\n",
    "\n",
    "# Testing the solution\n",
    "assert canPartition([1,5,11,5]) == True\n",
    "assert canPartition([1,2,3,5]) == False\n",
    "assert canPartition([3,3,3,4,5]) == True"
   ]
  },
  {
   "cell_type": "markdown",
   "id": "56f6a268",
   "metadata": {
    "papermill": {
     "duration": 0.012514,
     "end_time": "2024-05-15T17:31:04.745829",
     "exception": false,
     "start_time": "2024-05-15T17:31:04.733315",
     "status": "completed"
    },
    "tags": []
   },
   "source": [
    "Partition Array Into Two Arrays to Minimize Sum Difference\n",
    "Video link: https://youtu.be/GS_OqZb2CWc?si=Jtc2dP_dqmNi5Zli"
   ]
  },
  {
   "cell_type": "code",
   "execution_count": 33,
   "id": "00588c88",
   "metadata": {
    "execution": {
     "iopub.execute_input": "2024-05-15T17:31:04.772776Z",
     "iopub.status.busy": "2024-05-15T17:31:04.772319Z",
     "iopub.status.idle": "2024-05-15T17:31:04.777754Z",
     "shell.execute_reply": "2024-05-15T17:31:04.777222Z"
    },
    "lines_to_next_cell": 1,
    "papermill": {
     "duration": 0.020366,
     "end_time": "2024-05-15T17:31:04.778836",
     "exception": false,
     "start_time": "2024-05-15T17:31:04.758470",
     "status": "completed"
    },
    "tags": []
   },
   "outputs": [],
   "source": [
    "def minimumDifferenceBrute(nums: list[int]) -> int:\n",
    "    \"\"\"\n",
    "    Throws a TLE :(\n",
    "    \"\"\"\n",
    "    N, total_sum = len(nums), sum(nums)\n",
    "    subset_length = N // 2\n",
    "\n",
    "    @functools.cache\n",
    "    def backtrack(i: int, subset_sum: int, count: int) -> float:\n",
    "        if count == subset_length:\n",
    "            return abs(2 * subset_sum - total_sum)\n",
    "        elif i == N:\n",
    "            return math.inf\n",
    "        else:\n",
    "            return min(backtrack(i + 1, subset_sum + nums[i], count + 1), backtrack(i + 1, subset_sum, count))\n",
    "\n",
    "    result = int(backtrack(0, 0, 0))\n",
    "    return result\n",
    "\n",
    "# Testing the solution\n",
    "assert minimumDifferenceBrute([3,9,7,3]) == 2\n",
    "assert minimumDifferenceBrute([-36,36]) == 72\n",
    "assert minimumDifferenceBrute([2,-1,0,4,-2,-9]) == 0"
   ]
  },
  {
   "cell_type": "code",
   "execution_count": 34,
   "id": "97c34ef1",
   "metadata": {
    "execution": {
     "iopub.execute_input": "2024-05-15T17:31:04.806526Z",
     "iopub.status.busy": "2024-05-15T17:31:04.806200Z",
     "iopub.status.idle": "2024-05-15T17:31:04.813453Z",
     "shell.execute_reply": "2024-05-15T17:31:04.812912Z"
    },
    "lines_to_next_cell": 1,
    "papermill": {
     "duration": 0.022401,
     "end_time": "2024-05-15T17:31:04.814523",
     "exception": false,
     "start_time": "2024-05-15T17:31:04.792122",
     "status": "completed"
    },
    "tags": []
   },
   "outputs": [],
   "source": [
    "def minimumDifference(nums: list[int]) -> int:\n",
    "    \"\"\"\n",
    "    Use the DP tabulation approach we used to check if a subset with target sum exists. Still Memory limit exceeded.\n",
    "    Note that this is different the one on the video. This solution is leetcode specific. In the video by Striver, the values can only be positive. Further more we can split into any size.\n",
    "    In LC however, the subset must be split into 2 halves, values can be both positive and negative.\n",
    "    \"\"\"\n",
    "\n",
    "    N, total_abs_sum, total_sum = len(nums), sum(map(abs, nums)), sum(nums)\n",
    "\n",
    "    # Each value represents the length of subset summing up to target. -1 if cannot be reached.\n",
    "    dp: list[int] = [-1 if j != 0 else 0 for j in range(-total_abs_sum, total_abs_sum + 1)]\n",
    "\n",
    "    for i in range(N - 1, -1, -1):\n",
    "        next_dp: list[int] = []\n",
    "        for target in range(-total_abs_sum, total_abs_sum + 1):\n",
    "            # Pick, subset length incremented by 1\n",
    "            if 0 <= target - nums[i] + total_abs_sum <= 2 * total_abs_sum and dp[target - nums[i] + total_abs_sum] != -1:\n",
    "                subset_length = dp[target - nums[i] + total_abs_sum] + 1\n",
    "                existing_length = dp[target + total_abs_sum]\n",
    "                next_dp.append(subset_length if existing_length != N // 2 else existing_length)\n",
    "            # No pick, hence subset length is unupdated\n",
    "            elif dp[target + total_abs_sum] != -1:\n",
    "                next_dp.append(dp[target + total_abs_sum])\n",
    "            # Base case\n",
    "            elif target == 0:\n",
    "                next_dp.append(0)\n",
    "            # Sum cannot be reached\n",
    "            else:\n",
    "                next_dp.append(-1)\n",
    "\n",
    "        dp = next_dp\n",
    "\n",
    "    # Find out targets where value is N // 2\n",
    "    min_diff: float = math.inf\n",
    "    for subset_sum, subset_length in enumerate(dp, start=-total_abs_sum):\n",
    "        if subset_length == N // 2:\n",
    "            min_diff = min(min_diff, abs(2 * subset_sum - total_sum))\n",
    "\n",
    "    return int(min_diff)\n",
    "\n",
    "# Testing the solution\n",
    "assert minimumDifference([3,9,7,3]) == 2\n",
    "assert minimumDifference([-36,36]) == 72\n",
    "assert minimumDifference([2,-1,0,4,-2,-9]) == 0"
   ]
  },
  {
   "cell_type": "code",
   "execution_count": 35,
   "id": "54752ee1",
   "metadata": {
    "execution": {
     "iopub.execute_input": "2024-05-15T17:31:04.842544Z",
     "iopub.status.busy": "2024-05-15T17:31:04.842025Z",
     "iopub.status.idle": "2024-05-15T17:31:04.847630Z",
     "shell.execute_reply": "2024-05-15T17:31:04.847183Z"
    },
    "lines_to_next_cell": 1,
    "papermill": {
     "duration": 0.020899,
     "end_time": "2024-05-15T17:31:04.848797",
     "exception": false,
     "start_time": "2024-05-15T17:31:04.827898",
     "status": "completed"
    },
    "tags": []
   },
   "outputs": [],
   "source": [
    "def minSubsetSumDifference(arr: list[int], N: int) -> int:\n",
    "    # Compute max total sum\n",
    "    total_sum: int = sum(arr)\n",
    "\n",
    "    # Compute DP grid for all possible subset sums\n",
    "    dp: list[bool] = [False if i > 0 else True for i in range(total_sum + 1)]\n",
    "    for i in range(N - 1, -1, -1):\n",
    "        next_dp: list[bool] = []\n",
    "        for target in range(total_sum + 1):\n",
    "            if target == 0 or dp[target] or (target - arr[i] >= 0 and dp[target - arr[i]]):\n",
    "                next_dp.append(True)\n",
    "            else:\n",
    "                next_dp.append(False)\n",
    "        dp = next_dp\n",
    "\n",
    "    # Compute the minimum subset difference\n",
    "    min_diff: int = total_sum\n",
    "\n",
    "    # total_sum / 2 since it is enough if we computed one half, diff of sum from total sum would cover the other half as well\n",
    "    for target in range(math.ceil(total_sum / 2) + 1):\n",
    "        if dp[target]:\n",
    "            min_diff = min(min_diff, abs(2 * target - total_sum))\n",
    "\n",
    "    return min_diff\n",
    "\n",
    "# Testing the solution\n",
    "assert minSubsetSumDifference([8,6,5], 3) == 3"
   ]
  },
  {
   "cell_type": "markdown",
   "id": "884d535e",
   "metadata": {
    "papermill": {
     "duration": 0.012642,
     "end_time": "2024-05-15T17:31:04.874638",
     "exception": false,
     "start_time": "2024-05-15T17:31:04.861996",
     "status": "completed"
    },
    "tags": []
   },
   "source": [
    "Count subsets with sum k"
   ]
  },
  {
   "cell_type": "code",
   "execution_count": 36,
   "id": "534b55bb",
   "metadata": {
    "execution": {
     "iopub.execute_input": "2024-05-15T17:31:04.901275Z",
     "iopub.status.busy": "2024-05-15T17:31:04.900860Z",
     "iopub.status.idle": "2024-05-15T17:31:04.906579Z",
     "shell.execute_reply": "2024-05-15T17:31:04.906149Z"
    },
    "lines_to_next_cell": 1,
    "papermill": {
     "duration": 0.020475,
     "end_time": "2024-05-15T17:31:04.907656",
     "exception": false,
     "start_time": "2024-05-15T17:31:04.887181",
     "status": "completed"
    },
    "tags": []
   },
   "outputs": [],
   "source": [
    "def perfectSumMemo(nums: list[int], N: int, K: int):\n",
    "    \"\"\"\n",
    "    Time: O(N * K) + O(N); Space: O(N * K)\n",
    "    \"\"\"\n",
    "\n",
    "    # Filter out all the zeros\n",
    "    arr: list[int] = []\n",
    "    N = zero_count = 0\n",
    "    for n in nums:\n",
    "        if n > 0:\n",
    "            arr.append(n)\n",
    "            N += 1\n",
    "        else:\n",
    "            zero_count += 1\n",
    "\n",
    "    # Compute the results and store it to a list\n",
    "    dp: list[list[int]] = [[-1 for j in range(K + 1)] for i in range(N)]\n",
    "\n",
    "    # Recursively find the solution\n",
    "    def backtrack(i: int, total: int) -> int:\n",
    "        if total == K:\n",
    "            return 1\n",
    "        elif i >= N or total > K:\n",
    "            return 0\n",
    "        elif dp[i][total] != -1:\n",
    "            return dp[i][total]\n",
    "        else:\n",
    "            result = backtrack(i + 1, total + arr[i]) + backtrack(i + 1, total)\n",
    "            dp[i][total] = result\n",
    "            return result\n",
    "\n",
    "    return backtrack(0, 0) * (2 ** zero_count)\n",
    "\n",
    "# Testing the solution\n",
    "assert perfectSumMemo([5, 2, 3, 10, 6, 8], 6, 10) == 3\n",
    "assert perfectSumMemo([1, 0], 2, 1) == 2"
   ]
  },
  {
   "cell_type": "code",
   "execution_count": 37,
   "id": "dee4da2c",
   "metadata": {
    "execution": {
     "iopub.execute_input": "2024-05-15T17:31:04.934552Z",
     "iopub.status.busy": "2024-05-15T17:31:04.934107Z",
     "iopub.status.idle": "2024-05-15T17:31:04.939804Z",
     "shell.execute_reply": "2024-05-15T17:31:04.939290Z"
    },
    "lines_to_next_cell": 1,
    "papermill": {
     "duration": 0.020308,
     "end_time": "2024-05-15T17:31:04.940901",
     "exception": false,
     "start_time": "2024-05-15T17:31:04.920593",
     "status": "completed"
    },
    "tags": []
   },
   "outputs": [],
   "source": [
    "def perfectSumTabulation(nums: list[int], N: int, K: int):\n",
    "    # Filter out all the zeros\n",
    "    arr: list[int] = []\n",
    "    N = zero_count = 0\n",
    "    for n in nums:\n",
    "        if n > 0:\n",
    "            arr.append(n)\n",
    "            N += 1\n",
    "        else:\n",
    "            zero_count += 1\n",
    "\n",
    "    # Initialize a DP array\n",
    "    dp: list[list[int]] = [[-1 if j < K else 1 for j in range(K + 1)] for i in range(N)]\n",
    "    dp.append([0 if j < K else 1 for j in range(K + 1)])\n",
    "\n",
    "    # Traverse through grid\n",
    "    for i in range(N - 1, -1, -1):\n",
    "        for total in range(K):\n",
    "            dp[i][total] = dp[i + 1][total]\n",
    "            if total + arr[i] <= K:\n",
    "                dp[i][total] += dp[i + 1][total + arr[i]]\n",
    "\n",
    "    return dp[0][0] * (2 ** zero_count)\n",
    "\n",
    "# Testing the solution\n",
    "assert perfectSumTabulation([5, 2, 3, 10, 6, 8], 6, 10) == 3\n",
    "assert perfectSumTabulation([1, 0], 2, 1) == 2"
   ]
  },
  {
   "cell_type": "code",
   "execution_count": 38,
   "id": "2d2468ad",
   "metadata": {
    "execution": {
     "iopub.execute_input": "2024-05-15T17:31:04.968304Z",
     "iopub.status.busy": "2024-05-15T17:31:04.967879Z",
     "iopub.status.idle": "2024-05-15T17:31:04.973220Z",
     "shell.execute_reply": "2024-05-15T17:31:04.972773Z"
    },
    "lines_to_next_cell": 1,
    "papermill": {
     "duration": 0.020121,
     "end_time": "2024-05-15T17:31:04.974308",
     "exception": false,
     "start_time": "2024-05-15T17:31:04.954187",
     "status": "completed"
    },
    "tags": []
   },
   "outputs": [],
   "source": [
    "def perfectSum(nums: list[int], N: int, K: int):\n",
    "    # Filter out all the zeros\n",
    "    arr: list[int] = []\n",
    "    N = zero_count = 0\n",
    "    for n in nums:\n",
    "        if n > 0:\n",
    "            arr.append(n)\n",
    "            N += 1\n",
    "        else:\n",
    "            zero_count += 1\n",
    "\n",
    "    # Initialize a DP array\n",
    "    dp: list[int] = [0 if j < K else 1 for j in range(K + 1)]\n",
    "\n",
    "    # Traverse through grid\n",
    "    for i in range(N - 1, -1, -1):\n",
    "        next_dp: list[int] = []\n",
    "        for total in range(K + 1):\n",
    "            next_dp.append(dp[total])\n",
    "            if total + arr[i] <= K:\n",
    "                next_dp[-1] += dp[total + arr[i]]\n",
    "\n",
    "        dp = next_dp\n",
    "\n",
    "    return dp[0] * (2 ** zero_count)\n",
    "\n",
    "# Testing the solution\n",
    "assert perfectSum([5, 2, 3, 10, 6, 8], 6, 10) == 3\n",
    "assert perfectSum([1, 0], 2, 1) == 2"
   ]
  },
  {
   "cell_type": "markdown",
   "id": "2bff8c7f",
   "metadata": {
    "papermill": {
     "duration": 0.012796,
     "end_time": "2024-05-15T17:31:05.000211",
     "exception": false,
     "start_time": "2024-05-15T17:31:04.987415",
     "status": "completed"
    },
    "tags": []
   },
   "source": [
    "Count Paritions with given difference: https://youtu.be/zoilQD1kYSg?si=F8PFSkzkZXEsFJ2N"
   ]
  },
  {
   "cell_type": "code",
   "execution_count": 39,
   "id": "051bd113",
   "metadata": {
    "execution": {
     "iopub.execute_input": "2024-05-15T17:31:05.027561Z",
     "iopub.status.busy": "2024-05-15T17:31:05.027055Z",
     "iopub.status.idle": "2024-05-15T17:31:05.032360Z",
     "shell.execute_reply": "2024-05-15T17:31:05.031908Z"
    },
    "lines_to_next_cell": 1,
    "papermill": {
     "duration": 0.020308,
     "end_time": "2024-05-15T17:31:05.033504",
     "exception": false,
     "start_time": "2024-05-15T17:31:05.013196",
     "status": "completed"
    },
    "tags": []
   },
   "outputs": [],
   "source": [
    "def countPartitionsMemo(N: int, diff: int, arr: list[int]) -> int:\n",
    "    \"\"\"\n",
    "    s1 + s2 = S\n",
    "    s1 - s2 = d\n",
    "    2 * s1 = S + d\n",
    "\n",
    "    Time: O(N x target) + O(N)\n",
    "    Space: O(N x target)\n",
    "    \"\"\"\n",
    "\n",
    "    # Simply check if the target exists\n",
    "    target = (sum(arr) + diff) / 2\n",
    "\n",
    "    # Count all subset sums equals target\n",
    "    @functools.cache\n",
    "    def backtrack(i: int, total: int) -> int:\n",
    "        if i == N:\n",
    "            return total == target\n",
    "        elif total > target:\n",
    "            return 0\n",
    "        else:\n",
    "            return backtrack(i + 1, total + arr[i]) + backtrack(i + 1, total)\n",
    "\n",
    "    result = backtrack(0, 0) if target == int(target) else 0\n",
    "    MOD = int(1e9 + 7)\n",
    "    return result % MOD\n",
    "\n",
    "# Testing the solution\n",
    "assert countPartitionsMemo(4, 0, [1,1,1,1]) == 6\n",
    "assert countPartitionsMemo(4, 3, [5,2,6,4]) == 1\n",
    "assert countPartitionsMemo(5, 5, [1,3,3,2,1]) == 0"
   ]
  },
  {
   "cell_type": "code",
   "execution_count": 40,
   "id": "4cd9fbc1",
   "metadata": {
    "execution": {
     "iopub.execute_input": "2024-05-15T17:31:05.060623Z",
     "iopub.status.busy": "2024-05-15T17:31:05.060140Z",
     "iopub.status.idle": "2024-05-15T17:31:05.066080Z",
     "shell.execute_reply": "2024-05-15T17:31:05.065618Z"
    },
    "lines_to_next_cell": 1,
    "papermill": {
     "duration": 0.020739,
     "end_time": "2024-05-15T17:31:05.067189",
     "exception": false,
     "start_time": "2024-05-15T17:31:05.046450",
     "status": "completed"
    },
    "tags": []
   },
   "outputs": [],
   "source": [
    "def countPartitionsTabulation(N: int, diff: int, arr: list[int]) -> int:\n",
    "    \"\"\"\n",
    "    Time: O(N x target), Space: O(N x target)\n",
    "    \"\"\"\n",
    "    # Simply check if the target exists\n",
    "    target_: float = (sum(arr) + diff) / 2\n",
    "    MOD = int(1e9 + 7)\n",
    "\n",
    "    if int(target_) != target_:\n",
    "        return 0\n",
    "\n",
    "    else:\n",
    "\n",
    "        # Convert to int for typing support\n",
    "        target = int(target_)\n",
    "\n",
    "        # Initialize DP array for tabulation\n",
    "        dp: list[list[int]] = [[0 if j != target or i != N else 1 for j in range(target + 1)] for i in range(N + 1)]\n",
    "\n",
    "        # Iterate through DP and find the solution\n",
    "        for i in range(N - 1, -1, -1):\n",
    "            for total in range(target + 1):\n",
    "                dp[i][total] = dp[i + 1][total]\n",
    "                if total + arr[i] <= target:\n",
    "                    dp[i][total] += dp[i + 1][total + arr[i]]\n",
    "\n",
    "        return dp[0][0]\n",
    "\n",
    "# Testing the solution\n",
    "assert countPartitionsTabulation(4, 3, [5,2,6,4]) == 1\n",
    "assert countPartitionsTabulation(4, 3, [5,2,6,4]) == 1\n",
    "assert countPartitionsTabulation(5, 5, [1,3,3,2,1]) == 0"
   ]
  },
  {
   "cell_type": "code",
   "execution_count": 41,
   "id": "09aacbe5",
   "metadata": {
    "execution": {
     "iopub.execute_input": "2024-05-15T17:31:05.095104Z",
     "iopub.status.busy": "2024-05-15T17:31:05.094579Z",
     "iopub.status.idle": "2024-05-15T17:31:05.100318Z",
     "shell.execute_reply": "2024-05-15T17:31:05.099777Z"
    },
    "lines_to_next_cell": 1,
    "papermill": {
     "duration": 0.021183,
     "end_time": "2024-05-15T17:31:05.101690",
     "exception": false,
     "start_time": "2024-05-15T17:31:05.080507",
     "status": "completed"
    },
    "tags": []
   },
   "outputs": [],
   "source": [
    "def countPartitions(N: int, diff: int, arr: list[int]) -> int:\n",
    "    # Simply check if the target exists\n",
    "    target_: float = (sum(arr) + diff) / 2\n",
    "    MOD = int(1e9 + 7)\n",
    "\n",
    "    if int(target_) != target_:\n",
    "        return 0\n",
    "\n",
    "    else:\n",
    "        # Convert to int for type hinting\n",
    "        target = int(target_)\n",
    "\n",
    "        # Create a 1D grid (space optimized)\n",
    "        dp: list[int] = [0 if j != target else 1 for j in range(target + 1)]\n",
    "\n",
    "        # Iterate through DP\n",
    "        for i in range(N - 1, -1, -1):\n",
    "            next_dp: list[int] = []\n",
    "            for total in range(target + 1):\n",
    "                next_dp.append(dp[total])\n",
    "                if total + arr[i] <= target:\n",
    "                    next_dp[-1] += dp[total + arr[i]]\n",
    "\n",
    "            dp = next_dp\n",
    "\n",
    "        return dp[0] % MOD\n",
    "\n",
    "# Testing the solution\n",
    "assert countPartitions(4, 3, [5,2,6,4]) == 1\n",
    "assert countPartitions(4, 3, [5,2,6,4]) == 1\n",
    "assert countPartitions(5, 5, [1,3,3,2,1]) == 0"
   ]
  },
  {
   "cell_type": "markdown",
   "id": "db7bdbb0",
   "metadata": {
    "papermill": {
     "duration": 0.012808,
     "end_time": "2024-05-15T17:31:05.127899",
     "exception": false,
     "start_time": "2024-05-15T17:31:05.115091",
     "status": "completed"
    },
    "tags": []
   },
   "source": [
    "Video Link: https://youtu.be/GqOmJHQZivw?si=dHaZZvKQa2PHaukO\n",
    "0/1 Knapsack"
   ]
  },
  {
   "cell_type": "code",
   "execution_count": 42,
   "id": "51fdc55d",
   "metadata": {
    "execution": {
     "iopub.execute_input": "2024-05-15T17:31:05.154876Z",
     "iopub.status.busy": "2024-05-15T17:31:05.154353Z",
     "iopub.status.idle": "2024-05-15T17:31:05.159843Z",
     "shell.execute_reply": "2024-05-15T17:31:05.159303Z"
    },
    "lines_to_next_cell": 1,
    "papermill": {
     "duration": 0.020222,
     "end_time": "2024-05-15T17:31:05.160905",
     "exception": false,
     "start_time": "2024-05-15T17:31:05.140683",
     "status": "completed"
    },
    "tags": []
   },
   "outputs": [],
   "source": [
    "def knapsack01Memo(N: int, max_weight: int, weights: list[int], values: list[int]) -> int:\n",
    "    \"\"\"\n",
    "    Time complexity without memoization: O(2 ** N), Space: O(N).\n",
    "    Post memoization: O(N x max_weight), Space: O(N x max_weight)\n",
    "    \"\"\"\n",
    "    @functools.cache\n",
    "    def backtrack(i: int, total_weight: int) -> float:\n",
    "        \"\"\"\n",
    "        Intuition: Till index i, what is the max value, we can accumulate with max_weight as total_weight.\n",
    "        \"\"\"\n",
    "        if total_weight > max_weight:\n",
    "            return -math.inf\n",
    "        elif i >= N:\n",
    "            return 0\n",
    "        else:\n",
    "            pick = values[i] + backtrack(i + 1, total_weight + weights[i])\n",
    "            nopick = backtrack(i + 1, total_weight)\n",
    "            return max(pick, nopick)\n",
    "\n",
    "    result = backtrack(0, 0)\n",
    "    return int(max(result, 0))\n",
    "\n",
    "# Testing the solution\n",
    "assert knapsack01Memo(4, 5, [1,2,4,5], [5,4,8,6]) == 13\n",
    "assert knapsack01Memo(3, 8, [3,4,5], [30,50,60]) == 90"
   ]
  },
  {
   "cell_type": "code",
   "execution_count": 43,
   "id": "e0b05d00",
   "metadata": {
    "execution": {
     "iopub.execute_input": "2024-05-15T17:31:05.188123Z",
     "iopub.status.busy": "2024-05-15T17:31:05.187603Z",
     "iopub.status.idle": "2024-05-15T17:31:05.193033Z",
     "shell.execute_reply": "2024-05-15T17:31:05.192504Z"
    },
    "lines_to_next_cell": 1,
    "papermill": {
     "duration": 0.020288,
     "end_time": "2024-05-15T17:31:05.194165",
     "exception": false,
     "start_time": "2024-05-15T17:31:05.173877",
     "status": "completed"
    },
    "tags": []
   },
   "outputs": [],
   "source": [
    "def knapsack01Tabulation(N: int, max_weight: int, weights: list[int], values: list[int]) -> int:\n",
    "    dp: list[list[int]] = [[-1 if i < N else 0 for j in range(max_weight + 1)] for i in range(N + 1)]\n",
    "    for i in range(N - 1, -1, -1):\n",
    "        for total_weight in range(max_weight + 1):\n",
    "            # No pick\n",
    "            dp[i][total_weight] = dp[i + 1][total_weight]\n",
    "\n",
    "            # Pick\n",
    "            if total_weight + weights[i] <= max_weight:\n",
    "                dp[i][total_weight] = max(dp[i][total_weight], values[i] + dp[i + 1][total_weight + weights[i]])\n",
    "\n",
    "    return dp[0][0]\n",
    "\n",
    "# Testing the solution\n",
    "assert knapsack01Tabulation(4, 5, [1,2,4,5], [5,4,8,6]) == 13\n",
    "assert knapsack01Tabulation(3, 8, [3,4,5], [30,50,60]) == 90"
   ]
  },
  {
   "cell_type": "code",
   "execution_count": 44,
   "id": "045af9de",
   "metadata": {
    "execution": {
     "iopub.execute_input": "2024-05-15T17:31:05.221739Z",
     "iopub.status.busy": "2024-05-15T17:31:05.221194Z",
     "iopub.status.idle": "2024-05-15T17:31:05.226267Z",
     "shell.execute_reply": "2024-05-15T17:31:05.225819Z"
    },
    "lines_to_next_cell": 1,
    "papermill": {
     "duration": 0.020022,
     "end_time": "2024-05-15T17:31:05.227376",
     "exception": false,
     "start_time": "2024-05-15T17:31:05.207354",
     "status": "completed"
    },
    "tags": []
   },
   "outputs": [],
   "source": [
    "def knapsack01SpaceOptimized(N: int, max_weight: int, weights: list[int], values: list[int]) -> int:\n",
    "    dp: list[int] = [0 for j in range(max_weight + 1)]\n",
    "    for i in range(N - 1, -1, -1):\n",
    "        next_dp: list[int] = []\n",
    "        for total_weight in range(max_weight + 1):\n",
    "            next_dp.append(dp[total_weight]) # No pick\n",
    "            if weights[i] + total_weight <= max_weight:\n",
    "                next_dp[-1] = max(next_dp[-1], values[i] + dp[weights[i] + total_weight]) # Pick\n",
    "        dp = next_dp\n",
    "\n",
    "    return dp[0]\n",
    "\n",
    "# Testing the solution\n",
    "assert knapsack01SpaceOptimized(4, 5, [1,2,4,5], [5,4,8,6]) == 13\n",
    "assert knapsack01SpaceOptimized(3, 8, [3,4,5], [30,50,60]) == 90"
   ]
  },
  {
   "cell_type": "code",
   "execution_count": 45,
   "id": "b6d1c8d2",
   "metadata": {
    "execution": {
     "iopub.execute_input": "2024-05-15T17:31:05.254495Z",
     "iopub.status.busy": "2024-05-15T17:31:05.254030Z",
     "iopub.status.idle": "2024-05-15T17:31:05.259018Z",
     "shell.execute_reply": "2024-05-15T17:31:05.258563Z"
    },
    "lines_to_next_cell": 1,
    "papermill": {
     "duration": 0.019752,
     "end_time": "2024-05-15T17:31:05.260100",
     "exception": false,
     "start_time": "2024-05-15T17:31:05.240348",
     "status": "completed"
    },
    "tags": []
   },
   "outputs": [],
   "source": [
    "def knapsack01(N: int, max_weight: int, weights: list[int], values: list[int]) -> int:\n",
    "    \"\"\"\n",
    "    Space optimization to use just a single row. This is possible because\n",
    "    in the inner loop we are moving from the left to right and at each iteration\n",
    "    we are using the element to the right, we have no need of the element to the left\n",
    "\n",
    "    [x . . . . . . * . . . ]\n",
    "    [. x . . . * . . . . . ]\n",
    "    [. . x . . . . . * . . ]\n",
    "\n",
    "    At the inner loop we had required the value of the element to the left, this would not have been possible.\n",
    "    \"\"\"\n",
    "    dp: list[int] = [0 for j in range(max_weight + 1)]\n",
    "    for i in range(N - 1, -1, -1):\n",
    "        for total_weight in range(max_weight + 1):\n",
    "            if weights[i] + total_weight <= max_weight:\n",
    "                dp[total_weight] = max(dp[total_weight], values[i] + dp[total_weight + weights[i]])\n",
    "\n",
    "    return dp[0]\n",
    "\n",
    "# Testing the solution\n",
    "assert knapsack01(4, 5, [1,2,4,5], [5,4,8,6]) == 13\n",
    "assert knapsack01(3, 8, [3,4,5], [30,50,60]) == 90"
   ]
  },
  {
   "cell_type": "markdown",
   "id": "71d6293a",
   "metadata": {
    "papermill": {
     "duration": 0.012744,
     "end_time": "2024-05-15T17:31:05.285904",
     "exception": false,
     "start_time": "2024-05-15T17:31:05.273160",
     "status": "completed"
    },
    "tags": []
   },
   "source": [
    "Video link: https://youtu.be/myPeWb3Y68A?si=9z1QMQXCYmEcFEW4\n",
    "Coin Change: https://leetcode.com/problems/coin-change/submissions/1255049748\n",
    "Logic: Whenever there is an infinite / unlimited supply, not_take would update the index, <br>\n",
    "take would not update index - it would stay where it is because we might end up picking it more than once"
   ]
  },
  {
   "cell_type": "code",
   "execution_count": 46,
   "id": "93a2c45e",
   "metadata": {
    "execution": {
     "iopub.execute_input": "2024-05-15T17:31:05.312726Z",
     "iopub.status.busy": "2024-05-15T17:31:05.312347Z",
     "iopub.status.idle": "2024-05-15T17:31:05.317149Z",
     "shell.execute_reply": "2024-05-15T17:31:05.316688Z"
    },
    "lines_to_next_cell": 1,
    "papermill": {
     "duration": 0.019572,
     "end_time": "2024-05-15T17:31:05.318251",
     "exception": false,
     "start_time": "2024-05-15T17:31:05.298679",
     "status": "completed"
    },
    "tags": []
   },
   "outputs": [],
   "source": [
    "def coinChangeMemoization(coins: list[int], amount: int) -> int:\n",
    "    \"\"\"\n",
    "    Without memoization, the time complexity is roughly 2 ** N. It would be greater than\n",
    "    2 ** N since at each index for take we are still staying at the same index.\n",
    "\n",
    "    With memoization, the time complexity is O(N x amount)\n",
    "    \"\"\"\n",
    "    @functools.cache\n",
    "    def backtrack(i: int, total: int) -> float:\n",
    "        if total == amount:\n",
    "            return 0\n",
    "        elif i == N or total > amount:\n",
    "            return math.inf\n",
    "        else:\n",
    "            return min(1 + backtrack(i, total + coins[i]), backtrack(i + 1, total))\n",
    "\n",
    "    N = len(coins)\n",
    "    result = backtrack(0, 0)\n",
    "    return int(result) if not math.isinf(result) else -1\n",
    "\n",
    "# Testing the solution\n",
    "assert coinChangeMemoization([1,2,5], 11) == 3\n",
    "assert coinChangeMemoization([2], 3) == -1"
   ]
  },
  {
   "cell_type": "code",
   "execution_count": 47,
   "id": "eb1b662f",
   "metadata": {
    "execution": {
     "iopub.execute_input": "2024-05-15T17:31:05.346238Z",
     "iopub.status.busy": "2024-05-15T17:31:05.345802Z",
     "iopub.status.idle": "2024-05-15T17:31:05.351081Z",
     "shell.execute_reply": "2024-05-15T17:31:05.350596Z"
    },
    "lines_to_next_cell": 1,
    "papermill": {
     "duration": 0.020542,
     "end_time": "2024-05-15T17:31:05.352307",
     "exception": false,
     "start_time": "2024-05-15T17:31:05.331765",
     "status": "completed"
    },
    "tags": []
   },
   "outputs": [],
   "source": [
    "def coinChangeTabulation(coins: list[int], amount: int) -> int:\n",
    "    N = len(coins)\n",
    "    dp: list[list[float]] = [[math.inf if j < amount else 0 for j in range(amount + 1)] for i in range(N + 1)]\n",
    "    for i in range(N - 1, -1, -1):\n",
    "        for total in range(amount, -1, -1):\n",
    "            if total + coins[i] <= amount:\n",
    "                dp[i][total] = min(dp[i + 1][total], 1 + dp[i][total + coins[i]])\n",
    "            else:\n",
    "                dp[i][total] = dp[i + 1][total]\n",
    "\n",
    "    result = dp[0][0]\n",
    "    return int(result) if not math.isinf(result) else -1\n",
    "\n",
    "# Testing the solution\n",
    "assert coinChangeTabulation([1,2,5], 11) == 3\n",
    "assert coinChangeTabulation([2], 3) == -1"
   ]
  },
  {
   "cell_type": "code",
   "execution_count": 48,
   "id": "ddd554c7",
   "metadata": {
    "execution": {
     "iopub.execute_input": "2024-05-15T17:31:05.380239Z",
     "iopub.status.busy": "2024-05-15T17:31:05.379653Z",
     "iopub.status.idle": "2024-05-15T17:31:05.384716Z",
     "shell.execute_reply": "2024-05-15T17:31:05.384178Z"
    },
    "lines_to_next_cell": 1,
    "papermill": {
     "duration": 0.02006,
     "end_time": "2024-05-15T17:31:05.385946",
     "exception": false,
     "start_time": "2024-05-15T17:31:05.365886",
     "status": "completed"
    },
    "tags": []
   },
   "outputs": [],
   "source": [
    "def coinChangeSpaceOptimized(coins: list[int], amount: int) -> int:\n",
    "    N = len(coins)\n",
    "    dp: list[float] = [math.inf if j < amount else 0 for j in range(amount + 1)]\n",
    "    for i in range(N - 1, -1, -1):\n",
    "        for total in range(amount, -1, -1):\n",
    "            if total + coins[i] <= amount:\n",
    "                dp[total] = min(dp[total], 1 + dp[total + coins[i]])\n",
    "\n",
    "    result = dp[0]\n",
    "    return int(result) if not math.isinf(result) else -1\n",
    "\n",
    "# Testing the solution\n",
    "assert coinChangeSpaceOptimized([1,2,5], 11) == 3\n",
    "assert coinChangeSpaceOptimized([2], 3) == -1"
   ]
  },
  {
   "cell_type": "markdown",
   "id": "3e5fb6cb",
   "metadata": {
    "papermill": {
     "duration": 0.012901,
     "end_time": "2024-05-15T17:31:05.412037",
     "exception": false,
     "start_time": "2024-05-15T17:31:05.399136",
     "status": "completed"
    },
    "tags": []
   },
   "source": [
    "Video Link: https://youtu.be/b3GD8263-PQ?si=CNz-raf3oynQQsPJ\n",
    "Target Sum: https://leetcode.com/problems/target-sum/"
   ]
  },
  {
   "cell_type": "code",
   "execution_count": 49,
   "id": "18960ee2",
   "metadata": {
    "execution": {
     "iopub.execute_input": "2024-05-15T17:31:05.438867Z",
     "iopub.status.busy": "2024-05-15T17:31:05.438353Z",
     "iopub.status.idle": "2024-05-15T17:31:05.442842Z",
     "shell.execute_reply": "2024-05-15T17:31:05.442396Z"
    },
    "lines_to_next_cell": 1,
    "papermill": {
     "duration": 0.019227,
     "end_time": "2024-05-15T17:31:05.443958",
     "exception": false,
     "start_time": "2024-05-15T17:31:05.424731",
     "status": "completed"
    },
    "tags": []
   },
   "outputs": [],
   "source": [
    "# https://leetcode.com/problems/target-sum/submissions/1255976702\n",
    "def findTargetSumWaysMemo(nums: list[int], target: int) -> int:\n",
    "    @functools.cache\n",
    "    def backtrack(i: int, total: int) -> int:\n",
    "        if i == N:\n",
    "            return int(total == target)\n",
    "        else:\n",
    "            return backtrack(i + 1, total - nums[i]) + backtrack(i + 1, total + nums[i])\n",
    "\n",
    "    N = len(nums)\n",
    "    return backtrack(0, 0)\n",
    "\n",
    "# Testing the solution\n",
    "assert findTargetSumWaysMemo([1,1,1,1,1], 3) == 5\n",
    "assert findTargetSumWaysMemo([1], 2) == 0"
   ]
  },
  {
   "cell_type": "code",
   "execution_count": 50,
   "id": "8420cf7b",
   "metadata": {
    "execution": {
     "iopub.execute_input": "2024-05-15T17:31:05.471810Z",
     "iopub.status.busy": "2024-05-15T17:31:05.471321Z",
     "iopub.status.idle": "2024-05-15T17:31:05.476851Z",
     "shell.execute_reply": "2024-05-15T17:31:05.476317Z"
    },
    "lines_to_next_cell": 1,
    "papermill": {
     "duration": 0.020899,
     "end_time": "2024-05-15T17:31:05.478028",
     "exception": false,
     "start_time": "2024-05-15T17:31:05.457129",
     "status": "completed"
    },
    "tags": []
   },
   "outputs": [],
   "source": [
    "def findTargetSumWaysTab(nums: list[int], target: int) -> int:\n",
    "    N: int = len(nums)\n",
    "    boundary: int = sum(nums)\n",
    "    dp: list[list[int]] = [[0 if i < N or j != target else 1 for j in range(-boundary, boundary + 1)] for i in range(N + 1)]\n",
    "\n",
    "    for i in range(N - 1, -1, -1):\n",
    "        for total in range(-boundary, boundary + 1):\n",
    "            if total - nums[i] + boundary >= 0:\n",
    "                dp[i][total + boundary] += dp[i + 1][total - nums[i] + boundary]\n",
    "            if total + nums[i] + boundary <= 2 * boundary:\n",
    "                dp[i][total + boundary] += dp[i + 1][total + nums[i] + boundary]\n",
    "\n",
    "    return dp[0][boundary]\n",
    "\n",
    "# Testing the solution\n",
    "assert findTargetSumWaysTab([1,1,1,1,1], 3) == 5\n",
    "assert findTargetSumWaysTab([1], 2) == 0"
   ]
  },
  {
   "cell_type": "code",
   "execution_count": 51,
   "id": "7c66396e",
   "metadata": {
    "execution": {
     "iopub.execute_input": "2024-05-15T17:31:05.505370Z",
     "iopub.status.busy": "2024-05-15T17:31:05.504976Z",
     "iopub.status.idle": "2024-05-15T17:31:05.510313Z",
     "shell.execute_reply": "2024-05-15T17:31:05.509849Z"
    },
    "lines_to_next_cell": 1,
    "papermill": {
     "duration": 0.020185,
     "end_time": "2024-05-15T17:31:05.511389",
     "exception": false,
     "start_time": "2024-05-15T17:31:05.491204",
     "status": "completed"
    },
    "tags": []
   },
   "outputs": [],
   "source": [
    "# https://leetcode.com/problems/target-sum/submissions/1255976333/\n",
    "def findTargetSumWays(nums: list[int], target: int) -> int:\n",
    "    N = len(nums)\n",
    "    boundary: int = sum(nums)\n",
    "    dp: list[int] = [0 if j != target else 1 for j in range(-boundary, boundary + 1)]\n",
    "\n",
    "    for i in range(N - 1, -1, -1):\n",
    "        next_dp: list[int] = []\n",
    "        for total in range(-boundary, boundary + 1):\n",
    "            next_dp.append(0)\n",
    "            if total + nums[i] + boundary <= 2 * boundary:\n",
    "                next_dp[-1] += dp[total + nums[i] + boundary]\n",
    "            if total - nums[i] + boundary >= 0:\n",
    "                next_dp[-1] += dp[total - nums[i] + boundary]\n",
    "\n",
    "        dp = next_dp\n",
    "\n",
    "    return dp[boundary]\n",
    "\n",
    "# Testing the solution\n",
    "assert findTargetSumWays([1,1,1,1,1], 3) == 5\n",
    "assert findTargetSumWays([1], 2) == 0"
   ]
  },
  {
   "cell_type": "code",
   "execution_count": 52,
   "id": "8f0e96f1",
   "metadata": {
    "execution": {
     "iopub.execute_input": "2024-05-15T17:31:05.538554Z",
     "iopub.status.busy": "2024-05-15T17:31:05.538053Z",
     "iopub.status.idle": "2024-05-15T17:31:05.544274Z",
     "shell.execute_reply": "2024-05-15T17:31:05.543812Z"
    },
    "lines_to_next_cell": 1,
    "papermill": {
     "duration": 0.020926,
     "end_time": "2024-05-15T17:31:05.545293",
     "exception": false,
     "start_time": "2024-05-15T17:31:05.524367",
     "status": "completed"
    },
    "tags": []
   },
   "outputs": [],
   "source": [
    "# Striver's approach: Use logic from 'Count Paritions with given difference'\n",
    "# https://leetcode.com/problems/target-sum/submissions/1255993345/\n",
    "def findTargetSumWaysStriver(nums: list[int], target: int) -> int:\n",
    "    \"\"\"\n",
    "    We need to count the number of subsets s1, s2 such that s1 - s2 = target.\n",
    "    s1 = (S + d) / 2\n",
    "    \"\"\"\n",
    "\n",
    "    S = sum(nums)\n",
    "    s1 = (S + target) / 2\n",
    "    s2 = S - s1\n",
    "\n",
    "    # Edge case - target is negative.\n",
    "    if s1 < 0:\n",
    "        s1 = s2\n",
    "\n",
    "    count = 0\n",
    "    if int(s1) == s1:\n",
    "        s1 = int(s1)\n",
    "        zero_count = nums.count(0)\n",
    "        nums = list(filter(lambda x: x != 0, nums))\n",
    "        N = len(nums)\n",
    "        dp: list[int] = [0 if j < s1 else 1 for j in range(s1 + 1)]\n",
    "        for i in range(N - 1, -1, -1):\n",
    "            for total in range(s1 + 1):\n",
    "                if total + nums[i] <= s1:\n",
    "                    dp[total] += dp[total + nums[i]]\n",
    "\n",
    "        count = dp[0] * (2 ** zero_count)\n",
    "\n",
    "    return count\n",
    "\n",
    "# Testing the solution\n",
    "assert findTargetSumWaysStriver([1,1,1,1,1], 3) == 5\n",
    "assert findTargetSumWaysStriver([1,0,0], 1) == 4\n",
    "assert findTargetSumWaysStriver([100], -200) == 0\n",
    "assert findTargetSumWaysStriver([100], -100) == 1"
   ]
  },
  {
   "cell_type": "markdown",
   "id": "54ee6894",
   "metadata": {
    "papermill": {
     "duration": 0.013035,
     "end_time": "2024-05-15T17:31:05.571485",
     "exception": false,
     "start_time": "2024-05-15T17:31:05.558450",
     "status": "completed"
    },
    "tags": []
   },
   "source": [
    "Video link: https://youtu.be/HgyouUi11zk?si=tgZcsIOYwWogacGr\n",
    "Coin Change II: https://leetcode.com/problems/coin-change-ii/description/"
   ]
  },
  {
   "cell_type": "code",
   "execution_count": 53,
   "id": "a21ca5a5",
   "metadata": {
    "execution": {
     "iopub.execute_input": "2024-05-15T17:31:05.598901Z",
     "iopub.status.busy": "2024-05-15T17:31:05.598399Z",
     "iopub.status.idle": "2024-05-15T17:31:05.602886Z",
     "shell.execute_reply": "2024-05-15T17:31:05.602335Z"
    },
    "lines_to_next_cell": 1,
    "papermill": {
     "duration": 0.019613,
     "end_time": "2024-05-15T17:31:05.603975",
     "exception": false,
     "start_time": "2024-05-15T17:31:05.584362",
     "status": "completed"
    },
    "tags": []
   },
   "outputs": [],
   "source": [
    "def coinChangeMemo(amount: int, coins: list[int]):\n",
    "    \"\"\"\n",
    "    Time: ~O(N x amount), Space: O(N x amount) + O(amount)\n",
    "    \"\"\"\n",
    "\n",
    "    @functools.cache\n",
    "    def backtrack(i: int, total: int) -> int:\n",
    "        if total == amount:\n",
    "            return 1\n",
    "        elif total > amount or i == N:\n",
    "            return 0\n",
    "        else:\n",
    "            return backtrack(i, total + coins[i]) + backtrack(i + 1, total)\n",
    "\n",
    "    N = len(coins)\n",
    "    return backtrack(0, 0)\n",
    "\n",
    "# Testing the solution\n",
    "assert coinChangeMemo(5, [1,2,5]) == 4\n",
    "assert coinChangeMemo(3, [2]) == 0"
   ]
  },
  {
   "cell_type": "code",
   "execution_count": 54,
   "id": "b74d7fa9",
   "metadata": {
    "execution": {
     "iopub.execute_input": "2024-05-15T17:31:05.631367Z",
     "iopub.status.busy": "2024-05-15T17:31:05.630868Z",
     "iopub.status.idle": "2024-05-15T17:31:05.635387Z",
     "shell.execute_reply": "2024-05-15T17:31:05.634832Z"
    },
    "lines_to_next_cell": 1,
    "papermill": {
     "duration": 0.019454,
     "end_time": "2024-05-15T17:31:05.636531",
     "exception": false,
     "start_time": "2024-05-15T17:31:05.617077",
     "status": "completed"
    },
    "tags": []
   },
   "outputs": [],
   "source": [
    "# https://leetcode.com/problems/coin-change-ii/submissions/1256028931\n",
    "def coinChangeTab(amount: int, coins: list[int]):\n",
    "    N = len(coins)\n",
    "    dp: list[int] = [0 if j != amount else 1 for j in range(amount + 1)]\n",
    "    for i in range(N - 1, -1, -1):\n",
    "        for total in range(amount, -1, -1):\n",
    "            if total + coins[i] <= amount:\n",
    "                dp[total] += dp[total + coins[i]]\n",
    "\n",
    "    return dp[0]\n",
    "\n",
    "# Testing the solution\n",
    "assert coinChangeTab(5, [1,2,5]) == 4\n",
    "assert coinChangeTab(3, [2]) == 0"
   ]
  },
  {
   "cell_type": "markdown",
   "id": "b0b593c4",
   "metadata": {
    "papermill": {
     "duration": 0.01269,
     "end_time": "2024-05-15T17:31:05.662307",
     "exception": false,
     "start_time": "2024-05-15T17:31:05.649617",
     "status": "completed"
    },
    "tags": []
   },
   "source": [
    "Video Link: https://youtu.be/OgvOZ6OrJoY?si=rcbpx6IrU_SvQ4v1\n",
    "Unbounded Knapsack"
   ]
  },
  {
   "cell_type": "code",
   "execution_count": 55,
   "id": "5fc22211",
   "metadata": {
    "execution": {
     "iopub.execute_input": "2024-05-15T17:31:05.689276Z",
     "iopub.status.busy": "2024-05-15T17:31:05.688914Z",
     "iopub.status.idle": "2024-05-15T17:31:05.693739Z",
     "shell.execute_reply": "2024-05-15T17:31:05.693230Z"
    },
    "lines_to_next_cell": 1,
    "papermill": {
     "duration": 0.019732,
     "end_time": "2024-05-15T17:31:05.694848",
     "exception": false,
     "start_time": "2024-05-15T17:31:05.675116",
     "status": "completed"
    },
    "tags": []
   },
   "outputs": [],
   "source": [
    "def unboundedKnapSackMemo(N: int, max_weight: int, values: list[int], weights: list[int]) -> int:\n",
    "     @functools.cache\n",
    "     def backtrack(i: int, total_weight: int) -> float:\n",
    "         if total_weight > max_weight:\n",
    "             return -math.inf\n",
    "         elif i == N:\n",
    "             return 0\n",
    "         else:\n",
    "             return max(values[i] + backtrack(i, total_weight + weights[i]), backtrack(i + 1, total_weight))\n",
    "\n",
    "     return int(backtrack(0, 0))\n",
    "\n",
    "# Testing the solution\n",
    "assert unboundedKnapSackMemo(2, 3, [1, 1], [2, 1]) == 3\n",
    "assert unboundedKnapSackMemo(4, 8, [6, 1, 7, 7], [1, 3, 4, 5]) == 48"
   ]
  },
  {
   "cell_type": "code",
   "execution_count": 56,
   "id": "3377312f",
   "metadata": {
    "execution": {
     "iopub.execute_input": "2024-05-15T17:31:05.722058Z",
     "iopub.status.busy": "2024-05-15T17:31:05.721610Z",
     "iopub.status.idle": "2024-05-15T17:31:05.726412Z",
     "shell.execute_reply": "2024-05-15T17:31:05.725872Z"
    },
    "lines_to_next_cell": 1,
    "papermill": {
     "duration": 0.019521,
     "end_time": "2024-05-15T17:31:05.727469",
     "exception": false,
     "start_time": "2024-05-15T17:31:05.707948",
     "status": "completed"
    },
    "tags": []
   },
   "outputs": [],
   "source": [
    "def unboundedKnapSackTab(N: int, max_weight: int, values: list[int], weights: list[int]) -> int:\n",
    "    dp: list[int] = [0 for j in range(max_weight + 1)]\n",
    "    for i in range(N - 1, -1, -1):\n",
    "        for total in range(max_weight, -1, -1):\n",
    "            if total + weights[i] <= max_weight:\n",
    "                dp[total] = max(dp[total], values[i] + dp[total + weights[i]])\n",
    "\n",
    "    return dp[0]\n",
    "\n",
    "# Testing the solution\n",
    "assert unboundedKnapSackTab(2, 3, [1, 1], [2, 1]) == 3\n",
    "assert unboundedKnapSackTab(4, 8, [6, 1, 7, 7], [1, 3, 4, 5]) == 48"
   ]
  },
  {
   "cell_type": "markdown",
   "id": "2d0c40ff",
   "metadata": {
    "papermill": {
     "duration": 0.012543,
     "end_time": "2024-05-15T17:31:05.753026",
     "exception": false,
     "start_time": "2024-05-15T17:31:05.740483",
     "status": "completed"
    },
    "tags": []
   },
   "source": [
    "Video Link: https://youtu.be/mO8XpGoJwuo?si=uzBPZ8auw70L9WCm\n",
    "Rod cutting Problem"
   ]
  },
  {
   "cell_type": "code",
   "execution_count": 57,
   "id": "aee57cd8",
   "metadata": {
    "execution": {
     "iopub.execute_input": "2024-05-15T17:31:05.779755Z",
     "iopub.status.busy": "2024-05-15T17:31:05.779122Z",
     "iopub.status.idle": "2024-05-15T17:31:05.784145Z",
     "shell.execute_reply": "2024-05-15T17:31:05.783706Z"
    },
    "lines_to_next_cell": 1,
    "papermill": {
     "duration": 0.019559,
     "end_time": "2024-05-15T17:31:05.785233",
     "exception": false,
     "start_time": "2024-05-15T17:31:05.765674",
     "status": "completed"
    },
    "tags": []
   },
   "outputs": [],
   "source": [
    "def cutRodMemo(price: list[int], N: int) -> int:\n",
    "    @functools.cache\n",
    "    def backtrack(i: int, length: int) -> float:\n",
    "        if length == 0:\n",
    "            return 0\n",
    "        elif i == N or length < 0:\n",
    "            return -math.inf\n",
    "        else:\n",
    "            return max(price[i] + backtrack(i, length - i - 1), backtrack(i + 1, length))\n",
    "\n",
    "    result = backtrack(0, N)\n",
    "    return int(result)\n",
    "\n",
    "# Testing the solution\n",
    "assert cutRodMemo([1, 5, 8, 9, 10, 17, 17, 20], 8) == 22\n",
    "assert cutRodMemo([3, 5, 8, 9, 10, 17, 17, 20], 8) == 24"
   ]
  },
  {
   "cell_type": "code",
   "execution_count": 58,
   "id": "bcdf21dd",
   "metadata": {
    "execution": {
     "iopub.execute_input": "2024-05-15T17:31:05.812541Z",
     "iopub.status.busy": "2024-05-15T17:31:05.812080Z",
     "iopub.status.idle": "2024-05-15T17:31:05.816824Z",
     "shell.execute_reply": "2024-05-15T17:31:05.816312Z"
    },
    "lines_to_next_cell": 1,
    "papermill": {
     "duration": 0.019715,
     "end_time": "2024-05-15T17:31:05.817996",
     "exception": false,
     "start_time": "2024-05-15T17:31:05.798281",
     "status": "completed"
    },
    "tags": []
   },
   "outputs": [],
   "source": [
    "def cutRodTab(price: list[int], N: int) -> int:\n",
    "    dp: list[float] = [-math.inf if j > 0 else 0 for j in range(N + 1)]\n",
    "    for i in range(N - 1, -1, -1):\n",
    "        for length in range(N + 1):\n",
    "            if length - i - 1 >= 0:\n",
    "                dp[length] = max(dp[length], price[i] + dp[length - i - 1])\n",
    "\n",
    "    return int(dp[N])\n",
    "\n",
    "# Testing the solution\n",
    "assert cutRodTab([1, 5, 8, 9, 10, 17, 17, 20], 8) == 22\n",
    "assert cutRodTab([3, 5, 8, 9, 10, 17, 17, 20], 8) == 24"
   ]
  },
  {
   "cell_type": "markdown",
   "id": "8e8177cc",
   "metadata": {
    "papermill": {
     "duration": 0.012844,
     "end_time": "2024-05-15T17:31:05.843866",
     "exception": false,
     "start_time": "2024-05-15T17:31:05.831022",
     "status": "completed"
    },
    "tags": []
   },
   "source": [
    "Video link: https://youtu.be/NPZn9jBrX8U?si=RNey3xHjlEm1LXyr\n",
    "Longest common subsequences: https://leetcode.com/problems/longest-common-subsequence\n",
    "Naive approach: Generate all subsequences O((2 ** N) x (2 ** M)) and compare common subsequences in both"
   ]
  },
  {
   "cell_type": "code",
   "execution_count": 59,
   "id": "917d5e52",
   "metadata": {
    "execution": {
     "iopub.execute_input": "2024-05-15T17:31:05.870987Z",
     "iopub.status.busy": "2024-05-15T17:31:05.870562Z",
     "iopub.status.idle": "2024-05-15T17:31:05.875806Z",
     "shell.execute_reply": "2024-05-15T17:31:05.875299Z"
    },
    "papermill": {
     "duration": 0.020228,
     "end_time": "2024-05-15T17:31:05.876871",
     "exception": false,
     "start_time": "2024-05-15T17:31:05.856643",
     "status": "completed"
    },
    "tags": []
   },
   "outputs": [],
   "source": [
    "def longestCommonSubsequenceMemo(text1: str, text2: str) -> int:\n",
    "    # Time: O(N x M), Space: O(N x M) + O(M + N)\n",
    "    @functools.cache\n",
    "    def backtrack(i: int, j: int) -> int:\n",
    "        if i == N1 or j == N2:\n",
    "            return 0\n",
    "        elif text1[i] == text2[j]:\n",
    "            return 1 + backtrack(i + 1, j + 1)\n",
    "        else:\n",
    "            return max(backtrack(i + 1, j), backtrack(i, j + 1))\n",
    "\n",
    "    N1, N2 = len(text1), len(text2)\n",
    "    return backtrack(0, 0)\n",
    "\n",
    "# Testing the solution\n",
    "assert longestCommonSubsequenceMemo(\"abcde\", \"ace\") == 3\n",
    "assert longestCommonSubsequenceMemo(\"bsbininm\", \"jmjkbkjkv\") == 1\n",
    "assert longestCommonSubsequenceMemo(\"aaaaaaaaaaaaaaaaaaaaaaaaaaaaaaaaaaa\", \"aaaaaaaaaaaaaaaaaaaaaaaaaaaaaaaaaaaaaaaaaaaaa\") == 35\n",
    "assert longestCommonSubsequenceMemo(\"bl\", \"yby\") == 1"
   ]
  },
  {
   "cell_type": "code",
   "execution_count": 60,
   "id": "30813726",
   "metadata": {
    "execution": {
     "iopub.execute_input": "2024-05-15T17:31:05.904369Z",
     "iopub.status.busy": "2024-05-15T17:31:05.903858Z",
     "iopub.status.idle": "2024-05-15T17:31:05.909567Z",
     "shell.execute_reply": "2024-05-15T17:31:05.909111Z"
    },
    "lines_to_next_cell": 1,
    "papermill": {
     "duration": 0.020592,
     "end_time": "2024-05-15T17:31:05.910658",
     "exception": false,
     "start_time": "2024-05-15T17:31:05.890066",
     "status": "completed"
    },
    "tags": []
   },
   "outputs": [],
   "source": [
    "def longestCommonSubsequenceTab(text1: str, text2: str) -> int:\n",
    "    # Time: O(M x N), Space: O(N x M)\n",
    "    N1, N2 = len(text1), len(text2)\n",
    "    dp: list[list[int]] = [[0 for j in range(N2 + 1)] for i in range(N1 + 1)]\n",
    "    for i in range(N1 - 1, -1, -1):\n",
    "        for j in range(N2 - 1, -1, -1):\n",
    "            if text1[i] == text2[j]:\n",
    "                dp[i][j] = 1 + dp[i + 1][j + 1]\n",
    "            else:\n",
    "                dp[i][j] = max(dp[i + 1][j], dp[i][j + 1])\n",
    "\n",
    "    return dp[0][0]\n",
    "\n",
    "# Testing the solution\n",
    "assert longestCommonSubsequenceTab(\"abcde\", \"ace\") == 3\n",
    "assert longestCommonSubsequenceTab(\"bsbininm\", \"jmjkbkjkv\") == 1\n",
    "assert longestCommonSubsequenceTab(\"aaaaaaaaaaaaaaaaaaaaaaaaaaaaaaaaaaa\", \"aaaaaaaaaaaaaaaaaaaaaaaaaaaaaaaaaaaaaaaaaaaaa\") == 35\n",
    "assert longestCommonSubsequenceTab(\"bl\", \"yby\") == 1"
   ]
  },
  {
   "cell_type": "code",
   "execution_count": 61,
   "id": "e099ef3b",
   "metadata": {
    "execution": {
     "iopub.execute_input": "2024-05-15T17:31:05.937951Z",
     "iopub.status.busy": "2024-05-15T17:31:05.937446Z",
     "iopub.status.idle": "2024-05-15T17:31:05.942717Z",
     "shell.execute_reply": "2024-05-15T17:31:05.942270Z"
    },
    "lines_to_next_cell": 1,
    "papermill": {
     "duration": 0.02024,
     "end_time": "2024-05-15T17:31:05.943884",
     "exception": false,
     "start_time": "2024-05-15T17:31:05.923644",
     "status": "completed"
    },
    "tags": []
   },
   "outputs": [],
   "source": [
    "# https://leetcode.com/problems/longest-common-subsequence/submissions/1256127917\n",
    "def longestCommonSubsequence(text1: str, text2: str) -> int:\n",
    "    # Time: O(M x N), Space: O(N2 + N2)\n",
    "    N1, N2 = len(text1), len(text2)\n",
    "    dp: list[int] = [0 for j in range(N2 + 1)]\n",
    "    for i in range(N1 - 1, -1, -1):\n",
    "        next_dp: list[int] = list(dp)\n",
    "        for j in range(N2 - 1, -1, -1):\n",
    "            if text1[i] == text2[j]:\n",
    "                next_dp[j] = 1 + dp[j + 1]\n",
    "            else:\n",
    "                next_dp[j] = max(dp[j], next_dp[j + 1])\n",
    "\n",
    "        dp = next_dp\n",
    "\n",
    "    return dp[0]\n",
    "\n",
    "# Testing the solution\n",
    "assert longestCommonSubsequence(\"abcde\", \"ace\") == 3\n",
    "assert longestCommonSubsequence(\"bsbininm\", \"jmjkbkjkv\") == 1\n",
    "assert longestCommonSubsequence(\"aaaaaaaaaaaaaaaaaaaaaaaaaaaaaaaaaaa\", \"aaaaaaaaaaaaaaaaaaaaaaaaaaaaaaaaaaaaaaaaaaaaa\") == 35\n",
    "assert longestCommonSubsequence(\"bl\", \"yby\") == 1"
   ]
  },
  {
   "cell_type": "markdown",
   "id": "e01786f1",
   "metadata": {
    "papermill": {
     "duration": 0.012805,
     "end_time": "2024-05-15T17:31:05.969769",
     "exception": false,
     "start_time": "2024-05-15T17:31:05.956964",
     "status": "completed"
    },
    "tags": []
   },
   "source": [
    "Video Link: https://youtu.be/-zI4mrF2Pb4?si=8kICsv0E7jYx6sWn\n",
    "Print longest common subsequece"
   ]
  },
  {
   "cell_type": "code",
   "execution_count": 62,
   "id": "1c0d3fe8",
   "metadata": {
    "execution": {
     "iopub.execute_input": "2024-05-15T17:31:05.996959Z",
     "iopub.status.busy": "2024-05-15T17:31:05.996455Z",
     "iopub.status.idle": "2024-05-15T17:31:06.004674Z",
     "shell.execute_reply": "2024-05-15T17:31:06.004110Z"
    },
    "lines_to_next_cell": 1,
    "papermill": {
     "duration": 0.023227,
     "end_time": "2024-05-15T17:31:06.005750",
     "exception": false,
     "start_time": "2024-05-15T17:31:05.982523",
     "status": "completed"
    },
    "tags": []
   },
   "outputs": [],
   "source": [
    "def all_longest_common_subsequences(text1: str, text2: str) -> list[str]:\n",
    "    \"\"\"\n",
    "    DP grid computes the longest common subseq length given starting pos of text1, text2\n",
    "    We start at -1, -1 on the grid.\n",
    "    If text1[i] == text2[j], we know that the line: 1 + dp[i + 1][j + 1] was executed, there we increment both i, j by 1\n",
    "    If text1[i] != text2[j], either the max came from text1 or text2. If only one max exists, recurse into that else recurse through both\n",
    "\n",
    "    Time: DP grid compute: O(M x N) + Backtracking to find longest common subsequence: O(M + N)\n",
    "    Space: O(M x N)\n",
    "    \"\"\"\n",
    "\n",
    "    N1, N2 = len(text1), len(text2)\n",
    "    dp: list[list[int]] = [[0 for j in range(N2 + 1)] for i in range(N1 + 1)]\n",
    "    for i in range(N1 - 1, -1, -1):\n",
    "        for j in range(N2 - 1, -1, -1):\n",
    "            if text1[i] == text2[j]:\n",
    "                dp[i][j] = 1 + dp[i + 1][j + 1]\n",
    "            else:\n",
    "                dp[i][j] = max(dp[i + 1][j], dp[i][j + 1])\n",
    "\n",
    "    def backtrack(i: int, j: int):\n",
    "        if dp[i][j] == 0:\n",
    "            result.add(''.join(stack))\n",
    "            return\n",
    "        elif text1[i] == text2[j]:\n",
    "            stack.append(text1[i])\n",
    "            backtrack(i + 1, j + 1)\n",
    "            stack.pop()\n",
    "        else:\n",
    "            max_ = max(dp[i + 1][j], dp[i][j + 1])\n",
    "            if dp[i + 1][j] == max_:\n",
    "                backtrack(i + 1, j)\n",
    "            if dp[i][j + 1] == max_:\n",
    "                backtrack(i, j + 1)\n",
    "\n",
    "    result: set[str] = set()\n",
    "    stack: list[str] = []\n",
    "    backtrack(i, j)\n",
    "    return sorted(result)\n",
    "\n",
    "# Tesitng the solution\n",
    "assert all_longest_common_subsequences(\"abcde\", \"ace\") == ['ace']\n",
    "assert all_longest_common_subsequences(\"abaaa\", \"baabaca\") == ['aaaa', 'abaa', 'baaa']"
   ]
  },
  {
   "cell_type": "markdown",
   "id": "1b3c52ec",
   "metadata": {
    "papermill": {
     "duration": 0.012735,
     "end_time": "2024-05-15T17:31:06.031610",
     "exception": false,
     "start_time": "2024-05-15T17:31:06.018875",
     "status": "completed"
    },
    "tags": []
   },
   "source": [
    "Video Link: https://youtu.be/_wP9mWNPL5w?si=UHRuFgDl6a5g8OlH\n",
    "Longest common Substring"
   ]
  },
  {
   "cell_type": "code",
   "execution_count": 63,
   "id": "95b817c0",
   "metadata": {
    "execution": {
     "iopub.execute_input": "2024-05-15T17:31:06.058834Z",
     "iopub.status.busy": "2024-05-15T17:31:06.058496Z",
     "iopub.status.idle": "2024-05-15T17:31:06.063653Z",
     "shell.execute_reply": "2024-05-15T17:31:06.063097Z"
    },
    "lines_to_next_cell": 1,
    "papermill": {
     "duration": 0.02017,
     "end_time": "2024-05-15T17:31:06.064750",
     "exception": false,
     "start_time": "2024-05-15T17:31:06.044580",
     "status": "completed"
    },
    "tags": []
   },
   "outputs": [],
   "source": [
    "def longestCommonSubstrTab(text1: str, text2: str) -> int:\n",
    "    \"\"\"\n",
    "    Same code as longest common subsequence but with a slight modification.\n",
    "    Here we reset the dp table value to 0 if text1[i] != text2[j] instead of getting the max of dp[i + 1][j] or dp[i][j + 1] since we are not allowed non consequetive values.\n",
    "\n",
    "    Time: O(N1 x N2), Space: O(N1 x N2)\n",
    "    \"\"\"\n",
    "    N1, N2 = len(text1), len(text2)\n",
    "    dp: list[list[int]] = [[0 for j in range(N2 + 1)] for i in range(N1 + 1)]\n",
    "    max_length = 0\n",
    "    for i in range(N1 - 1, -1, -1):\n",
    "        for j in range(N2 - 1, -1, -1):\n",
    "            if text1[i] == text2[j]:\n",
    "                dp[i][j] = dp[i + 1][j + 1] + 1\n",
    "                max_length = max(max_length, dp[i][j])\n",
    "\n",
    "    return max_length\n",
    "\n",
    "# Testing the solution\n",
    "assert longestCommonSubstrTab(\"ABCDGH\", \"ACDGHR\") == 4\n",
    "assert longestCommonSubstrTab(\"ABC\", \"ACB\") == 1"
   ]
  },
  {
   "cell_type": "code",
   "execution_count": 64,
   "id": "f32221a7",
   "metadata": {
    "execution": {
     "iopub.execute_input": "2024-05-15T17:31:06.092337Z",
     "iopub.status.busy": "2024-05-15T17:31:06.091842Z",
     "iopub.status.idle": "2024-05-15T17:31:06.096688Z",
     "shell.execute_reply": "2024-05-15T17:31:06.096202Z"
    },
    "lines_to_next_cell": 1,
    "papermill": {
     "duration": 0.019741,
     "end_time": "2024-05-15T17:31:06.097769",
     "exception": false,
     "start_time": "2024-05-15T17:31:06.078028",
     "status": "completed"
    },
    "tags": []
   },
   "outputs": [],
   "source": [
    "def longestCommonSubstr(text1: str, text2: str) -> int:\n",
    "    \"\"\"Time: O(N1 x N2), Space: O(N2)\"\"\"\n",
    "    N1, N2 = len(text1), len(text2)\n",
    "    dp: list[int] = [0 for j in range(N2 + 1)]\n",
    "    max_length = 0\n",
    "    for i in range(N1 - 1, -1, -1):\n",
    "        next_dp: list[int] = [0]\n",
    "        for j in range(N2 - 1, -1, -1):\n",
    "            if text1[i] == text2[j]:\n",
    "                next_dp.append(1 + dp[j + 1])\n",
    "                max_length = max(max_length, next_dp[-1])\n",
    "            else:\n",
    "                next_dp.append(0)\n",
    "\n",
    "        dp = list(reversed(next_dp))\n",
    "\n",
    "    return max_length\n",
    "\n",
    "# Testing the solution\n",
    "assert longestCommonSubstr(\"ABCDGH\", \"ACDGHR\") == 4\n",
    "assert longestCommonSubstr(\"ABC\", \"ACB\") == 1"
   ]
  },
  {
   "cell_type": "markdown",
   "id": "32bd7ea7",
   "metadata": {
    "papermill": {
     "duration": 0.01274,
     "end_time": "2024-05-15T17:31:06.123424",
     "exception": false,
     "start_time": "2024-05-15T17:31:06.110684",
     "status": "completed"
    },
    "tags": []
   },
   "source": [
    "Video Link: https://youtu.be/6i_T5kkfv4A?si=3pJmCMahWgxxnGRq\n",
    "Longest Palindromic Subsequence"
   ]
  },
  {
   "cell_type": "code",
   "execution_count": 65,
   "id": "d0a53967",
   "metadata": {
    "execution": {
     "iopub.execute_input": "2024-05-15T17:31:06.150212Z",
     "iopub.status.busy": "2024-05-15T17:31:06.149686Z",
     "iopub.status.idle": "2024-05-15T17:31:06.154272Z",
     "shell.execute_reply": "2024-05-15T17:31:06.153850Z"
    },
    "lines_to_next_cell": 1,
    "papermill": {
     "duration": 0.019207,
     "end_time": "2024-05-15T17:31:06.155380",
     "exception": false,
     "start_time": "2024-05-15T17:31:06.136173",
     "status": "completed"
    },
    "tags": []
   },
   "outputs": [],
   "source": [
    "# https://leetcode.com/problems/longest-palindromic-subsequence/submissions/1256744931\n",
    "def longestPalindromeSubseqMemo(text: str) -> int:\n",
    "    @functools.cache\n",
    "    def backtrack(i: int, j: int) -> int:\n",
    "        if i >= j:\n",
    "            return int(i == j)\n",
    "        elif text[i] == text[j]:\n",
    "            return 2 + backtrack(i + 1, j - 1)\n",
    "        else:\n",
    "            return max(backtrack(i + 1, j), backtrack(i, j - 1))\n",
    "\n",
    "    N = len(text)\n",
    "    result = backtrack(0, N - 1)\n",
    "    return result\n",
    "\n",
    "# Testing the solution\n",
    "assert longestPalindromeSubseqMemo(\"bbbab\") == 4\n",
    "assert longestPalindromeSubseqMemo(\"cbbd\") == 2"
   ]
  },
  {
   "cell_type": "code",
   "execution_count": 66,
   "id": "c5612366",
   "metadata": {
    "execution": {
     "iopub.execute_input": "2024-05-15T17:31:06.182755Z",
     "iopub.status.busy": "2024-05-15T17:31:06.182364Z",
     "iopub.status.idle": "2024-05-15T17:31:06.187389Z",
     "shell.execute_reply": "2024-05-15T17:31:06.186960Z"
    },
    "lines_to_next_cell": 1,
    "papermill": {
     "duration": 0.019852,
     "end_time": "2024-05-15T17:31:06.188507",
     "exception": false,
     "start_time": "2024-05-15T17:31:06.168655",
     "status": "completed"
    },
    "tags": []
   },
   "outputs": [],
   "source": [
    "def longestPalindromeSubseqTab(text: str) -> int:\n",
    "    N = len(text)\n",
    "    dp: list[list[int]] = [[0 if j != (N - 1) / 2 else 1 for j in range(N + 1)] for i in range(N + 1)]\n",
    "    for i in range(N - 1, -1, -1):\n",
    "        for j in range(N):\n",
    "            if i >= j:\n",
    "                dp[i][j] = int(i == j)\n",
    "            elif text[i] == text[j]:\n",
    "                dp[i][j] = 2 + dp[i + 1][j - 1]\n",
    "            else:\n",
    "                dp[i][j] = max(dp[i + 1][j], dp[i][j - 1])\n",
    "\n",
    "    return dp[0][N - 1]\n",
    "\n",
    "# Testing the solution\n",
    "assert longestPalindromeSubseqTab(\"bbbab\") == 4\n",
    "assert longestPalindromeSubseqTab(\"cbbd\") == 2"
   ]
  },
  {
   "cell_type": "code",
   "execution_count": 67,
   "id": "a74fa1d5",
   "metadata": {
    "execution": {
     "iopub.execute_input": "2024-05-15T17:31:06.216010Z",
     "iopub.status.busy": "2024-05-15T17:31:06.215533Z",
     "iopub.status.idle": "2024-05-15T17:31:06.220627Z",
     "shell.execute_reply": "2024-05-15T17:31:06.220146Z"
    },
    "lines_to_next_cell": 1,
    "papermill": {
     "duration": 0.02003,
     "end_time": "2024-05-15T17:31:06.221751",
     "exception": false,
     "start_time": "2024-05-15T17:31:06.201721",
     "status": "completed"
    },
    "tags": []
   },
   "outputs": [],
   "source": [
    "# https://leetcode.com/problems/longest-palindromic-subsequence/submissions/1256759252\n",
    "def longestPalindromeSubseq(text: str) -> int:\n",
    "    N = len(text)\n",
    "    dp: list[int] = [0 if j != (N - 1) / 2 else 1 for j in range(N + 1)]\n",
    "    for i in range(N - 1, -1, -1):\n",
    "        next_dp: list[int] = []\n",
    "        for j in range(N):\n",
    "            if i >= j:\n",
    "                next_dp.append(int(i == j))\n",
    "            elif text[i] == text[j]:\n",
    "                next_dp.append(2 + dp[j - 1])\n",
    "            else:\n",
    "                next_dp.append(max(dp[j], next_dp[-1]))\n",
    "\n",
    "        # We run the inner loop for N iterations, dp however has a length of N + 1\n",
    "        # Hence we add 0 in the end to make sure that the values are consistent of DP compute\n",
    "        # We could make this simpler by initializing next_dp as list(dp), but that would\n",
    "        # be wasted O(N) runtime.\n",
    "        next_dp.append(0)\n",
    "        dp = next_dp\n",
    "\n",
    "    return dp[N - 1]\n",
    "\n",
    "# Testing the solution\n",
    "assert longestPalindromeSubseq(\"bbbab\") == 4\n",
    "assert longestPalindromeSubseq(\"cbbd\") == 2"
   ]
  },
  {
   "cell_type": "code",
   "execution_count": 68,
   "id": "e94ba584",
   "metadata": {
    "execution": {
     "iopub.execute_input": "2024-05-15T17:31:06.249051Z",
     "iopub.status.busy": "2024-05-15T17:31:06.248543Z",
     "iopub.status.idle": "2024-05-15T17:31:06.253874Z",
     "shell.execute_reply": "2024-05-15T17:31:06.253427Z"
    },
    "lines_to_next_cell": 1,
    "papermill": {
     "duration": 0.02017,
     "end_time": "2024-05-15T17:31:06.254942",
     "exception": false,
     "start_time": "2024-05-15T17:31:06.234772",
     "status": "completed"
    },
    "tags": []
   },
   "outputs": [],
   "source": [
    "def longestPalindromeSubseqStriver(text: str) -> int:\n",
    "    \"\"\"\n",
    "    1. We reverse text.\n",
    "    2. Whatever value is the LCS of both the texts, that is our desired answer\n",
    "    \"\"\"\n",
    "    def LCS(text1: str, text2: str) -> int:\n",
    "        N = len(text1)\n",
    "        dp: list[int] = [0 for j in range(N + 1)]\n",
    "        for i in range(N - 1, -1, -1):\n",
    "            next_dp: list[int] = list(dp)\n",
    "            for j in range(N - 1, -1, -1):\n",
    "                if text1[i] == text2[j]:\n",
    "                    next_dp[j] = 1 + dp[j + 1]\n",
    "                else:\n",
    "                    next_dp[j] = max(dp[j], next_dp[j + 1])\n",
    "            dp = next_dp\n",
    "\n",
    "        return dp[0]\n",
    "\n",
    "    return LCS(text, text[::-1])\n",
    "\n",
    "# Testing the solution\n",
    "assert longestPalindromeSubseqStriver(\"bbbab\") == 4\n",
    "assert longestPalindromeSubseqStriver(\"cbbd\") == 2"
   ]
  },
  {
   "cell_type": "code",
   "execution_count": 69,
   "id": "5a62593a",
   "metadata": {
    "execution": {
     "iopub.execute_input": "2024-05-15T17:31:06.282237Z",
     "iopub.status.busy": "2024-05-15T17:31:06.281859Z",
     "iopub.status.idle": "2024-05-15T17:31:06.284405Z",
     "shell.execute_reply": "2024-05-15T17:31:06.283965Z"
    },
    "papermill": {
     "duration": 0.017425,
     "end_time": "2024-05-15T17:31:06.285493",
     "exception": false,
     "start_time": "2024-05-15T17:31:06.268068",
     "status": "completed"
    },
    "tags": []
   },
   "outputs": [],
   "source": [
    "# Video link: https://youtu.be/xPBLEj41rFU?si=TkaEwZIQqY7WkasB\n",
    "# Minimum insertions to make a string palindromic"
   ]
  },
  {
   "cell_type": "code",
   "execution_count": 70,
   "id": "a73343a1",
   "metadata": {
    "execution": {
     "iopub.execute_input": "2024-05-15T17:31:06.312642Z",
     "iopub.status.busy": "2024-05-15T17:31:06.312163Z",
     "iopub.status.idle": "2024-05-15T17:31:06.316920Z",
     "shell.execute_reply": "2024-05-15T17:31:06.316476Z"
    },
    "lines_to_next_cell": 1,
    "papermill": {
     "duration": 0.019518,
     "end_time": "2024-05-15T17:31:06.317959",
     "exception": false,
     "start_time": "2024-05-15T17:31:06.298441",
     "status": "completed"
    },
    "tags": []
   },
   "outputs": [],
   "source": [
    "# https://leetcode.com/problems/minimum-insertion-steps-to-make-a-string-palindrome/submissions/1256992480/\n",
    "def minInsertions(text: str) -> int:\n",
    "    \"\"\"\n",
    "    1. Find the longest palindromic substring\n",
    "    2. Minimum insertions required would be length of the N - longest palindromic substr\n",
    "    \"\"\"\n",
    "\n",
    "    @functools.cache\n",
    "    def longestPalindromicSubstrLength(i: int, j: int) -> int:\n",
    "        if i >= j:\n",
    "            return int(i == j)\n",
    "        elif text[i] == text[j]:\n",
    "            return 2 + longestPalindromicSubstrLength(i + 1, j - 1)\n",
    "        else:\n",
    "            return max(longestPalindromicSubstrLength(i + 1, j), longestPalindromicSubstrLength(i, j - 1))\n",
    "\n",
    "    N = len(text)\n",
    "    return N - longestPalindromicSubstrLength(0, N - 1)\n",
    "\n",
    "# Testing the solution\n",
    "assert minInsertions(\"mbadm\") == 2\n",
    "assert minInsertions(\"leetcode\") == 5"
   ]
  },
  {
   "cell_type": "markdown",
   "id": "76604d02",
   "metadata": {
    "papermill": {
     "duration": 0.013308,
     "end_time": "2024-05-15T17:31:06.344382",
     "exception": false,
     "start_time": "2024-05-15T17:31:06.331074",
     "status": "completed"
    },
    "tags": []
   },
   "source": [
    "Minimum ops to convert s1 to s2\n",
    "Video Link: https://youtu.be/yMnH0jrir0Q?si=WNsLNkqd3rhHqzDX"
   ]
  },
  {
   "cell_type": "code",
   "execution_count": 71,
   "id": "07d4a7a1",
   "metadata": {
    "execution": {
     "iopub.execute_input": "2024-05-15T17:31:06.372984Z",
     "iopub.status.busy": "2024-05-15T17:31:06.372469Z",
     "iopub.status.idle": "2024-05-15T17:31:06.379228Z",
     "shell.execute_reply": "2024-05-15T17:31:06.378768Z"
    },
    "lines_to_next_cell": 1,
    "papermill": {
     "duration": 0.02277,
     "end_time": "2024-05-15T17:31:06.380282",
     "exception": false,
     "start_time": "2024-05-15T17:31:06.357512",
     "status": "completed"
    },
    "tags": []
   },
   "outputs": [],
   "source": [
    "# https://leetcode.com/problems/delete-operation-for-two-strings/submissions/1257015539\n",
    "def minDistance(word1: str, word2: str) -> int:\n",
    "    \"\"\"\n",
    "    The idea is to think about what characters we should leave untouched. In this\n",
    "    case, we can leave out characters that are subsequences also present in word2.o\n",
    "\n",
    "    Hence logic: Find length of longest common subsequence -> (N1 - S) + (N2 - S)\n",
    "    \"\"\"\n",
    "    N1, N2 = len(word1), len(word2)\n",
    "    dp: list[int] = [0 for j in range(N2 + 1)]\n",
    "    for i in range(N1 - 1, -1, -1):\n",
    "        next_dp: list[int] = [0]\n",
    "        for j in range(N2 - 1, -1, -1):\n",
    "            if word1[i] == word2[j]:\n",
    "                next_dp.append(1 + dp[j + 1])\n",
    "            else:\n",
    "                next_dp.append(max(dp[j], next_dp[-1]))\n",
    "\n",
    "        next_dp.reverse()\n",
    "        dp = next_dp\n",
    "\n",
    "    substr_length = dp[0]\n",
    "    return (N1 - substr_length) + (N2 - substr_length)\n",
    "\n",
    "# Testing the solution\n",
    "assert minDistance(\"leetcode\", \"etco\") == 4\n",
    "assert minDistance(\"sea\", \"eat\") == 2"
   ]
  },
  {
   "cell_type": "markdown",
   "id": "899a0256",
   "metadata": {
    "papermill": {
     "duration": 0.012913,
     "end_time": "2024-05-15T17:31:06.406214",
     "exception": false,
     "start_time": "2024-05-15T17:31:06.393301",
     "status": "completed"
    },
    "tags": []
   },
   "source": [
    "Shortest common supersequence: https://youtu.be/xElxAuBcvsU?si=A_v7qeegsKrHgGle\n",
    "https://leetcode.com/problems/shortest-common-supersequence/"
   ]
  },
  {
   "cell_type": "code",
   "execution_count": 72,
   "id": "ddeea61a",
   "metadata": {
    "execution": {
     "iopub.execute_input": "2024-05-15T17:31:06.433300Z",
     "iopub.status.busy": "2024-05-15T17:31:06.432754Z",
     "iopub.status.idle": "2024-05-15T17:31:06.440943Z",
     "shell.execute_reply": "2024-05-15T17:31:06.440385Z"
    },
    "lines_to_next_cell": 1,
    "papermill": {
     "duration": 0.023125,
     "end_time": "2024-05-15T17:31:06.442152",
     "exception": false,
     "start_time": "2024-05-15T17:31:06.419027",
     "status": "completed"
    },
    "tags": []
   },
   "outputs": [],
   "source": [
    "# https://leetcode.com/problems/shortest-common-supersequence/submissions/1257426491\n",
    "def shortestCommonSupersequenceBetter(str1: str, str2: str) -> str:\n",
    "    \"\"\"\n",
    "    Logic: Common characters should be taken once. Add missing characters in order.\n",
    "    \"\"\"\n",
    "    N1, N2 = len(str1), len(str2)\n",
    "\n",
    "    # Compute the DP grid for Longest common subsequence\n",
    "    dp: list[list[int]] = [[0 for j in range(N2 + 1)] for i in range(N1 + 1)]\n",
    "    for i in range(N1 - 1, -1, -1):\n",
    "        for j in range(N2 - 1, -1, -1):\n",
    "            if str1[i] == str2[j]:\n",
    "                dp[i][j] = 1 + dp[i + 1][j + 1]\n",
    "            else:\n",
    "                dp[i][j] = max(dp[i + 1][j], dp[i][j + 1])\n",
    "\n",
    "    # Find out the subsequence\n",
    "    lcs_list: list[str] = []\n",
    "    i = j = 0\n",
    "    while i < N1 and j < N2:\n",
    "        if str1[i] == str2[j]:\n",
    "            lcs_list.append(str1[i])\n",
    "            i, j = i + 1, j + 1\n",
    "        elif dp[i][j + 1] >= dp[i + 1][j]:\n",
    "            j = j + 1\n",
    "        else:\n",
    "            i = i + 1\n",
    "\n",
    "    # Compute LCS string\n",
    "    lcs_list.append(\"*\")\n",
    "    lcs = ''.join(lcs_list)\n",
    "    N3 = len(lcs)\n",
    "\n",
    "    # Add the missing characters in order\n",
    "    i = j = k = 0\n",
    "    supersequence_list: list[str] = []\n",
    "    while k < N3:\n",
    "        while i < N1 and str1[i] != lcs[k]:\n",
    "            supersequence_list.append(str1[i])\n",
    "            i += 1\n",
    "        while j < N2 and str2[j] != lcs[k]:\n",
    "            supersequence_list.append(str2[j])\n",
    "            j += 1\n",
    "        supersequence_list.append(lcs[k])\n",
    "        i, j, k = i + 1, j + 1, k + 1\n",
    "\n",
    "    supersequence_list.pop()\n",
    "    return ''.join(supersequence_list)\n",
    "\n",
    "# Testing the solution\n",
    "assert len(shortestCommonSupersequenceBetter(\"abac\", \"cab\")) == 5\n",
    "assert len(shortestCommonSupersequenceBetter(\"brute\", \"groot\")) == 8"
   ]
  },
  {
   "cell_type": "code",
   "execution_count": 73,
   "id": "e8a2cfe9",
   "metadata": {
    "execution": {
     "iopub.execute_input": "2024-05-15T17:31:06.470297Z",
     "iopub.status.busy": "2024-05-15T17:31:06.469641Z",
     "iopub.status.idle": "2024-05-15T17:31:06.476512Z",
     "shell.execute_reply": "2024-05-15T17:31:06.476047Z"
    },
    "lines_to_next_cell": 1,
    "papermill": {
     "duration": 0.022092,
     "end_time": "2024-05-15T17:31:06.477644",
     "exception": false,
     "start_time": "2024-05-15T17:31:06.455552",
     "status": "completed"
    },
    "tags": []
   },
   "outputs": [],
   "source": [
    "# https://leetcode.com/problems/shortest-common-supersequence/submissions/1257436090/\n",
    "def shortestCommonSupersequenceStriver(str1: str, str2: str) -> str:\n",
    "    \"\"\"\n",
    "    Instead of computing the missing characters seperately we add them during out iteration through the DP table itself.\n",
    "    \"\"\"\n",
    "    N1, N2 = len(str1), len(str2)\n",
    "\n",
    "    # Compute the DP grid for Longest common subsequence\n",
    "    dp: list[list[int]] = [[0 for j in range(N2 + 1)] for i in range(N1 + 1)]\n",
    "    for i in range(N1 - 1, -1, -1):\n",
    "        for j in range(N2 - 1, -1, -1):\n",
    "            if str1[i] == str2[j]:\n",
    "                dp[i][j] = 1 + dp[i + 1][j + 1]\n",
    "            else:\n",
    "                dp[i][j] = max(dp[i + 1][j], dp[i][j + 1])\n",
    "\n",
    "    # Find out the supersequence, slight modification to LCS print code\n",
    "    # Instead of iterating until any one of the strings going out of bounds, we iterate until both are out of bounds\n",
    "    # When strings don't match and we go to the direction of maximum in the DP table, we add the string that is being shrunk\n",
    "    # j = j + 1 code => str2[j] is added other wise str1[i]\n",
    "    supersequence_list: list[str] = []\n",
    "    i = j = 0\n",
    "    while i < N1 or j < N2:\n",
    "        if i < N1 and j < N2 and str1[i] == str2[j]:\n",
    "            supersequence_list.append(str1[i])\n",
    "            i, j = i + 1, j + 1\n",
    "        elif i >= N1 or (j < N2 and dp[i][j + 1] >= dp[i + 1][j]):\n",
    "            supersequence_list.append(str2[j])\n",
    "            j = j + 1\n",
    "        else:\n",
    "            supersequence_list.append(str1[i])\n",
    "            i = i + 1\n",
    "\n",
    "    return ''.join(supersequence_list)\n",
    "\n",
    "# Testing the solution\n",
    "assert len(shortestCommonSupersequenceStriver(\"abac\", \"cab\")) == 5\n",
    "assert len(shortestCommonSupersequenceStriver(\"brute\", \"groot\")) == 8"
   ]
  },
  {
   "cell_type": "markdown",
   "id": "2e842207",
   "metadata": {
    "papermill": {
     "duration": 0.012774,
     "end_time": "2024-05-15T17:31:06.503624",
     "exception": false,
     "start_time": "2024-05-15T17:31:06.490850",
     "status": "completed"
    },
    "tags": []
   },
   "source": [
    "Number of Distinct Subsequences: https://leetcode.com/problems/distinct-subsequences\n",
    "Video Link: https://youtu.be/nVG7eTiD2bY?si=aNNyhjH2VDvfErnT\n",
    "Naive Time complexity: Exponential, Space: O(M + N)"
   ]
  },
  {
   "cell_type": "code",
   "execution_count": 74,
   "id": "b80cade8",
   "metadata": {
    "execution": {
     "iopub.execute_input": "2024-05-15T17:31:06.530949Z",
     "iopub.status.busy": "2024-05-15T17:31:06.530417Z",
     "iopub.status.idle": "2024-05-15T17:31:06.535028Z",
     "shell.execute_reply": "2024-05-15T17:31:06.534484Z"
    },
    "lines_to_next_cell": 1,
    "papermill": {
     "duration": 0.019646,
     "end_time": "2024-05-15T17:31:06.536283",
     "exception": false,
     "start_time": "2024-05-15T17:31:06.516637",
     "status": "completed"
    },
    "tags": []
   },
   "outputs": [],
   "source": [
    "def numDistinctMemo(s: str, t: str) -> int:\n",
    "    @functools.cache\n",
    "    def backtrack(i: int, j: int) -> int:\n",
    "        if j >= N2:\n",
    "            return 1\n",
    "        elif i >= N1:\n",
    "            return 0\n",
    "        elif s[i] != t[j]:\n",
    "            return backtrack(i + 1, j)\n",
    "        else:\n",
    "            return backtrack(i + 1, j + 1) + backtrack(i + 1, j)\n",
    "\n",
    "    N1, N2 = len(s), len(t)\n",
    "    return backtrack(0, 0)\n",
    "\n",
    "# Testing the solution\n",
    "assert numDistinctMemo(\"babgbag\", \"bag\") == 5\n",
    "assert numDistinctMemo(\"rabbbit\", \"rabbit\") == 3"
   ]
  },
  {
   "cell_type": "code",
   "execution_count": 75,
   "id": "97af7ce5",
   "metadata": {
    "execution": {
     "iopub.execute_input": "2024-05-15T17:31:06.564005Z",
     "iopub.status.busy": "2024-05-15T17:31:06.563513Z",
     "iopub.status.idle": "2024-05-15T17:31:06.568685Z",
     "shell.execute_reply": "2024-05-15T17:31:06.568117Z"
    },
    "lines_to_next_cell": 1,
    "papermill": {
     "duration": 0.020219,
     "end_time": "2024-05-15T17:31:06.569823",
     "exception": false,
     "start_time": "2024-05-15T17:31:06.549604",
     "status": "completed"
    },
    "tags": []
   },
   "outputs": [],
   "source": [
    "def numDistinctTab(s: str, t: str) -> int:\n",
    "    N1, N2 = len(s), len(t)\n",
    "    dp: list[list[int]] = [[0 if j < N2 else 1 for j in range(N2 + 1)] for i in range(N1 + 1)]\n",
    "    for i in range(N1 - 1, -1, -1):\n",
    "        for j in range(N2 - 1, -1, -1):\n",
    "            if s[i] != t[j]:\n",
    "                dp[i][j] = dp[i + 1][j]\n",
    "            else:\n",
    "                dp[i][j] = dp[i + 1][j + 1] + dp[i + 1][j]\n",
    "\n",
    "    return dp[0][0]\n",
    "\n",
    "# Testing the solution\n",
    "assert numDistinctTab(\"babgbag\", \"bag\") == 5\n",
    "assert numDistinctTab(\"rabbbit\", \"rabbit\") == 3"
   ]
  },
  {
   "cell_type": "code",
   "execution_count": 76,
   "id": "7ac5bcf2",
   "metadata": {
    "execution": {
     "iopub.execute_input": "2024-05-15T17:31:06.597457Z",
     "iopub.status.busy": "2024-05-15T17:31:06.596982Z",
     "iopub.status.idle": "2024-05-15T17:31:06.602001Z",
     "shell.execute_reply": "2024-05-15T17:31:06.601541Z"
    },
    "lines_to_next_cell": 1,
    "papermill": {
     "duration": 0.019851,
     "end_time": "2024-05-15T17:31:06.603070",
     "exception": false,
     "start_time": "2024-05-15T17:31:06.583219",
     "status": "completed"
    },
    "tags": []
   },
   "outputs": [],
   "source": [
    "# https://leetcode.com/problems/distinct-subsequences/submissions/1258020441\n",
    "def numDistinctSpaceOptimized(s: str, t: str) -> int:\n",
    "    N1, N2 = len(s), len(t)\n",
    "    dp: list[int] = [0 if j < N2 else 1 for j in range(N2 + 1)]\n",
    "    for i in range(N1 - 1, -1, -1):\n",
    "        next_dp: list[int] = [1]\n",
    "        for j in range(N2 - 1, -1, -1):\n",
    "            if s[i] != t[j]:\n",
    "                next_dp.append(dp[j])\n",
    "            else:\n",
    "                next_dp.append(dp[j + 1] + dp[j])\n",
    "\n",
    "        next_dp.reverse()\n",
    "        dp = next_dp\n",
    "\n",
    "    return dp[0]\n",
    "\n",
    "# Testing the solution\n",
    "assert numDistinctSpaceOptimized(\"babgbag\", \"bag\") == 5\n",
    "assert numDistinctSpaceOptimized(\"rabbbit\", \"rabbit\") == 3"
   ]
  },
  {
   "cell_type": "code",
   "execution_count": 77,
   "id": "67fc3008",
   "metadata": {
    "execution": {
     "iopub.execute_input": "2024-05-15T17:31:06.630828Z",
     "iopub.status.busy": "2024-05-15T17:31:06.630346Z",
     "iopub.status.idle": "2024-05-15T17:31:06.634811Z",
     "shell.execute_reply": "2024-05-15T17:31:06.634363Z"
    },
    "lines_to_next_cell": 1,
    "papermill": {
     "duration": 0.019635,
     "end_time": "2024-05-15T17:31:06.635976",
     "exception": false,
     "start_time": "2024-05-15T17:31:06.616341",
     "status": "completed"
    },
    "tags": []
   },
   "outputs": [],
   "source": [
    "# https://leetcode.com/problems/distinct-subsequences/submissions/1258288057\n",
    "def numDistinct(s: str, t: str) -> int:\n",
    "    N1, N2 = len(s), len(t)\n",
    "    dp: list[int] = [0 if j < N2 else 1 for j in range(N2 + 1)]\n",
    "    for i in range(N1 - 1, -1, -1):\n",
    "        for j in range(N2):\n",
    "            if s[i] == t[j]:\n",
    "                dp[j] += dp[j + 1]\n",
    "\n",
    "    return dp[0]\n",
    "\n",
    "# Testing the solution\n",
    "assert numDistinct(\"babgbag\", \"bag\") == 5\n",
    "assert numDistinct(\"rabbbit\", \"rabbit\") == 3"
   ]
  },
  {
   "cell_type": "markdown",
   "id": "88f0f8ed",
   "metadata": {
    "papermill": {
     "duration": 0.013,
     "end_time": "2024-05-15T17:31:06.662097",
     "exception": false,
     "start_time": "2024-05-15T17:31:06.649097",
     "status": "completed"
    },
    "tags": []
   },
   "source": [
    "Edit Distance\n",
    "Video Link: https://youtu.be/fJaKO8FbDdo?si=YtaIzd2Iphw_Vrlc\n",
    "Naive solution time complexity: O(3 ** N x 3 ** M), Space: O(M + N)"
   ]
  },
  {
   "cell_type": "code",
   "execution_count": 78,
   "id": "1ece6567",
   "metadata": {
    "execution": {
     "iopub.execute_input": "2024-05-15T17:31:06.689566Z",
     "iopub.status.busy": "2024-05-15T17:31:06.689172Z",
     "iopub.status.idle": "2024-05-15T17:31:06.694291Z",
     "shell.execute_reply": "2024-05-15T17:31:06.693738Z"
    },
    "lines_to_next_cell": 1,
    "papermill": {
     "duration": 0.020233,
     "end_time": "2024-05-15T17:31:06.695443",
     "exception": false,
     "start_time": "2024-05-15T17:31:06.675210",
     "status": "completed"
    },
    "tags": []
   },
   "outputs": [],
   "source": [
    "# https://leetcode.com/problems/edit-distance/submissions/1258864387/\n",
    "def editDistanceMemo(word1: str, word2: str) -> int:\n",
    "    @functools.cache\n",
    "    def backtrack(i: int, j: int) -> int:\n",
    "        if i >= N1 or j >= N2:\n",
    "            return (N1 - i) + (N2 - j)\n",
    "        elif word1[i] == word2[j]:\n",
    "            return backtrack(i + 1, j + 1)\n",
    "        else:\n",
    "            delete_op = backtrack(i + 1, j)\n",
    "            insert_op = backtrack(i, j + 1)\n",
    "            replace_op = backtrack(i + 1, j + 1)\n",
    "            return 1 + min(delete_op, insert_op, replace_op)\n",
    "\n",
    "    N1, N2 = len(word1), len(word2)\n",
    "    return backtrack(0, 0)\n",
    "\n",
    "# Testing the solution\n",
    "assert editDistanceMemo(\"horse\", \"ros\") == 3\n",
    "assert editDistanceMemo(\"intention\", \"execution\") == 5"
   ]
  },
  {
   "cell_type": "code",
   "execution_count": 79,
   "id": "a32793d7",
   "metadata": {
    "execution": {
     "iopub.execute_input": "2024-05-15T17:31:06.723294Z",
     "iopub.status.busy": "2024-05-15T17:31:06.722744Z",
     "iopub.status.idle": "2024-05-15T17:31:06.728331Z",
     "shell.execute_reply": "2024-05-15T17:31:06.727855Z"
    },
    "lines_to_next_cell": 1,
    "papermill": {
     "duration": 0.020666,
     "end_time": "2024-05-15T17:31:06.729414",
     "exception": false,
     "start_time": "2024-05-15T17:31:06.708748",
     "status": "completed"
    },
    "tags": []
   },
   "outputs": [],
   "source": [
    "def editDistanceTab(word1: str, word2: str) -> int:\n",
    "    N1, N2 = len(word1), len(word2)\n",
    "    dp: list[list[int]] = [[(N1 - i) + (N2 - j) if i >= N1 or j >= N2 else 0 for j in range(N2 + 1)] for i in range(N1 + 1)]\n",
    "    for i in range(N1 - 1, -1, -1):\n",
    "        for j in range(N2 - 1, -1, -1):\n",
    "            if word1[i] == word2[j]:\n",
    "                dp[i][j] = dp[i + 1][j + 1]\n",
    "            else:\n",
    "                dp[i][j] = 1 + min(dp[i + 1][j], dp[i][j + 1], dp[i + 1][j + 1])\n",
    "\n",
    "    return dp[0][0]\n",
    "\n",
    "# Testing the solution\n",
    "assert editDistanceTab(\"horse\", \"ros\") == 3\n",
    "assert editDistanceTab(\"intention\", \"execution\") == 5"
   ]
  },
  {
   "cell_type": "code",
   "execution_count": 80,
   "id": "5af4af2c",
   "metadata": {
    "execution": {
     "iopub.execute_input": "2024-05-15T17:31:06.757057Z",
     "iopub.status.busy": "2024-05-15T17:31:06.756599Z",
     "iopub.status.idle": "2024-05-15T17:31:06.762059Z",
     "shell.execute_reply": "2024-05-15T17:31:06.761526Z"
    },
    "lines_to_next_cell": 1,
    "papermill": {
     "duration": 0.020458,
     "end_time": "2024-05-15T17:31:06.763095",
     "exception": false,
     "start_time": "2024-05-15T17:31:06.742637",
     "status": "completed"
    },
    "tags": []
   },
   "outputs": [],
   "source": [
    "def editDistanceSpaceOptimized(word1: str, word2: str) -> int:\n",
    "    N1, N2 = len(word1), len(word2)\n",
    "    if N1 == 0 or N2 == 0:\n",
    "        return max(N1, N2)\n",
    "\n",
    "    else:\n",
    "        dp: list[int] = [N2 - j for j in range(N2 + 1)]\n",
    "        for i in range(N1 - 1, -1, -1):\n",
    "            dp[-1] = N1 - i - 1\n",
    "            next_dp: list[int] = list(dp)\n",
    "            for j in range(N2 - 1, -1, -1):\n",
    "                if word1[i] == word2[j]:\n",
    "                    next_dp[j] = dp[j + 1]\n",
    "                else:\n",
    "                    next_dp[j] = 1 + min(dp[j], dp[j + 1], next_dp[j + 1])\n",
    "\n",
    "            dp = next_dp\n",
    "\n",
    "        return dp[0]\n",
    "\n",
    "# Testing the solution\n",
    "assert editDistanceSpaceOptimized(\"horse\", \"ros\") == 3\n",
    "assert editDistanceSpaceOptimized(\"intention\", \"execution\") == 5"
   ]
  },
  {
   "cell_type": "markdown",
   "id": "06a1202d",
   "metadata": {},
   "source": [
    "Video Link: https://youtu.be/ZmlQ3vgAOMo?si=E_X4r10aFkD_A9Nn\n",
    "Wildcard Matching"
   ]
  },
  {
   "cell_type": "code",
   "execution_count": null,
   "id": "fc9c33aa",
   "metadata": {
    "lines_to_next_cell": 1
   },
   "outputs": [],
   "source": [
    "def isMatchMemo(s: str, p: str) -> bool:\n",
    "    @functools.cache\n",
    "    def backtrack(i: int, j: int) -> bool:\n",
    "        if i >= N1 and j >= N2:\n",
    "            return True\n",
    "        elif i >= N1 or j >= N2:\n",
    "            return False\n",
    "        elif s[i] == p[j] or p[j] == '?':\n",
    "            return backtrack(i + 1, j + 1)\n",
    "        elif p[j] == '*':\n",
    "            # consume s[i] or don't consume s[i]\n",
    "            return backtrack(i + 1, j) or backtrack(i, j + 1)\n",
    "        else:\n",
    "            return False\n",
    "\n",
    "    s, p = s + '$', p + '$'\n",
    "    N1, N2 = len(s), len(p)\n",
    "    return backtrack(0, 0)\n",
    "\n",
    "# Testing the solution\n",
    "assert isMatchMemo(\"d\", \"*d\") == True\n",
    "assert isMatchMemo(\"abacd\", \"*c?\") == True\n",
    "assert isMatchMemo(\"aa\", \"*\") == True\n",
    "assert isMatchMemo(\"cb\", \"?a\") == False\n",
    "assert isMatchMemo(\"cb\", \"?a\") == False\n",
    "assert isMatchMemo(\"abcabczzzde\", \"*abc???de*\") == True\n",
    "assert isMatchMemo(\"aaa\", \"***a\") == True"
   ]
  },
  {
   "cell_type": "code",
   "execution_count": null,
   "id": "66694128",
   "metadata": {
    "lines_to_next_cell": 1
   },
   "outputs": [],
   "source": [
    "def isMatchTab(s: str, p: str) -> bool:\n",
    "    s, p = s + '$', p + '$'\n",
    "    N1, N2 = len(s), len(p)\n",
    "    dp: list[list[bool]] = [[True if i >= N1 and j >= N2 else False for j in range(N2 + 1)] for i in range(N1 + 1)]\n",
    "    for i in range(N1 - 1, -1, -1):\n",
    "        for j in range(N2 - 1, -1, -1):\n",
    "            if s[i] == p[j] or p[j] == '?':\n",
    "                dp[i][j] = dp[i + 1][j + 1]\n",
    "            elif p[j] == '*':\n",
    "                dp[i][j] = dp[i + 1][j] or dp[i][j + 1]\n",
    "            else:\n",
    "                dp[i][j] = False\n",
    "\n",
    "    return dp[0][0]\n",
    "\n",
    "# Testing the solution\n",
    "assert isMatchTab(\"abacd\", \"*c?\") == True\n",
    "assert isMatchTab(\"abcabczzzde\", \"*abc???de*\") == True\n",
    "assert isMatchTab(\"aaa\", \"***?\") == True"
   ]
  },
  {
   "cell_type": "code",
   "execution_count": null,
   "id": "1803ba8d",
   "metadata": {
    "lines_to_next_cell": 1
   },
   "outputs": [],
   "source": [
    "# https://leetcode.com/problems/wildcard-matching/submissions/1259222651\n",
    "def isMatch(s: str, p: str) -> bool:\n",
    "    s, p = s + '$', p + '$'\n",
    "    N1, N2 = len(s), len(p)\n",
    "    dp: list[bool] = [True if j >= N2 else False for j in range(N2 + 1)]\n",
    "    for i in range(N1 - 1, -1, -1):\n",
    "        next_dp: list[bool] = list(dp)\n",
    "        for j in range(N2 - 1, -1, -1):\n",
    "            if s[i] == p[j] or p[j] == '?':\n",
    "                next_dp[j] = dp[j + 1]\n",
    "            elif p[j] == '*':\n",
    "                next_dp[j] = dp[j] or next_dp[j + 1]\n",
    "            else:\n",
    "                next_dp[j] = False\n",
    "\n",
    "        dp = next_dp\n",
    "\n",
    "    return dp[0]\n",
    "\n",
    "# Testing the solution\n",
    "assert isMatch(\"abacd\", \"*c?\") == True\n",
    "assert isMatch(\"abcabczzzde\", \"*abc???de*\") == True\n",
    "assert isMatch(\"aaa\", \"***?\") == True"
   ]
  },
  {
   "cell_type": "markdown",
   "id": "0af9e13b",
   "metadata": {},
   "source": [
    "Best time to buy and sell stocks - II\n",
    "Video Link: https://youtu.be/nGJmxkUJQGs?si=xgX1LFznD2IAPCJ7"
   ]
  },
  {
   "cell_type": "code",
   "execution_count": null,
   "id": "0b5303c1",
   "metadata": {
    "lines_to_next_cell": 1
   },
   "outputs": [],
   "source": [
    "def stocks1Memo(prices: list[int]) -> int:\n",
    "    @functools.cache\n",
    "    def backtrack(i: int, inventory: int) -> int:\n",
    "        if i == N:\n",
    "            return 0\n",
    "        elif inventory == -1:\n",
    "            return max(backtrack(i + 1, i), backtrack(i + 1, -1))\n",
    "        else:\n",
    "            return max(prices[i] - prices[inventory] + backtrack(i + 1, -1), backtrack(i + 1, inventory))\n",
    "\n",
    "    N = len(prices)\n",
    "    return backtrack(0, -1)\n",
    "\n",
    "# Testing the solution\n",
    "assert stocks1Memo([7,1,5,3,6,4]) == 7\n",
    "assert stocks1Memo([1,2,3,4,5]) == 4\n",
    "assert stocks1Memo([7,6,4,3,1]) == 0"
   ]
  },
  {
   "cell_type": "code",
   "execution_count": null,
   "id": "b24f5c40",
   "metadata": {
    "lines_to_next_cell": 1
   },
   "outputs": [],
   "source": [
    "# Striver's approach\n",
    "def stocks1StriverMemo(prices: list[int]) -> int:\n",
    "    @functools.cache\n",
    "    def backtrack(i: int, inventory: bool) -> int:\n",
    "        if i == N:\n",
    "            return 0\n",
    "        elif not inventory: # No stock previously purchased: buy or not buy\n",
    "            return max(-prices[i] + backtrack(i + 1, True), backtrack(i + 1, False))\n",
    "        else: # Stock already exists: sell or hold stock\n",
    "            return max(prices[i] + backtrack(i + 1, False), backtrack(i + 1, True))\n",
    "\n",
    "    N = len(prices)\n",
    "    return backtrack(0, False)\n",
    "\n",
    "# Testing the solution\n",
    "assert stocks1StriverMemo([7,1,5,3,6,4]) == 7\n",
    "assert stocks1StriverMemo([1,2,3,4,5]) == 4\n",
    "assert stocks1StriverMemo([7,6,4,3,1]) == 0"
   ]
  },
  {
   "cell_type": "code",
   "execution_count": null,
   "id": "6e752e9f",
   "metadata": {
    "lines_to_next_cell": 1
   },
   "outputs": [],
   "source": [
    "def stocks1Tab(prices: list[int]) -> int:\n",
    "    N = len(prices)\n",
    "    dp: list[list[int]] = [[0 for j in range(2)] for i in range(N + 1)]\n",
    "    for i in range(N - 1, -1, -1):\n",
    "        for j in range(1, -1, -1):\n",
    "            if j == 0:\n",
    "                dp[i][j] = max(-prices[i] + dp[i + 1][1], dp[i + 1][0])\n",
    "            else:\n",
    "                dp[i][j] = max(prices[i] + dp[i + 1][0], dp[i + 1][1])\n",
    "\n",
    "    return dp[0][0]\n",
    "\n",
    "# Testing the solution\n",
    "assert stocks1Tab([7,1,5,3,6,4]) == 7\n",
    "assert stocks1Tab([1,2,3,4,5]) == 4\n",
    "assert stocks1Tab([7,6,4,3,1]) == 0"
   ]
  },
  {
   "cell_type": "code",
   "execution_count": null,
   "id": "32c0e187",
   "metadata": {
    "lines_to_next_cell": 1
   },
   "outputs": [],
   "source": [
    "# https://leetcode.com/problems/best-time-to-buy-and-sell-stock-ii/submissions/1259669260\n",
    "def stocks1(prices: list[int]) -> int:\n",
    "    N = len(prices)\n",
    "    dp: list[int] = [0 for j in range(2)]\n",
    "    for i in range(N - 1, -1, -1):\n",
    "        for j in range(1, -1, -1):\n",
    "            if j == 0:\n",
    "                dp[j] = max(-prices[i] + dp[1], dp[0])\n",
    "            else:\n",
    "                dp[j] = max(prices[i] + dp[0], dp[1])\n",
    "\n",
    "    return dp[0]\n",
    "\n",
    "# Testing the solution\n",
    "assert stocks1([7,1,5,3,6,4]) == 7\n",
    "assert stocks1([1,2,3,4,5]) == 4\n",
    "assert stocks1([7,6,4,3,1]) == 0"
   ]
  },
  {
   "cell_type": "markdown",
   "id": "f99546d3",
   "metadata": {},
   "source": [
    "Video Link: https://youtu.be/-uQGzhYj8BQ?si=-Ps8pCdPtuWjuTQZ\n",
    "Buy and Sell Stocks - III: https://leetcode.com/problems/best-time-to-buy-and-sell-stock-iii/"
   ]
  },
  {
   "cell_type": "code",
   "execution_count": null,
   "id": "8939c406",
   "metadata": {
    "lines_to_next_cell": 1
   },
   "outputs": [],
   "source": [
    "def stocks2Memo(prices: list[int]) -> int:\n",
    "    \"\"\"\n",
    "    0 - Start\n",
    "    1 - Buy 1\n",
    "    2 - Sell 1\n",
    "    3 - Buy 2\n",
    "    4 - Sell 2\n",
    "    \"\"\"\n",
    "    @functools.cache\n",
    "    def backtrack(i: int, j: int) -> int:\n",
    "        if i == N or j == 4:\n",
    "            return 0\n",
    "        elif j % 2 == 0: # Not holding any stock: buy / not buy\n",
    "            return max(-prices[i] + backtrack(i + 1, j + 1), backtrack(i + 1, j))\n",
    "        else:\n",
    "            return max(prices[i] + backtrack(i + 1, j + 1), backtrack(i + 1, j))\n",
    "\n",
    "    N = len(prices)\n",
    "    return backtrack(0, 0)\n",
    "\n",
    "# Testing the solution\n",
    "assert stocks2Memo([3,3,5,0,0,3,1,4]) == 6\n",
    "assert stocks2Memo([1,2,3,4,5]) == 4\n",
    "assert stocks2Memo([7,6,4,3,1]) == 0"
   ]
  },
  {
   "cell_type": "code",
   "execution_count": null,
   "id": "4f33510b",
   "metadata": {
    "lines_to_next_cell": 1
   },
   "outputs": [],
   "source": [
    "def stocks2Tab(prices: list[int]) -> int:\n",
    "    N = len(prices)\n",
    "    dp: list[list[int]] = [[0 for j in range(5)] for i in range(N + 1)]\n",
    "    for i in range(N - 1, -1, -1):\n",
    "        for j in range(3, -1, -1):\n",
    "            if j % 2 == 0: # Not holding any stock: buy / not buy\n",
    "                dp[i][j] = max(-prices[i] + dp[i + 1][j + 1], dp[i + 1][j])\n",
    "            else:\n",
    "                dp[i][j] = max(prices[i] + dp[i + 1][j + 1], dp[i + 1][j])\n",
    "\n",
    "    return dp[0][0]\n",
    "\n",
    "# Testing the solution\n",
    "assert stocks2Tab([3,3,5,0,0,3,1,4]) == 6\n",
    "assert stocks2Tab([1,2,3,4,5]) == 4\n",
    "assert stocks2Tab([7,6,4,3,1]) == 0"
   ]
  },
  {
   "cell_type": "code",
   "execution_count": null,
   "id": "2d27ea1d",
   "metadata": {
    "lines_to_next_cell": 1
   },
   "outputs": [],
   "source": [
    "# https://leetcode.com/problems/best-time-to-buy-and-sell-stock-iii/submissions/1259699363\n",
    "def stocks2(prices: list[int]) -> int:\n",
    "    N = len(prices)\n",
    "    dp: list[int] = [0 for j in range(5)]\n",
    "    for i in range(N - 1, -1, -1):\n",
    "        for j in range(3, -1, -1):\n",
    "            if j % 2 == 0: # Not holding any stock: buy / not buy\n",
    "                dp[j] = max(-prices[i] + dp[j + 1], dp[j])\n",
    "            else:\n",
    "                dp[j] = max(prices[i] + dp[j + 1], dp[j])\n",
    "\n",
    "    return dp[0]\n",
    "\n",
    "# Testing the solution\n",
    "assert stocks2([3,3,5,0,0,3,1,4]) == 6\n",
    "assert stocks2([1,2,3,4,5]) == 4\n",
    "assert stocks2([7,6,4,3,1]) == 0"
   ]
  },
  {
   "cell_type": "markdown",
   "id": "3105a916",
   "metadata": {},
   "source": [
    "Best time to buy and sell stocks - IV\n",
    "Video Link: https://youtu.be/IV1dHbk5CDc?si=zvqGmxYAZN10-UGg"
   ]
  },
  {
   "cell_type": "code",
   "execution_count": null,
   "id": "9619fbbe",
   "metadata": {
    "lines_to_next_cell": 1
   },
   "outputs": [],
   "source": [
    "# Minor update on the previous problem\n",
    "def stocks3(k: int, prices: list[int]) -> int:\n",
    "    N = len(prices)\n",
    "    max_transaction = 2 * k\n",
    "    dp: list[int] = [0 for j in range(max_transaction + 1)]\n",
    "    for i in range(N - 1, -1, -1):\n",
    "        for j in range(max_transaction - 1, -1, -1):\n",
    "            if j % 2 == 0: # Not holding any stock: buy / not buy\n",
    "                dp[j] = max(-prices[i] + dp[j + 1], dp[j])\n",
    "            else:\n",
    "                dp[j] = max(prices[i] + dp[j + 1], dp[j])\n",
    "\n",
    "    return dp[0]\n",
    "\n",
    "# Testing the solution\n",
    "assert stocks3(2, [2,4,1]) == 2\n",
    "assert stocks3(2, [3,2,6,5,0,3]) == 7"
   ]
  },
  {
   "cell_type": "code",
   "execution_count": null,
   "id": "317bdab8",
   "metadata": {
    "lines_to_next_cell": 1
   },
   "outputs": [],
   "source": [
    "# Let's try striver's approach of using a 3D array\n",
    "def stocks3StriverMemo(k: int, prices: list[int]) -> int:\n",
    "    @functools.cache\n",
    "    def backtrack(i: int, inventory: bool, count: int) -> int:\n",
    "        if i == N or count == k:\n",
    "            return 0\n",
    "        elif not inventory: # Not holding any stock\n",
    "            return max(-prices[i] + backtrack(i + 1, True, count), backtrack(i + 1, False, count))\n",
    "        else:\n",
    "            return max(prices[i] + backtrack(i + 1, False, count + 1), backtrack(i + 1, True, count))\n",
    "\n",
    "    N = len(prices)\n",
    "    return backtrack(0, 0, 0)\n",
    "\n",
    "# Testing the solution\n",
    "assert stocks3StriverMemo(2, [2,4,1]) == 2\n",
    "assert stocks3StriverMemo(2, [3,2,6,5,0,3]) == 7"
   ]
  },
  {
   "cell_type": "code",
   "execution_count": null,
   "id": "a04d3d04",
   "metadata": {
    "lines_to_next_cell": 1
   },
   "outputs": [],
   "source": [
    "def stocks3StriverTab(K: int, prices: list[int]) -> int:\n",
    "    N = len(prices)\n",
    "    dp: list[list[list[int]]] = [[[0 for count in range(K + 1)] for j in range(2)] for i in range(N + 1)]\n",
    "    for i in range(N - 1, -1, -1):\n",
    "        for j in range(1, -1, -1):\n",
    "            for count in range(K - 1, -1, -1):\n",
    "                if j == 0:\n",
    "                    dp[i][j][count] = max(-prices[i] + dp[i + 1][1][count], dp[i + 1][0][count])\n",
    "                else:\n",
    "                    dp[i][j][count] = max(prices[i] + dp[i + 1][0][count + 1], dp[i + 1][1][count])\n",
    "\n",
    "    return dp[0][0][0]\n",
    "\n",
    "# Testing the solution\n",
    "assert stocks3StriverTab(2, [2,4,1]) == 2\n",
    "assert stocks3StriverTab(2, [3,2,6,5,0,3]) == 7"
   ]
  },
  {
   "cell_type": "code",
   "execution_count": null,
   "id": "f4b496e3",
   "metadata": {
    "lines_to_next_cell": 1
   },
   "outputs": [],
   "source": [
    "def stocks3Striver(K: int, prices: list[int]) -> int:\n",
    "    N = len(prices)\n",
    "    dp: list[list[int]] = [[0 for count in range(K + 1)] for j in range(2)]\n",
    "    for i in range(N - 1, -1, -1):\n",
    "        for j in range(1, -1, -1):\n",
    "            for count in range(K - 1, -1, -1):\n",
    "                if j == 0:\n",
    "                    dp[j][count] = max(-prices[i] + dp[1][count], dp[0][count])\n",
    "                else:\n",
    "                    dp[j][count] = max(prices[i] + dp[0][count + 1], dp[1][count])\n",
    "\n",
    "    return dp[0][0]\n",
    "\n",
    "# Testing the solution\n",
    "assert stocks3Striver(2, [2,4,1]) == 2\n",
    "assert stocks3Striver(2, [3,2,6,5,0,3]) == 7"
   ]
  },
  {
   "cell_type": "markdown",
   "id": "6d856ff6",
   "metadata": {},
   "source": [
    "Video link: https://youtu.be/IGIe46xw3YY?si=B0IUJM2GtIGVlq7D\n",
    "Best time to buy and sell stock with cooldown"
   ]
  },
  {
   "cell_type": "code",
   "execution_count": null,
   "id": "d8063cf8",
   "metadata": {
    "lines_to_next_cell": 1
   },
   "outputs": [],
   "source": [
    "# Copy pasting code from stocks II, when selling do a i + 2 instead of i + 1\n",
    "def stocksWithCooldownTab(prices: list[int]) -> int:\n",
    "    N = len(prices)\n",
    "    dp: list[list[int]] = [[0 for j in range(2)] for i in range(N + 2)]\n",
    "    for i in range(N - 1, -1, -1):\n",
    "        for j in range(1, -1, -1):\n",
    "            if j == 0:\n",
    "                dp[i][j] = max(-prices[i] + dp[i + 1][1], dp[i + 1][0])\n",
    "            else:\n",
    "                dp[i][j] = max(prices[i] + dp[i + 2][0], dp[i + 1][1])\n",
    "\n",
    "    return dp[0][0]\n",
    "\n",
    "# Testing the solution\n",
    "assert stocksWithCooldownTab([1,2,3,0,2]) == 3\n",
    "assert stocksWithCooldownTab([1,2,2,3,1,2,3,3,1,2,3,4,1,2,3,1,2,3,2,2,3,4,1,23,2,23]) == 31"
   ]
  },
  {
   "cell_type": "code",
   "execution_count": null,
   "id": "0f414ee0",
   "metadata": {},
   "outputs": [],
   "source": [
    "def stocksWithCooldown(prices: list[int]) -> int:\n",
    "    N = len(prices)\n",
    "    dp: list[int] = [0 for j in range(2)]\n",
    "    next_dp: list[int] = [0 for j in range(2)]\n",
    "    for i in range(N - 1, -1, -1):\n",
    "        temp = list(dp)\n",
    "        for j in range(1, -1, -1):\n",
    "            if j == 0:\n",
    "                dp[j] = max(-prices[i] + dp[1], dp[0])\n",
    "            else:\n",
    "                dp[j] = max(prices[i] + next_dp[0], dp[1])\n",
    "        next_dp = temp\n",
    "\n",
    "    return dp[0]\n",
    "\n",
    "# Testing the solution\n",
    "assert stocksWithCooldown([1,2,3,0,2]) == 3\n",
    "assert stocksWithCooldown([1,2,2,3,1,2,3,3,1,2,3,4,1,2,3,1,2,3,2,2,3,4,1,23,2,23]) == 31"
   ]
  }
 ],
 "metadata": {
  "kernelspec": {
   "display_name": "Python 3 (ipykernel)",
   "language": "python",
   "name": "python3"
  },
  "language_info": {
   "codemirror_mode": {
    "name": "ipython",
    "version": 3
   },
   "file_extension": ".py",
   "mimetype": "text/x-python",
   "name": "python",
   "nbconvert_exporter": "python",
   "pygments_lexer": "ipython3",
   "version": "3.11.9"
  },
  "papermill": {
   "default_parameters": {},
   "duration": 4.80103,
   "end_time": "2024-05-15T17:31:06.892314",
   "environment_variables": {},
   "exception": null,
   "input_path": "study/striver-A2Z/13-dp.ipynb",
   "output_path": "study/striver-A2Z/13-dp.ipynb",
   "parameters": {},
   "start_time": "2024-05-15T17:31:02.091284",
   "version": "2.6.0"
  }
 },
 "nbformat": 4,
 "nbformat_minor": 5
}
