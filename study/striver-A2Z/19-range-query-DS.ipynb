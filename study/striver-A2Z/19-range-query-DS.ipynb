{
 "cells": [
  {
   "cell_type": "markdown",
   "id": "127194e9",
   "metadata": {
    "papermill": {
     "duration": 0.0028,
     "end_time": "2024-07-29T16:29:59.954663",
     "exception": false,
     "start_time": "2024-07-29T16:29:59.951863",
     "status": "completed"
    },
    "tags": []
   },
   "source": [
    "### Segment Trees: https://www.youtube.com/watch?v=NEG-SoyigGE&t=2s\n",
    "Segment trees have a build time of O(N) and can get query results in O(log N) time. "
   ]
  },
  {
   "cell_type": "markdown",
   "id": "8fc69bda",
   "metadata": {
    "papermill": {
     "duration": 0.002118,
     "end_time": "2024-07-29T16:29:59.959120",
     "exception": false,
     "start_time": "2024-07-29T16:29:59.957002",
     "status": "completed"
    },
    "tags": []
   },
   "source": [
    "Import necessary packages"
   ]
  },
  {
   "cell_type": "code",
   "execution_count": 1,
   "id": "e6216c04",
   "metadata": {
    "execution": {
     "iopub.execute_input": "2024-07-29T16:29:59.964709Z",
     "iopub.status.busy": "2024-07-29T16:29:59.964311Z",
     "iopub.status.idle": "2024-07-29T16:29:59.970957Z",
     "shell.execute_reply": "2024-07-29T16:29:59.970511Z"
    },
    "lines_to_next_cell": 1,
    "papermill": {
     "duration": 0.01093,
     "end_time": "2024-07-29T16:29:59.972042",
     "exception": false,
     "start_time": "2024-07-29T16:29:59.961112",
     "status": "completed"
    },
    "tags": []
   },
   "outputs": [],
   "source": [
    "import random\n",
    "import collections\n",
    "import functools\n",
    "import bisect\n",
    "import heapq\n",
    "import typing\n",
    "import math"
   ]
  },
  {
   "cell_type": "markdown",
   "id": "99cdcc6c",
   "metadata": {
    "papermill": {
     "duration": 0.001996,
     "end_time": "2024-07-29T16:29:59.976165",
     "exception": false,
     "start_time": "2024-07-29T16:29:59.974169",
     "status": "completed"
    },
    "tags": []
   },
   "source": [
    "Leetcode Problem: https://leetcode.com/problems/range-sum-query-mutable/"
   ]
  },
  {
   "cell_type": "code",
   "execution_count": 2,
   "id": "c4146656",
   "metadata": {
    "execution": {
     "iopub.execute_input": "2024-07-29T16:29:59.981335Z",
     "iopub.status.busy": "2024-07-29T16:29:59.980965Z",
     "iopub.status.idle": "2024-07-29T16:29:59.991344Z",
     "shell.execute_reply": "2024-07-29T16:29:59.990887Z"
    },
    "lines_to_next_cell": 1,
    "papermill": {
     "duration": 0.014143,
     "end_time": "2024-07-29T16:29:59.992391",
     "exception": false,
     "start_time": "2024-07-29T16:29:59.978248",
     "status": "completed"
    },
    "tags": []
   },
   "outputs": [],
   "source": [
    "class RangeSumQuery:\n",
    "    def __init__(self, nums: list[int]):\n",
    "        self.nums = nums\n",
    "        self.N = len(nums)\n",
    "        self.segment_tree = [0 for i in range(4 * self.N)]\n",
    "        self.build_segment_tree(0, self.N - 1, 0)\n",
    "\n",
    "    def build_segment_tree(self, low: int, high: int, idx: int) -> None:\n",
    "        if low == high:\n",
    "            self.segment_tree[idx] = self.nums[low]\n",
    "        else:\n",
    "            mid = (low + high) // 2\n",
    "            left_idx, right_idx = 2 * idx + 1, 2 * idx + 2\n",
    "            self.build_segment_tree(low, mid, left_idx)\n",
    "            self.build_segment_tree(mid + 1, high, right_idx)\n",
    "            self.segment_tree[idx] = self.segment_tree[left_idx] + self.segment_tree[right_idx]\n",
    "\n",
    "    def update_segment_tree(self, low: int, high: int, segment_idx: int, num_idx: int, val: int) -> None:\n",
    "        if low == high:\n",
    "            self.segment_tree[segment_idx] = val\n",
    "        else:\n",
    "            mid = (low + high) // 2\n",
    "            left_idx, right_idx = 2 * segment_idx + 1, 2 * segment_idx + 2\n",
    "            if num_idx <= mid:\n",
    "                self.update_segment_tree(low, mid, left_idx, num_idx, val)\n",
    "            else:\n",
    "                self.update_segment_tree(mid + 1, high, right_idx, num_idx, val)\n",
    "            self.segment_tree[segment_idx] = self.segment_tree[left_idx] + self.segment_tree[right_idx]\n",
    "\n",
    "    def update(self, index: int, val: int) -> None:\n",
    "        self.nums[index] = val\n",
    "        self.update_segment_tree(0, self.N - 1, 0, index, val)\n",
    "\n",
    "    def range_query(self, low: int, high: int, idx: int, left: int, right: int) -> int:\n",
    "        \"\"\"\n",
    "        Case 1: Full overlap => Return seg[idx]\n",
    "        Case 2: No overlap => Return 0\n",
    "        Case 3: Partial overlap => sum of range_query on left and right subtree\n",
    "        \"\"\"\n",
    "        if left <= low <= high <= right:\n",
    "            return self.segment_tree[idx]\n",
    "        elif right < low or high < left:\n",
    "            return 0\n",
    "        else:\n",
    "            mid = (low + high) // 2\n",
    "            left_idx, right_idx = 2 * idx + 1, 2 * idx + 2\n",
    "            left_sum = self.range_query(low, mid, left_idx, left, right)\n",
    "            right_sum = self.range_query(mid + 1, high, right_idx, left, right)\n",
    "            return left_sum + right_sum\n",
    "\n",
    "    def sumRange(self, left: int, right: int) -> int:\n",
    "        return int(self.range_query(0, self.N - 1, 0, left, right))\n",
    "\n",
    "# Testing the solution\n",
    "# Test 1\n",
    "RSQ = RangeSumQuery([1,3,5])\n",
    "assert RSQ.sumRange(0, 2) == 9\n",
    "RSQ.update(1, 2)\n",
    "assert RSQ.sumRange(0, 2) == 8\n",
    "\n",
    "# Test 2\n",
    "RSQ = RangeSumQuery([9,-8])\n",
    "RSQ.update(0, 3)\n",
    "assert RSQ.sumRange(1, 1) == -8\n",
    "assert RSQ.sumRange(0, 1) == -5\n",
    "RSQ.update(1, -3)\n",
    "assert RSQ.sumRange(0, 1) == 0"
   ]
  },
  {
   "cell_type": "markdown",
   "id": "f24409ee",
   "metadata": {
    "papermill": {
     "duration": 0.002059,
     "end_time": "2024-07-29T16:29:59.996548",
     "exception": false,
     "start_time": "2024-07-29T16:29:59.994489",
     "status": "completed"
    },
    "tags": []
   },
   "source": [
    "Xenia & Bit Operations"
   ]
  },
  {
   "cell_type": "code",
   "execution_count": 3,
   "id": "968aa630",
   "metadata": {
    "execution": {
     "iopub.execute_input": "2024-07-29T16:30:00.001761Z",
     "iopub.status.busy": "2024-07-29T16:30:00.001372Z",
     "iopub.status.idle": "2024-07-29T16:30:00.013775Z",
     "shell.execute_reply": "2024-07-29T16:30:00.013207Z"
    },
    "papermill": {
     "duration": 0.01652,
     "end_time": "2024-07-29T16:30:00.015123",
     "exception": false,
     "start_time": "2024-07-29T16:29:59.998603",
     "status": "completed"
    },
    "tags": []
   },
   "outputs": [],
   "source": [
    "class XeniaArray:\n",
    "    def __init__(self, N: int, nums: list[int]) -> None:\n",
    "        self.N = 2 ** N\n",
    "        self.nums = nums\n",
    "        self.segment_tree: list[int] = [1 for i in range(4 * self.N)]\n",
    "        self.build(0, self.N - 1, 0)\n",
    "\n",
    "    def build(self, low: int, high: int, idx: int) -> bool:\n",
    "        if low == high:\n",
    "            self.segment_tree[idx] = self.nums[low]\n",
    "            return True\n",
    "        else:\n",
    "            mid = (low + high) // 2\n",
    "            left_idx, right_idx = 2 * idx + 1, 2 * idx + 2\n",
    "            op = self.build(low, mid, left_idx)\n",
    "            op = self.build(mid + 1, high, right_idx)\n",
    "            self.segment_tree[idx] = (self.segment_tree[left_idx] | self.segment_tree[right_idx]) if op else (self.segment_tree[left_idx] ^ self.segment_tree[right_idx])\n",
    "            return not op\n",
    "\n",
    "    def update_and_query(self, idx: int, val: int) -> int:\n",
    "        self.update(0, self.N - 1, 0, idx - 1, val)\n",
    "        return self.segment_tree[0]\n",
    "\n",
    "    def update(self, low: int, high: int, segment_idx: int, num_idx: int, val: int) -> bool:\n",
    "        if low == high:\n",
    "            self.segment_tree[segment_idx] = val\n",
    "            self.nums[num_idx] = val\n",
    "            return True\n",
    "        else:\n",
    "            mid = (low + high) // 2\n",
    "            left_idx, right_idx = 2 * segment_idx + 1, 2 * segment_idx + 2\n",
    "            op: bool\n",
    "            if num_idx <= mid:\n",
    "                op = self.update(low, mid, left_idx, num_idx, val)\n",
    "            else:\n",
    "                op = self.update(mid + 1, high, right_idx, num_idx, val)\n",
    "            self.segment_tree[segment_idx] = (self.segment_tree[left_idx] | self.segment_tree[right_idx]) if op else (self.segment_tree[left_idx] ^ self.segment_tree[right_idx])\n",
    "            return not op\n",
    "\n",
    "# Testing the solution\n",
    "xa = XeniaArray(2, [1,6,3,5])\n",
    "assert [xa.update_and_query(1,4), xa.update_and_query(3,4), xa.update_and_query(1,2), xa.update_and_query(1,2)] == [1,3,3,3]"
   ]
  },
  {
   "cell_type": "markdown",
   "id": "1e17895d",
   "metadata": {
    "papermill": {
     "duration": 0.003264,
     "end_time": "2024-07-29T16:30:00.021868",
     "exception": false,
     "start_time": "2024-07-29T16:30:00.018604",
     "status": "completed"
    },
    "tags": []
   },
   "source": [
    "Sereja & Brackets"
   ]
  },
  {
   "cell_type": "code",
   "execution_count": 4,
   "id": "70243b1d",
   "metadata": {
    "execution": {
     "iopub.execute_input": "2024-07-29T16:30:00.030761Z",
     "iopub.status.busy": "2024-07-29T16:30:00.030370Z",
     "iopub.status.idle": "2024-07-29T16:30:00.039966Z",
     "shell.execute_reply": "2024-07-29T16:30:00.039237Z"
    },
    "lines_to_next_cell": 1,
    "papermill": {
     "duration": 0.014962,
     "end_time": "2024-07-29T16:30:00.041113",
     "exception": false,
     "start_time": "2024-07-29T16:30:00.026151",
     "status": "completed"
    },
    "tags": []
   },
   "outputs": [],
   "source": [
    "SBTuple = collections.namedtuple(\"SBTuple\", ['size', 'open', 'close'])\n",
    "\n",
    "class SerejaBrackets:\n",
    "    def __init__(self, brackets: str) -> None:\n",
    "        self.N = len(brackets)\n",
    "        self.brackets: str = brackets\n",
    "        self.segment_tree: list[SBTuple] = [SBTuple(0, 0, 0) for i in range(4 * self.N)]\n",
    "        self.build(0, self.N - 1, 0)\n",
    "\n",
    "    def build(self, low: int, high: int, idx: int) -> SBTuple:\n",
    "        if low == high:\n",
    "            self.segment_tree[idx] = SBTuple(0, 0, 1) if self.brackets[low] == ')' else SBTuple(0, 1, 0)\n",
    "        else:\n",
    "            mid = (low + high) // 2\n",
    "            left_idx, right_idx = 2 * idx + 1, 2 * idx + 2\n",
    "            left_tuple = self.build(low, mid, left_idx)\n",
    "            right_tuple = self.build(mid + 1, high, right_idx)\n",
    "            match = min(left_tuple.open, right_tuple.close)\n",
    "            self.segment_tree[idx] = SBTuple(left_tuple.size + right_tuple.size + 2 * match, left_tuple.open + right_tuple.open - match, left_tuple.close + right_tuple.close - match)\n",
    "        return self.segment_tree[idx]\n",
    "\n",
    "    def query(self, low: int, high: int, idx: int, L: int, R: int) -> SBTuple:\n",
    "        # Complete overlap\n",
    "        if L <= low <= high <= R:\n",
    "            return self.segment_tree[idx]\n",
    "        # No overlap\n",
    "        elif high < L or R < low:\n",
    "            return SBTuple(0, 0, 0)\n",
    "        else:\n",
    "            mid = (low + high) // 2\n",
    "            left_idx, right_idx = 2 * idx + 1, 2 * idx + 2\n",
    "            left_tuple = self.query(low, mid, left_idx, L, R)\n",
    "            right_tuple = self.query(mid + 1, high, right_idx, L, R)\n",
    "            match = min(left_tuple.open, right_tuple.close)\n",
    "            return SBTuple(left_tuple.size + right_tuple.size + 2 * match, left_tuple.open + right_tuple.open - match, left_tuple.close + right_tuple.close - match)\n",
    "\n",
    "    def process_query(self, L: int, R: int) -> int:\n",
    "        return self.query(0, self.N - 1, 0, L - 1, R - 1).size\n",
    "\n",
    "# Testing the solution\n",
    "sb = SerejaBrackets(\"())(())(())()\")\n",
    "assert [sb.process_query(1,1), sb.process_query(2,3), sb.process_query(1,2), sb.process_query(1,12), sb.process_query(8,12), sb.process_query(5,11), sb.process_query(2,10)] == [0, 0, 2, 10, 4, 6, 6]"
   ]
  },
  {
   "cell_type": "markdown",
   "id": "c520ca5c",
   "metadata": {
    "papermill": {
     "duration": 0.002146,
     "end_time": "2024-07-29T16:30:00.045605",
     "exception": false,
     "start_time": "2024-07-29T16:30:00.043459",
     "status": "completed"
    },
    "tags": []
   },
   "source": [
    "Count Inverions"
   ]
  },
  {
   "cell_type": "code",
   "execution_count": 5,
   "id": "49795567",
   "metadata": {
    "execution": {
     "iopub.execute_input": "2024-07-29T16:30:00.051302Z",
     "iopub.status.busy": "2024-07-29T16:30:00.050787Z",
     "iopub.status.idle": "2024-07-29T16:30:00.060489Z",
     "shell.execute_reply": "2024-07-29T16:30:00.059914Z"
    },
    "lines_to_next_cell": 1,
    "papermill": {
     "duration": 0.013971,
     "end_time": "2024-07-29T16:30:00.061632",
     "exception": false,
     "start_time": "2024-07-29T16:30:00.047661",
     "status": "completed"
    },
    "tags": []
   },
   "outputs": [],
   "source": [
    "class InversionCount:\n",
    "    def __init__(self, nums: list[int]) -> None:\n",
    "        self.N = max(nums) + 1\n",
    "        self.freq: list[int] = [0 for i in range(self.N)]\n",
    "        for n in nums:\n",
    "            self.freq[n] += 1\n",
    "        self.segment_tree: list[int] = [0 for i in range(4 * self.N)]\n",
    "        self.build(0, self.N - 1, 0)\n",
    "\n",
    "    def build(self, low: int, high: int, idx: int) -> None:\n",
    "        if low == high:\n",
    "            self.segment_tree[idx] = self.freq[low]\n",
    "        else:\n",
    "            mid, left_idx, right_idx = (low + high) // 2, 2 * idx + 1, 2 * idx + 2\n",
    "            self.build(low, mid, left_idx)\n",
    "            self.build(mid + 1, high, right_idx)\n",
    "            self.segment_tree[idx] = self.segment_tree[left_idx] + self.segment_tree[right_idx]\n",
    "\n",
    "    def update(self, low: int, high: int, segment_idx: int, num_idx: int, val: int) -> None:\n",
    "        if low == high:\n",
    "            self.freq[num_idx] = val\n",
    "            self.segment_tree[segment_idx] = val\n",
    "        else:\n",
    "            mid, left_idx, right_idx = (low + high) // 2, 2 * segment_idx + 1, 2 * segment_idx + 2\n",
    "            if num_idx <= mid:\n",
    "                self.update(low, mid, left_idx, num_idx, val)\n",
    "            else:\n",
    "                self.update(mid + 1, high, right_idx, num_idx, val)\n",
    "            self.segment_tree[segment_idx] = self.segment_tree[left_idx] + self.segment_tree[right_idx]\n",
    "\n",
    "    def query(self, low: int, high: int, idx: int, left: int, right: int) -> int:\n",
    "        if left <= low <= high <= right:\n",
    "            return self.segment_tree[idx]\n",
    "        elif high < left or right < low:\n",
    "            return 0\n",
    "        else:\n",
    "            mid, left_idx, right_idx = (low + high) // 2, 2 * idx + 1, 2 * idx + 2\n",
    "            return self.query(low, mid, left_idx, left, right) + self.query(mid + 1, high, right_idx, left, right)\n",
    "\n",
    "def countInverions(arr: list[int], N: int) -> int:\n",
    "    ia = InversionCount(arr)\n",
    "    counts = 0\n",
    "    for n in arr:\n",
    "        freq = ia.freq[n]\n",
    "        ia.update(0, ia.N - 1, 0, n, freq - 1)\n",
    "        counts += ia.query(0, ia.N - 1, 0, 0, n - 1)\n",
    "    return counts\n",
    "\n",
    "# Testing the solution\n",
    "assert countInverions([2,5,1,3,4], 5) == 4"
   ]
  },
  {
   "cell_type": "markdown",
   "id": "7e7822d0",
   "metadata": {
    "papermill": {
     "duration": 0.00236,
     "end_time": "2024-07-29T16:30:00.066425",
     "exception": false,
     "start_time": "2024-07-29T16:30:00.064065",
     "status": "completed"
    },
    "tags": []
   },
   "source": [
    "Range Query DS - 2\n",
    "Video Link: https://www.youtube.com/watch?v=rXnXRU8yMF0&t=5s\n",
    "Lazy propagation in Segment trees: Instead of being given point updates, what if we are given range updates?\n",
    "1. For every node in the corresponding segment tree, create a lazy node to store impending updates.\n",
    "2. For every update operation, if there are previous impending updates update node and propagate to children\n",
    "3. Check:\n",
    "      - No overlap: return\n",
    "      - Full overlap: update node (+val * count of nodes responsible), lazy propagate to children (iff exists)\n",
    "      - Partial overlap: Update left, update right return left + right"
   ]
  },
  {
   "cell_type": "code",
   "execution_count": 6,
   "id": "0ded5ae4",
   "metadata": {
    "execution": {
     "iopub.execute_input": "2024-07-29T16:30:00.072211Z",
     "iopub.status.busy": "2024-07-29T16:30:00.071833Z",
     "iopub.status.idle": "2024-07-29T16:30:00.083763Z",
     "shell.execute_reply": "2024-07-29T16:30:00.083155Z"
    },
    "papermill": {
     "duration": 0.016354,
     "end_time": "2024-07-29T16:30:00.084912",
     "exception": false,
     "start_time": "2024-07-29T16:30:00.068558",
     "status": "completed"
    },
    "tags": []
   },
   "outputs": [],
   "source": [
    "class RangeSumQueryLazy:\n",
    "    def __init__(self, nums: list[int]) -> None:\n",
    "        self.N = len(nums)\n",
    "        self.nums = nums\n",
    "        self.segment_tree = [0 for i in range(4 * self.N)]\n",
    "        self.lazy = [0 for i in range(4 * self.N)]\n",
    "        self.build(0, self.N - 1, 0)\n",
    "\n",
    "    def build(self, low: int, high: int, idx: int) -> None:\n",
    "        if low == high:\n",
    "            self.segment_tree[idx] = self.nums[low]\n",
    "        else:\n",
    "            mid, left_idx, right_idx = (low + high) // 2, 2 * idx + 1, 2 * idx + 2\n",
    "            self.build(low, mid, left_idx)\n",
    "            self.build(mid + 1, high, right_idx)\n",
    "            self.segment_tree[idx] = self.segment_tree[left_idx] + self.segment_tree[right_idx]\n",
    "\n",
    "    def update(self, low: int, high: int, idx: int, left: int, right: int, val: int) -> None:\n",
    "        # Update any impending updates\n",
    "        left_idx, right_idx = 2 * idx + 1, 2 * idx + 2\n",
    "        if self.lazy[idx] != 0:\n",
    "            self.segment_tree[idx] = self.lazy[idx] * (high - low + 1)\n",
    "            # If children exists, lazy propagate\n",
    "            if low != high:\n",
    "                self.lazy[left_idx] = self.lazy[right_idx] = self.lazy[idx]\n",
    "            self.lazy[idx] = 0\n",
    "\n",
    "        # Check overlap conditions\n",
    "        if left <= low <= high <= right:\n",
    "            self.segment_tree[idx] = val * (high - low + 1)\n",
    "            # If children exists, lazy propagate\n",
    "            if low != high:\n",
    "                self.lazy[left_idx] = self.lazy[right_idx] = val\n",
    "\n",
    "        elif high < left or right < low:\n",
    "            return\n",
    "        else:\n",
    "            mid = (low + high) // 2\n",
    "            self.update(low, mid, left_idx, left, right, val)\n",
    "            self.update(mid + 1, high, right_idx, left, right, val)\n",
    "            self.segment_tree[idx] = self.segment_tree[left_idx] + self.segment_tree[right_idx]\n",
    "\n",
    "    def query(self, low: int, high: int, idx: int, left: int, right: int) -> int:\n",
    "        # Update any impending updates\n",
    "        left_idx, right_idx = 2 * idx + 1, 2 * idx + 2\n",
    "        if self.lazy[idx] != 0:\n",
    "            self.segment_tree[idx] = self.lazy[idx] * (high - low + 1)\n",
    "            # If children exists, lazy propagate\n",
    "            if low != high:\n",
    "                self.lazy[left_idx] = self.lazy[right_idx] = self.lazy[idx]\n",
    "            self.lazy[idx] = 0\n",
    "\n",
    "        # Check overlap conditions\n",
    "        if left <= low <= high <= right:\n",
    "            return self.segment_tree[idx]\n",
    "        elif high < left or right < low:\n",
    "            return 0\n",
    "        else:\n",
    "            mid = (low + high) // 2\n",
    "            return self.query(low, mid, left_idx, left, right) + self.query(mid + 1, high, right_idx, left, right)\n",
    "\n",
    "# Testing the solution\n",
    "rsql = RangeSumQueryLazy([1,4,2,1,3,1])\n",
    "assert rsql.query(0, rsql.N - 1, 0, 0, 5) == 12\n",
    "rsql.update(0, rsql.N - 1, 0, 2, 4, 5)\n",
    "assert rsql.query(0, rsql.N - 1, 0, 0, 5) == 21\n",
    "rsql.update(0, rsql.N - 1, 0, 0, 2, 2)\n",
    "assert rsql.query(0, rsql.N - 1, 0, 0, 3) == 11\n",
    "rsql.update(0, rsql.N - 1, 0, 2, 3, 4)\n",
    "assert rsql.query(0, rsql.N - 1, 0, 3, 5) == 10"
   ]
  },
  {
   "cell_type": "markdown",
   "id": "0f6193c8",
   "metadata": {
    "papermill": {
     "duration": 0.002171,
     "end_time": "2024-07-29T16:30:00.089485",
     "exception": false,
     "start_time": "2024-07-29T16:30:00.087314",
     "status": "completed"
    },
    "tags": []
   },
   "source": [
    "Codechef Flip Coins: https://www.codechef.com/problems/FLIPCOIN"
   ]
  },
  {
   "cell_type": "code",
   "execution_count": 7,
   "id": "a62a3890",
   "metadata": {
    "execution": {
     "iopub.execute_input": "2024-07-29T16:30:00.095036Z",
     "iopub.status.busy": "2024-07-29T16:30:00.094676Z",
     "iopub.status.idle": "2024-07-29T16:30:00.107591Z",
     "shell.execute_reply": "2024-07-29T16:30:00.107047Z"
    },
    "papermill": {
     "duration": 0.017132,
     "end_time": "2024-07-29T16:30:00.108723",
     "exception": false,
     "start_time": "2024-07-29T16:30:00.091591",
     "status": "completed"
    },
    "tags": []
   },
   "outputs": [],
   "source": [
    "CoinTuple = collections.namedtuple('CoinTuple', ['heads', 'tails'])\n",
    "class FlipCoins:\n",
    "    def __init__(self, N: int) -> None:\n",
    "        self.N = N\n",
    "        self.coins: list[int] = [0 for i in range(N)]\n",
    "        self.segment_tree: list[CoinTuple] = [CoinTuple(0, 0) for i in range(4 * N)]\n",
    "        self.lazy: list[bool] = [False for i in range(4 * N)]\n",
    "        self.build(0, self.N - 1, 0)\n",
    "\n",
    "    def build(self, low: int, high: int, idx: int) -> None:\n",
    "        if low == high:\n",
    "            self.segment_tree[idx] = CoinTuple(0, 1)\n",
    "        else:\n",
    "            mid, left_idx, right_idx = (low + high) // 2, 2 * idx + 1, 2 * idx + 2\n",
    "            self.build(low, mid, left_idx)\n",
    "            self.build(mid + 1, high, right_idx)\n",
    "            left_tuple = self.segment_tree[left_idx]\n",
    "            right_tuple = self.segment_tree[right_idx]\n",
    "            self.segment_tree[idx] = CoinTuple(left_tuple.heads + right_tuple.heads, left_tuple.tails + right_tuple.tails)\n",
    "\n",
    "    def update(self, low: int, high: int, idx: int, left: int, right: int) -> None:\n",
    "        left_idx, right_idx = 2 * idx + 1, 2 * idx + 2\n",
    "\n",
    "        # Update if there are impending updates\n",
    "        if self.lazy[idx]:\n",
    "            self.segment_tree[idx] = CoinTuple(self.segment_tree[idx].tails, self.segment_tree[idx].heads)\n",
    "            self.lazy[idx] = False\n",
    "            if low != high:\n",
    "                self.lazy[left_idx], self.lazy[right_idx] = not self.lazy[left_idx], not self.lazy[right_idx]\n",
    "\n",
    "        # Check for overlaps\n",
    "        if left <= low <= high <= right:\n",
    "            self.segment_tree[idx] = CoinTuple(self.segment_tree[idx].tails, self.segment_tree[idx].heads)\n",
    "            if low != high:\n",
    "                self.lazy[left_idx], self.lazy[right_idx] = not self.lazy[left_idx], not self.lazy[right_idx]\n",
    "        elif high < left or right < low:\n",
    "            return\n",
    "        else:\n",
    "            mid = (low + high) // 2\n",
    "            self.update(low, mid, left_idx, left, right)\n",
    "            self.update(mid + 1, high, right_idx, left, right)\n",
    "            left_tuple = self.segment_tree[left_idx]\n",
    "            right_tuple = self.segment_tree[right_idx]\n",
    "            self.segment_tree[idx] = CoinTuple(left_tuple.heads + right_tuple.heads, left_tuple.tails + right_tuple.tails)\n",
    "\n",
    "    def query(self, low: int, high: int, idx: int, left: int, right: int) -> int:\n",
    "        left_idx, right_idx = 2 * idx + 1, 2 * idx + 2\n",
    "\n",
    "        # Update if there are impending updates\n",
    "        if self.lazy[idx]:\n",
    "            self.segment_tree[idx] = CoinTuple(self.segment_tree[idx].tails, self.segment_tree[idx].heads)\n",
    "            self.lazy[idx] = False\n",
    "            if low != high:\n",
    "                self.lazy[left_idx], self.lazy[right_idx] = not self.lazy[left_idx], not self.lazy[right_idx]\n",
    "\n",
    "        # Check overlaps\n",
    "        if left <= low <= high <= right:\n",
    "            return self.segment_tree[idx].heads\n",
    "        elif right < low or high < left:\n",
    "            return 0\n",
    "        else:\n",
    "            mid = (low + high) // 2\n",
    "            return self.query(low, mid, left_idx, left, right) + self.query(mid + 1, high, right_idx, left, right)\n",
    "\n",
    "# Testing the solution\n",
    "fc = FlipCoins(4)\n",
    "assert fc.query(0, fc.N - 1, 0, 0, 3) == 0\n",
    "fc.update(0, fc.N - 1, 0, 1, 2)\n",
    "assert fc.query(0, fc.N - 1, 0, 0, 1) == 1\n",
    "assert fc.query(0, fc.N - 1, 0, 0, 0) == 0\n",
    "fc.update(0, fc.N - 1, 0, 0, 3)\n",
    "assert fc.query(0, fc.N - 1, 0, 0, 3) == 2\n",
    "assert fc.query(0, fc.N - 1, 0, 3, 3) == 1"
   ]
  }
 ],
 "metadata": {
  "kernelspec": {
   "display_name": "Python 3 (ipykernel)",
   "language": "python",
   "name": "python3"
  },
  "language_info": {
   "codemirror_mode": {
    "name": "ipython",
    "version": 3
   },
   "file_extension": ".py",
   "mimetype": "text/x-python",
   "name": "python",
   "nbconvert_exporter": "python",
   "pygments_lexer": "ipython3",
   "version": "3.11.9"
  },
  "papermill": {
   "default_parameters": {},
   "duration": 1.400886,
   "end_time": "2024-07-29T16:30:00.225965",
   "environment_variables": {},
   "exception": null,
   "input_path": "study/striver-A2Z/19-range-query-DS.ipynb",
   "output_path": "study/striver-A2Z/19-range-query-DS.ipynb",
   "parameters": {},
   "start_time": "2024-07-29T16:29:58.825079",
   "version": "2.6.0"
  }
 },
 "nbformat": 4,
 "nbformat_minor": 5
}