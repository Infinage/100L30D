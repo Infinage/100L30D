{
 "cells": [
  {
   "cell_type": "markdown",
   "id": "127194e9",
   "metadata": {
    "papermill": {
     "duration": 0.002747,
     "end_time": "2024-07-29T03:10:55.750676",
     "exception": false,
     "start_time": "2024-07-29T03:10:55.747929",
     "status": "completed"
    },
    "tags": []
   },
   "source": [
    "### Segment Trees: https://www.youtube.com/watch?v=NEG-SoyigGE&t=2s\n",
    "Segment trees have a build time of O(N) and can get query results in O(log N) time. "
   ]
  },
  {
   "cell_type": "markdown",
   "id": "8fc69bda",
   "metadata": {
    "papermill": {
     "duration": 0.002025,
     "end_time": "2024-07-29T03:10:55.754936",
     "exception": false,
     "start_time": "2024-07-29T03:10:55.752911",
     "status": "completed"
    },
    "tags": []
   },
   "source": [
    "Import necessary packages"
   ]
  },
  {
   "cell_type": "code",
   "execution_count": 1,
   "id": "e6216c04",
   "metadata": {
    "execution": {
     "iopub.execute_input": "2024-07-29T03:10:55.760539Z",
     "iopub.status.busy": "2024-07-29T03:10:55.760125Z",
     "iopub.status.idle": "2024-07-29T03:10:55.766767Z",
     "shell.execute_reply": "2024-07-29T03:10:55.766309Z"
    },
    "lines_to_next_cell": 1,
    "papermill": {
     "duration": 0.010893,
     "end_time": "2024-07-29T03:10:55.767865",
     "exception": false,
     "start_time": "2024-07-29T03:10:55.756972",
     "status": "completed"
    },
    "tags": []
   },
   "outputs": [],
   "source": [
    "import random\n",
    "import collections\n",
    "import functools\n",
    "import bisect\n",
    "import heapq\n",
    "import typing\n",
    "import math"
   ]
  },
  {
   "cell_type": "markdown",
   "id": "99cdcc6c",
   "metadata": {
    "papermill": {
     "duration": 0.001938,
     "end_time": "2024-07-29T03:10:55.771872",
     "exception": false,
     "start_time": "2024-07-29T03:10:55.769934",
     "status": "completed"
    },
    "tags": []
   },
   "source": [
    "Leetcode Problem: https://leetcode.com/problems/range-sum-query-mutable/"
   ]
  },
  {
   "cell_type": "code",
   "execution_count": 2,
   "id": "c4146656",
   "metadata": {
    "execution": {
     "iopub.execute_input": "2024-07-29T03:10:55.777090Z",
     "iopub.status.busy": "2024-07-29T03:10:55.776580Z",
     "iopub.status.idle": "2024-07-29T03:10:55.786732Z",
     "shell.execute_reply": "2024-07-29T03:10:55.786318Z"
    },
    "lines_to_next_cell": 1,
    "papermill": {
     "duration": 0.013962,
     "end_time": "2024-07-29T03:10:55.787824",
     "exception": false,
     "start_time": "2024-07-29T03:10:55.773862",
     "status": "completed"
    },
    "tags": []
   },
   "outputs": [],
   "source": [
    "class RangeSumQuery:\n",
    "    def __init__(self, nums: list[int]):\n",
    "        self.nums = nums\n",
    "        self.N = len(nums)\n",
    "        self.segment_tree = [0 for i in range(4 * self.N)]\n",
    "        self.build_segment_tree(0, self.N - 1, 0)\n",
    "\n",
    "    def build_segment_tree(self, low: int, high: int, idx: int) -> None:\n",
    "        if low == high:\n",
    "            self.segment_tree[idx] = self.nums[low]\n",
    "        else:\n",
    "            mid = (low + high) // 2\n",
    "            left_idx, right_idx = 2 * idx + 1, 2 * idx + 2\n",
    "            self.build_segment_tree(low, mid, left_idx)\n",
    "            self.build_segment_tree(mid + 1, high, right_idx)\n",
    "            self.segment_tree[idx] = self.segment_tree[left_idx] + self.segment_tree[right_idx]\n",
    "\n",
    "    def update_segment_tree(self, low: int, high: int, segment_idx: int, num_idx: int, val: int) -> None:\n",
    "        if low == high:\n",
    "            self.segment_tree[segment_idx] = val\n",
    "        else:\n",
    "            mid = (low + high) // 2\n",
    "            left_idx, right_idx = 2 * segment_idx + 1, 2 * segment_idx + 2\n",
    "            if num_idx <= mid:\n",
    "                self.update_segment_tree(low, mid, left_idx, num_idx, val)\n",
    "            else:\n",
    "                self.update_segment_tree(mid + 1, high, right_idx, num_idx, val)\n",
    "            self.segment_tree[segment_idx] = self.segment_tree[left_idx] + self.segment_tree[right_idx]\n",
    "\n",
    "    def update(self, index: int, val: int) -> None:\n",
    "        self.nums[index] = val\n",
    "        self.update_segment_tree(0, self.N - 1, 0, index, val)\n",
    "\n",
    "    def range_query(self, low: int, high: int, idx: int, left: int, right: int) -> int:\n",
    "        \"\"\"\n",
    "        Case 1: Full overlap => Return seg[idx]\n",
    "        Case 2: No overlap => Return 0\n",
    "        Case 3: Partial overlap => sum of range_query on left and right subtree\n",
    "        \"\"\"\n",
    "        if left <= low <= high <= right:\n",
    "            return self.segment_tree[idx]\n",
    "        elif right < low or high < left:\n",
    "            return 0\n",
    "        else:\n",
    "            mid = (low + high) // 2\n",
    "            left_idx, right_idx = 2 * idx + 1, 2 * idx + 2\n",
    "            left_sum = self.range_query(low, mid, left_idx, left, right)\n",
    "            right_sum = self.range_query(mid + 1, high, right_idx, left, right)\n",
    "            return left_sum + right_sum\n",
    "\n",
    "    def sumRange(self, left: int, right: int) -> int:\n",
    "        return int(self.range_query(0, self.N - 1, 0, left, right))\n",
    "\n",
    "# Testing the solution\n",
    "# Test 1\n",
    "RSQ = RangeSumQuery([1,3,5])\n",
    "assert RSQ.sumRange(0, 2) == 9\n",
    "RSQ.update(1, 2)\n",
    "assert RSQ.sumRange(0, 2) == 8\n",
    "\n",
    "# Test 2\n",
    "RSQ = RangeSumQuery([9,-8])\n",
    "RSQ.update(0, 3)\n",
    "assert RSQ.sumRange(1, 1) == -8\n",
    "assert RSQ.sumRange(0, 1) == -5\n",
    "RSQ.update(1, -3)\n",
    "assert RSQ.sumRange(0, 1) == 0"
   ]
  },
  {
   "cell_type": "markdown",
   "id": "f24409ee",
   "metadata": {
    "papermill": {
     "duration": 0.002041,
     "end_time": "2024-07-29T03:10:55.791945",
     "exception": false,
     "start_time": "2024-07-29T03:10:55.789904",
     "status": "completed"
    },
    "tags": []
   },
   "source": [
    "Xenia & Bit Operations"
   ]
  },
  {
   "cell_type": "code",
   "execution_count": 3,
   "id": "968aa630",
   "metadata": {
    "execution": {
     "iopub.execute_input": "2024-07-29T03:10:55.797161Z",
     "iopub.status.busy": "2024-07-29T03:10:55.796651Z",
     "iopub.status.idle": "2024-07-29T03:10:55.805223Z",
     "shell.execute_reply": "2024-07-29T03:10:55.804657Z"
    },
    "papermill": {
     "duration": 0.01233,
     "end_time": "2024-07-29T03:10:55.806282",
     "exception": false,
     "start_time": "2024-07-29T03:10:55.793952",
     "status": "completed"
    },
    "tags": []
   },
   "outputs": [],
   "source": [
    "class XeniaArray:\n",
    "    def __init__(self, N: int, nums: list[int]) -> None:\n",
    "        self.N = 2 ** N\n",
    "        self.nums = nums\n",
    "        self.segment_tree: list[int] = [1 for i in range(4 * self.N)]\n",
    "        self.build(0, self.N - 1, 0)\n",
    "\n",
    "    def build(self, low: int, high: int, idx: int) -> bool:\n",
    "        if low == high:\n",
    "            self.segment_tree[idx] = self.nums[low]\n",
    "            return True\n",
    "        else:\n",
    "            mid = (low + high) // 2\n",
    "            left_idx, right_idx = 2 * idx + 1, 2 * idx + 2\n",
    "            op = self.build(low, mid, left_idx)\n",
    "            op = self.build(mid + 1, high, right_idx)\n",
    "            self.segment_tree[idx] = (self.segment_tree[left_idx] | self.segment_tree[right_idx]) if op else (self.segment_tree[left_idx] ^ self.segment_tree[right_idx])\n",
    "            return not op\n",
    "\n",
    "    def update_and_query(self, idx: int, val: int) -> int:\n",
    "        self.update(0, self.N - 1, 0, idx - 1, val)\n",
    "        return self.segment_tree[0]\n",
    "\n",
    "    def update(self, low: int, high: int, segment_idx: int, num_idx: int, val: int) -> bool:\n",
    "        if low == high:\n",
    "            self.segment_tree[segment_idx] = val\n",
    "            self.nums[num_idx] = val\n",
    "            return True\n",
    "        else:\n",
    "            mid = (low + high) // 2\n",
    "            left_idx, right_idx = 2 * segment_idx + 1, 2 * segment_idx + 2\n",
    "            op: bool\n",
    "            if num_idx <= mid:\n",
    "                op = self.update(low, mid, left_idx, num_idx, val)\n",
    "            else:\n",
    "                op = self.update(mid + 1, high, right_idx, num_idx, val)\n",
    "            self.segment_tree[segment_idx] = (self.segment_tree[left_idx] | self.segment_tree[right_idx]) if op else (self.segment_tree[left_idx] ^ self.segment_tree[right_idx])\n",
    "            return not op\n",
    "\n",
    "# Testing the solution\n",
    "xa = XeniaArray(2, [1,6,3,5])\n",
    "assert [xa.update_and_query(1,4), xa.update_and_query(3,4), xa.update_and_query(1,2), xa.update_and_query(1,2)] == [1,3,3,3]"
   ]
  },
  {
   "cell_type": "markdown",
   "id": "1e17895d",
   "metadata": {
    "papermill": {
     "duration": 0.001973,
     "end_time": "2024-07-29T03:10:55.810275",
     "exception": false,
     "start_time": "2024-07-29T03:10:55.808302",
     "status": "completed"
    },
    "tags": []
   },
   "source": [
    "Sereja & Brackets"
   ]
  },
  {
   "cell_type": "code",
   "execution_count": 4,
   "id": "70243b1d",
   "metadata": {
    "execution": {
     "iopub.execute_input": "2024-07-29T03:10:55.816155Z",
     "iopub.status.busy": "2024-07-29T03:10:55.815716Z",
     "iopub.status.idle": "2024-07-29T03:10:55.824653Z",
     "shell.execute_reply": "2024-07-29T03:10:55.824216Z"
    },
    "lines_to_next_cell": 1,
    "papermill": {
     "duration": 0.012706,
     "end_time": "2024-07-29T03:10:55.825741",
     "exception": false,
     "start_time": "2024-07-29T03:10:55.813035",
     "status": "completed"
    },
    "tags": []
   },
   "outputs": [],
   "source": [
    "SBTuple = collections.namedtuple(\"SBTuple\", ['size', 'open', 'close'])\n",
    "\n",
    "class SerejaBrackets:\n",
    "    def __init__(self, brackets: str) -> None:\n",
    "        self.N = len(brackets)\n",
    "        self.brackets: str = brackets\n",
    "        self.segment_tree: list[SBTuple] = [SBTuple(0, 0, 0) for i in range(4 * self.N)]\n",
    "        self.build(0, self.N - 1, 0)\n",
    "\n",
    "    def build(self, low: int, high: int, idx: int) -> SBTuple:\n",
    "        if low == high:\n",
    "            self.segment_tree[idx] = SBTuple(0, 0, 1) if self.brackets[low] == ')' else SBTuple(0, 1, 0)\n",
    "        else:\n",
    "            mid = (low + high) // 2\n",
    "            left_idx, right_idx = 2 * idx + 1, 2 * idx + 2\n",
    "            left_tuple = self.build(low, mid, left_idx)\n",
    "            right_tuple = self.build(mid + 1, high, right_idx)\n",
    "            match = min(left_tuple.open, right_tuple.close)\n",
    "            self.segment_tree[idx] = SBTuple(left_tuple.size + right_tuple.size + 2 * match, left_tuple.open + right_tuple.open - match, left_tuple.close + right_tuple.close - match)\n",
    "        return self.segment_tree[idx]\n",
    "\n",
    "    def query(self, low: int, high: int, idx: int, L: int, R: int) -> SBTuple:\n",
    "        # Complete overlap\n",
    "        if L <= low <= high <= R:\n",
    "            return self.segment_tree[idx]\n",
    "        # No overlap\n",
    "        elif high < L or R < low:\n",
    "            return SBTuple(0, 0, 0)\n",
    "        else:\n",
    "            mid = (low + high) // 2\n",
    "            left_idx, right_idx = 2 * idx + 1, 2 * idx + 2\n",
    "            left_tuple = self.query(low, mid, left_idx, L, R)\n",
    "            right_tuple = self.query(mid + 1, high, right_idx, L, R)\n",
    "            match = min(left_tuple.open, right_tuple.close)\n",
    "            return SBTuple(left_tuple.size + right_tuple.size + 2 * match, left_tuple.open + right_tuple.open - match, left_tuple.close + right_tuple.close - match)\n",
    "\n",
    "    def process_query(self, L: int, R: int) -> int:\n",
    "        return self.query(0, self.N - 1, 0, L - 1, R - 1).size\n",
    "\n",
    "# Testing the solution\n",
    "sb = SerejaBrackets(\"())(())(())()\")\n",
    "assert [sb.process_query(1,1), sb.process_query(2,3), sb.process_query(1,2), sb.process_query(1,12), sb.process_query(8,12), sb.process_query(5,11), sb.process_query(2,10)] == [0, 0, 2, 10, 4, 6, 6]"
   ]
  },
  {
   "cell_type": "markdown",
   "id": "c520ca5c",
   "metadata": {
    "papermill": {
     "duration": 0.001988,
     "end_time": "2024-07-29T03:10:55.829765",
     "exception": false,
     "start_time": "2024-07-29T03:10:55.827777",
     "status": "completed"
    },
    "tags": []
   },
   "source": [
    "Count Inverions"
   ]
  },
  {
   "cell_type": "code",
   "execution_count": 5,
   "id": "49795567",
   "metadata": {
    "execution": {
     "iopub.execute_input": "2024-07-29T03:10:55.834911Z",
     "iopub.status.busy": "2024-07-29T03:10:55.834498Z",
     "iopub.status.idle": "2024-07-29T03:10:55.843578Z",
     "shell.execute_reply": "2024-07-29T03:10:55.843045Z"
    },
    "lines_to_next_cell": 1,
    "papermill": {
     "duration": 0.012886,
     "end_time": "2024-07-29T03:10:55.844636",
     "exception": false,
     "start_time": "2024-07-29T03:10:55.831750",
     "status": "completed"
    },
    "tags": []
   },
   "outputs": [],
   "source": [
    "class InversionCount:\n",
    "    def __init__(self, nums: list[int]) -> None:\n",
    "        self.N = max(nums) + 1\n",
    "        self.freq: list[int] = [0 for i in range(self.N)]\n",
    "        for n in nums:\n",
    "            self.freq[n] += 1\n",
    "        self.segment_tree: list[int] = [0 for i in range(4 * self.N)]\n",
    "        self.build(0, self.N - 1, 0)\n",
    "\n",
    "    def build(self, low: int, high: int, idx: int) -> None:\n",
    "        if low == high:\n",
    "            self.segment_tree[idx] = self.freq[low]\n",
    "        else:\n",
    "            mid, left_idx, right_idx = (low + high) // 2, 2 * idx + 1, 2 * idx + 2\n",
    "            self.build(low, mid, left_idx)\n",
    "            self.build(mid + 1, high, right_idx)\n",
    "            self.segment_tree[idx] = self.segment_tree[left_idx] + self.segment_tree[right_idx]\n",
    "\n",
    "    def update(self, low: int, high: int, segment_idx: int, num_idx: int, val: int) -> None:\n",
    "        if low == high:\n",
    "            self.freq[num_idx] = val\n",
    "            self.segment_tree[segment_idx] = val\n",
    "        else:\n",
    "            mid, left_idx, right_idx = (low + high) // 2, 2 * segment_idx + 1, 2 * segment_idx + 2\n",
    "            if num_idx <= mid:\n",
    "                self.update(low, mid, left_idx, num_idx, val)\n",
    "            else:\n",
    "                self.update(mid + 1, high, right_idx, num_idx, val)\n",
    "            self.segment_tree[segment_idx] = self.segment_tree[left_idx] + self.segment_tree[right_idx]\n",
    "\n",
    "    def query(self, low: int, high: int, idx: int, left: int, right: int) -> int:\n",
    "        if left <= low <= high <= right:\n",
    "            return self.segment_tree[idx]\n",
    "        elif high < left or right < low:\n",
    "            return 0\n",
    "        else:\n",
    "            mid, left_idx, right_idx = (low + high) // 2, 2 * idx + 1, 2 * idx + 2\n",
    "            return self.query(low, mid, left_idx, left, right) + self.query(mid + 1, high, right_idx, left, right)\n",
    "\n",
    "def countInverions(arr: list[int], N: int) -> int:\n",
    "    ia = InversionCount(arr)\n",
    "    counts = 0\n",
    "    for n in arr:\n",
    "        freq = ia.freq[n]\n",
    "        ia.update(0, ia.N - 1, 0, n, freq - 1)\n",
    "        counts += ia.query(0, ia.N - 1, 0, 0, n - 1)\n",
    "    return counts\n",
    "\n",
    "# Testing the solution\n",
    "assert countInverions([2,5,1,3,4], 5) == 4"
   ]
  },
  {
   "cell_type": "markdown",
   "id": "7e7822d0",
   "metadata": {
    "papermill": {
     "duration": 0.001937,
     "end_time": "2024-07-29T03:10:55.848612",
     "exception": false,
     "start_time": "2024-07-29T03:10:55.846675",
     "status": "completed"
    },
    "tags": []
   },
   "source": [
    "Range Query DS - 2\n",
    "Video Link: https://www.youtube.com/watch?v=rXnXRU8yMF0&t=5s\n",
    "Lazy propagation in Segment trees: Instead of being given point updates, what if we are given range updates?\n",
    "1. For every node in the corresponding segment tree, create a lazy node to store impending updates.\n",
    "2. For every update operation, if there are previous impending updates update node and propagate to children\n",
    "3. Check:\n",
    "      - No overlap: return\n",
    "      - Full overlap: update node (+val * count of nodes responsible), lazy propagate to children (iff exists)\n",
    "      - Partial overlap: Update left, update right return left + right"
   ]
  },
  {
   "cell_type": "code",
   "execution_count": 6,
   "id": "0ded5ae4",
   "metadata": {
    "execution": {
     "iopub.execute_input": "2024-07-29T03:10:55.853762Z",
     "iopub.status.busy": "2024-07-29T03:10:55.853358Z",
     "iopub.status.idle": "2024-07-29T03:10:55.864691Z",
     "shell.execute_reply": "2024-07-29T03:10:55.864176Z"
    },
    "papermill": {
     "duration": 0.01513,
     "end_time": "2024-07-29T03:10:55.865734",
     "exception": false,
     "start_time": "2024-07-29T03:10:55.850604",
     "status": "completed"
    },
    "tags": []
   },
   "outputs": [],
   "source": [
    "class RangeSumQueryLazy:\n",
    "    def __init__(self, nums: list[int]) -> None:\n",
    "        self.N = len(nums)\n",
    "        self.nums = nums\n",
    "        self.segment_tree = [0 for i in range(4 * self.N)]\n",
    "        self.lazy = [0 for i in range(4 * self.N)]\n",
    "        self.build(0, self.N - 1, 0)\n",
    "\n",
    "    def build(self, low: int, high: int, idx: int) -> None:\n",
    "        if low == high:\n",
    "            self.segment_tree[idx] = self.nums[low]\n",
    "        else:\n",
    "            mid, left_idx, right_idx = (low + high) // 2, 2 * idx + 1, 2 * idx + 2\n",
    "            self.build(low, mid, left_idx)\n",
    "            self.build(mid + 1, high, right_idx)\n",
    "            self.segment_tree[idx] = self.segment_tree[left_idx] + self.segment_tree[right_idx]\n",
    "\n",
    "    def update(self, low: int, high: int, idx: int, left: int, right: int, val: int) -> None:\n",
    "        # Update any impending updates\n",
    "        left_idx, right_idx = 2 * idx + 1, 2 * idx + 2\n",
    "        if self.lazy[idx] != 0:\n",
    "            self.segment_tree[idx] = self.lazy[idx] * (high - low + 1)\n",
    "            # If children exists, lazy propagate\n",
    "            if low != high:\n",
    "                self.lazy[left_idx] = self.lazy[right_idx] = self.lazy[idx]\n",
    "            self.lazy[idx] = 0\n",
    "\n",
    "        # Check overlap conditions\n",
    "        if left <= low <= high <= right:\n",
    "            self.segment_tree[idx] = val * (high - low + 1)\n",
    "            # If children exists, lazy propagate\n",
    "            if low != high:\n",
    "                self.lazy[left_idx] = self.lazy[right_idx] = val\n",
    "\n",
    "        elif high < left or right < low:\n",
    "            return\n",
    "        else:\n",
    "            mid = (low + high) // 2\n",
    "            self.update(low, mid, left_idx, left, right, val)\n",
    "            self.update(mid + 1, high, right_idx, left, right, val)\n",
    "            self.segment_tree[idx] = self.segment_tree[left_idx] + self.segment_tree[right_idx]\n",
    "\n",
    "    def query(self, low: int, high: int, idx: int, left: int, right: int) -> int:\n",
    "        # Update any impending updates\n",
    "        left_idx, right_idx = 2 * idx + 1, 2 * idx + 2\n",
    "        if self.lazy[idx] != 0:\n",
    "            self.segment_tree[idx] = self.lazy[idx] * (high - low + 1)\n",
    "            # If children exists, lazy propagate\n",
    "            if low != high:\n",
    "                self.lazy[left_idx] = self.lazy[right_idx] = self.lazy[idx]\n",
    "            self.lazy[idx] = 0\n",
    "\n",
    "        # Check overlap conditions\n",
    "        if left <= low <= high <= right:\n",
    "            return self.segment_tree[idx]\n",
    "        elif high < left or right < low:\n",
    "            return 0\n",
    "        else:\n",
    "            mid = (low + high) // 2\n",
    "            return self.query(low, mid, left_idx, left, right) + self.query(mid + 1, high, right_idx, left, right)\n",
    "\n",
    "# Testing the solution\n",
    "rsql = RangeSumQueryLazy([1,4,2,1,3,1])\n",
    "assert rsql.query(0, rsql.N - 1, 0, 0, 5) == 12\n",
    "rsql.update(0, rsql.N - 1, 0, 2, 4, 5)\n",
    "assert rsql.query(0, rsql.N - 1, 0, 0, 5) == 21\n",
    "rsql.update(0, rsql.N - 1, 0, 0, 2, 2)\n",
    "assert rsql.query(0, rsql.N - 1, 0, 0, 3) == 11\n",
    "rsql.update(0, rsql.N - 1, 0, 2, 3, 4)\n",
    "assert rsql.query(0, rsql.N - 1, 0, 3, 5) == 10"
   ]
  },
  {
   "cell_type": "markdown",
   "id": "0f6193c8",
   "metadata": {
    "papermill": {
     "duration": 0.00227,
     "end_time": "2024-07-29T03:10:55.870202",
     "exception": false,
     "start_time": "2024-07-29T03:10:55.867932",
     "status": "completed"
    },
    "tags": []
   },
   "source": [
    "Codechef Flip Coins: https://www.codechef.com/problems/FLIPCOIN"
   ]
  },
  {
   "cell_type": "code",
   "execution_count": 7,
   "id": "a62a3890",
   "metadata": {
    "execution": {
     "iopub.execute_input": "2024-07-29T03:10:55.875227Z",
     "iopub.status.busy": "2024-07-29T03:10:55.874841Z",
     "iopub.status.idle": "2024-07-29T03:10:55.887053Z",
     "shell.execute_reply": "2024-07-29T03:10:55.886570Z"
    },
    "papermill": {
     "duration": 0.015986,
     "end_time": "2024-07-29T03:10:55.888174",
     "exception": false,
     "start_time": "2024-07-29T03:10:55.872188",
     "status": "completed"
    },
    "tags": []
   },
   "outputs": [],
   "source": [
    "CoinTuple = collections.namedtuple('CoinTuple', ['heads', 'tails'])\n",
    "class FlipCoins:\n",
    "    def __init__(self, N: int) -> None:\n",
    "        self.N = N\n",
    "        self.coins: list[int] = [0 for i in range(N)]\n",
    "        self.segment_tree: list[CoinTuple] = [CoinTuple(0, 0) for i in range(4 * N)]\n",
    "        self.lazy: list[bool] = [False for i in range(4 * N)]\n",
    "        self.build(0, self.N - 1, 0)\n",
    "\n",
    "    def build(self, low: int, high: int, idx: int) -> None:\n",
    "        if low == high:\n",
    "            self.segment_tree[idx] = CoinTuple(0, 1)\n",
    "        else:\n",
    "            mid, left_idx, right_idx = (low + high) // 2, 2 * idx + 1, 2 * idx + 2\n",
    "            self.build(low, mid, left_idx)\n",
    "            self.build(mid + 1, high, right_idx)\n",
    "            left_tuple = self.segment_tree[left_idx]\n",
    "            right_tuple = self.segment_tree[right_idx]\n",
    "            self.segment_tree[idx] = CoinTuple(left_tuple.heads + right_tuple.heads, left_tuple.tails + right_tuple.tails)\n",
    "\n",
    "    def update(self, low: int, high: int, idx: int, left: int, right: int) -> None:\n",
    "        left_idx, right_idx = 2 * idx + 1, 2 * idx + 2\n",
    "\n",
    "        # Update if there are impending updates\n",
    "        if self.lazy[idx]:\n",
    "            self.segment_tree[idx] = CoinTuple(self.segment_tree[idx].tails, self.segment_tree[idx].heads)\n",
    "            self.lazy[idx] = False\n",
    "            if low != high:\n",
    "                self.lazy[left_idx], self.lazy[right_idx] = not self.lazy[left_idx], not self.lazy[right_idx]\n",
    "\n",
    "        # Check for overlaps\n",
    "        if left <= low <= high <= right:\n",
    "            self.segment_tree[idx] = CoinTuple(self.segment_tree[idx].tails, self.segment_tree[idx].heads)\n",
    "            if low != high:\n",
    "                self.lazy[left_idx], self.lazy[right_idx] = not self.lazy[left_idx], not self.lazy[right_idx]\n",
    "        elif high < left or right < low:\n",
    "            return\n",
    "        else:\n",
    "            mid = (low + high) // 2\n",
    "            self.update(low, mid, left_idx, left, right)\n",
    "            self.update(mid + 1, high, right_idx, left, right)\n",
    "            left_tuple = self.segment_tree[left_idx]\n",
    "            right_tuple = self.segment_tree[right_idx]\n",
    "            self.segment_tree[idx] = CoinTuple(left_tuple.heads + right_tuple.heads, left_tuple.tails + right_tuple.tails)\n",
    "\n",
    "    def query(self, low: int, high: int, idx: int, left: int, right: int) -> int:\n",
    "        left_idx, right_idx = 2 * idx + 1, 2 * idx + 2\n",
    "\n",
    "        # Update if there are impending updates\n",
    "        if self.lazy[idx]:\n",
    "            self.segment_tree[idx] = CoinTuple(self.segment_tree[idx].tails, self.segment_tree[idx].heads)\n",
    "            self.lazy[idx] = False\n",
    "            if low != high:\n",
    "                self.lazy[left_idx], self.lazy[right_idx] = not self.lazy[left_idx], not self.lazy[right_idx]\n",
    "\n",
    "        # Check overlaps\n",
    "        if left <= low <= high <= right:\n",
    "            return self.segment_tree[idx].heads\n",
    "        elif right < low or high < left:\n",
    "            return 0\n",
    "        else:\n",
    "            mid = (low + high) // 2\n",
    "            return self.query(low, mid, left_idx, left, right) + self.query(mid + 1, high, right_idx, left, right)\n",
    "\n",
    "# Testing the solution\n",
    "fc = FlipCoins(4)\n",
    "assert fc.query(0, fc.N - 1, 0, 0, 3) == 0\n",
    "fc.update(0, fc.N - 1, 0, 1, 2)\n",
    "assert fc.query(0, fc.N - 1, 0, 0, 1) == 1\n",
    "assert fc.query(0, fc.N - 1, 0, 0, 0) == 0\n",
    "fc.update(0, fc.N - 1, 0, 0, 3)\n",
    "assert fc.query(0, fc.N - 1, 0, 0, 3) == 2\n",
    "assert fc.query(0, fc.N - 1, 0, 3, 3) == 1"
   ]
  }
 ],
 "metadata": {
  "kernelspec": {
   "display_name": "Python 3 (ipykernel)",
   "language": "python",
   "name": "python3"
  },
  "language_info": {
   "codemirror_mode": {
    "name": "ipython",
    "version": 3
   },
   "file_extension": ".py",
   "mimetype": "text/x-python",
   "name": "python",
   "nbconvert_exporter": "python",
   "pygments_lexer": "ipython3",
   "version": "3.11.9"
  },
  "papermill": {
   "default_parameters": {},
   "duration": 1.38951,
   "end_time": "2024-07-29T03:10:56.005403",
   "environment_variables": {},
   "exception": null,
   "input_path": "study/striver-A2Z/19-range-query-DS.ipynb",
   "output_path": "study/striver-A2Z/19-range-query-DS.ipynb",
   "parameters": {},
   "start_time": "2024-07-29T03:10:54.615893",
   "version": "2.6.0"
  }
 },
 "nbformat": 4,
 "nbformat_minor": 5
}