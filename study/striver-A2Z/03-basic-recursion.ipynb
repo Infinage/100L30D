{
 "cells": [
  {
   "cell_type": "markdown",
   "id": "f9f971fa",
   "metadata": {
    "papermill": {
     "duration": 0.008317,
     "end_time": "2024-02-28T02:00:02.541390",
     "exception": false,
     "start_time": "2024-02-28T02:00:02.533073",
     "status": "completed"
    },
    "tags": []
   },
   "source": [
    "Video link: https://www.youtube.com/watch?v=un6PLygfXrA&list=PLgUwDviBIf0oF6QL8m22w1hIDC1vJ_BHz&index=8"
   ]
  },
  {
   "cell_type": "code",
   "execution_count": 1,
   "id": "61aab27d",
   "metadata": {
    "execution": {
     "iopub.execute_input": "2024-02-28T02:00:02.559259Z",
     "iopub.status.busy": "2024-02-28T02:00:02.558455Z",
     "iopub.status.idle": "2024-02-28T02:00:02.590438Z",
     "shell.execute_reply": "2024-02-28T02:00:02.588988Z"
    },
    "lines_to_next_cell": 1,
    "papermill": {
     "duration": 0.045777,
     "end_time": "2024-02-28T02:00:02.594859",
     "exception": false,
     "start_time": "2024-02-28T02:00:02.549082",
     "status": "completed"
    },
    "tags": []
   },
   "outputs": [
    {
     "name": "stdout",
     "output_type": "stream",
     "text": [
      "DSA\n",
      "DSA\n",
      "DSA\n",
      "DSA\n",
      "DSA\n"
     ]
    }
   ],
   "source": [
    "# Q1 - Print name, N times\n",
    "def q1(name: str, N: int) -> None:\n",
    "    if N == 0:\n",
    "        return\n",
    "    print(name)\n",
    "    q1(name, N - 1)\n",
    "\n",
    "q1(\"DSA\", 5)"
   ]
  },
  {
   "cell_type": "code",
   "execution_count": 2,
   "id": "f258baaf",
   "metadata": {
    "execution": {
     "iopub.execute_input": "2024-02-28T02:00:02.604799Z",
     "iopub.status.busy": "2024-02-28T02:00:02.604431Z",
     "iopub.status.idle": "2024-02-28T02:00:02.610093Z",
     "shell.execute_reply": "2024-02-28T02:00:02.609301Z"
    },
    "lines_to_next_cell": 1,
    "papermill": {
     "duration": 0.012693,
     "end_time": "2024-02-28T02:00:02.612311",
     "exception": false,
     "start_time": "2024-02-28T02:00:02.599618",
     "status": "completed"
    },
    "tags": []
   },
   "outputs": [
    {
     "name": "stdout",
     "output_type": "stream",
     "text": [
      "1\n",
      "2\n",
      "3\n",
      "4\n",
      "5\n"
     ]
    }
   ],
   "source": [
    "# Q2 - Print 1 - N\n",
    "def q2(n: int, i: int = 1) -> None:\n",
    "    if i > n:\n",
    "        return\n",
    "    else:\n",
    "        print (i)\n",
    "        q2(n, i + 1)\n",
    "\n",
    "q2(5, 1)"
   ]
  },
  {
   "cell_type": "code",
   "execution_count": 3,
   "id": "3667c0a6",
   "metadata": {
    "execution": {
     "iopub.execute_input": "2024-02-28T02:00:02.622326Z",
     "iopub.status.busy": "2024-02-28T02:00:02.622072Z",
     "iopub.status.idle": "2024-02-28T02:00:02.626686Z",
     "shell.execute_reply": "2024-02-28T02:00:02.625922Z"
    },
    "lines_to_next_cell": 1,
    "papermill": {
     "duration": 0.011795,
     "end_time": "2024-02-28T02:00:02.628624",
     "exception": false,
     "start_time": "2024-02-28T02:00:02.616829",
     "status": "completed"
    },
    "tags": []
   },
   "outputs": [
    {
     "name": "stdout",
     "output_type": "stream",
     "text": [
      "5\n",
      "4\n",
      "3\n",
      "2\n",
      "1\n"
     ]
    }
   ],
   "source": [
    "# Q3 - Print N - 1\n",
    "def q3(n: int) -> None:\n",
    "    if n == 0:\n",
    "        return\n",
    "    else:\n",
    "        print(n)\n",
    "        q3(n - 1)\n",
    "\n",
    "q3(5)"
   ]
  },
  {
   "cell_type": "code",
   "execution_count": 4,
   "id": "8768c1b1",
   "metadata": {
    "execution": {
     "iopub.execute_input": "2024-02-28T02:00:02.637971Z",
     "iopub.status.busy": "2024-02-28T02:00:02.637727Z",
     "iopub.status.idle": "2024-02-28T02:00:02.642293Z",
     "shell.execute_reply": "2024-02-28T02:00:02.641570Z"
    },
    "lines_to_next_cell": 1,
    "papermill": {
     "duration": 0.011031,
     "end_time": "2024-02-28T02:00:02.644194",
     "exception": false,
     "start_time": "2024-02-28T02:00:02.633163",
     "status": "completed"
    },
    "tags": []
   },
   "outputs": [
    {
     "name": "stdout",
     "output_type": "stream",
     "text": [
      "1\n",
      "2\n",
      "3\n",
      "4\n",
      "5\n"
     ]
    }
   ],
   "source": [
    "# Q4 - Print 1 - N by backtracking\n",
    "def q4(n: int) -> None:\n",
    "    if n == 0:\n",
    "        return\n",
    "    else:\n",
    "        q4(n - 1)\n",
    "        print (n)\n",
    "\n",
    "q4(5)"
   ]
  },
  {
   "cell_type": "code",
   "execution_count": 5,
   "id": "de4297f4",
   "metadata": {
    "execution": {
     "iopub.execute_input": "2024-02-28T02:00:02.652793Z",
     "iopub.status.busy": "2024-02-28T02:00:02.652470Z",
     "iopub.status.idle": "2024-02-28T02:00:02.658113Z",
     "shell.execute_reply": "2024-02-28T02:00:02.657317Z"
    },
    "lines_to_next_cell": 1,
    "papermill": {
     "duration": 0.011022,
     "end_time": "2024-02-28T02:00:02.660046",
     "exception": false,
     "start_time": "2024-02-28T02:00:02.649024",
     "status": "completed"
    },
    "tags": []
   },
   "outputs": [
    {
     "name": "stdout",
     "output_type": "stream",
     "text": [
      "5\n",
      "4\n",
      "3\n",
      "2\n",
      "1\n"
     ]
    }
   ],
   "source": [
    "# Q5 - Print N - 1 by backtracking\n",
    "def q5(n: int, i: int = 1) -> None:\n",
    "    if i > n:\n",
    "        return\n",
    "    else:\n",
    "        q5(n, i + 1)\n",
    "        print (i)\n",
    "\n",
    "q5(5)"
   ]
  },
  {
   "cell_type": "markdown",
   "id": "c929e8e2",
   "metadata": {
    "papermill": {
     "duration": 0.002789,
     "end_time": "2024-02-28T02:00:02.667446",
     "exception": false,
     "start_time": "2024-02-28T02:00:02.664657",
     "status": "completed"
    },
    "tags": []
   },
   "source": [
    "Video link: https://www.youtube.com/watch?v=69ZCDFy-OUo&list=PLgUwDviBIf0oF6QL8m22w1hIDC1vJ_BHz&index=9"
   ]
  },
  {
   "cell_type": "code",
   "execution_count": 6,
   "id": "f4694fdd",
   "metadata": {
    "execution": {
     "iopub.execute_input": "2024-02-28T02:00:02.673800Z",
     "iopub.status.busy": "2024-02-28T02:00:02.673179Z",
     "iopub.status.idle": "2024-02-28T02:00:02.679955Z",
     "shell.execute_reply": "2024-02-28T02:00:02.679027Z"
    },
    "lines_to_next_cell": 1,
    "papermill": {
     "duration": 0.012981,
     "end_time": "2024-02-28T02:00:02.682785",
     "exception": false,
     "start_time": "2024-02-28T02:00:02.669804",
     "status": "completed"
    },
    "tags": []
   },
   "outputs": [
    {
     "name": "stdout",
     "output_type": "stream",
     "text": [
      "3\n",
      "3\n"
     ]
    }
   ],
   "source": [
    "# Q6 - Sum of first N numbers (modifided: of an array)\n",
    "def q6_1(arr: list[int], n: int) -> int:\n",
    "    \"Time - O(N), Space - O(N^2)\"\n",
    "    if not arr or n == 0:\n",
    "        return 0\n",
    "    return arr[0] + q6_1(arr[1:], n - 1)\n",
    "\n",
    "def q6_2(arr: list[int], n: int) -> int:\n",
    "    \"Time - O(N), Space - O(N)\"\n",
    "    arr_length = len(arr)\n",
    "    def backtrack(i: int = 0):\n",
    "        if i >= arr_length or i == n:\n",
    "            return 0\n",
    "        else:\n",
    "            return arr[i] + backtrack(i + 1)\n",
    "    return backtrack()\n",
    "\n",
    "print(q6_1([1, 2, 3, 4], 2))\n",
    "print(q6_2([1, 2, 3, 4], 2))"
   ]
  },
  {
   "cell_type": "code",
   "execution_count": 7,
   "id": "2ca73cfc",
   "metadata": {
    "execution": {
     "iopub.execute_input": "2024-02-28T02:00:02.691035Z",
     "iopub.status.busy": "2024-02-28T02:00:02.690385Z",
     "iopub.status.idle": "2024-02-28T02:00:02.697981Z",
     "shell.execute_reply": "2024-02-28T02:00:02.697171Z"
    },
    "lines_to_next_cell": 1,
    "papermill": {
     "duration": 0.01297,
     "end_time": "2024-02-28T02:00:02.699912",
     "exception": false,
     "start_time": "2024-02-28T02:00:02.686942",
     "status": "completed"
    },
    "tags": []
   },
   "outputs": [
    {
     "data": {
      "text/plain": [
       "3628800"
      ]
     },
     "execution_count": 7,
     "metadata": {},
     "output_type": "execute_result"
    }
   ],
   "source": [
    "# Q7 - Factorial of N\n",
    "def q7(n: int) -> int:\n",
    "    \"Time - O(N), Space - O(N)\"\n",
    "    if n == 0:\n",
    "        return 1\n",
    "    else:\n",
    "        return n * q7(n - 1)\n",
    "\n",
    "q7(10)"
   ]
  },
  {
   "cell_type": "code",
   "execution_count": 8,
   "id": "e1001c60",
   "metadata": {
    "execution": {
     "iopub.execute_input": "2024-02-28T02:00:02.709184Z",
     "iopub.status.busy": "2024-02-28T02:00:02.708858Z",
     "iopub.status.idle": "2024-02-28T02:00:02.716230Z",
     "shell.execute_reply": "2024-02-28T02:00:02.715417Z"
    },
    "lines_to_next_cell": 1,
    "papermill": {
     "duration": 0.013653,
     "end_time": "2024-02-28T02:00:02.717856",
     "exception": false,
     "start_time": "2024-02-28T02:00:02.704203",
     "status": "completed"
    },
    "tags": []
   },
   "outputs": [
    {
     "name": "stdout",
     "output_type": "stream",
     "text": [
      "[3, 2, 1]\n",
      "[3, 2, 1]\n",
      "[3, 2, 1]\n"
     ]
    }
   ],
   "source": [
    "# Q8 - Reverse an array\n",
    "def q8_1(arr: list[int]) -> list[int]:\n",
    "    \"Time - O(N), Space - O(N^N)\"\n",
    "    if not arr:\n",
    "        return []\n",
    "    else:\n",
    "        return q8_1(arr[1:]) + [arr[0]]\n",
    "\n",
    "def q8_2(arr: list[int]) -> list[int]:\n",
    "    \"Time - O(N), Space - O(N)\"\n",
    "    N = len(arr)\n",
    "    result: list[int] = []\n",
    "\n",
    "    def backtrack(i: int = 0) -> None:\n",
    "        if i == N:\n",
    "            return\n",
    "        backtrack(i + 1)\n",
    "        result.append(arr[i])\n",
    "\n",
    "    backtrack()\n",
    "    return result\n",
    "\n",
    "def q8_3(arr: list[int]) -> list[int]:\n",
    "    \"Time - O(N), Space - O(1) auxilary\"\n",
    "    def backtrack(left: int, right: int) -> None:\n",
    "        if left > right:\n",
    "            return\n",
    "        backtrack(left + 1, right - 1)\n",
    "        arr[left], arr[right] = arr[right], arr[left]\n",
    "\n",
    "    backtrack(0, len(arr) - 1)\n",
    "    return arr\n",
    "\n",
    "print(q8_1([1, 2, 3]))\n",
    "print(q8_2([1, 2, 3]))\n",
    "print(q8_3([1, 2, 3]))"
   ]
  },
  {
   "cell_type": "code",
   "execution_count": 9,
   "id": "8c445058",
   "metadata": {
    "execution": {
     "iopub.execute_input": "2024-02-28T02:00:02.724488Z",
     "iopub.status.busy": "2024-02-28T02:00:02.724100Z",
     "iopub.status.idle": "2024-02-28T02:00:02.730361Z",
     "shell.execute_reply": "2024-02-28T02:00:02.729599Z"
    },
    "lines_to_next_cell": 1,
    "papermill": {
     "duration": 0.011301,
     "end_time": "2024-02-28T02:00:02.731893",
     "exception": false,
     "start_time": "2024-02-28T02:00:02.720592",
     "status": "completed"
    },
    "tags": []
   },
   "outputs": [
    {
     "data": {
      "text/plain": [
       "True"
      ]
     },
     "execution_count": 9,
     "metadata": {},
     "output_type": "execute_result"
    }
   ],
   "source": [
    "# Q9 - Check if palindrome\n",
    "def q9(s: str) -> bool:\n",
    "    length = len(s)\n",
    "    def backtrack(left: int, right: int) -> bool:\n",
    "        if left > right:\n",
    "            return True\n",
    "        return s[left] == s[right] and backtrack(left + 1, right - 1)\n",
    "    return backtrack(0, length - 1)\n",
    "\n",
    "q9(\"racecar\")"
   ]
  },
  {
   "cell_type": "code",
   "execution_count": 10,
   "id": "e8beb5da",
   "metadata": {
    "execution": {
     "iopub.execute_input": "2024-02-28T02:00:02.738710Z",
     "iopub.status.busy": "2024-02-28T02:00:02.738466Z",
     "iopub.status.idle": "2024-02-28T02:00:02.744499Z",
     "shell.execute_reply": "2024-02-28T02:00:02.743760Z"
    },
    "papermill": {
     "duration": 0.011316,
     "end_time": "2024-02-28T02:00:02.746002",
     "exception": false,
     "start_time": "2024-02-28T02:00:02.734686",
     "status": "completed"
    },
    "tags": []
   },
   "outputs": [
    {
     "data": {
      "text/plain": [
       "[1, 1, 2, 3, 5, 8, 13, 21, 34, 55]"
      ]
     },
     "execution_count": 10,
     "metadata": {},
     "output_type": "execute_result"
    }
   ],
   "source": [
    "# Q10 - Fibonacci\n",
    "def q10(n: int) -> int:\n",
    "    \"\"\"\n",
    "    Time - O(2^N), Space - O(2^N).\n",
    "    Every call branches 2 times. Nearly O(2^N) not exactly since each call f(n) = f(n-1) + f(n-2)\n",
    "    If it had branched into: f(n) = f(n-1) + f(n-1) then it would be perfectly O(2^N)\n",
    "    \"\"\"\n",
    "    if n <= 1:\n",
    "        return 1\n",
    "    return q10(n - 1) + q10(n - 2)\n",
    "\n",
    "[q10(i) for i in range(10)]"
   ]
  }
 ],
 "metadata": {
  "kernelspec": {
   "display_name": "Python 3 (ipykernel)",
   "language": "python",
   "name": "python3"
  },
  "language_info": {
   "codemirror_mode": {
    "name": "ipython",
    "version": 3
   },
   "file_extension": ".py",
   "mimetype": "text/x-python",
   "name": "python",
   "nbconvert_exporter": "python",
   "pygments_lexer": "ipython3",
   "version": "3.11.5"
  },
  "papermill": {
   "default_parameters": {},
   "duration": 1.699773,
   "end_time": "2024-02-28T02:00:02.967318",
   "environment_variables": {},
   "exception": null,
   "input_path": "03-basic-recursion.ipynb",
   "output_path": "03-basic-recursion.ipynb",
   "parameters": {},
   "start_time": "2024-02-28T02:00:01.267545",
   "version": "2.4.0"
  }
 },
 "nbformat": 4,
 "nbformat_minor": 5
}