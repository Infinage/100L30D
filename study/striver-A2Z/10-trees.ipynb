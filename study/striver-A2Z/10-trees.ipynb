{
 "cells": [
  {
   "cell_type": "markdown",
   "id": "b29f23a5",
   "metadata": {
    "papermill": {
     "duration": 0.010955,
     "end_time": "2024-04-09T14:59:32.939249",
     "exception": false,
     "start_time": "2024-04-09T14:59:32.928294",
     "status": "completed"
    },
    "tags": []
   },
   "source": [
    "##### Types of binary trees (https://youtu.be/_ANrF3FJm7I?si=DZzUQr9F7dexWewB)\n",
    "1. Full Binary Tree: Each node has 0 or 2 children.\n",
    "2. Complete Binary Tree: All levels are completely filled except the last, which is filled as left as possible.\n",
    "3. Perfect Binary Tree: All leaf nodes are of the same level (all nodes have 2 children except the leaf).\n",
    "4. Balanced Binary Tree: Height of the left and right subtree of any node differ by not more than 1 / Max height of tree is log (no of nodes).\n",
    "5. Degenerate Binary Tree: Every node has a singe children except the leaf node (left skewed or right skewed).\n",
    "\n",
    "##### Binary Tree Traversals (https://youtu.be/jmy0LaGET1I?si=1o8rYIcijmpRxZHq)\n",
    "\n",
    "###### Depth First Search Traversal Techniques\n",
    "Hint 1: Pre - Root first, Post: Root last, In: Root middle <BR>\n",
    "Hint 2: Left, Right order is preserved for all traversals\n",
    "1. In-Order Traversal: Left, Root, Right\n",
    "2. Pre-Order Traversal: Root, Left, Right\n",
    "3. Post-Order Traversal: Left, Right, Root\n",
    "\n",
    "###### Breadth First Search\n",
    "1. Level Order Traversal: All nodes of same level are iterated through before moving to the next level.\n",
    "1. Boundary Traversal: Left boundary (left nodes excluding leaf), Leaf nodes, Right boundary nodes (right nodes excluding leaf).\n",
    "2. Diagnoal Traversal: Nodes of same diagnol are traversed one after another.\n",
    "\n",
    "##### Some properties of Binary Trees\n",
    "- Max nodes at any level: 2 ** (N - 1)"
   ]
  },
  {
   "cell_type": "markdown",
   "id": "3d2598bc",
   "metadata": {
    "papermill": {
     "duration": 0.009938,
     "end_time": "2024-04-09T14:59:32.959388",
     "exception": false,
     "start_time": "2024-04-09T14:59:32.949450",
     "status": "completed"
    },
    "tags": []
   },
   "source": [
    "#### Some useful imports"
   ]
  },
  {
   "cell_type": "code",
   "execution_count": 1,
   "id": "b692ea03",
   "metadata": {
    "execution": {
     "iopub.execute_input": "2024-04-09T14:59:32.981069Z",
     "iopub.status.busy": "2024-04-09T14:59:32.980436Z",
     "iopub.status.idle": "2024-04-09T14:59:32.990305Z",
     "shell.execute_reply": "2024-04-09T14:59:32.989591Z"
    },
    "lines_to_next_cell": 1,
    "papermill": {
     "duration": 0.022696,
     "end_time": "2024-04-09T14:59:32.992048",
     "exception": false,
     "start_time": "2024-04-09T14:59:32.969352",
     "status": "completed"
    },
    "tags": []
   },
   "outputs": [],
   "source": [
    "import math\n",
    "import collections\n",
    "import itertools\n",
    "import bisect\n",
    "import heapq"
   ]
  },
  {
   "cell_type": "markdown",
   "id": "c70ac08c",
   "metadata": {
    "papermill": {
     "duration": 0.009654,
     "end_time": "2024-04-09T14:59:33.011684",
     "exception": false,
     "start_time": "2024-04-09T14:59:33.002030",
     "status": "completed"
    },
    "tags": []
   },
   "source": [
    "#### Helper for Binary tree problems"
   ]
  },
  {
   "cell_type": "code",
   "execution_count": 2,
   "id": "4c5d251b",
   "metadata": {
    "execution": {
     "iopub.execute_input": "2024-04-09T14:59:33.033533Z",
     "iopub.status.busy": "2024-04-09T14:59:33.032904Z",
     "iopub.status.idle": "2024-04-09T14:59:33.043104Z",
     "shell.execute_reply": "2024-04-09T14:59:33.042460Z"
    },
    "lines_to_next_cell": 1,
    "papermill": {
     "duration": 0.022765,
     "end_time": "2024-04-09T14:59:33.044822",
     "exception": false,
     "start_time": "2024-04-09T14:59:33.022057",
     "status": "completed"
    },
    "tags": []
   },
   "outputs": [],
   "source": [
    "class BinaryTreeNode:\n",
    "    def __init__(self, val=0, left=None, right=None):\n",
    "        self.val = val\n",
    "        self.left = left\n",
    "        self.right = right\n",
    "\n",
    "    def to_list(self):\n",
    "        to_visit = [self]\n",
    "        visited = []\n",
    "        while len(to_visit) > 0:\n",
    "            curr = to_visit.pop(0)\n",
    "            if curr:\n",
    "                to_visit.append(curr.left)\n",
    "                to_visit.append(curr.right)\n",
    "                visited.append(curr.val)\n",
    "            else:\n",
    "                visited.append(curr)\n",
    "        return visited\n",
    "\n",
    "    def __str__(self):\n",
    "        return str(self.val)\n",
    "\n",
    "    @staticmethod\n",
    "    def from_array(nums: list[int|None]):\n",
    "        '''Create a Tree from a list of nums. Returns the root node.'''\n",
    "        if len(nums) == 0:\n",
    "            return None\n",
    "        elif len(nums) == 1:\n",
    "            return BinaryTreeNode(nums[0])\n",
    "        else:\n",
    "            forest = [BinaryTreeNode(nums[0])]\n",
    "            parent_idx = -1\n",
    "            for i in range(1, len(nums)):\n",
    "\n",
    "                curr = None\n",
    "                if nums[i] is not None:\n",
    "                    curr = BinaryTreeNode(nums[i])\n",
    "                    forest.append(curr)\n",
    "\n",
    "                if i % 2 == 1:\n",
    "                    parent_idx += 1\n",
    "                    forest[parent_idx].left = curr\n",
    "                else:\n",
    "                    forest[parent_idx].right = curr\n",
    "\n",
    "        return forest[0]"
   ]
  },
  {
   "cell_type": "markdown",
   "id": "b18d099c",
   "metadata": {
    "papermill": {
     "duration": 0.009702,
     "end_time": "2024-04-09T14:59:33.064478",
     "exception": false,
     "start_time": "2024-04-09T14:59:33.054776",
     "status": "completed"
    },
    "tags": []
   },
   "source": [
    "#### Helper for Singly Linked lists"
   ]
  },
  {
   "cell_type": "code",
   "execution_count": 3,
   "id": "f4314d5d",
   "metadata": {
    "execution": {
     "iopub.execute_input": "2024-04-09T14:59:33.086685Z",
     "iopub.status.busy": "2024-04-09T14:59:33.086065Z",
     "iopub.status.idle": "2024-04-09T14:59:33.092831Z",
     "shell.execute_reply": "2024-04-09T14:59:33.092082Z"
    },
    "lines_to_next_cell": 1,
    "papermill": {
     "duration": 0.019449,
     "end_time": "2024-04-09T14:59:33.094659",
     "exception": false,
     "start_time": "2024-04-09T14:59:33.075210",
     "status": "completed"
    },
    "tags": []
   },
   "outputs": [],
   "source": [
    "class ListNode:\n",
    "    def __init__(self, val=0, next=None):\n",
    "        self.val = val\n",
    "        self.next = next\n",
    "\n",
    "    def __str__(self):\n",
    "        return str(self.val)\n",
    "\n",
    "    @staticmethod\n",
    "    def to_singly_linked_list(nums: list[int]):\n",
    "        root = prev = None\n",
    "        for n in nums:\n",
    "            curr = ListNode(n)\n",
    "            # Init once\n",
    "            if not root:\n",
    "                root = curr\n",
    "            if prev:\n",
    "                prev.next = curr\n",
    "            prev = curr\n",
    "\n",
    "        return root\n",
    "\n",
    "    def to_list(self) -> list[int]:\n",
    "        result = []\n",
    "        curr = self\n",
    "        while curr:\n",
    "            result.append(curr.val)\n",
    "            curr = curr.next\n",
    "        return result"
   ]
  },
  {
   "cell_type": "markdown",
   "id": "d43fd3d0",
   "metadata": {
    "papermill": {
     "duration": 0.009618,
     "end_time": "2024-04-09T14:59:33.114060",
     "exception": false,
     "start_time": "2024-04-09T14:59:33.104442",
     "status": "completed"
    },
    "tags": []
   },
   "source": [
    "Inorder, Postorder, Preorder "
   ]
  },
  {
   "cell_type": "code",
   "execution_count": 4,
   "id": "17b6ec0d",
   "metadata": {
    "execution": {
     "iopub.execute_input": "2024-04-09T14:59:33.135413Z",
     "iopub.status.busy": "2024-04-09T14:59:33.134830Z",
     "iopub.status.idle": "2024-04-09T14:59:33.144273Z",
     "shell.execute_reply": "2024-04-09T14:59:33.143648Z"
    },
    "lines_to_next_cell": 1,
    "papermill": {
     "duration": 0.022258,
     "end_time": "2024-04-09T14:59:33.145968",
     "exception": false,
     "start_time": "2024-04-09T14:59:33.123710",
     "status": "completed"
    },
    "tags": []
   },
   "outputs": [],
   "source": [
    "def getTreeTraversal(root: BinaryTreeNode) -> tuple[list[int], list[int], list[int]]:\n",
    "    inorder_: list[int] = []\n",
    "    def inorder(root: BinaryTreeNode) -> None:\n",
    "        if not root:\n",
    "            return\n",
    "        else:\n",
    "            inorder(root.left)\n",
    "            inorder_.append(root.val)\n",
    "            inorder(root.right)\n",
    "\n",
    "    preorder_: list[int] = []\n",
    "    def preorder(root: BinaryTreeNode) -> None:\n",
    "        if not root:\n",
    "            return\n",
    "        else:\n",
    "            preorder_.append(root.val)\n",
    "            preorder(root.left)\n",
    "            preorder(root.right)\n",
    "\n",
    "    postorder_: list[int] = []\n",
    "    def postorder(root: BinaryTreeNode) -> None:\n",
    "        if not root:\n",
    "            return\n",
    "        else:\n",
    "            postorder(root.left)\n",
    "            postorder(root.right)\n",
    "            postorder_.append(root.val)\n",
    "\n",
    "    # Traverse & save the order op to a list, print it\n",
    "    inorder(root)\n",
    "    preorder(root)\n",
    "    postorder(root)\n",
    "    return (preorder_, inorder_, postorder_)\n",
    "    return (inorder_, preorder_, postorder_)\n",
    "\n",
    "# Testing the solution\n",
    "assert getTreeTraversal(BinaryTreeNode.from_array([1, 3, 4, 5, 2, 7, 6])) == ([1, 3, 5, 2, 4, 7, 6], [5, 3, 2, 1, 7, 4, 6], [5, 2, 3, 7, 6, 4, 1])"
   ]
  },
  {
   "cell_type": "markdown",
   "id": "565ebd42",
   "metadata": {
    "papermill": {
     "duration": 0.009674,
     "end_time": "2024-04-09T14:59:33.165737",
     "exception": false,
     "start_time": "2024-04-09T14:59:33.156063",
     "status": "completed"
    },
    "tags": []
   },
   "source": [
    "Level Order Traversal"
   ]
  },
  {
   "cell_type": "code",
   "execution_count": 5,
   "id": "88639bd0",
   "metadata": {
    "execution": {
     "iopub.execute_input": "2024-04-09T14:59:33.186967Z",
     "iopub.status.busy": "2024-04-09T14:59:33.186424Z",
     "iopub.status.idle": "2024-04-09T14:59:33.193642Z",
     "shell.execute_reply": "2024-04-09T14:59:33.192894Z"
    },
    "lines_to_next_cell": 1,
    "papermill": {
     "duration": 0.019854,
     "end_time": "2024-04-09T14:59:33.195286",
     "exception": false,
     "start_time": "2024-04-09T14:59:33.175432",
     "status": "completed"
    },
    "tags": []
   },
   "outputs": [],
   "source": [
    "def levelOrder(root: BinaryTreeNode) -> list[list[int]]:\n",
    "    next_: list[BinaryTreeNode] = [root]\n",
    "    traversed: list[list[int]] = []\n",
    "    while next_:\n",
    "        traversed.append([])\n",
    "        temp: list[BinaryTreeNode] = []\n",
    "        for curr in next_:\n",
    "            if curr:\n",
    "                temp.append(curr.left)\n",
    "                temp.append(curr.right)\n",
    "                traversed[-1].append(curr.val)\n",
    "        if not traversed[-1]:\n",
    "            traversed.pop()\n",
    "        next_ = temp\n",
    "\n",
    "    return traversed\n",
    "\n",
    "# Testing the solution\n",
    "assert levelOrder(BinaryTreeNode.from_array([3,9,20,None,None,15,7])) == [[3], [9, 20], [15, 7]]\n",
    "assert levelOrder(BinaryTreeNode.from_array([1])) == [[1]]"
   ]
  },
  {
   "cell_type": "markdown",
   "id": "d59819aa",
   "metadata": {
    "papermill": {
     "duration": 0.009741,
     "end_time": "2024-04-09T14:59:33.214891",
     "exception": false,
     "start_time": "2024-04-09T14:59:33.205150",
     "status": "completed"
    },
    "tags": []
   },
   "source": [
    "Video Link: https://www.youtube.com/watch?v=Bfqd8BsPVuw&list=PLgUwDviBIf0oF6QL8m22w1hIDC1vJ_BHz&index=81\n",
    "Iterative Preorder traversal\n",
    "\n",
    "# %%\n",
    "def preorderIter(root: BinaryTreeNode) -> list[int]:\n",
    "    \"\"\"\n",
    "    Root, Left, Right. The idea is the push right first and then the left,\n",
    "    since stack only works when we are popping -1 at each step.\n",
    "\n",
    "    Time: O(N), Space: O(Height of Binary Tree)\n",
    "    \"\"\"\n",
    "    result: list[int] = []\n",
    "    stack: list[BinaryTreeNode] = [root]\n",
    "    while stack:\n",
    "        curr = stack.pop()\n",
    "        if curr:\n",
    "            result.append(curr.val)\n",
    "            stack.append(curr.right)\n",
    "            stack.append(curr.left)\n",
    "\n",
    "    return result\n",
    "\n",
    "Testing the solution\n",
    "assert preorderIter(BinaryTreeNode.from_array([1, None, 2, 3])) == [1, 2, 3]\n",
    "assert preorderIter(BinaryTreeNode.from_array([1, 2, 7, 3, 4, None, None, None, None, 5, 6])) == [1, 2, 3, 4, 5, 6, 7]"
   ]
  },
  {
   "cell_type": "markdown",
   "id": "3a949dc1",
   "metadata": {
    "papermill": {
     "duration": 0.009641,
     "end_time": "2024-04-09T14:59:33.234283",
     "exception": false,
     "start_time": "2024-04-09T14:59:33.224642",
     "status": "completed"
    },
    "tags": []
   },
   "source": [
    "Video Link: https://www.youtube.com/watch?v=lxTGsVXjwvM&list=PLgUwDviBIf0oF6QL8m22w1hIDC1vJ_BHz&index=82\n",
    "Iterative Inorder traversal"
   ]
  },
  {
   "cell_type": "code",
   "execution_count": 6,
   "id": "f322e25b",
   "metadata": {
    "execution": {
     "iopub.execute_input": "2024-04-09T14:59:33.255508Z",
     "iopub.status.busy": "2024-04-09T14:59:33.254855Z",
     "iopub.status.idle": "2024-04-09T14:59:33.261337Z",
     "shell.execute_reply": "2024-04-09T14:59:33.260690Z"
    },
    "lines_to_next_cell": 1,
    "papermill": {
     "duration": 0.01914,
     "end_time": "2024-04-09T14:59:33.263075",
     "exception": false,
     "start_time": "2024-04-09T14:59:33.243935",
     "status": "completed"
    },
    "tags": []
   },
   "outputs": [],
   "source": [
    "def inorderIter(root: BinaryTreeNode) -> list[int]:\n",
    "    \"\"\"\n",
    "    Left, Root, Right.\n",
    "\n",
    "    If curr is not null, move to its left and append curr to the stack.\n",
    "    Else pop the last item from stack, print it and move to right of the popped element.\n",
    "    \"\"\"\n",
    "    result: list[int] = []\n",
    "    stack: list[BinaryTreeNode] = []\n",
    "    curr = root\n",
    "    while True:\n",
    "        if curr:\n",
    "            stack.append(curr)\n",
    "            curr = curr.left\n",
    "        else:\n",
    "            if stack:\n",
    "                curr = stack.pop()\n",
    "                result.append(curr.val)\n",
    "                curr = curr.right\n",
    "            else:\n",
    "                break\n",
    "\n",
    "    return result\n",
    "\n",
    "# Testing the solution\n",
    "assert inorderIter(BinaryTreeNode.from_array([1, None, 2, 3])) == [1, 3 ,2]"
   ]
  },
  {
   "cell_type": "markdown",
   "id": "bc03474b",
   "metadata": {
    "papermill": {
     "duration": 0.009798,
     "end_time": "2024-04-09T14:59:33.282812",
     "exception": false,
     "start_time": "2024-04-09T14:59:33.273014",
     "status": "completed"
    },
    "tags": []
   },
   "source": [
    "Video Link: https://www.youtube.com/watch?v=2YBhNLodD8Q&list=PLgUwDviBIf0oF6QL8m22w1hIDC1vJ_BHz&index=83\n",
    "Iterative post order traversal"
   ]
  },
  {
   "cell_type": "code",
   "execution_count": 7,
   "id": "a728f1cf",
   "metadata": {
    "execution": {
     "iopub.execute_input": "2024-04-09T14:59:33.303999Z",
     "iopub.status.busy": "2024-04-09T14:59:33.303543Z",
     "iopub.status.idle": "2024-04-09T14:59:33.309944Z",
     "shell.execute_reply": "2024-04-09T14:59:33.309140Z"
    },
    "lines_to_next_cell": 1,
    "papermill": {
     "duration": 0.019288,
     "end_time": "2024-04-09T14:59:33.311855",
     "exception": false,
     "start_time": "2024-04-09T14:59:33.292567",
     "status": "completed"
    },
    "tags": []
   },
   "outputs": [],
   "source": [
    "def postorderIter(root: BinaryTreeNode) -> list[int]:\n",
    "    \"\"\"\n",
    "    Left, Right, Root.\n",
    "\n",
    "    Go root, right, left similar to how we do preorder and reverse the result.\n",
    "    \"\"\"\n",
    "    stack1: list[BinaryTreeNode] = [root]\n",
    "    stack2: list[int] = []\n",
    "    while stack1:\n",
    "        curr = stack1.pop()\n",
    "        if curr:\n",
    "            stack2.append(curr.val)\n",
    "            stack1.append(curr.left)\n",
    "            stack1.append(curr.right)\n",
    "\n",
    "    stack2.reverse()\n",
    "    return stack2\n",
    "\n",
    "# Testing the solution\n",
    "assert postorderIter(BinaryTreeNode.from_array([1, 2, 3, 4, 5, 6, None, None, None, None, None, None, 7])) == [4, 5, 2, 7, 6, 3, 1]"
   ]
  },
  {
   "cell_type": "markdown",
   "id": "c2506b05",
   "metadata": {
    "papermill": {
     "duration": 0.009821,
     "end_time": "2024-04-09T14:59:33.331532",
     "exception": false,
     "start_time": "2024-04-09T14:59:33.321711",
     "status": "completed"
    },
    "tags": []
   },
   "source": [
    "Video Link: https://www.youtube.com/watch?v=NzIGLLwZBS8&list=PLgUwDviBIf0oF6QL8m22w1hIDC1vJ_BHz&index=84\n",
    "Iterative post order traversal using single stack\n",
    "From striver: \"This topic is bit tricky, so try to dry run some trees. Its kinda algorithm that you need to remember. Cannot help\""
   ]
  },
  {
   "cell_type": "code",
   "execution_count": 8,
   "id": "b8f98a3a",
   "metadata": {
    "execution": {
     "iopub.execute_input": "2024-04-09T14:59:33.352742Z",
     "iopub.status.busy": "2024-04-09T14:59:33.352204Z",
     "iopub.status.idle": "2024-04-09T14:59:33.364582Z",
     "shell.execute_reply": "2024-04-09T14:59:33.363780Z"
    },
    "lines_to_next_cell": 1,
    "papermill": {
     "duration": 0.025215,
     "end_time": "2024-04-09T14:59:33.366553",
     "exception": false,
     "start_time": "2024-04-09T14:59:33.341338",
     "status": "completed"
    },
    "tags": []
   },
   "outputs": [
    {
     "data": {
      "text/plain": [
       "[6, 5, 4, 3, 2, 8, 7, 1]"
      ]
     },
     "execution_count": 8,
     "metadata": {},
     "output_type": "execute_result"
    }
   ],
   "source": [
    "def postorderIter_single_stack(root: BinaryTreeNode) -> list[int]:\n",
    "    \"Time: O(2N), Space: O(N)\"\n",
    "    result: list[int] = []\n",
    "    stack: list[BinaryTreeNode] = []\n",
    "    curr = root\n",
    "    while curr or stack:\n",
    "        if curr:\n",
    "            stack.append(curr)\n",
    "            curr = curr.left\n",
    "        else:\n",
    "            temp = stack[-1].right\n",
    "            if not temp:\n",
    "                temp = stack.pop()\n",
    "                result.append(temp.val)\n",
    "                while stack and temp == stack[-1].right:\n",
    "                    temp = stack.pop()\n",
    "                    result.append(temp.val)\n",
    "            else:\n",
    "                curr = temp\n",
    "\n",
    "    return result\n",
    "\n",
    "# Testing the solution\n",
    "postorderIter_single_stack(BinaryTreeNode.from_array([1, 2, 7, 3, None, 8, None, None, 4, None, None, None, 5, None, 6]))"
   ]
  },
  {
   "cell_type": "markdown",
   "id": "cd401b3e",
   "metadata": {
    "papermill": {
     "duration": 0.010094,
     "end_time": "2024-04-09T14:59:33.386853",
     "exception": false,
     "start_time": "2024-04-09T14:59:33.376759",
     "status": "completed"
    },
    "tags": []
   },
   "source": [
    "Video Link: https://youtu.be/ySp2epYvgTE?si=TItCZRCbbFnyQlyi\n",
    "Post Order, In Order, Pre Order Traversal in one iteration"
   ]
  },
  {
   "cell_type": "code",
   "execution_count": 9,
   "id": "ac069236",
   "metadata": {
    "execution": {
     "iopub.execute_input": "2024-04-09T14:59:33.408263Z",
     "iopub.status.busy": "2024-04-09T14:59:33.407665Z",
     "iopub.status.idle": "2024-04-09T14:59:33.415564Z",
     "shell.execute_reply": "2024-04-09T14:59:33.414795Z"
    },
    "lines_to_next_cell": 1,
    "papermill": {
     "duration": 0.020563,
     "end_time": "2024-04-09T14:59:33.417337",
     "exception": false,
     "start_time": "2024-04-09T14:59:33.396774",
     "status": "completed"
    },
    "tags": []
   },
   "outputs": [],
   "source": [
    "def getTreeTraversal_single_traversal(root: BinaryTreeNode) -> tuple[list[int], list[int], list[int]]:\n",
    "    \"Time: O(3N), Space: O(1)\"\n",
    "\n",
    "    preorder: list[int] = []\n",
    "    inorder: list[int] = []\n",
    "    postorder: list[int] = []\n",
    "\n",
    "    stack: list[tuple[BinaryTreeNode, int]] = [(root, 1)]\n",
    "    while stack:\n",
    "        curr, op = stack.pop()\n",
    "        if curr and op == 1:\n",
    "            preorder.append(curr.val)\n",
    "            stack.append((curr, op + 1))\n",
    "            stack.append((curr.left, 1))\n",
    "        elif curr and op == 2:\n",
    "            inorder.append(curr.val)\n",
    "            stack.append((curr, op + 1))\n",
    "            stack.append((curr.right, 1))\n",
    "        else:\n",
    "            if curr:\n",
    "                postorder.append(curr.val)\n",
    "\n",
    "    return preorder, inorder, postorder\n",
    "\n",
    "# Testing the solution\n",
    "temp = BinaryTreeNode.from_array([1, 3, 4, 5, 2, 7, 6])\n",
    "assert getTreeTraversal(temp) == getTreeTraversal_single_traversal(temp)"
   ]
  },
  {
   "cell_type": "markdown",
   "id": "5689f6ec",
   "metadata": {
    "papermill": {
     "duration": 0.009876,
     "end_time": "2024-04-09T14:59:33.437226",
     "exception": false,
     "start_time": "2024-04-09T14:59:33.427350",
     "status": "completed"
    },
    "tags": []
   },
   "source": [
    "Maximum Depth of a Binary Tree: https://www.youtube.com/watch?v=eD3tmO66aBA&list=PLgUwDviBIf0oF6QL8m22w1hIDC1vJ_BHz&index=86"
   ]
  },
  {
   "cell_type": "code",
   "execution_count": 10,
   "id": "77506355",
   "metadata": {
    "execution": {
     "iopub.execute_input": "2024-04-09T14:59:33.458582Z",
     "iopub.status.busy": "2024-04-09T14:59:33.458093Z",
     "iopub.status.idle": "2024-04-09T14:59:33.464009Z",
     "shell.execute_reply": "2024-04-09T14:59:33.463247Z"
    },
    "lines_to_next_cell": 1,
    "papermill": {
     "duration": 0.018778,
     "end_time": "2024-04-09T14:59:33.465866",
     "exception": false,
     "start_time": "2024-04-09T14:59:33.447088",
     "status": "completed"
    },
    "tags": []
   },
   "outputs": [],
   "source": [
    "# Level Order Traversal\n",
    "def maxDepthIter(root: BinaryTreeNode) -> int:\n",
    "    \"Time: O(N), Space: O(N)\"\n",
    "\n",
    "    to_traverse: list[BinaryTreeNode] = [root]\n",
    "    height = 0\n",
    "    while to_traverse:\n",
    "        height += 1\n",
    "        next_: list[BinaryTreeNode] = []\n",
    "        for node in to_traverse:\n",
    "            if node:\n",
    "                next_.append(node.left)\n",
    "                next_.append(node.right)\n",
    "        to_traverse = next_\n",
    "\n",
    "    return height - 1\n",
    "\n",
    "# Testing the solution\n",
    "assert maxDepthIter(BinaryTreeNode.from_array([3,9,20,None,None,15,7])) == 3"
   ]
  },
  {
   "cell_type": "code",
   "execution_count": 11,
   "id": "ad1799a0",
   "metadata": {
    "execution": {
     "iopub.execute_input": "2024-04-09T14:59:33.487992Z",
     "iopub.status.busy": "2024-04-09T14:59:33.487329Z",
     "iopub.status.idle": "2024-04-09T14:59:33.493231Z",
     "shell.execute_reply": "2024-04-09T14:59:33.492487Z"
    },
    "lines_to_next_cell": 1,
    "papermill": {
     "duration": 0.018676,
     "end_time": "2024-04-09T14:59:33.494848",
     "exception": false,
     "start_time": "2024-04-09T14:59:33.476172",
     "status": "completed"
    },
    "tags": []
   },
   "outputs": [],
   "source": [
    "def maxDepthRecursive(root: BinaryTreeNode) -> int:\n",
    "\n",
    "    max_: int = 0\n",
    "    def backtrack(curr: BinaryTreeNode, height: int = 0):\n",
    "        nonlocal max_\n",
    "        if not curr:\n",
    "            max_ = max(max_, height)\n",
    "            return\n",
    "        else:\n",
    "            backtrack(curr.left, height + 1)\n",
    "            backtrack(curr.right, height + 1)\n",
    "\n",
    "    backtrack(root)\n",
    "    return max_\n",
    "\n",
    "# Testing the solution\n",
    "assert maxDepthRecursive(BinaryTreeNode.from_array([3,9,20,None,None,15,7])) == 3"
   ]
  },
  {
   "cell_type": "code",
   "execution_count": 12,
   "id": "593ac16d",
   "metadata": {
    "execution": {
     "iopub.execute_input": "2024-04-09T14:59:33.516451Z",
     "iopub.status.busy": "2024-04-09T14:59:33.515903Z",
     "iopub.status.idle": "2024-04-09T14:59:33.520859Z",
     "shell.execute_reply": "2024-04-09T14:59:33.520120Z"
    },
    "lines_to_next_cell": 1,
    "papermill": {
     "duration": 0.017663,
     "end_time": "2024-04-09T14:59:33.522679",
     "exception": false,
     "start_time": "2024-04-09T14:59:33.505016",
     "status": "completed"
    },
    "tags": []
   },
   "outputs": [],
   "source": [
    "def maxDepthStriver(root: BinaryTreeNode) -> int:\n",
    "    if not root:\n",
    "        return 0\n",
    "    else:\n",
    "        left = maxDepthStriver(root.left)\n",
    "        right = maxDepthStriver(root.right)\n",
    "        return 1 + max(left, right)\n",
    "\n",
    "# Testing the solution\n",
    "assert maxDepthStriver(BinaryTreeNode.from_array([3,9,20,None,None,15,7])) == 3"
   ]
  },
  {
   "cell_type": "markdown",
   "id": "83812466",
   "metadata": {
    "papermill": {
     "duration": 0.009843,
     "end_time": "2024-04-09T14:59:33.542425",
     "exception": false,
     "start_time": "2024-04-09T14:59:33.532582",
     "status": "completed"
    },
    "tags": []
   },
   "source": [
    "Check for balanced Binary Tree: https://youtu.be/Yt50Jfbd8Po?si=pqjd9p-_S-9vRrmG"
   ]
  },
  {
   "cell_type": "code",
   "execution_count": 13,
   "id": "fc21bd9b",
   "metadata": {
    "execution": {
     "iopub.execute_input": "2024-04-09T14:59:33.563516Z",
     "iopub.status.busy": "2024-04-09T14:59:33.563070Z",
     "iopub.status.idle": "2024-04-09T14:59:33.569423Z",
     "shell.execute_reply": "2024-04-09T14:59:33.568674Z"
    },
    "lines_to_next_cell": 1,
    "papermill": {
     "duration": 0.018943,
     "end_time": "2024-04-09T14:59:33.571121",
     "exception": false,
     "start_time": "2024-04-09T14:59:33.552178",
     "status": "completed"
    },
    "tags": []
   },
   "outputs": [],
   "source": [
    "def isBalanced(root: BinaryTreeNode) -> bool:\n",
    "    def checkHeight(curr: BinaryTreeNode) -> int:\n",
    "        if not curr:\n",
    "            return 0\n",
    "        else:\n",
    "            left = checkHeight(curr.left)\n",
    "            if left == -1:\n",
    "                return -1\n",
    "            right = checkHeight(curr.right)\n",
    "            if right == -1:\n",
    "                return -1\n",
    "            if abs(left - right) > 1:\n",
    "                return -1\n",
    "            else:\n",
    "                return 1 + max(left, right)\n",
    "\n",
    "    return checkHeight(root) != -1\n",
    "\n",
    "# Testing the solution\n",
    "assert isBalanced(BinaryTreeNode.from_array([1,2,2,3,3,None,None,4,4])) == False"
   ]
  },
  {
   "cell_type": "markdown",
   "id": "77ff8f23",
   "metadata": {
    "papermill": {
     "duration": 0.009918,
     "end_time": "2024-04-09T14:59:33.591015",
     "exception": false,
     "start_time": "2024-04-09T14:59:33.581097",
     "status": "completed"
    },
    "tags": []
   },
   "source": [
    "Diameter of Binary Tree: https://youtu.be/Rezetez59Nk?si=9WeCIb_ik5elrVZm"
   ]
  },
  {
   "cell_type": "code",
   "execution_count": 14,
   "id": "ce78d08b",
   "metadata": {
    "execution": {
     "iopub.execute_input": "2024-04-09T14:59:33.612301Z",
     "iopub.status.busy": "2024-04-09T14:59:33.611696Z",
     "iopub.status.idle": "2024-04-09T14:59:33.619852Z",
     "shell.execute_reply": "2024-04-09T14:59:33.619201Z"
    },
    "lines_to_next_cell": 1,
    "papermill": {
     "duration": 0.020684,
     "end_time": "2024-04-09T14:59:33.621503",
     "exception": false,
     "start_time": "2024-04-09T14:59:33.600819",
     "status": "completed"
    },
    "tags": []
   },
   "outputs": [
    {
     "data": {
      "text/plain": [
       "3"
      ]
     },
     "execution_count": 14,
     "metadata": {},
     "output_type": "execute_result"
    }
   ],
   "source": [
    "def diameterOfBinaryTree(root: BinaryTreeNode) -> int:\n",
    "\n",
    "    diameter: int = 0\n",
    "    def checkHeight(curr: BinaryTreeNode) -> int:\n",
    "        nonlocal diameter\n",
    "        if not curr:\n",
    "            return 0\n",
    "        else:\n",
    "            left = checkHeight(curr.left)\n",
    "            right = checkHeight(curr.right)\n",
    "            diameter = max(diameter, left + right)\n",
    "            return 1 + max(left, right)\n",
    "\n",
    "    checkHeight(root)\n",
    "    return diameter\n",
    "\n",
    "# Testing the solution\n",
    "diameterOfBinaryTree(BinaryTreeNode.from_array([1,2,3,4,5]))"
   ]
  },
  {
   "cell_type": "markdown",
   "id": "089181e0",
   "metadata": {
    "papermill": {
     "duration": 0.010105,
     "end_time": "2024-04-09T14:59:33.641954",
     "exception": false,
     "start_time": "2024-04-09T14:59:33.631849",
     "status": "completed"
    },
    "tags": []
   },
   "source": [
    "Video Link: https://youtu.be/WszrfSwMz58?si=daE6TYubT_j5MKuT\n",
    "Maximum Path Sum: https://leetcode.com/problems/binary-tree-maximum-path-sum/submissions/1224438073"
   ]
  },
  {
   "cell_type": "code",
   "execution_count": 15,
   "id": "4192b725",
   "metadata": {
    "execution": {
     "iopub.execute_input": "2024-04-09T14:59:33.663418Z",
     "iopub.status.busy": "2024-04-09T14:59:33.662902Z",
     "iopub.status.idle": "2024-04-09T14:59:33.670343Z",
     "shell.execute_reply": "2024-04-09T14:59:33.669505Z"
    },
    "lines_to_next_cell": 1,
    "papermill": {
     "duration": 0.020046,
     "end_time": "2024-04-09T14:59:33.671960",
     "exception": false,
     "start_time": "2024-04-09T14:59:33.651914",
     "status": "completed"
    },
    "tags": []
   },
   "outputs": [],
   "source": [
    "def maxPathSum(root: BinaryTreeNode) -> float:\n",
    "    max_sum: float = -math.inf\n",
    "    def backtrack(curr: BinaryTreeNode) -> float:\n",
    "        nonlocal max_sum\n",
    "        if not curr:\n",
    "            return 0\n",
    "        else:\n",
    "            left = max(0, backtrack(curr.left))\n",
    "            right = max(0, backtrack(curr.right))\n",
    "            max_sum = max(max_sum, left + right + curr.val)\n",
    "            return curr.val + max(left, right)\n",
    "\n",
    "    backtrack(root)\n",
    "    return max_sum\n",
    "\n",
    "# Testing the solution\n",
    "assert maxPathSum(BinaryTreeNode.from_array([-10,9,20,None,None,15,7])) == 42\n",
    "assert maxPathSum(BinaryTreeNode.from_array([1, -2, 3])) == 4\n",
    "assert maxPathSum(BinaryTreeNode.from_array([9,6,-3,None,None,-6,2,None,None,2,None,-6,-6,-6])) == 16"
   ]
  },
  {
   "cell_type": "markdown",
   "id": "0bdad953",
   "metadata": {
    "papermill": {
     "duration": 0.010138,
     "end_time": "2024-04-09T14:59:33.692487",
     "exception": false,
     "start_time": "2024-04-09T14:59:33.682349",
     "status": "completed"
    },
    "tags": []
   },
   "source": [
    "Check if two trees are identical or not\n",
    "Video Link: https://youtu.be/BhuvF_-PWS0?si=C1iPAcpAICZHWRSr"
   ]
  },
  {
   "cell_type": "code",
   "execution_count": 16,
   "id": "7a2627c8",
   "metadata": {
    "execution": {
     "iopub.execute_input": "2024-04-09T14:59:33.714488Z",
     "iopub.status.busy": "2024-04-09T14:59:33.713866Z",
     "iopub.status.idle": "2024-04-09T14:59:33.720551Z",
     "shell.execute_reply": "2024-04-09T14:59:33.719835Z"
    },
    "lines_to_next_cell": 1,
    "papermill": {
     "duration": 0.019692,
     "end_time": "2024-04-09T14:59:33.722282",
     "exception": false,
     "start_time": "2024-04-09T14:59:33.702590",
     "status": "completed"
    },
    "tags": []
   },
   "outputs": [],
   "source": [
    "def isSameTree(p: BinaryTreeNode, q: BinaryTreeNode) -> bool:\n",
    "    def backtrack(curr1: BinaryTreeNode, curr2: BinaryTreeNode) -> bool:\n",
    "        if not curr1 or not curr2:\n",
    "            return curr1 == curr2\n",
    "        else:\n",
    "            return curr1.val == curr2.val and backtrack(curr1.left, curr2.left) and backtrack(curr1.right, curr2.right)\n",
    "\n",
    "    return backtrack(p, q)\n",
    "\n",
    "# Testing the solution\n",
    "assert isSameTree(BinaryTreeNode.from_array([1, 2, 3]), BinaryTreeNode.from_array([1, 2, 3])) == True\n",
    "assert isSameTree(BinaryTreeNode.from_array([1, 2]), BinaryTreeNode.from_array([1, None, 2])) == False"
   ]
  },
  {
   "cell_type": "markdown",
   "id": "6f64cc1b",
   "metadata": {
    "papermill": {
     "duration": 0.010097,
     "end_time": "2024-04-09T14:59:33.742719",
     "exception": false,
     "start_time": "2024-04-09T14:59:33.732622",
     "status": "completed"
    },
    "tags": []
   },
   "source": [
    "Video Link: https://youtu.be/3OXWEdlIGl4?si=prGw3PDHdgEpFJgj\n",
    "Zig Zag / Spiral Traversal in a Binary Tree"
   ]
  },
  {
   "cell_type": "code",
   "execution_count": 17,
   "id": "220a0708",
   "metadata": {
    "execution": {
     "iopub.execute_input": "2024-04-09T14:59:33.764099Z",
     "iopub.status.busy": "2024-04-09T14:59:33.763818Z",
     "iopub.status.idle": "2024-04-09T14:59:33.772434Z",
     "shell.execute_reply": "2024-04-09T14:59:33.771650Z"
    },
    "lines_to_next_cell": 1,
    "papermill": {
     "duration": 0.021461,
     "end_time": "2024-04-09T14:59:33.774154",
     "exception": false,
     "start_time": "2024-04-09T14:59:33.752693",
     "status": "completed"
    },
    "tags": []
   },
   "outputs": [],
   "source": [
    "# Leetcode Medium: https://leetcode.com/problems/binary-tree-zigzag-level-order-traversal/submissions/1225227141\n",
    "def zigzagLevelOrder(root: BinaryTreeNode) -> list[list[int]]:\n",
    "    \"\"\"\n",
    "    Perform a level order traversal, store the results into a deque.\n",
    "    Based on level#, traverse from left node to right or vice versa.\n",
    "    \"\"\"\n",
    "    to_visit: list[BinaryTreeNode] = [root]\n",
    "    result: list[list[int]] = []\n",
    "    level = 1\n",
    "    while to_visit:\n",
    "        next_: list[BinaryTreeNode] = []\n",
    "        result.append([])\n",
    "        for curr in to_visit:\n",
    "            if curr:\n",
    "                result[-1].append(curr.val)\n",
    "                next_.append(curr.left)\n",
    "                next_.append(curr.right)\n",
    "\n",
    "        if not result[-1]:\n",
    "            result.pop()\n",
    "        elif level % 2 == 0:\n",
    "            result[-1].reverse()\n",
    "\n",
    "        to_visit = next_\n",
    "        level += 1\n",
    "\n",
    "    return result\n",
    "\n",
    "# Testing the solution\n",
    "assert zigzagLevelOrder(BinaryTreeNode.from_array([3,9,20,None,None,15,7])) == [[3],[20,9],[15,7]]\n",
    "assert zigzagLevelOrder(BinaryTreeNode.from_array([1,2,3,4,None,None,5])) == [[1],[3,2],[4,5]]"
   ]
  },
  {
   "cell_type": "markdown",
   "id": "83e73a04",
   "metadata": {
    "papermill": {
     "duration": 0.010087,
     "end_time": "2024-04-09T14:59:33.794394",
     "exception": false,
     "start_time": "2024-04-09T14:59:33.784307",
     "status": "completed"
    },
    "tags": []
   },
   "source": [
    "Video Link: https://youtu.be/0ca1nvR0be4?si=Er0-Y8gxhnKlWt6-\n",
    "Boundary Traversal in a Binary Tree"
   ]
  },
  {
   "cell_type": "code",
   "execution_count": 18,
   "id": "3e63f2c1",
   "metadata": {
    "execution": {
     "iopub.execute_input": "2024-04-09T14:59:33.816436Z",
     "iopub.status.busy": "2024-04-09T14:59:33.815895Z",
     "iopub.status.idle": "2024-04-09T14:59:33.825997Z",
     "shell.execute_reply": "2024-04-09T14:59:33.825232Z"
    },
    "lines_to_next_cell": 1,
    "papermill": {
     "duration": 0.02323,
     "end_time": "2024-04-09T14:59:33.827726",
     "exception": false,
     "start_time": "2024-04-09T14:59:33.804496",
     "status": "completed"
    },
    "tags": []
   },
   "outputs": [],
   "source": [
    "def traverseBoundary(root: BinaryTreeNode) -> list[int]:\n",
    "    \"\"\"\n",
    "    Left boundary excluding leaves, Leaf nodes, Right Boundary excluding leaves\n",
    "    \"\"\"\n",
    "\n",
    "    left: list[int] = []\n",
    "    curr = root.left\n",
    "    while curr and (curr.left or curr.right):\n",
    "        left.append(curr.val)\n",
    "        curr = curr.left if curr.left else curr.right\n",
    "\n",
    "    boundary: list[int] = []\n",
    "    def getLeaves(curr: BinaryTreeNode):\n",
    "        nonlocal boundary\n",
    "        if not curr:\n",
    "            return\n",
    "        else:\n",
    "            if not curr.left and not curr.right:\n",
    "                boundary.append(curr.val)\n",
    "            getLeaves(curr.left)\n",
    "            getLeaves(curr.right)\n",
    "\n",
    "    right: list[int] = []\n",
    "    curr = root.right\n",
    "    while curr and (curr.left or curr.right):\n",
    "        right.append(curr.val)\n",
    "        curr = curr.right if curr.right else curr.left\n",
    "    right.reverse()\n",
    "\n",
    "    getLeaves(root)\n",
    "    return [root.val] + left + boundary + right\n",
    "\n",
    "# Testing the solution\n",
    "assert traverseBoundary(BinaryTreeNode.from_array([10, 5, 20, 3, 8, 18, 25, None, None, 7, None, None, None, None, None, None, None])) == [10, 5, 3, 7, 18, 25, 20]\n",
    "assert traverseBoundary(BinaryTreeNode.from_array([100, 50, 150, 25, 75, 140, 200, None, 30, 70, 80, None, None, None, None, None, 35, None, None, None, None, None, None])) == [100, 50, 25, 30, 35, 70, 80, 140, 200, 150]"
   ]
  },
  {
   "cell_type": "markdown",
   "id": "48a971f2",
   "metadata": {
    "papermill": {
     "duration": 0.010068,
     "end_time": "2024-04-09T14:59:33.849896",
     "exception": false,
     "start_time": "2024-04-09T14:59:33.839828",
     "status": "completed"
    },
    "tags": []
   },
   "source": [
    "Video Link: https://youtu.be/q_a6lpbKJdw?si=d1p9utIGRbbi7q84\n",
    "Vertial order traversal of Binary Tree"
   ]
  },
  {
   "cell_type": "code",
   "execution_count": 19,
   "id": "584c0df0",
   "metadata": {
    "execution": {
     "iopub.execute_input": "2024-04-09T14:59:33.871147Z",
     "iopub.status.busy": "2024-04-09T14:59:33.870895Z",
     "iopub.status.idle": "2024-04-09T14:59:33.880867Z",
     "shell.execute_reply": "2024-04-09T14:59:33.880126Z"
    },
    "lines_to_next_cell": 1,
    "papermill": {
     "duration": 0.022723,
     "end_time": "2024-04-09T14:59:33.882606",
     "exception": false,
     "start_time": "2024-04-09T14:59:33.859883",
     "status": "completed"
    },
    "tags": []
   },
   "outputs": [],
   "source": [
    "# Problem Link: https://leetcode.com/problems/vertical-order-traversal-of-a-binary-tree/submissions/1226266467\n",
    "def verticalTraversal(root: BinaryTreeNode) -> list[list[int]]:\n",
    "    \"\"\"\n",
    "    Time: O(N log N), Space: O(N)\n",
    "    \"\"\"\n",
    "\n",
    "    # Time: O(N)\n",
    "    ordering: list[tuple[int, int, int]] = []\n",
    "    def backtrack(curr: BinaryTreeNode, i: int, j: int):\n",
    "        nonlocal ordering\n",
    "        if not curr:\n",
    "            return\n",
    "        else:\n",
    "            ordering.append((curr.val, i, j))\n",
    "            backtrack(curr.left, i + 1, j - 1)\n",
    "            backtrack(curr.right, i + 1, j + 1)\n",
    "\n",
    "    # Time: O(N log N)\n",
    "    backtrack(root, 0, 0)\n",
    "    ordering.sort(key=lambda x: (x[2], x[1], x[0]))\n",
    "\n",
    "    # Time: O(N)\n",
    "    result: list[list[int]] = []\n",
    "    prev = ordering[0][2] - 1\n",
    "    for k, i, j in ordering:\n",
    "        if j != prev:\n",
    "            result.append([])\n",
    "            prev = j\n",
    "        result[-1].append(k)\n",
    "\n",
    "    return result\n",
    "\n",
    "# Testing the solution\n",
    "assert verticalTraversal(BinaryTreeNode.from_array([3,9,20,None,None,15,7])) == [[9], [3, 15], [20], [7]]\n",
    "assert verticalTraversal(BinaryTreeNode.from_array([1, 2, 3, 4, 5, 6, 7])) == [[4], [2], [1,5,6], [3], [7]]\n",
    "assert verticalTraversal(BinaryTreeNode.from_array([1, 2, 3, 4, 6, 5, 7])) == [[4], [2], [1, 5, 6], [3], [7]]"
   ]
  },
  {
   "cell_type": "markdown",
   "id": "5a99a217",
   "metadata": {
    "papermill": {
     "duration": 0.010008,
     "end_time": "2024-04-09T14:59:33.902682",
     "exception": false,
     "start_time": "2024-04-09T14:59:33.892674",
     "status": "completed"
    },
    "tags": []
   },
   "source": [
    "Video Link: https://youtu.be/Et9OCDNvJ78?si=JB9v3iN8uhAELNkl\n",
    "Top view of a Binary Tree"
   ]
  },
  {
   "cell_type": "code",
   "execution_count": 20,
   "id": "fbf1035d",
   "metadata": {
    "execution": {
     "iopub.execute_input": "2024-04-09T14:59:33.924384Z",
     "iopub.status.busy": "2024-04-09T14:59:33.923871Z",
     "iopub.status.idle": "2024-04-09T14:59:33.932753Z",
     "shell.execute_reply": "2024-04-09T14:59:33.932093Z"
    },
    "lines_to_next_cell": 1,
    "papermill": {
     "duration": 0.021786,
     "end_time": "2024-04-09T14:59:33.934453",
     "exception": false,
     "start_time": "2024-04-09T14:59:33.912667",
     "status": "completed"
    },
    "tags": []
   },
   "outputs": [],
   "source": [
    "def topViewBinaryTree(root: BinaryTreeNode) -> list[int]:\n",
    "    topView: dict[int, int] = dict()\n",
    "\n",
    "    # Level Order Traversal\n",
    "    stack: list[tuple[BinaryTreeNode, int]] = [(root, 0)]\n",
    "    while stack:\n",
    "        next_: list[tuple[BinaryTreeNode, int]] = []\n",
    "        for curr, j in stack:\n",
    "            if curr:\n",
    "                if j not in topView:\n",
    "                    topView[j] = curr.val\n",
    "                next_.append((curr.left, j - 1))\n",
    "                next_.append((curr.right, j + 1))\n",
    "\n",
    "        stack = next_\n",
    "\n",
    "    result: list[int] = []\n",
    "    for k, v in sorted(topView.items(), key=lambda x: x[0]):\n",
    "        result.append(v)\n",
    "\n",
    "    return result\n",
    "\n",
    "# Testing the result\n",
    "assert topViewBinaryTree(BinaryTreeNode.from_array([1, 2, 3, 4, 5, None, 6, None, 7, None, None, 8, None, 9, None, None, 11, 10, None, None, None, None, None])) == [10, 4,  2, 1, 3, 6]"
   ]
  },
  {
   "cell_type": "markdown",
   "id": "b62cb1a9",
   "metadata": {
    "papermill": {
     "duration": 0.010347,
     "end_time": "2024-04-09T14:59:33.955073",
     "exception": false,
     "start_time": "2024-04-09T14:59:33.944726",
     "status": "completed"
    },
    "tags": []
   },
   "source": [
    "Video Link: https://youtu.be/0FtVY6I4pB8?si=pBJ-JgXeSz_WxjCs\n",
    "Bottom view of a Binary tree"
   ]
  },
  {
   "cell_type": "code",
   "execution_count": 21,
   "id": "f1b0d9dd",
   "metadata": {
    "execution": {
     "iopub.execute_input": "2024-04-09T14:59:33.977014Z",
     "iopub.status.busy": "2024-04-09T14:59:33.976423Z",
     "iopub.status.idle": "2024-04-09T14:59:33.983948Z",
     "shell.execute_reply": "2024-04-09T14:59:33.983231Z"
    },
    "lines_to_next_cell": 1,
    "papermill": {
     "duration": 0.020479,
     "end_time": "2024-04-09T14:59:33.985661",
     "exception": false,
     "start_time": "2024-04-09T14:59:33.965182",
     "status": "completed"
    },
    "tags": []
   },
   "outputs": [],
   "source": [
    "def bottomView(root: BinaryTreeNode) -> list[int]:\n",
    "    ordering: dict[int, int] = dict()\n",
    "    stack: list[tuple[BinaryTreeNode, int]] = [(root, 0)]\n",
    "    while stack:\n",
    "        next_: list[tuple[BinaryTreeNode, int]] = []\n",
    "        for curr, j in stack:\n",
    "            if curr:\n",
    "                ordering[j] = curr.val\n",
    "                next_.append((curr.left, j - 1))\n",
    "                next_.append((curr.right, j + 1))\n",
    "\n",
    "        stack = next_\n",
    "\n",
    "    result: list[int] = []\n",
    "    for k in sorted(ordering.keys()):\n",
    "        result.append(ordering[k])\n",
    "\n",
    "    return result\n",
    "\n",
    "# Testing the solution\n",
    "assert bottomView(BinaryTreeNode.from_array([1, 2, 3, None, None, 5, 6, 7, 8, None, None, None, None, None, None])) == [7, 5, 8, 6]"
   ]
  },
  {
   "cell_type": "markdown",
   "id": "262c0c19",
   "metadata": {
    "papermill": {
     "duration": 0.009974,
     "end_time": "2024-04-09T14:59:34.005783",
     "exception": false,
     "start_time": "2024-04-09T14:59:33.995809",
     "status": "completed"
    },
    "tags": []
   },
   "source": [
    "Video Link: https://youtu.be/KV4mRzTjlAk?si=lzQH9S7GrgZKUjMj\n",
    "Right / Left view of a Binary Tree"
   ]
  },
  {
   "cell_type": "code",
   "execution_count": 22,
   "id": "8d6decb1",
   "metadata": {
    "execution": {
     "iopub.execute_input": "2024-04-09T14:59:34.027976Z",
     "iopub.status.busy": "2024-04-09T14:59:34.027196Z",
     "iopub.status.idle": "2024-04-09T14:59:34.034597Z",
     "shell.execute_reply": "2024-04-09T14:59:34.033811Z"
    },
    "lines_to_next_cell": 1,
    "papermill": {
     "duration": 0.020357,
     "end_time": "2024-04-09T14:59:34.036284",
     "exception": false,
     "start_time": "2024-04-09T14:59:34.015927",
     "status": "completed"
    },
    "tags": []
   },
   "outputs": [],
   "source": [
    "# Right Side View: Time - O(N)\n",
    "def rightSideView(root: BinaryTreeNode) -> list[int]:\n",
    "    ordering: dict[int, int] = dict()\n",
    "    def inOrder(curr: BinaryTreeNode, i: int = 0):\n",
    "        nonlocal ordering\n",
    "        if not curr:\n",
    "            return\n",
    "        else:\n",
    "            ordering[i] = curr.val\n",
    "            inOrder(curr.left, i + 1)\n",
    "            inOrder(curr.right, i + 1)\n",
    "\n",
    "    # Backtrack and store the results\n",
    "    inOrder(root)\n",
    "    result: list[int] = []\n",
    "    for k in sorted(ordering.keys()):\n",
    "        result.append(ordering[k])\n",
    "\n",
    "    return result\n",
    "\n",
    "# Testing the solution\n",
    "assert rightSideView(BinaryTreeNode.from_array([1, 2, 3, None, 5, None, 4])) == [1, 3, 4]\n",
    "assert rightSideView(BinaryTreeNode.from_array([1, 2, 3, 4])) == [1, 3, 4]"
   ]
  },
  {
   "cell_type": "code",
   "execution_count": 23,
   "id": "367ea6a3",
   "metadata": {
    "execution": {
     "iopub.execute_input": "2024-04-09T14:59:34.059165Z",
     "iopub.status.busy": "2024-04-09T14:59:34.058496Z",
     "iopub.status.idle": "2024-04-09T14:59:34.067193Z",
     "shell.execute_reply": "2024-04-09T14:59:34.066447Z"
    },
    "lines_to_next_cell": 1,
    "papermill": {
     "duration": 0.02206,
     "end_time": "2024-04-09T14:59:34.068867",
     "exception": false,
     "start_time": "2024-04-09T14:59:34.046807",
     "status": "completed"
    },
    "tags": [],
    "title": "Left Side View: Time - O(N)"
   },
   "outputs": [],
   "source": [
    "def leftSideView(root: BinaryTreeNode) -> list[int]:\n",
    "    ordering: dict[int, int] = dict()\n",
    "    def backtrack(curr: BinaryTreeNode, i: int = 0):\n",
    "        nonlocal ordering\n",
    "        if not curr:\n",
    "            return\n",
    "        else:\n",
    "            ordering[i] = curr.val\n",
    "            backtrack(curr.right, i + 1)\n",
    "            backtrack(curr.left, i + 1)\n",
    "\n",
    "    # Backtrack and store the results\n",
    "    backtrack(root)\n",
    "    result: list[int] = []\n",
    "    for k in sorted(ordering.keys()):\n",
    "        result.append(ordering[k])\n",
    "\n",
    "    return result\n",
    "\n",
    "# Testing the solution\n",
    "assert leftSideView(BinaryTreeNode.from_array([1, 2, 3, None, 5, None, 4])) == [1, 2, 5]\n",
    "assert leftSideView(BinaryTreeNode.from_array([1, 2, 3, 4])) == [1, 2, 4]"
   ]
  },
  {
   "cell_type": "code",
   "execution_count": 24,
   "id": "40a6b0a2",
   "metadata": {
    "execution": {
     "iopub.execute_input": "2024-04-09T14:59:34.091423Z",
     "iopub.status.busy": "2024-04-09T14:59:34.090778Z",
     "iopub.status.idle": "2024-04-09T14:59:34.097846Z",
     "shell.execute_reply": "2024-04-09T14:59:34.097075Z"
    },
    "lines_to_next_cell": 1,
    "papermill": {
     "duration": 0.020177,
     "end_time": "2024-04-09T14:59:34.099483",
     "exception": false,
     "start_time": "2024-04-09T14:59:34.079306",
     "status": "completed"
    },
    "tags": []
   },
   "outputs": [],
   "source": [
    "# Better solution from Striver\n",
    "def rightSideViewStriver(root: BinaryTreeNode) -> list[int]:\n",
    "    result: list[int] = []\n",
    "    def backtrack(curr: BinaryTreeNode, level: int = 1):\n",
    "        \"\"\"\n",
    "        Modified preorder traversal - RRL.\n",
    "        We insert to our result only when we are coming the level for the first time.\n",
    "        \"\"\"\n",
    "        nonlocal result\n",
    "        if not curr:\n",
    "            return\n",
    "        else:\n",
    "            if level > len(result):\n",
    "                result.append(curr.val)\n",
    "            backtrack(curr.right, level + 1)\n",
    "            backtrack(curr.left, level + 1)\n",
    "\n",
    "    # Recurse and save the results\n",
    "    backtrack(root)\n",
    "    return result\n",
    "\n",
    "# Testing the solution\n",
    "assert rightSideViewStriver(BinaryTreeNode.from_array([1, 2, 3, None, 5, None, 4])) == [1, 3, 4]\n",
    "assert rightSideViewStriver(BinaryTreeNode.from_array([1, 2, 3, 4])) == [1, 3, 4]"
   ]
  },
  {
   "cell_type": "markdown",
   "id": "3d234569",
   "metadata": {
    "papermill": {
     "duration": 0.010246,
     "end_time": "2024-04-09T14:59:34.120222",
     "exception": false,
     "start_time": "2024-04-09T14:59:34.109976",
     "status": "completed"
    },
    "tags": []
   },
   "source": [
    "Video Link: https://youtu.be/nKggNAiEpBE?si=abzPcl6pKzyFpJ2i\n",
    "Problem Link: https://leetcode.com/problems/symmetric-tree/submissions/1227182868"
   ]
  },
  {
   "cell_type": "code",
   "execution_count": 25,
   "id": "7dae62c7",
   "metadata": {
    "execution": {
     "iopub.execute_input": "2024-04-09T14:59:34.142527Z",
     "iopub.status.busy": "2024-04-09T14:59:34.141819Z",
     "iopub.status.idle": "2024-04-09T14:59:34.151485Z",
     "shell.execute_reply": "2024-04-09T14:59:34.150719Z"
    },
    "papermill": {
     "duration": 0.022859,
     "end_time": "2024-04-09T14:59:34.153313",
     "exception": false,
     "start_time": "2024-04-09T14:59:34.130454",
     "status": "completed"
    },
    "tags": []
   },
   "outputs": [],
   "source": [
    "def isSymmetric(root: BinaryTreeNode) -> bool:\n",
    "    def backtrack(left: BinaryTreeNode, right: BinaryTreeNode) -> bool:\n",
    "        if not left or not right:\n",
    "            return left == right\n",
    "        else:\n",
    "            return left.val == right.val and backtrack(left.left, right.right) and backtrack(left.right, right.left)\n",
    "\n",
    "    def isPalindrome(arr: list[BinaryTreeNode]) -> bool:\n",
    "        N = len(arr)\n",
    "        i, j = 0, N - 1\n",
    "        while i < j:\n",
    "            left, right = arr[i].val if arr[i] else None, arr[j].val if arr[j] else None\n",
    "            i, j = i + 1, j - 1\n",
    "            if left != right:\n",
    "                return False\n",
    "        return True\n",
    "\n",
    "    def iterate() -> bool:\n",
    "        stack: list[BinaryTreeNode] = [root]\n",
    "        while stack:\n",
    "            next_: list[BinaryTreeNode] = []\n",
    "            for curr in stack:\n",
    "                if curr:\n",
    "                    next_.append(curr.left)\n",
    "                    next_.append(curr.right)\n",
    "\n",
    "            if not isPalindrome(next_):\n",
    "                return False\n",
    "            else:\n",
    "                stack = next_\n",
    "        else:\n",
    "            return True\n",
    "\n",
    "    # return backtrack(root.left, root.right)\n",
    "    return iterate()\n",
    "\n",
    "# Testing the solution\n",
    "assert isSymmetric(BinaryTreeNode.from_array([1, 2, 2, None, 3, None, 3])) == False\n",
    "assert isSymmetric(BinaryTreeNode.from_array([1, 2, 2, None, 3, 3, None])) == True"
   ]
  }
 ],
 "metadata": {
  "kernelspec": {
   "display_name": "Python 3 (ipykernel)",
   "language": "python",
   "name": "python3"
  },
  "language_info": {
   "codemirror_mode": {
    "name": "ipython",
    "version": 3
   },
   "file_extension": ".py",
   "mimetype": "text/x-python",
   "name": "python",
   "nbconvert_exporter": "python",
   "pygments_lexer": "ipython3",
   "version": "3.10.14"
  },
  "papermill": {
   "default_parameters": {},
   "duration": 2.411088,
   "end_time": "2024-04-09T14:59:34.280926",
   "environment_variables": {},
   "exception": null,
   "input_path": "study/striver-A2Z/10-trees.ipynb",
   "output_path": "study/striver-A2Z/10-trees.ipynb",
   "parameters": {},
   "start_time": "2024-04-09T14:59:31.869838",
   "version": "2.5.0"
  }
 },
 "nbformat": 4,
 "nbformat_minor": 5
}