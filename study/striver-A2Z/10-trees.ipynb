{
 "cells": [
  {
   "cell_type": "markdown",
   "id": "b29f23a5",
   "metadata": {
    "papermill": {
     "duration": 0.017516,
     "end_time": "2024-04-14T10:25:10.035147",
     "exception": false,
     "start_time": "2024-04-14T10:25:10.017631",
     "status": "completed"
    },
    "tags": []
   },
   "source": [
    "##### Types of binary trees (https://youtu.be/_ANrF3FJm7I?si=DZzUQr9F7dexWewB)\n",
    "1. Full Binary Tree: Each node has 0 or 2 children.\n",
    "2. Complete Binary Tree: All levels are completely filled except the last, which is filled as left as possible.\n",
    "3. Perfect Binary Tree: All leaf nodes are of the same level (all nodes have 2 children except the leaf).\n",
    "4. Balanced Binary Tree: Height of the left and right subtree of any node differ by not more than 1 / Max height of tree is log (no of nodes).\n",
    "5. Degenerate Binary Tree: Every node has a singe children except the leaf node (left skewed or right skewed).\n",
    "\n",
    "##### Binary Tree Traversals (https://youtu.be/jmy0LaGET1I?si=1o8rYIcijmpRxZHq)\n",
    "\n",
    "###### Depth First Search Traversal Techniques\n",
    "Hint 1: Pre - Root first, Post: Root last, In: Root middle <BR>\n",
    "Hint 2: Left, Right order is preserved for all traversals\n",
    "1. In-Order Traversal: Left, Root, Right\n",
    "2. Pre-Order Traversal: Root, Left, Right\n",
    "3. Post-Order Traversal: Left, Right, Root\n",
    "\n",
    "###### Breadth First Search\n",
    "1. Level Order Traversal: All nodes of same level are iterated through before moving to the next level.\n",
    "1. Boundary Traversal: Left boundary (left nodes excluding leaf), Leaf nodes, Right boundary nodes (right nodes excluding leaf).\n",
    "2. Diagnoal Traversal: Nodes of same diagnol are traversed one after another.\n",
    "\n",
    "##### Some properties of Binary Trees\n",
    "- Max nodes at any level: 2 ** (N - 1)\n",
    "Requirements to construct an unique binary tree: We must have the inorder traversal to know what comes to the left and to the right of root."
   ]
  },
  {
   "cell_type": "markdown",
   "id": "3d2598bc",
   "metadata": {
    "papermill": {
     "duration": 0.016413,
     "end_time": "2024-04-14T10:25:10.068226",
     "exception": false,
     "start_time": "2024-04-14T10:25:10.051813",
     "status": "completed"
    },
    "tags": []
   },
   "source": [
    "#### Some useful imports"
   ]
  },
  {
   "cell_type": "code",
   "execution_count": 1,
   "id": "b692ea03",
   "metadata": {
    "execution": {
     "iopub.execute_input": "2024-04-14T10:25:10.102711Z",
     "iopub.status.busy": "2024-04-14T10:25:10.102385Z",
     "iopub.status.idle": "2024-04-14T10:25:10.112717Z",
     "shell.execute_reply": "2024-04-14T10:25:10.112063Z"
    },
    "lines_to_next_cell": 1,
    "papermill": {
     "duration": 0.029812,
     "end_time": "2024-04-14T10:25:10.114469",
     "exception": false,
     "start_time": "2024-04-14T10:25:10.084657",
     "status": "completed"
    },
    "tags": []
   },
   "outputs": [],
   "source": [
    "import math\n",
    "import collections\n",
    "import itertools\n",
    "import bisect\n",
    "import heapq"
   ]
  },
  {
   "cell_type": "markdown",
   "id": "c70ac08c",
   "metadata": {
    "papermill": {
     "duration": 0.016346,
     "end_time": "2024-04-14T10:25:10.147739",
     "exception": false,
     "start_time": "2024-04-14T10:25:10.131393",
     "status": "completed"
    },
    "tags": []
   },
   "source": [
    "#### Helper for Binary tree problems"
   ]
  },
  {
   "cell_type": "code",
   "execution_count": 2,
   "id": "4c5d251b",
   "metadata": {
    "execution": {
     "iopub.execute_input": "2024-04-14T10:25:10.182725Z",
     "iopub.status.busy": "2024-04-14T10:25:10.182163Z",
     "iopub.status.idle": "2024-04-14T10:25:10.192449Z",
     "shell.execute_reply": "2024-04-14T10:25:10.191548Z"
    },
    "lines_to_next_cell": 1,
    "papermill": {
     "duration": 0.029792,
     "end_time": "2024-04-14T10:25:10.194215",
     "exception": false,
     "start_time": "2024-04-14T10:25:10.164423",
     "status": "completed"
    },
    "tags": []
   },
   "outputs": [],
   "source": [
    "class BinaryTreeNode:\n",
    "    def __init__(self, val=0, left=None, right=None):\n",
    "        self.val = val\n",
    "        self.left = left\n",
    "        self.right = right\n",
    "\n",
    "    def to_list(self):\n",
    "        to_visit = [self]\n",
    "        visited = []\n",
    "        while len(to_visit) > 0:\n",
    "            curr = to_visit.pop(0)\n",
    "            if curr:\n",
    "                to_visit.append(curr.left)\n",
    "                to_visit.append(curr.right)\n",
    "                visited.append(curr.val)\n",
    "            else:\n",
    "                visited.append(curr)\n",
    "        return visited\n",
    "\n",
    "    def __str__(self):\n",
    "        return str(self.val)\n",
    "\n",
    "    @staticmethod\n",
    "    def from_array(nums: list[int|None]):\n",
    "        '''Create a Tree from a list of nums. Returns the root node.'''\n",
    "        if len(nums) == 0:\n",
    "            return None\n",
    "        elif len(nums) == 1:\n",
    "            return BinaryTreeNode(nums[0])\n",
    "        else:\n",
    "            forest = [BinaryTreeNode(nums[0])]\n",
    "            parent_idx = -1\n",
    "            for i in range(1, len(nums)):\n",
    "\n",
    "                curr = None\n",
    "                if nums[i] is not None:\n",
    "                    curr = BinaryTreeNode(nums[i])\n",
    "                    forest.append(curr)\n",
    "\n",
    "                if i % 2 == 1:\n",
    "                    parent_idx += 1\n",
    "                    forest[parent_idx].left = curr\n",
    "                else:\n",
    "                    forest[parent_idx].right = curr\n",
    "\n",
    "        return forest[0]"
   ]
  },
  {
   "cell_type": "markdown",
   "id": "b18d099c",
   "metadata": {
    "papermill": {
     "duration": 0.016787,
     "end_time": "2024-04-14T10:25:10.227716",
     "exception": false,
     "start_time": "2024-04-14T10:25:10.210929",
     "status": "completed"
    },
    "tags": []
   },
   "source": [
    "#### Helper for Singly Linked lists"
   ]
  },
  {
   "cell_type": "code",
   "execution_count": 3,
   "id": "f4314d5d",
   "metadata": {
    "execution": {
     "iopub.execute_input": "2024-04-14T10:25:10.262652Z",
     "iopub.status.busy": "2024-04-14T10:25:10.262342Z",
     "iopub.status.idle": "2024-04-14T10:25:10.269522Z",
     "shell.execute_reply": "2024-04-14T10:25:10.268704Z"
    },
    "lines_to_next_cell": 1,
    "papermill": {
     "duration": 0.026925,
     "end_time": "2024-04-14T10:25:10.271252",
     "exception": false,
     "start_time": "2024-04-14T10:25:10.244327",
     "status": "completed"
    },
    "tags": []
   },
   "outputs": [],
   "source": [
    "class ListNode:\n",
    "    def __init__(self, val=0, next=None):\n",
    "        self.val = val\n",
    "        self.next = next\n",
    "\n",
    "    def __str__(self):\n",
    "        return str(self.val)\n",
    "\n",
    "    @staticmethod\n",
    "    def to_singly_linked_list(nums: list[int]):\n",
    "        root = prev = None\n",
    "        for n in nums:\n",
    "            curr = ListNode(n)\n",
    "            # Init once\n",
    "            if not root:\n",
    "                root = curr\n",
    "            if prev:\n",
    "                prev.next = curr\n",
    "            prev = curr\n",
    "\n",
    "        return root\n",
    "\n",
    "    def to_list(self) -> list[int]:\n",
    "        result = []\n",
    "        curr = self\n",
    "        while curr:\n",
    "            result.append(curr.val)\n",
    "            curr = curr.next\n",
    "        return result"
   ]
  },
  {
   "cell_type": "markdown",
   "id": "d43fd3d0",
   "metadata": {
    "papermill": {
     "duration": 0.016681,
     "end_time": "2024-04-14T10:25:10.304636",
     "exception": false,
     "start_time": "2024-04-14T10:25:10.287955",
     "status": "completed"
    },
    "tags": []
   },
   "source": [
    "Inorder, Postorder, Preorder "
   ]
  },
  {
   "cell_type": "code",
   "execution_count": 4,
   "id": "17b6ec0d",
   "metadata": {
    "execution": {
     "iopub.execute_input": "2024-04-14T10:25:10.339321Z",
     "iopub.status.busy": "2024-04-14T10:25:10.338617Z",
     "iopub.status.idle": "2024-04-14T10:25:10.348009Z",
     "shell.execute_reply": "2024-04-14T10:25:10.347318Z"
    },
    "lines_to_next_cell": 1,
    "papermill": {
     "duration": 0.028711,
     "end_time": "2024-04-14T10:25:10.349789",
     "exception": false,
     "start_time": "2024-04-14T10:25:10.321078",
     "status": "completed"
    },
    "tags": []
   },
   "outputs": [],
   "source": [
    "def getTreeTraversal(root: BinaryTreeNode) -> tuple[list[int], list[int], list[int]]:\n",
    "    inorder_: list[int] = []\n",
    "    def inorder(root: BinaryTreeNode) -> None:\n",
    "        if not root:\n",
    "            return\n",
    "        else:\n",
    "            inorder(root.left)\n",
    "            inorder_.append(root.val)\n",
    "            inorder(root.right)\n",
    "\n",
    "    preorder_: list[int] = []\n",
    "    def preorder(root: BinaryTreeNode) -> None:\n",
    "        if not root:\n",
    "            return\n",
    "        else:\n",
    "            preorder_.append(root.val)\n",
    "            preorder(root.left)\n",
    "            preorder(root.right)\n",
    "\n",
    "    postorder_: list[int] = []\n",
    "    def postorder(root: BinaryTreeNode) -> None:\n",
    "        if not root:\n",
    "            return\n",
    "        else:\n",
    "            postorder(root.left)\n",
    "            postorder(root.right)\n",
    "            postorder_.append(root.val)\n",
    "\n",
    "    # Traverse & save the order op to a list, print it\n",
    "    inorder(root)\n",
    "    preorder(root)\n",
    "    postorder(root)\n",
    "    return (preorder_, inorder_, postorder_)\n",
    "    return (inorder_, preorder_, postorder_)\n",
    "\n",
    "# Testing the solution\n",
    "assert getTreeTraversal(BinaryTreeNode.from_array([1, 3, 4, 5, 2, 7, 6])) == ([1, 3, 5, 2, 4, 7, 6], [5, 3, 2, 1, 7, 4, 6], [5, 2, 3, 7, 6, 4, 1])"
   ]
  },
  {
   "cell_type": "markdown",
   "id": "565ebd42",
   "metadata": {
    "papermill": {
     "duration": 0.016236,
     "end_time": "2024-04-14T10:25:10.382820",
     "exception": false,
     "start_time": "2024-04-14T10:25:10.366584",
     "status": "completed"
    },
    "tags": []
   },
   "source": [
    "Level Order Traversal"
   ]
  },
  {
   "cell_type": "code",
   "execution_count": 5,
   "id": "88639bd0",
   "metadata": {
    "execution": {
     "iopub.execute_input": "2024-04-14T10:25:10.417818Z",
     "iopub.status.busy": "2024-04-14T10:25:10.417085Z",
     "iopub.status.idle": "2024-04-14T10:25:10.424991Z",
     "shell.execute_reply": "2024-04-14T10:25:10.424298Z"
    },
    "lines_to_next_cell": 1,
    "papermill": {
     "duration": 0.027438,
     "end_time": "2024-04-14T10:25:10.426711",
     "exception": false,
     "start_time": "2024-04-14T10:25:10.399273",
     "status": "completed"
    },
    "tags": []
   },
   "outputs": [],
   "source": [
    "def levelOrder(root: BinaryTreeNode) -> list[list[int]]:\n",
    "    next_: list[BinaryTreeNode] = [root]\n",
    "    traversed: list[list[int]] = []\n",
    "    while next_:\n",
    "        traversed.append([])\n",
    "        temp: list[BinaryTreeNode] = []\n",
    "        for curr in next_:\n",
    "            if curr:\n",
    "                temp.append(curr.left)\n",
    "                temp.append(curr.right)\n",
    "                traversed[-1].append(curr.val)\n",
    "        if not traversed[-1]:\n",
    "            traversed.pop()\n",
    "        next_ = temp\n",
    "\n",
    "    return traversed\n",
    "\n",
    "# Testing the solution\n",
    "assert levelOrder(BinaryTreeNode.from_array([3,9,20,None,None,15,7])) == [[3], [9, 20], [15, 7]]\n",
    "assert levelOrder(BinaryTreeNode.from_array([1])) == [[1]]"
   ]
  },
  {
   "cell_type": "markdown",
   "id": "d59819aa",
   "metadata": {
    "papermill": {
     "duration": 0.016655,
     "end_time": "2024-04-14T10:25:10.460066",
     "exception": false,
     "start_time": "2024-04-14T10:25:10.443411",
     "status": "completed"
    },
    "tags": []
   },
   "source": [
    "Video Link: https://www.youtube.com/watch?v=Bfqd8BsPVuw&list=PLgUwDviBIf0oF6QL8m22w1hIDC1vJ_BHz&index=81\n",
    "Iterative Preorder traversal"
   ]
  },
  {
   "cell_type": "code",
   "execution_count": 6,
   "id": "6021695b",
   "metadata": {
    "execution": {
     "iopub.execute_input": "2024-04-14T10:25:10.494712Z",
     "iopub.status.busy": "2024-04-14T10:25:10.493941Z",
     "iopub.status.idle": "2024-04-14T10:25:10.501339Z",
     "shell.execute_reply": "2024-04-14T10:25:10.500672Z"
    },
    "lines_to_next_cell": 1,
    "papermill": {
     "duration": 0.026574,
     "end_time": "2024-04-14T10:25:10.503065",
     "exception": false,
     "start_time": "2024-04-14T10:25:10.476491",
     "status": "completed"
    },
    "tags": []
   },
   "outputs": [],
   "source": [
    "def preorderIter(root: BinaryTreeNode) -> list[int]:\n",
    "    \"\"\"\n",
    "    Root, Left, Right. The idea is the push right first and then the left,\n",
    "    since stack only works when we are popping -1 at each step.\n",
    "\n",
    "    Time: O(N), Space: O(Height of Binary Tree)\n",
    "    \"\"\"\n",
    "    result: list[int] = []\n",
    "    stack: list[BinaryTreeNode] = [root]\n",
    "    while stack:\n",
    "        curr = stack.pop()\n",
    "        if curr:\n",
    "           result.append(curr.val)\n",
    "           stack.append(curr.right)\n",
    "           stack.append(curr.left)\n",
    "\n",
    "    return result\n",
    "\n",
    "# Testing the solution\n",
    "assert preorderIter(BinaryTreeNode.from_array([1, None, 2, 3])) == [1, 2, 3]\n",
    "assert preorderIter(BinaryTreeNode.from_array([1, 2, 7, 3, 4, None, None, None, None, 5, 6])) == [1, 2, 3, 4, 5, 6, 7]"
   ]
  },
  {
   "cell_type": "markdown",
   "id": "3a949dc1",
   "metadata": {
    "papermill": {
     "duration": 0.016796,
     "end_time": "2024-04-14T10:25:10.536869",
     "exception": false,
     "start_time": "2024-04-14T10:25:10.520073",
     "status": "completed"
    },
    "tags": []
   },
   "source": [
    "Video Link: https://www.youtube.com/watch?v=lxTGsVXjwvM&list=PLgUwDviBIf0oF6QL8m22w1hIDC1vJ_BHz&index=82\n",
    "Iterative Inorder traversal"
   ]
  },
  {
   "cell_type": "code",
   "execution_count": 7,
   "id": "f322e25b",
   "metadata": {
    "execution": {
     "iopub.execute_input": "2024-04-14T10:25:10.571889Z",
     "iopub.status.busy": "2024-04-14T10:25:10.571173Z",
     "iopub.status.idle": "2024-04-14T10:25:10.577935Z",
     "shell.execute_reply": "2024-04-14T10:25:10.577196Z"
    },
    "lines_to_next_cell": 1,
    "papermill": {
     "duration": 0.026188,
     "end_time": "2024-04-14T10:25:10.579641",
     "exception": false,
     "start_time": "2024-04-14T10:25:10.553453",
     "status": "completed"
    },
    "tags": []
   },
   "outputs": [],
   "source": [
    "def inorderIter(root: BinaryTreeNode) -> list[int]:\n",
    "    \"\"\"\n",
    "    Left, Root, Right.\n",
    "\n",
    "    If curr is not null, move to its left and append curr to the stack.\n",
    "    Else pop the last item from stack, print it and move to right of the popped element.\n",
    "    \"\"\"\n",
    "    result: list[int] = []\n",
    "    stack: list[BinaryTreeNode] = []\n",
    "    curr = root\n",
    "    while True:\n",
    "        if curr:\n",
    "            stack.append(curr)\n",
    "            curr = curr.left\n",
    "        else:\n",
    "            if stack:\n",
    "                curr = stack.pop()\n",
    "                result.append(curr.val)\n",
    "                curr = curr.right\n",
    "            else:\n",
    "                break\n",
    "\n",
    "    return result\n",
    "\n",
    "# Testing the solution\n",
    "assert inorderIter(BinaryTreeNode.from_array([1, None, 2, 3])) == [1, 3 ,2]"
   ]
  },
  {
   "cell_type": "markdown",
   "id": "bc03474b",
   "metadata": {
    "papermill": {
     "duration": 0.016588,
     "end_time": "2024-04-14T10:25:10.612976",
     "exception": false,
     "start_time": "2024-04-14T10:25:10.596388",
     "status": "completed"
    },
    "tags": []
   },
   "source": [
    "Video Link: https://www.youtube.com/watch?v=2YBhNLodD8Q&list=PLgUwDviBIf0oF6QL8m22w1hIDC1vJ_BHz&index=83\n",
    "Iterative post order traversal"
   ]
  },
  {
   "cell_type": "code",
   "execution_count": 8,
   "id": "a728f1cf",
   "metadata": {
    "execution": {
     "iopub.execute_input": "2024-04-14T10:25:10.648547Z",
     "iopub.status.busy": "2024-04-14T10:25:10.647842Z",
     "iopub.status.idle": "2024-04-14T10:25:10.654525Z",
     "shell.execute_reply": "2024-04-14T10:25:10.653811Z"
    },
    "lines_to_next_cell": 1,
    "papermill": {
     "duration": 0.026375,
     "end_time": "2024-04-14T10:25:10.656215",
     "exception": false,
     "start_time": "2024-04-14T10:25:10.629840",
     "status": "completed"
    },
    "tags": []
   },
   "outputs": [],
   "source": [
    "def postorderIter(root: BinaryTreeNode) -> list[int]:\n",
    "    \"\"\"\n",
    "    Left, Right, Root.\n",
    "\n",
    "    Go root, right, left similar to how we do preorder and reverse the result.\n",
    "    \"\"\"\n",
    "    stack1: list[BinaryTreeNode] = [root]\n",
    "    stack2: list[int] = []\n",
    "    while stack1:\n",
    "        curr = stack1.pop()\n",
    "        if curr:\n",
    "            stack2.append(curr.val)\n",
    "            stack1.append(curr.left)\n",
    "            stack1.append(curr.right)\n",
    "\n",
    "    stack2.reverse()\n",
    "    return stack2\n",
    "\n",
    "# Testing the solution\n",
    "assert postorderIter(BinaryTreeNode.from_array([1, 2, 3, 4, 5, 6, None, None, None, None, None, None, 7])) == [4, 5, 2, 7, 6, 3, 1]"
   ]
  },
  {
   "cell_type": "markdown",
   "id": "c2506b05",
   "metadata": {
    "papermill": {
     "duration": 0.016527,
     "end_time": "2024-04-14T10:25:10.689434",
     "exception": false,
     "start_time": "2024-04-14T10:25:10.672907",
     "status": "completed"
    },
    "tags": []
   },
   "source": [
    "Video Link: https://www.youtube.com/watch?v=NzIGLLwZBS8&list=PLgUwDviBIf0oF6QL8m22w1hIDC1vJ_BHz&index=84\n",
    "Iterative post order traversal using single stack\n",
    "From striver: \"This topic is bit tricky, so try to dry run some trees. Its kinda algorithm that you need to remember. Cannot help\""
   ]
  },
  {
   "cell_type": "code",
   "execution_count": 9,
   "id": "b8f98a3a",
   "metadata": {
    "execution": {
     "iopub.execute_input": "2024-04-14T10:25:10.724664Z",
     "iopub.status.busy": "2024-04-14T10:25:10.723947Z",
     "iopub.status.idle": "2024-04-14T10:25:10.736559Z",
     "shell.execute_reply": "2024-04-14T10:25:10.735816Z"
    },
    "lines_to_next_cell": 1,
    "papermill": {
     "duration": 0.032168,
     "end_time": "2024-04-14T10:25:10.738230",
     "exception": false,
     "start_time": "2024-04-14T10:25:10.706062",
     "status": "completed"
    },
    "tags": []
   },
   "outputs": [
    {
     "data": {
      "text/plain": [
       "[6, 5, 4, 3, 2, 8, 7, 1]"
      ]
     },
     "execution_count": 9,
     "metadata": {},
     "output_type": "execute_result"
    }
   ],
   "source": [
    "def postorderIter_single_stack(root: BinaryTreeNode) -> list[int]:\n",
    "    \"Time: O(2N), Space: O(N)\"\n",
    "    result: list[int] = []\n",
    "    stack: list[BinaryTreeNode] = []\n",
    "    curr = root\n",
    "    while curr or stack:\n",
    "        if curr:\n",
    "            stack.append(curr)\n",
    "            curr = curr.left\n",
    "        else:\n",
    "            temp = stack[-1].right\n",
    "            if not temp:\n",
    "                temp = stack.pop()\n",
    "                result.append(temp.val)\n",
    "                while stack and temp == stack[-1].right:\n",
    "                    temp = stack.pop()\n",
    "                    result.append(temp.val)\n",
    "            else:\n",
    "                curr = temp\n",
    "\n",
    "    return result\n",
    "\n",
    "# Testing the solution\n",
    "postorderIter_single_stack(BinaryTreeNode.from_array([1, 2, 7, 3, None, 8, None, None, 4, None, None, None, 5, None, 6]))"
   ]
  },
  {
   "cell_type": "markdown",
   "id": "cd401b3e",
   "metadata": {
    "papermill": {
     "duration": 0.01653,
     "end_time": "2024-04-14T10:25:10.771651",
     "exception": false,
     "start_time": "2024-04-14T10:25:10.755121",
     "status": "completed"
    },
    "tags": []
   },
   "source": [
    "Video Link: https://youtu.be/ySp2epYvgTE?si=TItCZRCbbFnyQlyi\n",
    "Post Order, In Order, Pre Order Traversal in one iteration"
   ]
  },
  {
   "cell_type": "code",
   "execution_count": 10,
   "id": "ac069236",
   "metadata": {
    "execution": {
     "iopub.execute_input": "2024-04-14T10:25:10.806474Z",
     "iopub.status.busy": "2024-04-14T10:25:10.805807Z",
     "iopub.status.idle": "2024-04-14T10:25:10.814170Z",
     "shell.execute_reply": "2024-04-14T10:25:10.813448Z"
    },
    "lines_to_next_cell": 1,
    "papermill": {
     "duration": 0.027823,
     "end_time": "2024-04-14T10:25:10.815895",
     "exception": false,
     "start_time": "2024-04-14T10:25:10.788072",
     "status": "completed"
    },
    "tags": []
   },
   "outputs": [],
   "source": [
    "def getTreeTraversal_single_traversal(root: BinaryTreeNode) -> tuple[list[int], list[int], list[int]]:\n",
    "    \"Time: O(3N), Space: O(1)\"\n",
    "\n",
    "    preorder: list[int] = []\n",
    "    inorder: list[int] = []\n",
    "    postorder: list[int] = []\n",
    "\n",
    "    stack: list[tuple[BinaryTreeNode, int]] = [(root, 1)]\n",
    "    while stack:\n",
    "        curr, op = stack.pop()\n",
    "        if curr and op == 1:\n",
    "            preorder.append(curr.val)\n",
    "            stack.append((curr, op + 1))\n",
    "            stack.append((curr.left, 1))\n",
    "        elif curr and op == 2:\n",
    "            inorder.append(curr.val)\n",
    "            stack.append((curr, op + 1))\n",
    "            stack.append((curr.right, 1))\n",
    "        else:\n",
    "            if curr:\n",
    "                postorder.append(curr.val)\n",
    "\n",
    "    return preorder, inorder, postorder\n",
    "\n",
    "# Testing the solution\n",
    "temp = BinaryTreeNode.from_array([1, 3, 4, 5, 2, 7, 6])\n",
    "assert getTreeTraversal(temp) == getTreeTraversal_single_traversal(temp)"
   ]
  },
  {
   "cell_type": "markdown",
   "id": "5689f6ec",
   "metadata": {
    "papermill": {
     "duration": 0.016666,
     "end_time": "2024-04-14T10:25:10.849524",
     "exception": false,
     "start_time": "2024-04-14T10:25:10.832858",
     "status": "completed"
    },
    "tags": []
   },
   "source": [
    "Maximum Depth of a Binary Tree: https://www.youtube.com/watch?v=eD3tmO66aBA&list=PLgUwDviBIf0oF6QL8m22w1hIDC1vJ_BHz&index=86"
   ]
  },
  {
   "cell_type": "code",
   "execution_count": 11,
   "id": "77506355",
   "metadata": {
    "execution": {
     "iopub.execute_input": "2024-04-14T10:25:10.884803Z",
     "iopub.status.busy": "2024-04-14T10:25:10.884170Z",
     "iopub.status.idle": "2024-04-14T10:25:10.890552Z",
     "shell.execute_reply": "2024-04-14T10:25:10.889842Z"
    },
    "lines_to_next_cell": 1,
    "papermill": {
     "duration": 0.026144,
     "end_time": "2024-04-14T10:25:10.892271",
     "exception": false,
     "start_time": "2024-04-14T10:25:10.866127",
     "status": "completed"
    },
    "tags": []
   },
   "outputs": [],
   "source": [
    "# Level Order Traversal\n",
    "def maxDepthIter(root: BinaryTreeNode) -> int:\n",
    "    \"Time: O(N), Space: O(N)\"\n",
    "\n",
    "    to_traverse: list[BinaryTreeNode] = [root]\n",
    "    height = 0\n",
    "    while to_traverse:\n",
    "        height += 1\n",
    "        next_: list[BinaryTreeNode] = []\n",
    "        for node in to_traverse:\n",
    "            if node:\n",
    "                next_.append(node.left)\n",
    "                next_.append(node.right)\n",
    "        to_traverse = next_\n",
    "\n",
    "    return height - 1\n",
    "\n",
    "# Testing the solution\n",
    "assert maxDepthIter(BinaryTreeNode.from_array([3,9,20,None,None,15,7])) == 3"
   ]
  },
  {
   "cell_type": "code",
   "execution_count": 12,
   "id": "ad1799a0",
   "metadata": {
    "execution": {
     "iopub.execute_input": "2024-04-14T10:25:10.927465Z",
     "iopub.status.busy": "2024-04-14T10:25:10.926781Z",
     "iopub.status.idle": "2024-04-14T10:25:10.933044Z",
     "shell.execute_reply": "2024-04-14T10:25:10.932234Z"
    },
    "lines_to_next_cell": 1,
    "papermill": {
     "duration": 0.025811,
     "end_time": "2024-04-14T10:25:10.934740",
     "exception": false,
     "start_time": "2024-04-14T10:25:10.908929",
     "status": "completed"
    },
    "tags": []
   },
   "outputs": [],
   "source": [
    "def maxDepthRecursive(root: BinaryTreeNode) -> int:\n",
    "\n",
    "    max_: int = 0\n",
    "    def backtrack(curr: BinaryTreeNode, height: int = 0):\n",
    "        nonlocal max_\n",
    "        if not curr:\n",
    "            max_ = max(max_, height)\n",
    "            return\n",
    "        else:\n",
    "            backtrack(curr.left, height + 1)\n",
    "            backtrack(curr.right, height + 1)\n",
    "\n",
    "    backtrack(root)\n",
    "    return max_\n",
    "\n",
    "# Testing the solution\n",
    "assert maxDepthRecursive(BinaryTreeNode.from_array([3,9,20,None,None,15,7])) == 3"
   ]
  },
  {
   "cell_type": "code",
   "execution_count": 13,
   "id": "593ac16d",
   "metadata": {
    "execution": {
     "iopub.execute_input": "2024-04-14T10:25:10.970523Z",
     "iopub.status.busy": "2024-04-14T10:25:10.969737Z",
     "iopub.status.idle": "2024-04-14T10:25:10.975177Z",
     "shell.execute_reply": "2024-04-14T10:25:10.974528Z"
    },
    "lines_to_next_cell": 1,
    "papermill": {
     "duration": 0.025031,
     "end_time": "2024-04-14T10:25:10.976860",
     "exception": false,
     "start_time": "2024-04-14T10:25:10.951829",
     "status": "completed"
    },
    "tags": []
   },
   "outputs": [],
   "source": [
    "def maxDepthStriver(root: BinaryTreeNode) -> int:\n",
    "    if not root:\n",
    "        return 0\n",
    "    else:\n",
    "        left = maxDepthStriver(root.left)\n",
    "        right = maxDepthStriver(root.right)\n",
    "        return 1 + max(left, right)\n",
    "\n",
    "# Testing the solution\n",
    "assert maxDepthStriver(BinaryTreeNode.from_array([3,9,20,None,None,15,7])) == 3"
   ]
  },
  {
   "cell_type": "markdown",
   "id": "83812466",
   "metadata": {
    "papermill": {
     "duration": 0.016695,
     "end_time": "2024-04-14T10:25:11.010708",
     "exception": false,
     "start_time": "2024-04-14T10:25:10.994013",
     "status": "completed"
    },
    "tags": []
   },
   "source": [
    "Check for balanced Binary Tree: https://youtu.be/Yt50Jfbd8Po?si=pqjd9p-_S-9vRrmG"
   ]
  },
  {
   "cell_type": "code",
   "execution_count": 14,
   "id": "fc21bd9b",
   "metadata": {
    "execution": {
     "iopub.execute_input": "2024-04-14T10:25:11.046066Z",
     "iopub.status.busy": "2024-04-14T10:25:11.045323Z",
     "iopub.status.idle": "2024-04-14T10:25:11.052150Z",
     "shell.execute_reply": "2024-04-14T10:25:11.051333Z"
    },
    "lines_to_next_cell": 1,
    "papermill": {
     "duration": 0.026418,
     "end_time": "2024-04-14T10:25:11.053856",
     "exception": false,
     "start_time": "2024-04-14T10:25:11.027438",
     "status": "completed"
    },
    "tags": []
   },
   "outputs": [],
   "source": [
    "def isBalanced(root: BinaryTreeNode) -> bool:\n",
    "    def checkHeight(curr: BinaryTreeNode) -> int:\n",
    "        if not curr:\n",
    "            return 0\n",
    "        else:\n",
    "            left = checkHeight(curr.left)\n",
    "            if left == -1:\n",
    "                return -1\n",
    "            right = checkHeight(curr.right)\n",
    "            if right == -1:\n",
    "                return -1\n",
    "            if abs(left - right) > 1:\n",
    "                return -1\n",
    "            else:\n",
    "                return 1 + max(left, right)\n",
    "\n",
    "    return checkHeight(root) != -1\n",
    "\n",
    "# Testing the solution\n",
    "assert isBalanced(BinaryTreeNode.from_array([1,2,2,3,3,None,None,4,4])) == False"
   ]
  },
  {
   "cell_type": "markdown",
   "id": "77ff8f23",
   "metadata": {
    "papermill": {
     "duration": 0.038817,
     "end_time": "2024-04-14T10:25:11.109527",
     "exception": false,
     "start_time": "2024-04-14T10:25:11.070710",
     "status": "completed"
    },
    "tags": []
   },
   "source": [
    "Diameter of Binary Tree: https://youtu.be/Rezetez59Nk?si=9WeCIb_ik5elrVZm"
   ]
  },
  {
   "cell_type": "code",
   "execution_count": 15,
   "id": "ce78d08b",
   "metadata": {
    "execution": {
     "iopub.execute_input": "2024-04-14T10:25:11.145167Z",
     "iopub.status.busy": "2024-04-14T10:25:11.144528Z",
     "iopub.status.idle": "2024-04-14T10:25:11.152476Z",
     "shell.execute_reply": "2024-04-14T10:25:11.151666Z"
    },
    "lines_to_next_cell": 1,
    "papermill": {
     "duration": 0.027792,
     "end_time": "2024-04-14T10:25:11.154217",
     "exception": false,
     "start_time": "2024-04-14T10:25:11.126425",
     "status": "completed"
    },
    "tags": []
   },
   "outputs": [
    {
     "data": {
      "text/plain": [
       "3"
      ]
     },
     "execution_count": 15,
     "metadata": {},
     "output_type": "execute_result"
    }
   ],
   "source": [
    "def diameterOfBinaryTree(root: BinaryTreeNode) -> int:\n",
    "\n",
    "    diameter: int = 0\n",
    "    def checkHeight(curr: BinaryTreeNode) -> int:\n",
    "        nonlocal diameter\n",
    "        if not curr:\n",
    "            return 0\n",
    "        else:\n",
    "            left = checkHeight(curr.left)\n",
    "            right = checkHeight(curr.right)\n",
    "            diameter = max(diameter, left + right)\n",
    "            return 1 + max(left, right)\n",
    "\n",
    "    checkHeight(root)\n",
    "    return diameter\n",
    "\n",
    "# Testing the solution\n",
    "diameterOfBinaryTree(BinaryTreeNode.from_array([1,2,3,4,5]))"
   ]
  },
  {
   "cell_type": "markdown",
   "id": "089181e0",
   "metadata": {
    "papermill": {
     "duration": 0.016738,
     "end_time": "2024-04-14T10:25:11.187972",
     "exception": false,
     "start_time": "2024-04-14T10:25:11.171234",
     "status": "completed"
    },
    "tags": []
   },
   "source": [
    "Video Link: https://youtu.be/WszrfSwMz58?si=daE6TYubT_j5MKuT\n",
    "Maximum Path Sum: https://leetcode.com/problems/binary-tree-maximum-path-sum/submissions/1224438073"
   ]
  },
  {
   "cell_type": "code",
   "execution_count": 16,
   "id": "4192b725",
   "metadata": {
    "execution": {
     "iopub.execute_input": "2024-04-14T10:25:11.223367Z",
     "iopub.status.busy": "2024-04-14T10:25:11.222717Z",
     "iopub.status.idle": "2024-04-14T10:25:11.230369Z",
     "shell.execute_reply": "2024-04-14T10:25:11.229591Z"
    },
    "lines_to_next_cell": 1,
    "papermill": {
     "duration": 0.027326,
     "end_time": "2024-04-14T10:25:11.232114",
     "exception": false,
     "start_time": "2024-04-14T10:25:11.204788",
     "status": "completed"
    },
    "tags": []
   },
   "outputs": [],
   "source": [
    "def maxPathSum(root: BinaryTreeNode) -> float:\n",
    "    max_sum: float = -math.inf\n",
    "    def backtrack(curr: BinaryTreeNode) -> float:\n",
    "        nonlocal max_sum\n",
    "        if not curr:\n",
    "            return 0\n",
    "        else:\n",
    "            left = max(0, backtrack(curr.left))\n",
    "            right = max(0, backtrack(curr.right))\n",
    "            max_sum = max(max_sum, left + right + curr.val)\n",
    "            return curr.val + max(left, right)\n",
    "\n",
    "    backtrack(root)\n",
    "    return max_sum\n",
    "\n",
    "# Testing the solution\n",
    "assert maxPathSum(BinaryTreeNode.from_array([-10,9,20,None,None,15,7])) == 42\n",
    "assert maxPathSum(BinaryTreeNode.from_array([1, -2, 3])) == 4\n",
    "assert maxPathSum(BinaryTreeNode.from_array([9,6,-3,None,None,-6,2,None,None,2,None,-6,-6,-6])) == 16"
   ]
  },
  {
   "cell_type": "markdown",
   "id": "0bdad953",
   "metadata": {
    "papermill": {
     "duration": 0.016985,
     "end_time": "2024-04-14T10:25:11.266184",
     "exception": false,
     "start_time": "2024-04-14T10:25:11.249199",
     "status": "completed"
    },
    "tags": []
   },
   "source": [
    "Check if two trees are identical or not\n",
    "Video Link: https://youtu.be/BhuvF_-PWS0?si=C1iPAcpAICZHWRSr"
   ]
  },
  {
   "cell_type": "code",
   "execution_count": 17,
   "id": "7a2627c8",
   "metadata": {
    "execution": {
     "iopub.execute_input": "2024-04-14T10:25:11.301905Z",
     "iopub.status.busy": "2024-04-14T10:25:11.301121Z",
     "iopub.status.idle": "2024-04-14T10:25:11.308215Z",
     "shell.execute_reply": "2024-04-14T10:25:11.307408Z"
    },
    "lines_to_next_cell": 1,
    "papermill": {
     "duration": 0.02692,
     "end_time": "2024-04-14T10:25:11.309914",
     "exception": false,
     "start_time": "2024-04-14T10:25:11.282994",
     "status": "completed"
    },
    "tags": []
   },
   "outputs": [],
   "source": [
    "def isSameTree(p: BinaryTreeNode, q: BinaryTreeNode) -> bool:\n",
    "    def backtrack(curr1: BinaryTreeNode, curr2: BinaryTreeNode) -> bool:\n",
    "        if not curr1 or not curr2:\n",
    "            return curr1 == curr2\n",
    "        else:\n",
    "            return curr1.val == curr2.val and backtrack(curr1.left, curr2.left) and backtrack(curr1.right, curr2.right)\n",
    "\n",
    "    return backtrack(p, q)\n",
    "\n",
    "# Testing the solution\n",
    "assert isSameTree(BinaryTreeNode.from_array([1, 2, 3]), BinaryTreeNode.from_array([1, 2, 3])) == True\n",
    "assert isSameTree(BinaryTreeNode.from_array([1, 2]), BinaryTreeNode.from_array([1, None, 2])) == False"
   ]
  },
  {
   "cell_type": "markdown",
   "id": "6f64cc1b",
   "metadata": {
    "papermill": {
     "duration": 0.016727,
     "end_time": "2024-04-14T10:25:11.343663",
     "exception": false,
     "start_time": "2024-04-14T10:25:11.326936",
     "status": "completed"
    },
    "tags": []
   },
   "source": [
    "Video Link: https://youtu.be/3OXWEdlIGl4?si=prGw3PDHdgEpFJgj\n",
    "Zig Zag / Spiral Traversal in a Binary Tree"
   ]
  },
  {
   "cell_type": "code",
   "execution_count": 18,
   "id": "220a0708",
   "metadata": {
    "execution": {
     "iopub.execute_input": "2024-04-14T10:25:11.379352Z",
     "iopub.status.busy": "2024-04-14T10:25:11.378656Z",
     "iopub.status.idle": "2024-04-14T10:25:11.387479Z",
     "shell.execute_reply": "2024-04-14T10:25:11.386797Z"
    },
    "lines_to_next_cell": 1,
    "papermill": {
     "duration": 0.028589,
     "end_time": "2024-04-14T10:25:11.389203",
     "exception": false,
     "start_time": "2024-04-14T10:25:11.360614",
     "status": "completed"
    },
    "tags": []
   },
   "outputs": [],
   "source": [
    "# Leetcode Medium: https://leetcode.com/problems/binary-tree-zigzag-level-order-traversal/submissions/1225227141\n",
    "def zigzagLevelOrder(root: BinaryTreeNode) -> list[list[int]]:\n",
    "    \"\"\"\n",
    "    Perform a level order traversal, store the results into a deque.\n",
    "    Based on level#, traverse from left node to right or vice versa.\n",
    "    \"\"\"\n",
    "    to_visit: list[BinaryTreeNode] = [root]\n",
    "    result: list[list[int]] = []\n",
    "    level = 1\n",
    "    while to_visit:\n",
    "        next_: list[BinaryTreeNode] = []\n",
    "        result.append([])\n",
    "        for curr in to_visit:\n",
    "            if curr:\n",
    "                result[-1].append(curr.val)\n",
    "                next_.append(curr.left)\n",
    "                next_.append(curr.right)\n",
    "\n",
    "        if not result[-1]:\n",
    "            result.pop()\n",
    "        elif level % 2 == 0:\n",
    "            result[-1].reverse()\n",
    "\n",
    "        to_visit = next_\n",
    "        level += 1\n",
    "\n",
    "    return result\n",
    "\n",
    "# Testing the solution\n",
    "assert zigzagLevelOrder(BinaryTreeNode.from_array([3,9,20,None,None,15,7])) == [[3],[20,9],[15,7]]\n",
    "assert zigzagLevelOrder(BinaryTreeNode.from_array([1,2,3,4,None,None,5])) == [[1],[3,2],[4,5]]"
   ]
  },
  {
   "cell_type": "markdown",
   "id": "83e73a04",
   "metadata": {
    "papermill": {
     "duration": 0.016671,
     "end_time": "2024-04-14T10:25:11.422942",
     "exception": false,
     "start_time": "2024-04-14T10:25:11.406271",
     "status": "completed"
    },
    "tags": []
   },
   "source": [
    "Video Link: https://youtu.be/0ca1nvR0be4?si=Er0-Y8gxhnKlWt6-\n",
    "Boundary Traversal in a Binary Tree"
   ]
  },
  {
   "cell_type": "code",
   "execution_count": 19,
   "id": "3e63f2c1",
   "metadata": {
    "execution": {
     "iopub.execute_input": "2024-04-14T10:25:11.458321Z",
     "iopub.status.busy": "2024-04-14T10:25:11.457636Z",
     "iopub.status.idle": "2024-04-14T10:25:11.467545Z",
     "shell.execute_reply": "2024-04-14T10:25:11.466891Z"
    },
    "lines_to_next_cell": 1,
    "papermill": {
     "duration": 0.029578,
     "end_time": "2024-04-14T10:25:11.469271",
     "exception": false,
     "start_time": "2024-04-14T10:25:11.439693",
     "status": "completed"
    },
    "tags": []
   },
   "outputs": [],
   "source": [
    "def traverseBoundary(root: BinaryTreeNode) -> list[int]:\n",
    "    \"\"\"\n",
    "    Left boundary excluding leaves, Leaf nodes, Right Boundary excluding leaves\n",
    "    \"\"\"\n",
    "\n",
    "    left: list[int] = []\n",
    "    curr = root.left\n",
    "    while curr and (curr.left or curr.right):\n",
    "        left.append(curr.val)\n",
    "        curr = curr.left if curr.left else curr.right\n",
    "\n",
    "    boundary: list[int] = []\n",
    "    def getLeaves(curr: BinaryTreeNode):\n",
    "        nonlocal boundary\n",
    "        if not curr:\n",
    "            return\n",
    "        else:\n",
    "            if not curr.left and not curr.right:\n",
    "                boundary.append(curr.val)\n",
    "            getLeaves(curr.left)\n",
    "            getLeaves(curr.right)\n",
    "\n",
    "    right: list[int] = []\n",
    "    curr = root.right\n",
    "    while curr and (curr.left or curr.right):\n",
    "        right.append(curr.val)\n",
    "        curr = curr.right if curr.right else curr.left\n",
    "    right.reverse()\n",
    "\n",
    "    getLeaves(root)\n",
    "    return [root.val] + left + boundary + right\n",
    "\n",
    "# Testing the solution\n",
    "assert traverseBoundary(BinaryTreeNode.from_array([10, 5, 20, 3, 8, 18, 25, None, None, 7, None, None, None, None, None, None, None])) == [10, 5, 3, 7, 18, 25, 20]\n",
    "assert traverseBoundary(BinaryTreeNode.from_array([100, 50, 150, 25, 75, 140, 200, None, 30, 70, 80, None, None, None, None, None, 35, None, None, None, None, None, None])) == [100, 50, 25, 30, 35, 70, 80, 140, 200, 150]"
   ]
  },
  {
   "cell_type": "markdown",
   "id": "48a971f2",
   "metadata": {
    "papermill": {
     "duration": 0.017086,
     "end_time": "2024-04-14T10:25:11.503663",
     "exception": false,
     "start_time": "2024-04-14T10:25:11.486577",
     "status": "completed"
    },
    "tags": []
   },
   "source": [
    "Video Link: https://youtu.be/q_a6lpbKJdw?si=d1p9utIGRbbi7q84\n",
    "Vertial order traversal of Binary Tree"
   ]
  },
  {
   "cell_type": "code",
   "execution_count": 20,
   "id": "584c0df0",
   "metadata": {
    "execution": {
     "iopub.execute_input": "2024-04-14T10:25:11.540073Z",
     "iopub.status.busy": "2024-04-14T10:25:11.539301Z",
     "iopub.status.idle": "2024-04-14T10:25:11.549636Z",
     "shell.execute_reply": "2024-04-14T10:25:11.548957Z"
    },
    "lines_to_next_cell": 1,
    "papermill": {
     "duration": 0.030531,
     "end_time": "2024-04-14T10:25:11.551403",
     "exception": false,
     "start_time": "2024-04-14T10:25:11.520872",
     "status": "completed"
    },
    "tags": []
   },
   "outputs": [],
   "source": [
    "# Problem Link: https://leetcode.com/problems/vertical-order-traversal-of-a-binary-tree/submissions/1226266467\n",
    "def verticalTraversal(root: BinaryTreeNode) -> list[list[int]]:\n",
    "    \"\"\"\n",
    "    Time: O(N log N), Space: O(N)\n",
    "    \"\"\"\n",
    "\n",
    "    # Time: O(N)\n",
    "    ordering: list[tuple[int, int, int]] = []\n",
    "    def backtrack(curr: BinaryTreeNode, i: int, j: int):\n",
    "        nonlocal ordering\n",
    "        if not curr:\n",
    "            return\n",
    "        else:\n",
    "            ordering.append((curr.val, i, j))\n",
    "            backtrack(curr.left, i + 1, j - 1)\n",
    "            backtrack(curr.right, i + 1, j + 1)\n",
    "\n",
    "    # Time: O(N log N)\n",
    "    backtrack(root, 0, 0)\n",
    "    ordering.sort(key=lambda x: (x[2], x[1], x[0]))\n",
    "\n",
    "    # Time: O(N)\n",
    "    result: list[list[int]] = []\n",
    "    prev = ordering[0][2] - 1\n",
    "    for k, i, j in ordering:\n",
    "        if j != prev:\n",
    "            result.append([])\n",
    "            prev = j\n",
    "        result[-1].append(k)\n",
    "\n",
    "    return result\n",
    "\n",
    "# Testing the solution\n",
    "assert verticalTraversal(BinaryTreeNode.from_array([3,9,20,None,None,15,7])) == [[9], [3, 15], [20], [7]]\n",
    "assert verticalTraversal(BinaryTreeNode.from_array([1, 2, 3, 4, 5, 6, 7])) == [[4], [2], [1,5,6], [3], [7]]\n",
    "assert verticalTraversal(BinaryTreeNode.from_array([1, 2, 3, 4, 6, 5, 7])) == [[4], [2], [1, 5, 6], [3], [7]]"
   ]
  },
  {
   "cell_type": "markdown",
   "id": "5a99a217",
   "metadata": {
    "papermill": {
     "duration": 0.017051,
     "end_time": "2024-04-14T10:25:11.585635",
     "exception": false,
     "start_time": "2024-04-14T10:25:11.568584",
     "status": "completed"
    },
    "tags": []
   },
   "source": [
    "Video Link: https://youtu.be/Et9OCDNvJ78?si=JB9v3iN8uhAELNkl\n",
    "Top view of a Binary Tree"
   ]
  },
  {
   "cell_type": "code",
   "execution_count": 21,
   "id": "fbf1035d",
   "metadata": {
    "execution": {
     "iopub.execute_input": "2024-04-14T10:25:11.621578Z",
     "iopub.status.busy": "2024-04-14T10:25:11.621191Z",
     "iopub.status.idle": "2024-04-14T10:25:11.630885Z",
     "shell.execute_reply": "2024-04-14T10:25:11.630102Z"
    },
    "lines_to_next_cell": 1,
    "papermill": {
     "duration": 0.029811,
     "end_time": "2024-04-14T10:25:11.632817",
     "exception": false,
     "start_time": "2024-04-14T10:25:11.603006",
     "status": "completed"
    },
    "tags": []
   },
   "outputs": [],
   "source": [
    "def topViewBinaryTree(root: BinaryTreeNode) -> list[int]:\n",
    "    topView: dict[int, int] = dict()\n",
    "\n",
    "    # Level Order Traversal\n",
    "    stack: list[tuple[BinaryTreeNode, int]] = [(root, 0)]\n",
    "    while stack:\n",
    "        next_: list[tuple[BinaryTreeNode, int]] = []\n",
    "        for curr, j in stack:\n",
    "            if curr:\n",
    "                if j not in topView:\n",
    "                    topView[j] = curr.val\n",
    "                next_.append((curr.left, j - 1))\n",
    "                next_.append((curr.right, j + 1))\n",
    "\n",
    "        stack = next_\n",
    "\n",
    "    result: list[int] = []\n",
    "    for k, v in sorted(topView.items(), key=lambda x: x[0]):\n",
    "        result.append(v)\n",
    "\n",
    "    return result\n",
    "\n",
    "# Testing the result\n",
    "assert topViewBinaryTree(BinaryTreeNode.from_array([1, 2, 3, 4, 5, None, 6, None, 7, None, None, 8, None, 9, None, None, 11, 10, None, None, None, None, None])) == [10, 4,  2, 1, 3, 6]"
   ]
  },
  {
   "cell_type": "markdown",
   "id": "b62cb1a9",
   "metadata": {
    "papermill": {
     "duration": 0.017019,
     "end_time": "2024-04-14T10:25:11.667149",
     "exception": false,
     "start_time": "2024-04-14T10:25:11.650130",
     "status": "completed"
    },
    "tags": []
   },
   "source": [
    "Video Link: https://youtu.be/0FtVY6I4pB8?si=pBJ-JgXeSz_WxjCs\n",
    "Bottom view of a Binary tree"
   ]
  },
  {
   "cell_type": "code",
   "execution_count": 22,
   "id": "f1b0d9dd",
   "metadata": {
    "execution": {
     "iopub.execute_input": "2024-04-14T10:25:11.702812Z",
     "iopub.status.busy": "2024-04-14T10:25:11.702121Z",
     "iopub.status.idle": "2024-04-14T10:25:11.709725Z",
     "shell.execute_reply": "2024-04-14T10:25:11.708933Z"
    },
    "lines_to_next_cell": 1,
    "papermill": {
     "duration": 0.027303,
     "end_time": "2024-04-14T10:25:11.711393",
     "exception": false,
     "start_time": "2024-04-14T10:25:11.684090",
     "status": "completed"
    },
    "tags": []
   },
   "outputs": [],
   "source": [
    "def bottomView(root: BinaryTreeNode) -> list[int]:\n",
    "    ordering: dict[int, int] = dict()\n",
    "    stack: list[tuple[BinaryTreeNode, int]] = [(root, 0)]\n",
    "    while stack:\n",
    "        next_: list[tuple[BinaryTreeNode, int]] = []\n",
    "        for curr, j in stack:\n",
    "            if curr:\n",
    "                ordering[j] = curr.val\n",
    "                next_.append((curr.left, j - 1))\n",
    "                next_.append((curr.right, j + 1))\n",
    "\n",
    "        stack = next_\n",
    "\n",
    "    result: list[int] = []\n",
    "    for k in sorted(ordering.keys()):\n",
    "        result.append(ordering[k])\n",
    "\n",
    "    return result\n",
    "\n",
    "# Testing the solution\n",
    "assert bottomView(BinaryTreeNode.from_array([1, 2, 3, None, None, 5, 6, 7, 8, None, None, None, None, None, None])) == [7, 5, 8, 6]"
   ]
  },
  {
   "cell_type": "markdown",
   "id": "262c0c19",
   "metadata": {
    "papermill": {
     "duration": 0.016937,
     "end_time": "2024-04-14T10:25:11.745789",
     "exception": false,
     "start_time": "2024-04-14T10:25:11.728852",
     "status": "completed"
    },
    "tags": []
   },
   "source": [
    "Video Link: https://youtu.be/KV4mRzTjlAk?si=lzQH9S7GrgZKUjMj\n",
    "Right / Left view of a Binary Tree"
   ]
  },
  {
   "cell_type": "code",
   "execution_count": 23,
   "id": "8d6decb1",
   "metadata": {
    "execution": {
     "iopub.execute_input": "2024-04-14T10:25:11.781834Z",
     "iopub.status.busy": "2024-04-14T10:25:11.781460Z",
     "iopub.status.idle": "2024-04-14T10:25:11.790422Z",
     "shell.execute_reply": "2024-04-14T10:25:11.789655Z"
    },
    "lines_to_next_cell": 1,
    "papermill": {
     "duration": 0.029361,
     "end_time": "2024-04-14T10:25:11.792311",
     "exception": false,
     "start_time": "2024-04-14T10:25:11.762950",
     "status": "completed"
    },
    "tags": []
   },
   "outputs": [],
   "source": [
    "# Right Side View: Time - O(N)\n",
    "def rightSideView(root: BinaryTreeNode) -> list[int]:\n",
    "    ordering: dict[int, int] = dict()\n",
    "    def inOrder(curr: BinaryTreeNode, i: int = 0):\n",
    "        nonlocal ordering\n",
    "        if not curr:\n",
    "            return\n",
    "        else:\n",
    "            ordering[i] = curr.val\n",
    "            inOrder(curr.left, i + 1)\n",
    "            inOrder(curr.right, i + 1)\n",
    "\n",
    "    # Backtrack and store the results\n",
    "    inOrder(root)\n",
    "    result: list[int] = []\n",
    "    for k in sorted(ordering.keys()):\n",
    "        result.append(ordering[k])\n",
    "\n",
    "    return result\n",
    "\n",
    "# Testing the solution\n",
    "assert rightSideView(BinaryTreeNode.from_array([1, 2, 3, None, 5, None, 4])) == [1, 3, 4]\n",
    "assert rightSideView(BinaryTreeNode.from_array([1, 2, 3, 4])) == [1, 3, 4]"
   ]
  },
  {
   "cell_type": "code",
   "execution_count": 24,
   "id": "367ea6a3",
   "metadata": {
    "execution": {
     "iopub.execute_input": "2024-04-14T10:25:11.828125Z",
     "iopub.status.busy": "2024-04-14T10:25:11.827451Z",
     "iopub.status.idle": "2024-04-14T10:25:11.834804Z",
     "shell.execute_reply": "2024-04-14T10:25:11.834053Z"
    },
    "lines_to_next_cell": 1,
    "papermill": {
     "duration": 0.026905,
     "end_time": "2024-04-14T10:25:11.836477",
     "exception": false,
     "start_time": "2024-04-14T10:25:11.809572",
     "status": "completed"
    },
    "tags": [],
    "title": "Left Side View: Time - O(N)"
   },
   "outputs": [],
   "source": [
    "def leftSideView(root: BinaryTreeNode) -> list[int]:\n",
    "    ordering: dict[int, int] = dict()\n",
    "    def backtrack(curr: BinaryTreeNode, i: int = 0):\n",
    "        nonlocal ordering\n",
    "        if not curr:\n",
    "            return\n",
    "        else:\n",
    "            ordering[i] = curr.val\n",
    "            backtrack(curr.right, i + 1)\n",
    "            backtrack(curr.left, i + 1)\n",
    "\n",
    "    # Backtrack and store the results\n",
    "    backtrack(root)\n",
    "    result: list[int] = []\n",
    "    for k in sorted(ordering.keys()):\n",
    "        result.append(ordering[k])\n",
    "\n",
    "    return result\n",
    "\n",
    "# Testing the solution\n",
    "assert leftSideView(BinaryTreeNode.from_array([1, 2, 3, None, 5, None, 4])) == [1, 2, 5]\n",
    "assert leftSideView(BinaryTreeNode.from_array([1, 2, 3, 4])) == [1, 2, 4]"
   ]
  },
  {
   "cell_type": "code",
   "execution_count": 25,
   "id": "40a6b0a2",
   "metadata": {
    "execution": {
     "iopub.execute_input": "2024-04-14T10:25:11.872923Z",
     "iopub.status.busy": "2024-04-14T10:25:11.872280Z",
     "iopub.status.idle": "2024-04-14T10:25:11.879439Z",
     "shell.execute_reply": "2024-04-14T10:25:11.878649Z"
    },
    "lines_to_next_cell": 1,
    "papermill": {
     "duration": 0.027312,
     "end_time": "2024-04-14T10:25:11.881175",
     "exception": false,
     "start_time": "2024-04-14T10:25:11.853863",
     "status": "completed"
    },
    "tags": []
   },
   "outputs": [],
   "source": [
    "# Better solution from Striver\n",
    "def rightSideViewStriver(root: BinaryTreeNode) -> list[int]:\n",
    "    result: list[int] = []\n",
    "    def backtrack(curr: BinaryTreeNode, level: int = 1):\n",
    "        \"\"\"\n",
    "        Modified preorder traversal - RRL.\n",
    "        We insert to our result only when we are coming the level for the first time.\n",
    "        \"\"\"\n",
    "        nonlocal result\n",
    "        if not curr:\n",
    "            return\n",
    "        else:\n",
    "            if level > len(result):\n",
    "                result.append(curr.val)\n",
    "            backtrack(curr.right, level + 1)\n",
    "            backtrack(curr.left, level + 1)\n",
    "\n",
    "    # Recurse and save the results\n",
    "    backtrack(root)\n",
    "    return result\n",
    "\n",
    "# Testing the solution\n",
    "assert rightSideViewStriver(BinaryTreeNode.from_array([1, 2, 3, None, 5, None, 4])) == [1, 3, 4]\n",
    "assert rightSideViewStriver(BinaryTreeNode.from_array([1, 2, 3, 4])) == [1, 3, 4]"
   ]
  },
  {
   "cell_type": "markdown",
   "id": "3d234569",
   "metadata": {
    "papermill": {
     "duration": 0.016984,
     "end_time": "2024-04-14T10:25:11.915770",
     "exception": false,
     "start_time": "2024-04-14T10:25:11.898786",
     "status": "completed"
    },
    "tags": []
   },
   "source": [
    "Video Link: https://youtu.be/nKggNAiEpBE?si=abzPcl6pKzyFpJ2i\n",
    "Problem Link: https://leetcode.com/problems/symmetric-tree/submissions/1227182868"
   ]
  },
  {
   "cell_type": "code",
   "execution_count": 26,
   "id": "7dae62c7",
   "metadata": {
    "execution": {
     "iopub.execute_input": "2024-04-14T10:25:11.952158Z",
     "iopub.status.busy": "2024-04-14T10:25:11.951379Z",
     "iopub.status.idle": "2024-04-14T10:25:11.961481Z",
     "shell.execute_reply": "2024-04-14T10:25:11.960682Z"
    },
    "lines_to_next_cell": 1,
    "papermill": {
     "duration": 0.030533,
     "end_time": "2024-04-14T10:25:11.963249",
     "exception": false,
     "start_time": "2024-04-14T10:25:11.932716",
     "status": "completed"
    },
    "tags": []
   },
   "outputs": [],
   "source": [
    "def isSymmetric(root: BinaryTreeNode) -> bool:\n",
    "    def backtrack(left: BinaryTreeNode, right: BinaryTreeNode) -> bool:\n",
    "        if not left or not right:\n",
    "            return left == right\n",
    "        else:\n",
    "            return left.val == right.val and backtrack(left.left, right.right) and backtrack(left.right, right.left)\n",
    "\n",
    "    def isPalindrome(arr: list[BinaryTreeNode]) -> bool:\n",
    "        N = len(arr)\n",
    "        i, j = 0, N - 1\n",
    "        while i < j:\n",
    "            left, right = arr[i].val if arr[i] else None, arr[j].val if arr[j] else None\n",
    "            i, j = i + 1, j - 1\n",
    "            if left != right:\n",
    "                return False\n",
    "        return True\n",
    "\n",
    "    def iterate() -> bool:\n",
    "        stack: list[BinaryTreeNode] = [root]\n",
    "        while stack:\n",
    "            next_: list[BinaryTreeNode] = []\n",
    "            for curr in stack:\n",
    "                if curr:\n",
    "                    next_.append(curr.left)\n",
    "                    next_.append(curr.right)\n",
    "\n",
    "            if not isPalindrome(next_):\n",
    "                return False\n",
    "            else:\n",
    "                stack = next_\n",
    "        else:\n",
    "            return True\n",
    "\n",
    "    # return backtrack(root.left, root.right)\n",
    "    return iterate()\n",
    "\n",
    "# Testing the solution\n",
    "assert isSymmetric(BinaryTreeNode.from_array([1, 2, 2, None, 3, None, 3])) == False\n",
    "assert isSymmetric(BinaryTreeNode.from_array([1, 2, 2, None, 3, 3, None])) == True"
   ]
  },
  {
   "cell_type": "markdown",
   "id": "3d1fac60",
   "metadata": {
    "papermill": {
     "duration": 0.018417,
     "end_time": "2024-04-14T10:25:11.999323",
     "exception": false,
     "start_time": "2024-04-14T10:25:11.980906",
     "status": "completed"
    },
    "tags": []
   },
   "source": [
    "Video Link: https://youtu.be/fmflMqVOC7k?si=1AX2ea08UGtxw0mj\n",
    "Print Root to Node path in Binary Tree"
   ]
  },
  {
   "cell_type": "code",
   "execution_count": 27,
   "id": "f0244aad",
   "metadata": {
    "execution": {
     "iopub.execute_input": "2024-04-14T10:25:12.035172Z",
     "iopub.status.busy": "2024-04-14T10:25:12.034466Z",
     "iopub.status.idle": "2024-04-14T10:25:12.043072Z",
     "shell.execute_reply": "2024-04-14T10:25:12.042284Z"
    },
    "lines_to_next_cell": 1,
    "papermill": {
     "duration": 0.028623,
     "end_time": "2024-04-14T10:25:12.044873",
     "exception": false,
     "start_time": "2024-04-14T10:25:12.016250",
     "status": "completed"
    },
    "tags": []
   },
   "outputs": [
    {
     "data": {
      "text/plain": [
       "[1, 2, 5, 7]"
      ]
     },
     "execution_count": 27,
     "metadata": {},
     "output_type": "execute_result"
    }
   ],
   "source": [
    "def rootToNodePath(root: BinaryTreeNode, target: int) -> list[int]:\n",
    "    \"Time: O(N), Space: O(H)\"\n",
    "    path: list[int] = []\n",
    "    def backtrack(curr: BinaryTreeNode) -> bool:\n",
    "        if not curr:\n",
    "            return False\n",
    "        else:\n",
    "            path.append(curr.val)\n",
    "            result = curr.val == target or backtrack(curr.left) or backtrack(curr.right)\n",
    "            if not result:\n",
    "                path.pop()\n",
    "\n",
    "            return result\n",
    "\n",
    "    backtrack(root)\n",
    "    return path\n",
    "\n",
    "\n",
    "# Testing the solution\n",
    "rootToNodePath(BinaryTreeNode.from_array([1, 2, 3, 4, 5, None, None, None, None, 6, 7]), 7)"
   ]
  },
  {
   "cell_type": "markdown",
   "id": "b7a03676",
   "metadata": {
    "papermill": {
     "duration": 0.017076,
     "end_time": "2024-04-14T10:25:12.079415",
     "exception": false,
     "start_time": "2024-04-14T10:25:12.062339",
     "status": "completed"
    },
    "tags": []
   },
   "source": [
    "Lowest common ancestor\n",
    "Video Link: https://youtu.be/_-QHfMDde90?si=3pJ5ysXG6FArt3Q3"
   ]
  },
  {
   "cell_type": "code",
   "execution_count": 28,
   "id": "7a501b5a",
   "metadata": {
    "execution": {
     "iopub.execute_input": "2024-04-14T10:25:12.118304Z",
     "iopub.status.busy": "2024-04-14T10:25:12.117978Z",
     "iopub.status.idle": "2024-04-14T10:25:12.125077Z",
     "shell.execute_reply": "2024-04-14T10:25:12.124145Z"
    },
    "lines_to_next_cell": 1,
    "papermill": {
     "duration": 0.02999,
     "end_time": "2024-04-14T10:25:12.126894",
     "exception": false,
     "start_time": "2024-04-14T10:25:12.096904",
     "status": "completed"
    },
    "tags": []
   },
   "outputs": [],
   "source": [
    "# Problem Link: https://leetcode.com/problems/lowest-common-ancestor-of-a-binary-tree/submissions/1228152859\n",
    "def lowestCommonAncestor(root: BinaryTreeNode, p: BinaryTreeNode, q: BinaryTreeNode) -> BinaryTreeNode:\n",
    "    def backtrack(curr: BinaryTreeNode) -> BinaryTreeNode:\n",
    "        if not curr:\n",
    "            return curr\n",
    "        else:\n",
    "            left = backtrack(curr.left)\n",
    "            right = backtrack(curr.right)\n",
    "            if left and right:\n",
    "                return curr\n",
    "            elif curr in (p, q):\n",
    "                return curr\n",
    "            else:\n",
    "                return left if left else right\n",
    "\n",
    "    return backtrack(root)\n",
    "\n",
    "# Testing the solution\n",
    "temp: BinaryTreeNode = BinaryTreeNode.from_array([3,5,1,6,2,0,8,None,None,7,4])\n",
    "assert lowestCommonAncestor(temp, p=temp.left, q=temp.left.right.right).val == 5"
   ]
  },
  {
   "cell_type": "markdown",
   "id": "8415d919",
   "metadata": {
    "papermill": {
     "duration": 0.017288,
     "end_time": "2024-04-14T10:25:12.161824",
     "exception": false,
     "start_time": "2024-04-14T10:25:12.144536",
     "status": "completed"
    },
    "tags": []
   },
   "source": [
    "Maximum width of a binary Tree\n",
    "Video Link: https://youtu.be/ZbybYvcVLks?si=_r6ouO7uxfz3DI6I"
   ]
  },
  {
   "cell_type": "code",
   "execution_count": 29,
   "id": "249090c8",
   "metadata": {
    "execution": {
     "iopub.execute_input": "2024-04-14T10:25:12.197998Z",
     "iopub.status.busy": "2024-04-14T10:25:12.197465Z",
     "iopub.status.idle": "2024-04-14T10:25:12.204994Z",
     "shell.execute_reply": "2024-04-14T10:25:12.204179Z"
    },
    "lines_to_next_cell": 1,
    "papermill": {
     "duration": 0.027631,
     "end_time": "2024-04-14T10:25:12.206758",
     "exception": false,
     "start_time": "2024-04-14T10:25:12.179127",
     "status": "completed"
    },
    "tags": []
   },
   "outputs": [],
   "source": [
    "# Problem Link: https://leetcode.com/problems/maximum-width-of-binary-tree/submissions/1228981858\n",
    "def widthOfBinaryTree(root: BinaryTreeNode) -> int:\n",
    "    \"\"\"\n",
    "    1. 0 Based indexing:\n",
    "        - Left of any node: (2 * i + 1)\n",
    "        - Right of any node: (2 * i + 2)\n",
    "\n",
    "    2. 1 Based indexing:\n",
    "        - Left of any node: (2 * i)\n",
    "        - Right of any node: (2 * i + 1)\n",
    "    \"\"\"\n",
    "\n",
    "    max_width: int = 0\n",
    "    queue: list[tuple[BinaryTreeNode, int]] = [(root, 0)]\n",
    "    while queue:\n",
    "        max_width = max(max_width, queue[-1][1] - queue[0][1] + 1)\n",
    "        next_: list[tuple[BinaryTreeNode, int]] = []\n",
    "        min_idx = queue[0][1] # i - min_idx is done to prevent buffer overflow in languages like C, C++\n",
    "        for curr, i in queue:\n",
    "            if curr.left:\n",
    "                next_.append((curr.left, 2 * (i - min_idx) + 1))\n",
    "            if curr.right:\n",
    "                next_.append((curr.right, 2 * (i - min_idx) + 2))\n",
    "\n",
    "        queue = next_\n",
    "\n",
    "    return max_width\n",
    "\n",
    "# Testing the solution\n",
    "assert widthOfBinaryTree(BinaryTreeNode.from_array([1,3,2,5,3,None,9])) == 4"
   ]
  },
  {
   "cell_type": "markdown",
   "id": "db8bdc78",
   "metadata": {
    "papermill": {
     "duration": 0.017837,
     "end_time": "2024-04-14T10:25:12.242289",
     "exception": false,
     "start_time": "2024-04-14T10:25:12.224452",
     "status": "completed"
    },
    "tags": []
   },
   "source": [
    "Video Link: https://youtu.be/fnmisPM6cVo?si=gK9Xm0WNZQ6dqBk6\n",
    "Check children sum property in Binary Tree"
   ]
  },
  {
   "cell_type": "code",
   "execution_count": 30,
   "id": "e9c463d9",
   "metadata": {
    "execution": {
     "iopub.execute_input": "2024-04-14T10:25:12.278575Z",
     "iopub.status.busy": "2024-04-14T10:25:12.277824Z",
     "iopub.status.idle": "2024-04-14T10:25:12.285047Z",
     "shell.execute_reply": "2024-04-14T10:25:12.284348Z"
    },
    "lines_to_next_cell": 1,
    "papermill": {
     "duration": 0.0272,
     "end_time": "2024-04-14T10:25:12.286680",
     "exception": false,
     "start_time": "2024-04-14T10:25:12.259480",
     "status": "completed"
    },
    "tags": []
   },
   "outputs": [],
   "source": [
    "def isParentSum(curr: BinaryTreeNode) -> bool:\n",
    "    if not curr or (not curr.left and not curr.right): # Leaf node\n",
    "        return True\n",
    "    else:\n",
    "        curr_parent_sum = (curr.val == ((curr.left.val if curr.left else 0) + (curr.right.val if curr.right else 0)))\n",
    "        return curr_parent_sum and isParentSum(curr.left) and isParentSum(curr.right)\n",
    "\n",
    "# Testing the solution\n",
    "assert isParentSum(BinaryTreeNode.from_array([5, 3, 2, 3, None, None, None, None, None])) == True\n",
    "assert isParentSum(BinaryTreeNode.from_array([7, 3, 4, 3, None, 2, 3, None, None, None, None, None, None])) == False"
   ]
  },
  {
   "cell_type": "markdown",
   "id": "6315a3c1",
   "metadata": {
    "papermill": {
     "duration": 0.018341,
     "end_time": "2024-04-14T10:25:12.322263",
     "exception": false,
     "start_time": "2024-04-14T10:25:12.303922",
     "status": "completed"
    },
    "tags": []
   },
   "source": [
    "Maintain children sum property of a binary Tree"
   ]
  },
  {
   "cell_type": "code",
   "execution_count": 31,
   "id": "20d7e7dd",
   "metadata": {
    "execution": {
     "iopub.execute_input": "2024-04-14T10:25:12.358632Z",
     "iopub.status.busy": "2024-04-14T10:25:12.357930Z",
     "iopub.status.idle": "2024-04-14T10:25:12.366696Z",
     "shell.execute_reply": "2024-04-14T10:25:12.365945Z"
    },
    "lines_to_next_cell": 1,
    "papermill": {
     "duration": 0.028969,
     "end_time": "2024-04-14T10:25:12.368565",
     "exception": false,
     "start_time": "2024-04-14T10:25:12.339596",
     "status": "completed"
    },
    "tags": []
   },
   "outputs": [],
   "source": [
    "def restoreChildrenSumProperty(root: BinaryTreeNode) -> BinaryTreeNode:\n",
    "    \"In languages such as C, this might cause buffer overflow, see striver sol below\"\n",
    "    max_ = 0\n",
    "    def postOrder(curr: BinaryTreeNode) -> int:\n",
    "        nonlocal max_\n",
    "        max_ = max(max_, curr.val if curr else 0)\n",
    "        if not curr.left and not curr.right:\n",
    "            assert curr.val < max_, f\"Can only increment, {curr.val} cannot become {max_}\"\n",
    "            curr.val = max_\n",
    "            return curr.val\n",
    "        else:\n",
    "            left_ = postOrder(curr.left) if curr.left else 0\n",
    "            right_ = postOrder(curr.right) if curr.right else 0\n",
    "            assert curr.val < left_ + right_, f\"Can only increment, {curr.val} cannot become {left_ + right_}\"\n",
    "            curr.val = left_ + right_\n",
    "            return left_ + right_\n",
    "\n",
    "    postOrder(root)\n",
    "    return root\n",
    "\n",
    "# Testing the solution\n",
    "assert isParentSum(restoreChildrenSumProperty(BinaryTreeNode.from_array([2, 35, 10, 2, 3, 5, 2])))\n",
    "assert isParentSum(restoreChildrenSumProperty(BinaryTreeNode.from_array([50, 7, 2, 3, 5, 1, 30])))\n",
    "assert isParentSum(restoreChildrenSumProperty(BinaryTreeNode.from_array([7, 3, 4, 3, None, 2, 3, None, None, None, None, None, None])))"
   ]
  },
  {
   "cell_type": "code",
   "execution_count": 32,
   "id": "bf9f3b28",
   "metadata": {
    "execution": {
     "iopub.execute_input": "2024-04-14T10:25:12.405635Z",
     "iopub.status.busy": "2024-04-14T10:25:12.405024Z",
     "iopub.status.idle": "2024-04-14T10:25:12.414289Z",
     "shell.execute_reply": "2024-04-14T10:25:12.413552Z"
    },
    "lines_to_next_cell": 1,
    "papermill": {
     "duration": 0.02992,
     "end_time": "2024-04-14T10:25:12.416084",
     "exception": false,
     "start_time": "2024-04-14T10:25:12.386164",
     "status": "completed"
    },
    "tags": []
   },
   "outputs": [],
   "source": [
    "def restoreChildrenSumProperty_striver(root: BinaryTreeNode) -> BinaryTreeNode:\n",
    "    def postOrder(curr: BinaryTreeNode) -> int:\n",
    "        if not curr.left and not curr.right:\n",
    "            return curr.val\n",
    "        else:\n",
    "            if curr.val > (curr.left.val if curr.left else 0) + (curr.right.val if curr.right else 0):\n",
    "                if curr.left:\n",
    "                    curr.left.val = curr.val\n",
    "                if curr.right:\n",
    "                    curr.right.val = curr.val\n",
    "\n",
    "            left = postOrder(curr.left) if curr.left else 0\n",
    "            right = postOrder(curr.right) if curr.right else 0\n",
    "            curr.val = left + right\n",
    "            return curr.val\n",
    "\n",
    "    postOrder(root)\n",
    "    return root\n",
    "\n",
    "# Testing the solution\n",
    "assert isParentSum(restoreChildrenSumProperty_striver(BinaryTreeNode.from_array([2, 35, 10, 2, 3, 5, 2])))\n",
    "assert isParentSum(restoreChildrenSumProperty_striver(BinaryTreeNode.from_array([50, 7, 2, 3, 5, 1, 30])))\n",
    "assert isParentSum(restoreChildrenSumProperty_striver(BinaryTreeNode.from_array([7, 3, 4, 3, None, 2, 3, None, None, None, None, None, None])))"
   ]
  },
  {
   "cell_type": "markdown",
   "id": "d81de678",
   "metadata": {
    "papermill": {
     "duration": 0.017152,
     "end_time": "2024-04-14T10:25:12.450765",
     "exception": false,
     "start_time": "2024-04-14T10:25:12.433613",
     "status": "completed"
    },
    "tags": []
   },
   "source": [
    "Video Link: https://youtu.be/i9ORlEy6EsI?si=GlIarkkKAHDMEXss\n",
    "Print all nodes at K distance from target in Binary Tree"
   ]
  },
  {
   "cell_type": "code",
   "execution_count": 33,
   "id": "af18ee1c",
   "metadata": {
    "execution": {
     "iopub.execute_input": "2024-04-14T10:25:12.487508Z",
     "iopub.status.busy": "2024-04-14T10:25:12.486678Z",
     "iopub.status.idle": "2024-04-14T10:25:12.498172Z",
     "shell.execute_reply": "2024-04-14T10:25:12.497376Z"
    },
    "lines_to_next_cell": 1,
    "papermill": {
     "duration": 0.031844,
     "end_time": "2024-04-14T10:25:12.500112",
     "exception": false,
     "start_time": "2024-04-14T10:25:12.468268",
     "status": "completed"
    },
    "tags": []
   },
   "outputs": [],
   "source": [
    "def distanceK(root: BinaryTreeNode, target: int, k: int) -> list[int]:\n",
    "    \"Time: O(N), Space: O(N)\"\n",
    "    adl: dict[int, set[int]] = dict()\n",
    "    def createGraph(curr: BinaryTreeNode):\n",
    "        nonlocal adl\n",
    "        if curr:\n",
    "            curr_neighbours = adl.get(curr.val, set())\n",
    "            if curr.left:\n",
    "                curr_neighbours.add(curr.left.val)\n",
    "                left_neighbours = adl.get(curr.left.val, set())\n",
    "                left_neighbours.add(curr.val)\n",
    "                adl[curr.left.val] = left_neighbours\n",
    "                createGraph(curr.left)\n",
    "            if curr.right:\n",
    "                curr_neighbours.add(curr.right.val)\n",
    "                right_neighbours = adl.get(curr.right.val, set())\n",
    "                right_neighbours.add(curr.val)\n",
    "                adl[curr.right.val] = right_neighbours\n",
    "                createGraph(curr.right)\n",
    "            adl[curr.val] = curr_neighbours\n",
    "\n",
    "    # Create a graph adjacency list\n",
    "    createGraph(root)\n",
    "\n",
    "    # Do a BFS until distance is reached\n",
    "    queue: list[int] = [target]\n",
    "    visited: set[int] = set([target])\n",
    "    while k > 0:\n",
    "        next_: list[int] = []\n",
    "        for curr in queue:\n",
    "            for neighbour in adl.get(curr, set()):\n",
    "                if neighbour not in visited:\n",
    "                    visited.add(neighbour)\n",
    "                    next_.append(neighbour)\n",
    "\n",
    "        queue = next_\n",
    "        k -= 1\n",
    "\n",
    "    return queue\n",
    "\n",
    "# Testing the solution\n",
    "assert sorted(distanceK(BinaryTreeNode.from_array([3,5,1,6,2,0,8,None,None,7,4]), 5, 2)) == [1, 4, 7]\n",
    "assert sorted(distanceK(BinaryTreeNode.from_array([3,5,1,6,2,0,8,None,None,7,4]), 4, 2)) == [5, 7]"
   ]
  },
  {
   "cell_type": "markdown",
   "id": "db756dd0",
   "metadata": {
    "papermill": {
     "duration": 0.01734,
     "end_time": "2024-04-14T10:25:12.535098",
     "exception": false,
     "start_time": "2024-04-14T10:25:12.517758",
     "status": "completed"
    },
    "tags": []
   },
   "source": [
    "Video Link: https://youtu.be/2r5wLmQfD6g?si=V-Tirx2isc0Mt7Qp\n",
    "Time to burn a Binary Tree"
   ]
  },
  {
   "cell_type": "code",
   "execution_count": 34,
   "id": "67ee9af0",
   "metadata": {
    "execution": {
     "iopub.execute_input": "2024-04-14T10:25:12.571461Z",
     "iopub.status.busy": "2024-04-14T10:25:12.570773Z",
     "iopub.status.idle": "2024-04-14T10:25:12.580832Z",
     "shell.execute_reply": "2024-04-14T10:25:12.580166Z"
    },
    "lines_to_next_cell": 1,
    "papermill": {
     "duration": 0.030166,
     "end_time": "2024-04-14T10:25:12.582544",
     "exception": false,
     "start_time": "2024-04-14T10:25:12.552378",
     "status": "completed"
    },
    "tags": []
   },
   "outputs": [],
   "source": [
    "def timeToBurnTree(root: BinaryTreeNode, start: int):\n",
    "    \"Time: O(N), Space: O(N)\"\n",
    "    adl: dict[int, set[int]] = dict()\n",
    "    def createGraph(curr: BinaryTreeNode):\n",
    "        if curr:\n",
    "            curr_neighbours = adl.get(curr.val, set())\n",
    "            if curr.left:\n",
    "                curr_neighbours.add(curr.left.val)\n",
    "                adl[curr.left.val] = set([curr.val])\n",
    "                createGraph(curr.left)\n",
    "            if curr.right:\n",
    "                curr_neighbours.add(curr.right.val)\n",
    "                adl[curr.right.val] = set([curr.val])\n",
    "                createGraph(curr.right)\n",
    "            adl[curr.val] = curr_neighbours\n",
    "\n",
    "    # Create an adjacency list\n",
    "    createGraph(root)\n",
    "\n",
    "    # Do a BFS traversal and compute the max levels\n",
    "    k = 0\n",
    "    queue: list[int] = [start]\n",
    "    visited: set[int] = set([start])\n",
    "    while queue:\n",
    "        next_: list[int] = []\n",
    "        for curr in queue:\n",
    "            for neighbour in adl.get(curr, set()):\n",
    "                if neighbour not in visited:\n",
    "                    visited.add(neighbour)\n",
    "                    next_.append(neighbour)\n",
    "\n",
    "        queue = next_\n",
    "        k += 1\n",
    "\n",
    "    return k - 1\n",
    "\n",
    "# Testing the solution\n",
    "assert timeToBurnTree(BinaryTreeNode.from_array([3,5,1,6,2,0,8,None,None,7,4]), 5) == 3\n",
    "assert timeToBurnTree(BinaryTreeNode.from_array([3,5,1,6,2,0,8,None,None,7,4]), 4) == 5"
   ]
  },
  {
   "cell_type": "markdown",
   "id": "d4e4fad8",
   "metadata": {
    "papermill": {
     "duration": 0.017649,
     "end_time": "2024-04-14T10:25:12.617996",
     "exception": false,
     "start_time": "2024-04-14T10:25:12.600347",
     "status": "completed"
    },
    "tags": []
   },
   "source": [
    "Video Link: https://youtu.be/u-yWemKGWO0?si=-xcOq69rKzHwnkSC\n",
    "Count total nodes in a complete Binary Tree"
   ]
  },
  {
   "cell_type": "code",
   "execution_count": 35,
   "id": "dd5cd4ce",
   "metadata": {
    "execution": {
     "iopub.execute_input": "2024-04-14T10:25:12.654748Z",
     "iopub.status.busy": "2024-04-14T10:25:12.654068Z",
     "iopub.status.idle": "2024-04-14T10:25:12.661666Z",
     "shell.execute_reply": "2024-04-14T10:25:12.660981Z"
    },
    "lines_to_next_cell": 1,
    "papermill": {
     "duration": 0.027831,
     "end_time": "2024-04-14T10:25:12.663321",
     "exception": false,
     "start_time": "2024-04-14T10:25:12.635490",
     "status": "completed"
    },
    "tags": []
   },
   "outputs": [],
   "source": [
    "# Problem Link: https://leetcode.com/problems/count-complete-tree-nodes/submissions/1229957492\n",
    "def countNodes(root: BinaryTreeNode) -> int:\n",
    "    \"\"\"\n",
    "    For each node, compute the left height and right height\n",
    "    If left height == right height:\n",
    "        Count nodes with formula = 2 ^ (h - 1)\n",
    "    Else:\n",
    "        Count of nodes = 1 + left_count + right_count\n",
    "\n",
    "    Computing height takes O(log N) time. At each step, either left would be a\n",
    "    full binary tree or the right would be: O(log N) nodes to travel\n",
    "\n",
    "    Time: O(log N * log N), Space: O(log N)\n",
    "    \"\"\"\n",
    "\n",
    "    if not root:\n",
    "        return 0\n",
    "\n",
    "    # Compute left height\n",
    "    curr, lh = root, 0\n",
    "    while curr:\n",
    "        curr = curr.left\n",
    "        lh += 1\n",
    "\n",
    "    # Compute right height\n",
    "    curr, rh = root, 0\n",
    "    rh = 0\n",
    "    while curr:\n",
    "        curr = curr.right\n",
    "        rh += 1\n",
    "\n",
    "    if lh == rh:\n",
    "        return 2 ** lh - 1\n",
    "    else:\n",
    "        return 1 + countNodes(root.left) + countNodes(root.right)\n",
    "\n",
    "# Testing the solution\n",
    "assert countNodes(BinaryTreeNode.from_array([1, 2, 3, 4, 5, 6, 7, 8, 9, 10, 11])) == 11"
   ]
  },
  {
   "cell_type": "markdown",
   "id": "51889e6d",
   "metadata": {
    "papermill": {
     "duration": 0.016955,
     "end_time": "2024-04-14T10:25:12.697509",
     "exception": false,
     "start_time": "2024-04-14T10:25:12.680554",
     "status": "completed"
    },
    "tags": []
   },
   "source": [
    "Construct binary tree from preorder and inorder traversal\n",
    "Video Link: https://youtu.be/aZNaLrVebKQ?si=bSe8CP3Bxk0bM3nG"
   ]
  },
  {
   "cell_type": "code",
   "execution_count": 36,
   "id": "62f3bcad",
   "metadata": {
    "execution": {
     "iopub.execute_input": "2024-04-14T10:25:12.734003Z",
     "iopub.status.busy": "2024-04-14T10:25:12.733367Z",
     "iopub.status.idle": "2024-04-14T10:25:12.743055Z",
     "shell.execute_reply": "2024-04-14T10:25:12.742250Z"
    },
    "lines_to_next_cell": 1,
    "papermill": {
     "duration": 0.030147,
     "end_time": "2024-04-14T10:25:12.744923",
     "exception": false,
     "start_time": "2024-04-14T10:25:12.714776",
     "status": "completed"
    },
    "tags": []
   },
   "outputs": [
    {
     "data": {
      "text/plain": [
       "[10, 20, 30, 40, 50, 60, None, None, None, None, None, None, None]"
      ]
     },
     "execution_count": 36,
     "metadata": {},
     "output_type": "execute_result"
    }
   ],
   "source": [
    "# Better solution\n",
    "# Problem Link: https://leetcode.com/problems/construct-binary-tree-from-preorder-and-inorder-traversal/submissions/1230758214\n",
    "def buildTreeFromPreorderBetter(preorder: list[int], inorder: list[int]) -> BinaryTreeNode|None:\n",
    "    \"\"\"\n",
    "    Preorder can be used to figure out the root.\n",
    "    Inorder can be used to figure out which of the nodes come to left and to the right of root.\n",
    "    \"\"\"\n",
    "    root = BinaryTreeNode(preorder[0]) if preorder else None\n",
    "    if root and len(inorder) > 1:\n",
    "        idx = inorder.index(root.val)\n",
    "        root.left = buildTreeFromPreorderBetter(preorder[1: idx + 1], inorder[:idx])\n",
    "        root.right = buildTreeFromPreorderBetter(preorder[idx + 1:], inorder[idx + 1:])\n",
    "\n",
    "    return root\n",
    "\n",
    "# Testing the Solution\n",
    "buildTreeFromPreorderBetter(inorder=[40, 20, 50, 10, 60, 30], preorder=[10, 20, 40, 50, 30, 60]).to_list()"
   ]
  },
  {
   "cell_type": "code",
   "execution_count": 37,
   "id": "878e7fa6",
   "metadata": {
    "execution": {
     "iopub.execute_input": "2024-04-14T10:25:12.781970Z",
     "iopub.status.busy": "2024-04-14T10:25:12.781305Z",
     "iopub.status.idle": "2024-04-14T10:25:12.792785Z",
     "shell.execute_reply": "2024-04-14T10:25:12.792000Z"
    },
    "lines_to_next_cell": 1,
    "papermill": {
     "duration": 0.031721,
     "end_time": "2024-04-14T10:25:12.794407",
     "exception": false,
     "start_time": "2024-04-14T10:25:12.762686",
     "status": "completed"
    },
    "tags": []
   },
   "outputs": [
    {
     "data": {
      "text/plain": [
       "[10, 20, 30, 40, 50, 60, None, None, None, None, None, None, None]"
      ]
     },
     "execution_count": 37,
     "metadata": {},
     "output_type": "execute_result"
    }
   ],
   "source": [
    "# https://leetcode.com/problems/construct-binary-tree-from-preorder-and-inorder-traversal/submissions/1230767142/\n",
    "def buildTreeFromPreorderOptimal(preorder: list[int], inorder: list[int]) -> BinaryTreeNode|None:\n",
    "    \"\"\"\n",
    "    Use hashmap to save the idx positions of inorder.\n",
    "    Time: O(N), Space: O(N)\n",
    "    \"\"\"\n",
    "    N = len(preorder)\n",
    "    inorder_hm = dict()\n",
    "    for i, n in enumerate(inorder):\n",
    "        inorder_hm[n] = i\n",
    "\n",
    "    def helper(inorder_start: int, inorder_end: int, preorder_start: int, preorder_end: int) -> BinaryTreeNode|None:\n",
    "        N_ = preorder_end - preorder_start\n",
    "        root = BinaryTreeNode(preorder[preorder_start]) if N_ >= 0 else None\n",
    "        if root and N_ > 0:\n",
    "            idx = inorder_hm[root.val]\n",
    "            root.left = helper(inorder_start, idx - 1, preorder_start + 1, preorder_start + idx - inorder_start)\n",
    "            root.right = helper(idx + 1, inorder_end, preorder_start + 1 + idx - inorder_start, preorder_end)\n",
    "\n",
    "        return root\n",
    "\n",
    "    return helper(0, N - 1, 0, N - 1)\n",
    "\n",
    "# Testing the Solution\n",
    "buildTreeFromPreorderOptimal(inorder=[40, 20, 50, 10, 60, 30], preorder=[10, 20, 40, 50, 30, 60]).to_list()"
   ]
  },
  {
   "cell_type": "markdown",
   "id": "c0d37bdc",
   "metadata": {
    "papermill": {
     "duration": 0.017844,
     "end_time": "2024-04-14T10:25:12.830124",
     "exception": false,
     "start_time": "2024-04-14T10:25:12.812280",
     "status": "completed"
    },
    "tags": []
   },
   "source": [
    "Video Link: https://youtu.be/LgLRTaEMRVc?si=AuIS8bfI3SLknUaS\n",
    "Binary Tree from Postorder and Inorder traversal"
   ]
  },
  {
   "cell_type": "code",
   "execution_count": 38,
   "id": "53e42711",
   "metadata": {
    "execution": {
     "iopub.execute_input": "2024-04-14T10:25:12.867218Z",
     "iopub.status.busy": "2024-04-14T10:25:12.866589Z",
     "iopub.status.idle": "2024-04-14T10:25:12.875904Z",
     "shell.execute_reply": "2024-04-14T10:25:12.875049Z"
    },
    "lines_to_next_cell": 1,
    "papermill": {
     "duration": 0.029776,
     "end_time": "2024-04-14T10:25:12.877684",
     "exception": false,
     "start_time": "2024-04-14T10:25:12.847908",
     "status": "completed"
    },
    "tags": []
   },
   "outputs": [
    {
     "data": {
      "text/plain": [
       "[1, 2, 5, 3, 4, None, None, None, None, None, None]"
      ]
     },
     "execution_count": 38,
     "metadata": {},
     "output_type": "execute_result"
    }
   ],
   "source": [
    "# Better: https://leetcode.com/problems/construct-binary-tree-from-inorder-and-postorder-traversal/submissions/1230771756/\n",
    "def buildTreeFromPostorderBetter(inorder: list[int], postorder: list[int]) -> BinaryTreeNode|None:\n",
    "    \"\"\"\n",
    "    Same logic as previous question, we could technically call buildTreeFromPreorder(inorder, postorder[::-1]).\n",
    "    Instead of assigning first value as root, here we assign last value as root and backtrack.\n",
    "    \"\"\"\n",
    "    root = BinaryTreeNode(postorder[-1]) if postorder else None\n",
    "    if root and len(postorder) > 1:\n",
    "        idx = inorder.index(root.val)\n",
    "        root.left = buildTreeFromPostorderBetter(inorder[:idx], postorder[:idx])\n",
    "        root.right = buildTreeFromPostorderBetter(inorder[idx + 1:], postorder[idx: -1])\n",
    "\n",
    "    return root\n",
    "\n",
    "# Testing the Solution\n",
    "buildTreeFromPostorderBetter(inorder=[3, 2, 4, 1, 5], postorder=[3, 4, 2, 5, 1]).to_list()"
   ]
  },
  {
   "cell_type": "code",
   "execution_count": 39,
   "id": "2f83f35a",
   "metadata": {
    "execution": {
     "iopub.execute_input": "2024-04-14T10:25:12.915074Z",
     "iopub.status.busy": "2024-04-14T10:25:12.914402Z",
     "iopub.status.idle": "2024-04-14T10:25:12.924844Z",
     "shell.execute_reply": "2024-04-14T10:25:12.924052Z"
    },
    "lines_to_next_cell": 1,
    "papermill": {
     "duration": 0.03112,
     "end_time": "2024-04-14T10:25:12.926658",
     "exception": false,
     "start_time": "2024-04-14T10:25:12.895538",
     "status": "completed"
    },
    "tags": []
   },
   "outputs": [
    {
     "data": {
      "text/plain": [
       "[1, 2, 5, 3, 4, None, None, None, None, None, None]"
      ]
     },
     "execution_count": 39,
     "metadata": {},
     "output_type": "execute_result"
    }
   ],
   "source": [
    "# Optimal: https://leetcode.com/problems/construct-binary-tree-from-inorder-and-postorder-traversal/submissions/1230778263/\n",
    "def buildTreeFromPostorderOptimal(inorder: list[int], postorder: list[int]) -> BinaryTreeNode|None:\n",
    "    \"\"\"\n",
    "    Same logic as above, use a hashmap to precompute the indices for inorder.\n",
    "    \"\"\"\n",
    "    N = len(inorder)\n",
    "    hm: dict[int, int] = dict()\n",
    "    for i, n in enumerate(inorder):\n",
    "        hm[n] = i\n",
    "\n",
    "    def helper(iStart: int, iEnd: int, pStart, pEnd: int) -> BinaryTreeNode|None:\n",
    "        root = BinaryTreeNode(postorder[pEnd]) if pStart <= pEnd else None\n",
    "        if root and pStart < pEnd:\n",
    "            idx = hm[root.val]\n",
    "            root.left = helper(iStart, idx - 1, pStart, pStart + idx - iStart - 1)\n",
    "            root.right = helper(idx + 1, iEnd, pStart + idx - iStart, pEnd - 1)\n",
    "        return root\n",
    "\n",
    "    return helper(0, N - 1, 0, N - 1)\n",
    "\n",
    "# Testing the solution\n",
    "buildTreeFromPostorderOptimal(inorder=[3, 2, 4, 1, 5], postorder=[3, 4, 2, 5, 1]).to_list()"
   ]
  },
  {
   "cell_type": "markdown",
   "id": "4a30f23a",
   "metadata": {
    "papermill": {
     "duration": 0.017553,
     "end_time": "2024-04-14T10:25:12.962155",
     "exception": false,
     "start_time": "2024-04-14T10:25:12.944602",
     "status": "completed"
    },
    "tags": []
   },
   "source": [
    "Video Link: https://youtu.be/-YbXySKJsX8?si=GF9GnCHLV1gDfcWK\n",
    "Serialize and Deserialize Binary Trees"
   ]
  },
  {
   "cell_type": "code",
   "execution_count": 40,
   "id": "b286bec0",
   "metadata": {
    "execution": {
     "iopub.execute_input": "2024-04-14T10:25:12.999978Z",
     "iopub.status.busy": "2024-04-14T10:25:12.999139Z",
     "iopub.status.idle": "2024-04-14T10:25:13.011565Z",
     "shell.execute_reply": "2024-04-14T10:25:13.010865Z"
    },
    "lines_to_next_cell": 1,
    "papermill": {
     "duration": 0.033352,
     "end_time": "2024-04-14T10:25:13.013217",
     "exception": false,
     "start_time": "2024-04-14T10:25:12.979865",
     "status": "completed"
    },
    "tags": []
   },
   "outputs": [],
   "source": [
    "# https://leetcode.com/problems/serialize-and-deserialize-binary-tree/submissions/1230819565\n",
    "class Codec:\n",
    "    def serialize(self, root: BinaryTreeNode) -> str:\n",
    "        \"\"\"Encodes a tree to a single string.\"\"\"\n",
    "        def helper(curr: BinaryTreeNode) -> str:\n",
    "            if not curr:\n",
    "                return \"*\"\n",
    "            else:\n",
    "                return f\"{curr.val}({helper(curr.left)},{helper(curr.right)})\"\n",
    "\n",
    "        result = helper(root)\n",
    "        return result\n",
    "\n",
    "    def deserialize(self, data: str) -> BinaryTreeNode|None:\n",
    "        \"\"\"Decodes your encoded data to tree.\"\"\"\n",
    "        def createTree(prev: BinaryTreeNode|str|None) -> BinaryTreeNode|None:\n",
    "            if type(prev) == str:\n",
    "                return BinaryTreeNode(int(prev)) if prev.isdigit() or prev[0] == '-' else None\n",
    "            else:\n",
    "                return prev # type: ignore\n",
    "\n",
    "        stack: list[str|None|BinaryTreeNode] = []\n",
    "        for ch in data:\n",
    "            if ch.isdigit() and stack and type(stack[-1]) == str and (stack[-1].isdigit() or stack[-1][0] == '-'):\n",
    "                stack[-1] += ch\n",
    "            else:\n",
    "                stack.append(ch)\n",
    "                if ch == ')':\n",
    "                    stack.pop() # )\n",
    "                    right = createTree(stack.pop())\n",
    "                    stack.pop() # ,\n",
    "                    left = createTree(stack.pop())\n",
    "                    stack.pop() # (\n",
    "                    root = createTree(stack.pop())\n",
    "                    if root:\n",
    "                        root.left = left\n",
    "                        root.right = right\n",
    "                    stack.append(root)\n",
    "\n",
    "        return stack[0] if type(stack[0]) != str else None\n",
    "\n",
    "# Your Codec object will be instantiated and called as such:\n",
    "ser = Codec()\n",
    "out = ser.deserialize(ser.serialize(BinaryTreeNode.from_array([1,2,-13,None,None,4,25])))\n",
    "out_lst = out.to_list() if out is not None else []\n",
    "while out_lst and out_lst[-1] is None: out_lst.pop()\n",
    "assert out_lst == [1,2,-13,None,None,4,25]"
   ]
  },
  {
   "cell_type": "code",
   "execution_count": 41,
   "id": "ec2dd2db",
   "metadata": {
    "execution": {
     "iopub.execute_input": "2024-04-14T10:25:13.051106Z",
     "iopub.status.busy": "2024-04-14T10:25:13.050464Z",
     "iopub.status.idle": "2024-04-14T10:25:13.061063Z",
     "shell.execute_reply": "2024-04-14T10:25:13.060285Z"
    },
    "lines_to_next_cell": 1,
    "papermill": {
     "duration": 0.031325,
     "end_time": "2024-04-14T10:25:13.062770",
     "exception": false,
     "start_time": "2024-04-14T10:25:13.031445",
     "status": "completed"
    },
    "tags": []
   },
   "outputs": [],
   "source": [
    "# Problem link: https://leetcode.com/problems/serialize-and-deserialize-binary-tree/submissions/1231115438/\n",
    "class CodecStriver:\n",
    "    def serialize(self, root: BinaryTreeNode) -> str:\n",
    "        all_nodes: list[str] = []\n",
    "        queue: list[BinaryTreeNode] = [root]\n",
    "        while queue:\n",
    "            next_: list[BinaryTreeNode] = []\n",
    "            for curr in queue:\n",
    "                all_nodes.append(str(curr.val) if curr else '*')\n",
    "                if curr:\n",
    "                    next_.append(curr.left)\n",
    "                    next_.append(curr.right)\n",
    "\n",
    "            queue = next_\n",
    "\n",
    "        return ','.join(all_nodes)\n",
    "\n",
    "    def deserialize(self, data: str) -> BinaryTreeNode|None:\n",
    "        all_nodes: list[BinaryTreeNode] = []\n",
    "        idx: float = -1\n",
    "        for curr_val in data.split(','):\n",
    "            curr = BinaryTreeNode(int(curr_val)) if curr_val != '*' else None\n",
    "            if curr:\n",
    "                all_nodes.append(curr)\n",
    "            if idx == -1:\n",
    "                idx += 1\n",
    "            elif int(idx) == idx:\n",
    "                all_nodes[int(idx)].left = curr\n",
    "                idx += 0.5\n",
    "            else:\n",
    "                all_nodes[int(idx)].right = curr\n",
    "                idx += 0.5\n",
    "\n",
    "        return all_nodes[0] if all_nodes else None\n",
    "\n",
    "# Your Codec object will be instantiated and called as such:\n",
    "ser_ = CodecStriver()\n",
    "out = ser_.deserialize(ser_.serialize(BinaryTreeNode.from_array([1,2,-13,None,None,4,25])))\n",
    "out_lst = out.to_list() if out is not None else []\n",
    "while out_lst and out_lst[-1] is None: out_lst.pop()\n",
    "assert out_lst == [1,2,-13,None,None,4,25]"
   ]
  },
  {
   "cell_type": "markdown",
   "id": "611bda3a",
   "metadata": {
    "papermill": {
     "duration": 0.017808,
     "end_time": "2024-04-14T10:25:13.098517",
     "exception": false,
     "start_time": "2024-04-14T10:25:13.080709",
     "status": "completed"
    },
    "tags": []
   },
   "source": [
    "Morris traversal of Binary Tree\n",
    "Video Link: https://youtu.be/80Zug6D1_r4?si=Npe19WIqtFI_aa5c\n",
    "Advantage is that while it consumes O(N) time, it only takes up O(1) space"
   ]
  },
  {
   "cell_type": "code",
   "execution_count": 42,
   "id": "22ad4618",
   "metadata": {
    "execution": {
     "iopub.execute_input": "2024-04-14T10:25:13.136409Z",
     "iopub.status.busy": "2024-04-14T10:25:13.135704Z",
     "iopub.status.idle": "2024-04-14T10:25:13.143021Z",
     "shell.execute_reply": "2024-04-14T10:25:13.142205Z"
    },
    "lines_to_next_cell": 1,
    "papermill": {
     "duration": 0.028232,
     "end_time": "2024-04-14T10:25:13.144748",
     "exception": false,
     "start_time": "2024-04-14T10:25:13.116516",
     "status": "completed"
    },
    "tags": []
   },
   "outputs": [],
   "source": [
    "def morris_preorder(root: BinaryTreeNode) -> list[int]:\n",
    "    curr: BinaryTreeNode = root\n",
    "    preorder: list[int] = []\n",
    "    while curr:\n",
    "        # We are at root node\n",
    "        if not curr.left:\n",
    "            preorder.append(curr.val)\n",
    "            curr = curr.right\n",
    "\n",
    "        # Create a thread on the right most guy in the left subtree to point to curr\n",
    "        else:\n",
    "            prev: BinaryTreeNode = curr.left\n",
    "            while prev.right and prev.right != curr:\n",
    "                prev = prev.right\n",
    "\n",
    "            # Thread doesn't already exist, create a thread add curr to stack and move left\n",
    "            if not prev.right:\n",
    "                prev.right = curr\n",
    "                preorder.append(curr.val)\n",
    "                curr = curr.left\n",
    "\n",
    "            # Thread already exists, remove thread and move to right\n",
    "            else:\n",
    "                prev.right = None\n",
    "                curr = curr.right\n",
    "\n",
    "    return preorder\n",
    "\n",
    "# Testing the solution\n",
    "temp = BinaryTreeNode.from_array([1, 2, 3, 4, None, 5, 6])\n",
    "assert preorderIter(temp) == morris_preorder(temp)"
   ]
  },
  {
   "cell_type": "code",
   "execution_count": 43,
   "id": "f115e204",
   "metadata": {
    "execution": {
     "iopub.execute_input": "2024-04-14T10:25:13.183044Z",
     "iopub.status.busy": "2024-04-14T10:25:13.182322Z",
     "iopub.status.idle": "2024-04-14T10:25:13.189895Z",
     "shell.execute_reply": "2024-04-14T10:25:13.189128Z"
    },
    "lines_to_next_cell": 1,
    "papermill": {
     "duration": 0.028799,
     "end_time": "2024-04-14T10:25:13.191625",
     "exception": false,
     "start_time": "2024-04-14T10:25:13.162826",
     "status": "completed"
    },
    "tags": []
   },
   "outputs": [],
   "source": [
    "def morris_inorder(root: BinaryTreeNode) -> list[int]:\n",
    "    curr: BinaryTreeNode = root\n",
    "    inorder: list[int] = []\n",
    "    while curr:\n",
    "        if not curr.left:\n",
    "            inorder.append(curr.val)\n",
    "            curr = curr.right\n",
    "        else:\n",
    "            prev: BinaryTreeNode = curr.left\n",
    "            while prev.right and prev.right != curr:\n",
    "                prev = prev.right\n",
    "\n",
    "            if not prev.right:\n",
    "                prev.right = curr\n",
    "                curr = curr.left\n",
    "            else:\n",
    "                prev.right = None\n",
    "                inorder.append(curr.val)\n",
    "                curr = curr.right\n",
    "\n",
    "    return inorder\n",
    "\n",
    "# Testing the solution\n",
    "temp = BinaryTreeNode.from_array([1, None, 2, 3, 4, 5, None, None, None, 3])\n",
    "assert inorderIter(temp) == morris_inorder(temp)"
   ]
  },
  {
   "cell_type": "markdown",
   "id": "d5feea81",
   "metadata": {
    "papermill": {
     "duration": 0.018046,
     "end_time": "2024-04-14T10:25:13.228173",
     "exception": false,
     "start_time": "2024-04-14T10:25:13.210127",
     "status": "completed"
    },
    "tags": []
   },
   "source": [
    "Video Link: https://youtu.be/sWf7k1x9XR4?si=6Fdn4oo2ryFIdqpg\n",
    "Flatten a binary tree into a linked list"
   ]
  },
  {
   "cell_type": "code",
   "execution_count": 44,
   "id": "023ec163",
   "metadata": {
    "execution": {
     "iopub.execute_input": "2024-04-14T10:25:13.266594Z",
     "iopub.status.busy": "2024-04-14T10:25:13.265959Z",
     "iopub.status.idle": "2024-04-14T10:25:13.275586Z",
     "shell.execute_reply": "2024-04-14T10:25:13.274811Z"
    },
    "lines_to_next_cell": 1,
    "papermill": {
     "duration": 0.030747,
     "end_time": "2024-04-14T10:25:13.277399",
     "exception": false,
     "start_time": "2024-04-14T10:25:13.246652",
     "status": "completed"
    },
    "tags": []
   },
   "outputs": [
    {
     "data": {
      "text/plain": [
       "[1, None, 2, None, 3, None, 4, None, 5, None, 6, None, None]"
      ]
     },
     "execution_count": 44,
     "metadata": {},
     "output_type": "execute_result"
    }
   ],
   "source": [
    "# Problem Link: https://leetcode.com/problems/flatten-binary-tree-to-linked-list/submissions/1231697617\n",
    "def flatten(root: BinaryTreeNode) -> None:\n",
    "    def backtrack(curr: BinaryTreeNode) -> tuple[BinaryTreeNode|None, BinaryTreeNode|None]:\n",
    "        \"Flattens and returns root and the right most node\"\n",
    "        if not curr:\n",
    "            return (None, None)\n",
    "        else:\n",
    "            left_root, left_right = backtrack(curr.left)\n",
    "            right_root, right_right = backtrack(curr.right)\n",
    "            curr.left = None\n",
    "            if left_root and left_right:\n",
    "                curr.right = left_root\n",
    "                left_right.right = right_root\n",
    "\n",
    "            return curr, right_right if right_root else left_right if left_root else curr\n",
    "\n",
    "    backtrack(root)\n",
    "\n",
    "# Testing the solution\n",
    "temp = BinaryTreeNode.from_array([1,2,5,3,4,None,6])\n",
    "flatten(temp)\n",
    "temp.to_list()"
   ]
  },
  {
   "cell_type": "code",
   "execution_count": 45,
   "id": "49e59c7c",
   "metadata": {
    "execution": {
     "iopub.execute_input": "2024-04-14T10:25:13.315755Z",
     "iopub.status.busy": "2024-04-14T10:25:13.315106Z",
     "iopub.status.idle": "2024-04-14T10:25:13.323414Z",
     "shell.execute_reply": "2024-04-14T10:25:13.322614Z"
    },
    "lines_to_next_cell": 1,
    "papermill": {
     "duration": 0.029344,
     "end_time": "2024-04-14T10:25:13.325137",
     "exception": false,
     "start_time": "2024-04-14T10:25:13.295793",
     "status": "completed"
    },
    "tags": []
   },
   "outputs": [
    {
     "data": {
      "text/plain": [
       "[1, None, 2, None, 3, None, 4, None, 5, None, 6, None, None]"
      ]
     },
     "execution_count": 45,
     "metadata": {},
     "output_type": "execute_result"
    }
   ],
   "source": [
    "# https://leetcode.com/problems/flatten-binary-tree-to-linked-list/submissions/1232051009\n",
    "def flattenStriverBacktrack(root: BinaryTreeNode):\n",
    "    \"\"\"\n",
    "    Idea is to use a reverse post order: Right, Left, Root.\n",
    "    Prev variable contains the right node connection for curr node to make.\n",
    "    \"\"\"\n",
    "    def backtrack(curr: BinaryTreeNode, prev: BinaryTreeNode):\n",
    "        if curr:\n",
    "            prev = backtrack(curr.right, prev)\n",
    "            prev = backtrack(curr.left, prev)\n",
    "            curr.left = None\n",
    "            curr.right = prev\n",
    "\n",
    "        return curr if curr else prev\n",
    "\n",
    "    backtrack(root, None)\n",
    "\n",
    "# Testing the solution\n",
    "temp = BinaryTreeNode.from_array([1,2,5,3,4,None,6])\n",
    "flattenStriverBacktrack(temp)\n",
    "temp.to_list()"
   ]
  },
  {
   "cell_type": "code",
   "execution_count": null,
   "id": "e4a662da",
   "metadata": {},
   "outputs": [],
   "source": [
    "def flattenStriverIter(root: BinaryTreeNode):\n",
    "    \"Same as code above but using stack\"\n",
    "    stack: list[BinaryTreeNode] = [root]\n",
    "    while stack:\n",
    "        curr = stack.pop()\n",
    "        if curr.right:\n",
    "            stack.append(curr.right)\n",
    "        if curr.left:\n",
    "            stack.append(curr.left)\n",
    "        curr.left = None\n",
    "        if stack:\n",
    "            curr.right = stack[-1]\n",
    "\n",
    "# Testing the solution\n",
    "temp = BinaryTreeNode.from_array([1,2,5,3,4,None,6])\n",
    "flattenStriverIter(temp)\n",
    "temp.to_list()"
   ]
  }
 ],
 "metadata": {
  "kernelspec": {
   "display_name": "Python 3 (ipykernel)",
   "language": "python",
   "name": "python3"
  },
  "language_info": {
   "codemirror_mode": {
    "name": "ipython",
    "version": 3
   },
   "file_extension": ".py",
   "mimetype": "text/x-python",
   "name": "python",
   "nbconvert_exporter": "python",
   "pygments_lexer": "ipython3",
   "version": "3.10.14"
  },
  "papermill": {
   "default_parameters": {},
   "duration": 4.64859,
   "end_time": "2024-04-14T10:25:13.561598",
   "environment_variables": {},
   "exception": null,
   "input_path": "study/striver-A2Z/10-trees.ipynb",
   "output_path": "study/striver-A2Z/10-trees.ipynb",
   "parameters": {},
   "start_time": "2024-04-14T10:25:08.913008",
   "version": "2.5.0"
  }
 },
 "nbformat": 4,
 "nbformat_minor": 5
}
