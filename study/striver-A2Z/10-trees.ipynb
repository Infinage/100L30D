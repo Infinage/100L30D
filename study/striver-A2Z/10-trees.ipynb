{
 "cells": [
  {
   "cell_type": "markdown",
   "id": "b29f23a5",
   "metadata": {
    "papermill": {
     "duration": 0.01319,
     "end_time": "2024-04-11T17:11:48.385381",
     "exception": false,
     "start_time": "2024-04-11T17:11:48.372191",
     "status": "completed"
    },
    "tags": []
   },
   "source": [
    "##### Types of binary trees (https://youtu.be/_ANrF3FJm7I?si=DZzUQr9F7dexWewB)\n",
    "1. Full Binary Tree: Each node has 0 or 2 children.\n",
    "2. Complete Binary Tree: All levels are completely filled except the last, which is filled as left as possible.\n",
    "3. Perfect Binary Tree: All leaf nodes are of the same level (all nodes have 2 children except the leaf).\n",
    "4. Balanced Binary Tree: Height of the left and right subtree of any node differ by not more than 1 / Max height of tree is log (no of nodes).\n",
    "5. Degenerate Binary Tree: Every node has a singe children except the leaf node (left skewed or right skewed).\n",
    "\n",
    "##### Binary Tree Traversals (https://youtu.be/jmy0LaGET1I?si=1o8rYIcijmpRxZHq)\n",
    "\n",
    "###### Depth First Search Traversal Techniques\n",
    "Hint 1: Pre - Root first, Post: Root last, In: Root middle <BR>\n",
    "Hint 2: Left, Right order is preserved for all traversals\n",
    "1. In-Order Traversal: Left, Root, Right\n",
    "2. Pre-Order Traversal: Root, Left, Right\n",
    "3. Post-Order Traversal: Left, Right, Root\n",
    "\n",
    "###### Breadth First Search\n",
    "1. Level Order Traversal: All nodes of same level are iterated through before moving to the next level.\n",
    "1. Boundary Traversal: Left boundary (left nodes excluding leaf), Leaf nodes, Right boundary nodes (right nodes excluding leaf).\n",
    "2. Diagnoal Traversal: Nodes of same diagnol are traversed one after another.\n",
    "\n",
    "##### Some properties of Binary Trees\n",
    "- Max nodes at any level: 2 ** (N - 1)"
   ]
  },
  {
   "cell_type": "markdown",
   "id": "3d2598bc",
   "metadata": {
    "papermill": {
     "duration": 0.011999,
     "end_time": "2024-04-11T17:11:48.409635",
     "exception": false,
     "start_time": "2024-04-11T17:11:48.397636",
     "status": "completed"
    },
    "tags": []
   },
   "source": [
    "#### Some useful imports"
   ]
  },
  {
   "cell_type": "code",
   "execution_count": 1,
   "id": "b692ea03",
   "metadata": {
    "execution": {
     "iopub.execute_input": "2024-04-11T17:11:48.435554Z",
     "iopub.status.busy": "2024-04-11T17:11:48.434859Z",
     "iopub.status.idle": "2024-04-11T17:11:48.445032Z",
     "shell.execute_reply": "2024-04-11T17:11:48.444270Z"
    },
    "lines_to_next_cell": 1,
    "papermill": {
     "duration": 0.025371,
     "end_time": "2024-04-11T17:11:48.446939",
     "exception": false,
     "start_time": "2024-04-11T17:11:48.421568",
     "status": "completed"
    },
    "tags": []
   },
   "outputs": [],
   "source": [
    "import math\n",
    "import collections\n",
    "import itertools\n",
    "import bisect\n",
    "import heapq"
   ]
  },
  {
   "cell_type": "markdown",
   "id": "c70ac08c",
   "metadata": {
    "papermill": {
     "duration": 0.012535,
     "end_time": "2024-04-11T17:11:48.471708",
     "exception": false,
     "start_time": "2024-04-11T17:11:48.459173",
     "status": "completed"
    },
    "tags": []
   },
   "source": [
    "#### Helper for Binary tree problems"
   ]
  },
  {
   "cell_type": "code",
   "execution_count": 2,
   "id": "4c5d251b",
   "metadata": {
    "execution": {
     "iopub.execute_input": "2024-04-11T17:11:48.497934Z",
     "iopub.status.busy": "2024-04-11T17:11:48.497108Z",
     "iopub.status.idle": "2024-04-11T17:11:48.507573Z",
     "shell.execute_reply": "2024-04-11T17:11:48.506895Z"
    },
    "lines_to_next_cell": 1,
    "papermill": {
     "duration": 0.025469,
     "end_time": "2024-04-11T17:11:48.509240",
     "exception": false,
     "start_time": "2024-04-11T17:11:48.483771",
     "status": "completed"
    },
    "tags": []
   },
   "outputs": [],
   "source": [
    "class BinaryTreeNode:\n",
    "    def __init__(self, val=0, left=None, right=None):\n",
    "        self.val = val\n",
    "        self.left = left\n",
    "        self.right = right\n",
    "\n",
    "    def to_list(self):\n",
    "        to_visit = [self]\n",
    "        visited = []\n",
    "        while len(to_visit) > 0:\n",
    "            curr = to_visit.pop(0)\n",
    "            if curr:\n",
    "                to_visit.append(curr.left)\n",
    "                to_visit.append(curr.right)\n",
    "                visited.append(curr.val)\n",
    "            else:\n",
    "                visited.append(curr)\n",
    "        return visited\n",
    "\n",
    "    def __str__(self):\n",
    "        return str(self.val)\n",
    "\n",
    "    @staticmethod\n",
    "    def from_array(nums: list[int|None]):\n",
    "        '''Create a Tree from a list of nums. Returns the root node.'''\n",
    "        if len(nums) == 0:\n",
    "            return None\n",
    "        elif len(nums) == 1:\n",
    "            return BinaryTreeNode(nums[0])\n",
    "        else:\n",
    "            forest = [BinaryTreeNode(nums[0])]\n",
    "            parent_idx = -1\n",
    "            for i in range(1, len(nums)):\n",
    "\n",
    "                curr = None\n",
    "                if nums[i] is not None:\n",
    "                    curr = BinaryTreeNode(nums[i])\n",
    "                    forest.append(curr)\n",
    "\n",
    "                if i % 2 == 1:\n",
    "                    parent_idx += 1\n",
    "                    forest[parent_idx].left = curr\n",
    "                else:\n",
    "                    forest[parent_idx].right = curr\n",
    "\n",
    "        return forest[0]"
   ]
  },
  {
   "cell_type": "markdown",
   "id": "b18d099c",
   "metadata": {
    "papermill": {
     "duration": 0.01197,
     "end_time": "2024-04-11T17:11:48.533389",
     "exception": false,
     "start_time": "2024-04-11T17:11:48.521419",
     "status": "completed"
    },
    "tags": []
   },
   "source": [
    "#### Helper for Singly Linked lists"
   ]
  },
  {
   "cell_type": "code",
   "execution_count": 3,
   "id": "f4314d5d",
   "metadata": {
    "execution": {
     "iopub.execute_input": "2024-04-11T17:11:48.559109Z",
     "iopub.status.busy": "2024-04-11T17:11:48.558369Z",
     "iopub.status.idle": "2024-04-11T17:11:48.565251Z",
     "shell.execute_reply": "2024-04-11T17:11:48.564490Z"
    },
    "lines_to_next_cell": 1,
    "papermill": {
     "duration": 0.021827,
     "end_time": "2024-04-11T17:11:48.567118",
     "exception": false,
     "start_time": "2024-04-11T17:11:48.545291",
     "status": "completed"
    },
    "tags": []
   },
   "outputs": [],
   "source": [
    "class ListNode:\n",
    "    def __init__(self, val=0, next=None):\n",
    "        self.val = val\n",
    "        self.next = next\n",
    "\n",
    "    def __str__(self):\n",
    "        return str(self.val)\n",
    "\n",
    "    @staticmethod\n",
    "    def to_singly_linked_list(nums: list[int]):\n",
    "        root = prev = None\n",
    "        for n in nums:\n",
    "            curr = ListNode(n)\n",
    "            # Init once\n",
    "            if not root:\n",
    "                root = curr\n",
    "            if prev:\n",
    "                prev.next = curr\n",
    "            prev = curr\n",
    "\n",
    "        return root\n",
    "\n",
    "    def to_list(self) -> list[int]:\n",
    "        result = []\n",
    "        curr = self\n",
    "        while curr:\n",
    "            result.append(curr.val)\n",
    "            curr = curr.next\n",
    "        return result"
   ]
  },
  {
   "cell_type": "markdown",
   "id": "d43fd3d0",
   "metadata": {
    "papermill": {
     "duration": 0.012073,
     "end_time": "2024-04-11T17:11:48.591331",
     "exception": false,
     "start_time": "2024-04-11T17:11:48.579258",
     "status": "completed"
    },
    "tags": []
   },
   "source": [
    "Inorder, Postorder, Preorder "
   ]
  },
  {
   "cell_type": "code",
   "execution_count": 4,
   "id": "17b6ec0d",
   "metadata": {
    "execution": {
     "iopub.execute_input": "2024-04-11T17:11:48.617346Z",
     "iopub.status.busy": "2024-04-11T17:11:48.616665Z",
     "iopub.status.idle": "2024-04-11T17:11:48.627142Z",
     "shell.execute_reply": "2024-04-11T17:11:48.626351Z"
    },
    "lines_to_next_cell": 1,
    "papermill": {
     "duration": 0.025266,
     "end_time": "2024-04-11T17:11:48.628843",
     "exception": false,
     "start_time": "2024-04-11T17:11:48.603577",
     "status": "completed"
    },
    "tags": []
   },
   "outputs": [],
   "source": [
    "def getTreeTraversal(root: BinaryTreeNode) -> tuple[list[int], list[int], list[int]]:\n",
    "    inorder_: list[int] = []\n",
    "    def inorder(root: BinaryTreeNode) -> None:\n",
    "        if not root:\n",
    "            return\n",
    "        else:\n",
    "            inorder(root.left)\n",
    "            inorder_.append(root.val)\n",
    "            inorder(root.right)\n",
    "\n",
    "    preorder_: list[int] = []\n",
    "    def preorder(root: BinaryTreeNode) -> None:\n",
    "        if not root:\n",
    "            return\n",
    "        else:\n",
    "            preorder_.append(root.val)\n",
    "            preorder(root.left)\n",
    "            preorder(root.right)\n",
    "\n",
    "    postorder_: list[int] = []\n",
    "    def postorder(root: BinaryTreeNode) -> None:\n",
    "        if not root:\n",
    "            return\n",
    "        else:\n",
    "            postorder(root.left)\n",
    "            postorder(root.right)\n",
    "            postorder_.append(root.val)\n",
    "\n",
    "    # Traverse & save the order op to a list, print it\n",
    "    inorder(root)\n",
    "    preorder(root)\n",
    "    postorder(root)\n",
    "    return (preorder_, inorder_, postorder_)\n",
    "    return (inorder_, preorder_, postorder_)\n",
    "\n",
    "# Testing the solution\n",
    "assert getTreeTraversal(BinaryTreeNode.from_array([1, 3, 4, 5, 2, 7, 6])) == ([1, 3, 5, 2, 4, 7, 6], [5, 3, 2, 1, 7, 4, 6], [5, 2, 3, 7, 6, 4, 1])"
   ]
  },
  {
   "cell_type": "markdown",
   "id": "565ebd42",
   "metadata": {
    "papermill": {
     "duration": 0.011922,
     "end_time": "2024-04-11T17:11:48.653057",
     "exception": false,
     "start_time": "2024-04-11T17:11:48.641135",
     "status": "completed"
    },
    "tags": []
   },
   "source": [
    "Level Order Traversal"
   ]
  },
  {
   "cell_type": "code",
   "execution_count": 5,
   "id": "88639bd0",
   "metadata": {
    "execution": {
     "iopub.execute_input": "2024-04-11T17:11:48.678333Z",
     "iopub.status.busy": "2024-04-11T17:11:48.677971Z",
     "iopub.status.idle": "2024-04-11T17:11:48.685266Z",
     "shell.execute_reply": "2024-04-11T17:11:48.684546Z"
    },
    "lines_to_next_cell": 1,
    "papermill": {
     "duration": 0.022114,
     "end_time": "2024-04-11T17:11:48.687053",
     "exception": false,
     "start_time": "2024-04-11T17:11:48.664939",
     "status": "completed"
    },
    "tags": []
   },
   "outputs": [],
   "source": [
    "def levelOrder(root: BinaryTreeNode) -> list[list[int]]:\n",
    "    next_: list[BinaryTreeNode] = [root]\n",
    "    traversed: list[list[int]] = []\n",
    "    while next_:\n",
    "        traversed.append([])\n",
    "        temp: list[BinaryTreeNode] = []\n",
    "        for curr in next_:\n",
    "            if curr:\n",
    "                temp.append(curr.left)\n",
    "                temp.append(curr.right)\n",
    "                traversed[-1].append(curr.val)\n",
    "        if not traversed[-1]:\n",
    "            traversed.pop()\n",
    "        next_ = temp\n",
    "\n",
    "    return traversed\n",
    "\n",
    "# Testing the solution\n",
    "assert levelOrder(BinaryTreeNode.from_array([3,9,20,None,None,15,7])) == [[3], [9, 20], [15, 7]]\n",
    "assert levelOrder(BinaryTreeNode.from_array([1])) == [[1]]"
   ]
  },
  {
   "cell_type": "markdown",
   "id": "d59819aa",
   "metadata": {
    "papermill": {
     "duration": 0.011793,
     "end_time": "2024-04-11T17:11:48.710854",
     "exception": false,
     "start_time": "2024-04-11T17:11:48.699061",
     "status": "completed"
    },
    "tags": []
   },
   "source": [
    "Video Link: https://www.youtube.com/watch?v=Bfqd8BsPVuw&list=PLgUwDviBIf0oF6QL8m22w1hIDC1vJ_BHz&index=81\n",
    "Iterative Preorder traversal\n",
    "\n",
    "# %%\n",
    "def preorderIter(root: BinaryTreeNode) -> list[int]:\n",
    "    \"\"\"\n",
    "    Root, Left, Right. The idea is the push right first and then the left,\n",
    "    since stack only works when we are popping -1 at each step.\n",
    "\n",
    "    Time: O(N), Space: O(Height of Binary Tree)\n",
    "    \"\"\"\n",
    "    result: list[int] = []\n",
    "    stack: list[BinaryTreeNode] = [root]\n",
    "    while stack:\n",
    "        curr = stack.pop()\n",
    "        if curr:\n",
    "            result.append(curr.val)\n",
    "            stack.append(curr.right)\n",
    "            stack.append(curr.left)\n",
    "\n",
    "    return result\n",
    "\n",
    "Testing the solution\n",
    "assert preorderIter(BinaryTreeNode.from_array([1, None, 2, 3])) == [1, 2, 3]\n",
    "assert preorderIter(BinaryTreeNode.from_array([1, 2, 7, 3, 4, None, None, None, None, 5, 6])) == [1, 2, 3, 4, 5, 6, 7]"
   ]
  },
  {
   "cell_type": "markdown",
   "id": "3a949dc1",
   "metadata": {
    "papermill": {
     "duration": 0.011698,
     "end_time": "2024-04-11T17:11:48.734507",
     "exception": false,
     "start_time": "2024-04-11T17:11:48.722809",
     "status": "completed"
    },
    "tags": []
   },
   "source": [
    "Video Link: https://www.youtube.com/watch?v=lxTGsVXjwvM&list=PLgUwDviBIf0oF6QL8m22w1hIDC1vJ_BHz&index=82\n",
    "Iterative Inorder traversal"
   ]
  },
  {
   "cell_type": "code",
   "execution_count": 6,
   "id": "f322e25b",
   "metadata": {
    "execution": {
     "iopub.execute_input": "2024-04-11T17:11:48.760477Z",
     "iopub.status.busy": "2024-04-11T17:11:48.759760Z",
     "iopub.status.idle": "2024-04-11T17:11:48.766401Z",
     "shell.execute_reply": "2024-04-11T17:11:48.765719Z"
    },
    "lines_to_next_cell": 1,
    "papermill": {
     "duration": 0.021592,
     "end_time": "2024-04-11T17:11:48.768124",
     "exception": false,
     "start_time": "2024-04-11T17:11:48.746532",
     "status": "completed"
    },
    "tags": []
   },
   "outputs": [],
   "source": [
    "def inorderIter(root: BinaryTreeNode) -> list[int]:\n",
    "    \"\"\"\n",
    "    Left, Root, Right.\n",
    "\n",
    "    If curr is not null, move to its left and append curr to the stack.\n",
    "    Else pop the last item from stack, print it and move to right of the popped element.\n",
    "    \"\"\"\n",
    "    result: list[int] = []\n",
    "    stack: list[BinaryTreeNode] = []\n",
    "    curr = root\n",
    "    while True:\n",
    "        if curr:\n",
    "            stack.append(curr)\n",
    "            curr = curr.left\n",
    "        else:\n",
    "            if stack:\n",
    "                curr = stack.pop()\n",
    "                result.append(curr.val)\n",
    "                curr = curr.right\n",
    "            else:\n",
    "                break\n",
    "\n",
    "    return result\n",
    "\n",
    "# Testing the solution\n",
    "assert inorderIter(BinaryTreeNode.from_array([1, None, 2, 3])) == [1, 3 ,2]"
   ]
  },
  {
   "cell_type": "markdown",
   "id": "bc03474b",
   "metadata": {
    "papermill": {
     "duration": 0.011758,
     "end_time": "2024-04-11T17:11:48.792017",
     "exception": false,
     "start_time": "2024-04-11T17:11:48.780259",
     "status": "completed"
    },
    "tags": []
   },
   "source": [
    "Video Link: https://www.youtube.com/watch?v=2YBhNLodD8Q&list=PLgUwDviBIf0oF6QL8m22w1hIDC1vJ_BHz&index=83\n",
    "Iterative post order traversal"
   ]
  },
  {
   "cell_type": "code",
   "execution_count": 7,
   "id": "a728f1cf",
   "metadata": {
    "execution": {
     "iopub.execute_input": "2024-04-11T17:11:48.817754Z",
     "iopub.status.busy": "2024-04-11T17:11:48.817070Z",
     "iopub.status.idle": "2024-04-11T17:11:48.823440Z",
     "shell.execute_reply": "2024-04-11T17:11:48.822772Z"
    },
    "lines_to_next_cell": 1,
    "papermill": {
     "duration": 0.021205,
     "end_time": "2024-04-11T17:11:48.825125",
     "exception": false,
     "start_time": "2024-04-11T17:11:48.803920",
     "status": "completed"
    },
    "tags": []
   },
   "outputs": [],
   "source": [
    "def postorderIter(root: BinaryTreeNode) -> list[int]:\n",
    "    \"\"\"\n",
    "    Left, Right, Root.\n",
    "\n",
    "    Go root, right, left similar to how we do preorder and reverse the result.\n",
    "    \"\"\"\n",
    "    stack1: list[BinaryTreeNode] = [root]\n",
    "    stack2: list[int] = []\n",
    "    while stack1:\n",
    "        curr = stack1.pop()\n",
    "        if curr:\n",
    "            stack2.append(curr.val)\n",
    "            stack1.append(curr.left)\n",
    "            stack1.append(curr.right)\n",
    "\n",
    "    stack2.reverse()\n",
    "    return stack2\n",
    "\n",
    "# Testing the solution\n",
    "assert postorderIter(BinaryTreeNode.from_array([1, 2, 3, 4, 5, 6, None, None, None, None, None, None, 7])) == [4, 5, 2, 7, 6, 3, 1]"
   ]
  },
  {
   "cell_type": "markdown",
   "id": "c2506b05",
   "metadata": {
    "papermill": {
     "duration": 0.012009,
     "end_time": "2024-04-11T17:11:48.849299",
     "exception": false,
     "start_time": "2024-04-11T17:11:48.837290",
     "status": "completed"
    },
    "tags": []
   },
   "source": [
    "Video Link: https://www.youtube.com/watch?v=NzIGLLwZBS8&list=PLgUwDviBIf0oF6QL8m22w1hIDC1vJ_BHz&index=84\n",
    "Iterative post order traversal using single stack\n",
    "From striver: \"This topic is bit tricky, so try to dry run some trees. Its kinda algorithm that you need to remember. Cannot help\""
   ]
  },
  {
   "cell_type": "code",
   "execution_count": 8,
   "id": "b8f98a3a",
   "metadata": {
    "execution": {
     "iopub.execute_input": "2024-04-11T17:11:48.875260Z",
     "iopub.status.busy": "2024-04-11T17:11:48.874587Z",
     "iopub.status.idle": "2024-04-11T17:11:48.887105Z",
     "shell.execute_reply": "2024-04-11T17:11:48.886262Z"
    },
    "lines_to_next_cell": 1,
    "papermill": {
     "duration": 0.027489,
     "end_time": "2024-04-11T17:11:48.888868",
     "exception": false,
     "start_time": "2024-04-11T17:11:48.861379",
     "status": "completed"
    },
    "tags": []
   },
   "outputs": [
    {
     "data": {
      "text/plain": [
       "[6, 5, 4, 3, 2, 8, 7, 1]"
      ]
     },
     "execution_count": 8,
     "metadata": {},
     "output_type": "execute_result"
    }
   ],
   "source": [
    "def postorderIter_single_stack(root: BinaryTreeNode) -> list[int]:\n",
    "    \"Time: O(2N), Space: O(N)\"\n",
    "    result: list[int] = []\n",
    "    stack: list[BinaryTreeNode] = []\n",
    "    curr = root\n",
    "    while curr or stack:\n",
    "        if curr:\n",
    "            stack.append(curr)\n",
    "            curr = curr.left\n",
    "        else:\n",
    "            temp = stack[-1].right\n",
    "            if not temp:\n",
    "                temp = stack.pop()\n",
    "                result.append(temp.val)\n",
    "                while stack and temp == stack[-1].right:\n",
    "                    temp = stack.pop()\n",
    "                    result.append(temp.val)\n",
    "            else:\n",
    "                curr = temp\n",
    "\n",
    "    return result\n",
    "\n",
    "# Testing the solution\n",
    "postorderIter_single_stack(BinaryTreeNode.from_array([1, 2, 7, 3, None, 8, None, None, 4, None, None, None, 5, None, 6]))"
   ]
  },
  {
   "cell_type": "markdown",
   "id": "cd401b3e",
   "metadata": {
    "papermill": {
     "duration": 0.012085,
     "end_time": "2024-04-11T17:11:48.913266",
     "exception": false,
     "start_time": "2024-04-11T17:11:48.901181",
     "status": "completed"
    },
    "tags": []
   },
   "source": [
    "Video Link: https://youtu.be/ySp2epYvgTE?si=TItCZRCbbFnyQlyi\n",
    "Post Order, In Order, Pre Order Traversal in one iteration"
   ]
  },
  {
   "cell_type": "code",
   "execution_count": 9,
   "id": "ac069236",
   "metadata": {
    "execution": {
     "iopub.execute_input": "2024-04-11T17:11:48.939557Z",
     "iopub.status.busy": "2024-04-11T17:11:48.938830Z",
     "iopub.status.idle": "2024-04-11T17:11:48.947432Z",
     "shell.execute_reply": "2024-04-11T17:11:48.946774Z"
    },
    "lines_to_next_cell": 1,
    "papermill": {
     "duration": 0.023701,
     "end_time": "2024-04-11T17:11:48.949156",
     "exception": false,
     "start_time": "2024-04-11T17:11:48.925455",
     "status": "completed"
    },
    "tags": []
   },
   "outputs": [],
   "source": [
    "def getTreeTraversal_single_traversal(root: BinaryTreeNode) -> tuple[list[int], list[int], list[int]]:\n",
    "    \"Time: O(3N), Space: O(1)\"\n",
    "\n",
    "    preorder: list[int] = []\n",
    "    inorder: list[int] = []\n",
    "    postorder: list[int] = []\n",
    "\n",
    "    stack: list[tuple[BinaryTreeNode, int]] = [(root, 1)]\n",
    "    while stack:\n",
    "        curr, op = stack.pop()\n",
    "        if curr and op == 1:\n",
    "            preorder.append(curr.val)\n",
    "            stack.append((curr, op + 1))\n",
    "            stack.append((curr.left, 1))\n",
    "        elif curr and op == 2:\n",
    "            inorder.append(curr.val)\n",
    "            stack.append((curr, op + 1))\n",
    "            stack.append((curr.right, 1))\n",
    "        else:\n",
    "            if curr:\n",
    "                postorder.append(curr.val)\n",
    "\n",
    "    return preorder, inorder, postorder\n",
    "\n",
    "# Testing the solution\n",
    "temp = BinaryTreeNode.from_array([1, 3, 4, 5, 2, 7, 6])\n",
    "assert getTreeTraversal(temp) == getTreeTraversal_single_traversal(temp)"
   ]
  },
  {
   "cell_type": "markdown",
   "id": "5689f6ec",
   "metadata": {
    "papermill": {
     "duration": 0.011977,
     "end_time": "2024-04-11T17:11:48.973354",
     "exception": false,
     "start_time": "2024-04-11T17:11:48.961377",
     "status": "completed"
    },
    "tags": []
   },
   "source": [
    "Maximum Depth of a Binary Tree: https://www.youtube.com/watch?v=eD3tmO66aBA&list=PLgUwDviBIf0oF6QL8m22w1hIDC1vJ_BHz&index=86"
   ]
  },
  {
   "cell_type": "code",
   "execution_count": 10,
   "id": "77506355",
   "metadata": {
    "execution": {
     "iopub.execute_input": "2024-04-11T17:11:48.999921Z",
     "iopub.status.busy": "2024-04-11T17:11:48.999115Z",
     "iopub.status.idle": "2024-04-11T17:11:49.005552Z",
     "shell.execute_reply": "2024-04-11T17:11:49.004895Z"
    },
    "lines_to_next_cell": 1,
    "papermill": {
     "duration": 0.021663,
     "end_time": "2024-04-11T17:11:49.007329",
     "exception": false,
     "start_time": "2024-04-11T17:11:48.985666",
     "status": "completed"
    },
    "tags": []
   },
   "outputs": [],
   "source": [
    "# Level Order Traversal\n",
    "def maxDepthIter(root: BinaryTreeNode) -> int:\n",
    "    \"Time: O(N), Space: O(N)\"\n",
    "\n",
    "    to_traverse: list[BinaryTreeNode] = [root]\n",
    "    height = 0\n",
    "    while to_traverse:\n",
    "        height += 1\n",
    "        next_: list[BinaryTreeNode] = []\n",
    "        for node in to_traverse:\n",
    "            if node:\n",
    "                next_.append(node.left)\n",
    "                next_.append(node.right)\n",
    "        to_traverse = next_\n",
    "\n",
    "    return height - 1\n",
    "\n",
    "# Testing the solution\n",
    "assert maxDepthIter(BinaryTreeNode.from_array([3,9,20,None,None,15,7])) == 3"
   ]
  },
  {
   "cell_type": "code",
   "execution_count": 11,
   "id": "ad1799a0",
   "metadata": {
    "execution": {
     "iopub.execute_input": "2024-04-11T17:11:49.033459Z",
     "iopub.status.busy": "2024-04-11T17:11:49.032932Z",
     "iopub.status.idle": "2024-04-11T17:11:49.039050Z",
     "shell.execute_reply": "2024-04-11T17:11:49.038302Z"
    },
    "lines_to_next_cell": 1,
    "papermill": {
     "duration": 0.021021,
     "end_time": "2024-04-11T17:11:49.040685",
     "exception": false,
     "start_time": "2024-04-11T17:11:49.019664",
     "status": "completed"
    },
    "tags": []
   },
   "outputs": [],
   "source": [
    "def maxDepthRecursive(root: BinaryTreeNode) -> int:\n",
    "\n",
    "    max_: int = 0\n",
    "    def backtrack(curr: BinaryTreeNode, height: int = 0):\n",
    "        nonlocal max_\n",
    "        if not curr:\n",
    "            max_ = max(max_, height)\n",
    "            return\n",
    "        else:\n",
    "            backtrack(curr.left, height + 1)\n",
    "            backtrack(curr.right, height + 1)\n",
    "\n",
    "    backtrack(root)\n",
    "    return max_\n",
    "\n",
    "# Testing the solution\n",
    "assert maxDepthRecursive(BinaryTreeNode.from_array([3,9,20,None,None,15,7])) == 3"
   ]
  },
  {
   "cell_type": "code",
   "execution_count": 12,
   "id": "593ac16d",
   "metadata": {
    "execution": {
     "iopub.execute_input": "2024-04-11T17:11:49.067145Z",
     "iopub.status.busy": "2024-04-11T17:11:49.066421Z",
     "iopub.status.idle": "2024-04-11T17:11:49.071663Z",
     "shell.execute_reply": "2024-04-11T17:11:49.070891Z"
    },
    "lines_to_next_cell": 1,
    "papermill": {
     "duration": 0.020438,
     "end_time": "2024-04-11T17:11:49.073457",
     "exception": false,
     "start_time": "2024-04-11T17:11:49.053019",
     "status": "completed"
    },
    "tags": []
   },
   "outputs": [],
   "source": [
    "def maxDepthStriver(root: BinaryTreeNode) -> int:\n",
    "    if not root:\n",
    "        return 0\n",
    "    else:\n",
    "        left = maxDepthStriver(root.left)\n",
    "        right = maxDepthStriver(root.right)\n",
    "        return 1 + max(left, right)\n",
    "\n",
    "# Testing the solution\n",
    "assert maxDepthStriver(BinaryTreeNode.from_array([3,9,20,None,None,15,7])) == 3"
   ]
  },
  {
   "cell_type": "markdown",
   "id": "83812466",
   "metadata": {
    "papermill": {
     "duration": 0.011984,
     "end_time": "2024-04-11T17:11:49.097788",
     "exception": false,
     "start_time": "2024-04-11T17:11:49.085804",
     "status": "completed"
    },
    "tags": []
   },
   "source": [
    "Check for balanced Binary Tree: https://youtu.be/Yt50Jfbd8Po?si=pqjd9p-_S-9vRrmG"
   ]
  },
  {
   "cell_type": "code",
   "execution_count": 13,
   "id": "fc21bd9b",
   "metadata": {
    "execution": {
     "iopub.execute_input": "2024-04-11T17:11:49.124276Z",
     "iopub.status.busy": "2024-04-11T17:11:49.123786Z",
     "iopub.status.idle": "2024-04-11T17:11:49.130345Z",
     "shell.execute_reply": "2024-04-11T17:11:49.129571Z"
    },
    "lines_to_next_cell": 1,
    "papermill": {
     "duration": 0.021682,
     "end_time": "2024-04-11T17:11:49.131985",
     "exception": false,
     "start_time": "2024-04-11T17:11:49.110303",
     "status": "completed"
    },
    "tags": []
   },
   "outputs": [],
   "source": [
    "def isBalanced(root: BinaryTreeNode) -> bool:\n",
    "    def checkHeight(curr: BinaryTreeNode) -> int:\n",
    "        if not curr:\n",
    "            return 0\n",
    "        else:\n",
    "            left = checkHeight(curr.left)\n",
    "            if left == -1:\n",
    "                return -1\n",
    "            right = checkHeight(curr.right)\n",
    "            if right == -1:\n",
    "                return -1\n",
    "            if abs(left - right) > 1:\n",
    "                return -1\n",
    "            else:\n",
    "                return 1 + max(left, right)\n",
    "\n",
    "    return checkHeight(root) != -1\n",
    "\n",
    "# Testing the solution\n",
    "assert isBalanced(BinaryTreeNode.from_array([1,2,2,3,3,None,None,4,4])) == False"
   ]
  },
  {
   "cell_type": "markdown",
   "id": "77ff8f23",
   "metadata": {
    "papermill": {
     "duration": 0.012125,
     "end_time": "2024-04-11T17:11:49.156467",
     "exception": false,
     "start_time": "2024-04-11T17:11:49.144342",
     "status": "completed"
    },
    "tags": []
   },
   "source": [
    "Diameter of Binary Tree: https://youtu.be/Rezetez59Nk?si=9WeCIb_ik5elrVZm"
   ]
  },
  {
   "cell_type": "code",
   "execution_count": 14,
   "id": "ce78d08b",
   "metadata": {
    "execution": {
     "iopub.execute_input": "2024-04-11T17:11:49.182713Z",
     "iopub.status.busy": "2024-04-11T17:11:49.181965Z",
     "iopub.status.idle": "2024-04-11T17:11:49.189996Z",
     "shell.execute_reply": "2024-04-11T17:11:49.189249Z"
    },
    "lines_to_next_cell": 1,
    "papermill": {
     "duration": 0.023064,
     "end_time": "2024-04-11T17:11:49.191697",
     "exception": false,
     "start_time": "2024-04-11T17:11:49.168633",
     "status": "completed"
    },
    "tags": []
   },
   "outputs": [
    {
     "data": {
      "text/plain": [
       "3"
      ]
     },
     "execution_count": 14,
     "metadata": {},
     "output_type": "execute_result"
    }
   ],
   "source": [
    "def diameterOfBinaryTree(root: BinaryTreeNode) -> int:\n",
    "\n",
    "    diameter: int = 0\n",
    "    def checkHeight(curr: BinaryTreeNode) -> int:\n",
    "        nonlocal diameter\n",
    "        if not curr:\n",
    "            return 0\n",
    "        else:\n",
    "            left = checkHeight(curr.left)\n",
    "            right = checkHeight(curr.right)\n",
    "            diameter = max(diameter, left + right)\n",
    "            return 1 + max(left, right)\n",
    "\n",
    "    checkHeight(root)\n",
    "    return diameter\n",
    "\n",
    "# Testing the solution\n",
    "diameterOfBinaryTree(BinaryTreeNode.from_array([1,2,3,4,5]))"
   ]
  },
  {
   "cell_type": "markdown",
   "id": "089181e0",
   "metadata": {
    "papermill": {
     "duration": 0.012157,
     "end_time": "2024-04-11T17:11:49.238209",
     "exception": false,
     "start_time": "2024-04-11T17:11:49.226052",
     "status": "completed"
    },
    "tags": []
   },
   "source": [
    "Video Link: https://youtu.be/WszrfSwMz58?si=daE6TYubT_j5MKuT\n",
    "Maximum Path Sum: https://leetcode.com/problems/binary-tree-maximum-path-sum/submissions/1224438073"
   ]
  },
  {
   "cell_type": "code",
   "execution_count": 15,
   "id": "4192b725",
   "metadata": {
    "execution": {
     "iopub.execute_input": "2024-04-11T17:11:49.264806Z",
     "iopub.status.busy": "2024-04-11T17:11:49.264147Z",
     "iopub.status.idle": "2024-04-11T17:11:49.271932Z",
     "shell.execute_reply": "2024-04-11T17:11:49.271152Z"
    },
    "lines_to_next_cell": 1,
    "papermill": {
     "duration": 0.02303,
     "end_time": "2024-04-11T17:11:49.273610",
     "exception": false,
     "start_time": "2024-04-11T17:11:49.250580",
     "status": "completed"
    },
    "tags": []
   },
   "outputs": [],
   "source": [
    "def maxPathSum(root: BinaryTreeNode) -> float:\n",
    "    max_sum: float = -math.inf\n",
    "    def backtrack(curr: BinaryTreeNode) -> float:\n",
    "        nonlocal max_sum\n",
    "        if not curr:\n",
    "            return 0\n",
    "        else:\n",
    "            left = max(0, backtrack(curr.left))\n",
    "            right = max(0, backtrack(curr.right))\n",
    "            max_sum = max(max_sum, left + right + curr.val)\n",
    "            return curr.val + max(left, right)\n",
    "\n",
    "    backtrack(root)\n",
    "    return max_sum\n",
    "\n",
    "# Testing the solution\n",
    "assert maxPathSum(BinaryTreeNode.from_array([-10,9,20,None,None,15,7])) == 42\n",
    "assert maxPathSum(BinaryTreeNode.from_array([1, -2, 3])) == 4\n",
    "assert maxPathSum(BinaryTreeNode.from_array([9,6,-3,None,None,-6,2,None,None,2,None,-6,-6,-6])) == 16"
   ]
  },
  {
   "cell_type": "markdown",
   "id": "0bdad953",
   "metadata": {
    "papermill": {
     "duration": 0.012148,
     "end_time": "2024-04-11T17:11:49.298071",
     "exception": false,
     "start_time": "2024-04-11T17:11:49.285923",
     "status": "completed"
    },
    "tags": []
   },
   "source": [
    "Check if two trees are identical or not\n",
    "Video Link: https://youtu.be/BhuvF_-PWS0?si=C1iPAcpAICZHWRSr"
   ]
  },
  {
   "cell_type": "code",
   "execution_count": 16,
   "id": "7a2627c8",
   "metadata": {
    "execution": {
     "iopub.execute_input": "2024-04-11T17:11:49.324486Z",
     "iopub.status.busy": "2024-04-11T17:11:49.323909Z",
     "iopub.status.idle": "2024-04-11T17:11:49.330460Z",
     "shell.execute_reply": "2024-04-11T17:11:49.329679Z"
    },
    "lines_to_next_cell": 1,
    "papermill": {
     "duration": 0.021821,
     "end_time": "2024-04-11T17:11:49.332204",
     "exception": false,
     "start_time": "2024-04-11T17:11:49.310383",
     "status": "completed"
    },
    "tags": []
   },
   "outputs": [],
   "source": [
    "def isSameTree(p: BinaryTreeNode, q: BinaryTreeNode) -> bool:\n",
    "    def backtrack(curr1: BinaryTreeNode, curr2: BinaryTreeNode) -> bool:\n",
    "        if not curr1 or not curr2:\n",
    "            return curr1 == curr2\n",
    "        else:\n",
    "            return curr1.val == curr2.val and backtrack(curr1.left, curr2.left) and backtrack(curr1.right, curr2.right)\n",
    "\n",
    "    return backtrack(p, q)\n",
    "\n",
    "# Testing the solution\n",
    "assert isSameTree(BinaryTreeNode.from_array([1, 2, 3]), BinaryTreeNode.from_array([1, 2, 3])) == True\n",
    "assert isSameTree(BinaryTreeNode.from_array([1, 2]), BinaryTreeNode.from_array([1, None, 2])) == False"
   ]
  },
  {
   "cell_type": "markdown",
   "id": "6f64cc1b",
   "metadata": {
    "papermill": {
     "duration": 0.01242,
     "end_time": "2024-04-11T17:11:49.357008",
     "exception": false,
     "start_time": "2024-04-11T17:11:49.344588",
     "status": "completed"
    },
    "tags": []
   },
   "source": [
    "Video Link: https://youtu.be/3OXWEdlIGl4?si=prGw3PDHdgEpFJgj\n",
    "Zig Zag / Spiral Traversal in a Binary Tree"
   ]
  },
  {
   "cell_type": "code",
   "execution_count": 17,
   "id": "220a0708",
   "metadata": {
    "execution": {
     "iopub.execute_input": "2024-04-11T17:11:49.383859Z",
     "iopub.status.busy": "2024-04-11T17:11:49.383172Z",
     "iopub.status.idle": "2024-04-11T17:11:49.392001Z",
     "shell.execute_reply": "2024-04-11T17:11:49.391218Z"
    },
    "lines_to_next_cell": 1,
    "papermill": {
     "duration": 0.024193,
     "end_time": "2024-04-11T17:11:49.393629",
     "exception": false,
     "start_time": "2024-04-11T17:11:49.369436",
     "status": "completed"
    },
    "tags": []
   },
   "outputs": [],
   "source": [
    "# Leetcode Medium: https://leetcode.com/problems/binary-tree-zigzag-level-order-traversal/submissions/1225227141\n",
    "def zigzagLevelOrder(root: BinaryTreeNode) -> list[list[int]]:\n",
    "    \"\"\"\n",
    "    Perform a level order traversal, store the results into a deque.\n",
    "    Based on level#, traverse from left node to right or vice versa.\n",
    "    \"\"\"\n",
    "    to_visit: list[BinaryTreeNode] = [root]\n",
    "    result: list[list[int]] = []\n",
    "    level = 1\n",
    "    while to_visit:\n",
    "        next_: list[BinaryTreeNode] = []\n",
    "        result.append([])\n",
    "        for curr in to_visit:\n",
    "            if curr:\n",
    "                result[-1].append(curr.val)\n",
    "                next_.append(curr.left)\n",
    "                next_.append(curr.right)\n",
    "\n",
    "        if not result[-1]:\n",
    "            result.pop()\n",
    "        elif level % 2 == 0:\n",
    "            result[-1].reverse()\n",
    "\n",
    "        to_visit = next_\n",
    "        level += 1\n",
    "\n",
    "    return result\n",
    "\n",
    "# Testing the solution\n",
    "assert zigzagLevelOrder(BinaryTreeNode.from_array([3,9,20,None,None,15,7])) == [[3],[20,9],[15,7]]\n",
    "assert zigzagLevelOrder(BinaryTreeNode.from_array([1,2,3,4,None,None,5])) == [[1],[3,2],[4,5]]"
   ]
  },
  {
   "cell_type": "markdown",
   "id": "83e73a04",
   "metadata": {
    "papermill": {
     "duration": 0.012198,
     "end_time": "2024-04-11T17:11:49.418311",
     "exception": false,
     "start_time": "2024-04-11T17:11:49.406113",
     "status": "completed"
    },
    "tags": []
   },
   "source": [
    "Video Link: https://youtu.be/0ca1nvR0be4?si=Er0-Y8gxhnKlWt6-\n",
    "Boundary Traversal in a Binary Tree"
   ]
  },
  {
   "cell_type": "code",
   "execution_count": 18,
   "id": "3e63f2c1",
   "metadata": {
    "execution": {
     "iopub.execute_input": "2024-04-11T17:11:49.444732Z",
     "iopub.status.busy": "2024-04-11T17:11:49.444055Z",
     "iopub.status.idle": "2024-04-11T17:11:49.454198Z",
     "shell.execute_reply": "2024-04-11T17:11:49.453530Z"
    },
    "lines_to_next_cell": 1,
    "papermill": {
     "duration": 0.025242,
     "end_time": "2024-04-11T17:11:49.455894",
     "exception": false,
     "start_time": "2024-04-11T17:11:49.430652",
     "status": "completed"
    },
    "tags": []
   },
   "outputs": [],
   "source": [
    "def traverseBoundary(root: BinaryTreeNode) -> list[int]:\n",
    "    \"\"\"\n",
    "    Left boundary excluding leaves, Leaf nodes, Right Boundary excluding leaves\n",
    "    \"\"\"\n",
    "\n",
    "    left: list[int] = []\n",
    "    curr = root.left\n",
    "    while curr and (curr.left or curr.right):\n",
    "        left.append(curr.val)\n",
    "        curr = curr.left if curr.left else curr.right\n",
    "\n",
    "    boundary: list[int] = []\n",
    "    def getLeaves(curr: BinaryTreeNode):\n",
    "        nonlocal boundary\n",
    "        if not curr:\n",
    "            return\n",
    "        else:\n",
    "            if not curr.left and not curr.right:\n",
    "                boundary.append(curr.val)\n",
    "            getLeaves(curr.left)\n",
    "            getLeaves(curr.right)\n",
    "\n",
    "    right: list[int] = []\n",
    "    curr = root.right\n",
    "    while curr and (curr.left or curr.right):\n",
    "        right.append(curr.val)\n",
    "        curr = curr.right if curr.right else curr.left\n",
    "    right.reverse()\n",
    "\n",
    "    getLeaves(root)\n",
    "    return [root.val] + left + boundary + right\n",
    "\n",
    "# Testing the solution\n",
    "assert traverseBoundary(BinaryTreeNode.from_array([10, 5, 20, 3, 8, 18, 25, None, None, 7, None, None, None, None, None, None, None])) == [10, 5, 3, 7, 18, 25, 20]\n",
    "assert traverseBoundary(BinaryTreeNode.from_array([100, 50, 150, 25, 75, 140, 200, None, 30, 70, 80, None, None, None, None, None, 35, None, None, None, None, None, None])) == [100, 50, 25, 30, 35, 70, 80, 140, 200, 150]"
   ]
  },
  {
   "cell_type": "markdown",
   "id": "48a971f2",
   "metadata": {
    "papermill": {
     "duration": 0.012341,
     "end_time": "2024-04-11T17:11:49.480807",
     "exception": false,
     "start_time": "2024-04-11T17:11:49.468466",
     "status": "completed"
    },
    "tags": []
   },
   "source": [
    "Video Link: https://youtu.be/q_a6lpbKJdw?si=d1p9utIGRbbi7q84\n",
    "Vertial order traversal of Binary Tree"
   ]
  },
  {
   "cell_type": "code",
   "execution_count": 19,
   "id": "584c0df0",
   "metadata": {
    "execution": {
     "iopub.execute_input": "2024-04-11T17:11:49.507787Z",
     "iopub.status.busy": "2024-04-11T17:11:49.507291Z",
     "iopub.status.idle": "2024-04-11T17:11:49.517684Z",
     "shell.execute_reply": "2024-04-11T17:11:49.516897Z"
    },
    "lines_to_next_cell": 1,
    "papermill": {
     "duration": 0.026055,
     "end_time": "2024-04-11T17:11:49.519423",
     "exception": false,
     "start_time": "2024-04-11T17:11:49.493368",
     "status": "completed"
    },
    "tags": []
   },
   "outputs": [],
   "source": [
    "# Problem Link: https://leetcode.com/problems/vertical-order-traversal-of-a-binary-tree/submissions/1226266467\n",
    "def verticalTraversal(root: BinaryTreeNode) -> list[list[int]]:\n",
    "    \"\"\"\n",
    "    Time: O(N log N), Space: O(N)\n",
    "    \"\"\"\n",
    "\n",
    "    # Time: O(N)\n",
    "    ordering: list[tuple[int, int, int]] = []\n",
    "    def backtrack(curr: BinaryTreeNode, i: int, j: int):\n",
    "        nonlocal ordering\n",
    "        if not curr:\n",
    "            return\n",
    "        else:\n",
    "            ordering.append((curr.val, i, j))\n",
    "            backtrack(curr.left, i + 1, j - 1)\n",
    "            backtrack(curr.right, i + 1, j + 1)\n",
    "\n",
    "    # Time: O(N log N)\n",
    "    backtrack(root, 0, 0)\n",
    "    ordering.sort(key=lambda x: (x[2], x[1], x[0]))\n",
    "\n",
    "    # Time: O(N)\n",
    "    result: list[list[int]] = []\n",
    "    prev = ordering[0][2] - 1\n",
    "    for k, i, j in ordering:\n",
    "        if j != prev:\n",
    "            result.append([])\n",
    "            prev = j\n",
    "        result[-1].append(k)\n",
    "\n",
    "    return result\n",
    "\n",
    "# Testing the solution\n",
    "assert verticalTraversal(BinaryTreeNode.from_array([3,9,20,None,None,15,7])) == [[9], [3, 15], [20], [7]]\n",
    "assert verticalTraversal(BinaryTreeNode.from_array([1, 2, 3, 4, 5, 6, 7])) == [[4], [2], [1,5,6], [3], [7]]\n",
    "assert verticalTraversal(BinaryTreeNode.from_array([1, 2, 3, 4, 6, 5, 7])) == [[4], [2], [1, 5, 6], [3], [7]]"
   ]
  },
  {
   "cell_type": "markdown",
   "id": "5a99a217",
   "metadata": {
    "papermill": {
     "duration": 0.012105,
     "end_time": "2024-04-11T17:11:49.543939",
     "exception": false,
     "start_time": "2024-04-11T17:11:49.531834",
     "status": "completed"
    },
    "tags": []
   },
   "source": [
    "Video Link: https://youtu.be/Et9OCDNvJ78?si=JB9v3iN8uhAELNkl\n",
    "Top view of a Binary Tree"
   ]
  },
  {
   "cell_type": "code",
   "execution_count": 20,
   "id": "fbf1035d",
   "metadata": {
    "execution": {
     "iopub.execute_input": "2024-04-11T17:11:49.570233Z",
     "iopub.status.busy": "2024-04-11T17:11:49.569614Z",
     "iopub.status.idle": "2024-04-11T17:11:49.578883Z",
     "shell.execute_reply": "2024-04-11T17:11:49.578091Z"
    },
    "lines_to_next_cell": 1,
    "papermill": {
     "duration": 0.024414,
     "end_time": "2024-04-11T17:11:49.580586",
     "exception": false,
     "start_time": "2024-04-11T17:11:49.556172",
     "status": "completed"
    },
    "tags": []
   },
   "outputs": [],
   "source": [
    "def topViewBinaryTree(root: BinaryTreeNode) -> list[int]:\n",
    "    topView: dict[int, int] = dict()\n",
    "\n",
    "    # Level Order Traversal\n",
    "    stack: list[tuple[BinaryTreeNode, int]] = [(root, 0)]\n",
    "    while stack:\n",
    "        next_: list[tuple[BinaryTreeNode, int]] = []\n",
    "        for curr, j in stack:\n",
    "            if curr:\n",
    "                if j not in topView:\n",
    "                    topView[j] = curr.val\n",
    "                next_.append((curr.left, j - 1))\n",
    "                next_.append((curr.right, j + 1))\n",
    "\n",
    "        stack = next_\n",
    "\n",
    "    result: list[int] = []\n",
    "    for k, v in sorted(topView.items(), key=lambda x: x[0]):\n",
    "        result.append(v)\n",
    "\n",
    "    return result\n",
    "\n",
    "# Testing the result\n",
    "assert topViewBinaryTree(BinaryTreeNode.from_array([1, 2, 3, 4, 5, None, 6, None, 7, None, None, 8, None, 9, None, None, 11, 10, None, None, None, None, None])) == [10, 4,  2, 1, 3, 6]"
   ]
  },
  {
   "cell_type": "markdown",
   "id": "b62cb1a9",
   "metadata": {
    "papermill": {
     "duration": 0.012225,
     "end_time": "2024-04-11T17:11:49.605572",
     "exception": false,
     "start_time": "2024-04-11T17:11:49.593347",
     "status": "completed"
    },
    "tags": []
   },
   "source": [
    "Video Link: https://youtu.be/0FtVY6I4pB8?si=pBJ-JgXeSz_WxjCs\n",
    "Bottom view of a Binary tree"
   ]
  },
  {
   "cell_type": "code",
   "execution_count": 21,
   "id": "f1b0d9dd",
   "metadata": {
    "execution": {
     "iopub.execute_input": "2024-04-11T17:11:49.632380Z",
     "iopub.status.busy": "2024-04-11T17:11:49.631648Z",
     "iopub.status.idle": "2024-04-11T17:11:49.639176Z",
     "shell.execute_reply": "2024-04-11T17:11:49.638402Z"
    },
    "lines_to_next_cell": 1,
    "papermill": {
     "duration": 0.022913,
     "end_time": "2024-04-11T17:11:49.640890",
     "exception": false,
     "start_time": "2024-04-11T17:11:49.617977",
     "status": "completed"
    },
    "tags": []
   },
   "outputs": [],
   "source": [
    "def bottomView(root: BinaryTreeNode) -> list[int]:\n",
    "    ordering: dict[int, int] = dict()\n",
    "    stack: list[tuple[BinaryTreeNode, int]] = [(root, 0)]\n",
    "    while stack:\n",
    "        next_: list[tuple[BinaryTreeNode, int]] = []\n",
    "        for curr, j in stack:\n",
    "            if curr:\n",
    "                ordering[j] = curr.val\n",
    "                next_.append((curr.left, j - 1))\n",
    "                next_.append((curr.right, j + 1))\n",
    "\n",
    "        stack = next_\n",
    "\n",
    "    result: list[int] = []\n",
    "    for k in sorted(ordering.keys()):\n",
    "        result.append(ordering[k])\n",
    "\n",
    "    return result\n",
    "\n",
    "# Testing the solution\n",
    "assert bottomView(BinaryTreeNode.from_array([1, 2, 3, None, None, 5, 6, 7, 8, None, None, None, None, None, None])) == [7, 5, 8, 6]"
   ]
  },
  {
   "cell_type": "markdown",
   "id": "262c0c19",
   "metadata": {
    "papermill": {
     "duration": 0.01218,
     "end_time": "2024-04-11T17:11:49.665546",
     "exception": false,
     "start_time": "2024-04-11T17:11:49.653366",
     "status": "completed"
    },
    "tags": []
   },
   "source": [
    "Video Link: https://youtu.be/KV4mRzTjlAk?si=lzQH9S7GrgZKUjMj\n",
    "Right / Left view of a Binary Tree"
   ]
  },
  {
   "cell_type": "code",
   "execution_count": 22,
   "id": "8d6decb1",
   "metadata": {
    "execution": {
     "iopub.execute_input": "2024-04-11T17:11:49.691837Z",
     "iopub.status.busy": "2024-04-11T17:11:49.691199Z",
     "iopub.status.idle": "2024-04-11T17:11:49.698598Z",
     "shell.execute_reply": "2024-04-11T17:11:49.697831Z"
    },
    "lines_to_next_cell": 1,
    "papermill": {
     "duration": 0.022503,
     "end_time": "2024-04-11T17:11:49.700301",
     "exception": false,
     "start_time": "2024-04-11T17:11:49.677798",
     "status": "completed"
    },
    "tags": []
   },
   "outputs": [],
   "source": [
    "# Right Side View: Time - O(N)\n",
    "def rightSideView(root: BinaryTreeNode) -> list[int]:\n",
    "    ordering: dict[int, int] = dict()\n",
    "    def inOrder(curr: BinaryTreeNode, i: int = 0):\n",
    "        nonlocal ordering\n",
    "        if not curr:\n",
    "            return\n",
    "        else:\n",
    "            ordering[i] = curr.val\n",
    "            inOrder(curr.left, i + 1)\n",
    "            inOrder(curr.right, i + 1)\n",
    "\n",
    "    # Backtrack and store the results\n",
    "    inOrder(root)\n",
    "    result: list[int] = []\n",
    "    for k in sorted(ordering.keys()):\n",
    "        result.append(ordering[k])\n",
    "\n",
    "    return result\n",
    "\n",
    "# Testing the solution\n",
    "assert rightSideView(BinaryTreeNode.from_array([1, 2, 3, None, 5, None, 4])) == [1, 3, 4]\n",
    "assert rightSideView(BinaryTreeNode.from_array([1, 2, 3, 4])) == [1, 3, 4]"
   ]
  },
  {
   "cell_type": "code",
   "execution_count": 23,
   "id": "367ea6a3",
   "metadata": {
    "execution": {
     "iopub.execute_input": "2024-04-11T17:11:49.726783Z",
     "iopub.status.busy": "2024-04-11T17:11:49.726421Z",
     "iopub.status.idle": "2024-04-11T17:11:49.735179Z",
     "shell.execute_reply": "2024-04-11T17:11:49.734394Z"
    },
    "lines_to_next_cell": 1,
    "papermill": {
     "duration": 0.0242,
     "end_time": "2024-04-11T17:11:49.736911",
     "exception": false,
     "start_time": "2024-04-11T17:11:49.712711",
     "status": "completed"
    },
    "tags": [],
    "title": "Left Side View: Time - O(N)"
   },
   "outputs": [],
   "source": [
    "def leftSideView(root: BinaryTreeNode) -> list[int]:\n",
    "    ordering: dict[int, int] = dict()\n",
    "    def backtrack(curr: BinaryTreeNode, i: int = 0):\n",
    "        nonlocal ordering\n",
    "        if not curr:\n",
    "            return\n",
    "        else:\n",
    "            ordering[i] = curr.val\n",
    "            backtrack(curr.right, i + 1)\n",
    "            backtrack(curr.left, i + 1)\n",
    "\n",
    "    # Backtrack and store the results\n",
    "    backtrack(root)\n",
    "    result: list[int] = []\n",
    "    for k in sorted(ordering.keys()):\n",
    "        result.append(ordering[k])\n",
    "\n",
    "    return result\n",
    "\n",
    "# Testing the solution\n",
    "assert leftSideView(BinaryTreeNode.from_array([1, 2, 3, None, 5, None, 4])) == [1, 2, 5]\n",
    "assert leftSideView(BinaryTreeNode.from_array([1, 2, 3, 4])) == [1, 2, 4]"
   ]
  },
  {
   "cell_type": "code",
   "execution_count": 24,
   "id": "40a6b0a2",
   "metadata": {
    "execution": {
     "iopub.execute_input": "2024-04-11T17:11:49.763696Z",
     "iopub.status.busy": "2024-04-11T17:11:49.763134Z",
     "iopub.status.idle": "2024-04-11T17:11:49.770193Z",
     "shell.execute_reply": "2024-04-11T17:11:49.769435Z"
    },
    "lines_to_next_cell": 1,
    "papermill": {
     "duration": 0.022421,
     "end_time": "2024-04-11T17:11:49.771944",
     "exception": false,
     "start_time": "2024-04-11T17:11:49.749523",
     "status": "completed"
    },
    "tags": []
   },
   "outputs": [],
   "source": [
    "# Better solution from Striver\n",
    "def rightSideViewStriver(root: BinaryTreeNode) -> list[int]:\n",
    "    result: list[int] = []\n",
    "    def backtrack(curr: BinaryTreeNode, level: int = 1):\n",
    "        \"\"\"\n",
    "        Modified preorder traversal - RRL.\n",
    "        We insert to our result only when we are coming the level for the first time.\n",
    "        \"\"\"\n",
    "        nonlocal result\n",
    "        if not curr:\n",
    "            return\n",
    "        else:\n",
    "            if level > len(result):\n",
    "                result.append(curr.val)\n",
    "            backtrack(curr.right, level + 1)\n",
    "            backtrack(curr.left, level + 1)\n",
    "\n",
    "    # Recurse and save the results\n",
    "    backtrack(root)\n",
    "    return result\n",
    "\n",
    "# Testing the solution\n",
    "assert rightSideViewStriver(BinaryTreeNode.from_array([1, 2, 3, None, 5, None, 4])) == [1, 3, 4]\n",
    "assert rightSideViewStriver(BinaryTreeNode.from_array([1, 2, 3, 4])) == [1, 3, 4]"
   ]
  },
  {
   "cell_type": "markdown",
   "id": "3d234569",
   "metadata": {
    "papermill": {
     "duration": 0.012139,
     "end_time": "2024-04-11T17:11:49.796490",
     "exception": false,
     "start_time": "2024-04-11T17:11:49.784351",
     "status": "completed"
    },
    "tags": []
   },
   "source": [
    "Video Link: https://youtu.be/nKggNAiEpBE?si=abzPcl6pKzyFpJ2i\n",
    "Problem Link: https://leetcode.com/problems/symmetric-tree/submissions/1227182868"
   ]
  },
  {
   "cell_type": "code",
   "execution_count": 25,
   "id": "7dae62c7",
   "metadata": {
    "execution": {
     "iopub.execute_input": "2024-04-11T17:11:49.822490Z",
     "iopub.status.busy": "2024-04-11T17:11:49.821957Z",
     "iopub.status.idle": "2024-04-11T17:11:49.831977Z",
     "shell.execute_reply": "2024-04-11T17:11:49.831246Z"
    },
    "lines_to_next_cell": 1,
    "papermill": {
     "duration": 0.024906,
     "end_time": "2024-04-11T17:11:49.833664",
     "exception": false,
     "start_time": "2024-04-11T17:11:49.808758",
     "status": "completed"
    },
    "tags": []
   },
   "outputs": [],
   "source": [
    "def isSymmetric(root: BinaryTreeNode) -> bool:\n",
    "    def backtrack(left: BinaryTreeNode, right: BinaryTreeNode) -> bool:\n",
    "        if not left or not right:\n",
    "            return left == right\n",
    "        else:\n",
    "            return left.val == right.val and backtrack(left.left, right.right) and backtrack(left.right, right.left)\n",
    "\n",
    "    def isPalindrome(arr: list[BinaryTreeNode]) -> bool:\n",
    "        N = len(arr)\n",
    "        i, j = 0, N - 1\n",
    "        while i < j:\n",
    "            left, right = arr[i].val if arr[i] else None, arr[j].val if arr[j] else None\n",
    "            i, j = i + 1, j - 1\n",
    "            if left != right:\n",
    "                return False\n",
    "        return True\n",
    "\n",
    "    def iterate() -> bool:\n",
    "        stack: list[BinaryTreeNode] = [root]\n",
    "        while stack:\n",
    "            next_: list[BinaryTreeNode] = []\n",
    "            for curr in stack:\n",
    "                if curr:\n",
    "                    next_.append(curr.left)\n",
    "                    next_.append(curr.right)\n",
    "\n",
    "            if not isPalindrome(next_):\n",
    "                return False\n",
    "            else:\n",
    "                stack = next_\n",
    "        else:\n",
    "            return True\n",
    "\n",
    "    # return backtrack(root.left, root.right)\n",
    "    return iterate()\n",
    "\n",
    "# Testing the solution\n",
    "assert isSymmetric(BinaryTreeNode.from_array([1, 2, 2, None, 3, None, 3])) == False\n",
    "assert isSymmetric(BinaryTreeNode.from_array([1, 2, 2, None, 3, 3, None])) == True"
   ]
  },
  {
   "cell_type": "markdown",
   "id": "3d1fac60",
   "metadata": {
    "papermill": {
     "duration": 0.012307,
     "end_time": "2024-04-11T17:11:49.858469",
     "exception": false,
     "start_time": "2024-04-11T17:11:49.846162",
     "status": "completed"
    },
    "tags": []
   },
   "source": [
    "Video Link: https://youtu.be/fmflMqVOC7k?si=1AX2ea08UGtxw0mj\n",
    "Print Root to Node path in Binary Tree"
   ]
  },
  {
   "cell_type": "code",
   "execution_count": 26,
   "id": "f0244aad",
   "metadata": {
    "execution": {
     "iopub.execute_input": "2024-04-11T17:11:49.885159Z",
     "iopub.status.busy": "2024-04-11T17:11:49.884428Z",
     "iopub.status.idle": "2024-04-11T17:11:49.893234Z",
     "shell.execute_reply": "2024-04-11T17:11:49.892472Z"
    },
    "lines_to_next_cell": 1,
    "papermill": {
     "duration": 0.024153,
     "end_time": "2024-04-11T17:11:49.895001",
     "exception": false,
     "start_time": "2024-04-11T17:11:49.870848",
     "status": "completed"
    },
    "tags": []
   },
   "outputs": [
    {
     "data": {
      "text/plain": [
       "[1, 2, 5, 7]"
      ]
     },
     "execution_count": 26,
     "metadata": {},
     "output_type": "execute_result"
    }
   ],
   "source": [
    "def rootToNodePath(root: BinaryTreeNode, target: int) -> list[int]:\n",
    "    \"Time: O(N), Space: O(H)\"\n",
    "    path: list[int] = []\n",
    "    def backtrack(curr: BinaryTreeNode) -> bool:\n",
    "        if not curr:\n",
    "            return False\n",
    "        else:\n",
    "            path.append(curr.val)\n",
    "            result = curr.val == target or backtrack(curr.left) or backtrack(curr.right)\n",
    "            if not result:\n",
    "                path.pop()\n",
    "\n",
    "            return result\n",
    "\n",
    "    backtrack(root)\n",
    "    return path\n",
    "\n",
    "\n",
    "# Testing the solution\n",
    "rootToNodePath(BinaryTreeNode.from_array([1, 2, 3, 4, 5, None, None, None, None, 6, 7]), 7)"
   ]
  },
  {
   "cell_type": "markdown",
   "id": "b7a03676",
   "metadata": {
    "papermill": {
     "duration": 0.01258,
     "end_time": "2024-04-11T17:11:49.920415",
     "exception": false,
     "start_time": "2024-04-11T17:11:49.907835",
     "status": "completed"
    },
    "tags": []
   },
   "source": [
    "Lowest common ancestor\n",
    "Video Link: https://youtu.be/_-QHfMDde90?si=3pJ5ysXG6FArt3Q3"
   ]
  },
  {
   "cell_type": "code",
   "execution_count": 27,
   "id": "7a501b5a",
   "metadata": {
    "execution": {
     "iopub.execute_input": "2024-04-11T17:11:49.947750Z",
     "iopub.status.busy": "2024-04-11T17:11:49.946918Z",
     "iopub.status.idle": "2024-04-11T17:11:49.954041Z",
     "shell.execute_reply": "2024-04-11T17:11:49.953358Z"
    },
    "lines_to_next_cell": 1,
    "papermill": {
     "duration": 0.02283,
     "end_time": "2024-04-11T17:11:49.955787",
     "exception": false,
     "start_time": "2024-04-11T17:11:49.932957",
     "status": "completed"
    },
    "tags": []
   },
   "outputs": [],
   "source": [
    "# Problem Link: https://leetcode.com/problems/lowest-common-ancestor-of-a-binary-tree/submissions/1228152859\n",
    "def lowestCommonAncestor(root: BinaryTreeNode, p: BinaryTreeNode, q: BinaryTreeNode) -> BinaryTreeNode:\n",
    "    def backtrack(curr: BinaryTreeNode) -> BinaryTreeNode:\n",
    "        if not curr:\n",
    "            return curr\n",
    "        else:\n",
    "            left = backtrack(curr.left)\n",
    "            right = backtrack(curr.right)\n",
    "            if left and right:\n",
    "                return curr\n",
    "            elif curr in (p, q):\n",
    "                return curr\n",
    "            else:\n",
    "                return left if left else right\n",
    "\n",
    "    return backtrack(root)\n",
    "\n",
    "# Testing the solution\n",
    "temp: BinaryTreeNode = BinaryTreeNode.from_array([3,5,1,6,2,0,8,None,None,7,4])\n",
    "assert lowestCommonAncestor(temp, p=temp.left, q=temp.left.right.right).val == 5"
   ]
  },
  {
   "cell_type": "markdown",
   "id": "8415d919",
   "metadata": {
    "papermill": {
     "duration": 0.013496,
     "end_time": "2024-04-11T17:11:49.982003",
     "exception": false,
     "start_time": "2024-04-11T17:11:49.968507",
     "status": "completed"
    },
    "tags": []
   },
   "source": [
    "Maximum width of a binary Tree\n",
    "Video Link: https://youtu.be/ZbybYvcVLks?si=_r6ouO7uxfz3DI6I"
   ]
  },
  {
   "cell_type": "code",
   "execution_count": 28,
   "id": "249090c8",
   "metadata": {
    "execution": {
     "iopub.execute_input": "2024-04-11T17:11:50.009058Z",
     "iopub.status.busy": "2024-04-11T17:11:50.008427Z",
     "iopub.status.idle": "2024-04-11T17:11:50.016200Z",
     "shell.execute_reply": "2024-04-11T17:11:50.015493Z"
    },
    "lines_to_next_cell": 1,
    "papermill": {
     "duration": 0.023339,
     "end_time": "2024-04-11T17:11:50.017934",
     "exception": false,
     "start_time": "2024-04-11T17:11:49.994595",
     "status": "completed"
    },
    "tags": []
   },
   "outputs": [],
   "source": [
    "# Problem Link: https://leetcode.com/problems/maximum-width-of-binary-tree/submissions/1228981858\n",
    "def widthOfBinaryTree(root: BinaryTreeNode) -> int:\n",
    "    \"\"\"\n",
    "    1. 0 Based indexing:\n",
    "        - Left of any node: (2 * i + 1)\n",
    "        - Right of any node: (2 * i + 2)\n",
    "\n",
    "    2. 1 Based indexing:\n",
    "        - Left of any node: (2 * i)\n",
    "        - Right of any node: (2 * i + 1)\n",
    "    \"\"\"\n",
    "\n",
    "    max_width: int = 0\n",
    "    queue: list[tuple[BinaryTreeNode, int]] = [(root, 0)]\n",
    "    while queue:\n",
    "        max_width = max(max_width, queue[-1][1] - queue[0][1] + 1)\n",
    "        next_: list[tuple[BinaryTreeNode, int]] = []\n",
    "        min_idx = queue[0][1] # i - min_idx is done to prevent buffer overflow in languages like C, C++\n",
    "        for curr, i in queue:\n",
    "            if curr.left:\n",
    "                next_.append((curr.left, 2 * (i - min_idx) + 1))\n",
    "            if curr.right:\n",
    "                next_.append((curr.right, 2 * (i - min_idx) + 2))\n",
    "\n",
    "        queue = next_\n",
    "\n",
    "    return max_width\n",
    "\n",
    "# Testing the solution\n",
    "assert widthOfBinaryTree(BinaryTreeNode.from_array([1,3,2,5,3,None,9])) == 4"
   ]
  },
  {
   "cell_type": "markdown",
   "id": "db8bdc78",
   "metadata": {
    "papermill": {
     "duration": 0.012433,
     "end_time": "2024-04-11T17:11:50.043015",
     "exception": false,
     "start_time": "2024-04-11T17:11:50.030582",
     "status": "completed"
    },
    "tags": []
   },
   "source": [
    "Video Link: https://youtu.be/fnmisPM6cVo?si=gK9Xm0WNZQ6dqBk6\n",
    "Check children sum property in Binary Tree"
   ]
  },
  {
   "cell_type": "code",
   "execution_count": 29,
   "id": "e9c463d9",
   "metadata": {
    "execution": {
     "iopub.execute_input": "2024-04-11T17:11:50.069905Z",
     "iopub.status.busy": "2024-04-11T17:11:50.069163Z",
     "iopub.status.idle": "2024-04-11T17:11:50.076337Z",
     "shell.execute_reply": "2024-04-11T17:11:50.075659Z"
    },
    "lines_to_next_cell": 1,
    "papermill": {
     "duration": 0.02251,
     "end_time": "2024-04-11T17:11:50.078009",
     "exception": false,
     "start_time": "2024-04-11T17:11:50.055499",
     "status": "completed"
    },
    "tags": []
   },
   "outputs": [],
   "source": [
    "def isParentSum(curr: BinaryTreeNode) -> bool:\n",
    "    if not curr or (not curr.left and not curr.right): # Leaf node\n",
    "        return True\n",
    "    else:\n",
    "        curr_parent_sum = (curr.val == ((curr.left.val if curr.left else 0) + (curr.right.val if curr.right else 0)))\n",
    "        return curr_parent_sum and isParentSum(curr.left) and isParentSum(curr.right)\n",
    "\n",
    "# Testing the solution\n",
    "assert isParentSum(BinaryTreeNode.from_array([5, 3, 2, 3, None, None, None, None, None])) == True\n",
    "assert isParentSum(BinaryTreeNode.from_array([7, 3, 4, 3, None, 2, 3, None, None, None, None, None, None])) == False"
   ]
  },
  {
   "cell_type": "markdown",
   "id": "6315a3c1",
   "metadata": {
    "papermill": {
     "duration": 0.012425,
     "end_time": "2024-04-11T17:11:50.103161",
     "exception": false,
     "start_time": "2024-04-11T17:11:50.090736",
     "status": "completed"
    },
    "tags": []
   },
   "source": [
    "Maintain children sum property of a binary Tree"
   ]
  },
  {
   "cell_type": "code",
   "execution_count": 30,
   "id": "20d7e7dd",
   "metadata": {
    "execution": {
     "iopub.execute_input": "2024-04-11T17:11:50.130753Z",
     "iopub.status.busy": "2024-04-11T17:11:50.130029Z",
     "iopub.status.idle": "2024-04-11T17:11:50.138892Z",
     "shell.execute_reply": "2024-04-11T17:11:50.138183Z"
    },
    "lines_to_next_cell": 1,
    "papermill": {
     "duration": 0.024541,
     "end_time": "2024-04-11T17:11:50.140624",
     "exception": false,
     "start_time": "2024-04-11T17:11:50.116083",
     "status": "completed"
    },
    "tags": []
   },
   "outputs": [],
   "source": [
    "def restoreChildrenSumProperty(root: BinaryTreeNode) -> BinaryTreeNode:\n",
    "    \"In languages such as C, this might cause buffer overflow, see striver sol below\"\n",
    "    max_ = 0\n",
    "    def postOrder(curr: BinaryTreeNode) -> int:\n",
    "        nonlocal max_\n",
    "        max_ = max(max_, curr.val if curr else 0)\n",
    "        if not curr.left and not curr.right:\n",
    "            assert curr.val < max_, f\"Can only increment, {curr.val} cannot become {max_}\"\n",
    "            curr.val = max_\n",
    "            return curr.val\n",
    "        else:\n",
    "            left_ = postOrder(curr.left) if curr.left else 0\n",
    "            right_ = postOrder(curr.right) if curr.right else 0\n",
    "            assert curr.val < left_ + right_, f\"Can only increment, {curr.val} cannot become {left_ + right_}\"\n",
    "            curr.val = left_ + right_\n",
    "            return left_ + right_\n",
    "\n",
    "    postOrder(root)\n",
    "    return root\n",
    "\n",
    "# Testing the solution\n",
    "assert isParentSum(restoreChildrenSumProperty(BinaryTreeNode.from_array([2, 35, 10, 2, 3, 5, 2])))\n",
    "assert isParentSum(restoreChildrenSumProperty(BinaryTreeNode.from_array([50, 7, 2, 3, 5, 1, 30])))\n",
    "assert isParentSum(restoreChildrenSumProperty(BinaryTreeNode.from_array([7, 3, 4, 3, None, 2, 3, None, None, None, None, None, None])))"
   ]
  },
  {
   "cell_type": "code",
   "execution_count": 31,
   "id": "bf9f3b28",
   "metadata": {
    "execution": {
     "iopub.execute_input": "2024-04-11T17:11:50.167611Z",
     "iopub.status.busy": "2024-04-11T17:11:50.166886Z",
     "iopub.status.idle": "2024-04-11T17:11:50.175374Z",
     "shell.execute_reply": "2024-04-11T17:11:50.174716Z"
    },
    "papermill": {
     "duration": 0.023695,
     "end_time": "2024-04-11T17:11:50.177031",
     "exception": false,
     "start_time": "2024-04-11T17:11:50.153336",
     "status": "completed"
    },
    "tags": []
   },
   "outputs": [],
   "source": [
    "def restoreChildrenSumProperty_striver(root: BinaryTreeNode) -> BinaryTreeNode:\n",
    "    def postOrder(curr: BinaryTreeNode) -> int:\n",
    "        if not curr.left and not curr.right:\n",
    "            return curr.val\n",
    "        else:\n",
    "            if curr.val > (curr.left.val if curr.left else 0) + (curr.right.val if curr.right else 0):\n",
    "                if curr.left:\n",
    "                    curr.left.val = curr.val\n",
    "                if curr.right:\n",
    "                    curr.right.val = curr.val\n",
    "\n",
    "            left = postOrder(curr.left) if curr.left else 0\n",
    "            right = postOrder(curr.right) if curr.right else 0\n",
    "            curr.val = left + right\n",
    "            return curr.val\n",
    "\n",
    "    postOrder(root)\n",
    "    return root\n",
    "\n",
    "# Testing the solution\n",
    "assert isParentSum(restoreChildrenSumProperty_striver(BinaryTreeNode.from_array([2, 35, 10, 2, 3, 5, 2])))\n",
    "assert isParentSum(restoreChildrenSumProperty_striver(BinaryTreeNode.from_array([50, 7, 2, 3, 5, 1, 30])))\n",
    "assert isParentSum(restoreChildrenSumProperty_striver(BinaryTreeNode.from_array([7, 3, 4, 3, None, 2, 3, None, None, None, None, None, None])))"
   ]
  }
 ],
 "metadata": {
  "kernelspec": {
   "display_name": "Python 3 (ipykernel)",
   "language": "python",
   "name": "python3"
  },
  "language_info": {
   "codemirror_mode": {
    "name": "ipython",
    "version": 3
   },
   "file_extension": ".py",
   "mimetype": "text/x-python",
   "name": "python",
   "nbconvert_exporter": "python",
   "pygments_lexer": "ipython3",
   "version": "3.10.14"
  },
  "papermill": {
   "default_parameters": {},
   "duration": 3.106422,
   "end_time": "2024-04-11T17:11:50.407168",
   "environment_variables": {},
   "exception": null,
   "input_path": "study/striver-A2Z/10-trees.ipynb",
   "output_path": "study/striver-A2Z/10-trees.ipynb",
   "parameters": {},
   "start_time": "2024-04-11T17:11:47.300746",
   "version": "2.5.0"
  }
 },
 "nbformat": 4,
 "nbformat_minor": 5
}