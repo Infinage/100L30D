{
 "cells": [
  {
   "cell_type": "markdown",
   "id": "b29f23a5",
   "metadata": {
    "papermill": {
     "duration": 0.017706,
     "end_time": "2024-04-15T16:15:41.746825",
     "exception": false,
     "start_time": "2024-04-15T16:15:41.729119",
     "status": "completed"
    },
    "tags": []
   },
   "source": [
    "##### Types of binary trees (https://youtu.be/_ANrF3FJm7I?si=DZzUQr9F7dexWewB)\n",
    "1. Full Binary Tree: Each node has 0 or 2 children.\n",
    "2. Complete Binary Tree: All levels are completely filled except the last, which is filled as left as possible.\n",
    "3. Perfect Binary Tree: All leaf nodes are of the same level (all nodes have 2 children except the leaf).\n",
    "4. Balanced Binary Tree: Height of the left and right subtree of any node differ by not more than 1 / Max height of tree is log (no of nodes).\n",
    "5. Degenerate Binary Tree: Every node has a singe children except the leaf node (left skewed or right skewed).\n",
    "\n",
    "##### Binary Tree Traversals (https://youtu.be/jmy0LaGET1I?si=1o8rYIcijmpRxZHq)\n",
    "\n",
    "###### Depth First Search Traversal Techniques\n",
    "Hint 1: Pre - Root first, Post: Root last, In: Root middle <BR>\n",
    "Hint 2: Left, Right order is preserved for all traversals\n",
    "1. In-Order Traversal: Left, Root, Right\n",
    "2. Pre-Order Traversal: Root, Left, Right\n",
    "3. Post-Order Traversal: Left, Right, Root\n",
    "\n",
    "###### Breadth First Search\n",
    "1. Level Order Traversal: All nodes of same level are iterated through before moving to the next level.\n",
    "1. Boundary Traversal: Left boundary (left nodes excluding leaf), Leaf nodes, Right boundary nodes (right nodes excluding leaf).\n",
    "2. Diagnoal Traversal: Nodes of same diagnol are traversed one after another.\n",
    "\n",
    "##### Some properties of Binary Trees\n",
    "- Max nodes at any level: 2 ** (N - 1)\n",
    "Requirements to construct an unique binary tree: We must have the inorder traversal to know what comes to the left and to the right of root."
   ]
  },
  {
   "cell_type": "markdown",
   "id": "3d2598bc",
   "metadata": {
    "papermill": {
     "duration": 0.016513,
     "end_time": "2024-04-15T16:15:41.780283",
     "exception": false,
     "start_time": "2024-04-15T16:15:41.763770",
     "status": "completed"
    },
    "tags": []
   },
   "source": [
    "#### Some useful imports"
   ]
  },
  {
   "cell_type": "code",
   "execution_count": 1,
   "id": "b692ea03",
   "metadata": {
    "execution": {
     "iopub.execute_input": "2024-04-15T16:15:41.815197Z",
     "iopub.status.busy": "2024-04-15T16:15:41.814394Z",
     "iopub.status.idle": "2024-04-15T16:15:41.824672Z",
     "shell.execute_reply": "2024-04-15T16:15:41.824043Z"
    },
    "lines_to_next_cell": 1,
    "papermill": {
     "duration": 0.029624,
     "end_time": "2024-04-15T16:15:41.826418",
     "exception": false,
     "start_time": "2024-04-15T16:15:41.796794",
     "status": "completed"
    },
    "tags": []
   },
   "outputs": [],
   "source": [
    "import math\n",
    "import collections\n",
    "import itertools\n",
    "import bisect\n",
    "import heapq"
   ]
  },
  {
   "cell_type": "markdown",
   "id": "c70ac08c",
   "metadata": {
    "papermill": {
     "duration": 0.016795,
     "end_time": "2024-04-15T16:15:41.860669",
     "exception": false,
     "start_time": "2024-04-15T16:15:41.843874",
     "status": "completed"
    },
    "tags": []
   },
   "source": [
    "#### Helper for Binary tree problems"
   ]
  },
  {
   "cell_type": "code",
   "execution_count": 2,
   "id": "4c5d251b",
   "metadata": {
    "execution": {
     "iopub.execute_input": "2024-04-15T16:15:41.895757Z",
     "iopub.status.busy": "2024-04-15T16:15:41.895123Z",
     "iopub.status.idle": "2024-04-15T16:15:41.904737Z",
     "shell.execute_reply": "2024-04-15T16:15:41.904072Z"
    },
    "lines_to_next_cell": 1,
    "papermill": {
     "duration": 0.028957,
     "end_time": "2024-04-15T16:15:41.906452",
     "exception": false,
     "start_time": "2024-04-15T16:15:41.877495",
     "status": "completed"
    },
    "tags": []
   },
   "outputs": [],
   "source": [
    "class BinaryTreeNode:\n",
    "    def __init__(self, val=0, left=None, right=None):\n",
    "        self.val = val\n",
    "        self.left = left\n",
    "        self.right = right\n",
    "\n",
    "    def to_list(self):\n",
    "        to_visit = [self]\n",
    "        visited = []\n",
    "        while len(to_visit) > 0:\n",
    "            curr = to_visit.pop(0)\n",
    "            if curr:\n",
    "                to_visit.append(curr.left)\n",
    "                to_visit.append(curr.right)\n",
    "                visited.append(curr.val)\n",
    "            else:\n",
    "                visited.append(curr)\n",
    "        return visited\n",
    "\n",
    "    def __str__(self):\n",
    "        return str(self.val)\n",
    "\n",
    "    @staticmethod\n",
    "    def from_array(nums: list[int|None]):\n",
    "        '''Create a Tree from a list of nums. Returns the root node.'''\n",
    "        if len(nums) == 0:\n",
    "            return None\n",
    "        elif len(nums) == 1:\n",
    "            return BinaryTreeNode(nums[0])\n",
    "        else:\n",
    "            forest = [BinaryTreeNode(nums[0])]\n",
    "            parent_idx = -1\n",
    "            for i in range(1, len(nums)):\n",
    "\n",
    "                curr = None\n",
    "                if nums[i] is not None:\n",
    "                    curr = BinaryTreeNode(nums[i])\n",
    "                    forest.append(curr)\n",
    "\n",
    "                if i % 2 == 1:\n",
    "                    parent_idx += 1\n",
    "                    forest[parent_idx].left = curr\n",
    "                else:\n",
    "                    forest[parent_idx].right = curr\n",
    "\n",
    "        return forest[0]"
   ]
  },
  {
   "cell_type": "markdown",
   "id": "b18d099c",
   "metadata": {
    "papermill": {
     "duration": 0.016467,
     "end_time": "2024-04-15T16:15:41.939580",
     "exception": false,
     "start_time": "2024-04-15T16:15:41.923113",
     "status": "completed"
    },
    "tags": []
   },
   "source": [
    "#### Helper for Singly Linked lists"
   ]
  },
  {
   "cell_type": "code",
   "execution_count": 3,
   "id": "f4314d5d",
   "metadata": {
    "execution": {
     "iopub.execute_input": "2024-04-15T16:15:41.974131Z",
     "iopub.status.busy": "2024-04-15T16:15:41.973468Z",
     "iopub.status.idle": "2024-04-15T16:15:41.980169Z",
     "shell.execute_reply": "2024-04-15T16:15:41.979509Z"
    },
    "lines_to_next_cell": 1,
    "papermill": {
     "duration": 0.025797,
     "end_time": "2024-04-15T16:15:41.981784",
     "exception": false,
     "start_time": "2024-04-15T16:15:41.955987",
     "status": "completed"
    },
    "tags": []
   },
   "outputs": [],
   "source": [
    "class ListNode:\n",
    "    def __init__(self, val=0, next=None):\n",
    "        self.val = val\n",
    "        self.next = next\n",
    "\n",
    "    def __str__(self):\n",
    "        return str(self.val)\n",
    "\n",
    "    @staticmethod\n",
    "    def to_singly_linked_list(nums: list[int]):\n",
    "        root = prev = None\n",
    "        for n in nums:\n",
    "            curr = ListNode(n)\n",
    "            # Init once\n",
    "            if not root:\n",
    "                root = curr\n",
    "            if prev:\n",
    "                prev.next = curr\n",
    "            prev = curr\n",
    "\n",
    "        return root\n",
    "\n",
    "    def to_list(self) -> list[int]:\n",
    "        result = []\n",
    "        curr = self\n",
    "        while curr:\n",
    "            result.append(curr.val)\n",
    "            curr = curr.next\n",
    "        return result"
   ]
  },
  {
   "cell_type": "markdown",
   "id": "d43fd3d0",
   "metadata": {
    "papermill": {
     "duration": 0.016574,
     "end_time": "2024-04-15T16:15:42.015234",
     "exception": false,
     "start_time": "2024-04-15T16:15:41.998660",
     "status": "completed"
    },
    "tags": []
   },
   "source": [
    "Inorder, Postorder, Preorder "
   ]
  },
  {
   "cell_type": "code",
   "execution_count": 4,
   "id": "17b6ec0d",
   "metadata": {
    "execution": {
     "iopub.execute_input": "2024-04-15T16:15:42.049919Z",
     "iopub.status.busy": "2024-04-15T16:15:42.049208Z",
     "iopub.status.idle": "2024-04-15T16:15:42.058432Z",
     "shell.execute_reply": "2024-04-15T16:15:42.057774Z"
    },
    "lines_to_next_cell": 1,
    "papermill": {
     "duration": 0.028334,
     "end_time": "2024-04-15T16:15:42.060167",
     "exception": false,
     "start_time": "2024-04-15T16:15:42.031833",
     "status": "completed"
    },
    "tags": []
   },
   "outputs": [],
   "source": [
    "def getTreeTraversal(root: BinaryTreeNode) -> tuple[list[int], list[int], list[int]]:\n",
    "    inorder_: list[int] = []\n",
    "    def inorder(root: BinaryTreeNode) -> None:\n",
    "        if not root:\n",
    "            return\n",
    "        else:\n",
    "            inorder(root.left)\n",
    "            inorder_.append(root.val)\n",
    "            inorder(root.right)\n",
    "\n",
    "    preorder_: list[int] = []\n",
    "    def preorder(root: BinaryTreeNode) -> None:\n",
    "        if not root:\n",
    "            return\n",
    "        else:\n",
    "            preorder_.append(root.val)\n",
    "            preorder(root.left)\n",
    "            preorder(root.right)\n",
    "\n",
    "    postorder_: list[int] = []\n",
    "    def postorder(root: BinaryTreeNode) -> None:\n",
    "        if not root:\n",
    "            return\n",
    "        else:\n",
    "            postorder(root.left)\n",
    "            postorder(root.right)\n",
    "            postorder_.append(root.val)\n",
    "\n",
    "    # Traverse & save the order op to a list, print it\n",
    "    inorder(root)\n",
    "    preorder(root)\n",
    "    postorder(root)\n",
    "    return (preorder_, inorder_, postorder_)\n",
    "    return (inorder_, preorder_, postorder_)\n",
    "\n",
    "# Testing the solution\n",
    "assert getTreeTraversal(BinaryTreeNode.from_array([1, 3, 4, 5, 2, 7, 6])) == ([1, 3, 5, 2, 4, 7, 6], [5, 3, 2, 1, 7, 4, 6], [5, 2, 3, 7, 6, 4, 1])"
   ]
  },
  {
   "cell_type": "markdown",
   "id": "565ebd42",
   "metadata": {
    "papermill": {
     "duration": 0.016343,
     "end_time": "2024-04-15T16:15:42.093346",
     "exception": false,
     "start_time": "2024-04-15T16:15:42.077003",
     "status": "completed"
    },
    "tags": []
   },
   "source": [
    "Level Order Traversal"
   ]
  },
  {
   "cell_type": "code",
   "execution_count": 5,
   "id": "88639bd0",
   "metadata": {
    "execution": {
     "iopub.execute_input": "2024-04-15T16:15:42.127523Z",
     "iopub.status.busy": "2024-04-15T16:15:42.127285Z",
     "iopub.status.idle": "2024-04-15T16:15:42.134112Z",
     "shell.execute_reply": "2024-04-15T16:15:42.133355Z"
    },
    "lines_to_next_cell": 1,
    "papermill": {
     "duration": 0.025999,
     "end_time": "2024-04-15T16:15:42.135910",
     "exception": false,
     "start_time": "2024-04-15T16:15:42.109911",
     "status": "completed"
    },
    "tags": []
   },
   "outputs": [],
   "source": [
    "def levelOrder(root: BinaryTreeNode) -> list[list[int]]:\n",
    "    next_: list[BinaryTreeNode] = [root]\n",
    "    traversed: list[list[int]] = []\n",
    "    while next_:\n",
    "        traversed.append([])\n",
    "        temp: list[BinaryTreeNode] = []\n",
    "        for curr in next_:\n",
    "            if curr:\n",
    "                temp.append(curr.left)\n",
    "                temp.append(curr.right)\n",
    "                traversed[-1].append(curr.val)\n",
    "        if not traversed[-1]:\n",
    "            traversed.pop()\n",
    "        next_ = temp\n",
    "\n",
    "    return traversed\n",
    "\n",
    "# Testing the solution\n",
    "assert levelOrder(BinaryTreeNode.from_array([3,9,20,None,None,15,7])) == [[3], [9, 20], [15, 7]]\n",
    "assert levelOrder(BinaryTreeNode.from_array([1])) == [[1]]"
   ]
  },
  {
   "cell_type": "markdown",
   "id": "d59819aa",
   "metadata": {
    "papermill": {
     "duration": 0.016574,
     "end_time": "2024-04-15T16:15:42.169212",
     "exception": false,
     "start_time": "2024-04-15T16:15:42.152638",
     "status": "completed"
    },
    "tags": []
   },
   "source": [
    "Video Link: https://www.youtube.com/watch?v=Bfqd8BsPVuw&list=PLgUwDviBIf0oF6QL8m22w1hIDC1vJ_BHz&index=81\n",
    "Iterative Preorder traversal"
   ]
  },
  {
   "cell_type": "code",
   "execution_count": 6,
   "id": "6021695b",
   "metadata": {
    "execution": {
     "iopub.execute_input": "2024-04-15T16:15:42.203764Z",
     "iopub.status.busy": "2024-04-15T16:15:42.203075Z",
     "iopub.status.idle": "2024-04-15T16:15:42.209798Z",
     "shell.execute_reply": "2024-04-15T16:15:42.209149Z"
    },
    "lines_to_next_cell": 1,
    "papermill": {
     "duration": 0.025765,
     "end_time": "2024-04-15T16:15:42.211526",
     "exception": false,
     "start_time": "2024-04-15T16:15:42.185761",
     "status": "completed"
    },
    "tags": []
   },
   "outputs": [],
   "source": [
    "def preorderIter(root: BinaryTreeNode) -> list[int]:\n",
    "    \"\"\"\n",
    "    Root, Left, Right. The idea is the push right first and then the left,\n",
    "    since stack only works when we are popping -1 at each step.\n",
    "\n",
    "    Time: O(N), Space: O(Height of Binary Tree)\n",
    "    \"\"\"\n",
    "    result: list[int] = []\n",
    "    stack: list[BinaryTreeNode] = [root]\n",
    "    while stack:\n",
    "        curr = stack.pop()\n",
    "        if curr:\n",
    "           result.append(curr.val)\n",
    "           stack.append(curr.right)\n",
    "           stack.append(curr.left)\n",
    "\n",
    "    return result\n",
    "\n",
    "# Testing the solution\n",
    "assert preorderIter(BinaryTreeNode.from_array([1, None, 2, 3])) == [1, 2, 3]\n",
    "assert preorderIter(BinaryTreeNode.from_array([1, 2, 7, 3, 4, None, None, None, None, 5, 6])) == [1, 2, 3, 4, 5, 6, 7]"
   ]
  },
  {
   "cell_type": "markdown",
   "id": "3a949dc1",
   "metadata": {
    "papermill": {
     "duration": 0.016473,
     "end_time": "2024-04-15T16:15:42.244811",
     "exception": false,
     "start_time": "2024-04-15T16:15:42.228338",
     "status": "completed"
    },
    "tags": []
   },
   "source": [
    "Video Link: https://www.youtube.com/watch?v=lxTGsVXjwvM&list=PLgUwDviBIf0oF6QL8m22w1hIDC1vJ_BHz&index=82\n",
    "Iterative Inorder traversal"
   ]
  },
  {
   "cell_type": "code",
   "execution_count": 7,
   "id": "f322e25b",
   "metadata": {
    "execution": {
     "iopub.execute_input": "2024-04-15T16:15:42.279111Z",
     "iopub.status.busy": "2024-04-15T16:15:42.278817Z",
     "iopub.status.idle": "2024-04-15T16:15:42.284925Z",
     "shell.execute_reply": "2024-04-15T16:15:42.284270Z"
    },
    "lines_to_next_cell": 1,
    "papermill": {
     "duration": 0.025331,
     "end_time": "2024-04-15T16:15:42.286700",
     "exception": false,
     "start_time": "2024-04-15T16:15:42.261369",
     "status": "completed"
    },
    "tags": []
   },
   "outputs": [],
   "source": [
    "def inorderIter(root: BinaryTreeNode) -> list[int]:\n",
    "    \"\"\"\n",
    "    Left, Root, Right.\n",
    "\n",
    "    If curr is not null, move to its left and append curr to the stack.\n",
    "    Else pop the last item from stack, print it and move to right of the popped element.\n",
    "    \"\"\"\n",
    "    result: list[int] = []\n",
    "    stack: list[BinaryTreeNode] = []\n",
    "    curr = root\n",
    "    while curr or stack:\n",
    "        if curr:\n",
    "            stack.append(curr)\n",
    "            curr = curr.left\n",
    "        else:\n",
    "            curr = stack.pop()\n",
    "            result.append(curr.val)\n",
    "            curr = curr.right\n",
    "\n",
    "    return result\n",
    "\n",
    "# Testing the solution\n",
    "assert inorderIter(BinaryTreeNode.from_array([1, None, 2, 3])) == [1, 3 ,2]"
   ]
  },
  {
   "cell_type": "markdown",
   "id": "bc03474b",
   "metadata": {
    "papermill": {
     "duration": 0.016607,
     "end_time": "2024-04-15T16:15:42.320074",
     "exception": false,
     "start_time": "2024-04-15T16:15:42.303467",
     "status": "completed"
    },
    "tags": []
   },
   "source": [
    "Video Link: https://www.youtube.com/watch?v=2YBhNLodD8Q&list=PLgUwDviBIf0oF6QL8m22w1hIDC1vJ_BHz&index=83\n",
    "Iterative post order traversal"
   ]
  },
  {
   "cell_type": "code",
   "execution_count": 8,
   "id": "a728f1cf",
   "metadata": {
    "execution": {
     "iopub.execute_input": "2024-04-15T16:15:42.354914Z",
     "iopub.status.busy": "2024-04-15T16:15:42.354251Z",
     "iopub.status.idle": "2024-04-15T16:15:42.360854Z",
     "shell.execute_reply": "2024-04-15T16:15:42.360090Z"
    },
    "lines_to_next_cell": 1,
    "papermill": {
     "duration": 0.02591,
     "end_time": "2024-04-15T16:15:42.362722",
     "exception": false,
     "start_time": "2024-04-15T16:15:42.336812",
     "status": "completed"
    },
    "tags": []
   },
   "outputs": [],
   "source": [
    "def postorderIter(root: BinaryTreeNode) -> list[int]:\n",
    "    \"\"\"\n",
    "    Left, Right, Root.\n",
    "\n",
    "    Go root, right, left similar to how we do preorder and reverse the result.\n",
    "    \"\"\"\n",
    "    stack1: list[BinaryTreeNode] = [root]\n",
    "    stack2: list[int] = []\n",
    "    while stack1:\n",
    "        curr = stack1.pop()\n",
    "        if curr:\n",
    "            stack2.append(curr.val)\n",
    "            stack1.append(curr.left)\n",
    "            stack1.append(curr.right)\n",
    "\n",
    "    stack2.reverse()\n",
    "    return stack2\n",
    "\n",
    "# Testing the solution\n",
    "assert postorderIter(BinaryTreeNode.from_array([1, 2, 3, 4, 5, 6, None, None, None, None, None, None, 7])) == [4, 5, 2, 7, 6, 3, 1]"
   ]
  },
  {
   "cell_type": "markdown",
   "id": "c2506b05",
   "metadata": {
    "papermill": {
     "duration": 0.016602,
     "end_time": "2024-04-15T16:15:42.396121",
     "exception": false,
     "start_time": "2024-04-15T16:15:42.379519",
     "status": "completed"
    },
    "tags": []
   },
   "source": [
    "Video Link: https://www.youtube.com/watch?v=NzIGLLwZBS8&list=PLgUwDviBIf0oF6QL8m22w1hIDC1vJ_BHz&index=84\n",
    "Iterative post order traversal using single stack\n",
    "From striver: \"This topic is bit tricky, so try to dry run some trees. Its kinda algorithm that you need to remember. Cannot help\""
   ]
  },
  {
   "cell_type": "code",
   "execution_count": 9,
   "id": "b8f98a3a",
   "metadata": {
    "execution": {
     "iopub.execute_input": "2024-04-15T16:15:42.430356Z",
     "iopub.status.busy": "2024-04-15T16:15:42.430063Z",
     "iopub.status.idle": "2024-04-15T16:15:42.442587Z",
     "shell.execute_reply": "2024-04-15T16:15:42.441735Z"
    },
    "lines_to_next_cell": 1,
    "papermill": {
     "duration": 0.031561,
     "end_time": "2024-04-15T16:15:42.444223",
     "exception": false,
     "start_time": "2024-04-15T16:15:42.412662",
     "status": "completed"
    },
    "tags": []
   },
   "outputs": [
    {
     "data": {
      "text/plain": [
       "[6, 5, 4, 3, 2, 8, 7, 1]"
      ]
     },
     "execution_count": 9,
     "metadata": {},
     "output_type": "execute_result"
    }
   ],
   "source": [
    "def postorderIter_single_stack(root: BinaryTreeNode) -> list[int]:\n",
    "    \"Time: O(2N), Space: O(N)\"\n",
    "    result: list[int] = []\n",
    "    stack: list[BinaryTreeNode] = []\n",
    "    curr = root\n",
    "    while curr or stack:\n",
    "        if curr:\n",
    "            stack.append(curr)\n",
    "            curr = curr.left\n",
    "        else:\n",
    "            temp = stack[-1].right\n",
    "            if not temp:\n",
    "                temp = stack.pop()\n",
    "                result.append(temp.val)\n",
    "                while stack and temp == stack[-1].right:\n",
    "                    temp = stack.pop()\n",
    "                    result.append(temp.val)\n",
    "            else:\n",
    "                curr = temp\n",
    "\n",
    "    return result\n",
    "\n",
    "# Testing the solution\n",
    "postorderIter_single_stack(BinaryTreeNode.from_array([1, 2, 7, 3, None, 8, None, None, 4, None, None, None, 5, None, 6]))"
   ]
  },
  {
   "cell_type": "markdown",
   "id": "cd401b3e",
   "metadata": {
    "papermill": {
     "duration": 0.016702,
     "end_time": "2024-04-15T16:15:42.477955",
     "exception": false,
     "start_time": "2024-04-15T16:15:42.461253",
     "status": "completed"
    },
    "tags": []
   },
   "source": [
    "Video Link: https://youtu.be/ySp2epYvgTE?si=TItCZRCbbFnyQlyi\n",
    "Post Order, In Order, Pre Order Traversal in one iteration"
   ]
  },
  {
   "cell_type": "code",
   "execution_count": 10,
   "id": "ac069236",
   "metadata": {
    "execution": {
     "iopub.execute_input": "2024-04-15T16:15:42.512101Z",
     "iopub.status.busy": "2024-04-15T16:15:42.511864Z",
     "iopub.status.idle": "2024-04-15T16:15:42.519678Z",
     "shell.execute_reply": "2024-04-15T16:15:42.519027Z"
    },
    "lines_to_next_cell": 1,
    "papermill": {
     "duration": 0.026802,
     "end_time": "2024-04-15T16:15:42.521382",
     "exception": false,
     "start_time": "2024-04-15T16:15:42.494580",
     "status": "completed"
    },
    "tags": []
   },
   "outputs": [],
   "source": [
    "def getTreeTraversal_single_traversal(root: BinaryTreeNode) -> tuple[list[int], list[int], list[int]]:\n",
    "    \"Time: O(3N), Space: O(1)\"\n",
    "\n",
    "    preorder: list[int] = []\n",
    "    inorder: list[int] = []\n",
    "    postorder: list[int] = []\n",
    "\n",
    "    stack: list[tuple[BinaryTreeNode, int]] = [(root, 1)]\n",
    "    while stack:\n",
    "        curr, op = stack.pop()\n",
    "        if curr and op == 1:\n",
    "            preorder.append(curr.val)\n",
    "            stack.append((curr, op + 1))\n",
    "            stack.append((curr.left, 1))\n",
    "        elif curr and op == 2:\n",
    "            inorder.append(curr.val)\n",
    "            stack.append((curr, op + 1))\n",
    "            stack.append((curr.right, 1))\n",
    "        else:\n",
    "            if curr:\n",
    "                postorder.append(curr.val)\n",
    "\n",
    "    return preorder, inorder, postorder\n",
    "\n",
    "# Testing the solution\n",
    "temp = BinaryTreeNode.from_array([1, 3, 4, 5, 2, 7, 6])\n",
    "assert getTreeTraversal(temp) == getTreeTraversal_single_traversal(temp)"
   ]
  },
  {
   "cell_type": "markdown",
   "id": "5689f6ec",
   "metadata": {
    "papermill": {
     "duration": 0.016558,
     "end_time": "2024-04-15T16:15:42.554570",
     "exception": false,
     "start_time": "2024-04-15T16:15:42.538012",
     "status": "completed"
    },
    "tags": []
   },
   "source": [
    "Maximum Depth of a Binary Tree: https://www.youtube.com/watch?v=eD3tmO66aBA&list=PLgUwDviBIf0oF6QL8m22w1hIDC1vJ_BHz&index=86"
   ]
  },
  {
   "cell_type": "code",
   "execution_count": 11,
   "id": "77506355",
   "metadata": {
    "execution": {
     "iopub.execute_input": "2024-04-15T16:15:42.589806Z",
     "iopub.status.busy": "2024-04-15T16:15:42.589162Z",
     "iopub.status.idle": "2024-04-15T16:15:42.594992Z",
     "shell.execute_reply": "2024-04-15T16:15:42.594313Z"
    },
    "lines_to_next_cell": 1,
    "papermill": {
     "duration": 0.025029,
     "end_time": "2024-04-15T16:15:42.596607",
     "exception": false,
     "start_time": "2024-04-15T16:15:42.571578",
     "status": "completed"
    },
    "tags": []
   },
   "outputs": [],
   "source": [
    "# Level Order Traversal\n",
    "def maxDepthIter(root: BinaryTreeNode) -> int:\n",
    "    \"Time: O(N), Space: O(N)\"\n",
    "\n",
    "    to_traverse: list[BinaryTreeNode] = [root]\n",
    "    height = 0\n",
    "    while to_traverse:\n",
    "        height += 1\n",
    "        next_: list[BinaryTreeNode] = []\n",
    "        for node in to_traverse:\n",
    "            if node:\n",
    "                next_.append(node.left)\n",
    "                next_.append(node.right)\n",
    "        to_traverse = next_\n",
    "\n",
    "    return height - 1\n",
    "\n",
    "# Testing the solution\n",
    "assert maxDepthIter(BinaryTreeNode.from_array([3,9,20,None,None,15,7])) == 3"
   ]
  },
  {
   "cell_type": "code",
   "execution_count": 12,
   "id": "ad1799a0",
   "metadata": {
    "execution": {
     "iopub.execute_input": "2024-04-15T16:15:42.631413Z",
     "iopub.status.busy": "2024-04-15T16:15:42.631122Z",
     "iopub.status.idle": "2024-04-15T16:15:42.636870Z",
     "shell.execute_reply": "2024-04-15T16:15:42.636219Z"
    },
    "lines_to_next_cell": 1,
    "papermill": {
     "duration": 0.025067,
     "end_time": "2024-04-15T16:15:42.638557",
     "exception": false,
     "start_time": "2024-04-15T16:15:42.613490",
     "status": "completed"
    },
    "tags": []
   },
   "outputs": [],
   "source": [
    "def maxDepthRecursive(root: BinaryTreeNode) -> int:\n",
    "\n",
    "    max_: int = 0\n",
    "    def backtrack(curr: BinaryTreeNode, height: int = 0):\n",
    "        nonlocal max_\n",
    "        if not curr:\n",
    "            max_ = max(max_, height)\n",
    "            return\n",
    "        else:\n",
    "            backtrack(curr.left, height + 1)\n",
    "            backtrack(curr.right, height + 1)\n",
    "\n",
    "    backtrack(root)\n",
    "    return max_\n",
    "\n",
    "# Testing the solution\n",
    "assert maxDepthRecursive(BinaryTreeNode.from_array([3,9,20,None,None,15,7])) == 3"
   ]
  },
  {
   "cell_type": "code",
   "execution_count": 13,
   "id": "593ac16d",
   "metadata": {
    "execution": {
     "iopub.execute_input": "2024-04-15T16:15:42.673575Z",
     "iopub.status.busy": "2024-04-15T16:15:42.672954Z",
     "iopub.status.idle": "2024-04-15T16:15:42.677925Z",
     "shell.execute_reply": "2024-04-15T16:15:42.677260Z"
    },
    "lines_to_next_cell": 1,
    "papermill": {
     "duration": 0.024222,
     "end_time": "2024-04-15T16:15:42.679635",
     "exception": false,
     "start_time": "2024-04-15T16:15:42.655413",
     "status": "completed"
    },
    "tags": []
   },
   "outputs": [],
   "source": [
    "def maxDepthStriver(root: BinaryTreeNode) -> int:\n",
    "    if not root:\n",
    "        return 0\n",
    "    else:\n",
    "        left = maxDepthStriver(root.left)\n",
    "        right = maxDepthStriver(root.right)\n",
    "        return 1 + max(left, right)\n",
    "\n",
    "# Testing the solution\n",
    "assert maxDepthStriver(BinaryTreeNode.from_array([3,9,20,None,None,15,7])) == 3"
   ]
  },
  {
   "cell_type": "markdown",
   "id": "83812466",
   "metadata": {
    "papermill": {
     "duration": 0.016705,
     "end_time": "2024-04-15T16:15:42.713191",
     "exception": false,
     "start_time": "2024-04-15T16:15:42.696486",
     "status": "completed"
    },
    "tags": []
   },
   "source": [
    "Check for balanced Binary Tree: https://youtu.be/Yt50Jfbd8Po?si=pqjd9p-_S-9vRrmG"
   ]
  },
  {
   "cell_type": "code",
   "execution_count": 14,
   "id": "fc21bd9b",
   "metadata": {
    "execution": {
     "iopub.execute_input": "2024-04-15T16:15:42.748272Z",
     "iopub.status.busy": "2024-04-15T16:15:42.747589Z",
     "iopub.status.idle": "2024-04-15T16:15:42.753971Z",
     "shell.execute_reply": "2024-04-15T16:15:42.753315Z"
    },
    "lines_to_next_cell": 1,
    "papermill": {
     "duration": 0.025654,
     "end_time": "2024-04-15T16:15:42.755698",
     "exception": false,
     "start_time": "2024-04-15T16:15:42.730044",
     "status": "completed"
    },
    "tags": []
   },
   "outputs": [],
   "source": [
    "def isBalanced(root: BinaryTreeNode) -> bool:\n",
    "    def checkHeight(curr: BinaryTreeNode) -> int:\n",
    "        if not curr:\n",
    "            return 0\n",
    "        else:\n",
    "            left = checkHeight(curr.left)\n",
    "            if left == -1:\n",
    "                return -1\n",
    "            right = checkHeight(curr.right)\n",
    "            if right == -1:\n",
    "                return -1\n",
    "            if abs(left - right) > 1:\n",
    "                return -1\n",
    "            else:\n",
    "                return 1 + max(left, right)\n",
    "\n",
    "    return checkHeight(root) != -1\n",
    "\n",
    "# Testing the solution\n",
    "assert isBalanced(BinaryTreeNode.from_array([1,2,2,3,3,None,None,4,4])) == False"
   ]
  },
  {
   "cell_type": "markdown",
   "id": "77ff8f23",
   "metadata": {
    "papermill": {
     "duration": 0.016682,
     "end_time": "2024-04-15T16:15:42.807055",
     "exception": false,
     "start_time": "2024-04-15T16:15:42.790373",
     "status": "completed"
    },
    "tags": []
   },
   "source": [
    "Diameter of Binary Tree: https://youtu.be/Rezetez59Nk?si=9WeCIb_ik5elrVZm"
   ]
  },
  {
   "cell_type": "code",
   "execution_count": 15,
   "id": "ce78d08b",
   "metadata": {
    "execution": {
     "iopub.execute_input": "2024-04-15T16:15:42.842288Z",
     "iopub.status.busy": "2024-04-15T16:15:42.841944Z",
     "iopub.status.idle": "2024-04-15T16:15:42.850040Z",
     "shell.execute_reply": "2024-04-15T16:15:42.849319Z"
    },
    "lines_to_next_cell": 1,
    "papermill": {
     "duration": 0.027883,
     "end_time": "2024-04-15T16:15:42.851724",
     "exception": false,
     "start_time": "2024-04-15T16:15:42.823841",
     "status": "completed"
    },
    "tags": []
   },
   "outputs": [
    {
     "data": {
      "text/plain": [
       "3"
      ]
     },
     "execution_count": 15,
     "metadata": {},
     "output_type": "execute_result"
    }
   ],
   "source": [
    "def diameterOfBinaryTree(root: BinaryTreeNode) -> int:\n",
    "\n",
    "    diameter: int = 0\n",
    "    def checkHeight(curr: BinaryTreeNode) -> int:\n",
    "        nonlocal diameter\n",
    "        if not curr:\n",
    "            return 0\n",
    "        else:\n",
    "            left = checkHeight(curr.left)\n",
    "            right = checkHeight(curr.right)\n",
    "            diameter = max(diameter, left + right)\n",
    "            return 1 + max(left, right)\n",
    "\n",
    "    checkHeight(root)\n",
    "    return diameter\n",
    "\n",
    "# Testing the solution\n",
    "diameterOfBinaryTree(BinaryTreeNode.from_array([1,2,3,4,5]))"
   ]
  },
  {
   "cell_type": "markdown",
   "id": "089181e0",
   "metadata": {
    "papermill": {
     "duration": 0.01693,
     "end_time": "2024-04-15T16:15:42.885679",
     "exception": false,
     "start_time": "2024-04-15T16:15:42.868749",
     "status": "completed"
    },
    "tags": []
   },
   "source": [
    "Video Link: https://youtu.be/WszrfSwMz58?si=daE6TYubT_j5MKuT\n",
    "Maximum Path Sum: https://leetcode.com/problems/binary-tree-maximum-path-sum/submissions/1224438073"
   ]
  },
  {
   "cell_type": "code",
   "execution_count": 16,
   "id": "4192b725",
   "metadata": {
    "execution": {
     "iopub.execute_input": "2024-04-15T16:15:42.921007Z",
     "iopub.status.busy": "2024-04-15T16:15:42.920300Z",
     "iopub.status.idle": "2024-04-15T16:15:42.927504Z",
     "shell.execute_reply": "2024-04-15T16:15:42.926739Z"
    },
    "lines_to_next_cell": 1,
    "papermill": {
     "duration": 0.026553,
     "end_time": "2024-04-15T16:15:42.929159",
     "exception": false,
     "start_time": "2024-04-15T16:15:42.902606",
     "status": "completed"
    },
    "tags": []
   },
   "outputs": [],
   "source": [
    "def maxPathSum(root: BinaryTreeNode) -> float:\n",
    "    max_sum: float = -math.inf\n",
    "    def backtrack(curr: BinaryTreeNode) -> float:\n",
    "        nonlocal max_sum\n",
    "        if not curr:\n",
    "            return 0\n",
    "        else:\n",
    "            left = max(0, backtrack(curr.left))\n",
    "            right = max(0, backtrack(curr.right))\n",
    "            max_sum = max(max_sum, left + right + curr.val)\n",
    "            return curr.val + max(left, right)\n",
    "\n",
    "    backtrack(root)\n",
    "    return max_sum\n",
    "\n",
    "# Testing the solution\n",
    "assert maxPathSum(BinaryTreeNode.from_array([-10,9,20,None,None,15,7])) == 42\n",
    "assert maxPathSum(BinaryTreeNode.from_array([1, -2, 3])) == 4\n",
    "assert maxPathSum(BinaryTreeNode.from_array([9,6,-3,None,None,-6,2,None,None,2,None,-6,-6,-6])) == 16"
   ]
  },
  {
   "cell_type": "markdown",
   "id": "0bdad953",
   "metadata": {
    "papermill": {
     "duration": 0.016857,
     "end_time": "2024-04-15T16:15:42.963145",
     "exception": false,
     "start_time": "2024-04-15T16:15:42.946288",
     "status": "completed"
    },
    "tags": []
   },
   "source": [
    "Check if two trees are identical or not\n",
    "Video Link: https://youtu.be/BhuvF_-PWS0?si=C1iPAcpAICZHWRSr"
   ]
  },
  {
   "cell_type": "code",
   "execution_count": 17,
   "id": "7a2627c8",
   "metadata": {
    "execution": {
     "iopub.execute_input": "2024-04-15T16:15:42.998806Z",
     "iopub.status.busy": "2024-04-15T16:15:42.998203Z",
     "iopub.status.idle": "2024-04-15T16:15:43.004676Z",
     "shell.execute_reply": "2024-04-15T16:15:43.004012Z"
    },
    "lines_to_next_cell": 1,
    "papermill": {
     "duration": 0.026087,
     "end_time": "2024-04-15T16:15:43.006390",
     "exception": false,
     "start_time": "2024-04-15T16:15:42.980303",
     "status": "completed"
    },
    "tags": []
   },
   "outputs": [],
   "source": [
    "def isSameTree(p: BinaryTreeNode, q: BinaryTreeNode) -> bool:\n",
    "    def backtrack(curr1: BinaryTreeNode, curr2: BinaryTreeNode) -> bool:\n",
    "        if not curr1 or not curr2:\n",
    "            return curr1 == curr2\n",
    "        else:\n",
    "            return curr1.val == curr2.val and backtrack(curr1.left, curr2.left) and backtrack(curr1.right, curr2.right)\n",
    "\n",
    "    return backtrack(p, q)\n",
    "\n",
    "# Testing the solution\n",
    "assert isSameTree(BinaryTreeNode.from_array([1, 2, 3]), BinaryTreeNode.from_array([1, 2, 3])) == True\n",
    "assert isSameTree(BinaryTreeNode.from_array([1, 2]), BinaryTreeNode.from_array([1, None, 2])) == False"
   ]
  },
  {
   "cell_type": "markdown",
   "id": "6f64cc1b",
   "metadata": {
    "papermill": {
     "duration": 0.016953,
     "end_time": "2024-04-15T16:15:43.040411",
     "exception": false,
     "start_time": "2024-04-15T16:15:43.023458",
     "status": "completed"
    },
    "tags": []
   },
   "source": [
    "Video Link: https://youtu.be/3OXWEdlIGl4?si=prGw3PDHdgEpFJgj\n",
    "Zig Zag / Spiral Traversal in a Binary Tree"
   ]
  },
  {
   "cell_type": "code",
   "execution_count": 18,
   "id": "220a0708",
   "metadata": {
    "execution": {
     "iopub.execute_input": "2024-04-15T16:15:43.076402Z",
     "iopub.status.busy": "2024-04-15T16:15:43.075755Z",
     "iopub.status.idle": "2024-04-15T16:15:43.084101Z",
     "shell.execute_reply": "2024-04-15T16:15:43.083467Z"
    },
    "lines_to_next_cell": 1,
    "papermill": {
     "duration": 0.028247,
     "end_time": "2024-04-15T16:15:43.085833",
     "exception": false,
     "start_time": "2024-04-15T16:15:43.057586",
     "status": "completed"
    },
    "tags": []
   },
   "outputs": [],
   "source": [
    "# Leetcode Medium: https://leetcode.com/problems/binary-tree-zigzag-level-order-traversal/submissions/1225227141\n",
    "def zigzagLevelOrder(root: BinaryTreeNode) -> list[list[int]]:\n",
    "    \"\"\"\n",
    "    Perform a level order traversal, store the results into a deque.\n",
    "    Based on level#, traverse from left node to right or vice versa.\n",
    "    \"\"\"\n",
    "    to_visit: list[BinaryTreeNode] = [root]\n",
    "    result: list[list[int]] = []\n",
    "    level = 1\n",
    "    while to_visit:\n",
    "        next_: list[BinaryTreeNode] = []\n",
    "        result.append([])\n",
    "        for curr in to_visit:\n",
    "            if curr:\n",
    "                result[-1].append(curr.val)\n",
    "                next_.append(curr.left)\n",
    "                next_.append(curr.right)\n",
    "\n",
    "        if not result[-1]:\n",
    "            result.pop()\n",
    "        elif level % 2 == 0:\n",
    "            result[-1].reverse()\n",
    "\n",
    "        to_visit = next_\n",
    "        level += 1\n",
    "\n",
    "    return result\n",
    "\n",
    "# Testing the solution\n",
    "assert zigzagLevelOrder(BinaryTreeNode.from_array([3,9,20,None,None,15,7])) == [[3],[20,9],[15,7]]\n",
    "assert zigzagLevelOrder(BinaryTreeNode.from_array([1,2,3,4,None,None,5])) == [[1],[3,2],[4,5]]"
   ]
  },
  {
   "cell_type": "markdown",
   "id": "83e73a04",
   "metadata": {
    "papermill": {
     "duration": 0.016951,
     "end_time": "2024-04-15T16:15:43.119909",
     "exception": false,
     "start_time": "2024-04-15T16:15:43.102958",
     "status": "completed"
    },
    "tags": []
   },
   "source": [
    "Video Link: https://youtu.be/0ca1nvR0be4?si=Er0-Y8gxhnKlWt6-\n",
    "Boundary Traversal in a Binary Tree"
   ]
  },
  {
   "cell_type": "code",
   "execution_count": 19,
   "id": "3e63f2c1",
   "metadata": {
    "execution": {
     "iopub.execute_input": "2024-04-15T16:15:43.155498Z",
     "iopub.status.busy": "2024-04-15T16:15:43.154801Z",
     "iopub.status.idle": "2024-04-15T16:15:43.165302Z",
     "shell.execute_reply": "2024-04-15T16:15:43.164678Z"
    },
    "lines_to_next_cell": 1,
    "papermill": {
     "duration": 0.030257,
     "end_time": "2024-04-15T16:15:43.167161",
     "exception": false,
     "start_time": "2024-04-15T16:15:43.136904",
     "status": "completed"
    },
    "tags": []
   },
   "outputs": [],
   "source": [
    "def traverseBoundary(root: BinaryTreeNode) -> list[int]:\n",
    "    \"\"\"\n",
    "    Left boundary excluding leaves, Leaf nodes, Right Boundary excluding leaves\n",
    "    \"\"\"\n",
    "\n",
    "    left: list[int] = []\n",
    "    curr = root.left\n",
    "    while curr and (curr.left or curr.right):\n",
    "        left.append(curr.val)\n",
    "        curr = curr.left if curr.left else curr.right\n",
    "\n",
    "    boundary: list[int] = []\n",
    "    def getLeaves(curr: BinaryTreeNode):\n",
    "        nonlocal boundary\n",
    "        if not curr:\n",
    "            return\n",
    "        else:\n",
    "            if not curr.left and not curr.right:\n",
    "                boundary.append(curr.val)\n",
    "            getLeaves(curr.left)\n",
    "            getLeaves(curr.right)\n",
    "\n",
    "    right: list[int] = []\n",
    "    curr = root.right\n",
    "    while curr and (curr.left or curr.right):\n",
    "        right.append(curr.val)\n",
    "        curr = curr.right if curr.right else curr.left\n",
    "    right.reverse()\n",
    "\n",
    "    getLeaves(root)\n",
    "    return [root.val] + left + boundary + right\n",
    "\n",
    "# Testing the solution\n",
    "assert traverseBoundary(BinaryTreeNode.from_array([10, 5, 20, 3, 8, 18, 25, None, None, 7, None, None, None, None, None, None, None])) == [10, 5, 3, 7, 18, 25, 20]\n",
    "assert traverseBoundary(BinaryTreeNode.from_array([100, 50, 150, 25, 75, 140, 200, None, 30, 70, 80, None, None, None, None, None, 35, None, None, None, None, None, None])) == [100, 50, 25, 30, 35, 70, 80, 140, 200, 150]"
   ]
  },
  {
   "cell_type": "markdown",
   "id": "48a971f2",
   "metadata": {
    "papermill": {
     "duration": 0.016961,
     "end_time": "2024-04-15T16:15:43.201212",
     "exception": false,
     "start_time": "2024-04-15T16:15:43.184251",
     "status": "completed"
    },
    "tags": []
   },
   "source": [
    "Video Link: https://youtu.be/q_a6lpbKJdw?si=d1p9utIGRbbi7q84\n",
    "Vertial order traversal of Binary Tree"
   ]
  },
  {
   "cell_type": "code",
   "execution_count": 20,
   "id": "584c0df0",
   "metadata": {
    "execution": {
     "iopub.execute_input": "2024-04-15T16:15:43.236487Z",
     "iopub.status.busy": "2024-04-15T16:15:43.235807Z",
     "iopub.status.idle": "2024-04-15T16:15:43.246039Z",
     "shell.execute_reply": "2024-04-15T16:15:43.245400Z"
    },
    "lines_to_next_cell": 1,
    "papermill": {
     "duration": 0.029754,
     "end_time": "2024-04-15T16:15:43.247804",
     "exception": false,
     "start_time": "2024-04-15T16:15:43.218050",
     "status": "completed"
    },
    "tags": []
   },
   "outputs": [],
   "source": [
    "# Problem Link: https://leetcode.com/problems/vertical-order-traversal-of-a-binary-tree/submissions/1226266467\n",
    "def verticalTraversal(root: BinaryTreeNode) -> list[list[int]]:\n",
    "    \"\"\"\n",
    "    Time: O(N log N), Space: O(N)\n",
    "    \"\"\"\n",
    "\n",
    "    # Time: O(N)\n",
    "    ordering: list[tuple[int, int, int]] = []\n",
    "    def backtrack(curr: BinaryTreeNode, i: int, j: int):\n",
    "        nonlocal ordering\n",
    "        if not curr:\n",
    "            return\n",
    "        else:\n",
    "            ordering.append((curr.val, i, j))\n",
    "            backtrack(curr.left, i + 1, j - 1)\n",
    "            backtrack(curr.right, i + 1, j + 1)\n",
    "\n",
    "    # Time: O(N log N)\n",
    "    backtrack(root, 0, 0)\n",
    "    ordering.sort(key=lambda x: (x[2], x[1], x[0]))\n",
    "\n",
    "    # Time: O(N)\n",
    "    result: list[list[int]] = []\n",
    "    prev = ordering[0][2] - 1\n",
    "    for k, i, j in ordering:\n",
    "        if j != prev:\n",
    "            result.append([])\n",
    "            prev = j\n",
    "        result[-1].append(k)\n",
    "\n",
    "    return result\n",
    "\n",
    "# Testing the solution\n",
    "assert verticalTraversal(BinaryTreeNode.from_array([3,9,20,None,None,15,7])) == [[9], [3, 15], [20], [7]]\n",
    "assert verticalTraversal(BinaryTreeNode.from_array([1, 2, 3, 4, 5, 6, 7])) == [[4], [2], [1,5,6], [3], [7]]\n",
    "assert verticalTraversal(BinaryTreeNode.from_array([1, 2, 3, 4, 6, 5, 7])) == [[4], [2], [1, 5, 6], [3], [7]]"
   ]
  },
  {
   "cell_type": "markdown",
   "id": "5a99a217",
   "metadata": {
    "papermill": {
     "duration": 0.016853,
     "end_time": "2024-04-15T16:15:43.281517",
     "exception": false,
     "start_time": "2024-04-15T16:15:43.264664",
     "status": "completed"
    },
    "tags": []
   },
   "source": [
    "Video Link: https://youtu.be/Et9OCDNvJ78?si=JB9v3iN8uhAELNkl\n",
    "Top view of a Binary Tree"
   ]
  },
  {
   "cell_type": "code",
   "execution_count": 21,
   "id": "fbf1035d",
   "metadata": {
    "execution": {
     "iopub.execute_input": "2024-04-15T16:15:43.316444Z",
     "iopub.status.busy": "2024-04-15T16:15:43.316205Z",
     "iopub.status.idle": "2024-04-15T16:15:43.324051Z",
     "shell.execute_reply": "2024-04-15T16:15:43.323375Z"
    },
    "lines_to_next_cell": 1,
    "papermill": {
     "duration": 0.027224,
     "end_time": "2024-04-15T16:15:43.325748",
     "exception": false,
     "start_time": "2024-04-15T16:15:43.298524",
     "status": "completed"
    },
    "tags": []
   },
   "outputs": [],
   "source": [
    "def topViewBinaryTree(root: BinaryTreeNode) -> list[int]:\n",
    "    topView: dict[int, int] = dict()\n",
    "\n",
    "    # Level Order Traversal\n",
    "    stack: list[tuple[BinaryTreeNode, int]] = [(root, 0)]\n",
    "    while stack:\n",
    "        next_: list[tuple[BinaryTreeNode, int]] = []\n",
    "        for curr, j in stack:\n",
    "            if curr:\n",
    "                if j not in topView:\n",
    "                    topView[j] = curr.val\n",
    "                next_.append((curr.left, j - 1))\n",
    "                next_.append((curr.right, j + 1))\n",
    "\n",
    "        stack = next_\n",
    "\n",
    "    result: list[int] = []\n",
    "    for k, v in sorted(topView.items(), key=lambda x: x[0]):\n",
    "        result.append(v)\n",
    "\n",
    "    return result\n",
    "\n",
    "# Testing the result\n",
    "assert topViewBinaryTree(BinaryTreeNode.from_array([1, 2, 3, 4, 5, None, 6, None, 7, None, None, 8, None, 9, None, None, 11, 10, None, None, None, None, None])) == [10, 4,  2, 1, 3, 6]"
   ]
  },
  {
   "cell_type": "markdown",
   "id": "b62cb1a9",
   "metadata": {
    "papermill": {
     "duration": 0.016728,
     "end_time": "2024-04-15T16:15:43.359385",
     "exception": false,
     "start_time": "2024-04-15T16:15:43.342657",
     "status": "completed"
    },
    "tags": []
   },
   "source": [
    "Video Link: https://youtu.be/0FtVY6I4pB8?si=pBJ-JgXeSz_WxjCs\n",
    "Bottom view of a Binary tree"
   ]
  },
  {
   "cell_type": "code",
   "execution_count": 22,
   "id": "f1b0d9dd",
   "metadata": {
    "execution": {
     "iopub.execute_input": "2024-04-15T16:15:43.394249Z",
     "iopub.status.busy": "2024-04-15T16:15:43.393990Z",
     "iopub.status.idle": "2024-04-15T16:15:43.401201Z",
     "shell.execute_reply": "2024-04-15T16:15:43.400441Z"
    },
    "lines_to_next_cell": 1,
    "papermill": {
     "duration": 0.026577,
     "end_time": "2024-04-15T16:15:43.402825",
     "exception": false,
     "start_time": "2024-04-15T16:15:43.376248",
     "status": "completed"
    },
    "tags": []
   },
   "outputs": [],
   "source": [
    "def bottomView(root: BinaryTreeNode) -> list[int]:\n",
    "    ordering: dict[int, int] = dict()\n",
    "    stack: list[tuple[BinaryTreeNode, int]] = [(root, 0)]\n",
    "    while stack:\n",
    "        next_: list[tuple[BinaryTreeNode, int]] = []\n",
    "        for curr, j in stack:\n",
    "            if curr:\n",
    "                ordering[j] = curr.val\n",
    "                next_.append((curr.left, j - 1))\n",
    "                next_.append((curr.right, j + 1))\n",
    "\n",
    "        stack = next_\n",
    "\n",
    "    result: list[int] = []\n",
    "    for k in sorted(ordering.keys()):\n",
    "        result.append(ordering[k])\n",
    "\n",
    "    return result\n",
    "\n",
    "# Testing the solution\n",
    "assert bottomView(BinaryTreeNode.from_array([1, 2, 3, None, None, 5, 6, 7, 8, None, None, None, None, None, None])) == [7, 5, 8, 6]"
   ]
  },
  {
   "cell_type": "markdown",
   "id": "262c0c19",
   "metadata": {
    "papermill": {
     "duration": 0.016858,
     "end_time": "2024-04-15T16:15:43.436701",
     "exception": false,
     "start_time": "2024-04-15T16:15:43.419843",
     "status": "completed"
    },
    "tags": []
   },
   "source": [
    "Video Link: https://youtu.be/KV4mRzTjlAk?si=lzQH9S7GrgZKUjMj\n",
    "Right / Left view of a Binary Tree"
   ]
  },
  {
   "cell_type": "code",
   "execution_count": 23,
   "id": "8d6decb1",
   "metadata": {
    "execution": {
     "iopub.execute_input": "2024-04-15T16:15:43.471883Z",
     "iopub.status.busy": "2024-04-15T16:15:43.471236Z",
     "iopub.status.idle": "2024-04-15T16:15:43.478902Z",
     "shell.execute_reply": "2024-04-15T16:15:43.478095Z"
    },
    "lines_to_next_cell": 1,
    "papermill": {
     "duration": 0.026925,
     "end_time": "2024-04-15T16:15:43.480461",
     "exception": false,
     "start_time": "2024-04-15T16:15:43.453536",
     "status": "completed"
    },
    "tags": []
   },
   "outputs": [],
   "source": [
    "# Right Side View: Time - O(N)\n",
    "def rightSideView(root: BinaryTreeNode) -> list[int]:\n",
    "    ordering: dict[int, int] = dict()\n",
    "    def inOrder(curr: BinaryTreeNode, i: int = 0):\n",
    "        nonlocal ordering\n",
    "        if not curr:\n",
    "            return\n",
    "        else:\n",
    "            ordering[i] = curr.val\n",
    "            inOrder(curr.left, i + 1)\n",
    "            inOrder(curr.right, i + 1)\n",
    "\n",
    "    # Backtrack and store the results\n",
    "    inOrder(root)\n",
    "    result: list[int] = []\n",
    "    for k in sorted(ordering.keys()):\n",
    "        result.append(ordering[k])\n",
    "\n",
    "    return result\n",
    "\n",
    "# Testing the solution\n",
    "assert rightSideView(BinaryTreeNode.from_array([1, 2, 3, None, 5, None, 4])) == [1, 3, 4]\n",
    "assert rightSideView(BinaryTreeNode.from_array([1, 2, 3, 4])) == [1, 3, 4]"
   ]
  },
  {
   "cell_type": "code",
   "execution_count": 24,
   "id": "367ea6a3",
   "metadata": {
    "execution": {
     "iopub.execute_input": "2024-04-15T16:15:43.515743Z",
     "iopub.status.busy": "2024-04-15T16:15:43.515044Z",
     "iopub.status.idle": "2024-04-15T16:15:43.522823Z",
     "shell.execute_reply": "2024-04-15T16:15:43.522135Z"
    },
    "lines_to_next_cell": 1,
    "papermill": {
     "duration": 0.027115,
     "end_time": "2024-04-15T16:15:43.524444",
     "exception": false,
     "start_time": "2024-04-15T16:15:43.497329",
     "status": "completed"
    },
    "tags": [],
    "title": "Left Side View: Time - O(N)"
   },
   "outputs": [],
   "source": [
    "def leftSideView(root: BinaryTreeNode) -> list[int]:\n",
    "    ordering: dict[int, int] = dict()\n",
    "    def backtrack(curr: BinaryTreeNode, i: int = 0):\n",
    "        nonlocal ordering\n",
    "        if not curr:\n",
    "            return\n",
    "        else:\n",
    "            ordering[i] = curr.val\n",
    "            backtrack(curr.right, i + 1)\n",
    "            backtrack(curr.left, i + 1)\n",
    "\n",
    "    # Backtrack and store the results\n",
    "    backtrack(root)\n",
    "    result: list[int] = []\n",
    "    for k in sorted(ordering.keys()):\n",
    "        result.append(ordering[k])\n",
    "\n",
    "    return result\n",
    "\n",
    "# Testing the solution\n",
    "assert leftSideView(BinaryTreeNode.from_array([1, 2, 3, None, 5, None, 4])) == [1, 2, 5]\n",
    "assert leftSideView(BinaryTreeNode.from_array([1, 2, 3, 4])) == [1, 2, 4]"
   ]
  },
  {
   "cell_type": "code",
   "execution_count": 25,
   "id": "40a6b0a2",
   "metadata": {
    "execution": {
     "iopub.execute_input": "2024-04-15T16:15:43.560303Z",
     "iopub.status.busy": "2024-04-15T16:15:43.559676Z",
     "iopub.status.idle": "2024-04-15T16:15:43.566830Z",
     "shell.execute_reply": "2024-04-15T16:15:43.566059Z"
    },
    "lines_to_next_cell": 1,
    "papermill": {
     "duration": 0.026753,
     "end_time": "2024-04-15T16:15:43.568442",
     "exception": false,
     "start_time": "2024-04-15T16:15:43.541689",
     "status": "completed"
    },
    "tags": []
   },
   "outputs": [],
   "source": [
    "# Better solution from Striver\n",
    "def rightSideViewStriver(root: BinaryTreeNode) -> list[int]:\n",
    "    result: list[int] = []\n",
    "    def backtrack(curr: BinaryTreeNode, level: int = 1):\n",
    "        \"\"\"\n",
    "        Modified preorder traversal - RRL.\n",
    "        We insert to our result only when we are coming the level for the first time.\n",
    "        \"\"\"\n",
    "        nonlocal result\n",
    "        if not curr:\n",
    "            return\n",
    "        else:\n",
    "            if level > len(result):\n",
    "                result.append(curr.val)\n",
    "            backtrack(curr.right, level + 1)\n",
    "            backtrack(curr.left, level + 1)\n",
    "\n",
    "    # Recurse and save the results\n",
    "    backtrack(root)\n",
    "    return result\n",
    "\n",
    "# Testing the solution\n",
    "assert rightSideViewStriver(BinaryTreeNode.from_array([1, 2, 3, None, 5, None, 4])) == [1, 3, 4]\n",
    "assert rightSideViewStriver(BinaryTreeNode.from_array([1, 2, 3, 4])) == [1, 3, 4]"
   ]
  },
  {
   "cell_type": "markdown",
   "id": "3d234569",
   "metadata": {
    "papermill": {
     "duration": 0.016759,
     "end_time": "2024-04-15T16:15:43.602212",
     "exception": false,
     "start_time": "2024-04-15T16:15:43.585453",
     "status": "completed"
    },
    "tags": []
   },
   "source": [
    "Video Link: https://youtu.be/nKggNAiEpBE?si=abzPcl6pKzyFpJ2i\n",
    "Problem Link: https://leetcode.com/problems/symmetric-tree/submissions/1227182868"
   ]
  },
  {
   "cell_type": "code",
   "execution_count": 26,
   "id": "7dae62c7",
   "metadata": {
    "execution": {
     "iopub.execute_input": "2024-04-15T16:15:43.637416Z",
     "iopub.status.busy": "2024-04-15T16:15:43.636846Z",
     "iopub.status.idle": "2024-04-15T16:15:43.646287Z",
     "shell.execute_reply": "2024-04-15T16:15:43.645629Z"
    },
    "lines_to_next_cell": 1,
    "papermill": {
     "duration": 0.028908,
     "end_time": "2024-04-15T16:15:43.648072",
     "exception": false,
     "start_time": "2024-04-15T16:15:43.619164",
     "status": "completed"
    },
    "tags": []
   },
   "outputs": [],
   "source": [
    "def isSymmetric(root: BinaryTreeNode) -> bool:\n",
    "    def backtrack(left: BinaryTreeNode, right: BinaryTreeNode) -> bool:\n",
    "        if not left or not right:\n",
    "            return left == right\n",
    "        else:\n",
    "            return left.val == right.val and backtrack(left.left, right.right) and backtrack(left.right, right.left)\n",
    "\n",
    "    def isPalindrome(arr: list[BinaryTreeNode]) -> bool:\n",
    "        N = len(arr)\n",
    "        i, j = 0, N - 1\n",
    "        while i < j:\n",
    "            left, right = arr[i].val if arr[i] else None, arr[j].val if arr[j] else None\n",
    "            i, j = i + 1, j - 1\n",
    "            if left != right:\n",
    "                return False\n",
    "        return True\n",
    "\n",
    "    def iterate() -> bool:\n",
    "        stack: list[BinaryTreeNode] = [root]\n",
    "        while stack:\n",
    "            next_: list[BinaryTreeNode] = []\n",
    "            for curr in stack:\n",
    "                if curr:\n",
    "                    next_.append(curr.left)\n",
    "                    next_.append(curr.right)\n",
    "\n",
    "            if not isPalindrome(next_):\n",
    "                return False\n",
    "            else:\n",
    "                stack = next_\n",
    "        else:\n",
    "            return True\n",
    "\n",
    "    # return backtrack(root.left, root.right)\n",
    "    return iterate()\n",
    "\n",
    "# Testing the solution\n",
    "assert isSymmetric(BinaryTreeNode.from_array([1, 2, 2, None, 3, None, 3])) == False\n",
    "assert isSymmetric(BinaryTreeNode.from_array([1, 2, 2, None, 3, 3, None])) == True"
   ]
  },
  {
   "cell_type": "markdown",
   "id": "3d1fac60",
   "metadata": {
    "papermill": {
     "duration": 0.016862,
     "end_time": "2024-04-15T16:15:43.682004",
     "exception": false,
     "start_time": "2024-04-15T16:15:43.665142",
     "status": "completed"
    },
    "tags": []
   },
   "source": [
    "Video Link: https://youtu.be/fmflMqVOC7k?si=1AX2ea08UGtxw0mj\n",
    "Print Root to Node path in Binary Tree"
   ]
  },
  {
   "cell_type": "code",
   "execution_count": 27,
   "id": "f0244aad",
   "metadata": {
    "execution": {
     "iopub.execute_input": "2024-04-15T16:15:43.717177Z",
     "iopub.status.busy": "2024-04-15T16:15:43.716543Z",
     "iopub.status.idle": "2024-04-15T16:15:43.725000Z",
     "shell.execute_reply": "2024-04-15T16:15:43.724350Z"
    },
    "lines_to_next_cell": 1,
    "papermill": {
     "duration": 0.027886,
     "end_time": "2024-04-15T16:15:43.726745",
     "exception": false,
     "start_time": "2024-04-15T16:15:43.698859",
     "status": "completed"
    },
    "tags": []
   },
   "outputs": [
    {
     "data": {
      "text/plain": [
       "[1, 2, 5, 7]"
      ]
     },
     "execution_count": 27,
     "metadata": {},
     "output_type": "execute_result"
    }
   ],
   "source": [
    "def rootToNodePath(root: BinaryTreeNode, target: int) -> list[int]:\n",
    "    \"Time: O(N), Space: O(H)\"\n",
    "    path: list[int] = []\n",
    "    def backtrack(curr: BinaryTreeNode) -> bool:\n",
    "        if not curr:\n",
    "            return False\n",
    "        else:\n",
    "            path.append(curr.val)\n",
    "            result = curr.val == target or backtrack(curr.left) or backtrack(curr.right)\n",
    "            if not result:\n",
    "                path.pop()\n",
    "\n",
    "            return result\n",
    "\n",
    "    backtrack(root)\n",
    "    return path\n",
    "\n",
    "\n",
    "# Testing the solution\n",
    "rootToNodePath(BinaryTreeNode.from_array([1, 2, 3, 4, 5, None, None, None, None, 6, 7]), 7)"
   ]
  },
  {
   "cell_type": "markdown",
   "id": "b7a03676",
   "metadata": {
    "papermill": {
     "duration": 0.017167,
     "end_time": "2024-04-15T16:15:43.761150",
     "exception": false,
     "start_time": "2024-04-15T16:15:43.743983",
     "status": "completed"
    },
    "tags": []
   },
   "source": [
    "Lowest common ancestor\n",
    "Video Link: https://youtu.be/_-QHfMDde90?si=3pJ5ysXG6FArt3Q3"
   ]
  },
  {
   "cell_type": "code",
   "execution_count": 28,
   "id": "7a501b5a",
   "metadata": {
    "execution": {
     "iopub.execute_input": "2024-04-15T16:15:43.796388Z",
     "iopub.status.busy": "2024-04-15T16:15:43.796150Z",
     "iopub.status.idle": "2024-04-15T16:15:43.802814Z",
     "shell.execute_reply": "2024-04-15T16:15:43.801924Z"
    },
    "lines_to_next_cell": 1,
    "papermill": {
     "duration": 0.026125,
     "end_time": "2024-04-15T16:15:43.804517",
     "exception": false,
     "start_time": "2024-04-15T16:15:43.778392",
     "status": "completed"
    },
    "tags": []
   },
   "outputs": [],
   "source": [
    "# Problem Link: https://leetcode.com/problems/lowest-common-ancestor-of-a-binary-tree/submissions/1228152859\n",
    "def lowestCommonAncestor(root: BinaryTreeNode, p: BinaryTreeNode, q: BinaryTreeNode) -> BinaryTreeNode:\n",
    "    def backtrack(curr: BinaryTreeNode) -> BinaryTreeNode:\n",
    "        if not curr:\n",
    "            return curr\n",
    "        else:\n",
    "            left = backtrack(curr.left)\n",
    "            right = backtrack(curr.right)\n",
    "            if left and right:\n",
    "                return curr\n",
    "            elif curr in (p, q):\n",
    "                return curr\n",
    "            else:\n",
    "                return left if left else right\n",
    "\n",
    "    return backtrack(root)\n",
    "\n",
    "# Testing the solution\n",
    "temp: BinaryTreeNode = BinaryTreeNode.from_array([3,5,1,6,2,0,8,None,None,7,4])\n",
    "assert lowestCommonAncestor(temp, p=temp.left, q=temp.left.right.right).val == 5"
   ]
  },
  {
   "cell_type": "markdown",
   "id": "8415d919",
   "metadata": {
    "papermill": {
     "duration": 0.017123,
     "end_time": "2024-04-15T16:15:43.838817",
     "exception": false,
     "start_time": "2024-04-15T16:15:43.821694",
     "status": "completed"
    },
    "tags": []
   },
   "source": [
    "Maximum width of a binary Tree\n",
    "Video Link: https://youtu.be/ZbybYvcVLks?si=_r6ouO7uxfz3DI6I"
   ]
  },
  {
   "cell_type": "code",
   "execution_count": 29,
   "id": "249090c8",
   "metadata": {
    "execution": {
     "iopub.execute_input": "2024-04-15T16:15:43.874648Z",
     "iopub.status.busy": "2024-04-15T16:15:43.873966Z",
     "iopub.status.idle": "2024-04-15T16:15:43.881084Z",
     "shell.execute_reply": "2024-04-15T16:15:43.880331Z"
    },
    "lines_to_next_cell": 1,
    "papermill": {
     "duration": 0.026766,
     "end_time": "2024-04-15T16:15:43.882710",
     "exception": false,
     "start_time": "2024-04-15T16:15:43.855944",
     "status": "completed"
    },
    "tags": []
   },
   "outputs": [],
   "source": [
    "# Problem Link: https://leetcode.com/problems/maximum-width-of-binary-tree/submissions/1228981858\n",
    "def widthOfBinaryTree(root: BinaryTreeNode) -> int:\n",
    "    \"\"\"\n",
    "    1. 0 Based indexing:\n",
    "        - Left of any node: (2 * i + 1)\n",
    "        - Right of any node: (2 * i + 2)\n",
    "\n",
    "    2. 1 Based indexing:\n",
    "        - Left of any node: (2 * i)\n",
    "        - Right of any node: (2 * i + 1)\n",
    "    \"\"\"\n",
    "\n",
    "    max_width: int = 0\n",
    "    queue: list[tuple[BinaryTreeNode, int]] = [(root, 0)]\n",
    "    while queue:\n",
    "        max_width = max(max_width, queue[-1][1] - queue[0][1] + 1)\n",
    "        next_: list[tuple[BinaryTreeNode, int]] = []\n",
    "        min_idx = queue[0][1] # i - min_idx is done to prevent buffer overflow in languages like C, C++\n",
    "        for curr, i in queue:\n",
    "            if curr.left:\n",
    "                next_.append((curr.left, 2 * (i - min_idx) + 1))\n",
    "            if curr.right:\n",
    "                next_.append((curr.right, 2 * (i - min_idx) + 2))\n",
    "\n",
    "        queue = next_\n",
    "\n",
    "    return max_width\n",
    "\n",
    "# Testing the solution\n",
    "assert widthOfBinaryTree(BinaryTreeNode.from_array([1,3,2,5,3,None,9])) == 4"
   ]
  },
  {
   "cell_type": "markdown",
   "id": "db8bdc78",
   "metadata": {
    "papermill": {
     "duration": 0.017018,
     "end_time": "2024-04-15T16:15:43.917060",
     "exception": false,
     "start_time": "2024-04-15T16:15:43.900042",
     "status": "completed"
    },
    "tags": []
   },
   "source": [
    "Video Link: https://youtu.be/fnmisPM6cVo?si=gK9Xm0WNZQ6dqBk6\n",
    "Check children sum property in Binary Tree"
   ]
  },
  {
   "cell_type": "code",
   "execution_count": 30,
   "id": "e9c463d9",
   "metadata": {
    "execution": {
     "iopub.execute_input": "2024-04-15T16:15:43.952635Z",
     "iopub.status.busy": "2024-04-15T16:15:43.951955Z",
     "iopub.status.idle": "2024-04-15T16:15:43.958129Z",
     "shell.execute_reply": "2024-04-15T16:15:43.957385Z"
    },
    "lines_to_next_cell": 1,
    "papermill": {
     "duration": 0.025612,
     "end_time": "2024-04-15T16:15:43.959729",
     "exception": false,
     "start_time": "2024-04-15T16:15:43.934117",
     "status": "completed"
    },
    "tags": []
   },
   "outputs": [],
   "source": [
    "def isParentSum(curr: BinaryTreeNode) -> bool:\n",
    "    if not curr or (not curr.left and not curr.right): # Leaf node\n",
    "        return True\n",
    "    else:\n",
    "        curr_parent_sum = (curr.val == ((curr.left.val if curr.left else 0) + (curr.right.val if curr.right else 0)))\n",
    "        return curr_parent_sum and isParentSum(curr.left) and isParentSum(curr.right)\n",
    "\n",
    "# Testing the solution\n",
    "assert isParentSum(BinaryTreeNode.from_array([5, 3, 2, 3, None, None, None, None, None])) == True\n",
    "assert isParentSum(BinaryTreeNode.from_array([7, 3, 4, 3, None, 2, 3, None, None, None, None, None, None])) == False"
   ]
  },
  {
   "cell_type": "markdown",
   "id": "6315a3c1",
   "metadata": {
    "papermill": {
     "duration": 0.017484,
     "end_time": "2024-04-15T16:15:43.994382",
     "exception": false,
     "start_time": "2024-04-15T16:15:43.976898",
     "status": "completed"
    },
    "tags": []
   },
   "source": [
    "Maintain children sum property of a binary Tree"
   ]
  },
  {
   "cell_type": "code",
   "execution_count": 31,
   "id": "20d7e7dd",
   "metadata": {
    "execution": {
     "iopub.execute_input": "2024-04-15T16:15:44.030494Z",
     "iopub.status.busy": "2024-04-15T16:15:44.029784Z",
     "iopub.status.idle": "2024-04-15T16:15:44.038056Z",
     "shell.execute_reply": "2024-04-15T16:15:44.037396Z"
    },
    "lines_to_next_cell": 1,
    "papermill": {
     "duration": 0.028028,
     "end_time": "2024-04-15T16:15:44.039742",
     "exception": false,
     "start_time": "2024-04-15T16:15:44.011714",
     "status": "completed"
    },
    "tags": []
   },
   "outputs": [],
   "source": [
    "def restoreChildrenSumProperty(root: BinaryTreeNode) -> BinaryTreeNode:\n",
    "    \"In languages such as C, this might cause buffer overflow, see striver sol below\"\n",
    "    max_ = 0\n",
    "    def postOrder(curr: BinaryTreeNode) -> int:\n",
    "        nonlocal max_\n",
    "        max_ = max(max_, curr.val if curr else 0)\n",
    "        if not curr.left and not curr.right:\n",
    "            assert curr.val < max_, f\"Can only increment, {curr.val} cannot become {max_}\"\n",
    "            curr.val = max_\n",
    "            return curr.val\n",
    "        else:\n",
    "            left_ = postOrder(curr.left) if curr.left else 0\n",
    "            right_ = postOrder(curr.right) if curr.right else 0\n",
    "            assert curr.val < left_ + right_, f\"Can only increment, {curr.val} cannot become {left_ + right_}\"\n",
    "            curr.val = left_ + right_\n",
    "            return left_ + right_\n",
    "\n",
    "    postOrder(root)\n",
    "    return root\n",
    "\n",
    "# Testing the solution\n",
    "assert isParentSum(restoreChildrenSumProperty(BinaryTreeNode.from_array([2, 35, 10, 2, 3, 5, 2])))\n",
    "assert isParentSum(restoreChildrenSumProperty(BinaryTreeNode.from_array([50, 7, 2, 3, 5, 1, 30])))\n",
    "assert isParentSum(restoreChildrenSumProperty(BinaryTreeNode.from_array([7, 3, 4, 3, None, 2, 3, None, None, None, None, None, None])))"
   ]
  },
  {
   "cell_type": "code",
   "execution_count": 32,
   "id": "bf9f3b28",
   "metadata": {
    "execution": {
     "iopub.execute_input": "2024-04-15T16:15:44.075623Z",
     "iopub.status.busy": "2024-04-15T16:15:44.075332Z",
     "iopub.status.idle": "2024-04-15T16:15:44.083504Z",
     "shell.execute_reply": "2024-04-15T16:15:44.082830Z"
    },
    "lines_to_next_cell": 1,
    "papermill": {
     "duration": 0.028133,
     "end_time": "2024-04-15T16:15:44.085135",
     "exception": false,
     "start_time": "2024-04-15T16:15:44.057002",
     "status": "completed"
    },
    "tags": []
   },
   "outputs": [],
   "source": [
    "def restoreChildrenSumProperty_striver(root: BinaryTreeNode) -> BinaryTreeNode:\n",
    "    def postOrder(curr: BinaryTreeNode) -> int:\n",
    "        if not curr.left and not curr.right:\n",
    "            return curr.val\n",
    "        else:\n",
    "            if curr.val > (curr.left.val if curr.left else 0) + (curr.right.val if curr.right else 0):\n",
    "                if curr.left:\n",
    "                    curr.left.val = curr.val\n",
    "                if curr.right:\n",
    "                    curr.right.val = curr.val\n",
    "\n",
    "            left = postOrder(curr.left) if curr.left else 0\n",
    "            right = postOrder(curr.right) if curr.right else 0\n",
    "            curr.val = left + right\n",
    "            return curr.val\n",
    "\n",
    "    postOrder(root)\n",
    "    return root\n",
    "\n",
    "# Testing the solution\n",
    "assert isParentSum(restoreChildrenSumProperty_striver(BinaryTreeNode.from_array([2, 35, 10, 2, 3, 5, 2])))\n",
    "assert isParentSum(restoreChildrenSumProperty_striver(BinaryTreeNode.from_array([50, 7, 2, 3, 5, 1, 30])))\n",
    "assert isParentSum(restoreChildrenSumProperty_striver(BinaryTreeNode.from_array([7, 3, 4, 3, None, 2, 3, None, None, None, None, None, None])))"
   ]
  },
  {
   "cell_type": "markdown",
   "id": "d81de678",
   "metadata": {
    "papermill": {
     "duration": 0.01704,
     "end_time": "2024-04-15T16:15:44.119259",
     "exception": false,
     "start_time": "2024-04-15T16:15:44.102219",
     "status": "completed"
    },
    "tags": []
   },
   "source": [
    "Video Link: https://youtu.be/i9ORlEy6EsI?si=GlIarkkKAHDMEXss\n",
    "Print all nodes at K distance from target in Binary Tree"
   ]
  },
  {
   "cell_type": "code",
   "execution_count": 33,
   "id": "af18ee1c",
   "metadata": {
    "execution": {
     "iopub.execute_input": "2024-04-15T16:15:44.155146Z",
     "iopub.status.busy": "2024-04-15T16:15:44.154480Z",
     "iopub.status.idle": "2024-04-15T16:15:44.165454Z",
     "shell.execute_reply": "2024-04-15T16:15:44.164664Z"
    },
    "lines_to_next_cell": 1,
    "papermill": {
     "duration": 0.030692,
     "end_time": "2024-04-15T16:15:44.167112",
     "exception": false,
     "start_time": "2024-04-15T16:15:44.136420",
     "status": "completed"
    },
    "tags": []
   },
   "outputs": [],
   "source": [
    "def distanceK(root: BinaryTreeNode, target: int, k: int) -> list[int]:\n",
    "    \"Time: O(N), Space: O(N)\"\n",
    "    adl: dict[int, set[int]] = dict()\n",
    "    def createGraph(curr: BinaryTreeNode):\n",
    "        nonlocal adl\n",
    "        if curr:\n",
    "            curr_neighbours = adl.get(curr.val, set())\n",
    "            if curr.left:\n",
    "                curr_neighbours.add(curr.left.val)\n",
    "                left_neighbours = adl.get(curr.left.val, set())\n",
    "                left_neighbours.add(curr.val)\n",
    "                adl[curr.left.val] = left_neighbours\n",
    "                createGraph(curr.left)\n",
    "            if curr.right:\n",
    "                curr_neighbours.add(curr.right.val)\n",
    "                right_neighbours = adl.get(curr.right.val, set())\n",
    "                right_neighbours.add(curr.val)\n",
    "                adl[curr.right.val] = right_neighbours\n",
    "                createGraph(curr.right)\n",
    "            adl[curr.val] = curr_neighbours\n",
    "\n",
    "    # Create a graph adjacency list\n",
    "    createGraph(root)\n",
    "\n",
    "    # Do a BFS until distance is reached\n",
    "    queue: list[int] = [target]\n",
    "    visited: set[int] = set([target])\n",
    "    while k > 0:\n",
    "        next_: list[int] = []\n",
    "        for curr in queue:\n",
    "            for neighbour in adl.get(curr, set()):\n",
    "                if neighbour not in visited:\n",
    "                    visited.add(neighbour)\n",
    "                    next_.append(neighbour)\n",
    "\n",
    "        queue = next_\n",
    "        k -= 1\n",
    "\n",
    "    return queue\n",
    "\n",
    "# Testing the solution\n",
    "assert sorted(distanceK(BinaryTreeNode.from_array([3,5,1,6,2,0,8,None,None,7,4]), 5, 2)) == [1, 4, 7]\n",
    "assert sorted(distanceK(BinaryTreeNode.from_array([3,5,1,6,2,0,8,None,None,7,4]), 4, 2)) == [5, 7]"
   ]
  },
  {
   "cell_type": "markdown",
   "id": "db756dd0",
   "metadata": {
    "papermill": {
     "duration": 0.01707,
     "end_time": "2024-04-15T16:15:44.201402",
     "exception": false,
     "start_time": "2024-04-15T16:15:44.184332",
     "status": "completed"
    },
    "tags": []
   },
   "source": [
    "Video Link: https://youtu.be/2r5wLmQfD6g?si=V-Tirx2isc0Mt7Qp\n",
    "Time to burn a Binary Tree"
   ]
  },
  {
   "cell_type": "code",
   "execution_count": 34,
   "id": "67ee9af0",
   "metadata": {
    "execution": {
     "iopub.execute_input": "2024-04-15T16:15:44.237221Z",
     "iopub.status.busy": "2024-04-15T16:15:44.236548Z",
     "iopub.status.idle": "2024-04-15T16:15:44.246221Z",
     "shell.execute_reply": "2024-04-15T16:15:44.245463Z"
    },
    "lines_to_next_cell": 1,
    "papermill": {
     "duration": 0.029513,
     "end_time": "2024-04-15T16:15:44.248001",
     "exception": false,
     "start_time": "2024-04-15T16:15:44.218488",
     "status": "completed"
    },
    "tags": []
   },
   "outputs": [],
   "source": [
    "def timeToBurnTree(root: BinaryTreeNode, start: int):\n",
    "    \"Time: O(N), Space: O(N)\"\n",
    "    adl: dict[int, set[int]] = dict()\n",
    "    def createGraph(curr: BinaryTreeNode):\n",
    "        if curr:\n",
    "            curr_neighbours = adl.get(curr.val, set())\n",
    "            if curr.left:\n",
    "                curr_neighbours.add(curr.left.val)\n",
    "                adl[curr.left.val] = set([curr.val])\n",
    "                createGraph(curr.left)\n",
    "            if curr.right:\n",
    "                curr_neighbours.add(curr.right.val)\n",
    "                adl[curr.right.val] = set([curr.val])\n",
    "                createGraph(curr.right)\n",
    "            adl[curr.val] = curr_neighbours\n",
    "\n",
    "    # Create an adjacency list\n",
    "    createGraph(root)\n",
    "\n",
    "    # Do a BFS traversal and compute the max levels\n",
    "    k = 0\n",
    "    queue: list[int] = [start]\n",
    "    visited: set[int] = set([start])\n",
    "    while queue:\n",
    "        next_: list[int] = []\n",
    "        for curr in queue:\n",
    "            for neighbour in adl.get(curr, set()):\n",
    "                if neighbour not in visited:\n",
    "                    visited.add(neighbour)\n",
    "                    next_.append(neighbour)\n",
    "\n",
    "        queue = next_\n",
    "        k += 1\n",
    "\n",
    "    return k - 1\n",
    "\n",
    "# Testing the solution\n",
    "assert timeToBurnTree(BinaryTreeNode.from_array([3,5,1,6,2,0,8,None,None,7,4]), 5) == 3\n",
    "assert timeToBurnTree(BinaryTreeNode.from_array([3,5,1,6,2,0,8,None,None,7,4]), 4) == 5"
   ]
  },
  {
   "cell_type": "markdown",
   "id": "d4e4fad8",
   "metadata": {
    "papermill": {
     "duration": 0.017013,
     "end_time": "2024-04-15T16:15:44.282268",
     "exception": false,
     "start_time": "2024-04-15T16:15:44.265255",
     "status": "completed"
    },
    "tags": []
   },
   "source": [
    "Video Link: https://youtu.be/u-yWemKGWO0?si=-xcOq69rKzHwnkSC\n",
    "Count total nodes in a complete Binary Tree"
   ]
  },
  {
   "cell_type": "code",
   "execution_count": 35,
   "id": "dd5cd4ce",
   "metadata": {
    "execution": {
     "iopub.execute_input": "2024-04-15T16:15:44.317602Z",
     "iopub.status.busy": "2024-04-15T16:15:44.317082Z",
     "iopub.status.idle": "2024-04-15T16:15:44.323700Z",
     "shell.execute_reply": "2024-04-15T16:15:44.323024Z"
    },
    "lines_to_next_cell": 1,
    "papermill": {
     "duration": 0.026125,
     "end_time": "2024-04-15T16:15:44.325405",
     "exception": false,
     "start_time": "2024-04-15T16:15:44.299280",
     "status": "completed"
    },
    "tags": []
   },
   "outputs": [],
   "source": [
    "# Problem Link: https://leetcode.com/problems/count-complete-tree-nodes/submissions/1229957492\n",
    "def countNodes(root: BinaryTreeNode) -> int:\n",
    "    \"\"\"\n",
    "    For each node, compute the left height and right height\n",
    "    If left height == right height:\n",
    "        Count nodes with formula = 2 ^ (h - 1)\n",
    "    Else:\n",
    "        Count of nodes = 1 + left_count + right_count\n",
    "\n",
    "    Computing height takes O(log N) time. At each step, either left would be a\n",
    "    full binary tree or the right would be: O(log N) nodes to travel\n",
    "\n",
    "    Time: O(log N * log N), Space: O(log N)\n",
    "    \"\"\"\n",
    "\n",
    "    if not root:\n",
    "        return 0\n",
    "\n",
    "    # Compute left height\n",
    "    curr, lh = root, 0\n",
    "    while curr:\n",
    "        curr = curr.left\n",
    "        lh += 1\n",
    "\n",
    "    # Compute right height\n",
    "    curr, rh = root, 0\n",
    "    rh = 0\n",
    "    while curr:\n",
    "        curr = curr.right\n",
    "        rh += 1\n",
    "\n",
    "    if lh == rh:\n",
    "        return 2 ** lh - 1\n",
    "    else:\n",
    "        return 1 + countNodes(root.left) + countNodes(root.right)\n",
    "\n",
    "# Testing the solution\n",
    "assert countNodes(BinaryTreeNode.from_array([1, 2, 3, 4, 5, 6, 7, 8, 9, 10, 11])) == 11"
   ]
  },
  {
   "cell_type": "markdown",
   "id": "51889e6d",
   "metadata": {
    "papermill": {
     "duration": 0.016973,
     "end_time": "2024-04-15T16:15:44.359538",
     "exception": false,
     "start_time": "2024-04-15T16:15:44.342565",
     "status": "completed"
    },
    "tags": []
   },
   "source": [
    "Construct binary tree from preorder and inorder traversal\n",
    "Video Link: https://youtu.be/aZNaLrVebKQ?si=bSe8CP3Bxk0bM3nG"
   ]
  },
  {
   "cell_type": "code",
   "execution_count": 36,
   "id": "62f3bcad",
   "metadata": {
    "execution": {
     "iopub.execute_input": "2024-04-15T16:15:44.395243Z",
     "iopub.status.busy": "2024-04-15T16:15:44.394698Z",
     "iopub.status.idle": "2024-04-15T16:15:44.403399Z",
     "shell.execute_reply": "2024-04-15T16:15:44.402622Z"
    },
    "lines_to_next_cell": 1,
    "papermill": {
     "duration": 0.028398,
     "end_time": "2024-04-15T16:15:44.405127",
     "exception": false,
     "start_time": "2024-04-15T16:15:44.376729",
     "status": "completed"
    },
    "tags": []
   },
   "outputs": [
    {
     "data": {
      "text/plain": [
       "[10, 20, 30, 40, 50, 60, None, None, None, None, None, None, None]"
      ]
     },
     "execution_count": 36,
     "metadata": {},
     "output_type": "execute_result"
    }
   ],
   "source": [
    "# Better solution\n",
    "# Problem Link: https://leetcode.com/problems/construct-binary-tree-from-preorder-and-inorder-traversal/submissions/1230758214\n",
    "def buildTreeFromPreorderBetter(preorder: list[int], inorder: list[int]) -> BinaryTreeNode|None:\n",
    "    \"\"\"\n",
    "    Preorder can be used to figure out the root.\n",
    "    Inorder can be used to figure out which of the nodes come to left and to the right of root.\n",
    "    \"\"\"\n",
    "    root = BinaryTreeNode(preorder[0]) if preorder else None\n",
    "    if root and len(inorder) > 1:\n",
    "        idx = inorder.index(root.val)\n",
    "        root.left = buildTreeFromPreorderBetter(preorder[1: idx + 1], inorder[:idx])\n",
    "        root.right = buildTreeFromPreorderBetter(preorder[idx + 1:], inorder[idx + 1:])\n",
    "\n",
    "    return root\n",
    "\n",
    "# Testing the Solution\n",
    "buildTreeFromPreorderBetter(inorder=[40, 20, 50, 10, 60, 30], preorder=[10, 20, 40, 50, 30, 60]).to_list()"
   ]
  },
  {
   "cell_type": "code",
   "execution_count": 37,
   "id": "878e7fa6",
   "metadata": {
    "execution": {
     "iopub.execute_input": "2024-04-15T16:15:44.440953Z",
     "iopub.status.busy": "2024-04-15T16:15:44.440657Z",
     "iopub.status.idle": "2024-04-15T16:15:44.451242Z",
     "shell.execute_reply": "2024-04-15T16:15:44.450492Z"
    },
    "lines_to_next_cell": 1,
    "papermill": {
     "duration": 0.03039,
     "end_time": "2024-04-15T16:15:44.452902",
     "exception": false,
     "start_time": "2024-04-15T16:15:44.422512",
     "status": "completed"
    },
    "tags": []
   },
   "outputs": [
    {
     "data": {
      "text/plain": [
       "[10, 20, 30, 40, 50, 60, None, None, None, None, None, None, None]"
      ]
     },
     "execution_count": 37,
     "metadata": {},
     "output_type": "execute_result"
    }
   ],
   "source": [
    "# https://leetcode.com/problems/construct-binary-tree-from-preorder-and-inorder-traversal/submissions/1230767142/\n",
    "def buildTreeFromPreorderOptimal(preorder: list[int], inorder: list[int]) -> BinaryTreeNode|None:\n",
    "    \"\"\"\n",
    "    Use hashmap to save the idx positions of inorder.\n",
    "    Time: O(N), Space: O(N)\n",
    "    \"\"\"\n",
    "    N = len(preorder)\n",
    "    inorder_hm = dict()\n",
    "    for i, n in enumerate(inorder):\n",
    "        inorder_hm[n] = i\n",
    "\n",
    "    def helper(inorder_start: int, inorder_end: int, preorder_start: int, preorder_end: int) -> BinaryTreeNode|None:\n",
    "        N_ = preorder_end - preorder_start\n",
    "        root = BinaryTreeNode(preorder[preorder_start]) if N_ >= 0 else None\n",
    "        if root and N_ > 0:\n",
    "            idx = inorder_hm[root.val]\n",
    "            root.left = helper(inorder_start, idx - 1, preorder_start + 1, preorder_start + idx - inorder_start)\n",
    "            root.right = helper(idx + 1, inorder_end, preorder_start + 1 + idx - inorder_start, preorder_end)\n",
    "\n",
    "        return root\n",
    "\n",
    "    return helper(0, N - 1, 0, N - 1)\n",
    "\n",
    "# Testing the Solution\n",
    "buildTreeFromPreorderOptimal(inorder=[40, 20, 50, 10, 60, 30], preorder=[10, 20, 40, 50, 30, 60]).to_list()"
   ]
  },
  {
   "cell_type": "markdown",
   "id": "c0d37bdc",
   "metadata": {
    "papermill": {
     "duration": 0.017253,
     "end_time": "2024-04-15T16:15:44.487439",
     "exception": false,
     "start_time": "2024-04-15T16:15:44.470186",
     "status": "completed"
    },
    "tags": []
   },
   "source": [
    "Video Link: https://youtu.be/LgLRTaEMRVc?si=AuIS8bfI3SLknUaS\n",
    "Binary Tree from Postorder and Inorder traversal"
   ]
  },
  {
   "cell_type": "code",
   "execution_count": 38,
   "id": "53e42711",
   "metadata": {
    "execution": {
     "iopub.execute_input": "2024-04-15T16:15:44.523657Z",
     "iopub.status.busy": "2024-04-15T16:15:44.522996Z",
     "iopub.status.idle": "2024-04-15T16:15:44.532072Z",
     "shell.execute_reply": "2024-04-15T16:15:44.531300Z"
    },
    "lines_to_next_cell": 1,
    "papermill": {
     "duration": 0.02888,
     "end_time": "2024-04-15T16:15:44.533758",
     "exception": false,
     "start_time": "2024-04-15T16:15:44.504878",
     "status": "completed"
    },
    "tags": []
   },
   "outputs": [
    {
     "data": {
      "text/plain": [
       "[1, 2, 5, 3, 4, None, None, None, None, None, None]"
      ]
     },
     "execution_count": 38,
     "metadata": {},
     "output_type": "execute_result"
    }
   ],
   "source": [
    "# Better: https://leetcode.com/problems/construct-binary-tree-from-inorder-and-postorder-traversal/submissions/1230771756/\n",
    "def buildTreeFromPostorderBetter(inorder: list[int], postorder: list[int]) -> BinaryTreeNode|None:\n",
    "    \"\"\"\n",
    "    Same logic as previous question, we could technically call buildTreeFromPreorder(inorder, postorder[::-1]).\n",
    "    Instead of assigning first value as root, here we assign last value as root and backtrack.\n",
    "    \"\"\"\n",
    "    root = BinaryTreeNode(postorder[-1]) if postorder else None\n",
    "    if root and len(postorder) > 1:\n",
    "        idx = inorder.index(root.val)\n",
    "        root.left = buildTreeFromPostorderBetter(inorder[:idx], postorder[:idx])\n",
    "        root.right = buildTreeFromPostorderBetter(inorder[idx + 1:], postorder[idx: -1])\n",
    "\n",
    "    return root\n",
    "\n",
    "# Testing the Solution\n",
    "buildTreeFromPostorderBetter(inorder=[3, 2, 4, 1, 5], postorder=[3, 4, 2, 5, 1]).to_list()"
   ]
  },
  {
   "cell_type": "code",
   "execution_count": 39,
   "id": "2f83f35a",
   "metadata": {
    "execution": {
     "iopub.execute_input": "2024-04-15T16:15:44.570654Z",
     "iopub.status.busy": "2024-04-15T16:15:44.570041Z",
     "iopub.status.idle": "2024-04-15T16:15:44.580245Z",
     "shell.execute_reply": "2024-04-15T16:15:44.579476Z"
    },
    "lines_to_next_cell": 1,
    "papermill": {
     "duration": 0.030521,
     "end_time": "2024-04-15T16:15:44.581956",
     "exception": false,
     "start_time": "2024-04-15T16:15:44.551435",
     "status": "completed"
    },
    "tags": []
   },
   "outputs": [
    {
     "data": {
      "text/plain": [
       "[1, 2, 5, 3, 4, None, None, None, None, None, None]"
      ]
     },
     "execution_count": 39,
     "metadata": {},
     "output_type": "execute_result"
    }
   ],
   "source": [
    "# Optimal: https://leetcode.com/problems/construct-binary-tree-from-inorder-and-postorder-traversal/submissions/1230778263/\n",
    "def buildTreeFromPostorderOptimal(inorder: list[int], postorder: list[int]) -> BinaryTreeNode|None:\n",
    "    \"\"\"\n",
    "    Same logic as above, use a hashmap to precompute the indices for inorder.\n",
    "    \"\"\"\n",
    "    N = len(inorder)\n",
    "    hm: dict[int, int] = dict()\n",
    "    for i, n in enumerate(inorder):\n",
    "        hm[n] = i\n",
    "\n",
    "    def helper(iStart: int, iEnd: int, pStart, pEnd: int) -> BinaryTreeNode|None:\n",
    "        root = BinaryTreeNode(postorder[pEnd]) if pStart <= pEnd else None\n",
    "        if root and pStart < pEnd:\n",
    "            idx = hm[root.val]\n",
    "            root.left = helper(iStart, idx - 1, pStart, pStart + idx - iStart - 1)\n",
    "            root.right = helper(idx + 1, iEnd, pStart + idx - iStart, pEnd - 1)\n",
    "        return root\n",
    "\n",
    "    return helper(0, N - 1, 0, N - 1)\n",
    "\n",
    "# Testing the solution\n",
    "buildTreeFromPostorderOptimal(inorder=[3, 2, 4, 1, 5], postorder=[3, 4, 2, 5, 1]).to_list()"
   ]
  },
  {
   "cell_type": "markdown",
   "id": "4a30f23a",
   "metadata": {
    "papermill": {
     "duration": 0.018381,
     "end_time": "2024-04-15T16:15:44.618133",
     "exception": false,
     "start_time": "2024-04-15T16:15:44.599752",
     "status": "completed"
    },
    "tags": []
   },
   "source": [
    "Video Link: https://youtu.be/-YbXySKJsX8?si=GF9GnCHLV1gDfcWK\n",
    "Serialize and Deserialize Binary Trees"
   ]
  },
  {
   "cell_type": "code",
   "execution_count": 40,
   "id": "b286bec0",
   "metadata": {
    "execution": {
     "iopub.execute_input": "2024-04-15T16:15:44.656250Z",
     "iopub.status.busy": "2024-04-15T16:15:44.655657Z",
     "iopub.status.idle": "2024-04-15T16:15:44.667362Z",
     "shell.execute_reply": "2024-04-15T16:15:44.666698Z"
    },
    "lines_to_next_cell": 1,
    "papermill": {
     "duration": 0.031932,
     "end_time": "2024-04-15T16:15:44.669015",
     "exception": false,
     "start_time": "2024-04-15T16:15:44.637083",
     "status": "completed"
    },
    "tags": []
   },
   "outputs": [],
   "source": [
    "# https://leetcode.com/problems/serialize-and-deserialize-binary-tree/submissions/1230819565\n",
    "class Codec:\n",
    "    def serialize(self, root: BinaryTreeNode) -> str:\n",
    "        \"\"\"Encodes a tree to a single string.\"\"\"\n",
    "        def helper(curr: BinaryTreeNode) -> str:\n",
    "            if not curr:\n",
    "                return \"*\"\n",
    "            else:\n",
    "                return f\"{curr.val}({helper(curr.left)},{helper(curr.right)})\"\n",
    "\n",
    "        result = helper(root)\n",
    "        return result\n",
    "\n",
    "    def deserialize(self, data: str) -> BinaryTreeNode|None:\n",
    "        \"\"\"Decodes your encoded data to tree.\"\"\"\n",
    "        def createTree(prev: BinaryTreeNode|str|None) -> BinaryTreeNode|None:\n",
    "            if type(prev) == str:\n",
    "                return BinaryTreeNode(int(prev)) if prev.isdigit() or prev[0] == '-' else None\n",
    "            else:\n",
    "                return prev # type: ignore\n",
    "\n",
    "        stack: list[str|None|BinaryTreeNode] = []\n",
    "        for ch in data:\n",
    "            if ch.isdigit() and stack and type(stack[-1]) == str and (stack[-1].isdigit() or stack[-1][0] == '-'):\n",
    "                stack[-1] += ch\n",
    "            else:\n",
    "                stack.append(ch)\n",
    "                if ch == ')':\n",
    "                    stack.pop() # )\n",
    "                    right = createTree(stack.pop())\n",
    "                    stack.pop() # ,\n",
    "                    left = createTree(stack.pop())\n",
    "                    stack.pop() # (\n",
    "                    root = createTree(stack.pop())\n",
    "                    if root:\n",
    "                        root.left = left\n",
    "                        root.right = right\n",
    "                    stack.append(root)\n",
    "\n",
    "        return stack[0] if type(stack[0]) != str else None\n",
    "\n",
    "# Your Codec object will be instantiated and called as such:\n",
    "ser = Codec()\n",
    "out = ser.deserialize(ser.serialize(BinaryTreeNode.from_array([1,2,-13,None,None,4,25])))\n",
    "out_lst = out.to_list() if out is not None else []\n",
    "while out_lst and out_lst[-1] is None: out_lst.pop()\n",
    "assert out_lst == [1,2,-13,None,None,4,25]"
   ]
  },
  {
   "cell_type": "code",
   "execution_count": 41,
   "id": "ec2dd2db",
   "metadata": {
    "execution": {
     "iopub.execute_input": "2024-04-15T16:15:44.705843Z",
     "iopub.status.busy": "2024-04-15T16:15:44.705183Z",
     "iopub.status.idle": "2024-04-15T16:15:44.715574Z",
     "shell.execute_reply": "2024-04-15T16:15:44.714925Z"
    },
    "lines_to_next_cell": 1,
    "papermill": {
     "duration": 0.03059,
     "end_time": "2024-04-15T16:15:44.717321",
     "exception": false,
     "start_time": "2024-04-15T16:15:44.686731",
     "status": "completed"
    },
    "tags": []
   },
   "outputs": [],
   "source": [
    "# Problem link: https://leetcode.com/problems/serialize-and-deserialize-binary-tree/submissions/1231115438/\n",
    "class CodecStriver:\n",
    "    def serialize(self, root: BinaryTreeNode) -> str:\n",
    "        all_nodes: list[str] = []\n",
    "        queue: list[BinaryTreeNode] = [root]\n",
    "        while queue:\n",
    "            next_: list[BinaryTreeNode] = []\n",
    "            for curr in queue:\n",
    "                all_nodes.append(str(curr.val) if curr else '*')\n",
    "                if curr:\n",
    "                    next_.append(curr.left)\n",
    "                    next_.append(curr.right)\n",
    "\n",
    "            queue = next_\n",
    "\n",
    "        return ','.join(all_nodes)\n",
    "\n",
    "    def deserialize(self, data: str) -> BinaryTreeNode|None:\n",
    "        all_nodes: list[BinaryTreeNode] = []\n",
    "        idx: float = -1\n",
    "        for curr_val in data.split(','):\n",
    "            curr = BinaryTreeNode(int(curr_val)) if curr_val != '*' else None\n",
    "            if curr:\n",
    "                all_nodes.append(curr)\n",
    "            if idx == -1:\n",
    "                idx += 1\n",
    "            elif int(idx) == idx:\n",
    "                all_nodes[int(idx)].left = curr\n",
    "                idx += 0.5\n",
    "            else:\n",
    "                all_nodes[int(idx)].right = curr\n",
    "                idx += 0.5\n",
    "\n",
    "        return all_nodes[0] if all_nodes else None\n",
    "\n",
    "# Your Codec object will be instantiated and called as such:\n",
    "ser_ = CodecStriver()\n",
    "out = ser_.deserialize(ser_.serialize(BinaryTreeNode.from_array([1,2,-13,None,None,4,25])))\n",
    "out_lst = out.to_list() if out is not None else []\n",
    "while out_lst and out_lst[-1] is None: out_lst.pop()\n",
    "assert out_lst == [1,2,-13,None,None,4,25]"
   ]
  },
  {
   "cell_type": "markdown",
   "id": "611bda3a",
   "metadata": {
    "papermill": {
     "duration": 0.017667,
     "end_time": "2024-04-15T16:15:44.752943",
     "exception": false,
     "start_time": "2024-04-15T16:15:44.735276",
     "status": "completed"
    },
    "tags": []
   },
   "source": [
    "Morris traversal of Binary Tree\n",
    "Video Link: https://youtu.be/80Zug6D1_r4?si=Npe19WIqtFI_aa5c\n",
    "Advantage is that while it consumes O(N) time, it only takes up O(1) space"
   ]
  },
  {
   "cell_type": "code",
   "execution_count": 42,
   "id": "22ad4618",
   "metadata": {
    "execution": {
     "iopub.execute_input": "2024-04-15T16:15:44.789701Z",
     "iopub.status.busy": "2024-04-15T16:15:44.789118Z",
     "iopub.status.idle": "2024-04-15T16:15:44.796030Z",
     "shell.execute_reply": "2024-04-15T16:15:44.795323Z"
    },
    "lines_to_next_cell": 1,
    "papermill": {
     "duration": 0.027051,
     "end_time": "2024-04-15T16:15:44.797706",
     "exception": false,
     "start_time": "2024-04-15T16:15:44.770655",
     "status": "completed"
    },
    "tags": []
   },
   "outputs": [],
   "source": [
    "def morris_preorder(root: BinaryTreeNode) -> list[int]:\n",
    "    curr: BinaryTreeNode = root\n",
    "    preorder: list[int] = []\n",
    "    while curr:\n",
    "        # We are at root node\n",
    "        if not curr.left:\n",
    "            preorder.append(curr.val)\n",
    "            curr = curr.right\n",
    "\n",
    "        # Create a thread on the right most guy in the left subtree to point to curr\n",
    "        else:\n",
    "            prev: BinaryTreeNode = curr.left\n",
    "            while prev.right and prev.right != curr:\n",
    "                prev = prev.right\n",
    "\n",
    "            # Thread doesn't already exist, create a thread add curr to stack and move left\n",
    "            if not prev.right:\n",
    "                prev.right = curr\n",
    "                preorder.append(curr.val)\n",
    "                curr = curr.left\n",
    "\n",
    "            # Thread already exists, remove thread and move to right\n",
    "            else:\n",
    "                prev.right = None\n",
    "                curr = curr.right\n",
    "\n",
    "    return preorder\n",
    "\n",
    "# Testing the solution\n",
    "temp = BinaryTreeNode.from_array([1, 2, 3, 4, None, 5, 6])\n",
    "assert preorderIter(temp) == morris_preorder(temp)"
   ]
  },
  {
   "cell_type": "code",
   "execution_count": 43,
   "id": "f115e204",
   "metadata": {
    "execution": {
     "iopub.execute_input": "2024-04-15T16:15:44.834493Z",
     "iopub.status.busy": "2024-04-15T16:15:44.834221Z",
     "iopub.status.idle": "2024-04-15T16:15:44.840957Z",
     "shell.execute_reply": "2024-04-15T16:15:44.840294Z"
    },
    "lines_to_next_cell": 1,
    "papermill": {
     "duration": 0.027034,
     "end_time": "2024-04-15T16:15:44.842665",
     "exception": false,
     "start_time": "2024-04-15T16:15:44.815631",
     "status": "completed"
    },
    "tags": []
   },
   "outputs": [],
   "source": [
    "def morris_inorder(root: BinaryTreeNode) -> list[int]:\n",
    "    curr: BinaryTreeNode = root\n",
    "    inorder: list[int] = []\n",
    "    while curr:\n",
    "        if not curr.left:\n",
    "            inorder.append(curr.val)\n",
    "            curr = curr.right\n",
    "        else:\n",
    "            prev: BinaryTreeNode = curr.left\n",
    "            while prev.right and prev.right != curr:\n",
    "                prev = prev.right\n",
    "\n",
    "            if not prev.right:\n",
    "                prev.right = curr\n",
    "                curr = curr.left\n",
    "            else:\n",
    "                prev.right = None\n",
    "                inorder.append(curr.val)\n",
    "                curr = curr.right\n",
    "\n",
    "    return inorder\n",
    "\n",
    "# Testing the solution\n",
    "temp = BinaryTreeNode.from_array([1, None, 2, 3, 4, 5, None, None, None, 3])\n",
    "assert inorderIter(temp) == morris_inorder(temp)"
   ]
  },
  {
   "cell_type": "markdown",
   "id": "d5feea81",
   "metadata": {
    "papermill": {
     "duration": 0.017534,
     "end_time": "2024-04-15T16:15:44.877894",
     "exception": false,
     "start_time": "2024-04-15T16:15:44.860360",
     "status": "completed"
    },
    "tags": []
   },
   "source": [
    "Video Link: https://youtu.be/sWf7k1x9XR4?si=6Fdn4oo2ryFIdqpg\n",
    "Flatten a binary tree into a linked list"
   ]
  },
  {
   "cell_type": "code",
   "execution_count": 44,
   "id": "023ec163",
   "metadata": {
    "execution": {
     "iopub.execute_input": "2024-04-15T16:15:44.914551Z",
     "iopub.status.busy": "2024-04-15T16:15:44.914170Z",
     "iopub.status.idle": "2024-04-15T16:15:44.923215Z",
     "shell.execute_reply": "2024-04-15T16:15:44.922570Z"
    },
    "lines_to_next_cell": 1,
    "papermill": {
     "duration": 0.029085,
     "end_time": "2024-04-15T16:15:44.924832",
     "exception": false,
     "start_time": "2024-04-15T16:15:44.895747",
     "status": "completed"
    },
    "tags": []
   },
   "outputs": [
    {
     "data": {
      "text/plain": [
       "[1, None, 2, None, 3, None, 4, None, 5, None, 6, None, None]"
      ]
     },
     "execution_count": 44,
     "metadata": {},
     "output_type": "execute_result"
    }
   ],
   "source": [
    "# Problem Link: https://leetcode.com/problems/flatten-binary-tree-to-linked-list/submissions/1231697617\n",
    "def flatten(root: BinaryTreeNode) -> None:\n",
    "    def backtrack(curr: BinaryTreeNode) -> tuple[BinaryTreeNode|None, BinaryTreeNode|None]:\n",
    "        \"Flattens and returns root and the right most node\"\n",
    "        if not curr:\n",
    "            return (None, None)\n",
    "        else:\n",
    "            left_root, left_right = backtrack(curr.left)\n",
    "            right_root, right_right = backtrack(curr.right)\n",
    "            curr.left = None\n",
    "            if left_root and left_right:\n",
    "                curr.right = left_root\n",
    "                left_right.right = right_root\n",
    "\n",
    "            return curr, right_right if right_root else left_right if left_root else curr\n",
    "\n",
    "    backtrack(root)\n",
    "\n",
    "# Testing the solution\n",
    "temp = BinaryTreeNode.from_array([1,2,5,3,4,None,6])\n",
    "flatten(temp)\n",
    "temp.to_list()"
   ]
  },
  {
   "cell_type": "code",
   "execution_count": 45,
   "id": "49e59c7c",
   "metadata": {
    "execution": {
     "iopub.execute_input": "2024-04-15T16:15:44.962063Z",
     "iopub.status.busy": "2024-04-15T16:15:44.961445Z",
     "iopub.status.idle": "2024-04-15T16:15:44.969426Z",
     "shell.execute_reply": "2024-04-15T16:15:44.968684Z"
    },
    "lines_to_next_cell": 1,
    "papermill": {
     "duration": 0.028355,
     "end_time": "2024-04-15T16:15:44.971174",
     "exception": false,
     "start_time": "2024-04-15T16:15:44.942819",
     "status": "completed"
    },
    "tags": []
   },
   "outputs": [
    {
     "data": {
      "text/plain": [
       "[1, None, 2, None, 3, None, 4, None, 5, None, 6, None, None]"
      ]
     },
     "execution_count": 45,
     "metadata": {},
     "output_type": "execute_result"
    }
   ],
   "source": [
    "# https://leetcode.com/problems/flatten-binary-tree-to-linked-list/submissions/1232051009\n",
    "def flattenStriverBacktrack(root: BinaryTreeNode):\n",
    "    \"\"\"\n",
    "    Idea is to use a reverse post order: Right, Left, Root.\n",
    "    Prev variable contains the right node connection for curr node to make.\n",
    "    \"\"\"\n",
    "    def backtrack(curr: BinaryTreeNode, prev: BinaryTreeNode):\n",
    "        if curr:\n",
    "            prev = backtrack(curr.right, prev)\n",
    "            prev = backtrack(curr.left, prev)\n",
    "            curr.left = None\n",
    "            curr.right = prev\n",
    "\n",
    "        return curr if curr else prev\n",
    "\n",
    "    backtrack(root, None)\n",
    "\n",
    "# Testing the solution\n",
    "temp = BinaryTreeNode.from_array([1,2,5,3,4,None,6])\n",
    "flattenStriverBacktrack(temp)\n",
    "temp.to_list()"
   ]
  },
  {
   "cell_type": "code",
   "execution_count": 46,
   "id": "e4a662da",
   "metadata": {
    "execution": {
     "iopub.execute_input": "2024-04-15T16:15:45.008974Z",
     "iopub.status.busy": "2024-04-15T16:15:45.008350Z",
     "iopub.status.idle": "2024-04-15T16:15:45.016608Z",
     "shell.execute_reply": "2024-04-15T16:15:45.015927Z"
    },
    "papermill": {
     "duration": 0.029177,
     "end_time": "2024-04-15T16:15:45.018312",
     "exception": false,
     "start_time": "2024-04-15T16:15:44.989135",
     "status": "completed"
    },
    "tags": []
   },
   "outputs": [
    {
     "data": {
      "text/plain": [
       "[1, None, 2, None, 3, None, 4, None, 5, None, 6, None, None]"
      ]
     },
     "execution_count": 46,
     "metadata": {},
     "output_type": "execute_result"
    }
   ],
   "source": [
    "def flattenStriverIter(root: BinaryTreeNode):\n",
    "    \"Same as code above but using stack\"\n",
    "    stack: list[BinaryTreeNode] = [root]\n",
    "    while stack:\n",
    "        curr = stack.pop()\n",
    "        if curr.right:\n",
    "            stack.append(curr.right)\n",
    "        if curr.left:\n",
    "            stack.append(curr.left)\n",
    "        curr.left = None\n",
    "        if stack:\n",
    "            curr.right = stack[-1]\n",
    "\n",
    "# Testing the solution\n",
    "temp = BinaryTreeNode.from_array([1,2,5,3,4,None,6])\n",
    "flattenStriverIter(temp)\n",
    "temp.to_list()"
   ]
  }
 ],
 "metadata": {
  "kernelspec": {
   "display_name": "Python 3 (ipykernel)",
   "language": "python",
   "name": "python3"
  },
  "language_info": {
   "codemirror_mode": {
    "name": "ipython",
    "version": 3
   },
   "file_extension": ".py",
   "mimetype": "text/x-python",
   "name": "python",
   "nbconvert_exporter": "python",
   "pygments_lexer": "ipython3",
   "version": "3.10.14"
  },
  "papermill": {
   "default_parameters": {},
   "duration": 4.474944,
   "end_time": "2024-04-15T16:15:45.153879",
   "environment_variables": {},
   "exception": null,
   "input_path": "study/striver-A2Z/10-trees.ipynb",
   "output_path": "study/striver-A2Z/10-trees.ipynb",
   "parameters": {},
   "start_time": "2024-04-15T16:15:40.678935",
   "version": "2.5.0"
  }
 },
 "nbformat": 4,
 "nbformat_minor": 5
}
