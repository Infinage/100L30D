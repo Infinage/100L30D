{
 "cells": [
  {
   "cell_type": "markdown",
   "id": "2bb751c9",
   "metadata": {},
   "source": [
    "##### Types of binary trees (https://youtu.be/_ANrF3FJm7I?si=DZzUQr9F7dexWewB)\n",
    "1. Full Binary Tree: Each node has 0 or 2 children.\n",
    "2. Complete Binary Tree: All levels are completely filled except the last, which is filled as left as possible.\n",
    "3. Perfect Binary Tree: All leaf nodes are of the same level (all nodes have 2 children except the leaf).\n",
    "4. Balanced Binary Tree: Height of the left and right subtree of any node differ by not more than 1 / Max height of tree is log (no of nodes).\n",
    "5. Degenerate Binary Tree: Every node has a singe children except the leaf node (left skewed or right skewed).\n",
    "\n",
    "##### Binary Tree Traversals (https://youtu.be/jmy0LaGET1I?si=1o8rYIcijmpRxZHq)\n",
    "\n",
    "###### Depth First Search Traversal Techniques\n",
    "Hint 1: Pre - Root first, Post: Root last, In: Root middle <BR>\n",
    "Hint 2: Left, Right order is preserved for all traversals\n",
    "1. In-Order Traversal: Left, Root, Right\n",
    "2. Pre-Order Traversal: Root, Left, Right\n",
    "3. Post-Order Traversal: Left, Right, Root\n",
    "\n",
    "###### Breadth First Search\n",
    "1. Level Order Traversal: All nodes of same level are iterated through before moving to the next level.\n",
    "1. Boundary Traversal: Left boundary (left nodes excluding leaf), Leaf nodes, Right boundary nodes (right nodes excluding leaf).\n",
    "2. Diagnoal Traversal: Nodes of same diagnol are traversed one after another.\n",
    "\n",
    "##### Some properties of Binary Trees\n",
    "- Max nodes at any level: 2 ** (N - 1)"
   ]
  },
  {
   "cell_type": "markdown",
   "id": "4f9b357d",
   "metadata": {},
   "source": [
    "#### Helper for Binary tree problems"
   ]
  },
  {
   "cell_type": "code",
   "execution_count": null,
   "id": "5995b495",
   "metadata": {
    "lines_to_next_cell": 1
   },
   "outputs": [],
   "source": [
    "class BinaryTreeNode:\n",
    "    def __init__(self, val=0, left=None, right=None):\n",
    "        self.val = val\n",
    "        self.left = left\n",
    "        self.right = right\n",
    "\n",
    "    def to_list(self):\n",
    "        to_visit = [self]\n",
    "        visited = []\n",
    "        while len(to_visit) > 0:\n",
    "            curr = to_visit.pop(0)\n",
    "            if curr:\n",
    "                to_visit.append(curr.left)\n",
    "                to_visit.append(curr.right)\n",
    "                visited.append(curr.val)\n",
    "            else:\n",
    "                visited.append(curr)\n",
    "        return visited\n",
    "\n",
    "    def __str__(self):\n",
    "        return str(self.val)\n",
    "\n",
    "    @staticmethod\n",
    "    def from_array(nums: list[int|None]):\n",
    "        '''Create a Tree from a list of nums. Returns the root node.'''\n",
    "        if len(nums) == 0:\n",
    "            return None\n",
    "        elif len(nums) == 1:\n",
    "            return BinaryTreeNode(nums[0])\n",
    "        else:\n",
    "            forest = [BinaryTreeNode(nums[0])]\n",
    "            parent_idx = -1\n",
    "            for i in range(1, len(nums)):\n",
    "\n",
    "                curr = None\n",
    "                if nums[i] is not None:\n",
    "                    curr = BinaryTreeNode(nums[i])\n",
    "                    forest.append(curr)\n",
    "\n",
    "                if i % 2 == 1:\n",
    "                    parent_idx += 1\n",
    "                    forest[parent_idx].left = curr\n",
    "                else:\n",
    "                    forest[parent_idx].right = curr\n",
    "\n",
    "        return forest[0]"
   ]
  },
  {
   "cell_type": "markdown",
   "id": "b04b56ca",
   "metadata": {},
   "source": [
    "#### Helper for Singly Linked lists"
   ]
  },
  {
   "cell_type": "code",
   "execution_count": null,
   "id": "57b70306",
   "metadata": {
    "lines_to_next_cell": 1
   },
   "outputs": [],
   "source": [
    "class ListNode:\n",
    "    def __init__(self, val=0, next=None):\n",
    "        self.val = val\n",
    "        self.next = next\n",
    "\n",
    "    def __str__(self):\n",
    "        return str(self.val)\n",
    "\n",
    "    @staticmethod\n",
    "    def to_singly_linked_list(nums: list[int]):\n",
    "        root = prev = None\n",
    "        for n in nums:\n",
    "            curr = ListNode(n)\n",
    "            # Init once\n",
    "            if not root:\n",
    "                root = curr\n",
    "            if prev:\n",
    "                prev.next = curr\n",
    "            prev = curr\n",
    "\n",
    "        return root\n",
    "\n",
    "    def to_list(self) -> list[int]:\n",
    "        result = []\n",
    "        curr = self\n",
    "        while curr:\n",
    "            result.append(curr.val)\n",
    "            curr = curr.next\n",
    "        return result"
   ]
  },
  {
   "cell_type": "markdown",
   "id": "69193299",
   "metadata": {},
   "source": [
    "Inorder, Postorder, Preorder "
   ]
  },
  {
   "cell_type": "code",
   "execution_count": null,
   "id": "c2704fb1",
   "metadata": {
    "lines_to_next_cell": 1
   },
   "outputs": [],
   "source": [
    "def getTreeTraversal(root: BinaryTreeNode) -> tuple[list[int], list[int], list[int]]:\n",
    "    inorder_: list[int] = []\n",
    "    def inorder(root: BinaryTreeNode) -> None:\n",
    "        if not root:\n",
    "            return\n",
    "        else:\n",
    "            inorder(root.left)\n",
    "            inorder_.append(root.val)\n",
    "            inorder(root.right)\n",
    "\n",
    "    preorder_: list[int] = []\n",
    "    def preorder(root: BinaryTreeNode) -> None:\n",
    "        if not root:\n",
    "            return\n",
    "        else:\n",
    "            preorder_.append(root.val)\n",
    "            preorder(root.left)\n",
    "            preorder(root.right)\n",
    "\n",
    "    postorder_: list[int] = []\n",
    "    def postorder(root: BinaryTreeNode) -> None:\n",
    "        if not root:\n",
    "            return\n",
    "        else:\n",
    "            postorder(root.left)\n",
    "            postorder(root.right)\n",
    "            postorder_.append(root.val)\n",
    "\n",
    "    # Traverse & save the order op to a list, print it\n",
    "    inorder(root)\n",
    "    preorder(root)\n",
    "    postorder(root)\n",
    "    return (inorder_, preorder_ ,postorder_)\n",
    "\n",
    "# Testing the solution\n",
    "assert getTreeTraversal(BinaryTreeNode.from_array([1, 3, 4, 5, 2, 7, 6])) == ([5, 3, 2, 1, 7, 4, 6], [1, 3, 5, 2, 4, 7, 6], [5, 2, 3, 7, 6, 4, 1])"
   ]
  },
  {
   "cell_type": "markdown",
   "id": "eac5dbd7",
   "metadata": {},
   "source": [
    "Level Order Traversal"
   ]
  },
  {
   "cell_type": "code",
   "execution_count": null,
   "id": "0ca7d8d1",
   "metadata": {},
   "outputs": [],
   "source": [
    "def levelOrder(root: BinaryTreeNode) -> list[list[int]]:\n",
    "    next_: list[BinaryTreeNode] = [root]\n",
    "    traversed: list[list[int]] = []\n",
    "    while next_:\n",
    "        traversed.append([])\n",
    "        temp: list[BinaryTreeNode] = []\n",
    "        for curr in next_:\n",
    "            if curr:\n",
    "                temp.append(curr.left)\n",
    "                temp.append(curr.right)\n",
    "                traversed[-1].append(curr.val)\n",
    "        if not traversed[-1]:\n",
    "            traversed.pop()\n",
    "        next_ = temp\n",
    "\n",
    "    return traversed\n",
    "\n",
    "# Testing the solution\n",
    "assert levelOrder(BinaryTreeNode.from_array([3,9,20,None,None,15,7])) == [[3], [9, 20], [15, 7]]\n",
    "assert levelOrder(BinaryTreeNode.from_array([1])) == [[1]]"
   ]
  }
 ],
 "metadata": {
  "kernelspec": {
   "display_name": "Python 3 (ipykernel)",
   "language": "python",
   "name": "python3"
  }
 },
 "nbformat": 4,
 "nbformat_minor": 2
}
