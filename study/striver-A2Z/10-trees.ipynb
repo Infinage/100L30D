{
 "cells": [
  {
   "cell_type": "markdown",
   "id": "b29f23a5",
   "metadata": {
    "papermill": {
     "duration": 0.005153,
     "end_time": "2024-04-05T01:28:45.862555",
     "exception": false,
     "start_time": "2024-04-05T01:28:45.857402",
     "status": "completed"
    },
    "tags": []
   },
   "source": [
    "##### Types of binary trees (https://youtu.be/_ANrF3FJm7I?si=DZzUQr9F7dexWewB)\n",
    "1. Full Binary Tree: Each node has 0 or 2 children.\n",
    "2. Complete Binary Tree: All levels are completely filled except the last, which is filled as left as possible.\n",
    "3. Perfect Binary Tree: All leaf nodes are of the same level (all nodes have 2 children except the leaf).\n",
    "4. Balanced Binary Tree: Height of the left and right subtree of any node differ by not more than 1 / Max height of tree is log (no of nodes).\n",
    "5. Degenerate Binary Tree: Every node has a singe children except the leaf node (left skewed or right skewed).\n",
    "\n",
    "##### Binary Tree Traversals (https://youtu.be/jmy0LaGET1I?si=1o8rYIcijmpRxZHq)\n",
    "\n",
    "###### Depth First Search Traversal Techniques\n",
    "Hint 1: Pre - Root first, Post: Root last, In: Root middle <BR>\n",
    "Hint 2: Left, Right order is preserved for all traversals\n",
    "1. In-Order Traversal: Left, Root, Right\n",
    "2. Pre-Order Traversal: Root, Left, Right\n",
    "3. Post-Order Traversal: Left, Right, Root\n",
    "\n",
    "###### Breadth First Search\n",
    "1. Level Order Traversal: All nodes of same level are iterated through before moving to the next level.\n",
    "1. Boundary Traversal: Left boundary (left nodes excluding leaf), Leaf nodes, Right boundary nodes (right nodes excluding leaf).\n",
    "2. Diagnoal Traversal: Nodes of same diagnol are traversed one after another.\n",
    "\n",
    "##### Some properties of Binary Trees\n",
    "- Max nodes at any level: 2 ** (N - 1)"
   ]
  },
  {
   "cell_type": "markdown",
   "id": "c70ac08c",
   "metadata": {
    "papermill": {
     "duration": 0.004173,
     "end_time": "2024-04-05T01:28:45.871141",
     "exception": false,
     "start_time": "2024-04-05T01:28:45.866968",
     "status": "completed"
    },
    "tags": []
   },
   "source": [
    "#### Helper for Binary tree problems"
   ]
  },
  {
   "cell_type": "code",
   "execution_count": 1,
   "id": "4c5d251b",
   "metadata": {
    "execution": {
     "iopub.execute_input": "2024-04-05T01:28:45.880899Z",
     "iopub.status.busy": "2024-04-05T01:28:45.880276Z",
     "iopub.status.idle": "2024-04-05T01:28:45.895825Z",
     "shell.execute_reply": "2024-04-05T01:28:45.895210Z"
    },
    "lines_to_next_cell": 1,
    "papermill": {
     "duration": 0.022319,
     "end_time": "2024-04-05T01:28:45.897513",
     "exception": false,
     "start_time": "2024-04-05T01:28:45.875194",
     "status": "completed"
    },
    "tags": []
   },
   "outputs": [],
   "source": [
    "class BinaryTreeNode:\n",
    "    def __init__(self, val=0, left=None, right=None):\n",
    "        self.val = val\n",
    "        self.left = left\n",
    "        self.right = right\n",
    "\n",
    "    def to_list(self):\n",
    "        to_visit = [self]\n",
    "        visited = []\n",
    "        while len(to_visit) > 0:\n",
    "            curr = to_visit.pop(0)\n",
    "            if curr:\n",
    "                to_visit.append(curr.left)\n",
    "                to_visit.append(curr.right)\n",
    "                visited.append(curr.val)\n",
    "            else:\n",
    "                visited.append(curr)\n",
    "        return visited\n",
    "\n",
    "    def __str__(self):\n",
    "        return str(self.val)\n",
    "\n",
    "    @staticmethod\n",
    "    def from_array(nums: list[int|None]):\n",
    "        '''Create a Tree from a list of nums. Returns the root node.'''\n",
    "        if len(nums) == 0:\n",
    "            return None\n",
    "        elif len(nums) == 1:\n",
    "            return BinaryTreeNode(nums[0])\n",
    "        else:\n",
    "            forest = [BinaryTreeNode(nums[0])]\n",
    "            parent_idx = -1\n",
    "            for i in range(1, len(nums)):\n",
    "\n",
    "                curr = None\n",
    "                if nums[i] is not None:\n",
    "                    curr = BinaryTreeNode(nums[i])\n",
    "                    forest.append(curr)\n",
    "\n",
    "                if i % 2 == 1:\n",
    "                    parent_idx += 1\n",
    "                    forest[parent_idx].left = curr\n",
    "                else:\n",
    "                    forest[parent_idx].right = curr\n",
    "\n",
    "        return forest[0]"
   ]
  },
  {
   "cell_type": "markdown",
   "id": "b18d099c",
   "metadata": {
    "papermill": {
     "duration": 0.004035,
     "end_time": "2024-04-05T01:28:45.905688",
     "exception": false,
     "start_time": "2024-04-05T01:28:45.901653",
     "status": "completed"
    },
    "tags": []
   },
   "source": [
    "#### Helper for Singly Linked lists"
   ]
  },
  {
   "cell_type": "code",
   "execution_count": 2,
   "id": "f4314d5d",
   "metadata": {
    "execution": {
     "iopub.execute_input": "2024-04-05T01:28:45.915223Z",
     "iopub.status.busy": "2024-04-05T01:28:45.914729Z",
     "iopub.status.idle": "2024-04-05T01:28:45.921336Z",
     "shell.execute_reply": "2024-04-05T01:28:45.920711Z"
    },
    "lines_to_next_cell": 1,
    "papermill": {
     "duration": 0.013205,
     "end_time": "2024-04-05T01:28:45.922982",
     "exception": false,
     "start_time": "2024-04-05T01:28:45.909777",
     "status": "completed"
    },
    "tags": []
   },
   "outputs": [],
   "source": [
    "class ListNode:\n",
    "    def __init__(self, val=0, next=None):\n",
    "        self.val = val\n",
    "        self.next = next\n",
    "\n",
    "    def __str__(self):\n",
    "        return str(self.val)\n",
    "\n",
    "    @staticmethod\n",
    "    def to_singly_linked_list(nums: list[int]):\n",
    "        root = prev = None\n",
    "        for n in nums:\n",
    "            curr = ListNode(n)\n",
    "            # Init once\n",
    "            if not root:\n",
    "                root = curr\n",
    "            if prev:\n",
    "                prev.next = curr\n",
    "            prev = curr\n",
    "\n",
    "        return root\n",
    "\n",
    "    def to_list(self) -> list[int]:\n",
    "        result = []\n",
    "        curr = self\n",
    "        while curr:\n",
    "            result.append(curr.val)\n",
    "            curr = curr.next\n",
    "        return result"
   ]
  },
  {
   "cell_type": "markdown",
   "id": "d43fd3d0",
   "metadata": {
    "papermill": {
     "duration": 0.004039,
     "end_time": "2024-04-05T01:28:45.931145",
     "exception": false,
     "start_time": "2024-04-05T01:28:45.927106",
     "status": "completed"
    },
    "tags": []
   },
   "source": [
    "Inorder, Postorder, Preorder "
   ]
  },
  {
   "cell_type": "code",
   "execution_count": 3,
   "id": "17b6ec0d",
   "metadata": {
    "execution": {
     "iopub.execute_input": "2024-04-05T01:28:45.940646Z",
     "iopub.status.busy": "2024-04-05T01:28:45.940111Z",
     "iopub.status.idle": "2024-04-05T01:28:45.949342Z",
     "shell.execute_reply": "2024-04-05T01:28:45.948699Z"
    },
    "lines_to_next_cell": 1,
    "papermill": {
     "duration": 0.015743,
     "end_time": "2024-04-05T01:28:45.950961",
     "exception": false,
     "start_time": "2024-04-05T01:28:45.935218",
     "status": "completed"
    },
    "tags": []
   },
   "outputs": [],
   "source": [
    "def getTreeTraversal(root: BinaryTreeNode) -> tuple[list[int], list[int], list[int]]:\n",
    "    inorder_: list[int] = []\n",
    "    def inorder(root: BinaryTreeNode) -> None:\n",
    "        if not root:\n",
    "            return\n",
    "        else:\n",
    "            inorder(root.left)\n",
    "            inorder_.append(root.val)\n",
    "            inorder(root.right)\n",
    "\n",
    "    preorder_: list[int] = []\n",
    "    def preorder(root: BinaryTreeNode) -> None:\n",
    "        if not root:\n",
    "            return\n",
    "        else:\n",
    "            preorder_.append(root.val)\n",
    "            preorder(root.left)\n",
    "            preorder(root.right)\n",
    "\n",
    "    postorder_: list[int] = []\n",
    "    def postorder(root: BinaryTreeNode) -> None:\n",
    "        if not root:\n",
    "            return\n",
    "        else:\n",
    "            postorder(root.left)\n",
    "            postorder(root.right)\n",
    "            postorder_.append(root.val)\n",
    "\n",
    "    # Traverse & save the order op to a list, print it\n",
    "    inorder(root)\n",
    "    preorder(root)\n",
    "    postorder(root)\n",
    "    return (preorder_, inorder_, postorder_)\n",
    "    return (inorder_, preorder_, postorder_)\n",
    "\n",
    "# Testing the solution\n",
    "assert getTreeTraversal(BinaryTreeNode.from_array([1, 3, 4, 5, 2, 7, 6])) == ([1, 3, 5, 2, 4, 7, 6], [5, 3, 2, 1, 7, 4, 6], [5, 2, 3, 7, 6, 4, 1])"
   ]
  },
  {
   "cell_type": "markdown",
   "id": "565ebd42",
   "metadata": {
    "papermill": {
     "duration": 0.004018,
     "end_time": "2024-04-05T01:28:45.959157",
     "exception": false,
     "start_time": "2024-04-05T01:28:45.955139",
     "status": "completed"
    },
    "tags": []
   },
   "source": [
    "Level Order Traversal"
   ]
  },
  {
   "cell_type": "code",
   "execution_count": 4,
   "id": "88639bd0",
   "metadata": {
    "execution": {
     "iopub.execute_input": "2024-04-05T01:28:45.968265Z",
     "iopub.status.busy": "2024-04-05T01:28:45.968031Z",
     "iopub.status.idle": "2024-04-05T01:28:45.974955Z",
     "shell.execute_reply": "2024-04-05T01:28:45.974318Z"
    },
    "lines_to_next_cell": 1,
    "papermill": {
     "duration": 0.013367,
     "end_time": "2024-04-05T01:28:45.976605",
     "exception": false,
     "start_time": "2024-04-05T01:28:45.963238",
     "status": "completed"
    },
    "tags": []
   },
   "outputs": [],
   "source": [
    "def levelOrder(root: BinaryTreeNode) -> list[list[int]]:\n",
    "    next_: list[BinaryTreeNode] = [root]\n",
    "    traversed: list[list[int]] = []\n",
    "    while next_:\n",
    "        traversed.append([])\n",
    "        temp: list[BinaryTreeNode] = []\n",
    "        for curr in next_:\n",
    "            if curr:\n",
    "                temp.append(curr.left)\n",
    "                temp.append(curr.right)\n",
    "                traversed[-1].append(curr.val)\n",
    "        if not traversed[-1]:\n",
    "            traversed.pop()\n",
    "        next_ = temp\n",
    "\n",
    "    return traversed\n",
    "\n",
    "# Testing the solution\n",
    "assert levelOrder(BinaryTreeNode.from_array([3,9,20,None,None,15,7])) == [[3], [9, 20], [15, 7]]\n",
    "assert levelOrder(BinaryTreeNode.from_array([1])) == [[1]]"
   ]
  },
  {
   "cell_type": "markdown",
   "id": "d59819aa",
   "metadata": {
    "papermill": {
     "duration": 0.004207,
     "end_time": "2024-04-05T01:28:45.985053",
     "exception": false,
     "start_time": "2024-04-05T01:28:45.980846",
     "status": "completed"
    },
    "tags": []
   },
   "source": [
    "Video Link: https://www.youtube.com/watch?v=Bfqd8BsPVuw&list=PLgUwDviBIf0oF6QL8m22w1hIDC1vJ_BHz&index=81\n",
    "Iterative Preorder traversal\n",
    "\n",
    "# %%\n",
    "def preorderIter(root: BinaryTreeNode) -> list[int]:\n",
    "    \"\"\"\n",
    "    Root, Left, Right. The idea is the push right first and then the left,\n",
    "    since stack only works when we are popping -1 at each step.\n",
    "\n",
    "    Time: O(N), Space: O(Height of Binary Tree)\n",
    "    \"\"\"\n",
    "    result: list[int] = []\n",
    "    stack: list[BinaryTreeNode] = [root]\n",
    "    while stack:\n",
    "        curr = stack.pop()\n",
    "        if curr:\n",
    "            result.append(curr.val)\n",
    "            stack.append(curr.right)\n",
    "            stack.append(curr.left)\n",
    "\n",
    "    return result\n",
    "\n",
    "Testing the solution\n",
    "assert preorderIter(BinaryTreeNode.from_array([1, None, 2, 3])) == [1, 2, 3]\n",
    "assert preorderIter(BinaryTreeNode.from_array([1, 2, 7, 3, 4, None, None, None, None, 5, 6])) == [1, 2, 3, 4, 5, 6, 7]"
   ]
  },
  {
   "cell_type": "markdown",
   "id": "3a949dc1",
   "metadata": {
    "papermill": {
     "duration": 0.004021,
     "end_time": "2024-04-05T01:28:45.993169",
     "exception": false,
     "start_time": "2024-04-05T01:28:45.989148",
     "status": "completed"
    },
    "tags": []
   },
   "source": [
    "Video Link: https://www.youtube.com/watch?v=lxTGsVXjwvM&list=PLgUwDviBIf0oF6QL8m22w1hIDC1vJ_BHz&index=82\n",
    "Iterative Inorder traversal"
   ]
  },
  {
   "cell_type": "code",
   "execution_count": 5,
   "id": "f322e25b",
   "metadata": {
    "execution": {
     "iopub.execute_input": "2024-04-05T01:28:46.002865Z",
     "iopub.status.busy": "2024-04-05T01:28:46.002215Z",
     "iopub.status.idle": "2024-04-05T01:28:46.008860Z",
     "shell.execute_reply": "2024-04-05T01:28:46.008228Z"
    },
    "lines_to_next_cell": 1,
    "papermill": {
     "duration": 0.013274,
     "end_time": "2024-04-05T01:28:46.010527",
     "exception": false,
     "start_time": "2024-04-05T01:28:45.997253",
     "status": "completed"
    },
    "tags": []
   },
   "outputs": [],
   "source": [
    "def inorderIter(root: BinaryTreeNode) -> list[int]:\n",
    "    \"\"\"\n",
    "    Left, Root, Right.\n",
    "\n",
    "    If curr is not null, move to its left and append curr to the stack.\n",
    "    Else pop the last item from stack, print it and move to right of the popped element.\n",
    "    \"\"\"\n",
    "    result: list[int] = []\n",
    "    stack: list[BinaryTreeNode] = []\n",
    "    curr = root\n",
    "    while True:\n",
    "        if curr:\n",
    "            stack.append(curr)\n",
    "            curr = curr.left\n",
    "        else:\n",
    "            if stack:\n",
    "                curr = stack.pop()\n",
    "                result.append(curr.val)\n",
    "                curr = curr.right\n",
    "            else:\n",
    "                break\n",
    "\n",
    "    return result\n",
    "\n",
    "# Testing the solution\n",
    "assert inorderIter(BinaryTreeNode.from_array([1, None, 2, 3])) == [1, 3 ,2]"
   ]
  },
  {
   "cell_type": "markdown",
   "id": "bc03474b",
   "metadata": {
    "papermill": {
     "duration": 0.004039,
     "end_time": "2024-04-05T01:28:46.018739",
     "exception": false,
     "start_time": "2024-04-05T01:28:46.014700",
     "status": "completed"
    },
    "tags": []
   },
   "source": [
    "Video Link: https://www.youtube.com/watch?v=2YBhNLodD8Q&list=PLgUwDviBIf0oF6QL8m22w1hIDC1vJ_BHz&index=83\n",
    "Iterative post order traversal"
   ]
  },
  {
   "cell_type": "code",
   "execution_count": 6,
   "id": "a728f1cf",
   "metadata": {
    "execution": {
     "iopub.execute_input": "2024-04-05T01:28:46.028322Z",
     "iopub.status.busy": "2024-04-05T01:28:46.027722Z",
     "iopub.status.idle": "2024-04-05T01:28:46.033969Z",
     "shell.execute_reply": "2024-04-05T01:28:46.033357Z"
    },
    "lines_to_next_cell": 1,
    "papermill": {
     "duration": 0.012835,
     "end_time": "2024-04-05T01:28:46.035662",
     "exception": false,
     "start_time": "2024-04-05T01:28:46.022827",
     "status": "completed"
    },
    "tags": []
   },
   "outputs": [],
   "source": [
    "def postorderIter(root: BinaryTreeNode) -> list[int]:\n",
    "    \"\"\"\n",
    "    Left, Right, Root.\n",
    "\n",
    "    Go root, right, left similar to how we do preorder and reverse the result.\n",
    "    \"\"\"\n",
    "    stack1: list[BinaryTreeNode] = [root]\n",
    "    stack2: list[int] = []\n",
    "    while stack1:\n",
    "        curr = stack1.pop()\n",
    "        if curr:\n",
    "            stack2.append(curr.val)\n",
    "            stack1.append(curr.left)\n",
    "            stack1.append(curr.right)\n",
    "\n",
    "    stack2.reverse()\n",
    "    return stack2\n",
    "\n",
    "# Testing the solution\n",
    "assert postorderIter(BinaryTreeNode.from_array([1, 2, 3, 4, 5, 6, None, None, None, None, None, None, 7])) == [4, 5, 2, 7, 6, 3, 1]"
   ]
  },
  {
   "cell_type": "markdown",
   "id": "c2506b05",
   "metadata": {
    "papermill": {
     "duration": 0.004071,
     "end_time": "2024-04-05T01:28:46.043848",
     "exception": false,
     "start_time": "2024-04-05T01:28:46.039777",
     "status": "completed"
    },
    "tags": []
   },
   "source": [
    "Video Link: https://www.youtube.com/watch?v=NzIGLLwZBS8&list=PLgUwDviBIf0oF6QL8m22w1hIDC1vJ_BHz&index=84\n",
    "Iterative post order traversal using single stack\n",
    "From striver: \"This topic is bit tricky, so try to dry run some trees. Its kinda algorithm that you need to remember. Cannot help\""
   ]
  },
  {
   "cell_type": "code",
   "execution_count": 7,
   "id": "b8f98a3a",
   "metadata": {
    "execution": {
     "iopub.execute_input": "2024-04-05T01:28:46.053289Z",
     "iopub.status.busy": "2024-04-05T01:28:46.052687Z",
     "iopub.status.idle": "2024-04-05T01:28:46.065501Z",
     "shell.execute_reply": "2024-04-05T01:28:46.064756Z"
    },
    "lines_to_next_cell": 1,
    "papermill": {
     "duration": 0.019257,
     "end_time": "2024-04-05T01:28:46.067199",
     "exception": false,
     "start_time": "2024-04-05T01:28:46.047942",
     "status": "completed"
    },
    "tags": []
   },
   "outputs": [
    {
     "data": {
      "text/plain": [
       "[6, 5, 4, 3, 2, 8, 7, 1]"
      ]
     },
     "execution_count": 7,
     "metadata": {},
     "output_type": "execute_result"
    }
   ],
   "source": [
    "def postorderIter_single_stack(root: BinaryTreeNode) -> list[int]:\n",
    "    \"Time: O(2N), Space: O(N)\"\n",
    "    result: list[int] = []\n",
    "    stack: list[BinaryTreeNode] = []\n",
    "    curr = root\n",
    "    while curr or stack:\n",
    "        if curr:\n",
    "            stack.append(curr)\n",
    "            curr = curr.left\n",
    "        else:\n",
    "            temp = stack[-1].right\n",
    "            if not temp:\n",
    "                temp = stack.pop()\n",
    "                result.append(temp.val)\n",
    "                while stack and temp == stack[-1].right:\n",
    "                    temp = stack.pop()\n",
    "                    result.append(temp.val)\n",
    "            else:\n",
    "                curr = temp\n",
    "\n",
    "    return result\n",
    "\n",
    "# Testing the solution\n",
    "postorderIter_single_stack(BinaryTreeNode.from_array([1, 2, 7, 3, None, 8, None, None, 4, None, None, None, 5, None, 6]))"
   ]
  },
  {
   "cell_type": "markdown",
   "id": "cd401b3e",
   "metadata": {
    "papermill": {
     "duration": 0.004223,
     "end_time": "2024-04-05T01:28:46.075750",
     "exception": false,
     "start_time": "2024-04-05T01:28:46.071527",
     "status": "completed"
    },
    "tags": []
   },
   "source": [
    "Video Link: https://youtu.be/ySp2epYvgTE?si=TItCZRCbbFnyQlyi\n",
    "Post Order, In Order, Pre Order Traversal in one iteration"
   ]
  },
  {
   "cell_type": "code",
   "execution_count": 8,
   "id": "ac069236",
   "metadata": {
    "execution": {
     "iopub.execute_input": "2024-04-05T01:28:46.085874Z",
     "iopub.status.busy": "2024-04-05T01:28:46.085215Z",
     "iopub.status.idle": "2024-04-05T01:28:46.093683Z",
     "shell.execute_reply": "2024-04-05T01:28:46.093051Z"
    },
    "papermill": {
     "duration": 0.015329,
     "end_time": "2024-04-05T01:28:46.095340",
     "exception": false,
     "start_time": "2024-04-05T01:28:46.080011",
     "status": "completed"
    },
    "tags": []
   },
   "outputs": [],
   "source": [
    "def getTreeTraversal_single_traversal(root: BinaryTreeNode) -> tuple[list[int], list[int], list[int]]:\n",
    "    \"Time: O(3N), Space: O(1)\"\n",
    "\n",
    "    preorder: list[int] = []\n",
    "    inorder: list[int] = []\n",
    "    postorder: list[int] = []\n",
    "\n",
    "    stack: list[tuple[BinaryTreeNode, int]] = [(root, 1)]\n",
    "    while stack:\n",
    "        curr, op = stack.pop()\n",
    "        if curr and op == 1:\n",
    "            preorder.append(curr.val)\n",
    "            stack.append((curr, op + 1))\n",
    "            stack.append((curr.left, 1))\n",
    "        elif curr and op == 2:\n",
    "            inorder.append(curr.val)\n",
    "            stack.append((curr, op + 1))\n",
    "            stack.append((curr.right, 1))\n",
    "        else:\n",
    "            if curr:\n",
    "                postorder.append(curr.val)\n",
    "\n",
    "    return preorder, inorder, postorder\n",
    "\n",
    "temp = BinaryTreeNode.from_array([1, 3, 4, 5, 2, 7, 6])\n",
    "assert getTreeTraversal(temp) == getTreeTraversal_single_traversal(temp)"
   ]
  }
 ],
 "metadata": {
  "kernelspec": {
   "display_name": "Python 3 (ipykernel)",
   "language": "python",
   "name": "python3"
  },
  "language_info": {
   "codemirror_mode": {
    "name": "ipython",
    "version": 3
   },
   "file_extension": ".py",
   "mimetype": "text/x-python",
   "name": "python",
   "nbconvert_exporter": "python",
   "pygments_lexer": "ipython3",
   "version": "3.10.14"
  },
  "papermill": {
   "default_parameters": {},
   "duration": 1.391972,
   "end_time": "2024-04-05T01:28:46.216985",
   "environment_variables": {},
   "exception": null,
   "input_path": "study/striver-A2Z/10-trees.ipynb",
   "output_path": "study/striver-A2Z/10-trees.ipynb",
   "parameters": {},
   "start_time": "2024-04-05T01:28:44.825013",
   "version": "2.5.0"
  }
 },
 "nbformat": 4,
 "nbformat_minor": 5
}