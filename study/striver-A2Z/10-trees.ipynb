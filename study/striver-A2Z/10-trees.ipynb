{
 "cells": [
  {
   "cell_type": "markdown",
   "id": "b29f23a5",
   "metadata": {
    "papermill": {
     "duration": 0.008611,
     "end_time": "2024-04-07T14:55:22.854275",
     "exception": false,
     "start_time": "2024-04-07T14:55:22.845664",
     "status": "completed"
    },
    "tags": []
   },
   "source": [
    "##### Types of binary trees (https://youtu.be/_ANrF3FJm7I?si=DZzUQr9F7dexWewB)\n",
    "1. Full Binary Tree: Each node has 0 or 2 children.\n",
    "2. Complete Binary Tree: All levels are completely filled except the last, which is filled as left as possible.\n",
    "3. Perfect Binary Tree: All leaf nodes are of the same level (all nodes have 2 children except the leaf).\n",
    "4. Balanced Binary Tree: Height of the left and right subtree of any node differ by not more than 1 / Max height of tree is log (no of nodes).\n",
    "5. Degenerate Binary Tree: Every node has a singe children except the leaf node (left skewed or right skewed).\n",
    "\n",
    "##### Binary Tree Traversals (https://youtu.be/jmy0LaGET1I?si=1o8rYIcijmpRxZHq)\n",
    "\n",
    "###### Depth First Search Traversal Techniques\n",
    "Hint 1: Pre - Root first, Post: Root last, In: Root middle <BR>\n",
    "Hint 2: Left, Right order is preserved for all traversals\n",
    "1. In-Order Traversal: Left, Root, Right\n",
    "2. Pre-Order Traversal: Root, Left, Right\n",
    "3. Post-Order Traversal: Left, Right, Root\n",
    "\n",
    "###### Breadth First Search\n",
    "1. Level Order Traversal: All nodes of same level are iterated through before moving to the next level.\n",
    "1. Boundary Traversal: Left boundary (left nodes excluding leaf), Leaf nodes, Right boundary nodes (right nodes excluding leaf).\n",
    "2. Diagnoal Traversal: Nodes of same diagnol are traversed one after another.\n",
    "\n",
    "##### Some properties of Binary Trees\n",
    "- Max nodes at any level: 2 ** (N - 1)"
   ]
  },
  {
   "cell_type": "markdown",
   "id": "3d2598bc",
   "metadata": {
    "papermill": {
     "duration": 0.00748,
     "end_time": "2024-04-07T14:55:22.870031",
     "exception": false,
     "start_time": "2024-04-07T14:55:22.862551",
     "status": "completed"
    },
    "tags": []
   },
   "source": [
    "#### Some useful imports"
   ]
  },
  {
   "cell_type": "code",
   "execution_count": 1,
   "id": "b692ea03",
   "metadata": {
    "execution": {
     "iopub.execute_input": "2024-04-07T14:55:22.886983Z",
     "iopub.status.busy": "2024-04-07T14:55:22.886283Z",
     "iopub.status.idle": "2024-04-07T14:55:22.896697Z",
     "shell.execute_reply": "2024-04-07T14:55:22.895959Z"
    },
    "lines_to_next_cell": 1,
    "papermill": {
     "duration": 0.020915,
     "end_time": "2024-04-07T14:55:22.898467",
     "exception": false,
     "start_time": "2024-04-07T14:55:22.877552",
     "status": "completed"
    },
    "tags": []
   },
   "outputs": [],
   "source": [
    "import math\n",
    "import collections\n",
    "import itertools\n",
    "import bisect\n",
    "import heapq"
   ]
  },
  {
   "cell_type": "markdown",
   "id": "c70ac08c",
   "metadata": {
    "papermill": {
     "duration": 0.007393,
     "end_time": "2024-04-07T14:55:22.913508",
     "exception": false,
     "start_time": "2024-04-07T14:55:22.906115",
     "status": "completed"
    },
    "tags": []
   },
   "source": [
    "#### Helper for Binary tree problems"
   ]
  },
  {
   "cell_type": "code",
   "execution_count": 2,
   "id": "4c5d251b",
   "metadata": {
    "execution": {
     "iopub.execute_input": "2024-04-07T14:55:22.930014Z",
     "iopub.status.busy": "2024-04-07T14:55:22.929416Z",
     "iopub.status.idle": "2024-04-07T14:55:22.939163Z",
     "shell.execute_reply": "2024-04-07T14:55:22.938466Z"
    },
    "lines_to_next_cell": 1,
    "papermill": {
     "duration": 0.019863,
     "end_time": "2024-04-07T14:55:22.940785",
     "exception": false,
     "start_time": "2024-04-07T14:55:22.920922",
     "status": "completed"
    },
    "tags": []
   },
   "outputs": [],
   "source": [
    "class BinaryTreeNode:\n",
    "    def __init__(self, val=0, left=None, right=None):\n",
    "        self.val = val\n",
    "        self.left = left\n",
    "        self.right = right\n",
    "\n",
    "    def to_list(self):\n",
    "        to_visit = [self]\n",
    "        visited = []\n",
    "        while len(to_visit) > 0:\n",
    "            curr = to_visit.pop(0)\n",
    "            if curr:\n",
    "                to_visit.append(curr.left)\n",
    "                to_visit.append(curr.right)\n",
    "                visited.append(curr.val)\n",
    "            else:\n",
    "                visited.append(curr)\n",
    "        return visited\n",
    "\n",
    "    def __str__(self):\n",
    "        return str(self.val)\n",
    "\n",
    "    @staticmethod\n",
    "    def from_array(nums: list[int|None]):\n",
    "        '''Create a Tree from a list of nums. Returns the root node.'''\n",
    "        if len(nums) == 0:\n",
    "            return None\n",
    "        elif len(nums) == 1:\n",
    "            return BinaryTreeNode(nums[0])\n",
    "        else:\n",
    "            forest = [BinaryTreeNode(nums[0])]\n",
    "            parent_idx = -1\n",
    "            for i in range(1, len(nums)):\n",
    "\n",
    "                curr = None\n",
    "                if nums[i] is not None:\n",
    "                    curr = BinaryTreeNode(nums[i])\n",
    "                    forest.append(curr)\n",
    "\n",
    "                if i % 2 == 1:\n",
    "                    parent_idx += 1\n",
    "                    forest[parent_idx].left = curr\n",
    "                else:\n",
    "                    forest[parent_idx].right = curr\n",
    "\n",
    "        return forest[0]"
   ]
  },
  {
   "cell_type": "markdown",
   "id": "b18d099c",
   "metadata": {
    "papermill": {
     "duration": 0.007382,
     "end_time": "2024-04-07T14:55:22.955773",
     "exception": false,
     "start_time": "2024-04-07T14:55:22.948391",
     "status": "completed"
    },
    "tags": []
   },
   "source": [
    "#### Helper for Singly Linked lists"
   ]
  },
  {
   "cell_type": "code",
   "execution_count": 3,
   "id": "f4314d5d",
   "metadata": {
    "execution": {
     "iopub.execute_input": "2024-04-07T14:55:22.972726Z",
     "iopub.status.busy": "2024-04-07T14:55:22.972003Z",
     "iopub.status.idle": "2024-04-07T14:55:22.978875Z",
     "shell.execute_reply": "2024-04-07T14:55:22.978180Z"
    },
    "lines_to_next_cell": 1,
    "papermill": {
     "duration": 0.017088,
     "end_time": "2024-04-07T14:55:22.980548",
     "exception": false,
     "start_time": "2024-04-07T14:55:22.963460",
     "status": "completed"
    },
    "tags": []
   },
   "outputs": [],
   "source": [
    "class ListNode:\n",
    "    def __init__(self, val=0, next=None):\n",
    "        self.val = val\n",
    "        self.next = next\n",
    "\n",
    "    def __str__(self):\n",
    "        return str(self.val)\n",
    "\n",
    "    @staticmethod\n",
    "    def to_singly_linked_list(nums: list[int]):\n",
    "        root = prev = None\n",
    "        for n in nums:\n",
    "            curr = ListNode(n)\n",
    "            # Init once\n",
    "            if not root:\n",
    "                root = curr\n",
    "            if prev:\n",
    "                prev.next = curr\n",
    "            prev = curr\n",
    "\n",
    "        return root\n",
    "\n",
    "    def to_list(self) -> list[int]:\n",
    "        result = []\n",
    "        curr = self\n",
    "        while curr:\n",
    "            result.append(curr.val)\n",
    "            curr = curr.next\n",
    "        return result"
   ]
  },
  {
   "cell_type": "markdown",
   "id": "d43fd3d0",
   "metadata": {
    "papermill": {
     "duration": 0.00745,
     "end_time": "2024-04-07T14:55:22.995716",
     "exception": false,
     "start_time": "2024-04-07T14:55:22.988266",
     "status": "completed"
    },
    "tags": []
   },
   "source": [
    "Inorder, Postorder, Preorder "
   ]
  },
  {
   "cell_type": "code",
   "execution_count": 4,
   "id": "17b6ec0d",
   "metadata": {
    "execution": {
     "iopub.execute_input": "2024-04-07T14:55:23.012770Z",
     "iopub.status.busy": "2024-04-07T14:55:23.012125Z",
     "iopub.status.idle": "2024-04-07T14:55:23.021351Z",
     "shell.execute_reply": "2024-04-07T14:55:23.020589Z"
    },
    "lines_to_next_cell": 1,
    "papermill": {
     "duration": 0.019569,
     "end_time": "2024-04-07T14:55:23.023209",
     "exception": false,
     "start_time": "2024-04-07T14:55:23.003640",
     "status": "completed"
    },
    "tags": []
   },
   "outputs": [],
   "source": [
    "def getTreeTraversal(root: BinaryTreeNode) -> tuple[list[int], list[int], list[int]]:\n",
    "    inorder_: list[int] = []\n",
    "    def inorder(root: BinaryTreeNode) -> None:\n",
    "        if not root:\n",
    "            return\n",
    "        else:\n",
    "            inorder(root.left)\n",
    "            inorder_.append(root.val)\n",
    "            inorder(root.right)\n",
    "\n",
    "    preorder_: list[int] = []\n",
    "    def preorder(root: BinaryTreeNode) -> None:\n",
    "        if not root:\n",
    "            return\n",
    "        else:\n",
    "            preorder_.append(root.val)\n",
    "            preorder(root.left)\n",
    "            preorder(root.right)\n",
    "\n",
    "    postorder_: list[int] = []\n",
    "    def postorder(root: BinaryTreeNode) -> None:\n",
    "        if not root:\n",
    "            return\n",
    "        else:\n",
    "            postorder(root.left)\n",
    "            postorder(root.right)\n",
    "            postorder_.append(root.val)\n",
    "\n",
    "    # Traverse & save the order op to a list, print it\n",
    "    inorder(root)\n",
    "    preorder(root)\n",
    "    postorder(root)\n",
    "    return (preorder_, inorder_, postorder_)\n",
    "    return (inorder_, preorder_, postorder_)\n",
    "\n",
    "# Testing the solution\n",
    "assert getTreeTraversal(BinaryTreeNode.from_array([1, 3, 4, 5, 2, 7, 6])) == ([1, 3, 5, 2, 4, 7, 6], [5, 3, 2, 1, 7, 4, 6], [5, 2, 3, 7, 6, 4, 1])"
   ]
  },
  {
   "cell_type": "markdown",
   "id": "565ebd42",
   "metadata": {
    "papermill": {
     "duration": 0.007474,
     "end_time": "2024-04-07T14:55:23.038154",
     "exception": false,
     "start_time": "2024-04-07T14:55:23.030680",
     "status": "completed"
    },
    "tags": []
   },
   "source": [
    "Level Order Traversal"
   ]
  },
  {
   "cell_type": "code",
   "execution_count": 5,
   "id": "88639bd0",
   "metadata": {
    "execution": {
     "iopub.execute_input": "2024-04-07T14:55:23.054237Z",
     "iopub.status.busy": "2024-04-07T14:55:23.053976Z",
     "iopub.status.idle": "2024-04-07T14:55:23.061145Z",
     "shell.execute_reply": "2024-04-07T14:55:23.060391Z"
    },
    "lines_to_next_cell": 1,
    "papermill": {
     "duration": 0.01717,
     "end_time": "2024-04-07T14:55:23.062760",
     "exception": false,
     "start_time": "2024-04-07T14:55:23.045590",
     "status": "completed"
    },
    "tags": []
   },
   "outputs": [],
   "source": [
    "def levelOrder(root: BinaryTreeNode) -> list[list[int]]:\n",
    "    next_: list[BinaryTreeNode] = [root]\n",
    "    traversed: list[list[int]] = []\n",
    "    while next_:\n",
    "        traversed.append([])\n",
    "        temp: list[BinaryTreeNode] = []\n",
    "        for curr in next_:\n",
    "            if curr:\n",
    "                temp.append(curr.left)\n",
    "                temp.append(curr.right)\n",
    "                traversed[-1].append(curr.val)\n",
    "        if not traversed[-1]:\n",
    "            traversed.pop()\n",
    "        next_ = temp\n",
    "\n",
    "    return traversed\n",
    "\n",
    "# Testing the solution\n",
    "assert levelOrder(BinaryTreeNode.from_array([3,9,20,None,None,15,7])) == [[3], [9, 20], [15, 7]]\n",
    "assert levelOrder(BinaryTreeNode.from_array([1])) == [[1]]"
   ]
  },
  {
   "cell_type": "markdown",
   "id": "d59819aa",
   "metadata": {
    "papermill": {
     "duration": 0.007526,
     "end_time": "2024-04-07T14:55:23.078135",
     "exception": false,
     "start_time": "2024-04-07T14:55:23.070609",
     "status": "completed"
    },
    "tags": []
   },
   "source": [
    "Video Link: https://www.youtube.com/watch?v=Bfqd8BsPVuw&list=PLgUwDviBIf0oF6QL8m22w1hIDC1vJ_BHz&index=81\n",
    "Iterative Preorder traversal\n",
    "\n",
    "# %%\n",
    "def preorderIter(root: BinaryTreeNode) -> list[int]:\n",
    "    \"\"\"\n",
    "    Root, Left, Right. The idea is the push right first and then the left,\n",
    "    since stack only works when we are popping -1 at each step.\n",
    "\n",
    "    Time: O(N), Space: O(Height of Binary Tree)\n",
    "    \"\"\"\n",
    "    result: list[int] = []\n",
    "    stack: list[BinaryTreeNode] = [root]\n",
    "    while stack:\n",
    "        curr = stack.pop()\n",
    "        if curr:\n",
    "            result.append(curr.val)\n",
    "            stack.append(curr.right)\n",
    "            stack.append(curr.left)\n",
    "\n",
    "    return result\n",
    "\n",
    "Testing the solution\n",
    "assert preorderIter(BinaryTreeNode.from_array([1, None, 2, 3])) == [1, 2, 3]\n",
    "assert preorderIter(BinaryTreeNode.from_array([1, 2, 7, 3, 4, None, None, None, None, 5, 6])) == [1, 2, 3, 4, 5, 6, 7]"
   ]
  },
  {
   "cell_type": "markdown",
   "id": "3a949dc1",
   "metadata": {
    "papermill": {
     "duration": 0.007368,
     "end_time": "2024-04-07T14:55:23.092958",
     "exception": false,
     "start_time": "2024-04-07T14:55:23.085590",
     "status": "completed"
    },
    "tags": []
   },
   "source": [
    "Video Link: https://www.youtube.com/watch?v=lxTGsVXjwvM&list=PLgUwDviBIf0oF6QL8m22w1hIDC1vJ_BHz&index=82\n",
    "Iterative Inorder traversal"
   ]
  },
  {
   "cell_type": "code",
   "execution_count": 6,
   "id": "f322e25b",
   "metadata": {
    "execution": {
     "iopub.execute_input": "2024-04-07T14:55:23.109686Z",
     "iopub.status.busy": "2024-04-07T14:55:23.109051Z",
     "iopub.status.idle": "2024-04-07T14:55:23.115749Z",
     "shell.execute_reply": "2024-04-07T14:55:23.114960Z"
    },
    "lines_to_next_cell": 1,
    "papermill": {
     "duration": 0.016933,
     "end_time": "2024-04-07T14:55:23.117370",
     "exception": false,
     "start_time": "2024-04-07T14:55:23.100437",
     "status": "completed"
    },
    "tags": []
   },
   "outputs": [],
   "source": [
    "def inorderIter(root: BinaryTreeNode) -> list[int]:\n",
    "    \"\"\"\n",
    "    Left, Root, Right.\n",
    "\n",
    "    If curr is not null, move to its left and append curr to the stack.\n",
    "    Else pop the last item from stack, print it and move to right of the popped element.\n",
    "    \"\"\"\n",
    "    result: list[int] = []\n",
    "    stack: list[BinaryTreeNode] = []\n",
    "    curr = root\n",
    "    while True:\n",
    "        if curr:\n",
    "            stack.append(curr)\n",
    "            curr = curr.left\n",
    "        else:\n",
    "            if stack:\n",
    "                curr = stack.pop()\n",
    "                result.append(curr.val)\n",
    "                curr = curr.right\n",
    "            else:\n",
    "                break\n",
    "\n",
    "    return result\n",
    "\n",
    "# Testing the solution\n",
    "assert inorderIter(BinaryTreeNode.from_array([1, None, 2, 3])) == [1, 3 ,2]"
   ]
  },
  {
   "cell_type": "markdown",
   "id": "bc03474b",
   "metadata": {
    "papermill": {
     "duration": 0.007529,
     "end_time": "2024-04-07T14:55:23.132754",
     "exception": false,
     "start_time": "2024-04-07T14:55:23.125225",
     "status": "completed"
    },
    "tags": []
   },
   "source": [
    "Video Link: https://www.youtube.com/watch?v=2YBhNLodD8Q&list=PLgUwDviBIf0oF6QL8m22w1hIDC1vJ_BHz&index=83\n",
    "Iterative post order traversal"
   ]
  },
  {
   "cell_type": "code",
   "execution_count": 7,
   "id": "a728f1cf",
   "metadata": {
    "execution": {
     "iopub.execute_input": "2024-04-07T14:55:23.149459Z",
     "iopub.status.busy": "2024-04-07T14:55:23.149095Z",
     "iopub.status.idle": "2024-04-07T14:55:23.155615Z",
     "shell.execute_reply": "2024-04-07T14:55:23.154844Z"
    },
    "lines_to_next_cell": 1,
    "papermill": {
     "duration": 0.016947,
     "end_time": "2024-04-07T14:55:23.157268",
     "exception": false,
     "start_time": "2024-04-07T14:55:23.140321",
     "status": "completed"
    },
    "tags": []
   },
   "outputs": [],
   "source": [
    "def postorderIter(root: BinaryTreeNode) -> list[int]:\n",
    "    \"\"\"\n",
    "    Left, Right, Root.\n",
    "\n",
    "    Go root, right, left similar to how we do preorder and reverse the result.\n",
    "    \"\"\"\n",
    "    stack1: list[BinaryTreeNode] = [root]\n",
    "    stack2: list[int] = []\n",
    "    while stack1:\n",
    "        curr = stack1.pop()\n",
    "        if curr:\n",
    "            stack2.append(curr.val)\n",
    "            stack1.append(curr.left)\n",
    "            stack1.append(curr.right)\n",
    "\n",
    "    stack2.reverse()\n",
    "    return stack2\n",
    "\n",
    "# Testing the solution\n",
    "assert postorderIter(BinaryTreeNode.from_array([1, 2, 3, 4, 5, 6, None, None, None, None, None, None, 7])) == [4, 5, 2, 7, 6, 3, 1]"
   ]
  },
  {
   "cell_type": "markdown",
   "id": "c2506b05",
   "metadata": {
    "papermill": {
     "duration": 0.007362,
     "end_time": "2024-04-07T14:55:23.172365",
     "exception": false,
     "start_time": "2024-04-07T14:55:23.165003",
     "status": "completed"
    },
    "tags": []
   },
   "source": [
    "Video Link: https://www.youtube.com/watch?v=NzIGLLwZBS8&list=PLgUwDviBIf0oF6QL8m22w1hIDC1vJ_BHz&index=84\n",
    "Iterative post order traversal using single stack\n",
    "From striver: \"This topic is bit tricky, so try to dry run some trees. Its kinda algorithm that you need to remember. Cannot help\""
   ]
  },
  {
   "cell_type": "code",
   "execution_count": 8,
   "id": "b8f98a3a",
   "metadata": {
    "execution": {
     "iopub.execute_input": "2024-04-07T14:55:23.189636Z",
     "iopub.status.busy": "2024-04-07T14:55:23.188943Z",
     "iopub.status.idle": "2024-04-07T14:55:23.201435Z",
     "shell.execute_reply": "2024-04-07T14:55:23.200682Z"
    },
    "lines_to_next_cell": 1,
    "papermill": {
     "duration": 0.023106,
     "end_time": "2024-04-07T14:55:23.203115",
     "exception": false,
     "start_time": "2024-04-07T14:55:23.180009",
     "status": "completed"
    },
    "tags": []
   },
   "outputs": [
    {
     "data": {
      "text/plain": [
       "[6, 5, 4, 3, 2, 8, 7, 1]"
      ]
     },
     "execution_count": 8,
     "metadata": {},
     "output_type": "execute_result"
    }
   ],
   "source": [
    "def postorderIter_single_stack(root: BinaryTreeNode) -> list[int]:\n",
    "    \"Time: O(2N), Space: O(N)\"\n",
    "    result: list[int] = []\n",
    "    stack: list[BinaryTreeNode] = []\n",
    "    curr = root\n",
    "    while curr or stack:\n",
    "        if curr:\n",
    "            stack.append(curr)\n",
    "            curr = curr.left\n",
    "        else:\n",
    "            temp = stack[-1].right\n",
    "            if not temp:\n",
    "                temp = stack.pop()\n",
    "                result.append(temp.val)\n",
    "                while stack and temp == stack[-1].right:\n",
    "                    temp = stack.pop()\n",
    "                    result.append(temp.val)\n",
    "            else:\n",
    "                curr = temp\n",
    "\n",
    "    return result\n",
    "\n",
    "# Testing the solution\n",
    "postorderIter_single_stack(BinaryTreeNode.from_array([1, 2, 7, 3, None, 8, None, None, 4, None, None, None, 5, None, 6]))"
   ]
  },
  {
   "cell_type": "markdown",
   "id": "cd401b3e",
   "metadata": {
    "papermill": {
     "duration": 0.007749,
     "end_time": "2024-04-07T14:55:23.218730",
     "exception": false,
     "start_time": "2024-04-07T14:55:23.210981",
     "status": "completed"
    },
    "tags": []
   },
   "source": [
    "Video Link: https://youtu.be/ySp2epYvgTE?si=TItCZRCbbFnyQlyi\n",
    "Post Order, In Order, Pre Order Traversal in one iteration"
   ]
  },
  {
   "cell_type": "code",
   "execution_count": 9,
   "id": "ac069236",
   "metadata": {
    "execution": {
     "iopub.execute_input": "2024-04-07T14:55:23.235848Z",
     "iopub.status.busy": "2024-04-07T14:55:23.235136Z",
     "iopub.status.idle": "2024-04-07T14:55:23.243462Z",
     "shell.execute_reply": "2024-04-07T14:55:23.242787Z"
    },
    "lines_to_next_cell": 1,
    "papermill": {
     "duration": 0.018837,
     "end_time": "2024-04-07T14:55:23.245174",
     "exception": false,
     "start_time": "2024-04-07T14:55:23.226337",
     "status": "completed"
    },
    "tags": []
   },
   "outputs": [],
   "source": [
    "def getTreeTraversal_single_traversal(root: BinaryTreeNode) -> tuple[list[int], list[int], list[int]]:\n",
    "    \"Time: O(3N), Space: O(1)\"\n",
    "\n",
    "    preorder: list[int] = []\n",
    "    inorder: list[int] = []\n",
    "    postorder: list[int] = []\n",
    "\n",
    "    stack: list[tuple[BinaryTreeNode, int]] = [(root, 1)]\n",
    "    while stack:\n",
    "        curr, op = stack.pop()\n",
    "        if curr and op == 1:\n",
    "            preorder.append(curr.val)\n",
    "            stack.append((curr, op + 1))\n",
    "            stack.append((curr.left, 1))\n",
    "        elif curr and op == 2:\n",
    "            inorder.append(curr.val)\n",
    "            stack.append((curr, op + 1))\n",
    "            stack.append((curr.right, 1))\n",
    "        else:\n",
    "            if curr:\n",
    "                postorder.append(curr.val)\n",
    "\n",
    "    return preorder, inorder, postorder\n",
    "\n",
    "# Testing the solution\n",
    "temp = BinaryTreeNode.from_array([1, 3, 4, 5, 2, 7, 6])\n",
    "assert getTreeTraversal(temp) == getTreeTraversal_single_traversal(temp)"
   ]
  },
  {
   "cell_type": "markdown",
   "id": "5689f6ec",
   "metadata": {
    "papermill": {
     "duration": 0.007553,
     "end_time": "2024-04-07T14:55:23.260554",
     "exception": false,
     "start_time": "2024-04-07T14:55:23.253001",
     "status": "completed"
    },
    "tags": []
   },
   "source": [
    "Maximum Depth of a Binary Tree: https://www.youtube.com/watch?v=eD3tmO66aBA&list=PLgUwDviBIf0oF6QL8m22w1hIDC1vJ_BHz&index=86"
   ]
  },
  {
   "cell_type": "code",
   "execution_count": 10,
   "id": "77506355",
   "metadata": {
    "execution": {
     "iopub.execute_input": "2024-04-07T14:55:23.277743Z",
     "iopub.status.busy": "2024-04-07T14:55:23.277043Z",
     "iopub.status.idle": "2024-04-07T14:55:23.283603Z",
     "shell.execute_reply": "2024-04-07T14:55:23.282837Z"
    },
    "lines_to_next_cell": 1,
    "papermill": {
     "duration": 0.017065,
     "end_time": "2024-04-07T14:55:23.285218",
     "exception": false,
     "start_time": "2024-04-07T14:55:23.268153",
     "status": "completed"
    },
    "tags": []
   },
   "outputs": [],
   "source": [
    "# Level Order Traversal\n",
    "def maxDepthIter(root: BinaryTreeNode) -> int:\n",
    "    \"Time: O(N), Space: O(N)\"\n",
    "\n",
    "    to_traverse: list[BinaryTreeNode] = [root]\n",
    "    height = 0\n",
    "    while to_traverse:\n",
    "        height += 1\n",
    "        next_: list[BinaryTreeNode] = []\n",
    "        for node in to_traverse:\n",
    "            if node:\n",
    "                next_.append(node.left)\n",
    "                next_.append(node.right)\n",
    "        to_traverse = next_\n",
    "\n",
    "    return height - 1\n",
    "\n",
    "# Testing the solution\n",
    "assert maxDepthIter(BinaryTreeNode.from_array([3,9,20,None,None,15,7])) == 3"
   ]
  },
  {
   "cell_type": "code",
   "execution_count": 11,
   "id": "ad1799a0",
   "metadata": {
    "execution": {
     "iopub.execute_input": "2024-04-07T14:55:23.302391Z",
     "iopub.status.busy": "2024-04-07T14:55:23.301741Z",
     "iopub.status.idle": "2024-04-07T14:55:23.307666Z",
     "shell.execute_reply": "2024-04-07T14:55:23.306899Z"
    },
    "lines_to_next_cell": 1,
    "papermill": {
     "duration": 0.016168,
     "end_time": "2024-04-07T14:55:23.309271",
     "exception": false,
     "start_time": "2024-04-07T14:55:23.293103",
     "status": "completed"
    },
    "tags": []
   },
   "outputs": [],
   "source": [
    "def maxDepthRecursive(root: BinaryTreeNode) -> int:\n",
    "\n",
    "    max_: int = 0\n",
    "    def backtrack(curr: BinaryTreeNode, height: int = 0):\n",
    "        nonlocal max_\n",
    "        if not curr:\n",
    "            max_ = max(max_, height)\n",
    "            return\n",
    "        else:\n",
    "            backtrack(curr.left, height + 1)\n",
    "            backtrack(curr.right, height + 1)\n",
    "\n",
    "    backtrack(root)\n",
    "    return max_\n",
    "\n",
    "# Testing the solution\n",
    "assert maxDepthRecursive(BinaryTreeNode.from_array([3,9,20,None,None,15,7])) == 3"
   ]
  },
  {
   "cell_type": "code",
   "execution_count": 12,
   "id": "593ac16d",
   "metadata": {
    "execution": {
     "iopub.execute_input": "2024-04-07T14:55:23.326394Z",
     "iopub.status.busy": "2024-04-07T14:55:23.325737Z",
     "iopub.status.idle": "2024-04-07T14:55:23.330997Z",
     "shell.execute_reply": "2024-04-07T14:55:23.330216Z"
    },
    "lines_to_next_cell": 1,
    "papermill": {
     "duration": 0.015518,
     "end_time": "2024-04-07T14:55:23.332684",
     "exception": false,
     "start_time": "2024-04-07T14:55:23.317166",
     "status": "completed"
    },
    "tags": []
   },
   "outputs": [],
   "source": [
    "def maxDepthStriver(root: BinaryTreeNode) -> int:\n",
    "    if not root:\n",
    "        return 0\n",
    "    else:\n",
    "        left = maxDepthStriver(root.left)\n",
    "        right = maxDepthStriver(root.right)\n",
    "        return 1 + max(left, right)\n",
    "\n",
    "# Testing the solution\n",
    "assert maxDepthStriver(BinaryTreeNode.from_array([3,9,20,None,None,15,7])) == 3"
   ]
  },
  {
   "cell_type": "markdown",
   "id": "83812466",
   "metadata": {
    "papermill": {
     "duration": 0.007803,
     "end_time": "2024-04-07T14:55:23.348304",
     "exception": false,
     "start_time": "2024-04-07T14:55:23.340501",
     "status": "completed"
    },
    "tags": []
   },
   "source": [
    "Check for balanced Binary Tree: https://youtu.be/Yt50Jfbd8Po?si=pqjd9p-_S-9vRrmG"
   ]
  },
  {
   "cell_type": "code",
   "execution_count": 13,
   "id": "fc21bd9b",
   "metadata": {
    "execution": {
     "iopub.execute_input": "2024-04-07T14:55:23.365507Z",
     "iopub.status.busy": "2024-04-07T14:55:23.364958Z",
     "iopub.status.idle": "2024-04-07T14:55:23.371758Z",
     "shell.execute_reply": "2024-04-07T14:55:23.371022Z"
    },
    "lines_to_next_cell": 1,
    "papermill": {
     "duration": 0.017372,
     "end_time": "2024-04-07T14:55:23.373479",
     "exception": false,
     "start_time": "2024-04-07T14:55:23.356107",
     "status": "completed"
    },
    "tags": []
   },
   "outputs": [],
   "source": [
    "def isBalanced(root: BinaryTreeNode) -> bool:\n",
    "    def checkHeight(curr: BinaryTreeNode) -> int:\n",
    "        if not curr:\n",
    "            return 0\n",
    "        else:\n",
    "            left = checkHeight(curr.left)\n",
    "            if left == -1:\n",
    "                return -1\n",
    "            right = checkHeight(curr.right)\n",
    "            if right == -1:\n",
    "                return -1\n",
    "            if abs(left - right) > 1:\n",
    "                return -1\n",
    "            else:\n",
    "                return 1 + max(left, right)\n",
    "\n",
    "    return checkHeight(root) != -1\n",
    "\n",
    "# Testing the solution\n",
    "assert isBalanced(BinaryTreeNode.from_array([1,2,2,3,3,None,None,4,4])) == False"
   ]
  },
  {
   "cell_type": "markdown",
   "id": "77ff8f23",
   "metadata": {
    "papermill": {
     "duration": 0.007509,
     "end_time": "2024-04-07T14:55:23.388920",
     "exception": false,
     "start_time": "2024-04-07T14:55:23.381411",
     "status": "completed"
    },
    "tags": []
   },
   "source": [
    "Diameter of Binary Tree: https://youtu.be/Rezetez59Nk?si=9WeCIb_ik5elrVZm"
   ]
  },
  {
   "cell_type": "code",
   "execution_count": 14,
   "id": "ce78d08b",
   "metadata": {
    "execution": {
     "iopub.execute_input": "2024-04-07T14:55:23.405979Z",
     "iopub.status.busy": "2024-04-07T14:55:23.405421Z",
     "iopub.status.idle": "2024-04-07T14:55:23.413381Z",
     "shell.execute_reply": "2024-04-07T14:55:23.412606Z"
    },
    "lines_to_next_cell": 1,
    "papermill": {
     "duration": 0.018443,
     "end_time": "2024-04-07T14:55:23.415096",
     "exception": false,
     "start_time": "2024-04-07T14:55:23.396653",
     "status": "completed"
    },
    "tags": []
   },
   "outputs": [
    {
     "data": {
      "text/plain": [
       "3"
      ]
     },
     "execution_count": 14,
     "metadata": {},
     "output_type": "execute_result"
    }
   ],
   "source": [
    "def diameterOfBinaryTree(root: BinaryTreeNode) -> int:\n",
    "\n",
    "    diameter: int = 0\n",
    "    def checkHeight(curr: BinaryTreeNode) -> int:\n",
    "        nonlocal diameter\n",
    "        if not curr:\n",
    "            return 0\n",
    "        else:\n",
    "            left = checkHeight(curr.left)\n",
    "            right = checkHeight(curr.right)\n",
    "            diameter = max(diameter, left + right)\n",
    "            return 1 + max(left, right)\n",
    "\n",
    "    checkHeight(root)\n",
    "    return diameter\n",
    "\n",
    "# Testing the solution\n",
    "diameterOfBinaryTree(BinaryTreeNode.from_array([1,2,3,4,5]))"
   ]
  },
  {
   "cell_type": "markdown",
   "id": "089181e0",
   "metadata": {
    "papermill": {
     "duration": 0.007746,
     "end_time": "2024-04-07T14:55:23.430743",
     "exception": false,
     "start_time": "2024-04-07T14:55:23.422997",
     "status": "completed"
    },
    "tags": []
   },
   "source": [
    "Video Link: https://youtu.be/WszrfSwMz58?si=daE6TYubT_j5MKuT\n",
    "Maximum Path Sum: https://leetcode.com/problems/binary-tree-maximum-path-sum/submissions/1224438073"
   ]
  },
  {
   "cell_type": "code",
   "execution_count": 15,
   "id": "4192b725",
   "metadata": {
    "execution": {
     "iopub.execute_input": "2024-04-07T14:55:23.448323Z",
     "iopub.status.busy": "2024-04-07T14:55:23.447746Z",
     "iopub.status.idle": "2024-04-07T14:55:23.455184Z",
     "shell.execute_reply": "2024-04-07T14:55:23.454374Z"
    },
    "lines_to_next_cell": 1,
    "papermill": {
     "duration": 0.018063,
     "end_time": "2024-04-07T14:55:23.456915",
     "exception": false,
     "start_time": "2024-04-07T14:55:23.438852",
     "status": "completed"
    },
    "tags": []
   },
   "outputs": [],
   "source": [
    "def maxPathSum(root: BinaryTreeNode) -> float:\n",
    "    max_sum: float = -math.inf\n",
    "    def backtrack(curr: BinaryTreeNode) -> float:\n",
    "        nonlocal max_sum\n",
    "        if not curr:\n",
    "            return 0\n",
    "        else:\n",
    "            left = max(0, backtrack(curr.left))\n",
    "            right = max(0, backtrack(curr.right))\n",
    "            max_sum = max(max_sum, left + right + curr.val)\n",
    "            return curr.val + max(left, right)\n",
    "\n",
    "    backtrack(root)\n",
    "    return max_sum\n",
    "\n",
    "# Testing the solution\n",
    "assert maxPathSum(BinaryTreeNode.from_array([-10,9,20,None,None,15,7])) == 42\n",
    "assert maxPathSum(BinaryTreeNode.from_array([1, -2, 3])) == 4\n",
    "assert maxPathSum(BinaryTreeNode.from_array([9,6,-3,None,None,-6,2,None,None,2,None,-6,-6,-6])) == 16"
   ]
  },
  {
   "cell_type": "markdown",
   "id": "0bdad953",
   "metadata": {
    "papermill": {
     "duration": 0.007779,
     "end_time": "2024-04-07T14:55:23.472696",
     "exception": false,
     "start_time": "2024-04-07T14:55:23.464917",
     "status": "completed"
    },
    "tags": []
   },
   "source": [
    "Check if two trees are identical or not\n",
    "Video Link: https://youtu.be/BhuvF_-PWS0?si=C1iPAcpAICZHWRSr"
   ]
  },
  {
   "cell_type": "code",
   "execution_count": 16,
   "id": "7a2627c8",
   "metadata": {
    "execution": {
     "iopub.execute_input": "2024-04-07T14:55:23.490030Z",
     "iopub.status.busy": "2024-04-07T14:55:23.489446Z",
     "iopub.status.idle": "2024-04-07T14:55:23.496150Z",
     "shell.execute_reply": "2024-04-07T14:55:23.495455Z"
    },
    "lines_to_next_cell": 1,
    "papermill": {
     "duration": 0.017338,
     "end_time": "2024-04-07T14:55:23.497825",
     "exception": false,
     "start_time": "2024-04-07T14:55:23.480487",
     "status": "completed"
    },
    "tags": []
   },
   "outputs": [],
   "source": [
    "def isSameTree(p: BinaryTreeNode, q: BinaryTreeNode) -> bool:\n",
    "    def backtrack(curr1: BinaryTreeNode, curr2: BinaryTreeNode) -> bool:\n",
    "        if not curr1 or not curr2:\n",
    "            return curr1 == curr2\n",
    "        else:\n",
    "            return curr1.val == curr2.val and backtrack(curr1.left, curr2.left) and backtrack(curr1.right, curr2.right)\n",
    "\n",
    "    return backtrack(p, q)\n",
    "\n",
    "# Testing the solution\n",
    "assert isSameTree(BinaryTreeNode.from_array([1, 2, 3]), BinaryTreeNode.from_array([1, 2, 3])) == True\n",
    "assert isSameTree(BinaryTreeNode.from_array([1, 2]), BinaryTreeNode.from_array([1, None, 2])) == False"
   ]
  },
  {
   "cell_type": "markdown",
   "id": "6f64cc1b",
   "metadata": {
    "papermill": {
     "duration": 0.00796,
     "end_time": "2024-04-07T14:55:23.513977",
     "exception": false,
     "start_time": "2024-04-07T14:55:23.506017",
     "status": "completed"
    },
    "tags": []
   },
   "source": [
    "Video Link: https://youtu.be/3OXWEdlIGl4?si=prGw3PDHdgEpFJgj\n",
    "Zig Zag / Spiral Traversal in a Binary Tree"
   ]
  },
  {
   "cell_type": "code",
   "execution_count": 17,
   "id": "220a0708",
   "metadata": {
    "execution": {
     "iopub.execute_input": "2024-04-07T14:55:23.531493Z",
     "iopub.status.busy": "2024-04-07T14:55:23.530790Z",
     "iopub.status.idle": "2024-04-07T14:55:23.539513Z",
     "shell.execute_reply": "2024-04-07T14:55:23.538710Z"
    },
    "lines_to_next_cell": 1,
    "papermill": {
     "duration": 0.019335,
     "end_time": "2024-04-07T14:55:23.541194",
     "exception": false,
     "start_time": "2024-04-07T14:55:23.521859",
     "status": "completed"
    },
    "tags": []
   },
   "outputs": [],
   "source": [
    "# Leetcode Medium: https://leetcode.com/problems/binary-tree-zigzag-level-order-traversal/submissions/1225227141\n",
    "def zigzagLevelOrder(root: BinaryTreeNode) -> list[list[int]]:\n",
    "    \"\"\"\n",
    "    Perform a level order traversal, store the results into a deque.\n",
    "    Based on level#, traverse from left node to right or vice versa.\n",
    "    \"\"\"\n",
    "    to_visit: list[BinaryTreeNode] = [root]\n",
    "    result: list[list[int]] = []\n",
    "    level = 1\n",
    "    while to_visit:\n",
    "        next_: list[BinaryTreeNode] = []\n",
    "        result.append([])\n",
    "        for curr in to_visit:\n",
    "            if curr:\n",
    "                result[-1].append(curr.val)\n",
    "                next_.append(curr.left)\n",
    "                next_.append(curr.right)\n",
    "\n",
    "        if not result[-1]:\n",
    "            result.pop()\n",
    "        elif level % 2 == 0:\n",
    "            result[-1].reverse()\n",
    "\n",
    "        to_visit = next_\n",
    "        level += 1\n",
    "\n",
    "    return result\n",
    "\n",
    "# Testing the solution\n",
    "assert zigzagLevelOrder(BinaryTreeNode.from_array([3,9,20,None,None,15,7])) == [[3],[20,9],[15,7]]\n",
    "assert zigzagLevelOrder(BinaryTreeNode.from_array([1,2,3,4,None,None,5])) == [[1],[3,2],[4,5]]"
   ]
  },
  {
   "cell_type": "markdown",
   "id": "83e73a04",
   "metadata": {
    "papermill": {
     "duration": 0.007807,
     "end_time": "2024-04-07T14:55:23.557049",
     "exception": false,
     "start_time": "2024-04-07T14:55:23.549242",
     "status": "completed"
    },
    "tags": []
   },
   "source": [
    "Video Link: https://youtu.be/0ca1nvR0be4?si=Er0-Y8gxhnKlWt6-\n",
    "Boundary Traversal in a Binary Tree"
   ]
  },
  {
   "cell_type": "code",
   "execution_count": 18,
   "id": "3e63f2c1",
   "metadata": {
    "execution": {
     "iopub.execute_input": "2024-04-07T14:55:23.574627Z",
     "iopub.status.busy": "2024-04-07T14:55:23.573872Z",
     "iopub.status.idle": "2024-04-07T14:55:23.584319Z",
     "shell.execute_reply": "2024-04-07T14:55:23.583654Z"
    },
    "lines_to_next_cell": 1,
    "papermill": {
     "duration": 0.020968,
     "end_time": "2024-04-07T14:55:23.585975",
     "exception": false,
     "start_time": "2024-04-07T14:55:23.565007",
     "status": "completed"
    },
    "tags": []
   },
   "outputs": [],
   "source": [
    "def traverseBoundary(root: BinaryTreeNode) -> list[int]:\n",
    "    \"\"\"\n",
    "    Left boundary excluding leaves, Leaf nodes, Right Boundary excluding leaves\n",
    "    \"\"\"\n",
    "\n",
    "    left: list[int] = []\n",
    "    curr = root.left\n",
    "    while curr and (curr.left or curr.right):\n",
    "        left.append(curr.val)\n",
    "        curr = curr.left if curr.left else curr.right\n",
    "\n",
    "    boundary: list[int] = []\n",
    "    def getLeaves(curr: BinaryTreeNode):\n",
    "        nonlocal boundary\n",
    "        if not curr:\n",
    "            return\n",
    "        else:\n",
    "            if not curr.left and not curr.right:\n",
    "                boundary.append(curr.val)\n",
    "            getLeaves(curr.left)\n",
    "            getLeaves(curr.right)\n",
    "\n",
    "    right: list[int] = []\n",
    "    curr = root.right\n",
    "    while curr and (curr.left or curr.right):\n",
    "        right.append(curr.val)\n",
    "        curr = curr.right if curr.right else curr.left\n",
    "    right.reverse()\n",
    "\n",
    "    getLeaves(root)\n",
    "    return [root.val] + left + boundary + right\n",
    "\n",
    "# Testing the solution\n",
    "assert traverseBoundary(BinaryTreeNode.from_array([10, 5, 20, 3, 8, 18, 25, None, None, 7, None, None, None, None, None, None, None])) == [10, 5, 3, 7, 18, 25, 20]\n",
    "assert traverseBoundary(BinaryTreeNode.from_array([100, 50, 150, 25, 75, 140, 200, None, 30, 70, 80, None, None, None, None, None, 35, None, None, None, None, None, None])) == [100, 50, 25, 30, 35, 70, 80, 140, 200, 150]"
   ]
  },
  {
   "cell_type": "markdown",
   "id": "48a971f2",
   "metadata": {},
   "source": [
    "Video Link: https://youtu.be/q_a6lpbKJdw?si=d1p9utIGRbbi7q84\n",
    "Vertial order traversal of Binary Tree"
   ]
  },
  {
   "cell_type": "code",
   "execution_count": null,
   "id": "584c0df0",
   "metadata": {
    "lines_to_next_cell": 1
   },
   "outputs": [],
   "source": [
    "# Problem Link: https://leetcode.com/problems/vertical-order-traversal-of-a-binary-tree/submissions/1226266467\n",
    "def verticalTraversal(root: BinaryTreeNode) -> list[list[int]]:\n",
    "    \"\"\"\n",
    "    Time: O(N log N), Space: O(N)\n",
    "    \"\"\"\n",
    "\n",
    "    # Time: O(N)\n",
    "    ordering: list[tuple[int, int, int]] = []\n",
    "    def backtrack(curr: BinaryTreeNode, i: int, j: int):\n",
    "        nonlocal ordering\n",
    "        if not curr:\n",
    "            return\n",
    "        else:\n",
    "            ordering.append((curr.val, i, j))\n",
    "            backtrack(curr.left, i + 1, j - 1)\n",
    "            backtrack(curr.right, i + 1, j + 1)\n",
    "\n",
    "    # Time: O(N log N)\n",
    "    backtrack(root, 0, 0)\n",
    "    ordering.sort(key=lambda x: (x[2], x[1], x[0]))\n",
    "\n",
    "    # Time: O(N)\n",
    "    result: list[list[int]] = []\n",
    "    prev = ordering[0][2] - 1\n",
    "    for k, i, j in ordering:\n",
    "        if j != prev:\n",
    "            result.append([])\n",
    "            prev = j\n",
    "        result[-1].append(k)\n",
    "\n",
    "    return result\n",
    "\n",
    "# Testing the solution\n",
    "assert verticalTraversal(BinaryTreeNode.from_array([3,9,20,None,None,15,7])) == [[9], [3, 15], [20], [7]]\n",
    "assert verticalTraversal(BinaryTreeNode.from_array([1, 2, 3, 4, 5, 6, 7])) == [[4], [2], [1,5,6], [3], [7]]\n",
    "assert verticalTraversal(BinaryTreeNode.from_array([1, 2, 3, 4, 6, 5, 7])) == [[4], [2], [1, 5, 6], [3], [7]]"
   ]
  },
  {
   "cell_type": "markdown",
   "id": "5a99a217",
   "metadata": {},
   "source": [
    "Video Link: https://youtu.be/Et9OCDNvJ78?si=JB9v3iN8uhAELNkl\n",
    "Top view of a Binary Tree"
   ]
  },
  {
   "cell_type": "code",
   "execution_count": null,
   "id": "fbf1035d",
   "metadata": {},
   "outputs": [],
   "source": [
    "def topViewBinaryTree(root: BinaryTreeNode) -> list[int]:\n",
    "    topView: dict[int, int] = dict()\n",
    "\n",
    "    # Level Order Traversal\n",
    "    stack: list[tuple[BinaryTreeNode, int]] = [(root, 0)]\n",
    "    while stack:\n",
    "        next_: list[tuple[BinaryTreeNode, int]] = []\n",
    "        for curr, j in stack:\n",
    "            if curr:\n",
    "                if j not in topView:\n",
    "                    topView[j] = curr.val\n",
    "                next_.append((curr.left, j - 1))\n",
    "                next_.append((curr.right, j + 1))\n",
    "\n",
    "        stack = next_\n",
    "\n",
    "    result: list[int] = []\n",
    "    for k, v in sorted(topView.items(), key=lambda x: x[0]):\n",
    "        result.append(v)\n",
    "\n",
    "    return result\n",
    "\n",
    "# Testing the result\n",
    "assert topViewBinaryTree(BinaryTreeNode.from_array([1, 2, 3, 4, 5, None, 6, None, 7, None, None, 8, None, 9, None, None, 11, 10, None, None, None, None, None])) == [10, 4,  2, 1, 3, 6]"
   ]
  }
 ],
 "metadata": {
  "kernelspec": {
   "display_name": "Python 3 (ipykernel)",
   "language": "python",
   "name": "python3"
  },
  "language_info": {
   "codemirror_mode": {
    "name": "ipython",
    "version": 3
   },
   "file_extension": ".py",
   "mimetype": "text/x-python",
   "name": "python",
   "nbconvert_exporter": "python",
   "pygments_lexer": "ipython3",
   "version": "3.10.14"
  },
  "papermill": {
   "default_parameters": {},
   "duration": 2.040428,
   "end_time": "2024-04-07T14:55:23.811300",
   "environment_variables": {},
   "exception": null,
   "input_path": "study/striver-A2Z/10-trees.ipynb",
   "output_path": "study/striver-A2Z/10-trees.ipynb",
   "parameters": {},
   "start_time": "2024-04-07T14:55:21.770872",
   "version": "2.5.0"
  }
 },
 "nbformat": 4,
 "nbformat_minor": 5
}
