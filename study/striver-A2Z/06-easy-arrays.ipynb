{
 "cells": [
  {
   "cell_type": "code",
   "execution_count": null,
   "id": "27a4537d",
   "metadata": {},
   "outputs": [],
   "source": [
    "import math"
   ]
  },
  {
   "cell_type": "markdown",
   "id": "29de74db",
   "metadata": {},
   "source": [
    "Video link: https://www.youtube.com/watch?v=37E9ckMDdTk&list=PLgUwDviBIf0oF6QL8m22w1hIDC1vJ_BHz&index=17"
   ]
  },
  {
   "cell_type": "code",
   "execution_count": null,
   "id": "8c59ddec",
   "metadata": {},
   "outputs": [],
   "source": [
    "# Largest element of an array\n",
    "arr: list[int] = [1, 2, 3, 1, 2, 3, 4, 0, 3]\n",
    "max_ = 0\n",
    "for i in arr:\n",
    "    if i > max_:\n",
    "        max_ = i\n",
    "max_"
   ]
  },
  {
   "cell_type": "code",
   "execution_count": null,
   "id": "c2ef97bb",
   "metadata": {},
   "outputs": [],
   "source": [
    "# Second largest element of an array - 2 passes\n",
    "arr: list[int] = [1, 2, 3, 1, 2, 4, 4, 0, 3]\n",
    "N = len(arr)\n",
    "\n",
    "# Find the max index, this way if the Q requires that 2nd \n",
    "# largest be a diff number or simply a diff index\n",
    "# we can accomodate both\n",
    "max_, second_max_ = 0, 0\n",
    "for i in range(N):\n",
    "    if arr[i] > arr[max_]:\n",
    "        max_ = i\n",
    "\n",
    "# Variable to ensure that we return -1 if there is no 2nd largest\n",
    "found = False\n",
    "for i in range(N):\n",
    "    if arr[i] > arr[second_max_] and arr[i] != arr[max_]:\n",
    "        second_max_ = i\n",
    "        found = True\n",
    "\n",
    "arr[second_max_] if found else -1"
   ]
  },
  {
   "cell_type": "code",
   "execution_count": null,
   "id": "64ecf17d",
   "metadata": {},
   "outputs": [],
   "source": [
    "# Second largest  and secod largest of an array - 1 pass\n",
    "arr: list[int] = [1, 2, 3, 1, 2, 4, 4, 2, 3]\n",
    "N = len(arr)\n",
    "max_, second_max_ = arr[0], -math.inf\n",
    "min_, second_min_ = arr[0], math.inf\n",
    "for i in arr:\n",
    "    if i >= max_:\n",
    "        max_ = i\n",
    "    elif i > second_max_:\n",
    "        second_max_ = i\n",
    "\n",
    "    if i <= min_:\n",
    "        min_ = i\n",
    "    elif i < second_min_:\n",
    "        second_min_ = i\n",
    "\n",
    "second_max_, second_min_"
   ]
  },
  {
   "cell_type": "code",
   "execution_count": null,
   "id": "710a5862",
   "metadata": {},
   "outputs": [],
   "source": [
    "# Check if the array is sorted\n",
    "arr: list[int] = [1, 2, 3, 1, 2, 4, 4, 2, 3]\n",
    "arr.sort()\n",
    "for i in range(len(arr) - 1):\n",
    "    if arr[i] > arr[i + 1]:\n",
    "        print(\"False\")\n",
    "        break\n",
    "else:\n",
    "    print(\"True\")"
   ]
  },
  {
   "cell_type": "code",
   "execution_count": null,
   "id": "41548461",
   "metadata": {
    "lines_to_next_cell": 1
   },
   "outputs": [],
   "source": [
    "# Remove duplicates in place from a sorted array\n",
    "arr: list[int | None] = [1, 1, 2, 2, 2, 3, 3, 4]\n",
    "\n",
    "N = len(arr)\n",
    "i, j = 0, 1\n",
    "\n",
    "while j < N:\n",
    "    if arr[i] != arr[j]:\n",
    "        arr[i + 1] = arr[j]\n",
    "        i += 1\n",
    "    j += 1\n",
    "i += 1\n",
    "\n",
    "while i < N:\n",
    "    arr[i] = None\n",
    "    i += 1\n",
    "\n",
    "print(arr)"
   ]
  },
  {
   "cell_type": "code",
   "execution_count": null,
   "id": "4db22eb4",
   "metadata": {},
   "outputs": [],
   "source": [
    "# Left rotate array by one place\n",
    "def left_rotate_inplace(arr_: list[int]):\n",
    "    j, N = arr_[0], len(arr_)\n",
    "    for i in range(0, N - 1):\n",
    "        arr_[i] = arr_[i + 1]\n",
    "    arr_[-1] = j\n",
    "\n",
    "arr: list[int] = [1, 2, 3, 4, 5]\n",
    "left_rotate_inplace(arr)\n",
    "print(arr)"
   ]
  },
  {
   "cell_type": "code",
   "execution_count": null,
   "id": "2517ddfb",
   "metadata": {
    "lines_to_next_cell": 1
   },
   "outputs": [],
   "source": [
    "# Left rotate array by K places (in place)\n",
    "# Time - O(KN), Space - O(1)\n",
    "arr: list[int] = [1, 2, 3, 4, 5]\n",
    "k = 4\n",
    "\n",
    "N = len(arr)\n",
    "k = k % N\n",
    "for i in range(k):\n",
    "    left_rotate_inplace(arr)\n",
    "\n",
    "print(arr)"
   ]
  },
  {
   "cell_type": "code",
   "execution_count": null,
   "id": "9e70b54b",
   "metadata": {
    "lines_to_next_cell": 1
   },
   "outputs": [],
   "source": [
    "# Left rotate array by K places \n",
    "# Time - O(N), Space - O(N)\n",
    "def left_rotate_(arr_: list[int], k: int):\n",
    "    N = len(arr)\n",
    "    k = k % N\n",
    "\n",
    "    result: list[int] = []\n",
    "    for i in range(k, N):\n",
    "        result.append(arr[i])\n",
    "    for i in range(k):\n",
    "        result.append(arr[i])\n",
    "\n",
    "    return result\n",
    "\n",
    "left_rotate_([1, 2, 3, 4, 5], 4)"
   ]
  },
  {
   "cell_type": "code",
   "execution_count": null,
   "id": "9c704e76",
   "metadata": {
    "lines_to_next_cell": 1
   },
   "outputs": [],
   "source": [
    "# Left rotate array in O(N) with O(1) space\n",
    "def left_rotate(arr_: list[int], k: int):\n",
    "    def reverse(start: int, end: int):\n",
    "        while start < end:\n",
    "            arr_[start], arr_[end] = arr_[end], arr_[start]\n",
    "            start, end = start + 1, end - 1\n",
    "\n",
    "    N = len(arr_)\n",
    "    k = k % N\n",
    "\n",
    "    reverse(0, k - 1)\n",
    "    reverse(k, N - 1)\n",
    "    reverse(0, N - 1)\n",
    "\n",
    "arr: list[int] = [1, 2, 3, 4, 5]\n",
    "left_rotate(arr, 2)\n",
    "print(arr)"
   ]
  },
  {
   "cell_type": "code",
   "execution_count": null,
   "id": "10d38f9b",
   "metadata": {},
   "outputs": [],
   "source": [
    "# Right rotate array in O(N) with O(1) space\n",
    "def right_rotate(arr_: list[int], k: int):\n",
    "    def reverse(start: int, end: int):\n",
    "        while start < end:\n",
    "            arr_[start], arr_[end] = arr_[end], arr_[start]\n",
    "            start, end = start + 1, end - 1\n",
    "\n",
    "    N = len(arr_)\n",
    "    k = k % N\n",
    "\n",
    "    reverse(0, N - 1)\n",
    "    reverse(0, k - 1)\n",
    "    reverse(k, N - 1)\n",
    "\n",
    "arr: list[int] = [1, 2, 3, 4, 5]\n",
    "right_rotate(arr, 3)\n",
    "print(arr)"
   ]
  },
  {
   "cell_type": "code",
   "execution_count": null,
   "id": "398a6e6d",
   "metadata": {},
   "outputs": [],
   "source": [
    "# Move zeros to end of the array\n",
    "arr: list[int] = [0, 0, 1, 0, 8, 3, 0, 2, 5, 3, 0]\n",
    "N = len(arr)\n",
    "i, j = 0, 1\n",
    "while j < N:\n",
    "    if arr[i] != 0:\n",
    "        i += 1\n",
    "    elif arr[i] == 0 and arr[j] != 0:\n",
    "        arr[i], arr[j] = arr[j], arr[i]\n",
    "        i += 1\n",
    "    j += 1\n",
    "\n",
    "print (arr)"
   ]
  },
  {
   "cell_type": "code",
   "execution_count": null,
   "id": "5955b7ea",
   "metadata": {},
   "outputs": [],
   "source": [
    "# Linear search\n",
    "arr: list[int] = [1, 2, 1, 3, 5, 4, 3]\n",
    "j = 9\n",
    "for i in range(len(arr)):\n",
    "    if arr[i] == j:\n",
    "        break\n",
    "i if arr[i] == j else -1"
   ]
  },
  {
   "cell_type": "code",
   "execution_count": null,
   "id": "7c8a52b8",
   "metadata": {},
   "outputs": [],
   "source": [
    "# Union of two sorted arrays - same order without repetitions\n",
    "# Time complexity - O(N1 + N2)\n",
    "arr1: list[int] = [1, 1, 2, 3, 4, 5]\n",
    "arr2: list[int] = [2, 3, 4, 4, 5, 6]\n",
    "\n",
    "N1, N2 = len(arr1), len(arr2)\n",
    "arr: list[int] = []\n",
    "\n",
    "i, j = 0, 0\n",
    "while i < N1 or j < N2:\n",
    "    if j >= N2 or (i < N1 and arr1[i] < arr2[j]):\n",
    "        if not arr or arr[-1] < arr1[i]:\n",
    "            arr.append(arr1[i])\n",
    "        i += 1\n",
    "    else:\n",
    "        if not arr or arr[-1] < arr2[j]:\n",
    "            arr.append(arr2[j])\n",
    "        j += 1\n",
    "\n",
    "print(arr)"
   ]
  },
  {
   "cell_type": "code",
   "execution_count": null,
   "id": "25ae4174",
   "metadata": {},
   "outputs": [],
   "source": [
    "# Intersection of two sorted arrays\n",
    "# Time complexity - O(min(N1, N2))\n",
    "arr1: list[int] = [1, 1, 2, 3, 4, 5]\n",
    "arr2: list[int] = [2, 3, 4, 4, 5, 6]\n",
    "\n",
    "N1, N2 = len(arr1), len(arr2)\n",
    "arr: list[int] = []\n",
    "\n",
    "i = j = 0\n",
    "while i < N1 and j < N2:\n",
    "    if arr1[i] == arr2[j]:\n",
    "        arr.append(arr1[i])\n",
    "        i += 1\n",
    "        j += 1\n",
    "    elif arr1[i] < arr2[j]:\n",
    "        i += 1\n",
    "    else:\n",
    "        j += 1\n",
    "\n",
    "assert arr == [2, 3, 4, 5]"
   ]
  }
 ],
 "metadata": {
  "kernelspec": {
   "display_name": "Python 3 (ipykernel)",
   "language": "python",
   "name": "python3"
  }
 },
 "nbformat": 4,
 "nbformat_minor": 2
}
