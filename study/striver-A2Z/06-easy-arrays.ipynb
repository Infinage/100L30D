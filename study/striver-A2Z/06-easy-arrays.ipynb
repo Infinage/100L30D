{
 "cells": [
  {
   "cell_type": "code",
   "execution_count": 1,
   "id": "53cdaecf",
   "metadata": {
    "execution": {
     "iopub.execute_input": "2024-03-04T02:34:59.334305Z",
     "iopub.status.busy": "2024-03-04T02:34:59.333029Z",
     "iopub.status.idle": "2024-03-04T02:34:59.353351Z",
     "shell.execute_reply": "2024-03-04T02:34:59.351233Z"
    },
    "papermill": {
     "duration": 0.040618,
     "end_time": "2024-03-04T02:34:59.357886",
     "exception": false,
     "start_time": "2024-03-04T02:34:59.317268",
     "status": "completed"
    },
    "tags": []
   },
   "outputs": [],
   "source": [
    "import math\n",
    "import functools\n",
    "import itertools"
   ]
  },
  {
   "cell_type": "markdown",
   "id": "cb8f677c",
   "metadata": {
    "papermill": {
     "duration": 0.011231,
     "end_time": "2024-03-04T02:34:59.377880",
     "exception": false,
     "start_time": "2024-03-04T02:34:59.366649",
     "status": "completed"
    },
    "tags": []
   },
   "source": [
    "Video link: https://www.youtube.com/watch?v=37E9ckMDdTk&list=PLgUwDviBIf0oF6QL8m22w1hIDC1vJ_BHz&index=17"
   ]
  },
  {
   "cell_type": "code",
   "execution_count": 2,
   "id": "adc79cbd",
   "metadata": {
    "execution": {
     "iopub.execute_input": "2024-03-04T02:34:59.398754Z",
     "iopub.status.busy": "2024-03-04T02:34:59.397664Z",
     "iopub.status.idle": "2024-03-04T02:34:59.415406Z",
     "shell.execute_reply": "2024-03-04T02:34:59.413086Z"
    },
    "papermill": {
     "duration": 0.031426,
     "end_time": "2024-03-04T02:34:59.418983",
     "exception": false,
     "start_time": "2024-03-04T02:34:59.387557",
     "status": "completed"
    },
    "tags": []
   },
   "outputs": [
    {
     "data": {
      "text/plain": [
       "4"
      ]
     },
     "execution_count": 2,
     "metadata": {},
     "output_type": "execute_result"
    }
   ],
   "source": [
    "# Largest element of an array\n",
    "arr: list[int] = [1, 2, 3, 1, 2, 3, 4, 0, 3]\n",
    "max_ = 0\n",
    "for i in arr:\n",
    "    if i > max_:\n",
    "        max_ = i\n",
    "max_"
   ]
  },
  {
   "cell_type": "code",
   "execution_count": 3,
   "id": "40ba7146",
   "metadata": {
    "execution": {
     "iopub.execute_input": "2024-03-04T02:34:59.438247Z",
     "iopub.status.busy": "2024-03-04T02:34:59.436894Z",
     "iopub.status.idle": "2024-03-04T02:34:59.454884Z",
     "shell.execute_reply": "2024-03-04T02:34:59.451818Z"
    },
    "papermill": {
     "duration": 0.033267,
     "end_time": "2024-03-04T02:34:59.459967",
     "exception": false,
     "start_time": "2024-03-04T02:34:59.426700",
     "status": "completed"
    },
    "tags": []
   },
   "outputs": [
    {
     "data": {
      "text/plain": [
       "3"
      ]
     },
     "execution_count": 3,
     "metadata": {},
     "output_type": "execute_result"
    }
   ],
   "source": [
    "# Second largest element of an array - 2 passes\n",
    "arr: list[int] = [1, 2, 3, 1, 2, 4, 4, 0, 3]\n",
    "N = len(arr)\n",
    "\n",
    "# Find the max index, this way if the Q requires that 2nd \n",
    "# largest be a diff number or simply a diff index\n",
    "# we can accomodate both\n",
    "max_, second_max_ = 0, 0\n",
    "for i in range(N):\n",
    "    if arr[i] > arr[max_]:\n",
    "        max_ = i\n",
    "\n",
    "# Variable to ensure that we return -1 if there is no 2nd largest\n",
    "found = False\n",
    "for i in range(N):\n",
    "    if arr[i] > arr[second_max_] and arr[i] != arr[max_]:\n",
    "        second_max_ = i\n",
    "        found = True\n",
    "\n",
    "arr[second_max_] if found else -1"
   ]
  },
  {
   "cell_type": "code",
   "execution_count": 4,
   "id": "dc0c38ed",
   "metadata": {
    "execution": {
     "iopub.execute_input": "2024-03-04T02:34:59.482912Z",
     "iopub.status.busy": "2024-03-04T02:34:59.481677Z",
     "iopub.status.idle": "2024-03-04T02:34:59.500222Z",
     "shell.execute_reply": "2024-03-04T02:34:59.497403Z"
    },
    "papermill": {
     "duration": 0.035523,
     "end_time": "2024-03-04T02:34:59.504397",
     "exception": false,
     "start_time": "2024-03-04T02:34:59.468874",
     "status": "completed"
    },
    "tags": []
   },
   "outputs": [
    {
     "data": {
      "text/plain": [
       "(3, 2)"
      ]
     },
     "execution_count": 4,
     "metadata": {},
     "output_type": "execute_result"
    }
   ],
   "source": [
    "# Second largest  and secod largest of an array - 1 pass\n",
    "arr: list[int] = [1, 2, 3, 1, 2, 4, 4, 2, 3]\n",
    "N = len(arr)\n",
    "max_, second_max_ = arr[0], -math.inf\n",
    "min_, second_min_ = arr[0], math.inf\n",
    "for i in arr:\n",
    "    if i >= max_:\n",
    "        max_ = i\n",
    "    elif i > second_max_:\n",
    "        second_max_ = i\n",
    "\n",
    "    if i <= min_:\n",
    "        min_ = i\n",
    "    elif i < second_min_:\n",
    "        second_min_ = i\n",
    "\n",
    "second_max_, second_min_"
   ]
  },
  {
   "cell_type": "code",
   "execution_count": 5,
   "id": "436544e5",
   "metadata": {
    "execution": {
     "iopub.execute_input": "2024-03-04T02:34:59.525985Z",
     "iopub.status.busy": "2024-03-04T02:34:59.524595Z",
     "iopub.status.idle": "2024-03-04T02:34:59.538714Z",
     "shell.execute_reply": "2024-03-04T02:34:59.536174Z"
    },
    "papermill": {
     "duration": 0.029228,
     "end_time": "2024-03-04T02:34:59.542584",
     "exception": false,
     "start_time": "2024-03-04T02:34:59.513356",
     "status": "completed"
    },
    "tags": []
   },
   "outputs": [
    {
     "name": "stdout",
     "output_type": "stream",
     "text": [
      "True\n"
     ]
    }
   ],
   "source": [
    "# Check if the array is sorted\n",
    "arr: list[int] = [1, 2, 3, 1, 2, 4, 4, 2, 3]\n",
    "arr.sort()\n",
    "for i in range(len(arr) - 1):\n",
    "    if arr[i] > arr[i + 1]:\n",
    "        print(\"False\")\n",
    "        break\n",
    "else:\n",
    "    print(\"True\")"
   ]
  },
  {
   "cell_type": "code",
   "execution_count": 6,
   "id": "104a4801",
   "metadata": {
    "execution": {
     "iopub.execute_input": "2024-03-04T02:34:59.564458Z",
     "iopub.status.busy": "2024-03-04T02:34:59.563244Z",
     "iopub.status.idle": "2024-03-04T02:34:59.579030Z",
     "shell.execute_reply": "2024-03-04T02:34:59.576429Z"
    },
    "lines_to_next_cell": 1,
    "papermill": {
     "duration": 0.031818,
     "end_time": "2024-03-04T02:34:59.583143",
     "exception": false,
     "start_time": "2024-03-04T02:34:59.551325",
     "status": "completed"
    },
    "tags": []
   },
   "outputs": [
    {
     "name": "stdout",
     "output_type": "stream",
     "text": [
      "[1, 2, 3, 4, None, None, None, None]\n"
     ]
    }
   ],
   "source": [
    "# Remove duplicates in place from a sorted array\n",
    "arr: list[int | None] = [1, 1, 2, 2, 2, 3, 3, 4]\n",
    "\n",
    "N = len(arr)\n",
    "i, j = 0, 1\n",
    "\n",
    "while j < N:\n",
    "    if arr[i] != arr[j]:\n",
    "        arr[i + 1] = arr[j]\n",
    "        i += 1\n",
    "    j += 1\n",
    "i += 1\n",
    "\n",
    "while i < N:\n",
    "    arr[i] = None\n",
    "    i += 1\n",
    "\n",
    "print(arr)"
   ]
  },
  {
   "cell_type": "code",
   "execution_count": 7,
   "id": "6d1febea",
   "metadata": {
    "execution": {
     "iopub.execute_input": "2024-03-04T02:34:59.609562Z",
     "iopub.status.busy": "2024-03-04T02:34:59.608349Z",
     "iopub.status.idle": "2024-03-04T02:34:59.622895Z",
     "shell.execute_reply": "2024-03-04T02:34:59.619914Z"
    },
    "papermill": {
     "duration": 0.034366,
     "end_time": "2024-03-04T02:34:59.627083",
     "exception": false,
     "start_time": "2024-03-04T02:34:59.592717",
     "status": "completed"
    },
    "tags": []
   },
   "outputs": [
    {
     "name": "stdout",
     "output_type": "stream",
     "text": [
      "[2, 3, 4, 5, 1]\n"
     ]
    }
   ],
   "source": [
    "# Left rotate array by one place\n",
    "def left_rotate_inplace(arr_: list[int]):\n",
    "    j, N = arr_[0], len(arr_)\n",
    "    for i in range(0, N - 1):\n",
    "        arr_[i] = arr_[i + 1]\n",
    "    arr_[-1] = j\n",
    "\n",
    "arr: list[int] = [1, 2, 3, 4, 5]\n",
    "left_rotate_inplace(arr)\n",
    "print(arr)"
   ]
  },
  {
   "cell_type": "code",
   "execution_count": 8,
   "id": "dbc08a71",
   "metadata": {
    "execution": {
     "iopub.execute_input": "2024-03-04T02:34:59.649334Z",
     "iopub.status.busy": "2024-03-04T02:34:59.648041Z",
     "iopub.status.idle": "2024-03-04T02:34:59.661839Z",
     "shell.execute_reply": "2024-03-04T02:34:59.659520Z"
    },
    "lines_to_next_cell": 1,
    "papermill": {
     "duration": 0.029284,
     "end_time": "2024-03-04T02:34:59.665867",
     "exception": false,
     "start_time": "2024-03-04T02:34:59.636583",
     "status": "completed"
    },
    "tags": []
   },
   "outputs": [
    {
     "name": "stdout",
     "output_type": "stream",
     "text": [
      "[5, 1, 2, 3, 4]\n"
     ]
    }
   ],
   "source": [
    "# Left rotate array by K places (in place)\n",
    "# Time - O(KN), Space - O(1)\n",
    "arr: list[int] = [1, 2, 3, 4, 5]\n",
    "k = 4\n",
    "\n",
    "N = len(arr)\n",
    "k = k % N\n",
    "for i in range(k):\n",
    "    left_rotate_inplace(arr)\n",
    "\n",
    "print(arr)"
   ]
  },
  {
   "cell_type": "code",
   "execution_count": 9,
   "id": "d12886b4",
   "metadata": {
    "execution": {
     "iopub.execute_input": "2024-03-04T02:34:59.752682Z",
     "iopub.status.busy": "2024-03-04T02:34:59.751464Z",
     "iopub.status.idle": "2024-03-04T02:34:59.770011Z",
     "shell.execute_reply": "2024-03-04T02:34:59.767654Z"
    },
    "lines_to_next_cell": 1,
    "papermill": {
     "duration": 0.098476,
     "end_time": "2024-03-04T02:34:59.774121",
     "exception": false,
     "start_time": "2024-03-04T02:34:59.675645",
     "status": "completed"
    },
    "tags": []
   },
   "outputs": [
    {
     "data": {
      "text/plain": [
       "[4, 5, 1, 2, 3]"
      ]
     },
     "execution_count": 9,
     "metadata": {},
     "output_type": "execute_result"
    }
   ],
   "source": [
    "# Left rotate array by K places \n",
    "# Time - O(N), Space - O(N)\n",
    "def left_rotate_(arr_: list[int], k: int):\n",
    "    N = len(arr)\n",
    "    k = k % N\n",
    "\n",
    "    result: list[int] = []\n",
    "    for i in range(k, N):\n",
    "        result.append(arr[i])\n",
    "    for i in range(k):\n",
    "        result.append(arr[i])\n",
    "\n",
    "    return result\n",
    "\n",
    "left_rotate_([1, 2, 3, 4, 5], 4)"
   ]
  },
  {
   "cell_type": "code",
   "execution_count": 10,
   "id": "72166199",
   "metadata": {
    "execution": {
     "iopub.execute_input": "2024-03-04T02:34:59.800905Z",
     "iopub.status.busy": "2024-03-04T02:34:59.799703Z",
     "iopub.status.idle": "2024-03-04T02:34:59.817038Z",
     "shell.execute_reply": "2024-03-04T02:34:59.814788Z"
    },
    "lines_to_next_cell": 1,
    "papermill": {
     "duration": 0.036846,
     "end_time": "2024-03-04T02:34:59.821047",
     "exception": false,
     "start_time": "2024-03-04T02:34:59.784201",
     "status": "completed"
    },
    "tags": []
   },
   "outputs": [
    {
     "name": "stdout",
     "output_type": "stream",
     "text": [
      "[3, 4, 5, 1, 2]\n"
     ]
    }
   ],
   "source": [
    "# Left rotate array in O(N) with O(1) space\n",
    "def left_rotate(arr_: list[int], k: int):\n",
    "    def reverse(start: int, end: int):\n",
    "        while start < end:\n",
    "            arr_[start], arr_[end] = arr_[end], arr_[start]\n",
    "            start, end = start + 1, end - 1\n",
    "\n",
    "    N = len(arr_)\n",
    "    k = k % N\n",
    "\n",
    "    reverse(0, k - 1)\n",
    "    reverse(k, N - 1)\n",
    "    reverse(0, N - 1)\n",
    "\n",
    "arr: list[int] = [1, 2, 3, 4, 5]\n",
    "left_rotate(arr, 2)\n",
    "print(arr)"
   ]
  },
  {
   "cell_type": "code",
   "execution_count": 11,
   "id": "fe8102bb",
   "metadata": {
    "execution": {
     "iopub.execute_input": "2024-03-04T02:34:59.844048Z",
     "iopub.status.busy": "2024-03-04T02:34:59.842839Z",
     "iopub.status.idle": "2024-03-04T02:34:59.858559Z",
     "shell.execute_reply": "2024-03-04T02:34:59.855647Z"
    },
    "papermill": {
     "duration": 0.031755,
     "end_time": "2024-03-04T02:34:59.862245",
     "exception": false,
     "start_time": "2024-03-04T02:34:59.830490",
     "status": "completed"
    },
    "tags": []
   },
   "outputs": [
    {
     "name": "stdout",
     "output_type": "stream",
     "text": [
      "[3, 4, 5, 1, 2]\n"
     ]
    }
   ],
   "source": [
    "# Right rotate array in O(N) with O(1) space\n",
    "def right_rotate(arr_: list[int], k: int):\n",
    "    def reverse(start: int, end: int):\n",
    "        while start < end:\n",
    "            arr_[start], arr_[end] = arr_[end], arr_[start]\n",
    "            start, end = start + 1, end - 1\n",
    "\n",
    "    N = len(arr_)\n",
    "    k = k % N\n",
    "\n",
    "    reverse(0, N - 1)\n",
    "    reverse(0, k - 1)\n",
    "    reverse(k, N - 1)\n",
    "\n",
    "arr: list[int] = [1, 2, 3, 4, 5]\n",
    "right_rotate(arr, 3)\n",
    "print(arr)"
   ]
  },
  {
   "cell_type": "code",
   "execution_count": 12,
   "id": "f1d2c590",
   "metadata": {
    "execution": {
     "iopub.execute_input": "2024-03-04T02:34:59.885480Z",
     "iopub.status.busy": "2024-03-04T02:34:59.884290Z",
     "iopub.status.idle": "2024-03-04T02:34:59.899581Z",
     "shell.execute_reply": "2024-03-04T02:34:59.897165Z"
    },
    "papermill": {
     "duration": 0.031192,
     "end_time": "2024-03-04T02:34:59.903926",
     "exception": false,
     "start_time": "2024-03-04T02:34:59.872734",
     "status": "completed"
    },
    "tags": []
   },
   "outputs": [
    {
     "name": "stdout",
     "output_type": "stream",
     "text": [
      "[1, 8, 3, 2, 5, 3, 0, 0, 0, 0, 0]\n"
     ]
    }
   ],
   "source": [
    "# Move zeros to end of the array\n",
    "arr: list[int] = [0, 0, 1, 0, 8, 3, 0, 2, 5, 3, 0]\n",
    "N = len(arr)\n",
    "i, j = 0, 1\n",
    "while j < N:\n",
    "    if arr[i] != 0:\n",
    "        i += 1\n",
    "    elif arr[i] == 0 and arr[j] != 0:\n",
    "        arr[i], arr[j] = arr[j], arr[i]\n",
    "        i += 1\n",
    "    j += 1\n",
    "\n",
    "print (arr)"
   ]
  },
  {
   "cell_type": "code",
   "execution_count": 13,
   "id": "9f438462",
   "metadata": {
    "execution": {
     "iopub.execute_input": "2024-03-04T02:34:59.930177Z",
     "iopub.status.busy": "2024-03-04T02:34:59.929575Z",
     "iopub.status.idle": "2024-03-04T02:34:59.946889Z",
     "shell.execute_reply": "2024-03-04T02:34:59.944180Z"
    },
    "papermill": {
     "duration": 0.037555,
     "end_time": "2024-03-04T02:34:59.951260",
     "exception": false,
     "start_time": "2024-03-04T02:34:59.913705",
     "status": "completed"
    },
    "tags": []
   },
   "outputs": [
    {
     "data": {
      "text/plain": [
       "-1"
      ]
     },
     "execution_count": 13,
     "metadata": {},
     "output_type": "execute_result"
    }
   ],
   "source": [
    "# Linear search\n",
    "arr: list[int] = [1, 2, 1, 3, 5, 4, 3]\n",
    "j = 9\n",
    "for i in range(len(arr)):\n",
    "    if arr[i] == j:\n",
    "        break\n",
    "i if arr[i] == j else -1"
   ]
  },
  {
   "cell_type": "code",
   "execution_count": 14,
   "id": "952ed4de",
   "metadata": {
    "execution": {
     "iopub.execute_input": "2024-03-04T02:35:00.008079Z",
     "iopub.status.busy": "2024-03-04T02:35:00.006565Z",
     "iopub.status.idle": "2024-03-04T02:35:00.034138Z",
     "shell.execute_reply": "2024-03-04T02:35:00.031448Z"
    },
    "papermill": {
     "duration": 0.087025,
     "end_time": "2024-03-04T02:35:00.048139",
     "exception": false,
     "start_time": "2024-03-04T02:34:59.961114",
     "status": "completed"
    },
    "tags": []
   },
   "outputs": [
    {
     "name": "stdout",
     "output_type": "stream",
     "text": [
      "[1, 2, 3, 4, 5, 6]\n"
     ]
    }
   ],
   "source": [
    "# Union of two sorted arrays - same order without repetitions\n",
    "# Time complexity - O(N1 + N2)\n",
    "arr1: list[int] = [1, 1, 2, 3, 4, 5]\n",
    "arr2: list[int] = [2, 3, 4, 4, 5, 6]\n",
    "\n",
    "N1, N2 = len(arr1), len(arr2)\n",
    "arr: list[int] = []\n",
    "\n",
    "i, j = 0, 0\n",
    "while i < N1 or j < N2:\n",
    "    if j >= N2 or (i < N1 and arr1[i] < arr2[j]):\n",
    "        if not arr or arr[-1] < arr1[i]:\n",
    "            arr.append(arr1[i])\n",
    "        i += 1\n",
    "    else:\n",
    "        if not arr or arr[-1] < arr2[j]:\n",
    "            arr.append(arr2[j])\n",
    "        j += 1\n",
    "\n",
    "print(arr)"
   ]
  },
  {
   "cell_type": "code",
   "execution_count": 15,
   "id": "e6368fd9",
   "metadata": {
    "execution": {
     "iopub.execute_input": "2024-03-04T02:35:00.094883Z",
     "iopub.status.busy": "2024-03-04T02:35:00.094314Z",
     "iopub.status.idle": "2024-03-04T02:35:00.108550Z",
     "shell.execute_reply": "2024-03-04T02:35:00.105719Z"
    },
    "papermill": {
     "duration": 0.036911,
     "end_time": "2024-03-04T02:35:00.113031",
     "exception": false,
     "start_time": "2024-03-04T02:35:00.076120",
     "status": "completed"
    },
    "tags": []
   },
   "outputs": [],
   "source": [
    "# Intersection of two sorted arrays\n",
    "# Time complexity - O(min(N1, N2))\n",
    "arr1: list[int] = [1, 1, 2, 3, 4, 5]\n",
    "arr2: list[int] = [2, 3, 4, 4, 5, 6]\n",
    "\n",
    "N1, N2 = len(arr1), len(arr2)\n",
    "arr: list[int] = []\n",
    "\n",
    "i = j = 0\n",
    "while i < N1 and j < N2:\n",
    "    if arr1[i] == arr2[j]:\n",
    "        arr.append(arr1[i])\n",
    "        i += 1\n",
    "        j += 1\n",
    "    elif arr1[i] < arr2[j]:\n",
    "        i += 1\n",
    "    else:\n",
    "        j += 1\n",
    "\n",
    "assert arr == [2, 3, 4, 5]"
   ]
  },
  {
   "cell_type": "markdown",
   "id": "1038c86e",
   "metadata": {
    "papermill": {
     "duration": 0.013385,
     "end_time": "2024-03-04T02:35:00.136663",
     "exception": false,
     "start_time": "2024-03-04T02:35:00.123278",
     "status": "completed"
    },
    "tags": []
   },
   "source": [
    "Video Link: https://www.youtube.com/watch?v=bYWLJb3vCWY&list=PLgUwDviBIf0oF6QL8m22w1hIDC1vJ_BHz&index=19"
   ]
  },
  {
   "cell_type": "code",
   "execution_count": 16,
   "id": "00a0dac6",
   "metadata": {
    "execution": {
     "iopub.execute_input": "2024-03-04T02:35:00.160734Z",
     "iopub.status.busy": "2024-03-04T02:35:00.159517Z",
     "iopub.status.idle": "2024-03-04T02:35:00.174703Z",
     "shell.execute_reply": "2024-03-04T02:35:00.171492Z"
    },
    "papermill": {
     "duration": 0.032209,
     "end_time": "2024-03-04T02:35:00.178952",
     "exception": false,
     "start_time": "2024-03-04T02:35:00.146743",
     "status": "completed"
    },
    "tags": []
   },
   "outputs": [
    {
     "name": "stdout",
     "output_type": "stream",
     "text": [
      "3.0\n",
      "3\n"
     ]
    }
   ],
   "source": [
    "# Find missing number\n",
    "arr: list[int] = [1, 2, 4, 5]\n",
    "N = 5\n",
    "\n",
    "# Approach 1\n",
    "print(((N * (N + 1)) / 2) - sum(arr))\n",
    "\n",
    "# Approach 2, this is better since with approach 1 we sum up all the \n",
    "# numbers which could potentially be larger compared to this approach \n",
    "# where the number would be of utmost size the max element of the array\n",
    "N1 = functools.reduce(lambda x, y: x ^ y, range(1, N + 1), 0)\n",
    "for i in arr:\n",
    "    N1 = N1 ^ i\n",
    "print(N1)"
   ]
  },
  {
   "cell_type": "code",
   "execution_count": 17,
   "id": "11c5af8a",
   "metadata": {
    "execution": {
     "iopub.execute_input": "2024-03-04T02:35:00.203987Z",
     "iopub.status.busy": "2024-03-04T02:35:00.202662Z",
     "iopub.status.idle": "2024-03-04T02:35:00.220888Z",
     "shell.execute_reply": "2024-03-04T02:35:00.218659Z"
    },
    "papermill": {
     "duration": 0.03646,
     "end_time": "2024-03-04T02:35:00.225797",
     "exception": false,
     "start_time": "2024-03-04T02:35:00.189337",
     "status": "completed"
    },
    "tags": []
   },
   "outputs": [
    {
     "data": {
      "text/plain": [
       "4"
      ]
     },
     "execution_count": 17,
     "metadata": {},
     "output_type": "execute_result"
    }
   ],
   "source": [
    "# Maximum consequitive ones\n",
    "arr: list[int] = [1, 1, 0, 0, 1, 1, 1, 0, 0, 0, 0, 1, 1, 1, 1]\n",
    "result: int = 0\n",
    "count = 0\n",
    "for i in arr + [0]:\n",
    "    if i == 1:\n",
    "        count += 1\n",
    "    else:\n",
    "        result = max(result, count)\n",
    "        count = 0\n",
    "result"
   ]
  },
  {
   "cell_type": "code",
   "execution_count": 18,
   "id": "ea545fc5",
   "metadata": {
    "execution": {
     "iopub.execute_input": "2024-03-04T02:35:00.253235Z",
     "iopub.status.busy": "2024-03-04T02:35:00.251820Z",
     "iopub.status.idle": "2024-03-04T02:35:00.270814Z",
     "shell.execute_reply": "2024-03-04T02:35:00.267437Z"
    },
    "lines_to_next_cell": 1,
    "papermill": {
     "duration": 0.038199,
     "end_time": "2024-03-04T02:35:00.274604",
     "exception": false,
     "start_time": "2024-03-04T02:35:00.236405",
     "status": "completed"
    },
    "tags": []
   },
   "outputs": [
    {
     "data": {
      "text/plain": [
       "2"
      ]
     },
     "execution_count": 18,
     "metadata": {},
     "output_type": "execute_result"
    }
   ],
   "source": [
    "# Find element that occurs once when every other element occurs twice\n",
    "arr: list[int] = [1, 1, 2, 3, 3, 4, 4]\n",
    "result: int = functools.reduce(lambda x, y: x ^ y, arr)\n",
    "result"
   ]
  },
  {
   "cell_type": "markdown",
   "id": "3c2b7f3b",
   "metadata": {
    "papermill": {
     "duration": 0.009923,
     "end_time": "2024-03-04T02:35:00.294709",
     "exception": false,
     "start_time": "2024-03-04T02:35:00.284786",
     "status": "completed"
    },
    "tags": []
   },
   "source": [
    "Video Link: https://www.youtube.com/watch?v=frf7qxiN2qU&list=PLgUwDviBIf0oF6QL8m22w1hIDC1vJ_BHz&index=20"
   ]
  },
  {
   "cell_type": "code",
   "execution_count": 19,
   "id": "4e9fa5a5",
   "metadata": {
    "execution": {
     "iopub.execute_input": "2024-03-04T02:35:00.319300Z",
     "iopub.status.busy": "2024-03-04T02:35:00.318237Z",
     "iopub.status.idle": "2024-03-04T02:35:00.333242Z",
     "shell.execute_reply": "2024-03-04T02:35:00.331232Z"
    },
    "lines_to_next_cell": 1,
    "papermill": {
     "duration": 0.031784,
     "end_time": "2024-03-04T02:35:00.336737",
     "exception": false,
     "start_time": "2024-03-04T02:35:00.304953",
     "status": "completed"
    },
    "tags": []
   },
   "outputs": [
    {
     "data": {
      "text/plain": [
       "4"
      ]
     },
     "execution_count": 19,
     "metadata": {},
     "output_type": "execute_result"
    }
   ],
   "source": [
    "# Longest subarray with sum K - brute force\n",
    "def lcs_brute(arr_: list[int], k: int) -> int:\n",
    "    \"Return max length subarray with sum = k, O(N^3)\"\n",
    "    N = len(arr_)\n",
    "    max_ = 0\n",
    "    for i in range(N):\n",
    "        for j in range(i, N):\n",
    "            sub_ = arr_[i: j + 1]\n",
    "            if sum(sub_) == k:\n",
    "                max_ = max(max_, j - i + 1)\n",
    "    return max_\n",
    "\n",
    "lcs_brute([1, 2, 3, 1, 1, 1, 1, 4, 2, 3], 4)"
   ]
  },
  {
   "cell_type": "code",
   "execution_count": 20,
   "id": "d34b31c4",
   "metadata": {
    "execution": {
     "iopub.execute_input": "2024-03-04T02:35:00.361644Z",
     "iopub.status.busy": "2024-03-04T02:35:00.360427Z",
     "iopub.status.idle": "2024-03-04T02:35:00.378565Z",
     "shell.execute_reply": "2024-03-04T02:35:00.376026Z"
    },
    "lines_to_next_cell": 1,
    "papermill": {
     "duration": 0.036721,
     "end_time": "2024-03-04T02:35:00.382586",
     "exception": false,
     "start_time": "2024-03-04T02:35:00.345865",
     "status": "completed"
    },
    "tags": []
   },
   "outputs": [
    {
     "data": {
      "text/plain": [
       "4"
      ]
     },
     "execution_count": 20,
     "metadata": {},
     "output_type": "execute_result"
    }
   ],
   "source": [
    "# Longest subarray with sum K - Brute optimized\n",
    "def lcs_brute_optimized(arr_: list[int], k: int) -> int:\n",
    "    \"Time - O(N ^ 2)\"\n",
    "    N = len(arr_)\n",
    "    max_ = 0\n",
    "    for i in range(N):\n",
    "        length = sum_ = 0\n",
    "        for j in range(i, N):\n",
    "            sum_ += arr_[j]\n",
    "            length += 1\n",
    "            if sum_ == k:\n",
    "                max_ = max(max_, length)\n",
    "\n",
    "    return max_\n",
    "\n",
    "lcs_brute_optimized([1, 2, 3, 1, 1, 1, 1, 4, 2, 3], 4)"
   ]
  },
  {
   "cell_type": "code",
   "execution_count": 21,
   "id": "9b1594f5",
   "metadata": {
    "execution": {
     "iopub.execute_input": "2024-03-04T02:35:00.407997Z",
     "iopub.status.busy": "2024-03-04T02:35:00.406657Z",
     "iopub.status.idle": "2024-03-04T02:35:00.425947Z",
     "shell.execute_reply": "2024-03-04T02:35:00.423403Z"
    },
    "lines_to_next_cell": 1,
    "papermill": {
     "duration": 0.037263,
     "end_time": "2024-03-04T02:35:00.430281",
     "exception": false,
     "start_time": "2024-03-04T02:35:00.393018",
     "status": "completed"
    },
    "tags": []
   },
   "outputs": [
    {
     "data": {
      "text/plain": [
       "3"
      ]
     },
     "execution_count": 21,
     "metadata": {},
     "output_type": "execute_result"
    }
   ],
   "source": [
    "# Longest subarray with sum K - Better\n",
    "# This is the OPTIMAL when there are +ve, -ve and 0s\n",
    "def lcs_better(arr_: list[int], k: int) -> int:\n",
    "    \"Time - O(N), Space - O(N)\"\n",
    "    N = len(arr_)\n",
    "    hashmap = dict()\n",
    "    max_ = sum_ = 0\n",
    "    for i in range(N):\n",
    "        sum_ += arr_[i]\n",
    "\n",
    "        # Since we want the longest sum, we do not update \n",
    "        # the hashmap when a more recent index is found\n",
    "        # Timestamp: 21.53\n",
    "        if sum_ not in hashmap:\n",
    "            hashmap[sum_] = i\n",
    "\n",
    "        if sum_ == k:\n",
    "            max_ = max(max_, i + 1)\n",
    "        if sum_ - k in hashmap:\n",
    "            max_ = max(max_, i - hashmap[sum_ - k])\n",
    "    return max_\n",
    "\n",
    "lcs_better([1, 2, 3, 1, 1, 1, 1, 4, 2, 3], 5)"
   ]
  },
  {
   "cell_type": "code",
   "execution_count": 22,
   "id": "7c4a918e",
   "metadata": {
    "execution": {
     "iopub.execute_input": "2024-03-04T02:35:00.455974Z",
     "iopub.status.busy": "2024-03-04T02:35:00.454762Z",
     "iopub.status.idle": "2024-03-04T02:35:00.474110Z",
     "shell.execute_reply": "2024-03-04T02:35:00.471708Z"
    },
    "papermill": {
     "duration": 0.037861,
     "end_time": "2024-03-04T02:35:00.478793",
     "exception": false,
     "start_time": "2024-03-04T02:35:00.440932",
     "status": "completed"
    },
    "tags": []
   },
   "outputs": [
    {
     "data": {
      "text/plain": [
       "3"
      ]
     },
     "execution_count": 22,
     "metadata": {},
     "output_type": "execute_result"
    }
   ],
   "source": [
    "# Longest subarray with sum K - Optimal\n",
    "# If arrays had only +ve and 0s we can do better\n",
    "def lcs_optimial_only_positives(arr_: list[int], k: int) -> int:\n",
    "    \"Two pointer approach, Time - O(N), Space - O(1)\"\n",
    "    N = len(arr_)\n",
    "    i, j = 0, -1\n",
    "    sum_ = max_ = 0\n",
    "    while j < N - 1:\n",
    "        if sum_ <= k or i == j:\n",
    "            j += 1\n",
    "            sum_ += arr_[j]\n",
    "        else:\n",
    "            sum_ -= arr_[i]\n",
    "            i += 1\n",
    "        if sum_ == k:\n",
    "            max_ = max(max_, j - i + 1)\n",
    "\n",
    "    return max_\n",
    "\n",
    "lcs_optimial_only_positives([1, 2, 3, 1, 1, 1, 1, 4, 2, 3], 5)"
   ]
  }
 ],
 "metadata": {
  "kernelspec": {
   "display_name": "Python 3 (ipykernel)",
   "language": "python",
   "name": "python3"
  },
  "language_info": {
   "codemirror_mode": {
    "name": "ipython",
    "version": 3
   },
   "file_extension": ".py",
   "mimetype": "text/x-python",
   "name": "python",
   "nbconvert_exporter": "python",
   "pygments_lexer": "ipython3",
   "version": "3.10.13"
  },
  "papermill": {
   "default_parameters": {},
   "duration": 5.50673,
   "end_time": "2024-03-04T02:35:00.923394",
   "environment_variables": {},
   "exception": null,
   "input_path": "06-easy-arrays.ipynb",
   "output_path": "06-easy-arrays.ipynb",
   "parameters": {},
   "start_time": "2024-03-04T02:34:55.416664",
   "version": "2.4.0"
  }
 },
 "nbformat": 4,
 "nbformat_minor": 5
}