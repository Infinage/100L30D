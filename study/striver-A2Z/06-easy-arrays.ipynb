{
 "cells": [
  {
   "cell_type": "code",
   "execution_count": 1,
   "id": "53cdaecf",
   "metadata": {
    "execution": {
     "iopub.execute_input": "2024-03-03T11:38:58.313770Z",
     "iopub.status.busy": "2024-03-03T11:38:58.313448Z",
     "iopub.status.idle": "2024-03-03T11:38:58.322415Z",
     "shell.execute_reply": "2024-03-03T11:38:58.321057Z"
    },
    "papermill": {
     "duration": 0.014667,
     "end_time": "2024-03-03T11:38:58.324107",
     "exception": false,
     "start_time": "2024-03-03T11:38:58.309440",
     "status": "completed"
    },
    "tags": []
   },
   "outputs": [],
   "source": [
    "import math\n",
    "import functools\n",
    "import itertools"
   ]
  },
  {
   "cell_type": "markdown",
   "id": "cb8f677c",
   "metadata": {
    "papermill": {
     "duration": 0.002046,
     "end_time": "2024-03-03T11:38:58.328426",
     "exception": false,
     "start_time": "2024-03-03T11:38:58.326380",
     "status": "completed"
    },
    "tags": []
   },
   "source": [
    "Video link: https://www.youtube.com/watch?v=37E9ckMDdTk&list=PLgUwDviBIf0oF6QL8m22w1hIDC1vJ_BHz&index=17"
   ]
  },
  {
   "cell_type": "code",
   "execution_count": 2,
   "id": "adc79cbd",
   "metadata": {
    "execution": {
     "iopub.execute_input": "2024-03-03T11:38:58.333744Z",
     "iopub.status.busy": "2024-03-03T11:38:58.333513Z",
     "iopub.status.idle": "2024-03-03T11:38:58.341623Z",
     "shell.execute_reply": "2024-03-03T11:38:58.340797Z"
    },
    "papermill": {
     "duration": 0.013404,
     "end_time": "2024-03-03T11:38:58.343793",
     "exception": false,
     "start_time": "2024-03-03T11:38:58.330389",
     "status": "completed"
    },
    "tags": []
   },
   "outputs": [
    {
     "data": {
      "text/plain": [
       "4"
      ]
     },
     "execution_count": 2,
     "metadata": {},
     "output_type": "execute_result"
    }
   ],
   "source": [
    "# Largest element of an array\n",
    "arr: list[int] = [1, 2, 3, 1, 2, 3, 4, 0, 3]\n",
    "max_ = 0\n",
    "for i in arr:\n",
    "    if i > max_:\n",
    "        max_ = i\n",
    "max_"
   ]
  },
  {
   "cell_type": "code",
   "execution_count": 3,
   "id": "40ba7146",
   "metadata": {
    "execution": {
     "iopub.execute_input": "2024-03-03T11:38:58.350092Z",
     "iopub.status.busy": "2024-03-03T11:38:58.349864Z",
     "iopub.status.idle": "2024-03-03T11:38:58.356866Z",
     "shell.execute_reply": "2024-03-03T11:38:58.355985Z"
    },
    "papermill": {
     "duration": 0.012758,
     "end_time": "2024-03-03T11:38:58.358688",
     "exception": false,
     "start_time": "2024-03-03T11:38:58.345930",
     "status": "completed"
    },
    "tags": []
   },
   "outputs": [
    {
     "data": {
      "text/plain": [
       "3"
      ]
     },
     "execution_count": 3,
     "metadata": {},
     "output_type": "execute_result"
    }
   ],
   "source": [
    "# Second largest element of an array - 2 passes\n",
    "arr: list[int] = [1, 2, 3, 1, 2, 4, 4, 0, 3]\n",
    "N = len(arr)\n",
    "\n",
    "# Find the max index, this way if the Q requires that 2nd \n",
    "# largest be a diff number or simply a diff index\n",
    "# we can accomodate both\n",
    "max_, second_max_ = 0, 0\n",
    "for i in range(N):\n",
    "    if arr[i] > arr[max_]:\n",
    "        max_ = i\n",
    "\n",
    "# Variable to ensure that we return -1 if there is no 2nd largest\n",
    "found = False\n",
    "for i in range(N):\n",
    "    if arr[i] > arr[second_max_] and arr[i] != arr[max_]:\n",
    "        second_max_ = i\n",
    "        found = True\n",
    "\n",
    "arr[second_max_] if found else -1"
   ]
  },
  {
   "cell_type": "code",
   "execution_count": 4,
   "id": "dc0c38ed",
   "metadata": {
    "execution": {
     "iopub.execute_input": "2024-03-03T11:38:58.365135Z",
     "iopub.status.busy": "2024-03-03T11:38:58.364418Z",
     "iopub.status.idle": "2024-03-03T11:38:58.371845Z",
     "shell.execute_reply": "2024-03-03T11:38:58.371006Z"
    },
    "papermill": {
     "duration": 0.01272,
     "end_time": "2024-03-03T11:38:58.373758",
     "exception": false,
     "start_time": "2024-03-03T11:38:58.361038",
     "status": "completed"
    },
    "tags": []
   },
   "outputs": [
    {
     "data": {
      "text/plain": [
       "(3, 2)"
      ]
     },
     "execution_count": 4,
     "metadata": {},
     "output_type": "execute_result"
    }
   ],
   "source": [
    "# Second largest  and secod largest of an array - 1 pass\n",
    "arr: list[int] = [1, 2, 3, 1, 2, 4, 4, 2, 3]\n",
    "N = len(arr)\n",
    "max_, second_max_ = arr[0], -math.inf\n",
    "min_, second_min_ = arr[0], math.inf\n",
    "for i in arr:\n",
    "    if i >= max_:\n",
    "        max_ = i\n",
    "    elif i > second_max_:\n",
    "        second_max_ = i\n",
    "\n",
    "    if i <= min_:\n",
    "        min_ = i\n",
    "    elif i < second_min_:\n",
    "        second_min_ = i\n",
    "\n",
    "second_max_, second_min_"
   ]
  },
  {
   "cell_type": "code",
   "execution_count": 5,
   "id": "436544e5",
   "metadata": {
    "execution": {
     "iopub.execute_input": "2024-03-03T11:38:58.381016Z",
     "iopub.status.busy": "2024-03-03T11:38:58.380155Z",
     "iopub.status.idle": "2024-03-03T11:38:58.385590Z",
     "shell.execute_reply": "2024-03-03T11:38:58.384714Z"
    },
    "papermill": {
     "duration": 0.010929,
     "end_time": "2024-03-03T11:38:58.387004",
     "exception": false,
     "start_time": "2024-03-03T11:38:58.376075",
     "status": "completed"
    },
    "tags": []
   },
   "outputs": [
    {
     "name": "stdout",
     "output_type": "stream",
     "text": [
      "True\n"
     ]
    }
   ],
   "source": [
    "# Check if the array is sorted\n",
    "arr: list[int] = [1, 2, 3, 1, 2, 4, 4, 2, 3]\n",
    "arr.sort()\n",
    "for i in range(len(arr) - 1):\n",
    "    if arr[i] > arr[i + 1]:\n",
    "        print(\"False\")\n",
    "        break\n",
    "else:\n",
    "    print(\"True\")"
   ]
  },
  {
   "cell_type": "code",
   "execution_count": 6,
   "id": "104a4801",
   "metadata": {
    "execution": {
     "iopub.execute_input": "2024-03-03T11:38:58.393785Z",
     "iopub.status.busy": "2024-03-03T11:38:58.392836Z",
     "iopub.status.idle": "2024-03-03T11:38:58.398241Z",
     "shell.execute_reply": "2024-03-03T11:38:58.397386Z"
    },
    "lines_to_next_cell": 1,
    "papermill": {
     "duration": 0.010866,
     "end_time": "2024-03-03T11:38:58.400155",
     "exception": false,
     "start_time": "2024-03-03T11:38:58.389289",
     "status": "completed"
    },
    "tags": []
   },
   "outputs": [
    {
     "name": "stdout",
     "output_type": "stream",
     "text": [
      "[1, 2, 3, 4, None, None, None, None]\n"
     ]
    }
   ],
   "source": [
    "# Remove duplicates in place from a sorted array\n",
    "arr: list[int | None] = [1, 1, 2, 2, 2, 3, 3, 4]\n",
    "\n",
    "N = len(arr)\n",
    "i, j = 0, 1\n",
    "\n",
    "while j < N:\n",
    "    if arr[i] != arr[j]:\n",
    "        arr[i + 1] = arr[j]\n",
    "        i += 1\n",
    "    j += 1\n",
    "i += 1\n",
    "\n",
    "while i < N:\n",
    "    arr[i] = None\n",
    "    i += 1\n",
    "\n",
    "print(arr)"
   ]
  },
  {
   "cell_type": "code",
   "execution_count": 7,
   "id": "6d1febea",
   "metadata": {
    "execution": {
     "iopub.execute_input": "2024-03-03T11:38:58.407005Z",
     "iopub.status.busy": "2024-03-03T11:38:58.406776Z",
     "iopub.status.idle": "2024-03-03T11:38:58.411556Z",
     "shell.execute_reply": "2024-03-03T11:38:58.410710Z"
    },
    "papermill": {
     "duration": 0.010523,
     "end_time": "2024-03-03T11:38:58.413025",
     "exception": false,
     "start_time": "2024-03-03T11:38:58.402502",
     "status": "completed"
    },
    "tags": []
   },
   "outputs": [
    {
     "name": "stdout",
     "output_type": "stream",
     "text": [
      "[2, 3, 4, 5, 1]\n"
     ]
    }
   ],
   "source": [
    "# Left rotate array by one place\n",
    "def left_rotate_inplace(arr_: list[int]):\n",
    "    j, N = arr_[0], len(arr_)\n",
    "    for i in range(0, N - 1):\n",
    "        arr_[i] = arr_[i + 1]\n",
    "    arr_[-1] = j\n",
    "\n",
    "arr: list[int] = [1, 2, 3, 4, 5]\n",
    "left_rotate_inplace(arr)\n",
    "print(arr)"
   ]
  },
  {
   "cell_type": "code",
   "execution_count": 8,
   "id": "dbc08a71",
   "metadata": {
    "execution": {
     "iopub.execute_input": "2024-03-03T11:38:58.419241Z",
     "iopub.status.busy": "2024-03-03T11:38:58.419013Z",
     "iopub.status.idle": "2024-03-03T11:38:58.424479Z",
     "shell.execute_reply": "2024-03-03T11:38:58.423396Z"
    },
    "lines_to_next_cell": 1,
    "papermill": {
     "duration": 0.010853,
     "end_time": "2024-03-03T11:38:58.426288",
     "exception": false,
     "start_time": "2024-03-03T11:38:58.415435",
     "status": "completed"
    },
    "tags": []
   },
   "outputs": [
    {
     "name": "stdout",
     "output_type": "stream",
     "text": [
      "[5, 1, 2, 3, 4]\n"
     ]
    }
   ],
   "source": [
    "# Left rotate array by K places (in place)\n",
    "# Time - O(KN), Space - O(1)\n",
    "arr: list[int] = [1, 2, 3, 4, 5]\n",
    "k = 4\n",
    "\n",
    "N = len(arr)\n",
    "k = k % N\n",
    "for i in range(k):\n",
    "    left_rotate_inplace(arr)\n",
    "\n",
    "print(arr)"
   ]
  },
  {
   "cell_type": "code",
   "execution_count": 9,
   "id": "d12886b4",
   "metadata": {
    "execution": {
     "iopub.execute_input": "2024-03-03T11:38:58.433179Z",
     "iopub.status.busy": "2024-03-03T11:38:58.432647Z",
     "iopub.status.idle": "2024-03-03T11:38:58.439613Z",
     "shell.execute_reply": "2024-03-03T11:38:58.438699Z"
    },
    "lines_to_next_cell": 1,
    "papermill": {
     "duration": 0.012388,
     "end_time": "2024-03-03T11:38:58.441270",
     "exception": false,
     "start_time": "2024-03-03T11:38:58.428882",
     "status": "completed"
    },
    "tags": []
   },
   "outputs": [
    {
     "data": {
      "text/plain": [
       "[4, 5, 1, 2, 3]"
      ]
     },
     "execution_count": 9,
     "metadata": {},
     "output_type": "execute_result"
    }
   ],
   "source": [
    "# Left rotate array by K places \n",
    "# Time - O(N), Space - O(N)\n",
    "def left_rotate_(arr_: list[int], k: int):\n",
    "    N = len(arr)\n",
    "    k = k % N\n",
    "\n",
    "    result: list[int] = []\n",
    "    for i in range(k, N):\n",
    "        result.append(arr[i])\n",
    "    for i in range(k):\n",
    "        result.append(arr[i])\n",
    "\n",
    "    return result\n",
    "\n",
    "left_rotate_([1, 2, 3, 4, 5], 4)"
   ]
  },
  {
   "cell_type": "code",
   "execution_count": 10,
   "id": "72166199",
   "metadata": {
    "execution": {
     "iopub.execute_input": "2024-03-03T11:38:58.448304Z",
     "iopub.status.busy": "2024-03-03T11:38:58.448077Z",
     "iopub.status.idle": "2024-03-03T11:38:58.454012Z",
     "shell.execute_reply": "2024-03-03T11:38:58.453175Z"
    },
    "lines_to_next_cell": 1,
    "papermill": {
     "duration": 0.012195,
     "end_time": "2024-03-03T11:38:58.455996",
     "exception": false,
     "start_time": "2024-03-03T11:38:58.443801",
     "status": "completed"
    },
    "tags": []
   },
   "outputs": [
    {
     "name": "stdout",
     "output_type": "stream",
     "text": [
      "[3, 4, 5, 1, 2]\n"
     ]
    }
   ],
   "source": [
    "# Left rotate array in O(N) with O(1) space\n",
    "def left_rotate(arr_: list[int], k: int):\n",
    "    def reverse(start: int, end: int):\n",
    "        while start < end:\n",
    "            arr_[start], arr_[end] = arr_[end], arr_[start]\n",
    "            start, end = start + 1, end - 1\n",
    "\n",
    "    N = len(arr_)\n",
    "    k = k % N\n",
    "\n",
    "    reverse(0, k - 1)\n",
    "    reverse(k, N - 1)\n",
    "    reverse(0, N - 1)\n",
    "\n",
    "arr: list[int] = [1, 2, 3, 4, 5]\n",
    "left_rotate(arr, 2)\n",
    "print(arr)"
   ]
  },
  {
   "cell_type": "code",
   "execution_count": 11,
   "id": "fe8102bb",
   "metadata": {
    "execution": {
     "iopub.execute_input": "2024-03-03T11:38:58.463193Z",
     "iopub.status.busy": "2024-03-03T11:38:58.462964Z",
     "iopub.status.idle": "2024-03-03T11:38:58.468396Z",
     "shell.execute_reply": "2024-03-03T11:38:58.467542Z"
    },
    "papermill": {
     "duration": 0.011347,
     "end_time": "2024-03-03T11:38:58.469909",
     "exception": false,
     "start_time": "2024-03-03T11:38:58.458562",
     "status": "completed"
    },
    "tags": []
   },
   "outputs": [
    {
     "name": "stdout",
     "output_type": "stream",
     "text": [
      "[3, 4, 5, 1, 2]\n"
     ]
    }
   ],
   "source": [
    "# Right rotate array in O(N) with O(1) space\n",
    "def right_rotate(arr_: list[int], k: int):\n",
    "    def reverse(start: int, end: int):\n",
    "        while start < end:\n",
    "            arr_[start], arr_[end] = arr_[end], arr_[start]\n",
    "            start, end = start + 1, end - 1\n",
    "\n",
    "    N = len(arr_)\n",
    "    k = k % N\n",
    "\n",
    "    reverse(0, N - 1)\n",
    "    reverse(0, k - 1)\n",
    "    reverse(k, N - 1)\n",
    "\n",
    "arr: list[int] = [1, 2, 3, 4, 5]\n",
    "right_rotate(arr, 3)\n",
    "print(arr)"
   ]
  },
  {
   "cell_type": "code",
   "execution_count": 12,
   "id": "f1d2c590",
   "metadata": {
    "execution": {
     "iopub.execute_input": "2024-03-03T11:38:58.477315Z",
     "iopub.status.busy": "2024-03-03T11:38:58.476826Z",
     "iopub.status.idle": "2024-03-03T11:38:58.482782Z",
     "shell.execute_reply": "2024-03-03T11:38:58.481908Z"
    },
    "papermill": {
     "duration": 0.01165,
     "end_time": "2024-03-03T11:38:58.484302",
     "exception": false,
     "start_time": "2024-03-03T11:38:58.472652",
     "status": "completed"
    },
    "tags": []
   },
   "outputs": [
    {
     "name": "stdout",
     "output_type": "stream",
     "text": [
      "[1, 8, 3, 2, 5, 3, 0, 0, 0, 0, 0]\n"
     ]
    }
   ],
   "source": [
    "# Move zeros to end of the array\n",
    "arr: list[int] = [0, 0, 1, 0, 8, 3, 0, 2, 5, 3, 0]\n",
    "N = len(arr)\n",
    "i, j = 0, 1\n",
    "while j < N:\n",
    "    if arr[i] != 0:\n",
    "        i += 1\n",
    "    elif arr[i] == 0 and arr[j] != 0:\n",
    "        arr[i], arr[j] = arr[j], arr[i]\n",
    "        i += 1\n",
    "    j += 1\n",
    "\n",
    "print (arr)"
   ]
  },
  {
   "cell_type": "code",
   "execution_count": 13,
   "id": "9f438462",
   "metadata": {
    "execution": {
     "iopub.execute_input": "2024-03-03T11:38:58.492113Z",
     "iopub.status.busy": "2024-03-03T11:38:58.491466Z",
     "iopub.status.idle": "2024-03-03T11:38:58.497963Z",
     "shell.execute_reply": "2024-03-03T11:38:58.496879Z"
    },
    "papermill": {
     "duration": 0.012518,
     "end_time": "2024-03-03T11:38:58.499540",
     "exception": false,
     "start_time": "2024-03-03T11:38:58.487022",
     "status": "completed"
    },
    "tags": []
   },
   "outputs": [
    {
     "data": {
      "text/plain": [
       "-1"
      ]
     },
     "execution_count": 13,
     "metadata": {},
     "output_type": "execute_result"
    }
   ],
   "source": [
    "# Linear search\n",
    "arr: list[int] = [1, 2, 1, 3, 5, 4, 3]\n",
    "j = 9\n",
    "for i in range(len(arr)):\n",
    "    if arr[i] == j:\n",
    "        break\n",
    "i if arr[i] == j else -1"
   ]
  },
  {
   "cell_type": "code",
   "execution_count": 14,
   "id": "952ed4de",
   "metadata": {
    "execution": {
     "iopub.execute_input": "2024-03-03T11:38:58.507303Z",
     "iopub.status.busy": "2024-03-03T11:38:58.506584Z",
     "iopub.status.idle": "2024-03-03T11:38:58.513610Z",
     "shell.execute_reply": "2024-03-03T11:38:58.512774Z"
    },
    "papermill": {
     "duration": 0.012916,
     "end_time": "2024-03-03T11:38:58.515309",
     "exception": false,
     "start_time": "2024-03-03T11:38:58.502393",
     "status": "completed"
    },
    "tags": []
   },
   "outputs": [
    {
     "name": "stdout",
     "output_type": "stream",
     "text": [
      "[1, 2, 3, 4, 5, 6]\n"
     ]
    }
   ],
   "source": [
    "# Union of two sorted arrays - same order without repetitions\n",
    "# Time complexity - O(N1 + N2)\n",
    "arr1: list[int] = [1, 1, 2, 3, 4, 5]\n",
    "arr2: list[int] = [2, 3, 4, 4, 5, 6]\n",
    "\n",
    "N1, N2 = len(arr1), len(arr2)\n",
    "arr: list[int] = []\n",
    "\n",
    "i, j = 0, 0\n",
    "while i < N1 or j < N2:\n",
    "    if j >= N2 or (i < N1 and arr1[i] < arr2[j]):\n",
    "        if not arr or arr[-1] < arr1[i]:\n",
    "            arr.append(arr1[i])\n",
    "        i += 1\n",
    "    else:\n",
    "        if not arr or arr[-1] < arr2[j]:\n",
    "            arr.append(arr2[j])\n",
    "        j += 1\n",
    "\n",
    "print(arr)"
   ]
  },
  {
   "cell_type": "code",
   "execution_count": 15,
   "id": "e6368fd9",
   "metadata": {
    "execution": {
     "iopub.execute_input": "2024-03-03T11:38:58.522374Z",
     "iopub.status.busy": "2024-03-03T11:38:58.522148Z",
     "iopub.status.idle": "2024-03-03T11:38:58.528053Z",
     "shell.execute_reply": "2024-03-03T11:38:58.527228Z"
    },
    "papermill": {
     "duration": 0.011799,
     "end_time": "2024-03-03T11:38:58.529963",
     "exception": false,
     "start_time": "2024-03-03T11:38:58.518164",
     "status": "completed"
    },
    "tags": []
   },
   "outputs": [],
   "source": [
    "# Intersection of two sorted arrays\n",
    "# Time complexity - O(min(N1, N2))\n",
    "arr1: list[int] = [1, 1, 2, 3, 4, 5]\n",
    "arr2: list[int] = [2, 3, 4, 4, 5, 6]\n",
    "\n",
    "N1, N2 = len(arr1), len(arr2)\n",
    "arr: list[int] = []\n",
    "\n",
    "i = j = 0\n",
    "while i < N1 and j < N2:\n",
    "    if arr1[i] == arr2[j]:\n",
    "        arr.append(arr1[i])\n",
    "        i += 1\n",
    "        j += 1\n",
    "    elif arr1[i] < arr2[j]:\n",
    "        i += 1\n",
    "    else:\n",
    "        j += 1\n",
    "\n",
    "assert arr == [2, 3, 4, 5]"
   ]
  },
  {
   "cell_type": "markdown",
   "id": "1038c86e",
   "metadata": {
    "papermill": {
     "duration": 0.002993,
     "end_time": "2024-03-03T11:38:58.536077",
     "exception": false,
     "start_time": "2024-03-03T11:38:58.533084",
     "status": "completed"
    },
    "tags": []
   },
   "source": [
    "Video Link: https://www.youtube.com/watch?v=bYWLJb3vCWY&list=PLgUwDviBIf0oF6QL8m22w1hIDC1vJ_BHz&index=19"
   ]
  },
  {
   "cell_type": "code",
   "execution_count": 16,
   "id": "00a0dac6",
   "metadata": {
    "execution": {
     "iopub.execute_input": "2024-03-03T11:38:58.543349Z",
     "iopub.status.busy": "2024-03-03T11:38:58.543119Z",
     "iopub.status.idle": "2024-03-03T11:38:58.549465Z",
     "shell.execute_reply": "2024-03-03T11:38:58.548619Z"
    },
    "papermill": {
     "duration": 0.011926,
     "end_time": "2024-03-03T11:38:58.550846",
     "exception": false,
     "start_time": "2024-03-03T11:38:58.538920",
     "status": "completed"
    },
    "tags": []
   },
   "outputs": [
    {
     "name": "stdout",
     "output_type": "stream",
     "text": [
      "3.0\n",
      "3\n"
     ]
    }
   ],
   "source": [
    "# Find missing number\n",
    "arr: list[int] = [1, 2, 4, 5]\n",
    "N = 5\n",
    "\n",
    "# Approach 1\n",
    "print(((N * (N + 1)) / 2) - sum(arr))\n",
    "\n",
    "# Approach 2, this is better since with approach 1 we sum up all the \n",
    "# numbers which could potentially be larger compared to this approach \n",
    "# where the number would be of utmost size the max element of the array\n",
    "N1 = functools.reduce(lambda x, y: x ^ y, range(1, N + 1), 0)\n",
    "for i in arr:\n",
    "    N1 = N1 ^ i\n",
    "print(N1)"
   ]
  },
  {
   "cell_type": "code",
   "execution_count": 17,
   "id": "11c5af8a",
   "metadata": {
    "execution": {
     "iopub.execute_input": "2024-03-03T11:38:58.558323Z",
     "iopub.status.busy": "2024-03-03T11:38:58.558095Z",
     "iopub.status.idle": "2024-03-03T11:38:58.564866Z",
     "shell.execute_reply": "2024-03-03T11:38:58.564009Z"
    },
    "papermill": {
     "duration": 0.012637,
     "end_time": "2024-03-03T11:38:58.566324",
     "exception": false,
     "start_time": "2024-03-03T11:38:58.553687",
     "status": "completed"
    },
    "tags": []
   },
   "outputs": [
    {
     "data": {
      "text/plain": [
       "4"
      ]
     },
     "execution_count": 17,
     "metadata": {},
     "output_type": "execute_result"
    }
   ],
   "source": [
    "# Maximum consequitive ones\n",
    "arr: list[int] = [1, 1, 0, 0, 1, 1, 1, 0, 0, 0, 0, 1, 1, 1, 1]\n",
    "result: int = 0\n",
    "count = 0\n",
    "for i in arr + [0]:\n",
    "    if i == 1:\n",
    "        count += 1\n",
    "    else:\n",
    "        result = max(result, count)\n",
    "        count = 0\n",
    "result"
   ]
  },
  {
   "cell_type": "code",
   "execution_count": 18,
   "id": "ea545fc5",
   "metadata": {
    "execution": {
     "iopub.execute_input": "2024-03-03T11:38:58.574476Z",
     "iopub.status.busy": "2024-03-03T11:38:58.574248Z",
     "iopub.status.idle": "2024-03-03T11:38:58.580143Z",
     "shell.execute_reply": "2024-03-03T11:38:58.579301Z"
    },
    "papermill": {
     "duration": 0.01284,
     "end_time": "2024-03-03T11:38:58.582112",
     "exception": false,
     "start_time": "2024-03-03T11:38:58.569272",
     "status": "completed"
    },
    "tags": []
   },
   "outputs": [
    {
     "data": {
      "text/plain": [
       "2"
      ]
     },
     "execution_count": 18,
     "metadata": {},
     "output_type": "execute_result"
    }
   ],
   "source": [
    "# Find element that occurs once when every other element occurs twice\n",
    "arr: list[int] = [1, 1, 2, 3, 3, 4, 4]\n",
    "result: int = functools.reduce(lambda x, y: x ^ y, arr)\n",
    "result"
   ]
  }
 ],
 "metadata": {
  "kernelspec": {
   "display_name": "Python 3 (ipykernel)",
   "language": "python",
   "name": "python3"
  },
  "language_info": {
   "codemirror_mode": {
    "name": "ipython",
    "version": 3
   },
   "file_extension": ".py",
   "mimetype": "text/x-python",
   "name": "python",
   "nbconvert_exporter": "python",
   "pygments_lexer": "ipython3",
   "version": "3.10.13"
  },
  "papermill": {
   "default_parameters": {},
   "duration": 2.718481,
   "end_time": "2024-03-03T11:38:58.806710",
   "environment_variables": {},
   "exception": null,
   "input_path": "06-easy-arrays.ipynb",
   "output_path": "06-easy-arrays.ipynb",
   "parameters": {},
   "start_time": "2024-03-03T11:38:56.088229",
   "version": "2.4.0"
  }
 },
 "nbformat": 4,
 "nbformat_minor": 5
}