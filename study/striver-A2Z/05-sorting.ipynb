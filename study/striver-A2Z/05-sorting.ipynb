{
 "cells": [
  {
   "cell_type": "markdown",
   "id": "7d2510f0",
   "metadata": {
    "papermill": {
     "duration": 0.008801,
     "end_time": "2024-02-29T03:17:29.907712",
     "exception": false,
     "start_time": "2024-02-29T03:17:29.898911",
     "status": "completed"
    },
    "tags": []
   },
   "source": [
    "#### Video Link: https://www.youtube.com/watch?v=HGk_ypEuS24&list=PLgUwDviBIf0oF6QL8m22w1hIDC1vJ_BHz&index=14"
   ]
  },
  {
   "cell_type": "code",
   "execution_count": 1,
   "id": "dc9caee0",
   "metadata": {
    "execution": {
     "iopub.execute_input": "2024-02-29T03:17:29.932257Z",
     "iopub.status.busy": "2024-02-29T03:17:29.930851Z",
     "iopub.status.idle": "2024-02-29T03:17:30.018112Z",
     "shell.execute_reply": "2024-02-29T03:17:30.017263Z"
    },
    "lines_to_next_cell": 1,
    "papermill": {
     "duration": 0.100705,
     "end_time": "2024-02-29T03:17:30.019922",
     "exception": false,
     "start_time": "2024-02-29T03:17:29.919217",
     "status": "completed"
    },
    "tags": []
   },
   "outputs": [],
   "source": [
    "# Necessary imports\n",
    "import numpy as np"
   ]
  },
  {
   "cell_type": "code",
   "execution_count": 2,
   "id": "6379e2eb",
   "metadata": {
    "execution": {
     "iopub.execute_input": "2024-02-29T03:17:30.026056Z",
     "iopub.status.busy": "2024-02-29T03:17:30.025312Z",
     "iopub.status.idle": "2024-02-29T03:17:30.031989Z",
     "shell.execute_reply": "2024-02-29T03:17:30.031212Z"
    },
    "lines_to_next_cell": 1,
    "papermill": {
     "duration": 0.012038,
     "end_time": "2024-02-29T03:17:30.033866",
     "exception": false,
     "start_time": "2024-02-29T03:17:30.021828",
     "status": "completed"
    },
    "tags": []
   },
   "outputs": [],
   "source": [
    "# Selection Sort\n",
    "def selection_sort(arr: list[int]) -> list[int]:\n",
    "    \"\"\"\n",
    "    Avg, Best, Worst Complexity - O(N^2)\n",
    "\n",
    "    For each index: 0 - (N - 1)\n",
    "        For each slice from index till array end\n",
    "            Select the minimum and put it at index (or beginning of the slice)\n",
    "    \"\"\"\n",
    "\n",
    "    N = len(arr)\n",
    "    result = [*arr]\n",
    "    for i in range(N - 1):\n",
    "        min_idx = i\n",
    "        for j in range(i + 1, N):\n",
    "            if result[min_idx] > result[j]:\n",
    "                min_idx = j\n",
    "        result[i], result[min_idx] = result[min_idx], result[i]\n",
    "    return result\n",
    "\n",
    "# Testing the algorithm\n",
    "for _ in range(5):\n",
    "    arr = np.random.randint(100, size=50).tolist()\n",
    "    assert selection_sort(arr) == sorted(arr)"
   ]
  },
  {
   "cell_type": "code",
   "execution_count": 3,
   "id": "23fba2fa",
   "metadata": {
    "execution": {
     "iopub.execute_input": "2024-02-29T03:17:30.038464Z",
     "iopub.status.busy": "2024-02-29T03:17:30.038085Z",
     "iopub.status.idle": "2024-02-29T03:17:30.044255Z",
     "shell.execute_reply": "2024-02-29T03:17:30.043490Z"
    },
    "lines_to_next_cell": 1,
    "papermill": {
     "duration": 0.010151,
     "end_time": "2024-02-29T03:17:30.045673",
     "exception": false,
     "start_time": "2024-02-29T03:17:30.035522",
     "status": "completed"
    },
    "tags": []
   },
   "outputs": [],
   "source": [
    "# Bubble Sort\n",
    "def bubble_sort(arr: list[int]) -> list[int]:\n",
    "    \"\"\"\n",
    "    Avg, Best, Worst Time - O(N^2)\n",
    "\n",
    "    Best can be an avg O(N) if we optimized by breaking out\n",
    "    if didn't swap for one outer iteration - already sorted\n",
    "\n",
    "    Pushes the maximum to the last index of slice by adjacent swaps\n",
    "    \"\"\"\n",
    "    N = len(arr)\n",
    "    result = [*arr]\n",
    "    for i in range(N):\n",
    "        didSwap: bool = False\n",
    "        for j in range(N - i - 1):\n",
    "            if result[j] > result[j + 1]:\n",
    "                result[j], result[j + 1] = result[j + 1], result[j]\n",
    "                didSwap = True\n",
    "\n",
    "        # Optimizing by early breaking\n",
    "        if not didSwap:\n",
    "            break\n",
    "    return result\n",
    "\n",
    "# Testing the algorithm\n",
    "for _ in range(5):\n",
    "    arr = np.random.randint(100, size=50).tolist()\n",
    "    assert bubble_sort(arr) == sorted(arr)"
   ]
  },
  {
   "cell_type": "code",
   "execution_count": 4,
   "id": "736c4faf",
   "metadata": {
    "execution": {
     "iopub.execute_input": "2024-02-29T03:17:30.050353Z",
     "iopub.status.busy": "2024-02-29T03:17:30.050007Z",
     "iopub.status.idle": "2024-02-29T03:17:30.062378Z",
     "shell.execute_reply": "2024-02-29T03:17:30.061599Z"
    },
    "lines_to_next_cell": 1,
    "papermill": {
     "duration": 0.016954,
     "end_time": "2024-02-29T03:17:30.064271",
     "exception": false,
     "start_time": "2024-02-29T03:17:30.047317",
     "status": "completed"
    },
    "tags": []
   },
   "outputs": [],
   "source": [
    "# Insertion Sort\n",
    "def insertion_sort(arr: list[int]) -> list[int]:\n",
    "    \"\"\"\n",
    "    Best Case - O(N) - Already sorted\n",
    "    Worst Case - O(N^2)\n",
    "\n",
    "    Takes an element and ensure that it is put\n",
    "    in the correct order\n",
    "    \"\"\"\n",
    "    N = len(arr)\n",
    "    result = [*arr]\n",
    "    for i in range(1, N):\n",
    "        curr = result[i]\n",
    "        for j in range(i - 1, -1, -1):\n",
    "            if result[j] > curr:\n",
    "                result[j + 1] = result[j]\n",
    "                result[j] = curr\n",
    "    return result\n",
    "\n",
    "# Testing the algorithm\n",
    "for _ in range(5):\n",
    "    arr = np.random.randint(100, size=50).tolist()\n",
    "    assert insertion_sort(arr) == sorted(arr)"
   ]
  },
  {
   "cell_type": "markdown",
   "id": "bf92642e",
   "metadata": {
    "papermill": {
     "duration": 0.003136,
     "end_time": "2024-02-29T03:17:30.070491",
     "exception": false,
     "start_time": "2024-02-29T03:17:30.067355",
     "status": "completed"
    },
    "tags": []
   },
   "source": [
    "#### Video Link: https://www.youtube.com/watch?v=ogjf7ORKfd8&list=PLgUwDviBIf0oF6QL8m22w1hIDC1vJ_BHz&index=14"
   ]
  },
  {
   "cell_type": "code",
   "execution_count": 5,
   "id": "dca36744",
   "metadata": {
    "execution": {
     "iopub.execute_input": "2024-02-29T03:17:30.075693Z",
     "iopub.status.busy": "2024-02-29T03:17:30.075087Z",
     "iopub.status.idle": "2024-02-29T03:17:30.081854Z",
     "shell.execute_reply": "2024-02-29T03:17:30.080938Z"
    },
    "papermill": {
     "duration": 0.011242,
     "end_time": "2024-02-29T03:17:30.083381",
     "exception": false,
     "start_time": "2024-02-29T03:17:30.072139",
     "status": "completed"
    },
    "tags": []
   },
   "outputs": [],
   "source": [
    "# Merge Sort\n",
    "def merge_sort(arr: list[int]) -> list[int]:\n",
    "    N = len(arr)\n",
    "    if N <= 1:\n",
    "        return arr\n",
    "    else:\n",
    "        mid = N // 2\n",
    "        left = merge_sort(arr[:mid])\n",
    "        right = merge_sort(arr[mid:])\n",
    "        left_idx = right_idx = 0\n",
    "        result: list[int] = []\n",
    "        while left_idx < mid or right_idx < N - mid:\n",
    "            if (right_idx >= N - mid) or (left_idx < mid and left[left_idx] < right[right_idx]):\n",
    "                result.append(left[left_idx])\n",
    "                left_idx += 1\n",
    "            else:\n",
    "                result.append(right[right_idx])\n",
    "                right_idx += 1\n",
    "        return result\n",
    "\n",
    "# Testing the algorithm\n",
    "for _ in range(5):\n",
    "    arr = np.random.randint(100, size=50).tolist()\n",
    "    assert merge_sort(arr) == sorted(arr)"
   ]
  }
 ],
 "metadata": {
  "kernelspec": {
   "display_name": "Python 3 (ipykernel)",
   "language": "python",
   "name": "python3"
  },
  "language_info": {
   "codemirror_mode": {
    "name": "ipython",
    "version": 3
   },
   "file_extension": ".py",
   "mimetype": "text/x-python",
   "name": "python",
   "nbconvert_exporter": "python",
   "pygments_lexer": "ipython3",
   "version": "3.11.5"
  },
  "papermill": {
   "default_parameters": {},
   "duration": 1.662091,
   "end_time": "2024-02-29T03:17:30.303673",
   "environment_variables": {},
   "exception": null,
   "input_path": "05-sorting.ipynb",
   "output_path": "05-sorting.ipynb",
   "parameters": {},
   "start_time": "2024-02-29T03:17:28.641582",
   "version": "2.4.0"
  }
 },
 "nbformat": 4,
 "nbformat_minor": 5
}