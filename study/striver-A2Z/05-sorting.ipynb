{
 "cells": [
  {
   "cell_type": "markdown",
   "id": "7d2510f0",
   "metadata": {
    "papermill": {
     "duration": 0.01218,
     "end_time": "2024-03-01T02:13:07.198717",
     "exception": false,
     "start_time": "2024-03-01T02:13:07.186537",
     "status": "completed"
    },
    "tags": []
   },
   "source": [
    "#### Video Link: https://www.youtube.com/watch?v=HGk_ypEuS24&list=PLgUwDviBIf0oF6QL8m22w1hIDC1vJ_BHz&index=14"
   ]
  },
  {
   "cell_type": "code",
   "execution_count": 1,
   "id": "dc9caee0",
   "metadata": {
    "execution": {
     "iopub.execute_input": "2024-03-01T02:13:07.223852Z",
     "iopub.status.busy": "2024-03-01T02:13:07.222964Z",
     "iopub.status.idle": "2024-03-01T02:13:07.307042Z",
     "shell.execute_reply": "2024-03-01T02:13:07.306236Z"
    },
    "lines_to_next_cell": 1,
    "papermill": {
     "duration": 0.098136,
     "end_time": "2024-03-01T02:13:07.308673",
     "exception": false,
     "start_time": "2024-03-01T02:13:07.210537",
     "status": "completed"
    },
    "tags": []
   },
   "outputs": [],
   "source": [
    "# Necessary imports\n",
    "import numpy as np\n",
    "import random"
   ]
  },
  {
   "cell_type": "code",
   "execution_count": 2,
   "id": "6379e2eb",
   "metadata": {
    "execution": {
     "iopub.execute_input": "2024-03-01T02:13:07.314896Z",
     "iopub.status.busy": "2024-03-01T02:13:07.314079Z",
     "iopub.status.idle": "2024-03-01T02:13:07.322820Z",
     "shell.execute_reply": "2024-03-01T02:13:07.322066Z"
    },
    "lines_to_next_cell": 1,
    "papermill": {
     "duration": 0.013789,
     "end_time": "2024-03-01T02:13:07.324732",
     "exception": false,
     "start_time": "2024-03-01T02:13:07.310943",
     "status": "completed"
    },
    "tags": []
   },
   "outputs": [],
   "source": [
    "# Selection Sort\n",
    "def selection_sort(arr: list[int]) -> list[int]:\n",
    "    \"\"\"\n",
    "    Avg, Best, Worst Complexity - O(N^2)\n",
    "\n",
    "    For each index: 0 - (N - 1)\n",
    "        For each slice from index till array end\n",
    "            Select the minimum and put it at index (or beginning of the slice)\n",
    "    \"\"\"\n",
    "\n",
    "    N = len(arr)\n",
    "    result = [*arr]\n",
    "    for i in range(N - 1):\n",
    "        min_idx = i\n",
    "        for j in range(i + 1, N):\n",
    "            if result[min_idx] > result[j]:\n",
    "                min_idx = j\n",
    "        result[i], result[min_idx] = result[min_idx], result[i]\n",
    "    return result\n",
    "\n",
    "# Testing the algorithm\n",
    "for _ in range(5):\n",
    "    arr = np.random.randint(100, size=random.randint(50, 100)).tolist()\n",
    "    assert selection_sort(arr) == sorted(arr)"
   ]
  },
  {
   "cell_type": "code",
   "execution_count": 3,
   "id": "23fba2fa",
   "metadata": {
    "execution": {
     "iopub.execute_input": "2024-03-01T02:13:07.334072Z",
     "iopub.status.busy": "2024-03-01T02:13:07.333801Z",
     "iopub.status.idle": "2024-03-01T02:13:07.341939Z",
     "shell.execute_reply": "2024-03-01T02:13:07.340974Z"
    },
    "lines_to_next_cell": 1,
    "papermill": {
     "duration": 0.017383,
     "end_time": "2024-03-01T02:13:07.346069",
     "exception": false,
     "start_time": "2024-03-01T02:13:07.328686",
     "status": "completed"
    },
    "tags": []
   },
   "outputs": [],
   "source": [
    "# Bubble Sort\n",
    "def bubble_sort(arr: list[int]) -> list[int]:\n",
    "    \"\"\"\n",
    "    Avg, Best, Worst Time - O(N^2)\n",
    "\n",
    "    Best can be an avg O(N) if we optimized by breaking out\n",
    "    if didn't swap for one outer iteration - already sorted\n",
    "\n",
    "    Pushes the maximum to the last index of slice by adjacent swaps\n",
    "    \"\"\"\n",
    "    N = len(arr)\n",
    "    result = [*arr]\n",
    "    for i in range(N):\n",
    "        didSwap: bool = False\n",
    "        for j in range(N - i - 1):\n",
    "            if result[j] > result[j + 1]:\n",
    "                result[j], result[j + 1] = result[j + 1], result[j]\n",
    "                didSwap = True\n",
    "\n",
    "        # Optimizing by early breaking\n",
    "        if not didSwap:\n",
    "            break\n",
    "    return result\n",
    "\n",
    "# Testing the algorithm\n",
    "for _ in range(5):\n",
    "    arr = np.random.randint(100, size=random.randint(50, 100)).tolist()\n",
    "    assert bubble_sort(arr) == sorted(arr)"
   ]
  },
  {
   "cell_type": "code",
   "execution_count": 4,
   "id": "736c4faf",
   "metadata": {
    "execution": {
     "iopub.execute_input": "2024-03-01T02:13:07.352140Z",
     "iopub.status.busy": "2024-03-01T02:13:07.351861Z",
     "iopub.status.idle": "2024-03-01T02:13:07.358569Z",
     "shell.execute_reply": "2024-03-01T02:13:07.357739Z"
    },
    "lines_to_next_cell": 1,
    "papermill": {
     "duration": 0.011307,
     "end_time": "2024-03-01T02:13:07.360038",
     "exception": false,
     "start_time": "2024-03-01T02:13:07.348731",
     "status": "completed"
    },
    "tags": []
   },
   "outputs": [],
   "source": [
    "# Insertion Sort\n",
    "def insertion_sort(arr: list[int]) -> list[int]:\n",
    "    \"\"\"\n",
    "    Best Case - O(N) - Already sorted\n",
    "    Worst Case - O(N^2)\n",
    "\n",
    "    Takes an element and ensure that it is put\n",
    "    in the correct order\n",
    "    \"\"\"\n",
    "    N = len(arr)\n",
    "    result = [*arr]\n",
    "    for i in range(1, N):\n",
    "        curr = result[i]\n",
    "        for j in range(i - 1, -1, -1):\n",
    "            if result[j] > curr:\n",
    "                result[j + 1] = result[j]\n",
    "                result[j] = curr\n",
    "    return result\n",
    "\n",
    "# Testing the algorithm\n",
    "for _ in range(5):\n",
    "    arr = np.random.randint(100, size=random.randint(50, 100)).tolist()\n",
    "    assert insertion_sort(arr) == sorted(arr)"
   ]
  },
  {
   "cell_type": "markdown",
   "id": "bf92642e",
   "metadata": {
    "papermill": {
     "duration": 0.00193,
     "end_time": "2024-03-01T02:13:07.364027",
     "exception": false,
     "start_time": "2024-03-01T02:13:07.362097",
     "status": "completed"
    },
    "tags": []
   },
   "source": [
    "#### Video Link: https://www.youtube.com/watch?v=ogjf7ORKfd8&list=PLgUwDviBIf0oF6QL8m22w1hIDC1vJ_BHz&index=14"
   ]
  },
  {
   "cell_type": "code",
   "execution_count": 5,
   "id": "dca36744",
   "metadata": {
    "execution": {
     "iopub.execute_input": "2024-03-01T02:13:07.369658Z",
     "iopub.status.busy": "2024-03-01T02:13:07.369440Z",
     "iopub.status.idle": "2024-03-01T02:13:07.376222Z",
     "shell.execute_reply": "2024-03-01T02:13:07.375347Z"
    },
    "lines_to_next_cell": 1,
    "papermill": {
     "duration": 0.011478,
     "end_time": "2024-03-01T02:13:07.377714",
     "exception": false,
     "start_time": "2024-03-01T02:13:07.366236",
     "status": "completed"
    },
    "tags": []
   },
   "outputs": [],
   "source": [
    "# Merge Sort - With aux space\n",
    "def merge_sort(arr: list[int]) -> list[int]:\n",
    "    \"\"\"\n",
    "    Average, Best, Worst - O(N log N)\n",
    "    Space complexity - O (N log N)\n",
    "\n",
    "    Space complexity can be O(N) if we created a seperate func to merge that creates and deletes a\n",
    "    temp arr. This array would not be stored in the stack space, at worst take up extra O(N) space.\n",
    "    We would only be merging any two arrays at any point in time.\n",
    "\n",
    "    Divide the array and merge.\n",
    "    When merging ensure that the array is merged in correct order.\n",
    "    \"\"\"\n",
    "    N = len(arr)\n",
    "    if N <= 1:\n",
    "        return arr\n",
    "    else:\n",
    "        mid = N // 2\n",
    "        left = merge_sort(arr[:mid])\n",
    "        right = merge_sort(arr[mid:])\n",
    "        left_idx = right_idx = 0\n",
    "        result: list[int] = []\n",
    "        while left_idx < mid or right_idx < N - mid:\n",
    "            if (right_idx >= N - mid) or (left_idx < mid and left[left_idx] < right[right_idx]):\n",
    "                result.append(left[left_idx])\n",
    "                left_idx += 1\n",
    "            else:\n",
    "                result.append(right[right_idx])\n",
    "                right_idx += 1\n",
    "        return result\n",
    "\n",
    "# Testing the algorithm\n",
    "for _ in range(5):\n",
    "    arr = np.random.randint(100, size=random.randint(50, 100)).tolist()\n",
    "    assert merge_sort(arr) == sorted(arr)"
   ]
  },
  {
   "cell_type": "markdown",
   "id": "5d0a6f92",
   "metadata": {
    "papermill": {
     "duration": 0.001936,
     "end_time": "2024-03-01T02:13:07.381743",
     "exception": false,
     "start_time": "2024-03-01T02:13:07.379807",
     "status": "completed"
    },
    "tags": []
   },
   "source": [
    "#### Video Link: https://www.youtube.com/watch?v=ogjf7ORKfd8&list=PLgUwDviBIf0oF6QL8m22w1hIDC1vJ_BHz&index=14&pp=iAQB"
   ]
  },
  {
   "cell_type": "code",
   "execution_count": 6,
   "id": "db97aab6",
   "metadata": {
    "execution": {
     "iopub.execute_input": "2024-03-01T02:13:07.387580Z",
     "iopub.status.busy": "2024-03-01T02:13:07.387010Z",
     "iopub.status.idle": "2024-03-01T02:13:07.394859Z",
     "shell.execute_reply": "2024-03-01T02:13:07.394029Z"
    },
    "lines_to_next_cell": 1,
    "papermill": {
     "duration": 0.012964,
     "end_time": "2024-03-01T02:13:07.396797",
     "exception": false,
     "start_time": "2024-03-01T02:13:07.383833",
     "status": "completed"
    },
    "tags": []
   },
   "outputs": [],
   "source": [
    "# Quick Sort - Aux space\n",
    "def quick_sort_1(arr: list[int]) -> list[int]:\n",
    "    \"\"\"\n",
    "    Time complexity - O(N log N)\n",
    "    Space complexity - O(N log N)\n",
    "\n",
    "    Take a random index, ensure that every other element is correctly ordered relative to chosen index\n",
    "    Repeat same for the two sub arrays created.\n",
    "    \"\"\"\n",
    "    N = len(arr)\n",
    "    if N <= 1:\n",
    "        return arr\n",
    "    else:\n",
    "        pivot = random.randint(0, N - 1)\n",
    "        left = [arr[i] for i in range(N) if arr[i] < arr[pivot] and i != pivot]\n",
    "        right = [arr[i] for i in range(N) if arr[i] >= arr[pivot] and i != pivot]\n",
    "        merged = quick_sort_1(left) + [arr[pivot]] + quick_sort_1(right)\n",
    "        return merged\n",
    "\n",
    "# Testing the algorithm\n",
    "for _ in range(5):\n",
    "    arr = np.random.randint(100, size=random.randint(50, 100)).tolist()\n",
    "    assert quick_sort_1(arr) == sorted(arr)"
   ]
  },
  {
   "cell_type": "code",
   "execution_count": 7,
   "id": "41c03989",
   "metadata": {
    "execution": {
     "iopub.execute_input": "2024-03-01T02:13:07.406159Z",
     "iopub.status.busy": "2024-03-01T02:13:07.405907Z",
     "iopub.status.idle": "2024-03-01T02:13:07.413380Z",
     "shell.execute_reply": "2024-03-01T02:13:07.412557Z"
    },
    "papermill": {
     "duration": 0.014673,
     "end_time": "2024-03-01T02:13:07.415368",
     "exception": false,
     "start_time": "2024-03-01T02:13:07.400695",
     "status": "completed"
    },
    "tags": []
   },
   "outputs": [],
   "source": [
    "# Quick Sort - In place\n",
    "def quick_sort_2(arr: list[int], low: int, high: int):\n",
    "    \"\"\"\n",
    "    Time complexity - O (N log N)\n",
    "    Space complexity - O (N)\n",
    "    \"\"\"\n",
    "    def partition(arr: list[int], low: int, high: int):\n",
    "        pivot = low\n",
    "        i, j = low, high\n",
    "        while i < j:\n",
    "            # Move i right until we find an element greater than pivot\n",
    "            while arr[i] <= arr[pivot] and i < high:\n",
    "                i += 1\n",
    "\n",
    "            # Move j left until we find an element lesser than pivot\n",
    "            while arr[j] > arr[pivot] and j > low:\n",
    "                j -= 1\n",
    "\n",
    "            # Swap if i hasn't crossed j yet\n",
    "            if i < j:\n",
    "                arr[i], arr[j] = arr[j], arr[i]\n",
    "\n",
    "        # j is the right position for our pivot\n",
    "        arr[pivot], arr[j] = arr[j], arr[pivot]\n",
    "        return j\n",
    "\n",
    "    if low < high:\n",
    "        partition_idx = partition(arr, low, high)\n",
    "        quick_sort_2(arr, low, partition_idx - 1)\n",
    "        quick_sort_2(arr, partition_idx + 1, high)\n",
    "\n",
    "# Testing the algorithm\n",
    "for _ in range(5):\n",
    "    arr = np.random.randint(100, size=random.randint(50, 100)).tolist()\n",
    "    quick_sort_2(arr, 0, len(arr) - 1)\n",
    "    for i in range(len(arr) - 1):\n",
    "        assert arr[i] <= arr[i + 1]"
   ]
  }
 ],
 "metadata": {
  "kernelspec": {
   "display_name": "Python 3 (ipykernel)",
   "language": "python",
   "name": "python3"
  },
  "language_info": {
   "codemirror_mode": {
    "name": "ipython",
    "version": 3
   },
   "file_extension": ".py",
   "mimetype": "text/x-python",
   "name": "python",
   "nbconvert_exporter": "python",
   "pygments_lexer": "ipython3",
   "version": "3.11.5"
  },
  "papermill": {
   "default_parameters": {},
   "duration": 1.93143,
   "end_time": "2024-03-01T02:13:07.742471",
   "environment_variables": {},
   "exception": null,
   "input_path": "05-sorting.ipynb",
   "output_path": "05-sorting.ipynb",
   "parameters": {},
   "start_time": "2024-03-01T02:13:05.811041",
   "version": "2.4.0"
  }
 },
 "nbformat": 4,
 "nbformat_minor": 5
}