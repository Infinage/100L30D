{
 "cells": [
  {
   "cell_type": "markdown",
   "id": "7d2510f0",
   "metadata": {
    "papermill": {
     "duration": 0.007744,
     "end_time": "2024-03-01T03:05:29.910147",
     "exception": false,
     "start_time": "2024-03-01T03:05:29.902403",
     "status": "completed"
    },
    "tags": []
   },
   "source": [
    "#### Video Link: https://www.youtube.com/watch?v=HGk_ypEuS24&list=PLgUwDviBIf0oF6QL8m22w1hIDC1vJ_BHz&index=14"
   ]
  },
  {
   "cell_type": "code",
   "execution_count": 1,
   "id": "dc9caee0",
   "metadata": {
    "execution": {
     "iopub.execute_input": "2024-03-01T03:05:29.929958Z",
     "iopub.status.busy": "2024-03-01T03:05:29.928063Z",
     "iopub.status.idle": "2024-03-01T03:05:30.091915Z",
     "shell.execute_reply": "2024-03-01T03:05:30.090039Z"
    },
    "lines_to_next_cell": 1,
    "papermill": {
     "duration": 0.176709,
     "end_time": "2024-03-01T03:05:30.094419",
     "exception": false,
     "start_time": "2024-03-01T03:05:29.917710",
     "status": "completed"
    },
    "tags": []
   },
   "outputs": [],
   "source": [
    "# Necessary imports\n",
    "import numpy as np\n",
    "import random"
   ]
  },
  {
   "cell_type": "code",
   "execution_count": 2,
   "id": "6379e2eb",
   "metadata": {
    "execution": {
     "iopub.execute_input": "2024-03-01T03:05:30.104366Z",
     "iopub.status.busy": "2024-03-01T03:05:30.103029Z",
     "iopub.status.idle": "2024-03-01T03:05:30.115536Z",
     "shell.execute_reply": "2024-03-01T03:05:30.113927Z"
    },
    "lines_to_next_cell": 1,
    "papermill": {
     "duration": 0.020466,
     "end_time": "2024-03-01T03:05:30.118268",
     "exception": false,
     "start_time": "2024-03-01T03:05:30.097802",
     "status": "completed"
    },
    "tags": []
   },
   "outputs": [],
   "source": [
    "# Selection Sort\n",
    "def selection_sort(arr: list[int]) -> list[int]:\n",
    "    \"\"\"\n",
    "    Avg, Best, Worst Complexity - O(N^2)\n",
    "\n",
    "    For each index: 0 - (N - 1)\n",
    "        For each slice from index till array end\n",
    "            Select the minimum and put it at index (or beginning of the slice)\n",
    "    \"\"\"\n",
    "\n",
    "    N = len(arr)\n",
    "    result = [*arr]\n",
    "    for i in range(N - 1):\n",
    "        min_idx = i\n",
    "        for j in range(i + 1, N):\n",
    "            if result[min_idx] > result[j]:\n",
    "                min_idx = j\n",
    "        result[i], result[min_idx] = result[min_idx], result[i]\n",
    "    return result\n",
    "\n",
    "# Testing the algorithm\n",
    "for _ in range(5):\n",
    "    arr = np.random.randint(100, size=random.randint(50, 100)).tolist()\n",
    "    assert selection_sort(arr) == sorted(arr)"
   ]
  },
  {
   "cell_type": "code",
   "execution_count": 3,
   "id": "23fba2fa",
   "metadata": {
    "execution": {
     "iopub.execute_input": "2024-03-01T03:05:30.129525Z",
     "iopub.status.busy": "2024-03-01T03:05:30.127790Z",
     "iopub.status.idle": "2024-03-01T03:05:30.140308Z",
     "shell.execute_reply": "2024-03-01T03:05:30.138717Z"
    },
    "lines_to_next_cell": 1,
    "papermill": {
     "duration": 0.022076,
     "end_time": "2024-03-01T03:05:30.143400",
     "exception": false,
     "start_time": "2024-03-01T03:05:30.121324",
     "status": "completed"
    },
    "tags": []
   },
   "outputs": [],
   "source": [
    "# Bubble Sort\n",
    "def bubble_sort_1(arr: list[int]) -> list[int]:\n",
    "    \"\"\"\n",
    "    Avg, Best, Worst Time - O(N^2)\n",
    "\n",
    "    Best can be an avg O(N) if we optimized by breaking out\n",
    "    if didn't swap for one outer iteration - already sorted\n",
    "\n",
    "    Pushes the maximum to the last index of slice by adjacent swaps\n",
    "    \"\"\"\n",
    "    N = len(arr)\n",
    "    result = [*arr]\n",
    "    for i in range(N):\n",
    "        didSwap: bool = False\n",
    "        for j in range(N - i - 1):\n",
    "            if result[j] > result[j + 1]:\n",
    "                result[j], result[j + 1] = result[j + 1], result[j]\n",
    "                didSwap = True\n",
    "\n",
    "        # Optimizing by early breaking\n",
    "        if not didSwap:\n",
    "            break\n",
    "    return result\n",
    "\n",
    "# Testing the algorithm\n",
    "for _ in range(5):\n",
    "    arr = np.random.randint(100, size=random.randint(50, 100)).tolist()\n",
    "    assert bubble_sort_1(arr) == sorted(arr)"
   ]
  },
  {
   "cell_type": "code",
   "execution_count": 4,
   "id": "736c4faf",
   "metadata": {
    "execution": {
     "iopub.execute_input": "2024-03-01T03:05:30.152936Z",
     "iopub.status.busy": "2024-03-01T03:05:30.151738Z",
     "iopub.status.idle": "2024-03-01T03:05:30.162384Z",
     "shell.execute_reply": "2024-03-01T03:05:30.160831Z"
    },
    "lines_to_next_cell": 1,
    "papermill": {
     "duration": 0.019234,
     "end_time": "2024-03-01T03:05:30.165713",
     "exception": false,
     "start_time": "2024-03-01T03:05:30.146479",
     "status": "completed"
    },
    "tags": []
   },
   "outputs": [],
   "source": [
    "# Insertion Sort\n",
    "def insertion_sort_1(arr: list[int]) -> list[int]:\n",
    "    \"\"\"\n",
    "    Best Case - O(N) - Already sorted\n",
    "    Worst Case - O(N^2)\n",
    "\n",
    "    Takes an element and ensure that it is put\n",
    "    in the correct order\n",
    "    \"\"\"\n",
    "    N = len(arr)\n",
    "    result = [*arr]\n",
    "    for i in range(1, N):\n",
    "        curr = result[i]\n",
    "        for j in range(i - 1, -1, -1):\n",
    "            if result[j] > curr:\n",
    "                result[j + 1] = result[j]\n",
    "                result[j] = curr\n",
    "    return result\n",
    "\n",
    "# Testing the algorithm\n",
    "for _ in range(5):\n",
    "    arr = np.random.randint(100, size=random.randint(50, 100)).tolist()\n",
    "    assert insertion_sort_1(arr) == sorted(arr)"
   ]
  },
  {
   "cell_type": "markdown",
   "id": "bf92642e",
   "metadata": {
    "papermill": {
     "duration": 0.00332,
     "end_time": "2024-03-01T03:05:30.171941",
     "exception": false,
     "start_time": "2024-03-01T03:05:30.168621",
     "status": "completed"
    },
    "tags": []
   },
   "source": [
    "#### Video Link: https://www.youtube.com/watch?v=ogjf7ORKfd8&list=PLgUwDviBIf0oF6QL8m22w1hIDC1vJ_BHz&index=14"
   ]
  },
  {
   "cell_type": "code",
   "execution_count": 5,
   "id": "dca36744",
   "metadata": {
    "execution": {
     "iopub.execute_input": "2024-03-01T03:05:30.181778Z",
     "iopub.status.busy": "2024-03-01T03:05:30.180748Z",
     "iopub.status.idle": "2024-03-01T03:05:30.192546Z",
     "shell.execute_reply": "2024-03-01T03:05:30.190963Z"
    },
    "lines_to_next_cell": 1,
    "papermill": {
     "duration": 0.020374,
     "end_time": "2024-03-01T03:05:30.195667",
     "exception": false,
     "start_time": "2024-03-01T03:05:30.175293",
     "status": "completed"
    },
    "tags": []
   },
   "outputs": [],
   "source": [
    "# Merge Sort - With aux space\n",
    "def merge_sort(arr: list[int]) -> list[int]:\n",
    "    \"\"\"\n",
    "    Average, Best, Worst - O(N log N)\n",
    "    Space complexity - O (N log N)\n",
    "\n",
    "    Space complexity can be O(N) if we created a seperate func to merge that creates and deletes a\n",
    "    temp arr. This array would not be stored in the stack space, at worst take up extra O(N) space.\n",
    "    We would only be merging any two arrays at any point in time.\n",
    "\n",
    "    Divide the array and merge.\n",
    "    When merging ensure that the array is merged in correct order.\n",
    "    \"\"\"\n",
    "    N = len(arr)\n",
    "    if N <= 1:\n",
    "        return arr\n",
    "    else:\n",
    "        mid = N // 2\n",
    "        left = merge_sort(arr[:mid])\n",
    "        right = merge_sort(arr[mid:])\n",
    "        left_idx = right_idx = 0\n",
    "        result: list[int] = []\n",
    "        while left_idx < mid or right_idx < N - mid:\n",
    "            if (right_idx >= N - mid) or (left_idx < mid and left[left_idx] < right[right_idx]):\n",
    "                result.append(left[left_idx])\n",
    "                left_idx += 1\n",
    "            else:\n",
    "                result.append(right[right_idx])\n",
    "                right_idx += 1\n",
    "        return result\n",
    "\n",
    "# Testing the algorithm\n",
    "for _ in range(5):\n",
    "    arr = np.random.randint(100, size=random.randint(50, 100)).tolist()\n",
    "    assert merge_sort(arr) == sorted(arr)"
   ]
  },
  {
   "cell_type": "markdown",
   "id": "5d0a6f92",
   "metadata": {
    "papermill": {
     "duration": 0.004051,
     "end_time": "2024-03-01T03:05:30.202996",
     "exception": false,
     "start_time": "2024-03-01T03:05:30.198945",
     "status": "completed"
    },
    "tags": []
   },
   "source": [
    "#### Video Link: https://www.youtube.com/watch?v=ogjf7ORKfd8&list=PLgUwDviBIf0oF6QL8m22w1hIDC1vJ_BHz&index=14&pp=iAQB"
   ]
  },
  {
   "cell_type": "code",
   "execution_count": 6,
   "id": "db97aab6",
   "metadata": {
    "execution": {
     "iopub.execute_input": "2024-03-01T03:05:30.212068Z",
     "iopub.status.busy": "2024-03-01T03:05:30.211178Z",
     "iopub.status.idle": "2024-03-01T03:05:30.222877Z",
     "shell.execute_reply": "2024-03-01T03:05:30.221281Z"
    },
    "lines_to_next_cell": 1,
    "papermill": {
     "duration": 0.019734,
     "end_time": "2024-03-01T03:05:30.225769",
     "exception": false,
     "start_time": "2024-03-01T03:05:30.206035",
     "status": "completed"
    },
    "tags": []
   },
   "outputs": [],
   "source": [
    "# Quick Sort - Aux space\n",
    "def quick_sort_1(arr: list[int]) -> list[int]:\n",
    "    \"\"\"\n",
    "    Time complexity - O(N log N)\n",
    "    Space complexity - O(N log N)\n",
    "\n",
    "    Take a random index, ensure that every other element is correctly ordered relative to chosen index\n",
    "    Repeat same for the two sub arrays created.\n",
    "    \"\"\"\n",
    "    N = len(arr)\n",
    "    if N <= 1:\n",
    "        return arr\n",
    "    else:\n",
    "        pivot = random.randint(0, N - 1)\n",
    "        left = [arr[i] for i in range(N) if arr[i] < arr[pivot] and i != pivot]\n",
    "        right = [arr[i] for i in range(N) if arr[i] >= arr[pivot] and i != pivot]\n",
    "        merged = quick_sort_1(left) + [arr[pivot]] + quick_sort_1(right)\n",
    "        return merged\n",
    "\n",
    "# Testing the algorithm\n",
    "for _ in range(5):\n",
    "    arr = np.random.randint(100, size=random.randint(50, 100)).tolist()\n",
    "    assert quick_sort_1(arr) == sorted(arr)"
   ]
  },
  {
   "cell_type": "code",
   "execution_count": 7,
   "id": "41c03989",
   "metadata": {
    "execution": {
     "iopub.execute_input": "2024-03-01T03:05:30.234953Z",
     "iopub.status.busy": "2024-03-01T03:05:30.234002Z",
     "iopub.status.idle": "2024-03-01T03:05:30.245783Z",
     "shell.execute_reply": "2024-03-01T03:05:30.244156Z"
    },
    "lines_to_next_cell": 1,
    "papermill": {
     "duration": 0.019336,
     "end_time": "2024-03-01T03:05:30.248146",
     "exception": false,
     "start_time": "2024-03-01T03:05:30.228810",
     "status": "completed"
    },
    "tags": []
   },
   "outputs": [],
   "source": [
    "# Quick Sort - In place\n",
    "def quick_sort_2(arr: list[int], low: int, high: int):\n",
    "    \"\"\"\n",
    "    Time complexity - O (N log N)\n",
    "    Space complexity - O (N)\n",
    "    \"\"\"\n",
    "    def partition(arr: list[int], low: int, high: int):\n",
    "        pivot = low\n",
    "        i, j = low, high\n",
    "        while i < j:\n",
    "            # Move i right until we find an element greater than pivot\n",
    "            while arr[i] <= arr[pivot] and i < high:\n",
    "                i += 1\n",
    "\n",
    "            # Move j left until we find an element lesser than pivot\n",
    "            while arr[j] > arr[pivot] and j > low:\n",
    "                j -= 1\n",
    "\n",
    "            # Swap if i hasn't crossed j yet\n",
    "            if i < j:\n",
    "                arr[i], arr[j] = arr[j], arr[i]\n",
    "\n",
    "        # j is the right position for our pivot\n",
    "        arr[pivot], arr[j] = arr[j], arr[pivot]\n",
    "        return j\n",
    "\n",
    "    if low < high:\n",
    "        partition_idx = partition(arr, low, high)\n",
    "        quick_sort_2(arr, low, partition_idx - 1)\n",
    "        quick_sort_2(arr, partition_idx + 1, high)\n",
    "\n",
    "# Testing the algorithm\n",
    "for _ in range(5):\n",
    "    arr = np.random.randint(100, size=random.randint(50, 100)).tolist()\n",
    "    quick_sort_2(arr, 0, len(arr) - 1)\n",
    "    for i in range(len(arr) - 1):\n",
    "        assert arr[i] <= arr[i + 1]"
   ]
  },
  {
   "cell_type": "markdown",
   "id": "05f27db5",
   "metadata": {
    "papermill": {
     "duration": 0.004264,
     "end_time": "2024-03-01T03:05:30.255391",
     "exception": false,
     "start_time": "2024-03-01T03:05:30.251127",
     "status": "completed"
    },
    "tags": []
   },
   "source": [
    "#### Let us try to solve the two extras on the website.\n",
    "1. Recursive bubble sort\n",
    "2. Recursive insertion sort"
   ]
  },
  {
   "cell_type": "code",
   "execution_count": 8,
   "id": "46792e3d",
   "metadata": {
    "execution": {
     "iopub.execute_input": "2024-03-01T03:05:30.264926Z",
     "iopub.status.busy": "2024-03-01T03:05:30.263920Z",
     "iopub.status.idle": "2024-03-01T03:05:30.275659Z",
     "shell.execute_reply": "2024-03-01T03:05:30.274068Z"
    },
    "lines_to_next_cell": 1,
    "papermill": {
     "duration": 0.019483,
     "end_time": "2024-03-01T03:05:30.278515",
     "exception": false,
     "start_time": "2024-03-01T03:05:30.259032",
     "status": "completed"
    },
    "tags": []
   },
   "outputs": [],
   "source": [
    "# Recursive bubble sort\n",
    "def bubble_sort_2(arr: list[int], end: int):\n",
    "    if end == 0:\n",
    "        return\n",
    "    for i in range(end - 1):\n",
    "        if arr[i] > arr[i + 1]:\n",
    "            arr[i], arr[i + 1] = arr[i + 1], arr[i]\n",
    "    bubble_sort_2(arr, end - 1)\n",
    "\n",
    "# Testing the algorithm\n",
    "for _ in range(5):\n",
    "    arr = np.random.randint(100, size=random.randint(50, 100)).tolist()\n",
    "    bubble_sort_2(arr, len(arr))\n",
    "    for i in range(len(arr) - 1):\n",
    "        assert arr[i] <= arr[i + 1]"
   ]
  },
  {
   "cell_type": "code",
   "execution_count": 9,
   "id": "c854653d",
   "metadata": {
    "execution": {
     "iopub.execute_input": "2024-03-01T03:05:30.288546Z",
     "iopub.status.busy": "2024-03-01T03:05:30.287619Z",
     "iopub.status.idle": "2024-03-01T03:05:30.300015Z",
     "shell.execute_reply": "2024-03-01T03:05:30.298452Z"
    },
    "papermill": {
     "duration": 0.020865,
     "end_time": "2024-03-01T03:05:30.302735",
     "exception": false,
     "start_time": "2024-03-01T03:05:30.281870",
     "status": "completed"
    },
    "tags": []
   },
   "outputs": [],
   "source": [
    "# Recursive insertion sort\n",
    "def insertion_sort_2(arr: list[int], end: int):\n",
    "    if end < len(arr):\n",
    "        while end > 0 and arr[end - 1] > arr[end]:\n",
    "            arr[end - 1], arr[end] = arr[end], arr[end - 1]\n",
    "            end -= 1\n",
    "        insertion_sort_2(arr, end + 1)\n",
    "\n",
    "# Testing the algorithm\n",
    "for _ in range(5):\n",
    "    arr = np.random.randint(100, size=random.randint(50, 100)).tolist()\n",
    "    insertion_sort_2(arr, 0)\n",
    "    for i in range(len(arr) - 1):\n",
    "        assert arr[i] <= arr[i + 1]"
   ]
  }
 ],
 "metadata": {
  "kernelspec": {
   "display_name": "Python 3 (ipykernel)",
   "language": "python",
   "name": "python3"
  },
  "language_info": {
   "codemirror_mode": {
    "name": "ipython",
    "version": 3
   },
   "file_extension": ".py",
   "mimetype": "text/x-python",
   "name": "python",
   "nbconvert_exporter": "python",
   "pygments_lexer": "ipython3",
   "version": "3.10.13"
  },
  "papermill": {
   "default_parameters": {},
   "duration": 7.172125,
   "end_time": "2024-03-01T03:05:33.733335",
   "environment_variables": {},
   "exception": null,
   "input_path": "05-sorting.ipynb",
   "output_path": "05-sorting.ipynb",
   "parameters": {},
   "start_time": "2024-03-01T03:05:26.561210",
   "version": "2.4.0"
  }
 },
 "nbformat": 4,
 "nbformat_minor": 5
}
