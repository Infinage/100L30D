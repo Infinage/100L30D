{
 "cells": [
  {
   "cell_type": "markdown",
   "id": "3ad0b29c",
   "metadata": {
    "papermill": {
     "duration": 0.00223,
     "end_time": "2024-06-01T15:54:48.470961",
     "exception": false,
     "start_time": "2024-06-01T15:54:48.468731",
     "status": "completed"
    },
    "tags": []
   },
   "source": [
    "#### Useful imports, functions"
   ]
  },
  {
   "cell_type": "code",
   "execution_count": 1,
   "id": "9961e56c",
   "metadata": {
    "execution": {
     "iopub.execute_input": "2024-06-01T15:54:48.475692Z",
     "iopub.status.busy": "2024-06-01T15:54:48.475261Z",
     "iopub.status.idle": "2024-06-01T15:54:48.480423Z",
     "shell.execute_reply": "2024-06-01T15:54:48.480007Z"
    },
    "lines_to_next_cell": 1,
    "papermill": {
     "duration": 0.008598,
     "end_time": "2024-06-01T15:54:48.481489",
     "exception": false,
     "start_time": "2024-06-01T15:54:48.472891",
     "status": "completed"
    },
    "tags": []
   },
   "outputs": [],
   "source": [
    "import bisect\n",
    "import collections\n",
    "import itertools\n",
    "import math\n",
    "import heapq"
   ]
  },
  {
   "cell_type": "code",
   "execution_count": 2,
   "id": "386bad8d",
   "metadata": {
    "execution": {
     "iopub.execute_input": "2024-06-01T15:54:48.486073Z",
     "iopub.status.busy": "2024-06-01T15:54:48.485678Z",
     "iopub.status.idle": "2024-06-01T15:54:48.491270Z",
     "shell.execute_reply": "2024-06-01T15:54:48.490845Z"
    },
    "lines_to_next_cell": 1,
    "papermill": {
     "duration": 0.009044,
     "end_time": "2024-06-01T15:54:48.492337",
     "exception": false,
     "start_time": "2024-06-01T15:54:48.483293",
     "status": "completed"
    },
    "tags": []
   },
   "outputs": [],
   "source": [
    "class ListNode:\n",
    "    def __init__(self, val: int, next_=None):\n",
    "        self.val = val\n",
    "        self.next = next_\n",
    "\n",
    "    def __str__(self):\n",
    "        return str(self.val)\n",
    "\n",
    "    def len(self) -> int:\n",
    "        N, curr = 0, self\n",
    "        while curr is not None:\n",
    "            N, curr = N + 1, curr.next\n",
    "        return N\n",
    "\n",
    "    def tail(self) -> 'ListNode':\n",
    "        prev, curr = None, self\n",
    "        while curr:\n",
    "            prev, curr = curr, curr.next\n",
    "        return prev or curr\n",
    "\n",
    "    def to_list(self) -> list[int]:\n",
    "        result: list[int] = []\n",
    "        curr = self\n",
    "        while curr:\n",
    "            result.append(curr.val)\n",
    "            curr = curr.next\n",
    "\n",
    "        return result\n",
    "\n",
    "    @staticmethod\n",
    "    def to_singly_linked_list(nodes: list[int]) -> 'ListNode|None':\n",
    "        head = curr = None\n",
    "        for n in nodes:\n",
    "            node = ListNode(n)\n",
    "            if not head:\n",
    "                head = curr = node\n",
    "            else:\n",
    "                curr.next = node\n",
    "                curr = curr.next\n",
    "\n",
    "        return head"
   ]
  },
  {
   "cell_type": "markdown",
   "id": "96923fbe",
   "metadata": {
    "papermill": {
     "duration": 0.001807,
     "end_time": "2024-06-01T15:54:48.495921",
     "exception": false,
     "start_time": "2024-06-01T15:54:48.494114",
     "status": "completed"
    },
    "tags": []
   },
   "source": [
    "Print all divisors of a number\n",
    "Video Link: https://youtu.be/Ae_Ag_saG9s?si=ehTTFV59EVSKChY2"
   ]
  },
  {
   "cell_type": "code",
   "execution_count": 3,
   "id": "fec7e081",
   "metadata": {
    "execution": {
     "iopub.execute_input": "2024-06-01T15:54:48.500368Z",
     "iopub.status.busy": "2024-06-01T15:54:48.499947Z",
     "iopub.status.idle": "2024-06-01T15:54:48.503555Z",
     "shell.execute_reply": "2024-06-01T15:54:48.503040Z"
    },
    "lines_to_next_cell": 1,
    "papermill": {
     "duration": 0.007015,
     "end_time": "2024-06-01T15:54:48.504691",
     "exception": false,
     "start_time": "2024-06-01T15:54:48.497676",
     "status": "completed"
    },
    "tags": []
   },
   "outputs": [],
   "source": [
    "def printAllDivisorsBrute(N: int) -> list[int]:\n",
    "    result: list[int] = []\n",
    "    for i in range(1, N + 1):\n",
    "        if N % i == 0:\n",
    "            result.append(i)\n",
    "\n",
    "    return result\n",
    "\n",
    "# Testing the solution\n",
    "assert printAllDivisorsBrute(10) == [1, 2, 5, 10]"
   ]
  },
  {
   "cell_type": "code",
   "execution_count": 4,
   "id": "8383037d",
   "metadata": {
    "execution": {
     "iopub.execute_input": "2024-06-01T15:54:48.509342Z",
     "iopub.status.busy": "2024-06-01T15:54:48.508939Z",
     "iopub.status.idle": "2024-06-01T15:54:48.513341Z",
     "shell.execute_reply": "2024-06-01T15:54:48.512923Z"
    },
    "lines_to_next_cell": 1,
    "papermill": {
     "duration": 0.007885,
     "end_time": "2024-06-01T15:54:48.514419",
     "exception": false,
     "start_time": "2024-06-01T15:54:48.506534",
     "status": "completed"
    },
    "tags": []
   },
   "outputs": [],
   "source": [
    "def printAllDivisorsBetter(N: int) -> list[int]:\n",
    "    result: ListNode = ListNode(-1)\n",
    "    i, curr = 1, result\n",
    "    while i * i <= N:\n",
    "        if N % i == 0:\n",
    "            if i != N // i:\n",
    "                div1, div2 = ListNode(i), ListNode(N // i)\n",
    "                next_ = curr.next\n",
    "                curr.next, div1.next, div2.next = div1, div2, next_\n",
    "            else:\n",
    "                div = ListNode(i)\n",
    "                next_ = curr.next\n",
    "                curr.next, div.next = div, next_\n",
    "\n",
    "            curr = curr.next\n",
    "\n",
    "        i += 1\n",
    "\n",
    "    return result.next.to_list() if result.next else []\n",
    "\n",
    "# Testing the solution\n",
    "assert printAllDivisorsBetter(10) == [1, 2, 5, 10]\n",
    "assert printAllDivisorsBetter(25) == [1,5,25]"
   ]
  },
  {
   "cell_type": "markdown",
   "id": "812f02d7",
   "metadata": {
    "papermill": {
     "duration": 0.002663,
     "end_time": "2024-06-01T15:54:48.518906",
     "exception": false,
     "start_time": "2024-06-01T15:54:48.516243",
     "status": "completed"
    },
    "tags": []
   },
   "source": [
    "Check if number is prime or not\n",
    "Video Link: https://youtu.be/MJcckSfoYdI?si=AkCS-hvE9foXQ0KX"
   ]
  },
  {
   "cell_type": "code",
   "execution_count": 5,
   "id": "823de68c",
   "metadata": {
    "execution": {
     "iopub.execute_input": "2024-06-01T15:54:48.523562Z",
     "iopub.status.busy": "2024-06-01T15:54:48.523137Z",
     "iopub.status.idle": "2024-06-01T15:54:48.527138Z",
     "shell.execute_reply": "2024-06-01T15:54:48.526616Z"
    },
    "lines_to_next_cell": 1,
    "papermill": {
     "duration": 0.007574,
     "end_time": "2024-06-01T15:54:48.528293",
     "exception": false,
     "start_time": "2024-06-01T15:54:48.520719",
     "status": "completed"
    },
    "tags": []
   },
   "outputs": [],
   "source": [
    "def isPrime(N: int) -> bool:\n",
    "    \"\"\"\n",
    "    A number is prime if it is divisible by 1 and itself\n",
    "    and the total number of divisors is exactly 2.\n",
    "    \"\"\"\n",
    "    cnt, i = 0, 1\n",
    "    while i * i <= N:\n",
    "        if N % i == 0:\n",
    "            if i == N // i:\n",
    "                cnt += 1\n",
    "            else:\n",
    "                cnt += 2\n",
    "        i += 1\n",
    "\n",
    "    return cnt == 2\n",
    "\n",
    "# Testing the solution\n",
    "assert all([isPrime(11), isPrime(2), isPrime(3)])\n",
    "assert not any([isPrime(1), isPrime(4), isPrime(6)])"
   ]
  },
  {
   "cell_type": "markdown",
   "id": "4951373b",
   "metadata": {
    "papermill": {
     "duration": 0.001868,
     "end_time": "2024-06-01T15:54:48.532035",
     "exception": false,
     "start_time": "2024-06-01T15:54:48.530167",
     "status": "completed"
    },
    "tags": []
   },
   "source": [
    "Print all prime factors of a number\n",
    "Video Link: https://youtu.be/LT7XhVdeRyg?si=OTryhgbEtQODhgBJ"
   ]
  },
  {
   "cell_type": "code",
   "execution_count": 6,
   "id": "0f0aa99e",
   "metadata": {
    "execution": {
     "iopub.execute_input": "2024-06-01T15:54:48.536740Z",
     "iopub.status.busy": "2024-06-01T15:54:48.536321Z",
     "iopub.status.idle": "2024-06-01T15:54:48.540971Z",
     "shell.execute_reply": "2024-06-01T15:54:48.540413Z"
    },
    "lines_to_next_cell": 1,
    "papermill": {
     "duration": 0.008084,
     "end_time": "2024-06-01T15:54:48.542013",
     "exception": false,
     "start_time": "2024-06-01T15:54:48.533929",
     "status": "completed"
    },
    "tags": []
   },
   "outputs": [],
   "source": [
    "def printAllPrimeFactorsBrute(N: int) -> list[int]:\n",
    "    \"\"\"\n",
    "    Time: O(sqrt(N) x sqrt(N)) ~ O(N), Space: Depends on problem\n",
    "    \"\"\"\n",
    "    def _isPrime(n: int) -> bool:\n",
    "        divisor_count, i = 0, 1\n",
    "        while i * i <= n:\n",
    "            if n % i == 0:\n",
    "                divisor_count += 1 if i == n // i else 2\n",
    "            i += 1\n",
    "        return divisor_count == 2\n",
    "\n",
    "    result: list[int] = []\n",
    "    i = 1\n",
    "    while i * i <= N:\n",
    "        if N % i == 0:\n",
    "            if _isPrime(i):\n",
    "                result.append(i)\n",
    "            if _isPrime(N // i):\n",
    "                if not result or result[-1] != N // i:\n",
    "                    result.append(N // i)\n",
    "        i += 1\n",
    "\n",
    "    return result\n",
    "\n",
    "# Testing the solution\n",
    "assert printAllPrimeFactorsBrute(100) == [2, 5]\n",
    "assert printAllPrimeFactorsBrute(20) == [2, 5]"
   ]
  },
  {
   "cell_type": "code",
   "execution_count": 7,
   "id": "8541747e",
   "metadata": {
    "execution": {
     "iopub.execute_input": "2024-06-01T15:54:48.546705Z",
     "iopub.status.busy": "2024-06-01T15:54:48.546334Z",
     "iopub.status.idle": "2024-06-01T15:54:48.549975Z",
     "shell.execute_reply": "2024-06-01T15:54:48.549539Z"
    },
    "lines_to_next_cell": 1,
    "papermill": {
     "duration": 0.007117,
     "end_time": "2024-06-01T15:54:48.551061",
     "exception": false,
     "start_time": "2024-06-01T15:54:48.543944",
     "status": "completed"
    },
    "tags": []
   },
   "outputs": [],
   "source": [
    "def printAllPrimeFactorsBetter(N: int) -> list[int]:\n",
    "    \"\"\"\n",
    "    Following the method of Prime Factorisation.\n",
    "\n",
    "    1. Iterate from 2 -> N\n",
    "    2. If i is divisible, add to list of primes and N until it is no longer divisible.\n",
    "    3. Repeat until N becomes 1.\n",
    "\n",
    "    Time: O(N x log N) for prime numbers otherwise O(sqrt N x log N)\n",
    "    We say log N due to the division part\n",
    "    \"\"\"\n",
    "    result: list[int] = []\n",
    "    i = 2\n",
    "    while i <= N:\n",
    "        if N % i == 0:\n",
    "            result.append(i)\n",
    "            while N % i == 0:\n",
    "                N //= i\n",
    "        i += 1\n",
    "\n",
    "    return result\n",
    "\n",
    "# Testing the solution\n",
    "assert printAllPrimeFactorsBetter(100) == [2, 5]\n",
    "assert printAllPrimeFactorsBetter(20) == [2, 5]"
   ]
  },
  {
   "cell_type": "code",
   "execution_count": 8,
   "id": "0e4148f1",
   "metadata": {
    "execution": {
     "iopub.execute_input": "2024-06-01T15:54:48.555765Z",
     "iopub.status.busy": "2024-06-01T15:54:48.555395Z",
     "iopub.status.idle": "2024-06-01T15:54:48.559393Z",
     "shell.execute_reply": "2024-06-01T15:54:48.558875Z"
    },
    "lines_to_next_cell": 1,
    "papermill": {
     "duration": 0.00757,
     "end_time": "2024-06-01T15:54:48.560516",
     "exception": false,
     "start_time": "2024-06-01T15:54:48.552946",
     "status": "completed"
    },
    "tags": []
   },
   "outputs": [],
   "source": [
    "def printAllPrimeFactorsOptimal(N: int) -> list[int]:\n",
    "    \"\"\"\n",
    "    Instead of running the loop N times as previously in the worst case scenarios, we run it for sqrt N time only.\n",
    "    Time: O(sqrt N x log N)\n",
    "    \"\"\"\n",
    "    result: list[int] = []\n",
    "    i = 2\n",
    "    while i * i <= N:\n",
    "        if N % i == 0:\n",
    "            result.append(i)\n",
    "            while N % i == 0:\n",
    "                N //= i\n",
    "        i += 1\n",
    "\n",
    "    # If N is not 1, means that it is a prime and it is only divisible by itself\n",
    "    if N != 1:\n",
    "        result.append(N)\n",
    "\n",
    "    return result\n",
    "\n",
    "# Testing the solution\n",
    "assert printAllPrimeFactorsOptimal(100) == [2, 5]\n",
    "assert printAllPrimeFactorsOptimal(20) == [2, 5]"
   ]
  },
  {
   "cell_type": "markdown",
   "id": "edf4e63b",
   "metadata": {
    "papermill": {
     "duration": 0.001864,
     "end_time": "2024-06-01T15:54:48.564339",
     "exception": false,
     "start_time": "2024-06-01T15:54:48.562475",
     "status": "completed"
    },
    "tags": []
   },
   "source": [
    "Pow (x, n): https://leetcode.com/problems/powx-n/description\n",
    "Video Link: https://youtu.be/hFWckDXE-K8?si=LH7JBhjzO3jP8NyC"
   ]
  },
  {
   "cell_type": "code",
   "execution_count": 9,
   "id": "4c3c0361",
   "metadata": {
    "execution": {
     "iopub.execute_input": "2024-06-01T15:54:48.569112Z",
     "iopub.status.busy": "2024-06-01T15:54:48.568694Z",
     "iopub.status.idle": "2024-06-01T15:54:48.572255Z",
     "shell.execute_reply": "2024-06-01T15:54:48.571843Z"
    },
    "lines_to_next_cell": 1,
    "papermill": {
     "duration": 0.007027,
     "end_time": "2024-06-01T15:54:48.573284",
     "exception": false,
     "start_time": "2024-06-01T15:54:48.566257",
     "status": "completed"
    },
    "tags": []
   },
   "outputs": [],
   "source": [
    "def myPowRecursive(x: float, n: int) -> float:\n",
    "    \"\"\"\n",
    "    If n is odd, we make sure that it is even by multiplying result with x and decreasing n by 1.\n",
    "    If n is even, square x and divide n by 2. For eg: 2 ** 10 => (2 * 2) ** 5\n",
    "\n",
    "    Go until n == 0\n",
    "\n",
    "    Time: O (log N)\n",
    "    \"\"\"\n",
    "    if n == 0:\n",
    "        return 1\n",
    "    elif n < 0:\n",
    "        return 1/myPowRecursive(x, -n)\n",
    "    elif n % 2:\n",
    "        return x * myPowRecursive(x, n - 1)\n",
    "    else:\n",
    "        return myPowRecursive(x * x, n // 2)\n",
    "\n",
    "# Testing the solution\n",
    "assert myPowRecursive(2, -3) == 0.125"
   ]
  },
  {
   "cell_type": "code",
   "execution_count": 10,
   "id": "e9038b75",
   "metadata": {
    "execution": {
     "iopub.execute_input": "2024-06-01T15:54:48.578534Z",
     "iopub.status.busy": "2024-06-01T15:54:48.578055Z",
     "iopub.status.idle": "2024-06-01T15:54:48.581806Z",
     "shell.execute_reply": "2024-06-01T15:54:48.581241Z"
    },
    "papermill": {
     "duration": 0.007407,
     "end_time": "2024-06-01T15:54:48.582837",
     "exception": false,
     "start_time": "2024-06-01T15:54:48.575430",
     "status": "completed"
    },
    "tags": []
   },
   "outputs": [],
   "source": [
    "# https://leetcode.com/problems/powx-n/submissions/1274302653\n",
    "def myPow(x: float, n: int) -> float:\n",
    "    initial, n = n, abs(n)\n",
    "    result: float = 1\n",
    "    while n > 0:\n",
    "        # Odd\n",
    "        if n % 2 == 1:\n",
    "            result *= x\n",
    "            n -= 1\n",
    "        # Even\n",
    "        else:\n",
    "            x *= x\n",
    "            n //= 2\n",
    "\n",
    "    return result if initial > 0 else 1 / result\n",
    "\n",
    "# Testing the solution\n",
    "assert myPow(2, -3) == pow(2, -3)"
   ]
  }
 ],
 "metadata": {
  "kernelspec": {
   "display_name": "Python 3 (ipykernel)",
   "language": "python",
   "name": "python3"
  },
  "language_info": {
   "codemirror_mode": {
    "name": "ipython",
    "version": 3
   },
   "file_extension": ".py",
   "mimetype": "text/x-python",
   "name": "python",
   "nbconvert_exporter": "python",
   "pygments_lexer": "ipython3",
   "version": "3.11.9"
  },
  "papermill": {
   "default_parameters": {},
   "duration": 1.382589,
   "end_time": "2024-06-01T15:54:48.699579",
   "environment_variables": {},
   "exception": null,
   "input_path": "study/striver-A2Z/15-math.ipynb",
   "output_path": "study/striver-A2Z/15-math.ipynb",
   "parameters": {},
   "start_time": "2024-06-01T15:54:47.316990",
   "version": "2.6.0"
  }
 },
 "nbformat": 4,
 "nbformat_minor": 5
}