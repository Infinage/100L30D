{
 "cells": [
  {
   "cell_type": "markdown",
   "id": "3ad0b29c",
   "metadata": {
    "papermill": {
     "duration": 0.003923,
     "end_time": "2024-06-02T17:58:18.365285",
     "exception": false,
     "start_time": "2024-06-02T17:58:18.361362",
     "status": "completed"
    },
    "tags": []
   },
   "source": [
    "#### Useful imports, functions"
   ]
  },
  {
   "cell_type": "code",
   "execution_count": 1,
   "id": "9961e56c",
   "metadata": {
    "execution": {
     "iopub.execute_input": "2024-06-02T17:58:18.372400Z",
     "iopub.status.busy": "2024-06-02T17:58:18.372058Z",
     "iopub.status.idle": "2024-06-02T17:58:18.377485Z",
     "shell.execute_reply": "2024-06-02T17:58:18.377056Z"
    },
    "lines_to_next_cell": 1,
    "papermill": {
     "duration": 0.010238,
     "end_time": "2024-06-02T17:58:18.378602",
     "exception": false,
     "start_time": "2024-06-02T17:58:18.368364",
     "status": "completed"
    },
    "tags": []
   },
   "outputs": [],
   "source": [
    "import bisect\n",
    "import collections\n",
    "import itertools\n",
    "import math\n",
    "import heapq"
   ]
  },
  {
   "cell_type": "code",
   "execution_count": 2,
   "id": "386bad8d",
   "metadata": {
    "execution": {
     "iopub.execute_input": "2024-06-02T17:58:18.385677Z",
     "iopub.status.busy": "2024-06-02T17:58:18.385288Z",
     "iopub.status.idle": "2024-06-02T17:58:18.390914Z",
     "shell.execute_reply": "2024-06-02T17:58:18.390393Z"
    },
    "lines_to_next_cell": 1,
    "papermill": {
     "duration": 0.010243,
     "end_time": "2024-06-02T17:58:18.391941",
     "exception": false,
     "start_time": "2024-06-02T17:58:18.381698",
     "status": "completed"
    },
    "tags": []
   },
   "outputs": [],
   "source": [
    "class ListNode:\n",
    "    def __init__(self, val: int, next_=None):\n",
    "        self.val = val\n",
    "        self.next = next_\n",
    "\n",
    "    def __str__(self):\n",
    "        return str(self.val)\n",
    "\n",
    "    def len(self) -> int:\n",
    "        N, curr = 0, self\n",
    "        while curr is not None:\n",
    "            N, curr = N + 1, curr.next\n",
    "        return N\n",
    "\n",
    "    def tail(self) -> 'ListNode':\n",
    "        prev, curr = None, self\n",
    "        while curr:\n",
    "            prev, curr = curr, curr.next\n",
    "        return prev or curr\n",
    "\n",
    "    def to_list(self) -> list[int]:\n",
    "        result: list[int] = []\n",
    "        curr = self\n",
    "        while curr:\n",
    "            result.append(curr.val)\n",
    "            curr = curr.next\n",
    "\n",
    "        return result\n",
    "\n",
    "    @staticmethod\n",
    "    def to_singly_linked_list(nodes: list[int]) -> 'ListNode|None':\n",
    "        head = curr = None\n",
    "        for n in nodes:\n",
    "            node = ListNode(n)\n",
    "            if not head:\n",
    "                head = curr = node\n",
    "            else:\n",
    "                curr.next = node\n",
    "                curr = curr.next\n",
    "\n",
    "        return head"
   ]
  },
  {
   "cell_type": "markdown",
   "id": "96923fbe",
   "metadata": {
    "papermill": {
     "duration": 0.003001,
     "end_time": "2024-06-02T17:58:18.397896",
     "exception": false,
     "start_time": "2024-06-02T17:58:18.394895",
     "status": "completed"
    },
    "tags": []
   },
   "source": [
    "Print all divisors of a number\n",
    "Video Link: https://youtu.be/Ae_Ag_saG9s?si=ehTTFV59EVSKChY2"
   ]
  },
  {
   "cell_type": "code",
   "execution_count": 3,
   "id": "fec7e081",
   "metadata": {
    "execution": {
     "iopub.execute_input": "2024-06-02T17:58:18.404688Z",
     "iopub.status.busy": "2024-06-02T17:58:18.404417Z",
     "iopub.status.idle": "2024-06-02T17:58:18.407980Z",
     "shell.execute_reply": "2024-06-02T17:58:18.407522Z"
    },
    "lines_to_next_cell": 1,
    "papermill": {
     "duration": 0.008261,
     "end_time": "2024-06-02T17:58:18.409114",
     "exception": false,
     "start_time": "2024-06-02T17:58:18.400853",
     "status": "completed"
    },
    "tags": []
   },
   "outputs": [],
   "source": [
    "def printAllDivisorsBrute(N: int) -> list[int]:\n",
    "    result: list[int] = []\n",
    "    for i in range(1, N + 1):\n",
    "        if N % i == 0:\n",
    "            result.append(i)\n",
    "\n",
    "    return result\n",
    "\n",
    "# Testing the solution\n",
    "assert printAllDivisorsBrute(10) == [1, 2, 5, 10]"
   ]
  },
  {
   "cell_type": "code",
   "execution_count": 4,
   "id": "8383037d",
   "metadata": {
    "execution": {
     "iopub.execute_input": "2024-06-02T17:58:18.417065Z",
     "iopub.status.busy": "2024-06-02T17:58:18.416639Z",
     "iopub.status.idle": "2024-06-02T17:58:18.421260Z",
     "shell.execute_reply": "2024-06-02T17:58:18.420765Z"
    },
    "lines_to_next_cell": 1,
    "papermill": {
     "duration": 0.009366,
     "end_time": "2024-06-02T17:58:18.422383",
     "exception": false,
     "start_time": "2024-06-02T17:58:18.413017",
     "status": "completed"
    },
    "tags": []
   },
   "outputs": [],
   "source": [
    "def printAllDivisorsBetter(N: int) -> list[int]:\n",
    "    result: ListNode = ListNode(-1)\n",
    "    i, curr = 1, result\n",
    "    while i * i <= N:\n",
    "        if N % i == 0:\n",
    "            if i != N // i:\n",
    "                div1, div2 = ListNode(i), ListNode(N // i)\n",
    "                next_ = curr.next\n",
    "                curr.next, div1.next, div2.next = div1, div2, next_\n",
    "            else:\n",
    "                div = ListNode(i)\n",
    "                next_ = curr.next\n",
    "                curr.next, div.next = div, next_\n",
    "\n",
    "            curr = curr.next\n",
    "\n",
    "        i += 1\n",
    "\n",
    "    return result.next.to_list() if result.next else []\n",
    "\n",
    "# Testing the solution\n",
    "assert printAllDivisorsBetter(10) == [1, 2, 5, 10]\n",
    "assert printAllDivisorsBetter(25) == [1,5,25]"
   ]
  },
  {
   "cell_type": "markdown",
   "id": "812f02d7",
   "metadata": {
    "papermill": {
     "duration": 0.003022,
     "end_time": "2024-06-02T17:58:18.428424",
     "exception": false,
     "start_time": "2024-06-02T17:58:18.425402",
     "status": "completed"
    },
    "tags": []
   },
   "source": [
    "Check if number is prime or not\n",
    "Video Link: https://youtu.be/MJcckSfoYdI?si=AkCS-hvE9foXQ0KX"
   ]
  },
  {
   "cell_type": "code",
   "execution_count": 5,
   "id": "823de68c",
   "metadata": {
    "execution": {
     "iopub.execute_input": "2024-06-02T17:58:18.435411Z",
     "iopub.status.busy": "2024-06-02T17:58:18.434968Z",
     "iopub.status.idle": "2024-06-02T17:58:18.439143Z",
     "shell.execute_reply": "2024-06-02T17:58:18.438712Z"
    },
    "lines_to_next_cell": 1,
    "papermill": {
     "duration": 0.00886,
     "end_time": "2024-06-02T17:58:18.440250",
     "exception": false,
     "start_time": "2024-06-02T17:58:18.431390",
     "status": "completed"
    },
    "tags": []
   },
   "outputs": [],
   "source": [
    "def isPrime(N: int) -> bool:\n",
    "    \"\"\"\n",
    "    A number is prime if it is divisible by 1 and itself\n",
    "    and the total number of divisors is exactly 2.\n",
    "    \"\"\"\n",
    "    cnt, i = 0, 1\n",
    "    while i * i <= N:\n",
    "        if N % i == 0:\n",
    "            if i == N // i:\n",
    "                cnt += 1\n",
    "            else:\n",
    "                cnt += 2\n",
    "        i += 1\n",
    "\n",
    "    return cnt == 2\n",
    "\n",
    "# Testing the solution\n",
    "assert all([isPrime(11), isPrime(2), isPrime(3)])\n",
    "assert not any([isPrime(1), isPrime(4), isPrime(6)])"
   ]
  },
  {
   "cell_type": "markdown",
   "id": "4951373b",
   "metadata": {
    "papermill": {
     "duration": 0.002914,
     "end_time": "2024-06-02T17:58:18.446243",
     "exception": false,
     "start_time": "2024-06-02T17:58:18.443329",
     "status": "completed"
    },
    "tags": []
   },
   "source": [
    "Print all prime factors of a number\n",
    "Video Link: https://youtu.be/LT7XhVdeRyg?si=OTryhgbEtQODhgBJ"
   ]
  },
  {
   "cell_type": "code",
   "execution_count": 6,
   "id": "0f0aa99e",
   "metadata": {
    "execution": {
     "iopub.execute_input": "2024-06-02T17:58:18.453476Z",
     "iopub.status.busy": "2024-06-02T17:58:18.453037Z",
     "iopub.status.idle": "2024-06-02T17:58:18.457954Z",
     "shell.execute_reply": "2024-06-02T17:58:18.457484Z"
    },
    "lines_to_next_cell": 1,
    "papermill": {
     "duration": 0.009636,
     "end_time": "2024-06-02T17:58:18.459033",
     "exception": false,
     "start_time": "2024-06-02T17:58:18.449397",
     "status": "completed"
    },
    "tags": []
   },
   "outputs": [],
   "source": [
    "def printAllPrimeFactorsBrute(N: int) -> list[int]:\n",
    "    \"\"\"\n",
    "    Time: O(sqrt(N) x sqrt(N)) ~ O(N), Space: Depends on problem\n",
    "    \"\"\"\n",
    "    def _isPrime(n: int) -> bool:\n",
    "        divisor_count, i = 0, 1\n",
    "        while i * i <= n:\n",
    "            if n % i == 0:\n",
    "                divisor_count += 1 if i == n // i else 2\n",
    "            i += 1\n",
    "        return divisor_count == 2\n",
    "\n",
    "    result: list[int] = []\n",
    "    i = 1\n",
    "    while i * i <= N:\n",
    "        if N % i == 0:\n",
    "            if _isPrime(i):\n",
    "                result.append(i)\n",
    "            if _isPrime(N // i):\n",
    "                if not result or result[-1] != N // i:\n",
    "                    result.append(N // i)\n",
    "        i += 1\n",
    "\n",
    "    return result\n",
    "\n",
    "# Testing the solution\n",
    "assert printAllPrimeFactorsBrute(100) == [2, 5]\n",
    "assert printAllPrimeFactorsBrute(20) == [2, 5]"
   ]
  },
  {
   "cell_type": "code",
   "execution_count": 7,
   "id": "8541747e",
   "metadata": {
    "execution": {
     "iopub.execute_input": "2024-06-02T17:58:18.465939Z",
     "iopub.status.busy": "2024-06-02T17:58:18.465556Z",
     "iopub.status.idle": "2024-06-02T17:58:18.469308Z",
     "shell.execute_reply": "2024-06-02T17:58:18.468793Z"
    },
    "lines_to_next_cell": 1,
    "papermill": {
     "duration": 0.008348,
     "end_time": "2024-06-02T17:58:18.470346",
     "exception": false,
     "start_time": "2024-06-02T17:58:18.461998",
     "status": "completed"
    },
    "tags": []
   },
   "outputs": [],
   "source": [
    "def printAllPrimeFactorsBetter(N: int) -> list[int]:\n",
    "    \"\"\"\n",
    "    Following the method of Prime Factorisation.\n",
    "\n",
    "    1. Iterate from 2 -> N\n",
    "    2. If i is divisible, add to list of primes and N until it is no longer divisible.\n",
    "    3. Repeat until N becomes 1.\n",
    "\n",
    "    Time: O(N x log N) for prime numbers otherwise O(sqrt N x log N)\n",
    "    We say log N due to the division part\n",
    "    \"\"\"\n",
    "    result: list[int] = []\n",
    "    i = 2\n",
    "    while i <= N:\n",
    "        if N % i == 0:\n",
    "            result.append(i)\n",
    "            while N % i == 0:\n",
    "                N //= i\n",
    "        i += 1\n",
    "\n",
    "    return result\n",
    "\n",
    "# Testing the solution\n",
    "assert printAllPrimeFactorsBetter(100) == [2, 5]\n",
    "assert printAllPrimeFactorsBetter(20) == [2, 5]"
   ]
  },
  {
   "cell_type": "code",
   "execution_count": 8,
   "id": "0e4148f1",
   "metadata": {
    "execution": {
     "iopub.execute_input": "2024-06-02T17:58:18.477474Z",
     "iopub.status.busy": "2024-06-02T17:58:18.477134Z",
     "iopub.status.idle": "2024-06-02T17:58:18.480984Z",
     "shell.execute_reply": "2024-06-02T17:58:18.480572Z"
    },
    "lines_to_next_cell": 1,
    "papermill": {
     "duration": 0.00863,
     "end_time": "2024-06-02T17:58:18.482047",
     "exception": false,
     "start_time": "2024-06-02T17:58:18.473417",
     "status": "completed"
    },
    "tags": []
   },
   "outputs": [],
   "source": [
    "def printAllPrimeFactorsOptimal(N: int) -> list[int]:\n",
    "    \"\"\"\n",
    "    Instead of running the loop N times as previously in the worst case scenarios, we run it for sqrt N time only.\n",
    "    Time: O(sqrt N x log N)\n",
    "    \"\"\"\n",
    "    result: list[int] = []\n",
    "    i = 2\n",
    "    while i * i <= N:\n",
    "        if N % i == 0:\n",
    "            result.append(i)\n",
    "            while N % i == 0:\n",
    "                N //= i\n",
    "        i += 1\n",
    "\n",
    "    # If N is not 1, means that it is a prime and it is only divisible by itself\n",
    "    if N != 1:\n",
    "        result.append(N)\n",
    "\n",
    "    return result\n",
    "\n",
    "# Testing the solution\n",
    "assert printAllPrimeFactorsOptimal(100) == [2, 5]\n",
    "assert printAllPrimeFactorsOptimal(20) == [2, 5]"
   ]
  },
  {
   "cell_type": "markdown",
   "id": "edf4e63b",
   "metadata": {
    "papermill": {
     "duration": 0.002979,
     "end_time": "2024-06-02T17:58:18.488053",
     "exception": false,
     "start_time": "2024-06-02T17:58:18.485074",
     "status": "completed"
    },
    "tags": []
   },
   "source": [
    "Pow (x, n): https://leetcode.com/problems/powx-n/description\n",
    "Video Link: https://youtu.be/hFWckDXE-K8?si=LH7JBhjzO3jP8NyC"
   ]
  },
  {
   "cell_type": "code",
   "execution_count": 9,
   "id": "4c3c0361",
   "metadata": {
    "execution": {
     "iopub.execute_input": "2024-06-02T17:58:18.495064Z",
     "iopub.status.busy": "2024-06-02T17:58:18.494632Z",
     "iopub.status.idle": "2024-06-02T17:58:18.498535Z",
     "shell.execute_reply": "2024-06-02T17:58:18.498098Z"
    },
    "lines_to_next_cell": 1,
    "papermill": {
     "duration": 0.008601,
     "end_time": "2024-06-02T17:58:18.499605",
     "exception": false,
     "start_time": "2024-06-02T17:58:18.491004",
     "status": "completed"
    },
    "tags": []
   },
   "outputs": [],
   "source": [
    "def myPowRecursive(x: float, n: int) -> float:\n",
    "    \"\"\"\n",
    "    If n is odd, we make sure that it is even by multiplying result with x and decreasing n by 1.\n",
    "    If n is even, square x and divide n by 2. For eg: 2 ** 10 => (2 * 2) ** 5\n",
    "\n",
    "    Go until n == 0\n",
    "\n",
    "    Time: O (log N)\n",
    "    \"\"\"\n",
    "    if n == 0:\n",
    "        return 1\n",
    "    elif n < 0:\n",
    "        return 1/myPowRecursive(x, -n)\n",
    "    elif n % 2:\n",
    "        return x * myPowRecursive(x, n - 1)\n",
    "    else:\n",
    "        return myPowRecursive(x * x, n // 2)\n",
    "\n",
    "# Testing the solution\n",
    "assert myPowRecursive(2, -3) == 0.125"
   ]
  },
  {
   "cell_type": "code",
   "execution_count": 10,
   "id": "e9038b75",
   "metadata": {
    "execution": {
     "iopub.execute_input": "2024-06-02T17:58:18.509175Z",
     "iopub.status.busy": "2024-06-02T17:58:18.508708Z",
     "iopub.status.idle": "2024-06-02T17:58:18.512771Z",
     "shell.execute_reply": "2024-06-02T17:58:18.512220Z"
    },
    "lines_to_next_cell": 1,
    "papermill": {
     "duration": 0.01133,
     "end_time": "2024-06-02T17:58:18.513944",
     "exception": false,
     "start_time": "2024-06-02T17:58:18.502614",
     "status": "completed"
    },
    "tags": []
   },
   "outputs": [],
   "source": [
    "# https://leetcode.com/problems/powx-n/submissions/1274302653\n",
    "def myPow(x: float, n: int) -> float:\n",
    "    initial, n = n, abs(n)\n",
    "    result: float = 1\n",
    "    while n > 0:\n",
    "        # Odd\n",
    "        if n % 2 == 1:\n",
    "            result *= x\n",
    "            n -= 1\n",
    "        # Even\n",
    "        else:\n",
    "            x *= x\n",
    "            n //= 2\n",
    "\n",
    "    return result if initial > 0 else 1 / result\n",
    "\n",
    "# Testing the solution\n",
    "assert myPow(2, -3) == pow(2, -3)"
   ]
  },
  {
   "cell_type": "markdown",
   "id": "11ca53d4",
   "metadata": {
    "papermill": {
     "duration": 0.003332,
     "end_time": "2024-06-02T17:58:18.520482",
     "exception": false,
     "start_time": "2024-06-02T17:58:18.517150",
     "status": "completed"
    },
    "tags": []
   },
   "source": [
    "Print all primes uptil N\n",
    "Video link: https://youtu.be/g5Fuxn_AvSk?si=cwI7gb6AFroVePX9"
   ]
  },
  {
   "cell_type": "code",
   "execution_count": 11,
   "id": "27f1cd7f",
   "metadata": {
    "execution": {
     "iopub.execute_input": "2024-06-02T17:58:18.528122Z",
     "iopub.status.busy": "2024-06-02T17:58:18.527735Z",
     "iopub.status.idle": "2024-06-02T17:58:18.532500Z",
     "shell.execute_reply": "2024-06-02T17:58:18.532005Z"
    },
    "lines_to_next_cell": 1,
    "papermill": {
     "duration": 0.009879,
     "end_time": "2024-06-02T17:58:18.533597",
     "exception": false,
     "start_time": "2024-06-02T17:58:18.523718",
     "status": "completed"
    },
    "tags": []
   },
   "outputs": [],
   "source": [
    "def printAllPrimesBrute(N: int) -> list[int]:\n",
    "    # Time: O(N x sqrt N)\n",
    "    def _is_prime(num: int) -> bool:\n",
    "        cnt, i = 0, 1\n",
    "        while i * i <= num:\n",
    "            if num % i == 0:\n",
    "                cnt += 1 if i == num // i else 2\n",
    "            i += 1\n",
    "\n",
    "        return cnt == 2\n",
    "\n",
    "    # Iterate through all and check for primality\n",
    "    result: list[int] = []\n",
    "    for n in range(2, N + 1):\n",
    "        if _is_prime(n):\n",
    "            result.append(n)\n",
    "    return result\n",
    "\n",
    "# Testing the solution\n",
    "assert printAllPrimesBrute(50) == [2,3,5,7,11,13,17,19,23,29,31,37,41,43,47]\n",
    "assert printAllPrimesBrute(20) == [2,3,5,7,11,13,17,19]"
   ]
  },
  {
   "cell_type": "code",
   "execution_count": 12,
   "id": "a90bd365",
   "metadata": {
    "execution": {
     "iopub.execute_input": "2024-06-02T17:58:18.540742Z",
     "iopub.status.busy": "2024-06-02T17:58:18.540472Z",
     "iopub.status.idle": "2024-06-02T17:58:18.545017Z",
     "shell.execute_reply": "2024-06-02T17:58:18.544404Z"
    },
    "lines_to_next_cell": 1,
    "papermill": {
     "duration": 0.009271,
     "end_time": "2024-06-02T17:58:18.546059",
     "exception": false,
     "start_time": "2024-06-02T17:58:18.536788",
     "status": "completed"
    },
    "tags": []
   },
   "outputs": [],
   "source": [
    "def printAllPrimesBetter(N: int) -> list[int]:\n",
    "    primes: dict[int, bool] = dict()\n",
    "    i = 2\n",
    "    while i <= N:\n",
    "        if primes.get(i, True):\n",
    "            primes[i] = True\n",
    "            j = 2\n",
    "            while i * j <= N:\n",
    "                primes[i * j] = False\n",
    "                j += 1\n",
    "        i += 1\n",
    "\n",
    "    return [i for i in primes if primes[i]]\n",
    "\n",
    "# Testing the solution\n",
    "assert printAllPrimesBetter(50) == [2,3,5,7,11,13,17,19,23,29,31,37,41,43,47]\n",
    "assert printAllPrimesBetter(20) == [2,3,5,7,11,13,17,19]"
   ]
  },
  {
   "cell_type": "code",
   "execution_count": 13,
   "id": "ce654373",
   "metadata": {
    "execution": {
     "iopub.execute_input": "2024-06-02T17:58:18.553071Z",
     "iopub.status.busy": "2024-06-02T17:58:18.552632Z",
     "iopub.status.idle": "2024-06-02T17:58:18.557494Z",
     "shell.execute_reply": "2024-06-02T17:58:18.557059Z"
    },
    "lines_to_next_cell": 1,
    "papermill": {
     "duration": 0.009452,
     "end_time": "2024-06-02T17:58:18.558527",
     "exception": false,
     "start_time": "2024-06-02T17:58:18.549075",
     "status": "completed"
    },
    "tags": []
   },
   "outputs": [],
   "source": [
    "def printAllPrimesOptimal(N: int) -> list[int]:\n",
    "    \"\"\"\n",
    "    When i = 2, we can run j = 2 all the way until i * j > N.\n",
    "    When i = 3, we don't have to start from j = 2 since it would have already been marked.\n",
    "    Whhen i = 5, we don't have to start from j = 2, 3, 4 since they would have already been marked in the previous iterations.\n",
    "    Therefore for any outer loop i, j can start with j = i => i = 3, j = 3; i = 7, j = 7, etc\n",
    "\n",
    "    We run the outer loop until i <= N and inner loop until i * j <= N. Say N = 30, when i becomes 6 we already start at a point 6 * 6 = 36 > 30.\n",
    "    Therefore we don't have to iterate beyond sqrt N in the outer loop\n",
    "    \"\"\"\n",
    "    # O(N)\n",
    "    primes: list[bool] = [True for i in range(N + 1)]\n",
    "    primes[0] = primes[1] = False\n",
    "\n",
    "    # O(N log (log N))\n",
    "    i = 2\n",
    "    while i * i <= N: # Optimized\n",
    "        if primes[i]:\n",
    "            j = i # Optimized\n",
    "            while i * j <= N:\n",
    "                primes[i * j] = False\n",
    "                j += 1\n",
    "        i += 1\n",
    "\n",
    "    # O(N)\n",
    "    return [i for i in range(N + 1) if primes[i]]\n",
    "\n",
    "# Testing the solution\n",
    "assert printAllPrimesOptimal(50) == [2,3,5,7,11,13,17,19,23,29,31,37,41,43,47]\n",
    "assert printAllPrimesOptimal(20) == [2,3,5,7,11,13,17,19]"
   ]
  },
  {
   "cell_type": "code",
   "execution_count": 14,
   "id": "6873f617",
   "metadata": {
    "execution": {
     "iopub.execute_input": "2024-06-02T17:58:18.565963Z",
     "iopub.status.busy": "2024-06-02T17:58:18.565529Z",
     "iopub.status.idle": "2024-06-02T17:58:18.569883Z",
     "shell.execute_reply": "2024-06-02T17:58:18.569427Z"
    },
    "lines_to_next_cell": 1,
    "papermill": {
     "duration": 0.009347,
     "end_time": "2024-06-02T17:58:18.570927",
     "exception": false,
     "start_time": "2024-06-02T17:58:18.561580",
     "status": "completed"
    },
    "tags": []
   },
   "outputs": [],
   "source": [
    "# https://leetcode.com/problems/count-primes/submissions/1275281461/\n",
    "def printAllPrimes(N: int) -> list[int]:\n",
    "    # O(N) Storage space to store precomputed primality results\n",
    "    soe: list[bool] = [True] * (N + 1)\n",
    "    soe[0] = soe[1] = False\n",
    "\n",
    "    i = 2\n",
    "    while i * i <= N:\n",
    "        if soe[i]: # Python specific optimization\n",
    "            soe[i*i:N+1:i] = [False] * len(soe[i*i:N+1:i])\n",
    "        i += 1\n",
    "\n",
    "    return [i for i in range(N + 1) if soe[i]]\n",
    "\n",
    "# Testing the solution\n",
    "assert printAllPrimes(50) == [2,3,5,7,11,13,17,19,23,29,31,37,41,43,47]\n",
    "assert printAllPrimes(20) == [2,3,5,7,11,13,17,19]"
   ]
  },
  {
   "cell_type": "markdown",
   "id": "55ffb714",
   "metadata": {
    "papermill": {
     "duration": 0.003041,
     "end_time": "2024-06-02T17:58:18.577120",
     "exception": false,
     "start_time": "2024-06-02T17:58:18.574079",
     "status": "completed"
    },
    "tags": []
   },
   "source": [
    "Count number of primes between range\n",
    "Video Link: https://youtu.be/os82DjD2-MA?si=SB7Htn3Y9JjmuPyP"
   ]
  },
  {
   "cell_type": "code",
   "execution_count": 15,
   "id": "b2cac251",
   "metadata": {
    "execution": {
     "iopub.execute_input": "2024-06-02T17:58:18.584019Z",
     "iopub.status.busy": "2024-06-02T17:58:18.583815Z",
     "iopub.status.idle": "2024-06-02T17:58:18.589420Z",
     "shell.execute_reply": "2024-06-02T17:58:18.589001Z"
    },
    "lines_to_next_cell": 1,
    "papermill": {
     "duration": 0.010322,
     "end_time": "2024-06-02T17:58:18.590424",
     "exception": false,
     "start_time": "2024-06-02T17:58:18.580102",
     "status": "completed"
    },
    "tags": []
   },
   "outputs": [],
   "source": [
    "def countPrimesInRange(queries: list[tuple[int, int]]) -> list[int]:\n",
    "    \"\"\"\n",
    "    Brute: For each q, iterate between L and R and count primes: O(Q x R x sqrt R)\n",
    "    Better: Precompute primes using SOE reducing the sqrt R part: O(Q x R) + O(R log log R)\n",
    "\n",
    "    Optimal solution is a combination of using prefix sum and seive of erastosthenes\n",
    "    Time: O(Q) + O(R log log R) + O(R) + O(Q)\n",
    "    \"\"\"\n",
    "\n",
    "    # max_ value of right range\n",
    "    max_ = max(map(lambda x: x[1], queries))\n",
    "\n",
    "    # Compute the primes using Seive of erastosthenes\n",
    "    primes: list[int] = [True] * (max_ + 1)\n",
    "    primes[0] = primes[1] = False\n",
    "    i = 2\n",
    "    while i * i <= max_:\n",
    "        if primes[i]:\n",
    "            primes[i*i::i] = [False] * len(primes[i*i::i])\n",
    "        i += 1\n",
    "\n",
    "    # Use prefix sum to compute the right\n",
    "    cnt, right = 0, []\n",
    "    for i in range(max_ + 1):\n",
    "        cnt += primes[i]\n",
    "        right.append(cnt)\n",
    "\n",
    "    # Prefix sum\n",
    "    result: list[int] = []\n",
    "    for L, R in queries:\n",
    "        result.append(right[R] - (right[L - 1] if L > 0 else 0))\n",
    "\n",
    "    return result\n",
    "\n",
    "# Testing the solution\n",
    "assert countPrimesInRange([(1,10),(5,10),(9,50),(30,50),(3,7),(0,10)]) == [4,2,11,5,3,4]"
   ]
  },
  {
   "cell_type": "markdown",
   "id": "73b1d0d4",
   "metadata": {
    "papermill": {
     "duration": 0.002993,
     "end_time": "2024-06-02T17:58:18.596443",
     "exception": false,
     "start_time": "2024-06-02T17:58:18.593450",
     "status": "completed"
    },
    "tags": []
   },
   "source": [
    "Prime factorisation of a number\n",
    "Video Link: https://youtu.be/glKWkmKFlMw?si=q6r9kMg3FDzfebGo"
   ]
  },
  {
   "cell_type": "code",
   "execution_count": 16,
   "id": "6cd6e86e",
   "metadata": {
    "execution": {
     "iopub.execute_input": "2024-06-02T17:58:18.603323Z",
     "iopub.status.busy": "2024-06-02T17:58:18.602985Z",
     "iopub.status.idle": "2024-06-02T17:58:18.607141Z",
     "shell.execute_reply": "2024-06-02T17:58:18.606702Z"
    },
    "lines_to_next_cell": 1,
    "papermill": {
     "duration": 0.008806,
     "end_time": "2024-06-02T17:58:18.608251",
     "exception": false,
     "start_time": "2024-06-02T17:58:18.599445",
     "status": "completed"
    },
    "tags": []
   },
   "outputs": [],
   "source": [
    "def prime_factorise_better(queries: list[int]) -> list[list[int]]:\n",
    "    results: list[list[int]] = []\n",
    "    for N in queries:\n",
    "        result: list[int] = []\n",
    "        i = 2\n",
    "        while i * i <= N:\n",
    "            while N % i == 0:\n",
    "                result.append(i)\n",
    "                N //= i\n",
    "            i += 1\n",
    "\n",
    "        if N != 1:\n",
    "            result.append(N)\n",
    "\n",
    "        results.append(result)\n",
    "\n",
    "    return results\n",
    "\n",
    "# Testing the solution\n",
    "assert prime_factorise_better([36, 45]) == [[2,2,3,3], [3,3,5]]"
   ]
  },
  {
   "cell_type": "code",
   "execution_count": 17,
   "id": "65fb7ed1",
   "metadata": {
    "execution": {
     "iopub.execute_input": "2024-06-02T17:58:18.615178Z",
     "iopub.status.busy": "2024-06-02T17:58:18.614894Z",
     "iopub.status.idle": "2024-06-02T17:58:18.619643Z",
     "shell.execute_reply": "2024-06-02T17:58:18.619180Z"
    },
    "papermill": {
     "duration": 0.009352,
     "end_time": "2024-06-02T17:58:18.620678",
     "exception": false,
     "start_time": "2024-06-02T17:58:18.611326",
     "status": "completed"
    },
    "tags": []
   },
   "outputs": [],
   "source": [
    "def prime_factorise_optimal(queries: list[int]) -> list[list[int]]:\n",
    "    \"\"\"\n",
    "    Optimal solution involves using an approach similar to seive of erastosthenes.\n",
    "\n",
    "    Time: O(N log log N) + O(Q * log N)\n",
    "    Space: O(N)\n",
    "    \"\"\"\n",
    "    # Compute the SPF (Smallest Prime factor)\n",
    "    max_ = max(queries)\n",
    "    SPF: list[int] = [i for i in range(max_ + 1)]\n",
    "    i = 2\n",
    "    while i * i <= max_:\n",
    "        if SPF[i] == i:\n",
    "            j = i\n",
    "            while i * j <= max_:\n",
    "                if SPF[i * j] == i * j:\n",
    "                    SPF[i * j] = i\n",
    "                j += 1\n",
    "        i += 1\n",
    "\n",
    "    # Iterate through the queries and store the results\n",
    "    # Using SPF lets us find the smallest factor in O(1) time.\n",
    "    # As we continue dividing the number we don't have to iterate through\n",
    "    # non divisible numbers\n",
    "    results: list[list[int]] = []\n",
    "    for N in queries:\n",
    "        result: list[int] = []\n",
    "        while N > 1:\n",
    "            result.append(SPF[N])\n",
    "            N //= SPF[N]\n",
    "        results.append(result)\n",
    "\n",
    "    return results\n",
    "\n",
    "# Testing the solution\n",
    "assert prime_factorise_optimal([36, 45, 46]) == [[2,2,3,3], [3,3,5], [2,23]]"
   ]
  }
 ],
 "metadata": {
  "kernelspec": {
   "display_name": "Python 3 (ipykernel)",
   "language": "python",
   "name": "python3"
  },
  "language_info": {
   "codemirror_mode": {
    "name": "ipython",
    "version": 3
   },
   "file_extension": ".py",
   "mimetype": "text/x-python",
   "name": "python",
   "nbconvert_exporter": "python",
   "pygments_lexer": "ipython3",
   "version": "3.11.9"
  },
  "papermill": {
   "default_parameters": {},
   "duration": 1.504733,
   "end_time": "2024-06-02T17:58:18.739105",
   "environment_variables": {},
   "exception": null,
   "input_path": "study/striver-A2Z/15-math.ipynb",
   "output_path": "study/striver-A2Z/15-math.ipynb",
   "parameters": {},
   "start_time": "2024-06-02T17:58:17.234372",
   "version": "2.6.0"
  }
 },
 "nbformat": 4,
 "nbformat_minor": 5
}