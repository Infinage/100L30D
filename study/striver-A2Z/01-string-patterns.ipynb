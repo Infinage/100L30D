{
 "cells": [
  {
   "cell_type": "markdown",
   "id": "d50974a9",
   "metadata": {
    "papermill": {
     "duration": 0.022669,
     "end_time": "2024-02-28T01:59:46.308004",
     "exception": false,
     "start_time": "2024-02-28T01:59:46.285335",
     "status": "completed"
    },
    "tags": []
   },
   "source": [
    "Video link: https://www.youtube.com/watch?v=tNm_NNSB3_w&list=PLgUwDviBIf0oF6QL8m22w1hIDC1vJ_BHz&index=4"
   ]
  },
  {
   "cell_type": "code",
   "execution_count": 1,
   "id": "5c29f379",
   "metadata": {
    "execution": {
     "iopub.execute_input": "2024-02-28T01:59:46.334871Z",
     "iopub.status.busy": "2024-02-28T01:59:46.334348Z",
     "iopub.status.idle": "2024-02-28T01:59:46.343204Z",
     "shell.execute_reply": "2024-02-28T01:59:46.342335Z"
    },
    "papermill": {
     "duration": 0.021696,
     "end_time": "2024-02-28T01:59:46.345327",
     "exception": false,
     "start_time": "2024-02-28T01:59:46.323631",
     "status": "completed"
    },
    "tags": []
   },
   "outputs": [
    {
     "name": "stdout",
     "output_type": "stream",
     "text": [
      "* * * * * * * \n",
      "* * * * * * * \n",
      "* * * * * * * \n",
      "* * * * * * * \n",
      "* * * * * * * \n",
      "* * * * * * * \n",
      "* * * * * * * \n"
     ]
    }
   ],
   "source": [
    "# Pattern - 1\n",
    "N = 7\n",
    "for i in range(N):\n",
    "    for j in range(N):\n",
    "        print (\"*\", end=\" \")\n",
    "    print()"
   ]
  },
  {
   "cell_type": "code",
   "execution_count": 2,
   "id": "73698c67",
   "metadata": {
    "execution": {
     "iopub.execute_input": "2024-02-28T01:59:46.362252Z",
     "iopub.status.busy": "2024-02-28T01:59:46.361659Z",
     "iopub.status.idle": "2024-02-28T01:59:46.366283Z",
     "shell.execute_reply": "2024-02-28T01:59:46.365387Z"
    },
    "papermill": {
     "duration": 0.014304,
     "end_time": "2024-02-28T01:59:46.368252",
     "exception": false,
     "start_time": "2024-02-28T01:59:46.353948",
     "status": "completed"
    },
    "tags": []
   },
   "outputs": [
    {
     "name": "stdout",
     "output_type": "stream",
     "text": [
      "* \n",
      "* * \n",
      "* * * \n",
      "* * * * \n",
      "* * * * * \n",
      "* * * * * * \n",
      "* * * * * * * \n"
     ]
    }
   ],
   "source": [
    "# Pattern - 2\n",
    "N = 7\n",
    "for i in range(N):\n",
    "    for j in range(i + 1):\n",
    "        print (\"*\", end=\" \")\n",
    "    print()"
   ]
  },
  {
   "cell_type": "code",
   "execution_count": 3,
   "id": "7ea9a66d",
   "metadata": {
    "execution": {
     "iopub.execute_input": "2024-02-28T01:59:46.379996Z",
     "iopub.status.busy": "2024-02-28T01:59:46.379319Z",
     "iopub.status.idle": "2024-02-28T01:59:46.385627Z",
     "shell.execute_reply": "2024-02-28T01:59:46.384275Z"
    },
    "papermill": {
     "duration": 0.016085,
     "end_time": "2024-02-28T01:59:46.390303",
     "exception": false,
     "start_time": "2024-02-28T01:59:46.374218",
     "status": "completed"
    },
    "tags": []
   },
   "outputs": [
    {
     "name": "stdout",
     "output_type": "stream",
     "text": [
      "1 \n",
      "1 2 \n",
      "1 2 3 \n",
      "1 2 3 4 \n",
      "1 2 3 4 5 \n",
      "1 2 3 4 5 6 \n",
      "1 2 3 4 5 6 7 \n"
     ]
    }
   ],
   "source": [
    "# Pattern - 3\n",
    "N = 7\n",
    "for i in range(N):\n",
    "    for j in range(1, i + 2):\n",
    "        print (j, end=\" \")\n",
    "    print()"
   ]
  },
  {
   "cell_type": "code",
   "execution_count": 4,
   "id": "3d16bd53",
   "metadata": {
    "execution": {
     "iopub.execute_input": "2024-02-28T01:59:46.400254Z",
     "iopub.status.busy": "2024-02-28T01:59:46.399329Z",
     "iopub.status.idle": "2024-02-28T01:59:46.404177Z",
     "shell.execute_reply": "2024-02-28T01:59:46.403452Z"
    },
    "papermill": {
     "duration": 0.011576,
     "end_time": "2024-02-28T01:59:46.405992",
     "exception": false,
     "start_time": "2024-02-28T01:59:46.394416",
     "status": "completed"
    },
    "tags": []
   },
   "outputs": [
    {
     "name": "stdout",
     "output_type": "stream",
     "text": [
      "1 \n",
      "2 2 \n",
      "3 3 3 \n",
      "4 4 4 4 \n",
      "5 5 5 5 5 \n",
      "6 6 6 6 6 6 \n",
      "7 7 7 7 7 7 7 \n"
     ]
    }
   ],
   "source": [
    "# Pattern - 4\n",
    "N = 7\n",
    "for i in range(1, N + 1):\n",
    "    for j in range(1, i + 1):\n",
    "        print(i, end=\" \")\n",
    "    print()"
   ]
  },
  {
   "cell_type": "code",
   "execution_count": 5,
   "id": "cdb9bcd3",
   "metadata": {
    "execution": {
     "iopub.execute_input": "2024-02-28T01:59:46.415204Z",
     "iopub.status.busy": "2024-02-28T01:59:46.414951Z",
     "iopub.status.idle": "2024-02-28T01:59:46.419632Z",
     "shell.execute_reply": "2024-02-28T01:59:46.418845Z"
    },
    "papermill": {
     "duration": 0.011506,
     "end_time": "2024-02-28T01:59:46.421531",
     "exception": false,
     "start_time": "2024-02-28T01:59:46.410025",
     "status": "completed"
    },
    "tags": []
   },
   "outputs": [
    {
     "name": "stdout",
     "output_type": "stream",
     "text": [
      "* * * * * * * \n",
      "* * * * * * \n",
      "* * * * * \n",
      "* * * * \n",
      "* * * \n",
      "* * \n",
      "* \n"
     ]
    }
   ],
   "source": [
    "# Pattern - 5\n",
    "N = 7\n",
    "for i in range(N):\n",
    "    for j in range(N - i):\n",
    "        print (\"*\", end=\" \")\n",
    "    print()"
   ]
  },
  {
   "cell_type": "code",
   "execution_count": 6,
   "id": "6c3168cd",
   "metadata": {
    "execution": {
     "iopub.execute_input": "2024-02-28T01:59:46.434815Z",
     "iopub.status.busy": "2024-02-28T01:59:46.434515Z",
     "iopub.status.idle": "2024-02-28T01:59:46.439933Z",
     "shell.execute_reply": "2024-02-28T01:59:46.439045Z"
    },
    "papermill": {
     "duration": 0.013977,
     "end_time": "2024-02-28T01:59:46.441840",
     "exception": false,
     "start_time": "2024-02-28T01:59:46.427863",
     "status": "completed"
    },
    "tags": []
   },
   "outputs": [
    {
     "name": "stdout",
     "output_type": "stream",
     "text": [
      "1 2 3 4 5 6 7 \n",
      "1 2 3 4 5 6 \n",
      "1 2 3 4 5 \n",
      "1 2 3 4 \n",
      "1 2 3 \n",
      "1 2 \n",
      "1 \n"
     ]
    }
   ],
   "source": [
    "# Pattern - 6\n",
    "N = 7\n",
    "for i in range(N):\n",
    "    for j in range(1, N - i + 1):\n",
    "        print (j, end=\" \")\n",
    "    print()"
   ]
  },
  {
   "cell_type": "code",
   "execution_count": 7,
   "id": "554c463b",
   "metadata": {
    "execution": {
     "iopub.execute_input": "2024-02-28T01:59:46.453019Z",
     "iopub.status.busy": "2024-02-28T01:59:46.452760Z",
     "iopub.status.idle": "2024-02-28T01:59:46.458868Z",
     "shell.execute_reply": "2024-02-28T01:59:46.457777Z"
    },
    "papermill": {
     "duration": 0.013322,
     "end_time": "2024-02-28T01:59:46.461121",
     "exception": false,
     "start_time": "2024-02-28T01:59:46.447799",
     "status": "completed"
    },
    "tags": []
   },
   "outputs": [
    {
     "name": "stdout",
     "output_type": "stream",
     "text": [
      "      *      \n",
      "     ***     \n",
      "    *****    \n",
      "   *******   \n",
      "  *********  \n",
      " *********** \n",
      "*************\n"
     ]
    }
   ],
   "source": [
    "# Pattern - 7\n",
    "N = 7\n",
    "for i in range(1, N + 1):\n",
    "    for j in range(N - i):\n",
    "        print(\"\", end=\" \")\n",
    "    for j in range((2 * i) - 1):\n",
    "        print(\"*\", end=\"\")\n",
    "    for j in range(N - i):\n",
    "        print(\"\", end=\" \")\n",
    "    print()"
   ]
  },
  {
   "cell_type": "code",
   "execution_count": 8,
   "id": "378ca824",
   "metadata": {
    "execution": {
     "iopub.execute_input": "2024-02-28T01:59:46.473425Z",
     "iopub.status.busy": "2024-02-28T01:59:46.472990Z",
     "iopub.status.idle": "2024-02-28T01:59:46.478454Z",
     "shell.execute_reply": "2024-02-28T01:59:46.477678Z"
    },
    "papermill": {
     "duration": 0.01197,
     "end_time": "2024-02-28T01:59:46.480019",
     "exception": false,
     "start_time": "2024-02-28T01:59:46.468049",
     "status": "completed"
    },
    "tags": []
   },
   "outputs": [
    {
     "name": "stdout",
     "output_type": "stream",
     "text": [
      "*************\n",
      " *********** \n",
      "  *********  \n",
      "   *******   \n",
      "    *****    \n",
      "     ***     \n",
      "      *      \n"
     ]
    }
   ],
   "source": [
    "# Pattern - 8\n",
    "N = 7\n",
    "for i in range(N, 0, -1):\n",
    "    for j in range(N - i):\n",
    "        print(\"\", end=\" \")\n",
    "    for j in range((2 * i) - 1):\n",
    "        print(\"*\", end=\"\")\n",
    "    for j in range(N - i):\n",
    "        print(\"\", end=\" \")\n",
    "    print()"
   ]
  },
  {
   "cell_type": "code",
   "execution_count": 9,
   "id": "df22abe8",
   "metadata": {
    "execution": {
     "iopub.execute_input": "2024-02-28T01:59:46.489803Z",
     "iopub.status.busy": "2024-02-28T01:59:46.489546Z",
     "iopub.status.idle": "2024-02-28T01:59:46.496520Z",
     "shell.execute_reply": "2024-02-28T01:59:46.495687Z"
    },
    "papermill": {
     "duration": 0.013907,
     "end_time": "2024-02-28T01:59:46.498107",
     "exception": false,
     "start_time": "2024-02-28T01:59:46.484200",
     "status": "completed"
    },
    "tags": []
   },
   "outputs": [
    {
     "name": "stdout",
     "output_type": "stream",
     "text": [
      "      *      \n",
      "     ***     \n",
      "    *****    \n",
      "   *******   \n",
      "  *********  \n",
      " *********** \n",
      "*************\n",
      "*************\n",
      " *********** \n",
      "  *********  \n",
      "   *******   \n",
      "    *****    \n",
      "     ***     \n",
      "      *      \n"
     ]
    }
   ],
   "source": [
    "# Pattern - 9\n",
    "N = 7\n",
    "for i in range(1, 2 * N + 1):\n",
    "    if i <= N:\n",
    "        for j in range(N - i):\n",
    "            print (\"\", end=\" \")\n",
    "        for j in range(i * 2 - 1):\n",
    "            print (\"*\", end=\"\")\n",
    "        for j in range(N - i):\n",
    "            print (\"\", end=\" \")\n",
    "    else:\n",
    "        i_ = (2 * N) - i + 1\n",
    "        for j in range(N - i_):\n",
    "            print (\"\", end=\" \")\n",
    "        for j in range(i_ * 2 - 1):\n",
    "            print (\"*\", end=\"\")\n",
    "        for j in range(N - i_):\n",
    "            print (\"\", end=\" \")\n",
    "    print()"
   ]
  },
  {
   "cell_type": "code",
   "execution_count": 10,
   "id": "74011d5f",
   "metadata": {
    "execution": {
     "iopub.execute_input": "2024-02-28T01:59:46.507913Z",
     "iopub.status.busy": "2024-02-28T01:59:46.507573Z",
     "iopub.status.idle": "2024-02-28T01:59:46.512887Z",
     "shell.execute_reply": "2024-02-28T01:59:46.512136Z"
    },
    "papermill": {
     "duration": 0.012043,
     "end_time": "2024-02-28T01:59:46.514341",
     "exception": false,
     "start_time": "2024-02-28T01:59:46.502298",
     "status": "completed"
    },
    "tags": []
   },
   "outputs": [
    {
     "name": "stdout",
     "output_type": "stream",
     "text": [
      "*\n",
      "* *\n",
      "* * *\n",
      "* * * *\n",
      "* * * * *\n",
      "* * * * * *\n",
      "* * * * * * *\n",
      "* * * * * *\n",
      "* * * * *\n",
      "* * * *\n",
      "* * *\n",
      "* *\n",
      "*\n"
     ]
    }
   ],
   "source": [
    "# Pattern - 10\n",
    "N = 7\n",
    "result = []\n",
    "for i in range(1, N + 1):\n",
    "    row = []\n",
    "    for j in range(i):\n",
    "        row.append(\"*\")\n",
    "    result.append(\" \".join(row))\n",
    "result = result + result[-2::-1]\n",
    "print(\"\\n\".join(result))"
   ]
  },
  {
   "cell_type": "code",
   "execution_count": 11,
   "id": "13b266fb",
   "metadata": {
    "execution": {
     "iopub.execute_input": "2024-02-28T01:59:46.524186Z",
     "iopub.status.busy": "2024-02-28T01:59:46.523943Z",
     "iopub.status.idle": "2024-02-28T01:59:46.528898Z",
     "shell.execute_reply": "2024-02-28T01:59:46.528158Z"
    },
    "papermill": {
     "duration": 0.011747,
     "end_time": "2024-02-28T01:59:46.530365",
     "exception": false,
     "start_time": "2024-02-28T01:59:46.518618",
     "status": "completed"
    },
    "tags": []
   },
   "outputs": [
    {
     "name": "stdout",
     "output_type": "stream",
     "text": [
      "1 \n",
      "0 1 \n",
      "1 0 1 \n",
      "0 1 0 1 \n",
      "1 0 1 0 1 \n",
      "0 1 0 1 0 1 \n",
      "1 0 1 0 1 0 1 \n"
     ]
    }
   ],
   "source": [
    "# Pattern - 11\n",
    "N = 7\n",
    "for i in range(1, N + 1):\n",
    "    for j in range(1, i + 1):\n",
    "        if i % 2 == 0:\n",
    "            print (1 if j % 2 == 0 else 0, end=\" \")\n",
    "        else:\n",
    "            print (0 if j % 2 == 0 else 1, end=\" \")\n",
    "    print()"
   ]
  },
  {
   "cell_type": "code",
   "execution_count": 12,
   "id": "e65cda14",
   "metadata": {
    "execution": {
     "iopub.execute_input": "2024-02-28T01:59:46.540890Z",
     "iopub.status.busy": "2024-02-28T01:59:46.540458Z",
     "iopub.status.idle": "2024-02-28T01:59:46.545850Z",
     "shell.execute_reply": "2024-02-28T01:59:46.544923Z"
    },
    "papermill": {
     "duration": 0.01285,
     "end_time": "2024-02-28T01:59:46.547899",
     "exception": false,
     "start_time": "2024-02-28T01:59:46.535049",
     "status": "completed"
    },
    "tags": []
   },
   "outputs": [
    {
     "name": "stdout",
     "output_type": "stream",
     "text": [
      "1            1\n",
      "12          21\n",
      "123        321\n",
      "1234      4321\n",
      "12345    54321\n",
      "123456  654321\n",
      "12345677654321\n"
     ]
    }
   ],
   "source": [
    "# Pattern - 12\n",
    "N = 7\n",
    "for i in range(1, N + 1):\n",
    "    for j in range(1, i + 1):\n",
    "        print (j, end=\"\")\n",
    "    for j in range((N - i) * 2):\n",
    "        print (\"\", end=\" \")\n",
    "    for j in range(i, 0, -1):\n",
    "        print (j, end=\"\")\n",
    "    print()"
   ]
  },
  {
   "cell_type": "code",
   "execution_count": 13,
   "id": "a8369219",
   "metadata": {
    "execution": {
     "iopub.execute_input": "2024-02-28T01:59:46.562367Z",
     "iopub.status.busy": "2024-02-28T01:59:46.562031Z",
     "iopub.status.idle": "2024-02-28T01:59:46.568642Z",
     "shell.execute_reply": "2024-02-28T01:59:46.567228Z"
    },
    "papermill": {
     "duration": 0.016608,
     "end_time": "2024-02-28T01:59:46.573070",
     "exception": false,
     "start_time": "2024-02-28T01:59:46.556462",
     "status": "completed"
    },
    "tags": []
   },
   "outputs": [
    {
     "name": "stdout",
     "output_type": "stream",
     "text": [
      "1 \n",
      "2 3 \n",
      "4 5 6 \n",
      "7 8 9 10 \n",
      "11 12 13 14 15 \n",
      "16 17 18 19 20 21 \n",
      "22 23 24 25 26 27 28 \n"
     ]
    }
   ],
   "source": [
    "# Pattern - 13\n",
    "N = 7\n",
    "rowCount, curr = 1, 1\n",
    "while rowCount <= N:\n",
    "    for i in range(curr, curr + rowCount):\n",
    "        print (i, end=\" \")\n",
    "    print()\n",
    "    rowCount += 1\n",
    "    curr = i + 1"
   ]
  },
  {
   "cell_type": "code",
   "execution_count": 14,
   "id": "0ae579b2",
   "metadata": {
    "execution": {
     "iopub.execute_input": "2024-02-28T01:59:46.583277Z",
     "iopub.status.busy": "2024-02-28T01:59:46.583009Z",
     "iopub.status.idle": "2024-02-28T01:59:46.587936Z",
     "shell.execute_reply": "2024-02-28T01:59:46.587207Z"
    },
    "papermill": {
     "duration": 0.01194,
     "end_time": "2024-02-28T01:59:46.589544",
     "exception": false,
     "start_time": "2024-02-28T01:59:46.577604",
     "status": "completed"
    },
    "tags": []
   },
   "outputs": [
    {
     "name": "stdout",
     "output_type": "stream",
     "text": [
      "A \n",
      "A B \n",
      "A B C \n",
      "A B C D \n",
      "A B C D E \n",
      "A B C D E F \n",
      "A B C D E F G \n"
     ]
    }
   ],
   "source": [
    "# Pattern - 14\n",
    "N = 7\n",
    "for i in range(1, N + 1):\n",
    "    for j in range(ord(\"A\"), ord(\"A\") + i):\n",
    "        print (chr(j), end=\" \")\n",
    "    print()"
   ]
  },
  {
   "cell_type": "code",
   "execution_count": 15,
   "id": "c93c8fe8",
   "metadata": {
    "execution": {
     "iopub.execute_input": "2024-02-28T01:59:46.599873Z",
     "iopub.status.busy": "2024-02-28T01:59:46.599541Z",
     "iopub.status.idle": "2024-02-28T01:59:46.604656Z",
     "shell.execute_reply": "2024-02-28T01:59:46.603873Z"
    },
    "papermill": {
     "duration": 0.012089,
     "end_time": "2024-02-28T01:59:46.606143",
     "exception": false,
     "start_time": "2024-02-28T01:59:46.594054",
     "status": "completed"
    },
    "tags": []
   },
   "outputs": [
    {
     "name": "stdout",
     "output_type": "stream",
     "text": [
      "A B C D E F G \n",
      "A B C D E F \n",
      "A B C D E \n",
      "A B C D \n",
      "A B C \n",
      "A B \n",
      "A \n"
     ]
    }
   ],
   "source": [
    "# Pattern - 15\n",
    "N = 7\n",
    "for i in range(N):\n",
    "    for j in range(N - i):\n",
    "        print(chr(ord(\"A\") + j), end=\" \")\n",
    "    print()"
   ]
  },
  {
   "cell_type": "code",
   "execution_count": 16,
   "id": "f3424ddb",
   "metadata": {
    "execution": {
     "iopub.execute_input": "2024-02-28T01:59:46.616314Z",
     "iopub.status.busy": "2024-02-28T01:59:46.616103Z",
     "iopub.status.idle": "2024-02-28T01:59:46.620349Z",
     "shell.execute_reply": "2024-02-28T01:59:46.619590Z"
    },
    "papermill": {
     "duration": 0.011646,
     "end_time": "2024-02-28T01:59:46.622263",
     "exception": false,
     "start_time": "2024-02-28T01:59:46.610617",
     "status": "completed"
    },
    "tags": []
   },
   "outputs": [
    {
     "name": "stdout",
     "output_type": "stream",
     "text": [
      "A\n",
      "BB\n",
      "CCC\n",
      "DDDD\n",
      "EEEEE\n",
      "FFFFFF\n",
      "GGGGGGG\n"
     ]
    }
   ],
   "source": [
    "# Pattern - 16\n",
    "N = 7\n",
    "for i in range(N):\n",
    "    for j in range(i + 1):\n",
    "        print(chr(ord(\"A\") + i), end=\"\")\n",
    "    print()"
   ]
  },
  {
   "cell_type": "code",
   "execution_count": 17,
   "id": "5c35d73e",
   "metadata": {
    "execution": {
     "iopub.execute_input": "2024-02-28T01:59:46.634535Z",
     "iopub.status.busy": "2024-02-28T01:59:46.634227Z",
     "iopub.status.idle": "2024-02-28T01:59:46.640660Z",
     "shell.execute_reply": "2024-02-28T01:59:46.639627Z"
    },
    "papermill": {
     "duration": 0.013976,
     "end_time": "2024-02-28T01:59:46.642489",
     "exception": false,
     "start_time": "2024-02-28T01:59:46.628513",
     "status": "completed"
    },
    "tags": []
   },
   "outputs": [
    {
     "name": "stdout",
     "output_type": "stream",
     "text": [
      "      A      \n",
      "     ABA     \n",
      "    ABCBA    \n",
      "   ABCDCBA   \n",
      "  ABCDEDCBA  \n",
      " ABCDEFEDCBA \n",
      "ABCDEFGFEDCBA\n"
     ]
    }
   ],
   "source": [
    "# Pattern - 17\n",
    "N = 7\n",
    "for i in range(1, N + 1):\n",
    "    for j in range(N - i):\n",
    "        print (\"\", end=\" \")\n",
    "\n",
    "    curr = 0\n",
    "    for j in range(i * 2 - 1):\n",
    "        print (chr(ord(\"A\") + curr), end=\"\")\n",
    "        if j < i - 1:\n",
    "            curr += 1\n",
    "        else:\n",
    "            curr -= 1\n",
    "\n",
    "    for j in range(N - i):\n",
    "        print (\"\", end=\" \")\n",
    "    print()"
   ]
  },
  {
   "cell_type": "code",
   "execution_count": 18,
   "id": "a59d7343",
   "metadata": {
    "execution": {
     "iopub.execute_input": "2024-02-28T01:59:46.656625Z",
     "iopub.status.busy": "2024-02-28T01:59:46.656374Z",
     "iopub.status.idle": "2024-02-28T01:59:46.661040Z",
     "shell.execute_reply": "2024-02-28T01:59:46.660252Z"
    },
    "papermill": {
     "duration": 0.012147,
     "end_time": "2024-02-28T01:59:46.662839",
     "exception": false,
     "start_time": "2024-02-28T01:59:46.650692",
     "status": "completed"
    },
    "tags": []
   },
   "outputs": [
    {
     "name": "stdout",
     "output_type": "stream",
     "text": [
      "G \n",
      "F G \n",
      "E F G \n",
      "D E F G \n",
      "C D E F G \n",
      "B C D E F G \n",
      "A B C D E F G \n"
     ]
    }
   ],
   "source": [
    "# Pattern - 18\n",
    "N = 7\n",
    "for i in range(N):\n",
    "    for j in range(N - i - 1, N):\n",
    "        print (chr(ord(\"A\") + j), end=\" \")\n",
    "    print()"
   ]
  },
  {
   "cell_type": "code",
   "execution_count": 19,
   "id": "060aa997",
   "metadata": {
    "execution": {
     "iopub.execute_input": "2024-02-28T01:59:46.673721Z",
     "iopub.status.busy": "2024-02-28T01:59:46.673151Z",
     "iopub.status.idle": "2024-02-28T01:59:46.679360Z",
     "shell.execute_reply": "2024-02-28T01:59:46.678521Z"
    },
    "papermill": {
     "duration": 0.01443,
     "end_time": "2024-02-28T01:59:46.681968",
     "exception": false,
     "start_time": "2024-02-28T01:59:46.667538",
     "status": "completed"
    },
    "tags": []
   },
   "outputs": [
    {
     "name": "stdout",
     "output_type": "stream",
     "text": [
      "**************\n",
      "******  ******\n",
      "*****    *****\n",
      "****      ****\n",
      "***        ***\n",
      "**          **\n",
      "*            *\n",
      "*            *\n",
      "**          **\n",
      "***        ***\n",
      "****      ****\n",
      "*****    *****\n",
      "******  ******\n",
      "**************\n"
     ]
    }
   ],
   "source": [
    "# Pattern - 19\n",
    "N = 7\n",
    "for i in range(2 * N):\n",
    "    if i < N:\n",
    "        i_ = i\n",
    "    else:\n",
    "        i_ = (2 * N) - i - 1\n",
    "\n",
    "    for j in range(N - i_):\n",
    "        print(\"*\", end=\"\")\n",
    "    for j in range(i_ * 2):\n",
    "        print(\" \", end=\"\")\n",
    "    for j in range(N - i_):\n",
    "        print(\"*\", end=\"\")\n",
    "    print()"
   ]
  },
  {
   "cell_type": "code",
   "execution_count": 20,
   "id": "ae396acb",
   "metadata": {
    "execution": {
     "iopub.execute_input": "2024-02-28T01:59:46.695672Z",
     "iopub.status.busy": "2024-02-28T01:59:46.695416Z",
     "iopub.status.idle": "2024-02-28T01:59:46.701621Z",
     "shell.execute_reply": "2024-02-28T01:59:46.700856Z"
    },
    "papermill": {
     "duration": 0.013448,
     "end_time": "2024-02-28T01:59:46.703187",
     "exception": false,
     "start_time": "2024-02-28T01:59:46.689739",
     "status": "completed"
    },
    "tags": []
   },
   "outputs": [
    {
     "name": "stdout",
     "output_type": "stream",
     "text": [
      "*            *\n",
      "**          **\n",
      "***        ***\n",
      "****      ****\n",
      "*****    *****\n",
      "******  ******\n",
      "**************\n",
      "******  ******\n",
      "*****    *****\n",
      "****      ****\n",
      "***        ***\n",
      "**          **\n",
      "*            *\n"
     ]
    }
   ],
   "source": [
    "# Pattern - 20\n",
    "N = 7\n",
    "for i in range(1, 2 * N):\n",
    "    if i <= N:\n",
    "        i_ = i\n",
    "    else:\n",
    "        i_ = (2 * N) - i \n",
    "\n",
    "    for j in range(i_):\n",
    "        print(\"*\", end=\"\")\n",
    "    for j in range(2 * (N - i_)):\n",
    "        print (\" \", end=\"\")\n",
    "    for j in range(i_):\n",
    "        print(\"*\", end=\"\")\n",
    "    print()"
   ]
  },
  {
   "cell_type": "code",
   "execution_count": 21,
   "id": "f6cec386",
   "metadata": {
    "execution": {
     "iopub.execute_input": "2024-02-28T01:59:46.715456Z",
     "iopub.status.busy": "2024-02-28T01:59:46.714813Z",
     "iopub.status.idle": "2024-02-28T01:59:46.720555Z",
     "shell.execute_reply": "2024-02-28T01:59:46.719734Z"
    },
    "lines_to_next_cell": 1,
    "papermill": {
     "duration": 0.013404,
     "end_time": "2024-02-28T01:59:46.721927",
     "exception": false,
     "start_time": "2024-02-28T01:59:46.708523",
     "status": "completed"
    },
    "tags": []
   },
   "outputs": [
    {
     "name": "stdout",
     "output_type": "stream",
     "text": [
      "*******\n",
      "*     *\n",
      "*     *\n",
      "*     *\n",
      "*     *\n",
      "*     *\n",
      "*******\n"
     ]
    }
   ],
   "source": [
    "# Pattern - 21\n",
    "N = 7\n",
    "for i in range(N):\n",
    "    if i == 0 or i == N - 1:\n",
    "        for j in range(N):\n",
    "            print (\"*\", end=\"\")\n",
    "    else:\n",
    "        print (\"*\", end=\"\")\n",
    "        for j in range(N - 2):\n",
    "            print(\" \", end=\"\")\n",
    "        print (\"*\", end=\"\")\n",
    "    print()"
   ]
  },
  {
   "cell_type": "code",
   "execution_count": 22,
   "id": "5c65598f",
   "metadata": {
    "execution": {
     "iopub.execute_input": "2024-02-28T01:59:46.733191Z",
     "iopub.status.busy": "2024-02-28T01:59:46.732504Z",
     "iopub.status.idle": "2024-02-28T01:59:46.739870Z",
     "shell.execute_reply": "2024-02-28T01:59:46.739126Z"
    },
    "papermill": {
     "duration": 0.014685,
     "end_time": "2024-02-28T01:59:46.741410",
     "exception": false,
     "start_time": "2024-02-28T01:59:46.726725",
     "status": "completed"
    },
    "tags": []
   },
   "outputs": [
    {
     "name": "stdout",
     "output_type": "stream",
     "text": [
      "7 7 7 7 7 7 7 7 7 7 7 7 7\n",
      "7 6 6 6 6 6 6 6 6 6 6 6 7\n",
      "7 6 5 5 5 5 5 5 5 5 5 6 7\n",
      "7 6 5 4 4 4 4 4 4 4 5 6 7\n",
      "7 6 5 4 3 3 3 3 3 4 5 6 7\n",
      "7 6 5 4 3 2 2 2 3 4 5 6 7\n",
      "7 6 5 4 3 2 1 2 3 4 5 6 7\n",
      "7 6 5 4 3 2 2 2 3 4 5 6 7\n",
      "7 6 5 4 3 3 3 3 3 4 5 6 7\n",
      "7 6 5 4 4 4 4 4 4 4 5 6 7\n",
      "7 6 5 5 5 5 5 5 5 5 5 6 7\n",
      "7 6 6 6 6 6 6 6 6 6 6 6 7\n",
      "7 7 7 7 7 7 7 7 7 7 7 7 7\n",
      "\n"
     ]
    }
   ],
   "source": [
    "# Pattern - 22\n",
    "def pattern22(N: int):\n",
    "    \"\"\"\n",
    "    0 - [[]]\n",
    "    1 - [[1]]\n",
    "    2 - [[2,2,2],[2,1,2],[2,2,2]]\n",
    "    3 - [[3,3,3,3,3],[3,2,2,2,3],[3,2,1,2,3],[3,2,2,2,3],[3,3,3,3,3]]\n",
    "    \"\"\"\n",
    "\n",
    "    def backtrack(n: int) -> list[list[str]]:\n",
    "        if n == 1:\n",
    "            return [['1'.zfill(max_char_length)]]\n",
    "        else:\n",
    "            prev = backtrack(n - 1)\n",
    "            curr, length = str(n).zfill(max_char_length), 2 * n - 1\n",
    "            curr_row = [curr for _ in range(length)]\n",
    "            next_: list[list[str]] = []\n",
    "\n",
    "            next_.append(curr_row)\n",
    "            pad_length = (length - len(prev[0])) // 2\n",
    "            for row in prev:\n",
    "                next_.append([curr for _ in range(pad_length)] + row + [curr for _ in range(pad_length)])\n",
    "            next_.append(curr_row)\n",
    "\n",
    "            return next_\n",
    "\n",
    "    max_char_length = len(str(N))\n",
    "    result = backtrack(N)\n",
    "    for row in result:\n",
    "        print(\" \".join(row))\n",
    "    print()\n",
    "\n",
    "# Testing the function\n",
    "pattern22(7)"
   ]
  }
 ],
 "metadata": {
  "kernelspec": {
   "display_name": "Python 3 (ipykernel)",
   "language": "python",
   "name": "python3"
  },
  "language_info": {
   "codemirror_mode": {
    "name": "ipython",
    "version": 3
   },
   "file_extension": ".py",
   "mimetype": "text/x-python",
   "name": "python",
   "nbconvert_exporter": "python",
   "pygments_lexer": "ipython3",
   "version": "3.11.5"
  },
  "papermill": {
   "default_parameters": {},
   "duration": 2.307645,
   "end_time": "2024-02-28T01:59:46.965605",
   "environment_variables": {},
   "exception": null,
   "input_path": "01-string-patterns.ipynb",
   "output_path": "01-string-patterns.ipynb",
   "parameters": {},
   "start_time": "2024-02-28T01:59:44.657960",
   "version": "2.4.0"
  }
 },
 "nbformat": 4,
 "nbformat_minor": 5
}