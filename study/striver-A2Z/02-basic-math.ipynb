{
 "cells": [
  {
   "cell_type": "markdown",
   "id": "7a3eac84",
   "metadata": {
    "papermill": {
     "duration": 0.008682,
     "end_time": "2024-02-28T01:59:56.208809",
     "exception": false,
     "start_time": "2024-02-28T01:59:56.200127",
     "status": "completed"
    },
    "tags": []
   },
   "source": [
    "Video link: https://www.youtube.com/watch?v=tNm_NNSB3_w&list=PLgUwDviBIf0oF6QL8m22w1hIDC1vJ_BHz&index=://www.youtube.com/watch?v=1xNbjMdbjug&list=PLgUwDviBIf0oF6QL8m22w1hIDC1vJ_BHz&index=6 "
   ]
  },
  {
   "cell_type": "code",
   "execution_count": 1,
   "id": "27c2f0df",
   "metadata": {
    "execution": {
     "iopub.execute_input": "2024-02-28T01:59:56.228441Z",
     "iopub.status.busy": "2024-02-28T01:59:56.227578Z",
     "iopub.status.idle": "2024-02-28T01:59:56.252131Z",
     "shell.execute_reply": "2024-02-28T01:59:56.251075Z"
    },
    "papermill": {
     "duration": 0.037673,
     "end_time": "2024-02-28T01:59:56.254689",
     "exception": false,
     "start_time": "2024-02-28T01:59:56.217016",
     "status": "completed"
    },
    "tags": []
   },
   "outputs": [],
   "source": [
    "# Some necessary imports\n",
    "import math"
   ]
  },
  {
   "cell_type": "code",
   "execution_count": 2,
   "id": "48b302bb",
   "metadata": {
    "execution": {
     "iopub.execute_input": "2024-02-28T01:59:56.262987Z",
     "iopub.status.busy": "2024-02-28T01:59:56.262681Z",
     "iopub.status.idle": "2024-02-28T01:59:56.268306Z",
     "shell.execute_reply": "2024-02-28T01:59:56.267413Z"
    },
    "lines_to_next_cell": 2,
    "papermill": {
     "duration": 0.012236,
     "end_time": "2024-02-28T01:59:56.270384",
     "exception": false,
     "start_time": "2024-02-28T01:59:56.258148",
     "status": "completed"
    },
    "tags": []
   },
   "outputs": [
    {
     "name": "stdout",
     "output_type": "stream",
     "text": [
      "24\n",
      "24\n"
     ]
    }
   ],
   "source": [
    "# Q1 - Count digits\n",
    "N = N_ = 123213121231231231221323\n",
    "\n",
    "# Counting digits in O(log10(N))\n",
    "# Log10(N) because everytime N is divided by 10\n",
    "\n",
    "# LogM(N) if N is divided by M everytime\n",
    "count = 0\n",
    "while N_ > 0:\n",
    "    N_ = N_ // 10\n",
    "    count += 1\n",
    "print(count)\n",
    "\n",
    "# Count digits in O(1)\n",
    "print(int(math.log10(N) + 1))"
   ]
  },
  {
   "cell_type": "code",
   "execution_count": 3,
   "id": "228219f8",
   "metadata": {
    "execution": {
     "iopub.execute_input": "2024-02-28T01:59:56.278691Z",
     "iopub.status.busy": "2024-02-28T01:59:56.278030Z",
     "iopub.status.idle": "2024-02-28T01:59:56.282822Z",
     "shell.execute_reply": "2024-02-28T01:59:56.281934Z"
    },
    "papermill": {
     "duration": 0.010632,
     "end_time": "2024-02-28T01:59:56.284902",
     "exception": false,
     "start_time": "2024-02-28T01:59:56.274270",
     "status": "completed"
    },
    "tags": []
   },
   "outputs": [
    {
     "name": "stdout",
     "output_type": "stream",
     "text": [
      "321\n"
     ]
    }
   ],
   "source": [
    "# Q2 - Reverse a number\n",
    "N = 1230\n",
    "rev = 0\n",
    "while N > 0:\n",
    "    rev = (rev * 10) + (N % 10)\n",
    "    N //= 10\n",
    "print(rev)"
   ]
  },
  {
   "cell_type": "code",
   "execution_count": 4,
   "id": "50d26615",
   "metadata": {
    "execution": {
     "iopub.execute_input": "2024-02-28T01:59:56.292384Z",
     "iopub.status.busy": "2024-02-28T01:59:56.291823Z",
     "iopub.status.idle": "2024-02-28T01:59:56.296303Z",
     "shell.execute_reply": "2024-02-28T01:59:56.295558Z"
    },
    "lines_to_next_cell": 1,
    "papermill": {
     "duration": 0.009465,
     "end_time": "2024-02-28T01:59:56.298273",
     "exception": false,
     "start_time": "2024-02-28T01:59:56.288808",
     "status": "completed"
    },
    "tags": []
   },
   "outputs": [
    {
     "name": "stdout",
     "output_type": "stream",
     "text": [
      "True\n"
     ]
    }
   ],
   "source": [
    "# Q3 - Palindrome\n",
    "N_ = N = 10201\n",
    "rev = 0\n",
    "while N_ > 0:\n",
    "    rev = (rev * 10) + (N_ % 10)\n",
    "    N_ //= 10\n",
    "print(rev == N)"
   ]
  },
  {
   "cell_type": "code",
   "execution_count": 5,
   "id": "7939a9d7",
   "metadata": {
    "execution": {
     "iopub.execute_input": "2024-02-28T01:59:56.306034Z",
     "iopub.status.busy": "2024-02-28T01:59:56.305301Z",
     "iopub.status.idle": "2024-02-28T01:59:56.310476Z",
     "shell.execute_reply": "2024-02-28T01:59:56.309743Z"
    },
    "papermill": {
     "duration": 0.010199,
     "end_time": "2024-02-28T01:59:56.312466",
     "exception": false,
     "start_time": "2024-02-28T01:59:56.302267",
     "status": "completed"
    },
    "tags": []
   },
   "outputs": [
    {
     "name": "stdout",
     "output_type": "stream",
     "text": [
      "4\n"
     ]
    }
   ],
   "source": [
    "# Q4 - GCD\n",
    "def gcd(a: int, b: int) -> int:\n",
    "    \"O(log(min(a, b))\"\n",
    "    while a > 0 and b > 0:\n",
    "        max_, min_ = max(a, b), min(a, b)\n",
    "        a, b = max_ % min_, min_\n",
    "    return max(a, b)\n",
    "print(gcd(52, 24))"
   ]
  },
  {
   "cell_type": "code",
   "execution_count": 6,
   "id": "a1ad42ba",
   "metadata": {
    "execution": {
     "iopub.execute_input": "2024-02-28T01:59:56.318156Z",
     "iopub.status.busy": "2024-02-28T01:59:56.317534Z",
     "iopub.status.idle": "2024-02-28T01:59:56.322601Z",
     "shell.execute_reply": "2024-02-28T01:59:56.321860Z"
    },
    "papermill": {
     "duration": 0.009573,
     "end_time": "2024-02-28T01:59:56.324083",
     "exception": false,
     "start_time": "2024-02-28T01:59:56.314510",
     "status": "completed"
    },
    "tags": []
   },
   "outputs": [
    {
     "name": "stdout",
     "output_type": "stream",
     "text": [
      "True\n"
     ]
    }
   ],
   "source": [
    "# Q5 - Armstrong Numbers\n",
    "N_ = N = 371\n",
    "acc = 0\n",
    "while N_ > 0:\n",
    "    acc += (N_ % 10) ** 3\n",
    "    N_ //= 10\n",
    "print(acc == N)"
   ]
  },
  {
   "cell_type": "code",
   "execution_count": 7,
   "id": "f64a952c",
   "metadata": {
    "execution": {
     "iopub.execute_input": "2024-02-28T01:59:56.330425Z",
     "iopub.status.busy": "2024-02-28T01:59:56.329698Z",
     "iopub.status.idle": "2024-02-28T01:59:56.334794Z",
     "shell.execute_reply": "2024-02-28T01:59:56.333979Z"
    },
    "papermill": {
     "duration": 0.010285,
     "end_time": "2024-02-28T01:59:56.336731",
     "exception": false,
     "start_time": "2024-02-28T01:59:56.326446",
     "status": "completed"
    },
    "tags": []
   },
   "outputs": [
    {
     "name": "stdout",
     "output_type": "stream",
     "text": [
      "[1, 2, 3, 4, 6, 9, 12, 18, 36]\n"
     ]
    }
   ],
   "source": [
    "# Q6 - Print all divisors\n",
    "# O(sqrt(N) x log(sqrt(N)))\n",
    "N = 36\n",
    "i = 1\n",
    "result = set()\n",
    "while i*i <= N:\n",
    "    if N % i == 0:\n",
    "        result.add(i)\n",
    "        result.add(N // i)\n",
    "    i += 1\n",
    "print(sorted(result))"
   ]
  },
  {
   "cell_type": "code",
   "execution_count": 8,
   "id": "fb3d2c16",
   "metadata": {
    "execution": {
     "iopub.execute_input": "2024-02-28T01:59:56.343029Z",
     "iopub.status.busy": "2024-02-28T01:59:56.342792Z",
     "iopub.status.idle": "2024-02-28T01:59:56.347324Z",
     "shell.execute_reply": "2024-02-28T01:59:56.346547Z"
    },
    "papermill": {
     "duration": 0.009611,
     "end_time": "2024-02-28T01:59:56.349222",
     "exception": false,
     "start_time": "2024-02-28T01:59:56.339611",
     "status": "completed"
    },
    "tags": []
   },
   "outputs": [
    {
     "name": "stdout",
     "output_type": "stream",
     "text": [
      "True\n"
     ]
    }
   ],
   "source": [
    "# Q7 - Prime\n",
    "N = 13\n",
    "i = 2\n",
    "while i * i <= N:\n",
    "    if N % i == 0:\n",
    "        print(\"False\")\n",
    "        break\n",
    "    i += 1\n",
    "else:\n",
    "    print(\"True\")"
   ]
  }
 ],
 "metadata": {
  "kernelspec": {
   "display_name": "Python 3 (ipykernel)",
   "language": "python",
   "name": "python3"
  },
  "language_info": {
   "codemirror_mode": {
    "name": "ipython",
    "version": 3
   },
   "file_extension": ".py",
   "mimetype": "text/x-python",
   "name": "python",
   "nbconvert_exporter": "python",
   "pygments_lexer": "ipython3",
   "version": "3.11.5"
  },
  "papermill": {
   "default_parameters": {},
   "duration": 1.614529,
   "end_time": "2024-02-28T01:59:56.573814",
   "environment_variables": {},
   "exception": null,
   "input_path": "02-basic-math.ipynb",
   "output_path": "02-basic-math.ipynb",
   "parameters": {},
   "start_time": "2024-02-28T01:59:54.959285",
   "version": "2.4.0"
  }
 },
 "nbformat": 4,
 "nbformat_minor": 5
}