{
 "cells": [
  {
   "cell_type": "markdown",
   "id": "76cb4635",
   "metadata": {},
   "source": [
    "Useful imports"
   ]
  },
  {
   "cell_type": "code",
   "execution_count": null,
   "id": "d45ec848",
   "metadata": {
    "lines_to_next_cell": 1
   },
   "outputs": [],
   "source": [
    "import heapq\n",
    "import bisect\n",
    "import collections\n",
    "import itertools\n",
    "import functools"
   ]
  },
  {
   "cell_type": "markdown",
   "id": "a2f52f24",
   "metadata": {
    "papermill": {
     "duration": 0.00133,
     "end_time": "2024-06-07T18:56:02.779278",
     "exception": false,
     "start_time": "2024-06-07T18:56:02.777948",
     "status": "completed"
    },
    "tags": []
   },
   "source": [
    "Assign cookies: https://leetcode.com/problems/assign-cookies/\n",
    "Video Link: https://youtu.be/DIX2p7vb9co?si=-lYoEBkNX6G40Tpo"
   ]
  },
  {
   "cell_type": "code",
   "execution_count": 1,
   "id": "8016e3c9",
   "metadata": {
    "execution": {
     "iopub.execute_input": "2024-06-07T18:56:02.782890Z",
     "iopub.status.busy": "2024-06-07T18:56:02.782497Z",
     "iopub.status.idle": "2024-06-07T18:56:02.790046Z",
     "shell.execute_reply": "2024-06-07T18:56:02.789640Z"
    },
    "lines_to_next_cell": 1,
    "papermill": {
     "duration": 0.011029,
     "end_time": "2024-06-07T18:56:02.791161",
     "exception": false,
     "start_time": "2024-06-07T18:56:02.780132",
     "status": "completed"
    },
    "tags": []
   },
   "outputs": [],
   "source": [
    "# https://leetcode.com/problems/assign-cookies/submissions/1280845661\n",
    "def findContentChildren(g: list[int], s: list[int]) -> int:\n",
    "    \"\"\"\n",
    "    For each child we assign cookies that only require as much to satisfy their greed.\n",
    "    For a child with greed of 3, we assign the minimum cookie left to satisfy condition: s[k] >= 3\n",
    "    \"\"\"\n",
    "    # Sort in ASC order since we need to find the max\n",
    "    # number of content children possible\n",
    "    g.sort()\n",
    "    s.sort()\n",
    "\n",
    "    # Have pointers for greed and cookies arrary\n",
    "    g_length, s_length = len(g), len(s)\n",
    "    content_children = g_idx = s_idx = 0\n",
    "\n",
    "    # Iterate until either of the arrays are exhausted\n",
    "    while g_idx < g_length and s_idx < s_length:\n",
    "        if s[s_idx] >= g[g_idx]:\n",
    "            content_children, s_idx, g_idx = content_children + 1, s_idx + 1, g_idx + 1\n",
    "        else:\n",
    "            s_idx += 1\n",
    "\n",
    "    return content_children\n",
    "\n",
    "# Testing the solution\n",
    "assert findContentChildren([1,2,3], [1,1,1]) == 1\n",
    "assert findContentChildren([1,2], [1,2,3]) == 2\n",
    "assert findContentChildren([1,2,3], [1,2]) == 2"
   ]
  },
  {
   "cell_type": "markdown",
   "id": "f911a310",
   "metadata": {},
   "source": [
    "Shortest job first CPU scheduling\n",
    "Video Link: https://youtu.be/3-QbX1iDbXs?si=oh3KUu3zLd08uDZ7"
   ]
  },
  {
   "cell_type": "code",
   "execution_count": null,
   "id": "1e00764f",
   "metadata": {
    "lines_to_next_cell": 1
   },
   "outputs": [],
   "source": [
    "def SJF(bt: list[int]) -> float:\n",
    "    \"\"\"Time: O(N), Space: O(N)\"\"\"\n",
    "\n",
    "    # Heapify to convert into a min heap\n",
    "    heapq.heapify(bt)\n",
    "\n",
    "    N = len(bt)\n",
    "    curr_time = total_time = 0\n",
    "    while bt:\n",
    "        runtime = heapq.heappop(bt)\n",
    "        total_time += curr_time\n",
    "        curr_time += runtime\n",
    "\n",
    "    avg_wait = total_time // N\n",
    "    return avg_wait\n",
    "\n",
    "# Testing the solution\n",
    "assert SJF([4,3,7,1,2]) == 4\n",
    "assert SJF([1,2,3,4]) == 2"
   ]
  },
  {
   "cell_type": "markdown",
   "id": "e8d91515",
   "metadata": {},
   "source": [
    "Lemonade change: https://leetcode.com/problems/lemonade-change/description/\n",
    "Video link: https://youtu.be/n_tmibEhO6Q?si=bqyD-xTjBPIG9scO"
   ]
  },
  {
   "cell_type": "code",
   "execution_count": null,
   "id": "726bd349",
   "metadata": {
    "lines_to_next_cell": 1
   },
   "outputs": [],
   "source": [
    "# https://leetcode.com/problems/lemonade-change/submissions/1281069969\n",
    "def lemonadeChange(bills: list[int]) -> bool:\n",
    "    change5 = change10 = 0\n",
    "    for bill in bills:\n",
    "        if bill == 5:\n",
    "            change5 += 1\n",
    "        elif bill == 10:\n",
    "            change10 += 1\n",
    "            change5 -= 1\n",
    "        else:\n",
    "            # Try to change with 10 if available\n",
    "            if change10 > 0:\n",
    "                change5, change10 = change5 - 1, change10 - 1\n",
    "            # Else we can change with 5\n",
    "            else:\n",
    "                change5 -= 3\n",
    "\n",
    "        # Reason this is added here and not at the end: [10,5]\n",
    "        if change5 < 0 or change10 < 0:\n",
    "            return False\n",
    "\n",
    "    else:\n",
    "        return True\n",
    "\n",
    "# Testing the solution\n",
    "assert lemonadeChange([5,5,10,10,20]) == False\n",
    "assert lemonadeChange([10,5]) == False\n",
    "assert lemonadeChange([5,10,20]) == False\n",
    "assert lemonadeChange([5,5,5,20]) == True"
   ]
  },
  {
   "cell_type": "markdown",
   "id": "bf923f2c",
   "metadata": {},
   "source": [
    "Jump game: https://leetcode.com/problems/jump-game/\n",
    "Video Link: https://youtu.be/tZAa_jJ3SwQ?si=PUeiia1qBXmvfk_C"
   ]
  },
  {
   "cell_type": "code",
   "execution_count": null,
   "id": "d487decb",
   "metadata": {
    "lines_to_next_cell": 1
   },
   "outputs": [],
   "source": [
    "def canJumpBrute(nums: list[int]) -> bool:\n",
    "    N = len(nums)\n",
    "    good_indices: collections.deque = collections.deque([N - 1])\n",
    "    for i in range(N - 2, -1, -1):\n",
    "        for good_idx in good_indices:\n",
    "            if i + nums[i] >= good_idx:\n",
    "                good_indices.appendleft(i)\n",
    "                break\n",
    "\n",
    "    return good_indices[0] == 0\n",
    "\n",
    "# Testing the solution\n",
    "assert canJumpBrute([2,3,1,1,4]) == True\n",
    "assert canJumpBrute([3,2,1,0,4]) == False\n",
    "assert canJumpBrute([2,0,2,0,0]) == True"
   ]
  },
  {
   "cell_type": "code",
   "execution_count": null,
   "id": "4b59da66",
   "metadata": {
    "lines_to_next_cell": 1
   },
   "outputs": [],
   "source": [
    "# https://leetcode.com/problems/jump-game/submissions/1281092917\n",
    "def canJump(nums: list[int]) -> bool:\n",
    "    \"\"\"\n",
    "    We can notice that if the latest good index was reachable, then every other good index beyond would\n",
    "    have been reachable as well.\n",
    "\n",
    "    On the contrary if the latest good index (nearest to current) was not reachable, then no index beyond would be reachable.\n",
    "\n",
    "    Time: O(N), Space: O(1)\n",
    "    \"\"\"\n",
    "    N = len(nums)\n",
    "    good_idx: int = N - 1\n",
    "    for i in range(N - 2, -1, -1):\n",
    "        if i + nums[i] >= good_idx:\n",
    "            good_idx = i\n",
    "\n",
    "    return good_idx == 0\n",
    "\n",
    "# Testing the solution\n",
    "assert canJump([2,3,1,1,4]) == True\n",
    "assert canJump([3,2,1,0,4]) == False\n",
    "assert canJump([2,0,2,0,0]) == True"
   ]
  },
  {
   "cell_type": "code",
   "execution_count": null,
   "id": "da43a335",
   "metadata": {},
   "outputs": [],
   "source": [
    "# https://leetcode.com/problems/jump-game/submissions/1281113037\n",
    "def canJumpStriver(nums: list[int]) -> bool:\n",
    "    \"\"\"\n",
    "    If there were no 0's we would always be able to reach the destination.\n",
    "    In other cases it may or may not be possible.\n",
    "\n",
    "    Time: O(N), Space: O(1)\n",
    "    \"\"\"\n",
    "    N, max_idx = len(nums), 0\n",
    "    for i in range(N):\n",
    "        if i <= max_idx:\n",
    "            max_idx = max(max_idx, nums[i] + i)\n",
    "        else:\n",
    "            return False\n",
    "\n",
    "    return True\n",
    "\n",
    "# Testing the solution\n",
    "assert canJumpStriver([2,3,1,1,4]) == True\n",
    "assert canJumpStriver([3,2,1,0,4]) == False\n",
    "assert canJumpStriver([2,0,2,0,0]) == True"
   ]
  }
 ],
 "metadata": {
  "kernelspec": {
   "display_name": "Python 3 (ipykernel)",
   "language": "python",
   "name": "python3"
  },
  "language_info": {
   "codemirror_mode": {
    "name": "ipython",
    "version": 3
   },
   "file_extension": ".py",
   "mimetype": "text/x-python",
   "name": "python",
   "nbconvert_exporter": "python",
   "pygments_lexer": "ipython3",
   "version": "3.11.9"
  },
  "papermill": {
   "default_parameters": {},
   "duration": 1.283251,
   "end_time": "2024-06-07T18:56:02.906852",
   "environment_variables": {},
   "exception": null,
   "input_path": "study/striver-A2Z/17-greedy.ipynb",
   "output_path": "study/striver-A2Z/17-greedy.ipynb",
   "parameters": {},
   "start_time": "2024-06-07T18:56:01.623601",
   "version": "2.6.0"
  }
 },
 "nbformat": 4,
 "nbformat_minor": 5
}
