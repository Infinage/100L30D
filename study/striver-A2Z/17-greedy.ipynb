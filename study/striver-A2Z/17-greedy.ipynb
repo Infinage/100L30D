{
 "cells": [
  {
   "cell_type": "markdown",
   "id": "76cb4635",
   "metadata": {
    "papermill": {
     "duration": 0.003873,
     "end_time": "2024-06-09T03:36:12.530455",
     "exception": false,
     "start_time": "2024-06-09T03:36:12.526582",
     "status": "completed"
    },
    "tags": []
   },
   "source": [
    "Useful imports"
   ]
  },
  {
   "cell_type": "code",
   "execution_count": 1,
   "id": "d45ec848",
   "metadata": {
    "execution": {
     "iopub.execute_input": "2024-06-09T03:36:12.538205Z",
     "iopub.status.busy": "2024-06-09T03:36:12.537822Z",
     "iopub.status.idle": "2024-06-09T03:36:12.543254Z",
     "shell.execute_reply": "2024-06-09T03:36:12.542742Z"
    },
    "lines_to_next_cell": 1,
    "papermill": {
     "duration": 0.010531,
     "end_time": "2024-06-09T03:36:12.544284",
     "exception": false,
     "start_time": "2024-06-09T03:36:12.533753",
     "status": "completed"
    },
    "tags": []
   },
   "outputs": [],
   "source": [
    "import heapq\n",
    "import bisect\n",
    "import collections\n",
    "import itertools\n",
    "import functools\n",
    "import math"
   ]
  },
  {
   "cell_type": "markdown",
   "id": "a2f52f24",
   "metadata": {
    "papermill": {
     "duration": 0.003017,
     "end_time": "2024-06-09T03:36:12.550498",
     "exception": false,
     "start_time": "2024-06-09T03:36:12.547481",
     "status": "completed"
    },
    "tags": []
   },
   "source": [
    "Assign cookies: https://leetcode.com/problems/assign-cookies/\n",
    "Video Link: https://youtu.be/DIX2p7vb9co?si=-lYoEBkNX6G40Tpo"
   ]
  },
  {
   "cell_type": "code",
   "execution_count": 2,
   "id": "8016e3c9",
   "metadata": {
    "execution": {
     "iopub.execute_input": "2024-06-09T03:36:12.557733Z",
     "iopub.status.busy": "2024-06-09T03:36:12.557385Z",
     "iopub.status.idle": "2024-06-09T03:36:12.562340Z",
     "shell.execute_reply": "2024-06-09T03:36:12.561890Z"
    },
    "lines_to_next_cell": 1,
    "papermill": {
     "duration": 0.009797,
     "end_time": "2024-06-09T03:36:12.563391",
     "exception": false,
     "start_time": "2024-06-09T03:36:12.553594",
     "status": "completed"
    },
    "tags": []
   },
   "outputs": [],
   "source": [
    "# https://leetcode.com/problems/assign-cookies/submissions/1280845661\n",
    "def findContentChildren(g: list[int], s: list[int]) -> int:\n",
    "    \"\"\"\n",
    "    For each child we assign cookies that only require as much to satisfy their greed.\n",
    "    For a child with greed of 3, we assign the minimum cookie left to satisfy condition: s[k] >= 3\n",
    "    \"\"\"\n",
    "    # Sort in ASC order since we need to find the max\n",
    "    # number of content children possible\n",
    "    g.sort()\n",
    "    s.sort()\n",
    "\n",
    "    # Have pointers for greed and cookies arrary\n",
    "    g_length, s_length = len(g), len(s)\n",
    "    content_children = g_idx = s_idx = 0\n",
    "\n",
    "    # Iterate until either of the arrays are exhausted\n",
    "    while g_idx < g_length and s_idx < s_length:\n",
    "        if s[s_idx] >= g[g_idx]:\n",
    "            content_children, s_idx, g_idx = content_children + 1, s_idx + 1, g_idx + 1\n",
    "        else:\n",
    "            s_idx += 1\n",
    "\n",
    "    return content_children\n",
    "\n",
    "# Testing the solution\n",
    "assert findContentChildren([1,2,3], [1,1,1]) == 1\n",
    "assert findContentChildren([1,2], [1,2,3]) == 2\n",
    "assert findContentChildren([1,2,3], [1,2]) == 2"
   ]
  },
  {
   "cell_type": "markdown",
   "id": "f911a310",
   "metadata": {
    "papermill": {
     "duration": 0.003082,
     "end_time": "2024-06-09T03:36:12.569509",
     "exception": false,
     "start_time": "2024-06-09T03:36:12.566427",
     "status": "completed"
    },
    "tags": []
   },
   "source": [
    "Shortest job first CPU scheduling\n",
    "Video Link: https://youtu.be/3-QbX1iDbXs?si=oh3KUu3zLd08uDZ7"
   ]
  },
  {
   "cell_type": "code",
   "execution_count": 3,
   "id": "1e00764f",
   "metadata": {
    "execution": {
     "iopub.execute_input": "2024-06-09T03:36:12.577435Z",
     "iopub.status.busy": "2024-06-09T03:36:12.577060Z",
     "iopub.status.idle": "2024-06-09T03:36:12.581068Z",
     "shell.execute_reply": "2024-06-09T03:36:12.580621Z"
    },
    "lines_to_next_cell": 1,
    "papermill": {
     "duration": 0.008756,
     "end_time": "2024-06-09T03:36:12.582143",
     "exception": false,
     "start_time": "2024-06-09T03:36:12.573387",
     "status": "completed"
    },
    "tags": []
   },
   "outputs": [],
   "source": [
    "def SJF(bt: list[int]) -> float:\n",
    "    \"\"\"Time: O(N), Space: O(N)\"\"\"\n",
    "\n",
    "    # Heapify to convert into a min heap\n",
    "    heapq.heapify(bt)\n",
    "\n",
    "    N = len(bt)\n",
    "    curr_time = total_time = 0\n",
    "    while bt:\n",
    "        runtime = heapq.heappop(bt)\n",
    "        total_time += curr_time\n",
    "        curr_time += runtime\n",
    "\n",
    "    avg_wait = total_time // N\n",
    "    return avg_wait\n",
    "\n",
    "# Testing the solution\n",
    "assert SJF([4,3,7,1,2]) == 4\n",
    "assert SJF([1,2,3,4]) == 2"
   ]
  },
  {
   "cell_type": "markdown",
   "id": "e8d91515",
   "metadata": {
    "papermill": {
     "duration": 0.003098,
     "end_time": "2024-06-09T03:36:12.588554",
     "exception": false,
     "start_time": "2024-06-09T03:36:12.585456",
     "status": "completed"
    },
    "tags": []
   },
   "source": [
    "Lemonade change: https://leetcode.com/problems/lemonade-change/description/\n",
    "Video link: https://youtu.be/n_tmibEhO6Q?si=bqyD-xTjBPIG9scO"
   ]
  },
  {
   "cell_type": "code",
   "execution_count": 4,
   "id": "726bd349",
   "metadata": {
    "execution": {
     "iopub.execute_input": "2024-06-09T03:36:12.595734Z",
     "iopub.status.busy": "2024-06-09T03:36:12.595308Z",
     "iopub.status.idle": "2024-06-09T03:36:12.600115Z",
     "shell.execute_reply": "2024-06-09T03:36:12.599695Z"
    },
    "lines_to_next_cell": 1,
    "papermill": {
     "duration": 0.00949,
     "end_time": "2024-06-09T03:36:12.601133",
     "exception": false,
     "start_time": "2024-06-09T03:36:12.591643",
     "status": "completed"
    },
    "tags": []
   },
   "outputs": [],
   "source": [
    "# https://leetcode.com/problems/lemonade-change/submissions/1281069969\n",
    "def lemonadeChange(bills: list[int]) -> bool:\n",
    "    change5 = change10 = 0\n",
    "    for bill in bills:\n",
    "        if bill == 5:\n",
    "            change5 += 1\n",
    "        elif bill == 10:\n",
    "            change10 += 1\n",
    "            change5 -= 1\n",
    "        else:\n",
    "            # Try to change with 10 if available\n",
    "            if change10 > 0:\n",
    "                change5, change10 = change5 - 1, change10 - 1\n",
    "            # Else we can change with 5\n",
    "            else:\n",
    "                change5 -= 3\n",
    "\n",
    "        # Reason this is added here and not at the end: [10,5]\n",
    "        if change5 < 0 or change10 < 0:\n",
    "            return False\n",
    "\n",
    "    else:\n",
    "        return True\n",
    "\n",
    "# Testing the solution\n",
    "assert lemonadeChange([5,5,10,10,20]) == False\n",
    "assert lemonadeChange([10,5]) == False\n",
    "assert lemonadeChange([5,10,20]) == False\n",
    "assert lemonadeChange([5,5,5,20]) == True"
   ]
  },
  {
   "cell_type": "markdown",
   "id": "bf923f2c",
   "metadata": {
    "papermill": {
     "duration": 0.003097,
     "end_time": "2024-06-09T03:36:12.607424",
     "exception": false,
     "start_time": "2024-06-09T03:36:12.604327",
     "status": "completed"
    },
    "tags": []
   },
   "source": [
    "Jump game: https://leetcode.com/problems/jump-game/\n",
    "Video Link: https://youtu.be/tZAa_jJ3SwQ?si=PUeiia1qBXmvfk_C"
   ]
  },
  {
   "cell_type": "code",
   "execution_count": 5,
   "id": "d487decb",
   "metadata": {
    "execution": {
     "iopub.execute_input": "2024-06-09T03:36:12.614980Z",
     "iopub.status.busy": "2024-06-09T03:36:12.614573Z",
     "iopub.status.idle": "2024-06-09T03:36:12.618927Z",
     "shell.execute_reply": "2024-06-09T03:36:12.618446Z"
    },
    "lines_to_next_cell": 1,
    "papermill": {
     "duration": 0.009404,
     "end_time": "2024-06-09T03:36:12.619962",
     "exception": false,
     "start_time": "2024-06-09T03:36:12.610558",
     "status": "completed"
    },
    "tags": []
   },
   "outputs": [],
   "source": [
    "def canJumpBrute(nums: list[int]) -> bool:\n",
    "    N = len(nums)\n",
    "    good_indices: collections.deque = collections.deque([N - 1])\n",
    "    for i in range(N - 2, -1, -1):\n",
    "        for good_idx in good_indices:\n",
    "            if i + nums[i] >= good_idx:\n",
    "                good_indices.appendleft(i)\n",
    "                break\n",
    "\n",
    "    return good_indices[0] == 0\n",
    "\n",
    "# Testing the solution\n",
    "assert canJumpBrute([2,3,1,1,4]) == True\n",
    "assert canJumpBrute([3,2,1,0,4]) == False\n",
    "assert canJumpBrute([2,0,2,0,0]) == True"
   ]
  },
  {
   "cell_type": "code",
   "execution_count": 6,
   "id": "4b59da66",
   "metadata": {
    "execution": {
     "iopub.execute_input": "2024-06-09T03:36:12.627294Z",
     "iopub.status.busy": "2024-06-09T03:36:12.626846Z",
     "iopub.status.idle": "2024-06-09T03:36:12.631003Z",
     "shell.execute_reply": "2024-06-09T03:36:12.630512Z"
    },
    "lines_to_next_cell": 1,
    "papermill": {
     "duration": 0.008908,
     "end_time": "2024-06-09T03:36:12.632021",
     "exception": false,
     "start_time": "2024-06-09T03:36:12.623113",
     "status": "completed"
    },
    "tags": []
   },
   "outputs": [],
   "source": [
    "# https://leetcode.com/problems/jump-game/submissions/1281092917\n",
    "def canJump(nums: list[int]) -> bool:\n",
    "    \"\"\"\n",
    "    We can notice that if the latest good index was reachable, then every other good index beyond would\n",
    "    have been reachable as well.\n",
    "\n",
    "    On the contrary if the latest good index (nearest to current) was not reachable, then no index beyond would be reachable.\n",
    "\n",
    "    Time: O(N), Space: O(1)\n",
    "    \"\"\"\n",
    "    N = len(nums)\n",
    "    good_idx: int = N - 1\n",
    "    for i in range(N - 2, -1, -1):\n",
    "        if i + nums[i] >= good_idx:\n",
    "            good_idx = i\n",
    "\n",
    "    return good_idx == 0\n",
    "\n",
    "# Testing the solution\n",
    "assert canJump([2,3,1,1,4]) == True\n",
    "assert canJump([3,2,1,0,4]) == False\n",
    "assert canJump([2,0,2,0,0]) == True"
   ]
  },
  {
   "cell_type": "code",
   "execution_count": 7,
   "id": "da43a335",
   "metadata": {
    "execution": {
     "iopub.execute_input": "2024-06-09T03:36:12.639541Z",
     "iopub.status.busy": "2024-06-09T03:36:12.639098Z",
     "iopub.status.idle": "2024-06-09T03:36:12.643591Z",
     "shell.execute_reply": "2024-06-09T03:36:12.643104Z"
    },
    "lines_to_next_cell": 1,
    "papermill": {
     "duration": 0.00933,
     "end_time": "2024-06-09T03:36:12.644583",
     "exception": false,
     "start_time": "2024-06-09T03:36:12.635253",
     "status": "completed"
    },
    "tags": []
   },
   "outputs": [],
   "source": [
    "# https://leetcode.com/problems/jump-game/submissions/1281113037\n",
    "def canJumpStriver(nums: list[int]) -> bool:\n",
    "    \"\"\"\n",
    "    If there were no 0's we would always be able to reach the destination.\n",
    "    In other cases it may or may not be possible.\n",
    "\n",
    "    Time: O(N), Space: O(1)\n",
    "    \"\"\"\n",
    "    N, max_idx = len(nums), 0\n",
    "    for i in range(N):\n",
    "        if i <= max_idx:\n",
    "            max_idx = max(max_idx, nums[i] + i)\n",
    "        else:\n",
    "            return False\n",
    "\n",
    "    return True\n",
    "\n",
    "# Testing the solution\n",
    "assert canJumpStriver([2,3,1,1,4]) == True\n",
    "assert canJumpStriver([3,2,1,0,4]) == False\n",
    "assert canJumpStriver([2,0,2,0,0]) == True"
   ]
  },
  {
   "cell_type": "markdown",
   "id": "7d2a5ae9",
   "metadata": {
    "papermill": {
     "duration": 0.003048,
     "end_time": "2024-06-09T03:36:12.650769",
     "exception": false,
     "start_time": "2024-06-09T03:36:12.647721",
     "status": "completed"
    },
    "tags": []
   },
   "source": [
    "Jump Game - II: https://leetcode.com/problems/jump-game-ii/\n",
    "Video Link: https://youtu.be/7SBVnw7GSTk?si=UDZojaM70TuG0XgY"
   ]
  },
  {
   "cell_type": "code",
   "execution_count": 8,
   "id": "bcdd786f",
   "metadata": {
    "execution": {
     "iopub.execute_input": "2024-06-09T03:36:12.657894Z",
     "iopub.status.busy": "2024-06-09T03:36:12.657556Z",
     "iopub.status.idle": "2024-06-09T03:36:12.661845Z",
     "shell.execute_reply": "2024-06-09T03:36:12.661324Z"
    },
    "lines_to_next_cell": 1,
    "papermill": {
     "duration": 0.009133,
     "end_time": "2024-06-09T03:36:12.662953",
     "exception": false,
     "start_time": "2024-06-09T03:36:12.653820",
     "status": "completed"
    },
    "tags": []
   },
   "outputs": [],
   "source": [
    "def jump2Recursive(nums: list[int]) -> int:\n",
    "    @functools.cache\n",
    "    def backtrack(i: int) -> int:\n",
    "        if i == N - 1:\n",
    "            return 0\n",
    "        else:\n",
    "            min_ = N\n",
    "            for jump in range(nums[i]):\n",
    "                min_ = min(min_, backtrack(i + jump + 1))\n",
    "            return 1 + min_\n",
    "\n",
    "    N = len(nums)\n",
    "    return backtrack(0)\n",
    "\n",
    "# Testing the solution\n",
    "assert jump2Recursive([2,3,1,1,4]) == 2\n",
    "assert jump2Recursive([2,3,0,1,4]) == 2"
   ]
  },
  {
   "cell_type": "code",
   "execution_count": 9,
   "id": "7b38a2b6",
   "metadata": {
    "execution": {
     "iopub.execute_input": "2024-06-09T03:36:12.670083Z",
     "iopub.status.busy": "2024-06-09T03:36:12.669793Z",
     "iopub.status.idle": "2024-06-09T03:36:12.674160Z",
     "shell.execute_reply": "2024-06-09T03:36:12.673648Z"
    },
    "lines_to_next_cell": 1,
    "papermill": {
     "duration": 0.00919,
     "end_time": "2024-06-09T03:36:12.675263",
     "exception": false,
     "start_time": "2024-06-09T03:36:12.666073",
     "status": "completed"
    },
    "tags": []
   },
   "outputs": [],
   "source": [
    "# https://leetcode.com/problems/jump-game-ii/submissions/1281812619/\n",
    "def jump2Tab(nums: list[int]) -> int:\n",
    "    # Time: O(N ** 2), Space: O(N)\n",
    "    N = len(nums)\n",
    "    dp: list[int] = [N if i < N - 1 else 0 for i in range(N)]\n",
    "    for i in range(N - 2, -1, -1):\n",
    "        for j in range(i + 1, min(N, i + 1 + nums[i])):\n",
    "            dp[i] = min(dp[i], 1 + dp[j])\n",
    "\n",
    "    return dp[0]\n",
    "\n",
    "# Testing the solution\n",
    "assert jump2Tab([2,3,1,1,4]) == 2\n",
    "assert jump2Tab([2,3,0,1,4]) == 2"
   ]
  },
  {
   "cell_type": "code",
   "execution_count": 10,
   "id": "7336f2b2",
   "metadata": {
    "execution": {
     "iopub.execute_input": "2024-06-09T03:36:12.682478Z",
     "iopub.status.busy": "2024-06-09T03:36:12.682145Z",
     "iopub.status.idle": "2024-06-09T03:36:12.686396Z",
     "shell.execute_reply": "2024-06-09T03:36:12.685930Z"
    },
    "lines_to_next_cell": 1,
    "papermill": {
     "duration": 0.009121,
     "end_time": "2024-06-09T03:36:12.687471",
     "exception": false,
     "start_time": "2024-06-09T03:36:12.678350",
     "status": "completed"
    },
    "tags": []
   },
   "outputs": [],
   "source": [
    "# https://leetcode.com/problems/jump-game-ii/submissions/1281839417\n",
    "def jump2Striver(nums: list[int]) -> int:\n",
    "    \"\"\"\n",
    "    Instead of iterating through all indices that we can jump to,\n",
    "    we keep track of the range.\n",
    "    For each range\n",
    "        - Figure out the maximum idx we can jump to\n",
    "        - jumps = jumps + 1\n",
    "    Iterate until we reach the last index, ans would be the value of jumps variable\n",
    "\n",
    "    Time: O(N), Space: O(1)\n",
    "    \"\"\"\n",
    "    N = len(nums)\n",
    "    jumps = l = r = 0\n",
    "    while r < N - 1:\n",
    "        farthest = 0\n",
    "        for i in range(l, r + 1):\n",
    "            farthest = max(farthest, i + nums[i])\n",
    "        l, r, jumps = r + 1, farthest, jumps + 1\n",
    "\n",
    "    return jumps\n",
    "\n",
    "# Testing the solution\n",
    "assert jump2Striver([2,3,1,1,4]) == 2\n",
    "assert jump2Striver([2,3,0,1,4]) == 2"
   ]
  },
  {
   "cell_type": "markdown",
   "id": "52b5429b",
   "metadata": {
    "papermill": {
     "duration": 0.003081,
     "end_time": "2024-06-09T03:36:12.693682",
     "exception": false,
     "start_time": "2024-06-09T03:36:12.690601",
     "status": "completed"
    },
    "tags": []
   },
   "source": [
    "Job sequencing Problem: https://www.geeksforgeeks.org/problems/job-sequencing-problem-1587115620/1\n",
    "Video Link: https://youtu.be/QbwltemZbRg?si=R93V-44Jyr37Il4L"
   ]
  },
  {
   "cell_type": "code",
   "execution_count": 11,
   "id": "c804e410",
   "metadata": {
    "execution": {
     "iopub.execute_input": "2024-06-09T03:36:12.700925Z",
     "iopub.status.busy": "2024-06-09T03:36:12.700584Z",
     "iopub.status.idle": "2024-06-09T03:36:12.706502Z",
     "shell.execute_reply": "2024-06-09T03:36:12.705986Z"
    },
    "lines_to_next_cell": 1,
    "papermill": {
     "duration": 0.010826,
     "end_time": "2024-06-09T03:36:12.707637",
     "exception": false,
     "start_time": "2024-06-09T03:36:12.696811",
     "status": "completed"
    },
    "tags": []
   },
   "outputs": [],
   "source": [
    "def jobScheduling(jobs: list[tuple[int, int, int]], N: int) -> tuple[int, int]:\n",
    "    \"\"\"\n",
    "    Start with the jobs with highest profit, try to push the start time as close as possible to the deadline\n",
    "    being super lazy about it.\n",
    "\n",
    "    Time: O(N log N) + O(N x max deadline)\n",
    "    Space: O(N)\n",
    "\n",
    "    We can optimize the inner loop (deadline -> 0) further with the use of DSU (Disjoint set union)\n",
    "    \"\"\"\n",
    "    jobs_start: set[int] = set()\n",
    "    jobs_sorted: list[tuple[int, int]] = sorted(map(lambda x: (x[2], x[1]), jobs), reverse=True)\n",
    "    job_count = total_profit = 0\n",
    "    for profit, deadline in jobs_sorted:\n",
    "        for start in range(deadline - 1, -1, -1):\n",
    "            if start not in jobs_start:\n",
    "                jobs_start.add(start)\n",
    "                job_count, total_profit = job_count + 1, total_profit + profit\n",
    "                break\n",
    "\n",
    "    return job_count, total_profit\n",
    "\n",
    "# Testing the solution\n",
    "assert jobScheduling([(1,2,100),(2,1,19),(3,2,27),(4,1,25),(5,1,15)], 5) == (2, 127)\n",
    "assert jobScheduling([(1,4,20),(2,1,10),(3,1,40),(4,1,30)], 5) == (2, 60)\n",
    "assert jobScheduling([(1,4,50),(2,1,50)], 2) == (2, 100)\n",
    "assert jobScheduling([(1,4,60),(2,1,50)], 2) == (2, 110)"
   ]
  },
  {
   "cell_type": "markdown",
   "id": "2835d225",
   "metadata": {
    "papermill": {
     "duration": 0.003083,
     "end_time": "2024-06-09T03:36:12.713878",
     "exception": false,
     "start_time": "2024-06-09T03:36:12.710795",
     "status": "completed"
    },
    "tags": []
   },
   "source": [
    "N meetings in one room: https://www.geeksforgeeks.org/problems/n-meetings-in-one-room-1587115620/1\n",
    "Video Link: https://youtu.be/mKfhTotEguk?si=gTVT-RsSg0PR9RPP"
   ]
  },
  {
   "cell_type": "code",
   "execution_count": 12,
   "id": "7fe0aed4",
   "metadata": {
    "execution": {
     "iopub.execute_input": "2024-06-09T03:36:12.721161Z",
     "iopub.status.busy": "2024-06-09T03:36:12.720744Z",
     "iopub.status.idle": "2024-06-09T03:36:12.725971Z",
     "shell.execute_reply": "2024-06-09T03:36:12.725529Z"
    },
    "lines_to_next_cell": 1,
    "papermill": {
     "duration": 0.01003,
     "end_time": "2024-06-09T03:36:12.727031",
     "exception": false,
     "start_time": "2024-06-09T03:36:12.717001",
     "status": "completed"
    },
    "tags": []
   },
   "outputs": [],
   "source": [
    "def maximumMeetings(N: int, start: list[int], end: list[int]) -> int:\n",
    "    \"\"\"\n",
    "    Sort based on end time, we need to find meetings that finish sooner.\n",
    "    Simply iterate through the sorted meeting in order and check if it is possible to host the meeting\n",
    "\n",
    "    - It works because the earliest-ending meeting can't possibly cause more conflicts than any other choice\n",
    "    - It leaves the largest amount of un-interrupted time remaining for other intervals to be chosen from\n",
    "\n",
    "    Time: O(N log N)\n",
    "    Space: O(N)\n",
    "    \"\"\"\n",
    "\n",
    "    # Sort meeting based on the end time\n",
    "    meetings: list[tuple[int, int, int]] = [(start[i], end[i], i) for i in range(N)]\n",
    "    meetings.sort(key=lambda x: x[1])\n",
    "\n",
    "    order: list[int] = []\n",
    "    meeting_count = free_at = 0\n",
    "    for stime, etime, idx in meetings:\n",
    "        if stime > free_at:\n",
    "            order.append(idx)\n",
    "            meeting_count, free_at = meeting_count + 1, etime\n",
    "\n",
    "    # If needed, to return the order in which the meetings could be conducted,\n",
    "    # we can make use of the `meeting_count` variable\n",
    "\n",
    "    return meeting_count\n",
    "\n",
    "# Testing the solution\n",
    "assert maximumMeetings(6, [1,3,0,5,8,5], [2,4,6,7,9,9]) == 4\n",
    "assert maximumMeetings(3, [1,4,6], [5,6,10]) == 2"
   ]
  },
  {
   "cell_type": "markdown",
   "id": "68f75f03",
   "metadata": {
    "papermill": {
     "duration": 0.003177,
     "end_time": "2024-06-09T03:36:12.733353",
     "exception": false,
     "start_time": "2024-06-09T03:36:12.730176",
     "status": "completed"
    },
    "tags": []
   },
   "source": [
    "Non overlapping intervals: https://leetcode.com/problems/non-overlapping-intervals/\n",
    "Video Link: https://youtu.be/HDHQ8lAWakY?si=s1_2CwOoEBx5LSOQ"
   ]
  },
  {
   "cell_type": "code",
   "execution_count": 13,
   "id": "7842ff87",
   "metadata": {
    "execution": {
     "iopub.execute_input": "2024-06-09T03:36:12.740732Z",
     "iopub.status.busy": "2024-06-09T03:36:12.740348Z",
     "iopub.status.idle": "2024-06-09T03:36:12.745905Z",
     "shell.execute_reply": "2024-06-09T03:36:12.745460Z"
    },
    "lines_to_next_cell": 1,
    "papermill": {
     "duration": 0.0104,
     "end_time": "2024-06-09T03:36:12.746972",
     "exception": false,
     "start_time": "2024-06-09T03:36:12.736572",
     "status": "completed"
    },
    "tags": []
   },
   "outputs": [
    {
     "name": "stdout",
     "output_type": "stream",
     "text": [
      "[[1, 2], [1, 3], [2, 3], [3, 4]]\n",
      "[[1, 2], [1, 2], [1, 2]]\n",
      "[[1, 2], [2, 3]]\n",
      "[[3, 4], [5, 6], [8, 12], [10, 12], [-10, 20], [15, 20]]\n"
     ]
    }
   ],
   "source": [
    "# https://leetcode.com/problems/non-overlapping-intervals/submissions/1282204448\n",
    "def eraseOverlapIntervals(intervals: list[list[int]]) -> int:\n",
    "    # Sort intervals based on start time\n",
    "    intervals.sort(key=lambda x: (x[1], x[0]))\n",
    "\n",
    "    print(intervals)\n",
    "\n",
    "    curr_time, skip = intervals[0][0], 0\n",
    "    for stime, etime in intervals:\n",
    "        if curr_time <= stime:\n",
    "            curr_time = etime\n",
    "        else:\n",
    "            skip += 1\n",
    "\n",
    "    return skip\n",
    "\n",
    "# Testing the solution\n",
    "assert eraseOverlapIntervals([[1,2],[2,3],[3,4],[1,3]]) == 1\n",
    "assert eraseOverlapIntervals([[1,2],[1,2],[1,2]]) == 2\n",
    "assert eraseOverlapIntervals([[1,2],[2,3]]) == 0\n",
    "assert eraseOverlapIntervals([[-10,20],[8,12],[3,4],[5,6],[10,12],[15,20]]) == 2"
   ]
  },
  {
   "cell_type": "markdown",
   "id": "f4ede58d",
   "metadata": {
    "papermill": {
     "duration": 0.003171,
     "end_time": "2024-06-09T03:36:12.753388",
     "exception": false,
     "start_time": "2024-06-09T03:36:12.750217",
     "status": "completed"
    },
    "tags": []
   },
   "source": [
    "Insert intervals: https://leetcode.com/problems/insert-interval/description/\n",
    "Video Link: https://youtu.be/xxRE-46OCC8?si=kKQ10RKueMFdlR-e"
   ]
  },
  {
   "cell_type": "code",
   "execution_count": 14,
   "id": "c09c42a9",
   "metadata": {
    "execution": {
     "iopub.execute_input": "2024-06-09T03:36:12.760766Z",
     "iopub.status.busy": "2024-06-09T03:36:12.760438Z",
     "iopub.status.idle": "2024-06-09T03:36:12.767065Z",
     "shell.execute_reply": "2024-06-09T03:36:12.766602Z"
    },
    "lines_to_next_cell": 1,
    "papermill": {
     "duration": 0.011472,
     "end_time": "2024-06-09T03:36:12.768076",
     "exception": false,
     "start_time": "2024-06-09T03:36:12.756604",
     "status": "completed"
    },
    "tags": []
   },
   "outputs": [],
   "source": [
    "# https://leetcode.com/problems/insert-interval/submissions/1282223708/\n",
    "def insertIntervals(intervals: list[list[int]], newInterval: list[int]) -> list[list[int]]:\n",
    "    # Time: O(N), Space: O(N)\n",
    "    N = len(intervals)\n",
    "\n",
    "    # Insert intervals here post merge\n",
    "    merged: list[list[int]] = []\n",
    "\n",
    "    # Travel until we are at a pos to insert newInterval\n",
    "    i = 0\n",
    "    while i < N and intervals[i][0] < newInterval[0]:\n",
    "        merged.append(intervals[i])\n",
    "        i += 1\n",
    "\n",
    "    # Insert the new interval or merge it with prev interval\n",
    "    if merged and merged[-1][1] >= newInterval[0]:\n",
    "        merged[-1] = [merged[-1][0], max(merged[-1][1], newInterval[1])]\n",
    "    else:\n",
    "        merged.append(newInterval)\n",
    "\n",
    "    # Continue merging and then inserting until all intervals are done\n",
    "    while i < N:\n",
    "        if merged[-1][1] >= intervals[i][0]:\n",
    "            merged[-1] = [merged[-1][0], max(merged[-1][1], intervals[i][1])]\n",
    "        else:\n",
    "            merged.append(intervals[i])\n",
    "        i += 1\n",
    "\n",
    "    return merged\n",
    "\n",
    "# Testing the solution\n",
    "assert insertIntervals([[1,3],[6,9]], [2,5]) == [[1,5],[6,9]]\n",
    "assert insertIntervals([[1,2],[3,5],[6,7],[8,10],[12,16]], [3,8]) == [[1,2],[3,10],[12,16]]\n",
    "assert insertIntervals([[1,2],[3,5],[6,7],[8,10],[12,16]], [11,11]) == [[1,2],[3,5],[6,7],[8,10],[11,11],[12,16]]"
   ]
  },
  {
   "cell_type": "markdown",
   "id": "c948b4ef",
   "metadata": {
    "papermill": {
     "duration": 0.003166,
     "end_time": "2024-06-09T03:36:12.774491",
     "exception": false,
     "start_time": "2024-06-09T03:36:12.771325",
     "status": "completed"
    },
    "tags": []
   },
   "source": [
    "Minimum number of platforms required in a railway station: https://www.geeksforgeeks.org/problems/minimum-platforms-1587115620/1\n",
    "Video link: https://youtu.be/AsGzwR_FWok?si=Nt5CMUPctV39JtSd"
   ]
  },
  {
   "cell_type": "code",
   "execution_count": 15,
   "id": "35d5bae3",
   "metadata": {
    "execution": {
     "iopub.execute_input": "2024-06-09T03:36:12.781909Z",
     "iopub.status.busy": "2024-06-09T03:36:12.781593Z",
     "iopub.status.idle": "2024-06-09T03:36:12.786369Z",
     "shell.execute_reply": "2024-06-09T03:36:12.785936Z"
    },
    "lines_to_next_cell": 1,
    "papermill": {
     "duration": 0.009664,
     "end_time": "2024-06-09T03:36:12.787412",
     "exception": false,
     "start_time": "2024-06-09T03:36:12.777748",
     "status": "completed"
    },
    "tags": []
   },
   "outputs": [],
   "source": [
    "def minimumPlatformBrute1(N: int, arr: list[int], dep: list[int]) -> int:\n",
    "    # Time: O(N x 2400) + O(2400), Space: O(2400)\n",
    "    platform: list[int] = [0 for i in range(2400)]\n",
    "    for stime, etime in zip(arr, dep):\n",
    "        for i in range(stime, etime + 1):\n",
    "            platform[i] += 1\n",
    "\n",
    "    return max(platform)\n",
    "\n",
    "# Testing the soltution\n",
    "assert minimumPlatformBrute1(3, [900, 1100, 1235], [1000, 1200, 1240]) == 1\n",
    "assert minimumPlatformBrute1(3, [900, 930, 1015], [1000, 1030, 1100]) == 2\n",
    "assert minimumPlatformBrute1(3, [900, 930, 1000], [1000, 1030, 1100]) == 3"
   ]
  },
  {
   "cell_type": "code",
   "execution_count": 16,
   "id": "d0510feb",
   "metadata": {
    "execution": {
     "iopub.execute_input": "2024-06-09T03:36:12.794712Z",
     "iopub.status.busy": "2024-06-09T03:36:12.794512Z",
     "iopub.status.idle": "2024-06-09T03:36:12.799207Z",
     "shell.execute_reply": "2024-06-09T03:36:12.798760Z"
    },
    "lines_to_next_cell": 1,
    "papermill": {
     "duration": 0.009584,
     "end_time": "2024-06-09T03:36:12.800231",
     "exception": false,
     "start_time": "2024-06-09T03:36:12.790647",
     "status": "completed"
    },
    "tags": []
   },
   "outputs": [],
   "source": [
    "def minimumPlatformBrute2(N: int, arr: list[int], dep: list[int]) -> int:\n",
    "    max_overlap = 0\n",
    "    for i in range(N):\n",
    "        overlap, istart, iend = 0, arr[i], dep[i]\n",
    "        for j in range(i + 1, N):\n",
    "            jstart, jend = arr[j], dep[j]\n",
    "            if jstart <= iend:\n",
    "                overlap += 1\n",
    "        max_overlap = max(max_overlap, overlap)\n",
    "\n",
    "    return max_overlap + 1\n",
    "\n",
    "# Testing the soltution\n",
    "assert minimumPlatformBrute2(3, [900, 1100, 1235], [1000, 1200, 1240]) == 1\n",
    "assert minimumPlatformBrute2(3, [900, 930, 1015], [1000, 1030, 1100]) == 2\n",
    "assert minimumPlatformBrute2(3, [900, 930, 1000], [1000, 1030, 1100]) == 3"
   ]
  },
  {
   "cell_type": "code",
   "execution_count": 17,
   "id": "8f9a4262",
   "metadata": {
    "execution": {
     "iopub.execute_input": "2024-06-09T03:36:12.807767Z",
     "iopub.status.busy": "2024-06-09T03:36:12.807433Z",
     "iopub.status.idle": "2024-06-09T03:36:12.812180Z",
     "shell.execute_reply": "2024-06-09T03:36:12.811753Z"
    },
    "lines_to_next_cell": 1,
    "papermill": {
     "duration": 0.009656,
     "end_time": "2024-06-09T03:36:12.813186",
     "exception": false,
     "start_time": "2024-06-09T03:36:12.803530",
     "status": "completed"
    },
    "tags": []
   },
   "outputs": [],
   "source": [
    "def minimumPlatform(N: int, arr: list[int], dep: list[int]) -> int:\n",
    "    \"\"\"\n",
    "    Brilliant logic from Striver:\n",
    "        Stand and observe the station as the time passes by\n",
    "\n",
    "    Time: O(N log N), Space: O(1)\n",
    "    \"\"\"\n",
    "    # Sort the events based on time, imagine an observer standing by and watching the events unfolding\n",
    "    arr.sort()\n",
    "    dep.sort()\n",
    "\n",
    "    # Count the overlaps\n",
    "    max_overlap = overlap = arr_idx = dep_idx = 0\n",
    "    while arr_idx < N or dep_idx < N:\n",
    "        if dep_idx >= N or (arr_idx < N and arr[arr_idx] <= dep[dep_idx]):\n",
    "            overlap, arr_idx = overlap + 1, arr_idx + 1\n",
    "        else:\n",
    "            overlap, dep_idx = overlap - 1, dep_idx + 1\n",
    "        max_overlap = max(max_overlap, overlap)\n",
    "\n",
    "    return max_overlap\n",
    "\n",
    "# Testing the soltution\n",
    "assert minimumPlatform(3, [900, 1100, 1235], [1000, 1200, 1240]) == 1\n",
    "assert minimumPlatform(3, [900, 930, 1015], [1000, 1030, 1100]) == 2\n",
    "assert minimumPlatform(3, [900, 930, 1000], [1000, 1030, 1100]) == 3"
   ]
  },
  {
   "cell_type": "markdown",
   "id": "f8141934",
   "metadata": {},
   "source": [
    "Valid Parenthesis String: https://leetcode.com/problems/valid-parenthesis-string/\n",
    "Video Link: https://youtu.be/cHT6sG_hUZI?si=7S_ZYJK-16nXDsLR"
   ]
  },
  {
   "cell_type": "code",
   "execution_count": null,
   "id": "27d2375c",
   "metadata": {
    "lines_to_next_cell": 1
   },
   "outputs": [],
   "source": [
    "def checkValidStringBrute(s: str) -> bool:\n",
    "    @functools.cache\n",
    "    def backtrack(i: int, brackets: int) -> bool:\n",
    "        if brackets < 0:\n",
    "            return False\n",
    "        elif i == N:\n",
    "            return brackets == 0\n",
    "        elif s[i] == \"(\":\n",
    "            return backtrack(i + 1, brackets + 1)\n",
    "        elif s[i] == \")\":\n",
    "            return backtrack(i + 1, brackets - 1)\n",
    "        else:\n",
    "            return backtrack(i + 1, brackets) or backtrack(i + 1, brackets - 1) or backtrack(i + 1, brackets + 1)\n",
    "\n",
    "    N = len(s)\n",
    "    return backtrack(0, 0)\n",
    "\n",
    "# Testing the solution\n",
    "for s, result in [\n",
    "        (\"()\", True), (\"(*)\", True), (\"(*))\", True), (\"(*()\", True), (\")*\", False),\n",
    "        (\"(**\", True), (\"*\", True), (\"(**)()(((*))*))\", True), (\"(**(\", False)\n",
    "    ]:\n",
    "    assert checkValidStringBrute(s) == result, f\"failed for {s}\""
   ]
  },
  {
   "cell_type": "code",
   "execution_count": null,
   "id": "d04d4889",
   "metadata": {
    "lines_to_next_cell": 1
   },
   "outputs": [],
   "source": [
    "def checkValidStringBetter(s: str) -> bool:\n",
    "    \"\"\"\n",
    "    Tabulating the backtracking approach to bring down log(N) portion of runtime\n",
    "\n",
    "    Time: O(N ** 2), Space: O(N ** 2)\n",
    "    \"\"\"\n",
    "\n",
    "    N = len(s)\n",
    "    dp: list[list[bool]] = [[True if i == N and j == 0 else False for j in range(N + 1)] for i in range(N + 1)]\n",
    "    for i in range(N - 1, -1, -1):\n",
    "        for j in range(N - 1, -1, -1):\n",
    "            if s[i] == \"(\":\n",
    "                dp[i][j] = dp[i + 1][j + 1]\n",
    "            elif s[i] == \")\":\n",
    "                dp[i][j] = dp[i + 1][j - 1]\n",
    "            else:\n",
    "                dp[i][j] = dp[i + 1][j] or dp[i + 1][j - 1] or dp[i + 1][j + 1]\n",
    "\n",
    "    return dp[0][0]\n",
    "\n",
    "# Testing the solution\n",
    "for s, result in [\n",
    "        (\"()\", True), (\"(*)\", True), (\"(*))\", True), (\"(*()\", True), (\")*\", False),\n",
    "        (\"(**\", True), (\"*\", True), (\"(**)()(((*))*))\", True), (\"(**(\", False)\n",
    "    ]:\n",
    "    assert checkValidStringBetter(s) == result, f\"failed for {s}\""
   ]
  },
  {
   "cell_type": "code",
   "execution_count": null,
   "id": "0f4dbcad",
   "metadata": {
    "lines_to_next_cell": 1
   },
   "outputs": [],
   "source": [
    "# https://leetcode.com/problems/valid-parenthesis-string/submissions/1282562888/\n",
    "def checkValidStringSpaceOptimized(s: str) -> bool:\n",
    "    \"\"\"\n",
    "    Time: O(N ** 2), Space: O(N)\n",
    "    \"\"\"\n",
    "    N = len(s)\n",
    "    dp: list[bool] = [True if j == 0 else False for j in range(N + 1)]\n",
    "    for i in range(N - 1, -1, -1):\n",
    "        prev_dp: list[bool] = list(dp)\n",
    "        for j in range(N - 1, -1, -1):\n",
    "            if s[i] == \"(\":\n",
    "                dp[j] = prev_dp[j + 1]\n",
    "            elif s[i] == \")\":\n",
    "                dp[j] = prev_dp[j - 1]\n",
    "            else:\n",
    "                dp[j] = prev_dp[j] or prev_dp[j - 1] or prev_dp[j + 1]\n",
    "\n",
    "    return dp[0]\n",
    "\n",
    "# Testing the solution\n",
    "for s, result in [\n",
    "        (\"()\", True), (\"(*)\", True), (\"(*))\", True), (\"(*()\", True), (\")*\", False),\n",
    "        (\"(**\", True), (\"*\", True), (\"(**)()(((*))*))\", True), (\"(**(\", False)\n",
    "    ]:\n",
    "    assert checkValidStringSpaceOptimized(s) == result, f\"failed for {s}\""
   ]
  },
  {
   "cell_type": "code",
   "execution_count": null,
   "id": "08fd566b",
   "metadata": {
    "lines_to_next_cell": 1
   },
   "outputs": [],
   "source": [
    "# https://leetcode.com/problems/valid-parenthesis-string/submissions/1282590335\n",
    "def checkValidString(s: str) -> bool:\n",
    "    \"\"\"\n",
    "    We still try out all possibilties, instead of carrying a count of brackets we carry\n",
    "    a range.\n",
    "\n",
    "    Time: O(N), Space: O(1)\n",
    "    \"\"\"\n",
    "    low = high = 0\n",
    "    for ch in s:\n",
    "        if ch == \"(\":\n",
    "            low, high = low + 1, high + 1\n",
    "        elif ch == \")\":\n",
    "            low, high = low - 1, high - 1\n",
    "        else:\n",
    "            low, high = low - 1, high + 1\n",
    "\n",
    "        if low < 0:\n",
    "            low = 0\n",
    "        if high < 0:\n",
    "            return False\n",
    "\n",
    "    return low == 0\n",
    "\n",
    "# Testing the solution\n",
    "for s, result in [\n",
    "        (\"()\", True), (\"(*)\", True), (\"(*))\", True), (\"(*()\", True), (\")*\", False),\n",
    "        (\"(**\", True), (\"*\", True), (\"(**)()(((*))*))\", True), (\"(**(\", False)\n",
    "    ]:\n",
    "    assert checkValidString(s) == result, f\"failed for {s}\""
   ]
  },
  {
   "cell_type": "markdown",
   "id": "79e48339",
   "metadata": {},
   "source": [
    "Fractional Knapsack: https://www.geeksforgeeks.org/problems/fractional-knapsack-1587115620/1\n",
    "Video Link: https://youtu.be/1ibsQrnuEEg?si=nTPVv4QkGEXUTndS"
   ]
  },
  {
   "cell_type": "code",
   "execution_count": null,
   "id": "df6e8d1f",
   "metadata": {
    "lines_to_next_cell": 1
   },
   "outputs": [],
   "source": [
    "def fractionalknapsack(capacity: int, values: list[float], weights: list[int], N: int) -> float:\n",
    "    \"\"\"\n",
    "    Time: O(N log N), Space: O(N)\n",
    "    \"\"\"\n",
    "    # We use the unit rate to pick the best possible item to pick\n",
    "    rates: list[tuple[float, int]] = []\n",
    "    for i in range(N):\n",
    "        rates.append((values[i] / weights[i], weights[i]))\n",
    "    rates.sort(reverse=True)\n",
    "\n",
    "    # Greedily fill in as much as possible\n",
    "    total = 0.\n",
    "    idx = 0\n",
    "    while idx < N:\n",
    "        units = min(capacity, rates[idx][1])\n",
    "        total += rates[idx][0] * units\n",
    "        capacity -= units\n",
    "        idx += 1\n",
    "        if capacity == 0:\n",
    "            break\n",
    "\n",
    "    return total\n",
    "\n",
    "# Testing the solution\n",
    "assert fractionalknapsack(50, [60,100,120], [10,20,30], 3) == 240.\n",
    "assert fractionalknapsack(50, [60,100], [10,20], 2) == 160."
   ]
  },
  {
   "cell_type": "markdown",
   "id": "13750c04",
   "metadata": {},
   "source": [
    "Candy: https://leetcode.com/problems/candy/\n",
    "Video link: https://youtu.be/IIqVFvKE6RY?si=tMFSEL4aw1g2VSc5"
   ]
  },
  {
   "cell_type": "code",
   "execution_count": null,
   "id": "8bee261e",
   "metadata": {
    "lines_to_next_cell": 1
   },
   "outputs": [],
   "source": [
    "def candy(ratings: list[int]) -> int:\n",
    "    \"\"\"\n",
    "    Start with kids having lowest ratings. Assign them 1 candy and try to move left/right.\n",
    "\n",
    "    If neighbouring kid has a higher rating, we need to give them atleast 1 candy more than what current kid has.\n",
    "    If neighbouring kid has a lower rating, we could assign them the lowest possible as long as they are isolated* (check if they are untouched previously)\n",
    "\n",
    "    Time: O(N log N), Space: O(N)\n",
    "    \"\"\"\n",
    "    N, min_rating = len(ratings), min(ratings)\n",
    "    candies: list[int] = [-1 for i in range(N)]\n",
    "    heap: list[tuple[int, int]] = []\n",
    "    for i in range(N):\n",
    "        if ratings[i] == min_rating:\n",
    "            heap.append((1, i))\n",
    "\n",
    "    while heap:\n",
    "        count, idx = heapq.heappop(heap)\n",
    "        candies[idx] = count\n",
    "\n",
    "        if idx - 1 >= 0:\n",
    "            # Neighbour has better rating and lower number of candies, update ->\n",
    "            if ratings[idx - 1] > ratings[idx] and candies[idx - 1] <= candies[idx]:\n",
    "                heapq.heappush(heap, (count + 1, idx - 1))\n",
    "\n",
    "            # Try to sneakily assign the lowest possible candy, if they are isolated (untouched previously)\n",
    "            elif candies[idx - 1] == -1:\n",
    "                heapq.heappush(heap, (1, idx - 1))\n",
    "\n",
    "        if idx + 1 < N:\n",
    "            # Neighbour has better rating and lower number of candies, update ->\n",
    "            if ratings[idx + 1] > ratings[idx] and candies[idx + 1] <= candies[idx]:\n",
    "                heapq.heappush(heap, (count + 1, idx + 1))\n",
    "\n",
    "            # Try to sneakily assign the lowest possible candy, if they are isolated (untouched previously)\n",
    "            elif candies[idx + 1] == -1:\n",
    "                heapq.heappush(heap, (1, idx + 1))\n",
    "\n",
    "    return sum(candies)\n",
    "\n",
    "# Testing the solution\n",
    "assert candy([1,0,2]) == 5\n",
    "assert candy([1,2,2]) == 4\n",
    "assert candy([3,2,1]) == 6\n",
    "assert candy([1,3,4,5,2]) == 11"
   ]
  },
  {
   "cell_type": "code",
   "execution_count": null,
   "id": "6955d618",
   "metadata": {
    "lines_to_next_cell": 1
   },
   "outputs": [],
   "source": [
    "# https://leetcode.com/problems/candy/submissions/1282748617\n",
    "def candyStriverBrute(ratings: list[int]) -> int:\n",
    "    # Time: O(N), Space: O(N)\n",
    "    N = len(ratings)\n",
    "\n",
    "    # Solve worrying only about the left neighbours\n",
    "    left: list[int] = []\n",
    "    for i in range(N):\n",
    "        if i == 0 or ratings[i] <= ratings[i - 1]:\n",
    "            left.append(1)\n",
    "        else:\n",
    "            left.append(left[-1] + 1)\n",
    "\n",
    "    # Solve worrying only about the right neighbours\n",
    "    right: list[int] = []\n",
    "    for i in range(N - 1, -1, -1):\n",
    "        if i == N - 1 or ratings[i] <= ratings[i + 1]:\n",
    "            right.append(1)\n",
    "        else:\n",
    "            right.append(right[-1] + 1)\n",
    "    right.reverse()\n",
    "\n",
    "    # The candies assigned must satisfy both left and right, hence max\n",
    "    total = 0\n",
    "    for i in range(N):\n",
    "        total += max(left[i], right[i])\n",
    "    return total\n",
    "\n",
    "# Testing the solution\n",
    "assert candyStriverBrute([1,0,2]) == 5\n",
    "assert candyStriverBrute([1,2,2]) == 4\n",
    "assert candyStriverBrute([3,2,1]) == 6\n",
    "assert candyStriverBrute([1,3,4,5,2]) == 11"
   ]
  },
  {
   "cell_type": "code",
   "execution_count": null,
   "id": "cf809a5f",
   "metadata": {},
   "outputs": [],
   "source": [
    "# https://leetcode.com/problems/candy/submissions/1282800027/\n",
    "def candyStriver(ratings: list[int]) -> int:\n",
    "    \"\"\"\n",
    "    Won't be able to think this solution on our own, need some prior insights\n",
    "    Visualize ratings in terms of slope - peaks and troughs\n",
    "\n",
    "    Code shamelessly copied from Striver's logic :O\n",
    "    \"\"\"\n",
    "    N = len(ratings)\n",
    "    total = i = 1\n",
    "    while i < N:\n",
    "        if i == 0 or ratings[i] == ratings[i - 1]:\n",
    "            total, i = total + 1, i + 1\n",
    "        else:\n",
    "            peak = 1\n",
    "            while i < N and ratings[i] > ratings[i - 1]:\n",
    "                peak += 1\n",
    "                total, i = total + peak, i + 1\n",
    "\n",
    "            down = 1\n",
    "            while i < N and ratings[i] < ratings[i - 1]:\n",
    "                total += down\n",
    "                down, i = down + 1, i + 1\n",
    "\n",
    "            if down > peak:\n",
    "                total += down - peak\n",
    "\n",
    "    return total\n",
    "\n",
    "# Testing the solution\n",
    "assert candyStriver([1,0,2]) == 5\n",
    "assert candyStriver([1,2,2]) == 4\n",
    "assert candyStriver([3,2,1]) == 6\n",
    "assert candyStriver([1,3,4,5,2]) == 11"
   ]
  }
 ],
 "metadata": {
  "kernelspec": {
   "display_name": "Python 3 (ipykernel)",
   "language": "python",
   "name": "python3"
  },
  "language_info": {
   "codemirror_mode": {
    "name": "ipython",
    "version": 3
   },
   "file_extension": ".py",
   "mimetype": "text/x-python",
   "name": "python",
   "nbconvert_exporter": "python",
   "pygments_lexer": "ipython3",
   "version": "3.11.9"
  },
  "papermill": {
   "default_parameters": {},
   "duration": 1.533128,
   "end_time": "2024-06-09T03:36:12.931759",
   "environment_variables": {},
   "exception": null,
   "input_path": "study/striver-A2Z/17-greedy.ipynb",
   "output_path": "study/striver-A2Z/17-greedy.ipynb",
   "parameters": {},
   "start_time": "2024-06-09T03:36:11.398631",
   "version": "2.6.0"
  }
 },
 "nbformat": 4,
 "nbformat_minor": 5
}
