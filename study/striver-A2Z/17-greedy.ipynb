{
 "cells": [
  {
   "cell_type": "markdown",
   "id": "76cb4635",
   "metadata": {
    "papermill": {
     "duration": 0.003099,
     "end_time": "2024-06-08T18:11:47.319455",
     "exception": false,
     "start_time": "2024-06-08T18:11:47.316356",
     "status": "completed"
    },
    "tags": []
   },
   "source": [
    "Useful imports"
   ]
  },
  {
   "cell_type": "code",
   "execution_count": 1,
   "id": "d45ec848",
   "metadata": {
    "execution": {
     "iopub.execute_input": "2024-06-08T18:11:47.325938Z",
     "iopub.status.busy": "2024-06-08T18:11:47.325468Z",
     "iopub.status.idle": "2024-06-08T18:11:47.330928Z",
     "shell.execute_reply": "2024-06-08T18:11:47.330490Z"
    },
    "lines_to_next_cell": 1,
    "papermill": {
     "duration": 0.009968,
     "end_time": "2024-06-08T18:11:47.332051",
     "exception": false,
     "start_time": "2024-06-08T18:11:47.322083",
     "status": "completed"
    },
    "tags": []
   },
   "outputs": [],
   "source": [
    "import heapq\n",
    "import bisect\n",
    "import collections\n",
    "import itertools\n",
    "import functools\n",
    "import math"
   ]
  },
  {
   "cell_type": "markdown",
   "id": "a2f52f24",
   "metadata": {
    "papermill": {
     "duration": 0.002466,
     "end_time": "2024-06-08T18:11:47.336964",
     "exception": false,
     "start_time": "2024-06-08T18:11:47.334498",
     "status": "completed"
    },
    "tags": []
   },
   "source": [
    "Assign cookies: https://leetcode.com/problems/assign-cookies/\n",
    "Video Link: https://youtu.be/DIX2p7vb9co?si=-lYoEBkNX6G40Tpo"
   ]
  },
  {
   "cell_type": "code",
   "execution_count": 2,
   "id": "8016e3c9",
   "metadata": {
    "execution": {
     "iopub.execute_input": "2024-06-08T18:11:47.343050Z",
     "iopub.status.busy": "2024-06-08T18:11:47.342662Z",
     "iopub.status.idle": "2024-06-08T18:11:47.347785Z",
     "shell.execute_reply": "2024-06-08T18:11:47.347335Z"
    },
    "lines_to_next_cell": 1,
    "papermill": {
     "duration": 0.00952,
     "end_time": "2024-06-08T18:11:47.348860",
     "exception": false,
     "start_time": "2024-06-08T18:11:47.339340",
     "status": "completed"
    },
    "tags": []
   },
   "outputs": [],
   "source": [
    "# https://leetcode.com/problems/assign-cookies/submissions/1280845661\n",
    "def findContentChildren(g: list[int], s: list[int]) -> int:\n",
    "    \"\"\"\n",
    "    For each child we assign cookies that only require as much to satisfy their greed.\n",
    "    For a child with greed of 3, we assign the minimum cookie left to satisfy condition: s[k] >= 3\n",
    "    \"\"\"\n",
    "    # Sort in ASC order since we need to find the max\n",
    "    # number of content children possible\n",
    "    g.sort()\n",
    "    s.sort()\n",
    "\n",
    "    # Have pointers for greed and cookies arrary\n",
    "    g_length, s_length = len(g), len(s)\n",
    "    content_children = g_idx = s_idx = 0\n",
    "\n",
    "    # Iterate until either of the arrays are exhausted\n",
    "    while g_idx < g_length and s_idx < s_length:\n",
    "        if s[s_idx] >= g[g_idx]:\n",
    "            content_children, s_idx, g_idx = content_children + 1, s_idx + 1, g_idx + 1\n",
    "        else:\n",
    "            s_idx += 1\n",
    "\n",
    "    return content_children\n",
    "\n",
    "# Testing the solution\n",
    "assert findContentChildren([1,2,3], [1,1,1]) == 1\n",
    "assert findContentChildren([1,2], [1,2,3]) == 2\n",
    "assert findContentChildren([1,2,3], [1,2]) == 2"
   ]
  },
  {
   "cell_type": "markdown",
   "id": "f911a310",
   "metadata": {
    "papermill": {
     "duration": 0.002528,
     "end_time": "2024-06-08T18:11:47.353861",
     "exception": false,
     "start_time": "2024-06-08T18:11:47.351333",
     "status": "completed"
    },
    "tags": []
   },
   "source": [
    "Shortest job first CPU scheduling\n",
    "Video Link: https://youtu.be/3-QbX1iDbXs?si=oh3KUu3zLd08uDZ7"
   ]
  },
  {
   "cell_type": "code",
   "execution_count": 3,
   "id": "1e00764f",
   "metadata": {
    "execution": {
     "iopub.execute_input": "2024-06-08T18:11:47.359690Z",
     "iopub.status.busy": "2024-06-08T18:11:47.359215Z",
     "iopub.status.idle": "2024-06-08T18:11:47.363359Z",
     "shell.execute_reply": "2024-06-08T18:11:47.362812Z"
    },
    "lines_to_next_cell": 1,
    "papermill": {
     "duration": 0.008239,
     "end_time": "2024-06-08T18:11:47.364417",
     "exception": false,
     "start_time": "2024-06-08T18:11:47.356178",
     "status": "completed"
    },
    "tags": []
   },
   "outputs": [],
   "source": [
    "def SJF(bt: list[int]) -> float:\n",
    "    \"\"\"Time: O(N), Space: O(N)\"\"\"\n",
    "\n",
    "    # Heapify to convert into a min heap\n",
    "    heapq.heapify(bt)\n",
    "\n",
    "    N = len(bt)\n",
    "    curr_time = total_time = 0\n",
    "    while bt:\n",
    "        runtime = heapq.heappop(bt)\n",
    "        total_time += curr_time\n",
    "        curr_time += runtime\n",
    "\n",
    "    avg_wait = total_time // N\n",
    "    return avg_wait\n",
    "\n",
    "# Testing the solution\n",
    "assert SJF([4,3,7,1,2]) == 4\n",
    "assert SJF([1,2,3,4]) == 2"
   ]
  },
  {
   "cell_type": "markdown",
   "id": "e8d91515",
   "metadata": {
    "papermill": {
     "duration": 0.002307,
     "end_time": "2024-06-08T18:11:47.369828",
     "exception": false,
     "start_time": "2024-06-08T18:11:47.367521",
     "status": "completed"
    },
    "tags": []
   },
   "source": [
    "Lemonade change: https://leetcode.com/problems/lemonade-change/description/\n",
    "Video link: https://youtu.be/n_tmibEhO6Q?si=bqyD-xTjBPIG9scO"
   ]
  },
  {
   "cell_type": "code",
   "execution_count": 4,
   "id": "726bd349",
   "metadata": {
    "execution": {
     "iopub.execute_input": "2024-06-08T18:11:47.375516Z",
     "iopub.status.busy": "2024-06-08T18:11:47.375187Z",
     "iopub.status.idle": "2024-06-08T18:11:47.379800Z",
     "shell.execute_reply": "2024-06-08T18:11:47.379389Z"
    },
    "lines_to_next_cell": 1,
    "papermill": {
     "duration": 0.00869,
     "end_time": "2024-06-08T18:11:47.380849",
     "exception": false,
     "start_time": "2024-06-08T18:11:47.372159",
     "status": "completed"
    },
    "tags": []
   },
   "outputs": [],
   "source": [
    "# https://leetcode.com/problems/lemonade-change/submissions/1281069969\n",
    "def lemonadeChange(bills: list[int]) -> bool:\n",
    "    change5 = change10 = 0\n",
    "    for bill in bills:\n",
    "        if bill == 5:\n",
    "            change5 += 1\n",
    "        elif bill == 10:\n",
    "            change10 += 1\n",
    "            change5 -= 1\n",
    "        else:\n",
    "            # Try to change with 10 if available\n",
    "            if change10 > 0:\n",
    "                change5, change10 = change5 - 1, change10 - 1\n",
    "            # Else we can change with 5\n",
    "            else:\n",
    "                change5 -= 3\n",
    "\n",
    "        # Reason this is added here and not at the end: [10,5]\n",
    "        if change5 < 0 or change10 < 0:\n",
    "            return False\n",
    "\n",
    "    else:\n",
    "        return True\n",
    "\n",
    "# Testing the solution\n",
    "assert lemonadeChange([5,5,10,10,20]) == False\n",
    "assert lemonadeChange([10,5]) == False\n",
    "assert lemonadeChange([5,10,20]) == False\n",
    "assert lemonadeChange([5,5,5,20]) == True"
   ]
  },
  {
   "cell_type": "markdown",
   "id": "bf923f2c",
   "metadata": {
    "papermill": {
     "duration": 0.002376,
     "end_time": "2024-06-08T18:11:47.385634",
     "exception": false,
     "start_time": "2024-06-08T18:11:47.383258",
     "status": "completed"
    },
    "tags": []
   },
   "source": [
    "Jump game: https://leetcode.com/problems/jump-game/\n",
    "Video Link: https://youtu.be/tZAa_jJ3SwQ?si=PUeiia1qBXmvfk_C"
   ]
  },
  {
   "cell_type": "code",
   "execution_count": 5,
   "id": "d487decb",
   "metadata": {
    "execution": {
     "iopub.execute_input": "2024-06-08T18:11:47.391335Z",
     "iopub.status.busy": "2024-06-08T18:11:47.390928Z",
     "iopub.status.idle": "2024-06-08T18:11:47.395031Z",
     "shell.execute_reply": "2024-06-08T18:11:47.394621Z"
    },
    "lines_to_next_cell": 1,
    "papermill": {
     "duration": 0.008112,
     "end_time": "2024-06-08T18:11:47.396107",
     "exception": false,
     "start_time": "2024-06-08T18:11:47.387995",
     "status": "completed"
    },
    "tags": []
   },
   "outputs": [],
   "source": [
    "def canJumpBrute(nums: list[int]) -> bool:\n",
    "    N = len(nums)\n",
    "    good_indices: collections.deque = collections.deque([N - 1])\n",
    "    for i in range(N - 2, -1, -1):\n",
    "        for good_idx in good_indices:\n",
    "            if i + nums[i] >= good_idx:\n",
    "                good_indices.appendleft(i)\n",
    "                break\n",
    "\n",
    "    return good_indices[0] == 0\n",
    "\n",
    "# Testing the solution\n",
    "assert canJumpBrute([2,3,1,1,4]) == True\n",
    "assert canJumpBrute([3,2,1,0,4]) == False\n",
    "assert canJumpBrute([2,0,2,0,0]) == True"
   ]
  },
  {
   "cell_type": "code",
   "execution_count": 6,
   "id": "4b59da66",
   "metadata": {
    "execution": {
     "iopub.execute_input": "2024-06-08T18:11:47.401970Z",
     "iopub.status.busy": "2024-06-08T18:11:47.401551Z",
     "iopub.status.idle": "2024-06-08T18:11:47.406020Z",
     "shell.execute_reply": "2024-06-08T18:11:47.405484Z"
    },
    "lines_to_next_cell": 1,
    "papermill": {
     "duration": 0.008566,
     "end_time": "2024-06-08T18:11:47.407109",
     "exception": false,
     "start_time": "2024-06-08T18:11:47.398543",
     "status": "completed"
    },
    "tags": []
   },
   "outputs": [],
   "source": [
    "# https://leetcode.com/problems/jump-game/submissions/1281092917\n",
    "def canJump(nums: list[int]) -> bool:\n",
    "    \"\"\"\n",
    "    We can notice that if the latest good index was reachable, then every other good index beyond would\n",
    "    have been reachable as well.\n",
    "\n",
    "    On the contrary if the latest good index (nearest to current) was not reachable, then no index beyond would be reachable.\n",
    "\n",
    "    Time: O(N), Space: O(1)\n",
    "    \"\"\"\n",
    "    N = len(nums)\n",
    "    good_idx: int = N - 1\n",
    "    for i in range(N - 2, -1, -1):\n",
    "        if i + nums[i] >= good_idx:\n",
    "            good_idx = i\n",
    "\n",
    "    return good_idx == 0\n",
    "\n",
    "# Testing the solution\n",
    "assert canJump([2,3,1,1,4]) == True\n",
    "assert canJump([3,2,1,0,4]) == False\n",
    "assert canJump([2,0,2,0,0]) == True"
   ]
  },
  {
   "cell_type": "code",
   "execution_count": 7,
   "id": "da43a335",
   "metadata": {
    "execution": {
     "iopub.execute_input": "2024-06-08T18:11:47.412953Z",
     "iopub.status.busy": "2024-06-08T18:11:47.412609Z",
     "iopub.status.idle": "2024-06-08T18:11:47.416928Z",
     "shell.execute_reply": "2024-06-08T18:11:47.416397Z"
    },
    "lines_to_next_cell": 1,
    "papermill": {
     "duration": 0.008373,
     "end_time": "2024-06-08T18:11:47.417948",
     "exception": false,
     "start_time": "2024-06-08T18:11:47.409575",
     "status": "completed"
    },
    "tags": []
   },
   "outputs": [],
   "source": [
    "# https://leetcode.com/problems/jump-game/submissions/1281113037\n",
    "def canJumpStriver(nums: list[int]) -> bool:\n",
    "    \"\"\"\n",
    "    If there were no 0's we would always be able to reach the destination.\n",
    "    In other cases it may or may not be possible.\n",
    "\n",
    "    Time: O(N), Space: O(1)\n",
    "    \"\"\"\n",
    "    N, max_idx = len(nums), 0\n",
    "    for i in range(N):\n",
    "        if i <= max_idx:\n",
    "            max_idx = max(max_idx, nums[i] + i)\n",
    "        else:\n",
    "            return False\n",
    "\n",
    "    return True\n",
    "\n",
    "# Testing the solution\n",
    "assert canJumpStriver([2,3,1,1,4]) == True\n",
    "assert canJumpStriver([3,2,1,0,4]) == False\n",
    "assert canJumpStriver([2,0,2,0,0]) == True"
   ]
  },
  {
   "cell_type": "markdown",
   "id": "7d2a5ae9",
   "metadata": {
    "papermill": {
     "duration": 0.002351,
     "end_time": "2024-06-08T18:11:47.422858",
     "exception": false,
     "start_time": "2024-06-08T18:11:47.420507",
     "status": "completed"
    },
    "tags": []
   },
   "source": [
    "Jump Game - II: https://leetcode.com/problems/jump-game-ii/\n",
    "Video Link: https://youtu.be/7SBVnw7GSTk?si=UDZojaM70TuG0XgY"
   ]
  },
  {
   "cell_type": "code",
   "execution_count": 8,
   "id": "bcdd786f",
   "metadata": {
    "execution": {
     "iopub.execute_input": "2024-06-08T18:11:47.429167Z",
     "iopub.status.busy": "2024-06-08T18:11:47.428743Z",
     "iopub.status.idle": "2024-06-08T18:11:47.433320Z",
     "shell.execute_reply": "2024-06-08T18:11:47.432794Z"
    },
    "lines_to_next_cell": 1,
    "papermill": {
     "duration": 0.008999,
     "end_time": "2024-06-08T18:11:47.434443",
     "exception": false,
     "start_time": "2024-06-08T18:11:47.425444",
     "status": "completed"
    },
    "tags": []
   },
   "outputs": [],
   "source": [
    "def jump2Recursive(nums: list[int]) -> int:\n",
    "    @functools.cache\n",
    "    def backtrack(i: int) -> int:\n",
    "        if i == N - 1:\n",
    "            return 0\n",
    "        else:\n",
    "            min_ = N\n",
    "            for jump in range(nums[i]):\n",
    "                min_ = min(min_, backtrack(i + jump + 1))\n",
    "            return 1 + min_\n",
    "\n",
    "    N = len(nums)\n",
    "    return backtrack(0)\n",
    "\n",
    "# Testing the solution\n",
    "assert jump2Recursive([2,3,1,1,4]) == 2\n",
    "assert jump2Recursive([2,3,0,1,4]) == 2"
   ]
  },
  {
   "cell_type": "code",
   "execution_count": 9,
   "id": "7b38a2b6",
   "metadata": {
    "execution": {
     "iopub.execute_input": "2024-06-08T18:11:47.440417Z",
     "iopub.status.busy": "2024-06-08T18:11:47.439947Z",
     "iopub.status.idle": "2024-06-08T18:11:47.444716Z",
     "shell.execute_reply": "2024-06-08T18:11:47.444214Z"
    },
    "lines_to_next_cell": 1,
    "papermill": {
     "duration": 0.008925,
     "end_time": "2024-06-08T18:11:47.445807",
     "exception": false,
     "start_time": "2024-06-08T18:11:47.436882",
     "status": "completed"
    },
    "tags": []
   },
   "outputs": [],
   "source": [
    "# https://leetcode.com/problems/jump-game-ii/submissions/1281812619/\n",
    "def jump2Tab(nums: list[int]) -> int:\n",
    "    # Time: O(N ** 2), Space: O(N)\n",
    "    N = len(nums)\n",
    "    dp: list[int] = [N if i < N - 1 else 0 for i in range(N)]\n",
    "    for i in range(N - 2, -1, -1):\n",
    "        for j in range(i + 1, min(N, i + 1 + nums[i])):\n",
    "            dp[i] = min(dp[i], 1 + dp[j])\n",
    "\n",
    "    return dp[0]\n",
    "\n",
    "# Testing the solution\n",
    "assert jump2Tab([2,3,1,1,4]) == 2\n",
    "assert jump2Tab([2,3,0,1,4]) == 2"
   ]
  },
  {
   "cell_type": "code",
   "execution_count": 10,
   "id": "7336f2b2",
   "metadata": {
    "execution": {
     "iopub.execute_input": "2024-06-08T18:11:47.451533Z",
     "iopub.status.busy": "2024-06-08T18:11:47.451258Z",
     "iopub.status.idle": "2024-06-08T18:11:47.455407Z",
     "shell.execute_reply": "2024-06-08T18:11:47.454969Z"
    },
    "lines_to_next_cell": 1,
    "papermill": {
     "duration": 0.008138,
     "end_time": "2024-06-08T18:11:47.456424",
     "exception": false,
     "start_time": "2024-06-08T18:11:47.448286",
     "status": "completed"
    },
    "tags": []
   },
   "outputs": [],
   "source": [
    "# https://leetcode.com/problems/jump-game-ii/submissions/1281839417\n",
    "def jump2Striver(nums: list[int]) -> int:\n",
    "    \"\"\"\n",
    "    Instead of iterating through all indices that we can jump to,\n",
    "    we keep track of the range.\n",
    "    For each range\n",
    "        - Figure out the maximum idx we can jump to\n",
    "        - jumps = jumps + 1\n",
    "    Iterate until we reach the last index, ans would be the value of jumps variable\n",
    "\n",
    "    Time: O(N), Space: O(1)\n",
    "    \"\"\"\n",
    "    N = len(nums)\n",
    "    jumps = l = r = 0\n",
    "    while r < N - 1:\n",
    "        farthest = 0\n",
    "        for i in range(l, r + 1):\n",
    "            farthest = max(farthest, i + nums[i])\n",
    "        l, r, jumps = r + 1, farthest, jumps + 1\n",
    "\n",
    "    return jumps\n",
    "\n",
    "# Testing the solution\n",
    "assert jump2Striver([2,3,1,1,4]) == 2\n",
    "assert jump2Striver([2,3,0,1,4]) == 2"
   ]
  },
  {
   "cell_type": "markdown",
   "id": "52b5429b",
   "metadata": {
    "papermill": {
     "duration": 0.002418,
     "end_time": "2024-06-08T18:11:47.461291",
     "exception": false,
     "start_time": "2024-06-08T18:11:47.458873",
     "status": "completed"
    },
    "tags": []
   },
   "source": [
    "Job sequencing Problem: https://www.geeksforgeeks.org/problems/job-sequencing-problem-1587115620/1\n",
    "Video Link: https://youtu.be/QbwltemZbRg?si=R93V-44Jyr37Il4L"
   ]
  },
  {
   "cell_type": "code",
   "execution_count": 11,
   "id": "c804e410",
   "metadata": {
    "execution": {
     "iopub.execute_input": "2024-06-08T18:11:47.467264Z",
     "iopub.status.busy": "2024-06-08T18:11:47.466846Z",
     "iopub.status.idle": "2024-06-08T18:11:47.472866Z",
     "shell.execute_reply": "2024-06-08T18:11:47.472324Z"
    },
    "lines_to_next_cell": 1,
    "papermill": {
     "duration": 0.010208,
     "end_time": "2024-06-08T18:11:47.473909",
     "exception": false,
     "start_time": "2024-06-08T18:11:47.463701",
     "status": "completed"
    },
    "tags": []
   },
   "outputs": [],
   "source": [
    "def jobScheduling(jobs: list[tuple[int, int, int]], N: int) -> tuple[int, int]:\n",
    "    \"\"\"\n",
    "    Start with the jobs with highest profit, try to push the start time as close as possible to the deadline\n",
    "    being super lazy about it.\n",
    "\n",
    "    Time: O(N log N) + O(N x max deadline)\n",
    "    Space: O(N)\n",
    "\n",
    "    We can optimize the inner loop (deadline -> 0) further with the use of DSU (Disjoint set union)\n",
    "    \"\"\"\n",
    "    jobs_start: set[int] = set()\n",
    "    jobs_sorted: list[tuple[int, int]] = sorted(map(lambda x: (x[2], x[1]), jobs), reverse=True)\n",
    "    job_count = total_profit = 0\n",
    "    for profit, deadline in jobs_sorted:\n",
    "        for start in range(deadline - 1, -1, -1):\n",
    "            if start not in jobs_start:\n",
    "                jobs_start.add(start)\n",
    "                job_count, total_profit = job_count + 1, total_profit + profit\n",
    "                break\n",
    "\n",
    "    return job_count, total_profit\n",
    "\n",
    "# Testing the solution\n",
    "assert jobScheduling([(1,2,100),(2,1,19),(3,2,27),(4,1,25),(5,1,15)], 5) == (2, 127)\n",
    "assert jobScheduling([(1,4,20),(2,1,10),(3,1,40),(4,1,30)], 5) == (2, 60)\n",
    "assert jobScheduling([(1,4,50),(2,1,50)], 2) == (2, 100)\n",
    "assert jobScheduling([(1,4,60),(2,1,50)], 2) == (2, 110)"
   ]
  },
  {
   "cell_type": "markdown",
   "id": "2835d225",
   "metadata": {
    "papermill": {
     "duration": 0.002436,
     "end_time": "2024-06-08T18:11:47.478959",
     "exception": false,
     "start_time": "2024-06-08T18:11:47.476523",
     "status": "completed"
    },
    "tags": []
   },
   "source": [
    "N meetings in one room: https://www.geeksforgeeks.org/problems/n-meetings-in-one-room-1587115620/1\n",
    "Video Link: https://youtu.be/mKfhTotEguk?si=gTVT-RsSg0PR9RPP"
   ]
  },
  {
   "cell_type": "code",
   "execution_count": 12,
   "id": "7fe0aed4",
   "metadata": {
    "execution": {
     "iopub.execute_input": "2024-06-08T18:11:47.485338Z",
     "iopub.status.busy": "2024-06-08T18:11:47.484858Z",
     "iopub.status.idle": "2024-06-08T18:11:47.490019Z",
     "shell.execute_reply": "2024-06-08T18:11:47.489569Z"
    },
    "papermill": {
     "duration": 0.009655,
     "end_time": "2024-06-08T18:11:47.491096",
     "exception": false,
     "start_time": "2024-06-08T18:11:47.481441",
     "status": "completed"
    },
    "tags": []
   },
   "outputs": [],
   "source": [
    "def maximumMeetings(N: int, start: list[int], end: list[int]) -> int:\n",
    "    \"\"\"\n",
    "    Sort based on end time, we need to find meetings that finish sooner.\n",
    "    Simply iterate through the sorted meeting in order and check if it is possible to host the meeting\n",
    "\n",
    "    Time: O(N log N)\n",
    "    Space: O(N)\n",
    "    \"\"\"\n",
    "\n",
    "    # Sort meeting based on the end time\n",
    "    meetings: list[tuple[int, int, int]] = [(start[i], end[i], i) for i in range(N)]\n",
    "    meetings.sort(key=lambda x: x[1])\n",
    "\n",
    "    order: list[int] = []\n",
    "    meeting_count = free_at = 0\n",
    "    for stime, etime, idx in meetings:\n",
    "        if stime > free_at:\n",
    "            order.append(idx)\n",
    "            meeting_count, free_at = meeting_count + 1, etime\n",
    "\n",
    "    # If needed, to return the order in which the meetings could be conducted,\n",
    "    # we can make use of the `meeting_count` variable\n",
    "\n",
    "    return meeting_count\n",
    "\n",
    "# Testing the solution\n",
    "assert maximumMeetings(6, [1,3,0,5,8,5], [2,4,6,7,9,9]) == 4\n",
    "assert maximumMeetings(3, [1,4,6], [5,6,10]) == 2"
   ]
  }
 ],
 "metadata": {
  "kernelspec": {
   "display_name": "Python 3 (ipykernel)",
   "language": "python",
   "name": "python3"
  },
  "language_info": {
   "codemirror_mode": {
    "name": "ipython",
    "version": 3
   },
   "file_extension": ".py",
   "mimetype": "text/x-python",
   "name": "python",
   "nbconvert_exporter": "python",
   "pygments_lexer": "ipython3",
   "version": "3.11.9"
  },
  "papermill": {
   "default_parameters": {},
   "duration": 1.42637,
   "end_time": "2024-06-08T18:11:47.609742",
   "environment_variables": {},
   "exception": null,
   "input_path": "study/striver-A2Z/17-greedy.ipynb",
   "output_path": "study/striver-A2Z/17-greedy.ipynb",
   "parameters": {},
   "start_time": "2024-06-08T18:11:46.183372",
   "version": "2.6.0"
  }
 },
 "nbformat": 4,
 "nbformat_minor": 5
}