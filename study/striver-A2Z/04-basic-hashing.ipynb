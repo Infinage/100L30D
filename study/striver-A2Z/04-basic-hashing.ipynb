{
 "cells": [
  {
   "cell_type": "markdown",
   "id": "624ef24f",
   "metadata": {
    "papermill": {
     "duration": 0.009238,
     "end_time": "2024-02-29T03:17:21.149501",
     "exception": false,
     "start_time": "2024-02-29T03:17:21.140263",
     "status": "completed"
    },
    "tags": []
   },
   "source": [
    "### Video Link: https://www.youtube.com/watch?v=KEs5UyBJ39g&list=PLgUwDviBIf0oF6QL8m22w1hIDC1vJ_BHz&index=12"
   ]
  },
  {
   "cell_type": "code",
   "execution_count": 1,
   "id": "c053fc4c",
   "metadata": {
    "execution": {
     "iopub.execute_input": "2024-02-29T03:17:21.170818Z",
     "iopub.status.busy": "2024-02-29T03:17:21.169903Z",
     "iopub.status.idle": "2024-02-29T03:17:21.189670Z",
     "shell.execute_reply": "2024-02-29T03:17:21.188527Z"
    },
    "papermill": {
     "duration": 0.031429,
     "end_time": "2024-02-29T03:17:21.191553",
     "exception": false,
     "start_time": "2024-02-29T03:17:21.160124",
     "status": "completed"
    },
    "tags": []
   },
   "outputs": [],
   "source": [
    "# Necessary imports\n",
    "import math"
   ]
  },
  {
   "cell_type": "code",
   "execution_count": 2,
   "id": "cd24a3f4",
   "metadata": {
    "execution": {
     "iopub.execute_input": "2024-02-29T03:17:21.196256Z",
     "iopub.status.busy": "2024-02-29T03:17:21.195438Z",
     "iopub.status.idle": "2024-02-29T03:17:21.200905Z",
     "shell.execute_reply": "2024-02-29T03:17:21.200141Z"
    },
    "papermill": {
     "duration": 0.009646,
     "end_time": "2024-02-29T03:17:21.202656",
     "exception": false,
     "start_time": "2024-02-29T03:17:21.193010",
     "status": "completed"
    },
    "tags": []
   },
   "outputs": [
    {
     "name": "stdout",
     "output_type": "stream",
     "text": [
      "2\n",
      "1\n",
      "3\n"
     ]
    }
   ],
   "source": [
    "# Count the numbers in an arrray\n",
    "arr: list[int] = [1, 2, 3, 3, 1, 2, 2, 12]\n",
    "queries: list[int] = [1, 12, 2]\n",
    "hm: dict[int, int] = dict()\n",
    "for ch in arr:\n",
    "    hm[ch] = hm.get(ch, 0) + 1\n",
    "for ch in queries:\n",
    "    print(hm[ch])"
   ]
  },
  {
   "cell_type": "code",
   "execution_count": 3,
   "id": "d92c2ebb",
   "metadata": {
    "execution": {
     "iopub.execute_input": "2024-02-29T03:17:21.206943Z",
     "iopub.status.busy": "2024-02-29T03:17:21.206531Z",
     "iopub.status.idle": "2024-02-29T03:17:21.212931Z",
     "shell.execute_reply": "2024-02-29T03:17:21.212164Z"
    },
    "papermill": {
     "duration": 0.010682,
     "end_time": "2024-02-29T03:17:21.214796",
     "exception": false,
     "start_time": "2024-02-29T03:17:21.204114",
     "status": "completed"
    },
    "tags": []
   },
   "outputs": [
    {
     "name": "stdout",
     "output_type": "stream",
     "text": [
      "6\n",
      "3\n"
     ]
    }
   ],
   "source": [
    "# Count characters\n",
    "temp = \"abcasdadbadasdasd\"\n",
    "queries: list[str] = ['a', 's']\n",
    "hs: list[int] = [0] * 26\n",
    "for ch in temp:\n",
    "    curr = ord('a') - ord(ch)\n",
    "    hs[curr] = hs[curr] + 1\n",
    "for ch in queries:\n",
    "    curr = ord('a') - ord(ch)\n",
    "    print (hs[curr])"
   ]
  },
  {
   "cell_type": "code",
   "execution_count": 4,
   "id": "985369fd",
   "metadata": {
    "execution": {
     "iopub.execute_input": "2024-02-29T03:17:21.221694Z",
     "iopub.status.busy": "2024-02-29T03:17:21.220996Z",
     "iopub.status.idle": "2024-02-29T03:17:21.226991Z",
     "shell.execute_reply": "2024-02-29T03:17:21.226256Z"
    },
    "papermill": {
     "duration": 0.011382,
     "end_time": "2024-02-29T03:17:21.228897",
     "exception": false,
     "start_time": "2024-02-29T03:17:21.217515",
     "status": "completed"
    },
    "tags": []
   },
   "outputs": [
    {
     "name": "stdout",
     "output_type": "stream",
     "text": [
      "10 15\n"
     ]
    }
   ],
   "source": [
    "# Highest and lowest frequency element\n",
    "arr: list[int] = [10,5,10,15,10,5]\n",
    "hm: dict[int, int] = dict()\n",
    "for ch in arr:\n",
    "    hm[ch] = hm.get(ch, 0) + 1\n",
    "max_ = None, -math.inf\n",
    "min_ = None, math.inf\n",
    "for ch, freq in hm.items():\n",
    "    if freq > max_[1]:\n",
    "        max_ = ch, freq\n",
    "    if freq < min_[1]:\n",
    "        min_ = ch, freq\n",
    "print(max_[0], min_[0])"
   ]
  }
 ],
 "metadata": {
  "kernelspec": {
   "display_name": "Python 3 (ipykernel)",
   "language": "python",
   "name": "python3"
  },
  "language_info": {
   "codemirror_mode": {
    "name": "ipython",
    "version": 3
   },
   "file_extension": ".py",
   "mimetype": "text/x-python",
   "name": "python",
   "nbconvert_exporter": "python",
   "pygments_lexer": "ipython3",
   "version": "3.11.5"
  },
  "papermill": {
   "default_parameters": {},
   "duration": 1.551354,
   "end_time": "2024-02-29T03:17:21.451642",
   "environment_variables": {},
   "exception": null,
   "input_path": "04-basic-hashing.ipynb",
   "output_path": "04-basic-hashing.ipynb",
   "parameters": {},
   "start_time": "2024-02-29T03:17:19.900288",
   "version": "2.4.0"
  }
 },
 "nbformat": 4,
 "nbformat_minor": 5
}