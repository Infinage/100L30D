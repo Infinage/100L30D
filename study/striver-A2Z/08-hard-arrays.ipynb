{
 "cells": [
  {
   "cell_type": "markdown",
   "id": "2e76de23",
   "metadata": {
    "papermill": {
     "duration": 0.004777,
     "end_time": "2024-03-14T16:34:34.726099",
     "exception": false,
     "start_time": "2024-03-14T16:34:34.721322",
     "status": "completed"
    },
    "tags": []
   },
   "source": [
    "Some useful imports"
   ]
  },
  {
   "cell_type": "code",
   "execution_count": 1,
   "id": "95dd0243",
   "metadata": {
    "execution": {
     "iopub.execute_input": "2024-03-14T16:34:34.736529Z",
     "iopub.status.busy": "2024-03-14T16:34:34.735816Z",
     "iopub.status.idle": "2024-03-14T16:34:34.745974Z",
     "shell.execute_reply": "2024-03-14T16:34:34.745332Z"
    },
    "papermill": {
     "duration": 0.017263,
     "end_time": "2024-03-14T16:34:34.747728",
     "exception": false,
     "start_time": "2024-03-14T16:34:34.730465",
     "status": "completed"
    },
    "tags": []
   },
   "outputs": [],
   "source": [
    "import math\n",
    "import random\n",
    "import functools\n",
    "import itertools\n",
    "import pdb"
   ]
  },
  {
   "cell_type": "markdown",
   "id": "d47b5eaa",
   "metadata": {
    "papermill": {
     "duration": 0.00394,
     "end_time": "2024-03-14T16:34:34.756030",
     "exception": false,
     "start_time": "2024-03-14T16:34:34.752090",
     "status": "completed"
    },
    "tags": []
   },
   "source": [
    "Video Link: https://www.youtube.com/watch?v=vwZj1K0e9U8&list=PLgUwDviBIf0oF6QL8m22w1hIDC1vJ_BHz&index=35\n",
    "Majority element, appearing > floor(N / 3) times"
   ]
  },
  {
   "cell_type": "code",
   "execution_count": 2,
   "id": "e7bd2ff9",
   "metadata": {
    "execution": {
     "iopub.execute_input": "2024-03-14T16:34:34.765714Z",
     "iopub.status.busy": "2024-03-14T16:34:34.764987Z",
     "iopub.status.idle": "2024-03-14T16:34:34.771070Z",
     "shell.execute_reply": "2024-03-14T16:34:34.770297Z"
    },
    "papermill": {
     "duration": 0.012733,
     "end_time": "2024-03-14T16:34:34.772799",
     "exception": false,
     "start_time": "2024-03-14T16:34:34.760066",
     "status": "completed"
    },
    "tags": []
   },
   "outputs": [
    {
     "name": "stdout",
     "output_type": "stream",
     "text": [
      "1\n",
      "2\n"
     ]
    }
   ],
   "source": [
    "# Brute force\n",
    "arr: list[int] = [1, 1, 1, 3, 3, 2, 2, 2]\n",
    "N = len(arr)\n",
    "counter: dict[int, int] = dict()\n",
    "for n in arr:\n",
    "    counter[n] = counter.get(n, 0) + 1\n",
    "\n",
    "for k, v, in counter.items():\n",
    "    if v > math.floor(N / 3):\n",
    "        print(k)"
   ]
  },
  {
   "cell_type": "code",
   "execution_count": 3,
   "id": "180dfe25",
   "metadata": {
    "execution": {
     "iopub.execute_input": "2024-03-14T16:34:34.782300Z",
     "iopub.status.busy": "2024-03-14T16:34:34.781716Z",
     "iopub.status.idle": "2024-03-14T16:34:34.789671Z",
     "shell.execute_reply": "2024-03-14T16:34:34.788911Z"
    },
    "papermill": {
     "duration": 0.014443,
     "end_time": "2024-03-14T16:34:34.791354",
     "exception": false,
     "start_time": "2024-03-14T16:34:34.776911",
     "status": "completed"
    },
    "tags": []
   },
   "outputs": [
    {
     "name": "stdout",
     "output_type": "stream",
     "text": [
      "1\n",
      "2\n"
     ]
    }
   ],
   "source": [
    "# Optimal solution\n",
    "arr: list[int] = [1, 2, 1, 2, 1, 2, 3, 3]\n",
    "N = len(arr)\n",
    "cnt1, el1, cnt2, el2 = 0, None, 0, None\n",
    "# Run Moore's voting algorithm\n",
    "for i in range(N):\n",
    "    if cnt1 == 0 and el2 != arr[i]:\n",
    "        cnt1, el1 = 1, arr[i]\n",
    "    elif cnt2 == 0 and el1 != arr[i]:\n",
    "        cnt2, el2 = 1, arr[i]\n",
    "    elif el1 == arr[i]:\n",
    "        cnt1 += 1\n",
    "    elif el2 == arr[i]:\n",
    "        cnt2 += 1\n",
    "    else:\n",
    "        cnt1 -= 1\n",
    "        cnt2 -= 1\n",
    "\n",
    "# Verify if el1 and el2 are indeed the majority elements\n",
    "cnt1 = cnt2 = 0\n",
    "for i in range(N):\n",
    "    if arr[i] == el1:\n",
    "        cnt1 += 1\n",
    "    elif arr[i] == el2:\n",
    "        cnt2 += 1\n",
    "\n",
    "if cnt1 > math.floor(N / 3):\n",
    "    print(el1)\n",
    "if cnt2 > math.floor(N / 3):\n",
    "    print(el2)"
   ]
  },
  {
   "cell_type": "markdown",
   "id": "133b6f15",
   "metadata": {
    "papermill": {
     "duration": 0.004061,
     "end_time": "2024-03-14T16:34:34.799657",
     "exception": false,
     "start_time": "2024-03-14T16:34:34.795596",
     "status": "completed"
    },
    "tags": []
   },
   "source": [
    "Video Link: https://www.youtube.com/watch?v=DhFh8Kw7ymk&list=PLgUwDviBIf0oF6QL8m22w1hIDC1vJ_BHz&index=36\n",
    "3Sum - Triplets that sum up to 0"
   ]
  },
  {
   "cell_type": "code",
   "execution_count": 4,
   "id": "c12350c0",
   "metadata": {
    "execution": {
     "iopub.execute_input": "2024-03-14T16:34:34.809398Z",
     "iopub.status.busy": "2024-03-14T16:34:34.808797Z",
     "iopub.status.idle": "2024-03-14T16:34:34.814419Z",
     "shell.execute_reply": "2024-03-14T16:34:34.813684Z"
    },
    "papermill": {
     "duration": 0.012338,
     "end_time": "2024-03-14T16:34:34.816109",
     "exception": false,
     "start_time": "2024-03-14T16:34:34.803771",
     "status": "completed"
    },
    "tags": []
   },
   "outputs": [
    {
     "name": "stdout",
     "output_type": "stream",
     "text": [
      "-1 0 1\n",
      "-1 2 -1\n",
      "0 1 -1\n"
     ]
    }
   ],
   "source": [
    "# Brute force - O(N^3)\n",
    "arr = [-1, 0, 1, 2, -1, -4]\n",
    "N = len(arr)\n",
    "for i in range(N - 2):\n",
    "    for j in range(i + 1, N - 1):\n",
    "        for k in range(j + 1, N):\n",
    "            if arr[i] + arr[j] + arr[k] == 0:\n",
    "                print(arr[i], arr[j], arr[k])"
   ]
  },
  {
   "cell_type": "code",
   "execution_count": 5,
   "id": "d624981c",
   "metadata": {
    "execution": {
     "iopub.execute_input": "2024-03-14T16:34:34.826216Z",
     "iopub.status.busy": "2024-03-14T16:34:34.825623Z",
     "iopub.status.idle": "2024-03-14T16:34:34.833137Z",
     "shell.execute_reply": "2024-03-14T16:34:34.832407Z"
    },
    "papermill": {
     "duration": 0.014389,
     "end_time": "2024-03-14T16:34:34.834845",
     "exception": false,
     "start_time": "2024-03-14T16:34:34.820456",
     "status": "completed"
    },
    "tags": []
   },
   "outputs": [
    {
     "name": "stdout",
     "output_type": "stream",
     "text": [
      "-1 0 1\n",
      "-1 2 -1\n",
      "0 1 -1\n"
     ]
    }
   ],
   "source": [
    "# Better - O(N^2), Space - O(N)\n",
    "arr = [-1, 0, 1, 2, -1, -4]\n",
    "N = len(arr)\n",
    "indices: dict[int, list[int]] = dict()\n",
    "for i, n in enumerate(arr):\n",
    "    curr = indices.get(n, [])\n",
    "    curr.append(i)\n",
    "    indices[n] = curr\n",
    "\n",
    "for i in range(N - 1):\n",
    "    for j in range(i + 1, N - 2):\n",
    "        curr = indices.get(0 - (arr[i] + arr[j]), [])\n",
    "        k = -1\n",
    "        while -k <= len(curr) and curr[k] > j:\n",
    "            if arr[i] + arr[j] + arr[curr[k]] == 0:\n",
    "                print(arr[i], arr[j], arr[curr[k]])\n",
    "            k -= 1"
   ]
  },
  {
   "cell_type": "code",
   "execution_count": 6,
   "id": "c8d6774b",
   "metadata": {
    "execution": {
     "iopub.execute_input": "2024-03-14T16:34:34.845697Z",
     "iopub.status.busy": "2024-03-14T16:34:34.845051Z",
     "iopub.status.idle": "2024-03-14T16:34:34.851003Z",
     "shell.execute_reply": "2024-03-14T16:34:34.850266Z"
    },
    "papermill": {
     "duration": 0.01303,
     "end_time": "2024-03-14T16:34:34.852701",
     "exception": false,
     "start_time": "2024-03-14T16:34:34.839671",
     "status": "completed"
    },
    "tags": []
   },
   "outputs": [
    {
     "name": "stdout",
     "output_type": "stream",
     "text": [
      "-1 1 0\n",
      "-1 -1 2\n",
      "0 -1 1\n"
     ]
    }
   ],
   "source": [
    "# Better (Much Neater) solution - O(N^2), Space - O(N)\n",
    "arr = [-1, 0, 1, 2, -1, -4]\n",
    "N = len(arr)\n",
    "for i in range(N - 1):\n",
    "    set_: set[int] = set()\n",
    "    for j in range(i + 1, N):\n",
    "        k = -(arr[i] + arr[j])\n",
    "        if k in set_:\n",
    "            print(arr[i], arr[j], k)\n",
    "        set_.add(arr[j])"
   ]
  },
  {
   "cell_type": "code",
   "execution_count": 7,
   "id": "f832a851",
   "metadata": {
    "execution": {
     "iopub.execute_input": "2024-03-14T16:34:34.863302Z",
     "iopub.status.busy": "2024-03-14T16:34:34.862667Z",
     "iopub.status.idle": "2024-03-14T16:34:34.871262Z",
     "shell.execute_reply": "2024-03-14T16:34:34.870610Z"
    },
    "papermill": {
     "duration": 0.015615,
     "end_time": "2024-03-14T16:34:34.872951",
     "exception": false,
     "start_time": "2024-03-14T16:34:34.857336",
     "status": "completed"
    },
    "tags": []
   },
   "outputs": [
    {
     "name": "stdout",
     "output_type": "stream",
     "text": [
      "-1 -1 2\n",
      "-1 0 1\n"
     ]
    }
   ],
   "source": [
    "# Optimal - O(N^2), Space - O(1)\n",
    "# Code below returns only distinct triplets.\n",
    "# If non distinct are allowed, simply inc, inc, dec - i, j, k by 1 instead of the while loop below\n",
    "arr = [-1, 0, 1, 2, -1, -4]\n",
    "N = len(arr)\n",
    "\n",
    "arr.sort()\n",
    "i = 0\n",
    "while i < N - 2:\n",
    "    j, k = i + 1, N - 1\n",
    "    while j < k:\n",
    "        curr_sum = arr[i] + arr[j] + arr[k]\n",
    "        if curr_sum == 0:\n",
    "            print(arr[i], arr[j], arr[k])\n",
    "            j_, k_ = j, k\n",
    "            while j_ < k_ and arr[j_] == arr[j] and arr[k_] == arr[k]:\n",
    "                j_, k_ = j_ + 1, k_ - 1\n",
    "            j, k = j_, k_\n",
    "\n",
    "        elif curr_sum < 0:\n",
    "            j_ = j\n",
    "            while j_ < k and arr[j_] == arr[j]:\n",
    "                j_ += 1\n",
    "            j = j_\n",
    "\n",
    "        else:\n",
    "            k_ = k\n",
    "            while k_ > j and arr[k_] == arr[k]:\n",
    "                k_ -= 1\n",
    "            k = k_\n",
    "\n",
    "    i_ = i\n",
    "    while i_ < N and arr[i_] == arr[i]:\n",
    "        i_ += 1\n",
    "    i = i_"
   ]
  },
  {
   "cell_type": "markdown",
   "id": "472fd6df",
   "metadata": {
    "papermill": {
     "duration": 0.004448,
     "end_time": "2024-03-14T16:34:34.881922",
     "exception": false,
     "start_time": "2024-03-14T16:34:34.877474",
     "status": "completed"
    },
    "tags": []
   },
   "source": [
    "Video Link: https://www.youtube.com/watch?v=eD95WRfh81c&list=PLgUwDviBIf0oF6QL8m22w1hIDC1vJ_BHz&index=37\n",
    "Four sum"
   ]
  },
  {
   "cell_type": "code",
   "execution_count": 8,
   "id": "1a37c603",
   "metadata": {
    "execution": {
     "iopub.execute_input": "2024-03-14T16:34:34.892533Z",
     "iopub.status.busy": "2024-03-14T16:34:34.891837Z",
     "iopub.status.idle": "2024-03-14T16:34:34.898244Z",
     "shell.execute_reply": "2024-03-14T16:34:34.897492Z"
    },
    "papermill": {
     "duration": 0.013384,
     "end_time": "2024-03-14T16:34:34.899891",
     "exception": false,
     "start_time": "2024-03-14T16:34:34.886507",
     "status": "completed"
    },
    "tags": []
   },
   "outputs": [
    {
     "name": "stdout",
     "output_type": "stream",
     "text": [
      "1 0 -1 0\n",
      "1 -1 -2 2\n",
      "0 0 -2 2\n"
     ]
    }
   ],
   "source": [
    "# Brute force - O(N^4)\n",
    "arr = [1, 0, -1, 0, -2, 2]\n",
    "N = len(arr)\n",
    "for i in range(N - 3):\n",
    "    for j in range(i + 1, N - 2):\n",
    "        for k in range(j + 1, N - 1):\n",
    "            for l in range(k + 1, N):\n",
    "                if (arr[i] + arr[j] + arr[k] + arr[l]) == 0:\n",
    "                    print(arr[i], arr[j], arr[k], arr[l])"
   ]
  },
  {
   "cell_type": "code",
   "execution_count": 9,
   "id": "013df8c7",
   "metadata": {
    "execution": {
     "iopub.execute_input": "2024-03-14T16:34:34.911528Z",
     "iopub.status.busy": "2024-03-14T16:34:34.910930Z",
     "iopub.status.idle": "2024-03-14T16:34:34.917233Z",
     "shell.execute_reply": "2024-03-14T16:34:34.916460Z"
    },
    "papermill": {
     "duration": 0.013059,
     "end_time": "2024-03-14T16:34:34.918819",
     "exception": false,
     "start_time": "2024-03-14T16:34:34.905760",
     "status": "completed"
    },
    "tags": []
   },
   "outputs": [
    {
     "name": "stdout",
     "output_type": "stream",
     "text": [
      "1 0 0 -1\n",
      "1 -1 2 -2\n",
      "0 0 2 -2\n"
     ]
    }
   ],
   "source": [
    "# Better - O(N^3), Space - O(1)\n",
    "arr = [1, 0, -1, 0, -2, 2]\n",
    "N = len(arr)\n",
    "for i in range(N - 2):\n",
    "    for j in range(i + 1, N - 1):\n",
    "        set_: set[int] = set()\n",
    "        for k in range(j + 1, N):\n",
    "                curr_sum = arr[i] + arr[j] + arr[k]\n",
    "                if -curr_sum in set_:\n",
    "                    print(arr[i], arr[j], arr[k], -curr_sum)\n",
    "                set_.add(arr[k])"
   ]
  },
  {
   "cell_type": "code",
   "execution_count": 10,
   "id": "2f4988ff",
   "metadata": {
    "execution": {
     "iopub.execute_input": "2024-03-14T16:34:34.931670Z",
     "iopub.status.busy": "2024-03-14T16:34:34.931020Z",
     "iopub.status.idle": "2024-03-14T16:34:34.937833Z",
     "shell.execute_reply": "2024-03-14T16:34:34.937062Z"
    },
    "papermill": {
     "duration": 0.014025,
     "end_time": "2024-03-14T16:34:34.939527",
     "exception": false,
     "start_time": "2024-03-14T16:34:34.925502",
     "status": "completed"
    },
    "tags": []
   },
   "outputs": [
    {
     "name": "stdout",
     "output_type": "stream",
     "text": [
      "-2, -1, 1, 2\n",
      "-2, 0, 0, 2\n",
      "-1, 0, 0, 1\n"
     ]
    }
   ],
   "source": [
    "# Optimal - O(N^3), Space - O(1)\n",
    "# As noted above, this would print all quartets including non distinct ones\n",
    "# If only distinct ones are required, inc, dec variables until a different value is found\n",
    "arr = [1, 0, -1, 0, -2, 2]\n",
    "N = len(arr)\n",
    "arr.sort()\n",
    "for i in range(N - 3):\n",
    "    for j in range(i + 1, N - 2):\n",
    "        k, l = j + 1, N - 1\n",
    "        while k < l:\n",
    "            curr = arr[i], arr[j], arr[k], arr[l]\n",
    "            if sum(curr) == 0:\n",
    "                print(', '.join(map(str, curr)))\n",
    "                k += 1\n",
    "                l -= 1\n",
    "            elif sum(curr) < 0:\n",
    "                k += 1\n",
    "            else:\n",
    "                l -= 1"
   ]
  },
  {
   "cell_type": "markdown",
   "id": "af7c5ce6",
   "metadata": {
    "papermill": {
     "duration": 0.004709,
     "end_time": "2024-03-14T16:34:34.951024",
     "exception": false,
     "start_time": "2024-03-14T16:34:34.946315",
     "status": "completed"
    },
    "tags": []
   },
   "source": [
    "Video Link: https://www.youtube.com/watch?v=eZr-6p0B7ME&list=PLgUwDviBIf0oF6QL8m22w1hIDC1vJ_BHz&index=38\n",
    "Number of subarrays with sum xor K"
   ]
  },
  {
   "cell_type": "code",
   "execution_count": 11,
   "id": "4e41d8af",
   "metadata": {
    "execution": {
     "iopub.execute_input": "2024-03-14T16:34:34.962434Z",
     "iopub.status.busy": "2024-03-14T16:34:34.961978Z",
     "iopub.status.idle": "2024-03-14T16:34:34.972274Z",
     "shell.execute_reply": "2024-03-14T16:34:34.971581Z"
    },
    "papermill": {
     "duration": 0.017566,
     "end_time": "2024-03-14T16:34:34.973870",
     "exception": false,
     "start_time": "2024-03-14T16:34:34.956304",
     "status": "completed"
    },
    "tags": []
   },
   "outputs": [
    {
     "data": {
      "text/plain": [
       "4"
      ]
     },
     "execution_count": 11,
     "metadata": {},
     "output_type": "execute_result"
    }
   ],
   "source": [
    "# Brute force - O(N^2)\n",
    "arr = [4, 2, 2, 6, 4]\n",
    "K = 6\n",
    "N, count = len(arr), 0\n",
    "for i in range(N):\n",
    "    sum_ = 0\n",
    "    for j in range(i, N):\n",
    "        sum_ = sum_ ^ arr[j]\n",
    "        if sum_ == K:\n",
    "            count += 1\n",
    "\n",
    "count"
   ]
  },
  {
   "cell_type": "code",
   "execution_count": 12,
   "id": "b0399a91",
   "metadata": {
    "execution": {
     "iopub.execute_input": "2024-03-14T16:34:34.986988Z",
     "iopub.status.busy": "2024-03-14T16:34:34.986394Z",
     "iopub.status.idle": "2024-03-14T16:34:34.993593Z",
     "shell.execute_reply": "2024-03-14T16:34:34.992855Z"
    },
    "papermill": {
     "duration": 0.014531,
     "end_time": "2024-03-14T16:34:34.995183",
     "exception": false,
     "start_time": "2024-03-14T16:34:34.980652",
     "status": "completed"
    },
    "tags": []
   },
   "outputs": [
    {
     "data": {
      "text/plain": [
       "4"
      ]
     },
     "execution_count": 12,
     "metadata": {},
     "output_type": "execute_result"
    }
   ],
   "source": [
    "# Optimal: Using prefix sum\n",
    "# Time: O(N), Space: O(N)\n",
    "arr = [4, 2, 2, 6, 4]\n",
    "K = 6\n",
    "N, count = len(arr), 0\n",
    "dict_: dict[int, int] = {0: 1}\n",
    "sum_ = 0\n",
    "for i in range(N):\n",
    "    sum_ = sum_ ^ arr[i]\n",
    "    if K ^ sum_ in dict_:\n",
    "        count += dict_[K ^ sum_]\n",
    "    dict_[sum_] = dict_.get(sum_, 0) + 1\n",
    "\n",
    "count"
   ]
  },
  {
   "cell_type": "markdown",
   "id": "4fb45d7f",
   "metadata": {},
   "source": [
    "Video Link: https://www.youtube.com/watch?v=IexN60k62jo&list=PLgUwDviBIf0oF6QL8m22w1hIDC1vJ_BHz&index=39\n",
    "Merge overlapping intervals"
   ]
  },
  {
   "cell_type": "code",
   "execution_count": null,
   "id": "dacfc2ea",
   "metadata": {},
   "outputs": [],
   "source": [
    "# Optimal force - O(N log N) + O(N)\n",
    "arr: list[tuple[int, int]] = [(1, 3), (2, 6), (8, 9), (9, 11), (8, 10), (2, 4), (15, 18), (16, 17)]\n",
    "arr.sort(key=lambda x: x[0])\n",
    "result: list[tuple[int, int]] = []\n",
    "for i, j in arr:\n",
    "    while len(result) > 0 and result[-1][1] >= i:\n",
    "        prev = result.pop()\n",
    "        i = min(prev[0], i)\n",
    "        j = max(prev[1], j)\n",
    "    result.append((i, j))\n",
    "\n",
    "result"
   ]
  },
  {
   "cell_type": "markdown",
   "id": "10c671b2",
   "metadata": {},
   "source": [
    "Video Link: https://www.youtube.com/watch?v=n7uwj04E0I4&list=PLgUwDviBIf0oF6QL8m22w1hIDC1vJ_BHz&index=41\n",
    "Merge two sorted arrays without extra space"
   ]
  },
  {
   "cell_type": "code",
   "execution_count": null,
   "id": "2fd69784",
   "metadata": {},
   "outputs": [],
   "source": [
    "# Brute force, extra O(M) space\n",
    "arr1 = [1, 3, 5, 7]\n",
    "arr2 = [0, 2, 6, 8, 9]\n",
    "N1, N2 = len(arr1), len(arr2)\n",
    "\n",
    "# Allocate extra space\n",
    "for i in range(N2):\n",
    "    arr1.append(None)\n",
    "\n",
    "# Merge arrays\n",
    "i, j, k = N1 - 1, N2 - 1, N1 + N2 - 1\n",
    "while i >= 0 or j >= 0:\n",
    "    if j < 0 or (i >= 0 and arr1[i] >= arr2[j]):\n",
    "        arr1[k] = arr1[i]\n",
    "        k, i = k - 1, i - 1\n",
    "    else:\n",
    "        arr1[k] = arr2[j]\n",
    "        k, j = k - 1, j - 1\n",
    "\n",
    "arr1"
   ]
  },
  {
   "cell_type": "code",
   "execution_count": null,
   "id": "f72f3592",
   "metadata": {},
   "outputs": [],
   "source": [
    "# Optimal 1\n",
    "arr1 = [1, 3, 5, 7]\n",
    "arr2 = [0, 2, 6, 8, 9]\n",
    "N1, N2 = len(arr1), len(arr2)\n",
    "\n",
    "# Merge arrays\n",
    "i, j = N1 - 1, 0\n",
    "while arr1[i] > arr2[j]:\n",
    "    arr1[i], arr2[j] = arr2[j], arr1[i]\n",
    "    i, j = i - 1, j + 1\n",
    "\n",
    "arr1.sort()\n",
    "arr2.sort()\n",
    "arr1 + arr2"
   ]
  },
  {
   "cell_type": "code",
   "execution_count": null,
   "id": "f567f80c",
   "metadata": {},
   "outputs": [],
   "source": [
    "# Optimal 2, shell sort\n",
    "arr1 = [1, 3, 5, 7, 10]\n",
    "arr2 = [0, 2, 6, 8, 9]\n",
    "N1, N2 = len(arr1), len(arr2)\n",
    "\n",
    "gap = math.ceil((N1 + N2) / 2)\n",
    "while gap > 0:\n",
    "    left, right = 0, gap\n",
    "    while right < N1 + N2:\n",
    "        # arr1, arr2\n",
    "        if left < N1 and right >= N1:\n",
    "            l, r = left, right - N1\n",
    "            a1, a2 = arr1, arr2\n",
    "        # arr1, arr1\n",
    "        elif right < N1:\n",
    "            l, r = left, right\n",
    "            a1, a2 = arr1, arr1\n",
    "        # arr2, arr2\n",
    "        else:\n",
    "            l, r = left - N1, right - N1\n",
    "            a1, a2 = arr2, arr2\n",
    "\n",
    "        if a1[l] > a2[r]:\n",
    "            a1[l], a2[r] = a2[r], a1[l]\n",
    "        left, right = left + 1, right + 1\n",
    "\n",
    "    if gap == 1:\n",
    "        break\n",
    "    gap = math.ceil(gap / 2)\n",
    "\n",
    "arr1 + arr2"
   ]
  }
 ],
 "metadata": {
  "kernelspec": {
   "display_name": "Python 3 (ipykernel)",
   "language": "python",
   "name": "python3"
  },
  "language_info": {
   "codemirror_mode": {
    "name": "ipython",
    "version": 3
   },
   "file_extension": ".py",
   "mimetype": "text/x-python",
   "name": "python",
   "nbconvert_exporter": "python",
   "pygments_lexer": "ipython3",
   "version": "3.10.13"
  },
  "papermill": {
   "default_parameters": {},
   "duration": 1.652101,
   "end_time": "2024-03-14T16:34:35.218280",
   "environment_variables": {},
   "exception": null,
   "input_path": "study/striver-A2Z/08-hard-arrays.ipynb",
   "output_path": "study/striver-A2Z/08-hard-arrays.ipynb",
   "parameters": {},
   "start_time": "2024-03-14T16:34:33.566179",
   "version": "2.5.0"
  }
 },
 "nbformat": 4,
 "nbformat_minor": 5
}
