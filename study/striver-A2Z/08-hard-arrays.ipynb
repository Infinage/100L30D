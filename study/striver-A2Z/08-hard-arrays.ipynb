{
 "cells": [
  {
   "cell_type": "markdown",
   "id": "d2b96e23",
   "metadata": {},
   "source": [
    "Some useful imports"
   ]
  },
  {
   "cell_type": "code",
   "execution_count": null,
   "id": "db9c5af4",
   "metadata": {},
   "outputs": [],
   "source": [
    "import math\n",
    "import random\n",
    "import functools\n",
    "import itertools"
   ]
  },
  {
   "cell_type": "markdown",
   "id": "5baf7c55",
   "metadata": {},
   "source": [
    "Video Link: https://www.youtube.com/watch?v=vwZj1K0e9U8&list=PLgUwDviBIf0oF6QL8m22w1hIDC1vJ_BHz&index=35\n",
    "Majority element, appearing > floor(N / 3) times"
   ]
  },
  {
   "cell_type": "code",
   "execution_count": null,
   "id": "92a560cd",
   "metadata": {},
   "outputs": [],
   "source": [
    "# Brute force\n",
    "arr: list[int] = [1, 1, 1, 3, 3, 2, 2, 2]\n",
    "N = len(arr)\n",
    "counter: dict[int, int] = dict()\n",
    "for n in arr:\n",
    "    counter[n] = counter.get(n, 0) + 1\n",
    "\n",
    "for k, v, in counter.items():\n",
    "    if v > math.floor(N / 3):\n",
    "        print(k)"
   ]
  },
  {
   "cell_type": "code",
   "execution_count": null,
   "id": "c6f93794",
   "metadata": {},
   "outputs": [],
   "source": [
    "# Optimal solution\n",
    "arr: list[int] = [1, 2, 1, 2, 1, 2, 3, 3]\n",
    "N = len(arr)\n",
    "cnt1, el1, cnt2, el2 = 0, None, 0, None\n",
    "# Run Moore's voting algorithm\n",
    "for i in range(N):\n",
    "    if cnt1 == 0 and el2 != arr[i]:\n",
    "        cnt1, el1 = 1, arr[i]\n",
    "    elif cnt2 == 0 and el1 != arr[i]:\n",
    "        cnt2, el2 = 1, arr[i]\n",
    "    elif el1 == arr[i]:\n",
    "        cnt1 += 1\n",
    "    elif el2 == arr[i]:\n",
    "        cnt2 += 1\n",
    "    else:\n",
    "        cnt1 -= 1\n",
    "        cnt2 -= 1\n",
    "\n",
    "# Verify if el1 and el2 are indeed the majority elements\n",
    "cnt1 = cnt2 = 0\n",
    "for i in range(N):\n",
    "    if arr[i] == el1:\n",
    "        cnt1 += 1\n",
    "    elif arr[i] == el2:\n",
    "        cnt2 += 1\n",
    "\n",
    "if cnt1 > math.floor(N / 3):\n",
    "    print(el1)\n",
    "if cnt2 > math.floor(N / 3):\n",
    "    print(el2)"
   ]
  },
  {
   "cell_type": "markdown",
   "id": "f04d9ba5",
   "metadata": {},
   "source": [
    "Video Link: https://www.youtube.com/watch?v=DhFh8Kw7ymk&list=PLgUwDviBIf0oF6QL8m22w1hIDC1vJ_BHz&index=36\n",
    "3Sum - Triplets that sum up to 0"
   ]
  },
  {
   "cell_type": "code",
   "execution_count": null,
   "id": "a16bed0b",
   "metadata": {},
   "outputs": [],
   "source": [
    "# Brute force - O(N^3)\n",
    "arr = [-1, 0, 1, 2, -1, -4]\n",
    "N = len(arr)\n",
    "for i in range(N - 2):\n",
    "    for j in range(i + 1, N - 1):\n",
    "        for k in range(j + 1, N):\n",
    "            if arr[i] + arr[j] + arr[k] == 0:\n",
    "                print(arr[i], arr[j], arr[k])"
   ]
  },
  {
   "cell_type": "code",
   "execution_count": null,
   "id": "0cf2b709",
   "metadata": {},
   "outputs": [],
   "source": [
    "# Better - O(N^2), Space - O(N)\n",
    "arr = [-1, 0, 1, 2, -1, -4]\n",
    "N = len(arr)\n",
    "indices: dict[int, list[int]] = dict()\n",
    "for i, n in enumerate(arr):\n",
    "    curr = indices.get(n, [])\n",
    "    curr.append(i)\n",
    "    indices[n] = curr\n",
    "\n",
    "for i in range(N - 1):\n",
    "    for j in range(i + 1, N - 2):\n",
    "        curr = indices.get(0 - (arr[i] + arr[j]), [])\n",
    "        k = -1\n",
    "        while -k <= len(curr) and curr[k] > j:\n",
    "            if arr[i] + arr[j] + arr[curr[k]] == 0:\n",
    "                print(arr[i], arr[j], arr[curr[k]])\n",
    "            k -= 1"
   ]
  },
  {
   "cell_type": "code",
   "execution_count": null,
   "id": "b1098c0b",
   "metadata": {},
   "outputs": [],
   "source": [
    "# Better (Much Neater) solution - O(N^2), Space - O(N)\n",
    "arr = [-1, 0, 1, 2, -1, -4]\n",
    "N = len(arr)\n",
    "for i in range(N - 1):\n",
    "    set_: set[int] = set()\n",
    "    for j in range(i + 1, N):\n",
    "        k = -(arr[i] + arr[j])\n",
    "        if k in set_:\n",
    "            print(arr[i], arr[j], k)\n",
    "        set_.add(arr[j])"
   ]
  },
  {
   "cell_type": "code",
   "execution_count": null,
   "id": "e1e1bbd5",
   "metadata": {},
   "outputs": [],
   "source": [
    "# Optimal - O(N^2), Space - O(1)\n",
    "# Code below returns only distinct triplets.\n",
    "# If non distinct are allowed, simply inc, inc, dec - i, j, k by 1 instead of the while loop below\n",
    "arr = [-1, 0, 1, 2, -1, -4]\n",
    "N = len(arr)\n",
    "\n",
    "arr.sort()\n",
    "i = 0\n",
    "while i < N - 2:\n",
    "    j, k = i + 1, N - 1\n",
    "    while j < k:\n",
    "        curr_sum = arr[i] + arr[j] + arr[k]\n",
    "        if curr_sum == 0:\n",
    "            print(arr[i], arr[j], arr[k])\n",
    "            j_, k_ = j, k\n",
    "            while j_ < k_ and arr[j_] == arr[j] and arr[k_] == arr[k]:\n",
    "                j_, k_ = j_ + 1, k_ - 1\n",
    "            j, k = j_, k_\n",
    "\n",
    "        elif curr_sum < 0:\n",
    "            j_ = j\n",
    "            while j_ < k and arr[j_] == arr[j]:\n",
    "                j_ += 1\n",
    "            j = j_\n",
    "\n",
    "        else:\n",
    "            k_ = k\n",
    "            while k_ > j and arr[k_] == arr[k]:\n",
    "                k_ -= 1\n",
    "            k = k_\n",
    "\n",
    "    i_ = i\n",
    "    while i_ < N and arr[i_] == arr[i]:\n",
    "        i_ += 1\n",
    "    i = i_"
   ]
  },
  {
   "cell_type": "markdown",
   "id": "6e5b51bf",
   "metadata": {},
   "source": [
    "Video Link: https://www.youtube.com/watch?v=eD95WRfh81c&list=PLgUwDviBIf0oF6QL8m22w1hIDC1vJ_BHz&index=37\n",
    "Four sum"
   ]
  },
  {
   "cell_type": "code",
   "execution_count": null,
   "id": "b2839bc6",
   "metadata": {},
   "outputs": [],
   "source": [
    "# Brute force - O(N^4)\n",
    "arr = [1, 0, -1, 0, -2, 2]\n",
    "N = len(arr)\n",
    "for i in range(N - 3):\n",
    "    for j in range(i + 1, N - 2):\n",
    "        for k in range(j + 1, N - 1):\n",
    "            for l in range(k + 1, N):\n",
    "                if (arr[i] + arr[j] + arr[k] + arr[l]) == 0:\n",
    "                    print(arr[i], arr[j], arr[k], arr[l])"
   ]
  },
  {
   "cell_type": "code",
   "execution_count": null,
   "id": "c2023d35",
   "metadata": {},
   "outputs": [],
   "source": [
    "# Better - O(N^3), Space - O(1)\n",
    "arr = [1, 0, -1, 0, -2, 2]\n",
    "N = len(arr)\n",
    "for i in range(N - 2):\n",
    "    for j in range(i + 1, N - 1):\n",
    "        set_: set[int] = set()\n",
    "        for k in range(j + 1, N):\n",
    "                curr_sum = arr[i] + arr[j] + arr[k]\n",
    "                if -curr_sum in set_:\n",
    "                    print(arr[i], arr[j], arr[k], -curr_sum)\n",
    "                set_.add(arr[k])"
   ]
  },
  {
   "cell_type": "code",
   "execution_count": null,
   "id": "b629798e",
   "metadata": {},
   "outputs": [],
   "source": [
    "# Optimal - O(N^3), Space - O(1)\n",
    "# As noted above, this would print all quartets including non distinct ones\n",
    "# If only distinct ones are required, inc, dec variables until a different value is found\n",
    "arr = [1, 0, -1, 0, -2, 2]\n",
    "N = len(arr)\n",
    "arr.sort()\n",
    "for i in range(N - 3):\n",
    "    for j in range(i + 1, N - 2):\n",
    "        k, l = j + 1, N - 1\n",
    "        while k < l:\n",
    "            curr = arr[i], arr[j], arr[k], arr[l]\n",
    "            if sum(curr) == 0:\n",
    "                print(', '.join(map(str, curr)))\n",
    "                k += 1\n",
    "                l -= 1\n",
    "            elif sum(curr) < 0:\n",
    "                k += 1\n",
    "            else:\n",
    "                l -= 1"
   ]
  }
 ],
 "metadata": {
  "kernelspec": {
   "display_name": "Python 3 (ipykernel)",
   "language": "python",
   "name": "python3"
  }
 },
 "nbformat": 4,
 "nbformat_minor": 2
}
