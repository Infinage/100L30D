{
 "cells": [
  {
   "cell_type": "markdown",
   "id": "2e76de23",
   "metadata": {
    "papermill": {
     "duration": 0.003853,
     "end_time": "2024-03-13T04:05:01.160674",
     "exception": false,
     "start_time": "2024-03-13T04:05:01.156821",
     "status": "completed"
    },
    "tags": []
   },
   "source": [
    "Some useful imports"
   ]
  },
  {
   "cell_type": "code",
   "execution_count": 1,
   "id": "95dd0243",
   "metadata": {
    "execution": {
     "iopub.execute_input": "2024-03-13T04:05:01.169206Z",
     "iopub.status.busy": "2024-03-13T04:05:01.168508Z",
     "iopub.status.idle": "2024-03-13T04:05:01.178422Z",
     "shell.execute_reply": "2024-03-13T04:05:01.177694Z"
    },
    "papermill": {
     "duration": 0.015822,
     "end_time": "2024-03-13T04:05:01.180189",
     "exception": false,
     "start_time": "2024-03-13T04:05:01.164367",
     "status": "completed"
    },
    "tags": []
   },
   "outputs": [],
   "source": [
    "import math\n",
    "import random\n",
    "import functools\n",
    "import itertools"
   ]
  },
  {
   "cell_type": "markdown",
   "id": "d47b5eaa",
   "metadata": {
    "papermill": {
     "duration": 0.002957,
     "end_time": "2024-03-13T04:05:01.186188",
     "exception": false,
     "start_time": "2024-03-13T04:05:01.183231",
     "status": "completed"
    },
    "tags": []
   },
   "source": [
    "Video Link: https://www.youtube.com/watch?v=vwZj1K0e9U8&list=PLgUwDviBIf0oF6QL8m22w1hIDC1vJ_BHz&index=35\n",
    "Majority element, appearing > floor(N / 3) times"
   ]
  },
  {
   "cell_type": "code",
   "execution_count": 2,
   "id": "e7bd2ff9",
   "metadata": {
    "execution": {
     "iopub.execute_input": "2024-03-13T04:05:01.193365Z",
     "iopub.status.busy": "2024-03-13T04:05:01.192853Z",
     "iopub.status.idle": "2024-03-13T04:05:01.199019Z",
     "shell.execute_reply": "2024-03-13T04:05:01.198215Z"
    },
    "papermill": {
     "duration": 0.011559,
     "end_time": "2024-03-13T04:05:01.200707",
     "exception": false,
     "start_time": "2024-03-13T04:05:01.189148",
     "status": "completed"
    },
    "tags": []
   },
   "outputs": [
    {
     "name": "stdout",
     "output_type": "stream",
     "text": [
      "1\n",
      "2\n"
     ]
    }
   ],
   "source": [
    "# Brute force\n",
    "arr: list[int] = [1, 1, 1, 3, 3, 2, 2, 2]\n",
    "N = len(arr)\n",
    "counter: dict[int, int] = dict()\n",
    "for n in arr:\n",
    "    counter[n] = counter.get(n, 0) + 1\n",
    "\n",
    "for k, v, in counter.items():\n",
    "    if v > math.floor(N / 3):\n",
    "        print(k)"
   ]
  },
  {
   "cell_type": "code",
   "execution_count": 3,
   "id": "180dfe25",
   "metadata": {
    "execution": {
     "iopub.execute_input": "2024-03-13T04:05:01.208563Z",
     "iopub.status.busy": "2024-03-13T04:05:01.207927Z",
     "iopub.status.idle": "2024-03-13T04:05:01.216189Z",
     "shell.execute_reply": "2024-03-13T04:05:01.215536Z"
    },
    "papermill": {
     "duration": 0.013859,
     "end_time": "2024-03-13T04:05:01.217817",
     "exception": false,
     "start_time": "2024-03-13T04:05:01.203958",
     "status": "completed"
    },
    "tags": []
   },
   "outputs": [
    {
     "name": "stdout",
     "output_type": "stream",
     "text": [
      "1\n",
      "2\n"
     ]
    }
   ],
   "source": [
    "# Optimal solution\n",
    "arr: list[int] = [1, 2, 1, 2, 1, 2, 3, 3]\n",
    "N = len(arr)\n",
    "cnt1, el1, cnt2, el2 = 0, None, 0, None\n",
    "# Run Moore's voting algorithm\n",
    "for i in range(N):\n",
    "    if cnt1 == 0 and el2 != arr[i]:\n",
    "        cnt1, el1 = 1, arr[i]\n",
    "    elif cnt2 == 0 and el1 != arr[i]:\n",
    "        cnt2, el2 = 1, arr[i]\n",
    "    elif el1 == arr[i]:\n",
    "        cnt1 += 1\n",
    "    elif el2 == arr[i]:\n",
    "        cnt2 += 1\n",
    "    else:\n",
    "        cnt1 -= 1\n",
    "        cnt2 -= 1\n",
    "\n",
    "# Verify if el1 and el2 are indeed the majority elements\n",
    "cnt1 = cnt2 = 0\n",
    "for i in range(N):\n",
    "    if arr[i] == el1:\n",
    "        cnt1 += 1\n",
    "    elif arr[i] == el2:\n",
    "        cnt2 += 1\n",
    "\n",
    "if cnt1 > math.floor(N / 3):\n",
    "    print(el1)\n",
    "if cnt2 > math.floor(N / 3):\n",
    "    print(el2)"
   ]
  },
  {
   "cell_type": "markdown",
   "id": "133b6f15",
   "metadata": {
    "papermill": {
     "duration": 0.003132,
     "end_time": "2024-03-13T04:05:01.224247",
     "exception": false,
     "start_time": "2024-03-13T04:05:01.221115",
     "status": "completed"
    },
    "tags": []
   },
   "source": [
    "Video Link: https://www.youtube.com/watch?v=DhFh8Kw7ymk&list=PLgUwDviBIf0oF6QL8m22w1hIDC1vJ_BHz&index=36\n",
    "3Sum - Triplets that sum up to 0"
   ]
  },
  {
   "cell_type": "code",
   "execution_count": 4,
   "id": "c12350c0",
   "metadata": {
    "execution": {
     "iopub.execute_input": "2024-03-13T04:05:01.231919Z",
     "iopub.status.busy": "2024-03-13T04:05:01.231401Z",
     "iopub.status.idle": "2024-03-13T04:05:01.237460Z",
     "shell.execute_reply": "2024-03-13T04:05:01.236631Z"
    },
    "papermill": {
     "duration": 0.011614,
     "end_time": "2024-03-13T04:05:01.239042",
     "exception": false,
     "start_time": "2024-03-13T04:05:01.227428",
     "status": "completed"
    },
    "tags": []
   },
   "outputs": [
    {
     "name": "stdout",
     "output_type": "stream",
     "text": [
      "-1 0 1\n",
      "-1 2 -1\n",
      "0 1 -1\n"
     ]
    }
   ],
   "source": [
    "# Brute force - O(N^3)\n",
    "arr = [-1, 0, 1, 2, -1, -4]\n",
    "N = len(arr)\n",
    "for i in range(N - 2):\n",
    "    for j in range(i + 1, N - 1):\n",
    "        for k in range(j + 1, N):\n",
    "            if arr[i] + arr[j] + arr[k] == 0:\n",
    "                print(arr[i], arr[j], arr[k])"
   ]
  },
  {
   "cell_type": "code",
   "execution_count": 5,
   "id": "d624981c",
   "metadata": {
    "execution": {
     "iopub.execute_input": "2024-03-13T04:05:01.247210Z",
     "iopub.status.busy": "2024-03-13T04:05:01.246613Z",
     "iopub.status.idle": "2024-03-13T04:05:01.254375Z",
     "shell.execute_reply": "2024-03-13T04:05:01.253724Z"
    },
    "papermill": {
     "duration": 0.013623,
     "end_time": "2024-03-13T04:05:01.256025",
     "exception": false,
     "start_time": "2024-03-13T04:05:01.242402",
     "status": "completed"
    },
    "tags": []
   },
   "outputs": [
    {
     "name": "stdout",
     "output_type": "stream",
     "text": [
      "-1 0 1\n",
      "-1 2 -1\n",
      "0 1 -1\n"
     ]
    }
   ],
   "source": [
    "# Better - O(N^2), Space - O(N)\n",
    "arr = [-1, 0, 1, 2, -1, -4]\n",
    "N = len(arr)\n",
    "indices: dict[int, list[int]] = dict()\n",
    "for i, n in enumerate(arr):\n",
    "    curr = indices.get(n, [])\n",
    "    curr.append(i)\n",
    "    indices[n] = curr\n",
    "\n",
    "for i in range(N - 1):\n",
    "    for j in range(i + 1, N - 2):\n",
    "        curr = indices.get(0 - (arr[i] + arr[j]), [])\n",
    "        k = -1\n",
    "        while -k <= len(curr) and curr[k] > j:\n",
    "            if arr[i] + arr[j] + arr[curr[k]] == 0:\n",
    "                print(arr[i], arr[j], arr[curr[k]])\n",
    "            k -= 1"
   ]
  },
  {
   "cell_type": "code",
   "execution_count": 6,
   "id": "c8d6774b",
   "metadata": {
    "execution": {
     "iopub.execute_input": "2024-03-13T04:05:01.264435Z",
     "iopub.status.busy": "2024-03-13T04:05:01.263888Z",
     "iopub.status.idle": "2024-03-13T04:05:01.269561Z",
     "shell.execute_reply": "2024-03-13T04:05:01.268784Z"
    },
    "papermill": {
     "duration": 0.011742,
     "end_time": "2024-03-13T04:05:01.271339",
     "exception": false,
     "start_time": "2024-03-13T04:05:01.259597",
     "status": "completed"
    },
    "tags": []
   },
   "outputs": [
    {
     "name": "stdout",
     "output_type": "stream",
     "text": [
      "-1 1 0\n",
      "-1 -1 2\n",
      "0 -1 1\n"
     ]
    }
   ],
   "source": [
    "# Better (Much Neater) solution - O(N^2), Space - O(N)\n",
    "arr = [-1, 0, 1, 2, -1, -4]\n",
    "N = len(arr)\n",
    "for i in range(N - 1):\n",
    "    set_: set[int] = set()\n",
    "    for j in range(i + 1, N):\n",
    "        k = -(arr[i] + arr[j])\n",
    "        if k in set_:\n",
    "            print(arr[i], arr[j], k)\n",
    "        set_.add(arr[j])"
   ]
  },
  {
   "cell_type": "code",
   "execution_count": 7,
   "id": "f832a851",
   "metadata": {
    "execution": {
     "iopub.execute_input": "2024-03-13T04:05:01.280499Z",
     "iopub.status.busy": "2024-03-13T04:05:01.279899Z",
     "iopub.status.idle": "2024-03-13T04:05:01.288579Z",
     "shell.execute_reply": "2024-03-13T04:05:01.287838Z"
    },
    "papermill": {
     "duration": 0.015037,
     "end_time": "2024-03-13T04:05:01.290137",
     "exception": false,
     "start_time": "2024-03-13T04:05:01.275100",
     "status": "completed"
    },
    "tags": []
   },
   "outputs": [
    {
     "name": "stdout",
     "output_type": "stream",
     "text": [
      "-1 -1 2\n",
      "-1 0 1\n"
     ]
    }
   ],
   "source": [
    "# Optimal - O(N^2), Space - O(1)\n",
    "# Code below returns only distinct triplets.\n",
    "# If non distinct are allowed, simply inc, inc, dec - i, j, k by 1 instead of the while loop below\n",
    "arr = [-1, 0, 1, 2, -1, -4]\n",
    "N = len(arr)\n",
    "\n",
    "arr.sort()\n",
    "i = 0\n",
    "while i < N - 2:\n",
    "    j, k = i + 1, N - 1\n",
    "    while j < k:\n",
    "        curr_sum = arr[i] + arr[j] + arr[k]\n",
    "        if curr_sum == 0:\n",
    "            print(arr[i], arr[j], arr[k])\n",
    "            j_, k_ = j, k\n",
    "            while j_ < k_ and arr[j_] == arr[j] and arr[k_] == arr[k]:\n",
    "                j_, k_ = j_ + 1, k_ - 1\n",
    "            j, k = j_, k_\n",
    "\n",
    "        elif curr_sum < 0:\n",
    "            j_ = j\n",
    "            while j_ < k and arr[j_] == arr[j]:\n",
    "                j_ += 1\n",
    "            j = j_\n",
    "\n",
    "        else:\n",
    "            k_ = k\n",
    "            while k_ > j and arr[k_] == arr[k]:\n",
    "                k_ -= 1\n",
    "            k = k_\n",
    "\n",
    "    i_ = i\n",
    "    while i_ < N and arr[i_] == arr[i]:\n",
    "        i_ += 1\n",
    "    i = i_"
   ]
  },
  {
   "cell_type": "markdown",
   "id": "472fd6df",
   "metadata": {
    "papermill": {
     "duration": 0.003784,
     "end_time": "2024-03-13T04:05:01.297784",
     "exception": false,
     "start_time": "2024-03-13T04:05:01.294000",
     "status": "completed"
    },
    "tags": []
   },
   "source": [
    "Video Link: https://www.youtube.com/watch?v=eD95WRfh81c&list=PLgUwDviBIf0oF6QL8m22w1hIDC1vJ_BHz&index=37\n",
    "Four sum"
   ]
  },
  {
   "cell_type": "code",
   "execution_count": 8,
   "id": "1a37c603",
   "metadata": {
    "execution": {
     "iopub.execute_input": "2024-03-13T04:05:01.306861Z",
     "iopub.status.busy": "2024-03-13T04:05:01.306234Z",
     "iopub.status.idle": "2024-03-13T04:05:01.312266Z",
     "shell.execute_reply": "2024-03-13T04:05:01.311504Z"
    },
    "papermill": {
     "duration": 0.0123,
     "end_time": "2024-03-13T04:05:01.313815",
     "exception": false,
     "start_time": "2024-03-13T04:05:01.301515",
     "status": "completed"
    },
    "tags": []
   },
   "outputs": [
    {
     "name": "stdout",
     "output_type": "stream",
     "text": [
      "1 0 -1 0\n",
      "1 -1 -2 2\n",
      "0 0 -2 2\n"
     ]
    }
   ],
   "source": [
    "# Brute force - O(N^4)\n",
    "arr = [1, 0, -1, 0, -2, 2]\n",
    "N = len(arr)\n",
    "for i in range(N - 3):\n",
    "    for j in range(i + 1, N - 2):\n",
    "        for k in range(j + 1, N - 1):\n",
    "            for l in range(k + 1, N):\n",
    "                if (arr[i] + arr[j] + arr[k] + arr[l]) == 0:\n",
    "                    print(arr[i], arr[j], arr[k], arr[l])"
   ]
  },
  {
   "cell_type": "code",
   "execution_count": 9,
   "id": "013df8c7",
   "metadata": {
    "execution": {
     "iopub.execute_input": "2024-03-13T04:05:01.323071Z",
     "iopub.status.busy": "2024-03-13T04:05:01.322482Z",
     "iopub.status.idle": "2024-03-13T04:05:01.328684Z",
     "shell.execute_reply": "2024-03-13T04:05:01.327960Z"
    },
    "papermill": {
     "duration": 0.012339,
     "end_time": "2024-03-13T04:05:01.330223",
     "exception": false,
     "start_time": "2024-03-13T04:05:01.317884",
     "status": "completed"
    },
    "tags": []
   },
   "outputs": [
    {
     "name": "stdout",
     "output_type": "stream",
     "text": [
      "1 0 0 -1\n",
      "1 -1 2 -2\n",
      "0 0 2 -2\n"
     ]
    }
   ],
   "source": [
    "# Better - O(N^3), Space - O(1)\n",
    "arr = [1, 0, -1, 0, -2, 2]\n",
    "N = len(arr)\n",
    "for i in range(N - 2):\n",
    "    for j in range(i + 1, N - 1):\n",
    "        set_: set[int] = set()\n",
    "        for k in range(j + 1, N):\n",
    "                curr_sum = arr[i] + arr[j] + arr[k]\n",
    "                if -curr_sum in set_:\n",
    "                    print(arr[i], arr[j], arr[k], -curr_sum)\n",
    "                set_.add(arr[k])"
   ]
  },
  {
   "cell_type": "code",
   "execution_count": 10,
   "id": "2f4988ff",
   "metadata": {
    "execution": {
     "iopub.execute_input": "2024-03-13T04:05:01.339683Z",
     "iopub.status.busy": "2024-03-13T04:05:01.339135Z",
     "iopub.status.idle": "2024-03-13T04:05:01.346019Z",
     "shell.execute_reply": "2024-03-13T04:05:01.345283Z"
    },
    "papermill": {
     "duration": 0.013385,
     "end_time": "2024-03-13T04:05:01.347701",
     "exception": false,
     "start_time": "2024-03-13T04:05:01.334316",
     "status": "completed"
    },
    "tags": []
   },
   "outputs": [
    {
     "name": "stdout",
     "output_type": "stream",
     "text": [
      "-2, -1, 1, 2\n",
      "-2, 0, 0, 2\n",
      "-1, 0, 0, 1\n"
     ]
    }
   ],
   "source": [
    "# Optimal - O(N^3), Space - O(1)\n",
    "# As noted above, this would print all quartets including non distinct ones\n",
    "# If only distinct ones are required, inc, dec variables until a different value is found\n",
    "arr = [1, 0, -1, 0, -2, 2]\n",
    "N = len(arr)\n",
    "arr.sort()\n",
    "for i in range(N - 3):\n",
    "    for j in range(i + 1, N - 2):\n",
    "        k, l = j + 1, N - 1\n",
    "        while k < l:\n",
    "            curr = arr[i], arr[j], arr[k], arr[l]\n",
    "            if sum(curr) == 0:\n",
    "                print(', '.join(map(str, curr)))\n",
    "                k += 1\n",
    "                l -= 1\n",
    "            elif sum(curr) < 0:\n",
    "                k += 1\n",
    "            else:\n",
    "                l -= 1"
   ]
  }
 ],
 "metadata": {
  "kernelspec": {
   "display_name": "Python 3 (ipykernel)",
   "language": "python",
   "name": "python3"
  },
  "language_info": {
   "codemirror_mode": {
    "name": "ipython",
    "version": 3
   },
   "file_extension": ".py",
   "mimetype": "text/x-python",
   "name": "python",
   "nbconvert_exporter": "python",
   "pygments_lexer": "ipython3",
   "version": "3.10.13"
  },
  "papermill": {
   "default_parameters": {},
   "duration": 1.508985,
   "end_time": "2024-03-13T04:05:01.468577",
   "environment_variables": {},
   "exception": null,
   "input_path": "study/striver-A2Z/08-hard-arrays.ipynb",
   "output_path": "study/striver-A2Z/08-hard-arrays.ipynb",
   "parameters": {},
   "start_time": "2024-03-13T04:04:59.959592",
   "version": "2.5.0"
  }
 },
 "nbformat": 4,
 "nbformat_minor": 5
}