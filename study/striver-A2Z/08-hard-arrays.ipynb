{
 "cells": [
  {
   "cell_type": "markdown",
   "id": "2e76de23",
   "metadata": {
    "papermill": {
     "duration": 0.008668,
     "end_time": "2024-03-18T03:05:17.558168",
     "exception": false,
     "start_time": "2024-03-18T03:05:17.549500",
     "status": "completed"
    },
    "tags": []
   },
   "source": [
    "Some useful imports"
   ]
  },
  {
   "cell_type": "code",
   "execution_count": 1,
   "id": "95dd0243",
   "metadata": {
    "execution": {
     "iopub.execute_input": "2024-03-18T03:05:17.575766Z",
     "iopub.status.busy": "2024-03-18T03:05:17.575228Z",
     "iopub.status.idle": "2024-03-18T03:05:17.584982Z",
     "shell.execute_reply": "2024-03-18T03:05:17.584365Z"
    },
    "papermill": {
     "duration": 0.020437,
     "end_time": "2024-03-18T03:05:17.586688",
     "exception": false,
     "start_time": "2024-03-18T03:05:17.566251",
     "status": "completed"
    },
    "tags": []
   },
   "outputs": [],
   "source": [
    "import math\n",
    "import random\n",
    "import functools\n",
    "import itertools\n",
    "import pdb"
   ]
  },
  {
   "cell_type": "markdown",
   "id": "d47b5eaa",
   "metadata": {
    "papermill": {
     "duration": 0.007758,
     "end_time": "2024-03-18T03:05:17.602368",
     "exception": false,
     "start_time": "2024-03-18T03:05:17.594610",
     "status": "completed"
    },
    "tags": []
   },
   "source": [
    "Video Link: https://www.youtube.com/watch?v=vwZj1K0e9U8&list=PLgUwDviBIf0oF6QL8m22w1hIDC1vJ_BHz&index=35\n",
    "Majority element, appearing > floor(N / 3) times"
   ]
  },
  {
   "cell_type": "code",
   "execution_count": 2,
   "id": "e7bd2ff9",
   "metadata": {
    "execution": {
     "iopub.execute_input": "2024-03-18T03:05:17.619397Z",
     "iopub.status.busy": "2024-03-18T03:05:17.618800Z",
     "iopub.status.idle": "2024-03-18T03:05:17.624497Z",
     "shell.execute_reply": "2024-03-18T03:05:17.623765Z"
    },
    "papermill": {
     "duration": 0.015975,
     "end_time": "2024-03-18T03:05:17.626203",
     "exception": false,
     "start_time": "2024-03-18T03:05:17.610228",
     "status": "completed"
    },
    "tags": []
   },
   "outputs": [
    {
     "name": "stdout",
     "output_type": "stream",
     "text": [
      "1\n",
      "2\n"
     ]
    }
   ],
   "source": [
    "# Brute force\n",
    "arr: list[int] = [1, 1, 1, 3, 3, 2, 2, 2]\n",
    "N = len(arr)\n",
    "counter: dict[int, int] = dict()\n",
    "for n in arr:\n",
    "    counter[n] = counter.get(n, 0) + 1\n",
    "\n",
    "for k, v, in counter.items():\n",
    "    if v > math.floor(N / 3):\n",
    "        print(k)"
   ]
  },
  {
   "cell_type": "code",
   "execution_count": 3,
   "id": "180dfe25",
   "metadata": {
    "execution": {
     "iopub.execute_input": "2024-03-18T03:05:17.643510Z",
     "iopub.status.busy": "2024-03-18T03:05:17.642895Z",
     "iopub.status.idle": "2024-03-18T03:05:17.650853Z",
     "shell.execute_reply": "2024-03-18T03:05:17.650094Z"
    },
    "papermill": {
     "duration": 0.01828,
     "end_time": "2024-03-18T03:05:17.652437",
     "exception": false,
     "start_time": "2024-03-18T03:05:17.634157",
     "status": "completed"
    },
    "tags": []
   },
   "outputs": [
    {
     "name": "stdout",
     "output_type": "stream",
     "text": [
      "1\n",
      "2\n"
     ]
    }
   ],
   "source": [
    "# Optimal solution\n",
    "arr: list[int] = [1, 2, 1, 2, 1, 2, 3, 3]\n",
    "N = len(arr)\n",
    "cnt1, el1, cnt2, el2 = 0, None, 0, None\n",
    "# Run Moore's voting algorithm\n",
    "for i in range(N):\n",
    "    if cnt1 == 0 and el2 != arr[i]:\n",
    "        cnt1, el1 = 1, arr[i]\n",
    "    elif cnt2 == 0 and el1 != arr[i]:\n",
    "        cnt2, el2 = 1, arr[i]\n",
    "    elif el1 == arr[i]:\n",
    "        cnt1 += 1\n",
    "    elif el2 == arr[i]:\n",
    "        cnt2 += 1\n",
    "    else:\n",
    "        cnt1 -= 1\n",
    "        cnt2 -= 1\n",
    "\n",
    "# Verify if el1 and el2 are indeed the majority elements\n",
    "cnt1 = cnt2 = 0\n",
    "for i in range(N):\n",
    "    if arr[i] == el1:\n",
    "        cnt1 += 1\n",
    "    elif arr[i] == el2:\n",
    "        cnt2 += 1\n",
    "\n",
    "if cnt1 > math.floor(N / 3):\n",
    "    print(el1)\n",
    "if cnt2 > math.floor(N / 3):\n",
    "    print(el2)"
   ]
  },
  {
   "cell_type": "markdown",
   "id": "133b6f15",
   "metadata": {
    "papermill": {
     "duration": 0.007891,
     "end_time": "2024-03-18T03:05:17.668396",
     "exception": false,
     "start_time": "2024-03-18T03:05:17.660505",
     "status": "completed"
    },
    "tags": []
   },
   "source": [
    "Video Link: https://www.youtube.com/watch?v=DhFh8Kw7ymk&list=PLgUwDviBIf0oF6QL8m22w1hIDC1vJ_BHz&index=36\n",
    "3Sum - Triplets that sum up to 0"
   ]
  },
  {
   "cell_type": "code",
   "execution_count": 4,
   "id": "c12350c0",
   "metadata": {
    "execution": {
     "iopub.execute_input": "2024-03-18T03:05:17.686401Z",
     "iopub.status.busy": "2024-03-18T03:05:17.685816Z",
     "iopub.status.idle": "2024-03-18T03:05:17.691333Z",
     "shell.execute_reply": "2024-03-18T03:05:17.690612Z"
    },
    "papermill": {
     "duration": 0.016292,
     "end_time": "2024-03-18T03:05:17.693100",
     "exception": false,
     "start_time": "2024-03-18T03:05:17.676808",
     "status": "completed"
    },
    "tags": []
   },
   "outputs": [
    {
     "name": "stdout",
     "output_type": "stream",
     "text": [
      "-1 0 1\n",
      "-1 2 -1\n",
      "0 1 -1\n"
     ]
    }
   ],
   "source": [
    "# Brute force - O(N^3)\n",
    "arr = [-1, 0, 1, 2, -1, -4]\n",
    "N = len(arr)\n",
    "for i in range(N - 2):\n",
    "    for j in range(i + 1, N - 1):\n",
    "        for k in range(j + 1, N):\n",
    "            if arr[i] + arr[j] + arr[k] == 0:\n",
    "                print(arr[i], arr[j], arr[k])"
   ]
  },
  {
   "cell_type": "code",
   "execution_count": 5,
   "id": "d624981c",
   "metadata": {
    "execution": {
     "iopub.execute_input": "2024-03-18T03:05:17.710593Z",
     "iopub.status.busy": "2024-03-18T03:05:17.710013Z",
     "iopub.status.idle": "2024-03-18T03:05:17.717392Z",
     "shell.execute_reply": "2024-03-18T03:05:17.716668Z"
    },
    "papermill": {
     "duration": 0.017844,
     "end_time": "2024-03-18T03:05:17.719049",
     "exception": false,
     "start_time": "2024-03-18T03:05:17.701205",
     "status": "completed"
    },
    "tags": []
   },
   "outputs": [
    {
     "name": "stdout",
     "output_type": "stream",
     "text": [
      "-1 0 1\n",
      "-1 2 -1\n",
      "0 1 -1\n"
     ]
    }
   ],
   "source": [
    "# Better - O(N^2), Space - O(N)\n",
    "arr = [-1, 0, 1, 2, -1, -4]\n",
    "N = len(arr)\n",
    "indices: dict[int, list[int]] = dict()\n",
    "for i, n in enumerate(arr):\n",
    "    curr = indices.get(n, [])\n",
    "    curr.append(i)\n",
    "    indices[n] = curr\n",
    "\n",
    "for i in range(N - 1):\n",
    "    for j in range(i + 1, N - 2):\n",
    "        curr = indices.get(0 - (arr[i] + arr[j]), [])\n",
    "        k = -1\n",
    "        while -k <= len(curr) and curr[k] > j:\n",
    "            if arr[i] + arr[j] + arr[curr[k]] == 0:\n",
    "                print(arr[i], arr[j], arr[curr[k]])\n",
    "            k -= 1"
   ]
  },
  {
   "cell_type": "code",
   "execution_count": 6,
   "id": "c8d6774b",
   "metadata": {
    "execution": {
     "iopub.execute_input": "2024-03-18T03:05:17.736752Z",
     "iopub.status.busy": "2024-03-18T03:05:17.736157Z",
     "iopub.status.idle": "2024-03-18T03:05:17.742332Z",
     "shell.execute_reply": "2024-03-18T03:05:17.741588Z"
    },
    "papermill": {
     "duration": 0.016779,
     "end_time": "2024-03-18T03:05:17.743974",
     "exception": false,
     "start_time": "2024-03-18T03:05:17.727195",
     "status": "completed"
    },
    "tags": []
   },
   "outputs": [
    {
     "name": "stdout",
     "output_type": "stream",
     "text": [
      "-1 1 0\n",
      "-1 -1 2\n",
      "0 -1 1\n"
     ]
    }
   ],
   "source": [
    "# Better (Much Neater) solution - O(N^2), Space - O(N)\n",
    "arr = [-1, 0, 1, 2, -1, -4]\n",
    "N = len(arr)\n",
    "for i in range(N - 1):\n",
    "    set_: set[int] = set()\n",
    "    for j in range(i + 1, N):\n",
    "        k = -(arr[i] + arr[j])\n",
    "        if k in set_:\n",
    "            print(arr[i], arr[j], k)\n",
    "        set_.add(arr[j])"
   ]
  },
  {
   "cell_type": "code",
   "execution_count": 7,
   "id": "f832a851",
   "metadata": {
    "execution": {
     "iopub.execute_input": "2024-03-18T03:05:17.762137Z",
     "iopub.status.busy": "2024-03-18T03:05:17.761516Z",
     "iopub.status.idle": "2024-03-18T03:05:17.770106Z",
     "shell.execute_reply": "2024-03-18T03:05:17.769406Z"
    },
    "papermill": {
     "duration": 0.019344,
     "end_time": "2024-03-18T03:05:17.771732",
     "exception": false,
     "start_time": "2024-03-18T03:05:17.752388",
     "status": "completed"
    },
    "tags": []
   },
   "outputs": [
    {
     "name": "stdout",
     "output_type": "stream",
     "text": [
      "-1 -1 2\n",
      "-1 0 1\n"
     ]
    }
   ],
   "source": [
    "# Optimal - O(N^2), Space - O(1)\n",
    "# Code below returns only distinct triplets.\n",
    "# If non distinct are allowed, simply inc, inc, dec - i, j, k by 1 instead of the while loop below\n",
    "arr = [-1, 0, 1, 2, -1, -4]\n",
    "N = len(arr)\n",
    "\n",
    "arr.sort()\n",
    "i = 0\n",
    "while i < N - 2:\n",
    "    j, k = i + 1, N - 1\n",
    "    while j < k:\n",
    "        curr_sum = arr[i] + arr[j] + arr[k]\n",
    "        if curr_sum == 0:\n",
    "            print(arr[i], arr[j], arr[k])\n",
    "            j_, k_ = j, k\n",
    "            while j_ < k_ and arr[j_] == arr[j] and arr[k_] == arr[k]:\n",
    "                j_, k_ = j_ + 1, k_ - 1\n",
    "            j, k = j_, k_\n",
    "\n",
    "        elif curr_sum < 0:\n",
    "            j_ = j\n",
    "            while j_ < k and arr[j_] == arr[j]:\n",
    "                j_ += 1\n",
    "            j = j_\n",
    "\n",
    "        else:\n",
    "            k_ = k\n",
    "            while k_ > j and arr[k_] == arr[k]:\n",
    "                k_ -= 1\n",
    "            k = k_\n",
    "\n",
    "    i_ = i\n",
    "    while i_ < N and arr[i_] == arr[i]:\n",
    "        i_ += 1\n",
    "    i = i_"
   ]
  },
  {
   "cell_type": "markdown",
   "id": "472fd6df",
   "metadata": {
    "papermill": {
     "duration": 0.00841,
     "end_time": "2024-03-18T03:05:17.789023",
     "exception": false,
     "start_time": "2024-03-18T03:05:17.780613",
     "status": "completed"
    },
    "tags": []
   },
   "source": [
    "Video Link: https://www.youtube.com/watch?v=eD95WRfh81c&list=PLgUwDviBIf0oF6QL8m22w1hIDC1vJ_BHz&index=37\n",
    "Four sum"
   ]
  },
  {
   "cell_type": "code",
   "execution_count": 8,
   "id": "1a37c603",
   "metadata": {
    "execution": {
     "iopub.execute_input": "2024-03-18T03:05:17.807266Z",
     "iopub.status.busy": "2024-03-18T03:05:17.806643Z",
     "iopub.status.idle": "2024-03-18T03:05:17.813325Z",
     "shell.execute_reply": "2024-03-18T03:05:17.812684Z"
    },
    "papermill": {
     "duration": 0.01765,
     "end_time": "2024-03-18T03:05:17.815002",
     "exception": false,
     "start_time": "2024-03-18T03:05:17.797352",
     "status": "completed"
    },
    "tags": []
   },
   "outputs": [
    {
     "name": "stdout",
     "output_type": "stream",
     "text": [
      "1 0 -1 0\n",
      "1 -1 -2 2\n",
      "0 0 -2 2\n"
     ]
    }
   ],
   "source": [
    "# Brute force - O(N^4)\n",
    "arr = [1, 0, -1, 0, -2, 2]\n",
    "N = len(arr)\n",
    "for i in range(N - 3):\n",
    "    for j in range(i + 1, N - 2):\n",
    "        for k in range(j + 1, N - 1):\n",
    "            for l in range(k + 1, N):\n",
    "                if (arr[i] + arr[j] + arr[k] + arr[l]) == 0:\n",
    "                    print(arr[i], arr[j], arr[k], arr[l])"
   ]
  },
  {
   "cell_type": "code",
   "execution_count": 9,
   "id": "013df8c7",
   "metadata": {
    "execution": {
     "iopub.execute_input": "2024-03-18T03:05:17.834348Z",
     "iopub.status.busy": "2024-03-18T03:05:17.833893Z",
     "iopub.status.idle": "2024-03-18T03:05:17.840563Z",
     "shell.execute_reply": "2024-03-18T03:05:17.839719Z"
    },
    "papermill": {
     "duration": 0.017485,
     "end_time": "2024-03-18T03:05:17.842140",
     "exception": false,
     "start_time": "2024-03-18T03:05:17.824655",
     "status": "completed"
    },
    "tags": []
   },
   "outputs": [
    {
     "name": "stdout",
     "output_type": "stream",
     "text": [
      "1 0 0 -1\n",
      "1 -1 2 -2\n",
      "0 0 2 -2\n"
     ]
    }
   ],
   "source": [
    "# Better - O(N^3), Space - O(1)\n",
    "arr = [1, 0, -1, 0, -2, 2]\n",
    "N = len(arr)\n",
    "for i in range(N - 2):\n",
    "    for j in range(i + 1, N - 1):\n",
    "        set_: set[int] = set()\n",
    "        for k in range(j + 1, N):\n",
    "                curr_sum = arr[i] + arr[j] + arr[k]\n",
    "                if -curr_sum in set_:\n",
    "                    print(arr[i], arr[j], arr[k], -curr_sum)\n",
    "                set_.add(arr[k])"
   ]
  },
  {
   "cell_type": "code",
   "execution_count": 10,
   "id": "2f4988ff",
   "metadata": {
    "execution": {
     "iopub.execute_input": "2024-03-18T03:05:17.860554Z",
     "iopub.status.busy": "2024-03-18T03:05:17.859951Z",
     "iopub.status.idle": "2024-03-18T03:05:17.866854Z",
     "shell.execute_reply": "2024-03-18T03:05:17.866097Z"
    },
    "papermill": {
     "duration": 0.017748,
     "end_time": "2024-03-18T03:05:17.868520",
     "exception": false,
     "start_time": "2024-03-18T03:05:17.850772",
     "status": "completed"
    },
    "tags": []
   },
   "outputs": [
    {
     "name": "stdout",
     "output_type": "stream",
     "text": [
      "-2, -1, 1, 2\n",
      "-2, 0, 0, 2\n",
      "-1, 0, 0, 1\n"
     ]
    }
   ],
   "source": [
    "# Optimal - O(N^3), Space - O(1)\n",
    "# As noted above, this would print all quartets including non distinct ones\n",
    "# If only distinct ones are required, inc, dec variables until a different value is found\n",
    "arr = [1, 0, -1, 0, -2, 2]\n",
    "N = len(arr)\n",
    "arr.sort()\n",
    "for i in range(N - 3):\n",
    "    for j in range(i + 1, N - 2):\n",
    "        k, l = j + 1, N - 1\n",
    "        while k < l:\n",
    "            curr = arr[i], arr[j], arr[k], arr[l]\n",
    "            if sum(curr) == 0:\n",
    "                print(', '.join(map(str, curr)))\n",
    "                k += 1\n",
    "                l -= 1\n",
    "            elif sum(curr) < 0:\n",
    "                k += 1\n",
    "            else:\n",
    "                l -= 1"
   ]
  },
  {
   "cell_type": "markdown",
   "id": "af7c5ce6",
   "metadata": {
    "papermill": {
     "duration": 0.008448,
     "end_time": "2024-03-18T03:05:17.885421",
     "exception": false,
     "start_time": "2024-03-18T03:05:17.876973",
     "status": "completed"
    },
    "tags": []
   },
   "source": [
    "Video Link: https://www.youtube.com/watch?v=eZr-6p0B7ME&list=PLgUwDviBIf0oF6QL8m22w1hIDC1vJ_BHz&index=38\n",
    "Number of subarrays with sum xor K"
   ]
  },
  {
   "cell_type": "code",
   "execution_count": 11,
   "id": "4e41d8af",
   "metadata": {
    "execution": {
     "iopub.execute_input": "2024-03-18T03:05:17.903572Z",
     "iopub.status.busy": "2024-03-18T03:05:17.903335Z",
     "iopub.status.idle": "2024-03-18T03:05:17.912900Z",
     "shell.execute_reply": "2024-03-18T03:05:17.912101Z"
    },
    "papermill": {
     "duration": 0.020422,
     "end_time": "2024-03-18T03:05:17.914486",
     "exception": false,
     "start_time": "2024-03-18T03:05:17.894064",
     "status": "completed"
    },
    "tags": []
   },
   "outputs": [
    {
     "data": {
      "text/plain": [
       "4"
      ]
     },
     "execution_count": 11,
     "metadata": {},
     "output_type": "execute_result"
    }
   ],
   "source": [
    "# Brute force - O(N^2)\n",
    "arr = [4, 2, 2, 6, 4]\n",
    "K = 6\n",
    "N, count = len(arr), 0\n",
    "for i in range(N):\n",
    "    sum_ = 0\n",
    "    for j in range(i, N):\n",
    "        sum_ = sum_ ^ arr[j]\n",
    "        if sum_ == K:\n",
    "            count += 1\n",
    "\n",
    "count"
   ]
  },
  {
   "cell_type": "code",
   "execution_count": 12,
   "id": "b0399a91",
   "metadata": {
    "execution": {
     "iopub.execute_input": "2024-03-18T03:05:17.933299Z",
     "iopub.status.busy": "2024-03-18T03:05:17.932707Z",
     "iopub.status.idle": "2024-03-18T03:05:17.939799Z",
     "shell.execute_reply": "2024-03-18T03:05:17.939029Z"
    },
    "papermill": {
     "duration": 0.018214,
     "end_time": "2024-03-18T03:05:17.941472",
     "exception": false,
     "start_time": "2024-03-18T03:05:17.923258",
     "status": "completed"
    },
    "tags": []
   },
   "outputs": [
    {
     "data": {
      "text/plain": [
       "4"
      ]
     },
     "execution_count": 12,
     "metadata": {},
     "output_type": "execute_result"
    }
   ],
   "source": [
    "# Optimal: Using prefix sum\n",
    "# Time: O(N), Space: O(N)\n",
    "arr = [4, 2, 2, 6, 4]\n",
    "K = 6\n",
    "N, count = len(arr), 0\n",
    "dict_: dict[int, int] = {0: 1}\n",
    "sum_ = 0\n",
    "for i in range(N):\n",
    "    sum_ = sum_ ^ arr[i]\n",
    "    if K ^ sum_ in dict_:\n",
    "        count += dict_[K ^ sum_]\n",
    "    dict_[sum_] = dict_.get(sum_, 0) + 1\n",
    "\n",
    "count"
   ]
  },
  {
   "cell_type": "markdown",
   "id": "4fb45d7f",
   "metadata": {
    "papermill": {
     "duration": 0.008687,
     "end_time": "2024-03-18T03:05:17.959059",
     "exception": false,
     "start_time": "2024-03-18T03:05:17.950372",
     "status": "completed"
    },
    "tags": []
   },
   "source": [
    "Video Link: https://www.youtube.com/watch?v=IexN60k62jo&list=PLgUwDviBIf0oF6QL8m22w1hIDC1vJ_BHz&index=39\n",
    "Merge overlapping intervals"
   ]
  },
  {
   "cell_type": "code",
   "execution_count": 13,
   "id": "dacfc2ea",
   "metadata": {
    "execution": {
     "iopub.execute_input": "2024-03-18T03:05:17.977807Z",
     "iopub.status.busy": "2024-03-18T03:05:17.977298Z",
     "iopub.status.idle": "2024-03-18T03:05:17.985657Z",
     "shell.execute_reply": "2024-03-18T03:05:17.984938Z"
    },
    "papermill": {
     "duration": 0.01949,
     "end_time": "2024-03-18T03:05:17.987313",
     "exception": false,
     "start_time": "2024-03-18T03:05:17.967823",
     "status": "completed"
    },
    "tags": []
   },
   "outputs": [
    {
     "data": {
      "text/plain": [
       "[(1, 6), (8, 11), (15, 18)]"
      ]
     },
     "execution_count": 13,
     "metadata": {},
     "output_type": "execute_result"
    }
   ],
   "source": [
    "# Optimal force - O(N log N) + O(N)\n",
    "arr: list[tuple[int, int]] = [(1, 3), (2, 6), (8, 9), (9, 11), (8, 10), (2, 4), (15, 18), (16, 17)]\n",
    "arr.sort(key=lambda x: x[0])\n",
    "result: list[tuple[int, int]] = []\n",
    "for i, j in arr:\n",
    "    while len(result) > 0 and result[-1][1] >= i:\n",
    "        prev = result.pop()\n",
    "        i = min(prev[0], i)\n",
    "        j = max(prev[1], j)\n",
    "    result.append((i, j))\n",
    "\n",
    "result"
   ]
  },
  {
   "cell_type": "markdown",
   "id": "10c671b2",
   "metadata": {
    "papermill": {
     "duration": 0.008964,
     "end_time": "2024-03-18T03:05:18.005321",
     "exception": false,
     "start_time": "2024-03-18T03:05:17.996357",
     "status": "completed"
    },
    "tags": []
   },
   "source": [
    "Video Link: https://www.youtube.com/watch?v=n7uwj04E0I4&list=PLgUwDviBIf0oF6QL8m22w1hIDC1vJ_BHz&index=41\n",
    "Merge two sorted arrays without extra space"
   ]
  },
  {
   "cell_type": "code",
   "execution_count": 14,
   "id": "2fd69784",
   "metadata": {
    "execution": {
     "iopub.execute_input": "2024-03-18T03:05:18.024563Z",
     "iopub.status.busy": "2024-03-18T03:05:18.023871Z",
     "iopub.status.idle": "2024-03-18T03:05:18.032288Z",
     "shell.execute_reply": "2024-03-18T03:05:18.031561Z"
    },
    "papermill": {
     "duration": 0.019808,
     "end_time": "2024-03-18T03:05:18.033988",
     "exception": false,
     "start_time": "2024-03-18T03:05:18.014180",
     "status": "completed"
    },
    "tags": []
   },
   "outputs": [
    {
     "data": {
      "text/plain": [
       "[0, 1, 2, 3, 5, 6, 7, 8, 9]"
      ]
     },
     "execution_count": 14,
     "metadata": {},
     "output_type": "execute_result"
    }
   ],
   "source": [
    "# Brute force, extra O(M) space\n",
    "arr1 = [1, 3, 5, 7]\n",
    "arr2 = [0, 2, 6, 8, 9]\n",
    "N1, N2 = len(arr1), len(arr2)\n",
    "\n",
    "# Allocate extra space\n",
    "for i in range(N2):\n",
    "    arr1.append(None)\n",
    "\n",
    "# Merge arrays\n",
    "i, j, k = N1 - 1, N2 - 1, N1 + N2 - 1\n",
    "while i >= 0 or j >= 0:\n",
    "    if j < 0 or (i >= 0 and arr1[i] >= arr2[j]):\n",
    "        arr1[k] = arr1[i]\n",
    "        k, i = k - 1, i - 1\n",
    "    else:\n",
    "        arr1[k] = arr2[j]\n",
    "        k, j = k - 1, j - 1\n",
    "\n",
    "arr1"
   ]
  },
  {
   "cell_type": "code",
   "execution_count": 15,
   "id": "f72f3592",
   "metadata": {
    "execution": {
     "iopub.execute_input": "2024-03-18T03:05:18.053372Z",
     "iopub.status.busy": "2024-03-18T03:05:18.052818Z",
     "iopub.status.idle": "2024-03-18T03:05:18.060087Z",
     "shell.execute_reply": "2024-03-18T03:05:18.059325Z"
    },
    "papermill": {
     "duration": 0.018638,
     "end_time": "2024-03-18T03:05:18.061718",
     "exception": false,
     "start_time": "2024-03-18T03:05:18.043080",
     "status": "completed"
    },
    "tags": []
   },
   "outputs": [
    {
     "data": {
      "text/plain": [
       "[0, 1, 2, 3, 5, 6, 7, 8, 9]"
      ]
     },
     "execution_count": 15,
     "metadata": {},
     "output_type": "execute_result"
    }
   ],
   "source": [
    "# Optimal 1\n",
    "arr1 = [1, 3, 5, 7]\n",
    "arr2 = [0, 2, 6, 8, 9]\n",
    "N1, N2 = len(arr1), len(arr2)\n",
    "\n",
    "# Merge arrays\n",
    "i, j = N1 - 1, 0\n",
    "while arr1[i] > arr2[j]:\n",
    "    arr1[i], arr2[j] = arr2[j], arr1[i]\n",
    "    i, j = i - 1, j + 1\n",
    "\n",
    "arr1.sort()\n",
    "arr2.sort()\n",
    "arr1 + arr2"
   ]
  },
  {
   "cell_type": "code",
   "execution_count": 16,
   "id": "f567f80c",
   "metadata": {
    "execution": {
     "iopub.execute_input": "2024-03-18T03:05:18.081563Z",
     "iopub.status.busy": "2024-03-18T03:05:18.080940Z",
     "iopub.status.idle": "2024-03-18T03:05:18.091264Z",
     "shell.execute_reply": "2024-03-18T03:05:18.090528Z"
    },
    "papermill": {
     "duration": 0.021838,
     "end_time": "2024-03-18T03:05:18.092890",
     "exception": false,
     "start_time": "2024-03-18T03:05:18.071052",
     "status": "completed"
    },
    "tags": []
   },
   "outputs": [
    {
     "data": {
      "text/plain": [
       "[0, 1, 2, 3, 5, 6, 7, 8, 9, 10]"
      ]
     },
     "execution_count": 16,
     "metadata": {},
     "output_type": "execute_result"
    }
   ],
   "source": [
    "# Optimal 2, shell sort\n",
    "arr1 = [1, 3, 5, 7, 10]\n",
    "arr2 = [0, 2, 6, 8, 9]\n",
    "N1, N2 = len(arr1), len(arr2)\n",
    "\n",
    "gap = math.ceil((N1 + N2) / 2)\n",
    "while gap > 0:\n",
    "    left, right = 0, gap\n",
    "    while right < N1 + N2:\n",
    "        # arr1, arr2\n",
    "        if left < N1 and right >= N1:\n",
    "            l, r = left, right - N1\n",
    "            a1, a2 = arr1, arr2\n",
    "        # arr1, arr1\n",
    "        elif right < N1:\n",
    "            l, r = left, right\n",
    "            a1, a2 = arr1, arr1\n",
    "        # arr2, arr2\n",
    "        else:\n",
    "            l, r = left - N1, right - N1\n",
    "            a1, a2 = arr2, arr2\n",
    "\n",
    "        if a1[l] > a2[r]:\n",
    "            a1[l], a2[r] = a2[r], a1[l]\n",
    "        left, right = left + 1, right + 1\n",
    "\n",
    "    if gap == 1:\n",
    "        break\n",
    "    gap = math.ceil(gap / 2)\n",
    "\n",
    "arr1 + arr2"
   ]
  },
  {
   "cell_type": "markdown",
   "id": "520fb0ad",
   "metadata": {
    "papermill": {
     "duration": 0.009222,
     "end_time": "2024-03-18T03:05:18.111689",
     "exception": false,
     "start_time": "2024-03-18T03:05:18.102467",
     "status": "completed"
    },
    "tags": []
   },
   "source": [
    "Video Link: https://www.youtube.com/watch?v=2D0D8HE6uak&list=PLgUwDviBIf0oF6QL8m22w1hIDC1vJ_BHz&index=41\n",
    "Find the missing the repeating number"
   ]
  },
  {
   "cell_type": "code",
   "execution_count": 17,
   "id": "0e488ecb",
   "metadata": {
    "execution": {
     "iopub.execute_input": "2024-03-18T03:05:18.131132Z",
     "iopub.status.busy": "2024-03-18T03:05:18.130895Z",
     "iopub.status.idle": "2024-03-18T03:05:18.137857Z",
     "shell.execute_reply": "2024-03-18T03:05:18.137076Z"
    },
    "papermill": {
     "duration": 0.01856,
     "end_time": "2024-03-18T03:05:18.139502",
     "exception": false,
     "start_time": "2024-03-18T03:05:18.120942",
     "status": "completed"
    },
    "tags": []
   },
   "outputs": [
    {
     "data": {
      "text/plain": [
       "(1, 5.0)"
      ]
     },
     "execution_count": 17,
     "metadata": {},
     "output_type": "execute_result"
    }
   ],
   "source": [
    "# Brute Force, Space - O(n), Time - O(1)\n",
    "arr = [4, 3, 6, 2, 1, 1]\n",
    "N = len(arr)\n",
    "\n",
    "set_: set[int] = set()\n",
    "sum_ = 0\n",
    "for i in arr:\n",
    "    if i not in set_:\n",
    "        sum_ += i\n",
    "        set_.add(i)\n",
    "    else:\n",
    "        j = i\n",
    "\n",
    "# Repeat, Missing\n",
    "j, ((N * (N + 1)) / 2) - sum_"
   ]
  },
  {
   "cell_type": "markdown",
   "id": "9fcff761",
   "metadata": {
    "papermill": {
     "duration": 0.009489,
     "end_time": "2024-03-18T03:05:18.158442",
     "exception": false,
     "start_time": "2024-03-18T03:05:18.148953",
     "status": "completed"
    },
    "tags": []
   },
   "source": [
    "Mathematical approach:\n",
    "```\n",
    "  First Equation:\n",
    "  sum_of_array_elements - sum_of_N_natural_numbers = repeat - missing\n",
    "\n",
    "  Second Equation:\n",
    "  sum_of_squares_of_array_elements - sum_of_squares_of_N_Natural_numbers = (repeat^2 - missing^2)\n",
    "  => (repeat - missing)(repeat + missing)\n",
    "\n",
    "  => repeat = ((eq2 / eq1) + eq1) / 2\n",
    "  => missing = repeat - eq1\n",
    "```"
   ]
  },
  {
   "cell_type": "code",
   "execution_count": 18,
   "id": "79447097",
   "metadata": {
    "execution": {
     "iopub.execute_input": "2024-03-18T03:05:18.178577Z",
     "iopub.status.busy": "2024-03-18T03:05:18.177985Z",
     "iopub.status.idle": "2024-03-18T03:05:18.185674Z",
     "shell.execute_reply": "2024-03-18T03:05:18.184989Z"
    },
    "papermill": {
     "duration": 0.019544,
     "end_time": "2024-03-18T03:05:18.187395",
     "exception": false,
     "start_time": "2024-03-18T03:05:18.167851",
     "status": "completed"
    },
    "tags": []
   },
   "outputs": [
    {
     "data": {
      "text/plain": [
       "(1.0, 5.0)"
      ]
     },
     "execution_count": 18,
     "metadata": {},
     "output_type": "execute_result"
    }
   ],
   "source": [
    "# Optimal - 1\n",
    "arr = [4, 3, 6, 2, 1, 1]\n",
    "N = len(arr)\n",
    "\n",
    "expected_sum, expected_sum_of_squares = 0, 0\n",
    "for i in range(1, N + 1):\n",
    "    expected_sum += i\n",
    "    expected_sum_of_squares += i * i\n",
    "\n",
    "sum_, sum_of_squares = 0, 0\n",
    "for i in arr:\n",
    "    sum_ += i\n",
    "    sum_of_squares += i * i\n",
    "\n",
    "eq1 = sum_ - expected_sum\n",
    "eq2 = sum_of_squares - expected_sum_of_squares\n",
    "\n",
    "repeat = ((eq2 / eq1) + eq1) / 2\n",
    "repeat, repeat - eq1"
   ]
  },
  {
   "cell_type": "markdown",
   "id": "558572e0",
   "metadata": {
    "papermill": {
     "duration": 0.009465,
     "end_time": "2024-03-18T03:05:18.206565",
     "exception": false,
     "start_time": "2024-03-18T03:05:18.197100",
     "status": "completed"
    },
    "tags": []
   },
   "source": [
    "XOR method\n",
    "1. XOR all nums and xor with numbers from 1 to N, result = repeat ^ missing\n",
    "2. Find right most differentiating bit from prev result\n",
    "3. Iterate through 1 to N and all elements in arr, XORing them and group them based on the differenting bit\n",
    "4. Since the repeat, missing comes up odd number of times - one of the group result would be repeat and the other missing\n",
    "5. Iterate through array and verify which is which"
   ]
  },
  {
   "cell_type": "code",
   "execution_count": 19,
   "id": "3e5b861f",
   "metadata": {
    "execution": {
     "iopub.execute_input": "2024-03-18T03:05:18.227170Z",
     "iopub.status.busy": "2024-03-18T03:05:18.226573Z",
     "iopub.status.idle": "2024-03-18T03:05:18.237033Z",
     "shell.execute_reply": "2024-03-18T03:05:18.236349Z"
    },
    "papermill": {
     "duration": 0.022456,
     "end_time": "2024-03-18T03:05:18.238677",
     "exception": false,
     "start_time": "2024-03-18T03:05:18.216221",
     "status": "completed"
    },
    "tags": []
   },
   "outputs": [
    {
     "data": {
      "text/plain": [
       "(1, 5)"
      ]
     },
     "execution_count": 19,
     "metadata": {},
     "output_type": "execute_result"
    }
   ],
   "source": [
    "arr = [4, 3, 6, 2, 1, 1]\n",
    "N = len(arr)\n",
    "\n",
    "xr = 0\n",
    "for i in arr:\n",
    "    xr ^= i\n",
    "for i in range(1, N + 1):\n",
    "    xr ^= i\n",
    "\n",
    "# This can be replaced by using the left shift / right shift operators\n",
    "xr_bin = bin(xr)[2:]\n",
    "diff_bit_pos = len(xr_bin) - xr_bin.rfind('1')\n",
    "\n",
    "diff_bit_0, diff_bit_1 = 0, 0\n",
    "for i in arr:\n",
    "    curr = bin(i)\n",
    "    if len(curr) < diff_bit_pos or curr[-diff_bit_pos] == '0':\n",
    "        diff_bit_0 ^= i\n",
    "    else:\n",
    "        diff_bit_1 ^= i\n",
    "for i in range(1, N + 1):\n",
    "    curr = bin(i)\n",
    "    if len(curr) < diff_bit_pos or curr[-diff_bit_pos] == '0':\n",
    "        diff_bit_0 ^= i\n",
    "    else:\n",
    "        diff_bit_1 ^= i\n",
    "\n",
    "for i in arr:\n",
    "    if i == diff_bit_0:\n",
    "        missing = diff_bit_1\n",
    "        repeat = diff_bit_0\n",
    "        break\n",
    "    elif i == diff_bit_1:\n",
    "        missing = diff_bit_0\n",
    "        repeat = diff_bit_1\n",
    "        break\n",
    "\n",
    "repeat, missing"
   ]
  },
  {
   "cell_type": "markdown",
   "id": "56ac4d0b",
   "metadata": {
    "papermill": {
     "duration": 0.009508,
     "end_time": "2024-03-18T03:05:18.257824",
     "exception": false,
     "start_time": "2024-03-18T03:05:18.248316",
     "status": "completed"
    },
    "tags": []
   },
   "source": [
    "Video Link: https://www.youtube.com/watch?v=AseUmwVNaoY&list=PLgUwDviBIf0oF6QL8m22w1hIDC1vJ_BHz&index=42\n",
    "Count Inversions in an array"
   ]
  },
  {
   "cell_type": "code",
   "execution_count": 20,
   "id": "7a103651",
   "metadata": {
    "execution": {
     "iopub.execute_input": "2024-03-18T03:05:18.278263Z",
     "iopub.status.busy": "2024-03-18T03:05:18.277734Z",
     "iopub.status.idle": "2024-03-18T03:05:18.283991Z",
     "shell.execute_reply": "2024-03-18T03:05:18.283227Z"
    },
    "papermill": {
     "duration": 0.018171,
     "end_time": "2024-03-18T03:05:18.285603",
     "exception": false,
     "start_time": "2024-03-18T03:05:18.267432",
     "status": "completed"
    },
    "tags": []
   },
   "outputs": [
    {
     "data": {
      "text/plain": [
       "8"
      ]
     },
     "execution_count": 20,
     "metadata": {},
     "output_type": "execute_result"
    }
   ],
   "source": [
    "# Brute force, Time - O(N^2), Space - O(1)\n",
    "arr = [5, 3, 2, 4, 1]\n",
    "N = len(arr)\n",
    "\n",
    "count = 0\n",
    "for i in range(N - 1):\n",
    "    for j in range(i, N):\n",
    "        if arr[i] > arr[j]:\n",
    "            count += 1\n",
    "\n",
    "count"
   ]
  },
  {
   "cell_type": "code",
   "execution_count": 21,
   "id": "a56fd8e3",
   "metadata": {
    "execution": {
     "iopub.execute_input": "2024-03-18T03:05:18.306609Z",
     "iopub.status.busy": "2024-03-18T03:05:18.306018Z",
     "iopub.status.idle": "2024-03-18T03:05:18.316248Z",
     "shell.execute_reply": "2024-03-18T03:05:18.315638Z"
    },
    "papermill": {
     "duration": 0.022485,
     "end_time": "2024-03-18T03:05:18.317958",
     "exception": false,
     "start_time": "2024-03-18T03:05:18.295473",
     "status": "completed"
    },
    "tags": []
   },
   "outputs": [],
   "source": [
    "# Optimal, Time - O(N Log N), Space - O(N)\n",
    "def countInversionPairs(arr: list[int]) -> int:\n",
    "    \"\"\"\n",
    "    1. Sort the array using merge sort\n",
    "    2. While merging, count the inversion pairs using O(m + n) algorithm\n",
    "    \"\"\"\n",
    "\n",
    "    def mergeSort_(low: int, high: int) -> int:\n",
    "        if low >= high:\n",
    "            return 0\n",
    "        else:\n",
    "            mid = (low + high + 1) // 2\n",
    "            left_count = mergeSort_(low, mid - 1)\n",
    "            right_count = mergeSort_(mid, high)\n",
    "            temp: list[int] = []\n",
    "            count = 0\n",
    "            i, j = low, mid\n",
    "            while i < mid or j <= high:\n",
    "                if (j > high) or (i < mid and arr[i] <= arr[j]):\n",
    "                    temp.append(arr[i])\n",
    "                    i += 1\n",
    "                else:\n",
    "                    temp.append(arr[j])\n",
    "                    j += 1\n",
    "\n",
    "                    # Each time we add from right, it means that all elements on the left are greater\n",
    "                    # Increase count by len of elements on the left\n",
    "                    count += mid - i\n",
    "\n",
    "            # Copy from temp array to actual array\n",
    "            arr[low: high + 1] = temp\n",
    "\n",
    "            return count + left_count + right_count\n",
    "\n",
    "    count = mergeSort_(0, len(arr) - 1)\n",
    "    return count\n",
    "\n",
    "assert countInversionPairs([5, 3, 2, 4, 1]) == 8\n",
    "assert countInversionPairs([4, 3, 2, 1]) == 6\n",
    "assert countInversionPairs([1, 20, 6, 4, 5]) == 5\n",
    "assert countInversionPairs([15, 28, 11, 20, 14, 7, 14, 2, 15, 4, 22, 19, 17, 1, 26, 6, 20, 2, 6]) == 96"
   ]
  },
  {
   "cell_type": "markdown",
   "id": "58d05c9c",
   "metadata": {
    "papermill": {
     "duration": 0.009895,
     "end_time": "2024-03-18T03:05:18.337942",
     "exception": false,
     "start_time": "2024-03-18T03:05:18.328047",
     "status": "completed"
    },
    "tags": []
   },
   "source": [
    "Video Link: https://www.youtube.com/watch?v=0e4bZaP3MDI&list=PLgUwDviBIf0oF6QL8m22w1hIDC1vJ_BHz&index=43"
   ]
  },
  {
   "cell_type": "code",
   "execution_count": 22,
   "id": "95da4636",
   "metadata": {
    "execution": {
     "iopub.execute_input": "2024-03-18T03:05:18.358880Z",
     "iopub.status.busy": "2024-03-18T03:05:18.358297Z",
     "iopub.status.idle": "2024-03-18T03:05:18.365036Z",
     "shell.execute_reply": "2024-03-18T03:05:18.364374Z"
    },
    "lines_to_next_cell": 1,
    "papermill": {
     "duration": 0.018975,
     "end_time": "2024-03-18T03:05:18.366715",
     "exception": false,
     "start_time": "2024-03-18T03:05:18.347740",
     "status": "completed"
    },
    "tags": []
   },
   "outputs": [
    {
     "data": {
      "text/plain": [
       "15"
      ]
     },
     "execution_count": 22,
     "metadata": {},
     "output_type": "execute_result"
    }
   ],
   "source": [
    "# Brute force, Time - O(N^2), Space - O(1)\n",
    "arr = [40, 25, 19, 12, 9, 6, 2]\n",
    "N = len(arr)\n",
    "\n",
    "count = 0\n",
    "for i in range(N):\n",
    "    for j in range(i + 1, N):\n",
    "        if arr[i] > 2 * arr[j]:\n",
    "            count += 1\n",
    "\n",
    "count"
   ]
  },
  {
   "cell_type": "code",
   "execution_count": 23,
   "id": "90b8bcd9",
   "metadata": {
    "execution": {
     "iopub.execute_input": "2024-03-18T03:05:18.388059Z",
     "iopub.status.busy": "2024-03-18T03:05:18.387824Z",
     "iopub.status.idle": "2024-03-18T03:05:18.398770Z",
     "shell.execute_reply": "2024-03-18T03:05:18.397996Z"
    },
    "papermill": {
     "duration": 0.023472,
     "end_time": "2024-03-18T03:05:18.400396",
     "exception": false,
     "start_time": "2024-03-18T03:05:18.376924",
     "status": "completed"
    },
    "tags": []
   },
   "outputs": [
    {
     "data": {
      "text/plain": [
       "15"
      ]
     },
     "execution_count": 23,
     "metadata": {},
     "output_type": "execute_result"
    }
   ],
   "source": [
    "# Optimal, Time - O(N log N)\n",
    "def countReversePairs(arr: list[int]) -> int:\n",
    "    def merge_sort_(low: int, high: int) -> int:\n",
    "        if low >= high:\n",
    "            return 0\n",
    "        else:\n",
    "            mid = (low + high + 1) // 2\n",
    "            left_count = merge_sort_(low, mid - 1)\n",
    "            right_count = merge_sort_(mid, high)\n",
    "            count = 0\n",
    "\n",
    "            # Merge the arrays into a temp array\n",
    "            temp: list[int] = []\n",
    "            i, j = low, mid\n",
    "            k = low # keep track of idx on left starting with arr[k] > 2 * arr[j]\n",
    "            while i < mid or j <= high:\n",
    "                if j > high or (i < mid and arr[i] <= arr[j]):\n",
    "                   temp.append(arr[i])\n",
    "                   i += 1\n",
    "                else:\n",
    "                    temp.append(arr[j])\n",
    "                    j += 1\n",
    "\n",
    "                    # Count the pairs\n",
    "                    while k < mid and arr[k] <= 2 * arr[j - 1]:\n",
    "                        k += 1\n",
    "\n",
    "                    count += mid - k\n",
    "\n",
    "            # Copy elements from temp into arr\n",
    "            arr[low: high + 1] = temp\n",
    "\n",
    "            return left_count + right_count + count\n",
    "\n",
    "    count = merge_sort_(0, len(arr) - 1)\n",
    "    return count\n",
    "\n",
    "countReversePairs([40, 25, 19, 12, 9, 6, 2])"
   ]
  },
  {
   "cell_type": "markdown",
   "id": "1cdfb391",
   "metadata": {
    "papermill": {
     "duration": 0.010017,
     "end_time": "2024-03-18T03:05:18.420712",
     "exception": false,
     "start_time": "2024-03-18T03:05:18.410695",
     "status": "completed"
    },
    "tags": []
   },
   "source": [
    "Video Link: https://www.youtube.com/watch?v=hnswaLJvr6g&list=PLgUwDviBIf0oF6QL8m22w1hIDC1vJ_BHz&index=45\n",
    "Maximum product subarray"
   ]
  },
  {
   "cell_type": "code",
   "execution_count": 24,
   "id": "fbf22ac2",
   "metadata": {
    "execution": {
     "iopub.execute_input": "2024-03-18T03:05:18.442586Z",
     "iopub.status.busy": "2024-03-18T03:05:18.442055Z",
     "iopub.status.idle": "2024-03-18T03:05:18.448759Z",
     "shell.execute_reply": "2024-03-18T03:05:18.447979Z"
    },
    "lines_to_next_cell": 1,
    "papermill": {
     "duration": 0.019468,
     "end_time": "2024-03-18T03:05:18.450512",
     "exception": false,
     "start_time": "2024-03-18T03:05:18.431044",
     "status": "completed"
    },
    "tags": []
   },
   "outputs": [
    {
     "data": {
      "text/plain": [
       "6"
      ]
     },
     "execution_count": 24,
     "metadata": {},
     "output_type": "execute_result"
    }
   ],
   "source": [
    "# Brute force, Time - O(N^2), Space - O(1)\n",
    "arr = [2, 3, -2, 4]\n",
    "N = len(arr)\n",
    "\n",
    "max_ = -math.inf\n",
    "for i in range(N):\n",
    "    prod = 1\n",
    "    for j in range(i, N):\n",
    "        prod *= arr[j]\n",
    "        if prod > max_:\n",
    "            max_ = prod\n",
    "\n",
    "max_"
   ]
  },
  {
   "cell_type": "code",
   "execution_count": 25,
   "id": "114f1f9b",
   "metadata": {
    "execution": {
     "iopub.execute_input": "2024-03-18T03:05:18.472696Z",
     "iopub.status.busy": "2024-03-18T03:05:18.472183Z",
     "iopub.status.idle": "2024-03-18T03:05:18.480185Z",
     "shell.execute_reply": "2024-03-18T03:05:18.479423Z"
    },
    "papermill": {
     "duration": 0.020879,
     "end_time": "2024-03-18T03:05:18.481858",
     "exception": false,
     "start_time": "2024-03-18T03:05:18.460979",
     "status": "completed"
    },
    "tags": []
   },
   "outputs": [
    {
     "data": {
      "text/plain": [
       "6"
      ]
     },
     "execution_count": 25,
     "metadata": {},
     "output_type": "execute_result"
    }
   ],
   "source": [
    "# Optimal\n",
    "# When all +ve is simply prod of all nums\n",
    "# When array contains negatives, result would need to exclude a single negative (either product of prefix or suffix)\n",
    "# When array contains 0, we treat it as a demarcation point\n",
    "class Solution:\n",
    "    def maxProduct(self, nums: list[int]) -> int:\n",
    "        N = len(nums)\n",
    "\n",
    "        prefix, suffix, max_ = 1, 1, -math.inf\n",
    "        for i in range(N):\n",
    "            j = N - i - 1\n",
    "\n",
    "            prefix *= nums[i]\n",
    "            suffix *= nums[j]\n",
    "\n",
    "            max_ = max(max_, prefix, suffix)\n",
    "\n",
    "            if prefix == 0:\n",
    "                prefix = 1\n",
    "\n",
    "            if suffix == 0:\n",
    "                suffix = 1\n",
    "\n",
    "        return int(max_)\n",
    "\n",
    "Solution().maxProduct([2, 3, -2, 0, 4])"
   ]
  }
 ],
 "metadata": {
  "kernelspec": {
   "display_name": "Python 3 (ipykernel)",
   "language": "python",
   "name": "python3"
  },
  "language_info": {
   "codemirror_mode": {
    "name": "ipython",
    "version": 3
   },
   "file_extension": ".py",
   "mimetype": "text/x-python",
   "name": "python",
   "nbconvert_exporter": "python",
   "pygments_lexer": "ipython3",
   "version": "3.10.13"
  },
  "papermill": {
   "default_parameters": {},
   "duration": 2.212012,
   "end_time": "2024-03-18T03:05:18.608928",
   "environment_variables": {},
   "exception": null,
   "input_path": "study/striver-A2Z/08-hard-arrays.ipynb",
   "output_path": "study/striver-A2Z/08-hard-arrays.ipynb",
   "parameters": {},
   "start_time": "2024-03-18T03:05:16.396916",
   "version": "2.5.0"
  }
 },
 "nbformat": 4,
 "nbformat_minor": 5
}