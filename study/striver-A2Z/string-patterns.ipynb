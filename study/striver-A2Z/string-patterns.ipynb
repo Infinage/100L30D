{
 "cells": [
  {
   "cell_type": "markdown",
   "id": "d50974a9",
   "metadata": {
    "papermill": {
     "duration": 0.004463,
     "end_time": "2024-02-26T10:07:32.144353",
     "exception": false,
     "start_time": "2024-02-26T10:07:32.139890",
     "status": "completed"
    },
    "tags": []
   },
   "source": [
    "Video link: https://www.youtube.com/watch?v=tNm_NNSB3_w&list=PLgUwDviBIf0oF6QL8m22w1hIDC1vJ_BHz&index=4"
   ]
  },
  {
   "cell_type": "code",
   "execution_count": 1,
   "id": "5c29f379",
   "metadata": {
    "execution": {
     "iopub.execute_input": "2024-02-26T10:07:32.329057Z",
     "iopub.status.busy": "2024-02-26T10:07:32.328508Z",
     "iopub.status.idle": "2024-02-26T10:07:32.337395Z",
     "shell.execute_reply": "2024-02-26T10:07:32.336228Z"
    },
    "papermill": {
     "duration": 0.035264,
     "end_time": "2024-02-26T10:07:32.338911",
     "exception": false,
     "start_time": "2024-02-26T10:07:32.303647",
     "status": "completed"
    },
    "tags": []
   },
   "outputs": [
    {
     "name": "stdout",
     "output_type": "stream",
     "text": [
      "* * * * * * * \n",
      "* * * * * * * \n",
      "* * * * * * * \n",
      "* * * * * * * \n",
      "* * * * * * * \n",
      "* * * * * * * \n",
      "* * * * * * * \n"
     ]
    }
   ],
   "source": [
    "# Pattern - 1\n",
    "N = 7\n",
    "for i in range(N):\n",
    "    for j in range(N):\n",
    "        print (\"*\", end=\" \")\n",
    "    print()"
   ]
  },
  {
   "cell_type": "code",
   "execution_count": 2,
   "id": "73698c67",
   "metadata": {
    "execution": {
     "iopub.execute_input": "2024-02-26T10:07:32.402281Z",
     "iopub.status.busy": "2024-02-26T10:07:32.402058Z",
     "iopub.status.idle": "2024-02-26T10:07:32.406833Z",
     "shell.execute_reply": "2024-02-26T10:07:32.405977Z"
    },
    "papermill": {
     "duration": 0.011301,
     "end_time": "2024-02-26T10:07:32.408586",
     "exception": false,
     "start_time": "2024-02-26T10:07:32.397285",
     "status": "completed"
    },
    "tags": []
   },
   "outputs": [
    {
     "name": "stdout",
     "output_type": "stream",
     "text": [
      "* \n",
      "* * \n",
      "* * * \n",
      "* * * * \n",
      "* * * * * \n",
      "* * * * * * \n",
      "* * * * * * * \n"
     ]
    }
   ],
   "source": [
    "# Pattern - 2\n",
    "N = 7\n",
    "for i in range(N):\n",
    "    for j in range(i + 1):\n",
    "        print (\"*\", end=\" \")\n",
    "    print()"
   ]
  },
  {
   "cell_type": "code",
   "execution_count": 3,
   "id": "7ea9a66d",
   "metadata": {
    "execution": {
     "iopub.execute_input": "2024-02-26T10:07:32.416678Z",
     "iopub.status.busy": "2024-02-26T10:07:32.415964Z",
     "iopub.status.idle": "2024-02-26T10:07:32.420304Z",
     "shell.execute_reply": "2024-02-26T10:07:32.419455Z"
    },
    "papermill": {
     "duration": 0.010261,
     "end_time": "2024-02-26T10:07:32.421808",
     "exception": false,
     "start_time": "2024-02-26T10:07:32.411547",
     "status": "completed"
    },
    "tags": []
   },
   "outputs": [
    {
     "name": "stdout",
     "output_type": "stream",
     "text": [
      "1 \n",
      "1 2 \n",
      "1 2 3 \n",
      "1 2 3 4 \n",
      "1 2 3 4 5 \n",
      "1 2 3 4 5 6 \n",
      "1 2 3 4 5 6 7 \n"
     ]
    }
   ],
   "source": [
    "# Pattern - 3\n",
    "N = 7\n",
    "for i in range(N):\n",
    "    for j in range(1, i + 2):\n",
    "        print (j, end=\" \")\n",
    "    print()"
   ]
  },
  {
   "cell_type": "code",
   "execution_count": 4,
   "id": "3d16bd53",
   "metadata": {
    "execution": {
     "iopub.execute_input": "2024-02-26T10:07:32.429489Z",
     "iopub.status.busy": "2024-02-26T10:07:32.429263Z",
     "iopub.status.idle": "2024-02-26T10:07:32.434254Z",
     "shell.execute_reply": "2024-02-26T10:07:32.433401Z"
    },
    "papermill": {
     "duration": 0.011701,
     "end_time": "2024-02-26T10:07:32.436290",
     "exception": false,
     "start_time": "2024-02-26T10:07:32.424589",
     "status": "completed"
    },
    "tags": []
   },
   "outputs": [
    {
     "name": "stdout",
     "output_type": "stream",
     "text": [
      "1 \n",
      "2 2 \n",
      "3 3 3 \n",
      "4 4 4 4 \n",
      "5 5 5 5 5 \n",
      "6 6 6 6 6 6 \n",
      "7 7 7 7 7 7 7 \n"
     ]
    }
   ],
   "source": [
    "# Pattern - 4\n",
    "N = 7\n",
    "for i in range(1, N + 1):\n",
    "    for j in range(1, i + 1):\n",
    "        print(i, end=\" \")\n",
    "    print()"
   ]
  },
  {
   "cell_type": "code",
   "execution_count": 5,
   "id": "cdb9bcd3",
   "metadata": {
    "execution": {
     "iopub.execute_input": "2024-02-26T10:07:32.443766Z",
     "iopub.status.busy": "2024-02-26T10:07:32.443541Z",
     "iopub.status.idle": "2024-02-26T10:07:32.448597Z",
     "shell.execute_reply": "2024-02-26T10:07:32.447577Z"
    },
    "papermill": {
     "duration": 0.011026,
     "end_time": "2024-02-26T10:07:32.450195",
     "exception": false,
     "start_time": "2024-02-26T10:07:32.439169",
     "status": "completed"
    },
    "tags": []
   },
   "outputs": [
    {
     "name": "stdout",
     "output_type": "stream",
     "text": [
      "* * * * * * * \n",
      "* * * * * * \n",
      "* * * * * \n",
      "* * * * \n",
      "* * * \n",
      "* * \n",
      "* \n"
     ]
    }
   ],
   "source": [
    "# Pattern - 5\n",
    "N = 7\n",
    "for i in range(N):\n",
    "    for j in range(N - i):\n",
    "        print (\"*\", end=\" \")\n",
    "    print()"
   ]
  },
  {
   "cell_type": "code",
   "execution_count": 6,
   "id": "6c3168cd",
   "metadata": {
    "execution": {
     "iopub.execute_input": "2024-02-26T10:07:32.458246Z",
     "iopub.status.busy": "2024-02-26T10:07:32.457438Z",
     "iopub.status.idle": "2024-02-26T10:07:32.462706Z",
     "shell.execute_reply": "2024-02-26T10:07:32.461838Z"
    },
    "papermill": {
     "duration": 0.011125,
     "end_time": "2024-02-26T10:07:32.464214",
     "exception": false,
     "start_time": "2024-02-26T10:07:32.453089",
     "status": "completed"
    },
    "tags": []
   },
   "outputs": [
    {
     "name": "stdout",
     "output_type": "stream",
     "text": [
      "1 2 3 4 5 6 7 \n",
      "1 2 3 4 5 6 \n",
      "1 2 3 4 5 \n",
      "1 2 3 4 \n",
      "1 2 3 \n",
      "1 2 \n",
      "1 \n"
     ]
    }
   ],
   "source": [
    "# Pattern - 6\n",
    "N = 7\n",
    "for i in range(N):\n",
    "    for j in range(1, N - i + 1):\n",
    "        print (j, end=\" \")\n",
    "    print()"
   ]
  },
  {
   "cell_type": "code",
   "execution_count": 7,
   "id": "554c463b",
   "metadata": {
    "execution": {
     "iopub.execute_input": "2024-02-26T10:07:32.471322Z",
     "iopub.status.busy": "2024-02-26T10:07:32.471095Z",
     "iopub.status.idle": "2024-02-26T10:07:32.477000Z",
     "shell.execute_reply": "2024-02-26T10:07:32.476130Z"
    },
    "papermill": {
     "duration": 0.011662,
     "end_time": "2024-02-26T10:07:32.478732",
     "exception": false,
     "start_time": "2024-02-26T10:07:32.467070",
     "status": "completed"
    },
    "tags": []
   },
   "outputs": [
    {
     "name": "stdout",
     "output_type": "stream",
     "text": [
      "      *      \n",
      "     ***     \n",
      "    *****    \n",
      "   *******   \n",
      "  *********  \n",
      " *********** \n",
      "*************\n"
     ]
    }
   ],
   "source": [
    "# Pattern - 7\n",
    "N = 7\n",
    "for i in range(1, N + 1):\n",
    "    for j in range(N - i):\n",
    "        print(\"\", end=\" \")\n",
    "    for j in range((2 * i) - 1):\n",
    "        print(\"*\", end=\"\")\n",
    "    for j in range(N - i):\n",
    "        print(\"\", end=\" \")\n",
    "    print()"
   ]
  },
  {
   "cell_type": "code",
   "execution_count": 8,
   "id": "378ca824",
   "metadata": {
    "execution": {
     "iopub.execute_input": "2024-02-26T10:07:32.487420Z",
     "iopub.status.busy": "2024-02-26T10:07:32.486499Z",
     "iopub.status.idle": "2024-02-26T10:07:32.492773Z",
     "shell.execute_reply": "2024-02-26T10:07:32.491919Z"
    },
    "papermill": {
     "duration": 0.012893,
     "end_time": "2024-02-26T10:07:32.494611",
     "exception": false,
     "start_time": "2024-02-26T10:07:32.481718",
     "status": "completed"
    },
    "tags": []
   },
   "outputs": [
    {
     "name": "stdout",
     "output_type": "stream",
     "text": [
      "*************\n",
      " *********** \n",
      "  *********  \n",
      "   *******   \n",
      "    *****    \n",
      "     ***     \n",
      "      *      \n"
     ]
    }
   ],
   "source": [
    "# Pattern - 8\n",
    "N = 7\n",
    "for i in range(N, 0, -1):\n",
    "    for j in range(N - i):\n",
    "        print(\"\", end=\" \")\n",
    "    for j in range((2 * i) - 1):\n",
    "        print(\"*\", end=\"\")\n",
    "    for j in range(N - i):\n",
    "        print(\"\", end=\" \")\n",
    "    print()"
   ]
  },
  {
   "cell_type": "code",
   "execution_count": 9,
   "id": "df22abe8",
   "metadata": {
    "execution": {
     "iopub.execute_input": "2024-02-26T10:07:32.503287Z",
     "iopub.status.busy": "2024-02-26T10:07:32.502180Z",
     "iopub.status.idle": "2024-02-26T10:07:32.508862Z",
     "shell.execute_reply": "2024-02-26T10:07:32.507999Z"
    },
    "papermill": {
     "duration": 0.012991,
     "end_time": "2024-02-26T10:07:32.510653",
     "exception": false,
     "start_time": "2024-02-26T10:07:32.497662",
     "status": "completed"
    },
    "tags": []
   },
   "outputs": [
    {
     "name": "stdout",
     "output_type": "stream",
     "text": [
      "      *      \n",
      "     ***     \n",
      "    *****    \n",
      "   *******   \n",
      "  *********  \n",
      " *********** \n",
      "*************\n",
      "*************\n",
      " *********** \n",
      "  *********  \n",
      "   *******   \n",
      "    *****    \n",
      "     ***     \n",
      "      *      \n"
     ]
    }
   ],
   "source": [
    "# Pattern - 9\n",
    "N = 7\n",
    "for i in range(1, 2 * N + 1):\n",
    "    if i <= N:\n",
    "        for j in range(N - i):\n",
    "            print (\"\", end=\" \")\n",
    "        for j in range(i * 2 - 1):\n",
    "            print (\"*\", end=\"\")\n",
    "        for j in range(N - i):\n",
    "            print (\"\", end=\" \")\n",
    "    else:\n",
    "        i_ = (2 * N) - i + 1\n",
    "        for j in range(N - i_):\n",
    "            print (\"\", end=\" \")\n",
    "        for j in range(i_ * 2 - 1):\n",
    "            print (\"*\", end=\"\")\n",
    "        for j in range(N - i_):\n",
    "            print (\"\", end=\" \")\n",
    "    print()"
   ]
  },
  {
   "cell_type": "code",
   "execution_count": 10,
   "id": "74011d5f",
   "metadata": {
    "execution": {
     "iopub.execute_input": "2024-02-26T10:07:32.518683Z",
     "iopub.status.busy": "2024-02-26T10:07:32.518461Z",
     "iopub.status.idle": "2024-02-26T10:07:32.523751Z",
     "shell.execute_reply": "2024-02-26T10:07:32.522905Z"
    },
    "papermill": {
     "duration": 0.011752,
     "end_time": "2024-02-26T10:07:32.525687",
     "exception": false,
     "start_time": "2024-02-26T10:07:32.513935",
     "status": "completed"
    },
    "tags": []
   },
   "outputs": [
    {
     "name": "stdout",
     "output_type": "stream",
     "text": [
      "*\n",
      "* *\n",
      "* * *\n",
      "* * * *\n",
      "* * * * *\n",
      "* * * * * *\n",
      "* * * * * * *\n",
      "* * * * * *\n",
      "* * * * *\n",
      "* * * *\n",
      "* * *\n",
      "* *\n",
      "*\n"
     ]
    }
   ],
   "source": [
    "# Pattern - 10\n",
    "N = 7\n",
    "result = []\n",
    "for i in range(1, N + 1):\n",
    "    row = []\n",
    "    for j in range(i):\n",
    "        row.append(\"*\")\n",
    "    result.append(\" \".join(row))\n",
    "result = result + result[-2::-1]\n",
    "print(\"\\n\".join(result))"
   ]
  },
  {
   "cell_type": "code",
   "execution_count": 11,
   "id": "13b266fb",
   "metadata": {
    "execution": {
     "iopub.execute_input": "2024-02-26T10:07:32.533141Z",
     "iopub.status.busy": "2024-02-26T10:07:32.532913Z",
     "iopub.status.idle": "2024-02-26T10:07:32.538103Z",
     "shell.execute_reply": "2024-02-26T10:07:32.537267Z"
    },
    "papermill": {
     "duration": 0.010959,
     "end_time": "2024-02-26T10:07:32.539792",
     "exception": false,
     "start_time": "2024-02-26T10:07:32.528833",
     "status": "completed"
    },
    "tags": []
   },
   "outputs": [
    {
     "name": "stdout",
     "output_type": "stream",
     "text": [
      "1 \n",
      "0 1 \n",
      "1 0 1 \n",
      "0 1 0 1 \n",
      "1 0 1 0 1 \n",
      "0 1 0 1 0 1 \n",
      "1 0 1 0 1 0 1 \n"
     ]
    }
   ],
   "source": [
    "# Pattern - 11\n",
    "N = 7\n",
    "for i in range(1, N + 1):\n",
    "    for j in range(1, i + 1):\n",
    "        if i % 2 == 0:\n",
    "            print (1 if j % 2 == 0 else 0, end=\" \")\n",
    "        else:\n",
    "            print (0 if j % 2 == 0 else 1, end=\" \")\n",
    "    print()"
   ]
  },
  {
   "cell_type": "code",
   "execution_count": 12,
   "id": "e65cda14",
   "metadata": {
    "execution": {
     "iopub.execute_input": "2024-02-26T10:07:32.547419Z",
     "iopub.status.busy": "2024-02-26T10:07:32.547191Z",
     "iopub.status.idle": "2024-02-26T10:07:32.553043Z",
     "shell.execute_reply": "2024-02-26T10:07:32.552187Z"
    },
    "papermill": {
     "duration": 0.011707,
     "end_time": "2024-02-26T10:07:32.554663",
     "exception": false,
     "start_time": "2024-02-26T10:07:32.542956",
     "status": "completed"
    },
    "tags": []
   },
   "outputs": [
    {
     "name": "stdout",
     "output_type": "stream",
     "text": [
      "1            1\n",
      "12          21\n",
      "123        321\n",
      "1234      4321\n",
      "12345    54321\n",
      "123456  654321\n",
      "12345677654321\n"
     ]
    }
   ],
   "source": [
    "# Pattern - 12\n",
    "N = 7\n",
    "for i in range(1, N + 1):\n",
    "    for j in range(1, i + 1):\n",
    "        print (j, end=\"\")\n",
    "    for j in range((N - i) * 2):\n",
    "        print (\"\", end=\" \")\n",
    "    for j in range(i, 0, -1):\n",
    "        print (j, end=\"\")\n",
    "    print()"
   ]
  },
  {
   "cell_type": "code",
   "execution_count": 13,
   "id": "a8369219",
   "metadata": {
    "execution": {
     "iopub.execute_input": "2024-02-26T10:07:32.562143Z",
     "iopub.status.busy": "2024-02-26T10:07:32.561917Z",
     "iopub.status.idle": "2024-02-26T10:07:32.566515Z",
     "shell.execute_reply": "2024-02-26T10:07:32.565657Z"
    },
    "papermill": {
     "duration": 0.010741,
     "end_time": "2024-02-26T10:07:32.568540",
     "exception": false,
     "start_time": "2024-02-26T10:07:32.557799",
     "status": "completed"
    },
    "tags": []
   },
   "outputs": [
    {
     "name": "stdout",
     "output_type": "stream",
     "text": [
      "1 \n",
      "2 3 \n",
      "4 5 6 \n",
      "7 8 9 10 \n",
      "11 12 13 14 15 \n",
      "16 17 18 19 20 21 \n",
      "22 23 24 25 26 27 28 \n"
     ]
    }
   ],
   "source": [
    "# Pattern - 13\n",
    "N = 7\n",
    "rowCount, curr = 1, 1\n",
    "while rowCount <= N:\n",
    "    for i in range(curr, curr + rowCount):\n",
    "        print (i, end=\" \")\n",
    "    print()\n",
    "    rowCount += 1\n",
    "    curr = i + 1"
   ]
  },
  {
   "cell_type": "code",
   "execution_count": 14,
   "id": "0ae579b2",
   "metadata": {
    "execution": {
     "iopub.execute_input": "2024-02-26T10:07:32.577132Z",
     "iopub.status.busy": "2024-02-26T10:07:32.576887Z",
     "iopub.status.idle": "2024-02-26T10:07:32.581752Z",
     "shell.execute_reply": "2024-02-26T10:07:32.580875Z"
    },
    "papermill": {
     "duration": 0.011583,
     "end_time": "2024-02-26T10:07:32.583271",
     "exception": false,
     "start_time": "2024-02-26T10:07:32.571688",
     "status": "completed"
    },
    "tags": []
   },
   "outputs": [
    {
     "name": "stdout",
     "output_type": "stream",
     "text": [
      "A \n",
      "A B \n",
      "A B C \n",
      "A B C D \n",
      "A B C D E \n",
      "A B C D E F \n",
      "A B C D E F G \n"
     ]
    }
   ],
   "source": [
    "# Pattern - 14\n",
    "N = 7\n",
    "for i in range(1, N + 1):\n",
    "    for j in range(ord(\"A\"), ord(\"A\") + i):\n",
    "        print (chr(j), end=\" \")\n",
    "    print()"
   ]
  },
  {
   "cell_type": "code",
   "execution_count": 15,
   "id": "c93c8fe8",
   "metadata": {
    "execution": {
     "iopub.execute_input": "2024-02-26T10:07:32.590816Z",
     "iopub.status.busy": "2024-02-26T10:07:32.590592Z",
     "iopub.status.idle": "2024-02-26T10:07:32.595023Z",
     "shell.execute_reply": "2024-02-26T10:07:32.594157Z"
    },
    "papermill": {
     "duration": 0.010092,
     "end_time": "2024-02-26T10:07:32.596556",
     "exception": false,
     "start_time": "2024-02-26T10:07:32.586464",
     "status": "completed"
    },
    "tags": []
   },
   "outputs": [
    {
     "name": "stdout",
     "output_type": "stream",
     "text": [
      "A B C D E F G \n",
      "A B C D E F \n",
      "A B C D E \n",
      "A B C D \n",
      "A B C \n",
      "A B \n",
      "A \n"
     ]
    }
   ],
   "source": [
    "# Pattern - 15\n",
    "N = 7\n",
    "for i in range(N):\n",
    "    for j in range(N - i):\n",
    "        print(chr(ord(\"A\") + j), end=\" \")\n",
    "    print()"
   ]
  },
  {
   "cell_type": "code",
   "execution_count": 16,
   "id": "f3424ddb",
   "metadata": {
    "execution": {
     "iopub.execute_input": "2024-02-26T10:07:32.604747Z",
     "iopub.status.busy": "2024-02-26T10:07:32.604527Z",
     "iopub.status.idle": "2024-02-26T10:07:32.609330Z",
     "shell.execute_reply": "2024-02-26T10:07:32.608456Z"
    },
    "papermill": {
     "duration": 0.011036,
     "end_time": "2024-02-26T10:07:32.610830",
     "exception": false,
     "start_time": "2024-02-26T10:07:32.599794",
     "status": "completed"
    },
    "tags": []
   },
   "outputs": [
    {
     "name": "stdout",
     "output_type": "stream",
     "text": [
      "A\n",
      "BB\n",
      "CCC\n",
      "DDDD\n",
      "EEEEE\n",
      "FFFFFF\n",
      "GGGGGGG\n"
     ]
    }
   ],
   "source": [
    "# Pattern - 16\n",
    "N = 7\n",
    "for i in range(N):\n",
    "    for j in range(i + 1):\n",
    "        print(chr(ord(\"A\") + i), end=\"\")\n",
    "    print()"
   ]
  },
  {
   "cell_type": "code",
   "execution_count": 17,
   "id": "5c35d73e",
   "metadata": {
    "execution": {
     "iopub.execute_input": "2024-02-26T10:07:32.619785Z",
     "iopub.status.busy": "2024-02-26T10:07:32.619082Z",
     "iopub.status.idle": "2024-02-26T10:07:32.624951Z",
     "shell.execute_reply": "2024-02-26T10:07:32.624048Z"
    },
    "papermill": {
     "duration": 0.012082,
     "end_time": "2024-02-26T10:07:32.626408",
     "exception": false,
     "start_time": "2024-02-26T10:07:32.614326",
     "status": "completed"
    },
    "tags": []
   },
   "outputs": [
    {
     "name": "stdout",
     "output_type": "stream",
     "text": [
      "      A      \n",
      "     ABA     \n",
      "    ABCBA    \n",
      "   ABCDCBA   \n",
      "  ABCDEDCBA  \n",
      " ABCDEFEDCBA \n",
      "ABCDEFGFEDCBA\n"
     ]
    }
   ],
   "source": [
    "# Pattern - 17\n",
    "N = 7\n",
    "for i in range(1, N + 1):\n",
    "    for j in range(N - i):\n",
    "        print (\"\", end=\" \")\n",
    "\n",
    "    curr = 0\n",
    "    for j in range(i * 2 - 1):\n",
    "        print (chr(ord(\"A\") + curr), end=\"\")\n",
    "        if j < i - 1:\n",
    "            curr += 1\n",
    "        else:\n",
    "            curr -= 1\n",
    "\n",
    "    for j in range(N - i):\n",
    "        print (\"\", end=\" \")\n",
    "    print()"
   ]
  },
  {
   "cell_type": "code",
   "execution_count": 18,
   "id": "a59d7343",
   "metadata": {
    "execution": {
     "iopub.execute_input": "2024-02-26T10:07:32.634147Z",
     "iopub.status.busy": "2024-02-26T10:07:32.633922Z",
     "iopub.status.idle": "2024-02-26T10:07:32.638227Z",
     "shell.execute_reply": "2024-02-26T10:07:32.637334Z"
    },
    "papermill": {
     "duration": 0.010074,
     "end_time": "2024-02-26T10:07:32.639746",
     "exception": false,
     "start_time": "2024-02-26T10:07:32.629672",
     "status": "completed"
    },
    "tags": []
   },
   "outputs": [
    {
     "name": "stdout",
     "output_type": "stream",
     "text": [
      "G \n",
      "F G \n",
      "E F G \n",
      "D E F G \n",
      "C D E F G \n",
      "B C D E F G \n",
      "A B C D E F G \n"
     ]
    }
   ],
   "source": [
    "# Pattern - 18\n",
    "N = 7\n",
    "for i in range(N):\n",
    "    for j in range(N - i - 1, N):\n",
    "        print (chr(ord(\"A\") + j), end=\" \")\n",
    "    print()"
   ]
  },
  {
   "cell_type": "code",
   "execution_count": 19,
   "id": "060aa997",
   "metadata": {
    "execution": {
     "iopub.execute_input": "2024-02-26T10:07:32.648901Z",
     "iopub.status.busy": "2024-02-26T10:07:32.648388Z",
     "iopub.status.idle": "2024-02-26T10:07:32.654241Z",
     "shell.execute_reply": "2024-02-26T10:07:32.653319Z"
    },
    "papermill": {
     "duration": 0.012806,
     "end_time": "2024-02-26T10:07:32.655986",
     "exception": false,
     "start_time": "2024-02-26T10:07:32.643180",
     "status": "completed"
    },
    "tags": []
   },
   "outputs": [
    {
     "name": "stdout",
     "output_type": "stream",
     "text": [
      "**************\n",
      "******  ******\n",
      "*****    *****\n",
      "****      ****\n",
      "***        ***\n",
      "**          **\n",
      "*            *\n",
      "*            *\n",
      "**          **\n",
      "***        ***\n",
      "****      ****\n",
      "*****    *****\n",
      "******  ******\n",
      "**************\n"
     ]
    }
   ],
   "source": [
    "# Pattern - 19\n",
    "N = 7\n",
    "for i in range(2 * N):\n",
    "    if i < N:\n",
    "        i_ = i\n",
    "    else:\n",
    "        i_ = (2 * N) - i - 1\n",
    "\n",
    "    for j in range(N - i_):\n",
    "        print(\"*\", end=\"\")\n",
    "    for j in range(i_ * 2):\n",
    "        print(\" \", end=\"\")\n",
    "    for j in range(N - i_):\n",
    "        print(\"*\", end=\"\")\n",
    "    print()"
   ]
  },
  {
   "cell_type": "code",
   "execution_count": 20,
   "id": "ae396acb",
   "metadata": {
    "execution": {
     "iopub.execute_input": "2024-02-26T10:07:32.664173Z",
     "iopub.status.busy": "2024-02-26T10:07:32.663950Z",
     "iopub.status.idle": "2024-02-26T10:07:32.669202Z",
     "shell.execute_reply": "2024-02-26T10:07:32.668325Z"
    },
    "papermill": {
     "duration": 0.011456,
     "end_time": "2024-02-26T10:07:32.670917",
     "exception": false,
     "start_time": "2024-02-26T10:07:32.659461",
     "status": "completed"
    },
    "tags": []
   },
   "outputs": [
    {
     "name": "stdout",
     "output_type": "stream",
     "text": [
      "*            *\n",
      "**          **\n",
      "***        ***\n",
      "****      ****\n",
      "*****    *****\n",
      "******  ******\n",
      "**************\n",
      "******  ******\n",
      "*****    *****\n",
      "****      ****\n",
      "***        ***\n",
      "**          **\n",
      "*            *\n"
     ]
    }
   ],
   "source": [
    "# Pattern - 20\n",
    "N = 7\n",
    "for i in range(1, 2 * N):\n",
    "    if i <= N:\n",
    "        i_ = i\n",
    "    else:\n",
    "        i_ = (2 * N) - i \n",
    "\n",
    "    for j in range(i_):\n",
    "        print(\"*\", end=\"\")\n",
    "    for j in range(2 * (N - i_)):\n",
    "        print (\" \", end=\"\")\n",
    "    for j in range(i_):\n",
    "        print(\"*\", end=\"\")\n",
    "    print()"
   ]
  },
  {
   "cell_type": "code",
   "execution_count": 21,
   "id": "f6cec386",
   "metadata": {
    "execution": {
     "iopub.execute_input": "2024-02-26T10:07:32.679468Z",
     "iopub.status.busy": "2024-02-26T10:07:32.678924Z",
     "iopub.status.idle": "2024-02-26T10:07:32.683816Z",
     "shell.execute_reply": "2024-02-26T10:07:32.682963Z"
    },
    "lines_to_next_cell": 1,
    "papermill": {
     "duration": 0.011516,
     "end_time": "2024-02-26T10:07:32.685791",
     "exception": false,
     "start_time": "2024-02-26T10:07:32.674275",
     "status": "completed"
    },
    "tags": []
   },
   "outputs": [
    {
     "name": "stdout",
     "output_type": "stream",
     "text": [
      "*******\n",
      "*     *\n",
      "*     *\n",
      "*     *\n",
      "*     *\n",
      "*     *\n",
      "*******\n"
     ]
    }
   ],
   "source": [
    "# Pattern - 21\n",
    "N = 7\n",
    "for i in range(N):\n",
    "    if i == 0 or i == N - 1:\n",
    "        for j in range(N):\n",
    "            print (\"*\", end=\"\")\n",
    "    else:\n",
    "        print (\"*\", end=\"\")\n",
    "        for j in range(N - 2):\n",
    "            print(\" \", end=\"\")\n",
    "        print (\"*\", end=\"\")\n",
    "    print()"
   ]
  },
  {
   "cell_type": "code",
   "execution_count": 22,
   "id": "5c65598f",
   "metadata": {
    "execution": {
     "iopub.execute_input": "2024-02-26T10:07:32.693891Z",
     "iopub.status.busy": "2024-02-26T10:07:32.693666Z",
     "iopub.status.idle": "2024-02-26T10:07:32.700968Z",
     "shell.execute_reply": "2024-02-26T10:07:32.700111Z"
    },
    "papermill": {
     "duration": 0.013558,
     "end_time": "2024-02-26T10:07:32.702943",
     "exception": false,
     "start_time": "2024-02-26T10:07:32.689385",
     "status": "completed"
    },
    "tags": []
   },
   "outputs": [
    {
     "name": "stdout",
     "output_type": "stream",
     "text": [
      "7 7 7 7 7 7 7 7 7 7 7 7 7\n",
      "7 6 6 6 6 6 6 6 6 6 6 6 7\n",
      "7 6 5 5 5 5 5 5 5 5 5 6 7\n",
      "7 6 5 4 4 4 4 4 4 4 5 6 7\n",
      "7 6 5 4 3 3 3 3 3 4 5 6 7\n",
      "7 6 5 4 3 2 2 2 3 4 5 6 7\n",
      "7 6 5 4 3 2 1 2 3 4 5 6 7\n",
      "7 6 5 4 3 2 2 2 3 4 5 6 7\n",
      "7 6 5 4 3 3 3 3 3 4 5 6 7\n",
      "7 6 5 4 4 4 4 4 4 4 5 6 7\n",
      "7 6 5 5 5 5 5 5 5 5 5 6 7\n",
      "7 6 6 6 6 6 6 6 6 6 6 6 7\n",
      "7 7 7 7 7 7 7 7 7 7 7 7 7\n",
      "\n"
     ]
    }
   ],
   "source": [
    "# Pattern - 22\n",
    "def pattern22(N: int):\n",
    "    \"\"\"\n",
    "    0 - [[]]\n",
    "    1 - [[1]]\n",
    "    2 - [[2,2,2],[2,1,2],[2,2,2]]\n",
    "    3 - [[3,3,3,3,3],[3,2,2,2,3],[3,2,1,2,3],[3,2,2,2,3],[3,3,3,3,3]]\n",
    "    \"\"\"\n",
    "\n",
    "    def backtrack(n: int) -> list[list[str]]:\n",
    "        if n == 1:\n",
    "            return [['1'.zfill(max_char_length)]]\n",
    "        else:\n",
    "            prev = backtrack(n - 1)\n",
    "            curr, length = str(n).zfill(max_char_length), 2 * n - 1\n",
    "            curr_row = [curr for _ in range(length)]\n",
    "            next_: list[list[str]] = []\n",
    "\n",
    "            next_.append(curr_row)\n",
    "            pad_length = (length - len(prev[0])) // 2\n",
    "            for row in prev:\n",
    "                next_.append([curr for _ in range(pad_length)] + row + [curr for _ in range(pad_length)])\n",
    "            next_.append(curr_row)\n",
    "\n",
    "            return next_\n",
    "\n",
    "    max_char_length = len(str(N))\n",
    "    result = backtrack(N)\n",
    "    for row in result:\n",
    "        print(\" \".join(row))\n",
    "    print()\n",
    "\n",
    "# Testing the function\n",
    "pattern22(7)"
   ]
  }
 ],
 "metadata": {
  "kernelspec": {
   "display_name": "Python 3 (ipykernel)",
   "language": "python",
   "name": "python3"
  },
  "language_info": {
   "codemirror_mode": {
    "name": "ipython",
    "version": 3
   },
   "file_extension": ".py",
   "mimetype": "text/x-python",
   "name": "python",
   "nbconvert_exporter": "python",
   "pygments_lexer": "ipython3",
   "version": "3.10.13"
  },
  "papermill": {
   "default_parameters": {},
   "duration": 1.702755,
   "end_time": "2024-02-26T10:07:32.926524",
   "environment_variables": {},
   "exception": null,
   "input_path": "string-patterns.ipynb",
   "output_path": "string-patterns.ipynb",
   "parameters": {},
   "start_time": "2024-02-26T10:07:31.223769",
   "version": "2.4.0"
  }
 },
 "nbformat": 4,
 "nbformat_minor": 5
}
