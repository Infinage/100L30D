{
 "cells": [
  {
   "cell_type": "code",
   "execution_count": 1,
   "id": "1fbe5a89",
   "metadata": {
    "execution": {
     "iopub.execute_input": "2024-03-08T02:48:57.716095Z",
     "iopub.status.busy": "2024-03-08T02:48:57.715439Z",
     "iopub.status.idle": "2024-03-08T02:48:57.725039Z",
     "shell.execute_reply": "2024-03-08T02:48:57.724308Z"
    },
    "lines_to_next_cell": 1,
    "papermill": {
     "duration": 0.019464,
     "end_time": "2024-03-08T02:48:57.726855",
     "exception": false,
     "start_time": "2024-03-08T02:48:57.707391",
     "status": "completed"
    },
    "tags": []
   },
   "outputs": [],
   "source": [
    "# Neccessary imports\n",
    "import functools\n",
    "import collections\n",
    "import math\n",
    "import random"
   ]
  },
  {
   "cell_type": "markdown",
   "id": "21da8de7",
   "metadata": {
    "papermill": {
     "duration": 0.006161,
     "end_time": "2024-03-08T02:48:57.739539",
     "exception": false,
     "start_time": "2024-03-08T02:48:57.733378",
     "status": "completed"
    },
    "tags": []
   },
   "source": [
    "Video Link: https://www.youtube.com/watch?v=UXDSeD9mN-k&list=PLgUwDviBIf0oF6QL8m22w1hIDC1vJ_BHz&index=22"
   ]
  },
  {
   "cell_type": "code",
   "execution_count": 2,
   "id": "2f902cd9",
   "metadata": {
    "execution": {
     "iopub.execute_input": "2024-03-08T02:48:57.752886Z",
     "iopub.status.busy": "2024-03-08T02:48:57.752648Z",
     "iopub.status.idle": "2024-03-08T02:48:57.763031Z",
     "shell.execute_reply": "2024-03-08T02:48:57.762196Z"
    },
    "lines_to_next_cell": 1,
    "papermill": {
     "duration": 0.018961,
     "end_time": "2024-03-08T02:48:57.764650",
     "exception": false,
     "start_time": "2024-03-08T02:48:57.745689",
     "status": "completed"
    },
    "tags": []
   },
   "outputs": [
    {
     "data": {
      "text/plain": [
       "(1, 3)"
      ]
     },
     "execution_count": 2,
     "metadata": {},
     "output_type": "execute_result"
    }
   ],
   "source": [
    "# Two Sum - Brute Force\n",
    "def two_sum_brute(arr_: list[int], target: int) -> tuple[int, int]:\n",
    "    \"Time complexity - O(N^2)\"\n",
    "    N = len(arr_)\n",
    "    for i in range(N - 1):\n",
    "        for j in range(i + 1, N):\n",
    "            if arr_[i] + arr_[j] == target:\n",
    "                return i, j\n",
    "    else:\n",
    "        return -1, -1\n",
    "\n",
    "two_sum_brute([2, 6, 5, 8, 11], 14)"
   ]
  },
  {
   "cell_type": "code",
   "execution_count": 3,
   "id": "f0629198",
   "metadata": {
    "execution": {
     "iopub.execute_input": "2024-03-08T02:48:57.778570Z",
     "iopub.status.busy": "2024-03-08T02:48:57.778067Z",
     "iopub.status.idle": "2024-03-08T02:48:57.786027Z",
     "shell.execute_reply": "2024-03-08T02:48:57.785298Z"
    },
    "lines_to_next_cell": 1,
    "papermill": {
     "duration": 0.016683,
     "end_time": "2024-03-08T02:48:57.787701",
     "exception": false,
     "start_time": "2024-03-08T02:48:57.771018",
     "status": "completed"
    },
    "tags": []
   },
   "outputs": [
    {
     "data": {
      "text/plain": [
       "(1, 3)"
      ]
     },
     "execution_count": 3,
     "metadata": {},
     "output_type": "execute_result"
    }
   ],
   "source": [
    "# Two sum - better\n",
    "def two_sum_better(arr_: list[int], target: int) -> tuple[int, int]:\n",
    "    \"Time compelexity - O(N), Space - O(N)\"\n",
    "    N = len(arr_)\n",
    "    dict_: dict[int, int] = {}\n",
    "    for i in range(N):\n",
    "        if target - arr_[i] in dict_:\n",
    "            result = i, dict_[target - arr_[i]]\n",
    "            return min(result), max(result)\n",
    "        dict_[arr_[i]] = i\n",
    "    return -1, -1\n",
    "\n",
    "two_sum_better([2, 6, 5, 8, 11], 14)"
   ]
  },
  {
   "cell_type": "code",
   "execution_count": 4,
   "id": "e337b5a1",
   "metadata": {
    "execution": {
     "iopub.execute_input": "2024-03-08T02:48:57.801771Z",
     "iopub.status.busy": "2024-03-08T02:48:57.801188Z",
     "iopub.status.idle": "2024-03-08T02:48:57.808493Z",
     "shell.execute_reply": "2024-03-08T02:48:57.807726Z"
    },
    "papermill": {
     "duration": 0.016055,
     "end_time": "2024-03-08T02:48:57.810144",
     "exception": false,
     "start_time": "2024-03-08T02:48:57.794089",
     "status": "completed"
    },
    "tags": []
   },
   "outputs": [
    {
     "data": {
      "text/plain": [
       "True"
      ]
     },
     "execution_count": 4,
     "metadata": {},
     "output_type": "execute_result"
    }
   ],
   "source": [
    "# Two sum - Optimal\n",
    "def two_sum_optimal(arr_: list[int], target: int) -> bool:\n",
    "    \"Time - O(N log N), Space - O(1)\"\n",
    "    arr_.sort()\n",
    "    N = len(arr_)\n",
    "    i, j = 0, N - 1\n",
    "    while i < j and j < N:\n",
    "        sum_ = arr_[i] + arr_[j]\n",
    "        if sum_ == target:\n",
    "            return True\n",
    "        elif sum_ < target:\n",
    "            i += 1\n",
    "        else:\n",
    "            j -= 1\n",
    "    return False\n",
    "\n",
    "two_sum_optimal([2, 6, 5, 8, 11], 14)"
   ]
  },
  {
   "cell_type": "markdown",
   "id": "5b551970",
   "metadata": {
    "papermill": {
     "duration": 0.006727,
     "end_time": "2024-03-08T02:48:57.823668",
     "exception": false,
     "start_time": "2024-03-08T02:48:57.816941",
     "status": "completed"
    },
    "tags": []
   },
   "source": [
    "Video Link: https://www.youtube.com/watch?v=tp8JIuCXBaU&list=PLgUwDviBIf0oF6QL8m22w1hIDC1vJ_BHz&index=22"
   ]
  },
  {
   "cell_type": "code",
   "execution_count": 5,
   "id": "6a698467",
   "metadata": {
    "execution": {
     "iopub.execute_input": "2024-03-08T02:48:57.838445Z",
     "iopub.status.busy": "2024-03-08T02:48:57.837942Z",
     "iopub.status.idle": "2024-03-08T02:48:57.845330Z",
     "shell.execute_reply": "2024-03-08T02:48:57.844581Z"
    },
    "lines_to_next_cell": 1,
    "papermill": {
     "duration": 0.016504,
     "end_time": "2024-03-08T02:48:57.847015",
     "exception": false,
     "start_time": "2024-03-08T02:48:57.830511",
     "status": "completed"
    },
    "tags": []
   },
   "outputs": [
    {
     "data": {
      "text/plain": [
       "[0, 0, 0, 0, 0, 1, 1, 1, 1, 2, 2, 2]"
      ]
     },
     "execution_count": 5,
     "metadata": {},
     "output_type": "execute_result"
    }
   ],
   "source": [
    "# Sort an array of 0s, 1s, 2s\n",
    "# Time - O(2N) - Better\n",
    "arr = [0, 1, 2, 0, 1, 2, 1, 2, 0, 0, 0, 1]\n",
    "\n",
    "N = len(arr)\n",
    "counter: dict[int, int] = dict()\n",
    "for j in arr:\n",
    "    counter[j] = counter.get(j, 0) + 1\n",
    "\n",
    "i = 0\n",
    "for j in [0, 1, 2]:\n",
    "    while counter[j]:\n",
    "        arr[i] = j\n",
    "        counter[j] -= 1\n",
    "        i += 1\n",
    "\n",
    "arr"
   ]
  },
  {
   "cell_type": "markdown",
   "id": "f50bbaee",
   "metadata": {
    "papermill": {
     "duration": 0.006741,
     "end_time": "2024-03-08T02:48:57.860639",
     "exception": false,
     "start_time": "2024-03-08T02:48:57.853898",
     "status": "completed"
    },
    "tags": []
   },
   "source": [
    "##### Dutch National Flag Algorithm<br>\n",
    "We can perform better than O(2N), by using this algorithm involving 3 pointers.\n",
    "\n",
    "Imagine having a hypothetical array:\n",
    "```\n",
    "      [0, 0, 0, 0, 1, 1, 1, 1, _, _, _, _, _, _, 2, 2, 2]\n",
    "                   L           M                 H\n",
    "\n",
    "L: low, M: mid, H: high\n",
    "```\n",
    "\n",
    "1. 0 - (low - 1): consists of only 0s\n",
    "2. low - (mid - 1): consists of onlys 1s \n",
    "3. mid - high: consists of unsorted numbers\n",
    "4. (high + 1) - (n - 1): consists of only 2s\n",
    "\n",
    "Imagine the provided array is from mid - high, to sort the array we manipulate the pointers"
   ]
  },
  {
   "cell_type": "code",
   "execution_count": 6,
   "id": "5b07cd07",
   "metadata": {
    "execution": {
     "iopub.execute_input": "2024-03-08T02:48:57.875326Z",
     "iopub.status.busy": "2024-03-08T02:48:57.874781Z",
     "iopub.status.idle": "2024-03-08T02:48:57.883351Z",
     "shell.execute_reply": "2024-03-08T02:48:57.882578Z"
    },
    "papermill": {
     "duration": 0.017683,
     "end_time": "2024-03-08T02:48:57.885049",
     "exception": false,
     "start_time": "2024-03-08T02:48:57.867366",
     "status": "completed"
    },
    "tags": []
   },
   "outputs": [
    {
     "data": {
      "text/plain": [
       "[0, 0, 0, 0, 0, 1, 1, 1, 1, 2, 2, 2]"
      ]
     },
     "execution_count": 6,
     "metadata": {},
     "output_type": "execute_result"
    }
   ],
   "source": [
    "# Sort an array of 0s, 1s, 2s\n",
    "# Time - O(N), Dutch National Flag Algorithm - Optimal\n",
    "def DNF(arr_: list[int]) -> None:\n",
    "    N = len(arr_)\n",
    "    low, mid, high = 0, 0, N - 1\n",
    "    while mid <= high:\n",
    "        if arr_[mid] == 0:\n",
    "            # Push it to where low is and inc both low and mid\n",
    "            arr_[low], arr_[mid] = arr_[mid], arr_[low]\n",
    "            low += 1\n",
    "            mid += 1\n",
    "        elif arr_[mid] == 1:\n",
    "            # It is in the right place, simply inc mid\n",
    "            mid += 1\n",
    "        else:\n",
    "            # Push to the right and decrement high, note that mid remains in the same spot\n",
    "            arr_[mid], arr_[high] = arr_[high], arr_[mid]\n",
    "            high -= 1\n",
    "\n",
    "# Testing the algorithm\n",
    "arr = [0, 1, 2, 0, 1, 2, 1, 2, 0, 0, 0, 1]\n",
    "DNF(arr)\n",
    "arr"
   ]
  },
  {
   "cell_type": "code",
   "execution_count": 7,
   "id": "eee184d6",
   "metadata": {
    "execution": {
     "iopub.execute_input": "2024-03-08T02:48:57.900395Z",
     "iopub.status.busy": "2024-03-08T02:48:57.899618Z",
     "iopub.status.idle": "2024-03-08T02:48:57.905739Z",
     "shell.execute_reply": "2024-03-08T02:48:57.905101Z"
    },
    "papermill": {
     "duration": 0.015441,
     "end_time": "2024-03-08T02:48:57.907363",
     "exception": false,
     "start_time": "2024-03-08T02:48:57.891922",
     "status": "completed"
    },
    "tags": []
   },
   "outputs": [
    {
     "name": "stdout",
     "output_type": "stream",
     "text": [
      "2\n"
     ]
    }
   ],
   "source": [
    "# Majority element - Better\n",
    "arr: list[int] = [2, 2, 3, 3, 1, 2, 2]\n",
    "\n",
    "N = len(arr)\n",
    "counter: dict[int, int] = dict()\n",
    "\n",
    "for i in arr:\n",
    "    counter[i] = counter.get(i, 0) + 1\n",
    "    if counter[i] > N // 2:\n",
    "        print (i)\n",
    "        break\n",
    "else:\n",
    "    print (-1)"
   ]
  },
  {
   "cell_type": "markdown",
   "id": "9a783959",
   "metadata": {
    "papermill": {
     "duration": 0.006739,
     "end_time": "2024-03-08T02:48:57.920968",
     "exception": false,
     "start_time": "2024-03-08T02:48:57.914229",
     "status": "completed"
    },
    "tags": []
   },
   "source": [
    "Video Link: https://www.youtube.com/watch?v=vwZj1K0e9U8\n",
    "This can be solved with O(1) space in O(1) time by Moore's voting algorithm\n",
    "\n",
    "##### Moore's algorithm:\n",
    "```\n",
    "Have two variables - curr, count\n",
    "Iterate through array\n",
    "  If i == curr -> inc count else decrement it\n",
    "  If count == 0, curr = i, count = 1\n",
    "```\n",
    "\n",
    "As step 2 validate after iteration if curr is indeed the majority element"
   ]
  },
  {
   "cell_type": "code",
   "execution_count": 8,
   "id": "7d9408ac",
   "metadata": {
    "execution": {
     "iopub.execute_input": "2024-03-08T02:48:57.935970Z",
     "iopub.status.busy": "2024-03-08T02:48:57.935463Z",
     "iopub.status.idle": "2024-03-08T02:48:57.941909Z",
     "shell.execute_reply": "2024-03-08T02:48:57.941137Z"
    },
    "lines_to_next_cell": 1,
    "papermill": {
     "duration": 0.015881,
     "end_time": "2024-03-08T02:48:57.943673",
     "exception": false,
     "start_time": "2024-03-08T02:48:57.927792",
     "status": "completed"
    },
    "tags": []
   },
   "outputs": [
    {
     "name": "stdout",
     "output_type": "stream",
     "text": [
      "2\n"
     ]
    }
   ],
   "source": [
    "arr: list[int] = [2, 2, 3, 3, 1, 2, 2]\n",
    "N = len(arr)\n",
    "\n",
    "# Step 1: Run moore's voting algorithm\n",
    "curr, count = None, 0\n",
    "for i in arr:\n",
    "    if count == 0:\n",
    "        curr = i\n",
    "        count = 1\n",
    "    elif i == curr:\n",
    "        count += 1\n",
    "    else:\n",
    "        count -= 1\n",
    "\n",
    "# Step 2: Validate moore's result\n",
    "if count > 0:\n",
    "    count = 0\n",
    "    for i in arr:\n",
    "        if i == curr:\n",
    "            count += 1\n",
    "    if count > N // 2:\n",
    "        print (curr)\n",
    "    else:\n",
    "        print (-1)\n",
    "else:\n",
    "    print (-1)"
   ]
  },
  {
   "cell_type": "markdown",
   "id": "bd2d6454",
   "metadata": {
    "papermill": {
     "duration": 0.006884,
     "end_time": "2024-03-08T02:48:57.957601",
     "exception": false,
     "start_time": "2024-03-08T02:48:57.950717",
     "status": "completed"
    },
    "tags": []
   },
   "source": [
    "Video Link: https://www.youtube.com/watch?v=AHZpyENo7k4&list=PLgUwDviBIf0oF6QL8m22w1hIDC1vJ_BHz&index=24"
   ]
  },
  {
   "cell_type": "code",
   "execution_count": 9,
   "id": "39a84ac4",
   "metadata": {
    "execution": {
     "iopub.execute_input": "2024-03-08T02:48:57.973252Z",
     "iopub.status.busy": "2024-03-08T02:48:57.973011Z",
     "iopub.status.idle": "2024-03-08T02:48:57.980253Z",
     "shell.execute_reply": "2024-03-08T02:48:57.979485Z"
    },
    "lines_to_next_cell": 1,
    "papermill": {
     "duration": 0.017147,
     "end_time": "2024-03-08T02:48:57.981908",
     "exception": false,
     "start_time": "2024-03-08T02:48:57.964761",
     "status": "completed"
    },
    "tags": []
   },
   "outputs": [
    {
     "data": {
      "text/plain": [
       "7"
      ]
     },
     "execution_count": 9,
     "metadata": {},
     "output_type": "execute_result"
    }
   ],
   "source": [
    "# Maximum subarray sum - Brute Force\n",
    "def max_subarray_sum_brute(arr_: list[int]) -> int:\n",
    "    \"Time - O(N ^ 2), Space - O(1)\"\n",
    "    N = len(arr_)\n",
    "    max_ = -math.inf\n",
    "    for i in range(N):\n",
    "        sum_ = 0\n",
    "        for j in range(i, N):\n",
    "            sum_ += arr[j]\n",
    "            max_ = max(max_, sum_)\n",
    "    return max_\n",
    "\n",
    "arr: list[int] = [-2, -3, 4, -1, -2, 1, 5, -3]\n",
    "max_subarray_sum_brute(arr)"
   ]
  },
  {
   "cell_type": "code",
   "execution_count": 10,
   "id": "67730685",
   "metadata": {
    "execution": {
     "iopub.execute_input": "2024-03-08T02:48:57.997493Z",
     "iopub.status.busy": "2024-03-08T02:48:57.996986Z",
     "iopub.status.idle": "2024-03-08T02:48:58.005392Z",
     "shell.execute_reply": "2024-03-08T02:48:58.004682Z"
    },
    "papermill": {
     "duration": 0.017901,
     "end_time": "2024-03-08T02:48:58.006989",
     "exception": false,
     "start_time": "2024-03-08T02:48:57.989088",
     "status": "completed"
    },
    "tags": []
   },
   "outputs": [
    {
     "data": {
      "text/plain": [
       "(7, 2, 6)"
      ]
     },
     "execution_count": 10,
     "metadata": {},
     "output_type": "execute_result"
    }
   ],
   "source": [
    "# Maximum subarray sum - Optimal\n",
    "def max_subarray_sum_better(arr_: list[int]) -> int:\n",
    "    \"\"\"\n",
    "    Kadane's algorithm: drop sum if sum < 0 else carry it forward\n",
    "    Time - O(N), Space - O(1)\n",
    "    \"\"\"\n",
    "    N = len(arr_)\n",
    "    start_idx = 0\n",
    "\n",
    "    # If empty subarrays allowed else -math.info\n",
    "    # max_sum, start_idx, end_idx\n",
    "    max_ = -math.inf, None, None\n",
    "    sum_ = 0\n",
    "    for i in range(N):\n",
    "        sum_ += arr[i]\n",
    "        if sum_ > max_[0]:\n",
    "            max_ = sum_, start_idx, i\n",
    "        if sum_ < 0: # Every time we chose to drop the sum, reset the start idx\n",
    "            sum_ = 0\n",
    "            start_idx = i + 1\n",
    "    return max_\n",
    "\n",
    "arr: list[int] = [-2, -3, 4, -1, -2, 1, 5, -3]\n",
    "max_subarray_sum_better(arr)"
   ]
  },
  {
   "cell_type": "code",
   "execution_count": 11,
   "id": "26800f05",
   "metadata": {
    "execution": {
     "iopub.execute_input": "2024-03-08T02:48:58.022903Z",
     "iopub.status.busy": "2024-03-08T02:48:58.022228Z",
     "iopub.status.idle": "2024-03-08T02:48:58.025603Z",
     "shell.execute_reply": "2024-03-08T02:48:58.024886Z"
    },
    "papermill": {
     "duration": 0.013226,
     "end_time": "2024-03-08T02:48:58.027478",
     "exception": false,
     "start_time": "2024-03-08T02:48:58.014252",
     "status": "completed"
    },
    "tags": [],
    "title": "[markdowm]"
   },
   "outputs": [],
   "source": [
    "# Video Link: https://youtu.be/excAOvwF_Wk?si=gMRidcVfigxolP0g\n",
    "# Best time to buy and sell stocks"
   ]
  },
  {
   "cell_type": "code",
   "execution_count": 12,
   "id": "d0ab96d2",
   "metadata": {
    "execution": {
     "iopub.execute_input": "2024-03-08T02:48:58.043465Z",
     "iopub.status.busy": "2024-03-08T02:48:58.042792Z",
     "iopub.status.idle": "2024-03-08T02:48:58.049423Z",
     "shell.execute_reply": "2024-03-08T02:48:58.048760Z"
    },
    "papermill": {
     "duration": 0.016293,
     "end_time": "2024-03-08T02:48:58.051048",
     "exception": false,
     "start_time": "2024-03-08T02:48:58.034755",
     "status": "completed"
    },
    "tags": []
   },
   "outputs": [
    {
     "data": {
      "text/plain": [
       "5"
      ]
     },
     "execution_count": 12,
     "metadata": {},
     "output_type": "execute_result"
    }
   ],
   "source": [
    "# Brute force - O(N ^ 2)\n",
    "arr: list[int] = [7, 1, 5, 3, 6, 4]\n",
    "N = len(arr)\n",
    "max_ = -math.inf\n",
    "for i in range(N):\n",
    "    for j in range(i + 1, N):\n",
    "        max_ = max(max_, arr[j] - arr[i])\n",
    "max_"
   ]
  },
  {
   "cell_type": "code",
   "execution_count": 13,
   "id": "41896d89",
   "metadata": {
    "execution": {
     "iopub.execute_input": "2024-03-08T02:48:58.067483Z",
     "iopub.status.busy": "2024-03-08T02:48:58.066941Z",
     "iopub.status.idle": "2024-03-08T02:48:58.073385Z",
     "shell.execute_reply": "2024-03-08T02:48:58.072672Z"
    },
    "papermill": {
     "duration": 0.016419,
     "end_time": "2024-03-08T02:48:58.075040",
     "exception": false,
     "start_time": "2024-03-08T02:48:58.058621",
     "status": "completed"
    },
    "tags": []
   },
   "outputs": [
    {
     "data": {
      "text/plain": [
       "5"
      ]
     },
     "execution_count": 13,
     "metadata": {},
     "output_type": "execute_result"
    }
   ],
   "source": [
    "# Better solution: Time - O(N), Space - O(1)\n",
    "arr: list[int] = [7, 1, 5, 3, 6, 4]\n",
    "N = len(arr)\n",
    "\n",
    "max_ = -math.inf\n",
    "highest_ = arr[N - 1]\n",
    "i = N - 2\n",
    "while i >= 0:\n",
    "    max_ = max(max_, highest_ - arr[i])\n",
    "    highest_ = max(highest_, arr[i])\n",
    "    i -= 1\n",
    "max_"
   ]
  },
  {
   "cell_type": "markdown",
   "id": "3c63de23",
   "metadata": {
    "papermill": {
     "duration": 0.0077,
     "end_time": "2024-03-08T02:48:58.090700",
     "exception": false,
     "start_time": "2024-03-08T02:48:58.083000",
     "status": "completed"
    },
    "tags": []
   },
   "source": [
    "Video Link: https://youtu.be/h4aBagy4Uok?si=kTZx4kZSvEfrdO7o\n",
    "Rearrange elements by sign"
   ]
  },
  {
   "cell_type": "code",
   "execution_count": 14,
   "id": "31f5ec38",
   "metadata": {
    "execution": {
     "iopub.execute_input": "2024-03-08T02:48:58.107444Z",
     "iopub.status.busy": "2024-03-08T02:48:58.106816Z",
     "iopub.status.idle": "2024-03-08T02:48:58.114781Z",
     "shell.execute_reply": "2024-03-08T02:48:58.114112Z"
    },
    "papermill": {
     "duration": 0.018025,
     "end_time": "2024-03-08T02:48:58.116403",
     "exception": false,
     "start_time": "2024-03-08T02:48:58.098378",
     "status": "completed"
    },
    "tags": []
   },
   "outputs": [
    {
     "data": {
      "text/plain": [
       "[3, -2, 1, -5, 2, -4]"
      ]
     },
     "execution_count": 14,
     "metadata": {},
     "output_type": "execute_result"
    }
   ],
   "source": [
    "# Brute force: Time - O(N), Space - O(N)\n",
    "arr: list[int] = [3, 1, -2, -5, 2, -4]\n",
    "N = len(arr)\n",
    "arr1: list[int] = []\n",
    "arr2: list[int] = []\n",
    "for i in range(N):\n",
    "    if arr[i] > 0:\n",
    "        arr1.append(arr[i])\n",
    "    else:\n",
    "        arr2.append(arr[i])\n",
    "\n",
    "i = 0\n",
    "while i < N // 2:\n",
    "    arr[(2 * i)] = arr1[i]\n",
    "    arr[(2 * i) + 1] = arr2[i]\n",
    "    i += 1\n",
    "\n",
    "arr"
   ]
  },
  {
   "cell_type": "code",
   "execution_count": 15,
   "id": "c82df348",
   "metadata": {
    "execution": {
     "iopub.execute_input": "2024-03-08T02:48:58.133434Z",
     "iopub.status.busy": "2024-03-08T02:48:58.132827Z",
     "iopub.status.idle": "2024-03-08T02:48:58.140830Z",
     "shell.execute_reply": "2024-03-08T02:48:58.140154Z"
    },
    "lines_to_next_cell": 1,
    "papermill": {
     "duration": 0.018151,
     "end_time": "2024-03-08T02:48:58.142431",
     "exception": false,
     "start_time": "2024-03-08T02:48:58.124280",
     "status": "completed"
    },
    "tags": []
   },
   "outputs": [
    {
     "data": {
      "text/plain": [
       "[2, -1, 3, -3, 4, 1]"
      ]
     },
     "execution_count": 15,
     "metadata": {},
     "output_type": "execute_result"
    }
   ],
   "source": [
    "# Rearrange elements by sign, where len(+ve) != len(-ve)\n",
    "arr: list[int] = [-1, 2, 3, 4, -3, 1]\n",
    "\n",
    "# O(4N): Got tired :(\n",
    "arr1: list[int] = list(filter(lambda x: x > 0, arr))[::-1]\n",
    "arr2: list[int] = list(filter(lambda x: x < 0, arr))[::-1]\n",
    "\n",
    "i = 0\n",
    "while arr1 or arr2:\n",
    "    if arr1:\n",
    "        arr[i] = arr1.pop()\n",
    "        i += 1\n",
    "    if arr2:\n",
    "        arr[i] = arr2.pop()\n",
    "        i += 1\n",
    "\n",
    "arr"
   ]
  },
  {
   "cell_type": "markdown",
   "id": "319b376d",
   "metadata": {
    "papermill": {
     "duration": 0.008188,
     "end_time": "2024-03-08T02:48:58.158683",
     "exception": false,
     "start_time": "2024-03-08T02:48:58.150495",
     "status": "completed"
    },
    "tags": []
   },
   "source": [
    "Video Link: https://www.youtube.com/watch?v=JDOXKqF60RQ&list=PLgUwDviBIf0oF6QL8m22w1hIDC1vJ_BHz&index=27\n",
    "Next Permutation"
   ]
  },
  {
   "cell_type": "code",
   "execution_count": 16,
   "id": "19358d4f",
   "metadata": {
    "execution": {
     "iopub.execute_input": "2024-03-08T02:48:58.176058Z",
     "iopub.status.busy": "2024-03-08T02:48:58.175459Z",
     "iopub.status.idle": "2024-03-08T02:48:58.184505Z",
     "shell.execute_reply": "2024-03-08T02:48:58.183871Z"
    },
    "lines_to_next_cell": 1,
    "papermill": {
     "duration": 0.019549,
     "end_time": "2024-03-08T02:48:58.186129",
     "exception": false,
     "start_time": "2024-03-08T02:48:58.166580",
     "status": "completed"
    },
    "tags": []
   },
   "outputs": [
    {
     "data": {
      "text/plain": [
       "[1, 3, 2]"
      ]
     },
     "execution_count": 16,
     "metadata": {},
     "output_type": "execute_result"
    }
   ],
   "source": [
    "# Brute Force\n",
    "def generate_perms(arr_: list[int]) -> list[list[int]]:\n",
    "    # Time - O(N!), Space - O(N!)\n",
    "    N = len(arr_)\n",
    "    if N <= 1:\n",
    "        return [arr_]\n",
    "    else:\n",
    "        result: list[list[int]] = []\n",
    "        for i in range(N):\n",
    "            for next_ in generate_perms(arr_[:i] + arr_[i+1:]):\n",
    "                result.append([arr_[i]] + next_)\n",
    "        return result\n",
    "\n",
    "# Testing the solution\n",
    "arr: list[int] = [1, 2, 3]\n",
    "arr1: list[list[int]] = sorted(generate_perms(arr))\n",
    "i = arr1.index(arr)\n",
    "arr1[i + 1] if i < len(arr1) - 1 else arr1[0]"
   ]
  },
  {
   "cell_type": "code",
   "execution_count": 17,
   "id": "97d071df",
   "metadata": {
    "execution": {
     "iopub.execute_input": "2024-03-08T02:48:58.204394Z",
     "iopub.status.busy": "2024-03-08T02:48:58.203709Z",
     "iopub.status.idle": "2024-03-08T02:48:58.214184Z",
     "shell.execute_reply": "2024-03-08T02:48:58.213491Z"
    },
    "papermill": {
     "duration": 0.021368,
     "end_time": "2024-03-08T02:48:58.215882",
     "exception": false,
     "start_time": "2024-03-08T02:48:58.194514",
     "status": "completed"
    },
    "tags": []
   },
   "outputs": [
    {
     "data": {
      "text/plain": [
       "[2, 3, 1, 4, 5]"
      ]
     },
     "execution_count": 17,
     "metadata": {},
     "output_type": "execute_result"
    }
   ],
   "source": [
    "# Better\n",
    "def next_perm(arr_: list[int]) -> list[int]:\n",
    "\n",
    "    def reverse_(start: int, end: int):\n",
    "        while start < end:\n",
    "            arr_[start], arr_[end] = arr_[end], arr_[start]\n",
    "            start += 1\n",
    "            end -= 1\n",
    "\n",
    "    N = len(arr_)\n",
    "    max_ = arr_[N - 1]\n",
    "    i = N - 2\n",
    "    while i >= 0:\n",
    "        if arr_[i] < max_:\n",
    "            # Find minimum element inside slice that is greater than arr_[i]\n",
    "            min_idx = i + 1\n",
    "            for j in range(i + 1, N):\n",
    "                if arr_[j] > arr_[i] and arr_[j] <= arr_[min_idx]:\n",
    "                    min_idx = j\n",
    "            arr_[i], arr_[min_idx] = arr_[min_idx], arr_[i]\n",
    "            reverse_(i + 1, N - 1)\n",
    "            return arr_\n",
    "        else:\n",
    "            max_ = arr_[i]\n",
    "            i -= 1\n",
    "    else:\n",
    "        arr_.reverse()\n",
    "        return arr_\n",
    "\n",
    "# Testing the solution\n",
    "arr: list[int] = [2, 1, 5, 4, 3]\n",
    "next_perm(arr)"
   ]
  },
  {
   "cell_type": "markdown",
   "id": "c61e4105",
   "metadata": {
    "papermill": {
     "duration": 0.008375,
     "end_time": "2024-03-08T02:48:58.232835",
     "exception": false,
     "start_time": "2024-03-08T02:48:58.224460",
     "status": "completed"
    },
    "tags": []
   },
   "source": [
    "Video Link: https://youtu.be/cHrH9CQ8pmY?si=Vl3mYSwTY727JgHV\n",
    "Leaders of an array"
   ]
  },
  {
   "cell_type": "code",
   "execution_count": 18,
   "id": "0416042b",
   "metadata": {
    "execution": {
     "iopub.execute_input": "2024-03-08T02:48:58.250765Z",
     "iopub.status.busy": "2024-03-08T02:48:58.250272Z",
     "iopub.status.idle": "2024-03-08T02:48:58.256806Z",
     "shell.execute_reply": "2024-03-08T02:48:58.256092Z"
    },
    "lines_to_next_cell": 1,
    "papermill": {
     "duration": 0.017349,
     "end_time": "2024-03-08T02:48:58.258486",
     "exception": false,
     "start_time": "2024-03-08T02:48:58.241137",
     "status": "completed"
    },
    "tags": []
   },
   "outputs": [
    {
     "data": {
      "text/plain": [
       "[6, 12, 22]"
      ]
     },
     "execution_count": 18,
     "metadata": {},
     "output_type": "execute_result"
    }
   ],
   "source": [
    "# Time - O(N), Space - O(N)\n",
    "arr = [10, 22, 12, 3, 0, 6]\n",
    "\n",
    "N = len(arr)\n",
    "max_ = arr[N - 1]\n",
    "arr1 = [max_]\n",
    "i = N - 1\n",
    "while i >= 0:\n",
    "    if arr[i] > max_:\n",
    "        arr1.append(arr[i])\n",
    "        max_ = arr[i]\n",
    "    i -= 1\n",
    "\n",
    "arr1"
   ]
  },
  {
   "cell_type": "markdown",
   "id": "c084b1a7",
   "metadata": {
    "lines_to_next_cell": 0,
    "papermill": {
     "duration": 0.008596,
     "end_time": "2024-03-08T02:48:58.275878",
     "exception": false,
     "start_time": "2024-03-08T02:48:58.267282",
     "status": "completed"
    },
    "tags": []
   },
   "source": []
  },
  {
   "cell_type": "code",
   "execution_count": 19,
   "id": "0621b858",
   "metadata": {
    "execution": {
     "iopub.execute_input": "2024-03-08T02:48:58.294336Z",
     "iopub.status.busy": "2024-03-08T02:48:58.294046Z",
     "iopub.status.idle": "2024-03-08T02:48:58.297546Z",
     "shell.execute_reply": "2024-03-08T02:48:58.296816Z"
    },
    "incorrectly_encoded_metadata": "https://www.youtube.com/watch?v=oO5uLE7EUlM&list=PLgUwDviBIf0oF6QL8m22w1hIDC1vJ_BHz&index=29",
    "papermill": {
     "duration": 0.01465,
     "end_time": "2024-03-08T02:48:58.299197",
     "exception": false,
     "start_time": "2024-03-08T02:48:58.284547",
     "status": "completed"
    },
    "tags": [],
    "title": "Video Link:"
   },
   "outputs": [],
   "source": [
    "# Longest Common subsequence"
   ]
  },
  {
   "cell_type": "code",
   "execution_count": 20,
   "id": "49f655a3",
   "metadata": {
    "execution": {
     "iopub.execute_input": "2024-03-08T02:48:58.318049Z",
     "iopub.status.busy": "2024-03-08T02:48:58.317386Z",
     "iopub.status.idle": "2024-03-08T02:48:58.324908Z",
     "shell.execute_reply": "2024-03-08T02:48:58.324292Z"
    },
    "papermill": {
     "duration": 0.01865,
     "end_time": "2024-03-08T02:48:58.326555",
     "exception": false,
     "start_time": "2024-03-08T02:48:58.307905",
     "status": "completed"
    },
    "tags": []
   },
   "outputs": [],
   "source": [
    "class Solution:\n",
    "    def longestConsecutive(self, nums: list[int]) -> int:\n",
    "        counter: dict[int, int] = {n: 1 for n in nums}\n",
    "        for n in nums:\n",
    "            if n in counter:\n",
    "                count = counter[n]\n",
    "                curr = n\n",
    "                while curr + 1 in counter:\n",
    "                    count += counter.pop(curr + 1)\n",
    "                    curr += 1\n",
    "                counter[n] = count\n",
    "\n",
    "        return max(counter.values()) if counter else 0\n",
    "\n",
    "# Testing the solution\n",
    "assert Solution().longestConsecutive([100,4,200,1,3,2]) == 4\n",
    "assert Solution().longestConsecutive([0,3,7,2,5,8,4,6,0,1]) == 9\n",
    "assert Solution().longestConsecutive([1,2,2,3]) == 3\n",
    "assert Solution().longestConsecutive([1,1,1,1,2,2,2,3,3,3,3]) == 3"
   ]
  }
 ],
 "metadata": {
  "kernelspec": {
   "display_name": "Python 3 (ipykernel)",
   "language": "python",
   "name": "python3"
  },
  "language_info": {
   "codemirror_mode": {
    "name": "ipython",
    "version": 3
   },
   "file_extension": ".py",
   "mimetype": "text/x-python",
   "name": "python",
   "nbconvert_exporter": "python",
   "pygments_lexer": "ipython3",
   "version": "3.10.13"
  },
  "papermill": {
   "default_parameters": {},
   "duration": 1.897545,
   "end_time": "2024-03-08T02:48:58.452060",
   "environment_variables": {},
   "exception": null,
   "input_path": "study/striver-A2Z/07-med-arrays.ipynb",
   "output_path": "study/striver-A2Z/07-med-arrays.ipynb",
   "parameters": {},
   "start_time": "2024-03-08T02:48:56.554515",
   "version": "2.4.0"
  }
 },
 "nbformat": 4,
 "nbformat_minor": 5
}