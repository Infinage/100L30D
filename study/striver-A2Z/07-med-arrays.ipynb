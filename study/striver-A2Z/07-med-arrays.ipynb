{
 "cells": [
  {
   "cell_type": "markdown",
   "id": "21da8de7",
   "metadata": {
    "papermill": {
     "duration": 0.016269,
     "end_time": "2024-03-05T16:16:25.465085",
     "exception": false,
     "start_time": "2024-03-05T16:16:25.448816",
     "status": "completed"
    },
    "tags": []
   },
   "source": [
    "Video Link: https://www.youtube.com/watch?v=UXDSeD9mN-k&list=PLgUwDviBIf0oF6QL8m22w1hIDC1vJ_BHz&index=22"
   ]
  },
  {
   "cell_type": "code",
   "execution_count": 1,
   "id": "2f902cd9",
   "metadata": {
    "execution": {
     "iopub.execute_input": "2024-03-05T16:16:25.482444Z",
     "iopub.status.busy": "2024-03-05T16:16:25.481824Z",
     "iopub.status.idle": "2024-03-05T16:16:25.514814Z",
     "shell.execute_reply": "2024-03-05T16:16:25.512995Z"
    },
    "lines_to_next_cell": 1,
    "papermill": {
     "duration": 0.044058,
     "end_time": "2024-03-05T16:16:25.517755",
     "exception": false,
     "start_time": "2024-03-05T16:16:25.473697",
     "status": "completed"
    },
    "tags": []
   },
   "outputs": [
    {
     "data": {
      "text/plain": [
       "(1, 3)"
      ]
     },
     "execution_count": 1,
     "metadata": {},
     "output_type": "execute_result"
    }
   ],
   "source": [
    "# Two Sum - Brute Force\n",
    "def two_sum_brute(arr_: list[int], target: int) -> tuple[int, int]:\n",
    "    \"Time complexity - O(N^2)\"\n",
    "    N = len(arr_)\n",
    "    for i in range(N - 1):\n",
    "        for j in range(i + 1, N):\n",
    "            if arr_[i] + arr_[j] == target:\n",
    "                return i, j\n",
    "    else:\n",
    "        return -1, -1\n",
    "\n",
    "two_sum_brute([2, 6, 5, 8, 11], 14)"
   ]
  },
  {
   "cell_type": "code",
   "execution_count": 2,
   "id": "f0629198",
   "metadata": {
    "execution": {
     "iopub.execute_input": "2024-03-05T16:16:25.526972Z",
     "iopub.status.busy": "2024-03-05T16:16:25.526482Z",
     "iopub.status.idle": "2024-03-05T16:16:25.539947Z",
     "shell.execute_reply": "2024-03-05T16:16:25.538177Z"
    },
    "lines_to_next_cell": 1,
    "papermill": {
     "duration": 0.022545,
     "end_time": "2024-03-05T16:16:25.543677",
     "exception": false,
     "start_time": "2024-03-05T16:16:25.521132",
     "status": "completed"
    },
    "tags": []
   },
   "outputs": [
    {
     "data": {
      "text/plain": [
       "(1, 3)"
      ]
     },
     "execution_count": 2,
     "metadata": {},
     "output_type": "execute_result"
    }
   ],
   "source": [
    "# Two sum - better\n",
    "def two_sum_better(arr_: list[int], target: int) -> tuple[int, int]:\n",
    "    \"Time compelexity - O(N), Space - O(N)\"\n",
    "    N = len(arr_)\n",
    "    dict_: dict[int, int] = {}\n",
    "    for i in range(N):\n",
    "        if target - arr_[i] in dict_:\n",
    "            result = i, dict_[target - arr_[i]]\n",
    "            return min(result), max(result)\n",
    "        dict_[arr_[i]] = i\n",
    "    return -1, -1\n",
    "\n",
    "two_sum_better([2, 6, 5, 8, 11], 14)"
   ]
  },
  {
   "cell_type": "code",
   "execution_count": 3,
   "id": "e337b5a1",
   "metadata": {
    "execution": {
     "iopub.execute_input": "2024-03-05T16:16:25.555882Z",
     "iopub.status.busy": "2024-03-05T16:16:25.555386Z",
     "iopub.status.idle": "2024-03-05T16:16:25.568549Z",
     "shell.execute_reply": "2024-03-05T16:16:25.566598Z"
    },
    "papermill": {
     "duration": 0.02342,
     "end_time": "2024-03-05T16:16:25.571917",
     "exception": false,
     "start_time": "2024-03-05T16:16:25.548497",
     "status": "completed"
    },
    "tags": []
   },
   "outputs": [
    {
     "data": {
      "text/plain": [
       "True"
      ]
     },
     "execution_count": 3,
     "metadata": {},
     "output_type": "execute_result"
    }
   ],
   "source": [
    "# Two sum - Optimal\n",
    "def two_sum_optimal(arr_: list[int], target: int) -> bool:\n",
    "    \"Time - O(N log N), Space - O(1)\"\n",
    "    arr_.sort()\n",
    "    N = len(arr_)\n",
    "    i, j = 0, N - 1\n",
    "    while i < j and j < N:\n",
    "        sum_ = arr_[i] + arr_[j]\n",
    "        if sum_ == target:\n",
    "            return True\n",
    "        elif sum_ < target:\n",
    "            i += 1\n",
    "        else:\n",
    "            j -= 1\n",
    "    return False\n",
    "\n",
    "two_sum_optimal([2, 6, 5, 8, 11], 14)"
   ]
  },
  {
   "cell_type": "markdown",
   "id": "5b551970",
   "metadata": {
    "papermill": {
     "duration": 0.005638,
     "end_time": "2024-03-05T16:16:25.582787",
     "exception": false,
     "start_time": "2024-03-05T16:16:25.577149",
     "status": "completed"
    },
    "tags": []
   },
   "source": [
    "Video Link: https://www.youtube.com/watch?v=tp8JIuCXBaU&list=PLgUwDviBIf0oF6QL8m22w1hIDC1vJ_BHz&index=22"
   ]
  },
  {
   "cell_type": "code",
   "execution_count": 4,
   "id": "6a698467",
   "metadata": {
    "execution": {
     "iopub.execute_input": "2024-03-05T16:16:25.596573Z",
     "iopub.status.busy": "2024-03-05T16:16:25.596079Z",
     "iopub.status.idle": "2024-03-05T16:16:25.610935Z",
     "shell.execute_reply": "2024-03-05T16:16:25.608655Z"
    },
    "lines_to_next_cell": 1,
    "papermill": {
     "duration": 0.026475,
     "end_time": "2024-03-05T16:16:25.614722",
     "exception": false,
     "start_time": "2024-03-05T16:16:25.588247",
     "status": "completed"
    },
    "tags": []
   },
   "outputs": [
    {
     "data": {
      "text/plain": [
       "[0, 0, 0, 0, 0, 1, 1, 1, 1, 2, 2, 2]"
      ]
     },
     "execution_count": 4,
     "metadata": {},
     "output_type": "execute_result"
    }
   ],
   "source": [
    "# Sort an array of 0s, 1s, 2s\n",
    "# Time - O(2N) - Better\n",
    "arr = [0, 1, 2, 0, 1, 2, 1, 2, 0, 0, 0, 1]\n",
    "\n",
    "N = len(arr)\n",
    "counter: dict[int, int] = dict()\n",
    "for j in arr:\n",
    "    counter[j] = counter.get(j, 0) + 1\n",
    "\n",
    "i = 0\n",
    "for j in [0, 1, 2]:\n",
    "    while counter[j]:\n",
    "        arr[i] = j\n",
    "        counter[j] -= 1\n",
    "        i += 1\n",
    "\n",
    "arr"
   ]
  },
  {
   "cell_type": "markdown",
   "id": "f50bbaee",
   "metadata": {
    "papermill": {
     "duration": 0.004876,
     "end_time": "2024-03-05T16:16:25.624902",
     "exception": false,
     "start_time": "2024-03-05T16:16:25.620026",
     "status": "completed"
    },
    "tags": []
   },
   "source": [
    "##### Dutch National Flag Algorithm<br>\n",
    "We can perform better than O(2N), by using this algorithm involving 3 pointers.\n",
    "\n",
    "Imagine having a hypothetical array:\n",
    "```\n",
    "      [0, 0, 0, 0, 1, 1, 1, 1, _, _, _, _, _, _, 2, 2, 2]\n",
    "                   L           M                 H\n",
    "\n",
    "L: low, M: mid, H: high\n",
    "```\n",
    "\n",
    "1. 0 - (low - 1): consists of only 0s\n",
    "2. low - (mid - 1): consists of onlys 1s \n",
    "3. mid - high: consists of unsorted numbers\n",
    "4. (high + 1) - (n - 1): consists of only 2s\n",
    "\n",
    "Imagine the provided array is from mid - high, to sort the array we manipulate the pointers"
   ]
  },
  {
   "cell_type": "code",
   "execution_count": 5,
   "id": "5b07cd07",
   "metadata": {
    "execution": {
     "iopub.execute_input": "2024-03-05T16:16:25.638135Z",
     "iopub.status.busy": "2024-03-05T16:16:25.636690Z",
     "iopub.status.idle": "2024-03-05T16:16:25.655393Z",
     "shell.execute_reply": "2024-03-05T16:16:25.653068Z"
    },
    "papermill": {
     "duration": 0.028379,
     "end_time": "2024-03-05T16:16:25.658300",
     "exception": false,
     "start_time": "2024-03-05T16:16:25.629921",
     "status": "completed"
    },
    "tags": []
   },
   "outputs": [
    {
     "data": {
      "text/plain": [
       "[0, 0, 0, 0, 0, 1, 1, 1, 1, 2, 2, 2]"
      ]
     },
     "execution_count": 5,
     "metadata": {},
     "output_type": "execute_result"
    }
   ],
   "source": [
    "# Sort an array of 0s, 1s, 2s\n",
    "# Time - O(N), Dutch National Flag Algorithm - Optimal\n",
    "def DNF(arr_: list[int]) -> None:\n",
    "    N = len(arr_)\n",
    "    low, mid, high = 0, 0, N - 1\n",
    "    while mid <= high:\n",
    "        if arr_[mid] == 0:\n",
    "            # Push it to where low is and inc both low and mid\n",
    "            arr_[low], arr_[mid] = arr_[mid], arr_[low]\n",
    "            low += 1\n",
    "            mid += 1\n",
    "        elif arr_[mid] == 1:\n",
    "            # It is in the right place, simply inc mid\n",
    "            mid += 1\n",
    "        else:\n",
    "            # Push to the right and decrement high, note that mid remains in the same spot\n",
    "            arr_[mid], arr_[high] = arr_[high], arr_[mid]\n",
    "            high -= 1\n",
    "\n",
    "# Testing the algorithm\n",
    "arr = [0, 1, 2, 0, 1, 2, 1, 2, 0, 0, 0, 1]\n",
    "DNF(arr)\n",
    "arr"
   ]
  },
  {
   "cell_type": "code",
   "execution_count": 6,
   "id": "eee184d6",
   "metadata": {
    "execution": {
     "iopub.execute_input": "2024-03-05T16:16:25.669561Z",
     "iopub.status.busy": "2024-03-05T16:16:25.669067Z",
     "iopub.status.idle": "2024-03-05T16:16:25.680187Z",
     "shell.execute_reply": "2024-03-05T16:16:25.678324Z"
    },
    "papermill": {
     "duration": 0.02185,
     "end_time": "2024-03-05T16:16:25.683699",
     "exception": false,
     "start_time": "2024-03-05T16:16:25.661849",
     "status": "completed"
    },
    "tags": []
   },
   "outputs": [
    {
     "name": "stdout",
     "output_type": "stream",
     "text": [
      "2\n"
     ]
    }
   ],
   "source": [
    "# Majority element - Better\n",
    "arr: list[int] = [2, 2, 3, 3, 1, 2, 2]\n",
    "\n",
    "N = len(arr)\n",
    "counter: dict[int, int] = dict()\n",
    "\n",
    "for i in arr:\n",
    "    counter[i] = counter.get(i, 0) + 1\n",
    "    if counter[i] > N // 2:\n",
    "        print (i)\n",
    "        break\n",
    "else:\n",
    "    print (-1)"
   ]
  },
  {
   "cell_type": "markdown",
   "id": "9a783959",
   "metadata": {
    "papermill": {
     "duration": 0.007509,
     "end_time": "2024-03-05T16:16:25.697201",
     "exception": false,
     "start_time": "2024-03-05T16:16:25.689692",
     "status": "completed"
    },
    "tags": []
   },
   "source": [
    "Video Link: https://www.youtube.com/watch?v=vwZj1K0e9U8\n",
    "This can be solved with O(1) space in O(1) time by Moore's voting algorithm\n",
    "\n",
    "##### Moore's algorithm:\n",
    "```\n",
    "Have two variables - curr, count\n",
    "Iterate through array\n",
    "  If i == curr -> inc count else decrement it\n",
    "  If count == 0, curr = i, count = 1\n",
    "```\n",
    "\n",
    "As step 2 validate after iteration if curr is indeed the majority element"
   ]
  },
  {
   "cell_type": "code",
   "execution_count": 7,
   "id": "7d9408ac",
   "metadata": {
    "execution": {
     "iopub.execute_input": "2024-03-05T16:16:25.712574Z",
     "iopub.status.busy": "2024-03-05T16:16:25.711949Z",
     "iopub.status.idle": "2024-03-05T16:16:25.723039Z",
     "shell.execute_reply": "2024-03-05T16:16:25.721334Z"
    },
    "lines_to_next_cell": 2,
    "papermill": {
     "duration": 0.022731,
     "end_time": "2024-03-05T16:16:25.725774",
     "exception": false,
     "start_time": "2024-03-05T16:16:25.703043",
     "status": "completed"
    },
    "tags": []
   },
   "outputs": [
    {
     "name": "stdout",
     "output_type": "stream",
     "text": [
      "2\n"
     ]
    }
   ],
   "source": [
    "arr: list[int] = [2, 2, 3, 3, 1, 2, 2]\n",
    "N = len(arr)\n",
    "\n",
    "# Step 1: Run moore's voting algorithm\n",
    "curr, count = None, 0\n",
    "for i in arr:\n",
    "    if count == 0:\n",
    "        curr = i\n",
    "        count = 1\n",
    "    elif i == curr:\n",
    "        count += 1\n",
    "    else:\n",
    "        count -= 1\n",
    "\n",
    "# Step 2: Validate moore's result\n",
    "if count > 0:\n",
    "    count = 0\n",
    "    for i in arr:\n",
    "        if i == curr:\n",
    "            count += 1\n",
    "    if count > N // 2:\n",
    "        print (curr)\n",
    "    else:\n",
    "        print (-1)\n",
    "else:\n",
    "    print (-1)"
   ]
  }
 ],
 "metadata": {
  "kernelspec": {
   "display_name": "Python 3 (ipykernel)",
   "language": "python",
   "name": "python3"
  },
  "language_info": {
   "codemirror_mode": {
    "name": "ipython",
    "version": 3
   },
   "file_extension": ".py",
   "mimetype": "text/x-python",
   "name": "python",
   "nbconvert_exporter": "python",
   "pygments_lexer": "ipython3",
   "version": "3.10.13"
  },
  "papermill": {
   "default_parameters": {},
   "duration": 2.327428,
   "end_time": "2024-03-05T16:16:26.159457",
   "environment_variables": {},
   "exception": null,
   "input_path": "study/striver-A2Z/07-med-arrays.ipynb",
   "output_path": "study/striver-A2Z/07-med-arrays.ipynb",
   "parameters": {},
   "start_time": "2024-03-05T16:16:23.832029",
   "version": "2.4.0"
  }
 },
 "nbformat": 4,
 "nbformat_minor": 5
}