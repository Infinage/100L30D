{
 "cells": [
  {
   "cell_type": "code",
   "execution_count": 1,
   "id": "1fbe5a89",
   "metadata": {
    "execution": {
     "iopub.execute_input": "2024-03-10T09:22:51.017872Z",
     "iopub.status.busy": "2024-03-10T09:22:51.017317Z",
     "iopub.status.idle": "2024-03-10T09:22:51.027647Z",
     "shell.execute_reply": "2024-03-10T09:22:51.026881Z"
    },
    "lines_to_next_cell": 1,
    "papermill": {
     "duration": 0.021467,
     "end_time": "2024-03-10T09:22:51.029276",
     "exception": false,
     "start_time": "2024-03-10T09:22:51.007809",
     "status": "completed"
    },
    "tags": []
   },
   "outputs": [],
   "source": [
    "# Neccessary imports\n",
    "import functools\n",
    "import collections\n",
    "import math\n",
    "import random\n",
    "import pdb"
   ]
  },
  {
   "cell_type": "markdown",
   "id": "21da8de7",
   "metadata": {
    "papermill": {
     "duration": 0.007363,
     "end_time": "2024-03-10T09:22:51.044329",
     "exception": false,
     "start_time": "2024-03-10T09:22:51.036966",
     "status": "completed"
    },
    "tags": []
   },
   "source": [
    "Video Link: https://www.youtube.com/watch?v=UXDSeD9mN-k&list=PLgUwDviBIf0oF6QL8m22w1hIDC1vJ_BHz&index=22"
   ]
  },
  {
   "cell_type": "code",
   "execution_count": 2,
   "id": "2f902cd9",
   "metadata": {
    "execution": {
     "iopub.execute_input": "2024-03-10T09:22:51.060537Z",
     "iopub.status.busy": "2024-03-10T09:22:51.059934Z",
     "iopub.status.idle": "2024-03-10T09:22:51.070121Z",
     "shell.execute_reply": "2024-03-10T09:22:51.069472Z"
    },
    "lines_to_next_cell": 1,
    "papermill": {
     "duration": 0.020208,
     "end_time": "2024-03-10T09:22:51.071790",
     "exception": false,
     "start_time": "2024-03-10T09:22:51.051582",
     "status": "completed"
    },
    "tags": []
   },
   "outputs": [
    {
     "data": {
      "text/plain": [
       "(1, 3)"
      ]
     },
     "execution_count": 2,
     "metadata": {},
     "output_type": "execute_result"
    }
   ],
   "source": [
    "# Two Sum - Brute Force\n",
    "def two_sum_brute(arr_: list[int], target: int) -> tuple[int, int]:\n",
    "    \"Time complexity - O(N^2)\"\n",
    "    N = len(arr_)\n",
    "    for i in range(N - 1):\n",
    "        for j in range(i + 1, N):\n",
    "            if arr_[i] + arr_[j] == target:\n",
    "                return i, j\n",
    "    else:\n",
    "        return -1, -1\n",
    "\n",
    "two_sum_brute([2, 6, 5, 8, 11], 14)"
   ]
  },
  {
   "cell_type": "code",
   "execution_count": 3,
   "id": "f0629198",
   "metadata": {
    "execution": {
     "iopub.execute_input": "2024-03-10T09:22:51.087889Z",
     "iopub.status.busy": "2024-03-10T09:22:51.087638Z",
     "iopub.status.idle": "2024-03-10T09:22:51.095359Z",
     "shell.execute_reply": "2024-03-10T09:22:51.094535Z"
    },
    "lines_to_next_cell": 1,
    "papermill": {
     "duration": 0.017652,
     "end_time": "2024-03-10T09:22:51.096966",
     "exception": false,
     "start_time": "2024-03-10T09:22:51.079314",
     "status": "completed"
    },
    "tags": []
   },
   "outputs": [
    {
     "data": {
      "text/plain": [
       "(1, 3)"
      ]
     },
     "execution_count": 3,
     "metadata": {},
     "output_type": "execute_result"
    }
   ],
   "source": [
    "# Two sum - better\n",
    "def two_sum_better(arr_: list[int], target: int) -> tuple[int, int]:\n",
    "    \"Time compelexity - O(N), Space - O(N)\"\n",
    "    N = len(arr_)\n",
    "    dict_: dict[int, int] = {}\n",
    "    for i in range(N):\n",
    "        if target - arr_[i] in dict_:\n",
    "            result = i, dict_[target - arr_[i]]\n",
    "            return min(result), max(result)\n",
    "        dict_[arr_[i]] = i\n",
    "    return -1, -1\n",
    "\n",
    "two_sum_better([2, 6, 5, 8, 11], 14)"
   ]
  },
  {
   "cell_type": "code",
   "execution_count": 4,
   "id": "e337b5a1",
   "metadata": {
    "execution": {
     "iopub.execute_input": "2024-03-10T09:22:51.113511Z",
     "iopub.status.busy": "2024-03-10T09:22:51.112967Z",
     "iopub.status.idle": "2024-03-10T09:22:51.120442Z",
     "shell.execute_reply": "2024-03-10T09:22:51.119674Z"
    },
    "papermill": {
     "duration": 0.017504,
     "end_time": "2024-03-10T09:22:51.122008",
     "exception": false,
     "start_time": "2024-03-10T09:22:51.104504",
     "status": "completed"
    },
    "tags": []
   },
   "outputs": [
    {
     "data": {
      "text/plain": [
       "True"
      ]
     },
     "execution_count": 4,
     "metadata": {},
     "output_type": "execute_result"
    }
   ],
   "source": [
    "# Two sum - Optimal\n",
    "def two_sum_optimal(arr_: list[int], target: int) -> bool:\n",
    "    \"Time - O(N log N), Space - O(1)\"\n",
    "    arr_.sort()\n",
    "    N = len(arr_)\n",
    "    i, j = 0, N - 1\n",
    "    while i < j and j < N:\n",
    "        sum_ = arr_[i] + arr_[j]\n",
    "        if sum_ == target:\n",
    "            return True\n",
    "        elif sum_ < target:\n",
    "            i += 1\n",
    "        else:\n",
    "            j -= 1\n",
    "    return False\n",
    "\n",
    "two_sum_optimal([2, 6, 5, 8, 11], 14)"
   ]
  },
  {
   "cell_type": "markdown",
   "id": "5b551970",
   "metadata": {
    "papermill": {
     "duration": 0.007655,
     "end_time": "2024-03-10T09:22:51.137628",
     "exception": false,
     "start_time": "2024-03-10T09:22:51.129973",
     "status": "completed"
    },
    "tags": []
   },
   "source": [
    "Video Link: https://www.youtube.com/watch?v=tp8JIuCXBaU&list=PLgUwDviBIf0oF6QL8m22w1hIDC1vJ_BHz&index=22"
   ]
  },
  {
   "cell_type": "code",
   "execution_count": 5,
   "id": "6a698467",
   "metadata": {
    "execution": {
     "iopub.execute_input": "2024-03-10T09:22:51.154764Z",
     "iopub.status.busy": "2024-03-10T09:22:51.154015Z",
     "iopub.status.idle": "2024-03-10T09:22:51.162157Z",
     "shell.execute_reply": "2024-03-10T09:22:51.161500Z"
    },
    "lines_to_next_cell": 1,
    "papermill": {
     "duration": 0.01844,
     "end_time": "2024-03-10T09:22:51.163826",
     "exception": false,
     "start_time": "2024-03-10T09:22:51.145386",
     "status": "completed"
    },
    "tags": []
   },
   "outputs": [
    {
     "data": {
      "text/plain": [
       "[0, 0, 0, 0, 0, 1, 1, 1, 1, 2, 2, 2]"
      ]
     },
     "execution_count": 5,
     "metadata": {},
     "output_type": "execute_result"
    }
   ],
   "source": [
    "# Sort an array of 0s, 1s, 2s\n",
    "# Time - O(2N) - Better\n",
    "arr = [0, 1, 2, 0, 1, 2, 1, 2, 0, 0, 0, 1]\n",
    "\n",
    "N = len(arr)\n",
    "counter: dict[int, int] = dict()\n",
    "for j in arr:\n",
    "    counter[j] = counter.get(j, 0) + 1\n",
    "\n",
    "i = 0\n",
    "for j in [0, 1, 2]:\n",
    "    while counter[j]:\n",
    "        arr[i] = j\n",
    "        counter[j] -= 1\n",
    "        i += 1\n",
    "\n",
    "arr"
   ]
  },
  {
   "cell_type": "markdown",
   "id": "f50bbaee",
   "metadata": {
    "papermill": {
     "duration": 0.00772,
     "end_time": "2024-03-10T09:22:51.179365",
     "exception": false,
     "start_time": "2024-03-10T09:22:51.171645",
     "status": "completed"
    },
    "tags": []
   },
   "source": [
    "##### Dutch National Flag Algorithm<br>\n",
    "We can perform better than O(2N), by using this algorithm involving 3 pointers.\n",
    "\n",
    "Imagine having a hypothetical array:\n",
    "```\n",
    "      [0, 0, 0, 0, 1, 1, 1, 1, _, _, _, _, _, _, 2, 2, 2]\n",
    "                   L           M                 H\n",
    "\n",
    "L: low, M: mid, H: high\n",
    "```\n",
    "\n",
    "1. 0 - (low - 1): consists of only 0s\n",
    "2. low - (mid - 1): consists of onlys 1s \n",
    "3. mid - high: consists of unsorted numbers\n",
    "4. (high + 1) - (n - 1): consists of only 2s\n",
    "\n",
    "Imagine the provided array is from mid - high, to sort the array we manipulate the pointers"
   ]
  },
  {
   "cell_type": "code",
   "execution_count": 6,
   "id": "5b07cd07",
   "metadata": {
    "execution": {
     "iopub.execute_input": "2024-03-10T09:22:51.196440Z",
     "iopub.status.busy": "2024-03-10T09:22:51.195793Z",
     "iopub.status.idle": "2024-03-10T09:22:51.204669Z",
     "shell.execute_reply": "2024-03-10T09:22:51.203938Z"
    },
    "papermill": {
     "duration": 0.019223,
     "end_time": "2024-03-10T09:22:51.206314",
     "exception": false,
     "start_time": "2024-03-10T09:22:51.187091",
     "status": "completed"
    },
    "tags": []
   },
   "outputs": [
    {
     "data": {
      "text/plain": [
       "[0, 0, 0, 0, 0, 1, 1, 1, 1, 2, 2, 2]"
      ]
     },
     "execution_count": 6,
     "metadata": {},
     "output_type": "execute_result"
    }
   ],
   "source": [
    "# Sort an array of 0s, 1s, 2s\n",
    "# Time - O(N), Dutch National Flag Algorithm - Optimal\n",
    "def DNF(arr_: list[int]) -> None:\n",
    "    N = len(arr_)\n",
    "    low, mid, high = 0, 0, N - 1\n",
    "    while mid <= high:\n",
    "        if arr_[mid] == 0:\n",
    "            # Push it to where low is and inc both low and mid\n",
    "            arr_[low], arr_[mid] = arr_[mid], arr_[low]\n",
    "            low += 1\n",
    "            mid += 1\n",
    "        elif arr_[mid] == 1:\n",
    "            # It is in the right place, simply inc mid\n",
    "            mid += 1\n",
    "        else:\n",
    "            # Push to the right and decrement high, note that mid remains in the same spot\n",
    "            arr_[mid], arr_[high] = arr_[high], arr_[mid]\n",
    "            high -= 1\n",
    "\n",
    "# Testing the algorithm\n",
    "arr = [0, 1, 2, 0, 1, 2, 1, 2, 0, 0, 0, 1]\n",
    "DNF(arr)\n",
    "arr"
   ]
  },
  {
   "cell_type": "code",
   "execution_count": 7,
   "id": "eee184d6",
   "metadata": {
    "execution": {
     "iopub.execute_input": "2024-03-10T09:22:51.223855Z",
     "iopub.status.busy": "2024-03-10T09:22:51.223127Z",
     "iopub.status.idle": "2024-03-10T09:22:51.229301Z",
     "shell.execute_reply": "2024-03-10T09:22:51.228626Z"
    },
    "papermill": {
     "duration": 0.01661,
     "end_time": "2024-03-10T09:22:51.230913",
     "exception": false,
     "start_time": "2024-03-10T09:22:51.214303",
     "status": "completed"
    },
    "tags": []
   },
   "outputs": [
    {
     "name": "stdout",
     "output_type": "stream",
     "text": [
      "2\n"
     ]
    }
   ],
   "source": [
    "# Majority element - Better\n",
    "arr: list[int] = [2, 2, 3, 3, 1, 2, 2]\n",
    "\n",
    "N = len(arr)\n",
    "counter: dict[int, int] = dict()\n",
    "\n",
    "for i in arr:\n",
    "    counter[i] = counter.get(i, 0) + 1\n",
    "    if counter[i] > N // 2:\n",
    "        print (i)\n",
    "        break\n",
    "else:\n",
    "    print (-1)"
   ]
  },
  {
   "cell_type": "markdown",
   "id": "9a783959",
   "metadata": {
    "papermill": {
     "duration": 0.008216,
     "end_time": "2024-03-10T09:22:51.247121",
     "exception": false,
     "start_time": "2024-03-10T09:22:51.238905",
     "status": "completed"
    },
    "tags": []
   },
   "source": [
    "Video Link: https://www.youtube.com/watch?v=vwZj1K0e9U8\n",
    "This can be solved with O(1) space in O(1) time by Moore's voting algorithm\n",
    "\n",
    "##### Moore's algorithm:\n",
    "```\n",
    "Have two variables - curr, count\n",
    "Iterate through array\n",
    "  If i == curr -> inc count else decrement it\n",
    "  If count == 0, curr = i, count = 1\n",
    "```\n",
    "\n",
    "As step 2 validate after iteration if curr is indeed the majority element"
   ]
  },
  {
   "cell_type": "code",
   "execution_count": 8,
   "id": "7d9408ac",
   "metadata": {
    "execution": {
     "iopub.execute_input": "2024-03-10T09:22:51.264889Z",
     "iopub.status.busy": "2024-03-10T09:22:51.264195Z",
     "iopub.status.idle": "2024-03-10T09:22:51.271047Z",
     "shell.execute_reply": "2024-03-10T09:22:51.270250Z"
    },
    "lines_to_next_cell": 1,
    "papermill": {
     "duration": 0.017525,
     "end_time": "2024-03-10T09:22:51.272737",
     "exception": false,
     "start_time": "2024-03-10T09:22:51.255212",
     "status": "completed"
    },
    "tags": []
   },
   "outputs": [
    {
     "name": "stdout",
     "output_type": "stream",
     "text": [
      "2\n"
     ]
    }
   ],
   "source": [
    "arr: list[int] = [2, 2, 3, 3, 1, 2, 2]\n",
    "N = len(arr)\n",
    "\n",
    "# Step 1: Run moore's voting algorithm\n",
    "curr, count = None, 0\n",
    "for i in arr:\n",
    "    if count == 0:\n",
    "        curr = i\n",
    "        count = 1\n",
    "    elif i == curr:\n",
    "        count += 1\n",
    "    else:\n",
    "        count -= 1\n",
    "\n",
    "# Step 2: Validate moore's result\n",
    "if count > 0:\n",
    "    count = 0\n",
    "    for i in arr:\n",
    "        if i == curr:\n",
    "            count += 1\n",
    "    if count > N // 2:\n",
    "        print (curr)\n",
    "    else:\n",
    "        print (-1)\n",
    "else:\n",
    "    print (-1)"
   ]
  },
  {
   "cell_type": "markdown",
   "id": "bd2d6454",
   "metadata": {
    "papermill": {
     "duration": 0.008079,
     "end_time": "2024-03-10T09:22:51.289058",
     "exception": false,
     "start_time": "2024-03-10T09:22:51.280979",
     "status": "completed"
    },
    "tags": []
   },
   "source": [
    "Video Link: https://www.youtube.com/watch?v=AHZpyENo7k4&list=PLgUwDviBIf0oF6QL8m22w1hIDC1vJ_BHz&index=24"
   ]
  },
  {
   "cell_type": "code",
   "execution_count": 9,
   "id": "39a84ac4",
   "metadata": {
    "execution": {
     "iopub.execute_input": "2024-03-10T09:22:51.306895Z",
     "iopub.status.busy": "2024-03-10T09:22:51.306301Z",
     "iopub.status.idle": "2024-03-10T09:22:51.313594Z",
     "shell.execute_reply": "2024-03-10T09:22:51.312863Z"
    },
    "lines_to_next_cell": 1,
    "papermill": {
     "duration": 0.018004,
     "end_time": "2024-03-10T09:22:51.315218",
     "exception": false,
     "start_time": "2024-03-10T09:22:51.297214",
     "status": "completed"
    },
    "tags": []
   },
   "outputs": [
    {
     "data": {
      "text/plain": [
       "7"
      ]
     },
     "execution_count": 9,
     "metadata": {},
     "output_type": "execute_result"
    }
   ],
   "source": [
    "# Maximum subarray sum - Brute Force\n",
    "def max_subarray_sum_brute(arr_: list[int]) -> int:\n",
    "    \"Time - O(N ^ 2), Space - O(1)\"\n",
    "    N = len(arr_)\n",
    "    max_ = -math.inf\n",
    "    for i in range(N):\n",
    "        sum_ = 0\n",
    "        for j in range(i, N):\n",
    "            sum_ += arr[j]\n",
    "            max_ = max(max_, sum_)\n",
    "    return max_\n",
    "\n",
    "arr: list[int] = [-2, -3, 4, -1, -2, 1, 5, -3]\n",
    "max_subarray_sum_brute(arr)"
   ]
  },
  {
   "cell_type": "code",
   "execution_count": 10,
   "id": "67730685",
   "metadata": {
    "execution": {
     "iopub.execute_input": "2024-03-10T09:22:51.334741Z",
     "iopub.status.busy": "2024-03-10T09:22:51.334134Z",
     "iopub.status.idle": "2024-03-10T09:22:51.342293Z",
     "shell.execute_reply": "2024-03-10T09:22:51.341566Z"
    },
    "papermill": {
     "duration": 0.02017,
     "end_time": "2024-03-10T09:22:51.343891",
     "exception": false,
     "start_time": "2024-03-10T09:22:51.323721",
     "status": "completed"
    },
    "tags": []
   },
   "outputs": [
    {
     "data": {
      "text/plain": [
       "(7, 2, 6)"
      ]
     },
     "execution_count": 10,
     "metadata": {},
     "output_type": "execute_result"
    }
   ],
   "source": [
    "# Maximum subarray sum - Optimal\n",
    "def max_subarray_sum_better(arr_: list[int]) -> int:\n",
    "    \"\"\"\n",
    "    Kadane's algorithm: drop sum if sum < 0 else carry it forward\n",
    "    Time - O(N), Space - O(1)\n",
    "    \"\"\"\n",
    "    N = len(arr_)\n",
    "    start_idx = 0\n",
    "\n",
    "    # If empty subarrays allowed else -math.info\n",
    "    # max_sum, start_idx, end_idx\n",
    "    max_ = -math.inf, None, None\n",
    "    sum_ = 0\n",
    "    for i in range(N):\n",
    "        sum_ += arr[i]\n",
    "        if sum_ > max_[0]:\n",
    "            max_ = sum_, start_idx, i\n",
    "        if sum_ < 0: # Every time we chose to drop the sum, reset the start idx\n",
    "            sum_ = 0\n",
    "            start_idx = i + 1\n",
    "    return max_\n",
    "\n",
    "arr: list[int] = [-2, -3, 4, -1, -2, 1, 5, -3]\n",
    "max_subarray_sum_better(arr)"
   ]
  },
  {
   "cell_type": "code",
   "execution_count": 11,
   "id": "26800f05",
   "metadata": {
    "execution": {
     "iopub.execute_input": "2024-03-10T09:22:51.363357Z",
     "iopub.status.busy": "2024-03-10T09:22:51.362688Z",
     "iopub.status.idle": "2024-03-10T09:22:51.366104Z",
     "shell.execute_reply": "2024-03-10T09:22:51.365377Z"
    },
    "papermill": {
     "duration": 0.014255,
     "end_time": "2024-03-10T09:22:51.367731",
     "exception": false,
     "start_time": "2024-03-10T09:22:51.353476",
     "status": "completed"
    },
    "tags": [],
    "title": "[markdowm]"
   },
   "outputs": [],
   "source": [
    "# Video Link: https://youtu.be/excAOvwF_Wk?si=gMRidcVfigxolP0g\n",
    "# Best time to buy and sell stocks"
   ]
  },
  {
   "cell_type": "code",
   "execution_count": 12,
   "id": "d0ab96d2",
   "metadata": {
    "execution": {
     "iopub.execute_input": "2024-03-10T09:22:51.387025Z",
     "iopub.status.busy": "2024-03-10T09:22:51.386486Z",
     "iopub.status.idle": "2024-03-10T09:22:51.392783Z",
     "shell.execute_reply": "2024-03-10T09:22:51.392067Z"
    },
    "papermill": {
     "duration": 0.017147,
     "end_time": "2024-03-10T09:22:51.394424",
     "exception": false,
     "start_time": "2024-03-10T09:22:51.377277",
     "status": "completed"
    },
    "tags": []
   },
   "outputs": [
    {
     "data": {
      "text/plain": [
       "5"
      ]
     },
     "execution_count": 12,
     "metadata": {},
     "output_type": "execute_result"
    }
   ],
   "source": [
    "# Brute force - O(N ^ 2)\n",
    "arr: list[int] = [7, 1, 5, 3, 6, 4]\n",
    "N = len(arr)\n",
    "max_ = -math.inf\n",
    "for i in range(N):\n",
    "    for j in range(i + 1, N):\n",
    "        max_ = max(max_, arr[j] - arr[i])\n",
    "max_"
   ]
  },
  {
   "cell_type": "code",
   "execution_count": 13,
   "id": "41896d89",
   "metadata": {
    "execution": {
     "iopub.execute_input": "2024-03-10T09:22:51.414570Z",
     "iopub.status.busy": "2024-03-10T09:22:51.413973Z",
     "iopub.status.idle": "2024-03-10T09:22:51.420460Z",
     "shell.execute_reply": "2024-03-10T09:22:51.419743Z"
    },
    "papermill": {
     "duration": 0.017426,
     "end_time": "2024-03-10T09:22:51.422072",
     "exception": false,
     "start_time": "2024-03-10T09:22:51.404646",
     "status": "completed"
    },
    "tags": []
   },
   "outputs": [
    {
     "data": {
      "text/plain": [
       "5"
      ]
     },
     "execution_count": 13,
     "metadata": {},
     "output_type": "execute_result"
    }
   ],
   "source": [
    "# Better solution: Time - O(N), Space - O(1)\n",
    "arr: list[int] = [7, 1, 5, 3, 6, 4]\n",
    "N = len(arr)\n",
    "\n",
    "max_ = -math.inf\n",
    "highest_ = arr[N - 1]\n",
    "i = N - 2\n",
    "while i >= 0:\n",
    "    max_ = max(max_, highest_ - arr[i])\n",
    "    highest_ = max(highest_, arr[i])\n",
    "    i -= 1\n",
    "max_"
   ]
  },
  {
   "cell_type": "markdown",
   "id": "3c63de23",
   "metadata": {
    "papermill": {
     "duration": 0.008635,
     "end_time": "2024-03-10T09:22:51.440919",
     "exception": false,
     "start_time": "2024-03-10T09:22:51.432284",
     "status": "completed"
    },
    "tags": []
   },
   "source": [
    "Video Link: https://youtu.be/h4aBagy4Uok?si=kTZx4kZSvEfrdO7o\n",
    "Rearrange elements by sign"
   ]
  },
  {
   "cell_type": "code",
   "execution_count": 14,
   "id": "31f5ec38",
   "metadata": {
    "execution": {
     "iopub.execute_input": "2024-03-10T09:22:51.459810Z",
     "iopub.status.busy": "2024-03-10T09:22:51.459128Z",
     "iopub.status.idle": "2024-03-10T09:22:51.466876Z",
     "shell.execute_reply": "2024-03-10T09:22:51.466161Z"
    },
    "papermill": {
     "duration": 0.019012,
     "end_time": "2024-03-10T09:22:51.468587",
     "exception": false,
     "start_time": "2024-03-10T09:22:51.449575",
     "status": "completed"
    },
    "tags": []
   },
   "outputs": [
    {
     "data": {
      "text/plain": [
       "[3, -2, 1, -5, 2, -4]"
      ]
     },
     "execution_count": 14,
     "metadata": {},
     "output_type": "execute_result"
    }
   ],
   "source": [
    "# Brute force: Time - O(N), Space - O(N)\n",
    "arr: list[int] = [3, 1, -2, -5, 2, -4]\n",
    "N = len(arr)\n",
    "arr1: list[int] = []\n",
    "arr2: list[int] = []\n",
    "for i in range(N):\n",
    "    if arr[i] > 0:\n",
    "        arr1.append(arr[i])\n",
    "    else:\n",
    "        arr2.append(arr[i])\n",
    "\n",
    "i = 0\n",
    "while i < N // 2:\n",
    "    arr[(2 * i)] = arr1[i]\n",
    "    arr[(2 * i) + 1] = arr2[i]\n",
    "    i += 1\n",
    "\n",
    "arr"
   ]
  },
  {
   "cell_type": "code",
   "execution_count": 15,
   "id": "c82df348",
   "metadata": {
    "execution": {
     "iopub.execute_input": "2024-03-10T09:22:51.490561Z",
     "iopub.status.busy": "2024-03-10T09:22:51.489958Z",
     "iopub.status.idle": "2024-03-10T09:22:51.498057Z",
     "shell.execute_reply": "2024-03-10T09:22:51.497378Z"
    },
    "lines_to_next_cell": 1,
    "papermill": {
     "duration": 0.02061,
     "end_time": "2024-03-10T09:22:51.499747",
     "exception": false,
     "start_time": "2024-03-10T09:22:51.479137",
     "status": "completed"
    },
    "tags": []
   },
   "outputs": [
    {
     "data": {
      "text/plain": [
       "[2, -1, 3, -3, 4, 1]"
      ]
     },
     "execution_count": 15,
     "metadata": {},
     "output_type": "execute_result"
    }
   ],
   "source": [
    "# Rearrange elements by sign, where len(+ve) != len(-ve)\n",
    "arr: list[int] = [-1, 2, 3, 4, -3, 1]\n",
    "\n",
    "# O(4N): Got tired :(\n",
    "arr1: list[int] = list(filter(lambda x: x > 0, arr))[::-1]\n",
    "arr2: list[int] = list(filter(lambda x: x < 0, arr))[::-1]\n",
    "\n",
    "i = 0\n",
    "while arr1 or arr2:\n",
    "    if arr1:\n",
    "        arr[i] = arr1.pop()\n",
    "        i += 1\n",
    "    if arr2:\n",
    "        arr[i] = arr2.pop()\n",
    "        i += 1\n",
    "\n",
    "arr"
   ]
  },
  {
   "cell_type": "markdown",
   "id": "319b376d",
   "metadata": {
    "papermill": {
     "duration": 0.00891,
     "end_time": "2024-03-10T09:22:51.519065",
     "exception": false,
     "start_time": "2024-03-10T09:22:51.510155",
     "status": "completed"
    },
    "tags": []
   },
   "source": [
    "Video Link: https://www.youtube.com/watch?v=JDOXKqF60RQ&list=PLgUwDviBIf0oF6QL8m22w1hIDC1vJ_BHz&index=27\n",
    "Next Permutation"
   ]
  },
  {
   "cell_type": "code",
   "execution_count": 16,
   "id": "19358d4f",
   "metadata": {
    "execution": {
     "iopub.execute_input": "2024-03-10T09:22:51.538308Z",
     "iopub.status.busy": "2024-03-10T09:22:51.537738Z",
     "iopub.status.idle": "2024-03-10T09:22:51.546248Z",
     "shell.execute_reply": "2024-03-10T09:22:51.545502Z"
    },
    "lines_to_next_cell": 1,
    "papermill": {
     "duration": 0.019943,
     "end_time": "2024-03-10T09:22:51.547907",
     "exception": false,
     "start_time": "2024-03-10T09:22:51.527964",
     "status": "completed"
    },
    "tags": []
   },
   "outputs": [
    {
     "data": {
      "text/plain": [
       "[1, 3, 2]"
      ]
     },
     "execution_count": 16,
     "metadata": {},
     "output_type": "execute_result"
    }
   ],
   "source": [
    "# Brute Force\n",
    "def generate_perms(arr_: list[int]) -> list[list[int]]:\n",
    "    # Time - O(N!), Space - O(N!)\n",
    "    N = len(arr_)\n",
    "    if N <= 1:\n",
    "        return [arr_]\n",
    "    else:\n",
    "        result: list[list[int]] = []\n",
    "        for i in range(N):\n",
    "            for next_ in generate_perms(arr_[:i] + arr_[i+1:]):\n",
    "                result.append([arr_[i]] + next_)\n",
    "        return result\n",
    "\n",
    "# Testing the solution\n",
    "arr: list[int] = [1, 2, 3]\n",
    "arr1: list[list[int]] = sorted(generate_perms(arr))\n",
    "i = arr1.index(arr)\n",
    "arr1[i + 1] if i < len(arr1) - 1 else arr1[0]"
   ]
  },
  {
   "cell_type": "code",
   "execution_count": 17,
   "id": "97d071df",
   "metadata": {
    "execution": {
     "iopub.execute_input": "2024-03-10T09:22:51.569172Z",
     "iopub.status.busy": "2024-03-10T09:22:51.568590Z",
     "iopub.status.idle": "2024-03-10T09:22:51.578455Z",
     "shell.execute_reply": "2024-03-10T09:22:51.577737Z"
    },
    "papermill": {
     "duration": 0.021457,
     "end_time": "2024-03-10T09:22:51.580117",
     "exception": false,
     "start_time": "2024-03-10T09:22:51.558660",
     "status": "completed"
    },
    "tags": []
   },
   "outputs": [
    {
     "data": {
      "text/plain": [
       "[2, 3, 1, 4, 5]"
      ]
     },
     "execution_count": 17,
     "metadata": {},
     "output_type": "execute_result"
    }
   ],
   "source": [
    "# Better\n",
    "def next_perm(arr_: list[int]) -> list[int]:\n",
    "\n",
    "    def reverse_(start: int, end: int):\n",
    "        while start < end:\n",
    "            arr_[start], arr_[end] = arr_[end], arr_[start]\n",
    "            start += 1\n",
    "            end -= 1\n",
    "\n",
    "    N = len(arr_)\n",
    "    max_ = arr_[N - 1]\n",
    "    i = N - 2\n",
    "    while i >= 0:\n",
    "        if arr_[i] < max_:\n",
    "            # Find minimum element inside slice that is greater than arr_[i]\n",
    "            min_idx = i + 1\n",
    "            for j in range(i + 1, N):\n",
    "                if arr_[j] > arr_[i] and arr_[j] <= arr_[min_idx]:\n",
    "                    min_idx = j\n",
    "            arr_[i], arr_[min_idx] = arr_[min_idx], arr_[i]\n",
    "            reverse_(i + 1, N - 1)\n",
    "            return arr_\n",
    "        else:\n",
    "            max_ = arr_[i]\n",
    "            i -= 1\n",
    "    else:\n",
    "        arr_.reverse()\n",
    "        return arr_\n",
    "\n",
    "# Testing the solution\n",
    "arr: list[int] = [2, 1, 5, 4, 3]\n",
    "next_perm(arr)"
   ]
  },
  {
   "cell_type": "markdown",
   "id": "c61e4105",
   "metadata": {
    "papermill": {
     "duration": 0.00917,
     "end_time": "2024-03-10T09:22:51.598606",
     "exception": false,
     "start_time": "2024-03-10T09:22:51.589436",
     "status": "completed"
    },
    "tags": []
   },
   "source": [
    "Video Link: https://youtu.be/cHrH9CQ8pmY?si=Vl3mYSwTY727JgHV\n",
    "Leaders of an array"
   ]
  },
  {
   "cell_type": "code",
   "execution_count": 18,
   "id": "0416042b",
   "metadata": {
    "execution": {
     "iopub.execute_input": "2024-03-10T09:22:51.619494Z",
     "iopub.status.busy": "2024-03-10T09:22:51.618875Z",
     "iopub.status.idle": "2024-03-10T09:22:51.625634Z",
     "shell.execute_reply": "2024-03-10T09:22:51.624997Z"
    },
    "lines_to_next_cell": 1,
    "papermill": {
     "duration": 0.01834,
     "end_time": "2024-03-10T09:22:51.627323",
     "exception": false,
     "start_time": "2024-03-10T09:22:51.608983",
     "status": "completed"
    },
    "tags": []
   },
   "outputs": [
    {
     "data": {
      "text/plain": [
       "[6, 12, 22]"
      ]
     },
     "execution_count": 18,
     "metadata": {},
     "output_type": "execute_result"
    }
   ],
   "source": [
    "# Time - O(N), Space - O(N)\n",
    "arr = [10, 22, 12, 3, 0, 6]\n",
    "\n",
    "N = len(arr)\n",
    "max_ = arr[N - 1]\n",
    "arr1 = [max_]\n",
    "i = N - 1\n",
    "while i >= 0:\n",
    "    if arr[i] > max_:\n",
    "        arr1.append(arr[i])\n",
    "        max_ = arr[i]\n",
    "    i -= 1\n",
    "\n",
    "arr1"
   ]
  },
  {
   "cell_type": "markdown",
   "id": "c084b1a7",
   "metadata": {
    "lines_to_next_cell": 0,
    "papermill": {
     "duration": 0.009394,
     "end_time": "2024-03-10T09:22:51.647110",
     "exception": false,
     "start_time": "2024-03-10T09:22:51.637716",
     "status": "completed"
    },
    "tags": []
   },
   "source": []
  },
  {
   "cell_type": "code",
   "execution_count": 19,
   "id": "0621b858",
   "metadata": {
    "execution": {
     "iopub.execute_input": "2024-03-10T09:22:51.667009Z",
     "iopub.status.busy": "2024-03-10T09:22:51.666380Z",
     "iopub.status.idle": "2024-03-10T09:22:51.669911Z",
     "shell.execute_reply": "2024-03-10T09:22:51.669266Z"
    },
    "incorrectly_encoded_metadata": "https://www.youtube.com/watch?v=oO5uLE7EUlM&list=PLgUwDviBIf0oF6QL8m22w1hIDC1vJ_BHz&index=29",
    "papermill": {
     "duration": 0.015195,
     "end_time": "2024-03-10T09:22:51.671552",
     "exception": false,
     "start_time": "2024-03-10T09:22:51.656357",
     "status": "completed"
    },
    "tags": [],
    "title": "Video Link:"
   },
   "outputs": [],
   "source": [
    "# Longest Common subsequence"
   ]
  },
  {
   "cell_type": "code",
   "execution_count": 20,
   "id": "49f655a3",
   "metadata": {
    "execution": {
     "iopub.execute_input": "2024-03-10T09:22:51.692541Z",
     "iopub.status.busy": "2024-03-10T09:22:51.691986Z",
     "iopub.status.idle": "2024-03-10T09:22:51.699277Z",
     "shell.execute_reply": "2024-03-10T09:22:51.698474Z"
    },
    "lines_to_next_cell": 1,
    "papermill": {
     "duration": 0.018971,
     "end_time": "2024-03-10T09:22:51.700834",
     "exception": false,
     "start_time": "2024-03-10T09:22:51.681863",
     "status": "completed"
    },
    "tags": []
   },
   "outputs": [],
   "source": [
    "class Solution:\n",
    "    def longestConsecutive(self, nums: list[int]) -> int:\n",
    "        counter: dict[int, int] = {n: 1 for n in nums}\n",
    "        for n in nums:\n",
    "            if n in counter:\n",
    "                count = counter[n]\n",
    "                curr = n\n",
    "                while curr + 1 in counter:\n",
    "                    count += counter.pop(curr + 1)\n",
    "                    curr += 1\n",
    "                counter[n] = count\n",
    "\n",
    "        return max(counter.values()) if counter else 0\n",
    "\n",
    "# Testing the solution\n",
    "assert Solution().longestConsecutive([100,4,200,1,3,2]) == 4\n",
    "assert Solution().longestConsecutive([0,3,7,2,5,8,4,6,0,1]) == 9\n",
    "assert Solution().longestConsecutive([1,2,2,3]) == 3\n",
    "assert Solution().longestConsecutive([1,1,1,1,2,2,2,3,3,3,3]) == 3"
   ]
  },
  {
   "cell_type": "markdown",
   "id": "de8b0b7b",
   "metadata": {
    "papermill": {
     "duration": 0.009278,
     "end_time": "2024-03-10T09:22:51.720739",
     "exception": false,
     "start_time": "2024-03-10T09:22:51.711461",
     "status": "completed"
    },
    "tags": []
   },
   "source": [
    "Video Link: https://www.youtube.com/watch?v=N0MgLvceX7M&list=PLgUwDviBIf0oF6QL8m22w1hIDC1vJ_BHz&index=30\n",
    "Set Matrix 0s"
   ]
  },
  {
   "cell_type": "code",
   "execution_count": 21,
   "id": "49680d8b",
   "metadata": {
    "execution": {
     "iopub.execute_input": "2024-03-10T09:22:51.742278Z",
     "iopub.status.busy": "2024-03-10T09:22:51.741658Z",
     "iopub.status.idle": "2024-03-10T09:22:51.758432Z",
     "shell.execute_reply": "2024-03-10T09:22:51.757696Z"
    },
    "lines_to_next_cell": 1,
    "papermill": {
     "duration": 0.028726,
     "end_time": "2024-03-10T09:22:51.760090",
     "exception": false,
     "start_time": "2024-03-10T09:22:51.731364",
     "status": "completed"
    },
    "tags": []
   },
   "outputs": [
    {
     "name": "stdout",
     "output_type": "stream",
     "text": [
      "[[1, 0, 1], [0, 0, 0], [1, 0, 1]]\n"
     ]
    }
   ],
   "source": [
    "# Brute force - O((M * N)(M + N))\n",
    "class Solution:\n",
    "    def setZeroes(self, matrix: list[list[int]]) -> None:\n",
    "        \"\"\"\n",
    "        Do not return anything, modify matrix in-place instead.\n",
    "        \"\"\"\n",
    "\n",
    "        def BFS(i: int, j: int):\n",
    "            for k in range(M):\n",
    "                matrix[k][j] = 2\n",
    "            for k in range(N):\n",
    "                matrix[i][k] = 2\n",
    "\n",
    "        M, N = len(matrix), len(matrix[0])\n",
    "        for i in range(M):\n",
    "            for j in range(N):\n",
    "                if matrix[i][j] == 0:\n",
    "                    BFS(i, j)\n",
    "\n",
    "        for i in range(M):\n",
    "            for j in range(N):\n",
    "                if matrix[i][j] == 2:\n",
    "                    matrix[i][j] = 0\n",
    "\n",
    "        print (matrix)\n",
    "\n",
    "# Testing the solution\n",
    "temp = [[1,1,1],[1,0,1],[1,1,1]]\n",
    "Solution().setZeroes(temp)\n",
    "assert temp == [[1,0,1],[0,0,0],[1,0,1]]\n",
    "\n",
    "# Better solution\n",
    "class Solution:\n",
    "    def setZeroes(self, matrix: list[list[int]]) -> None:\n",
    "        M, N = len(matrix), len(matrix[0])\n",
    "\n",
    "        row0 = 1\n",
    "        for i in range(M):\n",
    "            for j in range(N):\n",
    "                if matrix[i][j] == 0:\n",
    "                    if i == 0:\n",
    "                        row0 = 0\n",
    "                    else:\n",
    "                        matrix[i][0] = 0\n",
    "                    matrix[0][j] = 0\n",
    "\n",
    "        for i in range(1, M):\n",
    "            for j in range(1, N):\n",
    "                if matrix[0][j] == 0:\n",
    "                    matrix[i][j] = 0\n",
    "                if matrix[i][0] == 0:\n",
    "                    matrix[i][j] = 0\n",
    "\n",
    "        if row0 == 0:\n",
    "            for j in range(1, N):\n",
    "                matrix[0][j] = 0\n",
    "\n",
    "        if matrix[0][0] == 0:\n",
    "            for i in range(M):\n",
    "                matrix[i][0] = 0\n",
    "\n",
    "        matrix[0][0] = 0 if row0 == 0 else matrix[0][0]\n",
    "\n",
    "# Testing the solution\n",
    "for temp in (\n",
    "    [[[1,1,1],[1,0,1],[1,1,1]], [[1,0,1],[0,0,0],[1,0,1]]],\n",
    "    [[[0,1,2,0],[3,4,5,2],[1,3,1,5]], [[0,0,0,0],[0,4,5,0],[0,3,1,0]]],\n",
    "    [[[-4,10,6,-7,0],[-8,6,-8,-6,0],[3,2,-9,-6,-10]], [[0,0,0,0,0],[0,0,0,0,0],[3,2,-9,-6,0]]]\n",
    "):\n",
    "    Solution().setZeroes(temp[0])\n",
    "    assert temp[0] == temp[1]"
   ]
  },
  {
   "cell_type": "markdown",
   "id": "bb05528f",
   "metadata": {
    "papermill": {
     "duration": 0.009561,
     "end_time": "2024-03-10T09:22:51.780575",
     "exception": false,
     "start_time": "2024-03-10T09:22:51.771014",
     "status": "completed"
    },
    "tags": []
   },
   "source": [
    "Video Link: https://www.youtube.com/watch?v=Z0R2u6gd3GU&list=PLgUwDviBIf0oF6QL8m22w1hIDC1vJ_BHz&index=31\n",
    "Rotate image by 90 deg"
   ]
  },
  {
   "cell_type": "code",
   "execution_count": 22,
   "id": "def229bc",
   "metadata": {
    "execution": {
     "iopub.execute_input": "2024-03-10T09:22:51.801092Z",
     "iopub.status.busy": "2024-03-10T09:22:51.800430Z",
     "iopub.status.idle": "2024-03-10T09:22:51.809588Z",
     "shell.execute_reply": "2024-03-10T09:22:51.808977Z"
    },
    "lines_to_next_cell": 1,
    "papermill": {
     "duration": 0.021156,
     "end_time": "2024-03-10T09:22:51.811192",
     "exception": false,
     "start_time": "2024-03-10T09:22:51.790036",
     "status": "completed"
    },
    "tags": []
   },
   "outputs": [],
   "source": [
    "class Solution:\n",
    "    def rotate(self, matrix: list[list[int]]) -> None:\n",
    "        \"\"\"\n",
    "        N = 4, i = 0\n",
    "\n",
    "        j = 0: (0, 0), (0, 3), (3, 3), (3, 0)\n",
    "        j = 1: (0, 1), (1, 3), (3, 2), (2, 0)\n",
    "        j = 2: (0, 2), (2, 3), (3, 1), (1, 0)\n",
    "\n",
    "        N = 4, i = 1\n",
    "\n",
    "        j = 1: (1, 1), (1, 2), (2, 2), (2, 1)\n",
    "\n",
    "        Generally put: (i, j), (j, N - i - 1), (N - i - 1, N - j - 1), (N - j - 1, i)\n",
    "        \"\"\"\n",
    "\n",
    "        N = len(matrix)\n",
    "        for i in range(math.ceil(N / 2)):\n",
    "            for j in range(i, N - 1 - i):\n",
    "                i_, j_ = N - i - 1, N - j - 1\n",
    "                matrix[i][j], matrix[j][i_], matrix[i_][j_], matrix[j_][i] = matrix[j_][i], matrix[i][j], matrix[j][i_], matrix[i_][j_]\n",
    "\n",
    "\n",
    "# Testing the solution\n",
    "for temp in (\n",
    "    [[[1,2,3],[4,5,6],[7,8,9]], [[7,4,1],[8,5,2],[9,6,3]]],\n",
    "    [[[5,1,9,11],[2,4,8,10],[13,3,6,7],[15,14,12,16]], [[15,13,2,5],[14,3,4,1],[12,6,8,9],[16,7,10,11]]]\n",
    "):\n",
    "    Solution().rotate(temp[0])\n",
    "    assert temp[0] == temp[1]"
   ]
  },
  {
   "cell_type": "code",
   "execution_count": 23,
   "id": "a6c38a1b",
   "metadata": {
    "execution": {
     "iopub.execute_input": "2024-03-10T09:22:51.832733Z",
     "iopub.status.busy": "2024-03-10T09:22:51.832169Z",
     "iopub.status.idle": "2024-03-10T09:22:51.840703Z",
     "shell.execute_reply": "2024-03-10T09:22:51.839960Z"
    },
    "lines_to_next_cell": 1,
    "papermill": {
     "duration": 0.020702,
     "end_time": "2024-03-10T09:22:51.842418",
     "exception": false,
     "start_time": "2024-03-10T09:22:51.821716",
     "status": "completed"
    },
    "tags": []
   },
   "outputs": [],
   "source": [
    "# Solution from striver\n",
    "class Solution:\n",
    "    def rotate(self, matrix: list[list[int]]) -> None:\n",
    "        \"\"\"\n",
    "        1. Transpose the matrix\n",
    "        2. Reverse each row elements\n",
    "        \"\"\"\n",
    "\n",
    "        N = len(matrix)\n",
    "\n",
    "        # Transpose the matrix\n",
    "        for i in range(N):\n",
    "            for j in range(i, N):\n",
    "                matrix[i][j], matrix[j][i] = matrix[j][i], matrix[i][j]\n",
    "\n",
    "        # Reverse each row \n",
    "        for i in range(N):\n",
    "            for j in range(N // 2):\n",
    "                matrix[i][j], matrix[i][N - j - 1] = matrix[i][N - j - 1], matrix[i][j]\n",
    "\n",
    "\n",
    "# Testing the solution\n",
    "for temp in (\n",
    "    [[[1,2,3],[4,5,6],[7,8,9]], [[7,4,1],[8,5,2],[9,6,3]]],\n",
    "    [[[5,1,9,11],[2,4,8,10],[13,3,6,7],[15,14,12,16]], [[15,13,2,5],[14,3,4,1],[12,6,8,9],[16,7,10,11]]]\n",
    "):\n",
    "    Solution().rotate(temp[0])\n",
    "    assert temp[0] == temp[1]"
   ]
  },
  {
   "cell_type": "markdown",
   "id": "2b214952",
   "metadata": {},
   "source": [
    "Video Link: https://www.youtube.com/watch?v=3Zv-s9UUrFM&list=PLgUwDviBIf0oF6QL8m22w1hIDC1vJ_BHz&index=32\n",
    "Spiral matrix"
   ]
  },
  {
   "cell_type": "code",
   "execution_count": null,
   "id": "670d322e",
   "metadata": {
    "lines_to_next_cell": 1
   },
   "outputs": [],
   "source": [
    "class Solution:\n",
    "    def spiralOrder(self, matrix: list[list[int | None]]) -> list[int | None]:\n",
    "        M, N = len(matrix), len(matrix[0])\n",
    "        i, j = 0, 0\n",
    "        result: list[int | None] = []\n",
    "        while i < M and j < N and matrix[i][j] != None:\n",
    "            # Go right\n",
    "            while j < N and matrix[i][j] != None:\n",
    "                result.append(matrix[i][j])\n",
    "                matrix[i][j] = None\n",
    "                j += 1\n",
    "\n",
    "            # Go down\n",
    "            i, j = i + 1, j - 1\n",
    "            while i < M and matrix[i][j] != None:\n",
    "                result.append(matrix[i][j])\n",
    "                matrix[i][j] = None\n",
    "                i += 1\n",
    "\n",
    "            # Go left\n",
    "            i, j = i - 1, j - 1\n",
    "            while j >= 0 and matrix[i][j] != None:\n",
    "                result.append(matrix[i][j])\n",
    "                matrix[i][j] = None\n",
    "                j -= 1\n",
    "\n",
    "            # Go up\n",
    "            i, j = i - 1, j + 1\n",
    "            while i > 0 and matrix[i][j] != None:\n",
    "                result.append(matrix[i][j])\n",
    "                matrix[i][j] = None\n",
    "                i -= 1\n",
    "\n",
    "            # For next iteration\n",
    "            i, j = i + 1, j + 1\n",
    "\n",
    "        return result\n",
    "\n",
    "# Testing the solution\n",
    "assert Solution().spiralOrder([[1, 2, 3], [4, 5, 6], [7, 8, 9]]) == [1, 2, 3, 6, 9, 8, 7, 4, 5]\n",
    "assert Solution().spiralOrder([[1, 2, 3, 4]]) == [1, 2, 3, 4]\n",
    "assert Solution().spiralOrder([[1], [2], [3], [4]]) == [1, 2, 3, 4]\n",
    "assert Solution().spiralOrder([[1]]) == [1]\n",
    "assert Solution().spiralOrder([[1, 2, 3, 4], [5, 6, 7, 8], [9, 10, 11, 12]]) == [1, 2, 3, 4, 8, 12, 11, 10, 9, 5, 6, 7]"
   ]
  },
  {
   "cell_type": "markdown",
   "id": "fbecbabd",
   "metadata": {},
   "source": [
    "Video Link: https://www.youtube.com/watch?v=xvNwoz-ufXA&list=PLgUwDviBIf0oF6QL8m22w1hIDC1vJ_BHz&index=33\n",
    "Count subarray sum equals k"
   ]
  },
  {
   "cell_type": "code",
   "execution_count": null,
   "id": "7586edcb",
   "metadata": {
    "lines_to_next_cell": 1
   },
   "outputs": [],
   "source": [
    "# Brute force\n",
    "class Solution:\n",
    "    def subarraySum(self, nums: list[int], K: int) -> int:\n",
    "        \"Time - O(N ^ 2)\"\n",
    "        N = len(nums)\n",
    "        count_ = 0\n",
    "        for i in range(N):\n",
    "            sum_ = 0\n",
    "            for j in range(i, N):\n",
    "               sum_ += nums[j]\n",
    "               if sum_ == K:\n",
    "                   print(nums[i: j + 1])\n",
    "                   count_ += 1\n",
    "\n",
    "        return count_\n",
    "\n",
    "# Testing the solution\n",
    "assert Solution().subarraySum([1, 2, 3, -3, 1, 1, 1, 4, 2, -3], 3) == 8"
   ]
  },
  {
   "cell_type": "code",
   "execution_count": null,
   "id": "75940c41",
   "metadata": {},
   "outputs": [],
   "source": [
    "# Optimal\n",
    "class Solution:\n",
    "    def subarraySum(self, nums: list[int], K: int) -> int:\n",
    "        \"\"\"\n",
    "        Time - O(N), Space - O(N)\n",
    "        Prefix Sum: For curr sum as sum_, how many prefix sum exists sum_ - k?\n",
    "        \"\"\"\n",
    "        hashmap: dict[int, int] = {0: 1}\n",
    "        count = sum_ = 0\n",
    "        for i in range(len(nums)):\n",
    "            sum_ += nums[i]\n",
    "            if sum_ - K in hashmap:\n",
    "                count += hashmap[sum_ - K]\n",
    "            hashmap[sum_] = hashmap.get(sum_, 0) + 1\n",
    "        return count\n",
    "\n",
    "# Testing the solution\n",
    "assert Solution().subarraySum([1, 2, 3, -3, 1, 1, 1, 4, 2, -3], 3) == 8\n",
    "assert Solution().subarraySum([1, 1, 1], 2) == 2\n",
    "assert Solution().subarraySum([1, 2, 3], 3) == 2"
   ]
  }
 ],
 "metadata": {
  "kernelspec": {
   "display_name": "Python 3 (ipykernel)",
   "language": "python",
   "name": "python3"
  },
  "language_info": {
   "codemirror_mode": {
    "name": "ipython",
    "version": 3
   },
   "file_extension": ".py",
   "mimetype": "text/x-python",
   "name": "python",
   "nbconvert_exporter": "python",
   "pygments_lexer": "ipython3",
   "version": "3.10.13"
  },
  "papermill": {
   "default_parameters": {},
   "duration": 2.113234,
   "end_time": "2024-03-10T09:22:51.970446",
   "environment_variables": {},
   "exception": null,
   "input_path": "study/striver-A2Z/07-med-arrays.ipynb",
   "output_path": "study/striver-A2Z/07-med-arrays.ipynb",
   "parameters": {},
   "start_time": "2024-03-10T09:22:49.857212",
   "version": "2.4.0"
  }
 },
 "nbformat": 4,
 "nbformat_minor": 5
}
