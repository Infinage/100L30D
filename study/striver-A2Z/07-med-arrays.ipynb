{
 "cells": [
  {
   "cell_type": "markdown",
   "id": "21da8de7",
   "metadata": {
    "papermill": {
     "duration": 0.005,
     "end_time": "2024-03-04T02:35:11.356930",
     "exception": false,
     "start_time": "2024-03-04T02:35:11.351930",
     "status": "completed"
    },
    "tags": []
   },
   "source": [
    "Video Link: https://www.youtube.com/watch?v=UXDSeD9mN-k&list=PLgUwDviBIf0oF6QL8m22w1hIDC1vJ_BHz&index=22"
   ]
  },
  {
   "cell_type": "code",
   "execution_count": 1,
   "id": "2f902cd9",
   "metadata": {
    "execution": {
     "iopub.execute_input": "2024-03-04T02:35:11.373846Z",
     "iopub.status.busy": "2024-03-04T02:35:11.372079Z",
     "iopub.status.idle": "2024-03-04T02:35:11.405259Z",
     "shell.execute_reply": "2024-03-04T02:35:11.402954Z"
    },
    "lines_to_next_cell": 1,
    "papermill": {
     "duration": 0.047274,
     "end_time": "2024-03-04T02:35:11.409684",
     "exception": false,
     "start_time": "2024-03-04T02:35:11.362410",
     "status": "completed"
    },
    "tags": []
   },
   "outputs": [
    {
     "data": {
      "text/plain": [
       "(1, 3)"
      ]
     },
     "execution_count": 1,
     "metadata": {},
     "output_type": "execute_result"
    }
   ],
   "source": [
    "# Two Sum - Brute Force\n",
    "def two_sum_brute(arr_: list[int], target: int) -> tuple[int, int]:\n",
    "    \"Time complexity - O(N^2)\"\n",
    "    N = len(arr_)\n",
    "    for i in range(N - 1):\n",
    "        for j in range(i + 1, N):\n",
    "            if arr_[i] + arr_[j] == target:\n",
    "                return i, j\n",
    "    else:\n",
    "        return -1, -1\n",
    "\n",
    "two_sum_brute([2, 6, 5, 8, 11], 14)"
   ]
  },
  {
   "cell_type": "code",
   "execution_count": 2,
   "id": "f0629198",
   "metadata": {
    "execution": {
     "iopub.execute_input": "2024-03-04T02:35:11.418274Z",
     "iopub.status.busy": "2024-03-04T02:35:11.416980Z",
     "iopub.status.idle": "2024-03-04T02:35:11.434027Z",
     "shell.execute_reply": "2024-03-04T02:35:11.431901Z"
    },
    "lines_to_next_cell": 1,
    "papermill": {
     "duration": 0.027035,
     "end_time": "2024-03-04T02:35:11.438819",
     "exception": false,
     "start_time": "2024-03-04T02:35:11.411784",
     "status": "completed"
    },
    "tags": []
   },
   "outputs": [
    {
     "data": {
      "text/plain": [
       "(1, 3)"
      ]
     },
     "execution_count": 2,
     "metadata": {},
     "output_type": "execute_result"
    }
   ],
   "source": [
    "# Two sum - better\n",
    "def two_sum_better(arr_: list[int], target: int) -> tuple[int, int]:\n",
    "    \"Time compelexity - O(N), Space - O(N)\"\n",
    "    N = len(arr_)\n",
    "    dict_: dict[int, int] = {}\n",
    "    for i in range(N):\n",
    "        if target - arr_[i] in dict_:\n",
    "            result = i, dict_[target - arr_[i]]\n",
    "            return min(result), max(result)\n",
    "        dict_[arr_[i]] = i\n",
    "    return -1, -1\n",
    "\n",
    "two_sum_better([2, 6, 5, 8, 11], 14)"
   ]
  },
  {
   "cell_type": "code",
   "execution_count": 3,
   "id": "e337b5a1",
   "metadata": {
    "execution": {
     "iopub.execute_input": "2024-03-04T02:35:11.449106Z",
     "iopub.status.busy": "2024-03-04T02:35:11.447930Z",
     "iopub.status.idle": "2024-03-04T02:35:11.466100Z",
     "shell.execute_reply": "2024-03-04T02:35:11.463757Z"
    },
    "papermill": {
     "duration": 0.028776,
     "end_time": "2024-03-04T02:35:11.470369",
     "exception": false,
     "start_time": "2024-03-04T02:35:11.441593",
     "status": "completed"
    },
    "tags": []
   },
   "outputs": [
    {
     "data": {
      "text/plain": [
       "True"
      ]
     },
     "execution_count": 3,
     "metadata": {},
     "output_type": "execute_result"
    }
   ],
   "source": [
    "# Two sum - Optimal\n",
    "def two_sum_optimal(arr_: list[int], target: int) -> bool:\n",
    "    \"Time - O(N log N), Space - O(1)\"\n",
    "    arr_.sort()\n",
    "    N = len(arr_)\n",
    "    i, j = 0, N - 1\n",
    "    while i < j and j < N:\n",
    "        sum_ = arr_[i] + arr_[j]\n",
    "        if sum_ == target:\n",
    "            return True\n",
    "        elif sum_ < target:\n",
    "            i += 1\n",
    "        else:\n",
    "            j -= 1\n",
    "    return False\n",
    "\n",
    "two_sum_optimal([2, 6, 5, 8, 11], 14)"
   ]
  }
 ],
 "metadata": {
  "kernelspec": {
   "display_name": "Python 3 (ipykernel)",
   "language": "python",
   "name": "python3"
  },
  "language_info": {
   "codemirror_mode": {
    "name": "ipython",
    "version": 3
   },
   "file_extension": ".py",
   "mimetype": "text/x-python",
   "name": "python",
   "nbconvert_exporter": "python",
   "pygments_lexer": "ipython3",
   "version": "3.10.13"
  },
  "papermill": {
   "default_parameters": {},
   "duration": 2.621512,
   "end_time": "2024-03-04T02:35:11.908650",
   "environment_variables": {},
   "exception": null,
   "input_path": "07-med-arrays.ipynb",
   "output_path": "07-med-arrays.ipynb",
   "parameters": {},
   "start_time": "2024-03-04T02:35:09.287138",
   "version": "2.4.0"
  }
 },
 "nbformat": 4,
 "nbformat_minor": 5
}