{
 "cells": [
  {
   "cell_type": "code",
   "execution_count": 1,
   "id": "1fbe5a89",
   "metadata": {
    "execution": {
     "iopub.execute_input": "2024-03-06T13:45:09.659555Z",
     "iopub.status.busy": "2024-03-06T13:45:09.658177Z",
     "iopub.status.idle": "2024-03-06T13:45:09.666459Z",
     "shell.execute_reply": "2024-03-06T13:45:09.665667Z"
    },
    "lines_to_next_cell": 1,
    "papermill": {
     "duration": 0.01494,
     "end_time": "2024-03-06T13:45:09.668449",
     "exception": false,
     "start_time": "2024-03-06T13:45:09.653509",
     "status": "completed"
    },
    "tags": []
   },
   "outputs": [],
   "source": [
    "# Neccessary imports\n",
    "import functools\n",
    "import math\n",
    "import random"
   ]
  },
  {
   "cell_type": "markdown",
   "id": "21da8de7",
   "metadata": {
    "papermill": {
     "duration": 0.002524,
     "end_time": "2024-03-06T13:45:09.673745",
     "exception": false,
     "start_time": "2024-03-06T13:45:09.671221",
     "status": "completed"
    },
    "tags": []
   },
   "source": [
    "Video Link: https://www.youtube.com/watch?v=UXDSeD9mN-k&list=PLgUwDviBIf0oF6QL8m22w1hIDC1vJ_BHz&index=22"
   ]
  },
  {
   "cell_type": "code",
   "execution_count": 2,
   "id": "2f902cd9",
   "metadata": {
    "execution": {
     "iopub.execute_input": "2024-03-06T13:45:09.681093Z",
     "iopub.status.busy": "2024-03-06T13:45:09.680699Z",
     "iopub.status.idle": "2024-03-06T13:45:09.689450Z",
     "shell.execute_reply": "2024-03-06T13:45:09.688603Z"
    },
    "lines_to_next_cell": 1,
    "papermill": {
     "duration": 0.01506,
     "end_time": "2024-03-06T13:45:09.691334",
     "exception": false,
     "start_time": "2024-03-06T13:45:09.676274",
     "status": "completed"
    },
    "tags": []
   },
   "outputs": [
    {
     "data": {
      "text/plain": [
       "(1, 3)"
      ]
     },
     "execution_count": 2,
     "metadata": {},
     "output_type": "execute_result"
    }
   ],
   "source": [
    "# Two Sum - Brute Force\n",
    "def two_sum_brute(arr_: list[int], target: int) -> tuple[int, int]:\n",
    "    \"Time complexity - O(N^2)\"\n",
    "    N = len(arr_)\n",
    "    for i in range(N - 1):\n",
    "        for j in range(i + 1, N):\n",
    "            if arr_[i] + arr_[j] == target:\n",
    "                return i, j\n",
    "    else:\n",
    "        return -1, -1\n",
    "\n",
    "two_sum_brute([2, 6, 5, 8, 11], 14)"
   ]
  },
  {
   "cell_type": "code",
   "execution_count": 3,
   "id": "f0629198",
   "metadata": {
    "execution": {
     "iopub.execute_input": "2024-03-06T13:45:09.697524Z",
     "iopub.status.busy": "2024-03-06T13:45:09.697300Z",
     "iopub.status.idle": "2024-03-06T13:45:09.704878Z",
     "shell.execute_reply": "2024-03-06T13:45:09.704031Z"
    },
    "lines_to_next_cell": 1,
    "papermill": {
     "duration": 0.012889,
     "end_time": "2024-03-06T13:45:09.706603",
     "exception": false,
     "start_time": "2024-03-06T13:45:09.693714",
     "status": "completed"
    },
    "tags": []
   },
   "outputs": [
    {
     "data": {
      "text/plain": [
       "(1, 3)"
      ]
     },
     "execution_count": 3,
     "metadata": {},
     "output_type": "execute_result"
    }
   ],
   "source": [
    "# Two sum - better\n",
    "def two_sum_better(arr_: list[int], target: int) -> tuple[int, int]:\n",
    "    \"Time compelexity - O(N), Space - O(N)\"\n",
    "    N = len(arr_)\n",
    "    dict_: dict[int, int] = {}\n",
    "    for i in range(N):\n",
    "        if target - arr_[i] in dict_:\n",
    "            result = i, dict_[target - arr_[i]]\n",
    "            return min(result), max(result)\n",
    "        dict_[arr_[i]] = i\n",
    "    return -1, -1\n",
    "\n",
    "two_sum_better([2, 6, 5, 8, 11], 14)"
   ]
  },
  {
   "cell_type": "code",
   "execution_count": 4,
   "id": "e337b5a1",
   "metadata": {
    "execution": {
     "iopub.execute_input": "2024-03-06T13:45:09.712620Z",
     "iopub.status.busy": "2024-03-06T13:45:09.712390Z",
     "iopub.status.idle": "2024-03-06T13:45:09.720270Z",
     "shell.execute_reply": "2024-03-06T13:45:09.719409Z"
    },
    "papermill": {
     "duration": 0.013206,
     "end_time": "2024-03-06T13:45:09.722218",
     "exception": false,
     "start_time": "2024-03-06T13:45:09.709012",
     "status": "completed"
    },
    "tags": []
   },
   "outputs": [
    {
     "data": {
      "text/plain": [
       "True"
      ]
     },
     "execution_count": 4,
     "metadata": {},
     "output_type": "execute_result"
    }
   ],
   "source": [
    "# Two sum - Optimal\n",
    "def two_sum_optimal(arr_: list[int], target: int) -> bool:\n",
    "    \"Time - O(N log N), Space - O(1)\"\n",
    "    arr_.sort()\n",
    "    N = len(arr_)\n",
    "    i, j = 0, N - 1\n",
    "    while i < j and j < N:\n",
    "        sum_ = arr_[i] + arr_[j]\n",
    "        if sum_ == target:\n",
    "            return True\n",
    "        elif sum_ < target:\n",
    "            i += 1\n",
    "        else:\n",
    "            j -= 1\n",
    "    return False\n",
    "\n",
    "two_sum_optimal([2, 6, 5, 8, 11], 14)"
   ]
  },
  {
   "cell_type": "markdown",
   "id": "5b551970",
   "metadata": {
    "papermill": {
     "duration": 0.002561,
     "end_time": "2024-03-06T13:45:09.727425",
     "exception": false,
     "start_time": "2024-03-06T13:45:09.724864",
     "status": "completed"
    },
    "tags": []
   },
   "source": [
    "Video Link: https://www.youtube.com/watch?v=tp8JIuCXBaU&list=PLgUwDviBIf0oF6QL8m22w1hIDC1vJ_BHz&index=22"
   ]
  },
  {
   "cell_type": "code",
   "execution_count": 5,
   "id": "6a698467",
   "metadata": {
    "execution": {
     "iopub.execute_input": "2024-03-06T13:45:09.734305Z",
     "iopub.status.busy": "2024-03-06T13:45:09.733602Z",
     "iopub.status.idle": "2024-03-06T13:45:09.741560Z",
     "shell.execute_reply": "2024-03-06T13:45:09.740608Z"
    },
    "lines_to_next_cell": 1,
    "papermill": {
     "duration": 0.013087,
     "end_time": "2024-03-06T13:45:09.742955",
     "exception": false,
     "start_time": "2024-03-06T13:45:09.729868",
     "status": "completed"
    },
    "tags": []
   },
   "outputs": [
    {
     "data": {
      "text/plain": [
       "[0, 0, 0, 0, 0, 1, 1, 1, 1, 2, 2, 2]"
      ]
     },
     "execution_count": 5,
     "metadata": {},
     "output_type": "execute_result"
    }
   ],
   "source": [
    "# Sort an array of 0s, 1s, 2s\n",
    "# Time - O(2N) - Better\n",
    "arr = [0, 1, 2, 0, 1, 2, 1, 2, 0, 0, 0, 1]\n",
    "\n",
    "N = len(arr)\n",
    "counter: dict[int, int] = dict()\n",
    "for j in arr:\n",
    "    counter[j] = counter.get(j, 0) + 1\n",
    "\n",
    "i = 0\n",
    "for j in [0, 1, 2]:\n",
    "    while counter[j]:\n",
    "        arr[i] = j\n",
    "        counter[j] -= 1\n",
    "        i += 1\n",
    "\n",
    "arr"
   ]
  },
  {
   "cell_type": "markdown",
   "id": "f50bbaee",
   "metadata": {
    "papermill": {
     "duration": 0.002861,
     "end_time": "2024-03-06T13:45:09.748438",
     "exception": false,
     "start_time": "2024-03-06T13:45:09.745577",
     "status": "completed"
    },
    "tags": []
   },
   "source": [
    "##### Dutch National Flag Algorithm<br>\n",
    "We can perform better than O(2N), by using this algorithm involving 3 pointers.\n",
    "\n",
    "Imagine having a hypothetical array:\n",
    "```\n",
    "      [0, 0, 0, 0, 1, 1, 1, 1, _, _, _, _, _, _, 2, 2, 2]\n",
    "                   L           M                 H\n",
    "\n",
    "L: low, M: mid, H: high\n",
    "```\n",
    "\n",
    "1. 0 - (low - 1): consists of only 0s\n",
    "2. low - (mid - 1): consists of onlys 1s \n",
    "3. mid - high: consists of unsorted numbers\n",
    "4. (high + 1) - (n - 1): consists of only 2s\n",
    "\n",
    "Imagine the provided array is from mid - high, to sort the array we manipulate the pointers"
   ]
  },
  {
   "cell_type": "code",
   "execution_count": 6,
   "id": "5b07cd07",
   "metadata": {
    "execution": {
     "iopub.execute_input": "2024-03-06T13:45:09.755628Z",
     "iopub.status.busy": "2024-03-06T13:45:09.754924Z",
     "iopub.status.idle": "2024-03-06T13:45:09.763226Z",
     "shell.execute_reply": "2024-03-06T13:45:09.762377Z"
    },
    "papermill": {
     "duration": 0.01422,
     "end_time": "2024-03-06T13:45:09.765214",
     "exception": false,
     "start_time": "2024-03-06T13:45:09.750994",
     "status": "completed"
    },
    "tags": []
   },
   "outputs": [
    {
     "data": {
      "text/plain": [
       "[0, 0, 0, 0, 0, 1, 1, 1, 1, 2, 2, 2]"
      ]
     },
     "execution_count": 6,
     "metadata": {},
     "output_type": "execute_result"
    }
   ],
   "source": [
    "# Sort an array of 0s, 1s, 2s\n",
    "# Time - O(N), Dutch National Flag Algorithm - Optimal\n",
    "def DNF(arr_: list[int]) -> None:\n",
    "    N = len(arr_)\n",
    "    low, mid, high = 0, 0, N - 1\n",
    "    while mid <= high:\n",
    "        if arr_[mid] == 0:\n",
    "            # Push it to where low is and inc both low and mid\n",
    "            arr_[low], arr_[mid] = arr_[mid], arr_[low]\n",
    "            low += 1\n",
    "            mid += 1\n",
    "        elif arr_[mid] == 1:\n",
    "            # It is in the right place, simply inc mid\n",
    "            mid += 1\n",
    "        else:\n",
    "            # Push to the right and decrement high, note that mid remains in the same spot\n",
    "            arr_[mid], arr_[high] = arr_[high], arr_[mid]\n",
    "            high -= 1\n",
    "\n",
    "# Testing the algorithm\n",
    "arr = [0, 1, 2, 0, 1, 2, 1, 2, 0, 0, 0, 1]\n",
    "DNF(arr)\n",
    "arr"
   ]
  },
  {
   "cell_type": "code",
   "execution_count": 7,
   "id": "eee184d6",
   "metadata": {
    "execution": {
     "iopub.execute_input": "2024-03-06T13:45:09.772265Z",
     "iopub.status.busy": "2024-03-06T13:45:09.771808Z",
     "iopub.status.idle": "2024-03-06T13:45:09.777141Z",
     "shell.execute_reply": "2024-03-06T13:45:09.775974Z"
    },
    "papermill": {
     "duration": 0.01112,
     "end_time": "2024-03-06T13:45:09.778903",
     "exception": false,
     "start_time": "2024-03-06T13:45:09.767783",
     "status": "completed"
    },
    "tags": []
   },
   "outputs": [
    {
     "name": "stdout",
     "output_type": "stream",
     "text": [
      "2\n"
     ]
    }
   ],
   "source": [
    "# Majority element - Better\n",
    "arr: list[int] = [2, 2, 3, 3, 1, 2, 2]\n",
    "\n",
    "N = len(arr)\n",
    "counter: dict[int, int] = dict()\n",
    "\n",
    "for i in arr:\n",
    "    counter[i] = counter.get(i, 0) + 1\n",
    "    if counter[i] > N // 2:\n",
    "        print (i)\n",
    "        break\n",
    "else:\n",
    "    print (-1)"
   ]
  },
  {
   "cell_type": "markdown",
   "id": "9a783959",
   "metadata": {
    "papermill": {
     "duration": 0.002715,
     "end_time": "2024-03-06T13:45:09.784558",
     "exception": false,
     "start_time": "2024-03-06T13:45:09.781843",
     "status": "completed"
    },
    "tags": []
   },
   "source": [
    "Video Link: https://www.youtube.com/watch?v=vwZj1K0e9U8\n",
    "This can be solved with O(1) space in O(1) time by Moore's voting algorithm\n",
    "\n",
    "##### Moore's algorithm:\n",
    "```\n",
    "Have two variables - curr, count\n",
    "Iterate through array\n",
    "  If i == curr -> inc count else decrement it\n",
    "  If count == 0, curr = i, count = 1\n",
    "```\n",
    "\n",
    "As step 2 validate after iteration if curr is indeed the majority element"
   ]
  },
  {
   "cell_type": "code",
   "execution_count": 8,
   "id": "7d9408ac",
   "metadata": {
    "execution": {
     "iopub.execute_input": "2024-03-06T13:45:09.791066Z",
     "iopub.status.busy": "2024-03-06T13:45:09.790832Z",
     "iopub.status.idle": "2024-03-06T13:45:09.797382Z",
     "shell.execute_reply": "2024-03-06T13:45:09.796330Z"
    },
    "lines_to_next_cell": 1,
    "papermill": {
     "duration": 0.012212,
     "end_time": "2024-03-06T13:45:09.799380",
     "exception": false,
     "start_time": "2024-03-06T13:45:09.787168",
     "status": "completed"
    },
    "tags": []
   },
   "outputs": [
    {
     "name": "stdout",
     "output_type": "stream",
     "text": [
      "2\n"
     ]
    }
   ],
   "source": [
    "arr: list[int] = [2, 2, 3, 3, 1, 2, 2]\n",
    "N = len(arr)\n",
    "\n",
    "# Step 1: Run moore's voting algorithm\n",
    "curr, count = None, 0\n",
    "for i in arr:\n",
    "    if count == 0:\n",
    "        curr = i\n",
    "        count = 1\n",
    "    elif i == curr:\n",
    "        count += 1\n",
    "    else:\n",
    "        count -= 1\n",
    "\n",
    "# Step 2: Validate moore's result\n",
    "if count > 0:\n",
    "    count = 0\n",
    "    for i in arr:\n",
    "        if i == curr:\n",
    "            count += 1\n",
    "    if count > N // 2:\n",
    "        print (curr)\n",
    "    else:\n",
    "        print (-1)\n",
    "else:\n",
    "    print (-1)"
   ]
  },
  {
   "cell_type": "markdown",
   "id": "bd2d6454",
   "metadata": {
    "papermill": {
     "duration": 0.002562,
     "end_time": "2024-03-06T13:45:09.804712",
     "exception": false,
     "start_time": "2024-03-06T13:45:09.802150",
     "status": "completed"
    },
    "tags": []
   },
   "source": [
    "Video Link: https://www.youtube.com/watch?v=AHZpyENo7k4&list=PLgUwDviBIf0oF6QL8m22w1hIDC1vJ_BHz&index=24"
   ]
  },
  {
   "cell_type": "code",
   "execution_count": 9,
   "id": "39a84ac4",
   "metadata": {
    "execution": {
     "iopub.execute_input": "2024-03-06T13:45:09.813447Z",
     "iopub.status.busy": "2024-03-06T13:45:09.812552Z",
     "iopub.status.idle": "2024-03-06T13:45:09.819456Z",
     "shell.execute_reply": "2024-03-06T13:45:09.818583Z"
    },
    "lines_to_next_cell": 1,
    "papermill": {
     "duration": 0.013412,
     "end_time": "2024-03-06T13:45:09.821443",
     "exception": false,
     "start_time": "2024-03-06T13:45:09.808031",
     "status": "completed"
    },
    "tags": []
   },
   "outputs": [
    {
     "data": {
      "text/plain": [
       "7"
      ]
     },
     "execution_count": 9,
     "metadata": {},
     "output_type": "execute_result"
    }
   ],
   "source": [
    "# Maximum subarray sum - Brute Force\n",
    "def max_subarray_sum_brute(arr_: list[int]) -> int:\n",
    "    \"Time - O(N ^ 2), Space - O(1)\"\n",
    "    N = len(arr_)\n",
    "    max_ = -math.inf\n",
    "    for i in range(N):\n",
    "        sum_ = 0\n",
    "        for j in range(i, N):\n",
    "            sum_ += arr[j]\n",
    "            max_ = max(max_, sum_)\n",
    "    return max_\n",
    "\n",
    "arr: list[int] = [-2, -3, 4, -1, -2, 1, 5, -3]\n",
    "max_subarray_sum_brute(arr)"
   ]
  },
  {
   "cell_type": "code",
   "execution_count": 10,
   "id": "67730685",
   "metadata": {
    "execution": {
     "iopub.execute_input": "2024-03-06T13:45:09.829863Z",
     "iopub.status.busy": "2024-03-06T13:45:09.828847Z",
     "iopub.status.idle": "2024-03-06T13:45:09.836541Z",
     "shell.execute_reply": "2024-03-06T13:45:09.835665Z"
    },
    "papermill": {
     "duration": 0.014219,
     "end_time": "2024-03-06T13:45:09.838460",
     "exception": false,
     "start_time": "2024-03-06T13:45:09.824241",
     "status": "completed"
    },
    "tags": []
   },
   "outputs": [
    {
     "data": {
      "text/plain": [
       "(7, 2, 6)"
      ]
     },
     "execution_count": 10,
     "metadata": {},
     "output_type": "execute_result"
    }
   ],
   "source": [
    "# Maximum subarray sum - Optimal\n",
    "def max_subarray_sum_better(arr_: list[int]) -> int:\n",
    "    \"\"\"\n",
    "    Kadane's algorithm: drop sum if sum < 0 else carry it forward\n",
    "    Time - O(N), Space - O(1)\n",
    "    \"\"\"\n",
    "    N = len(arr_)\n",
    "    start_idx = 0\n",
    "\n",
    "    # If empty subarrays allowed else -math.info\n",
    "    # max_sum, start_idx, end_idx\n",
    "    max_ = -math.inf, None, None\n",
    "    sum_ = 0\n",
    "    for i in range(N):\n",
    "        sum_ += arr[i]\n",
    "        if sum_ > max_[0]:\n",
    "            max_ = sum_, start_idx, i\n",
    "        if sum_ < 0: # Every time we chose to drop the sum, reset the start idx\n",
    "            sum_ = 0\n",
    "            start_idx = i + 1\n",
    "    return max_\n",
    "\n",
    "arr: list[int] = [-2, -3, 4, -1, -2, 1, 5, -3]\n",
    "max_subarray_sum_better(arr)"
   ]
  },
  {
   "cell_type": "code",
   "execution_count": 11,
   "id": "26800f05",
   "metadata": {
    "execution": {
     "iopub.execute_input": "2024-03-06T13:45:09.845905Z",
     "iopub.status.busy": "2024-03-06T13:45:09.845353Z",
     "iopub.status.idle": "2024-03-06T13:45:09.849192Z",
     "shell.execute_reply": "2024-03-06T13:45:09.848009Z"
    },
    "papermill": {
     "duration": 0.009188,
     "end_time": "2024-03-06T13:45:09.850502",
     "exception": false,
     "start_time": "2024-03-06T13:45:09.841314",
     "status": "completed"
    },
    "tags": [],
    "title": "[markdowm]"
   },
   "outputs": [],
   "source": [
    "# Video Link: https://youtu.be/excAOvwF_Wk?si=gMRidcVfigxolP0g\n",
    "# Best time to buy and sell stocks"
   ]
  },
  {
   "cell_type": "code",
   "execution_count": 12,
   "id": "d0ab96d2",
   "metadata": {
    "execution": {
     "iopub.execute_input": "2024-03-06T13:45:09.858762Z",
     "iopub.status.busy": "2024-03-06T13:45:09.857850Z",
     "iopub.status.idle": "2024-03-06T13:45:09.863851Z",
     "shell.execute_reply": "2024-03-06T13:45:09.863057Z"
    },
    "papermill": {
     "duration": 0.012413,
     "end_time": "2024-03-06T13:45:09.865794",
     "exception": false,
     "start_time": "2024-03-06T13:45:09.853381",
     "status": "completed"
    },
    "tags": []
   },
   "outputs": [
    {
     "data": {
      "text/plain": [
       "5"
      ]
     },
     "execution_count": 12,
     "metadata": {},
     "output_type": "execute_result"
    }
   ],
   "source": [
    "# Brute force - O(N ^ 2)\n",
    "arr: list[int] = [7, 1, 5, 3, 6, 4]\n",
    "N = len(arr)\n",
    "max_ = -math.inf\n",
    "for i in range(N):\n",
    "    for j in range(i + 1, N):\n",
    "        max_ = max(max_, arr[j] - arr[i])\n",
    "max_"
   ]
  },
  {
   "cell_type": "code",
   "execution_count": 13,
   "id": "41896d89",
   "metadata": {
    "execution": {
     "iopub.execute_input": "2024-03-06T13:45:09.873407Z",
     "iopub.status.busy": "2024-03-06T13:45:09.873024Z",
     "iopub.status.idle": "2024-03-06T13:45:09.880285Z",
     "shell.execute_reply": "2024-03-06T13:45:09.879434Z"
    },
    "papermill": {
     "duration": 0.013301,
     "end_time": "2024-03-06T13:45:09.882060",
     "exception": false,
     "start_time": "2024-03-06T13:45:09.868759",
     "status": "completed"
    },
    "tags": []
   },
   "outputs": [
    {
     "data": {
      "text/plain": [
       "5"
      ]
     },
     "execution_count": 13,
     "metadata": {},
     "output_type": "execute_result"
    }
   ],
   "source": [
    "# Better solution: Time - O(N), Space - O(1)\n",
    "arr: list[int] = [7, 1, 5, 3, 6, 4]\n",
    "N = len(arr)\n",
    "\n",
    "max_ = -math.inf\n",
    "highest_ = arr[N - 1]\n",
    "i = N - 2\n",
    "while i >= 0:\n",
    "    max_ = max(max_, highest_ - arr[i])\n",
    "    highest_ = max(highest_, arr[i])\n",
    "    i -= 1\n",
    "max_"
   ]
  },
  {
   "cell_type": "markdown",
   "id": "3c63de23",
   "metadata": {
    "papermill": {
     "duration": 0.00305,
     "end_time": "2024-03-06T13:45:09.888219",
     "exception": false,
     "start_time": "2024-03-06T13:45:09.885169",
     "status": "completed"
    },
    "tags": []
   },
   "source": [
    "Video Link: https://youtu.be/h4aBagy4Uok?si=kTZx4kZSvEfrdO7o\n",
    "Rearrange elements by sign"
   ]
  },
  {
   "cell_type": "code",
   "execution_count": 14,
   "id": "31f5ec38",
   "metadata": {
    "execution": {
     "iopub.execute_input": "2024-03-06T13:45:09.896764Z",
     "iopub.status.busy": "2024-03-06T13:45:09.895839Z",
     "iopub.status.idle": "2024-03-06T13:45:09.904225Z",
     "shell.execute_reply": "2024-03-06T13:45:09.903372Z"
    },
    "papermill": {
     "duration": 0.014436,
     "end_time": "2024-03-06T13:45:09.905945",
     "exception": false,
     "start_time": "2024-03-06T13:45:09.891509",
     "status": "completed"
    },
    "tags": []
   },
   "outputs": [
    {
     "data": {
      "text/plain": [
       "[3, -2, 1, -5, 2, -4]"
      ]
     },
     "execution_count": 14,
     "metadata": {},
     "output_type": "execute_result"
    }
   ],
   "source": [
    "# Brute force: Time - O(N), Space - O(N)\n",
    "arr: list[int] = [3, 1, -2, -5, 2, -4]\n",
    "N = len(arr)\n",
    "arr1: list[int] = []\n",
    "arr2: list[int] = []\n",
    "for i in range(N):\n",
    "    if arr[i] > 0:\n",
    "        arr1.append(arr[i])\n",
    "    else:\n",
    "        arr2.append(arr[i])\n",
    "\n",
    "i = 0\n",
    "while i < N // 2:\n",
    "    arr[(2 * i)] = arr1[i]\n",
    "    arr[(2 * i) + 1] = arr2[i]\n",
    "    i += 1\n",
    "\n",
    "arr"
   ]
  },
  {
   "cell_type": "code",
   "execution_count": 15,
   "id": "c82df348",
   "metadata": {
    "execution": {
     "iopub.execute_input": "2024-03-06T13:45:09.914604Z",
     "iopub.status.busy": "2024-03-06T13:45:09.913802Z",
     "iopub.status.idle": "2024-03-06T13:45:09.921256Z",
     "shell.execute_reply": "2024-03-06T13:45:09.920404Z"
    },
    "lines_to_next_cell": 1,
    "papermill": {
     "duration": 0.013919,
     "end_time": "2024-03-06T13:45:09.922986",
     "exception": false,
     "start_time": "2024-03-06T13:45:09.909067",
     "status": "completed"
    },
    "tags": []
   },
   "outputs": [
    {
     "data": {
      "text/plain": [
       "[2, -1, 3, -3, 4, 1]"
      ]
     },
     "execution_count": 15,
     "metadata": {},
     "output_type": "execute_result"
    }
   ],
   "source": [
    "# Rearrange elements by sign, where len(+ve) != len(-ve)\n",
    "arr: list[int] = [-1, 2, 3, 4, -3, 1]\n",
    "\n",
    "# O(4N): Got tired :(\n",
    "arr1: list[int] = list(filter(lambda x: x > 0, arr))[::-1]\n",
    "arr2: list[int] = list(filter(lambda x: x < 0, arr))[::-1]\n",
    "\n",
    "i = 0\n",
    "while arr1 or arr2:\n",
    "    if arr1:\n",
    "        arr[i] = arr1.pop()\n",
    "        i += 1\n",
    "    if arr2:\n",
    "        arr[i] = arr2.pop()\n",
    "        i += 1\n",
    "\n",
    "arr"
   ]
  },
  {
   "cell_type": "markdown",
   "id": "319b376d",
   "metadata": {},
   "source": [
    "Video Link: https://www.youtube.com/watch?v=JDOXKqF60RQ&list=PLgUwDviBIf0oF6QL8m22w1hIDC1vJ_BHz&index=27\n",
    "Next Permutation"
   ]
  },
  {
   "cell_type": "code",
   "execution_count": null,
   "id": "19358d4f",
   "metadata": {
    "lines_to_next_cell": 1
   },
   "outputs": [],
   "source": [
    "# Brute Force\n",
    "def generate_perms(arr_: list[int]) -> list[list[int]]:\n",
    "    # Time - O(N!), Space - O(N!)\n",
    "    N = len(arr_)\n",
    "    if N <= 1:\n",
    "        return [arr_]\n",
    "    else:\n",
    "        result: list[list[int]] = []\n",
    "        for i in range(N):\n",
    "            for next_ in generate_perms(arr_[:i] + arr_[i+1:]):\n",
    "                result.append([arr_[i]] + next_)\n",
    "        return result\n",
    "\n",
    "# Testing the solution\n",
    "arr: list[int] = [1, 2, 3]\n",
    "arr1: list[list[int]] = sorted(generate_perms(arr))\n",
    "i = arr1.index(arr)\n",
    "arr1[i + 1] if i < len(arr1) - 1 else arr1[0]"
   ]
  },
  {
   "cell_type": "code",
   "execution_count": null,
   "id": "97d071df",
   "metadata": {},
   "outputs": [],
   "source": [
    "# Better\n",
    "def next_perm(arr_: list[int]) -> list[int]:\n",
    "\n",
    "    def reverse_(start: int, end: int):\n",
    "        while start < end:\n",
    "            arr_[start], arr_[end] = arr_[end], arr_[start]\n",
    "            start += 1\n",
    "            end -= 1\n",
    "\n",
    "    N = len(arr_)\n",
    "    max_ = arr_[N - 1]\n",
    "    i = N - 2\n",
    "    while i >= 0:\n",
    "        if arr_[i] < max_:\n",
    "            # Find minimum element inside slice that is greater than arr_[i]\n",
    "            min_idx = i + 1\n",
    "            for j in range(i + 1, N):\n",
    "                if arr_[j] > arr_[i] and arr_[j] <= arr_[min_idx]:\n",
    "                    min_idx = j\n",
    "            arr_[i], arr_[min_idx] = arr_[min_idx], arr_[i]\n",
    "            reverse_(i + 1, N - 1)\n",
    "            return arr_\n",
    "        else:\n",
    "            max_ = arr_[i]\n",
    "            i -= 1\n",
    "    else:\n",
    "        arr_.reverse()\n",
    "        return arr_\n",
    "\n",
    "# Testing the solution\n",
    "arr: list[int] = [2, 1, 5, 4, 3]\n",
    "next_perm(arr)"
   ]
  },
  {
   "cell_type": "markdown",
   "id": "c61e4105",
   "metadata": {},
   "source": [
    "Video Link: https://youtu.be/cHrH9CQ8pmY?si=Vl3mYSwTY727JgHV\n",
    "Leaders of an array"
   ]
  },
  {
   "cell_type": "code",
   "execution_count": null,
   "id": "0416042b",
   "metadata": {},
   "outputs": [],
   "source": [
    "# Time - O(N), Space - O(N)\n",
    "arr = [10, 22, 12, 3, 0, 6]\n",
    "\n",
    "N = len(arr)\n",
    "max_ = arr[N - 1]\n",
    "arr1 = [max_]\n",
    "i = N - 1\n",
    "while i >= 0:\n",
    "    if arr[i] > max_:\n",
    "        arr1.append(arr[i])\n",
    "        max_ = arr[i]\n",
    "    i -= 1\n",
    "\n",
    "arr1"
   ]
  }
 ],
 "metadata": {
  "kernelspec": {
   "display_name": "Python 3 (ipykernel)",
   "language": "python",
   "name": "python3"
  },
  "language_info": {
   "codemirror_mode": {
    "name": "ipython",
    "version": 3
   },
   "file_extension": ".py",
   "mimetype": "text/x-python",
   "name": "python",
   "nbconvert_exporter": "python",
   "pygments_lexer": "ipython3",
   "version": "3.10.13"
  },
  "papermill": {
   "default_parameters": {},
   "duration": 2.999048,
   "end_time": "2024-03-06T13:45:10.146856",
   "environment_variables": {},
   "exception": null,
   "input_path": "study/striver-A2Z/07-med-arrays.ipynb",
   "output_path": "study/striver-A2Z/07-med-arrays.ipynb",
   "parameters": {},
   "start_time": "2024-03-06T13:45:07.147808",
   "version": "2.4.0"
  }
 },
 "nbformat": 4,
 "nbformat_minor": 5
}
