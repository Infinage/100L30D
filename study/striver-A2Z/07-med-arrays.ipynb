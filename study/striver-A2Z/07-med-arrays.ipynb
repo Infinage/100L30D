{
 "cells": [
  {
   "cell_type": "code",
   "execution_count": 1,
   "id": "1fbe5a89",
   "metadata": {
    "execution": {
     "iopub.execute_input": "2024-03-11T02:37:55.275268Z",
     "iopub.status.busy": "2024-03-11T02:37:55.274726Z",
     "iopub.status.idle": "2024-03-11T02:37:55.284431Z",
     "shell.execute_reply": "2024-03-11T02:37:55.283781Z"
    },
    "lines_to_next_cell": 1,
    "papermill": {
     "duration": 0.021853,
     "end_time": "2024-03-11T02:37:55.286143",
     "exception": false,
     "start_time": "2024-03-11T02:37:55.264290",
     "status": "completed"
    },
    "tags": []
   },
   "outputs": [],
   "source": [
    "# Neccessary imports\n",
    "import functools\n",
    "import collections\n",
    "import math\n",
    "import random\n",
    "import pdb"
   ]
  },
  {
   "cell_type": "markdown",
   "id": "21da8de7",
   "metadata": {
    "papermill": {
     "duration": 0.008179,
     "end_time": "2024-03-11T02:37:55.302878",
     "exception": false,
     "start_time": "2024-03-11T02:37:55.294699",
     "status": "completed"
    },
    "tags": []
   },
   "source": [
    "Video Link: https://www.youtube.com/watch?v=UXDSeD9mN-k&list=PLgUwDviBIf0oF6QL8m22w1hIDC1vJ_BHz&index=22"
   ]
  },
  {
   "cell_type": "code",
   "execution_count": 2,
   "id": "2f902cd9",
   "metadata": {
    "execution": {
     "iopub.execute_input": "2024-03-11T02:37:55.320680Z",
     "iopub.status.busy": "2024-03-11T02:37:55.320160Z",
     "iopub.status.idle": "2024-03-11T02:37:55.330451Z",
     "shell.execute_reply": "2024-03-11T02:37:55.329827Z"
    },
    "lines_to_next_cell": 1,
    "papermill": {
     "duration": 0.020936,
     "end_time": "2024-03-11T02:37:55.332081",
     "exception": false,
     "start_time": "2024-03-11T02:37:55.311145",
     "status": "completed"
    },
    "tags": []
   },
   "outputs": [
    {
     "data": {
      "text/plain": [
       "(1, 3)"
      ]
     },
     "execution_count": 2,
     "metadata": {},
     "output_type": "execute_result"
    }
   ],
   "source": [
    "# Two Sum - Brute Force\n",
    "def two_sum_brute(arr_: list[int], target: int) -> tuple[int, int]:\n",
    "    \"Time complexity - O(N^2)\"\n",
    "    N = len(arr_)\n",
    "    for i in range(N - 1):\n",
    "        for j in range(i + 1, N):\n",
    "            if arr_[i] + arr_[j] == target:\n",
    "                return i, j\n",
    "    else:\n",
    "        return -1, -1\n",
    "\n",
    "two_sum_brute([2, 6, 5, 8, 11], 14)"
   ]
  },
  {
   "cell_type": "code",
   "execution_count": 3,
   "id": "f0629198",
   "metadata": {
    "execution": {
     "iopub.execute_input": "2024-03-11T02:37:55.349810Z",
     "iopub.status.busy": "2024-03-11T02:37:55.349574Z",
     "iopub.status.idle": "2024-03-11T02:37:55.357100Z",
     "shell.execute_reply": "2024-03-11T02:37:55.356335Z"
    },
    "lines_to_next_cell": 1,
    "papermill": {
     "duration": 0.018277,
     "end_time": "2024-03-11T02:37:55.358770",
     "exception": false,
     "start_time": "2024-03-11T02:37:55.340493",
     "status": "completed"
    },
    "tags": []
   },
   "outputs": [
    {
     "data": {
      "text/plain": [
       "(1, 3)"
      ]
     },
     "execution_count": 3,
     "metadata": {},
     "output_type": "execute_result"
    }
   ],
   "source": [
    "# Two sum - better\n",
    "def two_sum_better(arr_: list[int], target: int) -> tuple[int, int]:\n",
    "    \"Time compelexity - O(N), Space - O(N)\"\n",
    "    N = len(arr_)\n",
    "    dict_: dict[int, int] = {}\n",
    "    for i in range(N):\n",
    "        if target - arr_[i] in dict_:\n",
    "            result = i, dict_[target - arr_[i]]\n",
    "            return min(result), max(result)\n",
    "        dict_[arr_[i]] = i\n",
    "    return -1, -1\n",
    "\n",
    "two_sum_better([2, 6, 5, 8, 11], 14)"
   ]
  },
  {
   "cell_type": "code",
   "execution_count": 4,
   "id": "e337b5a1",
   "metadata": {
    "execution": {
     "iopub.execute_input": "2024-03-11T02:37:55.377167Z",
     "iopub.status.busy": "2024-03-11T02:37:55.376593Z",
     "iopub.status.idle": "2024-03-11T02:37:55.383969Z",
     "shell.execute_reply": "2024-03-11T02:37:55.383196Z"
    },
    "papermill": {
     "duration": 0.018289,
     "end_time": "2024-03-11T02:37:55.385567",
     "exception": false,
     "start_time": "2024-03-11T02:37:55.367278",
     "status": "completed"
    },
    "tags": []
   },
   "outputs": [
    {
     "data": {
      "text/plain": [
       "True"
      ]
     },
     "execution_count": 4,
     "metadata": {},
     "output_type": "execute_result"
    }
   ],
   "source": [
    "# Two sum - Optimal\n",
    "def two_sum_optimal(arr_: list[int], target: int) -> bool:\n",
    "    \"Time - O(N log N), Space - O(1)\"\n",
    "    arr_.sort()\n",
    "    N = len(arr_)\n",
    "    i, j = 0, N - 1\n",
    "    while i < j and j < N:\n",
    "        sum_ = arr_[i] + arr_[j]\n",
    "        if sum_ == target:\n",
    "            return True\n",
    "        elif sum_ < target:\n",
    "            i += 1\n",
    "        else:\n",
    "            j -= 1\n",
    "    return False\n",
    "\n",
    "two_sum_optimal([2, 6, 5, 8, 11], 14)"
   ]
  },
  {
   "cell_type": "markdown",
   "id": "5b551970",
   "metadata": {
    "papermill": {
     "duration": 0.008446,
     "end_time": "2024-03-11T02:37:55.402614",
     "exception": false,
     "start_time": "2024-03-11T02:37:55.394168",
     "status": "completed"
    },
    "tags": []
   },
   "source": [
    "Video Link: https://www.youtube.com/watch?v=tp8JIuCXBaU&list=PLgUwDviBIf0oF6QL8m22w1hIDC1vJ_BHz&index=22"
   ]
  },
  {
   "cell_type": "code",
   "execution_count": 5,
   "id": "6a698467",
   "metadata": {
    "execution": {
     "iopub.execute_input": "2024-03-11T02:37:55.421292Z",
     "iopub.status.busy": "2024-03-11T02:37:55.420830Z",
     "iopub.status.idle": "2024-03-11T02:37:55.428592Z",
     "shell.execute_reply": "2024-03-11T02:37:55.427756Z"
    },
    "lines_to_next_cell": 1,
    "papermill": {
     "duration": 0.018938,
     "end_time": "2024-03-11T02:37:55.430242",
     "exception": false,
     "start_time": "2024-03-11T02:37:55.411304",
     "status": "completed"
    },
    "tags": []
   },
   "outputs": [
    {
     "data": {
      "text/plain": [
       "[0, 0, 0, 0, 0, 1, 1, 1, 1, 2, 2, 2]"
      ]
     },
     "execution_count": 5,
     "metadata": {},
     "output_type": "execute_result"
    }
   ],
   "source": [
    "# Sort an array of 0s, 1s, 2s\n",
    "# Time - O(2N) - Better\n",
    "arr = [0, 1, 2, 0, 1, 2, 1, 2, 0, 0, 0, 1]\n",
    "\n",
    "N = len(arr)\n",
    "counter: dict[int, int] = dict()\n",
    "for j in arr:\n",
    "    counter[j] = counter.get(j, 0) + 1\n",
    "\n",
    "i = 0\n",
    "for j in [0, 1, 2]:\n",
    "    while counter[j]:\n",
    "        arr[i] = j\n",
    "        counter[j] -= 1\n",
    "        i += 1\n",
    "\n",
    "arr"
   ]
  },
  {
   "cell_type": "markdown",
   "id": "f50bbaee",
   "metadata": {
    "papermill": {
     "duration": 0.008559,
     "end_time": "2024-03-11T02:37:55.447552",
     "exception": false,
     "start_time": "2024-03-11T02:37:55.438993",
     "status": "completed"
    },
    "tags": []
   },
   "source": [
    "##### Dutch National Flag Algorithm<br>\n",
    "We can perform better than O(2N), by using this algorithm involving 3 pointers.\n",
    "\n",
    "Imagine having a hypothetical array:\n",
    "```\n",
    "      [0, 0, 0, 0, 1, 1, 1, 1, _, _, _, _, _, _, 2, 2, 2]\n",
    "                   L           M                 H\n",
    "\n",
    "L: low, M: mid, H: high\n",
    "```\n",
    "\n",
    "1. 0 - (low - 1): consists of only 0s\n",
    "2. low - (mid - 1): consists of onlys 1s \n",
    "3. mid - high: consists of unsorted numbers\n",
    "4. (high + 1) - (n - 1): consists of only 2s\n",
    "\n",
    "Imagine the provided array is from mid - high, to sort the array we manipulate the pointers"
   ]
  },
  {
   "cell_type": "code",
   "execution_count": 6,
   "id": "5b07cd07",
   "metadata": {
    "execution": {
     "iopub.execute_input": "2024-03-11T02:37:55.466189Z",
     "iopub.status.busy": "2024-03-11T02:37:55.465615Z",
     "iopub.status.idle": "2024-03-11T02:37:55.474744Z",
     "shell.execute_reply": "2024-03-11T02:37:55.474131Z"
    },
    "papermill": {
     "duration": 0.020178,
     "end_time": "2024-03-11T02:37:55.476381",
     "exception": false,
     "start_time": "2024-03-11T02:37:55.456203",
     "status": "completed"
    },
    "tags": []
   },
   "outputs": [
    {
     "data": {
      "text/plain": [
       "[0, 0, 0, 0, 0, 1, 1, 1, 1, 2, 2, 2]"
      ]
     },
     "execution_count": 6,
     "metadata": {},
     "output_type": "execute_result"
    }
   ],
   "source": [
    "# Sort an array of 0s, 1s, 2s\n",
    "# Time - O(N), Dutch National Flag Algorithm - Optimal\n",
    "def DNF(arr_: list[int]) -> None:\n",
    "    N = len(arr_)\n",
    "    low, mid, high = 0, 0, N - 1\n",
    "    while mid <= high:\n",
    "        if arr_[mid] == 0:\n",
    "            # Push it to where low is and inc both low and mid\n",
    "            arr_[low], arr_[mid] = arr_[mid], arr_[low]\n",
    "            low += 1\n",
    "            mid += 1\n",
    "        elif arr_[mid] == 1:\n",
    "            # It is in the right place, simply inc mid\n",
    "            mid += 1\n",
    "        else:\n",
    "            # Push to the right and decrement high, note that mid remains in the same spot\n",
    "            arr_[mid], arr_[high] = arr_[high], arr_[mid]\n",
    "            high -= 1\n",
    "\n",
    "# Testing the algorithm\n",
    "arr = [0, 1, 2, 0, 1, 2, 1, 2, 0, 0, 0, 1]\n",
    "DNF(arr)\n",
    "arr"
   ]
  },
  {
   "cell_type": "code",
   "execution_count": 7,
   "id": "eee184d6",
   "metadata": {
    "execution": {
     "iopub.execute_input": "2024-03-11T02:37:55.495532Z",
     "iopub.status.busy": "2024-03-11T02:37:55.494977Z",
     "iopub.status.idle": "2024-03-11T02:37:55.500653Z",
     "shell.execute_reply": "2024-03-11T02:37:55.499845Z"
    },
    "papermill": {
     "duration": 0.016876,
     "end_time": "2024-03-11T02:37:55.502320",
     "exception": false,
     "start_time": "2024-03-11T02:37:55.485444",
     "status": "completed"
    },
    "tags": []
   },
   "outputs": [
    {
     "name": "stdout",
     "output_type": "stream",
     "text": [
      "2\n"
     ]
    }
   ],
   "source": [
    "# Majority element - Better\n",
    "arr: list[int] = [2, 2, 3, 3, 1, 2, 2]\n",
    "\n",
    "N = len(arr)\n",
    "counter: dict[int, int] = dict()\n",
    "\n",
    "for i in arr:\n",
    "    counter[i] = counter.get(i, 0) + 1\n",
    "    if counter[i] > N // 2:\n",
    "        print (i)\n",
    "        break\n",
    "else:\n",
    "    print (-1)"
   ]
  },
  {
   "cell_type": "markdown",
   "id": "9a783959",
   "metadata": {
    "papermill": {
     "duration": 0.008954,
     "end_time": "2024-03-11T02:37:55.520336",
     "exception": false,
     "start_time": "2024-03-11T02:37:55.511382",
     "status": "completed"
    },
    "tags": []
   },
   "source": [
    "Video Link: https://www.youtube.com/watch?v=vwZj1K0e9U8\n",
    "This can be solved with O(1) space in O(1) time by Moore's voting algorithm\n",
    "\n",
    "##### Moore's algorithm:\n",
    "```\n",
    "Have two variables - curr, count\n",
    "Iterate through array\n",
    "  If i == curr -> inc count else decrement it\n",
    "  If count == 0, curr = i, count = 1\n",
    "```\n",
    "\n",
    "As step 2 validate after iteration if curr is indeed the majority element"
   ]
  },
  {
   "cell_type": "code",
   "execution_count": 8,
   "id": "7d9408ac",
   "metadata": {
    "execution": {
     "iopub.execute_input": "2024-03-11T02:37:55.539488Z",
     "iopub.status.busy": "2024-03-11T02:37:55.538871Z",
     "iopub.status.idle": "2024-03-11T02:37:55.545615Z",
     "shell.execute_reply": "2024-03-11T02:37:55.544964Z"
    },
    "lines_to_next_cell": 1,
    "papermill": {
     "duration": 0.017952,
     "end_time": "2024-03-11T02:37:55.547182",
     "exception": false,
     "start_time": "2024-03-11T02:37:55.529230",
     "status": "completed"
    },
    "tags": []
   },
   "outputs": [
    {
     "name": "stdout",
     "output_type": "stream",
     "text": [
      "2\n"
     ]
    }
   ],
   "source": [
    "arr: list[int] = [2, 2, 3, 3, 1, 2, 2]\n",
    "N = len(arr)\n",
    "\n",
    "# Step 1: Run moore's voting algorithm\n",
    "curr, count = None, 0\n",
    "for i in arr:\n",
    "    if count == 0:\n",
    "        curr = i\n",
    "        count = 1\n",
    "    elif i == curr:\n",
    "        count += 1\n",
    "    else:\n",
    "        count -= 1\n",
    "\n",
    "# Step 2: Validate moore's result\n",
    "if count > 0:\n",
    "    count = 0\n",
    "    for i in arr:\n",
    "        if i == curr:\n",
    "            count += 1\n",
    "    if count > N // 2:\n",
    "        print (curr)\n",
    "    else:\n",
    "        print (-1)\n",
    "else:\n",
    "    print (-1)"
   ]
  },
  {
   "cell_type": "markdown",
   "id": "bd2d6454",
   "metadata": {
    "papermill": {
     "duration": 0.010256,
     "end_time": "2024-03-11T02:37:55.566557",
     "exception": false,
     "start_time": "2024-03-11T02:37:55.556301",
     "status": "completed"
    },
    "tags": []
   },
   "source": [
    "Video Link: https://www.youtube.com/watch?v=AHZpyENo7k4&list=PLgUwDviBIf0oF6QL8m22w1hIDC1vJ_BHz&index=24"
   ]
  },
  {
   "cell_type": "code",
   "execution_count": 9,
   "id": "39a84ac4",
   "metadata": {
    "execution": {
     "iopub.execute_input": "2024-03-11T02:37:55.585951Z",
     "iopub.status.busy": "2024-03-11T02:37:55.585430Z",
     "iopub.status.idle": "2024-03-11T02:37:55.592562Z",
     "shell.execute_reply": "2024-03-11T02:37:55.591793Z"
    },
    "lines_to_next_cell": 1,
    "papermill": {
     "duration": 0.018682,
     "end_time": "2024-03-11T02:37:55.594218",
     "exception": false,
     "start_time": "2024-03-11T02:37:55.575536",
     "status": "completed"
    },
    "tags": []
   },
   "outputs": [
    {
     "data": {
      "text/plain": [
       "7"
      ]
     },
     "execution_count": 9,
     "metadata": {},
     "output_type": "execute_result"
    }
   ],
   "source": [
    "# Maximum subarray sum - Brute Force\n",
    "def max_subarray_sum_brute(arr_: list[int]) -> int:\n",
    "    \"Time - O(N ^ 2), Space - O(1)\"\n",
    "    N = len(arr_)\n",
    "    max_ = -math.inf\n",
    "    for i in range(N):\n",
    "        sum_ = 0\n",
    "        for j in range(i, N):\n",
    "            sum_ += arr[j]\n",
    "            max_ = max(max_, sum_)\n",
    "    return max_\n",
    "\n",
    "arr: list[int] = [-2, -3, 4, -1, -2, 1, 5, -3]\n",
    "max_subarray_sum_brute(arr)"
   ]
  },
  {
   "cell_type": "code",
   "execution_count": 10,
   "id": "67730685",
   "metadata": {
    "execution": {
     "iopub.execute_input": "2024-03-11T02:37:55.615671Z",
     "iopub.status.busy": "2024-03-11T02:37:55.615167Z",
     "iopub.status.idle": "2024-03-11T02:37:55.623186Z",
     "shell.execute_reply": "2024-03-11T02:37:55.622482Z"
    },
    "papermill": {
     "duration": 0.019862,
     "end_time": "2024-03-11T02:37:55.625046",
     "exception": false,
     "start_time": "2024-03-11T02:37:55.605184",
     "status": "completed"
    },
    "tags": []
   },
   "outputs": [
    {
     "data": {
      "text/plain": [
       "(7, 2, 6)"
      ]
     },
     "execution_count": 10,
     "metadata": {},
     "output_type": "execute_result"
    }
   ],
   "source": [
    "# Maximum subarray sum - Optimal\n",
    "def max_subarray_sum_better(arr_: list[int]) -> int:\n",
    "    \"\"\"\n",
    "    Kadane's algorithm: drop sum if sum < 0 else carry it forward\n",
    "    Time - O(N), Space - O(1)\n",
    "    \"\"\"\n",
    "    N = len(arr_)\n",
    "    start_idx = 0\n",
    "\n",
    "    # If empty subarrays allowed else -math.info\n",
    "    # max_sum, start_idx, end_idx\n",
    "    max_ = -math.inf, None, None\n",
    "    sum_ = 0\n",
    "    for i in range(N):\n",
    "        sum_ += arr[i]\n",
    "        if sum_ > max_[0]:\n",
    "            max_ = sum_, start_idx, i\n",
    "        if sum_ < 0: # Every time we chose to drop the sum, reset the start idx\n",
    "            sum_ = 0\n",
    "            start_idx = i + 1\n",
    "    return max_\n",
    "\n",
    "arr: list[int] = [-2, -3, 4, -1, -2, 1, 5, -3]\n",
    "max_subarray_sum_better(arr)"
   ]
  },
  {
   "cell_type": "code",
   "execution_count": 11,
   "id": "26800f05",
   "metadata": {
    "execution": {
     "iopub.execute_input": "2024-03-11T02:37:55.646321Z",
     "iopub.status.busy": "2024-03-11T02:37:55.645660Z",
     "iopub.status.idle": "2024-03-11T02:37:55.649243Z",
     "shell.execute_reply": "2024-03-11T02:37:55.648644Z"
    },
    "papermill": {
     "duration": 0.015261,
     "end_time": "2024-03-11T02:37:55.650817",
     "exception": false,
     "start_time": "2024-03-11T02:37:55.635556",
     "status": "completed"
    },
    "tags": [],
    "title": "[markdowm]"
   },
   "outputs": [],
   "source": [
    "# Video Link: https://youtu.be/excAOvwF_Wk?si=gMRidcVfigxolP0g\n",
    "# Best time to buy and sell stocks"
   ]
  },
  {
   "cell_type": "code",
   "execution_count": 12,
   "id": "d0ab96d2",
   "metadata": {
    "execution": {
     "iopub.execute_input": "2024-03-11T02:37:55.671683Z",
     "iopub.status.busy": "2024-03-11T02:37:55.671451Z",
     "iopub.status.idle": "2024-03-11T02:37:55.677787Z",
     "shell.execute_reply": "2024-03-11T02:37:55.677060Z"
    },
    "papermill": {
     "duration": 0.018022,
     "end_time": "2024-03-11T02:37:55.679426",
     "exception": false,
     "start_time": "2024-03-11T02:37:55.661404",
     "status": "completed"
    },
    "tags": []
   },
   "outputs": [
    {
     "data": {
      "text/plain": [
       "5"
      ]
     },
     "execution_count": 12,
     "metadata": {},
     "output_type": "execute_result"
    }
   ],
   "source": [
    "# Brute force - O(N ^ 2)\n",
    "arr: list[int] = [7, 1, 5, 3, 6, 4]\n",
    "N = len(arr)\n",
    "max_ = -math.inf\n",
    "for i in range(N):\n",
    "    for j in range(i + 1, N):\n",
    "        max_ = max(max_, arr[j] - arr[i])\n",
    "max_"
   ]
  },
  {
   "cell_type": "code",
   "execution_count": 13,
   "id": "41896d89",
   "metadata": {
    "execution": {
     "iopub.execute_input": "2024-03-11T02:37:55.701325Z",
     "iopub.status.busy": "2024-03-11T02:37:55.700872Z",
     "iopub.status.idle": "2024-03-11T02:37:55.707790Z",
     "shell.execute_reply": "2024-03-11T02:37:55.707018Z"
    },
    "papermill": {
     "duration": 0.018962,
     "end_time": "2024-03-11T02:37:55.709526",
     "exception": false,
     "start_time": "2024-03-11T02:37:55.690564",
     "status": "completed"
    },
    "tags": []
   },
   "outputs": [
    {
     "data": {
      "text/plain": [
       "5"
      ]
     },
     "execution_count": 13,
     "metadata": {},
     "output_type": "execute_result"
    }
   ],
   "source": [
    "# Better solution: Time - O(N), Space - O(1)\n",
    "arr: list[int] = [7, 1, 5, 3, 6, 4]\n",
    "N = len(arr)\n",
    "\n",
    "max_ = -math.inf\n",
    "highest_ = arr[N - 1]\n",
    "i = N - 2\n",
    "while i >= 0:\n",
    "    max_ = max(max_, highest_ - arr[i])\n",
    "    highest_ = max(highest_, arr[i])\n",
    "    i -= 1\n",
    "max_"
   ]
  },
  {
   "cell_type": "markdown",
   "id": "3c63de23",
   "metadata": {
    "papermill": {
     "duration": 0.009405,
     "end_time": "2024-03-11T02:37:55.729873",
     "exception": false,
     "start_time": "2024-03-11T02:37:55.720468",
     "status": "completed"
    },
    "tags": []
   },
   "source": [
    "Video Link: https://youtu.be/h4aBagy4Uok?si=kTZx4kZSvEfrdO7o\n",
    "Rearrange elements by sign"
   ]
  },
  {
   "cell_type": "code",
   "execution_count": 14,
   "id": "31f5ec38",
   "metadata": {
    "execution": {
     "iopub.execute_input": "2024-03-11T02:37:55.750246Z",
     "iopub.status.busy": "2024-03-11T02:37:55.749954Z",
     "iopub.status.idle": "2024-03-11T02:37:55.758106Z",
     "shell.execute_reply": "2024-03-11T02:37:55.757435Z"
    },
    "papermill": {
     "duration": 0.020182,
     "end_time": "2024-03-11T02:37:55.759721",
     "exception": false,
     "start_time": "2024-03-11T02:37:55.739539",
     "status": "completed"
    },
    "tags": []
   },
   "outputs": [
    {
     "data": {
      "text/plain": [
       "[3, -2, 1, -5, 2, -4]"
      ]
     },
     "execution_count": 14,
     "metadata": {},
     "output_type": "execute_result"
    }
   ],
   "source": [
    "# Brute force: Time - O(N), Space - O(N)\n",
    "arr: list[int] = [3, 1, -2, -5, 2, -4]\n",
    "N = len(arr)\n",
    "arr1: list[int] = []\n",
    "arr2: list[int] = []\n",
    "for i in range(N):\n",
    "    if arr[i] > 0:\n",
    "        arr1.append(arr[i])\n",
    "    else:\n",
    "        arr2.append(arr[i])\n",
    "\n",
    "i = 0\n",
    "while i < N // 2:\n",
    "    arr[(2 * i)] = arr1[i]\n",
    "    arr[(2 * i) + 1] = arr2[i]\n",
    "    i += 1\n",
    "\n",
    "arr"
   ]
  },
  {
   "cell_type": "code",
   "execution_count": 15,
   "id": "c82df348",
   "metadata": {
    "execution": {
     "iopub.execute_input": "2024-03-11T02:37:55.781765Z",
     "iopub.status.busy": "2024-03-11T02:37:55.781139Z",
     "iopub.status.idle": "2024-03-11T02:37:55.789297Z",
     "shell.execute_reply": "2024-03-11T02:37:55.788668Z"
    },
    "lines_to_next_cell": 1,
    "papermill": {
     "duration": 0.020208,
     "end_time": "2024-03-11T02:37:55.790899",
     "exception": false,
     "start_time": "2024-03-11T02:37:55.770691",
     "status": "completed"
    },
    "tags": []
   },
   "outputs": [
    {
     "data": {
      "text/plain": [
       "[2, -1, 3, -3, 4, 1]"
      ]
     },
     "execution_count": 15,
     "metadata": {},
     "output_type": "execute_result"
    }
   ],
   "source": [
    "# Rearrange elements by sign, where len(+ve) != len(-ve)\n",
    "arr: list[int] = [-1, 2, 3, 4, -3, 1]\n",
    "\n",
    "# O(4N): Got tired :(\n",
    "arr1: list[int] = list(filter(lambda x: x > 0, arr))[::-1]\n",
    "arr2: list[int] = list(filter(lambda x: x < 0, arr))[::-1]\n",
    "\n",
    "i = 0\n",
    "while arr1 or arr2:\n",
    "    if arr1:\n",
    "        arr[i] = arr1.pop()\n",
    "        i += 1\n",
    "    if arr2:\n",
    "        arr[i] = arr2.pop()\n",
    "        i += 1\n",
    "\n",
    "arr"
   ]
  },
  {
   "cell_type": "markdown",
   "id": "319b376d",
   "metadata": {
    "papermill": {
     "duration": 0.009682,
     "end_time": "2024-03-11T02:37:55.812021",
     "exception": false,
     "start_time": "2024-03-11T02:37:55.802339",
     "status": "completed"
    },
    "tags": []
   },
   "source": [
    "Video Link: https://www.youtube.com/watch?v=JDOXKqF60RQ&list=PLgUwDviBIf0oF6QL8m22w1hIDC1vJ_BHz&index=27\n",
    "Next Permutation"
   ]
  },
  {
   "cell_type": "code",
   "execution_count": 16,
   "id": "19358d4f",
   "metadata": {
    "execution": {
     "iopub.execute_input": "2024-03-11T02:37:55.833011Z",
     "iopub.status.busy": "2024-03-11T02:37:55.832424Z",
     "iopub.status.idle": "2024-03-11T02:37:55.841065Z",
     "shell.execute_reply": "2024-03-11T02:37:55.840440Z"
    },
    "lines_to_next_cell": 1,
    "papermill": {
     "duration": 0.020868,
     "end_time": "2024-03-11T02:37:55.842674",
     "exception": false,
     "start_time": "2024-03-11T02:37:55.821806",
     "status": "completed"
    },
    "tags": []
   },
   "outputs": [
    {
     "data": {
      "text/plain": [
       "[1, 3, 2]"
      ]
     },
     "execution_count": 16,
     "metadata": {},
     "output_type": "execute_result"
    }
   ],
   "source": [
    "# Brute Force\n",
    "def generate_perms(arr_: list[int]) -> list[list[int]]:\n",
    "    # Time - O(N!), Space - O(N!)\n",
    "    N = len(arr_)\n",
    "    if N <= 1:\n",
    "        return [arr_]\n",
    "    else:\n",
    "        result: list[list[int]] = []\n",
    "        for i in range(N):\n",
    "            for next_ in generate_perms(arr_[:i] + arr_[i+1:]):\n",
    "                result.append([arr_[i]] + next_)\n",
    "        return result\n",
    "\n",
    "# Testing the solution\n",
    "arr: list[int] = [1, 2, 3]\n",
    "arr1: list[list[int]] = sorted(generate_perms(arr))\n",
    "i = arr1.index(arr)\n",
    "arr1[i + 1] if i < len(arr1) - 1 else arr1[0]"
   ]
  },
  {
   "cell_type": "code",
   "execution_count": 17,
   "id": "97d071df",
   "metadata": {
    "execution": {
     "iopub.execute_input": "2024-03-11T02:37:55.865435Z",
     "iopub.status.busy": "2024-03-11T02:37:55.864906Z",
     "iopub.status.idle": "2024-03-11T02:37:55.875233Z",
     "shell.execute_reply": "2024-03-11T02:37:55.874452Z"
    },
    "papermill": {
     "duration": 0.022605,
     "end_time": "2024-03-11T02:37:55.876862",
     "exception": false,
     "start_time": "2024-03-11T02:37:55.854257",
     "status": "completed"
    },
    "tags": []
   },
   "outputs": [
    {
     "data": {
      "text/plain": [
       "[2, 3, 1, 4, 5]"
      ]
     },
     "execution_count": 17,
     "metadata": {},
     "output_type": "execute_result"
    }
   ],
   "source": [
    "# Better\n",
    "def next_perm(arr_: list[int]) -> list[int]:\n",
    "\n",
    "    def reverse_(start: int, end: int):\n",
    "        while start < end:\n",
    "            arr_[start], arr_[end] = arr_[end], arr_[start]\n",
    "            start += 1\n",
    "            end -= 1\n",
    "\n",
    "    N = len(arr_)\n",
    "    max_ = arr_[N - 1]\n",
    "    i = N - 2\n",
    "    while i >= 0:\n",
    "        if arr_[i] < max_:\n",
    "            # Find minimum element inside slice that is greater than arr_[i]\n",
    "            min_idx = i + 1\n",
    "            for j in range(i + 1, N):\n",
    "                if arr_[j] > arr_[i] and arr_[j] <= arr_[min_idx]:\n",
    "                    min_idx = j\n",
    "            arr_[i], arr_[min_idx] = arr_[min_idx], arr_[i]\n",
    "            reverse_(i + 1, N - 1)\n",
    "            return arr_\n",
    "        else:\n",
    "            max_ = arr_[i]\n",
    "            i -= 1\n",
    "    else:\n",
    "        arr_.reverse()\n",
    "        return arr_\n",
    "\n",
    "# Testing the solution\n",
    "arr: list[int] = [2, 1, 5, 4, 3]\n",
    "next_perm(arr)"
   ]
  },
  {
   "cell_type": "markdown",
   "id": "c61e4105",
   "metadata": {
    "papermill": {
     "duration": 0.00988,
     "end_time": "2024-03-11T02:37:55.898131",
     "exception": false,
     "start_time": "2024-03-11T02:37:55.888251",
     "status": "completed"
    },
    "tags": []
   },
   "source": [
    "Video Link: https://youtu.be/cHrH9CQ8pmY?si=Vl3mYSwTY727JgHV\n",
    "Leaders of an array"
   ]
  },
  {
   "cell_type": "code",
   "execution_count": 18,
   "id": "0416042b",
   "metadata": {
    "execution": {
     "iopub.execute_input": "2024-03-11T02:37:55.919510Z",
     "iopub.status.busy": "2024-03-11T02:37:55.918837Z",
     "iopub.status.idle": "2024-03-11T02:37:55.925462Z",
     "shell.execute_reply": "2024-03-11T02:37:55.924748Z"
    },
    "lines_to_next_cell": 1,
    "papermill": {
     "duration": 0.019029,
     "end_time": "2024-03-11T02:37:55.927167",
     "exception": false,
     "start_time": "2024-03-11T02:37:55.908138",
     "status": "completed"
    },
    "tags": []
   },
   "outputs": [
    {
     "data": {
      "text/plain": [
       "[6, 12, 22]"
      ]
     },
     "execution_count": 18,
     "metadata": {},
     "output_type": "execute_result"
    }
   ],
   "source": [
    "# Time - O(N), Space - O(N)\n",
    "arr = [10, 22, 12, 3, 0, 6]\n",
    "\n",
    "N = len(arr)\n",
    "max_ = arr[N - 1]\n",
    "arr1 = [max_]\n",
    "i = N - 1\n",
    "while i >= 0:\n",
    "    if arr[i] > max_:\n",
    "        arr1.append(arr[i])\n",
    "        max_ = arr[i]\n",
    "    i -= 1\n",
    "\n",
    "arr1"
   ]
  },
  {
   "cell_type": "markdown",
   "id": "c084b1a7",
   "metadata": {
    "lines_to_next_cell": 0,
    "papermill": {
     "duration": 0.010015,
     "end_time": "2024-03-11T02:37:55.948879",
     "exception": false,
     "start_time": "2024-03-11T02:37:55.938864",
     "status": "completed"
    },
    "tags": []
   },
   "source": []
  },
  {
   "cell_type": "code",
   "execution_count": 19,
   "id": "0621b858",
   "metadata": {
    "execution": {
     "iopub.execute_input": "2024-03-11T02:37:55.971013Z",
     "iopub.status.busy": "2024-03-11T02:37:55.970266Z",
     "iopub.status.idle": "2024-03-11T02:37:55.974128Z",
     "shell.execute_reply": "2024-03-11T02:37:55.973521Z"
    },
    "incorrectly_encoded_metadata": "https://www.youtube.com/watch?v=oO5uLE7EUlM&list=PLgUwDviBIf0oF6QL8m22w1hIDC1vJ_BHz&index=29",
    "papermill": {
     "duration": 0.016558,
     "end_time": "2024-03-11T02:37:55.975721",
     "exception": false,
     "start_time": "2024-03-11T02:37:55.959163",
     "status": "completed"
    },
    "tags": [],
    "title": "Video Link:"
   },
   "outputs": [],
   "source": [
    "# Longest Common subsequence"
   ]
  },
  {
   "cell_type": "code",
   "execution_count": 20,
   "id": "49f655a3",
   "metadata": {
    "execution": {
     "iopub.execute_input": "2024-03-11T02:37:55.997998Z",
     "iopub.status.busy": "2024-03-11T02:37:55.997758Z",
     "iopub.status.idle": "2024-03-11T02:37:56.005198Z",
     "shell.execute_reply": "2024-03-11T02:37:56.004563Z"
    },
    "lines_to_next_cell": 1,
    "papermill": {
     "duration": 0.019879,
     "end_time": "2024-03-11T02:37:56.006712",
     "exception": false,
     "start_time": "2024-03-11T02:37:55.986833",
     "status": "completed"
    },
    "tags": []
   },
   "outputs": [],
   "source": [
    "class Solution:\n",
    "    def longestConsecutive(self, nums: list[int]) -> int:\n",
    "        counter: dict[int, int] = {n: 1 for n in nums}\n",
    "        for n in nums:\n",
    "            if n in counter:\n",
    "                count = counter[n]\n",
    "                curr = n\n",
    "                while curr + 1 in counter:\n",
    "                    count += counter.pop(curr + 1)\n",
    "                    curr += 1\n",
    "                counter[n] = count\n",
    "\n",
    "        return max(counter.values()) if counter else 0\n",
    "\n",
    "# Testing the solution\n",
    "assert Solution().longestConsecutive([100,4,200,1,3,2]) == 4\n",
    "assert Solution().longestConsecutive([0,3,7,2,5,8,4,6,0,1]) == 9\n",
    "assert Solution().longestConsecutive([1,2,2,3]) == 3\n",
    "assert Solution().longestConsecutive([1,1,1,1,2,2,2,3,3,3,3]) == 3"
   ]
  },
  {
   "cell_type": "markdown",
   "id": "de8b0b7b",
   "metadata": {
    "papermill": {
     "duration": 0.00991,
     "end_time": "2024-03-11T02:37:56.027514",
     "exception": false,
     "start_time": "2024-03-11T02:37:56.017604",
     "status": "completed"
    },
    "tags": []
   },
   "source": [
    "Video Link: https://www.youtube.com/watch?v=N0MgLvceX7M&list=PLgUwDviBIf0oF6QL8m22w1hIDC1vJ_BHz&index=30\n",
    "Set Matrix 0s"
   ]
  },
  {
   "cell_type": "code",
   "execution_count": 21,
   "id": "49680d8b",
   "metadata": {
    "execution": {
     "iopub.execute_input": "2024-03-11T02:37:56.049107Z",
     "iopub.status.busy": "2024-03-11T02:37:56.048467Z",
     "iopub.status.idle": "2024-03-11T02:37:56.065533Z",
     "shell.execute_reply": "2024-03-11T02:37:56.064902Z"
    },
    "lines_to_next_cell": 1,
    "papermill": {
     "duration": 0.029491,
     "end_time": "2024-03-11T02:37:56.067121",
     "exception": false,
     "start_time": "2024-03-11T02:37:56.037630",
     "status": "completed"
    },
    "tags": []
   },
   "outputs": [
    {
     "name": "stdout",
     "output_type": "stream",
     "text": [
      "[[1, 0, 1], [0, 0, 0], [1, 0, 1]]\n"
     ]
    }
   ],
   "source": [
    "# Brute force - O((M * N)(M + N))\n",
    "class Solution:\n",
    "    def setZeroes(self, matrix: list[list[int]]) -> None:\n",
    "        \"\"\"\n",
    "        Do not return anything, modify matrix in-place instead.\n",
    "        \"\"\"\n",
    "\n",
    "        def BFS(i: int, j: int):\n",
    "            for k in range(M):\n",
    "                matrix[k][j] = 2\n",
    "            for k in range(N):\n",
    "                matrix[i][k] = 2\n",
    "\n",
    "        M, N = len(matrix), len(matrix[0])\n",
    "        for i in range(M):\n",
    "            for j in range(N):\n",
    "                if matrix[i][j] == 0:\n",
    "                    BFS(i, j)\n",
    "\n",
    "        for i in range(M):\n",
    "            for j in range(N):\n",
    "                if matrix[i][j] == 2:\n",
    "                    matrix[i][j] = 0\n",
    "\n",
    "        print (matrix)\n",
    "\n",
    "# Testing the solution\n",
    "temp = [[1,1,1],[1,0,1],[1,1,1]]\n",
    "Solution().setZeroes(temp)\n",
    "assert temp == [[1,0,1],[0,0,0],[1,0,1]]\n",
    "\n",
    "# Better solution\n",
    "class Solution:\n",
    "    def setZeroes(self, matrix: list[list[int]]) -> None:\n",
    "        M, N = len(matrix), len(matrix[0])\n",
    "\n",
    "        row0 = 1\n",
    "        for i in range(M):\n",
    "            for j in range(N):\n",
    "                if matrix[i][j] == 0:\n",
    "                    if i == 0:\n",
    "                        row0 = 0\n",
    "                    else:\n",
    "                        matrix[i][0] = 0\n",
    "                    matrix[0][j] = 0\n",
    "\n",
    "        for i in range(1, M):\n",
    "            for j in range(1, N):\n",
    "                if matrix[0][j] == 0:\n",
    "                    matrix[i][j] = 0\n",
    "                if matrix[i][0] == 0:\n",
    "                    matrix[i][j] = 0\n",
    "\n",
    "        if row0 == 0:\n",
    "            for j in range(1, N):\n",
    "                matrix[0][j] = 0\n",
    "\n",
    "        if matrix[0][0] == 0:\n",
    "            for i in range(M):\n",
    "                matrix[i][0] = 0\n",
    "\n",
    "        matrix[0][0] = 0 if row0 == 0 else matrix[0][0]\n",
    "\n",
    "# Testing the solution\n",
    "for temp in (\n",
    "    [[[1,1,1],[1,0,1],[1,1,1]], [[1,0,1],[0,0,0],[1,0,1]]],\n",
    "    [[[0,1,2,0],[3,4,5,2],[1,3,1,5]], [[0,0,0,0],[0,4,5,0],[0,3,1,0]]],\n",
    "    [[[-4,10,6,-7,0],[-8,6,-8,-6,0],[3,2,-9,-6,-10]], [[0,0,0,0,0],[0,0,0,0,0],[3,2,-9,-6,0]]]\n",
    "):\n",
    "    Solution().setZeroes(temp[0])\n",
    "    assert temp[0] == temp[1]"
   ]
  },
  {
   "cell_type": "markdown",
   "id": "bb05528f",
   "metadata": {
    "papermill": {
     "duration": 0.010158,
     "end_time": "2024-03-11T02:37:56.088819",
     "exception": false,
     "start_time": "2024-03-11T02:37:56.078661",
     "status": "completed"
    },
    "tags": []
   },
   "source": [
    "Video Link: https://www.youtube.com/watch?v=Z0R2u6gd3GU&list=PLgUwDviBIf0oF6QL8m22w1hIDC1vJ_BHz&index=31\n",
    "Rotate image by 90 deg"
   ]
  },
  {
   "cell_type": "code",
   "execution_count": 22,
   "id": "def229bc",
   "metadata": {
    "execution": {
     "iopub.execute_input": "2024-03-11T02:37:56.112183Z",
     "iopub.status.busy": "2024-03-11T02:37:56.111430Z",
     "iopub.status.idle": "2024-03-11T02:37:56.120692Z",
     "shell.execute_reply": "2024-03-11T02:37:56.120065Z"
    },
    "lines_to_next_cell": 1,
    "papermill": {
     "duration": 0.021944,
     "end_time": "2024-03-11T02:37:56.122337",
     "exception": false,
     "start_time": "2024-03-11T02:37:56.100393",
     "status": "completed"
    },
    "tags": []
   },
   "outputs": [],
   "source": [
    "class Solution:\n",
    "    def rotate(self, matrix: list[list[int]]) -> None:\n",
    "        \"\"\"\n",
    "        N = 4, i = 0\n",
    "\n",
    "        j = 0: (0, 0), (0, 3), (3, 3), (3, 0)\n",
    "        j = 1: (0, 1), (1, 3), (3, 2), (2, 0)\n",
    "        j = 2: (0, 2), (2, 3), (3, 1), (1, 0)\n",
    "\n",
    "        N = 4, i = 1\n",
    "\n",
    "        j = 1: (1, 1), (1, 2), (2, 2), (2, 1)\n",
    "\n",
    "        Generally put: (i, j), (j, N - i - 1), (N - i - 1, N - j - 1), (N - j - 1, i)\n",
    "        \"\"\"\n",
    "\n",
    "        N = len(matrix)\n",
    "        for i in range(math.ceil(N / 2)):\n",
    "            for j in range(i, N - 1 - i):\n",
    "                i_, j_ = N - i - 1, N - j - 1\n",
    "                matrix[i][j], matrix[j][i_], matrix[i_][j_], matrix[j_][i] = matrix[j_][i], matrix[i][j], matrix[j][i_], matrix[i_][j_]\n",
    "\n",
    "\n",
    "# Testing the solution\n",
    "for temp in (\n",
    "    [[[1,2,3],[4,5,6],[7,8,9]], [[7,4,1],[8,5,2],[9,6,3]]],\n",
    "    [[[5,1,9,11],[2,4,8,10],[13,3,6,7],[15,14,12,16]], [[15,13,2,5],[14,3,4,1],[12,6,8,9],[16,7,10,11]]]\n",
    "):\n",
    "    Solution().rotate(temp[0])\n",
    "    assert temp[0] == temp[1]"
   ]
  },
  {
   "cell_type": "code",
   "execution_count": 23,
   "id": "a6c38a1b",
   "metadata": {
    "execution": {
     "iopub.execute_input": "2024-03-11T02:37:56.145026Z",
     "iopub.status.busy": "2024-03-11T02:37:56.144560Z",
     "iopub.status.idle": "2024-03-11T02:37:56.153502Z",
     "shell.execute_reply": "2024-03-11T02:37:56.152771Z"
    },
    "lines_to_next_cell": 1,
    "papermill": {
     "duration": 0.021524,
     "end_time": "2024-03-11T02:37:56.155091",
     "exception": false,
     "start_time": "2024-03-11T02:37:56.133567",
     "status": "completed"
    },
    "tags": []
   },
   "outputs": [],
   "source": [
    "# Solution from striver\n",
    "class Solution:\n",
    "    def rotate(self, matrix: list[list[int]]) -> None:\n",
    "        \"\"\"\n",
    "        1. Transpose the matrix\n",
    "        2. Reverse each row elements\n",
    "        \"\"\"\n",
    "\n",
    "        N = len(matrix)\n",
    "\n",
    "        # Transpose the matrix\n",
    "        for i in range(N):\n",
    "            for j in range(i, N):\n",
    "                matrix[i][j], matrix[j][i] = matrix[j][i], matrix[i][j]\n",
    "\n",
    "        # Reverse each row \n",
    "        for i in range(N):\n",
    "            for j in range(N // 2):\n",
    "                matrix[i][j], matrix[i][N - j - 1] = matrix[i][N - j - 1], matrix[i][j]\n",
    "\n",
    "\n",
    "# Testing the solution\n",
    "for temp in (\n",
    "    [[[1,2,3],[4,5,6],[7,8,9]], [[7,4,1],[8,5,2],[9,6,3]]],\n",
    "    [[[5,1,9,11],[2,4,8,10],[13,3,6,7],[15,14,12,16]], [[15,13,2,5],[14,3,4,1],[12,6,8,9],[16,7,10,11]]]\n",
    "):\n",
    "    Solution().rotate(temp[0])\n",
    "    assert temp[0] == temp[1]"
   ]
  },
  {
   "cell_type": "markdown",
   "id": "2b214952",
   "metadata": {
    "papermill": {
     "duration": 0.010126,
     "end_time": "2024-03-11T02:37:56.176501",
     "exception": false,
     "start_time": "2024-03-11T02:37:56.166375",
     "status": "completed"
    },
    "tags": []
   },
   "source": [
    "Video Link: https://www.youtube.com/watch?v=3Zv-s9UUrFM&list=PLgUwDviBIf0oF6QL8m22w1hIDC1vJ_BHz&index=32\n",
    "Spiral matrix"
   ]
  },
  {
   "cell_type": "code",
   "execution_count": 24,
   "id": "670d322e",
   "metadata": {
    "execution": {
     "iopub.execute_input": "2024-03-11T02:37:56.198454Z",
     "iopub.status.busy": "2024-03-11T02:37:56.197866Z",
     "iopub.status.idle": "2024-03-11T02:37:56.210167Z",
     "shell.execute_reply": "2024-03-11T02:37:56.209441Z"
    },
    "lines_to_next_cell": 1,
    "papermill": {
     "duration": 0.025055,
     "end_time": "2024-03-11T02:37:56.211903",
     "exception": false,
     "start_time": "2024-03-11T02:37:56.186848",
     "status": "completed"
    },
    "tags": []
   },
   "outputs": [],
   "source": [
    "class Solution:\n",
    "    def spiralOrder(self, matrix: list[list[int | None]]) -> list[int | None]:\n",
    "        M, N = len(matrix), len(matrix[0])\n",
    "        i, j = 0, 0\n",
    "        result: list[int | None] = []\n",
    "        while i < M and j < N and matrix[i][j] != None:\n",
    "            # Go right\n",
    "            while j < N and matrix[i][j] != None:\n",
    "                result.append(matrix[i][j])\n",
    "                matrix[i][j] = None\n",
    "                j += 1\n",
    "\n",
    "            # Go down\n",
    "            i, j = i + 1, j - 1\n",
    "            while i < M and matrix[i][j] != None:\n",
    "                result.append(matrix[i][j])\n",
    "                matrix[i][j] = None\n",
    "                i += 1\n",
    "\n",
    "            # Go left\n",
    "            i, j = i - 1, j - 1\n",
    "            while j >= 0 and matrix[i][j] != None:\n",
    "                result.append(matrix[i][j])\n",
    "                matrix[i][j] = None\n",
    "                j -= 1\n",
    "\n",
    "            # Go up\n",
    "            i, j = i - 1, j + 1\n",
    "            while i > 0 and matrix[i][j] != None:\n",
    "                result.append(matrix[i][j])\n",
    "                matrix[i][j] = None\n",
    "                i -= 1\n",
    "\n",
    "            # For next iteration\n",
    "            i, j = i + 1, j + 1\n",
    "\n",
    "        return result\n",
    "\n",
    "# Testing the solution\n",
    "assert Solution().spiralOrder([[1, 2, 3], [4, 5, 6], [7, 8, 9]]) == [1, 2, 3, 6, 9, 8, 7, 4, 5]\n",
    "assert Solution().spiralOrder([[1, 2, 3, 4]]) == [1, 2, 3, 4]\n",
    "assert Solution().spiralOrder([[1], [2], [3], [4]]) == [1, 2, 3, 4]\n",
    "assert Solution().spiralOrder([[1]]) == [1]\n",
    "assert Solution().spiralOrder([[1, 2, 3, 4], [5, 6, 7, 8], [9, 10, 11, 12]]) == [1, 2, 3, 4, 8, 12, 11, 10, 9, 5, 6, 7]"
   ]
  },
  {
   "cell_type": "markdown",
   "id": "fbecbabd",
   "metadata": {
    "papermill": {
     "duration": 0.010251,
     "end_time": "2024-03-11T02:37:56.234272",
     "exception": false,
     "start_time": "2024-03-11T02:37:56.224021",
     "status": "completed"
    },
    "tags": []
   },
   "source": [
    "Video Link: https://www.youtube.com/watch?v=xvNwoz-ufXA&list=PLgUwDviBIf0oF6QL8m22w1hIDC1vJ_BHz&index=33\n",
    "Count subarray sum equals k"
   ]
  },
  {
   "cell_type": "code",
   "execution_count": 25,
   "id": "7586edcb",
   "metadata": {
    "execution": {
     "iopub.execute_input": "2024-03-11T02:37:56.255994Z",
     "iopub.status.busy": "2024-03-11T02:37:56.255477Z",
     "iopub.status.idle": "2024-03-11T02:37:56.262357Z",
     "shell.execute_reply": "2024-03-11T02:37:56.261541Z"
    },
    "lines_to_next_cell": 1,
    "papermill": {
     "duration": 0.019431,
     "end_time": "2024-03-11T02:37:56.263971",
     "exception": false,
     "start_time": "2024-03-11T02:37:56.244540",
     "status": "completed"
    },
    "tags": []
   },
   "outputs": [
    {
     "name": "stdout",
     "output_type": "stream",
     "text": [
      "[1, 2]\n",
      "[1, 2, 3, -3]\n",
      "[2, 3, -3, 1]\n",
      "[3]\n",
      "[3, -3, 1, 1, 1]\n",
      "[-3, 1, 1, 1, 4, 2, -3]\n",
      "[1, 1, 1]\n",
      "[4, 2, -3]\n"
     ]
    }
   ],
   "source": [
    "# Brute force\n",
    "class Solution:\n",
    "    def subarraySum(self, nums: list[int], K: int) -> int:\n",
    "        \"Time - O(N ^ 2)\"\n",
    "        N = len(nums)\n",
    "        count_ = 0\n",
    "        for i in range(N):\n",
    "            sum_ = 0\n",
    "            for j in range(i, N):\n",
    "               sum_ += nums[j]\n",
    "               if sum_ == K:\n",
    "                   print(nums[i: j + 1])\n",
    "                   count_ += 1\n",
    "\n",
    "        return count_\n",
    "\n",
    "# Testing the solution\n",
    "assert Solution().subarraySum([1, 2, 3, -3, 1, 1, 1, 4, 2, -3], 3) == 8"
   ]
  },
  {
   "cell_type": "code",
   "execution_count": 26,
   "id": "75940c41",
   "metadata": {
    "execution": {
     "iopub.execute_input": "2024-03-11T02:37:56.288012Z",
     "iopub.status.busy": "2024-03-11T02:37:56.287392Z",
     "iopub.status.idle": "2024-03-11T02:37:56.293962Z",
     "shell.execute_reply": "2024-03-11T02:37:56.293243Z"
    },
    "papermill": {
     "duration": 0.019371,
     "end_time": "2024-03-11T02:37:56.295553",
     "exception": false,
     "start_time": "2024-03-11T02:37:56.276182",
     "status": "completed"
    },
    "tags": []
   },
   "outputs": [],
   "source": [
    "# Optimal\n",
    "class Solution:\n",
    "    def subarraySum(self, nums: list[int], K: int) -> int:\n",
    "        \"\"\"\n",
    "        Time - O(N), Space - O(N)\n",
    "        Prefix Sum: For curr sum as sum_, how many prefix sum exists sum_ - k?\n",
    "        \"\"\"\n",
    "        hashmap: dict[int, int] = {0: 1}\n",
    "        count = sum_ = 0\n",
    "        for i in range(len(nums)):\n",
    "            sum_ += nums[i]\n",
    "            if sum_ - K in hashmap:\n",
    "                count += hashmap[sum_ - K]\n",
    "            hashmap[sum_] = hashmap.get(sum_, 0) + 1\n",
    "        return count\n",
    "\n",
    "# Testing the solution\n",
    "assert Solution().subarraySum([1, 2, 3, -3, 1, 1, 1, 4, 2, -3], 3) == 8\n",
    "assert Solution().subarraySum([1, 1, 1], 2) == 2\n",
    "assert Solution().subarraySum([1, 2, 3], 3) == 2"
   ]
  }
 ],
 "metadata": {
  "kernelspec": {
   "display_name": "Python 3 (ipykernel)",
   "language": "python",
   "name": "python3"
  },
  "language_info": {
   "codemirror_mode": {
    "name": "ipython",
    "version": 3
   },
   "file_extension": ".py",
   "mimetype": "text/x-python",
   "name": "python",
   "nbconvert_exporter": "python",
   "pygments_lexer": "ipython3",
   "version": "3.10.13"
  },
  "papermill": {
   "default_parameters": {},
   "duration": 2.316907,
   "end_time": "2024-03-11T02:37:56.423600",
   "environment_variables": {},
   "exception": null,
   "input_path": "study/striver-A2Z/07-med-arrays.ipynb",
   "output_path": "study/striver-A2Z/07-med-arrays.ipynb",
   "parameters": {},
   "start_time": "2024-03-11T02:37:54.106693",
   "version": "2.4.0"
  }
 },
 "nbformat": 4,
 "nbformat_minor": 5
}