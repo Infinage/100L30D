{
 "cells": [
  {
   "cell_type": "markdown",
   "id": "7dfdcaf8",
   "metadata": {
    "papermill": {
     "duration": 0.001542,
     "end_time": "2024-07-10T15:49:31.276017",
     "exception": false,
     "start_time": "2024-07-10T15:49:31.274475",
     "status": "completed"
    },
    "tags": []
   },
   "source": [
    "#### Useful imports"
   ]
  },
  {
   "cell_type": "code",
   "execution_count": 1,
   "id": "c52ade4f",
   "metadata": {
    "execution": {
     "iopub.execute_input": "2024-07-10T15:49:31.279468Z",
     "iopub.status.busy": "2024-07-10T15:49:31.279048Z",
     "iopub.status.idle": "2024-07-10T15:49:31.284702Z",
     "shell.execute_reply": "2024-07-10T15:49:31.284274Z"
    },
    "lines_to_next_cell": 1,
    "papermill": {
     "duration": 0.008709,
     "end_time": "2024-07-10T15:49:31.285807",
     "exception": false,
     "start_time": "2024-07-10T15:49:31.277098",
     "status": "completed"
    },
    "tags": []
   },
   "outputs": [],
   "source": [
    "import math\n",
    "import typing\n",
    "import functools\n",
    "import itertools\n",
    "import heapq\n",
    "import bisect\n",
    "import collections"
   ]
  },
  {
   "cell_type": "markdown",
   "id": "6271cefc",
   "metadata": {
    "papermill": {
     "duration": 0.000881,
     "end_time": "2024-07-10T15:49:31.287561",
     "exception": false,
     "start_time": "2024-07-10T15:49:31.286680",
     "status": "completed"
    },
    "tags": []
   },
   "source": [
    "Segmented Seive of Erastosthenes\n",
    "Video Link: https://www.youtube.com/watch?v=MY0fXk-3BVQ"
   ]
  },
  {
   "cell_type": "code",
   "execution_count": 2,
   "id": "14c65855",
   "metadata": {
    "execution": {
     "iopub.execute_input": "2024-07-10T15:49:31.290202Z",
     "iopub.status.busy": "2024-07-10T15:49:31.289887Z",
     "iopub.status.idle": "2024-07-10T15:49:31.296010Z",
     "shell.execute_reply": "2024-07-10T15:49:31.295575Z"
    },
    "papermill": {
     "duration": 0.008648,
     "end_time": "2024-07-10T15:49:31.297083",
     "exception": false,
     "start_time": "2024-07-10T15:49:31.288435",
     "status": "completed"
    },
    "tags": []
   },
   "outputs": [],
   "source": [
    "def segmented_seive_of_erastosthenes(low: int, high: int) -> list[int]:\n",
    "    \"\"\"\n",
    "    1. Generate primes till sqrt(high)\n",
    "    2. For each generated prime, repeat same logic - (i * i, end, i), instead of starting at i * i start at first position within range [low, high].\n",
    "    \"\"\"\n",
    "\n",
    "    # Step 1\n",
    "    sqrt = int(math.sqrt(high))\n",
    "    seive: list[bool] = [True for i in range(sqrt + 1)]\n",
    "    seive[0], seive[1], i = False, False, 2\n",
    "    while i * i <= sqrt:\n",
    "        if seive[i]:\n",
    "            seive[i*i::i] = [False] * len(seive[i*i::i])\n",
    "        i += 1\n",
    "\n",
    "    primes_below: list[int] = [i for i in range(sqrt + 1) if seive[i]]\n",
    "\n",
    "    # Step 2\n",
    "    seive = [True for i in range(low, high + 1)]\n",
    "    for prime in primes_below:\n",
    "        # Always start at n * n and if that is smaller, we check for the 1st num in range\n",
    "        start = max(prime * prime, math.ceil(low / prime) * prime)\n",
    "        seive[start - low::prime] = [False] * len(seive[start - low::prime])\n",
    "\n",
    "    primes: list[int] = [i for i in range(low, high + 1) if seive[i - low] and i != 1]\n",
    "\n",
    "    return primes\n",
    "\n",
    "# Testing the solution\n",
    "assert segmented_seive_of_erastosthenes(100, 125) == [101, 103, 107, 109, 113]\n",
    "assert segmented_seive_of_erastosthenes(1, 10) == [2, 3, 5, 7]"
   ]
  }
 ],
 "metadata": {
  "kernelspec": {
   "display_name": "Python 3 (ipykernel)",
   "language": "python",
   "name": "python3"
  },
  "language_info": {
   "codemirror_mode": {
    "name": "ipython",
    "version": 3
   },
   "file_extension": ".py",
   "mimetype": "text/x-python",
   "name": "python",
   "nbconvert_exporter": "python",
   "pygments_lexer": "ipython3",
   "version": "3.11.9"
  },
  "papermill": {
   "default_parameters": {},
   "duration": 1.261252,
   "end_time": "2024-07-10T15:49:31.412680",
   "environment_variables": {},
   "exception": null,
   "input_path": "study/striver-A2Z/18-misc.ipynb",
   "output_path": "study/striver-A2Z/18-misc.ipynb",
   "parameters": {},
   "start_time": "2024-07-10T15:49:30.151428",
   "version": "2.6.0"
  }
 },
 "nbformat": 4,
 "nbformat_minor": 5
}