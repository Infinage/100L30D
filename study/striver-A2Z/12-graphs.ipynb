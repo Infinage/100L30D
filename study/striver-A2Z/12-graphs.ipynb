{
 "cells": [
  {
   "cell_type": "markdown",
   "id": "b7c72dfd",
   "metadata": {
    "papermill": {
     "duration": 0.018783,
     "end_time": "2024-04-30T02:45:40.118321",
     "exception": false,
     "start_time": "2024-04-30T02:45:40.099538",
     "status": "completed"
    },
    "tags": []
   },
   "source": [
    "#### Introduction to Graphs\n",
    "Video link: https://youtu.be/M3_pLsDdeuU?si=Bi_17bBfZUPqBU6K\n",
    "- Directed Graph: Graph with edges\n",
    "- Undirected Graph: Graph without edges\n",
    "- Cycle: Starting at node i, we are able to reach back to i again\n",
    "- DAG (Directed Acyclic Graph): Directed graph without any cycles\n",
    "- Degrees of a node (undirected): No of edges connected to that node\n",
    "- Indegree of a node (directed): No of incoming edges to a node\n",
    "- Outdegree of a node (directed): No of outgoing edges from a node\n",
    "- Property of an undirected of graph: Total degree = 2 * no. of edges (intuitively for edge we will be counting it twice on both ends of the connection)\n",
    "- Edge weights: Every edge of a graph is assigned a weight. If not provided, we can assume unit weight\n",
    "- Note that a graph can contain multiple components. A component is a set of nodes that can be reached from starting the traversal from one of the nodes."
   ]
  },
  {
   "cell_type": "markdown",
   "id": "cf960c9a",
   "metadata": {
    "lines_to_next_cell": 0,
    "papermill": {
     "duration": 0.017246,
     "end_time": "2024-04-30T02:45:40.153409",
     "exception": false,
     "start_time": "2024-04-30T02:45:40.136163",
     "status": "completed"
    },
    "tags": []
   },
   "source": [
    "#### Graph representation <br>\n",
    "Video Link: https://youtu.be/3oI-34aPMWM?si=ibTcfbzU8J9k-NHa\n",
    "1. Adjacency matrix: If N is no of nodes, create N x N grid.\n",
    "Each cell contains the weight if the edge between the two nodes.\n",
    "Connections may or may not exist. For undirected graphs, the\n",
    "matrix is symmetric around the diagnol. Space: O (N ^ 2)\n",
    "\n",
    "For eg: \n",
    "```\n",
    "0 1 2 3 4 5\n",
    "0 0 0 0 0 0\n",
    "1 0 1 2 0 0\n",
    "2 1 0 0 1 1\n",
    "3 2 0 0 0 0\n",
    "4 0 1 0 0 0\n",
    "5 0 1 0 0 0\n",
    "```\n",
    "\n",
    "2. Adjaceny list: Create an array of arrays or set of arrays. Each nested array at index denotes the nodes that index is connected to. Space: O(E), still be O (N ^ 2) in a complete graph. If it is a directed graph, each element in the nested array is a tuple of node that index is connected to along with the weight of that connection.\n",
    "\n",
    "For eg:\n",
    "```\n",
    "{\n",
    " 1: [(2, 1), (3, 2)]\n",
    " 2: [(4, 5)]\n",
    " 3: [(2, 2), (4, 1)]\n",
    "}\n",
    "```"
   ]
  },
  {
   "cell_type": "markdown",
   "id": "d7ecd5e5",
   "metadata": {
    "papermill": {
     "duration": 0.017016,
     "end_time": "2024-04-30T02:45:40.187633",
     "exception": false,
     "start_time": "2024-04-30T02:45:40.170617",
     "status": "completed"
    },
    "tags": []
   },
   "source": [
    "#### Misc about graphs\n",
    "- Bipartite Graph: Color the graph with 2 colors such that no adjacent nodes have the same color. More formally: A graph is bipartite if the nodes can be partitioned into two independent sets A and B such that every edge in the graph connects a node in set A and a node in set B.\n",
    "- Linear graphs without any cycles are always bipartite.\n",
    "- Cyclic graphs of even node length are always bipartite.\n",
    "- Cyclic graphs of odd node length are NOT bipartite.\n",
    "- Topological sortig is only valid for DAGs (Directed Acyclic graphs). Is topo sort, the vertices are ordered such that if there is an edge between vertex v1 and v2 then v1 appears before v2. There could be multiple ways in which the vertices are sorted.\n",
    "- Topological sorting with DFS involves pushing onto a stack at the end of recursive function.\n",
    "- Topological sorting with BFS involves an algorithm called as the Kahn's algorithm."
   ]
  },
  {
   "cell_type": "markdown",
   "id": "24f84e7c",
   "metadata": {
    "papermill": {
     "duration": 0.01737,
     "end_time": "2024-04-30T02:45:40.222941",
     "exception": false,
     "start_time": "2024-04-30T02:45:40.205571",
     "status": "completed"
    },
    "tags": []
   },
   "source": [
    "Dijkstra algorithm (Worst case time complexity: O (E log V)):\n",
    "1. Algorithm to find the shortest distance from source node to all nodes.\n",
    "2. It doesn't work for graphs with negative weights.\n",
    "3. Typically used with a priority queue. Can work with queue as well. With Q, it works as a typical BFS (Brute force). With PQ we consider the best path only instead of iterating all edges, we end up pruning non optimal paths.\n",
    "4. Logic:\n",
    "```\n",
    "- Create a vector of distances. Assign src as 0 and remaining nodes as infinite (not yet reached)\n",
    "- Initialize a min heap <dist, node>. Initially we start at src (0, src).\n",
    "- Repeat until min heap is exhausted.\n",
    "  * Pop the smallest out\n",
    "  * Iterate through all neighbours. If the dist to reach neighbour is smaller than currently known shortest distance, update the shortest dist and add to queue.\n",
    "- Return the distance vector.\n",
    "```"
   ]
  },
  {
   "cell_type": "markdown",
   "id": "d97a2dea",
   "metadata": {
    "papermill": {
     "duration": 0.017171,
     "end_time": "2024-04-30T02:45:40.257453",
     "exception": false,
     "start_time": "2024-04-30T02:45:40.240282",
     "status": "completed"
    },
    "tags": []
   },
   "source": [
    "Bellman Ford Algorithm (Worst case time complexity: O (V x E))\n",
    "1. Relax all the edges N - 1 times sequentially.\n",
    "2. N - 1 iterations because: In a graph of N nodes, in the worst case, we will take N - 1 edges to reach from the first to the last (consider a singly connected linked list), thereby we iterate for N - 1 iterations. (Best case each node has N - 1 edges and takes 1 step to reach every other node, worst case is the linked list example where it takes N - 1 iterations to travel from 0 to N - 1 node)\n",
    "3. To detect negative cycle, run another iteration. If the value of any node decreases still, the graph has a negative cycle."
   ]
  },
  {
   "cell_type": "markdown",
   "id": "037e1b1b",
   "metadata": {
    "papermill": {
     "duration": 0.016897,
     "end_time": "2024-04-30T02:45:40.291538",
     "exception": false,
     "start_time": "2024-04-30T02:45:40.274641",
     "status": "completed"
    },
    "tags": []
   },
   "source": [
    "Floyd Warshall Algorithm\n",
    "1. Multi source shortest path algorithm\n",
    "2. Helps detect negative cycles as well\n",
    "3. The idea is that for each node i and for each node j that we are trying to reach, check out all paths k and get the minimum: `min(d[i][k] + d[k][j])`\n",
    "4. Instead of storing a 1D distance vector, we store a 2D distance / cost matrix.\n",
    "5. This is a brute force approach that caches results.\n",
    "6. To detect a negative cycle, simply check if node to same node path is < 0. It must be 0 for a graph without negative cycles.\n",
    "7. Logic:\n",
    "```python\n",
    "for via in range(V):\n",
    "  for i in range(V):\n",
    "      for j in range(V):\n",
    "          cost[i][j] = min(cost[i][j], cost[i][via] + cost[via][j])\n",
    "```\n",
    "8. Running dijkstra on all nodes (O(E log V)) would be faster than Floyd Warshall. But dijkstra doesn't work on graphs with negative edges. We woulld need to run Johnson's algorithm to remove negative cycles and then run Dijkstra. It would still be faster than floyd warshall iff E < V^2."
   ]
  },
  {
   "cell_type": "markdown",
   "id": "46672733",
   "metadata": {
    "papermill": {
     "duration": 0.01692,
     "end_time": "2024-04-30T02:45:40.325453",
     "exception": false,
     "start_time": "2024-04-30T02:45:40.308533",
     "status": "completed"
    },
    "tags": []
   },
   "source": [
    "Minimum Spanning Tree (MST)\n",
    "1. Spanning Tree: A tree in which we have N nodes and N - 1 edges and all nodes are reachable from each other.\n",
    "2. MST: Out of all spanning trees that we can get, the one with the minimum edge weight sum is called the minimum spanning tree."
   ]
  },
  {
   "cell_type": "markdown",
   "id": "fe81afa5",
   "metadata": {},
   "source": [
    "Disjoint Set\n",
    "1. Useful for determining if two given vertices are part of the same component or not in O(1) time.\n",
    "2. It offers two functions: findParent(), union() (could be via rank or via size)\n",
    "3. It is especially useful in problems involving dynamic graphs, where the structure (connections) keeps changing frequently.\n",
    "4. Pseudo code for union of U, V by rank (O (4 alpha)):\n",
    "```\n",
    "- Find ultimate parent of U (pu), V (pv).\n",
    "- Find rank of pu, pv.\n",
    "- Connect smaller rank of the ultimate parents to the larger of the ultimate parents.\n",
    "```\n",
    "5. Pseudo code for union of U, V by size (O (4 alpha)):\n",
    "```\n",
    "- Find ultimate parent of U, V\n",
    "- Find size of U (UR), V (VR)\n",
    "- Attach the smaller sized parent to the larger one.\n",
    "```\n",
    "6. To ensure that find parent takes O(1) time instead of O(N), we perform path compression: first time we iterate through and find the parent, on subsequent calls the result is cached and parent list is updated.\n",
    "7. By connecting the smaller to the larger, we overall rank would remain unchanged and the graph would be more 'balanced'. Time taken to find parent is as minimal as possb.\n",
    "8. Post path compression, rank wouldn't make much sense."
   ]
  },
  {
   "cell_type": "markdown",
   "id": "a321425e",
   "metadata": {
    "lines_to_next_cell": 0,
    "papermill": {
     "duration": 0.017012,
     "end_time": "2024-04-30T02:45:40.360090",
     "exception": false,
     "start_time": "2024-04-30T02:45:40.343078",
     "status": "completed"
    },
    "tags": []
   },
   "source": [
    "#### Helper functions and definitions"
   ]
  },
  {
   "cell_type": "code",
   "execution_count": 1,
   "id": "8c79edc4",
   "metadata": {
    "execution": {
     "iopub.execute_input": "2024-04-30T02:45:40.396083Z",
     "iopub.status.busy": "2024-04-30T02:45:40.395313Z",
     "iopub.status.idle": "2024-04-30T02:45:40.405588Z",
     "shell.execute_reply": "2024-04-30T02:45:40.404973Z"
    },
    "lines_to_next_cell": 1,
    "papermill": {
     "duration": 0.030194,
     "end_time": "2024-04-30T02:45:40.407219",
     "exception": false,
     "start_time": "2024-04-30T02:45:40.377025",
     "status": "completed"
    },
    "tags": []
   },
   "outputs": [],
   "source": [
    "import math\n",
    "import collections\n",
    "import itertools\n",
    "import typing\n",
    "import heapq\n",
    "import functools"
   ]
  },
  {
   "cell_type": "markdown",
   "id": "fc260e41",
   "metadata": {
    "papermill": {
     "duration": 0.016867,
     "end_time": "2024-04-30T02:45:40.441133",
     "exception": false,
     "start_time": "2024-04-30T02:45:40.424266",
     "status": "completed"
    },
    "tags": []
   },
   "source": [
    "Video Link: https://youtu.be/-tgVpUgsQ5k?si=8HBt33CLyu9hTP1I\n",
    "BFS Search of a graph"
   ]
  },
  {
   "cell_type": "code",
   "execution_count": 2,
   "id": "2e42efd0",
   "metadata": {
    "execution": {
     "iopub.execute_input": "2024-04-30T02:45:40.476756Z",
     "iopub.status.busy": "2024-04-30T02:45:40.476230Z",
     "iopub.status.idle": "2024-04-30T02:45:40.482775Z",
     "shell.execute_reply": "2024-04-30T02:45:40.482142Z"
    },
    "lines_to_next_cell": 1,
    "papermill": {
     "duration": 0.02627,
     "end_time": "2024-04-30T02:45:40.484480",
     "exception": false,
     "start_time": "2024-04-30T02:45:40.458210",
     "status": "completed"
    },
    "tags": []
   },
   "outputs": [],
   "source": [
    "def bfsOfGraph(V: int, adj: list[list[int]]) -> list[int]:\n",
    "    result: list[int] = []\n",
    "    queue: collections.deque = collections.deque([0])\n",
    "    visited: set[int] = set()\n",
    "    while queue:\n",
    "        curr = queue.popleft()\n",
    "        if curr not in visited:\n",
    "            result.append(curr)\n",
    "            visited.add(curr)\n",
    "        queue.extend(adj[curr])\n",
    "\n",
    "    return result\n",
    "\n",
    "# Testing the solution\n",
    "assert bfsOfGraph(5, [[1,2,3],[],[4],[],[]]) == [0, 1, 2, 3, 4]\n",
    "assert bfsOfGraph(5, [[1,2],[],[]]) == [0, 1, 2]"
   ]
  },
  {
   "cell_type": "markdown",
   "id": "25de613f",
   "metadata": {
    "papermill": {
     "duration": 0.016921,
     "end_time": "2024-04-30T02:45:40.518491",
     "exception": false,
     "start_time": "2024-04-30T02:45:40.501570",
     "status": "completed"
    },
    "tags": []
   },
   "source": [
    "Video Link: https://youtu.be/Qzf1a--rhp8?si=Zb_XCqskGiK11gbB\n",
    "DFS Traversal"
   ]
  },
  {
   "cell_type": "code",
   "execution_count": 3,
   "id": "4a28e0ae",
   "metadata": {
    "execution": {
     "iopub.execute_input": "2024-04-30T02:45:40.553960Z",
     "iopub.status.busy": "2024-04-30T02:45:40.553376Z",
     "iopub.status.idle": "2024-04-30T02:45:40.562216Z",
     "shell.execute_reply": "2024-04-30T02:45:40.561400Z"
    },
    "lines_to_next_cell": 1,
    "papermill": {
     "duration": 0.028271,
     "end_time": "2024-04-30T02:45:40.563833",
     "exception": false,
     "start_time": "2024-04-30T02:45:40.535562",
     "status": "completed"
    },
    "tags": []
   },
   "outputs": [],
   "source": [
    "def depthFirstSearch(V: int, E: int, edges: list[list[int]]) -> list[list[int]]:\n",
    "    adjl: dict[int, list[int]] = dict()\n",
    "    for i in range(E):\n",
    "        n1, n2 = edges[i]\n",
    "        n1_edges, n2_edges = adjl.get(n1, []), adjl.get(n2, [])\n",
    "        n1_edges.append(n2)\n",
    "        n2_edges.append(n1)\n",
    "        adjl[n1], adjl[n2] = n1_edges, n2_edges\n",
    "\n",
    "    result: list[list[int]] = []\n",
    "    visited: set[int] = set()\n",
    "\n",
    "    # Time Complexity: O(N), Space: O(N)\n",
    "    for i in range(V):\n",
    "        stack: list[int] = [i]\n",
    "        components: list[int] = []\n",
    "        while stack:\n",
    "            curr = stack.pop()\n",
    "            if curr not in visited:\n",
    "                visited.add(curr)\n",
    "                components.append(curr)\n",
    "                for next_ in adjl.get(curr, []):\n",
    "                    stack.append(next_)\n",
    "\n",
    "        if components:\n",
    "            components.sort()\n",
    "            result.append(components)\n",
    "\n",
    "    return result\n",
    "\n",
    "# Testing the result\n",
    "assert depthFirstSearch(5, 4, [[0,2], [0,1], [1,2], [3,4]]) == [[0,1,2], [3,4]]"
   ]
  },
  {
   "cell_type": "markdown",
   "id": "a12cfaca",
   "metadata": {
    "papermill": {
     "duration": 0.017213,
     "end_time": "2024-04-30T02:45:40.599086",
     "exception": false,
     "start_time": "2024-04-30T02:45:40.581873",
     "status": "completed"
    },
    "tags": []
   },
   "source": [
    "Number of provinces: https://leetcode.com/problems/number-of-provinces/submissions/1237343247/\n",
    "Video Link: https://youtu.be/ACzkVtewUYA?si=wpzBiKJoOJQnFR18"
   ]
  },
  {
   "cell_type": "code",
   "execution_count": 4,
   "id": "672dd010",
   "metadata": {
    "execution": {
     "iopub.execute_input": "2024-04-30T02:45:40.634506Z",
     "iopub.status.busy": "2024-04-30T02:45:40.633908Z",
     "iopub.status.idle": "2024-04-30T02:45:40.640836Z",
     "shell.execute_reply": "2024-04-30T02:45:40.640047Z"
    },
    "lines_to_next_cell": 1,
    "papermill": {
     "duration": 0.026423,
     "end_time": "2024-04-30T02:45:40.642535",
     "exception": false,
     "start_time": "2024-04-30T02:45:40.616112",
     "status": "completed"
    },
    "tags": []
   },
   "outputs": [],
   "source": [
    "def findCircleNum(adjM: list[list[int]]) -> int:\n",
    "    N = len(adjM)\n",
    "\n",
    "    visited: set[int] = set()\n",
    "    def DFS(curr: int):\n",
    "        if curr not in visited:\n",
    "            visited.add(curr)\n",
    "            for i in range(N):\n",
    "                if adjM[curr][i]:\n",
    "                    DFS(i)\n",
    "\n",
    "    provinces: int = 0\n",
    "    for curr in range(N):\n",
    "        if curr not in visited:\n",
    "            DFS(curr)\n",
    "            provinces += 1\n",
    "\n",
    "    return provinces\n",
    "\n",
    "# Testing the solution\n",
    "assert findCircleNum([[1,1,0],[1,1,0],[0,0,1]]) == 2\n",
    "assert findCircleNum([[1,0,0],[0,1,0],[0,0,1]]) == 3"
   ]
  },
  {
   "cell_type": "markdown",
   "id": "bab63bca",
   "metadata": {
    "papermill": {
     "duration": 0.017057,
     "end_time": "2024-04-30T02:45:40.676848",
     "exception": false,
     "start_time": "2024-04-30T02:45:40.659791",
     "status": "completed"
    },
    "tags": []
   },
   "source": [
    "Video link: https://youtu.be/muncqlKJrH0?si=xcCfsKjX5tZd4kZJ\n",
    "Number of islands"
   ]
  },
  {
   "cell_type": "code",
   "execution_count": 5,
   "id": "968de0b8",
   "metadata": {
    "execution": {
     "iopub.execute_input": "2024-04-30T02:45:40.713507Z",
     "iopub.status.busy": "2024-04-30T02:45:40.712792Z",
     "iopub.status.idle": "2024-04-30T02:45:40.720892Z",
     "shell.execute_reply": "2024-04-30T02:45:40.720205Z"
    },
    "lines_to_next_cell": 1,
    "papermill": {
     "duration": 0.028364,
     "end_time": "2024-04-30T02:45:40.722496",
     "exception": false,
     "start_time": "2024-04-30T02:45:40.694132",
     "status": "completed"
    },
    "tags": []
   },
   "outputs": [],
   "source": [
    "def numIslands(grid: list[list[int]]) -> int:\n",
    "    N = len(grid)\n",
    "    M = len(grid[0])\n",
    "\n",
    "    def DFS(i: int, j: int):\n",
    "        if 0 <= i < N and 0 <= j < M and grid[i][j] == 1:\n",
    "            grid[i][j] = 0\n",
    "            for i_ in range(-1, 2):\n",
    "                for j_ in range(-1, 2):\n",
    "                    DFS(i + i_, j + j_)\n",
    "\n",
    "    islands = 0\n",
    "    for i_ in range(N):\n",
    "        for j_ in range(M):\n",
    "            if grid[i_][j_] == 1:\n",
    "                islands += 1\n",
    "                DFS(i_, j_)\n",
    "    return islands\n",
    "\n",
    "# Testing the solution\n",
    "assert numIslands([[0,1,1,1,0,0,0],[0,0,1,1,0,1,0]]) == 2\n",
    "assert numIslands([[0,1],[1,0],[1,1],[1,0]]) == 1"
   ]
  },
  {
   "cell_type": "markdown",
   "id": "10f09e20",
   "metadata": {
    "papermill": {
     "duration": 0.016994,
     "end_time": "2024-04-30T02:45:40.756662",
     "exception": false,
     "start_time": "2024-04-30T02:45:40.739668",
     "status": "completed"
    },
    "tags": []
   },
   "source": [
    "Video Link: https://youtu.be/C-2_uSRli8o?si=kwATM2glQc_Mpf76\n",
    "Flood fill: https://leetcode.com/problems/flood-fill/submissions/1237381436"
   ]
  },
  {
   "cell_type": "code",
   "execution_count": 6,
   "id": "1e1a36fc",
   "metadata": {
    "execution": {
     "iopub.execute_input": "2024-04-30T02:45:40.792430Z",
     "iopub.status.busy": "2024-04-30T02:45:40.791701Z",
     "iopub.status.idle": "2024-04-30T02:45:40.799336Z",
     "shell.execute_reply": "2024-04-30T02:45:40.798685Z"
    },
    "lines_to_next_cell": 1,
    "papermill": {
     "duration": 0.027467,
     "end_time": "2024-04-30T02:45:40.801081",
     "exception": false,
     "start_time": "2024-04-30T02:45:40.773614",
     "status": "completed"
    },
    "tags": []
   },
   "outputs": [],
   "source": [
    "def floodFill(image: list[list[int]], sr: int, sc: int, fill_color: int) -> list[list[int]]:\n",
    "\n",
    "    N, M = len(image), len(image[0])\n",
    "\n",
    "    start_color = image[sr][sc]\n",
    "    if start_color != fill_color:\n",
    "        queue: collections.deque = collections.deque([(sr, sc)])\n",
    "\n",
    "        while queue:\n",
    "            i, j = queue.popleft()\n",
    "            if 0 <= i < N and 0 <= j < M and image[i][j] == start_color:\n",
    "                image[i][j] = fill_color\n",
    "                queue.extend([(i - 1, j), (i, j - 1), (i, j + 1), (i + 1, j)])\n",
    "\n",
    "    return image\n",
    "\n",
    "# Testing the solution\n",
    "assert floodFill([[1,1,1],[1,1,0],[1,0,1]], 1, 1, 2) == [[2,2,2],[2,2,0],[2,0,1]]"
   ]
  },
  {
   "cell_type": "markdown",
   "id": "cb576964",
   "metadata": {
    "papermill": {
     "duration": 0.017045,
     "end_time": "2024-04-30T02:45:40.835645",
     "exception": false,
     "start_time": "2024-04-30T02:45:40.818600",
     "status": "completed"
    },
    "tags": []
   },
   "source": [
    "Video Link: https://youtu.be/yf3oUhkvqA0?si=A664tpMiA00GrxJV\n",
    "Rotten Oranges: https://leetcode.com/problems/rotting-oranges/submissions/1237760285"
   ]
  },
  {
   "cell_type": "code",
   "execution_count": 7,
   "id": "8b72ec9b",
   "metadata": {
    "execution": {
     "iopub.execute_input": "2024-04-30T02:45:40.870912Z",
     "iopub.status.busy": "2024-04-30T02:45:40.870625Z",
     "iopub.status.idle": "2024-04-30T02:45:40.882546Z",
     "shell.execute_reply": "2024-04-30T02:45:40.881795Z"
    },
    "lines_to_next_cell": 1,
    "papermill": {
     "duration": 0.031524,
     "end_time": "2024-04-30T02:45:40.884163",
     "exception": false,
     "start_time": "2024-04-30T02:45:40.852639",
     "status": "completed"
    },
    "tags": []
   },
   "outputs": [],
   "source": [
    "def orangesRotting(grid: list[list[int]]) -> int:\n",
    "    \"\"\"\n",
    "    BFS function can be optimized by using a queue. Each element is (i, j, time).\n",
    "    Further more instead of storing all fresh indices as a set, we can simply have a counter and decrement it every time we rot an orange.\n",
    "    Simple check if this counter is 0 before returning minutes.\n",
    "\n",
    "    Time: O(M x N), Space: O(M x N)\n",
    "    \"\"\"\n",
    "    N, M = len(grid), len(grid[0])\n",
    "\n",
    "    rotten: list[tuple[int, int]] = []\n",
    "    def BFS() -> int:\n",
    "        nonlocal rotten\n",
    "        min_: int = 0\n",
    "        while rotten:\n",
    "            newly_rotten = False\n",
    "            next_: list[tuple[int, int]] = []\n",
    "            for i_, j_ in rotten:\n",
    "                if 0 <= i_ < N and 0 <= j_ < M and grid[i_][j_] == 1:\n",
    "                    grid[i_][j_] = 2\n",
    "                    fresh.remove((i_, j_))\n",
    "                    next_.extend([(i_ - 1, j_), (i_, j_ - 1), (i_, j_ + 1), (i_ + 1, j_)])\n",
    "                    newly_rotten = True\n",
    "\n",
    "            min_ += int(newly_rotten)\n",
    "            rotten = next_\n",
    "\n",
    "        return min_\n",
    "\n",
    "    fresh: set[tuple[int, int]] = set()\n",
    "    for i in range(N):\n",
    "        for j in range(M):\n",
    "            if grid[i][j] == 1:\n",
    "                fresh.add((i, j))\n",
    "            if grid[i][j] == 2:\n",
    "                grid[i][j] = 2\n",
    "                rotten.extend([(i - 1, j), (i, j - 1), (i, j + 1), (i + 1, j)])\n",
    "\n",
    "    minutes = BFS()\n",
    "    return minutes if not fresh else -1\n",
    "\n",
    "# Testing the solution\n",
    "assert orangesRotting([[2,1,1],[1,1,0],[0,1,1]]) == 4\n",
    "assert orangesRotting([[2,1,1],[0,1,1],[1,0,1]]) == -1\n",
    "assert orangesRotting([[2,1,1],[1,1,1],[0,1,2]]) == 2"
   ]
  },
  {
   "cell_type": "markdown",
   "id": "eef4c409",
   "metadata": {
    "papermill": {
     "duration": 0.017049,
     "end_time": "2024-04-30T02:45:40.918465",
     "exception": false,
     "start_time": "2024-04-30T02:45:40.901416",
     "status": "completed"
    },
    "tags": []
   },
   "source": [
    "Detect cycle with Graph (BFS / DFS)\n",
    "Video Link BFS: https://youtu.be/BPlrALf1LDU?si=U9u9H_9xiHo8oflx\n",
    "Video Link DFS: https://youtu.be/zQ3zgFypzX4?si=trbPI1I4DfRMcrj5"
   ]
  },
  {
   "cell_type": "code",
   "execution_count": 8,
   "id": "342b6f3b",
   "metadata": {
    "execution": {
     "iopub.execute_input": "2024-04-30T02:45:40.954378Z",
     "iopub.status.busy": "2024-04-30T02:45:40.953895Z",
     "iopub.status.idle": "2024-04-30T02:45:40.965701Z",
     "shell.execute_reply": "2024-04-30T02:45:40.964946Z"
    },
    "lines_to_next_cell": 1,
    "papermill": {
     "duration": 0.031779,
     "end_time": "2024-04-30T02:45:40.967491",
     "exception": false,
     "start_time": "2024-04-30T02:45:40.935712",
     "status": "completed"
    },
    "tags": []
   },
   "outputs": [],
   "source": [
    "def detectCycle(V: int, E: int, edges: list[tuple[int, int]]):\n",
    "    \"\"\"\n",
    "    BFS:\n",
    "\n",
    "    Starting at node i we branch outwards. If some node is visited again and that node didn't come from curr node then we have a cycle\n",
    "    We check if the next node comes from curr by storing the parent in the queue.\n",
    "\n",
    "    We can save duplicate work for disconnected components by storing visited outside of the BFS function. Remember to add the parent != -1 condition.\n",
    "\n",
    "    Time: O(N), Space: O(N)\n",
    "\n",
    "    DFS:\n",
    "\n",
    "    Starting at node i, if we are able to reach node i again via DFS, then the graph has a cycle.\n",
    "    To make sure we don't visit the parent again, we store the parent node in the stack.\n",
    "\n",
    "    Time: O(N), Space: O(N)\n",
    "    \"\"\"\n",
    "    adjl: dict[int, list[int]] = dict()\n",
    "    for n1, n2 in edges:\n",
    "        n1_neighbours, n2_neighbours = adjl.get(n1, []), adjl.get(n2, [])\n",
    "        n1_neighbours.append(n2)\n",
    "        n2_neighbours.append(n1)\n",
    "        adjl[n1], adjl[n2] = n1_neighbours, n2_neighbours\n",
    "\n",
    "    def BFS(root: int) -> bool:\n",
    "        queue: collections.deque = collections.deque([(root, -1)])\n",
    "        while queue:\n",
    "            curr, parent = queue.popleft()\n",
    "            visited.add(curr)\n",
    "            for next_ in adjl.get(curr, []):\n",
    "                if next_ not in visited:\n",
    "                    queue.append((next_, curr))\n",
    "                elif parent != -1 and next_ != parent:\n",
    "                    return True\n",
    "        else:\n",
    "            return False\n",
    "\n",
    "    def DFS(root: int) -> bool:\n",
    "        stack: list[tuple[int, int]] = [(root, -1)]\n",
    "        while stack:\n",
    "            curr, parent = stack.pop()\n",
    "            if curr not in visited:\n",
    "                visited.add(curr)\n",
    "                for next_ in adjl.get(curr, []):\n",
    "                    if next_ != parent:\n",
    "                        stack.append((next_, curr))\n",
    "\n",
    "            elif parent != -1:\n",
    "                return True\n",
    "\n",
    "        return False\n",
    "\n",
    "    visited: set[int] = set()\n",
    "    for curr in range(V):\n",
    "        if DFS(curr):\n",
    "            return True\n",
    "    else:\n",
    "        return False\n",
    "\n",
    "assert detectCycle(5, 3, [(0, 1), (1, 2), (3, 4)]) == False\n",
    "assert detectCycle(4, 4, [(0, 1), (1, 2), (2, 3), (3, 0)]) == True"
   ]
  },
  {
   "cell_type": "markdown",
   "id": "86e956f5",
   "metadata": {
    "papermill": {
     "duration": 0.01695,
     "end_time": "2024-04-30T02:45:41.001551",
     "exception": false,
     "start_time": "2024-04-30T02:45:40.984601",
     "status": "completed"
    },
    "tags": []
   },
   "source": [
    "Video Link: https://youtu.be/edXdVwkYHF8?si=oTave6oul5GbDHrn\n",
    "01 Matrix: https://leetcode.com/problems/01-matrix/"
   ]
  },
  {
   "cell_type": "code",
   "execution_count": 9,
   "id": "14c07211",
   "metadata": {
    "execution": {
     "iopub.execute_input": "2024-04-30T02:45:41.037098Z",
     "iopub.status.busy": "2024-04-30T02:45:41.036580Z",
     "iopub.status.idle": "2024-04-30T02:45:41.047313Z",
     "shell.execute_reply": "2024-04-30T02:45:41.046648Z"
    },
    "lines_to_next_cell": 1,
    "papermill": {
     "duration": 0.030236,
     "end_time": "2024-04-30T02:45:41.048923",
     "exception": false,
     "start_time": "2024-04-30T02:45:41.018687",
     "status": "completed"
    },
    "tags": []
   },
   "outputs": [],
   "source": [
    "def updateMatrixBrute(mat: list[list[int]]) -> list[list[int]]:\n",
    "    M, N = len(mat), len(mat[0])\n",
    "    result: list[list[int]] = [[-1 for i in range(N)] for j in range(M)]\n",
    "\n",
    "    def BFS(row: int, col: int) -> int:\n",
    "        queue: collections.deque = collections.deque([(row, col, 0)])\n",
    "        visited: set[tuple[int, int]] = set()\n",
    "        while queue:\n",
    "            i, j, dist = queue.popleft()\n",
    "            if (i, j) not in visited and 0 <= i < M and 0 <= j < N:\n",
    "                visited.add((i, j))\n",
    "                if mat[i][j] == 0:\n",
    "                    return dist\n",
    "                else:\n",
    "                    queue.extend([(i - 1, j, dist + 1), (i, j - 1, dist + 1), (i, j + 1, dist + 1), (i + 1, j, dist + 1)])\n",
    "\n",
    "        return -1\n",
    "\n",
    "    for i in range(M):\n",
    "        for j in range(N):\n",
    "            result[i][j] = BFS(i, j)\n",
    "\n",
    "    return result\n",
    "\n",
    "# Testing the solution\n",
    "assert updateMatrixBrute([[0,0,0],[0,1,0],[0,0,0]]) == [[0,0,0],[0,1,0],[0,0,0]]\n",
    "assert updateMatrixBrute([[0,0,0],[0,1,0],[1,1,1]]) == [[0,0,0],[0,1,0],[1,2,1]]"
   ]
  },
  {
   "cell_type": "code",
   "execution_count": 10,
   "id": "251805ef",
   "metadata": {
    "execution": {
     "iopub.execute_input": "2024-04-30T02:45:41.084815Z",
     "iopub.status.busy": "2024-04-30T02:45:41.084165Z",
     "iopub.status.idle": "2024-04-30T02:45:41.097078Z",
     "shell.execute_reply": "2024-04-30T02:45:41.096448Z"
    },
    "lines_to_next_cell": 1,
    "papermill": {
     "duration": 0.032454,
     "end_time": "2024-04-30T02:45:41.098699",
     "exception": false,
     "start_time": "2024-04-30T02:45:41.066245",
     "status": "completed"
    },
    "tags": []
   },
   "outputs": [],
   "source": [
    "# https://leetcode.com/problems/01-matrix/submissions/1238008344\n",
    "def updateMatrixBetter(mat: list[list[int]]) -> list[list[float]]:\n",
    "    M, N = len(mat), len(mat[0])\n",
    "    result: list[list[float]] = [[math.inf for j in range(N)] for i in range(M)]\n",
    "\n",
    "    # Go right to left to find the nearest 0 on the right\n",
    "    for i in range(M):\n",
    "        for j in range(N - 1, -1, -1):\n",
    "            if mat[i][j] == 0:\n",
    "                result[i][j] = 0\n",
    "            else:\n",
    "                dist = result[i][j + 1] + 1 if j < N - 1 else math.inf\n",
    "                result[i][j] = min(dist, result[i][j])\n",
    "\n",
    "    # Go left to right to find the nearest 0 on the left\n",
    "    for i in range(M):\n",
    "        for j in range(N):\n",
    "            if mat[i][j] == 0:\n",
    "                result[i][j] = 0\n",
    "            else:\n",
    "                dist = result[i][j - 1] + 1 if j > 0 else math.inf\n",
    "                result[i][j] = min(dist, result[i][j])\n",
    "\n",
    "    # Go top to bottom to find the nearest 0 on the top\n",
    "    for i in range(M):\n",
    "        for j in range(N):\n",
    "            if mat[i][j] == 0:\n",
    "                result[i][j] = 0\n",
    "            else:\n",
    "                dist = result[i - 1][j] + 1 if i > 0 else math.inf\n",
    "                result[i][j] = min(dist, result[i][j])\n",
    "\n",
    "    # Go bottom to top to find the nearest 0 on the bottom\n",
    "    for i in range(M - 1, -1, -1):\n",
    "        for j in range(N):\n",
    "            if mat[i][j] == 0:\n",
    "                result[i][j] = 0\n",
    "            else:\n",
    "                dist = result[i + 1][j] + 1 if i < M - 1 else math.inf\n",
    "                result[i][j] = min(dist, result[i][j])\n",
    "\n",
    "    return result\n",
    "\n",
    "# Testing the solution\n",
    "assert updateMatrixBetter([[0,0,0],[0,1,0],[0,0,0]]) == [[0,0,0],[0,1,0],[0,0,0]]\n",
    "assert updateMatrixBetter([[0,0,0],[0,1,0],[1,1,1]]) == [[0,0,0],[0,1,0],[1,2,1]]"
   ]
  },
  {
   "cell_type": "code",
   "execution_count": 11,
   "id": "9469ade5",
   "metadata": {
    "execution": {
     "iopub.execute_input": "2024-04-30T02:45:41.134399Z",
     "iopub.status.busy": "2024-04-30T02:45:41.133778Z",
     "iopub.status.idle": "2024-04-30T02:45:41.144441Z",
     "shell.execute_reply": "2024-04-30T02:45:41.143809Z"
    },
    "lines_to_next_cell": 1,
    "papermill": {
     "duration": 0.030232,
     "end_time": "2024-04-30T02:45:41.146126",
     "exception": false,
     "start_time": "2024-04-30T02:45:41.115894",
     "status": "completed"
    },
    "tags": []
   },
   "outputs": [],
   "source": [
    "# https://leetcode.com/problems/01-matrix/submissions/1238019317/\n",
    "def updateMatrix(mat: list[list[int]]) -> list[list[float]]:\n",
    "    \"\"\"Time: O(M x N), Space: O(M x N)\"\"\"\n",
    "\n",
    "    M, N = len(mat), len(mat[0])\n",
    "    result: list[list[float]] = [[math.inf for j in range(N)] for i in range(M)]\n",
    "\n",
    "    # Collect all nodes that are having 0 values: i, j, dist\n",
    "    queue: collections.deque = collections.deque()\n",
    "    for i in range(M):\n",
    "        for j in range(N):\n",
    "            if mat[i][j] == 0:\n",
    "                queue.append((i, j, 0))\n",
    "\n",
    "    # Start to traverse BFS together\n",
    "    visited: set[tuple[int, int]] = set()\n",
    "    while queue:\n",
    "        i, j, dist = queue.popleft()\n",
    "        if 0 <= i < M and 0 <= j < N and (i, j) not in visited:\n",
    "            result[i][j] = dist\n",
    "            visited.add((i, j))\n",
    "            queue.extend([(i - 1, j, dist + 1), (i, j - 1, dist + 1), (i, j + 1, dist + 1), (i + 1, j, dist + 1)])\n",
    "\n",
    "    return result\n",
    "\n",
    "# Testing the solution\n",
    "assert updateMatrix([[0,0,0],[0,1,0],[0,0,0]]) == [[0,0,0],[0,1,0],[0,0,0]]\n",
    "assert updateMatrix([[0,0,0],[0,1,0],[1,1,1]]) == [[0,0,0],[0,1,0],[1,2,1]]"
   ]
  },
  {
   "cell_type": "markdown",
   "id": "0b3a1d29",
   "metadata": {
    "papermill": {
     "duration": 0.03516,
     "end_time": "2024-04-30T02:45:41.198561",
     "exception": false,
     "start_time": "2024-04-30T02:45:41.163401",
     "status": "completed"
    },
    "tags": []
   },
   "source": [
    "Video Link: https://youtu.be/BtdgAys4yMk?si=BLc-UXXR9XvQV8Mf\n",
    "Surrounded Regions: https://leetcode.com/problems/surrounded-regions/description/"
   ]
  },
  {
   "cell_type": "code",
   "execution_count": 12,
   "id": "3610e726",
   "metadata": {
    "execution": {
     "iopub.execute_input": "2024-04-30T02:45:41.234914Z",
     "iopub.status.busy": "2024-04-30T02:45:41.234181Z",
     "iopub.status.idle": "2024-04-30T02:45:41.246903Z",
     "shell.execute_reply": "2024-04-30T02:45:41.246292Z"
    },
    "lines_to_next_cell": 1,
    "papermill": {
     "duration": 0.032726,
     "end_time": "2024-04-30T02:45:41.248576",
     "exception": false,
     "start_time": "2024-04-30T02:45:41.215850",
     "status": "completed"
    },
    "tags": []
   },
   "outputs": [],
   "source": [
    "# https://leetcode.com/problems/surrounded-regions/submissions/1238092752\n",
    "def solve(board: list[list[str]]) -> None:\n",
    "    \"Time: O(M x N), Time: O(M x N)\"\n",
    "    M, N = len(board), len(board[0])\n",
    "\n",
    "    stack: list[tuple[int, int]] = []\n",
    "    visited: set[tuple[int, int]] = set()\n",
    "\n",
    "    # Capture all zeros at the borders\n",
    "    for i in range(M):\n",
    "        for j in range(N):\n",
    "            if (i in (0, M - 1) or j in (0, N - 1)) and board[i][j] == \"O\":\n",
    "                stack.append((i, j))\n",
    "\n",
    "    # Do a DFS and mark zeros into visited\n",
    "    while stack:\n",
    "        i, j = stack.pop()\n",
    "        visited.add((i, j))\n",
    "        for x, y in [(-1, 0), (0, -1), (0, 1), (1, 0)]:\n",
    "            row, col = i + x, j + y\n",
    "            if 0 <= row < M and 0 <= col < N and board[row][col] == 'O' and (row, col) not in visited:\n",
    "                stack.append((row, col))\n",
    "\n",
    "    # Visited set contains all 'O' adjacent to 'O's that cannot be flipped\n",
    "    for i in range(M):\n",
    "        for j in range(N):\n",
    "            if (i, j) not in visited:\n",
    "                board[i][j] = \"X\"\n",
    "\n",
    "# Testing the solution\n",
    "for inp, op in [\n",
    "    (\n",
    "        [[\"X\",\"X\",\"X\",\"X\"],[\"X\",\"O\",\"O\",\"X\"],[\"X\",\"X\",\"O\",\"X\"],[\"X\",\"O\",\"X\",\"X\"]],\n",
    "        [[\"X\",\"X\",\"X\",\"X\"],[\"X\",\"X\",\"X\",\"X\"],[\"X\",\"X\",\"X\",\"X\"],[\"X\",\"O\",\"X\",\"X\"]]\n",
    "    ),\n",
    "    (\n",
    "        [[\"X\",\"X\",\"X\",\"X\"],[\"X\",\"O\",\"O\",\"X\"],[\"X\",\"X\",\"O\",\"X\"],[\"X\",\"X\",\"O\",\"X\"]],\n",
    "        [[\"X\",\"X\",\"X\",\"X\"],[\"X\",\"O\",\"O\",\"X\"],[\"X\",\"X\",\"O\",\"X\"],[\"X\",\"X\",\"O\",\"X\"]]\n",
    "    )\n",
    "]:\n",
    "    solve(inp)\n",
    "    assert inp == op"
   ]
  },
  {
   "cell_type": "markdown",
   "id": "0b264d5d",
   "metadata": {
    "papermill": {
     "duration": 0.017046,
     "end_time": "2024-04-30T02:45:41.282915",
     "exception": false,
     "start_time": "2024-04-30T02:45:41.265869",
     "status": "completed"
    },
    "tags": []
   },
   "source": [
    "Number of Enclaves\n",
    "Video Link: https://youtu.be/7zmgQSJghpo?si=XSGlRuO_V105V2XK"
   ]
  },
  {
   "cell_type": "code",
   "execution_count": 13,
   "id": "5647a7a1",
   "metadata": {
    "execution": {
     "iopub.execute_input": "2024-04-30T02:45:41.318632Z",
     "iopub.status.busy": "2024-04-30T02:45:41.318001Z",
     "iopub.status.idle": "2024-04-30T02:45:41.327537Z",
     "shell.execute_reply": "2024-04-30T02:45:41.326780Z"
    },
    "lines_to_next_cell": 1,
    "papermill": {
     "duration": 0.029381,
     "end_time": "2024-04-30T02:45:41.329286",
     "exception": false,
     "start_time": "2024-04-30T02:45:41.299905",
     "status": "completed"
    },
    "tags": []
   },
   "outputs": [],
   "source": [
    "# https://leetcode.com/problems/number-of-enclaves/submissions/1238117024\n",
    "def numEnclaves(grid: list[list[int]]) -> int:\n",
    "    \"Time: O(M x N), Space: O(M x N) recursion stack space\"\n",
    "    M, N = len(grid), len(grid[0])\n",
    "\n",
    "    def DFS(row: int, col: int):\n",
    "        grid[row][col] = 0\n",
    "        for x, y in [(-1, 0), (0, -1), (0, 1), (1, 0)]:\n",
    "            i_, j_ = row + x, col + y\n",
    "            if 0 <= i_ < M and 0 <= j_ < N and grid[i_][j_] == 1:\n",
    "                DFS(i_, j_)\n",
    "\n",
    "    for i in range(M):\n",
    "        for j in range(N):\n",
    "            if (i in (0, M - 1) or j in (0, N - 1)) and grid[i][j] == 1:\n",
    "                DFS(i, j)\n",
    "\n",
    "    enclaves = 0\n",
    "    for i in range(M):\n",
    "        for j in range(N):\n",
    "            if grid[i][j] == 1:\n",
    "                enclaves += 1\n",
    "\n",
    "    return enclaves\n",
    "\n",
    "# Testing the solution\n",
    "assert numEnclaves([[0,0,0,0],[1,0,1,0],[0,1,1,0],[0,0,0,0]]) == 3\n",
    "assert numEnclaves([[0,1,1,0],[0,0,1,0],[0,0,1,0],[0,0,0,0]]) == 0"
   ]
  },
  {
   "cell_type": "markdown",
   "id": "83ddc4a6",
   "metadata": {
    "papermill": {
     "duration": 0.017182,
     "end_time": "2024-04-30T02:45:41.364296",
     "exception": false,
     "start_time": "2024-04-30T02:45:41.347114",
     "status": "completed"
    },
    "tags": []
   },
   "source": [
    "Video link: https://youtu.be/7zmgQSJghpo?si=VR9VnvBwe-esRaau\n",
    "Distinct Islands"
   ]
  },
  {
   "cell_type": "code",
   "execution_count": 14,
   "id": "77dd14f8",
   "metadata": {
    "execution": {
     "iopub.execute_input": "2024-04-30T02:45:41.400114Z",
     "iopub.status.busy": "2024-04-30T02:45:41.399833Z",
     "iopub.status.idle": "2024-04-30T02:45:41.410699Z",
     "shell.execute_reply": "2024-04-30T02:45:41.410039Z"
    },
    "lines_to_next_cell": 1,
    "papermill": {
     "duration": 0.030989,
     "end_time": "2024-04-30T02:45:41.412427",
     "exception": false,
     "start_time": "2024-04-30T02:45:41.381438",
     "status": "completed"
    },
    "tags": []
   },
   "outputs": [],
   "source": [
    "def distinctIsland(arr: list[list[int]], N: int, M: int) :\n",
    "    \"Time: O(M x N), Space: O(M x N)\"\n",
    "\n",
    "    islands: set[tuple[tuple[int, int], ...]] = set()\n",
    "    visited: set[tuple[int, int]] = set()\n",
    "\n",
    "    def BFS(row: int, col: int) -> tuple[tuple[int, int], ...]:\n",
    "        # Time: O(M x N)\n",
    "        queue: collections.deque = collections.deque([(row, col)])\n",
    "        island: list[tuple[int, int]] = []\n",
    "        while queue:\n",
    "            i, j = queue.popleft()\n",
    "            if 0 <= i < N and 0 <= j < M and (i, j) not in visited and arr[i][j] == 1:\n",
    "                visited.add((i, j))\n",
    "                island.append((i - row, j - col))\n",
    "                queue.extend([(i - 1, j), (i, j - 1), (i, j + 1), (i + 1, j)])\n",
    "\n",
    "        return tuple(island)\n",
    "\n",
    "    for i in range(N):\n",
    "        for j in range(M):\n",
    "            if arr[i][j] == 1:\n",
    "                island: tuple[tuple[int, int], ...] = BFS(i, j)\n",
    "                if island:\n",
    "                    islands.add(island)\n",
    "\n",
    "    return len(islands)\n",
    "\n",
    "# Testing the solution\n",
    "assert distinctIsland([[1, 1, 0, 0, 0], [1, 1, 0, 0, 0], [0, 0, 0, 1, 1], [0, 0, 0, 1, 1]], 4, 5) == 1\n",
    "assert distinctIsland([[1, 1, 0, 1, 1], [1, 0, 0, 0, 0], [0, 0, 0, 0, 1], [1, 1, 0, 1, 1]], 4, 5) == 3"
   ]
  },
  {
   "cell_type": "markdown",
   "id": "f49a3367",
   "metadata": {
    "papermill": {
     "duration": 0.016895,
     "end_time": "2024-04-30T02:45:41.446441",
     "exception": false,
     "start_time": "2024-04-30T02:45:41.429546",
     "status": "completed"
    },
    "tags": []
   },
   "source": [
    "Video Link: https://youtu.be/-vu34sct1g8?si=H2DEd5HB-B6oAU4p\n",
    "Bipartite Graph (BFS): https://leetcode.com/problems/is-graph-bipartite/description/"
   ]
  },
  {
   "cell_type": "code",
   "execution_count": 15,
   "id": "8584fbc4",
   "metadata": {
    "execution": {
     "iopub.execute_input": "2024-04-30T02:45:41.482352Z",
     "iopub.status.busy": "2024-04-30T02:45:41.481749Z",
     "iopub.status.idle": "2024-04-30T02:45:41.491849Z",
     "shell.execute_reply": "2024-04-30T02:45:41.491215Z"
    },
    "lines_to_next_cell": 1,
    "papermill": {
     "duration": 0.029874,
     "end_time": "2024-04-30T02:45:41.493561",
     "exception": false,
     "start_time": "2024-04-30T02:45:41.463687",
     "status": "completed"
    },
    "tags": []
   },
   "outputs": [],
   "source": [
    "def isBipartite(graph: list[list[int]]) -> bool:\n",
    "    \"Time: O(N), Space: O(N)\"\n",
    "    visited: dict[int, bool] = dict()\n",
    "    def checkBipartiteBFS(root: int) -> bool:\n",
    "        # https://leetcode.com/problems/is-graph-bipartite/submissions/1238665067\n",
    "        queue: collections.deque = collections.deque([(root, True)])\n",
    "        while queue:\n",
    "            curr, color = queue.popleft()\n",
    "            if curr not in visited:\n",
    "                visited[curr] = color\n",
    "                for next_ in graph[curr]:\n",
    "                    queue.append((next_, not color))\n",
    "            elif color != visited[curr]:\n",
    "                return False\n",
    "        return True\n",
    "\n",
    "    def checkBipartiteDFS(root: int) -> bool:\n",
    "        # https://leetcode.com/problems/is-graph-bipartite/submissions/1238671846/\n",
    "        stack: list[tuple[int, bool]] = [(root, True)]\n",
    "        while stack:\n",
    "            curr, color = stack.pop()\n",
    "            if curr not in visited:\n",
    "                visited[curr] = color\n",
    "                for next_ in graph[curr]:\n",
    "                    stack.append((next_, not color))\n",
    "            elif color != visited[curr]:\n",
    "                return False\n",
    "\n",
    "        return True\n",
    "\n",
    "    for curr in range(len(graph)):\n",
    "        if curr not in visited and not checkBipartiteDFS(curr):\n",
    "            return False\n",
    "\n",
    "    return True\n",
    "\n",
    "# Testing the solution\n",
    "assert isBipartite([[1,2,3],[0,2],[0,1,3],[0,2]]) == False\n",
    "assert isBipartite([[1,3],[0,2],[1,3],[0,2]]) == True"
   ]
  },
  {
   "cell_type": "markdown",
   "id": "b8c8a001",
   "metadata": {
    "papermill": {
     "duration": 0.016909,
     "end_time": "2024-04-30T02:45:41.527643",
     "exception": false,
     "start_time": "2024-04-30T02:45:41.510734",
     "status": "completed"
    },
    "tags": []
   },
   "source": [
    "Detect cycle in directed graph with DFS: https://youtu.be/9twcmtQj4DU?si=2xZsVlk1bdtLbHz5"
   ]
  },
  {
   "cell_type": "code",
   "execution_count": 16,
   "id": "f1cf48b4",
   "metadata": {
    "execution": {
     "iopub.execute_input": "2024-04-30T02:45:41.563297Z",
     "iopub.status.busy": "2024-04-30T02:45:41.562680Z",
     "iopub.status.idle": "2024-04-30T02:45:41.571089Z",
     "shell.execute_reply": "2024-04-30T02:45:41.570474Z"
    },
    "lines_to_next_cell": 1,
    "papermill": {
     "duration": 0.028007,
     "end_time": "2024-04-30T02:45:41.572766",
     "exception": false,
     "start_time": "2024-04-30T02:45:41.544759",
     "status": "completed"
    },
    "tags": []
   },
   "outputs": [],
   "source": [
    "def isCyclicDFS(V: int, E: int, edges: list[tuple[int, int]]) -> bool:\n",
    "    adjl: dict[int, list[int]] = dict()\n",
    "    for n1, n2 in edges:\n",
    "        n1_neighbours = adjl.get(n1, [])\n",
    "        n1_neighbours.append(n2)\n",
    "        adjl[n1] = n1_neighbours\n",
    "\n",
    "    def checkCycle(root: int, paths: set[int] = set()) -> bool:\n",
    "        if root in paths:\n",
    "            return True\n",
    "        elif root in visited:\n",
    "            return False\n",
    "        else:\n",
    "            visited.add(root)\n",
    "            paths.add(root)\n",
    "            for next_ in adjl.get(root, []):\n",
    "                if checkCycle(next_, paths):\n",
    "                    return True\n",
    "            paths.remove(root)\n",
    "            return False\n",
    "\n",
    "    visited: set[int] = set()\n",
    "    for curr in range(V):\n",
    "        if checkCycle(curr):\n",
    "            return True\n",
    "    else:\n",
    "        return False\n",
    "\n",
    "# Testing the solution\n",
    "assert isCyclicDFS(4, 4, [(0,1), (1,2), (2,3), (3,0)]) == True\n",
    "assert isCyclicDFS(3, 3, [(1,0), (1,2), (0,2)]) == False"
   ]
  },
  {
   "cell_type": "markdown",
   "id": "a75c6088",
   "metadata": {
    "papermill": {
     "duration": 0.017108,
     "end_time": "2024-04-30T02:45:41.607352",
     "exception": false,
     "start_time": "2024-04-30T02:45:41.590244",
     "status": "completed"
    },
    "tags": []
   },
   "source": [
    "Eventual Safe states (DFS): https://youtu.be/uRbJ1OF9aYM?si=8J-ujp8LUkpO887c"
   ]
  },
  {
   "cell_type": "code",
   "execution_count": 17,
   "id": "e3bfb6f2",
   "metadata": {
    "execution": {
     "iopub.execute_input": "2024-04-30T02:45:41.643783Z",
     "iopub.status.busy": "2024-04-30T02:45:41.642988Z",
     "iopub.status.idle": "2024-04-30T02:45:41.651917Z",
     "shell.execute_reply": "2024-04-30T02:45:41.651123Z"
    },
    "lines_to_next_cell": 1,
    "papermill": {
     "duration": 0.029192,
     "end_time": "2024-04-30T02:45:41.653742",
     "exception": false,
     "start_time": "2024-04-30T02:45:41.624550",
     "status": "completed"
    },
    "tags": []
   },
   "outputs": [],
   "source": [
    "# https://leetcode.com/problems/find-eventual-safe-states/submissions/1239573858\n",
    "def eventualSafeNodes(V: int, adj: list[list[int]]) -> list[int]:\n",
    "\n",
    "    # Visited - True if unsafe, False otherwise\n",
    "    visited: dict[int, bool] = dict()\n",
    "\n",
    "    def checkCycle(root: int, paths: set[int] = set()) -> bool:\n",
    "        if root in visited:\n",
    "            return visited[root]\n",
    "        elif root in paths:\n",
    "            return True\n",
    "        else:\n",
    "            paths.add(root)\n",
    "            for next_ in adj[root]:\n",
    "                if checkCycle(next_, paths):\n",
    "                    visited[root] = True\n",
    "                    return True\n",
    "\n",
    "            paths.remove(root)\n",
    "            visited[root] = False\n",
    "            return False\n",
    "\n",
    "    result: list[int] = []\n",
    "    for curr in range(V):\n",
    "        if not checkCycle(curr):\n",
    "            result.append(curr)\n",
    "\n",
    "    return result\n",
    "\n",
    "# Testing the solution\n",
    "assert eventualSafeNodes(7, [[1, 2], [2, 3], [5], [0], [5], [], []]) == [2, 4, 5, 6]\n",
    "assert eventualSafeNodes(4, [[1], [2], [0,3], []]) == [3]"
   ]
  },
  {
   "cell_type": "markdown",
   "id": "e2a1e13b",
   "metadata": {
    "papermill": {
     "duration": 0.01711,
     "end_time": "2024-04-30T02:45:41.688761",
     "exception": false,
     "start_time": "2024-04-30T02:45:41.671651",
     "status": "completed"
    },
    "tags": []
   },
   "source": [
    "Topological sorting DFS: https://youtu.be/5lZ0iJMrUMk?si=lSTD3o2QoGGjiwxO"
   ]
  },
  {
   "cell_type": "code",
   "execution_count": 18,
   "id": "806cdb46",
   "metadata": {
    "execution": {
     "iopub.execute_input": "2024-04-30T02:45:41.725205Z",
     "iopub.status.busy": "2024-04-30T02:45:41.724484Z",
     "iopub.status.idle": "2024-04-30T02:45:41.737281Z",
     "shell.execute_reply": "2024-04-30T02:45:41.736543Z"
    },
    "lines_to_next_cell": 1,
    "papermill": {
     "duration": 0.032789,
     "end_time": "2024-04-30T02:45:41.738907",
     "exception": false,
     "start_time": "2024-04-30T02:45:41.706118",
     "status": "completed"
    },
    "tags": []
   },
   "outputs": [
    {
     "data": {
      "text/plain": [
       "[0, 3, 1, 2, 4]"
      ]
     },
     "execution_count": 18,
     "metadata": {},
     "output_type": "execute_result"
    }
   ],
   "source": [
    "def topologicalSortBetter(adj: dict[int, list[int]], V: int, E: int):\n",
    "    \"Time: O((V + E) x log (V + E)), Space: O(N)\"\n",
    "    def calcWeights(root: int) -> int:\n",
    "        if root in weights:\n",
    "            return weights[root]\n",
    "        else:\n",
    "            weight = 1\n",
    "            for next_ in adj.get(root, []):\n",
    "                weight += calcWeights(next_)\n",
    "\n",
    "            weights[root] = weight\n",
    "            return weight\n",
    "\n",
    "    weights: dict[int, int] = dict()\n",
    "    result: list[int] = []\n",
    "    for curr in range(V):\n",
    "        calcWeights(curr)\n",
    "        result.append(curr)\n",
    "\n",
    "    result.sort(key=lambda x: weights[x], reverse=True)\n",
    "    return result\n",
    "\n",
    "# Testing the solution\n",
    "topologicalSortBetter({0: [2,4], 1: [2], 3: [1]}, 5, 4)"
   ]
  },
  {
   "cell_type": "code",
   "execution_count": 19,
   "id": "8365f0a8",
   "metadata": {
    "execution": {
     "iopub.execute_input": "2024-04-30T02:45:41.775957Z",
     "iopub.status.busy": "2024-04-30T02:45:41.774614Z",
     "iopub.status.idle": "2024-04-30T02:45:41.784220Z",
     "shell.execute_reply": "2024-04-30T02:45:41.783490Z"
    },
    "lines_to_next_cell": 1,
    "papermill": {
     "duration": 0.029474,
     "end_time": "2024-04-30T02:45:41.785993",
     "exception": false,
     "start_time": "2024-04-30T02:45:41.756519",
     "status": "completed"
    },
    "tags": []
   },
   "outputs": [
    {
     "data": {
      "text/plain": [
       "[5, 4, 2, 3, 1, 0]"
      ]
     },
     "execution_count": 19,
     "metadata": {},
     "output_type": "execute_result"
    }
   ],
   "source": [
    "# Much more brilliant and clean approach from Striver\n",
    "def topologicalSortDFS(adj: dict[int, list[int]], V: int, E: int):\n",
    "    \"Time: O(V + E), Space: O(N)\"\n",
    "    def backtrack(root: int):\n",
    "        if root in visited:\n",
    "            return\n",
    "        else:\n",
    "            visited.add(root)\n",
    "            for next_ in adj.get(root, []):\n",
    "                backtrack(next_)\n",
    "            stack.append(root)\n",
    "\n",
    "    visited: set[int] = set()\n",
    "    stack: list[int] = []\n",
    "    for curr in range(V):\n",
    "        backtrack(curr)\n",
    "\n",
    "    stack.reverse()\n",
    "    return stack\n",
    "\n",
    "# Testing the solution\n",
    "topologicalSortDFS({0: [], 1: [], 2: [3], 3: [1], 4: [0,1], 5: [0,2]}, 6, 6)"
   ]
  },
  {
   "cell_type": "markdown",
   "id": "166e867d",
   "metadata": {
    "papermill": {
     "duration": 0.017375,
     "end_time": "2024-04-30T02:45:41.820925",
     "exception": false,
     "start_time": "2024-04-30T02:45:41.803550",
     "status": "completed"
    },
    "tags": []
   },
   "source": [
    "Topological Sorting with BFS (Kahn's Algorithm): https://youtu.be/73sneFXuTEg?si=TeG_vMqnXLz2NR6M"
   ]
  },
  {
   "cell_type": "code",
   "execution_count": 20,
   "id": "9aca2f0e",
   "metadata": {
    "execution": {
     "iopub.execute_input": "2024-04-30T02:45:41.857480Z",
     "iopub.status.busy": "2024-04-30T02:45:41.856796Z",
     "iopub.status.idle": "2024-04-30T02:45:41.867484Z",
     "shell.execute_reply": "2024-04-30T02:45:41.866745Z"
    },
    "lines_to_next_cell": 1,
    "papermill": {
     "duration": 0.030745,
     "end_time": "2024-04-30T02:45:41.869241",
     "exception": false,
     "start_time": "2024-04-30T02:45:41.838496",
     "status": "completed"
    },
    "tags": []
   },
   "outputs": [
    {
     "data": {
      "text/plain": [
       "[4, 5, 0, 2, 3, 1]"
      ]
     },
     "execution_count": 20,
     "metadata": {},
     "output_type": "execute_result"
    }
   ],
   "source": [
    "def topologicalSortBFS(adj: dict[int, list[int]], V: int, E: int):\n",
    "    \"\"\"\n",
    "    Topo sort using BFS - Kahn's Algo.\n",
    "\n",
    "    1. Figure out all nodes with indegree 0 and insert them into a queue.\n",
    "    2. Iterate across the elements of the queue and on each step, we decrease indegree of all adjancent nodes.\n",
    "    3. Once iterated across all neighbouring nodes we insert the node into our linear ordering.\n",
    "\n",
    "    Time: O(V + E), Space: O(N)\n",
    "    \"\"\"\n",
    "\n",
    "    # Compute the indegree of all nodes\n",
    "    indegree: dict[int, int] = dict()\n",
    "    for n1 in range(V):\n",
    "        for n2 in adj[n1]:\n",
    "            indegree[n2] = indegree.get(n2, 0) + 1\n",
    "\n",
    "    # All nodes with indegree 0 are added to our queue\n",
    "    queue: collections.deque = collections.deque()\n",
    "    for n1 in range(V):\n",
    "        if n1 not in indegree:\n",
    "            indegree[n1] = 0\n",
    "            queue.append(n1)\n",
    "\n",
    "    # BFS, popout nodes with 0 indegrees.\n",
    "    # Iterate through neighbours and decrease indegree by 1.\n",
    "    # If indegree becomes 0, append to our queue.\n",
    "    result: list[int] = []\n",
    "    while queue:\n",
    "        n1 = queue.popleft()\n",
    "        for n2 in adj.get(n1, []):\n",
    "            indegree[n2] = indegree[n2] - 1\n",
    "            if indegree[n2] == 0:\n",
    "                queue.append(n2)\n",
    "        result.append(n1)\n",
    "\n",
    "    return result\n",
    "\n",
    "# Testing the solution\n",
    "topologicalSortBFS({0: [], 1: [], 2: [3], 3: [1], 4: [0,1], 5: [0,2]}, 6, 6)"
   ]
  },
  {
   "cell_type": "markdown",
   "id": "318e0702",
   "metadata": {
    "papermill": {
     "duration": 0.017609,
     "end_time": "2024-04-30T02:45:41.904513",
     "exception": false,
     "start_time": "2024-04-30T02:45:41.886904",
     "status": "completed"
    },
    "tags": []
   },
   "source": [
    "Video Link: https://youtu.be/WAOfKpxYHR8?si=KdXRvzRuinvS50gx"
   ]
  },
  {
   "cell_type": "markdown",
   "id": "bd6a415c",
   "metadata": {
    "papermill": {
     "duration": 0.017405,
     "end_time": "2024-04-30T02:45:41.939479",
     "exception": false,
     "start_time": "2024-04-30T02:45:41.922074",
     "status": "completed"
    },
    "tags": []
   },
   "source": [
    "Course schedule - 1: https://leetcode.com/problems/course-schedule/submissions/1240848705/"
   ]
  },
  {
   "cell_type": "code",
   "execution_count": 21,
   "id": "d2aca589",
   "metadata": {
    "execution": {
     "iopub.execute_input": "2024-04-30T02:45:41.976573Z",
     "iopub.status.busy": "2024-04-30T02:45:41.975820Z",
     "iopub.status.idle": "2024-04-30T02:45:41.984766Z",
     "shell.execute_reply": "2024-04-30T02:45:41.983982Z"
    },
    "lines_to_next_cell": 1,
    "papermill": {
     "duration": 0.029313,
     "end_time": "2024-04-30T02:45:41.986381",
     "exception": false,
     "start_time": "2024-04-30T02:45:41.957068",
     "status": "completed"
    },
    "tags": []
   },
   "outputs": [],
   "source": [
    "def canFinish(numCourses: int, prerequisites: list[list[int]]) -> bool:\n",
    "    \"\"\"\n",
    "    Run Kahn's algorithm and check the topological sort output. If length of op < numCourses, we have a cycle.\n",
    "\n",
    "    Time: O(V + E), Space: O(V)\n",
    "    \"\"\"\n",
    "\n",
    "    # Create an adjacency list\n",
    "    adj: dict[int, list[int]] = dict()\n",
    "    for n1, n2 in prerequisites:\n",
    "        n1_neighbours = adj.get(n1, [])\n",
    "        n1_neighbours.append(n2)\n",
    "        adj[n1] = n1_neighbours\n",
    "\n",
    "    # Compute indegree for all nodes\n",
    "    indegree: dict[int, int] = dict()\n",
    "    for edges in adj.values():\n",
    "        for n1 in edges:\n",
    "            indegree[n1] = indegree.get(n1, 0) + 1\n",
    "\n",
    "    # Find out nodes with 0 indegree (terminal nodes)\n",
    "    queue: collections.deque = collections.deque()\n",
    "    for n1 in range(numCourses):\n",
    "        if n1 not in indegree:\n",
    "            indegree[n1] = 0\n",
    "            queue.append(n1)\n",
    "\n",
    "    # BFS on queue, remove indegree to all neighbours of curr node. If neighbour indegree becomes 0, append to queue.\n",
    "    while queue:\n",
    "        curr = queue.popleft()\n",
    "        for next_ in adj.get(curr, []):\n",
    "            indegree[next_] -= 1\n",
    "            if indegree[next_] == 0:\n",
    "                queue.append(next_)\n",
    "\n",
    "        numCourses -= 1\n",
    "\n",
    "    return numCourses == 0\n",
    "\n",
    "# Testing the solution\n",
    "assert canFinish(2, [[1,0]]) == True\n",
    "assert canFinish(2, [[1,0],[0,1]]) == False"
   ]
  },
  {
   "cell_type": "markdown",
   "id": "f8a6e7b3",
   "metadata": {
    "papermill": {
     "duration": 0.017517,
     "end_time": "2024-04-30T02:45:42.021538",
     "exception": false,
     "start_time": "2024-04-30T02:45:42.004021",
     "status": "completed"
    },
    "tags": []
   },
   "source": [
    "Course schedule - 2: https://leetcode.com/problems/course-schedule-ii/submissions/1240905168/"
   ]
  },
  {
   "cell_type": "code",
   "execution_count": 22,
   "id": "04331e57",
   "metadata": {
    "execution": {
     "iopub.execute_input": "2024-04-30T02:45:42.058276Z",
     "iopub.status.busy": "2024-04-30T02:45:42.057567Z",
     "iopub.status.idle": "2024-04-30T02:45:42.068253Z",
     "shell.execute_reply": "2024-04-30T02:45:42.067494Z"
    },
    "lines_to_next_cell": 1,
    "papermill": {
     "duration": 0.03085,
     "end_time": "2024-04-30T02:45:42.069945",
     "exception": false,
     "start_time": "2024-04-30T02:45:42.039095",
     "status": "completed"
    },
    "tags": []
   },
   "outputs": [],
   "source": [
    "def findOrder(numCourses: int, prerequisites: list[tuple[int, int]]) -> list[int]:\n",
    "    # Create an adjacency list\n",
    "    adj: dict[int, list[int]] = dict()\n",
    "    for n1, n2 in prerequisites:\n",
    "        n1_neighbours = adj.get(n1, [])\n",
    "        n1_neighbours.append(n2)\n",
    "        adj[n1] = n1_neighbours\n",
    "\n",
    "    # Compute indegree for all nodes\n",
    "    indegree: dict[int, int] = dict()\n",
    "    for edges in adj.values():\n",
    "        for n1 in edges:\n",
    "            indegree[n1] = indegree.get(n1, 0) + 1\n",
    "\n",
    "    # Find out nodes with 0 indegree (terminal nodes)\n",
    "    queue: collections.deque = collections.deque()\n",
    "    for n1 in range(numCourses):\n",
    "        if n1 not in indegree:\n",
    "            indegree[n1] = 0\n",
    "            queue.append(n1)\n",
    "\n",
    "    # Store the ordering into a list\n",
    "    result: list[int] = []\n",
    "    while queue:\n",
    "        n1 = queue.popleft()\n",
    "        for n2 in adj.get(n1, []):\n",
    "            indegree[n2] -= 1\n",
    "            if indegree[n2] == 0:\n",
    "                queue.append(n2)\n",
    "        result.append(n1)\n",
    "\n",
    "    result.reverse()\n",
    "    return result if len(result) == numCourses else []\n",
    "\n",
    "# Testing the solution\n",
    "for inp in [\n",
    "        [(1,0),(2,0),(3,1),(3,2)], [(1,0)], [(0,1),(1,2),(2,0)]\n",
    "    ]:\n",
    "        op = {n: i for i, n in enumerate(findOrder(4, inp))}\n",
    "        if not op:\n",
    "            V, E = max(map(max, inp)), len(inp)\n",
    "            assert isCyclicDFS(V, E, inp)\n",
    "        else:\n",
    "            for n1, n2 in inp:\n",
    "                assert op[n1] > op[n2]"
   ]
  },
  {
   "cell_type": "markdown",
   "id": "7cc4aaeb",
   "metadata": {
    "papermill": {
     "duration": 0.017491,
     "end_time": "2024-04-30T02:45:42.105412",
     "exception": false,
     "start_time": "2024-04-30T02:45:42.087921",
     "status": "completed"
    },
    "tags": []
   },
   "source": [
    "Video link: https://youtu.be/2gtg3VsDGyc?si=l4U9ljeQk6vBufj-\n",
    "Eventual Safe States with BFS"
   ]
  },
  {
   "cell_type": "code",
   "execution_count": 23,
   "id": "f5f3c530",
   "metadata": {
    "execution": {
     "iopub.execute_input": "2024-04-30T02:45:42.142260Z",
     "iopub.status.busy": "2024-04-30T02:45:42.141541Z",
     "iopub.status.idle": "2024-04-30T02:45:42.151626Z",
     "shell.execute_reply": "2024-04-30T02:45:42.151004Z"
    },
    "lines_to_next_cell": 1,
    "papermill": {
     "duration": 0.030376,
     "end_time": "2024-04-30T02:45:42.153337",
     "exception": false,
     "start_time": "2024-04-30T02:45:42.122961",
     "status": "completed"
    },
    "tags": []
   },
   "outputs": [],
   "source": [
    "# https://leetcode.com/problems/find-eventual-safe-states/submissions/1241269468\n",
    "def eventualSafeNodesBFS(V: int, graph: list[list[int]]) -> list[int]:\n",
    "    \"\"\"\n",
    "    1. Reverse all edges and perform a topo sort.\n",
    "    2. All unsafe elements are auto eliminated.\n",
    "\n",
    "    The way Kahn's algorithm works is to BFS across the nodes with indegree 0 and eliminating the edges one by one.\n",
    "    By swapping the edges we get terminal nodes to have an indegree of 0 (outdegree was 0 initially).\n",
    "\n",
    "    We traverse until we cover all nodes that are connected to terminal nodes. Nodes that are not connected to terminal nodes are unsafe.\n",
    "\n",
    "    Time: O(V log V), Space: O(V + E)\n",
    "    \"\"\"\n",
    "\n",
    "    # Swap the edges, compute the indegree\n",
    "    indegree: dict[int, int] = dict()\n",
    "    adj: dict[int, list[int]] = dict()\n",
    "    for n1 in range(V):\n",
    "        for n2 in graph[n1]:\n",
    "            n2_neighbours = adj.get(n2, [])\n",
    "            n2_neighbours.append(n1)\n",
    "            adj[n2] = n2_neighbours\n",
    "            indegree[n1] = indegree.get(n1, 0) + 1\n",
    "\n",
    "    # Store all nodes with 0 indegree to our queue\n",
    "    queue: collections.deque = collections.deque()\n",
    "    for n1 in range(V):\n",
    "        if n1 not in indegree:\n",
    "            indegree[n1] = 0\n",
    "            queue.append(n1)\n",
    "\n",
    "    # Do a BFS traversal\n",
    "    result: list[int] = []\n",
    "    while queue:\n",
    "        n1 = queue.popleft()\n",
    "        result.append(n1)\n",
    "        for n2 in adj.get(n1, []):\n",
    "            indegree[n2] -= 1\n",
    "            if indegree[n2] == 0:\n",
    "                queue.append(n2)\n",
    "\n",
    "    return sorted(result)\n",
    "\n",
    "# Testing the solution\n",
    "assert eventualSafeNodesBFS(7, [[1, 2], [2, 3], [5], [0], [5], [], []]) == [2, 4, 5, 6]\n",
    "assert eventualSafeNodesBFS(4, [[1], [2], [0,3], []]) == [3]"
   ]
  },
  {
   "cell_type": "markdown",
   "id": "08156d76",
   "metadata": {
    "papermill": {
     "duration": 0.017525,
     "end_time": "2024-04-30T02:45:42.188711",
     "exception": false,
     "start_time": "2024-04-30T02:45:42.171186",
     "status": "completed"
    },
    "tags": []
   },
   "source": [
    "Video Link: https://youtu.be/U3N_je7tWAs?si=ZkvYEfyaDOVehnEa\n",
    "Alien Dictionary"
   ]
  },
  {
   "cell_type": "code",
   "execution_count": 24,
   "id": "42166b86",
   "metadata": {
    "execution": {
     "iopub.execute_input": "2024-04-30T02:45:42.225937Z",
     "iopub.status.busy": "2024-04-30T02:45:42.225294Z",
     "iopub.status.idle": "2024-04-30T02:45:42.238738Z",
     "shell.execute_reply": "2024-04-30T02:45:42.237974Z"
    },
    "lines_to_next_cell": 1,
    "papermill": {
     "duration": 0.03395,
     "end_time": "2024-04-30T02:45:42.240425",
     "exception": false,
     "start_time": "2024-04-30T02:45:42.206475",
     "status": "completed"
    },
    "tags": []
   },
   "outputs": [
    {
     "name": "stdout",
     "output_type": "stream",
     "text": [
      "['b', 'd', 'a', 'c']\n",
      "['c', 'a', 'b']\n"
     ]
    }
   ],
   "source": [
    "def alienDictionaryOrder(alien_dict: list[str], N: int, K: int) -> list[str]:\n",
    "    \"\"\"\n",
    "    Define a function that given two strings inorder as they appear in dictionary, can calculate relative ordering of characters in it.\n",
    "    Run the above function across all words in the dictionary (all possible pairs) to get the edges of the graph.\n",
    "\n",
    "    Once the relative ordering is captured, perform a topo sort.\n",
    "\n",
    "    Follow up: What if the dictionary is incorrect?\n",
    "    Check 1: String of larger length say: \"abc\" appears before string of smaller length: \"ab\" (char are matching until min length)\n",
    "    Check 2: If there is a cycle: [\"abc\", \"bcd\", \"ade\"] (when inserting an edge to adj, we can check if opp edge doesn't exist: a -> b exists, then b -> a should not exist)\n",
    "    \"\"\"\n",
    "\n",
    "    adj: dict[str, set[str]] = dict()\n",
    "    nodes: list[str] = [chr(i + ord('a')) for i in range(K)]\n",
    "    def computeOrdering(str1: str, str2: str):\n",
    "        N1, N2 = len(str1), len(str2)\n",
    "        i = 0\n",
    "        while i < N1 and i < N2:\n",
    "            n1, n2 = str1[i], str2[i]\n",
    "            i += 1\n",
    "            if n1 != n2:\n",
    "                n1_neighbours = adj.get(n1, set())\n",
    "                n1_neighbours.add(n2)\n",
    "                adj[n1] = n1_neighbours\n",
    "                return\n",
    "\n",
    "    # Compute ordering for all pairs\n",
    "    for i in range(N - 1):\n",
    "        computeOrdering(alien_dict[i], alien_dict[i + 1])\n",
    "\n",
    "    # Compute the indegree\n",
    "    indegree: dict[str, int] = dict()\n",
    "    for k in adj:\n",
    "        for v in adj[k]:\n",
    "            indegree[v] = indegree.get(v, 0) + 1\n",
    "\n",
    "    # Store all nodes with 0 indegree to queue\n",
    "    queue: collections.deque = collections.deque()\n",
    "    for curr in nodes:\n",
    "        if curr not in indegree:\n",
    "            indegree[curr] = 0\n",
    "            queue.append(curr)\n",
    "\n",
    "    result: list[str] = []\n",
    "    while queue:\n",
    "        curr = queue.popleft()\n",
    "        result.append(curr)\n",
    "        for next_ in adj.get(curr, []):\n",
    "            indegree[next_] -= 1\n",
    "            if indegree[next_] == 0:\n",
    "                queue.append(next_)\n",
    "\n",
    "    return result\n",
    "\n",
    "# Testing the solution\n",
    "print(alienDictionaryOrder([\"baa\",\"abcd\",\"abca\",\"cab\",\"cad\"], 5, 4))\n",
    "print(alienDictionaryOrder([\"caa\",\"aaa\",\"aab\"], 3, 3))"
   ]
  },
  {
   "cell_type": "markdown",
   "id": "ddb547c5",
   "metadata": {
    "papermill": {
     "duration": 0.017482,
     "end_time": "2024-04-30T02:45:42.275689",
     "exception": false,
     "start_time": "2024-04-30T02:45:42.258207",
     "status": "completed"
    },
    "tags": []
   },
   "source": [
    "Video Link: https://youtu.be/ZUFQfFaU-8U?si=SRwWuuRJN53CMn_w\n",
    "Shortest path in DAG (topological sorting)"
   ]
  },
  {
   "cell_type": "code",
   "execution_count": 25,
   "id": "29f9d887",
   "metadata": {
    "execution": {
     "iopub.execute_input": "2024-04-30T02:45:42.312753Z",
     "iopub.status.busy": "2024-04-30T02:45:42.312044Z",
     "iopub.status.idle": "2024-04-30T02:45:42.324431Z",
     "shell.execute_reply": "2024-04-30T02:45:42.323779Z"
    },
    "lines_to_next_cell": 1,
    "papermill": {
     "duration": 0.032759,
     "end_time": "2024-04-30T02:45:42.326067",
     "exception": false,
     "start_time": "2024-04-30T02:45:42.293308",
     "status": "completed"
    },
    "tags": []
   },
   "outputs": [],
   "source": [
    "def shortestPathInDAG(N: int, edges: list[list[int]], src: int) -> list[int]:\n",
    "    \"\"\"\n",
    "    1. Do a topo sort: DFS (stack).\n",
    "    2. Take nodes out of the stack and relax the edges.\n",
    "\n",
    "    Topo sorted stack works before we start with the guy that doesn't have any nodes before it.\n",
    "    As we progress into the stack, we would have travelled sequentially and nodes that comes before have already been computed.\n",
    "    \"\"\"\n",
    "\n",
    "    # Create the adjacency list out of the edges provided\n",
    "    adj: dict[int, list[tuple[int, int]]] = dict()\n",
    "    for n1, n2, w in edges:\n",
    "        n1_neighbours = adj.get(n1, [])\n",
    "        n1_neighbours.append((n2, w))\n",
    "        adj[n1] = n1_neighbours\n",
    "\n",
    "    # Perform a Topo sort and store result to stack\n",
    "    def topoDFS(root: int):\n",
    "        if root not in visited:\n",
    "            visited.add(root)\n",
    "            for next_, _ in adj.get(root, []):\n",
    "                topoDFS(next_)\n",
    "            stack.append(root)\n",
    "\n",
    "    stack: list[int] = []\n",
    "    visited: set[int] = set()\n",
    "    for curr in range(N):\n",
    "        topoDFS(curr)\n",
    "\n",
    "    # No appending to stack, simply continue popping and relax the edges\n",
    "    result: list[float] = [math.inf for _ in range(N)]\n",
    "    result[src] = 0\n",
    "    while stack:\n",
    "        curr = stack.pop()\n",
    "        for next_, next_dist in adj.get(curr, []):\n",
    "            result[next_] = min(result[curr] + next_dist, result[next_])\n",
    "\n",
    "    for i in range(N):\n",
    "        result[i] = result[i] if math.isfinite(result[i]) else -1\n",
    "\n",
    "    return list(map(int, result))\n",
    "\n",
    "# Testing the solution\n",
    "assert shortestPathInDAG(3, [[0,1,2], [1,2,3], [0,2,6]], 0) == [0, 2, 5]\n",
    "assert shortestPathInDAG(3, [[2,0,4],[0,1,3],[2,1,2]], 0) == [0, 3, -1]"
   ]
  },
  {
   "cell_type": "markdown",
   "id": "59089a00",
   "metadata": {
    "papermill": {
     "duration": 0.018086,
     "end_time": "2024-04-30T02:45:42.362020",
     "exception": false,
     "start_time": "2024-04-30T02:45:42.343934",
     "status": "completed"
    },
    "tags": []
   },
   "source": [
    "Shortest path in undirected graph with unit weights"
   ]
  },
  {
   "cell_type": "code",
   "execution_count": 26,
   "id": "685cf4ef",
   "metadata": {
    "execution": {
     "iopub.execute_input": "2024-04-30T02:45:42.399361Z",
     "iopub.status.busy": "2024-04-30T02:45:42.398770Z",
     "iopub.status.idle": "2024-04-30T02:45:42.410802Z",
     "shell.execute_reply": "2024-04-30T02:45:42.410111Z"
    },
    "lines_to_next_cell": 1,
    "papermill": {
     "duration": 0.032778,
     "end_time": "2024-04-30T02:45:42.412568",
     "exception": false,
     "start_time": "2024-04-30T02:45:42.379790",
     "status": "completed"
    },
    "tags": []
   },
   "outputs": [],
   "source": [
    "# Video link: https://youtu.be/C4gxoTaI71U?si=NQRmSQ7skeZnz9V0\n",
    "def shortestPath(edges: list[list[int]], N: int, M: int, src: int) -> list[int]:\n",
    "    # Create an adjacency list\n",
    "    adj: dict[int, list[int]] = dict()\n",
    "    for n1, n2 in edges:\n",
    "        n1_neighbours, n2_neighbours = adj.get(n1, []), adj.get(n2, [])\n",
    "        n1_neighbours.append(n2)\n",
    "        n2_neighbours.append(n1)\n",
    "        adj[n1], adj[n2] = n1_neighbours, n2_neighbours\n",
    "\n",
    "    # Perform a DFS traversal starting from source\n",
    "    def DFS(root: int, dist: int):\n",
    "        if distances[root] == -1 or distances[root] > dist:\n",
    "            distances[root] = dist\n",
    "            for next_ in adj.get(root, []):\n",
    "                DFS(next_, dist + 1)\n",
    "\n",
    "    # Perform BFS, only visit nodes not already visited, that way the shortest distance would already be saved.\n",
    "    # Since all edges are unit dist, we are guaranteed not to get a shorter distance.\n",
    "    def BFS(root: int):\n",
    "        queue: collections.deque = collections.deque([root])\n",
    "        distances[root] = 0\n",
    "        while queue:\n",
    "            curr = queue.popleft()\n",
    "            for next_ in adj.get(curr, []):\n",
    "                if distances[next_] == -1:\n",
    "                    queue.append(next_)\n",
    "                    distances[next_] = distances[curr] + 1\n",
    "\n",
    "    distances: list[int] = [-1 for _ in range(N)]\n",
    "    # DFS(src, 0)\n",
    "    BFS(src)\n",
    "    return distances\n",
    "\n",
    "# Testing the solution\n",
    "assert shortestPath([[0,1],[0,3],[3,4],[4,5],[5,6],[1,2],[2,6],[6,7],[7,8],[6,8]], 9, 10, 0) == [0,1,2,1,2,3,3,4,4]\n",
    "assert shortestPath([[0,0],[1,1],[1,3],[3,0]], 4, 4, 3) == [1,1,-1,0]"
   ]
  },
  {
   "cell_type": "markdown",
   "id": "0dee3c9a",
   "metadata": {
    "papermill": {
     "duration": 0.017622,
     "end_time": "2024-04-30T02:45:42.448488",
     "exception": false,
     "start_time": "2024-04-30T02:45:42.430866",
     "status": "completed"
    },
    "tags": []
   },
   "source": [
    "Word Ladder - 1: https://leetcode.com/problems/word-ladder/submissions/1242529557\n",
    "Video Link: https://youtu.be/tRPda0rcf8E?si=IvDpS_6OSFIa-iAY"
   ]
  },
  {
   "cell_type": "code",
   "execution_count": 27,
   "id": "ef9ed676",
   "metadata": {
    "execution": {
     "iopub.execute_input": "2024-04-30T02:45:42.485675Z",
     "iopub.status.busy": "2024-04-30T02:45:42.484972Z",
     "iopub.status.idle": "2024-04-30T02:45:42.493890Z",
     "shell.execute_reply": "2024-04-30T02:45:42.493235Z"
    },
    "lines_to_next_cell": 1,
    "papermill": {
     "duration": 0.029292,
     "end_time": "2024-04-30T02:45:42.495534",
     "exception": false,
     "start_time": "2024-04-30T02:45:42.466242",
     "status": "completed"
    },
    "tags": []
   },
   "outputs": [],
   "source": [
    "def ladderLength(beginWord: str, endWord: str, wordList: list[str]) -> int:\n",
    "    \"\"\"Time: O(N x len(word) * 26), Space: O(len(word))\"\"\"\n",
    "\n",
    "    # Compute length of all strings\n",
    "    N: int = len(beginWord)\n",
    "\n",
    "    # Create a hashmap for quick lookups\n",
    "    wordMap: dict[str, int] = {word: 0 for word in wordList}\n",
    "    wordMap[beginWord] = 1\n",
    "\n",
    "    # BFS to find out the sequence length of transformation\n",
    "    queue: collections.deque = collections.deque([(beginWord, 1)])\n",
    "    while queue:\n",
    "        curr, dist = queue.popleft()\n",
    "\n",
    "        # Generate all possible transformations (1 char changes)\n",
    "        for i in range(N):\n",
    "            for j in range(ord('a'), ord('z') + 1):\n",
    "                next_ = curr[:i] + chr(j) + curr[i + 1:]\n",
    "                if next_ in wordMap and wordMap[next_] == 0:\n",
    "                    wordMap[next_] = dist + 1\n",
    "                    queue.append((next_, dist + 1))\n",
    "\n",
    "    # endWord may or may not exist, return 0 if not found\n",
    "    return wordMap.get(endWord, 0)\n",
    "\n",
    "# Testing the solution\n",
    "assert ladderLength(\"hit\", \"cog\", [\"hot\",\"dot\",\"dog\",\"lot\",\"log\",\"cog\"]) == 5\n",
    "assert ladderLength(\"hit\", \"cog\", [\"hot\",\"dot\",\"dog\",\"lot\",\"log\"]) == 0"
   ]
  },
  {
   "cell_type": "markdown",
   "id": "d0da149f",
   "metadata": {
    "papermill": {
     "duration": 0.017562,
     "end_time": "2024-04-30T02:45:42.530751",
     "exception": false,
     "start_time": "2024-04-30T02:45:42.513189",
     "status": "completed"
    },
    "tags": []
   },
   "source": [
    "Video link: https://youtu.be/DREutrv2XD0?si=SbXR_WrwV0yPkM3t\n",
    "Word Ladder - 2: https://leetcode.com/problems/word-ladder-ii/description/"
   ]
  },
  {
   "cell_type": "code",
   "execution_count": 28,
   "id": "8c81ef46",
   "metadata": {
    "execution": {
     "iopub.execute_input": "2024-04-30T02:45:42.567498Z",
     "iopub.status.busy": "2024-04-30T02:45:42.566925Z",
     "iopub.status.idle": "2024-04-30T02:45:42.578635Z",
     "shell.execute_reply": "2024-04-30T02:45:42.577889Z"
    },
    "lines_to_next_cell": 1,
    "papermill": {
     "duration": 0.032034,
     "end_time": "2024-04-30T02:45:42.580394",
     "exception": false,
     "start_time": "2024-04-30T02:45:42.548360",
     "status": "completed"
    },
    "tags": []
   },
   "outputs": [],
   "source": [
    "# TLE :(\n",
    "def findLaddersBetter(beginWord: str, endWord: str, wordList: list[str]) -> list[list[str]]:\n",
    "    # Compute the length of words\n",
    "    N = len(beginWord)\n",
    "\n",
    "    # Convert list to set for constant lookup times\n",
    "    wordSet: set[str] = set(wordList)\n",
    "\n",
    "    # Store the results to a list\n",
    "    results: list[list[str]] = []\n",
    "\n",
    "    # Do a DFS traversal, we only remove elements with wordSet of completion of a level\n",
    "    queue: list[list[str]] = [[beginWord]]\n",
    "    while queue and wordSet:\n",
    "        next_queue: list[list[str]] = []\n",
    "        to_remove: set[str] = set()\n",
    "        for path in queue:\n",
    "            curr = path[-1]\n",
    "            for i in range(N):\n",
    "                for j in range(ord('a'), ord('z') + 1):\n",
    "                    next_ = curr[:i] + chr(j) + curr[i + 1:]\n",
    "                    if next_ in wordSet:\n",
    "                        path.append(next_)\n",
    "                        path_ = list(path)\n",
    "                        next_queue.append(path_)\n",
    "                        to_remove.add(next_)\n",
    "                        if next_ == endWord:\n",
    "                            results.append(path_)\n",
    "                        path.pop()\n",
    "\n",
    "        for next_ in to_remove:\n",
    "            wordSet.remove(next_)\n",
    "        queue = next_queue\n",
    "\n",
    "    return sorted(results)\n",
    "\n",
    "# Testing the solution\n",
    "assert findLaddersBetter(\"hit\", \"cog\", [\"hot\",\"dot\",\"dog\",\"lot\",\"log\",\"cog\"]) == [['hit', 'hot', 'dot', 'dog', 'cog'], ['hit', 'hot', 'lot', 'log', 'cog']]\n",
    "assert findLaddersBetter(\"hit\", \"cog\", [\"hot\",\"dot\",\"dog\",\"lot\",\"log\"]) == []\n",
    "assert findLaddersBetter(\"a\", \"c\", [\"a\", \"b\", \"c\"]) == [[\"a\", \"c\"]]\n",
    "assert findLaddersBetter(\"red\", \"tax\", [\"ted\",\"tex\",\"red\",\"tax\",\"tad\",\"den\",\"rex\",\"pee\"]) == [['red', 'rex', 'tex', 'tax'],['red', 'ted', 'tad', 'tax'],['red', 'ted', 'tex', 'tax']]"
   ]
  },
  {
   "cell_type": "code",
   "execution_count": 29,
   "id": "184290e3",
   "metadata": {
    "execution": {
     "iopub.execute_input": "2024-04-30T02:45:42.618796Z",
     "iopub.status.busy": "2024-04-30T02:45:42.618185Z",
     "iopub.status.idle": "2024-04-30T02:45:42.632605Z",
     "shell.execute_reply": "2024-04-30T02:45:42.631886Z"
    },
    "lines_to_next_cell": 1,
    "papermill": {
     "duration": 0.034687,
     "end_time": "2024-04-30T02:45:42.634195",
     "exception": false,
     "start_time": "2024-04-30T02:45:42.599508",
     "status": "completed"
    },
    "tags": []
   },
   "outputs": [],
   "source": [
    "# Striver Leetcode optimized: https://leetcode.com/problems/word-ladder-ii/submissions/1242920059\n",
    "def findLadders(beginWord: str, endWord: str, wordList: list[str]) -> list[list[str]]:\n",
    "    \"\"\"\n",
    "    Video link: https://youtu.be/AD4SFl7tu7I?si=koBVo4hgse94Ruvn\n",
    "\n",
    "    Step 1: BFS and compute the shortest distance to words.\n",
    "    Step 2: Backtrack from backwards and only traverse to paths that are curr level - 1.\n",
    "\n",
    "    This works better because we are starting backwards and thus the exploration of paths would be minimal.\n",
    "    Further more we only take up paths which are one level below not more not less.\n",
    "    \"\"\"\n",
    "\n",
    "    N = len(beginWord)\n",
    "\n",
    "    # Store the shortest distances to reach word\n",
    "    distances: dict[str, float] = {word: math.inf for word in wordList}\n",
    "    distances[beginWord] = 0\n",
    "\n",
    "    # BFS traversal\n",
    "    queue: collections.deque = collections.deque([beginWord])\n",
    "    while queue:\n",
    "        curr = queue.popleft()\n",
    "        for i in range(N):\n",
    "            for j in range(ord('a'), ord('z') + 1):\n",
    "                next_ = curr[:i] + chr(j) + curr[i + 1:]\n",
    "                if next_ in distances and distances[curr] + 1 < distances[next_]:\n",
    "                    distances[next_] = distances[curr] + 1\n",
    "                    queue.append(next_)\n",
    "\n",
    "    # Backtrack and find the shortest paths with DFS\n",
    "    results: list[list[str]] = []\n",
    "    def DFS(root: str, paths: list[str]):\n",
    "        if root not in distances or math.isinf(distances[root]):\n",
    "            return\n",
    "        elif root == beginWord:\n",
    "            results.append(paths)\n",
    "            return\n",
    "        else:\n",
    "            for i in range(N):\n",
    "                for j in range(ord('a'), ord('z') + 1):\n",
    "                    next_ = root[:i] + chr(j) + root[i + 1:]\n",
    "                    if distances.get(next_, -1) == distances[root] - 1:\n",
    "                        DFS(next_, [next_, *paths])\n",
    "\n",
    "    DFS(endWord, [endWord])\n",
    "    return sorted(results)\n",
    "\n",
    "# Testing the solution\n",
    "assert findLadders(\"hit\", \"cog\", [\"hot\",\"dot\",\"dog\",\"lot\",\"log\",\"cog\"]) == [['hit', 'hot', 'dot', 'dog', 'cog'], ['hit', 'hot', 'lot', 'log', 'cog']]\n",
    "assert findLadders(\"hit\", \"cog\", [\"hot\",\"dot\",\"dog\",\"lot\",\"log\"]) == []\n",
    "assert findLadders(\"a\", \"c\", [\"a\", \"b\", \"c\"]) == [[\"a\", \"c\"]]\n",
    "assert findLadders(\"red\", \"tax\", [\"ted\",\"tex\",\"red\",\"tax\",\"tad\",\"den\",\"rex\",\"pee\"]) == [['red', 'rex', 'tex', 'tax'],['red', 'ted', 'tad', 'tax'],['red', 'ted', 'tex', 'tax']]"
   ]
  },
  {
   "cell_type": "markdown",
   "id": "ac91aeb8",
   "metadata": {
    "papermill": {
     "duration": 0.017533,
     "end_time": "2024-04-30T02:45:42.669633",
     "exception": false,
     "start_time": "2024-04-30T02:45:42.652100",
     "status": "completed"
    },
    "tags": []
   },
   "source": [
    "Dijkstra's Algorithm using Min Heap: https://youtu.be/V6H1qAeB-l4?si=rEGFRGwu-ojsYp-3"
   ]
  },
  {
   "cell_type": "code",
   "execution_count": 30,
   "id": "f9b1c99b",
   "metadata": {
    "execution": {
     "iopub.execute_input": "2024-04-30T02:45:42.706380Z",
     "iopub.status.busy": "2024-04-30T02:45:42.706074Z",
     "iopub.status.idle": "2024-04-30T02:45:42.714258Z",
     "shell.execute_reply": "2024-04-30T02:45:42.713587Z"
    },
    "lines_to_next_cell": 1,
    "papermill": {
     "duration": 0.028637,
     "end_time": "2024-04-30T02:45:42.715964",
     "exception": false,
     "start_time": "2024-04-30T02:45:42.687327",
     "status": "completed"
    },
    "tags": []
   },
   "outputs": [],
   "source": [
    "def dijkstra(V: int, adj: list[list[list[int]]], src: int):\n",
    "    # Number of vertices\n",
    "    N = len(adj)\n",
    "\n",
    "    # Store all the distances into an array\n",
    "    distances: list[int] = [-1 for _ in range(V)]\n",
    "    distances[src] = 0\n",
    "\n",
    "    # Apply Dijkstra\n",
    "    min_heap: list[tuple[int, int]] = [(0, src)]\n",
    "    while min_heap:\n",
    "        curr_dist, curr = heapq.heappop(min_heap)\n",
    "        for next_, next_dist in adj[curr]:\n",
    "            if distances[next_] == -1 or distances[next_] > curr_dist + next_dist:\n",
    "                distances[next_] = curr_dist + next_dist\n",
    "                heapq.heappush(min_heap, (curr_dist + next_dist, next_))\n",
    "\n",
    "    return distances\n",
    "\n",
    "# Testing the solution\n",
    "assert dijkstra(2, [[[1, 9]], [[0, 9]]], 0) == [0, 9]\n",
    "assert dijkstra(3, [[[1, 1], [2, 6]], [[2, 3], [0, 1]], [[1, 3], [0, 6]]], 2) == [4, 3, 0]"
   ]
  },
  {
   "cell_type": "markdown",
   "id": "1ef6f6db",
   "metadata": {
    "papermill": {
     "duration": 0.017583,
     "end_time": "2024-04-30T02:45:42.751515",
     "exception": false,
     "start_time": "2024-04-30T02:45:42.733932",
     "status": "completed"
    },
    "tags": []
   },
   "source": [
    "Video Link: https://youtu.be/rp1SMw7HSO8?si=7d4Jc-1NTMcKvbh8\n",
    "Shortest path in an undirected weighted graph"
   ]
  },
  {
   "cell_type": "code",
   "execution_count": 31,
   "id": "5fc33946",
   "metadata": {
    "execution": {
     "iopub.execute_input": "2024-04-30T02:45:42.788428Z",
     "iopub.status.busy": "2024-04-30T02:45:42.787748Z",
     "iopub.status.idle": "2024-04-30T02:45:42.798922Z",
     "shell.execute_reply": "2024-04-30T02:45:42.798179Z"
    },
    "lines_to_next_cell": 1,
    "papermill": {
     "duration": 0.031573,
     "end_time": "2024-04-30T02:45:42.800754",
     "exception": false,
     "start_time": "2024-04-30T02:45:42.769181",
     "status": "completed"
    },
    "tags": []
   },
   "outputs": [],
   "source": [
    "def shortestPathGFG(V: int, E: int, edges: list[list[int]]) -> list[int]:\n",
    "    # Convert the edges into an adjacency list\n",
    "    adj: dict[int, list[tuple[int, int]]] = dict() # n1: (n2, w)\n",
    "    for n1, n2, w in edges:\n",
    "        n1_neighbours, n2_neighbours = adj.get(n1, []), adj.get(n2, [])\n",
    "        n1_neighbours.append((n2, w))\n",
    "        n2_neighbours.append((n1, w))\n",
    "        adj[n1], adj[n2] = n1_neighbours, n2_neighbours\n",
    "\n",
    "    # Apply Dijkstra algorithm, store the shortest distances to a hashmap, also store the previous node\n",
    "    distances: dict[int, tuple[int, int]] = {n1: (-1, -1) for n1 in range(V + 1)} # node: (dist, prev)\n",
    "    distances[1] = (0, -1)\n",
    "    heap: list[tuple[int, int]] = [(0, 1)] # dist, node\n",
    "    while heap:\n",
    "        curr_dist, curr = heapq.heappop(heap)\n",
    "        for next_, next_dist in adj.get(curr, []):\n",
    "            if distances[next_][0] == -1 or distances[next_][0] > curr_dist + next_dist:\n",
    "                distances[next_] = (curr_dist + next_dist, curr)\n",
    "                heapq.heappush(heap, (curr_dist + next_dist, next_))\n",
    "\n",
    "    dist = distances[V]\n",
    "    if dist[0] == -1:\n",
    "        return [-1]\n",
    "    else:\n",
    "        result = [V]\n",
    "        curr = dist[1]\n",
    "        while curr != -1:\n",
    "            result.append(curr)\n",
    "            curr = distances[curr][1]\n",
    "\n",
    "        result.append(dist[0])\n",
    "        result.reverse()\n",
    "        return result\n",
    "\n",
    "# Testing the solution\n",
    "assert shortestPathGFG(5, 6, [[1,2,2], [2,5,5], [2,3,4], [1,4,1],[4,3,3],[3,5,1]]) == [5, 1, 4, 3, 5]"
   ]
  },
  {
   "cell_type": "markdown",
   "id": "6de11f44",
   "metadata": {
    "papermill": {
     "duration": 0.017547,
     "end_time": "2024-04-30T02:45:42.836116",
     "exception": false,
     "start_time": "2024-04-30T02:45:42.818569",
     "status": "completed"
    },
    "tags": []
   },
   "source": [
    "Shortest path in a binary maze: https://leetcode.com/problems/shortest-path-in-binary-matrix/submissions/1243256372/\n",
    "Video Link: https://youtu.be/U5Mw4eyUmw4?si=SM3SONUWEFwd8XLt"
   ]
  },
  {
   "cell_type": "code",
   "execution_count": 32,
   "id": "2f855e08",
   "metadata": {
    "execution": {
     "iopub.execute_input": "2024-04-30T02:45:42.873166Z",
     "iopub.status.busy": "2024-04-30T02:45:42.872530Z",
     "iopub.status.idle": "2024-04-30T02:45:42.882920Z",
     "shell.execute_reply": "2024-04-30T02:45:42.882279Z"
    },
    "lines_to_next_cell": 1,
    "papermill": {
     "duration": 0.030618,
     "end_time": "2024-04-30T02:45:42.884534",
     "exception": false,
     "start_time": "2024-04-30T02:45:42.853916",
     "status": "completed"
    },
    "tags": []
   },
   "outputs": [],
   "source": [
    "def shortestPathBinaryMatrix(grid: list[list[int]]) -> int:\n",
    "    \"\"\"\n",
    "    A priority queue is only needed when we are having weighted graphs.\n",
    "    Since we have a unit weights, we can use a simple queue.\n",
    "\n",
    "    Time: O(N ^ 2), Space: O(N ^ 2)\n",
    "    \"\"\"\n",
    "\n",
    "    N = len(grid)\n",
    "    distances: list[list[float]] = [[math.inf for i in range(N)] for j in range(N)]\n",
    "    distances[0][0] = 1\n",
    "    queue: collections.deque[tuple[tuple[int, int], float]] = collections.deque([((0, 0), 1.)])\n",
    "    while queue:\n",
    "        curr, dist = queue.popleft()\n",
    "        for x in range(-1, 2):\n",
    "            for y in range(-1, 2):\n",
    "                i, j = curr[0] + x, curr[1] + y\n",
    "                if 0 <= i < N and 0 <= j < N and grid[i][j] == 0 and distances[i][j] > dist + 1:\n",
    "                    distances[i][j] = dist + 1\n",
    "                    queue.append(((i, j), dist + 1))\n",
    "\n",
    "    result = distances[N - 1][N - 1]\n",
    "    return int(result) if grid[0][0] == 0 and not math.isinf(result) else -1\n",
    "\n",
    "# Testing the solution\n",
    "assert shortestPathBinaryMatrix([[0,0,0],[1,1,0],[1,1,0]]) == 4\n",
    "assert shortestPathBinaryMatrix([[0,1],[1,0]]) == 2\n",
    "assert shortestPathBinaryMatrix([[1,0,0],[1,1,0],[1,1,0]]) == -1\n",
    "assert shortestPathBinaryMatrix([[1]]) == -1"
   ]
  },
  {
   "cell_type": "markdown",
   "id": "52e6e87d",
   "metadata": {
    "papermill": {
     "duration": 0.01753,
     "end_time": "2024-04-30T02:45:42.920103",
     "exception": false,
     "start_time": "2024-04-30T02:45:42.902573",
     "status": "completed"
    },
    "tags": []
   },
   "source": [
    "Video link: https://youtu.be/0ytpZyiZFhA?si=UwEDE7wIpbT_Q87y\n",
    "Path with minimum effort: https://leetcode.com/problems/path-with-minimum-effort/submissions/1243926425/"
   ]
  },
  {
   "cell_type": "code",
   "execution_count": 33,
   "id": "85a0590c",
   "metadata": {
    "execution": {
     "iopub.execute_input": "2024-04-30T02:45:42.957037Z",
     "iopub.status.busy": "2024-04-30T02:45:42.956382Z",
     "iopub.status.idle": "2024-04-30T02:45:42.967415Z",
     "shell.execute_reply": "2024-04-30T02:45:42.966815Z"
    },
    "lines_to_next_cell": 1,
    "papermill": {
     "duration": 0.031277,
     "end_time": "2024-04-30T02:45:42.969081",
     "exception": false,
     "start_time": "2024-04-30T02:45:42.937804",
     "status": "completed"
    },
    "tags": []
   },
   "outputs": [],
   "source": [
    "def minimumEffortPath(heights: list[list[int]]) -> int:\n",
    "    \"\"\"\n",
    "    Time: O(M x N x log (M x N)), Space: O(M x N).\n",
    "\n",
    "    Apparantly from striver: once we reach our destination we can return the dist.\n",
    "    We should however check while taking out of PQ and not while inserting into PQ.\n",
    "    \"\"\"\n",
    "    # Compute the dimensions\n",
    "    N, M = len(heights), len(heights[0])\n",
    "\n",
    "    # Store the efforts into a 2D matrix\n",
    "    efforts: list[list[float]] = [[math.inf for j in range(M)] for i in range(N)]\n",
    "    efforts[0][0] = 0\n",
    "\n",
    "    # Apply Dijkstra, create a heap datastructure\n",
    "    heap: list[tuple[float, tuple[int, int]]] = [(0., (0, 0))]\n",
    "    while heap:\n",
    "        curr_effort, curr = heapq.heappop(heap)\n",
    "        for x, y in [(-1, 0), (1, 0), (0, -1), (0, 1)]:\n",
    "            i, j = curr[0] + x, curr[1] + y\n",
    "            next_effort = max(abs(heights[i][j] - heights[curr[0]][curr[1]]) if 0 <= i < N and 0 <= j < M else math.inf, curr_effort)\n",
    "            if not math.isinf(next_effort) and next_effort < efforts[i][j]:\n",
    "                efforts[i][j] = next_effort\n",
    "                heapq.heappush(heap, (next_effort, (i, j)))\n",
    "\n",
    "    result = efforts[N - 1][M - 1]\n",
    "    return int(result) if not math.isinf(result) else -1\n",
    "\n",
    "# Testing the solution\n",
    "assert minimumEffortPath([[1,2,2],[3,8,2],[5,3,5]]) == 2\n",
    "assert minimumEffortPath([[1,2,3],[3,8,4],[5,3,5]]) == 1\n",
    "assert minimumEffortPath([[1,2,1,1,1],[1,2,1,2,1],[1,2,1,2,1],[1,2,1,2,1],[1,1,1,2,1]]) == 0"
   ]
  },
  {
   "cell_type": "markdown",
   "id": "ba06d57b",
   "metadata": {
    "papermill": {
     "duration": 0.017761,
     "end_time": "2024-04-30T02:45:43.005097",
     "exception": false,
     "start_time": "2024-04-30T02:45:42.987336",
     "status": "completed"
    },
    "tags": []
   },
   "source": [
    "Cheapest flight within K stops: https://leetcode.com/problems/cheapest-flights-within-k-stops/submissions/1244248580\n",
    "Video Link: https://youtu.be/9XybHVqTHcQ?si=jLIB9G9VQ184S2w6"
   ]
  },
  {
   "cell_type": "code",
   "execution_count": 34,
   "id": "53b3f2f6",
   "metadata": {
    "execution": {
     "iopub.execute_input": "2024-04-30T02:45:43.042100Z",
     "iopub.status.busy": "2024-04-30T02:45:43.041520Z",
     "iopub.status.idle": "2024-04-30T02:45:43.053738Z",
     "shell.execute_reply": "2024-04-30T02:45:43.053094Z"
    },
    "lines_to_next_cell": 1,
    "papermill": {
     "duration": 0.032501,
     "end_time": "2024-04-30T02:45:43.055391",
     "exception": false,
     "start_time": "2024-04-30T02:45:43.022890",
     "status": "completed"
    },
    "tags": []
   },
   "outputs": [],
   "source": [
    "def findCheapestPrice(n: int, flights: list[list[int]], src: int, dst: int, k: int) -> int:\n",
    "    \"\"\"\n",
    "    The trick here is to realize that if we made dist our priority, dijkstra would find the shortest path sooner even if it costs us a lot of steps preventing us from proceeding further.\n",
    "    To overcome this, we prioritize steps over distance. This way even if we aren't travelling to the shortest distance first, we still would be able to traverse the full breadth of k.\n",
    "\n",
    "    PQ can be steps, dist, node\n",
    "\n",
    "    Time: O(len(flights) log N)\n",
    "    Space: O(len(flights))\n",
    "    \"\"\"\n",
    "    # Create an adjaceny list out of the edges\n",
    "    adj: dict[int, list[tuple[int, float]]] = dict()\n",
    "    for n1, n2, w in flights:\n",
    "        n1_neighbours = adj.get(n1, [])\n",
    "        n1_neighbours.append((n2, w))\n",
    "        adj[n1] = n1_neighbours\n",
    "\n",
    "    # Compute the distances and store to a dictionary\n",
    "    distances: dict[int, float] = {n1: math.inf for n1 in range(n)}\n",
    "    distances[src] = 0\n",
    "\n",
    "    # Apply Dijkstra with slight modification - store the stops to reach the destination as well: steps, dist, node\n",
    "    heap: list[tuple[int, float, int]] = [(0, 0., src)]\n",
    "    while heap:\n",
    "        curr_steps, curr_dist, curr = heapq.heappop(heap)\n",
    "        for next_, next_dist in adj.get(curr, []):\n",
    "            if curr_dist + next_dist < distances[next_] and curr_steps <= k:\n",
    "                distances[next_] = curr_dist + next_dist\n",
    "                heapq.heappush(heap, (curr_steps + 1, curr_dist + next_dist, next_))\n",
    "\n",
    "    result = distances[dst]\n",
    "    return int(result) if not math.isinf(result) else -1\n",
    "\n",
    "# Testing the solution\n",
    "assert findCheapestPrice(n=4, flights=[[0,1,100],[1,2,100],[2,0,100],[1,3,600],[2,3,200]], src=0, dst=3, k=1) == 700\n",
    "assert findCheapestPrice(n=3, flights=[[0,1,100],[1,2,100],[0,2,500]], src=0, dst=2, k=1) == 200\n",
    "assert findCheapestPrice(n=5, flights=[[0,1,5],[1,2,5],[0,3,2],[3,1,2],[1,4,1],[4,2,1]], src=0, dst=2, k=2) == 7"
   ]
  },
  {
   "cell_type": "markdown",
   "id": "f0f3185e",
   "metadata": {
    "papermill": {
     "duration": 0.017719,
     "end_time": "2024-04-30T02:45:43.091056",
     "exception": false,
     "start_time": "2024-04-30T02:45:43.073337",
     "status": "completed"
    },
    "tags": []
   },
   "source": [
    "Minimum Operations\n",
    "Video link: https://youtu.be/_BvEJ3VIDWw?si=0Kgpj58X7BYexE2k"
   ]
  },
  {
   "cell_type": "code",
   "execution_count": 35,
   "id": "a5556478",
   "metadata": {
    "execution": {
     "iopub.execute_input": "2024-04-30T02:45:43.128338Z",
     "iopub.status.busy": "2024-04-30T02:45:43.127682Z",
     "iopub.status.idle": "2024-04-30T02:45:43.141480Z",
     "shell.execute_reply": "2024-04-30T02:45:43.140815Z"
    },
    "lines_to_next_cell": 1,
    "papermill": {
     "duration": 0.034116,
     "end_time": "2024-04-30T02:45:43.143102",
     "exception": false,
     "start_time": "2024-04-30T02:45:43.108986",
     "status": "completed"
    },
    "tags": []
   },
   "outputs": [],
   "source": [
    "def minimumOperations(N: int, start: int, end: int, arr: list[int]) -> int:\n",
    "    distances: dict[int, float] = {n1: math.inf for n1 in range(0, int(1e3) + 1)}\n",
    "    distances[start] = 0\n",
    "\n",
    "    queue: collections.deque[tuple[int, int]] = collections.deque([(start, 0)])\n",
    "    while queue:\n",
    "        curr, dist = queue.popleft()\n",
    "        for edge in arr:\n",
    "            next_ = (curr * edge) % 1000\n",
    "            if dist + 1 < distances[next_]:\n",
    "                distances[next_] = dist + 1\n",
    "                queue.append((next_, dist + 1))\n",
    "\n",
    "    result = distances[end]\n",
    "    return int(result) if not math.isinf(result) else -1\n",
    "\n",
    "assert minimumOperations(2, 1, 12, [3, 2]) == 3\n",
    "assert minimumOperations(4, 8, 320, [4, 6, 1, 10]) == 2\n",
    "assert minimumOperations(42, 54, 98, [1, 70, 25, 79, 59, 63, 65, 6, 46, 82, 28, 62, 92, 96, 43, 28, 37, 92, 5, 3, 54, 93, 83, 22, 17, 19, 96, 48, 27, 72, 39, 70, 13, 68, 100, 36, 95, 4, 12, 23, 34, 74]) == 3"
   ]
  },
  {
   "cell_type": "markdown",
   "id": "a12fb431",
   "metadata": {
    "papermill": {
     "duration": 0.017641,
     "end_time": "2024-04-30T02:45:43.178538",
     "exception": false,
     "start_time": "2024-04-30T02:45:43.160897",
     "status": "completed"
    },
    "tags": []
   },
   "source": [
    "Video Link: https://youtu.be/_-0mx0SmYxA?si=6GOaqZSP-NDZ_Oq-\n",
    "Number of ways to arrive at a destination"
   ]
  },
  {
   "cell_type": "code",
   "execution_count": 36,
   "id": "6d28c0b9",
   "metadata": {
    "execution": {
     "iopub.execute_input": "2024-04-30T02:45:43.215456Z",
     "iopub.status.busy": "2024-04-30T02:45:43.215212Z",
     "iopub.status.idle": "2024-04-30T02:45:43.231447Z",
     "shell.execute_reply": "2024-04-30T02:45:43.230676Z"
    },
    "lines_to_next_cell": 1,
    "papermill": {
     "duration": 0.036828,
     "end_time": "2024-04-30T02:45:43.233128",
     "exception": false,
     "start_time": "2024-04-30T02:45:43.196300",
     "status": "completed"
    },
    "tags": []
   },
   "outputs": [
    {
     "data": {
      "text/plain": [
       "True"
      ]
     },
     "execution_count": 36,
     "metadata": {},
     "output_type": "execute_result"
    }
   ],
   "source": [
    "# https://leetcode.com/problems/number-of-ways-to-arrive-at-destination/submissions/1244856247/\n",
    "def countPaths(N: int, roads: list[list[int]]) -> int:\n",
    "    # Convert edges to adjacency list\n",
    "    adj: dict[int, list[tuple[int, float]]] = dict()\n",
    "    for n1, n2, w in roads:\n",
    "        n1_neighbours, n2_neighbours = adj.get(n1, []), adj.get(n2, [])\n",
    "        n1_neighbours.append((n2, w))\n",
    "        n2_neighbours.append((n1, w))\n",
    "        adj[n1] = n1_neighbours\n",
    "        adj[n2] = n2_neighbours\n",
    "\n",
    "    # Distances to store a set of prev nodes with shortest distance\n",
    "    distances: dict[int, tuple[float, set[int]]] = {n1: (math.inf, set()) for n1 in range(N)}\n",
    "    distances[0] = (0, set())\n",
    "\n",
    "    # Apply Dijkstra algorithm to find the shortest paths\n",
    "    heap: list[tuple[float, int]] = [(0, 0)]\n",
    "    while heap:\n",
    "        curr_dist, curr = heapq.heappop(heap)\n",
    "        for next_, next_dist in adj.get(curr, []):\n",
    "            if next_dist + curr_dist < distances[next_][0]:\n",
    "                distances[next_] = (next_dist + curr_dist, {curr})\n",
    "                heapq.heappush(heap, (next_dist + curr_dist, next_))\n",
    "            elif next_dist + curr_dist == distances[next_][0]:\n",
    "                distances[next_][1].add(curr)\n",
    "\n",
    "    @functools.cache\n",
    "    def backtrack(root: int) -> int:\n",
    "        if root == 0:\n",
    "            return 1\n",
    "        else:\n",
    "            count = 0\n",
    "            for next_ in distances[root][1]:\n",
    "                count += backtrack(next_)\n",
    "            return count\n",
    "\n",
    "    return backtrack(N - 1) % (int(1e9) + 7)\n",
    "\n",
    "# Testing the solution\n",
    "countPaths(7, [[0,6,7],[0,1,2],[1,2,3],[1,3,3],[6,3,3],[3,5,1],[6,5,1],[2,5,1],[0,4,5],[4,6,2]]) == 4"
   ]
  },
  {
   "cell_type": "code",
   "execution_count": 37,
   "id": "ef161cf7",
   "metadata": {
    "execution": {
     "iopub.execute_input": "2024-04-30T02:45:43.270493Z",
     "iopub.status.busy": "2024-04-30T02:45:43.269913Z",
     "iopub.status.idle": "2024-04-30T02:45:43.280538Z",
     "shell.execute_reply": "2024-04-30T02:45:43.279861Z"
    },
    "lines_to_next_cell": 1,
    "papermill": {
     "duration": 0.030915,
     "end_time": "2024-04-30T02:45:43.282169",
     "exception": false,
     "start_time": "2024-04-30T02:45:43.251254",
     "status": "completed"
    },
    "tags": []
   },
   "outputs": [],
   "source": [
    "# https://leetcode.com/problems/number-of-ways-to-arrive-at-destination/submissions/1244866094\n",
    "def countPathsStriver(N: int, roads: list[list[int]]) -> int:\n",
    "    # Convert edges to adjacency list\n",
    "    adj: dict[int, list[tuple[int, float]]] = dict()\n",
    "    for n1, n2, w in roads:\n",
    "        n1_neighbours, n2_neighbours = adj.get(n1, []), adj.get(n2, [])\n",
    "        n1_neighbours.append((n2, w))\n",
    "        n2_neighbours.append((n1, w))\n",
    "        adj[n1] = n1_neighbours\n",
    "        adj[n2] = n2_neighbours\n",
    "\n",
    "    # Distances to store a shortest distance for each node along with the count of shortest paths\n",
    "    distances: dict[int, tuple[float, int]] = {n1: (math.inf, 0) for n1 in range(N)}\n",
    "    distances[0] = (0, 1)\n",
    "\n",
    "    # Apply dijkstra algorithm\n",
    "    heap: list[tuple[float, int]] = [(0., 0)]\n",
    "    while heap:\n",
    "        curr_dist, curr = heapq.heappop(heap)\n",
    "        for next_, next_dist in adj.get(curr, []):\n",
    "            if curr_dist + next_dist < distances[next_][0]:\n",
    "                distances[next_] = (curr_dist + next_dist, distances[curr][1])\n",
    "                heapq.heappush(heap, (curr_dist + next_dist, next_))\n",
    "            elif curr_dist + next_dist == distances[next_][0]:\n",
    "                distances[next_] = (curr_dist + next_dist, distances[next_][1] + distances[curr][1])\n",
    "\n",
    "    return int(distances[N - 1][1])\n",
    "\n",
    "# Testing the solution\n",
    "assert countPathsStriver(7, [[0,6,7],[0,1,2],[1,2,3],[1,3,3],[6,3,3],[3,5,1],[6,5,1],[2,5,1],[0,4,5],[4,6,2]]) == 4"
   ]
  },
  {
   "cell_type": "markdown",
   "id": "b3016690",
   "metadata": {
    "papermill": {
     "duration": 0.017716,
     "end_time": "2024-04-30T02:45:43.317718",
     "exception": false,
     "start_time": "2024-04-30T02:45:43.300002",
     "status": "completed"
    },
    "tags": []
   },
   "source": [
    "Video link: https://www.youtube.com/watch?v=0vVofAhAYjc&list=PLgUwDviBIf0oF6QL8m22w1hIDC1vJ_BHz&index=166\n",
    "Bellman Ford Algorithm"
   ]
  },
  {
   "cell_type": "code",
   "execution_count": 38,
   "id": "246f039f",
   "metadata": {
    "execution": {
     "iopub.execute_input": "2024-04-30T02:45:43.354557Z",
     "iopub.status.busy": "2024-04-30T02:45:43.354036Z",
     "iopub.status.idle": "2024-04-30T02:45:43.360963Z",
     "shell.execute_reply": "2024-04-30T02:45:43.360205Z"
    },
    "lines_to_next_cell": 1,
    "papermill": {
     "duration": 0.027212,
     "end_time": "2024-04-30T02:45:43.362693",
     "exception": false,
     "start_time": "2024-04-30T02:45:43.335481",
     "status": "completed"
    },
    "tags": []
   },
   "outputs": [],
   "source": [
    "def bellman_ford(V: int, edges: list[list[int]], S: int) -> list[float]:\n",
    "    # Store the results to distance vector\n",
    "    distances: list[float] = [math.inf for n1 in range(V)]\n",
    "    distances[S] = 0\n",
    "\n",
    "    # Relax for V - 1 iterations\n",
    "    for i in range(V - 1):\n",
    "        for n1, n2, w in edges:\n",
    "            distances[n2] = min(distances[n2], distances[n1] + w)\n",
    "\n",
    "    # Check for cycle by relaxing 1 more time\n",
    "    for n1, n2, w in edges:\n",
    "        if distances[n1] + w < distances[n2]:\n",
    "            return [-1]\n",
    "\n",
    "    # No cycles, we are good to return\n",
    "    return distances\n",
    "\n",
    "# Testing the solution\n",
    "assert bellman_ford(3, [[0,1,5],[1,0,3],[1,2,-1],[2,0,1]], 2) == [1, 6, 0]"
   ]
  },
  {
   "cell_type": "markdown",
   "id": "b07a5eb6",
   "metadata": {
    "papermill": {
     "duration": 0.017915,
     "end_time": "2024-04-30T02:45:43.399156",
     "exception": false,
     "start_time": "2024-04-30T02:45:43.381241",
     "status": "completed"
    },
    "tags": []
   },
   "source": [
    "Video Link: https://youtu.be/YbY8cVwWAvw?si=_Soo7iiwWihY5G8w\n",
    "Floyd Warshall Algorithm"
   ]
  },
  {
   "cell_type": "code",
   "execution_count": 39,
   "id": "53a5b83f",
   "metadata": {
    "execution": {
     "iopub.execute_input": "2024-04-30T02:45:43.436294Z",
     "iopub.status.busy": "2024-04-30T02:45:43.435747Z",
     "iopub.status.idle": "2024-04-30T02:45:43.445325Z",
     "shell.execute_reply": "2024-04-30T02:45:43.444583Z"
    },
    "lines_to_next_cell": 1,
    "papermill": {
     "duration": 0.029958,
     "end_time": "2024-04-30T02:45:43.447019",
     "exception": false,
     "start_time": "2024-04-30T02:45:43.417061",
     "status": "completed"
    },
    "tags": []
   },
   "outputs": [
    {
     "data": {
      "text/plain": [
       "[[0, 1, 7], [1, 0, 6], [-1, -1, 0]]"
      ]
     },
     "execution_count": 39,
     "metadata": {},
     "output_type": "execute_result"
    }
   ],
   "source": [
    "def floyd_warshall(matrix: list[list[int]]) -> list[list[int]]:\n",
    "    \"Time: O(V ^ 3), Space: O(V ^ 2)\"\n",
    "    V = len(matrix)\n",
    "    cost: list[list[int]] = [[matrix[i][j] for j in range(V)] for i in range(V)]\n",
    "\n",
    "    # For each node i -> j check if the path i -> k -> j could be a better path\n",
    "    for via in range(V):\n",
    "        for i in range(V):\n",
    "            for j in range(V):\n",
    "                if cost[i][via] != -1 and cost[via][j] != -1 and cost[i][j] > cost[i][via] + cost[via][j]:\n",
    "                    cost[i][j] = cost[i][via] + cost[via][j]\n",
    "\n",
    "    return cost\n",
    "\n",
    "# Testing the solution\n",
    "floyd_warshall([[0,1,43],[1,0,6],[-1,-1,0]])"
   ]
  },
  {
   "cell_type": "markdown",
   "id": "e45383b2",
   "metadata": {
    "papermill": {
     "duration": 0.017923,
     "end_time": "2024-04-30T02:45:43.483119",
     "exception": false,
     "start_time": "2024-04-30T02:45:43.465196",
     "status": "completed"
    },
    "tags": []
   },
   "source": [
    "Video link: https://youtu.be/PwMVNSJ5SLI?si=AbyQbGEgwGWk6lPZ\n",
    "City with smallest number of neighbours at threshold"
   ]
  },
  {
   "cell_type": "code",
   "execution_count": 40,
   "id": "2407a370",
   "metadata": {
    "execution": {
     "iopub.execute_input": "2024-04-30T02:45:43.520863Z",
     "iopub.status.busy": "2024-04-30T02:45:43.520243Z",
     "iopub.status.idle": "2024-04-30T02:45:43.532442Z",
     "shell.execute_reply": "2024-04-30T02:45:43.531746Z"
    },
    "lines_to_next_cell": 1,
    "papermill": {
     "duration": 0.032801,
     "end_time": "2024-04-30T02:45:43.534117",
     "exception": false,
     "start_time": "2024-04-30T02:45:43.501316",
     "status": "completed"
    },
    "tags": []
   },
   "outputs": [],
   "source": [
    "# https://leetcode.com/problems/find-the-city-with-the-smallest-number-of-neighbors-at-a-threshold-distance/submissions/1244969227/\n",
    "def findTheCity(N: int, edges: list[list[int]], distanceThreshold: int) -> int:\n",
    "    # We would be running dijkstra on all nodes and storing to this array\n",
    "    distances: list[list[float]] = [[math.inf if i != j else 0 for j in range(N)] for i in range(N)]\n",
    "\n",
    "    # Function to run Dijkstra\n",
    "    def dijkstra(src: int):\n",
    "        nonlocal distances\n",
    "        heap: list[tuple[float, int]] = [(0, src)]\n",
    "        while heap:\n",
    "            curr_dist, curr = heapq.heappop(heap)\n",
    "            for next_, next_dist in adj.get(curr, []):\n",
    "                if curr_dist + next_dist < distances[src][next_]:\n",
    "                    distances[src][next_] = curr_dist + next_dist\n",
    "                    heapq.heappush(heap, (curr_dist + next_dist, next_))\n",
    "\n",
    "    # Convert edges to adj list\n",
    "    adj: dict[int, list[tuple[int, int]]] = dict()\n",
    "    for n1, n2, w in edges:\n",
    "        n1_neighbours, n2_neighbours = adj.get(n1, []), adj.get(n2, [])\n",
    "        n1_neighbours.append((n2, w))\n",
    "        n2_neighbours.append((n1, w))\n",
    "        adj[n1], adj[n2] = n1_neighbours, n2_neighbours\n",
    "\n",
    "    # Run Dijkstra algorithm for all nodes\n",
    "    for curr in range(N):\n",
    "        dijkstra(curr)\n",
    "\n",
    "    # Starting backwards find the city with smallest neighbouring cities at threshold\n",
    "    minCity, minCount = -1, math.inf\n",
    "    for curr in range(N - 1, -1, -1):\n",
    "        count = 0\n",
    "        for dist in distances[curr]:\n",
    "            if 0 < dist <= distanceThreshold:\n",
    "                count += 1\n",
    "        if count < minCount:\n",
    "            minCount = count\n",
    "            minCity = curr\n",
    "\n",
    "    return minCity\n",
    "\n",
    "# Testing the solution\n",
    "assert findTheCity(5, [[0,1,2],[0,4,8],[1,2,3],[1,4,2],[2,3,1],[3,4,1]], 2) == 0\n",
    "assert findTheCity(4, [[0,1,3],[1,2,1],[1,3,4],[2,3,1]], 4) == 3"
   ]
  },
  {
   "cell_type": "markdown",
   "id": "bdfd48db",
   "metadata": {
    "papermill": {
     "duration": 0.018122,
     "end_time": "2024-04-30T02:45:43.570708",
     "exception": false,
     "start_time": "2024-04-30T02:45:43.552586",
     "status": "completed"
    },
    "tags": []
   },
   "source": [
    "Prim's algorithm\n",
    "Video Link: https://youtu.be/mJcZjjKzeqk?si=64UoFQXWB8rjf2iB\n",
    "1. Initial Config: Priority Queue, Visited array, MST weight sum, MST list storing all edges part of MST\n",
    "2. Start with any node: (weight, node, parent) => (0, 0, -1). Visited array is NOT MARKED for that node.\n",
    "3. Mark them as visited when you are visiting the node from PQ. Add the edge weight to sum and add the edges to the MST list. Iterate through all the adjancent edges and add to our PQ.\n",
    "4. Repeat until PQ is empty.\n",
    "5. Prim's algorithm is a greedy algorithm."
   ]
  },
  {
   "cell_type": "code",
   "execution_count": 41,
   "id": "08777d03",
   "metadata": {
    "execution": {
     "iopub.execute_input": "2024-04-30T02:45:43.608832Z",
     "iopub.status.busy": "2024-04-30T02:45:43.608120Z",
     "iopub.status.idle": "2024-04-30T02:45:43.621606Z",
     "shell.execute_reply": "2024-04-30T02:45:43.620799Z"
    },
    "lines_to_next_cell": 1,
    "papermill": {
     "duration": 0.034575,
     "end_time": "2024-04-30T02:45:43.623362",
     "exception": false,
     "start_time": "2024-04-30T02:45:43.588787",
     "status": "completed"
    },
    "tags": []
   },
   "outputs": [
    {
     "name": "stdout",
     "output_type": "stream",
     "text": [
      "[(0, 1, 3), (1, 2, 1), (0, 3, 5)]\n"
     ]
    },
    {
     "data": {
      "text/plain": [
       "9"
      ]
     },
     "execution_count": 41,
     "metadata": {},
     "output_type": "execute_result"
    }
   ],
   "source": [
    "def minimumSpanningTree(edges: list[tuple[int, int, int]], V: int, E: int) -> int:\n",
    "    \"\"\"Time: O(E log E), Space: O(V)\"\"\"\n",
    "\n",
    "    # Create an adjacency list\n",
    "    adj: dict[int, list[tuple[int, int]]] = dict()\n",
    "    for n1, n2, w in edges:\n",
    "        n1_neighbours, n2_neighbours = adj.get(n1, []), adj.get(n2, [])\n",
    "        n1_neighbours.append((n2, w))\n",
    "        n2_neighbours.append((n1, w))\n",
    "        adj[n1], adj[n2] = n1_neighbours, n2_neighbours\n",
    "\n",
    "    # Initial config\n",
    "    visited: set[int] = set()\n",
    "    heap: list[tuple[int, int, int]] = [(0, 0, -1)] # weight, curr, parent\n",
    "    mst: list[tuple[int, int, int]] = []\n",
    "    mst_weight: int = 0\n",
    "\n",
    "    while heap:\n",
    "        curr_weight, curr, prev = heapq.heappop(heap)\n",
    "        if curr not in visited:\n",
    "            if prev != -1:\n",
    "                mst_weight += curr_weight\n",
    "                mst.append((prev, curr, curr_weight))\n",
    "\n",
    "            visited.add(curr)\n",
    "            for next_, next_weight in adj.get(curr, []):\n",
    "                heapq.heappush(heap, (next_weight, next_, curr))\n",
    "\n",
    "    print(mst)\n",
    "    return mst_weight\n",
    "\n",
    "# Testing the solution\n",
    "minimumSpanningTree([(0, 1, 3), (0, 3, 5), (1, 2, 1), (2, 3, 8)], 4, 4)"
   ]
  },
  {
   "cell_type": "markdown",
   "id": "388bd0af",
   "metadata": {},
   "source": [
    "Disjoint set data structure "
   ]
  },
  {
   "cell_type": "code",
   "execution_count": null,
   "id": "7b48003b",
   "metadata": {
    "lines_to_next_cell": 1
   },
   "outputs": [],
   "source": [
    "class DisjointSet:\n",
    "    def __init__(self, V: int):\n",
    "        self.rank: list[int] = [0 for i in range(V + 1)]\n",
    "        self.size: list[int] = [1 for i in range(V + 1)]\n",
    "        self.parent = [i for i in range(V + 1)]\n",
    "\n",
    "    def findUltimateParent(self, node: int) -> int:\n",
    "        \"\"\"Recursively find the parent, once found do a path compression\"\"\"\n",
    "        if self.parent[node] == node:\n",
    "            return node\n",
    "        else:\n",
    "            self.parent[node] = self.findUltimateParent(self.parent[node])\n",
    "            return self.parent[node]\n",
    "\n",
    "    def unionBySize(self, u: int, v: int):\n",
    "        # Find the ultimate parent of U, V\n",
    "        up, vp = self.findUltimateParent(u), self.findUltimateParent(v)\n",
    "\n",
    "        # Find the size of the ultimate parents\n",
    "        ups, vps = self.size[up], self.size[vp]\n",
    "\n",
    "        # Both are already connected, do nothing\n",
    "        if up == vp:\n",
    "            return\n",
    "\n",
    "        # Ultimate parent of U has a smaller size, update parent of UP to V\n",
    "        elif ups < vps:\n",
    "            self.parent[up] = v\n",
    "            self.size[vp] += self.size[up]\n",
    "\n",
    "        # Ultimate parent of V has a smaller size, update parent of VP to U\n",
    "        else:\n",
    "            self.parent[vp] = u\n",
    "            self.size[up] += self.size[vp]\n",
    "\n",
    "    def unionByRank(self, u: int, v: int):\n",
    "        # Find the ultimate parents of u, v\n",
    "        up, vp = self.findUltimateParent(u), self.findUltimateParent(v)\n",
    "\n",
    "        # Find the ranks of the ultimate parents\n",
    "        upr, vpr = self.rank[up], self.rank[vp]\n",
    "\n",
    "        # If both ultimate parents are the same, the edge makes no difference\n",
    "        if up == vp:\n",
    "            return\n",
    "\n",
    "        # If rank of vp is smaller, the parent of vp is set to up\n",
    "        elif vpr < upr:\n",
    "            self.parent[vp] = up\n",
    "\n",
    "        # If rank of up is smaller, the parent of up is set to vp\n",
    "        elif upr < vpr:\n",
    "            self.parent[up] = vp\n",
    "\n",
    "        # If rank of both are equal, we join anyone to anyone and increment rank of the parent\n",
    "        else:\n",
    "            self.parent[up] = vp\n",
    "            self.rank[vp] += 1\n",
    "\n",
    "# Testing the solution\n",
    "ds: DisjointSet = DisjointSet(7)\n",
    "\n",
    "ds.unionBySize(1, 2)\n",
    "ds.unionBySize(2, 3)\n",
    "ds.unionBySize(4, 5)\n",
    "ds.unionBySize(6, 7)\n",
    "ds.unionBySize(5, 6)\n",
    "\n",
    "# Check if 3 and 7 are part of the same component\n",
    "print(\"Same component\" if ds.findUltimateParent(3) == ds.findUltimateParent(7) else \"Diff component\")\n",
    "\n",
    "ds.unionBySize(3, 7)\n",
    "print(\"Same component\" if ds.findUltimateParent(3) == ds.findUltimateParent(7) else \"Diff component\")"
   ]
  },
  {
   "cell_type": "markdown",
   "id": "c3e65c2d",
   "metadata": {},
   "source": [
    "Find number of provinces (using disjoint set)"
   ]
  },
  {
   "cell_type": "code",
   "execution_count": null,
   "id": "fc2419f0",
   "metadata": {},
   "outputs": [],
   "source": [
    "def numProvinces(adj: list[list[int]], V: int):\n",
    "    ds: DisjointSet = DisjointSet(V - 1)\n",
    "    for i in range(V):\n",
    "        for j in range(V):\n",
    "            if adj[i][j]:\n",
    "                ds.unionBySize(i, j)\n",
    "\n",
    "    # Not advisable since we may or may not have compressed it\n",
    "    # return len(set(ds.parent))\n",
    "\n",
    "    result: set[int] = set()\n",
    "    for node in range(V):\n",
    "        result.add(ds.findUltimateParent(node))\n",
    "    return len(result)\n",
    "\n",
    "# Testing the solution\n",
    "assert numProvinces([[1, 0, 1], [0, 1, 0], [1, 0, 1]], 3) == 2\n",
    "assert numProvinces([[1, 1], [1, 1]], 2) == 1"
   ]
  }
 ],
 "metadata": {
  "kernelspec": {
   "display_name": "Python 3 (ipykernel)",
   "language": "python",
   "name": "python3"
  },
  "language_info": {
   "codemirror_mode": {
    "name": "ipython",
    "version": 3
   },
   "file_extension": ".py",
   "mimetype": "text/x-python",
   "name": "python",
   "nbconvert_exporter": "python",
   "pygments_lexer": "ipython3",
   "version": "3.10.14"
  },
  "papermill": {
   "default_parameters": {},
   "duration": 4.815791,
   "end_time": "2024-04-30T02:45:43.859909",
   "environment_variables": {},
   "exception": null,
   "input_path": "study/striver-A2Z/12-graphs.ipynb",
   "output_path": "study/striver-A2Z/12-graphs.ipynb",
   "parameters": {},
   "start_time": "2024-04-30T02:45:39.044118",
   "version": "2.5.0"
  }
 },
 "nbformat": 4,
 "nbformat_minor": 5
}
