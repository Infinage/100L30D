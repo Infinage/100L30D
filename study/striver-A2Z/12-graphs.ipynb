{
 "cells": [
  {
   "cell_type": "markdown",
   "id": "b7c72dfd",
   "metadata": {
    "papermill": {
     "duration": 0.016385,
     "end_time": "2024-04-28T14:02:59.894055",
     "exception": false,
     "start_time": "2024-04-28T14:02:59.877670",
     "status": "completed"
    },
    "tags": []
   },
   "source": [
    "#### Introduction to Graphs\n",
    "Video link: https://youtu.be/M3_pLsDdeuU?si=Bi_17bBfZUPqBU6K\n",
    "- Directed Graph: Graph with edges\n",
    "- Undirected Graph: Graph without edges\n",
    "- Cycle: Starting at node i, we are able to reach back to i again\n",
    "- DAG (Directed Acyclic Graph): Directed graph without any cycles\n",
    "- Degrees of a node (undirected): No of edges connected to that node\n",
    "- Indegree of a node (directed): No of incoming edges to a node\n",
    "- Outdegree of a node (directed): No of outgoing edges from a node\n",
    "- Property of an undirected of graph: Total degree = 2 * no. of edges (intuitively for edge we will be counting it twice on both ends of the connection)\n",
    "- Edge weights: Every edge of a graph is assigned a weight. If not provided, we can assume unit weight\n",
    "- Note that a graph can contain multiple components. A component is a set of nodes that can be reached from starting the traversal from one of the nodes."
   ]
  },
  {
   "cell_type": "markdown",
   "id": "cf960c9a",
   "metadata": {
    "lines_to_next_cell": 0,
    "papermill": {
     "duration": 0.01375,
     "end_time": "2024-04-28T14:02:59.921890",
     "exception": false,
     "start_time": "2024-04-28T14:02:59.908140",
     "status": "completed"
    },
    "tags": []
   },
   "source": [
    "#### Graph representation <br>\n",
    "Video Link: https://youtu.be/3oI-34aPMWM?si=ibTcfbzU8J9k-NHa\n",
    "1. Adjacency matrix: If N is no of nodes, create N x N grid.\n",
    "Each cell contains the weight if the edge between the two nodes.\n",
    "Connections may or may not exist. For undirected graphs, the\n",
    "matrix is symmetric around the diagnol. Space: O (N ^ 2)\n",
    "\n",
    "For eg: \n",
    "```\n",
    "0 1 2 3 4 5\n",
    "0 0 0 0 0 0\n",
    "1 0 1 2 0 0\n",
    "2 1 0 0 1 1\n",
    "3 2 0 0 0 0\n",
    "4 0 1 0 0 0\n",
    "5 0 1 0 0 0\n",
    "```\n",
    "\n",
    "2. Adjaceny list: Create an array of arrays or set of arrays. Each nested array at index denotes the nodes that index is connected to. Space: O(E), still be O (N ^ 2) in a complete graph. If it is a directed graph, each element in the nested array is a tuple of node that index is connected to along with the weight of that connection.\n",
    "\n",
    "For eg:\n",
    "```\n",
    "{\n",
    " 1: [(2, 1), (3, 2)]\n",
    " 2: [(4, 5)]\n",
    " 3: [(2, 2), (4, 1)]\n",
    "}\n",
    "```"
   ]
  },
  {
   "cell_type": "markdown",
   "id": "d7ecd5e5",
   "metadata": {
    "papermill": {
     "duration": 0.013755,
     "end_time": "2024-04-28T14:02:59.950976",
     "exception": false,
     "start_time": "2024-04-28T14:02:59.937221",
     "status": "completed"
    },
    "tags": []
   },
   "source": [
    "#### Misc about graphs\n",
    "- Bipartite Graph: Color the graph with 2 colors such that no adjacent nodes have the same color. More formally: A graph is bipartite if the nodes can be partitioned into two independent sets A and B such that every edge in the graph connects a node in set A and a node in set B.\n",
    "- Linear graphs without any cycles are always bipartite.\n",
    "- Cyclic graphs of even node length are always bipartite.\n",
    "- Cyclic graphs of odd node length are NOT bipartite.\n",
    "- Topological sortig is only valid for DAGs (Directed Acyclic graphs). Is topo sort, the vertices are ordered such that if there is an edge between vertex v1 and v2 then v1 appears before v2. There could be multiple ways in which the vertices are sorted.\n",
    "- Topological sorting with DFS involves pushing onto a stack at the end of recursive function.\n",
    "- Topological sorting with BFS involves an algorithm called as the Kahn's algorithm."
   ]
  },
  {
   "cell_type": "markdown",
   "id": "24f84e7c",
   "metadata": {
    "papermill": {
     "duration": 0.013721,
     "end_time": "2024-04-28T14:02:59.978398",
     "exception": false,
     "start_time": "2024-04-28T14:02:59.964677",
     "status": "completed"
    },
    "tags": []
   },
   "source": [
    "Dijkstra algorithm (Worst case time complexity: O (E log V)):\n",
    "1. Algorithm to find the shortest distance from source node to all nodes.\n",
    "2. It doesn't work for graphs with negative weights.\n",
    "3. Typically used with a priority queue. Can work with queue as well. With Q, it works as a typical BFS (Brute force). With PQ we consider the best path only instead of iterating all edges, we end up pruning non optimal paths.\n",
    "4. Logic:\n",
    "```\n",
    "- Create a vector of distances. Assign src as 0 and remaining nodes as infinite (not yet reached)\n",
    "- Initialize a min heap <dist, node>. Initially we start at src (0, src).\n",
    "- Repeat until min heap is exhausted.\n",
    "  * Pop the smallest out\n",
    "  * Iterate through all neighbours. If the dist to reach neighbour is smaller than currently known shortest distance, update the shortest dist and add to queue.\n",
    "- Return the distance vector.\n",
    "```"
   ]
  },
  {
   "cell_type": "markdown",
   "id": "a321425e",
   "metadata": {
    "lines_to_next_cell": 0,
    "papermill": {
     "duration": 0.013653,
     "end_time": "2024-04-28T14:03:00.006106",
     "exception": false,
     "start_time": "2024-04-28T14:02:59.992453",
     "status": "completed"
    },
    "tags": []
   },
   "source": [
    "#### Helper functions and definitions"
   ]
  },
  {
   "cell_type": "code",
   "execution_count": 1,
   "id": "8c79edc4",
   "metadata": {
    "execution": {
     "iopub.execute_input": "2024-04-28T14:03:00.035110Z",
     "iopub.status.busy": "2024-04-28T14:03:00.034806Z",
     "iopub.status.idle": "2024-04-28T14:03:00.044808Z",
     "shell.execute_reply": "2024-04-28T14:03:00.044174Z"
    },
    "lines_to_next_cell": 1,
    "papermill": {
     "duration": 0.026704,
     "end_time": "2024-04-28T14:03:00.046543",
     "exception": false,
     "start_time": "2024-04-28T14:03:00.019839",
     "status": "completed"
    },
    "tags": []
   },
   "outputs": [],
   "source": [
    "import math\n",
    "import collections\n",
    "import itertools\n",
    "import typing\n",
    "import heapq"
   ]
  },
  {
   "cell_type": "markdown",
   "id": "fc260e41",
   "metadata": {
    "papermill": {
     "duration": 0.013821,
     "end_time": "2024-04-28T14:03:00.075684",
     "exception": false,
     "start_time": "2024-04-28T14:03:00.061863",
     "status": "completed"
    },
    "tags": []
   },
   "source": [
    "Video Link: https://youtu.be/-tgVpUgsQ5k?si=8HBt33CLyu9hTP1I\n",
    "BFS Search of a graph"
   ]
  },
  {
   "cell_type": "code",
   "execution_count": 2,
   "id": "2e42efd0",
   "metadata": {
    "execution": {
     "iopub.execute_input": "2024-04-28T14:03:00.105698Z",
     "iopub.status.busy": "2024-04-28T14:03:00.104982Z",
     "iopub.status.idle": "2024-04-28T14:03:00.112000Z",
     "shell.execute_reply": "2024-04-28T14:03:00.111370Z"
    },
    "lines_to_next_cell": 1,
    "papermill": {
     "duration": 0.024008,
     "end_time": "2024-04-28T14:03:00.113757",
     "exception": false,
     "start_time": "2024-04-28T14:03:00.089749",
     "status": "completed"
    },
    "tags": []
   },
   "outputs": [],
   "source": [
    "def bfsOfGraph(V: int, adj: list[list[int]]) -> list[int]:\n",
    "    result: list[int] = []\n",
    "    queue: collections.deque = collections.deque([0])\n",
    "    visited: set[int] = set()\n",
    "    while queue:\n",
    "        curr = queue.popleft()\n",
    "        if curr not in visited:\n",
    "            result.append(curr)\n",
    "            visited.add(curr)\n",
    "        queue.extend(adj[curr])\n",
    "\n",
    "    return result\n",
    "\n",
    "# Testing the solution\n",
    "assert bfsOfGraph(5, [[1,2,3],[],[4],[],[]]) == [0, 1, 2, 3, 4]\n",
    "assert bfsOfGraph(5, [[1,2],[],[]]) == [0, 1, 2]"
   ]
  },
  {
   "cell_type": "markdown",
   "id": "25de613f",
   "metadata": {
    "papermill": {
     "duration": 0.014013,
     "end_time": "2024-04-28T14:03:00.142040",
     "exception": false,
     "start_time": "2024-04-28T14:03:00.128027",
     "status": "completed"
    },
    "tags": []
   },
   "source": [
    "Video Link: https://youtu.be/Qzf1a--rhp8?si=Zb_XCqskGiK11gbB\n",
    "DFS Traversal"
   ]
  },
  {
   "cell_type": "code",
   "execution_count": 3,
   "id": "4a28e0ae",
   "metadata": {
    "execution": {
     "iopub.execute_input": "2024-04-28T14:03:00.170876Z",
     "iopub.status.busy": "2024-04-28T14:03:00.170228Z",
     "iopub.status.idle": "2024-04-28T14:03:00.179119Z",
     "shell.execute_reply": "2024-04-28T14:03:00.178502Z"
    },
    "lines_to_next_cell": 1,
    "papermill": {
     "duration": 0.025144,
     "end_time": "2024-04-28T14:03:00.180759",
     "exception": false,
     "start_time": "2024-04-28T14:03:00.155615",
     "status": "completed"
    },
    "tags": []
   },
   "outputs": [],
   "source": [
    "def depthFirstSearch(V: int, E: int, edges: list[list[int]]) -> list[list[int]]:\n",
    "    adjl: dict[int, list[int]] = dict()\n",
    "    for i in range(E):\n",
    "        n1, n2 = edges[i]\n",
    "        n1_edges, n2_edges = adjl.get(n1, []), adjl.get(n2, [])\n",
    "        n1_edges.append(n2)\n",
    "        n2_edges.append(n1)\n",
    "        adjl[n1], adjl[n2] = n1_edges, n2_edges\n",
    "\n",
    "    result: list[list[int]] = []\n",
    "    visited: set[int] = set()\n",
    "\n",
    "    # Time Complexity: O(N), Space: O(N)\n",
    "    for i in range(V):\n",
    "        stack: list[int] = [i]\n",
    "        components: list[int] = []\n",
    "        while stack:\n",
    "            curr = stack.pop()\n",
    "            if curr not in visited:\n",
    "                visited.add(curr)\n",
    "                components.append(curr)\n",
    "                for next_ in adjl.get(curr, []):\n",
    "                    stack.append(next_)\n",
    "\n",
    "        if components:\n",
    "            components.sort()\n",
    "            result.append(components)\n",
    "\n",
    "    return result\n",
    "\n",
    "# Testing the result\n",
    "assert depthFirstSearch(5, 4, [[0,2], [0,1], [1,2], [3,4]]) == [[0,1,2], [3,4]]"
   ]
  },
  {
   "cell_type": "markdown",
   "id": "a12cfaca",
   "metadata": {
    "papermill": {
     "duration": 0.013555,
     "end_time": "2024-04-28T14:03:00.208051",
     "exception": false,
     "start_time": "2024-04-28T14:03:00.194496",
     "status": "completed"
    },
    "tags": []
   },
   "source": [
    "Number of provinces: https://leetcode.com/problems/number-of-provinces/submissions/1237343247/\n",
    "Video Link: https://youtu.be/ACzkVtewUYA?si=wpzBiKJoOJQnFR18"
   ]
  },
  {
   "cell_type": "code",
   "execution_count": 4,
   "id": "672dd010",
   "metadata": {
    "execution": {
     "iopub.execute_input": "2024-04-28T14:03:00.236896Z",
     "iopub.status.busy": "2024-04-28T14:03:00.236229Z",
     "iopub.status.idle": "2024-04-28T14:03:00.243217Z",
     "shell.execute_reply": "2024-04-28T14:03:00.242474Z"
    },
    "lines_to_next_cell": 1,
    "papermill": {
     "duration": 0.023314,
     "end_time": "2024-04-28T14:03:00.244906",
     "exception": false,
     "start_time": "2024-04-28T14:03:00.221592",
     "status": "completed"
    },
    "tags": []
   },
   "outputs": [],
   "source": [
    "def findCircleNum(adjM: list[list[int]]) -> int:\n",
    "    N = len(adjM)\n",
    "\n",
    "    visited: set[int] = set()\n",
    "    def DFS(curr: int):\n",
    "        if curr not in visited:\n",
    "            visited.add(curr)\n",
    "            for i in range(N):\n",
    "                if adjM[curr][i]:\n",
    "                    DFS(i)\n",
    "\n",
    "    provinces: int = 0\n",
    "    for curr in range(N):\n",
    "        if curr not in visited:\n",
    "            DFS(curr)\n",
    "            provinces += 1\n",
    "\n",
    "    return provinces\n",
    "\n",
    "# Testing the solution\n",
    "assert findCircleNum([[1,1,0],[1,1,0],[0,0,1]]) == 2\n",
    "assert findCircleNum([[1,0,0],[0,1,0],[0,0,1]]) == 3"
   ]
  },
  {
   "cell_type": "markdown",
   "id": "bab63bca",
   "metadata": {
    "papermill": {
     "duration": 0.013756,
     "end_time": "2024-04-28T14:03:00.272701",
     "exception": false,
     "start_time": "2024-04-28T14:03:00.258945",
     "status": "completed"
    },
    "tags": []
   },
   "source": [
    "Video link: https://youtu.be/muncqlKJrH0?si=xcCfsKjX5tZd4kZJ\n",
    "Number of islands"
   ]
  },
  {
   "cell_type": "code",
   "execution_count": 5,
   "id": "968de0b8",
   "metadata": {
    "execution": {
     "iopub.execute_input": "2024-04-28T14:03:00.301554Z",
     "iopub.status.busy": "2024-04-28T14:03:00.300993Z",
     "iopub.status.idle": "2024-04-28T14:03:00.308531Z",
     "shell.execute_reply": "2024-04-28T14:03:00.307789Z"
    },
    "lines_to_next_cell": 1,
    "papermill": {
     "duration": 0.023825,
     "end_time": "2024-04-28T14:03:00.310209",
     "exception": false,
     "start_time": "2024-04-28T14:03:00.286384",
     "status": "completed"
    },
    "tags": []
   },
   "outputs": [],
   "source": [
    "def numIslands(grid: list[list[int]]) -> int:\n",
    "    N = len(grid)\n",
    "    M = len(grid[0])\n",
    "\n",
    "    def DFS(i: int, j: int):\n",
    "        if 0 <= i < N and 0 <= j < M and grid[i][j] == 1:\n",
    "            grid[i][j] = 0\n",
    "            for i_ in range(-1, 2):\n",
    "                for j_ in range(-1, 2):\n",
    "                    DFS(i + i_, j + j_)\n",
    "\n",
    "    islands = 0\n",
    "    for i_ in range(N):\n",
    "        for j_ in range(M):\n",
    "            if grid[i_][j_] == 1:\n",
    "                islands += 1\n",
    "                DFS(i_, j_)\n",
    "    return islands\n",
    "\n",
    "# Testing the solution\n",
    "assert numIslands([[0,1,1,1,0,0,0],[0,0,1,1,0,1,0]]) == 2\n",
    "assert numIslands([[0,1],[1,0],[1,1],[1,0]]) == 1"
   ]
  },
  {
   "cell_type": "markdown",
   "id": "10f09e20",
   "metadata": {
    "papermill": {
     "duration": 0.013655,
     "end_time": "2024-04-28T14:03:00.337683",
     "exception": false,
     "start_time": "2024-04-28T14:03:00.324028",
     "status": "completed"
    },
    "tags": []
   },
   "source": [
    "Video Link: https://youtu.be/C-2_uSRli8o?si=kwATM2glQc_Mpf76\n",
    "Flood fill: https://leetcode.com/problems/flood-fill/submissions/1237381436"
   ]
  },
  {
   "cell_type": "code",
   "execution_count": 6,
   "id": "1e1a36fc",
   "metadata": {
    "execution": {
     "iopub.execute_input": "2024-04-28T14:03:00.366336Z",
     "iopub.status.busy": "2024-04-28T14:03:00.365731Z",
     "iopub.status.idle": "2024-04-28T14:03:00.373387Z",
     "shell.execute_reply": "2024-04-28T14:03:00.372688Z"
    },
    "lines_to_next_cell": 1,
    "papermill": {
     "duration": 0.023843,
     "end_time": "2024-04-28T14:03:00.375091",
     "exception": false,
     "start_time": "2024-04-28T14:03:00.351248",
     "status": "completed"
    },
    "tags": []
   },
   "outputs": [],
   "source": [
    "def floodFill(image: list[list[int]], sr: int, sc: int, fill_color: int) -> list[list[int]]:\n",
    "\n",
    "    N, M = len(image), len(image[0])\n",
    "\n",
    "    start_color = image[sr][sc]\n",
    "    if start_color != fill_color:\n",
    "        queue: collections.deque = collections.deque([(sr, sc)])\n",
    "\n",
    "        while queue:\n",
    "            i, j = queue.popleft()\n",
    "            if 0 <= i < N and 0 <= j < M and image[i][j] == start_color:\n",
    "                image[i][j] = fill_color\n",
    "                queue.extend([(i - 1, j), (i, j - 1), (i, j + 1), (i + 1, j)])\n",
    "\n",
    "    return image\n",
    "\n",
    "# Testing the solution\n",
    "assert floodFill([[1,1,1],[1,1,0],[1,0,1]], 1, 1, 2) == [[2,2,2],[2,2,0],[2,0,1]]"
   ]
  },
  {
   "cell_type": "markdown",
   "id": "cb576964",
   "metadata": {
    "papermill": {
     "duration": 0.013685,
     "end_time": "2024-04-28T14:03:00.402709",
     "exception": false,
     "start_time": "2024-04-28T14:03:00.389024",
     "status": "completed"
    },
    "tags": []
   },
   "source": [
    "Video Link: https://youtu.be/yf3oUhkvqA0?si=A664tpMiA00GrxJV\n",
    "Rotten Oranges: https://leetcode.com/problems/rotting-oranges/submissions/1237760285"
   ]
  },
  {
   "cell_type": "code",
   "execution_count": 7,
   "id": "8b72ec9b",
   "metadata": {
    "execution": {
     "iopub.execute_input": "2024-04-28T14:03:00.431901Z",
     "iopub.status.busy": "2024-04-28T14:03:00.431257Z",
     "iopub.status.idle": "2024-04-28T14:03:00.443496Z",
     "shell.execute_reply": "2024-04-28T14:03:00.442764Z"
    },
    "lines_to_next_cell": 1,
    "papermill": {
     "duration": 0.028944,
     "end_time": "2024-04-28T14:03:00.445269",
     "exception": false,
     "start_time": "2024-04-28T14:03:00.416325",
     "status": "completed"
    },
    "tags": []
   },
   "outputs": [],
   "source": [
    "def orangesRotting(grid: list[list[int]]) -> int:\n",
    "    \"\"\"\n",
    "    BFS function can be optimized by using a queue. Each element is (i, j, time).\n",
    "    Further more instead of storing all fresh indices as a set, we can simply have a counter and decrement it every time we rot an orange.\n",
    "    Simple check if this counter is 0 before returning minutes.\n",
    "\n",
    "    Time: O(M x N), Space: O(M x N)\n",
    "    \"\"\"\n",
    "    N, M = len(grid), len(grid[0])\n",
    "\n",
    "    rotten: list[tuple[int, int]] = []\n",
    "    def BFS() -> int:\n",
    "        nonlocal rotten\n",
    "        min_: int = 0\n",
    "        while rotten:\n",
    "            newly_rotten = False\n",
    "            next_: list[tuple[int, int]] = []\n",
    "            for i_, j_ in rotten:\n",
    "                if 0 <= i_ < N and 0 <= j_ < M and grid[i_][j_] == 1:\n",
    "                    grid[i_][j_] = 2\n",
    "                    fresh.remove((i_, j_))\n",
    "                    next_.extend([(i_ - 1, j_), (i_, j_ - 1), (i_, j_ + 1), (i_ + 1, j_)])\n",
    "                    newly_rotten = True\n",
    "\n",
    "            min_ += int(newly_rotten)\n",
    "            rotten = next_\n",
    "\n",
    "        return min_\n",
    "\n",
    "    fresh: set[tuple[int, int]] = set()\n",
    "    for i in range(N):\n",
    "        for j in range(M):\n",
    "            if grid[i][j] == 1:\n",
    "                fresh.add((i, j))\n",
    "            if grid[i][j] == 2:\n",
    "                grid[i][j] = 2\n",
    "                rotten.extend([(i - 1, j), (i, j - 1), (i, j + 1), (i + 1, j)])\n",
    "\n",
    "    minutes = BFS()\n",
    "    return minutes if not fresh else -1\n",
    "\n",
    "# Testing the solution\n",
    "assert orangesRotting([[2,1,1],[1,1,0],[0,1,1]]) == 4\n",
    "assert orangesRotting([[2,1,1],[0,1,1],[1,0,1]]) == -1\n",
    "assert orangesRotting([[2,1,1],[1,1,1],[0,1,2]]) == 2"
   ]
  },
  {
   "cell_type": "markdown",
   "id": "eef4c409",
   "metadata": {
    "papermill": {
     "duration": 0.01364,
     "end_time": "2024-04-28T14:03:00.472867",
     "exception": false,
     "start_time": "2024-04-28T14:03:00.459227",
     "status": "completed"
    },
    "tags": []
   },
   "source": [
    "Detect cycle with Graph (BFS / DFS)\n",
    "Video Link BFS: https://youtu.be/BPlrALf1LDU?si=U9u9H_9xiHo8oflx\n",
    "Video Link DFS: https://youtu.be/zQ3zgFypzX4?si=trbPI1I4DfRMcrj5"
   ]
  },
  {
   "cell_type": "code",
   "execution_count": 8,
   "id": "342b6f3b",
   "metadata": {
    "execution": {
     "iopub.execute_input": "2024-04-28T14:03:00.502564Z",
     "iopub.status.busy": "2024-04-28T14:03:00.501860Z",
     "iopub.status.idle": "2024-04-28T14:03:00.513847Z",
     "shell.execute_reply": "2024-04-28T14:03:00.513156Z"
    },
    "lines_to_next_cell": 1,
    "papermill": {
     "duration": 0.028913,
     "end_time": "2024-04-28T14:03:00.515623",
     "exception": false,
     "start_time": "2024-04-28T14:03:00.486710",
     "status": "completed"
    },
    "tags": []
   },
   "outputs": [],
   "source": [
    "def detectCycle(V: int, E: int, edges: list[tuple[int, int]]):\n",
    "    \"\"\"\n",
    "    BFS:\n",
    "\n",
    "    Starting at node i we branch outwards. If some node is visited again and that node didn't come from curr node then we have a cycle\n",
    "    We check if the next node comes from curr by storing the parent in the queue.\n",
    "\n",
    "    We can save duplicate work for disconnected components by storing visited outside of the BFS function. Remember to add the parent != -1 condition.\n",
    "\n",
    "    Time: O(N), Space: O(N)\n",
    "\n",
    "    DFS:\n",
    "\n",
    "    Starting at node i, if we are able to reach node i again via DFS, then the graph has a cycle.\n",
    "    To make sure we don't visit the parent again, we store the parent node in the stack.\n",
    "\n",
    "    Time: O(N), Space: O(N)\n",
    "    \"\"\"\n",
    "    adjl: dict[int, list[int]] = dict()\n",
    "    for n1, n2 in edges:\n",
    "        n1_neighbours, n2_neighbours = adjl.get(n1, []), adjl.get(n2, [])\n",
    "        n1_neighbours.append(n2)\n",
    "        n2_neighbours.append(n1)\n",
    "        adjl[n1], adjl[n2] = n1_neighbours, n2_neighbours\n",
    "\n",
    "    def BFS(root: int) -> bool:\n",
    "        queue: collections.deque = collections.deque([(root, -1)])\n",
    "        while queue:\n",
    "            curr, parent = queue.popleft()\n",
    "            visited.add(curr)\n",
    "            for next_ in adjl.get(curr, []):\n",
    "                if next_ not in visited:\n",
    "                    queue.append((next_, curr))\n",
    "                elif parent != -1 and next_ != parent:\n",
    "                    return True\n",
    "        else:\n",
    "            return False\n",
    "\n",
    "    def DFS(root: int) -> bool:\n",
    "        stack: list[tuple[int, int]] = [(root, -1)]\n",
    "        while stack:\n",
    "            curr, parent = stack.pop()\n",
    "            if curr not in visited:\n",
    "                visited.add(curr)\n",
    "                for next_ in adjl.get(curr, []):\n",
    "                    if next_ != parent:\n",
    "                        stack.append((next_, curr))\n",
    "\n",
    "            elif parent != -1:\n",
    "                return True\n",
    "\n",
    "        return False\n",
    "\n",
    "    visited: set[int] = set()\n",
    "    for curr in range(V):\n",
    "        if DFS(curr):\n",
    "            return True\n",
    "    else:\n",
    "        return False\n",
    "\n",
    "assert detectCycle(5, 3, [(0, 1), (1, 2), (3, 4)]) == False\n",
    "assert detectCycle(4, 4, [(0, 1), (1, 2), (2, 3), (3, 0)]) == True"
   ]
  },
  {
   "cell_type": "markdown",
   "id": "86e956f5",
   "metadata": {
    "papermill": {
     "duration": 0.013933,
     "end_time": "2024-04-28T14:03:00.543890",
     "exception": false,
     "start_time": "2024-04-28T14:03:00.529957",
     "status": "completed"
    },
    "tags": []
   },
   "source": [
    "Video Link: https://youtu.be/edXdVwkYHF8?si=oTave6oul5GbDHrn\n",
    "01 Matrix: https://leetcode.com/problems/01-matrix/"
   ]
  },
  {
   "cell_type": "code",
   "execution_count": 9,
   "id": "14c07211",
   "metadata": {
    "execution": {
     "iopub.execute_input": "2024-04-28T14:03:00.573502Z",
     "iopub.status.busy": "2024-04-28T14:03:00.572809Z",
     "iopub.status.idle": "2024-04-28T14:03:00.583695Z",
     "shell.execute_reply": "2024-04-28T14:03:00.582951Z"
    },
    "lines_to_next_cell": 1,
    "papermill": {
     "duration": 0.027607,
     "end_time": "2024-04-28T14:03:00.585344",
     "exception": false,
     "start_time": "2024-04-28T14:03:00.557737",
     "status": "completed"
    },
    "tags": []
   },
   "outputs": [],
   "source": [
    "def updateMatrixBrute(mat: list[list[int]]) -> list[list[int]]:\n",
    "    M, N = len(mat), len(mat[0])\n",
    "    result: list[list[int]] = [[-1 for i in range(N)] for j in range(M)]\n",
    "\n",
    "    def BFS(row: int, col: int) -> int:\n",
    "        queue: collections.deque = collections.deque([(row, col, 0)])\n",
    "        visited: set[tuple[int, int]] = set()\n",
    "        while queue:\n",
    "            i, j, dist = queue.popleft()\n",
    "            if (i, j) not in visited and 0 <= i < M and 0 <= j < N:\n",
    "                visited.add((i, j))\n",
    "                if mat[i][j] == 0:\n",
    "                    return dist\n",
    "                else:\n",
    "                    queue.extend([(i - 1, j, dist + 1), (i, j - 1, dist + 1), (i, j + 1, dist + 1), (i + 1, j, dist + 1)])\n",
    "\n",
    "        return -1\n",
    "\n",
    "    for i in range(M):\n",
    "        for j in range(N):\n",
    "            result[i][j] = BFS(i, j)\n",
    "\n",
    "    return result\n",
    "\n",
    "# Testing the solution\n",
    "assert updateMatrixBrute([[0,0,0],[0,1,0],[0,0,0]]) == [[0,0,0],[0,1,0],[0,0,0]]\n",
    "assert updateMatrixBrute([[0,0,0],[0,1,0],[1,1,1]]) == [[0,0,0],[0,1,0],[1,2,1]]"
   ]
  },
  {
   "cell_type": "code",
   "execution_count": 10,
   "id": "251805ef",
   "metadata": {
    "execution": {
     "iopub.execute_input": "2024-04-28T14:03:00.615335Z",
     "iopub.status.busy": "2024-04-28T14:03:00.614593Z",
     "iopub.status.idle": "2024-04-28T14:03:00.628017Z",
     "shell.execute_reply": "2024-04-28T14:03:00.627350Z"
    },
    "lines_to_next_cell": 1,
    "papermill": {
     "duration": 0.030162,
     "end_time": "2024-04-28T14:03:00.629723",
     "exception": false,
     "start_time": "2024-04-28T14:03:00.599561",
     "status": "completed"
    },
    "tags": []
   },
   "outputs": [],
   "source": [
    "# https://leetcode.com/problems/01-matrix/submissions/1238008344\n",
    "def updateMatrixBetter(mat: list[list[int]]) -> list[list[float]]:\n",
    "    M, N = len(mat), len(mat[0])\n",
    "    result: list[list[float]] = [[math.inf for j in range(N)] for i in range(M)]\n",
    "\n",
    "    # Go right to left to find the nearest 0 on the right\n",
    "    for i in range(M):\n",
    "        for j in range(N - 1, -1, -1):\n",
    "            if mat[i][j] == 0:\n",
    "                result[i][j] = 0\n",
    "            else:\n",
    "                dist = result[i][j + 1] + 1 if j < N - 1 else math.inf\n",
    "                result[i][j] = min(dist, result[i][j])\n",
    "\n",
    "    # Go left to right to find the nearest 0 on the left\n",
    "    for i in range(M):\n",
    "        for j in range(N):\n",
    "            if mat[i][j] == 0:\n",
    "                result[i][j] = 0\n",
    "            else:\n",
    "                dist = result[i][j - 1] + 1 if j > 0 else math.inf\n",
    "                result[i][j] = min(dist, result[i][j])\n",
    "\n",
    "    # Go top to bottom to find the nearest 0 on the top\n",
    "    for i in range(M):\n",
    "        for j in range(N):\n",
    "            if mat[i][j] == 0:\n",
    "                result[i][j] = 0\n",
    "            else:\n",
    "                dist = result[i - 1][j] + 1 if i > 0 else math.inf\n",
    "                result[i][j] = min(dist, result[i][j])\n",
    "\n",
    "    # Go bottom to top to find the nearest 0 on the bottom\n",
    "    for i in range(M - 1, -1, -1):\n",
    "        for j in range(N):\n",
    "            if mat[i][j] == 0:\n",
    "                result[i][j] = 0\n",
    "            else:\n",
    "                dist = result[i + 1][j] + 1 if i < M - 1 else math.inf\n",
    "                result[i][j] = min(dist, result[i][j])\n",
    "\n",
    "    return result\n",
    "\n",
    "# Testing the solution\n",
    "assert updateMatrixBetter([[0,0,0],[0,1,0],[0,0,0]]) == [[0,0,0],[0,1,0],[0,0,0]]\n",
    "assert updateMatrixBetter([[0,0,0],[0,1,0],[1,1,1]]) == [[0,0,0],[0,1,0],[1,2,1]]"
   ]
  },
  {
   "cell_type": "code",
   "execution_count": 11,
   "id": "9469ade5",
   "metadata": {
    "execution": {
     "iopub.execute_input": "2024-04-28T14:03:00.659555Z",
     "iopub.status.busy": "2024-04-28T14:03:00.658859Z",
     "iopub.status.idle": "2024-04-28T14:03:00.669035Z",
     "shell.execute_reply": "2024-04-28T14:03:00.668288Z"
    },
    "lines_to_next_cell": 1,
    "papermill": {
     "duration": 0.02696,
     "end_time": "2024-04-28T14:03:00.670801",
     "exception": false,
     "start_time": "2024-04-28T14:03:00.643841",
     "status": "completed"
    },
    "tags": []
   },
   "outputs": [],
   "source": [
    "# https://leetcode.com/problems/01-matrix/submissions/1238019317/\n",
    "def updateMatrix(mat: list[list[int]]) -> list[list[float]]:\n",
    "    \"\"\"Time: O(M x N), Space: O(M x N)\"\"\"\n",
    "\n",
    "    M, N = len(mat), len(mat[0])\n",
    "    result: list[list[float]] = [[math.inf for j in range(N)] for i in range(M)]\n",
    "\n",
    "    # Collect all nodes that are having 0 values: i, j, dist\n",
    "    queue: collections.deque = collections.deque()\n",
    "    for i in range(M):\n",
    "        for j in range(N):\n",
    "            if mat[i][j] == 0:\n",
    "                queue.append((i, j, 0))\n",
    "\n",
    "    # Start to traverse BFS together\n",
    "    visited: set[tuple[int, int]] = set()\n",
    "    while queue:\n",
    "        i, j, dist = queue.popleft()\n",
    "        if 0 <= i < M and 0 <= j < N and (i, j) not in visited:\n",
    "            result[i][j] = dist\n",
    "            visited.add((i, j))\n",
    "            queue.extend([(i - 1, j, dist + 1), (i, j - 1, dist + 1), (i, j + 1, dist + 1), (i + 1, j, dist + 1)])\n",
    "\n",
    "    return result\n",
    "\n",
    "# Testing the solution\n",
    "assert updateMatrix([[0,0,0],[0,1,0],[0,0,0]]) == [[0,0,0],[0,1,0],[0,0,0]]\n",
    "assert updateMatrix([[0,0,0],[0,1,0],[1,1,1]]) == [[0,0,0],[0,1,0],[1,2,1]]"
   ]
  },
  {
   "cell_type": "markdown",
   "id": "0b3a1d29",
   "metadata": {
    "papermill": {
     "duration": 0.013863,
     "end_time": "2024-04-28T14:03:00.698647",
     "exception": false,
     "start_time": "2024-04-28T14:03:00.684784",
     "status": "completed"
    },
    "tags": []
   },
   "source": [
    "Video Link: https://youtu.be/BtdgAys4yMk?si=BLc-UXXR9XvQV8Mf\n",
    "Surrounded Regions: https://leetcode.com/problems/surrounded-regions/description/"
   ]
  },
  {
   "cell_type": "code",
   "execution_count": 12,
   "id": "3610e726",
   "metadata": {
    "execution": {
     "iopub.execute_input": "2024-04-28T14:03:00.727875Z",
     "iopub.status.busy": "2024-04-28T14:03:00.727232Z",
     "iopub.status.idle": "2024-04-28T14:03:00.739295Z",
     "shell.execute_reply": "2024-04-28T14:03:00.738533Z"
    },
    "lines_to_next_cell": 1,
    "papermill": {
     "duration": 0.028807,
     "end_time": "2024-04-28T14:03:00.741181",
     "exception": false,
     "start_time": "2024-04-28T14:03:00.712374",
     "status": "completed"
    },
    "tags": []
   },
   "outputs": [],
   "source": [
    "# https://leetcode.com/problems/surrounded-regions/submissions/1238092752\n",
    "def solve(board: list[list[str]]) -> None:\n",
    "    \"Time: O(M x N), Time: O(M x N)\"\n",
    "    M, N = len(board), len(board[0])\n",
    "\n",
    "    stack: list[tuple[int, int]] = []\n",
    "    visited: set[tuple[int, int]] = set()\n",
    "\n",
    "    # Capture all zeros at the borders\n",
    "    for i in range(M):\n",
    "        for j in range(N):\n",
    "            if (i in (0, M - 1) or j in (0, N - 1)) and board[i][j] == \"O\":\n",
    "                stack.append((i, j))\n",
    "\n",
    "    # Do a DFS and mark zeros into visited\n",
    "    while stack:\n",
    "        i, j = stack.pop()\n",
    "        visited.add((i, j))\n",
    "        for x, y in [(-1, 0), (0, -1), (0, 1), (1, 0)]:\n",
    "            row, col = i + x, j + y\n",
    "            if 0 <= row < M and 0 <= col < N and board[row][col] == 'O' and (row, col) not in visited:\n",
    "                stack.append((row, col))\n",
    "\n",
    "    # Visited set contains all 'O' adjacent to 'O's that cannot be flipped\n",
    "    for i in range(M):\n",
    "        for j in range(N):\n",
    "            if (i, j) not in visited:\n",
    "                board[i][j] = \"X\"\n",
    "\n",
    "# Testing the solution\n",
    "for inp, op in [\n",
    "    (\n",
    "        [[\"X\",\"X\",\"X\",\"X\"],[\"X\",\"O\",\"O\",\"X\"],[\"X\",\"X\",\"O\",\"X\"],[\"X\",\"O\",\"X\",\"X\"]],\n",
    "        [[\"X\",\"X\",\"X\",\"X\"],[\"X\",\"X\",\"X\",\"X\"],[\"X\",\"X\",\"X\",\"X\"],[\"X\",\"O\",\"X\",\"X\"]]\n",
    "    ),\n",
    "    (\n",
    "        [[\"X\",\"X\",\"X\",\"X\"],[\"X\",\"O\",\"O\",\"X\"],[\"X\",\"X\",\"O\",\"X\"],[\"X\",\"X\",\"O\",\"X\"]],\n",
    "        [[\"X\",\"X\",\"X\",\"X\"],[\"X\",\"O\",\"O\",\"X\"],[\"X\",\"X\",\"O\",\"X\"],[\"X\",\"X\",\"O\",\"X\"]]\n",
    "    )\n",
    "]:\n",
    "    solve(inp)\n",
    "    assert inp == op"
   ]
  },
  {
   "cell_type": "markdown",
   "id": "0b264d5d",
   "metadata": {
    "papermill": {
     "duration": 0.014001,
     "end_time": "2024-04-28T14:03:00.769412",
     "exception": false,
     "start_time": "2024-04-28T14:03:00.755411",
     "status": "completed"
    },
    "tags": []
   },
   "source": [
    "Number of Enclaves\n",
    "Video Link: https://youtu.be/7zmgQSJghpo?si=XSGlRuO_V105V2XK"
   ]
  },
  {
   "cell_type": "code",
   "execution_count": 13,
   "id": "5647a7a1",
   "metadata": {
    "execution": {
     "iopub.execute_input": "2024-04-28T14:03:00.798858Z",
     "iopub.status.busy": "2024-04-28T14:03:00.798189Z",
     "iopub.status.idle": "2024-04-28T14:03:00.807728Z",
     "shell.execute_reply": "2024-04-28T14:03:00.807064Z"
    },
    "lines_to_next_cell": 1,
    "papermill": {
     "duration": 0.026164,
     "end_time": "2024-04-28T14:03:00.809383",
     "exception": false,
     "start_time": "2024-04-28T14:03:00.783219",
     "status": "completed"
    },
    "tags": []
   },
   "outputs": [],
   "source": [
    "# https://leetcode.com/problems/number-of-enclaves/submissions/1238117024\n",
    "def numEnclaves(grid: list[list[int]]) -> int:\n",
    "    \"Time: O(M x N), Space: O(M x N) recursion stack space\"\n",
    "    M, N = len(grid), len(grid[0])\n",
    "\n",
    "    def DFS(row: int, col: int):\n",
    "        grid[row][col] = 0\n",
    "        for x, y in [(-1, 0), (0, -1), (0, 1), (1, 0)]:\n",
    "            i_, j_ = row + x, col + y\n",
    "            if 0 <= i_ < M and 0 <= j_ < N and grid[i_][j_] == 1:\n",
    "                DFS(i_, j_)\n",
    "\n",
    "    for i in range(M):\n",
    "        for j in range(N):\n",
    "            if (i in (0, M - 1) or j in (0, N - 1)) and grid[i][j] == 1:\n",
    "                DFS(i, j)\n",
    "\n",
    "    enclaves = 0\n",
    "    for i in range(M):\n",
    "        for j in range(N):\n",
    "            if grid[i][j] == 1:\n",
    "                enclaves += 1\n",
    "\n",
    "    return enclaves\n",
    "\n",
    "# Testing the solution\n",
    "assert numEnclaves([[0,0,0,0],[1,0,1,0],[0,1,1,0],[0,0,0,0]]) == 3\n",
    "assert numEnclaves([[0,1,1,0],[0,0,1,0],[0,0,1,0],[0,0,0,0]]) == 0"
   ]
  },
  {
   "cell_type": "markdown",
   "id": "83ddc4a6",
   "metadata": {
    "papermill": {
     "duration": 0.032687,
     "end_time": "2024-04-28T14:03:00.855917",
     "exception": false,
     "start_time": "2024-04-28T14:03:00.823230",
     "status": "completed"
    },
    "tags": []
   },
   "source": [
    "Video link: https://youtu.be/7zmgQSJghpo?si=VR9VnvBwe-esRaau\n",
    "Distinct Islands"
   ]
  },
  {
   "cell_type": "code",
   "execution_count": 14,
   "id": "77dd14f8",
   "metadata": {
    "execution": {
     "iopub.execute_input": "2024-04-28T14:03:00.885659Z",
     "iopub.status.busy": "2024-04-28T14:03:00.884930Z",
     "iopub.status.idle": "2024-04-28T14:03:00.896082Z",
     "shell.execute_reply": "2024-04-28T14:03:00.895419Z"
    },
    "lines_to_next_cell": 1,
    "papermill": {
     "duration": 0.028007,
     "end_time": "2024-04-28T14:03:00.897788",
     "exception": false,
     "start_time": "2024-04-28T14:03:00.869781",
     "status": "completed"
    },
    "tags": []
   },
   "outputs": [],
   "source": [
    "def distinctIsland(arr: list[list[int]], N: int, M: int) :\n",
    "    \"Time: O(M x N), Space: O(M x N)\"\n",
    "\n",
    "    islands: set[tuple[tuple[int, int], ...]] = set()\n",
    "    visited: set[tuple[int, int]] = set()\n",
    "\n",
    "    def BFS(row: int, col: int) -> tuple[tuple[int, int], ...]:\n",
    "        # Time: O(M x N)\n",
    "        queue: collections.deque = collections.deque([(row, col)])\n",
    "        island: list[tuple[int, int]] = []\n",
    "        while queue:\n",
    "            i, j = queue.popleft()\n",
    "            if 0 <= i < N and 0 <= j < M and (i, j) not in visited and arr[i][j] == 1:\n",
    "                visited.add((i, j))\n",
    "                island.append((i - row, j - col))\n",
    "                queue.extend([(i - 1, j), (i, j - 1), (i, j + 1), (i + 1, j)])\n",
    "\n",
    "        return tuple(island)\n",
    "\n",
    "    for i in range(N):\n",
    "        for j in range(M):\n",
    "            if arr[i][j] == 1:\n",
    "                island: tuple[tuple[int, int], ...] = BFS(i, j)\n",
    "                if island:\n",
    "                    islands.add(island)\n",
    "\n",
    "    return len(islands)\n",
    "\n",
    "# Testing the solution\n",
    "assert distinctIsland([[1, 1, 0, 0, 0], [1, 1, 0, 0, 0], [0, 0, 0, 1, 1], [0, 0, 0, 1, 1]], 4, 5) == 1\n",
    "assert distinctIsland([[1, 1, 0, 1, 1], [1, 0, 0, 0, 0], [0, 0, 0, 0, 1], [1, 1, 0, 1, 1]], 4, 5) == 3"
   ]
  },
  {
   "cell_type": "markdown",
   "id": "f49a3367",
   "metadata": {
    "papermill": {
     "duration": 0.013781,
     "end_time": "2024-04-28T14:03:00.925526",
     "exception": false,
     "start_time": "2024-04-28T14:03:00.911745",
     "status": "completed"
    },
    "tags": []
   },
   "source": [
    "Video Link: https://youtu.be/-vu34sct1g8?si=H2DEd5HB-B6oAU4p\n",
    "Bipartite Graph (BFS): https://leetcode.com/problems/is-graph-bipartite/description/"
   ]
  },
  {
   "cell_type": "code",
   "execution_count": 15,
   "id": "8584fbc4",
   "metadata": {
    "execution": {
     "iopub.execute_input": "2024-04-28T14:03:00.954620Z",
     "iopub.status.busy": "2024-04-28T14:03:00.953947Z",
     "iopub.status.idle": "2024-04-28T14:03:00.963749Z",
     "shell.execute_reply": "2024-04-28T14:03:00.963002Z"
    },
    "lines_to_next_cell": 1,
    "papermill": {
     "duration": 0.026365,
     "end_time": "2024-04-28T14:03:00.965563",
     "exception": false,
     "start_time": "2024-04-28T14:03:00.939198",
     "status": "completed"
    },
    "tags": []
   },
   "outputs": [],
   "source": [
    "def isBipartite(graph: list[list[int]]) -> bool:\n",
    "    \"Time: O(N), Space: O(N)\"\n",
    "    visited: dict[int, bool] = dict()\n",
    "    def checkBipartiteBFS(root: int) -> bool:\n",
    "        # https://leetcode.com/problems/is-graph-bipartite/submissions/1238665067\n",
    "        queue: collections.deque = collections.deque([(root, True)])\n",
    "        while queue:\n",
    "            curr, color = queue.popleft()\n",
    "            if curr not in visited:\n",
    "                visited[curr] = color\n",
    "                for next_ in graph[curr]:\n",
    "                    queue.append((next_, not color))\n",
    "            elif color != visited[curr]:\n",
    "                return False\n",
    "        return True\n",
    "\n",
    "    def checkBipartiteDFS(root: int) -> bool:\n",
    "        # https://leetcode.com/problems/is-graph-bipartite/submissions/1238671846/\n",
    "        stack: list[tuple[int, bool]] = [(root, True)]\n",
    "        while stack:\n",
    "            curr, color = stack.pop()\n",
    "            if curr not in visited:\n",
    "                visited[curr] = color\n",
    "                for next_ in graph[curr]:\n",
    "                    stack.append((next_, not color))\n",
    "            elif color != visited[curr]:\n",
    "                return False\n",
    "\n",
    "        return True\n",
    "\n",
    "    for curr in range(len(graph)):\n",
    "        if curr not in visited and not checkBipartiteDFS(curr):\n",
    "            return False\n",
    "\n",
    "    return True\n",
    "\n",
    "# Testing the solution\n",
    "assert isBipartite([[1,2,3],[0,2],[0,1,3],[0,2]]) == False\n",
    "assert isBipartite([[1,3],[0,2],[1,3],[0,2]]) == True"
   ]
  },
  {
   "cell_type": "markdown",
   "id": "b8c8a001",
   "metadata": {
    "papermill": {
     "duration": 0.013685,
     "end_time": "2024-04-28T14:03:00.993250",
     "exception": false,
     "start_time": "2024-04-28T14:03:00.979565",
     "status": "completed"
    },
    "tags": []
   },
   "source": [
    "Detect cycle in directed graph with DFS: https://youtu.be/9twcmtQj4DU?si=2xZsVlk1bdtLbHz5"
   ]
  },
  {
   "cell_type": "code",
   "execution_count": 16,
   "id": "f1cf48b4",
   "metadata": {
    "execution": {
     "iopub.execute_input": "2024-04-28T14:03:01.021769Z",
     "iopub.status.busy": "2024-04-28T14:03:01.021511Z",
     "iopub.status.idle": "2024-04-28T14:03:01.029984Z",
     "shell.execute_reply": "2024-04-28T14:03:01.029228Z"
    },
    "lines_to_next_cell": 1,
    "papermill": {
     "duration": 0.024737,
     "end_time": "2024-04-28T14:03:01.031629",
     "exception": false,
     "start_time": "2024-04-28T14:03:01.006892",
     "status": "completed"
    },
    "tags": []
   },
   "outputs": [],
   "source": [
    "def isCyclicDFS(V: int, E: int, edges: list[tuple[int, int]]) -> bool:\n",
    "    adjl: dict[int, list[int]] = dict()\n",
    "    for n1, n2 in edges:\n",
    "        n1_neighbours = adjl.get(n1, [])\n",
    "        n1_neighbours.append(n2)\n",
    "        adjl[n1] = n1_neighbours\n",
    "\n",
    "    def checkCycle(root: int, paths: set[int] = set()) -> bool:\n",
    "        if root in paths:\n",
    "            return True\n",
    "        elif root in visited:\n",
    "            return False\n",
    "        else:\n",
    "            visited.add(root)\n",
    "            paths.add(root)\n",
    "            for next_ in adjl.get(root, []):\n",
    "                if checkCycle(next_, paths):\n",
    "                    return True\n",
    "            paths.remove(root)\n",
    "            return False\n",
    "\n",
    "    visited: set[int] = set()\n",
    "    for curr in range(V):\n",
    "        if checkCycle(curr):\n",
    "            return True\n",
    "    else:\n",
    "        return False\n",
    "\n",
    "# Testing the solution\n",
    "assert isCyclicDFS(4, 4, [(0,1), (1,2), (2,3), (3,0)]) == True\n",
    "assert isCyclicDFS(3, 3, [(1,0), (1,2), (0,2)]) == False"
   ]
  },
  {
   "cell_type": "markdown",
   "id": "a75c6088",
   "metadata": {
    "papermill": {
     "duration": 0.013733,
     "end_time": "2024-04-28T14:03:01.059151",
     "exception": false,
     "start_time": "2024-04-28T14:03:01.045418",
     "status": "completed"
    },
    "tags": []
   },
   "source": [
    "Eventual Safe states (DFS): https://youtu.be/uRbJ1OF9aYM?si=8J-ujp8LUkpO887c"
   ]
  },
  {
   "cell_type": "code",
   "execution_count": 17,
   "id": "e3bfb6f2",
   "metadata": {
    "execution": {
     "iopub.execute_input": "2024-04-28T14:03:01.088406Z",
     "iopub.status.busy": "2024-04-28T14:03:01.087700Z",
     "iopub.status.idle": "2024-04-28T14:03:01.096625Z",
     "shell.execute_reply": "2024-04-28T14:03:01.095993Z"
    },
    "lines_to_next_cell": 1,
    "papermill": {
     "duration": 0.025395,
     "end_time": "2024-04-28T14:03:01.098327",
     "exception": false,
     "start_time": "2024-04-28T14:03:01.072932",
     "status": "completed"
    },
    "tags": []
   },
   "outputs": [],
   "source": [
    "# https://leetcode.com/problems/find-eventual-safe-states/submissions/1239573858\n",
    "def eventualSafeNodes(V: int, adj: list[list[int]]) -> list[int]:\n",
    "\n",
    "    # Visited - True if unsafe, False otherwise\n",
    "    visited: dict[int, bool] = dict()\n",
    "\n",
    "    def checkCycle(root: int, paths: set[int] = set()) -> bool:\n",
    "        if root in visited:\n",
    "            return visited[root]\n",
    "        elif root in paths:\n",
    "            return True\n",
    "        else:\n",
    "            paths.add(root)\n",
    "            for next_ in adj[root]:\n",
    "                if checkCycle(next_, paths):\n",
    "                    visited[root] = True\n",
    "                    return True\n",
    "\n",
    "            paths.remove(root)\n",
    "            visited[root] = False\n",
    "            return False\n",
    "\n",
    "    result: list[int] = []\n",
    "    for curr in range(V):\n",
    "        if not checkCycle(curr):\n",
    "            result.append(curr)\n",
    "\n",
    "    return result\n",
    "\n",
    "# Testing the solution\n",
    "assert eventualSafeNodes(7, [[1, 2], [2, 3], [5], [0], [5], [], []]) == [2, 4, 5, 6]\n",
    "assert eventualSafeNodes(4, [[1], [2], [0,3], []]) == [3]"
   ]
  },
  {
   "cell_type": "markdown",
   "id": "e2a1e13b",
   "metadata": {
    "papermill": {
     "duration": 0.013698,
     "end_time": "2024-04-28T14:03:01.125968",
     "exception": false,
     "start_time": "2024-04-28T14:03:01.112270",
     "status": "completed"
    },
    "tags": []
   },
   "source": [
    "Topological sorting DFS: https://youtu.be/5lZ0iJMrUMk?si=lSTD3o2QoGGjiwxO"
   ]
  },
  {
   "cell_type": "code",
   "execution_count": 18,
   "id": "806cdb46",
   "metadata": {
    "execution": {
     "iopub.execute_input": "2024-04-28T14:03:01.155336Z",
     "iopub.status.busy": "2024-04-28T14:03:01.154759Z",
     "iopub.status.idle": "2024-04-28T14:03:01.167587Z",
     "shell.execute_reply": "2024-04-28T14:03:01.166849Z"
    },
    "lines_to_next_cell": 1,
    "papermill": {
     "duration": 0.029043,
     "end_time": "2024-04-28T14:03:01.169186",
     "exception": false,
     "start_time": "2024-04-28T14:03:01.140143",
     "status": "completed"
    },
    "tags": []
   },
   "outputs": [
    {
     "data": {
      "text/plain": [
       "[0, 3, 1, 2, 4]"
      ]
     },
     "execution_count": 18,
     "metadata": {},
     "output_type": "execute_result"
    }
   ],
   "source": [
    "def topologicalSortBetter(adj: dict[int, list[int]], V: int, E: int):\n",
    "    \"Time: O((V + E) x log (V + E)), Space: O(N)\"\n",
    "    def calcWeights(root: int) -> int:\n",
    "        if root in weights:\n",
    "            return weights[root]\n",
    "        else:\n",
    "            weight = 1\n",
    "            for next_ in adj.get(root, []):\n",
    "                weight += calcWeights(next_)\n",
    "\n",
    "            weights[root] = weight\n",
    "            return weight\n",
    "\n",
    "    weights: dict[int, int] = dict()\n",
    "    result: list[int] = []\n",
    "    for curr in range(V):\n",
    "        calcWeights(curr)\n",
    "        result.append(curr)\n",
    "\n",
    "    result.sort(key=lambda x: weights[x], reverse=True)\n",
    "    return result\n",
    "\n",
    "# Testing the solution\n",
    "topologicalSortBetter({0: [2,4], 1: [2], 3: [1]}, 5, 4)"
   ]
  },
  {
   "cell_type": "code",
   "execution_count": 19,
   "id": "8365f0a8",
   "metadata": {
    "execution": {
     "iopub.execute_input": "2024-04-28T14:03:01.198251Z",
     "iopub.status.busy": "2024-04-28T14:03:01.197956Z",
     "iopub.status.idle": "2024-04-28T14:03:01.207169Z",
     "shell.execute_reply": "2024-04-28T14:03:01.206369Z"
    },
    "lines_to_next_cell": 1,
    "papermill": {
     "duration": 0.02569,
     "end_time": "2024-04-28T14:03:01.208944",
     "exception": false,
     "start_time": "2024-04-28T14:03:01.183254",
     "status": "completed"
    },
    "tags": []
   },
   "outputs": [
    {
     "data": {
      "text/plain": [
       "[5, 4, 2, 3, 1, 0]"
      ]
     },
     "execution_count": 19,
     "metadata": {},
     "output_type": "execute_result"
    }
   ],
   "source": [
    "# Much more brilliant and clean approach from Striver\n",
    "def topologicalSortDFS(adj: dict[int, list[int]], V: int, E: int):\n",
    "    \"Time: O(V + E), Space: O(N)\"\n",
    "    def backtrack(root: int):\n",
    "        if root in visited:\n",
    "            return\n",
    "        else:\n",
    "            visited.add(root)\n",
    "            for next_ in adj.get(root, []):\n",
    "                backtrack(next_)\n",
    "            stack.append(root)\n",
    "\n",
    "    visited: set[int] = set()\n",
    "    stack: list[int] = []\n",
    "    for curr in range(V):\n",
    "        backtrack(curr)\n",
    "\n",
    "    stack.reverse()\n",
    "    return stack\n",
    "\n",
    "# Testing the solution\n",
    "topologicalSortDFS({0: [], 1: [], 2: [3], 3: [1], 4: [0,1], 5: [0,2]}, 6, 6)"
   ]
  },
  {
   "cell_type": "markdown",
   "id": "166e867d",
   "metadata": {
    "papermill": {
     "duration": 0.014171,
     "end_time": "2024-04-28T14:03:01.237653",
     "exception": false,
     "start_time": "2024-04-28T14:03:01.223482",
     "status": "completed"
    },
    "tags": []
   },
   "source": [
    "Topological Sorting with BFS (Kahn's Algorithm): https://youtu.be/73sneFXuTEg?si=TeG_vMqnXLz2NR6M"
   ]
  },
  {
   "cell_type": "code",
   "execution_count": 20,
   "id": "9aca2f0e",
   "metadata": {
    "execution": {
     "iopub.execute_input": "2024-04-28T14:03:01.267677Z",
     "iopub.status.busy": "2024-04-28T14:03:01.266992Z",
     "iopub.status.idle": "2024-04-28T14:03:01.278069Z",
     "shell.execute_reply": "2024-04-28T14:03:01.277317Z"
    },
    "lines_to_next_cell": 1,
    "papermill": {
     "duration": 0.028025,
     "end_time": "2024-04-28T14:03:01.279702",
     "exception": false,
     "start_time": "2024-04-28T14:03:01.251677",
     "status": "completed"
    },
    "tags": []
   },
   "outputs": [
    {
     "data": {
      "text/plain": [
       "[4, 5, 0, 2, 3, 1]"
      ]
     },
     "execution_count": 20,
     "metadata": {},
     "output_type": "execute_result"
    }
   ],
   "source": [
    "def topologicalSortBFS(adj: dict[int, list[int]], V: int, E: int):\n",
    "    \"\"\"\n",
    "    Topo sort using BFS - Kahn's Algo.\n",
    "\n",
    "    1. Figure out all nodes with indegree 0 and insert them into a queue.\n",
    "    2. Iterate across the elements of the queue and on each step, we decrease indegree of all adjancent nodes.\n",
    "    3. Once iterated across all neighbouring nodes we insert the node into our linear ordering.\n",
    "\n",
    "    Time: O(V + E), Space: O(N)\n",
    "    \"\"\"\n",
    "\n",
    "    # Compute the indegree of all nodes\n",
    "    indegree: dict[int, int] = dict()\n",
    "    for n1 in range(V):\n",
    "        for n2 in adj[n1]:\n",
    "            indegree[n2] = indegree.get(n2, 0) + 1\n",
    "\n",
    "    # All nodes with indegree 0 are added to our queue\n",
    "    queue: collections.deque = collections.deque()\n",
    "    for n1 in range(V):\n",
    "        if n1 not in indegree:\n",
    "            indegree[n1] = 0\n",
    "            queue.append(n1)\n",
    "\n",
    "    # BFS, popout nodes with 0 indegrees.\n",
    "    # Iterate through neighbours and decrease indegree by 1.\n",
    "    # If indegree becomes 0, append to our queue.\n",
    "    result: list[int] = []\n",
    "    while queue:\n",
    "        n1 = queue.popleft()\n",
    "        for n2 in adj.get(n1, []):\n",
    "            indegree[n2] = indegree[n2] - 1\n",
    "            if indegree[n2] == 0:\n",
    "                queue.append(n2)\n",
    "        result.append(n1)\n",
    "\n",
    "    return result\n",
    "\n",
    "# Testing the solution\n",
    "topologicalSortBFS({0: [], 1: [], 2: [3], 3: [1], 4: [0,1], 5: [0,2]}, 6, 6)"
   ]
  },
  {
   "cell_type": "markdown",
   "id": "318e0702",
   "metadata": {
    "papermill": {
     "duration": 0.015104,
     "end_time": "2024-04-28T14:03:01.309314",
     "exception": false,
     "start_time": "2024-04-28T14:03:01.294210",
     "status": "completed"
    },
    "tags": []
   },
   "source": [
    "Video Link: https://youtu.be/WAOfKpxYHR8?si=KdXRvzRuinvS50gx"
   ]
  },
  {
   "cell_type": "markdown",
   "id": "bd6a415c",
   "metadata": {
    "papermill": {
     "duration": 0.014588,
     "end_time": "2024-04-28T14:03:01.339466",
     "exception": false,
     "start_time": "2024-04-28T14:03:01.324878",
     "status": "completed"
    },
    "tags": []
   },
   "source": [
    "Course schedule - 1: https://leetcode.com/problems/course-schedule/submissions/1240848705/"
   ]
  },
  {
   "cell_type": "code",
   "execution_count": 21,
   "id": "d2aca589",
   "metadata": {
    "execution": {
     "iopub.execute_input": "2024-04-28T14:03:01.369928Z",
     "iopub.status.busy": "2024-04-28T14:03:01.369249Z",
     "iopub.status.idle": "2024-04-28T14:03:01.378094Z",
     "shell.execute_reply": "2024-04-28T14:03:01.377339Z"
    },
    "lines_to_next_cell": 1,
    "papermill": {
     "duration": 0.025962,
     "end_time": "2024-04-28T14:03:01.379695",
     "exception": false,
     "start_time": "2024-04-28T14:03:01.353733",
     "status": "completed"
    },
    "tags": []
   },
   "outputs": [],
   "source": [
    "def canFinish(numCourses: int, prerequisites: list[list[int]]) -> bool:\n",
    "    \"\"\"\n",
    "    Run Kahn's algorithm and check the topological sort output. If length of op < numCourses, we have a cycle.\n",
    "\n",
    "    Time: O(V + E), Space: O(V)\n",
    "    \"\"\"\n",
    "\n",
    "    # Create an adjacency list\n",
    "    adj: dict[int, list[int]] = dict()\n",
    "    for n1, n2 in prerequisites:\n",
    "        n1_neighbours = adj.get(n1, [])\n",
    "        n1_neighbours.append(n2)\n",
    "        adj[n1] = n1_neighbours\n",
    "\n",
    "    # Compute indegree for all nodes\n",
    "    indegree: dict[int, int] = dict()\n",
    "    for edges in adj.values():\n",
    "        for n1 in edges:\n",
    "            indegree[n1] = indegree.get(n1, 0) + 1\n",
    "\n",
    "    # Find out nodes with 0 indegree (terminal nodes)\n",
    "    queue: collections.deque = collections.deque()\n",
    "    for n1 in range(numCourses):\n",
    "        if n1 not in indegree:\n",
    "            indegree[n1] = 0\n",
    "            queue.append(n1)\n",
    "\n",
    "    # BFS on queue, remove indegree to all neighbours of curr node. If neighbour indegree becomes 0, append to queue.\n",
    "    while queue:\n",
    "        curr = queue.popleft()\n",
    "        for next_ in adj.get(curr, []):\n",
    "            indegree[next_] -= 1\n",
    "            if indegree[next_] == 0:\n",
    "                queue.append(next_)\n",
    "\n",
    "        numCourses -= 1\n",
    "\n",
    "    return numCourses == 0\n",
    "\n",
    "# Testing the solution\n",
    "assert canFinish(2, [[1,0]]) == True\n",
    "assert canFinish(2, [[1,0],[0,1]]) == False"
   ]
  },
  {
   "cell_type": "markdown",
   "id": "f8a6e7b3",
   "metadata": {
    "papermill": {
     "duration": 0.014291,
     "end_time": "2024-04-28T14:03:01.408270",
     "exception": false,
     "start_time": "2024-04-28T14:03:01.393979",
     "status": "completed"
    },
    "tags": []
   },
   "source": [
    "Course schedule - 2: https://leetcode.com/problems/course-schedule-ii/submissions/1240905168/"
   ]
  },
  {
   "cell_type": "code",
   "execution_count": 22,
   "id": "04331e57",
   "metadata": {
    "execution": {
     "iopub.execute_input": "2024-04-28T14:03:01.438625Z",
     "iopub.status.busy": "2024-04-28T14:03:01.437909Z",
     "iopub.status.idle": "2024-04-28T14:03:01.448858Z",
     "shell.execute_reply": "2024-04-28T14:03:01.448104Z"
    },
    "lines_to_next_cell": 1,
    "papermill": {
     "duration": 0.028186,
     "end_time": "2024-04-28T14:03:01.450660",
     "exception": false,
     "start_time": "2024-04-28T14:03:01.422474",
     "status": "completed"
    },
    "tags": []
   },
   "outputs": [],
   "source": [
    "def findOrder(numCourses: int, prerequisites: list[tuple[int, int]]) -> list[int]:\n",
    "    # Create an adjacency list\n",
    "    adj: dict[int, list[int]] = dict()\n",
    "    for n1, n2 in prerequisites:\n",
    "        n1_neighbours = adj.get(n1, [])\n",
    "        n1_neighbours.append(n2)\n",
    "        adj[n1] = n1_neighbours\n",
    "\n",
    "    # Compute indegree for all nodes\n",
    "    indegree: dict[int, int] = dict()\n",
    "    for edges in adj.values():\n",
    "        for n1 in edges:\n",
    "            indegree[n1] = indegree.get(n1, 0) + 1\n",
    "\n",
    "    # Find out nodes with 0 indegree (terminal nodes)\n",
    "    queue: collections.deque = collections.deque()\n",
    "    for n1 in range(numCourses):\n",
    "        if n1 not in indegree:\n",
    "            indegree[n1] = 0\n",
    "            queue.append(n1)\n",
    "\n",
    "    # Store the ordering into a list\n",
    "    result: list[int] = []\n",
    "    while queue:\n",
    "        n1 = queue.popleft()\n",
    "        for n2 in adj.get(n1, []):\n",
    "            indegree[n2] -= 1\n",
    "            if indegree[n2] == 0:\n",
    "                queue.append(n2)\n",
    "        result.append(n1)\n",
    "\n",
    "    result.reverse()\n",
    "    return result if len(result) == numCourses else []\n",
    "\n",
    "# Testing the solution\n",
    "for inp in [\n",
    "        [(1,0),(2,0),(3,1),(3,2)], [(1,0)], [(0,1),(1,2),(2,0)]\n",
    "    ]:\n",
    "        op = {n: i for i, n in enumerate(findOrder(4, inp))}\n",
    "        if not op:\n",
    "            V, E = max(map(max, inp)), len(inp)\n",
    "            assert isCyclicDFS(V, E, inp)\n",
    "        else:\n",
    "            for n1, n2 in inp:\n",
    "                assert op[n1] > op[n2]"
   ]
  },
  {
   "cell_type": "markdown",
   "id": "7cc4aaeb",
   "metadata": {
    "papermill": {
     "duration": 0.014452,
     "end_time": "2024-04-28T14:03:01.479504",
     "exception": false,
     "start_time": "2024-04-28T14:03:01.465052",
     "status": "completed"
    },
    "tags": []
   },
   "source": [
    "Video link: https://youtu.be/2gtg3VsDGyc?si=l4U9ljeQk6vBufj-\n",
    "Eventual Safe States with BFS"
   ]
  },
  {
   "cell_type": "code",
   "execution_count": 23,
   "id": "f5f3c530",
   "metadata": {
    "execution": {
     "iopub.execute_input": "2024-04-28T14:03:01.510801Z",
     "iopub.status.busy": "2024-04-28T14:03:01.510141Z",
     "iopub.status.idle": "2024-04-28T14:03:01.520512Z",
     "shell.execute_reply": "2024-04-28T14:03:01.519832Z"
    },
    "lines_to_next_cell": 1,
    "papermill": {
     "duration": 0.028319,
     "end_time": "2024-04-28T14:03:01.522188",
     "exception": false,
     "start_time": "2024-04-28T14:03:01.493869",
     "status": "completed"
    },
    "tags": []
   },
   "outputs": [],
   "source": [
    "# https://leetcode.com/problems/find-eventual-safe-states/submissions/1241269468\n",
    "def eventualSafeNodesBFS(V: int, graph: list[list[int]]) -> list[int]:\n",
    "    \"\"\"\n",
    "    1. Reverse all edges and perform a topo sort.\n",
    "    2. All unsafe elements are auto eliminated.\n",
    "\n",
    "    The way Kahn's algorithm works is to BFS across the nodes with indegree 0 and eliminating the edges one by one.\n",
    "    By swapping the edges we get terminal nodes to have an indegree of 0 (outdegree was 0 initially).\n",
    "\n",
    "    We traverse until we cover all nodes that are connected to terminal nodes. Nodes that are not connected to terminal nodes are unsafe.\n",
    "\n",
    "    Time: O(V log V), Space: O(V + E)\n",
    "    \"\"\"\n",
    "\n",
    "    # Swap the edges, compute the indegree\n",
    "    indegree: dict[int, int] = dict()\n",
    "    adj: dict[int, list[int]] = dict()\n",
    "    for n1 in range(V):\n",
    "        for n2 in graph[n1]:\n",
    "            n2_neighbours = adj.get(n2, [])\n",
    "            n2_neighbours.append(n1)\n",
    "            adj[n2] = n2_neighbours\n",
    "            indegree[n1] = indegree.get(n1, 0) + 1\n",
    "\n",
    "    # Store all nodes with 0 indegree to our queue\n",
    "    queue: collections.deque = collections.deque()\n",
    "    for n1 in range(V):\n",
    "        if n1 not in indegree:\n",
    "            indegree[n1] = 0\n",
    "            queue.append(n1)\n",
    "\n",
    "    # Do a BFS traversal\n",
    "    result: list[int] = []\n",
    "    while queue:\n",
    "        n1 = queue.popleft()\n",
    "        result.append(n1)\n",
    "        for n2 in adj.get(n1, []):\n",
    "            indegree[n2] -= 1\n",
    "            if indegree[n2] == 0:\n",
    "                queue.append(n2)\n",
    "\n",
    "    return sorted(result)\n",
    "\n",
    "# Testing the solution\n",
    "assert eventualSafeNodesBFS(7, [[1, 2], [2, 3], [5], [0], [5], [], []]) == [2, 4, 5, 6]\n",
    "assert eventualSafeNodesBFS(4, [[1], [2], [0,3], []]) == [3]"
   ]
  },
  {
   "cell_type": "markdown",
   "id": "08156d76",
   "metadata": {
    "papermill": {
     "duration": 0.014371,
     "end_time": "2024-04-28T14:03:01.551109",
     "exception": false,
     "start_time": "2024-04-28T14:03:01.536738",
     "status": "completed"
    },
    "tags": []
   },
   "source": [
    "Video Link: https://youtu.be/U3N_je7tWAs?si=ZkvYEfyaDOVehnEa\n",
    "Alien Dictionary"
   ]
  },
  {
   "cell_type": "code",
   "execution_count": 24,
   "id": "42166b86",
   "metadata": {
    "execution": {
     "iopub.execute_input": "2024-04-28T14:03:01.581651Z",
     "iopub.status.busy": "2024-04-28T14:03:01.581333Z",
     "iopub.status.idle": "2024-04-28T14:03:01.594275Z",
     "shell.execute_reply": "2024-04-28T14:03:01.593442Z"
    },
    "lines_to_next_cell": 1,
    "papermill": {
     "duration": 0.030617,
     "end_time": "2024-04-28T14:03:01.596131",
     "exception": false,
     "start_time": "2024-04-28T14:03:01.565514",
     "status": "completed"
    },
    "tags": []
   },
   "outputs": [
    {
     "name": "stdout",
     "output_type": "stream",
     "text": [
      "['b', 'd', 'a', 'c']\n",
      "['c', 'a', 'b']\n"
     ]
    }
   ],
   "source": [
    "def alienDictionaryOrder(alien_dict: list[str], N: int, K: int) -> list[str]:\n",
    "    \"\"\"\n",
    "    Define a function that given two strings inorder as they appear in dictionary, can calculate relative ordering of characters in it.\n",
    "    Run the above function across all words in the dictionary (all possible pairs) to get the edges of the graph.\n",
    "\n",
    "    Once the relative ordering is captured, perform a topo sort.\n",
    "\n",
    "    Follow up: What if the dictionary is incorrect?\n",
    "    Check 1: String of larger length say: \"abc\" appears before string of smaller length: \"ab\" (char are matching until min length)\n",
    "    Check 2: If there is a cycle: [\"abc\", \"bcd\", \"ade\"] (when inserting an edge to adj, we can check if opp edge doesn't exist: a -> b exists, then b -> a should not exist)\n",
    "    \"\"\"\n",
    "\n",
    "    adj: dict[str, set[str]] = dict()\n",
    "    nodes: list[str] = [chr(i + ord('a')) for i in range(K)]\n",
    "    def computeOrdering(str1: str, str2: str):\n",
    "        N1, N2 = len(str1), len(str2)\n",
    "        i = 0\n",
    "        while i < N1 and i < N2:\n",
    "            n1, n2 = str1[i], str2[i]\n",
    "            i += 1\n",
    "            if n1 != n2:\n",
    "                n1_neighbours = adj.get(n1, set())\n",
    "                n1_neighbours.add(n2)\n",
    "                adj[n1] = n1_neighbours\n",
    "                return\n",
    "\n",
    "    # Compute ordering for all pairs\n",
    "    for i in range(N - 1):\n",
    "        computeOrdering(alien_dict[i], alien_dict[i + 1])\n",
    "\n",
    "    # Compute the indegree\n",
    "    indegree: dict[str, int] = dict()\n",
    "    for k in adj:\n",
    "        for v in adj[k]:\n",
    "            indegree[v] = indegree.get(v, 0) + 1\n",
    "\n",
    "    # Store all nodes with 0 indegree to queue\n",
    "    queue: collections.deque = collections.deque()\n",
    "    for curr in nodes:\n",
    "        if curr not in indegree:\n",
    "            indegree[curr] = 0\n",
    "            queue.append(curr)\n",
    "\n",
    "    result: list[str] = []\n",
    "    while queue:\n",
    "        curr = queue.popleft()\n",
    "        result.append(curr)\n",
    "        for next_ in adj.get(curr, []):\n",
    "            indegree[next_] -= 1\n",
    "            if indegree[next_] == 0:\n",
    "                queue.append(next_)\n",
    "\n",
    "    return result\n",
    "\n",
    "# Testing the solution\n",
    "print(alienDictionaryOrder([\"baa\",\"abcd\",\"abca\",\"cab\",\"cad\"], 5, 4))\n",
    "print(alienDictionaryOrder([\"caa\",\"aaa\",\"aab\"], 3, 3))"
   ]
  },
  {
   "cell_type": "markdown",
   "id": "ddb547c5",
   "metadata": {
    "papermill": {
     "duration": 0.014399,
     "end_time": "2024-04-28T14:03:01.625227",
     "exception": false,
     "start_time": "2024-04-28T14:03:01.610828",
     "status": "completed"
    },
    "tags": []
   },
   "source": [
    "Video Link: https://youtu.be/ZUFQfFaU-8U?si=SRwWuuRJN53CMn_w\n",
    "Shortest path in DAG (topological sorting)"
   ]
  },
  {
   "cell_type": "code",
   "execution_count": 25,
   "id": "29f9d887",
   "metadata": {
    "execution": {
     "iopub.execute_input": "2024-04-28T14:03:01.659584Z",
     "iopub.status.busy": "2024-04-28T14:03:01.658923Z",
     "iopub.status.idle": "2024-04-28T14:03:01.671654Z",
     "shell.execute_reply": "2024-04-28T14:03:01.670957Z"
    },
    "lines_to_next_cell": 1,
    "papermill": {
     "duration": 0.032093,
     "end_time": "2024-04-28T14:03:01.673418",
     "exception": false,
     "start_time": "2024-04-28T14:03:01.641325",
     "status": "completed"
    },
    "tags": []
   },
   "outputs": [],
   "source": [
    "def shortestPathInDAG(N: int, edges: list[list[int]], src: int) -> list[int]:\n",
    "    \"\"\"\n",
    "    1. Do a topo sort: DFS (stack).\n",
    "    2. Take nodes out of the stack and relax the edges.\n",
    "\n",
    "    Topo sorted stack works before we start with the guy that doesn't have any nodes before it.\n",
    "    As we progress into the stack, we would have travelled sequentially and nodes that comes before have already been computed.\n",
    "    \"\"\"\n",
    "\n",
    "    # Create the adjacency list out of the edges provided\n",
    "    adj: dict[int, list[tuple[int, int]]] = dict()\n",
    "    for n1, n2, w in edges:\n",
    "        n1_neighbours = adj.get(n1, [])\n",
    "        n1_neighbours.append((n2, w))\n",
    "        adj[n1] = n1_neighbours\n",
    "\n",
    "    # Perform a Topo sort and store result to stack\n",
    "    def topoDFS(root: int):\n",
    "        if root not in visited:\n",
    "            visited.add(root)\n",
    "            for next_, _ in adj.get(root, []):\n",
    "                topoDFS(next_)\n",
    "            stack.append(root)\n",
    "\n",
    "    stack: list[int] = []\n",
    "    visited: set[int] = set()\n",
    "    for curr in range(N):\n",
    "        topoDFS(curr)\n",
    "\n",
    "    # No appending to stack, simply continue popping and relax the edges\n",
    "    result: list[float] = [math.inf for _ in range(N)]\n",
    "    result[src] = 0\n",
    "    while stack:\n",
    "        curr = stack.pop()\n",
    "        for next_, next_dist in adj.get(curr, []):\n",
    "            result[next_] = min(result[curr] + next_dist, result[next_])\n",
    "\n",
    "    for i in range(N):\n",
    "        result[i] = result[i] if math.isfinite(result[i]) else -1\n",
    "\n",
    "    return list(map(int, result))\n",
    "\n",
    "# Testing the solution\n",
    "assert shortestPathInDAG(3, [[0,1,2], [1,2,3], [0,2,6]], 0) == [0, 2, 5]\n",
    "assert shortestPathInDAG(3, [[2,0,4],[0,1,3],[2,1,2]], 0) == [0, 3, -1]"
   ]
  },
  {
   "cell_type": "markdown",
   "id": "59089a00",
   "metadata": {
    "papermill": {
     "duration": 0.014306,
     "end_time": "2024-04-28T14:03:01.702581",
     "exception": false,
     "start_time": "2024-04-28T14:03:01.688275",
     "status": "completed"
    },
    "tags": []
   },
   "source": [
    "Shortest path in undirected graph with unit weights"
   ]
  },
  {
   "cell_type": "code",
   "execution_count": 26,
   "id": "685cf4ef",
   "metadata": {
    "execution": {
     "iopub.execute_input": "2024-04-28T14:03:01.732378Z",
     "iopub.status.busy": "2024-04-28T14:03:01.732047Z",
     "iopub.status.idle": "2024-04-28T14:03:01.743796Z",
     "shell.execute_reply": "2024-04-28T14:03:01.743141Z"
    },
    "lines_to_next_cell": 1,
    "papermill": {
     "duration": 0.028594,
     "end_time": "2024-04-28T14:03:01.745416",
     "exception": false,
     "start_time": "2024-04-28T14:03:01.716822",
     "status": "completed"
    },
    "tags": []
   },
   "outputs": [],
   "source": [
    "# Video link: https://youtu.be/C4gxoTaI71U?si=NQRmSQ7skeZnz9V0\n",
    "def shortestPath(edges: list[list[int]], N: int, M: int, src: int) -> list[int]:\n",
    "    # Create an adjacency list\n",
    "    adj: dict[int, list[int]] = dict()\n",
    "    for n1, n2 in edges:\n",
    "        n1_neighbours, n2_neighbours = adj.get(n1, []), adj.get(n2, [])\n",
    "        n1_neighbours.append(n2)\n",
    "        n2_neighbours.append(n1)\n",
    "        adj[n1], adj[n2] = n1_neighbours, n2_neighbours\n",
    "\n",
    "    # Perform a DFS traversal starting from source\n",
    "    def DFS(root: int, dist: int):\n",
    "        if distances[root] == -1 or distances[root] > dist:\n",
    "            distances[root] = dist\n",
    "            for next_ in adj.get(root, []):\n",
    "                DFS(next_, dist + 1)\n",
    "\n",
    "    # Perform BFS, only visit nodes not already visited, that way the shortest distance would already be saved.\n",
    "    # Since all edges are unit dist, we are guaranteed not to get a shorter distance.\n",
    "    def BFS(root: int):\n",
    "        queue: collections.deque = collections.deque([root])\n",
    "        distances[root] = 0\n",
    "        while queue:\n",
    "            curr = queue.popleft()\n",
    "            for next_ in adj.get(curr, []):\n",
    "                if distances[next_] == -1:\n",
    "                    queue.append(next_)\n",
    "                    distances[next_] = distances[curr] + 1\n",
    "\n",
    "    distances: list[int] = [-1 for _ in range(N)]\n",
    "    # DFS(src, 0)\n",
    "    BFS(src)\n",
    "    return distances\n",
    "\n",
    "# Testing the solution\n",
    "assert shortestPath([[0,1],[0,3],[3,4],[4,5],[5,6],[1,2],[2,6],[6,7],[7,8],[6,8]], 9, 10, 0) == [0,1,2,1,2,3,3,4,4]\n",
    "assert shortestPath([[0,0],[1,1],[1,3],[3,0]], 4, 4, 3) == [1,1,-1,0]"
   ]
  },
  {
   "cell_type": "markdown",
   "id": "0dee3c9a",
   "metadata": {
    "papermill": {
     "duration": 0.014182,
     "end_time": "2024-04-28T14:03:01.773784",
     "exception": false,
     "start_time": "2024-04-28T14:03:01.759602",
     "status": "completed"
    },
    "tags": []
   },
   "source": [
    "Word Ladder - 1: https://leetcode.com/problems/word-ladder/submissions/1242529557\n",
    "Video Link: https://youtu.be/tRPda0rcf8E?si=IvDpS_6OSFIa-iAY"
   ]
  },
  {
   "cell_type": "code",
   "execution_count": 27,
   "id": "ef9ed676",
   "metadata": {
    "execution": {
     "iopub.execute_input": "2024-04-28T14:03:01.803667Z",
     "iopub.status.busy": "2024-04-28T14:03:01.802967Z",
     "iopub.status.idle": "2024-04-28T14:03:01.811530Z",
     "shell.execute_reply": "2024-04-28T14:03:01.810923Z"
    },
    "lines_to_next_cell": 1,
    "papermill": {
     "duration": 0.025203,
     "end_time": "2024-04-28T14:03:01.813169",
     "exception": false,
     "start_time": "2024-04-28T14:03:01.787966",
     "status": "completed"
    },
    "tags": []
   },
   "outputs": [],
   "source": [
    "def ladderLength(beginWord: str, endWord: str, wordList: list[str]) -> int:\n",
    "    \"\"\"Time: O(N x len(word) * 26), Space: O(len(word))\"\"\"\n",
    "\n",
    "    # Compute length of all strings\n",
    "    N: int = len(beginWord)\n",
    "\n",
    "    # Create a hashmap for quick lookups\n",
    "    wordMap: dict[str, int] = {word: 0 for word in wordList}\n",
    "    wordMap[beginWord] = 1\n",
    "\n",
    "    # BFS to find out the sequence length of transformation\n",
    "    queue: collections.deque = collections.deque([(beginWord, 1)])\n",
    "    while queue:\n",
    "        curr, dist = queue.popleft()\n",
    "\n",
    "        # Generate all possible transformations (1 char changes)\n",
    "        for i in range(N):\n",
    "            for j in range(ord('a'), ord('z') + 1):\n",
    "                next_ = curr[:i] + chr(j) + curr[i + 1:]\n",
    "                if next_ in wordMap and wordMap[next_] == 0:\n",
    "                    wordMap[next_] = dist + 1\n",
    "                    queue.append((next_, dist + 1))\n",
    "\n",
    "    # endWord may or may not exist, return 0 if not found\n",
    "    return wordMap.get(endWord, 0)\n",
    "\n",
    "# Testing the solution\n",
    "assert ladderLength(\"hit\", \"cog\", [\"hot\",\"dot\",\"dog\",\"lot\",\"log\",\"cog\"]) == 5\n",
    "assert ladderLength(\"hit\", \"cog\", [\"hot\",\"dot\",\"dog\",\"lot\",\"log\"]) == 0"
   ]
  },
  {
   "cell_type": "markdown",
   "id": "d0da149f",
   "metadata": {
    "papermill": {
     "duration": 0.014342,
     "end_time": "2024-04-28T14:03:01.841998",
     "exception": false,
     "start_time": "2024-04-28T14:03:01.827656",
     "status": "completed"
    },
    "tags": []
   },
   "source": [
    "Video link: https://youtu.be/DREutrv2XD0?si=SbXR_WrwV0yPkM3t\n",
    "Word Ladder - 2: https://leetcode.com/problems/word-ladder-ii/description/"
   ]
  },
  {
   "cell_type": "code",
   "execution_count": 28,
   "id": "8c81ef46",
   "metadata": {
    "execution": {
     "iopub.execute_input": "2024-04-28T14:03:01.872112Z",
     "iopub.status.busy": "2024-04-28T14:03:01.871470Z",
     "iopub.status.idle": "2024-04-28T14:03:01.883351Z",
     "shell.execute_reply": "2024-04-28T14:03:01.882730Z"
    },
    "lines_to_next_cell": 1,
    "papermill": {
     "duration": 0.028621,
     "end_time": "2024-04-28T14:03:01.884893",
     "exception": false,
     "start_time": "2024-04-28T14:03:01.856272",
     "status": "completed"
    },
    "tags": []
   },
   "outputs": [],
   "source": [
    "# TLE :(\n",
    "def findLaddersBetter(beginWord: str, endWord: str, wordList: list[str]) -> list[list[str]]:\n",
    "    # Compute the length of words\n",
    "    N = len(beginWord)\n",
    "\n",
    "    # Convert list to set for constant lookup times\n",
    "    wordSet: set[str] = set(wordList)\n",
    "\n",
    "    # Store the results to a list\n",
    "    results: list[list[str]] = []\n",
    "\n",
    "    # Do a DFS traversal, we only remove elements with wordSet of completion of a level\n",
    "    queue: list[list[str]] = [[beginWord]]\n",
    "    while queue and wordSet:\n",
    "        next_queue: list[list[str]] = []\n",
    "        to_remove: set[str] = set()\n",
    "        for path in queue:\n",
    "            curr = path[-1]\n",
    "            for i in range(N):\n",
    "                for j in range(ord('a'), ord('z') + 1):\n",
    "                    next_ = curr[:i] + chr(j) + curr[i + 1:]\n",
    "                    if next_ in wordSet:\n",
    "                        path.append(next_)\n",
    "                        path_ = list(path)\n",
    "                        next_queue.append(path_)\n",
    "                        to_remove.add(next_)\n",
    "                        if next_ == endWord:\n",
    "                            results.append(path_)\n",
    "                        path.pop()\n",
    "\n",
    "        for next_ in to_remove:\n",
    "            wordSet.remove(next_)\n",
    "        queue = next_queue\n",
    "\n",
    "    return sorted(results)\n",
    "\n",
    "# Testing the solution\n",
    "assert findLaddersBetter(\"hit\", \"cog\", [\"hot\",\"dot\",\"dog\",\"lot\",\"log\",\"cog\"]) == [['hit', 'hot', 'dot', 'dog', 'cog'], ['hit', 'hot', 'lot', 'log', 'cog']]\n",
    "assert findLaddersBetter(\"hit\", \"cog\", [\"hot\",\"dot\",\"dog\",\"lot\",\"log\"]) == []\n",
    "assert findLaddersBetter(\"a\", \"c\", [\"a\", \"b\", \"c\"]) == [[\"a\", \"c\"]]\n",
    "assert findLaddersBetter(\"red\", \"tax\", [\"ted\",\"tex\",\"red\",\"tax\",\"tad\",\"den\",\"rex\",\"pee\"]) == [['red', 'rex', 'tex', 'tax'],['red', 'ted', 'tad', 'tax'],['red', 'ted', 'tex', 'tax']]"
   ]
  },
  {
   "cell_type": "code",
   "execution_count": 29,
   "id": "184290e3",
   "metadata": {
    "execution": {
     "iopub.execute_input": "2024-04-28T14:03:01.915184Z",
     "iopub.status.busy": "2024-04-28T14:03:01.914648Z",
     "iopub.status.idle": "2024-04-28T14:03:01.929297Z",
     "shell.execute_reply": "2024-04-28T14:03:01.928652Z"
    },
    "lines_to_next_cell": 1,
    "papermill": {
     "duration": 0.031531,
     "end_time": "2024-04-28T14:03:01.930864",
     "exception": false,
     "start_time": "2024-04-28T14:03:01.899333",
     "status": "completed"
    },
    "tags": []
   },
   "outputs": [],
   "source": [
    "# Striver Leetcode optimized: https://leetcode.com/problems/word-ladder-ii/submissions/1242920059\n",
    "def findLadders(beginWord: str, endWord: str, wordList: list[str]) -> list[list[str]]:\n",
    "    \"\"\"\n",
    "    Video link: https://youtu.be/AD4SFl7tu7I?si=koBVo4hgse94Ruvn\n",
    "\n",
    "    Step 1: BFS and compute the shortest distance to words.\n",
    "    Step 2: Backtrack from backwards and only traverse to paths that are curr level - 1.\n",
    "\n",
    "    This works better because we are starting backwards and thus the exploration of paths would be minimal.\n",
    "    Further more we only take up paths which are one level below not more not less.\n",
    "    \"\"\"\n",
    "\n",
    "    N = len(beginWord)\n",
    "\n",
    "    # Store the shortest distances to reach word\n",
    "    distances: dict[str, float] = {word: math.inf for word in wordList}\n",
    "    distances[beginWord] = 0\n",
    "\n",
    "    # BFS traversal\n",
    "    queue: collections.deque = collections.deque([beginWord])\n",
    "    while queue:\n",
    "        curr = queue.popleft()\n",
    "        for i in range(N):\n",
    "            for j in range(ord('a'), ord('z') + 1):\n",
    "                next_ = curr[:i] + chr(j) + curr[i + 1:]\n",
    "                if next_ in distances and distances[curr] + 1 < distances[next_]:\n",
    "                    distances[next_] = distances[curr] + 1\n",
    "                    queue.append(next_)\n",
    "\n",
    "    # Backtrack and find the shortest paths with DFS\n",
    "    results: list[list[str]] = []\n",
    "    def DFS(root: str, paths: list[str]):\n",
    "        if root not in distances or math.isinf(distances[root]):\n",
    "            return\n",
    "        elif root == beginWord:\n",
    "            results.append(paths)\n",
    "            return\n",
    "        else:\n",
    "            for i in range(N):\n",
    "                for j in range(ord('a'), ord('z') + 1):\n",
    "                    next_ = root[:i] + chr(j) + root[i + 1:]\n",
    "                    if distances.get(next_, -1) == distances[root] - 1:\n",
    "                        DFS(next_, [next_, *paths])\n",
    "\n",
    "    DFS(endWord, [endWord])\n",
    "    return sorted(results)\n",
    "\n",
    "# Testing the solution\n",
    "assert findLadders(\"hit\", \"cog\", [\"hot\",\"dot\",\"dog\",\"lot\",\"log\",\"cog\"]) == [['hit', 'hot', 'dot', 'dog', 'cog'], ['hit', 'hot', 'lot', 'log', 'cog']]\n",
    "assert findLadders(\"hit\", \"cog\", [\"hot\",\"dot\",\"dog\",\"lot\",\"log\"]) == []\n",
    "assert findLadders(\"a\", \"c\", [\"a\", \"b\", \"c\"]) == [[\"a\", \"c\"]]\n",
    "assert findLadders(\"red\", \"tax\", [\"ted\",\"tex\",\"red\",\"tax\",\"tad\",\"den\",\"rex\",\"pee\"]) == [['red', 'rex', 'tex', 'tax'],['red', 'ted', 'tad', 'tax'],['red', 'ted', 'tex', 'tax']]"
   ]
  },
  {
   "cell_type": "markdown",
   "id": "ac91aeb8",
   "metadata": {
    "papermill": {
     "duration": 0.01434,
     "end_time": "2024-04-28T14:03:01.959697",
     "exception": false,
     "start_time": "2024-04-28T14:03:01.945357",
     "status": "completed"
    },
    "tags": []
   },
   "source": [
    "Dijkstra's Algorithm using Min Heap: https://youtu.be/V6H1qAeB-l4?si=rEGFRGwu-ojsYp-3"
   ]
  },
  {
   "cell_type": "code",
   "execution_count": 30,
   "id": "f9b1c99b",
   "metadata": {
    "execution": {
     "iopub.execute_input": "2024-04-28T14:03:01.989380Z",
     "iopub.status.busy": "2024-04-28T14:03:01.989114Z",
     "iopub.status.idle": "2024-04-28T14:03:01.996831Z",
     "shell.execute_reply": "2024-04-28T14:03:01.996180Z"
    },
    "lines_to_next_cell": 1,
    "papermill": {
     "duration": 0.024498,
     "end_time": "2024-04-28T14:03:01.998495",
     "exception": false,
     "start_time": "2024-04-28T14:03:01.973997",
     "status": "completed"
    },
    "tags": []
   },
   "outputs": [],
   "source": [
    "def dijkstra(V: int, adj: list[list[list[int]]], src: int):\n",
    "    # Number of vertices\n",
    "    N = len(adj)\n",
    "\n",
    "    # Store all the distances into an array\n",
    "    distances: list[int] = [-1 for _ in range(V)]\n",
    "    distances[src] = 0\n",
    "\n",
    "    # Apply Dijkstra\n",
    "    min_heap: list[tuple[int, int]] = [(0, src)]\n",
    "    while min_heap:\n",
    "        curr_dist, curr = heapq.heappop(min_heap)\n",
    "        for next_, next_dist in adj[curr]:\n",
    "            if distances[next_] == -1 or distances[next_] > curr_dist + next_dist:\n",
    "                distances[next_] = curr_dist + next_dist\n",
    "                heapq.heappush(min_heap, (curr_dist + next_dist, next_))\n",
    "\n",
    "    return distances\n",
    "\n",
    "# Testing the solution\n",
    "assert dijkstra(2, [[[1, 9]], [[0, 9]]], 0) == [0, 9]\n",
    "assert dijkstra(3, [[[1, 1], [2, 6]], [[2, 3], [0, 1]], [[1, 3], [0, 6]]], 2) == [4, 3, 0]"
   ]
  },
  {
   "cell_type": "markdown",
   "id": "1ef6f6db",
   "metadata": {
    "papermill": {
     "duration": 0.014105,
     "end_time": "2024-04-28T14:03:02.026855",
     "exception": false,
     "start_time": "2024-04-28T14:03:02.012750",
     "status": "completed"
    },
    "tags": []
   },
   "source": [
    "Video Link: https://youtu.be/rp1SMw7HSO8?si=7d4Jc-1NTMcKvbh8\n",
    "Shortest path in an undirected weighted graph"
   ]
  },
  {
   "cell_type": "code",
   "execution_count": 31,
   "id": "5fc33946",
   "metadata": {
    "execution": {
     "iopub.execute_input": "2024-04-28T14:03:02.056448Z",
     "iopub.status.busy": "2024-04-28T14:03:02.055868Z",
     "iopub.status.idle": "2024-04-28T14:03:02.066602Z",
     "shell.execute_reply": "2024-04-28T14:03:02.065958Z"
    },
    "lines_to_next_cell": 1,
    "papermill": {
     "duration": 0.027201,
     "end_time": "2024-04-28T14:03:02.068197",
     "exception": false,
     "start_time": "2024-04-28T14:03:02.040996",
     "status": "completed"
    },
    "tags": []
   },
   "outputs": [],
   "source": [
    "def shortestPathGFG(V: int, E: int, edges: list[list[int]]) -> list[int]:\n",
    "    # Convert the edges into an adjacency list\n",
    "    adj: dict[int, list[tuple[int, int]]] = dict() # n1: (n2, w)\n",
    "    for n1, n2, w in edges:\n",
    "        n1_neighbours, n2_neighbours = adj.get(n1, []), adj.get(n2, [])\n",
    "        n1_neighbours.append((n2, w))\n",
    "        n2_neighbours.append((n1, w))\n",
    "        adj[n1], adj[n2] = n1_neighbours, n2_neighbours\n",
    "\n",
    "    # Apply Dijkstra algorithm, store the shortest distances to a hashmap, also store the previous node\n",
    "    distances: dict[int, tuple[int, int]] = {n1: (-1, -1) for n1 in range(V + 1)} # node: (dist, prev)\n",
    "    distances[1] = (0, -1)\n",
    "    heap: list[tuple[int, int]] = [(0, 1)] # dist, node\n",
    "    while heap:\n",
    "        curr_dist, curr = heapq.heappop(heap)\n",
    "        for next_, next_dist in adj.get(curr, []):\n",
    "            if distances[next_][0] == -1 or distances[next_][0] > curr_dist + next_dist:\n",
    "                distances[next_] = (curr_dist + next_dist, curr)\n",
    "                heapq.heappush(heap, (curr_dist + next_dist, next_))\n",
    "\n",
    "    dist = distances[V]\n",
    "    if dist[0] == -1:\n",
    "        return [-1]\n",
    "    else:\n",
    "        result = [V]\n",
    "        curr = dist[1]\n",
    "        while curr != -1:\n",
    "            result.append(curr)\n",
    "            curr = distances[curr][1]\n",
    "\n",
    "        result.append(dist[0])\n",
    "        result.reverse()\n",
    "        return result\n",
    "\n",
    "# Testing the solution\n",
    "assert shortestPathGFG(5, 6, [[1,2,2], [2,5,5], [2,3,4], [1,4,1],[4,3,3],[3,5,1]]) == [5, 1, 4, 3, 5]"
   ]
  },
  {
   "cell_type": "markdown",
   "id": "6de11f44",
   "metadata": {
    "papermill": {
     "duration": 0.014599,
     "end_time": "2024-04-28T14:03:02.097228",
     "exception": false,
     "start_time": "2024-04-28T14:03:02.082629",
     "status": "completed"
    },
    "tags": []
   },
   "source": [
    "Shortest path in a binary maze: https://leetcode.com/problems/shortest-path-in-binary-matrix/submissions/1243256372/\n",
    "Video Link: https://youtu.be/U5Mw4eyUmw4?si=SM3SONUWEFwd8XLt"
   ]
  },
  {
   "cell_type": "code",
   "execution_count": 32,
   "id": "2f855e08",
   "metadata": {
    "execution": {
     "iopub.execute_input": "2024-04-28T14:03:02.126709Z",
     "iopub.status.busy": "2024-04-28T14:03:02.126470Z",
     "iopub.status.idle": "2024-04-28T14:03:02.136181Z",
     "shell.execute_reply": "2024-04-28T14:03:02.135436Z"
    },
    "lines_to_next_cell": 1,
    "papermill": {
     "duration": 0.02643,
     "end_time": "2024-04-28T14:03:02.137837",
     "exception": false,
     "start_time": "2024-04-28T14:03:02.111407",
     "status": "completed"
    },
    "tags": []
   },
   "outputs": [],
   "source": [
    "def shortestPathBinaryMatrix(grid: list[list[int]]) -> int:\n",
    "    \"\"\"\n",
    "    A priority queue is only needed when we are having weighted graphs.\n",
    "    Since we have a unit weights, we can use a simple queue.\n",
    "\n",
    "    Time: O(N ^ 2), Space: O(N ^ 2)\n",
    "    \"\"\"\n",
    "\n",
    "    N = len(grid)\n",
    "    distances: list[list[float]] = [[math.inf for i in range(N)] for j in range(N)]\n",
    "    distances[0][0] = 1\n",
    "    queue: collections.deque[tuple[tuple[int, int], float]] = collections.deque([((0, 0), 1.)])\n",
    "    while queue:\n",
    "        curr, dist = queue.popleft()\n",
    "        for x in range(-1, 2):\n",
    "            for y in range(-1, 2):\n",
    "                i, j = curr[0] + x, curr[1] + y\n",
    "                if 0 <= i < N and 0 <= j < N and grid[i][j] == 0 and distances[i][j] > dist + 1:\n",
    "                    distances[i][j] = dist + 1\n",
    "                    queue.append(((i, j), dist + 1))\n",
    "\n",
    "    result = distances[N - 1][N - 1]\n",
    "    return int(result) if grid[0][0] == 0 and not math.isinf(result) else -1\n",
    "\n",
    "# Testing the solution\n",
    "assert shortestPathBinaryMatrix([[0,0,0],[1,1,0],[1,1,0]]) == 4\n",
    "assert shortestPathBinaryMatrix([[0,1],[1,0]]) == 2\n",
    "assert shortestPathBinaryMatrix([[1,0,0],[1,1,0],[1,1,0]]) == -1\n",
    "assert shortestPathBinaryMatrix([[1]]) == -1"
   ]
  },
  {
   "cell_type": "markdown",
   "id": "52e6e87d",
   "metadata": {
    "papermill": {
     "duration": 0.014272,
     "end_time": "2024-04-28T14:03:02.168727",
     "exception": false,
     "start_time": "2024-04-28T14:03:02.154455",
     "status": "completed"
    },
    "tags": []
   },
   "source": [
    "Video link: https://youtu.be/0ytpZyiZFhA?si=UwEDE7wIpbT_Q87y\n",
    "Path with minimum effort: https://leetcode.com/problems/path-with-minimum-effort/submissions/1243926425/"
   ]
  },
  {
   "cell_type": "code",
   "execution_count": 33,
   "id": "85a0590c",
   "metadata": {
    "execution": {
     "iopub.execute_input": "2024-04-28T14:03:02.198742Z",
     "iopub.status.busy": "2024-04-28T14:03:02.198184Z",
     "iopub.status.idle": "2024-04-28T14:03:02.209180Z",
     "shell.execute_reply": "2024-04-28T14:03:02.208471Z"
    },
    "lines_to_next_cell": 1,
    "papermill": {
     "duration": 0.027647,
     "end_time": "2024-04-28T14:03:02.210733",
     "exception": false,
     "start_time": "2024-04-28T14:03:02.183086",
     "status": "completed"
    },
    "tags": []
   },
   "outputs": [],
   "source": [
    "def minimumEffortPath(heights: list[list[int]]) -> int:\n",
    "    \"\"\"\n",
    "    Time: O(M x N x log (M x N)), Space: O(M x N).\n",
    "\n",
    "    Apparantly from striver: once we reach our destination we can return the dist.\n",
    "    We should however check while taking out of PQ and not while inserting into PQ.\n",
    "    \"\"\"\n",
    "    # Compute the dimensions\n",
    "    N, M = len(heights), len(heights[0])\n",
    "\n",
    "    # Store the efforts into a 2D matrix\n",
    "    efforts: list[list[float]] = [[math.inf for j in range(M)] for i in range(N)]\n",
    "    efforts[0][0] = 0\n",
    "\n",
    "    # Apply Dijkstra, create a heap datastructure\n",
    "    heap: list[tuple[float, tuple[int, int]]] = [(0., (0, 0))]\n",
    "    while heap:\n",
    "        curr_effort, curr = heapq.heappop(heap)\n",
    "        for x, y in [(-1, 0), (1, 0), (0, -1), (0, 1)]:\n",
    "            i, j = curr[0] + x, curr[1] + y\n",
    "            next_effort = max(abs(heights[i][j] - heights[curr[0]][curr[1]]) if 0 <= i < N and 0 <= j < M else math.inf, curr_effort)\n",
    "            if not math.isinf(next_effort) and next_effort < efforts[i][j]:\n",
    "                efforts[i][j] = next_effort\n",
    "                heapq.heappush(heap, (next_effort, (i, j)))\n",
    "\n",
    "    result = efforts[N - 1][M - 1]\n",
    "    return int(result) if not math.isinf(result) else -1\n",
    "\n",
    "# Testing the solution\n",
    "assert minimumEffortPath([[1,2,2],[3,8,2],[5,3,5]]) == 2\n",
    "assert minimumEffortPath([[1,2,3],[3,8,4],[5,3,5]]) == 1\n",
    "assert minimumEffortPath([[1,2,1,1,1],[1,2,1,2,1],[1,2,1,2,1],[1,2,1,2,1],[1,1,1,2,1]]) == 0"
   ]
  },
  {
   "cell_type": "markdown",
   "id": "635b22b1",
   "metadata": {},
   "source": [
    "Cheapest flight within K stops: https://leetcode.com/problems/cheapest-flights-within-k-stops/submissions/1244248580\n",
    "Video Link: https://youtu.be/9XybHVqTHcQ?si=jLIB9G9VQ184S2w6"
   ]
  },
  {
   "cell_type": "code",
   "execution_count": null,
   "id": "0f58c4e2",
   "metadata": {},
   "outputs": [],
   "source": [
    "def findCheapestPrice(n: int, flights: list[list[int]], src: int, dst: int, k: int) -> int:\n",
    "    \"\"\"\n",
    "    The trick here is to realize that if we made dist our priority, dijkstra would find the shortest path sooner even if it costs us a lot of steps preventing us from proceeding further.\n",
    "    To overcome this, we prioritize steps over distance. This way even if we aren't travelling to the shortest distance first, we still would be able to traverse the full breadth of k.\n",
    "\n",
    "    PQ can be steps, dist, node\n",
    "\n",
    "    Time: O(len(flights) log N)\n",
    "    Space: O(len(flights))\n",
    "    \"\"\"\n",
    "    # Create an adjaceny list out of the edges\n",
    "    adj: dict[int, list[tuple[int, float]]] = dict()\n",
    "    for n1, n2, w in flights:\n",
    "        n1_neighbours = adj.get(n1, [])\n",
    "        n1_neighbours.append((n2, w))\n",
    "        adj[n1] = n1_neighbours\n",
    "\n",
    "    # Compute the distances and store to a dictionary\n",
    "    distances: dict[int, float] = {n1: math.inf for n1 in range(n)}\n",
    "    distances[src] = 0\n",
    "\n",
    "    # Apply Dijkstra with slight modification - store the stops to reach the destination as well: steps, dist, node\n",
    "    heap: list[tuple[int, float, int]] = [(0, 0., src)]\n",
    "    while heap:\n",
    "        curr_steps, curr_dist, curr = heapq.heappop(heap)\n",
    "        for next_, next_dist in adj.get(curr, []):\n",
    "            if curr_dist + next_dist < distances[next_] and curr_steps <= k:\n",
    "                distances[next_] = curr_dist + next_dist\n",
    "                heapq.heappush(heap, (curr_steps + 1, curr_dist + next_dist, next_))\n",
    "\n",
    "    result = distances[dst]\n",
    "    return int(result) if not math.isinf(result) else -1\n",
    "\n",
    "# Testing the solution\n",
    "assert findCheapestPrice(n=4, flights=[[0,1,100],[1,2,100],[2,0,100],[1,3,600],[2,3,200]], src=0, dst=3, k=1) == 700\n",
    "assert findCheapestPrice(n=3, flights=[[0,1,100],[1,2,100],[0,2,500]], src=0, dst=2, k=1) == 200\n",
    "assert findCheapestPrice(n=5, flights=[[0,1,5],[1,2,5],[0,3,2],[3,1,2],[1,4,1],[4,2,1]], src=0, dst=2, k=2) == 7"
   ]
  }
 ],
 "metadata": {
  "kernelspec": {
   "display_name": "Python 3 (ipykernel)",
   "language": "python",
   "name": "python3"
  },
  "language_info": {
   "codemirror_mode": {
    "name": "ipython",
    "version": 3
   },
   "file_extension": ".py",
   "mimetype": "text/x-python",
   "name": "python",
   "nbconvert_exporter": "python",
   "pygments_lexer": "ipython3",
   "version": "3.10.14"
  },
  "papermill": {
   "default_parameters": {},
   "duration": 3.515932,
   "end_time": "2024-04-28T14:03:02.341771",
   "environment_variables": {},
   "exception": null,
   "input_path": "study/striver-A2Z/12-graphs.ipynb",
   "output_path": "study/striver-A2Z/12-graphs.ipynb",
   "parameters": {},
   "start_time": "2024-04-28T14:02:58.825839",
   "version": "2.5.0"
  }
 },
 "nbformat": 4,
 "nbformat_minor": 5
}
