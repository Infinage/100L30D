{
 "cells": [
  {
   "cell_type": "markdown",
   "id": "b7c72dfd",
   "metadata": {
    "papermill": {
     "duration": 0.008308,
     "end_time": "2024-04-23T05:02:37.748363",
     "exception": false,
     "start_time": "2024-04-23T05:02:37.740055",
     "status": "completed"
    },
    "tags": []
   },
   "source": [
    "#### Introduction to Graphs\n",
    "Video link: https://youtu.be/M3_pLsDdeuU?si=Bi_17bBfZUPqBU6K\n",
    "- Directed Graph: Graph with edges\n",
    "- Undirected Graph: Graph without edges\n",
    "- Cycle: Starting at node i, we are able to reach back to i again\n",
    "- DAG (Directed Acyclic Graph): Directed graph without any cycles\n",
    "- Degrees of a node (undirected): No of edges connected to that node\n",
    "- Indegree of a node (directed): No of incoming edges to a node\n",
    "- Outdegree of a node (directed): No of outgoing edges from a node\n",
    "- Property of an undirected of graph: Total degree = 2 * no. of edges (intuitively for edge we will be counting it twice on both ends of the connection)\n",
    "- Edge weights: Every edge of a graph is assigned a weight. If not provided, we can assume unit weight\n",
    "- Note that a graph can contain multiple components. A component is a set of nodes that can be reached from starting the traversal from one of the nodes."
   ]
  },
  {
   "cell_type": "markdown",
   "id": "cf960c9a",
   "metadata": {
    "lines_to_next_cell": 0,
    "papermill": {
     "duration": 0.007578,
     "end_time": "2024-04-23T05:02:37.763751",
     "exception": false,
     "start_time": "2024-04-23T05:02:37.756173",
     "status": "completed"
    },
    "tags": []
   },
   "source": [
    "#### Graph representation <br>\n",
    "Video Link: https://youtu.be/3oI-34aPMWM?si=ibTcfbzU8J9k-NHa\n",
    "1. Adjacency matrix: If N is no of nodes, create N x N grid.\n",
    "Each cell contains the weight if the edge between the two nodes.\n",
    "Connections may or may not exist. For undirected graphs, the\n",
    "matrix is symmetric around the diagnol. Space: O (N ^ 2)\n",
    "\n",
    "For eg: \n",
    "```\n",
    "0 1 2 3 4 5\n",
    "0 0 0 0 0 0\n",
    "1 0 1 2 0 0\n",
    "2 1 0 0 1 1\n",
    "3 2 0 0 0 0\n",
    "4 0 1 0 0 0\n",
    "5 0 1 0 0 0\n",
    "```\n",
    "\n",
    "2. Adjaceny list: Create an array of arrays or set of arrays. Each nested array at index denotes the nodes that index is connected to. Space: O(E), still be O (N ^ 2) in a complete graph. If it is a directed graph, each element in the nested array is a tuple of node that index is connected to along with the weight of that connection.\n",
    "\n",
    "For eg:\n",
    "```\n",
    "{\n",
    " 1: [(2, 1), (3, 2)]\n",
    " 2: [(4, 5)]\n",
    " 3: [(2, 2), (4, 1)]\n",
    "}\n",
    "```"
   ]
  },
  {
   "cell_type": "markdown",
   "id": "d7ecd5e5",
   "metadata": {
    "papermill": {
     "duration": 0.007427,
     "end_time": "2024-04-23T05:02:37.778632",
     "exception": false,
     "start_time": "2024-04-23T05:02:37.771205",
     "status": "completed"
    },
    "tags": []
   },
   "source": [
    "#### Misc about graphs\n",
    "- Bipartite Graph: Color the graph with 2 colors such that no adjacent nodes have the same color. More formally: A graph is bipartite if the nodes can be partitioned into two independent sets A and B such that every edge in the graph connects a node in set A and a node in set B.\n",
    "- Linear graphs without any cycles are always bipartite.\n",
    "- Cyclic graphs of even node length are always bipartite.\n",
    "- Cyclic graphs of odd node length are NOT bipartite."
   ]
  },
  {
   "cell_type": "markdown",
   "id": "a321425e",
   "metadata": {
    "lines_to_next_cell": 0,
    "papermill": {
     "duration": 0.00757,
     "end_time": "2024-04-23T05:02:37.793641",
     "exception": false,
     "start_time": "2024-04-23T05:02:37.786071",
     "status": "completed"
    },
    "tags": []
   },
   "source": [
    "#### Helper functions and definitions"
   ]
  },
  {
   "cell_type": "code",
   "execution_count": 1,
   "id": "8c79edc4",
   "metadata": {
    "execution": {
     "iopub.execute_input": "2024-04-23T05:02:37.810388Z",
     "iopub.status.busy": "2024-04-23T05:02:37.809729Z",
     "iopub.status.idle": "2024-04-23T05:02:37.819136Z",
     "shell.execute_reply": "2024-04-23T05:02:37.818398Z"
    },
    "lines_to_next_cell": 1,
    "papermill": {
     "duration": 0.019831,
     "end_time": "2024-04-23T05:02:37.820879",
     "exception": false,
     "start_time": "2024-04-23T05:02:37.801048",
     "status": "completed"
    },
    "tags": []
   },
   "outputs": [],
   "source": [
    "import math\n",
    "import collections\n",
    "import itertools\n",
    "import typing"
   ]
  },
  {
   "cell_type": "markdown",
   "id": "fc260e41",
   "metadata": {
    "papermill": {
     "duration": 0.00753,
     "end_time": "2024-04-23T05:02:37.836002",
     "exception": false,
     "start_time": "2024-04-23T05:02:37.828472",
     "status": "completed"
    },
    "tags": []
   },
   "source": [
    "Video Link: https://youtu.be/-tgVpUgsQ5k?si=8HBt33CLyu9hTP1I\n",
    "BFS Search of a graph"
   ]
  },
  {
   "cell_type": "code",
   "execution_count": 2,
   "id": "2e42efd0",
   "metadata": {
    "execution": {
     "iopub.execute_input": "2024-04-23T05:02:37.852665Z",
     "iopub.status.busy": "2024-04-23T05:02:37.852073Z",
     "iopub.status.idle": "2024-04-23T05:02:37.858620Z",
     "shell.execute_reply": "2024-04-23T05:02:37.857885Z"
    },
    "lines_to_next_cell": 1,
    "papermill": {
     "duration": 0.016802,
     "end_time": "2024-04-23T05:02:37.860377",
     "exception": false,
     "start_time": "2024-04-23T05:02:37.843575",
     "status": "completed"
    },
    "tags": []
   },
   "outputs": [],
   "source": [
    "def bfsOfGraph(V: int, adj: list[list[int]]) -> list[int]:\n",
    "    result: list[int] = []\n",
    "    queue: collections.deque = collections.deque([0])\n",
    "    visited: set[int] = set()\n",
    "    while queue:\n",
    "        curr = queue.popleft()\n",
    "        if curr not in visited:\n",
    "            result.append(curr)\n",
    "            visited.add(curr)\n",
    "        queue.extend(adj[curr])\n",
    "\n",
    "    return result\n",
    "\n",
    "# Testing the solution\n",
    "assert bfsOfGraph(5, [[1,2,3],[],[4],[],[]]) == [0, 1, 2, 3, 4]\n",
    "assert bfsOfGraph(5, [[1,2],[],[]]) == [0, 1, 2]"
   ]
  },
  {
   "cell_type": "markdown",
   "id": "25de613f",
   "metadata": {
    "papermill": {
     "duration": 0.00763,
     "end_time": "2024-04-23T05:02:37.875600",
     "exception": false,
     "start_time": "2024-04-23T05:02:37.867970",
     "status": "completed"
    },
    "tags": []
   },
   "source": [
    "Video Link: https://youtu.be/Qzf1a--rhp8?si=Zb_XCqskGiK11gbB\n",
    "DFS Traversal"
   ]
  },
  {
   "cell_type": "code",
   "execution_count": 3,
   "id": "4a28e0ae",
   "metadata": {
    "execution": {
     "iopub.execute_input": "2024-04-23T05:02:37.891859Z",
     "iopub.status.busy": "2024-04-23T05:02:37.891304Z",
     "iopub.status.idle": "2024-04-23T05:02:37.899857Z",
     "shell.execute_reply": "2024-04-23T05:02:37.899227Z"
    },
    "lines_to_next_cell": 1,
    "papermill": {
     "duration": 0.018419,
     "end_time": "2024-04-23T05:02:37.901503",
     "exception": false,
     "start_time": "2024-04-23T05:02:37.883084",
     "status": "completed"
    },
    "tags": []
   },
   "outputs": [],
   "source": [
    "def depthFirstSearch(V: int, E: int, edges: list[list[int]]) -> list[list[int]]:\n",
    "    adjl: dict[int, list[int]] = dict()\n",
    "    for i in range(E):\n",
    "        n1, n2 = edges[i]\n",
    "        n1_edges, n2_edges = adjl.get(n1, []), adjl.get(n2, [])\n",
    "        n1_edges.append(n2)\n",
    "        n2_edges.append(n1)\n",
    "        adjl[n1], adjl[n2] = n1_edges, n2_edges\n",
    "\n",
    "    result: list[list[int]] = []\n",
    "    visited: set[int] = set()\n",
    "\n",
    "    # Time Complexity: O(N), Space: O(N)\n",
    "    for i in range(V):\n",
    "        stack: list[int] = [i]\n",
    "        components: list[int] = []\n",
    "        while stack:\n",
    "            curr = stack.pop()\n",
    "            if curr not in visited:\n",
    "                visited.add(curr)\n",
    "                components.append(curr)\n",
    "                for next_ in adjl.get(curr, []):\n",
    "                    stack.append(next_)\n",
    "\n",
    "        if components:\n",
    "            components.sort()\n",
    "            result.append(components)\n",
    "\n",
    "    return result\n",
    "\n",
    "# Testing the result\n",
    "assert depthFirstSearch(5, 4, [[0,2], [0,1], [1,2], [3,4]]) == [[0,1,2], [3,4]]"
   ]
  },
  {
   "cell_type": "markdown",
   "id": "a12cfaca",
   "metadata": {
    "papermill": {
     "duration": 0.0075,
     "end_time": "2024-04-23T05:02:37.916587",
     "exception": false,
     "start_time": "2024-04-23T05:02:37.909087",
     "status": "completed"
    },
    "tags": []
   },
   "source": [
    "Number of provinces: https://leetcode.com/problems/number-of-provinces/submissions/1237343247/\n",
    "Video Link: https://youtu.be/ACzkVtewUYA?si=wpzBiKJoOJQnFR18"
   ]
  },
  {
   "cell_type": "code",
   "execution_count": 4,
   "id": "672dd010",
   "metadata": {
    "execution": {
     "iopub.execute_input": "2024-04-23T05:02:37.933407Z",
     "iopub.status.busy": "2024-04-23T05:02:37.932793Z",
     "iopub.status.idle": "2024-04-23T05:02:37.939872Z",
     "shell.execute_reply": "2024-04-23T05:02:37.939213Z"
    },
    "lines_to_next_cell": 1,
    "papermill": {
     "duration": 0.017495,
     "end_time": "2024-04-23T05:02:37.941576",
     "exception": false,
     "start_time": "2024-04-23T05:02:37.924081",
     "status": "completed"
    },
    "tags": []
   },
   "outputs": [],
   "source": [
    "def findCircleNum(adjM: list[list[int]]) -> int:\n",
    "    N = len(adjM)\n",
    "\n",
    "    visited: set[int] = set()\n",
    "    def DFS(curr: int):\n",
    "        if curr not in visited:\n",
    "            visited.add(curr)\n",
    "            for i in range(N):\n",
    "                if adjM[curr][i]:\n",
    "                    DFS(i)\n",
    "\n",
    "    provinces: int = 0\n",
    "    for curr in range(N):\n",
    "        if curr not in visited:\n",
    "            DFS(curr)\n",
    "            provinces += 1\n",
    "\n",
    "    return provinces\n",
    "\n",
    "# Testing the solution\n",
    "assert findCircleNum([[1,1,0],[1,1,0],[0,0,1]]) == 2\n",
    "assert findCircleNum([[1,0,0],[0,1,0],[0,0,1]]) == 3"
   ]
  },
  {
   "cell_type": "markdown",
   "id": "bab63bca",
   "metadata": {
    "papermill": {
     "duration": 0.007414,
     "end_time": "2024-04-23T05:02:37.956555",
     "exception": false,
     "start_time": "2024-04-23T05:02:37.949141",
     "status": "completed"
    },
    "tags": []
   },
   "source": [
    "Video link: https://youtu.be/muncqlKJrH0?si=xcCfsKjX5tZd4kZJ\n",
    "Number of islands"
   ]
  },
  {
   "cell_type": "code",
   "execution_count": 5,
   "id": "968de0b8",
   "metadata": {
    "execution": {
     "iopub.execute_input": "2024-04-23T05:02:37.973047Z",
     "iopub.status.busy": "2024-04-23T05:02:37.972453Z",
     "iopub.status.idle": "2024-04-23T05:02:37.980047Z",
     "shell.execute_reply": "2024-04-23T05:02:37.979305Z"
    },
    "lines_to_next_cell": 1,
    "papermill": {
     "duration": 0.017646,
     "end_time": "2024-04-23T05:02:37.981811",
     "exception": false,
     "start_time": "2024-04-23T05:02:37.964165",
     "status": "completed"
    },
    "tags": []
   },
   "outputs": [],
   "source": [
    "def numIslands(grid: list[list[int]]) -> int:\n",
    "    N = len(grid)\n",
    "    M = len(grid[0])\n",
    "\n",
    "    def DFS(i: int, j: int):\n",
    "        if 0 <= i < N and 0 <= j < M and grid[i][j] == 1:\n",
    "            grid[i][j] = 0\n",
    "            for i_ in range(-1, 2):\n",
    "                for j_ in range(-1, 2):\n",
    "                    DFS(i + i_, j + j_)\n",
    "\n",
    "    islands = 0\n",
    "    for i_ in range(N):\n",
    "        for j_ in range(M):\n",
    "            if grid[i_][j_] == 1:\n",
    "                islands += 1\n",
    "                DFS(i_, j_)\n",
    "    return islands\n",
    "\n",
    "# Testing the solution\n",
    "assert numIslands([[0,1,1,1,0,0,0],[0,0,1,1,0,1,0]]) == 2\n",
    "assert numIslands([[0,1],[1,0],[1,1],[1,0]]) == 1"
   ]
  },
  {
   "cell_type": "markdown",
   "id": "10f09e20",
   "metadata": {
    "papermill": {
     "duration": 0.00756,
     "end_time": "2024-04-23T05:02:37.997239",
     "exception": false,
     "start_time": "2024-04-23T05:02:37.989679",
     "status": "completed"
    },
    "tags": []
   },
   "source": [
    "Video Link: https://youtu.be/C-2_uSRli8o?si=kwATM2glQc_Mpf76\n",
    "Flood fill: https://leetcode.com/problems/flood-fill/submissions/1237381436"
   ]
  },
  {
   "cell_type": "code",
   "execution_count": 6,
   "id": "1e1a36fc",
   "metadata": {
    "execution": {
     "iopub.execute_input": "2024-04-23T05:02:38.013581Z",
     "iopub.status.busy": "2024-04-23T05:02:38.013131Z",
     "iopub.status.idle": "2024-04-23T05:02:38.020391Z",
     "shell.execute_reply": "2024-04-23T05:02:38.019639Z"
    },
    "lines_to_next_cell": 1,
    "papermill": {
     "duration": 0.017367,
     "end_time": "2024-04-23T05:02:38.022095",
     "exception": false,
     "start_time": "2024-04-23T05:02:38.004728",
     "status": "completed"
    },
    "tags": []
   },
   "outputs": [],
   "source": [
    "def floodFill(image: list[list[int]], sr: int, sc: int, fill_color: int) -> list[list[int]]:\n",
    "\n",
    "    N, M = len(image), len(image[0])\n",
    "\n",
    "    start_color = image[sr][sc]\n",
    "    if start_color != fill_color:\n",
    "        queue: collections.deque = collections.deque([(sr, sc)])\n",
    "\n",
    "        while queue:\n",
    "            i, j = queue.popleft()\n",
    "            if 0 <= i < N and 0 <= j < M and image[i][j] == start_color:\n",
    "                image[i][j] = fill_color\n",
    "                queue.extend([(i - 1, j), (i, j - 1), (i, j + 1), (i + 1, j)])\n",
    "\n",
    "    return image\n",
    "\n",
    "# Testing the solution\n",
    "assert floodFill([[1,1,1],[1,1,0],[1,0,1]], 1, 1, 2) == [[2,2,2],[2,2,0],[2,0,1]]"
   ]
  },
  {
   "cell_type": "markdown",
   "id": "cb576964",
   "metadata": {
    "papermill": {
     "duration": 0.007386,
     "end_time": "2024-04-23T05:02:38.037231",
     "exception": false,
     "start_time": "2024-04-23T05:02:38.029845",
     "status": "completed"
    },
    "tags": []
   },
   "source": [
    "Video Link: https://youtu.be/yf3oUhkvqA0?si=A664tpMiA00GrxJV\n",
    "Rotten Oranges: https://leetcode.com/problems/rotting-oranges/submissions/1237760285"
   ]
  },
  {
   "cell_type": "code",
   "execution_count": 7,
   "id": "8b72ec9b",
   "metadata": {
    "execution": {
     "iopub.execute_input": "2024-04-23T05:02:38.053740Z",
     "iopub.status.busy": "2024-04-23T05:02:38.053050Z",
     "iopub.status.idle": "2024-04-23T05:02:38.064657Z",
     "shell.execute_reply": "2024-04-23T05:02:38.063914Z"
    },
    "lines_to_next_cell": 1,
    "papermill": {
     "duration": 0.021795,
     "end_time": "2024-04-23T05:02:38.066461",
     "exception": false,
     "start_time": "2024-04-23T05:02:38.044666",
     "status": "completed"
    },
    "tags": []
   },
   "outputs": [],
   "source": [
    "def orangesRotting(grid: list[list[int]]) -> int:\n",
    "    \"\"\"\n",
    "    BFS function can be optimized by using a queue. Each element is (i, j, time).\n",
    "    Further more instead of storing all fresh indices as a set, we can simply have a counter and decrement it every time we rot an orange.\n",
    "    Simple check if this counter is 0 before returning minutes.\n",
    "\n",
    "    Time: O(M x N), Space: O(M x N)\n",
    "    \"\"\"\n",
    "    N, M = len(grid), len(grid[0])\n",
    "\n",
    "    rotten: list[tuple[int, int]] = []\n",
    "    def BFS() -> int:\n",
    "        nonlocal rotten\n",
    "        min_: int = 0\n",
    "        while rotten:\n",
    "            newly_rotten = False\n",
    "            next_: list[tuple[int, int]] = []\n",
    "            for i_, j_ in rotten:\n",
    "                if 0 <= i_ < N and 0 <= j_ < M and grid[i_][j_] == 1:\n",
    "                    grid[i_][j_] = 2\n",
    "                    fresh.remove((i_, j_))\n",
    "                    next_.extend([(i_ - 1, j_), (i_, j_ - 1), (i_, j_ + 1), (i_ + 1, j_)])\n",
    "                    newly_rotten = True\n",
    "\n",
    "            min_ += int(newly_rotten)\n",
    "            rotten = next_\n",
    "\n",
    "        return min_\n",
    "\n",
    "    fresh: set[tuple[int, int]] = set()\n",
    "    for i in range(N):\n",
    "        for j in range(M):\n",
    "            if grid[i][j] == 1:\n",
    "                fresh.add((i, j))\n",
    "            if grid[i][j] == 2:\n",
    "                grid[i][j] = 2\n",
    "                rotten.extend([(i - 1, j), (i, j - 1), (i, j + 1), (i + 1, j)])\n",
    "\n",
    "    minutes = BFS()\n",
    "    return minutes if not fresh else -1\n",
    "\n",
    "# Testing the solution\n",
    "assert orangesRotting([[2,1,1],[1,1,0],[0,1,1]]) == 4\n",
    "assert orangesRotting([[2,1,1],[0,1,1],[1,0,1]]) == -1\n",
    "assert orangesRotting([[2,1,1],[1,1,1],[0,1,2]]) == 2"
   ]
  },
  {
   "cell_type": "markdown",
   "id": "eef4c409",
   "metadata": {
    "papermill": {
     "duration": 0.00748,
     "end_time": "2024-04-23T05:02:38.081497",
     "exception": false,
     "start_time": "2024-04-23T05:02:38.074017",
     "status": "completed"
    },
    "tags": []
   },
   "source": [
    "Detect cycle with Graph (BFS / DFS)\n",
    "Video Link BFS: https://youtu.be/BPlrALf1LDU?si=U9u9H_9xiHo8oflx\n",
    "Video Link DFS: https://youtu.be/zQ3zgFypzX4?si=trbPI1I4DfRMcrj5"
   ]
  },
  {
   "cell_type": "code",
   "execution_count": 8,
   "id": "342b6f3b",
   "metadata": {
    "execution": {
     "iopub.execute_input": "2024-04-23T05:02:38.097950Z",
     "iopub.status.busy": "2024-04-23T05:02:38.097635Z",
     "iopub.status.idle": "2024-04-23T05:02:38.109160Z",
     "shell.execute_reply": "2024-04-23T05:02:38.108395Z"
    },
    "lines_to_next_cell": 1,
    "papermill": {
     "duration": 0.021588,
     "end_time": "2024-04-23T05:02:38.110847",
     "exception": false,
     "start_time": "2024-04-23T05:02:38.089259",
     "status": "completed"
    },
    "tags": []
   },
   "outputs": [],
   "source": [
    "def detectCycle(V: int, E: int, edges: list[tuple[int, int]]):\n",
    "    \"\"\"\n",
    "    BFS:\n",
    "\n",
    "    Starting at node i we branch outwards. If some node is visited again and that node didn't come from curr node then we have a cycle\n",
    "    We check if the next node comes from curr by storing the parent in the queue.\n",
    "\n",
    "    We can save duplicate work for disconnected components by storing visited outside of the BFS function. Remember to add the parent != -1 condition.\n",
    "\n",
    "    Time: O(N), Space: O(N)\n",
    "\n",
    "    DFS:\n",
    "\n",
    "    Starting at node i, if we are able to reach node i again via DFS, then the graph has a cycle.\n",
    "    To make sure we don't visit the parent again, we store the parent node in the stack.\n",
    "\n",
    "    Time: O(N), Space: O(N)\n",
    "    \"\"\"\n",
    "    adjl: dict[int, list[int]] = dict()\n",
    "    for n1, n2 in edges:\n",
    "        n1_neighbours, n2_neighbours = adjl.get(n1, []), adjl.get(n2, [])\n",
    "        n1_neighbours.append(n2)\n",
    "        n2_neighbours.append(n1)\n",
    "        adjl[n1], adjl[n2] = n1_neighbours, n2_neighbours\n",
    "\n",
    "    def BFS(root: int) -> bool:\n",
    "        queue: collections.deque = collections.deque([(root, -1)])\n",
    "        while queue:\n",
    "            curr, parent = queue.popleft()\n",
    "            visited.add(curr)\n",
    "            for next_ in adjl.get(curr, []):\n",
    "                if next_ not in visited:\n",
    "                    queue.append((next_, curr))\n",
    "                elif parent != -1 and next_ != parent:\n",
    "                    return True\n",
    "        else:\n",
    "            return False\n",
    "\n",
    "    def DFS(root: int) -> bool:\n",
    "        stack: list[tuple[int, int]] = [(root, -1)]\n",
    "        while stack:\n",
    "            curr, parent = stack.pop()\n",
    "            if curr not in visited:\n",
    "                visited.add(curr)\n",
    "                for next_ in adjl.get(curr, []):\n",
    "                    if next_ != parent:\n",
    "                        stack.append((next_, curr))\n",
    "\n",
    "            elif parent != -1:\n",
    "                return True\n",
    "\n",
    "        return False\n",
    "\n",
    "    visited: set[int] = set()\n",
    "    for curr in range(V):\n",
    "        if DFS(curr):\n",
    "            return True\n",
    "    else:\n",
    "        return False\n",
    "\n",
    "assert detectCycle(5, 3, [(0, 1), (1, 2), (3, 4)]) == False\n",
    "assert detectCycle(4, 4, [(0, 1), (1, 2), (2, 3), (3, 0)]) == True"
   ]
  },
  {
   "cell_type": "markdown",
   "id": "86e956f5",
   "metadata": {
    "papermill": {
     "duration": 0.007655,
     "end_time": "2024-04-23T05:02:38.126193",
     "exception": false,
     "start_time": "2024-04-23T05:02:38.118538",
     "status": "completed"
    },
    "tags": []
   },
   "source": [
    "Video Link: https://youtu.be/edXdVwkYHF8?si=oTave6oul5GbDHrn\n",
    "01 Matrix: https://leetcode.com/problems/01-matrix/"
   ]
  },
  {
   "cell_type": "code",
   "execution_count": 9,
   "id": "14c07211",
   "metadata": {
    "execution": {
     "iopub.execute_input": "2024-04-23T05:02:38.142894Z",
     "iopub.status.busy": "2024-04-23T05:02:38.142114Z",
     "iopub.status.idle": "2024-04-23T05:02:38.152357Z",
     "shell.execute_reply": "2024-04-23T05:02:38.151616Z"
    },
    "lines_to_next_cell": 1,
    "papermill": {
     "duration": 0.020488,
     "end_time": "2024-04-23T05:02:38.154160",
     "exception": false,
     "start_time": "2024-04-23T05:02:38.133672",
     "status": "completed"
    },
    "tags": []
   },
   "outputs": [],
   "source": [
    "def updateMatrixBrute(mat: list[list[int]]) -> list[list[int]]:\n",
    "    M, N = len(mat), len(mat[0])\n",
    "    result: list[list[int]] = [[-1 for i in range(N)] for j in range(M)]\n",
    "\n",
    "    def BFS(row: int, col: int) -> int:\n",
    "        queue: collections.deque = collections.deque([(row, col, 0)])\n",
    "        visited: set[tuple[int, int]] = set()\n",
    "        while queue:\n",
    "            i, j, dist = queue.popleft()\n",
    "            if (i, j) not in visited and 0 <= i < M and 0 <= j < N:\n",
    "                visited.add((i, j))\n",
    "                if mat[i][j] == 0:\n",
    "                    return dist\n",
    "                else:\n",
    "                    queue.extend([(i - 1, j, dist + 1), (i, j - 1, dist + 1), (i, j + 1, dist + 1), (i + 1, j, dist + 1)])\n",
    "\n",
    "        return -1\n",
    "\n",
    "    for i in range(M):\n",
    "        for j in range(N):\n",
    "            result[i][j] = BFS(i, j)\n",
    "\n",
    "    return result\n",
    "\n",
    "# Testing the solution\n",
    "assert updateMatrixBrute([[0,0,0],[0,1,0],[0,0,0]]) == [[0,0,0],[0,1,0],[0,0,0]]\n",
    "assert updateMatrixBrute([[0,0,0],[0,1,0],[1,1,1]]) == [[0,0,0],[0,1,0],[1,2,1]]"
   ]
  },
  {
   "cell_type": "code",
   "execution_count": 10,
   "id": "251805ef",
   "metadata": {
    "execution": {
     "iopub.execute_input": "2024-04-23T05:02:38.170662Z",
     "iopub.status.busy": "2024-04-23T05:02:38.170110Z",
     "iopub.status.idle": "2024-04-23T05:02:38.182916Z",
     "shell.execute_reply": "2024-04-23T05:02:38.182178Z"
    },
    "lines_to_next_cell": 1,
    "papermill": {
     "duration": 0.02251,
     "end_time": "2024-04-23T05:02:38.184466",
     "exception": false,
     "start_time": "2024-04-23T05:02:38.161956",
     "status": "completed"
    },
    "tags": []
   },
   "outputs": [],
   "source": [
    "# https://leetcode.com/problems/01-matrix/submissions/1238008344\n",
    "def updateMatrixBetter(mat: list[list[int]]) -> list[list[float]]:\n",
    "    M, N = len(mat), len(mat[0])\n",
    "    result: list[list[float]] = [[math.inf for j in range(N)] for i in range(M)]\n",
    "\n",
    "    # Go right to left to find the nearest 0 on the right\n",
    "    for i in range(M):\n",
    "        for j in range(N - 1, -1, -1):\n",
    "            if mat[i][j] == 0:\n",
    "                result[i][j] = 0\n",
    "            else:\n",
    "                dist = result[i][j + 1] + 1 if j < N - 1 else math.inf\n",
    "                result[i][j] = min(dist, result[i][j])\n",
    "\n",
    "    # Go left to right to find the nearest 0 on the left\n",
    "    for i in range(M):\n",
    "        for j in range(N):\n",
    "            if mat[i][j] == 0:\n",
    "                result[i][j] = 0\n",
    "            else:\n",
    "                dist = result[i][j - 1] + 1 if j > 0 else math.inf\n",
    "                result[i][j] = min(dist, result[i][j])\n",
    "\n",
    "    # Go top to bottom to find the nearest 0 on the top\n",
    "    for i in range(M):\n",
    "        for j in range(N):\n",
    "            if mat[i][j] == 0:\n",
    "                result[i][j] = 0\n",
    "            else:\n",
    "                dist = result[i - 1][j] + 1 if i > 0 else math.inf\n",
    "                result[i][j] = min(dist, result[i][j])\n",
    "\n",
    "    # Go bottom to top to find the nearest 0 on the bottom\n",
    "    for i in range(M - 1, -1, -1):\n",
    "        for j in range(N):\n",
    "            if mat[i][j] == 0:\n",
    "                result[i][j] = 0\n",
    "            else:\n",
    "                dist = result[i + 1][j] + 1 if i < M - 1 else math.inf\n",
    "                result[i][j] = min(dist, result[i][j])\n",
    "\n",
    "    return result\n",
    "\n",
    "# Testing the solution\n",
    "assert updateMatrixBetter([[0,0,0],[0,1,0],[0,0,0]]) == [[0,0,0],[0,1,0],[0,0,0]]\n",
    "assert updateMatrixBetter([[0,0,0],[0,1,0],[1,1,1]]) == [[0,0,0],[0,1,0],[1,2,1]]"
   ]
  },
  {
   "cell_type": "code",
   "execution_count": 11,
   "id": "9469ade5",
   "metadata": {
    "execution": {
     "iopub.execute_input": "2024-04-23T05:02:38.200981Z",
     "iopub.status.busy": "2024-04-23T05:02:38.200321Z",
     "iopub.status.idle": "2024-04-23T05:02:38.210338Z",
     "shell.execute_reply": "2024-04-23T05:02:38.209567Z"
    },
    "lines_to_next_cell": 1,
    "papermill": {
     "duration": 0.020025,
     "end_time": "2024-04-23T05:02:38.211936",
     "exception": false,
     "start_time": "2024-04-23T05:02:38.191911",
     "status": "completed"
    },
    "tags": []
   },
   "outputs": [],
   "source": [
    "# https://leetcode.com/problems/01-matrix/submissions/1238019317/\n",
    "def updateMatrix(mat: list[list[int]]) -> list[list[float]]:\n",
    "    \"\"\"Time: O(M x N), Space: O(M x N)\"\"\"\n",
    "\n",
    "    M, N = len(mat), len(mat[0])\n",
    "    result: list[list[float]] = [[math.inf for j in range(N)] for i in range(M)]\n",
    "\n",
    "    # Collect all nodes that are having 0 values: i, j, dist\n",
    "    queue: collections.deque = collections.deque()\n",
    "    for i in range(M):\n",
    "        for j in range(N):\n",
    "            if mat[i][j] == 0:\n",
    "                queue.append((i, j, 0))\n",
    "\n",
    "    # Start to traverse BFS together\n",
    "    visited: set[tuple[int, int]] = set()\n",
    "    while queue:\n",
    "        i, j, dist = queue.popleft()\n",
    "        if 0 <= i < M and 0 <= j < N and (i, j) not in visited:\n",
    "            result[i][j] = dist\n",
    "            visited.add((i, j))\n",
    "            queue.extend([(i - 1, j, dist + 1), (i, j - 1, dist + 1), (i, j + 1, dist + 1), (i + 1, j, dist + 1)])\n",
    "\n",
    "    return result\n",
    "\n",
    "# Testing the solution\n",
    "assert updateMatrix([[0,0,0],[0,1,0],[0,0,0]]) == [[0,0,0],[0,1,0],[0,0,0]]\n",
    "assert updateMatrix([[0,0,0],[0,1,0],[1,1,1]]) == [[0,0,0],[0,1,0],[1,2,1]]"
   ]
  },
  {
   "cell_type": "markdown",
   "id": "0b3a1d29",
   "metadata": {
    "papermill": {
     "duration": 0.007514,
     "end_time": "2024-04-23T05:02:38.226941",
     "exception": false,
     "start_time": "2024-04-23T05:02:38.219427",
     "status": "completed"
    },
    "tags": []
   },
   "source": [
    "Video Link: https://youtu.be/BtdgAys4yMk?si=BLc-UXXR9XvQV8Mf\n",
    "Surrounded Regions: https://leetcode.com/problems/surrounded-regions/description/"
   ]
  },
  {
   "cell_type": "code",
   "execution_count": 12,
   "id": "3610e726",
   "metadata": {
    "execution": {
     "iopub.execute_input": "2024-04-23T05:02:38.243706Z",
     "iopub.status.busy": "2024-04-23T05:02:38.243146Z",
     "iopub.status.idle": "2024-04-23T05:02:38.254823Z",
     "shell.execute_reply": "2024-04-23T05:02:38.254069Z"
    },
    "lines_to_next_cell": 1,
    "papermill": {
     "duration": 0.021628,
     "end_time": "2024-04-23T05:02:38.256416",
     "exception": false,
     "start_time": "2024-04-23T05:02:38.234788",
     "status": "completed"
    },
    "tags": []
   },
   "outputs": [],
   "source": [
    "# https://leetcode.com/problems/surrounded-regions/submissions/1238092752\n",
    "def solve(board: list[list[str]]) -> None:\n",
    "    \"Time: O(M x N), Time: O(M x N)\"\n",
    "    M, N = len(board), len(board[0])\n",
    "\n",
    "    stack: list[tuple[int, int]] = []\n",
    "    visited: set[tuple[int, int]] = set()\n",
    "\n",
    "    # Capture all zeros at the borders\n",
    "    for i in range(M):\n",
    "        for j in range(N):\n",
    "            if (i in (0, M - 1) or j in (0, N - 1)) and board[i][j] == \"O\":\n",
    "                stack.append((i, j))\n",
    "\n",
    "    # Do a DFS and mark zeros into visited\n",
    "    while stack:\n",
    "        i, j = stack.pop()\n",
    "        visited.add((i, j))\n",
    "        for x, y in [(-1, 0), (0, -1), (0, 1), (1, 0)]:\n",
    "            row, col = i + x, j + y\n",
    "            if 0 <= row < M and 0 <= col < N and board[row][col] == 'O' and (row, col) not in visited:\n",
    "                stack.append((row, col))\n",
    "\n",
    "    # Visited set contains all 'O' adjacent to 'O's that cannot be flipped\n",
    "    for i in range(M):\n",
    "        for j in range(N):\n",
    "            if (i, j) not in visited:\n",
    "                board[i][j] = \"X\"\n",
    "\n",
    "# Testing the solution\n",
    "for inp, op in [\n",
    "    (\n",
    "        [[\"X\",\"X\",\"X\",\"X\"],[\"X\",\"O\",\"O\",\"X\"],[\"X\",\"X\",\"O\",\"X\"],[\"X\",\"O\",\"X\",\"X\"]],\n",
    "        [[\"X\",\"X\",\"X\",\"X\"],[\"X\",\"X\",\"X\",\"X\"],[\"X\",\"X\",\"X\",\"X\"],[\"X\",\"O\",\"X\",\"X\"]]\n",
    "    ),\n",
    "    (\n",
    "        [[\"X\",\"X\",\"X\",\"X\"],[\"X\",\"O\",\"O\",\"X\"],[\"X\",\"X\",\"O\",\"X\"],[\"X\",\"X\",\"O\",\"X\"]],\n",
    "        [[\"X\",\"X\",\"X\",\"X\"],[\"X\",\"O\",\"O\",\"X\"],[\"X\",\"X\",\"O\",\"X\"],[\"X\",\"X\",\"O\",\"X\"]]\n",
    "    )\n",
    "]:\n",
    "    solve(inp)\n",
    "    assert inp == op"
   ]
  },
  {
   "cell_type": "markdown",
   "id": "0b264d5d",
   "metadata": {
    "papermill": {
     "duration": 0.007494,
     "end_time": "2024-04-23T05:02:38.271430",
     "exception": false,
     "start_time": "2024-04-23T05:02:38.263936",
     "status": "completed"
    },
    "tags": []
   },
   "source": [
    "Number of Enclaves\n",
    "Video Link: https://youtu.be/7zmgQSJghpo?si=XSGlRuO_V105V2XK"
   ]
  },
  {
   "cell_type": "code",
   "execution_count": 13,
   "id": "5647a7a1",
   "metadata": {
    "execution": {
     "iopub.execute_input": "2024-04-23T05:02:38.287820Z",
     "iopub.status.busy": "2024-04-23T05:02:38.287199Z",
     "iopub.status.idle": "2024-04-23T05:02:38.296410Z",
     "shell.execute_reply": "2024-04-23T05:02:38.295661Z"
    },
    "lines_to_next_cell": 1,
    "papermill": {
     "duration": 0.019341,
     "end_time": "2024-04-23T05:02:38.298282",
     "exception": false,
     "start_time": "2024-04-23T05:02:38.278941",
     "status": "completed"
    },
    "tags": []
   },
   "outputs": [],
   "source": [
    "# https://leetcode.com/problems/number-of-enclaves/submissions/1238117024\n",
    "def numEnclaves(grid: list[list[int]]) -> int:\n",
    "    \"Time: O(M x N), Space: O(M x N) recursion stack space\"\n",
    "    M, N = len(grid), len(grid[0])\n",
    "\n",
    "    def DFS(row: int, col: int):\n",
    "        grid[row][col] = 0\n",
    "        for x, y in [(-1, 0), (0, -1), (0, 1), (1, 0)]:\n",
    "            i_, j_ = row + x, col + y\n",
    "            if 0 <= i_ < M and 0 <= j_ < N and grid[i_][j_] == 1:\n",
    "                DFS(i_, j_)\n",
    "\n",
    "    for i in range(M):\n",
    "        for j in range(N):\n",
    "            if (i in (0, M - 1) or j in (0, N - 1)) and grid[i][j] == 1:\n",
    "                DFS(i, j)\n",
    "\n",
    "    enclaves = 0\n",
    "    for i in range(M):\n",
    "        for j in range(N):\n",
    "            if grid[i][j] == 1:\n",
    "                enclaves += 1\n",
    "\n",
    "    return enclaves\n",
    "\n",
    "# Testing the solution\n",
    "assert numEnclaves([[0,0,0,0],[1,0,1,0],[0,1,1,0],[0,0,0,0]]) == 3\n",
    "assert numEnclaves([[0,1,1,0],[0,0,1,0],[0,0,1,0],[0,0,0,0]]) == 0"
   ]
  },
  {
   "cell_type": "markdown",
   "id": "83ddc4a6",
   "metadata": {
    "papermill": {
     "duration": 0.007464,
     "end_time": "2024-04-23T05:02:38.313626",
     "exception": false,
     "start_time": "2024-04-23T05:02:38.306162",
     "status": "completed"
    },
    "tags": []
   },
   "source": [
    "Video link: https://youtu.be/7zmgQSJghpo?si=VR9VnvBwe-esRaau\n",
    "Distinct Islands"
   ]
  },
  {
   "cell_type": "code",
   "execution_count": 14,
   "id": "77dd14f8",
   "metadata": {
    "execution": {
     "iopub.execute_input": "2024-04-23T05:02:38.330129Z",
     "iopub.status.busy": "2024-04-23T05:02:38.329583Z",
     "iopub.status.idle": "2024-04-23T05:02:38.340360Z",
     "shell.execute_reply": "2024-04-23T05:02:38.339709Z"
    },
    "lines_to_next_cell": 1,
    "papermill": {
     "duration": 0.02083,
     "end_time": "2024-04-23T05:02:38.342003",
     "exception": false,
     "start_time": "2024-04-23T05:02:38.321173",
     "status": "completed"
    },
    "tags": []
   },
   "outputs": [],
   "source": [
    "def distinctIsland(arr: list[list[int]], N: int, M: int) :\n",
    "    \"Time: O(M x N), Space: O(M x N)\"\n",
    "\n",
    "    islands: set[tuple[tuple[int, int], ...]] = set()\n",
    "    visited: set[tuple[int, int]] = set()\n",
    "\n",
    "    def BFS(row: int, col: int) -> tuple[tuple[int, int], ...]:\n",
    "        # Time: O(M x N)\n",
    "        queue: collections.deque = collections.deque([(row, col)])\n",
    "        island: list[tuple[int, int]] = []\n",
    "        while queue:\n",
    "            i, j = queue.popleft()\n",
    "            if 0 <= i < N and 0 <= j < M and (i, j) not in visited and arr[i][j] == 1:\n",
    "                visited.add((i, j))\n",
    "                island.append((i - row, j - col))\n",
    "                queue.extend([(i - 1, j), (i, j - 1), (i, j + 1), (i + 1, j)])\n",
    "\n",
    "        return tuple(island)\n",
    "\n",
    "    for i in range(N):\n",
    "        for j in range(M):\n",
    "            if arr[i][j] == 1:\n",
    "                island: tuple[tuple[int, int], ...] = BFS(i, j)\n",
    "                if island:\n",
    "                    islands.add(island)\n",
    "\n",
    "    return len(islands)\n",
    "\n",
    "# Testing the solution\n",
    "assert distinctIsland([[1, 1, 0, 0, 0], [1, 1, 0, 0, 0], [0, 0, 0, 1, 1], [0, 0, 0, 1, 1]], 4, 5) == 1\n",
    "assert distinctIsland([[1, 1, 0, 1, 1], [1, 0, 0, 0, 0], [0, 0, 0, 0, 1], [1, 1, 0, 1, 1]], 4, 5) == 3"
   ]
  },
  {
   "cell_type": "markdown",
   "id": "f49a3367",
   "metadata": {
    "papermill": {
     "duration": 0.007594,
     "end_time": "2024-04-23T05:02:38.357161",
     "exception": false,
     "start_time": "2024-04-23T05:02:38.349567",
     "status": "completed"
    },
    "tags": []
   },
   "source": [
    "Video Link: https://youtu.be/-vu34sct1g8?si=H2DEd5HB-B6oAU4p\n",
    "Bipartite Graph (BFS): https://leetcode.com/problems/is-graph-bipartite/description/"
   ]
  },
  {
   "cell_type": "code",
   "execution_count": 15,
   "id": "8584fbc4",
   "metadata": {
    "execution": {
     "iopub.execute_input": "2024-04-23T05:02:38.373454Z",
     "iopub.status.busy": "2024-04-23T05:02:38.373221Z",
     "iopub.status.idle": "2024-04-23T05:02:38.382857Z",
     "shell.execute_reply": "2024-04-23T05:02:38.382211Z"
    },
    "lines_to_next_cell": 1,
    "papermill": {
     "duration": 0.01954,
     "end_time": "2024-04-23T05:02:38.384465",
     "exception": false,
     "start_time": "2024-04-23T05:02:38.364925",
     "status": "completed"
    },
    "tags": []
   },
   "outputs": [],
   "source": [
    "def isBipartite(graph: list[list[int]]) -> bool:\n",
    "    \"Time: O(N), Space: O(N)\"\n",
    "    visited: dict[int, bool] = dict()\n",
    "    def checkBipartiteBFS(root: int) -> bool:\n",
    "        # https://leetcode.com/problems/is-graph-bipartite/submissions/1238665067\n",
    "        queue: collections.deque = collections.deque([(root, True)])\n",
    "        while queue:\n",
    "            curr, color = queue.popleft()\n",
    "            if curr not in visited:\n",
    "                visited[curr] = color\n",
    "                for next_ in graph[curr]:\n",
    "                    queue.append((next_, not color))\n",
    "            elif color != visited[curr]:\n",
    "                return False\n",
    "        return True\n",
    "\n",
    "    def checkBipartiteDFS(root: int) -> bool:\n",
    "        # https://leetcode.com/problems/is-graph-bipartite/submissions/1238671846/\n",
    "        stack: list[tuple[int, bool]] = [(root, True)]\n",
    "        while stack:\n",
    "            curr, color = stack.pop()\n",
    "            if curr not in visited:\n",
    "                visited[curr] = color\n",
    "                for next_ in graph[curr]:\n",
    "                    stack.append((next_, not color))\n",
    "            elif color != visited[curr]:\n",
    "                return False\n",
    "\n",
    "        return True\n",
    "\n",
    "    for curr in range(len(graph)):\n",
    "        if curr not in visited and not checkBipartiteDFS(curr):\n",
    "            return False\n",
    "\n",
    "    return True\n",
    "\n",
    "# Testing the solution\n",
    "assert isBipartite([[1,2,3],[0,2],[0,1,3],[0,2]]) == False\n",
    "assert isBipartite([[1,3],[0,2],[1,3],[0,2]]) == True"
   ]
  },
  {
   "cell_type": "markdown",
   "id": "b8c8a001",
   "metadata": {
    "papermill": {
     "duration": 0.007603,
     "end_time": "2024-04-23T05:02:38.399602",
     "exception": false,
     "start_time": "2024-04-23T05:02:38.391999",
     "status": "completed"
    },
    "tags": []
   },
   "source": [
    "Detect cycle in directed graph with DFS: https://youtu.be/9twcmtQj4DU?si=2xZsVlk1bdtLbHz5"
   ]
  },
  {
   "cell_type": "code",
   "execution_count": 16,
   "id": "f1cf48b4",
   "metadata": {
    "execution": {
     "iopub.execute_input": "2024-04-23T05:02:38.415911Z",
     "iopub.status.busy": "2024-04-23T05:02:38.415623Z",
     "iopub.status.idle": "2024-04-23T05:02:38.424100Z",
     "shell.execute_reply": "2024-04-23T05:02:38.423455Z"
    },
    "lines_to_next_cell": 1,
    "papermill": {
     "duration": 0.018532,
     "end_time": "2024-04-23T05:02:38.425714",
     "exception": false,
     "start_time": "2024-04-23T05:02:38.407182",
     "status": "completed"
    },
    "tags": []
   },
   "outputs": [],
   "source": [
    "def isCyclicDFS(V: int, E: int, edges: list[tuple[int, int]]) -> bool:\n",
    "    adjl: dict[int, list[int]] = dict()\n",
    "    for n1, n2 in edges:\n",
    "        n1_neighbours = adjl.get(n1, [])\n",
    "        n1_neighbours.append(n2)\n",
    "        adjl[n1] = n1_neighbours\n",
    "\n",
    "    def checkCycle(root: int, paths: set[int] = set()) -> bool:\n",
    "        if root in paths:\n",
    "            return True\n",
    "        elif root in visited:\n",
    "            return False\n",
    "        else:\n",
    "            visited.add(root)\n",
    "            paths.add(root)\n",
    "            for next_ in adjl.get(root, []):\n",
    "                if checkCycle(next_, paths):\n",
    "                    return True\n",
    "            paths.remove(root)\n",
    "            return False\n",
    "\n",
    "    visited: set[int] = set()\n",
    "    for curr in range(V):\n",
    "        if checkCycle(curr):\n",
    "            return True\n",
    "    else:\n",
    "        return False\n",
    "\n",
    "# Testing the solution\n",
    "assert isCyclicDFS(4, 4, [(0,1), (1,2), (2,3), (3,0)]) == True\n",
    "assert isCyclicDFS(3, 3, [(1,0), (1,2), (0,2)]) == False"
   ]
  },
  {
   "cell_type": "markdown",
   "id": "a75c6088",
   "metadata": {
    "papermill": {
     "duration": 0.007449,
     "end_time": "2024-04-23T05:02:38.440999",
     "exception": false,
     "start_time": "2024-04-23T05:02:38.433550",
     "status": "completed"
    },
    "tags": []
   },
   "source": [
    "Eventual Safe states (DFS): https://youtu.be/uRbJ1OF9aYM?si=8J-ujp8LUkpO887c"
   ]
  },
  {
   "cell_type": "code",
   "execution_count": 17,
   "id": "e3bfb6f2",
   "metadata": {
    "execution": {
     "iopub.execute_input": "2024-04-23T05:02:38.457272Z",
     "iopub.status.busy": "2024-04-23T05:02:38.456989Z",
     "iopub.status.idle": "2024-04-23T05:02:38.467171Z",
     "shell.execute_reply": "2024-04-23T05:02:38.466513Z"
    },
    "papermill": {
     "duration": 0.020368,
     "end_time": "2024-04-23T05:02:38.468869",
     "exception": false,
     "start_time": "2024-04-23T05:02:38.448501",
     "status": "completed"
    },
    "tags": []
   },
   "outputs": [],
   "source": [
    "# https://leetcode.com/problems/find-eventual-safe-states/submissions/1239573858\n",
    "def eventualSafeNodes(V: int, adj: list[list[int]]) -> list[int]:\n",
    "\n",
    "    # Visited - True if unsafe, False otherwise\n",
    "    visited: dict[int, bool] = dict()\n",
    "\n",
    "    def checkCycle(root: int, paths: set[int] = set()) -> bool:\n",
    "        if root in visited:\n",
    "            return visited[root]\n",
    "        elif root in paths:\n",
    "            return True\n",
    "        else:\n",
    "            paths.add(root)\n",
    "            for next_ in adj[root]:\n",
    "                if checkCycle(next_, paths):\n",
    "                    visited[root] = True\n",
    "                    return True\n",
    "\n",
    "            paths.remove(root)\n",
    "            visited[root] = False\n",
    "            return False\n",
    "\n",
    "    result: list[int] = []\n",
    "    for curr in range(V):\n",
    "        if not checkCycle(curr):\n",
    "            result.append(curr)\n",
    "\n",
    "    return result\n",
    "\n",
    "# Testing the solution\n",
    "assert eventualSafeNodes(7, [[1, 2], [2, 3], [5], [0], [5], [], []]) == [2, 4, 5, 6]\n",
    "assert eventualSafeNodes(4, [[1], [2], [0,3], []]) == [3]"
   ]
  }
 ],
 "metadata": {
  "kernelspec": {
   "display_name": "Python 3 (ipykernel)",
   "language": "python",
   "name": "python3"
  },
  "language_info": {
   "codemirror_mode": {
    "name": "ipython",
    "version": 3
   },
   "file_extension": ".py",
   "mimetype": "text/x-python",
   "name": "python",
   "nbconvert_exporter": "python",
   "pygments_lexer": "ipython3",
   "version": "3.10.14"
  },
  "papermill": {
   "default_parameters": {},
   "duration": 1.882397,
   "end_time": "2024-04-23T05:02:38.592873",
   "environment_variables": {},
   "exception": null,
   "input_path": "study/striver-A2Z/12-graphs.ipynb",
   "output_path": "study/striver-A2Z/12-graphs.ipynb",
   "parameters": {},
   "start_time": "2024-04-23T05:02:36.710476",
   "version": "2.5.0"
  }
 },
 "nbformat": 4,
 "nbformat_minor": 5
}