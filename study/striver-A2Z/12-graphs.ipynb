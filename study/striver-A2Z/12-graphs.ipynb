{
 "cells": [
  {
   "cell_type": "markdown",
   "id": "b7c72dfd",
   "metadata": {
    "papermill": {
     "duration": 0.012042,
     "end_time": "2024-04-25T16:58:39.132441",
     "exception": false,
     "start_time": "2024-04-25T16:58:39.120399",
     "status": "completed"
    },
    "tags": []
   },
   "source": [
    "#### Introduction to Graphs\n",
    "Video link: https://youtu.be/M3_pLsDdeuU?si=Bi_17bBfZUPqBU6K\n",
    "- Directed Graph: Graph with edges\n",
    "- Undirected Graph: Graph without edges\n",
    "- Cycle: Starting at node i, we are able to reach back to i again\n",
    "- DAG (Directed Acyclic Graph): Directed graph without any cycles\n",
    "- Degrees of a node (undirected): No of edges connected to that node\n",
    "- Indegree of a node (directed): No of incoming edges to a node\n",
    "- Outdegree of a node (directed): No of outgoing edges from a node\n",
    "- Property of an undirected of graph: Total degree = 2 * no. of edges (intuitively for edge we will be counting it twice on both ends of the connection)\n",
    "- Edge weights: Every edge of a graph is assigned a weight. If not provided, we can assume unit weight\n",
    "- Note that a graph can contain multiple components. A component is a set of nodes that can be reached from starting the traversal from one of the nodes."
   ]
  },
  {
   "cell_type": "markdown",
   "id": "cf960c9a",
   "metadata": {
    "lines_to_next_cell": 0,
    "papermill": {
     "duration": 0.010997,
     "end_time": "2024-04-25T16:58:39.154837",
     "exception": false,
     "start_time": "2024-04-25T16:58:39.143840",
     "status": "completed"
    },
    "tags": []
   },
   "source": [
    "#### Graph representation <br>\n",
    "Video Link: https://youtu.be/3oI-34aPMWM?si=ibTcfbzU8J9k-NHa\n",
    "1. Adjacency matrix: If N is no of nodes, create N x N grid.\n",
    "Each cell contains the weight if the edge between the two nodes.\n",
    "Connections may or may not exist. For undirected graphs, the\n",
    "matrix is symmetric around the diagnol. Space: O (N ^ 2)\n",
    "\n",
    "For eg: \n",
    "```\n",
    "0 1 2 3 4 5\n",
    "0 0 0 0 0 0\n",
    "1 0 1 2 0 0\n",
    "2 1 0 0 1 1\n",
    "3 2 0 0 0 0\n",
    "4 0 1 0 0 0\n",
    "5 0 1 0 0 0\n",
    "```\n",
    "\n",
    "2. Adjaceny list: Create an array of arrays or set of arrays. Each nested array at index denotes the nodes that index is connected to. Space: O(E), still be O (N ^ 2) in a complete graph. If it is a directed graph, each element in the nested array is a tuple of node that index is connected to along with the weight of that connection.\n",
    "\n",
    "For eg:\n",
    "```\n",
    "{\n",
    " 1: [(2, 1), (3, 2)]\n",
    " 2: [(4, 5)]\n",
    " 3: [(2, 2), (4, 1)]\n",
    "}\n",
    "```"
   ]
  },
  {
   "cell_type": "markdown",
   "id": "d7ecd5e5",
   "metadata": {
    "papermill": {
     "duration": 0.01093,
     "end_time": "2024-04-25T16:58:39.176793",
     "exception": false,
     "start_time": "2024-04-25T16:58:39.165863",
     "status": "completed"
    },
    "tags": []
   },
   "source": [
    "#### Misc about graphs\n",
    "- Bipartite Graph: Color the graph with 2 colors such that no adjacent nodes have the same color. More formally: A graph is bipartite if the nodes can be partitioned into two independent sets A and B such that every edge in the graph connects a node in set A and a node in set B.\n",
    "- Linear graphs without any cycles are always bipartite.\n",
    "- Cyclic graphs of even node length are always bipartite.\n",
    "- Cyclic graphs of odd node length are NOT bipartite.\n",
    "- Topological sortig is only valid for DAGs (Directed Acyclic graphs). Is topo sort, the vertices are ordered such that if there is an edge between vertex v1 and v2 then v1 appears before v2. There could be multiple ways in which the vertices are sorted.\n",
    "- Topological sorting with DFS involves pushing onto a stack at the end of recursive function.\n",
    "- Topological sorting with BFS involves an algorithm called as the Kahn's algorithm."
   ]
  },
  {
   "cell_type": "markdown",
   "id": "a321425e",
   "metadata": {
    "lines_to_next_cell": 0,
    "papermill": {
     "duration": 0.011035,
     "end_time": "2024-04-25T16:58:39.198937",
     "exception": false,
     "start_time": "2024-04-25T16:58:39.187902",
     "status": "completed"
    },
    "tags": []
   },
   "source": [
    "#### Helper functions and definitions"
   ]
  },
  {
   "cell_type": "code",
   "execution_count": 1,
   "id": "8c79edc4",
   "metadata": {
    "execution": {
     "iopub.execute_input": "2024-04-25T16:58:39.223230Z",
     "iopub.status.busy": "2024-04-25T16:58:39.222907Z",
     "iopub.status.idle": "2024-04-25T16:58:39.233244Z",
     "shell.execute_reply": "2024-04-25T16:58:39.232571Z"
    },
    "lines_to_next_cell": 1,
    "papermill": {
     "duration": 0.025074,
     "end_time": "2024-04-25T16:58:39.235123",
     "exception": false,
     "start_time": "2024-04-25T16:58:39.210049",
     "status": "completed"
    },
    "tags": []
   },
   "outputs": [],
   "source": [
    "import math\n",
    "import collections\n",
    "import itertools\n",
    "import typing"
   ]
  },
  {
   "cell_type": "markdown",
   "id": "fc260e41",
   "metadata": {
    "papermill": {
     "duration": 0.011377,
     "end_time": "2024-04-25T16:58:39.257995",
     "exception": false,
     "start_time": "2024-04-25T16:58:39.246618",
     "status": "completed"
    },
    "tags": []
   },
   "source": [
    "Video Link: https://youtu.be/-tgVpUgsQ5k?si=8HBt33CLyu9hTP1I\n",
    "BFS Search of a graph"
   ]
  },
  {
   "cell_type": "code",
   "execution_count": 2,
   "id": "2e42efd0",
   "metadata": {
    "execution": {
     "iopub.execute_input": "2024-04-25T16:58:39.283685Z",
     "iopub.status.busy": "2024-04-25T16:58:39.283084Z",
     "iopub.status.idle": "2024-04-25T16:58:39.290175Z",
     "shell.execute_reply": "2024-04-25T16:58:39.289372Z"
    },
    "lines_to_next_cell": 1,
    "papermill": {
     "duration": 0.020815,
     "end_time": "2024-04-25T16:58:39.291919",
     "exception": false,
     "start_time": "2024-04-25T16:58:39.271104",
     "status": "completed"
    },
    "tags": []
   },
   "outputs": [],
   "source": [
    "def bfsOfGraph(V: int, adj: list[list[int]]) -> list[int]:\n",
    "    result: list[int] = []\n",
    "    queue: collections.deque = collections.deque([0])\n",
    "    visited: set[int] = set()\n",
    "    while queue:\n",
    "        curr = queue.popleft()\n",
    "        if curr not in visited:\n",
    "            result.append(curr)\n",
    "            visited.add(curr)\n",
    "        queue.extend(adj[curr])\n",
    "\n",
    "    return result\n",
    "\n",
    "# Testing the solution\n",
    "assert bfsOfGraph(5, [[1,2,3],[],[4],[],[]]) == [0, 1, 2, 3, 4]\n",
    "assert bfsOfGraph(5, [[1,2],[],[]]) == [0, 1, 2]"
   ]
  },
  {
   "cell_type": "markdown",
   "id": "25de613f",
   "metadata": {
    "papermill": {
     "duration": 0.010879,
     "end_time": "2024-04-25T16:58:39.313646",
     "exception": false,
     "start_time": "2024-04-25T16:58:39.302767",
     "status": "completed"
    },
    "tags": []
   },
   "source": [
    "Video Link: https://youtu.be/Qzf1a--rhp8?si=Zb_XCqskGiK11gbB\n",
    "DFS Traversal"
   ]
  },
  {
   "cell_type": "code",
   "execution_count": 3,
   "id": "4a28e0ae",
   "metadata": {
    "execution": {
     "iopub.execute_input": "2024-04-25T16:58:39.336697Z",
     "iopub.status.busy": "2024-04-25T16:58:39.336113Z",
     "iopub.status.idle": "2024-04-25T16:58:39.345106Z",
     "shell.execute_reply": "2024-04-25T16:58:39.344417Z"
    },
    "lines_to_next_cell": 1,
    "papermill": {
     "duration": 0.022431,
     "end_time": "2024-04-25T16:58:39.346891",
     "exception": false,
     "start_time": "2024-04-25T16:58:39.324460",
     "status": "completed"
    },
    "tags": []
   },
   "outputs": [],
   "source": [
    "def depthFirstSearch(V: int, E: int, edges: list[list[int]]) -> list[list[int]]:\n",
    "    adjl: dict[int, list[int]] = dict()\n",
    "    for i in range(E):\n",
    "        n1, n2 = edges[i]\n",
    "        n1_edges, n2_edges = adjl.get(n1, []), adjl.get(n2, [])\n",
    "        n1_edges.append(n2)\n",
    "        n2_edges.append(n1)\n",
    "        adjl[n1], adjl[n2] = n1_edges, n2_edges\n",
    "\n",
    "    result: list[list[int]] = []\n",
    "    visited: set[int] = set()\n",
    "\n",
    "    # Time Complexity: O(N), Space: O(N)\n",
    "    for i in range(V):\n",
    "        stack: list[int] = [i]\n",
    "        components: list[int] = []\n",
    "        while stack:\n",
    "            curr = stack.pop()\n",
    "            if curr not in visited:\n",
    "                visited.add(curr)\n",
    "                components.append(curr)\n",
    "                for next_ in adjl.get(curr, []):\n",
    "                    stack.append(next_)\n",
    "\n",
    "        if components:\n",
    "            components.sort()\n",
    "            result.append(components)\n",
    "\n",
    "    return result\n",
    "\n",
    "# Testing the result\n",
    "assert depthFirstSearch(5, 4, [[0,2], [0,1], [1,2], [3,4]]) == [[0,1,2], [3,4]]"
   ]
  },
  {
   "cell_type": "markdown",
   "id": "a12cfaca",
   "metadata": {
    "papermill": {
     "duration": 0.011236,
     "end_time": "2024-04-25T16:58:39.369281",
     "exception": false,
     "start_time": "2024-04-25T16:58:39.358045",
     "status": "completed"
    },
    "tags": []
   },
   "source": [
    "Number of provinces: https://leetcode.com/problems/number-of-provinces/submissions/1237343247/\n",
    "Video Link: https://youtu.be/ACzkVtewUYA?si=wpzBiKJoOJQnFR18"
   ]
  },
  {
   "cell_type": "code",
   "execution_count": 4,
   "id": "672dd010",
   "metadata": {
    "execution": {
     "iopub.execute_input": "2024-04-25T16:58:39.392490Z",
     "iopub.status.busy": "2024-04-25T16:58:39.391866Z",
     "iopub.status.idle": "2024-04-25T16:58:39.398814Z",
     "shell.execute_reply": "2024-04-25T16:58:39.398059Z"
    },
    "lines_to_next_cell": 1,
    "papermill": {
     "duration": 0.020435,
     "end_time": "2024-04-25T16:58:39.400545",
     "exception": false,
     "start_time": "2024-04-25T16:58:39.380110",
     "status": "completed"
    },
    "tags": []
   },
   "outputs": [],
   "source": [
    "def findCircleNum(adjM: list[list[int]]) -> int:\n",
    "    N = len(adjM)\n",
    "\n",
    "    visited: set[int] = set()\n",
    "    def DFS(curr: int):\n",
    "        if curr not in visited:\n",
    "            visited.add(curr)\n",
    "            for i in range(N):\n",
    "                if adjM[curr][i]:\n",
    "                    DFS(i)\n",
    "\n",
    "    provinces: int = 0\n",
    "    for curr in range(N):\n",
    "        if curr not in visited:\n",
    "            DFS(curr)\n",
    "            provinces += 1\n",
    "\n",
    "    return provinces\n",
    "\n",
    "# Testing the solution\n",
    "assert findCircleNum([[1,1,0],[1,1,0],[0,0,1]]) == 2\n",
    "assert findCircleNum([[1,0,0],[0,1,0],[0,0,1]]) == 3"
   ]
  },
  {
   "cell_type": "markdown",
   "id": "bab63bca",
   "metadata": {
    "papermill": {
     "duration": 0.01085,
     "end_time": "2024-04-25T16:58:39.422249",
     "exception": false,
     "start_time": "2024-04-25T16:58:39.411399",
     "status": "completed"
    },
    "tags": []
   },
   "source": [
    "Video link: https://youtu.be/muncqlKJrH0?si=xcCfsKjX5tZd4kZJ\n",
    "Number of islands"
   ]
  },
  {
   "cell_type": "code",
   "execution_count": 5,
   "id": "968de0b8",
   "metadata": {
    "execution": {
     "iopub.execute_input": "2024-04-25T16:58:39.445077Z",
     "iopub.status.busy": "2024-04-25T16:58:39.444810Z",
     "iopub.status.idle": "2024-04-25T16:58:39.452283Z",
     "shell.execute_reply": "2024-04-25T16:58:39.451631Z"
    },
    "lines_to_next_cell": 1,
    "papermill": {
     "duration": 0.020914,
     "end_time": "2024-04-25T16:58:39.454002",
     "exception": false,
     "start_time": "2024-04-25T16:58:39.433088",
     "status": "completed"
    },
    "tags": []
   },
   "outputs": [],
   "source": [
    "def numIslands(grid: list[list[int]]) -> int:\n",
    "    N = len(grid)\n",
    "    M = len(grid[0])\n",
    "\n",
    "    def DFS(i: int, j: int):\n",
    "        if 0 <= i < N and 0 <= j < M and grid[i][j] == 1:\n",
    "            grid[i][j] = 0\n",
    "            for i_ in range(-1, 2):\n",
    "                for j_ in range(-1, 2):\n",
    "                    DFS(i + i_, j + j_)\n",
    "\n",
    "    islands = 0\n",
    "    for i_ in range(N):\n",
    "        for j_ in range(M):\n",
    "            if grid[i_][j_] == 1:\n",
    "                islands += 1\n",
    "                DFS(i_, j_)\n",
    "    return islands\n",
    "\n",
    "# Testing the solution\n",
    "assert numIslands([[0,1,1,1,0,0,0],[0,0,1,1,0,1,0]]) == 2\n",
    "assert numIslands([[0,1],[1,0],[1,1],[1,0]]) == 1"
   ]
  },
  {
   "cell_type": "markdown",
   "id": "10f09e20",
   "metadata": {
    "papermill": {
     "duration": 0.010837,
     "end_time": "2024-04-25T16:58:39.475777",
     "exception": false,
     "start_time": "2024-04-25T16:58:39.464940",
     "status": "completed"
    },
    "tags": []
   },
   "source": [
    "Video Link: https://youtu.be/C-2_uSRli8o?si=kwATM2glQc_Mpf76\n",
    "Flood fill: https://leetcode.com/problems/flood-fill/submissions/1237381436"
   ]
  },
  {
   "cell_type": "code",
   "execution_count": 6,
   "id": "1e1a36fc",
   "metadata": {
    "execution": {
     "iopub.execute_input": "2024-04-25T16:58:39.498440Z",
     "iopub.status.busy": "2024-04-25T16:58:39.498209Z",
     "iopub.status.idle": "2024-04-25T16:58:39.505620Z",
     "shell.execute_reply": "2024-04-25T16:58:39.504936Z"
    },
    "lines_to_next_cell": 1,
    "papermill": {
     "duration": 0.020801,
     "end_time": "2024-04-25T16:58:39.507393",
     "exception": false,
     "start_time": "2024-04-25T16:58:39.486592",
     "status": "completed"
    },
    "tags": []
   },
   "outputs": [],
   "source": [
    "def floodFill(image: list[list[int]], sr: int, sc: int, fill_color: int) -> list[list[int]]:\n",
    "\n",
    "    N, M = len(image), len(image[0])\n",
    "\n",
    "    start_color = image[sr][sc]\n",
    "    if start_color != fill_color:\n",
    "        queue: collections.deque = collections.deque([(sr, sc)])\n",
    "\n",
    "        while queue:\n",
    "            i, j = queue.popleft()\n",
    "            if 0 <= i < N and 0 <= j < M and image[i][j] == start_color:\n",
    "                image[i][j] = fill_color\n",
    "                queue.extend([(i - 1, j), (i, j - 1), (i, j + 1), (i + 1, j)])\n",
    "\n",
    "    return image\n",
    "\n",
    "# Testing the solution\n",
    "assert floodFill([[1,1,1],[1,1,0],[1,0,1]], 1, 1, 2) == [[2,2,2],[2,2,0],[2,0,1]]"
   ]
  },
  {
   "cell_type": "markdown",
   "id": "cb576964",
   "metadata": {
    "papermill": {
     "duration": 0.010802,
     "end_time": "2024-04-25T16:58:39.529049",
     "exception": false,
     "start_time": "2024-04-25T16:58:39.518247",
     "status": "completed"
    },
    "tags": []
   },
   "source": [
    "Video Link: https://youtu.be/yf3oUhkvqA0?si=A664tpMiA00GrxJV\n",
    "Rotten Oranges: https://leetcode.com/problems/rotting-oranges/submissions/1237760285"
   ]
  },
  {
   "cell_type": "code",
   "execution_count": 7,
   "id": "8b72ec9b",
   "metadata": {
    "execution": {
     "iopub.execute_input": "2024-04-25T16:58:39.552095Z",
     "iopub.status.busy": "2024-04-25T16:58:39.551465Z",
     "iopub.status.idle": "2024-04-25T16:58:39.563192Z",
     "shell.execute_reply": "2024-04-25T16:58:39.562444Z"
    },
    "lines_to_next_cell": 1,
    "papermill": {
     "duration": 0.025066,
     "end_time": "2024-04-25T16:58:39.564932",
     "exception": false,
     "start_time": "2024-04-25T16:58:39.539866",
     "status": "completed"
    },
    "tags": []
   },
   "outputs": [],
   "source": [
    "def orangesRotting(grid: list[list[int]]) -> int:\n",
    "    \"\"\"\n",
    "    BFS function can be optimized by using a queue. Each element is (i, j, time).\n",
    "    Further more instead of storing all fresh indices as a set, we can simply have a counter and decrement it every time we rot an orange.\n",
    "    Simple check if this counter is 0 before returning minutes.\n",
    "\n",
    "    Time: O(M x N), Space: O(M x N)\n",
    "    \"\"\"\n",
    "    N, M = len(grid), len(grid[0])\n",
    "\n",
    "    rotten: list[tuple[int, int]] = []\n",
    "    def BFS() -> int:\n",
    "        nonlocal rotten\n",
    "        min_: int = 0\n",
    "        while rotten:\n",
    "            newly_rotten = False\n",
    "            next_: list[tuple[int, int]] = []\n",
    "            for i_, j_ in rotten:\n",
    "                if 0 <= i_ < N and 0 <= j_ < M and grid[i_][j_] == 1:\n",
    "                    grid[i_][j_] = 2\n",
    "                    fresh.remove((i_, j_))\n",
    "                    next_.extend([(i_ - 1, j_), (i_, j_ - 1), (i_, j_ + 1), (i_ + 1, j_)])\n",
    "                    newly_rotten = True\n",
    "\n",
    "            min_ += int(newly_rotten)\n",
    "            rotten = next_\n",
    "\n",
    "        return min_\n",
    "\n",
    "    fresh: set[tuple[int, int]] = set()\n",
    "    for i in range(N):\n",
    "        for j in range(M):\n",
    "            if grid[i][j] == 1:\n",
    "                fresh.add((i, j))\n",
    "            if grid[i][j] == 2:\n",
    "                grid[i][j] = 2\n",
    "                rotten.extend([(i - 1, j), (i, j - 1), (i, j + 1), (i + 1, j)])\n",
    "\n",
    "    minutes = BFS()\n",
    "    return minutes if not fresh else -1\n",
    "\n",
    "# Testing the solution\n",
    "assert orangesRotting([[2,1,1],[1,1,0],[0,1,1]]) == 4\n",
    "assert orangesRotting([[2,1,1],[0,1,1],[1,0,1]]) == -1\n",
    "assert orangesRotting([[2,1,1],[1,1,1],[0,1,2]]) == 2"
   ]
  },
  {
   "cell_type": "markdown",
   "id": "eef4c409",
   "metadata": {
    "papermill": {
     "duration": 0.010975,
     "end_time": "2024-04-25T16:58:39.586924",
     "exception": false,
     "start_time": "2024-04-25T16:58:39.575949",
     "status": "completed"
    },
    "tags": []
   },
   "source": [
    "Detect cycle with Graph (BFS / DFS)\n",
    "Video Link BFS: https://youtu.be/BPlrALf1LDU?si=U9u9H_9xiHo8oflx\n",
    "Video Link DFS: https://youtu.be/zQ3zgFypzX4?si=trbPI1I4DfRMcrj5"
   ]
  },
  {
   "cell_type": "code",
   "execution_count": 8,
   "id": "342b6f3b",
   "metadata": {
    "execution": {
     "iopub.execute_input": "2024-04-25T16:58:39.610267Z",
     "iopub.status.busy": "2024-04-25T16:58:39.609626Z",
     "iopub.status.idle": "2024-04-25T16:58:39.621176Z",
     "shell.execute_reply": "2024-04-25T16:58:39.620431Z"
    },
    "lines_to_next_cell": 1,
    "papermill": {
     "duration": 0.025165,
     "end_time": "2024-04-25T16:58:39.623074",
     "exception": false,
     "start_time": "2024-04-25T16:58:39.597909",
     "status": "completed"
    },
    "tags": []
   },
   "outputs": [],
   "source": [
    "def detectCycle(V: int, E: int, edges: list[tuple[int, int]]):\n",
    "    \"\"\"\n",
    "    BFS:\n",
    "\n",
    "    Starting at node i we branch outwards. If some node is visited again and that node didn't come from curr node then we have a cycle\n",
    "    We check if the next node comes from curr by storing the parent in the queue.\n",
    "\n",
    "    We can save duplicate work for disconnected components by storing visited outside of the BFS function. Remember to add the parent != -1 condition.\n",
    "\n",
    "    Time: O(N), Space: O(N)\n",
    "\n",
    "    DFS:\n",
    "\n",
    "    Starting at node i, if we are able to reach node i again via DFS, then the graph has a cycle.\n",
    "    To make sure we don't visit the parent again, we store the parent node in the stack.\n",
    "\n",
    "    Time: O(N), Space: O(N)\n",
    "    \"\"\"\n",
    "    adjl: dict[int, list[int]] = dict()\n",
    "    for n1, n2 in edges:\n",
    "        n1_neighbours, n2_neighbours = adjl.get(n1, []), adjl.get(n2, [])\n",
    "        n1_neighbours.append(n2)\n",
    "        n2_neighbours.append(n1)\n",
    "        adjl[n1], adjl[n2] = n1_neighbours, n2_neighbours\n",
    "\n",
    "    def BFS(root: int) -> bool:\n",
    "        queue: collections.deque = collections.deque([(root, -1)])\n",
    "        while queue:\n",
    "            curr, parent = queue.popleft()\n",
    "            visited.add(curr)\n",
    "            for next_ in adjl.get(curr, []):\n",
    "                if next_ not in visited:\n",
    "                    queue.append((next_, curr))\n",
    "                elif parent != -1 and next_ != parent:\n",
    "                    return True\n",
    "        else:\n",
    "            return False\n",
    "\n",
    "    def DFS(root: int) -> bool:\n",
    "        stack: list[tuple[int, int]] = [(root, -1)]\n",
    "        while stack:\n",
    "            curr, parent = stack.pop()\n",
    "            if curr not in visited:\n",
    "                visited.add(curr)\n",
    "                for next_ in adjl.get(curr, []):\n",
    "                    if next_ != parent:\n",
    "                        stack.append((next_, curr))\n",
    "\n",
    "            elif parent != -1:\n",
    "                return True\n",
    "\n",
    "        return False\n",
    "\n",
    "    visited: set[int] = set()\n",
    "    for curr in range(V):\n",
    "        if DFS(curr):\n",
    "            return True\n",
    "    else:\n",
    "        return False\n",
    "\n",
    "assert detectCycle(5, 3, [(0, 1), (1, 2), (3, 4)]) == False\n",
    "assert detectCycle(4, 4, [(0, 1), (1, 2), (2, 3), (3, 0)]) == True"
   ]
  },
  {
   "cell_type": "markdown",
   "id": "86e956f5",
   "metadata": {
    "papermill": {
     "duration": 0.010865,
     "end_time": "2024-04-25T16:58:39.644958",
     "exception": false,
     "start_time": "2024-04-25T16:58:39.634093",
     "status": "completed"
    },
    "tags": []
   },
   "source": [
    "Video Link: https://youtu.be/edXdVwkYHF8?si=oTave6oul5GbDHrn\n",
    "01 Matrix: https://leetcode.com/problems/01-matrix/"
   ]
  },
  {
   "cell_type": "code",
   "execution_count": 9,
   "id": "14c07211",
   "metadata": {
    "execution": {
     "iopub.execute_input": "2024-04-25T16:58:39.668045Z",
     "iopub.status.busy": "2024-04-25T16:58:39.667467Z",
     "iopub.status.idle": "2024-04-25T16:58:39.678000Z",
     "shell.execute_reply": "2024-04-25T16:58:39.677264Z"
    },
    "lines_to_next_cell": 1,
    "papermill": {
     "duration": 0.023845,
     "end_time": "2024-04-25T16:58:39.679636",
     "exception": false,
     "start_time": "2024-04-25T16:58:39.655791",
     "status": "completed"
    },
    "tags": []
   },
   "outputs": [],
   "source": [
    "def updateMatrixBrute(mat: list[list[int]]) -> list[list[int]]:\n",
    "    M, N = len(mat), len(mat[0])\n",
    "    result: list[list[int]] = [[-1 for i in range(N)] for j in range(M)]\n",
    "\n",
    "    def BFS(row: int, col: int) -> int:\n",
    "        queue: collections.deque = collections.deque([(row, col, 0)])\n",
    "        visited: set[tuple[int, int]] = set()\n",
    "        while queue:\n",
    "            i, j, dist = queue.popleft()\n",
    "            if (i, j) not in visited and 0 <= i < M and 0 <= j < N:\n",
    "                visited.add((i, j))\n",
    "                if mat[i][j] == 0:\n",
    "                    return dist\n",
    "                else:\n",
    "                    queue.extend([(i - 1, j, dist + 1), (i, j - 1, dist + 1), (i, j + 1, dist + 1), (i + 1, j, dist + 1)])\n",
    "\n",
    "        return -1\n",
    "\n",
    "    for i in range(M):\n",
    "        for j in range(N):\n",
    "            result[i][j] = BFS(i, j)\n",
    "\n",
    "    return result\n",
    "\n",
    "# Testing the solution\n",
    "assert updateMatrixBrute([[0,0,0],[0,1,0],[0,0,0]]) == [[0,0,0],[0,1,0],[0,0,0]]\n",
    "assert updateMatrixBrute([[0,0,0],[0,1,0],[1,1,1]]) == [[0,0,0],[0,1,0],[1,2,1]]"
   ]
  },
  {
   "cell_type": "code",
   "execution_count": 10,
   "id": "251805ef",
   "metadata": {
    "execution": {
     "iopub.execute_input": "2024-04-25T16:58:39.702982Z",
     "iopub.status.busy": "2024-04-25T16:58:39.702368Z",
     "iopub.status.idle": "2024-04-25T16:58:39.715401Z",
     "shell.execute_reply": "2024-04-25T16:58:39.714755Z"
    },
    "lines_to_next_cell": 1,
    "papermill": {
     "duration": 0.026382,
     "end_time": "2024-04-25T16:58:39.716996",
     "exception": false,
     "start_time": "2024-04-25T16:58:39.690614",
     "status": "completed"
    },
    "tags": []
   },
   "outputs": [],
   "source": [
    "# https://leetcode.com/problems/01-matrix/submissions/1238008344\n",
    "def updateMatrixBetter(mat: list[list[int]]) -> list[list[float]]:\n",
    "    M, N = len(mat), len(mat[0])\n",
    "    result: list[list[float]] = [[math.inf for j in range(N)] for i in range(M)]\n",
    "\n",
    "    # Go right to left to find the nearest 0 on the right\n",
    "    for i in range(M):\n",
    "        for j in range(N - 1, -1, -1):\n",
    "            if mat[i][j] == 0:\n",
    "                result[i][j] = 0\n",
    "            else:\n",
    "                dist = result[i][j + 1] + 1 if j < N - 1 else math.inf\n",
    "                result[i][j] = min(dist, result[i][j])\n",
    "\n",
    "    # Go left to right to find the nearest 0 on the left\n",
    "    for i in range(M):\n",
    "        for j in range(N):\n",
    "            if mat[i][j] == 0:\n",
    "                result[i][j] = 0\n",
    "            else:\n",
    "                dist = result[i][j - 1] + 1 if j > 0 else math.inf\n",
    "                result[i][j] = min(dist, result[i][j])\n",
    "\n",
    "    # Go top to bottom to find the nearest 0 on the top\n",
    "    for i in range(M):\n",
    "        for j in range(N):\n",
    "            if mat[i][j] == 0:\n",
    "                result[i][j] = 0\n",
    "            else:\n",
    "                dist = result[i - 1][j] + 1 if i > 0 else math.inf\n",
    "                result[i][j] = min(dist, result[i][j])\n",
    "\n",
    "    # Go bottom to top to find the nearest 0 on the bottom\n",
    "    for i in range(M - 1, -1, -1):\n",
    "        for j in range(N):\n",
    "            if mat[i][j] == 0:\n",
    "                result[i][j] = 0\n",
    "            else:\n",
    "                dist = result[i + 1][j] + 1 if i < M - 1 else math.inf\n",
    "                result[i][j] = min(dist, result[i][j])\n",
    "\n",
    "    return result\n",
    "\n",
    "# Testing the solution\n",
    "assert updateMatrixBetter([[0,0,0],[0,1,0],[0,0,0]]) == [[0,0,0],[0,1,0],[0,0,0]]\n",
    "assert updateMatrixBetter([[0,0,0],[0,1,0],[1,1,1]]) == [[0,0,0],[0,1,0],[1,2,1]]"
   ]
  },
  {
   "cell_type": "code",
   "execution_count": 11,
   "id": "9469ade5",
   "metadata": {
    "execution": {
     "iopub.execute_input": "2024-04-25T16:58:39.740604Z",
     "iopub.status.busy": "2024-04-25T16:58:39.739770Z",
     "iopub.status.idle": "2024-04-25T16:58:39.750029Z",
     "shell.execute_reply": "2024-04-25T16:58:39.749376Z"
    },
    "lines_to_next_cell": 1,
    "papermill": {
     "duration": 0.023766,
     "end_time": "2024-04-25T16:58:39.751758",
     "exception": false,
     "start_time": "2024-04-25T16:58:39.727992",
     "status": "completed"
    },
    "tags": []
   },
   "outputs": [],
   "source": [
    "# https://leetcode.com/problems/01-matrix/submissions/1238019317/\n",
    "def updateMatrix(mat: list[list[int]]) -> list[list[float]]:\n",
    "    \"\"\"Time: O(M x N), Space: O(M x N)\"\"\"\n",
    "\n",
    "    M, N = len(mat), len(mat[0])\n",
    "    result: list[list[float]] = [[math.inf for j in range(N)] for i in range(M)]\n",
    "\n",
    "    # Collect all nodes that are having 0 values: i, j, dist\n",
    "    queue: collections.deque = collections.deque()\n",
    "    for i in range(M):\n",
    "        for j in range(N):\n",
    "            if mat[i][j] == 0:\n",
    "                queue.append((i, j, 0))\n",
    "\n",
    "    # Start to traverse BFS together\n",
    "    visited: set[tuple[int, int]] = set()\n",
    "    while queue:\n",
    "        i, j, dist = queue.popleft()\n",
    "        if 0 <= i < M and 0 <= j < N and (i, j) not in visited:\n",
    "            result[i][j] = dist\n",
    "            visited.add((i, j))\n",
    "            queue.extend([(i - 1, j, dist + 1), (i, j - 1, dist + 1), (i, j + 1, dist + 1), (i + 1, j, dist + 1)])\n",
    "\n",
    "    return result\n",
    "\n",
    "# Testing the solution\n",
    "assert updateMatrix([[0,0,0],[0,1,0],[0,0,0]]) == [[0,0,0],[0,1,0],[0,0,0]]\n",
    "assert updateMatrix([[0,0,0],[0,1,0],[1,1,1]]) == [[0,0,0],[0,1,0],[1,2,1]]"
   ]
  },
  {
   "cell_type": "markdown",
   "id": "0b3a1d29",
   "metadata": {
    "papermill": {
     "duration": 0.010886,
     "end_time": "2024-04-25T16:58:39.773656",
     "exception": false,
     "start_time": "2024-04-25T16:58:39.762770",
     "status": "completed"
    },
    "tags": []
   },
   "source": [
    "Video Link: https://youtu.be/BtdgAys4yMk?si=BLc-UXXR9XvQV8Mf\n",
    "Surrounded Regions: https://leetcode.com/problems/surrounded-regions/description/"
   ]
  },
  {
   "cell_type": "code",
   "execution_count": 12,
   "id": "3610e726",
   "metadata": {
    "execution": {
     "iopub.execute_input": "2024-04-25T16:58:39.796903Z",
     "iopub.status.busy": "2024-04-25T16:58:39.796213Z",
     "iopub.status.idle": "2024-04-25T16:58:39.807934Z",
     "shell.execute_reply": "2024-04-25T16:58:39.807176Z"
    },
    "lines_to_next_cell": 1,
    "papermill": {
     "duration": 0.025155,
     "end_time": "2024-04-25T16:58:39.809648",
     "exception": false,
     "start_time": "2024-04-25T16:58:39.784493",
     "status": "completed"
    },
    "tags": []
   },
   "outputs": [],
   "source": [
    "# https://leetcode.com/problems/surrounded-regions/submissions/1238092752\n",
    "def solve(board: list[list[str]]) -> None:\n",
    "    \"Time: O(M x N), Time: O(M x N)\"\n",
    "    M, N = len(board), len(board[0])\n",
    "\n",
    "    stack: list[tuple[int, int]] = []\n",
    "    visited: set[tuple[int, int]] = set()\n",
    "\n",
    "    # Capture all zeros at the borders\n",
    "    for i in range(M):\n",
    "        for j in range(N):\n",
    "            if (i in (0, M - 1) or j in (0, N - 1)) and board[i][j] == \"O\":\n",
    "                stack.append((i, j))\n",
    "\n",
    "    # Do a DFS and mark zeros into visited\n",
    "    while stack:\n",
    "        i, j = stack.pop()\n",
    "        visited.add((i, j))\n",
    "        for x, y in [(-1, 0), (0, -1), (0, 1), (1, 0)]:\n",
    "            row, col = i + x, j + y\n",
    "            if 0 <= row < M and 0 <= col < N and board[row][col] == 'O' and (row, col) not in visited:\n",
    "                stack.append((row, col))\n",
    "\n",
    "    # Visited set contains all 'O' adjacent to 'O's that cannot be flipped\n",
    "    for i in range(M):\n",
    "        for j in range(N):\n",
    "            if (i, j) not in visited:\n",
    "                board[i][j] = \"X\"\n",
    "\n",
    "# Testing the solution\n",
    "for inp, op in [\n",
    "    (\n",
    "        [[\"X\",\"X\",\"X\",\"X\"],[\"X\",\"O\",\"O\",\"X\"],[\"X\",\"X\",\"O\",\"X\"],[\"X\",\"O\",\"X\",\"X\"]],\n",
    "        [[\"X\",\"X\",\"X\",\"X\"],[\"X\",\"X\",\"X\",\"X\"],[\"X\",\"X\",\"X\",\"X\"],[\"X\",\"O\",\"X\",\"X\"]]\n",
    "    ),\n",
    "    (\n",
    "        [[\"X\",\"X\",\"X\",\"X\"],[\"X\",\"O\",\"O\",\"X\"],[\"X\",\"X\",\"O\",\"X\"],[\"X\",\"X\",\"O\",\"X\"]],\n",
    "        [[\"X\",\"X\",\"X\",\"X\"],[\"X\",\"O\",\"O\",\"X\"],[\"X\",\"X\",\"O\",\"X\"],[\"X\",\"X\",\"O\",\"X\"]]\n",
    "    )\n",
    "]:\n",
    "    solve(inp)\n",
    "    assert inp == op"
   ]
  },
  {
   "cell_type": "markdown",
   "id": "0b264d5d",
   "metadata": {
    "papermill": {
     "duration": 0.011058,
     "end_time": "2024-04-25T16:58:39.831791",
     "exception": false,
     "start_time": "2024-04-25T16:58:39.820733",
     "status": "completed"
    },
    "tags": []
   },
   "source": [
    "Number of Enclaves\n",
    "Video Link: https://youtu.be/7zmgQSJghpo?si=XSGlRuO_V105V2XK"
   ]
  },
  {
   "cell_type": "code",
   "execution_count": 13,
   "id": "5647a7a1",
   "metadata": {
    "execution": {
     "iopub.execute_input": "2024-04-25T16:58:39.855230Z",
     "iopub.status.busy": "2024-04-25T16:58:39.854571Z",
     "iopub.status.idle": "2024-04-25T16:58:39.863827Z",
     "shell.execute_reply": "2024-04-25T16:58:39.863082Z"
    },
    "lines_to_next_cell": 1,
    "papermill": {
     "duration": 0.022914,
     "end_time": "2024-04-25T16:58:39.865522",
     "exception": false,
     "start_time": "2024-04-25T16:58:39.842608",
     "status": "completed"
    },
    "tags": []
   },
   "outputs": [],
   "source": [
    "# https://leetcode.com/problems/number-of-enclaves/submissions/1238117024\n",
    "def numEnclaves(grid: list[list[int]]) -> int:\n",
    "    \"Time: O(M x N), Space: O(M x N) recursion stack space\"\n",
    "    M, N = len(grid), len(grid[0])\n",
    "\n",
    "    def DFS(row: int, col: int):\n",
    "        grid[row][col] = 0\n",
    "        for x, y in [(-1, 0), (0, -1), (0, 1), (1, 0)]:\n",
    "            i_, j_ = row + x, col + y\n",
    "            if 0 <= i_ < M and 0 <= j_ < N and grid[i_][j_] == 1:\n",
    "                DFS(i_, j_)\n",
    "\n",
    "    for i in range(M):\n",
    "        for j in range(N):\n",
    "            if (i in (0, M - 1) or j in (0, N - 1)) and grid[i][j] == 1:\n",
    "                DFS(i, j)\n",
    "\n",
    "    enclaves = 0\n",
    "    for i in range(M):\n",
    "        for j in range(N):\n",
    "            if grid[i][j] == 1:\n",
    "                enclaves += 1\n",
    "\n",
    "    return enclaves\n",
    "\n",
    "# Testing the solution\n",
    "assert numEnclaves([[0,0,0,0],[1,0,1,0],[0,1,1,0],[0,0,0,0]]) == 3\n",
    "assert numEnclaves([[0,1,1,0],[0,0,1,0],[0,0,1,0],[0,0,0,0]]) == 0"
   ]
  },
  {
   "cell_type": "markdown",
   "id": "83ddc4a6",
   "metadata": {
    "papermill": {
     "duration": 0.010932,
     "end_time": "2024-04-25T16:58:39.887470",
     "exception": false,
     "start_time": "2024-04-25T16:58:39.876538",
     "status": "completed"
    },
    "tags": []
   },
   "source": [
    "Video link: https://youtu.be/7zmgQSJghpo?si=VR9VnvBwe-esRaau\n",
    "Distinct Islands"
   ]
  },
  {
   "cell_type": "code",
   "execution_count": 14,
   "id": "77dd14f8",
   "metadata": {
    "execution": {
     "iopub.execute_input": "2024-04-25T16:58:39.911163Z",
     "iopub.status.busy": "2024-04-25T16:58:39.910444Z",
     "iopub.status.idle": "2024-04-25T16:58:39.921491Z",
     "shell.execute_reply": "2024-04-25T16:58:39.920739Z"
    },
    "lines_to_next_cell": 1,
    "papermill": {
     "duration": 0.024887,
     "end_time": "2024-04-25T16:58:39.923316",
     "exception": false,
     "start_time": "2024-04-25T16:58:39.898429",
     "status": "completed"
    },
    "tags": []
   },
   "outputs": [],
   "source": [
    "def distinctIsland(arr: list[list[int]], N: int, M: int) :\n",
    "    \"Time: O(M x N), Space: O(M x N)\"\n",
    "\n",
    "    islands: set[tuple[tuple[int, int], ...]] = set()\n",
    "    visited: set[tuple[int, int]] = set()\n",
    "\n",
    "    def BFS(row: int, col: int) -> tuple[tuple[int, int], ...]:\n",
    "        # Time: O(M x N)\n",
    "        queue: collections.deque = collections.deque([(row, col)])\n",
    "        island: list[tuple[int, int]] = []\n",
    "        while queue:\n",
    "            i, j = queue.popleft()\n",
    "            if 0 <= i < N and 0 <= j < M and (i, j) not in visited and arr[i][j] == 1:\n",
    "                visited.add((i, j))\n",
    "                island.append((i - row, j - col))\n",
    "                queue.extend([(i - 1, j), (i, j - 1), (i, j + 1), (i + 1, j)])\n",
    "\n",
    "        return tuple(island)\n",
    "\n",
    "    for i in range(N):\n",
    "        for j in range(M):\n",
    "            if arr[i][j] == 1:\n",
    "                island: tuple[tuple[int, int], ...] = BFS(i, j)\n",
    "                if island:\n",
    "                    islands.add(island)\n",
    "\n",
    "    return len(islands)\n",
    "\n",
    "# Testing the solution\n",
    "assert distinctIsland([[1, 1, 0, 0, 0], [1, 1, 0, 0, 0], [0, 0, 0, 1, 1], [0, 0, 0, 1, 1]], 4, 5) == 1\n",
    "assert distinctIsland([[1, 1, 0, 1, 1], [1, 0, 0, 0, 0], [0, 0, 0, 0, 1], [1, 1, 0, 1, 1]], 4, 5) == 3"
   ]
  },
  {
   "cell_type": "markdown",
   "id": "f49a3367",
   "metadata": {
    "papermill": {
     "duration": 0.011062,
     "end_time": "2024-04-25T16:58:39.945435",
     "exception": false,
     "start_time": "2024-04-25T16:58:39.934373",
     "status": "completed"
    },
    "tags": []
   },
   "source": [
    "Video Link: https://youtu.be/-vu34sct1g8?si=H2DEd5HB-B6oAU4p\n",
    "Bipartite Graph (BFS): https://leetcode.com/problems/is-graph-bipartite/description/"
   ]
  },
  {
   "cell_type": "code",
   "execution_count": 15,
   "id": "8584fbc4",
   "metadata": {
    "execution": {
     "iopub.execute_input": "2024-04-25T16:58:39.968688Z",
     "iopub.status.busy": "2024-04-25T16:58:39.968003Z",
     "iopub.status.idle": "2024-04-25T16:58:39.977831Z",
     "shell.execute_reply": "2024-04-25T16:58:39.977054Z"
    },
    "lines_to_next_cell": 1,
    "papermill": {
     "duration": 0.023208,
     "end_time": "2024-04-25T16:58:39.979442",
     "exception": false,
     "start_time": "2024-04-25T16:58:39.956234",
     "status": "completed"
    },
    "tags": []
   },
   "outputs": [],
   "source": [
    "def isBipartite(graph: list[list[int]]) -> bool:\n",
    "    \"Time: O(N), Space: O(N)\"\n",
    "    visited: dict[int, bool] = dict()\n",
    "    def checkBipartiteBFS(root: int) -> bool:\n",
    "        # https://leetcode.com/problems/is-graph-bipartite/submissions/1238665067\n",
    "        queue: collections.deque = collections.deque([(root, True)])\n",
    "        while queue:\n",
    "            curr, color = queue.popleft()\n",
    "            if curr not in visited:\n",
    "                visited[curr] = color\n",
    "                for next_ in graph[curr]:\n",
    "                    queue.append((next_, not color))\n",
    "            elif color != visited[curr]:\n",
    "                return False\n",
    "        return True\n",
    "\n",
    "    def checkBipartiteDFS(root: int) -> bool:\n",
    "        # https://leetcode.com/problems/is-graph-bipartite/submissions/1238671846/\n",
    "        stack: list[tuple[int, bool]] = [(root, True)]\n",
    "        while stack:\n",
    "            curr, color = stack.pop()\n",
    "            if curr not in visited:\n",
    "                visited[curr] = color\n",
    "                for next_ in graph[curr]:\n",
    "                    stack.append((next_, not color))\n",
    "            elif color != visited[curr]:\n",
    "                return False\n",
    "\n",
    "        return True\n",
    "\n",
    "    for curr in range(len(graph)):\n",
    "        if curr not in visited and not checkBipartiteDFS(curr):\n",
    "            return False\n",
    "\n",
    "    return True\n",
    "\n",
    "# Testing the solution\n",
    "assert isBipartite([[1,2,3],[0,2],[0,1,3],[0,2]]) == False\n",
    "assert isBipartite([[1,3],[0,2],[1,3],[0,2]]) == True"
   ]
  },
  {
   "cell_type": "markdown",
   "id": "b8c8a001",
   "metadata": {
    "papermill": {
     "duration": 0.010827,
     "end_time": "2024-04-25T16:58:40.001193",
     "exception": false,
     "start_time": "2024-04-25T16:58:39.990366",
     "status": "completed"
    },
    "tags": []
   },
   "source": [
    "Detect cycle in directed graph with DFS: https://youtu.be/9twcmtQj4DU?si=2xZsVlk1bdtLbHz5"
   ]
  },
  {
   "cell_type": "code",
   "execution_count": 16,
   "id": "f1cf48b4",
   "metadata": {
    "execution": {
     "iopub.execute_input": "2024-04-25T16:58:40.025251Z",
     "iopub.status.busy": "2024-04-25T16:58:40.024541Z",
     "iopub.status.idle": "2024-04-25T16:58:40.033227Z",
     "shell.execute_reply": "2024-04-25T16:58:40.032578Z"
    },
    "lines_to_next_cell": 1,
    "papermill": {
     "duration": 0.022891,
     "end_time": "2024-04-25T16:58:40.034953",
     "exception": false,
     "start_time": "2024-04-25T16:58:40.012062",
     "status": "completed"
    },
    "tags": []
   },
   "outputs": [],
   "source": [
    "def isCyclicDFS(V: int, E: int, edges: list[tuple[int, int]]) -> bool:\n",
    "    adjl: dict[int, list[int]] = dict()\n",
    "    for n1, n2 in edges:\n",
    "        n1_neighbours = adjl.get(n1, [])\n",
    "        n1_neighbours.append(n2)\n",
    "        adjl[n1] = n1_neighbours\n",
    "\n",
    "    def checkCycle(root: int, paths: set[int] = set()) -> bool:\n",
    "        if root in paths:\n",
    "            return True\n",
    "        elif root in visited:\n",
    "            return False\n",
    "        else:\n",
    "            visited.add(root)\n",
    "            paths.add(root)\n",
    "            for next_ in adjl.get(root, []):\n",
    "                if checkCycle(next_, paths):\n",
    "                    return True\n",
    "            paths.remove(root)\n",
    "            return False\n",
    "\n",
    "    visited: set[int] = set()\n",
    "    for curr in range(V):\n",
    "        if checkCycle(curr):\n",
    "            return True\n",
    "    else:\n",
    "        return False\n",
    "\n",
    "# Testing the solution\n",
    "assert isCyclicDFS(4, 4, [(0,1), (1,2), (2,3), (3,0)]) == True\n",
    "assert isCyclicDFS(3, 3, [(1,0), (1,2), (0,2)]) == False"
   ]
  },
  {
   "cell_type": "markdown",
   "id": "a75c6088",
   "metadata": {
    "papermill": {
     "duration": 0.011058,
     "end_time": "2024-04-25T16:58:40.057245",
     "exception": false,
     "start_time": "2024-04-25T16:58:40.046187",
     "status": "completed"
    },
    "tags": []
   },
   "source": [
    "Eventual Safe states (DFS): https://youtu.be/uRbJ1OF9aYM?si=8J-ujp8LUkpO887c"
   ]
  },
  {
   "cell_type": "code",
   "execution_count": 17,
   "id": "e3bfb6f2",
   "metadata": {
    "execution": {
     "iopub.execute_input": "2024-04-25T16:58:40.080918Z",
     "iopub.status.busy": "2024-04-25T16:58:40.080182Z",
     "iopub.status.idle": "2024-04-25T16:58:40.090702Z",
     "shell.execute_reply": "2024-04-25T16:58:40.089949Z"
    },
    "lines_to_next_cell": 1,
    "papermill": {
     "duration": 0.024391,
     "end_time": "2024-04-25T16:58:40.092491",
     "exception": false,
     "start_time": "2024-04-25T16:58:40.068100",
     "status": "completed"
    },
    "tags": []
   },
   "outputs": [],
   "source": [
    "# https://leetcode.com/problems/find-eventual-safe-states/submissions/1239573858\n",
    "def eventualSafeNodes(V: int, adj: list[list[int]]) -> list[int]:\n",
    "\n",
    "    # Visited - True if unsafe, False otherwise\n",
    "    visited: dict[int, bool] = dict()\n",
    "\n",
    "    def checkCycle(root: int, paths: set[int] = set()) -> bool:\n",
    "        if root in visited:\n",
    "            return visited[root]\n",
    "        elif root in paths:\n",
    "            return True\n",
    "        else:\n",
    "            paths.add(root)\n",
    "            for next_ in adj[root]:\n",
    "                if checkCycle(next_, paths):\n",
    "                    visited[root] = True\n",
    "                    return True\n",
    "\n",
    "            paths.remove(root)\n",
    "            visited[root] = False\n",
    "            return False\n",
    "\n",
    "    result: list[int] = []\n",
    "    for curr in range(V):\n",
    "        if not checkCycle(curr):\n",
    "            result.append(curr)\n",
    "\n",
    "    return result\n",
    "\n",
    "# Testing the solution\n",
    "assert eventualSafeNodes(7, [[1, 2], [2, 3], [5], [0], [5], [], []]) == [2, 4, 5, 6]\n",
    "assert eventualSafeNodes(4, [[1], [2], [0,3], []]) == [3]"
   ]
  },
  {
   "cell_type": "markdown",
   "id": "e2a1e13b",
   "metadata": {
    "papermill": {
     "duration": 0.010868,
     "end_time": "2024-04-25T16:58:40.114547",
     "exception": false,
     "start_time": "2024-04-25T16:58:40.103679",
     "status": "completed"
    },
    "tags": []
   },
   "source": [
    "Topological sorting DFS: https://youtu.be/5lZ0iJMrUMk?si=lSTD3o2QoGGjiwxO"
   ]
  },
  {
   "cell_type": "code",
   "execution_count": 18,
   "id": "806cdb46",
   "metadata": {
    "execution": {
     "iopub.execute_input": "2024-04-25T16:58:40.137859Z",
     "iopub.status.busy": "2024-04-25T16:58:40.137241Z",
     "iopub.status.idle": "2024-04-25T16:58:40.149486Z",
     "shell.execute_reply": "2024-04-25T16:58:40.148743Z"
    },
    "lines_to_next_cell": 1,
    "papermill": {
     "duration": 0.025693,
     "end_time": "2024-04-25T16:58:40.151082",
     "exception": false,
     "start_time": "2024-04-25T16:58:40.125389",
     "status": "completed"
    },
    "tags": []
   },
   "outputs": [
    {
     "data": {
      "text/plain": [
       "[0, 3, 1, 2, 4]"
      ]
     },
     "execution_count": 18,
     "metadata": {},
     "output_type": "execute_result"
    }
   ],
   "source": [
    "def topologicalSortBetter(adj: dict[int, list[int]], V: int, E: int):\n",
    "    \"Time: O((V + E) x log (V + E)), Space: O(N)\"\n",
    "    def calcWeights(root: int) -> int:\n",
    "        if root in weights:\n",
    "            return weights[root]\n",
    "        else:\n",
    "            weight = 1\n",
    "            for next_ in adj.get(root, []):\n",
    "                weight += calcWeights(next_)\n",
    "\n",
    "            weights[root] = weight\n",
    "            return weight\n",
    "\n",
    "    weights: dict[int, int] = dict()\n",
    "    result: list[int] = []\n",
    "    for curr in range(V):\n",
    "        calcWeights(curr)\n",
    "        result.append(curr)\n",
    "\n",
    "    result.sort(key=lambda x: weights[x], reverse=True)\n",
    "    return result\n",
    "\n",
    "# Testing the solution\n",
    "topologicalSortBetter({0: [2,4], 1: [2], 3: [1]}, 5, 4)"
   ]
  },
  {
   "cell_type": "code",
   "execution_count": 19,
   "id": "8365f0a8",
   "metadata": {
    "execution": {
     "iopub.execute_input": "2024-04-25T16:58:40.174933Z",
     "iopub.status.busy": "2024-04-25T16:58:40.174225Z",
     "iopub.status.idle": "2024-04-25T16:58:40.183272Z",
     "shell.execute_reply": "2024-04-25T16:58:40.182538Z"
    },
    "lines_to_next_cell": 1,
    "papermill": {
     "duration": 0.022502,
     "end_time": "2024-04-25T16:58:40.184859",
     "exception": false,
     "start_time": "2024-04-25T16:58:40.162357",
     "status": "completed"
    },
    "tags": []
   },
   "outputs": [
    {
     "data": {
      "text/plain": [
       "[5, 4, 2, 3, 1, 0]"
      ]
     },
     "execution_count": 19,
     "metadata": {},
     "output_type": "execute_result"
    }
   ],
   "source": [
    "# Much more brilliant and clean approach from Striver\n",
    "def topologicalSortDFS(adj: dict[int, list[int]], V: int, E: int):\n",
    "    \"Time: O(V + E), Space: O(N)\"\n",
    "    def backtrack(root: int):\n",
    "        if root in visited:\n",
    "            return\n",
    "        else:\n",
    "            visited.add(root)\n",
    "            for next_ in adj.get(root, []):\n",
    "                backtrack(next_)\n",
    "            stack.append(root)\n",
    "\n",
    "    visited: set[int] = set()\n",
    "    stack: list[int] = []\n",
    "    for curr in range(V):\n",
    "        backtrack(curr)\n",
    "\n",
    "    stack.reverse()\n",
    "    return stack\n",
    "\n",
    "# Testing the solution\n",
    "topologicalSortDFS({0: [], 1: [], 2: [3], 3: [1], 4: [0,1], 5: [0,2]}, 6, 6)"
   ]
  },
  {
   "cell_type": "markdown",
   "id": "166e867d",
   "metadata": {
    "papermill": {
     "duration": 0.011066,
     "end_time": "2024-04-25T16:58:40.207136",
     "exception": false,
     "start_time": "2024-04-25T16:58:40.196070",
     "status": "completed"
    },
    "tags": []
   },
   "source": [
    "Topological Sorting with BFS (Kahn's Algorithm): https://youtu.be/73sneFXuTEg?si=TeG_vMqnXLz2NR6M"
   ]
  },
  {
   "cell_type": "code",
   "execution_count": 20,
   "id": "9aca2f0e",
   "metadata": {
    "execution": {
     "iopub.execute_input": "2024-04-25T16:58:40.231067Z",
     "iopub.status.busy": "2024-04-25T16:58:40.230402Z",
     "iopub.status.idle": "2024-04-25T16:58:40.241148Z",
     "shell.execute_reply": "2024-04-25T16:58:40.240419Z"
    },
    "lines_to_next_cell": 1,
    "papermill": {
     "duration": 0.024497,
     "end_time": "2024-04-25T16:58:40.242783",
     "exception": false,
     "start_time": "2024-04-25T16:58:40.218286",
     "status": "completed"
    },
    "tags": []
   },
   "outputs": [
    {
     "data": {
      "text/plain": [
       "[4, 5, 0, 2, 3, 1]"
      ]
     },
     "execution_count": 20,
     "metadata": {},
     "output_type": "execute_result"
    }
   ],
   "source": [
    "def topologicalSortBFS(adj: dict[int, list[int]], V: int, E: int):\n",
    "    \"\"\"\n",
    "    Topo sort using BFS - Kahn's Algo.\n",
    "\n",
    "    1. Figure out all nodes with indegree 0 and insert them into a queue.\n",
    "    2. Iterate across the elements of the queue and on each step, we decrease indegree of all adjancent nodes.\n",
    "    3. Once iterated across all neighbouring nodes we insert the node into our linear ordering.\n",
    "\n",
    "    Time: O(V + E), Space: O(N)\n",
    "    \"\"\"\n",
    "\n",
    "    # Compute the indegree of all nodes\n",
    "    indegree: dict[int, int] = dict()\n",
    "    for n1 in range(V):\n",
    "        for n2 in adj[n1]:\n",
    "            indegree[n2] = indegree.get(n2, 0) + 1\n",
    "\n",
    "    # All nodes with indegree 0 are added to our queue\n",
    "    queue: collections.deque = collections.deque()\n",
    "    for n1 in range(V):\n",
    "        if n1 not in indegree:\n",
    "            indegree[n1] = 0\n",
    "            queue.append(n1)\n",
    "\n",
    "    # BFS, popout nodes with 0 indegrees.\n",
    "    # Iterate through neighbours and decrease indegree by 1.\n",
    "    # If indegree becomes 0, append to our queue.\n",
    "    result: list[int] = []\n",
    "    while queue:\n",
    "        n1 = queue.popleft()\n",
    "        for n2 in adj.get(n1, []):\n",
    "            indegree[n2] = indegree[n2] - 1\n",
    "            if indegree[n2] == 0:\n",
    "                queue.append(n2)\n",
    "        result.append(n1)\n",
    "\n",
    "    return result\n",
    "\n",
    "# Testing the solution\n",
    "topologicalSortBFS({0: [], 1: [], 2: [3], 3: [1], 4: [0,1], 5: [0,2]}, 6, 6)"
   ]
  },
  {
   "cell_type": "markdown",
   "id": "318e0702",
   "metadata": {
    "papermill": {
     "duration": 0.011222,
     "end_time": "2024-04-25T16:58:40.265387",
     "exception": false,
     "start_time": "2024-04-25T16:58:40.254165",
     "status": "completed"
    },
    "tags": []
   },
   "source": [
    "Video Link: https://youtu.be/WAOfKpxYHR8?si=KdXRvzRuinvS50gx"
   ]
  },
  {
   "cell_type": "markdown",
   "id": "bd6a415c",
   "metadata": {
    "papermill": {
     "duration": 0.011289,
     "end_time": "2024-04-25T16:58:40.288144",
     "exception": false,
     "start_time": "2024-04-25T16:58:40.276855",
     "status": "completed"
    },
    "tags": []
   },
   "source": [
    "Course schedule - 1: https://leetcode.com/problems/course-schedule/submissions/1240848705/"
   ]
  },
  {
   "cell_type": "code",
   "execution_count": 21,
   "id": "d2aca589",
   "metadata": {
    "execution": {
     "iopub.execute_input": "2024-04-25T16:58:40.312450Z",
     "iopub.status.busy": "2024-04-25T16:58:40.311761Z",
     "iopub.status.idle": "2024-04-25T16:58:40.321188Z",
     "shell.execute_reply": "2024-04-25T16:58:40.320562Z"
    },
    "lines_to_next_cell": 1,
    "papermill": {
     "duration": 0.023469,
     "end_time": "2024-04-25T16:58:40.322900",
     "exception": false,
     "start_time": "2024-04-25T16:58:40.299431",
     "status": "completed"
    },
    "tags": []
   },
   "outputs": [],
   "source": [
    "def canFinish(numCourses: int, prerequisites: list[list[int]]) -> bool:\n",
    "    \"\"\"\n",
    "    Run Kahn's algorithm and check the topological sort output. If length of op < numCourses, we have a cycle.\n",
    "\n",
    "    Time: O(V + E), Space: O(V)\n",
    "    \"\"\"\n",
    "\n",
    "    # Create an adjacency list\n",
    "    adj: dict[int, list[int]] = dict()\n",
    "    for n1, n2 in prerequisites:\n",
    "        n1_neighbours = adj.get(n1, [])\n",
    "        n1_neighbours.append(n2)\n",
    "        adj[n1] = n1_neighbours\n",
    "\n",
    "    # Compute indegree for all nodes\n",
    "    indegree: dict[int, int] = dict()\n",
    "    for edges in adj.values():\n",
    "        for n1 in edges:\n",
    "            indegree[n1] = indegree.get(n1, 0) + 1\n",
    "\n",
    "    # Find out nodes with 0 indegree (terminal nodes)\n",
    "    queue: collections.deque = collections.deque()\n",
    "    for n1 in range(numCourses):\n",
    "        if n1 not in indegree:\n",
    "            indegree[n1] = 0\n",
    "            queue.append(n1)\n",
    "\n",
    "    # BFS on queue, remove indegree to all neighbours of curr node. If neighbour indegree becomes 0, append to queue.\n",
    "    while queue:\n",
    "        curr = queue.popleft()\n",
    "        for next_ in adj.get(curr, []):\n",
    "            indegree[next_] -= 1\n",
    "            if indegree[next_] == 0:\n",
    "                queue.append(next_)\n",
    "\n",
    "        numCourses -= 1\n",
    "\n",
    "    return numCourses == 0\n",
    "\n",
    "# Testing the solution\n",
    "assert canFinish(2, [[1,0]]) == True\n",
    "assert canFinish(2, [[1,0],[0,1]]) == False"
   ]
  },
  {
   "cell_type": "markdown",
   "id": "f8a6e7b3",
   "metadata": {
    "papermill": {
     "duration": 0.011198,
     "end_time": "2024-04-25T16:58:40.345410",
     "exception": false,
     "start_time": "2024-04-25T16:58:40.334212",
     "status": "completed"
    },
    "tags": []
   },
   "source": [
    "Course schedule - 2: https://leetcode.com/problems/course-schedule-ii/submissions/1240905168/"
   ]
  },
  {
   "cell_type": "code",
   "execution_count": 22,
   "id": "04331e57",
   "metadata": {
    "execution": {
     "iopub.execute_input": "2024-04-25T16:58:40.369877Z",
     "iopub.status.busy": "2024-04-25T16:58:40.369125Z",
     "iopub.status.idle": "2024-04-25T16:58:40.380279Z",
     "shell.execute_reply": "2024-04-25T16:58:40.379448Z"
    },
    "lines_to_next_cell": 1,
    "papermill": {
     "duration": 0.025488,
     "end_time": "2024-04-25T16:58:40.382322",
     "exception": false,
     "start_time": "2024-04-25T16:58:40.356834",
     "status": "completed"
    },
    "tags": []
   },
   "outputs": [],
   "source": [
    "def findOrder(numCourses: int, prerequisites: list[tuple[int, int]]) -> list[int]:\n",
    "    # Create an adjacency list\n",
    "    adj: dict[int, list[int]] = dict()\n",
    "    for n1, n2 in prerequisites:\n",
    "        n1_neighbours = adj.get(n1, [])\n",
    "        n1_neighbours.append(n2)\n",
    "        adj[n1] = n1_neighbours\n",
    "\n",
    "    # Compute indegree for all nodes\n",
    "    indegree: dict[int, int] = dict()\n",
    "    for edges in adj.values():\n",
    "        for n1 in edges:\n",
    "            indegree[n1] = indegree.get(n1, 0) + 1\n",
    "\n",
    "    # Find out nodes with 0 indegree (terminal nodes)\n",
    "    queue: collections.deque = collections.deque()\n",
    "    for n1 in range(numCourses):\n",
    "        if n1 not in indegree:\n",
    "            indegree[n1] = 0\n",
    "            queue.append(n1)\n",
    "\n",
    "    # Store the ordering into a list\n",
    "    result: list[int] = []\n",
    "    while queue:\n",
    "        n1 = queue.popleft()\n",
    "        for n2 in adj.get(n1, []):\n",
    "            indegree[n2] -= 1\n",
    "            if indegree[n2] == 0:\n",
    "                queue.append(n2)\n",
    "        result.append(n1)\n",
    "\n",
    "    result.reverse()\n",
    "    return result if len(result) == numCourses else []\n",
    "\n",
    "# Testing the solution\n",
    "for inp in [\n",
    "        [(1,0),(2,0),(3,1),(3,2)], [(1,0)], [(0,1),(1,2),(2,0)]\n",
    "    ]:\n",
    "        op = {n: i for i, n in enumerate(findOrder(4, inp))}\n",
    "        if not op:\n",
    "            V, E = max(map(max, inp)), len(inp)\n",
    "            assert isCyclicDFS(V, E, inp)\n",
    "        else:\n",
    "            for n1, n2 in inp:\n",
    "                assert op[n1] > op[n2]"
   ]
  },
  {
   "cell_type": "markdown",
   "id": "7cc4aaeb",
   "metadata": {
    "papermill": {
     "duration": 0.011422,
     "end_time": "2024-04-25T16:58:40.423600",
     "exception": false,
     "start_time": "2024-04-25T16:58:40.412178",
     "status": "completed"
    },
    "tags": []
   },
   "source": [
    "Video link: https://youtu.be/2gtg3VsDGyc?si=l4U9ljeQk6vBufj-\n",
    "Eventual Safe States with BFS"
   ]
  },
  {
   "cell_type": "code",
   "execution_count": 23,
   "id": "f5f3c530",
   "metadata": {
    "execution": {
     "iopub.execute_input": "2024-04-25T16:58:40.448033Z",
     "iopub.status.busy": "2024-04-25T16:58:40.447341Z",
     "iopub.status.idle": "2024-04-25T16:58:40.457061Z",
     "shell.execute_reply": "2024-04-25T16:58:40.456315Z"
    },
    "lines_to_next_cell": 1,
    "papermill": {
     "duration": 0.023803,
     "end_time": "2024-04-25T16:58:40.458766",
     "exception": false,
     "start_time": "2024-04-25T16:58:40.434963",
     "status": "completed"
    },
    "tags": []
   },
   "outputs": [],
   "source": [
    "# https://leetcode.com/problems/find-eventual-safe-states/submissions/1241269468\n",
    "def eventualSafeNodesBFS(V: int, graph: list[list[int]]) -> list[int]:\n",
    "    \"\"\"\n",
    "    1. Reverse all edges and perform a topo sort.\n",
    "    2. All unsafe elements are auto eliminated.\n",
    "\n",
    "    The way Kahn's algorithm works is to BFS across the nodes with indegree 0 and eliminating the edges one by one.\n",
    "    By swapping the edges we get terminal nodes to have an indegree of 0 (outdegree was 0 initially).\n",
    "\n",
    "    We traverse until we cover all nodes that are connected to terminal nodes. Nodes that are not connected to terminal nodes are unsafe.\n",
    "\n",
    "    Time: O(V log V), Space: O(V + E)\n",
    "    \"\"\"\n",
    "\n",
    "    # Swap the edges, compute the indegree\n",
    "    indegree: dict[int, int] = dict()\n",
    "    adj: dict[int, list[int]] = dict()\n",
    "    for n1 in range(V):\n",
    "        for n2 in graph[n1]:\n",
    "            n2_neighbours = adj.get(n2, [])\n",
    "            n2_neighbours.append(n1)\n",
    "            adj[n2] = n2_neighbours\n",
    "            indegree[n1] = indegree.get(n1, 0) + 1\n",
    "\n",
    "    # Store all nodes with 0 indegree to our queue\n",
    "    queue: collections.deque = collections.deque()\n",
    "    for n1 in range(V):\n",
    "        if n1 not in indegree:\n",
    "            indegree[n1] = 0\n",
    "            queue.append(n1)\n",
    "\n",
    "    # Do a BFS traversal\n",
    "    result: list[int] = []\n",
    "    while queue:\n",
    "        n1 = queue.popleft()\n",
    "        result.append(n1)\n",
    "        for n2 in adj.get(n1, []):\n",
    "            indegree[n2] -= 1\n",
    "            if indegree[n2] == 0:\n",
    "                queue.append(n2)\n",
    "\n",
    "    return sorted(result)\n",
    "\n",
    "# Testing the solution\n",
    "assert eventualSafeNodesBFS(7, [[1, 2], [2, 3], [5], [0], [5], [], []]) == [2, 4, 5, 6]\n",
    "assert eventualSafeNodesBFS(4, [[1], [2], [0,3], []]) == [3]"
   ]
  },
  {
   "cell_type": "markdown",
   "id": "08156d76",
   "metadata": {
    "papermill": {
     "duration": 0.011311,
     "end_time": "2024-04-25T16:58:40.481500",
     "exception": false,
     "start_time": "2024-04-25T16:58:40.470189",
     "status": "completed"
    },
    "tags": []
   },
   "source": [
    "Video Link: https://youtu.be/U3N_je7tWAs?si=ZkvYEfyaDOVehnEa\n",
    "Alien Dictionary"
   ]
  },
  {
   "cell_type": "code",
   "execution_count": 24,
   "id": "42166b86",
   "metadata": {
    "execution": {
     "iopub.execute_input": "2024-04-25T16:58:40.506365Z",
     "iopub.status.busy": "2024-04-25T16:58:40.505788Z",
     "iopub.status.idle": "2024-04-25T16:58:40.517936Z",
     "shell.execute_reply": "2024-04-25T16:58:40.517216Z"
    },
    "lines_to_next_cell": 1,
    "papermill": {
     "duration": 0.026162,
     "end_time": "2024-04-25T16:58:40.519572",
     "exception": false,
     "start_time": "2024-04-25T16:58:40.493410",
     "status": "completed"
    },
    "tags": []
   },
   "outputs": [
    {
     "name": "stdout",
     "output_type": "stream",
     "text": [
      "['b', 'd', 'a', 'c']\n",
      "['c', 'a', 'b']\n"
     ]
    }
   ],
   "source": [
    "def alienDictionaryOrder(alien_dict: list[str], N: int, K: int) -> list[str]:\n",
    "    \"\"\"\n",
    "    Define a function that given two strings inorder as they appear in dictionary, can calculate relative ordering of characters in it.\n",
    "    Run the above function across all words in the dictionary (all possible pairs) to get the edges of the graph.\n",
    "\n",
    "    Once the relative ordering is captured, perform a topo sort.\n",
    "\n",
    "    Follow up: What if the dictionary is incorrect?\n",
    "    Check 1: String of larger length say: \"abc\" appears before string of smaller length: \"ab\" (char are matching until min length)\n",
    "    Check 2: If there is a cycle: [\"abc\", \"bcd\", \"ade\"] (when inserting an edge to adj, we can check if opp edge doesn't exist: a -> b exists, then b -> a should not exist)\n",
    "    \"\"\"\n",
    "\n",
    "    adj: dict[str, set[str]] = dict()\n",
    "    nodes: list[str] = [chr(i + ord('a')) for i in range(K)]\n",
    "    def computeOrdering(str1: str, str2: str):\n",
    "        N1, N2 = len(str1), len(str2)\n",
    "        i = 0\n",
    "        while i < N1 and i < N2:\n",
    "            n1, n2 = str1[i], str2[i]\n",
    "            i += 1\n",
    "            if n1 != n2:\n",
    "                n1_neighbours = adj.get(n1, set())\n",
    "                n1_neighbours.add(n2)\n",
    "                adj[n1] = n1_neighbours\n",
    "                return\n",
    "\n",
    "    # Compute ordering for all pairs\n",
    "    for i in range(N - 1):\n",
    "        computeOrdering(alien_dict[i], alien_dict[i + 1])\n",
    "\n",
    "    # Compute the indegree\n",
    "    indegree: dict[str, int] = dict()\n",
    "    for k in adj:\n",
    "        for v in adj[k]:\n",
    "            indegree[v] = indegree.get(v, 0) + 1\n",
    "\n",
    "    # Store all nodes with 0 indegree to queue\n",
    "    queue: collections.deque = collections.deque()\n",
    "    for curr in nodes:\n",
    "        if curr not in indegree:\n",
    "            indegree[curr] = 0\n",
    "            queue.append(curr)\n",
    "\n",
    "    result: list[str] = []\n",
    "    while queue:\n",
    "        curr = queue.popleft()\n",
    "        result.append(curr)\n",
    "        for next_ in adj.get(curr, []):\n",
    "            indegree[next_] -= 1\n",
    "            if indegree[next_] == 0:\n",
    "                queue.append(next_)\n",
    "\n",
    "    return result\n",
    "\n",
    "# Testing the solution\n",
    "print(alienDictionaryOrder([\"baa\",\"abcd\",\"abca\",\"cab\",\"cad\"], 5, 4))\n",
    "print(alienDictionaryOrder([\"caa\",\"aaa\",\"aab\"], 3, 3))"
   ]
  },
  {
   "cell_type": "markdown",
   "id": "ddb547c5",
   "metadata": {
    "papermill": {
     "duration": 0.011553,
     "end_time": "2024-04-25T16:58:40.542980",
     "exception": false,
     "start_time": "2024-04-25T16:58:40.531427",
     "status": "completed"
    },
    "tags": []
   },
   "source": [
    "Video Link: https://youtu.be/ZUFQfFaU-8U?si=SRwWuuRJN53CMn_w\n",
    "Shortest path in DAG (topological sorting)"
   ]
  },
  {
   "cell_type": "code",
   "execution_count": 25,
   "id": "29f9d887",
   "metadata": {
    "execution": {
     "iopub.execute_input": "2024-04-25T16:58:40.567393Z",
     "iopub.status.busy": "2024-04-25T16:58:40.566781Z",
     "iopub.status.idle": "2024-04-25T16:58:40.577659Z",
     "shell.execute_reply": "2024-04-25T16:58:40.576855Z"
    },
    "lines_to_next_cell": 1,
    "papermill": {
     "duration": 0.024823,
     "end_time": "2024-04-25T16:58:40.579407",
     "exception": false,
     "start_time": "2024-04-25T16:58:40.554584",
     "status": "completed"
    },
    "tags": []
   },
   "outputs": [],
   "source": [
    "def shortestPathInDAG(N: int, edges: list[list[int]], src: int) -> list[int]:\n",
    "    \"\"\"\n",
    "    1. Do a topo sort: DFS (stack).\n",
    "    2. Take nodes out of the stack and relax the edges.\n",
    "\n",
    "    Topo sorted stack works before we start with the guy that doesn't have any nodes before it.\n",
    "    As we progress into the stack, we would have travelled sequentially and nodes that comes before have already been computed.\n",
    "    \"\"\"\n",
    "\n",
    "    # Create the adjacency list out of the edges provided\n",
    "    adj: dict[int, list[tuple[int, int]]] = dict()\n",
    "    for n1, n2, w in edges:\n",
    "        n1_neighbours = adj.get(n1, [])\n",
    "        n1_neighbours.append((n2, w))\n",
    "        adj[n1] = n1_neighbours\n",
    "\n",
    "    # Perform a Topo sort and store result to stack\n",
    "    def topoDFS(root: int):\n",
    "        if root not in visited:\n",
    "            visited.add(root)\n",
    "            for next_, _ in adj.get(root, []):\n",
    "                topoDFS(next_)\n",
    "            stack.append(root)\n",
    "\n",
    "    stack: list[int] = []\n",
    "    visited: set[int] = set()\n",
    "    for curr in range(N):\n",
    "        topoDFS(curr)\n",
    "\n",
    "    # No appending to stack, simply continue popping and relax the edges\n",
    "    result: list[float] = [math.inf for _ in range(N)]\n",
    "    result[src] = 0\n",
    "    while stack:\n",
    "        curr = stack.pop()\n",
    "        for next_, next_dist in adj.get(curr, []):\n",
    "            result[next_] = min(result[curr] + next_dist, result[next_])\n",
    "\n",
    "    for i in range(N):\n",
    "        result[i] = result[i] if math.isfinite(result[i]) else -1\n",
    "\n",
    "    return list(map(int, result))\n",
    "\n",
    "# Testing the solution\n",
    "assert shortestPathInDAG(3, [[0,1,2], [1,2,3], [0,2,6]], 0) == [0, 2, 5]\n",
    "assert shortestPathInDAG(3, [[2,0,4],[0,1,3],[2,1,2]], 0) == [0, 3, -1]"
   ]
  },
  {
   "cell_type": "markdown",
   "id": "59089a00",
   "metadata": {
    "papermill": {
     "duration": 0.011541,
     "end_time": "2024-04-25T16:58:40.602733",
     "exception": false,
     "start_time": "2024-04-25T16:58:40.591192",
     "status": "completed"
    },
    "tags": []
   },
   "source": [
    "Shortest path in undirected graph with unit weights\n",
    "Video link: https://youtu.be/C4gxoTaI71U?si=NQRmSQ7skeZnz9V0\n",
    "def shortestPath(edges: list[list[int]], N: int, M: int, src: int) -> list[int]:\n",
    "    # Create an adjacency list\n",
    "    adj: dict[int, list[int]] = dict()\n",
    "    for n1, n2 in edges:\n",
    "        n1_neighbours, n2_neighbours = adj.get(n1, []), adj.get(n2, [])\n",
    "        n1_neighbours.append(n2)\n",
    "        n2_neighbours.append(n1)\n",
    "        adj[n1], adj[n2] = n1_neighbours, n2_neighbours\n",
    "\n",
    "    # Perform a DFS traversal starting from source\n",
    "    def DFS(root: int, dist: int):\n",
    "        if distances[root] == -1 or distances[root] > dist:\n",
    "            distances[root] = dist\n",
    "            for next_ in adj.get(root, []):\n",
    "                DFS(next_, dist + 1)\n",
    "\n",
    "    # Perform BFS, only visit nodes not already visited, that way the shortest distance would already be saved.\n",
    "    # Since all edges are unit dist, we are guaranteed not to get a shorter distance.\n",
    "    def BFS(root: int):\n",
    "        queue: collections.deque = collections.deque([root])\n",
    "        distances[root] = 0\n",
    "        while queue:\n",
    "            curr = queue.popleft()\n",
    "            for next_ in adj.get(curr, []):\n",
    "                if distances[next_] == -1:\n",
    "                    queue.append(next_)\n",
    "                    distances[next_] = distances[curr] + 1\n",
    "\n",
    "    distances: list[int] = [-1 for _ in range(N)]\n",
    "    # DFS(src, 0)\n",
    "    BFS(src)\n",
    "    return distances\n",
    "\n",
    "Testing the solution\n",
    "assert shortestPath([[0,1],[0,3],[3,4],[4,5],[5,6],[1,2],[2,6],[6,7],[7,8],[6,8]], 9, 10, 0) == [0,1,2,1,2,3,3,4,4]\n",
    "assert shortestPath([[0,0],[1,1],[1,3],[3,0]], 4, 4, 3) == [1,1,-1,0]"
   ]
  }
 ],
 "metadata": {
  "kernelspec": {
   "display_name": "Python 3 (ipykernel)",
   "language": "python",
   "name": "python3"
  },
  "language_info": {
   "codemirror_mode": {
    "name": "ipython",
    "version": 3
   },
   "file_extension": ".py",
   "mimetype": "text/x-python",
   "name": "python",
   "nbconvert_exporter": "python",
   "pygments_lexer": "ipython3",
   "version": "3.10.14"
  },
  "papermill": {
   "default_parameters": {},
   "duration": 2.653111,
   "end_time": "2024-04-25T16:58:40.731513",
   "environment_variables": {},
   "exception": null,
   "input_path": "study/striver-A2Z/12-graphs.ipynb",
   "output_path": "study/striver-A2Z/12-graphs.ipynb",
   "parameters": {},
   "start_time": "2024-04-25T16:58:38.078402",
   "version": "2.5.0"
  }
 },
 "nbformat": 4,
 "nbformat_minor": 5
}