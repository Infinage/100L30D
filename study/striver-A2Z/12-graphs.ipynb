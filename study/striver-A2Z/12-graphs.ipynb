{
 "cells": [
  {
   "cell_type": "markdown",
   "id": "00718985",
   "metadata": {},
   "source": [
    "#### Introduction to Graphs\n",
    "Video link: https://youtu.be/M3_pLsDdeuU?si=Bi_17bBfZUPqBU6K\n",
    "- Directed Graph: Graph with edges\n",
    "- Undirected Graph: Graph without edges\n",
    "- Cycle: Starting at node i, we are able to reach back to i again\n",
    "- DAG (Directed Acyclic Graph): Directed graph without any cycles\n",
    "- Degrees of a node (undirected): No of edges connected to that node\n",
    "- Indegree of a node (directed): No of incoming edges to a node\n",
    "- Outdegree of a node (directed): No of outgoing edges from a node\n",
    "- Property of an undirected of graph: Total degree = 2 * no. of edges (intuitively for edge we will be counting it twice on both ends of the connection)\n",
    "- Edge weights: Every edge of a graph is assigned a weight. If not provided, we can assume unit weight\n",
    "- Note that a graph can contain multiple components. A component is a set of nodes that can be reached from starting the traversal from one of the nodes."
   ]
  },
  {
   "cell_type": "markdown",
   "id": "8a532e6a",
   "metadata": {},
   "source": [
    "#### Graph representation <br>\n",
    "Video Link: https://youtu.be/3oI-34aPMWM?si=ibTcfbzU8J9k-NHa\n",
    "1. Adjacency matrix: If N is no of nodes, create N x N grid.\n",
    "Each cell contains the weight if the edge between the two nodes.\n",
    "Connections may or may not exist. For undirected graphs, the\n",
    "matrix is symmetric around the diagnol. Space: O (N ^ 2)\n",
    "\n",
    "For eg: \n",
    "```\n",
    "0 1 2 3 4 5\n",
    "0 0 0 0 0 0\n",
    "1 0 1 2 0 0\n",
    "2 1 0 0 1 1\n",
    "3 2 0 0 0 0\n",
    "4 0 1 0 0 0\n",
    "5 0 1 0 0 0\n",
    "```\n",
    "\n",
    "2. Adjaceny list: Create an array of arrays or set of arrays. Each nested array at index denotes the nodes that index is connected to. Space: O(E), still be O (N ^ 2) in a complete graph. If it is a directed graph, each element in the nested array is a tuple of node that index is connected to along with the weight of that connection.\n",
    "\n",
    "For eg:\n",
    "```\n",
    "{\n",
    " 1: [(2, 1), (3, 2)]\n",
    " 2: [(4, 5)]\n",
    " 3: [(2, 2), (4, 1)]\n",
    "}\n",
    "```"
   ]
  },
  {
   "cell_type": "markdown",
   "id": "055dbced",
   "metadata": {
    "lines_to_next_cell": 0
   },
   "source": [
    "#### Helper functions and definitions"
   ]
  },
  {
   "cell_type": "code",
   "execution_count": null,
   "id": "3b10025a",
   "metadata": {
    "lines_to_next_cell": 1
   },
   "outputs": [],
   "source": [
    "import math\n",
    "import collections\n",
    "import itertools\n",
    "import typing"
   ]
  },
  {
   "cell_type": "markdown",
   "id": "349e233b",
   "metadata": {},
   "source": [
    "Video Link: https://youtu.be/-tgVpUgsQ5k?si=8HBt33CLyu9hTP1I\n",
    "BFS Search of a graph"
   ]
  },
  {
   "cell_type": "code",
   "execution_count": null,
   "id": "733f77cf",
   "metadata": {
    "lines_to_next_cell": 1
   },
   "outputs": [],
   "source": [
    "def bfsOfGraph(V: int, adj: list[list[int]]) -> list[int]:\n",
    "    result: list[int] = []\n",
    "    queue: collections.deque = collections.deque([0])\n",
    "    visited: set[int] = set()\n",
    "    while queue:\n",
    "        curr = queue.popleft()\n",
    "        if curr not in visited:\n",
    "            result.append(curr)\n",
    "            visited.add(curr)\n",
    "        queue.extend(adj[curr])\n",
    "\n",
    "    return result\n",
    "\n",
    "# Testing the solution\n",
    "assert bfsOfGraph(5, [[1,2,3],[],[4],[],[]]) == [0, 1, 2, 3, 4]\n",
    "assert bfsOfGraph(5, [[1,2],[],[]]) == [0, 1, 2]"
   ]
  },
  {
   "cell_type": "markdown",
   "id": "60b90065",
   "metadata": {},
   "source": [
    "Video Link: https://youtu.be/Qzf1a--rhp8?si=Zb_XCqskGiK11gbB\n",
    "DFS Traversal"
   ]
  },
  {
   "cell_type": "code",
   "execution_count": null,
   "id": "1b1933c1",
   "metadata": {
    "lines_to_next_cell": 1
   },
   "outputs": [],
   "source": [
    "def depthFirstSearch(V: int, E: int, edges: list[list[int]]) -> list[list[int]]:\n",
    "    adjl: dict[int, list[int]] = dict()\n",
    "    for i in range(E):\n",
    "        n1, n2 = edges[i]\n",
    "        n1_edges, n2_edges = adjl.get(n1, []), adjl.get(n2, [])\n",
    "        n1_edges.append(n2)\n",
    "        n2_edges.append(n1)\n",
    "        adjl[n1], adjl[n2] = n1_edges, n2_edges\n",
    "\n",
    "    result: list[list[int]] = []\n",
    "    visited: set[int] = set()\n",
    "\n",
    "    # Time Complexity: O(N), Space: O(N)\n",
    "    for i in range(V):\n",
    "        stack: list[int] = [i]\n",
    "        components: list[int] = []\n",
    "        while stack:\n",
    "            curr = stack.pop()\n",
    "            if curr not in visited:\n",
    "                visited.add(curr)\n",
    "                components.append(curr)\n",
    "                for next_ in adjl.get(curr, []):\n",
    "                    stack.append(next_)\n",
    "\n",
    "        if components:\n",
    "            components.sort()\n",
    "            result.append(components)\n",
    "\n",
    "    return result\n",
    "\n",
    "# Testing the result\n",
    "assert depthFirstSearch(5, 4, [[0,2], [0,1], [1,2], [3,4]]) == [[0,1,2], [3,4]]"
   ]
  },
  {
   "cell_type": "markdown",
   "id": "d2fe1f98",
   "metadata": {},
   "source": [
    "Number of provinces: https://leetcode.com/problems/number-of-provinces/submissions/1237343247/\n",
    "Video Link: https://youtu.be/ACzkVtewUYA?si=wpzBiKJoOJQnFR18"
   ]
  },
  {
   "cell_type": "code",
   "execution_count": null,
   "id": "3db44551",
   "metadata": {
    "lines_to_next_cell": 1
   },
   "outputs": [],
   "source": [
    "def findCircleNum(adjM: list[list[int]]) -> int:\n",
    "    N = len(adjM)\n",
    "\n",
    "    visited: set[int] = set()\n",
    "    def DFS(curr: int):\n",
    "        if curr not in visited:\n",
    "            visited.add(curr)\n",
    "            for i in range(N):\n",
    "                if adjM[curr][i]:\n",
    "                    DFS(i)\n",
    "\n",
    "    provinces: int = 0\n",
    "    for curr in range(N):\n",
    "        if curr not in visited:\n",
    "            DFS(curr)\n",
    "            provinces += 1\n",
    "\n",
    "    return provinces\n",
    "\n",
    "# Testing the solution\n",
    "assert findCircleNum([[1,1,0],[1,1,0],[0,0,1]]) == 2\n",
    "assert findCircleNum([[1,0,0],[0,1,0],[0,0,1]]) == 3"
   ]
  },
  {
   "cell_type": "markdown",
   "id": "3052a760",
   "metadata": {},
   "source": [
    "Video link: https://youtu.be/muncqlKJrH0?si=xcCfsKjX5tZd4kZJ\n",
    "Number of islands"
   ]
  },
  {
   "cell_type": "code",
   "execution_count": null,
   "id": "827a64cf",
   "metadata": {
    "lines_to_next_cell": 1
   },
   "outputs": [],
   "source": [
    "def numIslands(grid: list[list[int]]) -> int:\n",
    "    N = len(grid)\n",
    "    M = len(grid[0])\n",
    "\n",
    "    def DFS(i: int, j: int):\n",
    "        if 0 <= i < N and 0 <= j < M and grid[i][j] == 1:\n",
    "            grid[i][j] = 0\n",
    "            for i_ in range(-1, 2):\n",
    "                for j_ in range(-1, 2):\n",
    "                    DFS(i + i_, j + j_)\n",
    "\n",
    "    islands = 0\n",
    "    for i_ in range(N):\n",
    "        for j_ in range(M):\n",
    "            if grid[i_][j_] == 1:\n",
    "                islands += 1\n",
    "                DFS(i_, j_)\n",
    "    return islands\n",
    "\n",
    "# Testing the solution\n",
    "assert numIslands([[0,1,1,1,0,0,0],[0,0,1,1,0,1,0]]) == 2\n",
    "assert numIslands([[0,1],[1,0],[1,1],[1,0]]) == 1"
   ]
  },
  {
   "cell_type": "markdown",
   "id": "ccd34c3f",
   "metadata": {},
   "source": [
    "Video Link: https://youtu.be/C-2_uSRli8o?si=kwATM2glQc_Mpf76\n",
    "Flood fill: https://leetcode.com/problems/flood-fill/submissions/1237381436"
   ]
  },
  {
   "cell_type": "code",
   "execution_count": null,
   "id": "d76c3dfa",
   "metadata": {},
   "outputs": [],
   "source": [
    "def floodFill(image: list[list[int]], sr: int, sc: int, fill_color: int) -> list[list[int]]:\n",
    "\n",
    "    N, M = len(image), len(image[0])\n",
    "\n",
    "    start_color = image[sr][sc]\n",
    "    if start_color != fill_color:\n",
    "        queue: collections.deque = collections.deque([(sr, sc)])\n",
    "\n",
    "        while queue:\n",
    "            i, j = queue.popleft()\n",
    "            if 0 <= i < N and 0 <= j < M and image[i][j] == start_color:\n",
    "                image[i][j] = fill_color\n",
    "                queue.extend([(i - 1, j), (i, j - 1), (i, j + 1), (i + 1, j)])\n",
    "\n",
    "    return image\n",
    "\n",
    "# Testing the solution\n",
    "assert floodFill([[1,1,1],[1,1,0],[1,0,1]], 1, 1, 2) == [[2,2,2],[2,2,0],[2,0,1]]"
   ]
  }
 ],
 "metadata": {
  "kernelspec": {
   "display_name": "Python 3 (ipykernel)",
   "language": "python",
   "name": "python3"
  }
 },
 "nbformat": 4,
 "nbformat_minor": 2
}
