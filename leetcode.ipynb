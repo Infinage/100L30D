{
 "cells": [
  {
   "cell_type": "markdown",
   "id": "9591ad26-417a-4dcc-9c52-8a9c5c99e332",
   "metadata": {},
   "source": [
    "# 100L30D\n",
    "\n",
    "Solving 100 Leetcode problems in 30 days."
   ]
  },
  {
   "cell_type": "code",
   "execution_count": 1,
   "id": "7e8f7725-fb43-4f4e-954a-299f2eacdc10",
   "metadata": {},
   "outputs": [],
   "source": [
    "from typing import List\n",
    "import pandas as pd\n",
    "import sqlite3\n",
    "import re\n",
    "import io\n",
    "\n",
    "conn = sqlite3.connect(\":memory:\")\n",
    "\n",
    "def regexp(expr, item):\n",
    "    reg = re.compile(expr)\n",
    "    return reg.search(item) is not None\n",
    "    \n",
    "conn.create_function(\"REGEXP\", 2, regexp)"
   ]
  },
  {
   "cell_type": "markdown",
   "id": "248b4168-7822-4f9a-8a84-20cf00abd876",
   "metadata": {},
   "source": [
    "# 1. \n",
    "Date: 20th Dec 2023<br>\n",
    "Easy Leetcode: Unique Morse Words<br>\n",
    "Solution: https://leetcode.com/problems/unique-morse-code-words/submissions/1124312422/"
   ]
  },
  {
   "cell_type": "code",
   "execution_count": 65,
   "id": "49ce7cff-38d1-473f-a574-6a061801eb73",
   "metadata": {},
   "outputs": [],
   "source": [
    "class Solution:\n",
    "\n",
    "    morse = [\".-\",\"-...\",\"-.-.\",\"-..\",\".\",\"..-.\",\"--.\",\"....\",\"..\",\".---\",\"-.-\",\".-..\",\"--\",\"-.\",\"---\",\".--.\",\"--.-\",\".-.\",\"...\",\"-\",\"..-\",\"...-\",\".--\",\"-..-\",\"-.--\",\"--..\"]\n",
    "    alphabets = [chr(i + ord('a')) for i in range(26)]\n",
    "    mapping = dict(zip(alphabets, morse))\n",
    "\n",
    "    @staticmethod\n",
    "    def map_to_morse(word):\n",
    "        \n",
    "        if word in Solution.mapping:\n",
    "            return Solution.mapping[word]\n",
    "\n",
    "        result = Solution.mapping[word[0]] + Solution.map_to_morse(word[1:])\n",
    "        Solution.mapping[word] = result\n",
    "        return result\n",
    "\n",
    "    def uniqueMorseRepresentations(self, words: List[str]) -> int:\n",
    "        return len(set(map(Solution.map_to_morse, words)))"
   ]
  },
  {
   "cell_type": "code",
   "execution_count": 66,
   "id": "9e9777fa-3395-4d7a-aedb-d4cc5c32c946",
   "metadata": {},
   "outputs": [
    {
     "data": {
      "text/plain": [
       "2"
      ]
     },
     "execution_count": 66,
     "metadata": {},
     "output_type": "execute_result"
    }
   ],
   "source": [
    "Solution().uniqueMorseRepresentations([\"gin\",\"zen\",\"gig\",\"msg\"])"
   ]
  },
  {
   "cell_type": "markdown",
   "id": "c59229e2-b95d-4bcf-a94c-1eab5fcf6604",
   "metadata": {},
   "source": [
    "# 2.\n",
    "Date: 20th Dec 2023<br>\n",
    "Easy Leetcode: Pascals Triangle II<br>\n",
    "Solution: https://leetcode.com/submissions/detail/1123808820/"
   ]
  },
  {
   "cell_type": "code",
   "execution_count": 67,
   "id": "cbfad5bf-ac04-43b7-a300-f3c464fa6885",
   "metadata": {},
   "outputs": [],
   "source": [
    "class Solution:\n",
    "    '''\n",
    "    [1]\n",
    "    [1, 1]\n",
    "    [1, 2, 1]\n",
    "    [1, 3, 3, 1]\n",
    "    [1, 4, 6, 4, 1]\n",
    "    [1, 5, 10, 10, 5, 1]\n",
    "    [1, 6, 15, 20, 15, 6, 1]\n",
    "    [1, 7, 21, 35, 35, 21, 7, 1]\n",
    "\n",
    "    n_rows = index + 1\n",
    "\n",
    "    '''\n",
    "\n",
    "    def slideSum(lst: List[int]) -> List[int]:\n",
    "        # Slide a window of size 2 over the list and return the list of sums\n",
    "        assert len(lst) > 1, f\"Minimum slide length is 2, got {len(lst)}\"\n",
    "\n",
    "        result = []\n",
    "        for i in range(len(lst) - 1):\n",
    "            result.append(lst[i] + lst[i + 1])\n",
    "        return [1] + result + [1]\n",
    "\n",
    "    def getRow(self, rowIndex: int) -> List[int]:\n",
    "        \n",
    "        assert rowIndex >= 0, f\"Index cannot be negative, got {rowIndex}\"\n",
    "\n",
    "        if rowIndex == 0:\n",
    "            return [1]\n",
    "        elif rowIndex == 1:\n",
    "            return [1, 1]\n",
    "        else:\n",
    "            prevRow = self.getRow(rowIndex - 1)\n",
    "            return Solution.slideSum(prevRow)"
   ]
  },
  {
   "cell_type": "code",
   "execution_count": 68,
   "id": "d3dfc31e-818d-4ae4-a986-0f6eff700890",
   "metadata": {},
   "outputs": [
    {
     "data": {
      "text/plain": [
       "[1, 10, 45, 120, 210, 252, 210, 120, 45, 10, 1]"
      ]
     },
     "execution_count": 68,
     "metadata": {},
     "output_type": "execute_result"
    }
   ],
   "source": [
    "Solution().getRow(10)"
   ]
  },
  {
   "cell_type": "markdown",
   "id": "f46fc724-9eac-496b-acb5-fd46b142a225",
   "metadata": {},
   "source": [
    "# 3.\n",
    "Date: 21th Dec 2023<br>\n",
    "Easy leetcode: find-total-time-spent-by-each-employee<br>\n",
    "Solution: https://leetcode.com/problems/find-total-time-spent-by-each-employee/submissions/1124667523/\n",
    "\n",
    "```sql\n",
    "# Write your MySQL query statement below\n",
    "with temp as (\n",
    "    select \n",
    "        e.*, (e.out_time - e.in_time) total_time \n",
    "    from employees e\n",
    ")\n",
    "\n",
    "select \n",
    "    t.event_day as day, t.emp_id, sum(t.total_time) total_time \n",
    "from temp t\n",
    "group by t.emp_id, t.event_day;\n",
    "```"
   ]
  },
  {
   "cell_type": "markdown",
   "id": "3b455303-7738-4e23-bafb-8b4a022c1890",
   "metadata": {},
   "source": [
    "# 4. \n",
    "Date: 21th Dec 2023<br>\n",
    "Easy Leetcode: sum-of-all-odd-length-subarrays<br>\n",
    "Solution: https://leetcode.com/problems/sum-of-all-odd-length-subarrays/submissions/1124679524/"
   ]
  },
  {
   "cell_type": "code",
   "execution_count": 69,
   "id": "5ab2fb01-1837-48aa-a8e8-3db631253c49",
   "metadata": {},
   "outputs": [],
   "source": [
    "class Solution:\n",
    "    def slide(arr: list[int], window: int):\n",
    "        assert window <= len(arr), \"Window size must be less than the len of arr\"\n",
    "        result = curr_sum = sum(arr[:window])\n",
    "\n",
    "        for i in range(len(arr) - window):\n",
    "            start_idx_curr_window, end_idx_next_window = i, i + window\n",
    "            curr_sum = curr_sum - arr[start_idx_curr_window] + arr[end_idx_next_window]\n",
    "            result += curr_sum\n",
    "\n",
    "        return result\n",
    "\n",
    "    def sumOddLengthSubarrays(self, arr: list[int]) -> int:\n",
    "        result = 0\n",
    "        for i in range(1, len(arr) + 1, 2):\n",
    "            result += Solution.slide(arr, window=i)\n",
    "\n",
    "        return result"
   ]
  },
  {
   "cell_type": "code",
   "execution_count": 70,
   "id": "7559ac15-cb65-4a48-9a75-ea5ca2551588",
   "metadata": {},
   "outputs": [
    {
     "data": {
      "text/plain": [
       "58"
      ]
     },
     "execution_count": 70,
     "metadata": {},
     "output_type": "execute_result"
    }
   ],
   "source": [
    "Solution().sumOddLengthSubarrays([1,4,2,5,3])"
   ]
  },
  {
   "cell_type": "code",
   "execution_count": 71,
   "id": "a2ca17a7-f7f9-4838-b8af-7caf4b786274",
   "metadata": {},
   "outputs": [],
   "source": [
    "import math\n",
    "\n",
    "class Solution:\n",
    "    # https://leetcode.com/problems/sum-of-all-odd-length-subarrays/solutions/854184/java-c-python-o-n-time-o-1-space/\n",
    "    \n",
    "    def sumOddLengthSubarrays(self, arr: List[int]) -> int:\n",
    "        result = 0\n",
    "        n = len(arr)\n",
    "        for i in range(0, n):\n",
    "            k = (i + 1) * (n - i)\n",
    "            result += arr[i] * math.ceil(k / 2)\n",
    "\n",
    "        return result"
   ]
  },
  {
   "cell_type": "markdown",
   "id": "364fa384-1c52-4588-b960-ad96272778bb",
   "metadata": {},
   "source": [
    "# 5.\n",
    "Date: 22th Dec 2023<br>\n",
    "Easy Leetcode: maximum-score-after-splitting-a-string<br>\n",
    "Solution: https://leetcode.com/problems/maximum-score-after-splitting-a-string/submissions/1125483525/"
   ]
  },
  {
   "cell_type": "code",
   "execution_count": 72,
   "id": "2b1e8f16-2fc2-48e7-b873-060cdcdcf167",
   "metadata": {},
   "outputs": [],
   "source": [
    "\"\"\"\n",
    "\n",
    "Min possible score: 0 [10]\n",
    "Max possible score: len(s) [01]\n",
    "\n",
    "\"\"\"\n",
    "\n",
    "class Solution:\n",
    "    def maxScore(self, s: str) -> int:\n",
    "\n",
    "        left_score, right_score  = 0, s.count(\"1\")\n",
    "        res = 0\n",
    "\n",
    "        for ch in s[:-1]:\n",
    "            if ch == \"0\":\n",
    "                left_score += 1\n",
    "            else:\n",
    "                right_score -= 1\n",
    "\n",
    "            curr = left_score + right_score\n",
    "            if curr > res:\n",
    "                res = curr\n",
    "\n",
    "        return res"
   ]
  },
  {
   "cell_type": "markdown",
   "id": "c64f41a3-ab1b-4d50-b39a-40091512460a",
   "metadata": {},
   "source": [
    "# 6. \n",
    "Date: 22th Dec 2023<br>\n",
    "Easy Leetcode: kids-with-the-greatest-number-of-candies<br>\n",
    "Solution: https://leetcode.com/problems/kids-with-the-greatest-number-of-candies/submissions/1125486579/"
   ]
  },
  {
   "cell_type": "code",
   "execution_count": 73,
   "id": "ec4bae1a-ab79-477b-acfe-4e7b5521b0c5",
   "metadata": {},
   "outputs": [],
   "source": [
    "class Solution:\n",
    "    def kidsWithCandies(self, candies: List[int], extraCandies: int) -> List[bool]:\n",
    "        maxCandies = max(candies) \n",
    "        res = []\n",
    "        for candies_with_kid_i in candies:\n",
    "            if candies_with_kid_i + extraCandies >= maxCandies:\n",
    "               res.append(True)\n",
    "            else:\n",
    "                res.append(False)\n",
    "        return res"
   ]
  },
  {
   "cell_type": "markdown",
   "id": "1fa49eec-d980-4405-a88e-30e1ce68fa94",
   "metadata": {},
   "source": [
    "# 7.\n",
    "Date: 22th Dec 2023<br>\n",
    "Easy Leetcode: can-make-arithmetic-progression-from-sequence<br>\n",
    "Solution (can be improved): https://leetcode.com/problems/can-make-arithmetic-progression-from-sequence/submissions/1125491514/"
   ]
  },
  {
   "cell_type": "code",
   "execution_count": 74,
   "id": "42d718fd-dd4e-4db1-8e00-6fe31bf46be4",
   "metadata": {},
   "outputs": [],
   "source": [
    "class Solution:\n",
    "    def canMakeArithmeticProgression(self, arr: List[int]) -> bool:\n",
    "\n",
    "        # Sort the array\n",
    "        arr.sort()       \n",
    "\n",
    "        diff = None\n",
    "        for i in range(len(arr) - 1):\n",
    "            curr = arr[i + 1] - arr[i]\n",
    "            if diff is None:\n",
    "                diff = curr\n",
    "            elif diff != curr:\n",
    "                return False\n",
    "        return True"
   ]
  },
  {
   "cell_type": "markdown",
   "id": "4593be4e-eacb-4577-bfa7-35dd0eaa304e",
   "metadata": {},
   "source": [
    "# 8. \n",
    "Date: 22nd Dec 2023<br>\n",
    "Easy Leetcode: find-users-with-valid-e-mails<br>\n",
    "Solution: https://leetcode.com/problems/find-users-with-valid-e-mails/submissions/1125507166/ "
   ]
  },
  {
   "cell_type": "code",
   "execution_count": 92,
   "id": "f273a626-27ec-4761-9ac1-92412cbd08d7",
   "metadata": {},
   "outputs": [
    {
     "name": "stdout",
     "output_type": "stream",
     "text": [
      "  user_id       name                     mail\n",
      "1       1    Winston     winston@leetcode.com\n",
      "3       3  Annabelle      bella-@leetcode.com\n",
      "4       4      Sally  sally.come@leetcode.com\n",
      "  user_id       name                     mail\n",
      "0       1    Winston     winston@leetcode.com\n",
      "1       3  Annabelle      bella-@leetcode.com\n",
      "2       4      Sally  sally.come@leetcode.com\n"
     ]
    }
   ],
   "source": [
    "temp = pd.read_csv(io.StringIO(\"\"\"\n",
    "    | user_id | name      | mail                    |\n",
    "    | ------- | --------- | ----------------------- |\n",
    "    | 1       | Winston   | winston@leetcode.com    |\n",
    "    | 2       | Jonathan  | jonathanisgreat         |\n",
    "    | 3       | Annabelle | bella-@leetcode.com     |\n",
    "    | 4       | Sally     | sally.come@leetcode.com |\n",
    "    | 5       | Marwan    | quarz#2020@leetcode.com |\n",
    "    | 6       | David     | david69@gmail.com       |\n",
    "    | 7       | Shapiro   | .shapo@leetcode.com     |\n",
    "\"\"\"), sep=\"|\").iloc[1:, 1:-1]\n",
    "\n",
    "temp.columns = temp.columns.map(str.strip)\n",
    "temp = temp.map(str.strip)\n",
    "print(temp[temp['mail'].str.fullmatch('[A-Za-z][A-Za-z0-9\\.\\-\\_]*\\@leetcode\\.com')])\n",
    "\n",
    "# Write to DB & solve using SQL\n",
    "temp.to_sql(name='temp', con=conn, index=False, if_exists='replace')\n",
    "print(pd.read_sql(\"select * from temp u where u.mail REGEXP '^[a-zA-Z]+[a-zA-Z0-9-._]*\\\\@leetcode\\\\.com$'\", con=conn))"
   ]
  },
  {
   "cell_type": "markdown",
   "id": "ec93c48c-6c48-4f37-a20d-24bd829c53c9",
   "metadata": {},
   "source": [
    "# 9.\n",
    "\n",
    "Date: 22nd Dec 2023<br>\n",
    "Medium Leetcode: consecutive-numbers <br>\n",
    "Solution: https://leetcode.com/problems/consecutive-numbers/submissions/1125892860/"
   ]
  },
  {
   "cell_type": "code",
   "execution_count": 137,
   "id": "340e590f-b16e-4c05-b1a6-28687eff7493",
   "metadata": {},
   "outputs": [
    {
     "data": {
      "text/html": [
       "<div>\n",
       "<style scoped>\n",
       "    .dataframe tbody tr th:only-of-type {\n",
       "        vertical-align: middle;\n",
       "    }\n",
       "\n",
       "    .dataframe tbody tr th {\n",
       "        vertical-align: top;\n",
       "    }\n",
       "\n",
       "    .dataframe thead th {\n",
       "        text-align: right;\n",
       "    }\n",
       "</style>\n",
       "<table border=\"1\" class=\"dataframe\">\n",
       "  <thead>\n",
       "    <tr style=\"text-align: right;\">\n",
       "      <th></th>\n",
       "      <th>ConsecutiveNums</th>\n",
       "    </tr>\n",
       "  </thead>\n",
       "  <tbody>\n",
       "    <tr>\n",
       "      <th>0</th>\n",
       "      <td>1.0</td>\n",
       "    </tr>\n",
       "  </tbody>\n",
       "</table>\n",
       "</div>"
      ],
      "text/plain": [
       "   ConsecutiveNums\n",
       "0              1.0"
      ]
     },
     "metadata": {},
     "output_type": "display_data"
    },
    {
     "data": {
      "text/html": [
       "<div>\n",
       "<style scoped>\n",
       "    .dataframe tbody tr th:only-of-type {\n",
       "        vertical-align: middle;\n",
       "    }\n",
       "\n",
       "    .dataframe tbody tr th {\n",
       "        vertical-align: top;\n",
       "    }\n",
       "\n",
       "    .dataframe thead th {\n",
       "        text-align: right;\n",
       "    }\n",
       "</style>\n",
       "<table border=\"1\" class=\"dataframe\">\n",
       "  <thead>\n",
       "    <tr style=\"text-align: right;\">\n",
       "      <th></th>\n",
       "      <th>ConsecutiveNums</th>\n",
       "    </tr>\n",
       "  </thead>\n",
       "  <tbody>\n",
       "    <tr>\n",
       "      <th>0</th>\n",
       "      <td>1.0</td>\n",
       "    </tr>\n",
       "  </tbody>\n",
       "</table>\n",
       "</div>"
      ],
      "text/plain": [
       "   ConsecutiveNums\n",
       "0              1.0"
      ]
     },
     "metadata": {},
     "output_type": "display_data"
    },
    {
     "data": {
      "text/html": [
       "<div>\n",
       "<style scoped>\n",
       "    .dataframe tbody tr th:only-of-type {\n",
       "        vertical-align: middle;\n",
       "    }\n",
       "\n",
       "    .dataframe tbody tr th {\n",
       "        vertical-align: top;\n",
       "    }\n",
       "\n",
       "    .dataframe thead th {\n",
       "        text-align: right;\n",
       "    }\n",
       "</style>\n",
       "<table border=\"1\" class=\"dataframe\">\n",
       "  <thead>\n",
       "    <tr style=\"text-align: right;\">\n",
       "      <th></th>\n",
       "      <th>ConsecutiveNums</th>\n",
       "    </tr>\n",
       "  </thead>\n",
       "  <tbody>\n",
       "    <tr>\n",
       "      <th>0</th>\n",
       "      <td>1.0</td>\n",
       "    </tr>\n",
       "  </tbody>\n",
       "</table>\n",
       "</div>"
      ],
      "text/plain": [
       "   ConsecutiveNums\n",
       "0              1.0"
      ]
     },
     "execution_count": 137,
     "metadata": {},
     "output_type": "execute_result"
    }
   ],
   "source": [
    "temp = pd.read_csv(io.StringIO(\"\"\"\n",
    "+----+-----+\n",
    "| id | num |\n",
    "+----+-----+\n",
    "| 1  | 1   |\n",
    "| 2  | 1   |\n",
    "| 3  | 1   |\n",
    "| 4  | 2   |\n",
    "| 5  | 1   |\n",
    "| 6  | 2   |\n",
    "| 7  | 2   |\n",
    "+----+-----+\n",
    "\"\"\"), sep=\"|\", skiprows=2)\n",
    "\n",
    "# Some cleaning\n",
    "temp = temp.iloc[1:, 1:-1].dropna()\n",
    "temp.columns = temp.columns.map(str.strip)\n",
    "\n",
    "# Python iterative solution\n",
    "def consecutive_numbers_py(logs: pd.DataFrame) -> pd.DataFrame:\n",
    "    result = []\n",
    "    resultSet = set()\n",
    "\n",
    "    prev = None\n",
    "    for num in logs['num'].values:\n",
    "        if prev is None:\n",
    "            prev = [num, 1]\n",
    "        elif prev[0] == num:\n",
    "            prev[1] += 1\n",
    "        else:\n",
    "            if prev[1] >= 3 and prev[0] not in resultSet:\n",
    "                result.append(prev[0])\n",
    "                resultSet.add(prev[0])\n",
    "            prev = [num, 1]\n",
    "\n",
    "    if prev is not None and prev[1] >= 3 and prev[0] not in resultSet:\n",
    "        result.append(prev[0])\n",
    "        resultSet.add(prev[0])\n",
    "\n",
    "    return pd.DataFrame({\"ConsecutiveNums\": result})\n",
    "\n",
    "# Pandas solution\n",
    "def consecutive_numbers_df(logs: pd.DataFrame) -> pd.DataFrame:\n",
    "    # Code starts here\n",
    "    df = logs.copy()\n",
    "    df['diff_1'] = df.groupby(\"num\")[\"id\"].diff()\n",
    "    df['diff_2'] = df.groupby(\"num\")[\"id\"].diff(periods=2)\n",
    "    df = df[(df['diff_1'] == 1) & (df['diff_2'] == 2)]['num'].rename(\"ConsecutiveNums\").to_frame().drop_duplicates().reset_index(drop=True)\n",
    "    return df\n",
    "\n",
    "display(consecutive_numbers_py(temp))\n",
    "display(consecutive_numbers_df(temp))\n",
    "\n",
    "# SQL Solution\n",
    "temp.to_sql(\"temp\", con=conn, index=False, if_exists='replace')\n",
    "\n",
    "pd.read_sql(\"\"\"\n",
    "with temp_1 as (\n",
    "    select \n",
    "        t.id, \n",
    "        t.num, \n",
    "        t.id - lag(t.id, 1) over(partition by t.num order by t.id) as diff_1,\n",
    "        t.id - lag(t.id, 2) over(partition by t.num order by t.id) as diff_2 \n",
    "    from temp t\n",
    ")\n",
    "\n",
    "select distinct num ConsecutiveNums from temp_1 where diff_1 = 1 and diff_2 = 2\n",
    "\"\"\", con=conn)"
   ]
  },
  {
   "cell_type": "markdown",
   "id": "603a2c87-bc46-41e9-a312-d3e0304c7dfc",
   "metadata": {},
   "source": [
    "# 10.\n",
    "\n",
    "Date: 22nd Dec 2023<br>\n",
    "Medium Leetcode: customers-who-never-order<br>\n",
    "Solution: https://leetcode.com/problems/customers-who-never-order/submissions/1125909085/\n",
    "\n",
    "#### SQL Solution:\n",
    "```sql\n",
    "select c.name Customers\n",
    "from Customers c \n",
    "left join Orders o on c.id = o.customerId \n",
    "where o.id is Null\n",
    "```\n",
    "\n",
    "#### Pandas Solution:\n",
    "```python\n",
    "def find_customers(customers: pd.DataFrame, orders: pd.DataFrame) -> pd.DataFrame:\n",
    "    result = customers.loc[~customers['id'].isin(orders['customerId']), 'name'].to_frame()\n",
    "    result = result.rename({\"name\": \"Customers\"}, axis=1)\n",
    "    return resultn\u0000:`"
   ]
  },
  {
   "cell_type": "markdown",
   "id": "cd3e1f11-0af5-4b55-ad19-abbd1805afea",
   "metadata": {},
   "source": [
    "# 11.\n",
    "\n",
    "Date: 22nd Dec 2023<br>\n",
    "Easy Leetcode: biggest-single-number<br>\n",
    "Solution: https://leetcode.com/problems/biggest-single-number/submissions/1125925499/\n",
    "\n",
    "```sql\n",
    "with temp as (\n",
    "    select num \n",
    "    from MyNumbers\n",
    "    group by num \n",
    "    having count(num) = 1\n",
    ")\n",
    "\n",
    "select max(num) num from temp\n",
    "```"
   ]
  },
  {
   "cell_type": "code",
   "execution_count": 138,
   "id": "1edd8fc1-1235-4ebe-9fdf-789e2ff3620d",
   "metadata": {},
   "outputs": [
    {
     "data": {
      "text/plain": [
       "<property at 0x7f99e9797470>"
      ]
     },
     "execution_count": 138,
     "metadata": {},
     "output_type": "execute_result"
    }
   ],
   "source": [
    "def biggest_single_number(my_numbers: pd.DataFrame) -> pd.DataFrame:\n",
    "    df = my_numbers.value_counts().sort_index()\n",
    "    df = df[df == 1].iloc[-1:].index\n",
    "    return df.to_frame() if len(df) else pd.DataFrame({\"num\": [None]}) "
   ]
  },
  {
   "cell_type": "markdown",
   "id": "4b691b6a-b3a5-40fb-94c3-543dfefdb102",
   "metadata": {},
   "source": [
    "# 12.\n",
    "\n",
    "Date; 22nd Dec 2023<br>\n",
    "Easy Leetcode: summary-ranges<br>\n",
    "Solution: https://leetcode.com/problems/summary-ranges/submissions/1125948046/"
   ]
  },
  {
   "cell_type": "code",
   "execution_count": null,
   "id": "30514c87-c164-4aa5-8b03-9e8ddf2b3cfe",
   "metadata": {},
   "outputs": [],
   "source": [
    "class Solution:\n",
    "    def summaryRanges(self, nums: List[int]) -> List[str]:\n",
    "        \n",
    "        result = []\n",
    "        curr = []\n",
    "        for num in nums:\n",
    "                if not curr or curr[-1] == num - 1:\n",
    "                    curr.append(num)\n",
    "                else:\n",
    "                    if len(curr) == 1:\n",
    "                        result.append(str(curr[0]))\n",
    "                    else:\n",
    "                        result.append(f\"{curr[0]}->{curr[-1]}\")\n",
    "                    curr = [num]\n",
    "\n",
    "        # Residues remain\n",
    "        if len(curr) > 0:\n",
    "            if len(curr) == 1:\n",
    "                result.append(str(curr[0]))\n",
    "            else:\n",
    "                result.append(f\"{curr[0]}->{curr[-1]}\")\n",
    "\n",
    "        return result"
   ]
  },
  {
   "cell_type": "code",
   "execution_count": null,
   "id": "2a5a9177-c1bb-4724-8042-578e8e92b2e3",
   "metadata": {},
   "outputs": [],
   "source": []
  },
  {
   "cell_type": "code",
   "execution_count": null,
   "id": "26d57e44-6780-4cd4-b165-f03a9fabe0b6",
   "metadata": {},
   "outputs": [],
   "source": []
  },
  {
   "cell_type": "code",
   "execution_count": null,
   "id": "2a362940-4098-4138-a55b-f592ae400038",
   "metadata": {},
   "outputs": [],
   "source": []
  },
  {
   "cell_type": "code",
   "execution_count": null,
   "id": "a73895cb-11f8-4286-9a99-4932b8db1a1a",
   "metadata": {},
   "outputs": [],
   "source": []
  },
  {
   "cell_type": "code",
   "execution_count": null,
   "id": "09b611a5-96ae-4271-b48a-7ae272d76a63",
   "metadata": {},
   "outputs": [],
   "source": []
  }
 ],
 "metadata": {
  "kernelspec": {
   "display_name": "Python 3 (ipykernel)",
   "language": "python",
   "name": "python3"
  },
  "language_info": {
   "codemirror_mode": {
    "name": "ipython",
    "version": 3
   },
   "file_extension": ".py",
   "mimetype": "text/x-python",
   "name": "python",
   "nbconvert_exporter": "python",
   "pygments_lexer": "ipython3",
   "version": "3.10.13"
  }
 },
 "nbformat": 4,
 "nbformat_minor": 5
}
