{
 "cells": [
  {
   "cell_type": "markdown",
   "id": "51bc2ac4",
   "metadata": {
    "papermill": {
     "duration": 0.006031,
     "end_time": "2024-02-22T16:03:51.946027",
     "exception": false,
     "start_time": "2024-02-22T16:03:51.939996",
     "status": "completed"
    },
    "tags": []
   },
   "source": [
    "# 50HL30D\n",
    "![44%](https://progress-bar.dev/44?title=progress&width=100)\n",
    "\n",
    "#### Description:\n",
    "- Solving 50 Hard Leetcode problems in 30 days.<br>\n",
    "- Languange of choice: `Python`<br>\n",
    "\n",
    "#### Timelines:\n",
    "- Start Date: 8th Feb 2024\n",
    "- Challenge End Date: 9th Mar 2024"
   ]
  },
  {
   "cell_type": "code",
   "execution_count": 1,
   "id": "15e91140",
   "metadata": {
    "execution": {
     "iopub.execute_input": "2024-02-22T16:03:52.007099Z",
     "iopub.status.busy": "2024-02-22T16:03:52.006555Z",
     "iopub.status.idle": "2024-02-22T16:03:52.405072Z",
     "shell.execute_reply": "2024-02-22T16:03:52.403780Z"
    },
    "papermill": {
     "duration": 0.407493,
     "end_time": "2024-02-22T16:03:52.406622",
     "exception": false,
     "start_time": "2024-02-22T16:03:51.999129",
     "status": "completed"
    },
    "tags": []
   },
   "outputs": [],
   "source": [
    "from typing import List\n",
    "import pandas as pd\n",
    "import numpy as np\n",
    "import sqlite3\n",
    "import re\n",
    "import io\n",
    "import math\n",
    "import collections\n",
    "import itertools\n",
    "import functools\n",
    "import random\n",
    "import string\n",
    "import tqdm\n",
    "import bisect\n",
    "\n",
    "conn = sqlite3.connect(\":memory:\")\n",
    "\n",
    "def regexp(expr, item):\n",
    "    reg = re.compile(expr)\n",
    "    return reg.search(item) is not None\n",
    "\n",
    "def read_lc_df(s: str) -> pd.DataFrame:\n",
    "    temp = pd.read_csv(io.StringIO(s), sep=\"|\", skiprows=2)\n",
    "    temp = temp.iloc[1:-1, 1:-1]\n",
    "    temp.columns = temp.columns.map(str.strip)\n",
    "    temp = temp.map(lambda x: x if type(x) != str else None if x.strip() == 'null' else x.strip())\n",
    "    return temp\n",
    "\n",
    "conn.create_function(\"REGEXP\", 2, regexp)"
   ]
  },
  {
   "cell_type": "markdown",
   "id": "3761df3f",
   "metadata": {
    "papermill": {
     "duration": 0.005302,
     "end_time": "2024-02-22T16:03:52.423107",
     "exception": false,
     "start_time": "2024-02-22T16:03:52.417805",
     "status": "completed"
    },
    "tags": []
   },
   "source": [
    "#### Helper for Binary tree problems"
   ]
  },
  {
   "cell_type": "code",
   "execution_count": 2,
   "id": "014cca21",
   "metadata": {
    "execution": {
     "iopub.execute_input": "2024-02-22T16:03:52.710060Z",
     "iopub.status.busy": "2024-02-22T16:03:52.708790Z",
     "iopub.status.idle": "2024-02-22T16:03:52.721485Z",
     "shell.execute_reply": "2024-02-22T16:03:52.720399Z"
    },
    "papermill": {
     "duration": 0.106097,
     "end_time": "2024-02-22T16:03:52.723057",
     "exception": false,
     "start_time": "2024-02-22T16:03:52.616960",
     "status": "completed"
    },
    "tags": []
   },
   "outputs": [
    {
     "data": {
      "text/plain": [
       "[1, 2, 3, 4, 5, 6, None, None, None, 7, 8, None, None, None, None, None, None]"
      ]
     },
     "execution_count": 2,
     "metadata": {},
     "output_type": "execute_result"
    }
   ],
   "source": [
    "class BinaryTreeNode:\n",
    "    def __init__(self, val=0, left=None, right=None):\n",
    "        self.val = val\n",
    "        self.left = left\n",
    "        self.right = right\n",
    "\n",
    "    def to_list(self):\n",
    "        to_visit = [self]\n",
    "        visited = []\n",
    "        while len(to_visit) > 0:\n",
    "            curr = to_visit.pop(0)\n",
    "            if curr:\n",
    "                to_visit.append(curr.left)\n",
    "                to_visit.append(curr.right)\n",
    "                visited.append(curr.val)\n",
    "            else:\n",
    "                visited.append(curr)\n",
    "        return visited\n",
    "\n",
    "    def __str__(self):\n",
    "        return str(self.val)\n",
    "\n",
    "    def from_array(nums: List[int]):\n",
    "        '''Create a Tree from a list of nums. Returns the root node.'''\n",
    "        if len(nums) == 0:\n",
    "            return None\n",
    "        elif len(nums) == 1:\n",
    "            return BinaryTreeNode(nums[0])\n",
    "        else:\n",
    "            forest = [BinaryTreeNode(nums[0])]\n",
    "            parent_idx = -1\n",
    "            for i in range(1, len(nums)):\n",
    "\n",
    "                curr = None\n",
    "                if nums[i] is not None:\n",
    "                    curr = BinaryTreeNode(nums[i])\n",
    "                    forest.append(curr)\n",
    "\n",
    "                if i % 2 == 1:\n",
    "                    parent_idx += 1\n",
    "                    forest[parent_idx].left = curr\n",
    "                else:\n",
    "                    forest[parent_idx].right = curr\n",
    "\n",
    "        return forest[0]\n",
    "\n",
    "temp = BinaryTreeNode.from_array([1,2,3,4,5,6,None,None,None,7,8])\n",
    "temp.to_list()"
   ]
  },
  {
   "cell_type": "markdown",
   "id": "a2f73ad1",
   "metadata": {
    "papermill": {
     "duration": 0.007824,
     "end_time": "2024-02-22T16:03:52.808121",
     "exception": false,
     "start_time": "2024-02-22T16:03:52.800297",
     "status": "completed"
    },
    "tags": []
   },
   "source": [
    "#### Helper for Singly Linked lists"
   ]
  },
  {
   "cell_type": "code",
   "execution_count": 3,
   "id": "8f724b7e",
   "metadata": {
    "execution": {
     "iopub.execute_input": "2024-02-22T16:03:52.820604Z",
     "iopub.status.busy": "2024-02-22T16:03:52.820101Z",
     "iopub.status.idle": "2024-02-22T16:03:52.826588Z",
     "shell.execute_reply": "2024-02-22T16:03:52.825506Z"
    },
    "papermill": {
     "duration": 0.014745,
     "end_time": "2024-02-22T16:03:52.828306",
     "exception": false,
     "start_time": "2024-02-22T16:03:52.813561",
     "status": "completed"
    },
    "tags": []
   },
   "outputs": [],
   "source": [
    "class ListNode:\n",
    "    def __init__(self, val=0, next=None):\n",
    "        self.val = val\n",
    "        self.next = next\n",
    "\n",
    "    def __str__(self):\n",
    "        return str(self.val)\n",
    "\n",
    "    def to_singly_linked_list(nums: list[int]):\n",
    "        root = prev = None\n",
    "        for n in nums:\n",
    "            curr = ListNode(n)\n",
    "            # Init once\n",
    "            if not root:\n",
    "                root = curr\n",
    "            if prev:\n",
    "                prev.next = curr\n",
    "            prev = curr\n",
    "\n",
    "        return root\n",
    "\n",
    "    def to_list(self) -> list[int]:\n",
    "        result = []\n",
    "        curr = self\n",
    "        while curr:\n",
    "            result.append(curr.val)\n",
    "            curr = curr.next\n",
    "        return result"
   ]
  },
  {
   "cell_type": "markdown",
   "id": "3d8c13fb",
   "metadata": {
    "papermill": {
     "duration": 0.005785,
     "end_time": "2024-02-22T16:03:52.839212",
     "exception": false,
     "start_time": "2024-02-22T16:03:52.833427",
     "status": "completed"
    },
    "tags": []
   },
   "source": [
    "# 1. \n",
    "Date: 08th Feb 2024<br>\n",
    "Hard Leetcode: reducing-dishes<br>\n",
    "Solution: https://leetcode.com/problems/reducing-dishes/submissions/1169321043/"
   ]
  },
  {
   "cell_type": "code",
   "execution_count": 4,
   "id": "44b38d3a",
   "metadata": {
    "execution": {
     "iopub.execute_input": "2024-02-22T16:03:52.852026Z",
     "iopub.status.busy": "2024-02-22T16:03:52.851782Z",
     "iopub.status.idle": "2024-02-22T16:03:52.858146Z",
     "shell.execute_reply": "2024-02-22T16:03:52.856609Z"
    },
    "papermill": {
     "duration": 0.01516,
     "end_time": "2024-02-22T16:03:52.859789",
     "exception": false,
     "start_time": "2024-02-22T16:03:52.844629",
     "status": "completed"
    },
    "tags": []
   },
   "outputs": [],
   "source": [
    "class Solution:\n",
    "    def maxSatisfaction(self, satisfaction: List[int]) -> int:\n",
    "        # Compute once\n",
    "        N = len(satisfaction)\n",
    "\n",
    "        # Sort to find the best possible time for each (order wise)\n",
    "        satisfaction.sort()\n",
    "\n",
    "        @functools.cache\n",
    "        def backtrack(currIdx: int = 0, time: int = 1) -> int:\n",
    "            if currIdx == N:\n",
    "                return 0\n",
    "            else:\n",
    "                return max(\n",
    "                    (time * satisfaction[currIdx]) + backtrack(currIdx + 1, time + 1),\n",
    "                    backtrack(currIdx + 1, time)\n",
    "                )\n",
    "\n",
    "        return backtrack()\n",
    "\n",
    "# Testing the solution\n",
    "assert Solution().maxSatisfaction([-1, -8, 0, 5, -9]) == 14\n",
    "assert Solution().maxSatisfaction([4, 3, 2]) == 20\n",
    "assert Solution().maxSatisfaction([-1, -2, -3]) == 0"
   ]
  },
  {
   "cell_type": "markdown",
   "id": "ace2a1e9",
   "metadata": {
    "papermill": {
     "duration": 0.005341,
     "end_time": "2024-02-22T16:03:52.870293",
     "exception": false,
     "start_time": "2024-02-22T16:03:52.864952",
     "status": "completed"
    },
    "tags": []
   },
   "source": [
    "# 2. \n",
    "Date: 09th Feb 2024<br>\n",
    "Hard Leetcode: minimum-one-bit-operations-to-make-integers-zero<br>\n",
    "Solution: https://leetcode.com/problems/minimum-one-bit-operations-to-make-integers-zero/submissions/1170668823/"
   ]
  },
  {
   "cell_type": "code",
   "execution_count": 5,
   "id": "2134576b",
   "metadata": {
    "execution": {
     "iopub.execute_input": "2024-02-22T16:03:52.883281Z",
     "iopub.status.busy": "2024-02-22T16:03:52.882808Z",
     "iopub.status.idle": "2024-02-22T16:03:52.908189Z",
     "shell.execute_reply": "2024-02-22T16:03:52.907354Z"
    },
    "papermill": {
     "duration": 0.034203,
     "end_time": "2024-02-22T16:03:52.909754",
     "exception": false,
     "start_time": "2024-02-22T16:03:52.875551",
     "status": "completed"
    },
    "tags": []
   },
   "outputs": [],
   "source": [
    "class Solution:\n",
    "    def minimumOneBitOperations__(self, n: int) -> int:\n",
    "        def changeBit(b: str, idx: int):\n",
    "            bits_ = list(b)\n",
    "            curr = bits_[idx]\n",
    "            curr = str(int(not bool(int(curr))))\n",
    "            bits_[idx] = curr\n",
    "            return ''.join(bits_)\n",
    "\n",
    "        def op1(b: str, N: int):\n",
    "            'Last bit is changed'\n",
    "            return changeBit(b, N - 1)\n",
    "\n",
    "        def op2(b: str, N: int):\n",
    "            \"\"\"\n",
    "            Swap ith bit given i-1st bit is 1 and all bits to the right are 0\n",
    "            \"\"\"\n",
    "            i = b.rindex('1')\n",
    "            if i >= 1:\n",
    "                return changeBit(b, i - 1)\n",
    "            else:\n",
    "                return b\n",
    "\n",
    "        def backtrack(b: str, processed: set[str] = set()):\n",
    "            if not int(b):\n",
    "                return 0\n",
    "            else:\n",
    "                op1_result = op1(b, N)\n",
    "                op2_result = op2(b, N)\n",
    "                op1_count = op2_count = math.inf\n",
    "                if op1_result not in processed:\n",
    "                    op1_count = backtrack(op1_result, {*processed, b})\n",
    "                if op2_result not in processed:\n",
    "                    op2_count = backtrack(op2_result, {*processed, b})\n",
    "\n",
    "                result = 1 + min(op1_count, op2_count)\n",
    "                return result\n",
    "\n",
    "        bits = bin(n)[2:]\n",
    "        N = len(bits)\n",
    "        return backtrack(bits)\n",
    "\n",
    "    def minimumOneBitOperations_(self, n: int) -> int:\n",
    "        if n == 0:\n",
    "            return 0\n",
    "\n",
    "        bits = bin(n)[2:]\n",
    "        bit_length = len(bits)\n",
    "        maxN = (2 ** bit_length) - 1\n",
    "        minN = 2 ** (bit_length - 1)\n",
    "        dp = [_ for _ in range(minN, maxN + 1)]\n",
    "\n",
    "        def splitAndMerge(arr: list[int], rev=False):\n",
    "            N = len(arr)\n",
    "            if N == 1:\n",
    "                return arr\n",
    "            else:\n",
    "                mid = N // 2\n",
    "                left = splitAndMerge(arr[:mid], rev=False)\n",
    "                right = splitAndMerge(arr[mid:], rev=True)\n",
    "                return right + left if rev else left + right\n",
    "\n",
    "        dp = splitAndMerge(dp, rev=True)\n",
    "        return dp[n - minN]\n",
    "\n",
    "    def minimumOneBitOperations(self, n: int) -> int:\n",
    "        # https://www.youtube.com/watch?v=yRI18_MaG7k\n",
    "        if n == 0:\n",
    "            return 0\n",
    "        else:\n",
    "            k = 0\n",
    "            while 2 ** k <= n:\n",
    "                k += 1\n",
    "            k -= 1\n",
    "            return 2 ** (k + 1) - 1 - self.minimumOneBitOperations(2 ** k ^ n)\n",
    "\n",
    "# Testing the solution\n",
    "for _ in range(1, 300):\n",
    "    assert Solution().minimumOneBitOperations_(_) == Solution().minimumOneBitOperations(_), f\"failed for {_}\""
   ]
  },
  {
   "cell_type": "markdown",
   "id": "a721bcbc",
   "metadata": {
    "papermill": {
     "duration": 0.005291,
     "end_time": "2024-02-22T16:03:52.920433",
     "exception": false,
     "start_time": "2024-02-22T16:03:52.915142",
     "status": "completed"
    },
    "tags": []
   },
   "source": [
    "# 3. \n",
    "Date: 10th Feb 2024<br>\n",
    "Hard Leetcode: human-traffic-of-stadium<br>\n",
    "Solution: https://leetcode.com/problems/human-traffic-of-stadium/submissions/1171130705"
   ]
  },
  {
   "cell_type": "code",
   "execution_count": 6,
   "id": "92a88f55",
   "metadata": {
    "execution": {
     "iopub.execute_input": "2024-02-22T16:03:52.932169Z",
     "iopub.status.busy": "2024-02-22T16:03:52.931940Z",
     "iopub.status.idle": "2024-02-22T16:03:53.060274Z",
     "shell.execute_reply": "2024-02-22T16:03:53.059418Z"
    },
    "papermill": {
     "duration": 0.136174,
     "end_time": "2024-02-22T16:03:53.061777",
     "exception": false,
     "start_time": "2024-02-22T16:03:52.925603",
     "status": "completed"
    },
    "tags": []
   },
   "outputs": [
    {
     "data": {
      "text/html": [
       "<div>\n",
       "<style scoped>\n",
       "    .dataframe tbody tr th:only-of-type {\n",
       "        vertical-align: middle;\n",
       "    }\n",
       "\n",
       "    .dataframe tbody tr th {\n",
       "        vertical-align: top;\n",
       "    }\n",
       "\n",
       "    .dataframe thead th {\n",
       "        text-align: right;\n",
       "    }\n",
       "</style>\n",
       "<table border=\"1\" class=\"dataframe\">\n",
       "  <thead>\n",
       "    <tr style=\"text-align: right;\">\n",
       "      <th></th>\n",
       "      <th>id</th>\n",
       "      <th>visit_date</th>\n",
       "      <th>people</th>\n",
       "    </tr>\n",
       "  </thead>\n",
       "  <tbody>\n",
       "    <tr>\n",
       "      <th>0</th>\n",
       "      <td>5.0</td>\n",
       "      <td>2017-01-05</td>\n",
       "      <td>145.0</td>\n",
       "    </tr>\n",
       "    <tr>\n",
       "      <th>1</th>\n",
       "      <td>6.0</td>\n",
       "      <td>2017-01-06</td>\n",
       "      <td>1455.0</td>\n",
       "    </tr>\n",
       "    <tr>\n",
       "      <th>2</th>\n",
       "      <td>7.0</td>\n",
       "      <td>2017-01-07</td>\n",
       "      <td>199.0</td>\n",
       "    </tr>\n",
       "    <tr>\n",
       "      <th>3</th>\n",
       "      <td>8.0</td>\n",
       "      <td>2017-01-09</td>\n",
       "      <td>188.0</td>\n",
       "    </tr>\n",
       "  </tbody>\n",
       "</table>\n",
       "</div>"
      ],
      "text/plain": [
       "    id visit_date  people\n",
       "0  5.0 2017-01-05   145.0\n",
       "1  6.0 2017-01-06  1455.0\n",
       "2  7.0 2017-01-07   199.0\n",
       "3  8.0 2017-01-09   188.0"
      ]
     },
     "metadata": {},
     "output_type": "display_data"
    },
    {
     "data": {
      "text/html": [
       "<div>\n",
       "<style scoped>\n",
       "    .dataframe tbody tr th:only-of-type {\n",
       "        vertical-align: middle;\n",
       "    }\n",
       "\n",
       "    .dataframe tbody tr th {\n",
       "        vertical-align: top;\n",
       "    }\n",
       "\n",
       "    .dataframe thead th {\n",
       "        text-align: right;\n",
       "    }\n",
       "</style>\n",
       "<table border=\"1\" class=\"dataframe\">\n",
       "  <thead>\n",
       "    <tr style=\"text-align: right;\">\n",
       "      <th></th>\n",
       "      <th>id</th>\n",
       "      <th>visit_date</th>\n",
       "      <th>people</th>\n",
       "    </tr>\n",
       "  </thead>\n",
       "  <tbody>\n",
       "    <tr>\n",
       "      <th>0</th>\n",
       "      <td>5.0</td>\n",
       "      <td>2017-01-05T00:00:00</td>\n",
       "      <td>145.0</td>\n",
       "    </tr>\n",
       "    <tr>\n",
       "      <th>1</th>\n",
       "      <td>6.0</td>\n",
       "      <td>2017-01-06T00:00:00</td>\n",
       "      <td>1455.0</td>\n",
       "    </tr>\n",
       "    <tr>\n",
       "      <th>2</th>\n",
       "      <td>7.0</td>\n",
       "      <td>2017-01-07T00:00:00</td>\n",
       "      <td>199.0</td>\n",
       "    </tr>\n",
       "    <tr>\n",
       "      <th>3</th>\n",
       "      <td>8.0</td>\n",
       "      <td>2017-01-09T00:00:00</td>\n",
       "      <td>188.0</td>\n",
       "    </tr>\n",
       "  </tbody>\n",
       "</table>\n",
       "</div>"
      ],
      "text/plain": [
       "    id           visit_date  people\n",
       "0  5.0  2017-01-05T00:00:00   145.0\n",
       "1  6.0  2017-01-06T00:00:00  1455.0\n",
       "2  7.0  2017-01-07T00:00:00   199.0\n",
       "3  8.0  2017-01-09T00:00:00   188.0"
      ]
     },
     "metadata": {},
     "output_type": "display_data"
    },
    {
     "data": {
      "text/html": [
       "<div>\n",
       "<style scoped>\n",
       "    .dataframe tbody tr th:only-of-type {\n",
       "        vertical-align: middle;\n",
       "    }\n",
       "\n",
       "    .dataframe tbody tr th {\n",
       "        vertical-align: top;\n",
       "    }\n",
       "\n",
       "    .dataframe thead th {\n",
       "        text-align: right;\n",
       "    }\n",
       "</style>\n",
       "<table border=\"1\" class=\"dataframe\">\n",
       "  <thead>\n",
       "    <tr style=\"text-align: right;\">\n",
       "      <th></th>\n",
       "      <th>id</th>\n",
       "      <th>visit_date</th>\n",
       "      <th>people</th>\n",
       "    </tr>\n",
       "  </thead>\n",
       "  <tbody>\n",
       "    <tr>\n",
       "      <th>0</th>\n",
       "      <td>5.0</td>\n",
       "      <td>2017-01-05T00:00:00</td>\n",
       "      <td>145.0</td>\n",
       "    </tr>\n",
       "    <tr>\n",
       "      <th>1</th>\n",
       "      <td>6.0</td>\n",
       "      <td>2017-01-06T00:00:00</td>\n",
       "      <td>1455.0</td>\n",
       "    </tr>\n",
       "    <tr>\n",
       "      <th>2</th>\n",
       "      <td>7.0</td>\n",
       "      <td>2017-01-07T00:00:00</td>\n",
       "      <td>199.0</td>\n",
       "    </tr>\n",
       "    <tr>\n",
       "      <th>3</th>\n",
       "      <td>8.0</td>\n",
       "      <td>2017-01-09T00:00:00</td>\n",
       "      <td>188.0</td>\n",
       "    </tr>\n",
       "  </tbody>\n",
       "</table>\n",
       "</div>"
      ],
      "text/plain": [
       "    id           visit_date  people\n",
       "0  5.0  2017-01-05T00:00:00   145.0\n",
       "1  6.0  2017-01-06T00:00:00  1455.0\n",
       "2  7.0  2017-01-07T00:00:00   199.0\n",
       "3  8.0  2017-01-09T00:00:00   188.0"
      ]
     },
     "metadata": {},
     "output_type": "display_data"
    }
   ],
   "source": [
    "temp = read_lc_df(\"\"\"\n",
    "+------+------------+-----------+\n",
    "| id   | visit_date | people    |\n",
    "+------+------------+-----------+\n",
    "| 1    | 2017-01-01 | 10        |\n",
    "| 2    | 2017-01-02 | 109       |\n",
    "| 3    | 2017-01-03 | 150       |\n",
    "| 4    | 2017-01-04 | 99        |\n",
    "| 5    | 2017-01-05 | 145       |\n",
    "| 6    | 2017-01-06 | 1455      |\n",
    "| 7    | 2017-01-07 | 199       |\n",
    "| 8    | 2017-01-09 | 188       |\n",
    "+------+------------+-----------+\n",
    "\"\"\")\n",
    "\n",
    "temp['visit_date'] = pd.to_datetime(temp['visit_date'])\n",
    "\n",
    "def human_traffic_df(stadium: pd.DataFrame) -> pd.DataFrame:\n",
    "    df = stadium[stadium['people'] >= 100]\n",
    "    ids = set(df['id'])\n",
    "    result = []\n",
    "    for row in df.itertuples():\n",
    "        row = row[1:]\n",
    "        curr_id = row[0]\n",
    "        if curr_id - 1 in ids and curr_id - 2 in ids:\n",
    "            result.append(row)\n",
    "        elif curr_id - 1 in ids and curr_id + 1 in ids:\n",
    "            result.append(row)\n",
    "        elif curr_id + 1 in ids and curr_id + 2 in ids:\n",
    "            result.append(row)\n",
    "\n",
    "    df = pd.DataFrame.from_records(result, columns=stadium.columns)\n",
    "    df.columns = stadium.columns\n",
    "    return df\n",
    "\n",
    "# Pandas / python solution\n",
    "display(human_traffic_df(temp))\n",
    "\n",
    "# Write to SQL DB\n",
    "temp.to_sql(\"temp\", if_exists='replace', con=conn, index=False)\n",
    "\n",
    "display(pd.read_sql(\"\"\"\n",
    "    with cte1 as (\n",
    "        select *,  id - row_number() over(order by id asc) as rnk\n",
    "        from temp\n",
    "        where people >= 100\n",
    "    ),\n",
    "\n",
    "    cte2 as (\n",
    "        select c.*, count(*) over (partition by rnk) rnk_count from cte1 c order by c.visit_date\n",
    "    )\n",
    "\n",
    "    select c.id, c.visit_date, c.people from cte2 c where c.rnk_count > 2\n",
    "\"\"\", con=conn))\n",
    "\n",
    "display(pd.read_sql(\"\"\"\n",
    "    with cte1 as (\n",
    "        select * from temp where people >= 100\n",
    "    ),\n",
    "\n",
    "    cte2 as (\n",
    "        select\n",
    "                c.*,\n",
    "                ifnull(-c.id - 1 + lead(id, 1) over (), 1) = 0 as lead1,\n",
    "                ifnull(-c.id - 2 + lead(id, 2) over (), 1) = 0 as lead2,\n",
    "                ifnull(c.id - 1 - lag(id, 1) over (), 1) = 0 as lag1,\n",
    "                ifnull(c.id - 2 - lag(id, 2) over (), 1) = 0 as lag2\n",
    "        from cte1 c\n",
    "    ),\n",
    "\n",
    "    cte3 as (\n",
    "        select\n",
    "            c.*,\n",
    "            (lead1 + lead2 + lag1 + lag2) as filter\n",
    "        from cte2 c\n",
    "    )\n",
    "\n",
    "    select c.id, c.visit_date, c.people from cte3 c where c.filter >= 2\n",
    "\"\"\", con=conn))"
   ]
  },
  {
   "cell_type": "markdown",
   "id": "bb60b0db",
   "metadata": {
    "papermill": {
     "duration": 0.006063,
     "end_time": "2024-02-22T16:03:53.073255",
     "exception": false,
     "start_time": "2024-02-22T16:03:53.067192",
     "status": "completed"
    },
    "tags": []
   },
   "source": [
    "# 4. \n",
    "Date: 10th Feb 2024<br>\n",
    "Hard Leetcode: largest-rectangle-in-histogram<br>\n",
    "Solution: https://leetcode.com/problems/largest-rectangle-in-histogram/submissions/1171340811"
   ]
  },
  {
   "cell_type": "code",
   "execution_count": 7,
   "id": "1c9c6701",
   "metadata": {
    "execution": {
     "iopub.execute_input": "2024-02-22T16:03:53.085861Z",
     "iopub.status.busy": "2024-02-22T16:03:53.085621Z",
     "iopub.status.idle": "2024-02-22T16:03:53.092103Z",
     "shell.execute_reply": "2024-02-22T16:03:53.091232Z"
    },
    "papermill": {
     "duration": 0.014937,
     "end_time": "2024-02-22T16:03:53.093931",
     "exception": false,
     "start_time": "2024-02-22T16:03:53.078994",
     "status": "completed"
    },
    "tags": []
   },
   "outputs": [],
   "source": [
    "class Solution:\n",
    "    def largestRectangleArea(self, heights: List[int]) -> int:\n",
    "        \"\"\"\n",
    "        For each hist, count the number of adjacent hist less than or equal to itself\n",
    "        Travel left to right, find the next smallest number, repeat by travelling from left to right\n",
    "        \"\"\"\n",
    "        N = len(heights)\n",
    "        nge_rtl, nge_ltr = [N - 1 for _ in range(N)], [0 for _ in range(N)]\n",
    "        stack = []\n",
    "        for i in range(N):\n",
    "            while stack and heights[stack[-1]] > heights[i]:\n",
    "                nge_rtl[stack.pop()] = i - 1\n",
    "            stack.append(i)\n",
    "\n",
    "        stack = []\n",
    "        for i in range(N - 1, -1, -1):\n",
    "            while stack and heights[stack[-1]] > heights[i]:\n",
    "                nge_ltr[stack.pop()] = i + 1\n",
    "            stack.append(i)\n",
    "\n",
    "        maxArea = -math.inf\n",
    "        for i in range(N):\n",
    "            curr = heights[i]\n",
    "            curr = (nge_rtl[i] - nge_ltr[i] + 1) * curr\n",
    "            maxArea = max(maxArea, curr)\n",
    "\n",
    "        return maxArea\n",
    "\n",
    "# Testing the soltuion\n",
    "assert Solution().largestRectangleArea([2, 1, 5, 6, 2, 3]) == 10\n",
    "assert Solution().largestRectangleArea([2,4]) == 4"
   ]
  },
  {
   "cell_type": "markdown",
   "id": "0113c7f7",
   "metadata": {
    "papermill": {
     "duration": 0.005461,
     "end_time": "2024-02-22T16:03:53.104867",
     "exception": false,
     "start_time": "2024-02-22T16:03:53.099406",
     "status": "completed"
    },
    "tags": []
   },
   "source": [
    "# 5. \n",
    "Date: 11th Feb 2024<br>\n",
    "Hard Leetcode: cherry-pickup-II<br>\n",
    "Solution: https://leetcode.com/problems/cherry-pickup-ii/submissions/1172053835/"
   ]
  },
  {
   "cell_type": "code",
   "execution_count": 8,
   "id": "de9451b0",
   "metadata": {
    "execution": {
     "iopub.execute_input": "2024-02-22T16:03:53.117512Z",
     "iopub.status.busy": "2024-02-22T16:03:53.117279Z",
     "iopub.status.idle": "2024-02-22T16:03:53.124576Z",
     "shell.execute_reply": "2024-02-22T16:03:53.123680Z"
    },
    "papermill": {
     "duration": 0.01535,
     "end_time": "2024-02-22T16:03:53.125934",
     "exception": false,
     "start_time": "2024-02-22T16:03:53.110584",
     "status": "completed"
    },
    "tags": []
   },
   "outputs": [],
   "source": [
    "class Solution:\n",
    "    def cherryPickup(self, grid: List[List[int]]) -> int:\n",
    "        M = len(grid)\n",
    "        N = len(grid[0])\n",
    "\n",
    "        @functools.cache\n",
    "        def backtrack(i: int, r1: int, r2: int) -> int:\n",
    "            if 0 <= r1 < N and 0 <= r2 < N and r1 != r2:\n",
    "                curr = grid[i][r1] + grid[i][r2]\n",
    "                if i == M - 1:\n",
    "                    return curr\n",
    "                else:\n",
    "                    return curr + max(\n",
    "                        backtrack(i + 1, r1 - 1, r2 - 1),\n",
    "                        backtrack(i + 1, r1 - 1, r2),\n",
    "                        backtrack(i + 1, r1 - 1, r2 + 1),\n",
    "                        backtrack(i + 1, r1, r2 - 1),\n",
    "                        backtrack(i + 1, r1, r2),\n",
    "                        backtrack(i + 1, r1, r2 + 1),\n",
    "                        backtrack(i + 1, r1 + 1, r2 - 1),\n",
    "                        backtrack(i + 1, r1 + 1, r2),\n",
    "                        backtrack(i + 1, r1 + 1, r2 + 1),\n",
    "                    )\n",
    "            else:\n",
    "                return -math.inf\n",
    "\n",
    "        result = backtrack(0, 0, N - 1)\n",
    "        return result\n",
    "\n",
    "# Testing the solution\n",
    "assert Solution().cherryPickup([[3,1,1],[2,5,1],[1,5,5],[2,1,1]]) == 24\n",
    "assert Solution().cherryPickup([[1,0,0,0,0,0,1],[2,0,0,0,0,3,0],[2,0,9,0,0,0,0],[0,3,0,5,4,0,0],[1,0,2,3,0,0,6]]) == 28"
   ]
  },
  {
   "cell_type": "markdown",
   "id": "e7fe1525",
   "metadata": {
    "papermill": {
     "duration": 0.005483,
     "end_time": "2024-02-22T16:03:53.136873",
     "exception": false,
     "start_time": "2024-02-22T16:03:53.131390",
     "status": "completed"
    },
    "tags": []
   },
   "source": [
    "# 6. \n",
    "Date: 11th Feb 2024<br>\n",
    "Hard Leetcode: candy<br>\n",
    "Solution: https://leetcode.com/problems/candy/submissions/1172096247"
   ]
  },
  {
   "cell_type": "code",
   "execution_count": 9,
   "id": "46ba626a",
   "metadata": {
    "execution": {
     "iopub.execute_input": "2024-02-22T16:03:53.150033Z",
     "iopub.status.busy": "2024-02-22T16:03:53.148854Z",
     "iopub.status.idle": "2024-02-22T16:03:53.159343Z",
     "shell.execute_reply": "2024-02-22T16:03:53.158476Z"
    },
    "papermill": {
     "duration": 0.018721,
     "end_time": "2024-02-22T16:03:53.161101",
     "exception": false,
     "start_time": "2024-02-22T16:03:53.142380",
     "status": "completed"
    },
    "tags": []
   },
   "outputs": [],
   "source": [
    "class Solution:\n",
    "    def candy(self, ratings: List[int]) -> int:\n",
    "        \"\"\"\n",
    "        Initially all positions are Unknown\n",
    "        Start with the lowest rated indices all the way till the highest rated indices\n",
    "\n",
    "        1. Both neighbours are unknown - assign the student with 1 child\n",
    "        2. One neighbour is known - increment neighbour + 1\n",
    "        3. Both neighbours are known - max(left_neighbour, right_neighbour) + 1\n",
    "\n",
    "        [2, 2, 0, 3, 1, 0]\n",
    "\n",
    "        [_, _, _, _, _, _]\n",
    "        [_, _, 1, _, _, 1]\n",
    "        [_, _, 1, _, 2, 1]\n",
    "        [1, 2, 1, _, 2, 1]\n",
    "        [1, 2, 1, 3, 2, 1]\n",
    "\n",
    "        sum([1, 2, 1, 3, 2, 1]) => 10\n",
    "        \"\"\"\n",
    "\n",
    "        N = len(ratings)\n",
    "        indices = dict()\n",
    "        for i in range(N):\n",
    "            curr = indices.get(ratings[i], [])\n",
    "            curr.append(i)\n",
    "            indices[ratings[i]] = curr\n",
    "\n",
    "        if N == 1:\n",
    "            return 1\n",
    "        else:\n",
    "            dp = [0 for _ in range(N)]\n",
    "            for key in sorted(indices.keys()):\n",
    "                curr = [*dp]\n",
    "                for idx in indices[key]:\n",
    "                    dp[idx] = 1 + max(curr[idx - 1] if idx > 0 else -math.inf, curr[idx + 1] if idx < N - 1 else -math.inf)\n",
    "            return sum(dp)\n",
    "\n",
    "# Testing the solution\n",
    "assert Solution().candy([1,0,2]) == 5\n",
    "assert Solution().candy([0]) == 1\n",
    "assert Solution().candy([1,2,2]) == 4\n",
    "assert Solution().candy([1,2,3,3]) == 7\n",
    "assert Solution().candy([1,2,3,3,1]) == 9\n",
    "assert Solution().candy([1,2,3,3,1,0]) == 12 \n",
    "assert Solution().candy([2,2,3,3,1,0]) == 10\n",
    "assert Solution().candy([2,2,0,3,1,0]) == 10\n",
    "assert Solution().candy([1,2,0,2,0,0,1,2,2,3,4,0,5]) == 22"
   ]
  },
  {
   "cell_type": "markdown",
   "id": "a4dca8fb",
   "metadata": {
    "papermill": {
     "duration": 0.005417,
     "end_time": "2024-02-22T16:03:53.172090",
     "exception": false,
     "start_time": "2024-02-22T16:03:53.166673",
     "status": "completed"
    },
    "tags": []
   },
   "source": [
    "# 7. \n",
    "Date: 12th Feb 2024<br>\n",
    "Hard Leetcode: n-queens<br>\n",
    "Solution: https://leetcode.com/problems/n-queens/submissions/1173381198"
   ]
  },
  {
   "cell_type": "code",
   "execution_count": 10,
   "id": "3c9a900c",
   "metadata": {
    "execution": {
     "iopub.execute_input": "2024-02-22T16:03:53.186429Z",
     "iopub.status.busy": "2024-02-22T16:03:53.185739Z",
     "iopub.status.idle": "2024-02-22T16:03:53.193754Z",
     "shell.execute_reply": "2024-02-22T16:03:53.192898Z"
    },
    "papermill": {
     "duration": 0.017171,
     "end_time": "2024-02-22T16:03:53.195385",
     "exception": false,
     "start_time": "2024-02-22T16:03:53.178214",
     "status": "completed"
    },
    "tags": []
   },
   "outputs": [],
   "source": [
    "class Solution:\n",
    "    def solveNQueens(self, N: int) -> List[List[str]]:\n",
    "        board = [[\".\" for _ in range(N)] for __ in range(N)]\n",
    "\n",
    "        def canPlace(i_: int, j_: int) -> bool:\n",
    "            \"\"\"\n",
    "            This function can be optimized. Instead of iterating through to all the cells - \n",
    "            Simply check for each placed queen if the current position is a conflict. Gonna try later :)\n",
    "\n",
    "            This would make the checks for each queen constant time.\n",
    "            \"\"\"\n",
    "            for dir_ in [(-1, 0), (1, 0), (0, -1), (0, 1), (1, 1), (-1, -1), (-1, 1), (1, -1)]:\n",
    "                row, col = i_, j_\n",
    "                while 0 <= row < N and 0 <= col < N:\n",
    "                    if board[row][col] == 'Q':\n",
    "                        return False\n",
    "                    row, col = row + dir_[0], col + dir_[1]\n",
    "            return True\n",
    "\n",
    "        result = []\n",
    "        def backtrack(i: int = 0) -> List[List[str]]:\n",
    "            if i == N:\n",
    "                result.append([\"\".join(row_) for row_ in board])\n",
    "                return\n",
    "            for j in range(N):\n",
    "                if canPlace(i, j):\n",
    "                    board[i][j] = 'Q'\n",
    "                    backtrack(i + 1)\n",
    "                    board[i][j] = '.'\n",
    "\n",
    "        backtrack()\n",
    "        return result\n",
    "\n",
    "# Testing the solution\n",
    "assert Solution().solveNQueens(4) == [['.Q..', '...Q', 'Q...', '..Q.'], ['..Q.', 'Q...', '...Q', '.Q..']]"
   ]
  },
  {
   "cell_type": "markdown",
   "id": "a852c313",
   "metadata": {
    "papermill": {
     "duration": 0.005485,
     "end_time": "2024-02-22T16:03:53.206613",
     "exception": false,
     "start_time": "2024-02-22T16:03:53.201128",
     "status": "completed"
    },
    "tags": []
   },
   "source": [
    "# 8. \n",
    "Date: 13th Feb 2024<br>\n",
    "Hard Leetcode: dungeon-game<br>\n",
    "Solution: https://leetcode.com/problems/dungeon-game/submissions/1173675729"
   ]
  },
  {
   "cell_type": "code",
   "execution_count": 11,
   "id": "4a565ada",
   "metadata": {
    "execution": {
     "iopub.execute_input": "2024-02-22T16:03:53.219391Z",
     "iopub.status.busy": "2024-02-22T16:03:53.219163Z",
     "iopub.status.idle": "2024-02-22T16:03:53.226564Z",
     "shell.execute_reply": "2024-02-22T16:03:53.225279Z"
    },
    "papermill": {
     "duration": 0.016053,
     "end_time": "2024-02-22T16:03:53.228325",
     "exception": false,
     "start_time": "2024-02-22T16:03:53.212272",
     "status": "completed"
    },
    "tags": []
   },
   "outputs": [],
   "source": [
    "class Solution:\n",
    "    def calculateMinimumHP(self, dungeon: List[List[int]]) -> int:\n",
    "        \"\"\"\n",
    "        If curr is positive or 0, minHealth is 1\n",
    "        if curr is negative, 1 - curr\n",
    "\n",
    "        Keep track of minHealth required to start at that cell and also accumulated health\n",
    "        \"\"\"\n",
    "\n",
    "        M = len(dungeon)\n",
    "        N = len(dungeon[0])\n",
    "\n",
    "        for i in range(M - 1, -1, -1):\n",
    "            for j in range(N - 1, -1, -1):\n",
    "                curr = 1 - dungeon[i][j]\n",
    "                safestChoicePath = min(dungeon[i + 1][j] if i + 1 < M else math.inf, dungeon[i][j + 1] if j + 1 < N else math.inf)\n",
    "                if safestChoicePath == math.inf:\n",
    "                    safestChoicePath = 1\n",
    "                dungeon[i][j] = max(1, curr + safestChoicePath - 1)\n",
    "\n",
    "        return dungeon[0][0]\n",
    "\n",
    "# Testing the solution\n",
    "assert Solution().calculateMinimumHP([[-2,-3,3],[-5,-10,1],[10,30,-5]]) == 7\n",
    "assert Solution().calculateMinimumHP([[2,3,3],[-5,10,1],[10,30,5]]) == 1\n",
    "assert Solution().calculateMinimumHP([[1,2,3],[-4,-5,6],[-7,-8,-9]]) == 1\n",
    "assert Solution().calculateMinimumHP([[0]]) == 1"
   ]
  },
  {
   "cell_type": "markdown",
   "id": "c9dfa58d",
   "metadata": {
    "papermill": {
     "duration": 0.005358,
     "end_time": "2024-02-22T16:03:53.239205",
     "exception": false,
     "start_time": "2024-02-22T16:03:53.233847",
     "status": "completed"
    },
    "tags": []
   },
   "source": [
    "# 9. \n",
    "Date: 13th Feb 2024<br>\n",
    "Hard Leetcode: number-of-digit-one<br>\n",
    "Solution: https://leetcode.com/problems/number-of-digit-one/submissions/1174159411"
   ]
  },
  {
   "cell_type": "code",
   "execution_count": 12,
   "id": "2d3aec91",
   "metadata": {
    "execution": {
     "iopub.execute_input": "2024-02-22T16:03:53.252536Z",
     "iopub.status.busy": "2024-02-22T16:03:53.251420Z",
     "iopub.status.idle": "2024-02-22T16:03:53.382032Z",
     "shell.execute_reply": "2024-02-22T16:03:53.381143Z"
    },
    "papermill": {
     "duration": 0.139298,
     "end_time": "2024-02-22T16:03:53.384072",
     "exception": false,
     "start_time": "2024-02-22T16:03:53.244774",
     "status": "completed"
    },
    "tags": []
   },
   "outputs": [
    {
     "name": "stderr",
     "output_type": "stream",
     "text": [
      "\r",
      "  0%|                                                                                                                              | 0/1001 [00:00<?, ?it/s]"
     ]
    },
    {
     "name": "stderr",
     "output_type": "stream",
     "text": [
      "\r",
      " 94%|██████████████████████████████████████████████████████████████████████████████████████████████████████████▋       | 937/1001 [00:00<00:00, 9357.65it/s]"
     ]
    },
    {
     "name": "stderr",
     "output_type": "stream",
     "text": [
      "\r",
      "100%|█████████████████████████████████████████████████████████████████████████████████████████████████████████████████| 1001/1001 [00:00<00:00, 8543.88it/s]"
     ]
    },
    {
     "name": "stderr",
     "output_type": "stream",
     "text": [
      "\n"
     ]
    }
   ],
   "source": [
    "class Solution:\n",
    "\n",
    "    def countDigitOne_(self, n: int) -> int:\n",
    "        i, prev, curr = 0, 0, 0\n",
    "        while i <= n:\n",
    "            curr = prev + str(i).count('1')\n",
    "            prev = curr\n",
    "            i += 1\n",
    "        return curr\n",
    "\n",
    "    def countDigitOne(self, n: int) -> int:\n",
    "        \"\"\"\n",
    "        How many times does 1 occur for each digit position?\n",
    "\n",
    "        For eg:\n",
    "                Say n = 999 (100, 10, 1)\n",
    "                1 in 100s position: 100\n",
    "                1 in 10s position: 100\n",
    "                1 in 1s position: 100\n",
    "\n",
    "        For max n: n_digits * (10 ^ (n_digits - 1))\n",
    "\n",
    "        General Logic:\n",
    "        Iterate through digits (right to left, even left to right should work)\n",
    "            If curr == 0: result += left * factor\n",
    "            Elif curr == 1: result += (left * factor) + (right + 1)\n",
    "            Else: result += (left + 1) * factor\n",
    "\n",
    "        \"\"\"\n",
    "\n",
    "        result, factor = 0, 1\n",
    "        s = str(n)\n",
    "        N = len(s)\n",
    "\n",
    "        for i in range(-1, -N -1, -1):\n",
    "\n",
    "            curr = int(s[i])\n",
    "            left = int(s[:i]) if i > -N else -1 if s[0] == 1 else 0\n",
    "            right = int(s[i+1:]) if i < -1 else -1 if s[-1] == 0 else 0\n",
    "\n",
    "            if curr == 0:\n",
    "                result += left * factor\n",
    "            elif curr == 1:\n",
    "                result += (left * factor) + right + 1\n",
    "            else:\n",
    "                result += (left + 1) * factor\n",
    "\n",
    "            factor *= 10\n",
    "\n",
    "        return result\n",
    "\n",
    "# Testing the solution\n",
    "for _ in tqdm.tqdm(range(1001)):\n",
    "    assert Solution().countDigitOne_(_) == Solution().countDigitOne(_), f\"Failed for {_}\""
   ]
  },
  {
   "cell_type": "markdown",
   "id": "e142f6b7",
   "metadata": {
    "papermill": {
     "duration": 0.005848,
     "end_time": "2024-02-22T16:03:53.395824",
     "exception": false,
     "start_time": "2024-02-22T16:03:53.389976",
     "status": "completed"
    },
    "tags": []
   },
   "source": [
    "# 10. \n",
    "Date: 14th Feb 2024<br>\n",
    "Hard Leetcode: my-calendar-iii<br>\n",
    "Solution: https://leetcode.com/problems/my-calendar-iii/submissions/1174676799/"
   ]
  },
  {
   "cell_type": "code",
   "execution_count": 13,
   "id": "1cf74e65",
   "metadata": {
    "execution": {
     "iopub.execute_input": "2024-02-22T16:03:53.411376Z",
     "iopub.status.busy": "2024-02-22T16:03:53.409820Z",
     "iopub.status.idle": "2024-02-22T16:03:53.421361Z",
     "shell.execute_reply": "2024-02-22T16:03:53.420393Z"
    },
    "papermill": {
     "duration": 0.021462,
     "end_time": "2024-02-22T16:03:53.423013",
     "exception": false,
     "start_time": "2024-02-22T16:03:53.401551",
     "status": "completed"
    },
    "tags": []
   },
   "outputs": [],
   "source": [
    "class MyCalendarThree:\n",
    "\n",
    "    def __init__(self):\n",
    "        self.calendar = []\n",
    "        self.K = -math.inf\n",
    "\n",
    "    def book_(self, startTime: int, endTime: int) -> int:\n",
    "        \"Will timeout\"\n",
    "        K = -math.inf\n",
    "        for ct in range(startTime, endTime + 1):\n",
    "            curr = 1\n",
    "            for es, ee in self.calendar:\n",
    "                if es < ct < ee or es < ct < ee:\n",
    "                    curr += 1\n",
    "            K = max(K, curr)\n",
    "\n",
    "        self.calendar.append([startTime, endTime])\n",
    "        self.K = max(self.K, K)\n",
    "        return self.K\n",
    "\n",
    "    def book_(self, startTime: int, endTime: int) -> int:\n",
    "        \"Optimized a bit by using dictionaries to remove duplicates. Time complexity in worst case is still 2^N\"\n",
    "        updated = dict()\n",
    "        for es, ee, ec in self.calendar:\n",
    "            lt, gt = sorted([[startTime, endTime], [es, ee]])\n",
    "            if lt[0] <= gt[0] < lt[1]:\n",
    "                overlap = (max(startTime, es), min(endTime, ee))\n",
    "                updated[overlap] = max(updated.get(overlap, 0), ec + 1)\n",
    "            updated[(es, ee)] = max(updated.get((es, ee), 0), ec)\n",
    "        updated[(startTime, endTime)] = max(updated.get((startTime, endTime), 0), 1)\n",
    "        self.calendar = list(map(lambda x: (x[0][0], x[0][1], x[1]), updated.items()))\n",
    "        return max(self.calendar, key=lambda x: x[2])[2]\n",
    "\n",
    "    def book(self, startTime: int, endTime: int) -> int:\n",
    "        \"https://www.youtube.com/watch?v=gbJKlcokAIo\"\n",
    "\n",
    "        start = bisect.bisect(self.calendar, (startTime, 1))\n",
    "        if start < len(self.calendar) and self.calendar[start][0] == startTime:\n",
    "            self.calendar[start] = (startTime, self.calendar[start][1] + 1)\n",
    "        else:\n",
    "            bisect.insort(self.calendar, (startTime, 1))\n",
    "\n",
    "        end = bisect.bisect(self.calendar, (endTime, 1))\n",
    "        if end < len(self.calendar) and self.calendar[end][0] == endTime:\n",
    "            self.calendar[end] = (endTime, self.calendar[end][1] - 1)\n",
    "        else:\n",
    "            bisect.insort(self.calendar, (endTime, -1))\n",
    "\n",
    "        K = -math.inf\n",
    "        curr = 0\n",
    "        for _, c in self.calendar:\n",
    "            curr += c\n",
    "            K = max(K, curr)\n",
    "\n",
    "        return K\n",
    "\n",
    "# Testing the solution\n",
    "Solution = MyCalendarThree()\n",
    "temp = (\n",
    "    [[10, 20], [50, 60], [10, 40], [5, 15], [5, 10], [25, 55], [0, 100]],\n",
    "    [1, 1, 2, 3, 3, 3, 4]\n",
    ")\n",
    "for i in range(len(temp[0])):\n",
    "    assert Solution.book(*temp[0][i]) == temp[1][i]"
   ]
  },
  {
   "cell_type": "markdown",
   "id": "f6af9dab",
   "metadata": {
    "papermill": {
     "duration": 0.005682,
     "end_time": "2024-02-22T16:03:53.434359",
     "exception": false,
     "start_time": "2024-02-22T16:03:53.428677",
     "status": "completed"
    },
    "tags": []
   },
   "source": [
    "# 11. \n",
    "Date: 15th Feb 2024<br>\n",
    "Hard Leetcode: sliding-window-maximum<br>\n",
    "Solution: https://leetcode.com/problems/sliding-window-maximum/submissions/1175614381"
   ]
  },
  {
   "cell_type": "code",
   "execution_count": 14,
   "id": "960b7976",
   "metadata": {
    "execution": {
     "iopub.execute_input": "2024-02-22T16:03:53.447940Z",
     "iopub.status.busy": "2024-02-22T16:03:53.447343Z",
     "iopub.status.idle": "2024-02-22T16:03:53.456381Z",
     "shell.execute_reply": "2024-02-22T16:03:53.455523Z"
    },
    "papermill": {
     "duration": 0.018349,
     "end_time": "2024-02-22T16:03:53.458452",
     "exception": false,
     "start_time": "2024-02-22T16:03:53.440103",
     "status": "completed"
    },
    "tags": []
   },
   "outputs": [],
   "source": [
    "class Solution:\n",
    "    def maxSlidingWindow_(self, nums: List[int], k: int) -> List[int]:\n",
    "        \"Times out\"\n",
    "        N = len(nums)\n",
    "        if k == 1:\n",
    "            return nums\n",
    "        elif N == k:\n",
    "            return [max(nums)]\n",
    "        else:\n",
    "            stack = sorted(((n, i) for i, n in enumerate(nums)))\n",
    "            result = [None] * N\n",
    "            for n, start in stack:\n",
    "                result[start: start + k] = [n] * k\n",
    "            result = result[k - 1: 1 - k]\n",
    "            return result\n",
    "\n",
    "    def maxSlidingWindow(self, nums: List[int], k: int) -> List[int]:\n",
    "        \"\"\"\n",
    "        https://www.youtube.com/watch?v=CZQGRp93K4k\n",
    "        \"\"\"\n",
    "        N = len(nums)\n",
    "        deq = collections.deque()\n",
    "        result = []\n",
    "        for i in range(N):\n",
    "            while deq and nums[deq[-1]] < nums[i]:\n",
    "                deq.pop()\n",
    "            deq.append(i)\n",
    "            while deq[0] <= i - k:\n",
    "                deq.popleft()\n",
    "            if i >= k - 1:\n",
    "                result.append(nums[deq[0]])\n",
    "        return result\n",
    "\n",
    "# Testing the solution\n",
    "assert Solution().maxSlidingWindow([9, 8, 7, 6, 5], 5) == [9]\n",
    "assert Solution().maxSlidingWindow([9, 8, 7, 6, 5], 1) == [9, 8, 7, 6, 5]\n",
    "assert Solution().maxSlidingWindow([9, 8, 7, 6, 5, 4, 3, 2, 1], 3) == [9, 8, 7, 6, 5, 4, 3]\n",
    "assert Solution().maxSlidingWindow([1, 3, -1, -3, 5, 3, 6, 7], 3) == [3, 3, 5, 5, 6, 7]\n",
    "assert Solution().maxSlidingWindow([1, 3, -1, 3, 5, 9, 6, 7, 1], 3) == [3, 3, 5, 9, 9, 9, 7]\n",
    "assert Solution().maxSlidingWindow([1, 3, -1, 3, 5, 9, 6, 7], 5) == [5, 9, 9, 9]\n",
    "assert Solution().maxSlidingWindow([-7, -8, 7, 5, 7, 1, 6, 0],  4) == [7, 7, 7, 7, 7]"
   ]
  },
  {
   "cell_type": "markdown",
   "id": "e358e335",
   "metadata": {
    "papermill": {
     "duration": 0.007061,
     "end_time": "2024-02-22T16:03:53.471141",
     "exception": false,
     "start_time": "2024-02-22T16:03:53.464080",
     "status": "completed"
    },
    "tags": []
   },
   "source": [
    "# 12. \n",
    "Date: 16th Feb 2024<br>\n",
    "Hard Leetcode: word-search-ii<br>\n",
    "Solution: https://leetcode.com/problems/word-search-ii/submissions/1176699366"
   ]
  },
  {
   "cell_type": "code",
   "execution_count": 15,
   "id": "425b8f37",
   "metadata": {
    "execution": {
     "iopub.execute_input": "2024-02-22T16:03:53.483866Z",
     "iopub.status.busy": "2024-02-22T16:03:53.483618Z",
     "iopub.status.idle": "2024-02-22T16:03:53.493919Z",
     "shell.execute_reply": "2024-02-22T16:03:53.492996Z"
    },
    "papermill": {
     "duration": 0.018899,
     "end_time": "2024-02-22T16:03:53.495764",
     "exception": false,
     "start_time": "2024-02-22T16:03:53.476865",
     "status": "completed"
    },
    "tags": []
   },
   "outputs": [
    {
     "data": {
      "text/plain": [
       "{'eat', 'oatak', 'oath'}"
      ]
     },
     "execution_count": 15,
     "metadata": {},
     "output_type": "execute_result"
    }
   ],
   "source": [
    "class Solution:\n",
    "    def findWords(self, board: List[List[str]], words: List[str]) -> List[str]:\n",
    "\n",
    "        def prune_prefix_tree(word: str, curr_prefix: dict) -> None:\n",
    "            if word == \"\":\n",
    "                del curr_prefix[\"*\"]\n",
    "            else:\n",
    "                prune_prefix_tree(word[1:], curr_prefix[word[0]])\n",
    "                if len(curr_prefix) == 0:\n",
    "                    del curr_prefix[word[0]]\n",
    "\n",
    "        result = set()\n",
    "        def backtrack(i: int, j: int, curr_prefix: dict, visited: set[tuple[int]]):\n",
    "            if 0 <= i < M and 0 <= j < N and board[i][j] in curr_prefix:\n",
    "                next_prefix = curr_prefix[board[i][j]]\n",
    "                if \"*\" in next_prefix:\n",
    "                    result.add(next_prefix[\"*\"])\n",
    "                    prune_prefix_tree(next_prefix[\"*\"], prefix_tree)\n",
    "                for dir in [(-1, 0), (1, 0), (0, -1), (0, 1)]:\n",
    "                    i_, j_ = i + dir[0], j + dir[1]\n",
    "                    if (i_, j_) not in visited:\n",
    "                        backtrack(i_, j_, next_prefix, {*visited, (i_, j_)})\n",
    "\n",
    "        # Construct the prefix tree: O(word_length * number of words)\n",
    "        prefix_tree = dict()\n",
    "        for word in words:\n",
    "            curr = prefix_tree\n",
    "            for ch in word + \"*\":\n",
    "                curr[ch] = curr.get(ch, dict())\n",
    "                if ch == \"*\":\n",
    "                    curr[ch] = word\n",
    "                curr = curr[ch]\n",
    "\n",
    "        # Backtrack into the grid as long as there is a match, if match - remove word \n",
    "        M = len(board)\n",
    "        N = len(board[0])\n",
    "        for i in range(M):\n",
    "            for j in range(N):\n",
    "                backtrack(i, j, prefix_tree, {(i, j)})\n",
    "\n",
    "        return result\n",
    "\n",
    "# Testing the solution\n",
    "Solution().findWords([[\"o\",\"a\",\"a\",\"n\"],[\"e\",\"t\",\"a\",\"e\"],[\"i\",\"h\",\"k\",\"r\"],[\"i\",\"f\",\"l\",\"v\"]], [\"oath\",\"pea\",\"eat\",\"rain\", \"oatak\"])"
   ]
  },
  {
   "cell_type": "markdown",
   "id": "6e000b14",
   "metadata": {
    "papermill": {
     "duration": 0.00576,
     "end_time": "2024-02-22T16:03:53.507573",
     "exception": false,
     "start_time": "2024-02-22T16:03:53.501813",
     "status": "completed"
    },
    "tags": []
   },
   "source": [
    "# 13. \n",
    "Date: 16th Feb 2024<br>\n",
    "Hard Leetcode: maximum-score-words-formed-by-letters<br>\n",
    "Solution: https://leetcode.com/problems/maximum-score-words-formed-by-letters/submissions/1177035354/"
   ]
  },
  {
   "cell_type": "code",
   "execution_count": 16,
   "id": "028b23d3",
   "metadata": {
    "execution": {
     "iopub.execute_input": "2024-02-22T16:03:53.521135Z",
     "iopub.status.busy": "2024-02-22T16:03:53.520437Z",
     "iopub.status.idle": "2024-02-22T16:03:53.532267Z",
     "shell.execute_reply": "2024-02-22T16:03:53.530555Z"
    },
    "papermill": {
     "duration": 0.02064,
     "end_time": "2024-02-22T16:03:53.533920",
     "exception": false,
     "start_time": "2024-02-22T16:03:53.513280",
     "status": "completed"
    },
    "tags": []
   },
   "outputs": [],
   "source": [
    "class Solution:\n",
    "\n",
    "    def sub_dict(d1: dict, d2: dict):\n",
    "        updated = dict(d1)\n",
    "        for ch in d2:\n",
    "            if ch not in updated or updated[ch] < d2[ch]:\n",
    "                return None\n",
    "            else:\n",
    "                updated[ch] -= d2[ch]\n",
    "        return updated\n",
    "\n",
    "    def maxScoreWords(self, words: List[str], letters: List[str], score: List[int]) -> int:\n",
    "\n",
    "        N_WORDS = len(words)\n",
    "\n",
    "        # Letters_dict, words_dict, scores_dict\n",
    "        letters_ = dict(collections.Counter(letters))\n",
    "        words_ = []\n",
    "        scores_ = []\n",
    "        for word in words:\n",
    "            word_ = dict()\n",
    "            score_ = 0\n",
    "            for ch in word:\n",
    "                word_[ch] = word_.get(ch, 0) + 1\n",
    "                score_ += score[ord(ch) - 97]\n",
    "            words_.append(word_)\n",
    "            scores_.append(score_)\n",
    "\n",
    "        def backtrack(idx: int, ld: dict) -> int:\n",
    "\n",
    "            if idx >= N_WORDS:\n",
    "                return 0\n",
    "\n",
    "            word_freq = words_[idx]\n",
    "            result = -math.inf\n",
    "\n",
    "            # Pick\n",
    "            ld_pick = Solution.sub_dict(ld, word_freq)\n",
    "            if ld_pick:\n",
    "                result = scores_[idx] + backtrack(idx + 1, ld_pick)\n",
    "\n",
    "            # No Pick\n",
    "            result = max(result, backtrack(idx + 1, ld))\n",
    "\n",
    "            return result \n",
    "\n",
    "        result = backtrack(0, letters_)\n",
    "        return result\n",
    "\n",
    "# Testing the solution\n",
    "assert Solution().maxScoreWords([\"dog\",\"cat\",\"dad\",\"good\"], [\"a\",\"a\",\"c\",\"d\",\"d\",\"d\",\"g\",\"o\",\"o\"], [1,0,9,5,0,0,3,0,0,0,0,0,0,0,2,0,0,0,0,0,0,0,0,0,0,0]) == 23\n",
    "assert Solution().maxScoreWords([\"xxxz\",\"ax\",\"bx\",\"cx\"], [\"z\",\"a\",\"b\",\"c\",\"x\",\"x\",\"x\"], [4,4,4,0,0,0,0,0,0,0,0,0,0,0,0,0,0,0,0,0,0,0,0,5,0,10]) == 27\n",
    "assert Solution().maxScoreWords([\"leetcode\"], [\"l\",\"e\",\"t\",\"c\",\"o\",\"d\"], [0,0,1,1,1,0,0,0,0,0,0,1,0,0,1,0,0,0,0,1,0,0,0,0,0,0]) == 0\n",
    "assert Solution().maxScoreWords([\"baa\",\"bba\",\"ccb\",\"ac\"], [\"a\",\"b\",\"b\",\"b\",\"b\",\"c\"], [2,2,1,0,0,0,0,0,0,0,0,0,0,0,0,0,0,0,0,0,0,0,0,0,0,0]) == 6"
   ]
  },
  {
   "cell_type": "markdown",
   "id": "5ba6bf18",
   "metadata": {
    "papermill": {
     "duration": 0.005817,
     "end_time": "2024-02-22T16:03:53.545474",
     "exception": false,
     "start_time": "2024-02-22T16:03:53.539657",
     "status": "completed"
    },
    "tags": []
   },
   "source": [
    "# 14. \n",
    "Date: 17th Feb 2024<br>\n",
    "Hard Leetcode: permutation-sequence<br>\n",
    "Solution: https://leetcode.com/problems/permutation-sequence/submissions/1177409098/"
   ]
  },
  {
   "cell_type": "code",
   "execution_count": 17,
   "id": "8b94d5f2",
   "metadata": {
    "execution": {
     "iopub.execute_input": "2024-02-22T16:03:53.559006Z",
     "iopub.status.busy": "2024-02-22T16:03:53.558506Z",
     "iopub.status.idle": "2024-02-22T16:03:54.398103Z",
     "shell.execute_reply": "2024-02-22T16:03:54.397220Z"
    },
    "papermill": {
     "duration": 0.848187,
     "end_time": "2024-02-22T16:03:54.399513",
     "exception": false,
     "start_time": "2024-02-22T16:03:53.551326",
     "status": "completed"
    },
    "tags": []
   },
   "outputs": [
    {
     "name": "stderr",
     "output_type": "stream",
     "text": [
      "\r",
      "  0%|                                                                                                                                 | 0/7 [00:00<?, ?it/s]"
     ]
    },
    {
     "name": "stderr",
     "output_type": "stream",
     "text": [
      "\r",
      "100%|█████████████████████████████████████████████████████████████████████████████████████████████████████████████████████████| 7/7 [00:00<00:00,  8.45it/s]"
     ]
    },
    {
     "name": "stderr",
     "output_type": "stream",
     "text": [
      "\r",
      "100%|█████████████████████████████████████████████████████████████████████████████████████████████████████████████████████████| 7/7 [00:00<00:00,  8.44it/s]"
     ]
    },
    {
     "name": "stderr",
     "output_type": "stream",
     "text": [
      "\n"
     ]
    }
   ],
   "source": [
    "class Solution:\n",
    "    def getPermutation(self, n: int, k: int) -> str:\n",
    "\n",
    "        total = math.factorial(n)\n",
    "        nums = [str(_) for _ in range(1, n + 1)]\n",
    "\n",
    "        def backtrack(nums_: list[int], k_: int, n_: int, i_: int) -> str:\n",
    "            if len(nums_) == 1:\n",
    "                return nums_[0]\n",
    "\n",
    "            curr_idx = k_ // n_\n",
    "            curr = nums_[k_ // n_]\n",
    "\n",
    "            return curr + backtrack(sorted(nums_[:curr_idx] + nums_[curr_idx + 1:]), k_ % n_, n_ // i_, i_ - 1)\n",
    "\n",
    "        return backtrack(nums, k - 1, total // n, n - 1)\n",
    "\n",
    "    def naive(self, n: int, k: int) -> str:\n",
    "        nums = [str(_) for _ in range(1, n + 1)]\n",
    "        perms = itertools.permutations(nums, n)\n",
    "        result = None\n",
    "        for _ in range(k):\n",
    "            result = next(perms)\n",
    "\n",
    "        return \"\".join(result)\n",
    "\n",
    "# Testing the Solution\n",
    "for n in tqdm.tqdm(range(1, 8)):\n",
    "    for k in range(1, math.factorial(n) + 1):\n",
    "        assert Solution().naive(n, k) == Solution().getPermutation(n, k)\n",
    "\n",
    "assert Solution().getPermutation(9, math.factorial(9)) == '987654321'"
   ]
  },
  {
   "cell_type": "markdown",
   "id": "ddb98424",
   "metadata": {
    "papermill": {
     "duration": 0.005988,
     "end_time": "2024-02-22T16:03:54.411619",
     "exception": false,
     "start_time": "2024-02-22T16:03:54.405631",
     "status": "completed"
    },
    "tags": []
   },
   "source": [
    "# 15. \n",
    "Date: 17th Feb 2024<br>\n",
    "Hard Leetcode: max-points-on-a-line<br>\n",
    "Solution: https://leetcode.com/problems/max-points-on-a-line/submissions/1177463531/"
   ]
  },
  {
   "cell_type": "code",
   "execution_count": 18,
   "id": "83f57c9b",
   "metadata": {
    "execution": {
     "iopub.execute_input": "2024-02-22T16:03:54.425789Z",
     "iopub.status.busy": "2024-02-22T16:03:54.424910Z",
     "iopub.status.idle": "2024-02-22T16:03:54.433818Z",
     "shell.execute_reply": "2024-02-22T16:03:54.432540Z"
    },
    "papermill": {
     "duration": 0.018049,
     "end_time": "2024-02-22T16:03:54.435539",
     "exception": false,
     "start_time": "2024-02-22T16:03:54.417490",
     "status": "completed"
    },
    "tags": []
   },
   "outputs": [],
   "source": [
    "class Solution:\n",
    "    def equation(pt1: List[int], pt2: List[int]) -> List[int]:\n",
    "        \"\"\"\n",
    "        https://math.stackexchange.com/a/1734022\n",
    "        \"\"\"\n",
    "\n",
    "        # Points X, Y\n",
    "        (x1, y1), (x2, y2) = pt1, pt2\n",
    "\n",
    "        # Y = MX + C\n",
    "        if abs(x2 - x1) > 0:\n",
    "            M = (y2 - y1) / (x2 - x1)\n",
    "            C = ((x2 * y1) - (x1 * y2)) / (x2 - x1)\n",
    "            return M, C, None\n",
    "\n",
    "        else: # For cases where X = C\n",
    "            return None, None, x1\n",
    "\n",
    "    def maxPoints(self, points: List[List[int]]) -> int:\n",
    "        N = len(points)\n",
    "        if N == 1:\n",
    "            return 1\n",
    "        else:\n",
    "            hm: dict[tuple[int], set[tuple[int]]] = dict()\n",
    "            for i in range(N - 1):\n",
    "                for j in range(i + 1, N):\n",
    "                    eq = Solution.equation(points[i], points[j])\n",
    "                    line_pts = hm.get(eq, set())\n",
    "                    line_pts.add(tuple(points[i]))\n",
    "                    line_pts.add(tuple(points[j]))\n",
    "                    hm[eq] = line_pts\n",
    "\n",
    "            return max(map(len, hm.values()))\n",
    "\n",
    "# Testing the solution\n",
    "assert Solution().maxPoints([[1, 1], [3, 2], [5, 3], [4, 1], [2, 3], [1, 4], [6, -1]]) == 5\n",
    "assert Solution().maxPoints([[1, 1], [2, 2], [3, 3], [0, 0]]) == 4\n",
    "assert Solution().maxPoints([[0, 0]]) == 1\n",
    "assert Solution().maxPoints([[0, 1], [0, 2], [2, 2], [1, 0], [2, 0]]) == 2"
   ]
  },
  {
   "cell_type": "markdown",
   "id": "4dc097a0",
   "metadata": {
    "papermill": {
     "duration": 0.006065,
     "end_time": "2024-02-22T16:03:54.447432",
     "exception": false,
     "start_time": "2024-02-22T16:03:54.441367",
     "status": "completed"
    },
    "tags": []
   },
   "source": [
    "# 16. \n",
    "Date: 18th Feb 2024<br>\n",
    "Hard Leetcode: earliest-possible-day-of-full-bloom<br>\n",
    "Solution: https://leetcode.com/problems/earliest-possible-day-of-full-bloom/submissions/1178490688/"
   ]
  },
  {
   "cell_type": "code",
   "execution_count": 19,
   "id": "f65ed5dd",
   "metadata": {
    "execution": {
     "iopub.execute_input": "2024-02-22T16:03:54.461277Z",
     "iopub.status.busy": "2024-02-22T16:03:54.460810Z",
     "iopub.status.idle": "2024-02-22T16:03:54.467741Z",
     "shell.execute_reply": "2024-02-22T16:03:54.466609Z"
    },
    "papermill": {
     "duration": 0.015951,
     "end_time": "2024-02-22T16:03:54.469284",
     "exception": false,
     "start_time": "2024-02-22T16:03:54.453333",
     "status": "completed"
    },
    "tags": []
   },
   "outputs": [],
   "source": [
    "class Solution:\n",
    "    def earliestFullBloom(self, plantTime: List[int], growTime: List[int]) -> int:\n",
    "        \"\"\"\n",
    "        The idea is to start with planting the seeds that take the most time\n",
    "        Calculate remaining time and return the sum\n",
    "        \"\"\"\n",
    "        plantTime, growTime = zip(*sorted(zip(plantTime, growTime), key=lambda x: x[1], reverse=True))\n",
    "\n",
    "        total = 0\n",
    "        remaining = None\n",
    "        for p, g in zip(plantTime, growTime):\n",
    "            total += p\n",
    "            remaining = g if remaining is None else max(remaining - p, g)\n",
    "\n",
    "        return total + remaining\n",
    "\n",
    "# Test the solution\n",
    "assert Solution().earliestFullBloom([1, 2, 3, 2],  [2, 1, 2, 1]) == 9\n",
    "assert Solution().earliestFullBloom([1, 4, 3], [2, 3, 1]) == 9\n",
    "assert Solution().earliestFullBloom(\n",
    "    [27, 5, 24, 17, 27, 4, 23, 16, 6, 26, 13, 17, 21, 3, 9, 10, 28, 26, 4, 10, 28, 2],  \n",
    "    [26, 9, 14, 17, 6, 14, 23, 24, 11, 6, 27, 14, 13, 1, 15, 5, 12, 15, 23, 27, 28, 12]\n",
    ") == 348"
   ]
  },
  {
   "cell_type": "markdown",
   "id": "072dcf57",
   "metadata": {
    "papermill": {
     "duration": 0.007005,
     "end_time": "2024-02-22T16:03:54.482361",
     "exception": false,
     "start_time": "2024-02-22T16:03:54.475356",
     "status": "completed"
    },
    "tags": []
   },
   "source": [
    "# 17. \n",
    "Date: 18th Feb 2024<br>\n",
    "Hard Leetcode: number-of-visible-people-in-a-queue<br>\n",
    "Solution: https://leetcode.com/problems/number-of-visible-people-in-a-queue/submissions/1178697347/"
   ]
  },
  {
   "cell_type": "code",
   "execution_count": 20,
   "id": "5f17d5cd",
   "metadata": {
    "execution": {
     "iopub.execute_input": "2024-02-22T16:03:54.495974Z",
     "iopub.status.busy": "2024-02-22T16:03:54.495460Z",
     "iopub.status.idle": "2024-02-22T16:03:54.504706Z",
     "shell.execute_reply": "2024-02-22T16:03:54.503833Z"
    },
    "papermill": {
     "duration": 0.0179,
     "end_time": "2024-02-22T16:03:54.506179",
     "exception": false,
     "start_time": "2024-02-22T16:03:54.488279",
     "status": "completed"
    },
    "tags": []
   },
   "outputs": [],
   "source": [
    "class Solution:\n",
    "    def canSeePersonsCount(self, heights: List[int]) -> List[int]:\n",
    "        N = len(heights)\n",
    "        stack = []\n",
    "        result = []\n",
    "        for i in range(N - 1, -1, -1):\n",
    "            count = 1\n",
    "            while stack and heights[i] > heights[stack[-1]]:\n",
    "                stack.pop()\n",
    "                count += 1\n",
    "            if not stack:\n",
    "                count -= 1\n",
    "            result.append(count)\n",
    "            stack.append(i)\n",
    "\n",
    "        result.reverse()\n",
    "        return result\n",
    "\n",
    "# Testing the solution - the ques was simple,\n",
    "# but really annoyed me with so many errors\n",
    "temp = [\n",
    "    [[1,2,3,4], [1,1,1,0]], [[1,2,4,3], [1,1,1,0]], [[1,3,2,4], [1,2,1,0]],\n",
    "    [[1,3,4,2], [1,1,1,0]], [[1,4,2,3], [1,2,1,0]], [[1,4,3,2], [1,1,1,0]],\n",
    "    [[2,1,3,4], [2,1,1,0]], [[2,1,4,3], [2,1,1,0]], [[2,3,1,4], [1,2,1,0]],\n",
    "    [[2,3,4,1], [1,1,1,0]], [[2,4,1,3], [1,2,1,0]], [[2,4,3,1], [1,1,1,0]],\n",
    "    [[3,1,2,4], [3,1,1,0]], [[3,1,4,2], [2,1,1,0]], [[3,2,1,4], [2,2,1,0]],\n",
    "    [[3,2,4,1], [2,1,1,0]], [[3,4,1,2], [1,2,1,0]], [[3,4,2,1], [1,1,1,0]],\n",
    "    [[4,1,2,3], [3,1,1,0]], [[4,1,3,2], [2,1,1,0]], [[4,2,1,3], [2,2,1,0]],\n",
    "    [[4,2,3,1], [2,1,1,0]], [[4,3,1,2], [1,2,1,0]], [[4,3,2,1], [1,1,1,0]],\n",
    "]\n",
    "\n",
    "for q, a in temp:\n",
    "    assert Solution().canSeePersonsCount(q) == a"
   ]
  },
  {
   "cell_type": "markdown",
   "id": "d7fcf706",
   "metadata": {
    "papermill": {
     "duration": 0.005893,
     "end_time": "2024-02-22T16:03:54.518103",
     "exception": false,
     "start_time": "2024-02-22T16:03:54.512210",
     "status": "completed"
    },
    "tags": []
   },
   "source": [
    "# 18. \n",
    "Date: 19th Feb 2024<br>\n",
    "Hard Leetcode: minimum-insertion-steps-to-make-a-string-palindrome<br>\n",
    "Solution: https://leetcode.com/problems/minimum-insertion-steps-to-make-a-string-palindrome/submissions/1179413048"
   ]
  },
  {
   "cell_type": "code",
   "execution_count": 21,
   "id": "2d9e6591",
   "metadata": {
    "execution": {
     "iopub.execute_input": "2024-02-22T16:03:54.532790Z",
     "iopub.status.busy": "2024-02-22T16:03:54.532210Z",
     "iopub.status.idle": "2024-02-22T16:03:54.540394Z",
     "shell.execute_reply": "2024-02-22T16:03:54.539091Z"
    },
    "papermill": {
     "duration": 0.01763,
     "end_time": "2024-02-22T16:03:54.542393",
     "exception": false,
     "start_time": "2024-02-22T16:03:54.524763",
     "status": "completed"
    },
    "tags": []
   },
   "outputs": [],
   "source": [
    "class Solution:\n",
    "    def minInsertions(self, s: str) -> int:\n",
    "\n",
    "        @functools.cache\n",
    "        def countInsertionSteps(left: int, right: int) -> int:\n",
    "            if left < 0 and right >= N:\n",
    "                return 0\n",
    "            elif left < 0:\n",
    "                return N - right\n",
    "            elif right >= N:\n",
    "                return left + 1\n",
    "            elif s[left] == s[right]:\n",
    "                return countInsertionSteps(left - 1, right + 1)\n",
    "            else:\n",
    "                return min(\n",
    "                    2 + countInsertionSteps(left - 1, right + 1),\n",
    "                    1 + countInsertionSteps(left - 1, right),\n",
    "                    1 + countInsertionSteps(left, right + 1),\n",
    "                )\n",
    "\n",
    "        N = len(s)\n",
    "        minSteps = +math.inf\n",
    "        for i in range(N):\n",
    "            left, right = i - 1, i + 1\n",
    "            minSteps = min(minSteps, countInsertionSteps(left, right))\n",
    "            if i != N - 1:\n",
    "                left, right = i, i + 1\n",
    "                minSteps = min(minSteps, countInsertionSteps(left, right))\n",
    "        return minSteps\n",
    "\n",
    "# Testing the solution\n",
    "assert Solution().minInsertions(\"zzazz\") == 0\n",
    "assert Solution().minInsertions(\"mbadm\") == 2\n",
    "assert Solution().minInsertions(\"leetcode\") == 5\n",
    "assert Solution().minInsertions(\"missouri\") == 4"
   ]
  },
  {
   "cell_type": "markdown",
   "id": "2a0f8d4b",
   "metadata": {
    "papermill": {
     "duration": 0.005964,
     "end_time": "2024-02-22T16:03:54.554309",
     "exception": false,
     "start_time": "2024-02-22T16:03:54.548345",
     "status": "completed"
    },
    "tags": []
   },
   "source": [
    "# 19. \n",
    "Date: 20th Feb 2024<br>\n",
    "Hard Leetcode: parsing-a-boolean-expression<br>\n",
    "Solution: https://leetcode.com/problems/parsing-a-boolean-expression/submissions/1181172767"
   ]
  },
  {
   "cell_type": "code",
   "execution_count": 22,
   "id": "ffec35bb",
   "metadata": {
    "execution": {
     "iopub.execute_input": "2024-02-22T16:03:54.568875Z",
     "iopub.status.busy": "2024-02-22T16:03:54.567919Z",
     "iopub.status.idle": "2024-02-22T16:03:54.575130Z",
     "shell.execute_reply": "2024-02-22T16:03:54.573849Z"
    },
    "papermill": {
     "duration": 0.016653,
     "end_time": "2024-02-22T16:03:54.576871",
     "exception": false,
     "start_time": "2024-02-22T16:03:54.560218",
     "status": "completed"
    },
    "tags": []
   },
   "outputs": [],
   "source": [
    "class Solution:\n",
    "    def parseBoolExpr(self, expression: str) -> bool:\n",
    "        stack: list  = []\n",
    "        for ch in expression:\n",
    "            if ch not in (\")\", \",\"):\n",
    "                stack.append(ch)\n",
    "            elif ch != ',':\n",
    "                expr = []\n",
    "                while stack[-1] != '(':\n",
    "                    curr = stack.pop()\n",
    "                    expr.append(True if curr in ('t', True) else False)\n",
    "                stack.pop()\n",
    "                op = stack.pop()\n",
    "                if op == \"!\":\n",
    "                    result = not expr[0]\n",
    "                elif op == \"|\":\n",
    "                    result = any(expr + [False])\n",
    "                else:\n",
    "                    result = all(expr + [True])\n",
    "\n",
    "                stack.append(result)\n",
    "\n",
    "        return stack[0]\n",
    "\n",
    "# Testing the Solution\n",
    "assert Solution().parseBoolExpr(\"&(|(f))\") == False\n",
    "assert Solution().parseBoolExpr(\"&(!(f))\") == True\n",
    "assert Solution().parseBoolExpr(\"|(!(f))\") == True\n",
    "assert Solution().parseBoolExpr(\"|(f,f,f,t)\") == True\n",
    "assert Solution().parseBoolExpr(\"|(f,f,f,&(t,t,!(f),t))\") == True\n",
    "assert Solution().parseBoolExpr(\"!(&(f,t))\") == True\n",
    "assert Solution().parseBoolExpr(\"!(!(t))\") == True"
   ]
  },
  {
   "cell_type": "markdown",
   "id": "b3546f3b",
   "metadata": {
    "papermill": {
     "duration": 0.005838,
     "end_time": "2024-02-22T16:03:54.588571",
     "exception": false,
     "start_time": "2024-02-22T16:03:54.582733",
     "status": "completed"
    },
    "tags": []
   },
   "source": [
    "# 20. \n",
    "Date: 21th Feb 2024<br>\n",
    "Hard Leetcode: freedom-trail<br>\n",
    "Solution: https://leetcode.com/problems/freedom-trail/submissions/1182130541/"
   ]
  },
  {
   "cell_type": "code",
   "execution_count": 23,
   "id": "712fc416",
   "metadata": {
    "execution": {
     "iopub.execute_input": "2024-02-22T16:03:54.602328Z",
     "iopub.status.busy": "2024-02-22T16:03:54.601800Z",
     "iopub.status.idle": "2024-02-22T16:03:54.609503Z",
     "shell.execute_reply": "2024-02-22T16:03:54.608445Z"
    },
    "papermill": {
     "duration": 0.017144,
     "end_time": "2024-02-22T16:03:54.611632",
     "exception": false,
     "start_time": "2024-02-22T16:03:54.594488",
     "status": "completed"
    },
    "tags": []
   },
   "outputs": [],
   "source": [
    "class Solution:\n",
    "\n",
    "    def findRotateSteps(self, ring: str, key: str) -> int:\n",
    "\n",
    "        def countNextSteps(nextChar: str, currIdx: int) -> list[tuple[int, int]]:\n",
    "            next_indices = positions[nextChar]\n",
    "            result: list[tuple[int, int]] = []\n",
    "            for nextIdx in next_indices:\n",
    "                steps = abs(currIdx - nextIdx)\n",
    "                steps = min(steps, ringLength - steps)\n",
    "                result.append((nextIdx, steps))\n",
    "            return result\n",
    "\n",
    "        @functools.cache\n",
    "        def backtrack(key: str, curr: int):\n",
    "\n",
    "            if key == \"\":\n",
    "                return 0\n",
    "\n",
    "            ch = key[0]\n",
    "            minStep = math.inf\n",
    "            for nextIdx, steps in countNextSteps(ch, curr):\n",
    "                minStep = min(minStep, 1 + steps + backtrack(key[1:], nextIdx))\n",
    "\n",
    "            return minStep\n",
    "\n",
    "        # Compute the length\n",
    "        ringLength, keyLength = len(ring), len(key)\n",
    "\n",
    "        # Compute the positions of characters for quicker navigation\n",
    "        positions: dict[str, list[int]]  = dict()\n",
    "        for i in range(ringLength):\n",
    "            ch = ring[i]\n",
    "            currIndices = positions.get(ch, [])\n",
    "            currIndices.append(i)\n",
    "            positions[ch] = currIndices\n",
    "\n",
    "        result = backtrack(key, 0)\n",
    "        return result\n",
    "\n",
    "# Testing the Solution\n",
    "assert Solution().findRotateSteps(\"godding\", \"gd\") == 4\n",
    "assert Solution().findRotateSteps(\"godding\", \"godding\") == 13\n",
    "assert Solution().findRotateSteps(\"sasdaasdsadwqaasadw\", \"sadwq\") == 16"
   ]
  },
  {
   "cell_type": "markdown",
   "id": "266c2935",
   "metadata": {
    "papermill": {
     "duration": 0.00611,
     "end_time": "2024-02-22T16:03:54.623842",
     "exception": false,
     "start_time": "2024-02-22T16:03:54.617732",
     "status": "completed"
    },
    "tags": []
   },
   "source": [
    "# 21. \n",
    "Date: 22nd Feb 2024<br>\n",
    "Hard Leetcode: stone-game-iv/<br>\n",
    "Solution: https://leetcode.com/problems/stone-game-iv/submissions/1182531823/"
   ]
  },
  {
   "cell_type": "code",
   "execution_count": 24,
   "id": "630deeb7",
   "metadata": {
    "execution": {
     "iopub.execute_input": "2024-02-22T16:03:54.636999Z",
     "iopub.status.busy": "2024-02-22T16:03:54.636755Z",
     "iopub.status.idle": "2024-02-22T16:03:54.643076Z",
     "shell.execute_reply": "2024-02-22T16:03:54.642208Z"
    },
    "lines_to_next_cell": 1,
    "papermill": {
     "duration": 0.01475,
     "end_time": "2024-02-22T16:03:54.644506",
     "exception": false,
     "start_time": "2024-02-22T16:03:54.629756",
     "status": "completed"
    },
    "tags": []
   },
   "outputs": [],
   "source": [
    "class Solution:\n",
    "    @functools.cache\n",
    "    def winnerSquareGame_(self, n: int) -> bool:\n",
    "        sqrt = math.sqrt(n)\n",
    "        if n == 0:\n",
    "            return False\n",
    "        elif int(sqrt) == sqrt:\n",
    "            return True\n",
    "        else:\n",
    "            start = int(sqrt)\n",
    "            while start > 0:\n",
    "                if not self.winnerSquareGame_(n - start * start):\n",
    "                    return True\n",
    "                start -= 1\n",
    "            return False\n",
    "\n",
    "    def winnerSquareGame(self, n: int) -> bool:\n",
    "        dp = [False] * (n + 1)\n",
    "        for curr in range(1, n + 1):\n",
    "            for i in range(1, int(math.sqrt(curr)) + 1):\n",
    "                if not dp[curr - i * i]:\n",
    "                    dp[curr] = True\n",
    "                    break\n",
    "\n",
    "        return dp[-1]\n",
    "\n",
    "assert Solution().winnerSquareGame(1) == True\n",
    "assert Solution().winnerSquareGame(2) == False\n",
    "assert Solution().winnerSquareGame(3) == True\n",
    "assert Solution().winnerSquareGame(4) == True\n",
    "assert Solution().winnerSquareGame(5) == False"
   ]
  },
  {
   "cell_type": "markdown",
   "id": "2aabd7bf",
   "metadata": {
    "papermill": {
     "duration": 0.006012,
     "end_time": "2024-02-22T16:03:54.656688",
     "exception": false,
     "start_time": "2024-02-22T16:03:54.650676",
     "status": "completed"
    },
    "tags": []
   },
   "source": [
    "# 22. \n",
    "Date: 22nd Feb 2024<br>\n",
    "Hard Leetcode: strange-printer-ii<br>\n",
    "Solution: https://leetcode.com/problems/strange-printer-ii/submissions/1183170079/"
   ]
  },
  {
   "cell_type": "code",
   "execution_count": 25,
   "id": "4a8eb22f",
   "metadata": {
    "execution": {
     "iopub.execute_input": "2024-02-22T16:03:54.671071Z",
     "iopub.status.busy": "2024-02-22T16:03:54.670688Z",
     "iopub.status.idle": "2024-02-22T16:03:54.682301Z",
     "shell.execute_reply": "2024-02-22T16:03:54.681424Z"
    },
    "papermill": {
     "duration": 0.021351,
     "end_time": "2024-02-22T16:03:54.684000",
     "exception": false,
     "start_time": "2024-02-22T16:03:54.662649",
     "status": "completed"
    },
    "tags": []
   },
   "outputs": [],
   "source": [
    "class Solution:\n",
    "    def isPrintable(self, targetGrid: List[List[int]]) -> bool:\n",
    "\n",
    "        def hasCycle(curr: int, visited: set[int]) -> bool:\n",
    "            if curr not in order:\n",
    "                return False\n",
    "            for next_ in order[curr]:\n",
    "                if next_ in visited:\n",
    "                    return True\n",
    "                elif hasCycle(next_, {*visited, curr}):\n",
    "                    return True\n",
    "\n",
    "            return False\n",
    "\n",
    "        M = len(targetGrid)\n",
    "        N = len(targetGrid[0])\n",
    "\n",
    "        # For each number, store the top, left, bottom, right\n",
    "        rectangles: dict[int, tuple[int, int, int, int]] = dict()\n",
    "        for i in range(M):\n",
    "            for j in range(N):\n",
    "                curr = targetGrid[i][j]\n",
    "                top, left, bottom, right = rectangles.get(curr, (M, N, 0, 0))\n",
    "                if i < top:\n",
    "                    top = i\n",
    "                if j < left:\n",
    "                    left = j\n",
    "                if i > bottom:\n",
    "                    bottom = i\n",
    "                if j > right:\n",
    "                    right = j\n",
    "\n",
    "                rectangles[curr] = top, left, bottom, right\n",
    "\n",
    "        # Compare each number pairs by checking the overlap\n",
    "        # If overlap present, ensure that all the cells of the \n",
    "        # overlapping grid are of any one of the either number\n",
    "        # Note that it is okay if the overlapping grid contains \n",
    "        # a different number other than the two\n",
    "\n",
    "        order: dict[int, list[int]] = dict()\n",
    "        for n1, n2 in itertools.combinations(rectangles, r=2):\n",
    "            top1, left1, bottom1, right1 = rectangles[n1]\n",
    "            top2, left2, bottom2, right2 = rectangles[n2]\n",
    "            top, left, bottom, right = max(top1, top2), max(left1, left2), min(bottom1, bottom2), min(right1, right2)\n",
    "            overlapping_paints = set()\n",
    "            for i in range(top, bottom + 1):\n",
    "                for j in range(left, right + 1):\n",
    "                    overlapping_paints.add(targetGrid[i][j])\n",
    "\n",
    "            assert not len(overlapping_paints) or (n1 in overlapping_paints or n2 in overlapping_paints)\n",
    "\n",
    "            if n1 in overlapping_paints and n2 in overlapping_paints:\n",
    "                return False\n",
    "            else:\n",
    "                if n1 in overlapping_paints:\n",
    "                    next_ = order.get(n2, [])\n",
    "                    next_.append(n1)\n",
    "                    order[n2] = next_\n",
    "                elif n2 in overlapping_paints:\n",
    "                    next_ = order.get(n1, [])\n",
    "                    next_.append(n2)\n",
    "                    order[n1] = next_\n",
    "        else:\n",
    "            # Ensure that there are no cycles\n",
    "            for start in order:\n",
    "                if hasCycle(start, set()):\n",
    "                    return False\n",
    "            return True\n",
    "\n",
    "# Testing the solution\n",
    "assert Solution().isPrintable([[1,1,1,1],[1,1,3,3],[1,1,3,4],[5,5,1,4]]) == True\n",
    "assert Solution().isPrintable([[1,1,1,1], [1,2,2,1], [1,2,2,1], [1,1,1,1]]) == True\n",
    "assert Solution().isPrintable([[1,2,1], [2,1,2], [1,2,1]]) == False\n",
    "assert Solution().isPrintable([[5,1,5,3,5],[4,4,4,3,4],[5,1,5,3,5],[2,1,2,2,2],[5,1,5,3,5]]) == False"
   ]
  }
 ],
 "metadata": {
  "kernelspec": {
   "display_name": "Python 3 (ipykernel)",
   "language": "python",
   "name": "python3"
  },
  "language_info": {
   "codemirror_mode": {
    "name": "ipython",
    "version": 3
   },
   "file_extension": ".py",
   "mimetype": "text/x-python",
   "name": "python",
   "nbconvert_exporter": "python",
   "pygments_lexer": "ipython3",
   "version": "3.10.13"
  },
  "papermill": {
   "default_parameters": {},
   "duration": 5.212079,
   "end_time": "2024-02-22T16:03:55.213367",
   "environment_variables": {},
   "exception": null,
   "input_path": "50HL30D.ipynb",
   "output_path": "50HL30D.ipynb",
   "parameters": {},
   "start_time": "2024-02-22T16:03:50.001288",
   "version": "2.4.0"
  }
 },
 "nbformat": 4,
 "nbformat_minor": 5
}