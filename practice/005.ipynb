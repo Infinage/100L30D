{
 "cells": [
  {
   "cell_type": "code",
   "execution_count": 1,
   "id": "fa51d761",
   "metadata": {
    "execution": {
     "iopub.execute_input": "2024-07-09T03:44:30.262994Z",
     "iopub.status.busy": "2024-07-09T03:44:30.262643Z",
     "iopub.status.idle": "2024-07-09T03:44:30.597831Z",
     "shell.execute_reply": "2024-07-09T03:44:30.597232Z"
    },
    "papermill": {
     "duration": 0.350376,
     "end_time": "2024-07-09T03:44:30.599488",
     "exception": false,
     "start_time": "2024-07-09T03:44:30.249112",
     "status": "completed"
    },
    "tags": []
   },
   "outputs": [],
   "source": [
    "from typing import List, Optional, Generator\n",
    "import pandas as pd\n",
    "import numpy as np\n",
    "import sqlite3\n",
    "import re\n",
    "import io\n",
    "import math\n",
    "import collections\n",
    "import itertools\n",
    "import functools\n",
    "import random\n",
    "import string\n",
    "import tqdm\n",
    "import bisect\n",
    "import heapq\n",
    "\n",
    "conn = sqlite3.connect(\":memory:\")\n",
    "\n",
    "def regexp(expr, item):\n",
    "    reg = re.compile(expr)\n",
    "    return reg.search(item) is not None\n",
    "\n",
    "def read_lc_df(s: str, dtypes: dict[str, str]=dict()) -> pd.DataFrame:\n",
    "    temp = pd.read_csv(io.StringIO(s), sep=\"|\", skiprows=2)\n",
    "    temp = temp.iloc[1:-1, 1:-1]\n",
    "    temp.columns = temp.columns.map(str.strip)\n",
    "    temp = temp.map(lambda x: x if type(x) != str else None if x.strip() == 'null' else x.strip())\n",
    "    temp = temp.astype(dtypes)\n",
    "    return temp\n",
    "\n",
    "conn.create_function(\"REGEXP\", 2, regexp)"
   ]
  },
  {
   "cell_type": "markdown",
   "id": "db473660",
   "metadata": {
    "papermill": {
     "duration": 0.011744,
     "end_time": "2024-07-09T03:44:30.623485",
     "exception": false,
     "start_time": "2024-07-09T03:44:30.611741",
     "status": "completed"
    },
    "tags": []
   },
   "source": [
    "#### Helper for Binary tree problems"
   ]
  },
  {
   "cell_type": "code",
   "execution_count": 2,
   "id": "6e8896c0",
   "metadata": {
    "execution": {
     "iopub.execute_input": "2024-07-09T03:44:30.647988Z",
     "iopub.status.busy": "2024-07-09T03:44:30.647641Z",
     "iopub.status.idle": "2024-07-09T03:44:30.654753Z",
     "shell.execute_reply": "2024-07-09T03:44:30.654285Z"
    },
    "lines_to_next_cell": 1,
    "papermill": {
     "duration": 0.020679,
     "end_time": "2024-07-09T03:44:30.655825",
     "exception": false,
     "start_time": "2024-07-09T03:44:30.635146",
     "status": "completed"
    },
    "tags": []
   },
   "outputs": [],
   "source": [
    "class BinaryTreeNode:\n",
    "    def __init__(self, val=0, left=None, right=None):\n",
    "        self.val = val\n",
    "        self.left = left\n",
    "        self.right = right\n",
    "\n",
    "    def to_list(self):\n",
    "        to_visit = [self]\n",
    "        visited = []\n",
    "        while len(to_visit) > 0:\n",
    "            curr = to_visit.pop(0)\n",
    "            if curr:\n",
    "                to_visit.append(curr.left)\n",
    "                to_visit.append(curr.right)\n",
    "                visited.append(curr.val)\n",
    "            else:\n",
    "                visited.append(curr)\n",
    "\n",
    "        while visited and not visited[-1]:\n",
    "            visited.pop()\n",
    "\n",
    "        return visited\n",
    "\n",
    "    def __str__(self):\n",
    "        return str(self.val)\n",
    "\n",
    "    @staticmethod\n",
    "    def from_array(nums: list[int|None]):\n",
    "        '''Create a Tree from a list of nums. Returns the root node.'''\n",
    "        if len(nums) == 0:\n",
    "            return None\n",
    "        elif len(nums) == 1:\n",
    "            return BinaryTreeNode(nums[0])\n",
    "        else:\n",
    "            forest = [BinaryTreeNode(nums[0])]\n",
    "            parent_idx = -1\n",
    "            for i in range(1, len(nums)):\n",
    "\n",
    "                curr = None\n",
    "                if nums[i] is not None:\n",
    "                    curr = BinaryTreeNode(nums[i])\n",
    "                    forest.append(curr)\n",
    "\n",
    "                if i % 2 == 1:\n",
    "                    parent_idx += 1\n",
    "                    forest[parent_idx].left = curr\n",
    "                else:\n",
    "                    forest[parent_idx].right = curr\n",
    "\n",
    "        return forest[0]"
   ]
  },
  {
   "cell_type": "markdown",
   "id": "de5b1765",
   "metadata": {
    "papermill": {
     "duration": 0.01165,
     "end_time": "2024-07-09T03:44:30.679185",
     "exception": false,
     "start_time": "2024-07-09T03:44:30.667535",
     "status": "completed"
    },
    "tags": []
   },
   "source": [
    "#### Helper for Singly Linked lists"
   ]
  },
  {
   "cell_type": "code",
   "execution_count": 3,
   "id": "e736c8a5",
   "metadata": {
    "execution": {
     "iopub.execute_input": "2024-07-09T03:44:30.703513Z",
     "iopub.status.busy": "2024-07-09T03:44:30.703095Z",
     "iopub.status.idle": "2024-07-09T03:44:30.707508Z",
     "shell.execute_reply": "2024-07-09T03:44:30.706986Z"
    },
    "lines_to_next_cell": 1,
    "papermill": {
     "duration": 0.017662,
     "end_time": "2024-07-09T03:44:30.708552",
     "exception": false,
     "start_time": "2024-07-09T03:44:30.690890",
     "status": "completed"
    },
    "tags": []
   },
   "outputs": [],
   "source": [
    "class ListNode:\n",
    "    def __init__(self, val=0, next=None):\n",
    "        self.val = val\n",
    "        self.next = next\n",
    "\n",
    "    def __str__(self):\n",
    "        return str(self.val)\n",
    "\n",
    "    @staticmethod\n",
    "    def to_singly_linked_list(nums: list[int]):\n",
    "        root = prev = None\n",
    "        for n in nums:\n",
    "            curr = ListNode(n)\n",
    "            # Init once\n",
    "            if not root:\n",
    "                root = curr\n",
    "            if prev:\n",
    "                prev.next = curr\n",
    "            prev = curr\n",
    "\n",
    "        return root\n",
    "\n",
    "    def to_list(self) -> list[int]:\n",
    "        result = []\n",
    "        curr = self\n",
    "        while curr:\n",
    "            result.append(curr.val)\n",
    "            curr = curr.next\n",
    "        return result"
   ]
  },
  {
   "cell_type": "markdown",
   "id": "cd635853",
   "metadata": {
    "papermill": {
     "duration": 0.011831,
     "end_time": "2024-07-09T03:44:30.732171",
     "exception": false,
     "start_time": "2024-07-09T03:44:30.720340",
     "status": "completed"
    },
    "tags": []
   },
   "source": [
    "Codeforces practice"
   ]
  },
  {
   "cell_type": "code",
   "execution_count": 4,
   "id": "df35356a",
   "metadata": {
    "execution": {
     "iopub.execute_input": "2024-07-09T03:44:30.756412Z",
     "iopub.status.busy": "2024-07-09T03:44:30.755942Z",
     "iopub.status.idle": "2024-07-09T03:44:30.760256Z",
     "shell.execute_reply": "2024-07-09T03:44:30.759833Z"
    },
    "lines_to_next_cell": 1,
    "papermill": {
     "duration": 0.017603,
     "end_time": "2024-07-09T03:44:30.761332",
     "exception": false,
     "start_time": "2024-07-09T03:44:30.743729",
     "status": "completed"
    },
    "tags": []
   },
   "outputs": [],
   "source": [
    "# https://codeforces.com/problemset/problem/1984/B\n",
    "def large_addition(N: int) -> bool:\n",
    "    if N < 10:\n",
    "        return False\n",
    "    else:\n",
    "        N_str: str = str(N)\n",
    "        length = len(N_str)\n",
    "        for i in range(length):\n",
    "            if i == 0 and N_str[i] != '1':\n",
    "                return False\n",
    "            elif i == length - 1 and N_str[i] == '9':\n",
    "                return False\n",
    "            elif i not in (0, length - 1) and N_str[i] == '0':\n",
    "                return False\n",
    "\n",
    "        return True\n",
    "\n",
    "# Testing the solution\n",
    "assert large_addition(1393938) == True\n",
    "assert large_addition(200) == False\n",
    "assert large_addition(10) == True"
   ]
  },
  {
   "cell_type": "markdown",
   "id": "80b62de1",
   "metadata": {
    "papermill": {
     "duration": 0.011597,
     "end_time": "2024-07-09T03:44:30.784753",
     "exception": false,
     "start_time": "2024-07-09T03:44:30.773156",
     "status": "completed"
    },
    "tags": []
   },
   "source": [
    "LC Virtual: 25th June 2024\n",
    "https://leetcode.com/contest/smarking-algorithm-contest-3/"
   ]
  },
  {
   "cell_type": "code",
   "execution_count": 5,
   "id": "ec2db856",
   "metadata": {
    "execution": {
     "iopub.execute_input": "2024-07-09T03:44:30.809070Z",
     "iopub.status.busy": "2024-07-09T03:44:30.808674Z",
     "iopub.status.idle": "2024-07-09T03:44:30.812681Z",
     "shell.execute_reply": "2024-07-09T03:44:30.812237Z"
    },
    "lines_to_next_cell": 1,
    "papermill": {
     "duration": 0.017407,
     "end_time": "2024-07-09T03:44:30.813775",
     "exception": false,
     "start_time": "2024-07-09T03:44:30.796368",
     "status": "completed"
    },
    "tags": []
   },
   "outputs": [],
   "source": [
    "# Q1\n",
    "# https://www.youtube.com/watch?v=x8T11yRLIyY\n",
    "def minMoves(nums: list[int]) -> int:\n",
    "    \"\"\"\n",
    "    Intution: Instead of increasing all n - 1 elements by 1 each time, try to decrement\n",
    "    the max element to the smallest element. Relative distances between numbers are the same.\n",
    "    \"\"\"\n",
    "    nums.sort()\n",
    "    result = 0\n",
    "    for i in range(len(nums) - 1, -1, -1):\n",
    "        result += nums[i] - nums[0]\n",
    "    return result\n",
    "\n",
    "# Testing the solution\n",
    "assert minMoves([1,2,3,4]) == 6\n",
    "assert minMoves([1,2,3]) == 3"
   ]
  },
  {
   "cell_type": "code",
   "execution_count": 6,
   "id": "46f751bf",
   "metadata": {
    "execution": {
     "iopub.execute_input": "2024-07-09T03:44:30.838490Z",
     "iopub.status.busy": "2024-07-09T03:44:30.838109Z",
     "iopub.status.idle": "2024-07-09T03:44:30.843244Z",
     "shell.execute_reply": "2024-07-09T03:44:30.842828Z"
    },
    "lines_to_next_cell": 1,
    "papermill": {
     "duration": 0.018552,
     "end_time": "2024-07-09T03:44:30.844281",
     "exception": false,
     "start_time": "2024-07-09T03:44:30.825729",
     "status": "completed"
    },
    "tags": []
   },
   "outputs": [],
   "source": [
    "# Q2\n",
    "def numberOfBoomerangs(points: list[list[int]]) -> int:\n",
    "    def distance(pt1: list[int], pt2: list[int]) -> float:\n",
    "        return math.sqrt(((pt1[0] - pt2[0]) ** 2) + ((pt1[1] - pt2[1]) ** 2))\n",
    "\n",
    "    boommerangs: int = 0\n",
    "    N = len(points)\n",
    "    for i in range(N):\n",
    "        curr = points[i]\n",
    "        distances: dict[float, int] = dict()\n",
    "        for j in range(N):\n",
    "            if j != i:\n",
    "                dist = distance(points[i], points[j])\n",
    "                distances[dist] = distances.get(dist, 0) + 1\n",
    "\n",
    "        for count in distances.values():\n",
    "            boommerangs += math.perm(count, 2)\n",
    "\n",
    "    return boommerangs\n",
    "\n",
    "# Testing the solution\n",
    "assert numberOfBoomerangs([[0,0],[1,0],[2,0]]) == 2\n",
    "assert numberOfBoomerangs([[1,1],[2,2],[3,3]]) == 2\n",
    "assert numberOfBoomerangs([[1,1]]) == 0"
   ]
  },
  {
   "cell_type": "code",
   "execution_count": 7,
   "id": "06c17597",
   "metadata": {
    "execution": {
     "iopub.execute_input": "2024-07-09T03:44:30.868853Z",
     "iopub.status.busy": "2024-07-09T03:44:30.868448Z",
     "iopub.status.idle": "2024-07-09T03:44:30.873711Z",
     "shell.execute_reply": "2024-07-09T03:44:30.873241Z"
    },
    "lines_to_next_cell": 1,
    "papermill": {
     "duration": 0.018653,
     "end_time": "2024-07-09T03:44:30.874724",
     "exception": false,
     "start_time": "2024-07-09T03:44:30.856071",
     "status": "completed"
    },
    "tags": []
   },
   "outputs": [],
   "source": [
    "# Q3\n",
    "def findMinArrowShots(points: list[list[int]]) -> int:\n",
    "    # Sort by end and merge the start, end\n",
    "    points.sort(key=lambda x: (x[1], x[0]))\n",
    "\n",
    "    # Merge the intervals\n",
    "    merged_intervals: list[tuple[int, int]] = []\n",
    "    for start, end in points:\n",
    "        if merged_intervals and merged_intervals[-1][1] >= start:\n",
    "            merged_intervals[-1] = max(merged_intervals[-1][0], start), min(merged_intervals[-1][1], end)\n",
    "        else:\n",
    "            merged_intervals.append((start, end))\n",
    "\n",
    "    return len(merged_intervals)\n",
    "\n",
    "# Testing the solution\n",
    "assert findMinArrowShots([[10,16],[2,8],[1,6],[7,12]]) == 2\n",
    "assert findMinArrowShots([[1,2],[3,4],[5,6],[7,8]]) == 4\n",
    "assert findMinArrowShots([[1,2],[2,3],[3,4],[4,5]]) == 2"
   ]
  },
  {
   "cell_type": "code",
   "execution_count": 8,
   "id": "602ae596",
   "metadata": {
    "execution": {
     "iopub.execute_input": "2024-07-09T03:44:30.899273Z",
     "iopub.status.busy": "2024-07-09T03:44:30.898903Z",
     "iopub.status.idle": "2024-07-09T03:44:30.903456Z",
     "shell.execute_reply": "2024-07-09T03:44:30.903007Z"
    },
    "lines_to_next_cell": 1,
    "papermill": {
     "duration": 0.017957,
     "end_time": "2024-07-09T03:44:30.904528",
     "exception": false,
     "start_time": "2024-07-09T03:44:30.886571",
     "status": "completed"
    },
    "tags": []
   },
   "outputs": [],
   "source": [
    "# Q4\n",
    "def numberOfArithmeticSlicesBrute(nums: list[int]) -> int:\n",
    "    def is_valid(sub: list[int]) -> bool:\n",
    "        if len(sub) < 3:\n",
    "            return False\n",
    "        else:\n",
    "            diff = sub[1] - sub[0]\n",
    "            for i in range(len(sub) - 1):\n",
    "                if sub[i + 1] - sub[i] != diff:\n",
    "                    return False\n",
    "            return True\n",
    "\n",
    "    count = 0\n",
    "    def backtrack(i: int, subseq: list[int]):\n",
    "        if i == N:\n",
    "            count += is_valid(subseq)\n",
    "        else:\n",
    "            subseq.append(nums[i])\n",
    "            backtrack(i + 1, subseq)\n",
    "            subseq.pop()\n",
    "            backtrack(i + 1, subseq)\n",
    "\n",
    "    N = len(nums)\n",
    "    backtrack(0, [])\n",
    "    return count"
   ]
  },
  {
   "cell_type": "code",
   "execution_count": 9,
   "id": "f1e64142",
   "metadata": {
    "execution": {
     "iopub.execute_input": "2024-07-09T03:44:30.928871Z",
     "iopub.status.busy": "2024-07-09T03:44:30.928465Z",
     "iopub.status.idle": "2024-07-09T03:44:30.933133Z",
     "shell.execute_reply": "2024-07-09T03:44:30.932683Z"
    },
    "lines_to_next_cell": 1,
    "papermill": {
     "duration": 0.018043,
     "end_time": "2024-07-09T03:44:30.934279",
     "exception": false,
     "start_time": "2024-07-09T03:44:30.916236",
     "status": "completed"
    },
    "tags": []
   },
   "outputs": [],
   "source": [
    "# Upsolving\n",
    "# https://www.youtube.com/watch?v=YIMwwT9JdIE\n",
    "def numberOfArithmeticSlices(nums: list[int]) -> int:\n",
    "    \"\"\"\n",
    "    Ending at index 'j' what is maximum number of arthimetic subsequences that I can form >= 2\n",
    "    \"\"\"\n",
    "    N = len(nums)\n",
    "    dp: list[collections.defaultdict[int, int]] = [collections.defaultdict(int) for _ in range(N)]\n",
    "    sub_count = dp_sum = 0\n",
    "    for j in range(N):\n",
    "        for i in range(j):\n",
    "            delta = nums[i] - nums[j]\n",
    "            dp[j][delta] += dp[i][delta] + 1\n",
    "            sub_count, dp_sum = sub_count + 1, dp_sum + dp[i][delta] + 1\n",
    "\n",
    "    return dp_sum - sub_count\n",
    "\n",
    "# Testing the solution\n",
    "assert numberOfArithmeticSlices([2,4,6,8,10]) == 7\n",
    "assert numberOfArithmeticSlices([7,7,7,7,7]) == 16"
   ]
  },
  {
   "cell_type": "markdown",
   "id": "79053be1",
   "metadata": {
    "papermill": {
     "duration": 0.011691,
     "end_time": "2024-07-09T03:44:30.957829",
     "exception": false,
     "start_time": "2024-07-09T03:44:30.946138",
     "status": "completed"
    },
    "tags": []
   },
   "source": [
    "LC VC: June 26th 2024"
   ]
  },
  {
   "cell_type": "code",
   "execution_count": 10,
   "id": "2e438aa0",
   "metadata": {
    "execution": {
     "iopub.execute_input": "2024-07-09T03:44:30.982024Z",
     "iopub.status.busy": "2024-07-09T03:44:30.981620Z",
     "iopub.status.idle": "2024-07-09T03:44:30.986312Z",
     "shell.execute_reply": "2024-07-09T03:44:30.985801Z"
    },
    "lines_to_next_cell": 1,
    "papermill": {
     "duration": 0.017803,
     "end_time": "2024-07-09T03:44:30.987289",
     "exception": false,
     "start_time": "2024-07-09T03:44:30.969486",
     "status": "completed"
    },
    "tags": []
   },
   "outputs": [],
   "source": [
    "# Q4: Pattern 132\n",
    "# https://www.youtube.com/watch?v=q5ANAl8Z458\n",
    "# https://leetcode.com/problems/132-pattern/submissions/1301126531/\n",
    "def find132pattern(nums: list[int]) -> bool:\n",
    "    N = len(nums)\n",
    "\n",
    "    # Monotonic stack, storing min values till index - value, min pairs\n",
    "    stack: list[tuple[int, int]] = []\n",
    "    min_: int = nums[0]\n",
    "\n",
    "    for n in nums:\n",
    "        while stack and stack[-1][0] <= n:\n",
    "            stack.pop()\n",
    "\n",
    "        if stack and stack[-1][1] < n:\n",
    "            return True\n",
    "\n",
    "        stack.append((n, min_))\n",
    "        min_ = min(min_, n)\n",
    "\n",
    "    return False\n",
    "\n",
    "# Testing the solution\n",
    "assert find132pattern([1,2,3,4]) == False\n",
    "assert find132pattern([3,1,4,2]) == True\n",
    "assert find132pattern([-1,3,2,0]) == True\n",
    "assert find132pattern([3,1,2]) == False"
   ]
  },
  {
   "cell_type": "markdown",
   "id": "6afba366",
   "metadata": {
    "papermill": {
     "duration": 0.011753,
     "end_time": "2024-07-09T03:44:31.025153",
     "exception": false,
     "start_time": "2024-07-09T03:44:31.013400",
     "status": "completed"
    },
    "tags": []
   },
   "source": [
    "Balance a Binary Search tree"
   ]
  },
  {
   "cell_type": "code",
   "execution_count": 11,
   "id": "47bab318",
   "metadata": {
    "execution": {
     "iopub.execute_input": "2024-07-09T03:44:31.049786Z",
     "iopub.status.busy": "2024-07-09T03:44:31.049290Z",
     "iopub.status.idle": "2024-07-09T03:44:31.055436Z",
     "shell.execute_reply": "2024-07-09T03:44:31.054973Z"
    },
    "lines_to_next_cell": 1,
    "papermill": {
     "duration": 0.019641,
     "end_time": "2024-07-09T03:44:31.056450",
     "exception": false,
     "start_time": "2024-07-09T03:44:31.036809",
     "status": "completed"
    },
    "tags": []
   },
   "outputs": [
    {
     "name": "stdout",
     "output_type": "stream",
     "text": [
      "[3, 2, 4, 1]\n"
     ]
    }
   ],
   "source": [
    "# https://leetcode.com/problems/balance-a-binary-search-tree/submissions/1301150197\n",
    "def balanceBST(root: BinaryTreeNode) -> BinaryTreeNode|None:\n",
    "    def createBalancedBST(nodes_: list[int]) -> BinaryTreeNode|None:\n",
    "        N = len(nodes_)\n",
    "        if N == 0:\n",
    "            return None\n",
    "        else:\n",
    "            mid = N // 2\n",
    "            root_: BinaryTreeNode = BinaryTreeNode(nodes_[mid])\n",
    "            root_.left = createBalancedBST(nodes_[:mid])\n",
    "            root_.right = createBalancedBST(nodes_[mid + 1:])\n",
    "            return root_\n",
    "\n",
    "    # 1. Retrieve all elements in-order traversal (left, root, right), this returns an array in sorted order\n",
    "    curr: BinaryTreeNode = root\n",
    "    nodes: list[int] = []\n",
    "    stack: list[BinaryTreeNode] = []\n",
    "    while True:\n",
    "        while curr:\n",
    "            stack.append(curr)\n",
    "            curr = curr.left\n",
    "        if stack:\n",
    "            curr = stack.pop()\n",
    "            nodes.append(curr.val)\n",
    "            curr = curr.right\n",
    "        else:\n",
    "            break\n",
    "\n",
    "    # 2. Create a BST from the nodes: Take the middle element as the root, create left and right subtree recursively\n",
    "    return createBalancedBST(nodes)\n",
    "\n",
    "# Testing the solution\n",
    "print(balanceBST(BinaryTreeNode.from_array([1,None,2,None,3,None,4,None,None])).to_list())"
   ]
  },
  {
   "cell_type": "markdown",
   "id": "304faf22",
   "metadata": {
    "papermill": {
     "duration": 0.011771,
     "end_time": "2024-07-09T03:44:31.080207",
     "exception": false,
     "start_time": "2024-07-09T03:44:31.068436",
     "status": "completed"
    },
    "tags": []
   },
   "source": [
    "LC Practice"
   ]
  },
  {
   "cell_type": "code",
   "execution_count": 12,
   "id": "0ac43f3b",
   "metadata": {
    "execution": {
     "iopub.execute_input": "2024-07-09T03:44:31.104633Z",
     "iopub.status.busy": "2024-07-09T03:44:31.104277Z",
     "iopub.status.idle": "2024-07-09T03:44:31.108351Z",
     "shell.execute_reply": "2024-07-09T03:44:31.107814Z"
    },
    "lines_to_next_cell": 1,
    "papermill": {
     "duration": 0.01747,
     "end_time": "2024-07-09T03:44:31.109405",
     "exception": false,
     "start_time": "2024-07-09T03:44:31.091935",
     "status": "completed"
    },
    "tags": []
   },
   "outputs": [],
   "source": [
    "def subarraySum(nums: list[int], k: int) -> int:\n",
    "    prefix: collections.defaultdict = collections.defaultdict(int)\n",
    "    prefix[0], count, psum = 1, 0, 0\n",
    "    for n in nums:\n",
    "        psum += n\n",
    "        count += prefix[psum - k]\n",
    "        prefix[psum] += 1\n",
    "\n",
    "    return count\n",
    "\n",
    "# Testing the solution\n",
    "assert subarraySum([1,2,3], 3) == 2\n",
    "assert subarraySum([1,1,1], 2) == 2"
   ]
  },
  {
   "cell_type": "code",
   "execution_count": 13,
   "id": "b278e908",
   "metadata": {
    "execution": {
     "iopub.execute_input": "2024-07-09T03:44:31.133968Z",
     "iopub.status.busy": "2024-07-09T03:44:31.133586Z",
     "iopub.status.idle": "2024-07-09T03:44:31.139165Z",
     "shell.execute_reply": "2024-07-09T03:44:31.138648Z"
    },
    "lines_to_next_cell": 1,
    "papermill": {
     "duration": 0.018976,
     "end_time": "2024-07-09T03:44:31.140212",
     "exception": false,
     "start_time": "2024-07-09T03:44:31.121236",
     "status": "completed"
    },
    "tags": []
   },
   "outputs": [],
   "source": [
    "# https://leetcode.com/problems/continuous-subarray-sum/submissions/1301461461/\n",
    "def checkSubarraySum(nums: list[int], k: int) -> bool:\n",
    "    N = len(nums)\n",
    "    prefix: dict[int, int] = {0: -1}\n",
    "    psum = 0\n",
    "    for i in range(N):\n",
    "        psum = (psum + nums[i]) % k\n",
    "        if i - prefix.get(psum, i) >= 2:\n",
    "            return True\n",
    "        prefix[psum] = min(prefix.get(psum, i), i)\n",
    "\n",
    "    return False\n",
    "\n",
    "# Testing the solution\n",
    "assert checkSubarraySum([23,2,4,6,7], 6) == True\n",
    "assert checkSubarraySum([0], 1) == False\n",
    "assert checkSubarraySum([23,2,6,4,7,13], 13) == False\n",
    "assert checkSubarraySum([23,2,6,4,7,13,13], 13) == True\n",
    "assert checkSubarraySum([1,0], 2) == False\n",
    "assert checkSubarraySum([1,2,3,4], 6) == True"
   ]
  },
  {
   "cell_type": "markdown",
   "id": "b3ac55c5",
   "metadata": {
    "papermill": {
     "duration": 0.011637,
     "end_time": "2024-07-09T03:44:31.163695",
     "exception": false,
     "start_time": "2024-07-09T03:44:31.152058",
     "status": "completed"
    },
    "tags": []
   },
   "source": [
    "Check if array is sorted and rotated"
   ]
  },
  {
   "cell_type": "code",
   "execution_count": 14,
   "id": "05c610bc",
   "metadata": {
    "execution": {
     "iopub.execute_input": "2024-07-09T03:44:31.188321Z",
     "iopub.status.busy": "2024-07-09T03:44:31.187961Z",
     "iopub.status.idle": "2024-07-09T03:44:31.192354Z",
     "shell.execute_reply": "2024-07-09T03:44:31.191843Z"
    },
    "lines_to_next_cell": 1,
    "papermill": {
     "duration": 0.017962,
     "end_time": "2024-07-09T03:44:31.193437",
     "exception": false,
     "start_time": "2024-07-09T03:44:31.175475",
     "status": "completed"
    },
    "tags": []
   },
   "outputs": [],
   "source": [
    "def checkArraySortedAndRotated(nums: list[int]) -> bool:\n",
    "    N = len(nums)\n",
    "    count = 0\n",
    "    for i in range(N - 1):\n",
    "        count += nums[i + 1] < nums[i]\n",
    "    return count == 0 or (count == 1 and nums[0] > nums[-1])\n",
    "\n",
    "# Testing the solution\n",
    "assert checkArraySortedAndRotated([3,4,5,1,2]) == True\n",
    "assert checkArraySortedAndRotated([2,1,3,4]) == False\n",
    "assert checkArraySortedAndRotated([3,2,1]) == False"
   ]
  },
  {
   "cell_type": "markdown",
   "id": "2d033d8f",
   "metadata": {
    "papermill": {
     "duration": 0.011661,
     "end_time": "2024-07-09T03:44:31.216926",
     "exception": false,
     "start_time": "2024-07-09T03:44:31.205265",
     "status": "completed"
    },
    "tags": []
   },
   "source": [
    "All ancestors of a node in a DAG"
   ]
  },
  {
   "cell_type": "code",
   "execution_count": 15,
   "id": "50e7e595",
   "metadata": {
    "execution": {
     "iopub.execute_input": "2024-07-09T03:44:31.241502Z",
     "iopub.status.busy": "2024-07-09T03:44:31.241035Z",
     "iopub.status.idle": "2024-07-09T03:44:31.247457Z",
     "shell.execute_reply": "2024-07-09T03:44:31.246945Z"
    },
    "lines_to_next_cell": 1,
    "papermill": {
     "duration": 0.019719,
     "end_time": "2024-07-09T03:44:31.248432",
     "exception": false,
     "start_time": "2024-07-09T03:44:31.228713",
     "status": "completed"
    },
    "tags": []
   },
   "outputs": [],
   "source": [
    "# https://leetcode.com/problems/all-ancestors-of-a-node-in-a-directed-acyclic-graph/submissions/1304043339\n",
    "def getAncestors(N: int, edges: list[list[int]]) -> list[list[int]]:\n",
    "    @functools.cache\n",
    "    def DFS(n: int) -> set[int]:\n",
    "        ancestors: set[int] = set()\n",
    "        for next_ in adjl[n]:\n",
    "            ancestors.add(next_)\n",
    "            for next_ancestor in DFS(next_):\n",
    "                ancestors.add(next_ancestor)\n",
    "        return ancestors\n",
    "\n",
    "    adjl: collections.defaultdict[int, list[int]] = collections.defaultdict(list)\n",
    "    for n1, n2 in edges:\n",
    "        adjl[n2].append(n1)\n",
    "\n",
    "    result: list[list[int]] = [[] for _ in range(N)]\n",
    "    for i in range(N):\n",
    "        result[i] = sorted(DFS(i))\n",
    "\n",
    "    return result\n",
    "\n",
    "# Testing the solution\n",
    "assert getAncestors(8, [[0,3],[0,4],[1,3],[2,4],[2,7],[3,5],[3,6],[3,7],[4,6]]) == [[],[],[],[0,1],[0,2],[0,1,3],[0,1,2,3,4],[0,1,2,3]]\n",
    "assert getAncestors(5, [[0,1],[0,2],[0,3],[0,4],[1,2],[1,3],[1,4],[2,3],[2,4],[3,4]]) == [[],[0],[0,1],[0,1,2],[0,1,2,3]]"
   ]
  },
  {
   "cell_type": "markdown",
   "id": "0fb25f1d",
   "metadata": {
    "papermill": {
     "duration": 0.01183,
     "end_time": "2024-07-09T03:44:31.272123",
     "exception": false,
     "start_time": "2024-07-09T03:44:31.260293",
     "status": "completed"
    },
    "tags": []
   },
   "source": [
    "LC Contest: 30th June 2024"
   ]
  },
  {
   "cell_type": "code",
   "execution_count": 16,
   "id": "2cc84226",
   "metadata": {
    "execution": {
     "iopub.execute_input": "2024-07-09T03:44:31.296532Z",
     "iopub.status.busy": "2024-07-09T03:44:31.296335Z",
     "iopub.status.idle": "2024-07-09T03:44:31.301623Z",
     "shell.execute_reply": "2024-07-09T03:44:31.301146Z"
    },
    "lines_to_next_cell": 1,
    "papermill": {
     "duration": 0.018748,
     "end_time": "2024-07-09T03:44:31.302667",
     "exception": false,
     "start_time": "2024-07-09T03:44:31.283919",
     "status": "completed"
    },
    "tags": []
   },
   "outputs": [],
   "source": [
    "# Q1\n",
    "def maxHeightOfTriangle(red: int, blue: int) -> int:\n",
    "    @functools.cache\n",
    "    def backtrack(i: int) -> tuple[int, int]:\n",
    "        if i == 0:\n",
    "            return 0, 0\n",
    "        else:\n",
    "            prev = backtrack(i - 1)\n",
    "            if i % 2 == 0:\n",
    "                return prev[0], prev[1] + i\n",
    "            else:\n",
    "                return prev[0] + i, prev[1]\n",
    "\n",
    "    red, blue = sorted([red, blue])\n",
    "    low, high = 1, 20\n",
    "    while low <= high:\n",
    "        mid = (low + high) // 2\n",
    "        r, b = sorted(backtrack(mid))\n",
    "        if r <= red and b <= blue:\n",
    "            low = mid + 1\n",
    "        else:\n",
    "            high = mid - 1\n",
    "\n",
    "    return high\n",
    "\n",
    "# Testing the solution\n",
    "assert maxHeightOfTriangle(10, 1) == 2\n",
    "assert maxHeightOfTriangle(1, 1) == 1\n",
    "assert maxHeightOfTriangle(2, 1) == 2\n",
    "assert maxHeightOfTriangle(2, 4) == 3"
   ]
  },
  {
   "cell_type": "code",
   "execution_count": 17,
   "id": "3acecb65",
   "metadata": {
    "execution": {
     "iopub.execute_input": "2024-07-09T03:44:31.327393Z",
     "iopub.status.busy": "2024-07-09T03:44:31.327017Z",
     "iopub.status.idle": "2024-07-09T03:44:31.331590Z",
     "shell.execute_reply": "2024-07-09T03:44:31.331044Z"
    },
    "lines_to_next_cell": 1,
    "papermill": {
     "duration": 0.01806,
     "end_time": "2024-07-09T03:44:31.332664",
     "exception": false,
     "start_time": "2024-07-09T03:44:31.314604",
     "status": "completed"
    },
    "tags": []
   },
   "outputs": [],
   "source": [
    "# Q2\n",
    "def maximumLength(nums: list[int]) -> int:\n",
    "    \"\"\"\n",
    "    Either all consequetive element pairs should sum up to an even number or to an odd number\n",
    "\n",
    "    If all elements are to sum to an even number: either all should be even or all numbers should be odd => max(odd_count, even_count)\n",
    "    If all elements are to sum to an odd number: greedily check validity (consequetive elements should be odd-even or even-odd)\n",
    "    \"\"\"\n",
    "    odd_sum_length = odd_count = even_count = 0\n",
    "    prev = 0 if nums[0] % 2 else 1\n",
    "    for i in range(len(nums)):\n",
    "        if nums[i] % 2 == 0:\n",
    "            even_count += 1\n",
    "        else:\n",
    "            odd_count += 1\n",
    "\n",
    "        if nums[i] % 2 != prev:\n",
    "            odd_sum_length, prev = odd_sum_length + 1, nums[i] % 2\n",
    "\n",
    "    return max(odd_sum_length, odd_count, even_count)\n",
    "\n",
    "# Testing the solution\n",
    "assert maximumLength([1,2,3,4]) == 4\n",
    "assert maximumLength([1,2,1,1,2,1,2]) == 6\n",
    "assert maximumLength([1,3]) == 2"
   ]
  },
  {
   "cell_type": "markdown",
   "id": "7d9b395f",
   "metadata": {
    "papermill": {
     "duration": 0.011838,
     "end_time": "2024-07-09T03:44:31.356604",
     "exception": false,
     "start_time": "2024-07-09T03:44:31.344766",
     "status": "completed"
    },
    "tags": []
   },
   "source": [
    "search-query-auto-complete: Striver A2Z: First question"
   ]
  },
  {
   "cell_type": "code",
   "execution_count": 18,
   "id": "ac84136c",
   "metadata": {
    "execution": {
     "iopub.execute_input": "2024-07-09T03:44:31.381076Z",
     "iopub.status.busy": "2024-07-09T03:44:31.380816Z",
     "iopub.status.idle": "2024-07-09T03:44:31.388191Z",
     "shell.execute_reply": "2024-07-09T03:44:31.387789Z"
    },
    "lines_to_next_cell": 1,
    "papermill": {
     "duration": 0.020898,
     "end_time": "2024-07-09T03:44:31.389296",
     "exception": false,
     "start_time": "2024-07-09T03:44:31.368398",
     "status": "completed"
    },
    "tags": []
   },
   "outputs": [],
   "source": [
    "class AutoCompleteSystem:\n",
    "    def __init__(self, sentences: list[str], times: list[int]) -> None:\n",
    "        # Store a dictionary of sentences along with their frequencies\n",
    "        self.sentences: collections.defaultdict[str, int] = collections.defaultdict(lambda: 0)\n",
    "        self.acc: str = \"\"\n",
    "        for sentence, freq in zip(sentences, times):\n",
    "            self.sentences[sentence] = freq\n",
    "\n",
    "    def input(self, character: str) -> list[str]:\n",
    "        if character != '#':\n",
    "            self.acc += character\n",
    "            result: list[tuple[int, str]] = []\n",
    "            for sentence, freq in self.sentences.items():\n",
    "                if sentence.startswith(self.acc):\n",
    "                    result.append((-freq, sentence))\n",
    "            result.sort()\n",
    "            return list(map(lambda x: x[1], result[:3]))\n",
    "\n",
    "        else:\n",
    "            self.sentences[self.acc] += 1\n",
    "            self.acc = ''\n",
    "            return []\n",
    "\n",
    "# Testing the solution - 1\n",
    "temp = AutoCompleteSystem([\"i love you\", \"island\", \"ironman\", \"i love geeksforgeeks\"], [5,3,2,2])\n",
    "assert temp.input(\"i\") == [\"i love you\", \"island\",\"i love geeksforgeeks\"]\n",
    "assert temp.input(\" \") == [\"i love you\", \"i love geeksforgeeks\"]\n",
    "assert temp.input(\"a\") == []\n",
    "assert temp.input(\"#\") == []\n",
    "assert temp.input(\"i\") == ['i love you', 'island', 'i love geeksforgeeks']\n",
    "assert temp.input(\" \") == ['i love you', 'i love geeksforgeeks', 'i a']\n",
    "assert temp.input(\"a\") == ['i a']\n",
    "assert temp.input(\"m\") == []\n",
    "assert temp.input(\"#\") == []\n",
    "assert temp.input(\"i\") == ['i love you', 'island', 'i love geeksforgeeks']\n",
    "assert temp.input(\" \") == ['i love you', 'i love geeksforgeeks', 'i a']\n",
    "assert temp.input(\"a\") == ['i a', 'i am']\n",
    "assert temp.input(\"m\") == ['i am']\n",
    "assert temp.input(\" \") == []"
   ]
  },
  {
   "cell_type": "markdown",
   "id": "4629edb8",
   "metadata": {
    "papermill": {
     "duration": 0.011731,
     "end_time": "2024-07-09T03:44:31.412842",
     "exception": false,
     "start_time": "2024-07-09T03:44:31.401111",
     "status": "completed"
    },
    "tags": []
   },
   "source": [
    "Patterns practice"
   ]
  },
  {
   "cell_type": "code",
   "execution_count": 19,
   "id": "0a0790b9",
   "metadata": {
    "execution": {
     "iopub.execute_input": "2024-07-09T03:44:31.437091Z",
     "iopub.status.busy": "2024-07-09T03:44:31.436901Z",
     "iopub.status.idle": "2024-07-09T03:44:31.440385Z",
     "shell.execute_reply": "2024-07-09T03:44:31.439887Z"
    },
    "lines_to_next_cell": 1,
    "papermill": {
     "duration": 0.01682,
     "end_time": "2024-07-09T03:44:31.441433",
     "exception": false,
     "start_time": "2024-07-09T03:44:31.424613",
     "status": "completed"
    },
    "tags": []
   },
   "outputs": [
    {
     "name": "stdout",
     "output_type": "stream",
     "text": [
      "*****\n",
      "*****\n",
      "*****\n",
      "*****\n",
      "*****\n"
     ]
    }
   ],
   "source": [
    "def p1(N: int) -> None:\n",
    "    for i in range(N):\n",
    "        for j in range(N):\n",
    "            print('*', end='')\n",
    "        print()\n",
    "\n",
    "# Testing the solution\n",
    "p1(5)"
   ]
  },
  {
   "cell_type": "code",
   "execution_count": 20,
   "id": "3917a2b2",
   "metadata": {
    "execution": {
     "iopub.execute_input": "2024-07-09T03:44:31.466199Z",
     "iopub.status.busy": "2024-07-09T03:44:31.465838Z",
     "iopub.status.idle": "2024-07-09T03:44:31.469303Z",
     "shell.execute_reply": "2024-07-09T03:44:31.468790Z"
    },
    "lines_to_next_cell": 1,
    "papermill": {
     "duration": 0.017033,
     "end_time": "2024-07-09T03:44:31.470365",
     "exception": false,
     "start_time": "2024-07-09T03:44:31.453332",
     "status": "completed"
    },
    "tags": []
   },
   "outputs": [
    {
     "name": "stdout",
     "output_type": "stream",
     "text": [
      "*\n",
      "**\n",
      "***\n",
      "****\n",
      "*****\n"
     ]
    }
   ],
   "source": [
    "def p2(N: int) -> None:\n",
    "    for i in range(N):\n",
    "        for j in range(i + 1):\n",
    "            print(\"*\", end='')\n",
    "        print()\n",
    "\n",
    "# Testing the solution\n",
    "p2(5)"
   ]
  },
  {
   "cell_type": "code",
   "execution_count": 21,
   "id": "1a2807e5",
   "metadata": {
    "execution": {
     "iopub.execute_input": "2024-07-09T03:44:31.494895Z",
     "iopub.status.busy": "2024-07-09T03:44:31.494734Z",
     "iopub.status.idle": "2024-07-09T03:44:31.498160Z",
     "shell.execute_reply": "2024-07-09T03:44:31.497654Z"
    },
    "lines_to_next_cell": 1,
    "papermill": {
     "duration": 0.016924,
     "end_time": "2024-07-09T03:44:31.499248",
     "exception": false,
     "start_time": "2024-07-09T03:44:31.482324",
     "status": "completed"
    },
    "tags": []
   },
   "outputs": [
    {
     "name": "stdout",
     "output_type": "stream",
     "text": [
      "1 \n",
      "1 2 \n",
      "1 2 3 \n",
      "1 2 3 4 \n",
      "1 2 3 4 5 \n"
     ]
    }
   ],
   "source": [
    "def p3(N: int) -> None:\n",
    "    for i in range(N):\n",
    "        for j in range(i + 1):\n",
    "            print(j + 1, end=' ')\n",
    "        print()\n",
    "\n",
    "# Testing the solution\n",
    "p3(5)"
   ]
  },
  {
   "cell_type": "code",
   "execution_count": 22,
   "id": "a81ab688",
   "metadata": {
    "execution": {
     "iopub.execute_input": "2024-07-09T03:44:31.524093Z",
     "iopub.status.busy": "2024-07-09T03:44:31.523933Z",
     "iopub.status.idle": "2024-07-09T03:44:31.527591Z",
     "shell.execute_reply": "2024-07-09T03:44:31.527150Z"
    },
    "lines_to_next_cell": 1,
    "papermill": {
     "duration": 0.017185,
     "end_time": "2024-07-09T03:44:31.528618",
     "exception": false,
     "start_time": "2024-07-09T03:44:31.511433",
     "status": "completed"
    },
    "tags": []
   },
   "outputs": [
    {
     "name": "stdout",
     "output_type": "stream",
     "text": [
      "1 \n",
      "2 2 \n",
      "3 3 3 \n",
      "4 4 4 4 \n",
      "5 5 5 5 5 \n"
     ]
    }
   ],
   "source": [
    "def p4(N: int) -> None:\n",
    "    for i in range(N):\n",
    "        for j in range(i + 1):\n",
    "            print(i + 1, end=' ')\n",
    "        print()\n",
    "\n",
    "# Testing the solution\n",
    "p4(5)"
   ]
  },
  {
   "cell_type": "code",
   "execution_count": 23,
   "id": "a3ae50be",
   "metadata": {
    "execution": {
     "iopub.execute_input": "2024-07-09T03:44:31.553912Z",
     "iopub.status.busy": "2024-07-09T03:44:31.553440Z",
     "iopub.status.idle": "2024-07-09T03:44:31.557144Z",
     "shell.execute_reply": "2024-07-09T03:44:31.556705Z"
    },
    "lines_to_next_cell": 1,
    "papermill": {
     "duration": 0.017414,
     "end_time": "2024-07-09T03:44:31.558223",
     "exception": false,
     "start_time": "2024-07-09T03:44:31.540809",
     "status": "completed"
    },
    "tags": []
   },
   "outputs": [
    {
     "name": "stdout",
     "output_type": "stream",
     "text": [
      "*****\n",
      "****\n",
      "***\n",
      "**\n",
      "*\n"
     ]
    }
   ],
   "source": [
    "def p5(N: int) -> None:\n",
    "    for i in range(N, 0, -1):\n",
    "        for j in range(i):\n",
    "            print(\"*\", end='')\n",
    "        print()\n",
    "\n",
    "# Testing the solution\n",
    "p5(5)"
   ]
  },
  {
   "cell_type": "code",
   "execution_count": 24,
   "id": "2c02ed3c",
   "metadata": {
    "execution": {
     "iopub.execute_input": "2024-07-09T03:44:31.583450Z",
     "iopub.status.busy": "2024-07-09T03:44:31.583133Z",
     "iopub.status.idle": "2024-07-09T03:44:31.586639Z",
     "shell.execute_reply": "2024-07-09T03:44:31.586159Z"
    },
    "lines_to_next_cell": 1,
    "papermill": {
     "duration": 0.017164,
     "end_time": "2024-07-09T03:44:31.587671",
     "exception": false,
     "start_time": "2024-07-09T03:44:31.570507",
     "status": "completed"
    },
    "tags": []
   },
   "outputs": [
    {
     "name": "stdout",
     "output_type": "stream",
     "text": [
      "12345\n",
      "1234\n",
      "123\n",
      "12\n",
      "1\n"
     ]
    }
   ],
   "source": [
    "def p6(N: int) -> None:\n",
    "    for i in range(N, 0, -1):\n",
    "        for j in range(i):\n",
    "            print(j + 1, end='')\n",
    "        print()\n",
    "\n",
    "# Testing the solution\n",
    "p6(5)"
   ]
  },
  {
   "cell_type": "code",
   "execution_count": 25,
   "id": "126c1e65",
   "metadata": {
    "execution": {
     "iopub.execute_input": "2024-07-09T03:44:31.613020Z",
     "iopub.status.busy": "2024-07-09T03:44:31.612821Z",
     "iopub.status.idle": "2024-07-09T03:44:31.617459Z",
     "shell.execute_reply": "2024-07-09T03:44:31.616943Z"
    },
    "lines_to_next_cell": 1,
    "papermill": {
     "duration": 0.018591,
     "end_time": "2024-07-09T03:44:31.618492",
     "exception": false,
     "start_time": "2024-07-09T03:44:31.599901",
     "status": "completed"
    },
    "tags": []
   },
   "outputs": [
    {
     "name": "stdout",
     "output_type": "stream",
     "text": [
      "    *    \n",
      "   ***   \n",
      "  *****  \n",
      " ******* \n",
      "*********\n"
     ]
    }
   ],
   "source": [
    "def p7(N: int) -> None:\n",
    "    max_stars: int = (2 * N) - 1\n",
    "    for i in range(1, N + 1):\n",
    "        stars: int = (2 * i) - 1\n",
    "        half = (max_stars - stars) // 2\n",
    "        for j in range(half):\n",
    "            print(\" \", end='')\n",
    "        for j in range(stars):\n",
    "            print(\"*\", end='')\n",
    "        for j in range(half):\n",
    "            print(\" \", end='')\n",
    "        print()\n",
    "\n",
    "# Testing the solution\n",
    "p7(5)"
   ]
  },
  {
   "cell_type": "code",
   "execution_count": 26,
   "id": "cb4e9553",
   "metadata": {
    "execution": {
     "iopub.execute_input": "2024-07-09T03:44:31.644374Z",
     "iopub.status.busy": "2024-07-09T03:44:31.644036Z",
     "iopub.status.idle": "2024-07-09T03:44:31.648430Z",
     "shell.execute_reply": "2024-07-09T03:44:31.647937Z"
    },
    "lines_to_next_cell": 1,
    "papermill": {
     "duration": 0.018467,
     "end_time": "2024-07-09T03:44:31.649543",
     "exception": false,
     "start_time": "2024-07-09T03:44:31.631076",
     "status": "completed"
    },
    "tags": []
   },
   "outputs": [
    {
     "name": "stdout",
     "output_type": "stream",
     "text": [
      "*********\n",
      " ******* \n",
      "  *****  \n",
      "   ***   \n",
      "    *    \n"
     ]
    }
   ],
   "source": [
    "def p8(N: int) -> None:\n",
    "    max_stars: int = (2 * N) - 1\n",
    "    for i in range(N, 0, -1):\n",
    "        stars: int = (2 * i) - 1\n",
    "        half = (max_stars - stars) // 2\n",
    "        for j in range(half):\n",
    "            print(\" \", end='')\n",
    "        for j in range(stars):\n",
    "            print(\"*\", end='')\n",
    "        for j in range(half):\n",
    "            print(\" \", end='')\n",
    "        print()\n",
    "\n",
    "# Testing the solution\n",
    "p8(5)"
   ]
  },
  {
   "cell_type": "code",
   "execution_count": 27,
   "id": "7c80140a",
   "metadata": {
    "execution": {
     "iopub.execute_input": "2024-07-09T03:44:31.675457Z",
     "iopub.status.busy": "2024-07-09T03:44:31.675099Z",
     "iopub.status.idle": "2024-07-09T03:44:31.678884Z",
     "shell.execute_reply": "2024-07-09T03:44:31.678435Z"
    },
    "lines_to_next_cell": 1,
    "papermill": {
     "duration": 0.017907,
     "end_time": "2024-07-09T03:44:31.679954",
     "exception": false,
     "start_time": "2024-07-09T03:44:31.662047",
     "status": "completed"
    },
    "tags": []
   },
   "outputs": [
    {
     "name": "stdout",
     "output_type": "stream",
     "text": [
      "    *    \n",
      "   ***   \n",
      "  *****  \n",
      " ******* \n",
      "*********\n",
      "*********\n",
      " ******* \n",
      "  *****  \n",
      "   ***   \n",
      "    *    \n"
     ]
    }
   ],
   "source": [
    "def p9(N: int) -> None:\n",
    "    p7(N)\n",
    "    p8(N)\n",
    "\n",
    "# Testing the solution\n",
    "p9(5)"
   ]
  },
  {
   "cell_type": "code",
   "execution_count": 28,
   "id": "2e32fb2d",
   "metadata": {
    "execution": {
     "iopub.execute_input": "2024-07-09T03:44:31.706710Z",
     "iopub.status.busy": "2024-07-09T03:44:31.706216Z",
     "iopub.status.idle": "2024-07-09T03:44:31.710469Z",
     "shell.execute_reply": "2024-07-09T03:44:31.710019Z"
    },
    "lines_to_next_cell": 1,
    "papermill": {
     "duration": 0.01896,
     "end_time": "2024-07-09T03:44:31.711583",
     "exception": false,
     "start_time": "2024-07-09T03:44:31.692623",
     "status": "completed"
    },
    "tags": []
   },
   "outputs": [
    {
     "name": "stdout",
     "output_type": "stream",
     "text": [
      "*\n",
      "**\n",
      "***\n",
      "****\n",
      "*****\n",
      "****\n",
      "***\n",
      "**\n",
      "*\n"
     ]
    }
   ],
   "source": [
    "def p10(N: int) -> None:\n",
    "    for i in range(N):\n",
    "        for j in range(i + 1):\n",
    "            print(\"*\", end='')\n",
    "        print()\n",
    "\n",
    "    for i in range(N - 1, 0, -1):\n",
    "        for j in range(i):\n",
    "            print(\"*\", end='')\n",
    "        print()\n",
    "\n",
    "# Testing the solution\n",
    "p10(5)"
   ]
  },
  {
   "cell_type": "code",
   "execution_count": 29,
   "id": "36d6b021",
   "metadata": {
    "execution": {
     "iopub.execute_input": "2024-07-09T03:44:31.738123Z",
     "iopub.status.busy": "2024-07-09T03:44:31.737763Z",
     "iopub.status.idle": "2024-07-09T03:44:31.741701Z",
     "shell.execute_reply": "2024-07-09T03:44:31.741229Z"
    },
    "lines_to_next_cell": 1,
    "papermill": {
     "duration": 0.018354,
     "end_time": "2024-07-09T03:44:31.742743",
     "exception": false,
     "start_time": "2024-07-09T03:44:31.724389",
     "status": "completed"
    },
    "tags": []
   },
   "outputs": [
    {
     "name": "stdout",
     "output_type": "stream",
     "text": [
      "1 \n",
      "0 1 \n",
      "1 0 1 \n",
      "0 1 0 1 \n",
      "1 0 1 0 1 \n"
     ]
    }
   ],
   "source": [
    "def p11(N: int) -> None:\n",
    "    for i in range(N):\n",
    "        for j in range(i + 1):\n",
    "            print(1 if i % 2 == j % 2 else 0, end=\" \")\n",
    "        print()\n",
    "\n",
    "# Testing the solution\n",
    "p11(5)"
   ]
  },
  {
   "cell_type": "code",
   "execution_count": 30,
   "id": "ff248593",
   "metadata": {
    "execution": {
     "iopub.execute_input": "2024-07-09T03:44:31.769182Z",
     "iopub.status.busy": "2024-07-09T03:44:31.768912Z",
     "iopub.status.idle": "2024-07-09T03:44:31.773229Z",
     "shell.execute_reply": "2024-07-09T03:44:31.772694Z"
    },
    "lines_to_next_cell": 1,
    "papermill": {
     "duration": 0.018845,
     "end_time": "2024-07-09T03:44:31.774362",
     "exception": false,
     "start_time": "2024-07-09T03:44:31.755517",
     "status": "completed"
    },
    "tags": []
   },
   "outputs": [
    {
     "name": "stdout",
     "output_type": "stream",
     "text": [
      "1        1\n",
      "12      21\n",
      "123    321\n",
      "1234  4321\n",
      "1234554321\n"
     ]
    }
   ],
   "source": [
    "def p12(N: int) -> None:\n",
    "    for i in range(1, N + 1):\n",
    "        for j in range(1, N + 1):\n",
    "            print(j if i >= j else \" \", end=\"\")\n",
    "        for j in range(N, 0, -1):\n",
    "            print(j if i >= j else \" \", end=\"\")\n",
    "        print()\n",
    "\n",
    "# Testing the solution\n",
    "p12(5)"
   ]
  },
  {
   "cell_type": "code",
   "execution_count": 31,
   "id": "4cb3993a",
   "metadata": {
    "execution": {
     "iopub.execute_input": "2024-07-09T03:44:31.800831Z",
     "iopub.status.busy": "2024-07-09T03:44:31.800386Z",
     "iopub.status.idle": "2024-07-09T03:44:31.804316Z",
     "shell.execute_reply": "2024-07-09T03:44:31.803908Z"
    },
    "lines_to_next_cell": 1,
    "papermill": {
     "duration": 0.018356,
     "end_time": "2024-07-09T03:44:31.805435",
     "exception": false,
     "start_time": "2024-07-09T03:44:31.787079",
     "status": "completed"
    },
    "tags": []
   },
   "outputs": [
    {
     "name": "stdout",
     "output_type": "stream",
     "text": [
      "1 \n",
      "2 3 \n",
      "4 5 6 \n",
      "7 8 9 10 \n",
      "11 12 13 14 15 \n"
     ]
    }
   ],
   "source": [
    "def p13(N: int) -> None:\n",
    "    counter = 1\n",
    "    for i in range(1, N + 1):\n",
    "        for j in range(i):\n",
    "            print(counter, end=\" \")\n",
    "            counter += 1\n",
    "        print()\n",
    "\n",
    "# Testing the solution\n",
    "p13(5)"
   ]
  },
  {
   "cell_type": "code",
   "execution_count": 32,
   "id": "0adac77e",
   "metadata": {
    "execution": {
     "iopub.execute_input": "2024-07-09T03:44:31.832682Z",
     "iopub.status.busy": "2024-07-09T03:44:31.832155Z",
     "iopub.status.idle": "2024-07-09T03:44:31.836336Z",
     "shell.execute_reply": "2024-07-09T03:44:31.835848Z"
    },
    "lines_to_next_cell": 1,
    "papermill": {
     "duration": 0.019227,
     "end_time": "2024-07-09T03:44:31.837464",
     "exception": false,
     "start_time": "2024-07-09T03:44:31.818237",
     "status": "completed"
    },
    "tags": []
   },
   "outputs": [
    {
     "name": "stdout",
     "output_type": "stream",
     "text": [
      "A \n",
      "A B \n",
      "A B C \n",
      "A B C D \n",
      "A B C D E \n"
     ]
    }
   ],
   "source": [
    "def p14(N: int) -> None:\n",
    "    for i in range(1, N + 1):\n",
    "        for j in range(i):\n",
    "            print(chr(ord('A') + j), end=\" \")\n",
    "        print()\n",
    "\n",
    "# Testing the solution\n",
    "p14(5)"
   ]
  },
  {
   "cell_type": "code",
   "execution_count": 33,
   "id": "3918fd7d",
   "metadata": {
    "execution": {
     "iopub.execute_input": "2024-07-09T03:44:31.865883Z",
     "iopub.status.busy": "2024-07-09T03:44:31.865414Z",
     "iopub.status.idle": "2024-07-09T03:44:31.869482Z",
     "shell.execute_reply": "2024-07-09T03:44:31.868962Z"
    },
    "lines_to_next_cell": 1,
    "papermill": {
     "duration": 0.020002,
     "end_time": "2024-07-09T03:44:31.870643",
     "exception": false,
     "start_time": "2024-07-09T03:44:31.850641",
     "status": "completed"
    },
    "tags": []
   },
   "outputs": [
    {
     "name": "stdout",
     "output_type": "stream",
     "text": [
      "A B C D E \n",
      "A B C D \n",
      "A B C \n",
      "A B \n",
      "A \n"
     ]
    }
   ],
   "source": [
    "def p15(N: int) -> None:\n",
    "    for i in range(N, 0, -1):\n",
    "        for j in range(i):\n",
    "            print(chr(ord('A') + j), end=\" \")\n",
    "        print()\n",
    "\n",
    "# Testing the solution\n",
    "p15(5)"
   ]
  },
  {
   "cell_type": "code",
   "execution_count": 34,
   "id": "cc083076",
   "metadata": {
    "execution": {
     "iopub.execute_input": "2024-07-09T03:44:31.898870Z",
     "iopub.status.busy": "2024-07-09T03:44:31.898418Z",
     "iopub.status.idle": "2024-07-09T03:44:31.902484Z",
     "shell.execute_reply": "2024-07-09T03:44:31.901969Z"
    },
    "lines_to_next_cell": 1,
    "papermill": {
     "duration": 0.019593,
     "end_time": "2024-07-09T03:44:31.903627",
     "exception": false,
     "start_time": "2024-07-09T03:44:31.884034",
     "status": "completed"
    },
    "tags": []
   },
   "outputs": [
    {
     "name": "stdout",
     "output_type": "stream",
     "text": [
      "A \n",
      "B B \n",
      "C C C \n",
      "D D D D \n",
      "E E E E E \n"
     ]
    }
   ],
   "source": [
    "def p16(N: int) -> None:\n",
    "    for i in range(1, N + 1):\n",
    "        for j in range(i):\n",
    "            print(chr(ord('A') + i - 1), end=\" \")\n",
    "        print()\n",
    "\n",
    "# Testing the solution\n",
    "p16(5)"
   ]
  },
  {
   "cell_type": "code",
   "execution_count": 35,
   "id": "d9432d4b",
   "metadata": {
    "execution": {
     "iopub.execute_input": "2024-07-09T03:44:31.931015Z",
     "iopub.status.busy": "2024-07-09T03:44:31.930521Z",
     "iopub.status.idle": "2024-07-09T03:44:31.935653Z",
     "shell.execute_reply": "2024-07-09T03:44:31.935139Z"
    },
    "lines_to_next_cell": 1,
    "papermill": {
     "duration": 0.019836,
     "end_time": "2024-07-09T03:44:31.936655",
     "exception": false,
     "start_time": "2024-07-09T03:44:31.916819",
     "status": "completed"
    },
    "tags": []
   },
   "outputs": [
    {
     "name": "stdout",
     "output_type": "stream",
     "text": [
      "    A    \n",
      "   ABA   \n",
      "  ABCBA  \n",
      " ABCDCBA \n",
      "ABCDEDCBA\n"
     ]
    }
   ],
   "source": [
    "def p17(N: int) -> None:\n",
    "    max_width = (2 * N) - 1\n",
    "    for i in range(1, N + 1):\n",
    "        width = (2 * i) - 1\n",
    "        spaces = max_width - width\n",
    "        for j in range(spaces // 2):\n",
    "            print(\" \", end=\"\")\n",
    "        for j in range(i):\n",
    "            print(chr(ord('A') + j), end=\"\")\n",
    "        for j in range(i - 2, -1, -1):\n",
    "            print(chr(ord('A') + j), end=\"\")\n",
    "        for j in range(spaces // 2):\n",
    "            print(\" \", end=\"\")\n",
    "        print()\n",
    "\n",
    "# Testing the solution\n",
    "p17(5)"
   ]
  },
  {
   "cell_type": "code",
   "execution_count": 36,
   "id": "4633133c",
   "metadata": {
    "execution": {
     "iopub.execute_input": "2024-07-09T03:44:31.963623Z",
     "iopub.status.busy": "2024-07-09T03:44:31.963236Z",
     "iopub.status.idle": "2024-07-09T03:44:31.967281Z",
     "shell.execute_reply": "2024-07-09T03:44:31.966764Z"
    },
    "lines_to_next_cell": 1,
    "papermill": {
     "duration": 0.018747,
     "end_time": "2024-07-09T03:44:31.968393",
     "exception": false,
     "start_time": "2024-07-09T03:44:31.949646",
     "status": "completed"
    },
    "tags": []
   },
   "outputs": [
    {
     "name": "stdout",
     "output_type": "stream",
     "text": [
      "E \n",
      "D E \n",
      "C D E \n",
      "B C D E \n",
      "A B C D E \n"
     ]
    }
   ],
   "source": [
    "def p18(N: int) -> None:\n",
    "    for i in range(1, N + 1):\n",
    "        for j in range(N - i, N):\n",
    "            print(chr(ord('A') + j), end=' ')\n",
    "        print()\n",
    "\n",
    "# Testing the solution\n",
    "p18(5)"
   ]
  },
  {
   "cell_type": "code",
   "execution_count": 37,
   "id": "45cf811d",
   "metadata": {
    "execution": {
     "iopub.execute_input": "2024-07-09T03:44:31.995537Z",
     "iopub.status.busy": "2024-07-09T03:44:31.995182Z",
     "iopub.status.idle": "2024-07-09T03:44:31.999857Z",
     "shell.execute_reply": "2024-07-09T03:44:31.999345Z"
    },
    "lines_to_next_cell": 1,
    "papermill": {
     "duration": 0.019547,
     "end_time": "2024-07-09T03:44:32.000960",
     "exception": false,
     "start_time": "2024-07-09T03:44:31.981413",
     "status": "completed"
    },
    "tags": []
   },
   "outputs": [
    {
     "name": "stdout",
     "output_type": "stream",
     "text": [
      "**********\n",
      "****  ****\n",
      "***    ***\n",
      "**      **\n",
      "*        *\n",
      "*        *\n",
      "**      **\n",
      "***    ***\n",
      "****  ****\n",
      "**********\n"
     ]
    }
   ],
   "source": [
    "def p19(N: int) -> None:\n",
    "    max_width = 2 * N\n",
    "    for i_ in range(2 * N):\n",
    "        i = N - i_ if i_ < N else (i_ % N) + 1\n",
    "        for j in range(i):\n",
    "            print(\"*\", end='')\n",
    "        for j in range(max_width - (2 * i)):\n",
    "            print(\" \", end='')\n",
    "        for j in range(i):\n",
    "            print(\"*\", end='')\n",
    "        print()\n",
    "\n",
    "# Testing the solution\n",
    "p19(5)"
   ]
  },
  {
   "cell_type": "code",
   "execution_count": 38,
   "id": "da170774",
   "metadata": {
    "execution": {
     "iopub.execute_input": "2024-07-09T03:44:32.028627Z",
     "iopub.status.busy": "2024-07-09T03:44:32.028188Z",
     "iopub.status.idle": "2024-07-09T03:44:32.033010Z",
     "shell.execute_reply": "2024-07-09T03:44:32.032545Z"
    },
    "lines_to_next_cell": 1,
    "papermill": {
     "duration": 0.019761,
     "end_time": "2024-07-09T03:44:32.034086",
     "exception": false,
     "start_time": "2024-07-09T03:44:32.014325",
     "status": "completed"
    },
    "tags": []
   },
   "outputs": [
    {
     "name": "stdout",
     "output_type": "stream",
     "text": [
      "*        *\n",
      "**      **\n",
      "***    ***\n",
      "****  ****\n",
      "**********\n",
      "****  ****\n",
      "***    ***\n",
      "**      **\n",
      "*        *\n"
     ]
    }
   ],
   "source": [
    "def p20(N: int) -> None:\n",
    "    max_width = 2 * N\n",
    "    for i_ in range(2 * N - 1):\n",
    "        i = i_ + 1 if i_ < N else 2 * N - i_ - 1\n",
    "        for j in range(i):\n",
    "            print(\"*\", end='')\n",
    "        for j in range(max_width - 2 * i):\n",
    "            print(\" \", end='')\n",
    "        for j in range(i):\n",
    "            print(\"*\", end='')\n",
    "        print()\n",
    "\n",
    "# Testing the solution\n",
    "p20(5)"
   ]
  },
  {
   "cell_type": "code",
   "execution_count": 39,
   "id": "c9ec1076",
   "metadata": {
    "execution": {
     "iopub.execute_input": "2024-07-09T03:44:32.061755Z",
     "iopub.status.busy": "2024-07-09T03:44:32.061322Z",
     "iopub.status.idle": "2024-07-09T03:44:32.065307Z",
     "shell.execute_reply": "2024-07-09T03:44:32.064835Z"
    },
    "lines_to_next_cell": 1,
    "papermill": {
     "duration": 0.018942,
     "end_time": "2024-07-09T03:44:32.066353",
     "exception": false,
     "start_time": "2024-07-09T03:44:32.047411",
     "status": "completed"
    },
    "tags": []
   },
   "outputs": [
    {
     "name": "stdout",
     "output_type": "stream",
     "text": [
      "*****\n",
      "*   *\n",
      "*   *\n",
      "*   *\n",
      "*****\n"
     ]
    }
   ],
   "source": [
    "def p21(N: int) -> None:\n",
    "    for i in range(N):\n",
    "        for j in range(N):\n",
    "            print(\"*\" if i in (0, N - 1) or j in (0, N - 1) else \" \", end='')\n",
    "        print()\n",
    "\n",
    "# Testing the solution\n",
    "p21(5)"
   ]
  },
  {
   "cell_type": "code",
   "execution_count": 40,
   "id": "519e516c",
   "metadata": {
    "execution": {
     "iopub.execute_input": "2024-07-09T03:44:32.095271Z",
     "iopub.status.busy": "2024-07-09T03:44:32.094729Z",
     "iopub.status.idle": "2024-07-09T03:44:32.099982Z",
     "shell.execute_reply": "2024-07-09T03:44:32.099525Z"
    },
    "lines_to_next_cell": 1,
    "papermill": {
     "duration": 0.020152,
     "end_time": "2024-07-09T03:44:32.101082",
     "exception": false,
     "start_time": "2024-07-09T03:44:32.080930",
     "status": "completed"
    },
    "tags": []
   },
   "outputs": [
    {
     "name": "stdout",
     "output_type": "stream",
     "text": [
      "3 3 3 3 3 \n",
      "3 2 2 2 3 \n",
      "3 2 1 2 3 \n",
      "3 2 2 2 3 \n",
      "3 3 3 3 3 \n"
     ]
    }
   ],
   "source": [
    "def p22(N: int) -> None:\n",
    "    result: collections.deque[collections.deque[int]] = collections.deque([collections.deque([1])])\n",
    "    for i in range(2, N + 1):\n",
    "        for row in result:\n",
    "            row.appendleft(i)\n",
    "            row.append(i)\n",
    "        result.appendleft(collections.deque([i for _ in range(2 * i - 1)]))\n",
    "        result.append(collections.deque([i for _ in range(2 * i - 1)]))\n",
    "\n",
    "    for row in result:\n",
    "        for col in row:\n",
    "            print(col, end=' ')\n",
    "        print()\n",
    "\n",
    "# Testing the solution\n",
    "p22(3)"
   ]
  },
  {
   "cell_type": "markdown",
   "id": "9cdce5e5",
   "metadata": {
    "papermill": {
     "duration": 0.012972,
     "end_time": "2024-07-09T03:44:32.127527",
     "exception": false,
     "start_time": "2024-07-09T03:44:32.114555",
     "status": "completed"
    },
    "tags": []
   },
   "source": [
    "Basic Math"
   ]
  },
  {
   "cell_type": "code",
   "execution_count": 41,
   "id": "cd23fa37",
   "metadata": {
    "execution": {
     "iopub.execute_input": "2024-07-09T03:44:32.155124Z",
     "iopub.status.busy": "2024-07-09T03:44:32.154582Z",
     "iopub.status.idle": "2024-07-09T03:44:32.158534Z",
     "shell.execute_reply": "2024-07-09T03:44:32.158084Z"
    },
    "lines_to_next_cell": 1,
    "papermill": {
     "duration": 0.019259,
     "end_time": "2024-07-09T03:44:32.159652",
     "exception": false,
     "start_time": "2024-07-09T03:44:32.140393",
     "status": "completed"
    },
    "tags": []
   },
   "outputs": [],
   "source": [
    "def reverseDigits(N: int) -> int:\n",
    "    NR, num = 0, abs(N)\n",
    "    while num > 0:\n",
    "        digit, num = num % 10, num // 10\n",
    "        NR = (NR * 10) + digit\n",
    "    return NR if N > 0 else -NR\n",
    "\n",
    "# Testing the solution\n",
    "assert reverseDigits(-123) == -321"
   ]
  },
  {
   "cell_type": "code",
   "execution_count": 42,
   "id": "5d9d6817",
   "metadata": {
    "execution": {
     "iopub.execute_input": "2024-07-09T03:44:32.186633Z",
     "iopub.status.busy": "2024-07-09T03:44:32.186336Z",
     "iopub.status.idle": "2024-07-09T03:44:32.189891Z",
     "shell.execute_reply": "2024-07-09T03:44:32.189454Z"
    },
    "lines_to_next_cell": 1,
    "papermill": {
     "duration": 0.018084,
     "end_time": "2024-07-09T03:44:32.190903",
     "exception": false,
     "start_time": "2024-07-09T03:44:32.172819",
     "status": "completed"
    },
    "tags": []
   },
   "outputs": [],
   "source": [
    "def isPalindrome(N: int) -> bool:\n",
    "    def reverse(num: int) -> int:\n",
    "        numR = 0\n",
    "        while num > 0:\n",
    "            digit, num = num % 10, num // 10\n",
    "            numR = (numR * 10) + digit\n",
    "        return numR\n",
    "\n",
    "    return N >= 0 and N == reverse(N)\n",
    "\n",
    "# Testing the solution\n",
    "assert isPalindrome(121) == True"
   ]
  },
  {
   "cell_type": "markdown",
   "id": "012c2ce0",
   "metadata": {
    "papermill": {
     "duration": 0.01294,
     "end_time": "2024-07-09T03:44:32.216815",
     "exception": false,
     "start_time": "2024-07-09T03:44:32.203875",
     "status": "completed"
    },
    "tags": []
   },
   "source": []
  },
  {
   "cell_type": "code",
   "execution_count": 43,
   "id": "389e84de",
   "metadata": {
    "execution": {
     "iopub.execute_input": "2024-07-09T03:44:32.243216Z",
     "iopub.status.busy": "2024-07-09T03:44:32.242803Z",
     "iopub.status.idle": "2024-07-09T03:44:32.248343Z",
     "shell.execute_reply": "2024-07-09T03:44:32.247805Z"
    },
    "lines_to_next_cell": 1,
    "papermill": {
     "duration": 0.019958,
     "end_time": "2024-07-09T03:44:32.249520",
     "exception": false,
     "start_time": "2024-07-09T03:44:32.229562",
     "status": "completed"
    },
    "tags": []
   },
   "outputs": [],
   "source": [
    "def lcmAndGcd(n1: int , n2: int) -> tuple[int, int]:\n",
    "    def primeFactors(n: int) -> dict[int, int]:\n",
    "        factors: collections.defaultdict[int, int] = collections.defaultdict(int)\n",
    "        curr = 2\n",
    "        while curr <= n:\n",
    "            if n % curr == 0:\n",
    "                n //= curr\n",
    "                factors[curr] += 1\n",
    "            else:\n",
    "                curr += 1\n",
    "        return factors\n",
    "\n",
    "    pf1, pf2 = primeFactors(n1), primeFactors(n2)\n",
    "    factors: set[int] = {*pf1.keys(), *pf2.keys()}\n",
    "    lcm = gcd = 1\n",
    "    for factor in factors:\n",
    "        min_, max_ = min(pf1[factor], pf2[factor]), max(pf1[factor], pf2[factor])\n",
    "        if min_ != 0:\n",
    "            gcd *= factor ** min_\n",
    "        if max_ != 0:\n",
    "            lcm *= factor ** max_\n",
    "\n",
    "    return lcm, gcd\n",
    "#\n",
    "# Testing the solution\n",
    "assert lcmAndGcd(5, 10) == (10, 5)\n",
    "assert lcmAndGcd(14, 8) == (56, 2)\n",
    "assert lcmAndGcd(8, 42) == (168, 2)"
   ]
  },
  {
   "cell_type": "code",
   "execution_count": 44,
   "id": "bf026496",
   "metadata": {
    "execution": {
     "iopub.execute_input": "2024-07-09T03:44:32.276084Z",
     "iopub.status.busy": "2024-07-09T03:44:32.275929Z",
     "iopub.status.idle": "2024-07-09T03:44:32.280084Z",
     "shell.execute_reply": "2024-07-09T03:44:32.279603Z"
    },
    "lines_to_next_cell": 1,
    "papermill": {
     "duration": 0.018707,
     "end_time": "2024-07-09T03:44:32.281135",
     "exception": false,
     "start_time": "2024-07-09T03:44:32.262428",
     "status": "completed"
    },
    "tags": []
   },
   "outputs": [],
   "source": [
    "def lcmAndGcdOptimal(n1: int , n2: int) -> tuple[int, int]:\n",
    "    \"\"\"\n",
    "    Euclidean algo: GCD remains same even if greater of two numbers is subtracted with the smaller number\n",
    "    Continously subtract greater by smaller until we get a 0.\n",
    "    \"\"\"\n",
    "    def gcd(n1: int, n2: int) -> int:\n",
    "        while n1 != 0 and n2 != 0:\n",
    "            n1, n2 = sorted([n1, n2])\n",
    "            n1, n2 = n1, n2 - n1\n",
    "        return max(n1, n2)\n",
    "\n",
    "    gcd_ = gcd(n1, n2)\n",
    "    lcm_ = (n1 * n2) // gcd_\n",
    "    return lcm_, gcd_\n",
    "\n",
    "# Testing the solution\n",
    "assert lcmAndGcdOptimal(5, 10) == (10, 5)\n",
    "assert lcmAndGcdOptimal(14, 8) == (56, 2)\n",
    "assert lcmAndGcdOptimal(8, 42) == (168, 2)"
   ]
  },
  {
   "cell_type": "code",
   "execution_count": 45,
   "id": "e6aa105e",
   "metadata": {
    "execution": {
     "iopub.execute_input": "2024-07-09T03:44:32.307788Z",
     "iopub.status.busy": "2024-07-09T03:44:32.307312Z",
     "iopub.status.idle": "2024-07-09T03:44:32.311080Z",
     "shell.execute_reply": "2024-07-09T03:44:32.310679Z"
    },
    "lines_to_next_cell": 1,
    "papermill": {
     "duration": 0.018106,
     "end_time": "2024-07-09T03:44:32.312083",
     "exception": false,
     "start_time": "2024-07-09T03:44:32.293977",
     "status": "completed"
    },
    "tags": []
   },
   "outputs": [],
   "source": [
    "def armstrong(N: int) -> bool:\n",
    "    def countDigits(n: int) -> int:\n",
    "        digits = 0\n",
    "        while n > 0:\n",
    "            digits, n = digits + 1, n // 10\n",
    "        return digits\n",
    "\n",
    "    total, n, K = 0, N, countDigits(N)\n",
    "    while n > 0:\n",
    "        digit, n = n % 10, n // 10\n",
    "        total +=digit ** K\n",
    "\n",
    "    return total == N\n",
    "\n",
    "# Testing the solution\n",
    "assert armstrong(371) == True\n",
    "assert armstrong(123) == False"
   ]
  },
  {
   "cell_type": "code",
   "execution_count": 46,
   "id": "aa26b4c6",
   "metadata": {
    "execution": {
     "iopub.execute_input": "2024-07-09T03:44:32.338615Z",
     "iopub.status.busy": "2024-07-09T03:44:32.338290Z",
     "iopub.status.idle": "2024-07-09T03:44:32.341749Z",
     "shell.execute_reply": "2024-07-09T03:44:32.341324Z"
    },
    "lines_to_next_cell": 1,
    "papermill": {
     "duration": 0.017774,
     "end_time": "2024-07-09T03:44:32.342775",
     "exception": false,
     "start_time": "2024-07-09T03:44:32.325001",
     "status": "completed"
    },
    "tags": []
   },
   "outputs": [],
   "source": [
    "def printAllDivisors(N: int) -> list[int]:\n",
    "    result: set[int] = set()\n",
    "    i = 1\n",
    "    while i * i <= N:\n",
    "        if N % i == 0:\n",
    "            result.add(i)\n",
    "            result.add(N // i)\n",
    "        i += 1\n",
    "\n",
    "    return sorted(result)\n",
    "\n",
    "# Testing the solution\n",
    "assert printAllDivisors(12) == [1, 2, 3, 4, 6, 12]"
   ]
  },
  {
   "cell_type": "code",
   "execution_count": 47,
   "id": "c8135fe8",
   "metadata": {
    "execution": {
     "iopub.execute_input": "2024-07-09T03:44:32.369784Z",
     "iopub.status.busy": "2024-07-09T03:44:32.369423Z",
     "iopub.status.idle": "2024-07-09T03:44:32.373495Z",
     "shell.execute_reply": "2024-07-09T03:44:32.373024Z"
    },
    "lines_to_next_cell": 1,
    "papermill": {
     "duration": 0.018611,
     "end_time": "2024-07-09T03:44:32.374485",
     "exception": false,
     "start_time": "2024-07-09T03:44:32.355874",
     "status": "completed"
    },
    "tags": []
   },
   "outputs": [],
   "source": [
    "def minJumps(arr: list[int], N: int) -> int:\n",
    "    \"\"\"\n",
    "    Greedy Approach = Time: O(N), Space: O(1)\n",
    "\n",
    "    Keep track of the range we can jump into with minimum number of steps\n",
    "    For jump = 0, we can jump to index = 0 (left = right = 0)\n",
    "\n",
    "    For each iteration through range, compute maximum range we can jump into.\n",
    "    As we move with the next iteration, jumps = jumps + 1.\n",
    "    Again recompute the next range\n",
    "    \"\"\"\n",
    "    jumps = left = right = 0\n",
    "    while right < N - 1:\n",
    "        max_idx = 0\n",
    "        for i in range(left, right + 1):\n",
    "            max_idx = max(max_idx, i + arr[i])\n",
    "        # For next iteration, we start with where we left off in the previous range (right + 1)\n",
    "        jumps, left, right = jumps + 1, right + 1, max_idx\n",
    "\n",
    "    return jumps\n",
    "\n",
    "# Testing the solution\n",
    "assert minJumps([1,3,5,8,9,2,6,7,6,8,9], 11) == 3"
   ]
  },
  {
   "cell_type": "markdown",
   "id": "bc8d59b3",
   "metadata": {
    "papermill": {
     "duration": 0.012811,
     "end_time": "2024-07-09T03:44:32.400215",
     "exception": false,
     "start_time": "2024-07-09T03:44:32.387404",
     "status": "completed"
    },
    "tags": []
   },
   "source": [
    "#### Basic Recursion"
   ]
  },
  {
   "cell_type": "code",
   "execution_count": 48,
   "id": "e69b9a66",
   "metadata": {
    "execution": {
     "iopub.execute_input": "2024-07-09T03:44:32.426746Z",
     "iopub.status.busy": "2024-07-09T03:44:32.426432Z",
     "iopub.status.idle": "2024-07-09T03:44:32.429568Z",
     "shell.execute_reply": "2024-07-09T03:44:32.429122Z"
    },
    "lines_to_next_cell": 1,
    "papermill": {
     "duration": 0.017496,
     "end_time": "2024-07-09T03:44:32.430604",
     "exception": false,
     "start_time": "2024-07-09T03:44:32.413108",
     "status": "completed"
    },
    "tags": []
   },
   "outputs": [],
   "source": [
    "def sumOfSeries(n: int) -> int:\n",
    "    \"\"\"\n",
    "    Figured this out by checking if there is a pattern by printing all results\n",
    "    \"\"\"\n",
    "    sqrt = (n * (n + 1)) // 2\n",
    "    return sqrt * sqrt\n",
    "\n",
    "# Testing the solution\n",
    "assert sumOfSeries(5) == 225\n",
    "assert sumOfSeries(7) == 784"
   ]
  },
  {
   "cell_type": "code",
   "execution_count": 49,
   "id": "c2c609ac",
   "metadata": {
    "execution": {
     "iopub.execute_input": "2024-07-09T03:44:32.457027Z",
     "iopub.status.busy": "2024-07-09T03:44:32.456718Z",
     "iopub.status.idle": "2024-07-09T03:44:32.460590Z",
     "shell.execute_reply": "2024-07-09T03:44:32.460057Z"
    },
    "lines_to_next_cell": 1,
    "papermill": {
     "duration": 0.018334,
     "end_time": "2024-07-09T03:44:32.461716",
     "exception": false,
     "start_time": "2024-07-09T03:44:32.443382",
     "status": "completed"
    },
    "tags": []
   },
   "outputs": [],
   "source": [
    "def factorialNumbers(N: int) -> list[int]:\n",
    "    def factorial(i: int, curr: int) -> None:\n",
    "        if curr > N:\n",
    "            return\n",
    "        else:\n",
    "            result.append(curr)\n",
    "            factorial(i + 1, curr * (i + 1))\n",
    "\n",
    "    result: list[int] = []\n",
    "    factorial(1, 1)\n",
    "    return result\n",
    "\n",
    "# Testing the solution\n",
    "assert factorialNumbers(3) == [1, 2]\n",
    "assert factorialNumbers(6) == [1, 2, 6]"
   ]
  },
  {
   "cell_type": "code",
   "execution_count": 50,
   "id": "b6270d65",
   "metadata": {
    "execution": {
     "iopub.execute_input": "2024-07-09T03:44:32.488348Z",
     "iopub.status.busy": "2024-07-09T03:44:32.488038Z",
     "iopub.status.idle": "2024-07-09T03:44:32.491806Z",
     "shell.execute_reply": "2024-07-09T03:44:32.491383Z"
    },
    "lines_to_next_cell": 1,
    "papermill": {
     "duration": 0.018289,
     "end_time": "2024-07-09T03:44:32.492872",
     "exception": false,
     "start_time": "2024-07-09T03:44:32.474583",
     "status": "completed"
    },
    "tags": []
   },
   "outputs": [],
   "source": [
    "def reverseArray(nums: list[int]):\n",
    "    def reverse(i: int, j: int) -> None:\n",
    "        if i >= j:\n",
    "            return\n",
    "        nums[i], nums[j] = nums[j], nums[i]\n",
    "        reverse(i + 1, j - 1)\n",
    "\n",
    "    N = len(nums)\n",
    "    reverse(0, N - 1)\n",
    "    return nums\n",
    "\n",
    "# Testing the solution\n",
    "assert reverseArray([1,2]) == [2,1]\n",
    "assert reverseArray([1,2,3,4]) == [4,3,2,1]"
   ]
  },
  {
   "cell_type": "code",
   "execution_count": 51,
   "id": "89cf59c4",
   "metadata": {
    "execution": {
     "iopub.execute_input": "2024-07-09T03:44:32.519311Z",
     "iopub.status.busy": "2024-07-09T03:44:32.519064Z",
     "iopub.status.idle": "2024-07-09T03:44:32.523366Z",
     "shell.execute_reply": "2024-07-09T03:44:32.522924Z"
    },
    "lines_to_next_cell": 1,
    "papermill": {
     "duration": 0.0187,
     "end_time": "2024-07-09T03:44:32.524422",
     "exception": false,
     "start_time": "2024-07-09T03:44:32.505722",
     "status": "completed"
    },
    "tags": []
   },
   "outputs": [],
   "source": [
    "def isPalindrome2(s: str) -> bool:\n",
    "    def check(i: int, j: int) -> bool:\n",
    "        if i >= j:\n",
    "            return True\n",
    "        elif not s[i].isalnum():\n",
    "            return check(i + 1, j)\n",
    "        elif not s[j].isalnum():\n",
    "            return check(i, j - 1)\n",
    "        else:\n",
    "            return  s[i].lower() == s[j].lower() and check(i + 1, j - 1)\n",
    "\n",
    "    N = len(s)\n",
    "    return check(0, N - 1)\n",
    "\n",
    "# Testing the solution\n",
    "assert isPalindrome2(\"A man, a plan, a canal: Panama\") == True\n",
    "assert isPalindrome2(\"race a car\") == False\n",
    "assert isPalindrome2(\"0P\") == False"
   ]
  },
  {
   "cell_type": "code",
   "execution_count": 52,
   "id": "bb5a8346",
   "metadata": {
    "execution": {
     "iopub.execute_input": "2024-07-09T03:44:32.551175Z",
     "iopub.status.busy": "2024-07-09T03:44:32.550914Z",
     "iopub.status.idle": "2024-07-09T03:44:32.555789Z",
     "shell.execute_reply": "2024-07-09T03:44:32.555372Z"
    },
    "lines_to_next_cell": 1,
    "papermill": {
     "duration": 0.019337,
     "end_time": "2024-07-09T03:44:32.556829",
     "exception": false,
     "start_time": "2024-07-09T03:44:32.537492",
     "status": "completed"
    },
    "tags": []
   },
   "outputs": [],
   "source": [
    "def frequencyCount(arr: list[int], N: int, P: int) -> list[int]:\n",
    "    \"\"\"\n",
    "    Similar to finding the missing duplicate number problem.\n",
    "    \"\"\"\n",
    "    def backtrack(i: int) -> None:\n",
    "        if i >= N:\n",
    "            return\n",
    "        elif arr[i] <= 0:\n",
    "            arr[i] -= 1\n",
    "        else:\n",
    "            arr[i], next_ = -1, arr[i] - 1\n",
    "            backtrack(next_)\n",
    "\n",
    "    for i in range(N):\n",
    "        if arr[i] > 0:\n",
    "            arr[i], next_ = 0, arr[i] - 1\n",
    "            backtrack(next_)\n",
    "\n",
    "    for i in range(N):\n",
    "        arr[i] = abs(arr[i])\n",
    "\n",
    "    return arr\n",
    "\n",
    "# Testing the solution\n",
    "assert frequencyCount([2, 3, 2, 3, 5], 5, 5) == [0, 2, 2, 0, 1]\n",
    "assert frequencyCount([3, 3, 3, 3], 4, 3) == [0, 0, 4, 0]\n",
    "assert frequencyCount([8, 9], 2, 9)"
   ]
  },
  {
   "cell_type": "code",
   "execution_count": 53,
   "id": "1ece5c67",
   "metadata": {
    "execution": {
     "iopub.execute_input": "2024-07-09T03:44:32.583975Z",
     "iopub.status.busy": "2024-07-09T03:44:32.583511Z",
     "iopub.status.idle": "2024-07-09T03:44:32.588595Z",
     "shell.execute_reply": "2024-07-09T03:44:32.588084Z"
    },
    "lines_to_next_cell": 1,
    "papermill": {
     "duration": 0.020027,
     "end_time": "2024-07-09T03:44:32.589840",
     "exception": false,
     "start_time": "2024-07-09T03:44:32.569813",
     "status": "completed"
    },
    "tags": []
   },
   "outputs": [],
   "source": [
    "def frequencyCountGFG(arr: list[int], N: int, P: int) -> list[int]:\n",
    "    \"\"\"\n",
    "    Same idea but a diff approach: -ve values represent integers\n",
    "    Instead of backtracking, we can swap with i until we hit a freq\n",
    "    \"\"\"\n",
    "    for i in range(N):\n",
    "        while arr[i] > 0:\n",
    "            j = arr[i] - 1\n",
    "            if j >= N:\n",
    "                arr[i] = 0\n",
    "            elif arr[j] <= 0: # j < N and arr[j] <= 0 (arr[j] is a freq)\n",
    "                arr[j] -= 1\n",
    "                arr[i] = 0\n",
    "            else: # j < N and arr[j] > 0 (arr[j] is a number, we swap)\n",
    "                arr[i], arr[j] = arr[j], arr[i]\n",
    "                arr[j] = -1\n",
    "\n",
    "    for i in range(N):\n",
    "        arr[i] = abs(arr[i])\n",
    "\n",
    "    return arr\n",
    "\n",
    "assert frequencyCountGFG([2, 3, 2, 3, 5], 5, 5) == [0, 2, 2, 0, 1]\n",
    "assert frequencyCountGFG([3, 3, 3, 3], 4, 3) == [0, 0, 4, 0]\n",
    "assert frequencyCountGFG([8, 9], 2, 9)"
   ]
  },
  {
   "cell_type": "markdown",
   "id": "8fe0125c",
   "metadata": {
    "papermill": {
     "duration": 0.012831,
     "end_time": "2024-07-09T03:44:32.615709",
     "exception": false,
     "start_time": "2024-07-09T03:44:32.602878",
     "status": "completed"
    },
    "tags": []
   },
   "source": [
    "LC Medium: https://leetcode.com/problems/frequency-of-the-most-frequent-element/description/"
   ]
  },
  {
   "cell_type": "code",
   "execution_count": 54,
   "id": "ad477e2a",
   "metadata": {
    "execution": {
     "iopub.execute_input": "2024-07-09T03:44:32.642671Z",
     "iopub.status.busy": "2024-07-09T03:44:32.642161Z",
     "iopub.status.idle": "2024-07-09T03:44:32.647507Z",
     "shell.execute_reply": "2024-07-09T03:44:32.646996Z"
    },
    "lines_to_next_cell": 1,
    "papermill": {
     "duration": 0.020008,
     "end_time": "2024-07-09T03:44:32.648617",
     "exception": false,
     "start_time": "2024-07-09T03:44:32.628609",
     "status": "completed"
    },
    "tags": []
   },
   "outputs": [],
   "source": [
    "# Had to see the hint that is a sliding window problem\n",
    "# https://leetcode.com/problems/frequency-of-the-most-frequent-element/submissions/1309518869\n",
    "def maxFrequency(nums: list[int], k: int) -> int:\n",
    "    nums.sort()\n",
    "    N, max_freq, i, j, curr_max, cost = len(nums), 1, 0, 0, nums[0], 0\n",
    "    while i < N and j < N:\n",
    "        if cost <= k:\n",
    "            max_freq = max(max_freq, j - i + 1)\n",
    "            j += 1\n",
    "            if j < N:\n",
    "                cost += (nums[j] - curr_max) * (j - i)\n",
    "                curr_max = max(curr_max, nums[j])\n",
    "        else:\n",
    "            cost -= curr_max - nums[i]\n",
    "            i += 1\n",
    "\n",
    "    return max_freq\n",
    "\n",
    "# Testing the solution\n",
    "assert maxFrequency([1,1,1,1,1,1,11,11,11,12,12,12,12,12,12,12,12], 10) == 11\n",
    "assert maxFrequency([1], 10) == 1\n",
    "assert maxFrequency([3,9,6], 2) == 1\n",
    "assert maxFrequency([1,4,8,13], 5) == 2"
   ]
  },
  {
   "cell_type": "code",
   "execution_count": 55,
   "id": "226b20de",
   "metadata": {
    "execution": {
     "iopub.execute_input": "2024-07-09T03:44:32.675385Z",
     "iopub.status.busy": "2024-07-09T03:44:32.675041Z",
     "iopub.status.idle": "2024-07-09T03:44:32.680244Z",
     "shell.execute_reply": "2024-07-09T03:44:32.679692Z"
    },
    "lines_to_next_cell": 1,
    "papermill": {
     "duration": 0.0198,
     "end_time": "2024-07-09T03:44:32.681287",
     "exception": false,
     "start_time": "2024-07-09T03:44:32.661487",
     "status": "completed"
    },
    "tags": []
   },
   "outputs": [],
   "source": [
    "# https://leetcode.com/problems/frequency-of-the-most-frequent-element/submissions/1309910554/\n",
    "def maxFrequencyBetter(nums: list[int], k: int) -> int:\n",
    "    \"\"\"\n",
    "    Continue expanding if cost <= k.\n",
    "    If cost exceeds k, slide.\n",
    "    \"\"\"\n",
    "    nums.sort()\n",
    "    N, max_window, cost, curr_max = len(nums), 1, 0, nums[0]\n",
    "    i, j = 0, 1\n",
    "    while j < N:\n",
    "\n",
    "        # Continue expanding always\n",
    "        cost += (nums[j] - curr_max) * (j - i)\n",
    "        curr_max = max(curr_max, nums[j])\n",
    "        j += 1\n",
    "\n",
    "        if cost <= k:\n",
    "            max_window = max(max_window, j - i)\n",
    "        else: # Shrink window\n",
    "            cost -= curr_max - nums[i]\n",
    "            i += 1\n",
    "\n",
    "    return max_window\n",
    "\n",
    "# Testing the solution\n",
    "assert maxFrequencyBetter([1,1,1,1,1,1,11,11,11,12,12,12,12,12,12,12,12], 10) == 11\n",
    "assert maxFrequencyBetter([1], 10) == 1\n",
    "assert maxFrequencyBetter([3,9,6], 2) == 1\n",
    "assert maxFrequencyBetter([1,4,8,13], 5) == 2"
   ]
  },
  {
   "cell_type": "markdown",
   "id": "709133f7",
   "metadata": {
    "papermill": {
     "duration": 0.012923,
     "end_time": "2024-07-09T03:44:32.707270",
     "exception": false,
     "start_time": "2024-07-09T03:44:32.694347",
     "status": "completed"
    },
    "tags": []
   },
   "source": [
    "Sorting - 1"
   ]
  },
  {
   "cell_type": "code",
   "execution_count": 56,
   "id": "5f48c157",
   "metadata": {
    "execution": {
     "iopub.execute_input": "2024-07-09T03:44:32.734415Z",
     "iopub.status.busy": "2024-07-09T03:44:32.733971Z",
     "iopub.status.idle": "2024-07-09T03:44:32.738121Z",
     "shell.execute_reply": "2024-07-09T03:44:32.737613Z"
    },
    "lines_to_next_cell": 1,
    "papermill": {
     "duration": 0.018943,
     "end_time": "2024-07-09T03:44:32.739208",
     "exception": false,
     "start_time": "2024-07-09T03:44:32.720265",
     "status": "completed"
    },
    "tags": []
   },
   "outputs": [],
   "source": [
    "def ssort(nums: list[int]) -> list[int]:\n",
    "    \"\"\"\n",
    "    Find the minimum and put it at the right place. Repeat for each index\n",
    "    \"\"\"\n",
    "    N = len(nums)\n",
    "    for i in range(N - 1):\n",
    "        min_idx = i\n",
    "        for j in range(i, N):\n",
    "            if nums[j] < nums[min_idx]:\n",
    "                min_idx = j\n",
    "        nums[i], nums[min_idx] = nums[min_idx], nums[i]\n",
    "\n",
    "    return nums\n",
    "\n",
    "# Testing the solution\n",
    "assert ssort([2,3,1,2,3,4]) == [1,2,2,3,3,4]"
   ]
  },
  {
   "cell_type": "code",
   "execution_count": 57,
   "id": "ca02da2e",
   "metadata": {
    "execution": {
     "iopub.execute_input": "2024-07-09T03:44:32.766143Z",
     "iopub.status.busy": "2024-07-09T03:44:32.765932Z",
     "iopub.status.idle": "2024-07-09T03:44:32.770651Z",
     "shell.execute_reply": "2024-07-09T03:44:32.770144Z"
    },
    "lines_to_next_cell": 1,
    "papermill": {
     "duration": 0.01952,
     "end_time": "2024-07-09T03:44:32.771675",
     "exception": false,
     "start_time": "2024-07-09T03:44:32.752155",
     "status": "completed"
    },
    "tags": []
   },
   "outputs": [],
   "source": [
    "def bsort(nums: list[int]) -> list[int]:\n",
    "    \"\"\"\n",
    "    Compares adjacent elements and places greatest element at the last of the window\n",
    "    Best: O (N), Worst / Avg: O(N ^ 2)\n",
    "    \"\"\"\n",
    "    N = len(nums)\n",
    "    for i in range(N):\n",
    "        swapped: bool = False\n",
    "        for j in range(N - i - 1):\n",
    "            if nums[j] > nums[j + 1]:\n",
    "                nums[j], nums[j + 1] = nums[j + 1], nums[j]\n",
    "                swapped = True\n",
    "\n",
    "        if not swapped:\n",
    "            break\n",
    "\n",
    "    return nums\n",
    "\n",
    "# Testing the solution\n",
    "assert bsort([2,3,1,2,3,4]) == [1,2,2,3,3,4]\n",
    "assert bsort([1,2,3,4,5]) == [1,2,3,4,5]"
   ]
  },
  {
   "cell_type": "code",
   "execution_count": 58,
   "id": "6c55c24f",
   "metadata": {
    "execution": {
     "iopub.execute_input": "2024-07-09T03:44:32.799166Z",
     "iopub.status.busy": "2024-07-09T03:44:32.798595Z",
     "iopub.status.idle": "2024-07-09T03:44:32.803580Z",
     "shell.execute_reply": "2024-07-09T03:44:32.803071Z"
    },
    "lines_to_next_cell": 1,
    "papermill": {
     "duration": 0.020175,
     "end_time": "2024-07-09T03:44:32.804875",
     "exception": false,
     "start_time": "2024-07-09T03:44:32.784700",
     "status": "completed"
    },
    "tags": []
   },
   "outputs": [],
   "source": [
    "def isort(nums: list[int]) -> list[int]:\n",
    "    \"\"\"\n",
    "    Avg, Worst: O (N ^ 2), Best: O(N)\n",
    "    For each element, make sure it is inserted correctly\n",
    "    \"\"\"\n",
    "    N = len(nums)\n",
    "    for i in range(N):\n",
    "        j = i\n",
    "        while j > 0 and nums[j] < nums[j - 1]:\n",
    "            nums[j], nums[j - 1] = nums[j - 1], nums[j]\n",
    "            j -= 1\n",
    "    return nums\n",
    "\n",
    "# Testing the solution\n",
    "assert isort([2,3,1,2,3,4]) == [1,2,2,3,3,4]\n",
    "assert isort([1,2,3,4,5]) == [1,2,3,4,5]"
   ]
  },
  {
   "cell_type": "code",
   "execution_count": 59,
   "id": "b83bbe39",
   "metadata": {
    "execution": {
     "iopub.execute_input": "2024-07-09T03:44:32.835841Z",
     "iopub.status.busy": "2024-07-09T03:44:32.835397Z",
     "iopub.status.idle": "2024-07-09T03:44:32.839645Z",
     "shell.execute_reply": "2024-07-09T03:44:32.839213Z"
    },
    "lines_to_next_cell": 1,
    "papermill": {
     "duration": 0.018867,
     "end_time": "2024-07-09T03:44:32.840649",
     "exception": false,
     "start_time": "2024-07-09T03:44:32.821782",
     "status": "completed"
    },
    "tags": []
   },
   "outputs": [],
   "source": [
    "def isort2(nums: list[int]) -> list[int]:\n",
    "    \"\"\"\n",
    "    Avg, Worst: O (N ^ 2), Best: O(N)\n",
    "    For each element, make sure it is inserted correctly\n",
    "    \"\"\"\n",
    "    N = len(nums)\n",
    "    for i in range(1, N):\n",
    "        curr, j = nums[i], i - 1\n",
    "        while j >= 0 and nums[j] > curr:\n",
    "            nums[j + 1] = nums[j]\n",
    "            j -= 1\n",
    "        nums[j + 1] = curr\n",
    "\n",
    "    return nums\n",
    "\n",
    "# Testing the solution\n",
    "assert isort2([2,3,1,2,3,4]) == [1,2,2,3,3,4]\n",
    "assert isort2([1,2,3,4,5]) == [1,2,3,4,5]"
   ]
  },
  {
   "cell_type": "markdown",
   "id": "06a9c2c1",
   "metadata": {
    "papermill": {
     "duration": 0.013023,
     "end_time": "2024-07-09T03:44:32.866498",
     "exception": false,
     "start_time": "2024-07-09T03:44:32.853475",
     "status": "completed"
    },
    "tags": []
   },
   "source": [
    "Code Gladiators Semi Final"
   ]
  },
  {
   "cell_type": "code",
   "execution_count": 60,
   "id": "fcda3819",
   "metadata": {
    "execution": {
     "iopub.execute_input": "2024-07-09T03:44:32.894228Z",
     "iopub.status.busy": "2024-07-09T03:44:32.893765Z",
     "iopub.status.idle": "2024-07-09T03:44:32.899309Z",
     "shell.execute_reply": "2024-07-09T03:44:32.898774Z"
    },
    "lines_to_next_cell": 1,
    "papermill": {
     "duration": 0.020758,
     "end_time": "2024-07-09T03:44:32.900424",
     "exception": false,
     "start_time": "2024-07-09T03:44:32.879666",
     "status": "completed"
    },
    "tags": []
   },
   "outputs": [],
   "source": [
    "# Q1\n",
    "def max_rides_q1(arr1: list[int], N1: int, arr2: list[int], N2: int, money: int) -> int:\n",
    "    i = j = rides = 0\n",
    "    while i < N1 or j < N2:\n",
    "        if i < N1 and arr1[i] <= money and (j >= N2 or arr1[i] <= arr2[j]):\n",
    "            rides, i, money = rides + 1, i + 1, money - arr1[i]\n",
    "        elif j < N2 and arr2[j] <= money and (i >= N1 or arr1[i] > arr2[j]):\n",
    "            rides, j, money = rides + 1, j + 1, money - arr2[j]\n",
    "        else:\n",
    "            break\n",
    "\n",
    "    return rides\n",
    "\n",
    "# Testing the solution\n",
    "assert max_rides_q1([5,3,6,8,10,20], 6, [4,4,4,6,7,10,4,8], 8, 20) == 5\n",
    "assert max_rides_q1([10,20,30,40], 4, [5,3,9,10,2,3,6,9,15], 9, 60) == 9"
   ]
  },
  {
   "cell_type": "markdown",
   "id": "ddd2b276",
   "metadata": {
    "papermill": {
     "duration": 0.012947,
     "end_time": "2024-07-09T03:44:32.926739",
     "exception": false,
     "start_time": "2024-07-09T03:44:32.913792",
     "status": "completed"
    },
    "tags": []
   },
   "source": [
    "Merge sort"
   ]
  },
  {
   "cell_type": "code",
   "execution_count": 61,
   "id": "9bae07ec",
   "metadata": {
    "execution": {
     "iopub.execute_input": "2024-07-09T03:44:32.954535Z",
     "iopub.status.busy": "2024-07-09T03:44:32.954037Z",
     "iopub.status.idle": "2024-07-09T03:44:32.959595Z",
     "shell.execute_reply": "2024-07-09T03:44:32.959145Z"
    },
    "lines_to_next_cell": 1,
    "papermill": {
     "duration": 0.020843,
     "end_time": "2024-07-09T03:44:32.960717",
     "exception": false,
     "start_time": "2024-07-09T03:44:32.939874",
     "status": "completed"
    },
    "tags": []
   },
   "outputs": [],
   "source": [
    "def msort(arr: list[int]) -> list[int]:\n",
    "    \"\"\"\n",
    "    Divide and merge\n",
    "    Best, Avg, Worst: O(n log n)\n",
    "    \"\"\"\n",
    "    def merge(arr1: list[int], arr2: list[int]) -> list[int]:\n",
    "        N1, N2, i, j = len(arr1), len(arr2), 0, 0\n",
    "        result: list[int] = []\n",
    "        while i < N1 or j < N2:\n",
    "            if j >= N2 or (i < N1 and arr1[i] <= arr2[j]):\n",
    "                result.append(arr1[i])\n",
    "                i += 1\n",
    "            else:\n",
    "                result.append(arr2[j])\n",
    "                j += 1\n",
    "\n",
    "        return result\n",
    "\n",
    "    N = len(arr)\n",
    "    if N == 1:\n",
    "        return arr\n",
    "    else:\n",
    "        mid = N // 2\n",
    "        left = msort(arr[:mid])\n",
    "        right = msort(arr[mid:])\n",
    "        return merge(left, right)\n",
    "\n",
    "# Testing the solution\n",
    "assert msort([5,4,3,2,1]) == [1,2,3,4,5]\n",
    "assert msort([2,1]) == [1,2]\n",
    "assert msort([1]) == [1]"
   ]
  },
  {
   "cell_type": "code",
   "execution_count": 62,
   "id": "64ad8a6d",
   "metadata": {
    "execution": {
     "iopub.execute_input": "2024-07-09T03:44:32.988390Z",
     "iopub.status.busy": "2024-07-09T03:44:32.987963Z",
     "iopub.status.idle": "2024-07-09T03:44:32.995540Z",
     "shell.execute_reply": "2024-07-09T03:44:32.994999Z"
    },
    "lines_to_next_cell": 1,
    "papermill": {
     "duration": 0.022499,
     "end_time": "2024-07-09T03:44:32.996651",
     "exception": false,
     "start_time": "2024-07-09T03:44:32.974152",
     "status": "completed"
    },
    "tags": []
   },
   "outputs": [],
   "source": [
    "def msortBetter(arr: list[int]) -> list[int]:\n",
    "    def backtrack(left: int, right: int) -> None:\n",
    "        if right - left <= 1:\n",
    "            return\n",
    "        else:\n",
    "            mid = (left + right) // 2\n",
    "            backtrack(left, mid)\n",
    "            backtrack(mid, right)\n",
    "\n",
    "            temp: list[int] = []\n",
    "            i, j = left, mid\n",
    "            while i < mid or j < right:\n",
    "                if j >= right or (i < mid and arr[i] <= arr[j]):\n",
    "                    temp.append(arr[i])\n",
    "                    i += 1\n",
    "                else:\n",
    "                    temp.append(arr[j])\n",
    "                    j += 1\n",
    "\n",
    "            for idx in range(left, right):\n",
    "                arr[idx] = temp[idx - left]\n",
    "\n",
    "    N = len(arr)\n",
    "    backtrack(0, N)\n",
    "    return arr\n",
    "\n",
    "# Testing the solution\n",
    "for _ in range(50):\n",
    "    arr = np.random.randint(0, 50, random.randint(1, 51)).tolist()\n",
    "    msortBetter(arr)\n",
    "    assert arr == sorted(arr)"
   ]
  },
  {
   "cell_type": "markdown",
   "id": "d01399f4",
   "metadata": {
    "papermill": {
     "duration": 0.01294,
     "end_time": "2024-07-09T03:44:33.022720",
     "exception": false,
     "start_time": "2024-07-09T03:44:33.009780",
     "status": "completed"
    },
    "tags": []
   },
   "source": [
    "Quick Sort"
   ]
  },
  {
   "cell_type": "code",
   "execution_count": 63,
   "id": "2b24de28",
   "metadata": {
    "execution": {
     "iopub.execute_input": "2024-07-09T03:44:33.050237Z",
     "iopub.status.busy": "2024-07-09T03:44:33.049802Z",
     "iopub.status.idle": "2024-07-09T03:44:33.056279Z",
     "shell.execute_reply": "2024-07-09T03:44:33.055878Z"
    },
    "lines_to_next_cell": 1,
    "papermill": {
     "duration": 0.021711,
     "end_time": "2024-07-09T03:44:33.057437",
     "exception": false,
     "start_time": "2024-07-09T03:44:33.035726",
     "status": "completed"
    },
    "tags": []
   },
   "outputs": [],
   "source": [
    "def qsort(arr: list[int]) -> list[int]:\n",
    "    \"\"\"\n",
    "    Pick a pivot and place it at its correct position - smaller elements to the left, larger elements to the right of pivot\n",
    "    Sort left & right halves recusively\n",
    "    \"\"\"\n",
    "    N = len(arr)\n",
    "    if N <= 1:\n",
    "        return arr\n",
    "    else:\n",
    "        left, right, pivot = [], [], 0\n",
    "        for i in range(N):\n",
    "            if i != pivot:\n",
    "                if arr[i] <= arr[pivot]:\n",
    "                    left.append(arr[i])\n",
    "                else:\n",
    "                    right.append(arr[i])\n",
    "\n",
    "        return qsort(left) + [arr[pivot]] + qsort(right)\n",
    "\n",
    "# Testing the solution\n",
    "for _ in range(50):\n",
    "    arr = np.random.randint(0, 50, random.randint(1, 51)).tolist()\n",
    "    assert qsort(arr) == sorted(arr)"
   ]
  },
  {
   "cell_type": "code",
   "execution_count": 64,
   "id": "e5849396",
   "metadata": {
    "execution": {
     "iopub.execute_input": "2024-07-09T03:44:33.084588Z",
     "iopub.status.busy": "2024-07-09T03:44:33.084149Z",
     "iopub.status.idle": "2024-07-09T03:44:33.091561Z",
     "shell.execute_reply": "2024-07-09T03:44:33.091146Z"
    },
    "lines_to_next_cell": 1,
    "papermill": {
     "duration": 0.022097,
     "end_time": "2024-07-09T03:44:33.092598",
     "exception": false,
     "start_time": "2024-07-09T03:44:33.070501",
     "status": "completed"
    },
    "tags": []
   },
   "outputs": [],
   "source": [
    "def qsortBetter(arr: list[int]) -> list[int]:\n",
    "    def partition(left: int, right: int, pivot: int) -> int:\n",
    "        \"\"\"\n",
    "        Place two pointers, i = left, j = right\n",
    "        Iterate i forward until we hit a number greater than arr[pivot]\n",
    "        Iterate j backward until we hit a number lesser than or equal to arr[pivot]\n",
    "        if i < j:\n",
    "            Swap arr[i], arr[j]\n",
    "        else:\n",
    "            swap arr[pivot], arr[j]\n",
    "            return j\n",
    "        \"\"\"\n",
    "        i, j = left, right\n",
    "        while i < j:\n",
    "            while i < right and arr[i] <= arr[pivot]:\n",
    "                i += 1\n",
    "            while j > left and arr[j] > arr[pivot]:\n",
    "                j -= 1\n",
    "            if i < j:\n",
    "                arr[i], arr[j] = arr[j], arr[i]\n",
    "\n",
    "        arr[pivot], arr[j] = arr[j], arr[pivot]\n",
    "        return j\n",
    "\n",
    "    def backtrack(left: int, right: int) -> None:\n",
    "        if left < right:\n",
    "            pivot = partition(left, right, left)\n",
    "            backtrack(left, pivot - 1)\n",
    "            backtrack(pivot + 1, right)\n",
    "\n",
    "    N = len(arr)\n",
    "    backtrack(0, N - 1)\n",
    "    return arr\n",
    "\n",
    "# Testing the solution\n",
    "for _ in range(50):\n",
    "    arr = np.random.randint(0, 50, random.randint(1, 51)).tolist()\n",
    "    qsortBetter(arr)\n",
    "    assert arr == sorted(arr)"
   ]
  },
  {
   "cell_type": "markdown",
   "id": "7d24ea52",
   "metadata": {
    "papermill": {
     "duration": 0.012922,
     "end_time": "2024-07-09T03:44:33.118618",
     "exception": false,
     "start_time": "2024-07-09T03:44:33.105696",
     "status": "completed"
    },
    "tags": []
   },
   "source": [
    "LC POTD"
   ]
  },
  {
   "cell_type": "code",
   "execution_count": 65,
   "id": "c8d69999",
   "metadata": {
    "execution": {
     "iopub.execute_input": "2024-07-09T03:44:33.145292Z",
     "iopub.status.busy": "2024-07-09T03:44:33.145003Z",
     "iopub.status.idle": "2024-07-09T03:44:33.148586Z",
     "shell.execute_reply": "2024-07-09T03:44:33.148079Z"
    },
    "lines_to_next_cell": 1,
    "papermill": {
     "duration": 0.018159,
     "end_time": "2024-07-09T03:44:33.149626",
     "exception": false,
     "start_time": "2024-07-09T03:44:33.131467",
     "status": "completed"
    },
    "tags": []
   },
   "outputs": [],
   "source": [
    "# https://leetcode.com/problems/pass-the-pillow/submissions/1311515636\n",
    "def passThePillow(n: int, time: int) -> int:\n",
    "    atFirst = (time // (n - 1)) % 2 == 0\n",
    "    position = time % (n - 1)\n",
    "    return position + 1 if atFirst else n - position\n",
    "\n",
    "# Testing the solution\n",
    "assert passThePillow(4, 5) == 2\n",
    "assert passThePillow(3, 2) == 3\n",
    "assert passThePillow(6, 5) == 6"
   ]
  },
  {
   "cell_type": "code",
   "execution_count": 66,
   "id": "be0a407e",
   "metadata": {
    "execution": {
     "iopub.execute_input": "2024-07-09T03:44:33.176823Z",
     "iopub.status.busy": "2024-07-09T03:44:33.176525Z",
     "iopub.status.idle": "2024-07-09T03:44:33.181706Z",
     "shell.execute_reply": "2024-07-09T03:44:33.181148Z"
    },
    "lines_to_next_cell": 1,
    "papermill": {
     "duration": 0.020056,
     "end_time": "2024-07-09T03:44:33.182835",
     "exception": false,
     "start_time": "2024-07-09T03:44:33.162779",
     "status": "completed"
    },
    "tags": []
   },
   "outputs": [],
   "source": [
    "def intersect(nums1: list[int], nums2: list[int]) -> list[int]:\n",
    "    \"\"\"\n",
    "    Taking this approach since in one of the follow ups, its mentioned that the array is sorted\n",
    "    \"\"\"\n",
    "    # Sort both the arrays\n",
    "    nums1.sort()\n",
    "    nums2.sort()\n",
    "\n",
    "    N1, N2, i, j = len(nums1), len(nums2), 0, 0\n",
    "    intersection: list[int] = []\n",
    "    while i < N1 and j < N2:\n",
    "        if nums1[i] < nums2[j]:\n",
    "            i += 1\n",
    "        elif nums1[i] > nums2[j]:\n",
    "            j += 1\n",
    "        else:\n",
    "            intersection.append(nums1[i])\n",
    "            i, j = i + 1, j + 1\n",
    "\n",
    "    return intersection\n",
    "\n",
    "# Testing the solution\n",
    "assert intersect([1,2,2,1], [2,2]) == [2,2]\n",
    "assert intersect([4,9,5], [9,4,9,8,4]) == [4,9]\n",
    "assert intersect([4,9,5,4], [9,4,9,8,4]) == [4,4,9]"
   ]
  },
  {
   "cell_type": "markdown",
   "id": "c9ce06ce",
   "metadata": {
    "papermill": {
     "duration": 0.012933,
     "end_time": "2024-07-09T03:44:33.208829",
     "exception": false,
     "start_time": "2024-07-09T03:44:33.195896",
     "status": "completed"
    },
    "tags": []
   },
   "source": [
    "Codeforces Practice"
   ]
  },
  {
   "cell_type": "code",
   "execution_count": 67,
   "id": "fd52ba67",
   "metadata": {
    "execution": {
     "iopub.execute_input": "2024-07-09T03:44:33.235743Z",
     "iopub.status.busy": "2024-07-09T03:44:33.235367Z",
     "iopub.status.idle": "2024-07-09T03:44:33.239115Z",
     "shell.execute_reply": "2024-07-09T03:44:33.238609Z"
    },
    "lines_to_next_cell": 1,
    "papermill": {
     "duration": 0.018515,
     "end_time": "2024-07-09T03:44:33.240149",
     "exception": false,
     "start_time": "2024-07-09T03:44:33.221634",
     "status": "completed"
    },
    "tags": []
   },
   "outputs": [],
   "source": [
    "# Drinks 800\n",
    "def drinks(proportions: list[int], n_drinks: int) -> float:\n",
    "    return (sum(proportions) * 100) / (100 * n_drinks)\n",
    "\n",
    "# Testing the solution\n",
    "assert round(drinks([50,50,100], 3), 2) == 66.67\n",
    "assert round(drinks([0,25,50,75], 4), 2) == 37.5"
   ]
  },
  {
   "cell_type": "code",
   "execution_count": 68,
   "id": "b793f455",
   "metadata": {
    "execution": {
     "iopub.execute_input": "2024-07-09T03:44:33.267412Z",
     "iopub.status.busy": "2024-07-09T03:44:33.266975Z",
     "iopub.status.idle": "2024-07-09T03:44:33.271438Z",
     "shell.execute_reply": "2024-07-09T03:44:33.270924Z"
    },
    "lines_to_next_cell": 1,
    "papermill": {
     "duration": 0.019258,
     "end_time": "2024-07-09T03:44:33.272610",
     "exception": false,
     "start_time": "2024-07-09T03:44:33.253352",
     "status": "completed"
    },
    "tags": []
   },
   "outputs": [],
   "source": [
    "# Substring and subsequence - 1200 \n",
    "def substr_subsequence(text1: str, text2: str) -> int:\n",
    "    N1, N2 = len(text1), len(text2)\n",
    "    ans: int = N1 + N2\n",
    "    for k in range(N2):\n",
    "        i, j = 0, k\n",
    "        while i < N1 and j < N2:\n",
    "            if text1[i] == text2[j]:\n",
    "                j += 1\n",
    "            i += 1\n",
    "        ans = min(ans, N1 + N2 - (j - k))\n",
    "\n",
    "    return ans\n",
    "\n",
    "# Testing the solution\n",
    "assert substr_subsequence(\"aba\", \"cb\") == 4\n",
    "assert substr_subsequence(\"contest\", \"test\") == 7\n",
    "assert substr_subsequence(\"cde\", \"abcefg\") == 7\n",
    "assert substr_subsequence(\"cdaa\", \"cdca\") == 6"
   ]
  },
  {
   "cell_type": "markdown",
   "id": "b864bd53",
   "metadata": {
    "papermill": {
     "duration": 0.013008,
     "end_time": "2024-07-09T03:44:33.298646",
     "exception": false,
     "start_time": "2024-07-09T03:44:33.285638",
     "status": "completed"
    },
    "tags": []
   },
   "source": [
    "LC Biweekly - 6th July, started at 9 PM IST"
   ]
  },
  {
   "cell_type": "code",
   "execution_count": 69,
   "id": "2dd8e45d",
   "metadata": {
    "execution": {
     "iopub.execute_input": "2024-07-09T03:44:33.325286Z",
     "iopub.status.busy": "2024-07-09T03:44:33.324963Z",
     "iopub.status.idle": "2024-07-09T03:44:33.328869Z",
     "shell.execute_reply": "2024-07-09T03:44:33.328364Z"
    },
    "lines_to_next_cell": 1,
    "papermill": {
     "duration": 0.018603,
     "end_time": "2024-07-09T03:44:33.329969",
     "exception": false,
     "start_time": "2024-07-09T03:44:33.311366",
     "status": "completed"
    },
    "tags": []
   },
   "outputs": [],
   "source": [
    "# Q1\n",
    "def numberOfAlternatingGroups(colors: list[int]) -> int:\n",
    "    N = len(colors)\n",
    "    colors += colors[:2]\n",
    "    groups = 0\n",
    "    for i in range(N):\n",
    "        if colors[i + 2] == colors[i] and colors[i] != colors[i + 1]:\n",
    "            groups += 1\n",
    "    return groups\n",
    "\n",
    "# Testing the solution\n",
    "assert numberOfAlternatingGroups([0,1,0,0,1]) == 3\n",
    "assert numberOfAlternatingGroups([1,1,0]) == 1"
   ]
  },
  {
   "cell_type": "code",
   "execution_count": 70,
   "id": "7701afcb",
   "metadata": {
    "execution": {
     "iopub.execute_input": "2024-07-09T03:44:33.357245Z",
     "iopub.status.busy": "2024-07-09T03:44:33.356786Z",
     "iopub.status.idle": "2024-07-09T03:44:33.361307Z",
     "shell.execute_reply": "2024-07-09T03:44:33.360842Z"
    },
    "lines_to_next_cell": 1,
    "papermill": {
     "duration": 0.019445,
     "end_time": "2024-07-09T03:44:33.362450",
     "exception": false,
     "start_time": "2024-07-09T03:44:33.343005",
     "status": "completed"
    },
    "tags": []
   },
   "outputs": [],
   "source": [
    "# Q2\n",
    "def maximumPoints(enemyEnergies: list[int], currentEnergy: int) -> int:\n",
    "    \"\"\"\n",
    "    Sort by enemy energies.\n",
    "    We can only consume energy once from an enemy - we do this from the most 'expensive' enemy\n",
    "    We continue gaining points from the weaker guy\n",
    "    \"\"\"\n",
    "\n",
    "    enemyEnergies.sort()\n",
    "    N = len(enemyEnergies)\n",
    "    points = 0\n",
    "    while enemyEnergies:\n",
    "        if enemyEnergies[0] <= currentEnergy:\n",
    "            currentEnergy, points = currentEnergy % enemyEnergies[0], points + (currentEnergy // enemyEnergies[0])\n",
    "        elif points > 0:\n",
    "            currentEnergy += enemyEnergies.pop()\n",
    "        else:\n",
    "            break\n",
    "\n",
    "    return points\n",
    "\n",
    "# Testing the solution\n",
    "assert maximumPoints([3,2,2], 2) == 3\n",
    "assert maximumPoints([2], 10) == 5\n",
    "assert maximumPoints([2], 1) == 0"
   ]
  },
  {
   "cell_type": "markdown",
   "id": "d7002f9b",
   "metadata": {
    "papermill": {
     "duration": 0.012997,
     "end_time": "2024-07-09T03:44:33.388515",
     "exception": false,
     "start_time": "2024-07-09T03:44:33.375518",
     "status": "completed"
    },
    "tags": []
   },
   "source": [
    "Upsolving Q3"
   ]
  },
  {
   "cell_type": "code",
   "execution_count": 71,
   "id": "3ac42c70",
   "metadata": {
    "execution": {
     "iopub.execute_input": "2024-07-09T03:44:33.414830Z",
     "iopub.status.busy": "2024-07-09T03:44:33.414647Z",
     "iopub.status.idle": "2024-07-09T03:44:33.419053Z",
     "shell.execute_reply": "2024-07-09T03:44:33.418646Z"
    },
    "lines_to_next_cell": 1,
    "papermill": {
     "duration": 0.018842,
     "end_time": "2024-07-09T03:44:33.420090",
     "exception": false,
     "start_time": "2024-07-09T03:44:33.401248",
     "status": "completed"
    },
    "tags": []
   },
   "outputs": [],
   "source": [
    "# Q3\n",
    "# https://leetcode.com/problems/alternating-groups-ii/submissions/1311884953\n",
    "def numberOfAlternatingGroupsII(colors: list[int], k: int) -> int:\n",
    "    colors += colors[:k - 1]\n",
    "    N = len(colors)\n",
    "    i, j, prev, groups = 0, 0, int(not colors[0]), 0\n",
    "    while j < N:\n",
    "        if colors[j] != prev:\n",
    "            prev = int(colors[j])\n",
    "        else:\n",
    "            i = j\n",
    "        if j - i + 1 >= k:\n",
    "            groups += 1\n",
    "\n",
    "        j += 1\n",
    "\n",
    "    return groups\n",
    "\n",
    "# Testing the solution\n",
    "assert numberOfAlternatingGroupsII([0,1,0,0,1,0,1], 6) == 2\n",
    "assert numberOfAlternatingGroupsII([1,1,0,1], 4) == 0\n",
    "assert numberOfAlternatingGroupsII([0,1,0,1,0], 3) == 3"
   ]
  },
  {
   "cell_type": "markdown",
   "id": "f5496f5f",
   "metadata": {
    "papermill": {
     "duration": 0.012856,
     "end_time": "2024-07-09T03:44:33.445825",
     "exception": false,
     "start_time": "2024-07-09T03:44:33.432969",
     "status": "completed"
    },
    "tags": []
   },
   "source": [
    "Codeforces practice"
   ]
  },
  {
   "cell_type": "code",
   "execution_count": 72,
   "id": "e199a57c",
   "metadata": {
    "execution": {
     "iopub.execute_input": "2024-07-09T03:44:33.472167Z",
     "iopub.status.busy": "2024-07-09T03:44:33.471969Z",
     "iopub.status.idle": "2024-07-09T03:44:33.476142Z",
     "shell.execute_reply": "2024-07-09T03:44:33.475738Z"
    },
    "lines_to_next_cell": 1,
    "papermill": {
     "duration": 0.018605,
     "end_time": "2024-07-09T03:44:33.477242",
     "exception": false,
     "start_time": "2024-07-09T03:44:33.458637",
     "status": "completed"
    },
    "tags": []
   },
   "outputs": [],
   "source": [
    "def chewbacca(N: int) -> int:\n",
    "    # Invert and add to stack\n",
    "    stack: list[int] = []\n",
    "    while N > 0:\n",
    "        digit, N = N % 10, N // 10\n",
    "        stack.append(digit if digit < 5 or (digit == 9 and N == 0) else 9 - digit)\n",
    "\n",
    "    # Pop and accumulate to result\n",
    "    result: int = 0\n",
    "    while stack:\n",
    "        result = (result * 10) + stack.pop()\n",
    "\n",
    "    return result\n",
    "\n",
    "# Testing the solution\n",
    "assert chewbacca(4545) == 4444\n",
    "assert chewbacca(27) == 22\n",
    "assert chewbacca(9) == 9\n",
    "assert chewbacca(919) == 910"
   ]
  },
  {
   "cell_type": "markdown",
   "id": "72c3c5e5",
   "metadata": {
    "papermill": {
     "duration": 0.012899,
     "end_time": "2024-07-09T03:44:33.503109",
     "exception": false,
     "start_time": "2024-07-09T03:44:33.490210",
     "status": "completed"
    },
    "tags": []
   },
   "source": [
    "LC Weekly - 7th July 2024"
   ]
  },
  {
   "cell_type": "code",
   "execution_count": 73,
   "id": "5e6cb793",
   "metadata": {
    "execution": {
     "iopub.execute_input": "2024-07-09T03:44:33.529834Z",
     "iopub.status.busy": "2024-07-09T03:44:33.529390Z",
     "iopub.status.idle": "2024-07-09T03:44:33.532977Z",
     "shell.execute_reply": "2024-07-09T03:44:33.532462Z"
    },
    "lines_to_next_cell": 1,
    "papermill": {
     "duration": 0.017997,
     "end_time": "2024-07-09T03:44:33.533998",
     "exception": false,
     "start_time": "2024-07-09T03:44:33.516001",
     "status": "completed"
    },
    "tags": []
   },
   "outputs": [],
   "source": [
    "# Q1\n",
    "def getEncryptedString(s: str, k: int) -> str:\n",
    "    N = len(s)\n",
    "    result: list[str] = []\n",
    "    for i in range(N):\n",
    "        result.append(s[(i + k) % N])\n",
    "    return ''.join(result)\n",
    "\n",
    "# Testing the solution\n",
    "assert getEncryptedString(\"dart\", 3) == \"tdar\"\n",
    "assert getEncryptedString(\"aaa\", 1) == \"aaa\""
   ]
  },
  {
   "cell_type": "code",
   "execution_count": 74,
   "id": "95ed49ab",
   "metadata": {
    "execution": {
     "iopub.execute_input": "2024-07-09T03:44:33.561124Z",
     "iopub.status.busy": "2024-07-09T03:44:33.560643Z",
     "iopub.status.idle": "2024-07-09T03:44:33.565126Z",
     "shell.execute_reply": "2024-07-09T03:44:33.564687Z"
    },
    "lines_to_next_cell": 1,
    "papermill": {
     "duration": 0.019181,
     "end_time": "2024-07-09T03:44:33.566172",
     "exception": false,
     "start_time": "2024-07-09T03:44:33.546991",
     "status": "completed"
    },
    "tags": []
   },
   "outputs": [],
   "source": [
    "# Q2\n",
    "def validStrings(N: int) -> set[str]:\n",
    "    def backtrack(acc: list[str]) -> None:\n",
    "        if len(acc) == N:\n",
    "            result.add(''.join(acc))\n",
    "        else:\n",
    "            if not acc or acc[-1] == '1':\n",
    "                acc.append('0')\n",
    "                backtrack(acc)\n",
    "                acc.pop()\n",
    "            acc.append('1')\n",
    "            backtrack(acc)\n",
    "            acc.pop()\n",
    "\n",
    "    result: set[str] = set()\n",
    "    backtrack([])\n",
    "    return result\n",
    "\n",
    "# Testing the solution\n",
    "assert sorted(validStrings(3)) == ['010', '011', '101', '110', '111']"
   ]
  },
  {
   "cell_type": "code",
   "execution_count": 75,
   "id": "5064877b",
   "metadata": {
    "execution": {
     "iopub.execute_input": "2024-07-09T03:44:33.593098Z",
     "iopub.status.busy": "2024-07-09T03:44:33.592672Z",
     "iopub.status.idle": "2024-07-09T03:44:33.601033Z",
     "shell.execute_reply": "2024-07-09T03:44:33.600618Z"
    },
    "lines_to_next_cell": 1,
    "papermill": {
     "duration": 0.022915,
     "end_time": "2024-07-09T03:44:33.602058",
     "exception": false,
     "start_time": "2024-07-09T03:44:33.579143",
     "status": "completed"
    },
    "tags": []
   },
   "outputs": [],
   "source": [
    "# Q4\n",
    "def minimumCost(target: str, words: list[str], costs: list[int]) -> int:\n",
    "    match_cache: dict[tuple[int, int], str] = dict()\n",
    "    def match(i_: int, s_length: int, s: str) -> bool:\n",
    "        if (i_, s_length) in match_cache:\n",
    "            return s == match_cache[(i_, s_length)]\n",
    "        elif i_ + s_length > target_length:\n",
    "            return False\n",
    "        else:\n",
    "            i = i_\n",
    "            for j in range(s_length):\n",
    "                if i < target_length and s[j] == target[i]:\n",
    "                    i += 1\n",
    "                else:\n",
    "                    return False\n",
    "\n",
    "            match_cache[(i_, s_length)] = s\n",
    "            return True\n",
    "\n",
    "    @functools.cache\n",
    "    def backtrack(i: int) -> float:\n",
    "        if i == target_length:\n",
    "            return 0\n",
    "        else:\n",
    "            min_cost: float = math.inf\n",
    "            for cost, candidate in starts_with[target[i]]:\n",
    "                candidate_length = len(candidate)\n",
    "                if match(i, candidate_length, candidate):\n",
    "                    min_cost = min(min_cost, cost + backtrack(i + candidate_length))\n",
    "            return min_cost\n",
    "\n",
    "    N_words = len(words)\n",
    "    target_length = len(target)\n",
    "\n",
    "    # Remove duplicates\n",
    "    unique: collections.defaultdict[str, float] = collections.defaultdict(lambda: math.inf)\n",
    "    for i in range(N_words):\n",
    "        unique[words[i]] = min(unique[words[i]], costs[i])\n",
    "\n",
    "    # Store the first character as a key\n",
    "    starts_with: collections.defaultdict[str, list[tuple[float, str]]] = collections.defaultdict(list)\n",
    "    for word, cost in unique.items():\n",
    "        starts_with[word[0]].append((cost, word))\n",
    "\n",
    "    # Sort by minimum cost\n",
    "    for k in starts_with:\n",
    "        starts_with[k].sort()\n",
    "\n",
    "    # Backtrack and find the minimum cost\n",
    "    min_cost = backtrack(0)\n",
    "    return int(min_cost) if not math.isinf(min_cost) else -1\n",
    "\n",
    "# Testing the solution\n",
    "assert minimumCost(\"abcdef\", [\"abdef\",\"abc\",\"d\",\"def\",\"ef\"], [100,1,1,10,5]) == 7\n",
    "assert minimumCost(\"aaaa\", [\"z\", \"zz\", \"zzz\"], [1, 10, 100]) == -1\n",
    "assert minimumCost(\"aaaa\", [\"a\", \"z\", \"zz\", \"zzz\"], [1, 1, 10, 100]) == 4\n",
    "assert minimumCost(\"sgsipzma\", [\"s\",\"s\",\"g\",\"ipzma\"], [1,5,2,1]) == 5"
   ]
  },
  {
   "cell_type": "markdown",
   "id": "2a369efe",
   "metadata": {
    "papermill": {
     "duration": 0.013006,
     "end_time": "2024-07-09T03:44:33.628173",
     "exception": false,
     "start_time": "2024-07-09T03:44:33.615167",
     "status": "completed"
    },
    "tags": []
   },
   "source": [
    "Codeforces practice - Math"
   ]
  },
  {
   "cell_type": "code",
   "execution_count": 76,
   "id": "04e0064e",
   "metadata": {
    "execution": {
     "iopub.execute_input": "2024-07-09T03:44:33.654921Z",
     "iopub.status.busy": "2024-07-09T03:44:33.654578Z",
     "iopub.status.idle": "2024-07-09T03:44:33.659982Z",
     "shell.execute_reply": "2024-07-09T03:44:33.659565Z"
    },
    "lines_to_next_cell": 1,
    "papermill": {
     "duration": 0.020039,
     "end_time": "2024-07-09T03:44:33.661047",
     "exception": false,
     "start_time": "2024-07-09T03:44:33.641008",
     "status": "completed"
    },
    "tags": []
   },
   "outputs": [],
   "source": [
    "# Beautiful matrix\n",
    "def beautiful_matrix(matrix: list[list[str]]) -> int:\n",
    "    to_visit: collections.deque[tuple[int, int, int]] = collections.deque([(2, 2, 0)])\n",
    "    visited: set[tuple[int, int]] = set()\n",
    "    while to_visit:\n",
    "        i, j, moves = to_visit.popleft()\n",
    "        visited.add((i, j))\n",
    "        if matrix[i][j] == '1':\n",
    "            return moves\n",
    "        else:\n",
    "            for x, y in [(i + 1, j), (i - 1, j), (i, j + 1), (i, j - 1)]:\n",
    "                if 0 <= x < 5 and 0 <= y < 5 and (x, y) not in visited:\n",
    "                    to_visit.append((x, y, moves + 1))\n",
    "    return -1\n",
    "\n",
    "# Testing the solution\n",
    "assert beautiful_matrix([['0','0','0','0','0'], ['0','0','0','0','1'], ['0','0','0','0','0'], ['0','0','0','0','0'], ['0','0','0','0','0']]) == 3\n",
    "assert beautiful_matrix([['0','0','0','0','0'], ['0','0','0','0','0'], ['0','1','0','0','0'], ['0','0','0','0','0'], ['0','0','0','0','0']]) == 1"
   ]
  },
  {
   "cell_type": "code",
   "execution_count": 77,
   "id": "50e4cf4e",
   "metadata": {
    "execution": {
     "iopub.execute_input": "2024-07-09T03:44:33.687580Z",
     "iopub.status.busy": "2024-07-09T03:44:33.687256Z",
     "iopub.status.idle": "2024-07-09T03:44:33.691438Z",
     "shell.execute_reply": "2024-07-09T03:44:33.690903Z"
    },
    "lines_to_next_cell": 1,
    "papermill": {
     "duration": 0.018586,
     "end_time": "2024-07-09T03:44:33.692439",
     "exception": false,
     "start_time": "2024-07-09T03:44:33.673853",
     "status": "completed"
    },
    "tags": []
   },
   "outputs": [],
   "source": [
    "def array_with_odd_sum(arr: list[int]) -> bool:\n",
    "    N = len(arr)\n",
    "    odd, even = functools.reduce(\n",
    "            lambda initial, n: (initial[0] + int(n % 2 == 1), initial[1] + int(n % 2 == 0)),\n",
    "            arr, (0, 0)\n",
    "    )\n",
    "\n",
    "    # If there are odd number of evens\n",
    "    return (odd > 0 and even > 0) or (even == 0 and N % 2 == 1)\n",
    "\n",
    "# Testing the solution\n",
    "assert array_with_odd_sum([2,3]) == True\n",
    "assert array_with_odd_sum([2,2,8,8]) == False\n",
    "assert array_with_odd_sum([1,1,1,1]) == False\n",
    "assert array_with_odd_sum([1,1,1]) == True"
   ]
  },
  {
   "cell_type": "code",
   "execution_count": 78,
   "id": "2959d402",
   "metadata": {
    "execution": {
     "iopub.execute_input": "2024-07-09T03:44:33.719175Z",
     "iopub.status.busy": "2024-07-09T03:44:33.718780Z",
     "iopub.status.idle": "2024-07-09T03:44:33.721976Z",
     "shell.execute_reply": "2024-07-09T03:44:33.721535Z"
    },
    "lines_to_next_cell": 1,
    "papermill": {
     "duration": 0.017706,
     "end_time": "2024-07-09T03:44:33.723023",
     "exception": false,
     "start_time": "2024-07-09T03:44:33.705317",
     "status": "completed"
    },
    "tags": []
   },
   "outputs": [],
   "source": [
    "def floor_number(n: int, x: int) -> int:\n",
    "    n = max(n - 2, 0)\n",
    "    return math.ceil(n / x) + 1\n",
    "\n",
    "# Testing the solution\n",
    "assert floor_number(2, 100) == 1\n",
    "assert floor_number(7, 3) == 3\n",
    "assert floor_number(987, 13) == 77"
   ]
  },
  {
   "cell_type": "markdown",
   "id": "98cf5dcc",
   "metadata": {
    "papermill": {
     "duration": 0.01286,
     "end_time": "2024-07-09T03:44:33.748840",
     "exception": false,
     "start_time": "2024-07-09T03:44:33.735980",
     "status": "completed"
    },
    "tags": []
   },
   "source": [
    "Codeforces practice - Binary Search"
   ]
  },
  {
   "cell_type": "code",
   "execution_count": 79,
   "id": "b667d14c",
   "metadata": {
    "execution": {
     "iopub.execute_input": "2024-07-09T03:44:33.775857Z",
     "iopub.status.busy": "2024-07-09T03:44:33.775315Z",
     "iopub.status.idle": "2024-07-09T03:44:33.780087Z",
     "shell.execute_reply": "2024-07-09T03:44:33.779637Z"
    },
    "lines_to_next_cell": 1,
    "papermill": {
     "duration": 0.019391,
     "end_time": "2024-07-09T03:44:33.781095",
     "exception": false,
     "start_time": "2024-07-09T03:44:33.761704",
     "status": "completed"
    },
    "tags": []
   },
   "outputs": [],
   "source": [
    "def magic_powder(magic_powder: int, required: list[int], available: list[int]) -> int:\n",
    "    def check(qty: int) -> bool:\n",
    "        powder = magic_powder\n",
    "        for req, avail in zip(required, available):\n",
    "            powder -= max(0, (req * qty) - avail)\n",
    "        return powder >= 0\n",
    "\n",
    "    low = min(avail // req for req, avail in zip(required, available))\n",
    "    high = low + magic_powder\n",
    "    while low <= high:\n",
    "        mid = (low + high) // 2\n",
    "        if check(mid):\n",
    "            low = mid + 1\n",
    "        else:\n",
    "            high = mid - 1\n",
    "\n",
    "    return high\n",
    "\n",
    "# Testing the solution\n",
    "assert magic_powder(1, [2,1,4], [11,3,16]) == 4\n",
    "assert magic_powder(3, [4,3,5,6], [11,12,14,20]) == 3"
   ]
  },
  {
   "cell_type": "code",
   "execution_count": 80,
   "id": "ecdbcce3",
   "metadata": {
    "execution": {
     "iopub.execute_input": "2024-07-09T03:44:33.808284Z",
     "iopub.status.busy": "2024-07-09T03:44:33.807776Z",
     "iopub.status.idle": "2024-07-09T03:44:33.812137Z",
     "shell.execute_reply": "2024-07-09T03:44:33.811623Z"
    },
    "lines_to_next_cell": 1,
    "papermill": {
     "duration": 0.019115,
     "end_time": "2024-07-09T03:44:33.813289",
     "exception": false,
     "start_time": "2024-07-09T03:44:33.794174",
     "status": "completed"
    },
    "tags": []
   },
   "outputs": [],
   "source": [
    "def pipeline(n: int, k: int) -> int:\n",
    "    def check(i: int) -> bool:\n",
    "        \"\"\"\n",
    "        Check if connecting the largest 'i' pipes would give flow >= n\n",
    "        Sum of arithmetic progression: sn = n * ((a1 + an) / 2)\n",
    "        \"\"\"\n",
    "        max_sum = (i * (k + k - i + 1) // 2) - i + 1\n",
    "        return max_sum >= n\n",
    "\n",
    "    low, high = 0, k\n",
    "    while low <= high:\n",
    "        mid = (low + high) // 2\n",
    "        if check(mid):\n",
    "            high = mid - 1\n",
    "        else:\n",
    "            low = mid + 1\n",
    "\n",
    "    return low if low <= k else -1\n",
    "\n",
    "# Testing the solution\n",
    "assert pipeline(8, 4) == -1\n",
    "assert pipeline(5, 5) == 1\n",
    "assert pipeline(4, 3) == 2\n",
    "assert pipeline(1, 4) == 0"
   ]
  },
  {
   "cell_type": "code",
   "execution_count": 81,
   "id": "6c05099b",
   "metadata": {
    "execution": {
     "iopub.execute_input": "2024-07-09T03:44:33.840112Z",
     "iopub.status.busy": "2024-07-09T03:44:33.839802Z",
     "iopub.status.idle": "2024-07-09T03:44:33.844706Z",
     "shell.execute_reply": "2024-07-09T03:44:33.844245Z"
    },
    "lines_to_next_cell": 1,
    "papermill": {
     "duration": 0.019545,
     "end_time": "2024-07-09T03:44:33.845809",
     "exception": false,
     "start_time": "2024-07-09T03:44:33.826264",
     "status": "completed"
    },
    "tags": []
   },
   "outputs": [],
   "source": [
    "def poisoned_dagger(N: int, hp: int, seconds: list[int]) -> int:\n",
    "    def check(k: int) -> bool:\n",
    "        damage = 0\n",
    "        for i in range(N):\n",
    "            damage += min(k, seconds[i + 1] - seconds[i])\n",
    "\n",
    "        return damage >= hp\n",
    "\n",
    "    # Update seconds for the sake of 'check'\n",
    "    seconds.append(seconds[-1] + hp)\n",
    "\n",
    "    # Binary search\n",
    "    low, high = 1, hp\n",
    "    while low <= high:\n",
    "        mid = (low + high) // 2\n",
    "        if check(mid):\n",
    "            high = mid - 1\n",
    "        else:\n",
    "            low = mid + 1\n",
    "    return low\n",
    "\n",
    "# Testing the solution\n",
    "assert poisoned_dagger(2, 5, [1, 5]) == 3\n",
    "assert poisoned_dagger(3, 10, [2, 4, 10]) == 4\n",
    "assert poisoned_dagger(5, 3, [1, 2, 4, 5, 7]) == 1\n",
    "assert poisoned_dagger(4, 1000, [3, 25, 64, 1337]) == 470"
   ]
  },
  {
   "cell_type": "markdown",
   "id": "9c3df917",
   "metadata": {
    "papermill": {
     "duration": 0.013493,
     "end_time": "2024-07-09T03:44:33.872416",
     "exception": false,
     "start_time": "2024-07-09T03:44:33.858923",
     "status": "completed"
    },
    "tags": []
   },
   "source": [
    "Codeforces practice"
   ]
  },
  {
   "cell_type": "code",
   "execution_count": 82,
   "id": "97e10095",
   "metadata": {
    "execution": {
     "iopub.execute_input": "2024-07-09T03:44:33.899618Z",
     "iopub.status.busy": "2024-07-09T03:44:33.899130Z",
     "iopub.status.idle": "2024-07-09T03:44:33.903704Z",
     "shell.execute_reply": "2024-07-09T03:44:33.903244Z"
    },
    "lines_to_next_cell": 1,
    "papermill": {
     "duration": 0.019337,
     "end_time": "2024-07-09T03:44:33.904769",
     "exception": false,
     "start_time": "2024-07-09T03:44:33.885432",
     "status": "completed"
    },
    "tags": []
   },
   "outputs": [],
   "source": [
    "def chocolate_theives(m: int) -> int:\n",
    "    \"\"\"\n",
    "    Not clear on the upper bound aspect, led to TLE.\n",
    "    Looks like we can fix UB to 8 (m + 1).\n",
    "    \"\"\"\n",
    "    # Time: n ** 1/3\n",
    "    def count_ways(n: int) -> int:\n",
    "        count = 0\n",
    "        k = 2\n",
    "        while k ** 3 <= n:\n",
    "            count += n // (k ** 3)\n",
    "            k += 1\n",
    "        return count\n",
    "\n",
    "    # Binary search - log2(m)\n",
    "    low, high = 8, 8 * (m + 1)\n",
    "    while low <= high:\n",
    "        mid = (low + high) // 2\n",
    "        ways = count_ways(mid)\n",
    "        if ways >= m:\n",
    "            high = mid - 1\n",
    "        else:\n",
    "            low = mid + 1\n",
    "\n",
    "    return low if count_ways(low) == m else -1\n",
    "\n",
    "# Testing the solution\n",
    "assert chocolate_theives(10) == -1\n",
    "assert chocolate_theives(8) == 54\n",
    "assert chocolate_theives(1) == 8"
   ]
  },
  {
   "cell_type": "markdown",
   "id": "0abc9811",
   "metadata": {
    "papermill": {
     "duration": 0.012929,
     "end_time": "2024-07-09T03:44:33.930716",
     "exception": false,
     "start_time": "2024-07-09T03:44:33.917787",
     "status": "completed"
    },
    "tags": []
   },
   "source": [
    "Striver CP - Prime, Seive, Prime Factorisation"
   ]
  },
  {
   "cell_type": "code",
   "execution_count": 83,
   "id": "b2abc95d",
   "metadata": {
    "execution": {
     "iopub.execute_input": "2024-07-09T03:44:33.958835Z",
     "iopub.status.busy": "2024-07-09T03:44:33.958195Z",
     "iopub.status.idle": "2024-07-09T03:44:33.965976Z",
     "shell.execute_reply": "2024-07-09T03:44:33.965442Z"
    },
    "lines_to_next_cell": 1,
    "papermill": {
     "duration": 0.023089,
     "end_time": "2024-07-09T03:44:33.967160",
     "exception": false,
     "start_time": "2024-07-09T03:44:33.944071",
     "status": "completed"
    },
    "tags": []
   },
   "outputs": [
    {
     "data": {
      "text/plain": [
       "[3, 5, 7, 11]"
      ]
     },
     "execution_count": 83,
     "metadata": {},
     "output_type": "execute_result"
    }
   ],
   "source": [
    "def generate_primes(low: int, high: int) -> list[int]:\n",
    "    \"\"\"\n",
    "    Return list of primes inclusive of range [low, high] using seive of Erastosthenes\n",
    "    \"\"\"\n",
    "    soe: list[bool] = [True for i in range(high + 1)]\n",
    "    soe[0], soe[1], i = False, False, 2\n",
    "    while i * i <= high:\n",
    "        if soe[i]:\n",
    "            soe[i*i::i] = [False] * len(soe[i*i::i])\n",
    "        i += 1\n",
    "\n",
    "    return [i for i in range(low, high + 1) if soe[i]]\n",
    "\n",
    "# Testing the solution\n",
    "generate_primes(3, 11)"
   ]
  },
  {
   "cell_type": "code",
   "execution_count": null,
   "id": "ef78960e",
   "metadata": {},
   "outputs": [],
   "source": [
    "def hulk(n: int) -> str:\n",
    "    result: list[str] = []\n",
    "    for i in range(n):\n",
    "        result.append(\"I\")\n",
    "        result.append(\"hate\" if i % 2 == 0 else \"love\")\n",
    "        result.append(\"it\" if i == n - 1 else \"that\")\n",
    "\n",
    "    return \" \".join(result)\n",
    "\n",
    "# Testing the solution\n",
    "assert hulk(1) == \"I hate it\"\n",
    "assert hulk(2) == \"I hate that I love it\"\n",
    "assert hulk(3) == \"I hate that I love that I hate it\""
   ]
  }
 ],
 "metadata": {
  "kernelspec": {
   "display_name": "Python 3 (ipykernel)",
   "language": "python",
   "name": "python3"
  },
  "language_info": {
   "codemirror_mode": {
    "name": "ipython",
    "version": 3
   },
   "file_extension": ".py",
   "mimetype": "text/x-python",
   "name": "python",
   "nbconvert_exporter": "python",
   "pygments_lexer": "ipython3",
   "version": "3.11.9"
  },
  "papermill": {
   "default_parameters": {},
   "duration": 5.081875,
   "end_time": "2024-07-09T03:44:34.198067",
   "environment_variables": {},
   "exception": null,
   "input_path": "practice/005.ipynb",
   "output_path": "practice/005.ipynb",
   "parameters": {},
   "start_time": "2024-07-09T03:44:29.116192",
   "version": "2.6.0"
  }
 },
 "nbformat": 4,
 "nbformat_minor": 5
}
