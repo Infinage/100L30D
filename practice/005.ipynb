{
 "cells": [
  {
   "cell_type": "code",
   "execution_count": 1,
   "id": "fa51d761",
   "metadata": {
    "execution": {
     "iopub.execute_input": "2024-06-25T18:57:24.415713Z",
     "iopub.status.busy": "2024-06-25T18:57:24.415347Z",
     "iopub.status.idle": "2024-06-25T18:57:24.756093Z",
     "shell.execute_reply": "2024-06-25T18:57:24.755594Z"
    },
    "papermill": {
     "duration": 0.345585,
     "end_time": "2024-06-25T18:57:24.757566",
     "exception": false,
     "start_time": "2024-06-25T18:57:24.411981",
     "status": "completed"
    },
    "tags": []
   },
   "outputs": [],
   "source": [
    "from typing import List, Optional, Generator\n",
    "import pandas as pd\n",
    "import numpy as np\n",
    "import sqlite3\n",
    "import re\n",
    "import io\n",
    "import math\n",
    "import collections\n",
    "import itertools\n",
    "import functools\n",
    "import random\n",
    "import string\n",
    "import tqdm\n",
    "import bisect\n",
    "import heapq\n",
    "\n",
    "conn = sqlite3.connect(\":memory:\")\n",
    "\n",
    "def regexp(expr, item):\n",
    "    reg = re.compile(expr)\n",
    "    return reg.search(item) is not None\n",
    "\n",
    "def read_lc_df(s: str, dtypes: dict[str, str]=dict()) -> pd.DataFrame:\n",
    "    temp = pd.read_csv(io.StringIO(s), sep=\"|\", skiprows=2)\n",
    "    temp = temp.iloc[1:-1, 1:-1]\n",
    "    temp.columns = temp.columns.map(str.strip)\n",
    "    temp = temp.map(lambda x: x if type(x) != str else None if x.strip() == 'null' else x.strip())\n",
    "    temp = temp.astype(dtypes)\n",
    "    return temp\n",
    "\n",
    "conn.create_function(\"REGEXP\", 2, regexp)"
   ]
  },
  {
   "cell_type": "markdown",
   "id": "db473660",
   "metadata": {
    "papermill": {
     "duration": 0.0019,
     "end_time": "2024-06-25T18:57:24.761726",
     "exception": false,
     "start_time": "2024-06-25T18:57:24.759826",
     "status": "completed"
    },
    "tags": []
   },
   "source": [
    "#### Helper for Binary tree problems"
   ]
  },
  {
   "cell_type": "code",
   "execution_count": 2,
   "id": "6e8896c0",
   "metadata": {
    "execution": {
     "iopub.execute_input": "2024-06-25T18:57:24.766581Z",
     "iopub.status.busy": "2024-06-25T18:57:24.765941Z",
     "iopub.status.idle": "2024-06-25T18:57:24.773235Z",
     "shell.execute_reply": "2024-06-25T18:57:24.772758Z"
    },
    "lines_to_next_cell": 1,
    "papermill": {
     "duration": 0.010895,
     "end_time": "2024-06-25T18:57:24.774368",
     "exception": false,
     "start_time": "2024-06-25T18:57:24.763473",
     "status": "completed"
    },
    "tags": []
   },
   "outputs": [],
   "source": [
    "class BinaryTreeNode:\n",
    "    def __init__(self, val=0, left=None, right=None):\n",
    "        self.val = val\n",
    "        self.left = left\n",
    "        self.right = right\n",
    "\n",
    "    def to_list(self):\n",
    "        to_visit = [self]\n",
    "        visited = []\n",
    "        while len(to_visit) > 0:\n",
    "            curr = to_visit.pop(0)\n",
    "            if curr:\n",
    "                to_visit.append(curr.left)\n",
    "                to_visit.append(curr.right)\n",
    "                visited.append(curr.val)\n",
    "            else:\n",
    "                visited.append(curr)\n",
    "\n",
    "        while visited and not visited[-1]:\n",
    "            visited.pop()\n",
    "\n",
    "        return visited\n",
    "\n",
    "    def __str__(self):\n",
    "        return str(self.val)\n",
    "\n",
    "    @staticmethod\n",
    "    def from_array(nums: list[int|None]):\n",
    "        '''Create a Tree from a list of nums. Returns the root node.'''\n",
    "        if len(nums) == 0:\n",
    "            return None\n",
    "        elif len(nums) == 1:\n",
    "            return BinaryTreeNode(nums[0])\n",
    "        else:\n",
    "            forest = [BinaryTreeNode(nums[0])]\n",
    "            parent_idx = -1\n",
    "            for i in range(1, len(nums)):\n",
    "\n",
    "                curr = None\n",
    "                if nums[i] is not None:\n",
    "                    curr = BinaryTreeNode(nums[i])\n",
    "                    forest.append(curr)\n",
    "\n",
    "                if i % 2 == 1:\n",
    "                    parent_idx += 1\n",
    "                    forest[parent_idx].left = curr\n",
    "                else:\n",
    "                    forest[parent_idx].right = curr\n",
    "\n",
    "        return forest[0]"
   ]
  },
  {
   "cell_type": "markdown",
   "id": "de5b1765",
   "metadata": {
    "papermill": {
     "duration": 0.001915,
     "end_time": "2024-06-25T18:57:24.778084",
     "exception": false,
     "start_time": "2024-06-25T18:57:24.776169",
     "status": "completed"
    },
    "tags": []
   },
   "source": [
    "#### Helper for Singly Linked lists"
   ]
  },
  {
   "cell_type": "code",
   "execution_count": 3,
   "id": "e736c8a5",
   "metadata": {
    "execution": {
     "iopub.execute_input": "2024-06-25T18:57:24.782652Z",
     "iopub.status.busy": "2024-06-25T18:57:24.782219Z",
     "iopub.status.idle": "2024-06-25T18:57:24.786922Z",
     "shell.execute_reply": "2024-06-25T18:57:24.786396Z"
    },
    "lines_to_next_cell": 1,
    "papermill": {
     "duration": 0.00819,
     "end_time": "2024-06-25T18:57:24.788014",
     "exception": false,
     "start_time": "2024-06-25T18:57:24.779824",
     "status": "completed"
    },
    "tags": []
   },
   "outputs": [],
   "source": [
    "class ListNode:\n",
    "    def __init__(self, val=0, next=None):\n",
    "        self.val = val\n",
    "        self.next = next\n",
    "\n",
    "    def __str__(self):\n",
    "        return str(self.val)\n",
    "\n",
    "    @staticmethod\n",
    "    def to_singly_linked_list(nums: list[int]):\n",
    "        root = prev = None\n",
    "        for n in nums:\n",
    "            curr = ListNode(n)\n",
    "            # Init once\n",
    "            if not root:\n",
    "                root = curr\n",
    "            if prev:\n",
    "                prev.next = curr\n",
    "            prev = curr\n",
    "\n",
    "        return root\n",
    "\n",
    "    def to_list(self) -> list[int]:\n",
    "        result = []\n",
    "        curr = self\n",
    "        while curr:\n",
    "            result.append(curr.val)\n",
    "            curr = curr.next\n",
    "        return result"
   ]
  },
  {
   "cell_type": "markdown",
   "id": "cd635853",
   "metadata": {
    "papermill": {
     "duration": 0.00174,
     "end_time": "2024-06-25T18:57:24.791542",
     "exception": false,
     "start_time": "2024-06-25T18:57:24.789802",
     "status": "completed"
    },
    "tags": []
   },
   "source": [
    "Codeforces practice"
   ]
  },
  {
   "cell_type": "code",
   "execution_count": 4,
   "id": "df35356a",
   "metadata": {
    "execution": {
     "iopub.execute_input": "2024-06-25T18:57:24.796006Z",
     "iopub.status.busy": "2024-06-25T18:57:24.795793Z",
     "iopub.status.idle": "2024-06-25T18:57:24.800309Z",
     "shell.execute_reply": "2024-06-25T18:57:24.799767Z"
    },
    "lines_to_next_cell": 1,
    "papermill": {
     "duration": 0.008023,
     "end_time": "2024-06-25T18:57:24.801348",
     "exception": false,
     "start_time": "2024-06-25T18:57:24.793325",
     "status": "completed"
    },
    "tags": []
   },
   "outputs": [],
   "source": [
    "# https://codeforces.com/problemset/problem/1984/B\n",
    "def large_addition(N: int) -> bool:\n",
    "    if N < 10:\n",
    "        return False\n",
    "    else:\n",
    "        N_str: str = str(N)\n",
    "        length = len(N_str)\n",
    "        for i in range(length):\n",
    "            if i == 0 and N_str[i] != '1':\n",
    "                return False\n",
    "            elif i == length - 1 and N_str[i] == '9':\n",
    "                return False\n",
    "            elif i not in (0, length - 1) and N_str[i] == '0':\n",
    "                return False\n",
    "\n",
    "        return True\n",
    "\n",
    "# Testing the solution\n",
    "assert large_addition(1393938) == True\n",
    "assert large_addition(200) == False\n",
    "assert large_addition(10) == True"
   ]
  },
  {
   "cell_type": "markdown",
   "id": "80b62de1",
   "metadata": {
    "papermill": {
     "duration": 0.001712,
     "end_time": "2024-06-25T18:57:24.804822",
     "exception": false,
     "start_time": "2024-06-25T18:57:24.803110",
     "status": "completed"
    },
    "tags": []
   },
   "source": [
    "LC Virtual: 25th June 2024\n",
    "https://leetcode.com/contest/smarking-algorithm-contest-3/"
   ]
  },
  {
   "cell_type": "code",
   "execution_count": 5,
   "id": "ec2db856",
   "metadata": {
    "execution": {
     "iopub.execute_input": "2024-06-25T18:57:24.809034Z",
     "iopub.status.busy": "2024-06-25T18:57:24.808818Z",
     "iopub.status.idle": "2024-06-25T18:57:24.812584Z",
     "shell.execute_reply": "2024-06-25T18:57:24.812138Z"
    },
    "lines_to_next_cell": 1,
    "papermill": {
     "duration": 0.007049,
     "end_time": "2024-06-25T18:57:24.813629",
     "exception": false,
     "start_time": "2024-06-25T18:57:24.806580",
     "status": "completed"
    },
    "tags": []
   },
   "outputs": [],
   "source": [
    "# Q1\n",
    "# https://www.youtube.com/watch?v=x8T11yRLIyY\n",
    "def minMoves(nums: list[int]) -> int:\n",
    "    \"\"\"\n",
    "    Intution: Instead of increasing all n - 1 elements by 1 each time, try to decrement\n",
    "    the max element to the smallest element. Relative distances between numbers are the same.\n",
    "    \"\"\"\n",
    "    nums.sort()\n",
    "    result = 0\n",
    "    for i in range(len(nums) - 1, -1, -1):\n",
    "        result += nums[i] - nums[0]\n",
    "    return result\n",
    "\n",
    "# Testing the solution\n",
    "assert minMoves([1,2,3,4]) == 6\n",
    "assert minMoves([1,2,3]) == 3"
   ]
  },
  {
   "cell_type": "code",
   "execution_count": 6,
   "id": "46f751bf",
   "metadata": {
    "execution": {
     "iopub.execute_input": "2024-06-25T18:57:24.818814Z",
     "iopub.status.busy": "2024-06-25T18:57:24.818646Z",
     "iopub.status.idle": "2024-06-25T18:57:24.823752Z",
     "shell.execute_reply": "2024-06-25T18:57:24.823322Z"
    },
    "lines_to_next_cell": 1,
    "papermill": {
     "duration": 0.009363,
     "end_time": "2024-06-25T18:57:24.824776",
     "exception": false,
     "start_time": "2024-06-25T18:57:24.815413",
     "status": "completed"
    },
    "tags": []
   },
   "outputs": [],
   "source": [
    "# Q2\n",
    "def numberOfBoomerangs(points: list[list[int]]) -> int:\n",
    "    def distance(pt1: list[int], pt2: list[int]) -> float:\n",
    "        return math.sqrt(((pt1[0] - pt2[0]) ** 2) + ((pt1[1] - pt2[1]) ** 2))\n",
    "\n",
    "    boommerangs: int = 0\n",
    "    N = len(points)\n",
    "    for i in range(N):\n",
    "        curr = points[i]\n",
    "        distances: dict[float, int] = dict()\n",
    "        for j in range(N):\n",
    "            if j != i:\n",
    "                dist = distance(points[i], points[j])\n",
    "                distances[dist] = distances.get(dist, 0) + 1\n",
    "\n",
    "        for count in distances.values():\n",
    "            boommerangs += math.perm(count, 2)\n",
    "\n",
    "    return boommerangs\n",
    "\n",
    "# Testing the solution\n",
    "assert numberOfBoomerangs([[0,0],[1,0],[2,0]]) == 2\n",
    "assert numberOfBoomerangs([[1,1],[2,2],[3,3]]) == 2\n",
    "assert numberOfBoomerangs([[1,1]]) == 0"
   ]
  },
  {
   "cell_type": "code",
   "execution_count": 7,
   "id": "06c17597",
   "metadata": {
    "execution": {
     "iopub.execute_input": "2024-06-25T18:57:24.829121Z",
     "iopub.status.busy": "2024-06-25T18:57:24.828915Z",
     "iopub.status.idle": "2024-06-25T18:57:24.834003Z",
     "shell.execute_reply": "2024-06-25T18:57:24.833453Z"
    },
    "lines_to_next_cell": 1,
    "papermill": {
     "duration": 0.008391,
     "end_time": "2024-06-25T18:57:24.834988",
     "exception": false,
     "start_time": "2024-06-25T18:57:24.826597",
     "status": "completed"
    },
    "tags": []
   },
   "outputs": [],
   "source": [
    "# Q3\n",
    "def findMinArrowShots(points: list[list[int]]) -> int:\n",
    "    # Sort by end and merge the start, end\n",
    "    points.sort(key=lambda x: (x[1], x[0]))\n",
    "\n",
    "    # Merge the intervals\n",
    "    merged_intervals: list[tuple[int, int]] = []\n",
    "    for start, end in points:\n",
    "        if merged_intervals and merged_intervals[-1][1] >= start:\n",
    "            merged_intervals[-1] = max(merged_intervals[-1][0], start), min(merged_intervals[-1][1], end)\n",
    "        else:\n",
    "            merged_intervals.append((start, end))\n",
    "\n",
    "    return len(merged_intervals)\n",
    "\n",
    "# Testing the solution\n",
    "assert findMinArrowShots([[10,16],[2,8],[1,6],[7,12]]) == 2\n",
    "assert findMinArrowShots([[1,2],[3,4],[5,6],[7,8]]) == 4\n",
    "assert findMinArrowShots([[1,2],[2,3],[3,4],[4,5]]) == 2"
   ]
  },
  {
   "cell_type": "code",
   "execution_count": 8,
   "id": "602ae596",
   "metadata": {
    "execution": {
     "iopub.execute_input": "2024-06-25T18:57:24.839441Z",
     "iopub.status.busy": "2024-06-25T18:57:24.839124Z",
     "iopub.status.idle": "2024-06-25T18:57:24.843571Z",
     "shell.execute_reply": "2024-06-25T18:57:24.843143Z"
    },
    "lines_to_next_cell": 1,
    "papermill": {
     "duration": 0.007774,
     "end_time": "2024-06-25T18:57:24.844564",
     "exception": false,
     "start_time": "2024-06-25T18:57:24.836790",
     "status": "completed"
    },
    "tags": []
   },
   "outputs": [],
   "source": [
    "# Q4\n",
    "def numberOfArithmeticSlicesBrute(nums: list[int]) -> int:\n",
    "    def is_valid(sub: list[int]) -> bool:\n",
    "        if len(sub) < 3:\n",
    "            return False\n",
    "        else:\n",
    "            diff = sub[1] - sub[0]\n",
    "            for i in range(len(sub) - 1):\n",
    "                if sub[i + 1] - sub[i] != diff:\n",
    "                    return False\n",
    "            return True\n",
    "\n",
    "    count = 0\n",
    "    def backtrack(i: int, subseq: list[int]):\n",
    "        if i == N:\n",
    "            count += is_valid(subseq)\n",
    "        else:\n",
    "            subseq.append(nums[i])\n",
    "            backtrack(i + 1, subseq)\n",
    "            subseq.pop()\n",
    "            backtrack(i + 1, subseq)\n",
    "\n",
    "    N = len(nums)\n",
    "    backtrack(0, [])\n",
    "    return count"
   ]
  },
  {
   "cell_type": "code",
   "execution_count": 9,
   "id": "f1e64142",
   "metadata": {
    "execution": {
     "iopub.execute_input": "2024-06-25T18:57:24.849175Z",
     "iopub.status.busy": "2024-06-25T18:57:24.848790Z",
     "iopub.status.idle": "2024-06-25T18:57:24.853226Z",
     "shell.execute_reply": "2024-06-25T18:57:24.852778Z"
    },
    "papermill": {
     "duration": 0.007835,
     "end_time": "2024-06-25T18:57:24.854244",
     "exception": false,
     "start_time": "2024-06-25T18:57:24.846409",
     "status": "completed"
    },
    "tags": []
   },
   "outputs": [],
   "source": [
    "# Upsolving\n",
    "# https://www.youtube.com/watch?v=YIMwwT9JdIE\n",
    "def numberOfArithmeticSlices(nums: list[int]) -> int:\n",
    "    \"\"\"\n",
    "    Ending at index 'j' what is maximum number of arthimetic subsequences that I can form >= 2\n",
    "    \"\"\"\n",
    "    N = len(nums)\n",
    "    dp: list[collections.defaultdict[int, int]] = [collections.defaultdict(int) for _ in range(N)]\n",
    "    sub_count = dp_sum = 0\n",
    "    for j in range(N):\n",
    "        for i in range(j):\n",
    "            delta = nums[i] - nums[j]\n",
    "            dp[j][delta] += dp[i][delta] + 1\n",
    "            sub_count, dp_sum = sub_count + 1, dp_sum + dp[i][delta] + 1\n",
    "\n",
    "    return dp_sum - sub_count\n",
    "\n",
    "# Testing the solution\n",
    "assert numberOfArithmeticSlices([2,4,6,8,10]) == 7\n",
    "assert numberOfArithmeticSlices([7,7,7,7,7]) == 16"
   ]
  }
 ],
 "metadata": {
  "kernelspec": {
   "display_name": "Python 3 (ipykernel)",
   "language": "python",
   "name": "python3"
  },
  "language_info": {
   "codemirror_mode": {
    "name": "ipython",
    "version": 3
   },
   "file_extension": ".py",
   "mimetype": "text/x-python",
   "name": "python",
   "nbconvert_exporter": "python",
   "pygments_lexer": "ipython3",
   "version": "3.11.9"
  },
  "papermill": {
   "default_parameters": {},
   "duration": 1.785638,
   "end_time": "2024-06-25T18:57:25.072124",
   "environment_variables": {},
   "exception": null,
   "input_path": "practice/005.ipynb",
   "output_path": "practice/005.ipynb",
   "parameters": {},
   "start_time": "2024-06-25T18:57:23.286486",
   "version": "2.6.0"
  }
 },
 "nbformat": 4,
 "nbformat_minor": 5
}