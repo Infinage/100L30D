{
 "cells": [
  {
   "cell_type": "code",
   "execution_count": 1,
   "id": "fa51d761",
   "metadata": {
    "execution": {
     "iopub.execute_input": "2024-07-04T15:27:52.564921Z",
     "iopub.status.busy": "2024-07-04T15:27:52.564428Z",
     "iopub.status.idle": "2024-07-04T15:27:52.902745Z",
     "shell.execute_reply": "2024-07-04T15:27:52.902268Z"
    },
    "papermill": {
     "duration": 0.349763,
     "end_time": "2024-07-04T15:27:52.904119",
     "exception": false,
     "start_time": "2024-07-04T15:27:52.554356",
     "status": "completed"
    },
    "tags": []
   },
   "outputs": [],
   "source": [
    "from typing import List, Optional, Generator\n",
    "import pandas as pd\n",
    "import numpy as np\n",
    "import sqlite3\n",
    "import re\n",
    "import io\n",
    "import math\n",
    "import collections\n",
    "import itertools\n",
    "import functools\n",
    "import random\n",
    "import string\n",
    "import tqdm\n",
    "import bisect\n",
    "import heapq\n",
    "\n",
    "conn = sqlite3.connect(\":memory:\")\n",
    "\n",
    "def regexp(expr, item):\n",
    "    reg = re.compile(expr)\n",
    "    return reg.search(item) is not None\n",
    "\n",
    "def read_lc_df(s: str, dtypes: dict[str, str]=dict()) -> pd.DataFrame:\n",
    "    temp = pd.read_csv(io.StringIO(s), sep=\"|\", skiprows=2)\n",
    "    temp = temp.iloc[1:-1, 1:-1]\n",
    "    temp.columns = temp.columns.map(str.strip)\n",
    "    temp = temp.map(lambda x: x if type(x) != str else None if x.strip() == 'null' else x.strip())\n",
    "    temp = temp.astype(dtypes)\n",
    "    return temp\n",
    "\n",
    "conn.create_function(\"REGEXP\", 2, regexp)"
   ]
  },
  {
   "cell_type": "markdown",
   "id": "db473660",
   "metadata": {
    "papermill": {
     "duration": 0.007625,
     "end_time": "2024-07-04T15:27:52.919654",
     "exception": false,
     "start_time": "2024-07-04T15:27:52.912029",
     "status": "completed"
    },
    "tags": []
   },
   "source": [
    "#### Helper for Binary tree problems"
   ]
  },
  {
   "cell_type": "code",
   "execution_count": 2,
   "id": "6e8896c0",
   "metadata": {
    "execution": {
     "iopub.execute_input": "2024-07-04T15:27:52.935788Z",
     "iopub.status.busy": "2024-07-04T15:27:52.935296Z",
     "iopub.status.idle": "2024-07-04T15:27:52.942604Z",
     "shell.execute_reply": "2024-07-04T15:27:52.942156Z"
    },
    "lines_to_next_cell": 1,
    "papermill": {
     "duration": 0.016753,
     "end_time": "2024-07-04T15:27:52.943759",
     "exception": false,
     "start_time": "2024-07-04T15:27:52.927006",
     "status": "completed"
    },
    "tags": []
   },
   "outputs": [],
   "source": [
    "class BinaryTreeNode:\n",
    "    def __init__(self, val=0, left=None, right=None):\n",
    "        self.val = val\n",
    "        self.left = left\n",
    "        self.right = right\n",
    "\n",
    "    def to_list(self):\n",
    "        to_visit = [self]\n",
    "        visited = []\n",
    "        while len(to_visit) > 0:\n",
    "            curr = to_visit.pop(0)\n",
    "            if curr:\n",
    "                to_visit.append(curr.left)\n",
    "                to_visit.append(curr.right)\n",
    "                visited.append(curr.val)\n",
    "            else:\n",
    "                visited.append(curr)\n",
    "\n",
    "        while visited and not visited[-1]:\n",
    "            visited.pop()\n",
    "\n",
    "        return visited\n",
    "\n",
    "    def __str__(self):\n",
    "        return str(self.val)\n",
    "\n",
    "    @staticmethod\n",
    "    def from_array(nums: list[int|None]):\n",
    "        '''Create a Tree from a list of nums. Returns the root node.'''\n",
    "        if len(nums) == 0:\n",
    "            return None\n",
    "        elif len(nums) == 1:\n",
    "            return BinaryTreeNode(nums[0])\n",
    "        else:\n",
    "            forest = [BinaryTreeNode(nums[0])]\n",
    "            parent_idx = -1\n",
    "            for i in range(1, len(nums)):\n",
    "\n",
    "                curr = None\n",
    "                if nums[i] is not None:\n",
    "                    curr = BinaryTreeNode(nums[i])\n",
    "                    forest.append(curr)\n",
    "\n",
    "                if i % 2 == 1:\n",
    "                    parent_idx += 1\n",
    "                    forest[parent_idx].left = curr\n",
    "                else:\n",
    "                    forest[parent_idx].right = curr\n",
    "\n",
    "        return forest[0]"
   ]
  },
  {
   "cell_type": "markdown",
   "id": "de5b1765",
   "metadata": {
    "papermill": {
     "duration": 0.007386,
     "end_time": "2024-07-04T15:27:52.958642",
     "exception": false,
     "start_time": "2024-07-04T15:27:52.951256",
     "status": "completed"
    },
    "tags": []
   },
   "source": [
    "#### Helper for Singly Linked lists"
   ]
  },
  {
   "cell_type": "code",
   "execution_count": 3,
   "id": "e736c8a5",
   "metadata": {
    "execution": {
     "iopub.execute_input": "2024-07-04T15:27:52.974383Z",
     "iopub.status.busy": "2024-07-04T15:27:52.974147Z",
     "iopub.status.idle": "2024-07-04T15:27:52.978826Z",
     "shell.execute_reply": "2024-07-04T15:27:52.978374Z"
    },
    "lines_to_next_cell": 1,
    "papermill": {
     "duration": 0.013903,
     "end_time": "2024-07-04T15:27:52.979890",
     "exception": false,
     "start_time": "2024-07-04T15:27:52.965987",
     "status": "completed"
    },
    "tags": []
   },
   "outputs": [],
   "source": [
    "class ListNode:\n",
    "    def __init__(self, val=0, next=None):\n",
    "        self.val = val\n",
    "        self.next = next\n",
    "\n",
    "    def __str__(self):\n",
    "        return str(self.val)\n",
    "\n",
    "    @staticmethod\n",
    "    def to_singly_linked_list(nums: list[int]):\n",
    "        root = prev = None\n",
    "        for n in nums:\n",
    "            curr = ListNode(n)\n",
    "            # Init once\n",
    "            if not root:\n",
    "                root = curr\n",
    "            if prev:\n",
    "                prev.next = curr\n",
    "            prev = curr\n",
    "\n",
    "        return root\n",
    "\n",
    "    def to_list(self) -> list[int]:\n",
    "        result = []\n",
    "        curr = self\n",
    "        while curr:\n",
    "            result.append(curr.val)\n",
    "            curr = curr.next\n",
    "        return result"
   ]
  },
  {
   "cell_type": "markdown",
   "id": "cd635853",
   "metadata": {
    "papermill": {
     "duration": 0.00734,
     "end_time": "2024-07-04T15:27:52.994621",
     "exception": false,
     "start_time": "2024-07-04T15:27:52.987281",
     "status": "completed"
    },
    "tags": []
   },
   "source": [
    "Codeforces practice"
   ]
  },
  {
   "cell_type": "code",
   "execution_count": 4,
   "id": "df35356a",
   "metadata": {
    "execution": {
     "iopub.execute_input": "2024-07-04T15:27:53.010556Z",
     "iopub.status.busy": "2024-07-04T15:27:53.010040Z",
     "iopub.status.idle": "2024-07-04T15:27:53.014741Z",
     "shell.execute_reply": "2024-07-04T15:27:53.014304Z"
    },
    "lines_to_next_cell": 1,
    "papermill": {
     "duration": 0.013899,
     "end_time": "2024-07-04T15:27:53.015821",
     "exception": false,
     "start_time": "2024-07-04T15:27:53.001922",
     "status": "completed"
    },
    "tags": []
   },
   "outputs": [],
   "source": [
    "# https://codeforces.com/problemset/problem/1984/B\n",
    "def large_addition(N: int) -> bool:\n",
    "    if N < 10:\n",
    "        return False\n",
    "    else:\n",
    "        N_str: str = str(N)\n",
    "        length = len(N_str)\n",
    "        for i in range(length):\n",
    "            if i == 0 and N_str[i] != '1':\n",
    "                return False\n",
    "            elif i == length - 1 and N_str[i] == '9':\n",
    "                return False\n",
    "            elif i not in (0, length - 1) and N_str[i] == '0':\n",
    "                return False\n",
    "\n",
    "        return True\n",
    "\n",
    "# Testing the solution\n",
    "assert large_addition(1393938) == True\n",
    "assert large_addition(200) == False\n",
    "assert large_addition(10) == True"
   ]
  },
  {
   "cell_type": "markdown",
   "id": "80b62de1",
   "metadata": {
    "papermill": {
     "duration": 0.007479,
     "end_time": "2024-07-04T15:27:53.030865",
     "exception": false,
     "start_time": "2024-07-04T15:27:53.023386",
     "status": "completed"
    },
    "tags": []
   },
   "source": [
    "LC Virtual: 25th June 2024\n",
    "https://leetcode.com/contest/smarking-algorithm-contest-3/"
   ]
  },
  {
   "cell_type": "code",
   "execution_count": 5,
   "id": "ec2db856",
   "metadata": {
    "execution": {
     "iopub.execute_input": "2024-07-04T15:27:53.046559Z",
     "iopub.status.busy": "2024-07-04T15:27:53.046322Z",
     "iopub.status.idle": "2024-07-04T15:27:53.050464Z",
     "shell.execute_reply": "2024-07-04T15:27:53.049911Z"
    },
    "lines_to_next_cell": 1,
    "papermill": {
     "duration": 0.013256,
     "end_time": "2024-07-04T15:27:53.051495",
     "exception": false,
     "start_time": "2024-07-04T15:27:53.038239",
     "status": "completed"
    },
    "tags": []
   },
   "outputs": [],
   "source": [
    "# Q1\n",
    "# https://www.youtube.com/watch?v=x8T11yRLIyY\n",
    "def minMoves(nums: list[int]) -> int:\n",
    "    \"\"\"\n",
    "    Intution: Instead of increasing all n - 1 elements by 1 each time, try to decrement\n",
    "    the max element to the smallest element. Relative distances between numbers are the same.\n",
    "    \"\"\"\n",
    "    nums.sort()\n",
    "    result = 0\n",
    "    for i in range(len(nums) - 1, -1, -1):\n",
    "        result += nums[i] - nums[0]\n",
    "    return result\n",
    "\n",
    "# Testing the solution\n",
    "assert minMoves([1,2,3,4]) == 6\n",
    "assert minMoves([1,2,3]) == 3"
   ]
  },
  {
   "cell_type": "code",
   "execution_count": 6,
   "id": "46f751bf",
   "metadata": {
    "execution": {
     "iopub.execute_input": "2024-07-04T15:27:53.067379Z",
     "iopub.status.busy": "2024-07-04T15:27:53.066961Z",
     "iopub.status.idle": "2024-07-04T15:27:53.072619Z",
     "shell.execute_reply": "2024-07-04T15:27:53.072088Z"
    },
    "lines_to_next_cell": 1,
    "papermill": {
     "duration": 0.014822,
     "end_time": "2024-07-04T15:27:53.073719",
     "exception": false,
     "start_time": "2024-07-04T15:27:53.058897",
     "status": "completed"
    },
    "tags": []
   },
   "outputs": [],
   "source": [
    "# Q2\n",
    "def numberOfBoomerangs(points: list[list[int]]) -> int:\n",
    "    def distance(pt1: list[int], pt2: list[int]) -> float:\n",
    "        return math.sqrt(((pt1[0] - pt2[0]) ** 2) + ((pt1[1] - pt2[1]) ** 2))\n",
    "\n",
    "    boommerangs: int = 0\n",
    "    N = len(points)\n",
    "    for i in range(N):\n",
    "        curr = points[i]\n",
    "        distances: dict[float, int] = dict()\n",
    "        for j in range(N):\n",
    "            if j != i:\n",
    "                dist = distance(points[i], points[j])\n",
    "                distances[dist] = distances.get(dist, 0) + 1\n",
    "\n",
    "        for count in distances.values():\n",
    "            boommerangs += math.perm(count, 2)\n",
    "\n",
    "    return boommerangs\n",
    "\n",
    "# Testing the solution\n",
    "assert numberOfBoomerangs([[0,0],[1,0],[2,0]]) == 2\n",
    "assert numberOfBoomerangs([[1,1],[2,2],[3,3]]) == 2\n",
    "assert numberOfBoomerangs([[1,1]]) == 0"
   ]
  },
  {
   "cell_type": "code",
   "execution_count": 7,
   "id": "06c17597",
   "metadata": {
    "execution": {
     "iopub.execute_input": "2024-07-04T15:27:53.089461Z",
     "iopub.status.busy": "2024-07-04T15:27:53.088955Z",
     "iopub.status.idle": "2024-07-04T15:27:53.094313Z",
     "shell.execute_reply": "2024-07-04T15:27:53.093766Z"
    },
    "lines_to_next_cell": 1,
    "papermill": {
     "duration": 0.014371,
     "end_time": "2024-07-04T15:27:53.095398",
     "exception": false,
     "start_time": "2024-07-04T15:27:53.081027",
     "status": "completed"
    },
    "tags": []
   },
   "outputs": [],
   "source": [
    "# Q3\n",
    "def findMinArrowShots(points: list[list[int]]) -> int:\n",
    "    # Sort by end and merge the start, end\n",
    "    points.sort(key=lambda x: (x[1], x[0]))\n",
    "\n",
    "    # Merge the intervals\n",
    "    merged_intervals: list[tuple[int, int]] = []\n",
    "    for start, end in points:\n",
    "        if merged_intervals and merged_intervals[-1][1] >= start:\n",
    "            merged_intervals[-1] = max(merged_intervals[-1][0], start), min(merged_intervals[-1][1], end)\n",
    "        else:\n",
    "            merged_intervals.append((start, end))\n",
    "\n",
    "    return len(merged_intervals)\n",
    "\n",
    "# Testing the solution\n",
    "assert findMinArrowShots([[10,16],[2,8],[1,6],[7,12]]) == 2\n",
    "assert findMinArrowShots([[1,2],[3,4],[5,6],[7,8]]) == 4\n",
    "assert findMinArrowShots([[1,2],[2,3],[3,4],[4,5]]) == 2"
   ]
  },
  {
   "cell_type": "code",
   "execution_count": 8,
   "id": "602ae596",
   "metadata": {
    "execution": {
     "iopub.execute_input": "2024-07-04T15:27:53.111142Z",
     "iopub.status.busy": "2024-07-04T15:27:53.110791Z",
     "iopub.status.idle": "2024-07-04T15:27:53.115475Z",
     "shell.execute_reply": "2024-07-04T15:27:53.114948Z"
    },
    "lines_to_next_cell": 1,
    "papermill": {
     "duration": 0.013746,
     "end_time": "2024-07-04T15:27:53.116538",
     "exception": false,
     "start_time": "2024-07-04T15:27:53.102792",
     "status": "completed"
    },
    "tags": []
   },
   "outputs": [],
   "source": [
    "# Q4\n",
    "def numberOfArithmeticSlicesBrute(nums: list[int]) -> int:\n",
    "    def is_valid(sub: list[int]) -> bool:\n",
    "        if len(sub) < 3:\n",
    "            return False\n",
    "        else:\n",
    "            diff = sub[1] - sub[0]\n",
    "            for i in range(len(sub) - 1):\n",
    "                if sub[i + 1] - sub[i] != diff:\n",
    "                    return False\n",
    "            return True\n",
    "\n",
    "    count = 0\n",
    "    def backtrack(i: int, subseq: list[int]):\n",
    "        if i == N:\n",
    "            count += is_valid(subseq)\n",
    "        else:\n",
    "            subseq.append(nums[i])\n",
    "            backtrack(i + 1, subseq)\n",
    "            subseq.pop()\n",
    "            backtrack(i + 1, subseq)\n",
    "\n",
    "    N = len(nums)\n",
    "    backtrack(0, [])\n",
    "    return count"
   ]
  },
  {
   "cell_type": "code",
   "execution_count": 9,
   "id": "f1e64142",
   "metadata": {
    "execution": {
     "iopub.execute_input": "2024-07-04T15:27:53.132763Z",
     "iopub.status.busy": "2024-07-04T15:27:53.132294Z",
     "iopub.status.idle": "2024-07-04T15:27:53.136938Z",
     "shell.execute_reply": "2024-07-04T15:27:53.136493Z"
    },
    "lines_to_next_cell": 1,
    "papermill": {
     "duration": 0.013923,
     "end_time": "2024-07-04T15:27:53.138003",
     "exception": false,
     "start_time": "2024-07-04T15:27:53.124080",
     "status": "completed"
    },
    "tags": []
   },
   "outputs": [],
   "source": [
    "# Upsolving\n",
    "# https://www.youtube.com/watch?v=YIMwwT9JdIE\n",
    "def numberOfArithmeticSlices(nums: list[int]) -> int:\n",
    "    \"\"\"\n",
    "    Ending at index 'j' what is maximum number of arthimetic subsequences that I can form >= 2\n",
    "    \"\"\"\n",
    "    N = len(nums)\n",
    "    dp: list[collections.defaultdict[int, int]] = [collections.defaultdict(int) for _ in range(N)]\n",
    "    sub_count = dp_sum = 0\n",
    "    for j in range(N):\n",
    "        for i in range(j):\n",
    "            delta = nums[i] - nums[j]\n",
    "            dp[j][delta] += dp[i][delta] + 1\n",
    "            sub_count, dp_sum = sub_count + 1, dp_sum + dp[i][delta] + 1\n",
    "\n",
    "    return dp_sum - sub_count\n",
    "\n",
    "# Testing the solution\n",
    "assert numberOfArithmeticSlices([2,4,6,8,10]) == 7\n",
    "assert numberOfArithmeticSlices([7,7,7,7,7]) == 16"
   ]
  },
  {
   "cell_type": "markdown",
   "id": "79053be1",
   "metadata": {
    "papermill": {
     "duration": 0.007406,
     "end_time": "2024-07-04T15:27:53.152896",
     "exception": false,
     "start_time": "2024-07-04T15:27:53.145490",
     "status": "completed"
    },
    "tags": []
   },
   "source": [
    "LC VC: June 26th 2024"
   ]
  },
  {
   "cell_type": "code",
   "execution_count": 10,
   "id": "2e438aa0",
   "metadata": {
    "execution": {
     "iopub.execute_input": "2024-07-04T15:27:53.168998Z",
     "iopub.status.busy": "2024-07-04T15:27:53.168508Z",
     "iopub.status.idle": "2024-07-04T15:27:53.173749Z",
     "shell.execute_reply": "2024-07-04T15:27:53.173210Z"
    },
    "lines_to_next_cell": 1,
    "papermill": {
     "duration": 0.014447,
     "end_time": "2024-07-04T15:27:53.174774",
     "exception": false,
     "start_time": "2024-07-04T15:27:53.160327",
     "status": "completed"
    },
    "tags": []
   },
   "outputs": [],
   "source": [
    "# Q4: Pattern 132\n",
    "# https://www.youtube.com/watch?v=q5ANAl8Z458\n",
    "# https://leetcode.com/problems/132-pattern/submissions/1301126531/\n",
    "def find132pattern(nums: list[int]) -> bool:\n",
    "    N = len(nums)\n",
    "\n",
    "    # Monotonic stack, storing min values till index - value, min pairs\n",
    "    stack: list[tuple[int, int]] = []\n",
    "    min_: int = nums[0]\n",
    "\n",
    "    for n in nums:\n",
    "        while stack and stack[-1][0] <= n:\n",
    "            stack.pop()\n",
    "\n",
    "        if stack and stack[-1][1] < n:\n",
    "            return True\n",
    "\n",
    "        stack.append((n, min_))\n",
    "        min_ = min(min_, n)\n",
    "\n",
    "    return False\n",
    "\n",
    "# Testing the solution\n",
    "assert find132pattern([1,2,3,4]) == False\n",
    "assert find132pattern([3,1,4,2]) == True\n",
    "assert find132pattern([-1,3,2,0]) == True\n",
    "assert find132pattern([3,1,2]) == False"
   ]
  },
  {
   "cell_type": "markdown",
   "id": "6afba366",
   "metadata": {
    "papermill": {
     "duration": 0.007379,
     "end_time": "2024-07-04T15:27:53.189637",
     "exception": false,
     "start_time": "2024-07-04T15:27:53.182258",
     "status": "completed"
    },
    "tags": []
   },
   "source": [
    "Balance a Binary Search tree"
   ]
  },
  {
   "cell_type": "code",
   "execution_count": 11,
   "id": "47bab318",
   "metadata": {
    "execution": {
     "iopub.execute_input": "2024-07-04T15:27:53.205736Z",
     "iopub.status.busy": "2024-07-04T15:27:53.205180Z",
     "iopub.status.idle": "2024-07-04T15:27:53.211319Z",
     "shell.execute_reply": "2024-07-04T15:27:53.210845Z"
    },
    "lines_to_next_cell": 1,
    "papermill": {
     "duration": 0.015351,
     "end_time": "2024-07-04T15:27:53.212325",
     "exception": false,
     "start_time": "2024-07-04T15:27:53.196974",
     "status": "completed"
    },
    "tags": []
   },
   "outputs": [
    {
     "name": "stdout",
     "output_type": "stream",
     "text": [
      "[3, 2, 4, 1]\n"
     ]
    }
   ],
   "source": [
    "# https://leetcode.com/problems/balance-a-binary-search-tree/submissions/1301150197\n",
    "def balanceBST(root: BinaryTreeNode) -> BinaryTreeNode|None:\n",
    "    def createBalancedBST(nodes_: list[int]) -> BinaryTreeNode|None:\n",
    "        N = len(nodes_)\n",
    "        if N == 0:\n",
    "            return None\n",
    "        else:\n",
    "            mid = N // 2\n",
    "            root_: BinaryTreeNode = BinaryTreeNode(nodes_[mid])\n",
    "            root_.left = createBalancedBST(nodes_[:mid])\n",
    "            root_.right = createBalancedBST(nodes_[mid + 1:])\n",
    "            return root_\n",
    "\n",
    "    # 1. Retrieve all elements in-order traversal (left, root, right), this returns an array in sorted order\n",
    "    curr: BinaryTreeNode = root\n",
    "    nodes: list[int] = []\n",
    "    stack: list[BinaryTreeNode] = []\n",
    "    while True:\n",
    "        while curr:\n",
    "            stack.append(curr)\n",
    "            curr = curr.left\n",
    "        if stack:\n",
    "            curr = stack.pop()\n",
    "            nodes.append(curr.val)\n",
    "            curr = curr.right\n",
    "        else:\n",
    "            break\n",
    "\n",
    "    # 2. Create a BST from the nodes: Take the middle element as the root, create left and right subtree recursively\n",
    "    return createBalancedBST(nodes)\n",
    "\n",
    "# Testing the solution\n",
    "print(balanceBST(BinaryTreeNode.from_array([1,None,2,None,3,None,4,None,None])).to_list())"
   ]
  },
  {
   "cell_type": "markdown",
   "id": "304faf22",
   "metadata": {
    "papermill": {
     "duration": 0.00744,
     "end_time": "2024-07-04T15:27:53.227347",
     "exception": false,
     "start_time": "2024-07-04T15:27:53.219907",
     "status": "completed"
    },
    "tags": []
   },
   "source": [
    "LC Practice"
   ]
  },
  {
   "cell_type": "code",
   "execution_count": 12,
   "id": "0ac43f3b",
   "metadata": {
    "execution": {
     "iopub.execute_input": "2024-07-04T15:27:53.243581Z",
     "iopub.status.busy": "2024-07-04T15:27:53.243150Z",
     "iopub.status.idle": "2024-07-04T15:27:53.247321Z",
     "shell.execute_reply": "2024-07-04T15:27:53.246801Z"
    },
    "lines_to_next_cell": 1,
    "papermill": {
     "duration": 0.013548,
     "end_time": "2024-07-04T15:27:53.248431",
     "exception": false,
     "start_time": "2024-07-04T15:27:53.234883",
     "status": "completed"
    },
    "tags": []
   },
   "outputs": [],
   "source": [
    "def subarraySum(nums: list[int], k: int) -> int:\n",
    "    prefix: collections.defaultdict = collections.defaultdict(int)\n",
    "    prefix[0], count, psum = 1, 0, 0\n",
    "    for n in nums:\n",
    "        psum += n\n",
    "        count += prefix[psum - k]\n",
    "        prefix[psum] += 1\n",
    "\n",
    "    return count\n",
    "\n",
    "# Testing the solution\n",
    "assert subarraySum([1,2,3], 3) == 2\n",
    "assert subarraySum([1,1,1], 2) == 2"
   ]
  },
  {
   "cell_type": "code",
   "execution_count": 13,
   "id": "b278e908",
   "metadata": {
    "execution": {
     "iopub.execute_input": "2024-07-04T15:27:53.264375Z",
     "iopub.status.busy": "2024-07-04T15:27:53.263966Z",
     "iopub.status.idle": "2024-07-04T15:27:53.270066Z",
     "shell.execute_reply": "2024-07-04T15:27:53.269614Z"
    },
    "lines_to_next_cell": 1,
    "papermill": {
     "duration": 0.015267,
     "end_time": "2024-07-04T15:27:53.271148",
     "exception": false,
     "start_time": "2024-07-04T15:27:53.255881",
     "status": "completed"
    },
    "tags": []
   },
   "outputs": [],
   "source": [
    "# https://leetcode.com/problems/continuous-subarray-sum/submissions/1301461461/\n",
    "def checkSubarraySum(nums: list[int], k: int) -> bool:\n",
    "    N = len(nums)\n",
    "    prefix: dict[int, int] = {0: -1}\n",
    "    psum = 0\n",
    "    for i in range(N):\n",
    "        psum = (psum + nums[i]) % k\n",
    "        if i - prefix.get(psum, i) >= 2:\n",
    "            return True\n",
    "        prefix[psum] = min(prefix.get(psum, i), i)\n",
    "\n",
    "    return False\n",
    "\n",
    "# Testing the solution\n",
    "assert checkSubarraySum([23,2,4,6,7], 6) == True\n",
    "assert checkSubarraySum([0], 1) == False\n",
    "assert checkSubarraySum([23,2,6,4,7,13], 13) == False\n",
    "assert checkSubarraySum([23,2,6,4,7,13,13], 13) == True\n",
    "assert checkSubarraySum([1,0], 2) == False\n",
    "assert checkSubarraySum([1,2,3,4], 6) == True"
   ]
  },
  {
   "cell_type": "markdown",
   "id": "b3ac55c5",
   "metadata": {
    "papermill": {
     "duration": 0.007373,
     "end_time": "2024-07-04T15:27:53.286079",
     "exception": false,
     "start_time": "2024-07-04T15:27:53.278706",
     "status": "completed"
    },
    "tags": []
   },
   "source": [
    "Check if array is sorted and rotated"
   ]
  },
  {
   "cell_type": "code",
   "execution_count": 14,
   "id": "05c610bc",
   "metadata": {
    "execution": {
     "iopub.execute_input": "2024-07-04T15:27:53.302210Z",
     "iopub.status.busy": "2024-07-04T15:27:53.301697Z",
     "iopub.status.idle": "2024-07-04T15:27:53.306585Z",
     "shell.execute_reply": "2024-07-04T15:27:53.306109Z"
    },
    "lines_to_next_cell": 1,
    "papermill": {
     "duration": 0.014169,
     "end_time": "2024-07-04T15:27:53.307650",
     "exception": false,
     "start_time": "2024-07-04T15:27:53.293481",
     "status": "completed"
    },
    "tags": []
   },
   "outputs": [],
   "source": [
    "def checkArraySortedAndRotated(nums: list[int]) -> bool:\n",
    "    N = len(nums)\n",
    "    count = 0\n",
    "    for i in range(N - 1):\n",
    "        count += nums[i + 1] < nums[i]\n",
    "    return count == 0 or (count == 1 and nums[0] > nums[-1])\n",
    "\n",
    "# Testing the solution\n",
    "assert checkArraySortedAndRotated([3,4,5,1,2]) == True\n",
    "assert checkArraySortedAndRotated([2,1,3,4]) == False\n",
    "assert checkArraySortedAndRotated([3,2,1]) == False"
   ]
  },
  {
   "cell_type": "markdown",
   "id": "2d033d8f",
   "metadata": {
    "papermill": {
     "duration": 0.007478,
     "end_time": "2024-07-04T15:27:53.322716",
     "exception": false,
     "start_time": "2024-07-04T15:27:53.315238",
     "status": "completed"
    },
    "tags": []
   },
   "source": [
    "All ancestors of a node in a DAG"
   ]
  },
  {
   "cell_type": "code",
   "execution_count": 15,
   "id": "50e7e595",
   "metadata": {
    "execution": {
     "iopub.execute_input": "2024-07-04T15:27:53.338826Z",
     "iopub.status.busy": "2024-07-04T15:27:53.338420Z",
     "iopub.status.idle": "2024-07-04T15:27:53.345107Z",
     "shell.execute_reply": "2024-07-04T15:27:53.344550Z"
    },
    "lines_to_next_cell": 1,
    "papermill": {
     "duration": 0.016168,
     "end_time": "2024-07-04T15:27:53.346278",
     "exception": false,
     "start_time": "2024-07-04T15:27:53.330110",
     "status": "completed"
    },
    "tags": []
   },
   "outputs": [],
   "source": [
    "# https://leetcode.com/problems/all-ancestors-of-a-node-in-a-directed-acyclic-graph/submissions/1304043339\n",
    "def getAncestors(N: int, edges: list[list[int]]) -> list[list[int]]:\n",
    "    @functools.cache\n",
    "    def DFS(n: int) -> set[int]:\n",
    "        ancestors: set[int] = set()\n",
    "        for next_ in adjl[n]:\n",
    "            ancestors.add(next_)\n",
    "            for next_ancestor in DFS(next_):\n",
    "                ancestors.add(next_ancestor)\n",
    "        return ancestors\n",
    "\n",
    "    adjl: collections.defaultdict[int, list[int]] = collections.defaultdict(list)\n",
    "    for n1, n2 in edges:\n",
    "        adjl[n2].append(n1)\n",
    "\n",
    "    result: list[list[int]] = [[] for _ in range(N)]\n",
    "    for i in range(N):\n",
    "        result[i] = sorted(DFS(i))\n",
    "\n",
    "    return result\n",
    "\n",
    "# Testing the solution\n",
    "assert getAncestors(8, [[0,3],[0,4],[1,3],[2,4],[2,7],[3,5],[3,6],[3,7],[4,6]]) == [[],[],[],[0,1],[0,2],[0,1,3],[0,1,2,3,4],[0,1,2,3]]\n",
    "assert getAncestors(5, [[0,1],[0,2],[0,3],[0,4],[1,2],[1,3],[1,4],[2,3],[2,4],[3,4]]) == [[],[0],[0,1],[0,1,2],[0,1,2,3]]"
   ]
  },
  {
   "cell_type": "markdown",
   "id": "0fb25f1d",
   "metadata": {
    "papermill": {
     "duration": 0.007446,
     "end_time": "2024-07-04T15:27:53.361290",
     "exception": false,
     "start_time": "2024-07-04T15:27:53.353844",
     "status": "completed"
    },
    "tags": []
   },
   "source": [
    "LC Contest: 30th June 2024"
   ]
  },
  {
   "cell_type": "code",
   "execution_count": 16,
   "id": "2cc84226",
   "metadata": {
    "execution": {
     "iopub.execute_input": "2024-07-04T15:27:53.377418Z",
     "iopub.status.busy": "2024-07-04T15:27:53.376910Z",
     "iopub.status.idle": "2024-07-04T15:27:53.382755Z",
     "shell.execute_reply": "2024-07-04T15:27:53.382171Z"
    },
    "lines_to_next_cell": 1,
    "papermill": {
     "duration": 0.015172,
     "end_time": "2024-07-04T15:27:53.383821",
     "exception": false,
     "start_time": "2024-07-04T15:27:53.368649",
     "status": "completed"
    },
    "tags": []
   },
   "outputs": [],
   "source": [
    "# Q1\n",
    "def maxHeightOfTriangle(red: int, blue: int) -> int:\n",
    "    @functools.cache\n",
    "    def backtrack(i: int) -> tuple[int, int]:\n",
    "        if i == 0:\n",
    "            return 0, 0\n",
    "        else:\n",
    "            prev = backtrack(i - 1)\n",
    "            if i % 2 == 0:\n",
    "                return prev[0], prev[1] + i\n",
    "            else:\n",
    "                return prev[0] + i, prev[1]\n",
    "\n",
    "    red, blue = sorted([red, blue])\n",
    "    low, high = 1, 20\n",
    "    while low <= high:\n",
    "        mid = (low + high) // 2\n",
    "        r, b = sorted(backtrack(mid))\n",
    "        if r <= red and b <= blue:\n",
    "            low = mid + 1\n",
    "        else:\n",
    "            high = mid - 1\n",
    "\n",
    "    return high\n",
    "\n",
    "# Testing the solution\n",
    "assert maxHeightOfTriangle(10, 1) == 2\n",
    "assert maxHeightOfTriangle(1, 1) == 1\n",
    "assert maxHeightOfTriangle(2, 1) == 2\n",
    "assert maxHeightOfTriangle(2, 4) == 3"
   ]
  },
  {
   "cell_type": "code",
   "execution_count": 17,
   "id": "3acecb65",
   "metadata": {
    "execution": {
     "iopub.execute_input": "2024-07-04T15:27:53.400246Z",
     "iopub.status.busy": "2024-07-04T15:27:53.399762Z",
     "iopub.status.idle": "2024-07-04T15:27:53.404453Z",
     "shell.execute_reply": "2024-07-04T15:27:53.403939Z"
    },
    "lines_to_next_cell": 1,
    "papermill": {
     "duration": 0.013905,
     "end_time": "2024-07-04T15:27:53.405443",
     "exception": false,
     "start_time": "2024-07-04T15:27:53.391538",
     "status": "completed"
    },
    "tags": []
   },
   "outputs": [],
   "source": [
    "# Q2\n",
    "def maximumLength(nums: list[int]) -> int:\n",
    "    \"\"\"\n",
    "    Either all consequetive element pairs should sum up to an even number or to an odd number\n",
    "\n",
    "    If all elements are to sum to an even number: either all should be even or all numbers should be odd => max(odd_count, even_count)\n",
    "    If all elements are to sum to an odd number: greedily check validity (consequetive elements should be odd-even or even-odd)\n",
    "    \"\"\"\n",
    "    odd_sum_length = odd_count = even_count = 0\n",
    "    prev = 0 if nums[0] % 2 else 1\n",
    "    for i in range(len(nums)):\n",
    "        if nums[i] % 2 == 0:\n",
    "            even_count += 1\n",
    "        else:\n",
    "            odd_count += 1\n",
    "\n",
    "        if nums[i] % 2 != prev:\n",
    "            odd_sum_length, prev = odd_sum_length + 1, nums[i] % 2\n",
    "\n",
    "    return max(odd_sum_length, odd_count, even_count)\n",
    "\n",
    "# Testing the solution\n",
    "assert maximumLength([1,2,3,4]) == 4\n",
    "assert maximumLength([1,2,1,1,2,1,2]) == 6\n",
    "assert maximumLength([1,3]) == 2"
   ]
  },
  {
   "cell_type": "markdown",
   "id": "7d9b395f",
   "metadata": {
    "papermill": {
     "duration": 0.007383,
     "end_time": "2024-07-04T15:27:53.420439",
     "exception": false,
     "start_time": "2024-07-04T15:27:53.413056",
     "status": "completed"
    },
    "tags": []
   },
   "source": [
    "search-query-auto-complete: Striver A2Z: First question"
   ]
  },
  {
   "cell_type": "code",
   "execution_count": 18,
   "id": "ac84136c",
   "metadata": {
    "execution": {
     "iopub.execute_input": "2024-07-04T15:27:53.436251Z",
     "iopub.status.busy": "2024-07-04T15:27:53.435897Z",
     "iopub.status.idle": "2024-07-04T15:27:53.443765Z",
     "shell.execute_reply": "2024-07-04T15:27:53.443249Z"
    },
    "lines_to_next_cell": 1,
    "papermill": {
     "duration": 0.016989,
     "end_time": "2024-07-04T15:27:53.444812",
     "exception": false,
     "start_time": "2024-07-04T15:27:53.427823",
     "status": "completed"
    },
    "tags": []
   },
   "outputs": [],
   "source": [
    "class AutoCompleteSystem:\n",
    "    def __init__(self, sentences: list[str], times: list[int]) -> None:\n",
    "        # Store a dictionary of sentences along with their frequencies\n",
    "        self.sentences: collections.defaultdict[str, int] = collections.defaultdict(lambda: 0)\n",
    "        self.acc: str = \"\"\n",
    "        for sentence, freq in zip(sentences, times):\n",
    "            self.sentences[sentence] = freq\n",
    "\n",
    "    def input(self, character: str) -> list[str]:\n",
    "        if character != '#':\n",
    "            self.acc += character\n",
    "            result: list[tuple[int, str]] = []\n",
    "            for sentence, freq in self.sentences.items():\n",
    "                if sentence.startswith(self.acc):\n",
    "                    result.append((-freq, sentence))\n",
    "            result.sort()\n",
    "            return list(map(lambda x: x[1], result[:3]))\n",
    "\n",
    "        else:\n",
    "            self.sentences[self.acc] += 1\n",
    "            self.acc = ''\n",
    "            return []\n",
    "\n",
    "# Testing the solution - 1\n",
    "temp = AutoCompleteSystem([\"i love you\", \"island\", \"ironman\", \"i love geeksforgeeks\"], [5,3,2,2])\n",
    "assert temp.input(\"i\") == [\"i love you\", \"island\",\"i love geeksforgeeks\"]\n",
    "assert temp.input(\" \") == [\"i love you\", \"i love geeksforgeeks\"]\n",
    "assert temp.input(\"a\") == []\n",
    "assert temp.input(\"#\") == []\n",
    "assert temp.input(\"i\") == ['i love you', 'island', 'i love geeksforgeeks']\n",
    "assert temp.input(\" \") == ['i love you', 'i love geeksforgeeks', 'i a']\n",
    "assert temp.input(\"a\") == ['i a']\n",
    "assert temp.input(\"m\") == []\n",
    "assert temp.input(\"#\") == []\n",
    "assert temp.input(\"i\") == ['i love you', 'island', 'i love geeksforgeeks']\n",
    "assert temp.input(\" \") == ['i love you', 'i love geeksforgeeks', 'i a']\n",
    "assert temp.input(\"a\") == ['i a', 'i am']\n",
    "assert temp.input(\"m\") == ['i am']\n",
    "assert temp.input(\" \") == []"
   ]
  },
  {
   "cell_type": "markdown",
   "id": "4629edb8",
   "metadata": {
    "papermill": {
     "duration": 0.00739,
     "end_time": "2024-07-04T15:27:53.459808",
     "exception": false,
     "start_time": "2024-07-04T15:27:53.452418",
     "status": "completed"
    },
    "tags": []
   },
   "source": [
    "Patterns practice"
   ]
  },
  {
   "cell_type": "code",
   "execution_count": 19,
   "id": "0a0790b9",
   "metadata": {
    "execution": {
     "iopub.execute_input": "2024-07-04T15:27:53.476078Z",
     "iopub.status.busy": "2024-07-04T15:27:53.475745Z",
     "iopub.status.idle": "2024-07-04T15:27:53.479716Z",
     "shell.execute_reply": "2024-07-04T15:27:53.479237Z"
    },
    "lines_to_next_cell": 1,
    "papermill": {
     "duration": 0.013409,
     "end_time": "2024-07-04T15:27:53.480746",
     "exception": false,
     "start_time": "2024-07-04T15:27:53.467337",
     "status": "completed"
    },
    "tags": []
   },
   "outputs": [
    {
     "name": "stdout",
     "output_type": "stream",
     "text": [
      "*****\n",
      "*****\n",
      "*****\n",
      "*****\n",
      "*****\n"
     ]
    }
   ],
   "source": [
    "def p1(N: int) -> None:\n",
    "    for i in range(N):\n",
    "        for j in range(N):\n",
    "            print('*', end='')\n",
    "        print()\n",
    "\n",
    "# Testing the solution\n",
    "p1(5)"
   ]
  },
  {
   "cell_type": "code",
   "execution_count": 20,
   "id": "3917a2b2",
   "metadata": {
    "execution": {
     "iopub.execute_input": "2024-07-04T15:27:53.514553Z",
     "iopub.status.busy": "2024-07-04T15:27:53.514040Z",
     "iopub.status.idle": "2024-07-04T15:27:53.518145Z",
     "shell.execute_reply": "2024-07-04T15:27:53.517683Z"
    },
    "lines_to_next_cell": 1,
    "papermill": {
     "duration": 0.01373,
     "end_time": "2024-07-04T15:27:53.519224",
     "exception": false,
     "start_time": "2024-07-04T15:27:53.505494",
     "status": "completed"
    },
    "tags": []
   },
   "outputs": [
    {
     "name": "stdout",
     "output_type": "stream",
     "text": [
      "*\n",
      "**\n",
      "***\n",
      "****\n",
      "*****\n"
     ]
    }
   ],
   "source": [
    "def p2(N: int) -> None:\n",
    "    for i in range(N):\n",
    "        for j in range(i + 1):\n",
    "            print(\"*\", end='')\n",
    "        print()\n",
    "\n",
    "# Testing the solution\n",
    "p2(5)"
   ]
  },
  {
   "cell_type": "code",
   "execution_count": 21,
   "id": "1a2807e5",
   "metadata": {
    "execution": {
     "iopub.execute_input": "2024-07-04T15:27:53.535449Z",
     "iopub.status.busy": "2024-07-04T15:27:53.535046Z",
     "iopub.status.idle": "2024-07-04T15:27:53.538803Z",
     "shell.execute_reply": "2024-07-04T15:27:53.538358Z"
    },
    "lines_to_next_cell": 1,
    "papermill": {
     "duration": 0.013039,
     "end_time": "2024-07-04T15:27:53.539874",
     "exception": false,
     "start_time": "2024-07-04T15:27:53.526835",
     "status": "completed"
    },
    "tags": []
   },
   "outputs": [
    {
     "name": "stdout",
     "output_type": "stream",
     "text": [
      "1 \n",
      "1 2 \n",
      "1 2 3 \n",
      "1 2 3 4 \n",
      "1 2 3 4 5 \n"
     ]
    }
   ],
   "source": [
    "def p3(N: int) -> None:\n",
    "    for i in range(N):\n",
    "        for j in range(i + 1):\n",
    "            print(j + 1, end=' ')\n",
    "        print()\n",
    "\n",
    "# Testing the solution\n",
    "p3(5)"
   ]
  },
  {
   "cell_type": "code",
   "execution_count": 22,
   "id": "a81ab688",
   "metadata": {
    "execution": {
     "iopub.execute_input": "2024-07-04T15:27:53.556318Z",
     "iopub.status.busy": "2024-07-04T15:27:53.555873Z",
     "iopub.status.idle": "2024-07-04T15:27:53.559584Z",
     "shell.execute_reply": "2024-07-04T15:27:53.559078Z"
    },
    "lines_to_next_cell": 1,
    "papermill": {
     "duration": 0.013049,
     "end_time": "2024-07-04T15:27:53.560652",
     "exception": false,
     "start_time": "2024-07-04T15:27:53.547603",
     "status": "completed"
    },
    "tags": []
   },
   "outputs": [
    {
     "name": "stdout",
     "output_type": "stream",
     "text": [
      "1 \n",
      "2 2 \n",
      "3 3 3 \n",
      "4 4 4 4 \n",
      "5 5 5 5 5 \n"
     ]
    }
   ],
   "source": [
    "def p4(N: int) -> None:\n",
    "    for i in range(N):\n",
    "        for j in range(i + 1):\n",
    "            print(i + 1, end=' ')\n",
    "        print()\n",
    "\n",
    "# Testing the solution\n",
    "p4(5)"
   ]
  },
  {
   "cell_type": "code",
   "execution_count": 23,
   "id": "a3ae50be",
   "metadata": {
    "execution": {
     "iopub.execute_input": "2024-07-04T15:27:53.577165Z",
     "iopub.status.busy": "2024-07-04T15:27:53.576749Z",
     "iopub.status.idle": "2024-07-04T15:27:53.580881Z",
     "shell.execute_reply": "2024-07-04T15:27:53.580428Z"
    },
    "lines_to_next_cell": 1,
    "papermill": {
     "duration": 0.013603,
     "end_time": "2024-07-04T15:27:53.581960",
     "exception": false,
     "start_time": "2024-07-04T15:27:53.568357",
     "status": "completed"
    },
    "tags": []
   },
   "outputs": [
    {
     "name": "stdout",
     "output_type": "stream",
     "text": [
      "*****\n",
      "****\n",
      "***\n",
      "**\n",
      "*\n"
     ]
    }
   ],
   "source": [
    "def p5(N: int) -> None:\n",
    "    for i in range(N, 0, -1):\n",
    "        for j in range(i):\n",
    "            print(\"*\", end='')\n",
    "        print()\n",
    "\n",
    "# Testing the solution\n",
    "p5(5)"
   ]
  },
  {
   "cell_type": "code",
   "execution_count": 24,
   "id": "2c02ed3c",
   "metadata": {
    "execution": {
     "iopub.execute_input": "2024-07-04T15:27:53.598837Z",
     "iopub.status.busy": "2024-07-04T15:27:53.598544Z",
     "iopub.status.idle": "2024-07-04T15:27:53.602479Z",
     "shell.execute_reply": "2024-07-04T15:27:53.601949Z"
    },
    "lines_to_next_cell": 1,
    "papermill": {
     "duration": 0.013536,
     "end_time": "2024-07-04T15:27:53.603517",
     "exception": false,
     "start_time": "2024-07-04T15:27:53.589981",
     "status": "completed"
    },
    "tags": []
   },
   "outputs": [
    {
     "name": "stdout",
     "output_type": "stream",
     "text": [
      "12345\n",
      "1234\n",
      "123\n",
      "12\n",
      "1\n"
     ]
    }
   ],
   "source": [
    "def p6(N: int) -> None:\n",
    "    for i in range(N, 0, -1):\n",
    "        for j in range(i):\n",
    "            print(j + 1, end='')\n",
    "        print()\n",
    "\n",
    "# Testing the solution\n",
    "p6(5)"
   ]
  },
  {
   "cell_type": "code",
   "execution_count": 25,
   "id": "126c1e65",
   "metadata": {
    "execution": {
     "iopub.execute_input": "2024-07-04T15:27:53.620173Z",
     "iopub.status.busy": "2024-07-04T15:27:53.619954Z",
     "iopub.status.idle": "2024-07-04T15:27:53.624802Z",
     "shell.execute_reply": "2024-07-04T15:27:53.624331Z"
    },
    "lines_to_next_cell": 1,
    "papermill": {
     "duration": 0.014415,
     "end_time": "2024-07-04T15:27:53.625853",
     "exception": false,
     "start_time": "2024-07-04T15:27:53.611438",
     "status": "completed"
    },
    "tags": []
   },
   "outputs": [
    {
     "name": "stdout",
     "output_type": "stream",
     "text": [
      "    *    \n",
      "   ***   \n",
      "  *****  \n",
      " ******* \n",
      "*********\n"
     ]
    }
   ],
   "source": [
    "def p7(N: int) -> None:\n",
    "    max_stars: int = (2 * N) - 1\n",
    "    for i in range(1, N + 1):\n",
    "        stars: int = (2 * i) - 1\n",
    "        half = (max_stars - stars) // 2\n",
    "        for j in range(half):\n",
    "            print(\" \", end='')\n",
    "        for j in range(stars):\n",
    "            print(\"*\", end='')\n",
    "        for j in range(half):\n",
    "            print(\" \", end='')\n",
    "        print()\n",
    "\n",
    "# Testing the solution\n",
    "p7(5)"
   ]
  },
  {
   "cell_type": "code",
   "execution_count": 26,
   "id": "cb4e9553",
   "metadata": {
    "execution": {
     "iopub.execute_input": "2024-07-04T15:27:53.642953Z",
     "iopub.status.busy": "2024-07-04T15:27:53.642505Z",
     "iopub.status.idle": "2024-07-04T15:27:53.647204Z",
     "shell.execute_reply": "2024-07-04T15:27:53.646772Z"
    },
    "lines_to_next_cell": 1,
    "papermill": {
     "duration": 0.014447,
     "end_time": "2024-07-04T15:27:53.648256",
     "exception": false,
     "start_time": "2024-07-04T15:27:53.633809",
     "status": "completed"
    },
    "tags": []
   },
   "outputs": [
    {
     "name": "stdout",
     "output_type": "stream",
     "text": [
      "*********\n",
      " ******* \n",
      "  *****  \n",
      "   ***   \n",
      "    *    \n"
     ]
    }
   ],
   "source": [
    "def p8(N: int) -> None:\n",
    "    max_stars: int = (2 * N) - 1\n",
    "    for i in range(N, 0, -1):\n",
    "        stars: int = (2 * i) - 1\n",
    "        half = (max_stars - stars) // 2\n",
    "        for j in range(half):\n",
    "            print(\" \", end='')\n",
    "        for j in range(stars):\n",
    "            print(\"*\", end='')\n",
    "        for j in range(half):\n",
    "            print(\" \", end='')\n",
    "        print()\n",
    "\n",
    "# Testing the solution\n",
    "p8(5)"
   ]
  },
  {
   "cell_type": "code",
   "execution_count": 27,
   "id": "7c80140a",
   "metadata": {
    "execution": {
     "iopub.execute_input": "2024-07-04T15:27:53.665397Z",
     "iopub.status.busy": "2024-07-04T15:27:53.664984Z",
     "iopub.status.idle": "2024-07-04T15:27:53.668988Z",
     "shell.execute_reply": "2024-07-04T15:27:53.668446Z"
    },
    "lines_to_next_cell": 1,
    "papermill": {
     "duration": 0.013748,
     "end_time": "2024-07-04T15:27:53.670079",
     "exception": false,
     "start_time": "2024-07-04T15:27:53.656331",
     "status": "completed"
    },
    "tags": []
   },
   "outputs": [
    {
     "name": "stdout",
     "output_type": "stream",
     "text": [
      "    *    \n",
      "   ***   \n",
      "  *****  \n",
      " ******* \n",
      "*********\n",
      "*********\n",
      " ******* \n",
      "  *****  \n",
      "   ***   \n",
      "    *    \n"
     ]
    }
   ],
   "source": [
    "def p9(N: int) -> None:\n",
    "    p7(N)\n",
    "    p8(N)\n",
    "\n",
    "# Testing the solution\n",
    "p9(5)"
   ]
  },
  {
   "cell_type": "code",
   "execution_count": 28,
   "id": "2e32fb2d",
   "metadata": {
    "execution": {
     "iopub.execute_input": "2024-07-04T15:27:53.687277Z",
     "iopub.status.busy": "2024-07-04T15:27:53.686823Z",
     "iopub.status.idle": "2024-07-04T15:27:53.691051Z",
     "shell.execute_reply": "2024-07-04T15:27:53.690529Z"
    },
    "lines_to_next_cell": 1,
    "papermill": {
     "duration": 0.013958,
     "end_time": "2024-07-04T15:27:53.692129",
     "exception": false,
     "start_time": "2024-07-04T15:27:53.678171",
     "status": "completed"
    },
    "tags": []
   },
   "outputs": [
    {
     "name": "stdout",
     "output_type": "stream",
     "text": [
      "*\n",
      "**\n",
      "***\n",
      "****\n",
      "*****\n",
      "****\n",
      "***\n",
      "**\n",
      "*\n"
     ]
    }
   ],
   "source": [
    "def p10(N: int) -> None:\n",
    "    for i in range(N):\n",
    "        for j in range(i + 1):\n",
    "            print(\"*\", end='')\n",
    "        print()\n",
    "\n",
    "    for i in range(N - 1, 0, -1):\n",
    "        for j in range(i):\n",
    "            print(\"*\", end='')\n",
    "        print()\n",
    "\n",
    "# Testing the solution\n",
    "p10(5)"
   ]
  },
  {
   "cell_type": "code",
   "execution_count": 29,
   "id": "36d6b021",
   "metadata": {
    "execution": {
     "iopub.execute_input": "2024-07-04T15:27:53.709623Z",
     "iopub.status.busy": "2024-07-04T15:27:53.709139Z",
     "iopub.status.idle": "2024-07-04T15:27:53.713121Z",
     "shell.execute_reply": "2024-07-04T15:27:53.712669Z"
    },
    "lines_to_next_cell": 1,
    "papermill": {
     "duration": 0.013919,
     "end_time": "2024-07-04T15:27:53.714201",
     "exception": false,
     "start_time": "2024-07-04T15:27:53.700282",
     "status": "completed"
    },
    "tags": []
   },
   "outputs": [
    {
     "name": "stdout",
     "output_type": "stream",
     "text": [
      "1 \n",
      "0 1 \n",
      "1 0 1 \n",
      "0 1 0 1 \n",
      "1 0 1 0 1 \n"
     ]
    }
   ],
   "source": [
    "def p11(N: int) -> None:\n",
    "    for i in range(N):\n",
    "        for j in range(i + 1):\n",
    "            print(1 if i % 2 == j % 2 else 0, end=\" \")\n",
    "        print()\n",
    "\n",
    "# Testing the solution\n",
    "p11(5)"
   ]
  },
  {
   "cell_type": "code",
   "execution_count": 30,
   "id": "ff248593",
   "metadata": {
    "execution": {
     "iopub.execute_input": "2024-07-04T15:27:53.731503Z",
     "iopub.status.busy": "2024-07-04T15:27:53.731076Z",
     "iopub.status.idle": "2024-07-04T15:27:53.735588Z",
     "shell.execute_reply": "2024-07-04T15:27:53.735088Z"
    },
    "lines_to_next_cell": 1,
    "papermill": {
     "duration": 0.014336,
     "end_time": "2024-07-04T15:27:53.736662",
     "exception": false,
     "start_time": "2024-07-04T15:27:53.722326",
     "status": "completed"
    },
    "tags": []
   },
   "outputs": [
    {
     "name": "stdout",
     "output_type": "stream",
     "text": [
      "1        1\n",
      "12      21\n",
      "123    321\n",
      "1234  4321\n",
      "1234554321\n"
     ]
    }
   ],
   "source": [
    "def p12(N: int) -> None:\n",
    "    for i in range(1, N + 1):\n",
    "        for j in range(1, N + 1):\n",
    "            print(j if i >= j else \" \", end=\"\")\n",
    "        for j in range(N, 0, -1):\n",
    "            print(j if i >= j else \" \", end=\"\")\n",
    "        print()\n",
    "\n",
    "# Testing the solution\n",
    "p12(5)"
   ]
  },
  {
   "cell_type": "code",
   "execution_count": 31,
   "id": "4cb3993a",
   "metadata": {
    "execution": {
     "iopub.execute_input": "2024-07-04T15:27:53.753766Z",
     "iopub.status.busy": "2024-07-04T15:27:53.753460Z",
     "iopub.status.idle": "2024-07-04T15:27:53.757293Z",
     "shell.execute_reply": "2024-07-04T15:27:53.756788Z"
    },
    "lines_to_next_cell": 1,
    "papermill": {
     "duration": 0.013717,
     "end_time": "2024-07-04T15:27:53.758465",
     "exception": false,
     "start_time": "2024-07-04T15:27:53.744748",
     "status": "completed"
    },
    "tags": []
   },
   "outputs": [
    {
     "name": "stdout",
     "output_type": "stream",
     "text": [
      "1 \n",
      "2 3 \n",
      "4 5 6 \n",
      "7 8 9 10 \n",
      "11 12 13 14 15 \n"
     ]
    }
   ],
   "source": [
    "def p13(N: int) -> None:\n",
    "    counter = 1\n",
    "    for i in range(1, N + 1):\n",
    "        for j in range(i):\n",
    "            print(counter, end=\" \")\n",
    "            counter += 1\n",
    "        print()\n",
    "\n",
    "# Testing the solution\n",
    "p13(5)"
   ]
  },
  {
   "cell_type": "code",
   "execution_count": 32,
   "id": "0adac77e",
   "metadata": {
    "execution": {
     "iopub.execute_input": "2024-07-04T15:27:53.775998Z",
     "iopub.status.busy": "2024-07-04T15:27:53.775595Z",
     "iopub.status.idle": "2024-07-04T15:27:53.779412Z",
     "shell.execute_reply": "2024-07-04T15:27:53.778899Z"
    },
    "lines_to_next_cell": 1,
    "papermill": {
     "duration": 0.013655,
     "end_time": "2024-07-04T15:27:53.780463",
     "exception": false,
     "start_time": "2024-07-04T15:27:53.766808",
     "status": "completed"
    },
    "tags": []
   },
   "outputs": [
    {
     "name": "stdout",
     "output_type": "stream",
     "text": [
      "A \n",
      "A B \n",
      "A B C \n",
      "A B C D \n",
      "A B C D E \n"
     ]
    }
   ],
   "source": [
    "def p14(N: int) -> None:\n",
    "    for i in range(1, N + 1):\n",
    "        for j in range(i):\n",
    "            print(chr(ord('A') + j), end=\" \")\n",
    "        print()\n",
    "\n",
    "# Testing the solution\n",
    "p14(5)"
   ]
  },
  {
   "cell_type": "code",
   "execution_count": 33,
   "id": "3918fd7d",
   "metadata": {
    "execution": {
     "iopub.execute_input": "2024-07-04T15:27:53.798019Z",
     "iopub.status.busy": "2024-07-04T15:27:53.797721Z",
     "iopub.status.idle": "2024-07-04T15:27:53.801691Z",
     "shell.execute_reply": "2024-07-04T15:27:53.801225Z"
    },
    "lines_to_next_cell": 1,
    "papermill": {
     "duration": 0.013973,
     "end_time": "2024-07-04T15:27:53.802736",
     "exception": false,
     "start_time": "2024-07-04T15:27:53.788763",
     "status": "completed"
    },
    "tags": []
   },
   "outputs": [
    {
     "name": "stdout",
     "output_type": "stream",
     "text": [
      "A B C D E \n",
      "A B C D \n",
      "A B C \n",
      "A B \n",
      "A \n"
     ]
    }
   ],
   "source": [
    "def p15(N: int) -> None:\n",
    "    for i in range(N, 0, -1):\n",
    "        for j in range(i):\n",
    "            print(chr(ord('A') + j), end=\" \")\n",
    "        print()\n",
    "\n",
    "# Testing the solution\n",
    "p15(5)"
   ]
  },
  {
   "cell_type": "code",
   "execution_count": 34,
   "id": "cc083076",
   "metadata": {
    "execution": {
     "iopub.execute_input": "2024-07-04T15:27:53.820245Z",
     "iopub.status.busy": "2024-07-04T15:27:53.820065Z",
     "iopub.status.idle": "2024-07-04T15:27:53.823911Z",
     "shell.execute_reply": "2024-07-04T15:27:53.823403Z"
    },
    "lines_to_next_cell": 1,
    "papermill": {
     "duration": 0.013835,
     "end_time": "2024-07-04T15:27:53.824971",
     "exception": false,
     "start_time": "2024-07-04T15:27:53.811136",
     "status": "completed"
    },
    "tags": []
   },
   "outputs": [
    {
     "name": "stdout",
     "output_type": "stream",
     "text": [
      "A \n",
      "B B \n",
      "C C C \n",
      "D D D D \n",
      "E E E E E \n"
     ]
    }
   ],
   "source": [
    "def p16(N: int) -> None:\n",
    "    for i in range(1, N + 1):\n",
    "        for j in range(i):\n",
    "            print(chr(ord('A') + i - 1), end=\" \")\n",
    "        print()\n",
    "\n",
    "# Testing the solution\n",
    "p16(5)"
   ]
  },
  {
   "cell_type": "code",
   "execution_count": 35,
   "id": "d9432d4b",
   "metadata": {
    "execution": {
     "iopub.execute_input": "2024-07-04T15:27:53.842495Z",
     "iopub.status.busy": "2024-07-04T15:27:53.842277Z",
     "iopub.status.idle": "2024-07-04T15:27:53.847246Z",
     "shell.execute_reply": "2024-07-04T15:27:53.846727Z"
    },
    "lines_to_next_cell": 1,
    "papermill": {
     "duration": 0.01498,
     "end_time": "2024-07-04T15:27:53.848273",
     "exception": false,
     "start_time": "2024-07-04T15:27:53.833293",
     "status": "completed"
    },
    "tags": []
   },
   "outputs": [
    {
     "name": "stdout",
     "output_type": "stream",
     "text": [
      "    A    \n",
      "   ABA   \n",
      "  ABCBA  \n",
      " ABCDCBA \n",
      "ABCDEDCBA\n"
     ]
    }
   ],
   "source": [
    "def p17(N: int) -> None:\n",
    "    max_width = (2 * N) - 1\n",
    "    for i in range(1, N + 1):\n",
    "        width = (2 * i) - 1\n",
    "        spaces = max_width - width\n",
    "        for j in range(spaces // 2):\n",
    "            print(\" \", end=\"\")\n",
    "        for j in range(i):\n",
    "            print(chr(ord('A') + j), end=\"\")\n",
    "        for j in range(i - 2, -1, -1):\n",
    "            print(chr(ord('A') + j), end=\"\")\n",
    "        for j in range(spaces // 2):\n",
    "            print(\" \", end=\"\")\n",
    "        print()\n",
    "\n",
    "# Testing the solution\n",
    "p17(5)"
   ]
  },
  {
   "cell_type": "code",
   "execution_count": 36,
   "id": "4633133c",
   "metadata": {
    "execution": {
     "iopub.execute_input": "2024-07-04T15:27:53.866060Z",
     "iopub.status.busy": "2024-07-04T15:27:53.865688Z",
     "iopub.status.idle": "2024-07-04T15:27:53.869505Z",
     "shell.execute_reply": "2024-07-04T15:27:53.868985Z"
    },
    "lines_to_next_cell": 1,
    "papermill": {
     "duration": 0.013928,
     "end_time": "2024-07-04T15:27:53.870589",
     "exception": false,
     "start_time": "2024-07-04T15:27:53.856661",
     "status": "completed"
    },
    "tags": []
   },
   "outputs": [
    {
     "name": "stdout",
     "output_type": "stream",
     "text": [
      "E \n",
      "D E \n",
      "C D E \n",
      "B C D E \n",
      "A B C D E \n"
     ]
    }
   ],
   "source": [
    "def p18(N: int) -> None:\n",
    "    for i in range(1, N + 1):\n",
    "        for j in range(N - i, N):\n",
    "            print(chr(ord('A') + j), end=' ')\n",
    "        print()\n",
    "\n",
    "# Testing the solution\n",
    "p18(5)"
   ]
  },
  {
   "cell_type": "code",
   "execution_count": 37,
   "id": "45cf811d",
   "metadata": {
    "execution": {
     "iopub.execute_input": "2024-07-04T15:27:53.888535Z",
     "iopub.status.busy": "2024-07-04T15:27:53.888129Z",
     "iopub.status.idle": "2024-07-04T15:27:53.893019Z",
     "shell.execute_reply": "2024-07-04T15:27:53.892539Z"
    },
    "lines_to_next_cell": 1,
    "papermill": {
     "duration": 0.014999,
     "end_time": "2024-07-04T15:27:53.894049",
     "exception": false,
     "start_time": "2024-07-04T15:27:53.879050",
     "status": "completed"
    },
    "tags": []
   },
   "outputs": [
    {
     "name": "stdout",
     "output_type": "stream",
     "text": [
      "**********\n",
      "****  ****\n",
      "***    ***\n",
      "**      **\n",
      "*        *\n",
      "*        *\n",
      "**      **\n",
      "***    ***\n",
      "****  ****\n",
      "**********\n"
     ]
    }
   ],
   "source": [
    "def p19(N: int) -> None:\n",
    "    max_width = 2 * N\n",
    "    for i_ in range(2 * N):\n",
    "        i = N - i_ if i_ < N else (i_ % N) + 1\n",
    "        for j in range(i):\n",
    "            print(\"*\", end='')\n",
    "        for j in range(max_width - (2 * i)):\n",
    "            print(\" \", end='')\n",
    "        for j in range(i):\n",
    "            print(\"*\", end='')\n",
    "        print()\n",
    "\n",
    "# Testing the solution\n",
    "p19(5)"
   ]
  },
  {
   "cell_type": "code",
   "execution_count": 38,
   "id": "da170774",
   "metadata": {
    "execution": {
     "iopub.execute_input": "2024-07-04T15:27:53.912072Z",
     "iopub.status.busy": "2024-07-04T15:27:53.911752Z",
     "iopub.status.idle": "2024-07-04T15:27:53.916706Z",
     "shell.execute_reply": "2024-07-04T15:27:53.916242Z"
    },
    "lines_to_next_cell": 1,
    "papermill": {
     "duration": 0.015177,
     "end_time": "2024-07-04T15:27:53.917762",
     "exception": false,
     "start_time": "2024-07-04T15:27:53.902585",
     "status": "completed"
    },
    "tags": []
   },
   "outputs": [
    {
     "name": "stdout",
     "output_type": "stream",
     "text": [
      "*        *\n",
      "**      **\n",
      "***    ***\n",
      "****  ****\n",
      "**********\n",
      "****  ****\n",
      "***    ***\n",
      "**      **\n",
      "*        *\n"
     ]
    }
   ],
   "source": [
    "def p20(N: int) -> None:\n",
    "    max_width = 2 * N\n",
    "    for i_ in range(2 * N - 1):\n",
    "        i = i_ + 1 if i_ < N else 2 * N - i_ - 1\n",
    "        for j in range(i):\n",
    "            print(\"*\", end='')\n",
    "        for j in range(max_width - 2 * i):\n",
    "            print(\" \", end='')\n",
    "        for j in range(i):\n",
    "            print(\"*\", end='')\n",
    "        print()\n",
    "\n",
    "# Testing the solution\n",
    "p20(5)"
   ]
  },
  {
   "cell_type": "code",
   "execution_count": 39,
   "id": "c9ec1076",
   "metadata": {
    "execution": {
     "iopub.execute_input": "2024-07-04T15:27:53.936122Z",
     "iopub.status.busy": "2024-07-04T15:27:53.935626Z",
     "iopub.status.idle": "2024-07-04T15:27:53.939689Z",
     "shell.execute_reply": "2024-07-04T15:27:53.939237Z"
    },
    "lines_to_next_cell": 1,
    "papermill": {
     "duration": 0.01436,
     "end_time": "2024-07-04T15:27:53.940729",
     "exception": false,
     "start_time": "2024-07-04T15:27:53.926369",
     "status": "completed"
    },
    "tags": []
   },
   "outputs": [
    {
     "name": "stdout",
     "output_type": "stream",
     "text": [
      "*****\n",
      "*   *\n",
      "*   *\n",
      "*   *\n",
      "*****\n"
     ]
    }
   ],
   "source": [
    "def p21(N: int) -> None:\n",
    "    for i in range(N):\n",
    "        for j in range(N):\n",
    "            print(\"*\" if i in (0, N - 1) or j in (0, N - 1) else \" \", end='')\n",
    "        print()\n",
    "\n",
    "# Testing the solution\n",
    "p21(5)"
   ]
  },
  {
   "cell_type": "code",
   "execution_count": 40,
   "id": "519e516c",
   "metadata": {
    "execution": {
     "iopub.execute_input": "2024-07-04T15:27:53.958956Z",
     "iopub.status.busy": "2024-07-04T15:27:53.958426Z",
     "iopub.status.idle": "2024-07-04T15:27:53.963320Z",
     "shell.execute_reply": "2024-07-04T15:27:53.962881Z"
    },
    "lines_to_next_cell": 1,
    "papermill": {
     "duration": 0.015135,
     "end_time": "2024-07-04T15:27:53.964370",
     "exception": false,
     "start_time": "2024-07-04T15:27:53.949235",
     "status": "completed"
    },
    "tags": []
   },
   "outputs": [
    {
     "name": "stdout",
     "output_type": "stream",
     "text": [
      "3 3 3 3 3 \n",
      "3 2 2 2 3 \n",
      "3 2 1 2 3 \n",
      "3 2 2 2 3 \n",
      "3 3 3 3 3 \n"
     ]
    }
   ],
   "source": [
    "def p22(N: int) -> None:\n",
    "    result: collections.deque[collections.deque[int]] = collections.deque([collections.deque([1])])\n",
    "    for i in range(2, N + 1):\n",
    "        for row in result:\n",
    "            row.appendleft(i)\n",
    "            row.append(i)\n",
    "        result.appendleft(collections.deque([i for _ in range(2 * i - 1)]))\n",
    "        result.append(collections.deque([i for _ in range(2 * i - 1)]))\n",
    "\n",
    "    for row in result:\n",
    "        for col in row:\n",
    "            print(col, end=' ')\n",
    "        print()\n",
    "\n",
    "# Testing the solution\n",
    "p22(3)"
   ]
  },
  {
   "cell_type": "markdown",
   "id": "9cdce5e5",
   "metadata": {
    "papermill": {
     "duration": 0.00856,
     "end_time": "2024-07-04T15:27:53.981549",
     "exception": false,
     "start_time": "2024-07-04T15:27:53.972989",
     "status": "completed"
    },
    "tags": []
   },
   "source": [
    "Basic Math"
   ]
  },
  {
   "cell_type": "code",
   "execution_count": 41,
   "id": "cd23fa37",
   "metadata": {
    "execution": {
     "iopub.execute_input": "2024-07-04T15:27:53.999830Z",
     "iopub.status.busy": "2024-07-04T15:27:53.999322Z",
     "iopub.status.idle": "2024-07-04T15:27:54.003048Z",
     "shell.execute_reply": "2024-07-04T15:27:54.002516Z"
    },
    "lines_to_next_cell": 1,
    "papermill": {
     "duration": 0.014168,
     "end_time": "2024-07-04T15:27:54.004197",
     "exception": false,
     "start_time": "2024-07-04T15:27:53.990029",
     "status": "completed"
    },
    "tags": []
   },
   "outputs": [],
   "source": [
    "def reverseDigits(N: int) -> int:\n",
    "    NR, num = 0, abs(N)\n",
    "    while num > 0:\n",
    "        digit, num = num % 10, num // 10\n",
    "        NR = (NR * 10) + digit\n",
    "    return NR if N > 0 else -NR\n",
    "\n",
    "# Testing the solution\n",
    "assert reverseDigits(-123) == -321"
   ]
  },
  {
   "cell_type": "code",
   "execution_count": 42,
   "id": "5d9d6817",
   "metadata": {
    "execution": {
     "iopub.execute_input": "2024-07-04T15:27:54.022206Z",
     "iopub.status.busy": "2024-07-04T15:27:54.021962Z",
     "iopub.status.idle": "2024-07-04T15:27:54.025497Z",
     "shell.execute_reply": "2024-07-04T15:27:54.025072Z"
    },
    "lines_to_next_cell": 1,
    "papermill": {
     "duration": 0.013795,
     "end_time": "2024-07-04T15:27:54.026562",
     "exception": false,
     "start_time": "2024-07-04T15:27:54.012767",
     "status": "completed"
    },
    "tags": []
   },
   "outputs": [],
   "source": [
    "def isPalindrome(N: int) -> bool:\n",
    "    def reverse(num: int) -> int:\n",
    "        numR = 0\n",
    "        while num > 0:\n",
    "            digit, num = num % 10, num // 10\n",
    "            numR = (numR * 10) + digit\n",
    "        return numR\n",
    "\n",
    "    return N >= 0 and N == reverse(N)\n",
    "\n",
    "# Testing the solution\n",
    "assert isPalindrome(121) == True"
   ]
  },
  {
   "cell_type": "markdown",
   "id": "787f4139",
   "metadata": {
    "papermill": {
     "duration": 0.008592,
     "end_time": "2024-07-04T15:27:54.043808",
     "exception": false,
     "start_time": "2024-07-04T15:27:54.035216",
     "status": "completed"
    },
    "tags": []
   },
   "source": [
    "def lcmAndGcd(n1: int , n2: int) -> tuple[int, int]:\n",
    "    def primeFactors(n: int) -> dict[int, int]:\n",
    "        factors: collections.defaultdict[int, int] = collections.defaultdict(int)\n",
    "        curr = 2\n",
    "        while curr <= n:\n",
    "            if n % curr == 0:\n",
    "                n //= curr\n",
    "                factors[curr] += 1\n",
    "            else:\n",
    "                curr += 1\n",
    "        return factors\n",
    "\n",
    "    pf1, pf2 = primeFactors(n1), primeFactors(n2)\n",
    "    factors: set[int] = {*pf1.keys(), *pf2.keys()}\n",
    "    lcm = gcd = 1\n",
    "    for factor in factors:\n",
    "        min_, max_ = min(pf1[factor], pf2[factor]), max(pf1[factor], pf2[factor])\n",
    "        if min_ != 0:\n",
    "            gcd *= factor ** min_\n",
    "        if max_ != 0:\n",
    "            lcm *= factor ** max_\n",
    "\n",
    "    return lcm, gcd\n",
    "\n",
    "Testing the solution\n",
    "assert lcmAndGcd(5, 10) == (10, 5)\n",
    "assert lcmAndGcd(14, 8) == (56, 2)\n",
    "assert lcmAndGcd(8, 42) == (168, 2)"
   ]
  },
  {
   "cell_type": "code",
   "execution_count": 43,
   "id": "bf026496",
   "metadata": {
    "execution": {
     "iopub.execute_input": "2024-07-04T15:27:54.061927Z",
     "iopub.status.busy": "2024-07-04T15:27:54.061524Z",
     "iopub.status.idle": "2024-07-04T15:27:54.066050Z",
     "shell.execute_reply": "2024-07-04T15:27:54.065606Z"
    },
    "lines_to_next_cell": 1,
    "papermill": {
     "duration": 0.014887,
     "end_time": "2024-07-04T15:27:54.067110",
     "exception": false,
     "start_time": "2024-07-04T15:27:54.052223",
     "status": "completed"
    },
    "tags": []
   },
   "outputs": [],
   "source": [
    "def lcmAndGcdOptimal(n1: int , n2: int) -> tuple[int, int]:\n",
    "    \"\"\"\n",
    "    Euclidean algo: GCD remains same even if greater of two numbers is subtracted with the smaller number\n",
    "    Continously subtract greater by smaller until we get a 0.\n",
    "    \"\"\"\n",
    "    def gcd(n1: int, n2: int) -> int:\n",
    "        while n1 != 0 and n2 != 0:\n",
    "            n1, n2 = sorted([n1, n2])\n",
    "            n1, n2 = n1, n2 - n1\n",
    "        return max(n1, n2)\n",
    "\n",
    "    gcd_ = gcd(n1, n2)\n",
    "    lcm_ = (n1 * n2) // gcd_\n",
    "    return lcm_, gcd_\n",
    "\n",
    "# Testing the solution\n",
    "assert lcmAndGcdOptimal(5, 10) == (10, 5)\n",
    "assert lcmAndGcdOptimal(14, 8) == (56, 2)\n",
    "assert lcmAndGcdOptimal(8, 42) == (168, 2)"
   ]
  },
  {
   "cell_type": "code",
   "execution_count": 44,
   "id": "e6aa105e",
   "metadata": {
    "execution": {
     "iopub.execute_input": "2024-07-04T15:27:54.085258Z",
     "iopub.status.busy": "2024-07-04T15:27:54.084872Z",
     "iopub.status.idle": "2024-07-04T15:27:54.088802Z",
     "shell.execute_reply": "2024-07-04T15:27:54.088363Z"
    },
    "lines_to_next_cell": 1,
    "papermill": {
     "duration": 0.014165,
     "end_time": "2024-07-04T15:27:54.089860",
     "exception": false,
     "start_time": "2024-07-04T15:27:54.075695",
     "status": "completed"
    },
    "tags": []
   },
   "outputs": [],
   "source": [
    "def armstrong(N: int) -> bool:\n",
    "    def countDigits(n: int) -> int:\n",
    "        digits = 0\n",
    "        while n > 0:\n",
    "            digits, n = digits + 1, n // 10\n",
    "        return digits\n",
    "\n",
    "    total, n, K = 0, N, countDigits(N)\n",
    "    while n > 0:\n",
    "        digit, n = n % 10, n // 10\n",
    "        total +=digit ** K\n",
    "\n",
    "    return total == N\n",
    "\n",
    "# Testing the solution\n",
    "assert armstrong(371) == True\n",
    "assert armstrong(123) == False"
   ]
  },
  {
   "cell_type": "code",
   "execution_count": 45,
   "id": "aa26b4c6",
   "metadata": {
    "execution": {
     "iopub.execute_input": "2024-07-04T15:27:54.108198Z",
     "iopub.status.busy": "2024-07-04T15:27:54.107727Z",
     "iopub.status.idle": "2024-07-04T15:27:54.111645Z",
     "shell.execute_reply": "2024-07-04T15:27:54.111222Z"
    },
    "lines_to_next_cell": 1,
    "papermill": {
     "duration": 0.014239,
     "end_time": "2024-07-04T15:27:54.112708",
     "exception": false,
     "start_time": "2024-07-04T15:27:54.098469",
     "status": "completed"
    },
    "tags": []
   },
   "outputs": [],
   "source": [
    "def printAllDivisors(N: int) -> list[int]:\n",
    "    result: set[int] = set()\n",
    "    i = 1\n",
    "    while i * i <= N:\n",
    "        if N % i == 0:\n",
    "            result.add(i)\n",
    "            result.add(N // i)\n",
    "        i += 1\n",
    "\n",
    "    return sorted(result)\n",
    "\n",
    "# Testing the solution\n",
    "assert printAllDivisors(12) == [1, 2, 3, 4, 6, 12]"
   ]
  },
  {
   "cell_type": "code",
   "execution_count": 46,
   "id": "c8135fe8",
   "metadata": {
    "execution": {
     "iopub.execute_input": "2024-07-04T15:27:54.130775Z",
     "iopub.status.busy": "2024-07-04T15:27:54.130583Z",
     "iopub.status.idle": "2024-07-04T15:27:54.134774Z",
     "shell.execute_reply": "2024-07-04T15:27:54.134313Z"
    },
    "lines_to_next_cell": 1,
    "papermill": {
     "duration": 0.014507,
     "end_time": "2024-07-04T15:27:54.135800",
     "exception": false,
     "start_time": "2024-07-04T15:27:54.121293",
     "status": "completed"
    },
    "tags": []
   },
   "outputs": [],
   "source": [
    "def minJumps(arr: list[int], N: int) -> int:\n",
    "    \"\"\"\n",
    "    Greedy Approach = Time: O(N), Space: O(1)\n",
    "\n",
    "    Keep track of the range we can jump into with minimum number of steps\n",
    "    For jump = 0, we can jump to index = 0 (left = right = 0)\n",
    "\n",
    "    For each iteration through range, compute maximum range we can jump into.\n",
    "    As we move with the next iteration, jumps = jumps + 1.\n",
    "    Again recompute the next range\n",
    "    \"\"\"\n",
    "    jumps = left = right = 0\n",
    "    while right < N - 1:\n",
    "        max_idx = 0\n",
    "        for i in range(left, right + 1):\n",
    "            max_idx = max(max_idx, i + arr[i])\n",
    "        # For next iteration, we start with where we left off in the previous range (right + 1)\n",
    "        jumps, left, right = jumps + 1, right + 1, max_idx\n",
    "\n",
    "    return jumps\n",
    "\n",
    "# Testing the solution\n",
    "assert minJumps([1,3,5,8,9,2,6,7,6,8,9], 11) == 3"
   ]
  },
  {
   "cell_type": "markdown",
   "id": "bc8d59b3",
   "metadata": {
    "papermill": {
     "duration": 0.008677,
     "end_time": "2024-07-04T15:27:54.153293",
     "exception": false,
     "start_time": "2024-07-04T15:27:54.144616",
     "status": "completed"
    },
    "tags": []
   },
   "source": [
    "#### Basic Recursion"
   ]
  },
  {
   "cell_type": "code",
   "execution_count": 47,
   "id": "e69b9a66",
   "metadata": {
    "execution": {
     "iopub.execute_input": "2024-07-04T15:27:54.171395Z",
     "iopub.status.busy": "2024-07-04T15:27:54.171015Z",
     "iopub.status.idle": "2024-07-04T15:27:54.174605Z",
     "shell.execute_reply": "2024-07-04T15:27:54.174033Z"
    },
    "lines_to_next_cell": 1,
    "papermill": {
     "duration": 0.013972,
     "end_time": "2024-07-04T15:27:54.175685",
     "exception": false,
     "start_time": "2024-07-04T15:27:54.161713",
     "status": "completed"
    },
    "tags": []
   },
   "outputs": [],
   "source": [
    "def sumOfSeries(n: int) -> int:\n",
    "    \"\"\"\n",
    "    Figured this out by checking if there is a pattern by printing all results\n",
    "    \"\"\"\n",
    "    sqrt = (n * (n + 1)) // 2\n",
    "    return sqrt * sqrt\n",
    "\n",
    "# Testing the solution\n",
    "assert sumOfSeries(5) == 225\n",
    "assert sumOfSeries(7) == 784"
   ]
  },
  {
   "cell_type": "code",
   "execution_count": 48,
   "id": "c2c609ac",
   "metadata": {
    "execution": {
     "iopub.execute_input": "2024-07-04T15:27:54.193890Z",
     "iopub.status.busy": "2024-07-04T15:27:54.193522Z",
     "iopub.status.idle": "2024-07-04T15:27:54.197621Z",
     "shell.execute_reply": "2024-07-04T15:27:54.197148Z"
    },
    "lines_to_next_cell": 1,
    "papermill": {
     "duration": 0.014489,
     "end_time": "2024-07-04T15:27:54.198748",
     "exception": false,
     "start_time": "2024-07-04T15:27:54.184259",
     "status": "completed"
    },
    "tags": []
   },
   "outputs": [],
   "source": [
    "def factorialNumbers(N: int) -> list[int]:\n",
    "    def factorial(i: int, curr: int) -> None:\n",
    "        if curr > N:\n",
    "            return\n",
    "        else:\n",
    "            result.append(curr)\n",
    "            factorial(i + 1, curr * (i + 1))\n",
    "\n",
    "    result: list[int] = []\n",
    "    factorial(1, 1)\n",
    "    return result\n",
    "\n",
    "# Testing the solution\n",
    "assert factorialNumbers(3) == [1, 2]\n",
    "assert factorialNumbers(6) == [1, 2, 6]"
   ]
  },
  {
   "cell_type": "code",
   "execution_count": 49,
   "id": "b6270d65",
   "metadata": {
    "execution": {
     "iopub.execute_input": "2024-07-04T15:27:54.217151Z",
     "iopub.status.busy": "2024-07-04T15:27:54.216715Z",
     "iopub.status.idle": "2024-07-04T15:27:54.220789Z",
     "shell.execute_reply": "2024-07-04T15:27:54.220352Z"
    },
    "lines_to_next_cell": 1,
    "papermill": {
     "duration": 0.014432,
     "end_time": "2024-07-04T15:27:54.221888",
     "exception": false,
     "start_time": "2024-07-04T15:27:54.207456",
     "status": "completed"
    },
    "tags": []
   },
   "outputs": [],
   "source": [
    "def reverseArray(nums: list[int]):\n",
    "    def reverse(i: int, j: int) -> None:\n",
    "        if i >= j:\n",
    "            return\n",
    "        nums[i], nums[j] = nums[j], nums[i]\n",
    "        reverse(i + 1, j - 1)\n",
    "\n",
    "    N = len(nums)\n",
    "    reverse(0, N - 1)\n",
    "    return nums\n",
    "\n",
    "# Testing the solution\n",
    "assert reverseArray([1,2]) == [2,1]\n",
    "assert reverseArray([1,2,3,4]) == [4,3,2,1]"
   ]
  },
  {
   "cell_type": "code",
   "execution_count": 50,
   "id": "89cf59c4",
   "metadata": {
    "execution": {
     "iopub.execute_input": "2024-07-04T15:27:54.240254Z",
     "iopub.status.busy": "2024-07-04T15:27:54.239783Z",
     "iopub.status.idle": "2024-07-04T15:27:54.244590Z",
     "shell.execute_reply": "2024-07-04T15:27:54.244041Z"
    },
    "lines_to_next_cell": 1,
    "papermill": {
     "duration": 0.015192,
     "end_time": "2024-07-04T15:27:54.245742",
     "exception": false,
     "start_time": "2024-07-04T15:27:54.230550",
     "status": "completed"
    },
    "tags": []
   },
   "outputs": [],
   "source": [
    "def isPalindrome2(s: str) -> bool:\n",
    "    def check(i: int, j: int) -> bool:\n",
    "        if i >= j:\n",
    "            return True\n",
    "        elif not s[i].isalnum():\n",
    "            return check(i + 1, j)\n",
    "        elif not s[j].isalnum():\n",
    "            return check(i, j - 1)\n",
    "        else:\n",
    "            return  s[i].lower() == s[j].lower() and check(i + 1, j - 1)\n",
    "\n",
    "    N = len(s)\n",
    "    return check(0, N - 1)\n",
    "\n",
    "# Testing the solution\n",
    "assert isPalindrome2(\"A man, a plan, a canal: Panama\") == True\n",
    "assert isPalindrome2(\"race a car\") == False\n",
    "assert isPalindrome2(\"0P\") == False"
   ]
  },
  {
   "cell_type": "code",
   "execution_count": 51,
   "id": "bb5a8346",
   "metadata": {
    "execution": {
     "iopub.execute_input": "2024-07-04T15:27:54.264304Z",
     "iopub.status.busy": "2024-07-04T15:27:54.263833Z",
     "iopub.status.idle": "2024-07-04T15:27:54.269152Z",
     "shell.execute_reply": "2024-07-04T15:27:54.268728Z"
    },
    "lines_to_next_cell": 1,
    "papermill": {
     "duration": 0.015752,
     "end_time": "2024-07-04T15:27:54.270252",
     "exception": false,
     "start_time": "2024-07-04T15:27:54.254500",
     "status": "completed"
    },
    "tags": []
   },
   "outputs": [],
   "source": [
    "def frequencyCount(arr: list[int], N: int, P: int) -> list[int]:\n",
    "    \"\"\"\n",
    "    Similar to finding the missing duplicate number problem.\n",
    "    \"\"\"\n",
    "    def backtrack(i: int) -> None:\n",
    "        if i >= N:\n",
    "            return\n",
    "        elif arr[i] <= 0:\n",
    "            arr[i] -= 1\n",
    "        else:\n",
    "            arr[i], next_ = -1, arr[i] - 1\n",
    "            backtrack(next_)\n",
    "\n",
    "    for i in range(N):\n",
    "        if arr[i] > 0:\n",
    "            arr[i], next_ = 0, arr[i] - 1\n",
    "            backtrack(next_)\n",
    "\n",
    "    for i in range(N):\n",
    "        arr[i] = abs(arr[i])\n",
    "\n",
    "    return arr\n",
    "\n",
    "# Testing the solution\n",
    "assert frequencyCount([2, 3, 2, 3, 5], 5, 5) == [0, 2, 2, 0, 1]\n",
    "assert frequencyCount([3, 3, 3, 3], 4, 3) == [0, 0, 4, 0]\n",
    "assert frequencyCount([8, 9], 2, 9)"
   ]
  },
  {
   "cell_type": "code",
   "execution_count": 52,
   "id": "1ece5c67",
   "metadata": {
    "execution": {
     "iopub.execute_input": "2024-07-04T15:27:54.288500Z",
     "iopub.status.busy": "2024-07-04T15:27:54.288050Z",
     "iopub.status.idle": "2024-07-04T15:27:54.293227Z",
     "shell.execute_reply": "2024-07-04T15:27:54.292782Z"
    },
    "lines_to_next_cell": 1,
    "papermill": {
     "duration": 0.015461,
     "end_time": "2024-07-04T15:27:54.294315",
     "exception": false,
     "start_time": "2024-07-04T15:27:54.278854",
     "status": "completed"
    },
    "tags": []
   },
   "outputs": [],
   "source": [
    "def frequencyCountGFG(arr: list[int], N: int, P: int) -> list[int]:\n",
    "    \"\"\"\n",
    "    Same idea but a diff approach: -ve values represent integers\n",
    "    Instead of backtracking, we can swap with i until we hit a freq\n",
    "    \"\"\"\n",
    "    for i in range(N):\n",
    "        while arr[i] > 0:\n",
    "            j = arr[i] - 1\n",
    "            if j >= N:\n",
    "                arr[i] = 0\n",
    "            elif arr[j] <= 0: # j < N and arr[j] <= 0 (arr[j] is a freq)\n",
    "                arr[j] -= 1\n",
    "                arr[i] = 0\n",
    "            else: # j < N and arr[j] > 0 (arr[j] is a number, we swap)\n",
    "                arr[i], arr[j] = arr[j], arr[i]\n",
    "                arr[j] = -1\n",
    "\n",
    "    for i in range(N):\n",
    "        arr[i] = abs(arr[i])\n",
    "\n",
    "    return arr\n",
    "\n",
    "assert frequencyCountGFG([2, 3, 2, 3, 5], 5, 5) == [0, 2, 2, 0, 1]\n",
    "assert frequencyCountGFG([3, 3, 3, 3], 4, 3) == [0, 0, 4, 0]\n",
    "assert frequencyCountGFG([8, 9], 2, 9)"
   ]
  },
  {
   "cell_type": "markdown",
   "id": "8fe0125c",
   "metadata": {
    "papermill": {
     "duration": 0.008465,
     "end_time": "2024-07-04T15:27:54.311311",
     "exception": false,
     "start_time": "2024-07-04T15:27:54.302846",
     "status": "completed"
    },
    "tags": []
   },
   "source": [
    "LC Medium: https://leetcode.com/problems/frequency-of-the-most-frequent-element/description/"
   ]
  },
  {
   "cell_type": "code",
   "execution_count": 53,
   "id": "ad477e2a",
   "metadata": {
    "execution": {
     "iopub.execute_input": "2024-07-04T15:27:54.329523Z",
     "iopub.status.busy": "2024-07-04T15:27:54.328997Z",
     "iopub.status.idle": "2024-07-04T15:27:54.334624Z",
     "shell.execute_reply": "2024-07-04T15:27:54.334163Z"
    },
    "papermill": {
     "duration": 0.01594,
     "end_time": "2024-07-04T15:27:54.335691",
     "exception": false,
     "start_time": "2024-07-04T15:27:54.319751",
     "status": "completed"
    },
    "tags": []
   },
   "outputs": [],
   "source": [
    "# Had to see the hint that is a sliding window problem\n",
    "# https://leetcode.com/problems/frequency-of-the-most-frequent-element/submissions/1309518869\n",
    "def maxFrequency(nums: list[int], k: int) -> int:\n",
    "    nums.sort()\n",
    "    N, max_freq, i, j, curr_max, cost = len(nums), 1, 0, 0, nums[0], 0\n",
    "    while i < N and j < N:\n",
    "        if cost <= k:\n",
    "            max_freq = max(max_freq, j - i + 1)\n",
    "            j += 1\n",
    "            if j < N:\n",
    "                cost += (nums[j] - curr_max) * (j - i)\n",
    "                curr_max = max(curr_max, nums[j])\n",
    "        else:\n",
    "            cost -= curr_max - nums[i]\n",
    "            i += 1\n",
    "\n",
    "    return max_freq\n",
    "\n",
    "# Testing the solution\n",
    "assert maxFrequency([1,1,1,1,1,1,11,11,11,12,12,12,12,12,12,12,12], 10) == 11\n",
    "assert maxFrequency([1], 10) == 1\n",
    "assert maxFrequency([3,9,6], 2) == 1\n",
    "assert maxFrequency([1,4,8,13], 5) == 2"
   ]
  }
 ],
 "metadata": {
  "kernelspec": {
   "display_name": "Python 3 (ipykernel)",
   "language": "python",
   "name": "python3"
  },
  "language_info": {
   "codemirror_mode": {
    "name": "ipython",
    "version": 3
   },
   "file_extension": ".py",
   "mimetype": "text/x-python",
   "name": "python",
   "nbconvert_exporter": "python",
   "pygments_lexer": "ipython3",
   "version": "3.11.9"
  },
  "papermill": {
   "default_parameters": {},
   "duration": 3.157906,
   "end_time": "2024-07-04T15:27:54.560410",
   "environment_variables": {},
   "exception": null,
   "input_path": "practice/005.ipynb",
   "output_path": "practice/005.ipynb",
   "parameters": {},
   "start_time": "2024-07-04T15:27:51.402504",
   "version": "2.6.0"
  }
 },
 "nbformat": 4,
 "nbformat_minor": 5
}