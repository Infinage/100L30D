{
 "cells": [
  {
   "cell_type": "code",
   "execution_count": 1,
   "id": "fa51d761",
   "metadata": {
    "execution": {
     "iopub.execute_input": "2024-07-01T04:05:05.028357Z",
     "iopub.status.busy": "2024-07-01T04:05:05.028129Z",
     "iopub.status.idle": "2024-07-01T04:05:05.364222Z",
     "shell.execute_reply": "2024-07-01T04:05:05.363760Z"
    },
    "papermill": {
     "duration": 0.34266,
     "end_time": "2024-07-01T04:05:05.365652",
     "exception": false,
     "start_time": "2024-07-01T04:05:05.022992",
     "status": "completed"
    },
    "tags": []
   },
   "outputs": [],
   "source": [
    "from typing import List, Optional, Generator\n",
    "import pandas as pd\n",
    "import numpy as np\n",
    "import sqlite3\n",
    "import re\n",
    "import io\n",
    "import math\n",
    "import collections\n",
    "import itertools\n",
    "import functools\n",
    "import random\n",
    "import string\n",
    "import tqdm\n",
    "import bisect\n",
    "import heapq\n",
    "\n",
    "conn = sqlite3.connect(\":memory:\")\n",
    "\n",
    "def regexp(expr, item):\n",
    "    reg = re.compile(expr)\n",
    "    return reg.search(item) is not None\n",
    "\n",
    "def read_lc_df(s: str, dtypes: dict[str, str]=dict()) -> pd.DataFrame:\n",
    "    temp = pd.read_csv(io.StringIO(s), sep=\"|\", skiprows=2)\n",
    "    temp = temp.iloc[1:-1, 1:-1]\n",
    "    temp.columns = temp.columns.map(str.strip)\n",
    "    temp = temp.map(lambda x: x if type(x) != str else None if x.strip() == 'null' else x.strip())\n",
    "    temp = temp.astype(dtypes)\n",
    "    return temp\n",
    "\n",
    "conn.create_function(\"REGEXP\", 2, regexp)"
   ]
  },
  {
   "cell_type": "markdown",
   "id": "db473660",
   "metadata": {
    "papermill": {
     "duration": 0.003379,
     "end_time": "2024-07-01T04:05:05.372799",
     "exception": false,
     "start_time": "2024-07-01T04:05:05.369420",
     "status": "completed"
    },
    "tags": []
   },
   "source": [
    "#### Helper for Binary tree problems"
   ]
  },
  {
   "cell_type": "code",
   "execution_count": 2,
   "id": "6e8896c0",
   "metadata": {
    "execution": {
     "iopub.execute_input": "2024-07-01T04:05:05.380663Z",
     "iopub.status.busy": "2024-07-01T04:05:05.380165Z",
     "iopub.status.idle": "2024-07-01T04:05:05.387180Z",
     "shell.execute_reply": "2024-07-01T04:05:05.386753Z"
    },
    "lines_to_next_cell": 1,
    "papermill": {
     "duration": 0.01221,
     "end_time": "2024-07-01T04:05:05.388290",
     "exception": false,
     "start_time": "2024-07-01T04:05:05.376080",
     "status": "completed"
    },
    "tags": []
   },
   "outputs": [],
   "source": [
    "class BinaryTreeNode:\n",
    "    def __init__(self, val=0, left=None, right=None):\n",
    "        self.val = val\n",
    "        self.left = left\n",
    "        self.right = right\n",
    "\n",
    "    def to_list(self):\n",
    "        to_visit = [self]\n",
    "        visited = []\n",
    "        while len(to_visit) > 0:\n",
    "            curr = to_visit.pop(0)\n",
    "            if curr:\n",
    "                to_visit.append(curr.left)\n",
    "                to_visit.append(curr.right)\n",
    "                visited.append(curr.val)\n",
    "            else:\n",
    "                visited.append(curr)\n",
    "\n",
    "        while visited and not visited[-1]:\n",
    "            visited.pop()\n",
    "\n",
    "        return visited\n",
    "\n",
    "    def __str__(self):\n",
    "        return str(self.val)\n",
    "\n",
    "    @staticmethod\n",
    "    def from_array(nums: list[int|None]):\n",
    "        '''Create a Tree from a list of nums. Returns the root node.'''\n",
    "        if len(nums) == 0:\n",
    "            return None\n",
    "        elif len(nums) == 1:\n",
    "            return BinaryTreeNode(nums[0])\n",
    "        else:\n",
    "            forest = [BinaryTreeNode(nums[0])]\n",
    "            parent_idx = -1\n",
    "            for i in range(1, len(nums)):\n",
    "\n",
    "                curr = None\n",
    "                if nums[i] is not None:\n",
    "                    curr = BinaryTreeNode(nums[i])\n",
    "                    forest.append(curr)\n",
    "\n",
    "                if i % 2 == 1:\n",
    "                    parent_idx += 1\n",
    "                    forest[parent_idx].left = curr\n",
    "                else:\n",
    "                    forest[parent_idx].right = curr\n",
    "\n",
    "        return forest[0]"
   ]
  },
  {
   "cell_type": "markdown",
   "id": "de5b1765",
   "metadata": {
    "papermill": {
     "duration": 0.003321,
     "end_time": "2024-07-01T04:05:05.395034",
     "exception": false,
     "start_time": "2024-07-01T04:05:05.391713",
     "status": "completed"
    },
    "tags": []
   },
   "source": [
    "#### Helper for Singly Linked lists"
   ]
  },
  {
   "cell_type": "code",
   "execution_count": 3,
   "id": "e736c8a5",
   "metadata": {
    "execution": {
     "iopub.execute_input": "2024-07-01T04:05:05.403317Z",
     "iopub.status.busy": "2024-07-01T04:05:05.403140Z",
     "iopub.status.idle": "2024-07-01T04:05:05.407591Z",
     "shell.execute_reply": "2024-07-01T04:05:05.407077Z"
    },
    "lines_to_next_cell": 1,
    "papermill": {
     "duration": 0.00946,
     "end_time": "2024-07-01T04:05:05.408704",
     "exception": false,
     "start_time": "2024-07-01T04:05:05.399244",
     "status": "completed"
    },
    "tags": []
   },
   "outputs": [],
   "source": [
    "class ListNode:\n",
    "    def __init__(self, val=0, next=None):\n",
    "        self.val = val\n",
    "        self.next = next\n",
    "\n",
    "    def __str__(self):\n",
    "        return str(self.val)\n",
    "\n",
    "    @staticmethod\n",
    "    def to_singly_linked_list(nums: list[int]):\n",
    "        root = prev = None\n",
    "        for n in nums:\n",
    "            curr = ListNode(n)\n",
    "            # Init once\n",
    "            if not root:\n",
    "                root = curr\n",
    "            if prev:\n",
    "                prev.next = curr\n",
    "            prev = curr\n",
    "\n",
    "        return root\n",
    "\n",
    "    def to_list(self) -> list[int]:\n",
    "        result = []\n",
    "        curr = self\n",
    "        while curr:\n",
    "            result.append(curr.val)\n",
    "            curr = curr.next\n",
    "        return result"
   ]
  },
  {
   "cell_type": "markdown",
   "id": "cd635853",
   "metadata": {
    "papermill": {
     "duration": 0.00338,
     "end_time": "2024-07-01T04:05:05.415464",
     "exception": false,
     "start_time": "2024-07-01T04:05:05.412084",
     "status": "completed"
    },
    "tags": []
   },
   "source": [
    "Codeforces practice"
   ]
  },
  {
   "cell_type": "code",
   "execution_count": 4,
   "id": "df35356a",
   "metadata": {
    "execution": {
     "iopub.execute_input": "2024-07-01T04:05:05.422973Z",
     "iopub.status.busy": "2024-07-01T04:05:05.422657Z",
     "iopub.status.idle": "2024-07-01T04:05:05.426935Z",
     "shell.execute_reply": "2024-07-01T04:05:05.426426Z"
    },
    "lines_to_next_cell": 1,
    "papermill": {
     "duration": 0.009151,
     "end_time": "2024-07-01T04:05:05.427948",
     "exception": false,
     "start_time": "2024-07-01T04:05:05.418797",
     "status": "completed"
    },
    "tags": []
   },
   "outputs": [],
   "source": [
    "# https://codeforces.com/problemset/problem/1984/B\n",
    "def large_addition(N: int) -> bool:\n",
    "    if N < 10:\n",
    "        return False\n",
    "    else:\n",
    "        N_str: str = str(N)\n",
    "        length = len(N_str)\n",
    "        for i in range(length):\n",
    "            if i == 0 and N_str[i] != '1':\n",
    "                return False\n",
    "            elif i == length - 1 and N_str[i] == '9':\n",
    "                return False\n",
    "            elif i not in (0, length - 1) and N_str[i] == '0':\n",
    "                return False\n",
    "\n",
    "        return True\n",
    "\n",
    "# Testing the solution\n",
    "assert large_addition(1393938) == True\n",
    "assert large_addition(200) == False\n",
    "assert large_addition(10) == True"
   ]
  },
  {
   "cell_type": "markdown",
   "id": "80b62de1",
   "metadata": {
    "papermill": {
     "duration": 0.003286,
     "end_time": "2024-07-01T04:05:05.434612",
     "exception": false,
     "start_time": "2024-07-01T04:05:05.431326",
     "status": "completed"
    },
    "tags": []
   },
   "source": [
    "LC Virtual: 25th June 2024\n",
    "https://leetcode.com/contest/smarking-algorithm-contest-3/"
   ]
  },
  {
   "cell_type": "code",
   "execution_count": 5,
   "id": "ec2db856",
   "metadata": {
    "execution": {
     "iopub.execute_input": "2024-07-01T04:05:05.442259Z",
     "iopub.status.busy": "2024-07-01T04:05:05.441885Z",
     "iopub.status.idle": "2024-07-01T04:05:05.445773Z",
     "shell.execute_reply": "2024-07-01T04:05:05.445274Z"
    },
    "lines_to_next_cell": 1,
    "papermill": {
     "duration": 0.008878,
     "end_time": "2024-07-01T04:05:05.446826",
     "exception": false,
     "start_time": "2024-07-01T04:05:05.437948",
     "status": "completed"
    },
    "tags": []
   },
   "outputs": [],
   "source": [
    "# Q1\n",
    "# https://www.youtube.com/watch?v=x8T11yRLIyY\n",
    "def minMoves(nums: list[int]) -> int:\n",
    "    \"\"\"\n",
    "    Intution: Instead of increasing all n - 1 elements by 1 each time, try to decrement\n",
    "    the max element to the smallest element. Relative distances between numbers are the same.\n",
    "    \"\"\"\n",
    "    nums.sort()\n",
    "    result = 0\n",
    "    for i in range(len(nums) - 1, -1, -1):\n",
    "        result += nums[i] - nums[0]\n",
    "    return result\n",
    "\n",
    "# Testing the solution\n",
    "assert minMoves([1,2,3,4]) == 6\n",
    "assert minMoves([1,2,3]) == 3"
   ]
  },
  {
   "cell_type": "code",
   "execution_count": 6,
   "id": "46f751bf",
   "metadata": {
    "execution": {
     "iopub.execute_input": "2024-07-01T04:05:05.454535Z",
     "iopub.status.busy": "2024-07-01T04:05:05.454216Z",
     "iopub.status.idle": "2024-07-01T04:05:05.459548Z",
     "shell.execute_reply": "2024-07-01T04:05:05.459008Z"
    },
    "lines_to_next_cell": 1,
    "papermill": {
     "duration": 0.010367,
     "end_time": "2024-07-01T04:05:05.460573",
     "exception": false,
     "start_time": "2024-07-01T04:05:05.450206",
     "status": "completed"
    },
    "tags": []
   },
   "outputs": [],
   "source": [
    "# Q2\n",
    "def numberOfBoomerangs(points: list[list[int]]) -> int:\n",
    "    def distance(pt1: list[int], pt2: list[int]) -> float:\n",
    "        return math.sqrt(((pt1[0] - pt2[0]) ** 2) + ((pt1[1] - pt2[1]) ** 2))\n",
    "\n",
    "    boommerangs: int = 0\n",
    "    N = len(points)\n",
    "    for i in range(N):\n",
    "        curr = points[i]\n",
    "        distances: dict[float, int] = dict()\n",
    "        for j in range(N):\n",
    "            if j != i:\n",
    "                dist = distance(points[i], points[j])\n",
    "                distances[dist] = distances.get(dist, 0) + 1\n",
    "\n",
    "        for count in distances.values():\n",
    "            boommerangs += math.perm(count, 2)\n",
    "\n",
    "    return boommerangs\n",
    "\n",
    "# Testing the solution\n",
    "assert numberOfBoomerangs([[0,0],[1,0],[2,0]]) == 2\n",
    "assert numberOfBoomerangs([[1,1],[2,2],[3,3]]) == 2\n",
    "assert numberOfBoomerangs([[1,1]]) == 0"
   ]
  },
  {
   "cell_type": "code",
   "execution_count": 7,
   "id": "06c17597",
   "metadata": {
    "execution": {
     "iopub.execute_input": "2024-07-01T04:05:05.468336Z",
     "iopub.status.busy": "2024-07-01T04:05:05.467975Z",
     "iopub.status.idle": "2024-07-01T04:05:05.473026Z",
     "shell.execute_reply": "2024-07-01T04:05:05.472516Z"
    },
    "lines_to_next_cell": 1,
    "papermill": {
     "duration": 0.010121,
     "end_time": "2024-07-01T04:05:05.474033",
     "exception": false,
     "start_time": "2024-07-01T04:05:05.463912",
     "status": "completed"
    },
    "tags": []
   },
   "outputs": [],
   "source": [
    "# Q3\n",
    "def findMinArrowShots(points: list[list[int]]) -> int:\n",
    "    # Sort by end and merge the start, end\n",
    "    points.sort(key=lambda x: (x[1], x[0]))\n",
    "\n",
    "    # Merge the intervals\n",
    "    merged_intervals: list[tuple[int, int]] = []\n",
    "    for start, end in points:\n",
    "        if merged_intervals and merged_intervals[-1][1] >= start:\n",
    "            merged_intervals[-1] = max(merged_intervals[-1][0], start), min(merged_intervals[-1][1], end)\n",
    "        else:\n",
    "            merged_intervals.append((start, end))\n",
    "\n",
    "    return len(merged_intervals)\n",
    "\n",
    "# Testing the solution\n",
    "assert findMinArrowShots([[10,16],[2,8],[1,6],[7,12]]) == 2\n",
    "assert findMinArrowShots([[1,2],[3,4],[5,6],[7,8]]) == 4\n",
    "assert findMinArrowShots([[1,2],[2,3],[3,4],[4,5]]) == 2"
   ]
  },
  {
   "cell_type": "code",
   "execution_count": 8,
   "id": "602ae596",
   "metadata": {
    "execution": {
     "iopub.execute_input": "2024-07-01T04:05:05.481839Z",
     "iopub.status.busy": "2024-07-01T04:05:05.481447Z",
     "iopub.status.idle": "2024-07-01T04:05:05.485929Z",
     "shell.execute_reply": "2024-07-01T04:05:05.485419Z"
    },
    "lines_to_next_cell": 1,
    "papermill": {
     "duration": 0.009523,
     "end_time": "2024-07-01T04:05:05.486968",
     "exception": false,
     "start_time": "2024-07-01T04:05:05.477445",
     "status": "completed"
    },
    "tags": []
   },
   "outputs": [],
   "source": [
    "# Q4\n",
    "def numberOfArithmeticSlicesBrute(nums: list[int]) -> int:\n",
    "    def is_valid(sub: list[int]) -> bool:\n",
    "        if len(sub) < 3:\n",
    "            return False\n",
    "        else:\n",
    "            diff = sub[1] - sub[0]\n",
    "            for i in range(len(sub) - 1):\n",
    "                if sub[i + 1] - sub[i] != diff:\n",
    "                    return False\n",
    "            return True\n",
    "\n",
    "    count = 0\n",
    "    def backtrack(i: int, subseq: list[int]):\n",
    "        if i == N:\n",
    "            count += is_valid(subseq)\n",
    "        else:\n",
    "            subseq.append(nums[i])\n",
    "            backtrack(i + 1, subseq)\n",
    "            subseq.pop()\n",
    "            backtrack(i + 1, subseq)\n",
    "\n",
    "    N = len(nums)\n",
    "    backtrack(0, [])\n",
    "    return count"
   ]
  },
  {
   "cell_type": "code",
   "execution_count": 9,
   "id": "f1e64142",
   "metadata": {
    "execution": {
     "iopub.execute_input": "2024-07-01T04:05:05.494767Z",
     "iopub.status.busy": "2024-07-01T04:05:05.494316Z",
     "iopub.status.idle": "2024-07-01T04:05:05.499138Z",
     "shell.execute_reply": "2024-07-01T04:05:05.498695Z"
    },
    "lines_to_next_cell": 1,
    "papermill": {
     "duration": 0.009871,
     "end_time": "2024-07-01T04:05:05.500176",
     "exception": false,
     "start_time": "2024-07-01T04:05:05.490305",
     "status": "completed"
    },
    "tags": []
   },
   "outputs": [],
   "source": [
    "# Upsolving\n",
    "# https://www.youtube.com/watch?v=YIMwwT9JdIE\n",
    "def numberOfArithmeticSlices(nums: list[int]) -> int:\n",
    "    \"\"\"\n",
    "    Ending at index 'j' what is maximum number of arthimetic subsequences that I can form >= 2\n",
    "    \"\"\"\n",
    "    N = len(nums)\n",
    "    dp: list[collections.defaultdict[int, int]] = [collections.defaultdict(int) for _ in range(N)]\n",
    "    sub_count = dp_sum = 0\n",
    "    for j in range(N):\n",
    "        for i in range(j):\n",
    "            delta = nums[i] - nums[j]\n",
    "            dp[j][delta] += dp[i][delta] + 1\n",
    "            sub_count, dp_sum = sub_count + 1, dp_sum + dp[i][delta] + 1\n",
    "\n",
    "    return dp_sum - sub_count\n",
    "\n",
    "# Testing the solution\n",
    "assert numberOfArithmeticSlices([2,4,6,8,10]) == 7\n",
    "assert numberOfArithmeticSlices([7,7,7,7,7]) == 16"
   ]
  },
  {
   "cell_type": "markdown",
   "id": "79053be1",
   "metadata": {
    "papermill": {
     "duration": 0.003332,
     "end_time": "2024-07-01T04:05:05.506920",
     "exception": false,
     "start_time": "2024-07-01T04:05:05.503588",
     "status": "completed"
    },
    "tags": []
   },
   "source": [
    "LC VC: June 26th 2024"
   ]
  },
  {
   "cell_type": "code",
   "execution_count": 10,
   "id": "2e438aa0",
   "metadata": {
    "execution": {
     "iopub.execute_input": "2024-07-01T04:05:05.514689Z",
     "iopub.status.busy": "2024-07-01T04:05:05.514274Z",
     "iopub.status.idle": "2024-07-01T04:05:05.518941Z",
     "shell.execute_reply": "2024-07-01T04:05:05.518504Z"
    },
    "lines_to_next_cell": 1,
    "papermill": {
     "duration": 0.009734,
     "end_time": "2024-07-01T04:05:05.520023",
     "exception": false,
     "start_time": "2024-07-01T04:05:05.510289",
     "status": "completed"
    },
    "tags": []
   },
   "outputs": [],
   "source": [
    "# Q4: Pattern 132\n",
    "# https://www.youtube.com/watch?v=q5ANAl8Z458\n",
    "# https://leetcode.com/problems/132-pattern/submissions/1301126531/\n",
    "def find132pattern(nums: list[int]) -> bool:\n",
    "    N = len(nums)\n",
    "\n",
    "    # Monotonic stack, storing min values till index - value, min pairs\n",
    "    stack: list[tuple[int, int]] = []\n",
    "    min_: int = nums[0]\n",
    "\n",
    "    for n in nums:\n",
    "        while stack and stack[-1][0] <= n:\n",
    "            stack.pop()\n",
    "\n",
    "        if stack and stack[-1][1] < n:\n",
    "            return True\n",
    "\n",
    "        stack.append((n, min_))\n",
    "        min_ = min(min_, n)\n",
    "\n",
    "    return False\n",
    "\n",
    "# Testing the solution\n",
    "assert find132pattern([1,2,3,4]) == False\n",
    "assert find132pattern([3,1,4,2]) == True\n",
    "assert find132pattern([-1,3,2,0]) == True\n",
    "assert find132pattern([3,1,2]) == False"
   ]
  },
  {
   "cell_type": "markdown",
   "id": "6afba366",
   "metadata": {
    "papermill": {
     "duration": 0.003267,
     "end_time": "2024-07-01T04:05:05.526652",
     "exception": false,
     "start_time": "2024-07-01T04:05:05.523385",
     "status": "completed"
    },
    "tags": []
   },
   "source": [
    "Balance a Binary Search tree"
   ]
  },
  {
   "cell_type": "code",
   "execution_count": 11,
   "id": "47bab318",
   "metadata": {
    "execution": {
     "iopub.execute_input": "2024-07-01T04:05:05.534310Z",
     "iopub.status.busy": "2024-07-01T04:05:05.533945Z",
     "iopub.status.idle": "2024-07-01T04:05:05.539358Z",
     "shell.execute_reply": "2024-07-01T04:05:05.538868Z"
    },
    "lines_to_next_cell": 1,
    "papermill": {
     "duration": 0.010453,
     "end_time": "2024-07-01T04:05:05.540444",
     "exception": false,
     "start_time": "2024-07-01T04:05:05.529991",
     "status": "completed"
    },
    "tags": []
   },
   "outputs": [
    {
     "name": "stdout",
     "output_type": "stream",
     "text": [
      "[3, 2, 4, 1]\n"
     ]
    }
   ],
   "source": [
    "# https://leetcode.com/problems/balance-a-binary-search-tree/submissions/1301150197\n",
    "def balanceBST(root: BinaryTreeNode) -> BinaryTreeNode|None:\n",
    "    def createBalancedBST(nodes_: list[int]) -> BinaryTreeNode|None:\n",
    "        N = len(nodes_)\n",
    "        if N == 0:\n",
    "            return None\n",
    "        else:\n",
    "            mid = N // 2\n",
    "            root_: BinaryTreeNode = BinaryTreeNode(nodes_[mid])\n",
    "            root_.left = createBalancedBST(nodes_[:mid])\n",
    "            root_.right = createBalancedBST(nodes_[mid + 1:])\n",
    "            return root_\n",
    "\n",
    "    # 1. Retrieve all elements in-order traversal (left, root, right), this returns an array in sorted order\n",
    "    curr: BinaryTreeNode = root\n",
    "    nodes: list[int] = []\n",
    "    stack: list[BinaryTreeNode] = []\n",
    "    while True:\n",
    "        while curr:\n",
    "            stack.append(curr)\n",
    "            curr = curr.left\n",
    "        if stack:\n",
    "            curr = stack.pop()\n",
    "            nodes.append(curr.val)\n",
    "            curr = curr.right\n",
    "        else:\n",
    "            break\n",
    "\n",
    "    # 2. Create a BST from the nodes: Take the middle element as the root, create left and right subtree recursively\n",
    "    return createBalancedBST(nodes)\n",
    "\n",
    "# Testing the solution\n",
    "print(balanceBST(BinaryTreeNode.from_array([1,None,2,None,3,None,4,None,None])).to_list())"
   ]
  },
  {
   "cell_type": "markdown",
   "id": "304faf22",
   "metadata": {
    "papermill": {
     "duration": 0.003363,
     "end_time": "2024-07-01T04:05:05.547306",
     "exception": false,
     "start_time": "2024-07-01T04:05:05.543943",
     "status": "completed"
    },
    "tags": []
   },
   "source": [
    "LC Practice"
   ]
  },
  {
   "cell_type": "code",
   "execution_count": 12,
   "id": "0ac43f3b",
   "metadata": {
    "execution": {
     "iopub.execute_input": "2024-07-01T04:05:05.555049Z",
     "iopub.status.busy": "2024-07-01T04:05:05.554660Z",
     "iopub.status.idle": "2024-07-01T04:05:05.558706Z",
     "shell.execute_reply": "2024-07-01T04:05:05.558261Z"
    },
    "lines_to_next_cell": 1,
    "papermill": {
     "duration": 0.009046,
     "end_time": "2024-07-01T04:05:05.559739",
     "exception": false,
     "start_time": "2024-07-01T04:05:05.550693",
     "status": "completed"
    },
    "tags": []
   },
   "outputs": [],
   "source": [
    "def subarraySum(nums: list[int], k: int) -> int:\n",
    "    prefix: collections.defaultdict = collections.defaultdict(int)\n",
    "    prefix[0], count, psum = 1, 0, 0\n",
    "    for n in nums:\n",
    "        psum += n\n",
    "        count += prefix[psum - k]\n",
    "        prefix[psum] += 1\n",
    "\n",
    "    return count\n",
    "\n",
    "# Testing the solution\n",
    "assert subarraySum([1,2,3], 3) == 2\n",
    "assert subarraySum([1,1,1], 2) == 2"
   ]
  },
  {
   "cell_type": "code",
   "execution_count": 13,
   "id": "b278e908",
   "metadata": {
    "execution": {
     "iopub.execute_input": "2024-07-01T04:05:05.567542Z",
     "iopub.status.busy": "2024-07-01T04:05:05.567162Z",
     "iopub.status.idle": "2024-07-01T04:05:05.572658Z",
     "shell.execute_reply": "2024-07-01T04:05:05.572162Z"
    },
    "lines_to_next_cell": 1,
    "papermill": {
     "duration": 0.010501,
     "end_time": "2024-07-01T04:05:05.573693",
     "exception": false,
     "start_time": "2024-07-01T04:05:05.563192",
     "status": "completed"
    },
    "tags": []
   },
   "outputs": [],
   "source": [
    "# https://leetcode.com/problems/continuous-subarray-sum/submissions/1301461461/\n",
    "def checkSubarraySum(nums: list[int], k: int) -> bool:\n",
    "    N = len(nums)\n",
    "    prefix: dict[int, int] = {0: -1}\n",
    "    psum = 0\n",
    "    for i in range(N):\n",
    "        psum = (psum + nums[i]) % k\n",
    "        if i - prefix.get(psum, i) >= 2:\n",
    "            return True\n",
    "        prefix[psum] = min(prefix.get(psum, i), i)\n",
    "\n",
    "    return False\n",
    "\n",
    "# Testing the solution\n",
    "assert checkSubarraySum([23,2,4,6,7], 6) == True\n",
    "assert checkSubarraySum([0], 1) == False\n",
    "assert checkSubarraySum([23,2,6,4,7,13], 13) == False\n",
    "assert checkSubarraySum([23,2,6,4,7,13,13], 13) == True\n",
    "assert checkSubarraySum([1,0], 2) == False\n",
    "assert checkSubarraySum([1,2,3,4], 6) == True"
   ]
  },
  {
   "cell_type": "markdown",
   "id": "b3ac55c5",
   "metadata": {
    "papermill": {
     "duration": 0.003409,
     "end_time": "2024-07-01T04:05:05.580537",
     "exception": false,
     "start_time": "2024-07-01T04:05:05.577128",
     "status": "completed"
    },
    "tags": []
   },
   "source": [
    "Check if array is sorted and rotated"
   ]
  },
  {
   "cell_type": "code",
   "execution_count": 14,
   "id": "05c610bc",
   "metadata": {
    "execution": {
     "iopub.execute_input": "2024-07-01T04:05:05.588486Z",
     "iopub.status.busy": "2024-07-01T04:05:05.588036Z",
     "iopub.status.idle": "2024-07-01T04:05:05.592584Z",
     "shell.execute_reply": "2024-07-01T04:05:05.592085Z"
    },
    "lines_to_next_cell": 1,
    "papermill": {
     "duration": 0.009555,
     "end_time": "2024-07-01T04:05:05.593602",
     "exception": false,
     "start_time": "2024-07-01T04:05:05.584047",
     "status": "completed"
    },
    "tags": []
   },
   "outputs": [],
   "source": [
    "def checkArraySortedAndRotated(nums: list[int]) -> bool:\n",
    "    N = len(nums)\n",
    "    count = 0\n",
    "    for i in range(N - 1):\n",
    "        count += nums[i + 1] < nums[i]\n",
    "    return count == 0 or (count == 1 and nums[0] > nums[-1])\n",
    "\n",
    "# Testing the solution\n",
    "assert checkArraySortedAndRotated([3,4,5,1,2]) == True\n",
    "assert checkArraySortedAndRotated([2,1,3,4]) == False\n",
    "assert checkArraySortedAndRotated([3,2,1]) == False"
   ]
  },
  {
   "cell_type": "markdown",
   "id": "2d033d8f",
   "metadata": {
    "papermill": {
     "duration": 0.003434,
     "end_time": "2024-07-01T04:05:05.600392",
     "exception": false,
     "start_time": "2024-07-01T04:05:05.596958",
     "status": "completed"
    },
    "tags": []
   },
   "source": [
    "All ancestors of a node in a DAG"
   ]
  },
  {
   "cell_type": "code",
   "execution_count": 15,
   "id": "50e7e595",
   "metadata": {
    "execution": {
     "iopub.execute_input": "2024-07-01T04:05:05.608271Z",
     "iopub.status.busy": "2024-07-01T04:05:05.607835Z",
     "iopub.status.idle": "2024-07-01T04:05:05.614199Z",
     "shell.execute_reply": "2024-07-01T04:05:05.613746Z"
    },
    "lines_to_next_cell": 1,
    "papermill": {
     "duration": 0.011367,
     "end_time": "2024-07-01T04:05:05.615194",
     "exception": false,
     "start_time": "2024-07-01T04:05:05.603827",
     "status": "completed"
    },
    "tags": []
   },
   "outputs": [],
   "source": [
    "# https://leetcode.com/problems/all-ancestors-of-a-node-in-a-directed-acyclic-graph/submissions/1304043339\n",
    "def getAncestors(N: int, edges: list[list[int]]) -> list[list[int]]:\n",
    "    @functools.cache\n",
    "    def DFS(n: int) -> set[int]:\n",
    "        ancestors: set[int] = set()\n",
    "        for next_ in adjl[n]:\n",
    "            ancestors.add(next_)\n",
    "            for next_ancestor in DFS(next_):\n",
    "                ancestors.add(next_ancestor)\n",
    "        return ancestors\n",
    "\n",
    "    adjl: collections.defaultdict[int, list[int]] = collections.defaultdict(list)\n",
    "    for n1, n2 in edges:\n",
    "        adjl[n2].append(n1)\n",
    "\n",
    "    result: list[list[int]] = [[] for _ in range(N)]\n",
    "    for i in range(N):\n",
    "        result[i] = sorted(DFS(i))\n",
    "\n",
    "    return result\n",
    "\n",
    "# Testing the solution\n",
    "assert getAncestors(8, [[0,3],[0,4],[1,3],[2,4],[2,7],[3,5],[3,6],[3,7],[4,6]]) == [[],[],[],[0,1],[0,2],[0,1,3],[0,1,2,3,4],[0,1,2,3]]\n",
    "assert getAncestors(5, [[0,1],[0,2],[0,3],[0,4],[1,2],[1,3],[1,4],[2,3],[2,4],[3,4]]) == [[],[0],[0,1],[0,1,2],[0,1,2,3]]"
   ]
  },
  {
   "cell_type": "markdown",
   "id": "0fb25f1d",
   "metadata": {
    "papermill": {
     "duration": 0.003505,
     "end_time": "2024-07-01T04:05:05.622167",
     "exception": false,
     "start_time": "2024-07-01T04:05:05.618662",
     "status": "completed"
    },
    "tags": []
   },
   "source": [
    "LC Contest: 30th June 2024"
   ]
  },
  {
   "cell_type": "code",
   "execution_count": 16,
   "id": "2cc84226",
   "metadata": {
    "execution": {
     "iopub.execute_input": "2024-07-01T04:05:05.629940Z",
     "iopub.status.busy": "2024-07-01T04:05:05.629598Z",
     "iopub.status.idle": "2024-07-01T04:05:05.634686Z",
     "shell.execute_reply": "2024-07-01T04:05:05.634180Z"
    },
    "lines_to_next_cell": 1,
    "papermill": {
     "duration": 0.010072,
     "end_time": "2024-07-01T04:05:05.635658",
     "exception": false,
     "start_time": "2024-07-01T04:05:05.625586",
     "status": "completed"
    },
    "tags": []
   },
   "outputs": [],
   "source": [
    "# Q1\n",
    "def maxHeightOfTriangle(red: int, blue: int) -> int:\n",
    "    @functools.cache\n",
    "    def backtrack(i: int) -> tuple[int, int]:\n",
    "        if i == 0:\n",
    "            return 0, 0\n",
    "        else:\n",
    "            prev = backtrack(i - 1)\n",
    "            if i % 2 == 0:\n",
    "                return prev[0], prev[1] + i\n",
    "            else:\n",
    "                return prev[0] + i, prev[1]\n",
    "\n",
    "    red, blue = sorted([red, blue])\n",
    "    low, high = 1, 20\n",
    "    while low <= high:\n",
    "        mid = (low + high) // 2\n",
    "        r, b = sorted(backtrack(mid))\n",
    "        if r <= red and b <= blue:\n",
    "            low = mid + 1\n",
    "        else:\n",
    "            high = mid - 1\n",
    "\n",
    "    return high\n",
    "\n",
    "# Testing the solution\n",
    "assert maxHeightOfTriangle(10, 1) == 2\n",
    "assert maxHeightOfTriangle(1, 1) == 1\n",
    "assert maxHeightOfTriangle(2, 1) == 2\n",
    "assert maxHeightOfTriangle(2, 4) == 3"
   ]
  },
  {
   "cell_type": "code",
   "execution_count": 17,
   "id": "3acecb65",
   "metadata": {
    "execution": {
     "iopub.execute_input": "2024-07-01T04:05:05.643424Z",
     "iopub.status.busy": "2024-07-01T04:05:05.643088Z",
     "iopub.status.idle": "2024-07-01T04:05:05.647632Z",
     "shell.execute_reply": "2024-07-01T04:05:05.647142Z"
    },
    "lines_to_next_cell": 1,
    "papermill": {
     "duration": 0.009648,
     "end_time": "2024-07-01T04:05:05.648713",
     "exception": false,
     "start_time": "2024-07-01T04:05:05.639065",
     "status": "completed"
    },
    "tags": []
   },
   "outputs": [],
   "source": [
    "# Q2\n",
    "def maximumLength(nums: list[int]) -> int:\n",
    "    \"\"\"\n",
    "    Either all consequetive element pairs should sum up to an even number or to an odd number\n",
    "\n",
    "    If all elements are to sum to an even number: either all should be even or all numbers should be odd => max(odd_count, even_count)\n",
    "    If all elements are to sum to an odd number: greedily check validity (consequetive elements should be odd-even or even-odd)\n",
    "    \"\"\"\n",
    "    odd_sum_length = odd_count = even_count = 0\n",
    "    prev = 0 if nums[0] % 2 else 1\n",
    "    for i in range(len(nums)):\n",
    "        if nums[i] % 2 == 0:\n",
    "            even_count += 1\n",
    "        else:\n",
    "            odd_count += 1\n",
    "\n",
    "        if nums[i] % 2 != prev:\n",
    "            odd_sum_length, prev = odd_sum_length + 1, nums[i] % 2\n",
    "\n",
    "    return max(odd_sum_length, odd_count, even_count)\n",
    "\n",
    "# Testing the solution\n",
    "assert maximumLength([1,2,3,4]) == 4\n",
    "assert maximumLength([1,2,1,1,2,1,2]) == 6\n",
    "assert maximumLength([1,3]) == 2"
   ]
  },
  {
   "cell_type": "markdown",
   "id": "7d9b395f",
   "metadata": {
    "papermill": {
     "duration": 0.003439,
     "end_time": "2024-07-01T04:05:05.655704",
     "exception": false,
     "start_time": "2024-07-01T04:05:05.652265",
     "status": "completed"
    },
    "tags": []
   },
   "source": [
    "search-query-auto-complete: Striver A2Z: First question"
   ]
  },
  {
   "cell_type": "code",
   "execution_count": 18,
   "id": "ac84136c",
   "metadata": {
    "execution": {
     "iopub.execute_input": "2024-07-01T04:05:05.663586Z",
     "iopub.status.busy": "2024-07-01T04:05:05.663269Z",
     "iopub.status.idle": "2024-07-01T04:05:05.671118Z",
     "shell.execute_reply": "2024-07-01T04:05:05.670602Z"
    },
    "lines_to_next_cell": 1,
    "papermill": {
     "duration": 0.012964,
     "end_time": "2024-07-01T04:05:05.672110",
     "exception": false,
     "start_time": "2024-07-01T04:05:05.659146",
     "status": "completed"
    },
    "tags": []
   },
   "outputs": [],
   "source": [
    "class AutoCompleteSystem:\n",
    "    def __init__(self, sentences: list[str], times: list[int]) -> None:\n",
    "        # Store a dictionary of sentences along with their frequencies\n",
    "        self.sentences: collections.defaultdict[str, int] = collections.defaultdict(lambda: 0)\n",
    "        self.acc: str = \"\"\n",
    "        for sentence, freq in zip(sentences, times):\n",
    "            self.sentences[sentence] = freq\n",
    "\n",
    "    def input(self, character: str) -> list[str]:\n",
    "        if character != '#':\n",
    "            self.acc += character\n",
    "            result: list[tuple[int, str]] = []\n",
    "            for sentence, freq in self.sentences.items():\n",
    "                if sentence.startswith(self.acc):\n",
    "                    result.append((-freq, sentence))\n",
    "            result.sort()\n",
    "            return list(map(lambda x: x[1], result[:3]))\n",
    "\n",
    "        else:\n",
    "            self.sentences[self.acc] += 1\n",
    "            self.acc = ''\n",
    "            return []\n",
    "\n",
    "# Testing the solution - 1\n",
    "temp = AutoCompleteSystem([\"i love you\", \"island\", \"ironman\", \"i love geeksforgeeks\"], [5,3,2,2])\n",
    "assert temp.input(\"i\") == [\"i love you\", \"island\",\"i love geeksforgeeks\"]\n",
    "assert temp.input(\" \") == [\"i love you\", \"i love geeksforgeeks\"]\n",
    "assert temp.input(\"a\") == []\n",
    "assert temp.input(\"#\") == []\n",
    "assert temp.input(\"i\") == ['i love you', 'island', 'i love geeksforgeeks']\n",
    "assert temp.input(\" \") == ['i love you', 'i love geeksforgeeks', 'i a']\n",
    "assert temp.input(\"a\") == ['i a']\n",
    "assert temp.input(\"m\") == []\n",
    "assert temp.input(\"#\") == []\n",
    "assert temp.input(\"i\") == ['i love you', 'island', 'i love geeksforgeeks']\n",
    "assert temp.input(\" \") == ['i love you', 'i love geeksforgeeks', 'i a']\n",
    "assert temp.input(\"a\") == ['i a', 'i am']\n",
    "assert temp.input(\"m\") == ['i am']\n",
    "assert temp.input(\" \") == []"
   ]
  },
  {
   "cell_type": "markdown",
   "id": "4629edb8",
   "metadata": {},
   "source": [
    "Patterns practice"
   ]
  },
  {
   "cell_type": "code",
   "execution_count": null,
   "id": "0a0790b9",
   "metadata": {
    "lines_to_next_cell": 1
   },
   "outputs": [],
   "source": [
    "def p1(N: int) -> None:\n",
    "    for i in range(N):\n",
    "        for j in range(N):\n",
    "            print('*', end='')\n",
    "        print()\n",
    "\n",
    "# Testing the solution\n",
    "p1(5)"
   ]
  },
  {
   "cell_type": "code",
   "execution_count": null,
   "id": "3917a2b2",
   "metadata": {
    "lines_to_next_cell": 1
   },
   "outputs": [],
   "source": [
    "def p2(N: int) -> None:\n",
    "    for i in range(N):\n",
    "        for j in range(i + 1):\n",
    "            print(\"*\", end='')\n",
    "        print()\n",
    "\n",
    "# Testing the solution\n",
    "p2(5)"
   ]
  },
  {
   "cell_type": "code",
   "execution_count": null,
   "id": "1a2807e5",
   "metadata": {
    "lines_to_next_cell": 1
   },
   "outputs": [],
   "source": [
    "def p3(N: int) -> None:\n",
    "    for i in range(N):\n",
    "        for j in range(i + 1):\n",
    "            print(j + 1, end=' ')\n",
    "        print()\n",
    "\n",
    "# Testing the solution\n",
    "p3(5)"
   ]
  },
  {
   "cell_type": "code",
   "execution_count": null,
   "id": "a81ab688",
   "metadata": {
    "lines_to_next_cell": 1
   },
   "outputs": [],
   "source": [
    "def p4(N: int) -> None:\n",
    "    for i in range(N):\n",
    "        for j in range(i + 1):\n",
    "            print(i + 1, end=' ')\n",
    "        print()\n",
    "\n",
    "# Testing the solution\n",
    "p4(5)"
   ]
  },
  {
   "cell_type": "code",
   "execution_count": null,
   "id": "a3ae50be",
   "metadata": {
    "lines_to_next_cell": 1
   },
   "outputs": [],
   "source": [
    "def p5(N: int) -> None:\n",
    "    for i in range(N, 0, -1):\n",
    "        for j in range(i):\n",
    "            print(\"*\", end='')\n",
    "        print()\n",
    "\n",
    "# Testing the solution\n",
    "p5(5)"
   ]
  },
  {
   "cell_type": "code",
   "execution_count": null,
   "id": "2c02ed3c",
   "metadata": {
    "lines_to_next_cell": 1
   },
   "outputs": [],
   "source": [
    "def p6(N: int) -> None:\n",
    "    for i in range(N, 0, -1):\n",
    "        for j in range(i):\n",
    "            print(j + 1, end='')\n",
    "        print()\n",
    "\n",
    "# Testing the solution\n",
    "p6(5)"
   ]
  },
  {
   "cell_type": "code",
   "execution_count": null,
   "id": "126c1e65",
   "metadata": {
    "lines_to_next_cell": 1
   },
   "outputs": [],
   "source": [
    "def p7(N: int) -> None:\n",
    "    max_stars: int = (2 * N) - 1\n",
    "    for i in range(1, N + 1):\n",
    "        stars: int = (2 * i) - 1\n",
    "        half = (max_stars - stars) // 2\n",
    "        for j in range(half):\n",
    "            print(\" \", end='')\n",
    "        for j in range(stars):\n",
    "            print(\"*\", end='')\n",
    "        for j in range(half):\n",
    "            print(\" \", end='')\n",
    "        print()\n",
    "\n",
    "# Testing the solution\n",
    "p7(5)"
   ]
  },
  {
   "cell_type": "code",
   "execution_count": null,
   "id": "cb4e9553",
   "metadata": {
    "lines_to_next_cell": 1
   },
   "outputs": [],
   "source": [
    "def p8(N: int) -> None:\n",
    "    max_stars: int = (2 * N) - 1\n",
    "    for i in range(N, 0, -1):\n",
    "        stars: int = (2 * i) - 1\n",
    "        half = (max_stars - stars) // 2\n",
    "        for j in range(half):\n",
    "            print(\" \", end='')\n",
    "        for j in range(stars):\n",
    "            print(\"*\", end='')\n",
    "        for j in range(half):\n",
    "            print(\" \", end='')\n",
    "        print()\n",
    "\n",
    "# Testing the solution\n",
    "p8(5)"
   ]
  },
  {
   "cell_type": "code",
   "execution_count": null,
   "id": "7c80140a",
   "metadata": {
    "lines_to_next_cell": 1
   },
   "outputs": [],
   "source": [
    "def p9(N: int) -> None:\n",
    "    p7(N)\n",
    "    p8(N)\n",
    "\n",
    "# Testing the solution\n",
    "p9(5)"
   ]
  },
  {
   "cell_type": "code",
   "execution_count": null,
   "id": "2e32fb2d",
   "metadata": {
    "lines_to_next_cell": 1
   },
   "outputs": [],
   "source": [
    "def p10(N: int) -> None:\n",
    "    for i in range(N):\n",
    "        for j in range(i + 1):\n",
    "            print(\"*\", end='')\n",
    "        print()\n",
    "\n",
    "    for i in range(N - 1, 0, -1):\n",
    "        for j in range(i):\n",
    "            print(\"*\", end='')\n",
    "        print()\n",
    "\n",
    "# Testing the solution\n",
    "p10(5)"
   ]
  },
  {
   "cell_type": "code",
   "execution_count": null,
   "id": "36d6b021",
   "metadata": {
    "lines_to_next_cell": 1
   },
   "outputs": [],
   "source": [
    "def p11(N: int) -> None:\n",
    "    for i in range(N):\n",
    "        for j in range(i + 1):\n",
    "            print(1 if i % 2 == j % 2 else 0, end=\" \")\n",
    "        print()\n",
    "\n",
    "# Testing the solution\n",
    "p11(5)"
   ]
  },
  {
   "cell_type": "code",
   "execution_count": null,
   "id": "ff248593",
   "metadata": {
    "lines_to_next_cell": 1
   },
   "outputs": [],
   "source": [
    "def p12(N: int) -> None:\n",
    "    for i in range(1, N + 1):\n",
    "        for j in range(1, N + 1):\n",
    "            print(j if i >= j else \" \", end=\"\")\n",
    "        for j in range(N, 0, -1):\n",
    "            print(j if i >= j else \" \", end=\"\")\n",
    "        print()\n",
    "\n",
    "# Testing the solution\n",
    "p12(5)"
   ]
  },
  {
   "cell_type": "code",
   "execution_count": null,
   "id": "4cb3993a",
   "metadata": {
    "lines_to_next_cell": 1
   },
   "outputs": [],
   "source": [
    "def p13(N: int) -> None:\n",
    "    counter = 1\n",
    "    for i in range(1, N + 1):\n",
    "        for j in range(i):\n",
    "            print(counter, end=\" \")\n",
    "            counter += 1\n",
    "        print()\n",
    "\n",
    "# Testing the solution\n",
    "p13(5)"
   ]
  },
  {
   "cell_type": "code",
   "execution_count": null,
   "id": "0adac77e",
   "metadata": {
    "lines_to_next_cell": 1
   },
   "outputs": [],
   "source": [
    "def p14(N: int) -> None:\n",
    "    for i in range(1, N + 1):\n",
    "        for j in range(i):\n",
    "            print(chr(ord('A') + j), end=\" \")\n",
    "        print()\n",
    "\n",
    "# Testing the solution\n",
    "p14(5)"
   ]
  },
  {
   "cell_type": "code",
   "execution_count": null,
   "id": "3918fd7d",
   "metadata": {
    "lines_to_next_cell": 1
   },
   "outputs": [],
   "source": [
    "def p15(N: int) -> None:\n",
    "    for i in range(N, 0, -1):\n",
    "        for j in range(i):\n",
    "            print(chr(ord('A') + j), end=\" \")\n",
    "        print()\n",
    "\n",
    "# Testing the solution\n",
    "p15(5)"
   ]
  },
  {
   "cell_type": "code",
   "execution_count": null,
   "id": "cc083076",
   "metadata": {},
   "outputs": [],
   "source": [
    "def p16(N: int) -> None:\n",
    "    for i in range(1, N + 1):\n",
    "        for j in range(i):\n",
    "            print(chr(ord('A') + i - 1), end=\" \")\n",
    "        print()\n",
    "\n",
    "# Testing the solution\n",
    "p16(5)"
   ]
  }
 ],
 "metadata": {
  "kernelspec": {
   "display_name": "Python 3 (ipykernel)",
   "language": "python",
   "name": "python3"
  },
  "language_info": {
   "codemirror_mode": {
    "name": "ipython",
    "version": 3
   },
   "file_extension": ".py",
   "mimetype": "text/x-python",
   "name": "python",
   "nbconvert_exporter": "python",
   "pygments_lexer": "ipython3",
   "version": "3.11.9"
  },
  "papermill": {
   "default_parameters": {},
   "duration": 1.991687,
   "end_time": "2024-07-01T04:05:05.892251",
   "environment_variables": {},
   "exception": null,
   "input_path": "practice/005.ipynb",
   "output_path": "practice/005.ipynb",
   "parameters": {},
   "start_time": "2024-07-01T04:05:03.900564",
   "version": "2.6.0"
  }
 },
 "nbformat": 4,
 "nbformat_minor": 5
}
