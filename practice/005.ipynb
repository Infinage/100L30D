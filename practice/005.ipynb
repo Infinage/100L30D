{
 "cells": [
  {
   "cell_type": "code",
   "execution_count": 1,
   "id": "fa51d761",
   "metadata": {
    "execution": {
     "iopub.execute_input": "2024-07-12T15:35:49.064514Z",
     "iopub.status.busy": "2024-07-12T15:35:49.064102Z",
     "iopub.status.idle": "2024-07-12T15:35:49.401250Z",
     "shell.execute_reply": "2024-07-12T15:35:49.400774Z"
    },
    "papermill": {
     "duration": 0.355133,
     "end_time": "2024-07-12T15:35:49.402656",
     "exception": false,
     "start_time": "2024-07-12T15:35:49.047523",
     "status": "completed"
    },
    "tags": []
   },
   "outputs": [],
   "source": [
    "from typing import List, Optional, Generator\n",
    "import pandas as pd\n",
    "import numpy as np\n",
    "import sqlite3\n",
    "import re\n",
    "import io\n",
    "import math\n",
    "import collections\n",
    "import itertools\n",
    "import functools\n",
    "import random\n",
    "import string\n",
    "import tqdm\n",
    "import bisect\n",
    "import heapq\n",
    "\n",
    "conn = sqlite3.connect(\":memory:\")\n",
    "\n",
    "def regexp(expr, item):\n",
    "    reg = re.compile(expr)\n",
    "    return reg.search(item) is not None\n",
    "\n",
    "def read_lc_df(s: str, dtypes: dict[str, str]=dict()) -> pd.DataFrame:\n",
    "    temp = pd.read_csv(io.StringIO(s), sep=\"|\", skiprows=2)\n",
    "    temp = temp.iloc[1:-1, 1:-1]\n",
    "    temp.columns = temp.columns.map(str.strip)\n",
    "    temp = temp.map(lambda x: x if type(x) != str else None if x.strip() == 'null' else x.strip())\n",
    "    temp = temp.astype(dtypes)\n",
    "    return temp\n",
    "\n",
    "conn.create_function(\"REGEXP\", 2, regexp)"
   ]
  },
  {
   "cell_type": "markdown",
   "id": "db473660",
   "metadata": {
    "papermill": {
     "duration": 0.012939,
     "end_time": "2024-07-12T15:35:49.429020",
     "exception": false,
     "start_time": "2024-07-12T15:35:49.416081",
     "status": "completed"
    },
    "tags": []
   },
   "source": [
    "#### Helper for Binary tree problems"
   ]
  },
  {
   "cell_type": "code",
   "execution_count": 2,
   "id": "6e8896c0",
   "metadata": {
    "execution": {
     "iopub.execute_input": "2024-07-12T15:35:49.456883Z",
     "iopub.status.busy": "2024-07-12T15:35:49.456357Z",
     "iopub.status.idle": "2024-07-12T15:35:49.463696Z",
     "shell.execute_reply": "2024-07-12T15:35:49.463169Z"
    },
    "lines_to_next_cell": 1,
    "papermill": {
     "duration": 0.022887,
     "end_time": "2024-07-12T15:35:49.464792",
     "exception": false,
     "start_time": "2024-07-12T15:35:49.441905",
     "status": "completed"
    },
    "tags": []
   },
   "outputs": [],
   "source": [
    "class BinaryTreeNode:\n",
    "    def __init__(self, val=0, left=None, right=None):\n",
    "        self.val = val\n",
    "        self.left = left\n",
    "        self.right = right\n",
    "\n",
    "    def to_list(self):\n",
    "        to_visit = [self]\n",
    "        visited = []\n",
    "        while len(to_visit) > 0:\n",
    "            curr = to_visit.pop(0)\n",
    "            if curr:\n",
    "                to_visit.append(curr.left)\n",
    "                to_visit.append(curr.right)\n",
    "                visited.append(curr.val)\n",
    "            else:\n",
    "                visited.append(curr)\n",
    "\n",
    "        while visited and not visited[-1]:\n",
    "            visited.pop()\n",
    "\n",
    "        return visited\n",
    "\n",
    "    def __str__(self):\n",
    "        return str(self.val)\n",
    "\n",
    "    @staticmethod\n",
    "    def from_array(nums: list[int|None]):\n",
    "        '''Create a Tree from a list of nums. Returns the root node.'''\n",
    "        if len(nums) == 0:\n",
    "            return None\n",
    "        elif len(nums) == 1:\n",
    "            return BinaryTreeNode(nums[0])\n",
    "        else:\n",
    "            forest = [BinaryTreeNode(nums[0])]\n",
    "            parent_idx = -1\n",
    "            for i in range(1, len(nums)):\n",
    "\n",
    "                curr = None\n",
    "                if nums[i] is not None:\n",
    "                    curr = BinaryTreeNode(nums[i])\n",
    "                    forest.append(curr)\n",
    "\n",
    "                if i % 2 == 1:\n",
    "                    parent_idx += 1\n",
    "                    forest[parent_idx].left = curr\n",
    "                else:\n",
    "                    forest[parent_idx].right = curr\n",
    "\n",
    "        return forest[0]"
   ]
  },
  {
   "cell_type": "markdown",
   "id": "de5b1765",
   "metadata": {
    "papermill": {
     "duration": 0.012683,
     "end_time": "2024-07-12T15:35:49.490278",
     "exception": false,
     "start_time": "2024-07-12T15:35:49.477595",
     "status": "completed"
    },
    "tags": []
   },
   "source": [
    "#### Helper for Singly Linked lists"
   ]
  },
  {
   "cell_type": "code",
   "execution_count": 3,
   "id": "e736c8a5",
   "metadata": {
    "execution": {
     "iopub.execute_input": "2024-07-12T15:35:49.517014Z",
     "iopub.status.busy": "2024-07-12T15:35:49.516631Z",
     "iopub.status.idle": "2024-07-12T15:35:49.521063Z",
     "shell.execute_reply": "2024-07-12T15:35:49.520625Z"
    },
    "lines_to_next_cell": 1,
    "papermill": {
     "duration": 0.018987,
     "end_time": "2024-07-12T15:35:49.522100",
     "exception": false,
     "start_time": "2024-07-12T15:35:49.503113",
     "status": "completed"
    },
    "tags": []
   },
   "outputs": [],
   "source": [
    "class ListNode:\n",
    "    def __init__(self, val=0, next=None):\n",
    "        self.val = val\n",
    "        self.next = next\n",
    "\n",
    "    def __str__(self):\n",
    "        return str(self.val)\n",
    "\n",
    "    @staticmethod\n",
    "    def to_singly_linked_list(nums: list[int]):\n",
    "        root = prev = None\n",
    "        for n in nums:\n",
    "            curr = ListNode(n)\n",
    "            # Init once\n",
    "            if not root:\n",
    "                root = curr\n",
    "            if prev:\n",
    "                prev.next = curr\n",
    "            prev = curr\n",
    "\n",
    "        return root\n",
    "\n",
    "    def to_list(self) -> list[int]:\n",
    "        result = []\n",
    "        curr = self\n",
    "        while curr:\n",
    "            result.append(curr.val)\n",
    "            curr = curr.next\n",
    "        return result"
   ]
  },
  {
   "cell_type": "markdown",
   "id": "cd635853",
   "metadata": {
    "papermill": {
     "duration": 0.012821,
     "end_time": "2024-07-12T15:35:49.547859",
     "exception": false,
     "start_time": "2024-07-12T15:35:49.535038",
     "status": "completed"
    },
    "tags": []
   },
   "source": [
    "Codeforces practice"
   ]
  },
  {
   "cell_type": "code",
   "execution_count": 4,
   "id": "df35356a",
   "metadata": {
    "execution": {
     "iopub.execute_input": "2024-07-12T15:35:49.574430Z",
     "iopub.status.busy": "2024-07-12T15:35:49.574079Z",
     "iopub.status.idle": "2024-07-12T15:35:49.578532Z",
     "shell.execute_reply": "2024-07-12T15:35:49.577993Z"
    },
    "lines_to_next_cell": 1,
    "papermill": {
     "duration": 0.019154,
     "end_time": "2024-07-12T15:35:49.579697",
     "exception": false,
     "start_time": "2024-07-12T15:35:49.560543",
     "status": "completed"
    },
    "tags": []
   },
   "outputs": [],
   "source": [
    "# https://codeforces.com/problemset/problem/1984/B\n",
    "def large_addition(N: int) -> bool:\n",
    "    if N < 10:\n",
    "        return False\n",
    "    else:\n",
    "        N_str: str = str(N)\n",
    "        length = len(N_str)\n",
    "        for i in range(length):\n",
    "            if i == 0 and N_str[i] != '1':\n",
    "                return False\n",
    "            elif i == length - 1 and N_str[i] == '9':\n",
    "                return False\n",
    "            elif i not in (0, length - 1) and N_str[i] == '0':\n",
    "                return False\n",
    "\n",
    "        return True\n",
    "\n",
    "# Testing the solution\n",
    "assert large_addition(1393938) == True\n",
    "assert large_addition(200) == False\n",
    "assert large_addition(10) == True"
   ]
  },
  {
   "cell_type": "markdown",
   "id": "80b62de1",
   "metadata": {
    "papermill": {
     "duration": 0.01285,
     "end_time": "2024-07-12T15:35:49.605376",
     "exception": false,
     "start_time": "2024-07-12T15:35:49.592526",
     "status": "completed"
    },
    "tags": []
   },
   "source": [
    "LC Virtual: 25th June 2024\n",
    "https://leetcode.com/contest/smarking-algorithm-contest-3/"
   ]
  },
  {
   "cell_type": "code",
   "execution_count": 5,
   "id": "ec2db856",
   "metadata": {
    "execution": {
     "iopub.execute_input": "2024-07-12T15:35:49.632181Z",
     "iopub.status.busy": "2024-07-12T15:35:49.631871Z",
     "iopub.status.idle": "2024-07-12T15:35:49.635943Z",
     "shell.execute_reply": "2024-07-12T15:35:49.635493Z"
    },
    "lines_to_next_cell": 1,
    "papermill": {
     "duration": 0.01884,
     "end_time": "2024-07-12T15:35:49.637024",
     "exception": false,
     "start_time": "2024-07-12T15:35:49.618184",
     "status": "completed"
    },
    "tags": []
   },
   "outputs": [],
   "source": [
    "# Q1\n",
    "# https://www.youtube.com/watch?v=x8T11yRLIyY\n",
    "def minMoves(nums: list[int]) -> int:\n",
    "    \"\"\"\n",
    "    Intution: Instead of increasing all n - 1 elements by 1 each time, try to decrement\n",
    "    the max element to the smallest element. Relative distances between numbers are the same.\n",
    "    \"\"\"\n",
    "    nums.sort()\n",
    "    result = 0\n",
    "    for i in range(len(nums) - 1, -1, -1):\n",
    "        result += nums[i] - nums[0]\n",
    "    return result\n",
    "\n",
    "# Testing the solution\n",
    "assert minMoves([1,2,3,4]) == 6\n",
    "assert minMoves([1,2,3]) == 3"
   ]
  },
  {
   "cell_type": "code",
   "execution_count": 6,
   "id": "46f751bf",
   "metadata": {
    "execution": {
     "iopub.execute_input": "2024-07-12T15:35:49.663906Z",
     "iopub.status.busy": "2024-07-12T15:35:49.663441Z",
     "iopub.status.idle": "2024-07-12T15:35:49.669097Z",
     "shell.execute_reply": "2024-07-12T15:35:49.668589Z"
    },
    "lines_to_next_cell": 1,
    "papermill": {
     "duration": 0.020238,
     "end_time": "2024-07-12T15:35:49.670098",
     "exception": false,
     "start_time": "2024-07-12T15:35:49.649860",
     "status": "completed"
    },
    "tags": []
   },
   "outputs": [],
   "source": [
    "# Q2\n",
    "def numberOfBoomerangs(points: list[list[int]]) -> int:\n",
    "    def distance(pt1: list[int], pt2: list[int]) -> float:\n",
    "        return math.sqrt(((pt1[0] - pt2[0]) ** 2) + ((pt1[1] - pt2[1]) ** 2))\n",
    "\n",
    "    boommerangs: int = 0\n",
    "    N = len(points)\n",
    "    for i in range(N):\n",
    "        curr = points[i]\n",
    "        distances: dict[float, int] = dict()\n",
    "        for j in range(N):\n",
    "            if j != i:\n",
    "                dist = distance(points[i], points[j])\n",
    "                distances[dist] = distances.get(dist, 0) + 1\n",
    "\n",
    "        for count in distances.values():\n",
    "            boommerangs += math.perm(count, 2)\n",
    "\n",
    "    return boommerangs\n",
    "\n",
    "# Testing the solution\n",
    "assert numberOfBoomerangs([[0,0],[1,0],[2,0]]) == 2\n",
    "assert numberOfBoomerangs([[1,1],[2,2],[3,3]]) == 2\n",
    "assert numberOfBoomerangs([[1,1]]) == 0"
   ]
  },
  {
   "cell_type": "code",
   "execution_count": 7,
   "id": "06c17597",
   "metadata": {
    "execution": {
     "iopub.execute_input": "2024-07-12T15:35:49.696669Z",
     "iopub.status.busy": "2024-07-12T15:35:49.696310Z",
     "iopub.status.idle": "2024-07-12T15:35:49.701295Z",
     "shell.execute_reply": "2024-07-12T15:35:49.700780Z"
    },
    "lines_to_next_cell": 1,
    "papermill": {
     "duration": 0.019421,
     "end_time": "2024-07-12T15:35:49.702289",
     "exception": false,
     "start_time": "2024-07-12T15:35:49.682868",
     "status": "completed"
    },
    "tags": []
   },
   "outputs": [],
   "source": [
    "# Q3\n",
    "def findMinArrowShots(points: list[list[int]]) -> int:\n",
    "    # Sort by end and merge the start, end\n",
    "    points.sort(key=lambda x: (x[1], x[0]))\n",
    "\n",
    "    # Merge the intervals\n",
    "    merged_intervals: list[tuple[int, int]] = []\n",
    "    for start, end in points:\n",
    "        if merged_intervals and merged_intervals[-1][1] >= start:\n",
    "            merged_intervals[-1] = max(merged_intervals[-1][0], start), min(merged_intervals[-1][1], end)\n",
    "        else:\n",
    "            merged_intervals.append((start, end))\n",
    "\n",
    "    return len(merged_intervals)\n",
    "\n",
    "# Testing the solution\n",
    "assert findMinArrowShots([[10,16],[2,8],[1,6],[7,12]]) == 2\n",
    "assert findMinArrowShots([[1,2],[3,4],[5,6],[7,8]]) == 4\n",
    "assert findMinArrowShots([[1,2],[2,3],[3,4],[4,5]]) == 2"
   ]
  },
  {
   "cell_type": "code",
   "execution_count": 8,
   "id": "602ae596",
   "metadata": {
    "execution": {
     "iopub.execute_input": "2024-07-12T15:35:49.729275Z",
     "iopub.status.busy": "2024-07-12T15:35:49.728848Z",
     "iopub.status.idle": "2024-07-12T15:35:49.733602Z",
     "shell.execute_reply": "2024-07-12T15:35:49.733168Z"
    },
    "lines_to_next_cell": 1,
    "papermill": {
     "duration": 0.019528,
     "end_time": "2024-07-12T15:35:49.734669",
     "exception": false,
     "start_time": "2024-07-12T15:35:49.715141",
     "status": "completed"
    },
    "tags": []
   },
   "outputs": [],
   "source": [
    "# Q4\n",
    "def numberOfArithmeticSlicesBrute(nums: list[int]) -> int:\n",
    "    def is_valid(sub: list[int]) -> bool:\n",
    "        if len(sub) < 3:\n",
    "            return False\n",
    "        else:\n",
    "            diff = sub[1] - sub[0]\n",
    "            for i in range(len(sub) - 1):\n",
    "                if sub[i + 1] - sub[i] != diff:\n",
    "                    return False\n",
    "            return True\n",
    "\n",
    "    count = 0\n",
    "    def backtrack(i: int, subseq: list[int]):\n",
    "        if i == N:\n",
    "            count += is_valid(subseq)\n",
    "        else:\n",
    "            subseq.append(nums[i])\n",
    "            backtrack(i + 1, subseq)\n",
    "            subseq.pop()\n",
    "            backtrack(i + 1, subseq)\n",
    "\n",
    "    N = len(nums)\n",
    "    backtrack(0, [])\n",
    "    return count"
   ]
  },
  {
   "cell_type": "code",
   "execution_count": 9,
   "id": "f1e64142",
   "metadata": {
    "execution": {
     "iopub.execute_input": "2024-07-12T15:35:49.761709Z",
     "iopub.status.busy": "2024-07-12T15:35:49.761306Z",
     "iopub.status.idle": "2024-07-12T15:35:49.766064Z",
     "shell.execute_reply": "2024-07-12T15:35:49.765534Z"
    },
    "lines_to_next_cell": 1,
    "papermill": {
     "duration": 0.019536,
     "end_time": "2024-07-12T15:35:49.767071",
     "exception": false,
     "start_time": "2024-07-12T15:35:49.747535",
     "status": "completed"
    },
    "tags": []
   },
   "outputs": [],
   "source": [
    "# Upsolving\n",
    "# https://www.youtube.com/watch?v=YIMwwT9JdIE\n",
    "def numberOfArithmeticSlices(nums: list[int]) -> int:\n",
    "    \"\"\"\n",
    "    Ending at index 'j' what is maximum number of arthimetic subsequences that I can form >= 2\n",
    "    \"\"\"\n",
    "    N = len(nums)\n",
    "    dp: list[collections.defaultdict[int, int]] = [collections.defaultdict(int) for _ in range(N)]\n",
    "    sub_count = dp_sum = 0\n",
    "    for j in range(N):\n",
    "        for i in range(j):\n",
    "            delta = nums[i] - nums[j]\n",
    "            dp[j][delta] += dp[i][delta] + 1\n",
    "            sub_count, dp_sum = sub_count + 1, dp_sum + dp[i][delta] + 1\n",
    "\n",
    "    return dp_sum - sub_count\n",
    "\n",
    "# Testing the solution\n",
    "assert numberOfArithmeticSlices([2,4,6,8,10]) == 7\n",
    "assert numberOfArithmeticSlices([7,7,7,7,7]) == 16"
   ]
  },
  {
   "cell_type": "markdown",
   "id": "79053be1",
   "metadata": {
    "papermill": {
     "duration": 0.012944,
     "end_time": "2024-07-12T15:35:49.792934",
     "exception": false,
     "start_time": "2024-07-12T15:35:49.779990",
     "status": "completed"
    },
    "tags": []
   },
   "source": [
    "LC VC: June 26th 2024"
   ]
  },
  {
   "cell_type": "code",
   "execution_count": 10,
   "id": "2e438aa0",
   "metadata": {
    "execution": {
     "iopub.execute_input": "2024-07-12T15:35:49.836681Z",
     "iopub.status.busy": "2024-07-12T15:35:49.836219Z",
     "iopub.status.idle": "2024-07-12T15:35:49.841257Z",
     "shell.execute_reply": "2024-07-12T15:35:49.840833Z"
    },
    "lines_to_next_cell": 1,
    "papermill": {
     "duration": 0.019911,
     "end_time": "2024-07-12T15:35:49.842302",
     "exception": false,
     "start_time": "2024-07-12T15:35:49.822391",
     "status": "completed"
    },
    "tags": []
   },
   "outputs": [],
   "source": [
    "# Q4: Pattern 132\n",
    "# https://www.youtube.com/watch?v=q5ANAl8Z458\n",
    "# https://leetcode.com/problems/132-pattern/submissions/1301126531/\n",
    "def find132pattern(nums: list[int]) -> bool:\n",
    "    N = len(nums)\n",
    "\n",
    "    # Monotonic stack, storing min values till index - value, min pairs\n",
    "    stack: list[tuple[int, int]] = []\n",
    "    min_: int = nums[0]\n",
    "\n",
    "    for n in nums:\n",
    "        while stack and stack[-1][0] <= n:\n",
    "            stack.pop()\n",
    "\n",
    "        if stack and stack[-1][1] < n:\n",
    "            return True\n",
    "\n",
    "        stack.append((n, min_))\n",
    "        min_ = min(min_, n)\n",
    "\n",
    "    return False\n",
    "\n",
    "# Testing the solution\n",
    "assert find132pattern([1,2,3,4]) == False\n",
    "assert find132pattern([3,1,4,2]) == True\n",
    "assert find132pattern([-1,3,2,0]) == True\n",
    "assert find132pattern([3,1,2]) == False"
   ]
  },
  {
   "cell_type": "markdown",
   "id": "6afba366",
   "metadata": {
    "papermill": {
     "duration": 0.012708,
     "end_time": "2024-07-12T15:35:49.867791",
     "exception": false,
     "start_time": "2024-07-12T15:35:49.855083",
     "status": "completed"
    },
    "tags": []
   },
   "source": [
    "Balance a Binary Search tree"
   ]
  },
  {
   "cell_type": "code",
   "execution_count": 11,
   "id": "47bab318",
   "metadata": {
    "execution": {
     "iopub.execute_input": "2024-07-12T15:35:49.894610Z",
     "iopub.status.busy": "2024-07-12T15:35:49.894204Z",
     "iopub.status.idle": "2024-07-12T15:35:49.900124Z",
     "shell.execute_reply": "2024-07-12T15:35:49.899565Z"
    },
    "lines_to_next_cell": 1,
    "papermill": {
     "duration": 0.020564,
     "end_time": "2024-07-12T15:35:49.901146",
     "exception": false,
     "start_time": "2024-07-12T15:35:49.880582",
     "status": "completed"
    },
    "tags": []
   },
   "outputs": [
    {
     "name": "stdout",
     "output_type": "stream",
     "text": [
      "[3, 2, 4, 1]\n"
     ]
    }
   ],
   "source": [
    "# https://leetcode.com/problems/balance-a-binary-search-tree/submissions/1301150197\n",
    "def balanceBST(root: BinaryTreeNode) -> BinaryTreeNode|None:\n",
    "    def createBalancedBST(nodes_: list[int]) -> BinaryTreeNode|None:\n",
    "        N = len(nodes_)\n",
    "        if N == 0:\n",
    "            return None\n",
    "        else:\n",
    "            mid = N // 2\n",
    "            root_: BinaryTreeNode = BinaryTreeNode(nodes_[mid])\n",
    "            root_.left = createBalancedBST(nodes_[:mid])\n",
    "            root_.right = createBalancedBST(nodes_[mid + 1:])\n",
    "            return root_\n",
    "\n",
    "    # 1. Retrieve all elements in-order traversal (left, root, right), this returns an array in sorted order\n",
    "    curr: BinaryTreeNode = root\n",
    "    nodes: list[int] = []\n",
    "    stack: list[BinaryTreeNode] = []\n",
    "    while True:\n",
    "        while curr:\n",
    "            stack.append(curr)\n",
    "            curr = curr.left\n",
    "        if stack:\n",
    "            curr = stack.pop()\n",
    "            nodes.append(curr.val)\n",
    "            curr = curr.right\n",
    "        else:\n",
    "            break\n",
    "\n",
    "    # 2. Create a BST from the nodes: Take the middle element as the root, create left and right subtree recursively\n",
    "    return createBalancedBST(nodes)\n",
    "\n",
    "# Testing the solution\n",
    "print(balanceBST(BinaryTreeNode.from_array([1,None,2,None,3,None,4,None,None])).to_list())"
   ]
  },
  {
   "cell_type": "markdown",
   "id": "304faf22",
   "metadata": {
    "papermill": {
     "duration": 0.012759,
     "end_time": "2024-07-12T15:35:49.926795",
     "exception": false,
     "start_time": "2024-07-12T15:35:49.914036",
     "status": "completed"
    },
    "tags": []
   },
   "source": [
    "LC Practice"
   ]
  },
  {
   "cell_type": "code",
   "execution_count": 12,
   "id": "0ac43f3b",
   "metadata": {
    "execution": {
     "iopub.execute_input": "2024-07-12T15:35:49.953297Z",
     "iopub.status.busy": "2024-07-12T15:35:49.952972Z",
     "iopub.status.idle": "2024-07-12T15:35:49.957003Z",
     "shell.execute_reply": "2024-07-12T15:35:49.956497Z"
    },
    "lines_to_next_cell": 1,
    "papermill": {
     "duration": 0.018493,
     "end_time": "2024-07-12T15:35:49.958052",
     "exception": false,
     "start_time": "2024-07-12T15:35:49.939559",
     "status": "completed"
    },
    "tags": []
   },
   "outputs": [],
   "source": [
    "def subarraySum(nums: list[int], k: int) -> int:\n",
    "    prefix: collections.defaultdict = collections.defaultdict(int)\n",
    "    prefix[0], count, psum = 1, 0, 0\n",
    "    for n in nums:\n",
    "        psum += n\n",
    "        count += prefix[psum - k]\n",
    "        prefix[psum] += 1\n",
    "\n",
    "    return count\n",
    "\n",
    "# Testing the solution\n",
    "assert subarraySum([1,2,3], 3) == 2\n",
    "assert subarraySum([1,1,1], 2) == 2"
   ]
  },
  {
   "cell_type": "code",
   "execution_count": 13,
   "id": "b278e908",
   "metadata": {
    "execution": {
     "iopub.execute_input": "2024-07-12T15:35:49.984570Z",
     "iopub.status.busy": "2024-07-12T15:35:49.984137Z",
     "iopub.status.idle": "2024-07-12T15:35:49.989826Z",
     "shell.execute_reply": "2024-07-12T15:35:49.989392Z"
    },
    "lines_to_next_cell": 1,
    "papermill": {
     "duration": 0.020034,
     "end_time": "2024-07-12T15:35:49.990869",
     "exception": false,
     "start_time": "2024-07-12T15:35:49.970835",
     "status": "completed"
    },
    "tags": []
   },
   "outputs": [],
   "source": [
    "# https://leetcode.com/problems/continuous-subarray-sum/submissions/1301461461/\n",
    "def checkSubarraySum(nums: list[int], k: int) -> bool:\n",
    "    N = len(nums)\n",
    "    prefix: dict[int, int] = {0: -1}\n",
    "    psum = 0\n",
    "    for i in range(N):\n",
    "        psum = (psum + nums[i]) % k\n",
    "        if i - prefix.get(psum, i) >= 2:\n",
    "            return True\n",
    "        prefix[psum] = min(prefix.get(psum, i), i)\n",
    "\n",
    "    return False\n",
    "\n",
    "# Testing the solution\n",
    "assert checkSubarraySum([23,2,4,6,7], 6) == True\n",
    "assert checkSubarraySum([0], 1) == False\n",
    "assert checkSubarraySum([23,2,6,4,7,13], 13) == False\n",
    "assert checkSubarraySum([23,2,6,4,7,13,13], 13) == True\n",
    "assert checkSubarraySum([1,0], 2) == False\n",
    "assert checkSubarraySum([1,2,3,4], 6) == True"
   ]
  },
  {
   "cell_type": "markdown",
   "id": "b3ac55c5",
   "metadata": {
    "papermill": {
     "duration": 0.012987,
     "end_time": "2024-07-12T15:35:50.017160",
     "exception": false,
     "start_time": "2024-07-12T15:35:50.004173",
     "status": "completed"
    },
    "tags": []
   },
   "source": [
    "Check if array is sorted and rotated"
   ]
  },
  {
   "cell_type": "code",
   "execution_count": 14,
   "id": "05c610bc",
   "metadata": {
    "execution": {
     "iopub.execute_input": "2024-07-12T15:35:50.044198Z",
     "iopub.status.busy": "2024-07-12T15:35:50.043684Z",
     "iopub.status.idle": "2024-07-12T15:35:50.048391Z",
     "shell.execute_reply": "2024-07-12T15:35:50.047951Z"
    },
    "lines_to_next_cell": 1,
    "papermill": {
     "duration": 0.019507,
     "end_time": "2024-07-12T15:35:50.049509",
     "exception": false,
     "start_time": "2024-07-12T15:35:50.030002",
     "status": "completed"
    },
    "tags": []
   },
   "outputs": [],
   "source": [
    "def checkArraySortedAndRotated(nums: list[int]) -> bool:\n",
    "    N = len(nums)\n",
    "    count = 0\n",
    "    for i in range(N - 1):\n",
    "        count += nums[i + 1] < nums[i]\n",
    "    return count == 0 or (count == 1 and nums[0] > nums[-1])\n",
    "\n",
    "# Testing the solution\n",
    "assert checkArraySortedAndRotated([3,4,5,1,2]) == True\n",
    "assert checkArraySortedAndRotated([2,1,3,4]) == False\n",
    "assert checkArraySortedAndRotated([3,2,1]) == False"
   ]
  },
  {
   "cell_type": "markdown",
   "id": "2d033d8f",
   "metadata": {
    "papermill": {
     "duration": 0.012926,
     "end_time": "2024-07-12T15:35:50.075447",
     "exception": false,
     "start_time": "2024-07-12T15:35:50.062521",
     "status": "completed"
    },
    "tags": []
   },
   "source": [
    "All ancestors of a node in a DAG"
   ]
  },
  {
   "cell_type": "code",
   "execution_count": 15,
   "id": "50e7e595",
   "metadata": {
    "execution": {
     "iopub.execute_input": "2024-07-12T15:35:50.102567Z",
     "iopub.status.busy": "2024-07-12T15:35:50.102049Z",
     "iopub.status.idle": "2024-07-12T15:35:50.108725Z",
     "shell.execute_reply": "2024-07-12T15:35:50.108291Z"
    },
    "lines_to_next_cell": 1,
    "papermill": {
     "duration": 0.021499,
     "end_time": "2024-07-12T15:35:50.109747",
     "exception": false,
     "start_time": "2024-07-12T15:35:50.088248",
     "status": "completed"
    },
    "tags": []
   },
   "outputs": [],
   "source": [
    "# https://leetcode.com/problems/all-ancestors-of-a-node-in-a-directed-acyclic-graph/submissions/1304043339\n",
    "def getAncestors(N: int, edges: list[list[int]]) -> list[list[int]]:\n",
    "    @functools.cache\n",
    "    def DFS(n: int) -> set[int]:\n",
    "        ancestors: set[int] = set()\n",
    "        for next_ in adjl[n]:\n",
    "            ancestors.add(next_)\n",
    "            for next_ancestor in DFS(next_):\n",
    "                ancestors.add(next_ancestor)\n",
    "        return ancestors\n",
    "\n",
    "    adjl: collections.defaultdict[int, list[int]] = collections.defaultdict(list)\n",
    "    for n1, n2 in edges:\n",
    "        adjl[n2].append(n1)\n",
    "\n",
    "    result: list[list[int]] = [[] for _ in range(N)]\n",
    "    for i in range(N):\n",
    "        result[i] = sorted(DFS(i))\n",
    "\n",
    "    return result\n",
    "\n",
    "# Testing the solution\n",
    "assert getAncestors(8, [[0,3],[0,4],[1,3],[2,4],[2,7],[3,5],[3,6],[3,7],[4,6]]) == [[],[],[],[0,1],[0,2],[0,1,3],[0,1,2,3,4],[0,1,2,3]]\n",
    "assert getAncestors(5, [[0,1],[0,2],[0,3],[0,4],[1,2],[1,3],[1,4],[2,3],[2,4],[3,4]]) == [[],[0],[0,1],[0,1,2],[0,1,2,3]]"
   ]
  },
  {
   "cell_type": "markdown",
   "id": "0fb25f1d",
   "metadata": {
    "papermill": {
     "duration": 0.013119,
     "end_time": "2024-07-12T15:35:50.135926",
     "exception": false,
     "start_time": "2024-07-12T15:35:50.122807",
     "status": "completed"
    },
    "tags": []
   },
   "source": [
    "LC Contest: 30th June 2024"
   ]
  },
  {
   "cell_type": "code",
   "execution_count": 16,
   "id": "2cc84226",
   "metadata": {
    "execution": {
     "iopub.execute_input": "2024-07-12T15:35:50.162690Z",
     "iopub.status.busy": "2024-07-12T15:35:50.162340Z",
     "iopub.status.idle": "2024-07-12T15:35:50.167655Z",
     "shell.execute_reply": "2024-07-12T15:35:50.167125Z"
    },
    "lines_to_next_cell": 1,
    "papermill": {
     "duration": 0.020094,
     "end_time": "2024-07-12T15:35:50.168820",
     "exception": false,
     "start_time": "2024-07-12T15:35:50.148726",
     "status": "completed"
    },
    "tags": []
   },
   "outputs": [],
   "source": [
    "# Q1\n",
    "def maxHeightOfTriangle(red: int, blue: int) -> int:\n",
    "    @functools.cache\n",
    "    def backtrack(i: int) -> tuple[int, int]:\n",
    "        if i == 0:\n",
    "            return 0, 0\n",
    "        else:\n",
    "            prev = backtrack(i - 1)\n",
    "            if i % 2 == 0:\n",
    "                return prev[0], prev[1] + i\n",
    "            else:\n",
    "                return prev[0] + i, prev[1]\n",
    "\n",
    "    red, blue = sorted([red, blue])\n",
    "    low, high = 1, 20\n",
    "    while low <= high:\n",
    "        mid = (low + high) // 2\n",
    "        r, b = sorted(backtrack(mid))\n",
    "        if r <= red and b <= blue:\n",
    "            low = mid + 1\n",
    "        else:\n",
    "            high = mid - 1\n",
    "\n",
    "    return high\n",
    "\n",
    "# Testing the solution\n",
    "assert maxHeightOfTriangle(10, 1) == 2\n",
    "assert maxHeightOfTriangle(1, 1) == 1\n",
    "assert maxHeightOfTriangle(2, 1) == 2\n",
    "assert maxHeightOfTriangle(2, 4) == 3"
   ]
  },
  {
   "cell_type": "code",
   "execution_count": 17,
   "id": "3acecb65",
   "metadata": {
    "execution": {
     "iopub.execute_input": "2024-07-12T15:35:50.195519Z",
     "iopub.status.busy": "2024-07-12T15:35:50.195118Z",
     "iopub.status.idle": "2024-07-12T15:35:50.199525Z",
     "shell.execute_reply": "2024-07-12T15:35:50.199118Z"
    },
    "lines_to_next_cell": 1,
    "papermill": {
     "duration": 0.018821,
     "end_time": "2024-07-12T15:35:50.200568",
     "exception": false,
     "start_time": "2024-07-12T15:35:50.181747",
     "status": "completed"
    },
    "tags": []
   },
   "outputs": [],
   "source": [
    "# Q2\n",
    "def maximumLength(nums: list[int]) -> int:\n",
    "    \"\"\"\n",
    "    Either all consequetive element pairs should sum up to an even number or to an odd number\n",
    "\n",
    "    If all elements are to sum to an even number: either all should be even or all numbers should be odd => max(odd_count, even_count)\n",
    "    If all elements are to sum to an odd number: greedily check validity (consequetive elements should be odd-even or even-odd)\n",
    "    \"\"\"\n",
    "    odd_sum_length = odd_count = even_count = 0\n",
    "    prev = 0 if nums[0] % 2 else 1\n",
    "    for i in range(len(nums)):\n",
    "        if nums[i] % 2 == 0:\n",
    "            even_count += 1\n",
    "        else:\n",
    "            odd_count += 1\n",
    "\n",
    "        if nums[i] % 2 != prev:\n",
    "            odd_sum_length, prev = odd_sum_length + 1, nums[i] % 2\n",
    "\n",
    "    return max(odd_sum_length, odd_count, even_count)\n",
    "\n",
    "# Testing the solution\n",
    "assert maximumLength([1,2,3,4]) == 4\n",
    "assert maximumLength([1,2,1,1,2,1,2]) == 6\n",
    "assert maximumLength([1,3]) == 2"
   ]
  },
  {
   "cell_type": "markdown",
   "id": "7d9b395f",
   "metadata": {
    "papermill": {
     "duration": 0.012928,
     "end_time": "2024-07-12T15:35:50.226470",
     "exception": false,
     "start_time": "2024-07-12T15:35:50.213542",
     "status": "completed"
    },
    "tags": []
   },
   "source": [
    "search-query-auto-complete: Striver A2Z: First question"
   ]
  },
  {
   "cell_type": "code",
   "execution_count": 18,
   "id": "ac84136c",
   "metadata": {
    "execution": {
     "iopub.execute_input": "2024-07-12T15:35:50.253727Z",
     "iopub.status.busy": "2024-07-12T15:35:50.253324Z",
     "iopub.status.idle": "2024-07-12T15:35:50.261184Z",
     "shell.execute_reply": "2024-07-12T15:35:50.260719Z"
    },
    "lines_to_next_cell": 1,
    "papermill": {
     "duration": 0.022643,
     "end_time": "2024-07-12T15:35:50.262207",
     "exception": false,
     "start_time": "2024-07-12T15:35:50.239564",
     "status": "completed"
    },
    "tags": []
   },
   "outputs": [],
   "source": [
    "class AutoCompleteSystem:\n",
    "    def __init__(self, sentences: list[str], times: list[int]) -> None:\n",
    "        # Store a dictionary of sentences along with their frequencies\n",
    "        self.sentences: collections.defaultdict[str, int] = collections.defaultdict(lambda: 0)\n",
    "        self.acc: str = \"\"\n",
    "        for sentence, freq in zip(sentences, times):\n",
    "            self.sentences[sentence] = freq\n",
    "\n",
    "    def input(self, character: str) -> list[str]:\n",
    "        if character != '#':\n",
    "            self.acc += character\n",
    "            result: list[tuple[int, str]] = []\n",
    "            for sentence, freq in self.sentences.items():\n",
    "                if sentence.startswith(self.acc):\n",
    "                    result.append((-freq, sentence))\n",
    "            result.sort()\n",
    "            return list(map(lambda x: x[1], result[:3]))\n",
    "\n",
    "        else:\n",
    "            self.sentences[self.acc] += 1\n",
    "            self.acc = ''\n",
    "            return []\n",
    "\n",
    "# Testing the solution - 1\n",
    "temp = AutoCompleteSystem([\"i love you\", \"island\", \"ironman\", \"i love geeksforgeeks\"], [5,3,2,2])\n",
    "assert temp.input(\"i\") == [\"i love you\", \"island\",\"i love geeksforgeeks\"]\n",
    "assert temp.input(\" \") == [\"i love you\", \"i love geeksforgeeks\"]\n",
    "assert temp.input(\"a\") == []\n",
    "assert temp.input(\"#\") == []\n",
    "assert temp.input(\"i\") == ['i love you', 'island', 'i love geeksforgeeks']\n",
    "assert temp.input(\" \") == ['i love you', 'i love geeksforgeeks', 'i a']\n",
    "assert temp.input(\"a\") == ['i a']\n",
    "assert temp.input(\"m\") == []\n",
    "assert temp.input(\"#\") == []\n",
    "assert temp.input(\"i\") == ['i love you', 'island', 'i love geeksforgeeks']\n",
    "assert temp.input(\" \") == ['i love you', 'i love geeksforgeeks', 'i a']\n",
    "assert temp.input(\"a\") == ['i a', 'i am']\n",
    "assert temp.input(\"m\") == ['i am']\n",
    "assert temp.input(\" \") == []"
   ]
  },
  {
   "cell_type": "markdown",
   "id": "4629edb8",
   "metadata": {
    "papermill": {
     "duration": 0.013042,
     "end_time": "2024-07-12T15:35:50.288338",
     "exception": false,
     "start_time": "2024-07-12T15:35:50.275296",
     "status": "completed"
    },
    "tags": []
   },
   "source": [
    "Patterns practice"
   ]
  },
  {
   "cell_type": "code",
   "execution_count": 19,
   "id": "0a0790b9",
   "metadata": {
    "execution": {
     "iopub.execute_input": "2024-07-12T15:35:50.315073Z",
     "iopub.status.busy": "2024-07-12T15:35:50.314665Z",
     "iopub.status.idle": "2024-07-12T15:35:50.318421Z",
     "shell.execute_reply": "2024-07-12T15:35:50.317903Z"
    },
    "lines_to_next_cell": 1,
    "papermill": {
     "duration": 0.018287,
     "end_time": "2024-07-12T15:35:50.319457",
     "exception": false,
     "start_time": "2024-07-12T15:35:50.301170",
     "status": "completed"
    },
    "tags": []
   },
   "outputs": [
    {
     "name": "stdout",
     "output_type": "stream",
     "text": [
      "*****\n",
      "*****\n",
      "*****\n",
      "*****\n",
      "*****\n"
     ]
    }
   ],
   "source": [
    "def p1(N: int) -> None:\n",
    "    for i in range(N):\n",
    "        for j in range(N):\n",
    "            print('*', end='')\n",
    "        print()\n",
    "\n",
    "# Testing the solution\n",
    "p1(5)"
   ]
  },
  {
   "cell_type": "code",
   "execution_count": 20,
   "id": "3917a2b2",
   "metadata": {
    "execution": {
     "iopub.execute_input": "2024-07-12T15:35:50.346314Z",
     "iopub.status.busy": "2024-07-12T15:35:50.346064Z",
     "iopub.status.idle": "2024-07-12T15:35:50.349624Z",
     "shell.execute_reply": "2024-07-12T15:35:50.349120Z"
    },
    "lines_to_next_cell": 1,
    "papermill": {
     "duration": 0.018133,
     "end_time": "2024-07-12T15:35:50.350667",
     "exception": false,
     "start_time": "2024-07-12T15:35:50.332534",
     "status": "completed"
    },
    "tags": []
   },
   "outputs": [
    {
     "name": "stdout",
     "output_type": "stream",
     "text": [
      "*\n",
      "**\n",
      "***\n",
      "****\n",
      "*****\n"
     ]
    }
   ],
   "source": [
    "def p2(N: int) -> None:\n",
    "    for i in range(N):\n",
    "        for j in range(i + 1):\n",
    "            print(\"*\", end='')\n",
    "        print()\n",
    "\n",
    "# Testing the solution\n",
    "p2(5)"
   ]
  },
  {
   "cell_type": "code",
   "execution_count": 21,
   "id": "1a2807e5",
   "metadata": {
    "execution": {
     "iopub.execute_input": "2024-07-12T15:35:50.377770Z",
     "iopub.status.busy": "2024-07-12T15:35:50.377422Z",
     "iopub.status.idle": "2024-07-12T15:35:50.381138Z",
     "shell.execute_reply": "2024-07-12T15:35:50.380609Z"
    },
    "lines_to_next_cell": 1,
    "papermill": {
     "duration": 0.018494,
     "end_time": "2024-07-12T15:35:50.382232",
     "exception": false,
     "start_time": "2024-07-12T15:35:50.363738",
     "status": "completed"
    },
    "tags": []
   },
   "outputs": [
    {
     "name": "stdout",
     "output_type": "stream",
     "text": [
      "1 \n",
      "1 2 \n",
      "1 2 3 \n",
      "1 2 3 4 \n",
      "1 2 3 4 5 \n"
     ]
    }
   ],
   "source": [
    "def p3(N: int) -> None:\n",
    "    for i in range(N):\n",
    "        for j in range(i + 1):\n",
    "            print(j + 1, end=' ')\n",
    "        print()\n",
    "\n",
    "# Testing the solution\n",
    "p3(5)"
   ]
  },
  {
   "cell_type": "code",
   "execution_count": 22,
   "id": "a81ab688",
   "metadata": {
    "execution": {
     "iopub.execute_input": "2024-07-12T15:35:50.409266Z",
     "iopub.status.busy": "2024-07-12T15:35:50.408947Z",
     "iopub.status.idle": "2024-07-12T15:35:50.412566Z",
     "shell.execute_reply": "2024-07-12T15:35:50.412045Z"
    },
    "lines_to_next_cell": 1,
    "papermill": {
     "duration": 0.018322,
     "end_time": "2024-07-12T15:35:50.413606",
     "exception": false,
     "start_time": "2024-07-12T15:35:50.395284",
     "status": "completed"
    },
    "tags": []
   },
   "outputs": [
    {
     "name": "stdout",
     "output_type": "stream",
     "text": [
      "1 \n",
      "2 2 \n",
      "3 3 3 \n",
      "4 4 4 4 \n",
      "5 5 5 5 5 \n"
     ]
    }
   ],
   "source": [
    "def p4(N: int) -> None:\n",
    "    for i in range(N):\n",
    "        for j in range(i + 1):\n",
    "            print(i + 1, end=' ')\n",
    "        print()\n",
    "\n",
    "# Testing the solution\n",
    "p4(5)"
   ]
  },
  {
   "cell_type": "code",
   "execution_count": 23,
   "id": "a3ae50be",
   "metadata": {
    "execution": {
     "iopub.execute_input": "2024-07-12T15:35:50.440877Z",
     "iopub.status.busy": "2024-07-12T15:35:50.440418Z",
     "iopub.status.idle": "2024-07-12T15:35:50.444069Z",
     "shell.execute_reply": "2024-07-12T15:35:50.443624Z"
    },
    "lines_to_next_cell": 1,
    "papermill": {
     "duration": 0.018433,
     "end_time": "2024-07-12T15:35:50.445097",
     "exception": false,
     "start_time": "2024-07-12T15:35:50.426664",
     "status": "completed"
    },
    "tags": []
   },
   "outputs": [
    {
     "name": "stdout",
     "output_type": "stream",
     "text": [
      "*****\n",
      "****\n",
      "***\n",
      "**\n",
      "*\n"
     ]
    }
   ],
   "source": [
    "def p5(N: int) -> None:\n",
    "    for i in range(N, 0, -1):\n",
    "        for j in range(i):\n",
    "            print(\"*\", end='')\n",
    "        print()\n",
    "\n",
    "# Testing the solution\n",
    "p5(5)"
   ]
  },
  {
   "cell_type": "code",
   "execution_count": 24,
   "id": "2c02ed3c",
   "metadata": {
    "execution": {
     "iopub.execute_input": "2024-07-12T15:35:50.472634Z",
     "iopub.status.busy": "2024-07-12T15:35:50.472323Z",
     "iopub.status.idle": "2024-07-12T15:35:50.475890Z",
     "shell.execute_reply": "2024-07-12T15:35:50.475358Z"
    },
    "lines_to_next_cell": 1,
    "papermill": {
     "duration": 0.01839,
     "end_time": "2024-07-12T15:35:50.476977",
     "exception": false,
     "start_time": "2024-07-12T15:35:50.458587",
     "status": "completed"
    },
    "tags": []
   },
   "outputs": [
    {
     "name": "stdout",
     "output_type": "stream",
     "text": [
      "12345\n",
      "1234\n",
      "123\n",
      "12\n",
      "1\n"
     ]
    }
   ],
   "source": [
    "def p6(N: int) -> None:\n",
    "    for i in range(N, 0, -1):\n",
    "        for j in range(i):\n",
    "            print(j + 1, end='')\n",
    "        print()\n",
    "\n",
    "# Testing the solution\n",
    "p6(5)"
   ]
  },
  {
   "cell_type": "code",
   "execution_count": 25,
   "id": "126c1e65",
   "metadata": {
    "execution": {
     "iopub.execute_input": "2024-07-12T15:35:50.504532Z",
     "iopub.status.busy": "2024-07-12T15:35:50.504335Z",
     "iopub.status.idle": "2024-07-12T15:35:50.508770Z",
     "shell.execute_reply": "2024-07-12T15:35:50.508276Z"
    },
    "lines_to_next_cell": 1,
    "papermill": {
     "duration": 0.01939,
     "end_time": "2024-07-12T15:35:50.509776",
     "exception": false,
     "start_time": "2024-07-12T15:35:50.490386",
     "status": "completed"
    },
    "tags": []
   },
   "outputs": [
    {
     "name": "stdout",
     "output_type": "stream",
     "text": [
      "    *    \n",
      "   ***   \n",
      "  *****  \n",
      " ******* \n",
      "*********\n"
     ]
    }
   ],
   "source": [
    "def p7(N: int) -> None:\n",
    "    max_stars: int = (2 * N) - 1\n",
    "    for i in range(1, N + 1):\n",
    "        stars: int = (2 * i) - 1\n",
    "        half = (max_stars - stars) // 2\n",
    "        for j in range(half):\n",
    "            print(\" \", end='')\n",
    "        for j in range(stars):\n",
    "            print(\"*\", end='')\n",
    "        for j in range(half):\n",
    "            print(\" \", end='')\n",
    "        print()\n",
    "\n",
    "# Testing the solution\n",
    "p7(5)"
   ]
  },
  {
   "cell_type": "code",
   "execution_count": 26,
   "id": "cb4e9553",
   "metadata": {
    "execution": {
     "iopub.execute_input": "2024-07-12T15:35:50.537522Z",
     "iopub.status.busy": "2024-07-12T15:35:50.537093Z",
     "iopub.status.idle": "2024-07-12T15:35:50.541568Z",
     "shell.execute_reply": "2024-07-12T15:35:50.541123Z"
    },
    "lines_to_next_cell": 1,
    "papermill": {
     "duration": 0.019461,
     "end_time": "2024-07-12T15:35:50.542622",
     "exception": false,
     "start_time": "2024-07-12T15:35:50.523161",
     "status": "completed"
    },
    "tags": []
   },
   "outputs": [
    {
     "name": "stdout",
     "output_type": "stream",
     "text": [
      "*********\n",
      " ******* \n",
      "  *****  \n",
      "   ***   \n",
      "    *    \n"
     ]
    }
   ],
   "source": [
    "def p8(N: int) -> None:\n",
    "    max_stars: int = (2 * N) - 1\n",
    "    for i in range(N, 0, -1):\n",
    "        stars: int = (2 * i) - 1\n",
    "        half = (max_stars - stars) // 2\n",
    "        for j in range(half):\n",
    "            print(\" \", end='')\n",
    "        for j in range(stars):\n",
    "            print(\"*\", end='')\n",
    "        for j in range(half):\n",
    "            print(\" \", end='')\n",
    "        print()\n",
    "\n",
    "# Testing the solution\n",
    "p8(5)"
   ]
  },
  {
   "cell_type": "code",
   "execution_count": 27,
   "id": "7c80140a",
   "metadata": {
    "execution": {
     "iopub.execute_input": "2024-07-12T15:35:50.570255Z",
     "iopub.status.busy": "2024-07-12T15:35:50.569862Z",
     "iopub.status.idle": "2024-07-12T15:35:50.573773Z",
     "shell.execute_reply": "2024-07-12T15:35:50.573299Z"
    },
    "lines_to_next_cell": 1,
    "papermill": {
     "duration": 0.018773,
     "end_time": "2024-07-12T15:35:50.574774",
     "exception": false,
     "start_time": "2024-07-12T15:35:50.556001",
     "status": "completed"
    },
    "tags": []
   },
   "outputs": [
    {
     "name": "stdout",
     "output_type": "stream",
     "text": [
      "    *    \n",
      "   ***   \n",
      "  *****  \n",
      " ******* \n",
      "*********\n",
      "*********\n",
      " ******* \n",
      "  *****  \n",
      "   ***   \n",
      "    *    \n"
     ]
    }
   ],
   "source": [
    "def p9(N: int) -> None:\n",
    "    p7(N)\n",
    "    p8(N)\n",
    "\n",
    "# Testing the solution\n",
    "p9(5)"
   ]
  },
  {
   "cell_type": "code",
   "execution_count": 28,
   "id": "2e32fb2d",
   "metadata": {
    "execution": {
     "iopub.execute_input": "2024-07-12T15:35:50.602421Z",
     "iopub.status.busy": "2024-07-12T15:35:50.601995Z",
     "iopub.status.idle": "2024-07-12T15:35:50.606079Z",
     "shell.execute_reply": "2024-07-12T15:35:50.605645Z"
    },
    "lines_to_next_cell": 1,
    "papermill": {
     "duration": 0.019008,
     "end_time": "2024-07-12T15:35:50.607154",
     "exception": false,
     "start_time": "2024-07-12T15:35:50.588146",
     "status": "completed"
    },
    "tags": []
   },
   "outputs": [
    {
     "name": "stdout",
     "output_type": "stream",
     "text": [
      "*\n",
      "**\n",
      "***\n",
      "****\n",
      "*****\n",
      "****\n",
      "***\n",
      "**\n",
      "*\n"
     ]
    }
   ],
   "source": [
    "def p10(N: int) -> None:\n",
    "    for i in range(N):\n",
    "        for j in range(i + 1):\n",
    "            print(\"*\", end='')\n",
    "        print()\n",
    "\n",
    "    for i in range(N - 1, 0, -1):\n",
    "        for j in range(i):\n",
    "            print(\"*\", end='')\n",
    "        print()\n",
    "\n",
    "# Testing the solution\n",
    "p10(5)"
   ]
  },
  {
   "cell_type": "code",
   "execution_count": 29,
   "id": "36d6b021",
   "metadata": {
    "execution": {
     "iopub.execute_input": "2024-07-12T15:35:50.635184Z",
     "iopub.status.busy": "2024-07-12T15:35:50.634842Z",
     "iopub.status.idle": "2024-07-12T15:35:50.638587Z",
     "shell.execute_reply": "2024-07-12T15:35:50.638089Z"
    },
    "lines_to_next_cell": 1,
    "papermill": {
     "duration": 0.019024,
     "end_time": "2024-07-12T15:35:50.639672",
     "exception": false,
     "start_time": "2024-07-12T15:35:50.620648",
     "status": "completed"
    },
    "tags": []
   },
   "outputs": [
    {
     "name": "stdout",
     "output_type": "stream",
     "text": [
      "1 \n",
      "0 1 \n",
      "1 0 1 \n",
      "0 1 0 1 \n",
      "1 0 1 0 1 \n"
     ]
    }
   ],
   "source": [
    "def p11(N: int) -> None:\n",
    "    for i in range(N):\n",
    "        for j in range(i + 1):\n",
    "            print(1 if i % 2 == j % 2 else 0, end=\" \")\n",
    "        print()\n",
    "\n",
    "# Testing the solution\n",
    "p11(5)"
   ]
  },
  {
   "cell_type": "code",
   "execution_count": 30,
   "id": "ff248593",
   "metadata": {
    "execution": {
     "iopub.execute_input": "2024-07-12T15:35:50.667603Z",
     "iopub.status.busy": "2024-07-12T15:35:50.667291Z",
     "iopub.status.idle": "2024-07-12T15:35:50.671484Z",
     "shell.execute_reply": "2024-07-12T15:35:50.670975Z"
    },
    "lines_to_next_cell": 1,
    "papermill": {
     "duration": 0.019302,
     "end_time": "2024-07-12T15:35:50.672498",
     "exception": false,
     "start_time": "2024-07-12T15:35:50.653196",
     "status": "completed"
    },
    "tags": []
   },
   "outputs": [
    {
     "name": "stdout",
     "output_type": "stream",
     "text": [
      "1        1\n",
      "12      21\n",
      "123    321\n",
      "1234  4321\n",
      "1234554321\n"
     ]
    }
   ],
   "source": [
    "def p12(N: int) -> None:\n",
    "    for i in range(1, N + 1):\n",
    "        for j in range(1, N + 1):\n",
    "            print(j if i >= j else \" \", end=\"\")\n",
    "        for j in range(N, 0, -1):\n",
    "            print(j if i >= j else \" \", end=\"\")\n",
    "        print()\n",
    "\n",
    "# Testing the solution\n",
    "p12(5)"
   ]
  },
  {
   "cell_type": "code",
   "execution_count": 31,
   "id": "4cb3993a",
   "metadata": {
    "execution": {
     "iopub.execute_input": "2024-07-12T15:35:50.700496Z",
     "iopub.status.busy": "2024-07-12T15:35:50.700162Z",
     "iopub.status.idle": "2024-07-12T15:35:50.703780Z",
     "shell.execute_reply": "2024-07-12T15:35:50.703323Z"
    },
    "lines_to_next_cell": 1,
    "papermill": {
     "duration": 0.018821,
     "end_time": "2024-07-12T15:35:50.704780",
     "exception": false,
     "start_time": "2024-07-12T15:35:50.685959",
     "status": "completed"
    },
    "tags": []
   },
   "outputs": [
    {
     "name": "stdout",
     "output_type": "stream",
     "text": [
      "1 \n",
      "2 3 \n",
      "4 5 6 \n",
      "7 8 9 10 \n",
      "11 12 13 14 15 \n"
     ]
    }
   ],
   "source": [
    "def p13(N: int) -> None:\n",
    "    counter = 1\n",
    "    for i in range(1, N + 1):\n",
    "        for j in range(i):\n",
    "            print(counter, end=\" \")\n",
    "            counter += 1\n",
    "        print()\n",
    "\n",
    "# Testing the solution\n",
    "p13(5)"
   ]
  },
  {
   "cell_type": "code",
   "execution_count": 32,
   "id": "0adac77e",
   "metadata": {
    "execution": {
     "iopub.execute_input": "2024-07-12T15:35:50.732783Z",
     "iopub.status.busy": "2024-07-12T15:35:50.732466Z",
     "iopub.status.idle": "2024-07-12T15:35:50.736169Z",
     "shell.execute_reply": "2024-07-12T15:35:50.735633Z"
    },
    "lines_to_next_cell": 1,
    "papermill": {
     "duration": 0.018999,
     "end_time": "2024-07-12T15:35:50.737262",
     "exception": false,
     "start_time": "2024-07-12T15:35:50.718263",
     "status": "completed"
    },
    "tags": []
   },
   "outputs": [
    {
     "name": "stdout",
     "output_type": "stream",
     "text": [
      "A \n",
      "A B \n",
      "A B C \n",
      "A B C D \n",
      "A B C D E \n"
     ]
    }
   ],
   "source": [
    "def p14(N: int) -> None:\n",
    "    for i in range(1, N + 1):\n",
    "        for j in range(i):\n",
    "            print(chr(ord('A') + j), end=\" \")\n",
    "        print()\n",
    "\n",
    "# Testing the solution\n",
    "p14(5)"
   ]
  },
  {
   "cell_type": "code",
   "execution_count": 33,
   "id": "3918fd7d",
   "metadata": {
    "execution": {
     "iopub.execute_input": "2024-07-12T15:35:50.765224Z",
     "iopub.status.busy": "2024-07-12T15:35:50.764896Z",
     "iopub.status.idle": "2024-07-12T15:35:50.768479Z",
     "shell.execute_reply": "2024-07-12T15:35:50.767991Z"
    },
    "lines_to_next_cell": 1,
    "papermill": {
     "duration": 0.018683,
     "end_time": "2024-07-12T15:35:50.769464",
     "exception": false,
     "start_time": "2024-07-12T15:35:50.750781",
     "status": "completed"
    },
    "tags": []
   },
   "outputs": [
    {
     "name": "stdout",
     "output_type": "stream",
     "text": [
      "A B C D E \n",
      "A B C D \n",
      "A B C \n",
      "A B \n",
      "A \n"
     ]
    }
   ],
   "source": [
    "def p15(N: int) -> None:\n",
    "    for i in range(N, 0, -1):\n",
    "        for j in range(i):\n",
    "            print(chr(ord('A') + j), end=\" \")\n",
    "        print()\n",
    "\n",
    "# Testing the solution\n",
    "p15(5)"
   ]
  },
  {
   "cell_type": "code",
   "execution_count": 34,
   "id": "cc083076",
   "metadata": {
    "execution": {
     "iopub.execute_input": "2024-07-12T15:35:50.797272Z",
     "iopub.status.busy": "2024-07-12T15:35:50.796939Z",
     "iopub.status.idle": "2024-07-12T15:35:50.800505Z",
     "shell.execute_reply": "2024-07-12T15:35:50.800008Z"
    },
    "lines_to_next_cell": 1,
    "papermill": {
     "duration": 0.018617,
     "end_time": "2024-07-12T15:35:50.801520",
     "exception": false,
     "start_time": "2024-07-12T15:35:50.782903",
     "status": "completed"
    },
    "tags": []
   },
   "outputs": [
    {
     "name": "stdout",
     "output_type": "stream",
     "text": [
      "A \n",
      "B B \n",
      "C C C \n",
      "D D D D \n",
      "E E E E E \n"
     ]
    }
   ],
   "source": [
    "def p16(N: int) -> None:\n",
    "    for i in range(1, N + 1):\n",
    "        for j in range(i):\n",
    "            print(chr(ord('A') + i - 1), end=\" \")\n",
    "        print()\n",
    "\n",
    "# Testing the solution\n",
    "p16(5)"
   ]
  },
  {
   "cell_type": "code",
   "execution_count": 35,
   "id": "d9432d4b",
   "metadata": {
    "execution": {
     "iopub.execute_input": "2024-07-12T15:35:50.829896Z",
     "iopub.status.busy": "2024-07-12T15:35:50.829480Z",
     "iopub.status.idle": "2024-07-12T15:35:50.834518Z",
     "shell.execute_reply": "2024-07-12T15:35:50.834074Z"
    },
    "lines_to_next_cell": 1,
    "papermill": {
     "duration": 0.020356,
     "end_time": "2024-07-12T15:35:50.835509",
     "exception": false,
     "start_time": "2024-07-12T15:35:50.815153",
     "status": "completed"
    },
    "tags": []
   },
   "outputs": [
    {
     "name": "stdout",
     "output_type": "stream",
     "text": [
      "    A    \n",
      "   ABA   \n",
      "  ABCBA  \n",
      " ABCDCBA \n",
      "ABCDEDCBA\n"
     ]
    }
   ],
   "source": [
    "def p17(N: int) -> None:\n",
    "    max_width = (2 * N) - 1\n",
    "    for i in range(1, N + 1):\n",
    "        width = (2 * i) - 1\n",
    "        spaces = max_width - width\n",
    "        for j in range(spaces // 2):\n",
    "            print(\" \", end=\"\")\n",
    "        for j in range(i):\n",
    "            print(chr(ord('A') + j), end=\"\")\n",
    "        for j in range(i - 2, -1, -1):\n",
    "            print(chr(ord('A') + j), end=\"\")\n",
    "        for j in range(spaces // 2):\n",
    "            print(\" \", end=\"\")\n",
    "        print()\n",
    "\n",
    "# Testing the solution\n",
    "p17(5)"
   ]
  },
  {
   "cell_type": "code",
   "execution_count": 36,
   "id": "4633133c",
   "metadata": {
    "execution": {
     "iopub.execute_input": "2024-07-12T15:35:50.863595Z",
     "iopub.status.busy": "2024-07-12T15:35:50.863298Z",
     "iopub.status.idle": "2024-07-12T15:35:50.866991Z",
     "shell.execute_reply": "2024-07-12T15:35:50.866506Z"
    },
    "lines_to_next_cell": 1,
    "papermill": {
     "duration": 0.018958,
     "end_time": "2024-07-12T15:35:50.868084",
     "exception": false,
     "start_time": "2024-07-12T15:35:50.849126",
     "status": "completed"
    },
    "tags": []
   },
   "outputs": [
    {
     "name": "stdout",
     "output_type": "stream",
     "text": [
      "E \n",
      "D E \n",
      "C D E \n",
      "B C D E \n",
      "A B C D E \n"
     ]
    }
   ],
   "source": [
    "def p18(N: int) -> None:\n",
    "    for i in range(1, N + 1):\n",
    "        for j in range(N - i, N):\n",
    "            print(chr(ord('A') + j), end=' ')\n",
    "        print()\n",
    "\n",
    "# Testing the solution\n",
    "p18(5)"
   ]
  },
  {
   "cell_type": "code",
   "execution_count": 37,
   "id": "45cf811d",
   "metadata": {
    "execution": {
     "iopub.execute_input": "2024-07-12T15:35:50.896786Z",
     "iopub.status.busy": "2024-07-12T15:35:50.896299Z",
     "iopub.status.idle": "2024-07-12T15:35:50.901058Z",
     "shell.execute_reply": "2024-07-12T15:35:50.900623Z"
    },
    "lines_to_next_cell": 1,
    "papermill": {
     "duration": 0.020157,
     "end_time": "2024-07-12T15:35:50.902076",
     "exception": false,
     "start_time": "2024-07-12T15:35:50.881919",
     "status": "completed"
    },
    "tags": []
   },
   "outputs": [
    {
     "name": "stdout",
     "output_type": "stream",
     "text": [
      "**********\n",
      "****  ****\n",
      "***    ***\n",
      "**      **\n",
      "*        *\n",
      "*        *\n",
      "**      **\n",
      "***    ***\n",
      "****  ****\n",
      "**********\n"
     ]
    }
   ],
   "source": [
    "def p19(N: int) -> None:\n",
    "    max_width = 2 * N\n",
    "    for i_ in range(2 * N):\n",
    "        i = N - i_ if i_ < N else (i_ % N) + 1\n",
    "        for j in range(i):\n",
    "            print(\"*\", end='')\n",
    "        for j in range(max_width - (2 * i)):\n",
    "            print(\" \", end='')\n",
    "        for j in range(i):\n",
    "            print(\"*\", end='')\n",
    "        print()\n",
    "\n",
    "# Testing the solution\n",
    "p19(5)"
   ]
  },
  {
   "cell_type": "code",
   "execution_count": 38,
   "id": "da170774",
   "metadata": {
    "execution": {
     "iopub.execute_input": "2024-07-12T15:35:50.930569Z",
     "iopub.status.busy": "2024-07-12T15:35:50.930155Z",
     "iopub.status.idle": "2024-07-12T15:35:50.934731Z",
     "shell.execute_reply": "2024-07-12T15:35:50.934252Z"
    },
    "lines_to_next_cell": 1,
    "papermill": {
     "duration": 0.0199,
     "end_time": "2024-07-12T15:35:50.935814",
     "exception": false,
     "start_time": "2024-07-12T15:35:50.915914",
     "status": "completed"
    },
    "tags": []
   },
   "outputs": [
    {
     "name": "stdout",
     "output_type": "stream",
     "text": [
      "*        *\n",
      "**      **\n",
      "***    ***\n",
      "****  ****\n",
      "**********\n",
      "****  ****\n",
      "***    ***\n",
      "**      **\n",
      "*        *\n"
     ]
    }
   ],
   "source": [
    "def p20(N: int) -> None:\n",
    "    max_width = 2 * N\n",
    "    for i_ in range(2 * N - 1):\n",
    "        i = i_ + 1 if i_ < N else 2 * N - i_ - 1\n",
    "        for j in range(i):\n",
    "            print(\"*\", end='')\n",
    "        for j in range(max_width - 2 * i):\n",
    "            print(\" \", end='')\n",
    "        for j in range(i):\n",
    "            print(\"*\", end='')\n",
    "        print()\n",
    "\n",
    "# Testing the solution\n",
    "p20(5)"
   ]
  },
  {
   "cell_type": "code",
   "execution_count": 39,
   "id": "c9ec1076",
   "metadata": {
    "execution": {
     "iopub.execute_input": "2024-07-12T15:35:50.964851Z",
     "iopub.status.busy": "2024-07-12T15:35:50.964374Z",
     "iopub.status.idle": "2024-07-12T15:35:50.968359Z",
     "shell.execute_reply": "2024-07-12T15:35:50.967920Z"
    },
    "lines_to_next_cell": 1,
    "papermill": {
     "duration": 0.019631,
     "end_time": "2024-07-12T15:35:50.969354",
     "exception": false,
     "start_time": "2024-07-12T15:35:50.949723",
     "status": "completed"
    },
    "tags": []
   },
   "outputs": [
    {
     "name": "stdout",
     "output_type": "stream",
     "text": [
      "*****\n",
      "*   *\n",
      "*   *\n",
      "*   *\n",
      "*****\n"
     ]
    }
   ],
   "source": [
    "def p21(N: int) -> None:\n",
    "    for i in range(N):\n",
    "        for j in range(N):\n",
    "            print(\"*\" if i in (0, N - 1) or j in (0, N - 1) else \" \", end='')\n",
    "        print()\n",
    "\n",
    "# Testing the solution\n",
    "p21(5)"
   ]
  },
  {
   "cell_type": "code",
   "execution_count": 40,
   "id": "519e516c",
   "metadata": {
    "execution": {
     "iopub.execute_input": "2024-07-12T15:35:50.997675Z",
     "iopub.status.busy": "2024-07-12T15:35:50.997360Z",
     "iopub.status.idle": "2024-07-12T15:35:51.002232Z",
     "shell.execute_reply": "2024-07-12T15:35:51.001775Z"
    },
    "lines_to_next_cell": 1,
    "papermill": {
     "duration": 0.020185,
     "end_time": "2024-07-12T15:35:51.003235",
     "exception": false,
     "start_time": "2024-07-12T15:35:50.983050",
     "status": "completed"
    },
    "tags": []
   },
   "outputs": [
    {
     "name": "stdout",
     "output_type": "stream",
     "text": [
      "3 3 3 3 3 \n",
      "3 2 2 2 3 \n",
      "3 2 1 2 3 \n",
      "3 2 2 2 3 \n",
      "3 3 3 3 3 \n"
     ]
    }
   ],
   "source": [
    "def p22(N: int) -> None:\n",
    "    result: collections.deque[collections.deque[int]] = collections.deque([collections.deque([1])])\n",
    "    for i in range(2, N + 1):\n",
    "        for row in result:\n",
    "            row.appendleft(i)\n",
    "            row.append(i)\n",
    "        result.appendleft(collections.deque([i for _ in range(2 * i - 1)]))\n",
    "        result.append(collections.deque([i for _ in range(2 * i - 1)]))\n",
    "\n",
    "    for row in result:\n",
    "        for col in row:\n",
    "            print(col, end=' ')\n",
    "        print()\n",
    "\n",
    "# Testing the solution\n",
    "p22(3)"
   ]
  },
  {
   "cell_type": "markdown",
   "id": "9cdce5e5",
   "metadata": {
    "papermill": {
     "duration": 0.013968,
     "end_time": "2024-07-12T15:35:51.031213",
     "exception": false,
     "start_time": "2024-07-12T15:35:51.017245",
     "status": "completed"
    },
    "tags": []
   },
   "source": [
    "Basic Math"
   ]
  },
  {
   "cell_type": "code",
   "execution_count": 41,
   "id": "cd23fa37",
   "metadata": {
    "execution": {
     "iopub.execute_input": "2024-07-12T15:35:51.059976Z",
     "iopub.status.busy": "2024-07-12T15:35:51.059587Z",
     "iopub.status.idle": "2024-07-12T15:35:51.063195Z",
     "shell.execute_reply": "2024-07-12T15:35:51.062771Z"
    },
    "lines_to_next_cell": 1,
    "papermill": {
     "duration": 0.019372,
     "end_time": "2024-07-12T15:35:51.064304",
     "exception": false,
     "start_time": "2024-07-12T15:35:51.044932",
     "status": "completed"
    },
    "tags": []
   },
   "outputs": [],
   "source": [
    "def reverseDigits(N: int) -> int:\n",
    "    NR, num = 0, abs(N)\n",
    "    while num > 0:\n",
    "        digit, num = num % 10, num // 10\n",
    "        NR = (NR * 10) + digit\n",
    "    return NR if N > 0 else -NR\n",
    "\n",
    "# Testing the solution\n",
    "assert reverseDigits(-123) == -321"
   ]
  },
  {
   "cell_type": "code",
   "execution_count": 42,
   "id": "5d9d6817",
   "metadata": {
    "execution": {
     "iopub.execute_input": "2024-07-12T15:35:51.093445Z",
     "iopub.status.busy": "2024-07-12T15:35:51.093103Z",
     "iopub.status.idle": "2024-07-12T15:35:51.096820Z",
     "shell.execute_reply": "2024-07-12T15:35:51.096303Z"
    },
    "lines_to_next_cell": 1,
    "papermill": {
     "duration": 0.019275,
     "end_time": "2024-07-12T15:35:51.097814",
     "exception": false,
     "start_time": "2024-07-12T15:35:51.078539",
     "status": "completed"
    },
    "tags": []
   },
   "outputs": [],
   "source": [
    "def isPalindrome(N: int) -> bool:\n",
    "    def reverse(num: int) -> int:\n",
    "        numR = 0\n",
    "        while num > 0:\n",
    "            digit, num = num % 10, num // 10\n",
    "            numR = (numR * 10) + digit\n",
    "        return numR\n",
    "\n",
    "    return N >= 0 and N == reverse(N)\n",
    "\n",
    "# Testing the solution\n",
    "assert isPalindrome(121) == True"
   ]
  },
  {
   "cell_type": "markdown",
   "id": "012c2ce0",
   "metadata": {
    "papermill": {
     "duration": 0.013675,
     "end_time": "2024-07-12T15:35:51.125212",
     "exception": false,
     "start_time": "2024-07-12T15:35:51.111537",
     "status": "completed"
    },
    "tags": []
   },
   "source": []
  },
  {
   "cell_type": "code",
   "execution_count": 43,
   "id": "389e84de",
   "metadata": {
    "execution": {
     "iopub.execute_input": "2024-07-12T15:35:51.154183Z",
     "iopub.status.busy": "2024-07-12T15:35:51.153706Z",
     "iopub.status.idle": "2024-07-12T15:35:51.159058Z",
     "shell.execute_reply": "2024-07-12T15:35:51.158537Z"
    },
    "lines_to_next_cell": 1,
    "papermill": {
     "duration": 0.020959,
     "end_time": "2024-07-12T15:35:51.160125",
     "exception": false,
     "start_time": "2024-07-12T15:35:51.139166",
     "status": "completed"
    },
    "tags": []
   },
   "outputs": [],
   "source": [
    "def lcmAndGcd(n1: int , n2: int) -> tuple[int, int]:\n",
    "    def primeFactors(n: int) -> dict[int, int]:\n",
    "        factors: collections.defaultdict[int, int] = collections.defaultdict(int)\n",
    "        curr = 2\n",
    "        while curr <= n:\n",
    "            if n % curr == 0:\n",
    "                n //= curr\n",
    "                factors[curr] += 1\n",
    "            else:\n",
    "                curr += 1\n",
    "        return factors\n",
    "\n",
    "    pf1, pf2 = primeFactors(n1), primeFactors(n2)\n",
    "    factors: set[int] = {*pf1.keys(), *pf2.keys()}\n",
    "    lcm = gcd = 1\n",
    "    for factor in factors:\n",
    "        min_, max_ = min(pf1[factor], pf2[factor]), max(pf1[factor], pf2[factor])\n",
    "        if min_ != 0:\n",
    "            gcd *= factor ** min_\n",
    "        if max_ != 0:\n",
    "            lcm *= factor ** max_\n",
    "\n",
    "    return lcm, gcd\n",
    "#\n",
    "# Testing the solution\n",
    "assert lcmAndGcd(5, 10) == (10, 5)\n",
    "assert lcmAndGcd(14, 8) == (56, 2)\n",
    "assert lcmAndGcd(8, 42) == (168, 2)"
   ]
  },
  {
   "cell_type": "code",
   "execution_count": 44,
   "id": "bf026496",
   "metadata": {
    "execution": {
     "iopub.execute_input": "2024-07-12T15:35:51.188832Z",
     "iopub.status.busy": "2024-07-12T15:35:51.188396Z",
     "iopub.status.idle": "2024-07-12T15:35:51.192832Z",
     "shell.execute_reply": "2024-07-12T15:35:51.192398Z"
    },
    "lines_to_next_cell": 1,
    "papermill": {
     "duration": 0.02002,
     "end_time": "2024-07-12T15:35:51.193905",
     "exception": false,
     "start_time": "2024-07-12T15:35:51.173885",
     "status": "completed"
    },
    "tags": []
   },
   "outputs": [],
   "source": [
    "def lcmAndGcdOptimal(n1: int , n2: int) -> tuple[int, int]:\n",
    "    \"\"\"\n",
    "    Euclidean algo: GCD remains same even if greater of two numbers is subtracted with the smaller number\n",
    "    Continously subtract greater by smaller until we get a 0.\n",
    "    \"\"\"\n",
    "    def gcd(n1: int, n2: int) -> int:\n",
    "        while n1 != 0 and n2 != 0:\n",
    "            n1, n2 = sorted([n1, n2])\n",
    "            n1, n2 = n1, n2 - n1\n",
    "        return max(n1, n2)\n",
    "\n",
    "    gcd_ = gcd(n1, n2)\n",
    "    lcm_ = (n1 * n2) // gcd_\n",
    "    return lcm_, gcd_\n",
    "\n",
    "# Testing the solution\n",
    "assert lcmAndGcdOptimal(5, 10) == (10, 5)\n",
    "assert lcmAndGcdOptimal(14, 8) == (56, 2)\n",
    "assert lcmAndGcdOptimal(8, 42) == (168, 2)"
   ]
  },
  {
   "cell_type": "code",
   "execution_count": 45,
   "id": "e6aa105e",
   "metadata": {
    "execution": {
     "iopub.execute_input": "2024-07-12T15:35:51.222688Z",
     "iopub.status.busy": "2024-07-12T15:35:51.222313Z",
     "iopub.status.idle": "2024-07-12T15:35:51.226122Z",
     "shell.execute_reply": "2024-07-12T15:35:51.225695Z"
    },
    "lines_to_next_cell": 1,
    "papermill": {
     "duration": 0.01925,
     "end_time": "2024-07-12T15:35:51.227135",
     "exception": false,
     "start_time": "2024-07-12T15:35:51.207885",
     "status": "completed"
    },
    "tags": []
   },
   "outputs": [],
   "source": [
    "def armstrong(N: int) -> bool:\n",
    "    def countDigits(n: int) -> int:\n",
    "        digits = 0\n",
    "        while n > 0:\n",
    "            digits, n = digits + 1, n // 10\n",
    "        return digits\n",
    "\n",
    "    total, n, K = 0, N, countDigits(N)\n",
    "    while n > 0:\n",
    "        digit, n = n % 10, n // 10\n",
    "        total +=digit ** K\n",
    "\n",
    "    return total == N\n",
    "\n",
    "# Testing the solution\n",
    "assert armstrong(371) == True\n",
    "assert armstrong(123) == False"
   ]
  },
  {
   "cell_type": "code",
   "execution_count": 46,
   "id": "aa26b4c6",
   "metadata": {
    "execution": {
     "iopub.execute_input": "2024-07-12T15:35:51.256323Z",
     "iopub.status.busy": "2024-07-12T15:35:51.255791Z",
     "iopub.status.idle": "2024-07-12T15:35:51.259699Z",
     "shell.execute_reply": "2024-07-12T15:35:51.259138Z"
    },
    "lines_to_next_cell": 1,
    "papermill": {
     "duration": 0.019666,
     "end_time": "2024-07-12T15:35:51.260776",
     "exception": false,
     "start_time": "2024-07-12T15:35:51.241110",
     "status": "completed"
    },
    "tags": []
   },
   "outputs": [],
   "source": [
    "def printAllDivisors(N: int) -> list[int]:\n",
    "    result: set[int] = set()\n",
    "    i = 1\n",
    "    while i * i <= N:\n",
    "        if N % i == 0:\n",
    "            result.add(i)\n",
    "            result.add(N // i)\n",
    "        i += 1\n",
    "\n",
    "    return sorted(result)\n",
    "\n",
    "# Testing the solution\n",
    "assert printAllDivisors(12) == [1, 2, 3, 4, 6, 12]"
   ]
  },
  {
   "cell_type": "code",
   "execution_count": 47,
   "id": "c8135fe8",
   "metadata": {
    "execution": {
     "iopub.execute_input": "2024-07-12T15:35:51.290019Z",
     "iopub.status.busy": "2024-07-12T15:35:51.289627Z",
     "iopub.status.idle": "2024-07-12T15:35:51.293728Z",
     "shell.execute_reply": "2024-07-12T15:35:51.293306Z"
    },
    "lines_to_next_cell": 1,
    "papermill": {
     "duration": 0.019991,
     "end_time": "2024-07-12T15:35:51.294760",
     "exception": false,
     "start_time": "2024-07-12T15:35:51.274769",
     "status": "completed"
    },
    "tags": []
   },
   "outputs": [],
   "source": [
    "def minJumps(arr: list[int], N: int) -> int:\n",
    "    \"\"\"\n",
    "    Greedy Approach = Time: O(N), Space: O(1)\n",
    "\n",
    "    Keep track of the range we can jump into with minimum number of steps\n",
    "    For jump = 0, we can jump to index = 0 (left = right = 0)\n",
    "\n",
    "    For each iteration through range, compute maximum range we can jump into.\n",
    "    As we move with the next iteration, jumps = jumps + 1.\n",
    "    Again recompute the next range\n",
    "    \"\"\"\n",
    "    jumps = left = right = 0\n",
    "    while right < N - 1:\n",
    "        max_idx = 0\n",
    "        for i in range(left, right + 1):\n",
    "            max_idx = max(max_idx, i + arr[i])\n",
    "        # For next iteration, we start with where we left off in the previous range (right + 1)\n",
    "        jumps, left, right = jumps + 1, right + 1, max_idx\n",
    "\n",
    "    return jumps\n",
    "\n",
    "# Testing the solution\n",
    "assert minJumps([1,3,5,8,9,2,6,7,6,8,9], 11) == 3"
   ]
  },
  {
   "cell_type": "markdown",
   "id": "bc8d59b3",
   "metadata": {
    "papermill": {
     "duration": 0.0138,
     "end_time": "2024-07-12T15:35:51.322596",
     "exception": false,
     "start_time": "2024-07-12T15:35:51.308796",
     "status": "completed"
    },
    "tags": []
   },
   "source": [
    "#### Basic Recursion"
   ]
  },
  {
   "cell_type": "code",
   "execution_count": 48,
   "id": "e69b9a66",
   "metadata": {
    "execution": {
     "iopub.execute_input": "2024-07-12T15:35:51.351914Z",
     "iopub.status.busy": "2024-07-12T15:35:51.351342Z",
     "iopub.status.idle": "2024-07-12T15:35:51.354847Z",
     "shell.execute_reply": "2024-07-12T15:35:51.354332Z"
    },
    "lines_to_next_cell": 1,
    "papermill": {
     "duration": 0.01931,
     "end_time": "2024-07-12T15:35:51.355894",
     "exception": false,
     "start_time": "2024-07-12T15:35:51.336584",
     "status": "completed"
    },
    "tags": []
   },
   "outputs": [],
   "source": [
    "def sumOfSeries(n: int) -> int:\n",
    "    \"\"\"\n",
    "    Figured this out by checking if there is a pattern by printing all results\n",
    "    \"\"\"\n",
    "    sqrt = (n * (n + 1)) // 2\n",
    "    return sqrt * sqrt\n",
    "\n",
    "# Testing the solution\n",
    "assert sumOfSeries(5) == 225\n",
    "assert sumOfSeries(7) == 784"
   ]
  },
  {
   "cell_type": "code",
   "execution_count": 49,
   "id": "c2c609ac",
   "metadata": {
    "execution": {
     "iopub.execute_input": "2024-07-12T15:35:51.384320Z",
     "iopub.status.busy": "2024-07-12T15:35:51.384001Z",
     "iopub.status.idle": "2024-07-12T15:35:51.387896Z",
     "shell.execute_reply": "2024-07-12T15:35:51.387396Z"
    },
    "lines_to_next_cell": 1,
    "papermill": {
     "duration": 0.01938,
     "end_time": "2024-07-12T15:35:51.388942",
     "exception": false,
     "start_time": "2024-07-12T15:35:51.369562",
     "status": "completed"
    },
    "tags": []
   },
   "outputs": [],
   "source": [
    "def factorialNumbers(N: int) -> list[int]:\n",
    "    def factorial(i: int, curr: int) -> None:\n",
    "        if curr > N:\n",
    "            return\n",
    "        else:\n",
    "            result.append(curr)\n",
    "            factorial(i + 1, curr * (i + 1))\n",
    "\n",
    "    result: list[int] = []\n",
    "    factorial(1, 1)\n",
    "    return result\n",
    "\n",
    "# Testing the solution\n",
    "assert factorialNumbers(3) == [1, 2]\n",
    "assert factorialNumbers(6) == [1, 2, 6]"
   ]
  },
  {
   "cell_type": "code",
   "execution_count": 50,
   "id": "b6270d65",
   "metadata": {
    "execution": {
     "iopub.execute_input": "2024-07-12T15:35:51.418249Z",
     "iopub.status.busy": "2024-07-12T15:35:51.417880Z",
     "iopub.status.idle": "2024-07-12T15:35:51.421784Z",
     "shell.execute_reply": "2024-07-12T15:35:51.421378Z"
    },
    "lines_to_next_cell": 1,
    "papermill": {
     "duration": 0.019737,
     "end_time": "2024-07-12T15:35:51.422838",
     "exception": false,
     "start_time": "2024-07-12T15:35:51.403101",
     "status": "completed"
    },
    "tags": []
   },
   "outputs": [],
   "source": [
    "def reverseArray(nums: list[int]):\n",
    "    def reverse(i: int, j: int) -> None:\n",
    "        if i >= j:\n",
    "            return\n",
    "        nums[i], nums[j] = nums[j], nums[i]\n",
    "        reverse(i + 1, j - 1)\n",
    "\n",
    "    N = len(nums)\n",
    "    reverse(0, N - 1)\n",
    "    return nums\n",
    "\n",
    "# Testing the solution\n",
    "assert reverseArray([1,2]) == [2,1]\n",
    "assert reverseArray([1,2,3,4]) == [4,3,2,1]"
   ]
  },
  {
   "cell_type": "code",
   "execution_count": 51,
   "id": "89cf59c4",
   "metadata": {
    "execution": {
     "iopub.execute_input": "2024-07-12T15:35:51.451580Z",
     "iopub.status.busy": "2024-07-12T15:35:51.451298Z",
     "iopub.status.idle": "2024-07-12T15:35:51.455681Z",
     "shell.execute_reply": "2024-07-12T15:35:51.455159Z"
    },
    "lines_to_next_cell": 1,
    "papermill": {
     "duration": 0.020044,
     "end_time": "2024-07-12T15:35:51.456806",
     "exception": false,
     "start_time": "2024-07-12T15:35:51.436762",
     "status": "completed"
    },
    "tags": []
   },
   "outputs": [],
   "source": [
    "def isPalindrome2(s: str) -> bool:\n",
    "    def check(i: int, j: int) -> bool:\n",
    "        if i >= j:\n",
    "            return True\n",
    "        elif not s[i].isalnum():\n",
    "            return check(i + 1, j)\n",
    "        elif not s[j].isalnum():\n",
    "            return check(i, j - 1)\n",
    "        else:\n",
    "            return  s[i].lower() == s[j].lower() and check(i + 1, j - 1)\n",
    "\n",
    "    N = len(s)\n",
    "    return check(0, N - 1)\n",
    "\n",
    "# Testing the solution\n",
    "assert isPalindrome2(\"A man, a plan, a canal: Panama\") == True\n",
    "assert isPalindrome2(\"race a car\") == False\n",
    "assert isPalindrome2(\"0P\") == False"
   ]
  },
  {
   "cell_type": "code",
   "execution_count": 52,
   "id": "bb5a8346",
   "metadata": {
    "execution": {
     "iopub.execute_input": "2024-07-12T15:35:51.486763Z",
     "iopub.status.busy": "2024-07-12T15:35:51.486329Z",
     "iopub.status.idle": "2024-07-12T15:35:51.491796Z",
     "shell.execute_reply": "2024-07-12T15:35:51.491257Z"
    },
    "lines_to_next_cell": 1,
    "papermill": {
     "duration": 0.02097,
     "end_time": "2024-07-12T15:35:51.492806",
     "exception": false,
     "start_time": "2024-07-12T15:35:51.471836",
     "status": "completed"
    },
    "tags": []
   },
   "outputs": [],
   "source": [
    "def frequencyCount(arr: list[int], N: int, P: int) -> list[int]:\n",
    "    \"\"\"\n",
    "    Similar to finding the missing duplicate number problem.\n",
    "    \"\"\"\n",
    "    def backtrack(i: int) -> None:\n",
    "        if i >= N:\n",
    "            return\n",
    "        elif arr[i] <= 0:\n",
    "            arr[i] -= 1\n",
    "        else:\n",
    "            arr[i], next_ = -1, arr[i] - 1\n",
    "            backtrack(next_)\n",
    "\n",
    "    for i in range(N):\n",
    "        if arr[i] > 0:\n",
    "            arr[i], next_ = 0, arr[i] - 1\n",
    "            backtrack(next_)\n",
    "\n",
    "    for i in range(N):\n",
    "        arr[i] = abs(arr[i])\n",
    "\n",
    "    return arr\n",
    "\n",
    "# Testing the solution\n",
    "assert frequencyCount([2, 3, 2, 3, 5], 5, 5) == [0, 2, 2, 0, 1]\n",
    "assert frequencyCount([3, 3, 3, 3], 4, 3) == [0, 0, 4, 0]\n",
    "assert frequencyCount([8, 9], 2, 9)"
   ]
  },
  {
   "cell_type": "code",
   "execution_count": 53,
   "id": "1ece5c67",
   "metadata": {
    "execution": {
     "iopub.execute_input": "2024-07-12T15:35:51.521526Z",
     "iopub.status.busy": "2024-07-12T15:35:51.521105Z",
     "iopub.status.idle": "2024-07-12T15:35:51.525964Z",
     "shell.execute_reply": "2024-07-12T15:35:51.525544Z"
    },
    "lines_to_next_cell": 1,
    "papermill": {
     "duration": 0.020362,
     "end_time": "2024-07-12T15:35:51.527020",
     "exception": false,
     "start_time": "2024-07-12T15:35:51.506658",
     "status": "completed"
    },
    "tags": []
   },
   "outputs": [],
   "source": [
    "def frequencyCountGFG(arr: list[int], N: int, P: int) -> list[int]:\n",
    "    \"\"\"\n",
    "    Same idea but a diff approach: -ve values represent integers\n",
    "    Instead of backtracking, we can swap with i until we hit a freq\n",
    "    \"\"\"\n",
    "    for i in range(N):\n",
    "        while arr[i] > 0:\n",
    "            j = arr[i] - 1\n",
    "            if j >= N:\n",
    "                arr[i] = 0\n",
    "            elif arr[j] <= 0: # j < N and arr[j] <= 0 (arr[j] is a freq)\n",
    "                arr[j] -= 1\n",
    "                arr[i] = 0\n",
    "            else: # j < N and arr[j] > 0 (arr[j] is a number, we swap)\n",
    "                arr[i], arr[j] = arr[j], arr[i]\n",
    "                arr[j] = -1\n",
    "\n",
    "    for i in range(N):\n",
    "        arr[i] = abs(arr[i])\n",
    "\n",
    "    return arr\n",
    "\n",
    "assert frequencyCountGFG([2, 3, 2, 3, 5], 5, 5) == [0, 2, 2, 0, 1]\n",
    "assert frequencyCountGFG([3, 3, 3, 3], 4, 3) == [0, 0, 4, 0]\n",
    "assert frequencyCountGFG([8, 9], 2, 9)"
   ]
  },
  {
   "cell_type": "markdown",
   "id": "8fe0125c",
   "metadata": {
    "papermill": {
     "duration": 0.013827,
     "end_time": "2024-07-12T15:35:51.554935",
     "exception": false,
     "start_time": "2024-07-12T15:35:51.541108",
     "status": "completed"
    },
    "tags": []
   },
   "source": [
    "LC Medium: https://leetcode.com/problems/frequency-of-the-most-frequent-element/description/"
   ]
  },
  {
   "cell_type": "code",
   "execution_count": 54,
   "id": "ad477e2a",
   "metadata": {
    "execution": {
     "iopub.execute_input": "2024-07-12T15:35:51.583943Z",
     "iopub.status.busy": "2024-07-12T15:35:51.583446Z",
     "iopub.status.idle": "2024-07-12T15:35:51.588727Z",
     "shell.execute_reply": "2024-07-12T15:35:51.588287Z"
    },
    "lines_to_next_cell": 1,
    "papermill": {
     "duration": 0.021046,
     "end_time": "2024-07-12T15:35:51.589804",
     "exception": false,
     "start_time": "2024-07-12T15:35:51.568758",
     "status": "completed"
    },
    "tags": []
   },
   "outputs": [],
   "source": [
    "# Had to see the hint that is a sliding window problem\n",
    "# https://leetcode.com/problems/frequency-of-the-most-frequent-element/submissions/1309518869\n",
    "def maxFrequency(nums: list[int], k: int) -> int:\n",
    "    nums.sort()\n",
    "    N, max_freq, i, j, curr_max, cost = len(nums), 1, 0, 0, nums[0], 0\n",
    "    while i < N and j < N:\n",
    "        if cost <= k:\n",
    "            max_freq = max(max_freq, j - i + 1)\n",
    "            j += 1\n",
    "            if j < N:\n",
    "                cost += (nums[j] - curr_max) * (j - i)\n",
    "                curr_max = max(curr_max, nums[j])\n",
    "        else:\n",
    "            cost -= curr_max - nums[i]\n",
    "            i += 1\n",
    "\n",
    "    return max_freq\n",
    "\n",
    "# Testing the solution\n",
    "assert maxFrequency([1,1,1,1,1,1,11,11,11,12,12,12,12,12,12,12,12], 10) == 11\n",
    "assert maxFrequency([1], 10) == 1\n",
    "assert maxFrequency([3,9,6], 2) == 1\n",
    "assert maxFrequency([1,4,8,13], 5) == 2"
   ]
  },
  {
   "cell_type": "code",
   "execution_count": 55,
   "id": "226b20de",
   "metadata": {
    "execution": {
     "iopub.execute_input": "2024-07-12T15:35:51.620992Z",
     "iopub.status.busy": "2024-07-12T15:35:51.620576Z",
     "iopub.status.idle": "2024-07-12T15:35:51.626089Z",
     "shell.execute_reply": "2024-07-12T15:35:51.625657Z"
    },
    "lines_to_next_cell": 1,
    "papermill": {
     "duration": 0.023183,
     "end_time": "2024-07-12T15:35:51.627097",
     "exception": false,
     "start_time": "2024-07-12T15:35:51.603914",
     "status": "completed"
    },
    "tags": []
   },
   "outputs": [],
   "source": [
    "# https://leetcode.com/problems/frequency-of-the-most-frequent-element/submissions/1309910554/\n",
    "def maxFrequencyBetter(nums: list[int], k: int) -> int:\n",
    "    \"\"\"\n",
    "    Continue expanding if cost <= k.\n",
    "    If cost exceeds k, slide.\n",
    "    \"\"\"\n",
    "    nums.sort()\n",
    "    N, max_window, cost, curr_max = len(nums), 1, 0, nums[0]\n",
    "    i, j = 0, 1\n",
    "    while j < N:\n",
    "\n",
    "        # Continue expanding always\n",
    "        cost += (nums[j] - curr_max) * (j - i)\n",
    "        curr_max = max(curr_max, nums[j])\n",
    "        j += 1\n",
    "\n",
    "        if cost <= k:\n",
    "            max_window = max(max_window, j - i)\n",
    "        else: # Shrink window\n",
    "            cost -= curr_max - nums[i]\n",
    "            i += 1\n",
    "\n",
    "    return max_window\n",
    "\n",
    "# Testing the solution\n",
    "assert maxFrequencyBetter([1,1,1,1,1,1,11,11,11,12,12,12,12,12,12,12,12], 10) == 11\n",
    "assert maxFrequencyBetter([1], 10) == 1\n",
    "assert maxFrequencyBetter([3,9,6], 2) == 1\n",
    "assert maxFrequencyBetter([1,4,8,13], 5) == 2"
   ]
  },
  {
   "cell_type": "markdown",
   "id": "709133f7",
   "metadata": {
    "papermill": {
     "duration": 0.013932,
     "end_time": "2024-07-12T15:35:51.655016",
     "exception": false,
     "start_time": "2024-07-12T15:35:51.641084",
     "status": "completed"
    },
    "tags": []
   },
   "source": [
    "Sorting - 1"
   ]
  },
  {
   "cell_type": "code",
   "execution_count": 56,
   "id": "5f48c157",
   "metadata": {
    "execution": {
     "iopub.execute_input": "2024-07-12T15:35:51.684015Z",
     "iopub.status.busy": "2024-07-12T15:35:51.683679Z",
     "iopub.status.idle": "2024-07-12T15:35:51.687828Z",
     "shell.execute_reply": "2024-07-12T15:35:51.687356Z"
    },
    "lines_to_next_cell": 1,
    "papermill": {
     "duration": 0.01986,
     "end_time": "2024-07-12T15:35:51.688913",
     "exception": false,
     "start_time": "2024-07-12T15:35:51.669053",
     "status": "completed"
    },
    "tags": []
   },
   "outputs": [],
   "source": [
    "def ssort(nums: list[int]) -> list[int]:\n",
    "    \"\"\"\n",
    "    Find the minimum and put it at the right place. Repeat for each index\n",
    "    \"\"\"\n",
    "    N = len(nums)\n",
    "    for i in range(N - 1):\n",
    "        min_idx = i\n",
    "        for j in range(i, N):\n",
    "            if nums[j] < nums[min_idx]:\n",
    "                min_idx = j\n",
    "        nums[i], nums[min_idx] = nums[min_idx], nums[i]\n",
    "\n",
    "    return nums\n",
    "\n",
    "# Testing the solution\n",
    "assert ssort([2,3,1,2,3,4]) == [1,2,2,3,3,4]"
   ]
  },
  {
   "cell_type": "code",
   "execution_count": 57,
   "id": "ca02da2e",
   "metadata": {
    "execution": {
     "iopub.execute_input": "2024-07-12T15:35:51.717737Z",
     "iopub.status.busy": "2024-07-12T15:35:51.717444Z",
     "iopub.status.idle": "2024-07-12T15:35:51.721898Z",
     "shell.execute_reply": "2024-07-12T15:35:51.721466Z"
    },
    "lines_to_next_cell": 1,
    "papermill": {
     "duration": 0.020111,
     "end_time": "2024-07-12T15:35:51.722997",
     "exception": false,
     "start_time": "2024-07-12T15:35:51.702886",
     "status": "completed"
    },
    "tags": []
   },
   "outputs": [],
   "source": [
    "def bsort(nums: list[int]) -> list[int]:\n",
    "    \"\"\"\n",
    "    Compares adjacent elements and places greatest element at the last of the window\n",
    "    Best: O (N), Worst / Avg: O(N ^ 2)\n",
    "    \"\"\"\n",
    "    N = len(nums)\n",
    "    for i in range(N):\n",
    "        swapped: bool = False\n",
    "        for j in range(N - i - 1):\n",
    "            if nums[j] > nums[j + 1]:\n",
    "                nums[j], nums[j + 1] = nums[j + 1], nums[j]\n",
    "                swapped = True\n",
    "\n",
    "        if not swapped:\n",
    "            break\n",
    "\n",
    "    return nums\n",
    "\n",
    "# Testing the solution\n",
    "assert bsort([2,3,1,2,3,4]) == [1,2,2,3,3,4]\n",
    "assert bsort([1,2,3,4,5]) == [1,2,3,4,5]"
   ]
  },
  {
   "cell_type": "code",
   "execution_count": 58,
   "id": "6c55c24f",
   "metadata": {
    "execution": {
     "iopub.execute_input": "2024-07-12T15:35:51.751675Z",
     "iopub.status.busy": "2024-07-12T15:35:51.751355Z",
     "iopub.status.idle": "2024-07-12T15:35:51.755375Z",
     "shell.execute_reply": "2024-07-12T15:35:51.754964Z"
    },
    "lines_to_next_cell": 1,
    "papermill": {
     "duration": 0.019549,
     "end_time": "2024-07-12T15:35:51.756482",
     "exception": false,
     "start_time": "2024-07-12T15:35:51.736933",
     "status": "completed"
    },
    "tags": []
   },
   "outputs": [],
   "source": [
    "def isort(nums: list[int]) -> list[int]:\n",
    "    \"\"\"\n",
    "    Avg, Worst: O (N ^ 2), Best: O(N)\n",
    "    For each element, make sure it is inserted correctly\n",
    "    \"\"\"\n",
    "    N = len(nums)\n",
    "    for i in range(N):\n",
    "        j = i\n",
    "        while j > 0 and nums[j] < nums[j - 1]:\n",
    "            nums[j], nums[j - 1] = nums[j - 1], nums[j]\n",
    "            j -= 1\n",
    "    return nums\n",
    "\n",
    "# Testing the solution\n",
    "assert isort([2,3,1,2,3,4]) == [1,2,2,3,3,4]\n",
    "assert isort([1,2,3,4,5]) == [1,2,3,4,5]"
   ]
  },
  {
   "cell_type": "code",
   "execution_count": 59,
   "id": "b83bbe39",
   "metadata": {
    "execution": {
     "iopub.execute_input": "2024-07-12T15:35:51.785544Z",
     "iopub.status.busy": "2024-07-12T15:35:51.785148Z",
     "iopub.status.idle": "2024-07-12T15:35:51.789491Z",
     "shell.execute_reply": "2024-07-12T15:35:51.788958Z"
    },
    "lines_to_next_cell": 1,
    "papermill": {
     "duration": 0.020085,
     "end_time": "2024-07-12T15:35:51.790568",
     "exception": false,
     "start_time": "2024-07-12T15:35:51.770483",
     "status": "completed"
    },
    "tags": []
   },
   "outputs": [],
   "source": [
    "def isort2(nums: list[int]) -> list[int]:\n",
    "    \"\"\"\n",
    "    Avg, Worst: O (N ^ 2), Best: O(N)\n",
    "    For each element, make sure it is inserted correctly\n",
    "    \"\"\"\n",
    "    N = len(nums)\n",
    "    for i in range(1, N):\n",
    "        curr, j = nums[i], i - 1\n",
    "        while j >= 0 and nums[j] > curr:\n",
    "            nums[j + 1] = nums[j]\n",
    "            j -= 1\n",
    "        nums[j + 1] = curr\n",
    "\n",
    "    return nums\n",
    "\n",
    "# Testing the solution\n",
    "assert isort2([2,3,1,2,3,4]) == [1,2,2,3,3,4]\n",
    "assert isort2([1,2,3,4,5]) == [1,2,3,4,5]"
   ]
  },
  {
   "cell_type": "markdown",
   "id": "06a9c2c1",
   "metadata": {
    "papermill": {
     "duration": 0.013943,
     "end_time": "2024-07-12T15:35:51.818714",
     "exception": false,
     "start_time": "2024-07-12T15:35:51.804771",
     "status": "completed"
    },
    "tags": []
   },
   "source": [
    "Code Gladiators Semi Final"
   ]
  },
  {
   "cell_type": "code",
   "execution_count": 60,
   "id": "fcda3819",
   "metadata": {
    "execution": {
     "iopub.execute_input": "2024-07-12T15:35:51.847755Z",
     "iopub.status.busy": "2024-07-12T15:35:51.847239Z",
     "iopub.status.idle": "2024-07-12T15:35:51.852498Z",
     "shell.execute_reply": "2024-07-12T15:35:51.852058Z"
    },
    "lines_to_next_cell": 1,
    "papermill": {
     "duration": 0.02096,
     "end_time": "2024-07-12T15:35:51.853571",
     "exception": false,
     "start_time": "2024-07-12T15:35:51.832611",
     "status": "completed"
    },
    "tags": []
   },
   "outputs": [],
   "source": [
    "# Q1\n",
    "def max_rides_q1(arr1: list[int], N1: int, arr2: list[int], N2: int, money: int) -> int:\n",
    "    i = j = rides = 0\n",
    "    while i < N1 or j < N2:\n",
    "        if i < N1 and arr1[i] <= money and (j >= N2 or arr1[i] <= arr2[j]):\n",
    "            rides, i, money = rides + 1, i + 1, money - arr1[i]\n",
    "        elif j < N2 and arr2[j] <= money and (i >= N1 or arr1[i] > arr2[j]):\n",
    "            rides, j, money = rides + 1, j + 1, money - arr2[j]\n",
    "        else:\n",
    "            break\n",
    "\n",
    "    return rides\n",
    "\n",
    "# Testing the solution\n",
    "assert max_rides_q1([5,3,6,8,10,20], 6, [4,4,4,6,7,10,4,8], 8, 20) == 5\n",
    "assert max_rides_q1([10,20,30,40], 4, [5,3,9,10,2,3,6,9,15], 9, 60) == 9"
   ]
  },
  {
   "cell_type": "markdown",
   "id": "ddd2b276",
   "metadata": {
    "papermill": {
     "duration": 0.013894,
     "end_time": "2024-07-12T15:35:51.881461",
     "exception": false,
     "start_time": "2024-07-12T15:35:51.867567",
     "status": "completed"
    },
    "tags": []
   },
   "source": [
    "Merge sort"
   ]
  },
  {
   "cell_type": "code",
   "execution_count": 61,
   "id": "9bae07ec",
   "metadata": {
    "execution": {
     "iopub.execute_input": "2024-07-12T15:35:51.910530Z",
     "iopub.status.busy": "2024-07-12T15:35:51.910008Z",
     "iopub.status.idle": "2024-07-12T15:35:51.915691Z",
     "shell.execute_reply": "2024-07-12T15:35:51.915244Z"
    },
    "lines_to_next_cell": 1,
    "papermill": {
     "duration": 0.021493,
     "end_time": "2024-07-12T15:35:51.916800",
     "exception": false,
     "start_time": "2024-07-12T15:35:51.895307",
     "status": "completed"
    },
    "tags": []
   },
   "outputs": [],
   "source": [
    "def msort(arr: list[int]) -> list[int]:\n",
    "    \"\"\"\n",
    "    Divide and merge\n",
    "    Best, Avg, Worst: O(n log n)\n",
    "    \"\"\"\n",
    "    def merge(arr1: list[int], arr2: list[int]) -> list[int]:\n",
    "        N1, N2, i, j = len(arr1), len(arr2), 0, 0\n",
    "        result: list[int] = []\n",
    "        while i < N1 or j < N2:\n",
    "            if j >= N2 or (i < N1 and arr1[i] <= arr2[j]):\n",
    "                result.append(arr1[i])\n",
    "                i += 1\n",
    "            else:\n",
    "                result.append(arr2[j])\n",
    "                j += 1\n",
    "\n",
    "        return result\n",
    "\n",
    "    N = len(arr)\n",
    "    if N == 1:\n",
    "        return arr\n",
    "    else:\n",
    "        mid = N // 2\n",
    "        left = msort(arr[:mid])\n",
    "        right = msort(arr[mid:])\n",
    "        return merge(left, right)\n",
    "\n",
    "# Testing the solution\n",
    "assert msort([5,4,3,2,1]) == [1,2,3,4,5]\n",
    "assert msort([2,1]) == [1,2]\n",
    "assert msort([1]) == [1]"
   ]
  },
  {
   "cell_type": "code",
   "execution_count": 62,
   "id": "64ad8a6d",
   "metadata": {
    "execution": {
     "iopub.execute_input": "2024-07-12T15:35:51.946103Z",
     "iopub.status.busy": "2024-07-12T15:35:51.945639Z",
     "iopub.status.idle": "2024-07-12T15:35:51.952883Z",
     "shell.execute_reply": "2024-07-12T15:35:51.952426Z"
    },
    "lines_to_next_cell": 1,
    "papermill": {
     "duration": 0.022962,
     "end_time": "2024-07-12T15:35:51.953916",
     "exception": false,
     "start_time": "2024-07-12T15:35:51.930954",
     "status": "completed"
    },
    "tags": []
   },
   "outputs": [],
   "source": [
    "def msortBetter(arr: list[int]) -> list[int]:\n",
    "    def backtrack(left: int, right: int) -> None:\n",
    "        if right - left <= 1:\n",
    "            return\n",
    "        else:\n",
    "            mid = (left + right) // 2\n",
    "            backtrack(left, mid)\n",
    "            backtrack(mid, right)\n",
    "\n",
    "            temp: list[int] = []\n",
    "            i, j = left, mid\n",
    "            while i < mid or j < right:\n",
    "                if j >= right or (i < mid and arr[i] <= arr[j]):\n",
    "                    temp.append(arr[i])\n",
    "                    i += 1\n",
    "                else:\n",
    "                    temp.append(arr[j])\n",
    "                    j += 1\n",
    "\n",
    "            for idx in range(left, right):\n",
    "                arr[idx] = temp[idx - left]\n",
    "\n",
    "    N = len(arr)\n",
    "    backtrack(0, N)\n",
    "    return arr\n",
    "\n",
    "# Testing the solution\n",
    "for _ in range(50):\n",
    "    arr = np.random.randint(0, 50, random.randint(1, 51)).tolist()\n",
    "    msortBetter(arr)\n",
    "    assert arr == sorted(arr)"
   ]
  },
  {
   "cell_type": "markdown",
   "id": "d01399f4",
   "metadata": {
    "papermill": {
     "duration": 0.013889,
     "end_time": "2024-07-12T15:35:51.981709",
     "exception": false,
     "start_time": "2024-07-12T15:35:51.967820",
     "status": "completed"
    },
    "tags": []
   },
   "source": [
    "Quick Sort"
   ]
  },
  {
   "cell_type": "code",
   "execution_count": 63,
   "id": "2b24de28",
   "metadata": {
    "execution": {
     "iopub.execute_input": "2024-07-12T15:35:52.010653Z",
     "iopub.status.busy": "2024-07-12T15:35:52.010199Z",
     "iopub.status.idle": "2024-07-12T15:35:52.016217Z",
     "shell.execute_reply": "2024-07-12T15:35:52.015798Z"
    },
    "lines_to_next_cell": 1,
    "papermill": {
     "duration": 0.021637,
     "end_time": "2024-07-12T15:35:52.017266",
     "exception": false,
     "start_time": "2024-07-12T15:35:51.995629",
     "status": "completed"
    },
    "tags": []
   },
   "outputs": [],
   "source": [
    "def qsort(arr: list[int]) -> list[int]:\n",
    "    \"\"\"\n",
    "    Pick a pivot and place it at its correct position - smaller elements to the left, larger elements to the right of pivot\n",
    "    Sort left & right halves recusively\n",
    "    \"\"\"\n",
    "    N = len(arr)\n",
    "    if N <= 1:\n",
    "        return arr\n",
    "    else:\n",
    "        left, right, pivot = [], [], 0\n",
    "        for i in range(N):\n",
    "            if i != pivot:\n",
    "                if arr[i] <= arr[pivot]:\n",
    "                    left.append(arr[i])\n",
    "                else:\n",
    "                    right.append(arr[i])\n",
    "\n",
    "        return qsort(left) + [arr[pivot]] + qsort(right)\n",
    "\n",
    "# Testing the solution\n",
    "for _ in range(50):\n",
    "    arr = np.random.randint(0, 50, random.randint(1, 51)).tolist()\n",
    "    assert qsort(arr) == sorted(arr)"
   ]
  },
  {
   "cell_type": "code",
   "execution_count": 64,
   "id": "e5849396",
   "metadata": {
    "execution": {
     "iopub.execute_input": "2024-07-12T15:35:52.046376Z",
     "iopub.status.busy": "2024-07-12T15:35:52.045896Z",
     "iopub.status.idle": "2024-07-12T15:35:52.053336Z",
     "shell.execute_reply": "2024-07-12T15:35:52.052932Z"
    },
    "lines_to_next_cell": 1,
    "papermill": {
     "duration": 0.023014,
     "end_time": "2024-07-12T15:35:52.054366",
     "exception": false,
     "start_time": "2024-07-12T15:35:52.031352",
     "status": "completed"
    },
    "tags": []
   },
   "outputs": [],
   "source": [
    "def qsortBetter(arr: list[int]) -> list[int]:\n",
    "    def partition(left: int, right: int, pivot: int) -> int:\n",
    "        \"\"\"\n",
    "        Place two pointers, i = left, j = right\n",
    "        Iterate i forward until we hit a number greater than arr[pivot]\n",
    "        Iterate j backward until we hit a number lesser than or equal to arr[pivot]\n",
    "        if i < j:\n",
    "            Swap arr[i], arr[j]\n",
    "        else:\n",
    "            swap arr[pivot], arr[j]\n",
    "            return j\n",
    "        \"\"\"\n",
    "        i, j = left, right\n",
    "        while i < j:\n",
    "            while i < right and arr[i] <= arr[pivot]:\n",
    "                i += 1\n",
    "            while j > left and arr[j] > arr[pivot]:\n",
    "                j -= 1\n",
    "            if i < j:\n",
    "                arr[i], arr[j] = arr[j], arr[i]\n",
    "\n",
    "        arr[pivot], arr[j] = arr[j], arr[pivot]\n",
    "        return j\n",
    "\n",
    "    def backtrack(left: int, right: int) -> None:\n",
    "        if left < right:\n",
    "            pivot = partition(left, right, left)\n",
    "            backtrack(left, pivot - 1)\n",
    "            backtrack(pivot + 1, right)\n",
    "\n",
    "    N = len(arr)\n",
    "    backtrack(0, N - 1)\n",
    "    return arr\n",
    "\n",
    "# Testing the solution\n",
    "for _ in range(50):\n",
    "    arr = np.random.randint(0, 50, random.randint(1, 51)).tolist()\n",
    "    qsortBetter(arr)\n",
    "    assert arr == sorted(arr)"
   ]
  },
  {
   "cell_type": "markdown",
   "id": "7d24ea52",
   "metadata": {
    "papermill": {
     "duration": 0.014126,
     "end_time": "2024-07-12T15:35:52.083123",
     "exception": false,
     "start_time": "2024-07-12T15:35:52.068997",
     "status": "completed"
    },
    "tags": []
   },
   "source": [
    "LC POTD"
   ]
  },
  {
   "cell_type": "code",
   "execution_count": 65,
   "id": "c8d69999",
   "metadata": {
    "execution": {
     "iopub.execute_input": "2024-07-12T15:35:52.112344Z",
     "iopub.status.busy": "2024-07-12T15:35:52.111744Z",
     "iopub.status.idle": "2024-07-12T15:35:52.115621Z",
     "shell.execute_reply": "2024-07-12T15:35:52.115094Z"
    },
    "lines_to_next_cell": 1,
    "papermill": {
     "duration": 0.019585,
     "end_time": "2024-07-12T15:35:52.116660",
     "exception": false,
     "start_time": "2024-07-12T15:35:52.097075",
     "status": "completed"
    },
    "tags": []
   },
   "outputs": [],
   "source": [
    "# https://leetcode.com/problems/pass-the-pillow/submissions/1311515636\n",
    "def passThePillow(n: int, time: int) -> int:\n",
    "    atFirst = (time // (n - 1)) % 2 == 0\n",
    "    position = time % (n - 1)\n",
    "    return position + 1 if atFirst else n - position\n",
    "\n",
    "# Testing the solution\n",
    "assert passThePillow(4, 5) == 2\n",
    "assert passThePillow(3, 2) == 3\n",
    "assert passThePillow(6, 5) == 6"
   ]
  },
  {
   "cell_type": "code",
   "execution_count": 66,
   "id": "be0a407e",
   "metadata": {
    "execution": {
     "iopub.execute_input": "2024-07-12T15:35:52.145809Z",
     "iopub.status.busy": "2024-07-12T15:35:52.145380Z",
     "iopub.status.idle": "2024-07-12T15:35:52.150463Z",
     "shell.execute_reply": "2024-07-12T15:35:52.149948Z"
    },
    "lines_to_next_cell": 1,
    "papermill": {
     "duration": 0.020973,
     "end_time": "2024-07-12T15:35:52.151606",
     "exception": false,
     "start_time": "2024-07-12T15:35:52.130633",
     "status": "completed"
    },
    "tags": []
   },
   "outputs": [],
   "source": [
    "def intersect(nums1: list[int], nums2: list[int]) -> list[int]:\n",
    "    \"\"\"\n",
    "    Taking this approach since in one of the follow ups, its mentioned that the array is sorted\n",
    "    \"\"\"\n",
    "    # Sort both the arrays\n",
    "    nums1.sort()\n",
    "    nums2.sort()\n",
    "\n",
    "    N1, N2, i, j = len(nums1), len(nums2), 0, 0\n",
    "    intersection: list[int] = []\n",
    "    while i < N1 and j < N2:\n",
    "        if nums1[i] < nums2[j]:\n",
    "            i += 1\n",
    "        elif nums1[i] > nums2[j]:\n",
    "            j += 1\n",
    "        else:\n",
    "            intersection.append(nums1[i])\n",
    "            i, j = i + 1, j + 1\n",
    "\n",
    "    return intersection\n",
    "\n",
    "# Testing the solution\n",
    "assert intersect([1,2,2,1], [2,2]) == [2,2]\n",
    "assert intersect([4,9,5], [9,4,9,8,4]) == [4,9]\n",
    "assert intersect([4,9,5,4], [9,4,9,8,4]) == [4,4,9]"
   ]
  },
  {
   "cell_type": "markdown",
   "id": "c9ce06ce",
   "metadata": {
    "papermill": {
     "duration": 0.013749,
     "end_time": "2024-07-12T15:35:52.179313",
     "exception": false,
     "start_time": "2024-07-12T15:35:52.165564",
     "status": "completed"
    },
    "tags": []
   },
   "source": [
    "Codeforces Practice"
   ]
  },
  {
   "cell_type": "code",
   "execution_count": 67,
   "id": "fd52ba67",
   "metadata": {
    "execution": {
     "iopub.execute_input": "2024-07-12T15:35:52.208162Z",
     "iopub.status.busy": "2024-07-12T15:35:52.207683Z",
     "iopub.status.idle": "2024-07-12T15:35:52.211219Z",
     "shell.execute_reply": "2024-07-12T15:35:52.210754Z"
    },
    "lines_to_next_cell": 1,
    "papermill": {
     "duration": 0.019112,
     "end_time": "2024-07-12T15:35:52.212312",
     "exception": false,
     "start_time": "2024-07-12T15:35:52.193200",
     "status": "completed"
    },
    "tags": []
   },
   "outputs": [],
   "source": [
    "# Drinks 800\n",
    "def drinks(proportions: list[int], n_drinks: int) -> float:\n",
    "    return (sum(proportions) * 100) / (100 * n_drinks)\n",
    "\n",
    "# Testing the solution\n",
    "assert round(drinks([50,50,100], 3), 2) == 66.67\n",
    "assert round(drinks([0,25,50,75], 4), 2) == 37.5"
   ]
  },
  {
   "cell_type": "code",
   "execution_count": 68,
   "id": "b793f455",
   "metadata": {
    "execution": {
     "iopub.execute_input": "2024-07-12T15:35:52.241307Z",
     "iopub.status.busy": "2024-07-12T15:35:52.240961Z",
     "iopub.status.idle": "2024-07-12T15:35:52.245455Z",
     "shell.execute_reply": "2024-07-12T15:35:52.244914Z"
    },
    "lines_to_next_cell": 1,
    "papermill": {
     "duration": 0.020293,
     "end_time": "2024-07-12T15:35:52.246616",
     "exception": false,
     "start_time": "2024-07-12T15:35:52.226323",
     "status": "completed"
    },
    "tags": []
   },
   "outputs": [],
   "source": [
    "# Substring and subsequence - 1200 \n",
    "def substr_subsequence(text1: str, text2: str) -> int:\n",
    "    N1, N2 = len(text1), len(text2)\n",
    "    ans: int = N1 + N2\n",
    "    for k in range(N2):\n",
    "        i, j = 0, k\n",
    "        while i < N1 and j < N2:\n",
    "            if text1[i] == text2[j]:\n",
    "                j += 1\n",
    "            i += 1\n",
    "        ans = min(ans, N1 + N2 - (j - k))\n",
    "\n",
    "    return ans\n",
    "\n",
    "# Testing the solution\n",
    "assert substr_subsequence(\"aba\", \"cb\") == 4\n",
    "assert substr_subsequence(\"contest\", \"test\") == 7\n",
    "assert substr_subsequence(\"cde\", \"abcefg\") == 7\n",
    "assert substr_subsequence(\"cdaa\", \"cdca\") == 6"
   ]
  },
  {
   "cell_type": "markdown",
   "id": "b864bd53",
   "metadata": {
    "papermill": {
     "duration": 0.013958,
     "end_time": "2024-07-12T15:35:52.274666",
     "exception": false,
     "start_time": "2024-07-12T15:35:52.260708",
     "status": "completed"
    },
    "tags": []
   },
   "source": [
    "LC Biweekly - 6th July, started at 9 PM IST"
   ]
  },
  {
   "cell_type": "code",
   "execution_count": 69,
   "id": "2dd8e45d",
   "metadata": {
    "execution": {
     "iopub.execute_input": "2024-07-12T15:35:52.303483Z",
     "iopub.status.busy": "2024-07-12T15:35:52.303182Z",
     "iopub.status.idle": "2024-07-12T15:35:52.307122Z",
     "shell.execute_reply": "2024-07-12T15:35:52.306627Z"
    },
    "lines_to_next_cell": 1,
    "papermill": {
     "duration": 0.019675,
     "end_time": "2024-07-12T15:35:52.308210",
     "exception": false,
     "start_time": "2024-07-12T15:35:52.288535",
     "status": "completed"
    },
    "tags": []
   },
   "outputs": [],
   "source": [
    "# Q1\n",
    "def numberOfAlternatingGroups(colors: list[int]) -> int:\n",
    "    N = len(colors)\n",
    "    colors += colors[:2]\n",
    "    groups = 0\n",
    "    for i in range(N):\n",
    "        if colors[i + 2] == colors[i] and colors[i] != colors[i + 1]:\n",
    "            groups += 1\n",
    "    return groups\n",
    "\n",
    "# Testing the solution\n",
    "assert numberOfAlternatingGroups([0,1,0,0,1]) == 3\n",
    "assert numberOfAlternatingGroups([1,1,0]) == 1"
   ]
  },
  {
   "cell_type": "code",
   "execution_count": 70,
   "id": "7701afcb",
   "metadata": {
    "execution": {
     "iopub.execute_input": "2024-07-12T15:35:52.337078Z",
     "iopub.status.busy": "2024-07-12T15:35:52.336693Z",
     "iopub.status.idle": "2024-07-12T15:35:52.341091Z",
     "shell.execute_reply": "2024-07-12T15:35:52.340584Z"
    },
    "lines_to_next_cell": 1,
    "papermill": {
     "duration": 0.01998,
     "end_time": "2024-07-12T15:35:52.342116",
     "exception": false,
     "start_time": "2024-07-12T15:35:52.322136",
     "status": "completed"
    },
    "tags": []
   },
   "outputs": [],
   "source": [
    "# Q2\n",
    "def maximumPoints(enemyEnergies: list[int], currentEnergy: int) -> int:\n",
    "    \"\"\"\n",
    "    Sort by enemy energies.\n",
    "    We can only consume energy once from an enemy - we do this from the most 'expensive' enemy\n",
    "    We continue gaining points from the weaker guy\n",
    "    \"\"\"\n",
    "\n",
    "    enemyEnergies.sort()\n",
    "    N = len(enemyEnergies)\n",
    "    points = 0\n",
    "    while enemyEnergies:\n",
    "        if enemyEnergies[0] <= currentEnergy:\n",
    "            currentEnergy, points = currentEnergy % enemyEnergies[0], points + (currentEnergy // enemyEnergies[0])\n",
    "        elif points > 0:\n",
    "            currentEnergy += enemyEnergies.pop()\n",
    "        else:\n",
    "            break\n",
    "\n",
    "    return points\n",
    "\n",
    "# Testing the solution\n",
    "assert maximumPoints([3,2,2], 2) == 3\n",
    "assert maximumPoints([2], 10) == 5\n",
    "assert maximumPoints([2], 1) == 0"
   ]
  },
  {
   "cell_type": "markdown",
   "id": "d7002f9b",
   "metadata": {
    "papermill": {
     "duration": 0.01388,
     "end_time": "2024-07-12T15:35:52.369945",
     "exception": false,
     "start_time": "2024-07-12T15:35:52.356065",
     "status": "completed"
    },
    "tags": []
   },
   "source": [
    "Upsolving Q3"
   ]
  },
  {
   "cell_type": "code",
   "execution_count": 71,
   "id": "3ac42c70",
   "metadata": {
    "execution": {
     "iopub.execute_input": "2024-07-12T15:35:52.398767Z",
     "iopub.status.busy": "2024-07-12T15:35:52.398378Z",
     "iopub.status.idle": "2024-07-12T15:35:52.402938Z",
     "shell.execute_reply": "2024-07-12T15:35:52.402464Z"
    },
    "lines_to_next_cell": 1,
    "papermill": {
     "duration": 0.020261,
     "end_time": "2024-07-12T15:35:52.404087",
     "exception": false,
     "start_time": "2024-07-12T15:35:52.383826",
     "status": "completed"
    },
    "tags": []
   },
   "outputs": [],
   "source": [
    "# Q3\n",
    "# https://leetcode.com/problems/alternating-groups-ii/submissions/1311884953\n",
    "def numberOfAlternatingGroupsII(colors: list[int], k: int) -> int:\n",
    "    colors += colors[:k - 1]\n",
    "    N = len(colors)\n",
    "    i, j, prev, groups = 0, 0, int(not colors[0]), 0\n",
    "    while j < N:\n",
    "        if colors[j] != prev:\n",
    "            prev = int(colors[j])\n",
    "        else:\n",
    "            i = j\n",
    "        if j - i + 1 >= k:\n",
    "            groups += 1\n",
    "\n",
    "        j += 1\n",
    "\n",
    "    return groups\n",
    "\n",
    "# Testing the solution\n",
    "assert numberOfAlternatingGroupsII([0,1,0,0,1,0,1], 6) == 2\n",
    "assert numberOfAlternatingGroupsII([1,1,0,1], 4) == 0\n",
    "assert numberOfAlternatingGroupsII([0,1,0,1,0], 3) == 3"
   ]
  },
  {
   "cell_type": "markdown",
   "id": "f5496f5f",
   "metadata": {
    "papermill": {
     "duration": 0.013971,
     "end_time": "2024-07-12T15:35:52.432073",
     "exception": false,
     "start_time": "2024-07-12T15:35:52.418102",
     "status": "completed"
    },
    "tags": []
   },
   "source": [
    "Codeforces practice"
   ]
  },
  {
   "cell_type": "code",
   "execution_count": 72,
   "id": "e199a57c",
   "metadata": {
    "execution": {
     "iopub.execute_input": "2024-07-12T15:35:52.461093Z",
     "iopub.status.busy": "2024-07-12T15:35:52.460653Z",
     "iopub.status.idle": "2024-07-12T15:35:52.465245Z",
     "shell.execute_reply": "2024-07-12T15:35:52.464800Z"
    },
    "lines_to_next_cell": 1,
    "papermill": {
     "duration": 0.020293,
     "end_time": "2024-07-12T15:35:52.466340",
     "exception": false,
     "start_time": "2024-07-12T15:35:52.446047",
     "status": "completed"
    },
    "tags": []
   },
   "outputs": [],
   "source": [
    "def chewbacca(N: int) -> int:\n",
    "    # Invert and add to stack\n",
    "    stack: list[int] = []\n",
    "    while N > 0:\n",
    "        digit, N = N % 10, N // 10\n",
    "        stack.append(digit if digit < 5 or (digit == 9 and N == 0) else 9 - digit)\n",
    "\n",
    "    # Pop and accumulate to result\n",
    "    result: int = 0\n",
    "    while stack:\n",
    "        result = (result * 10) + stack.pop()\n",
    "\n",
    "    return result\n",
    "\n",
    "# Testing the solution\n",
    "assert chewbacca(4545) == 4444\n",
    "assert chewbacca(27) == 22\n",
    "assert chewbacca(9) == 9\n",
    "assert chewbacca(919) == 910"
   ]
  },
  {
   "cell_type": "markdown",
   "id": "72c3c5e5",
   "metadata": {
    "papermill": {
     "duration": 0.013928,
     "end_time": "2024-07-12T15:35:52.494240",
     "exception": false,
     "start_time": "2024-07-12T15:35:52.480312",
     "status": "completed"
    },
    "tags": []
   },
   "source": [
    "LC Weekly - 7th July 2024"
   ]
  },
  {
   "cell_type": "code",
   "execution_count": 73,
   "id": "5e6cb793",
   "metadata": {
    "execution": {
     "iopub.execute_input": "2024-07-12T15:35:52.522892Z",
     "iopub.status.busy": "2024-07-12T15:35:52.522497Z",
     "iopub.status.idle": "2024-07-12T15:35:52.526128Z",
     "shell.execute_reply": "2024-07-12T15:35:52.525615Z"
    },
    "lines_to_next_cell": 1,
    "papermill": {
     "duration": 0.019131,
     "end_time": "2024-07-12T15:35:52.527130",
     "exception": false,
     "start_time": "2024-07-12T15:35:52.507999",
     "status": "completed"
    },
    "tags": []
   },
   "outputs": [],
   "source": [
    "# Q1\n",
    "def getEncryptedString(s: str, k: int) -> str:\n",
    "    N = len(s)\n",
    "    result: list[str] = []\n",
    "    for i in range(N):\n",
    "        result.append(s[(i + k) % N])\n",
    "    return ''.join(result)\n",
    "\n",
    "# Testing the solution\n",
    "assert getEncryptedString(\"dart\", 3) == \"tdar\"\n",
    "assert getEncryptedString(\"aaa\", 1) == \"aaa\""
   ]
  },
  {
   "cell_type": "code",
   "execution_count": 74,
   "id": "95ed49ab",
   "metadata": {
    "execution": {
     "iopub.execute_input": "2024-07-12T15:35:52.555837Z",
     "iopub.status.busy": "2024-07-12T15:35:52.555441Z",
     "iopub.status.idle": "2024-07-12T15:35:52.559705Z",
     "shell.execute_reply": "2024-07-12T15:35:52.559185Z"
    },
    "lines_to_next_cell": 1,
    "papermill": {
     "duration": 0.019791,
     "end_time": "2024-07-12T15:35:52.560725",
     "exception": false,
     "start_time": "2024-07-12T15:35:52.540934",
     "status": "completed"
    },
    "tags": []
   },
   "outputs": [],
   "source": [
    "# Q2\n",
    "def validStrings(N: int) -> set[str]:\n",
    "    def backtrack(acc: list[str]) -> None:\n",
    "        if len(acc) == N:\n",
    "            result.add(''.join(acc))\n",
    "        else:\n",
    "            if not acc or acc[-1] == '1':\n",
    "                acc.append('0')\n",
    "                backtrack(acc)\n",
    "                acc.pop()\n",
    "            acc.append('1')\n",
    "            backtrack(acc)\n",
    "            acc.pop()\n",
    "\n",
    "    result: set[str] = set()\n",
    "    backtrack([])\n",
    "    return result\n",
    "\n",
    "# Testing the solution\n",
    "assert sorted(validStrings(3)) == ['010', '011', '101', '110', '111']"
   ]
  },
  {
   "cell_type": "code",
   "execution_count": 75,
   "id": "5064877b",
   "metadata": {
    "execution": {
     "iopub.execute_input": "2024-07-12T15:35:52.589563Z",
     "iopub.status.busy": "2024-07-12T15:35:52.589229Z",
     "iopub.status.idle": "2024-07-12T15:35:52.597549Z",
     "shell.execute_reply": "2024-07-12T15:35:52.597124Z"
    },
    "lines_to_next_cell": 1,
    "papermill": {
     "duration": 0.023903,
     "end_time": "2024-07-12T15:35:52.598591",
     "exception": false,
     "start_time": "2024-07-12T15:35:52.574688",
     "status": "completed"
    },
    "tags": []
   },
   "outputs": [],
   "source": [
    "# Q4\n",
    "def minimumCost(target: str, words: list[str], costs: list[int]) -> int:\n",
    "    match_cache: dict[tuple[int, int], str] = dict()\n",
    "    def match(i_: int, s_length: int, s: str) -> bool:\n",
    "        if (i_, s_length) in match_cache:\n",
    "            return s == match_cache[(i_, s_length)]\n",
    "        elif i_ + s_length > target_length:\n",
    "            return False\n",
    "        else:\n",
    "            i = i_\n",
    "            for j in range(s_length):\n",
    "                if i < target_length and s[j] == target[i]:\n",
    "                    i += 1\n",
    "                else:\n",
    "                    return False\n",
    "\n",
    "            match_cache[(i_, s_length)] = s\n",
    "            return True\n",
    "\n",
    "    @functools.cache\n",
    "    def backtrack(i: int) -> float:\n",
    "        if i == target_length:\n",
    "            return 0\n",
    "        else:\n",
    "            min_cost: float = math.inf\n",
    "            for cost, candidate in starts_with[target[i]]:\n",
    "                candidate_length = len(candidate)\n",
    "                if match(i, candidate_length, candidate):\n",
    "                    min_cost = min(min_cost, cost + backtrack(i + candidate_length))\n",
    "            return min_cost\n",
    "\n",
    "    N_words = len(words)\n",
    "    target_length = len(target)\n",
    "\n",
    "    # Remove duplicates\n",
    "    unique: collections.defaultdict[str, float] = collections.defaultdict(lambda: math.inf)\n",
    "    for i in range(N_words):\n",
    "        unique[words[i]] = min(unique[words[i]], costs[i])\n",
    "\n",
    "    # Store the first character as a key\n",
    "    starts_with: collections.defaultdict[str, list[tuple[float, str]]] = collections.defaultdict(list)\n",
    "    for word, cost in unique.items():\n",
    "        starts_with[word[0]].append((cost, word))\n",
    "\n",
    "    # Sort by minimum cost\n",
    "    for k in starts_with:\n",
    "        starts_with[k].sort()\n",
    "\n",
    "    # Backtrack and find the minimum cost\n",
    "    min_cost = backtrack(0)\n",
    "    return int(min_cost) if not math.isinf(min_cost) else -1\n",
    "\n",
    "# Testing the solution\n",
    "assert minimumCost(\"abcdef\", [\"abdef\",\"abc\",\"d\",\"def\",\"ef\"], [100,1,1,10,5]) == 7\n",
    "assert minimumCost(\"aaaa\", [\"z\", \"zz\", \"zzz\"], [1, 10, 100]) == -1\n",
    "assert minimumCost(\"aaaa\", [\"a\", \"z\", \"zz\", \"zzz\"], [1, 1, 10, 100]) == 4\n",
    "assert minimumCost(\"sgsipzma\", [\"s\",\"s\",\"g\",\"ipzma\"], [1,5,2,1]) == 5"
   ]
  },
  {
   "cell_type": "markdown",
   "id": "2a369efe",
   "metadata": {
    "papermill": {
     "duration": 0.013949,
     "end_time": "2024-07-12T15:35:52.626549",
     "exception": false,
     "start_time": "2024-07-12T15:35:52.612600",
     "status": "completed"
    },
    "tags": []
   },
   "source": [
    "Codeforces practice - Math"
   ]
  },
  {
   "cell_type": "code",
   "execution_count": 76,
   "id": "04e0064e",
   "metadata": {
    "execution": {
     "iopub.execute_input": "2024-07-12T15:35:52.655298Z",
     "iopub.status.busy": "2024-07-12T15:35:52.654944Z",
     "iopub.status.idle": "2024-07-12T15:35:52.660552Z",
     "shell.execute_reply": "2024-07-12T15:35:52.660141Z"
    },
    "lines_to_next_cell": 1,
    "papermill": {
     "duration": 0.021261,
     "end_time": "2024-07-12T15:35:52.661620",
     "exception": false,
     "start_time": "2024-07-12T15:35:52.640359",
     "status": "completed"
    },
    "tags": []
   },
   "outputs": [],
   "source": [
    "# Beautiful matrix\n",
    "def beautiful_matrix(matrix: list[list[str]]) -> int:\n",
    "    to_visit: collections.deque[tuple[int, int, int]] = collections.deque([(2, 2, 0)])\n",
    "    visited: set[tuple[int, int]] = set()\n",
    "    while to_visit:\n",
    "        i, j, moves = to_visit.popleft()\n",
    "        visited.add((i, j))\n",
    "        if matrix[i][j] == '1':\n",
    "            return moves\n",
    "        else:\n",
    "            for x, y in [(i + 1, j), (i - 1, j), (i, j + 1), (i, j - 1)]:\n",
    "                if 0 <= x < 5 and 0 <= y < 5 and (x, y) not in visited:\n",
    "                    to_visit.append((x, y, moves + 1))\n",
    "    return -1\n",
    "\n",
    "# Testing the solution\n",
    "assert beautiful_matrix([['0','0','0','0','0'], ['0','0','0','0','1'], ['0','0','0','0','0'], ['0','0','0','0','0'], ['0','0','0','0','0']]) == 3\n",
    "assert beautiful_matrix([['0','0','0','0','0'], ['0','0','0','0','0'], ['0','1','0','0','0'], ['0','0','0','0','0'], ['0','0','0','0','0']]) == 1"
   ]
  },
  {
   "cell_type": "code",
   "execution_count": 77,
   "id": "50e4cf4e",
   "metadata": {
    "execution": {
     "iopub.execute_input": "2024-07-12T15:35:52.690566Z",
     "iopub.status.busy": "2024-07-12T15:35:52.690143Z",
     "iopub.status.idle": "2024-07-12T15:35:52.694383Z",
     "shell.execute_reply": "2024-07-12T15:35:52.693936Z"
    },
    "lines_to_next_cell": 1,
    "papermill": {
     "duration": 0.019923,
     "end_time": "2024-07-12T15:35:52.695417",
     "exception": false,
     "start_time": "2024-07-12T15:35:52.675494",
     "status": "completed"
    },
    "tags": []
   },
   "outputs": [],
   "source": [
    "def array_with_odd_sum(arr: list[int]) -> bool:\n",
    "    N = len(arr)\n",
    "    odd, even = functools.reduce(\n",
    "            lambda initial, n: (initial[0] + int(n % 2 == 1), initial[1] + int(n % 2 == 0)),\n",
    "            arr, (0, 0)\n",
    "    )\n",
    "\n",
    "    # If there are odd number of evens\n",
    "    return (odd > 0 and even > 0) or (even == 0 and N % 2 == 1)\n",
    "\n",
    "# Testing the solution\n",
    "assert array_with_odd_sum([2,3]) == True\n",
    "assert array_with_odd_sum([2,2,8,8]) == False\n",
    "assert array_with_odd_sum([1,1,1,1]) == False\n",
    "assert array_with_odd_sum([1,1,1]) == True"
   ]
  },
  {
   "cell_type": "code",
   "execution_count": 78,
   "id": "2959d402",
   "metadata": {
    "execution": {
     "iopub.execute_input": "2024-07-12T15:35:52.724494Z",
     "iopub.status.busy": "2024-07-12T15:35:52.724084Z",
     "iopub.status.idle": "2024-07-12T15:35:52.727318Z",
     "shell.execute_reply": "2024-07-12T15:35:52.726788Z"
    },
    "lines_to_next_cell": 1,
    "papermill": {
     "duration": 0.01888,
     "end_time": "2024-07-12T15:35:52.728356",
     "exception": false,
     "start_time": "2024-07-12T15:35:52.709476",
     "status": "completed"
    },
    "tags": []
   },
   "outputs": [],
   "source": [
    "def floor_number(n: int, x: int) -> int:\n",
    "    n = max(n - 2, 0)\n",
    "    return math.ceil(n / x) + 1\n",
    "\n",
    "# Testing the solution\n",
    "assert floor_number(2, 100) == 1\n",
    "assert floor_number(7, 3) == 3\n",
    "assert floor_number(987, 13) == 77"
   ]
  },
  {
   "cell_type": "markdown",
   "id": "98cf5dcc",
   "metadata": {
    "papermill": {
     "duration": 0.013889,
     "end_time": "2024-07-12T15:35:52.756115",
     "exception": false,
     "start_time": "2024-07-12T15:35:52.742226",
     "status": "completed"
    },
    "tags": []
   },
   "source": [
    "Codeforces practice - Binary Search"
   ]
  },
  {
   "cell_type": "code",
   "execution_count": 79,
   "id": "b667d14c",
   "metadata": {
    "execution": {
     "iopub.execute_input": "2024-07-12T15:35:52.785176Z",
     "iopub.status.busy": "2024-07-12T15:35:52.784736Z",
     "iopub.status.idle": "2024-07-12T15:35:52.789363Z",
     "shell.execute_reply": "2024-07-12T15:35:52.788848Z"
    },
    "lines_to_next_cell": 1,
    "papermill": {
     "duration": 0.020276,
     "end_time": "2024-07-12T15:35:52.790360",
     "exception": false,
     "start_time": "2024-07-12T15:35:52.770084",
     "status": "completed"
    },
    "tags": []
   },
   "outputs": [],
   "source": [
    "def magic_powder(magic_powder: int, required: list[int], available: list[int]) -> int:\n",
    "    def check(qty: int) -> bool:\n",
    "        powder = magic_powder\n",
    "        for req, avail in zip(required, available):\n",
    "            powder -= max(0, (req * qty) - avail)\n",
    "        return powder >= 0\n",
    "\n",
    "    low = min(avail // req for req, avail in zip(required, available))\n",
    "    high = low + magic_powder\n",
    "    while low <= high:\n",
    "        mid = (low + high) // 2\n",
    "        if check(mid):\n",
    "            low = mid + 1\n",
    "        else:\n",
    "            high = mid - 1\n",
    "\n",
    "    return high\n",
    "\n",
    "# Testing the solution\n",
    "assert magic_powder(1, [2,1,4], [11,3,16]) == 4\n",
    "assert magic_powder(3, [4,3,5,6], [11,12,14,20]) == 3"
   ]
  },
  {
   "cell_type": "code",
   "execution_count": 80,
   "id": "ecdbcce3",
   "metadata": {
    "execution": {
     "iopub.execute_input": "2024-07-12T15:35:52.819019Z",
     "iopub.status.busy": "2024-07-12T15:35:52.818656Z",
     "iopub.status.idle": "2024-07-12T15:35:52.822828Z",
     "shell.execute_reply": "2024-07-12T15:35:52.822337Z"
    },
    "lines_to_next_cell": 1,
    "papermill": {
     "duration": 0.019647,
     "end_time": "2024-07-12T15:35:52.823859",
     "exception": false,
     "start_time": "2024-07-12T15:35:52.804212",
     "status": "completed"
    },
    "tags": []
   },
   "outputs": [],
   "source": [
    "def pipeline(n: int, k: int) -> int:\n",
    "    def check(i: int) -> bool:\n",
    "        \"\"\"\n",
    "        Check if connecting the largest 'i' pipes would give flow >= n\n",
    "        Sum of arithmetic progression: sn = n * ((a1 + an) / 2)\n",
    "        \"\"\"\n",
    "        max_sum = (i * (k + k - i + 1) // 2) - i + 1\n",
    "        return max_sum >= n\n",
    "\n",
    "    low, high = 0, k\n",
    "    while low <= high:\n",
    "        mid = (low + high) // 2\n",
    "        if check(mid):\n",
    "            high = mid - 1\n",
    "        else:\n",
    "            low = mid + 1\n",
    "\n",
    "    return low if low <= k else -1\n",
    "\n",
    "# Testing the solution\n",
    "assert pipeline(8, 4) == -1\n",
    "assert pipeline(5, 5) == 1\n",
    "assert pipeline(4, 3) == 2\n",
    "assert pipeline(1, 4) == 0"
   ]
  },
  {
   "cell_type": "code",
   "execution_count": 81,
   "id": "6c05099b",
   "metadata": {
    "execution": {
     "iopub.execute_input": "2024-07-12T15:35:52.852641Z",
     "iopub.status.busy": "2024-07-12T15:35:52.852313Z",
     "iopub.status.idle": "2024-07-12T15:35:52.857002Z",
     "shell.execute_reply": "2024-07-12T15:35:52.856592Z"
    },
    "lines_to_next_cell": 1,
    "papermill": {
     "duration": 0.020326,
     "end_time": "2024-07-12T15:35:52.858027",
     "exception": false,
     "start_time": "2024-07-12T15:35:52.837701",
     "status": "completed"
    },
    "tags": []
   },
   "outputs": [],
   "source": [
    "def poisoned_dagger(N: int, hp: int, seconds: list[int]) -> int:\n",
    "    def check(k: int) -> bool:\n",
    "        damage = 0\n",
    "        for i in range(N):\n",
    "            damage += min(k, seconds[i + 1] - seconds[i])\n",
    "\n",
    "        return damage >= hp\n",
    "\n",
    "    # Update seconds for the sake of 'check'\n",
    "    seconds.append(seconds[-1] + hp)\n",
    "\n",
    "    # Binary search\n",
    "    low, high = 1, hp\n",
    "    while low <= high:\n",
    "        mid = (low + high) // 2\n",
    "        if check(mid):\n",
    "            high = mid - 1\n",
    "        else:\n",
    "            low = mid + 1\n",
    "    return low\n",
    "\n",
    "# Testing the solution\n",
    "assert poisoned_dagger(2, 5, [1, 5]) == 3\n",
    "assert poisoned_dagger(3, 10, [2, 4, 10]) == 4\n",
    "assert poisoned_dagger(5, 3, [1, 2, 4, 5, 7]) == 1\n",
    "assert poisoned_dagger(4, 1000, [3, 25, 64, 1337]) == 470"
   ]
  },
  {
   "cell_type": "markdown",
   "id": "9c3df917",
   "metadata": {
    "papermill": {
     "duration": 0.013798,
     "end_time": "2024-07-12T15:35:52.885793",
     "exception": false,
     "start_time": "2024-07-12T15:35:52.871995",
     "status": "completed"
    },
    "tags": []
   },
   "source": [
    "Codeforces practice"
   ]
  },
  {
   "cell_type": "code",
   "execution_count": 82,
   "id": "97e10095",
   "metadata": {
    "execution": {
     "iopub.execute_input": "2024-07-12T15:35:52.914549Z",
     "iopub.status.busy": "2024-07-12T15:35:52.914025Z",
     "iopub.status.idle": "2024-07-12T15:35:52.918403Z",
     "shell.execute_reply": "2024-07-12T15:35:52.917991Z"
    },
    "lines_to_next_cell": 1,
    "papermill": {
     "duration": 0.019892,
     "end_time": "2024-07-12T15:35:52.919468",
     "exception": false,
     "start_time": "2024-07-12T15:35:52.899576",
     "status": "completed"
    },
    "tags": []
   },
   "outputs": [],
   "source": [
    "def chocolate_theives(m: int) -> int:\n",
    "    \"\"\"\n",
    "    Not clear on the upper bound aspect, led to TLE.\n",
    "    Looks like we can fix UB to 8 (m + 1).\n",
    "    \"\"\"\n",
    "    # Time: n ** 1/3\n",
    "    def count_ways(n: int) -> int:\n",
    "        count = 0\n",
    "        k = 2\n",
    "        while k ** 3 <= n:\n",
    "            count += n // (k ** 3)\n",
    "            k += 1\n",
    "        return count\n",
    "\n",
    "    # Binary search - log2(m)\n",
    "    low, high = 8, 8 * (m + 1)\n",
    "    while low <= high:\n",
    "        mid = (low + high) // 2\n",
    "        ways = count_ways(mid)\n",
    "        if ways >= m:\n",
    "            high = mid - 1\n",
    "        else:\n",
    "            low = mid + 1\n",
    "\n",
    "    return low if count_ways(low) == m else -1\n",
    "\n",
    "# Testing the solution\n",
    "assert chocolate_theives(10) == -1\n",
    "assert chocolate_theives(8) == 54\n",
    "assert chocolate_theives(1) == 8"
   ]
  },
  {
   "cell_type": "markdown",
   "id": "0abc9811",
   "metadata": {
    "papermill": {
     "duration": 0.013845,
     "end_time": "2024-07-12T15:35:52.947452",
     "exception": false,
     "start_time": "2024-07-12T15:35:52.933607",
     "status": "completed"
    },
    "tags": []
   },
   "source": [
    "Striver CP - Prime, Seive, Prime Factorisation"
   ]
  },
  {
   "cell_type": "code",
   "execution_count": 83,
   "id": "b2abc95d",
   "metadata": {
    "execution": {
     "iopub.execute_input": "2024-07-12T15:35:52.976553Z",
     "iopub.status.busy": "2024-07-12T15:35:52.976162Z",
     "iopub.status.idle": "2024-07-12T15:35:52.983312Z",
     "shell.execute_reply": "2024-07-12T15:35:52.982789Z"
    },
    "lines_to_next_cell": 1,
    "papermill": {
     "duration": 0.022977,
     "end_time": "2024-07-12T15:35:52.984402",
     "exception": false,
     "start_time": "2024-07-12T15:35:52.961425",
     "status": "completed"
    },
    "tags": []
   },
   "outputs": [
    {
     "data": {
      "text/plain": [
       "[3, 5, 7, 11]"
      ]
     },
     "execution_count": 83,
     "metadata": {},
     "output_type": "execute_result"
    }
   ],
   "source": [
    "def generate_primes(low: int, high: int) -> list[int]:\n",
    "    \"\"\"\n",
    "    Return list of primes inclusive of range [low, high] using seive of Erastosthenes\n",
    "    \"\"\"\n",
    "    soe: list[bool] = [True for i in range(high + 1)]\n",
    "    soe[0], soe[1], i = False, False, 2\n",
    "    while i * i <= high:\n",
    "        if soe[i]:\n",
    "            soe[i*i::i] = [False] * len(soe[i*i::i])\n",
    "        i += 1\n",
    "\n",
    "    return [i for i in range(low, high + 1) if soe[i]]\n",
    "\n",
    "# Testing the solution\n",
    "generate_primes(3, 11)"
   ]
  },
  {
   "cell_type": "code",
   "execution_count": 84,
   "id": "ef78960e",
   "metadata": {
    "execution": {
     "iopub.execute_input": "2024-07-12T15:35:53.013458Z",
     "iopub.status.busy": "2024-07-12T15:35:53.013121Z",
     "iopub.status.idle": "2024-07-12T15:35:53.016525Z",
     "shell.execute_reply": "2024-07-12T15:35:53.016104Z"
    },
    "lines_to_next_cell": 1,
    "papermill": {
     "duration": 0.01903,
     "end_time": "2024-07-12T15:35:53.017543",
     "exception": false,
     "start_time": "2024-07-12T15:35:52.998513",
     "status": "completed"
    },
    "tags": []
   },
   "outputs": [],
   "source": [
    "def hulk(n: int) -> str:\n",
    "    result: list[str] = []\n",
    "    for i in range(n):\n",
    "        result.append(\"I\")\n",
    "        result.append(\"hate\" if i % 2 == 0 else \"love\")\n",
    "        result.append(\"it\" if i == n - 1 else \"that\")\n",
    "\n",
    "    return \" \".join(result)\n",
    "\n",
    "# Testing the solution\n",
    "assert hulk(1) == \"I hate it\"\n",
    "assert hulk(2) == \"I hate that I love it\"\n",
    "assert hulk(3) == \"I hate that I love that I hate it\""
   ]
  },
  {
   "cell_type": "markdown",
   "id": "12e34bcd",
   "metadata": {
    "papermill": {
     "duration": 0.014006,
     "end_time": "2024-07-12T15:35:53.045632",
     "exception": false,
     "start_time": "2024-07-12T15:35:53.031626",
     "status": "completed"
    },
    "tags": []
   },
   "source": [
    "Segmented Seive of Erastosthenes\n",
    "Video Link: https://www.youtube.com/watch?v=MY0fXk-3BVQ"
   ]
  },
  {
   "cell_type": "code",
   "execution_count": 85,
   "id": "413321da",
   "metadata": {
    "execution": {
     "iopub.execute_input": "2024-07-12T15:35:53.075359Z",
     "iopub.status.busy": "2024-07-12T15:35:53.074845Z",
     "iopub.status.idle": "2024-07-12T15:35:53.080877Z",
     "shell.execute_reply": "2024-07-12T15:35:53.080456Z"
    },
    "lines_to_next_cell": 1,
    "papermill": {
     "duration": 0.02235,
     "end_time": "2024-07-12T15:35:53.081951",
     "exception": false,
     "start_time": "2024-07-12T15:35:53.059601",
     "status": "completed"
    },
    "tags": []
   },
   "outputs": [],
   "source": [
    "def segmented_seive_of_erastosthenes(low: int, high: int) -> list[int]:\n",
    "    \"\"\"\n",
    "    1. Generate primes till sqrt(high)\n",
    "    2. For each generated prime, repeat same logic - (i * i, end, i), instead of starting at i * i start at first position within range [low, high].\n",
    "    \"\"\"\n",
    "\n",
    "    # Step 1\n",
    "    sqrt = int(math.sqrt(high))\n",
    "    seive: list[bool] = [True for i in range(sqrt + 1)]\n",
    "    seive[0], seive[1], i = False, False, 2\n",
    "    while i * i <= sqrt:\n",
    "        if seive[i]:\n",
    "            seive[i*i::i] = [False] * len(seive[i*i::i])\n",
    "        i += 1\n",
    "\n",
    "    primes_below: list[int] = [i for i in range(sqrt + 1) if seive[i]]\n",
    "\n",
    "    # Step 2\n",
    "    seive = [True for i in range(low, high + 1)]\n",
    "    for prime in primes_below:\n",
    "        # Always start at n * n and if that is smaller, we check for the 1st num in range\n",
    "        start = max(prime * prime, math.ceil(low / prime) * prime)\n",
    "        seive[start - low::prime] = [False] * len(seive[start - low::prime])\n",
    "\n",
    "    primes: list[int] = [i for i in range(low, high + 1) if seive[i - low] and i != 1]\n",
    "\n",
    "    return primes\n",
    "\n",
    "# Testing the solution\n",
    "assert segmented_seive_of_erastosthenes(100, 125) == [101, 103, 107, 109, 113]\n",
    "assert segmented_seive_of_erastosthenes(1, 10) == [2, 3, 5, 7]"
   ]
  },
  {
   "cell_type": "markdown",
   "id": "94e647eb",
   "metadata": {
    "papermill": {
     "duration": 0.013958,
     "end_time": "2024-07-12T15:35:53.110254",
     "exception": false,
     "start_time": "2024-07-12T15:35:53.096296",
     "status": "completed"
    },
    "tags": []
   },
   "source": [
    "To count the number of primes available lesser than a number (approximately)"
   ]
  },
  {
   "cell_type": "code",
   "execution_count": 86,
   "id": "5ec5bc2a",
   "metadata": {
    "execution": {
     "iopub.execute_input": "2024-07-12T15:35:53.139264Z",
     "iopub.status.busy": "2024-07-12T15:35:53.138802Z",
     "iopub.status.idle": "2024-07-12T15:35:53.142046Z",
     "shell.execute_reply": "2024-07-12T15:35:53.141507Z"
    },
    "lines_to_next_cell": 1,
    "papermill": {
     "duration": 0.018984,
     "end_time": "2024-07-12T15:35:53.143103",
     "exception": false,
     "start_time": "2024-07-12T15:35:53.124119",
     "status": "completed"
    },
    "tags": []
   },
   "outputs": [],
   "source": [
    "# Count of prime numbers <= n ~= ceil(n / ln(n))\n",
    "def count_primes(n: int) -> int:\n",
    "    return math.ceil(n / math.log(n))\n",
    "\n",
    "# Testing the solution\n",
    "assert count_primes(int(1e8)) >= 1e6\n",
    "assert count_primes(int(1e9)) >= 1e7"
   ]
  },
  {
   "cell_type": "markdown",
   "id": "af34624d",
   "metadata": {
    "papermill": {
     "duration": 0.014008,
     "end_time": "2024-07-12T15:35:53.171457",
     "exception": false,
     "start_time": "2024-07-12T15:35:53.157449",
     "status": "completed"
    },
    "tags": []
   },
   "source": [
    "Codeforces practice"
   ]
  },
  {
   "cell_type": "code",
   "execution_count": 87,
   "id": "39cfd8bb",
   "metadata": {
    "execution": {
     "iopub.execute_input": "2024-07-12T15:35:53.200629Z",
     "iopub.status.busy": "2024-07-12T15:35:53.200210Z",
     "iopub.status.idle": "2024-07-12T15:35:53.204672Z",
     "shell.execute_reply": "2024-07-12T15:35:53.204260Z"
    },
    "lines_to_next_cell": 1,
    "papermill": {
     "duration": 0.020224,
     "end_time": "2024-07-12T15:35:53.205676",
     "exception": false,
     "start_time": "2024-07-12T15:35:53.185452",
     "status": "completed"
    },
    "tags": []
   },
   "outputs": [],
   "source": [
    "def longest_good_sequence_memo(N: int, arr: list[int]) -> int:\n",
    "    @functools.cache\n",
    "    def backtrack(i: int, prev: int) -> int:\n",
    "        if i == N:\n",
    "            return 0\n",
    "        else:\n",
    "            pick = 0\n",
    "            if prev == -1 or (arr[i] > arr[prev] and math.gcd(arr[i], arr[prev]) > 1):\n",
    "                pick = 1 + backtrack(i + 1, i)\n",
    "            nopick = backtrack(i + 1, prev)\n",
    "            return max(pick, nopick)\n",
    "\n",
    "    return backtrack(0, -1)\n",
    "\n",
    "# Testing the solution\n",
    "assert longest_good_sequence_memo(5, [2,3,4,6,9]) == 4\n",
    "assert longest_good_sequence_memo(9, [1,2,3,5,6,7,8,9,10]) == 4"
   ]
  },
  {
   "cell_type": "code",
   "execution_count": 88,
   "id": "b58a7a51",
   "metadata": {
    "execution": {
     "iopub.execute_input": "2024-07-12T15:35:53.235074Z",
     "iopub.status.busy": "2024-07-12T15:35:53.234695Z",
     "iopub.status.idle": "2024-07-12T15:35:53.239475Z",
     "shell.execute_reply": "2024-07-12T15:35:53.238966Z"
    },
    "lines_to_next_cell": 1,
    "papermill": {
     "duration": 0.020608,
     "end_time": "2024-07-12T15:35:53.240507",
     "exception": false,
     "start_time": "2024-07-12T15:35:53.219899",
     "status": "completed"
    },
    "tags": []
   },
   "outputs": [],
   "source": [
    "def longest_good_sequence_better(N: int, arr: list[int]) -> int:\n",
    "    dp: list[int] = [0 for j in range(N + 1)]\n",
    "    for i in range(N - 1, -1, -1):\n",
    "        next_dp: list[int] = list(dp)\n",
    "        for prev in range(N - 2, -2, -1):\n",
    "            if prev == -1 or (arr[i] > arr[prev] and math.gcd(arr[i], arr[prev]) > 1):\n",
    "                next_dp[prev + 1] = 1 + dp[i + 1]\n",
    "            next_dp[prev + 1] = max(next_dp[prev + 1], dp[prev + 1])\n",
    "        dp = next_dp\n",
    "\n",
    "    return dp[0]\n",
    "\n",
    "# Testing the solution\n",
    "assert longest_good_sequence_better(5, [2,3,4,6,9]) == 4\n",
    "assert longest_good_sequence_better(9, [1,2,3,5,6,7,8,9,10]) == 4"
   ]
  },
  {
   "cell_type": "code",
   "execution_count": 89,
   "id": "74218c0a",
   "metadata": {
    "execution": {
     "iopub.execute_input": "2024-07-12T15:35:53.269727Z",
     "iopub.status.busy": "2024-07-12T15:35:53.269379Z",
     "iopub.status.idle": "2024-07-12T15:35:53.274548Z",
     "shell.execute_reply": "2024-07-12T15:35:53.274107Z"
    },
    "lines_to_next_cell": 1,
    "papermill": {
     "duration": 0.021039,
     "end_time": "2024-07-12T15:35:53.275596",
     "exception": false,
     "start_time": "2024-07-12T15:35:53.254557",
     "status": "completed"
    },
    "tags": []
   },
   "outputs": [],
   "source": [
    "def longest_good_sequence(N: int, arr: list[int]) -> int:\n",
    "    MAX = max(arr)\n",
    "    counts: list[int] = [0 for i in range(MAX + 1)]\n",
    "    for n in arr:\n",
    "        max_count, i = 0, 2\n",
    "        factors: set[int] = set()\n",
    "        while i * i <= n:\n",
    "            if n % i == 0:\n",
    "                while n % i == 0:\n",
    "                    n //= i\n",
    "                max_count = max(max_count, counts[i] + 1)\n",
    "                factors.add(i)\n",
    "            i += 1\n",
    "\n",
    "        if n > 1:\n",
    "            factors.add(n)\n",
    "            max_count = max(max_count, counts[n] + 1)\n",
    "\n",
    "        for prime in factors:\n",
    "            counts[prime] = max_count\n",
    "\n",
    "    return max(*counts, 1)\n",
    "\n",
    "# Testing the solution\n",
    "assert longest_good_sequence(5, [2,3,4,6,9]) == 4\n",
    "assert longest_good_sequence(9, [1,2,3,5,6,7,8,9,10]) == 4"
   ]
  },
  {
   "cell_type": "markdown",
   "id": "1c05a06f",
   "metadata": {
    "papermill": {
     "duration": 0.014048,
     "end_time": "2024-07-12T15:35:53.303704",
     "exception": false,
     "start_time": "2024-07-12T15:35:53.289656",
     "status": "completed"
    },
    "tags": []
   },
   "source": [
    "Codeforces Practice"
   ]
  },
  {
   "cell_type": "code",
   "execution_count": 90,
   "id": "cad74e8d",
   "metadata": {
    "execution": {
     "iopub.execute_input": "2024-07-12T15:35:53.332804Z",
     "iopub.status.busy": "2024-07-12T15:35:53.332430Z",
     "iopub.status.idle": "2024-07-12T15:35:53.336317Z",
     "shell.execute_reply": "2024-07-12T15:35:53.335786Z"
    },
    "lines_to_next_cell": 1,
    "papermill": {
     "duration": 0.019651,
     "end_time": "2024-07-12T15:35:53.337329",
     "exception": false,
     "start_time": "2024-07-12T15:35:53.317678",
     "status": "completed"
    },
    "tags": []
   },
   "outputs": [],
   "source": [
    "# Taxes\n",
    "def minimum_taxes(N: int) -> int:\n",
    "    \"\"\"\n",
    "    https://codeforces.com/blog/entry/48659\n",
    "\n",
    "    Uses goldbach's conjecture: Every even natural number > 2 can be repr as sum of two primes.\n",
    "    Every odd number can be repr as 3, n - 3 (even)\n",
    "    \"\"\"\n",
    "    def check_prime(n: int) -> bool:\n",
    "        count, i = 0, 1\n",
    "        while i * i <= n:\n",
    "            if n % i == 0:\n",
    "                count += 1 if n / i == i else 2\n",
    "            i += 1\n",
    "        return count == 2\n",
    "\n",
    "    # Prime itself\n",
    "    if check_prime(N):\n",
    "        return 1\n",
    "\n",
    "    # Even or if we can split N into [2, Prime]\n",
    "    elif N % 2 == 0 or check_prime(N - 2):\n",
    "        return 2\n",
    "\n",
    "    # Turn it into even for goldbach's conjecture to apply\n",
    "    else:\n",
    "        return 3"
   ]
  },
  {
   "cell_type": "code",
   "execution_count": 91,
   "id": "aa2c4073",
   "metadata": {
    "execution": {
     "iopub.execute_input": "2024-07-12T15:35:53.366579Z",
     "iopub.status.busy": "2024-07-12T15:35:53.366229Z",
     "iopub.status.idle": "2024-07-12T15:35:53.369509Z",
     "shell.execute_reply": "2024-07-12T15:35:53.369107Z"
    },
    "papermill": {
     "duration": 0.019008,
     "end_time": "2024-07-12T15:35:53.370538",
     "exception": false,
     "start_time": "2024-07-12T15:35:53.351530",
     "status": "completed"
    },
    "tags": []
   },
   "outputs": [],
   "source": [
    "# New Year's Eve\n",
    "def new_years_eve(N: int, K: int) -> int:\n",
    "    \"Simply count the number of bits\"\n",
    "    if K > 1:\n",
    "        count = 0\n",
    "        while N > 0:\n",
    "            N, count = N >> 1, count + 1\n",
    "        return 2 ** count - 1\n",
    "    else:\n",
    "        return N\n",
    "\n",
    "# Testing the solution\n",
    "assert new_years_eve(20, 2) == 31\n",
    "assert new_years_eve(20, 1) == 20"
   ]
  }
 ],
 "metadata": {
  "kernelspec": {
   "display_name": "Python 3 (ipykernel)",
   "language": "python",
   "name": "python3"
  },
  "language_info": {
   "codemirror_mode": {
    "name": "ipython",
    "version": 3
   },
   "file_extension": ".py",
   "mimetype": "text/x-python",
   "name": "python",
   "nbconvert_exporter": "python",
   "pygments_lexer": "ipython3",
   "version": "3.11.9"
  },
  "papermill": {
   "default_parameters": {},
   "duration": 5.690118,
   "end_time": "2024-07-12T15:35:53.600937",
   "environment_variables": {},
   "exception": null,
   "input_path": "practice/005.ipynb",
   "output_path": "practice/005.ipynb",
   "parameters": {},
   "start_time": "2024-07-12T15:35:47.910819",
   "version": "2.6.0"
  }
 },
 "nbformat": 4,
 "nbformat_minor": 5
}