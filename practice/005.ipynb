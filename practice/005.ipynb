{
 "cells": [
  {
   "cell_type": "code",
   "execution_count": 1,
   "id": "fa51d761",
   "metadata": {
    "execution": {
     "iopub.execute_input": "2024-07-07T17:13:32.203814Z",
     "iopub.status.busy": "2024-07-07T17:13:32.203456Z",
     "iopub.status.idle": "2024-07-07T17:13:32.548021Z",
     "shell.execute_reply": "2024-07-07T17:13:32.547535Z"
    },
    "papermill": {
     "duration": 0.359013,
     "end_time": "2024-07-07T17:13:32.549525",
     "exception": false,
     "start_time": "2024-07-07T17:13:32.190512",
     "status": "completed"
    },
    "tags": []
   },
   "outputs": [],
   "source": [
    "from typing import List, Optional, Generator\n",
    "import pandas as pd\n",
    "import numpy as np\n",
    "import sqlite3\n",
    "import re\n",
    "import io\n",
    "import math\n",
    "import collections\n",
    "import itertools\n",
    "import functools\n",
    "import random\n",
    "import string\n",
    "import tqdm\n",
    "import bisect\n",
    "import heapq\n",
    "\n",
    "conn = sqlite3.connect(\":memory:\")\n",
    "\n",
    "def regexp(expr, item):\n",
    "    reg = re.compile(expr)\n",
    "    return reg.search(item) is not None\n",
    "\n",
    "def read_lc_df(s: str, dtypes: dict[str, str]=dict()) -> pd.DataFrame:\n",
    "    temp = pd.read_csv(io.StringIO(s), sep=\"|\", skiprows=2)\n",
    "    temp = temp.iloc[1:-1, 1:-1]\n",
    "    temp.columns = temp.columns.map(str.strip)\n",
    "    temp = temp.map(lambda x: x if type(x) != str else None if x.strip() == 'null' else x.strip())\n",
    "    temp = temp.astype(dtypes)\n",
    "    return temp\n",
    "\n",
    "conn.create_function(\"REGEXP\", 2, regexp)"
   ]
  },
  {
   "cell_type": "markdown",
   "id": "db473660",
   "metadata": {
    "papermill": {
     "duration": 0.011014,
     "end_time": "2024-07-07T17:13:32.572186",
     "exception": false,
     "start_time": "2024-07-07T17:13:32.561172",
     "status": "completed"
    },
    "tags": []
   },
   "source": [
    "#### Helper for Binary tree problems"
   ]
  },
  {
   "cell_type": "code",
   "execution_count": 2,
   "id": "6e8896c0",
   "metadata": {
    "execution": {
     "iopub.execute_input": "2024-07-07T17:13:32.595508Z",
     "iopub.status.busy": "2024-07-07T17:13:32.595019Z",
     "iopub.status.idle": "2024-07-07T17:13:32.602475Z",
     "shell.execute_reply": "2024-07-07T17:13:32.602047Z"
    },
    "lines_to_next_cell": 1,
    "papermill": {
     "duration": 0.020446,
     "end_time": "2024-07-07T17:13:32.603534",
     "exception": false,
     "start_time": "2024-07-07T17:13:32.583088",
     "status": "completed"
    },
    "tags": []
   },
   "outputs": [],
   "source": [
    "class BinaryTreeNode:\n",
    "    def __init__(self, val=0, left=None, right=None):\n",
    "        self.val = val\n",
    "        self.left = left\n",
    "        self.right = right\n",
    "\n",
    "    def to_list(self):\n",
    "        to_visit = [self]\n",
    "        visited = []\n",
    "        while len(to_visit) > 0:\n",
    "            curr = to_visit.pop(0)\n",
    "            if curr:\n",
    "                to_visit.append(curr.left)\n",
    "                to_visit.append(curr.right)\n",
    "                visited.append(curr.val)\n",
    "            else:\n",
    "                visited.append(curr)\n",
    "\n",
    "        while visited and not visited[-1]:\n",
    "            visited.pop()\n",
    "\n",
    "        return visited\n",
    "\n",
    "    def __str__(self):\n",
    "        return str(self.val)\n",
    "\n",
    "    @staticmethod\n",
    "    def from_array(nums: list[int|None]):\n",
    "        '''Create a Tree from a list of nums. Returns the root node.'''\n",
    "        if len(nums) == 0:\n",
    "            return None\n",
    "        elif len(nums) == 1:\n",
    "            return BinaryTreeNode(nums[0])\n",
    "        else:\n",
    "            forest = [BinaryTreeNode(nums[0])]\n",
    "            parent_idx = -1\n",
    "            for i in range(1, len(nums)):\n",
    "\n",
    "                curr = None\n",
    "                if nums[i] is not None:\n",
    "                    curr = BinaryTreeNode(nums[i])\n",
    "                    forest.append(curr)\n",
    "\n",
    "                if i % 2 == 1:\n",
    "                    parent_idx += 1\n",
    "                    forest[parent_idx].left = curr\n",
    "                else:\n",
    "                    forest[parent_idx].right = curr\n",
    "\n",
    "        return forest[0]"
   ]
  },
  {
   "cell_type": "markdown",
   "id": "de5b1765",
   "metadata": {
    "papermill": {
     "duration": 0.010922,
     "end_time": "2024-07-07T17:13:32.625536",
     "exception": false,
     "start_time": "2024-07-07T17:13:32.614614",
     "status": "completed"
    },
    "tags": []
   },
   "source": [
    "#### Helper for Singly Linked lists"
   ]
  },
  {
   "cell_type": "code",
   "execution_count": 3,
   "id": "e736c8a5",
   "metadata": {
    "execution": {
     "iopub.execute_input": "2024-07-07T17:13:32.648489Z",
     "iopub.status.busy": "2024-07-07T17:13:32.648086Z",
     "iopub.status.idle": "2024-07-07T17:13:32.652538Z",
     "shell.execute_reply": "2024-07-07T17:13:32.652115Z"
    },
    "lines_to_next_cell": 1,
    "papermill": {
     "duration": 0.017267,
     "end_time": "2024-07-07T17:13:32.653663",
     "exception": false,
     "start_time": "2024-07-07T17:13:32.636396",
     "status": "completed"
    },
    "tags": []
   },
   "outputs": [],
   "source": [
    "class ListNode:\n",
    "    def __init__(self, val=0, next=None):\n",
    "        self.val = val\n",
    "        self.next = next\n",
    "\n",
    "    def __str__(self):\n",
    "        return str(self.val)\n",
    "\n",
    "    @staticmethod\n",
    "    def to_singly_linked_list(nums: list[int]):\n",
    "        root = prev = None\n",
    "        for n in nums:\n",
    "            curr = ListNode(n)\n",
    "            # Init once\n",
    "            if not root:\n",
    "                root = curr\n",
    "            if prev:\n",
    "                prev.next = curr\n",
    "            prev = curr\n",
    "\n",
    "        return root\n",
    "\n",
    "    def to_list(self) -> list[int]:\n",
    "        result = []\n",
    "        curr = self\n",
    "        while curr:\n",
    "            result.append(curr.val)\n",
    "            curr = curr.next\n",
    "        return result"
   ]
  },
  {
   "cell_type": "markdown",
   "id": "cd635853",
   "metadata": {
    "papermill": {
     "duration": 0.010923,
     "end_time": "2024-07-07T17:13:32.675679",
     "exception": false,
     "start_time": "2024-07-07T17:13:32.664756",
     "status": "completed"
    },
    "tags": []
   },
   "source": [
    "Codeforces practice"
   ]
  },
  {
   "cell_type": "code",
   "execution_count": 4,
   "id": "df35356a",
   "metadata": {
    "execution": {
     "iopub.execute_input": "2024-07-07T17:13:32.698265Z",
     "iopub.status.busy": "2024-07-07T17:13:32.698092Z",
     "iopub.status.idle": "2024-07-07T17:13:32.702339Z",
     "shell.execute_reply": "2024-07-07T17:13:32.701919Z"
    },
    "lines_to_next_cell": 1,
    "papermill": {
     "duration": 0.016829,
     "end_time": "2024-07-07T17:13:32.703396",
     "exception": false,
     "start_time": "2024-07-07T17:13:32.686567",
     "status": "completed"
    },
    "tags": []
   },
   "outputs": [],
   "source": [
    "# https://codeforces.com/problemset/problem/1984/B\n",
    "def large_addition(N: int) -> bool:\n",
    "    if N < 10:\n",
    "        return False\n",
    "    else:\n",
    "        N_str: str = str(N)\n",
    "        length = len(N_str)\n",
    "        for i in range(length):\n",
    "            if i == 0 and N_str[i] != '1':\n",
    "                return False\n",
    "            elif i == length - 1 and N_str[i] == '9':\n",
    "                return False\n",
    "            elif i not in (0, length - 1) and N_str[i] == '0':\n",
    "                return False\n",
    "\n",
    "        return True\n",
    "\n",
    "# Testing the solution\n",
    "assert large_addition(1393938) == True\n",
    "assert large_addition(200) == False\n",
    "assert large_addition(10) == True"
   ]
  },
  {
   "cell_type": "markdown",
   "id": "80b62de1",
   "metadata": {
    "papermill": {
     "duration": 0.01091,
     "end_time": "2024-07-07T17:13:32.725359",
     "exception": false,
     "start_time": "2024-07-07T17:13:32.714449",
     "status": "completed"
    },
    "tags": []
   },
   "source": [
    "LC Virtual: 25th June 2024\n",
    "https://leetcode.com/contest/smarking-algorithm-contest-3/"
   ]
  },
  {
   "cell_type": "code",
   "execution_count": 5,
   "id": "ec2db856",
   "metadata": {
    "execution": {
     "iopub.execute_input": "2024-07-07T17:13:32.747981Z",
     "iopub.status.busy": "2024-07-07T17:13:32.747757Z",
     "iopub.status.idle": "2024-07-07T17:13:32.751800Z",
     "shell.execute_reply": "2024-07-07T17:13:32.751351Z"
    },
    "lines_to_next_cell": 1,
    "papermill": {
     "duration": 0.016626,
     "end_time": "2024-07-07T17:13:32.752874",
     "exception": false,
     "start_time": "2024-07-07T17:13:32.736248",
     "status": "completed"
    },
    "tags": []
   },
   "outputs": [],
   "source": [
    "# Q1\n",
    "# https://www.youtube.com/watch?v=x8T11yRLIyY\n",
    "def minMoves(nums: list[int]) -> int:\n",
    "    \"\"\"\n",
    "    Intution: Instead of increasing all n - 1 elements by 1 each time, try to decrement\n",
    "    the max element to the smallest element. Relative distances between numbers are the same.\n",
    "    \"\"\"\n",
    "    nums.sort()\n",
    "    result = 0\n",
    "    for i in range(len(nums) - 1, -1, -1):\n",
    "        result += nums[i] - nums[0]\n",
    "    return result\n",
    "\n",
    "# Testing the solution\n",
    "assert minMoves([1,2,3,4]) == 6\n",
    "assert minMoves([1,2,3]) == 3"
   ]
  },
  {
   "cell_type": "code",
   "execution_count": 6,
   "id": "46f751bf",
   "metadata": {
    "execution": {
     "iopub.execute_input": "2024-07-07T17:13:32.775674Z",
     "iopub.status.busy": "2024-07-07T17:13:32.775411Z",
     "iopub.status.idle": "2024-07-07T17:13:32.780604Z",
     "shell.execute_reply": "2024-07-07T17:13:32.780171Z"
    },
    "lines_to_next_cell": 1,
    "papermill": {
     "duration": 0.017837,
     "end_time": "2024-07-07T17:13:32.781671",
     "exception": false,
     "start_time": "2024-07-07T17:13:32.763834",
     "status": "completed"
    },
    "tags": []
   },
   "outputs": [],
   "source": [
    "# Q2\n",
    "def numberOfBoomerangs(points: list[list[int]]) -> int:\n",
    "    def distance(pt1: list[int], pt2: list[int]) -> float:\n",
    "        return math.sqrt(((pt1[0] - pt2[0]) ** 2) + ((pt1[1] - pt2[1]) ** 2))\n",
    "\n",
    "    boommerangs: int = 0\n",
    "    N = len(points)\n",
    "    for i in range(N):\n",
    "        curr = points[i]\n",
    "        distances: dict[float, int] = dict()\n",
    "        for j in range(N):\n",
    "            if j != i:\n",
    "                dist = distance(points[i], points[j])\n",
    "                distances[dist] = distances.get(dist, 0) + 1\n",
    "\n",
    "        for count in distances.values():\n",
    "            boommerangs += math.perm(count, 2)\n",
    "\n",
    "    return boommerangs\n",
    "\n",
    "# Testing the solution\n",
    "assert numberOfBoomerangs([[0,0],[1,0],[2,0]]) == 2\n",
    "assert numberOfBoomerangs([[1,1],[2,2],[3,3]]) == 2\n",
    "assert numberOfBoomerangs([[1,1]]) == 0"
   ]
  },
  {
   "cell_type": "code",
   "execution_count": 7,
   "id": "06c17597",
   "metadata": {
    "execution": {
     "iopub.execute_input": "2024-07-07T17:13:32.804908Z",
     "iopub.status.busy": "2024-07-07T17:13:32.804400Z",
     "iopub.status.idle": "2024-07-07T17:13:32.809656Z",
     "shell.execute_reply": "2024-07-07T17:13:32.809220Z"
    },
    "lines_to_next_cell": 1,
    "papermill": {
     "duration": 0.017999,
     "end_time": "2024-07-07T17:13:32.810691",
     "exception": false,
     "start_time": "2024-07-07T17:13:32.792692",
     "status": "completed"
    },
    "tags": []
   },
   "outputs": [],
   "source": [
    "# Q3\n",
    "def findMinArrowShots(points: list[list[int]]) -> int:\n",
    "    # Sort by end and merge the start, end\n",
    "    points.sort(key=lambda x: (x[1], x[0]))\n",
    "\n",
    "    # Merge the intervals\n",
    "    merged_intervals: list[tuple[int, int]] = []\n",
    "    for start, end in points:\n",
    "        if merged_intervals and merged_intervals[-1][1] >= start:\n",
    "            merged_intervals[-1] = max(merged_intervals[-1][0], start), min(merged_intervals[-1][1], end)\n",
    "        else:\n",
    "            merged_intervals.append((start, end))\n",
    "\n",
    "    return len(merged_intervals)\n",
    "\n",
    "# Testing the solution\n",
    "assert findMinArrowShots([[10,16],[2,8],[1,6],[7,12]]) == 2\n",
    "assert findMinArrowShots([[1,2],[3,4],[5,6],[7,8]]) == 4\n",
    "assert findMinArrowShots([[1,2],[2,3],[3,4],[4,5]]) == 2"
   ]
  },
  {
   "cell_type": "code",
   "execution_count": 8,
   "id": "602ae596",
   "metadata": {
    "execution": {
     "iopub.execute_input": "2024-07-07T17:13:32.833488Z",
     "iopub.status.busy": "2024-07-07T17:13:32.833069Z",
     "iopub.status.idle": "2024-07-07T17:13:32.837716Z",
     "shell.execute_reply": "2024-07-07T17:13:32.837274Z"
    },
    "lines_to_next_cell": 1,
    "papermill": {
     "duration": 0.017194,
     "end_time": "2024-07-07T17:13:32.838778",
     "exception": false,
     "start_time": "2024-07-07T17:13:32.821584",
     "status": "completed"
    },
    "tags": []
   },
   "outputs": [],
   "source": [
    "# Q4\n",
    "def numberOfArithmeticSlicesBrute(nums: list[int]) -> int:\n",
    "    def is_valid(sub: list[int]) -> bool:\n",
    "        if len(sub) < 3:\n",
    "            return False\n",
    "        else:\n",
    "            diff = sub[1] - sub[0]\n",
    "            for i in range(len(sub) - 1):\n",
    "                if sub[i + 1] - sub[i] != diff:\n",
    "                    return False\n",
    "            return True\n",
    "\n",
    "    count = 0\n",
    "    def backtrack(i: int, subseq: list[int]):\n",
    "        if i == N:\n",
    "            count += is_valid(subseq)\n",
    "        else:\n",
    "            subseq.append(nums[i])\n",
    "            backtrack(i + 1, subseq)\n",
    "            subseq.pop()\n",
    "            backtrack(i + 1, subseq)\n",
    "\n",
    "    N = len(nums)\n",
    "    backtrack(0, [])\n",
    "    return count"
   ]
  },
  {
   "cell_type": "code",
   "execution_count": 9,
   "id": "f1e64142",
   "metadata": {
    "execution": {
     "iopub.execute_input": "2024-07-07T17:13:32.861945Z",
     "iopub.status.busy": "2024-07-07T17:13:32.861536Z",
     "iopub.status.idle": "2024-07-07T17:13:32.866136Z",
     "shell.execute_reply": "2024-07-07T17:13:32.865714Z"
    },
    "lines_to_next_cell": 1,
    "papermill": {
     "duration": 0.017246,
     "end_time": "2024-07-07T17:13:32.867174",
     "exception": false,
     "start_time": "2024-07-07T17:13:32.849928",
     "status": "completed"
    },
    "tags": []
   },
   "outputs": [],
   "source": [
    "# Upsolving\n",
    "# https://www.youtube.com/watch?v=YIMwwT9JdIE\n",
    "def numberOfArithmeticSlices(nums: list[int]) -> int:\n",
    "    \"\"\"\n",
    "    Ending at index 'j' what is maximum number of arthimetic subsequences that I can form >= 2\n",
    "    \"\"\"\n",
    "    N = len(nums)\n",
    "    dp: list[collections.defaultdict[int, int]] = [collections.defaultdict(int) for _ in range(N)]\n",
    "    sub_count = dp_sum = 0\n",
    "    for j in range(N):\n",
    "        for i in range(j):\n",
    "            delta = nums[i] - nums[j]\n",
    "            dp[j][delta] += dp[i][delta] + 1\n",
    "            sub_count, dp_sum = sub_count + 1, dp_sum + dp[i][delta] + 1\n",
    "\n",
    "    return dp_sum - sub_count\n",
    "\n",
    "# Testing the solution\n",
    "assert numberOfArithmeticSlices([2,4,6,8,10]) == 7\n",
    "assert numberOfArithmeticSlices([7,7,7,7,7]) == 16"
   ]
  },
  {
   "cell_type": "markdown",
   "id": "79053be1",
   "metadata": {
    "papermill": {
     "duration": 0.010805,
     "end_time": "2024-07-07T17:13:32.890034",
     "exception": false,
     "start_time": "2024-07-07T17:13:32.879229",
     "status": "completed"
    },
    "tags": []
   },
   "source": [
    "LC VC: June 26th 2024"
   ]
  },
  {
   "cell_type": "code",
   "execution_count": 10,
   "id": "2e438aa0",
   "metadata": {
    "execution": {
     "iopub.execute_input": "2024-07-07T17:13:32.912974Z",
     "iopub.status.busy": "2024-07-07T17:13:32.912640Z",
     "iopub.status.idle": "2024-07-07T17:13:32.917493Z",
     "shell.execute_reply": "2024-07-07T17:13:32.917033Z"
    },
    "lines_to_next_cell": 1,
    "papermill": {
     "duration": 0.017531,
     "end_time": "2024-07-07T17:13:32.918522",
     "exception": false,
     "start_time": "2024-07-07T17:13:32.900991",
     "status": "completed"
    },
    "tags": []
   },
   "outputs": [],
   "source": [
    "# Q4: Pattern 132\n",
    "# https://www.youtube.com/watch?v=q5ANAl8Z458\n",
    "# https://leetcode.com/problems/132-pattern/submissions/1301126531/\n",
    "def find132pattern(nums: list[int]) -> bool:\n",
    "    N = len(nums)\n",
    "\n",
    "    # Monotonic stack, storing min values till index - value, min pairs\n",
    "    stack: list[tuple[int, int]] = []\n",
    "    min_: int = nums[0]\n",
    "\n",
    "    for n in nums:\n",
    "        while stack and stack[-1][0] <= n:\n",
    "            stack.pop()\n",
    "\n",
    "        if stack and stack[-1][1] < n:\n",
    "            return True\n",
    "\n",
    "        stack.append((n, min_))\n",
    "        min_ = min(min_, n)\n",
    "\n",
    "    return False\n",
    "\n",
    "# Testing the solution\n",
    "assert find132pattern([1,2,3,4]) == False\n",
    "assert find132pattern([3,1,4,2]) == True\n",
    "assert find132pattern([-1,3,2,0]) == True\n",
    "assert find132pattern([3,1,2]) == False"
   ]
  },
  {
   "cell_type": "markdown",
   "id": "6afba366",
   "metadata": {
    "papermill": {
     "duration": 0.010894,
     "end_time": "2024-07-07T17:13:32.956356",
     "exception": false,
     "start_time": "2024-07-07T17:13:32.945462",
     "status": "completed"
    },
    "tags": []
   },
   "source": [
    "Balance a Binary Search tree"
   ]
  },
  {
   "cell_type": "code",
   "execution_count": 11,
   "id": "47bab318",
   "metadata": {
    "execution": {
     "iopub.execute_input": "2024-07-07T17:13:32.979560Z",
     "iopub.status.busy": "2024-07-07T17:13:32.979094Z",
     "iopub.status.idle": "2024-07-07T17:13:32.985125Z",
     "shell.execute_reply": "2024-07-07T17:13:32.984632Z"
    },
    "lines_to_next_cell": 1,
    "papermill": {
     "duration": 0.018936,
     "end_time": "2024-07-07T17:13:32.986248",
     "exception": false,
     "start_time": "2024-07-07T17:13:32.967312",
     "status": "completed"
    },
    "tags": []
   },
   "outputs": [
    {
     "name": "stdout",
     "output_type": "stream",
     "text": [
      "[3, 2, 4, 1]\n"
     ]
    }
   ],
   "source": [
    "# https://leetcode.com/problems/balance-a-binary-search-tree/submissions/1301150197\n",
    "def balanceBST(root: BinaryTreeNode) -> BinaryTreeNode|None:\n",
    "    def createBalancedBST(nodes_: list[int]) -> BinaryTreeNode|None:\n",
    "        N = len(nodes_)\n",
    "        if N == 0:\n",
    "            return None\n",
    "        else:\n",
    "            mid = N // 2\n",
    "            root_: BinaryTreeNode = BinaryTreeNode(nodes_[mid])\n",
    "            root_.left = createBalancedBST(nodes_[:mid])\n",
    "            root_.right = createBalancedBST(nodes_[mid + 1:])\n",
    "            return root_\n",
    "\n",
    "    # 1. Retrieve all elements in-order traversal (left, root, right), this returns an array in sorted order\n",
    "    curr: BinaryTreeNode = root\n",
    "    nodes: list[int] = []\n",
    "    stack: list[BinaryTreeNode] = []\n",
    "    while True:\n",
    "        while curr:\n",
    "            stack.append(curr)\n",
    "            curr = curr.left\n",
    "        if stack:\n",
    "            curr = stack.pop()\n",
    "            nodes.append(curr.val)\n",
    "            curr = curr.right\n",
    "        else:\n",
    "            break\n",
    "\n",
    "    # 2. Create a BST from the nodes: Take the middle element as the root, create left and right subtree recursively\n",
    "    return createBalancedBST(nodes)\n",
    "\n",
    "# Testing the solution\n",
    "print(balanceBST(BinaryTreeNode.from_array([1,None,2,None,3,None,4,None,None])).to_list())"
   ]
  },
  {
   "cell_type": "markdown",
   "id": "304faf22",
   "metadata": {
    "papermill": {
     "duration": 0.010954,
     "end_time": "2024-07-07T17:13:33.008301",
     "exception": false,
     "start_time": "2024-07-07T17:13:32.997347",
     "status": "completed"
    },
    "tags": []
   },
   "source": [
    "LC Practice"
   ]
  },
  {
   "cell_type": "code",
   "execution_count": 12,
   "id": "0ac43f3b",
   "metadata": {
    "execution": {
     "iopub.execute_input": "2024-07-07T17:13:33.031873Z",
     "iopub.status.busy": "2024-07-07T17:13:33.031418Z",
     "iopub.status.idle": "2024-07-07T17:13:33.035884Z",
     "shell.execute_reply": "2024-07-07T17:13:33.035329Z"
    },
    "lines_to_next_cell": 1,
    "papermill": {
     "duration": 0.017398,
     "end_time": "2024-07-07T17:13:33.036985",
     "exception": false,
     "start_time": "2024-07-07T17:13:33.019587",
     "status": "completed"
    },
    "tags": []
   },
   "outputs": [],
   "source": [
    "def subarraySum(nums: list[int], k: int) -> int:\n",
    "    prefix: collections.defaultdict = collections.defaultdict(int)\n",
    "    prefix[0], count, psum = 1, 0, 0\n",
    "    for n in nums:\n",
    "        psum += n\n",
    "        count += prefix[psum - k]\n",
    "        prefix[psum] += 1\n",
    "\n",
    "    return count\n",
    "\n",
    "# Testing the solution\n",
    "assert subarraySum([1,2,3], 3) == 2\n",
    "assert subarraySum([1,1,1], 2) == 2"
   ]
  },
  {
   "cell_type": "code",
   "execution_count": 13,
   "id": "b278e908",
   "metadata": {
    "execution": {
     "iopub.execute_input": "2024-07-07T17:13:33.060359Z",
     "iopub.status.busy": "2024-07-07T17:13:33.059943Z",
     "iopub.status.idle": "2024-07-07T17:13:33.065491Z",
     "shell.execute_reply": "2024-07-07T17:13:33.064996Z"
    },
    "lines_to_next_cell": 1,
    "papermill": {
     "duration": 0.018441,
     "end_time": "2024-07-07T17:13:33.066585",
     "exception": false,
     "start_time": "2024-07-07T17:13:33.048144",
     "status": "completed"
    },
    "tags": []
   },
   "outputs": [],
   "source": [
    "# https://leetcode.com/problems/continuous-subarray-sum/submissions/1301461461/\n",
    "def checkSubarraySum(nums: list[int], k: int) -> bool:\n",
    "    N = len(nums)\n",
    "    prefix: dict[int, int] = {0: -1}\n",
    "    psum = 0\n",
    "    for i in range(N):\n",
    "        psum = (psum + nums[i]) % k\n",
    "        if i - prefix.get(psum, i) >= 2:\n",
    "            return True\n",
    "        prefix[psum] = min(prefix.get(psum, i), i)\n",
    "\n",
    "    return False\n",
    "\n",
    "# Testing the solution\n",
    "assert checkSubarraySum([23,2,4,6,7], 6) == True\n",
    "assert checkSubarraySum([0], 1) == False\n",
    "assert checkSubarraySum([23,2,6,4,7,13], 13) == False\n",
    "assert checkSubarraySum([23,2,6,4,7,13,13], 13) == True\n",
    "assert checkSubarraySum([1,0], 2) == False\n",
    "assert checkSubarraySum([1,2,3,4], 6) == True"
   ]
  },
  {
   "cell_type": "markdown",
   "id": "b3ac55c5",
   "metadata": {
    "papermill": {
     "duration": 0.011038,
     "end_time": "2024-07-07T17:13:33.088909",
     "exception": false,
     "start_time": "2024-07-07T17:13:33.077871",
     "status": "completed"
    },
    "tags": []
   },
   "source": [
    "Check if array is sorted and rotated"
   ]
  },
  {
   "cell_type": "code",
   "execution_count": 14,
   "id": "05c610bc",
   "metadata": {
    "execution": {
     "iopub.execute_input": "2024-07-07T17:13:33.112565Z",
     "iopub.status.busy": "2024-07-07T17:13:33.112123Z",
     "iopub.status.idle": "2024-07-07T17:13:33.116895Z",
     "shell.execute_reply": "2024-07-07T17:13:33.116413Z"
    },
    "lines_to_next_cell": 1,
    "papermill": {
     "duration": 0.017932,
     "end_time": "2024-07-07T17:13:33.118027",
     "exception": false,
     "start_time": "2024-07-07T17:13:33.100095",
     "status": "completed"
    },
    "tags": []
   },
   "outputs": [],
   "source": [
    "def checkArraySortedAndRotated(nums: list[int]) -> bool:\n",
    "    N = len(nums)\n",
    "    count = 0\n",
    "    for i in range(N - 1):\n",
    "        count += nums[i + 1] < nums[i]\n",
    "    return count == 0 or (count == 1 and nums[0] > nums[-1])\n",
    "\n",
    "# Testing the solution\n",
    "assert checkArraySortedAndRotated([3,4,5,1,2]) == True\n",
    "assert checkArraySortedAndRotated([2,1,3,4]) == False\n",
    "assert checkArraySortedAndRotated([3,2,1]) == False"
   ]
  },
  {
   "cell_type": "markdown",
   "id": "2d033d8f",
   "metadata": {
    "papermill": {
     "duration": 0.011287,
     "end_time": "2024-07-07T17:13:33.140631",
     "exception": false,
     "start_time": "2024-07-07T17:13:33.129344",
     "status": "completed"
    },
    "tags": []
   },
   "source": [
    "All ancestors of a node in a DAG"
   ]
  },
  {
   "cell_type": "code",
   "execution_count": 15,
   "id": "50e7e595",
   "metadata": {
    "execution": {
     "iopub.execute_input": "2024-07-07T17:13:33.164358Z",
     "iopub.status.busy": "2024-07-07T17:13:33.163827Z",
     "iopub.status.idle": "2024-07-07T17:13:33.170576Z",
     "shell.execute_reply": "2024-07-07T17:13:33.170138Z"
    },
    "lines_to_next_cell": 1,
    "papermill": {
     "duration": 0.019911,
     "end_time": "2024-07-07T17:13:33.171707",
     "exception": false,
     "start_time": "2024-07-07T17:13:33.151796",
     "status": "completed"
    },
    "tags": []
   },
   "outputs": [],
   "source": [
    "# https://leetcode.com/problems/all-ancestors-of-a-node-in-a-directed-acyclic-graph/submissions/1304043339\n",
    "def getAncestors(N: int, edges: list[list[int]]) -> list[list[int]]:\n",
    "    @functools.cache\n",
    "    def DFS(n: int) -> set[int]:\n",
    "        ancestors: set[int] = set()\n",
    "        for next_ in adjl[n]:\n",
    "            ancestors.add(next_)\n",
    "            for next_ancestor in DFS(next_):\n",
    "                ancestors.add(next_ancestor)\n",
    "        return ancestors\n",
    "\n",
    "    adjl: collections.defaultdict[int, list[int]] = collections.defaultdict(list)\n",
    "    for n1, n2 in edges:\n",
    "        adjl[n2].append(n1)\n",
    "\n",
    "    result: list[list[int]] = [[] for _ in range(N)]\n",
    "    for i in range(N):\n",
    "        result[i] = sorted(DFS(i))\n",
    "\n",
    "    return result\n",
    "\n",
    "# Testing the solution\n",
    "assert getAncestors(8, [[0,3],[0,4],[1,3],[2,4],[2,7],[3,5],[3,6],[3,7],[4,6]]) == [[],[],[],[0,1],[0,2],[0,1,3],[0,1,2,3,4],[0,1,2,3]]\n",
    "assert getAncestors(5, [[0,1],[0,2],[0,3],[0,4],[1,2],[1,3],[1,4],[2,3],[2,4],[3,4]]) == [[],[0],[0,1],[0,1,2],[0,1,2,3]]"
   ]
  },
  {
   "cell_type": "markdown",
   "id": "0fb25f1d",
   "metadata": {
    "papermill": {
     "duration": 0.011096,
     "end_time": "2024-07-07T17:13:33.194257",
     "exception": false,
     "start_time": "2024-07-07T17:13:33.183161",
     "status": "completed"
    },
    "tags": []
   },
   "source": [
    "LC Contest: 30th June 2024"
   ]
  },
  {
   "cell_type": "code",
   "execution_count": 16,
   "id": "2cc84226",
   "metadata": {
    "execution": {
     "iopub.execute_input": "2024-07-07T17:13:33.217840Z",
     "iopub.status.busy": "2024-07-07T17:13:33.217397Z",
     "iopub.status.idle": "2024-07-07T17:13:33.222866Z",
     "shell.execute_reply": "2024-07-07T17:13:33.222339Z"
    },
    "lines_to_next_cell": 1,
    "papermill": {
     "duration": 0.018626,
     "end_time": "2024-07-07T17:13:33.223982",
     "exception": false,
     "start_time": "2024-07-07T17:13:33.205356",
     "status": "completed"
    },
    "tags": []
   },
   "outputs": [],
   "source": [
    "# Q1\n",
    "def maxHeightOfTriangle(red: int, blue: int) -> int:\n",
    "    @functools.cache\n",
    "    def backtrack(i: int) -> tuple[int, int]:\n",
    "        if i == 0:\n",
    "            return 0, 0\n",
    "        else:\n",
    "            prev = backtrack(i - 1)\n",
    "            if i % 2 == 0:\n",
    "                return prev[0], prev[1] + i\n",
    "            else:\n",
    "                return prev[0] + i, prev[1]\n",
    "\n",
    "    red, blue = sorted([red, blue])\n",
    "    low, high = 1, 20\n",
    "    while low <= high:\n",
    "        mid = (low + high) // 2\n",
    "        r, b = sorted(backtrack(mid))\n",
    "        if r <= red and b <= blue:\n",
    "            low = mid + 1\n",
    "        else:\n",
    "            high = mid - 1\n",
    "\n",
    "    return high\n",
    "\n",
    "# Testing the solution\n",
    "assert maxHeightOfTriangle(10, 1) == 2\n",
    "assert maxHeightOfTriangle(1, 1) == 1\n",
    "assert maxHeightOfTriangle(2, 1) == 2\n",
    "assert maxHeightOfTriangle(2, 4) == 3"
   ]
  },
  {
   "cell_type": "code",
   "execution_count": 17,
   "id": "3acecb65",
   "metadata": {
    "execution": {
     "iopub.execute_input": "2024-07-07T17:13:33.248029Z",
     "iopub.status.busy": "2024-07-07T17:13:33.247526Z",
     "iopub.status.idle": "2024-07-07T17:13:33.252397Z",
     "shell.execute_reply": "2024-07-07T17:13:33.251942Z"
    },
    "lines_to_next_cell": 1,
    "papermill": {
     "duration": 0.018078,
     "end_time": "2024-07-07T17:13:33.253478",
     "exception": false,
     "start_time": "2024-07-07T17:13:33.235400",
     "status": "completed"
    },
    "tags": []
   },
   "outputs": [],
   "source": [
    "# Q2\n",
    "def maximumLength(nums: list[int]) -> int:\n",
    "    \"\"\"\n",
    "    Either all consequetive element pairs should sum up to an even number or to an odd number\n",
    "\n",
    "    If all elements are to sum to an even number: either all should be even or all numbers should be odd => max(odd_count, even_count)\n",
    "    If all elements are to sum to an odd number: greedily check validity (consequetive elements should be odd-even or even-odd)\n",
    "    \"\"\"\n",
    "    odd_sum_length = odd_count = even_count = 0\n",
    "    prev = 0 if nums[0] % 2 else 1\n",
    "    for i in range(len(nums)):\n",
    "        if nums[i] % 2 == 0:\n",
    "            even_count += 1\n",
    "        else:\n",
    "            odd_count += 1\n",
    "\n",
    "        if nums[i] % 2 != prev:\n",
    "            odd_sum_length, prev = odd_sum_length + 1, nums[i] % 2\n",
    "\n",
    "    return max(odd_sum_length, odd_count, even_count)\n",
    "\n",
    "# Testing the solution\n",
    "assert maximumLength([1,2,3,4]) == 4\n",
    "assert maximumLength([1,2,1,1,2,1,2]) == 6\n",
    "assert maximumLength([1,3]) == 2"
   ]
  },
  {
   "cell_type": "markdown",
   "id": "7d9b395f",
   "metadata": {
    "papermill": {
     "duration": 0.011016,
     "end_time": "2024-07-07T17:13:33.275694",
     "exception": false,
     "start_time": "2024-07-07T17:13:33.264678",
     "status": "completed"
    },
    "tags": []
   },
   "source": [
    "search-query-auto-complete: Striver A2Z: First question"
   ]
  },
  {
   "cell_type": "code",
   "execution_count": 18,
   "id": "ac84136c",
   "metadata": {
    "execution": {
     "iopub.execute_input": "2024-07-07T17:13:33.299224Z",
     "iopub.status.busy": "2024-07-07T17:13:33.298993Z",
     "iopub.status.idle": "2024-07-07T17:13:33.307158Z",
     "shell.execute_reply": "2024-07-07T17:13:33.306629Z"
    },
    "lines_to_next_cell": 1,
    "papermill": {
     "duration": 0.021257,
     "end_time": "2024-07-07T17:13:33.308312",
     "exception": false,
     "start_time": "2024-07-07T17:13:33.287055",
     "status": "completed"
    },
    "tags": []
   },
   "outputs": [],
   "source": [
    "class AutoCompleteSystem:\n",
    "    def __init__(self, sentences: list[str], times: list[int]) -> None:\n",
    "        # Store a dictionary of sentences along with their frequencies\n",
    "        self.sentences: collections.defaultdict[str, int] = collections.defaultdict(lambda: 0)\n",
    "        self.acc: str = \"\"\n",
    "        for sentence, freq in zip(sentences, times):\n",
    "            self.sentences[sentence] = freq\n",
    "\n",
    "    def input(self, character: str) -> list[str]:\n",
    "        if character != '#':\n",
    "            self.acc += character\n",
    "            result: list[tuple[int, str]] = []\n",
    "            for sentence, freq in self.sentences.items():\n",
    "                if sentence.startswith(self.acc):\n",
    "                    result.append((-freq, sentence))\n",
    "            result.sort()\n",
    "            return list(map(lambda x: x[1], result[:3]))\n",
    "\n",
    "        else:\n",
    "            self.sentences[self.acc] += 1\n",
    "            self.acc = ''\n",
    "            return []\n",
    "\n",
    "# Testing the solution - 1\n",
    "temp = AutoCompleteSystem([\"i love you\", \"island\", \"ironman\", \"i love geeksforgeeks\"], [5,3,2,2])\n",
    "assert temp.input(\"i\") == [\"i love you\", \"island\",\"i love geeksforgeeks\"]\n",
    "assert temp.input(\" \") == [\"i love you\", \"i love geeksforgeeks\"]\n",
    "assert temp.input(\"a\") == []\n",
    "assert temp.input(\"#\") == []\n",
    "assert temp.input(\"i\") == ['i love you', 'island', 'i love geeksforgeeks']\n",
    "assert temp.input(\" \") == ['i love you', 'i love geeksforgeeks', 'i a']\n",
    "assert temp.input(\"a\") == ['i a']\n",
    "assert temp.input(\"m\") == []\n",
    "assert temp.input(\"#\") == []\n",
    "assert temp.input(\"i\") == ['i love you', 'island', 'i love geeksforgeeks']\n",
    "assert temp.input(\" \") == ['i love you', 'i love geeksforgeeks', 'i a']\n",
    "assert temp.input(\"a\") == ['i a', 'i am']\n",
    "assert temp.input(\"m\") == ['i am']\n",
    "assert temp.input(\" \") == []"
   ]
  },
  {
   "cell_type": "markdown",
   "id": "4629edb8",
   "metadata": {
    "papermill": {
     "duration": 0.011177,
     "end_time": "2024-07-07T17:13:33.330917",
     "exception": false,
     "start_time": "2024-07-07T17:13:33.319740",
     "status": "completed"
    },
    "tags": []
   },
   "source": [
    "Patterns practice"
   ]
  },
  {
   "cell_type": "code",
   "execution_count": 19,
   "id": "0a0790b9",
   "metadata": {
    "execution": {
     "iopub.execute_input": "2024-07-07T17:13:33.354521Z",
     "iopub.status.busy": "2024-07-07T17:13:33.354156Z",
     "iopub.status.idle": "2024-07-07T17:13:33.357720Z",
     "shell.execute_reply": "2024-07-07T17:13:33.357218Z"
    },
    "lines_to_next_cell": 1,
    "papermill": {
     "duration": 0.01671,
     "end_time": "2024-07-07T17:13:33.358852",
     "exception": false,
     "start_time": "2024-07-07T17:13:33.342142",
     "status": "completed"
    },
    "tags": []
   },
   "outputs": [
    {
     "name": "stdout",
     "output_type": "stream",
     "text": [
      "*****\n",
      "*****\n",
      "*****\n",
      "*****\n",
      "*****\n"
     ]
    }
   ],
   "source": [
    "def p1(N: int) -> None:\n",
    "    for i in range(N):\n",
    "        for j in range(N):\n",
    "            print('*', end='')\n",
    "        print()\n",
    "\n",
    "# Testing the solution\n",
    "p1(5)"
   ]
  },
  {
   "cell_type": "code",
   "execution_count": 20,
   "id": "3917a2b2",
   "metadata": {
    "execution": {
     "iopub.execute_input": "2024-07-07T17:13:33.382650Z",
     "iopub.status.busy": "2024-07-07T17:13:33.382209Z",
     "iopub.status.idle": "2024-07-07T17:13:33.386127Z",
     "shell.execute_reply": "2024-07-07T17:13:33.385615Z"
    },
    "lines_to_next_cell": 1,
    "papermill": {
     "duration": 0.016974,
     "end_time": "2024-07-07T17:13:33.387185",
     "exception": false,
     "start_time": "2024-07-07T17:13:33.370211",
     "status": "completed"
    },
    "tags": []
   },
   "outputs": [
    {
     "name": "stdout",
     "output_type": "stream",
     "text": [
      "*\n",
      "**\n",
      "***\n",
      "****\n",
      "*****\n"
     ]
    }
   ],
   "source": [
    "def p2(N: int) -> None:\n",
    "    for i in range(N):\n",
    "        for j in range(i + 1):\n",
    "            print(\"*\", end='')\n",
    "        print()\n",
    "\n",
    "# Testing the solution\n",
    "p2(5)"
   ]
  },
  {
   "cell_type": "code",
   "execution_count": 21,
   "id": "1a2807e5",
   "metadata": {
    "execution": {
     "iopub.execute_input": "2024-07-07T17:13:33.410602Z",
     "iopub.status.busy": "2024-07-07T17:13:33.410260Z",
     "iopub.status.idle": "2024-07-07T17:13:33.413931Z",
     "shell.execute_reply": "2024-07-07T17:13:33.413453Z"
    },
    "lines_to_next_cell": 1,
    "papermill": {
     "duration": 0.016517,
     "end_time": "2024-07-07T17:13:33.414983",
     "exception": false,
     "start_time": "2024-07-07T17:13:33.398466",
     "status": "completed"
    },
    "tags": []
   },
   "outputs": [
    {
     "name": "stdout",
     "output_type": "stream",
     "text": [
      "1 \n",
      "1 2 \n",
      "1 2 3 \n",
      "1 2 3 4 \n",
      "1 2 3 4 5 \n"
     ]
    }
   ],
   "source": [
    "def p3(N: int) -> None:\n",
    "    for i in range(N):\n",
    "        for j in range(i + 1):\n",
    "            print(j + 1, end=' ')\n",
    "        print()\n",
    "\n",
    "# Testing the solution\n",
    "p3(5)"
   ]
  },
  {
   "cell_type": "code",
   "execution_count": 22,
   "id": "a81ab688",
   "metadata": {
    "execution": {
     "iopub.execute_input": "2024-07-07T17:13:33.438971Z",
     "iopub.status.busy": "2024-07-07T17:13:33.438477Z",
     "iopub.status.idle": "2024-07-07T17:13:33.442436Z",
     "shell.execute_reply": "2024-07-07T17:13:33.441967Z"
    },
    "lines_to_next_cell": 1,
    "papermill": {
     "duration": 0.017085,
     "end_time": "2024-07-07T17:13:33.443518",
     "exception": false,
     "start_time": "2024-07-07T17:13:33.426433",
     "status": "completed"
    },
    "tags": []
   },
   "outputs": [
    {
     "name": "stdout",
     "output_type": "stream",
     "text": [
      "1 \n",
      "2 2 \n",
      "3 3 3 \n",
      "4 4 4 4 \n",
      "5 5 5 5 5 \n"
     ]
    }
   ],
   "source": [
    "def p4(N: int) -> None:\n",
    "    for i in range(N):\n",
    "        for j in range(i + 1):\n",
    "            print(i + 1, end=' ')\n",
    "        print()\n",
    "\n",
    "# Testing the solution\n",
    "p4(5)"
   ]
  },
  {
   "cell_type": "code",
   "execution_count": 23,
   "id": "a3ae50be",
   "metadata": {
    "execution": {
     "iopub.execute_input": "2024-07-07T17:13:33.467530Z",
     "iopub.status.busy": "2024-07-07T17:13:33.466992Z",
     "iopub.status.idle": "2024-07-07T17:13:33.470812Z",
     "shell.execute_reply": "2024-07-07T17:13:33.470386Z"
    },
    "lines_to_next_cell": 1,
    "papermill": {
     "duration": 0.016912,
     "end_time": "2024-07-07T17:13:33.471931",
     "exception": false,
     "start_time": "2024-07-07T17:13:33.455019",
     "status": "completed"
    },
    "tags": []
   },
   "outputs": [
    {
     "name": "stdout",
     "output_type": "stream",
     "text": [
      "*****\n",
      "****\n",
      "***\n",
      "**\n",
      "*\n"
     ]
    }
   ],
   "source": [
    "def p5(N: int) -> None:\n",
    "    for i in range(N, 0, -1):\n",
    "        for j in range(i):\n",
    "            print(\"*\", end='')\n",
    "        print()\n",
    "\n",
    "# Testing the solution\n",
    "p5(5)"
   ]
  },
  {
   "cell_type": "code",
   "execution_count": 24,
   "id": "2c02ed3c",
   "metadata": {
    "execution": {
     "iopub.execute_input": "2024-07-07T17:13:33.495552Z",
     "iopub.status.busy": "2024-07-07T17:13:33.495253Z",
     "iopub.status.idle": "2024-07-07T17:13:33.498891Z",
     "shell.execute_reply": "2024-07-07T17:13:33.498385Z"
    },
    "lines_to_next_cell": 1,
    "papermill": {
     "duration": 0.016606,
     "end_time": "2024-07-07T17:13:33.499954",
     "exception": false,
     "start_time": "2024-07-07T17:13:33.483348",
     "status": "completed"
    },
    "tags": []
   },
   "outputs": [
    {
     "name": "stdout",
     "output_type": "stream",
     "text": [
      "12345\n",
      "1234\n",
      "123\n",
      "12\n",
      "1\n"
     ]
    }
   ],
   "source": [
    "def p6(N: int) -> None:\n",
    "    for i in range(N, 0, -1):\n",
    "        for j in range(i):\n",
    "            print(j + 1, end='')\n",
    "        print()\n",
    "\n",
    "# Testing the solution\n",
    "p6(5)"
   ]
  },
  {
   "cell_type": "code",
   "execution_count": 25,
   "id": "126c1e65",
   "metadata": {
    "execution": {
     "iopub.execute_input": "2024-07-07T17:13:33.523607Z",
     "iopub.status.busy": "2024-07-07T17:13:33.523424Z",
     "iopub.status.idle": "2024-07-07T17:13:33.527858Z",
     "shell.execute_reply": "2024-07-07T17:13:33.527360Z"
    },
    "lines_to_next_cell": 1,
    "papermill": {
     "duration": 0.017544,
     "end_time": "2024-07-07T17:13:33.528946",
     "exception": false,
     "start_time": "2024-07-07T17:13:33.511402",
     "status": "completed"
    },
    "tags": []
   },
   "outputs": [
    {
     "name": "stdout",
     "output_type": "stream",
     "text": [
      "    *    \n",
      "   ***   \n",
      "  *****  \n",
      " ******* \n",
      "*********\n"
     ]
    }
   ],
   "source": [
    "def p7(N: int) -> None:\n",
    "    max_stars: int = (2 * N) - 1\n",
    "    for i in range(1, N + 1):\n",
    "        stars: int = (2 * i) - 1\n",
    "        half = (max_stars - stars) // 2\n",
    "        for j in range(half):\n",
    "            print(\" \", end='')\n",
    "        for j in range(stars):\n",
    "            print(\"*\", end='')\n",
    "        for j in range(half):\n",
    "            print(\" \", end='')\n",
    "        print()\n",
    "\n",
    "# Testing the solution\n",
    "p7(5)"
   ]
  },
  {
   "cell_type": "code",
   "execution_count": 26,
   "id": "cb4e9553",
   "metadata": {
    "execution": {
     "iopub.execute_input": "2024-07-07T17:13:33.552712Z",
     "iopub.status.busy": "2024-07-07T17:13:33.552429Z",
     "iopub.status.idle": "2024-07-07T17:13:33.556773Z",
     "shell.execute_reply": "2024-07-07T17:13:33.556260Z"
    },
    "lines_to_next_cell": 1,
    "papermill": {
     "duration": 0.017608,
     "end_time": "2024-07-07T17:13:33.557935",
     "exception": false,
     "start_time": "2024-07-07T17:13:33.540327",
     "status": "completed"
    },
    "tags": []
   },
   "outputs": [
    {
     "name": "stdout",
     "output_type": "stream",
     "text": [
      "*********\n",
      " ******* \n",
      "  *****  \n",
      "   ***   \n",
      "    *    \n"
     ]
    }
   ],
   "source": [
    "def p8(N: int) -> None:\n",
    "    max_stars: int = (2 * N) - 1\n",
    "    for i in range(N, 0, -1):\n",
    "        stars: int = (2 * i) - 1\n",
    "        half = (max_stars - stars) // 2\n",
    "        for j in range(half):\n",
    "            print(\" \", end='')\n",
    "        for j in range(stars):\n",
    "            print(\"*\", end='')\n",
    "        for j in range(half):\n",
    "            print(\" \", end='')\n",
    "        print()\n",
    "\n",
    "# Testing the solution\n",
    "p8(5)"
   ]
  },
  {
   "cell_type": "code",
   "execution_count": 27,
   "id": "7c80140a",
   "metadata": {
    "execution": {
     "iopub.execute_input": "2024-07-07T17:13:33.581975Z",
     "iopub.status.busy": "2024-07-07T17:13:33.581598Z",
     "iopub.status.idle": "2024-07-07T17:13:33.585242Z",
     "shell.execute_reply": "2024-07-07T17:13:33.584721Z"
    },
    "lines_to_next_cell": 1,
    "papermill": {
     "duration": 0.016724,
     "end_time": "2024-07-07T17:13:33.586254",
     "exception": false,
     "start_time": "2024-07-07T17:13:33.569530",
     "status": "completed"
    },
    "tags": []
   },
   "outputs": [
    {
     "name": "stdout",
     "output_type": "stream",
     "text": [
      "    *    \n",
      "   ***   \n",
      "  *****  \n",
      " ******* \n",
      "*********\n",
      "*********\n",
      " ******* \n",
      "  *****  \n",
      "   ***   \n",
      "    *    \n"
     ]
    }
   ],
   "source": [
    "def p9(N: int) -> None:\n",
    "    p7(N)\n",
    "    p8(N)\n",
    "\n",
    "# Testing the solution\n",
    "p9(5)"
   ]
  },
  {
   "cell_type": "code",
   "execution_count": 28,
   "id": "2e32fb2d",
   "metadata": {
    "execution": {
     "iopub.execute_input": "2024-07-07T17:13:33.610116Z",
     "iopub.status.busy": "2024-07-07T17:13:33.609740Z",
     "iopub.status.idle": "2024-07-07T17:13:33.613972Z",
     "shell.execute_reply": "2024-07-07T17:13:33.613527Z"
    },
    "lines_to_next_cell": 1,
    "papermill": {
     "duration": 0.017318,
     "end_time": "2024-07-07T17:13:33.615062",
     "exception": false,
     "start_time": "2024-07-07T17:13:33.597744",
     "status": "completed"
    },
    "tags": []
   },
   "outputs": [
    {
     "name": "stdout",
     "output_type": "stream",
     "text": [
      "*\n",
      "**\n",
      "***\n",
      "****\n",
      "*****\n",
      "****\n",
      "***\n",
      "**\n",
      "*\n"
     ]
    }
   ],
   "source": [
    "def p10(N: int) -> None:\n",
    "    for i in range(N):\n",
    "        for j in range(i + 1):\n",
    "            print(\"*\", end='')\n",
    "        print()\n",
    "\n",
    "    for i in range(N - 1, 0, -1):\n",
    "        for j in range(i):\n",
    "            print(\"*\", end='')\n",
    "        print()\n",
    "\n",
    "# Testing the solution\n",
    "p10(5)"
   ]
  },
  {
   "cell_type": "code",
   "execution_count": 29,
   "id": "36d6b021",
   "metadata": {
    "execution": {
     "iopub.execute_input": "2024-07-07T17:13:33.639194Z",
     "iopub.status.busy": "2024-07-07T17:13:33.638715Z",
     "iopub.status.idle": "2024-07-07T17:13:33.642759Z",
     "shell.execute_reply": "2024-07-07T17:13:33.642226Z"
    },
    "lines_to_next_cell": 1,
    "papermill": {
     "duration": 0.017083,
     "end_time": "2024-07-07T17:13:33.643767",
     "exception": false,
     "start_time": "2024-07-07T17:13:33.626684",
     "status": "completed"
    },
    "tags": []
   },
   "outputs": [
    {
     "name": "stdout",
     "output_type": "stream",
     "text": [
      "1 \n",
      "0 1 \n",
      "1 0 1 \n",
      "0 1 0 1 \n",
      "1 0 1 0 1 \n"
     ]
    }
   ],
   "source": [
    "def p11(N: int) -> None:\n",
    "    for i in range(N):\n",
    "        for j in range(i + 1):\n",
    "            print(1 if i % 2 == j % 2 else 0, end=\" \")\n",
    "        print()\n",
    "\n",
    "# Testing the solution\n",
    "p11(5)"
   ]
  },
  {
   "cell_type": "code",
   "execution_count": 30,
   "id": "ff248593",
   "metadata": {
    "execution": {
     "iopub.execute_input": "2024-07-07T17:13:33.667869Z",
     "iopub.status.busy": "2024-07-07T17:13:33.667512Z",
     "iopub.status.idle": "2024-07-07T17:13:33.671675Z",
     "shell.execute_reply": "2024-07-07T17:13:33.671190Z"
    },
    "lines_to_next_cell": 1,
    "papermill": {
     "duration": 0.01731,
     "end_time": "2024-07-07T17:13:33.672661",
     "exception": false,
     "start_time": "2024-07-07T17:13:33.655351",
     "status": "completed"
    },
    "tags": []
   },
   "outputs": [
    {
     "name": "stdout",
     "output_type": "stream",
     "text": [
      "1        1\n",
      "12      21\n",
      "123    321\n",
      "1234  4321\n",
      "1234554321\n"
     ]
    }
   ],
   "source": [
    "def p12(N: int) -> None:\n",
    "    for i in range(1, N + 1):\n",
    "        for j in range(1, N + 1):\n",
    "            print(j if i >= j else \" \", end=\"\")\n",
    "        for j in range(N, 0, -1):\n",
    "            print(j if i >= j else \" \", end=\"\")\n",
    "        print()\n",
    "\n",
    "# Testing the solution\n",
    "p12(5)"
   ]
  },
  {
   "cell_type": "code",
   "execution_count": 31,
   "id": "4cb3993a",
   "metadata": {
    "execution": {
     "iopub.execute_input": "2024-07-07T17:13:33.697198Z",
     "iopub.status.busy": "2024-07-07T17:13:33.696906Z",
     "iopub.status.idle": "2024-07-07T17:13:33.700816Z",
     "shell.execute_reply": "2024-07-07T17:13:33.700299Z"
    },
    "lines_to_next_cell": 1,
    "papermill": {
     "duration": 0.017418,
     "end_time": "2024-07-07T17:13:33.701885",
     "exception": false,
     "start_time": "2024-07-07T17:13:33.684467",
     "status": "completed"
    },
    "tags": []
   },
   "outputs": [
    {
     "name": "stdout",
     "output_type": "stream",
     "text": [
      "1 \n",
      "2 3 \n",
      "4 5 6 \n",
      "7 8 9 10 \n",
      "11 12 13 14 15 \n"
     ]
    }
   ],
   "source": [
    "def p13(N: int) -> None:\n",
    "    counter = 1\n",
    "    for i in range(1, N + 1):\n",
    "        for j in range(i):\n",
    "            print(counter, end=\" \")\n",
    "            counter += 1\n",
    "        print()\n",
    "\n",
    "# Testing the solution\n",
    "p13(5)"
   ]
  },
  {
   "cell_type": "code",
   "execution_count": 32,
   "id": "0adac77e",
   "metadata": {
    "execution": {
     "iopub.execute_input": "2024-07-07T17:13:33.726486Z",
     "iopub.status.busy": "2024-07-07T17:13:33.726058Z",
     "iopub.status.idle": "2024-07-07T17:13:33.729767Z",
     "shell.execute_reply": "2024-07-07T17:13:33.729260Z"
    },
    "lines_to_next_cell": 1,
    "papermill": {
     "duration": 0.017181,
     "end_time": "2024-07-07T17:13:33.730858",
     "exception": false,
     "start_time": "2024-07-07T17:13:33.713677",
     "status": "completed"
    },
    "tags": []
   },
   "outputs": [
    {
     "name": "stdout",
     "output_type": "stream",
     "text": [
      "A \n",
      "A B \n",
      "A B C \n",
      "A B C D \n",
      "A B C D E \n"
     ]
    }
   ],
   "source": [
    "def p14(N: int) -> None:\n",
    "    for i in range(1, N + 1):\n",
    "        for j in range(i):\n",
    "            print(chr(ord('A') + j), end=\" \")\n",
    "        print()\n",
    "\n",
    "# Testing the solution\n",
    "p14(5)"
   ]
  },
  {
   "cell_type": "code",
   "execution_count": 33,
   "id": "3918fd7d",
   "metadata": {
    "execution": {
     "iopub.execute_input": "2024-07-07T17:13:33.755038Z",
     "iopub.status.busy": "2024-07-07T17:13:33.754760Z",
     "iopub.status.idle": "2024-07-07T17:13:33.758805Z",
     "shell.execute_reply": "2024-07-07T17:13:33.758323Z"
    },
    "lines_to_next_cell": 1,
    "papermill": {
     "duration": 0.017318,
     "end_time": "2024-07-07T17:13:33.759831",
     "exception": false,
     "start_time": "2024-07-07T17:13:33.742513",
     "status": "completed"
    },
    "tags": []
   },
   "outputs": [
    {
     "name": "stdout",
     "output_type": "stream",
     "text": [
      "A B C D E \n",
      "A B C D \n",
      "A B C \n",
      "A B \n",
      "A \n"
     ]
    }
   ],
   "source": [
    "def p15(N: int) -> None:\n",
    "    for i in range(N, 0, -1):\n",
    "        for j in range(i):\n",
    "            print(chr(ord('A') + j), end=\" \")\n",
    "        print()\n",
    "\n",
    "# Testing the solution\n",
    "p15(5)"
   ]
  },
  {
   "cell_type": "code",
   "execution_count": 34,
   "id": "cc083076",
   "metadata": {
    "execution": {
     "iopub.execute_input": "2024-07-07T17:13:33.784477Z",
     "iopub.status.busy": "2024-07-07T17:13:33.783928Z",
     "iopub.status.idle": "2024-07-07T17:13:33.788503Z",
     "shell.execute_reply": "2024-07-07T17:13:33.787985Z"
    },
    "lines_to_next_cell": 1,
    "papermill": {
     "duration": 0.017942,
     "end_time": "2024-07-07T17:13:33.789579",
     "exception": false,
     "start_time": "2024-07-07T17:13:33.771637",
     "status": "completed"
    },
    "tags": []
   },
   "outputs": [
    {
     "name": "stdout",
     "output_type": "stream",
     "text": [
      "A \n",
      "B B \n",
      "C C C \n",
      "D D D D \n",
      "E E E E E \n"
     ]
    }
   ],
   "source": [
    "def p16(N: int) -> None:\n",
    "    for i in range(1, N + 1):\n",
    "        for j in range(i):\n",
    "            print(chr(ord('A') + i - 1), end=\" \")\n",
    "        print()\n",
    "\n",
    "# Testing the solution\n",
    "p16(5)"
   ]
  },
  {
   "cell_type": "code",
   "execution_count": 35,
   "id": "d9432d4b",
   "metadata": {
    "execution": {
     "iopub.execute_input": "2024-07-07T17:13:33.814868Z",
     "iopub.status.busy": "2024-07-07T17:13:33.814415Z",
     "iopub.status.idle": "2024-07-07T17:13:33.820616Z",
     "shell.execute_reply": "2024-07-07T17:13:33.820117Z"
    },
    "lines_to_next_cell": 1,
    "papermill": {
     "duration": 0.020477,
     "end_time": "2024-07-07T17:13:33.822055",
     "exception": false,
     "start_time": "2024-07-07T17:13:33.801578",
     "status": "completed"
    },
    "tags": []
   },
   "outputs": [
    {
     "name": "stdout",
     "output_type": "stream",
     "text": [
      "    A    \n",
      "   ABA   \n",
      "  ABCBA  \n",
      " ABCDCBA \n",
      "ABCDEDCBA\n"
     ]
    }
   ],
   "source": [
    "def p17(N: int) -> None:\n",
    "    max_width = (2 * N) - 1\n",
    "    for i in range(1, N + 1):\n",
    "        width = (2 * i) - 1\n",
    "        spaces = max_width - width\n",
    "        for j in range(spaces // 2):\n",
    "            print(\" \", end=\"\")\n",
    "        for j in range(i):\n",
    "            print(chr(ord('A') + j), end=\"\")\n",
    "        for j in range(i - 2, -1, -1):\n",
    "            print(chr(ord('A') + j), end=\"\")\n",
    "        for j in range(spaces // 2):\n",
    "            print(\" \", end=\"\")\n",
    "        print()\n",
    "\n",
    "# Testing the solution\n",
    "p17(5)"
   ]
  },
  {
   "cell_type": "code",
   "execution_count": 36,
   "id": "4633133c",
   "metadata": {
    "execution": {
     "iopub.execute_input": "2024-07-07T17:13:33.856955Z",
     "iopub.status.busy": "2024-07-07T17:13:33.856591Z",
     "iopub.status.idle": "2024-07-07T17:13:33.860442Z",
     "shell.execute_reply": "2024-07-07T17:13:33.859933Z"
    },
    "lines_to_next_cell": 1,
    "papermill": {
     "duration": 0.021569,
     "end_time": "2024-07-07T17:13:33.861541",
     "exception": false,
     "start_time": "2024-07-07T17:13:33.839972",
     "status": "completed"
    },
    "tags": []
   },
   "outputs": [
    {
     "name": "stdout",
     "output_type": "stream",
     "text": [
      "E \n",
      "D E \n",
      "C D E \n",
      "B C D E \n",
      "A B C D E \n"
     ]
    }
   ],
   "source": [
    "def p18(N: int) -> None:\n",
    "    for i in range(1, N + 1):\n",
    "        for j in range(N - i, N):\n",
    "            print(chr(ord('A') + j), end=' ')\n",
    "        print()\n",
    "\n",
    "# Testing the solution\n",
    "p18(5)"
   ]
  },
  {
   "cell_type": "code",
   "execution_count": 37,
   "id": "45cf811d",
   "metadata": {
    "execution": {
     "iopub.execute_input": "2024-07-07T17:13:33.886581Z",
     "iopub.status.busy": "2024-07-07T17:13:33.886150Z",
     "iopub.status.idle": "2024-07-07T17:13:33.891348Z",
     "shell.execute_reply": "2024-07-07T17:13:33.890816Z"
    },
    "lines_to_next_cell": 1,
    "papermill": {
     "duration": 0.01871,
     "end_time": "2024-07-07T17:13:33.892469",
     "exception": false,
     "start_time": "2024-07-07T17:13:33.873759",
     "status": "completed"
    },
    "tags": []
   },
   "outputs": [
    {
     "name": "stdout",
     "output_type": "stream",
     "text": [
      "**********\n",
      "****  ****\n",
      "***    ***\n",
      "**      **\n",
      "*        *\n",
      "*        *\n",
      "**      **\n",
      "***    ***\n",
      "****  ****\n",
      "**********\n"
     ]
    }
   ],
   "source": [
    "def p19(N: int) -> None:\n",
    "    max_width = 2 * N\n",
    "    for i_ in range(2 * N):\n",
    "        i = N - i_ if i_ < N else (i_ % N) + 1\n",
    "        for j in range(i):\n",
    "            print(\"*\", end='')\n",
    "        for j in range(max_width - (2 * i)):\n",
    "            print(\" \", end='')\n",
    "        for j in range(i):\n",
    "            print(\"*\", end='')\n",
    "        print()\n",
    "\n",
    "# Testing the solution\n",
    "p19(5)"
   ]
  },
  {
   "cell_type": "code",
   "execution_count": 38,
   "id": "da170774",
   "metadata": {
    "execution": {
     "iopub.execute_input": "2024-07-07T17:13:33.917842Z",
     "iopub.status.busy": "2024-07-07T17:13:33.917373Z",
     "iopub.status.idle": "2024-07-07T17:13:33.922600Z",
     "shell.execute_reply": "2024-07-07T17:13:33.922078Z"
    },
    "lines_to_next_cell": 1,
    "papermill": {
     "duration": 0.019084,
     "end_time": "2024-07-07T17:13:33.923633",
     "exception": false,
     "start_time": "2024-07-07T17:13:33.904549",
     "status": "completed"
    },
    "tags": []
   },
   "outputs": [
    {
     "name": "stdout",
     "output_type": "stream",
     "text": [
      "*        *\n",
      "**      **\n",
      "***    ***\n",
      "****  ****\n",
      "**********\n",
      "****  ****\n",
      "***    ***\n",
      "**      **\n",
      "*        *\n"
     ]
    }
   ],
   "source": [
    "def p20(N: int) -> None:\n",
    "    max_width = 2 * N\n",
    "    for i_ in range(2 * N - 1):\n",
    "        i = i_ + 1 if i_ < N else 2 * N - i_ - 1\n",
    "        for j in range(i):\n",
    "            print(\"*\", end='')\n",
    "        for j in range(max_width - 2 * i):\n",
    "            print(\" \", end='')\n",
    "        for j in range(i):\n",
    "            print(\"*\", end='')\n",
    "        print()\n",
    "\n",
    "# Testing the solution\n",
    "p20(5)"
   ]
  },
  {
   "cell_type": "code",
   "execution_count": 39,
   "id": "c9ec1076",
   "metadata": {
    "execution": {
     "iopub.execute_input": "2024-07-07T17:13:33.949374Z",
     "iopub.status.busy": "2024-07-07T17:13:33.948759Z",
     "iopub.status.idle": "2024-07-07T17:13:33.953036Z",
     "shell.execute_reply": "2024-07-07T17:13:33.952489Z"
    },
    "lines_to_next_cell": 1,
    "papermill": {
     "duration": 0.018187,
     "end_time": "2024-07-07T17:13:33.954137",
     "exception": false,
     "start_time": "2024-07-07T17:13:33.935950",
     "status": "completed"
    },
    "tags": []
   },
   "outputs": [
    {
     "name": "stdout",
     "output_type": "stream",
     "text": [
      "*****\n",
      "*   *\n",
      "*   *\n",
      "*   *\n",
      "*****\n"
     ]
    }
   ],
   "source": [
    "def p21(N: int) -> None:\n",
    "    for i in range(N):\n",
    "        for j in range(N):\n",
    "            print(\"*\" if i in (0, N - 1) or j in (0, N - 1) else \" \", end='')\n",
    "        print()\n",
    "\n",
    "# Testing the solution\n",
    "p21(5)"
   ]
  },
  {
   "cell_type": "code",
   "execution_count": 40,
   "id": "519e516c",
   "metadata": {
    "execution": {
     "iopub.execute_input": "2024-07-07T17:13:33.979462Z",
     "iopub.status.busy": "2024-07-07T17:13:33.979248Z",
     "iopub.status.idle": "2024-07-07T17:13:33.984567Z",
     "shell.execute_reply": "2024-07-07T17:13:33.984076Z"
    },
    "lines_to_next_cell": 1,
    "papermill": {
     "duration": 0.019342,
     "end_time": "2024-07-07T17:13:33.985688",
     "exception": false,
     "start_time": "2024-07-07T17:13:33.966346",
     "status": "completed"
    },
    "tags": []
   },
   "outputs": [
    {
     "name": "stdout",
     "output_type": "stream",
     "text": [
      "3 3 3 3 3 \n",
      "3 2 2 2 3 \n",
      "3 2 1 2 3 \n",
      "3 2 2 2 3 \n",
      "3 3 3 3 3 \n"
     ]
    }
   ],
   "source": [
    "def p22(N: int) -> None:\n",
    "    result: collections.deque[collections.deque[int]] = collections.deque([collections.deque([1])])\n",
    "    for i in range(2, N + 1):\n",
    "        for row in result:\n",
    "            row.appendleft(i)\n",
    "            row.append(i)\n",
    "        result.appendleft(collections.deque([i for _ in range(2 * i - 1)]))\n",
    "        result.append(collections.deque([i for _ in range(2 * i - 1)]))\n",
    "\n",
    "    for row in result:\n",
    "        for col in row:\n",
    "            print(col, end=' ')\n",
    "        print()\n",
    "\n",
    "# Testing the solution\n",
    "p22(3)"
   ]
  },
  {
   "cell_type": "markdown",
   "id": "9cdce5e5",
   "metadata": {
    "papermill": {
     "duration": 0.011971,
     "end_time": "2024-07-07T17:13:34.009802",
     "exception": false,
     "start_time": "2024-07-07T17:13:33.997831",
     "status": "completed"
    },
    "tags": []
   },
   "source": [
    "Basic Math"
   ]
  },
  {
   "cell_type": "code",
   "execution_count": 41,
   "id": "cd23fa37",
   "metadata": {
    "execution": {
     "iopub.execute_input": "2024-07-07T17:13:34.034651Z",
     "iopub.status.busy": "2024-07-07T17:13:34.034411Z",
     "iopub.status.idle": "2024-07-07T17:13:34.038079Z",
     "shell.execute_reply": "2024-07-07T17:13:34.037561Z"
    },
    "lines_to_next_cell": 1,
    "papermill": {
     "duration": 0.017521,
     "end_time": "2024-07-07T17:13:34.039222",
     "exception": false,
     "start_time": "2024-07-07T17:13:34.021701",
     "status": "completed"
    },
    "tags": []
   },
   "outputs": [],
   "source": [
    "def reverseDigits(N: int) -> int:\n",
    "    NR, num = 0, abs(N)\n",
    "    while num > 0:\n",
    "        digit, num = num % 10, num // 10\n",
    "        NR = (NR * 10) + digit\n",
    "    return NR if N > 0 else -NR\n",
    "\n",
    "# Testing the solution\n",
    "assert reverseDigits(-123) == -321"
   ]
  },
  {
   "cell_type": "code",
   "execution_count": 42,
   "id": "5d9d6817",
   "metadata": {
    "execution": {
     "iopub.execute_input": "2024-07-07T17:13:34.064917Z",
     "iopub.status.busy": "2024-07-07T17:13:34.064653Z",
     "iopub.status.idle": "2024-07-07T17:13:34.068663Z",
     "shell.execute_reply": "2024-07-07T17:13:34.068062Z"
    },
    "lines_to_next_cell": 1,
    "papermill": {
     "duration": 0.018497,
     "end_time": "2024-07-07T17:13:34.069986",
     "exception": false,
     "start_time": "2024-07-07T17:13:34.051489",
     "status": "completed"
    },
    "tags": []
   },
   "outputs": [],
   "source": [
    "def isPalindrome(N: int) -> bool:\n",
    "    def reverse(num: int) -> int:\n",
    "        numR = 0\n",
    "        while num > 0:\n",
    "            digit, num = num % 10, num // 10\n",
    "            numR = (numR * 10) + digit\n",
    "        return numR\n",
    "\n",
    "    return N >= 0 and N == reverse(N)\n",
    "\n",
    "# Testing the solution\n",
    "assert isPalindrome(121) == True"
   ]
  },
  {
   "cell_type": "markdown",
   "id": "012c2ce0",
   "metadata": {
    "papermill": {
     "duration": 0.012195,
     "end_time": "2024-07-07T17:13:34.096787",
     "exception": false,
     "start_time": "2024-07-07T17:13:34.084592",
     "status": "completed"
    },
    "tags": []
   },
   "source": []
  },
  {
   "cell_type": "code",
   "execution_count": 43,
   "id": "389e84de",
   "metadata": {
    "execution": {
     "iopub.execute_input": "2024-07-07T17:13:34.121968Z",
     "iopub.status.busy": "2024-07-07T17:13:34.121743Z",
     "iopub.status.idle": "2024-07-07T17:13:34.127588Z",
     "shell.execute_reply": "2024-07-07T17:13:34.127021Z"
    },
    "lines_to_next_cell": 1,
    "papermill": {
     "duration": 0.019753,
     "end_time": "2024-07-07T17:13:34.128673",
     "exception": false,
     "start_time": "2024-07-07T17:13:34.108920",
     "status": "completed"
    },
    "tags": []
   },
   "outputs": [],
   "source": [
    "def lcmAndGcd(n1: int , n2: int) -> tuple[int, int]:\n",
    "    def primeFactors(n: int) -> dict[int, int]:\n",
    "        factors: collections.defaultdict[int, int] = collections.defaultdict(int)\n",
    "        curr = 2\n",
    "        while curr <= n:\n",
    "            if n % curr == 0:\n",
    "                n //= curr\n",
    "                factors[curr] += 1\n",
    "            else:\n",
    "                curr += 1\n",
    "        return factors\n",
    "\n",
    "    pf1, pf2 = primeFactors(n1), primeFactors(n2)\n",
    "    factors: set[int] = {*pf1.keys(), *pf2.keys()}\n",
    "    lcm = gcd = 1\n",
    "    for factor in factors:\n",
    "        min_, max_ = min(pf1[factor], pf2[factor]), max(pf1[factor], pf2[factor])\n",
    "        if min_ != 0:\n",
    "            gcd *= factor ** min_\n",
    "        if max_ != 0:\n",
    "            lcm *= factor ** max_\n",
    "\n",
    "    return lcm, gcd\n",
    "#\n",
    "# Testing the solution\n",
    "assert lcmAndGcd(5, 10) == (10, 5)\n",
    "assert lcmAndGcd(14, 8) == (56, 2)\n",
    "assert lcmAndGcd(8, 42) == (168, 2)"
   ]
  },
  {
   "cell_type": "code",
   "execution_count": 44,
   "id": "bf026496",
   "metadata": {
    "execution": {
     "iopub.execute_input": "2024-07-07T17:13:34.153807Z",
     "iopub.status.busy": "2024-07-07T17:13:34.153446Z",
     "iopub.status.idle": "2024-07-07T17:13:34.157940Z",
     "shell.execute_reply": "2024-07-07T17:13:34.157438Z"
    },
    "lines_to_next_cell": 1,
    "papermill": {
     "duration": 0.018252,
     "end_time": "2024-07-07T17:13:34.159031",
     "exception": false,
     "start_time": "2024-07-07T17:13:34.140779",
     "status": "completed"
    },
    "tags": []
   },
   "outputs": [],
   "source": [
    "def lcmAndGcdOptimal(n1: int , n2: int) -> tuple[int, int]:\n",
    "    \"\"\"\n",
    "    Euclidean algo: GCD remains same even if greater of two numbers is subtracted with the smaller number\n",
    "    Continously subtract greater by smaller until we get a 0.\n",
    "    \"\"\"\n",
    "    def gcd(n1: int, n2: int) -> int:\n",
    "        while n1 != 0 and n2 != 0:\n",
    "            n1, n2 = sorted([n1, n2])\n",
    "            n1, n2 = n1, n2 - n1\n",
    "        return max(n1, n2)\n",
    "\n",
    "    gcd_ = gcd(n1, n2)\n",
    "    lcm_ = (n1 * n2) // gcd_\n",
    "    return lcm_, gcd_\n",
    "\n",
    "# Testing the solution\n",
    "assert lcmAndGcdOptimal(5, 10) == (10, 5)\n",
    "assert lcmAndGcdOptimal(14, 8) == (56, 2)\n",
    "assert lcmAndGcdOptimal(8, 42) == (168, 2)"
   ]
  },
  {
   "cell_type": "code",
   "execution_count": 45,
   "id": "e6aa105e",
   "metadata": {
    "execution": {
     "iopub.execute_input": "2024-07-07T17:13:34.184465Z",
     "iopub.status.busy": "2024-07-07T17:13:34.183968Z",
     "iopub.status.idle": "2024-07-07T17:13:34.188082Z",
     "shell.execute_reply": "2024-07-07T17:13:34.187635Z"
    },
    "lines_to_next_cell": 1,
    "papermill": {
     "duration": 0.017923,
     "end_time": "2024-07-07T17:13:34.189147",
     "exception": false,
     "start_time": "2024-07-07T17:13:34.171224",
     "status": "completed"
    },
    "tags": []
   },
   "outputs": [],
   "source": [
    "def armstrong(N: int) -> bool:\n",
    "    def countDigits(n: int) -> int:\n",
    "        digits = 0\n",
    "        while n > 0:\n",
    "            digits, n = digits + 1, n // 10\n",
    "        return digits\n",
    "\n",
    "    total, n, K = 0, N, countDigits(N)\n",
    "    while n > 0:\n",
    "        digit, n = n % 10, n // 10\n",
    "        total +=digit ** K\n",
    "\n",
    "    return total == N\n",
    "\n",
    "# Testing the solution\n",
    "assert armstrong(371) == True\n",
    "assert armstrong(123) == False"
   ]
  },
  {
   "cell_type": "code",
   "execution_count": 46,
   "id": "aa26b4c6",
   "metadata": {
    "execution": {
     "iopub.execute_input": "2024-07-07T17:13:34.214244Z",
     "iopub.status.busy": "2024-07-07T17:13:34.213954Z",
     "iopub.status.idle": "2024-07-07T17:13:34.217624Z",
     "shell.execute_reply": "2024-07-07T17:13:34.217182Z"
    },
    "lines_to_next_cell": 1,
    "papermill": {
     "duration": 0.017424,
     "end_time": "2024-07-07T17:13:34.218678",
     "exception": false,
     "start_time": "2024-07-07T17:13:34.201254",
     "status": "completed"
    },
    "tags": []
   },
   "outputs": [],
   "source": [
    "def printAllDivisors(N: int) -> list[int]:\n",
    "    result: set[int] = set()\n",
    "    i = 1\n",
    "    while i * i <= N:\n",
    "        if N % i == 0:\n",
    "            result.add(i)\n",
    "            result.add(N // i)\n",
    "        i += 1\n",
    "\n",
    "    return sorted(result)\n",
    "\n",
    "# Testing the solution\n",
    "assert printAllDivisors(12) == [1, 2, 3, 4, 6, 12]"
   ]
  },
  {
   "cell_type": "code",
   "execution_count": 47,
   "id": "c8135fe8",
   "metadata": {
    "execution": {
     "iopub.execute_input": "2024-07-07T17:13:34.244035Z",
     "iopub.status.busy": "2024-07-07T17:13:34.243571Z",
     "iopub.status.idle": "2024-07-07T17:13:34.247754Z",
     "shell.execute_reply": "2024-07-07T17:13:34.247321Z"
    },
    "lines_to_next_cell": 1,
    "papermill": {
     "duration": 0.018024,
     "end_time": "2024-07-07T17:13:34.248878",
     "exception": false,
     "start_time": "2024-07-07T17:13:34.230854",
     "status": "completed"
    },
    "tags": []
   },
   "outputs": [],
   "source": [
    "def minJumps(arr: list[int], N: int) -> int:\n",
    "    \"\"\"\n",
    "    Greedy Approach = Time: O(N), Space: O(1)\n",
    "\n",
    "    Keep track of the range we can jump into with minimum number of steps\n",
    "    For jump = 0, we can jump to index = 0 (left = right = 0)\n",
    "\n",
    "    For each iteration through range, compute maximum range we can jump into.\n",
    "    As we move with the next iteration, jumps = jumps + 1.\n",
    "    Again recompute the next range\n",
    "    \"\"\"\n",
    "    jumps = left = right = 0\n",
    "    while right < N - 1:\n",
    "        max_idx = 0\n",
    "        for i in range(left, right + 1):\n",
    "            max_idx = max(max_idx, i + arr[i])\n",
    "        # For next iteration, we start with where we left off in the previous range (right + 1)\n",
    "        jumps, left, right = jumps + 1, right + 1, max_idx\n",
    "\n",
    "    return jumps\n",
    "\n",
    "# Testing the solution\n",
    "assert minJumps([1,3,5,8,9,2,6,7,6,8,9], 11) == 3"
   ]
  },
  {
   "cell_type": "markdown",
   "id": "bc8d59b3",
   "metadata": {
    "papermill": {
     "duration": 0.011828,
     "end_time": "2024-07-07T17:13:34.272763",
     "exception": false,
     "start_time": "2024-07-07T17:13:34.260935",
     "status": "completed"
    },
    "tags": []
   },
   "source": [
    "#### Basic Recursion"
   ]
  },
  {
   "cell_type": "code",
   "execution_count": 48,
   "id": "e69b9a66",
   "metadata": {
    "execution": {
     "iopub.execute_input": "2024-07-07T17:13:34.298275Z",
     "iopub.status.busy": "2024-07-07T17:13:34.297969Z",
     "iopub.status.idle": "2024-07-07T17:13:34.301298Z",
     "shell.execute_reply": "2024-07-07T17:13:34.300877Z"
    },
    "lines_to_next_cell": 1,
    "papermill": {
     "duration": 0.017565,
     "end_time": "2024-07-07T17:13:34.302384",
     "exception": false,
     "start_time": "2024-07-07T17:13:34.284819",
     "status": "completed"
    },
    "tags": []
   },
   "outputs": [],
   "source": [
    "def sumOfSeries(n: int) -> int:\n",
    "    \"\"\"\n",
    "    Figured this out by checking if there is a pattern by printing all results\n",
    "    \"\"\"\n",
    "    sqrt = (n * (n + 1)) // 2\n",
    "    return sqrt * sqrt\n",
    "\n",
    "# Testing the solution\n",
    "assert sumOfSeries(5) == 225\n",
    "assert sumOfSeries(7) == 784"
   ]
  },
  {
   "cell_type": "code",
   "execution_count": 49,
   "id": "c2c609ac",
   "metadata": {
    "execution": {
     "iopub.execute_input": "2024-07-07T17:13:34.327403Z",
     "iopub.status.busy": "2024-07-07T17:13:34.327077Z",
     "iopub.status.idle": "2024-07-07T17:13:34.331029Z",
     "shell.execute_reply": "2024-07-07T17:13:34.330517Z"
    },
    "lines_to_next_cell": 1,
    "papermill": {
     "duration": 0.017561,
     "end_time": "2024-07-07T17:13:34.332103",
     "exception": false,
     "start_time": "2024-07-07T17:13:34.314542",
     "status": "completed"
    },
    "tags": []
   },
   "outputs": [],
   "source": [
    "def factorialNumbers(N: int) -> list[int]:\n",
    "    def factorial(i: int, curr: int) -> None:\n",
    "        if curr > N:\n",
    "            return\n",
    "        else:\n",
    "            result.append(curr)\n",
    "            factorial(i + 1, curr * (i + 1))\n",
    "\n",
    "    result: list[int] = []\n",
    "    factorial(1, 1)\n",
    "    return result\n",
    "\n",
    "# Testing the solution\n",
    "assert factorialNumbers(3) == [1, 2]\n",
    "assert factorialNumbers(6) == [1, 2, 6]"
   ]
  },
  {
   "cell_type": "code",
   "execution_count": 50,
   "id": "b6270d65",
   "metadata": {
    "execution": {
     "iopub.execute_input": "2024-07-07T17:13:34.357115Z",
     "iopub.status.busy": "2024-07-07T17:13:34.356772Z",
     "iopub.status.idle": "2024-07-07T17:13:34.360752Z",
     "shell.execute_reply": "2024-07-07T17:13:34.360338Z"
    },
    "lines_to_next_cell": 1,
    "papermill": {
     "duration": 0.0177,
     "end_time": "2024-07-07T17:13:34.361895",
     "exception": false,
     "start_time": "2024-07-07T17:13:34.344195",
     "status": "completed"
    },
    "tags": []
   },
   "outputs": [],
   "source": [
    "def reverseArray(nums: list[int]):\n",
    "    def reverse(i: int, j: int) -> None:\n",
    "        if i >= j:\n",
    "            return\n",
    "        nums[i], nums[j] = nums[j], nums[i]\n",
    "        reverse(i + 1, j - 1)\n",
    "\n",
    "    N = len(nums)\n",
    "    reverse(0, N - 1)\n",
    "    return nums\n",
    "\n",
    "# Testing the solution\n",
    "assert reverseArray([1,2]) == [2,1]\n",
    "assert reverseArray([1,2,3,4]) == [4,3,2,1]"
   ]
  },
  {
   "cell_type": "code",
   "execution_count": 51,
   "id": "89cf59c4",
   "metadata": {
    "execution": {
     "iopub.execute_input": "2024-07-07T17:13:34.386864Z",
     "iopub.status.busy": "2024-07-07T17:13:34.386534Z",
     "iopub.status.idle": "2024-07-07T17:13:34.390941Z",
     "shell.execute_reply": "2024-07-07T17:13:34.390516Z"
    },
    "lines_to_next_cell": 1,
    "papermill": {
     "duration": 0.01807,
     "end_time": "2024-07-07T17:13:34.391999",
     "exception": false,
     "start_time": "2024-07-07T17:13:34.373929",
     "status": "completed"
    },
    "tags": []
   },
   "outputs": [],
   "source": [
    "def isPalindrome2(s: str) -> bool:\n",
    "    def check(i: int, j: int) -> bool:\n",
    "        if i >= j:\n",
    "            return True\n",
    "        elif not s[i].isalnum():\n",
    "            return check(i + 1, j)\n",
    "        elif not s[j].isalnum():\n",
    "            return check(i, j - 1)\n",
    "        else:\n",
    "            return  s[i].lower() == s[j].lower() and check(i + 1, j - 1)\n",
    "\n",
    "    N = len(s)\n",
    "    return check(0, N - 1)\n",
    "\n",
    "# Testing the solution\n",
    "assert isPalindrome2(\"A man, a plan, a canal: Panama\") == True\n",
    "assert isPalindrome2(\"race a car\") == False\n",
    "assert isPalindrome2(\"0P\") == False"
   ]
  },
  {
   "cell_type": "code",
   "execution_count": 52,
   "id": "bb5a8346",
   "metadata": {
    "execution": {
     "iopub.execute_input": "2024-07-07T17:13:34.417676Z",
     "iopub.status.busy": "2024-07-07T17:13:34.417219Z",
     "iopub.status.idle": "2024-07-07T17:13:34.422520Z",
     "shell.execute_reply": "2024-07-07T17:13:34.422086Z"
    },
    "lines_to_next_cell": 1,
    "papermill": {
     "duration": 0.019255,
     "end_time": "2024-07-07T17:13:34.423572",
     "exception": false,
     "start_time": "2024-07-07T17:13:34.404317",
     "status": "completed"
    },
    "tags": []
   },
   "outputs": [],
   "source": [
    "def frequencyCount(arr: list[int], N: int, P: int) -> list[int]:\n",
    "    \"\"\"\n",
    "    Similar to finding the missing duplicate number problem.\n",
    "    \"\"\"\n",
    "    def backtrack(i: int) -> None:\n",
    "        if i >= N:\n",
    "            return\n",
    "        elif arr[i] <= 0:\n",
    "            arr[i] -= 1\n",
    "        else:\n",
    "            arr[i], next_ = -1, arr[i] - 1\n",
    "            backtrack(next_)\n",
    "\n",
    "    for i in range(N):\n",
    "        if arr[i] > 0:\n",
    "            arr[i], next_ = 0, arr[i] - 1\n",
    "            backtrack(next_)\n",
    "\n",
    "    for i in range(N):\n",
    "        arr[i] = abs(arr[i])\n",
    "\n",
    "    return arr\n",
    "\n",
    "# Testing the solution\n",
    "assert frequencyCount([2, 3, 2, 3, 5], 5, 5) == [0, 2, 2, 0, 1]\n",
    "assert frequencyCount([3, 3, 3, 3], 4, 3) == [0, 0, 4, 0]\n",
    "assert frequencyCount([8, 9], 2, 9)"
   ]
  },
  {
   "cell_type": "code",
   "execution_count": 53,
   "id": "1ece5c67",
   "metadata": {
    "execution": {
     "iopub.execute_input": "2024-07-07T17:13:34.448951Z",
     "iopub.status.busy": "2024-07-07T17:13:34.448452Z",
     "iopub.status.idle": "2024-07-07T17:13:34.453724Z",
     "shell.execute_reply": "2024-07-07T17:13:34.453314Z"
    },
    "lines_to_next_cell": 1,
    "papermill": {
     "duration": 0.019027,
     "end_time": "2024-07-07T17:13:34.454774",
     "exception": false,
     "start_time": "2024-07-07T17:13:34.435747",
     "status": "completed"
    },
    "tags": []
   },
   "outputs": [],
   "source": [
    "def frequencyCountGFG(arr: list[int], N: int, P: int) -> list[int]:\n",
    "    \"\"\"\n",
    "    Same idea but a diff approach: -ve values represent integers\n",
    "    Instead of backtracking, we can swap with i until we hit a freq\n",
    "    \"\"\"\n",
    "    for i in range(N):\n",
    "        while arr[i] > 0:\n",
    "            j = arr[i] - 1\n",
    "            if j >= N:\n",
    "                arr[i] = 0\n",
    "            elif arr[j] <= 0: # j < N and arr[j] <= 0 (arr[j] is a freq)\n",
    "                arr[j] -= 1\n",
    "                arr[i] = 0\n",
    "            else: # j < N and arr[j] > 0 (arr[j] is a number, we swap)\n",
    "                arr[i], arr[j] = arr[j], arr[i]\n",
    "                arr[j] = -1\n",
    "\n",
    "    for i in range(N):\n",
    "        arr[i] = abs(arr[i])\n",
    "\n",
    "    return arr\n",
    "\n",
    "assert frequencyCountGFG([2, 3, 2, 3, 5], 5, 5) == [0, 2, 2, 0, 1]\n",
    "assert frequencyCountGFG([3, 3, 3, 3], 4, 3) == [0, 0, 4, 0]\n",
    "assert frequencyCountGFG([8, 9], 2, 9)"
   ]
  },
  {
   "cell_type": "markdown",
   "id": "8fe0125c",
   "metadata": {
    "papermill": {
     "duration": 0.01195,
     "end_time": "2024-07-07T17:13:34.478831",
     "exception": false,
     "start_time": "2024-07-07T17:13:34.466881",
     "status": "completed"
    },
    "tags": []
   },
   "source": [
    "LC Medium: https://leetcode.com/problems/frequency-of-the-most-frequent-element/description/"
   ]
  },
  {
   "cell_type": "code",
   "execution_count": 54,
   "id": "ad477e2a",
   "metadata": {
    "execution": {
     "iopub.execute_input": "2024-07-07T17:13:34.503877Z",
     "iopub.status.busy": "2024-07-07T17:13:34.503505Z",
     "iopub.status.idle": "2024-07-07T17:13:34.509045Z",
     "shell.execute_reply": "2024-07-07T17:13:34.508500Z"
    },
    "lines_to_next_cell": 1,
    "papermill": {
     "duration": 0.019202,
     "end_time": "2024-07-07T17:13:34.510059",
     "exception": false,
     "start_time": "2024-07-07T17:13:34.490857",
     "status": "completed"
    },
    "tags": []
   },
   "outputs": [],
   "source": [
    "# Had to see the hint that is a sliding window problem\n",
    "# https://leetcode.com/problems/frequency-of-the-most-frequent-element/submissions/1309518869\n",
    "def maxFrequency(nums: list[int], k: int) -> int:\n",
    "    nums.sort()\n",
    "    N, max_freq, i, j, curr_max, cost = len(nums), 1, 0, 0, nums[0], 0\n",
    "    while i < N and j < N:\n",
    "        if cost <= k:\n",
    "            max_freq = max(max_freq, j - i + 1)\n",
    "            j += 1\n",
    "            if j < N:\n",
    "                cost += (nums[j] - curr_max) * (j - i)\n",
    "                curr_max = max(curr_max, nums[j])\n",
    "        else:\n",
    "            cost -= curr_max - nums[i]\n",
    "            i += 1\n",
    "\n",
    "    return max_freq\n",
    "\n",
    "# Testing the solution\n",
    "assert maxFrequency([1,1,1,1,1,1,11,11,11,12,12,12,12,12,12,12,12], 10) == 11\n",
    "assert maxFrequency([1], 10) == 1\n",
    "assert maxFrequency([3,9,6], 2) == 1\n",
    "assert maxFrequency([1,4,8,13], 5) == 2"
   ]
  },
  {
   "cell_type": "code",
   "execution_count": 55,
   "id": "226b20de",
   "metadata": {
    "execution": {
     "iopub.execute_input": "2024-07-07T17:13:34.535526Z",
     "iopub.status.busy": "2024-07-07T17:13:34.535077Z",
     "iopub.status.idle": "2024-07-07T17:13:34.540361Z",
     "shell.execute_reply": "2024-07-07T17:13:34.539915Z"
    },
    "lines_to_next_cell": 1,
    "papermill": {
     "duration": 0.019224,
     "end_time": "2024-07-07T17:13:34.541416",
     "exception": false,
     "start_time": "2024-07-07T17:13:34.522192",
     "status": "completed"
    },
    "tags": []
   },
   "outputs": [],
   "source": [
    "# https://leetcode.com/problems/frequency-of-the-most-frequent-element/submissions/1309910554/\n",
    "def maxFrequencyBetter(nums: list[int], k: int) -> int:\n",
    "    \"\"\"\n",
    "    Continue expanding if cost <= k.\n",
    "    If cost exceeds k, slide.\n",
    "    \"\"\"\n",
    "    nums.sort()\n",
    "    N, max_window, cost, curr_max = len(nums), 1, 0, nums[0]\n",
    "    i, j = 0, 1\n",
    "    while j < N:\n",
    "\n",
    "        # Continue expanding always\n",
    "        cost += (nums[j] - curr_max) * (j - i)\n",
    "        curr_max = max(curr_max, nums[j])\n",
    "        j += 1\n",
    "\n",
    "        if cost <= k:\n",
    "            max_window = max(max_window, j - i)\n",
    "        else: # Shrink window\n",
    "            cost -= curr_max - nums[i]\n",
    "            i += 1\n",
    "\n",
    "    return max_window\n",
    "\n",
    "# Testing the solution\n",
    "assert maxFrequencyBetter([1,1,1,1,1,1,11,11,11,12,12,12,12,12,12,12,12], 10) == 11\n",
    "assert maxFrequencyBetter([1], 10) == 1\n",
    "assert maxFrequencyBetter([3,9,6], 2) == 1\n",
    "assert maxFrequencyBetter([1,4,8,13], 5) == 2"
   ]
  },
  {
   "cell_type": "markdown",
   "id": "709133f7",
   "metadata": {
    "papermill": {
     "duration": 0.012005,
     "end_time": "2024-07-07T17:13:34.565491",
     "exception": false,
     "start_time": "2024-07-07T17:13:34.553486",
     "status": "completed"
    },
    "tags": []
   },
   "source": [
    "Sorting - 1"
   ]
  },
  {
   "cell_type": "code",
   "execution_count": 56,
   "id": "5f48c157",
   "metadata": {
    "execution": {
     "iopub.execute_input": "2024-07-07T17:13:34.590628Z",
     "iopub.status.busy": "2024-07-07T17:13:34.590252Z",
     "iopub.status.idle": "2024-07-07T17:13:34.594474Z",
     "shell.execute_reply": "2024-07-07T17:13:34.594020Z"
    },
    "lines_to_next_cell": 1,
    "papermill": {
     "duration": 0.018063,
     "end_time": "2024-07-07T17:13:34.595580",
     "exception": false,
     "start_time": "2024-07-07T17:13:34.577517",
     "status": "completed"
    },
    "tags": []
   },
   "outputs": [],
   "source": [
    "def ssort(nums: list[int]) -> list[int]:\n",
    "    \"\"\"\n",
    "    Find the minimum and put it at the right place. Repeat for each index\n",
    "    \"\"\"\n",
    "    N = len(nums)\n",
    "    for i in range(N - 1):\n",
    "        min_idx = i\n",
    "        for j in range(i, N):\n",
    "            if nums[j] < nums[min_idx]:\n",
    "                min_idx = j\n",
    "        nums[i], nums[min_idx] = nums[min_idx], nums[i]\n",
    "\n",
    "    return nums\n",
    "\n",
    "# Testing the solution\n",
    "assert ssort([2,3,1,2,3,4]) == [1,2,2,3,3,4]"
   ]
  },
  {
   "cell_type": "code",
   "execution_count": 57,
   "id": "ca02da2e",
   "metadata": {
    "execution": {
     "iopub.execute_input": "2024-07-07T17:13:34.621204Z",
     "iopub.status.busy": "2024-07-07T17:13:34.620759Z",
     "iopub.status.idle": "2024-07-07T17:13:34.625570Z",
     "shell.execute_reply": "2024-07-07T17:13:34.625087Z"
    },
    "lines_to_next_cell": 1,
    "papermill": {
     "duration": 0.018708,
     "end_time": "2024-07-07T17:13:34.626681",
     "exception": false,
     "start_time": "2024-07-07T17:13:34.607973",
     "status": "completed"
    },
    "tags": []
   },
   "outputs": [],
   "source": [
    "def bsort(nums: list[int]) -> list[int]:\n",
    "    \"\"\"\n",
    "    Compares adjacent elements and places greatest element at the last of the window\n",
    "    Best: O (N), Worst / Avg: O(N ^ 2)\n",
    "    \"\"\"\n",
    "    N = len(nums)\n",
    "    for i in range(N):\n",
    "        swapped: bool = False\n",
    "        for j in range(N - i - 1):\n",
    "            if nums[j] > nums[j + 1]:\n",
    "                nums[j], nums[j + 1] = nums[j + 1], nums[j]\n",
    "                swapped = True\n",
    "\n",
    "        if not swapped:\n",
    "            break\n",
    "\n",
    "    return nums\n",
    "\n",
    "# Testing the solution\n",
    "assert bsort([2,3,1,2,3,4]) == [1,2,2,3,3,4]\n",
    "assert bsort([1,2,3,4,5]) == [1,2,3,4,5]"
   ]
  },
  {
   "cell_type": "code",
   "execution_count": 58,
   "id": "6c55c24f",
   "metadata": {
    "execution": {
     "iopub.execute_input": "2024-07-07T17:13:34.652711Z",
     "iopub.status.busy": "2024-07-07T17:13:34.652205Z",
     "iopub.status.idle": "2024-07-07T17:13:34.656896Z",
     "shell.execute_reply": "2024-07-07T17:13:34.656339Z"
    },
    "lines_to_next_cell": 1,
    "papermill": {
     "duration": 0.018801,
     "end_time": "2024-07-07T17:13:34.658003",
     "exception": false,
     "start_time": "2024-07-07T17:13:34.639202",
     "status": "completed"
    },
    "tags": []
   },
   "outputs": [],
   "source": [
    "def isort(nums: list[int]) -> list[int]:\n",
    "    \"\"\"\n",
    "    Avg, Worst: O (N ^ 2), Best: O(N)\n",
    "    For each element, make sure it is inserted correctly\n",
    "    \"\"\"\n",
    "    N = len(nums)\n",
    "    for i in range(N):\n",
    "        j = i\n",
    "        while j > 0 and nums[j] < nums[j - 1]:\n",
    "            nums[j], nums[j - 1] = nums[j - 1], nums[j]\n",
    "            j -= 1\n",
    "    return nums\n",
    "\n",
    "# Testing the solution\n",
    "assert isort([2,3,1,2,3,4]) == [1,2,2,3,3,4]\n",
    "assert isort([1,2,3,4,5]) == [1,2,3,4,5]"
   ]
  },
  {
   "cell_type": "code",
   "execution_count": 59,
   "id": "b83bbe39",
   "metadata": {
    "execution": {
     "iopub.execute_input": "2024-07-07T17:13:34.683750Z",
     "iopub.status.busy": "2024-07-07T17:13:34.683263Z",
     "iopub.status.idle": "2024-07-07T17:13:34.687751Z",
     "shell.execute_reply": "2024-07-07T17:13:34.687302Z"
    },
    "lines_to_next_cell": 1,
    "papermill": {
     "duration": 0.018393,
     "end_time": "2024-07-07T17:13:34.688770",
     "exception": false,
     "start_time": "2024-07-07T17:13:34.670377",
     "status": "completed"
    },
    "tags": []
   },
   "outputs": [],
   "source": [
    "def isort2(nums: list[int]) -> list[int]:\n",
    "    \"\"\"\n",
    "    Avg, Worst: O (N ^ 2), Best: O(N)\n",
    "    For each element, make sure it is inserted correctly\n",
    "    \"\"\"\n",
    "    N = len(nums)\n",
    "    for i in range(1, N):\n",
    "        curr, j = nums[i], i - 1\n",
    "        while j >= 0 and nums[j] > curr:\n",
    "            nums[j + 1] = nums[j]\n",
    "            j -= 1\n",
    "        nums[j + 1] = curr\n",
    "\n",
    "    return nums\n",
    "\n",
    "# Testing the solution\n",
    "assert isort2([2,3,1,2,3,4]) == [1,2,2,3,3,4]\n",
    "assert isort2([1,2,3,4,5]) == [1,2,3,4,5]"
   ]
  },
  {
   "cell_type": "markdown",
   "id": "06a9c2c1",
   "metadata": {
    "papermill": {
     "duration": 0.011935,
     "end_time": "2024-07-07T17:13:34.712919",
     "exception": false,
     "start_time": "2024-07-07T17:13:34.700984",
     "status": "completed"
    },
    "tags": []
   },
   "source": [
    "Code Gladiators Semi Final"
   ]
  },
  {
   "cell_type": "code",
   "execution_count": 60,
   "id": "fcda3819",
   "metadata": {
    "execution": {
     "iopub.execute_input": "2024-07-07T17:13:34.738595Z",
     "iopub.status.busy": "2024-07-07T17:13:34.738301Z",
     "iopub.status.idle": "2024-07-07T17:13:34.745030Z",
     "shell.execute_reply": "2024-07-07T17:13:34.744465Z"
    },
    "lines_to_next_cell": 1,
    "papermill": {
     "duration": 0.021047,
     "end_time": "2024-07-07T17:13:34.746170",
     "exception": false,
     "start_time": "2024-07-07T17:13:34.725123",
     "status": "completed"
    },
    "tags": []
   },
   "outputs": [],
   "source": [
    "# Q1\n",
    "def max_rides_q1(arr1: list[int], N1: int, arr2: list[int], N2: int, money: int) -> int:\n",
    "    i = j = rides = 0\n",
    "    while i < N1 or j < N2:\n",
    "        if i < N1 and arr1[i] <= money and (j >= N2 or arr1[i] <= arr2[j]):\n",
    "            rides, i, money = rides + 1, i + 1, money - arr1[i]\n",
    "        elif j < N2 and arr2[j] <= money and (i >= N1 or arr1[i] > arr2[j]):\n",
    "            rides, j, money = rides + 1, j + 1, money - arr2[j]\n",
    "        else:\n",
    "            break\n",
    "\n",
    "    return rides\n",
    "\n",
    "# Testing the solution\n",
    "assert max_rides_q1([5,3,6,8,10,20], 6, [4,4,4,6,7,10,4,8], 8, 20) == 5\n",
    "assert max_rides_q1([10,20,30,40], 4, [5,3,9,10,2,3,6,9,15], 9, 60) == 9"
   ]
  },
  {
   "cell_type": "markdown",
   "id": "ddd2b276",
   "metadata": {
    "papermill": {
     "duration": 0.012051,
     "end_time": "2024-07-07T17:13:34.770495",
     "exception": false,
     "start_time": "2024-07-07T17:13:34.758444",
     "status": "completed"
    },
    "tags": []
   },
   "source": [
    "Merge sort"
   ]
  },
  {
   "cell_type": "code",
   "execution_count": 61,
   "id": "9bae07ec",
   "metadata": {
    "execution": {
     "iopub.execute_input": "2024-07-07T17:13:34.795900Z",
     "iopub.status.busy": "2024-07-07T17:13:34.795404Z",
     "iopub.status.idle": "2024-07-07T17:13:34.801123Z",
     "shell.execute_reply": "2024-07-07T17:13:34.800641Z"
    },
    "lines_to_next_cell": 1,
    "papermill": {
     "duration": 0.01968,
     "end_time": "2024-07-07T17:13:34.802205",
     "exception": false,
     "start_time": "2024-07-07T17:13:34.782525",
     "status": "completed"
    },
    "tags": []
   },
   "outputs": [],
   "source": [
    "def msort(arr: list[int]) -> list[int]:\n",
    "    \"\"\"\n",
    "    Divide and merge\n",
    "    Best, Avg, Worst: O(n log n)\n",
    "    \"\"\"\n",
    "    def merge(arr1: list[int], arr2: list[int]) -> list[int]:\n",
    "        N1, N2, i, j = len(arr1), len(arr2), 0, 0\n",
    "        result: list[int] = []\n",
    "        while i < N1 or j < N2:\n",
    "            if j >= N2 or (i < N1 and arr1[i] <= arr2[j]):\n",
    "                result.append(arr1[i])\n",
    "                i += 1\n",
    "            else:\n",
    "                result.append(arr2[j])\n",
    "                j += 1\n",
    "\n",
    "        return result\n",
    "\n",
    "    N = len(arr)\n",
    "    if N == 1:\n",
    "        return arr\n",
    "    else:\n",
    "        mid = N // 2\n",
    "        left = msort(arr[:mid])\n",
    "        right = msort(arr[mid:])\n",
    "        return merge(left, right)\n",
    "\n",
    "# Testing the solution\n",
    "assert msort([5,4,3,2,1]) == [1,2,3,4,5]\n",
    "assert msort([2,1]) == [1,2]\n",
    "assert msort([1]) == [1]"
   ]
  },
  {
   "cell_type": "code",
   "execution_count": 62,
   "id": "64ad8a6d",
   "metadata": {
    "execution": {
     "iopub.execute_input": "2024-07-07T17:13:34.827249Z",
     "iopub.status.busy": "2024-07-07T17:13:34.827031Z",
     "iopub.status.idle": "2024-07-07T17:13:34.834696Z",
     "shell.execute_reply": "2024-07-07T17:13:34.834246Z"
    },
    "lines_to_next_cell": 1,
    "papermill": {
     "duration": 0.021426,
     "end_time": "2024-07-07T17:13:34.835774",
     "exception": false,
     "start_time": "2024-07-07T17:13:34.814348",
     "status": "completed"
    },
    "tags": []
   },
   "outputs": [],
   "source": [
    "def msortBetter(arr: list[int]) -> list[int]:\n",
    "    def backtrack(left: int, right: int) -> None:\n",
    "        if right - left <= 1:\n",
    "            return\n",
    "        else:\n",
    "            mid = (left + right) // 2\n",
    "            backtrack(left, mid)\n",
    "            backtrack(mid, right)\n",
    "\n",
    "            temp: list[int] = []\n",
    "            i, j = left, mid\n",
    "            while i < mid or j < right:\n",
    "                if j >= right or (i < mid and arr[i] <= arr[j]):\n",
    "                    temp.append(arr[i])\n",
    "                    i += 1\n",
    "                else:\n",
    "                    temp.append(arr[j])\n",
    "                    j += 1\n",
    "\n",
    "            for idx in range(left, right):\n",
    "                arr[idx] = temp[idx - left]\n",
    "\n",
    "    N = len(arr)\n",
    "    backtrack(0, N)\n",
    "    return arr\n",
    "\n",
    "# Testing the solution\n",
    "for _ in range(50):\n",
    "    arr = np.random.randint(0, 50, random.randint(1, 51)).tolist()\n",
    "    msortBetter(arr)\n",
    "    assert arr == sorted(arr)"
   ]
  },
  {
   "cell_type": "markdown",
   "id": "d01399f4",
   "metadata": {
    "papermill": {
     "duration": 0.012111,
     "end_time": "2024-07-07T17:13:34.860221",
     "exception": false,
     "start_time": "2024-07-07T17:13:34.848110",
     "status": "completed"
    },
    "tags": []
   },
   "source": [
    "Quick Sort"
   ]
  },
  {
   "cell_type": "code",
   "execution_count": 63,
   "id": "2b24de28",
   "metadata": {
    "execution": {
     "iopub.execute_input": "2024-07-07T17:13:34.885783Z",
     "iopub.status.busy": "2024-07-07T17:13:34.885278Z",
     "iopub.status.idle": "2024-07-07T17:13:34.891751Z",
     "shell.execute_reply": "2024-07-07T17:13:34.891321Z"
    },
    "lines_to_next_cell": 1,
    "papermill": {
     "duration": 0.020509,
     "end_time": "2024-07-07T17:13:34.892840",
     "exception": false,
     "start_time": "2024-07-07T17:13:34.872331",
     "status": "completed"
    },
    "tags": []
   },
   "outputs": [],
   "source": [
    "def qsort(arr: list[int]) -> list[int]:\n",
    "    \"\"\"\n",
    "    Pick a pivot and place it at its correct position - smaller elements to the left, larger elements to the right of pivot\n",
    "    Sort left & right halves recusively\n",
    "    \"\"\"\n",
    "    N = len(arr)\n",
    "    if N <= 1:\n",
    "        return arr\n",
    "    else:\n",
    "        left, right, pivot = [], [], 0\n",
    "        for i in range(N):\n",
    "            if i != pivot:\n",
    "                if arr[i] <= arr[pivot]:\n",
    "                    left.append(arr[i])\n",
    "                else:\n",
    "                    right.append(arr[i])\n",
    "\n",
    "        return qsort(left) + [arr[pivot]] + qsort(right)\n",
    "\n",
    "# Testing the solution\n",
    "for _ in range(50):\n",
    "    arr = np.random.randint(0, 50, random.randint(1, 51)).tolist()\n",
    "    assert qsort(arr) == sorted(arr)"
   ]
  },
  {
   "cell_type": "code",
   "execution_count": 64,
   "id": "e5849396",
   "metadata": {
    "execution": {
     "iopub.execute_input": "2024-07-07T17:13:34.918061Z",
     "iopub.status.busy": "2024-07-07T17:13:34.917773Z",
     "iopub.status.idle": "2024-07-07T17:13:34.925230Z",
     "shell.execute_reply": "2024-07-07T17:13:34.924679Z"
    },
    "lines_to_next_cell": 1,
    "papermill": {
     "duration": 0.021383,
     "end_time": "2024-07-07T17:13:34.926379",
     "exception": false,
     "start_time": "2024-07-07T17:13:34.904996",
     "status": "completed"
    },
    "tags": []
   },
   "outputs": [],
   "source": [
    "def qsortBetter(arr: list[int]) -> list[int]:\n",
    "    def partition(left: int, right: int, pivot: int) -> int:\n",
    "        \"\"\"\n",
    "        Place two pointers, i = left, j = right\n",
    "        Iterate i forward until we hit a number greater than arr[pivot]\n",
    "        Iterate j backward until we hit a number lesser than or equal to arr[pivot]\n",
    "        if i < j:\n",
    "            Swap arr[i], arr[j]\n",
    "        else:\n",
    "            swap arr[pivot], arr[j]\n",
    "            return j\n",
    "        \"\"\"\n",
    "        i, j = left, right\n",
    "        while i < j:\n",
    "            while i < right and arr[i] <= arr[pivot]:\n",
    "                i += 1\n",
    "            while j > left and arr[j] > arr[pivot]:\n",
    "                j -= 1\n",
    "            if i < j:\n",
    "                arr[i], arr[j] = arr[j], arr[i]\n",
    "\n",
    "        arr[pivot], arr[j] = arr[j], arr[pivot]\n",
    "        return j\n",
    "\n",
    "    def backtrack(left: int, right: int) -> None:\n",
    "        if left < right:\n",
    "            pivot = partition(left, right, left)\n",
    "            backtrack(left, pivot - 1)\n",
    "            backtrack(pivot + 1, right)\n",
    "\n",
    "    N = len(arr)\n",
    "    backtrack(0, N - 1)\n",
    "    return arr\n",
    "\n",
    "# Testing the solution\n",
    "for _ in range(50):\n",
    "    arr = np.random.randint(0, 50, random.randint(1, 51)).tolist()\n",
    "    qsortBetter(arr)\n",
    "    assert arr == sorted(arr)"
   ]
  },
  {
   "cell_type": "markdown",
   "id": "7d24ea52",
   "metadata": {
    "papermill": {
     "duration": 0.011928,
     "end_time": "2024-07-07T17:13:34.950595",
     "exception": false,
     "start_time": "2024-07-07T17:13:34.938667",
     "status": "completed"
    },
    "tags": []
   },
   "source": [
    "LC POTD"
   ]
  },
  {
   "cell_type": "code",
   "execution_count": 65,
   "id": "c8d69999",
   "metadata": {
    "execution": {
     "iopub.execute_input": "2024-07-07T17:13:34.975701Z",
     "iopub.status.busy": "2024-07-07T17:13:34.975383Z",
     "iopub.status.idle": "2024-07-07T17:13:34.979063Z",
     "shell.execute_reply": "2024-07-07T17:13:34.978556Z"
    },
    "lines_to_next_cell": 1,
    "papermill": {
     "duration": 0.017433,
     "end_time": "2024-07-07T17:13:34.980124",
     "exception": false,
     "start_time": "2024-07-07T17:13:34.962691",
     "status": "completed"
    },
    "tags": []
   },
   "outputs": [],
   "source": [
    "# https://leetcode.com/problems/pass-the-pillow/submissions/1311515636\n",
    "def passThePillow(n: int, time: int) -> int:\n",
    "    atFirst = (time // (n - 1)) % 2 == 0\n",
    "    position = time % (n - 1)\n",
    "    return position + 1 if atFirst else n - position\n",
    "\n",
    "# Testing the solution\n",
    "assert passThePillow(4, 5) == 2\n",
    "assert passThePillow(3, 2) == 3\n",
    "assert passThePillow(6, 5) == 6"
   ]
  },
  {
   "cell_type": "code",
   "execution_count": 66,
   "id": "be0a407e",
   "metadata": {
    "execution": {
     "iopub.execute_input": "2024-07-07T17:13:35.005362Z",
     "iopub.status.busy": "2024-07-07T17:13:35.004992Z",
     "iopub.status.idle": "2024-07-07T17:13:35.010327Z",
     "shell.execute_reply": "2024-07-07T17:13:35.009912Z"
    },
    "lines_to_next_cell": 1,
    "papermill": {
     "duration": 0.019045,
     "end_time": "2024-07-07T17:13:35.011370",
     "exception": false,
     "start_time": "2024-07-07T17:13:34.992325",
     "status": "completed"
    },
    "tags": []
   },
   "outputs": [],
   "source": [
    "def intersect(nums1: list[int], nums2: list[int]) -> list[int]:\n",
    "    \"\"\"\n",
    "    Taking this approach since in one of the follow ups, its mentioned that the array is sorted\n",
    "    \"\"\"\n",
    "    # Sort both the arrays\n",
    "    nums1.sort()\n",
    "    nums2.sort()\n",
    "\n",
    "    N1, N2, i, j = len(nums1), len(nums2), 0, 0\n",
    "    intersection: list[int] = []\n",
    "    while i < N1 and j < N2:\n",
    "        if nums1[i] < nums2[j]:\n",
    "            i += 1\n",
    "        elif nums1[i] > nums2[j]:\n",
    "            j += 1\n",
    "        else:\n",
    "            intersection.append(nums1[i])\n",
    "            i, j = i + 1, j + 1\n",
    "\n",
    "    return intersection\n",
    "\n",
    "# Testing the solution\n",
    "assert intersect([1,2,2,1], [2,2]) == [2,2]\n",
    "assert intersect([4,9,5], [9,4,9,8,4]) == [4,9]\n",
    "assert intersect([4,9,5,4], [9,4,9,8,4]) == [4,4,9]"
   ]
  },
  {
   "cell_type": "markdown",
   "id": "c9ce06ce",
   "metadata": {
    "papermill": {
     "duration": 0.012049,
     "end_time": "2024-07-07T17:13:35.035673",
     "exception": false,
     "start_time": "2024-07-07T17:13:35.023624",
     "status": "completed"
    },
    "tags": []
   },
   "source": [
    "Codeforces Practice"
   ]
  },
  {
   "cell_type": "code",
   "execution_count": 67,
   "id": "fd52ba67",
   "metadata": {
    "execution": {
     "iopub.execute_input": "2024-07-07T17:13:35.060911Z",
     "iopub.status.busy": "2024-07-07T17:13:35.060466Z",
     "iopub.status.idle": "2024-07-07T17:13:35.064356Z",
     "shell.execute_reply": "2024-07-07T17:13:35.063805Z"
    },
    "lines_to_next_cell": 1,
    "papermill": {
     "duration": 0.017834,
     "end_time": "2024-07-07T17:13:35.065481",
     "exception": false,
     "start_time": "2024-07-07T17:13:35.047647",
     "status": "completed"
    },
    "tags": []
   },
   "outputs": [],
   "source": [
    "# Drinks 800\n",
    "def drinks(proportions: list[int], n_drinks: int) -> float:\n",
    "    return (sum(proportions) * 100) / (100 * n_drinks)\n",
    "\n",
    "# Testing the solution\n",
    "assert round(drinks([50,50,100], 3), 2) == 66.67\n",
    "assert round(drinks([0,25,50,75], 4), 2) == 37.5"
   ]
  },
  {
   "cell_type": "code",
   "execution_count": 68,
   "id": "b793f455",
   "metadata": {
    "execution": {
     "iopub.execute_input": "2024-07-07T17:13:35.090985Z",
     "iopub.status.busy": "2024-07-07T17:13:35.090552Z",
     "iopub.status.idle": "2024-07-07T17:13:35.095088Z",
     "shell.execute_reply": "2024-07-07T17:13:35.094647Z"
    },
    "lines_to_next_cell": 1,
    "papermill": {
     "duration": 0.01836,
     "end_time": "2024-07-07T17:13:35.096158",
     "exception": false,
     "start_time": "2024-07-07T17:13:35.077798",
     "status": "completed"
    },
    "tags": []
   },
   "outputs": [],
   "source": [
    "# Substring and subsequence - 1200 \n",
    "def substr_subsequence(text1: str, text2: str) -> int:\n",
    "    N1, N2 = len(text1), len(text2)\n",
    "    ans: int = N1 + N2\n",
    "    for k in range(N2):\n",
    "        i, j = 0, k\n",
    "        while i < N1 and j < N2:\n",
    "            if text1[i] == text2[j]:\n",
    "                j += 1\n",
    "            i += 1\n",
    "        ans = min(ans, N1 + N2 - (j - k))\n",
    "\n",
    "    return ans\n",
    "\n",
    "# Testing the solution\n",
    "assert substr_subsequence(\"aba\", \"cb\") == 4\n",
    "assert substr_subsequence(\"contest\", \"test\") == 7\n",
    "assert substr_subsequence(\"cde\", \"abcefg\") == 7\n",
    "assert substr_subsequence(\"cdaa\", \"cdca\") == 6"
   ]
  },
  {
   "cell_type": "markdown",
   "id": "b864bd53",
   "metadata": {
    "papermill": {
     "duration": 0.012075,
     "end_time": "2024-07-07T17:13:35.120691",
     "exception": false,
     "start_time": "2024-07-07T17:13:35.108616",
     "status": "completed"
    },
    "tags": []
   },
   "source": [
    "LC Biweekly - 6th July, started at 9 PM IST"
   ]
  },
  {
   "cell_type": "code",
   "execution_count": 69,
   "id": "2dd8e45d",
   "metadata": {
    "execution": {
     "iopub.execute_input": "2024-07-07T17:13:35.146371Z",
     "iopub.status.busy": "2024-07-07T17:13:35.145873Z",
     "iopub.status.idle": "2024-07-07T17:13:35.149967Z",
     "shell.execute_reply": "2024-07-07T17:13:35.149451Z"
    },
    "lines_to_next_cell": 1,
    "papermill": {
     "duration": 0.018248,
     "end_time": "2024-07-07T17:13:35.151075",
     "exception": false,
     "start_time": "2024-07-07T17:13:35.132827",
     "status": "completed"
    },
    "tags": []
   },
   "outputs": [],
   "source": [
    "# Q1\n",
    "def numberOfAlternatingGroups(colors: list[int]) -> int:\n",
    "    N = len(colors)\n",
    "    colors += colors[:2]\n",
    "    groups = 0\n",
    "    for i in range(N):\n",
    "        if colors[i + 2] == colors[i] and colors[i] != colors[i + 1]:\n",
    "            groups += 1\n",
    "    return groups\n",
    "\n",
    "# Testing the solution\n",
    "assert numberOfAlternatingGroups([0,1,0,0,1]) == 3\n",
    "assert numberOfAlternatingGroups([1,1,0]) == 1"
   ]
  },
  {
   "cell_type": "code",
   "execution_count": 70,
   "id": "7701afcb",
   "metadata": {
    "execution": {
     "iopub.execute_input": "2024-07-07T17:13:35.176840Z",
     "iopub.status.busy": "2024-07-07T17:13:35.176318Z",
     "iopub.status.idle": "2024-07-07T17:13:35.180855Z",
     "shell.execute_reply": "2024-07-07T17:13:35.180377Z"
    },
    "lines_to_next_cell": 1,
    "papermill": {
     "duration": 0.018583,
     "end_time": "2024-07-07T17:13:35.181962",
     "exception": false,
     "start_time": "2024-07-07T17:13:35.163379",
     "status": "completed"
    },
    "tags": []
   },
   "outputs": [],
   "source": [
    "# Q2\n",
    "def maximumPoints(enemyEnergies: list[int], currentEnergy: int) -> int:\n",
    "    \"\"\"\n",
    "    Sort by enemy energies.\n",
    "    We can only consume energy once from an enemy - we do this from the most 'expensive' enemy\n",
    "    We continue gaining points from the weaker guy\n",
    "    \"\"\"\n",
    "\n",
    "    enemyEnergies.sort()\n",
    "    N = len(enemyEnergies)\n",
    "    points = 0\n",
    "    while enemyEnergies:\n",
    "        if enemyEnergies[0] <= currentEnergy:\n",
    "            currentEnergy, points = currentEnergy % enemyEnergies[0], points + (currentEnergy // enemyEnergies[0])\n",
    "        elif points > 0:\n",
    "            currentEnergy += enemyEnergies.pop()\n",
    "        else:\n",
    "            break\n",
    "\n",
    "    return points\n",
    "\n",
    "# Testing the solution\n",
    "assert maximumPoints([3,2,2], 2) == 3\n",
    "assert maximumPoints([2], 10) == 5\n",
    "assert maximumPoints([2], 1) == 0"
   ]
  },
  {
   "cell_type": "markdown",
   "id": "d7002f9b",
   "metadata": {
    "papermill": {
     "duration": 0.012074,
     "end_time": "2024-07-07T17:13:35.206354",
     "exception": false,
     "start_time": "2024-07-07T17:13:35.194280",
     "status": "completed"
    },
    "tags": []
   },
   "source": [
    "Upsolving Q3"
   ]
  },
  {
   "cell_type": "code",
   "execution_count": 71,
   "id": "3ac42c70",
   "metadata": {
    "execution": {
     "iopub.execute_input": "2024-07-07T17:13:35.231987Z",
     "iopub.status.busy": "2024-07-07T17:13:35.231570Z",
     "iopub.status.idle": "2024-07-07T17:13:35.236481Z",
     "shell.execute_reply": "2024-07-07T17:13:35.236044Z"
    },
    "lines_to_next_cell": 1,
    "papermill": {
     "duration": 0.019085,
     "end_time": "2024-07-07T17:13:35.237588",
     "exception": false,
     "start_time": "2024-07-07T17:13:35.218503",
     "status": "completed"
    },
    "tags": []
   },
   "outputs": [],
   "source": [
    "# Q3\n",
    "# https://leetcode.com/problems/alternating-groups-ii/submissions/1311884953\n",
    "def numberOfAlternatingGroupsII(colors: list[int], k: int) -> int:\n",
    "    colors += colors[:k - 1]\n",
    "    N = len(colors)\n",
    "    i, j, prev, groups = 0, 0, int(not colors[0]), 0\n",
    "    while j < N:\n",
    "        if colors[j] != prev:\n",
    "            prev = int(colors[j])\n",
    "        else:\n",
    "            i = j\n",
    "        if j - i + 1 >= k:\n",
    "            groups += 1\n",
    "\n",
    "        j += 1\n",
    "\n",
    "    return groups\n",
    "\n",
    "# Testing the solution\n",
    "assert numberOfAlternatingGroupsII([0,1,0,0,1,0,1], 6) == 2\n",
    "assert numberOfAlternatingGroupsII([1,1,0,1], 4) == 0\n",
    "assert numberOfAlternatingGroupsII([0,1,0,1,0], 3) == 3"
   ]
  },
  {
   "cell_type": "markdown",
   "id": "f5496f5f",
   "metadata": {
    "papermill": {
     "duration": 0.011927,
     "end_time": "2024-07-07T17:13:35.261640",
     "exception": false,
     "start_time": "2024-07-07T17:13:35.249713",
     "status": "completed"
    },
    "tags": []
   },
   "source": [
    "Codeforces practice"
   ]
  },
  {
   "cell_type": "code",
   "execution_count": 72,
   "id": "e199a57c",
   "metadata": {
    "execution": {
     "iopub.execute_input": "2024-07-07T17:13:35.286753Z",
     "iopub.status.busy": "2024-07-07T17:13:35.286253Z",
     "iopub.status.idle": "2024-07-07T17:13:35.290769Z",
     "shell.execute_reply": "2024-07-07T17:13:35.290320Z"
    },
    "lines_to_next_cell": 1,
    "papermill": {
     "duration": 0.018253,
     "end_time": "2024-07-07T17:13:35.291870",
     "exception": false,
     "start_time": "2024-07-07T17:13:35.273617",
     "status": "completed"
    },
    "tags": []
   },
   "outputs": [],
   "source": [
    "def chewbacca(N: int) -> int:\n",
    "    # Invert and add to stack\n",
    "    stack: list[int] = []\n",
    "    while N > 0:\n",
    "        digit, N = N % 10, N // 10\n",
    "        stack.append(digit if digit < 5 or (digit == 9 and N == 0) else 9 - digit)\n",
    "\n",
    "    # Pop and accumulate to result\n",
    "    result: int = 0\n",
    "    while stack:\n",
    "        result = (result * 10) + stack.pop()\n",
    "\n",
    "    return result\n",
    "\n",
    "# Testing the solution\n",
    "assert chewbacca(4545) == 4444\n",
    "assert chewbacca(27) == 22\n",
    "assert chewbacca(9) == 9\n",
    "assert chewbacca(919) == 910"
   ]
  },
  {
   "cell_type": "markdown",
   "id": "72c3c5e5",
   "metadata": {
    "papermill": {
     "duration": 0.012216,
     "end_time": "2024-07-07T17:13:35.316344",
     "exception": false,
     "start_time": "2024-07-07T17:13:35.304128",
     "status": "completed"
    },
    "tags": []
   },
   "source": [
    "LC Weekly - 7th July 2024"
   ]
  },
  {
   "cell_type": "code",
   "execution_count": 73,
   "id": "5e6cb793",
   "metadata": {
    "execution": {
     "iopub.execute_input": "2024-07-07T17:13:35.342068Z",
     "iopub.status.busy": "2024-07-07T17:13:35.341592Z",
     "iopub.status.idle": "2024-07-07T17:13:35.345463Z",
     "shell.execute_reply": "2024-07-07T17:13:35.344989Z"
    },
    "lines_to_next_cell": 1,
    "papermill": {
     "duration": 0.018132,
     "end_time": "2024-07-07T17:13:35.346587",
     "exception": false,
     "start_time": "2024-07-07T17:13:35.328455",
     "status": "completed"
    },
    "tags": []
   },
   "outputs": [],
   "source": [
    "# Q1\n",
    "def getEncryptedString(s: str, k: int) -> str:\n",
    "    N = len(s)\n",
    "    result: list[str] = []\n",
    "    for i in range(N):\n",
    "        result.append(s[(i + k) % N])\n",
    "    return ''.join(result)\n",
    "\n",
    "# Testing the solution\n",
    "assert getEncryptedString(\"dart\", 3) == \"tdar\"\n",
    "assert getEncryptedString(\"aaa\", 1) == \"aaa\""
   ]
  },
  {
   "cell_type": "code",
   "execution_count": 74,
   "id": "95ed49ab",
   "metadata": {
    "execution": {
     "iopub.execute_input": "2024-07-07T17:13:35.371693Z",
     "iopub.status.busy": "2024-07-07T17:13:35.371490Z",
     "iopub.status.idle": "2024-07-07T17:13:35.375808Z",
     "shell.execute_reply": "2024-07-07T17:13:35.375373Z"
    },
    "lines_to_next_cell": 1,
    "papermill": {
     "duration": 0.018036,
     "end_time": "2024-07-07T17:13:35.376858",
     "exception": false,
     "start_time": "2024-07-07T17:13:35.358822",
     "status": "completed"
    },
    "tags": []
   },
   "outputs": [],
   "source": [
    "# Q2\n",
    "def validStrings(N: int) -> set[str]:\n",
    "    def backtrack(acc: list[str]) -> None:\n",
    "        if len(acc) == N:\n",
    "            result.add(''.join(acc))\n",
    "        else:\n",
    "            if not acc or acc[-1] == '1':\n",
    "                acc.append('0')\n",
    "                backtrack(acc)\n",
    "                acc.pop()\n",
    "            acc.append('1')\n",
    "            backtrack(acc)\n",
    "            acc.pop()\n",
    "\n",
    "    result: set[str] = set()\n",
    "    backtrack([])\n",
    "    return result\n",
    "\n",
    "# Testing the solution\n",
    "assert sorted(validStrings(3)) == ['010', '011', '101', '110', '111']"
   ]
  },
  {
   "cell_type": "code",
   "execution_count": 75,
   "id": "5064877b",
   "metadata": {
    "execution": {
     "iopub.execute_input": "2024-07-07T17:13:35.402083Z",
     "iopub.status.busy": "2024-07-07T17:13:35.401739Z",
     "iopub.status.idle": "2024-07-07T17:13:35.410301Z",
     "shell.execute_reply": "2024-07-07T17:13:35.409767Z"
    },
    "lines_to_next_cell": 1,
    "papermill": {
     "duration": 0.022369,
     "end_time": "2024-07-07T17:13:35.411353",
     "exception": false,
     "start_time": "2024-07-07T17:13:35.388984",
     "status": "completed"
    },
    "tags": []
   },
   "outputs": [],
   "source": [
    "# Q4\n",
    "def minimumCost(target: str, words: list[str], costs: list[int]) -> int:\n",
    "    match_cache: dict[tuple[int, int], str] = dict()\n",
    "    def match(i_: int, s_length: int, s: str) -> bool:\n",
    "        if (i_, s_length) in match_cache:\n",
    "            return s == match_cache[(i_, s_length)]\n",
    "        elif i_ + s_length > target_length:\n",
    "            return False\n",
    "        else:\n",
    "            i = i_\n",
    "            for j in range(s_length):\n",
    "                if i < target_length and s[j] == target[i]:\n",
    "                    i += 1\n",
    "                else:\n",
    "                    return False\n",
    "\n",
    "            match_cache[(i_, s_length)] = s\n",
    "            return True\n",
    "\n",
    "    @functools.cache\n",
    "    def backtrack(i: int) -> float:\n",
    "        if i == target_length:\n",
    "            return 0\n",
    "        else:\n",
    "            min_cost: float = math.inf\n",
    "            for cost, candidate in starts_with[target[i]]:\n",
    "                candidate_length = len(candidate)\n",
    "                if match(i, candidate_length, candidate):\n",
    "                    min_cost = min(min_cost, cost + backtrack(i + candidate_length))\n",
    "            return min_cost\n",
    "\n",
    "    N_words = len(words)\n",
    "    target_length = len(target)\n",
    "\n",
    "    # Remove duplicates\n",
    "    unique: collections.defaultdict[str, float] = collections.defaultdict(lambda: math.inf)\n",
    "    for i in range(N_words):\n",
    "        unique[words[i]] = min(unique[words[i]], costs[i])\n",
    "\n",
    "    # Store the first character as a key\n",
    "    starts_with: collections.defaultdict[str, list[tuple[float, str]]] = collections.defaultdict(list)\n",
    "    for word, cost in unique.items():\n",
    "        starts_with[word[0]].append((cost, word))\n",
    "\n",
    "    # Sort by minimum cost\n",
    "    for k in starts_with:\n",
    "        starts_with[k].sort()\n",
    "\n",
    "    # Backtrack and find the minimum cost\n",
    "    min_cost = backtrack(0)\n",
    "    return int(min_cost) if not math.isinf(min_cost) else -1\n",
    "\n",
    "# Testing the solution\n",
    "assert minimumCost(\"abcdef\", [\"abdef\",\"abc\",\"d\",\"def\",\"ef\"], [100,1,1,10,5]) == 7\n",
    "assert minimumCost(\"aaaa\", [\"z\", \"zz\", \"zzz\"], [1, 10, 100]) == -1\n",
    "assert minimumCost(\"aaaa\", [\"a\", \"z\", \"zz\", \"zzz\"], [1, 1, 10, 100]) == 4\n",
    "assert minimumCost(\"sgsipzma\", [\"s\",\"s\",\"g\",\"ipzma\"], [1,5,2,1]) == 5"
   ]
  },
  {
   "cell_type": "markdown",
   "id": "2a369efe",
   "metadata": {
    "papermill": {
     "duration": 0.012058,
     "end_time": "2024-07-07T17:13:35.435742",
     "exception": false,
     "start_time": "2024-07-07T17:13:35.423684",
     "status": "completed"
    },
    "tags": []
   },
   "source": [
    "Codeforces practice - Math"
   ]
  },
  {
   "cell_type": "code",
   "execution_count": 76,
   "id": "04e0064e",
   "metadata": {
    "execution": {
     "iopub.execute_input": "2024-07-07T17:13:35.461510Z",
     "iopub.status.busy": "2024-07-07T17:13:35.461252Z",
     "iopub.status.idle": "2024-07-07T17:13:35.467087Z",
     "shell.execute_reply": "2024-07-07T17:13:35.466626Z"
    },
    "lines_to_next_cell": 1,
    "papermill": {
     "duration": 0.020004,
     "end_time": "2024-07-07T17:13:35.468215",
     "exception": false,
     "start_time": "2024-07-07T17:13:35.448211",
     "status": "completed"
    },
    "tags": []
   },
   "outputs": [],
   "source": [
    "# Beautiful matrix\n",
    "def beautiful_matrix(matrix: list[list[str]]) -> int:\n",
    "    to_visit: collections.deque[tuple[int, int, int]] = collections.deque([(2, 2, 0)])\n",
    "    visited: set[tuple[int, int]] = set()\n",
    "    while to_visit:\n",
    "        i, j, moves = to_visit.popleft()\n",
    "        visited.add((i, j))\n",
    "        if matrix[i][j] == '1':\n",
    "            return moves\n",
    "        else:\n",
    "            for x, y in [(i + 1, j), (i - 1, j), (i, j + 1), (i, j - 1)]:\n",
    "                if 0 <= x < 5 and 0 <= y < 5 and (x, y) not in visited:\n",
    "                    to_visit.append((x, y, moves + 1))\n",
    "    return -1\n",
    "\n",
    "# Testing the solution\n",
    "assert beautiful_matrix([['0','0','0','0','0'], ['0','0','0','0','1'], ['0','0','0','0','0'], ['0','0','0','0','0'], ['0','0','0','0','0']]) == 3\n",
    "assert beautiful_matrix([['0','0','0','0','0'], ['0','0','0','0','0'], ['0','1','0','0','0'], ['0','0','0','0','0'], ['0','0','0','0','0']]) == 1"
   ]
  },
  {
   "cell_type": "code",
   "execution_count": 77,
   "id": "50e4cf4e",
   "metadata": {
    "execution": {
     "iopub.execute_input": "2024-07-07T17:13:35.494238Z",
     "iopub.status.busy": "2024-07-07T17:13:35.493631Z",
     "iopub.status.idle": "2024-07-07T17:13:35.498246Z",
     "shell.execute_reply": "2024-07-07T17:13:35.497801Z"
    },
    "lines_to_next_cell": 1,
    "papermill": {
     "duration": 0.018662,
     "end_time": "2024-07-07T17:13:35.499372",
     "exception": false,
     "start_time": "2024-07-07T17:13:35.480710",
     "status": "completed"
    },
    "tags": []
   },
   "outputs": [],
   "source": [
    "def array_with_odd_sum(arr: list[int]) -> bool:\n",
    "    N = len(arr)\n",
    "    odd, even = functools.reduce(\n",
    "            lambda initial, n: (initial[0] + int(n % 2 == 1), initial[1] + int(n % 2 == 0)),\n",
    "            arr, (0, 0)\n",
    "    )\n",
    "\n",
    "    # If there are odd number of evens\n",
    "    return (odd > 0 and even > 0) or (even == 0 and N % 2 == 1)\n",
    "\n",
    "# Testing the solution\n",
    "assert array_with_odd_sum([2,3]) == True\n",
    "assert array_with_odd_sum([2,2,8,8]) == False\n",
    "assert array_with_odd_sum([1,1,1,1]) == False\n",
    "assert array_with_odd_sum([1,1,1]) == True"
   ]
  },
  {
   "cell_type": "code",
   "execution_count": 78,
   "id": "2959d402",
   "metadata": {
    "execution": {
     "iopub.execute_input": "2024-07-07T17:13:35.525113Z",
     "iopub.status.busy": "2024-07-07T17:13:35.524519Z",
     "iopub.status.idle": "2024-07-07T17:13:35.528154Z",
     "shell.execute_reply": "2024-07-07T17:13:35.527717Z"
    },
    "lines_to_next_cell": 1,
    "papermill": {
     "duration": 0.017698,
     "end_time": "2024-07-07T17:13:35.529285",
     "exception": false,
     "start_time": "2024-07-07T17:13:35.511587",
     "status": "completed"
    },
    "tags": []
   },
   "outputs": [],
   "source": [
    "def floor_number(n: int, x: int) -> int:\n",
    "    n = max(n - 2, 0)\n",
    "    return math.ceil(n / x) + 1\n",
    "\n",
    "# Testing the solution\n",
    "assert floor_number(2, 100) == 1\n",
    "assert floor_number(7, 3) == 3\n",
    "assert floor_number(987, 13) == 77"
   ]
  },
  {
   "cell_type": "markdown",
   "id": "98cf5dcc",
   "metadata": {},
   "source": [
    "Codeforces practice - Binary Search"
   ]
  },
  {
   "cell_type": "code",
   "execution_count": null,
   "id": "b667d14c",
   "metadata": {
    "lines_to_next_cell": 1
   },
   "outputs": [],
   "source": [
    "def magic_powder(magic_powder: int, required: list[int], available: list[int]) -> int:\n",
    "    def check(qty: int) -> bool:\n",
    "        powder = magic_powder\n",
    "        for req, avail in zip(required, available):\n",
    "            powder -= max(0, (req * qty) - avail)\n",
    "        return powder >= 0\n",
    "\n",
    "    low = min(avail // req for req, avail in zip(required, available))\n",
    "    high = low + magic_powder\n",
    "    while low <= high:\n",
    "        mid = (low + high) // 2\n",
    "        if check(mid):\n",
    "            low = mid + 1\n",
    "        else:\n",
    "            high = mid - 1\n",
    "\n",
    "    return high\n",
    "\n",
    "# Testing the solution\n",
    "assert magic_powder(1, [2,1,4], [11,3,16]) == 4\n",
    "assert magic_powder(3, [4,3,5,6], [11,12,14,20]) == 3"
   ]
  },
  {
   "cell_type": "code",
   "execution_count": null,
   "id": "ecdbcce3",
   "metadata": {
    "lines_to_next_cell": 1
   },
   "outputs": [],
   "source": [
    "def pipeline(n: int, k: int) -> int:\n",
    "    def check(i: int) -> bool:\n",
    "        \"\"\"\n",
    "        Check if connecting the largest 'i' pipes would give flow >= n\n",
    "        Sum of arithmetic progression: sn = n * ((a1 + an) / 2)\n",
    "        \"\"\"\n",
    "        max_sum = (i * (k + k - i + 1) // 2) - i + 1\n",
    "        return max_sum >= n\n",
    "\n",
    "    low, high = 0, k\n",
    "    while low <= high:\n",
    "        mid = (low + high) // 2\n",
    "        if check(mid):\n",
    "            high = mid - 1\n",
    "        else:\n",
    "            low = mid + 1\n",
    "\n",
    "    return low if low <= k else -1\n",
    "\n",
    "# Testing the solution\n",
    "assert pipeline(8, 4) == -1\n",
    "assert pipeline(5, 5) == 1\n",
    "assert pipeline(4, 3) == 2\n",
    "assert pipeline(1, 4) == 0"
   ]
  },
  {
   "cell_type": "code",
   "execution_count": null,
   "id": "6c05099b",
   "metadata": {},
   "outputs": [],
   "source": [
    "def poisoned_dagger(N: int, hp: int, seconds: list[int]) -> int:\n",
    "    def check(k: int) -> bool:\n",
    "        damage = 0\n",
    "        for i in range(N):\n",
    "            damage += min(k, seconds[i + 1] - seconds[i])\n",
    "\n",
    "        return damage >= hp\n",
    "\n",
    "    # Update seconds for the sake of 'check'\n",
    "    seconds.append(seconds[-1] + hp)\n",
    "\n",
    "    # Binary search\n",
    "    low, high = 1, hp\n",
    "    while low <= high:\n",
    "        mid = (low + high) // 2\n",
    "        if check(mid):\n",
    "            high = mid - 1\n",
    "        else:\n",
    "            low = mid + 1\n",
    "    return low\n",
    "\n",
    "# Testing the solution\n",
    "assert poisoned_dagger(2, 5, [1, 5]) == 3\n",
    "assert poisoned_dagger(3, 10, [2, 4, 10]) == 4\n",
    "assert poisoned_dagger(5, 3, [1, 2, 4, 5, 7]) == 1\n",
    "assert poisoned_dagger(4, 1000, [3, 25, 64, 1337]) == 470"
   ]
  }
 ],
 "metadata": {
  "kernelspec": {
   "display_name": "Python 3 (ipykernel)",
   "language": "python",
   "name": "python3"
  },
  "language_info": {
   "codemirror_mode": {
    "name": "ipython",
    "version": 3
   },
   "file_extension": ".py",
   "mimetype": "text/x-python",
   "name": "python",
   "nbconvert_exporter": "python",
   "pygments_lexer": "ipython3",
   "version": "3.11.9"
  },
  "papermill": {
   "default_parameters": {},
   "duration": 4.702909,
   "end_time": "2024-07-07T17:13:35.757668",
   "environment_variables": {},
   "exception": null,
   "input_path": "practice/005.ipynb",
   "output_path": "practice/005.ipynb",
   "parameters": {},
   "start_time": "2024-07-07T17:13:31.054759",
   "version": "2.6.0"
  }
 },
 "nbformat": 4,
 "nbformat_minor": 5
}
