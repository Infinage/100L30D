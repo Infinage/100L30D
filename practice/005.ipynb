{
 "cells": [
  {
   "cell_type": "code",
   "execution_count": 1,
   "id": "fa51d761",
   "metadata": {
    "execution": {
     "iopub.execute_input": "2024-07-08T17:07:10.994419Z",
     "iopub.status.busy": "2024-07-08T17:07:10.994036Z",
     "iopub.status.idle": "2024-07-08T17:07:11.326752Z",
     "shell.execute_reply": "2024-07-08T17:07:11.326177Z"
    },
    "papermill": {
     "duration": 0.347344,
     "end_time": "2024-07-08T17:07:11.328154",
     "exception": false,
     "start_time": "2024-07-08T17:07:10.980810",
     "status": "completed"
    },
    "tags": []
   },
   "outputs": [],
   "source": [
    "from typing import List, Optional, Generator\n",
    "import pandas as pd\n",
    "import numpy as np\n",
    "import sqlite3\n",
    "import re\n",
    "import io\n",
    "import math\n",
    "import collections\n",
    "import itertools\n",
    "import functools\n",
    "import random\n",
    "import string\n",
    "import tqdm\n",
    "import bisect\n",
    "import heapq\n",
    "\n",
    "conn = sqlite3.connect(\":memory:\")\n",
    "\n",
    "def regexp(expr, item):\n",
    "    reg = re.compile(expr)\n",
    "    return reg.search(item) is not None\n",
    "\n",
    "def read_lc_df(s: str, dtypes: dict[str, str]=dict()) -> pd.DataFrame:\n",
    "    temp = pd.read_csv(io.StringIO(s), sep=\"|\", skiprows=2)\n",
    "    temp = temp.iloc[1:-1, 1:-1]\n",
    "    temp.columns = temp.columns.map(str.strip)\n",
    "    temp = temp.map(lambda x: x if type(x) != str else None if x.strip() == 'null' else x.strip())\n",
    "    temp = temp.astype(dtypes)\n",
    "    return temp\n",
    "\n",
    "conn.create_function(\"REGEXP\", 2, regexp)"
   ]
  },
  {
   "cell_type": "markdown",
   "id": "db473660",
   "metadata": {
    "papermill": {
     "duration": 0.011349,
     "end_time": "2024-07-08T17:07:11.351295",
     "exception": false,
     "start_time": "2024-07-08T17:07:11.339946",
     "status": "completed"
    },
    "tags": []
   },
   "source": [
    "#### Helper for Binary tree problems"
   ]
  },
  {
   "cell_type": "code",
   "execution_count": 2,
   "id": "6e8896c0",
   "metadata": {
    "execution": {
     "iopub.execute_input": "2024-07-08T17:07:11.376375Z",
     "iopub.status.busy": "2024-07-08T17:07:11.375916Z",
     "iopub.status.idle": "2024-07-08T17:07:11.382971Z",
     "shell.execute_reply": "2024-07-08T17:07:11.382426Z"
    },
    "lines_to_next_cell": 1,
    "papermill": {
     "duration": 0.021454,
     "end_time": "2024-07-08T17:07:11.384090",
     "exception": false,
     "start_time": "2024-07-08T17:07:11.362636",
     "status": "completed"
    },
    "tags": []
   },
   "outputs": [],
   "source": [
    "class BinaryTreeNode:\n",
    "    def __init__(self, val=0, left=None, right=None):\n",
    "        self.val = val\n",
    "        self.left = left\n",
    "        self.right = right\n",
    "\n",
    "    def to_list(self):\n",
    "        to_visit = [self]\n",
    "        visited = []\n",
    "        while len(to_visit) > 0:\n",
    "            curr = to_visit.pop(0)\n",
    "            if curr:\n",
    "                to_visit.append(curr.left)\n",
    "                to_visit.append(curr.right)\n",
    "                visited.append(curr.val)\n",
    "            else:\n",
    "                visited.append(curr)\n",
    "\n",
    "        while visited and not visited[-1]:\n",
    "            visited.pop()\n",
    "\n",
    "        return visited\n",
    "\n",
    "    def __str__(self):\n",
    "        return str(self.val)\n",
    "\n",
    "    @staticmethod\n",
    "    def from_array(nums: list[int|None]):\n",
    "        '''Create a Tree from a list of nums. Returns the root node.'''\n",
    "        if len(nums) == 0:\n",
    "            return None\n",
    "        elif len(nums) == 1:\n",
    "            return BinaryTreeNode(nums[0])\n",
    "        else:\n",
    "            forest = [BinaryTreeNode(nums[0])]\n",
    "            parent_idx = -1\n",
    "            for i in range(1, len(nums)):\n",
    "\n",
    "                curr = None\n",
    "                if nums[i] is not None:\n",
    "                    curr = BinaryTreeNode(nums[i])\n",
    "                    forest.append(curr)\n",
    "\n",
    "                if i % 2 == 1:\n",
    "                    parent_idx += 1\n",
    "                    forest[parent_idx].left = curr\n",
    "                else:\n",
    "                    forest[parent_idx].right = curr\n",
    "\n",
    "        return forest[0]"
   ]
  },
  {
   "cell_type": "markdown",
   "id": "de5b1765",
   "metadata": {
    "papermill": {
     "duration": 0.011265,
     "end_time": "2024-07-08T17:07:11.406804",
     "exception": false,
     "start_time": "2024-07-08T17:07:11.395539",
     "status": "completed"
    },
    "tags": []
   },
   "source": [
    "#### Helper for Singly Linked lists"
   ]
  },
  {
   "cell_type": "code",
   "execution_count": 3,
   "id": "e736c8a5",
   "metadata": {
    "execution": {
     "iopub.execute_input": "2024-07-08T17:07:11.430508Z",
     "iopub.status.busy": "2024-07-08T17:07:11.430008Z",
     "iopub.status.idle": "2024-07-08T17:07:11.434701Z",
     "shell.execute_reply": "2024-07-08T17:07:11.434135Z"
    },
    "lines_to_next_cell": 1,
    "papermill": {
     "duration": 0.017689,
     "end_time": "2024-07-08T17:07:11.435789",
     "exception": false,
     "start_time": "2024-07-08T17:07:11.418100",
     "status": "completed"
    },
    "tags": []
   },
   "outputs": [],
   "source": [
    "class ListNode:\n",
    "    def __init__(self, val=0, next=None):\n",
    "        self.val = val\n",
    "        self.next = next\n",
    "\n",
    "    def __str__(self):\n",
    "        return str(self.val)\n",
    "\n",
    "    @staticmethod\n",
    "    def to_singly_linked_list(nums: list[int]):\n",
    "        root = prev = None\n",
    "        for n in nums:\n",
    "            curr = ListNode(n)\n",
    "            # Init once\n",
    "            if not root:\n",
    "                root = curr\n",
    "            if prev:\n",
    "                prev.next = curr\n",
    "            prev = curr\n",
    "\n",
    "        return root\n",
    "\n",
    "    def to_list(self) -> list[int]:\n",
    "        result = []\n",
    "        curr = self\n",
    "        while curr:\n",
    "            result.append(curr.val)\n",
    "            curr = curr.next\n",
    "        return result"
   ]
  },
  {
   "cell_type": "markdown",
   "id": "cd635853",
   "metadata": {
    "papermill": {
     "duration": 0.011523,
     "end_time": "2024-07-08T17:07:11.458702",
     "exception": false,
     "start_time": "2024-07-08T17:07:11.447179",
     "status": "completed"
    },
    "tags": []
   },
   "source": [
    "Codeforces practice"
   ]
  },
  {
   "cell_type": "code",
   "execution_count": 4,
   "id": "df35356a",
   "metadata": {
    "execution": {
     "iopub.execute_input": "2024-07-08T17:07:11.482264Z",
     "iopub.status.busy": "2024-07-08T17:07:11.482052Z",
     "iopub.status.idle": "2024-07-08T17:07:11.486548Z",
     "shell.execute_reply": "2024-07-08T17:07:11.486047Z"
    },
    "lines_to_next_cell": 1,
    "papermill": {
     "duration": 0.01763,
     "end_time": "2024-07-08T17:07:11.487653",
     "exception": false,
     "start_time": "2024-07-08T17:07:11.470023",
     "status": "completed"
    },
    "tags": []
   },
   "outputs": [],
   "source": [
    "# https://codeforces.com/problemset/problem/1984/B\n",
    "def large_addition(N: int) -> bool:\n",
    "    if N < 10:\n",
    "        return False\n",
    "    else:\n",
    "        N_str: str = str(N)\n",
    "        length = len(N_str)\n",
    "        for i in range(length):\n",
    "            if i == 0 and N_str[i] != '1':\n",
    "                return False\n",
    "            elif i == length - 1 and N_str[i] == '9':\n",
    "                return False\n",
    "            elif i not in (0, length - 1) and N_str[i] == '0':\n",
    "                return False\n",
    "\n",
    "        return True\n",
    "\n",
    "# Testing the solution\n",
    "assert large_addition(1393938) == True\n",
    "assert large_addition(200) == False\n",
    "assert large_addition(10) == True"
   ]
  },
  {
   "cell_type": "markdown",
   "id": "80b62de1",
   "metadata": {
    "papermill": {
     "duration": 0.011401,
     "end_time": "2024-07-08T17:07:11.510485",
     "exception": false,
     "start_time": "2024-07-08T17:07:11.499084",
     "status": "completed"
    },
    "tags": []
   },
   "source": [
    "LC Virtual: 25th June 2024\n",
    "https://leetcode.com/contest/smarking-algorithm-contest-3/"
   ]
  },
  {
   "cell_type": "code",
   "execution_count": 5,
   "id": "ec2db856",
   "metadata": {
    "execution": {
     "iopub.execute_input": "2024-07-08T17:07:11.534240Z",
     "iopub.status.busy": "2024-07-08T17:07:11.533838Z",
     "iopub.status.idle": "2024-07-08T17:07:11.537811Z",
     "shell.execute_reply": "2024-07-08T17:07:11.537285Z"
    },
    "lines_to_next_cell": 1,
    "papermill": {
     "duration": 0.016937,
     "end_time": "2024-07-08T17:07:11.538821",
     "exception": false,
     "start_time": "2024-07-08T17:07:11.521884",
     "status": "completed"
    },
    "tags": []
   },
   "outputs": [],
   "source": [
    "# Q1\n",
    "# https://www.youtube.com/watch?v=x8T11yRLIyY\n",
    "def minMoves(nums: list[int]) -> int:\n",
    "    \"\"\"\n",
    "    Intution: Instead of increasing all n - 1 elements by 1 each time, try to decrement\n",
    "    the max element to the smallest element. Relative distances between numbers are the same.\n",
    "    \"\"\"\n",
    "    nums.sort()\n",
    "    result = 0\n",
    "    for i in range(len(nums) - 1, -1, -1):\n",
    "        result += nums[i] - nums[0]\n",
    "    return result\n",
    "\n",
    "# Testing the solution\n",
    "assert minMoves([1,2,3,4]) == 6\n",
    "assert minMoves([1,2,3]) == 3"
   ]
  },
  {
   "cell_type": "code",
   "execution_count": 6,
   "id": "46f751bf",
   "metadata": {
    "execution": {
     "iopub.execute_input": "2024-07-08T17:07:11.562784Z",
     "iopub.status.busy": "2024-07-08T17:07:11.562449Z",
     "iopub.status.idle": "2024-07-08T17:07:11.567693Z",
     "shell.execute_reply": "2024-07-08T17:07:11.567279Z"
    },
    "lines_to_next_cell": 1,
    "papermill": {
     "duration": 0.018319,
     "end_time": "2024-07-08T17:07:11.568736",
     "exception": false,
     "start_time": "2024-07-08T17:07:11.550417",
     "status": "completed"
    },
    "tags": []
   },
   "outputs": [],
   "source": [
    "# Q2\n",
    "def numberOfBoomerangs(points: list[list[int]]) -> int:\n",
    "    def distance(pt1: list[int], pt2: list[int]) -> float:\n",
    "        return math.sqrt(((pt1[0] - pt2[0]) ** 2) + ((pt1[1] - pt2[1]) ** 2))\n",
    "\n",
    "    boommerangs: int = 0\n",
    "    N = len(points)\n",
    "    for i in range(N):\n",
    "        curr = points[i]\n",
    "        distances: dict[float, int] = dict()\n",
    "        for j in range(N):\n",
    "            if j != i:\n",
    "                dist = distance(points[i], points[j])\n",
    "                distances[dist] = distances.get(dist, 0) + 1\n",
    "\n",
    "        for count in distances.values():\n",
    "            boommerangs += math.perm(count, 2)\n",
    "\n",
    "    return boommerangs\n",
    "\n",
    "# Testing the solution\n",
    "assert numberOfBoomerangs([[0,0],[1,0],[2,0]]) == 2\n",
    "assert numberOfBoomerangs([[1,1],[2,2],[3,3]]) == 2\n",
    "assert numberOfBoomerangs([[1,1]]) == 0"
   ]
  },
  {
   "cell_type": "code",
   "execution_count": 7,
   "id": "06c17597",
   "metadata": {
    "execution": {
     "iopub.execute_input": "2024-07-08T17:07:11.592329Z",
     "iopub.status.busy": "2024-07-08T17:07:11.592130Z",
     "iopub.status.idle": "2024-07-08T17:07:11.597462Z",
     "shell.execute_reply": "2024-07-08T17:07:11.597006Z"
    },
    "lines_to_next_cell": 1,
    "papermill": {
     "duration": 0.018408,
     "end_time": "2024-07-08T17:07:11.598536",
     "exception": false,
     "start_time": "2024-07-08T17:07:11.580128",
     "status": "completed"
    },
    "tags": []
   },
   "outputs": [],
   "source": [
    "# Q3\n",
    "def findMinArrowShots(points: list[list[int]]) -> int:\n",
    "    # Sort by end and merge the start, end\n",
    "    points.sort(key=lambda x: (x[1], x[0]))\n",
    "\n",
    "    # Merge the intervals\n",
    "    merged_intervals: list[tuple[int, int]] = []\n",
    "    for start, end in points:\n",
    "        if merged_intervals and merged_intervals[-1][1] >= start:\n",
    "            merged_intervals[-1] = max(merged_intervals[-1][0], start), min(merged_intervals[-1][1], end)\n",
    "        else:\n",
    "            merged_intervals.append((start, end))\n",
    "\n",
    "    return len(merged_intervals)\n",
    "\n",
    "# Testing the solution\n",
    "assert findMinArrowShots([[10,16],[2,8],[1,6],[7,12]]) == 2\n",
    "assert findMinArrowShots([[1,2],[3,4],[5,6],[7,8]]) == 4\n",
    "assert findMinArrowShots([[1,2],[2,3],[3,4],[4,5]]) == 2"
   ]
  },
  {
   "cell_type": "code",
   "execution_count": 8,
   "id": "602ae596",
   "metadata": {
    "execution": {
     "iopub.execute_input": "2024-07-08T17:07:11.622254Z",
     "iopub.status.busy": "2024-07-08T17:07:11.621905Z",
     "iopub.status.idle": "2024-07-08T17:07:11.626578Z",
     "shell.execute_reply": "2024-07-08T17:07:11.626132Z"
    },
    "lines_to_next_cell": 1,
    "papermill": {
     "duration": 0.017666,
     "end_time": "2024-07-08T17:07:11.627674",
     "exception": false,
     "start_time": "2024-07-08T17:07:11.610008",
     "status": "completed"
    },
    "tags": []
   },
   "outputs": [],
   "source": [
    "# Q4\n",
    "def numberOfArithmeticSlicesBrute(nums: list[int]) -> int:\n",
    "    def is_valid(sub: list[int]) -> bool:\n",
    "        if len(sub) < 3:\n",
    "            return False\n",
    "        else:\n",
    "            diff = sub[1] - sub[0]\n",
    "            for i in range(len(sub) - 1):\n",
    "                if sub[i + 1] - sub[i] != diff:\n",
    "                    return False\n",
    "            return True\n",
    "\n",
    "    count = 0\n",
    "    def backtrack(i: int, subseq: list[int]):\n",
    "        if i == N:\n",
    "            count += is_valid(subseq)\n",
    "        else:\n",
    "            subseq.append(nums[i])\n",
    "            backtrack(i + 1, subseq)\n",
    "            subseq.pop()\n",
    "            backtrack(i + 1, subseq)\n",
    "\n",
    "    N = len(nums)\n",
    "    backtrack(0, [])\n",
    "    return count"
   ]
  },
  {
   "cell_type": "code",
   "execution_count": 9,
   "id": "f1e64142",
   "metadata": {
    "execution": {
     "iopub.execute_input": "2024-07-08T17:07:11.651377Z",
     "iopub.status.busy": "2024-07-08T17:07:11.651065Z",
     "iopub.status.idle": "2024-07-08T17:07:11.655595Z",
     "shell.execute_reply": "2024-07-08T17:07:11.655089Z"
    },
    "lines_to_next_cell": 1,
    "papermill": {
     "duration": 0.017499,
     "end_time": "2024-07-08T17:07:11.656659",
     "exception": false,
     "start_time": "2024-07-08T17:07:11.639160",
     "status": "completed"
    },
    "tags": []
   },
   "outputs": [],
   "source": [
    "# Upsolving\n",
    "# https://www.youtube.com/watch?v=YIMwwT9JdIE\n",
    "def numberOfArithmeticSlices(nums: list[int]) -> int:\n",
    "    \"\"\"\n",
    "    Ending at index 'j' what is maximum number of arthimetic subsequences that I can form >= 2\n",
    "    \"\"\"\n",
    "    N = len(nums)\n",
    "    dp: list[collections.defaultdict[int, int]] = [collections.defaultdict(int) for _ in range(N)]\n",
    "    sub_count = dp_sum = 0\n",
    "    for j in range(N):\n",
    "        for i in range(j):\n",
    "            delta = nums[i] - nums[j]\n",
    "            dp[j][delta] += dp[i][delta] + 1\n",
    "            sub_count, dp_sum = sub_count + 1, dp_sum + dp[i][delta] + 1\n",
    "\n",
    "    return dp_sum - sub_count\n",
    "\n",
    "# Testing the solution\n",
    "assert numberOfArithmeticSlices([2,4,6,8,10]) == 7\n",
    "assert numberOfArithmeticSlices([7,7,7,7,7]) == 16"
   ]
  },
  {
   "cell_type": "markdown",
   "id": "79053be1",
   "metadata": {
    "papermill": {
     "duration": 0.011539,
     "end_time": "2024-07-08T17:07:11.679707",
     "exception": false,
     "start_time": "2024-07-08T17:07:11.668168",
     "status": "completed"
    },
    "tags": []
   },
   "source": [
    "LC VC: June 26th 2024"
   ]
  },
  {
   "cell_type": "code",
   "execution_count": 10,
   "id": "2e438aa0",
   "metadata": {
    "execution": {
     "iopub.execute_input": "2024-07-08T17:07:11.703654Z",
     "iopub.status.busy": "2024-07-08T17:07:11.703295Z",
     "iopub.status.idle": "2024-07-08T17:07:11.708069Z",
     "shell.execute_reply": "2024-07-08T17:07:11.707565Z"
    },
    "lines_to_next_cell": 1,
    "papermill": {
     "duration": 0.017943,
     "end_time": "2024-07-08T17:07:11.709174",
     "exception": false,
     "start_time": "2024-07-08T17:07:11.691231",
     "status": "completed"
    },
    "tags": []
   },
   "outputs": [],
   "source": [
    "# Q4: Pattern 132\n",
    "# https://www.youtube.com/watch?v=q5ANAl8Z458\n",
    "# https://leetcode.com/problems/132-pattern/submissions/1301126531/\n",
    "def find132pattern(nums: list[int]) -> bool:\n",
    "    N = len(nums)\n",
    "\n",
    "    # Monotonic stack, storing min values till index - value, min pairs\n",
    "    stack: list[tuple[int, int]] = []\n",
    "    min_: int = nums[0]\n",
    "\n",
    "    for n in nums:\n",
    "        while stack and stack[-1][0] <= n:\n",
    "            stack.pop()\n",
    "\n",
    "        if stack and stack[-1][1] < n:\n",
    "            return True\n",
    "\n",
    "        stack.append((n, min_))\n",
    "        min_ = min(min_, n)\n",
    "\n",
    "    return False\n",
    "\n",
    "# Testing the solution\n",
    "assert find132pattern([1,2,3,4]) == False\n",
    "assert find132pattern([3,1,4,2]) == True\n",
    "assert find132pattern([-1,3,2,0]) == True\n",
    "assert find132pattern([3,1,2]) == False"
   ]
  },
  {
   "cell_type": "markdown",
   "id": "6afba366",
   "metadata": {
    "papermill": {
     "duration": 0.01139,
     "end_time": "2024-07-08T17:07:11.746208",
     "exception": false,
     "start_time": "2024-07-08T17:07:11.734818",
     "status": "completed"
    },
    "tags": []
   },
   "source": [
    "Balance a Binary Search tree"
   ]
  },
  {
   "cell_type": "code",
   "execution_count": 11,
   "id": "47bab318",
   "metadata": {
    "execution": {
     "iopub.execute_input": "2024-07-08T17:07:11.770365Z",
     "iopub.status.busy": "2024-07-08T17:07:11.769892Z",
     "iopub.status.idle": "2024-07-08T17:07:11.775786Z",
     "shell.execute_reply": "2024-07-08T17:07:11.775364Z"
    },
    "lines_to_next_cell": 1,
    "papermill": {
     "duration": 0.019246,
     "end_time": "2024-07-08T17:07:11.776830",
     "exception": false,
     "start_time": "2024-07-08T17:07:11.757584",
     "status": "completed"
    },
    "tags": []
   },
   "outputs": [
    {
     "name": "stdout",
     "output_type": "stream",
     "text": [
      "[3, 2, 4, 1]\n"
     ]
    }
   ],
   "source": [
    "# https://leetcode.com/problems/balance-a-binary-search-tree/submissions/1301150197\n",
    "def balanceBST(root: BinaryTreeNode) -> BinaryTreeNode|None:\n",
    "    def createBalancedBST(nodes_: list[int]) -> BinaryTreeNode|None:\n",
    "        N = len(nodes_)\n",
    "        if N == 0:\n",
    "            return None\n",
    "        else:\n",
    "            mid = N // 2\n",
    "            root_: BinaryTreeNode = BinaryTreeNode(nodes_[mid])\n",
    "            root_.left = createBalancedBST(nodes_[:mid])\n",
    "            root_.right = createBalancedBST(nodes_[mid + 1:])\n",
    "            return root_\n",
    "\n",
    "    # 1. Retrieve all elements in-order traversal (left, root, right), this returns an array in sorted order\n",
    "    curr: BinaryTreeNode = root\n",
    "    nodes: list[int] = []\n",
    "    stack: list[BinaryTreeNode] = []\n",
    "    while True:\n",
    "        while curr:\n",
    "            stack.append(curr)\n",
    "            curr = curr.left\n",
    "        if stack:\n",
    "            curr = stack.pop()\n",
    "            nodes.append(curr.val)\n",
    "            curr = curr.right\n",
    "        else:\n",
    "            break\n",
    "\n",
    "    # 2. Create a BST from the nodes: Take the middle element as the root, create left and right subtree recursively\n",
    "    return createBalancedBST(nodes)\n",
    "\n",
    "# Testing the solution\n",
    "print(balanceBST(BinaryTreeNode.from_array([1,None,2,None,3,None,4,None,None])).to_list())"
   ]
  },
  {
   "cell_type": "markdown",
   "id": "304faf22",
   "metadata": {
    "papermill": {
     "duration": 0.011496,
     "end_time": "2024-07-08T17:07:11.799800",
     "exception": false,
     "start_time": "2024-07-08T17:07:11.788304",
     "status": "completed"
    },
    "tags": []
   },
   "source": [
    "LC Practice"
   ]
  },
  {
   "cell_type": "code",
   "execution_count": 12,
   "id": "0ac43f3b",
   "metadata": {
    "execution": {
     "iopub.execute_input": "2024-07-08T17:07:11.823576Z",
     "iopub.status.busy": "2024-07-08T17:07:11.823192Z",
     "iopub.status.idle": "2024-07-08T17:07:11.827174Z",
     "shell.execute_reply": "2024-07-08T17:07:11.826674Z"
    },
    "lines_to_next_cell": 1,
    "papermill": {
     "duration": 0.016961,
     "end_time": "2024-07-08T17:07:11.828181",
     "exception": false,
     "start_time": "2024-07-08T17:07:11.811220",
     "status": "completed"
    },
    "tags": []
   },
   "outputs": [],
   "source": [
    "def subarraySum(nums: list[int], k: int) -> int:\n",
    "    prefix: collections.defaultdict = collections.defaultdict(int)\n",
    "    prefix[0], count, psum = 1, 0, 0\n",
    "    for n in nums:\n",
    "        psum += n\n",
    "        count += prefix[psum - k]\n",
    "        prefix[psum] += 1\n",
    "\n",
    "    return count\n",
    "\n",
    "# Testing the solution\n",
    "assert subarraySum([1,2,3], 3) == 2\n",
    "assert subarraySum([1,1,1], 2) == 2"
   ]
  },
  {
   "cell_type": "code",
   "execution_count": 13,
   "id": "b278e908",
   "metadata": {
    "execution": {
     "iopub.execute_input": "2024-07-08T17:07:11.852149Z",
     "iopub.status.busy": "2024-07-08T17:07:11.851688Z",
     "iopub.status.idle": "2024-07-08T17:07:11.857044Z",
     "shell.execute_reply": "2024-07-08T17:07:11.856644Z"
    },
    "lines_to_next_cell": 1,
    "papermill": {
     "duration": 0.018459,
     "end_time": "2024-07-08T17:07:11.858119",
     "exception": false,
     "start_time": "2024-07-08T17:07:11.839660",
     "status": "completed"
    },
    "tags": []
   },
   "outputs": [],
   "source": [
    "# https://leetcode.com/problems/continuous-subarray-sum/submissions/1301461461/\n",
    "def checkSubarraySum(nums: list[int], k: int) -> bool:\n",
    "    N = len(nums)\n",
    "    prefix: dict[int, int] = {0: -1}\n",
    "    psum = 0\n",
    "    for i in range(N):\n",
    "        psum = (psum + nums[i]) % k\n",
    "        if i - prefix.get(psum, i) >= 2:\n",
    "            return True\n",
    "        prefix[psum] = min(prefix.get(psum, i), i)\n",
    "\n",
    "    return False\n",
    "\n",
    "# Testing the solution\n",
    "assert checkSubarraySum([23,2,4,6,7], 6) == True\n",
    "assert checkSubarraySum([0], 1) == False\n",
    "assert checkSubarraySum([23,2,6,4,7,13], 13) == False\n",
    "assert checkSubarraySum([23,2,6,4,7,13,13], 13) == True\n",
    "assert checkSubarraySum([1,0], 2) == False\n",
    "assert checkSubarraySum([1,2,3,4], 6) == True"
   ]
  },
  {
   "cell_type": "markdown",
   "id": "b3ac55c5",
   "metadata": {
    "papermill": {
     "duration": 0.011486,
     "end_time": "2024-07-08T17:07:11.881200",
     "exception": false,
     "start_time": "2024-07-08T17:07:11.869714",
     "status": "completed"
    },
    "tags": []
   },
   "source": [
    "Check if array is sorted and rotated"
   ]
  },
  {
   "cell_type": "code",
   "execution_count": 14,
   "id": "05c610bc",
   "metadata": {
    "execution": {
     "iopub.execute_input": "2024-07-08T17:07:11.905432Z",
     "iopub.status.busy": "2024-07-08T17:07:11.905006Z",
     "iopub.status.idle": "2024-07-08T17:07:11.909350Z",
     "shell.execute_reply": "2024-07-08T17:07:11.908938Z"
    },
    "lines_to_next_cell": 1,
    "papermill": {
     "duration": 0.017616,
     "end_time": "2024-07-08T17:07:11.910409",
     "exception": false,
     "start_time": "2024-07-08T17:07:11.892793",
     "status": "completed"
    },
    "tags": []
   },
   "outputs": [],
   "source": [
    "def checkArraySortedAndRotated(nums: list[int]) -> bool:\n",
    "    N = len(nums)\n",
    "    count = 0\n",
    "    for i in range(N - 1):\n",
    "        count += nums[i + 1] < nums[i]\n",
    "    return count == 0 or (count == 1 and nums[0] > nums[-1])\n",
    "\n",
    "# Testing the solution\n",
    "assert checkArraySortedAndRotated([3,4,5,1,2]) == True\n",
    "assert checkArraySortedAndRotated([2,1,3,4]) == False\n",
    "assert checkArraySortedAndRotated([3,2,1]) == False"
   ]
  },
  {
   "cell_type": "markdown",
   "id": "2d033d8f",
   "metadata": {
    "papermill": {
     "duration": 0.011488,
     "end_time": "2024-07-08T17:07:11.933365",
     "exception": false,
     "start_time": "2024-07-08T17:07:11.921877",
     "status": "completed"
    },
    "tags": []
   },
   "source": [
    "All ancestors of a node in a DAG"
   ]
  },
  {
   "cell_type": "code",
   "execution_count": 15,
   "id": "50e7e595",
   "metadata": {
    "execution": {
     "iopub.execute_input": "2024-07-08T17:07:11.957134Z",
     "iopub.status.busy": "2024-07-08T17:07:11.956787Z",
     "iopub.status.idle": "2024-07-08T17:07:11.963198Z",
     "shell.execute_reply": "2024-07-08T17:07:11.962699Z"
    },
    "lines_to_next_cell": 1,
    "papermill": {
     "duration": 0.019472,
     "end_time": "2024-07-08T17:07:11.964217",
     "exception": false,
     "start_time": "2024-07-08T17:07:11.944745",
     "status": "completed"
    },
    "tags": []
   },
   "outputs": [],
   "source": [
    "# https://leetcode.com/problems/all-ancestors-of-a-node-in-a-directed-acyclic-graph/submissions/1304043339\n",
    "def getAncestors(N: int, edges: list[list[int]]) -> list[list[int]]:\n",
    "    @functools.cache\n",
    "    def DFS(n: int) -> set[int]:\n",
    "        ancestors: set[int] = set()\n",
    "        for next_ in adjl[n]:\n",
    "            ancestors.add(next_)\n",
    "            for next_ancestor in DFS(next_):\n",
    "                ancestors.add(next_ancestor)\n",
    "        return ancestors\n",
    "\n",
    "    adjl: collections.defaultdict[int, list[int]] = collections.defaultdict(list)\n",
    "    for n1, n2 in edges:\n",
    "        adjl[n2].append(n1)\n",
    "\n",
    "    result: list[list[int]] = [[] for _ in range(N)]\n",
    "    for i in range(N):\n",
    "        result[i] = sorted(DFS(i))\n",
    "\n",
    "    return result\n",
    "\n",
    "# Testing the solution\n",
    "assert getAncestors(8, [[0,3],[0,4],[1,3],[2,4],[2,7],[3,5],[3,6],[3,7],[4,6]]) == [[],[],[],[0,1],[0,2],[0,1,3],[0,1,2,3,4],[0,1,2,3]]\n",
    "assert getAncestors(5, [[0,1],[0,2],[0,3],[0,4],[1,2],[1,3],[1,4],[2,3],[2,4],[3,4]]) == [[],[0],[0,1],[0,1,2],[0,1,2,3]]"
   ]
  },
  {
   "cell_type": "markdown",
   "id": "0fb25f1d",
   "metadata": {
    "papermill": {
     "duration": 0.011474,
     "end_time": "2024-07-08T17:07:11.987205",
     "exception": false,
     "start_time": "2024-07-08T17:07:11.975731",
     "status": "completed"
    },
    "tags": []
   },
   "source": [
    "LC Contest: 30th June 2024"
   ]
  },
  {
   "cell_type": "code",
   "execution_count": 16,
   "id": "2cc84226",
   "metadata": {
    "execution": {
     "iopub.execute_input": "2024-07-08T17:07:12.011160Z",
     "iopub.status.busy": "2024-07-08T17:07:12.010784Z",
     "iopub.status.idle": "2024-07-08T17:07:12.015875Z",
     "shell.execute_reply": "2024-07-08T17:07:12.015334Z"
    },
    "lines_to_next_cell": 1,
    "papermill": {
     "duration": 0.018258,
     "end_time": "2024-07-08T17:07:12.016936",
     "exception": false,
     "start_time": "2024-07-08T17:07:11.998678",
     "status": "completed"
    },
    "tags": []
   },
   "outputs": [],
   "source": [
    "# Q1\n",
    "def maxHeightOfTriangle(red: int, blue: int) -> int:\n",
    "    @functools.cache\n",
    "    def backtrack(i: int) -> tuple[int, int]:\n",
    "        if i == 0:\n",
    "            return 0, 0\n",
    "        else:\n",
    "            prev = backtrack(i - 1)\n",
    "            if i % 2 == 0:\n",
    "                return prev[0], prev[1] + i\n",
    "            else:\n",
    "                return prev[0] + i, prev[1]\n",
    "\n",
    "    red, blue = sorted([red, blue])\n",
    "    low, high = 1, 20\n",
    "    while low <= high:\n",
    "        mid = (low + high) // 2\n",
    "        r, b = sorted(backtrack(mid))\n",
    "        if r <= red and b <= blue:\n",
    "            low = mid + 1\n",
    "        else:\n",
    "            high = mid - 1\n",
    "\n",
    "    return high\n",
    "\n",
    "# Testing the solution\n",
    "assert maxHeightOfTriangle(10, 1) == 2\n",
    "assert maxHeightOfTriangle(1, 1) == 1\n",
    "assert maxHeightOfTriangle(2, 1) == 2\n",
    "assert maxHeightOfTriangle(2, 4) == 3"
   ]
  },
  {
   "cell_type": "code",
   "execution_count": 17,
   "id": "3acecb65",
   "metadata": {
    "execution": {
     "iopub.execute_input": "2024-07-08T17:07:12.041186Z",
     "iopub.status.busy": "2024-07-08T17:07:12.040755Z",
     "iopub.status.idle": "2024-07-08T17:07:12.045306Z",
     "shell.execute_reply": "2024-07-08T17:07:12.044875Z"
    },
    "lines_to_next_cell": 1,
    "papermill": {
     "duration": 0.017845,
     "end_time": "2024-07-08T17:07:12.046338",
     "exception": false,
     "start_time": "2024-07-08T17:07:12.028493",
     "status": "completed"
    },
    "tags": []
   },
   "outputs": [],
   "source": [
    "# Q2\n",
    "def maximumLength(nums: list[int]) -> int:\n",
    "    \"\"\"\n",
    "    Either all consequetive element pairs should sum up to an even number or to an odd number\n",
    "\n",
    "    If all elements are to sum to an even number: either all should be even or all numbers should be odd => max(odd_count, even_count)\n",
    "    If all elements are to sum to an odd number: greedily check validity (consequetive elements should be odd-even or even-odd)\n",
    "    \"\"\"\n",
    "    odd_sum_length = odd_count = even_count = 0\n",
    "    prev = 0 if nums[0] % 2 else 1\n",
    "    for i in range(len(nums)):\n",
    "        if nums[i] % 2 == 0:\n",
    "            even_count += 1\n",
    "        else:\n",
    "            odd_count += 1\n",
    "\n",
    "        if nums[i] % 2 != prev:\n",
    "            odd_sum_length, prev = odd_sum_length + 1, nums[i] % 2\n",
    "\n",
    "    return max(odd_sum_length, odd_count, even_count)\n",
    "\n",
    "# Testing the solution\n",
    "assert maximumLength([1,2,3,4]) == 4\n",
    "assert maximumLength([1,2,1,1,2,1,2]) == 6\n",
    "assert maximumLength([1,3]) == 2"
   ]
  },
  {
   "cell_type": "markdown",
   "id": "7d9b395f",
   "metadata": {
    "papermill": {
     "duration": 0.011742,
     "end_time": "2024-07-08T17:07:12.069707",
     "exception": false,
     "start_time": "2024-07-08T17:07:12.057965",
     "status": "completed"
    },
    "tags": []
   },
   "source": [
    "search-query-auto-complete: Striver A2Z: First question"
   ]
  },
  {
   "cell_type": "code",
   "execution_count": 18,
   "id": "ac84136c",
   "metadata": {
    "execution": {
     "iopub.execute_input": "2024-07-08T17:07:12.094108Z",
     "iopub.status.busy": "2024-07-08T17:07:12.093630Z",
     "iopub.status.idle": "2024-07-08T17:07:12.101556Z",
     "shell.execute_reply": "2024-07-08T17:07:12.101088Z"
    },
    "lines_to_next_cell": 1,
    "papermill": {
     "duration": 0.021347,
     "end_time": "2024-07-08T17:07:12.102607",
     "exception": false,
     "start_time": "2024-07-08T17:07:12.081260",
     "status": "completed"
    },
    "tags": []
   },
   "outputs": [],
   "source": [
    "class AutoCompleteSystem:\n",
    "    def __init__(self, sentences: list[str], times: list[int]) -> None:\n",
    "        # Store a dictionary of sentences along with their frequencies\n",
    "        self.sentences: collections.defaultdict[str, int] = collections.defaultdict(lambda: 0)\n",
    "        self.acc: str = \"\"\n",
    "        for sentence, freq in zip(sentences, times):\n",
    "            self.sentences[sentence] = freq\n",
    "\n",
    "    def input(self, character: str) -> list[str]:\n",
    "        if character != '#':\n",
    "            self.acc += character\n",
    "            result: list[tuple[int, str]] = []\n",
    "            for sentence, freq in self.sentences.items():\n",
    "                if sentence.startswith(self.acc):\n",
    "                    result.append((-freq, sentence))\n",
    "            result.sort()\n",
    "            return list(map(lambda x: x[1], result[:3]))\n",
    "\n",
    "        else:\n",
    "            self.sentences[self.acc] += 1\n",
    "            self.acc = ''\n",
    "            return []\n",
    "\n",
    "# Testing the solution - 1\n",
    "temp = AutoCompleteSystem([\"i love you\", \"island\", \"ironman\", \"i love geeksforgeeks\"], [5,3,2,2])\n",
    "assert temp.input(\"i\") == [\"i love you\", \"island\",\"i love geeksforgeeks\"]\n",
    "assert temp.input(\" \") == [\"i love you\", \"i love geeksforgeeks\"]\n",
    "assert temp.input(\"a\") == []\n",
    "assert temp.input(\"#\") == []\n",
    "assert temp.input(\"i\") == ['i love you', 'island', 'i love geeksforgeeks']\n",
    "assert temp.input(\" \") == ['i love you', 'i love geeksforgeeks', 'i a']\n",
    "assert temp.input(\"a\") == ['i a']\n",
    "assert temp.input(\"m\") == []\n",
    "assert temp.input(\"#\") == []\n",
    "assert temp.input(\"i\") == ['i love you', 'island', 'i love geeksforgeeks']\n",
    "assert temp.input(\" \") == ['i love you', 'i love geeksforgeeks', 'i a']\n",
    "assert temp.input(\"a\") == ['i a', 'i am']\n",
    "assert temp.input(\"m\") == ['i am']\n",
    "assert temp.input(\" \") == []"
   ]
  },
  {
   "cell_type": "markdown",
   "id": "4629edb8",
   "metadata": {
    "papermill": {
     "duration": 0.011511,
     "end_time": "2024-07-08T17:07:12.125763",
     "exception": false,
     "start_time": "2024-07-08T17:07:12.114252",
     "status": "completed"
    },
    "tags": []
   },
   "source": [
    "Patterns practice"
   ]
  },
  {
   "cell_type": "code",
   "execution_count": 19,
   "id": "0a0790b9",
   "metadata": {
    "execution": {
     "iopub.execute_input": "2024-07-08T17:07:12.149427Z",
     "iopub.status.busy": "2024-07-08T17:07:12.149222Z",
     "iopub.status.idle": "2024-07-08T17:07:12.152724Z",
     "shell.execute_reply": "2024-07-08T17:07:12.152238Z"
    },
    "lines_to_next_cell": 1,
    "papermill": {
     "duration": 0.016699,
     "end_time": "2024-07-08T17:07:12.153826",
     "exception": false,
     "start_time": "2024-07-08T17:07:12.137127",
     "status": "completed"
    },
    "tags": []
   },
   "outputs": [
    {
     "name": "stdout",
     "output_type": "stream",
     "text": [
      "*****\n",
      "*****\n",
      "*****\n",
      "*****\n",
      "*****\n"
     ]
    }
   ],
   "source": [
    "def p1(N: int) -> None:\n",
    "    for i in range(N):\n",
    "        for j in range(N):\n",
    "            print('*', end='')\n",
    "        print()\n",
    "\n",
    "# Testing the solution\n",
    "p1(5)"
   ]
  },
  {
   "cell_type": "code",
   "execution_count": 20,
   "id": "3917a2b2",
   "metadata": {
    "execution": {
     "iopub.execute_input": "2024-07-08T17:07:12.177646Z",
     "iopub.status.busy": "2024-07-08T17:07:12.177335Z",
     "iopub.status.idle": "2024-07-08T17:07:12.180877Z",
     "shell.execute_reply": "2024-07-08T17:07:12.180360Z"
    },
    "lines_to_next_cell": 1,
    "papermill": {
     "duration": 0.016735,
     "end_time": "2024-07-08T17:07:12.181987",
     "exception": false,
     "start_time": "2024-07-08T17:07:12.165252",
     "status": "completed"
    },
    "tags": []
   },
   "outputs": [
    {
     "name": "stdout",
     "output_type": "stream",
     "text": [
      "*\n",
      "**\n",
      "***\n",
      "****\n",
      "*****\n"
     ]
    }
   ],
   "source": [
    "def p2(N: int) -> None:\n",
    "    for i in range(N):\n",
    "        for j in range(i + 1):\n",
    "            print(\"*\", end='')\n",
    "        print()\n",
    "\n",
    "# Testing the solution\n",
    "p2(5)"
   ]
  },
  {
   "cell_type": "code",
   "execution_count": 21,
   "id": "1a2807e5",
   "metadata": {
    "execution": {
     "iopub.execute_input": "2024-07-08T17:07:12.206240Z",
     "iopub.status.busy": "2024-07-08T17:07:12.205803Z",
     "iopub.status.idle": "2024-07-08T17:07:12.209426Z",
     "shell.execute_reply": "2024-07-08T17:07:12.208998Z"
    },
    "lines_to_next_cell": 1,
    "papermill": {
     "duration": 0.016829,
     "end_time": "2024-07-08T17:07:12.210456",
     "exception": false,
     "start_time": "2024-07-08T17:07:12.193627",
     "status": "completed"
    },
    "tags": []
   },
   "outputs": [
    {
     "name": "stdout",
     "output_type": "stream",
     "text": [
      "1 \n",
      "1 2 \n",
      "1 2 3 \n",
      "1 2 3 4 \n",
      "1 2 3 4 5 \n"
     ]
    }
   ],
   "source": [
    "def p3(N: int) -> None:\n",
    "    for i in range(N):\n",
    "        for j in range(i + 1):\n",
    "            print(j + 1, end=' ')\n",
    "        print()\n",
    "\n",
    "# Testing the solution\n",
    "p3(5)"
   ]
  },
  {
   "cell_type": "code",
   "execution_count": 22,
   "id": "a81ab688",
   "metadata": {
    "execution": {
     "iopub.execute_input": "2024-07-08T17:07:12.235101Z",
     "iopub.status.busy": "2024-07-08T17:07:12.234683Z",
     "iopub.status.idle": "2024-07-08T17:07:12.238352Z",
     "shell.execute_reply": "2024-07-08T17:07:12.237911Z"
    },
    "lines_to_next_cell": 1,
    "papermill": {
     "duration": 0.017023,
     "end_time": "2024-07-08T17:07:12.239361",
     "exception": false,
     "start_time": "2024-07-08T17:07:12.222338",
     "status": "completed"
    },
    "tags": []
   },
   "outputs": [
    {
     "name": "stdout",
     "output_type": "stream",
     "text": [
      "1 \n",
      "2 2 \n",
      "3 3 3 \n",
      "4 4 4 4 \n",
      "5 5 5 5 5 \n"
     ]
    }
   ],
   "source": [
    "def p4(N: int) -> None:\n",
    "    for i in range(N):\n",
    "        for j in range(i + 1):\n",
    "            print(i + 1, end=' ')\n",
    "        print()\n",
    "\n",
    "# Testing the solution\n",
    "p4(5)"
   ]
  },
  {
   "cell_type": "code",
   "execution_count": 23,
   "id": "a3ae50be",
   "metadata": {
    "execution": {
     "iopub.execute_input": "2024-07-08T17:07:12.263644Z",
     "iopub.status.busy": "2024-07-08T17:07:12.263314Z",
     "iopub.status.idle": "2024-07-08T17:07:12.266998Z",
     "shell.execute_reply": "2024-07-08T17:07:12.266563Z"
    },
    "lines_to_next_cell": 1,
    "papermill": {
     "duration": 0.016931,
     "end_time": "2024-07-08T17:07:12.267991",
     "exception": false,
     "start_time": "2024-07-08T17:07:12.251060",
     "status": "completed"
    },
    "tags": []
   },
   "outputs": [
    {
     "name": "stdout",
     "output_type": "stream",
     "text": [
      "*****\n",
      "****\n",
      "***\n",
      "**\n",
      "*\n"
     ]
    }
   ],
   "source": [
    "def p5(N: int) -> None:\n",
    "    for i in range(N, 0, -1):\n",
    "        for j in range(i):\n",
    "            print(\"*\", end='')\n",
    "        print()\n",
    "\n",
    "# Testing the solution\n",
    "p5(5)"
   ]
  },
  {
   "cell_type": "code",
   "execution_count": 24,
   "id": "2c02ed3c",
   "metadata": {
    "execution": {
     "iopub.execute_input": "2024-07-08T17:07:12.292450Z",
     "iopub.status.busy": "2024-07-08T17:07:12.292057Z",
     "iopub.status.idle": "2024-07-08T17:07:12.295744Z",
     "shell.execute_reply": "2024-07-08T17:07:12.295305Z"
    },
    "lines_to_next_cell": 1,
    "papermill": {
     "duration": 0.017027,
     "end_time": "2024-07-08T17:07:12.296752",
     "exception": false,
     "start_time": "2024-07-08T17:07:12.279725",
     "status": "completed"
    },
    "tags": []
   },
   "outputs": [
    {
     "name": "stdout",
     "output_type": "stream",
     "text": [
      "12345\n",
      "1234\n",
      "123\n",
      "12\n",
      "1\n"
     ]
    }
   ],
   "source": [
    "def p6(N: int) -> None:\n",
    "    for i in range(N, 0, -1):\n",
    "        for j in range(i):\n",
    "            print(j + 1, end='')\n",
    "        print()\n",
    "\n",
    "# Testing the solution\n",
    "p6(5)"
   ]
  },
  {
   "cell_type": "code",
   "execution_count": 25,
   "id": "126c1e65",
   "metadata": {
    "execution": {
     "iopub.execute_input": "2024-07-08T17:07:12.321078Z",
     "iopub.status.busy": "2024-07-08T17:07:12.320893Z",
     "iopub.status.idle": "2024-07-08T17:07:12.325391Z",
     "shell.execute_reply": "2024-07-08T17:07:12.324940Z"
    },
    "lines_to_next_cell": 1,
    "papermill": {
     "duration": 0.017857,
     "end_time": "2024-07-08T17:07:12.326435",
     "exception": false,
     "start_time": "2024-07-08T17:07:12.308578",
     "status": "completed"
    },
    "tags": []
   },
   "outputs": [
    {
     "name": "stdout",
     "output_type": "stream",
     "text": [
      "    *    \n",
      "   ***   \n",
      "  *****  \n",
      " ******* \n",
      "*********\n"
     ]
    }
   ],
   "source": [
    "def p7(N: int) -> None:\n",
    "    max_stars: int = (2 * N) - 1\n",
    "    for i in range(1, N + 1):\n",
    "        stars: int = (2 * i) - 1\n",
    "        half = (max_stars - stars) // 2\n",
    "        for j in range(half):\n",
    "            print(\" \", end='')\n",
    "        for j in range(stars):\n",
    "            print(\"*\", end='')\n",
    "        for j in range(half):\n",
    "            print(\" \", end='')\n",
    "        print()\n",
    "\n",
    "# Testing the solution\n",
    "p7(5)"
   ]
  },
  {
   "cell_type": "code",
   "execution_count": 26,
   "id": "cb4e9553",
   "metadata": {
    "execution": {
     "iopub.execute_input": "2024-07-08T17:07:12.351148Z",
     "iopub.status.busy": "2024-07-08T17:07:12.350724Z",
     "iopub.status.idle": "2024-07-08T17:07:12.355229Z",
     "shell.execute_reply": "2024-07-08T17:07:12.354725Z"
    },
    "lines_to_next_cell": 1,
    "papermill": {
     "duration": 0.017918,
     "end_time": "2024-07-08T17:07:12.356232",
     "exception": false,
     "start_time": "2024-07-08T17:07:12.338314",
     "status": "completed"
    },
    "tags": []
   },
   "outputs": [
    {
     "name": "stdout",
     "output_type": "stream",
     "text": [
      "*********\n",
      " ******* \n",
      "  *****  \n",
      "   ***   \n",
      "    *    \n"
     ]
    }
   ],
   "source": [
    "def p8(N: int) -> None:\n",
    "    max_stars: int = (2 * N) - 1\n",
    "    for i in range(N, 0, -1):\n",
    "        stars: int = (2 * i) - 1\n",
    "        half = (max_stars - stars) // 2\n",
    "        for j in range(half):\n",
    "            print(\" \", end='')\n",
    "        for j in range(stars):\n",
    "            print(\"*\", end='')\n",
    "        for j in range(half):\n",
    "            print(\" \", end='')\n",
    "        print()\n",
    "\n",
    "# Testing the solution\n",
    "p8(5)"
   ]
  },
  {
   "cell_type": "code",
   "execution_count": 27,
   "id": "7c80140a",
   "metadata": {
    "execution": {
     "iopub.execute_input": "2024-07-08T17:07:12.380720Z",
     "iopub.status.busy": "2024-07-08T17:07:12.380394Z",
     "iopub.status.idle": "2024-07-08T17:07:12.383946Z",
     "shell.execute_reply": "2024-07-08T17:07:12.383473Z"
    },
    "lines_to_next_cell": 1,
    "papermill": {
     "duration": 0.016931,
     "end_time": "2024-07-08T17:07:12.384986",
     "exception": false,
     "start_time": "2024-07-08T17:07:12.368055",
     "status": "completed"
    },
    "tags": []
   },
   "outputs": [
    {
     "name": "stdout",
     "output_type": "stream",
     "text": [
      "    *    \n",
      "   ***   \n",
      "  *****  \n",
      " ******* \n",
      "*********\n",
      "*********\n",
      " ******* \n",
      "  *****  \n",
      "   ***   \n",
      "    *    \n"
     ]
    }
   ],
   "source": [
    "def p9(N: int) -> None:\n",
    "    p7(N)\n",
    "    p8(N)\n",
    "\n",
    "# Testing the solution\n",
    "p9(5)"
   ]
  },
  {
   "cell_type": "code",
   "execution_count": 28,
   "id": "2e32fb2d",
   "metadata": {
    "execution": {
     "iopub.execute_input": "2024-07-08T17:07:12.409828Z",
     "iopub.status.busy": "2024-07-08T17:07:12.409403Z",
     "iopub.status.idle": "2024-07-08T17:07:12.413233Z",
     "shell.execute_reply": "2024-07-08T17:07:12.412825Z"
    },
    "lines_to_next_cell": 1,
    "papermill": {
     "duration": 0.017336,
     "end_time": "2024-07-08T17:07:12.414319",
     "exception": false,
     "start_time": "2024-07-08T17:07:12.396983",
     "status": "completed"
    },
    "tags": []
   },
   "outputs": [
    {
     "name": "stdout",
     "output_type": "stream",
     "text": [
      "*\n",
      "**\n",
      "***\n",
      "****\n",
      "*****\n",
      "****\n",
      "***\n",
      "**\n",
      "*\n"
     ]
    }
   ],
   "source": [
    "def p10(N: int) -> None:\n",
    "    for i in range(N):\n",
    "        for j in range(i + 1):\n",
    "            print(\"*\", end='')\n",
    "        print()\n",
    "\n",
    "    for i in range(N - 1, 0, -1):\n",
    "        for j in range(i):\n",
    "            print(\"*\", end='')\n",
    "        print()\n",
    "\n",
    "# Testing the solution\n",
    "p10(5)"
   ]
  },
  {
   "cell_type": "code",
   "execution_count": 29,
   "id": "36d6b021",
   "metadata": {
    "execution": {
     "iopub.execute_input": "2024-07-08T17:07:12.439211Z",
     "iopub.status.busy": "2024-07-08T17:07:12.438914Z",
     "iopub.status.idle": "2024-07-08T17:07:12.442332Z",
     "shell.execute_reply": "2024-07-08T17:07:12.441831Z"
    },
    "lines_to_next_cell": 1,
    "papermill": {
     "duration": 0.017155,
     "end_time": "2024-07-08T17:07:12.443419",
     "exception": false,
     "start_time": "2024-07-08T17:07:12.426264",
     "status": "completed"
    },
    "tags": []
   },
   "outputs": [
    {
     "name": "stdout",
     "output_type": "stream",
     "text": [
      "1 \n",
      "0 1 \n",
      "1 0 1 \n",
      "0 1 0 1 \n",
      "1 0 1 0 1 \n"
     ]
    }
   ],
   "source": [
    "def p11(N: int) -> None:\n",
    "    for i in range(N):\n",
    "        for j in range(i + 1):\n",
    "            print(1 if i % 2 == j % 2 else 0, end=\" \")\n",
    "        print()\n",
    "\n",
    "# Testing the solution\n",
    "p11(5)"
   ]
  },
  {
   "cell_type": "code",
   "execution_count": 30,
   "id": "ff248593",
   "metadata": {
    "execution": {
     "iopub.execute_input": "2024-07-08T17:07:12.468623Z",
     "iopub.status.busy": "2024-07-08T17:07:12.468290Z",
     "iopub.status.idle": "2024-07-08T17:07:12.472380Z",
     "shell.execute_reply": "2024-07-08T17:07:12.471906Z"
    },
    "lines_to_next_cell": 1,
    "papermill": {
     "duration": 0.017907,
     "end_time": "2024-07-08T17:07:12.473400",
     "exception": false,
     "start_time": "2024-07-08T17:07:12.455493",
     "status": "completed"
    },
    "tags": []
   },
   "outputs": [
    {
     "name": "stdout",
     "output_type": "stream",
     "text": [
      "1        1\n",
      "12      21\n",
      "123    321\n",
      "1234  4321\n",
      "1234554321\n"
     ]
    }
   ],
   "source": [
    "def p12(N: int) -> None:\n",
    "    for i in range(1, N + 1):\n",
    "        for j in range(1, N + 1):\n",
    "            print(j if i >= j else \" \", end=\"\")\n",
    "        for j in range(N, 0, -1):\n",
    "            print(j if i >= j else \" \", end=\"\")\n",
    "        print()\n",
    "\n",
    "# Testing the solution\n",
    "p12(5)"
   ]
  },
  {
   "cell_type": "code",
   "execution_count": 31,
   "id": "4cb3993a",
   "metadata": {
    "execution": {
     "iopub.execute_input": "2024-07-08T17:07:12.498506Z",
     "iopub.status.busy": "2024-07-08T17:07:12.498159Z",
     "iopub.status.idle": "2024-07-08T17:07:12.501693Z",
     "shell.execute_reply": "2024-07-08T17:07:12.501211Z"
    },
    "lines_to_next_cell": 1,
    "papermill": {
     "duration": 0.017234,
     "end_time": "2024-07-08T17:07:12.502795",
     "exception": false,
     "start_time": "2024-07-08T17:07:12.485561",
     "status": "completed"
    },
    "tags": []
   },
   "outputs": [
    {
     "name": "stdout",
     "output_type": "stream",
     "text": [
      "1 \n",
      "2 3 \n",
      "4 5 6 \n",
      "7 8 9 10 \n",
      "11 12 13 14 15 \n"
     ]
    }
   ],
   "source": [
    "def p13(N: int) -> None:\n",
    "    counter = 1\n",
    "    for i in range(1, N + 1):\n",
    "        for j in range(i):\n",
    "            print(counter, end=\" \")\n",
    "            counter += 1\n",
    "        print()\n",
    "\n",
    "# Testing the solution\n",
    "p13(5)"
   ]
  },
  {
   "cell_type": "code",
   "execution_count": 32,
   "id": "0adac77e",
   "metadata": {
    "execution": {
     "iopub.execute_input": "2024-07-08T17:07:12.527762Z",
     "iopub.status.busy": "2024-07-08T17:07:12.527567Z",
     "iopub.status.idle": "2024-07-08T17:07:12.531563Z",
     "shell.execute_reply": "2024-07-08T17:07:12.531137Z"
    },
    "lines_to_next_cell": 1,
    "papermill": {
     "duration": 0.017639,
     "end_time": "2024-07-08T17:07:12.532541",
     "exception": false,
     "start_time": "2024-07-08T17:07:12.514902",
     "status": "completed"
    },
    "tags": []
   },
   "outputs": [
    {
     "name": "stdout",
     "output_type": "stream",
     "text": [
      "A \n",
      "A B \n",
      "A B C \n",
      "A B C D \n",
      "A B C D E \n"
     ]
    }
   ],
   "source": [
    "def p14(N: int) -> None:\n",
    "    for i in range(1, N + 1):\n",
    "        for j in range(i):\n",
    "            print(chr(ord('A') + j), end=\" \")\n",
    "        print()\n",
    "\n",
    "# Testing the solution\n",
    "p14(5)"
   ]
  },
  {
   "cell_type": "code",
   "execution_count": 33,
   "id": "3918fd7d",
   "metadata": {
    "execution": {
     "iopub.execute_input": "2024-07-08T17:07:12.557609Z",
     "iopub.status.busy": "2024-07-08T17:07:12.557273Z",
     "iopub.status.idle": "2024-07-08T17:07:12.560970Z",
     "shell.execute_reply": "2024-07-08T17:07:12.560481Z"
    },
    "lines_to_next_cell": 1,
    "papermill": {
     "duration": 0.017366,
     "end_time": "2024-07-08T17:07:12.562040",
     "exception": false,
     "start_time": "2024-07-08T17:07:12.544674",
     "status": "completed"
    },
    "tags": []
   },
   "outputs": [
    {
     "name": "stdout",
     "output_type": "stream",
     "text": [
      "A B C D E \n",
      "A B C D \n",
      "A B C \n",
      "A B \n",
      "A \n"
     ]
    }
   ],
   "source": [
    "def p15(N: int) -> None:\n",
    "    for i in range(N, 0, -1):\n",
    "        for j in range(i):\n",
    "            print(chr(ord('A') + j), end=\" \")\n",
    "        print()\n",
    "\n",
    "# Testing the solution\n",
    "p15(5)"
   ]
  },
  {
   "cell_type": "code",
   "execution_count": 34,
   "id": "cc083076",
   "metadata": {
    "execution": {
     "iopub.execute_input": "2024-07-08T17:07:12.587274Z",
     "iopub.status.busy": "2024-07-08T17:07:12.587017Z",
     "iopub.status.idle": "2024-07-08T17:07:12.590548Z",
     "shell.execute_reply": "2024-07-08T17:07:12.590041Z"
    },
    "lines_to_next_cell": 1,
    "papermill": {
     "duration": 0.017364,
     "end_time": "2024-07-08T17:07:12.591614",
     "exception": false,
     "start_time": "2024-07-08T17:07:12.574250",
     "status": "completed"
    },
    "tags": []
   },
   "outputs": [
    {
     "name": "stdout",
     "output_type": "stream",
     "text": [
      "A \n",
      "B B \n",
      "C C C \n",
      "D D D D \n",
      "E E E E E \n"
     ]
    }
   ],
   "source": [
    "def p16(N: int) -> None:\n",
    "    for i in range(1, N + 1):\n",
    "        for j in range(i):\n",
    "            print(chr(ord('A') + i - 1), end=\" \")\n",
    "        print()\n",
    "\n",
    "# Testing the solution\n",
    "p16(5)"
   ]
  },
  {
   "cell_type": "code",
   "execution_count": 35,
   "id": "d9432d4b",
   "metadata": {
    "execution": {
     "iopub.execute_input": "2024-07-08T17:07:12.616806Z",
     "iopub.status.busy": "2024-07-08T17:07:12.616556Z",
     "iopub.status.idle": "2024-07-08T17:07:12.621322Z",
     "shell.execute_reply": "2024-07-08T17:07:12.620842Z"
    },
    "lines_to_next_cell": 1,
    "papermill": {
     "duration": 0.018557,
     "end_time": "2024-07-08T17:07:12.622430",
     "exception": false,
     "start_time": "2024-07-08T17:07:12.603873",
     "status": "completed"
    },
    "tags": []
   },
   "outputs": [
    {
     "name": "stdout",
     "output_type": "stream",
     "text": [
      "    A    \n",
      "   ABA   \n",
      "  ABCBA  \n",
      " ABCDCBA \n",
      "ABCDEDCBA\n"
     ]
    }
   ],
   "source": [
    "def p17(N: int) -> None:\n",
    "    max_width = (2 * N) - 1\n",
    "    for i in range(1, N + 1):\n",
    "        width = (2 * i) - 1\n",
    "        spaces = max_width - width\n",
    "        for j in range(spaces // 2):\n",
    "            print(\" \", end=\"\")\n",
    "        for j in range(i):\n",
    "            print(chr(ord('A') + j), end=\"\")\n",
    "        for j in range(i - 2, -1, -1):\n",
    "            print(chr(ord('A') + j), end=\"\")\n",
    "        for j in range(spaces // 2):\n",
    "            print(\" \", end=\"\")\n",
    "        print()\n",
    "\n",
    "# Testing the solution\n",
    "p17(5)"
   ]
  },
  {
   "cell_type": "code",
   "execution_count": 36,
   "id": "4633133c",
   "metadata": {
    "execution": {
     "iopub.execute_input": "2024-07-08T17:07:12.647844Z",
     "iopub.status.busy": "2024-07-08T17:07:12.647597Z",
     "iopub.status.idle": "2024-07-08T17:07:12.651119Z",
     "shell.execute_reply": "2024-07-08T17:07:12.650633Z"
    },
    "lines_to_next_cell": 1,
    "papermill": {
     "duration": 0.017363,
     "end_time": "2024-07-08T17:07:12.652135",
     "exception": false,
     "start_time": "2024-07-08T17:07:12.634772",
     "status": "completed"
    },
    "tags": []
   },
   "outputs": [
    {
     "name": "stdout",
     "output_type": "stream",
     "text": [
      "E \n",
      "D E \n",
      "C D E \n",
      "B C D E \n",
      "A B C D E \n"
     ]
    }
   ],
   "source": [
    "def p18(N: int) -> None:\n",
    "    for i in range(1, N + 1):\n",
    "        for j in range(N - i, N):\n",
    "            print(chr(ord('A') + j), end=' ')\n",
    "        print()\n",
    "\n",
    "# Testing the solution\n",
    "p18(5)"
   ]
  },
  {
   "cell_type": "code",
   "execution_count": 37,
   "id": "45cf811d",
   "metadata": {
    "execution": {
     "iopub.execute_input": "2024-07-08T17:07:12.677836Z",
     "iopub.status.busy": "2024-07-08T17:07:12.677320Z",
     "iopub.status.idle": "2024-07-08T17:07:12.682228Z",
     "shell.execute_reply": "2024-07-08T17:07:12.681693Z"
    },
    "lines_to_next_cell": 1,
    "papermill": {
     "duration": 0.018789,
     "end_time": "2024-07-08T17:07:12.683269",
     "exception": false,
     "start_time": "2024-07-08T17:07:12.664480",
     "status": "completed"
    },
    "tags": []
   },
   "outputs": [
    {
     "name": "stdout",
     "output_type": "stream",
     "text": [
      "**********\n",
      "****  ****\n",
      "***    ***\n",
      "**      **\n",
      "*        *\n",
      "*        *\n",
      "**      **\n",
      "***    ***\n",
      "****  ****\n",
      "**********\n"
     ]
    }
   ],
   "source": [
    "def p19(N: int) -> None:\n",
    "    max_width = 2 * N\n",
    "    for i_ in range(2 * N):\n",
    "        i = N - i_ if i_ < N else (i_ % N) + 1\n",
    "        for j in range(i):\n",
    "            print(\"*\", end='')\n",
    "        for j in range(max_width - (2 * i)):\n",
    "            print(\" \", end='')\n",
    "        for j in range(i):\n",
    "            print(\"*\", end='')\n",
    "        print()\n",
    "\n",
    "# Testing the solution\n",
    "p19(5)"
   ]
  },
  {
   "cell_type": "code",
   "execution_count": 38,
   "id": "da170774",
   "metadata": {
    "execution": {
     "iopub.execute_input": "2024-07-08T17:07:12.709118Z",
     "iopub.status.busy": "2024-07-08T17:07:12.708763Z",
     "iopub.status.idle": "2024-07-08T17:07:12.713251Z",
     "shell.execute_reply": "2024-07-08T17:07:12.712769Z"
    },
    "lines_to_next_cell": 1,
    "papermill": {
     "duration": 0.018463,
     "end_time": "2024-07-08T17:07:12.714276",
     "exception": false,
     "start_time": "2024-07-08T17:07:12.695813",
     "status": "completed"
    },
    "tags": []
   },
   "outputs": [
    {
     "name": "stdout",
     "output_type": "stream",
     "text": [
      "*        *\n",
      "**      **\n",
      "***    ***\n",
      "****  ****\n",
      "**********\n",
      "****  ****\n",
      "***    ***\n",
      "**      **\n",
      "*        *\n"
     ]
    }
   ],
   "source": [
    "def p20(N: int) -> None:\n",
    "    max_width = 2 * N\n",
    "    for i_ in range(2 * N - 1):\n",
    "        i = i_ + 1 if i_ < N else 2 * N - i_ - 1\n",
    "        for j in range(i):\n",
    "            print(\"*\", end='')\n",
    "        for j in range(max_width - 2 * i):\n",
    "            print(\" \", end='')\n",
    "        for j in range(i):\n",
    "            print(\"*\", end='')\n",
    "        print()\n",
    "\n",
    "# Testing the solution\n",
    "p20(5)"
   ]
  },
  {
   "cell_type": "code",
   "execution_count": 39,
   "id": "c9ec1076",
   "metadata": {
    "execution": {
     "iopub.execute_input": "2024-07-08T17:07:12.739900Z",
     "iopub.status.busy": "2024-07-08T17:07:12.739560Z",
     "iopub.status.idle": "2024-07-08T17:07:12.743325Z",
     "shell.execute_reply": "2024-07-08T17:07:12.742833Z"
    },
    "lines_to_next_cell": 1,
    "papermill": {
     "duration": 0.017738,
     "end_time": "2024-07-08T17:07:12.744412",
     "exception": false,
     "start_time": "2024-07-08T17:07:12.726674",
     "status": "completed"
    },
    "tags": []
   },
   "outputs": [
    {
     "name": "stdout",
     "output_type": "stream",
     "text": [
      "*****\n",
      "*   *\n",
      "*   *\n",
      "*   *\n",
      "*****\n"
     ]
    }
   ],
   "source": [
    "def p21(N: int) -> None:\n",
    "    for i in range(N):\n",
    "        for j in range(N):\n",
    "            print(\"*\" if i in (0, N - 1) or j in (0, N - 1) else \" \", end='')\n",
    "        print()\n",
    "\n",
    "# Testing the solution\n",
    "p21(5)"
   ]
  },
  {
   "cell_type": "code",
   "execution_count": 40,
   "id": "519e516c",
   "metadata": {
    "execution": {
     "iopub.execute_input": "2024-07-08T17:07:12.770955Z",
     "iopub.status.busy": "2024-07-08T17:07:12.770770Z",
     "iopub.status.idle": "2024-07-08T17:07:12.775571Z",
     "shell.execute_reply": "2024-07-08T17:07:12.775141Z"
    },
    "lines_to_next_cell": 1,
    "papermill": {
     "duration": 0.019308,
     "end_time": "2024-07-08T17:07:12.776646",
     "exception": false,
     "start_time": "2024-07-08T17:07:12.757338",
     "status": "completed"
    },
    "tags": []
   },
   "outputs": [
    {
     "name": "stdout",
     "output_type": "stream",
     "text": [
      "3 3 3 3 3 \n",
      "3 2 2 2 3 \n",
      "3 2 1 2 3 \n",
      "3 2 2 2 3 \n",
      "3 3 3 3 3 \n"
     ]
    }
   ],
   "source": [
    "def p22(N: int) -> None:\n",
    "    result: collections.deque[collections.deque[int]] = collections.deque([collections.deque([1])])\n",
    "    for i in range(2, N + 1):\n",
    "        for row in result:\n",
    "            row.appendleft(i)\n",
    "            row.append(i)\n",
    "        result.appendleft(collections.deque([i for _ in range(2 * i - 1)]))\n",
    "        result.append(collections.deque([i for _ in range(2 * i - 1)]))\n",
    "\n",
    "    for row in result:\n",
    "        for col in row:\n",
    "            print(col, end=' ')\n",
    "        print()\n",
    "\n",
    "# Testing the solution\n",
    "p22(3)"
   ]
  },
  {
   "cell_type": "markdown",
   "id": "9cdce5e5",
   "metadata": {
    "papermill": {
     "duration": 0.012817,
     "end_time": "2024-07-08T17:07:12.802322",
     "exception": false,
     "start_time": "2024-07-08T17:07:12.789505",
     "status": "completed"
    },
    "tags": []
   },
   "source": [
    "Basic Math"
   ]
  },
  {
   "cell_type": "code",
   "execution_count": 41,
   "id": "cd23fa37",
   "metadata": {
    "execution": {
     "iopub.execute_input": "2024-07-08T17:07:12.829066Z",
     "iopub.status.busy": "2024-07-08T17:07:12.828641Z",
     "iopub.status.idle": "2024-07-08T17:07:12.832227Z",
     "shell.execute_reply": "2024-07-08T17:07:12.831809Z"
    },
    "lines_to_next_cell": 1,
    "papermill": {
     "duration": 0.018028,
     "end_time": "2024-07-08T17:07:12.833260",
     "exception": false,
     "start_time": "2024-07-08T17:07:12.815232",
     "status": "completed"
    },
    "tags": []
   },
   "outputs": [],
   "source": [
    "def reverseDigits(N: int) -> int:\n",
    "    NR, num = 0, abs(N)\n",
    "    while num > 0:\n",
    "        digit, num = num % 10, num // 10\n",
    "        NR = (NR * 10) + digit\n",
    "    return NR if N > 0 else -NR\n",
    "\n",
    "# Testing the solution\n",
    "assert reverseDigits(-123) == -321"
   ]
  },
  {
   "cell_type": "code",
   "execution_count": 42,
   "id": "5d9d6817",
   "metadata": {
    "execution": {
     "iopub.execute_input": "2024-07-08T17:07:12.860058Z",
     "iopub.status.busy": "2024-07-08T17:07:12.859727Z",
     "iopub.status.idle": "2024-07-08T17:07:12.863196Z",
     "shell.execute_reply": "2024-07-08T17:07:12.862766Z"
    },
    "lines_to_next_cell": 1,
    "papermill": {
     "duration": 0.017971,
     "end_time": "2024-07-08T17:07:12.864179",
     "exception": false,
     "start_time": "2024-07-08T17:07:12.846208",
     "status": "completed"
    },
    "tags": []
   },
   "outputs": [],
   "source": [
    "def isPalindrome(N: int) -> bool:\n",
    "    def reverse(num: int) -> int:\n",
    "        numR = 0\n",
    "        while num > 0:\n",
    "            digit, num = num % 10, num // 10\n",
    "            numR = (numR * 10) + digit\n",
    "        return numR\n",
    "\n",
    "    return N >= 0 and N == reverse(N)\n",
    "\n",
    "# Testing the solution\n",
    "assert isPalindrome(121) == True"
   ]
  },
  {
   "cell_type": "markdown",
   "id": "012c2ce0",
   "metadata": {
    "papermill": {
     "duration": 0.012888,
     "end_time": "2024-07-08T17:07:12.890016",
     "exception": false,
     "start_time": "2024-07-08T17:07:12.877128",
     "status": "completed"
    },
    "tags": []
   },
   "source": []
  },
  {
   "cell_type": "code",
   "execution_count": 43,
   "id": "389e84de",
   "metadata": {
    "execution": {
     "iopub.execute_input": "2024-07-08T17:07:12.916860Z",
     "iopub.status.busy": "2024-07-08T17:07:12.916546Z",
     "iopub.status.idle": "2024-07-08T17:07:12.922009Z",
     "shell.execute_reply": "2024-07-08T17:07:12.921546Z"
    },
    "lines_to_next_cell": 1,
    "papermill": {
     "duration": 0.020026,
     "end_time": "2024-07-08T17:07:12.923034",
     "exception": false,
     "start_time": "2024-07-08T17:07:12.903008",
     "status": "completed"
    },
    "tags": []
   },
   "outputs": [],
   "source": [
    "def lcmAndGcd(n1: int , n2: int) -> tuple[int, int]:\n",
    "    def primeFactors(n: int) -> dict[int, int]:\n",
    "        factors: collections.defaultdict[int, int] = collections.defaultdict(int)\n",
    "        curr = 2\n",
    "        while curr <= n:\n",
    "            if n % curr == 0:\n",
    "                n //= curr\n",
    "                factors[curr] += 1\n",
    "            else:\n",
    "                curr += 1\n",
    "        return factors\n",
    "\n",
    "    pf1, pf2 = primeFactors(n1), primeFactors(n2)\n",
    "    factors: set[int] = {*pf1.keys(), *pf2.keys()}\n",
    "    lcm = gcd = 1\n",
    "    for factor in factors:\n",
    "        min_, max_ = min(pf1[factor], pf2[factor]), max(pf1[factor], pf2[factor])\n",
    "        if min_ != 0:\n",
    "            gcd *= factor ** min_\n",
    "        if max_ != 0:\n",
    "            lcm *= factor ** max_\n",
    "\n",
    "    return lcm, gcd\n",
    "#\n",
    "# Testing the solution\n",
    "assert lcmAndGcd(5, 10) == (10, 5)\n",
    "assert lcmAndGcd(14, 8) == (56, 2)\n",
    "assert lcmAndGcd(8, 42) == (168, 2)"
   ]
  },
  {
   "cell_type": "code",
   "execution_count": 44,
   "id": "bf026496",
   "metadata": {
    "execution": {
     "iopub.execute_input": "2024-07-08T17:07:12.950031Z",
     "iopub.status.busy": "2024-07-08T17:07:12.949831Z",
     "iopub.status.idle": "2024-07-08T17:07:12.954198Z",
     "shell.execute_reply": "2024-07-08T17:07:12.953749Z"
    },
    "lines_to_next_cell": 1,
    "papermill": {
     "duration": 0.019198,
     "end_time": "2024-07-08T17:07:12.955195",
     "exception": false,
     "start_time": "2024-07-08T17:07:12.935997",
     "status": "completed"
    },
    "tags": []
   },
   "outputs": [],
   "source": [
    "def lcmAndGcdOptimal(n1: int , n2: int) -> tuple[int, int]:\n",
    "    \"\"\"\n",
    "    Euclidean algo: GCD remains same even if greater of two numbers is subtracted with the smaller number\n",
    "    Continously subtract greater by smaller until we get a 0.\n",
    "    \"\"\"\n",
    "    def gcd(n1: int, n2: int) -> int:\n",
    "        while n1 != 0 and n2 != 0:\n",
    "            n1, n2 = sorted([n1, n2])\n",
    "            n1, n2 = n1, n2 - n1\n",
    "        return max(n1, n2)\n",
    "\n",
    "    gcd_ = gcd(n1, n2)\n",
    "    lcm_ = (n1 * n2) // gcd_\n",
    "    return lcm_, gcd_\n",
    "\n",
    "# Testing the solution\n",
    "assert lcmAndGcdOptimal(5, 10) == (10, 5)\n",
    "assert lcmAndGcdOptimal(14, 8) == (56, 2)\n",
    "assert lcmAndGcdOptimal(8, 42) == (168, 2)"
   ]
  },
  {
   "cell_type": "code",
   "execution_count": 45,
   "id": "e6aa105e",
   "metadata": {
    "execution": {
     "iopub.execute_input": "2024-07-08T17:07:12.982171Z",
     "iopub.status.busy": "2024-07-08T17:07:12.981876Z",
     "iopub.status.idle": "2024-07-08T17:07:12.985668Z",
     "shell.execute_reply": "2024-07-08T17:07:12.985175Z"
    },
    "lines_to_next_cell": 1,
    "papermill": {
     "duration": 0.018401,
     "end_time": "2024-07-08T17:07:12.986688",
     "exception": false,
     "start_time": "2024-07-08T17:07:12.968287",
     "status": "completed"
    },
    "tags": []
   },
   "outputs": [],
   "source": [
    "def armstrong(N: int) -> bool:\n",
    "    def countDigits(n: int) -> int:\n",
    "        digits = 0\n",
    "        while n > 0:\n",
    "            digits, n = digits + 1, n // 10\n",
    "        return digits\n",
    "\n",
    "    total, n, K = 0, N, countDigits(N)\n",
    "    while n > 0:\n",
    "        digit, n = n % 10, n // 10\n",
    "        total +=digit ** K\n",
    "\n",
    "    return total == N\n",
    "\n",
    "# Testing the solution\n",
    "assert armstrong(371) == True\n",
    "assert armstrong(123) == False"
   ]
  },
  {
   "cell_type": "code",
   "execution_count": 46,
   "id": "aa26b4c6",
   "metadata": {
    "execution": {
     "iopub.execute_input": "2024-07-08T17:07:13.013550Z",
     "iopub.status.busy": "2024-07-08T17:07:13.013122Z",
     "iopub.status.idle": "2024-07-08T17:07:13.016873Z",
     "shell.execute_reply": "2024-07-08T17:07:13.016345Z"
    },
    "lines_to_next_cell": 1,
    "papermill": {
     "duration": 0.018484,
     "end_time": "2024-07-08T17:07:13.018076",
     "exception": false,
     "start_time": "2024-07-08T17:07:12.999592",
     "status": "completed"
    },
    "tags": []
   },
   "outputs": [],
   "source": [
    "def printAllDivisors(N: int) -> list[int]:\n",
    "    result: set[int] = set()\n",
    "    i = 1\n",
    "    while i * i <= N:\n",
    "        if N % i == 0:\n",
    "            result.add(i)\n",
    "            result.add(N // i)\n",
    "        i += 1\n",
    "\n",
    "    return sorted(result)\n",
    "\n",
    "# Testing the solution\n",
    "assert printAllDivisors(12) == [1, 2, 3, 4, 6, 12]"
   ]
  },
  {
   "cell_type": "code",
   "execution_count": 47,
   "id": "c8135fe8",
   "metadata": {
    "execution": {
     "iopub.execute_input": "2024-07-08T17:07:13.045146Z",
     "iopub.status.busy": "2024-07-08T17:07:13.044777Z",
     "iopub.status.idle": "2024-07-08T17:07:13.048757Z",
     "shell.execute_reply": "2024-07-08T17:07:13.048338Z"
    },
    "lines_to_next_cell": 1,
    "papermill": {
     "duration": 0.018654,
     "end_time": "2024-07-08T17:07:13.049825",
     "exception": false,
     "start_time": "2024-07-08T17:07:13.031171",
     "status": "completed"
    },
    "tags": []
   },
   "outputs": [],
   "source": [
    "def minJumps(arr: list[int], N: int) -> int:\n",
    "    \"\"\"\n",
    "    Greedy Approach = Time: O(N), Space: O(1)\n",
    "\n",
    "    Keep track of the range we can jump into with minimum number of steps\n",
    "    For jump = 0, we can jump to index = 0 (left = right = 0)\n",
    "\n",
    "    For each iteration through range, compute maximum range we can jump into.\n",
    "    As we move with the next iteration, jumps = jumps + 1.\n",
    "    Again recompute the next range\n",
    "    \"\"\"\n",
    "    jumps = left = right = 0\n",
    "    while right < N - 1:\n",
    "        max_idx = 0\n",
    "        for i in range(left, right + 1):\n",
    "            max_idx = max(max_idx, i + arr[i])\n",
    "        # For next iteration, we start with where we left off in the previous range (right + 1)\n",
    "        jumps, left, right = jumps + 1, right + 1, max_idx\n",
    "\n",
    "    return jumps\n",
    "\n",
    "# Testing the solution\n",
    "assert minJumps([1,3,5,8,9,2,6,7,6,8,9], 11) == 3"
   ]
  },
  {
   "cell_type": "markdown",
   "id": "bc8d59b3",
   "metadata": {
    "papermill": {
     "duration": 0.013276,
     "end_time": "2024-07-08T17:07:13.076253",
     "exception": false,
     "start_time": "2024-07-08T17:07:13.062977",
     "status": "completed"
    },
    "tags": []
   },
   "source": [
    "#### Basic Recursion"
   ]
  },
  {
   "cell_type": "code",
   "execution_count": 48,
   "id": "e69b9a66",
   "metadata": {
    "execution": {
     "iopub.execute_input": "2024-07-08T17:07:13.103054Z",
     "iopub.status.busy": "2024-07-08T17:07:13.102867Z",
     "iopub.status.idle": "2024-07-08T17:07:13.106182Z",
     "shell.execute_reply": "2024-07-08T17:07:13.105748Z"
    },
    "lines_to_next_cell": 1,
    "papermill": {
     "duration": 0.017952,
     "end_time": "2024-07-08T17:07:13.107204",
     "exception": false,
     "start_time": "2024-07-08T17:07:13.089252",
     "status": "completed"
    },
    "tags": []
   },
   "outputs": [],
   "source": [
    "def sumOfSeries(n: int) -> int:\n",
    "    \"\"\"\n",
    "    Figured this out by checking if there is a pattern by printing all results\n",
    "    \"\"\"\n",
    "    sqrt = (n * (n + 1)) // 2\n",
    "    return sqrt * sqrt\n",
    "\n",
    "# Testing the solution\n",
    "assert sumOfSeries(5) == 225\n",
    "assert sumOfSeries(7) == 784"
   ]
  },
  {
   "cell_type": "code",
   "execution_count": 49,
   "id": "c2c609ac",
   "metadata": {
    "execution": {
     "iopub.execute_input": "2024-07-08T17:07:13.134090Z",
     "iopub.status.busy": "2024-07-08T17:07:13.133897Z",
     "iopub.status.idle": "2024-07-08T17:07:13.137918Z",
     "shell.execute_reply": "2024-07-08T17:07:13.137385Z"
    },
    "lines_to_next_cell": 1,
    "papermill": {
     "duration": 0.018706,
     "end_time": "2024-07-08T17:07:13.138952",
     "exception": false,
     "start_time": "2024-07-08T17:07:13.120246",
     "status": "completed"
    },
    "tags": []
   },
   "outputs": [],
   "source": [
    "def factorialNumbers(N: int) -> list[int]:\n",
    "    def factorial(i: int, curr: int) -> None:\n",
    "        if curr > N:\n",
    "            return\n",
    "        else:\n",
    "            result.append(curr)\n",
    "            factorial(i + 1, curr * (i + 1))\n",
    "\n",
    "    result: list[int] = []\n",
    "    factorial(1, 1)\n",
    "    return result\n",
    "\n",
    "# Testing the solution\n",
    "assert factorialNumbers(3) == [1, 2]\n",
    "assert factorialNumbers(6) == [1, 2, 6]"
   ]
  },
  {
   "cell_type": "code",
   "execution_count": 50,
   "id": "b6270d65",
   "metadata": {
    "execution": {
     "iopub.execute_input": "2024-07-08T17:07:13.165414Z",
     "iopub.status.busy": "2024-07-08T17:07:13.165089Z",
     "iopub.status.idle": "2024-07-08T17:07:13.169332Z",
     "shell.execute_reply": "2024-07-08T17:07:13.168864Z"
    },
    "lines_to_next_cell": 1,
    "papermill": {
     "duration": 0.018727,
     "end_time": "2024-07-08T17:07:13.170443",
     "exception": false,
     "start_time": "2024-07-08T17:07:13.151716",
     "status": "completed"
    },
    "tags": []
   },
   "outputs": [],
   "source": [
    "def reverseArray(nums: list[int]):\n",
    "    def reverse(i: int, j: int) -> None:\n",
    "        if i >= j:\n",
    "            return\n",
    "        nums[i], nums[j] = nums[j], nums[i]\n",
    "        reverse(i + 1, j - 1)\n",
    "\n",
    "    N = len(nums)\n",
    "    reverse(0, N - 1)\n",
    "    return nums\n",
    "\n",
    "# Testing the solution\n",
    "assert reverseArray([1,2]) == [2,1]\n",
    "assert reverseArray([1,2,3,4]) == [4,3,2,1]"
   ]
  },
  {
   "cell_type": "code",
   "execution_count": 51,
   "id": "89cf59c4",
   "metadata": {
    "execution": {
     "iopub.execute_input": "2024-07-08T17:07:13.197220Z",
     "iopub.status.busy": "2024-07-08T17:07:13.197023Z",
     "iopub.status.idle": "2024-07-08T17:07:13.201471Z",
     "shell.execute_reply": "2024-07-08T17:07:13.201058Z"
    },
    "lines_to_next_cell": 1,
    "papermill": {
     "duration": 0.019199,
     "end_time": "2024-07-08T17:07:13.202532",
     "exception": false,
     "start_time": "2024-07-08T17:07:13.183333",
     "status": "completed"
    },
    "tags": []
   },
   "outputs": [],
   "source": [
    "def isPalindrome2(s: str) -> bool:\n",
    "    def check(i: int, j: int) -> bool:\n",
    "        if i >= j:\n",
    "            return True\n",
    "        elif not s[i].isalnum():\n",
    "            return check(i + 1, j)\n",
    "        elif not s[j].isalnum():\n",
    "            return check(i, j - 1)\n",
    "        else:\n",
    "            return  s[i].lower() == s[j].lower() and check(i + 1, j - 1)\n",
    "\n",
    "    N = len(s)\n",
    "    return check(0, N - 1)\n",
    "\n",
    "# Testing the solution\n",
    "assert isPalindrome2(\"A man, a plan, a canal: Panama\") == True\n",
    "assert isPalindrome2(\"race a car\") == False\n",
    "assert isPalindrome2(\"0P\") == False"
   ]
  },
  {
   "cell_type": "code",
   "execution_count": 52,
   "id": "bb5a8346",
   "metadata": {
    "execution": {
     "iopub.execute_input": "2024-07-08T17:07:13.229344Z",
     "iopub.status.busy": "2024-07-08T17:07:13.229167Z",
     "iopub.status.idle": "2024-07-08T17:07:13.234155Z",
     "shell.execute_reply": "2024-07-08T17:07:13.233711Z"
    },
    "lines_to_next_cell": 1,
    "papermill": {
     "duration": 0.019587,
     "end_time": "2024-07-08T17:07:13.235215",
     "exception": false,
     "start_time": "2024-07-08T17:07:13.215628",
     "status": "completed"
    },
    "tags": []
   },
   "outputs": [],
   "source": [
    "def frequencyCount(arr: list[int], N: int, P: int) -> list[int]:\n",
    "    \"\"\"\n",
    "    Similar to finding the missing duplicate number problem.\n",
    "    \"\"\"\n",
    "    def backtrack(i: int) -> None:\n",
    "        if i >= N:\n",
    "            return\n",
    "        elif arr[i] <= 0:\n",
    "            arr[i] -= 1\n",
    "        else:\n",
    "            arr[i], next_ = -1, arr[i] - 1\n",
    "            backtrack(next_)\n",
    "\n",
    "    for i in range(N):\n",
    "        if arr[i] > 0:\n",
    "            arr[i], next_ = 0, arr[i] - 1\n",
    "            backtrack(next_)\n",
    "\n",
    "    for i in range(N):\n",
    "        arr[i] = abs(arr[i])\n",
    "\n",
    "    return arr\n",
    "\n",
    "# Testing the solution\n",
    "assert frequencyCount([2, 3, 2, 3, 5], 5, 5) == [0, 2, 2, 0, 1]\n",
    "assert frequencyCount([3, 3, 3, 3], 4, 3) == [0, 0, 4, 0]\n",
    "assert frequencyCount([8, 9], 2, 9)"
   ]
  },
  {
   "cell_type": "code",
   "execution_count": 53,
   "id": "1ece5c67",
   "metadata": {
    "execution": {
     "iopub.execute_input": "2024-07-08T17:07:13.261872Z",
     "iopub.status.busy": "2024-07-08T17:07:13.261547Z",
     "iopub.status.idle": "2024-07-08T17:07:13.266600Z",
     "shell.execute_reply": "2024-07-08T17:07:13.266166Z"
    },
    "lines_to_next_cell": 1,
    "papermill": {
     "duration": 0.019388,
     "end_time": "2024-07-08T17:07:13.267604",
     "exception": false,
     "start_time": "2024-07-08T17:07:13.248216",
     "status": "completed"
    },
    "tags": []
   },
   "outputs": [],
   "source": [
    "def frequencyCountGFG(arr: list[int], N: int, P: int) -> list[int]:\n",
    "    \"\"\"\n",
    "    Same idea but a diff approach: -ve values represent integers\n",
    "    Instead of backtracking, we can swap with i until we hit a freq\n",
    "    \"\"\"\n",
    "    for i in range(N):\n",
    "        while arr[i] > 0:\n",
    "            j = arr[i] - 1\n",
    "            if j >= N:\n",
    "                arr[i] = 0\n",
    "            elif arr[j] <= 0: # j < N and arr[j] <= 0 (arr[j] is a freq)\n",
    "                arr[j] -= 1\n",
    "                arr[i] = 0\n",
    "            else: # j < N and arr[j] > 0 (arr[j] is a number, we swap)\n",
    "                arr[i], arr[j] = arr[j], arr[i]\n",
    "                arr[j] = -1\n",
    "\n",
    "    for i in range(N):\n",
    "        arr[i] = abs(arr[i])\n",
    "\n",
    "    return arr\n",
    "\n",
    "assert frequencyCountGFG([2, 3, 2, 3, 5], 5, 5) == [0, 2, 2, 0, 1]\n",
    "assert frequencyCountGFG([3, 3, 3, 3], 4, 3) == [0, 0, 4, 0]\n",
    "assert frequencyCountGFG([8, 9], 2, 9)"
   ]
  },
  {
   "cell_type": "markdown",
   "id": "8fe0125c",
   "metadata": {
    "papermill": {
     "duration": 0.012935,
     "end_time": "2024-07-08T17:07:13.293476",
     "exception": false,
     "start_time": "2024-07-08T17:07:13.280541",
     "status": "completed"
    },
    "tags": []
   },
   "source": [
    "LC Medium: https://leetcode.com/problems/frequency-of-the-most-frequent-element/description/"
   ]
  },
  {
   "cell_type": "code",
   "execution_count": 54,
   "id": "ad477e2a",
   "metadata": {
    "execution": {
     "iopub.execute_input": "2024-07-08T17:07:13.320073Z",
     "iopub.status.busy": "2024-07-08T17:07:13.319915Z",
     "iopub.status.idle": "2024-07-08T17:07:13.324938Z",
     "shell.execute_reply": "2024-07-08T17:07:13.324502Z"
    },
    "lines_to_next_cell": 1,
    "papermill": {
     "duration": 0.01954,
     "end_time": "2024-07-08T17:07:13.326021",
     "exception": false,
     "start_time": "2024-07-08T17:07:13.306481",
     "status": "completed"
    },
    "tags": []
   },
   "outputs": [],
   "source": [
    "# Had to see the hint that is a sliding window problem\n",
    "# https://leetcode.com/problems/frequency-of-the-most-frequent-element/submissions/1309518869\n",
    "def maxFrequency(nums: list[int], k: int) -> int:\n",
    "    nums.sort()\n",
    "    N, max_freq, i, j, curr_max, cost = len(nums), 1, 0, 0, nums[0], 0\n",
    "    while i < N and j < N:\n",
    "        if cost <= k:\n",
    "            max_freq = max(max_freq, j - i + 1)\n",
    "            j += 1\n",
    "            if j < N:\n",
    "                cost += (nums[j] - curr_max) * (j - i)\n",
    "                curr_max = max(curr_max, nums[j])\n",
    "        else:\n",
    "            cost -= curr_max - nums[i]\n",
    "            i += 1\n",
    "\n",
    "    return max_freq\n",
    "\n",
    "# Testing the solution\n",
    "assert maxFrequency([1,1,1,1,1,1,11,11,11,12,12,12,12,12,12,12,12], 10) == 11\n",
    "assert maxFrequency([1], 10) == 1\n",
    "assert maxFrequency([3,9,6], 2) == 1\n",
    "assert maxFrequency([1,4,8,13], 5) == 2"
   ]
  },
  {
   "cell_type": "code",
   "execution_count": 55,
   "id": "226b20de",
   "metadata": {
    "execution": {
     "iopub.execute_input": "2024-07-08T17:07:13.352653Z",
     "iopub.status.busy": "2024-07-08T17:07:13.352451Z",
     "iopub.status.idle": "2024-07-08T17:07:13.357564Z",
     "shell.execute_reply": "2024-07-08T17:07:13.357089Z"
    },
    "lines_to_next_cell": 1,
    "papermill": {
     "duration": 0.019688,
     "end_time": "2024-07-08T17:07:13.358629",
     "exception": false,
     "start_time": "2024-07-08T17:07:13.338941",
     "status": "completed"
    },
    "tags": []
   },
   "outputs": [],
   "source": [
    "# https://leetcode.com/problems/frequency-of-the-most-frequent-element/submissions/1309910554/\n",
    "def maxFrequencyBetter(nums: list[int], k: int) -> int:\n",
    "    \"\"\"\n",
    "    Continue expanding if cost <= k.\n",
    "    If cost exceeds k, slide.\n",
    "    \"\"\"\n",
    "    nums.sort()\n",
    "    N, max_window, cost, curr_max = len(nums), 1, 0, nums[0]\n",
    "    i, j = 0, 1\n",
    "    while j < N:\n",
    "\n",
    "        # Continue expanding always\n",
    "        cost += (nums[j] - curr_max) * (j - i)\n",
    "        curr_max = max(curr_max, nums[j])\n",
    "        j += 1\n",
    "\n",
    "        if cost <= k:\n",
    "            max_window = max(max_window, j - i)\n",
    "        else: # Shrink window\n",
    "            cost -= curr_max - nums[i]\n",
    "            i += 1\n",
    "\n",
    "    return max_window\n",
    "\n",
    "# Testing the solution\n",
    "assert maxFrequencyBetter([1,1,1,1,1,1,11,11,11,12,12,12,12,12,12,12,12], 10) == 11\n",
    "assert maxFrequencyBetter([1], 10) == 1\n",
    "assert maxFrequencyBetter([3,9,6], 2) == 1\n",
    "assert maxFrequencyBetter([1,4,8,13], 5) == 2"
   ]
  },
  {
   "cell_type": "markdown",
   "id": "709133f7",
   "metadata": {
    "papermill": {
     "duration": 0.014066,
     "end_time": "2024-07-08T17:07:13.385632",
     "exception": false,
     "start_time": "2024-07-08T17:07:13.371566",
     "status": "completed"
    },
    "tags": []
   },
   "source": [
    "Sorting - 1"
   ]
  },
  {
   "cell_type": "code",
   "execution_count": 56,
   "id": "5f48c157",
   "metadata": {
    "execution": {
     "iopub.execute_input": "2024-07-08T17:07:13.412180Z",
     "iopub.status.busy": "2024-07-08T17:07:13.411779Z",
     "iopub.status.idle": "2024-07-08T17:07:13.415760Z",
     "shell.execute_reply": "2024-07-08T17:07:13.415240Z"
    },
    "lines_to_next_cell": 1,
    "papermill": {
     "duration": 0.018474,
     "end_time": "2024-07-08T17:07:13.416934",
     "exception": false,
     "start_time": "2024-07-08T17:07:13.398460",
     "status": "completed"
    },
    "tags": []
   },
   "outputs": [],
   "source": [
    "def ssort(nums: list[int]) -> list[int]:\n",
    "    \"\"\"\n",
    "    Find the minimum and put it at the right place. Repeat for each index\n",
    "    \"\"\"\n",
    "    N = len(nums)\n",
    "    for i in range(N - 1):\n",
    "        min_idx = i\n",
    "        for j in range(i, N):\n",
    "            if nums[j] < nums[min_idx]:\n",
    "                min_idx = j\n",
    "        nums[i], nums[min_idx] = nums[min_idx], nums[i]\n",
    "\n",
    "    return nums\n",
    "\n",
    "# Testing the solution\n",
    "assert ssort([2,3,1,2,3,4]) == [1,2,2,3,3,4]"
   ]
  },
  {
   "cell_type": "code",
   "execution_count": 57,
   "id": "ca02da2e",
   "metadata": {
    "execution": {
     "iopub.execute_input": "2024-07-08T17:07:13.444035Z",
     "iopub.status.busy": "2024-07-08T17:07:13.443637Z",
     "iopub.status.idle": "2024-07-08T17:07:13.449354Z",
     "shell.execute_reply": "2024-07-08T17:07:13.448842Z"
    },
    "lines_to_next_cell": 1,
    "papermill": {
     "duration": 0.020459,
     "end_time": "2024-07-08T17:07:13.450454",
     "exception": false,
     "start_time": "2024-07-08T17:07:13.429995",
     "status": "completed"
    },
    "tags": []
   },
   "outputs": [],
   "source": [
    "def bsort(nums: list[int]) -> list[int]:\n",
    "    \"\"\"\n",
    "    Compares adjacent elements and places greatest element at the last of the window\n",
    "    Best: O (N), Worst / Avg: O(N ^ 2)\n",
    "    \"\"\"\n",
    "    N = len(nums)\n",
    "    for i in range(N):\n",
    "        swapped: bool = False\n",
    "        for j in range(N - i - 1):\n",
    "            if nums[j] > nums[j + 1]:\n",
    "                nums[j], nums[j + 1] = nums[j + 1], nums[j]\n",
    "                swapped = True\n",
    "\n",
    "        if not swapped:\n",
    "            break\n",
    "\n",
    "    return nums\n",
    "\n",
    "# Testing the solution\n",
    "assert bsort([2,3,1,2,3,4]) == [1,2,2,3,3,4]\n",
    "assert bsort([1,2,3,4,5]) == [1,2,3,4,5]"
   ]
  },
  {
   "cell_type": "code",
   "execution_count": 58,
   "id": "6c55c24f",
   "metadata": {
    "execution": {
     "iopub.execute_input": "2024-07-08T17:07:13.477091Z",
     "iopub.status.busy": "2024-07-08T17:07:13.476676Z",
     "iopub.status.idle": "2024-07-08T17:07:13.480730Z",
     "shell.execute_reply": "2024-07-08T17:07:13.480313Z"
    },
    "lines_to_next_cell": 1,
    "papermill": {
     "duration": 0.018531,
     "end_time": "2024-07-08T17:07:13.481789",
     "exception": false,
     "start_time": "2024-07-08T17:07:13.463258",
     "status": "completed"
    },
    "tags": []
   },
   "outputs": [],
   "source": [
    "def isort(nums: list[int]) -> list[int]:\n",
    "    \"\"\"\n",
    "    Avg, Worst: O (N ^ 2), Best: O(N)\n",
    "    For each element, make sure it is inserted correctly\n",
    "    \"\"\"\n",
    "    N = len(nums)\n",
    "    for i in range(N):\n",
    "        j = i\n",
    "        while j > 0 and nums[j] < nums[j - 1]:\n",
    "            nums[j], nums[j - 1] = nums[j - 1], nums[j]\n",
    "            j -= 1\n",
    "    return nums\n",
    "\n",
    "# Testing the solution\n",
    "assert isort([2,3,1,2,3,4]) == [1,2,2,3,3,4]\n",
    "assert isort([1,2,3,4,5]) == [1,2,3,4,5]"
   ]
  },
  {
   "cell_type": "code",
   "execution_count": 59,
   "id": "b83bbe39",
   "metadata": {
    "execution": {
     "iopub.execute_input": "2024-07-08T17:07:13.508607Z",
     "iopub.status.busy": "2024-07-08T17:07:13.508278Z",
     "iopub.status.idle": "2024-07-08T17:07:13.512466Z",
     "shell.execute_reply": "2024-07-08T17:07:13.511939Z"
    },
    "lines_to_next_cell": 1,
    "papermill": {
     "duration": 0.018787,
     "end_time": "2024-07-08T17:07:13.513582",
     "exception": false,
     "start_time": "2024-07-08T17:07:13.494795",
     "status": "completed"
    },
    "tags": []
   },
   "outputs": [],
   "source": [
    "def isort2(nums: list[int]) -> list[int]:\n",
    "    \"\"\"\n",
    "    Avg, Worst: O (N ^ 2), Best: O(N)\n",
    "    For each element, make sure it is inserted correctly\n",
    "    \"\"\"\n",
    "    N = len(nums)\n",
    "    for i in range(1, N):\n",
    "        curr, j = nums[i], i - 1\n",
    "        while j >= 0 and nums[j] > curr:\n",
    "            nums[j + 1] = nums[j]\n",
    "            j -= 1\n",
    "        nums[j + 1] = curr\n",
    "\n",
    "    return nums\n",
    "\n",
    "# Testing the solution\n",
    "assert isort2([2,3,1,2,3,4]) == [1,2,2,3,3,4]\n",
    "assert isort2([1,2,3,4,5]) == [1,2,3,4,5]"
   ]
  },
  {
   "cell_type": "markdown",
   "id": "06a9c2c1",
   "metadata": {
    "papermill": {
     "duration": 0.013008,
     "end_time": "2024-07-08T17:07:13.539660",
     "exception": false,
     "start_time": "2024-07-08T17:07:13.526652",
     "status": "completed"
    },
    "tags": []
   },
   "source": [
    "Code Gladiators Semi Final"
   ]
  },
  {
   "cell_type": "code",
   "execution_count": 60,
   "id": "fcda3819",
   "metadata": {
    "execution": {
     "iopub.execute_input": "2024-07-08T17:07:13.569897Z",
     "iopub.status.busy": "2024-07-08T17:07:13.569580Z",
     "iopub.status.idle": "2024-07-08T17:07:13.574586Z",
     "shell.execute_reply": "2024-07-08T17:07:13.574091Z"
    },
    "lines_to_next_cell": 1,
    "papermill": {
     "duration": 0.02121,
     "end_time": "2024-07-08T17:07:13.575608",
     "exception": false,
     "start_time": "2024-07-08T17:07:13.554398",
     "status": "completed"
    },
    "tags": []
   },
   "outputs": [],
   "source": [
    "# Q1\n",
    "def max_rides_q1(arr1: list[int], N1: int, arr2: list[int], N2: int, money: int) -> int:\n",
    "    i = j = rides = 0\n",
    "    while i < N1 or j < N2:\n",
    "        if i < N1 and arr1[i] <= money and (j >= N2 or arr1[i] <= arr2[j]):\n",
    "            rides, i, money = rides + 1, i + 1, money - arr1[i]\n",
    "        elif j < N2 and arr2[j] <= money and (i >= N1 or arr1[i] > arr2[j]):\n",
    "            rides, j, money = rides + 1, j + 1, money - arr2[j]\n",
    "        else:\n",
    "            break\n",
    "\n",
    "    return rides\n",
    "\n",
    "# Testing the solution\n",
    "assert max_rides_q1([5,3,6,8,10,20], 6, [4,4,4,6,7,10,4,8], 8, 20) == 5\n",
    "assert max_rides_q1([10,20,30,40], 4, [5,3,9,10,2,3,6,9,15], 9, 60) == 9"
   ]
  },
  {
   "cell_type": "markdown",
   "id": "ddd2b276",
   "metadata": {
    "papermill": {
     "duration": 0.013044,
     "end_time": "2024-07-08T17:07:13.601777",
     "exception": false,
     "start_time": "2024-07-08T17:07:13.588733",
     "status": "completed"
    },
    "tags": []
   },
   "source": [
    "Merge sort"
   ]
  },
  {
   "cell_type": "code",
   "execution_count": 61,
   "id": "9bae07ec",
   "metadata": {
    "execution": {
     "iopub.execute_input": "2024-07-08T17:07:13.628824Z",
     "iopub.status.busy": "2024-07-08T17:07:13.628382Z",
     "iopub.status.idle": "2024-07-08T17:07:13.633860Z",
     "shell.execute_reply": "2024-07-08T17:07:13.633396Z"
    },
    "lines_to_next_cell": 1,
    "papermill": {
     "duration": 0.020171,
     "end_time": "2024-07-08T17:07:13.634928",
     "exception": false,
     "start_time": "2024-07-08T17:07:13.614757",
     "status": "completed"
    },
    "tags": []
   },
   "outputs": [],
   "source": [
    "def msort(arr: list[int]) -> list[int]:\n",
    "    \"\"\"\n",
    "    Divide and merge\n",
    "    Best, Avg, Worst: O(n log n)\n",
    "    \"\"\"\n",
    "    def merge(arr1: list[int], arr2: list[int]) -> list[int]:\n",
    "        N1, N2, i, j = len(arr1), len(arr2), 0, 0\n",
    "        result: list[int] = []\n",
    "        while i < N1 or j < N2:\n",
    "            if j >= N2 or (i < N1 and arr1[i] <= arr2[j]):\n",
    "                result.append(arr1[i])\n",
    "                i += 1\n",
    "            else:\n",
    "                result.append(arr2[j])\n",
    "                j += 1\n",
    "\n",
    "        return result\n",
    "\n",
    "    N = len(arr)\n",
    "    if N == 1:\n",
    "        return arr\n",
    "    else:\n",
    "        mid = N // 2\n",
    "        left = msort(arr[:mid])\n",
    "        right = msort(arr[mid:])\n",
    "        return merge(left, right)\n",
    "\n",
    "# Testing the solution\n",
    "assert msort([5,4,3,2,1]) == [1,2,3,4,5]\n",
    "assert msort([2,1]) == [1,2]\n",
    "assert msort([1]) == [1]"
   ]
  },
  {
   "cell_type": "code",
   "execution_count": 62,
   "id": "64ad8a6d",
   "metadata": {
    "execution": {
     "iopub.execute_input": "2024-07-08T17:07:13.662129Z",
     "iopub.status.busy": "2024-07-08T17:07:13.661648Z",
     "iopub.status.idle": "2024-07-08T17:07:13.668799Z",
     "shell.execute_reply": "2024-07-08T17:07:13.668373Z"
    },
    "lines_to_next_cell": 1,
    "papermill": {
     "duration": 0.021881,
     "end_time": "2024-07-08T17:07:13.669893",
     "exception": false,
     "start_time": "2024-07-08T17:07:13.648012",
     "status": "completed"
    },
    "tags": []
   },
   "outputs": [],
   "source": [
    "def msortBetter(arr: list[int]) -> list[int]:\n",
    "    def backtrack(left: int, right: int) -> None:\n",
    "        if right - left <= 1:\n",
    "            return\n",
    "        else:\n",
    "            mid = (left + right) // 2\n",
    "            backtrack(left, mid)\n",
    "            backtrack(mid, right)\n",
    "\n",
    "            temp: list[int] = []\n",
    "            i, j = left, mid\n",
    "            while i < mid or j < right:\n",
    "                if j >= right or (i < mid and arr[i] <= arr[j]):\n",
    "                    temp.append(arr[i])\n",
    "                    i += 1\n",
    "                else:\n",
    "                    temp.append(arr[j])\n",
    "                    j += 1\n",
    "\n",
    "            for idx in range(left, right):\n",
    "                arr[idx] = temp[idx - left]\n",
    "\n",
    "    N = len(arr)\n",
    "    backtrack(0, N)\n",
    "    return arr\n",
    "\n",
    "# Testing the solution\n",
    "for _ in range(50):\n",
    "    arr = np.random.randint(0, 50, random.randint(1, 51)).tolist()\n",
    "    msortBetter(arr)\n",
    "    assert arr == sorted(arr)"
   ]
  },
  {
   "cell_type": "markdown",
   "id": "d01399f4",
   "metadata": {
    "papermill": {
     "duration": 0.012863,
     "end_time": "2024-07-08T17:07:13.695938",
     "exception": false,
     "start_time": "2024-07-08T17:07:13.683075",
     "status": "completed"
    },
    "tags": []
   },
   "source": [
    "Quick Sort"
   ]
  },
  {
   "cell_type": "code",
   "execution_count": 63,
   "id": "2b24de28",
   "metadata": {
    "execution": {
     "iopub.execute_input": "2024-07-08T17:07:13.722801Z",
     "iopub.status.busy": "2024-07-08T17:07:13.722402Z",
     "iopub.status.idle": "2024-07-08T17:07:13.728558Z",
     "shell.execute_reply": "2024-07-08T17:07:13.728028Z"
    },
    "lines_to_next_cell": 1,
    "papermill": {
     "duration": 0.020782,
     "end_time": "2024-07-08T17:07:13.729595",
     "exception": false,
     "start_time": "2024-07-08T17:07:13.708813",
     "status": "completed"
    },
    "tags": []
   },
   "outputs": [],
   "source": [
    "def qsort(arr: list[int]) -> list[int]:\n",
    "    \"\"\"\n",
    "    Pick a pivot and place it at its correct position - smaller elements to the left, larger elements to the right of pivot\n",
    "    Sort left & right halves recusively\n",
    "    \"\"\"\n",
    "    N = len(arr)\n",
    "    if N <= 1:\n",
    "        return arr\n",
    "    else:\n",
    "        left, right, pivot = [], [], 0\n",
    "        for i in range(N):\n",
    "            if i != pivot:\n",
    "                if arr[i] <= arr[pivot]:\n",
    "                    left.append(arr[i])\n",
    "                else:\n",
    "                    right.append(arr[i])\n",
    "\n",
    "        return qsort(left) + [arr[pivot]] + qsort(right)\n",
    "\n",
    "# Testing the solution\n",
    "for _ in range(50):\n",
    "    arr = np.random.randint(0, 50, random.randint(1, 51)).tolist()\n",
    "    assert qsort(arr) == sorted(arr)"
   ]
  },
  {
   "cell_type": "code",
   "execution_count": 64,
   "id": "e5849396",
   "metadata": {
    "execution": {
     "iopub.execute_input": "2024-07-08T17:07:13.756414Z",
     "iopub.status.busy": "2024-07-08T17:07:13.756112Z",
     "iopub.status.idle": "2024-07-08T17:07:13.762839Z",
     "shell.execute_reply": "2024-07-08T17:07:13.762432Z"
    },
    "lines_to_next_cell": 1,
    "papermill": {
     "duration": 0.021305,
     "end_time": "2024-07-08T17:07:13.763863",
     "exception": false,
     "start_time": "2024-07-08T17:07:13.742558",
     "status": "completed"
    },
    "tags": []
   },
   "outputs": [],
   "source": [
    "def qsortBetter(arr: list[int]) -> list[int]:\n",
    "    def partition(left: int, right: int, pivot: int) -> int:\n",
    "        \"\"\"\n",
    "        Place two pointers, i = left, j = right\n",
    "        Iterate i forward until we hit a number greater than arr[pivot]\n",
    "        Iterate j backward until we hit a number lesser than or equal to arr[pivot]\n",
    "        if i < j:\n",
    "            Swap arr[i], arr[j]\n",
    "        else:\n",
    "            swap arr[pivot], arr[j]\n",
    "            return j\n",
    "        \"\"\"\n",
    "        i, j = left, right\n",
    "        while i < j:\n",
    "            while i < right and arr[i] <= arr[pivot]:\n",
    "                i += 1\n",
    "            while j > left and arr[j] > arr[pivot]:\n",
    "                j -= 1\n",
    "            if i < j:\n",
    "                arr[i], arr[j] = arr[j], arr[i]\n",
    "\n",
    "        arr[pivot], arr[j] = arr[j], arr[pivot]\n",
    "        return j\n",
    "\n",
    "    def backtrack(left: int, right: int) -> None:\n",
    "        if left < right:\n",
    "            pivot = partition(left, right, left)\n",
    "            backtrack(left, pivot - 1)\n",
    "            backtrack(pivot + 1, right)\n",
    "\n",
    "    N = len(arr)\n",
    "    backtrack(0, N - 1)\n",
    "    return arr\n",
    "\n",
    "# Testing the solution\n",
    "for _ in range(50):\n",
    "    arr = np.random.randint(0, 50, random.randint(1, 51)).tolist()\n",
    "    qsortBetter(arr)\n",
    "    assert arr == sorted(arr)"
   ]
  },
  {
   "cell_type": "markdown",
   "id": "7d24ea52",
   "metadata": {
    "papermill": {
     "duration": 0.012827,
     "end_time": "2024-07-08T17:07:13.789676",
     "exception": false,
     "start_time": "2024-07-08T17:07:13.776849",
     "status": "completed"
    },
    "tags": []
   },
   "source": [
    "LC POTD"
   ]
  },
  {
   "cell_type": "code",
   "execution_count": 65,
   "id": "c8d69999",
   "metadata": {
    "execution": {
     "iopub.execute_input": "2024-07-08T17:07:13.816530Z",
     "iopub.status.busy": "2024-07-08T17:07:13.816268Z",
     "iopub.status.idle": "2024-07-08T17:07:13.819768Z",
     "shell.execute_reply": "2024-07-08T17:07:13.819350Z"
    },
    "lines_to_next_cell": 1,
    "papermill": {
     "duration": 0.018199,
     "end_time": "2024-07-08T17:07:13.820775",
     "exception": false,
     "start_time": "2024-07-08T17:07:13.802576",
     "status": "completed"
    },
    "tags": []
   },
   "outputs": [],
   "source": [
    "# https://leetcode.com/problems/pass-the-pillow/submissions/1311515636\n",
    "def passThePillow(n: int, time: int) -> int:\n",
    "    atFirst = (time // (n - 1)) % 2 == 0\n",
    "    position = time % (n - 1)\n",
    "    return position + 1 if atFirst else n - position\n",
    "\n",
    "# Testing the solution\n",
    "assert passThePillow(4, 5) == 2\n",
    "assert passThePillow(3, 2) == 3\n",
    "assert passThePillow(6, 5) == 6"
   ]
  },
  {
   "cell_type": "code",
   "execution_count": 66,
   "id": "be0a407e",
   "metadata": {
    "execution": {
     "iopub.execute_input": "2024-07-08T17:07:13.847495Z",
     "iopub.status.busy": "2024-07-08T17:07:13.847336Z",
     "iopub.status.idle": "2024-07-08T17:07:13.852197Z",
     "shell.execute_reply": "2024-07-08T17:07:13.851786Z"
    },
    "lines_to_next_cell": 1,
    "papermill": {
     "duration": 0.019449,
     "end_time": "2024-07-08T17:07:13.853270",
     "exception": false,
     "start_time": "2024-07-08T17:07:13.833821",
     "status": "completed"
    },
    "tags": []
   },
   "outputs": [],
   "source": [
    "def intersect(nums1: list[int], nums2: list[int]) -> list[int]:\n",
    "    \"\"\"\n",
    "    Taking this approach since in one of the follow ups, its mentioned that the array is sorted\n",
    "    \"\"\"\n",
    "    # Sort both the arrays\n",
    "    nums1.sort()\n",
    "    nums2.sort()\n",
    "\n",
    "    N1, N2, i, j = len(nums1), len(nums2), 0, 0\n",
    "    intersection: list[int] = []\n",
    "    while i < N1 and j < N2:\n",
    "        if nums1[i] < nums2[j]:\n",
    "            i += 1\n",
    "        elif nums1[i] > nums2[j]:\n",
    "            j += 1\n",
    "        else:\n",
    "            intersection.append(nums1[i])\n",
    "            i, j = i + 1, j + 1\n",
    "\n",
    "    return intersection\n",
    "\n",
    "# Testing the solution\n",
    "assert intersect([1,2,2,1], [2,2]) == [2,2]\n",
    "assert intersect([4,9,5], [9,4,9,8,4]) == [4,9]\n",
    "assert intersect([4,9,5,4], [9,4,9,8,4]) == [4,4,9]"
   ]
  },
  {
   "cell_type": "markdown",
   "id": "c9ce06ce",
   "metadata": {
    "papermill": {
     "duration": 0.013027,
     "end_time": "2024-07-08T17:07:13.879434",
     "exception": false,
     "start_time": "2024-07-08T17:07:13.866407",
     "status": "completed"
    },
    "tags": []
   },
   "source": [
    "Codeforces Practice"
   ]
  },
  {
   "cell_type": "code",
   "execution_count": 67,
   "id": "fd52ba67",
   "metadata": {
    "execution": {
     "iopub.execute_input": "2024-07-08T17:07:13.906363Z",
     "iopub.status.busy": "2024-07-08T17:07:13.906050Z",
     "iopub.status.idle": "2024-07-08T17:07:13.909514Z",
     "shell.execute_reply": "2024-07-08T17:07:13.909018Z"
    },
    "lines_to_next_cell": 1,
    "papermill": {
     "duration": 0.018221,
     "end_time": "2024-07-08T17:07:13.910618",
     "exception": false,
     "start_time": "2024-07-08T17:07:13.892397",
     "status": "completed"
    },
    "tags": []
   },
   "outputs": [],
   "source": [
    "# Drinks 800\n",
    "def drinks(proportions: list[int], n_drinks: int) -> float:\n",
    "    return (sum(proportions) * 100) / (100 * n_drinks)\n",
    "\n",
    "# Testing the solution\n",
    "assert round(drinks([50,50,100], 3), 2) == 66.67\n",
    "assert round(drinks([0,25,50,75], 4), 2) == 37.5"
   ]
  },
  {
   "cell_type": "code",
   "execution_count": 68,
   "id": "b793f455",
   "metadata": {
    "execution": {
     "iopub.execute_input": "2024-07-08T17:07:13.937470Z",
     "iopub.status.busy": "2024-07-08T17:07:13.937153Z",
     "iopub.status.idle": "2024-07-08T17:07:13.941504Z",
     "shell.execute_reply": "2024-07-08T17:07:13.940999Z"
    },
    "lines_to_next_cell": 1,
    "papermill": {
     "duration": 0.018922,
     "end_time": "2024-07-08T17:07:13.942567",
     "exception": false,
     "start_time": "2024-07-08T17:07:13.923645",
     "status": "completed"
    },
    "tags": []
   },
   "outputs": [],
   "source": [
    "# Substring and subsequence - 1200 \n",
    "def substr_subsequence(text1: str, text2: str) -> int:\n",
    "    N1, N2 = len(text1), len(text2)\n",
    "    ans: int = N1 + N2\n",
    "    for k in range(N2):\n",
    "        i, j = 0, k\n",
    "        while i < N1 and j < N2:\n",
    "            if text1[i] == text2[j]:\n",
    "                j += 1\n",
    "            i += 1\n",
    "        ans = min(ans, N1 + N2 - (j - k))\n",
    "\n",
    "    return ans\n",
    "\n",
    "# Testing the solution\n",
    "assert substr_subsequence(\"aba\", \"cb\") == 4\n",
    "assert substr_subsequence(\"contest\", \"test\") == 7\n",
    "assert substr_subsequence(\"cde\", \"abcefg\") == 7\n",
    "assert substr_subsequence(\"cdaa\", \"cdca\") == 6"
   ]
  },
  {
   "cell_type": "markdown",
   "id": "b864bd53",
   "metadata": {
    "papermill": {
     "duration": 0.012823,
     "end_time": "2024-07-08T17:07:13.968525",
     "exception": false,
     "start_time": "2024-07-08T17:07:13.955702",
     "status": "completed"
    },
    "tags": []
   },
   "source": [
    "LC Biweekly - 6th July, started at 9 PM IST"
   ]
  },
  {
   "cell_type": "code",
   "execution_count": 69,
   "id": "2dd8e45d",
   "metadata": {
    "execution": {
     "iopub.execute_input": "2024-07-08T17:07:13.995162Z",
     "iopub.status.busy": "2024-07-08T17:07:13.994775Z",
     "iopub.status.idle": "2024-07-08T17:07:13.998523Z",
     "shell.execute_reply": "2024-07-08T17:07:13.998047Z"
    },
    "lines_to_next_cell": 1,
    "papermill": {
     "duration": 0.018083,
     "end_time": "2024-07-08T17:07:13.999512",
     "exception": false,
     "start_time": "2024-07-08T17:07:13.981429",
     "status": "completed"
    },
    "tags": []
   },
   "outputs": [],
   "source": [
    "# Q1\n",
    "def numberOfAlternatingGroups(colors: list[int]) -> int:\n",
    "    N = len(colors)\n",
    "    colors += colors[:2]\n",
    "    groups = 0\n",
    "    for i in range(N):\n",
    "        if colors[i + 2] == colors[i] and colors[i] != colors[i + 1]:\n",
    "            groups += 1\n",
    "    return groups\n",
    "\n",
    "# Testing the solution\n",
    "assert numberOfAlternatingGroups([0,1,0,0,1]) == 3\n",
    "assert numberOfAlternatingGroups([1,1,0]) == 1"
   ]
  },
  {
   "cell_type": "code",
   "execution_count": 70,
   "id": "7701afcb",
   "metadata": {
    "execution": {
     "iopub.execute_input": "2024-07-08T17:07:14.026343Z",
     "iopub.status.busy": "2024-07-08T17:07:14.025987Z",
     "iopub.status.idle": "2024-07-08T17:07:14.030388Z",
     "shell.execute_reply": "2024-07-08T17:07:14.029883Z"
    },
    "lines_to_next_cell": 1,
    "papermill": {
     "duration": 0.019052,
     "end_time": "2024-07-08T17:07:14.031544",
     "exception": false,
     "start_time": "2024-07-08T17:07:14.012492",
     "status": "completed"
    },
    "tags": []
   },
   "outputs": [],
   "source": [
    "# Q2\n",
    "def maximumPoints(enemyEnergies: list[int], currentEnergy: int) -> int:\n",
    "    \"\"\"\n",
    "    Sort by enemy energies.\n",
    "    We can only consume energy once from an enemy - we do this from the most 'expensive' enemy\n",
    "    We continue gaining points from the weaker guy\n",
    "    \"\"\"\n",
    "\n",
    "    enemyEnergies.sort()\n",
    "    N = len(enemyEnergies)\n",
    "    points = 0\n",
    "    while enemyEnergies:\n",
    "        if enemyEnergies[0] <= currentEnergy:\n",
    "            currentEnergy, points = currentEnergy % enemyEnergies[0], points + (currentEnergy // enemyEnergies[0])\n",
    "        elif points > 0:\n",
    "            currentEnergy += enemyEnergies.pop()\n",
    "        else:\n",
    "            break\n",
    "\n",
    "    return points\n",
    "\n",
    "# Testing the solution\n",
    "assert maximumPoints([3,2,2], 2) == 3\n",
    "assert maximumPoints([2], 10) == 5\n",
    "assert maximumPoints([2], 1) == 0"
   ]
  },
  {
   "cell_type": "markdown",
   "id": "d7002f9b",
   "metadata": {
    "papermill": {
     "duration": 0.013033,
     "end_time": "2024-07-08T17:07:14.057759",
     "exception": false,
     "start_time": "2024-07-08T17:07:14.044726",
     "status": "completed"
    },
    "tags": []
   },
   "source": [
    "Upsolving Q3"
   ]
  },
  {
   "cell_type": "code",
   "execution_count": 71,
   "id": "3ac42c70",
   "metadata": {
    "execution": {
     "iopub.execute_input": "2024-07-08T17:07:14.084424Z",
     "iopub.status.busy": "2024-07-08T17:07:14.084091Z",
     "iopub.status.idle": "2024-07-08T17:07:14.088823Z",
     "shell.execute_reply": "2024-07-08T17:07:14.088317Z"
    },
    "lines_to_next_cell": 1,
    "papermill": {
     "duration": 0.019401,
     "end_time": "2024-07-08T17:07:14.090004",
     "exception": false,
     "start_time": "2024-07-08T17:07:14.070603",
     "status": "completed"
    },
    "tags": []
   },
   "outputs": [],
   "source": [
    "# Q3\n",
    "# https://leetcode.com/problems/alternating-groups-ii/submissions/1311884953\n",
    "def numberOfAlternatingGroupsII(colors: list[int], k: int) -> int:\n",
    "    colors += colors[:k - 1]\n",
    "    N = len(colors)\n",
    "    i, j, prev, groups = 0, 0, int(not colors[0]), 0\n",
    "    while j < N:\n",
    "        if colors[j] != prev:\n",
    "            prev = int(colors[j])\n",
    "        else:\n",
    "            i = j\n",
    "        if j - i + 1 >= k:\n",
    "            groups += 1\n",
    "\n",
    "        j += 1\n",
    "\n",
    "    return groups\n",
    "\n",
    "# Testing the solution\n",
    "assert numberOfAlternatingGroupsII([0,1,0,0,1,0,1], 6) == 2\n",
    "assert numberOfAlternatingGroupsII([1,1,0,1], 4) == 0\n",
    "assert numberOfAlternatingGroupsII([0,1,0,1,0], 3) == 3"
   ]
  },
  {
   "cell_type": "markdown",
   "id": "f5496f5f",
   "metadata": {
    "papermill": {
     "duration": 0.013185,
     "end_time": "2024-07-08T17:07:14.116274",
     "exception": false,
     "start_time": "2024-07-08T17:07:14.103089",
     "status": "completed"
    },
    "tags": []
   },
   "source": [
    "Codeforces practice"
   ]
  },
  {
   "cell_type": "code",
   "execution_count": 72,
   "id": "e199a57c",
   "metadata": {
    "execution": {
     "iopub.execute_input": "2024-07-08T17:07:14.142888Z",
     "iopub.status.busy": "2024-07-08T17:07:14.142524Z",
     "iopub.status.idle": "2024-07-08T17:07:14.146514Z",
     "shell.execute_reply": "2024-07-08T17:07:14.146095Z"
    },
    "lines_to_next_cell": 1,
    "papermill": {
     "duration": 0.018492,
     "end_time": "2024-07-08T17:07:14.147573",
     "exception": false,
     "start_time": "2024-07-08T17:07:14.129081",
     "status": "completed"
    },
    "tags": []
   },
   "outputs": [],
   "source": [
    "def chewbacca(N: int) -> int:\n",
    "    # Invert and add to stack\n",
    "    stack: list[int] = []\n",
    "    while N > 0:\n",
    "        digit, N = N % 10, N // 10\n",
    "        stack.append(digit if digit < 5 or (digit == 9 and N == 0) else 9 - digit)\n",
    "\n",
    "    # Pop and accumulate to result\n",
    "    result: int = 0\n",
    "    while stack:\n",
    "        result = (result * 10) + stack.pop()\n",
    "\n",
    "    return result\n",
    "\n",
    "# Testing the solution\n",
    "assert chewbacca(4545) == 4444\n",
    "assert chewbacca(27) == 22\n",
    "assert chewbacca(9) == 9\n",
    "assert chewbacca(919) == 910"
   ]
  },
  {
   "cell_type": "markdown",
   "id": "72c3c5e5",
   "metadata": {
    "papermill": {
     "duration": 0.013028,
     "end_time": "2024-07-08T17:07:14.173537",
     "exception": false,
     "start_time": "2024-07-08T17:07:14.160509",
     "status": "completed"
    },
    "tags": []
   },
   "source": [
    "LC Weekly - 7th July 2024"
   ]
  },
  {
   "cell_type": "code",
   "execution_count": 73,
   "id": "5e6cb793",
   "metadata": {
    "execution": {
     "iopub.execute_input": "2024-07-08T17:07:14.199977Z",
     "iopub.status.busy": "2024-07-08T17:07:14.199617Z",
     "iopub.status.idle": "2024-07-08T17:07:14.203266Z",
     "shell.execute_reply": "2024-07-08T17:07:14.202757Z"
    },
    "lines_to_next_cell": 1,
    "papermill": {
     "duration": 0.018096,
     "end_time": "2024-07-08T17:07:14.204401",
     "exception": false,
     "start_time": "2024-07-08T17:07:14.186305",
     "status": "completed"
    },
    "tags": []
   },
   "outputs": [],
   "source": [
    "# Q1\n",
    "def getEncryptedString(s: str, k: int) -> str:\n",
    "    N = len(s)\n",
    "    result: list[str] = []\n",
    "    for i in range(N):\n",
    "        result.append(s[(i + k) % N])\n",
    "    return ''.join(result)\n",
    "\n",
    "# Testing the solution\n",
    "assert getEncryptedString(\"dart\", 3) == \"tdar\"\n",
    "assert getEncryptedString(\"aaa\", 1) == \"aaa\""
   ]
  },
  {
   "cell_type": "code",
   "execution_count": 74,
   "id": "95ed49ab",
   "metadata": {
    "execution": {
     "iopub.execute_input": "2024-07-08T17:07:14.231161Z",
     "iopub.status.busy": "2024-07-08T17:07:14.230773Z",
     "iopub.status.idle": "2024-07-08T17:07:14.234992Z",
     "shell.execute_reply": "2024-07-08T17:07:14.234556Z"
    },
    "lines_to_next_cell": 1,
    "papermill": {
     "duration": 0.018697,
     "end_time": "2024-07-08T17:07:14.235986",
     "exception": false,
     "start_time": "2024-07-08T17:07:14.217289",
     "status": "completed"
    },
    "tags": []
   },
   "outputs": [],
   "source": [
    "# Q2\n",
    "def validStrings(N: int) -> set[str]:\n",
    "    def backtrack(acc: list[str]) -> None:\n",
    "        if len(acc) == N:\n",
    "            result.add(''.join(acc))\n",
    "        else:\n",
    "            if not acc or acc[-1] == '1':\n",
    "                acc.append('0')\n",
    "                backtrack(acc)\n",
    "                acc.pop()\n",
    "            acc.append('1')\n",
    "            backtrack(acc)\n",
    "            acc.pop()\n",
    "\n",
    "    result: set[str] = set()\n",
    "    backtrack([])\n",
    "    return result\n",
    "\n",
    "# Testing the solution\n",
    "assert sorted(validStrings(3)) == ['010', '011', '101', '110', '111']"
   ]
  },
  {
   "cell_type": "code",
   "execution_count": 75,
   "id": "5064877b",
   "metadata": {
    "execution": {
     "iopub.execute_input": "2024-07-08T17:07:14.263073Z",
     "iopub.status.busy": "2024-07-08T17:07:14.262689Z",
     "iopub.status.idle": "2024-07-08T17:07:14.270832Z",
     "shell.execute_reply": "2024-07-08T17:07:14.270436Z"
    },
    "lines_to_next_cell": 1,
    "papermill": {
     "duration": 0.022782,
     "end_time": "2024-07-08T17:07:14.271812",
     "exception": false,
     "start_time": "2024-07-08T17:07:14.249030",
     "status": "completed"
    },
    "tags": []
   },
   "outputs": [],
   "source": [
    "# Q4\n",
    "def minimumCost(target: str, words: list[str], costs: list[int]) -> int:\n",
    "    match_cache: dict[tuple[int, int], str] = dict()\n",
    "    def match(i_: int, s_length: int, s: str) -> bool:\n",
    "        if (i_, s_length) in match_cache:\n",
    "            return s == match_cache[(i_, s_length)]\n",
    "        elif i_ + s_length > target_length:\n",
    "            return False\n",
    "        else:\n",
    "            i = i_\n",
    "            for j in range(s_length):\n",
    "                if i < target_length and s[j] == target[i]:\n",
    "                    i += 1\n",
    "                else:\n",
    "                    return False\n",
    "\n",
    "            match_cache[(i_, s_length)] = s\n",
    "            return True\n",
    "\n",
    "    @functools.cache\n",
    "    def backtrack(i: int) -> float:\n",
    "        if i == target_length:\n",
    "            return 0\n",
    "        else:\n",
    "            min_cost: float = math.inf\n",
    "            for cost, candidate in starts_with[target[i]]:\n",
    "                candidate_length = len(candidate)\n",
    "                if match(i, candidate_length, candidate):\n",
    "                    min_cost = min(min_cost, cost + backtrack(i + candidate_length))\n",
    "            return min_cost\n",
    "\n",
    "    N_words = len(words)\n",
    "    target_length = len(target)\n",
    "\n",
    "    # Remove duplicates\n",
    "    unique: collections.defaultdict[str, float] = collections.defaultdict(lambda: math.inf)\n",
    "    for i in range(N_words):\n",
    "        unique[words[i]] = min(unique[words[i]], costs[i])\n",
    "\n",
    "    # Store the first character as a key\n",
    "    starts_with: collections.defaultdict[str, list[tuple[float, str]]] = collections.defaultdict(list)\n",
    "    for word, cost in unique.items():\n",
    "        starts_with[word[0]].append((cost, word))\n",
    "\n",
    "    # Sort by minimum cost\n",
    "    for k in starts_with:\n",
    "        starts_with[k].sort()\n",
    "\n",
    "    # Backtrack and find the minimum cost\n",
    "    min_cost = backtrack(0)\n",
    "    return int(min_cost) if not math.isinf(min_cost) else -1\n",
    "\n",
    "# Testing the solution\n",
    "assert minimumCost(\"abcdef\", [\"abdef\",\"abc\",\"d\",\"def\",\"ef\"], [100,1,1,10,5]) == 7\n",
    "assert minimumCost(\"aaaa\", [\"z\", \"zz\", \"zzz\"], [1, 10, 100]) == -1\n",
    "assert minimumCost(\"aaaa\", [\"a\", \"z\", \"zz\", \"zzz\"], [1, 1, 10, 100]) == 4\n",
    "assert minimumCost(\"sgsipzma\", [\"s\",\"s\",\"g\",\"ipzma\"], [1,5,2,1]) == 5"
   ]
  },
  {
   "cell_type": "markdown",
   "id": "2a369efe",
   "metadata": {
    "papermill": {
     "duration": 0.014255,
     "end_time": "2024-07-08T17:07:14.299149",
     "exception": false,
     "start_time": "2024-07-08T17:07:14.284894",
     "status": "completed"
    },
    "tags": []
   },
   "source": [
    "Codeforces practice - Math"
   ]
  },
  {
   "cell_type": "code",
   "execution_count": 76,
   "id": "04e0064e",
   "metadata": {
    "execution": {
     "iopub.execute_input": "2024-07-08T17:07:14.326606Z",
     "iopub.status.busy": "2024-07-08T17:07:14.326278Z",
     "iopub.status.idle": "2024-07-08T17:07:14.331889Z",
     "shell.execute_reply": "2024-07-08T17:07:14.331462Z"
    },
    "lines_to_next_cell": 1,
    "papermill": {
     "duration": 0.020273,
     "end_time": "2024-07-08T17:07:14.332969",
     "exception": false,
     "start_time": "2024-07-08T17:07:14.312696",
     "status": "completed"
    },
    "tags": []
   },
   "outputs": [],
   "source": [
    "# Beautiful matrix\n",
    "def beautiful_matrix(matrix: list[list[str]]) -> int:\n",
    "    to_visit: collections.deque[tuple[int, int, int]] = collections.deque([(2, 2, 0)])\n",
    "    visited: set[tuple[int, int]] = set()\n",
    "    while to_visit:\n",
    "        i, j, moves = to_visit.popleft()\n",
    "        visited.add((i, j))\n",
    "        if matrix[i][j] == '1':\n",
    "            return moves\n",
    "        else:\n",
    "            for x, y in [(i + 1, j), (i - 1, j), (i, j + 1), (i, j - 1)]:\n",
    "                if 0 <= x < 5 and 0 <= y < 5 and (x, y) not in visited:\n",
    "                    to_visit.append((x, y, moves + 1))\n",
    "    return -1\n",
    "\n",
    "# Testing the solution\n",
    "assert beautiful_matrix([['0','0','0','0','0'], ['0','0','0','0','1'], ['0','0','0','0','0'], ['0','0','0','0','0'], ['0','0','0','0','0']]) == 3\n",
    "assert beautiful_matrix([['0','0','0','0','0'], ['0','0','0','0','0'], ['0','1','0','0','0'], ['0','0','0','0','0'], ['0','0','0','0','0']]) == 1"
   ]
  },
  {
   "cell_type": "code",
   "execution_count": 77,
   "id": "50e4cf4e",
   "metadata": {
    "execution": {
     "iopub.execute_input": "2024-07-08T17:07:14.360124Z",
     "iopub.status.busy": "2024-07-08T17:07:14.359694Z",
     "iopub.status.idle": "2024-07-08T17:07:14.363799Z",
     "shell.execute_reply": "2024-07-08T17:07:14.363400Z"
    },
    "lines_to_next_cell": 1,
    "papermill": {
     "duration": 0.018806,
     "end_time": "2024-07-08T17:07:14.364840",
     "exception": false,
     "start_time": "2024-07-08T17:07:14.346034",
     "status": "completed"
    },
    "tags": []
   },
   "outputs": [],
   "source": [
    "def array_with_odd_sum(arr: list[int]) -> bool:\n",
    "    N = len(arr)\n",
    "    odd, even = functools.reduce(\n",
    "            lambda initial, n: (initial[0] + int(n % 2 == 1), initial[1] + int(n % 2 == 0)),\n",
    "            arr, (0, 0)\n",
    "    )\n",
    "\n",
    "    # If there are odd number of evens\n",
    "    return (odd > 0 and even > 0) or (even == 0 and N % 2 == 1)\n",
    "\n",
    "# Testing the solution\n",
    "assert array_with_odd_sum([2,3]) == True\n",
    "assert array_with_odd_sum([2,2,8,8]) == False\n",
    "assert array_with_odd_sum([1,1,1,1]) == False\n",
    "assert array_with_odd_sum([1,1,1]) == True"
   ]
  },
  {
   "cell_type": "code",
   "execution_count": 78,
   "id": "2959d402",
   "metadata": {
    "execution": {
     "iopub.execute_input": "2024-07-08T17:07:14.392676Z",
     "iopub.status.busy": "2024-07-08T17:07:14.392293Z",
     "iopub.status.idle": "2024-07-08T17:07:14.395464Z",
     "shell.execute_reply": "2024-07-08T17:07:14.394950Z"
    },
    "lines_to_next_cell": 1,
    "papermill": {
     "duration": 0.018211,
     "end_time": "2024-07-08T17:07:14.396569",
     "exception": false,
     "start_time": "2024-07-08T17:07:14.378358",
     "status": "completed"
    },
    "tags": []
   },
   "outputs": [],
   "source": [
    "def floor_number(n: int, x: int) -> int:\n",
    "    n = max(n - 2, 0)\n",
    "    return math.ceil(n / x) + 1\n",
    "\n",
    "# Testing the solution\n",
    "assert floor_number(2, 100) == 1\n",
    "assert floor_number(7, 3) == 3\n",
    "assert floor_number(987, 13) == 77"
   ]
  },
  {
   "cell_type": "markdown",
   "id": "98cf5dcc",
   "metadata": {
    "papermill": {
     "duration": 0.013196,
     "end_time": "2024-07-08T17:07:14.423094",
     "exception": false,
     "start_time": "2024-07-08T17:07:14.409898",
     "status": "completed"
    },
    "tags": []
   },
   "source": [
    "Codeforces practice - Binary Search"
   ]
  },
  {
   "cell_type": "code",
   "execution_count": 79,
   "id": "b667d14c",
   "metadata": {
    "execution": {
     "iopub.execute_input": "2024-07-08T17:07:14.449815Z",
     "iopub.status.busy": "2024-07-08T17:07:14.449354Z",
     "iopub.status.idle": "2024-07-08T17:07:14.454298Z",
     "shell.execute_reply": "2024-07-08T17:07:14.453743Z"
    },
    "lines_to_next_cell": 1,
    "papermill": {
     "duration": 0.019496,
     "end_time": "2024-07-08T17:07:14.455400",
     "exception": false,
     "start_time": "2024-07-08T17:07:14.435904",
     "status": "completed"
    },
    "tags": []
   },
   "outputs": [],
   "source": [
    "def magic_powder(magic_powder: int, required: list[int], available: list[int]) -> int:\n",
    "    def check(qty: int) -> bool:\n",
    "        powder = magic_powder\n",
    "        for req, avail in zip(required, available):\n",
    "            powder -= max(0, (req * qty) - avail)\n",
    "        return powder >= 0\n",
    "\n",
    "    low = min(avail // req for req, avail in zip(required, available))\n",
    "    high = low + magic_powder\n",
    "    while low <= high:\n",
    "        mid = (low + high) // 2\n",
    "        if check(mid):\n",
    "            low = mid + 1\n",
    "        else:\n",
    "            high = mid - 1\n",
    "\n",
    "    return high\n",
    "\n",
    "# Testing the solution\n",
    "assert magic_powder(1, [2,1,4], [11,3,16]) == 4\n",
    "assert magic_powder(3, [4,3,5,6], [11,12,14,20]) == 3"
   ]
  },
  {
   "cell_type": "code",
   "execution_count": 80,
   "id": "ecdbcce3",
   "metadata": {
    "execution": {
     "iopub.execute_input": "2024-07-08T17:07:14.482359Z",
     "iopub.status.busy": "2024-07-08T17:07:14.482122Z",
     "iopub.status.idle": "2024-07-08T17:07:14.486136Z",
     "shell.execute_reply": "2024-07-08T17:07:14.485686Z"
    },
    "lines_to_next_cell": 1,
    "papermill": {
     "duration": 0.018637,
     "end_time": "2024-07-08T17:07:14.487179",
     "exception": false,
     "start_time": "2024-07-08T17:07:14.468542",
     "status": "completed"
    },
    "tags": []
   },
   "outputs": [],
   "source": [
    "def pipeline(n: int, k: int) -> int:\n",
    "    def check(i: int) -> bool:\n",
    "        \"\"\"\n",
    "        Check if connecting the largest 'i' pipes would give flow >= n\n",
    "        Sum of arithmetic progression: sn = n * ((a1 + an) / 2)\n",
    "        \"\"\"\n",
    "        max_sum = (i * (k + k - i + 1) // 2) - i + 1\n",
    "        return max_sum >= n\n",
    "\n",
    "    low, high = 0, k\n",
    "    while low <= high:\n",
    "        mid = (low + high) // 2\n",
    "        if check(mid):\n",
    "            high = mid - 1\n",
    "        else:\n",
    "            low = mid + 1\n",
    "\n",
    "    return low if low <= k else -1\n",
    "\n",
    "# Testing the solution\n",
    "assert pipeline(8, 4) == -1\n",
    "assert pipeline(5, 5) == 1\n",
    "assert pipeline(4, 3) == 2\n",
    "assert pipeline(1, 4) == 0"
   ]
  },
  {
   "cell_type": "code",
   "execution_count": 81,
   "id": "6c05099b",
   "metadata": {
    "execution": {
     "iopub.execute_input": "2024-07-08T17:07:14.514030Z",
     "iopub.status.busy": "2024-07-08T17:07:14.513532Z",
     "iopub.status.idle": "2024-07-08T17:07:14.518407Z",
     "shell.execute_reply": "2024-07-08T17:07:14.517969Z"
    },
    "papermill": {
     "duration": 0.019361,
     "end_time": "2024-07-08T17:07:14.519453",
     "exception": false,
     "start_time": "2024-07-08T17:07:14.500092",
     "status": "completed"
    },
    "tags": []
   },
   "outputs": [],
   "source": [
    "def poisoned_dagger(N: int, hp: int, seconds: list[int]) -> int:\n",
    "    def check(k: int) -> bool:\n",
    "        damage = 0\n",
    "        for i in range(N):\n",
    "            damage += min(k, seconds[i + 1] - seconds[i])\n",
    "\n",
    "        return damage >= hp\n",
    "\n",
    "    # Update seconds for the sake of 'check'\n",
    "    seconds.append(seconds[-1] + hp)\n",
    "\n",
    "    # Binary search\n",
    "    low, high = 1, hp\n",
    "    while low <= high:\n",
    "        mid = (low + high) // 2\n",
    "        if check(mid):\n",
    "            high = mid - 1\n",
    "        else:\n",
    "            low = mid + 1\n",
    "    return low\n",
    "\n",
    "# Testing the solution\n",
    "assert poisoned_dagger(2, 5, [1, 5]) == 3\n",
    "assert poisoned_dagger(3, 10, [2, 4, 10]) == 4\n",
    "assert poisoned_dagger(5, 3, [1, 2, 4, 5, 7]) == 1\n",
    "assert poisoned_dagger(4, 1000, [3, 25, 64, 1337]) == 470"
   ]
  }
 ],
 "metadata": {
  "kernelspec": {
   "display_name": "Python 3 (ipykernel)",
   "language": "python",
   "name": "python3"
  },
  "language_info": {
   "codemirror_mode": {
    "name": "ipython",
    "version": 3
   },
   "file_extension": ".py",
   "mimetype": "text/x-python",
   "name": "python",
   "nbconvert_exporter": "python",
   "pygments_lexer": "ipython3",
   "version": "3.11.9"
  },
  "papermill": {
   "default_parameters": {},
   "duration": 4.89674,
   "end_time": "2024-07-08T17:07:14.747870",
   "environment_variables": {},
   "exception": null,
   "input_path": "practice/005.ipynb",
   "output_path": "practice/005.ipynb",
   "parameters": {},
   "start_time": "2024-07-08T17:07:09.851130",
   "version": "2.6.0"
  }
 },
 "nbformat": 4,
 "nbformat_minor": 5
}