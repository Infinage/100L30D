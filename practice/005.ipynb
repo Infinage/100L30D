{
 "cells": [
  {
   "cell_type": "code",
   "execution_count": 1,
   "id": "fa51d761",
   "metadata": {
    "execution": {
     "iopub.execute_input": "2024-07-01T16:00:10.422542Z",
     "iopub.status.busy": "2024-07-01T16:00:10.422315Z",
     "iopub.status.idle": "2024-07-01T16:00:10.759847Z",
     "shell.execute_reply": "2024-07-01T16:00:10.759349Z"
    },
    "papermill": {
     "duration": 0.345816,
     "end_time": "2024-07-01T16:00:10.761377",
     "exception": false,
     "start_time": "2024-07-01T16:00:10.415561",
     "status": "completed"
    },
    "tags": []
   },
   "outputs": [],
   "source": [
    "from typing import List, Optional, Generator\n",
    "import pandas as pd\n",
    "import numpy as np\n",
    "import sqlite3\n",
    "import re\n",
    "import io\n",
    "import math\n",
    "import collections\n",
    "import itertools\n",
    "import functools\n",
    "import random\n",
    "import string\n",
    "import tqdm\n",
    "import bisect\n",
    "import heapq\n",
    "\n",
    "conn = sqlite3.connect(\":memory:\")\n",
    "\n",
    "def regexp(expr, item):\n",
    "    reg = re.compile(expr)\n",
    "    return reg.search(item) is not None\n",
    "\n",
    "def read_lc_df(s: str, dtypes: dict[str, str]=dict()) -> pd.DataFrame:\n",
    "    temp = pd.read_csv(io.StringIO(s), sep=\"|\", skiprows=2)\n",
    "    temp = temp.iloc[1:-1, 1:-1]\n",
    "    temp.columns = temp.columns.map(str.strip)\n",
    "    temp = temp.map(lambda x: x if type(x) != str else None if x.strip() == 'null' else x.strip())\n",
    "    temp = temp.astype(dtypes)\n",
    "    return temp\n",
    "\n",
    "conn.create_function(\"REGEXP\", 2, regexp)"
   ]
  },
  {
   "cell_type": "markdown",
   "id": "db473660",
   "metadata": {
    "papermill": {
     "duration": 0.005661,
     "end_time": "2024-07-01T16:00:10.772214",
     "exception": false,
     "start_time": "2024-07-01T16:00:10.766553",
     "status": "completed"
    },
    "tags": []
   },
   "source": [
    "#### Helper for Binary tree problems"
   ]
  },
  {
   "cell_type": "code",
   "execution_count": 2,
   "id": "6e8896c0",
   "metadata": {
    "execution": {
     "iopub.execute_input": "2024-07-01T16:00:10.782611Z",
     "iopub.status.busy": "2024-07-01T16:00:10.782348Z",
     "iopub.status.idle": "2024-07-01T16:00:10.789409Z",
     "shell.execute_reply": "2024-07-01T16:00:10.788949Z"
    },
    "lines_to_next_cell": 1,
    "papermill": {
     "duration": 0.013579,
     "end_time": "2024-07-01T16:00:10.790526",
     "exception": false,
     "start_time": "2024-07-01T16:00:10.776947",
     "status": "completed"
    },
    "tags": []
   },
   "outputs": [],
   "source": [
    "class BinaryTreeNode:\n",
    "    def __init__(self, val=0, left=None, right=None):\n",
    "        self.val = val\n",
    "        self.left = left\n",
    "        self.right = right\n",
    "\n",
    "    def to_list(self):\n",
    "        to_visit = [self]\n",
    "        visited = []\n",
    "        while len(to_visit) > 0:\n",
    "            curr = to_visit.pop(0)\n",
    "            if curr:\n",
    "                to_visit.append(curr.left)\n",
    "                to_visit.append(curr.right)\n",
    "                visited.append(curr.val)\n",
    "            else:\n",
    "                visited.append(curr)\n",
    "\n",
    "        while visited and not visited[-1]:\n",
    "            visited.pop()\n",
    "\n",
    "        return visited\n",
    "\n",
    "    def __str__(self):\n",
    "        return str(self.val)\n",
    "\n",
    "    @staticmethod\n",
    "    def from_array(nums: list[int|None]):\n",
    "        '''Create a Tree from a list of nums. Returns the root node.'''\n",
    "        if len(nums) == 0:\n",
    "            return None\n",
    "        elif len(nums) == 1:\n",
    "            return BinaryTreeNode(nums[0])\n",
    "        else:\n",
    "            forest = [BinaryTreeNode(nums[0])]\n",
    "            parent_idx = -1\n",
    "            for i in range(1, len(nums)):\n",
    "\n",
    "                curr = None\n",
    "                if nums[i] is not None:\n",
    "                    curr = BinaryTreeNode(nums[i])\n",
    "                    forest.append(curr)\n",
    "\n",
    "                if i % 2 == 1:\n",
    "                    parent_idx += 1\n",
    "                    forest[parent_idx].left = curr\n",
    "                else:\n",
    "                    forest[parent_idx].right = curr\n",
    "\n",
    "        return forest[0]"
   ]
  },
  {
   "cell_type": "markdown",
   "id": "de5b1765",
   "metadata": {
    "papermill": {
     "duration": 0.004704,
     "end_time": "2024-07-01T16:00:10.800044",
     "exception": false,
     "start_time": "2024-07-01T16:00:10.795340",
     "status": "completed"
    },
    "tags": []
   },
   "source": [
    "#### Helper for Singly Linked lists"
   ]
  },
  {
   "cell_type": "code",
   "execution_count": 3,
   "id": "e736c8a5",
   "metadata": {
    "execution": {
     "iopub.execute_input": "2024-07-01T16:00:10.810511Z",
     "iopub.status.busy": "2024-07-01T16:00:10.810145Z",
     "iopub.status.idle": "2024-07-01T16:00:10.814638Z",
     "shell.execute_reply": "2024-07-01T16:00:10.814193Z"
    },
    "lines_to_next_cell": 1,
    "papermill": {
     "duration": 0.010914,
     "end_time": "2024-07-01T16:00:10.815730",
     "exception": false,
     "start_time": "2024-07-01T16:00:10.804816",
     "status": "completed"
    },
    "tags": []
   },
   "outputs": [],
   "source": [
    "class ListNode:\n",
    "    def __init__(self, val=0, next=None):\n",
    "        self.val = val\n",
    "        self.next = next\n",
    "\n",
    "    def __str__(self):\n",
    "        return str(self.val)\n",
    "\n",
    "    @staticmethod\n",
    "    def to_singly_linked_list(nums: list[int]):\n",
    "        root = prev = None\n",
    "        for n in nums:\n",
    "            curr = ListNode(n)\n",
    "            # Init once\n",
    "            if not root:\n",
    "                root = curr\n",
    "            if prev:\n",
    "                prev.next = curr\n",
    "            prev = curr\n",
    "\n",
    "        return root\n",
    "\n",
    "    def to_list(self) -> list[int]:\n",
    "        result = []\n",
    "        curr = self\n",
    "        while curr:\n",
    "            result.append(curr.val)\n",
    "            curr = curr.next\n",
    "        return result"
   ]
  },
  {
   "cell_type": "markdown",
   "id": "cd635853",
   "metadata": {
    "papermill": {
     "duration": 0.004785,
     "end_time": "2024-07-01T16:00:10.825412",
     "exception": false,
     "start_time": "2024-07-01T16:00:10.820627",
     "status": "completed"
    },
    "tags": []
   },
   "source": [
    "Codeforces practice"
   ]
  },
  {
   "cell_type": "code",
   "execution_count": 4,
   "id": "df35356a",
   "metadata": {
    "execution": {
     "iopub.execute_input": "2024-07-01T16:00:10.835921Z",
     "iopub.status.busy": "2024-07-01T16:00:10.835501Z",
     "iopub.status.idle": "2024-07-01T16:00:10.840337Z",
     "shell.execute_reply": "2024-07-01T16:00:10.839763Z"
    },
    "lines_to_next_cell": 1,
    "papermill": {
     "duration": 0.011235,
     "end_time": "2024-07-01T16:00:10.841411",
     "exception": false,
     "start_time": "2024-07-01T16:00:10.830176",
     "status": "completed"
    },
    "tags": []
   },
   "outputs": [],
   "source": [
    "# https://codeforces.com/problemset/problem/1984/B\n",
    "def large_addition(N: int) -> bool:\n",
    "    if N < 10:\n",
    "        return False\n",
    "    else:\n",
    "        N_str: str = str(N)\n",
    "        length = len(N_str)\n",
    "        for i in range(length):\n",
    "            if i == 0 and N_str[i] != '1':\n",
    "                return False\n",
    "            elif i == length - 1 and N_str[i] == '9':\n",
    "                return False\n",
    "            elif i not in (0, length - 1) and N_str[i] == '0':\n",
    "                return False\n",
    "\n",
    "        return True\n",
    "\n",
    "# Testing the solution\n",
    "assert large_addition(1393938) == True\n",
    "assert large_addition(200) == False\n",
    "assert large_addition(10) == True"
   ]
  },
  {
   "cell_type": "markdown",
   "id": "80b62de1",
   "metadata": {
    "papermill": {
     "duration": 0.004702,
     "end_time": "2024-07-01T16:00:10.850904",
     "exception": false,
     "start_time": "2024-07-01T16:00:10.846202",
     "status": "completed"
    },
    "tags": []
   },
   "source": [
    "LC Virtual: 25th June 2024\n",
    "https://leetcode.com/contest/smarking-algorithm-contest-3/"
   ]
  },
  {
   "cell_type": "code",
   "execution_count": 5,
   "id": "ec2db856",
   "metadata": {
    "execution": {
     "iopub.execute_input": "2024-07-01T16:00:10.861359Z",
     "iopub.status.busy": "2024-07-01T16:00:10.861043Z",
     "iopub.status.idle": "2024-07-01T16:00:10.865155Z",
     "shell.execute_reply": "2024-07-01T16:00:10.864661Z"
    },
    "lines_to_next_cell": 1,
    "papermill": {
     "duration": 0.010485,
     "end_time": "2024-07-01T16:00:10.866183",
     "exception": false,
     "start_time": "2024-07-01T16:00:10.855698",
     "status": "completed"
    },
    "tags": []
   },
   "outputs": [],
   "source": [
    "# Q1\n",
    "# https://www.youtube.com/watch?v=x8T11yRLIyY\n",
    "def minMoves(nums: list[int]) -> int:\n",
    "    \"\"\"\n",
    "    Intution: Instead of increasing all n - 1 elements by 1 each time, try to decrement\n",
    "    the max element to the smallest element. Relative distances between numbers are the same.\n",
    "    \"\"\"\n",
    "    nums.sort()\n",
    "    result = 0\n",
    "    for i in range(len(nums) - 1, -1, -1):\n",
    "        result += nums[i] - nums[0]\n",
    "    return result\n",
    "\n",
    "# Testing the solution\n",
    "assert minMoves([1,2,3,4]) == 6\n",
    "assert minMoves([1,2,3]) == 3"
   ]
  },
  {
   "cell_type": "code",
   "execution_count": 6,
   "id": "46f751bf",
   "metadata": {
    "execution": {
     "iopub.execute_input": "2024-07-01T16:00:10.877010Z",
     "iopub.status.busy": "2024-07-01T16:00:10.876683Z",
     "iopub.status.idle": "2024-07-01T16:00:10.882111Z",
     "shell.execute_reply": "2024-07-01T16:00:10.881584Z"
    },
    "lines_to_next_cell": 1,
    "papermill": {
     "duration": 0.012133,
     "end_time": "2024-07-01T16:00:10.883253",
     "exception": false,
     "start_time": "2024-07-01T16:00:10.871120",
     "status": "completed"
    },
    "tags": []
   },
   "outputs": [],
   "source": [
    "# Q2\n",
    "def numberOfBoomerangs(points: list[list[int]]) -> int:\n",
    "    def distance(pt1: list[int], pt2: list[int]) -> float:\n",
    "        return math.sqrt(((pt1[0] - pt2[0]) ** 2) + ((pt1[1] - pt2[1]) ** 2))\n",
    "\n",
    "    boommerangs: int = 0\n",
    "    N = len(points)\n",
    "    for i in range(N):\n",
    "        curr = points[i]\n",
    "        distances: dict[float, int] = dict()\n",
    "        for j in range(N):\n",
    "            if j != i:\n",
    "                dist = distance(points[i], points[j])\n",
    "                distances[dist] = distances.get(dist, 0) + 1\n",
    "\n",
    "        for count in distances.values():\n",
    "            boommerangs += math.perm(count, 2)\n",
    "\n",
    "    return boommerangs\n",
    "\n",
    "# Testing the solution\n",
    "assert numberOfBoomerangs([[0,0],[1,0],[2,0]]) == 2\n",
    "assert numberOfBoomerangs([[1,1],[2,2],[3,3]]) == 2\n",
    "assert numberOfBoomerangs([[1,1]]) == 0"
   ]
  },
  {
   "cell_type": "code",
   "execution_count": 7,
   "id": "06c17597",
   "metadata": {
    "execution": {
     "iopub.execute_input": "2024-07-01T16:00:10.893820Z",
     "iopub.status.busy": "2024-07-01T16:00:10.893353Z",
     "iopub.status.idle": "2024-07-01T16:00:10.898570Z",
     "shell.execute_reply": "2024-07-01T16:00:10.898121Z"
    },
    "lines_to_next_cell": 1,
    "papermill": {
     "duration": 0.011544,
     "end_time": "2024-07-01T16:00:10.899630",
     "exception": false,
     "start_time": "2024-07-01T16:00:10.888086",
     "status": "completed"
    },
    "tags": []
   },
   "outputs": [],
   "source": [
    "# Q3\n",
    "def findMinArrowShots(points: list[list[int]]) -> int:\n",
    "    # Sort by end and merge the start, end\n",
    "    points.sort(key=lambda x: (x[1], x[0]))\n",
    "\n",
    "    # Merge the intervals\n",
    "    merged_intervals: list[tuple[int, int]] = []\n",
    "    for start, end in points:\n",
    "        if merged_intervals and merged_intervals[-1][1] >= start:\n",
    "            merged_intervals[-1] = max(merged_intervals[-1][0], start), min(merged_intervals[-1][1], end)\n",
    "        else:\n",
    "            merged_intervals.append((start, end))\n",
    "\n",
    "    return len(merged_intervals)\n",
    "\n",
    "# Testing the solution\n",
    "assert findMinArrowShots([[10,16],[2,8],[1,6],[7,12]]) == 2\n",
    "assert findMinArrowShots([[1,2],[3,4],[5,6],[7,8]]) == 4\n",
    "assert findMinArrowShots([[1,2],[2,3],[3,4],[4,5]]) == 2"
   ]
  },
  {
   "cell_type": "code",
   "execution_count": 8,
   "id": "602ae596",
   "metadata": {
    "execution": {
     "iopub.execute_input": "2024-07-01T16:00:10.910106Z",
     "iopub.status.busy": "2024-07-01T16:00:10.909692Z",
     "iopub.status.idle": "2024-07-01T16:00:10.914271Z",
     "shell.execute_reply": "2024-07-01T16:00:10.913843Z"
    },
    "lines_to_next_cell": 1,
    "papermill": {
     "duration": 0.010935,
     "end_time": "2024-07-01T16:00:10.915309",
     "exception": false,
     "start_time": "2024-07-01T16:00:10.904374",
     "status": "completed"
    },
    "tags": []
   },
   "outputs": [],
   "source": [
    "# Q4\n",
    "def numberOfArithmeticSlicesBrute(nums: list[int]) -> int:\n",
    "    def is_valid(sub: list[int]) -> bool:\n",
    "        if len(sub) < 3:\n",
    "            return False\n",
    "        else:\n",
    "            diff = sub[1] - sub[0]\n",
    "            for i in range(len(sub) - 1):\n",
    "                if sub[i + 1] - sub[i] != diff:\n",
    "                    return False\n",
    "            return True\n",
    "\n",
    "    count = 0\n",
    "    def backtrack(i: int, subseq: list[int]):\n",
    "        if i == N:\n",
    "            count += is_valid(subseq)\n",
    "        else:\n",
    "            subseq.append(nums[i])\n",
    "            backtrack(i + 1, subseq)\n",
    "            subseq.pop()\n",
    "            backtrack(i + 1, subseq)\n",
    "\n",
    "    N = len(nums)\n",
    "    backtrack(0, [])\n",
    "    return count"
   ]
  },
  {
   "cell_type": "code",
   "execution_count": 9,
   "id": "f1e64142",
   "metadata": {
    "execution": {
     "iopub.execute_input": "2024-07-01T16:00:10.925721Z",
     "iopub.status.busy": "2024-07-01T16:00:10.925305Z",
     "iopub.status.idle": "2024-07-01T16:00:10.929856Z",
     "shell.execute_reply": "2024-07-01T16:00:10.929412Z"
    },
    "lines_to_next_cell": 1,
    "papermill": {
     "duration": 0.010906,
     "end_time": "2024-07-01T16:00:10.930953",
     "exception": false,
     "start_time": "2024-07-01T16:00:10.920047",
     "status": "completed"
    },
    "tags": []
   },
   "outputs": [],
   "source": [
    "# Upsolving\n",
    "# https://www.youtube.com/watch?v=YIMwwT9JdIE\n",
    "def numberOfArithmeticSlices(nums: list[int]) -> int:\n",
    "    \"\"\"\n",
    "    Ending at index 'j' what is maximum number of arthimetic subsequences that I can form >= 2\n",
    "    \"\"\"\n",
    "    N = len(nums)\n",
    "    dp: list[collections.defaultdict[int, int]] = [collections.defaultdict(int) for _ in range(N)]\n",
    "    sub_count = dp_sum = 0\n",
    "    for j in range(N):\n",
    "        for i in range(j):\n",
    "            delta = nums[i] - nums[j]\n",
    "            dp[j][delta] += dp[i][delta] + 1\n",
    "            sub_count, dp_sum = sub_count + 1, dp_sum + dp[i][delta] + 1\n",
    "\n",
    "    return dp_sum - sub_count\n",
    "\n",
    "# Testing the solution\n",
    "assert numberOfArithmeticSlices([2,4,6,8,10]) == 7\n",
    "assert numberOfArithmeticSlices([7,7,7,7,7]) == 16"
   ]
  },
  {
   "cell_type": "markdown",
   "id": "79053be1",
   "metadata": {
    "papermill": {
     "duration": 0.004663,
     "end_time": "2024-07-01T16:00:10.940392",
     "exception": false,
     "start_time": "2024-07-01T16:00:10.935729",
     "status": "completed"
    },
    "tags": []
   },
   "source": [
    "LC VC: June 26th 2024"
   ]
  },
  {
   "cell_type": "code",
   "execution_count": 10,
   "id": "2e438aa0",
   "metadata": {
    "execution": {
     "iopub.execute_input": "2024-07-01T16:00:10.950612Z",
     "iopub.status.busy": "2024-07-01T16:00:10.950349Z",
     "iopub.status.idle": "2024-07-01T16:00:10.955086Z",
     "shell.execute_reply": "2024-07-01T16:00:10.954650Z"
    },
    "lines_to_next_cell": 1,
    "papermill": {
     "duration": 0.010968,
     "end_time": "2024-07-01T16:00:10.956100",
     "exception": false,
     "start_time": "2024-07-01T16:00:10.945132",
     "status": "completed"
    },
    "tags": []
   },
   "outputs": [],
   "source": [
    "# Q4: Pattern 132\n",
    "# https://www.youtube.com/watch?v=q5ANAl8Z458\n",
    "# https://leetcode.com/problems/132-pattern/submissions/1301126531/\n",
    "def find132pattern(nums: list[int]) -> bool:\n",
    "    N = len(nums)\n",
    "\n",
    "    # Monotonic stack, storing min values till index - value, min pairs\n",
    "    stack: list[tuple[int, int]] = []\n",
    "    min_: int = nums[0]\n",
    "\n",
    "    for n in nums:\n",
    "        while stack and stack[-1][0] <= n:\n",
    "            stack.pop()\n",
    "\n",
    "        if stack and stack[-1][1] < n:\n",
    "            return True\n",
    "\n",
    "        stack.append((n, min_))\n",
    "        min_ = min(min_, n)\n",
    "\n",
    "    return False\n",
    "\n",
    "# Testing the solution\n",
    "assert find132pattern([1,2,3,4]) == False\n",
    "assert find132pattern([3,1,4,2]) == True\n",
    "assert find132pattern([-1,3,2,0]) == True\n",
    "assert find132pattern([3,1,2]) == False"
   ]
  },
  {
   "cell_type": "markdown",
   "id": "6afba366",
   "metadata": {
    "papermill": {
     "duration": 0.004674,
     "end_time": "2024-07-01T16:00:10.965568",
     "exception": false,
     "start_time": "2024-07-01T16:00:10.960894",
     "status": "completed"
    },
    "tags": []
   },
   "source": [
    "Balance a Binary Search tree"
   ]
  },
  {
   "cell_type": "code",
   "execution_count": 11,
   "id": "47bab318",
   "metadata": {
    "execution": {
     "iopub.execute_input": "2024-07-01T16:00:10.976080Z",
     "iopub.status.busy": "2024-07-01T16:00:10.975627Z",
     "iopub.status.idle": "2024-07-01T16:00:10.981526Z",
     "shell.execute_reply": "2024-07-01T16:00:10.981063Z"
    },
    "lines_to_next_cell": 1,
    "papermill": {
     "duration": 0.012254,
     "end_time": "2024-07-01T16:00:10.982564",
     "exception": false,
     "start_time": "2024-07-01T16:00:10.970310",
     "status": "completed"
    },
    "tags": []
   },
   "outputs": [
    {
     "name": "stdout",
     "output_type": "stream",
     "text": [
      "[3, 2, 4, 1]\n"
     ]
    }
   ],
   "source": [
    "# https://leetcode.com/problems/balance-a-binary-search-tree/submissions/1301150197\n",
    "def balanceBST(root: BinaryTreeNode) -> BinaryTreeNode|None:\n",
    "    def createBalancedBST(nodes_: list[int]) -> BinaryTreeNode|None:\n",
    "        N = len(nodes_)\n",
    "        if N == 0:\n",
    "            return None\n",
    "        else:\n",
    "            mid = N // 2\n",
    "            root_: BinaryTreeNode = BinaryTreeNode(nodes_[mid])\n",
    "            root_.left = createBalancedBST(nodes_[:mid])\n",
    "            root_.right = createBalancedBST(nodes_[mid + 1:])\n",
    "            return root_\n",
    "\n",
    "    # 1. Retrieve all elements in-order traversal (left, root, right), this returns an array in sorted order\n",
    "    curr: BinaryTreeNode = root\n",
    "    nodes: list[int] = []\n",
    "    stack: list[BinaryTreeNode] = []\n",
    "    while True:\n",
    "        while curr:\n",
    "            stack.append(curr)\n",
    "            curr = curr.left\n",
    "        if stack:\n",
    "            curr = stack.pop()\n",
    "            nodes.append(curr.val)\n",
    "            curr = curr.right\n",
    "        else:\n",
    "            break\n",
    "\n",
    "    # 2. Create a BST from the nodes: Take the middle element as the root, create left and right subtree recursively\n",
    "    return createBalancedBST(nodes)\n",
    "\n",
    "# Testing the solution\n",
    "print(balanceBST(BinaryTreeNode.from_array([1,None,2,None,3,None,4,None,None])).to_list())"
   ]
  },
  {
   "cell_type": "markdown",
   "id": "304faf22",
   "metadata": {
    "papermill": {
     "duration": 0.004984,
     "end_time": "2024-07-01T16:00:10.992601",
     "exception": false,
     "start_time": "2024-07-01T16:00:10.987617",
     "status": "completed"
    },
    "tags": []
   },
   "source": [
    "LC Practice"
   ]
  },
  {
   "cell_type": "code",
   "execution_count": 12,
   "id": "0ac43f3b",
   "metadata": {
    "execution": {
     "iopub.execute_input": "2024-07-01T16:00:11.003075Z",
     "iopub.status.busy": "2024-07-01T16:00:11.002670Z",
     "iopub.status.idle": "2024-07-01T16:00:11.006862Z",
     "shell.execute_reply": "2024-07-01T16:00:11.006431Z"
    },
    "lines_to_next_cell": 1,
    "papermill": {
     "duration": 0.010487,
     "end_time": "2024-07-01T16:00:11.007887",
     "exception": false,
     "start_time": "2024-07-01T16:00:10.997400",
     "status": "completed"
    },
    "tags": []
   },
   "outputs": [],
   "source": [
    "def subarraySum(nums: list[int], k: int) -> int:\n",
    "    prefix: collections.defaultdict = collections.defaultdict(int)\n",
    "    prefix[0], count, psum = 1, 0, 0\n",
    "    for n in nums:\n",
    "        psum += n\n",
    "        count += prefix[psum - k]\n",
    "        prefix[psum] += 1\n",
    "\n",
    "    return count\n",
    "\n",
    "# Testing the solution\n",
    "assert subarraySum([1,2,3], 3) == 2\n",
    "assert subarraySum([1,1,1], 2) == 2"
   ]
  },
  {
   "cell_type": "code",
   "execution_count": 13,
   "id": "b278e908",
   "metadata": {
    "execution": {
     "iopub.execute_input": "2024-07-01T16:00:11.018572Z",
     "iopub.status.busy": "2024-07-01T16:00:11.018130Z",
     "iopub.status.idle": "2024-07-01T16:00:11.023890Z",
     "shell.execute_reply": "2024-07-01T16:00:11.023356Z"
    },
    "lines_to_next_cell": 1,
    "papermill": {
     "duration": 0.012199,
     "end_time": "2024-07-01T16:00:11.024962",
     "exception": false,
     "start_time": "2024-07-01T16:00:11.012763",
     "status": "completed"
    },
    "tags": []
   },
   "outputs": [],
   "source": [
    "# https://leetcode.com/problems/continuous-subarray-sum/submissions/1301461461/\n",
    "def checkSubarraySum(nums: list[int], k: int) -> bool:\n",
    "    N = len(nums)\n",
    "    prefix: dict[int, int] = {0: -1}\n",
    "    psum = 0\n",
    "    for i in range(N):\n",
    "        psum = (psum + nums[i]) % k\n",
    "        if i - prefix.get(psum, i) >= 2:\n",
    "            return True\n",
    "        prefix[psum] = min(prefix.get(psum, i), i)\n",
    "\n",
    "    return False\n",
    "\n",
    "# Testing the solution\n",
    "assert checkSubarraySum([23,2,4,6,7], 6) == True\n",
    "assert checkSubarraySum([0], 1) == False\n",
    "assert checkSubarraySum([23,2,6,4,7,13], 13) == False\n",
    "assert checkSubarraySum([23,2,6,4,7,13,13], 13) == True\n",
    "assert checkSubarraySum([1,0], 2) == False\n",
    "assert checkSubarraySum([1,2,3,4], 6) == True"
   ]
  },
  {
   "cell_type": "markdown",
   "id": "b3ac55c5",
   "metadata": {
    "papermill": {
     "duration": 0.004725,
     "end_time": "2024-07-01T16:00:11.034579",
     "exception": false,
     "start_time": "2024-07-01T16:00:11.029854",
     "status": "completed"
    },
    "tags": []
   },
   "source": [
    "Check if array is sorted and rotated"
   ]
  },
  {
   "cell_type": "code",
   "execution_count": 14,
   "id": "05c610bc",
   "metadata": {
    "execution": {
     "iopub.execute_input": "2024-07-01T16:00:11.045041Z",
     "iopub.status.busy": "2024-07-01T16:00:11.044753Z",
     "iopub.status.idle": "2024-07-01T16:00:11.049376Z",
     "shell.execute_reply": "2024-07-01T16:00:11.048938Z"
    },
    "lines_to_next_cell": 1,
    "papermill": {
     "duration": 0.01106,
     "end_time": "2024-07-01T16:00:11.050430",
     "exception": false,
     "start_time": "2024-07-01T16:00:11.039370",
     "status": "completed"
    },
    "tags": []
   },
   "outputs": [],
   "source": [
    "def checkArraySortedAndRotated(nums: list[int]) -> bool:\n",
    "    N = len(nums)\n",
    "    count = 0\n",
    "    for i in range(N - 1):\n",
    "        count += nums[i + 1] < nums[i]\n",
    "    return count == 0 or (count == 1 and nums[0] > nums[-1])\n",
    "\n",
    "# Testing the solution\n",
    "assert checkArraySortedAndRotated([3,4,5,1,2]) == True\n",
    "assert checkArraySortedAndRotated([2,1,3,4]) == False\n",
    "assert checkArraySortedAndRotated([3,2,1]) == False"
   ]
  },
  {
   "cell_type": "markdown",
   "id": "2d033d8f",
   "metadata": {
    "papermill": {
     "duration": 0.004745,
     "end_time": "2024-07-01T16:00:11.060187",
     "exception": false,
     "start_time": "2024-07-01T16:00:11.055442",
     "status": "completed"
    },
    "tags": []
   },
   "source": [
    "All ancestors of a node in a DAG"
   ]
  },
  {
   "cell_type": "code",
   "execution_count": 15,
   "id": "50e7e595",
   "metadata": {
    "execution": {
     "iopub.execute_input": "2024-07-01T16:00:11.070741Z",
     "iopub.status.busy": "2024-07-01T16:00:11.070395Z",
     "iopub.status.idle": "2024-07-01T16:00:11.076994Z",
     "shell.execute_reply": "2024-07-01T16:00:11.076541Z"
    },
    "lines_to_next_cell": 1,
    "papermill": {
     "duration": 0.012981,
     "end_time": "2024-07-01T16:00:11.078041",
     "exception": false,
     "start_time": "2024-07-01T16:00:11.065060",
     "status": "completed"
    },
    "tags": []
   },
   "outputs": [],
   "source": [
    "# https://leetcode.com/problems/all-ancestors-of-a-node-in-a-directed-acyclic-graph/submissions/1304043339\n",
    "def getAncestors(N: int, edges: list[list[int]]) -> list[list[int]]:\n",
    "    @functools.cache\n",
    "    def DFS(n: int) -> set[int]:\n",
    "        ancestors: set[int] = set()\n",
    "        for next_ in adjl[n]:\n",
    "            ancestors.add(next_)\n",
    "            for next_ancestor in DFS(next_):\n",
    "                ancestors.add(next_ancestor)\n",
    "        return ancestors\n",
    "\n",
    "    adjl: collections.defaultdict[int, list[int]] = collections.defaultdict(list)\n",
    "    for n1, n2 in edges:\n",
    "        adjl[n2].append(n1)\n",
    "\n",
    "    result: list[list[int]] = [[] for _ in range(N)]\n",
    "    for i in range(N):\n",
    "        result[i] = sorted(DFS(i))\n",
    "\n",
    "    return result\n",
    "\n",
    "# Testing the solution\n",
    "assert getAncestors(8, [[0,3],[0,4],[1,3],[2,4],[2,7],[3,5],[3,6],[3,7],[4,6]]) == [[],[],[],[0,1],[0,2],[0,1,3],[0,1,2,3,4],[0,1,2,3]]\n",
    "assert getAncestors(5, [[0,1],[0,2],[0,3],[0,4],[1,2],[1,3],[1,4],[2,3],[2,4],[3,4]]) == [[],[0],[0,1],[0,1,2],[0,1,2,3]]"
   ]
  },
  {
   "cell_type": "markdown",
   "id": "0fb25f1d",
   "metadata": {
    "papermill": {
     "duration": 0.004752,
     "end_time": "2024-07-01T16:00:11.087677",
     "exception": false,
     "start_time": "2024-07-01T16:00:11.082925",
     "status": "completed"
    },
    "tags": []
   },
   "source": [
    "LC Contest: 30th June 2024"
   ]
  },
  {
   "cell_type": "code",
   "execution_count": 16,
   "id": "2cc84226",
   "metadata": {
    "execution": {
     "iopub.execute_input": "2024-07-01T16:00:11.098388Z",
     "iopub.status.busy": "2024-07-01T16:00:11.098117Z",
     "iopub.status.idle": "2024-07-01T16:00:11.103247Z",
     "shell.execute_reply": "2024-07-01T16:00:11.102726Z"
    },
    "lines_to_next_cell": 1,
    "papermill": {
     "duration": 0.011661,
     "end_time": "2024-07-01T16:00:11.104265",
     "exception": false,
     "start_time": "2024-07-01T16:00:11.092604",
     "status": "completed"
    },
    "tags": []
   },
   "outputs": [],
   "source": [
    "# Q1\n",
    "def maxHeightOfTriangle(red: int, blue: int) -> int:\n",
    "    @functools.cache\n",
    "    def backtrack(i: int) -> tuple[int, int]:\n",
    "        if i == 0:\n",
    "            return 0, 0\n",
    "        else:\n",
    "            prev = backtrack(i - 1)\n",
    "            if i % 2 == 0:\n",
    "                return prev[0], prev[1] + i\n",
    "            else:\n",
    "                return prev[0] + i, prev[1]\n",
    "\n",
    "    red, blue = sorted([red, blue])\n",
    "    low, high = 1, 20\n",
    "    while low <= high:\n",
    "        mid = (low + high) // 2\n",
    "        r, b = sorted(backtrack(mid))\n",
    "        if r <= red and b <= blue:\n",
    "            low = mid + 1\n",
    "        else:\n",
    "            high = mid - 1\n",
    "\n",
    "    return high\n",
    "\n",
    "# Testing the solution\n",
    "assert maxHeightOfTriangle(10, 1) == 2\n",
    "assert maxHeightOfTriangle(1, 1) == 1\n",
    "assert maxHeightOfTriangle(2, 1) == 2\n",
    "assert maxHeightOfTriangle(2, 4) == 3"
   ]
  },
  {
   "cell_type": "code",
   "execution_count": 17,
   "id": "3acecb65",
   "metadata": {
    "execution": {
     "iopub.execute_input": "2024-07-01T16:00:11.114763Z",
     "iopub.status.busy": "2024-07-01T16:00:11.114338Z",
     "iopub.status.idle": "2024-07-01T16:00:11.118944Z",
     "shell.execute_reply": "2024-07-01T16:00:11.118525Z"
    },
    "lines_to_next_cell": 1,
    "papermill": {
     "duration": 0.010949,
     "end_time": "2024-07-01T16:00:11.119995",
     "exception": false,
     "start_time": "2024-07-01T16:00:11.109046",
     "status": "completed"
    },
    "tags": []
   },
   "outputs": [],
   "source": [
    "# Q2\n",
    "def maximumLength(nums: list[int]) -> int:\n",
    "    \"\"\"\n",
    "    Either all consequetive element pairs should sum up to an even number or to an odd number\n",
    "\n",
    "    If all elements are to sum to an even number: either all should be even or all numbers should be odd => max(odd_count, even_count)\n",
    "    If all elements are to sum to an odd number: greedily check validity (consequetive elements should be odd-even or even-odd)\n",
    "    \"\"\"\n",
    "    odd_sum_length = odd_count = even_count = 0\n",
    "    prev = 0 if nums[0] % 2 else 1\n",
    "    for i in range(len(nums)):\n",
    "        if nums[i] % 2 == 0:\n",
    "            even_count += 1\n",
    "        else:\n",
    "            odd_count += 1\n",
    "\n",
    "        if nums[i] % 2 != prev:\n",
    "            odd_sum_length, prev = odd_sum_length + 1, nums[i] % 2\n",
    "\n",
    "    return max(odd_sum_length, odd_count, even_count)\n",
    "\n",
    "# Testing the solution\n",
    "assert maximumLength([1,2,3,4]) == 4\n",
    "assert maximumLength([1,2,1,1,2,1,2]) == 6\n",
    "assert maximumLength([1,3]) == 2"
   ]
  },
  {
   "cell_type": "markdown",
   "id": "7d9b395f",
   "metadata": {
    "papermill": {
     "duration": 0.004781,
     "end_time": "2024-07-01T16:00:11.129694",
     "exception": false,
     "start_time": "2024-07-01T16:00:11.124913",
     "status": "completed"
    },
    "tags": []
   },
   "source": [
    "search-query-auto-complete: Striver A2Z: First question"
   ]
  },
  {
   "cell_type": "code",
   "execution_count": 18,
   "id": "ac84136c",
   "metadata": {
    "execution": {
     "iopub.execute_input": "2024-07-01T16:00:11.140184Z",
     "iopub.status.busy": "2024-07-01T16:00:11.139791Z",
     "iopub.status.idle": "2024-07-01T16:00:11.147413Z",
     "shell.execute_reply": "2024-07-01T16:00:11.146900Z"
    },
    "lines_to_next_cell": 1,
    "papermill": {
     "duration": 0.014,
     "end_time": "2024-07-01T16:00:11.148454",
     "exception": false,
     "start_time": "2024-07-01T16:00:11.134454",
     "status": "completed"
    },
    "tags": []
   },
   "outputs": [],
   "source": [
    "class AutoCompleteSystem:\n",
    "    def __init__(self, sentences: list[str], times: list[int]) -> None:\n",
    "        # Store a dictionary of sentences along with their frequencies\n",
    "        self.sentences: collections.defaultdict[str, int] = collections.defaultdict(lambda: 0)\n",
    "        self.acc: str = \"\"\n",
    "        for sentence, freq in zip(sentences, times):\n",
    "            self.sentences[sentence] = freq\n",
    "\n",
    "    def input(self, character: str) -> list[str]:\n",
    "        if character != '#':\n",
    "            self.acc += character\n",
    "            result: list[tuple[int, str]] = []\n",
    "            for sentence, freq in self.sentences.items():\n",
    "                if sentence.startswith(self.acc):\n",
    "                    result.append((-freq, sentence))\n",
    "            result.sort()\n",
    "            return list(map(lambda x: x[1], result[:3]))\n",
    "\n",
    "        else:\n",
    "            self.sentences[self.acc] += 1\n",
    "            self.acc = ''\n",
    "            return []\n",
    "\n",
    "# Testing the solution - 1\n",
    "temp = AutoCompleteSystem([\"i love you\", \"island\", \"ironman\", \"i love geeksforgeeks\"], [5,3,2,2])\n",
    "assert temp.input(\"i\") == [\"i love you\", \"island\",\"i love geeksforgeeks\"]\n",
    "assert temp.input(\" \") == [\"i love you\", \"i love geeksforgeeks\"]\n",
    "assert temp.input(\"a\") == []\n",
    "assert temp.input(\"#\") == []\n",
    "assert temp.input(\"i\") == ['i love you', 'island', 'i love geeksforgeeks']\n",
    "assert temp.input(\" \") == ['i love you', 'i love geeksforgeeks', 'i a']\n",
    "assert temp.input(\"a\") == ['i a']\n",
    "assert temp.input(\"m\") == []\n",
    "assert temp.input(\"#\") == []\n",
    "assert temp.input(\"i\") == ['i love you', 'island', 'i love geeksforgeeks']\n",
    "assert temp.input(\" \") == ['i love you', 'i love geeksforgeeks', 'i a']\n",
    "assert temp.input(\"a\") == ['i a', 'i am']\n",
    "assert temp.input(\"m\") == ['i am']\n",
    "assert temp.input(\" \") == []"
   ]
  },
  {
   "cell_type": "markdown",
   "id": "4629edb8",
   "metadata": {
    "papermill": {
     "duration": 0.00477,
     "end_time": "2024-07-01T16:00:11.158103",
     "exception": false,
     "start_time": "2024-07-01T16:00:11.153333",
     "status": "completed"
    },
    "tags": []
   },
   "source": [
    "Patterns practice"
   ]
  },
  {
   "cell_type": "code",
   "execution_count": 19,
   "id": "0a0790b9",
   "metadata": {
    "execution": {
     "iopub.execute_input": "2024-07-01T16:00:11.168661Z",
     "iopub.status.busy": "2024-07-01T16:00:11.168325Z",
     "iopub.status.idle": "2024-07-01T16:00:11.171860Z",
     "shell.execute_reply": "2024-07-01T16:00:11.171366Z"
    },
    "lines_to_next_cell": 1,
    "papermill": {
     "duration": 0.010019,
     "end_time": "2024-07-01T16:00:11.172990",
     "exception": false,
     "start_time": "2024-07-01T16:00:11.162971",
     "status": "completed"
    },
    "tags": []
   },
   "outputs": [
    {
     "name": "stdout",
     "output_type": "stream",
     "text": [
      "*****\n",
      "*****\n",
      "*****\n",
      "*****\n",
      "*****\n"
     ]
    }
   ],
   "source": [
    "def p1(N: int) -> None:\n",
    "    for i in range(N):\n",
    "        for j in range(N):\n",
    "            print('*', end='')\n",
    "        print()\n",
    "\n",
    "# Testing the solution\n",
    "p1(5)"
   ]
  },
  {
   "cell_type": "code",
   "execution_count": 20,
   "id": "3917a2b2",
   "metadata": {
    "execution": {
     "iopub.execute_input": "2024-07-01T16:00:11.183852Z",
     "iopub.status.busy": "2024-07-01T16:00:11.183491Z",
     "iopub.status.idle": "2024-07-01T16:00:11.187067Z",
     "shell.execute_reply": "2024-07-01T16:00:11.186561Z"
    },
    "lines_to_next_cell": 1,
    "papermill": {
     "duration": 0.010138,
     "end_time": "2024-07-01T16:00:11.188121",
     "exception": false,
     "start_time": "2024-07-01T16:00:11.177983",
     "status": "completed"
    },
    "tags": []
   },
   "outputs": [
    {
     "name": "stdout",
     "output_type": "stream",
     "text": [
      "*\n",
      "**\n",
      "***\n",
      "****\n",
      "*****\n"
     ]
    }
   ],
   "source": [
    "def p2(N: int) -> None:\n",
    "    for i in range(N):\n",
    "        for j in range(i + 1):\n",
    "            print(\"*\", end='')\n",
    "        print()\n",
    "\n",
    "# Testing the solution\n",
    "p2(5)"
   ]
  },
  {
   "cell_type": "code",
   "execution_count": 21,
   "id": "1a2807e5",
   "metadata": {
    "execution": {
     "iopub.execute_input": "2024-07-01T16:00:11.199220Z",
     "iopub.status.busy": "2024-07-01T16:00:11.198889Z",
     "iopub.status.idle": "2024-07-01T16:00:11.202376Z",
     "shell.execute_reply": "2024-07-01T16:00:11.201883Z"
    },
    "lines_to_next_cell": 1,
    "papermill": {
     "duration": 0.010094,
     "end_time": "2024-07-01T16:00:11.203378",
     "exception": false,
     "start_time": "2024-07-01T16:00:11.193284",
     "status": "completed"
    },
    "tags": []
   },
   "outputs": [
    {
     "name": "stdout",
     "output_type": "stream",
     "text": [
      "1 \n",
      "1 2 \n",
      "1 2 3 \n",
      "1 2 3 4 \n",
      "1 2 3 4 5 \n"
     ]
    }
   ],
   "source": [
    "def p3(N: int) -> None:\n",
    "    for i in range(N):\n",
    "        for j in range(i + 1):\n",
    "            print(j + 1, end=' ')\n",
    "        print()\n",
    "\n",
    "# Testing the solution\n",
    "p3(5)"
   ]
  },
  {
   "cell_type": "code",
   "execution_count": 22,
   "id": "a81ab688",
   "metadata": {
    "execution": {
     "iopub.execute_input": "2024-07-01T16:00:11.214553Z",
     "iopub.status.busy": "2024-07-01T16:00:11.214153Z",
     "iopub.status.idle": "2024-07-01T16:00:11.217642Z",
     "shell.execute_reply": "2024-07-01T16:00:11.217141Z"
    },
    "lines_to_next_cell": 1,
    "papermill": {
     "duration": 0.010145,
     "end_time": "2024-07-01T16:00:11.218683",
     "exception": false,
     "start_time": "2024-07-01T16:00:11.208538",
     "status": "completed"
    },
    "tags": []
   },
   "outputs": [
    {
     "name": "stdout",
     "output_type": "stream",
     "text": [
      "1 \n",
      "2 2 \n",
      "3 3 3 \n",
      "4 4 4 4 \n",
      "5 5 5 5 5 \n"
     ]
    }
   ],
   "source": [
    "def p4(N: int) -> None:\n",
    "    for i in range(N):\n",
    "        for j in range(i + 1):\n",
    "            print(i + 1, end=' ')\n",
    "        print()\n",
    "\n",
    "# Testing the solution\n",
    "p4(5)"
   ]
  },
  {
   "cell_type": "code",
   "execution_count": 23,
   "id": "a3ae50be",
   "metadata": {
    "execution": {
     "iopub.execute_input": "2024-07-01T16:00:11.229853Z",
     "iopub.status.busy": "2024-07-01T16:00:11.229525Z",
     "iopub.status.idle": "2024-07-01T16:00:11.233253Z",
     "shell.execute_reply": "2024-07-01T16:00:11.232796Z"
    },
    "lines_to_next_cell": 1,
    "papermill": {
     "duration": 0.010402,
     "end_time": "2024-07-01T16:00:11.234299",
     "exception": false,
     "start_time": "2024-07-01T16:00:11.223897",
     "status": "completed"
    },
    "tags": []
   },
   "outputs": [
    {
     "name": "stdout",
     "output_type": "stream",
     "text": [
      "*****\n",
      "****\n",
      "***\n",
      "**\n",
      "*\n"
     ]
    }
   ],
   "source": [
    "def p5(N: int) -> None:\n",
    "    for i in range(N, 0, -1):\n",
    "        for j in range(i):\n",
    "            print(\"*\", end='')\n",
    "        print()\n",
    "\n",
    "# Testing the solution\n",
    "p5(5)"
   ]
  },
  {
   "cell_type": "code",
   "execution_count": 24,
   "id": "2c02ed3c",
   "metadata": {
    "execution": {
     "iopub.execute_input": "2024-07-01T16:00:11.246102Z",
     "iopub.status.busy": "2024-07-01T16:00:11.245687Z",
     "iopub.status.idle": "2024-07-01T16:00:11.249657Z",
     "shell.execute_reply": "2024-07-01T16:00:11.249167Z"
    },
    "lines_to_next_cell": 1,
    "papermill": {
     "duration": 0.011015,
     "end_time": "2024-07-01T16:00:11.250674",
     "exception": false,
     "start_time": "2024-07-01T16:00:11.239659",
     "status": "completed"
    },
    "tags": []
   },
   "outputs": [
    {
     "name": "stdout",
     "output_type": "stream",
     "text": [
      "12345\n",
      "1234\n",
      "123\n",
      "12\n",
      "1\n"
     ]
    }
   ],
   "source": [
    "def p6(N: int) -> None:\n",
    "    for i in range(N, 0, -1):\n",
    "        for j in range(i):\n",
    "            print(j + 1, end='')\n",
    "        print()\n",
    "\n",
    "# Testing the solution\n",
    "p6(5)"
   ]
  },
  {
   "cell_type": "code",
   "execution_count": 25,
   "id": "126c1e65",
   "metadata": {
    "execution": {
     "iopub.execute_input": "2024-07-01T16:00:11.262381Z",
     "iopub.status.busy": "2024-07-01T16:00:11.261945Z",
     "iopub.status.idle": "2024-07-01T16:00:11.266838Z",
     "shell.execute_reply": "2024-07-01T16:00:11.266394Z"
    },
    "lines_to_next_cell": 1,
    "papermill": {
     "duration": 0.011776,
     "end_time": "2024-07-01T16:00:11.267826",
     "exception": false,
     "start_time": "2024-07-01T16:00:11.256050",
     "status": "completed"
    },
    "tags": []
   },
   "outputs": [
    {
     "name": "stdout",
     "output_type": "stream",
     "text": [
      "    *    \n",
      "   ***   \n",
      "  *****  \n",
      " ******* \n",
      "*********\n"
     ]
    }
   ],
   "source": [
    "def p7(N: int) -> None:\n",
    "    max_stars: int = (2 * N) - 1\n",
    "    for i in range(1, N + 1):\n",
    "        stars: int = (2 * i) - 1\n",
    "        half = (max_stars - stars) // 2\n",
    "        for j in range(half):\n",
    "            print(\" \", end='')\n",
    "        for j in range(stars):\n",
    "            print(\"*\", end='')\n",
    "        for j in range(half):\n",
    "            print(\" \", end='')\n",
    "        print()\n",
    "\n",
    "# Testing the solution\n",
    "p7(5)"
   ]
  },
  {
   "cell_type": "code",
   "execution_count": 26,
   "id": "cb4e9553",
   "metadata": {
    "execution": {
     "iopub.execute_input": "2024-07-01T16:00:11.279206Z",
     "iopub.status.busy": "2024-07-01T16:00:11.278884Z",
     "iopub.status.idle": "2024-07-01T16:00:11.283610Z",
     "shell.execute_reply": "2024-07-01T16:00:11.283157Z"
    },
    "lines_to_next_cell": 1,
    "papermill": {
     "duration": 0.011642,
     "end_time": "2024-07-01T16:00:11.284748",
     "exception": false,
     "start_time": "2024-07-01T16:00:11.273106",
     "status": "completed"
    },
    "tags": []
   },
   "outputs": [
    {
     "name": "stdout",
     "output_type": "stream",
     "text": [
      "*********\n",
      " ******* \n",
      "  *****  \n",
      "   ***   \n",
      "    *    \n"
     ]
    }
   ],
   "source": [
    "def p8(N: int) -> None:\n",
    "    max_stars: int = (2 * N) - 1\n",
    "    for i in range(N, 0, -1):\n",
    "        stars: int = (2 * i) - 1\n",
    "        half = (max_stars - stars) // 2\n",
    "        for j in range(half):\n",
    "            print(\" \", end='')\n",
    "        for j in range(stars):\n",
    "            print(\"*\", end='')\n",
    "        for j in range(half):\n",
    "            print(\" \", end='')\n",
    "        print()\n",
    "\n",
    "# Testing the solution\n",
    "p8(5)"
   ]
  },
  {
   "cell_type": "code",
   "execution_count": 27,
   "id": "7c80140a",
   "metadata": {
    "execution": {
     "iopub.execute_input": "2024-07-01T16:00:11.296656Z",
     "iopub.status.busy": "2024-07-01T16:00:11.296358Z",
     "iopub.status.idle": "2024-07-01T16:00:11.300074Z",
     "shell.execute_reply": "2024-07-01T16:00:11.299645Z"
    },
    "lines_to_next_cell": 1,
    "papermill": {
     "duration": 0.010988,
     "end_time": "2024-07-01T16:00:11.301122",
     "exception": false,
     "start_time": "2024-07-01T16:00:11.290134",
     "status": "completed"
    },
    "tags": []
   },
   "outputs": [
    {
     "name": "stdout",
     "output_type": "stream",
     "text": [
      "    *    \n",
      "   ***   \n",
      "  *****  \n",
      " ******* \n",
      "*********\n",
      "*********\n",
      " ******* \n",
      "  *****  \n",
      "   ***   \n",
      "    *    \n"
     ]
    }
   ],
   "source": [
    "def p9(N: int) -> None:\n",
    "    p7(N)\n",
    "    p8(N)\n",
    "\n",
    "# Testing the solution\n",
    "p9(5)"
   ]
  },
  {
   "cell_type": "code",
   "execution_count": 28,
   "id": "2e32fb2d",
   "metadata": {
    "execution": {
     "iopub.execute_input": "2024-07-01T16:00:11.313143Z",
     "iopub.status.busy": "2024-07-01T16:00:11.312628Z",
     "iopub.status.idle": "2024-07-01T16:00:11.316995Z",
     "shell.execute_reply": "2024-07-01T16:00:11.316516Z"
    },
    "lines_to_next_cell": 1,
    "papermill": {
     "duration": 0.011394,
     "end_time": "2024-07-01T16:00:11.318053",
     "exception": false,
     "start_time": "2024-07-01T16:00:11.306659",
     "status": "completed"
    },
    "tags": []
   },
   "outputs": [
    {
     "name": "stdout",
     "output_type": "stream",
     "text": [
      "*\n",
      "**\n",
      "***\n",
      "****\n",
      "*****\n",
      "****\n",
      "***\n",
      "**\n",
      "*\n"
     ]
    }
   ],
   "source": [
    "def p10(N: int) -> None:\n",
    "    for i in range(N):\n",
    "        for j in range(i + 1):\n",
    "            print(\"*\", end='')\n",
    "        print()\n",
    "\n",
    "    for i in range(N - 1, 0, -1):\n",
    "        for j in range(i):\n",
    "            print(\"*\", end='')\n",
    "        print()\n",
    "\n",
    "# Testing the solution\n",
    "p10(5)"
   ]
  },
  {
   "cell_type": "code",
   "execution_count": 29,
   "id": "36d6b021",
   "metadata": {
    "execution": {
     "iopub.execute_input": "2024-07-01T16:00:11.329975Z",
     "iopub.status.busy": "2024-07-01T16:00:11.329534Z",
     "iopub.status.idle": "2024-07-01T16:00:11.333287Z",
     "shell.execute_reply": "2024-07-01T16:00:11.332843Z"
    },
    "lines_to_next_cell": 1,
    "papermill": {
     "duration": 0.010837,
     "end_time": "2024-07-01T16:00:11.334375",
     "exception": false,
     "start_time": "2024-07-01T16:00:11.323538",
     "status": "completed"
    },
    "tags": []
   },
   "outputs": [
    {
     "name": "stdout",
     "output_type": "stream",
     "text": [
      "1 \n",
      "0 1 \n",
      "1 0 1 \n",
      "0 1 0 1 \n",
      "1 0 1 0 1 \n"
     ]
    }
   ],
   "source": [
    "def p11(N: int) -> None:\n",
    "    for i in range(N):\n",
    "        for j in range(i + 1):\n",
    "            print(1 if i % 2 == j % 2 else 0, end=\" \")\n",
    "        print()\n",
    "\n",
    "# Testing the solution\n",
    "p11(5)"
   ]
  },
  {
   "cell_type": "code",
   "execution_count": 30,
   "id": "ff248593",
   "metadata": {
    "execution": {
     "iopub.execute_input": "2024-07-01T16:00:11.346340Z",
     "iopub.status.busy": "2024-07-01T16:00:11.345919Z",
     "iopub.status.idle": "2024-07-01T16:00:11.349943Z",
     "shell.execute_reply": "2024-07-01T16:00:11.349523Z"
    },
    "lines_to_next_cell": 1,
    "papermill": {
     "duration": 0.011042,
     "end_time": "2024-07-01T16:00:11.350951",
     "exception": false,
     "start_time": "2024-07-01T16:00:11.339909",
     "status": "completed"
    },
    "tags": []
   },
   "outputs": [
    {
     "name": "stdout",
     "output_type": "stream",
     "text": [
      "1        1\n",
      "12      21\n",
      "123    321\n",
      "1234  4321\n",
      "1234554321\n"
     ]
    }
   ],
   "source": [
    "def p12(N: int) -> None:\n",
    "    for i in range(1, N + 1):\n",
    "        for j in range(1, N + 1):\n",
    "            print(j if i >= j else \" \", end=\"\")\n",
    "        for j in range(N, 0, -1):\n",
    "            print(j if i >= j else \" \", end=\"\")\n",
    "        print()\n",
    "\n",
    "# Testing the solution\n",
    "p12(5)"
   ]
  },
  {
   "cell_type": "code",
   "execution_count": 31,
   "id": "4cb3993a",
   "metadata": {
    "execution": {
     "iopub.execute_input": "2024-07-01T16:00:11.363112Z",
     "iopub.status.busy": "2024-07-01T16:00:11.362643Z",
     "iopub.status.idle": "2024-07-01T16:00:11.366625Z",
     "shell.execute_reply": "2024-07-01T16:00:11.366172Z"
    },
    "lines_to_next_cell": 1,
    "papermill": {
     "duration": 0.011019,
     "end_time": "2024-07-01T16:00:11.367561",
     "exception": false,
     "start_time": "2024-07-01T16:00:11.356542",
     "status": "completed"
    },
    "tags": []
   },
   "outputs": [
    {
     "name": "stdout",
     "output_type": "stream",
     "text": [
      "1 \n",
      "2 3 \n",
      "4 5 6 \n",
      "7 8 9 10 \n",
      "11 12 13 14 15 \n"
     ]
    }
   ],
   "source": [
    "def p13(N: int) -> None:\n",
    "    counter = 1\n",
    "    for i in range(1, N + 1):\n",
    "        for j in range(i):\n",
    "            print(counter, end=\" \")\n",
    "            counter += 1\n",
    "        print()\n",
    "\n",
    "# Testing the solution\n",
    "p13(5)"
   ]
  },
  {
   "cell_type": "code",
   "execution_count": 32,
   "id": "0adac77e",
   "metadata": {
    "execution": {
     "iopub.execute_input": "2024-07-01T16:00:11.380039Z",
     "iopub.status.busy": "2024-07-01T16:00:11.379588Z",
     "iopub.status.idle": "2024-07-01T16:00:11.383420Z",
     "shell.execute_reply": "2024-07-01T16:00:11.382977Z"
    },
    "lines_to_next_cell": 1,
    "papermill": {
     "duration": 0.011191,
     "end_time": "2024-07-01T16:00:11.384518",
     "exception": false,
     "start_time": "2024-07-01T16:00:11.373327",
     "status": "completed"
    },
    "tags": []
   },
   "outputs": [
    {
     "name": "stdout",
     "output_type": "stream",
     "text": [
      "A \n",
      "A B \n",
      "A B C \n",
      "A B C D \n",
      "A B C D E \n"
     ]
    }
   ],
   "source": [
    "def p14(N: int) -> None:\n",
    "    for i in range(1, N + 1):\n",
    "        for j in range(i):\n",
    "            print(chr(ord('A') + j), end=\" \")\n",
    "        print()\n",
    "\n",
    "# Testing the solution\n",
    "p14(5)"
   ]
  },
  {
   "cell_type": "code",
   "execution_count": 33,
   "id": "3918fd7d",
   "metadata": {
    "execution": {
     "iopub.execute_input": "2024-07-01T16:00:11.397016Z",
     "iopub.status.busy": "2024-07-01T16:00:11.396657Z",
     "iopub.status.idle": "2024-07-01T16:00:11.400550Z",
     "shell.execute_reply": "2024-07-01T16:00:11.400052Z"
    },
    "lines_to_next_cell": 1,
    "papermill": {
     "duration": 0.011256,
     "end_time": "2024-07-01T16:00:11.401606",
     "exception": false,
     "start_time": "2024-07-01T16:00:11.390350",
     "status": "completed"
    },
    "tags": []
   },
   "outputs": [
    {
     "name": "stdout",
     "output_type": "stream",
     "text": [
      "A B C D E \n",
      "A B C D \n",
      "A B C \n",
      "A B \n",
      "A \n"
     ]
    }
   ],
   "source": [
    "def p15(N: int) -> None:\n",
    "    for i in range(N, 0, -1):\n",
    "        for j in range(i):\n",
    "            print(chr(ord('A') + j), end=\" \")\n",
    "        print()\n",
    "\n",
    "# Testing the solution\n",
    "p15(5)"
   ]
  },
  {
   "cell_type": "code",
   "execution_count": 34,
   "id": "cc083076",
   "metadata": {
    "execution": {
     "iopub.execute_input": "2024-07-01T16:00:11.414150Z",
     "iopub.status.busy": "2024-07-01T16:00:11.413838Z",
     "iopub.status.idle": "2024-07-01T16:00:11.417548Z",
     "shell.execute_reply": "2024-07-01T16:00:11.417048Z"
    },
    "lines_to_next_cell": 1,
    "papermill": {
     "duration": 0.011161,
     "end_time": "2024-07-01T16:00:11.418639",
     "exception": false,
     "start_time": "2024-07-01T16:00:11.407478",
     "status": "completed"
    },
    "tags": []
   },
   "outputs": [
    {
     "name": "stdout",
     "output_type": "stream",
     "text": [
      "A \n",
      "B B \n",
      "C C C \n",
      "D D D D \n",
      "E E E E E \n"
     ]
    }
   ],
   "source": [
    "def p16(N: int) -> None:\n",
    "    for i in range(1, N + 1):\n",
    "        for j in range(i):\n",
    "            print(chr(ord('A') + i - 1), end=\" \")\n",
    "        print()\n",
    "\n",
    "# Testing the solution\n",
    "p16(5)"
   ]
  },
  {
   "cell_type": "code",
   "execution_count": null,
   "id": "d9432d4b",
   "metadata": {
    "lines_to_next_cell": 1
   },
   "outputs": [],
   "source": [
    "def p17(N: int) -> None:\n",
    "    max_width = (2 * N) - 1\n",
    "    for i in range(1, N + 1):\n",
    "        width = (2 * i) - 1\n",
    "        spaces = max_width - width\n",
    "        for j in range(spaces // 2):\n",
    "            print(\" \", end=\"\")\n",
    "        for j in range(i):\n",
    "            print(chr(ord('A') + j), end=\"\")\n",
    "        for j in range(i - 2, -1, -1):\n",
    "            print(chr(ord('A') + j), end=\"\")\n",
    "        for j in range(spaces // 2):\n",
    "            print(\" \", end=\"\")\n",
    "        print()\n",
    "\n",
    "# Testing the solution\n",
    "p17(5)"
   ]
  },
  {
   "cell_type": "code",
   "execution_count": null,
   "id": "4633133c",
   "metadata": {
    "lines_to_next_cell": 1
   },
   "outputs": [],
   "source": [
    "def p18(N: int) -> None:\n",
    "    for i in range(1, N + 1):\n",
    "        for j in range(N - i, N):\n",
    "            print(chr(ord('A') + j), end=' ')\n",
    "        print()\n",
    "\n",
    "# Testing the solution\n",
    "p18(5)"
   ]
  },
  {
   "cell_type": "code",
   "execution_count": null,
   "id": "45cf811d",
   "metadata": {
    "lines_to_next_cell": 1
   },
   "outputs": [],
   "source": [
    "def p19(N: int) -> None:\n",
    "    max_width = 2 * N\n",
    "    for i_ in range(2 * N):\n",
    "        i = N - i_ if i_ < N else (i_ % N) + 1\n",
    "        for j in range(i):\n",
    "            print(\"*\", end='')\n",
    "        for j in range(max_width - (2 * i)):\n",
    "            print(\" \", end='')\n",
    "        for j in range(i):\n",
    "            print(\"*\", end='')\n",
    "        print()\n",
    "\n",
    "# Testing the solution\n",
    "p19(5)"
   ]
  },
  {
   "cell_type": "code",
   "execution_count": null,
   "id": "da170774",
   "metadata": {
    "lines_to_next_cell": 1
   },
   "outputs": [],
   "source": [
    "def p20(N: int) -> None:\n",
    "    max_width = 2 * N\n",
    "    for i_ in range(2 * N - 1):\n",
    "        i = i_ + 1 if i_ < N else 2 * N - i_ - 1\n",
    "        for j in range(i):\n",
    "            print(\"*\", end='')\n",
    "        for j in range(max_width - 2 * i):\n",
    "            print(\" \", end='')\n",
    "        for j in range(i):\n",
    "            print(\"*\", end='')\n",
    "        print()\n",
    "\n",
    "# Testing the solution\n",
    "p20(5)"
   ]
  },
  {
   "cell_type": "code",
   "execution_count": null,
   "id": "c9ec1076",
   "metadata": {
    "lines_to_next_cell": 1
   },
   "outputs": [],
   "source": [
    "def p21(N: int) -> None:\n",
    "    for i in range(N):\n",
    "        for j in range(N):\n",
    "            print(\"*\" if i in (0, N - 1) or j in (0, N - 1) else \" \", end='')\n",
    "        print()\n",
    "\n",
    "# Testing the solution\n",
    "p21(5)"
   ]
  },
  {
   "cell_type": "code",
   "execution_count": null,
   "id": "519e516c",
   "metadata": {
    "lines_to_next_cell": 1
   },
   "outputs": [],
   "source": [
    "def p22(N: int) -> None:\n",
    "    result: collections.deque[collections.deque[int]] = collections.deque([collections.deque([1])])\n",
    "    for i in range(2, N + 1):\n",
    "        for row in result:\n",
    "            row.appendleft(i)\n",
    "            row.append(i)\n",
    "        result.appendleft(collections.deque([i for _ in range(2 * i - 1)]))\n",
    "        result.append(collections.deque([i for _ in range(2 * i - 1)]))\n",
    "\n",
    "    for row in result:\n",
    "        for col in row:\n",
    "            print(col, end=' ')\n",
    "        print()\n",
    "\n",
    "# Testing the solution\n",
    "p22(3)"
   ]
  },
  {
   "cell_type": "markdown",
   "id": "9cdce5e5",
   "metadata": {},
   "source": [
    "Basic Math"
   ]
  },
  {
   "cell_type": "code",
   "execution_count": null,
   "id": "cd23fa37",
   "metadata": {
    "lines_to_next_cell": 1
   },
   "outputs": [],
   "source": [
    "def reverseDigits(N: int) -> int:\n",
    "    NR, num = 0, abs(N)\n",
    "    while num > 0:\n",
    "        digit, num = num % 10, num // 10\n",
    "        NR = (NR * 10) + digit\n",
    "    return NR if N > 0 else -NR\n",
    "\n",
    "# Testing the solution\n",
    "assert reverseDigits(-123) == -321"
   ]
  },
  {
   "cell_type": "code",
   "execution_count": null,
   "id": "5d9d6817",
   "metadata": {
    "lines_to_next_cell": 1
   },
   "outputs": [],
   "source": [
    "def isPalindrome(N: int) -> bool:\n",
    "    def reverse(num: int) -> int:\n",
    "        numR = 0\n",
    "        while num > 0:\n",
    "            digit, num = num % 10, num // 10\n",
    "            numR = (numR * 10) + digit\n",
    "        return numR\n",
    "\n",
    "    return N >= 0 and N == reverse(N)\n",
    "\n",
    "# Testing the solution\n",
    "assert isPalindrome(121) == True"
   ]
  },
  {
   "cell_type": "markdown",
   "id": "787f4139",
   "metadata": {
    "lines_to_next_cell": 1
   },
   "source": [
    "def lcmAndGcd(n1: int , n2: int) -> tuple[int, int]:\n",
    "    def primeFactors(n: int) -> dict[int, int]:\n",
    "        factors: collections.defaultdict[int, int] = collections.defaultdict(int)\n",
    "        curr = 2\n",
    "        while curr <= n:\n",
    "            if n % curr == 0:\n",
    "                n //= curr\n",
    "                factors[curr] += 1\n",
    "            else:\n",
    "                curr += 1\n",
    "        return factors\n",
    "\n",
    "    pf1, pf2 = primeFactors(n1), primeFactors(n2)\n",
    "    factors: set[int] = {*pf1.keys(), *pf2.keys()}\n",
    "    lcm = gcd = 1\n",
    "    for factor in factors:\n",
    "        min_, max_ = min(pf1[factor], pf2[factor]), max(pf1[factor], pf2[factor])\n",
    "        if min_ != 0:\n",
    "            gcd *= factor ** min_\n",
    "        if max_ != 0:\n",
    "            lcm *= factor ** max_\n",
    "\n",
    "    return lcm, gcd\n",
    "\n",
    "Testing the solution\n",
    "assert lcmAndGcd(5, 10) == (10, 5)\n",
    "assert lcmAndGcd(14, 8) == (56, 2)\n",
    "assert lcmAndGcd(8, 42) == (168, 2)"
   ]
  },
  {
   "cell_type": "code",
   "execution_count": null,
   "id": "bf026496",
   "metadata": {
    "lines_to_next_cell": 1
   },
   "outputs": [],
   "source": [
    "def lcmAndGcdOptimal(n1: int , n2: int) -> tuple[int, int]:\n",
    "    \"\"\"\n",
    "    Euclidean algo: GCD remains same even if greater of two numbers is subtracted with the smaller number\n",
    "    Continously subtract greater by smaller until we get a 0.\n",
    "    \"\"\"\n",
    "    def gcd(n1: int, n2: int) -> int:\n",
    "        while n1 != 0 and n2 != 0:\n",
    "            n1, n2 = sorted([n1, n2])\n",
    "            n1, n2 = n1, n2 - n1\n",
    "        return max(n1, n2)\n",
    "\n",
    "    gcd_ = gcd(n1, n2)\n",
    "    lcm_ = (n1 * n2) // gcd_\n",
    "    return lcm_, gcd_\n",
    "\n",
    "# Testing the solution\n",
    "assert lcmAndGcdOptimal(5, 10) == (10, 5)\n",
    "assert lcmAndGcdOptimal(14, 8) == (56, 2)\n",
    "assert lcmAndGcdOptimal(8, 42) == (168, 2)"
   ]
  },
  {
   "cell_type": "code",
   "execution_count": null,
   "id": "e6aa105e",
   "metadata": {},
   "outputs": [],
   "source": [
    "def armstrong(N: int) -> bool:\n",
    "    def countDigits(n: int) -> int:\n",
    "        digits = 0\n",
    "        while n > 0:\n",
    "            digits, n = digits + 1, n // 10\n",
    "        return digits\n",
    "\n",
    "    total, n, K = 0, N, countDigits(N)\n",
    "    while n > 0:\n",
    "        digit, n = n % 10, n // 10\n",
    "        total +=digit ** K\n",
    "\n",
    "    return total == N\n",
    "\n",
    "# Testing the solution\n",
    "assert armstrong(371) == True\n",
    "assert armstrong(123) == False"
   ]
  }
 ],
 "metadata": {
  "kernelspec": {
   "display_name": "Python 3 (ipykernel)",
   "language": "python",
   "name": "python3"
  },
  "language_info": {
   "codemirror_mode": {
    "name": "ipython",
    "version": 3
   },
   "file_extension": ".py",
   "mimetype": "text/x-python",
   "name": "python",
   "nbconvert_exporter": "python",
   "pygments_lexer": "ipython3",
   "version": "3.11.9"
  },
  "papermill": {
   "default_parameters": {},
   "duration": 2.356621,
   "end_time": "2024-07-01T16:00:11.641160",
   "environment_variables": {},
   "exception": null,
   "input_path": "practice/005.ipynb",
   "output_path": "practice/005.ipynb",
   "parameters": {},
   "start_time": "2024-07-01T16:00:09.284539",
   "version": "2.6.0"
  }
 },
 "nbformat": 4,
 "nbformat_minor": 5
}
