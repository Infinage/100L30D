{
 "cells": [
  {
   "cell_type": "code",
   "execution_count": 1,
   "id": "ff4e246c",
   "metadata": {
    "execution": {
     "iopub.execute_input": "2024-06-15T17:29:39.332000Z",
     "iopub.status.busy": "2024-06-15T17:29:39.331770Z",
     "iopub.status.idle": "2024-06-15T17:29:39.694865Z",
     "shell.execute_reply": "2024-06-15T17:29:39.694384Z"
    },
    "papermill": {
     "duration": 0.369977,
     "end_time": "2024-06-15T17:29:39.696277",
     "exception": false,
     "start_time": "2024-06-15T17:29:39.326300",
     "status": "completed"
    },
    "tags": []
   },
   "outputs": [],
   "source": [
    "from typing import List, Optional, Generator\n",
    "import pandas as pd\n",
    "import numpy as np\n",
    "import sqlite3\n",
    "import re\n",
    "import io\n",
    "import math\n",
    "import collections\n",
    "import itertools\n",
    "import functools\n",
    "import random\n",
    "import string\n",
    "import tqdm\n",
    "import bisect\n",
    "import heapq\n",
    "\n",
    "conn = sqlite3.connect(\":memory:\")\n",
    "\n",
    "def regexp(expr, item):\n",
    "    reg = re.compile(expr)\n",
    "    return reg.search(item) is not None\n",
    "\n",
    "def read_lc_df(s: str, dtypes: dict[str, str]=dict()) -> pd.DataFrame:\n",
    "    temp = pd.read_csv(io.StringIO(s), sep=\"|\", skiprows=2)\n",
    "    temp = temp.iloc[1:-1, 1:-1]\n",
    "    temp.columns = temp.columns.map(str.strip)\n",
    "    temp = temp.map(lambda x: x if type(x) != str else None if x.strip() == 'null' else x.strip())\n",
    "    temp = temp.astype(dtypes)\n",
    "    return temp\n",
    "\n",
    "conn.create_function(\"REGEXP\", 2, regexp)"
   ]
  },
  {
   "cell_type": "markdown",
   "id": "2e7ac16e",
   "metadata": {
    "papermill": {
     "duration": 0.00391,
     "end_time": "2024-06-15T17:29:39.704395",
     "exception": false,
     "start_time": "2024-06-15T17:29:39.700485",
     "status": "completed"
    },
    "tags": []
   },
   "source": [
    "#### Helper for Binary tree problems"
   ]
  },
  {
   "cell_type": "code",
   "execution_count": 2,
   "id": "3f0a4700",
   "metadata": {
    "execution": {
     "iopub.execute_input": "2024-06-15T17:29:39.712760Z",
     "iopub.status.busy": "2024-06-15T17:29:39.712457Z",
     "iopub.status.idle": "2024-06-15T17:29:39.720619Z",
     "shell.execute_reply": "2024-06-15T17:29:39.720079Z"
    },
    "lines_to_next_cell": 1,
    "papermill": {
     "duration": 0.013706,
     "end_time": "2024-06-15T17:29:39.721771",
     "exception": false,
     "start_time": "2024-06-15T17:29:39.708065",
     "status": "completed"
    },
    "tags": []
   },
   "outputs": [],
   "source": [
    "class BinaryTreeNode:\n",
    "    def __init__(self, val=0, left=None, right=None):\n",
    "        self.val = val\n",
    "        self.left = left\n",
    "        self.right = right\n",
    "\n",
    "    def to_list(self):\n",
    "        to_visit = [self]\n",
    "        visited = []\n",
    "        while len(to_visit) > 0:\n",
    "            curr = to_visit.pop(0)\n",
    "            if curr:\n",
    "                to_visit.append(curr.left)\n",
    "                to_visit.append(curr.right)\n",
    "                visited.append(curr.val)\n",
    "            else:\n",
    "                visited.append(curr)\n",
    "\n",
    "        while visited and not visited[-1]:\n",
    "            visited.pop()\n",
    "\n",
    "        return visited\n",
    "\n",
    "    def __str__(self):\n",
    "        return str(self.val)\n",
    "\n",
    "    @staticmethod\n",
    "    def from_array(nums: list[int|None]):\n",
    "        '''Create a Tree from a list of nums. Returns the root node.'''\n",
    "        if len(nums) == 0:\n",
    "            return None\n",
    "        elif len(nums) == 1:\n",
    "            return BinaryTreeNode(nums[0])\n",
    "        else:\n",
    "            forest = [BinaryTreeNode(nums[0])]\n",
    "            parent_idx = -1\n",
    "            for i in range(1, len(nums)):\n",
    "\n",
    "                curr = None\n",
    "                if nums[i] is not None:\n",
    "                    curr = BinaryTreeNode(nums[i])\n",
    "                    forest.append(curr)\n",
    "\n",
    "                if i % 2 == 1:\n",
    "                    parent_idx += 1\n",
    "                    forest[parent_idx].left = curr\n",
    "                else:\n",
    "                    forest[parent_idx].right = curr\n",
    "\n",
    "        return forest[0]"
   ]
  },
  {
   "cell_type": "markdown",
   "id": "db1734cd",
   "metadata": {
    "papermill": {
     "duration": 0.003392,
     "end_time": "2024-06-15T17:29:39.728734",
     "exception": false,
     "start_time": "2024-06-15T17:29:39.725342",
     "status": "completed"
    },
    "tags": []
   },
   "source": [
    "#### Helper for Singly Linked lists"
   ]
  },
  {
   "cell_type": "code",
   "execution_count": 3,
   "id": "8492ea44",
   "metadata": {
    "execution": {
     "iopub.execute_input": "2024-06-15T17:29:39.737398Z",
     "iopub.status.busy": "2024-06-15T17:29:39.736992Z",
     "iopub.status.idle": "2024-06-15T17:29:39.741522Z",
     "shell.execute_reply": "2024-06-15T17:29:39.741110Z"
    },
    "lines_to_next_cell": 1,
    "papermill": {
     "duration": 0.010549,
     "end_time": "2024-06-15T17:29:39.742679",
     "exception": false,
     "start_time": "2024-06-15T17:29:39.732130",
     "status": "completed"
    },
    "tags": []
   },
   "outputs": [],
   "source": [
    "class ListNode:\n",
    "    def __init__(self, val=0, next=None):\n",
    "        self.val = val\n",
    "        self.next = next\n",
    "\n",
    "    def __str__(self):\n",
    "        return str(self.val)\n",
    "\n",
    "    @staticmethod\n",
    "    def to_singly_linked_list(nums: list[int]):\n",
    "        root = prev = None\n",
    "        for n in nums:\n",
    "            curr = ListNode(n)\n",
    "            # Init once\n",
    "            if not root:\n",
    "                root = curr\n",
    "            if prev:\n",
    "                prev.next = curr\n",
    "            prev = curr\n",
    "\n",
    "        return root\n",
    "\n",
    "    def to_list(self) -> list[int]:\n",
    "        result = []\n",
    "        curr = self\n",
    "        while curr:\n",
    "            result.append(curr.val)\n",
    "            curr = curr.next\n",
    "        return result"
   ]
  },
  {
   "cell_type": "markdown",
   "id": "4299ad4a",
   "metadata": {
    "papermill": {
     "duration": 0.003411,
     "end_time": "2024-06-15T17:29:39.749393",
     "exception": false,
     "start_time": "2024-06-15T17:29:39.745982",
     "status": "completed"
    },
    "tags": []
   },
   "source": [
    "#### Utility to generate random BST"
   ]
  },
  {
   "cell_type": "code",
   "execution_count": 4,
   "id": "0882390e",
   "metadata": {
    "execution": {
     "iopub.execute_input": "2024-06-15T17:29:39.757252Z",
     "iopub.status.busy": "2024-06-15T17:29:39.756799Z",
     "iopub.status.idle": "2024-06-15T17:29:39.761175Z",
     "shell.execute_reply": "2024-06-15T17:29:39.760722Z"
    },
    "lines_to_next_cell": 1,
    "papermill": {
     "duration": 0.009441,
     "end_time": "2024-06-15T17:29:39.762236",
     "exception": false,
     "start_time": "2024-06-15T17:29:39.752795",
     "status": "completed"
    },
    "tags": []
   },
   "outputs": [],
   "source": [
    "def generateBST(N: int, min_: int, max_: int) -> BinaryTreeNode|None:\n",
    "    def insert(curr: BinaryTreeNode|None, n: int) -> BinaryTreeNode:\n",
    "        if not curr:\n",
    "            curr = BinaryTreeNode(n)\n",
    "        elif curr.val < n:\n",
    "            curr.right = insert(curr.right, n)\n",
    "        else:\n",
    "            curr.left = insert(curr.left, n)\n",
    "\n",
    "        return curr\n",
    "\n",
    "    assert N <= max_ - min_, \"Number of available samples must be >= N\"\n",
    "    root: BinaryTreeNode|None = None\n",
    "    for n in np.random.choice(np.arange(min_, max_), size=N, replace=False):\n",
    "        root = insert(root, n)\n",
    "\n",
    "    return root"
   ]
  },
  {
   "cell_type": "markdown",
   "id": "d111cefb",
   "metadata": {
    "papermill": {
     "duration": 0.00341,
     "end_time": "2024-06-15T17:29:39.768970",
     "exception": false,
     "start_time": "2024-06-15T17:29:39.765560",
     "status": "completed"
    },
    "tags": []
   },
   "source": [
    "LC Medium: Longest Substring with atleast K repeating characters"
   ]
  },
  {
   "cell_type": "code",
   "execution_count": 5,
   "id": "bdbcc4a8",
   "metadata": {
    "execution": {
     "iopub.execute_input": "2024-06-15T17:29:39.776870Z",
     "iopub.status.busy": "2024-06-15T17:29:39.776351Z",
     "iopub.status.idle": "2024-06-15T17:29:39.781566Z",
     "shell.execute_reply": "2024-06-15T17:29:39.781104Z"
    },
    "lines_to_next_cell": 1,
    "papermill": {
     "duration": 0.010364,
     "end_time": "2024-06-15T17:29:39.782676",
     "exception": false,
     "start_time": "2024-06-15T17:29:39.772312",
     "status": "completed"
    },
    "tags": []
   },
   "outputs": [],
   "source": [
    "# https://leetcode.com/problems/longest-substring-with-at-least-k-repeating-characters/\n",
    "# https://leetcode.com/problems/longest-substring-with-at-least-k-repeating-characters/submissions/1286506890\n",
    "def longestSubstring(s: str, k: int) -> int:\n",
    "    \"\"\"\n",
    "    Count the freq of all characters, split on the characters with freq < k\n",
    "    \"\"\"\n",
    "    N = len(s)\n",
    "\n",
    "    # Count the freq\n",
    "    freq: collections.Counter = collections.Counter(s)\n",
    "    is_valid = not any(map(lambda x: x < k, freq.values()))\n",
    "\n",
    "    # If the entire string is okay, return length as answer\n",
    "    if is_valid:\n",
    "        return N\n",
    "\n",
    "    # Split on the invalid characters and backtrack inside\n",
    "    else:\n",
    "        max_length = start_idx = 0\n",
    "        for curr_idx in range(N):\n",
    "            if 0 < freq[s[curr_idx]] < k:\n",
    "                max_length = max(max_length, longestSubstring(s[start_idx:curr_idx], k))\n",
    "                start_idx = curr_idx + 1\n",
    "\n",
    "        max_length = max(max_length, longestSubstring(s[start_idx:], k))\n",
    "        return max_length\n",
    "\n",
    "# Tesitng the solution\n",
    "assert longestSubstring(\"aaabb\", 3) == 3\n",
    "assert longestSubstring(\"ababbc\", 2) == 5\n",
    "assert longestSubstring(\"bbaaa\", 3) == 3"
   ]
  },
  {
   "cell_type": "markdown",
   "id": "ff630a5c",
   "metadata": {
    "papermill": {
     "duration": 0.003345,
     "end_time": "2024-06-15T17:29:39.789414",
     "exception": false,
     "start_time": "2024-06-15T17:29:39.786069",
     "status": "completed"
    },
    "tags": []
   },
   "source": [
    "LC Virtual - 4: Weekly Contest 5\n",
    "https://leetcode.com/contest/leetcode-weekly-contest-5/"
   ]
  },
  {
   "cell_type": "code",
   "execution_count": 6,
   "id": "186e9992",
   "metadata": {
    "execution": {
     "iopub.execute_input": "2024-06-15T17:29:39.797044Z",
     "iopub.status.busy": "2024-06-15T17:29:39.796872Z",
     "iopub.status.idle": "2024-06-15T17:29:39.802843Z",
     "shell.execute_reply": "2024-06-15T17:29:39.802396Z"
    },
    "lines_to_next_cell": 1,
    "papermill": {
     "duration": 0.011084,
     "end_time": "2024-06-15T17:29:39.803867",
     "exception": false,
     "start_time": "2024-06-15T17:29:39.792783",
     "status": "completed"
    },
    "tags": []
   },
   "outputs": [],
   "source": [
    "# Q4: Frog Jump\n",
    "def canCrossRecursive(stones: list[int]) -> bool:\n",
    "    @functools.cache\n",
    "    def backtrack(n: int, jump: int) -> bool:\n",
    "        if jump < 0:\n",
    "            return False\n",
    "        elif n == stones[-1]:\n",
    "            return True\n",
    "        else:\n",
    "            if n + jump - 1 in positions and backtrack(n + jump - 1, jump - 1):\n",
    "                return True\n",
    "            elif jump > 0 and n + jump in positions and backtrack(n + jump, jump):\n",
    "                return True\n",
    "            elif n + jump + 1 in positions and backtrack(n + jump + 1, jump + 1):\n",
    "                return True\n",
    "            else:\n",
    "                return False\n",
    "\n",
    "    N = len(stones)\n",
    "    positions: dict[int, int] = {n: i for i, n in enumerate(stones)}\n",
    "    return len(stones) <= 1 or backtrack(stones[0], 0)\n",
    "\n",
    "# Testing the solution\n",
    "assert canCrossRecursive([0,1,3,5,6,8,12,17]) == True\n",
    "assert canCrossRecursive([0,1,2,3,4,8,9,11]) == False\n",
    "assert canCrossRecursive([]) == True\n",
    "assert canCrossRecursive([100]) == True\n",
    "assert canCrossRecursive([0,2]) == False"
   ]
  },
  {
   "cell_type": "code",
   "execution_count": 7,
   "id": "14bb91a7",
   "metadata": {
    "execution": {
     "iopub.execute_input": "2024-06-15T17:29:39.812074Z",
     "iopub.status.busy": "2024-06-15T17:29:39.811609Z",
     "iopub.status.idle": "2024-06-15T17:29:39.818254Z",
     "shell.execute_reply": "2024-06-15T17:29:39.817780Z"
    },
    "lines_to_next_cell": 1,
    "papermill": {
     "duration": 0.011788,
     "end_time": "2024-06-15T17:29:39.819243",
     "exception": false,
     "start_time": "2024-06-15T17:29:39.807455",
     "status": "completed"
    },
    "tags": []
   },
   "outputs": [],
   "source": [
    "def canCrossTabulation(stones: list[int]) -> bool:\n",
    "    N = len(stones)\n",
    "    positions: dict[int, int] = {n: i for i, n in enumerate(stones)}\n",
    "    dp: list[list[bool]] = [[False if stones[i] != stones[-1] else True for jump in range(N + 2)] for i in range(N)]\n",
    "    for i in range(N - 2, -1, -1):\n",
    "        for jump in range(N):\n",
    "            n = stones[i]\n",
    "            if n + jump - 1 in positions:\n",
    "                dp[i][jump] = dp[i][jump] or dp[positions[n + jump - 1]][jump - 1]\n",
    "            if jump > 0 and n + jump in positions:\n",
    "                dp[i][jump] = dp[i][jump] or dp[positions[n + jump]][jump]\n",
    "            if n + jump + 1 in positions:\n",
    "                dp[i][jump] = dp[i][jump] or dp[positions[n + jump + 1]][jump + 1]\n",
    "\n",
    "    return len(stones) <= 1 or dp[0][0]\n",
    "\n",
    "# Testing the solution\n",
    "assert canCrossTabulation([0,1,3,5,6,8,12,17]) == True\n",
    "assert canCrossTabulation([0,1,2,3,4,8,9,11]) == False\n",
    "assert canCrossTabulation([]) == True\n",
    "assert canCrossTabulation([100]) == True\n",
    "assert canCrossTabulation([0,2]) == False"
   ]
  },
  {
   "cell_type": "code",
   "execution_count": 8,
   "id": "a756a694",
   "metadata": {
    "execution": {
     "iopub.execute_input": "2024-06-15T17:29:39.827135Z",
     "iopub.status.busy": "2024-06-15T17:29:39.826639Z",
     "iopub.status.idle": "2024-06-15T17:29:39.829452Z",
     "shell.execute_reply": "2024-06-15T17:29:39.829017Z"
    },
    "lines_to_next_cell": 1,
    "papermill": {
     "duration": 0.007909,
     "end_time": "2024-06-15T17:29:39.830546",
     "exception": false,
     "start_time": "2024-06-15T17:29:39.822637",
     "status": "completed"
    },
    "tags": []
   },
   "outputs": [],
   "source": [
    "# Q3: Remove K digits\n",
    "def removeKdigits(num: str, k: int) -> str:\n",
    "    pass"
   ]
  },
  {
   "cell_type": "code",
   "execution_count": 9,
   "id": "258ef565",
   "metadata": {
    "execution": {
     "iopub.execute_input": "2024-06-15T17:29:39.838587Z",
     "iopub.status.busy": "2024-06-15T17:29:39.838025Z",
     "iopub.status.idle": "2024-06-15T17:29:39.843084Z",
     "shell.execute_reply": "2024-06-15T17:29:39.842553Z"
    },
    "lines_to_next_cell": 1,
    "papermill": {
     "duration": 0.010158,
     "end_time": "2024-06-15T17:29:39.844101",
     "exception": false,
     "start_time": "2024-06-15T17:29:39.833943",
     "status": "completed"
    },
    "tags": []
   },
   "outputs": [],
   "source": [
    "# Q1: Find Nth Digit\n",
    "def findNthDigit(N: int) -> int:\n",
    "    def countDigitsBefore(n: int) -> int:\n",
    "        if n < 10:\n",
    "            return n\n",
    "        else:\n",
    "            n_digits = math.floor(math.log10(n)) + 1\n",
    "            smallest_n_digit_number = 10 ** (n_digits - 1)\n",
    "            n_digits_before = (n - smallest_n_digit_number + 1) * n_digits\n",
    "            return n_digits_before + countDigitsBefore(smallest_n_digit_number - 1)\n",
    "\n",
    "    # Binary search\n",
    "    low, high = 1, N\n",
    "    while low <= high:\n",
    "        mid = (low + high) // 2\n",
    "        count = countDigitsBefore(mid)\n",
    "        if count == N:\n",
    "            return mid % 10\n",
    "        elif count < N:\n",
    "            low = mid + 1\n",
    "        else:\n",
    "            high = mid - 1\n",
    "\n",
    "    delta = countDigitsBefore(low) - N\n",
    "    return int(str(low)[-delta-1])\n",
    "\n",
    "# Testing the solution\n",
    "assert findNthDigit(11) == 0\n",
    "assert findNthDigit(3) == 3"
   ]
  },
  {
   "cell_type": "code",
   "execution_count": 10,
   "id": "76b61cf9",
   "metadata": {
    "execution": {
     "iopub.execute_input": "2024-06-15T17:29:39.851504Z",
     "iopub.status.busy": "2024-06-15T17:29:39.851326Z",
     "iopub.status.idle": "2024-06-15T17:29:39.856712Z",
     "shell.execute_reply": "2024-06-15T17:29:39.856276Z"
    },
    "lines_to_next_cell": 1,
    "papermill": {
     "duration": 0.010267,
     "end_time": "2024-06-15T17:29:39.857730",
     "exception": false,
     "start_time": "2024-06-15T17:29:39.847463",
     "status": "completed"
    },
    "tags": []
   },
   "outputs": [],
   "source": [
    "# Q2: Binary Watch\n",
    "def readBinaryWatch(turnedOn: int) -> set[str]:\n",
    "    watch: list[bool] = [False for i in range(10)]\n",
    "    result: set[str] = set()\n",
    "    def backtrack(lights: int) -> None:\n",
    "        if lights == 0:\n",
    "            hour = minute = 0\n",
    "            for i in range(10):\n",
    "                if watch[i]:\n",
    "                    if i < 4:\n",
    "                        hour += 2 ** (3 - i)\n",
    "                    else:\n",
    "                        minute += 2 ** (9 - i)\n",
    "\n",
    "            if 0 <= hour < 12 and 0 <= minute <= 59:\n",
    "                result.add(f\"{hour}:{str(minute).zfill(2)}\")\n",
    "\n",
    "        else:\n",
    "            for i in range(10):\n",
    "                if not watch[i]:\n",
    "                    watch[i] = True\n",
    "                    backtrack(lights - 1)\n",
    "                    watch[i] = False\n",
    "\n",
    "    backtrack(turnedOn)\n",
    "    return result\n",
    "\n",
    "# Testing the solution\n",
    "assert sorted(readBinaryWatch(1)) == sorted([\"0:01\",\"0:02\",\"0:04\",\"0:08\",\"0:16\",\"0:32\",\"1:00\",\"2:00\",\"4:00\",\"8:00\"])"
   ]
  },
  {
   "cell_type": "markdown",
   "id": "35e89076",
   "metadata": {
    "papermill": {
     "duration": 0.003361,
     "end_time": "2024-06-15T17:29:39.864608",
     "exception": false,
     "start_time": "2024-06-15T17:29:39.861247",
     "status": "completed"
    },
    "tags": []
   },
   "source": [
    "Minimum no of moves to seat everyone \n",
    "https://leetcode.com/problems/minimum-number-of-moves-to-seat-everyone"
   ]
  },
  {
   "cell_type": "code",
   "execution_count": 11,
   "id": "1cec1bdc",
   "metadata": {
    "execution": {
     "iopub.execute_input": "2024-06-15T17:29:39.872421Z",
     "iopub.status.busy": "2024-06-15T17:29:39.871972Z",
     "iopub.status.idle": "2024-06-15T17:29:39.875967Z",
     "shell.execute_reply": "2024-06-15T17:29:39.875555Z"
    },
    "lines_to_next_cell": 1,
    "papermill": {
     "duration": 0.008938,
     "end_time": "2024-06-15T17:29:39.876969",
     "exception": false,
     "start_time": "2024-06-15T17:29:39.868031",
     "status": "completed"
    },
    "tags": []
   },
   "outputs": [],
   "source": [
    "def minMovesToSeat(seats: list[int], students: list[int]) -> int:\n",
    "    # Compute length\n",
    "    N = len(seats)\n",
    "\n",
    "    # Sort both to ensure that we get the minimal distances\n",
    "    seats.sort()\n",
    "    students.sort()\n",
    "\n",
    "    # Compute abs distance between seats and students\n",
    "    moves = 0\n",
    "    for i in range(N):\n",
    "        moves += abs(seats[i] - students[i])\n",
    "    return moves\n",
    "\n",
    "# Testing the solution\n",
    "assert minMovesToSeat([3,1,5], [2,7,4]) == 4\n",
    "assert minMovesToSeat([2,2,6,6], [1,3,2,6]) == 4"
   ]
  },
  {
   "cell_type": "markdown",
   "id": "8c387dd2",
   "metadata": {
    "papermill": {
     "duration": 0.003335,
     "end_time": "2024-06-15T17:29:39.883742",
     "exception": false,
     "start_time": "2024-06-15T17:29:39.880407",
     "status": "completed"
    },
    "tags": []
   },
   "source": [
    "LC Medium: Minimum increment to make array unique\n",
    "https://leetcode.com/problems/minimum-increment-to-make-array-unique"
   ]
  },
  {
   "cell_type": "code",
   "execution_count": 12,
   "id": "3f1753a0",
   "metadata": {
    "execution": {
     "iopub.execute_input": "2024-06-15T17:29:39.891504Z",
     "iopub.status.busy": "2024-06-15T17:29:39.891062Z",
     "iopub.status.idle": "2024-06-15T17:29:39.895756Z",
     "shell.execute_reply": "2024-06-15T17:29:39.895348Z"
    },
    "lines_to_next_cell": 1,
    "papermill": {
     "duration": 0.009689,
     "end_time": "2024-06-15T17:29:39.896775",
     "exception": false,
     "start_time": "2024-06-15T17:29:39.887086",
     "status": "completed"
    },
    "tags": []
   },
   "outputs": [],
   "source": [
    "def minIncrementForUnique(nums: list[int]) -> int:\n",
    "    # Count freq & unique values present\n",
    "    counts: dict[int, int] = dict()\n",
    "    unique: set[int] = set()\n",
    "    for n in nums:\n",
    "        counts[n] = counts.get(n, 0) + 1\n",
    "        unique.add(n)\n",
    "\n",
    "    # If count of any number is greater than 1, shift right\n",
    "    moves = 0\n",
    "    while unique:\n",
    "        key = unique.pop()\n",
    "        count = counts.pop(key)\n",
    "        if count > 1:\n",
    "            shift = count - 1\n",
    "            moves += shift\n",
    "            counts[key + 1] = counts.get(key + 1, 0) + shift\n",
    "            unique.add(key + 1)\n",
    "\n",
    "    return moves\n",
    "\n",
    "# Testing the solution\n",
    "assert minIncrementForUnique([1,2,2]) == 1\n",
    "assert minIncrementForUnique([3,2,1,2,1,7]) == 6\n",
    "assert minIncrementForUnique([1,2,2,5,5]) == 2"
   ]
  },
  {
   "cell_type": "markdown",
   "id": "5e9474a6",
   "metadata": {
    "papermill": {
     "duration": 0.003399,
     "end_time": "2024-06-15T17:29:39.903625",
     "exception": false,
     "start_time": "2024-06-15T17:29:39.900226",
     "status": "completed"
    },
    "tags": []
   },
   "source": [
    "Maximum Gap\n",
    "https://leetcode.com/problems/maximum-gap/"
   ]
  },
  {
   "cell_type": "code",
   "execution_count": 13,
   "id": "f9795b8e",
   "metadata": {
    "execution": {
     "iopub.execute_input": "2024-06-15T17:29:39.911465Z",
     "iopub.status.busy": "2024-06-15T17:29:39.910990Z",
     "iopub.status.idle": "2024-06-15T17:29:39.917027Z",
     "shell.execute_reply": "2024-06-15T17:29:39.916508Z"
    },
    "lines_to_next_cell": 1,
    "papermill": {
     "duration": 0.011039,
     "end_time": "2024-06-15T17:29:39.918031",
     "exception": false,
     "start_time": "2024-06-15T17:29:39.906992",
     "status": "completed"
    },
    "tags": []
   },
   "outputs": [],
   "source": [
    "# https://leetcode.com/problems/maximum-gap/submissions/1288173457/\n",
    "def maximumGap(nums: list[int]) -> int:\n",
    "    \"\"\"\n",
    "    1. Maximum gap is always greater than or equal to ceil((max - min) / N)\n",
    "        - Divide N nums into N - 1 groups\n",
    "        - If evenly distributed, each elements would be in a different bucket (1 element in each bucket)\n",
    "        - If unevenly distributed, two or more buckets would have multiple elements. Some buckets may not have any elements - max gap could occur betweeen left and right of the missing buckets\n",
    "    2. Consequently we only need to store the min and max of each bucket\n",
    "    \"\"\"\n",
    "    N, high, low = len(nums), max(nums), min(nums)\n",
    "    bucket_size = math.ceil((high - low) / N)\n",
    "    buckets: dict[int, tuple[int, int]] = {}\n",
    "\n",
    "    # Edge case\n",
    "    if bucket_size == 0:\n",
    "        return 0\n",
    "\n",
    "    # Group the numbers into buckets\n",
    "    for n in nums:\n",
    "        index = n // bucket_size\n",
    "        min_, max_ = buckets.get(index, ((index + 1) * bucket_size, (index - 1) * bucket_size))\n",
    "        min_, max_ = min(min_, n), max(max_, n)\n",
    "        buckets[index] = (min_, max_)\n",
    "\n",
    "    # Iterate through each and find the max gap\n",
    "    curr, end = low // bucket_size, high // bucket_size\n",
    "    max_gap = 0\n",
    "    while curr < end:\n",
    "        next_ = curr + 1\n",
    "        while next_ not in buckets:\n",
    "            next_ += 1\n",
    "        curr, max_gap = next_, max(max_gap, buckets[next_][0] - buckets[curr][1])\n",
    "\n",
    "    return max_gap\n",
    "\n",
    "# Testing the solution\n",
    "assert maximumGap([3,14,15,83,6,4,19,20,40]) == 43\n",
    "assert maximumGap([3,6,9,1]) == 3\n",
    "assert maximumGap([10]) == 0"
   ]
  },
  {
   "cell_type": "markdown",
   "id": "2de5b7ba",
   "metadata": {
    "papermill": {
     "duration": 0.003658,
     "end_time": "2024-06-15T17:29:39.925170",
     "exception": false,
     "start_time": "2024-06-15T17:29:39.921512",
     "status": "completed"
    },
    "tags": []
   },
   "source": [
    "LC Virtual - 5: Weekly Contest 6\n",
    "https://leetcode.com/contest/leetcode-weekly-contest-6/"
   ]
  },
  {
   "cell_type": "code",
   "execution_count": 14,
   "id": "02ae7259",
   "metadata": {
    "execution": {
     "iopub.execute_input": "2024-06-15T17:29:39.933265Z",
     "iopub.status.busy": "2024-06-15T17:29:39.932716Z",
     "iopub.status.idle": "2024-06-15T17:29:39.937882Z",
     "shell.execute_reply": "2024-06-15T17:29:39.937446Z"
    },
    "lines_to_next_cell": 1,
    "papermill": {
     "duration": 0.010321,
     "end_time": "2024-06-15T17:29:39.938922",
     "exception": false,
     "start_time": "2024-06-15T17:29:39.928601",
     "status": "completed"
    },
    "tags": []
   },
   "outputs": [],
   "source": [
    "# Q1: Sum of left leaves\n",
    "def sumOfLeftLeaves(root: BinaryTreeNode) -> int:\n",
    "    def backtrack(curr: BinaryTreeNode) -> tuple[int, int]:\n",
    "        if not curr:\n",
    "            return 0, -1\n",
    "        else:\n",
    "            left_sum, left_type = backtrack(curr.left)\n",
    "            right_sum, right_type = backtrack(curr.right)\n",
    "            curr_type, total = 0 if left_type == -1 and right_type == -1 else 1, 0\n",
    "            if curr_type == 0:\n",
    "                total += curr.val\n",
    "            if left_type != -1:\n",
    "                total += left_sum\n",
    "            if right_type >= 1:\n",
    "                total += right_sum\n",
    "            result = total, curr_type\n",
    "            return result\n",
    "\n",
    "    return backtrack(root)[0] if root.left or root.right else 0\n",
    "\n",
    "# Testing the solution\n",
    "assert sumOfLeftLeaves(BinaryTreeNode.from_array([3,9,20,None,None,15,7])) == 24\n",
    "assert sumOfLeftLeaves(BinaryTreeNode.from_array([1])) == 0"
   ]
  },
  {
   "cell_type": "code",
   "execution_count": 15,
   "id": "eaa96394",
   "metadata": {
    "execution": {
     "iopub.execute_input": "2024-06-15T17:29:39.946808Z",
     "iopub.status.busy": "2024-06-15T17:29:39.946364Z",
     "iopub.status.idle": "2024-06-15T17:29:39.951167Z",
     "shell.execute_reply": "2024-06-15T17:29:39.950627Z"
    },
    "lines_to_next_cell": 1,
    "papermill": {
     "duration": 0.009855,
     "end_time": "2024-06-15T17:29:39.952242",
     "exception": false,
     "start_time": "2024-06-15T17:29:39.942387",
     "status": "completed"
    },
    "tags": []
   },
   "outputs": [],
   "source": [
    "# Q2: Convert to hexadecimal\n",
    "def toHex(num: int) -> str:\n",
    "    # If negative, find hex for its 2's compliment\n",
    "    if num < 0:\n",
    "        bit_length = 32\n",
    "        num &= (2 << bit_length - 1) - 1\n",
    "\n",
    "    # Use division method\n",
    "    division_result: list[int] = []\n",
    "    while num >= 16:\n",
    "        num, rem = num // 16, num % 16\n",
    "        division_result.append(rem)\n",
    "    division_result.append(num)\n",
    "    division_result.reverse()\n",
    "\n",
    "    # Convert to hexadecimal string\n",
    "    mapping = {i: str(i) for i in range(0, 10)} | {i: chr(ord('a') + i - 10) for i in range(10, 16)}\n",
    "    return ''.join(map(lambda x: mapping[x], division_result))\n",
    "\n",
    "# Testing the solution\n",
    "assert toHex(26) == \"1a\"\n",
    "assert toHex(-1) == \"ffffffff\""
   ]
  },
  {
   "cell_type": "code",
   "execution_count": 16,
   "id": "69bb828f",
   "metadata": {
    "execution": {
     "iopub.execute_input": "2024-06-15T17:29:39.960069Z",
     "iopub.status.busy": "2024-06-15T17:29:39.959610Z",
     "iopub.status.idle": "2024-06-15T17:29:39.966340Z",
     "shell.execute_reply": "2024-06-15T17:29:39.965830Z"
    },
    "lines_to_next_cell": 1,
    "papermill": {
     "duration": 0.011816,
     "end_time": "2024-06-15T17:29:39.967439",
     "exception": false,
     "start_time": "2024-06-15T17:29:39.955623",
     "status": "completed"
    },
    "tags": []
   },
   "outputs": [],
   "source": [
    "# Q3: Queue Reconstruction by Height\n",
    "def reconstructQueue(people: list[list[int]]) -> list[list[int]]:\n",
    "    N = len(people)\n",
    "\n",
    "    # Sort to find the relative height ordering\n",
    "    people.sort()\n",
    "\n",
    "    # Iterate from shortest to tallest, keeping track of number of person with height equal to curr\n",
    "    eq_front = []\n",
    "    prev, eq_count = -1, 0\n",
    "    for i in range(N):\n",
    "        if people[i][0] == prev:\n",
    "            eq_count += 1\n",
    "        else:\n",
    "            eq_count = 0\n",
    "        prev = people[i][0]\n",
    "        eq_front.append(eq_count)\n",
    "\n",
    "    # Insert into queue in correct order\n",
    "    result: list[list[int]] = []\n",
    "    while eq_front:\n",
    "        actual, (height, expected) = eq_front.pop(), people.pop()\n",
    "        if expected == actual:\n",
    "            result.append([height, expected])\n",
    "        else:\n",
    "            temp: list[list[int]] = []\n",
    "            for i in range(expected - actual):\n",
    "                temp.append(result.pop())\n",
    "            result.append([height, expected])\n",
    "            while temp:\n",
    "                result.append(temp.pop())\n",
    "\n",
    "    result.reverse()\n",
    "    return result\n",
    "\n",
    "# Testing the solution\n",
    "assert reconstructQueue([[7,0],[4,4],[7,1],[5,0],[6,1],[5,2]]) == [[5,0],[7,0],[5,2],[6,1],[4,4],[7,1]]\n",
    "assert reconstructQueue([[6,0],[5,0],[4,0],[3,2],[2,2],[1,4]]) == [[4,0],[5,0],[2,2],[3,2],[1,4],[6,0]]"
   ]
  },
  {
   "cell_type": "markdown",
   "id": "5b1cd8d3",
   "metadata": {
    "papermill": {
     "duration": 0.003429,
     "end_time": "2024-06-15T17:29:39.974350",
     "exception": false,
     "start_time": "2024-06-15T17:29:39.970921",
     "status": "completed"
    },
    "tags": []
   },
   "source": [
    "Trapping Rain water - II (Upsolving)\n",
    "https://leetcode.com/problems/trapping-rain-water-ii/"
   ]
  },
  {
   "cell_type": "code",
   "execution_count": null,
   "id": "16a2bb8e",
   "metadata": {
    "papermill": {
     "duration": 0.003301,
     "end_time": "2024-06-15T17:29:39.980963",
     "exception": false,
     "start_time": "2024-06-15T17:29:39.977662",
     "status": "completed"
    },
    "tags": []
   },
   "outputs": [],
   "source": []
  },
  {
   "cell_type": "code",
   "execution_count": 17,
   "id": "1d0cafe4",
   "metadata": {
    "execution": {
     "iopub.execute_input": "2024-06-15T17:29:39.988902Z",
     "iopub.status.busy": "2024-06-15T17:29:39.988415Z",
     "iopub.status.idle": "2024-06-15T17:29:39.997553Z",
     "shell.execute_reply": "2024-06-15T17:29:39.997069Z"
    },
    "lines_to_next_cell": 1,
    "papermill": {
     "duration": 0.014258,
     "end_time": "2024-06-15T17:29:39.998659",
     "exception": false,
     "start_time": "2024-06-15T17:29:39.984401",
     "status": "completed"
    },
    "tags": []
   },
   "outputs": [],
   "source": [
    "# Q4: Trapping Rain water - II\n",
    "# https://leetcode.com/problems/trapping-rain-water-ii/solutions/1138028/python3-visualization-bfs-solution-with-explanation\n",
    "def trapRainWater(heightMap: list[list[int]]) -> int:\n",
    "    N, M = len(heightMap), len(heightMap[0])\n",
    "    visited: set[tuple[int, int]] = set()\n",
    "\n",
    "    # Add boundary cells to heap, heap: Height, i, j\n",
    "    heap: list[tuple[int, int, int]] = []\n",
    "    for i in range(N):\n",
    "        for j in range(M):\n",
    "            if i in (0, N - 1) or j in (0, M - 1):\n",
    "                heapq.heappush(heap, (heightMap[i][j], i, j))\n",
    "                visited.add((i, j))\n",
    "\n",
    "    level = volume = 0\n",
    "    while heap:\n",
    "        height, x, y = heapq.heappop(heap)\n",
    "        level = max(level, height)\n",
    "        for i, j in [(x - 1, y), (x + 1, y), (x, y - 1), (x, y + 1)]:\n",
    "            if 0 <= i < N and 0 <= j < M and (i, j) not in visited:\n",
    "                next_height = heightMap[i][j]\n",
    "                if next_height < level:\n",
    "                    volume += level - next_height\n",
    "                visited.add((i, j))\n",
    "                heapq.heappush(heap, (next_height, i, j))\n",
    "\n",
    "    return volume\n",
    "\n",
    "# Testing the solution\n",
    "assert trapRainWater([[1,4,3,1,3,2],[3,2,1,3,2,4],[2,3,3,2,3,1]]) == 4\n",
    "assert trapRainWater([[3,3,3,3,3],[3,2,2,2,3],[3,2,1,2,3],[3,2,2,2,3],[3,3,3,3,3]]) == 10\n",
    "assert trapRainWater([[12,13,1,12],[13,4,13,12],[13,8,10,12],[12,13,12,12],[13,13,13,13]]) == 14\n",
    "assert trapRainWater([[5,5,5,1],[5,1,1,5],[5,1,5,5],[5,2,5,8]]) == 3\n",
    "assert trapRainWater([[14,17,18,16,14,16],[17,3,10,2,3,8],[11,10,4,7,1,7],[13,7,2,9,8,10],[13,1,3,4,8,6],[20,3,3,9,10,8]]) == 25"
   ]
  },
  {
   "cell_type": "markdown",
   "id": "666f4a63",
   "metadata": {},
   "source": [
    "https://leetcode.com/contest/leetcode-weekly-contest-8/problems/pacific-atlantic-water-flow/"
   ]
  },
  {
   "cell_type": "code",
   "execution_count": null,
   "id": "d1cd9722",
   "metadata": {
    "lines_to_next_cell": 1
   },
   "outputs": [],
   "source": [
    "def pacificAtlantic(heights: list[list[int]]) -> set[tuple[int, int]]:\n",
    "    def DFS(to_visit: list[tuple[int, int]]) -> set[tuple[int, int]]:\n",
    "        visited: set[tuple[int, int]] = set()\n",
    "        while to_visit:\n",
    "            x, y = to_visit.pop()\n",
    "            visited.add((x, y))\n",
    "            for i, j in [(x, y + 1), (x, y - 1), (x + 1, y), (x - 1, y)]:\n",
    "                if 0 <= i < N and 0 <= j < M and (i, j) not in visited and heights[i][j] >= heights[x][y]:\n",
    "                    to_visit.append((i, j))\n",
    "\n",
    "        return visited\n",
    "\n",
    "    N, M = len(heights), len(heights[0])\n",
    "\n",
    "    pacific: set[tuple[int, int]] = DFS([(0, i) for i in range(M)] + [(i, 0) for i in range(N)])\n",
    "    atlantic: set[tuple[int, int]] = DFS([(N - 1, i) for i in range(M)] + [(i, M - 1) for i in range(N)])\n",
    "\n",
    "    return set.intersection(pacific, atlantic)\n",
    "\n",
    "# Testing the soluiton\n",
    "pacificAtlantic([[1,2,2,3,5],[3,2,3,4,4],[2,4,5,3,1],[6,7,1,4,5],[5,1,1,2,4]])"
   ]
  },
  {
   "cell_type": "code",
   "execution_count": null,
   "id": "308c8c47",
   "metadata": {},
   "outputs": [],
   "source": [
    "# https://leetcode.com/contest/leetcode-weekly-contest-8/problems/sentence-screen-fitting/\n",
    "def sentenceScreenFitting(sentence: list[str], rows: int, cols: int) -> int:\n",
    "    n_words = len(sentence)\n",
    "    word_length: list[int] = list(map(len, sentence))\n",
    "    word_idx = n_sentences = 0\n",
    "\n",
    "    row_pending = rows\n",
    "    while row_pending > 0:\n",
    "        col_pending = cols\n",
    "        while col_pending > 0:\n",
    "\n",
    "            if word_length[word_idx] <= col_pending:\n",
    "                col_pending -= word_length[word_idx]\n",
    "                word_idx += 1\n",
    "\n",
    "                if col_pending > 0:\n",
    "                    col_pending -= 1\n",
    "\n",
    "            else:\n",
    "                col_pending = 0\n",
    "\n",
    "            if word_idx == n_words:\n",
    "                word_idx = 0\n",
    "                n_sentences += 1\n",
    "\n",
    "        row_pending -= 1\n",
    "\n",
    "    return n_sentences\n",
    "\n",
    "# Testing the solution\n",
    "assert sentenceScreenFitting([\"hello\",\"world\"], 2, 8) == 1\n",
    "assert sentenceScreenFitting([\"a\", \"bcd\", \"e\"], 3, 6) == 2\n",
    "assert sentenceScreenFitting([\"i\",\"had\",\"apple\",\"pie\"], 4, 5) == 1"
   ]
  }
 ],
 "metadata": {
  "jupytext": {
   "extension": ".py",
   "format_name": "percent",
   "format_version": "1.3",
   "jupytext_version": "1.15.2"
  },
  "kernelspec": {
   "display_name": "Python 3 (ipykernel)",
   "language": "python",
   "name": "python3"
  },
  "language_info": {
   "codemirror_mode": {
    "name": "ipython",
    "version": 3
   },
   "file_extension": ".py",
   "mimetype": "text/x-python",
   "name": "python",
   "nbconvert_exporter": "python",
   "pygments_lexer": "ipython3",
   "version": "3.11.9"
  },
  "papermill": {
   "default_parameters": {},
   "duration": 2.020152,
   "end_time": "2024-06-15T17:29:40.218088",
   "environment_variables": {},
   "exception": null,
   "input_path": "practice/004.ipynb",
   "output_path": "practice/004.ipynb",
   "parameters": {},
   "start_time": "2024-06-15T17:29:38.197936",
   "version": "2.6.0"
  }
 },
 "nbformat": 4,
 "nbformat_minor": 5
}
