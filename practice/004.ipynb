{
 "cells": [
  {
   "cell_type": "code",
   "execution_count": 1,
   "id": "ff4e246c",
   "metadata": {
    "execution": {
     "iopub.execute_input": "2024-06-20T02:44:39.252137Z",
     "iopub.status.busy": "2024-06-20T02:44:39.251723Z",
     "iopub.status.idle": "2024-06-20T02:44:39.589503Z",
     "shell.execute_reply": "2024-06-20T02:44:39.588966Z"
    },
    "papermill": {
     "duration": 0.348615,
     "end_time": "2024-06-20T02:44:39.590871",
     "exception": false,
     "start_time": "2024-06-20T02:44:39.242256",
     "status": "completed"
    },
    "tags": []
   },
   "outputs": [],
   "source": [
    "from typing import List, Optional, Generator\n",
    "import pandas as pd\n",
    "import numpy as np\n",
    "import sqlite3\n",
    "import re\n",
    "import io\n",
    "import math\n",
    "import collections\n",
    "import itertools\n",
    "import functools\n",
    "import random\n",
    "import string\n",
    "import tqdm\n",
    "import bisect\n",
    "import heapq\n",
    "\n",
    "conn = sqlite3.connect(\":memory:\")\n",
    "\n",
    "def regexp(expr, item):\n",
    "    reg = re.compile(expr)\n",
    "    return reg.search(item) is not None\n",
    "\n",
    "def read_lc_df(s: str, dtypes: dict[str, str]=dict()) -> pd.DataFrame:\n",
    "    temp = pd.read_csv(io.StringIO(s), sep=\"|\", skiprows=2)\n",
    "    temp = temp.iloc[1:-1, 1:-1]\n",
    "    temp.columns = temp.columns.map(str.strip)\n",
    "    temp = temp.map(lambda x: x if type(x) != str else None if x.strip() == 'null' else x.strip())\n",
    "    temp = temp.astype(dtypes)\n",
    "    return temp\n",
    "\n",
    "conn.create_function(\"REGEXP\", 2, regexp)"
   ]
  },
  {
   "cell_type": "markdown",
   "id": "2e7ac16e",
   "metadata": {
    "papermill": {
     "duration": 0.006589,
     "end_time": "2024-06-20T02:44:39.604383",
     "exception": false,
     "start_time": "2024-06-20T02:44:39.597794",
     "status": "completed"
    },
    "tags": []
   },
   "source": [
    "#### Helper for Binary tree problems"
   ]
  },
  {
   "cell_type": "code",
   "execution_count": 2,
   "id": "3f0a4700",
   "metadata": {
    "execution": {
     "iopub.execute_input": "2024-06-20T02:44:39.618679Z",
     "iopub.status.busy": "2024-06-20T02:44:39.618089Z",
     "iopub.status.idle": "2024-06-20T02:44:39.625383Z",
     "shell.execute_reply": "2024-06-20T02:44:39.624825Z"
    },
    "lines_to_next_cell": 1,
    "papermill": {
     "duration": 0.015776,
     "end_time": "2024-06-20T02:44:39.626620",
     "exception": false,
     "start_time": "2024-06-20T02:44:39.610844",
     "status": "completed"
    },
    "tags": []
   },
   "outputs": [],
   "source": [
    "class BinaryTreeNode:\n",
    "    def __init__(self, val=0, left=None, right=None):\n",
    "        self.val = val\n",
    "        self.left = left\n",
    "        self.right = right\n",
    "\n",
    "    def to_list(self):\n",
    "        to_visit = [self]\n",
    "        visited = []\n",
    "        while len(to_visit) > 0:\n",
    "            curr = to_visit.pop(0)\n",
    "            if curr:\n",
    "                to_visit.append(curr.left)\n",
    "                to_visit.append(curr.right)\n",
    "                visited.append(curr.val)\n",
    "            else:\n",
    "                visited.append(curr)\n",
    "\n",
    "        while visited and not visited[-1]:\n",
    "            visited.pop()\n",
    "\n",
    "        return visited\n",
    "\n",
    "    def __str__(self):\n",
    "        return str(self.val)\n",
    "\n",
    "    @staticmethod\n",
    "    def from_array(nums: list[int|None]):\n",
    "        '''Create a Tree from a list of nums. Returns the root node.'''\n",
    "        if len(nums) == 0:\n",
    "            return None\n",
    "        elif len(nums) == 1:\n",
    "            return BinaryTreeNode(nums[0])\n",
    "        else:\n",
    "            forest = [BinaryTreeNode(nums[0])]\n",
    "            parent_idx = -1\n",
    "            for i in range(1, len(nums)):\n",
    "\n",
    "                curr = None\n",
    "                if nums[i] is not None:\n",
    "                    curr = BinaryTreeNode(nums[i])\n",
    "                    forest.append(curr)\n",
    "\n",
    "                if i % 2 == 1:\n",
    "                    parent_idx += 1\n",
    "                    forest[parent_idx].left = curr\n",
    "                else:\n",
    "                    forest[parent_idx].right = curr\n",
    "\n",
    "        return forest[0]"
   ]
  },
  {
   "cell_type": "markdown",
   "id": "db1734cd",
   "metadata": {
    "papermill": {
     "duration": 0.006524,
     "end_time": "2024-06-20T02:44:39.639768",
     "exception": false,
     "start_time": "2024-06-20T02:44:39.633244",
     "status": "completed"
    },
    "tags": []
   },
   "source": [
    "#### Helper for Singly Linked lists"
   ]
  },
  {
   "cell_type": "code",
   "execution_count": 3,
   "id": "8492ea44",
   "metadata": {
    "execution": {
     "iopub.execute_input": "2024-06-20T02:44:39.653963Z",
     "iopub.status.busy": "2024-06-20T02:44:39.653594Z",
     "iopub.status.idle": "2024-06-20T02:44:39.657988Z",
     "shell.execute_reply": "2024-06-20T02:44:39.657540Z"
    },
    "lines_to_next_cell": 1,
    "papermill": {
     "duration": 0.012731,
     "end_time": "2024-06-20T02:44:39.659068",
     "exception": false,
     "start_time": "2024-06-20T02:44:39.646337",
     "status": "completed"
    },
    "tags": []
   },
   "outputs": [],
   "source": [
    "class ListNode:\n",
    "    def __init__(self, val=0, next=None):\n",
    "        self.val = val\n",
    "        self.next = next\n",
    "\n",
    "    def __str__(self):\n",
    "        return str(self.val)\n",
    "\n",
    "    @staticmethod\n",
    "    def to_singly_linked_list(nums: list[int]):\n",
    "        root = prev = None\n",
    "        for n in nums:\n",
    "            curr = ListNode(n)\n",
    "            # Init once\n",
    "            if not root:\n",
    "                root = curr\n",
    "            if prev:\n",
    "                prev.next = curr\n",
    "            prev = curr\n",
    "\n",
    "        return root\n",
    "\n",
    "    def to_list(self) -> list[int]:\n",
    "        result = []\n",
    "        curr = self\n",
    "        while curr:\n",
    "            result.append(curr.val)\n",
    "            curr = curr.next\n",
    "        return result"
   ]
  },
  {
   "cell_type": "markdown",
   "id": "4299ad4a",
   "metadata": {
    "papermill": {
     "duration": 0.006558,
     "end_time": "2024-06-20T02:44:39.672103",
     "exception": false,
     "start_time": "2024-06-20T02:44:39.665545",
     "status": "completed"
    },
    "tags": []
   },
   "source": [
    "#### Utility to generate random BST"
   ]
  },
  {
   "cell_type": "code",
   "execution_count": 4,
   "id": "0882390e",
   "metadata": {
    "execution": {
     "iopub.execute_input": "2024-06-20T02:44:39.686157Z",
     "iopub.status.busy": "2024-06-20T02:44:39.685671Z",
     "iopub.status.idle": "2024-06-20T02:44:39.690126Z",
     "shell.execute_reply": "2024-06-20T02:44:39.689626Z"
    },
    "lines_to_next_cell": 1,
    "papermill": {
     "duration": 0.012727,
     "end_time": "2024-06-20T02:44:39.691283",
     "exception": false,
     "start_time": "2024-06-20T02:44:39.678556",
     "status": "completed"
    },
    "tags": []
   },
   "outputs": [],
   "source": [
    "def generateBST(N: int, min_: int, max_: int) -> BinaryTreeNode|None:\n",
    "    def insert(curr: BinaryTreeNode|None, n: int) -> BinaryTreeNode:\n",
    "        if not curr:\n",
    "            curr = BinaryTreeNode(n)\n",
    "        elif curr.val < n:\n",
    "            curr.right = insert(curr.right, n)\n",
    "        else:\n",
    "            curr.left = insert(curr.left, n)\n",
    "\n",
    "        return curr\n",
    "\n",
    "    assert N <= max_ - min_, \"Number of available samples must be >= N\"\n",
    "    root: BinaryTreeNode|None = None\n",
    "    for n in np.random.choice(np.arange(min_, max_), size=N, replace=False):\n",
    "        root = insert(root, n)\n",
    "\n",
    "    return root"
   ]
  },
  {
   "cell_type": "markdown",
   "id": "d111cefb",
   "metadata": {
    "papermill": {
     "duration": 0.006518,
     "end_time": "2024-06-20T02:44:39.704448",
     "exception": false,
     "start_time": "2024-06-20T02:44:39.697930",
     "status": "completed"
    },
    "tags": []
   },
   "source": [
    "LC Medium: Longest Substring with atleast K repeating characters"
   ]
  },
  {
   "cell_type": "code",
   "execution_count": 5,
   "id": "bdbcc4a8",
   "metadata": {
    "execution": {
     "iopub.execute_input": "2024-06-20T02:44:39.718310Z",
     "iopub.status.busy": "2024-06-20T02:44:39.718044Z",
     "iopub.status.idle": "2024-06-20T02:44:39.723094Z",
     "shell.execute_reply": "2024-06-20T02:44:39.722644Z"
    },
    "lines_to_next_cell": 1,
    "papermill": {
     "duration": 0.013295,
     "end_time": "2024-06-20T02:44:39.724200",
     "exception": false,
     "start_time": "2024-06-20T02:44:39.710905",
     "status": "completed"
    },
    "tags": []
   },
   "outputs": [],
   "source": [
    "# https://leetcode.com/problems/longest-substring-with-at-least-k-repeating-characters/\n",
    "# https://leetcode.com/problems/longest-substring-with-at-least-k-repeating-characters/submissions/1286506890\n",
    "def longestSubstring(s: str, k: int) -> int:\n",
    "    \"\"\"\n",
    "    Count the freq of all characters, split on the characters with freq < k\n",
    "    \"\"\"\n",
    "    N = len(s)\n",
    "\n",
    "    # Count the freq\n",
    "    freq: collections.Counter = collections.Counter(s)\n",
    "    is_valid = not any(map(lambda x: x < k, freq.values()))\n",
    "\n",
    "    # If the entire string is okay, return length as answer\n",
    "    if is_valid:\n",
    "        return N\n",
    "\n",
    "    # Split on the invalid characters and backtrack inside\n",
    "    else:\n",
    "        max_length = start_idx = 0\n",
    "        for curr_idx in range(N):\n",
    "            if 0 < freq[s[curr_idx]] < k:\n",
    "                max_length = max(max_length, longestSubstring(s[start_idx:curr_idx], k))\n",
    "                start_idx = curr_idx + 1\n",
    "\n",
    "        max_length = max(max_length, longestSubstring(s[start_idx:], k))\n",
    "        return max_length\n",
    "\n",
    "# Tesitng the solution\n",
    "assert longestSubstring(\"aaabb\", 3) == 3\n",
    "assert longestSubstring(\"ababbc\", 2) == 5\n",
    "assert longestSubstring(\"bbaaa\", 3) == 3"
   ]
  },
  {
   "cell_type": "markdown",
   "id": "ff630a5c",
   "metadata": {
    "papermill": {
     "duration": 0.006459,
     "end_time": "2024-06-20T02:44:39.737245",
     "exception": false,
     "start_time": "2024-06-20T02:44:39.730786",
     "status": "completed"
    },
    "tags": []
   },
   "source": [
    "LC Virtual - 4: Weekly Contest 5\n",
    "https://leetcode.com/contest/leetcode-weekly-contest-5/"
   ]
  },
  {
   "cell_type": "code",
   "execution_count": 6,
   "id": "186e9992",
   "metadata": {
    "execution": {
     "iopub.execute_input": "2024-06-20T02:44:39.751244Z",
     "iopub.status.busy": "2024-06-20T02:44:39.750770Z",
     "iopub.status.idle": "2024-06-20T02:44:39.758141Z",
     "shell.execute_reply": "2024-06-20T02:44:39.757516Z"
    },
    "lines_to_next_cell": 1,
    "papermill": {
     "duration": 0.015602,
     "end_time": "2024-06-20T02:44:39.759301",
     "exception": false,
     "start_time": "2024-06-20T02:44:39.743699",
     "status": "completed"
    },
    "tags": []
   },
   "outputs": [],
   "source": [
    "# Q4: Frog Jump\n",
    "def canCrossRecursive(stones: list[int]) -> bool:\n",
    "    @functools.cache\n",
    "    def backtrack(n: int, jump: int) -> bool:\n",
    "        if jump < 0:\n",
    "            return False\n",
    "        elif n == stones[-1]:\n",
    "            return True\n",
    "        else:\n",
    "            if n + jump - 1 in positions and backtrack(n + jump - 1, jump - 1):\n",
    "                return True\n",
    "            elif jump > 0 and n + jump in positions and backtrack(n + jump, jump):\n",
    "                return True\n",
    "            elif n + jump + 1 in positions and backtrack(n + jump + 1, jump + 1):\n",
    "                return True\n",
    "            else:\n",
    "                return False\n",
    "\n",
    "    N = len(stones)\n",
    "    positions: dict[int, int] = {n: i for i, n in enumerate(stones)}\n",
    "    return len(stones) <= 1 or backtrack(stones[0], 0)\n",
    "\n",
    "# Testing the solution\n",
    "assert canCrossRecursive([0,1,3,5,6,8,12,17]) == True\n",
    "assert canCrossRecursive([0,1,2,3,4,8,9,11]) == False\n",
    "assert canCrossRecursive([]) == True\n",
    "assert canCrossRecursive([100]) == True\n",
    "assert canCrossRecursive([0,2]) == False"
   ]
  },
  {
   "cell_type": "code",
   "execution_count": 7,
   "id": "14bb91a7",
   "metadata": {
    "execution": {
     "iopub.execute_input": "2024-06-20T02:44:39.773403Z",
     "iopub.status.busy": "2024-06-20T02:44:39.773092Z",
     "iopub.status.idle": "2024-06-20T02:44:39.779373Z",
     "shell.execute_reply": "2024-06-20T02:44:39.778834Z"
    },
    "lines_to_next_cell": 1,
    "papermill": {
     "duration": 0.014619,
     "end_time": "2024-06-20T02:44:39.780461",
     "exception": false,
     "start_time": "2024-06-20T02:44:39.765842",
     "status": "completed"
    },
    "tags": []
   },
   "outputs": [],
   "source": [
    "def canCrossTabulation(stones: list[int]) -> bool:\n",
    "    N = len(stones)\n",
    "    positions: dict[int, int] = {n: i for i, n in enumerate(stones)}\n",
    "    dp: list[list[bool]] = [[False if stones[i] != stones[-1] else True for jump in range(N + 2)] for i in range(N)]\n",
    "    for i in range(N - 2, -1, -1):\n",
    "        for jump in range(N):\n",
    "            n = stones[i]\n",
    "            if n + jump - 1 in positions:\n",
    "                dp[i][jump] = dp[i][jump] or dp[positions[n + jump - 1]][jump - 1]\n",
    "            if jump > 0 and n + jump in positions:\n",
    "                dp[i][jump] = dp[i][jump] or dp[positions[n + jump]][jump]\n",
    "            if n + jump + 1 in positions:\n",
    "                dp[i][jump] = dp[i][jump] or dp[positions[n + jump + 1]][jump + 1]\n",
    "\n",
    "    return len(stones) <= 1 or dp[0][0]\n",
    "\n",
    "# Testing the solution\n",
    "assert canCrossTabulation([0,1,3,5,6,8,12,17]) == True\n",
    "assert canCrossTabulation([0,1,2,3,4,8,9,11]) == False\n",
    "assert canCrossTabulation([]) == True\n",
    "assert canCrossTabulation([100]) == True\n",
    "assert canCrossTabulation([0,2]) == False"
   ]
  },
  {
   "cell_type": "code",
   "execution_count": 8,
   "id": "a756a694",
   "metadata": {
    "execution": {
     "iopub.execute_input": "2024-06-20T02:44:39.794465Z",
     "iopub.status.busy": "2024-06-20T02:44:39.794129Z",
     "iopub.status.idle": "2024-06-20T02:44:39.796941Z",
     "shell.execute_reply": "2024-06-20T02:44:39.796431Z"
    },
    "lines_to_next_cell": 1,
    "papermill": {
     "duration": 0.010918,
     "end_time": "2024-06-20T02:44:39.797941",
     "exception": false,
     "start_time": "2024-06-20T02:44:39.787023",
     "status": "completed"
    },
    "tags": []
   },
   "outputs": [],
   "source": [
    "# Q3: Remove K digits\n",
    "def removeKdigits(num: str, k: int) -> str:\n",
    "    pass"
   ]
  },
  {
   "cell_type": "code",
   "execution_count": 9,
   "id": "258ef565",
   "metadata": {
    "execution": {
     "iopub.execute_input": "2024-06-20T02:44:39.812229Z",
     "iopub.status.busy": "2024-06-20T02:44:39.811798Z",
     "iopub.status.idle": "2024-06-20T02:44:39.816523Z",
     "shell.execute_reply": "2024-06-20T02:44:39.816024Z"
    },
    "lines_to_next_cell": 1,
    "papermill": {
     "duration": 0.013,
     "end_time": "2024-06-20T02:44:39.817564",
     "exception": false,
     "start_time": "2024-06-20T02:44:39.804564",
     "status": "completed"
    },
    "tags": []
   },
   "outputs": [],
   "source": [
    "# Q1: Find Nth Digit\n",
    "def findNthDigit(N: int) -> int:\n",
    "    def countDigitsBefore(n: int) -> int:\n",
    "        if n < 10:\n",
    "            return n\n",
    "        else:\n",
    "            n_digits = math.floor(math.log10(n)) + 1\n",
    "            smallest_n_digit_number = 10 ** (n_digits - 1)\n",
    "            n_digits_before = (n - smallest_n_digit_number + 1) * n_digits\n",
    "            return n_digits_before + countDigitsBefore(smallest_n_digit_number - 1)\n",
    "\n",
    "    # Binary search\n",
    "    low, high = 1, N\n",
    "    while low <= high:\n",
    "        mid = (low + high) // 2\n",
    "        count = countDigitsBefore(mid)\n",
    "        if count == N:\n",
    "            return mid % 10\n",
    "        elif count < N:\n",
    "            low = mid + 1\n",
    "        else:\n",
    "            high = mid - 1\n",
    "\n",
    "    delta = countDigitsBefore(low) - N\n",
    "    return int(str(low)[-delta-1])\n",
    "\n",
    "# Testing the solution\n",
    "assert findNthDigit(11) == 0\n",
    "assert findNthDigit(3) == 3"
   ]
  },
  {
   "cell_type": "code",
   "execution_count": 10,
   "id": "76b61cf9",
   "metadata": {
    "execution": {
     "iopub.execute_input": "2024-06-20T02:44:39.831749Z",
     "iopub.status.busy": "2024-06-20T02:44:39.831403Z",
     "iopub.status.idle": "2024-06-20T02:44:39.836693Z",
     "shell.execute_reply": "2024-06-20T02:44:39.836257Z"
    },
    "lines_to_next_cell": 1,
    "papermill": {
     "duration": 0.013519,
     "end_time": "2024-06-20T02:44:39.837737",
     "exception": false,
     "start_time": "2024-06-20T02:44:39.824218",
     "status": "completed"
    },
    "tags": []
   },
   "outputs": [],
   "source": [
    "# Q2: Binary Watch\n",
    "def readBinaryWatch(turnedOn: int) -> set[str]:\n",
    "    watch: list[bool] = [False for i in range(10)]\n",
    "    result: set[str] = set()\n",
    "    def backtrack(lights: int) -> None:\n",
    "        if lights == 0:\n",
    "            hour = minute = 0\n",
    "            for i in range(10):\n",
    "                if watch[i]:\n",
    "                    if i < 4:\n",
    "                        hour += 2 ** (3 - i)\n",
    "                    else:\n",
    "                        minute += 2 ** (9 - i)\n",
    "\n",
    "            if 0 <= hour < 12 and 0 <= minute <= 59:\n",
    "                result.add(f\"{hour}:{str(minute).zfill(2)}\")\n",
    "\n",
    "        else:\n",
    "            for i in range(10):\n",
    "                if not watch[i]:\n",
    "                    watch[i] = True\n",
    "                    backtrack(lights - 1)\n",
    "                    watch[i] = False\n",
    "\n",
    "    backtrack(turnedOn)\n",
    "    return result\n",
    "\n",
    "# Testing the solution\n",
    "assert sorted(readBinaryWatch(1)) == sorted([\"0:01\",\"0:02\",\"0:04\",\"0:08\",\"0:16\",\"0:32\",\"1:00\",\"2:00\",\"4:00\",\"8:00\"])"
   ]
  },
  {
   "cell_type": "markdown",
   "id": "35e89076",
   "metadata": {
    "papermill": {
     "duration": 0.006464,
     "end_time": "2024-06-20T02:44:39.850791",
     "exception": false,
     "start_time": "2024-06-20T02:44:39.844327",
     "status": "completed"
    },
    "tags": []
   },
   "source": [
    "Minimum no of moves to seat everyone \n",
    "https://leetcode.com/problems/minimum-number-of-moves-to-seat-everyone"
   ]
  },
  {
   "cell_type": "code",
   "execution_count": 11,
   "id": "1cec1bdc",
   "metadata": {
    "execution": {
     "iopub.execute_input": "2024-06-20T02:44:39.864715Z",
     "iopub.status.busy": "2024-06-20T02:44:39.864381Z",
     "iopub.status.idle": "2024-06-20T02:44:39.868281Z",
     "shell.execute_reply": "2024-06-20T02:44:39.867857Z"
    },
    "lines_to_next_cell": 1,
    "papermill": {
     "duration": 0.012054,
     "end_time": "2024-06-20T02:44:39.869337",
     "exception": false,
     "start_time": "2024-06-20T02:44:39.857283",
     "status": "completed"
    },
    "tags": []
   },
   "outputs": [],
   "source": [
    "def minMovesToSeat(seats: list[int], students: list[int]) -> int:\n",
    "    # Compute length\n",
    "    N = len(seats)\n",
    "\n",
    "    # Sort both to ensure that we get the minimal distances\n",
    "    seats.sort()\n",
    "    students.sort()\n",
    "\n",
    "    # Compute abs distance between seats and students\n",
    "    moves = 0\n",
    "    for i in range(N):\n",
    "        moves += abs(seats[i] - students[i])\n",
    "    return moves\n",
    "\n",
    "# Testing the solution\n",
    "assert minMovesToSeat([3,1,5], [2,7,4]) == 4\n",
    "assert minMovesToSeat([2,2,6,6], [1,3,2,6]) == 4"
   ]
  },
  {
   "cell_type": "markdown",
   "id": "8c387dd2",
   "metadata": {
    "papermill": {
     "duration": 0.006477,
     "end_time": "2024-06-20T02:44:39.882435",
     "exception": false,
     "start_time": "2024-06-20T02:44:39.875958",
     "status": "completed"
    },
    "tags": []
   },
   "source": [
    "LC Medium: Minimum increment to make array unique\n",
    "https://leetcode.com/problems/minimum-increment-to-make-array-unique"
   ]
  },
  {
   "cell_type": "code",
   "execution_count": 12,
   "id": "3f1753a0",
   "metadata": {
    "execution": {
     "iopub.execute_input": "2024-06-20T02:44:39.896662Z",
     "iopub.status.busy": "2024-06-20T02:44:39.896194Z",
     "iopub.status.idle": "2024-06-20T02:44:39.900985Z",
     "shell.execute_reply": "2024-06-20T02:44:39.900549Z"
    },
    "lines_to_next_cell": 1,
    "papermill": {
     "duration": 0.013028,
     "end_time": "2024-06-20T02:44:39.902023",
     "exception": false,
     "start_time": "2024-06-20T02:44:39.888995",
     "status": "completed"
    },
    "tags": []
   },
   "outputs": [],
   "source": [
    "def minIncrementForUnique(nums: list[int]) -> int:\n",
    "    # Count freq & unique values present\n",
    "    counts: dict[int, int] = dict()\n",
    "    unique: set[int] = set()\n",
    "    for n in nums:\n",
    "        counts[n] = counts.get(n, 0) + 1\n",
    "        unique.add(n)\n",
    "\n",
    "    # If count of any number is greater than 1, shift right\n",
    "    moves = 0\n",
    "    while unique:\n",
    "        key = unique.pop()\n",
    "        count = counts.pop(key)\n",
    "        if count > 1:\n",
    "            shift = count - 1\n",
    "            moves += shift\n",
    "            counts[key + 1] = counts.get(key + 1, 0) + shift\n",
    "            unique.add(key + 1)\n",
    "\n",
    "    return moves\n",
    "\n",
    "# Testing the solution\n",
    "assert minIncrementForUnique([1,2,2]) == 1\n",
    "assert minIncrementForUnique([3,2,1,2,1,7]) == 6\n",
    "assert minIncrementForUnique([1,2,2,5,5]) == 2"
   ]
  },
  {
   "cell_type": "markdown",
   "id": "5e9474a6",
   "metadata": {
    "papermill": {
     "duration": 0.006657,
     "end_time": "2024-06-20T02:44:39.915413",
     "exception": false,
     "start_time": "2024-06-20T02:44:39.908756",
     "status": "completed"
    },
    "tags": []
   },
   "source": [
    "Maximum Gap\n",
    "https://leetcode.com/problems/maximum-gap/"
   ]
  },
  {
   "cell_type": "code",
   "execution_count": 13,
   "id": "f9795b8e",
   "metadata": {
    "execution": {
     "iopub.execute_input": "2024-06-20T02:44:39.929297Z",
     "iopub.status.busy": "2024-06-20T02:44:39.929135Z",
     "iopub.status.idle": "2024-06-20T02:44:39.934793Z",
     "shell.execute_reply": "2024-06-20T02:44:39.934341Z"
    },
    "lines_to_next_cell": 1,
    "papermill": {
     "duration": 0.013786,
     "end_time": "2024-06-20T02:44:39.935868",
     "exception": false,
     "start_time": "2024-06-20T02:44:39.922082",
     "status": "completed"
    },
    "tags": []
   },
   "outputs": [],
   "source": [
    "# https://leetcode.com/problems/maximum-gap/submissions/1288173457/\n",
    "def maximumGap(nums: list[int]) -> int:\n",
    "    \"\"\"\n",
    "    1. Maximum gap is always greater than or equal to ceil((max - min) / N)\n",
    "        - Divide N nums into N - 1 groups\n",
    "        - If evenly distributed, each elements would be in a different bucket (1 element in each bucket)\n",
    "        - If unevenly distributed, two or more buckets would have multiple elements. Some buckets may not have any elements - max gap could occur betweeen left and right of the missing buckets\n",
    "    2. Consequently we only need to store the min and max of each bucket\n",
    "    \"\"\"\n",
    "    N, high, low = len(nums), max(nums), min(nums)\n",
    "    bucket_size = math.ceil((high - low) / N)\n",
    "    buckets: dict[int, tuple[int, int]] = {}\n",
    "\n",
    "    # Edge case\n",
    "    if bucket_size == 0:\n",
    "        return 0\n",
    "\n",
    "    # Group the numbers into buckets\n",
    "    for n in nums:\n",
    "        index = n // bucket_size\n",
    "        min_, max_ = buckets.get(index, ((index + 1) * bucket_size, (index - 1) * bucket_size))\n",
    "        min_, max_ = min(min_, n), max(max_, n)\n",
    "        buckets[index] = (min_, max_)\n",
    "\n",
    "    # Iterate through each and find the max gap\n",
    "    curr, end = low // bucket_size, high // bucket_size\n",
    "    max_gap = 0\n",
    "    while curr < end:\n",
    "        next_ = curr + 1\n",
    "        while next_ not in buckets:\n",
    "            next_ += 1\n",
    "        curr, max_gap = next_, max(max_gap, buckets[next_][0] - buckets[curr][1])\n",
    "\n",
    "    return max_gap\n",
    "\n",
    "# Testing the solution\n",
    "assert maximumGap([3,14,15,83,6,4,19,20,40]) == 43\n",
    "assert maximumGap([3,6,9,1]) == 3\n",
    "assert maximumGap([10]) == 0"
   ]
  },
  {
   "cell_type": "markdown",
   "id": "2de5b7ba",
   "metadata": {
    "papermill": {
     "duration": 0.006523,
     "end_time": "2024-06-20T02:44:39.948925",
     "exception": false,
     "start_time": "2024-06-20T02:44:39.942402",
     "status": "completed"
    },
    "tags": []
   },
   "source": [
    "LC Virtual - 5: Weekly Contest 6\n",
    "https://leetcode.com/contest/leetcode-weekly-contest-6/"
   ]
  },
  {
   "cell_type": "code",
   "execution_count": 14,
   "id": "02ae7259",
   "metadata": {
    "execution": {
     "iopub.execute_input": "2024-06-20T02:44:39.963038Z",
     "iopub.status.busy": "2024-06-20T02:44:39.962525Z",
     "iopub.status.idle": "2024-06-20T02:44:39.967493Z",
     "shell.execute_reply": "2024-06-20T02:44:39.967025Z"
    },
    "lines_to_next_cell": 1,
    "papermill": {
     "duration": 0.013047,
     "end_time": "2024-06-20T02:44:39.968509",
     "exception": false,
     "start_time": "2024-06-20T02:44:39.955462",
     "status": "completed"
    },
    "tags": []
   },
   "outputs": [],
   "source": [
    "# Q1: Sum of left leaves\n",
    "def sumOfLeftLeaves(root: BinaryTreeNode) -> int:\n",
    "    def backtrack(curr: BinaryTreeNode) -> tuple[int, int]:\n",
    "        if not curr:\n",
    "            return 0, -1\n",
    "        else:\n",
    "            left_sum, left_type = backtrack(curr.left)\n",
    "            right_sum, right_type = backtrack(curr.right)\n",
    "            curr_type, total = 0 if left_type == -1 and right_type == -1 else 1, 0\n",
    "            if curr_type == 0:\n",
    "                total += curr.val\n",
    "            if left_type != -1:\n",
    "                total += left_sum\n",
    "            if right_type >= 1:\n",
    "                total += right_sum\n",
    "            result = total, curr_type\n",
    "            return result\n",
    "\n",
    "    return backtrack(root)[0] if root.left or root.right else 0\n",
    "\n",
    "# Testing the solution\n",
    "assert sumOfLeftLeaves(BinaryTreeNode.from_array([3,9,20,None,None,15,7])) == 24\n",
    "assert sumOfLeftLeaves(BinaryTreeNode.from_array([1])) == 0"
   ]
  },
  {
   "cell_type": "code",
   "execution_count": 15,
   "id": "eaa96394",
   "metadata": {
    "execution": {
     "iopub.execute_input": "2024-06-20T02:44:39.982596Z",
     "iopub.status.busy": "2024-06-20T02:44:39.982243Z",
     "iopub.status.idle": "2024-06-20T02:44:39.986772Z",
     "shell.execute_reply": "2024-06-20T02:44:39.986259Z"
    },
    "lines_to_next_cell": 1,
    "papermill": {
     "duration": 0.012898,
     "end_time": "2024-06-20T02:44:39.987935",
     "exception": false,
     "start_time": "2024-06-20T02:44:39.975037",
     "status": "completed"
    },
    "tags": []
   },
   "outputs": [],
   "source": [
    "# Q2: Convert to hexadecimal\n",
    "def toHex(num: int) -> str:\n",
    "    # If negative, find hex for its 2's compliment\n",
    "    if num < 0:\n",
    "        bit_length = 32\n",
    "        num &= (2 << bit_length - 1) - 1\n",
    "\n",
    "    # Use division method\n",
    "    division_result: list[int] = []\n",
    "    while num >= 16:\n",
    "        num, rem = num // 16, num % 16\n",
    "        division_result.append(rem)\n",
    "    division_result.append(num)\n",
    "    division_result.reverse()\n",
    "\n",
    "    # Convert to hexadecimal string\n",
    "    mapping = {i: str(i) for i in range(0, 10)} | {i: chr(ord('a') + i - 10) for i in range(10, 16)}\n",
    "    return ''.join(map(lambda x: mapping[x], division_result))\n",
    "\n",
    "# Testing the solution\n",
    "assert toHex(26) == \"1a\"\n",
    "assert toHex(-1) == \"ffffffff\""
   ]
  },
  {
   "cell_type": "code",
   "execution_count": 16,
   "id": "69bb828f",
   "metadata": {
    "execution": {
     "iopub.execute_input": "2024-06-20T02:44:40.001958Z",
     "iopub.status.busy": "2024-06-20T02:44:40.001639Z",
     "iopub.status.idle": "2024-06-20T02:44:40.008040Z",
     "shell.execute_reply": "2024-06-20T02:44:40.007524Z"
    },
    "lines_to_next_cell": 1,
    "papermill": {
     "duration": 0.014543,
     "end_time": "2024-06-20T02:44:40.009022",
     "exception": false,
     "start_time": "2024-06-20T02:44:39.994479",
     "status": "completed"
    },
    "tags": []
   },
   "outputs": [],
   "source": [
    "# Q3: Queue Reconstruction by Height\n",
    "def reconstructQueue(people: list[list[int]]) -> list[list[int]]:\n",
    "    N = len(people)\n",
    "\n",
    "    # Sort to find the relative height ordering\n",
    "    people.sort()\n",
    "\n",
    "    # Iterate from shortest to tallest, keeping track of number of person with height equal to curr\n",
    "    eq_front = []\n",
    "    prev, eq_count = -1, 0\n",
    "    for i in range(N):\n",
    "        if people[i][0] == prev:\n",
    "            eq_count += 1\n",
    "        else:\n",
    "            eq_count = 0\n",
    "        prev = people[i][0]\n",
    "        eq_front.append(eq_count)\n",
    "\n",
    "    # Insert into queue in correct order\n",
    "    result: list[list[int]] = []\n",
    "    while eq_front:\n",
    "        actual, (height, expected) = eq_front.pop(), people.pop()\n",
    "        if expected == actual:\n",
    "            result.append([height, expected])\n",
    "        else:\n",
    "            temp: list[list[int]] = []\n",
    "            for i in range(expected - actual):\n",
    "                temp.append(result.pop())\n",
    "            result.append([height, expected])\n",
    "            while temp:\n",
    "                result.append(temp.pop())\n",
    "\n",
    "    result.reverse()\n",
    "    return result\n",
    "\n",
    "# Testing the solution\n",
    "assert reconstructQueue([[7,0],[4,4],[7,1],[5,0],[6,1],[5,2]]) == [[5,0],[7,0],[5,2],[6,1],[4,4],[7,1]]\n",
    "assert reconstructQueue([[6,0],[5,0],[4,0],[3,2],[2,2],[1,4]]) == [[4,0],[5,0],[2,2],[3,2],[1,4],[6,0]]"
   ]
  },
  {
   "cell_type": "markdown",
   "id": "5b1cd8d3",
   "metadata": {
    "papermill": {
     "duration": 0.006607,
     "end_time": "2024-06-20T02:44:40.022356",
     "exception": false,
     "start_time": "2024-06-20T02:44:40.015749",
     "status": "completed"
    },
    "tags": []
   },
   "source": [
    "Trapping Rain water - II (Upsolving)\n",
    "https://leetcode.com/problems/trapping-rain-water-ii/"
   ]
  },
  {
   "cell_type": "code",
   "execution_count": null,
   "id": "16a2bb8e",
   "metadata": {
    "papermill": {
     "duration": 0.006458,
     "end_time": "2024-06-20T02:44:40.035343",
     "exception": false,
     "start_time": "2024-06-20T02:44:40.028885",
     "status": "completed"
    },
    "tags": []
   },
   "outputs": [],
   "source": []
  },
  {
   "cell_type": "code",
   "execution_count": 17,
   "id": "1d0cafe4",
   "metadata": {
    "execution": {
     "iopub.execute_input": "2024-06-20T02:44:40.049271Z",
     "iopub.status.busy": "2024-06-20T02:44:40.048832Z",
     "iopub.status.idle": "2024-06-20T02:44:40.057760Z",
     "shell.execute_reply": "2024-06-20T02:44:40.057290Z"
    },
    "lines_to_next_cell": 1,
    "papermill": {
     "duration": 0.016953,
     "end_time": "2024-06-20T02:44:40.058776",
     "exception": false,
     "start_time": "2024-06-20T02:44:40.041823",
     "status": "completed"
    },
    "tags": []
   },
   "outputs": [],
   "source": [
    "# Q4: Trapping Rain water - II\n",
    "# https://leetcode.com/problems/trapping-rain-water-ii/solutions/1138028/python3-visualization-bfs-solution-with-explanation\n",
    "def trapRainWater(heightMap: list[list[int]]) -> int:\n",
    "    N, M = len(heightMap), len(heightMap[0])\n",
    "    visited: set[tuple[int, int]] = set()\n",
    "\n",
    "    # Add boundary cells to heap, heap: Height, i, j\n",
    "    heap: list[tuple[int, int, int]] = []\n",
    "    for i in range(N):\n",
    "        for j in range(M):\n",
    "            if i in (0, N - 1) or j in (0, M - 1):\n",
    "                heapq.heappush(heap, (heightMap[i][j], i, j))\n",
    "                visited.add((i, j))\n",
    "\n",
    "    level = volume = 0\n",
    "    while heap:\n",
    "        height, x, y = heapq.heappop(heap)\n",
    "        level = max(level, height)\n",
    "        for i, j in [(x - 1, y), (x + 1, y), (x, y - 1), (x, y + 1)]:\n",
    "            if 0 <= i < N and 0 <= j < M and (i, j) not in visited:\n",
    "                next_height = heightMap[i][j]\n",
    "                if next_height < level:\n",
    "                    volume += level - next_height\n",
    "                visited.add((i, j))\n",
    "                heapq.heappush(heap, (next_height, i, j))\n",
    "\n",
    "    return volume\n",
    "\n",
    "# Testing the solution\n",
    "assert trapRainWater([[1,4,3,1,3,2],[3,2,1,3,2,4],[2,3,3,2,3,1]]) == 4\n",
    "assert trapRainWater([[3,3,3,3,3],[3,2,2,2,3],[3,2,1,2,3],[3,2,2,2,3],[3,3,3,3,3]]) == 10\n",
    "assert trapRainWater([[12,13,1,12],[13,4,13,12],[13,8,10,12],[12,13,12,12],[13,13,13,13]]) == 14\n",
    "assert trapRainWater([[5,5,5,1],[5,1,1,5],[5,1,5,5],[5,2,5,8]]) == 3\n",
    "assert trapRainWater([[14,17,18,16,14,16],[17,3,10,2,3,8],[11,10,4,7,1,7],[13,7,2,9,8,10],[13,1,3,4,8,6],[20,3,3,9,10,8]]) == 25"
   ]
  },
  {
   "cell_type": "markdown",
   "id": "666f4a63",
   "metadata": {
    "papermill": {
     "duration": 0.006557,
     "end_time": "2024-06-20T02:44:40.071963",
     "exception": false,
     "start_time": "2024-06-20T02:44:40.065406",
     "status": "completed"
    },
    "tags": []
   },
   "source": [
    "https://leetcode.com/contest/leetcode-weekly-contest-8/problems/pacific-atlantic-water-flow/"
   ]
  },
  {
   "cell_type": "code",
   "execution_count": 18,
   "id": "d1cd9722",
   "metadata": {
    "execution": {
     "iopub.execute_input": "2024-06-20T02:44:40.086240Z",
     "iopub.status.busy": "2024-06-20T02:44:40.085806Z",
     "iopub.status.idle": "2024-06-20T02:44:40.095867Z",
     "shell.execute_reply": "2024-06-20T02:44:40.095395Z"
    },
    "lines_to_next_cell": 1,
    "papermill": {
     "duration": 0.018377,
     "end_time": "2024-06-20T02:44:40.096892",
     "exception": false,
     "start_time": "2024-06-20T02:44:40.078515",
     "status": "completed"
    },
    "tags": []
   },
   "outputs": [
    {
     "data": {
      "text/plain": [
       "{(0, 4), (1, 3), (1, 4), (2, 2), (3, 0), (3, 1), (4, 0)}"
      ]
     },
     "execution_count": 18,
     "metadata": {},
     "output_type": "execute_result"
    }
   ],
   "source": [
    "def pacificAtlantic(heights: list[list[int]]) -> set[tuple[int, int]]:\n",
    "    def DFS(to_visit: list[tuple[int, int]]) -> set[tuple[int, int]]:\n",
    "        visited: set[tuple[int, int]] = set()\n",
    "        while to_visit:\n",
    "            x, y = to_visit.pop()\n",
    "            visited.add((x, y))\n",
    "            for i, j in [(x, y + 1), (x, y - 1), (x + 1, y), (x - 1, y)]:\n",
    "                if 0 <= i < N and 0 <= j < M and (i, j) not in visited and heights[i][j] >= heights[x][y]:\n",
    "                    to_visit.append((i, j))\n",
    "\n",
    "        return visited\n",
    "\n",
    "    N, M = len(heights), len(heights[0])\n",
    "\n",
    "    pacific: set[tuple[int, int]] = DFS([(0, i) for i in range(M)] + [(i, 0) for i in range(N)])\n",
    "    atlantic: set[tuple[int, int]] = DFS([(N - 1, i) for i in range(M)] + [(i, M - 1) for i in range(N)])\n",
    "\n",
    "    return set.intersection(pacific, atlantic)\n",
    "\n",
    "# Testing the soluiton\n",
    "pacificAtlantic([[1,2,2,3,5],[3,2,3,4,4],[2,4,5,3,1],[6,7,1,4,5],[5,1,1,2,4]])"
   ]
  },
  {
   "cell_type": "code",
   "execution_count": 19,
   "id": "308c8c47",
   "metadata": {
    "execution": {
     "iopub.execute_input": "2024-06-20T02:44:40.111287Z",
     "iopub.status.busy": "2024-06-20T02:44:40.110885Z",
     "iopub.status.idle": "2024-06-20T02:44:40.115588Z",
     "shell.execute_reply": "2024-06-20T02:44:40.115108Z"
    },
    "lines_to_next_cell": 1,
    "papermill": {
     "duration": 0.013045,
     "end_time": "2024-06-20T02:44:40.116661",
     "exception": false,
     "start_time": "2024-06-20T02:44:40.103616",
     "status": "completed"
    },
    "tags": []
   },
   "outputs": [],
   "source": [
    "# https://leetcode.com/contest/leetcode-weekly-contest-8/problems/sentence-screen-fitting/\n",
    "def sentenceScreenFitting(sentence: list[str], rows: int, cols: int) -> int:\n",
    "    n_words = len(sentence)\n",
    "    word_length: list[int] = list(map(len, sentence))\n",
    "    word_idx = n_sentences = 0\n",
    "\n",
    "    row_pending = rows\n",
    "    while row_pending > 0:\n",
    "        col_pending = cols\n",
    "        while col_pending > 0:\n",
    "\n",
    "            if word_length[word_idx] <= col_pending:\n",
    "                col_pending -= word_length[word_idx]\n",
    "                word_idx += 1\n",
    "\n",
    "                if col_pending > 0:\n",
    "                    col_pending -= 1\n",
    "\n",
    "            else:\n",
    "                col_pending = 0\n",
    "\n",
    "            if word_idx == n_words:\n",
    "                word_idx = 0\n",
    "                n_sentences += 1\n",
    "\n",
    "        row_pending -= 1\n",
    "\n",
    "    return n_sentences\n",
    "\n",
    "# Testing the solution\n",
    "assert sentenceScreenFitting([\"hello\",\"world\"], 2, 8) == 1\n",
    "assert sentenceScreenFitting([\"a\", \"bcd\", \"e\"], 3, 6) == 2\n",
    "assert sentenceScreenFitting([\"i\",\"had\",\"apple\",\"pie\"], 4, 5) == 1"
   ]
  },
  {
   "cell_type": "markdown",
   "id": "01322001",
   "metadata": {
    "papermill": {
     "duration": 0.0068,
     "end_time": "2024-06-20T02:44:40.146078",
     "exception": false,
     "start_time": "2024-06-20T02:44:40.139278",
     "status": "completed"
    },
    "tags": []
   },
   "source": [
    "Codeforces: https://codeforces.com/problemset/problem/1843/C"
   ]
  },
  {
   "cell_type": "code",
   "execution_count": 20,
   "id": "f5edd897",
   "metadata": {
    "execution": {
     "iopub.execute_input": "2024-06-20T02:44:40.160554Z",
     "iopub.status.busy": "2024-06-20T02:44:40.160022Z",
     "iopub.status.idle": "2024-06-20T02:44:40.164064Z",
     "shell.execute_reply": "2024-06-20T02:44:40.163615Z"
    },
    "lines_to_next_cell": 1,
    "papermill": {
     "duration": 0.012437,
     "end_time": "2024-06-20T02:44:40.165128",
     "exception": false,
     "start_time": "2024-06-20T02:44:40.152691",
     "status": "completed"
    },
    "tags": []
   },
   "outputs": [],
   "source": [
    "def sumBinaryTree(n: int) -> int:\n",
    "    if n == 1:\n",
    "        return 1\n",
    "    elif n % 2 == 0:\n",
    "        return n + sumBinaryTree(n // 2)\n",
    "    else:\n",
    "        return n + sumBinaryTree((n - 1) // 2)\n",
    "\n",
    "# Testing the solution\n",
    "assert sumBinaryTree(37) == 71\n",
    "assert sumBinaryTree(10000000000000000) == 19999999999999980\n",
    "assert sumBinaryTree(15) == 26"
   ]
  },
  {
   "cell_type": "code",
   "execution_count": 21,
   "id": "79065385",
   "metadata": {
    "execution": {
     "iopub.execute_input": "2024-06-20T02:44:40.179562Z",
     "iopub.status.busy": "2024-06-20T02:44:40.179092Z",
     "iopub.status.idle": "2024-06-20T02:44:40.182984Z",
     "shell.execute_reply": "2024-06-20T02:44:40.182549Z"
    },
    "lines_to_next_cell": 1,
    "papermill": {
     "duration": 0.012295,
     "end_time": "2024-06-20T02:44:40.184110",
     "exception": false,
     "start_time": "2024-06-20T02:44:40.171815",
     "status": "completed"
    },
    "tags": []
   },
   "outputs": [],
   "source": [
    "def insertionInBST(curr: BinaryTreeNode, val: int):\n",
    "    if not curr:\n",
    "        curr = BinaryTreeNode(val)\n",
    "    elif curr.val < val:\n",
    "        curr.right = insertionInBST(curr.right, val)\n",
    "    else:\n",
    "        curr.left = insertionInBST(curr.left, val)\n",
    "    return curr\n",
    "\n",
    "# Testing the solution\n",
    "assert insertionInBST(BinaryTreeNode.from_array([10, 2, 12, 1, 3, None, 13]), 11).to_list() == [10, 2, 12, 1, 3, 11, 13]"
   ]
  },
  {
   "cell_type": "markdown",
   "id": "ae24503f",
   "metadata": {
    "papermill": {
     "duration": 0.006707,
     "end_time": "2024-06-20T02:44:40.197480",
     "exception": false,
     "start_time": "2024-06-20T02:44:40.190773",
     "status": "completed"
    },
    "tags": []
   },
   "source": [
    "King Escape: https://codeforces.com/problemset/problem/1033/A"
   ]
  },
  {
   "cell_type": "code",
   "execution_count": 22,
   "id": "06da5999",
   "metadata": {
    "execution": {
     "iopub.execute_input": "2024-06-20T02:44:40.211879Z",
     "iopub.status.busy": "2024-06-20T02:44:40.211432Z",
     "iopub.status.idle": "2024-06-20T02:44:40.215961Z",
     "shell.execute_reply": "2024-06-20T02:44:40.215446Z"
    },
    "lines_to_next_cell": 1,
    "papermill": {
     "duration": 0.012908,
     "end_time": "2024-06-20T02:44:40.217083",
     "exception": false,
     "start_time": "2024-06-20T02:44:40.204175",
     "status": "completed"
    },
    "tags": []
   },
   "outputs": [],
   "source": [
    "def kingEscape(N: int, queen: tuple[int, int], king: tuple[int, int], target: tuple[int, int]) -> bool:\n",
    "    minX, maxX = min(king[0], target[0]), max(king[0], target[0])\n",
    "    minY, maxY = min(king[1], target[1]), max(king[1], target[1])\n",
    "    return not (minX < queen[0] < maxX or minY < queen[1] < maxY)\n",
    "\n",
    "# Testing the solution\n",
    "assert kingEscape(8, (4, 4), (1, 3), (3, 1)) == True\n",
    "assert kingEscape(8, (4, 4), (2, 3), (1, 6)) == False\n",
    "assert kingEscape(8, (3, 5), (1, 2), (6, 1)) == False"
   ]
  },
  {
   "cell_type": "markdown",
   "id": "c6a84986",
   "metadata": {
    "papermill": {
     "duration": 0.006613,
     "end_time": "2024-06-20T02:44:40.230380",
     "exception": false,
     "start_time": "2024-06-20T02:44:40.223767",
     "status": "completed"
    },
    "tags": []
   },
   "source": [
    "LC Medium: https://leetcode.com/problems/most-profit-assigning-work/submissions/1292541583"
   ]
  },
  {
   "cell_type": "code",
   "execution_count": 23,
   "id": "aa4fd57d",
   "metadata": {
    "execution": {
     "iopub.execute_input": "2024-06-20T02:44:40.244705Z",
     "iopub.status.busy": "2024-06-20T02:44:40.244266Z",
     "iopub.status.idle": "2024-06-20T02:44:40.249789Z",
     "shell.execute_reply": "2024-06-20T02:44:40.249360Z"
    },
    "lines_to_next_cell": 1,
    "papermill": {
     "duration": 0.013718,
     "end_time": "2024-06-20T02:44:40.250805",
     "exception": false,
     "start_time": "2024-06-20T02:44:40.237087",
     "status": "completed"
    },
    "tags": []
   },
   "outputs": [],
   "source": [
    "def maxProfitAssignment(difficulty: list[int], profit: list[int], worker: list[int]) -> int:\n",
    "    # Sort workers by their capacity\n",
    "    worker.sort()\n",
    "\n",
    "    # Sort jobs available based on their difficuly\n",
    "    jobs: list[tuple[int, int]] = sorted(zip(difficulty, profit))\n",
    "\n",
    "    # Use a two pointer approach - iterate through jobs adding to our maxHeap until diff cross what curr worker can handle\n",
    "    heap: list[int] = []\n",
    "    maxProfit = i = 0\n",
    "    for max_difficulty in worker:\n",
    "        while i < len(jobs) and jobs[i][0] <= max_difficulty:\n",
    "            heapq.heappush(heap, -jobs[i][1])\n",
    "            i += 1\n",
    "        maxProfit += -heap[0] if heap else 0\n",
    "\n",
    "    return maxProfit\n",
    "\n",
    "# Testing the solution\n",
    "assert maxProfitAssignment([2,4,6,8,10], [10,20,30,40,50], [4,5,6,7]) == 100\n",
    "assert maxProfitAssignment([85,47,57], [24,66,99], [40,25,25]) == 0\n",
    "assert maxProfitAssignment([13,37,58], [4,90,96], [34,73,45]) == 190\n",
    "assert maxProfitAssignment([68,35,52,47,86], [67,17,1,81,3], [92,10,85,84,82]) == 324"
   ]
  },
  {
   "cell_type": "markdown",
   "id": "9954a873",
   "metadata": {
    "papermill": {
     "duration": 0.006871,
     "end_time": "2024-06-20T02:44:40.264416",
     "exception": false,
     "start_time": "2024-06-20T02:44:40.257545",
     "status": "completed"
    },
    "tags": []
   },
   "source": [
    "https://codeforces.com/problemset/problem/1829/E"
   ]
  },
  {
   "cell_type": "code",
   "execution_count": 24,
   "id": "72ec16c8",
   "metadata": {
    "execution": {
     "iopub.execute_input": "2024-06-20T02:44:40.278602Z",
     "iopub.status.busy": "2024-06-20T02:44:40.278190Z",
     "iopub.status.idle": "2024-06-20T02:44:40.288702Z",
     "shell.execute_reply": "2024-06-20T02:44:40.288179Z"
    },
    "lines_to_next_cell": 1,
    "papermill": {
     "duration": 0.018877,
     "end_time": "2024-06-20T02:44:40.289859",
     "exception": false,
     "start_time": "2024-06-20T02:44:40.270982",
     "status": "completed"
    },
    "tags": []
   },
   "outputs": [],
   "source": [
    "class DisjointSetLakes:\n",
    "    def __init__(self, N: int, M: int, grid: list[list[int]]):\n",
    "        self.N, self.M = N, M\n",
    "        self.grid = grid\n",
    "        self.parent: dict[tuple[int, int], tuple[int, int]] = dict()\n",
    "        self.size: dict[tuple[int, int], int] = dict()\n",
    "        self.max_volume = 0\n",
    "        self.iterate_grid()\n",
    "\n",
    "    def is_valid(self, i: int, j: int) -> bool:\n",
    "        return 0 <= i < self.N and 0 <= j < self.M\n",
    "\n",
    "    def iterate_grid(self) -> None:\n",
    "        for i in range(self.N):\n",
    "            for j in range(self.M):\n",
    "                if self.grid[i][j] > 0:\n",
    "                    top, left = (i - 1, j), (i, j - 1)\n",
    "                    if self.is_valid(*top) and self.grid[top[0]][top[1]] > 0:\n",
    "                        self.unionBySize((i, j), top)\n",
    "                    if self.is_valid(*left) and self.grid[left[0]][left[1]] > 0:\n",
    "                        self.unionBySize((i, j), left)\n",
    "                    self.max_volume = max(self.max_volume, self.size[self.findUltimateParent((i, j))])\n",
    "\n",
    "    def unionBySize(self, c1: tuple[int, int], c2: tuple[int, int]) -> None:\n",
    "        up1, up2 = self.findUltimateParent(c1), self.findUltimateParent(c2)\n",
    "        s1, s2 = self.size[up1], self.size[up2]\n",
    "        if up1 == up2:\n",
    "            return\n",
    "        elif s1 > s2:\n",
    "            self.parent[up2] = up1\n",
    "            self.size[up1] += self.size[up2]\n",
    "        else:\n",
    "            self.parent[up1] = up2\n",
    "            self.size[up2] += self.size[up1]\n",
    "\n",
    "        # Update the max volume\n",
    "        self.max_volume = max(self.max_volume, self.size[up1], self.size[up2])\n",
    "\n",
    "    def findUltimateParent(self, cell: tuple[int, int]) -> tuple[int, int]:\n",
    "        if cell not in self.parent:\n",
    "            self.parent[cell] = cell\n",
    "            self.size[cell] = self.grid[cell[0]][cell[1]]\n",
    "\n",
    "        if cell == self.parent[cell]:\n",
    "            return cell\n",
    "        else:\n",
    "            self.parent[cell] = self.findUltimateParent(self.parent[cell])\n",
    "            return self.parent[cell]\n",
    "\n",
    "# Testing the solution\n",
    "assert DisjointSetLakes(3, 3, [[1,2,0],[3,4,0],[0,0,5]]).max_volume == 10\n",
    "assert DisjointSetLakes(1, 1, [[9]]).max_volume == 9\n",
    "assert DisjointSetLakes(3, 3, [[0,1,1],[1,0,1],[1,1,1]]).max_volume == 7\n",
    "assert DisjointSetLakes(5, 5, [[1,1,1,1,1],[1,0,0,0,1],[1,0,5,0,1],[1,0,0,0,1],[1,1,1,1,1]]).max_volume == 16"
   ]
  },
  {
   "cell_type": "code",
   "execution_count": 25,
   "id": "29c7843d",
   "metadata": {
    "execution": {
     "iopub.execute_input": "2024-06-20T02:44:40.304207Z",
     "iopub.status.busy": "2024-06-20T02:44:40.303885Z",
     "iopub.status.idle": "2024-06-20T02:44:40.310299Z",
     "shell.execute_reply": "2024-06-20T02:44:40.309871Z"
    },
    "lines_to_next_cell": 1,
    "papermill": {
     "duration": 0.014841,
     "end_time": "2024-06-20T02:44:40.311398",
     "exception": false,
     "start_time": "2024-06-20T02:44:40.296557",
     "status": "completed"
    },
    "tags": []
   },
   "outputs": [],
   "source": [
    "def maximumVolumeLake(N: int, M: int, grid: list[list[int]]) -> int:\n",
    "    def is_valid(i: int, j: int) -> bool:\n",
    "        return 0 <= i < N and 0 <= j < M\n",
    "\n",
    "    def DFS(i: int, j: int) -> int:\n",
    "        stack: list[tuple[int, int]] = [(i, j)]\n",
    "        volume: int = 0\n",
    "        while stack:\n",
    "            x, y = stack.pop()\n",
    "            volume += grid[x][y]\n",
    "            grid[x][y] = 0\n",
    "            for i, j in [(x, y - 1), (x, y + 1), (x - 1, y), (x + 1, y)]:\n",
    "                if is_valid(i, j) and grid[i][j] > 0:\n",
    "                    stack.append((i, j))\n",
    "\n",
    "        return volume\n",
    "\n",
    "    max_volume = 0\n",
    "    for i in range(N):\n",
    "        for j in range(M):\n",
    "            if grid[i][j] > 0:\n",
    "                max_volume = max(max_volume, DFS(i, j))\n",
    "\n",
    "    return max_volume\n",
    "\n",
    "# Testing the solution\n",
    "assert maximumVolumeLake(3, 3, [[1,2,0],[3,4,0],[0,0,5]])\n",
    "assert maximumVolumeLake(1, 1, [[9]]) == 9\n",
    "assert maximumVolumeLake(3, 3, [[0,1,1],[1,0,1],[1,1,1]]) == 7\n",
    "assert maximumVolumeLake(5, 5, [[1,1,1,1,1],[1,0,0,0,1],[1,0,5,0,1],[1,0,0,0,1],[1,1,1,1,1]]) == 16"
   ]
  },
  {
   "cell_type": "markdown",
   "id": "91c3306f",
   "metadata": {
    "papermill": {
     "duration": 0.006696,
     "end_time": "2024-06-20T02:44:40.324744",
     "exception": false,
     "start_time": "2024-06-20T02:44:40.318048",
     "status": "completed"
    },
    "tags": []
   },
   "source": [
    "LC Virtual: https://leetcode.com/contest/leetcode-weekly-contest-10/"
   ]
  },
  {
   "cell_type": "code",
   "execution_count": 26,
   "id": "1ce8fd77",
   "metadata": {
    "execution": {
     "iopub.execute_input": "2024-06-20T02:44:40.339212Z",
     "iopub.status.busy": "2024-06-20T02:44:40.338825Z",
     "iopub.status.idle": "2024-06-20T02:44:40.344160Z",
     "shell.execute_reply": "2024-06-20T02:44:40.343645Z"
    },
    "lines_to_next_cell": 1,
    "papermill": {
     "duration": 0.013627,
     "end_time": "2024-06-20T02:44:40.345227",
     "exception": false,
     "start_time": "2024-06-20T02:44:40.331600",
     "status": "completed"
    },
    "tags": []
   },
   "outputs": [],
   "source": [
    "# Q1: Island Perimeter\n",
    "def islandPerimeter(grid: list[list[int]]) -> int:\n",
    "    \"\"\"\n",
    "    Iterate through grid, count the number of sides covered with water\n",
    "    \"\"\"\n",
    "    N, M = len(grid), len(grid[0])\n",
    "    perimeter = 0\n",
    "    for i in range(N):\n",
    "        for j in range(M):\n",
    "            if grid[i][j] == 1:\n",
    "                for x, y in ((i, j - 1), (i, j + 1), (i - 1, j), (i + 1, j)):\n",
    "                    if x < 0 or y < 0 or x >= N or y >= M or grid[x][y] == 0:\n",
    "                        perimeter += 1\n",
    "\n",
    "    return perimeter\n",
    "\n",
    "# Testing the solution\n",
    "assert islandPerimeter([[0,1,0,0],[1,1,1,0],[0,1,0,0],[1,1,0,0]]) == 16\n",
    "assert islandPerimeter([[1]]) == 4\n",
    "assert islandPerimeter([[1,0]]) == 4"
   ]
  },
  {
   "cell_type": "code",
   "execution_count": 27,
   "id": "5b2c6c69",
   "metadata": {
    "execution": {
     "iopub.execute_input": "2024-06-20T02:44:40.359579Z",
     "iopub.status.busy": "2024-06-20T02:44:40.359268Z",
     "iopub.status.idle": "2024-06-20T02:44:40.364804Z",
     "shell.execute_reply": "2024-06-20T02:44:40.364287Z"
    },
    "lines_to_next_cell": 1,
    "papermill": {
     "duration": 0.013913,
     "end_time": "2024-06-20T02:44:40.365866",
     "exception": false,
     "start_time": "2024-06-20T02:44:40.351953",
     "status": "completed"
    },
    "tags": []
   },
   "outputs": [],
   "source": [
    "# Q2: Can I Win?\n",
    "def canIWinBrute(maxChoosableInteger: int, desiredTotal: int) -> bool:\n",
    "    @functools.cache\n",
    "    def backtrack(picked: tuple[bool, ...], total: int) -> bool:\n",
    "        for pick in range(1, maxChoosableInteger + 1):\n",
    "            if not picked[pick]:\n",
    "                if pick >= total:\n",
    "                    return True\n",
    "                else:\n",
    "                    new_picked = list(picked)\n",
    "                    new_picked[pick] = True\n",
    "                    otherWin = backtrack(tuple(new_picked), total - pick)\n",
    "                    if not otherWin:\n",
    "                        return True\n",
    "\n",
    "        return False\n",
    "\n",
    "    if (maxChoosableInteger * (maxChoosableInteger + 1)) // 2 < desiredTotal:\n",
    "        return False\n",
    "    else:\n",
    "        result = backtrack(tuple(False for i in range(maxChoosableInteger + 1)), desiredTotal)\n",
    "        return result\n",
    "\n",
    "# Testing the solution\n",
    "assert canIWinBrute(10, 11) == False\n",
    "assert canIWinBrute(10, 0) == True\n",
    "assert canIWinBrute(10, 40) == False"
   ]
  },
  {
   "cell_type": "code",
   "execution_count": 28,
   "id": "3c2e00b1",
   "metadata": {
    "execution": {
     "iopub.execute_input": "2024-06-20T02:44:40.380407Z",
     "iopub.status.busy": "2024-06-20T02:44:40.379991Z",
     "iopub.status.idle": "2024-06-20T02:44:40.384935Z",
     "shell.execute_reply": "2024-06-20T02:44:40.384505Z"
    },
    "lines_to_next_cell": 1,
    "papermill": {
     "duration": 0.013328,
     "end_time": "2024-06-20T02:44:40.385961",
     "exception": false,
     "start_time": "2024-06-20T02:44:40.372633",
     "status": "completed"
    },
    "tags": []
   },
   "outputs": [],
   "source": [
    "def canIWin(maxChoosableInteger: int, desiredTotal: int) -> bool:\n",
    "    @functools.cache\n",
    "    def backtrack(picked: int, total: int) -> bool:\n",
    "        for pick in range(1, maxChoosableInteger + 1):\n",
    "            mask = 1 << pick\n",
    "            if not (picked & mask):\n",
    "                if pick >= total:\n",
    "                    return True\n",
    "                else:\n",
    "                    otherWin = backtrack(picked | mask, total - pick)\n",
    "                    if not otherWin:\n",
    "                        return True\n",
    "\n",
    "        return False\n",
    "\n",
    "    if (maxChoosableInteger * (maxChoosableInteger + 1)) // 2 < desiredTotal:\n",
    "        return False\n",
    "    else:\n",
    "        result = backtrack(0, desiredTotal)\n",
    "        return result\n",
    "\n",
    "# Testing the solution\n",
    "assert canIWin(10, 11) == False\n",
    "assert canIWin(10, 0) == True\n",
    "assert canIWin(10, 40) == False"
   ]
  },
  {
   "cell_type": "code",
   "execution_count": 29,
   "id": "e8865870",
   "metadata": {
    "execution": {
     "iopub.execute_input": "2024-06-20T02:44:40.400624Z",
     "iopub.status.busy": "2024-06-20T02:44:40.400206Z",
     "iopub.status.idle": "2024-06-20T02:44:40.404154Z",
     "shell.execute_reply": "2024-06-20T02:44:40.403716Z"
    },
    "lines_to_next_cell": 1,
    "papermill": {
     "duration": 0.012449,
     "end_time": "2024-06-20T02:44:40.405202",
     "exception": false,
     "start_time": "2024-06-20T02:44:40.392753",
     "status": "completed"
    },
    "tags": []
   },
   "outputs": [],
   "source": [
    "# Q3: Min Moves 2\n",
    "def minMoves2(nums: list[int]) -> int:\n",
    "    # Find the middle element, convert all elements to this\n",
    "    nums.sort()\n",
    "\n",
    "    # Figure out the element in the middle\n",
    "    N = len(nums)\n",
    "    mid = nums[N // 2]\n",
    "\n",
    "    # Count total moves\n",
    "    moves = 0\n",
    "    for n in nums:\n",
    "        moves += abs(mid - n)\n",
    "\n",
    "    return moves\n",
    "\n",
    "# Testing the solution\n",
    "assert minMoves2([1,2,3]) == 2\n",
    "assert minMoves2([1,10,2,9]) == 16\n",
    "assert minMoves2([1]) == 0"
   ]
  },
  {
   "cell_type": "markdown",
   "id": "9b0e6f39",
   "metadata": {
    "papermill": {
     "duration": 0.006673,
     "end_time": "2024-06-20T02:44:40.418635",
     "exception": false,
     "start_time": "2024-06-20T02:44:40.411962",
     "status": "completed"
    },
    "tags": []
   },
   "source": [
    "Find the duplicate number"
   ]
  },
  {
   "cell_type": "code",
   "execution_count": 30,
   "id": "57fbf487",
   "metadata": {
    "execution": {
     "iopub.execute_input": "2024-06-20T02:44:40.432953Z",
     "iopub.status.busy": "2024-06-20T02:44:40.432617Z",
     "iopub.status.idle": "2024-06-20T02:44:40.436387Z",
     "shell.execute_reply": "2024-06-20T02:44:40.435871Z"
    },
    "lines_to_next_cell": 1,
    "papermill": {
     "duration": 0.01202,
     "end_time": "2024-06-20T02:44:40.437378",
     "exception": false,
     "start_time": "2024-06-20T02:44:40.425358",
     "status": "completed"
    },
    "tags": []
   },
   "outputs": [],
   "source": [
    "# This modifies the array\n",
    "def findDuplicateBetter(nums: list[int]) -> int:\n",
    "    idx = 0\n",
    "    while nums[idx] != -1:\n",
    "        nums[idx], idx = -1, nums[idx]\n",
    "\n",
    "    return idx\n",
    "\n",
    "# Testing the solution\n",
    "assert findDuplicateBetter([1,3,4,2,2]) == 2\n",
    "assert findDuplicateBetter([3,1,3,4,2]) == 3\n",
    "assert findDuplicateBetter([3,3,3,3,3]) == 3"
   ]
  },
  {
   "cell_type": "code",
   "execution_count": 31,
   "id": "c762a9a1",
   "metadata": {
    "execution": {
     "iopub.execute_input": "2024-06-20T02:44:40.451585Z",
     "iopub.status.busy": "2024-06-20T02:44:40.451261Z",
     "iopub.status.idle": "2024-06-20T02:44:40.455245Z",
     "shell.execute_reply": "2024-06-20T02:44:40.454805Z"
    },
    "lines_to_next_cell": 1,
    "papermill": {
     "duration": 0.012256,
     "end_time": "2024-06-20T02:44:40.456257",
     "exception": false,
     "start_time": "2024-06-20T02:44:40.444001",
     "status": "completed"
    },
    "tags": []
   },
   "outputs": [],
   "source": [
    "def findDuplicate(nums: list[int]) -> int:\n",
    "    slow, fast = nums[0], nums[nums[0]]\n",
    "\n",
    "    # Find point of collision\n",
    "    while fast != slow:\n",
    "        slow, fast = nums[slow], nums[nums[fast]]\n",
    "\n",
    "    # Find the start point of the loop\n",
    "    slow = 0\n",
    "    while slow != fast:\n",
    "        slow, fast = nums[slow], nums[fast]\n",
    "\n",
    "    return slow\n",
    "\n",
    "# Testing the solution\n",
    "assert findDuplicate([1,3,4,2,2]) == 2\n",
    "assert findDuplicate([3,1,3,4,2]) == 3\n",
    "assert findDuplicate([3,3,3,3,3]) == 3"
   ]
  },
  {
   "cell_type": "markdown",
   "id": "03c14a49",
   "metadata": {
    "papermill": {
     "duration": 0.006646,
     "end_time": "2024-06-20T02:44:40.469522",
     "exception": false,
     "start_time": "2024-06-20T02:44:40.462876",
     "status": "completed"
    },
    "tags": []
   },
   "source": [
    "Min cost tree from leaf nodes: https://leetcode.com/problems/minimum-cost-tree-from-leaf-values/solutions/340014/greedy-python-solution/"
   ]
  },
  {
   "cell_type": "code",
   "execution_count": 32,
   "id": "b2ff1b1e",
   "metadata": {
    "execution": {
     "iopub.execute_input": "2024-06-20T02:44:40.483947Z",
     "iopub.status.busy": "2024-06-20T02:44:40.483563Z",
     "iopub.status.idle": "2024-06-20T02:44:40.488261Z",
     "shell.execute_reply": "2024-06-20T02:44:40.487798Z"
    },
    "papermill": {
     "duration": 0.013063,
     "end_time": "2024-06-20T02:44:40.489292",
     "exception": false,
     "start_time": "2024-06-20T02:44:40.476229",
     "status": "completed"
    },
    "tags": []
   },
   "outputs": [],
   "source": [
    "def mctFromLeafValues(arr: list[int]) -> int:\n",
    "    \"\"\"\n",
    "    1. Take the smallest node from inorder arr.\n",
    "    2. Combine it with the smallest of its two neighbours. Pop the smallest, add smallest * smaller neighbour to total.\n",
    "    We pop it out since starting with next step, the min value would not be considered, since larger value would always be the 'largest' of the subtree.\n",
    "    3. Repeat until we have one element left, each time we compute the min index and combine it with its larger neighbour.\n",
    "    \"\"\"\n",
    "    def findMinNode(nums: list[int]) -> float:\n",
    "        idx, val = 0, nums[0]\n",
    "        for i in range(len(nums)):\n",
    "            if nums[i] < val:\n",
    "                idx, val = i, nums[i]\n",
    "\n",
    "        parent_node_val: float = val * min(nums[idx - 1] if idx - 1 >= 0 else math.inf, nums[idx + 1] if idx + 1 < len(nums) else math.inf)\n",
    "        nums.pop(idx)\n",
    "        return parent_node_val\n",
    "\n",
    "    non_leaf_sum: float = 0.\n",
    "    while len(arr) > 1:\n",
    "        non_leaf_sum += findMinNode(arr)\n",
    "\n",
    "    return int(non_leaf_sum)\n",
    "\n",
    "# Testing the solution\n",
    "assert mctFromLeafValues([6,2,4]) == 32\n",
    "assert mctFromLeafValues([4,11]) == 44"
   ]
  },
  {
   "cell_type": "markdown",
   "id": "9be7df76",
   "metadata": {
    "papermill": {
     "duration": 0.006603,
     "end_time": "2024-06-20T02:44:40.502542",
     "exception": false,
     "start_time": "2024-06-20T02:44:40.495939",
     "status": "completed"
    },
    "tags": []
   },
   "source": [
    "Time Based Key-Value Store"
   ]
  },
  {
   "cell_type": "code",
   "execution_count": 33,
   "id": "b5bcd113",
   "metadata": {
    "execution": {
     "iopub.execute_input": "2024-06-20T02:44:40.516857Z",
     "iopub.status.busy": "2024-06-20T02:44:40.516534Z",
     "iopub.status.idle": "2024-06-20T02:44:40.524304Z",
     "shell.execute_reply": "2024-06-20T02:44:40.523848Z"
    },
    "lines_to_next_cell": 1,
    "papermill": {
     "duration": 0.016148,
     "end_time": "2024-06-20T02:44:40.525412",
     "exception": false,
     "start_time": "2024-06-20T02:44:40.509264",
     "status": "completed"
    },
    "tags": []
   },
   "outputs": [
    {
     "name": "stdout",
     "output_type": "stream",
     "text": [
      "['', '', '', 'high', 'high', 'low', 'low']\n"
     ]
    }
   ],
   "source": [
    "import bisect\n",
    "\n",
    "class TimeMap:\n",
    "    def __init__(self) -> None:\n",
    "        self.map: dict[str, list[tuple[int, str]]] = dict()\n",
    "\n",
    "    def set(self, key: str, value: str, timestamp: int) -> None:\n",
    "        values: list[tuple[int, str]] = self.map.get(key, [])\n",
    "        idx = bisect.bisect(values, (timestamp, \"\"))\n",
    "        if 0 <= idx < len(values) and values[idx][0] == timestamp:\n",
    "            values[idx] = (timestamp, value)\n",
    "        else:\n",
    "            bisect.insort(values, (timestamp, value))\n",
    "        self.map[key] = values\n",
    "\n",
    "    def get(self, key: str, timestamp: int) -> str:\n",
    "        values: list[tuple[int, str]] = self.map.get(key, [])\n",
    "        idx = bisect.bisect(values, (timestamp, \"\"))\n",
    "        if 0 <= idx < len(values) and values[idx][0] == timestamp:\n",
    "            return values[idx][1]\n",
    "        elif idx - 1 >= 0:\n",
    "            return values[idx - 1][1]\n",
    "        else:\n",
    "            return \"\"\n",
    "\n",
    "# Testing the solution\n",
    "obj: TimeMap = TimeMap()\n",
    "result: list[str] = []\n",
    "for params in [[\"love\",\"high\",10],[\"love\",\"low\",20],[\"love\",5],[\"love\",10],[\"love\",15],[\"love\",20],[\"love\",25]]:\n",
    "    if len(params) == 3:\n",
    "        obj.set(str(params[0]), str(params[1]), int(params[2])) # type: ignore\n",
    "        result.append(\"\")\n",
    "    else:\n",
    "        result.append(obj.get(str(params[0]), int(params[1]))) # type: ignore\n",
    "\n",
    "print(result)"
   ]
  },
  {
   "cell_type": "markdown",
   "id": "0d71f29d",
   "metadata": {
    "papermill": {
     "duration": 0.006725,
     "end_time": "2024-06-20T02:44:40.538912",
     "exception": false,
     "start_time": "2024-06-20T02:44:40.532187",
     "status": "completed"
    },
    "tags": []
   },
   "source": [
    "https://codeforces.com/problemset/problem/1979/A"
   ]
  },
  {
   "cell_type": "code",
   "execution_count": 34,
   "id": "735a8330",
   "metadata": {
    "execution": {
     "iopub.execute_input": "2024-06-20T02:44:40.553365Z",
     "iopub.status.busy": "2024-06-20T02:44:40.553043Z",
     "iopub.status.idle": "2024-06-20T02:44:40.556870Z",
     "shell.execute_reply": "2024-06-20T02:44:40.556453Z"
    },
    "lines_to_next_cell": 1,
    "papermill": {
     "duration": 0.0122,
     "end_time": "2024-06-20T02:44:40.557893",
     "exception": false,
     "start_time": "2024-06-20T02:44:40.545693",
     "status": "completed"
    },
    "tags": []
   },
   "outputs": [],
   "source": [
    "def guessMaximum(nums: list[int]) -> int:\n",
    "    # Slide through nums (window size of 2), find the minimum maximum\n",
    "    minimum: float = math.inf\n",
    "    for i in range(len(nums) - 1):\n",
    "        minimum = min(minimum, max(nums[i], nums[i + 1]))\n",
    "\n",
    "    return int(minimum) - 1\n",
    "\n",
    "# Testing the solution\n",
    "assert guessMaximum([2,4,1,7]) == 3\n",
    "assert guessMaximum([1,1]) == 0\n",
    "assert guessMaximum([37,8,16]) == 15"
   ]
  },
  {
   "cell_type": "markdown",
   "id": "a8f98218",
   "metadata": {
    "papermill": {
     "duration": 0.006718,
     "end_time": "2024-06-20T02:44:40.571422",
     "exception": false,
     "start_time": "2024-06-20T02:44:40.564704",
     "status": "completed"
    },
    "tags": []
   },
   "source": [
    "Top K Frequent elements"
   ]
  },
  {
   "cell_type": "code",
   "execution_count": 35,
   "id": "1e4c1c5a",
   "metadata": {
    "execution": {
     "iopub.execute_input": "2024-06-20T02:44:40.586029Z",
     "iopub.status.busy": "2024-06-20T02:44:40.585635Z",
     "iopub.status.idle": "2024-06-20T02:44:40.589901Z",
     "shell.execute_reply": "2024-06-20T02:44:40.589482Z"
    },
    "lines_to_next_cell": 1,
    "papermill": {
     "duration": 0.012699,
     "end_time": "2024-06-20T02:44:40.590934",
     "exception": false,
     "start_time": "2024-06-20T02:44:40.578235",
     "status": "completed"
    },
    "tags": []
   },
   "outputs": [],
   "source": [
    "def topKFrequentBrute(nums: list[int], k: int) -> list[int]:\n",
    "    freq: collections.Counter = collections.Counter(nums)\n",
    "    heap: list[tuple[int, int]] = []\n",
    "    for n, f in freq.items():\n",
    "        if len(heap) == k:\n",
    "            heapq.heappushpop(heap, (f, n))\n",
    "        else:\n",
    "            heapq.heappush(heap, (f, n))\n",
    "\n",
    "    result: list[int] = []\n",
    "    while heap:\n",
    "        f, n = heapq.heappop(heap)\n",
    "        result.append(n)\n",
    "\n",
    "    result.reverse()\n",
    "    return result\n",
    "\n",
    "# Testing the solution\n",
    "assert sorted(topKFrequentBrute([1,1,1,2,2,3,3,3,4,4,5], 2)) == [1, 3]"
   ]
  },
  {
   "cell_type": "markdown",
   "id": "6e81ca6f",
   "metadata": {
    "papermill": {
     "duration": 0.006682,
     "end_time": "2024-06-20T02:44:40.604325",
     "exception": false,
     "start_time": "2024-06-20T02:44:40.597643",
     "status": "completed"
    },
    "tags": []
   },
   "source": [
    "LC Virtual: https://leetcode.com/contest/leetcode-weekly-contest-11/"
   ]
  },
  {
   "cell_type": "code",
   "execution_count": 36,
   "id": "d9e0166a",
   "metadata": {
    "execution": {
     "iopub.execute_input": "2024-06-20T02:44:40.618598Z",
     "iopub.status.busy": "2024-06-20T02:44:40.618263Z",
     "iopub.status.idle": "2024-06-20T02:44:40.621825Z",
     "shell.execute_reply": "2024-06-20T02:44:40.621412Z"
    },
    "lines_to_next_cell": 1,
    "papermill": {
     "duration": 0.011873,
     "end_time": "2024-06-20T02:44:40.622852",
     "exception": false,
     "start_time": "2024-06-20T02:44:40.610979",
     "status": "completed"
    },
    "tags": []
   },
   "outputs": [],
   "source": [
    "# Number of segments in a string\n",
    "def countSegments(s: str) -> int:\n",
    "    segments, space = 0, True\n",
    "    for ch in s:\n",
    "        if ch.isspace():\n",
    "            segments += not space\n",
    "            space = True\n",
    "        else:\n",
    "            space = False\n",
    "\n",
    "    return segments + (not space)\n",
    "\n",
    "# Testing the solution\n",
    "assert countSegments(\"Python is a pretty cool language\") == 6\n",
    "assert countSegments(\" Python is pretty    cool    \") == 4\n",
    "assert countSegments(\"Hello\") == 1"
   ]
  },
  {
   "cell_type": "markdown",
   "id": "416596d8",
   "metadata": {
    "papermill": {
     "duration": 0.006711,
     "end_time": "2024-06-20T02:44:40.636323",
     "exception": false,
     "start_time": "2024-06-20T02:44:40.629612",
     "status": "completed"
    },
    "tags": []
   },
   "source": [
    "Q3: Unique substrings in a wrap around string\n",
    "https://youtu.be/2nCTyDrRm4I?si=TP9X0ZwTJNhKHkl4"
   ]
  },
  {
   "cell_type": "code",
   "execution_count": 37,
   "id": "b7bc8b9c",
   "metadata": {
    "execution": {
     "iopub.execute_input": "2024-06-20T02:44:40.650840Z",
     "iopub.status.busy": "2024-06-20T02:44:40.650399Z",
     "iopub.status.idle": "2024-06-20T02:44:40.655003Z",
     "shell.execute_reply": "2024-06-20T02:44:40.654555Z"
    },
    "lines_to_next_cell": 1,
    "papermill": {
     "duration": 0.013014,
     "end_time": "2024-06-20T02:44:40.656077",
     "exception": false,
     "start_time": "2024-06-20T02:44:40.643063",
     "status": "completed"
    },
    "tags": []
   },
   "outputs": [],
   "source": [
    "def findSubstringInWraproundString(s: str) -> int:\n",
    "    \"\"\"\n",
    "    Initial thought process: Check the longest substring that can end at an index.\n",
    "    This however doesn't account for duplicates.\n",
    "\n",
    "    To handle duplicates we store the max length of substrings ending for english alphabet\n",
    "    For eg: zabxabc\n",
    "    z - 1\n",
    "    a - 1\n",
    "    b - 3\n",
    "    x - 1\n",
    "    a - 1\n",
    "    b - 3\n",
    "    c - 3\n",
    "\n",
    "    Once completed, count += (arr[i] * arr[i + 1]) / 2\n",
    "    \"\"\"\n",
    "    longest: dict[str, int] = dict()\n",
    "    count = 0\n",
    "    for i in range(len(s)):\n",
    "        if i == 0 or ord(s[i]) - ord(s[i - 1]) == 1 or (s[i] == 'a' and s[i - 1] == 'z'):\n",
    "            count += 1\n",
    "        else:\n",
    "            count = 1\n",
    "        longest[s[i]] = max(longest.get(s[i], 0), count)\n",
    "\n",
    "    # Count substrings\n",
    "    return sum(longest.values())\n",
    "\n",
    "# Testing the solution\n",
    "assert findSubstringInWraproundString(\"zabxabc\") == 10\n",
    "assert findSubstringInWraproundString(\"cac\") == 2\n",
    "assert findSubstringInWraproundString(\"zab\") == 6"
   ]
  },
  {
   "cell_type": "markdown",
   "id": "5699b3a7",
   "metadata": {
    "papermill": {
     "duration": 0.006755,
     "end_time": "2024-06-20T02:44:40.669622",
     "exception": false,
     "start_time": "2024-06-20T02:44:40.662867",
     "status": "completed"
    },
    "tags": []
   },
   "source": [
    "Compress the string\n",
    "https://www.naukri.com/code360/problems/compress-the-string_893402"
   ]
  },
  {
   "cell_type": "code",
   "execution_count": 38,
   "id": "f182bfaf",
   "metadata": {
    "execution": {
     "iopub.execute_input": "2024-06-20T02:44:40.683953Z",
     "iopub.status.busy": "2024-06-20T02:44:40.683773Z",
     "iopub.status.idle": "2024-06-20T02:44:40.688041Z",
     "shell.execute_reply": "2024-06-20T02:44:40.687500Z"
    },
    "lines_to_next_cell": 1,
    "papermill": {
     "duration": 0.012763,
     "end_time": "2024-06-20T02:44:40.689130",
     "exception": false,
     "start_time": "2024-06-20T02:44:40.676367",
     "status": "completed"
    },
    "tags": []
   },
   "outputs": [],
   "source": [
    "def compressTheString(s: str):\n",
    "    stack: list[tuple[str, int]] = []\n",
    "    for ch in s:\n",
    "        if not stack or stack[-1][0] != ch:\n",
    "            stack.append((ch, 1))\n",
    "        else:\n",
    "            stack[-1] = (ch, stack[-1][1] + 1)\n",
    "\n",
    "    result: list[str] = []\n",
    "    for ch, freq in stack:\n",
    "        result.append(f'{ch}{freq}' if freq > 1 else ch)\n",
    "    return ''.join(result)\n",
    "\n",
    "# Testing the solution\n",
    "assert compressTheString(\"aaabbddccc\") == \"a3b2d2c3\"\n",
    "assert compressTheString(\"ggttttffffrreee\") == \"g2t4f4r2e3\""
   ]
  },
  {
   "cell_type": "markdown",
   "id": "15fcfdd1",
   "metadata": {},
   "source": [
    "CN Weekly contest: 20th June 2024"
   ]
  },
  {
   "cell_type": "code",
   "execution_count": null,
   "id": "47d5bb9b",
   "metadata": {
    "lines_to_next_cell": 1
   },
   "outputs": [],
   "source": [
    "def maximumElements(N: int, arr: list[int]) -> int:\n",
    "    odd = even = 0\n",
    "    for n in arr:\n",
    "        if n % 2 == 1:\n",
    "            odd += 1\n",
    "        else:\n",
    "            even += 1\n",
    "\n",
    "    if odd == 0:\n",
    "        return -1\n",
    "    else:\n",
    "        return even + odd - int(odd % 2 == 0)\n",
    "\n",
    "# Testing the solution\n",
    "assert maximumElements(4, [9,5,1,6]) == 4"
   ]
  },
  {
   "cell_type": "code",
   "execution_count": null,
   "id": "feca4414",
   "metadata": {},
   "outputs": [],
   "source": [
    "# Supercomputer\n",
    "def canAccess(N: int, K: int, arr: list[int]) -> int:\n",
    "    arr.sort()\n",
    "    count = 0\n",
    "    for i in range(N - 2):\n",
    "        for j in range(i + 1, N - 1):\n",
    "            target = K ^ arr[i] ^ arr[j]\n",
    "            left = bisect.bisect_left(arr, target, j + 1)\n",
    "            right = bisect.bisect_right(arr, target, j + 1)\n",
    "            if left < N and arr[left] == target:\n",
    "                count += right - left\n",
    "\n",
    "    return count\n",
    "\n",
    "# Testing the solution\n",
    "assert canAccess(6, 13, [2,2,8,7,7,9]) == 4\n",
    "assert canAccess(7, 5, [7,2,5,5,2,4,7]) == 4\n",
    "assert canAccess(6, 1, [5,6,5,2,1,7]) == 3"
   ]
  }
 ],
 "metadata": {
  "jupytext": {
   "extension": ".py",
   "format_name": "percent",
   "format_version": "1.3",
   "jupytext_version": "1.15.2"
  },
  "kernelspec": {
   "display_name": "Python 3 (ipykernel)",
   "language": "python",
   "name": "python3"
  },
  "language_info": {
   "codemirror_mode": {
    "name": "ipython",
    "version": 3
   },
   "file_extension": ".py",
   "mimetype": "text/x-python",
   "name": "python",
   "nbconvert_exporter": "python",
   "pygments_lexer": "ipython3",
   "version": "3.11.9"
  },
  "papermill": {
   "default_parameters": {},
   "duration": 2.800874,
   "end_time": "2024-06-20T02:44:40.912294",
   "environment_variables": {},
   "exception": null,
   "input_path": "practice/004.ipynb",
   "output_path": "practice/004.ipynb",
   "parameters": {},
   "start_time": "2024-06-20T02:44:38.111420",
   "version": "2.6.0"
  }
 },
 "nbformat": 4,
 "nbformat_minor": 5
}
