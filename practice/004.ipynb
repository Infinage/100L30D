{
 "cells": [
  {
   "cell_type": "code",
   "execution_count": 1,
   "id": "ff4e246c",
   "metadata": {
    "execution": {
     "iopub.execute_input": "2024-06-18T17:45:15.734320Z",
     "iopub.status.busy": "2024-06-18T17:45:15.734081Z",
     "iopub.status.idle": "2024-06-18T17:45:16.077650Z",
     "shell.execute_reply": "2024-06-18T17:45:16.077132Z"
    },
    "papermill": {
     "duration": 0.351217,
     "end_time": "2024-06-18T17:45:16.079056",
     "exception": false,
     "start_time": "2024-06-18T17:45:15.727839",
     "status": "completed"
    },
    "tags": []
   },
   "outputs": [],
   "source": [
    "from typing import List, Optional, Generator\n",
    "import pandas as pd\n",
    "import numpy as np\n",
    "import sqlite3\n",
    "import re\n",
    "import io\n",
    "import math\n",
    "import collections\n",
    "import itertools\n",
    "import functools\n",
    "import random\n",
    "import string\n",
    "import tqdm\n",
    "import bisect\n",
    "import heapq\n",
    "\n",
    "conn = sqlite3.connect(\":memory:\")\n",
    "\n",
    "def regexp(expr, item):\n",
    "    reg = re.compile(expr)\n",
    "    return reg.search(item) is not None\n",
    "\n",
    "def read_lc_df(s: str, dtypes: dict[str, str]=dict()) -> pd.DataFrame:\n",
    "    temp = pd.read_csv(io.StringIO(s), sep=\"|\", skiprows=2)\n",
    "    temp = temp.iloc[1:-1, 1:-1]\n",
    "    temp.columns = temp.columns.map(str.strip)\n",
    "    temp = temp.map(lambda x: x if type(x) != str else None if x.strip() == 'null' else x.strip())\n",
    "    temp = temp.astype(dtypes)\n",
    "    return temp\n",
    "\n",
    "conn.create_function(\"REGEXP\", 2, regexp)"
   ]
  },
  {
   "cell_type": "markdown",
   "id": "2e7ac16e",
   "metadata": {
    "papermill": {
     "duration": 0.004412,
     "end_time": "2024-06-18T17:45:16.088338",
     "exception": false,
     "start_time": "2024-06-18T17:45:16.083926",
     "status": "completed"
    },
    "tags": []
   },
   "source": [
    "#### Helper for Binary tree problems"
   ]
  },
  {
   "cell_type": "code",
   "execution_count": 2,
   "id": "3f0a4700",
   "metadata": {
    "execution": {
     "iopub.execute_input": "2024-06-18T17:45:16.099136Z",
     "iopub.status.busy": "2024-06-18T17:45:16.098669Z",
     "iopub.status.idle": "2024-06-18T17:45:16.105759Z",
     "shell.execute_reply": "2024-06-18T17:45:16.105304Z"
    },
    "lines_to_next_cell": 1,
    "papermill": {
     "duration": 0.013281,
     "end_time": "2024-06-18T17:45:16.106812",
     "exception": false,
     "start_time": "2024-06-18T17:45:16.093531",
     "status": "completed"
    },
    "tags": []
   },
   "outputs": [],
   "source": [
    "class BinaryTreeNode:\n",
    "    def __init__(self, val=0, left=None, right=None):\n",
    "        self.val = val\n",
    "        self.left = left\n",
    "        self.right = right\n",
    "\n",
    "    def to_list(self):\n",
    "        to_visit = [self]\n",
    "        visited = []\n",
    "        while len(to_visit) > 0:\n",
    "            curr = to_visit.pop(0)\n",
    "            if curr:\n",
    "                to_visit.append(curr.left)\n",
    "                to_visit.append(curr.right)\n",
    "                visited.append(curr.val)\n",
    "            else:\n",
    "                visited.append(curr)\n",
    "\n",
    "        while visited and not visited[-1]:\n",
    "            visited.pop()\n",
    "\n",
    "        return visited\n",
    "\n",
    "    def __str__(self):\n",
    "        return str(self.val)\n",
    "\n",
    "    @staticmethod\n",
    "    def from_array(nums: list[int|None]):\n",
    "        '''Create a Tree from a list of nums. Returns the root node.'''\n",
    "        if len(nums) == 0:\n",
    "            return None\n",
    "        elif len(nums) == 1:\n",
    "            return BinaryTreeNode(nums[0])\n",
    "        else:\n",
    "            forest = [BinaryTreeNode(nums[0])]\n",
    "            parent_idx = -1\n",
    "            for i in range(1, len(nums)):\n",
    "\n",
    "                curr = None\n",
    "                if nums[i] is not None:\n",
    "                    curr = BinaryTreeNode(nums[i])\n",
    "                    forest.append(curr)\n",
    "\n",
    "                if i % 2 == 1:\n",
    "                    parent_idx += 1\n",
    "                    forest[parent_idx].left = curr\n",
    "                else:\n",
    "                    forest[parent_idx].right = curr\n",
    "\n",
    "        return forest[0]"
   ]
  },
  {
   "cell_type": "markdown",
   "id": "db1734cd",
   "metadata": {
    "papermill": {
     "duration": 0.004359,
     "end_time": "2024-06-18T17:45:16.115600",
     "exception": false,
     "start_time": "2024-06-18T17:45:16.111241",
     "status": "completed"
    },
    "tags": []
   },
   "source": [
    "#### Helper for Singly Linked lists"
   ]
  },
  {
   "cell_type": "code",
   "execution_count": 3,
   "id": "8492ea44",
   "metadata": {
    "execution": {
     "iopub.execute_input": "2024-06-18T17:45:16.125514Z",
     "iopub.status.busy": "2024-06-18T17:45:16.125048Z",
     "iopub.status.idle": "2024-06-18T17:45:16.129570Z",
     "shell.execute_reply": "2024-06-18T17:45:16.129113Z"
    },
    "lines_to_next_cell": 1,
    "papermill": {
     "duration": 0.010601,
     "end_time": "2024-06-18T17:45:16.130616",
     "exception": false,
     "start_time": "2024-06-18T17:45:16.120015",
     "status": "completed"
    },
    "tags": []
   },
   "outputs": [],
   "source": [
    "class ListNode:\n",
    "    def __init__(self, val=0, next=None):\n",
    "        self.val = val\n",
    "        self.next = next\n",
    "\n",
    "    def __str__(self):\n",
    "        return str(self.val)\n",
    "\n",
    "    @staticmethod\n",
    "    def to_singly_linked_list(nums: list[int]):\n",
    "        root = prev = None\n",
    "        for n in nums:\n",
    "            curr = ListNode(n)\n",
    "            # Init once\n",
    "            if not root:\n",
    "                root = curr\n",
    "            if prev:\n",
    "                prev.next = curr\n",
    "            prev = curr\n",
    "\n",
    "        return root\n",
    "\n",
    "    def to_list(self) -> list[int]:\n",
    "        result = []\n",
    "        curr = self\n",
    "        while curr:\n",
    "            result.append(curr.val)\n",
    "            curr = curr.next\n",
    "        return result"
   ]
  },
  {
   "cell_type": "markdown",
   "id": "4299ad4a",
   "metadata": {
    "papermill": {
     "duration": 0.004423,
     "end_time": "2024-06-18T17:45:16.139534",
     "exception": false,
     "start_time": "2024-06-18T17:45:16.135111",
     "status": "completed"
    },
    "tags": []
   },
   "source": [
    "#### Utility to generate random BST"
   ]
  },
  {
   "cell_type": "code",
   "execution_count": 4,
   "id": "0882390e",
   "metadata": {
    "execution": {
     "iopub.execute_input": "2024-06-18T17:45:16.149356Z",
     "iopub.status.busy": "2024-06-18T17:45:16.149011Z",
     "iopub.status.idle": "2024-06-18T17:45:16.153068Z",
     "shell.execute_reply": "2024-06-18T17:45:16.152652Z"
    },
    "lines_to_next_cell": 1,
    "papermill": {
     "duration": 0.010111,
     "end_time": "2024-06-18T17:45:16.154109",
     "exception": false,
     "start_time": "2024-06-18T17:45:16.143998",
     "status": "completed"
    },
    "tags": []
   },
   "outputs": [],
   "source": [
    "def generateBST(N: int, min_: int, max_: int) -> BinaryTreeNode|None:\n",
    "    def insert(curr: BinaryTreeNode|None, n: int) -> BinaryTreeNode:\n",
    "        if not curr:\n",
    "            curr = BinaryTreeNode(n)\n",
    "        elif curr.val < n:\n",
    "            curr.right = insert(curr.right, n)\n",
    "        else:\n",
    "            curr.left = insert(curr.left, n)\n",
    "\n",
    "        return curr\n",
    "\n",
    "    assert N <= max_ - min_, \"Number of available samples must be >= N\"\n",
    "    root: BinaryTreeNode|None = None\n",
    "    for n in np.random.choice(np.arange(min_, max_), size=N, replace=False):\n",
    "        root = insert(root, n)\n",
    "\n",
    "    return root"
   ]
  },
  {
   "cell_type": "markdown",
   "id": "d111cefb",
   "metadata": {
    "papermill": {
     "duration": 0.004375,
     "end_time": "2024-06-18T17:45:16.162958",
     "exception": false,
     "start_time": "2024-06-18T17:45:16.158583",
     "status": "completed"
    },
    "tags": []
   },
   "source": [
    "LC Medium: Longest Substring with atleast K repeating characters"
   ]
  },
  {
   "cell_type": "code",
   "execution_count": 5,
   "id": "bdbcc4a8",
   "metadata": {
    "execution": {
     "iopub.execute_input": "2024-06-18T17:45:16.172724Z",
     "iopub.status.busy": "2024-06-18T17:45:16.172520Z",
     "iopub.status.idle": "2024-06-18T17:45:16.177427Z",
     "shell.execute_reply": "2024-06-18T17:45:16.176987Z"
    },
    "lines_to_next_cell": 1,
    "papermill": {
     "duration": 0.011245,
     "end_time": "2024-06-18T17:45:16.178586",
     "exception": false,
     "start_time": "2024-06-18T17:45:16.167341",
     "status": "completed"
    },
    "tags": []
   },
   "outputs": [],
   "source": [
    "# https://leetcode.com/problems/longest-substring-with-at-least-k-repeating-characters/\n",
    "# https://leetcode.com/problems/longest-substring-with-at-least-k-repeating-characters/submissions/1286506890\n",
    "def longestSubstring(s: str, k: int) -> int:\n",
    "    \"\"\"\n",
    "    Count the freq of all characters, split on the characters with freq < k\n",
    "    \"\"\"\n",
    "    N = len(s)\n",
    "\n",
    "    # Count the freq\n",
    "    freq: collections.Counter = collections.Counter(s)\n",
    "    is_valid = not any(map(lambda x: x < k, freq.values()))\n",
    "\n",
    "    # If the entire string is okay, return length as answer\n",
    "    if is_valid:\n",
    "        return N\n",
    "\n",
    "    # Split on the invalid characters and backtrack inside\n",
    "    else:\n",
    "        max_length = start_idx = 0\n",
    "        for curr_idx in range(N):\n",
    "            if 0 < freq[s[curr_idx]] < k:\n",
    "                max_length = max(max_length, longestSubstring(s[start_idx:curr_idx], k))\n",
    "                start_idx = curr_idx + 1\n",
    "\n",
    "        max_length = max(max_length, longestSubstring(s[start_idx:], k))\n",
    "        return max_length\n",
    "\n",
    "# Tesitng the solution\n",
    "assert longestSubstring(\"aaabb\", 3) == 3\n",
    "assert longestSubstring(\"ababbc\", 2) == 5\n",
    "assert longestSubstring(\"bbaaa\", 3) == 3"
   ]
  },
  {
   "cell_type": "markdown",
   "id": "ff630a5c",
   "metadata": {
    "papermill": {
     "duration": 0.004366,
     "end_time": "2024-06-18T17:45:16.187278",
     "exception": false,
     "start_time": "2024-06-18T17:45:16.182912",
     "status": "completed"
    },
    "tags": []
   },
   "source": [
    "LC Virtual - 4: Weekly Contest 5\n",
    "https://leetcode.com/contest/leetcode-weekly-contest-5/"
   ]
  },
  {
   "cell_type": "code",
   "execution_count": 6,
   "id": "186e9992",
   "metadata": {
    "execution": {
     "iopub.execute_input": "2024-06-18T17:45:16.197343Z",
     "iopub.status.busy": "2024-06-18T17:45:16.196871Z",
     "iopub.status.idle": "2024-06-18T17:45:16.202677Z",
     "shell.execute_reply": "2024-06-18T17:45:16.202240Z"
    },
    "lines_to_next_cell": 1,
    "papermill": {
     "duration": 0.01186,
     "end_time": "2024-06-18T17:45:16.203632",
     "exception": false,
     "start_time": "2024-06-18T17:45:16.191772",
     "status": "completed"
    },
    "tags": []
   },
   "outputs": [],
   "source": [
    "# Q4: Frog Jump\n",
    "def canCrossRecursive(stones: list[int]) -> bool:\n",
    "    @functools.cache\n",
    "    def backtrack(n: int, jump: int) -> bool:\n",
    "        if jump < 0:\n",
    "            return False\n",
    "        elif n == stones[-1]:\n",
    "            return True\n",
    "        else:\n",
    "            if n + jump - 1 in positions and backtrack(n + jump - 1, jump - 1):\n",
    "                return True\n",
    "            elif jump > 0 and n + jump in positions and backtrack(n + jump, jump):\n",
    "                return True\n",
    "            elif n + jump + 1 in positions and backtrack(n + jump + 1, jump + 1):\n",
    "                return True\n",
    "            else:\n",
    "                return False\n",
    "\n",
    "    N = len(stones)\n",
    "    positions: dict[int, int] = {n: i for i, n in enumerate(stones)}\n",
    "    return len(stones) <= 1 or backtrack(stones[0], 0)\n",
    "\n",
    "# Testing the solution\n",
    "assert canCrossRecursive([0,1,3,5,6,8,12,17]) == True\n",
    "assert canCrossRecursive([0,1,2,3,4,8,9,11]) == False\n",
    "assert canCrossRecursive([]) == True\n",
    "assert canCrossRecursive([100]) == True\n",
    "assert canCrossRecursive([0,2]) == False"
   ]
  },
  {
   "cell_type": "code",
   "execution_count": 7,
   "id": "14bb91a7",
   "metadata": {
    "execution": {
     "iopub.execute_input": "2024-06-18T17:45:16.213447Z",
     "iopub.status.busy": "2024-06-18T17:45:16.213083Z",
     "iopub.status.idle": "2024-06-18T17:45:16.219470Z",
     "shell.execute_reply": "2024-06-18T17:45:16.218971Z"
    },
    "lines_to_next_cell": 1,
    "papermill": {
     "duration": 0.012588,
     "end_time": "2024-06-18T17:45:16.220569",
     "exception": false,
     "start_time": "2024-06-18T17:45:16.207981",
     "status": "completed"
    },
    "tags": []
   },
   "outputs": [],
   "source": [
    "def canCrossTabulation(stones: list[int]) -> bool:\n",
    "    N = len(stones)\n",
    "    positions: dict[int, int] = {n: i for i, n in enumerate(stones)}\n",
    "    dp: list[list[bool]] = [[False if stones[i] != stones[-1] else True for jump in range(N + 2)] for i in range(N)]\n",
    "    for i in range(N - 2, -1, -1):\n",
    "        for jump in range(N):\n",
    "            n = stones[i]\n",
    "            if n + jump - 1 in positions:\n",
    "                dp[i][jump] = dp[i][jump] or dp[positions[n + jump - 1]][jump - 1]\n",
    "            if jump > 0 and n + jump in positions:\n",
    "                dp[i][jump] = dp[i][jump] or dp[positions[n + jump]][jump]\n",
    "            if n + jump + 1 in positions:\n",
    "                dp[i][jump] = dp[i][jump] or dp[positions[n + jump + 1]][jump + 1]\n",
    "\n",
    "    return len(stones) <= 1 or dp[0][0]\n",
    "\n",
    "# Testing the solution\n",
    "assert canCrossTabulation([0,1,3,5,6,8,12,17]) == True\n",
    "assert canCrossTabulation([0,1,2,3,4,8,9,11]) == False\n",
    "assert canCrossTabulation([]) == True\n",
    "assert canCrossTabulation([100]) == True\n",
    "assert canCrossTabulation([0,2]) == False"
   ]
  },
  {
   "cell_type": "code",
   "execution_count": 8,
   "id": "a756a694",
   "metadata": {
    "execution": {
     "iopub.execute_input": "2024-06-18T17:45:16.230266Z",
     "iopub.status.busy": "2024-06-18T17:45:16.229956Z",
     "iopub.status.idle": "2024-06-18T17:45:16.232742Z",
     "shell.execute_reply": "2024-06-18T17:45:16.232233Z"
    },
    "lines_to_next_cell": 1,
    "papermill": {
     "duration": 0.008824,
     "end_time": "2024-06-18T17:45:16.233801",
     "exception": false,
     "start_time": "2024-06-18T17:45:16.224977",
     "status": "completed"
    },
    "tags": []
   },
   "outputs": [],
   "source": [
    "# Q3: Remove K digits\n",
    "def removeKdigits(num: str, k: int) -> str:\n",
    "    pass"
   ]
  },
  {
   "cell_type": "code",
   "execution_count": 9,
   "id": "258ef565",
   "metadata": {
    "execution": {
     "iopub.execute_input": "2024-06-18T17:45:16.243397Z",
     "iopub.status.busy": "2024-06-18T17:45:16.243070Z",
     "iopub.status.idle": "2024-06-18T17:45:16.247664Z",
     "shell.execute_reply": "2024-06-18T17:45:16.247259Z"
    },
    "lines_to_next_cell": 1,
    "papermill": {
     "duration": 0.010469,
     "end_time": "2024-06-18T17:45:16.248667",
     "exception": false,
     "start_time": "2024-06-18T17:45:16.238198",
     "status": "completed"
    },
    "tags": []
   },
   "outputs": [],
   "source": [
    "# Q1: Find Nth Digit\n",
    "def findNthDigit(N: int) -> int:\n",
    "    def countDigitsBefore(n: int) -> int:\n",
    "        if n < 10:\n",
    "            return n\n",
    "        else:\n",
    "            n_digits = math.floor(math.log10(n)) + 1\n",
    "            smallest_n_digit_number = 10 ** (n_digits - 1)\n",
    "            n_digits_before = (n - smallest_n_digit_number + 1) * n_digits\n",
    "            return n_digits_before + countDigitsBefore(smallest_n_digit_number - 1)\n",
    "\n",
    "    # Binary search\n",
    "    low, high = 1, N\n",
    "    while low <= high:\n",
    "        mid = (low + high) // 2\n",
    "        count = countDigitsBefore(mid)\n",
    "        if count == N:\n",
    "            return mid % 10\n",
    "        elif count < N:\n",
    "            low = mid + 1\n",
    "        else:\n",
    "            high = mid - 1\n",
    "\n",
    "    delta = countDigitsBefore(low) - N\n",
    "    return int(str(low)[-delta-1])\n",
    "\n",
    "# Testing the solution\n",
    "assert findNthDigit(11) == 0\n",
    "assert findNthDigit(3) == 3"
   ]
  },
  {
   "cell_type": "code",
   "execution_count": 10,
   "id": "76b61cf9",
   "metadata": {
    "execution": {
     "iopub.execute_input": "2024-06-18T17:45:16.258343Z",
     "iopub.status.busy": "2024-06-18T17:45:16.258013Z",
     "iopub.status.idle": "2024-06-18T17:45:16.263158Z",
     "shell.execute_reply": "2024-06-18T17:45:16.262744Z"
    },
    "lines_to_next_cell": 1,
    "papermill": {
     "duration": 0.011203,
     "end_time": "2024-06-18T17:45:16.264203",
     "exception": false,
     "start_time": "2024-06-18T17:45:16.253000",
     "status": "completed"
    },
    "tags": []
   },
   "outputs": [],
   "source": [
    "# Q2: Binary Watch\n",
    "def readBinaryWatch(turnedOn: int) -> set[str]:\n",
    "    watch: list[bool] = [False for i in range(10)]\n",
    "    result: set[str] = set()\n",
    "    def backtrack(lights: int) -> None:\n",
    "        if lights == 0:\n",
    "            hour = minute = 0\n",
    "            for i in range(10):\n",
    "                if watch[i]:\n",
    "                    if i < 4:\n",
    "                        hour += 2 ** (3 - i)\n",
    "                    else:\n",
    "                        minute += 2 ** (9 - i)\n",
    "\n",
    "            if 0 <= hour < 12 and 0 <= minute <= 59:\n",
    "                result.add(f\"{hour}:{str(minute).zfill(2)}\")\n",
    "\n",
    "        else:\n",
    "            for i in range(10):\n",
    "                if not watch[i]:\n",
    "                    watch[i] = True\n",
    "                    backtrack(lights - 1)\n",
    "                    watch[i] = False\n",
    "\n",
    "    backtrack(turnedOn)\n",
    "    return result\n",
    "\n",
    "# Testing the solution\n",
    "assert sorted(readBinaryWatch(1)) == sorted([\"0:01\",\"0:02\",\"0:04\",\"0:08\",\"0:16\",\"0:32\",\"1:00\",\"2:00\",\"4:00\",\"8:00\"])"
   ]
  },
  {
   "cell_type": "markdown",
   "id": "35e89076",
   "metadata": {
    "papermill": {
     "duration": 0.004417,
     "end_time": "2024-06-18T17:45:16.273064",
     "exception": false,
     "start_time": "2024-06-18T17:45:16.268647",
     "status": "completed"
    },
    "tags": []
   },
   "source": [
    "Minimum no of moves to seat everyone \n",
    "https://leetcode.com/problems/minimum-number-of-moves-to-seat-everyone"
   ]
  },
  {
   "cell_type": "code",
   "execution_count": 11,
   "id": "1cec1bdc",
   "metadata": {
    "execution": {
     "iopub.execute_input": "2024-06-18T17:45:16.282743Z",
     "iopub.status.busy": "2024-06-18T17:45:16.282583Z",
     "iopub.status.idle": "2024-06-18T17:45:16.286551Z",
     "shell.execute_reply": "2024-06-18T17:45:16.286022Z"
    },
    "lines_to_next_cell": 1,
    "papermill": {
     "duration": 0.009963,
     "end_time": "2024-06-18T17:45:16.287546",
     "exception": false,
     "start_time": "2024-06-18T17:45:16.277583",
     "status": "completed"
    },
    "tags": []
   },
   "outputs": [],
   "source": [
    "def minMovesToSeat(seats: list[int], students: list[int]) -> int:\n",
    "    # Compute length\n",
    "    N = len(seats)\n",
    "\n",
    "    # Sort both to ensure that we get the minimal distances\n",
    "    seats.sort()\n",
    "    students.sort()\n",
    "\n",
    "    # Compute abs distance between seats and students\n",
    "    moves = 0\n",
    "    for i in range(N):\n",
    "        moves += abs(seats[i] - students[i])\n",
    "    return moves\n",
    "\n",
    "# Testing the solution\n",
    "assert minMovesToSeat([3,1,5], [2,7,4]) == 4\n",
    "assert minMovesToSeat([2,2,6,6], [1,3,2,6]) == 4"
   ]
  },
  {
   "cell_type": "markdown",
   "id": "8c387dd2",
   "metadata": {
    "papermill": {
     "duration": 0.004499,
     "end_time": "2024-06-18T17:45:16.296530",
     "exception": false,
     "start_time": "2024-06-18T17:45:16.292031",
     "status": "completed"
    },
    "tags": []
   },
   "source": [
    "LC Medium: Minimum increment to make array unique\n",
    "https://leetcode.com/problems/minimum-increment-to-make-array-unique"
   ]
  },
  {
   "cell_type": "code",
   "execution_count": 12,
   "id": "3f1753a0",
   "metadata": {
    "execution": {
     "iopub.execute_input": "2024-06-18T17:45:16.306070Z",
     "iopub.status.busy": "2024-06-18T17:45:16.305872Z",
     "iopub.status.idle": "2024-06-18T17:45:16.310648Z",
     "shell.execute_reply": "2024-06-18T17:45:16.310126Z"
    },
    "lines_to_next_cell": 1,
    "papermill": {
     "duration": 0.010759,
     "end_time": "2024-06-18T17:45:16.311648",
     "exception": false,
     "start_time": "2024-06-18T17:45:16.300889",
     "status": "completed"
    },
    "tags": []
   },
   "outputs": [],
   "source": [
    "def minIncrementForUnique(nums: list[int]) -> int:\n",
    "    # Count freq & unique values present\n",
    "    counts: dict[int, int] = dict()\n",
    "    unique: set[int] = set()\n",
    "    for n in nums:\n",
    "        counts[n] = counts.get(n, 0) + 1\n",
    "        unique.add(n)\n",
    "\n",
    "    # If count of any number is greater than 1, shift right\n",
    "    moves = 0\n",
    "    while unique:\n",
    "        key = unique.pop()\n",
    "        count = counts.pop(key)\n",
    "        if count > 1:\n",
    "            shift = count - 1\n",
    "            moves += shift\n",
    "            counts[key + 1] = counts.get(key + 1, 0) + shift\n",
    "            unique.add(key + 1)\n",
    "\n",
    "    return moves\n",
    "\n",
    "# Testing the solution\n",
    "assert minIncrementForUnique([1,2,2]) == 1\n",
    "assert minIncrementForUnique([3,2,1,2,1,7]) == 6\n",
    "assert minIncrementForUnique([1,2,2,5,5]) == 2"
   ]
  },
  {
   "cell_type": "markdown",
   "id": "5e9474a6",
   "metadata": {
    "papermill": {
     "duration": 0.004387,
     "end_time": "2024-06-18T17:45:16.320518",
     "exception": false,
     "start_time": "2024-06-18T17:45:16.316131",
     "status": "completed"
    },
    "tags": []
   },
   "source": [
    "Maximum Gap\n",
    "https://leetcode.com/problems/maximum-gap/"
   ]
  },
  {
   "cell_type": "code",
   "execution_count": 13,
   "id": "f9795b8e",
   "metadata": {
    "execution": {
     "iopub.execute_input": "2024-06-18T17:45:16.330472Z",
     "iopub.status.busy": "2024-06-18T17:45:16.330051Z",
     "iopub.status.idle": "2024-06-18T17:45:16.335788Z",
     "shell.execute_reply": "2024-06-18T17:45:16.335282Z"
    },
    "lines_to_next_cell": 1,
    "papermill": {
     "duration": 0.011949,
     "end_time": "2024-06-18T17:45:16.336847",
     "exception": false,
     "start_time": "2024-06-18T17:45:16.324898",
     "status": "completed"
    },
    "tags": []
   },
   "outputs": [],
   "source": [
    "# https://leetcode.com/problems/maximum-gap/submissions/1288173457/\n",
    "def maximumGap(nums: list[int]) -> int:\n",
    "    \"\"\"\n",
    "    1. Maximum gap is always greater than or equal to ceil((max - min) / N)\n",
    "        - Divide N nums into N - 1 groups\n",
    "        - If evenly distributed, each elements would be in a different bucket (1 element in each bucket)\n",
    "        - If unevenly distributed, two or more buckets would have multiple elements. Some buckets may not have any elements - max gap could occur betweeen left and right of the missing buckets\n",
    "    2. Consequently we only need to store the min and max of each bucket\n",
    "    \"\"\"\n",
    "    N, high, low = len(nums), max(nums), min(nums)\n",
    "    bucket_size = math.ceil((high - low) / N)\n",
    "    buckets: dict[int, tuple[int, int]] = {}\n",
    "\n",
    "    # Edge case\n",
    "    if bucket_size == 0:\n",
    "        return 0\n",
    "\n",
    "    # Group the numbers into buckets\n",
    "    for n in nums:\n",
    "        index = n // bucket_size\n",
    "        min_, max_ = buckets.get(index, ((index + 1) * bucket_size, (index - 1) * bucket_size))\n",
    "        min_, max_ = min(min_, n), max(max_, n)\n",
    "        buckets[index] = (min_, max_)\n",
    "\n",
    "    # Iterate through each and find the max gap\n",
    "    curr, end = low // bucket_size, high // bucket_size\n",
    "    max_gap = 0\n",
    "    while curr < end:\n",
    "        next_ = curr + 1\n",
    "        while next_ not in buckets:\n",
    "            next_ += 1\n",
    "        curr, max_gap = next_, max(max_gap, buckets[next_][0] - buckets[curr][1])\n",
    "\n",
    "    return max_gap\n",
    "\n",
    "# Testing the solution\n",
    "assert maximumGap([3,14,15,83,6,4,19,20,40]) == 43\n",
    "assert maximumGap([3,6,9,1]) == 3\n",
    "assert maximumGap([10]) == 0"
   ]
  },
  {
   "cell_type": "markdown",
   "id": "2de5b7ba",
   "metadata": {
    "papermill": {
     "duration": 0.004327,
     "end_time": "2024-06-18T17:45:16.345500",
     "exception": false,
     "start_time": "2024-06-18T17:45:16.341173",
     "status": "completed"
    },
    "tags": []
   },
   "source": [
    "LC Virtual - 5: Weekly Contest 6\n",
    "https://leetcode.com/contest/leetcode-weekly-contest-6/"
   ]
  },
  {
   "cell_type": "code",
   "execution_count": 14,
   "id": "02ae7259",
   "metadata": {
    "execution": {
     "iopub.execute_input": "2024-06-18T17:45:16.355022Z",
     "iopub.status.busy": "2024-06-18T17:45:16.354860Z",
     "iopub.status.idle": "2024-06-18T17:45:16.359617Z",
     "shell.execute_reply": "2024-06-18T17:45:16.359180Z"
    },
    "lines_to_next_cell": 1,
    "papermill": {
     "duration": 0.01071,
     "end_time": "2024-06-18T17:45:16.360625",
     "exception": false,
     "start_time": "2024-06-18T17:45:16.349915",
     "status": "completed"
    },
    "tags": []
   },
   "outputs": [],
   "source": [
    "# Q1: Sum of left leaves\n",
    "def sumOfLeftLeaves(root: BinaryTreeNode) -> int:\n",
    "    def backtrack(curr: BinaryTreeNode) -> tuple[int, int]:\n",
    "        if not curr:\n",
    "            return 0, -1\n",
    "        else:\n",
    "            left_sum, left_type = backtrack(curr.left)\n",
    "            right_sum, right_type = backtrack(curr.right)\n",
    "            curr_type, total = 0 if left_type == -1 and right_type == -1 else 1, 0\n",
    "            if curr_type == 0:\n",
    "                total += curr.val\n",
    "            if left_type != -1:\n",
    "                total += left_sum\n",
    "            if right_type >= 1:\n",
    "                total += right_sum\n",
    "            result = total, curr_type\n",
    "            return result\n",
    "\n",
    "    return backtrack(root)[0] if root.left or root.right else 0\n",
    "\n",
    "# Testing the solution\n",
    "assert sumOfLeftLeaves(BinaryTreeNode.from_array([3,9,20,None,None,15,7])) == 24\n",
    "assert sumOfLeftLeaves(BinaryTreeNode.from_array([1])) == 0"
   ]
  },
  {
   "cell_type": "code",
   "execution_count": 15,
   "id": "eaa96394",
   "metadata": {
    "execution": {
     "iopub.execute_input": "2024-06-18T17:45:16.370532Z",
     "iopub.status.busy": "2024-06-18T17:45:16.370153Z",
     "iopub.status.idle": "2024-06-18T17:45:16.374686Z",
     "shell.execute_reply": "2024-06-18T17:45:16.374218Z"
    },
    "lines_to_next_cell": 1,
    "papermill": {
     "duration": 0.010697,
     "end_time": "2024-06-18T17:45:16.375742",
     "exception": false,
     "start_time": "2024-06-18T17:45:16.365045",
     "status": "completed"
    },
    "tags": []
   },
   "outputs": [],
   "source": [
    "# Q2: Convert to hexadecimal\n",
    "def toHex(num: int) -> str:\n",
    "    # If negative, find hex for its 2's compliment\n",
    "    if num < 0:\n",
    "        bit_length = 32\n",
    "        num &= (2 << bit_length - 1) - 1\n",
    "\n",
    "    # Use division method\n",
    "    division_result: list[int] = []\n",
    "    while num >= 16:\n",
    "        num, rem = num // 16, num % 16\n",
    "        division_result.append(rem)\n",
    "    division_result.append(num)\n",
    "    division_result.reverse()\n",
    "\n",
    "    # Convert to hexadecimal string\n",
    "    mapping = {i: str(i) for i in range(0, 10)} | {i: chr(ord('a') + i - 10) for i in range(10, 16)}\n",
    "    return ''.join(map(lambda x: mapping[x], division_result))\n",
    "\n",
    "# Testing the solution\n",
    "assert toHex(26) == \"1a\"\n",
    "assert toHex(-1) == \"ffffffff\""
   ]
  },
  {
   "cell_type": "code",
   "execution_count": 16,
   "id": "69bb828f",
   "metadata": {
    "execution": {
     "iopub.execute_input": "2024-06-18T17:45:16.385628Z",
     "iopub.status.busy": "2024-06-18T17:45:16.385342Z",
     "iopub.status.idle": "2024-06-18T17:45:16.391746Z",
     "shell.execute_reply": "2024-06-18T17:45:16.391294Z"
    },
    "lines_to_next_cell": 1,
    "papermill": {
     "duration": 0.012581,
     "end_time": "2024-06-18T17:45:16.392790",
     "exception": false,
     "start_time": "2024-06-18T17:45:16.380209",
     "status": "completed"
    },
    "tags": []
   },
   "outputs": [],
   "source": [
    "# Q3: Queue Reconstruction by Height\n",
    "def reconstructQueue(people: list[list[int]]) -> list[list[int]]:\n",
    "    N = len(people)\n",
    "\n",
    "    # Sort to find the relative height ordering\n",
    "    people.sort()\n",
    "\n",
    "    # Iterate from shortest to tallest, keeping track of number of person with height equal to curr\n",
    "    eq_front = []\n",
    "    prev, eq_count = -1, 0\n",
    "    for i in range(N):\n",
    "        if people[i][0] == prev:\n",
    "            eq_count += 1\n",
    "        else:\n",
    "            eq_count = 0\n",
    "        prev = people[i][0]\n",
    "        eq_front.append(eq_count)\n",
    "\n",
    "    # Insert into queue in correct order\n",
    "    result: list[list[int]] = []\n",
    "    while eq_front:\n",
    "        actual, (height, expected) = eq_front.pop(), people.pop()\n",
    "        if expected == actual:\n",
    "            result.append([height, expected])\n",
    "        else:\n",
    "            temp: list[list[int]] = []\n",
    "            for i in range(expected - actual):\n",
    "                temp.append(result.pop())\n",
    "            result.append([height, expected])\n",
    "            while temp:\n",
    "                result.append(temp.pop())\n",
    "\n",
    "    result.reverse()\n",
    "    return result\n",
    "\n",
    "# Testing the solution\n",
    "assert reconstructQueue([[7,0],[4,4],[7,1],[5,0],[6,1],[5,2]]) == [[5,0],[7,0],[5,2],[6,1],[4,4],[7,1]]\n",
    "assert reconstructQueue([[6,0],[5,0],[4,0],[3,2],[2,2],[1,4]]) == [[4,0],[5,0],[2,2],[3,2],[1,4],[6,0]]"
   ]
  },
  {
   "cell_type": "markdown",
   "id": "5b1cd8d3",
   "metadata": {
    "papermill": {
     "duration": 0.004717,
     "end_time": "2024-06-18T17:45:16.402290",
     "exception": false,
     "start_time": "2024-06-18T17:45:16.397573",
     "status": "completed"
    },
    "tags": []
   },
   "source": [
    "Trapping Rain water - II (Upsolving)\n",
    "https://leetcode.com/problems/trapping-rain-water-ii/"
   ]
  },
  {
   "cell_type": "code",
   "execution_count": null,
   "id": "16a2bb8e",
   "metadata": {
    "papermill": {
     "duration": 0.004469,
     "end_time": "2024-06-18T17:45:16.411275",
     "exception": false,
     "start_time": "2024-06-18T17:45:16.406806",
     "status": "completed"
    },
    "tags": []
   },
   "outputs": [],
   "source": []
  },
  {
   "cell_type": "code",
   "execution_count": 17,
   "id": "1d0cafe4",
   "metadata": {
    "execution": {
     "iopub.execute_input": "2024-06-18T17:45:16.421434Z",
     "iopub.status.busy": "2024-06-18T17:45:16.421105Z",
     "iopub.status.idle": "2024-06-18T17:45:16.430060Z",
     "shell.execute_reply": "2024-06-18T17:45:16.429550Z"
    },
    "lines_to_next_cell": 1,
    "papermill": {
     "duration": 0.015411,
     "end_time": "2024-06-18T17:45:16.431109",
     "exception": false,
     "start_time": "2024-06-18T17:45:16.415698",
     "status": "completed"
    },
    "tags": []
   },
   "outputs": [],
   "source": [
    "# Q4: Trapping Rain water - II\n",
    "# https://leetcode.com/problems/trapping-rain-water-ii/solutions/1138028/python3-visualization-bfs-solution-with-explanation\n",
    "def trapRainWater(heightMap: list[list[int]]) -> int:\n",
    "    N, M = len(heightMap), len(heightMap[0])\n",
    "    visited: set[tuple[int, int]] = set()\n",
    "\n",
    "    # Add boundary cells to heap, heap: Height, i, j\n",
    "    heap: list[tuple[int, int, int]] = []\n",
    "    for i in range(N):\n",
    "        for j in range(M):\n",
    "            if i in (0, N - 1) or j in (0, M - 1):\n",
    "                heapq.heappush(heap, (heightMap[i][j], i, j))\n",
    "                visited.add((i, j))\n",
    "\n",
    "    level = volume = 0\n",
    "    while heap:\n",
    "        height, x, y = heapq.heappop(heap)\n",
    "        level = max(level, height)\n",
    "        for i, j in [(x - 1, y), (x + 1, y), (x, y - 1), (x, y + 1)]:\n",
    "            if 0 <= i < N and 0 <= j < M and (i, j) not in visited:\n",
    "                next_height = heightMap[i][j]\n",
    "                if next_height < level:\n",
    "                    volume += level - next_height\n",
    "                visited.add((i, j))\n",
    "                heapq.heappush(heap, (next_height, i, j))\n",
    "\n",
    "    return volume\n",
    "\n",
    "# Testing the solution\n",
    "assert trapRainWater([[1,4,3,1,3,2],[3,2,1,3,2,4],[2,3,3,2,3,1]]) == 4\n",
    "assert trapRainWater([[3,3,3,3,3],[3,2,2,2,3],[3,2,1,2,3],[3,2,2,2,3],[3,3,3,3,3]]) == 10\n",
    "assert trapRainWater([[12,13,1,12],[13,4,13,12],[13,8,10,12],[12,13,12,12],[13,13,13,13]]) == 14\n",
    "assert trapRainWater([[5,5,5,1],[5,1,1,5],[5,1,5,5],[5,2,5,8]]) == 3\n",
    "assert trapRainWater([[14,17,18,16,14,16],[17,3,10,2,3,8],[11,10,4,7,1,7],[13,7,2,9,8,10],[13,1,3,4,8,6],[20,3,3,9,10,8]]) == 25"
   ]
  },
  {
   "cell_type": "markdown",
   "id": "666f4a63",
   "metadata": {
    "papermill": {
     "duration": 0.004456,
     "end_time": "2024-06-18T17:45:16.440108",
     "exception": false,
     "start_time": "2024-06-18T17:45:16.435652",
     "status": "completed"
    },
    "tags": []
   },
   "source": [
    "https://leetcode.com/contest/leetcode-weekly-contest-8/problems/pacific-atlantic-water-flow/"
   ]
  },
  {
   "cell_type": "code",
   "execution_count": 18,
   "id": "d1cd9722",
   "metadata": {
    "execution": {
     "iopub.execute_input": "2024-06-18T17:45:16.450145Z",
     "iopub.status.busy": "2024-06-18T17:45:16.449686Z",
     "iopub.status.idle": "2024-06-18T17:45:16.459480Z",
     "shell.execute_reply": "2024-06-18T17:45:16.458983Z"
    },
    "lines_to_next_cell": 1,
    "papermill": {
     "duration": 0.016067,
     "end_time": "2024-06-18T17:45:16.460585",
     "exception": false,
     "start_time": "2024-06-18T17:45:16.444518",
     "status": "completed"
    },
    "tags": []
   },
   "outputs": [
    {
     "data": {
      "text/plain": [
       "{(0, 4), (1, 3), (1, 4), (2, 2), (3, 0), (3, 1), (4, 0)}"
      ]
     },
     "execution_count": 18,
     "metadata": {},
     "output_type": "execute_result"
    }
   ],
   "source": [
    "def pacificAtlantic(heights: list[list[int]]) -> set[tuple[int, int]]:\n",
    "    def DFS(to_visit: list[tuple[int, int]]) -> set[tuple[int, int]]:\n",
    "        visited: set[tuple[int, int]] = set()\n",
    "        while to_visit:\n",
    "            x, y = to_visit.pop()\n",
    "            visited.add((x, y))\n",
    "            for i, j in [(x, y + 1), (x, y - 1), (x + 1, y), (x - 1, y)]:\n",
    "                if 0 <= i < N and 0 <= j < M and (i, j) not in visited and heights[i][j] >= heights[x][y]:\n",
    "                    to_visit.append((i, j))\n",
    "\n",
    "        return visited\n",
    "\n",
    "    N, M = len(heights), len(heights[0])\n",
    "\n",
    "    pacific: set[tuple[int, int]] = DFS([(0, i) for i in range(M)] + [(i, 0) for i in range(N)])\n",
    "    atlantic: set[tuple[int, int]] = DFS([(N - 1, i) for i in range(M)] + [(i, M - 1) for i in range(N)])\n",
    "\n",
    "    return set.intersection(pacific, atlantic)\n",
    "\n",
    "# Testing the soluiton\n",
    "pacificAtlantic([[1,2,2,3,5],[3,2,3,4,4],[2,4,5,3,1],[6,7,1,4,5],[5,1,1,2,4]])"
   ]
  },
  {
   "cell_type": "code",
   "execution_count": 19,
   "id": "308c8c47",
   "metadata": {
    "execution": {
     "iopub.execute_input": "2024-06-18T17:45:16.470785Z",
     "iopub.status.busy": "2024-06-18T17:45:16.470456Z",
     "iopub.status.idle": "2024-06-18T17:45:16.475111Z",
     "shell.execute_reply": "2024-06-18T17:45:16.474703Z"
    },
    "lines_to_next_cell": 1,
    "papermill": {
     "duration": 0.010937,
     "end_time": "2024-06-18T17:45:16.476148",
     "exception": false,
     "start_time": "2024-06-18T17:45:16.465211",
     "status": "completed"
    },
    "tags": []
   },
   "outputs": [],
   "source": [
    "# https://leetcode.com/contest/leetcode-weekly-contest-8/problems/sentence-screen-fitting/\n",
    "def sentenceScreenFitting(sentence: list[str], rows: int, cols: int) -> int:\n",
    "    n_words = len(sentence)\n",
    "    word_length: list[int] = list(map(len, sentence))\n",
    "    word_idx = n_sentences = 0\n",
    "\n",
    "    row_pending = rows\n",
    "    while row_pending > 0:\n",
    "        col_pending = cols\n",
    "        while col_pending > 0:\n",
    "\n",
    "            if word_length[word_idx] <= col_pending:\n",
    "                col_pending -= word_length[word_idx]\n",
    "                word_idx += 1\n",
    "\n",
    "                if col_pending > 0:\n",
    "                    col_pending -= 1\n",
    "\n",
    "            else:\n",
    "                col_pending = 0\n",
    "\n",
    "            if word_idx == n_words:\n",
    "                word_idx = 0\n",
    "                n_sentences += 1\n",
    "\n",
    "        row_pending -= 1\n",
    "\n",
    "    return n_sentences\n",
    "\n",
    "# Testing the solution\n",
    "assert sentenceScreenFitting([\"hello\",\"world\"], 2, 8) == 1\n",
    "assert sentenceScreenFitting([\"a\", \"bcd\", \"e\"], 3, 6) == 2\n",
    "assert sentenceScreenFitting([\"i\",\"had\",\"apple\",\"pie\"], 4, 5) == 1"
   ]
  },
  {
   "cell_type": "markdown",
   "id": "01322001",
   "metadata": {
    "papermill": {
     "duration": 0.008482,
     "end_time": "2024-06-18T17:45:16.490825",
     "exception": false,
     "start_time": "2024-06-18T17:45:16.482343",
     "status": "completed"
    },
    "tags": []
   },
   "source": [
    "Codeforces: https://codeforces.com/problemset/problem/1843/C"
   ]
  },
  {
   "cell_type": "code",
   "execution_count": 20,
   "id": "f5edd897",
   "metadata": {
    "execution": {
     "iopub.execute_input": "2024-06-18T17:45:16.500979Z",
     "iopub.status.busy": "2024-06-18T17:45:16.500649Z",
     "iopub.status.idle": "2024-06-18T17:45:16.504274Z",
     "shell.execute_reply": "2024-06-18T17:45:16.503857Z"
    },
    "lines_to_next_cell": 1,
    "papermill": {
     "duration": 0.009838,
     "end_time": "2024-06-18T17:45:16.505337",
     "exception": false,
     "start_time": "2024-06-18T17:45:16.495499",
     "status": "completed"
    },
    "tags": []
   },
   "outputs": [],
   "source": [
    "def sumBinaryTree(n: int) -> int:\n",
    "    if n == 1:\n",
    "        return 1\n",
    "    elif n % 2 == 0:\n",
    "        return n + sumBinaryTree(n // 2)\n",
    "    else:\n",
    "        return n + sumBinaryTree((n - 1) // 2)\n",
    "\n",
    "# Testing the solution\n",
    "assert sumBinaryTree(37) == 71\n",
    "assert sumBinaryTree(10000000000000000) == 19999999999999980\n",
    "assert sumBinaryTree(15) == 26"
   ]
  },
  {
   "cell_type": "code",
   "execution_count": 21,
   "id": "79065385",
   "metadata": {
    "execution": {
     "iopub.execute_input": "2024-06-18T17:45:16.515599Z",
     "iopub.status.busy": "2024-06-18T17:45:16.515339Z",
     "iopub.status.idle": "2024-06-18T17:45:16.518904Z",
     "shell.execute_reply": "2024-06-18T17:45:16.518482Z"
    },
    "lines_to_next_cell": 1,
    "papermill": {
     "duration": 0.009853,
     "end_time": "2024-06-18T17:45:16.519926",
     "exception": false,
     "start_time": "2024-06-18T17:45:16.510073",
     "status": "completed"
    },
    "tags": []
   },
   "outputs": [],
   "source": [
    "def insertionInBST(curr: BinaryTreeNode, val: int):\n",
    "    if not curr:\n",
    "        curr = BinaryTreeNode(val)\n",
    "    elif curr.val < val:\n",
    "        curr.right = insertionInBST(curr.right, val)\n",
    "    else:\n",
    "        curr.left = insertionInBST(curr.left, val)\n",
    "    return curr\n",
    "\n",
    "# Testing the solution\n",
    "assert insertionInBST(BinaryTreeNode.from_array([10, 2, 12, 1, 3, None, 13]), 11).to_list() == [10, 2, 12, 1, 3, 11, 13]"
   ]
  },
  {
   "cell_type": "markdown",
   "id": "ae24503f",
   "metadata": {
    "papermill": {
     "duration": 0.004576,
     "end_time": "2024-06-18T17:45:16.529202",
     "exception": false,
     "start_time": "2024-06-18T17:45:16.524626",
     "status": "completed"
    },
    "tags": []
   },
   "source": [
    "King Escape: https://codeforces.com/problemset/problem/1033/A"
   ]
  },
  {
   "cell_type": "code",
   "execution_count": 22,
   "id": "06da5999",
   "metadata": {
    "execution": {
     "iopub.execute_input": "2024-06-18T17:45:16.539564Z",
     "iopub.status.busy": "2024-06-18T17:45:16.539133Z",
     "iopub.status.idle": "2024-06-18T17:45:16.543755Z",
     "shell.execute_reply": "2024-06-18T17:45:16.543219Z"
    },
    "lines_to_next_cell": 1,
    "papermill": {
     "duration": 0.010798,
     "end_time": "2024-06-18T17:45:16.544747",
     "exception": false,
     "start_time": "2024-06-18T17:45:16.533949",
     "status": "completed"
    },
    "tags": []
   },
   "outputs": [],
   "source": [
    "def kingEscape(N: int, queen: tuple[int, int], king: tuple[int, int], target: tuple[int, int]) -> bool:\n",
    "    minX, maxX = min(king[0], target[0]), max(king[0], target[0])\n",
    "    minY, maxY = min(king[1], target[1]), max(king[1], target[1])\n",
    "    return not (minX < queen[0] < maxX or minY < queen[1] < maxY)\n",
    "\n",
    "# Testing the solution\n",
    "assert kingEscape(8, (4, 4), (1, 3), (3, 1)) == True\n",
    "assert kingEscape(8, (4, 4), (2, 3), (1, 6)) == False\n",
    "assert kingEscape(8, (3, 5), (1, 2), (6, 1)) == False"
   ]
  },
  {
   "cell_type": "markdown",
   "id": "c6a84986",
   "metadata": {
    "papermill": {
     "duration": 0.004551,
     "end_time": "2024-06-18T17:45:16.554006",
     "exception": false,
     "start_time": "2024-06-18T17:45:16.549455",
     "status": "completed"
    },
    "tags": []
   },
   "source": [
    "LC Medium: https://leetcode.com/problems/most-profit-assigning-work/submissions/1292541583"
   ]
  },
  {
   "cell_type": "code",
   "execution_count": 23,
   "id": "aa4fd57d",
   "metadata": {
    "execution": {
     "iopub.execute_input": "2024-06-18T17:45:16.564028Z",
     "iopub.status.busy": "2024-06-18T17:45:16.563745Z",
     "iopub.status.idle": "2024-06-18T17:45:16.569250Z",
     "shell.execute_reply": "2024-06-18T17:45:16.568793Z"
    },
    "lines_to_next_cell": 1,
    "papermill": {
     "duration": 0.011692,
     "end_time": "2024-06-18T17:45:16.570272",
     "exception": false,
     "start_time": "2024-06-18T17:45:16.558580",
     "status": "completed"
    },
    "tags": []
   },
   "outputs": [],
   "source": [
    "def maxProfitAssignment(difficulty: list[int], profit: list[int], worker: list[int]) -> int:\n",
    "    # Sort workers by their capacity\n",
    "    worker.sort()\n",
    "\n",
    "    # Sort jobs available based on their difficuly\n",
    "    jobs: list[tuple[int, int]] = sorted(zip(difficulty, profit))\n",
    "\n",
    "    # Use a two pointer approach - iterate through jobs adding to our maxHeap until diff cross what curr worker can handle\n",
    "    heap: list[int] = []\n",
    "    maxProfit = i = 0\n",
    "    for max_difficulty in worker:\n",
    "        while i < len(jobs) and jobs[i][0] <= max_difficulty:\n",
    "            heapq.heappush(heap, -jobs[i][1])\n",
    "            i += 1\n",
    "        maxProfit += -heap[0] if heap else 0\n",
    "\n",
    "    return maxProfit\n",
    "\n",
    "# Testing the solution\n",
    "assert maxProfitAssignment([2,4,6,8,10], [10,20,30,40,50], [4,5,6,7]) == 100\n",
    "assert maxProfitAssignment([85,47,57], [24,66,99], [40,25,25]) == 0\n",
    "assert maxProfitAssignment([13,37,58], [4,90,96], [34,73,45]) == 190\n",
    "assert maxProfitAssignment([68,35,52,47,86], [67,17,1,81,3], [92,10,85,84,82]) == 324"
   ]
  },
  {
   "cell_type": "markdown",
   "id": "9954a873",
   "metadata": {
    "papermill": {
     "duration": 0.004581,
     "end_time": "2024-06-18T17:45:16.579525",
     "exception": false,
     "start_time": "2024-06-18T17:45:16.574944",
     "status": "completed"
    },
    "tags": []
   },
   "source": [
    "https://codeforces.com/problemset/problem/1829/E"
   ]
  },
  {
   "cell_type": "code",
   "execution_count": 24,
   "id": "72ec16c8",
   "metadata": {
    "execution": {
     "iopub.execute_input": "2024-06-18T17:45:16.589910Z",
     "iopub.status.busy": "2024-06-18T17:45:16.589409Z",
     "iopub.status.idle": "2024-06-18T17:45:16.599533Z",
     "shell.execute_reply": "2024-06-18T17:45:16.599071Z"
    },
    "papermill": {
     "duration": 0.016437,
     "end_time": "2024-06-18T17:45:16.600609",
     "exception": false,
     "start_time": "2024-06-18T17:45:16.584172",
     "status": "completed"
    },
    "tags": []
   },
   "outputs": [],
   "source": [
    "class DisjointSetLakes:\n",
    "    def __init__(self, N: int, M: int, grid: list[list[int]]):\n",
    "        self.N, self.M = N, M\n",
    "        self.grid = grid\n",
    "        self.parent: dict[tuple[int, int], tuple[int, int]] = dict()\n",
    "        self.size: dict[tuple[int, int], int] = dict()\n",
    "        self.max_volume = 0\n",
    "        self.iterate_grid()\n",
    "\n",
    "    def is_valid(self, i: int, j: int) -> bool:\n",
    "        return 0 <= i < self.N and 0 <= j < self.M\n",
    "\n",
    "    def iterate_grid(self) -> None:\n",
    "        for i in range(self.N):\n",
    "            for j in range(self.M):\n",
    "                if self.grid[i][j] > 0:\n",
    "                    top, left = (i - 1, j), (i, j - 1)\n",
    "                    if self.is_valid(*top) and self.grid[top[0]][top[1]] > 0:\n",
    "                        self.unionBySize((i, j), top)\n",
    "                    if self.is_valid(*left) and self.grid[left[0]][left[1]] > 0:\n",
    "                        self.unionBySize((i, j), left)\n",
    "                    self.max_volume = max(self.max_volume, self.size[self.findUltimateParent((i, j))])\n",
    "\n",
    "    def unionBySize(self, c1: tuple[int, int], c2: tuple[int, int]) -> None:\n",
    "        up1, up2 = self.findUltimateParent(c1), self.findUltimateParent(c2)\n",
    "        s1, s2 = self.size[up1], self.size[up2]\n",
    "        if up1 == up2:\n",
    "            return\n",
    "        elif s1 > s2:\n",
    "            self.parent[up2] = up1\n",
    "            self.size[up1] += self.size[up2]\n",
    "        else:\n",
    "            self.parent[up1] = up2\n",
    "            self.size[up2] += self.size[up1]\n",
    "\n",
    "        # Update the max volume\n",
    "        self.max_volume = max(self.max_volume, self.size[up1], self.size[up2])\n",
    "\n",
    "    def findUltimateParent(self, cell: tuple[int, int]) -> tuple[int, int]:\n",
    "        if cell not in self.parent:\n",
    "            self.parent[cell] = cell\n",
    "            self.size[cell] = self.grid[cell[0]][cell[1]]\n",
    "\n",
    "        if cell == self.parent[cell]:\n",
    "            return cell\n",
    "        else:\n",
    "            self.parent[cell] = self.findUltimateParent(self.parent[cell])\n",
    "            return self.parent[cell]\n",
    "\n",
    "# Testing the solution\n",
    "assert DisjointSetLakes(3, 3, [[1,2,0],[3,4,0],[0,0,5]]).max_volume == 10\n",
    "assert DisjointSetLakes(1, 1, [[9]]).max_volume == 9\n",
    "assert DisjointSetLakes(3, 3, [[0,1,1],[1,0,1],[1,1,1]]).max_volume == 7\n",
    "assert DisjointSetLakes(5, 5, [[1,1,1,1,1],[1,0,0,0,1],[1,0,5,0,1],[1,0,0,0,1],[1,1,1,1,1]]).max_volume == 16"
   ]
  }
 ],
 "metadata": {
  "jupytext": {
   "extension": ".py",
   "format_name": "percent",
   "format_version": "1.3",
   "jupytext_version": "1.15.2"
  },
  "kernelspec": {
   "display_name": "Python 3 (ipykernel)",
   "language": "python",
   "name": "python3"
  },
  "language_info": {
   "codemirror_mode": {
    "name": "ipython",
    "version": 3
   },
   "file_extension": ".py",
   "mimetype": "text/x-python",
   "name": "python",
   "nbconvert_exporter": "python",
   "pygments_lexer": "ipython3",
   "version": "3.11.9"
  },
  "papermill": {
   "default_parameters": {},
   "duration": 2.222585,
   "end_time": "2024-06-18T17:45:16.821355",
   "environment_variables": {},
   "exception": null,
   "input_path": "practice/004.ipynb",
   "output_path": "practice/004.ipynb",
   "parameters": {},
   "start_time": "2024-06-18T17:45:14.598770",
   "version": "2.6.0"
  }
 },
 "nbformat": 4,
 "nbformat_minor": 5
}