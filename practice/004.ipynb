{
 "cells": [
  {
   "cell_type": "code",
   "execution_count": null,
   "id": "f5041045",
   "metadata": {
    "papermill": {
     "duration": 0.396546,
     "end_time": "2024-06-12T17:57:53.299105",
     "exception": false,
     "start_time": "2024-06-12T17:57:52.902559",
     "status": "completed"
    }
   },
   "outputs": [],
   "source": [
    "from typing import List, Optional, Generator\n",
    "import pandas as pd\n",
    "import numpy as np\n",
    "import sqlite3\n",
    "import re\n",
    "import io\n",
    "import math\n",
    "import collections\n",
    "import itertools\n",
    "import functools\n",
    "import random\n",
    "import string\n",
    "import tqdm\n",
    "import bisect\n",
    "import heapq\n",
    "\n",
    "conn = sqlite3.connect(\":memory:\")\n",
    "\n",
    "def regexp(expr, item):\n",
    "    reg = re.compile(expr)\n",
    "    return reg.search(item) is not None\n",
    "\n",
    "def read_lc_df(s: str, dtypes: dict[str, str]=dict()) -> pd.DataFrame:\n",
    "    temp = pd.read_csv(io.StringIO(s), sep=\"|\", skiprows=2)\n",
    "    temp = temp.iloc[1:-1, 1:-1]\n",
    "    temp.columns = temp.columns.map(str.strip)\n",
    "    temp = temp.map(lambda x: x if type(x) != str else None if x.strip() == 'null' else x.strip())\n",
    "    temp = temp.astype(dtypes)\n",
    "    return temp\n",
    "\n",
    "conn.create_function(\"REGEXP\", 2, regexp)"
   ]
  },
  {
   "cell_type": "markdown",
   "id": "89b1f5ee",
   "metadata": {
    "papermill": {
     "duration": 0.006917,
     "end_time": "2024-06-12T17:57:53.313407",
     "exception": false,
     "start_time": "2024-06-12T17:57:53.306490",
     "status": "completed"
    }
   },
   "source": [
    "#### Helper for Binary tree problems"
   ]
  },
  {
   "cell_type": "code",
   "execution_count": null,
   "id": "00237943",
   "metadata": {
    "lines_to_next_cell": 1,
    "papermill": {
     "duration": 0.016793,
     "end_time": "2024-06-12T17:57:53.336993",
     "exception": false,
     "start_time": "2024-06-12T17:57:53.320200",
     "status": "completed"
    }
   },
   "outputs": [],
   "source": [
    "class BinaryTreeNode:\n",
    "    def __init__(self, val=0, left=None, right=None):\n",
    "        self.val = val\n",
    "        self.left = left\n",
    "        self.right = right\n",
    "\n",
    "    def to_list(self):\n",
    "        to_visit = [self]\n",
    "        visited = []\n",
    "        while len(to_visit) > 0:\n",
    "            curr = to_visit.pop(0)\n",
    "            if curr:\n",
    "                to_visit.append(curr.left)\n",
    "                to_visit.append(curr.right)\n",
    "                visited.append(curr.val)\n",
    "            else:\n",
    "                visited.append(curr)\n",
    "\n",
    "        while visited and not visited[-1]:\n",
    "            visited.pop()\n",
    "\n",
    "        return visited\n",
    "\n",
    "    def __str__(self):\n",
    "        return str(self.val)\n",
    "\n",
    "    @staticmethod\n",
    "    def from_array(nums: list[int|None]):\n",
    "        '''Create a Tree from a list of nums. Returns the root node.'''\n",
    "        if len(nums) == 0:\n",
    "            return None\n",
    "        elif len(nums) == 1:\n",
    "            return BinaryTreeNode(nums[0])\n",
    "        else:\n",
    "            forest = [BinaryTreeNode(nums[0])]\n",
    "            parent_idx = -1\n",
    "            for i in range(1, len(nums)):\n",
    "\n",
    "                curr = None\n",
    "                if nums[i] is not None:\n",
    "                    curr = BinaryTreeNode(nums[i])\n",
    "                    forest.append(curr)\n",
    "\n",
    "                if i % 2 == 1:\n",
    "                    parent_idx += 1\n",
    "                    forest[parent_idx].left = curr\n",
    "                else:\n",
    "                    forest[parent_idx].right = curr\n",
    "\n",
    "        return forest[0]"
   ]
  },
  {
   "cell_type": "markdown",
   "id": "cdca4176",
   "metadata": {
    "papermill": {
     "duration": 0.006865,
     "end_time": "2024-06-12T17:57:53.350863",
     "exception": false,
     "start_time": "2024-06-12T17:57:53.343998",
     "status": "completed"
    }
   },
   "source": [
    "#### Helper for Singly Linked lists"
   ]
  },
  {
   "cell_type": "code",
   "execution_count": null,
   "id": "70173286",
   "metadata": {
    "lines_to_next_cell": 1,
    "papermill": {
     "duration": 0.013173,
     "end_time": "2024-06-12T17:57:53.370724",
     "exception": false,
     "start_time": "2024-06-12T17:57:53.357551",
     "status": "completed"
    }
   },
   "outputs": [],
   "source": [
    "class ListNode:\n",
    "    def __init__(self, val=0, next=None):\n",
    "        self.val = val\n",
    "        self.next = next\n",
    "\n",
    "    def __str__(self):\n",
    "        return str(self.val)\n",
    "\n",
    "    @staticmethod\n",
    "    def to_singly_linked_list(nums: list[int]):\n",
    "        root = prev = None\n",
    "        for n in nums:\n",
    "            curr = ListNode(n)\n",
    "            # Init once\n",
    "            if not root:\n",
    "                root = curr\n",
    "            if prev:\n",
    "                prev.next = curr\n",
    "            prev = curr\n",
    "\n",
    "        return root\n",
    "\n",
    "    def to_list(self) -> list[int]:\n",
    "        result = []\n",
    "        curr = self\n",
    "        while curr:\n",
    "            result.append(curr.val)\n",
    "            curr = curr.next\n",
    "        return result"
   ]
  },
  {
   "cell_type": "markdown",
   "id": "3d9185fc",
   "metadata": {
    "papermill": {
     "duration": 0.006837,
     "end_time": "2024-06-12T17:57:53.384468",
     "exception": false,
     "start_time": "2024-06-12T17:57:53.377631",
     "status": "completed"
    }
   },
   "source": [
    "#### Utility to generate random BST"
   ]
  },
  {
   "cell_type": "code",
   "execution_count": null,
   "id": "0bdbe591",
   "metadata": {
    "lines_to_next_cell": 1,
    "papermill": {
     "duration": 0.013655,
     "end_time": "2024-06-12T17:57:53.404905",
     "exception": false,
     "start_time": "2024-06-12T17:57:53.391250",
     "status": "completed"
    }
   },
   "outputs": [],
   "source": [
    "def generateBST(N: int, min_: int, max_: int) -> BinaryTreeNode|None:\n",
    "    def insert(curr: BinaryTreeNode|None, n: int) -> BinaryTreeNode:\n",
    "        if not curr:\n",
    "            curr = BinaryTreeNode(n)\n",
    "        elif curr.val < n:\n",
    "            curr.right = insert(curr.right, n)\n",
    "        else:\n",
    "            curr.left = insert(curr.left, n)\n",
    "\n",
    "        return curr\n",
    "\n",
    "    assert N <= max_ - min_, \"Number of available samples must be >= N\"\n",
    "    root: BinaryTreeNode|None = None\n",
    "    for n in np.random.choice(np.arange(min_, max_), size=N, replace=False):\n",
    "        root = insert(root, n)\n",
    "\n",
    "    return root"
   ]
  },
  {
   "cell_type": "markdown",
   "id": "a8f93a5d",
   "metadata": {},
   "source": [
    "LC Medium: Longest Substring with atleast K repeating characters"
   ]
  },
  {
   "cell_type": "code",
   "execution_count": null,
   "id": "23964a8c",
   "metadata": {
    "lines_to_next_cell": 1
   },
   "outputs": [],
   "source": [
    "# https://leetcode.com/problems/longest-substring-with-at-least-k-repeating-characters/\n",
    "# https://leetcode.com/problems/longest-substring-with-at-least-k-repeating-characters/submissions/1286506890\n",
    "def longestSubstring(s: str, k: int) -> int:\n",
    "    \"\"\"\n",
    "    Count the freq of all characters, split on the characters with freq < k\n",
    "    \"\"\"\n",
    "    N = len(s)\n",
    "\n",
    "    # Count the freq\n",
    "    freq: collections.Counter = collections.Counter(s)\n",
    "    is_valid = not any(map(lambda x: x < k, freq.values()))\n",
    "\n",
    "    # If the entire string is okay, return length as answer\n",
    "    if is_valid:\n",
    "        return N\n",
    "\n",
    "    # Split on the invalid characters and backtrack inside\n",
    "    else:\n",
    "        max_length = start_idx = 0\n",
    "        for curr_idx in range(N):\n",
    "            if 0 < freq[s[curr_idx]] < k:\n",
    "                max_length = max(max_length, longestSubstring(s[start_idx:curr_idx], k))\n",
    "                start_idx = curr_idx + 1\n",
    "\n",
    "        max_length = max(max_length, longestSubstring(s[start_idx:], k))\n",
    "        return max_length\n",
    "\n",
    "# Tesitng the solution\n",
    "assert longestSubstring(\"aaabb\", 3) == 3\n",
    "assert longestSubstring(\"ababbc\", 2) == 5\n",
    "assert longestSubstring(\"bbaaa\", 3) == 3"
   ]
  },
  {
   "cell_type": "markdown",
   "id": "16f91bfd",
   "metadata": {},
   "source": [
    "LC Virtual - 4: Weekly Contest 5\n",
    "https://leetcode.com/contest/leetcode-weekly-contest-5/"
   ]
  },
  {
   "cell_type": "code",
   "execution_count": null,
   "id": "5f3397e5",
   "metadata": {
    "lines_to_next_cell": 1
   },
   "outputs": [],
   "source": [
    "# Q4: Frog Jump\n",
    "def canCrossRecursive(stones: list[int]) -> bool:\n",
    "    @functools.cache\n",
    "    def backtrack(n: int, jump: int) -> bool:\n",
    "        if jump < 0:\n",
    "            return False\n",
    "        elif n == stones[-1]:\n",
    "            return True\n",
    "        else:\n",
    "            if n + jump - 1 in positions and backtrack(n + jump - 1, jump - 1):\n",
    "                return True\n",
    "            elif jump > 0 and n + jump in positions and backtrack(n + jump, jump):\n",
    "                return True\n",
    "            elif n + jump + 1 in positions and backtrack(n + jump + 1, jump + 1):\n",
    "                return True\n",
    "            else:\n",
    "                return False\n",
    "\n",
    "    N = len(stones)\n",
    "    positions: dict[int, int] = {n: i for i, n in enumerate(stones)}\n",
    "    return len(stones) <= 1 or backtrack(stones[0], 0)\n",
    "\n",
    "# Testing the solution\n",
    "assert canCrossRecursive([0,1,3,5,6,8,12,17]) == True\n",
    "assert canCrossRecursive([0,1,2,3,4,8,9,11]) == False\n",
    "assert canCrossRecursive([]) == True\n",
    "assert canCrossRecursive([100]) == True\n",
    "assert canCrossRecursive([0,2]) == False"
   ]
  },
  {
   "cell_type": "code",
   "execution_count": null,
   "id": "da3eab6b",
   "metadata": {
    "lines_to_next_cell": 1
   },
   "outputs": [],
   "source": [
    "def canCrossTabulation(stones: list[int]) -> bool:\n",
    "    N = len(stones)\n",
    "    positions: dict[int, int] = {n: i for i, n in enumerate(stones)}\n",
    "    dp: list[list[bool]] = [[False if stones[i] != stones[-1] else True for jump in range(N + 2)] for i in range(N)]\n",
    "    for i in range(N - 2, -1, -1):\n",
    "        for jump in range(N):\n",
    "            n = stones[i]\n",
    "            if n + jump - 1 in positions:\n",
    "                dp[i][jump] = dp[i][jump] or dp[positions[n + jump - 1]][jump - 1]\n",
    "            if jump > 0 and n + jump in positions:\n",
    "                dp[i][jump] = dp[i][jump] or dp[positions[n + jump]][jump]\n",
    "            if n + jump + 1 in positions:\n",
    "                dp[i][jump] = dp[i][jump] or dp[positions[n + jump + 1]][jump + 1]\n",
    "\n",
    "    return len(stones) <= 1 or dp[0][0]\n",
    "\n",
    "# Testing the solution\n",
    "assert canCrossTabulation([0,1,3,5,6,8,12,17]) == True\n",
    "assert canCrossTabulation([0,1,2,3,4,8,9,11]) == False\n",
    "assert canCrossTabulation([]) == True\n",
    "assert canCrossTabulation([100]) == True\n",
    "assert canCrossTabulation([0,2]) == False"
   ]
  },
  {
   "cell_type": "code",
   "execution_count": null,
   "id": "8e3cb455",
   "metadata": {
    "lines_to_next_cell": 1
   },
   "outputs": [],
   "source": [
    "# Q3: Remove K digits\n",
    "def removeKdigits(num: str, k: int) -> str:\n",
    "    pass"
   ]
  },
  {
   "cell_type": "code",
   "execution_count": null,
   "id": "efb9691f",
   "metadata": {
    "lines_to_next_cell": 1
   },
   "outputs": [],
   "source": [
    "# Q1: Find Nth Digit\n",
    "def findNthDigit(N: int) -> int:\n",
    "    def countDigitsBefore(n: int) -> int:\n",
    "        if n < 10:\n",
    "            return n\n",
    "        else:\n",
    "            n_digits = math.floor(math.log10(n)) + 1\n",
    "            smallest_n_digit_number = 10 ** (n_digits - 1)\n",
    "            n_digits_before = (n - smallest_n_digit_number + 1) * n_digits\n",
    "            return n_digits_before + countDigitsBefore(smallest_n_digit_number - 1)\n",
    "\n",
    "    # Binary search\n",
    "    low, high = 1, N\n",
    "    while low <= high:\n",
    "        mid = (low + high) // 2\n",
    "        count = countDigitsBefore(mid)\n",
    "        if count == N:\n",
    "            return mid % 10\n",
    "        elif count < N:\n",
    "            low = mid + 1\n",
    "        else:\n",
    "            high = mid - 1\n",
    "\n",
    "    delta = countDigitsBefore(low) - N\n",
    "    return int(str(low)[-delta-1])\n",
    "\n",
    "# Testing the solution\n",
    "assert findNthDigit(11) == 0\n",
    "assert findNthDigit(3) == 3"
   ]
  },
  {
   "cell_type": "code",
   "execution_count": null,
   "id": "39a65b0e",
   "metadata": {},
   "outputs": [],
   "source": [
    "# Q2: Binary Watch\n",
    "def readBinaryWatch(turnedOn: int) -> set[str]:\n",
    "    watch: list[bool] = [False for i in range(10)]\n",
    "    result: set[str] = set()\n",
    "    def backtrack(lights: int) -> None:\n",
    "        if lights == 0:\n",
    "            hour = minute = 0\n",
    "            for i in range(10):\n",
    "                if watch[i]:\n",
    "                    if i < 4:\n",
    "                        hour += 2 ** (3 - i)\n",
    "                    else:\n",
    "                        minute += 2 ** (9 - i)\n",
    "\n",
    "            if 0 <= hour < 12 and 0 <= minute <= 59:\n",
    "                result.add(f\"{hour}:{str(minute).zfill(2)}\")\n",
    "\n",
    "        else:\n",
    "            for i in range(10):\n",
    "                if not watch[i]:\n",
    "                    watch[i] = True\n",
    "                    backtrack(lights - 1)\n",
    "                    watch[i] = False\n",
    "\n",
    "    backtrack(turnedOn)\n",
    "    return result\n",
    "\n",
    "# Testing the solution\n",
    "assert sorted(readBinaryWatch(1)) == sorted([\"0:01\",\"0:02\",\"0:04\",\"0:08\",\"0:16\",\"0:32\",\"1:00\",\"2:00\",\"4:00\",\"8:00\"])"
   ]
  }
 ],
 "metadata": {
  "kernelspec": {
   "display_name": "Python 3 (ipykernel)",
   "language": "python",
   "name": "python3"
  }
 },
 "nbformat": 4,
 "nbformat_minor": 2
}
