{
 "cells": [
  {
   "cell_type": "code",
   "execution_count": 1,
   "id": "ff4e246c",
   "metadata": {
    "execution": {
     "iopub.execute_input": "2024-06-20T16:42:52.208736Z",
     "iopub.status.busy": "2024-06-20T16:42:52.208334Z",
     "iopub.status.idle": "2024-06-20T16:42:52.561628Z",
     "shell.execute_reply": "2024-06-20T16:42:52.561026Z"
    },
    "papermill": {
     "duration": 0.364607,
     "end_time": "2024-06-20T16:42:52.563214",
     "exception": false,
     "start_time": "2024-06-20T16:42:52.198607",
     "status": "completed"
    },
    "tags": []
   },
   "outputs": [],
   "source": [
    "from typing import List, Optional, Generator\n",
    "import pandas as pd\n",
    "import numpy as np\n",
    "import sqlite3\n",
    "import re\n",
    "import io\n",
    "import math\n",
    "import collections\n",
    "import itertools\n",
    "import functools\n",
    "import random\n",
    "import string\n",
    "import tqdm\n",
    "import bisect\n",
    "import heapq\n",
    "\n",
    "conn = sqlite3.connect(\":memory:\")\n",
    "\n",
    "def regexp(expr, item):\n",
    "    reg = re.compile(expr)\n",
    "    return reg.search(item) is not None\n",
    "\n",
    "def read_lc_df(s: str, dtypes: dict[str, str]=dict()) -> pd.DataFrame:\n",
    "    temp = pd.read_csv(io.StringIO(s), sep=\"|\", skiprows=2)\n",
    "    temp = temp.iloc[1:-1, 1:-1]\n",
    "    temp.columns = temp.columns.map(str.strip)\n",
    "    temp = temp.map(lambda x: x if type(x) != str else None if x.strip() == 'null' else x.strip())\n",
    "    temp = temp.astype(dtypes)\n",
    "    return temp\n",
    "\n",
    "conn.create_function(\"REGEXP\", 2, regexp)"
   ]
  },
  {
   "cell_type": "markdown",
   "id": "2e7ac16e",
   "metadata": {
    "papermill": {
     "duration": 0.007067,
     "end_time": "2024-06-20T16:42:52.578010",
     "exception": false,
     "start_time": "2024-06-20T16:42:52.570943",
     "status": "completed"
    },
    "tags": []
   },
   "source": [
    "#### Helper for Binary tree problems"
   ]
  },
  {
   "cell_type": "code",
   "execution_count": 2,
   "id": "3f0a4700",
   "metadata": {
    "execution": {
     "iopub.execute_input": "2024-06-20T16:42:52.593538Z",
     "iopub.status.busy": "2024-06-20T16:42:52.593007Z",
     "iopub.status.idle": "2024-06-20T16:42:52.600471Z",
     "shell.execute_reply": "2024-06-20T16:42:52.600015Z"
    },
    "lines_to_next_cell": 1,
    "papermill": {
     "duration": 0.016481,
     "end_time": "2024-06-20T16:42:52.601566",
     "exception": false,
     "start_time": "2024-06-20T16:42:52.585085",
     "status": "completed"
    },
    "tags": []
   },
   "outputs": [],
   "source": [
    "class BinaryTreeNode:\n",
    "    def __init__(self, val=0, left=None, right=None):\n",
    "        self.val = val\n",
    "        self.left = left\n",
    "        self.right = right\n",
    "\n",
    "    def to_list(self):\n",
    "        to_visit = [self]\n",
    "        visited = []\n",
    "        while len(to_visit) > 0:\n",
    "            curr = to_visit.pop(0)\n",
    "            if curr:\n",
    "                to_visit.append(curr.left)\n",
    "                to_visit.append(curr.right)\n",
    "                visited.append(curr.val)\n",
    "            else:\n",
    "                visited.append(curr)\n",
    "\n",
    "        while visited and not visited[-1]:\n",
    "            visited.pop()\n",
    "\n",
    "        return visited\n",
    "\n",
    "    def __str__(self):\n",
    "        return str(self.val)\n",
    "\n",
    "    @staticmethod\n",
    "    def from_array(nums: list[int|None]):\n",
    "        '''Create a Tree from a list of nums. Returns the root node.'''\n",
    "        if len(nums) == 0:\n",
    "            return None\n",
    "        elif len(nums) == 1:\n",
    "            return BinaryTreeNode(nums[0])\n",
    "        else:\n",
    "            forest = [BinaryTreeNode(nums[0])]\n",
    "            parent_idx = -1\n",
    "            for i in range(1, len(nums)):\n",
    "\n",
    "                curr = None\n",
    "                if nums[i] is not None:\n",
    "                    curr = BinaryTreeNode(nums[i])\n",
    "                    forest.append(curr)\n",
    "\n",
    "                if i % 2 == 1:\n",
    "                    parent_idx += 1\n",
    "                    forest[parent_idx].left = curr\n",
    "                else:\n",
    "                    forest[parent_idx].right = curr\n",
    "\n",
    "        return forest[0]"
   ]
  },
  {
   "cell_type": "markdown",
   "id": "db1734cd",
   "metadata": {
    "papermill": {
     "duration": 0.007162,
     "end_time": "2024-06-20T16:42:52.615922",
     "exception": false,
     "start_time": "2024-06-20T16:42:52.608760",
     "status": "completed"
    },
    "tags": []
   },
   "source": [
    "#### Helper for Singly Linked lists"
   ]
  },
  {
   "cell_type": "code",
   "execution_count": 3,
   "id": "8492ea44",
   "metadata": {
    "execution": {
     "iopub.execute_input": "2024-06-20T16:42:52.631021Z",
     "iopub.status.busy": "2024-06-20T16:42:52.630797Z",
     "iopub.status.idle": "2024-06-20T16:42:52.635390Z",
     "shell.execute_reply": "2024-06-20T16:42:52.634938Z"
    },
    "lines_to_next_cell": 1,
    "papermill": {
     "duration": 0.013498,
     "end_time": "2024-06-20T16:42:52.636463",
     "exception": false,
     "start_time": "2024-06-20T16:42:52.622965",
     "status": "completed"
    },
    "tags": []
   },
   "outputs": [],
   "source": [
    "class ListNode:\n",
    "    def __init__(self, val=0, next=None):\n",
    "        self.val = val\n",
    "        self.next = next\n",
    "\n",
    "    def __str__(self):\n",
    "        return str(self.val)\n",
    "\n",
    "    @staticmethod\n",
    "    def to_singly_linked_list(nums: list[int]):\n",
    "        root = prev = None\n",
    "        for n in nums:\n",
    "            curr = ListNode(n)\n",
    "            # Init once\n",
    "            if not root:\n",
    "                root = curr\n",
    "            if prev:\n",
    "                prev.next = curr\n",
    "            prev = curr\n",
    "\n",
    "        return root\n",
    "\n",
    "    def to_list(self) -> list[int]:\n",
    "        result = []\n",
    "        curr = self\n",
    "        while curr:\n",
    "            result.append(curr.val)\n",
    "            curr = curr.next\n",
    "        return result"
   ]
  },
  {
   "cell_type": "markdown",
   "id": "4299ad4a",
   "metadata": {
    "papermill": {
     "duration": 0.006924,
     "end_time": "2024-06-20T16:42:52.650463",
     "exception": false,
     "start_time": "2024-06-20T16:42:52.643539",
     "status": "completed"
    },
    "tags": []
   },
   "source": [
    "#### Utility to generate random BST"
   ]
  },
  {
   "cell_type": "code",
   "execution_count": 4,
   "id": "0882390e",
   "metadata": {
    "execution": {
     "iopub.execute_input": "2024-06-20T16:42:52.665451Z",
     "iopub.status.busy": "2024-06-20T16:42:52.665114Z",
     "iopub.status.idle": "2024-06-20T16:42:52.669689Z",
     "shell.execute_reply": "2024-06-20T16:42:52.669160Z"
    },
    "lines_to_next_cell": 1,
    "papermill": {
     "duration": 0.013579,
     "end_time": "2024-06-20T16:42:52.670926",
     "exception": false,
     "start_time": "2024-06-20T16:42:52.657347",
     "status": "completed"
    },
    "tags": []
   },
   "outputs": [],
   "source": [
    "def generateBST(N: int, min_: int, max_: int) -> BinaryTreeNode|None:\n",
    "    def insert(curr: BinaryTreeNode|None, n: int) -> BinaryTreeNode:\n",
    "        if not curr:\n",
    "            curr = BinaryTreeNode(n)\n",
    "        elif curr.val < n:\n",
    "            curr.right = insert(curr.right, n)\n",
    "        else:\n",
    "            curr.left = insert(curr.left, n)\n",
    "\n",
    "        return curr\n",
    "\n",
    "    assert N <= max_ - min_, \"Number of available samples must be >= N\"\n",
    "    root: BinaryTreeNode|None = None\n",
    "    for n in np.random.choice(np.arange(min_, max_), size=N, replace=False):\n",
    "        root = insert(root, n)\n",
    "\n",
    "    return root"
   ]
  },
  {
   "cell_type": "markdown",
   "id": "d111cefb",
   "metadata": {
    "papermill": {
     "duration": 0.007136,
     "end_time": "2024-06-20T16:42:52.685300",
     "exception": false,
     "start_time": "2024-06-20T16:42:52.678164",
     "status": "completed"
    },
    "tags": []
   },
   "source": [
    "LC Medium: Longest Substring with atleast K repeating characters"
   ]
  },
  {
   "cell_type": "code",
   "execution_count": 5,
   "id": "bdbcc4a8",
   "metadata": {
    "execution": {
     "iopub.execute_input": "2024-06-20T16:42:52.700510Z",
     "iopub.status.busy": "2024-06-20T16:42:52.700041Z",
     "iopub.status.idle": "2024-06-20T16:42:52.705320Z",
     "shell.execute_reply": "2024-06-20T16:42:52.704851Z"
    },
    "lines_to_next_cell": 1,
    "papermill": {
     "duration": 0.014193,
     "end_time": "2024-06-20T16:42:52.706436",
     "exception": false,
     "start_time": "2024-06-20T16:42:52.692243",
     "status": "completed"
    },
    "tags": []
   },
   "outputs": [],
   "source": [
    "# https://leetcode.com/problems/longest-substring-with-at-least-k-repeating-characters/\n",
    "# https://leetcode.com/problems/longest-substring-with-at-least-k-repeating-characters/submissions/1286506890\n",
    "def longestSubstring(s: str, k: int) -> int:\n",
    "    \"\"\"\n",
    "    Count the freq of all characters, split on the characters with freq < k\n",
    "    \"\"\"\n",
    "    N = len(s)\n",
    "\n",
    "    # Count the freq\n",
    "    freq: collections.Counter = collections.Counter(s)\n",
    "    is_valid = not any(map(lambda x: x < k, freq.values()))\n",
    "\n",
    "    # If the entire string is okay, return length as answer\n",
    "    if is_valid:\n",
    "        return N\n",
    "\n",
    "    # Split on the invalid characters and backtrack inside\n",
    "    else:\n",
    "        max_length = start_idx = 0\n",
    "        for curr_idx in range(N):\n",
    "            if 0 < freq[s[curr_idx]] < k:\n",
    "                max_length = max(max_length, longestSubstring(s[start_idx:curr_idx], k))\n",
    "                start_idx = curr_idx + 1\n",
    "\n",
    "        max_length = max(max_length, longestSubstring(s[start_idx:], k))\n",
    "        return max_length\n",
    "\n",
    "# Tesitng the solution\n",
    "assert longestSubstring(\"aaabb\", 3) == 3\n",
    "assert longestSubstring(\"ababbc\", 2) == 5\n",
    "assert longestSubstring(\"bbaaa\", 3) == 3"
   ]
  },
  {
   "cell_type": "markdown",
   "id": "ff630a5c",
   "metadata": {
    "papermill": {
     "duration": 0.006966,
     "end_time": "2024-06-20T16:42:52.720468",
     "exception": false,
     "start_time": "2024-06-20T16:42:52.713502",
     "status": "completed"
    },
    "tags": []
   },
   "source": [
    "LC Virtual - 4: Weekly Contest 5\n",
    "https://leetcode.com/contest/leetcode-weekly-contest-5/"
   ]
  },
  {
   "cell_type": "code",
   "execution_count": 6,
   "id": "186e9992",
   "metadata": {
    "execution": {
     "iopub.execute_input": "2024-06-20T16:42:52.735825Z",
     "iopub.status.busy": "2024-06-20T16:42:52.735354Z",
     "iopub.status.idle": "2024-06-20T16:42:52.743561Z",
     "shell.execute_reply": "2024-06-20T16:42:52.743011Z"
    },
    "lines_to_next_cell": 1,
    "papermill": {
     "duration": 0.017145,
     "end_time": "2024-06-20T16:42:52.744615",
     "exception": false,
     "start_time": "2024-06-20T16:42:52.727470",
     "status": "completed"
    },
    "tags": []
   },
   "outputs": [],
   "source": [
    "# Q4: Frog Jump\n",
    "def canCrossRecursive(stones: list[int]) -> bool:\n",
    "    @functools.cache\n",
    "    def backtrack(n: int, jump: int) -> bool:\n",
    "        if jump < 0:\n",
    "            return False\n",
    "        elif n == stones[-1]:\n",
    "            return True\n",
    "        else:\n",
    "            if n + jump - 1 in positions and backtrack(n + jump - 1, jump - 1):\n",
    "                return True\n",
    "            elif jump > 0 and n + jump in positions and backtrack(n + jump, jump):\n",
    "                return True\n",
    "            elif n + jump + 1 in positions and backtrack(n + jump + 1, jump + 1):\n",
    "                return True\n",
    "            else:\n",
    "                return False\n",
    "\n",
    "    N = len(stones)\n",
    "    positions: dict[int, int] = {n: i for i, n in enumerate(stones)}\n",
    "    return len(stones) <= 1 or backtrack(stones[0], 0)\n",
    "\n",
    "# Testing the solution\n",
    "assert canCrossRecursive([0,1,3,5,6,8,12,17]) == True\n",
    "assert canCrossRecursive([0,1,2,3,4,8,9,11]) == False\n",
    "assert canCrossRecursive([]) == True\n",
    "assert canCrossRecursive([100]) == True\n",
    "assert canCrossRecursive([0,2]) == False"
   ]
  },
  {
   "cell_type": "code",
   "execution_count": 7,
   "id": "14bb91a7",
   "metadata": {
    "execution": {
     "iopub.execute_input": "2024-06-20T16:42:52.760165Z",
     "iopub.status.busy": "2024-06-20T16:42:52.759760Z",
     "iopub.status.idle": "2024-06-20T16:42:52.766508Z",
     "shell.execute_reply": "2024-06-20T16:42:52.766057Z"
    },
    "lines_to_next_cell": 1,
    "papermill": {
     "duration": 0.01586,
     "end_time": "2024-06-20T16:42:52.767630",
     "exception": false,
     "start_time": "2024-06-20T16:42:52.751770",
     "status": "completed"
    },
    "tags": []
   },
   "outputs": [],
   "source": [
    "def canCrossTabulation(stones: list[int]) -> bool:\n",
    "    N = len(stones)\n",
    "    positions: dict[int, int] = {n: i for i, n in enumerate(stones)}\n",
    "    dp: list[list[bool]] = [[False if stones[i] != stones[-1] else True for jump in range(N + 2)] for i in range(N)]\n",
    "    for i in range(N - 2, -1, -1):\n",
    "        for jump in range(N):\n",
    "            n = stones[i]\n",
    "            if n + jump - 1 in positions:\n",
    "                dp[i][jump] = dp[i][jump] or dp[positions[n + jump - 1]][jump - 1]\n",
    "            if jump > 0 and n + jump in positions:\n",
    "                dp[i][jump] = dp[i][jump] or dp[positions[n + jump]][jump]\n",
    "            if n + jump + 1 in positions:\n",
    "                dp[i][jump] = dp[i][jump] or dp[positions[n + jump + 1]][jump + 1]\n",
    "\n",
    "    return len(stones) <= 1 or dp[0][0]\n",
    "\n",
    "# Testing the solution\n",
    "assert canCrossTabulation([0,1,3,5,6,8,12,17]) == True\n",
    "assert canCrossTabulation([0,1,2,3,4,8,9,11]) == False\n",
    "assert canCrossTabulation([]) == True\n",
    "assert canCrossTabulation([100]) == True\n",
    "assert canCrossTabulation([0,2]) == False"
   ]
  },
  {
   "cell_type": "code",
   "execution_count": 8,
   "id": "a756a694",
   "metadata": {
    "execution": {
     "iopub.execute_input": "2024-06-20T16:42:52.782923Z",
     "iopub.status.busy": "2024-06-20T16:42:52.782345Z",
     "iopub.status.idle": "2024-06-20T16:42:52.785411Z",
     "shell.execute_reply": "2024-06-20T16:42:52.784889Z"
    },
    "lines_to_next_cell": 1,
    "papermill": {
     "duration": 0.01174,
     "end_time": "2024-06-20T16:42:52.786438",
     "exception": false,
     "start_time": "2024-06-20T16:42:52.774698",
     "status": "completed"
    },
    "tags": []
   },
   "outputs": [],
   "source": [
    "# Q3: Remove K digits\n",
    "def removeKdigits(num: str, k: int) -> str:\n",
    "    pass"
   ]
  },
  {
   "cell_type": "code",
   "execution_count": 9,
   "id": "258ef565",
   "metadata": {
    "execution": {
     "iopub.execute_input": "2024-06-20T16:42:52.801774Z",
     "iopub.status.busy": "2024-06-20T16:42:52.801439Z",
     "iopub.status.idle": "2024-06-20T16:42:52.806588Z",
     "shell.execute_reply": "2024-06-20T16:42:52.806128Z"
    },
    "lines_to_next_cell": 1,
    "papermill": {
     "duration": 0.014073,
     "end_time": "2024-06-20T16:42:52.807691",
     "exception": false,
     "start_time": "2024-06-20T16:42:52.793618",
     "status": "completed"
    },
    "tags": []
   },
   "outputs": [],
   "source": [
    "# Q1: Find Nth Digit\n",
    "def findNthDigit(N: int) -> int:\n",
    "    def countDigitsBefore(n: int) -> int:\n",
    "        if n < 10:\n",
    "            return n\n",
    "        else:\n",
    "            n_digits = math.floor(math.log10(n)) + 1\n",
    "            smallest_n_digit_number = 10 ** (n_digits - 1)\n",
    "            n_digits_before = (n - smallest_n_digit_number + 1) * n_digits\n",
    "            return n_digits_before + countDigitsBefore(smallest_n_digit_number - 1)\n",
    "\n",
    "    # Binary search\n",
    "    low, high = 1, N\n",
    "    while low <= high:\n",
    "        mid = (low + high) // 2\n",
    "        count = countDigitsBefore(mid)\n",
    "        if count == N:\n",
    "            return mid % 10\n",
    "        elif count < N:\n",
    "            low = mid + 1\n",
    "        else:\n",
    "            high = mid - 1\n",
    "\n",
    "    delta = countDigitsBefore(low) - N\n",
    "    return int(str(low)[-delta-1])\n",
    "\n",
    "# Testing the solution\n",
    "assert findNthDigit(11) == 0\n",
    "assert findNthDigit(3) == 3"
   ]
  },
  {
   "cell_type": "code",
   "execution_count": 10,
   "id": "76b61cf9",
   "metadata": {
    "execution": {
     "iopub.execute_input": "2024-06-20T16:42:52.822929Z",
     "iopub.status.busy": "2024-06-20T16:42:52.822466Z",
     "iopub.status.idle": "2024-06-20T16:42:52.827953Z",
     "shell.execute_reply": "2024-06-20T16:42:52.827423Z"
    },
    "lines_to_next_cell": 1,
    "papermill": {
     "duration": 0.014257,
     "end_time": "2024-06-20T16:42:52.829075",
     "exception": false,
     "start_time": "2024-06-20T16:42:52.814818",
     "status": "completed"
    },
    "tags": []
   },
   "outputs": [],
   "source": [
    "# Q2: Binary Watch\n",
    "def readBinaryWatch(turnedOn: int) -> set[str]:\n",
    "    watch: list[bool] = [False for i in range(10)]\n",
    "    result: set[str] = set()\n",
    "    def backtrack(lights: int) -> None:\n",
    "        if lights == 0:\n",
    "            hour = minute = 0\n",
    "            for i in range(10):\n",
    "                if watch[i]:\n",
    "                    if i < 4:\n",
    "                        hour += 2 ** (3 - i)\n",
    "                    else:\n",
    "                        minute += 2 ** (9 - i)\n",
    "\n",
    "            if 0 <= hour < 12 and 0 <= minute <= 59:\n",
    "                result.add(f\"{hour}:{str(minute).zfill(2)}\")\n",
    "\n",
    "        else:\n",
    "            for i in range(10):\n",
    "                if not watch[i]:\n",
    "                    watch[i] = True\n",
    "                    backtrack(lights - 1)\n",
    "                    watch[i] = False\n",
    "\n",
    "    backtrack(turnedOn)\n",
    "    return result\n",
    "\n",
    "# Testing the solution\n",
    "assert sorted(readBinaryWatch(1)) == sorted([\"0:01\",\"0:02\",\"0:04\",\"0:08\",\"0:16\",\"0:32\",\"1:00\",\"2:00\",\"4:00\",\"8:00\"])"
   ]
  },
  {
   "cell_type": "markdown",
   "id": "35e89076",
   "metadata": {
    "papermill": {
     "duration": 0.006972,
     "end_time": "2024-06-20T16:42:52.843131",
     "exception": false,
     "start_time": "2024-06-20T16:42:52.836159",
     "status": "completed"
    },
    "tags": []
   },
   "source": [
    "Minimum no of moves to seat everyone \n",
    "https://leetcode.com/problems/minimum-number-of-moves-to-seat-everyone"
   ]
  },
  {
   "cell_type": "code",
   "execution_count": 11,
   "id": "1cec1bdc",
   "metadata": {
    "execution": {
     "iopub.execute_input": "2024-06-20T16:42:52.858392Z",
     "iopub.status.busy": "2024-06-20T16:42:52.857976Z",
     "iopub.status.idle": "2024-06-20T16:42:52.862477Z",
     "shell.execute_reply": "2024-06-20T16:42:52.861923Z"
    },
    "lines_to_next_cell": 1,
    "papermill": {
     "duration": 0.013453,
     "end_time": "2024-06-20T16:42:52.863622",
     "exception": false,
     "start_time": "2024-06-20T16:42:52.850169",
     "status": "completed"
    },
    "tags": []
   },
   "outputs": [],
   "source": [
    "def minMovesToSeat(seats: list[int], students: list[int]) -> int:\n",
    "    # Compute length\n",
    "    N = len(seats)\n",
    "\n",
    "    # Sort both to ensure that we get the minimal distances\n",
    "    seats.sort()\n",
    "    students.sort()\n",
    "\n",
    "    # Compute abs distance between seats and students\n",
    "    moves = 0\n",
    "    for i in range(N):\n",
    "        moves += abs(seats[i] - students[i])\n",
    "    return moves\n",
    "\n",
    "# Testing the solution\n",
    "assert minMovesToSeat([3,1,5], [2,7,4]) == 4\n",
    "assert minMovesToSeat([2,2,6,6], [1,3,2,6]) == 4"
   ]
  },
  {
   "cell_type": "markdown",
   "id": "8c387dd2",
   "metadata": {
    "papermill": {
     "duration": 0.006968,
     "end_time": "2024-06-20T16:42:52.877663",
     "exception": false,
     "start_time": "2024-06-20T16:42:52.870695",
     "status": "completed"
    },
    "tags": []
   },
   "source": [
    "LC Medium: Minimum increment to make array unique\n",
    "https://leetcode.com/problems/minimum-increment-to-make-array-unique"
   ]
  },
  {
   "cell_type": "code",
   "execution_count": 12,
   "id": "3f1753a0",
   "metadata": {
    "execution": {
     "iopub.execute_input": "2024-06-20T16:42:52.892880Z",
     "iopub.status.busy": "2024-06-20T16:42:52.892385Z",
     "iopub.status.idle": "2024-06-20T16:42:52.897348Z",
     "shell.execute_reply": "2024-06-20T16:42:52.896918Z"
    },
    "lines_to_next_cell": 1,
    "papermill": {
     "duration": 0.013806,
     "end_time": "2024-06-20T16:42:52.898443",
     "exception": false,
     "start_time": "2024-06-20T16:42:52.884637",
     "status": "completed"
    },
    "tags": []
   },
   "outputs": [],
   "source": [
    "def minIncrementForUnique(nums: list[int]) -> int:\n",
    "    # Count freq & unique values present\n",
    "    counts: dict[int, int] = dict()\n",
    "    unique: set[int] = set()\n",
    "    for n in nums:\n",
    "        counts[n] = counts.get(n, 0) + 1\n",
    "        unique.add(n)\n",
    "\n",
    "    # If count of any number is greater than 1, shift right\n",
    "    moves = 0\n",
    "    while unique:\n",
    "        key = unique.pop()\n",
    "        count = counts.pop(key)\n",
    "        if count > 1:\n",
    "            shift = count - 1\n",
    "            moves += shift\n",
    "            counts[key + 1] = counts.get(key + 1, 0) + shift\n",
    "            unique.add(key + 1)\n",
    "\n",
    "    return moves\n",
    "\n",
    "# Testing the solution\n",
    "assert minIncrementForUnique([1,2,2]) == 1\n",
    "assert minIncrementForUnique([3,2,1,2,1,7]) == 6\n",
    "assert minIncrementForUnique([1,2,2,5,5]) == 2"
   ]
  },
  {
   "cell_type": "markdown",
   "id": "5e9474a6",
   "metadata": {
    "papermill": {
     "duration": 0.007062,
     "end_time": "2024-06-20T16:42:52.912755",
     "exception": false,
     "start_time": "2024-06-20T16:42:52.905693",
     "status": "completed"
    },
    "tags": []
   },
   "source": [
    "Maximum Gap\n",
    "https://leetcode.com/problems/maximum-gap/"
   ]
  },
  {
   "cell_type": "code",
   "execution_count": 13,
   "id": "f9795b8e",
   "metadata": {
    "execution": {
     "iopub.execute_input": "2024-06-20T16:42:52.927937Z",
     "iopub.status.busy": "2024-06-20T16:42:52.927538Z",
     "iopub.status.idle": "2024-06-20T16:42:52.933695Z",
     "shell.execute_reply": "2024-06-20T16:42:52.933219Z"
    },
    "lines_to_next_cell": 1,
    "papermill": {
     "duration": 0.014985,
     "end_time": "2024-06-20T16:42:52.934755",
     "exception": false,
     "start_time": "2024-06-20T16:42:52.919770",
     "status": "completed"
    },
    "tags": []
   },
   "outputs": [],
   "source": [
    "# https://leetcode.com/problems/maximum-gap/submissions/1288173457/\n",
    "def maximumGap(nums: list[int]) -> int:\n",
    "    \"\"\"\n",
    "    1. Maximum gap is always greater than or equal to ceil((max - min) / N)\n",
    "        - Divide N nums into N - 1 groups\n",
    "        - If evenly distributed, each elements would be in a different bucket (1 element in each bucket)\n",
    "        - If unevenly distributed, two or more buckets would have multiple elements. Some buckets may not have any elements - max gap could occur betweeen left and right of the missing buckets\n",
    "    2. Consequently we only need to store the min and max of each bucket\n",
    "    \"\"\"\n",
    "    N, high, low = len(nums), max(nums), min(nums)\n",
    "    bucket_size = math.ceil((high - low) / N)\n",
    "    buckets: dict[int, tuple[int, int]] = {}\n",
    "\n",
    "    # Edge case\n",
    "    if bucket_size == 0:\n",
    "        return 0\n",
    "\n",
    "    # Group the numbers into buckets\n",
    "    for n in nums:\n",
    "        index = n // bucket_size\n",
    "        min_, max_ = buckets.get(index, ((index + 1) * bucket_size, (index - 1) * bucket_size))\n",
    "        min_, max_ = min(min_, n), max(max_, n)\n",
    "        buckets[index] = (min_, max_)\n",
    "\n",
    "    # Iterate through each and find the max gap\n",
    "    curr, end = low // bucket_size, high // bucket_size\n",
    "    max_gap = 0\n",
    "    while curr < end:\n",
    "        next_ = curr + 1\n",
    "        while next_ not in buckets:\n",
    "            next_ += 1\n",
    "        curr, max_gap = next_, max(max_gap, buckets[next_][0] - buckets[curr][1])\n",
    "\n",
    "    return max_gap\n",
    "\n",
    "# Testing the solution\n",
    "assert maximumGap([3,14,15,83,6,4,19,20,40]) == 43\n",
    "assert maximumGap([3,6,9,1]) == 3\n",
    "assert maximumGap([10]) == 0"
   ]
  },
  {
   "cell_type": "markdown",
   "id": "2de5b7ba",
   "metadata": {
    "papermill": {
     "duration": 0.00695,
     "end_time": "2024-06-20T16:42:52.948795",
     "exception": false,
     "start_time": "2024-06-20T16:42:52.941845",
     "status": "completed"
    },
    "tags": []
   },
   "source": [
    "LC Virtual - 5: Weekly Contest 6\n",
    "https://leetcode.com/contest/leetcode-weekly-contest-6/"
   ]
  },
  {
   "cell_type": "code",
   "execution_count": 14,
   "id": "02ae7259",
   "metadata": {
    "execution": {
     "iopub.execute_input": "2024-06-20T16:42:52.964132Z",
     "iopub.status.busy": "2024-06-20T16:42:52.963623Z",
     "iopub.status.idle": "2024-06-20T16:42:52.968938Z",
     "shell.execute_reply": "2024-06-20T16:42:52.968374Z"
    },
    "lines_to_next_cell": 1,
    "papermill": {
     "duration": 0.014258,
     "end_time": "2024-06-20T16:42:52.970049",
     "exception": false,
     "start_time": "2024-06-20T16:42:52.955791",
     "status": "completed"
    },
    "tags": []
   },
   "outputs": [],
   "source": [
    "# Q1: Sum of left leaves\n",
    "def sumOfLeftLeaves(root: BinaryTreeNode) -> int:\n",
    "    def backtrack(curr: BinaryTreeNode) -> tuple[int, int]:\n",
    "        if not curr:\n",
    "            return 0, -1\n",
    "        else:\n",
    "            left_sum, left_type = backtrack(curr.left)\n",
    "            right_sum, right_type = backtrack(curr.right)\n",
    "            curr_type, total = 0 if left_type == -1 and right_type == -1 else 1, 0\n",
    "            if curr_type == 0:\n",
    "                total += curr.val\n",
    "            if left_type != -1:\n",
    "                total += left_sum\n",
    "            if right_type >= 1:\n",
    "                total += right_sum\n",
    "            result = total, curr_type\n",
    "            return result\n",
    "\n",
    "    return backtrack(root)[0] if root.left or root.right else 0\n",
    "\n",
    "# Testing the solution\n",
    "assert sumOfLeftLeaves(BinaryTreeNode.from_array([3,9,20,None,None,15,7])) == 24\n",
    "assert sumOfLeftLeaves(BinaryTreeNode.from_array([1])) == 0"
   ]
  },
  {
   "cell_type": "code",
   "execution_count": 15,
   "id": "eaa96394",
   "metadata": {
    "execution": {
     "iopub.execute_input": "2024-06-20T16:42:52.985318Z",
     "iopub.status.busy": "2024-06-20T16:42:52.984887Z",
     "iopub.status.idle": "2024-06-20T16:42:52.989548Z",
     "shell.execute_reply": "2024-06-20T16:42:52.989106Z"
    },
    "lines_to_next_cell": 1,
    "papermill": {
     "duration": 0.013479,
     "end_time": "2024-06-20T16:42:52.990625",
     "exception": false,
     "start_time": "2024-06-20T16:42:52.977146",
     "status": "completed"
    },
    "tags": []
   },
   "outputs": [],
   "source": [
    "# Q2: Convert to hexadecimal\n",
    "def toHex(num: int) -> str:\n",
    "    # If negative, find hex for its 2's compliment\n",
    "    if num < 0:\n",
    "        bit_length = 32\n",
    "        num &= (2 << bit_length - 1) - 1\n",
    "\n",
    "    # Use division method\n",
    "    division_result: list[int] = []\n",
    "    while num >= 16:\n",
    "        num, rem = num // 16, num % 16\n",
    "        division_result.append(rem)\n",
    "    division_result.append(num)\n",
    "    division_result.reverse()\n",
    "\n",
    "    # Convert to hexadecimal string\n",
    "    mapping = {i: str(i) for i in range(0, 10)} | {i: chr(ord('a') + i - 10) for i in range(10, 16)}\n",
    "    return ''.join(map(lambda x: mapping[x], division_result))\n",
    "\n",
    "# Testing the solution\n",
    "assert toHex(26) == \"1a\"\n",
    "assert toHex(-1) == \"ffffffff\""
   ]
  },
  {
   "cell_type": "code",
   "execution_count": 16,
   "id": "69bb828f",
   "metadata": {
    "execution": {
     "iopub.execute_input": "2024-06-20T16:42:53.005805Z",
     "iopub.status.busy": "2024-06-20T16:42:53.005350Z",
     "iopub.status.idle": "2024-06-20T16:42:53.012390Z",
     "shell.execute_reply": "2024-06-20T16:42:53.011944Z"
    },
    "lines_to_next_cell": 1,
    "papermill": {
     "duration": 0.015767,
     "end_time": "2024-06-20T16:42:53.013445",
     "exception": false,
     "start_time": "2024-06-20T16:42:52.997678",
     "status": "completed"
    },
    "tags": []
   },
   "outputs": [],
   "source": [
    "# Q3: Queue Reconstruction by Height\n",
    "def reconstructQueue(people: list[list[int]]) -> list[list[int]]:\n",
    "    N = len(people)\n",
    "\n",
    "    # Sort to find the relative height ordering\n",
    "    people.sort()\n",
    "\n",
    "    # Iterate from shortest to tallest, keeping track of number of person with height equal to curr\n",
    "    eq_front = []\n",
    "    prev, eq_count = -1, 0\n",
    "    for i in range(N):\n",
    "        if people[i][0] == prev:\n",
    "            eq_count += 1\n",
    "        else:\n",
    "            eq_count = 0\n",
    "        prev = people[i][0]\n",
    "        eq_front.append(eq_count)\n",
    "\n",
    "    # Insert into queue in correct order\n",
    "    result: list[list[int]] = []\n",
    "    while eq_front:\n",
    "        actual, (height, expected) = eq_front.pop(), people.pop()\n",
    "        if expected == actual:\n",
    "            result.append([height, expected])\n",
    "        else:\n",
    "            temp: list[list[int]] = []\n",
    "            for i in range(expected - actual):\n",
    "                temp.append(result.pop())\n",
    "            result.append([height, expected])\n",
    "            while temp:\n",
    "                result.append(temp.pop())\n",
    "\n",
    "    result.reverse()\n",
    "    return result\n",
    "\n",
    "# Testing the solution\n",
    "assert reconstructQueue([[7,0],[4,4],[7,1],[5,0],[6,1],[5,2]]) == [[5,0],[7,0],[5,2],[6,1],[4,4],[7,1]]\n",
    "assert reconstructQueue([[6,0],[5,0],[4,0],[3,2],[2,2],[1,4]]) == [[4,0],[5,0],[2,2],[3,2],[1,4],[6,0]]"
   ]
  },
  {
   "cell_type": "markdown",
   "id": "5b1cd8d3",
   "metadata": {
    "papermill": {
     "duration": 0.007032,
     "end_time": "2024-06-20T16:42:53.027746",
     "exception": false,
     "start_time": "2024-06-20T16:42:53.020714",
     "status": "completed"
    },
    "tags": []
   },
   "source": [
    "Trapping Rain water - II (Upsolving)\n",
    "https://leetcode.com/problems/trapping-rain-water-ii/"
   ]
  },
  {
   "cell_type": "code",
   "execution_count": null,
   "id": "16a2bb8e",
   "metadata": {
    "papermill": {
     "duration": 0.00686,
     "end_time": "2024-06-20T16:42:53.041542",
     "exception": false,
     "start_time": "2024-06-20T16:42:53.034682",
     "status": "completed"
    },
    "tags": []
   },
   "outputs": [],
   "source": []
  },
  {
   "cell_type": "code",
   "execution_count": 17,
   "id": "1d0cafe4",
   "metadata": {
    "execution": {
     "iopub.execute_input": "2024-06-20T16:42:53.056879Z",
     "iopub.status.busy": "2024-06-20T16:42:53.056376Z",
     "iopub.status.idle": "2024-06-20T16:42:53.065223Z",
     "shell.execute_reply": "2024-06-20T16:42:53.064774Z"
    },
    "lines_to_next_cell": 1,
    "papermill": {
     "duration": 0.017758,
     "end_time": "2024-06-20T16:42:53.066322",
     "exception": false,
     "start_time": "2024-06-20T16:42:53.048564",
     "status": "completed"
    },
    "tags": []
   },
   "outputs": [],
   "source": [
    "# Q4: Trapping Rain water - II\n",
    "# https://leetcode.com/problems/trapping-rain-water-ii/solutions/1138028/python3-visualization-bfs-solution-with-explanation\n",
    "def trapRainWater(heightMap: list[list[int]]) -> int:\n",
    "    N, M = len(heightMap), len(heightMap[0])\n",
    "    visited: set[tuple[int, int]] = set()\n",
    "\n",
    "    # Add boundary cells to heap, heap: Height, i, j\n",
    "    heap: list[tuple[int, int, int]] = []\n",
    "    for i in range(N):\n",
    "        for j in range(M):\n",
    "            if i in (0, N - 1) or j in (0, M - 1):\n",
    "                heapq.heappush(heap, (heightMap[i][j], i, j))\n",
    "                visited.add((i, j))\n",
    "\n",
    "    level = volume = 0\n",
    "    while heap:\n",
    "        height, x, y = heapq.heappop(heap)\n",
    "        level = max(level, height)\n",
    "        for i, j in [(x - 1, y), (x + 1, y), (x, y - 1), (x, y + 1)]:\n",
    "            if 0 <= i < N and 0 <= j < M and (i, j) not in visited:\n",
    "                next_height = heightMap[i][j]\n",
    "                if next_height < level:\n",
    "                    volume += level - next_height\n",
    "                visited.add((i, j))\n",
    "                heapq.heappush(heap, (next_height, i, j))\n",
    "\n",
    "    return volume\n",
    "\n",
    "# Testing the solution\n",
    "assert trapRainWater([[1,4,3,1,3,2],[3,2,1,3,2,4],[2,3,3,2,3,1]]) == 4\n",
    "assert trapRainWater([[3,3,3,3,3],[3,2,2,2,3],[3,2,1,2,3],[3,2,2,2,3],[3,3,3,3,3]]) == 10\n",
    "assert trapRainWater([[12,13,1,12],[13,4,13,12],[13,8,10,12],[12,13,12,12],[13,13,13,13]]) == 14\n",
    "assert trapRainWater([[5,5,5,1],[5,1,1,5],[5,1,5,5],[5,2,5,8]]) == 3\n",
    "assert trapRainWater([[14,17,18,16,14,16],[17,3,10,2,3,8],[11,10,4,7,1,7],[13,7,2,9,8,10],[13,1,3,4,8,6],[20,3,3,9,10,8]]) == 25"
   ]
  },
  {
   "cell_type": "markdown",
   "id": "666f4a63",
   "metadata": {
    "papermill": {
     "duration": 0.007003,
     "end_time": "2024-06-20T16:42:53.080412",
     "exception": false,
     "start_time": "2024-06-20T16:42:53.073409",
     "status": "completed"
    },
    "tags": []
   },
   "source": [
    "https://leetcode.com/contest/leetcode-weekly-contest-8/problems/pacific-atlantic-water-flow/"
   ]
  },
  {
   "cell_type": "code",
   "execution_count": 18,
   "id": "d1cd9722",
   "metadata": {
    "execution": {
     "iopub.execute_input": "2024-06-20T16:42:53.095761Z",
     "iopub.status.busy": "2024-06-20T16:42:53.095264Z",
     "iopub.status.idle": "2024-06-20T16:42:53.105558Z",
     "shell.execute_reply": "2024-06-20T16:42:53.105091Z"
    },
    "lines_to_next_cell": 1,
    "papermill": {
     "duration": 0.019281,
     "end_time": "2024-06-20T16:42:53.106675",
     "exception": false,
     "start_time": "2024-06-20T16:42:53.087394",
     "status": "completed"
    },
    "tags": []
   },
   "outputs": [
    {
     "data": {
      "text/plain": [
       "{(0, 4), (1, 3), (1, 4), (2, 2), (3, 0), (3, 1), (4, 0)}"
      ]
     },
     "execution_count": 18,
     "metadata": {},
     "output_type": "execute_result"
    }
   ],
   "source": [
    "def pacificAtlantic(heights: list[list[int]]) -> set[tuple[int, int]]:\n",
    "    def DFS(to_visit: list[tuple[int, int]]) -> set[tuple[int, int]]:\n",
    "        visited: set[tuple[int, int]] = set()\n",
    "        while to_visit:\n",
    "            x, y = to_visit.pop()\n",
    "            visited.add((x, y))\n",
    "            for i, j in [(x, y + 1), (x, y - 1), (x + 1, y), (x - 1, y)]:\n",
    "                if 0 <= i < N and 0 <= j < M and (i, j) not in visited and heights[i][j] >= heights[x][y]:\n",
    "                    to_visit.append((i, j))\n",
    "\n",
    "        return visited\n",
    "\n",
    "    N, M = len(heights), len(heights[0])\n",
    "\n",
    "    pacific: set[tuple[int, int]] = DFS([(0, i) for i in range(M)] + [(i, 0) for i in range(N)])\n",
    "    atlantic: set[tuple[int, int]] = DFS([(N - 1, i) for i in range(M)] + [(i, M - 1) for i in range(N)])\n",
    "\n",
    "    return set.intersection(pacific, atlantic)\n",
    "\n",
    "# Testing the soluiton\n",
    "pacificAtlantic([[1,2,2,3,5],[3,2,3,4,4],[2,4,5,3,1],[6,7,1,4,5],[5,1,1,2,4]])"
   ]
  },
  {
   "cell_type": "code",
   "execution_count": 19,
   "id": "308c8c47",
   "metadata": {
    "execution": {
     "iopub.execute_input": "2024-06-20T16:42:53.122278Z",
     "iopub.status.busy": "2024-06-20T16:42:53.121902Z",
     "iopub.status.idle": "2024-06-20T16:42:53.126828Z",
     "shell.execute_reply": "2024-06-20T16:42:53.126348Z"
    },
    "lines_to_next_cell": 1,
    "papermill": {
     "duration": 0.013878,
     "end_time": "2024-06-20T16:42:53.127892",
     "exception": false,
     "start_time": "2024-06-20T16:42:53.114014",
     "status": "completed"
    },
    "tags": []
   },
   "outputs": [],
   "source": [
    "# https://leetcode.com/contest/leetcode-weekly-contest-8/problems/sentence-screen-fitting/\n",
    "def sentenceScreenFitting(sentence: list[str], rows: int, cols: int) -> int:\n",
    "    n_words = len(sentence)\n",
    "    word_length: list[int] = list(map(len, sentence))\n",
    "    word_idx = n_sentences = 0\n",
    "\n",
    "    row_pending = rows\n",
    "    while row_pending > 0:\n",
    "        col_pending = cols\n",
    "        while col_pending > 0:\n",
    "\n",
    "            if word_length[word_idx] <= col_pending:\n",
    "                col_pending -= word_length[word_idx]\n",
    "                word_idx += 1\n",
    "\n",
    "                if col_pending > 0:\n",
    "                    col_pending -= 1\n",
    "\n",
    "            else:\n",
    "                col_pending = 0\n",
    "\n",
    "            if word_idx == n_words:\n",
    "                word_idx = 0\n",
    "                n_sentences += 1\n",
    "\n",
    "        row_pending -= 1\n",
    "\n",
    "    return n_sentences\n",
    "\n",
    "# Testing the solution\n",
    "assert sentenceScreenFitting([\"hello\",\"world\"], 2, 8) == 1\n",
    "assert sentenceScreenFitting([\"a\", \"bcd\", \"e\"], 3, 6) == 2\n",
    "assert sentenceScreenFitting([\"i\",\"had\",\"apple\",\"pie\"], 4, 5) == 1"
   ]
  },
  {
   "cell_type": "markdown",
   "id": "01322001",
   "metadata": {
    "papermill": {
     "duration": 0.007289,
     "end_time": "2024-06-20T16:42:53.160318",
     "exception": false,
     "start_time": "2024-06-20T16:42:53.153029",
     "status": "completed"
    },
    "tags": []
   },
   "source": [
    "Codeforces: https://codeforces.com/problemset/problem/1843/C"
   ]
  },
  {
   "cell_type": "code",
   "execution_count": 20,
   "id": "f5edd897",
   "metadata": {
    "execution": {
     "iopub.execute_input": "2024-06-20T16:42:53.176150Z",
     "iopub.status.busy": "2024-06-20T16:42:53.175597Z",
     "iopub.status.idle": "2024-06-20T16:42:53.179852Z",
     "shell.execute_reply": "2024-06-20T16:42:53.179381Z"
    },
    "lines_to_next_cell": 1,
    "papermill": {
     "duration": 0.013458,
     "end_time": "2024-06-20T16:42:53.180901",
     "exception": false,
     "start_time": "2024-06-20T16:42:53.167443",
     "status": "completed"
    },
    "tags": []
   },
   "outputs": [],
   "source": [
    "def sumBinaryTree(n: int) -> int:\n",
    "    if n == 1:\n",
    "        return 1\n",
    "    elif n % 2 == 0:\n",
    "        return n + sumBinaryTree(n // 2)\n",
    "    else:\n",
    "        return n + sumBinaryTree((n - 1) // 2)\n",
    "\n",
    "# Testing the solution\n",
    "assert sumBinaryTree(37) == 71\n",
    "assert sumBinaryTree(10000000000000000) == 19999999999999980\n",
    "assert sumBinaryTree(15) == 26"
   ]
  },
  {
   "cell_type": "code",
   "execution_count": 21,
   "id": "79065385",
   "metadata": {
    "execution": {
     "iopub.execute_input": "2024-06-20T16:42:53.196989Z",
     "iopub.status.busy": "2024-06-20T16:42:53.196415Z",
     "iopub.status.idle": "2024-06-20T16:42:53.200793Z",
     "shell.execute_reply": "2024-06-20T16:42:53.200225Z"
    },
    "lines_to_next_cell": 1,
    "papermill": {
     "duration": 0.013626,
     "end_time": "2024-06-20T16:42:53.201876",
     "exception": false,
     "start_time": "2024-06-20T16:42:53.188250",
     "status": "completed"
    },
    "tags": []
   },
   "outputs": [],
   "source": [
    "def insertionInBST(curr: BinaryTreeNode, val: int):\n",
    "    if not curr:\n",
    "        curr = BinaryTreeNode(val)\n",
    "    elif curr.val < val:\n",
    "        curr.right = insertionInBST(curr.right, val)\n",
    "    else:\n",
    "        curr.left = insertionInBST(curr.left, val)\n",
    "    return curr\n",
    "\n",
    "# Testing the solution\n",
    "assert insertionInBST(BinaryTreeNode.from_array([10, 2, 12, 1, 3, None, 13]), 11).to_list() == [10, 2, 12, 1, 3, 11, 13]"
   ]
  },
  {
   "cell_type": "markdown",
   "id": "ae24503f",
   "metadata": {
    "papermill": {
     "duration": 0.007283,
     "end_time": "2024-06-20T16:42:53.216766",
     "exception": false,
     "start_time": "2024-06-20T16:42:53.209483",
     "status": "completed"
    },
    "tags": []
   },
   "source": [
    "King Escape: https://codeforces.com/problemset/problem/1033/A"
   ]
  },
  {
   "cell_type": "code",
   "execution_count": 22,
   "id": "06da5999",
   "metadata": {
    "execution": {
     "iopub.execute_input": "2024-06-20T16:42:53.232820Z",
     "iopub.status.busy": "2024-06-20T16:42:53.232343Z",
     "iopub.status.idle": "2024-06-20T16:42:53.237160Z",
     "shell.execute_reply": "2024-06-20T16:42:53.236699Z"
    },
    "lines_to_next_cell": 1,
    "papermill": {
     "duration": 0.014157,
     "end_time": "2024-06-20T16:42:53.238275",
     "exception": false,
     "start_time": "2024-06-20T16:42:53.224118",
     "status": "completed"
    },
    "tags": []
   },
   "outputs": [],
   "source": [
    "def kingEscape(N: int, queen: tuple[int, int], king: tuple[int, int], target: tuple[int, int]) -> bool:\n",
    "    minX, maxX = min(king[0], target[0]), max(king[0], target[0])\n",
    "    minY, maxY = min(king[1], target[1]), max(king[1], target[1])\n",
    "    return not (minX < queen[0] < maxX or minY < queen[1] < maxY)\n",
    "\n",
    "# Testing the solution\n",
    "assert kingEscape(8, (4, 4), (1, 3), (3, 1)) == True\n",
    "assert kingEscape(8, (4, 4), (2, 3), (1, 6)) == False\n",
    "assert kingEscape(8, (3, 5), (1, 2), (6, 1)) == False"
   ]
  },
  {
   "cell_type": "markdown",
   "id": "c6a84986",
   "metadata": {
    "papermill": {
     "duration": 0.007056,
     "end_time": "2024-06-20T16:42:53.252715",
     "exception": false,
     "start_time": "2024-06-20T16:42:53.245659",
     "status": "completed"
    },
    "tags": []
   },
   "source": [
    "LC Medium: https://leetcode.com/problems/most-profit-assigning-work/submissions/1292541583"
   ]
  },
  {
   "cell_type": "code",
   "execution_count": 23,
   "id": "aa4fd57d",
   "metadata": {
    "execution": {
     "iopub.execute_input": "2024-06-20T16:42:53.268586Z",
     "iopub.status.busy": "2024-06-20T16:42:53.268098Z",
     "iopub.status.idle": "2024-06-20T16:42:53.274162Z",
     "shell.execute_reply": "2024-06-20T16:42:53.273623Z"
    },
    "lines_to_next_cell": 1,
    "papermill": {
     "duration": 0.015282,
     "end_time": "2024-06-20T16:42:53.275264",
     "exception": false,
     "start_time": "2024-06-20T16:42:53.259982",
     "status": "completed"
    },
    "tags": []
   },
   "outputs": [],
   "source": [
    "def maxProfitAssignment(difficulty: list[int], profit: list[int], worker: list[int]) -> int:\n",
    "    # Sort workers by their capacity\n",
    "    worker.sort()\n",
    "\n",
    "    # Sort jobs available based on their difficuly\n",
    "    jobs: list[tuple[int, int]] = sorted(zip(difficulty, profit))\n",
    "\n",
    "    # Use a two pointer approach - iterate through jobs adding to our maxHeap until diff cross what curr worker can handle\n",
    "    heap: list[int] = []\n",
    "    maxProfit = i = 0\n",
    "    for max_difficulty in worker:\n",
    "        while i < len(jobs) and jobs[i][0] <= max_difficulty:\n",
    "            heapq.heappush(heap, -jobs[i][1])\n",
    "            i += 1\n",
    "        maxProfit += -heap[0] if heap else 0\n",
    "\n",
    "    return maxProfit\n",
    "\n",
    "# Testing the solution\n",
    "assert maxProfitAssignment([2,4,6,8,10], [10,20,30,40,50], [4,5,6,7]) == 100\n",
    "assert maxProfitAssignment([85,47,57], [24,66,99], [40,25,25]) == 0\n",
    "assert maxProfitAssignment([13,37,58], [4,90,96], [34,73,45]) == 190\n",
    "assert maxProfitAssignment([68,35,52,47,86], [67,17,1,81,3], [92,10,85,84,82]) == 324"
   ]
  },
  {
   "cell_type": "markdown",
   "id": "9954a873",
   "metadata": {
    "papermill": {
     "duration": 0.007111,
     "end_time": "2024-06-20T16:42:53.289619",
     "exception": false,
     "start_time": "2024-06-20T16:42:53.282508",
     "status": "completed"
    },
    "tags": []
   },
   "source": [
    "https://codeforces.com/problemset/problem/1829/E"
   ]
  },
  {
   "cell_type": "code",
   "execution_count": 24,
   "id": "72ec16c8",
   "metadata": {
    "execution": {
     "iopub.execute_input": "2024-06-20T16:42:53.305092Z",
     "iopub.status.busy": "2024-06-20T16:42:53.304681Z",
     "iopub.status.idle": "2024-06-20T16:42:53.315053Z",
     "shell.execute_reply": "2024-06-20T16:42:53.314580Z"
    },
    "lines_to_next_cell": 1,
    "papermill": {
     "duration": 0.019409,
     "end_time": "2024-06-20T16:42:53.316133",
     "exception": false,
     "start_time": "2024-06-20T16:42:53.296724",
     "status": "completed"
    },
    "tags": []
   },
   "outputs": [],
   "source": [
    "class DisjointSetLakes:\n",
    "    def __init__(self, N: int, M: int, grid: list[list[int]]):\n",
    "        self.N, self.M = N, M\n",
    "        self.grid = grid\n",
    "        self.parent: dict[tuple[int, int], tuple[int, int]] = dict()\n",
    "        self.size: dict[tuple[int, int], int] = dict()\n",
    "        self.max_volume = 0\n",
    "        self.iterate_grid()\n",
    "\n",
    "    def is_valid(self, i: int, j: int) -> bool:\n",
    "        return 0 <= i < self.N and 0 <= j < self.M\n",
    "\n",
    "    def iterate_grid(self) -> None:\n",
    "        for i in range(self.N):\n",
    "            for j in range(self.M):\n",
    "                if self.grid[i][j] > 0:\n",
    "                    top, left = (i - 1, j), (i, j - 1)\n",
    "                    if self.is_valid(*top) and self.grid[top[0]][top[1]] > 0:\n",
    "                        self.unionBySize((i, j), top)\n",
    "                    if self.is_valid(*left) and self.grid[left[0]][left[1]] > 0:\n",
    "                        self.unionBySize((i, j), left)\n",
    "                    self.max_volume = max(self.max_volume, self.size[self.findUltimateParent((i, j))])\n",
    "\n",
    "    def unionBySize(self, c1: tuple[int, int], c2: tuple[int, int]) -> None:\n",
    "        up1, up2 = self.findUltimateParent(c1), self.findUltimateParent(c2)\n",
    "        s1, s2 = self.size[up1], self.size[up2]\n",
    "        if up1 == up2:\n",
    "            return\n",
    "        elif s1 > s2:\n",
    "            self.parent[up2] = up1\n",
    "            self.size[up1] += self.size[up2]\n",
    "        else:\n",
    "            self.parent[up1] = up2\n",
    "            self.size[up2] += self.size[up1]\n",
    "\n",
    "        # Update the max volume\n",
    "        self.max_volume = max(self.max_volume, self.size[up1], self.size[up2])\n",
    "\n",
    "    def findUltimateParent(self, cell: tuple[int, int]) -> tuple[int, int]:\n",
    "        if cell not in self.parent:\n",
    "            self.parent[cell] = cell\n",
    "            self.size[cell] = self.grid[cell[0]][cell[1]]\n",
    "\n",
    "        if cell == self.parent[cell]:\n",
    "            return cell\n",
    "        else:\n",
    "            self.parent[cell] = self.findUltimateParent(self.parent[cell])\n",
    "            return self.parent[cell]\n",
    "\n",
    "# Testing the solution\n",
    "assert DisjointSetLakes(3, 3, [[1,2,0],[3,4,0],[0,0,5]]).max_volume == 10\n",
    "assert DisjointSetLakes(1, 1, [[9]]).max_volume == 9\n",
    "assert DisjointSetLakes(3, 3, [[0,1,1],[1,0,1],[1,1,1]]).max_volume == 7\n",
    "assert DisjointSetLakes(5, 5, [[1,1,1,1,1],[1,0,0,0,1],[1,0,5,0,1],[1,0,0,0,1],[1,1,1,1,1]]).max_volume == 16"
   ]
  },
  {
   "cell_type": "code",
   "execution_count": 25,
   "id": "29c7843d",
   "metadata": {
    "execution": {
     "iopub.execute_input": "2024-06-20T16:42:53.331832Z",
     "iopub.status.busy": "2024-06-20T16:42:53.331338Z",
     "iopub.status.idle": "2024-06-20T16:42:53.338097Z",
     "shell.execute_reply": "2024-06-20T16:42:53.337652Z"
    },
    "lines_to_next_cell": 1,
    "papermill": {
     "duration": 0.015752,
     "end_time": "2024-06-20T16:42:53.339186",
     "exception": false,
     "start_time": "2024-06-20T16:42:53.323434",
     "status": "completed"
    },
    "tags": []
   },
   "outputs": [],
   "source": [
    "def maximumVolumeLake(N: int, M: int, grid: list[list[int]]) -> int:\n",
    "    def is_valid(i: int, j: int) -> bool:\n",
    "        return 0 <= i < N and 0 <= j < M\n",
    "\n",
    "    def DFS(i: int, j: int) -> int:\n",
    "        stack: list[tuple[int, int]] = [(i, j)]\n",
    "        volume: int = 0\n",
    "        while stack:\n",
    "            x, y = stack.pop()\n",
    "            volume += grid[x][y]\n",
    "            grid[x][y] = 0\n",
    "            for i, j in [(x, y - 1), (x, y + 1), (x - 1, y), (x + 1, y)]:\n",
    "                if is_valid(i, j) and grid[i][j] > 0:\n",
    "                    stack.append((i, j))\n",
    "\n",
    "        return volume\n",
    "\n",
    "    max_volume = 0\n",
    "    for i in range(N):\n",
    "        for j in range(M):\n",
    "            if grid[i][j] > 0:\n",
    "                max_volume = max(max_volume, DFS(i, j))\n",
    "\n",
    "    return max_volume\n",
    "\n",
    "# Testing the solution\n",
    "assert maximumVolumeLake(3, 3, [[1,2,0],[3,4,0],[0,0,5]])\n",
    "assert maximumVolumeLake(1, 1, [[9]]) == 9\n",
    "assert maximumVolumeLake(3, 3, [[0,1,1],[1,0,1],[1,1,1]]) == 7\n",
    "assert maximumVolumeLake(5, 5, [[1,1,1,1,1],[1,0,0,0,1],[1,0,5,0,1],[1,0,0,0,1],[1,1,1,1,1]]) == 16"
   ]
  },
  {
   "cell_type": "markdown",
   "id": "91c3306f",
   "metadata": {
    "papermill": {
     "duration": 0.007012,
     "end_time": "2024-06-20T16:42:53.353475",
     "exception": false,
     "start_time": "2024-06-20T16:42:53.346463",
     "status": "completed"
    },
    "tags": []
   },
   "source": [
    "LC Virtual: https://leetcode.com/contest/leetcode-weekly-contest-10/"
   ]
  },
  {
   "cell_type": "code",
   "execution_count": 26,
   "id": "1ce8fd77",
   "metadata": {
    "execution": {
     "iopub.execute_input": "2024-06-20T16:42:53.369060Z",
     "iopub.status.busy": "2024-06-20T16:42:53.368522Z",
     "iopub.status.idle": "2024-06-20T16:42:53.373911Z",
     "shell.execute_reply": "2024-06-20T16:42:53.373371Z"
    },
    "lines_to_next_cell": 1,
    "papermill": {
     "duration": 0.014498,
     "end_time": "2024-06-20T16:42:53.375116",
     "exception": false,
     "start_time": "2024-06-20T16:42:53.360618",
     "status": "completed"
    },
    "tags": []
   },
   "outputs": [],
   "source": [
    "# Q1: Island Perimeter\n",
    "def islandPerimeter(grid: list[list[int]]) -> int:\n",
    "    \"\"\"\n",
    "    Iterate through grid, count the number of sides covered with water\n",
    "    \"\"\"\n",
    "    N, M = len(grid), len(grid[0])\n",
    "    perimeter = 0\n",
    "    for i in range(N):\n",
    "        for j in range(M):\n",
    "            if grid[i][j] == 1:\n",
    "                for x, y in ((i, j - 1), (i, j + 1), (i - 1, j), (i + 1, j)):\n",
    "                    if x < 0 or y < 0 or x >= N or y >= M or grid[x][y] == 0:\n",
    "                        perimeter += 1\n",
    "\n",
    "    return perimeter\n",
    "\n",
    "# Testing the solution\n",
    "assert islandPerimeter([[0,1,0,0],[1,1,1,0],[0,1,0,0],[1,1,0,0]]) == 16\n",
    "assert islandPerimeter([[1]]) == 4\n",
    "assert islandPerimeter([[1,0]]) == 4"
   ]
  },
  {
   "cell_type": "code",
   "execution_count": 27,
   "id": "5b2c6c69",
   "metadata": {
    "execution": {
     "iopub.execute_input": "2024-06-20T16:42:53.390786Z",
     "iopub.status.busy": "2024-06-20T16:42:53.390413Z",
     "iopub.status.idle": "2024-06-20T16:42:53.396291Z",
     "shell.execute_reply": "2024-06-20T16:42:53.395756Z"
    },
    "lines_to_next_cell": 1,
    "papermill": {
     "duration": 0.014984,
     "end_time": "2024-06-20T16:42:53.397454",
     "exception": false,
     "start_time": "2024-06-20T16:42:53.382470",
     "status": "completed"
    },
    "tags": []
   },
   "outputs": [],
   "source": [
    "# Q2: Can I Win?\n",
    "def canIWinBrute(maxChoosableInteger: int, desiredTotal: int) -> bool:\n",
    "    @functools.cache\n",
    "    def backtrack(picked: tuple[bool, ...], total: int) -> bool:\n",
    "        for pick in range(1, maxChoosableInteger + 1):\n",
    "            if not picked[pick]:\n",
    "                if pick >= total:\n",
    "                    return True\n",
    "                else:\n",
    "                    new_picked = list(picked)\n",
    "                    new_picked[pick] = True\n",
    "                    otherWin = backtrack(tuple(new_picked), total - pick)\n",
    "                    if not otherWin:\n",
    "                        return True\n",
    "\n",
    "        return False\n",
    "\n",
    "    if (maxChoosableInteger * (maxChoosableInteger + 1)) // 2 < desiredTotal:\n",
    "        return False\n",
    "    else:\n",
    "        result = backtrack(tuple(False for i in range(maxChoosableInteger + 1)), desiredTotal)\n",
    "        return result\n",
    "\n",
    "# Testing the solution\n",
    "assert canIWinBrute(10, 11) == False\n",
    "assert canIWinBrute(10, 0) == True\n",
    "assert canIWinBrute(10, 40) == False"
   ]
  },
  {
   "cell_type": "code",
   "execution_count": 28,
   "id": "3c2e00b1",
   "metadata": {
    "execution": {
     "iopub.execute_input": "2024-06-20T16:42:53.413122Z",
     "iopub.status.busy": "2024-06-20T16:42:53.412676Z",
     "iopub.status.idle": "2024-06-20T16:42:53.417979Z",
     "shell.execute_reply": "2024-06-20T16:42:53.417530Z"
    },
    "lines_to_next_cell": 1,
    "papermill": {
     "duration": 0.014363,
     "end_time": "2024-06-20T16:42:53.419106",
     "exception": false,
     "start_time": "2024-06-20T16:42:53.404743",
     "status": "completed"
    },
    "tags": []
   },
   "outputs": [],
   "source": [
    "def canIWin(maxChoosableInteger: int, desiredTotal: int) -> bool:\n",
    "    @functools.cache\n",
    "    def backtrack(picked: int, total: int) -> bool:\n",
    "        for pick in range(1, maxChoosableInteger + 1):\n",
    "            mask = 1 << pick\n",
    "            if not (picked & mask):\n",
    "                if pick >= total:\n",
    "                    return True\n",
    "                else:\n",
    "                    otherWin = backtrack(picked | mask, total - pick)\n",
    "                    if not otherWin:\n",
    "                        return True\n",
    "\n",
    "        return False\n",
    "\n",
    "    if (maxChoosableInteger * (maxChoosableInteger + 1)) // 2 < desiredTotal:\n",
    "        return False\n",
    "    else:\n",
    "        result = backtrack(0, desiredTotal)\n",
    "        return result\n",
    "\n",
    "# Testing the solution\n",
    "assert canIWin(10, 11) == False\n",
    "assert canIWin(10, 0) == True\n",
    "assert canIWin(10, 40) == False"
   ]
  },
  {
   "cell_type": "code",
   "execution_count": 29,
   "id": "e8865870",
   "metadata": {
    "execution": {
     "iopub.execute_input": "2024-06-20T16:42:53.435466Z",
     "iopub.status.busy": "2024-06-20T16:42:53.434914Z",
     "iopub.status.idle": "2024-06-20T16:42:53.439542Z",
     "shell.execute_reply": "2024-06-20T16:42:53.438999Z"
    },
    "lines_to_next_cell": 1,
    "papermill": {
     "duration": 0.014069,
     "end_time": "2024-06-20T16:42:53.440755",
     "exception": false,
     "start_time": "2024-06-20T16:42:53.426686",
     "status": "completed"
    },
    "tags": []
   },
   "outputs": [],
   "source": [
    "# Q3: Min Moves 2\n",
    "def minMoves2(nums: list[int]) -> int:\n",
    "    # Find the middle element, convert all elements to this\n",
    "    nums.sort()\n",
    "\n",
    "    # Figure out the element in the middle\n",
    "    N = len(nums)\n",
    "    mid = nums[N // 2]\n",
    "\n",
    "    # Count total moves\n",
    "    moves = 0\n",
    "    for n in nums:\n",
    "        moves += abs(mid - n)\n",
    "\n",
    "    return moves\n",
    "\n",
    "# Testing the solution\n",
    "assert minMoves2([1,2,3]) == 2\n",
    "assert minMoves2([1,10,2,9]) == 16\n",
    "assert minMoves2([1]) == 0"
   ]
  },
  {
   "cell_type": "markdown",
   "id": "9b0e6f39",
   "metadata": {
    "papermill": {
     "duration": 0.007196,
     "end_time": "2024-06-20T16:42:53.455475",
     "exception": false,
     "start_time": "2024-06-20T16:42:53.448279",
     "status": "completed"
    },
    "tags": []
   },
   "source": [
    "Find the duplicate number"
   ]
  },
  {
   "cell_type": "code",
   "execution_count": 30,
   "id": "57fbf487",
   "metadata": {
    "execution": {
     "iopub.execute_input": "2024-06-20T16:42:53.471144Z",
     "iopub.status.busy": "2024-06-20T16:42:53.470665Z",
     "iopub.status.idle": "2024-06-20T16:42:53.474946Z",
     "shell.execute_reply": "2024-06-20T16:42:53.474364Z"
    },
    "lines_to_next_cell": 1,
    "papermill": {
     "duration": 0.013409,
     "end_time": "2024-06-20T16:42:53.476047",
     "exception": false,
     "start_time": "2024-06-20T16:42:53.462638",
     "status": "completed"
    },
    "tags": []
   },
   "outputs": [],
   "source": [
    "# This modifies the array\n",
    "def findDuplicateBetter(nums: list[int]) -> int:\n",
    "    idx = 0\n",
    "    while nums[idx] != -1:\n",
    "        nums[idx], idx = -1, nums[idx]\n",
    "\n",
    "    return idx\n",
    "\n",
    "# Testing the solution\n",
    "assert findDuplicateBetter([1,3,4,2,2]) == 2\n",
    "assert findDuplicateBetter([3,1,3,4,2]) == 3\n",
    "assert findDuplicateBetter([3,3,3,3,3]) == 3"
   ]
  },
  {
   "cell_type": "code",
   "execution_count": 31,
   "id": "c762a9a1",
   "metadata": {
    "execution": {
     "iopub.execute_input": "2024-06-20T16:42:53.492329Z",
     "iopub.status.busy": "2024-06-20T16:42:53.491877Z",
     "iopub.status.idle": "2024-06-20T16:42:53.496284Z",
     "shell.execute_reply": "2024-06-20T16:42:53.495760Z"
    },
    "lines_to_next_cell": 1,
    "papermill": {
     "duration": 0.013893,
     "end_time": "2024-06-20T16:42:53.497309",
     "exception": false,
     "start_time": "2024-06-20T16:42:53.483416",
     "status": "completed"
    },
    "tags": []
   },
   "outputs": [],
   "source": [
    "def findDuplicate(nums: list[int]) -> int:\n",
    "    slow, fast = nums[0], nums[nums[0]]\n",
    "\n",
    "    # Find point of collision\n",
    "    while fast != slow:\n",
    "        slow, fast = nums[slow], nums[nums[fast]]\n",
    "\n",
    "    # Find the start point of the loop\n",
    "    slow = 0\n",
    "    while slow != fast:\n",
    "        slow, fast = nums[slow], nums[fast]\n",
    "\n",
    "    return slow\n",
    "\n",
    "# Testing the solution\n",
    "assert findDuplicate([1,3,4,2,2]) == 2\n",
    "assert findDuplicate([3,1,3,4,2]) == 3\n",
    "assert findDuplicate([3,3,3,3,3]) == 3"
   ]
  },
  {
   "cell_type": "markdown",
   "id": "03c14a49",
   "metadata": {
    "papermill": {
     "duration": 0.007141,
     "end_time": "2024-06-20T16:42:53.511824",
     "exception": false,
     "start_time": "2024-06-20T16:42:53.504683",
     "status": "completed"
    },
    "tags": []
   },
   "source": [
    "Min cost tree from leaf nodes: https://leetcode.com/problems/minimum-cost-tree-from-leaf-values/solutions/340014/greedy-python-solution/"
   ]
  },
  {
   "cell_type": "code",
   "execution_count": 32,
   "id": "b2ff1b1e",
   "metadata": {
    "execution": {
     "iopub.execute_input": "2024-06-20T16:42:53.527670Z",
     "iopub.status.busy": "2024-06-20T16:42:53.527127Z",
     "iopub.status.idle": "2024-06-20T16:42:53.532428Z",
     "shell.execute_reply": "2024-06-20T16:42:53.531963Z"
    },
    "papermill": {
     "duration": 0.014384,
     "end_time": "2024-06-20T16:42:53.533483",
     "exception": false,
     "start_time": "2024-06-20T16:42:53.519099",
     "status": "completed"
    },
    "tags": []
   },
   "outputs": [],
   "source": [
    "def mctFromLeafValues(arr: list[int]) -> int:\n",
    "    \"\"\"\n",
    "    1. Take the smallest node from inorder arr.\n",
    "    2. Combine it with the smallest of its two neighbours. Pop the smallest, add smallest * smaller neighbour to total.\n",
    "    We pop it out since starting with next step, the min value would not be considered, since larger value would always be the 'largest' of the subtree.\n",
    "    3. Repeat until we have one element left, each time we compute the min index and combine it with its larger neighbour.\n",
    "    \"\"\"\n",
    "    def findMinNode(nums: list[int]) -> float:\n",
    "        idx, val = 0, nums[0]\n",
    "        for i in range(len(nums)):\n",
    "            if nums[i] < val:\n",
    "                idx, val = i, nums[i]\n",
    "\n",
    "        parent_node_val: float = val * min(nums[idx - 1] if idx - 1 >= 0 else math.inf, nums[idx + 1] if idx + 1 < len(nums) else math.inf)\n",
    "        nums.pop(idx)\n",
    "        return parent_node_val\n",
    "\n",
    "    non_leaf_sum: float = 0.\n",
    "    while len(arr) > 1:\n",
    "        non_leaf_sum += findMinNode(arr)\n",
    "\n",
    "    return int(non_leaf_sum)\n",
    "\n",
    "# Testing the solution\n",
    "assert mctFromLeafValues([6,2,4]) == 32\n",
    "assert mctFromLeafValues([4,11]) == 44"
   ]
  },
  {
   "cell_type": "markdown",
   "id": "9be7df76",
   "metadata": {
    "papermill": {
     "duration": 0.00708,
     "end_time": "2024-06-20T16:42:53.547877",
     "exception": false,
     "start_time": "2024-06-20T16:42:53.540797",
     "status": "completed"
    },
    "tags": []
   },
   "source": [
    "Time Based Key-Value Store"
   ]
  },
  {
   "cell_type": "code",
   "execution_count": 33,
   "id": "b5bcd113",
   "metadata": {
    "execution": {
     "iopub.execute_input": "2024-06-20T16:42:53.563298Z",
     "iopub.status.busy": "2024-06-20T16:42:53.562933Z",
     "iopub.status.idle": "2024-06-20T16:42:53.571147Z",
     "shell.execute_reply": "2024-06-20T16:42:53.570588Z"
    },
    "lines_to_next_cell": 1,
    "papermill": {
     "duration": 0.017246,
     "end_time": "2024-06-20T16:42:53.572219",
     "exception": false,
     "start_time": "2024-06-20T16:42:53.554973",
     "status": "completed"
    },
    "tags": []
   },
   "outputs": [
    {
     "name": "stdout",
     "output_type": "stream",
     "text": [
      "['', '', '', 'high', 'high', 'low', 'low']\n"
     ]
    }
   ],
   "source": [
    "import bisect\n",
    "\n",
    "class TimeMap:\n",
    "    def __init__(self) -> None:\n",
    "        self.map: dict[str, list[tuple[int, str]]] = dict()\n",
    "\n",
    "    def set(self, key: str, value: str, timestamp: int) -> None:\n",
    "        values: list[tuple[int, str]] = self.map.get(key, [])\n",
    "        idx = bisect.bisect(values, (timestamp, \"\"))\n",
    "        if 0 <= idx < len(values) and values[idx][0] == timestamp:\n",
    "            values[idx] = (timestamp, value)\n",
    "        else:\n",
    "            bisect.insort(values, (timestamp, value))\n",
    "        self.map[key] = values\n",
    "\n",
    "    def get(self, key: str, timestamp: int) -> str:\n",
    "        values: list[tuple[int, str]] = self.map.get(key, [])\n",
    "        idx = bisect.bisect(values, (timestamp, \"\"))\n",
    "        if 0 <= idx < len(values) and values[idx][0] == timestamp:\n",
    "            return values[idx][1]\n",
    "        elif idx - 1 >= 0:\n",
    "            return values[idx - 1][1]\n",
    "        else:\n",
    "            return \"\"\n",
    "\n",
    "# Testing the solution\n",
    "obj: TimeMap = TimeMap()\n",
    "result: list[str] = []\n",
    "for params in [[\"love\",\"high\",10],[\"love\",\"low\",20],[\"love\",5],[\"love\",10],[\"love\",15],[\"love\",20],[\"love\",25]]:\n",
    "    if len(params) == 3:\n",
    "        obj.set(str(params[0]), str(params[1]), int(params[2])) # type: ignore\n",
    "        result.append(\"\")\n",
    "    else:\n",
    "        result.append(obj.get(str(params[0]), int(params[1]))) # type: ignore\n",
    "\n",
    "print(result)"
   ]
  },
  {
   "cell_type": "markdown",
   "id": "0d71f29d",
   "metadata": {
    "papermill": {
     "duration": 0.007198,
     "end_time": "2024-06-20T16:42:53.586802",
     "exception": false,
     "start_time": "2024-06-20T16:42:53.579604",
     "status": "completed"
    },
    "tags": []
   },
   "source": [
    "https://codeforces.com/problemset/problem/1979/A"
   ]
  },
  {
   "cell_type": "code",
   "execution_count": 34,
   "id": "735a8330",
   "metadata": {
    "execution": {
     "iopub.execute_input": "2024-06-20T16:42:53.602751Z",
     "iopub.status.busy": "2024-06-20T16:42:53.602307Z",
     "iopub.status.idle": "2024-06-20T16:42:53.606799Z",
     "shell.execute_reply": "2024-06-20T16:42:53.606231Z"
    },
    "lines_to_next_cell": 1,
    "papermill": {
     "duration": 0.013828,
     "end_time": "2024-06-20T16:42:53.607851",
     "exception": false,
     "start_time": "2024-06-20T16:42:53.594023",
     "status": "completed"
    },
    "tags": []
   },
   "outputs": [],
   "source": [
    "def guessMaximum(nums: list[int]) -> int:\n",
    "    # Slide through nums (window size of 2), find the minimum maximum\n",
    "    minimum: float = math.inf\n",
    "    for i in range(len(nums) - 1):\n",
    "        minimum = min(minimum, max(nums[i], nums[i + 1]))\n",
    "\n",
    "    return int(minimum) - 1\n",
    "\n",
    "# Testing the solution\n",
    "assert guessMaximum([2,4,1,7]) == 3\n",
    "assert guessMaximum([1,1]) == 0\n",
    "assert guessMaximum([37,8,16]) == 15"
   ]
  },
  {
   "cell_type": "markdown",
   "id": "a8f98218",
   "metadata": {
    "papermill": {
     "duration": 0.007153,
     "end_time": "2024-06-20T16:42:53.622397",
     "exception": false,
     "start_time": "2024-06-20T16:42:53.615244",
     "status": "completed"
    },
    "tags": []
   },
   "source": [
    "Top K Frequent elements"
   ]
  },
  {
   "cell_type": "code",
   "execution_count": 35,
   "id": "1e4c1c5a",
   "metadata": {
    "execution": {
     "iopub.execute_input": "2024-06-20T16:42:53.638359Z",
     "iopub.status.busy": "2024-06-20T16:42:53.637776Z",
     "iopub.status.idle": "2024-06-20T16:42:53.642806Z",
     "shell.execute_reply": "2024-06-20T16:42:53.642216Z"
    },
    "lines_to_next_cell": 1,
    "papermill": {
     "duration": 0.014373,
     "end_time": "2024-06-20T16:42:53.643998",
     "exception": false,
     "start_time": "2024-06-20T16:42:53.629625",
     "status": "completed"
    },
    "tags": []
   },
   "outputs": [],
   "source": [
    "def topKFrequentBrute(nums: list[int], k: int) -> list[int]:\n",
    "    freq: collections.Counter = collections.Counter(nums)\n",
    "    heap: list[tuple[int, int]] = []\n",
    "    for n, f in freq.items():\n",
    "        if len(heap) == k:\n",
    "            heapq.heappushpop(heap, (f, n))\n",
    "        else:\n",
    "            heapq.heappush(heap, (f, n))\n",
    "\n",
    "    result: list[int] = []\n",
    "    while heap:\n",
    "        f, n = heapq.heappop(heap)\n",
    "        result.append(n)\n",
    "\n",
    "    result.reverse()\n",
    "    return result\n",
    "\n",
    "# Testing the solution\n",
    "assert sorted(topKFrequentBrute([1,1,1,2,2,3,3,3,4,4,5], 2)) == [1, 3]"
   ]
  },
  {
   "cell_type": "markdown",
   "id": "6e81ca6f",
   "metadata": {
    "papermill": {
     "duration": 0.007266,
     "end_time": "2024-06-20T16:42:53.658833",
     "exception": false,
     "start_time": "2024-06-20T16:42:53.651567",
     "status": "completed"
    },
    "tags": []
   },
   "source": [
    "LC Virtual: https://leetcode.com/contest/leetcode-weekly-contest-11/"
   ]
  },
  {
   "cell_type": "code",
   "execution_count": 36,
   "id": "d9e0166a",
   "metadata": {
    "execution": {
     "iopub.execute_input": "2024-06-20T16:42:53.674805Z",
     "iopub.status.busy": "2024-06-20T16:42:53.674269Z",
     "iopub.status.idle": "2024-06-20T16:42:53.678515Z",
     "shell.execute_reply": "2024-06-20T16:42:53.677985Z"
    },
    "lines_to_next_cell": 1,
    "papermill": {
     "duration": 0.0136,
     "end_time": "2024-06-20T16:42:53.679690",
     "exception": false,
     "start_time": "2024-06-20T16:42:53.666090",
     "status": "completed"
    },
    "tags": []
   },
   "outputs": [],
   "source": [
    "# Number of segments in a string\n",
    "def countSegments(s: str) -> int:\n",
    "    segments, space = 0, True\n",
    "    for ch in s:\n",
    "        if ch.isspace():\n",
    "            segments += not space\n",
    "            space = True\n",
    "        else:\n",
    "            space = False\n",
    "\n",
    "    return segments + (not space)\n",
    "\n",
    "# Testing the solution\n",
    "assert countSegments(\"Python is a pretty cool language\") == 6\n",
    "assert countSegments(\" Python is pretty    cool    \") == 4\n",
    "assert countSegments(\"Hello\") == 1"
   ]
  },
  {
   "cell_type": "markdown",
   "id": "416596d8",
   "metadata": {
    "papermill": {
     "duration": 0.007157,
     "end_time": "2024-06-20T16:42:53.694225",
     "exception": false,
     "start_time": "2024-06-20T16:42:53.687068",
     "status": "completed"
    },
    "tags": []
   },
   "source": [
    "Q3: Unique substrings in a wrap around string\n",
    "https://youtu.be/2nCTyDrRm4I?si=TP9X0ZwTJNhKHkl4"
   ]
  },
  {
   "cell_type": "code",
   "execution_count": 37,
   "id": "b7bc8b9c",
   "metadata": {
    "execution": {
     "iopub.execute_input": "2024-06-20T16:42:53.710583Z",
     "iopub.status.busy": "2024-06-20T16:42:53.709989Z",
     "iopub.status.idle": "2024-06-20T16:42:53.715199Z",
     "shell.execute_reply": "2024-06-20T16:42:53.714745Z"
    },
    "lines_to_next_cell": 1,
    "papermill": {
     "duration": 0.014766,
     "end_time": "2024-06-20T16:42:53.716340",
     "exception": false,
     "start_time": "2024-06-20T16:42:53.701574",
     "status": "completed"
    },
    "tags": []
   },
   "outputs": [],
   "source": [
    "def findSubstringInWraproundString(s: str) -> int:\n",
    "    \"\"\"\n",
    "    Initial thought process: Check the longest substring that can end at an index.\n",
    "    This however doesn't account for duplicates.\n",
    "\n",
    "    To handle duplicates we store the max length of substrings ending for english alphabet\n",
    "    For eg: zabxabc\n",
    "    z - 1\n",
    "    a - 1\n",
    "    b - 3\n",
    "    x - 1\n",
    "    a - 1\n",
    "    b - 3\n",
    "    c - 3\n",
    "\n",
    "    Once completed, count += (arr[i] * arr[i + 1]) / 2\n",
    "    \"\"\"\n",
    "    longest: dict[str, int] = dict()\n",
    "    count = 0\n",
    "    for i in range(len(s)):\n",
    "        if i == 0 or ord(s[i]) - ord(s[i - 1]) == 1 or (s[i] == 'a' and s[i - 1] == 'z'):\n",
    "            count += 1\n",
    "        else:\n",
    "            count = 1\n",
    "        longest[s[i]] = max(longest.get(s[i], 0), count)\n",
    "\n",
    "    # Count substrings\n",
    "    return sum(longest.values())\n",
    "\n",
    "# Testing the solution\n",
    "assert findSubstringInWraproundString(\"zabxabc\") == 10\n",
    "assert findSubstringInWraproundString(\"cac\") == 2\n",
    "assert findSubstringInWraproundString(\"zab\") == 6"
   ]
  },
  {
   "cell_type": "markdown",
   "id": "5699b3a7",
   "metadata": {
    "papermill": {
     "duration": 0.0072,
     "end_time": "2024-06-20T16:42:53.731087",
     "exception": false,
     "start_time": "2024-06-20T16:42:53.723887",
     "status": "completed"
    },
    "tags": []
   },
   "source": [
    "Compress the string\n",
    "https://www.naukri.com/code360/problems/compress-the-string_893402"
   ]
  },
  {
   "cell_type": "code",
   "execution_count": 38,
   "id": "f182bfaf",
   "metadata": {
    "execution": {
     "iopub.execute_input": "2024-06-20T16:42:53.746892Z",
     "iopub.status.busy": "2024-06-20T16:42:53.746446Z",
     "iopub.status.idle": "2024-06-20T16:42:53.751213Z",
     "shell.execute_reply": "2024-06-20T16:42:53.750738Z"
    },
    "lines_to_next_cell": 1,
    "papermill": {
     "duration": 0.014034,
     "end_time": "2024-06-20T16:42:53.752335",
     "exception": false,
     "start_time": "2024-06-20T16:42:53.738301",
     "status": "completed"
    },
    "tags": []
   },
   "outputs": [],
   "source": [
    "def compressTheString(s: str):\n",
    "    stack: list[tuple[str, int]] = []\n",
    "    for ch in s:\n",
    "        if not stack or stack[-1][0] != ch:\n",
    "            stack.append((ch, 1))\n",
    "        else:\n",
    "            stack[-1] = (ch, stack[-1][1] + 1)\n",
    "\n",
    "    result: list[str] = []\n",
    "    for ch, freq in stack:\n",
    "        result.append(f'{ch}{freq}' if freq > 1 else ch)\n",
    "    return ''.join(result)\n",
    "\n",
    "# Testing the solution\n",
    "assert compressTheString(\"aaabbddccc\") == \"a3b2d2c3\"\n",
    "assert compressTheString(\"ggttttffffrreee\") == \"g2t4f4r2e3\""
   ]
  },
  {
   "cell_type": "markdown",
   "id": "15fcfdd1",
   "metadata": {
    "papermill": {
     "duration": 0.007251,
     "end_time": "2024-06-20T16:42:53.767059",
     "exception": false,
     "start_time": "2024-06-20T16:42:53.759808",
     "status": "completed"
    },
    "tags": []
   },
   "source": [
    "CN Weekly contest: 20th June 2024"
   ]
  },
  {
   "cell_type": "code",
   "execution_count": 39,
   "id": "47d5bb9b",
   "metadata": {
    "execution": {
     "iopub.execute_input": "2024-06-20T16:42:53.782847Z",
     "iopub.status.busy": "2024-06-20T16:42:53.782291Z",
     "iopub.status.idle": "2024-06-20T16:42:53.786242Z",
     "shell.execute_reply": "2024-06-20T16:42:53.785806Z"
    },
    "lines_to_next_cell": 1,
    "papermill": {
     "duration": 0.013172,
     "end_time": "2024-06-20T16:42:53.787383",
     "exception": false,
     "start_time": "2024-06-20T16:42:53.774211",
     "status": "completed"
    },
    "tags": []
   },
   "outputs": [],
   "source": [
    "def maximumElements(N: int, arr: list[int]) -> int:\n",
    "    odd = even = 0\n",
    "    for n in arr:\n",
    "        if n % 2 == 1:\n",
    "            odd += 1\n",
    "        else:\n",
    "            even += 1\n",
    "\n",
    "    if odd == 0:\n",
    "        return -1\n",
    "    else:\n",
    "        return even + odd - int(odd % 2 == 0)\n",
    "\n",
    "# Testing the solution\n",
    "assert maximumElements(4, [9,5,1,6]) == 4"
   ]
  },
  {
   "cell_type": "code",
   "execution_count": 40,
   "id": "feca4414",
   "metadata": {
    "execution": {
     "iopub.execute_input": "2024-06-20T16:42:53.803446Z",
     "iopub.status.busy": "2024-06-20T16:42:53.803034Z",
     "iopub.status.idle": "2024-06-20T16:42:53.808093Z",
     "shell.execute_reply": "2024-06-20T16:42:53.807662Z"
    },
    "lines_to_next_cell": 1,
    "papermill": {
     "duration": 0.014237,
     "end_time": "2024-06-20T16:42:53.809169",
     "exception": false,
     "start_time": "2024-06-20T16:42:53.794932",
     "status": "completed"
    },
    "tags": []
   },
   "outputs": [],
   "source": [
    "# Supercomputer\n",
    "def canAccess(N: int, K: int, arr: list[int]) -> int:\n",
    "    arr.sort()\n",
    "    count = 0\n",
    "    for i in range(N - 2):\n",
    "        for j in range(i + 1, N - 1):\n",
    "            target = K ^ arr[i] ^ arr[j]\n",
    "            left = bisect.bisect_left(arr, target, j + 1)\n",
    "            right = bisect.bisect_right(arr, target, j + 1)\n",
    "            if left < N and arr[left] == target:\n",
    "                count += right - left\n",
    "\n",
    "    return count\n",
    "\n",
    "# Testing the solution\n",
    "assert canAccess(6, 13, [2,2,8,7,7,9]) == 4\n",
    "assert canAccess(7, 5, [7,2,5,5,2,4,7]) == 4\n",
    "assert canAccess(6, 1, [5,6,5,2,1,7]) == 3"
   ]
  },
  {
   "cell_type": "markdown",
   "id": "cee6356e",
   "metadata": {},
   "source": [
    "Maximum magnetic force between two balls"
   ]
  },
  {
   "cell_type": "code",
   "execution_count": null,
   "id": "97865321",
   "metadata": {
    "lines_to_next_cell": 1
   },
   "outputs": [],
   "source": [
    "def maxDistance(positions: list[int], m: int) -> int:\n",
    "    def is_possible(max_sum: int) -> bool:\n",
    "        prev, k = -max_sum, m\n",
    "        for n in positions:\n",
    "            if n - prev >= max_sum:\n",
    "                k, prev = k - 1, n\n",
    "\n",
    "        return k <= 0\n",
    "\n",
    "    # Sort the positions and use a binary search approach, greedily checking if maxsum is possible each time\n",
    "    positions.sort()\n",
    "\n",
    "    low, high = 1, positions[-1] - positions[0]\n",
    "    while low <= high:\n",
    "        mid = (low + high) // 2\n",
    "        if is_possible(mid):\n",
    "            low = mid + 1\n",
    "        else:\n",
    "            high = mid - 1\n",
    "\n",
    "    return high\n",
    "\n",
    "# Testing the solution\n",
    "assert maxDistance([1,2,3,4,7], 3) == 3\n",
    "assert maxDistance([5,4,3,2,1,1000000000], 2) == 999999999\n",
    "assert maxDistance([5,4,3,2,1,1000000000], 3) == 4"
   ]
  },
  {
   "cell_type": "markdown",
   "id": "16ec9ef7",
   "metadata": {},
   "source": [
    "LC Virtual: 21st June 2024\n",
    "Link: https://leetcode.com/contest/smarking-algorithm-contest/"
   ]
  },
  {
   "cell_type": "code",
   "execution_count": null,
   "id": "685dcfe2",
   "metadata": {
    "lines_to_next_cell": 1
   },
   "outputs": [],
   "source": [
    "# Q1: Path Sum - III\n",
    "def pathSum(root: BinaryTreeNode, targetSum: int) -> int:\n",
    "    count = 0\n",
    "    def backtrack(curr: BinaryTreeNode) -> dict[int, int]:\n",
    "        nonlocal count\n",
    "        if not curr:\n",
    "            return dict()\n",
    "        else:\n",
    "            left: dict[int, int] = backtrack(curr.left)\n",
    "            right: dict[int, int] = backtrack(curr.right)\n",
    "            result: dict[int, int] = dict()\n",
    "            for k, v in left.items():\n",
    "                result[k + curr.val] = result.get(k + curr.val, 0) + v\n",
    "            for k, v in right.items():\n",
    "                result[k + curr.val] = result.get(k + curr.val, 0) + v\n",
    "            result[curr.val] = result.get(curr.val, 0) + 1\n",
    "            count += result.get(targetSum, 0)\n",
    "            return result\n",
    "\n",
    "    backtrack(root)\n",
    "    return count\n",
    "\n",
    "# Testing the solution\n",
    "assert pathSum(BinaryTreeNode.from_array([10,5,-3,3,2,None,11,3,-2,None,1]), 8) == 3\n",
    "assert pathSum(BinaryTreeNode.from_array([5,4,8,11,None,13,4,7,2,None,None,5,1]), 22) == 3"
   ]
  },
  {
   "cell_type": "code",
   "execution_count": null,
   "id": "4adac14c",
   "metadata": {
    "lines_to_next_cell": 1
   },
   "outputs": [],
   "source": [
    "# Q2: Find all anagrams in a string\n",
    "def findAnagrams(s: str, p: str) -> list[int]:\n",
    "    def compare(freq1: dict[str, int], freq2: dict[str, int]) -> bool:\n",
    "        for k, v in freq1.items():\n",
    "            if k not in freq2 or v != freq2[k]:\n",
    "                return False\n",
    "        return True if freq1 else False\n",
    "\n",
    "    NS, NP = len(s), len(p)\n",
    "    p_freq: collections.Counter = collections.Counter(p)\n",
    "\n",
    "    result: list[int] = []\n",
    "    # J is not included in slice\n",
    "    i = j = 0\n",
    "    s_freq: dict[str, int] = {}\n",
    "    while j <= NS:\n",
    "        while j < NS and j - i < NP:\n",
    "            s_freq[s[j]] = s_freq.get(s[j], 0) + 1\n",
    "            j += 1\n",
    "\n",
    "        comparison = compare(s_freq, p_freq)\n",
    "\n",
    "        # Anagram\n",
    "        if comparison == 1:\n",
    "            result.append(i)\n",
    "        if j < NS:\n",
    "            s_freq[s[i]] = s_freq[s[i]] - 1\n",
    "            s_freq[s[j]] = s_freq.get(s[j], 0) + 1\n",
    "            if s_freq[s[i]] == 0:\n",
    "                s_freq.pop(s[i])\n",
    "        i, j = i + 1, j + 1\n",
    "\n",
    "    return result\n",
    "\n",
    "# Testing the solution\n",
    "assert findAnagrams(\"cbaebabacd\", \"abc\") == [0, 6]\n",
    "assert findAnagrams(\"abab\", \"ab\") == [0,1,2]\n",
    "assert findAnagrams(\"aa\", \"bb\") == []\n",
    "assert findAnagrams(\"baa\", \"aa\") == [1]"
   ]
  },
  {
   "cell_type": "markdown",
   "id": "a3baca05",
   "metadata": {},
   "source": [
    "Upsolving: Kth Smallest in lexicographical ordering"
   ]
  },
  {
   "cell_type": "code",
   "execution_count": null,
   "id": "f96e9972",
   "metadata": {
    "lines_to_next_cell": 1
   },
   "outputs": [],
   "source": [
    "# https://leetcode.com/problems/k-th-smallest-in-lexicographical-order/solutions/92242/concise-easy-to-understand-java-5ms-solution-with-explaination/\n",
    "def findKthNumber(n: int, k: int) -> int:\n",
    "    def countSteps(n1: int, n2: int) -> int:\n",
    "        steps = 0\n",
    "        while n1 <= n:\n",
    "            steps += min(n2, n + 1) - n1\n",
    "            n1, n2 = n1 * 10, n2 * 10\n",
    "\n",
    "        return steps\n",
    "\n",
    "    # Move k - 1 steps\n",
    "    curr = 1\n",
    "    while k > 1:\n",
    "        steps = countSteps(curr, curr + 1)\n",
    "        if steps <= k:\n",
    "            curr, k = curr + 1, k - steps\n",
    "        else:\n",
    "            curr, k = curr * 10, k - 1\n",
    "\n",
    "    return curr\n",
    "\n",
    "# Testing the solution\n",
    "assert findKthNumber(13, 2) == 10\n",
    "assert findKthNumber(100, 5) == 12"
   ]
  },
  {
   "cell_type": "markdown",
   "id": "0131247e",
   "metadata": {},
   "source": [
    "GFG Hiring Challenge: 21st June 2024"
   ]
  },
  {
   "cell_type": "code",
   "execution_count": null,
   "id": "70464abf",
   "metadata": {
    "lines_to_next_cell": 1
   },
   "outputs": [],
   "source": [
    "def modifyMEX(N : int, arr : list[int]) -> int:\n",
    "    freq: collections.Counter = collections.Counter(arr)\n",
    "    prev = -1\n",
    "    for i in range(0, int(1e6) + 1):\n",
    "        if i not in freq:\n",
    "            return prev\n",
    "        else:\n",
    "            prev = freq[i] if prev == -1 else min(freq[i], prev)\n",
    "\n",
    "    return prev\n",
    "\n",
    "# Testing the solution\n",
    "assert modifyMEX(6, [0,1,2,2,3,5]) == 1\n",
    "assert modifyMEX(4, [1,2,3,4]) == -1\n",
    "assert modifyMEX(4, [0,1,1,1]) == 1"
   ]
  },
  {
   "cell_type": "code",
   "execution_count": null,
   "id": "8f4b7a46",
   "metadata": {
    "lines_to_next_cell": 1
   },
   "outputs": [],
   "source": [
    "def countPairs(N: int, K: int, arr: list[int]) -> int:\n",
    "    count: int = 0\n",
    "    indices: dict[int, dict[int, int]] = dict()\n",
    "    for i in range(N):\n",
    "        idx, num = i + 1, arr[i]\n",
    "        index_dp: dict[int, int] = indices.get(num, dict())\n",
    "        idx %= K\n",
    "        count += index_dp.get(K - idx if idx > 0 else 0, 0)\n",
    "        index_dp[idx] = index_dp.get(idx, 0) + 1\n",
    "        indices[num] = index_dp\n",
    "\n",
    "    return int(count % (1e9 + 7))\n",
    "\n",
    "# Testing the solution\n",
    "assert countPairs(5, 3, [1,2,3,2,1]) == 2\n",
    "assert countPairs(6, 4, [1,1,1,1,1,1]) == 3\n",
    "assert countPairs(8, 2, [0,1,2,1,3,1,4,1]) == 6"
   ]
  },
  {
   "cell_type": "code",
   "execution_count": null,
   "id": "de822d3e",
   "metadata": {},
   "outputs": [],
   "source": [
    "def maxEdgeSumBrute(N: int, edges: list[list[int]]) -> int:\n",
    "    \"\"\"\n",
    "    Naive solution: Apply modified djikistra's algorithm for each vertex.\n",
    "    Increase sum for each pair.\n",
    "    \"\"\"\n",
    "    def BFS(src: int) -> int:\n",
    "        distances: dict[int, int] = dict()\n",
    "        queue: collections.deque = collections.deque([(src, 0)])\n",
    "\n",
    "        # Apply Dijkstra\n",
    "        while queue:\n",
    "            curr, dist = queue.popleft()\n",
    "            distances[curr] = dist\n",
    "            for next_, next_dist in adj[curr]:\n",
    "                if next_ not in distances:\n",
    "                    queue.append((next_, max(next_dist, dist)))\n",
    "\n",
    "        edge_sum = 0\n",
    "        for k, v in distances.items():\n",
    "            edge_sum += v if k > src else 0\n",
    "\n",
    "        return edge_sum\n",
    "\n",
    "    # Convert edges into ADJ List\n",
    "    adj: dict[int, list[tuple[int, int]]] = dict()\n",
    "    for n1, n2, w in edges:\n",
    "        n1_neighbours, n2_neighbours = adj.get(n1, []), adj.get(n2, [])\n",
    "        n1_neighbours.append((n2, w))\n",
    "        n2_neighbours.append((n1, w))\n",
    "        adj[n1], adj[n2] = n1_neighbours, n2_neighbours\n",
    "\n",
    "    sum_: int = 0\n",
    "    for src in range(1, N + 1):\n",
    "        sum_ += BFS(src)\n",
    "\n",
    "    return sum_\n",
    "\n",
    "# Testing the solution\n",
    "assert maxEdgeSumBrute(3, [[1,2,2], [1,3,4]]) == 10\n",
    "assert maxEdgeSumBrute(4, [[1,2,1], [2,4,3], [1,3,3]]) == 16"
   ]
  }
 ],
 "metadata": {
  "jupytext": {
   "extension": ".py",
   "format_name": "percent",
   "format_version": "1.3",
   "jupytext_version": "1.15.2"
  },
  "kernelspec": {
   "display_name": "Python 3 (ipykernel)",
   "language": "python",
   "name": "python3"
  },
  "language_info": {
   "codemirror_mode": {
    "name": "ipython",
    "version": 3
   },
   "file_extension": ".py",
   "mimetype": "text/x-python",
   "name": "python",
   "nbconvert_exporter": "python",
   "pygments_lexer": "ipython3",
   "version": "3.11.9"
  },
  "papermill": {
   "default_parameters": {},
   "duration": 2.767495,
   "end_time": "2024-06-20T16:42:54.033536",
   "environment_variables": {},
   "exception": null,
   "input_path": "practice/004.ipynb",
   "output_path": "practice/004.ipynb",
   "parameters": {},
   "start_time": "2024-06-20T16:42:51.266041",
   "version": "2.6.0"
  }
 },
 "nbformat": 4,
 "nbformat_minor": 5
}
