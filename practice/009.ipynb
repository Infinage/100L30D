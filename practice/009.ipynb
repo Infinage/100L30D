{
 "cells": [
  {
   "cell_type": "markdown",
   "id": "8816b2e8",
   "metadata": {
    "papermill": {
     "duration": 0.006552,
     "end_time": "2024-09-26T03:10:19.844441",
     "exception": false,
     "start_time": "2024-09-26T03:10:19.837889",
     "status": "completed"
    },
    "tags": []
   },
   "source": [
    "#### Basic imports"
   ]
  },
  {
   "cell_type": "code",
   "execution_count": 1,
   "id": "b4a2ab2d",
   "metadata": {
    "execution": {
     "iopub.execute_input": "2024-09-26T03:10:19.857472Z",
     "iopub.status.busy": "2024-09-26T03:10:19.856901Z",
     "iopub.status.idle": "2024-09-26T03:10:19.860960Z",
     "shell.execute_reply": "2024-09-26T03:10:19.860439Z"
    },
    "lines_to_next_cell": 1,
    "papermill": {
     "duration": 0.01147,
     "end_time": "2024-09-26T03:10:19.861789",
     "exception": false,
     "start_time": "2024-09-26T03:10:19.850319",
     "status": "completed"
    },
    "tags": []
   },
   "outputs": [],
   "source": [
    "import math\n",
    "import heapq\n",
    "import bisect\n",
    "import collections\n",
    "import itertools\n",
    "import functools\n",
    "import random\n",
    "import typing"
   ]
  },
  {
   "cell_type": "code",
   "execution_count": 2,
   "id": "03c6208d",
   "metadata": {
    "execution": {
     "iopub.execute_input": "2024-09-26T03:10:19.874319Z",
     "iopub.status.busy": "2024-09-26T03:10:19.873862Z",
     "iopub.status.idle": "2024-09-26T03:10:19.878793Z",
     "shell.execute_reply": "2024-09-26T03:10:19.878282Z"
    },
    "lines_to_next_cell": 1,
    "papermill": {
     "duration": 0.012234,
     "end_time": "2024-09-26T03:10:19.879675",
     "exception": false,
     "start_time": "2024-09-26T03:10:19.867441",
     "status": "completed"
    },
    "tags": []
   },
   "outputs": [],
   "source": [
    "def ssort(nums: list[int]) -> list[int]:\n",
    "    \"Select the smallest / largest from the list and push it to the end.\"\n",
    "    N = len(nums)\n",
    "    for i in range(N):\n",
    "        min_ = i\n",
    "        for j in range(i + 1, N):\n",
    "            if nums[min_] > nums[j]:\n",
    "                min_ = j\n",
    "        nums[min_], nums[i] = nums[i], nums[min_]\n",
    "    return nums\n",
    "\n",
    "# Testing the solution\n",
    "assert ssort([7,4,1,5,3]) == [1,3,4,5,7]"
   ]
  },
  {
   "cell_type": "code",
   "execution_count": 3,
   "id": "5666a6a3",
   "metadata": {
    "execution": {
     "iopub.execute_input": "2024-09-26T03:10:19.892202Z",
     "iopub.status.busy": "2024-09-26T03:10:19.892005Z",
     "iopub.status.idle": "2024-09-26T03:10:19.896075Z",
     "shell.execute_reply": "2024-09-26T03:10:19.895523Z"
    },
    "lines_to_next_cell": 1,
    "papermill": {
     "duration": 0.011499,
     "end_time": "2024-09-26T03:10:19.896927",
     "exception": false,
     "start_time": "2024-09-26T03:10:19.885428",
     "status": "completed"
    },
    "tags": []
   },
   "outputs": [],
   "source": [
    "def bsort(nums: list[int]) -> list[int]:\n",
    "    \"Compare consecutive elements and bubble the larger number towards the end.\"\n",
    "    N = len(nums)\n",
    "    for j in range(N - 1, -1, -1):\n",
    "        swapped = False\n",
    "        for i in range(j):\n",
    "            if nums[i] > nums[i + 1]:\n",
    "                nums[i], nums[i + 1] = nums[i + 1], nums[i]\n",
    "                swapped = True\n",
    "        if not swapped:\n",
    "            break\n",
    "    return nums\n",
    "\n",
    "# Testing the solution\n",
    "assert bsort([7,4,1,5,3]) == [1,3,4,5,7]"
   ]
  },
  {
   "cell_type": "code",
   "execution_count": 4,
   "id": "db64fcf9",
   "metadata": {
    "execution": {
     "iopub.execute_input": "2024-09-26T03:10:19.909280Z",
     "iopub.status.busy": "2024-09-26T03:10:19.908807Z",
     "iopub.status.idle": "2024-09-26T03:10:19.912527Z",
     "shell.execute_reply": "2024-09-26T03:10:19.912092Z"
    },
    "lines_to_next_cell": 1,
    "papermill": {
     "duration": 0.010767,
     "end_time": "2024-09-26T03:10:19.913439",
     "exception": false,
     "start_time": "2024-09-26T03:10:19.902672",
     "status": "completed"
    },
    "tags": []
   },
   "outputs": [],
   "source": [
    "def isort(nums: list[int]) -> list[int]:\n",
    "    \"Take an element and place it at the correct order\"\n",
    "    N = len(nums)\n",
    "    for i in range(1, N):\n",
    "        curr, j = nums[i], i - 1\n",
    "        while j >= 0 and nums[j] > curr:\n",
    "            nums[j + 1] = nums[j]\n",
    "            j -= 1\n",
    "        nums[j + 1] = curr\n",
    "    return nums\n",
    "\n",
    "# Testing the solution\n",
    "assert isort([5,4,3,2,1]) == [1,2,3,4,5]"
   ]
  },
  {
   "cell_type": "code",
   "execution_count": 5,
   "id": "0f2ee15b",
   "metadata": {
    "execution": {
     "iopub.execute_input": "2024-09-26T03:10:19.926273Z",
     "iopub.status.busy": "2024-09-26T03:10:19.925765Z",
     "iopub.status.idle": "2024-09-26T03:10:19.931229Z",
     "shell.execute_reply": "2024-09-26T03:10:19.930763Z"
    },
    "lines_to_next_cell": 1,
    "papermill": {
     "duration": 0.012977,
     "end_time": "2024-09-26T03:10:19.932094",
     "exception": false,
     "start_time": "2024-09-26T03:10:19.919117",
     "status": "completed"
    },
    "tags": []
   },
   "outputs": [],
   "source": [
    "def qsort(nums: list[int]) -> list[int]:\n",
    "    def partition(left: int, right: int, partition_idx: int) -> int:\n",
    "        # Since we introduce a random pivot approach, we put it in a place\n",
    "        # where our algorithm usually starts at\n",
    "        nums[left], nums[partition_idx] = nums[partition_idx], nums[left]\n",
    "\n",
    "        # Same steps\n",
    "        pivot = nums[left]\n",
    "        i = left + 1\n",
    "        for j in range(left + 1, right + 1):\n",
    "            if nums[j] < pivot:\n",
    "                nums[i], nums[j] = nums[j], nums[i]\n",
    "                i += 1\n",
    "\n",
    "        nums[left], nums[i - 1] = nums[i - 1], nums[left]\n",
    "        return i - 1\n",
    "\n",
    "    def _qsort(start: int, end: int) -> None:\n",
    "        if start < end:\n",
    "            partition_idx = partition(start, end, random.randint(start, end))\n",
    "            _qsort(start, partition_idx - 1)\n",
    "            _qsort(partition_idx + 1, end)\n",
    "\n",
    "    _qsort(0, len(nums) - 1)\n",
    "    return nums\n",
    "\n",
    "# Testing the solution\n",
    "assert qsort([5,4,3,2,1]) == [1,2,3,4,5]\n",
    "assert qsort([6,5,4,3,2,1]) == [1,2,3,4,5,6]"
   ]
  },
  {
   "cell_type": "code",
   "execution_count": 6,
   "id": "9fa5cda2",
   "metadata": {
    "execution": {
     "iopub.execute_input": "2024-09-26T03:10:19.944326Z",
     "iopub.status.busy": "2024-09-26T03:10:19.943828Z",
     "iopub.status.idle": "2024-09-26T03:10:19.948883Z",
     "shell.execute_reply": "2024-09-26T03:10:19.948460Z"
    },
    "lines_to_next_cell": 1,
    "papermill": {
     "duration": 0.01198,
     "end_time": "2024-09-26T03:10:19.949710",
     "exception": false,
     "start_time": "2024-09-26T03:10:19.937730",
     "status": "completed"
    },
    "tags": []
   },
   "outputs": [],
   "source": [
    "def msort(nums: list[int]) -> list[int]:\n",
    "    def _msort(left: int, right: int) -> None:\n",
    "        if left < right:\n",
    "            mid = (left + right) // 2\n",
    "\n",
    "            # Very imp to split into (left, mid) and (mid + 1, right)\n",
    "            # Try to do it other way (left, mid - 1), (mid, right) wouldn't work\n",
    "            _msort(left, mid)\n",
    "            _msort(mid + 1, right)\n",
    "\n",
    "            # Merge the two sorted arrays\n",
    "            temp: list[int] = []\n",
    "            i, j = left, mid + 1\n",
    "            while i <= mid or j <= right:\n",
    "                if j > right or (i <= mid and nums[i] < nums[j]):\n",
    "                    temp.append(nums[i])\n",
    "                    i += 1\n",
    "                else:\n",
    "                    temp.append(nums[j])\n",
    "                    j += 1\n",
    "\n",
    "            # Reassign the sorted values back to original array\n",
    "            nums[left: right + 1] = temp\n",
    "\n",
    "    _msort(0, len(nums) - 1)\n",
    "    return nums\n",
    "\n",
    "# Testing the solution\n",
    "assert msort([5,4,3,2,1]) == [1,2,3,4,5]\n",
    "assert msort([6,5,4,3,2,1]) == [1,2,3,4,5,6]"
   ]
  },
  {
   "cell_type": "code",
   "execution_count": 7,
   "id": "bf753ad8",
   "metadata": {
    "execution": {
     "iopub.execute_input": "2024-09-26T03:10:19.962027Z",
     "iopub.status.busy": "2024-09-26T03:10:19.961811Z",
     "iopub.status.idle": "2024-09-26T03:10:19.966046Z",
     "shell.execute_reply": "2024-09-26T03:10:19.965601Z"
    },
    "lines_to_next_cell": 1,
    "papermill": {
     "duration": 0.011535,
     "end_time": "2024-09-26T03:10:19.966960",
     "exception": false,
     "start_time": "2024-09-26T03:10:19.955425",
     "status": "completed"
    },
    "tags": []
   },
   "outputs": [],
   "source": [
    "def secondLargestElement(nums: list[int]):\n",
    "    \"Largest - use min heap; Smallest - use max heap\"\n",
    "    heap: list[int] = []\n",
    "    for n in set(nums):\n",
    "        heapq.heappush(heap, n)\n",
    "        if len(heap) > 2:\n",
    "            heapq.heappop(heap)\n",
    "\n",
    "    return heap[0] if len(heap) == 2 else -1\n",
    "\n",
    "# Testing the solution\n",
    "assert secondLargestElement([10,10,10,10,10]) == -1\n",
    "assert secondLargestElement([8,8,7,6,5]) == 7\n",
    "assert secondLargestElement([7,7,2,2,10,10,10]) == 7"
   ]
  },
  {
   "cell_type": "code",
   "execution_count": 8,
   "id": "649e052f",
   "metadata": {
    "execution": {
     "iopub.execute_input": "2024-09-26T03:10:19.979158Z",
     "iopub.status.busy": "2024-09-26T03:10:19.978816Z",
     "iopub.status.idle": "2024-09-26T03:10:19.983481Z",
     "shell.execute_reply": "2024-09-26T03:10:19.982965Z"
    },
    "lines_to_next_cell": 1,
    "papermill": {
     "duration": 0.011709,
     "end_time": "2024-09-26T03:10:19.984309",
     "exception": false,
     "start_time": "2024-09-26T03:10:19.972600",
     "status": "completed"
    },
    "tags": []
   },
   "outputs": [],
   "source": [
    "def rotateArray(nums: list[int], K: int) -> list[int]:\n",
    "    def reverse(start: int, end: int) -> None:\n",
    "        while start < end:\n",
    "            nums[start], nums[end] = nums[end], nums[start]\n",
    "            start, end = start + 1, end - 1\n",
    "\n",
    "    N = len(nums)\n",
    "    K = K % N\n",
    "    reverse(0, K - 1)\n",
    "    reverse(K, N - 1)\n",
    "    reverse(0, N - 1)\n",
    "    return nums\n",
    "\n",
    "# Testing the solution\n",
    "assert rotateArray([1,2,3,4,5,6], 2) == [3,4,5,6,1,2]\n",
    "assert rotateArray([3,4,1,5,3,-5], 8) == [1,5,3,-5,3,4]\n",
    "assert rotateArray([1,2,3,4,5], 4) == [5,1,2,3,4]"
   ]
  },
  {
   "cell_type": "code",
   "execution_count": 9,
   "id": "60360c89",
   "metadata": {
    "execution": {
     "iopub.execute_input": "2024-09-26T03:10:19.996600Z",
     "iopub.status.busy": "2024-09-26T03:10:19.996108Z",
     "iopub.status.idle": "2024-09-26T03:10:19.999492Z",
     "shell.execute_reply": "2024-09-26T03:10:19.999019Z"
    },
    "lines_to_next_cell": 1,
    "papermill": {
     "duration": 0.010449,
     "end_time": "2024-09-26T03:10:20.000368",
     "exception": false,
     "start_time": "2024-09-26T03:10:19.989919",
     "status": "completed"
    },
    "tags": []
   },
   "outputs": [],
   "source": [
    "def moveZeros(nums: list[int]) -> None:\n",
    "    # All index positions until i are filled with non zeros\n",
    "    i = 0\n",
    "    for j in range(len(nums)):\n",
    "        if nums[j] != 0:\n",
    "            nums[i] = nums[j]\n",
    "            i += 1\n",
    "\n",
    "    # Assign all left over positions as 0\n",
    "    for j in range(i, len(nums)):\n",
    "        nums[j] = 0"
   ]
  },
  {
   "cell_type": "code",
   "execution_count": 10,
   "id": "e23bf205",
   "metadata": {
    "execution": {
     "iopub.execute_input": "2024-09-26T03:10:20.012655Z",
     "iopub.status.busy": "2024-09-26T03:10:20.012099Z",
     "iopub.status.idle": "2024-09-26T03:10:20.015588Z",
     "shell.execute_reply": "2024-09-26T03:10:20.015161Z"
    },
    "lines_to_next_cell": 1,
    "papermill": {
     "duration": 0.010447,
     "end_time": "2024-09-26T03:10:20.016439",
     "exception": false,
     "start_time": "2024-09-26T03:10:20.005992",
     "status": "completed"
    },
    "tags": []
   },
   "outputs": [],
   "source": [
    "def removeDuplicates(nums: list[int]) -> None:\n",
    "    # Two pointer approach\n",
    "    i = 1\n",
    "    for j in range(1, len(nums)):\n",
    "        if nums[i - 1] != nums[j]:\n",
    "            nums[i] = nums[j]\n",
    "            i += 1\n",
    "\n",
    "    # Assign left overs as 0\n",
    "    for j in range(i, len(nums)):\n",
    "        nums[j] = 0"
   ]
  },
  {
   "cell_type": "code",
   "execution_count": 11,
   "id": "3a3f2191",
   "metadata": {
    "execution": {
     "iopub.execute_input": "2024-09-26T03:10:20.028777Z",
     "iopub.status.busy": "2024-09-26T03:10:20.028301Z",
     "iopub.status.idle": "2024-09-26T03:10:20.034996Z",
     "shell.execute_reply": "2024-09-26T03:10:20.034486Z"
    },
    "lines_to_next_cell": 1,
    "papermill": {
     "duration": 0.013755,
     "end_time": "2024-09-26T03:10:20.035883",
     "exception": false,
     "start_time": "2024-09-26T03:10:20.022128",
     "status": "completed"
    },
    "tags": []
   },
   "outputs": [],
   "source": [
    "def findSafeWalk(grid: list[list[int]], health: int) -> bool:\n",
    "    M, N = len(grid), len(grid[0])\n",
    "    costs: collections.defaultdict[tuple[int, int], int] = collections.defaultdict(lambda: 0)\n",
    "    heap: list[tuple[int, tuple[int, int]]] = [(-health if grid[0][0] == 0 else -(health - 1), (0, 0))]\n",
    "    while heap:\n",
    "        curr_health, (x, y) = heapq.heappop(heap)\n",
    "        curr_health = -curr_health\n",
    "        for (x_, y_) in [(x + 1, y), (x - 1, y), (x, y + 1), (x, y - 1)]:\n",
    "            if 0 <= x_ < M and 0 <= y_ < N:\n",
    "                next_health = curr_health if grid[x_][y_] == 0 else curr_health - 1\n",
    "                if next_health > costs[(x_, y_)]:\n",
    "                    costs[(x_, y_)] = next_health\n",
    "                    heapq.heappush(heap, (-next_health, (x_, y_)))\n",
    "\n",
    "    return costs[(M - 1, N - 1)] > 0\n",
    "\n",
    "# Testing the solution\n",
    "assert findSafeWalk([[0,1,0,0,0],[0,1,0,1,0],[0,0,0,1,0]], 1) == True\n",
    "assert findSafeWalk([[0,1,1,0,0,0],[1,0,1,0,0,0],[0,1,1,1,0,1],[0,0,1,0,1,0]], 3) == False\n",
    "assert findSafeWalk([[1,1,1],[1,0,1],[1,1,1]], 5) == True\n",
    "assert findSafeWalk([[1,1,1,1]], 4) == False"
   ]
  },
  {
   "cell_type": "code",
   "execution_count": 12,
   "id": "4620e621",
   "metadata": {
    "execution": {
     "iopub.execute_input": "2024-09-26T03:10:20.048524Z",
     "iopub.status.busy": "2024-09-26T03:10:20.047967Z",
     "iopub.status.idle": "2024-09-26T03:10:20.052480Z",
     "shell.execute_reply": "2024-09-26T03:10:20.051994Z"
    },
    "lines_to_next_cell": 1,
    "papermill": {
     "duration": 0.011672,
     "end_time": "2024-09-26T03:10:20.053311",
     "exception": false,
     "start_time": "2024-09-26T03:10:20.041639",
     "status": "completed"
    },
    "tags": []
   },
   "outputs": [],
   "source": [
    "def intersectionArray(nums1: list[int], nums2: list[int]) -> list[int]:\n",
    "    i, j, N1, N2 = 0, 0, len(nums1), len(nums2)\n",
    "    result: list[int] = []\n",
    "    while i < N1 and j < N2:\n",
    "        if nums1[i] == nums2[j]:\n",
    "            result.append(nums1[i])\n",
    "            i, j = i + 1, j + 1\n",
    "        elif nums1[i] < nums2[j]:\n",
    "            i += 1\n",
    "        else:\n",
    "            j += 1\n",
    "    return result\n",
    "\n",
    "# Testing the solution\n",
    "assert intersectionArray([1,2,2,3,5], [1,2,7]) == [1,2]\n",
    "assert intersectionArray([1,2,2,3], [4,5,7]) == []"
   ]
  },
  {
   "cell_type": "code",
   "execution_count": 13,
   "id": "6aace28f",
   "metadata": {
    "execution": {
     "iopub.execute_input": "2024-09-26T03:10:20.065755Z",
     "iopub.status.busy": "2024-09-26T03:10:20.065223Z",
     "iopub.status.idle": "2024-09-26T03:10:20.069850Z",
     "shell.execute_reply": "2024-09-26T03:10:20.069290Z"
    },
    "lines_to_next_cell": 1,
    "papermill": {
     "duration": 0.011833,
     "end_time": "2024-09-26T03:10:20.070862",
     "exception": false,
     "start_time": "2024-09-26T03:10:20.059029",
     "status": "completed"
    },
    "tags": []
   },
   "outputs": [],
   "source": [
    "def leaders(nums: list[int]) -> list[int]:\n",
    "    result: list[int] = []\n",
    "    for i in range(len(nums) - 1, -1, -1):\n",
    "        if not result or result[-1] < nums[i]:\n",
    "            result.append(nums[i])\n",
    "    result.reverse()\n",
    "    return result\n",
    "\n",
    "# Testing the solution\n",
    "assert leaders([1,2,5,3,1,2]) == [5,3,2]\n",
    "assert leaders([-3,4,5,1,-4,-5]) == [5,1,-4,-5]\n",
    "assert leaders([-3,4,5,1,-30,-10]) == [5,1,-10]"
   ]
  },
  {
   "cell_type": "code",
   "execution_count": 14,
   "id": "1bc2207c",
   "metadata": {
    "execution": {
     "iopub.execute_input": "2024-09-26T03:10:20.083748Z",
     "iopub.status.busy": "2024-09-26T03:10:20.083204Z",
     "iopub.status.idle": "2024-09-26T03:10:20.089832Z",
     "shell.execute_reply": "2024-09-26T03:10:20.089370Z"
    },
    "lines_to_next_cell": 1,
    "papermill": {
     "duration": 0.013876,
     "end_time": "2024-09-26T03:10:20.090658",
     "exception": false,
     "start_time": "2024-09-26T03:10:20.076782",
     "status": "completed"
    },
    "tags": []
   },
   "outputs": [],
   "source": [
    "def spiralOrder(matrix: list[list[int]]) -> list[int]:\n",
    "    i, j, M, N = 0, 0, len(matrix), len(matrix[0])\n",
    "    result: list[int] = []\n",
    "    for layer in range(math.ceil(min(M / 2, N / 2))):\n",
    "        x, y = layer, layer\n",
    "        result.append(matrix[x][y])\n",
    "\n",
    "        # Go right\n",
    "        travelled_right = False\n",
    "        while y + 1 < N - layer:\n",
    "            y += 1\n",
    "            result.append(matrix[x][y])\n",
    "            travelled_right = True\n",
    "\n",
    "        # Go down\n",
    "        travelled_down = False\n",
    "        while x + 1 < M - layer:\n",
    "            x += 1\n",
    "            result.append(matrix[x][y])\n",
    "            travelled_down = True\n",
    "\n",
    "        # Go left\n",
    "        travelled_left = False\n",
    "        while travelled_down and y - 1 >= layer:\n",
    "            y -= 1\n",
    "            result.append(matrix[x][y])\n",
    "            travelled_left = True\n",
    "\n",
    "        # Go up\n",
    "        travelled_up = False\n",
    "        while travelled_left and x - 1 > layer:\n",
    "            x -= 1\n",
    "            result.append(matrix[x][y])\n",
    "            travelled_up = True\n",
    "\n",
    "    return result\n",
    "\n",
    "# Testing the solution\n",
    "assert spiralOrder([[1, 2, 3], [4 ,5 ,6], [7, 8, 9]]) == [1, 2, 3, 6, 9, 8, 7, 4, 5]\n",
    "assert spiralOrder([[1, 2, 3, 4], [5, 6, 7, 8]]) == [1, 2, 3, 4, 8, 7, 6, 5]\n",
    "assert spiralOrder([[1, 2], [3, 4], [5, 6], [7, 8]]) == [1, 2, 4, 6, 8, 7, 5, 3]"
   ]
  },
  {
   "cell_type": "code",
   "execution_count": 15,
   "id": "b1638de8",
   "metadata": {
    "execution": {
     "iopub.execute_input": "2024-09-26T03:10:20.102893Z",
     "iopub.status.busy": "2024-09-26T03:10:20.102686Z",
     "iopub.status.idle": "2024-09-26T03:10:20.107402Z",
     "shell.execute_reply": "2024-09-26T03:10:20.106934Z"
    },
    "lines_to_next_cell": 1,
    "papermill": {
     "duration": 0.011883,
     "end_time": "2024-09-26T03:10:20.108247",
     "exception": false,
     "start_time": "2024-09-26T03:10:20.096364",
     "status": "completed"
    },
    "tags": []
   },
   "outputs": [],
   "source": [
    "def rearrangeArray(nums: list[int]) -> list[int]:\n",
    "    # Split and obtain the nums into two diff arrays\n",
    "    pos: collections.deque[int] = collections.deque([])\n",
    "    neg: collections.deque[int] = collections.deque([])\n",
    "    for n in nums:\n",
    "        if n < 0:\n",
    "            neg.append(n)\n",
    "        else:\n",
    "            pos.append(n)\n",
    "\n",
    "    # Pos first, neg next preserving original order\n",
    "    result: list[int] = []\n",
    "    for i in range(len(nums) // 2):\n",
    "        result.append(pos.popleft())\n",
    "        result.append(neg.popleft())\n",
    "\n",
    "    return result\n",
    "\n",
    "# Testing the solution\n",
    "assert rearrangeArray([1,-1,-3,-4,2,3]) == [1,-1,2,-3,3,-4]\n",
    "assert rearrangeArray([-4,4,-4,4,-4,4]) == [4,-4,4,-4,4,-4]"
   ]
  },
  {
   "cell_type": "code",
   "execution_count": 16,
   "id": "72cfac21",
   "metadata": {
    "execution": {
     "iopub.execute_input": "2024-09-26T03:10:20.120560Z",
     "iopub.status.busy": "2024-09-26T03:10:20.120096Z",
     "iopub.status.idle": "2024-09-26T03:10:20.124299Z",
     "shell.execute_reply": "2024-09-26T03:10:20.123825Z"
    },
    "lines_to_next_cell": 1,
    "papermill": {
     "duration": 0.011315,
     "end_time": "2024-09-26T03:10:20.125208",
     "exception": false,
     "start_time": "2024-09-26T03:10:20.113893",
     "status": "completed"
    },
    "tags": []
   },
   "outputs": [],
   "source": [
    "def pascalTriangle(numRows: int) -> list[list[int]]:\n",
    "    result: list[list[int]] = [[1]]\n",
    "    for i in range(1, numRows):\n",
    "        result.append([1])\n",
    "        for j in range(i - 1):\n",
    "            result[-1].append(result[-2][j] + result[-2][j + 1])\n",
    "        result[-1].append(1)\n",
    "\n",
    "    return result\n",
    "\n",
    "# Testing the solution\n",
    "assert pascalTriangle(5) == [[1], [1, 1], [1, 2, 1], [1, 3, 3, 1], [1, 4, 6, 4, 1]]"
   ]
  },
  {
   "cell_type": "code",
   "execution_count": 17,
   "id": "ab1590e1",
   "metadata": {
    "execution": {
     "iopub.execute_input": "2024-09-26T03:10:20.137276Z",
     "iopub.status.busy": "2024-09-26T03:10:20.137107Z",
     "iopub.status.idle": "2024-09-26T03:10:20.142359Z",
     "shell.execute_reply": "2024-09-26T03:10:20.141907Z"
    },
    "lines_to_next_cell": 1,
    "papermill": {
     "duration": 0.012391,
     "end_time": "2024-09-26T03:10:20.143236",
     "exception": false,
     "start_time": "2024-09-26T03:10:20.130845",
     "status": "completed"
    },
    "tags": []
   },
   "outputs": [],
   "source": [
    "def rotateMatrix(matrix: list[list[int]]) -> list[list[int]]:\n",
    "    \"\"\"\n",
    "    Similar to rotating an array by k places, this could be acheived\n",
    "    by transposing the matrix first and then reversing the rows\n",
    "    \"\"\"\n",
    "    N = len(matrix)\n",
    "\n",
    "    # Transpose the matrix\n",
    "    for i in range(N):\n",
    "        for j in range(i + 1, N):\n",
    "            matrix[i][j], matrix[j][i] = matrix[j][i], matrix[i][j]\n",
    "\n",
    "    # Reverse the rows\n",
    "    for i in range(N):\n",
    "        matrix[i].reverse()\n",
    "\n",
    "    return matrix\n",
    "\n",
    "# Testing the solution\n",
    "assert rotateMatrix([[1,2,3], [4,5,6], [7,8,9]]) == [[7,4,1], [8,5,2], [9,6,3]]\n",
    "assert rotateMatrix([[0,1,1,2], [2,0,3,1], [4,5,0,5], [5,6,7,0]]) == [[5,4,2,0], [6,5,0,1], [7,0,3,1], [0,5,1,2]]\n",
    "assert rotateMatrix([[1,1,2], [5,3,1], [5,3,5]]) == [[5,5,1], [3,3,1], [5,1,2]]"
   ]
  },
  {
   "cell_type": "code",
   "execution_count": 18,
   "id": "3e260a7c",
   "metadata": {
    "execution": {
     "iopub.execute_input": "2024-09-26T03:10:20.155540Z",
     "iopub.status.busy": "2024-09-26T03:10:20.155020Z",
     "iopub.status.idle": "2024-09-26T03:10:20.160039Z",
     "shell.execute_reply": "2024-09-26T03:10:20.159598Z"
    },
    "lines_to_next_cell": 1,
    "papermill": {
     "duration": 0.012086,
     "end_time": "2024-09-26T03:10:20.160909",
     "exception": false,
     "start_time": "2024-09-26T03:10:20.148823",
     "status": "completed"
    },
    "tags": []
   },
   "outputs": [],
   "source": [
    "def twoSum(nums: list[int], target: int) -> tuple[int, int]:\n",
    "    N = len(nums)\n",
    "    nums_: list[tuple[int, int]] = sorted(enumerate(nums), key=lambda x: x[1])\n",
    "    i, j = 0, N - 1\n",
    "    while i < j:\n",
    "        curr = nums_[i][1] + nums_[j][1]\n",
    "        pair = sorted([nums_[i][0], nums_[j][0]])\n",
    "        if curr == target:\n",
    "            return pair[0], pair[1]\n",
    "        elif curr < target:\n",
    "            i += 1\n",
    "        else:\n",
    "            j -= 1\n",
    "\n",
    "    return -1, -1\n",
    "\n",
    "# Testing the solution\n",
    "assert twoSum([1,6,2,10,3], 7) == (0,1)\n",
    "assert twoSum([1,3,5,-7,6,-3], 0) == (1,5)\n",
    "assert twoSum([-6,7,1,-7,6,2], 3) == (2,5)"
   ]
  },
  {
   "cell_type": "code",
   "execution_count": 19,
   "id": "70e0ad16",
   "metadata": {
    "execution": {
     "iopub.execute_input": "2024-09-26T03:10:20.173551Z",
     "iopub.status.busy": "2024-09-26T03:10:20.173074Z",
     "iopub.status.idle": "2024-09-26T03:10:20.177924Z",
     "shell.execute_reply": "2024-09-26T03:10:20.177481Z"
    },
    "lines_to_next_cell": 1,
    "papermill": {
     "duration": 0.012125,
     "end_time": "2024-09-26T03:10:20.178778",
     "exception": false,
     "start_time": "2024-09-26T03:10:20.166653",
     "status": "completed"
    },
    "tags": []
   },
   "outputs": [],
   "source": [
    "def threeSum(nums: list[int]) -> set[tuple[int, int, int]]:\n",
    "    N = len(nums)\n",
    "    nums.sort()\n",
    "    results: set[tuple[int, int, int]] = set()\n",
    "    for i in range(N - 2):\n",
    "        j, k = i + 1, N - 1\n",
    "        while j < k:\n",
    "            curr = nums[i] + nums[j] + nums[k]\n",
    "            triplet = sorted([nums[i], nums[j], nums[k]])\n",
    "            if curr == 0:\n",
    "                results.add((triplet[0], triplet[1], triplet[2]))\n",
    "                j, k = j + 1, k - 1\n",
    "            elif curr > 0:\n",
    "                k -= 1\n",
    "            else:\n",
    "                j += 1\n",
    "\n",
    "    return results\n",
    "\n",
    "# Testing the solution\n",
    "assert threeSum([2, -2, 0, 3, -3, 5]) == {(-3, -2, 5), (-3, 0, 3), (-2, 0, 2)}\n",
    "assert threeSum([2, -1, -1, 3, -1]) == {(-1, -1, 2)}"
   ]
  },
  {
   "cell_type": "code",
   "execution_count": 20,
   "id": "2696f7e0",
   "metadata": {
    "execution": {
     "iopub.execute_input": "2024-09-26T03:10:20.191369Z",
     "iopub.status.busy": "2024-09-26T03:10:20.190884Z",
     "iopub.status.idle": "2024-09-26T03:10:20.196402Z",
     "shell.execute_reply": "2024-09-26T03:10:20.195942Z"
    },
    "lines_to_next_cell": 1,
    "papermill": {
     "duration": 0.012802,
     "end_time": "2024-09-26T03:10:20.197272",
     "exception": false,
     "start_time": "2024-09-26T03:10:20.184470",
     "status": "completed"
    },
    "tags": []
   },
   "outputs": [],
   "source": [
    "def fourSum(nums: list[int], target: int) -> set[tuple[int, int, int, int]]:\n",
    "    \"\"\"\n",
    "    Iterate all combinations of i, j\n",
    "    For each such combination deploy the two pointer approach\n",
    "    \"\"\"\n",
    "    N = len(nums)\n",
    "    nums.sort()\n",
    "    results: set[tuple[int, int, int, int]] = set()\n",
    "    for i in range(N - 3):\n",
    "        for j in range(i + 1, N - 2):\n",
    "            k, l = j + 1, N - 1\n",
    "            while k < l:\n",
    "                quad: list[int] = sorted([nums[i], nums[j], nums[k], nums[l]])\n",
    "                total = nums[i] + nums[j] + nums[k] + nums[l]\n",
    "                if total == target:\n",
    "                    results.add((quad[0], quad[1], quad[2], quad[3]))\n",
    "                    k, l = k + 1, l - 1\n",
    "                elif total > target:\n",
    "                    l -= 1\n",
    "                else:\n",
    "                    k += 1\n",
    "\n",
    "    return results\n",
    "\n",
    "# Testing the solution\n",
    "assert fourSum([1,-2,3,5,7,9], 7) == {(-2,1,3,5)}\n",
    "assert fourSum([7,-7,1,2,14,3], 9) == set()\n",
    "assert fourSum([1,1,3,4,-3], 5) == {(-3,1,3,4)}"
   ]
  },
  {
   "cell_type": "code",
   "execution_count": 21,
   "id": "e460ed7b",
   "metadata": {
    "execution": {
     "iopub.execute_input": "2024-09-26T03:10:20.209683Z",
     "iopub.status.busy": "2024-09-26T03:10:20.209350Z",
     "iopub.status.idle": "2024-09-26T03:10:20.213719Z",
     "shell.execute_reply": "2024-09-26T03:10:20.213178Z"
    },
    "lines_to_next_cell": 1,
    "papermill": {
     "duration": 0.011646,
     "end_time": "2024-09-26T03:10:20.214639",
     "exception": false,
     "start_time": "2024-09-26T03:10:20.202993",
     "status": "completed"
    },
    "tags": []
   },
   "outputs": [],
   "source": [
    "def sortZeroOneTwo(nums: list[int]) -> list[int]:\n",
    "    \"\"\"\n",
    "    Variation of Dutch National flag algorithm\n",
    "    A much more intuitive algorithm is bucket sort\n",
    "\n",
    "    DNF:\n",
    "    Assume nums from [0, low], [high, N-1] are sorted.\n",
    "    Numbers between (low, high) are unsorted\n",
    "    \"\"\"\n",
    "    N = len(nums)\n",
    "    low, mid, high = 0, 0, N - 1\n",
    "    while mid <= high:\n",
    "        # Correct position\n",
    "        if nums[mid] == 1:\n",
    "            mid += 1\n",
    "\n",
    "        # Incorrect\n",
    "        elif nums[mid] == 0:\n",
    "            nums[low], nums[mid] = nums[mid], nums[low]\n",
    "            low, mid = low + 1, mid + 1\n",
    "        else:\n",
    "            nums[high], nums[mid] = nums[mid], nums[high]\n",
    "            high -= 1\n",
    "\n",
    "    return nums\n",
    "\n",
    "# Testing the solution\n",
    "assert sortZeroOneTwo([0,0,1,2,0,1,2,2,1,0]) == [0,0,0,0,1,1,1,2,2,2]"
   ]
  },
  {
   "cell_type": "code",
   "execution_count": 22,
   "id": "5e1e76e9",
   "metadata": {
    "execution": {
     "iopub.execute_input": "2024-09-26T03:10:20.227259Z",
     "iopub.status.busy": "2024-09-26T03:10:20.226962Z",
     "iopub.status.idle": "2024-09-26T03:10:20.231126Z",
     "shell.execute_reply": "2024-09-26T03:10:20.230574Z"
    },
    "lines_to_next_cell": 1,
    "papermill": {
     "duration": 0.011628,
     "end_time": "2024-09-26T03:10:20.231985",
     "exception": false,
     "start_time": "2024-09-26T03:10:20.220357",
     "status": "completed"
    },
    "tags": []
   },
   "outputs": [],
   "source": [
    "def maxSubArray(nums: list[int]) -> int:\n",
    "    \"\"\"\n",
    "    Kadane's algorithm\n",
    "    If at any pt total becomes less than 0, reset it\n",
    "    \"\"\"\n",
    "    max_, total = nums[0], 0\n",
    "    for n in nums:\n",
    "        total += n\n",
    "        max_ = max(max_, total)\n",
    "        if total < 0:\n",
    "            total = 0\n",
    "    return max_\n",
    "\n",
    "# Testing the solution\n",
    "assert maxSubArray([2, 3, 5, -2, 7, -4]) == 15\n",
    "assert maxSubArray([-2, -3, -7, -2, -10, -4]) == -2\n",
    "assert maxSubArray([-1, 2, 3, -1, 2, -6, 5]) == 6"
   ]
  },
  {
   "cell_type": "code",
   "execution_count": 23,
   "id": "028c7163",
   "metadata": {
    "execution": {
     "iopub.execute_input": "2024-09-26T03:10:20.245001Z",
     "iopub.status.busy": "2024-09-26T03:10:20.244569Z",
     "iopub.status.idle": "2024-09-26T03:10:20.248805Z",
     "shell.execute_reply": "2024-09-26T03:10:20.248359Z"
    },
    "lines_to_next_cell": 1,
    "papermill": {
     "duration": 0.01181,
     "end_time": "2024-09-26T03:10:20.249697",
     "exception": false,
     "start_time": "2024-09-26T03:10:20.237887",
     "status": "completed"
    },
    "tags": []
   },
   "outputs": [],
   "source": [
    "def majorityElement(nums: list[int]) -> int:\n",
    "    \"\"\"\n",
    "    Logic: Assume a number is the majority element, everytime we encounter num in nums that equals\n",
    "    our curr we increment count by 1 else decrement count by 1.\n",
    "\n",
    "    Continue doing until we have reached the end of the array\n",
    "    \"\"\"\n",
    "    result: int|None = None\n",
    "    freq: int = 0\n",
    "    for n in nums:\n",
    "        if not result:\n",
    "            result, freq = n, 1\n",
    "        elif n == result:\n",
    "            freq += 1\n",
    "        else:\n",
    "            freq -= 1\n",
    "\n",
    "        if freq == 0:\n",
    "            result = None\n",
    "\n",
    "    return result if result else 0\n",
    "\n",
    "# Testing the solution\n",
    "assert majorityElement([7, 0, 0, 1, 7, 7, 2, 7, 7]) == 7\n",
    "assert majorityElement([1, 1, 1, 2, 1, 2]) == 1\n",
    "assert majorityElement([-1, -1, -1, -1]) == -1"
   ]
  },
  {
   "cell_type": "code",
   "execution_count": 24,
   "id": "9ec51a9d",
   "metadata": {
    "execution": {
     "iopub.execute_input": "2024-09-26T03:10:20.262223Z",
     "iopub.status.busy": "2024-09-26T03:10:20.261853Z",
     "iopub.status.idle": "2024-09-26T03:10:20.267588Z",
     "shell.execute_reply": "2024-09-26T03:10:20.267016Z"
    },
    "lines_to_next_cell": 1,
    "papermill": {
     "duration": 0.01293,
     "end_time": "2024-09-26T03:10:20.268415",
     "exception": false,
     "start_time": "2024-09-26T03:10:20.255485",
     "status": "completed"
    },
    "tags": []
   },
   "outputs": [],
   "source": [
    "def majorityElementTwo(nums: list[int]) -> list[int]:\n",
    "    \"\"\"\n",
    "    Same as prev question but we have two slots now.\n",
    "    \"\"\"\n",
    "    N = len(nums)\n",
    "    n1, f1, n2, f2 = 0, 0, 0, 0\n",
    "    for n in nums:\n",
    "        if f1 == 0 and n != n2:\n",
    "            n1, f1 = n, 1\n",
    "        elif f2 == 0 and n != n1:\n",
    "            n2, f2 = n, 1\n",
    "        elif n == n1:\n",
    "            f1 += 1\n",
    "        elif n == n2:\n",
    "            f2 += 1\n",
    "        else:\n",
    "            f1, f2 = f1 - 1, f2 - 1\n",
    "\n",
    "    # Double check to ensure that the majority\n",
    "    # elements are occuring more than N // 3 times\n",
    "    freq: dict[int, int] = dict()\n",
    "    for n in nums:\n",
    "        if n in (n1, n2):\n",
    "            freq[n] = freq.get(n, 0) + 1\n",
    "\n",
    "    return [n for n in (n1, n2) if freq.get(n, 0) > N // 3]\n",
    "\n",
    "# Testing the solution\n",
    "assert majorityElementTwo([1,1,1,1]) == [1]\n",
    "assert majorityElementTwo([1,2,1,1,3,2,2]) == [1,2]\n",
    "assert majorityElementTwo([1,2,1,1,3,2]) == [1]\n",
    "assert majorityElementTwo([1,2,1,1,3,2,2,3]) == [1,2]\n",
    "assert majorityElementTwo([1,1,2,2,3,3,4,4,5,5]) == []"
   ]
  },
  {
   "cell_type": "code",
   "execution_count": 25,
   "id": "2abcdcfe",
   "metadata": {
    "execution": {
     "iopub.execute_input": "2024-09-26T03:10:20.281015Z",
     "iopub.status.busy": "2024-09-26T03:10:20.280540Z",
     "iopub.status.idle": "2024-09-26T03:10:20.285946Z",
     "shell.execute_reply": "2024-09-26T03:10:20.285488Z"
    },
    "lines_to_next_cell": 1,
    "papermill": {
     "duration": 0.012592,
     "end_time": "2024-09-26T03:10:20.286823",
     "exception": false,
     "start_time": "2024-09-26T03:10:20.274231",
     "status": "completed"
    },
    "tags": []
   },
   "outputs": [],
   "source": [
    "def numberOfInversions(nums: list[int]) -> int:\n",
    "    def modified_mergesort(low: int, high: int) -> int:\n",
    "        if low >= high:\n",
    "            return 0\n",
    "\n",
    "        else:\n",
    "            # Merge sort left and right\n",
    "            mid = (low + high) // 2\n",
    "            cnt_left = modified_mergesort(low, mid)\n",
    "            cnt_right = modified_mergesort(mid + 1, high)\n",
    "\n",
    "            # Create temp array for storing in order\n",
    "            temp: list[int] = []\n",
    "            cnt, i, j = 0, low, mid + 1\n",
    "            while i <= mid or j <= high:\n",
    "                if j > high or (i <= mid and nums[i] <= nums[j]):\n",
    "                    temp.append(nums[i])\n",
    "                    i += 1\n",
    "                else:\n",
    "                    temp.append(nums[j])\n",
    "                    j += 1\n",
    "\n",
    "                    # We are inserting from the right portion\n",
    "                    # Simply count how many elements we have\n",
    "                    # left in the 'left' array\n",
    "                    cnt += mid - i + 1\n",
    "\n",
    "            # Copy from temp back to array\n",
    "            for i in range(low, high + 1):\n",
    "                nums[i] = temp[i - low]\n",
    "\n",
    "            return cnt_left + cnt_right + cnt\n",
    "\n",
    "    inversions = modified_mergesort(0, len(nums) - 1)\n",
    "    return inversions\n",
    "\n",
    "assert numberOfInversions([2, 3, 7, 1, 3, 5]) == 5\n",
    "assert numberOfInversions([-10, -5, 6, 11, 15, 17]) == 0\n",
    "assert numberOfInversions([9, 5, 4, 2]) == 6"
   ]
  },
  {
   "cell_type": "code",
   "execution_count": 26,
   "id": "9c0a8830",
   "metadata": {
    "execution": {
     "iopub.execute_input": "2024-09-26T03:10:20.299169Z",
     "iopub.status.busy": "2024-09-26T03:10:20.298798Z",
     "iopub.status.idle": "2024-09-26T03:10:20.304251Z",
     "shell.execute_reply": "2024-09-26T03:10:20.303791Z"
    },
    "lines_to_next_cell": 1,
    "papermill": {
     "duration": 0.012581,
     "end_time": "2024-09-26T03:10:20.305133",
     "exception": false,
     "start_time": "2024-09-26T03:10:20.292552",
     "status": "completed"
    },
    "tags": []
   },
   "outputs": [],
   "source": [
    "def reversePairs(nums: list[int]) -> int:\n",
    "    N = len(nums)\n",
    "    def modified_mergesort(left: int, right: int) -> int:\n",
    "        if left >= right:\n",
    "            return 0\n",
    "        else:\n",
    "            mid = (left + right) // 2\n",
    "            left_rev_count = modified_mergesort(left, mid)\n",
    "            right_rev_count = modified_mergesort(mid + 1, right)\n",
    "\n",
    "            # Merge the two sorted portions together\n",
    "            rev_count, i, j = 0, left, mid + 1\n",
    "            temp: list[int] = []\n",
    "            while i <= mid or j <= right:\n",
    "                if j > right or (i <= mid and nums[i] <= nums[j]):\n",
    "                    temp.append(nums[i])\n",
    "                    i += 1\n",
    "                else:\n",
    "                    temp.append(nums[j])\n",
    "                    rev_count += mid + 1 - bisect.bisect(nums, 2 * nums[j], left, mid + 1)\n",
    "                    j += 1\n",
    "\n",
    "            # Join back into nums in correct order\n",
    "            for i in range(left, right + 1):\n",
    "                nums[i] = temp[i - left]\n",
    "\n",
    "            return left_rev_count + right_rev_count + rev_count\n",
    "\n",
    "    return modified_mergesort(0, N - 1)\n",
    "\n",
    "# Testing the solution\n",
    "assert reversePairs([6, 4, 1, 2, 7]) == 3\n",
    "assert reversePairs([5, 4, 4, 3, 3]) == 0\n",
    "assert reversePairs([6, 4, 4, 2, 2]) == 2"
   ]
  },
  {
   "cell_type": "code",
   "execution_count": 27,
   "id": "710b07ce",
   "metadata": {
    "execution": {
     "iopub.execute_input": "2024-09-26T03:10:20.317432Z",
     "iopub.status.busy": "2024-09-26T03:10:20.317261Z",
     "iopub.status.idle": "2024-09-26T03:10:20.321519Z",
     "shell.execute_reply": "2024-09-26T03:10:20.321087Z"
    },
    "lines_to_next_cell": 1,
    "papermill": {
     "duration": 0.011421,
     "end_time": "2024-09-26T03:10:20.322386",
     "exception": false,
     "start_time": "2024-09-26T03:10:20.310965",
     "status": "completed"
    },
    "tags": []
   },
   "outputs": [],
   "source": [
    "def maxProduct(nums: list[int]) -> int:\n",
    "    \"\"\"\n",
    "    If no negatives or even number of negatives, ans is the product of all\n",
    "    If odd negatives we need to pick either the suffix product or the prefix product\n",
    "\n",
    "    Iterate Left to right and then from right to left\n",
    "    If n == 0, reset acc = 1\n",
    "    Else acc *= n; max(result, acc)\n",
    "    \"\"\"\n",
    "    N = len(nums)\n",
    "    result, acc = nums[0], 1\n",
    "    for i in range(N):\n",
    "        acc *= nums[i]\n",
    "        result = max(acc, result)\n",
    "        if acc == 0:\n",
    "            acc = 1\n",
    "\n",
    "    acc = 1\n",
    "    for i in range(N - 1, -1, -1):\n",
    "        acc *= nums[i]\n",
    "        result = max(acc, result)\n",
    "        if acc == 0:\n",
    "            acc = 1\n",
    "\n",
    "    return result\n",
    "\n",
    "# Testing the solution\n",
    "assert maxProduct([4, 5, 3, 7, 1, 2]) == 840\n",
    "assert maxProduct([-5, 0, -2]) == 0\n",
    "assert maxProduct([1, -2, 3, 4, -4, -3]) == 144"
   ]
  },
  {
   "cell_type": "code",
   "execution_count": 28,
   "id": "013e8ce3",
   "metadata": {
    "execution": {
     "iopub.execute_input": "2024-09-26T03:10:20.334778Z",
     "iopub.status.busy": "2024-09-26T03:10:20.334336Z",
     "iopub.status.idle": "2024-09-26T03:10:20.338520Z",
     "shell.execute_reply": "2024-09-26T03:10:20.338090Z"
    },
    "lines_to_next_cell": 1,
    "papermill": {
     "duration": 0.011331,
     "end_time": "2024-09-26T03:10:20.339436",
     "exception": false,
     "start_time": "2024-09-26T03:10:20.328105",
     "status": "completed"
    },
    "tags": []
   },
   "outputs": [],
   "source": [
    "def merge(nums1: list[int], M: int, nums2: list[int], N: int) -> None:\n",
    "    # Shift nums1 to the right\n",
    "    i, j = M - 1, M + N - 1\n",
    "    while i >= 0:\n",
    "        nums1[j] = nums1[i]\n",
    "        i, j = i - 1, j - 1\n",
    "\n",
    "    # Do the usual merging that we do during merge sort\n",
    "    i, j, head = N, 0, 0\n",
    "    while i < M + N or j < N:\n",
    "        if j >= N or (i < M + N and nums1[i] <= nums2[j]):\n",
    "            nums1[head] = nums1[i]\n",
    "            i, head = i + 1, head + 1\n",
    "        else:\n",
    "            nums1[head] = nums2[j]\n",
    "            head, j = head + 1, j + 1"
   ]
  },
  {
   "cell_type": "markdown",
   "id": "6f886398",
   "metadata": {
    "papermill": {
     "duration": 0.005708,
     "end_time": "2024-09-26T03:10:20.350825",
     "exception": false,
     "start_time": "2024-09-26T03:10:20.345117",
     "status": "completed"
    },
    "tags": []
   },
   "source": [
    "LC Practice - 22nd Sept 2024"
   ]
  },
  {
   "cell_type": "code",
   "execution_count": 29,
   "id": "0fe84243",
   "metadata": {
    "execution": {
     "iopub.execute_input": "2024-09-26T03:10:20.363272Z",
     "iopub.status.busy": "2024-09-26T03:10:20.362825Z",
     "iopub.status.idle": "2024-09-26T03:10:20.369536Z",
     "shell.execute_reply": "2024-09-26T03:10:20.369080Z"
    },
    "lines_to_next_cell": 1,
    "papermill": {
     "duration": 0.013886,
     "end_time": "2024-09-26T03:10:20.370403",
     "exception": false,
     "start_time": "2024-09-26T03:10:20.356517",
     "status": "completed"
    },
    "tags": []
   },
   "outputs": [],
   "source": [
    "def longestConsecutiveOpt1(nums: list[int]) -> int:\n",
    "    \"\"\"\n",
    "    Insert n::nums into a set of intervals, merge them into DSU\n",
    "    Return size of largest such element\n",
    "    \"\"\"\n",
    "    class DSU:\n",
    "        def __init__(self) -> None:\n",
    "            self.sizes: dict[int, int] = dict()\n",
    "            self.parents: dict[int, int] = dict()\n",
    "            self.nums: set[int] = set()\n",
    "\n",
    "        def union(self, n1: int, n2: int) -> None:\n",
    "            ulp1, ulp2 = self.get_ultimate_parent(n1), self.get_ultimate_parent(n2)\n",
    "            if ulp1 == ulp2:\n",
    "                return\n",
    "            elif self.sizes[ulp1] <= self.sizes[ulp2]:\n",
    "                self.parents[ulp1] = ulp2\n",
    "                self.sizes[ulp2] += self.sizes[ulp1]\n",
    "            else:\n",
    "                self.parents[ulp2] = ulp1\n",
    "                self.sizes[ulp1] += self.sizes[ulp2]\n",
    "\n",
    "        def get_ultimate_parent(self, n: int) -> int:\n",
    "            parent = self.parents[n]\n",
    "            if parent == n:\n",
    "                self.parents[n] = parent\n",
    "                return parent\n",
    "            else:\n",
    "                up = self.get_ultimate_parent(parent)\n",
    "                self.parents[n] = up\n",
    "                return up\n",
    "\n",
    "    # DSU to store the prev and next num if they exist\n",
    "    dsu: DSU = DSU()\n",
    "    for n in nums:\n",
    "        if n not in dsu.nums:\n",
    "            dsu.nums.add(n)\n",
    "            dsu.sizes[n] = 1\n",
    "            dsu.parents[n] = n\n",
    "        if n - 1 in dsu.sizes:\n",
    "            dsu.union(n, n - 1)\n",
    "        if n + 1 in dsu.sizes:\n",
    "            dsu.union(n, n + 1)\n",
    "\n",
    "    return max(dsu.sizes.values())\n",
    "\n",
    "# Testing the solution\n",
    "assert longestConsecutiveOpt1([0, 3, 7, 2, 5, 8, 4, 6, 0, 1]) == 9\n",
    "assert longestConsecutiveOpt1([100, 4, 200, 1, 3, 2]) == 4\n",
    "assert longestConsecutiveOpt1([1, 9, 3, 10, 4, 20, 2]) == 4"
   ]
  },
  {
   "cell_type": "code",
   "execution_count": 30,
   "id": "0971eed3",
   "metadata": {
    "execution": {
     "iopub.execute_input": "2024-09-26T03:10:20.383155Z",
     "iopub.status.busy": "2024-09-26T03:10:20.382702Z",
     "iopub.status.idle": "2024-09-26T03:10:20.386897Z",
     "shell.execute_reply": "2024-09-26T03:10:20.386452Z"
    },
    "lines_to_next_cell": 1,
    "papermill": {
     "duration": 0.011461,
     "end_time": "2024-09-26T03:10:20.387726",
     "exception": false,
     "start_time": "2024-09-26T03:10:20.376265",
     "status": "completed"
    },
    "tags": []
   },
   "outputs": [],
   "source": [
    "def longestConsecutiveOpt2(nums: list[int]) -> int:\n",
    "    nums_set: set[int] = set(nums)\n",
    "    result = 0\n",
    "    for i in nums:\n",
    "        # Start of a consequetive sequence\n",
    "        if i - 1 not in nums_set:\n",
    "            curr, count = i, 0\n",
    "            while curr in nums_set:\n",
    "                curr, count = curr + 1, count + 1\n",
    "            result = max(result, count)\n",
    "\n",
    "    return result\n",
    "\n",
    "# Testing the solution\n",
    "assert longestConsecutiveOpt2([0, 3, 7, 2, 5, 8, 4, 6, 0, 1]) == 9\n",
    "assert longestConsecutiveOpt2([100, 4, 200, 1, 3, 2]) == 4\n",
    "assert longestConsecutiveOpt2([1, 9, 3, 10, 4, 20, 2]) == 4"
   ]
  },
  {
   "cell_type": "code",
   "execution_count": 31,
   "id": "8f99c2ba",
   "metadata": {
    "execution": {
     "iopub.execute_input": "2024-09-26T03:10:20.400099Z",
     "iopub.status.busy": "2024-09-26T03:10:20.399728Z",
     "iopub.status.idle": "2024-09-26T03:10:20.404507Z",
     "shell.execute_reply": "2024-09-26T03:10:20.404031Z"
    },
    "lines_to_next_cell": 1,
    "papermill": {
     "duration": 0.011869,
     "end_time": "2024-09-26T03:10:20.405324",
     "exception": false,
     "start_time": "2024-09-26T03:10:20.393455",
     "status": "completed"
    },
    "tags": []
   },
   "outputs": [],
   "source": [
    "def longestSubarray(nums: list[int], K: int) -> int:\n",
    "    N = len(nums)\n",
    "    max_length, curr_sum = 0, 0\n",
    "    prefix_: dict[int, int] = {0: -1}\n",
    "    for i in range(N):\n",
    "        curr_sum += nums[i]\n",
    "        target = curr_sum - K\n",
    "        if target in prefix_:\n",
    "            max_length = max(max_length, i - prefix_[target])\n",
    "        prefix_[curr_sum] = min(i, prefix_.get(curr_sum, i))\n",
    "\n",
    "    return max_length\n",
    "\n",
    "# Testing the solution\n",
    "assert longestSubarray([10, 5, 2, 7, 1, 9], 9) == 2\n",
    "assert longestSubarray([10, 5, 2, 7, 1, 9], 15) == 4\n",
    "assert longestSubarray([-3, -1, 2, 2], -4) == 2\n",
    "assert longestSubarray([-3, 2, 1], 6) == 0\n",
    "assert longestSubarray([-1, 1, 1], 1) == 3"
   ]
  },
  {
   "cell_type": "code",
   "execution_count": 32,
   "id": "45e3c4dd",
   "metadata": {
    "execution": {
     "iopub.execute_input": "2024-09-26T03:10:20.417710Z",
     "iopub.status.busy": "2024-09-26T03:10:20.417372Z",
     "iopub.status.idle": "2024-09-26T03:10:20.421289Z",
     "shell.execute_reply": "2024-09-26T03:10:20.420741Z"
    },
    "lines_to_next_cell": 1,
    "papermill": {
     "duration": 0.011084,
     "end_time": "2024-09-26T03:10:20.422228",
     "exception": false,
     "start_time": "2024-09-26T03:10:20.411144",
     "status": "completed"
    },
    "tags": []
   },
   "outputs": [],
   "source": [
    "def subarraySum(nums: list[int], K: int) -> int:\n",
    "    prefix_sums: collections.defaultdict[int, int] = collections.defaultdict(int, {0: 1})\n",
    "    result = total = 0\n",
    "    for n in nums:\n",
    "        total += n\n",
    "        result += prefix_sums[total - K]\n",
    "        prefix_sums[total] += 1\n",
    "\n",
    "    return result\n",
    "\n",
    "# Testing the solution\n",
    "assert subarraySum([1,1,1], 2) == 2\n",
    "assert subarraySum([1,2,3], 3) == 2\n",
    "assert subarraySum([3,1,2,4], 6) == 2"
   ]
  },
  {
   "cell_type": "code",
   "execution_count": 33,
   "id": "1287594a",
   "metadata": {
    "execution": {
     "iopub.execute_input": "2024-09-26T03:10:20.434361Z",
     "iopub.status.busy": "2024-09-26T03:10:20.434196Z",
     "iopub.status.idle": "2024-09-26T03:10:20.438008Z",
     "shell.execute_reply": "2024-09-26T03:10:20.437593Z"
    },
    "lines_to_next_cell": 1,
    "papermill": {
     "duration": 0.010937,
     "end_time": "2024-09-26T03:10:20.438895",
     "exception": false,
     "start_time": "2024-09-26T03:10:20.427958",
     "status": "completed"
    },
    "tags": []
   },
   "outputs": [],
   "source": [
    "def subarraysWithXorK(nums: list[int], K: int) -> int:\n",
    "    prefix_sums: collections.defaultdict[int, int] = collections.defaultdict(int, {0: 1})\n",
    "    curr: int = 0\n",
    "    result: int = 0\n",
    "    for n in nums:\n",
    "        curr ^= n\n",
    "        result += prefix_sums[curr ^ K]\n",
    "        prefix_sums[curr] += 1\n",
    "\n",
    "    return result\n",
    "\n",
    "# Testing the solution\n",
    "assert subarraysWithXorK([4, 2, 2, 6, 4], 6) == 4\n",
    "assert subarraysWithXorK([5, 6, 7, 8, 9], 5) == 2\n",
    "assert subarraysWithXorK([5, 2, 9], 7) == 1"
   ]
  },
  {
   "cell_type": "markdown",
   "id": "11f2ed4c",
   "metadata": {
    "papermill": {
     "duration": 0.00619,
     "end_time": "2024-09-26T03:10:20.450888",
     "exception": false,
     "start_time": "2024-09-26T03:10:20.444698",
     "status": "completed"
    },
    "tags": []
   },
   "source": [
    "Binary Search"
   ]
  },
  {
   "cell_type": "code",
   "execution_count": 34,
   "id": "4728ba08",
   "metadata": {
    "execution": {
     "iopub.execute_input": "2024-09-26T03:10:20.464214Z",
     "iopub.status.busy": "2024-09-26T03:10:20.463821Z",
     "iopub.status.idle": "2024-09-26T03:10:20.468046Z",
     "shell.execute_reply": "2024-09-26T03:10:20.467595Z"
    },
    "lines_to_next_cell": 1,
    "papermill": {
     "duration": 0.011832,
     "end_time": "2024-09-26T03:10:20.468908",
     "exception": false,
     "start_time": "2024-09-26T03:10:20.457076",
     "status": "completed"
    },
    "tags": []
   },
   "outputs": [],
   "source": [
    "def search(nums: list[int], target: int) -> int:\n",
    "    low, high = 0, len(nums) - 1\n",
    "    while low <= high:\n",
    "        mid = (low + high) // 2\n",
    "        if nums[mid] == target:\n",
    "            return mid\n",
    "        elif nums[mid] < target:\n",
    "            low = mid + 1\n",
    "        else:\n",
    "            high = mid - 1\n",
    "    return -1\n",
    "\n",
    "# Testing the solution\n",
    "assert search([-1,0,3,5,9,12], 9) == 4\n",
    "assert search([-1,0,3,5,9,12], 2) == -1\n",
    "assert search([-1,0,3,5,9,12], -1) == 0"
   ]
  },
  {
   "cell_type": "code",
   "execution_count": 35,
   "id": "f8372662",
   "metadata": {
    "execution": {
     "iopub.execute_input": "2024-09-26T03:10:20.481276Z",
     "iopub.status.busy": "2024-09-26T03:10:20.481112Z",
     "iopub.status.idle": "2024-09-26T03:10:20.484820Z",
     "shell.execute_reply": "2024-09-26T03:10:20.484333Z"
    },
    "lines_to_next_cell": 1,
    "papermill": {
     "duration": 0.011189,
     "end_time": "2024-09-26T03:10:20.485805",
     "exception": false,
     "start_time": "2024-09-26T03:10:20.474616",
     "status": "completed"
    },
    "tags": []
   },
   "outputs": [],
   "source": [
    "def lowerBound(nums: list[int], X: int) -> int:\n",
    "    low, high = 0, len(nums) - 1\n",
    "    while low <= high:\n",
    "        mid = (low + high) // 2\n",
    "        if nums[mid] < X:\n",
    "            low = mid + 1\n",
    "        else:\n",
    "            high = mid - 1\n",
    "\n",
    "    return low\n",
    "\n",
    "# Testing the solution\n",
    "assert lowerBound([1,2,2,3], 2) == 1\n",
    "assert lowerBound([3,5,8,15,19], 9) == 3\n",
    "assert lowerBound([3,5,8,15,19], 3) == 0"
   ]
  },
  {
   "cell_type": "code",
   "execution_count": 36,
   "id": "426c772b",
   "metadata": {
    "execution": {
     "iopub.execute_input": "2024-09-26T03:10:20.503212Z",
     "iopub.status.busy": "2024-09-26T03:10:20.503005Z",
     "iopub.status.idle": "2024-09-26T03:10:20.506908Z",
     "shell.execute_reply": "2024-09-26T03:10:20.506394Z"
    },
    "lines_to_next_cell": 1,
    "papermill": {
     "duration": 0.013485,
     "end_time": "2024-09-26T03:10:20.507725",
     "exception": false,
     "start_time": "2024-09-26T03:10:20.494240",
     "status": "completed"
    },
    "tags": []
   },
   "outputs": [],
   "source": [
    "def upperBound(nums: list[int], X: int) -> int:\n",
    "    low, high = 0, len(nums) - 1\n",
    "    while low <= high:\n",
    "        mid = (low + high) // 2\n",
    "        if nums[mid] <= X:\n",
    "            low = mid + 1\n",
    "        else:\n",
    "            high = mid - 1\n",
    "\n",
    "    return low\n",
    "\n",
    "# Testing the solution\n",
    "assert upperBound([1,2,2,3], 2) == 3\n",
    "assert upperBound([3,5,8,15,19], 9) == 3\n",
    "assert upperBound([3,5,8,15,19], 3) == 1"
   ]
  },
  {
   "cell_type": "code",
   "execution_count": 37,
   "id": "40be1c04",
   "metadata": {
    "execution": {
     "iopub.execute_input": "2024-09-26T03:10:20.520017Z",
     "iopub.status.busy": "2024-09-26T03:10:20.519829Z",
     "iopub.status.idle": "2024-09-26T03:10:20.523796Z",
     "shell.execute_reply": "2024-09-26T03:10:20.523270Z"
    },
    "lines_to_next_cell": 1,
    "papermill": {
     "duration": 0.011164,
     "end_time": "2024-09-26T03:10:20.524642",
     "exception": false,
     "start_time": "2024-09-26T03:10:20.513478",
     "status": "completed"
    },
    "tags": []
   },
   "outputs": [],
   "source": [
    "def searchInsert(nums: list[int], target: int) -> int:\n",
    "    low, high = 0, len(nums) - 1\n",
    "    while low <= high:\n",
    "        mid = (low + high) // 2\n",
    "        if nums[mid] < target:\n",
    "            low = mid + 1\n",
    "        else:\n",
    "            high = mid - 1\n",
    "\n",
    "    return low\n",
    "\n",
    "# Testing the solution\n",
    "assert searchInsert([1,3,5,6], 5) == 2\n",
    "assert searchInsert([1, 3, 5, 6], 2) == 1\n",
    "assert searchInsert([1, 3, 5, 6], 7) == 4"
   ]
  },
  {
   "cell_type": "code",
   "execution_count": 38,
   "id": "5ea5a600",
   "metadata": {
    "execution": {
     "iopub.execute_input": "2024-09-26T03:10:20.536978Z",
     "iopub.status.busy": "2024-09-26T03:10:20.536516Z",
     "iopub.status.idle": "2024-09-26T03:10:20.541861Z",
     "shell.execute_reply": "2024-09-26T03:10:20.541340Z"
    },
    "lines_to_next_cell": 1,
    "papermill": {
     "duration": 0.012423,
     "end_time": "2024-09-26T03:10:20.542744",
     "exception": false,
     "start_time": "2024-09-26T03:10:20.530321",
     "status": "completed"
    },
    "tags": []
   },
   "outputs": [],
   "source": [
    "def getFloorAndCeil(nums: list[int], X: int):\n",
    "    N = len(nums)\n",
    "    LB = bisect.bisect_left(nums, X)\n",
    "    if X < nums[0]:\n",
    "        return -1, nums[0]\n",
    "    elif nums[-1] < X:\n",
    "        return nums[-1], -1\n",
    "    elif nums[LB] == X:\n",
    "        return X, X\n",
    "    else:\n",
    "        return nums[LB - 1], nums[LB]\n",
    "\n",
    "# Testing the solution\n",
    "assert getFloorAndCeil([3, 4, 4, 7, 8, 8], 5) == (4, 7)\n",
    "assert getFloorAndCeil([3, 4, 4, 7, 8, 10], 8) == (8, 8)\n",
    "assert getFloorAndCeil([3, 4, 4, 7, 8, 10], 12) == (10, -1)\n",
    "assert getFloorAndCeil([3, 4, 4, 7, 8, 10], 2) == (-1, 3)"
   ]
  },
  {
   "cell_type": "code",
   "execution_count": 39,
   "id": "2ca825d0",
   "metadata": {
    "execution": {
     "iopub.execute_input": "2024-09-26T03:10:20.555255Z",
     "iopub.status.busy": "2024-09-26T03:10:20.554754Z",
     "iopub.status.idle": "2024-09-26T03:10:20.559681Z",
     "shell.execute_reply": "2024-09-26T03:10:20.559161Z"
    },
    "lines_to_next_cell": 1,
    "papermill": {
     "duration": 0.012184,
     "end_time": "2024-09-26T03:10:20.560638",
     "exception": false,
     "start_time": "2024-09-26T03:10:20.548454",
     "status": "completed"
    },
    "tags": []
   },
   "outputs": [],
   "source": [
    "def searchRange(nums: list[int], target: int) -> tuple[int, int]:\n",
    "    N = len(nums)\n",
    "    LB, UB = bisect.bisect_left(nums, target), bisect.bisect_right(nums, target)\n",
    "    if LB == N or nums[LB] != target:\n",
    "        return -1, -1\n",
    "    else:\n",
    "        return LB, UB - 1\n",
    "\n",
    "# Testing the solution\n",
    "assert searchRange([5, 7, 7, 8, 8, 10], 8) == (3, 4)\n",
    "assert searchRange([5, 7, 7, 8, 8, 10], 6) == (-1, -1)\n",
    "assert searchRange([5, 7, 7, 8, 8, 10], 5) == (0, 0)"
   ]
  },
  {
   "cell_type": "code",
   "execution_count": 40,
   "id": "387f770f",
   "metadata": {
    "execution": {
     "iopub.execute_input": "2024-09-26T03:10:20.572892Z",
     "iopub.status.busy": "2024-09-26T03:10:20.572571Z",
     "iopub.status.idle": "2024-09-26T03:10:20.577361Z",
     "shell.execute_reply": "2024-09-26T03:10:20.576831Z"
    },
    "papermill": {
     "duration": 0.011896,
     "end_time": "2024-09-26T03:10:20.578240",
     "exception": false,
     "start_time": "2024-09-26T03:10:20.566344",
     "status": "completed"
    },
    "tags": []
   },
   "outputs": [],
   "source": [
    "def searchSorted(nums: list[int], K: int) -> int:\n",
    "    \"\"\"\n",
    "    Trick here is to realize that the even tho we have the nums rotated,\n",
    "    either left half or the right half would still remain sorted.\n",
    "    \"\"\"\n",
    "    N = len(nums)\n",
    "    low, high = 0, N - 1\n",
    "    while low <= high:\n",
    "        mid = (low + high) // 2\n",
    "\n",
    "        # Mid is K\n",
    "        if nums[mid] == K:\n",
    "            return mid\n",
    "\n",
    "        # Left half if sorted\n",
    "        elif nums[low] < nums[mid]:\n",
    "            # K lies within sorted range\n",
    "            if nums[low] <= K <= nums[mid]:\n",
    "                high = mid - 1\n",
    "            else:\n",
    "                low = mid + 1\n",
    "\n",
    "        # Right half is sorted\n",
    "        else:\n",
    "            # K lies within sorted range\n",
    "            if nums[mid] <= K <= nums[high]:\n",
    "                low = mid + 1\n",
    "            else:\n",
    "                high = mid - 1\n",
    "\n",
    "    return -1\n",
    "\n",
    "# Testing the solution\n",
    "assert searchSorted([4, 5, 6, 7, 0, 1, 2], 0) == 4\n",
    "assert searchSorted([4, 5, 6, 7, 0, 1, 2], 3) == -1\n",
    "assert searchSorted([4, 5, 6, 7, 0, 1, 2], 5) == 1"
   ]
  }
 ],
 "metadata": {
  "kernelspec": {
   "display_name": "Python 3 (ipykernel)",
   "language": "python",
   "name": "python3"
  },
  "language_info": {
   "codemirror_mode": {
    "name": "ipython",
    "version": 3
   },
   "file_extension": ".py",
   "mimetype": "text/x-python",
   "name": "python",
   "nbconvert_exporter": "python",
   "pygments_lexer": "ipython3",
   "version": "3.12.6"
  },
  "papermill": {
   "default_parameters": {},
   "duration": 2.018754,
   "end_time": "2024-09-26T03:10:20.699146",
   "environment_variables": {},
   "exception": null,
   "input_path": "practice/009.ipynb",
   "output_path": "practice/009.ipynb",
   "parameters": {},
   "start_time": "2024-09-26T03:10:18.680392",
   "version": "2.6.0"
  }
 },
 "nbformat": 4,
 "nbformat_minor": 5
}