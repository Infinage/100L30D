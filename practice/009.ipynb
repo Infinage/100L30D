{
 "cells": [
  {
   "cell_type": "markdown",
   "id": "8816b2e8",
   "metadata": {
    "papermill": {
     "duration": 0.005898,
     "end_time": "2024-09-23T14:35:55.639082",
     "exception": false,
     "start_time": "2024-09-23T14:35:55.633184",
     "status": "completed"
    },
    "tags": []
   },
   "source": [
    "#### Basic imports"
   ]
  },
  {
   "cell_type": "code",
   "execution_count": 1,
   "id": "b4a2ab2d",
   "metadata": {
    "execution": {
     "iopub.execute_input": "2024-09-23T14:35:55.650721Z",
     "iopub.status.busy": "2024-09-23T14:35:55.650217Z",
     "iopub.status.idle": "2024-09-23T14:35:55.654188Z",
     "shell.execute_reply": "2024-09-23T14:35:55.653623Z"
    },
    "lines_to_next_cell": 1,
    "papermill": {
     "duration": 0.010794,
     "end_time": "2024-09-23T14:35:55.655128",
     "exception": false,
     "start_time": "2024-09-23T14:35:55.644334",
     "status": "completed"
    },
    "tags": []
   },
   "outputs": [],
   "source": [
    "import math\n",
    "import heapq\n",
    "import bisect\n",
    "import collections\n",
    "import itertools\n",
    "import functools\n",
    "import random\n",
    "import typing"
   ]
  },
  {
   "cell_type": "code",
   "execution_count": 2,
   "id": "03c6208d",
   "metadata": {
    "execution": {
     "iopub.execute_input": "2024-09-23T14:35:55.666403Z",
     "iopub.status.busy": "2024-09-23T14:35:55.665944Z",
     "iopub.status.idle": "2024-09-23T14:35:55.670059Z",
     "shell.execute_reply": "2024-09-23T14:35:55.669505Z"
    },
    "lines_to_next_cell": 1,
    "papermill": {
     "duration": 0.010659,
     "end_time": "2024-09-23T14:35:55.671036",
     "exception": false,
     "start_time": "2024-09-23T14:35:55.660377",
     "status": "completed"
    },
    "tags": []
   },
   "outputs": [],
   "source": [
    "def ssort(nums: list[int]) -> list[int]:\n",
    "    \"Select the smallest / largest from the list and push it to the end.\"\n",
    "    N = len(nums)\n",
    "    for i in range(N):\n",
    "        min_ = i\n",
    "        for j in range(i + 1, N):\n",
    "            if nums[min_] > nums[j]:\n",
    "                min_ = j\n",
    "        nums[min_], nums[i] = nums[i], nums[min_]\n",
    "    return nums\n",
    "\n",
    "# Testing the solution\n",
    "assert ssort([7,4,1,5,3]) == [1,3,4,5,7]"
   ]
  },
  {
   "cell_type": "code",
   "execution_count": 3,
   "id": "5666a6a3",
   "metadata": {
    "execution": {
     "iopub.execute_input": "2024-09-23T14:35:55.682379Z",
     "iopub.status.busy": "2024-09-23T14:35:55.681858Z",
     "iopub.status.idle": "2024-09-23T14:35:55.686276Z",
     "shell.execute_reply": "2024-09-23T14:35:55.685829Z"
    },
    "lines_to_next_cell": 1,
    "papermill": {
     "duration": 0.010984,
     "end_time": "2024-09-23T14:35:55.687169",
     "exception": false,
     "start_time": "2024-09-23T14:35:55.676185",
     "status": "completed"
    },
    "tags": []
   },
   "outputs": [],
   "source": [
    "def bsort(nums: list[int]) -> list[int]:\n",
    "    \"Compare consecutive elements and bubble the larger number towards the end.\"\n",
    "    N = len(nums)\n",
    "    for j in range(N - 1, -1, -1):\n",
    "        swapped = False\n",
    "        for i in range(j):\n",
    "            if nums[i] > nums[i + 1]:\n",
    "                nums[i], nums[i + 1] = nums[i + 1], nums[i]\n",
    "                swapped = True\n",
    "        if not swapped:\n",
    "            break\n",
    "    return nums\n",
    "\n",
    "# Testing the solution\n",
    "assert bsort([7,4,1,5,3]) == [1,3,4,5,7]"
   ]
  },
  {
   "cell_type": "code",
   "execution_count": 4,
   "id": "db64fcf9",
   "metadata": {
    "execution": {
     "iopub.execute_input": "2024-09-23T14:35:55.698737Z",
     "iopub.status.busy": "2024-09-23T14:35:55.698244Z",
     "iopub.status.idle": "2024-09-23T14:35:55.702261Z",
     "shell.execute_reply": "2024-09-23T14:35:55.701769Z"
    },
    "lines_to_next_cell": 1,
    "papermill": {
     "duration": 0.010759,
     "end_time": "2024-09-23T14:35:55.703194",
     "exception": false,
     "start_time": "2024-09-23T14:35:55.692435",
     "status": "completed"
    },
    "tags": []
   },
   "outputs": [],
   "source": [
    "def isort(nums: list[int]) -> list[int]:\n",
    "    \"Take an element and place it at the correct order\"\n",
    "    N = len(nums)\n",
    "    for i in range(1, N):\n",
    "        curr, j = nums[i], i - 1\n",
    "        while j >= 0 and nums[j] > curr:\n",
    "            nums[j + 1] = nums[j]\n",
    "            j -= 1\n",
    "        nums[j + 1] = curr\n",
    "    return nums\n",
    "\n",
    "# Testing the solution\n",
    "assert isort([5,4,3,2,1]) == [1,2,3,4,5]"
   ]
  },
  {
   "cell_type": "code",
   "execution_count": 5,
   "id": "0f2ee15b",
   "metadata": {
    "execution": {
     "iopub.execute_input": "2024-09-23T14:35:55.714682Z",
     "iopub.status.busy": "2024-09-23T14:35:55.714188Z",
     "iopub.status.idle": "2024-09-23T14:35:55.721125Z",
     "shell.execute_reply": "2024-09-23T14:35:55.720577Z"
    },
    "lines_to_next_cell": 1,
    "papermill": {
     "duration": 0.013588,
     "end_time": "2024-09-23T14:35:55.722070",
     "exception": false,
     "start_time": "2024-09-23T14:35:55.708482",
     "status": "completed"
    },
    "tags": []
   },
   "outputs": [],
   "source": [
    "def qsort(nums: list[int]) -> list[int]:\n",
    "    def partition(left: int, right: int, partition_idx: int) -> int:\n",
    "        # Since we introduce a random pivot approach, we put it in a place\n",
    "        # where our algorithm usually starts at\n",
    "        nums[left], nums[partition_idx] = nums[partition_idx], nums[left]\n",
    "\n",
    "        # Same steps\n",
    "        pivot = nums[left]\n",
    "        i = left + 1\n",
    "        for j in range(left + 1, right + 1):\n",
    "            if nums[j] < pivot:\n",
    "                nums[i], nums[j] = nums[j], nums[i]\n",
    "                i += 1\n",
    "\n",
    "        nums[left], nums[i - 1] = nums[i - 1], nums[left]\n",
    "        return i - 1\n",
    "\n",
    "    def _qsort(start: int, end: int) -> None:\n",
    "        if start < end:\n",
    "            partition_idx = partition(start, end, random.randint(start, end))\n",
    "            _qsort(start, partition_idx - 1)\n",
    "            _qsort(partition_idx + 1, end)\n",
    "\n",
    "    _qsort(0, len(nums) - 1)\n",
    "    return nums\n",
    "\n",
    "# Testing the solution\n",
    "assert qsort([5,4,3,2,1]) == [1,2,3,4,5]\n",
    "assert qsort([6,5,4,3,2,1]) == [1,2,3,4,5,6]"
   ]
  },
  {
   "cell_type": "code",
   "execution_count": 6,
   "id": "9fa5cda2",
   "metadata": {
    "execution": {
     "iopub.execute_input": "2024-09-23T14:35:55.734178Z",
     "iopub.status.busy": "2024-09-23T14:35:55.733598Z",
     "iopub.status.idle": "2024-09-23T14:35:55.739030Z",
     "shell.execute_reply": "2024-09-23T14:35:55.738547Z"
    },
    "lines_to_next_cell": 1,
    "papermill": {
     "duration": 0.012081,
     "end_time": "2024-09-23T14:35:55.739875",
     "exception": false,
     "start_time": "2024-09-23T14:35:55.727794",
     "status": "completed"
    },
    "tags": []
   },
   "outputs": [],
   "source": [
    "def msort(nums: list[int]) -> list[int]:\n",
    "    def _msort(left: int, right: int) -> None:\n",
    "        if left < right:\n",
    "            mid = (left + right) // 2\n",
    "\n",
    "            # Very imp to split into (left, mid) and (mid + 1, right)\n",
    "            # Try to do it other way (left, mid - 1), (mid, right) wouldn't work\n",
    "            _msort(left, mid)\n",
    "            _msort(mid + 1, right)\n",
    "\n",
    "            # Merge the two sorted arrays\n",
    "            temp: list[int] = []\n",
    "            i, j = left, mid + 1\n",
    "            while i <= mid or j <= right:\n",
    "                if j > right or (i <= mid and nums[i] < nums[j]):\n",
    "                    temp.append(nums[i])\n",
    "                    i += 1\n",
    "                else:\n",
    "                    temp.append(nums[j])\n",
    "                    j += 1\n",
    "\n",
    "            # Reassign the sorted values back to original array\n",
    "            nums[left: right + 1] = temp\n",
    "\n",
    "    _msort(0, len(nums) - 1)\n",
    "    return nums\n",
    "\n",
    "# Testing the solution\n",
    "assert msort([5,4,3,2,1]) == [1,2,3,4,5]\n",
    "assert msort([6,5,4,3,2,1]) == [1,2,3,4,5,6]"
   ]
  },
  {
   "cell_type": "code",
   "execution_count": 7,
   "id": "bf753ad8",
   "metadata": {
    "execution": {
     "iopub.execute_input": "2024-09-23T14:35:55.751506Z",
     "iopub.status.busy": "2024-09-23T14:35:55.750966Z",
     "iopub.status.idle": "2024-09-23T14:35:55.755272Z",
     "shell.execute_reply": "2024-09-23T14:35:55.754821Z"
    },
    "lines_to_next_cell": 1,
    "papermill": {
     "duration": 0.010948,
     "end_time": "2024-09-23T14:35:55.756153",
     "exception": false,
     "start_time": "2024-09-23T14:35:55.745205",
     "status": "completed"
    },
    "tags": []
   },
   "outputs": [],
   "source": [
    "def secondLargestElement(nums: list[int]):\n",
    "    \"Largest - use min heap; Smallest - use max heap\"\n",
    "    heap: list[int] = []\n",
    "    for n in set(nums):\n",
    "        heapq.heappush(heap, n)\n",
    "        if len(heap) > 2:\n",
    "            heapq.heappop(heap)\n",
    "\n",
    "    return heap[0] if len(heap) == 2 else -1\n",
    "\n",
    "# Testing the solution\n",
    "assert secondLargestElement([10,10,10,10,10]) == -1\n",
    "assert secondLargestElement([8,8,7,6,5]) == 7\n",
    "assert secondLargestElement([7,7,2,2,10,10,10]) == 7"
   ]
  },
  {
   "cell_type": "code",
   "execution_count": 8,
   "id": "649e052f",
   "metadata": {
    "execution": {
     "iopub.execute_input": "2024-09-23T14:35:55.767588Z",
     "iopub.status.busy": "2024-09-23T14:35:55.767069Z",
     "iopub.status.idle": "2024-09-23T14:35:55.772027Z",
     "shell.execute_reply": "2024-09-23T14:35:55.771549Z"
    },
    "lines_to_next_cell": 1,
    "papermill": {
     "duration": 0.011467,
     "end_time": "2024-09-23T14:35:55.772856",
     "exception": false,
     "start_time": "2024-09-23T14:35:55.761389",
     "status": "completed"
    },
    "tags": []
   },
   "outputs": [],
   "source": [
    "def rotateArray(nums: list[int], K: int) -> list[int]:\n",
    "    def reverse(start: int, end: int) -> None:\n",
    "        while start < end:\n",
    "            nums[start], nums[end] = nums[end], nums[start]\n",
    "            start, end = start + 1, end - 1\n",
    "\n",
    "    N = len(nums)\n",
    "    K = K % N\n",
    "    reverse(0, K - 1)\n",
    "    reverse(K, N - 1)\n",
    "    reverse(0, N - 1)\n",
    "    return nums\n",
    "\n",
    "# Testing the solution\n",
    "assert rotateArray([1,2,3,4,5,6], 2) == [3,4,5,6,1,2]\n",
    "assert rotateArray([3,4,1,5,3,-5], 8) == [1,5,3,-5,3,4]\n",
    "assert rotateArray([1,2,3,4,5], 4) == [5,1,2,3,4]"
   ]
  },
  {
   "cell_type": "code",
   "execution_count": 9,
   "id": "60360c89",
   "metadata": {
    "execution": {
     "iopub.execute_input": "2024-09-23T14:35:55.784380Z",
     "iopub.status.busy": "2024-09-23T14:35:55.783782Z",
     "iopub.status.idle": "2024-09-23T14:35:55.787530Z",
     "shell.execute_reply": "2024-09-23T14:35:55.787003Z"
    },
    "lines_to_next_cell": 1,
    "papermill": {
     "duration": 0.010298,
     "end_time": "2024-09-23T14:35:55.788423",
     "exception": false,
     "start_time": "2024-09-23T14:35:55.778125",
     "status": "completed"
    },
    "tags": []
   },
   "outputs": [],
   "source": [
    "def moveZeros(nums: list[int]) -> None:\n",
    "    # All index positions until i are filled with non zeros\n",
    "    i = 0\n",
    "    for j in range(len(nums)):\n",
    "        if nums[j] != 0:\n",
    "            nums[i] = nums[j]\n",
    "            i += 1\n",
    "\n",
    "    # Assign all left over positions as 0\n",
    "    for j in range(i, len(nums)):\n",
    "        nums[j] = 0"
   ]
  },
  {
   "cell_type": "code",
   "execution_count": 10,
   "id": "e23bf205",
   "metadata": {
    "execution": {
     "iopub.execute_input": "2024-09-23T14:35:55.799925Z",
     "iopub.status.busy": "2024-09-23T14:35:55.799357Z",
     "iopub.status.idle": "2024-09-23T14:35:55.803117Z",
     "shell.execute_reply": "2024-09-23T14:35:55.802663Z"
    },
    "lines_to_next_cell": 1,
    "papermill": {
     "duration": 0.010469,
     "end_time": "2024-09-23T14:35:55.804013",
     "exception": false,
     "start_time": "2024-09-23T14:35:55.793544",
     "status": "completed"
    },
    "tags": []
   },
   "outputs": [],
   "source": [
    "def removeDuplicates(nums: list[int]) -> None:\n",
    "    # Two pointer approach\n",
    "    i = 1\n",
    "    for j in range(1, len(nums)):\n",
    "        if nums[i - 1] != nums[j]:\n",
    "            nums[i] = nums[j]\n",
    "            i += 1\n",
    "\n",
    "    # Assign left overs as 0\n",
    "    for j in range(i, len(nums)):\n",
    "        nums[j] = 0"
   ]
  },
  {
   "cell_type": "code",
   "execution_count": 11,
   "id": "3a3f2191",
   "metadata": {
    "execution": {
     "iopub.execute_input": "2024-09-23T14:35:55.815466Z",
     "iopub.status.busy": "2024-09-23T14:35:55.814971Z",
     "iopub.status.idle": "2024-09-23T14:35:55.822205Z",
     "shell.execute_reply": "2024-09-23T14:35:55.821737Z"
    },
    "lines_to_next_cell": 1,
    "papermill": {
     "duration": 0.013822,
     "end_time": "2024-09-23T14:35:55.823079",
     "exception": false,
     "start_time": "2024-09-23T14:35:55.809257",
     "status": "completed"
    },
    "tags": []
   },
   "outputs": [],
   "source": [
    "def findSafeWalk(grid: list[list[int]], health: int) -> bool:\n",
    "    M, N = len(grid), len(grid[0])\n",
    "    costs: collections.defaultdict[tuple[int, int], int] = collections.defaultdict(lambda: 0)\n",
    "    heap: list[tuple[int, tuple[int, int]]] = [(-health if grid[0][0] == 0 else -(health - 1), (0, 0))]\n",
    "    while heap:\n",
    "        curr_health, (x, y) = heapq.heappop(heap)\n",
    "        curr_health = -curr_health\n",
    "        for (x_, y_) in [(x + 1, y), (x - 1, y), (x, y + 1), (x, y - 1)]:\n",
    "            if 0 <= x_ < M and 0 <= y_ < N:\n",
    "                next_health = curr_health if grid[x_][y_] == 0 else curr_health - 1\n",
    "                if next_health > costs[(x_, y_)]:\n",
    "                    costs[(x_, y_)] = next_health\n",
    "                    heapq.heappush(heap, (-next_health, (x_, y_)))\n",
    "\n",
    "    return costs[(M - 1, N - 1)] > 0\n",
    "\n",
    "# Testing the solution\n",
    "assert findSafeWalk([[0,1,0,0,0],[0,1,0,1,0],[0,0,0,1,0]], 1) == True\n",
    "assert findSafeWalk([[0,1,1,0,0,0],[1,0,1,0,0,0],[0,1,1,1,0,1],[0,0,1,0,1,0]], 3) == False\n",
    "assert findSafeWalk([[1,1,1],[1,0,1],[1,1,1]], 5) == True\n",
    "assert findSafeWalk([[1,1,1,1]], 4) == False"
   ]
  },
  {
   "cell_type": "code",
   "execution_count": 12,
   "id": "4620e621",
   "metadata": {
    "execution": {
     "iopub.execute_input": "2024-09-23T14:35:55.834402Z",
     "iopub.status.busy": "2024-09-23T14:35:55.833878Z",
     "iopub.status.idle": "2024-09-23T14:35:55.838237Z",
     "shell.execute_reply": "2024-09-23T14:35:55.837780Z"
    },
    "lines_to_next_cell": 1,
    "papermill": {
     "duration": 0.010819,
     "end_time": "2024-09-23T14:35:55.839076",
     "exception": false,
     "start_time": "2024-09-23T14:35:55.828257",
     "status": "completed"
    },
    "tags": []
   },
   "outputs": [],
   "source": [
    "def intersectionArray(nums1: list[int], nums2: list[int]) -> list[int]:\n",
    "    i, j, N1, N2 = 0, 0, len(nums1), len(nums2)\n",
    "    result: list[int] = []\n",
    "    while i < N1 and j < N2:\n",
    "        if nums1[i] == nums2[j]:\n",
    "            result.append(nums1[i])\n",
    "            i, j = i + 1, j + 1\n",
    "        elif nums1[i] < nums2[j]:\n",
    "            i += 1\n",
    "        else:\n",
    "            j += 1\n",
    "    return result\n",
    "\n",
    "# Testing the solution\n",
    "assert intersectionArray([1,2,2,3,5], [1,2,7]) == [1,2]\n",
    "assert intersectionArray([1,2,2,3], [4,5,7]) == []"
   ]
  },
  {
   "cell_type": "code",
   "execution_count": 13,
   "id": "6aace28f",
   "metadata": {
    "execution": {
     "iopub.execute_input": "2024-09-23T14:35:55.850265Z",
     "iopub.status.busy": "2024-09-23T14:35:55.849759Z",
     "iopub.status.idle": "2024-09-23T14:35:55.854152Z",
     "shell.execute_reply": "2024-09-23T14:35:55.853702Z"
    },
    "lines_to_next_cell": 1,
    "papermill": {
     "duration": 0.010809,
     "end_time": "2024-09-23T14:35:55.855033",
     "exception": false,
     "start_time": "2024-09-23T14:35:55.844224",
     "status": "completed"
    },
    "tags": []
   },
   "outputs": [],
   "source": [
    "def leaders(nums: list[int]) -> list[int]:\n",
    "    result: list[int] = []\n",
    "    for i in range(len(nums) - 1, -1, -1):\n",
    "        if not result or result[-1] < nums[i]:\n",
    "            result.append(nums[i])\n",
    "    result.reverse()\n",
    "    return result\n",
    "\n",
    "# Testing the solution\n",
    "assert leaders([1,2,5,3,1,2]) == [5,3,2]\n",
    "assert leaders([-3,4,5,1,-4,-5]) == [5,1,-4,-5]\n",
    "assert leaders([-3,4,5,1,-30,-10]) == [5,1,-10]"
   ]
  },
  {
   "cell_type": "code",
   "execution_count": 14,
   "id": "1bc2207c",
   "metadata": {
    "execution": {
     "iopub.execute_input": "2024-09-23T14:35:55.866445Z",
     "iopub.status.busy": "2024-09-23T14:35:55.865983Z",
     "iopub.status.idle": "2024-09-23T14:35:55.872280Z",
     "shell.execute_reply": "2024-09-23T14:35:55.871832Z"
    },
    "lines_to_next_cell": 1,
    "papermill": {
     "duration": 0.012878,
     "end_time": "2024-09-23T14:35:55.873205",
     "exception": false,
     "start_time": "2024-09-23T14:35:55.860327",
     "status": "completed"
    },
    "tags": []
   },
   "outputs": [],
   "source": [
    "def spiralOrder(matrix: list[list[int]]) -> list[int]:\n",
    "    i, j, M, N = 0, 0, len(matrix), len(matrix[0])\n",
    "    result: list[int] = []\n",
    "    for layer in range(math.ceil(min(M / 2, N / 2))):\n",
    "        x, y = layer, layer\n",
    "        result.append(matrix[x][y])\n",
    "\n",
    "        # Go right\n",
    "        travelled_right = False\n",
    "        while y + 1 < N - layer:\n",
    "            y += 1\n",
    "            result.append(matrix[x][y])\n",
    "            travelled_right = True\n",
    "\n",
    "        # Go down\n",
    "        travelled_down = False\n",
    "        while x + 1 < M - layer:\n",
    "            x += 1\n",
    "            result.append(matrix[x][y])\n",
    "            travelled_down = True\n",
    "\n",
    "        # Go left\n",
    "        travelled_left = False\n",
    "        while travelled_down and y - 1 >= layer:\n",
    "            y -= 1\n",
    "            result.append(matrix[x][y])\n",
    "            travelled_left = True\n",
    "\n",
    "        # Go up\n",
    "        travelled_up = False\n",
    "        while travelled_left and x - 1 > layer:\n",
    "            x -= 1\n",
    "            result.append(matrix[x][y])\n",
    "            travelled_up = True\n",
    "\n",
    "    return result\n",
    "\n",
    "# Testing the solution\n",
    "assert spiralOrder([[1, 2, 3], [4 ,5 ,6], [7, 8, 9]]) == [1, 2, 3, 6, 9, 8, 7, 4, 5]\n",
    "assert spiralOrder([[1, 2, 3, 4], [5, 6, 7, 8]]) == [1, 2, 3, 4, 8, 7, 6, 5]\n",
    "assert spiralOrder([[1, 2], [3, 4], [5, 6], [7, 8]]) == [1, 2, 4, 6, 8, 7, 5, 3]"
   ]
  },
  {
   "cell_type": "code",
   "execution_count": 15,
   "id": "b1638de8",
   "metadata": {
    "execution": {
     "iopub.execute_input": "2024-09-23T14:35:55.884665Z",
     "iopub.status.busy": "2024-09-23T14:35:55.884187Z",
     "iopub.status.idle": "2024-09-23T14:35:55.888932Z",
     "shell.execute_reply": "2024-09-23T14:35:55.888473Z"
    },
    "lines_to_next_cell": 1,
    "papermill": {
     "duration": 0.011276,
     "end_time": "2024-09-23T14:35:55.889777",
     "exception": false,
     "start_time": "2024-09-23T14:35:55.878501",
     "status": "completed"
    },
    "tags": []
   },
   "outputs": [],
   "source": [
    "def rearrangeArray(nums: list[int]) -> list[int]:\n",
    "    # Split and obtain the nums into two diff arrays\n",
    "    pos: collections.deque[int] = collections.deque([])\n",
    "    neg: collections.deque[int] = collections.deque([])\n",
    "    for n in nums:\n",
    "        if n < 0:\n",
    "            neg.append(n)\n",
    "        else:\n",
    "            pos.append(n)\n",
    "\n",
    "    # Pos first, neg next preserving original order\n",
    "    result: list[int] = []\n",
    "    for i in range(len(nums) // 2):\n",
    "        result.append(pos.popleft())\n",
    "        result.append(neg.popleft())\n",
    "\n",
    "    return result\n",
    "\n",
    "# Testing the solution\n",
    "assert rearrangeArray([1,-1,-3,-4,2,3]) == [1,-1,2,-3,3,-4]\n",
    "assert rearrangeArray([-4,4,-4,4,-4,4]) == [4,-4,4,-4,4,-4]"
   ]
  },
  {
   "cell_type": "code",
   "execution_count": 16,
   "id": "72cfac21",
   "metadata": {
    "execution": {
     "iopub.execute_input": "2024-09-23T14:35:55.901339Z",
     "iopub.status.busy": "2024-09-23T14:35:55.900771Z",
     "iopub.status.idle": "2024-09-23T14:35:55.905276Z",
     "shell.execute_reply": "2024-09-23T14:35:55.904787Z"
    },
    "lines_to_next_cell": 1,
    "papermill": {
     "duration": 0.011129,
     "end_time": "2024-09-23T14:35:55.906178",
     "exception": false,
     "start_time": "2024-09-23T14:35:55.895049",
     "status": "completed"
    },
    "tags": []
   },
   "outputs": [],
   "source": [
    "def pascalTriangle(numRows: int) -> list[list[int]]:\n",
    "    result: list[list[int]] = [[1]]\n",
    "    for i in range(1, numRows):\n",
    "        result.append([1])\n",
    "        for j in range(i - 1):\n",
    "            result[-1].append(result[-2][j] + result[-2][j + 1])\n",
    "        result[-1].append(1)\n",
    "\n",
    "    return result\n",
    "\n",
    "# Testing the solution\n",
    "assert pascalTriangle(5) == [[1], [1, 1], [1, 2, 1], [1, 3, 3, 1], [1, 4, 6, 4, 1]]"
   ]
  },
  {
   "cell_type": "code",
   "execution_count": 17,
   "id": "ab1590e1",
   "metadata": {
    "execution": {
     "iopub.execute_input": "2024-09-23T14:35:55.917697Z",
     "iopub.status.busy": "2024-09-23T14:35:55.917136Z",
     "iopub.status.idle": "2024-09-23T14:35:55.922976Z",
     "shell.execute_reply": "2024-09-23T14:35:55.922416Z"
    },
    "lines_to_next_cell": 1,
    "papermill": {
     "duration": 0.012372,
     "end_time": "2024-09-23T14:35:55.923870",
     "exception": false,
     "start_time": "2024-09-23T14:35:55.911498",
     "status": "completed"
    },
    "tags": []
   },
   "outputs": [],
   "source": [
    "def rotateMatrix(matrix: list[list[int]]) -> list[list[int]]:\n",
    "    \"\"\"\n",
    "    Similar to rotating an array by k places, this could be acheived\n",
    "    by transposing the matrix first and then reversing the rows\n",
    "    \"\"\"\n",
    "    N = len(matrix)\n",
    "\n",
    "    # Transpose the matrix\n",
    "    for i in range(N):\n",
    "        for j in range(i + 1, N):\n",
    "            matrix[i][j], matrix[j][i] = matrix[j][i], matrix[i][j]\n",
    "\n",
    "    # Reverse the rows\n",
    "    for i in range(N):\n",
    "        matrix[i].reverse()\n",
    "\n",
    "    return matrix\n",
    "\n",
    "# Testing the solution\n",
    "assert rotateMatrix([[1,2,3], [4,5,6], [7,8,9]]) == [[7,4,1], [8,5,2], [9,6,3]]\n",
    "assert rotateMatrix([[0,1,1,2], [2,0,3,1], [4,5,0,5], [5,6,7,0]]) == [[5,4,2,0], [6,5,0,1], [7,0,3,1], [0,5,1,2]]\n",
    "assert rotateMatrix([[1,1,2], [5,3,1], [5,3,5]]) == [[5,5,1], [3,3,1], [5,1,2]]"
   ]
  },
  {
   "cell_type": "code",
   "execution_count": 18,
   "id": "3e260a7c",
   "metadata": {
    "execution": {
     "iopub.execute_input": "2024-09-23T14:35:55.935235Z",
     "iopub.status.busy": "2024-09-23T14:35:55.935009Z",
     "iopub.status.idle": "2024-09-23T14:35:55.940286Z",
     "shell.execute_reply": "2024-09-23T14:35:55.939741Z"
    },
    "lines_to_next_cell": 1,
    "papermill": {
     "duration": 0.01206,
     "end_time": "2024-09-23T14:35:55.941221",
     "exception": false,
     "start_time": "2024-09-23T14:35:55.929161",
     "status": "completed"
    },
    "tags": []
   },
   "outputs": [],
   "source": [
    "def twoSum(nums: list[int], target: int) -> tuple[int, int]:\n",
    "    N = len(nums)\n",
    "    nums_: list[tuple[int, int]] = sorted(enumerate(nums), key=lambda x: x[1])\n",
    "    i, j = 0, N - 1\n",
    "    while i < j:\n",
    "        curr = nums_[i][1] + nums_[j][1]\n",
    "        pair = sorted([nums_[i][0], nums_[j][0]])\n",
    "        if curr == target:\n",
    "            return pair[0], pair[1]\n",
    "        elif curr < target:\n",
    "            i += 1\n",
    "        else:\n",
    "            j -= 1\n",
    "\n",
    "    return -1, -1\n",
    "\n",
    "# Testing the solution\n",
    "assert twoSum([1,6,2,10,3], 7) == (0,1)\n",
    "assert twoSum([1,3,5,-7,6,-3], 0) == (1,5)\n",
    "assert twoSum([-6,7,1,-7,6,2], 3) == (2,5)"
   ]
  },
  {
   "cell_type": "code",
   "execution_count": 19,
   "id": "70e0ad16",
   "metadata": {
    "execution": {
     "iopub.execute_input": "2024-09-23T14:35:55.952954Z",
     "iopub.status.busy": "2024-09-23T14:35:55.952519Z",
     "iopub.status.idle": "2024-09-23T14:35:55.958154Z",
     "shell.execute_reply": "2024-09-23T14:35:55.957593Z"
    },
    "lines_to_next_cell": 1,
    "papermill": {
     "duration": 0.012499,
     "end_time": "2024-09-23T14:35:55.959023",
     "exception": false,
     "start_time": "2024-09-23T14:35:55.946524",
     "status": "completed"
    },
    "tags": []
   },
   "outputs": [],
   "source": [
    "def threeSum(nums: list[int]) -> set[tuple[int, int, int]]:\n",
    "    N = len(nums)\n",
    "    nums.sort()\n",
    "    results: set[tuple[int, int, int]] = set()\n",
    "    for i in range(N - 2):\n",
    "        j, k = i + 1, N - 1\n",
    "        while j < k:\n",
    "            curr = nums[i] + nums[j] + nums[k]\n",
    "            triplet = sorted([nums[i], nums[j], nums[k]])\n",
    "            if curr == 0:\n",
    "                results.add((triplet[0], triplet[1], triplet[2]))\n",
    "                j, k = j + 1, k - 1\n",
    "            elif curr > 0:\n",
    "                k -= 1\n",
    "            else:\n",
    "                j += 1\n",
    "\n",
    "    return results\n",
    "\n",
    "# Testing the solution\n",
    "assert threeSum([2, -2, 0, 3, -3, 5]) == {(-3, -2, 5), (-3, 0, 3), (-2, 0, 2)}\n",
    "assert threeSum([2, -1, -1, 3, -1]) == {(-1, -1, 2)}"
   ]
  },
  {
   "cell_type": "code",
   "execution_count": 20,
   "id": "2696f7e0",
   "metadata": {
    "execution": {
     "iopub.execute_input": "2024-09-23T14:35:55.970907Z",
     "iopub.status.busy": "2024-09-23T14:35:55.970428Z",
     "iopub.status.idle": "2024-09-23T14:35:55.976094Z",
     "shell.execute_reply": "2024-09-23T14:35:55.975638Z"
    },
    "lines_to_next_cell": 1,
    "papermill": {
     "duration": 0.012469,
     "end_time": "2024-09-23T14:35:55.976956",
     "exception": false,
     "start_time": "2024-09-23T14:35:55.964487",
     "status": "completed"
    },
    "tags": []
   },
   "outputs": [],
   "source": [
    "def fourSum(nums: list[int], target: int) -> set[tuple[int, int, int, int]]:\n",
    "    \"\"\"\n",
    "    Iterate all combinations of i, j\n",
    "    For each such combination deploy the two pointer approach\n",
    "    \"\"\"\n",
    "    N = len(nums)\n",
    "    nums.sort()\n",
    "    results: set[tuple[int, int, int, int]] = set()\n",
    "    for i in range(N - 3):\n",
    "        for j in range(i + 1, N - 2):\n",
    "            k, l = j + 1, N - 1\n",
    "            while k < l:\n",
    "                quad: list[int] = sorted([nums[i], nums[j], nums[k], nums[l]])\n",
    "                total = nums[i] + nums[j] + nums[k] + nums[l]\n",
    "                if total == target:\n",
    "                    results.add((quad[0], quad[1], quad[2], quad[3]))\n",
    "                    k, l = k + 1, l - 1\n",
    "                elif total > target:\n",
    "                    l -= 1\n",
    "                else:\n",
    "                    k += 1\n",
    "\n",
    "    return results\n",
    "\n",
    "# Testing the solution\n",
    "assert fourSum([1,-2,3,5,7,9], 7) == {(-2,1,3,5)}\n",
    "assert fourSum([7,-7,1,2,14,3], 9) == set()\n",
    "assert fourSum([1,1,3,4,-3], 5) == {(-3,1,3,4)}"
   ]
  },
  {
   "cell_type": "code",
   "execution_count": 21,
   "id": "e460ed7b",
   "metadata": {
    "execution": {
     "iopub.execute_input": "2024-09-23T14:35:55.988043Z",
     "iopub.status.busy": "2024-09-23T14:35:55.987876Z",
     "iopub.status.idle": "2024-09-23T14:35:55.992251Z",
     "shell.execute_reply": "2024-09-23T14:35:55.991833Z"
    },
    "lines_to_next_cell": 1,
    "papermill": {
     "duration": 0.01086,
     "end_time": "2024-09-23T14:35:55.993094",
     "exception": false,
     "start_time": "2024-09-23T14:35:55.982234",
     "status": "completed"
    },
    "tags": []
   },
   "outputs": [],
   "source": [
    "def sortZeroOneTwo(nums: list[int]) -> list[int]:\n",
    "    \"\"\"\n",
    "    Variation of Dutch National flag algorithm\n",
    "    A much more intuitive algorithm is bucket sort\n",
    "\n",
    "    DNF:\n",
    "    Assume nums from [0, low], [high, N-1] are sorted.\n",
    "    Numbers between (low, high) are unsorted\n",
    "    \"\"\"\n",
    "    N = len(nums)\n",
    "    low, mid, high = 0, 0, N - 1\n",
    "    while mid <= high:\n",
    "        # Correct position\n",
    "        if nums[mid] == 1:\n",
    "            mid += 1\n",
    "\n",
    "        # Incorrect\n",
    "        elif nums[mid] == 0:\n",
    "            nums[low], nums[mid] = nums[mid], nums[low]\n",
    "            low, mid = low + 1, mid + 1\n",
    "        else:\n",
    "            nums[high], nums[mid] = nums[mid], nums[high]\n",
    "            high -= 1\n",
    "\n",
    "    return nums\n",
    "\n",
    "# Testing the solution\n",
    "assert sortZeroOneTwo([0,0,1,2,0,1,2,2,1,0]) == [0,0,0,0,1,1,1,2,2,2]"
   ]
  },
  {
   "cell_type": "code",
   "execution_count": 22,
   "id": "5e1e76e9",
   "metadata": {
    "execution": {
     "iopub.execute_input": "2024-09-23T14:35:56.004443Z",
     "iopub.status.busy": "2024-09-23T14:35:56.004019Z",
     "iopub.status.idle": "2024-09-23T14:35:56.008139Z",
     "shell.execute_reply": "2024-09-23T14:35:56.007706Z"
    },
    "lines_to_next_cell": 1,
    "papermill": {
     "duration": 0.010689,
     "end_time": "2024-09-23T14:35:56.009009",
     "exception": false,
     "start_time": "2024-09-23T14:35:55.998320",
     "status": "completed"
    },
    "tags": []
   },
   "outputs": [],
   "source": [
    "def maxSubArray(nums: list[int]) -> int:\n",
    "    \"\"\"\n",
    "    Kadane's algorithm\n",
    "    If at any pt total becomes less than 0, reset it\n",
    "    \"\"\"\n",
    "    max_, total = nums[0], 0\n",
    "    for n in nums:\n",
    "        total += n\n",
    "        max_ = max(max_, total)\n",
    "        if total < 0:\n",
    "            total = 0\n",
    "    return max_\n",
    "\n",
    "# Testing the solution\n",
    "assert maxSubArray([2, 3, 5, -2, 7, -4]) == 15\n",
    "assert maxSubArray([-2, -3, -7, -2, -10, -4]) == -2\n",
    "assert maxSubArray([-1, 2, 3, -1, 2, -6, 5]) == 6"
   ]
  },
  {
   "cell_type": "code",
   "execution_count": 23,
   "id": "028c7163",
   "metadata": {
    "execution": {
     "iopub.execute_input": "2024-09-23T14:35:56.020413Z",
     "iopub.status.busy": "2024-09-23T14:35:56.019917Z",
     "iopub.status.idle": "2024-09-23T14:35:56.024358Z",
     "shell.execute_reply": "2024-09-23T14:35:56.023927Z"
    },
    "lines_to_next_cell": 1,
    "papermill": {
     "duration": 0.01092,
     "end_time": "2024-09-23T14:35:56.025175",
     "exception": false,
     "start_time": "2024-09-23T14:35:56.014255",
     "status": "completed"
    },
    "tags": []
   },
   "outputs": [],
   "source": [
    "def majorityElement(nums: list[int]) -> int:\n",
    "    \"\"\"\n",
    "    Logic: Assume a number is the majority element, everytime we encounter num in nums that equals\n",
    "    our curr we increment count by 1 else decrement count by 1.\n",
    "\n",
    "    Continue doing until we have reached the end of the array\n",
    "    \"\"\"\n",
    "    result: int|None = None\n",
    "    freq: int = 0\n",
    "    for n in nums:\n",
    "        if not result:\n",
    "            result, freq = n, 1\n",
    "        elif n == result:\n",
    "            freq += 1\n",
    "        else:\n",
    "            freq -= 1\n",
    "\n",
    "        if freq == 0:\n",
    "            result = None\n",
    "\n",
    "    return result if result else 0\n",
    "\n",
    "# Testing the solution\n",
    "assert majorityElement([7, 0, 0, 1, 7, 7, 2, 7, 7]) == 7\n",
    "assert majorityElement([1, 1, 1, 2, 1, 2]) == 1\n",
    "assert majorityElement([-1, -1, -1, -1]) == -1"
   ]
  },
  {
   "cell_type": "code",
   "execution_count": 24,
   "id": "9ec51a9d",
   "metadata": {
    "execution": {
     "iopub.execute_input": "2024-09-23T14:35:56.036895Z",
     "iopub.status.busy": "2024-09-23T14:35:56.036376Z",
     "iopub.status.idle": "2024-09-23T14:35:56.042292Z",
     "shell.execute_reply": "2024-09-23T14:35:56.041843Z"
    },
    "lines_to_next_cell": 1,
    "papermill": {
     "duration": 0.01257,
     "end_time": "2024-09-23T14:35:56.043130",
     "exception": false,
     "start_time": "2024-09-23T14:35:56.030560",
     "status": "completed"
    },
    "tags": []
   },
   "outputs": [],
   "source": [
    "def majorityElementTwo(nums: list[int]) -> list[int]:\n",
    "    \"\"\"\n",
    "    Same as prev question but we have two slots now.\n",
    "    \"\"\"\n",
    "    N = len(nums)\n",
    "    n1, f1, n2, f2 = 0, 0, 0, 0\n",
    "    for n in nums:\n",
    "        if f1 == 0 and n != n2:\n",
    "            n1, f1 = n, 1\n",
    "        elif f2 == 0 and n != n1:\n",
    "            n2, f2 = n, 1\n",
    "        elif n == n1:\n",
    "            f1 += 1\n",
    "        elif n == n2:\n",
    "            f2 += 1\n",
    "        else:\n",
    "            f1, f2 = f1 - 1, f2 - 1\n",
    "\n",
    "    # Double check to ensure that the majority\n",
    "    # elements are occuring more than N // 3 times\n",
    "    freq: dict[int, int] = dict()\n",
    "    for n in nums:\n",
    "        if n in (n1, n2):\n",
    "            freq[n] = freq.get(n, 0) + 1\n",
    "\n",
    "    return [n for n in (n1, n2) if freq.get(n, 0) > N // 3]\n",
    "\n",
    "# Testing the solution\n",
    "assert majorityElementTwo([1,1,1,1]) == [1]\n",
    "assert majorityElementTwo([1,2,1,1,3,2,2]) == [1,2]\n",
    "assert majorityElementTwo([1,2,1,1,3,2]) == [1]\n",
    "assert majorityElementTwo([1,2,1,1,3,2,2,3]) == [1,2]\n",
    "assert majorityElementTwo([1,1,2,2,3,3,4,4,5,5]) == []"
   ]
  },
  {
   "cell_type": "code",
   "execution_count": 25,
   "id": "2abcdcfe",
   "metadata": {
    "execution": {
     "iopub.execute_input": "2024-09-23T14:35:56.054765Z",
     "iopub.status.busy": "2024-09-23T14:35:56.054316Z",
     "iopub.status.idle": "2024-09-23T14:35:56.060022Z",
     "shell.execute_reply": "2024-09-23T14:35:56.059473Z"
    },
    "lines_to_next_cell": 1,
    "papermill": {
     "duration": 0.012528,
     "end_time": "2024-09-23T14:35:56.061043",
     "exception": false,
     "start_time": "2024-09-23T14:35:56.048515",
     "status": "completed"
    },
    "tags": []
   },
   "outputs": [],
   "source": [
    "def numberOfInversions(nums: list[int]) -> int:\n",
    "    def modified_mergesort(low: int, high: int) -> int:\n",
    "        if low >= high:\n",
    "            return 0\n",
    "\n",
    "        else:\n",
    "            # Merge sort left and right\n",
    "            mid = (low + high) // 2\n",
    "            cnt_left = modified_mergesort(low, mid)\n",
    "            cnt_right = modified_mergesort(mid + 1, high)\n",
    "\n",
    "            # Create temp array for storing in order\n",
    "            temp: list[int] = []\n",
    "            cnt, i, j = 0, low, mid + 1\n",
    "            while i <= mid or j <= high:\n",
    "                if j > high or (i <= mid and nums[i] <= nums[j]):\n",
    "                    temp.append(nums[i])\n",
    "                    i += 1\n",
    "                else:\n",
    "                    temp.append(nums[j])\n",
    "                    j += 1\n",
    "\n",
    "                    # We are inserting from the right portion\n",
    "                    # Simply count how many elements we have\n",
    "                    # left in the 'left' array\n",
    "                    cnt += mid - i + 1\n",
    "\n",
    "            # Copy from temp back to array\n",
    "            for i in range(low, high + 1):\n",
    "                nums[i] = temp[i - low]\n",
    "\n",
    "            return cnt_left + cnt_right + cnt\n",
    "\n",
    "    inversions = modified_mergesort(0, len(nums) - 1)\n",
    "    return inversions\n",
    "\n",
    "assert numberOfInversions([2, 3, 7, 1, 3, 5]) == 5\n",
    "assert numberOfInversions([-10, -5, 6, 11, 15, 17]) == 0\n",
    "assert numberOfInversions([9, 5, 4, 2]) == 6"
   ]
  },
  {
   "cell_type": "code",
   "execution_count": 26,
   "id": "9c0a8830",
   "metadata": {
    "execution": {
     "iopub.execute_input": "2024-09-23T14:35:56.072540Z",
     "iopub.status.busy": "2024-09-23T14:35:56.072186Z",
     "iopub.status.idle": "2024-09-23T14:35:56.077712Z",
     "shell.execute_reply": "2024-09-23T14:35:56.077261Z"
    },
    "lines_to_next_cell": 1,
    "papermill": {
     "duration": 0.012119,
     "end_time": "2024-09-23T14:35:56.078587",
     "exception": false,
     "start_time": "2024-09-23T14:35:56.066468",
     "status": "completed"
    },
    "tags": []
   },
   "outputs": [],
   "source": [
    "def reversePairs(nums: list[int]) -> int:\n",
    "    N = len(nums)\n",
    "    def modified_mergesort(left: int, right: int) -> int:\n",
    "        if left >= right:\n",
    "            return 0\n",
    "        else:\n",
    "            mid = (left + right) // 2\n",
    "            left_rev_count = modified_mergesort(left, mid)\n",
    "            right_rev_count = modified_mergesort(mid + 1, right)\n",
    "\n",
    "            # Merge the two sorted portions together\n",
    "            rev_count, i, j = 0, left, mid + 1\n",
    "            temp: list[int] = []\n",
    "            while i <= mid or j <= right:\n",
    "                if j > right or (i <= mid and nums[i] <= nums[j]):\n",
    "                    temp.append(nums[i])\n",
    "                    i += 1\n",
    "                else:\n",
    "                    temp.append(nums[j])\n",
    "                    rev_count += mid + 1 - bisect.bisect(nums, 2 * nums[j], left, mid + 1)\n",
    "                    j += 1\n",
    "\n",
    "            # Join back into nums in correct order\n",
    "            for i in range(left, right + 1):\n",
    "                nums[i] = temp[i - left]\n",
    "\n",
    "            return left_rev_count + right_rev_count + rev_count\n",
    "\n",
    "    return modified_mergesort(0, N - 1)\n",
    "\n",
    "# Testing the solution\n",
    "assert reversePairs([6, 4, 1, 2, 7]) == 3\n",
    "assert reversePairs([5, 4, 4, 3, 3]) == 0\n",
    "assert reversePairs([6, 4, 4, 2, 2]) == 2"
   ]
  },
  {
   "cell_type": "code",
   "execution_count": 27,
   "id": "710b07ce",
   "metadata": {
    "execution": {
     "iopub.execute_input": "2024-09-23T14:35:56.089870Z",
     "iopub.status.busy": "2024-09-23T14:35:56.089664Z",
     "iopub.status.idle": "2024-09-23T14:35:56.094130Z",
     "shell.execute_reply": "2024-09-23T14:35:56.093683Z"
    },
    "lines_to_next_cell": 1,
    "papermill": {
     "duration": 0.011049,
     "end_time": "2024-09-23T14:35:56.094992",
     "exception": false,
     "start_time": "2024-09-23T14:35:56.083943",
     "status": "completed"
    },
    "tags": []
   },
   "outputs": [],
   "source": [
    "def maxProduct(nums: list[int]) -> int:\n",
    "    \"\"\"\n",
    "    If no negatives or even number of negatives, ans is the product of all\n",
    "    If odd negatives we need to pick either the suffix product or the prefix product\n",
    "\n",
    "    Iterate Left to right and then from right to left\n",
    "    If n == 0, reset acc = 1\n",
    "    Else acc *= n; max(result, acc)\n",
    "    \"\"\"\n",
    "    N = len(nums)\n",
    "    result, acc = nums[0], 1\n",
    "    for i in range(N):\n",
    "        acc *= nums[i]\n",
    "        result = max(acc, result)\n",
    "        if acc == 0:\n",
    "            acc = 1\n",
    "\n",
    "    acc = 1\n",
    "    for i in range(N - 1, -1, -1):\n",
    "        acc *= nums[i]\n",
    "        result = max(acc, result)\n",
    "        if acc == 0:\n",
    "            acc = 1\n",
    "\n",
    "    return result\n",
    "\n",
    "# Testing the solution\n",
    "assert maxProduct([4, 5, 3, 7, 1, 2]) == 840\n",
    "assert maxProduct([-5, 0, -2]) == 0\n",
    "assert maxProduct([1, -2, 3, 4, -4, -3]) == 144"
   ]
  },
  {
   "cell_type": "code",
   "execution_count": 28,
   "id": "013e8ce3",
   "metadata": {
    "execution": {
     "iopub.execute_input": "2024-09-23T14:35:56.106279Z",
     "iopub.status.busy": "2024-09-23T14:35:56.105867Z",
     "iopub.status.idle": "2024-09-23T14:35:56.110002Z",
     "shell.execute_reply": "2024-09-23T14:35:56.109558Z"
    },
    "lines_to_next_cell": 1,
    "papermill": {
     "duration": 0.010681,
     "end_time": "2024-09-23T14:35:56.110892",
     "exception": false,
     "start_time": "2024-09-23T14:35:56.100211",
     "status": "completed"
    },
    "tags": []
   },
   "outputs": [],
   "source": [
    "def merge(nums1: list[int], M: int, nums2: list[int], N: int) -> None:\n",
    "    # Shift nums1 to the right\n",
    "    i, j = M - 1, M + N - 1\n",
    "    while i >= 0:\n",
    "        nums1[j] = nums1[i]\n",
    "        i, j = i - 1, j - 1\n",
    "\n",
    "    # Do the usual merging that we do during merge sort\n",
    "    i, j, head = N, 0, 0\n",
    "    while i < M + N or j < N:\n",
    "        if j >= N or (i < M + N and nums1[i] <= nums2[j]):\n",
    "            nums1[head] = nums1[i]\n",
    "            i, head = i + 1, head + 1\n",
    "        else:\n",
    "            nums1[head] = nums2[j]\n",
    "            head, j = head + 1, j + 1"
   ]
  },
  {
   "cell_type": "markdown",
   "id": "6f886398",
   "metadata": {
    "papermill": {
     "duration": 0.005249,
     "end_time": "2024-09-23T14:35:56.121700",
     "exception": false,
     "start_time": "2024-09-23T14:35:56.116451",
     "status": "completed"
    },
    "tags": []
   },
   "source": [
    "LC Practice - 22nd Sept 2024"
   ]
  },
  {
   "cell_type": "code",
   "execution_count": 29,
   "id": "0fe84243",
   "metadata": {
    "execution": {
     "iopub.execute_input": "2024-09-23T14:35:56.133593Z",
     "iopub.status.busy": "2024-09-23T14:35:56.133170Z",
     "iopub.status.idle": "2024-09-23T14:35:56.140426Z",
     "shell.execute_reply": "2024-09-23T14:35:56.139947Z"
    },
    "lines_to_next_cell": 1,
    "papermill": {
     "duration": 0.014345,
     "end_time": "2024-09-23T14:35:56.141335",
     "exception": false,
     "start_time": "2024-09-23T14:35:56.126990",
     "status": "completed"
    },
    "tags": []
   },
   "outputs": [],
   "source": [
    "def longestConsecutiveOpt1(nums: list[int]) -> int:\n",
    "    \"\"\"\n",
    "    Insert n::nums into a set of intervals, merge them into DSU\n",
    "    Return size of largest such element\n",
    "    \"\"\"\n",
    "    class DSU:\n",
    "        def __init__(self) -> None:\n",
    "            self.sizes: dict[int, int] = dict()\n",
    "            self.parents: dict[int, int] = dict()\n",
    "            self.nums: set[int] = set()\n",
    "\n",
    "        def union(self, n1: int, n2: int) -> None:\n",
    "            ulp1, ulp2 = self.get_ultimate_parent(n1), self.get_ultimate_parent(n2)\n",
    "            if ulp1 == ulp2:\n",
    "                return\n",
    "            elif self.sizes[ulp1] <= self.sizes[ulp2]:\n",
    "                self.parents[ulp1] = ulp2\n",
    "                self.sizes[ulp2] += self.sizes[ulp1]\n",
    "            else:\n",
    "                self.parents[ulp2] = ulp1\n",
    "                self.sizes[ulp1] += self.sizes[ulp2]\n",
    "\n",
    "        def get_ultimate_parent(self, n: int) -> int:\n",
    "            parent = self.parents[n]\n",
    "            if parent == n:\n",
    "                self.parents[n] = parent\n",
    "                return parent\n",
    "            else:\n",
    "                up = self.get_ultimate_parent(parent)\n",
    "                self.parents[n] = up\n",
    "                return up\n",
    "\n",
    "    # DSU to store the prev and next num if they exist\n",
    "    dsu: DSU = DSU()\n",
    "    for n in nums:\n",
    "        if n not in dsu.nums:\n",
    "            dsu.nums.add(n)\n",
    "            dsu.sizes[n] = 1\n",
    "            dsu.parents[n] = n\n",
    "        if n - 1 in dsu.sizes:\n",
    "            dsu.union(n, n - 1)\n",
    "        if n + 1 in dsu.sizes:\n",
    "            dsu.union(n, n + 1)\n",
    "\n",
    "    return max(dsu.sizes.values())\n",
    "\n",
    "# Testing the solution\n",
    "assert longestConsecutiveOpt1([0, 3, 7, 2, 5, 8, 4, 6, 0, 1]) == 9\n",
    "assert longestConsecutiveOpt1([100, 4, 200, 1, 3, 2]) == 4\n",
    "assert longestConsecutiveOpt1([1, 9, 3, 10, 4, 20, 2]) == 4"
   ]
  },
  {
   "cell_type": "code",
   "execution_count": 30,
   "id": "0971eed3",
   "metadata": {
    "execution": {
     "iopub.execute_input": "2024-09-23T14:35:56.153159Z",
     "iopub.status.busy": "2024-09-23T14:35:56.152715Z",
     "iopub.status.idle": "2024-09-23T14:35:56.157151Z",
     "shell.execute_reply": "2024-09-23T14:35:56.156720Z"
    },
    "lines_to_next_cell": 1,
    "papermill": {
     "duration": 0.011148,
     "end_time": "2024-09-23T14:35:56.158028",
     "exception": false,
     "start_time": "2024-09-23T14:35:56.146880",
     "status": "completed"
    },
    "tags": []
   },
   "outputs": [],
   "source": [
    "def longestConsecutiveOpt2(nums: list[int]) -> int:\n",
    "    nums_set: set[int] = set(nums)\n",
    "    result = 0\n",
    "    for i in nums:\n",
    "        # Start of a consequetive sequence\n",
    "        if i - 1 not in nums_set:\n",
    "            curr, count = i, 0\n",
    "            while curr in nums_set:\n",
    "                curr, count = curr + 1, count + 1\n",
    "            result = max(result, count)\n",
    "\n",
    "    return result\n",
    "\n",
    "# Testing the solution\n",
    "assert longestConsecutiveOpt2([0, 3, 7, 2, 5, 8, 4, 6, 0, 1]) == 9\n",
    "assert longestConsecutiveOpt2([100, 4, 200, 1, 3, 2]) == 4\n",
    "assert longestConsecutiveOpt2([1, 9, 3, 10, 4, 20, 2]) == 4"
   ]
  },
  {
   "cell_type": "code",
   "execution_count": 31,
   "id": "8f99c2ba",
   "metadata": {
    "execution": {
     "iopub.execute_input": "2024-09-23T14:35:56.169360Z",
     "iopub.status.busy": "2024-09-23T14:35:56.169177Z",
     "iopub.status.idle": "2024-09-23T14:35:56.173964Z",
     "shell.execute_reply": "2024-09-23T14:35:56.173486Z"
    },
    "lines_to_next_cell": 1,
    "papermill": {
     "duration": 0.01136,
     "end_time": "2024-09-23T14:35:56.174790",
     "exception": false,
     "start_time": "2024-09-23T14:35:56.163430",
     "status": "completed"
    },
    "tags": []
   },
   "outputs": [],
   "source": [
    "def longestSubarray(nums: list[int], K: int) -> int:\n",
    "    N = len(nums)\n",
    "    max_length, curr_sum = 0, 0\n",
    "    prefix_: dict[int, int] = {0: -1}\n",
    "    for i in range(N):\n",
    "        curr_sum += nums[i]\n",
    "        target = curr_sum - K\n",
    "        if target in prefix_:\n",
    "            max_length = max(max_length, i - prefix_[target])\n",
    "        prefix_[curr_sum] = min(i, prefix_.get(curr_sum, i))\n",
    "\n",
    "    return max_length\n",
    "\n",
    "# Testing the solution\n",
    "assert longestSubarray([10, 5, 2, 7, 1, 9], 9) == 2\n",
    "assert longestSubarray([10, 5, 2, 7, 1, 9], 15) == 4\n",
    "assert longestSubarray([-3, -1, 2, 2], -4) == 2\n",
    "assert longestSubarray([-3, 2, 1], 6) == 0\n",
    "assert longestSubarray([-1, 1, 1], 1) == 3"
   ]
  },
  {
   "cell_type": "code",
   "execution_count": 32,
   "id": "45e3c4dd",
   "metadata": {
    "execution": {
     "iopub.execute_input": "2024-09-23T14:35:56.186705Z",
     "iopub.status.busy": "2024-09-23T14:35:56.186182Z",
     "iopub.status.idle": "2024-09-23T14:35:56.190200Z",
     "shell.execute_reply": "2024-09-23T14:35:56.189759Z"
    },
    "lines_to_next_cell": 1,
    "papermill": {
     "duration": 0.010711,
     "end_time": "2024-09-23T14:35:56.191038",
     "exception": false,
     "start_time": "2024-09-23T14:35:56.180327",
     "status": "completed"
    },
    "tags": []
   },
   "outputs": [],
   "source": [
    "def subarraySum(nums: list[int], K: int) -> int:\n",
    "    prefix_sums: collections.defaultdict[int, int] = collections.defaultdict(int, {0: 1})\n",
    "    result = total = 0\n",
    "    for n in nums:\n",
    "        total += n\n",
    "        result += prefix_sums[total - K]\n",
    "        prefix_sums[total] += 1\n",
    "\n",
    "    return result\n",
    "\n",
    "# Testing the solution\n",
    "assert subarraySum([1,1,1], 2) == 2\n",
    "assert subarraySum([1,2,3], 3) == 2\n",
    "assert subarraySum([3,1,2,4], 6) == 2"
   ]
  },
  {
   "cell_type": "code",
   "execution_count": 33,
   "id": "1287594a",
   "metadata": {
    "execution": {
     "iopub.execute_input": "2024-09-23T14:35:56.202546Z",
     "iopub.status.busy": "2024-09-23T14:35:56.202186Z",
     "iopub.status.idle": "2024-09-23T14:35:56.206090Z",
     "shell.execute_reply": "2024-09-23T14:35:56.205671Z"
    },
    "lines_to_next_cell": 1,
    "papermill": {
     "duration": 0.010541,
     "end_time": "2024-09-23T14:35:56.206901",
     "exception": false,
     "start_time": "2024-09-23T14:35:56.196360",
     "status": "completed"
    },
    "tags": []
   },
   "outputs": [],
   "source": [
    "def subarraysWithXorK(nums: list[int], K: int) -> int:\n",
    "    prefix_sums: collections.defaultdict[int, int] = collections.defaultdict(int, {0: 1})\n",
    "    curr: int = 0\n",
    "    result: int = 0\n",
    "    for n in nums:\n",
    "        curr ^= n\n",
    "        result += prefix_sums[curr ^ K]\n",
    "        prefix_sums[curr] += 1\n",
    "\n",
    "    return result\n",
    "\n",
    "# Testing the solution\n",
    "assert subarraysWithXorK([4, 2, 2, 6, 4], 6) == 4\n",
    "assert subarraysWithXorK([5, 6, 7, 8, 9], 5) == 2\n",
    "assert subarraysWithXorK([5, 2, 9], 7) == 1"
   ]
  },
  {
   "cell_type": "markdown",
   "id": "11f2ed4c",
   "metadata": {
    "papermill": {
     "duration": 0.005243,
     "end_time": "2024-09-23T14:35:56.217497",
     "exception": false,
     "start_time": "2024-09-23T14:35:56.212254",
     "status": "completed"
    },
    "tags": []
   },
   "source": [
    "Binary Search"
   ]
  },
  {
   "cell_type": "code",
   "execution_count": 34,
   "id": "4728ba08",
   "metadata": {
    "execution": {
     "iopub.execute_input": "2024-09-23T14:35:56.228849Z",
     "iopub.status.busy": "2024-09-23T14:35:56.228373Z",
     "iopub.status.idle": "2024-09-23T14:35:56.232423Z",
     "shell.execute_reply": "2024-09-23T14:35:56.232011Z"
    },
    "lines_to_next_cell": 1,
    "papermill": {
     "duration": 0.010548,
     "end_time": "2024-09-23T14:35:56.233250",
     "exception": false,
     "start_time": "2024-09-23T14:35:56.222702",
     "status": "completed"
    },
    "tags": []
   },
   "outputs": [],
   "source": [
    "def search(nums: list[int], target: int) -> int:\n",
    "    low, high = 0, len(nums) - 1\n",
    "    while low <= high:\n",
    "        mid = (low + high) // 2\n",
    "        if nums[mid] == target:\n",
    "            return mid\n",
    "        elif nums[mid] < target:\n",
    "            low = mid + 1\n",
    "        else:\n",
    "            high = mid - 1\n",
    "    return -1\n",
    "\n",
    "# Testing the solution\n",
    "assert search([-1,0,3,5,9,12], 9) == 4\n",
    "assert search([-1,0,3,5,9,12], 2) == -1\n",
    "assert search([-1,0,3,5,9,12], -1) == 0"
   ]
  },
  {
   "cell_type": "code",
   "execution_count": 35,
   "id": "f8372662",
   "metadata": {
    "execution": {
     "iopub.execute_input": "2024-09-23T14:35:56.244639Z",
     "iopub.status.busy": "2024-09-23T14:35:56.244303Z",
     "iopub.status.idle": "2024-09-23T14:35:56.248170Z",
     "shell.execute_reply": "2024-09-23T14:35:56.247715Z"
    },
    "lines_to_next_cell": 1,
    "papermill": {
     "duration": 0.010355,
     "end_time": "2024-09-23T14:35:56.248975",
     "exception": false,
     "start_time": "2024-09-23T14:35:56.238620",
     "status": "completed"
    },
    "tags": []
   },
   "outputs": [],
   "source": [
    "def lowerBound(nums: list[int], X: int) -> int:\n",
    "    low, high = 0, len(nums) - 1\n",
    "    while low <= high:\n",
    "        mid = (low + high) // 2\n",
    "        if nums[mid] < X:\n",
    "            low = mid + 1\n",
    "        else:\n",
    "            high = mid - 1\n",
    "\n",
    "    return low\n",
    "\n",
    "# Testing the solution\n",
    "assert lowerBound([1,2,2,3], 2) == 1\n",
    "assert lowerBound([3,5,8,15,19], 9) == 3\n",
    "assert lowerBound([3,5,8,15,19], 3) == 0"
   ]
  },
  {
   "cell_type": "code",
   "execution_count": 36,
   "id": "426c772b",
   "metadata": {
    "execution": {
     "iopub.execute_input": "2024-09-23T14:35:56.260665Z",
     "iopub.status.busy": "2024-09-23T14:35:56.260193Z",
     "iopub.status.idle": "2024-09-23T14:35:56.264185Z",
     "shell.execute_reply": "2024-09-23T14:35:56.263746Z"
    },
    "lines_to_next_cell": 1,
    "papermill": {
     "duration": 0.010744,
     "end_time": "2024-09-23T14:35:56.265067",
     "exception": false,
     "start_time": "2024-09-23T14:35:56.254323",
     "status": "completed"
    },
    "tags": []
   },
   "outputs": [],
   "source": [
    "def upperBound(nums: list[int], X: int) -> int:\n",
    "    low, high = 0, len(nums) - 1\n",
    "    while low <= high:\n",
    "        mid = (low + high) // 2\n",
    "        if nums[mid] <= X:\n",
    "            low = mid + 1\n",
    "        else:\n",
    "            high = mid - 1\n",
    "\n",
    "    return low\n",
    "\n",
    "# Testing the solution\n",
    "assert upperBound([1,2,2,3], 2) == 3\n",
    "assert upperBound([3,5,8,15,19], 9) == 3\n",
    "assert upperBound([3,5,8,15,19], 3) == 1"
   ]
  },
  {
   "cell_type": "code",
   "execution_count": 37,
   "id": "40be1c04",
   "metadata": {
    "execution": {
     "iopub.execute_input": "2024-09-23T14:35:56.277244Z",
     "iopub.status.busy": "2024-09-23T14:35:56.276729Z",
     "iopub.status.idle": "2024-09-23T14:35:56.280971Z",
     "shell.execute_reply": "2024-09-23T14:35:56.280484Z"
    },
    "lines_to_next_cell": 1,
    "papermill": {
     "duration": 0.011142,
     "end_time": "2024-09-23T14:35:56.281854",
     "exception": false,
     "start_time": "2024-09-23T14:35:56.270712",
     "status": "completed"
    },
    "tags": []
   },
   "outputs": [],
   "source": [
    "def searchInsert(nums: list[int], target: int) -> int:\n",
    "    low, high = 0, len(nums) - 1\n",
    "    while low <= high:\n",
    "        mid = (low + high) // 2\n",
    "        if nums[mid] < target:\n",
    "            low = mid + 1\n",
    "        else:\n",
    "            high = mid - 1\n",
    "\n",
    "    return low\n",
    "\n",
    "# Testing the solution\n",
    "assert searchInsert([1,3,5,6], 5) == 2\n",
    "assert searchInsert([1, 3, 5, 6], 2) == 1\n",
    "assert searchInsert([1, 3, 5, 6], 7) == 4"
   ]
  },
  {
   "cell_type": "code",
   "execution_count": null,
   "id": "5ea5a600",
   "metadata": {
    "lines_to_next_cell": 1
   },
   "outputs": [],
   "source": [
    "def getFloorAndCeil(nums: list[int], X: int):\n",
    "    N = len(nums)\n",
    "    LB = bisect.bisect_left(nums, X)\n",
    "    if X < nums[0]:\n",
    "        return -1, nums[0]\n",
    "    elif nums[-1] < X:\n",
    "        return nums[-1], -1\n",
    "    elif nums[LB] == X:\n",
    "        return X, X\n",
    "    else:\n",
    "        return nums[LB - 1], nums[LB]\n",
    "\n",
    "# Testing the solution\n",
    "assert getFloorAndCeil([3, 4, 4, 7, 8, 8], 5) == (4, 7)\n",
    "assert getFloorAndCeil([3, 4, 4, 7, 8, 10], 8) == (8, 8)\n",
    "assert getFloorAndCeil([3, 4, 4, 7, 8, 10], 12) == (10, -1)\n",
    "assert getFloorAndCeil([3, 4, 4, 7, 8, 10], 2) == (-1, 3)"
   ]
  },
  {
   "cell_type": "code",
   "execution_count": null,
   "id": "2ca825d0",
   "metadata": {
    "lines_to_next_cell": 1
   },
   "outputs": [],
   "source": [
    "def searchRange(nums: list[int], target: int) -> tuple[int, int]:\n",
    "    N = len(nums)\n",
    "    LB, UB = bisect.bisect_left(nums, target), bisect.bisect_right(nums, target)\n",
    "    if LB == N or nums[LB] != target:\n",
    "        return -1, -1\n",
    "    else:\n",
    "        return LB, UB - 1\n",
    "\n",
    "# Testing the solution\n",
    "assert searchRange([5, 7, 7, 8, 8, 10], 8) == (3, 4)\n",
    "assert searchRange([5, 7, 7, 8, 8, 10], 6) == (-1, -1)\n",
    "assert searchRange([5, 7, 7, 8, 8, 10], 5) == (0, 0)"
   ]
  },
  {
   "cell_type": "code",
   "execution_count": null,
   "id": "387f770f",
   "metadata": {},
   "outputs": [],
   "source": [
    "def searchSorted(nums: list[int], K: int) -> int:\n",
    "    \"\"\"\n",
    "    Trick here is to realize that the even tho we have the nums rotated,\n",
    "    either left half or the right half would still remain sorted.\n",
    "    \"\"\"\n",
    "    N = len(nums)\n",
    "    low, high = 0, N - 1\n",
    "    while low <= high:\n",
    "        mid = (low + high) // 2\n",
    "\n",
    "        # Mid is K\n",
    "        if nums[mid] == K:\n",
    "            return mid\n",
    "\n",
    "        # Left half if sorted\n",
    "        elif nums[low] < nums[mid]:\n",
    "            # K lies within sorted range\n",
    "            if nums[low] <= K <= nums[mid]:\n",
    "                high = mid - 1\n",
    "            else:\n",
    "                low = mid + 1\n",
    "\n",
    "        # Right half is sorted\n",
    "        else:\n",
    "            # K lies within sorted range\n",
    "            if nums[mid] <= K <= nums[high]:\n",
    "                low = mid + 1\n",
    "            else:\n",
    "                high = mid - 1\n",
    "\n",
    "    return -1\n",
    "\n",
    "# Testing the solution\n",
    "assert searchSorted([4, 5, 6, 7, 0, 1, 2], 0) == 4\n",
    "assert searchSorted([4, 5, 6, 7, 0, 1, 2], 3) == -1\n",
    "assert searchSorted([4, 5, 6, 7, 0, 1, 2], 5) == 1"
   ]
  }
 ],
 "metadata": {
  "kernelspec": {
   "display_name": "Python 3 (ipykernel)",
   "language": "python",
   "name": "python3"
  },
  "language_info": {
   "codemirror_mode": {
    "name": "ipython",
    "version": 3
   },
   "file_extension": ".py",
   "mimetype": "text/x-python",
   "name": "python",
   "nbconvert_exporter": "python",
   "pygments_lexer": "ipython3",
   "version": "3.12.6"
  },
  "papermill": {
   "default_parameters": {},
   "duration": 1.933168,
   "end_time": "2024-09-23T14:35:56.402230",
   "environment_variables": {},
   "exception": null,
   "input_path": "practice/009.ipynb",
   "output_path": "practice/009.ipynb",
   "parameters": {},
   "start_time": "2024-09-23T14:35:54.469062",
   "version": "2.6.0"
  }
 },
 "nbformat": 4,
 "nbformat_minor": 5
}
