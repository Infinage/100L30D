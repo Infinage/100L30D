{
 "cells": [
  {
   "cell_type": "markdown",
   "id": "8816b2e8",
   "metadata": {
    "papermill": {
     "duration": 0.004638,
     "end_time": "2024-09-20T02:20:37.389575",
     "exception": false,
     "start_time": "2024-09-20T02:20:37.384937",
     "status": "completed"
    },
    "tags": []
   },
   "source": [
    "#### Basic imports"
   ]
  },
  {
   "cell_type": "code",
   "execution_count": 1,
   "id": "b4a2ab2d",
   "metadata": {
    "execution": {
     "iopub.execute_input": "2024-09-20T02:20:37.398915Z",
     "iopub.status.busy": "2024-09-20T02:20:37.398349Z",
     "iopub.status.idle": "2024-09-20T02:20:37.402155Z",
     "shell.execute_reply": "2024-09-20T02:20:37.401709Z"
    },
    "lines_to_next_cell": 1,
    "papermill": {
     "duration": 0.009437,
     "end_time": "2024-09-20T02:20:37.403057",
     "exception": false,
     "start_time": "2024-09-20T02:20:37.393620",
     "status": "completed"
    },
    "tags": []
   },
   "outputs": [],
   "source": [
    "import math\n",
    "import heapq\n",
    "import bisect\n",
    "import collections\n",
    "import itertools\n",
    "import functools\n",
    "import random\n",
    "import typing"
   ]
  },
  {
   "cell_type": "code",
   "execution_count": 2,
   "id": "03c6208d",
   "metadata": {
    "execution": {
     "iopub.execute_input": "2024-09-20T02:20:37.411800Z",
     "iopub.status.busy": "2024-09-20T02:20:37.411336Z",
     "iopub.status.idle": "2024-09-20T02:20:37.415262Z",
     "shell.execute_reply": "2024-09-20T02:20:37.414825Z"
    },
    "lines_to_next_cell": 1,
    "papermill": {
     "duration": 0.009181,
     "end_time": "2024-09-20T02:20:37.416168",
     "exception": false,
     "start_time": "2024-09-20T02:20:37.406987",
     "status": "completed"
    },
    "tags": []
   },
   "outputs": [],
   "source": [
    "def ssort(nums: list[int]) -> list[int]:\n",
    "    \"Select the smallest / largest from the list and push it to the end.\"\n",
    "    N = len(nums)\n",
    "    for i in range(N):\n",
    "        min_ = i\n",
    "        for j in range(i + 1, N):\n",
    "            if nums[min_] > nums[j]:\n",
    "                min_ = j\n",
    "        nums[min_], nums[i] = nums[i], nums[min_]\n",
    "    return nums\n",
    "\n",
    "# Testing the solution\n",
    "assert ssort([7,4,1,5,3]) == [1,3,4,5,7]"
   ]
  },
  {
   "cell_type": "code",
   "execution_count": 3,
   "id": "5666a6a3",
   "metadata": {
    "execution": {
     "iopub.execute_input": "2024-09-20T02:20:37.424753Z",
     "iopub.status.busy": "2024-09-20T02:20:37.424565Z",
     "iopub.status.idle": "2024-09-20T02:20:37.428744Z",
     "shell.execute_reply": "2024-09-20T02:20:37.428262Z"
    },
    "lines_to_next_cell": 1,
    "papermill": {
     "duration": 0.00947,
     "end_time": "2024-09-20T02:20:37.429630",
     "exception": false,
     "start_time": "2024-09-20T02:20:37.420160",
     "status": "completed"
    },
    "tags": []
   },
   "outputs": [],
   "source": [
    "def bsort(nums: list[int]) -> list[int]:\n",
    "    \"Compare consecutive elements and bubble the larger number towards the end.\"\n",
    "    N = len(nums)\n",
    "    for j in range(N - 1, -1, -1):\n",
    "        swapped = False\n",
    "        for i in range(j):\n",
    "            if nums[i] > nums[i + 1]:\n",
    "                nums[i], nums[i + 1] = nums[i + 1], nums[i]\n",
    "                swapped = True\n",
    "        if not swapped:\n",
    "            break\n",
    "    return nums\n",
    "\n",
    "# Testing the solution\n",
    "assert bsort([7,4,1,5,3]) == [1,3,4,5,7]"
   ]
  },
  {
   "cell_type": "code",
   "execution_count": 4,
   "id": "db64fcf9",
   "metadata": {
    "execution": {
     "iopub.execute_input": "2024-09-20T02:20:37.438261Z",
     "iopub.status.busy": "2024-09-20T02:20:37.437826Z",
     "iopub.status.idle": "2024-09-20T02:20:37.441455Z",
     "shell.execute_reply": "2024-09-20T02:20:37.441030Z"
    },
    "lines_to_next_cell": 1,
    "papermill": {
     "duration": 0.0088,
     "end_time": "2024-09-20T02:20:37.442253",
     "exception": false,
     "start_time": "2024-09-20T02:20:37.433453",
     "status": "completed"
    },
    "tags": []
   },
   "outputs": [],
   "source": [
    "def isort(nums: list[int]) -> list[int]:\n",
    "    \"Take an element and place it at the correct order\"\n",
    "    N = len(nums)\n",
    "    for i in range(1, N):\n",
    "        curr, j = nums[i], i - 1\n",
    "        while j >= 0 and nums[j] > curr:\n",
    "            nums[j + 1] = nums[j]\n",
    "            j -= 1\n",
    "        nums[j + 1] = curr\n",
    "    return nums\n",
    "\n",
    "# Testing the solution\n",
    "assert isort([5,4,3,2,1]) == [1,2,3,4,5]"
   ]
  },
  {
   "cell_type": "code",
   "execution_count": 5,
   "id": "0f2ee15b",
   "metadata": {
    "execution": {
     "iopub.execute_input": "2024-09-20T02:20:37.450992Z",
     "iopub.status.busy": "2024-09-20T02:20:37.450542Z",
     "iopub.status.idle": "2024-09-20T02:20:37.457096Z",
     "shell.execute_reply": "2024-09-20T02:20:37.456564Z"
    },
    "lines_to_next_cell": 1,
    "papermill": {
     "duration": 0.011984,
     "end_time": "2024-09-20T02:20:37.458059",
     "exception": false,
     "start_time": "2024-09-20T02:20:37.446075",
     "status": "completed"
    },
    "tags": []
   },
   "outputs": [],
   "source": [
    "def qsort(nums: list[int]) -> list[int]:\n",
    "    def partition(left: int, right: int, partition_idx: int) -> int:\n",
    "        # Since we introduce a random pivot approach, we put it in a place\n",
    "        # where our algorithm usually starts at\n",
    "        nums[left], nums[partition_idx] = nums[partition_idx], nums[left]\n",
    "\n",
    "        # Same steps\n",
    "        pivot = nums[left]\n",
    "        i = left + 1\n",
    "        for j in range(left + 1, right + 1):\n",
    "            if nums[j] < pivot:\n",
    "                nums[i], nums[j] = nums[j], nums[i]\n",
    "                i += 1\n",
    "\n",
    "        nums[left], nums[i - 1] = nums[i - 1], nums[left]\n",
    "        return i - 1\n",
    "\n",
    "    def _qsort(start: int, end: int) -> None:\n",
    "        if start < end:\n",
    "            partition_idx = partition(start, end, random.randint(start, end))\n",
    "            _qsort(start, partition_idx - 1)\n",
    "            _qsort(partition_idx + 1, end)\n",
    "\n",
    "    _qsort(0, len(nums) - 1)\n",
    "    return nums\n",
    "\n",
    "# Testing the solution\n",
    "assert qsort([5,4,3,2,1]) == [1,2,3,4,5]\n",
    "assert qsort([6,5,4,3,2,1]) == [1,2,3,4,5,6]"
   ]
  },
  {
   "cell_type": "code",
   "execution_count": 6,
   "id": "9fa5cda2",
   "metadata": {
    "execution": {
     "iopub.execute_input": "2024-09-20T02:20:37.466520Z",
     "iopub.status.busy": "2024-09-20T02:20:37.466299Z",
     "iopub.status.idle": "2024-09-20T02:20:37.471252Z",
     "shell.execute_reply": "2024-09-20T02:20:37.470838Z"
    },
    "lines_to_next_cell": 1,
    "papermill": {
     "duration": 0.010142,
     "end_time": "2024-09-20T02:20:37.472145",
     "exception": false,
     "start_time": "2024-09-20T02:20:37.462003",
     "status": "completed"
    },
    "tags": []
   },
   "outputs": [],
   "source": [
    "def msort(nums: list[int]) -> list[int]:\n",
    "    def _msort(left: int, right: int) -> None:\n",
    "        if left < right:\n",
    "            mid = (left + right) // 2\n",
    "\n",
    "            # Very imp to split into (left, mid) and (mid + 1, right)\n",
    "            # Try to do it other way (left, mid - 1), (mid, right) wouldn't work\n",
    "            _msort(left, mid)\n",
    "            _msort(mid + 1, right)\n",
    "\n",
    "            # Merge the two sorted arrays\n",
    "            temp: list[int] = []\n",
    "            i, j = left, mid + 1\n",
    "            while i <= mid or j <= right:\n",
    "                if j > right or (i <= mid and nums[i] < nums[j]):\n",
    "                    temp.append(nums[i])\n",
    "                    i += 1\n",
    "                else:\n",
    "                    temp.append(nums[j])\n",
    "                    j += 1\n",
    "\n",
    "            # Reassign the sorted values back to original array\n",
    "            nums[left: right + 1] = temp\n",
    "\n",
    "    _msort(0, len(nums) - 1)\n",
    "    return nums\n",
    "\n",
    "# Testing the solution\n",
    "assert msort([5,4,3,2,1]) == [1,2,3,4,5]\n",
    "assert msort([6,5,4,3,2,1]) == [1,2,3,4,5,6]"
   ]
  },
  {
   "cell_type": "code",
   "execution_count": 7,
   "id": "bf753ad8",
   "metadata": {
    "execution": {
     "iopub.execute_input": "2024-09-20T02:20:37.480716Z",
     "iopub.status.busy": "2024-09-20T02:20:37.480540Z",
     "iopub.status.idle": "2024-09-20T02:20:37.484436Z",
     "shell.execute_reply": "2024-09-20T02:20:37.483994Z"
    },
    "lines_to_next_cell": 1,
    "papermill": {
     "duration": 0.009107,
     "end_time": "2024-09-20T02:20:37.485290",
     "exception": false,
     "start_time": "2024-09-20T02:20:37.476183",
     "status": "completed"
    },
    "tags": []
   },
   "outputs": [],
   "source": [
    "def secondLargestElement(nums: list[int]):\n",
    "    \"Largest - use min heap; Smallest - use max heap\"\n",
    "    heap: list[int] = []\n",
    "    for n in set(nums):\n",
    "        heapq.heappush(heap, n)\n",
    "        if len(heap) > 2:\n",
    "            heapq.heappop(heap)\n",
    "\n",
    "    return heap[0] if len(heap) == 2 else -1\n",
    "\n",
    "# Testing the solution\n",
    "assert secondLargestElement([10,10,10,10,10]) == -1\n",
    "assert secondLargestElement([8,8,7,6,5]) == 7\n",
    "assert secondLargestElement([7,7,2,2,10,10,10]) == 7"
   ]
  },
  {
   "cell_type": "code",
   "execution_count": 8,
   "id": "649e052f",
   "metadata": {
    "execution": {
     "iopub.execute_input": "2024-09-20T02:20:37.493844Z",
     "iopub.status.busy": "2024-09-20T02:20:37.493401Z",
     "iopub.status.idle": "2024-09-20T02:20:37.497914Z",
     "shell.execute_reply": "2024-09-20T02:20:37.497440Z"
    },
    "lines_to_next_cell": 1,
    "papermill": {
     "duration": 0.009623,
     "end_time": "2024-09-20T02:20:37.498825",
     "exception": false,
     "start_time": "2024-09-20T02:20:37.489202",
     "status": "completed"
    },
    "tags": []
   },
   "outputs": [],
   "source": [
    "def rotateArray(nums: list[int], K: int) -> list[int]:\n",
    "    def reverse(start: int, end: int) -> None:\n",
    "        while start < end:\n",
    "            nums[start], nums[end] = nums[end], nums[start]\n",
    "            start, end = start + 1, end - 1\n",
    "\n",
    "    N = len(nums)\n",
    "    K = K % N\n",
    "    reverse(0, K - 1)\n",
    "    reverse(K, N - 1)\n",
    "    reverse(0, N - 1)\n",
    "    return nums\n",
    "\n",
    "# Testing the solution\n",
    "assert rotateArray([1,2,3,4,5,6], 2) == [3,4,5,6,1,2]\n",
    "assert rotateArray([3,4,1,5,3,-5], 8) == [1,5,3,-5,3,4]\n",
    "assert rotateArray([1,2,3,4,5], 4) == [5,1,2,3,4]"
   ]
  },
  {
   "cell_type": "code",
   "execution_count": 9,
   "id": "60360c89",
   "metadata": {
    "execution": {
     "iopub.execute_input": "2024-09-20T02:20:37.508155Z",
     "iopub.status.busy": "2024-09-20T02:20:37.507591Z",
     "iopub.status.idle": "2024-09-20T02:20:37.511075Z",
     "shell.execute_reply": "2024-09-20T02:20:37.510651Z"
    },
    "lines_to_next_cell": 1,
    "papermill": {
     "duration": 0.008725,
     "end_time": "2024-09-20T02:20:37.511956",
     "exception": false,
     "start_time": "2024-09-20T02:20:37.503231",
     "status": "completed"
    },
    "tags": []
   },
   "outputs": [],
   "source": [
    "def moveZeros(nums: list[int]) -> None:\n",
    "    # All index positions until i are filled with non zeros\n",
    "    i = 0\n",
    "    for j in range(len(nums)):\n",
    "        if nums[j] != 0:\n",
    "            nums[i] = nums[j]\n",
    "            i += 1\n",
    "\n",
    "    # Assign all left over positions as 0\n",
    "    for j in range(i, len(nums)):\n",
    "        nums[j] = 0"
   ]
  },
  {
   "cell_type": "code",
   "execution_count": 10,
   "id": "e23bf205",
   "metadata": {
    "execution": {
     "iopub.execute_input": "2024-09-20T02:20:37.520469Z",
     "iopub.status.busy": "2024-09-20T02:20:37.519984Z",
     "iopub.status.idle": "2024-09-20T02:20:37.523443Z",
     "shell.execute_reply": "2024-09-20T02:20:37.523009Z"
    },
    "lines_to_next_cell": 1,
    "papermill": {
     "duration": 0.008544,
     "end_time": "2024-09-20T02:20:37.524311",
     "exception": false,
     "start_time": "2024-09-20T02:20:37.515767",
     "status": "completed"
    },
    "tags": []
   },
   "outputs": [],
   "source": [
    "def removeDuplicates(nums: list[int]) -> None:\n",
    "    # Two pointer approach\n",
    "    i = 1\n",
    "    for j in range(1, len(nums)):\n",
    "        if nums[i - 1] != nums[j]:\n",
    "            nums[i] = nums[j]\n",
    "            i += 1\n",
    "\n",
    "    # Assign left overs as 0\n",
    "    for j in range(i, len(nums)):\n",
    "        nums[j] = 0"
   ]
  },
  {
   "cell_type": "code",
   "execution_count": 11,
   "id": "3a3f2191",
   "metadata": {
    "execution": {
     "iopub.execute_input": "2024-09-20T02:20:37.533004Z",
     "iopub.status.busy": "2024-09-20T02:20:37.532470Z",
     "iopub.status.idle": "2024-09-20T02:20:37.539391Z",
     "shell.execute_reply": "2024-09-20T02:20:37.538864Z"
    },
    "lines_to_next_cell": 1,
    "papermill": {
     "duration": 0.012089,
     "end_time": "2024-09-20T02:20:37.540292",
     "exception": false,
     "start_time": "2024-09-20T02:20:37.528203",
     "status": "completed"
    },
    "tags": []
   },
   "outputs": [],
   "source": [
    "def findSafeWalk(grid: list[list[int]], health: int) -> bool:\n",
    "    M, N = len(grid), len(grid[0])\n",
    "    costs: collections.defaultdict[tuple[int, int], int] = collections.defaultdict(lambda: 0)\n",
    "    heap: list[tuple[int, tuple[int, int]]] = [(-health if grid[0][0] == 0 else -(health - 1), (0, 0))]\n",
    "    while heap:\n",
    "        curr_health, (x, y) = heapq.heappop(heap)\n",
    "        curr_health = -curr_health\n",
    "        for (x_, y_) in [(x + 1, y), (x - 1, y), (x, y + 1), (x, y - 1)]:\n",
    "            if 0 <= x_ < M and 0 <= y_ < N:\n",
    "                next_health = curr_health if grid[x_][y_] == 0 else curr_health - 1\n",
    "                if next_health > costs[(x_, y_)]:\n",
    "                    costs[(x_, y_)] = next_health\n",
    "                    heapq.heappush(heap, (-next_health, (x_, y_)))\n",
    "\n",
    "    return costs[(M - 1, N - 1)] > 0\n",
    "\n",
    "# Testing the solution\n",
    "assert findSafeWalk([[0,1,0,0,0],[0,1,0,1,0],[0,0,0,1,0]], 1) == True\n",
    "assert findSafeWalk([[0,1,1,0,0,0],[1,0,1,0,0,0],[0,1,1,1,0,1],[0,0,1,0,1,0]], 3) == False\n",
    "assert findSafeWalk([[1,1,1],[1,0,1],[1,1,1]], 5) == True\n",
    "assert findSafeWalk([[1,1,1,1]], 4) == False"
   ]
  },
  {
   "cell_type": "code",
   "execution_count": 12,
   "id": "4620e621",
   "metadata": {
    "execution": {
     "iopub.execute_input": "2024-09-20T02:20:37.548971Z",
     "iopub.status.busy": "2024-09-20T02:20:37.548452Z",
     "iopub.status.idle": "2024-09-20T02:20:37.552745Z",
     "shell.execute_reply": "2024-09-20T02:20:37.552269Z"
    },
    "lines_to_next_cell": 1,
    "papermill": {
     "duration": 0.00945,
     "end_time": "2024-09-20T02:20:37.553562",
     "exception": false,
     "start_time": "2024-09-20T02:20:37.544112",
     "status": "completed"
    },
    "tags": []
   },
   "outputs": [],
   "source": [
    "def intersectionArray(nums1: list[int], nums2: list[int]) -> list[int]:\n",
    "    i, j, N1, N2 = 0, 0, len(nums1), len(nums2)\n",
    "    result: list[int] = []\n",
    "    while i < N1 and j < N2:\n",
    "        if nums1[i] == nums2[j]:\n",
    "            result.append(nums1[i])\n",
    "            i, j = i + 1, j + 1\n",
    "        elif nums1[i] < nums2[j]:\n",
    "            i += 1\n",
    "        else:\n",
    "            j += 1\n",
    "    return result\n",
    "\n",
    "# Testing the solution\n",
    "assert intersectionArray([1,2,2,3,5], [1,2,7]) == [1,2]\n",
    "assert intersectionArray([1,2,2,3], [4,5,7]) == []"
   ]
  },
  {
   "cell_type": "code",
   "execution_count": 13,
   "id": "6aace28f",
   "metadata": {
    "execution": {
     "iopub.execute_input": "2024-09-20T02:20:37.563229Z",
     "iopub.status.busy": "2024-09-20T02:20:37.562794Z",
     "iopub.status.idle": "2024-09-20T02:20:37.567248Z",
     "shell.execute_reply": "2024-09-20T02:20:37.566662Z"
    },
    "lines_to_next_cell": 1,
    "papermill": {
     "duration": 0.01025,
     "end_time": "2024-09-20T02:20:37.568111",
     "exception": false,
     "start_time": "2024-09-20T02:20:37.557861",
     "status": "completed"
    },
    "tags": []
   },
   "outputs": [],
   "source": [
    "def leaders(nums: list[int]) -> list[int]:\n",
    "    result: list[int] = []\n",
    "    for i in range(len(nums) - 1, -1, -1):\n",
    "        if not result or result[-1] < nums[i]:\n",
    "            result.append(nums[i])\n",
    "    result.reverse()\n",
    "    return result\n",
    "\n",
    "# Testing the solution\n",
    "assert leaders([1,2,5,3,1,2]) == [5,3,2]\n",
    "assert leaders([-3,4,5,1,-4,-5]) == [5,1,-4,-5]\n",
    "assert leaders([-3,4,5,1,-30,-10]) == [5,1,-10]"
   ]
  },
  {
   "cell_type": "code",
   "execution_count": 14,
   "id": "1bc2207c",
   "metadata": {
    "execution": {
     "iopub.execute_input": "2024-09-20T02:20:37.576515Z",
     "iopub.status.busy": "2024-09-20T02:20:37.576157Z",
     "iopub.status.idle": "2024-09-20T02:20:37.582729Z",
     "shell.execute_reply": "2024-09-20T02:20:37.582195Z"
    },
    "lines_to_next_cell": 1,
    "papermill": {
     "duration": 0.01164,
     "end_time": "2024-09-20T02:20:37.583551",
     "exception": false,
     "start_time": "2024-09-20T02:20:37.571911",
     "status": "completed"
    },
    "tags": []
   },
   "outputs": [],
   "source": [
    "def spiralOrder(matrix: list[list[int]]) -> list[int]:\n",
    "    i, j, M, N = 0, 0, len(matrix), len(matrix[0])\n",
    "    result: list[int] = []\n",
    "    for layer in range(math.ceil(min(M / 2, N / 2))):\n",
    "        x, y = layer, layer\n",
    "        result.append(matrix[x][y])\n",
    "\n",
    "        # Go right\n",
    "        travelled_right = False\n",
    "        while y + 1 < N - layer:\n",
    "            y += 1\n",
    "            result.append(matrix[x][y])\n",
    "            travelled_right = True\n",
    "\n",
    "        # Go down\n",
    "        travelled_down = False\n",
    "        while x + 1 < M - layer:\n",
    "            x += 1\n",
    "            result.append(matrix[x][y])\n",
    "            travelled_down = True\n",
    "\n",
    "        # Go left\n",
    "        travelled_left = False\n",
    "        while travelled_down and y - 1 >= layer:\n",
    "            y -= 1\n",
    "            result.append(matrix[x][y])\n",
    "            travelled_left = True\n",
    "\n",
    "        # Go up\n",
    "        travelled_up = False\n",
    "        while travelled_left and x - 1 > layer:\n",
    "            x -= 1\n",
    "            result.append(matrix[x][y])\n",
    "            travelled_up = True\n",
    "\n",
    "    return result\n",
    "\n",
    "# Testing the solution\n",
    "assert spiralOrder([[1, 2, 3], [4 ,5 ,6], [7, 8, 9]]) == [1, 2, 3, 6, 9, 8, 7, 4, 5]\n",
    "assert spiralOrder([[1, 2, 3, 4], [5, 6, 7, 8]]) == [1, 2, 3, 4, 8, 7, 6, 5]\n",
    "assert spiralOrder([[1, 2], [3, 4], [5, 6], [7, 8]]) == [1, 2, 4, 6, 8, 7, 5, 3]"
   ]
  },
  {
   "cell_type": "code",
   "execution_count": 15,
   "id": "b1638de8",
   "metadata": {
    "execution": {
     "iopub.execute_input": "2024-09-20T02:20:37.592155Z",
     "iopub.status.busy": "2024-09-20T02:20:37.591677Z",
     "iopub.status.idle": "2024-09-20T02:20:37.596272Z",
     "shell.execute_reply": "2024-09-20T02:20:37.595830Z"
    },
    "lines_to_next_cell": 1,
    "papermill": {
     "duration": 0.009754,
     "end_time": "2024-09-20T02:20:37.597201",
     "exception": false,
     "start_time": "2024-09-20T02:20:37.587447",
     "status": "completed"
    },
    "tags": []
   },
   "outputs": [],
   "source": [
    "def rearrangeArray(nums: list[int]) -> list[int]:\n",
    "    # Split and obtain the nums into two diff arrays\n",
    "    pos: collections.deque[int] = collections.deque([])\n",
    "    neg: collections.deque[int] = collections.deque([])\n",
    "    for n in nums:\n",
    "        if n < 0:\n",
    "            neg.append(n)\n",
    "        else:\n",
    "            pos.append(n)\n",
    "\n",
    "    # Pos first, neg next preserving original order\n",
    "    result: list[int] = []\n",
    "    for i in range(len(nums) // 2):\n",
    "        result.append(pos.popleft())\n",
    "        result.append(neg.popleft())\n",
    "\n",
    "    return result\n",
    "\n",
    "# Testing the solution\n",
    "assert rearrangeArray([1,-1,-3,-4,2,3]) == [1,-1,2,-3,3,-4]\n",
    "assert rearrangeArray([-4,4,-4,4,-4,4]) == [4,-4,4,-4,4,-4]"
   ]
  },
  {
   "cell_type": "code",
   "execution_count": 16,
   "id": "72cfac21",
   "metadata": {
    "execution": {
     "iopub.execute_input": "2024-09-20T02:20:37.605830Z",
     "iopub.status.busy": "2024-09-20T02:20:37.605361Z",
     "iopub.status.idle": "2024-09-20T02:20:37.609272Z",
     "shell.execute_reply": "2024-09-20T02:20:37.608839Z"
    },
    "lines_to_next_cell": 1,
    "papermill": {
     "duration": 0.009012,
     "end_time": "2024-09-20T02:20:37.610089",
     "exception": false,
     "start_time": "2024-09-20T02:20:37.601077",
     "status": "completed"
    },
    "tags": []
   },
   "outputs": [],
   "source": [
    "def pascalTriangle(numRows: int) -> list[list[int]]:\n",
    "    result: list[list[int]] = [[1]]\n",
    "    for i in range(1, numRows):\n",
    "        result.append([1])\n",
    "        for j in range(i - 1):\n",
    "            result[-1].append(result[-2][j] + result[-2][j + 1])\n",
    "        result[-1].append(1)\n",
    "\n",
    "    return result\n",
    "\n",
    "# Testing the solution\n",
    "assert pascalTriangle(5) == [[1], [1, 1], [1, 2, 1], [1, 3, 3, 1], [1, 4, 6, 4, 1]]"
   ]
  },
  {
   "cell_type": "code",
   "execution_count": 17,
   "id": "ab1590e1",
   "metadata": {
    "execution": {
     "iopub.execute_input": "2024-09-20T02:20:37.619155Z",
     "iopub.status.busy": "2024-09-20T02:20:37.618627Z",
     "iopub.status.idle": "2024-09-20T02:20:37.623973Z",
     "shell.execute_reply": "2024-09-20T02:20:37.623508Z"
    },
    "lines_to_next_cell": 1,
    "papermill": {
     "duration": 0.010606,
     "end_time": "2024-09-20T02:20:37.624829",
     "exception": false,
     "start_time": "2024-09-20T02:20:37.614223",
     "status": "completed"
    },
    "tags": []
   },
   "outputs": [],
   "source": [
    "def rotateMatrix(matrix: list[list[int]]) -> list[list[int]]:\n",
    "    \"\"\"\n",
    "    Similar to rotating an array by k places, this could be acheived\n",
    "    by transposing the matrix first and then reversing the rows\n",
    "    \"\"\"\n",
    "    N = len(matrix)\n",
    "\n",
    "    # Transpose the matrix\n",
    "    for i in range(N):\n",
    "        for j in range(i + 1, N):\n",
    "            matrix[i][j], matrix[j][i] = matrix[j][i], matrix[i][j]\n",
    "\n",
    "    # Reverse the rows\n",
    "    for i in range(N):\n",
    "        matrix[i].reverse()\n",
    "\n",
    "    return matrix\n",
    "\n",
    "# Testing the solution\n",
    "assert rotateMatrix([[1,2,3], [4,5,6], [7,8,9]]) == [[7,4,1], [8,5,2], [9,6,3]]\n",
    "assert rotateMatrix([[0,1,1,2], [2,0,3,1], [4,5,0,5], [5,6,7,0]]) == [[5,4,2,0], [6,5,0,1], [7,0,3,1], [0,5,1,2]]\n",
    "assert rotateMatrix([[1,1,2], [5,3,1], [5,3,5]]) == [[5,5,1], [3,3,1], [5,1,2]]"
   ]
  },
  {
   "cell_type": "code",
   "execution_count": 18,
   "id": "3e260a7c",
   "metadata": {
    "execution": {
     "iopub.execute_input": "2024-09-20T02:20:37.633658Z",
     "iopub.status.busy": "2024-09-20T02:20:37.633204Z",
     "iopub.status.idle": "2024-09-20T02:20:37.638081Z",
     "shell.execute_reply": "2024-09-20T02:20:37.637570Z"
    },
    "lines_to_next_cell": 1,
    "papermill": {
     "duration": 0.010085,
     "end_time": "2024-09-20T02:20:37.639012",
     "exception": false,
     "start_time": "2024-09-20T02:20:37.628927",
     "status": "completed"
    },
    "tags": []
   },
   "outputs": [],
   "source": [
    "def twoSum(nums: list[int], target: int) -> tuple[int, int]:\n",
    "    N = len(nums)\n",
    "    nums_: list[tuple[int, int]] = sorted(enumerate(nums), key=lambda x: x[1])\n",
    "    i, j = 0, N - 1\n",
    "    while i < j:\n",
    "        curr = nums_[i][1] + nums_[j][1]\n",
    "        pair = sorted([nums_[i][0], nums_[j][0]])\n",
    "        if curr == target:\n",
    "            return pair[0], pair[1]\n",
    "        elif curr < target:\n",
    "            i += 1\n",
    "        else:\n",
    "            j -= 1\n",
    "\n",
    "    return -1, -1\n",
    "\n",
    "# Testing the solution\n",
    "assert twoSum([1,6,2,10,3], 7) == (0,1)\n",
    "assert twoSum([1,3,5,-7,6,-3], 0) == (1,5)\n",
    "assert twoSum([-6,7,1,-7,6,2], 3) == (2,5)"
   ]
  },
  {
   "cell_type": "code",
   "execution_count": 19,
   "id": "70e0ad16",
   "metadata": {
    "execution": {
     "iopub.execute_input": "2024-09-20T02:20:37.647726Z",
     "iopub.status.busy": "2024-09-20T02:20:37.647316Z",
     "iopub.status.idle": "2024-09-20T02:20:37.652318Z",
     "shell.execute_reply": "2024-09-20T02:20:37.651868Z"
    },
    "lines_to_next_cell": 1,
    "papermill": {
     "duration": 0.010153,
     "end_time": "2024-09-20T02:20:37.653152",
     "exception": false,
     "start_time": "2024-09-20T02:20:37.642999",
     "status": "completed"
    },
    "tags": []
   },
   "outputs": [],
   "source": [
    "def threeSum(nums: list[int]) -> set[tuple[int, int, int]]:\n",
    "    N = len(nums)\n",
    "    nums.sort()\n",
    "    results: set[tuple[int, int, int]] = set()\n",
    "    for i in range(N - 2):\n",
    "        j, k = i + 1, N - 1\n",
    "        while j < k:\n",
    "            curr = nums[i] + nums[j] + nums[k]\n",
    "            triplet = sorted([nums[i], nums[j], nums[k]])\n",
    "            if curr == 0:\n",
    "                results.add((triplet[0], triplet[1], triplet[2]))\n",
    "                j, k = j + 1, k - 1\n",
    "            elif curr > 0:\n",
    "                k -= 1\n",
    "            else:\n",
    "                j += 1\n",
    "\n",
    "    return results\n",
    "\n",
    "# Testing the solution\n",
    "assert threeSum([2, -2, 0, 3, -3, 5]) == {(-3, -2, 5), (-3, 0, 3), (-2, 0, 2)}\n",
    "assert threeSum([2, -1, -1, 3, -1]) == {(-1, -1, 2)}"
   ]
  },
  {
   "cell_type": "code",
   "execution_count": 20,
   "id": "2696f7e0",
   "metadata": {
    "execution": {
     "iopub.execute_input": "2024-09-20T02:20:37.662053Z",
     "iopub.status.busy": "2024-09-20T02:20:37.661621Z",
     "iopub.status.idle": "2024-09-20T02:20:37.667207Z",
     "shell.execute_reply": "2024-09-20T02:20:37.666690Z"
    },
    "lines_to_next_cell": 1,
    "papermill": {
     "duration": 0.010932,
     "end_time": "2024-09-20T02:20:37.668051",
     "exception": false,
     "start_time": "2024-09-20T02:20:37.657119",
     "status": "completed"
    },
    "tags": []
   },
   "outputs": [],
   "source": [
    "def fourSum(nums: list[int], target: int) -> set[tuple[int, int, int, int]]:\n",
    "    \"\"\"\n",
    "    Iterate all combinations of i, j\n",
    "    For each such combination deploy the two pointer approach\n",
    "    \"\"\"\n",
    "    N = len(nums)\n",
    "    nums.sort()\n",
    "    results: set[tuple[int, int, int, int]] = set()\n",
    "    for i in range(N - 3):\n",
    "        for j in range(i + 1, N - 2):\n",
    "            k, l = j + 1, N - 1\n",
    "            while k < l:\n",
    "                quad: list[int] = sorted([nums[i], nums[j], nums[k], nums[l]])\n",
    "                total = nums[i] + nums[j] + nums[k] + nums[l]\n",
    "                if total == target:\n",
    "                    results.add((quad[0], quad[1], quad[2], quad[3]))\n",
    "                    k, l = k + 1, l - 1\n",
    "                elif total > target:\n",
    "                    l -= 1\n",
    "                else:\n",
    "                    k += 1\n",
    "\n",
    "    return results\n",
    "\n",
    "# Testing the solution\n",
    "assert fourSum([1,-2,3,5,7,9], 7) == {(-2,1,3,5)}\n",
    "assert fourSum([7,-7,1,2,14,3], 9) == set()\n",
    "assert fourSum([1,1,3,4,-3], 5) == {(-3,1,3,4)}"
   ]
  },
  {
   "cell_type": "code",
   "execution_count": 21,
   "id": "e460ed7b",
   "metadata": {
    "execution": {
     "iopub.execute_input": "2024-09-20T02:20:37.676791Z",
     "iopub.status.busy": "2024-09-20T02:20:37.676440Z",
     "iopub.status.idle": "2024-09-20T02:20:37.680844Z",
     "shell.execute_reply": "2024-09-20T02:20:37.680309Z"
    },
    "lines_to_next_cell": 1,
    "papermill": {
     "duration": 0.009614,
     "end_time": "2024-09-20T02:20:37.681688",
     "exception": false,
     "start_time": "2024-09-20T02:20:37.672074",
     "status": "completed"
    },
    "tags": []
   },
   "outputs": [],
   "source": [
    "def sortZeroOneTwo(nums: list[int]) -> list[int]:\n",
    "    \"\"\"\n",
    "    Variation of Dutch National flag algorithm\n",
    "    A much more intuitive algorithm is bucket sort\n",
    "\n",
    "    DNF:\n",
    "    Assume nums from [0, low], [high, N-1] are sorted.\n",
    "    Numbers between (low, high) are unsorted\n",
    "    \"\"\"\n",
    "    N = len(nums)\n",
    "    low, mid, high = 0, 0, N - 1\n",
    "    while mid <= high:\n",
    "        # Correct position\n",
    "        if nums[mid] == 1:\n",
    "            mid += 1\n",
    "\n",
    "        # Incorrect\n",
    "        elif nums[mid] == 0:\n",
    "            nums[low], nums[mid] = nums[mid], nums[low]\n",
    "            low, mid = low + 1, mid + 1\n",
    "        else:\n",
    "            nums[high], nums[mid] = nums[mid], nums[high]\n",
    "            high -= 1\n",
    "\n",
    "    return nums\n",
    "\n",
    "# Testing the solution\n",
    "assert sortZeroOneTwo([0,0,1,2,0,1,2,2,1,0]) == [0,0,0,0,1,1,1,2,2,2]"
   ]
  },
  {
   "cell_type": "code",
   "execution_count": 22,
   "id": "5e1e76e9",
   "metadata": {
    "execution": {
     "iopub.execute_input": "2024-09-20T02:20:37.690388Z",
     "iopub.status.busy": "2024-09-20T02:20:37.689990Z",
     "iopub.status.idle": "2024-09-20T02:20:37.693970Z",
     "shell.execute_reply": "2024-09-20T02:20:37.693511Z"
    },
    "lines_to_next_cell": 1,
    "papermill": {
     "duration": 0.009225,
     "end_time": "2024-09-20T02:20:37.694837",
     "exception": false,
     "start_time": "2024-09-20T02:20:37.685612",
     "status": "completed"
    },
    "tags": []
   },
   "outputs": [],
   "source": [
    "def maxSubArray(nums: list[int]) -> int:\n",
    "    \"\"\"\n",
    "    Kadane's algorithm\n",
    "    If at any pt total becomes less than 0, reset it\n",
    "    \"\"\"\n",
    "    max_, total = nums[0], 0\n",
    "    for n in nums:\n",
    "        total += n\n",
    "        max_ = max(max_, total)\n",
    "        if total < 0:\n",
    "            total = 0\n",
    "    return max_\n",
    "\n",
    "# Testing the solution\n",
    "assert maxSubArray([2, 3, 5, -2, 7, -4]) == 15\n",
    "assert maxSubArray([-2, -3, -7, -2, -10, -4]) == -2\n",
    "assert maxSubArray([-1, 2, 3, -1, 2, -6, 5]) == 6"
   ]
  },
  {
   "cell_type": "code",
   "execution_count": 23,
   "id": "028c7163",
   "metadata": {
    "execution": {
     "iopub.execute_input": "2024-09-20T02:20:37.703726Z",
     "iopub.status.busy": "2024-09-20T02:20:37.703333Z",
     "iopub.status.idle": "2024-09-20T02:20:37.707663Z",
     "shell.execute_reply": "2024-09-20T02:20:37.707225Z"
    },
    "lines_to_next_cell": 1,
    "papermill": {
     "duration": 0.009621,
     "end_time": "2024-09-20T02:20:37.708492",
     "exception": false,
     "start_time": "2024-09-20T02:20:37.698871",
     "status": "completed"
    },
    "tags": []
   },
   "outputs": [],
   "source": [
    "def majorityElement(nums: list[int]) -> int:\n",
    "    \"\"\"\n",
    "    Logic: Assume a number is the majority element, everytime we encounter num in nums that equals\n",
    "    our curr we increment count by 1 else decrement count by 1.\n",
    "\n",
    "    Continue doing until we have reached the end of the array\n",
    "    \"\"\"\n",
    "    result: int|None = None\n",
    "    freq: int = 0\n",
    "    for n in nums:\n",
    "        if not result:\n",
    "            result, freq = n, 1\n",
    "        elif n == result:\n",
    "            freq += 1\n",
    "        else:\n",
    "            freq -= 1\n",
    "\n",
    "        if freq == 0:\n",
    "            result = None\n",
    "\n",
    "    return result if result else 0\n",
    "\n",
    "# Testing the solution\n",
    "assert majorityElement([7, 0, 0, 1, 7, 7, 2, 7, 7]) == 7\n",
    "assert majorityElement([1, 1, 1, 2, 1, 2]) == 1\n",
    "assert majorityElement([-1, -1, -1, -1]) == -1"
   ]
  },
  {
   "cell_type": "code",
   "execution_count": 24,
   "id": "9ec51a9d",
   "metadata": {
    "execution": {
     "iopub.execute_input": "2024-09-20T02:20:37.717110Z",
     "iopub.status.busy": "2024-09-20T02:20:37.716894Z",
     "iopub.status.idle": "2024-09-20T02:20:37.722439Z",
     "shell.execute_reply": "2024-09-20T02:20:37.721995Z"
    },
    "lines_to_next_cell": 1,
    "papermill": {
     "duration": 0.01082,
     "end_time": "2024-09-20T02:20:37.723307",
     "exception": false,
     "start_time": "2024-09-20T02:20:37.712487",
     "status": "completed"
    },
    "tags": []
   },
   "outputs": [],
   "source": [
    "def majorityElementTwo(nums: list[int]) -> list[int]:\n",
    "    \"\"\"\n",
    "    Same as prev question but we have two slots now.\n",
    "    \"\"\"\n",
    "    N = len(nums)\n",
    "    n1, f1, n2, f2 = 0, 0, 0, 0\n",
    "    for n in nums:\n",
    "        if f1 == 0 and n != n2:\n",
    "            n1, f1 = n, 1\n",
    "        elif f2 == 0 and n != n1:\n",
    "            n2, f2 = n, 1\n",
    "        elif n == n1:\n",
    "            f1 += 1\n",
    "        elif n == n2:\n",
    "            f2 += 1\n",
    "        else:\n",
    "            f1, f2 = f1 - 1, f2 - 1\n",
    "\n",
    "    # Double check to ensure that the majority\n",
    "    # elements are occuring more than N // 3 times\n",
    "    freq: dict[int, int] = dict()\n",
    "    for n in nums:\n",
    "        if n in (n1, n2):\n",
    "            freq[n] = freq.get(n, 0) + 1\n",
    "\n",
    "    return [n for n in (n1, n2) if freq.get(n, 0) > N // 3]\n",
    "\n",
    "# Testing the solution\n",
    "assert majorityElementTwo([1,1,1,1]) == [1]\n",
    "assert majorityElementTwo([1,2,1,1,3,2,2]) == [1,2]\n",
    "assert majorityElementTwo([1,2,1,1,3,2]) == [1]\n",
    "assert majorityElementTwo([1,2,1,1,3,2,2,3]) == [1,2]\n",
    "assert majorityElementTwo([1,1,2,2,3,3,4,4,5,5]) == []"
   ]
  },
  {
   "cell_type": "code",
   "execution_count": 25,
   "id": "2abcdcfe",
   "metadata": {
    "execution": {
     "iopub.execute_input": "2024-09-20T02:20:37.732485Z",
     "iopub.status.busy": "2024-09-20T02:20:37.732087Z",
     "iopub.status.idle": "2024-09-20T02:20:37.737475Z",
     "shell.execute_reply": "2024-09-20T02:20:37.737015Z"
    },
    "lines_to_next_cell": 1,
    "papermill": {
     "duration": 0.01072,
     "end_time": "2024-09-20T02:20:37.738281",
     "exception": false,
     "start_time": "2024-09-20T02:20:37.727561",
     "status": "completed"
    },
    "tags": []
   },
   "outputs": [],
   "source": [
    "def numberOfInversions(nums: list[int]) -> int:\n",
    "    def modified_mergesort(low: int, high: int) -> int:\n",
    "        if low >= high:\n",
    "            return 0\n",
    "\n",
    "        else:\n",
    "            # Merge sort left and right\n",
    "            mid = (low + high) // 2\n",
    "            cnt_left = modified_mergesort(low, mid)\n",
    "            cnt_right = modified_mergesort(mid + 1, high)\n",
    "\n",
    "            # Create temp array for storing in order\n",
    "            temp: list[int] = []\n",
    "            cnt, i, j = 0, low, mid + 1\n",
    "            while i <= mid or j <= high:\n",
    "                if j > high or (i <= mid and nums[i] <= nums[j]):\n",
    "                    temp.append(nums[i])\n",
    "                    i += 1\n",
    "                else:\n",
    "                    temp.append(nums[j])\n",
    "                    j += 1\n",
    "\n",
    "                    # We are inserting from the right portion\n",
    "                    # Simply count how many elements we have\n",
    "                    # left in the 'left' array\n",
    "                    cnt += mid - i + 1\n",
    "\n",
    "            # Copy from temp back to array\n",
    "            for i in range(low, high + 1):\n",
    "                nums[i] = temp[i - low]\n",
    "\n",
    "            return cnt_left + cnt_right + cnt\n",
    "\n",
    "    inversions = modified_mergesort(0, len(nums) - 1)\n",
    "    return inversions\n",
    "\n",
    "assert numberOfInversions([2, 3, 7, 1, 3, 5]) == 5\n",
    "assert numberOfInversions([-10, -5, 6, 11, 15, 17]) == 0\n",
    "assert numberOfInversions([9, 5, 4, 2]) == 6"
   ]
  },
  {
   "cell_type": "code",
   "execution_count": 26,
   "id": "9c0a8830",
   "metadata": {
    "execution": {
     "iopub.execute_input": "2024-09-20T02:20:37.747008Z",
     "iopub.status.busy": "2024-09-20T02:20:37.746797Z",
     "iopub.status.idle": "2024-09-20T02:20:37.752256Z",
     "shell.execute_reply": "2024-09-20T02:20:37.751812Z"
    },
    "papermill": {
     "duration": 0.010833,
     "end_time": "2024-09-20T02:20:37.753115",
     "exception": false,
     "start_time": "2024-09-20T02:20:37.742282",
     "status": "completed"
    },
    "tags": []
   },
   "outputs": [],
   "source": [
    "def reversePairs(nums: list[int]) -> int:\n",
    "    N = len(nums)\n",
    "    def modified_mergesort(left: int, right: int) -> int:\n",
    "        if left >= right:\n",
    "            return 0\n",
    "        else:\n",
    "            mid = (left + right) // 2\n",
    "            left_rev_count = modified_mergesort(left, mid)\n",
    "            right_rev_count = modified_mergesort(mid + 1, right)\n",
    "\n",
    "            # Merge the two sorted portions together\n",
    "            rev_count, i, j = 0, left, mid + 1\n",
    "            temp: list[int] = []\n",
    "            while i <= mid or j <= right:\n",
    "                if j > right or (i <= mid and nums[i] <= nums[j]):\n",
    "                    temp.append(nums[i])\n",
    "                    i += 1\n",
    "                else:\n",
    "                    temp.append(nums[j])\n",
    "                    rev_count += mid + 1 - bisect.bisect(nums, 2 * nums[j], left, mid + 1)\n",
    "                    j += 1\n",
    "\n",
    "            # Join back into nums in correct order\n",
    "            for i in range(left, right + 1):\n",
    "                nums[i] = temp[i - left]\n",
    "\n",
    "            return left_rev_count + right_rev_count + rev_count\n",
    "\n",
    "    return modified_mergesort(0, N - 1)\n",
    "\n",
    "# Testing the solution\n",
    "assert reversePairs([6, 4, 1, 2, 7]) == 3\n",
    "assert reversePairs([5, 4, 4, 3, 3]) == 0\n",
    "assert reversePairs([6, 4, 4, 2, 2]) == 2"
   ]
  }
 ],
 "metadata": {
  "kernelspec": {
   "display_name": "Python 3 (ipykernel)",
   "language": "python",
   "name": "python3"
  },
  "language_info": {
   "codemirror_mode": {
    "name": "ipython",
    "version": 3
   },
   "file_extension": ".py",
   "mimetype": "text/x-python",
   "name": "python",
   "nbconvert_exporter": "python",
   "pygments_lexer": "ipython3",
   "version": "3.12.6"
  },
  "papermill": {
   "default_parameters": {},
   "duration": 1.640691,
   "end_time": "2024-09-20T02:20:37.872100",
   "environment_variables": {},
   "exception": null,
   "input_path": "practice/009.ipynb",
   "output_path": "practice/009.ipynb",
   "parameters": {},
   "start_time": "2024-09-20T02:20:36.231409",
   "version": "2.6.0"
  }
 },
 "nbformat": 4,
 "nbformat_minor": 5
}