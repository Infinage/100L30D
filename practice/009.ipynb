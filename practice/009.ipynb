{
 "cells": [
  {
   "cell_type": "markdown",
   "id": "8816b2e8",
   "metadata": {
    "papermill": {
     "duration": 0.004531,
     "end_time": "2024-09-18T16:52:49.073840",
     "exception": false,
     "start_time": "2024-09-18T16:52:49.069309",
     "status": "completed"
    },
    "tags": []
   },
   "source": [
    "#### Basic imports"
   ]
  },
  {
   "cell_type": "code",
   "execution_count": 1,
   "id": "b4a2ab2d",
   "metadata": {
    "execution": {
     "iopub.execute_input": "2024-09-18T16:52:49.082712Z",
     "iopub.status.busy": "2024-09-18T16:52:49.082282Z",
     "iopub.status.idle": "2024-09-18T16:52:49.086214Z",
     "shell.execute_reply": "2024-09-18T16:52:49.085667Z"
    },
    "lines_to_next_cell": 1,
    "papermill": {
     "duration": 0.009364,
     "end_time": "2024-09-18T16:52:49.087177",
     "exception": false,
     "start_time": "2024-09-18T16:52:49.077813",
     "status": "completed"
    },
    "tags": []
   },
   "outputs": [],
   "source": [
    "import math\n",
    "import heapq\n",
    "import bisect\n",
    "import collections\n",
    "import itertools\n",
    "import functools\n",
    "import random\n",
    "import typing"
   ]
  },
  {
   "cell_type": "code",
   "execution_count": 2,
   "id": "03c6208d",
   "metadata": {
    "execution": {
     "iopub.execute_input": "2024-09-18T16:52:49.095784Z",
     "iopub.status.busy": "2024-09-18T16:52:49.095271Z",
     "iopub.status.idle": "2024-09-18T16:52:49.099314Z",
     "shell.execute_reply": "2024-09-18T16:52:49.098885Z"
    },
    "lines_to_next_cell": 1,
    "papermill": {
     "duration": 0.009139,
     "end_time": "2024-09-18T16:52:49.100178",
     "exception": false,
     "start_time": "2024-09-18T16:52:49.091039",
     "status": "completed"
    },
    "tags": []
   },
   "outputs": [],
   "source": [
    "def ssort(nums: list[int]) -> list[int]:\n",
    "    \"Select the smallest / largest from the list and push it to the end.\"\n",
    "    N = len(nums)\n",
    "    for i in range(N):\n",
    "        min_ = i\n",
    "        for j in range(i + 1, N):\n",
    "            if nums[min_] > nums[j]:\n",
    "                min_ = j\n",
    "        nums[min_], nums[i] = nums[i], nums[min_]\n",
    "    return nums\n",
    "\n",
    "# Testing the solution\n",
    "assert ssort([7,4,1,5,3]) == [1,3,4,5,7]"
   ]
  },
  {
   "cell_type": "code",
   "execution_count": 3,
   "id": "5666a6a3",
   "metadata": {
    "execution": {
     "iopub.execute_input": "2024-09-18T16:52:49.108681Z",
     "iopub.status.busy": "2024-09-18T16:52:49.108200Z",
     "iopub.status.idle": "2024-09-18T16:52:49.112398Z",
     "shell.execute_reply": "2024-09-18T16:52:49.111933Z"
    },
    "lines_to_next_cell": 1,
    "papermill": {
     "duration": 0.009334,
     "end_time": "2024-09-18T16:52:49.113258",
     "exception": false,
     "start_time": "2024-09-18T16:52:49.103924",
     "status": "completed"
    },
    "tags": []
   },
   "outputs": [],
   "source": [
    "def bsort(nums: list[int]) -> list[int]:\n",
    "    \"Compare consecutive elements and bubble the larger number towards the end.\"\n",
    "    N = len(nums)\n",
    "    for j in range(N - 1, -1, -1):\n",
    "        swapped = False\n",
    "        for i in range(j):\n",
    "            if nums[i] > nums[i + 1]:\n",
    "                nums[i], nums[i + 1] = nums[i + 1], nums[i]\n",
    "                swapped = True\n",
    "        if not swapped:\n",
    "            break\n",
    "    return nums\n",
    "\n",
    "# Testing the solution\n",
    "assert bsort([7,4,1,5,3]) == [1,3,4,5,7]"
   ]
  },
  {
   "cell_type": "code",
   "execution_count": 4,
   "id": "db64fcf9",
   "metadata": {
    "execution": {
     "iopub.execute_input": "2024-09-18T16:52:49.121944Z",
     "iopub.status.busy": "2024-09-18T16:52:49.121419Z",
     "iopub.status.idle": "2024-09-18T16:52:49.125254Z",
     "shell.execute_reply": "2024-09-18T16:52:49.124749Z"
    },
    "lines_to_next_cell": 1,
    "papermill": {
     "duration": 0.009184,
     "end_time": "2024-09-18T16:52:49.126213",
     "exception": false,
     "start_time": "2024-09-18T16:52:49.117029",
     "status": "completed"
    },
    "tags": []
   },
   "outputs": [],
   "source": [
    "def isort(nums: list[int]) -> list[int]:\n",
    "    \"Take an element and place it at the correct order\"\n",
    "    N = len(nums)\n",
    "    for i in range(1, N):\n",
    "        curr, j = nums[i], i - 1\n",
    "        while j >= 0 and nums[j] > curr:\n",
    "            nums[j + 1] = nums[j]\n",
    "            j -= 1\n",
    "        nums[j + 1] = curr\n",
    "    return nums\n",
    "\n",
    "# Testing the solution\n",
    "assert isort([5,4,3,2,1]) == [1,2,3,4,5]"
   ]
  },
  {
   "cell_type": "code",
   "execution_count": 5,
   "id": "0f2ee15b",
   "metadata": {
    "execution": {
     "iopub.execute_input": "2024-09-18T16:52:49.134411Z",
     "iopub.status.busy": "2024-09-18T16:52:49.133952Z",
     "iopub.status.idle": "2024-09-18T16:52:49.140530Z",
     "shell.execute_reply": "2024-09-18T16:52:49.139952Z"
    },
    "lines_to_next_cell": 1,
    "papermill": {
     "duration": 0.011475,
     "end_time": "2024-09-18T16:52:49.141357",
     "exception": false,
     "start_time": "2024-09-18T16:52:49.129882",
     "status": "completed"
    },
    "tags": []
   },
   "outputs": [],
   "source": [
    "def qsort(nums: list[int]) -> list[int]:\n",
    "    def partition(left: int, right: int, partition_idx: int) -> int:\n",
    "        # Since we introduce a random pivot approach, we put it in a place\n",
    "        # where our algorithm usually starts at\n",
    "        nums[left], nums[partition_idx] = nums[partition_idx], nums[left]\n",
    "\n",
    "        # Same steps\n",
    "        pivot = nums[left]\n",
    "        i = left + 1\n",
    "        for j in range(left + 1, right + 1):\n",
    "            if nums[j] < pivot:\n",
    "                nums[i], nums[j] = nums[j], nums[i]\n",
    "                i += 1\n",
    "\n",
    "        nums[left], nums[i - 1] = nums[i - 1], nums[left]\n",
    "        return i - 1\n",
    "\n",
    "    def _qsort(start: int, end: int) -> None:\n",
    "        if start < end:\n",
    "            partition_idx = partition(start, end, random.randint(start, end))\n",
    "            _qsort(start, partition_idx - 1)\n",
    "            _qsort(partition_idx + 1, end)\n",
    "\n",
    "    _qsort(0, len(nums) - 1)\n",
    "    return nums\n",
    "\n",
    "# Testing the solution\n",
    "assert qsort([5,4,3,2,1]) == [1,2,3,4,5]\n",
    "assert qsort([6,5,4,3,2,1]) == [1,2,3,4,5,6]"
   ]
  },
  {
   "cell_type": "code",
   "execution_count": 6,
   "id": "9fa5cda2",
   "metadata": {
    "execution": {
     "iopub.execute_input": "2024-09-18T16:52:49.149622Z",
     "iopub.status.busy": "2024-09-18T16:52:49.149150Z",
     "iopub.status.idle": "2024-09-18T16:52:49.154183Z",
     "shell.execute_reply": "2024-09-18T16:52:49.153699Z"
    },
    "lines_to_next_cell": 1,
    "papermill": {
     "duration": 0.010034,
     "end_time": "2024-09-18T16:52:49.155017",
     "exception": false,
     "start_time": "2024-09-18T16:52:49.144983",
     "status": "completed"
    },
    "tags": []
   },
   "outputs": [],
   "source": [
    "def msort(nums: list[int]) -> list[int]:\n",
    "    def _msort(left: int, right: int) -> None:\n",
    "        if left < right:\n",
    "            mid = (left + right) // 2\n",
    "\n",
    "            # Very imp to split into (left, mid) and (mid + 1, right)\n",
    "            # Try to do it other way (left, mid - 1), (mid, right) wouldn't work\n",
    "            _msort(left, mid)\n",
    "            _msort(mid + 1, right)\n",
    "\n",
    "            # Merge the two sorted arrays\n",
    "            temp: list[int] = []\n",
    "            i, j = left, mid + 1\n",
    "            while i <= mid or j <= right:\n",
    "                if j > right or (i <= mid and nums[i] < nums[j]):\n",
    "                    temp.append(nums[i])\n",
    "                    i += 1\n",
    "                else:\n",
    "                    temp.append(nums[j])\n",
    "                    j += 1\n",
    "\n",
    "            # Reassign the sorted values back to original array\n",
    "            nums[left: right + 1] = temp\n",
    "\n",
    "    _msort(0, len(nums) - 1)\n",
    "    return nums\n",
    "\n",
    "# Testing the solution\n",
    "assert msort([5,4,3,2,1]) == [1,2,3,4,5]\n",
    "assert msort([6,5,4,3,2,1]) == [1,2,3,4,5,6]"
   ]
  },
  {
   "cell_type": "code",
   "execution_count": 7,
   "id": "bf753ad8",
   "metadata": {
    "execution": {
     "iopub.execute_input": "2024-09-18T16:52:49.163551Z",
     "iopub.status.busy": "2024-09-18T16:52:49.163063Z",
     "iopub.status.idle": "2024-09-18T16:52:49.167118Z",
     "shell.execute_reply": "2024-09-18T16:52:49.166599Z"
    },
    "lines_to_next_cell": 1,
    "papermill": {
     "duration": 0.009098,
     "end_time": "2024-09-18T16:52:49.168044",
     "exception": false,
     "start_time": "2024-09-18T16:52:49.158946",
     "status": "completed"
    },
    "tags": []
   },
   "outputs": [],
   "source": [
    "def secondLargestElement(nums: list[int]):\n",
    "    \"Largest - use min heap; Smallest - use max heap\"\n",
    "    heap: list[int] = []\n",
    "    for n in set(nums):\n",
    "        heapq.heappush(heap, n)\n",
    "        if len(heap) > 2:\n",
    "            heapq.heappop(heap)\n",
    "\n",
    "    return heap[0] if len(heap) == 2 else -1\n",
    "\n",
    "# Testing the solution\n",
    "assert secondLargestElement([10,10,10,10,10]) == -1\n",
    "assert secondLargestElement([8,8,7,6,5]) == 7\n",
    "assert secondLargestElement([7,7,2,2,10,10,10]) == 7"
   ]
  },
  {
   "cell_type": "code",
   "execution_count": 8,
   "id": "649e052f",
   "metadata": {
    "execution": {
     "iopub.execute_input": "2024-09-18T16:52:49.176259Z",
     "iopub.status.busy": "2024-09-18T16:52:49.175754Z",
     "iopub.status.idle": "2024-09-18T16:52:49.180454Z",
     "shell.execute_reply": "2024-09-18T16:52:49.180002Z"
    },
    "lines_to_next_cell": 1,
    "papermill": {
     "duration": 0.009578,
     "end_time": "2024-09-18T16:52:49.181284",
     "exception": false,
     "start_time": "2024-09-18T16:52:49.171706",
     "status": "completed"
    },
    "tags": []
   },
   "outputs": [],
   "source": [
    "def rotateArray(nums: list[int], K: int) -> list[int]:\n",
    "    def reverse(start: int, end: int) -> None:\n",
    "        while start < end:\n",
    "            nums[start], nums[end] = nums[end], nums[start]\n",
    "            start, end = start + 1, end - 1\n",
    "\n",
    "    N = len(nums)\n",
    "    K = K % N\n",
    "    reverse(0, K - 1)\n",
    "    reverse(K, N - 1)\n",
    "    reverse(0, N - 1)\n",
    "    return nums\n",
    "\n",
    "# Testing the solution\n",
    "assert rotateArray([1,2,3,4,5,6], 2) == [3,4,5,6,1,2]\n",
    "assert rotateArray([3,4,1,5,3,-5], 8) == [1,5,3,-5,3,4]\n",
    "assert rotateArray([1,2,3,4,5], 4) == [5,1,2,3,4]"
   ]
  },
  {
   "cell_type": "code",
   "execution_count": 9,
   "id": "60360c89",
   "metadata": {
    "execution": {
     "iopub.execute_input": "2024-09-18T16:52:49.190541Z",
     "iopub.status.busy": "2024-09-18T16:52:49.189988Z",
     "iopub.status.idle": "2024-09-18T16:52:49.193630Z",
     "shell.execute_reply": "2024-09-18T16:52:49.193185Z"
    },
    "lines_to_next_cell": 1,
    "papermill": {
     "duration": 0.009437,
     "end_time": "2024-09-18T16:52:49.194483",
     "exception": false,
     "start_time": "2024-09-18T16:52:49.185046",
     "status": "completed"
    },
    "tags": []
   },
   "outputs": [],
   "source": [
    "def moveZeros(nums: list[int]) -> None:\n",
    "    # All index positions until i are filled with non zeros\n",
    "    i = 0\n",
    "    for j in range(len(nums)):\n",
    "        if nums[j] != 0:\n",
    "            nums[i] = nums[j]\n",
    "            i += 1\n",
    "\n",
    "    # Assign all left over positions as 0\n",
    "    for j in range(i, len(nums)):\n",
    "        nums[j] = 0"
   ]
  },
  {
   "cell_type": "code",
   "execution_count": 10,
   "id": "e23bf205",
   "metadata": {
    "execution": {
     "iopub.execute_input": "2024-09-18T16:52:49.202835Z",
     "iopub.status.busy": "2024-09-18T16:52:49.202324Z",
     "iopub.status.idle": "2024-09-18T16:52:49.205806Z",
     "shell.execute_reply": "2024-09-18T16:52:49.205255Z"
    },
    "lines_to_next_cell": 1,
    "papermill": {
     "duration": 0.008595,
     "end_time": "2024-09-18T16:52:49.206671",
     "exception": false,
     "start_time": "2024-09-18T16:52:49.198076",
     "status": "completed"
    },
    "tags": []
   },
   "outputs": [],
   "source": [
    "def removeDuplicates(nums: list[int]) -> None:\n",
    "    # Two pointer approach\n",
    "    i = 1\n",
    "    for j in range(1, len(nums)):\n",
    "        if nums[i - 1] != nums[j]:\n",
    "            nums[i] = nums[j]\n",
    "            i += 1\n",
    "\n",
    "    # Assign left overs as 0\n",
    "    for j in range(i, len(nums)):\n",
    "        nums[j] = 0"
   ]
  },
  {
   "cell_type": "code",
   "execution_count": 11,
   "id": "3a3f2191",
   "metadata": {
    "execution": {
     "iopub.execute_input": "2024-09-18T16:52:49.215033Z",
     "iopub.status.busy": "2024-09-18T16:52:49.214550Z",
     "iopub.status.idle": "2024-09-18T16:52:49.221616Z",
     "shell.execute_reply": "2024-09-18T16:52:49.221096Z"
    },
    "lines_to_next_cell": 1,
    "papermill": {
     "duration": 0.012112,
     "end_time": "2024-09-18T16:52:49.222444",
     "exception": false,
     "start_time": "2024-09-18T16:52:49.210332",
     "status": "completed"
    },
    "tags": []
   },
   "outputs": [],
   "source": [
    "def findSafeWalk(grid: list[list[int]], health: int) -> bool:\n",
    "    M, N = len(grid), len(grid[0])\n",
    "    costs: collections.defaultdict[tuple[int, int], int] = collections.defaultdict(lambda: 0)\n",
    "    heap: list[tuple[int, tuple[int, int]]] = [(-health if grid[0][0] == 0 else -(health - 1), (0, 0))]\n",
    "    while heap:\n",
    "        curr_health, (x, y) = heapq.heappop(heap)\n",
    "        curr_health = -curr_health\n",
    "        for (x_, y_) in [(x + 1, y), (x - 1, y), (x, y + 1), (x, y - 1)]:\n",
    "            if 0 <= x_ < M and 0 <= y_ < N:\n",
    "                next_health = curr_health if grid[x_][y_] == 0 else curr_health - 1\n",
    "                if next_health > costs[(x_, y_)]:\n",
    "                    costs[(x_, y_)] = next_health\n",
    "                    heapq.heappush(heap, (-next_health, (x_, y_)))\n",
    "\n",
    "    return costs[(M - 1, N - 1)] > 0\n",
    "\n",
    "# Testing the solution\n",
    "assert findSafeWalk([[0,1,0,0,0],[0,1,0,1,0],[0,0,0,1,0]], 1) == True\n",
    "assert findSafeWalk([[0,1,1,0,0,0],[1,0,1,0,0,0],[0,1,1,1,0,1],[0,0,1,0,1,0]], 3) == False\n",
    "assert findSafeWalk([[1,1,1],[1,0,1],[1,1,1]], 5) == True\n",
    "assert findSafeWalk([[1,1,1,1]], 4) == False"
   ]
  },
  {
   "cell_type": "code",
   "execution_count": 12,
   "id": "4620e621",
   "metadata": {
    "execution": {
     "iopub.execute_input": "2024-09-18T16:52:49.230726Z",
     "iopub.status.busy": "2024-09-18T16:52:49.230245Z",
     "iopub.status.idle": "2024-09-18T16:52:49.234454Z",
     "shell.execute_reply": "2024-09-18T16:52:49.233936Z"
    },
    "lines_to_next_cell": 1,
    "papermill": {
     "duration": 0.009281,
     "end_time": "2024-09-18T16:52:49.235392",
     "exception": false,
     "start_time": "2024-09-18T16:52:49.226111",
     "status": "completed"
    },
    "tags": []
   },
   "outputs": [],
   "source": [
    "def intersectionArray(nums1: list[int], nums2: list[int]) -> list[int]:\n",
    "    i, j, N1, N2 = 0, 0, len(nums1), len(nums2)\n",
    "    result: list[int] = []\n",
    "    while i < N1 and j < N2:\n",
    "        if nums1[i] == nums2[j]:\n",
    "            result.append(nums1[i])\n",
    "            i, j = i + 1, j + 1\n",
    "        elif nums1[i] < nums2[j]:\n",
    "            i += 1\n",
    "        else:\n",
    "            j += 1\n",
    "    return result\n",
    "\n",
    "# Testing the solution\n",
    "assert intersectionArray([1,2,2,3,5], [1,2,7]) == [1,2]\n",
    "assert intersectionArray([1,2,2,3], [4,5,7]) == []"
   ]
  },
  {
   "cell_type": "code",
   "execution_count": 13,
   "id": "6aace28f",
   "metadata": {
    "execution": {
     "iopub.execute_input": "2024-09-18T16:52:49.243676Z",
     "iopub.status.busy": "2024-09-18T16:52:49.243220Z",
     "iopub.status.idle": "2024-09-18T16:52:49.247335Z",
     "shell.execute_reply": "2024-09-18T16:52:49.246916Z"
    },
    "lines_to_next_cell": 1,
    "papermill": {
     "duration": 0.009138,
     "end_time": "2024-09-18T16:52:49.248196",
     "exception": false,
     "start_time": "2024-09-18T16:52:49.239058",
     "status": "completed"
    },
    "tags": []
   },
   "outputs": [],
   "source": [
    "def leaders(nums: list[int]) -> list[int]:\n",
    "    result: list[int] = []\n",
    "    for i in range(len(nums) - 1, -1, -1):\n",
    "        if not result or result[-1] < nums[i]:\n",
    "            result.append(nums[i])\n",
    "    result.reverse()\n",
    "    return result\n",
    "\n",
    "# Testing the solution\n",
    "assert leaders([1,2,5,3,1,2]) == [5,3,2]\n",
    "assert leaders([-3,4,5,1,-4,-5]) == [5,1,-4,-5]\n",
    "assert leaders([-3,4,5,1,-30,-10]) == [5,1,-10]"
   ]
  },
  {
   "cell_type": "code",
   "execution_count": 14,
   "id": "1bc2207c",
   "metadata": {
    "execution": {
     "iopub.execute_input": "2024-09-18T16:52:49.256562Z",
     "iopub.status.busy": "2024-09-18T16:52:49.255988Z",
     "iopub.status.idle": "2024-09-18T16:52:49.262351Z",
     "shell.execute_reply": "2024-09-18T16:52:49.261890Z"
    },
    "lines_to_next_cell": 1,
    "papermill": {
     "duration": 0.01131,
     "end_time": "2024-09-18T16:52:49.263154",
     "exception": false,
     "start_time": "2024-09-18T16:52:49.251844",
     "status": "completed"
    },
    "tags": []
   },
   "outputs": [],
   "source": [
    "def spiralOrder(matrix: list[list[int]]) -> list[int]:\n",
    "    i, j, M, N = 0, 0, len(matrix), len(matrix[0])\n",
    "    result: list[int] = []\n",
    "    for layer in range(math.ceil(min(M / 2, N / 2))):\n",
    "        x, y = layer, layer\n",
    "        result.append(matrix[x][y])\n",
    "\n",
    "        # Go right\n",
    "        travelled_right = False\n",
    "        while y + 1 < N - layer:\n",
    "            y += 1\n",
    "            result.append(matrix[x][y])\n",
    "            travelled_right = True\n",
    "\n",
    "        # Go down\n",
    "        travelled_down = False\n",
    "        while x + 1 < M - layer:\n",
    "            x += 1\n",
    "            result.append(matrix[x][y])\n",
    "            travelled_down = True\n",
    "\n",
    "        # Go left\n",
    "        travelled_left = False\n",
    "        while travelled_down and y - 1 >= layer:\n",
    "            y -= 1\n",
    "            result.append(matrix[x][y])\n",
    "            travelled_left = True\n",
    "\n",
    "        # Go up\n",
    "        travelled_up = False\n",
    "        while travelled_left and x - 1 > layer:\n",
    "            x -= 1\n",
    "            result.append(matrix[x][y])\n",
    "            travelled_up = True\n",
    "\n",
    "    return result\n",
    "\n",
    "# Testing the solution\n",
    "assert spiralOrder([[1, 2, 3], [4 ,5 ,6], [7, 8, 9]]) == [1, 2, 3, 6, 9, 8, 7, 4, 5]\n",
    "assert spiralOrder([[1, 2, 3, 4], [5, 6, 7, 8]]) == [1, 2, 3, 4, 8, 7, 6, 5]\n",
    "assert spiralOrder([[1, 2], [3, 4], [5, 6], [7, 8]]) == [1, 2, 4, 6, 8, 7, 5, 3]"
   ]
  },
  {
   "cell_type": "code",
   "execution_count": 15,
   "id": "b1638de8",
   "metadata": {
    "execution": {
     "iopub.execute_input": "2024-09-18T16:52:49.271447Z",
     "iopub.status.busy": "2024-09-18T16:52:49.270960Z",
     "iopub.status.idle": "2024-09-18T16:52:49.275526Z",
     "shell.execute_reply": "2024-09-18T16:52:49.275102Z"
    },
    "lines_to_next_cell": 1,
    "papermill": {
     "duration": 0.009639,
     "end_time": "2024-09-18T16:52:49.276429",
     "exception": false,
     "start_time": "2024-09-18T16:52:49.266790",
     "status": "completed"
    },
    "tags": []
   },
   "outputs": [],
   "source": [
    "def rearrangeArray(nums: list[int]) -> list[int]:\n",
    "    # Split and obtain the nums into two diff arrays\n",
    "    pos: collections.deque[int] = collections.deque([])\n",
    "    neg: collections.deque[int] = collections.deque([])\n",
    "    for n in nums:\n",
    "        if n < 0:\n",
    "            neg.append(n)\n",
    "        else:\n",
    "            pos.append(n)\n",
    "\n",
    "    # Pos first, neg next preserving original order\n",
    "    result: list[int] = []\n",
    "    for i in range(len(nums) // 2):\n",
    "        result.append(pos.popleft())\n",
    "        result.append(neg.popleft())\n",
    "\n",
    "    return result\n",
    "\n",
    "# Testing the solution\n",
    "assert rearrangeArray([1,-1,-3,-4,2,3]) == [1,-1,2,-3,3,-4]\n",
    "assert rearrangeArray([-4,4,-4,4,-4,4]) == [4,-4,4,-4,4,-4]"
   ]
  },
  {
   "cell_type": "code",
   "execution_count": 16,
   "id": "72cfac21",
   "metadata": {
    "execution": {
     "iopub.execute_input": "2024-09-18T16:52:49.284806Z",
     "iopub.status.busy": "2024-09-18T16:52:49.284289Z",
     "iopub.status.idle": "2024-09-18T16:52:49.288374Z",
     "shell.execute_reply": "2024-09-18T16:52:49.287960Z"
    },
    "lines_to_next_cell": 1,
    "papermill": {
     "duration": 0.009071,
     "end_time": "2024-09-18T16:52:49.289227",
     "exception": false,
     "start_time": "2024-09-18T16:52:49.280156",
     "status": "completed"
    },
    "tags": []
   },
   "outputs": [],
   "source": [
    "def pascalTriangle(numRows: int) -> list[list[int]]:\n",
    "    result: list[list[int]] = [[1]]\n",
    "    for i in range(1, numRows):\n",
    "        result.append([1])\n",
    "        for j in range(i - 1):\n",
    "            result[-1].append(result[-2][j] + result[-2][j + 1])\n",
    "        result[-1].append(1)\n",
    "\n",
    "    return result\n",
    "\n",
    "# Testing the solution\n",
    "assert pascalTriangle(5) == [[1], [1, 1], [1, 2, 1], [1, 3, 3, 1], [1, 4, 6, 4, 1]]"
   ]
  },
  {
   "cell_type": "code",
   "execution_count": 17,
   "id": "ab1590e1",
   "metadata": {
    "execution": {
     "iopub.execute_input": "2024-09-18T16:52:49.297714Z",
     "iopub.status.busy": "2024-09-18T16:52:49.297240Z",
     "iopub.status.idle": "2024-09-18T16:52:49.302734Z",
     "shell.execute_reply": "2024-09-18T16:52:49.302208Z"
    },
    "lines_to_next_cell": 1,
    "papermill": {
     "duration": 0.010658,
     "end_time": "2024-09-18T16:52:49.303574",
     "exception": false,
     "start_time": "2024-09-18T16:52:49.292916",
     "status": "completed"
    },
    "tags": []
   },
   "outputs": [],
   "source": [
    "def rotateMatrix(matrix: list[list[int]]) -> list[list[int]]:\n",
    "    \"\"\"\n",
    "    Similar to rotating an array by k places, this could be acheived\n",
    "    by transposing the matrix first and then reversing the rows\n",
    "    \"\"\"\n",
    "    N = len(matrix)\n",
    "\n",
    "    # Transpose the matrix\n",
    "    for i in range(N):\n",
    "        for j in range(i + 1, N):\n",
    "            matrix[i][j], matrix[j][i] = matrix[j][i], matrix[i][j]\n",
    "\n",
    "    # Reverse the rows\n",
    "    for i in range(N):\n",
    "        matrix[i].reverse()\n",
    "\n",
    "    return matrix\n",
    "\n",
    "# Testing the solution\n",
    "assert rotateMatrix([[1,2,3], [4,5,6], [7,8,9]]) == [[7,4,1], [8,5,2], [9,6,3]]\n",
    "assert rotateMatrix([[0,1,1,2], [2,0,3,1], [4,5,0,5], [5,6,7,0]]) == [[5,4,2,0], [6,5,0,1], [7,0,3,1], [0,5,1,2]]\n",
    "assert rotateMatrix([[1,1,2], [5,3,1], [5,3,5]]) == [[5,5,1], [3,3,1], [5,1,2]]"
   ]
  },
  {
   "cell_type": "code",
   "execution_count": 18,
   "id": "3e260a7c",
   "metadata": {
    "execution": {
     "iopub.execute_input": "2024-09-18T16:52:49.311864Z",
     "iopub.status.busy": "2024-09-18T16:52:49.311423Z",
     "iopub.status.idle": "2024-09-18T16:52:49.316187Z",
     "shell.execute_reply": "2024-09-18T16:52:49.315743Z"
    },
    "lines_to_next_cell": 1,
    "papermill": {
     "duration": 0.009848,
     "end_time": "2024-09-18T16:52:49.317069",
     "exception": false,
     "start_time": "2024-09-18T16:52:49.307221",
     "status": "completed"
    },
    "tags": []
   },
   "outputs": [],
   "source": [
    "def twoSum(nums: list[int], target: int) -> tuple[int, int]:\n",
    "    N = len(nums)\n",
    "    nums_: list[tuple[int, int]] = sorted(enumerate(nums), key=lambda x: x[1])\n",
    "    i, j = 0, N - 1\n",
    "    while i < j:\n",
    "        curr = nums_[i][1] + nums_[j][1]\n",
    "        pair = sorted([nums_[i][0], nums_[j][0]])\n",
    "        if curr == target:\n",
    "            return pair[0], pair[1]\n",
    "        elif curr < target:\n",
    "            i += 1\n",
    "        else:\n",
    "            j -= 1\n",
    "\n",
    "    return -1, -1\n",
    "\n",
    "# Testing the solution\n",
    "assert twoSum([1,6,2,10,3], 7) == (0,1)\n",
    "assert twoSum([1,3,5,-7,6,-3], 0) == (1,5)\n",
    "assert twoSum([-6,7,1,-7,6,2], 3) == (2,5)"
   ]
  },
  {
   "cell_type": "code",
   "execution_count": 19,
   "id": "70e0ad16",
   "metadata": {
    "execution": {
     "iopub.execute_input": "2024-09-18T16:52:49.326330Z",
     "iopub.status.busy": "2024-09-18T16:52:49.325977Z",
     "iopub.status.idle": "2024-09-18T16:52:49.330874Z",
     "shell.execute_reply": "2024-09-18T16:52:49.330358Z"
    },
    "lines_to_next_cell": 1,
    "papermill": {
     "duration": 0.011068,
     "end_time": "2024-09-18T16:52:49.331804",
     "exception": false,
     "start_time": "2024-09-18T16:52:49.320736",
     "status": "completed"
    },
    "tags": []
   },
   "outputs": [],
   "source": [
    "def threeSum(nums: list[int]) -> set[tuple[int, int, int]]:\n",
    "    N = len(nums)\n",
    "    nums.sort()\n",
    "    results: set[tuple[int, int, int]] = set()\n",
    "    for i in range(N - 2):\n",
    "        j, k = i + 1, N - 1\n",
    "        while j < k:\n",
    "            curr = nums[i] + nums[j] + nums[k]\n",
    "            triplet = sorted([nums[i], nums[j], nums[k]])\n",
    "            if curr == 0:\n",
    "                results.add((triplet[0], triplet[1], triplet[2]))\n",
    "                j, k = j + 1, k - 1\n",
    "            elif curr > 0:\n",
    "                k -= 1\n",
    "            else:\n",
    "                j += 1\n",
    "\n",
    "    return results\n",
    "\n",
    "# Testing the solution\n",
    "assert threeSum([2, -2, 0, 3, -3, 5]) == {(-3, -2, 5), (-3, 0, 3), (-2, 0, 2)}\n",
    "assert threeSum([2, -1, -1, 3, -1]) == {(-1, -1, 2)}"
   ]
  },
  {
   "cell_type": "code",
   "execution_count": 20,
   "id": "2696f7e0",
   "metadata": {
    "execution": {
     "iopub.execute_input": "2024-09-18T16:52:49.340304Z",
     "iopub.status.busy": "2024-09-18T16:52:49.339903Z",
     "iopub.status.idle": "2024-09-18T16:52:49.345427Z",
     "shell.execute_reply": "2024-09-18T16:52:49.344994Z"
    },
    "lines_to_next_cell": 1,
    "papermill": {
     "duration": 0.010678,
     "end_time": "2024-09-18T16:52:49.346288",
     "exception": false,
     "start_time": "2024-09-18T16:52:49.335610",
     "status": "completed"
    },
    "tags": []
   },
   "outputs": [],
   "source": [
    "def fourSum(nums: list[int], target: int) -> set[tuple[int, int, int, int]]:\n",
    "    \"\"\"\n",
    "    Iterate all combinations of i, j\n",
    "    For each such combination deploy the two pointer approach\n",
    "    \"\"\"\n",
    "    N = len(nums)\n",
    "    nums.sort()\n",
    "    results: set[tuple[int, int, int, int]] = set()\n",
    "    for i in range(N - 3):\n",
    "        for j in range(i + 1, N - 2):\n",
    "            k, l = j + 1, N - 1\n",
    "            while k < l:\n",
    "                quad: list[int] = sorted([nums[i], nums[j], nums[k], nums[l]])\n",
    "                total = nums[i] + nums[j] + nums[k] + nums[l]\n",
    "                if total == target:\n",
    "                    results.add((quad[0], quad[1], quad[2], quad[3]))\n",
    "                    k, l = k + 1, l - 1\n",
    "                elif total > target:\n",
    "                    l -= 1\n",
    "                else:\n",
    "                    k += 1\n",
    "\n",
    "    return results\n",
    "\n",
    "# Testing the solution\n",
    "assert fourSum([1,-2,3,5,7,9], 7) == {(-2,1,3,5)}\n",
    "assert fourSum([7,-7,1,2,14,3], 9) == set()\n",
    "assert fourSum([1,1,3,4,-3], 5) == {(-3,1,3,4)}"
   ]
  },
  {
   "cell_type": "code",
   "execution_count": 21,
   "id": "e460ed7b",
   "metadata": {
    "execution": {
     "iopub.execute_input": "2024-09-18T16:52:49.354907Z",
     "iopub.status.busy": "2024-09-18T16:52:49.354485Z",
     "iopub.status.idle": "2024-09-18T16:52:49.358894Z",
     "shell.execute_reply": "2024-09-18T16:52:49.358385Z"
    },
    "lines_to_next_cell": 1,
    "papermill": {
     "duration": 0.009666,
     "end_time": "2024-09-18T16:52:49.359799",
     "exception": false,
     "start_time": "2024-09-18T16:52:49.350133",
     "status": "completed"
    },
    "tags": []
   },
   "outputs": [],
   "source": [
    "def sortZeroOneTwo(nums: list[int]) -> list[int]:\n",
    "    \"\"\"\n",
    "    Variation of Dutch National flag algorithm\n",
    "    A much more intuitive algorithm is bucket sort\n",
    "\n",
    "    DNF:\n",
    "    Assume nums from [0, low], [high, N-1] are sorted.\n",
    "    Numbers between (low, high) are unsorted\n",
    "    \"\"\"\n",
    "    N = len(nums)\n",
    "    low, mid, high = 0, 0, N - 1\n",
    "    while mid <= high:\n",
    "        # Correct position\n",
    "        if nums[mid] == 1:\n",
    "            mid += 1\n",
    "\n",
    "        # Incorrect\n",
    "        elif nums[mid] == 0:\n",
    "            nums[low], nums[mid] = nums[mid], nums[low]\n",
    "            low, mid = low + 1, mid + 1\n",
    "        else:\n",
    "            nums[high], nums[mid] = nums[mid], nums[high]\n",
    "            high -= 1\n",
    "\n",
    "    return nums\n",
    "\n",
    "# Testing the solution\n",
    "assert sortZeroOneTwo([0,0,1,2,0,1,2,2,1,0]) == [0,0,0,0,1,1,1,2,2,2]"
   ]
  },
  {
   "cell_type": "code",
   "execution_count": 22,
   "id": "5e1e76e9",
   "metadata": {
    "execution": {
     "iopub.execute_input": "2024-09-18T16:52:49.368467Z",
     "iopub.status.busy": "2024-09-18T16:52:49.367915Z",
     "iopub.status.idle": "2024-09-18T16:52:49.372315Z",
     "shell.execute_reply": "2024-09-18T16:52:49.371898Z"
    },
    "lines_to_next_cell": 1,
    "papermill": {
     "duration": 0.009528,
     "end_time": "2024-09-18T16:52:49.373165",
     "exception": false,
     "start_time": "2024-09-18T16:52:49.363637",
     "status": "completed"
    },
    "tags": []
   },
   "outputs": [],
   "source": [
    "def maxSubArray(nums: list[int]) -> int:\n",
    "    \"\"\"\n",
    "    Kadane's algorithm\n",
    "    If at any pt total becomes less than 0, reset it\n",
    "    \"\"\"\n",
    "    max_, total = nums[0], 0\n",
    "    for n in nums:\n",
    "        total += n\n",
    "        max_ = max(max_, total)\n",
    "        if total < 0:\n",
    "            total = 0\n",
    "    return max_\n",
    "\n",
    "# Testing the solution\n",
    "assert maxSubArray([2, 3, 5, -2, 7, -4]) == 15\n",
    "assert maxSubArray([-2, -3, -7, -2, -10, -4]) == -2\n",
    "assert maxSubArray([-1, 2, 3, -1, 2, -6, 5]) == 6"
   ]
  },
  {
   "cell_type": "code",
   "execution_count": 23,
   "id": "028c7163",
   "metadata": {
    "execution": {
     "iopub.execute_input": "2024-09-18T16:52:49.381941Z",
     "iopub.status.busy": "2024-09-18T16:52:49.381472Z",
     "iopub.status.idle": "2024-09-18T16:52:49.385881Z",
     "shell.execute_reply": "2024-09-18T16:52:49.385328Z"
    },
    "lines_to_next_cell": 1,
    "papermill": {
     "duration": 0.009758,
     "end_time": "2024-09-18T16:52:49.386775",
     "exception": false,
     "start_time": "2024-09-18T16:52:49.377017",
     "status": "completed"
    },
    "tags": []
   },
   "outputs": [],
   "source": [
    "def majorityElement(nums: list[int]) -> int:\n",
    "    \"\"\"\n",
    "    Logic: Assume a number is the majority element, everytime we encounter num in nums that equals\n",
    "    our curr we increment count by 1 else decrement count by 1.\n",
    "\n",
    "    Continue doing until we have reached the end of the array\n",
    "    \"\"\"\n",
    "    result: int|None = None\n",
    "    freq: int = 0\n",
    "    for n in nums:\n",
    "        if not result:\n",
    "            result, freq = n, 1\n",
    "        elif n == result:\n",
    "            freq += 1\n",
    "        else:\n",
    "            freq -= 1\n",
    "\n",
    "        if freq == 0:\n",
    "            result = None\n",
    "\n",
    "    return result if result else 0\n",
    "\n",
    "# Testing the solution\n",
    "assert majorityElement([7, 0, 0, 1, 7, 7, 2, 7, 7]) == 7\n",
    "assert majorityElement([1, 1, 1, 2, 1, 2]) == 1\n",
    "assert majorityElement([-1, -1, -1, -1]) == -1"
   ]
  },
  {
   "cell_type": "code",
   "execution_count": 24,
   "id": "9ec51a9d",
   "metadata": {
    "execution": {
     "iopub.execute_input": "2024-09-18T16:52:49.395357Z",
     "iopub.status.busy": "2024-09-18T16:52:49.394849Z",
     "iopub.status.idle": "2024-09-18T16:52:49.400591Z",
     "shell.execute_reply": "2024-09-18T16:52:49.400085Z"
    },
    "lines_to_next_cell": 1,
    "papermill": {
     "duration": 0.010865,
     "end_time": "2024-09-18T16:52:49.401414",
     "exception": false,
     "start_time": "2024-09-18T16:52:49.390549",
     "status": "completed"
    },
    "tags": []
   },
   "outputs": [],
   "source": [
    "def majorityElementTwo(nums: list[int]) -> list[int]:\n",
    "    \"\"\"\n",
    "    Same as prev question but we have two slots now.\n",
    "    \"\"\"\n",
    "    N = len(nums)\n",
    "    n1, f1, n2, f2 = 0, 0, 0, 0\n",
    "    for n in nums:\n",
    "        if f1 == 0 and n != n2:\n",
    "            n1, f1 = n, 1\n",
    "        elif f2 == 0 and n != n1:\n",
    "            n2, f2 = n, 1\n",
    "        elif n == n1:\n",
    "            f1 += 1\n",
    "        elif n == n2:\n",
    "            f2 += 1\n",
    "        else:\n",
    "            f1, f2 = f1 - 1, f2 - 1\n",
    "\n",
    "    # Double check to ensure that the majority\n",
    "    # elements are occuring more than N // 3 times\n",
    "    freq: dict[int, int] = dict()\n",
    "    for n in nums:\n",
    "        if n in (n1, n2):\n",
    "            freq[n] = freq.get(n, 0) + 1\n",
    "\n",
    "    return [n for n in (n1, n2) if freq.get(n, 0) > N // 3]\n",
    "\n",
    "# Testing the solution\n",
    "assert majorityElementTwo([1,1,1,1]) == [1]\n",
    "assert majorityElementTwo([1,2,1,1,3,2,2]) == [1,2]\n",
    "assert majorityElementTwo([1,2,1,1,3,2]) == [1]\n",
    "assert majorityElementTwo([1,2,1,1,3,2,2,3]) == [1,2]\n",
    "assert majorityElementTwo([1,1,2,2,3,3,4,4,5,5]) == []"
   ]
  },
  {
   "cell_type": "code",
   "execution_count": 25,
   "id": "2abcdcfe",
   "metadata": {
    "execution": {
     "iopub.execute_input": "2024-09-18T16:52:49.410047Z",
     "iopub.status.busy": "2024-09-18T16:52:49.409855Z",
     "iopub.status.idle": "2024-09-18T16:52:49.415284Z",
     "shell.execute_reply": "2024-09-18T16:52:49.414855Z"
    },
    "lines_to_next_cell": 1,
    "papermill": {
     "duration": 0.010699,
     "end_time": "2024-09-18T16:52:49.416070",
     "exception": false,
     "start_time": "2024-09-18T16:52:49.405371",
     "status": "completed"
    },
    "tags": []
   },
   "outputs": [],
   "source": [
    "def numberOfInversions(nums: list[int]) -> int:\n",
    "    def modified_mergesort(low: int, high: int) -> int:\n",
    "        if low >= high:\n",
    "            return 0\n",
    "\n",
    "        else:\n",
    "            # Merge sort left and right\n",
    "            mid = (low + high) // 2\n",
    "            cnt_left = modified_mergesort(low, mid)\n",
    "            cnt_right = modified_mergesort(mid + 1, high)\n",
    "\n",
    "            # Create temp array for storing in order\n",
    "            temp: list[int] = []\n",
    "            cnt, i, j = 0, low, mid + 1\n",
    "            while i <= mid or j <= high:\n",
    "                if j > high or (i <= mid and nums[i] <= nums[j]):\n",
    "                    temp.append(nums[i])\n",
    "                    i += 1\n",
    "                else:\n",
    "                    temp.append(nums[j])\n",
    "                    j += 1\n",
    "\n",
    "                    # We are inserting from the right portion\n",
    "                    # Simply count how many elements we have\n",
    "                    # left in the 'left' array\n",
    "                    cnt += mid - i + 1\n",
    "\n",
    "            # Copy from temp back to array\n",
    "            for i in range(low, high + 1):\n",
    "                nums[i] = temp[i - low]\n",
    "\n",
    "            return cnt_left + cnt_right + cnt\n",
    "\n",
    "    inversions = modified_mergesort(0, len(nums) - 1)\n",
    "    return inversions\n",
    "\n",
    "assert numberOfInversions([2, 3, 7, 1, 3, 5]) == 5\n",
    "assert numberOfInversions([-10, -5, 6, 11, 15, 17]) == 0\n",
    "assert numberOfInversions([9, 5, 4, 2]) == 6"
   ]
  },
  {
   "cell_type": "code",
   "execution_count": null,
   "id": "9c0a8830",
   "metadata": {},
   "outputs": [],
   "source": [
    "def reversePairs(nums: list[int]) -> int:\n",
    "    N = len(nums)\n",
    "    def modified_mergesort(left: int, right: int) -> int:\n",
    "        if left >= right:\n",
    "            return 0\n",
    "        else:\n",
    "            mid = (left + right) // 2\n",
    "            left_rev_count = modified_mergesort(left, mid)\n",
    "            right_rev_count = modified_mergesort(mid + 1, right)\n",
    "\n",
    "            # Merge the two sorted portions together\n",
    "            rev_count, i, j = 0, left, mid + 1\n",
    "            temp: list[int] = []\n",
    "            while i <= mid or j <= right:\n",
    "                if j > right or (i <= mid and nums[i] <= nums[j]):\n",
    "                    temp.append(nums[i])\n",
    "                    i += 1\n",
    "                else:\n",
    "                    temp.append(nums[j])\n",
    "                    rev_count += mid + 1 - bisect.bisect(nums, 2 * nums[j], left, mid + 1)\n",
    "                    j += 1\n",
    "\n",
    "            # Join back into nums in correct order\n",
    "            for i in range(left, right + 1):\n",
    "                nums[i] = temp[i - left]\n",
    "\n",
    "            return left_rev_count + right_rev_count + rev_count\n",
    "\n",
    "    return modified_mergesort(0, N - 1)\n",
    "\n",
    "# Testing the solution\n",
    "assert reversePairs([6, 4, 1, 2, 7]) == 3\n",
    "assert reversePairs([5, 4, 4, 3, 3]) == 0\n",
    "assert reversePairs([6, 4, 4, 2, 2]) == 2"
   ]
  }
 ],
 "metadata": {
  "kernelspec": {
   "display_name": "Python 3 (ipykernel)",
   "language": "python",
   "name": "python3"
  },
  "language_info": {
   "codemirror_mode": {
    "name": "ipython",
    "version": 3
   },
   "file_extension": ".py",
   "mimetype": "text/x-python",
   "name": "python",
   "nbconvert_exporter": "python",
   "pygments_lexer": "ipython3",
   "version": "3.12.6"
  },
  "papermill": {
   "default_parameters": {},
   "duration": 1.629113,
   "end_time": "2024-09-18T16:52:49.535291",
   "environment_variables": {},
   "exception": null,
   "input_path": "practice/009.ipynb",
   "output_path": "practice/009.ipynb",
   "parameters": {},
   "start_time": "2024-09-18T16:52:47.906178",
   "version": "2.6.0"
  }
 },
 "nbformat": 4,
 "nbformat_minor": 5
}
