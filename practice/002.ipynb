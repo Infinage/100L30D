{
 "cells": [
  {
   "cell_type": "code",
   "execution_count": 1,
   "id": "337a233c",
   "metadata": {
    "execution": {
     "iopub.execute_input": "2024-05-02T16:08:11.313240Z",
     "iopub.status.busy": "2024-05-02T16:08:11.312558Z",
     "iopub.status.idle": "2024-05-02T16:08:11.817592Z",
     "shell.execute_reply": "2024-05-02T16:08:11.816861Z"
    },
    "papermill": {
     "duration": 0.518052,
     "end_time": "2024-05-02T16:08:11.819637",
     "exception": false,
     "start_time": "2024-05-02T16:08:11.301585",
     "status": "completed"
    },
    "tags": []
   },
   "outputs": [],
   "source": [
    "from typing import List, Optional, Generator\n",
    "import pandas as pd\n",
    "import numpy as np\n",
    "import sqlite3\n",
    "import re\n",
    "import io\n",
    "import math\n",
    "import collections\n",
    "import itertools\n",
    "import functools\n",
    "import random\n",
    "import string\n",
    "import tqdm\n",
    "import bisect\n",
    "import heapq\n",
    "\n",
    "conn = sqlite3.connect(\":memory:\")\n",
    "\n",
    "def regexp(expr, item):\n",
    "    reg = re.compile(expr)\n",
    "    return reg.search(item) is not None\n",
    "\n",
    "def read_lc_df(s: str, dtypes: dict[str, str]=dict()) -> pd.DataFrame:\n",
    "    temp = pd.read_csv(io.StringIO(s), sep=\"|\", skiprows=2)\n",
    "    temp = temp.iloc[1:-1, 1:-1]\n",
    "    temp.columns = temp.columns.map(str.strip)\n",
    "    temp = temp.map(lambda x: x if type(x) != str else None if x.strip() == 'null' else x.strip())\n",
    "    temp = temp.astype(dtypes)\n",
    "    return temp\n",
    "\n",
    "conn.create_function(\"REGEXP\", 2, regexp)"
   ]
  },
  {
   "cell_type": "markdown",
   "id": "a97299f5",
   "metadata": {
    "papermill": {
     "duration": 0.00893,
     "end_time": "2024-05-02T16:08:11.837966",
     "exception": false,
     "start_time": "2024-05-02T16:08:11.829036",
     "status": "completed"
    },
    "tags": []
   },
   "source": [
    "#### Helper for Binary tree problems"
   ]
  },
  {
   "cell_type": "code",
   "execution_count": 2,
   "id": "e9415fef",
   "metadata": {
    "execution": {
     "iopub.execute_input": "2024-05-02T16:08:11.857483Z",
     "iopub.status.busy": "2024-05-02T16:08:11.856750Z",
     "iopub.status.idle": "2024-05-02T16:08:11.866754Z",
     "shell.execute_reply": "2024-05-02T16:08:11.866102Z"
    },
    "lines_to_next_cell": 1,
    "papermill": {
     "duration": 0.021565,
     "end_time": "2024-05-02T16:08:11.868416",
     "exception": false,
     "start_time": "2024-05-02T16:08:11.846851",
     "status": "completed"
    },
    "tags": []
   },
   "outputs": [],
   "source": [
    "class BinaryTreeNode:\n",
    "    def __init__(self, val=0, left=None, right=None):\n",
    "        self.val = val\n",
    "        self.left = left\n",
    "        self.right = right\n",
    "\n",
    "    def to_list(self):\n",
    "        to_visit = [self]\n",
    "        visited = []\n",
    "        while len(to_visit) > 0:\n",
    "            curr = to_visit.pop(0)\n",
    "            if curr:\n",
    "                to_visit.append(curr.left)\n",
    "                to_visit.append(curr.right)\n",
    "                visited.append(curr.val)\n",
    "            else:\n",
    "                visited.append(curr)\n",
    "\n",
    "        while visited and not visited[-1]:\n",
    "            visited.pop()\n",
    "\n",
    "        return visited\n",
    "\n",
    "    def __str__(self):\n",
    "        return str(self.val)\n",
    "\n",
    "    @staticmethod\n",
    "    def from_array(nums: list[int|None]):\n",
    "        '''Create a Tree from a list of nums. Returns the root node.'''\n",
    "        if len(nums) == 0:\n",
    "            return None\n",
    "        elif len(nums) == 1:\n",
    "            return BinaryTreeNode(nums[0])\n",
    "        else:\n",
    "            forest = [BinaryTreeNode(nums[0])]\n",
    "            parent_idx = -1\n",
    "            for i in range(1, len(nums)):\n",
    "\n",
    "                curr = None\n",
    "                if nums[i] is not None:\n",
    "                    curr = BinaryTreeNode(nums[i])\n",
    "                    forest.append(curr)\n",
    "\n",
    "                if i % 2 == 1:\n",
    "                    parent_idx += 1\n",
    "                    forest[parent_idx].left = curr\n",
    "                else:\n",
    "                    forest[parent_idx].right = curr\n",
    "\n",
    "        return forest[0]"
   ]
  },
  {
   "cell_type": "markdown",
   "id": "f25563dc",
   "metadata": {
    "papermill": {
     "duration": 0.008804,
     "end_time": "2024-05-02T16:08:11.886143",
     "exception": false,
     "start_time": "2024-05-02T16:08:11.877339",
     "status": "completed"
    },
    "tags": []
   },
   "source": [
    "#### Helper for Singly Linked lists"
   ]
  },
  {
   "cell_type": "code",
   "execution_count": 3,
   "id": "5403a3fd",
   "metadata": {
    "execution": {
     "iopub.execute_input": "2024-05-02T16:08:11.905353Z",
     "iopub.status.busy": "2024-05-02T16:08:11.904746Z",
     "iopub.status.idle": "2024-05-02T16:08:11.911469Z",
     "shell.execute_reply": "2024-05-02T16:08:11.910714Z"
    },
    "lines_to_next_cell": 1,
    "papermill": {
     "duration": 0.017996,
     "end_time": "2024-05-02T16:08:11.913056",
     "exception": false,
     "start_time": "2024-05-02T16:08:11.895060",
     "status": "completed"
    },
    "tags": []
   },
   "outputs": [],
   "source": [
    "class ListNode:\n",
    "    def __init__(self, val=0, next=None):\n",
    "        self.val = val\n",
    "        self.next = next\n",
    "\n",
    "    def __str__(self):\n",
    "        return str(self.val)\n",
    "\n",
    "    @staticmethod\n",
    "    def to_singly_linked_list(nums: list[int]):\n",
    "        root = prev = None\n",
    "        for n in nums:\n",
    "            curr = ListNode(n)\n",
    "            # Init once\n",
    "            if not root:\n",
    "                root = curr\n",
    "            if prev:\n",
    "                prev.next = curr\n",
    "            prev = curr\n",
    "\n",
    "        return root\n",
    "\n",
    "    def to_list(self) -> list[int]:\n",
    "        result = []\n",
    "        curr = self\n",
    "        while curr:\n",
    "            result.append(curr.val)\n",
    "            curr = curr.next\n",
    "        return result"
   ]
  },
  {
   "cell_type": "markdown",
   "id": "9cb590dd",
   "metadata": {
    "papermill": {
     "duration": 0.008799,
     "end_time": "2024-05-02T16:08:11.931000",
     "exception": false,
     "start_time": "2024-05-02T16:08:11.922201",
     "status": "completed"
    },
    "tags": []
   },
   "source": [
    "#### Utility to generate random BST"
   ]
  },
  {
   "cell_type": "code",
   "execution_count": 4,
   "id": "d2d8c823",
   "metadata": {
    "execution": {
     "iopub.execute_input": "2024-05-02T16:08:11.950361Z",
     "iopub.status.busy": "2024-05-02T16:08:11.949715Z",
     "iopub.status.idle": "2024-05-02T16:08:11.956124Z",
     "shell.execute_reply": "2024-05-02T16:08:11.955473Z"
    },
    "lines_to_next_cell": 1,
    "papermill": {
     "duration": 0.017834,
     "end_time": "2024-05-02T16:08:11.957854",
     "exception": false,
     "start_time": "2024-05-02T16:08:11.940020",
     "status": "completed"
    },
    "tags": []
   },
   "outputs": [],
   "source": [
    "def generateBST(N: int, min_: int, max_: int) -> BinaryTreeNode|None:\n",
    "    def insert(curr: BinaryTreeNode|None, n: int) -> BinaryTreeNode:\n",
    "        if not curr:\n",
    "            curr = BinaryTreeNode(n)\n",
    "        elif curr.val < n:\n",
    "            curr.right = insert(curr.right, n)\n",
    "        else:\n",
    "            curr.left = insert(curr.left, n)\n",
    "\n",
    "        return curr\n",
    "\n",
    "    assert N <= max_ - min_, \"Number of available samples must be >= N\"\n",
    "    root: BinaryTreeNode|None = None\n",
    "    for n in np.random.choice(np.arange(min_, max_), size=N, replace=False):\n",
    "        root = insert(root, n)\n",
    "\n",
    "    return root"
   ]
  },
  {
   "cell_type": "markdown",
   "id": "5ae16de1",
   "metadata": {
    "papermill": {
     "duration": 0.008705,
     "end_time": "2024-05-02T16:08:11.975412",
     "exception": false,
     "start_time": "2024-05-02T16:08:11.966707",
     "status": "completed"
    },
    "tags": []
   },
   "source": [
    "GFG Jobathon: 32"
   ]
  },
  {
   "cell_type": "markdown",
   "id": "b420e590",
   "metadata": {
    "papermill": {
     "duration": 0.008681,
     "end_time": "2024-05-02T16:08:11.993273",
     "exception": false,
     "start_time": "2024-05-02T16:08:11.984592",
     "status": "completed"
    },
    "tags": []
   },
   "source": [
    "Q1: Lead Engineer"
   ]
  },
  {
   "cell_type": "code",
   "execution_count": 5,
   "id": "e632458b",
   "metadata": {
    "execution": {
     "iopub.execute_input": "2024-05-02T16:08:12.011965Z",
     "iopub.status.busy": "2024-05-02T16:08:12.011721Z",
     "iopub.status.idle": "2024-05-02T16:08:12.016597Z",
     "shell.execute_reply": "2024-05-02T16:08:12.015932Z"
    },
    "lines_to_next_cell": 1,
    "papermill": {
     "duration": 0.01611,
     "end_time": "2024-05-02T16:08:12.018281",
     "exception": false,
     "start_time": "2024-05-02T16:08:12.002171",
     "status": "completed"
    },
    "tags": []
   },
   "outputs": [],
   "source": [
    "def leadOptions(self, N : int, E : List[int]) -> int:\n",
    "    maxE: tuple[int, int] = -1, 0\n",
    "    for exp in E:\n",
    "        if exp == maxE[0]:\n",
    "            maxE = maxE[0], maxE[1] + 1\n",
    "        if exp > maxE[0]:\n",
    "            maxE = exp, 0\n",
    "\n",
    "    return maxE[1]"
   ]
  },
  {
   "cell_type": "markdown",
   "id": "6b67334f",
   "metadata": {
    "papermill": {
     "duration": 0.008781,
     "end_time": "2024-05-02T16:08:12.035991",
     "exception": false,
     "start_time": "2024-05-02T16:08:12.027210",
     "status": "completed"
    },
    "tags": []
   },
   "source": [
    "Codeforces: 20/C (Dijkstra)"
   ]
  },
  {
   "cell_type": "code",
   "execution_count": 6,
   "id": "a165d425",
   "metadata": {
    "execution": {
     "iopub.execute_input": "2024-05-02T16:08:12.055337Z",
     "iopub.status.busy": "2024-05-02T16:08:12.054887Z",
     "iopub.status.idle": "2024-05-02T16:08:12.066204Z",
     "shell.execute_reply": "2024-05-02T16:08:12.065548Z"
    },
    "lines_to_next_cell": 1,
    "papermill": {
     "duration": 0.022896,
     "end_time": "2024-05-02T16:08:12.067895",
     "exception": false,
     "start_time": "2024-05-02T16:08:12.044999",
     "status": "completed"
    },
    "tags": []
   },
   "outputs": [],
   "source": [
    "def dijkstra(src: int, adjl: dict[int, list[tuple[int, int]]]) -> dict[int, tuple[float, int]]:\n",
    "    heap: list[tuple[int, int, int]] = [(1, src, 1)]\n",
    "    shortest: dict[int, tuple[float, int]] = dict()\n",
    "    while heap:\n",
    "        curr_dist, curr, prev = heapq.heappop(heap)\n",
    "        if curr not in shortest or curr_dist < shortest[curr][0]:\n",
    "            shortest[curr] = (curr_dist, prev)\n",
    "            for next_, next_dist in adjl.get(curr, []):\n",
    "                heapq.heappush(heap, (curr_dist + next_dist, next_, curr))\n",
    "\n",
    "    return shortest\n",
    "\n",
    "def twentyC(V: int, E: int, edges: list[tuple[int, int, int]]) -> str:\n",
    "    adjl: dict[int, list[tuple[int, int]]] = dict()\n",
    "    for n1, n2, d in edges:\n",
    "        n1_neighbours, n2_neighbours = adjl.get(n1, []), adjl.get(n2, [])\n",
    "        n1_neighbours.append((n2, d))\n",
    "        n2_neighbours.append((n1, d))\n",
    "        adjl[n1], adjl[n2] = n1_neighbours, n2_neighbours\n",
    "\n",
    "    paths = dijkstra(1, adjl)\n",
    "    if V in paths:\n",
    "        result: list[int] = [V]\n",
    "        curr = V\n",
    "        while curr != 1:\n",
    "            dist, prev = paths[curr]\n",
    "            result.append(prev)\n",
    "            curr = prev\n",
    "\n",
    "        result.reverse()\n",
    "        return ' '.join(map(str, result))\n",
    "    else:\n",
    "        return '-1'\n",
    "\n",
    "# Testing the solution\n",
    "assert twentyC(5, 5, [(1, 2, 2), (2, 5, 5), (2, 3, 4), (1, 4, 1), (4, 3, 3), (3, 5, 1)]) == '1 4 3 5'"
   ]
  },
  {
   "cell_type": "markdown",
   "id": "a4263f01",
   "metadata": {
    "papermill": {
     "duration": 0.008684,
     "end_time": "2024-05-02T16:08:12.085525",
     "exception": false,
     "start_time": "2024-05-02T16:08:12.076841",
     "status": "completed"
    },
    "tags": []
   },
   "source": [
    "LC Medium: Course Schedule 2"
   ]
  },
  {
   "cell_type": "code",
   "execution_count": 7,
   "id": "eb152abe",
   "metadata": {
    "execution": {
     "iopub.execute_input": "2024-05-02T16:08:12.104680Z",
     "iopub.status.busy": "2024-05-02T16:08:12.104031Z",
     "iopub.status.idle": "2024-05-02T16:08:12.115465Z",
     "shell.execute_reply": "2024-05-02T16:08:12.114857Z"
    },
    "lines_to_next_cell": 1,
    "papermill": {
     "duration": 0.022723,
     "end_time": "2024-05-02T16:08:12.117082",
     "exception": false,
     "start_time": "2024-05-02T16:08:12.094359",
     "status": "completed"
    },
    "tags": []
   },
   "outputs": [],
   "source": [
    "# https://leetcode.com/problems/course-schedule-ii/submissions/1239496066\n",
    "def findOrder(numCourses: int, prerequisites: list[list[int]]) -> list[int]:\n",
    "    adjl: dict[int, list[int]] = dict()\n",
    "    for c1, c2 in prerequisites:\n",
    "        # To take up C1, C2 must be done already\n",
    "        c1_neighbours: list[int] = adjl.get(c1, [])\n",
    "        c1_neighbours.append(c2)\n",
    "        adjl[c1] = c1_neighbours\n",
    "\n",
    "    paths: dict[int, list[int]] = dict()\n",
    "    def getOrdering(curr: int, visited: set[int] = set()) -> list[int]:\n",
    "        if curr in paths:\n",
    "            return paths[curr]\n",
    "        elif curr in visited:\n",
    "            return []\n",
    "        else:\n",
    "            result: list[int] = [curr]\n",
    "            visited.add(curr)\n",
    "            for next_ in adjl.get(curr, []):\n",
    "                deps: list[int] = getOrdering(next_, visited)\n",
    "                if not deps:\n",
    "                    return []\n",
    "                else:\n",
    "                    result.extend(deps)\n",
    "\n",
    "            visited.remove(curr)\n",
    "            paths[curr] = result\n",
    "            return result\n",
    "\n",
    "    # Courses are ordered from 0 to numCourses - 1\n",
    "    result: list[int] = []\n",
    "    completed: set[int] = set()\n",
    "    for course in range(numCourses):\n",
    "        deps = getOrdering(course)\n",
    "        deps.reverse()\n",
    "        if not deps:\n",
    "            return []\n",
    "        else:\n",
    "            for dep in deps:\n",
    "                if dep not in completed:\n",
    "                    completed.add(dep)\n",
    "                    result.append(dep)\n",
    "\n",
    "    return result\n",
    "\n",
    "# Testing the solution\n",
    "assert findOrder(4, [[1,0], [2,0], [3,1], [3,2]]) in ([0,1,2,3], [0,2,1,3])\n",
    "assert findOrder(5, [[1,0], [2,0], [3,4], [4,3]]) == []"
   ]
  },
  {
   "cell_type": "markdown",
   "id": "ca3a0889",
   "metadata": {
    "papermill": {
     "duration": 0.008822,
     "end_time": "2024-05-02T16:08:12.134921",
     "exception": false,
     "start_time": "2024-05-02T16:08:12.126099",
     "status": "completed"
    },
    "tags": []
   },
   "source": [
    "LC Medium: Course Schedule 1 (DFS)"
   ]
  },
  {
   "cell_type": "code",
   "execution_count": 8,
   "id": "bdeaef7f",
   "metadata": {
    "execution": {
     "iopub.execute_input": "2024-05-02T16:08:12.154391Z",
     "iopub.status.busy": "2024-05-02T16:08:12.153747Z",
     "iopub.status.idle": "2024-05-02T16:08:12.164195Z",
     "shell.execute_reply": "2024-05-02T16:08:12.163537Z"
    },
    "lines_to_next_cell": 1,
    "papermill": {
     "duration": 0.022061,
     "end_time": "2024-05-02T16:08:12.165889",
     "exception": false,
     "start_time": "2024-05-02T16:08:12.143828",
     "status": "completed"
    },
    "tags": []
   },
   "outputs": [],
   "source": [
    "# https://leetcode.com/problems/course-schedule/submissions/1240858033/\n",
    "def canFinish(numCourses: int, prerequisites: list[list[int]]) -> bool:\n",
    "    # Convert pre-req to adj list\n",
    "    adj: dict[int, list[int]] = dict()\n",
    "    for n1, n2 in prerequisites:\n",
    "        n1_neighbours = adj.get(n1, [])\n",
    "        n1_neighbours.append(n2)\n",
    "        adj[n1] = n1_neighbours\n",
    "\n",
    "    # DFS Algorithm to check for cycles\n",
    "    def hasCycle(curr: int, paths: set[int] = set()) -> bool:\n",
    "        if curr in paths:\n",
    "            return True\n",
    "        elif curr in visited:\n",
    "            return False\n",
    "        else:\n",
    "            visited.add(curr)\n",
    "            paths.add(curr)\n",
    "            for next_ in adj.get(curr, []):\n",
    "                if hasCycle(next_, paths):\n",
    "                    return True\n",
    "            paths.remove(curr)\n",
    "            return False\n",
    "\n",
    "    visited: set[int] = set()\n",
    "    for curr in range(numCourses):\n",
    "        if hasCycle(curr):\n",
    "            return False\n",
    "    else:\n",
    "        return True\n",
    "\n",
    "# Testing the solution\n",
    "assert canFinish(2, [[1,0]]) == True\n",
    "assert canFinish(2, [[1,0],[0,1]]) == False"
   ]
  },
  {
   "cell_type": "markdown",
   "id": "2113dbd0",
   "metadata": {
    "papermill": {
     "duration": 0.008859,
     "end_time": "2024-05-02T16:08:12.183957",
     "exception": false,
     "start_time": "2024-05-02T16:08:12.175098",
     "status": "completed"
    },
    "tags": []
   },
   "source": [
    "Shortest path in undirected graph with unit weights"
   ]
  },
  {
   "cell_type": "code",
   "execution_count": 9,
   "id": "de8ecf19",
   "metadata": {
    "execution": {
     "iopub.execute_input": "2024-05-02T16:08:12.203232Z",
     "iopub.status.busy": "2024-05-02T16:08:12.202467Z",
     "iopub.status.idle": "2024-05-02T16:08:12.211659Z",
     "shell.execute_reply": "2024-05-02T16:08:12.211044Z"
    },
    "lines_to_next_cell": 1,
    "papermill": {
     "duration": 0.020569,
     "end_time": "2024-05-02T16:08:12.213340",
     "exception": false,
     "start_time": "2024-05-02T16:08:12.192771",
     "status": "completed"
    },
    "tags": []
   },
   "outputs": [],
   "source": [
    "def shortestPathUG(n: int, edges: list[tuple[int, int]], src: int) -> list[int]:\n",
    "    # Create an adj list\n",
    "    adj: dict[int, list[int]] = dict()\n",
    "    for n1, n2 in edges:\n",
    "        n1_neighbours, n2_neighbours = adj.get(n1, []), adj.get(n2, [])\n",
    "        n1_neighbours.append(n2)\n",
    "        n2_neighbours.append(n1)\n",
    "        adj[n1], adj[n2] = n1_neighbours, n2_neighbours\n",
    "\n",
    "    shortest: list[int] = [-1 for _ in range(n)]\n",
    "    heap: list[tuple[int, int]] = [(0, src)]\n",
    "    while heap:\n",
    "        curr_dist, curr = heapq.heappop(heap)\n",
    "        shortest[curr] = curr_dist if shortest[curr] == -1 or shortest[curr] > curr_dist else shortest[curr]\n",
    "        for next_ in adj.get(curr, []):\n",
    "            if shortest[next_] == -1 or curr_dist + 1 < shortest[next_]:\n",
    "                heapq.heappush(heap, (curr_dist + 1, next_))\n",
    "\n",
    "    return shortest\n",
    "\n",
    "# Testing the solution\n",
    "assert shortestPathUG(5, [(0, 1), (1, 4), (2, 3), (2, 4), (3, 4)], 1) == [1, 0, 2, 2, 1]"
   ]
  },
  {
   "cell_type": "markdown",
   "id": "765658c5",
   "metadata": {
    "papermill": {
     "duration": 0.008755,
     "end_time": "2024-05-02T16:08:12.231084",
     "exception": false,
     "start_time": "2024-05-02T16:08:12.222329",
     "status": "completed"
    },
    "tags": []
   },
   "source": [
    "Shortest path in DAG"
   ]
  },
  {
   "cell_type": "code",
   "execution_count": 10,
   "id": "c7e19951",
   "metadata": {
    "execution": {
     "iopub.execute_input": "2024-05-02T16:08:12.250413Z",
     "iopub.status.busy": "2024-05-02T16:08:12.249677Z",
     "iopub.status.idle": "2024-05-02T16:08:12.258706Z",
     "shell.execute_reply": "2024-05-02T16:08:12.258085Z"
    },
    "lines_to_next_cell": 1,
    "papermill": {
     "duration": 0.020511,
     "end_time": "2024-05-02T16:08:12.260401",
     "exception": false,
     "start_time": "2024-05-02T16:08:12.239890",
     "status": "completed"
    },
    "tags": []
   },
   "outputs": [],
   "source": [
    "def shortestPathInDAG(N: int, M: int, edges: list[list[int]]) -> list[int]:\n",
    "    # Create an adj list\n",
    "    adj: dict[int, list[tuple[int, int]]] = dict()\n",
    "    for n1, n2, w in edges:\n",
    "        n1_neighbours = adj.get(n1, [])\n",
    "        n1_neighbours.append((n2, w))\n",
    "        adj[n1] = n1_neighbours\n",
    "\n",
    "    # Dijkstra's algo!\n",
    "    shortest: list[int] = [-1 for _ in range(N)]\n",
    "    heap: list[tuple[int, int]] = [(0, 0)]\n",
    "    while heap:\n",
    "        curr_dist, curr = heapq.heappop(heap)\n",
    "        if shortest[curr] == -1 or curr_dist < shortest[curr]:\n",
    "            shortest[curr] = curr_dist\n",
    "            for next_, next_dist in adj.get(curr, []):\n",
    "                heapq.heappush(heap, (next_dist + curr_dist, next_))\n",
    "\n",
    "    return shortest\n",
    "\n",
    "# Testing the solution\n",
    "assert shortestPathInDAG(3, 3, [[0,1,2], [1,2,3], [0,2,6]]) == [0, 2, 5]\n",
    "assert shortestPathInDAG(3, 3, [[2,0,4],[0,1,3],[2,1,2]]) == [0, 3, -1]"
   ]
  },
  {
   "cell_type": "markdown",
   "id": "36a13aa2",
   "metadata": {
    "papermill": {
     "duration": 0.008834,
     "end_time": "2024-05-02T16:08:12.278210",
     "exception": false,
     "start_time": "2024-05-02T16:08:12.269376",
     "status": "completed"
    },
    "tags": []
   },
   "source": [
    "LC Hard: Word Ladder"
   ]
  },
  {
   "cell_type": "code",
   "execution_count": 11,
   "id": "30ef6d16",
   "metadata": {
    "execution": {
     "iopub.execute_input": "2024-05-02T16:08:12.297631Z",
     "iopub.status.busy": "2024-05-02T16:08:12.296952Z",
     "iopub.status.idle": "2024-05-02T16:08:12.307887Z",
     "shell.execute_reply": "2024-05-02T16:08:12.307263Z"
    },
    "lines_to_next_cell": 1,
    "papermill": {
     "duration": 0.022354,
     "end_time": "2024-05-02T16:08:12.309561",
     "exception": false,
     "start_time": "2024-05-02T16:08:12.287207",
     "status": "completed"
    },
    "tags": []
   },
   "outputs": [],
   "source": [
    "# https://leetcode.com/problems/word-ladder/submissions/1241826378\n",
    "def ladderLengthBrute(beginWord: str, endWord: str, wordList: list[str]) -> int:\n",
    "    def pathExists(w1: str, w2: str) -> bool:\n",
    "        N, i = len(w1), 0\n",
    "        dist = 0\n",
    "        while i < N:\n",
    "            if w1[i] != w2[i]:\n",
    "                dist += 1\n",
    "            if dist > 1:\n",
    "                break\n",
    "            i += 1\n",
    "\n",
    "        return dist == 1\n",
    "\n",
    "    def BFS(root: str):\n",
    "        queue: collections.deque = collections.deque([root])\n",
    "        distances[root] = 0\n",
    "        while queue:\n",
    "            curr = queue.popleft()\n",
    "            for next_ in adj.get(curr, []):\n",
    "                if next_ not in distances or distances[next_] > distances[curr] + 1:\n",
    "                    distances[next_] = distances[curr] + 1\n",
    "                    queue.append(next_)\n",
    "                    if next_ == endWord:\n",
    "                        return\n",
    "\n",
    "    # Create an adjacency list\n",
    "    adj: dict[str, list[str]] = dict()\n",
    "    for w1, w2 in itertools.combinations([beginWord] + wordList, r=2):\n",
    "        if pathExists(w1, w2):\n",
    "            w1_neighbours, w2_neighbours = adj.get(w1, []), adj.get(w2, [])\n",
    "            w1_neighbours.append(w2)\n",
    "            w2_neighbours.append(w1)\n",
    "            adj[w1], adj[w2] = w1_neighbours, w2_neighbours\n",
    "\n",
    "    distances: dict[str, int] = dict()\n",
    "    BFS(beginWord)\n",
    "    return distances[endWord] + 1 if endWord in distances else 0\n",
    "\n",
    "# Testing the solution\n",
    "assert ladderLengthBrute(\"hit\", \"cog\", [\"hot\",\"dot\",\"dog\",\"lot\",\"log\",\"cog\"]) == 5\n",
    "assert ladderLengthBrute(\"hit\", \"cog\", [\"hot\",\"dot\",\"dog\",\"lot\",\"log\"]) == 0"
   ]
  },
  {
   "cell_type": "markdown",
   "id": "a8ca8c27",
   "metadata": {
    "papermill": {
     "duration": 0.008766,
     "end_time": "2024-05-02T16:08:12.327264",
     "exception": false,
     "start_time": "2024-05-02T16:08:12.318498",
     "status": "completed"
    },
    "tags": []
   },
   "source": [
    "LC Hard: Word Ladder - 2: https://leetcode.com/problems/word-ladder-ii/"
   ]
  },
  {
   "cell_type": "code",
   "execution_count": 12,
   "id": "e55a5c30",
   "metadata": {
    "execution": {
     "iopub.execute_input": "2024-05-02T16:08:12.346030Z",
     "iopub.status.busy": "2024-05-02T16:08:12.345791Z",
     "iopub.status.idle": "2024-05-02T16:08:12.361356Z",
     "shell.execute_reply": "2024-05-02T16:08:12.360732Z"
    },
    "lines_to_next_cell": 1,
    "papermill": {
     "duration": 0.026887,
     "end_time": "2024-05-02T16:08:12.363000",
     "exception": false,
     "start_time": "2024-05-02T16:08:12.336113",
     "status": "completed"
    },
    "tags": []
   },
   "outputs": [],
   "source": [
    "# TLE :(\n",
    "def findLadders(beginWord: str, endWord: str, wordList: list[str]) -> list[list[str]]:\n",
    "    # BFS traversal to get the list of all shortest prev nodes\n",
    "    N = len(beginWord)\n",
    "    wordMap: dict[str, tuple[float, set[str]]] = {word: (math.inf, set()) for word in wordList}\n",
    "    wordMap[beginWord] = (0, set())\n",
    "    queue: collections.deque[tuple[str, int, str|None]] = collections.deque([(beginWord, 0, None)])\n",
    "    while queue:\n",
    "        curr, dist, prev = queue.popleft()\n",
    "        for i in range(N):\n",
    "            for j in range(ord('a'), ord('z') + 1):\n",
    "                next_ = curr[:i] + chr(j) + curr[i + 1:]\n",
    "                if next_ in wordMap:\n",
    "                    next_dist, prevs = wordMap[next_]\n",
    "                    if dist + 1 < next_dist:\n",
    "                        prevs = set([curr])\n",
    "                        next_dist = dist + 1\n",
    "                        queue.append((next_, dist + 1, curr))\n",
    "                    elif dist + 1 == next_dist:\n",
    "                        prevs.add(curr)\n",
    "                        queue.append((next_, dist + 1, curr))\n",
    "\n",
    "                    wordMap[next_] = next_dist, prevs\n",
    "\n",
    "    # Reverse the edges\n",
    "    adj: dict[str, set[str]] = dict()\n",
    "    for k, v in wordMap.items():\n",
    "        n1, n1_neighbours = k, v[1]\n",
    "        for n2 in n1_neighbours:\n",
    "            n2_neighbours = adj.get(n2, set())\n",
    "            n2_neighbours.add(n1)\n",
    "            adj[n2] = n2_neighbours\n",
    "\n",
    "    # Do any traversal to get the final result\n",
    "    results: list[list[str]] = []\n",
    "    def DFS(root: str, paths: list[str]):\n",
    "        paths.append(root)\n",
    "        if root == endWord:\n",
    "            results.append(list(paths))\n",
    "        else:\n",
    "            for next_ in adj.get(root, set()):\n",
    "                DFS(next_, paths)\n",
    "        paths.pop()\n",
    "\n",
    "    DFS(beginWord, [])\n",
    "    return sorted(results)\n",
    "\n",
    "# Testing the solution\n",
    "assert findLadders(\"hit\", \"cog\", [\"hot\",\"dot\",\"dog\",\"lot\",\"log\",\"cog\"]) == [['hit', 'hot', 'dot', 'dog', 'cog'], ['hit', 'hot', 'lot', 'log', 'cog']]\n",
    "assert findLadders(\"hit\", \"cog\", [\"hot\",\"dot\",\"dog\",\"lot\",\"log\"]) == []\n",
    "assert findLadders(\"a\", \"c\", [\"a\", \"b\", \"c\"]) == [[\"a\", \"c\"]]\n",
    "assert findLadders(\"red\", \"tax\", [\"ted\",\"tex\",\"red\",\"tax\",\"tad\",\"den\",\"rex\",\"pee\"]) == [['red', 'rex', 'tex', 'tax'],['red', 'ted', 'tad', 'tax'],['red', 'ted', 'tex', 'tax']]"
   ]
  },
  {
   "cell_type": "markdown",
   "id": "034f704f",
   "metadata": {
    "papermill": {
     "duration": 0.0087,
     "end_time": "2024-05-02T16:08:12.380620",
     "exception": false,
     "start_time": "2024-05-02T16:08:12.371920",
     "status": "completed"
    },
    "tags": []
   },
   "source": [
    "LC Biweekly contest: 129 (27th Apr 2024)"
   ]
  },
  {
   "cell_type": "code",
   "execution_count": 13,
   "id": "dfa6e9e0",
   "metadata": {
    "execution": {
     "iopub.execute_input": "2024-05-02T16:08:12.400260Z",
     "iopub.status.busy": "2024-05-02T16:08:12.399595Z",
     "iopub.status.idle": "2024-05-02T16:08:12.406967Z",
     "shell.execute_reply": "2024-05-02T16:08:12.406339Z"
    },
    "lines_to_next_cell": 1,
    "papermill": {
     "duration": 0.018958,
     "end_time": "2024-05-02T16:08:12.408658",
     "exception": false,
     "start_time": "2024-05-02T16:08:12.389700",
     "status": "completed"
    },
    "tags": []
   },
   "outputs": [],
   "source": [
    "# Q1 - Easy\n",
    "def canMakeSquare(grid: list[list[str]]) -> bool:\n",
    "    for i, j in [(0, 0), (0, 1), (1, 0), (1, 1)]:\n",
    "        count = 0\n",
    "        for x, y in [(0, 0), (0, 1), (1, 0), (1, 1)]:\n",
    "            i_, j_ = i + x, j + y\n",
    "            if grid[i_][j_] == \"W\":\n",
    "                count += 1\n",
    "        if count != 2:\n",
    "            return True\n",
    "    else:\n",
    "        return False\n",
    "\n",
    "# Testing the solution\n",
    "assert canMakeSquare([[\"B\",\"W\",\"B\"],[\"B\",\"W\",\"W\"],[\"B\",\"W\",\"W\"]]) == True\n",
    "assert canMakeSquare([[\"B\",\"W\",\"B\"],[\"W\",\"B\",\"W\"],[\"B\",\"W\",\"B\"]]) == False\n",
    "assert canMakeSquare([[\"B\",\"B\",\"B\"],[\"B\",\"B\",\"B\"],[\"B\",\"B\",\"B\"]]) == True"
   ]
  },
  {
   "cell_type": "code",
   "execution_count": 14,
   "id": "b4f425f7",
   "metadata": {
    "execution": {
     "iopub.execute_input": "2024-05-02T16:08:12.428008Z",
     "iopub.status.busy": "2024-05-02T16:08:12.427288Z",
     "iopub.status.idle": "2024-05-02T16:08:12.435649Z",
     "shell.execute_reply": "2024-05-02T16:08:12.435035Z"
    },
    "lines_to_next_cell": 1,
    "papermill": {
     "duration": 0.019662,
     "end_time": "2024-05-02T16:08:12.437325",
     "exception": false,
     "start_time": "2024-05-02T16:08:12.417663",
     "status": "completed"
    },
    "tags": []
   },
   "outputs": [],
   "source": [
    "# Q2 - Medium\n",
    "def numberOfRightTriangles(grid: list[list[int]]) -> int:\n",
    "    # Find the dimensions\n",
    "    M, N = len(grid), len(grid[0])\n",
    "\n",
    "    # Precompute the number of 1's row & col wise\n",
    "    rows = [0 for i in range(M)]\n",
    "    cols = [0 for i in range(N)]\n",
    "    for i in range(M):\n",
    "        for j in range(N):\n",
    "            if grid[i][j] == 1:\n",
    "                rows[i] += 1\n",
    "                cols[j] += 1\n",
    "\n",
    "    # Traverse through the grid again. Each time we encounter a 1, count 1's in that row and excluding itself and find the product\n",
    "    count = 0\n",
    "    for i in range(M):\n",
    "        for j in range(N):\n",
    "            if grid[i][j] == 1:\n",
    "                count += (rows[i] - 1) * (cols[j] - 1)\n",
    "\n",
    "    return count\n",
    "\n",
    "# Testing the solution\n",
    "assert numberOfRightTriangles([[1,0,1],[1,0,0],[1,0,0]]) == 2\n",
    "assert numberOfRightTriangles([[1,0,0,0],[0,1,0,1],[1,0,0,0]]) == 0\n",
    "assert numberOfRightTriangles([[0,1,0],[0,1,1],[0,1,0]]) == 2"
   ]
  },
  {
   "cell_type": "markdown",
   "id": "770f92f2",
   "metadata": {
    "papermill": {
     "duration": 0.008791,
     "end_time": "2024-05-02T16:08:12.455132",
     "exception": false,
     "start_time": "2024-05-02T16:08:12.446341",
     "status": "completed"
    },
    "tags": []
   },
   "source": [
    "LC Weekly Contest - 395 (28th Apr 2024)"
   ]
  },
  {
   "cell_type": "code",
   "execution_count": 15,
   "id": "bc82d8e7",
   "metadata": {
    "execution": {
     "iopub.execute_input": "2024-05-02T16:08:12.474520Z",
     "iopub.status.busy": "2024-05-02T16:08:12.473901Z",
     "iopub.status.idle": "2024-05-02T16:08:12.480535Z",
     "shell.execute_reply": "2024-05-02T16:08:12.479801Z"
    },
    "lines_to_next_cell": 1,
    "papermill": {
     "duration": 0.018208,
     "end_time": "2024-05-02T16:08:12.482332",
     "exception": false,
     "start_time": "2024-05-02T16:08:12.464124",
     "status": "completed"
    },
    "tags": []
   },
   "outputs": [],
   "source": [
    "# Q3: Medium\n",
    "def minEnd(n: int, x: int) -> int:\n",
    "\n",
    "    # convert to bin\n",
    "    x_str = bin(x)[2:]\n",
    "    n_str = bin(n - 1)[2:]\n",
    "\n",
    "    # compute length of both bins\n",
    "    xn, nn = len(x_str), len(n_str)\n",
    "\n",
    "    # store on stack, use two pointers\n",
    "    stack: list[str] = []\n",
    "    i, j = xn - 1, nn - 1\n",
    "    while i >= 0 or j >= 0:\n",
    "        if j < 0 or (i >= 0 and x_str[i] == '1'):\n",
    "            stack.append(x_str[i])\n",
    "            i -= 1\n",
    "        else:\n",
    "            stack.append(n_str[j])\n",
    "            i, j = i - 1, j - 1\n",
    "\n",
    "    stack.reverse()\n",
    "    return int(''.join(stack), base=2)\n",
    "\n",
    "# Testing the solution\n",
    "assert minEnd(9, 9) == 41\n",
    "assert minEnd(3, 4) == 6"
   ]
  },
  {
   "cell_type": "markdown",
   "id": "be39542d",
   "metadata": {
    "papermill": {
     "duration": 0.008947,
     "end_time": "2024-05-02T16:08:12.500428",
     "exception": false,
     "start_time": "2024-05-02T16:08:12.491481",
     "status": "completed"
    },
    "tags": []
   },
   "source": [
    "Practice Bellman Ford, Floyd Warshall"
   ]
  },
  {
   "cell_type": "code",
   "execution_count": 16,
   "id": "ecdb0ceb",
   "metadata": {
    "execution": {
     "iopub.execute_input": "2024-05-02T16:08:12.519549Z",
     "iopub.status.busy": "2024-05-02T16:08:12.518984Z",
     "iopub.status.idle": "2024-05-02T16:08:12.524863Z",
     "shell.execute_reply": "2024-05-02T16:08:12.524100Z"
    },
    "lines_to_next_cell": 1,
    "papermill": {
     "duration": 0.017269,
     "end_time": "2024-05-02T16:08:12.526558",
     "exception": false,
     "start_time": "2024-05-02T16:08:12.509289",
     "status": "completed"
    },
    "tags": []
   },
   "outputs": [],
   "source": [
    "def bellmanFord(N: int, M: int, src: int, edges: list[list[int]]) -> list[float]:\n",
    "   # Compute the distances and store to a vector\n",
    "   distances: list[float] = [math.inf for n1 in range(N + 1)]\n",
    "   distances[src] = 0\n",
    "\n",
    "   # Relax all edges for N - 1 iterations\n",
    "   for i in range(N - 1):\n",
    "       for n1, n2, w in edges:\n",
    "           distances[n2] = min(distances[n2], distances[n1] + w)\n",
    "\n",
    "   # Detect negative cycle\n",
    "   for n1, n2, w in edges:\n",
    "       if distances[n1] + w < distances[n2]:\n",
    "           return [-1]\n",
    "\n",
    "   # Return the distances array\n",
    "   return distances"
   ]
  },
  {
   "cell_type": "code",
   "execution_count": 17,
   "id": "e6fd85e8",
   "metadata": {
    "execution": {
     "iopub.execute_input": "2024-05-02T16:08:12.546040Z",
     "iopub.status.busy": "2024-05-02T16:08:12.545478Z",
     "iopub.status.idle": "2024-05-02T16:08:12.551944Z",
     "shell.execute_reply": "2024-05-02T16:08:12.551174Z"
    },
    "lines_to_next_cell": 1,
    "papermill": {
     "duration": 0.01778,
     "end_time": "2024-05-02T16:08:12.553534",
     "exception": false,
     "start_time": "2024-05-02T16:08:12.535754",
     "status": "completed"
    },
    "tags": []
   },
   "outputs": [],
   "source": [
    "def floydWarshall(N: int, M: int, src: int, dest: int, edges: list[list[int]]):\n",
    "    # Create an adjacency matrix\n",
    "    distances: list[list[float]] = [[math.inf if i != j else 0 for j in range(N)] for i in range(N)]\n",
    "    for n1, n2, w in edges:\n",
    "        distances[n1][n2] = w\n",
    "\n",
    "    # Run the Floyd Warshall algorithm\n",
    "    for k in range(N):\n",
    "        for i in range(N):\n",
    "            for j in range(N):\n",
    "                distances[i][j] = min(distances[i][j], distances[i][k] + distances[k][j])\n",
    "\n",
    "    # Check for cycles (matrix[i][i] < 0)\n",
    "    for i in range(N):\n",
    "        if distances[i][i] < 0:\n",
    "            return []\n",
    "\n",
    "    # Return the cost matrix\n",
    "    return distances"
   ]
  },
  {
   "cell_type": "markdown",
   "id": "c72f5184",
   "metadata": {
    "papermill": {
     "duration": 0.00871,
     "end_time": "2024-05-02T16:08:12.571247",
     "exception": false,
     "start_time": "2024-05-02T16:08:12.562537",
     "status": "completed"
    },
    "tags": []
   },
   "source": [
    "Prim's Algorithm for MST"
   ]
  },
  {
   "cell_type": "code",
   "execution_count": 18,
   "id": "36eb7a78",
   "metadata": {
    "execution": {
     "iopub.execute_input": "2024-05-02T16:08:12.590207Z",
     "iopub.status.busy": "2024-05-02T16:08:12.589590Z",
     "iopub.status.idle": "2024-05-02T16:08:12.594992Z",
     "shell.execute_reply": "2024-05-02T16:08:12.594262Z"
    },
    "lines_to_next_cell": 1,
    "papermill": {
     "duration": 0.016768,
     "end_time": "2024-05-02T16:08:12.596813",
     "exception": false,
     "start_time": "2024-05-02T16:08:12.580045",
     "status": "completed"
    },
    "tags": []
   },
   "outputs": [],
   "source": [
    "def prim(V: int, adj: list[list[list[int]]]):\n",
    "    # Initial config\n",
    "    visited: set[int] = set()\n",
    "    mst_weight = 0\n",
    "    heap: list[tuple[int, int]] = [(0, 0)]\n",
    "\n",
    "    # Prim's algo\n",
    "    while heap:\n",
    "        curr_weight, curr = heapq.heappop(heap)\n",
    "        if curr not in visited:\n",
    "            visited.add(curr)\n",
    "            mst_weight += curr_weight\n",
    "            for next_, next_weight in adj[curr]:\n",
    "                heapq.heappush(heap, (next_weight, next_))\n",
    "\n",
    "    return mst_weight"
   ]
  },
  {
   "cell_type": "code",
   "execution_count": 19,
   "id": "906ee564",
   "metadata": {
    "execution": {
     "iopub.execute_input": "2024-05-02T16:08:12.616165Z",
     "iopub.status.busy": "2024-05-02T16:08:12.615566Z",
     "iopub.status.idle": "2024-05-02T16:08:12.621460Z",
     "shell.execute_reply": "2024-05-02T16:08:12.620673Z"
    },
    "lines_to_next_cell": 1,
    "papermill": {
     "duration": 0.017213,
     "end_time": "2024-05-02T16:08:12.623170",
     "exception": false,
     "start_time": "2024-05-02T16:08:12.605957",
     "status": "completed"
    },
    "tags": []
   },
   "outputs": [],
   "source": [
    "# LC Easy: Reverse string prefix \n",
    "# Problem link: https://leetcode.com/problems/reverse-prefix-of-word/submissions/1246431154/\n",
    "def reversePrefix(word: str, prefix_end: str) -> str:\n",
    "    result: collections.deque[str] = collections.deque()\n",
    "    prefixComplete = False\n",
    "    for ch in word:\n",
    "        if prefixComplete:\n",
    "            result.append(ch)\n",
    "        else:\n",
    "            result.appendleft(ch)\n",
    "        if ch == prefix_end:\n",
    "            prefixComplete = True\n",
    "\n",
    "    if not prefixComplete:\n",
    "        result.reverse()\n",
    "\n",
    "    return ''.join(result)\n",
    "\n",
    "# Testing the solution\n",
    "assert reversePrefix(\"abcdefd\", \"d\") == \"dcbaefd\"\n",
    "assert reversePrefix(\"xyxzxe\", \"z\") == \"zxyxxe\"\n",
    "assert reversePrefix(\"abcd\", \"z\") == \"abcd\""
   ]
  },
  {
   "cell_type": "code",
   "execution_count": 20,
   "id": "648737e9",
   "metadata": {
    "execution": {
     "iopub.execute_input": "2024-05-02T16:08:12.642334Z",
     "iopub.status.busy": "2024-05-02T16:08:12.641756Z",
     "iopub.status.idle": "2024-05-02T16:08:12.646991Z",
     "shell.execute_reply": "2024-05-02T16:08:12.646257Z"
    },
    "lines_to_next_cell": 1,
    "papermill": {
     "duration": 0.016586,
     "end_time": "2024-05-02T16:08:12.648697",
     "exception": false,
     "start_time": "2024-05-02T16:08:12.632111",
     "status": "completed"
    },
    "tags": []
   },
   "outputs": [],
   "source": [
    "# LC Easy: count-of-matches-in-tournament/\n",
    "# Problem Link: https://leetcode.com/problems/count-of-matches-in-tournament\n",
    "def numberOfMatches(n: int) -> int:\n",
    "    # Simply return n - 1\n",
    "    half = n // 2\n",
    "    if n == 1:\n",
    "        return half\n",
    "    else:\n",
    "        return half + (numberOfMatches(half + 1) if n % 2 else numberOfMatches(half))\n",
    "\n",
    "for i in range(1, 201):\n",
    "    assert numberOfMatches(i) == i - 1"
   ]
  },
  {
   "cell_type": "markdown",
   "id": "4299d8c5",
   "metadata": {
    "papermill": {
     "duration": 0.008784,
     "end_time": "2024-05-02T16:08:12.666444",
     "exception": false,
     "start_time": "2024-05-02T16:08:12.657660",
     "status": "completed"
    },
    "tags": []
   },
   "source": [
    "Codechef Weekly contest: 1st May 2024"
   ]
  },
  {
   "cell_type": "code",
   "execution_count": 21,
   "id": "ab5de96b",
   "metadata": {
    "execution": {
     "iopub.execute_input": "2024-05-02T16:08:12.685747Z",
     "iopub.status.busy": "2024-05-02T16:08:12.685111Z",
     "iopub.status.idle": "2024-05-02T16:08:12.690446Z",
     "shell.execute_reply": "2024-05-02T16:08:12.689809Z"
    },
    "lines_to_next_cell": 1,
    "papermill": {
     "duration": 0.016714,
     "end_time": "2024-05-02T16:08:12.692082",
     "exception": false,
     "start_time": "2024-05-02T16:08:12.675368",
     "status": "completed"
    },
    "tags": []
   },
   "outputs": [],
   "source": [
    "def alien_or() -> None:\n",
    "    T = int(input())\n",
    "    for t in range(T):\n",
    "        N, K = map(int, input().split())\n",
    "        set_: set[int] = {1 << i for i in range(K)}\n",
    "        for n in range(N):\n",
    "            inp = int(input(), 2)\n",
    "            if inp in set_:\n",
    "                set_.remove(inp)\n",
    "        print(\"YES\" if not set_ else \"NO\")"
   ]
  },
  {
   "cell_type": "code",
   "execution_count": 22,
   "id": "072053b2",
   "metadata": {
    "execution": {
     "iopub.execute_input": "2024-05-02T16:08:12.711317Z",
     "iopub.status.busy": "2024-05-02T16:08:12.710727Z",
     "iopub.status.idle": "2024-05-02T16:08:12.714132Z",
     "shell.execute_reply": "2024-05-02T16:08:12.713462Z"
    },
    "papermill": {
     "duration": 0.014683,
     "end_time": "2024-05-02T16:08:12.715740",
     "exception": false,
     "start_time": "2024-05-02T16:08:12.701057",
     "status": "completed"
    },
    "tags": []
   },
   "outputs": [],
   "source": [
    "# LC Medium: https://leetcode.com/problems/accounts-merge/submissions/1246973276/"
   ]
  },
  {
   "cell_type": "code",
   "execution_count": 23,
   "id": "8294a3f1",
   "metadata": {
    "execution": {
     "iopub.execute_input": "2024-05-02T16:08:12.735469Z",
     "iopub.status.busy": "2024-05-02T16:08:12.734815Z",
     "iopub.status.idle": "2024-05-02T16:08:12.755038Z",
     "shell.execute_reply": "2024-05-02T16:08:12.754322Z"
    },
    "lines_to_next_cell": 1,
    "papermill": {
     "duration": 0.031829,
     "end_time": "2024-05-02T16:08:12.756751",
     "exception": false,
     "start_time": "2024-05-02T16:08:12.724922",
     "status": "completed"
    },
    "tags": []
   },
   "outputs": [
    {
     "data": {
      "text/plain": [
       "[['John', 'john00@mail.com', 'john_newyork@mail.com', 'johnsmith@mail.com'],\n",
       " ['Mary', 'mary@mail.com'],\n",
       " ['John', 'johnnybravo@mail.com']]"
      ]
     },
     "execution_count": 23,
     "metadata": {},
     "output_type": "execute_result"
    }
   ],
   "source": [
    "def accountsMerge(accounts: list[list[str]]) -> list[list[str]]:\n",
    "    class DS:\n",
    "        def __init__(self) -> None:\n",
    "            self.parent: dict[str, str] = {}\n",
    "            self.size: dict[str, int] = {}\n",
    "\n",
    "        def findUltimateParent(self, node: str) -> str:\n",
    "            if node not in self.parent:\n",
    "                self.parent[node] = node\n",
    "                self.size[node] = 1\n",
    "\n",
    "            if self.parent[node] == node:\n",
    "                return node\n",
    "            else:\n",
    "                self.parent[node] = self.findUltimateParent(self.parent[node])\n",
    "                return self.parent[node]\n",
    "\n",
    "        def unionBySize(self, u: str, v: str) -> None:\n",
    "            up, vp = self.findUltimateParent(u), self.findUltimateParent(v)\n",
    "            ups, vps = self.size[up], self.size[vp]\n",
    "            if up == vp:\n",
    "                return\n",
    "            if ups < vps:\n",
    "                self.parent[up] = vp\n",
    "                self.size[vp] += self.size[up]\n",
    "            else:\n",
    "                self.parent[vp] = up\n",
    "                self.size[up] += self.size[vp]\n",
    "\n",
    "    ds = DS()\n",
    "    emails: dict[str, str] = dict()\n",
    "    for account in accounts:\n",
    "        account = account + [account[-1]]\n",
    "        name = account[0]\n",
    "        for i in range(1, len(account) - 1):\n",
    "            n1, n2 = account[i], account[i + 1]\n",
    "            emails[n1] = emails[n2] = name\n",
    "            ds.unionBySize(n1, n2)\n",
    "\n",
    "    groups: dict[str, list[str]] = dict()\n",
    "    for email in emails:\n",
    "        uemail = ds.findUltimateParent(email)\n",
    "        group = groups.get(uemail, [emails[uemail]])\n",
    "        group.append(email)\n",
    "        groups[uemail] = group\n",
    "\n",
    "    result: list[list[str]] = []\n",
    "    for group in groups.values():\n",
    "        result.append([group[0], *sorted(group[1:])])\n",
    "\n",
    "    return result\n",
    "\n",
    "# Testing the solution\n",
    "accountsMerge([\n",
    "    [\"John\",\"johnsmith@mail.com\",\"john_newyork@mail.com\"],\n",
    "    [\"John\",\"johnsmith@mail.com\",\"john00@mail.com\"],\n",
    "    [\"Mary\",\"mary@mail.com\"],\n",
    "    [\"John\",\"johnnybravo@mail.com\"]\n",
    "])"
   ]
  },
  {
   "cell_type": "markdown",
   "id": "fd8c2bbf",
   "metadata": {
    "papermill": {
     "duration": 0.009064,
     "end_time": "2024-05-02T16:08:12.775135",
     "exception": false,
     "start_time": "2024-05-02T16:08:12.766071",
     "status": "completed"
    },
    "tags": []
   },
   "source": [
    "Codeforces contest: 1968 (2nd May 2024)"
   ]
  },
  {
   "cell_type": "code",
   "execution_count": 24,
   "id": "c70919b8",
   "metadata": {
    "execution": {
     "iopub.execute_input": "2024-05-02T16:08:12.794768Z",
     "iopub.status.busy": "2024-05-02T16:08:12.794194Z",
     "iopub.status.idle": "2024-05-02T16:08:12.800097Z",
     "shell.execute_reply": "2024-05-02T16:08:12.799466Z"
    },
    "papermill": {
     "duration": 0.017424,
     "end_time": "2024-05-02T16:08:12.801711",
     "exception": false,
     "start_time": "2024-05-02T16:08:12.784287",
     "status": "completed"
    },
    "tags": []
   },
   "outputs": [],
   "source": [
    "# Problem: A\n",
    "def QA_1968() -> None:\n",
    "    T = int(input())\n",
    "    results: list[int] = []\n",
    "    for _ in range(T):\n",
    "        x = int(input())\n",
    "        result: tuple[int, int] = (-1, -1)\n",
    "        for y in range(1, x):\n",
    "            curr = math.gcd(y, x) + y\n",
    "            if curr > result[1]:\n",
    "                result = y, curr\n",
    "\n",
    "        results.append(result[0])\n",
    "\n",
    "    for res in results:\n",
    "        print(res)"
   ]
  }
 ],
 "metadata": {
  "kernelspec": {
   "display_name": "Python 3 (ipykernel)",
   "language": "python",
   "name": "python3"
  },
  "language_info": {
   "codemirror_mode": {
    "name": "ipython",
    "version": 3
   },
   "file_extension": ".py",
   "mimetype": "text/x-python",
   "name": "python",
   "nbconvert_exporter": "python",
   "pygments_lexer": "ipython3",
   "version": "3.10.14"
  },
  "papermill": {
   "default_parameters": {},
   "duration": 2.773954,
   "end_time": "2024-05-02T16:08:13.027779",
   "environment_variables": {},
   "exception": null,
   "input_path": "practice/002.ipynb",
   "output_path": "practice/002.ipynb",
   "parameters": {},
   "start_time": "2024-05-02T16:08:10.253825",
   "version": "2.5.0"
  }
 },
 "nbformat": 4,
 "nbformat_minor": 5
}