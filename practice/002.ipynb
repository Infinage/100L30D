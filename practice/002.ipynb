{
 "cells": [
  {
   "cell_type": "code",
   "execution_count": 1,
   "id": "337a233c",
   "metadata": {
    "execution": {
     "iopub.execute_input": "2024-04-26T17:34:49.148314Z",
     "iopub.status.busy": "2024-04-26T17:34:49.147685Z",
     "iopub.status.idle": "2024-04-26T17:34:49.664768Z",
     "shell.execute_reply": "2024-04-26T17:34:49.664027Z"
    },
    "papermill": {
     "duration": 0.526823,
     "end_time": "2024-04-26T17:34:49.666929",
     "exception": false,
     "start_time": "2024-04-26T17:34:49.140106",
     "status": "completed"
    },
    "tags": []
   },
   "outputs": [],
   "source": [
    "from typing import List, Optional, Generator\n",
    "import pandas as pd\n",
    "import numpy as np\n",
    "import sqlite3\n",
    "import re\n",
    "import io\n",
    "import math\n",
    "import collections\n",
    "import itertools\n",
    "import functools\n",
    "import random\n",
    "import string\n",
    "import tqdm\n",
    "import bisect\n",
    "import heapq\n",
    "\n",
    "conn = sqlite3.connect(\":memory:\")\n",
    "\n",
    "def regexp(expr, item):\n",
    "    reg = re.compile(expr)\n",
    "    return reg.search(item) is not None\n",
    "\n",
    "def read_lc_df(s: str, dtypes: dict[str, str]=dict()) -> pd.DataFrame:\n",
    "    temp = pd.read_csv(io.StringIO(s), sep=\"|\", skiprows=2)\n",
    "    temp = temp.iloc[1:-1, 1:-1]\n",
    "    temp.columns = temp.columns.map(str.strip)\n",
    "    temp = temp.map(lambda x: x if type(x) != str else None if x.strip() == 'null' else x.strip())\n",
    "    temp = temp.astype(dtypes)\n",
    "    return temp\n",
    "\n",
    "conn.create_function(\"REGEXP\", 2, regexp)"
   ]
  },
  {
   "cell_type": "markdown",
   "id": "a97299f5",
   "metadata": {
    "papermill": {
     "duration": 0.005495,
     "end_time": "2024-04-26T17:34:49.678343",
     "exception": false,
     "start_time": "2024-04-26T17:34:49.672848",
     "status": "completed"
    },
    "tags": []
   },
   "source": [
    "#### Helper for Binary tree problems"
   ]
  },
  {
   "cell_type": "code",
   "execution_count": 2,
   "id": "e9415fef",
   "metadata": {
    "execution": {
     "iopub.execute_input": "2024-04-26T17:34:49.691134Z",
     "iopub.status.busy": "2024-04-26T17:34:49.690350Z",
     "iopub.status.idle": "2024-04-26T17:34:49.700899Z",
     "shell.execute_reply": "2024-04-26T17:34:49.700269Z"
    },
    "lines_to_next_cell": 1,
    "papermill": {
     "duration": 0.018787,
     "end_time": "2024-04-26T17:34:49.702634",
     "exception": false,
     "start_time": "2024-04-26T17:34:49.683847",
     "status": "completed"
    },
    "tags": []
   },
   "outputs": [],
   "source": [
    "class BinaryTreeNode:\n",
    "    def __init__(self, val=0, left=None, right=None):\n",
    "        self.val = val\n",
    "        self.left = left\n",
    "        self.right = right\n",
    "\n",
    "    def to_list(self):\n",
    "        to_visit = [self]\n",
    "        visited = []\n",
    "        while len(to_visit) > 0:\n",
    "            curr = to_visit.pop(0)\n",
    "            if curr:\n",
    "                to_visit.append(curr.left)\n",
    "                to_visit.append(curr.right)\n",
    "                visited.append(curr.val)\n",
    "            else:\n",
    "                visited.append(curr)\n",
    "\n",
    "        while visited and not visited[-1]:\n",
    "            visited.pop()\n",
    "\n",
    "        return visited\n",
    "\n",
    "    def __str__(self):\n",
    "        return str(self.val)\n",
    "\n",
    "    @staticmethod\n",
    "    def from_array(nums: list[int|None]):\n",
    "        '''Create a Tree from a list of nums. Returns the root node.'''\n",
    "        if len(nums) == 0:\n",
    "            return None\n",
    "        elif len(nums) == 1:\n",
    "            return BinaryTreeNode(nums[0])\n",
    "        else:\n",
    "            forest = [BinaryTreeNode(nums[0])]\n",
    "            parent_idx = -1\n",
    "            for i in range(1, len(nums)):\n",
    "\n",
    "                curr = None\n",
    "                if nums[i] is not None:\n",
    "                    curr = BinaryTreeNode(nums[i])\n",
    "                    forest.append(curr)\n",
    "\n",
    "                if i % 2 == 1:\n",
    "                    parent_idx += 1\n",
    "                    forest[parent_idx].left = curr\n",
    "                else:\n",
    "                    forest[parent_idx].right = curr\n",
    "\n",
    "        return forest[0]"
   ]
  },
  {
   "cell_type": "markdown",
   "id": "f25563dc",
   "metadata": {
    "papermill": {
     "duration": 0.005508,
     "end_time": "2024-04-26T17:34:49.713740",
     "exception": false,
     "start_time": "2024-04-26T17:34:49.708232",
     "status": "completed"
    },
    "tags": []
   },
   "source": [
    "#### Helper for Singly Linked lists"
   ]
  },
  {
   "cell_type": "code",
   "execution_count": 3,
   "id": "5403a3fd",
   "metadata": {
    "execution": {
     "iopub.execute_input": "2024-04-26T17:34:49.726618Z",
     "iopub.status.busy": "2024-04-26T17:34:49.725940Z",
     "iopub.status.idle": "2024-04-26T17:34:49.732777Z",
     "shell.execute_reply": "2024-04-26T17:34:49.732012Z"
    },
    "lines_to_next_cell": 1,
    "papermill": {
     "duration": 0.015194,
     "end_time": "2024-04-26T17:34:49.734434",
     "exception": false,
     "start_time": "2024-04-26T17:34:49.719240",
     "status": "completed"
    },
    "tags": []
   },
   "outputs": [],
   "source": [
    "class ListNode:\n",
    "    def __init__(self, val=0, next=None):\n",
    "        self.val = val\n",
    "        self.next = next\n",
    "\n",
    "    def __str__(self):\n",
    "        return str(self.val)\n",
    "\n",
    "    @staticmethod\n",
    "    def to_singly_linked_list(nums: list[int]):\n",
    "        root = prev = None\n",
    "        for n in nums:\n",
    "            curr = ListNode(n)\n",
    "            # Init once\n",
    "            if not root:\n",
    "                root = curr\n",
    "            if prev:\n",
    "                prev.next = curr\n",
    "            prev = curr\n",
    "\n",
    "        return root\n",
    "\n",
    "    def to_list(self) -> list[int]:\n",
    "        result = []\n",
    "        curr = self\n",
    "        while curr:\n",
    "            result.append(curr.val)\n",
    "            curr = curr.next\n",
    "        return result"
   ]
  },
  {
   "cell_type": "markdown",
   "id": "9cb590dd",
   "metadata": {
    "papermill": {
     "duration": 0.005405,
     "end_time": "2024-04-26T17:34:49.745457",
     "exception": false,
     "start_time": "2024-04-26T17:34:49.740052",
     "status": "completed"
    },
    "tags": []
   },
   "source": [
    "#### Utility to generate random BST"
   ]
  },
  {
   "cell_type": "code",
   "execution_count": 4,
   "id": "d2d8c823",
   "metadata": {
    "execution": {
     "iopub.execute_input": "2024-04-26T17:34:49.758122Z",
     "iopub.status.busy": "2024-04-26T17:34:49.757350Z",
     "iopub.status.idle": "2024-04-26T17:34:49.764350Z",
     "shell.execute_reply": "2024-04-26T17:34:49.763687Z"
    },
    "lines_to_next_cell": 1,
    "papermill": {
     "duration": 0.015154,
     "end_time": "2024-04-26T17:34:49.766026",
     "exception": false,
     "start_time": "2024-04-26T17:34:49.750872",
     "status": "completed"
    },
    "tags": []
   },
   "outputs": [],
   "source": [
    "def generateBST(N: int, min_: int, max_: int) -> BinaryTreeNode|None:\n",
    "    def insert(curr: BinaryTreeNode|None, n: int) -> BinaryTreeNode:\n",
    "        if not curr:\n",
    "            curr = BinaryTreeNode(n)\n",
    "        elif curr.val < n:\n",
    "            curr.right = insert(curr.right, n)\n",
    "        else:\n",
    "            curr.left = insert(curr.left, n)\n",
    "\n",
    "        return curr\n",
    "\n",
    "    assert N <= max_ - min_, \"Number of available samples must be >= N\"\n",
    "    root: BinaryTreeNode|None = None\n",
    "    for n in np.random.choice(np.arange(min_, max_), size=N, replace=False):\n",
    "        root = insert(root, n)\n",
    "\n",
    "    return root"
   ]
  },
  {
   "cell_type": "markdown",
   "id": "5ae16de1",
   "metadata": {
    "papermill": {
     "duration": 0.005309,
     "end_time": "2024-04-26T17:34:49.776834",
     "exception": false,
     "start_time": "2024-04-26T17:34:49.771525",
     "status": "completed"
    },
    "tags": []
   },
   "source": [
    "GFG Jobathon: 32"
   ]
  },
  {
   "cell_type": "markdown",
   "id": "b420e590",
   "metadata": {
    "papermill": {
     "duration": 0.005484,
     "end_time": "2024-04-26T17:34:49.787911",
     "exception": false,
     "start_time": "2024-04-26T17:34:49.782427",
     "status": "completed"
    },
    "tags": []
   },
   "source": [
    "Q1: Lead Engineer"
   ]
  },
  {
   "cell_type": "code",
   "execution_count": 5,
   "id": "e632458b",
   "metadata": {
    "execution": {
     "iopub.execute_input": "2024-04-26T17:34:49.800445Z",
     "iopub.status.busy": "2024-04-26T17:34:49.799744Z",
     "iopub.status.idle": "2024-04-26T17:34:49.805098Z",
     "shell.execute_reply": "2024-04-26T17:34:49.804410Z"
    },
    "lines_to_next_cell": 1,
    "papermill": {
     "duration": 0.013628,
     "end_time": "2024-04-26T17:34:49.806825",
     "exception": false,
     "start_time": "2024-04-26T17:34:49.793197",
     "status": "completed"
    },
    "tags": []
   },
   "outputs": [],
   "source": [
    "def leadOptions(self, N : int, E : List[int]) -> int:\n",
    "    maxE: tuple[int, int] = -1, 0\n",
    "    for exp in E:\n",
    "        if exp == maxE[0]:\n",
    "            maxE = maxE[0], maxE[1] + 1\n",
    "        if exp > maxE[0]:\n",
    "            maxE = exp, 0\n",
    "\n",
    "    return maxE[1]"
   ]
  },
  {
   "cell_type": "markdown",
   "id": "6b67334f",
   "metadata": {
    "papermill": {
     "duration": 0.005264,
     "end_time": "2024-04-26T17:34:49.817582",
     "exception": false,
     "start_time": "2024-04-26T17:34:49.812318",
     "status": "completed"
    },
    "tags": []
   },
   "source": [
    "Codeforces: 20/C (Dijkstra)"
   ]
  },
  {
   "cell_type": "code",
   "execution_count": 6,
   "id": "a165d425",
   "metadata": {
    "execution": {
     "iopub.execute_input": "2024-04-26T17:34:49.830153Z",
     "iopub.status.busy": "2024-04-26T17:34:49.829514Z",
     "iopub.status.idle": "2024-04-26T17:34:49.840718Z",
     "shell.execute_reply": "2024-04-26T17:34:49.839944Z"
    },
    "lines_to_next_cell": 1,
    "papermill": {
     "duration": 0.019522,
     "end_time": "2024-04-26T17:34:49.842510",
     "exception": false,
     "start_time": "2024-04-26T17:34:49.822988",
     "status": "completed"
    },
    "tags": []
   },
   "outputs": [],
   "source": [
    "def dijkstra(src: int, adjl: dict[int, list[tuple[int, int]]]) -> dict[int, tuple[float, int]]:\n",
    "    heap: list[tuple[int, int, int]] = [(1, src, 1)]\n",
    "    shortest: dict[int, tuple[float, int]] = dict()\n",
    "    while heap:\n",
    "        curr_dist, curr, prev = heapq.heappop(heap)\n",
    "        if curr not in shortest or curr_dist < shortest[curr][0]:\n",
    "            shortest[curr] = (curr_dist, prev)\n",
    "            for next_, next_dist in adjl.get(curr, []):\n",
    "                heapq.heappush(heap, (curr_dist + next_dist, next_, curr))\n",
    "\n",
    "    return shortest\n",
    "\n",
    "def twentyC(V: int, E: int, edges: list[tuple[int, int, int]]) -> str:\n",
    "    adjl: dict[int, list[tuple[int, int]]] = dict()\n",
    "    for n1, n2, d in edges:\n",
    "        n1_neighbours, n2_neighbours = adjl.get(n1, []), adjl.get(n2, [])\n",
    "        n1_neighbours.append((n2, d))\n",
    "        n2_neighbours.append((n1, d))\n",
    "        adjl[n1], adjl[n2] = n1_neighbours, n2_neighbours\n",
    "\n",
    "    paths = dijkstra(1, adjl)\n",
    "    if V in paths:\n",
    "        result: list[int] = [V]\n",
    "        curr = V\n",
    "        while curr != 1:\n",
    "            dist, prev = paths[curr]\n",
    "            result.append(prev)\n",
    "            curr = prev\n",
    "\n",
    "        result.reverse()\n",
    "        return ' '.join(map(str, result))\n",
    "    else:\n",
    "        return '-1'\n",
    "\n",
    "# Testing the solution\n",
    "assert twentyC(5, 5, [(1, 2, 2), (2, 5, 5), (2, 3, 4), (1, 4, 1), (4, 3, 3), (3, 5, 1)]) == '1 4 3 5'"
   ]
  },
  {
   "cell_type": "markdown",
   "id": "a4263f01",
   "metadata": {
    "papermill": {
     "duration": 0.005334,
     "end_time": "2024-04-26T17:34:49.853431",
     "exception": false,
     "start_time": "2024-04-26T17:34:49.848097",
     "status": "completed"
    },
    "tags": []
   },
   "source": [
    "LC Medium: Course Schedule 2"
   ]
  },
  {
   "cell_type": "code",
   "execution_count": 7,
   "id": "eb152abe",
   "metadata": {
    "execution": {
     "iopub.execute_input": "2024-04-26T17:34:49.865754Z",
     "iopub.status.busy": "2024-04-26T17:34:49.865460Z",
     "iopub.status.idle": "2024-04-26T17:34:49.876645Z",
     "shell.execute_reply": "2024-04-26T17:34:49.875923Z"
    },
    "lines_to_next_cell": 1,
    "papermill": {
     "duration": 0.019534,
     "end_time": "2024-04-26T17:34:49.878372",
     "exception": false,
     "start_time": "2024-04-26T17:34:49.858838",
     "status": "completed"
    },
    "tags": []
   },
   "outputs": [],
   "source": [
    "# https://leetcode.com/problems/course-schedule-ii/submissions/1239496066\n",
    "def findOrder(numCourses: int, prerequisites: list[list[int]]) -> list[int]:\n",
    "    adjl: dict[int, list[int]] = dict()\n",
    "    for c1, c2 in prerequisites:\n",
    "        # To take up C1, C2 must be done already\n",
    "        c1_neighbours: list[int] = adjl.get(c1, [])\n",
    "        c1_neighbours.append(c2)\n",
    "        adjl[c1] = c1_neighbours\n",
    "\n",
    "    paths: dict[int, list[int]] = dict()\n",
    "    def getOrdering(curr: int, visited: set[int] = set()) -> list[int]:\n",
    "        if curr in paths:\n",
    "            return paths[curr]\n",
    "        elif curr in visited:\n",
    "            return []\n",
    "        else:\n",
    "            result: list[int] = [curr]\n",
    "            visited.add(curr)\n",
    "            for next_ in adjl.get(curr, []):\n",
    "                deps: list[int] = getOrdering(next_, visited)\n",
    "                if not deps:\n",
    "                    return []\n",
    "                else:\n",
    "                    result.extend(deps)\n",
    "\n",
    "            visited.remove(curr)\n",
    "            paths[curr] = result\n",
    "            return result\n",
    "\n",
    "    # Courses are ordered from 0 to numCourses - 1\n",
    "    result: list[int] = []\n",
    "    completed: set[int] = set()\n",
    "    for course in range(numCourses):\n",
    "        deps = getOrdering(course)\n",
    "        deps.reverse()\n",
    "        if not deps:\n",
    "            return []\n",
    "        else:\n",
    "            for dep in deps:\n",
    "                if dep not in completed:\n",
    "                    completed.add(dep)\n",
    "                    result.append(dep)\n",
    "\n",
    "    return result\n",
    "\n",
    "# Testing the solution\n",
    "assert findOrder(4, [[1,0], [2,0], [3,1], [3,2]]) in ([0,1,2,3], [0,2,1,3])\n",
    "assert findOrder(5, [[1,0], [2,0], [3,4], [4,3]]) == []"
   ]
  },
  {
   "cell_type": "markdown",
   "id": "ca3a0889",
   "metadata": {
    "papermill": {
     "duration": 0.005549,
     "end_time": "2024-04-26T17:34:49.889717",
     "exception": false,
     "start_time": "2024-04-26T17:34:49.884168",
     "status": "completed"
    },
    "tags": []
   },
   "source": [
    "LC Medium: Course Schedule 1 (DFS)"
   ]
  },
  {
   "cell_type": "code",
   "execution_count": 8,
   "id": "bdeaef7f",
   "metadata": {
    "execution": {
     "iopub.execute_input": "2024-04-26T17:34:49.902345Z",
     "iopub.status.busy": "2024-04-26T17:34:49.901799Z",
     "iopub.status.idle": "2024-04-26T17:34:49.912283Z",
     "shell.execute_reply": "2024-04-26T17:34:49.911581Z"
    },
    "lines_to_next_cell": 1,
    "papermill": {
     "duration": 0.018785,
     "end_time": "2024-04-26T17:34:49.914020",
     "exception": false,
     "start_time": "2024-04-26T17:34:49.895235",
     "status": "completed"
    },
    "tags": []
   },
   "outputs": [],
   "source": [
    "# https://leetcode.com/problems/course-schedule/submissions/1240858033/\n",
    "def canFinish(numCourses: int, prerequisites: list[list[int]]) -> bool:\n",
    "    # Convert pre-req to adj list\n",
    "    adj: dict[int, list[int]] = dict()\n",
    "    for n1, n2 in prerequisites:\n",
    "        n1_neighbours = adj.get(n1, [])\n",
    "        n1_neighbours.append(n2)\n",
    "        adj[n1] = n1_neighbours\n",
    "\n",
    "    # DFS Algorithm to check for cycles\n",
    "    def hasCycle(curr: int, paths: set[int] = set()) -> bool:\n",
    "        if curr in paths:\n",
    "            return True\n",
    "        elif curr in visited:\n",
    "            return False\n",
    "        else:\n",
    "            visited.add(curr)\n",
    "            paths.add(curr)\n",
    "            for next_ in adj.get(curr, []):\n",
    "                if hasCycle(next_, paths):\n",
    "                    return True\n",
    "            paths.remove(curr)\n",
    "            return False\n",
    "\n",
    "    visited: set[int] = set()\n",
    "    for curr in range(numCourses):\n",
    "        if hasCycle(curr):\n",
    "            return False\n",
    "    else:\n",
    "        return True\n",
    "\n",
    "# Testing the solution\n",
    "assert canFinish(2, [[1,0]]) == True\n",
    "assert canFinish(2, [[1,0],[0,1]]) == False"
   ]
  },
  {
   "cell_type": "markdown",
   "id": "2113dbd0",
   "metadata": {
    "papermill": {
     "duration": 0.005362,
     "end_time": "2024-04-26T17:34:49.925298",
     "exception": false,
     "start_time": "2024-04-26T17:34:49.919936",
     "status": "completed"
    },
    "tags": []
   },
   "source": [
    "Shortest path in undirected graph with unit weights"
   ]
  },
  {
   "cell_type": "code",
   "execution_count": 9,
   "id": "de8ecf19",
   "metadata": {
    "execution": {
     "iopub.execute_input": "2024-04-26T17:34:49.937760Z",
     "iopub.status.busy": "2024-04-26T17:34:49.937385Z",
     "iopub.status.idle": "2024-04-26T17:34:49.946181Z",
     "shell.execute_reply": "2024-04-26T17:34:49.945423Z"
    },
    "lines_to_next_cell": 1,
    "papermill": {
     "duration": 0.017167,
     "end_time": "2024-04-26T17:34:49.947933",
     "exception": false,
     "start_time": "2024-04-26T17:34:49.930766",
     "status": "completed"
    },
    "tags": []
   },
   "outputs": [],
   "source": [
    "def shortestPathUG(n: int, edges: list[tuple[int, int]], src: int) -> list[int]:\n",
    "    # Create an adj list\n",
    "    adj: dict[int, list[int]] = dict()\n",
    "    for n1, n2 in edges:\n",
    "        n1_neighbours, n2_neighbours = adj.get(n1, []), adj.get(n2, [])\n",
    "        n1_neighbours.append(n2)\n",
    "        n2_neighbours.append(n1)\n",
    "        adj[n1], adj[n2] = n1_neighbours, n2_neighbours\n",
    "\n",
    "    shortest: list[int] = [-1 for _ in range(n)]\n",
    "    heap: list[tuple[int, int]] = [(0, src)]\n",
    "    while heap:\n",
    "        curr_dist, curr = heapq.heappop(heap)\n",
    "        shortest[curr] = curr_dist if shortest[curr] == -1 or shortest[curr] > curr_dist else shortest[curr]\n",
    "        for next_ in adj.get(curr, []):\n",
    "            if shortest[next_] == -1 or curr_dist + 1 < shortest[next_]:\n",
    "                heapq.heappush(heap, (curr_dist + 1, next_))\n",
    "\n",
    "    return shortest\n",
    "\n",
    "# Testing the solution\n",
    "assert shortestPathUG(5, [(0, 1), (1, 4), (2, 3), (2, 4), (3, 4)], 1) == [1, 0, 2, 2, 1]"
   ]
  },
  {
   "cell_type": "markdown",
   "id": "765658c5",
   "metadata": {
    "papermill": {
     "duration": 0.005511,
     "end_time": "2024-04-26T17:34:49.959027",
     "exception": false,
     "start_time": "2024-04-26T17:34:49.953516",
     "status": "completed"
    },
    "tags": []
   },
   "source": [
    "Shortest path in DAG"
   ]
  },
  {
   "cell_type": "code",
   "execution_count": 10,
   "id": "c7e19951",
   "metadata": {
    "execution": {
     "iopub.execute_input": "2024-04-26T17:34:49.971718Z",
     "iopub.status.busy": "2024-04-26T17:34:49.971045Z",
     "iopub.status.idle": "2024-04-26T17:34:49.979806Z",
     "shell.execute_reply": "2024-04-26T17:34:49.979111Z"
    },
    "lines_to_next_cell": 1,
    "papermill": {
     "duration": 0.017038,
     "end_time": "2024-04-26T17:34:49.981475",
     "exception": false,
     "start_time": "2024-04-26T17:34:49.964437",
     "status": "completed"
    },
    "tags": []
   },
   "outputs": [],
   "source": [
    "def shortestPathInDAG(N: int, M: int, edges: list[list[int]]) -> list[int]:\n",
    "    # Create an adj list\n",
    "    adj: dict[int, list[tuple[int, int]]] = dict()\n",
    "    for n1, n2, w in edges:\n",
    "        n1_neighbours = adj.get(n1, [])\n",
    "        n1_neighbours.append((n2, w))\n",
    "        adj[n1] = n1_neighbours\n",
    "\n",
    "    # Dijkstra's algo!\n",
    "    shortest: list[int] = [-1 for _ in range(N)]\n",
    "    heap: list[tuple[int, int]] = [(0, 0)]\n",
    "    while heap:\n",
    "        curr_dist, curr = heapq.heappop(heap)\n",
    "        if shortest[curr] == -1 or curr_dist < shortest[curr]:\n",
    "            shortest[curr] = curr_dist\n",
    "            for next_, next_dist in adj.get(curr, []):\n",
    "                heapq.heappush(heap, (next_dist + curr_dist, next_))\n",
    "\n",
    "    return shortest\n",
    "\n",
    "# Testing the solution\n",
    "assert shortestPathInDAG(3, 3, [[0,1,2], [1,2,3], [0,2,6]]) == [0, 2, 5]\n",
    "assert shortestPathInDAG(3, 3, [[2,0,4],[0,1,3],[2,1,2]]) == [0, 3, -1]"
   ]
  },
  {
   "cell_type": "markdown",
   "id": "36a13aa2",
   "metadata": {
    "papermill": {
     "duration": 0.006226,
     "end_time": "2024-04-26T17:34:49.993523",
     "exception": false,
     "start_time": "2024-04-26T17:34:49.987297",
     "status": "completed"
    },
    "tags": []
   },
   "source": [
    "LC Hard: Word Ladder"
   ]
  },
  {
   "cell_type": "code",
   "execution_count": 11,
   "id": "30ef6d16",
   "metadata": {
    "execution": {
     "iopub.execute_input": "2024-04-26T17:34:50.007282Z",
     "iopub.status.busy": "2024-04-26T17:34:50.006704Z",
     "iopub.status.idle": "2024-04-26T17:34:50.017778Z",
     "shell.execute_reply": "2024-04-26T17:34:50.017019Z"
    },
    "lines_to_next_cell": 1,
    "papermill": {
     "duration": 0.019724,
     "end_time": "2024-04-26T17:34:50.019605",
     "exception": false,
     "start_time": "2024-04-26T17:34:49.999881",
     "status": "completed"
    },
    "tags": []
   },
   "outputs": [],
   "source": [
    "# https://leetcode.com/problems/word-ladder/submissions/1241826378\n",
    "def ladderLengthBrute(beginWord: str, endWord: str, wordList: list[str]) -> int:\n",
    "    def pathExists(w1: str, w2: str) -> bool:\n",
    "        N, i = len(w1), 0\n",
    "        dist = 0\n",
    "        while i < N:\n",
    "            if w1[i] != w2[i]:\n",
    "                dist += 1\n",
    "            if dist > 1:\n",
    "                break\n",
    "            i += 1\n",
    "\n",
    "        return dist == 1\n",
    "\n",
    "    def BFS(root: str):\n",
    "        queue: collections.deque = collections.deque([root])\n",
    "        distances[root] = 0\n",
    "        while queue:\n",
    "            curr = queue.popleft()\n",
    "            for next_ in adj.get(curr, []):\n",
    "                if next_ not in distances or distances[next_] > distances[curr] + 1:\n",
    "                    distances[next_] = distances[curr] + 1\n",
    "                    queue.append(next_)\n",
    "                    if next_ == endWord:\n",
    "                        return\n",
    "\n",
    "    # Create an adjacency list\n",
    "    adj: dict[str, list[str]] = dict()\n",
    "    for w1, w2 in itertools.combinations([beginWord] + wordList, r=2):\n",
    "        if pathExists(w1, w2):\n",
    "            w1_neighbours, w2_neighbours = adj.get(w1, []), adj.get(w2, [])\n",
    "            w1_neighbours.append(w2)\n",
    "            w2_neighbours.append(w1)\n",
    "            adj[w1], adj[w2] = w1_neighbours, w2_neighbours\n",
    "\n",
    "    distances: dict[str, int] = dict()\n",
    "    BFS(beginWord)\n",
    "    return distances[endWord] + 1 if endWord in distances else 0\n",
    "\n",
    "# Testing the solution\n",
    "assert ladderLengthBrute(\"hit\", \"cog\", [\"hot\",\"dot\",\"dog\",\"lot\",\"log\",\"cog\"]) == 5\n",
    "assert ladderLengthBrute(\"hit\", \"cog\", [\"hot\",\"dot\",\"dog\",\"lot\",\"log\"]) == 0"
   ]
  },
  {
   "cell_type": "markdown",
   "id": "a8ca8c27",
   "metadata": {
    "papermill": {
     "duration": 0.00545,
     "end_time": "2024-04-26T17:34:50.031744",
     "exception": false,
     "start_time": "2024-04-26T17:34:50.026294",
     "status": "completed"
    },
    "tags": []
   },
   "source": [
    "LC Hard: Word Ladder - 2: https://leetcode.com/problems/word-ladder-ii/"
   ]
  },
  {
   "cell_type": "code",
   "execution_count": 12,
   "id": "e55a5c30",
   "metadata": {
    "execution": {
     "iopub.execute_input": "2024-04-26T17:34:50.044742Z",
     "iopub.status.busy": "2024-04-26T17:34:50.044090Z",
     "iopub.status.idle": "2024-04-26T17:34:50.059475Z",
     "shell.execute_reply": "2024-04-26T17:34:50.058784Z"
    },
    "papermill": {
     "duration": 0.023949,
     "end_time": "2024-04-26T17:34:50.061187",
     "exception": false,
     "start_time": "2024-04-26T17:34:50.037238",
     "status": "completed"
    },
    "tags": []
   },
   "outputs": [],
   "source": [
    "# TLE :(\n",
    "def findLadders(beginWord: str, endWord: str, wordList: list[str]) -> list[list[str]]:\n",
    "    # BFS traversal to get the list of all shortest prev nodes\n",
    "    N = len(beginWord)\n",
    "    wordMap: dict[str, tuple[float, set[str]]] = {word: (math.inf, set()) for word in wordList}\n",
    "    wordMap[beginWord] = (0, set())\n",
    "    queue: collections.deque[tuple[str, int, str|None]] = collections.deque([(beginWord, 0, None)])\n",
    "    while queue:\n",
    "        curr, dist, prev = queue.popleft()\n",
    "        for i in range(N):\n",
    "            for j in range(ord('a'), ord('z') + 1):\n",
    "                next_ = curr[:i] + chr(j) + curr[i + 1:]\n",
    "                if next_ in wordMap:\n",
    "                    next_dist, prevs = wordMap[next_]\n",
    "                    if dist + 1 < next_dist:\n",
    "                        prevs = set([curr])\n",
    "                        next_dist = dist + 1\n",
    "                        queue.append((next_, dist + 1, curr))\n",
    "                    elif dist + 1 == next_dist:\n",
    "                        prevs.add(curr)\n",
    "                        queue.append((next_, dist + 1, curr))\n",
    "\n",
    "                    wordMap[next_] = next_dist, prevs\n",
    "\n",
    "    # Reverse the edges\n",
    "    adj: dict[str, set[str]] = dict()\n",
    "    for k, v in wordMap.items():\n",
    "        n1, n1_neighbours = k, v[1]\n",
    "        for n2 in n1_neighbours:\n",
    "            n2_neighbours = adj.get(n2, set())\n",
    "            n2_neighbours.add(n1)\n",
    "            adj[n2] = n2_neighbours\n",
    "\n",
    "    # Do any traversal to get the final result\n",
    "    results: list[list[str]] = []\n",
    "    def DFS(root: str, paths: list[str]):\n",
    "        paths.append(root)\n",
    "        if root == endWord:\n",
    "            results.append(list(paths))\n",
    "        else:\n",
    "            for next_ in adj.get(root, set()):\n",
    "                DFS(next_, paths)\n",
    "        paths.pop()\n",
    "\n",
    "    DFS(beginWord, [])\n",
    "    return sorted(results)\n",
    "\n",
    "# Testing the solution\n",
    "assert findLadders(\"hit\", \"cog\", [\"hot\",\"dot\",\"dog\",\"lot\",\"log\",\"cog\"]) == [['hit', 'hot', 'dot', 'dog', 'cog'], ['hit', 'hot', 'lot', 'log', 'cog']]\n",
    "assert findLadders(\"hit\", \"cog\", [\"hot\",\"dot\",\"dog\",\"lot\",\"log\"]) == []\n",
    "assert findLadders(\"a\", \"c\", [\"a\", \"b\", \"c\"]) == [[\"a\", \"c\"]]\n",
    "assert findLadders(\"red\", \"tax\", [\"ted\",\"tex\",\"red\",\"tax\",\"tad\",\"den\",\"rex\",\"pee\"]) == [['red', 'rex', 'tex', 'tax'],['red', 'ted', 'tad', 'tax'],['red', 'ted', 'tex', 'tax']]"
   ]
  }
 ],
 "metadata": {
  "kernelspec": {
   "display_name": "Python 3 (ipykernel)",
   "language": "python",
   "name": "python3"
  },
  "language_info": {
   "codemirror_mode": {
    "name": "ipython",
    "version": 3
   },
   "file_extension": ".py",
   "mimetype": "text/x-python",
   "name": "python",
   "nbconvert_exporter": "python",
   "pygments_lexer": "ipython3",
   "version": "3.10.14"
  },
  "papermill": {
   "default_parameters": {},
   "duration": 2.228311,
   "end_time": "2024-04-26T17:34:50.285898",
   "environment_variables": {},
   "exception": null,
   "input_path": "practice/002.ipynb",
   "output_path": "practice/002.ipynb",
   "parameters": {},
   "start_time": "2024-04-26T17:34:48.057587",
   "version": "2.5.0"
  }
 },
 "nbformat": 4,
 "nbformat_minor": 5
}