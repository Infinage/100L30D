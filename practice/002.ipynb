{
 "cells": [
  {
   "cell_type": "code",
   "execution_count": 1,
   "id": "337a233c",
   "metadata": {
    "execution": {
     "iopub.execute_input": "2024-04-24T16:22:26.580130Z",
     "iopub.status.busy": "2024-04-24T16:22:26.579396Z",
     "iopub.status.idle": "2024-04-24T16:22:27.090685Z",
     "shell.execute_reply": "2024-04-24T16:22:27.089861Z"
    },
    "papermill": {
     "duration": 0.519151,
     "end_time": "2024-04-24T16:22:27.092835",
     "exception": false,
     "start_time": "2024-04-24T16:22:26.573684",
     "status": "completed"
    },
    "tags": []
   },
   "outputs": [],
   "source": [
    "from typing import List, Optional, Generator\n",
    "import pandas as pd\n",
    "import numpy as np\n",
    "import sqlite3\n",
    "import re\n",
    "import io\n",
    "import math\n",
    "import collections\n",
    "import itertools\n",
    "import functools\n",
    "import random\n",
    "import string\n",
    "import tqdm\n",
    "import bisect\n",
    "import heapq\n",
    "\n",
    "conn = sqlite3.connect(\":memory:\")\n",
    "\n",
    "def regexp(expr, item):\n",
    "    reg = re.compile(expr)\n",
    "    return reg.search(item) is not None\n",
    "\n",
    "def read_lc_df(s: str, dtypes: dict[str, str]=dict()) -> pd.DataFrame:\n",
    "    temp = pd.read_csv(io.StringIO(s), sep=\"|\", skiprows=2)\n",
    "    temp = temp.iloc[1:-1, 1:-1]\n",
    "    temp.columns = temp.columns.map(str.strip)\n",
    "    temp = temp.map(lambda x: x if type(x) != str else None if x.strip() == 'null' else x.strip())\n",
    "    temp = temp.astype(dtypes)\n",
    "    return temp\n",
    "\n",
    "conn.create_function(\"REGEXP\", 2, regexp)"
   ]
  },
  {
   "cell_type": "markdown",
   "id": "a97299f5",
   "metadata": {
    "papermill": {
     "duration": 0.003854,
     "end_time": "2024-04-24T16:22:27.101043",
     "exception": false,
     "start_time": "2024-04-24T16:22:27.097189",
     "status": "completed"
    },
    "tags": []
   },
   "source": [
    "#### Helper for Binary tree problems"
   ]
  },
  {
   "cell_type": "code",
   "execution_count": 2,
   "id": "e9415fef",
   "metadata": {
    "execution": {
     "iopub.execute_input": "2024-04-24T16:22:27.109778Z",
     "iopub.status.busy": "2024-04-24T16:22:27.109465Z",
     "iopub.status.idle": "2024-04-24T16:22:27.119957Z",
     "shell.execute_reply": "2024-04-24T16:22:27.119203Z"
    },
    "lines_to_next_cell": 1,
    "papermill": {
     "duration": 0.016878,
     "end_time": "2024-04-24T16:22:27.121661",
     "exception": false,
     "start_time": "2024-04-24T16:22:27.104783",
     "status": "completed"
    },
    "tags": []
   },
   "outputs": [],
   "source": [
    "class BinaryTreeNode:\n",
    "    def __init__(self, val=0, left=None, right=None):\n",
    "        self.val = val\n",
    "        self.left = left\n",
    "        self.right = right\n",
    "\n",
    "    def to_list(self):\n",
    "        to_visit = [self]\n",
    "        visited = []\n",
    "        while len(to_visit) > 0:\n",
    "            curr = to_visit.pop(0)\n",
    "            if curr:\n",
    "                to_visit.append(curr.left)\n",
    "                to_visit.append(curr.right)\n",
    "                visited.append(curr.val)\n",
    "            else:\n",
    "                visited.append(curr)\n",
    "\n",
    "        while visited and not visited[-1]:\n",
    "            visited.pop()\n",
    "\n",
    "        return visited\n",
    "\n",
    "    def __str__(self):\n",
    "        return str(self.val)\n",
    "\n",
    "    @staticmethod\n",
    "    def from_array(nums: list[int|None]):\n",
    "        '''Create a Tree from a list of nums. Returns the root node.'''\n",
    "        if len(nums) == 0:\n",
    "            return None\n",
    "        elif len(nums) == 1:\n",
    "            return BinaryTreeNode(nums[0])\n",
    "        else:\n",
    "            forest = [BinaryTreeNode(nums[0])]\n",
    "            parent_idx = -1\n",
    "            for i in range(1, len(nums)):\n",
    "\n",
    "                curr = None\n",
    "                if nums[i] is not None:\n",
    "                    curr = BinaryTreeNode(nums[i])\n",
    "                    forest.append(curr)\n",
    "\n",
    "                if i % 2 == 1:\n",
    "                    parent_idx += 1\n",
    "                    forest[parent_idx].left = curr\n",
    "                else:\n",
    "                    forest[parent_idx].right = curr\n",
    "\n",
    "        return forest[0]"
   ]
  },
  {
   "cell_type": "markdown",
   "id": "f25563dc",
   "metadata": {
    "papermill": {
     "duration": 0.003781,
     "end_time": "2024-04-24T16:22:27.129285",
     "exception": false,
     "start_time": "2024-04-24T16:22:27.125504",
     "status": "completed"
    },
    "tags": []
   },
   "source": [
    "#### Helper for Singly Linked lists"
   ]
  },
  {
   "cell_type": "code",
   "execution_count": 3,
   "id": "5403a3fd",
   "metadata": {
    "execution": {
     "iopub.execute_input": "2024-04-24T16:22:27.138243Z",
     "iopub.status.busy": "2024-04-24T16:22:27.137714Z",
     "iopub.status.idle": "2024-04-24T16:22:27.144571Z",
     "shell.execute_reply": "2024-04-24T16:22:27.143822Z"
    },
    "lines_to_next_cell": 1,
    "papermill": {
     "duration": 0.01318,
     "end_time": "2024-04-24T16:22:27.146264",
     "exception": false,
     "start_time": "2024-04-24T16:22:27.133084",
     "status": "completed"
    },
    "tags": []
   },
   "outputs": [],
   "source": [
    "class ListNode:\n",
    "    def __init__(self, val=0, next=None):\n",
    "        self.val = val\n",
    "        self.next = next\n",
    "\n",
    "    def __str__(self):\n",
    "        return str(self.val)\n",
    "\n",
    "    @staticmethod\n",
    "    def to_singly_linked_list(nums: list[int]):\n",
    "        root = prev = None\n",
    "        for n in nums:\n",
    "            curr = ListNode(n)\n",
    "            # Init once\n",
    "            if not root:\n",
    "                root = curr\n",
    "            if prev:\n",
    "                prev.next = curr\n",
    "            prev = curr\n",
    "\n",
    "        return root\n",
    "\n",
    "    def to_list(self) -> list[int]:\n",
    "        result = []\n",
    "        curr = self\n",
    "        while curr:\n",
    "            result.append(curr.val)\n",
    "            curr = curr.next\n",
    "        return result"
   ]
  },
  {
   "cell_type": "markdown",
   "id": "9cb590dd",
   "metadata": {
    "papermill": {
     "duration": 0.003678,
     "end_time": "2024-04-24T16:22:27.153709",
     "exception": false,
     "start_time": "2024-04-24T16:22:27.150031",
     "status": "completed"
    },
    "tags": []
   },
   "source": [
    "#### Utility to generate random BST"
   ]
  },
  {
   "cell_type": "code",
   "execution_count": 4,
   "id": "d2d8c823",
   "metadata": {
    "execution": {
     "iopub.execute_input": "2024-04-24T16:22:27.162564Z",
     "iopub.status.busy": "2024-04-24T16:22:27.161943Z",
     "iopub.status.idle": "2024-04-24T16:22:27.168490Z",
     "shell.execute_reply": "2024-04-24T16:22:27.167752Z"
    },
    "lines_to_next_cell": 1,
    "papermill": {
     "duration": 0.012656,
     "end_time": "2024-04-24T16:22:27.170158",
     "exception": false,
     "start_time": "2024-04-24T16:22:27.157502",
     "status": "completed"
    },
    "tags": []
   },
   "outputs": [],
   "source": [
    "def generateBST(N: int, min_: int, max_: int) -> BinaryTreeNode|None:\n",
    "    def insert(curr: BinaryTreeNode|None, n: int) -> BinaryTreeNode:\n",
    "        if not curr:\n",
    "            curr = BinaryTreeNode(n)\n",
    "        elif curr.val < n:\n",
    "            curr.right = insert(curr.right, n)\n",
    "        else:\n",
    "            curr.left = insert(curr.left, n)\n",
    "\n",
    "        return curr\n",
    "\n",
    "    assert N <= max_ - min_, \"Number of available samples must be >= N\"\n",
    "    root: BinaryTreeNode|None = None\n",
    "    for n in np.random.choice(np.arange(min_, max_), size=N, replace=False):\n",
    "        root = insert(root, n)\n",
    "\n",
    "    return root"
   ]
  },
  {
   "cell_type": "markdown",
   "id": "5ae16de1",
   "metadata": {
    "papermill": {
     "duration": 0.003745,
     "end_time": "2024-04-24T16:22:27.177746",
     "exception": false,
     "start_time": "2024-04-24T16:22:27.174001",
     "status": "completed"
    },
    "tags": []
   },
   "source": [
    "GFG Jobathon: 32"
   ]
  },
  {
   "cell_type": "markdown",
   "id": "b420e590",
   "metadata": {
    "papermill": {
     "duration": 0.005211,
     "end_time": "2024-04-24T16:22:27.193454",
     "exception": false,
     "start_time": "2024-04-24T16:22:27.188243",
     "status": "completed"
    },
    "tags": []
   },
   "source": [
    "Q1: Lead Engineer"
   ]
  },
  {
   "cell_type": "code",
   "execution_count": 5,
   "id": "e632458b",
   "metadata": {
    "execution": {
     "iopub.execute_input": "2024-04-24T16:22:27.220335Z",
     "iopub.status.busy": "2024-04-24T16:22:27.219728Z",
     "iopub.status.idle": "2024-04-24T16:22:27.226106Z",
     "shell.execute_reply": "2024-04-24T16:22:27.225332Z"
    },
    "lines_to_next_cell": 1,
    "papermill": {
     "duration": 0.029971,
     "end_time": "2024-04-24T16:22:27.228515",
     "exception": false,
     "start_time": "2024-04-24T16:22:27.198544",
     "status": "completed"
    },
    "tags": []
   },
   "outputs": [],
   "source": [
    "def leadOptions(self, N : int, E : List[int]) -> int:\n",
    "    maxE: tuple[int, int] = -1, 0\n",
    "    for exp in E:\n",
    "        if exp == maxE[0]:\n",
    "            maxE = maxE[0], maxE[1] + 1\n",
    "        if exp > maxE[0]:\n",
    "            maxE = exp, 0\n",
    "\n",
    "    return maxE[1]"
   ]
  },
  {
   "cell_type": "markdown",
   "id": "6b67334f",
   "metadata": {
    "papermill": {
     "duration": 0.006623,
     "end_time": "2024-04-24T16:22:27.241564",
     "exception": false,
     "start_time": "2024-04-24T16:22:27.234941",
     "status": "completed"
    },
    "tags": []
   },
   "source": [
    "Codeforces: 20/C (Dijkstra)"
   ]
  },
  {
   "cell_type": "code",
   "execution_count": 6,
   "id": "a165d425",
   "metadata": {
    "execution": {
     "iopub.execute_input": "2024-04-24T16:22:27.257757Z",
     "iopub.status.busy": "2024-04-24T16:22:27.257349Z",
     "iopub.status.idle": "2024-04-24T16:22:27.271074Z",
     "shell.execute_reply": "2024-04-24T16:22:27.270110Z"
    },
    "lines_to_next_cell": 1,
    "papermill": {
     "duration": 0.023806,
     "end_time": "2024-04-24T16:22:27.272987",
     "exception": false,
     "start_time": "2024-04-24T16:22:27.249181",
     "status": "completed"
    },
    "tags": []
   },
   "outputs": [],
   "source": [
    "def dijkstra(src: int, adjl: dict[int, list[tuple[int, int]]]) -> dict[int, tuple[float, int]]:\n",
    "    heap: list[tuple[int, int, int]] = [(1, src, 1)]\n",
    "    shortest: dict[int, tuple[float, int]] = dict()\n",
    "    while heap:\n",
    "        curr_dist, curr, prev = heapq.heappop(heap)\n",
    "        if curr not in shortest or curr_dist < shortest[curr][0]:\n",
    "            shortest[curr] = (curr_dist, prev)\n",
    "            for next_, next_dist in adjl.get(curr, []):\n",
    "                heapq.heappush(heap, (curr_dist + next_dist, next_, curr))\n",
    "\n",
    "    return shortest\n",
    "\n",
    "def twentyC(V: int, E: int, edges: list[tuple[int, int, int]]) -> str:\n",
    "    adjl: dict[int, list[tuple[int, int]]] = dict()\n",
    "    for n1, n2, d in edges:\n",
    "        n1_neighbours, n2_neighbours = adjl.get(n1, []), adjl.get(n2, [])\n",
    "        n1_neighbours.append((n2, d))\n",
    "        n2_neighbours.append((n1, d))\n",
    "        adjl[n1], adjl[n2] = n1_neighbours, n2_neighbours\n",
    "\n",
    "    paths = dijkstra(1, adjl)\n",
    "    if V in paths:\n",
    "        result: list[int] = [V]\n",
    "        curr = V\n",
    "        while curr != 1:\n",
    "            dist, prev = paths[curr]\n",
    "            result.append(prev)\n",
    "            curr = prev\n",
    "\n",
    "        result.reverse()\n",
    "        return ' '.join(map(str, result))\n",
    "    else:\n",
    "        return '-1'\n",
    "\n",
    "# Testing the solution\n",
    "assert twentyC(5, 5, [(1, 2, 2), (2, 5, 5), (2, 3, 4), (1, 4, 1), (4, 3, 3), (3, 5, 1)]) == '1 4 3 5'"
   ]
  },
  {
   "cell_type": "markdown",
   "id": "a4263f01",
   "metadata": {
    "papermill": {
     "duration": 0.008859,
     "end_time": "2024-04-24T16:22:27.287968",
     "exception": false,
     "start_time": "2024-04-24T16:22:27.279109",
     "status": "completed"
    },
    "tags": []
   },
   "source": [
    "LC Medium: Course Schedule 2"
   ]
  },
  {
   "cell_type": "code",
   "execution_count": 7,
   "id": "eb152abe",
   "metadata": {
    "execution": {
     "iopub.execute_input": "2024-04-24T16:22:27.303566Z",
     "iopub.status.busy": "2024-04-24T16:22:27.303056Z",
     "iopub.status.idle": "2024-04-24T16:22:27.318545Z",
     "shell.execute_reply": "2024-04-24T16:22:27.317653Z"
    },
    "lines_to_next_cell": 1,
    "papermill": {
     "duration": 0.02588,
     "end_time": "2024-04-24T16:22:27.320854",
     "exception": false,
     "start_time": "2024-04-24T16:22:27.294974",
     "status": "completed"
    },
    "tags": []
   },
   "outputs": [],
   "source": [
    "# https://leetcode.com/problems/course-schedule-ii/submissions/1239496066\n",
    "def findOrder(numCourses: int, prerequisites: list[list[int]]) -> list[int]:\n",
    "    adjl: dict[int, list[int]] = dict()\n",
    "    for c1, c2 in prerequisites:\n",
    "        # To take up C1, C2 must be done already\n",
    "        c1_neighbours: list[int] = adjl.get(c1, [])\n",
    "        c1_neighbours.append(c2)\n",
    "        adjl[c1] = c1_neighbours\n",
    "\n",
    "    paths: dict[int, list[int]] = dict()\n",
    "    def getOrdering(curr: int, visited: set[int] = set()) -> list[int]:\n",
    "        if curr in paths:\n",
    "            return paths[curr]\n",
    "        elif curr in visited:\n",
    "            return []\n",
    "        else:\n",
    "            result: list[int] = [curr]\n",
    "            visited.add(curr)\n",
    "            for next_ in adjl.get(curr, []):\n",
    "                deps: list[int] = getOrdering(next_, visited)\n",
    "                if not deps:\n",
    "                    return []\n",
    "                else:\n",
    "                    result.extend(deps)\n",
    "\n",
    "            visited.remove(curr)\n",
    "            paths[curr] = result\n",
    "            return result\n",
    "\n",
    "    # Courses are ordered from 0 to numCourses - 1\n",
    "    result: list[int] = []\n",
    "    completed: set[int] = set()\n",
    "    for course in range(numCourses):\n",
    "        deps = getOrdering(course)\n",
    "        deps.reverse()\n",
    "        if not deps:\n",
    "            return []\n",
    "        else:\n",
    "            for dep in deps:\n",
    "                if dep not in completed:\n",
    "                    completed.add(dep)\n",
    "                    result.append(dep)\n",
    "\n",
    "    return result\n",
    "\n",
    "# Testing the solution\n",
    "assert findOrder(4, [[1,0], [2,0], [3,1], [3,2]]) in ([0,1,2,3], [0,2,1,3])\n",
    "assert findOrder(5, [[1,0], [2,0], [3,4], [4,3]]) == []"
   ]
  },
  {
   "cell_type": "markdown",
   "id": "ca3a0889",
   "metadata": {
    "papermill": {
     "duration": 0.029168,
     "end_time": "2024-04-24T16:22:27.358191",
     "exception": false,
     "start_time": "2024-04-24T16:22:27.329023",
     "status": "completed"
    },
    "tags": []
   },
   "source": [
    "LC Medium: Course Schedule 1 (DFS)"
   ]
  },
  {
   "cell_type": "code",
   "execution_count": 8,
   "id": "bdeaef7f",
   "metadata": {
    "execution": {
     "iopub.execute_input": "2024-04-24T16:22:27.476044Z",
     "iopub.status.busy": "2024-04-24T16:22:27.475360Z",
     "iopub.status.idle": "2024-04-24T16:22:27.483846Z",
     "shell.execute_reply": "2024-04-24T16:22:27.483051Z"
    },
    "papermill": {
     "duration": 0.016355,
     "end_time": "2024-04-24T16:22:27.486084",
     "exception": false,
     "start_time": "2024-04-24T16:22:27.469729",
     "status": "completed"
    },
    "tags": []
   },
   "outputs": [],
   "source": [
    "# https://leetcode.com/problems/course-schedule/submissions/1240858033/\n",
    "def canFinish(numCourses: int, prerequisites: list[list[int]]) -> bool:\n",
    "    # Convert pre-req to adj list\n",
    "    adj: dict[int, list[int]] = dict()\n",
    "    for n1, n2 in prerequisites:\n",
    "        n1_neighbours = adj.get(n1, [])\n",
    "        n1_neighbours.append(n2)\n",
    "        adj[n1] = n1_neighbours\n",
    "\n",
    "    # DFS Algorithm to check for cycles\n",
    "    def hasCycle(curr: int, paths: set[int] = set()) -> bool:\n",
    "        if curr in paths:\n",
    "            return True\n",
    "        elif curr in visited:\n",
    "            return False\n",
    "        else:\n",
    "            visited.add(curr)\n",
    "            paths.add(curr)\n",
    "            for next_ in adj.get(curr, []):\n",
    "                if hasCycle(next_, paths):\n",
    "                    return True\n",
    "            paths.remove(curr)\n",
    "            return False\n",
    "\n",
    "    visited: set[int] = set()\n",
    "    for curr in range(numCourses):\n",
    "        if hasCycle(curr):\n",
    "            return False\n",
    "    else:\n",
    "        return True\n",
    "\n",
    "# Testing the solution\n",
    "assert canFinish(2, [[1,0]]) == True\n",
    "assert canFinish(2, [[1,0],[0,1]]) == False"
   ]
  }
 ],
 "metadata": {
  "kernelspec": {
   "display_name": "Python 3 (ipykernel)",
   "language": "python",
   "name": "python3"
  },
  "language_info": {
   "codemirror_mode": {
    "name": "ipython",
    "version": 3
   },
   "file_extension": ".py",
   "mimetype": "text/x-python",
   "name": "python",
   "nbconvert_exporter": "python",
   "pygments_lexer": "ipython3",
   "version": "3.10.14"
  },
  "papermill": {
   "default_parameters": {},
   "duration": 2.176455,
   "end_time": "2024-04-24T16:22:27.707315",
   "environment_variables": {},
   "exception": null,
   "input_path": "practice/002.ipynb",
   "output_path": "practice/002.ipynb",
   "parameters": {},
   "start_time": "2024-04-24T16:22:25.530860",
   "version": "2.5.0"
  }
 },
 "nbformat": 4,
 "nbformat_minor": 5
}