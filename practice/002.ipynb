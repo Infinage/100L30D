{
 "cells": [
  {
   "cell_type": "code",
   "execution_count": 1,
   "id": "337a233c",
   "metadata": {
    "execution": {
     "iopub.execute_input": "2024-05-03T16:50:15.290872Z",
     "iopub.status.busy": "2024-05-03T16:50:15.290193Z",
     "iopub.status.idle": "2024-05-03T16:50:15.807459Z",
     "shell.execute_reply": "2024-05-03T16:50:15.806715Z"
    },
    "papermill": {
     "duration": 0.53129,
     "end_time": "2024-05-03T16:50:15.809451",
     "exception": false,
     "start_time": "2024-05-03T16:50:15.278161",
     "status": "completed"
    },
    "tags": []
   },
   "outputs": [],
   "source": [
    "from typing import List, Optional, Generator\n",
    "import pandas as pd\n",
    "import numpy as np\n",
    "import sqlite3\n",
    "import re\n",
    "import io\n",
    "import math\n",
    "import collections\n",
    "import itertools\n",
    "import functools\n",
    "import random\n",
    "import string\n",
    "import tqdm\n",
    "import bisect\n",
    "import heapq\n",
    "\n",
    "conn = sqlite3.connect(\":memory:\")\n",
    "\n",
    "def regexp(expr, item):\n",
    "    reg = re.compile(expr)\n",
    "    return reg.search(item) is not None\n",
    "\n",
    "def read_lc_df(s: str, dtypes: dict[str, str]=dict()) -> pd.DataFrame:\n",
    "    temp = pd.read_csv(io.StringIO(s), sep=\"|\", skiprows=2)\n",
    "    temp = temp.iloc[1:-1, 1:-1]\n",
    "    temp.columns = temp.columns.map(str.strip)\n",
    "    temp = temp.map(lambda x: x if type(x) != str else None if x.strip() == 'null' else x.strip())\n",
    "    temp = temp.astype(dtypes)\n",
    "    return temp\n",
    "\n",
    "conn.create_function(\"REGEXP\", 2, regexp)"
   ]
  },
  {
   "cell_type": "markdown",
   "id": "a97299f5",
   "metadata": {
    "papermill": {
     "duration": 0.009964,
     "end_time": "2024-05-03T16:50:15.829717",
     "exception": false,
     "start_time": "2024-05-03T16:50:15.819753",
     "status": "completed"
    },
    "tags": []
   },
   "source": [
    "#### Helper for Binary tree problems"
   ]
  },
  {
   "cell_type": "code",
   "execution_count": 2,
   "id": "e9415fef",
   "metadata": {
    "execution": {
     "iopub.execute_input": "2024-05-03T16:50:15.850969Z",
     "iopub.status.busy": "2024-05-03T16:50:15.850522Z",
     "iopub.status.idle": "2024-05-03T16:50:15.860670Z",
     "shell.execute_reply": "2024-05-03T16:50:15.859903Z"
    },
    "lines_to_next_cell": 1,
    "papermill": {
     "duration": 0.023019,
     "end_time": "2024-05-03T16:50:15.862499",
     "exception": false,
     "start_time": "2024-05-03T16:50:15.839480",
     "status": "completed"
    },
    "tags": []
   },
   "outputs": [],
   "source": [
    "class BinaryTreeNode:\n",
    "    def __init__(self, val=0, left=None, right=None):\n",
    "        self.val = val\n",
    "        self.left = left\n",
    "        self.right = right\n",
    "\n",
    "    def to_list(self):\n",
    "        to_visit = [self]\n",
    "        visited = []\n",
    "        while len(to_visit) > 0:\n",
    "            curr = to_visit.pop(0)\n",
    "            if curr:\n",
    "                to_visit.append(curr.left)\n",
    "                to_visit.append(curr.right)\n",
    "                visited.append(curr.val)\n",
    "            else:\n",
    "                visited.append(curr)\n",
    "\n",
    "        while visited and not visited[-1]:\n",
    "            visited.pop()\n",
    "\n",
    "        return visited\n",
    "\n",
    "    def __str__(self):\n",
    "        return str(self.val)\n",
    "\n",
    "    @staticmethod\n",
    "    def from_array(nums: list[int|None]):\n",
    "        '''Create a Tree from a list of nums. Returns the root node.'''\n",
    "        if len(nums) == 0:\n",
    "            return None\n",
    "        elif len(nums) == 1:\n",
    "            return BinaryTreeNode(nums[0])\n",
    "        else:\n",
    "            forest = [BinaryTreeNode(nums[0])]\n",
    "            parent_idx = -1\n",
    "            for i in range(1, len(nums)):\n",
    "\n",
    "                curr = None\n",
    "                if nums[i] is not None:\n",
    "                    curr = BinaryTreeNode(nums[i])\n",
    "                    forest.append(curr)\n",
    "\n",
    "                if i % 2 == 1:\n",
    "                    parent_idx += 1\n",
    "                    forest[parent_idx].left = curr\n",
    "                else:\n",
    "                    forest[parent_idx].right = curr\n",
    "\n",
    "        return forest[0]"
   ]
  },
  {
   "cell_type": "markdown",
   "id": "f25563dc",
   "metadata": {
    "papermill": {
     "duration": 0.009639,
     "end_time": "2024-05-03T16:50:15.881922",
     "exception": false,
     "start_time": "2024-05-03T16:50:15.872283",
     "status": "completed"
    },
    "tags": []
   },
   "source": [
    "#### Helper for Singly Linked lists"
   ]
  },
  {
   "cell_type": "code",
   "execution_count": 3,
   "id": "5403a3fd",
   "metadata": {
    "execution": {
     "iopub.execute_input": "2024-05-03T16:50:15.903170Z",
     "iopub.status.busy": "2024-05-03T16:50:15.902594Z",
     "iopub.status.idle": "2024-05-03T16:50:15.909222Z",
     "shell.execute_reply": "2024-05-03T16:50:15.908464Z"
    },
    "lines_to_next_cell": 1,
    "papermill": {
     "duration": 0.019454,
     "end_time": "2024-05-03T16:50:15.910912",
     "exception": false,
     "start_time": "2024-05-03T16:50:15.891458",
     "status": "completed"
    },
    "tags": []
   },
   "outputs": [],
   "source": [
    "class ListNode:\n",
    "    def __init__(self, val=0, next=None):\n",
    "        self.val = val\n",
    "        self.next = next\n",
    "\n",
    "    def __str__(self):\n",
    "        return str(self.val)\n",
    "\n",
    "    @staticmethod\n",
    "    def to_singly_linked_list(nums: list[int]):\n",
    "        root = prev = None\n",
    "        for n in nums:\n",
    "            curr = ListNode(n)\n",
    "            # Init once\n",
    "            if not root:\n",
    "                root = curr\n",
    "            if prev:\n",
    "                prev.next = curr\n",
    "            prev = curr\n",
    "\n",
    "        return root\n",
    "\n",
    "    def to_list(self) -> list[int]:\n",
    "        result = []\n",
    "        curr = self\n",
    "        while curr:\n",
    "            result.append(curr.val)\n",
    "            curr = curr.next\n",
    "        return result"
   ]
  },
  {
   "cell_type": "markdown",
   "id": "9cb590dd",
   "metadata": {
    "papermill": {
     "duration": 0.00966,
     "end_time": "2024-05-03T16:50:15.930281",
     "exception": false,
     "start_time": "2024-05-03T16:50:15.920621",
     "status": "completed"
    },
    "tags": []
   },
   "source": [
    "#### Utility to generate random BST"
   ]
  },
  {
   "cell_type": "code",
   "execution_count": 4,
   "id": "d2d8c823",
   "metadata": {
    "execution": {
     "iopub.execute_input": "2024-05-03T16:50:15.950842Z",
     "iopub.status.busy": "2024-05-03T16:50:15.950221Z",
     "iopub.status.idle": "2024-05-03T16:50:15.956507Z",
     "shell.execute_reply": "2024-05-03T16:50:15.955744Z"
    },
    "lines_to_next_cell": 1,
    "papermill": {
     "duration": 0.018568,
     "end_time": "2024-05-03T16:50:15.958280",
     "exception": false,
     "start_time": "2024-05-03T16:50:15.939712",
     "status": "completed"
    },
    "tags": []
   },
   "outputs": [],
   "source": [
    "def generateBST(N: int, min_: int, max_: int) -> BinaryTreeNode|None:\n",
    "    def insert(curr: BinaryTreeNode|None, n: int) -> BinaryTreeNode:\n",
    "        if not curr:\n",
    "            curr = BinaryTreeNode(n)\n",
    "        elif curr.val < n:\n",
    "            curr.right = insert(curr.right, n)\n",
    "        else:\n",
    "            curr.left = insert(curr.left, n)\n",
    "\n",
    "        return curr\n",
    "\n",
    "    assert N <= max_ - min_, \"Number of available samples must be >= N\"\n",
    "    root: BinaryTreeNode|None = None\n",
    "    for n in np.random.choice(np.arange(min_, max_), size=N, replace=False):\n",
    "        root = insert(root, n)\n",
    "\n",
    "    return root"
   ]
  },
  {
   "cell_type": "markdown",
   "id": "5ae16de1",
   "metadata": {
    "papermill": {
     "duration": 0.009563,
     "end_time": "2024-05-03T16:50:15.977540",
     "exception": false,
     "start_time": "2024-05-03T16:50:15.967977",
     "status": "completed"
    },
    "tags": []
   },
   "source": [
    "GFG Jobathon: 32"
   ]
  },
  {
   "cell_type": "markdown",
   "id": "b420e590",
   "metadata": {
    "papermill": {
     "duration": 0.009503,
     "end_time": "2024-05-03T16:50:15.996648",
     "exception": false,
     "start_time": "2024-05-03T16:50:15.987145",
     "status": "completed"
    },
    "tags": []
   },
   "source": [
    "Q1: Lead Engineer"
   ]
  },
  {
   "cell_type": "code",
   "execution_count": 5,
   "id": "e632458b",
   "metadata": {
    "execution": {
     "iopub.execute_input": "2024-05-03T16:50:16.017342Z",
     "iopub.status.busy": "2024-05-03T16:50:16.016968Z",
     "iopub.status.idle": "2024-05-03T16:50:16.022094Z",
     "shell.execute_reply": "2024-05-03T16:50:16.021302Z"
    },
    "lines_to_next_cell": 1,
    "papermill": {
     "duration": 0.017587,
     "end_time": "2024-05-03T16:50:16.023803",
     "exception": false,
     "start_time": "2024-05-03T16:50:16.006216",
     "status": "completed"
    },
    "tags": []
   },
   "outputs": [],
   "source": [
    "def leadOptions(self, N : int, E : List[int]) -> int:\n",
    "    maxE: tuple[int, int] = -1, 0\n",
    "    for exp in E:\n",
    "        if exp == maxE[0]:\n",
    "            maxE = maxE[0], maxE[1] + 1\n",
    "        if exp > maxE[0]:\n",
    "            maxE = exp, 0\n",
    "\n",
    "    return maxE[1]"
   ]
  },
  {
   "cell_type": "markdown",
   "id": "6b67334f",
   "metadata": {
    "papermill": {
     "duration": 0.009628,
     "end_time": "2024-05-03T16:50:16.043189",
     "exception": false,
     "start_time": "2024-05-03T16:50:16.033561",
     "status": "completed"
    },
    "tags": []
   },
   "source": [
    "Codeforces: 20/C (Dijkstra)"
   ]
  },
  {
   "cell_type": "code",
   "execution_count": 6,
   "id": "a165d425",
   "metadata": {
    "execution": {
     "iopub.execute_input": "2024-05-03T16:50:16.063987Z",
     "iopub.status.busy": "2024-05-03T16:50:16.063234Z",
     "iopub.status.idle": "2024-05-03T16:50:16.074413Z",
     "shell.execute_reply": "2024-05-03T16:50:16.073738Z"
    },
    "lines_to_next_cell": 1,
    "papermill": {
     "duration": 0.023373,
     "end_time": "2024-05-03T16:50:16.076140",
     "exception": false,
     "start_time": "2024-05-03T16:50:16.052767",
     "status": "completed"
    },
    "tags": []
   },
   "outputs": [],
   "source": [
    "def dijkstra(src: int, adjl: dict[int, list[tuple[int, int]]]) -> dict[int, tuple[float, int]]:\n",
    "    heap: list[tuple[int, int, int]] = [(1, src, 1)]\n",
    "    shortest: dict[int, tuple[float, int]] = dict()\n",
    "    while heap:\n",
    "        curr_dist, curr, prev = heapq.heappop(heap)\n",
    "        if curr not in shortest or curr_dist < shortest[curr][0]:\n",
    "            shortest[curr] = (curr_dist, prev)\n",
    "            for next_, next_dist in adjl.get(curr, []):\n",
    "                heapq.heappush(heap, (curr_dist + next_dist, next_, curr))\n",
    "\n",
    "    return shortest\n",
    "\n",
    "def twentyC(V: int, E: int, edges: list[tuple[int, int, int]]) -> str:\n",
    "    adjl: dict[int, list[tuple[int, int]]] = dict()\n",
    "    for n1, n2, d in edges:\n",
    "        n1_neighbours, n2_neighbours = adjl.get(n1, []), adjl.get(n2, [])\n",
    "        n1_neighbours.append((n2, d))\n",
    "        n2_neighbours.append((n1, d))\n",
    "        adjl[n1], adjl[n2] = n1_neighbours, n2_neighbours\n",
    "\n",
    "    paths = dijkstra(1, adjl)\n",
    "    if V in paths:\n",
    "        result: list[int] = [V]\n",
    "        curr = V\n",
    "        while curr != 1:\n",
    "            dist, prev = paths[curr]\n",
    "            result.append(prev)\n",
    "            curr = prev\n",
    "\n",
    "        result.reverse()\n",
    "        return ' '.join(map(str, result))\n",
    "    else:\n",
    "        return '-1'\n",
    "\n",
    "# Testing the solution\n",
    "assert twentyC(5, 5, [(1, 2, 2), (2, 5, 5), (2, 3, 4), (1, 4, 1), (4, 3, 3), (3, 5, 1)]) == '1 4 3 5'"
   ]
  },
  {
   "cell_type": "markdown",
   "id": "a4263f01",
   "metadata": {
    "papermill": {
     "duration": 0.009503,
     "end_time": "2024-05-03T16:50:16.095375",
     "exception": false,
     "start_time": "2024-05-03T16:50:16.085872",
     "status": "completed"
    },
    "tags": []
   },
   "source": [
    "LC Medium: Course Schedule 2"
   ]
  },
  {
   "cell_type": "code",
   "execution_count": 7,
   "id": "eb152abe",
   "metadata": {
    "execution": {
     "iopub.execute_input": "2024-05-03T16:50:16.116105Z",
     "iopub.status.busy": "2024-05-03T16:50:16.115493Z",
     "iopub.status.idle": "2024-05-03T16:50:16.126542Z",
     "shell.execute_reply": "2024-05-03T16:50:16.125929Z"
    },
    "lines_to_next_cell": 1,
    "papermill": {
     "duration": 0.023358,
     "end_time": "2024-05-03T16:50:16.128235",
     "exception": false,
     "start_time": "2024-05-03T16:50:16.104877",
     "status": "completed"
    },
    "tags": []
   },
   "outputs": [],
   "source": [
    "# https://leetcode.com/problems/course-schedule-ii/submissions/1239496066\n",
    "def findOrder(numCourses: int, prerequisites: list[list[int]]) -> list[int]:\n",
    "    adjl: dict[int, list[int]] = dict()\n",
    "    for c1, c2 in prerequisites:\n",
    "        # To take up C1, C2 must be done already\n",
    "        c1_neighbours: list[int] = adjl.get(c1, [])\n",
    "        c1_neighbours.append(c2)\n",
    "        adjl[c1] = c1_neighbours\n",
    "\n",
    "    paths: dict[int, list[int]] = dict()\n",
    "    def getOrdering(curr: int, visited: set[int] = set()) -> list[int]:\n",
    "        if curr in paths:\n",
    "            return paths[curr]\n",
    "        elif curr in visited:\n",
    "            return []\n",
    "        else:\n",
    "            result: list[int] = [curr]\n",
    "            visited.add(curr)\n",
    "            for next_ in adjl.get(curr, []):\n",
    "                deps: list[int] = getOrdering(next_, visited)\n",
    "                if not deps:\n",
    "                    return []\n",
    "                else:\n",
    "                    result.extend(deps)\n",
    "\n",
    "            visited.remove(curr)\n",
    "            paths[curr] = result\n",
    "            return result\n",
    "\n",
    "    # Courses are ordered from 0 to numCourses - 1\n",
    "    result: list[int] = []\n",
    "    completed: set[int] = set()\n",
    "    for course in range(numCourses):\n",
    "        deps = getOrdering(course)\n",
    "        deps.reverse()\n",
    "        if not deps:\n",
    "            return []\n",
    "        else:\n",
    "            for dep in deps:\n",
    "                if dep not in completed:\n",
    "                    completed.add(dep)\n",
    "                    result.append(dep)\n",
    "\n",
    "    return result\n",
    "\n",
    "# Testing the solution\n",
    "assert findOrder(4, [[1,0], [2,0], [3,1], [3,2]]) in ([0,1,2,3], [0,2,1,3])\n",
    "assert findOrder(5, [[1,0], [2,0], [3,4], [4,3]]) == []"
   ]
  },
  {
   "cell_type": "markdown",
   "id": "ca3a0889",
   "metadata": {
    "papermill": {
     "duration": 0.00983,
     "end_time": "2024-05-03T16:50:16.147899",
     "exception": false,
     "start_time": "2024-05-03T16:50:16.138069",
     "status": "completed"
    },
    "tags": []
   },
   "source": [
    "LC Medium: Course Schedule 1 (DFS)"
   ]
  },
  {
   "cell_type": "code",
   "execution_count": 8,
   "id": "bdeaef7f",
   "metadata": {
    "execution": {
     "iopub.execute_input": "2024-05-03T16:50:16.168954Z",
     "iopub.status.busy": "2024-05-03T16:50:16.168321Z",
     "iopub.status.idle": "2024-05-03T16:50:16.178595Z",
     "shell.execute_reply": "2024-05-03T16:50:16.177807Z"
    },
    "lines_to_next_cell": 1,
    "papermill": {
     "duration": 0.022778,
     "end_time": "2024-05-03T16:50:16.180307",
     "exception": false,
     "start_time": "2024-05-03T16:50:16.157529",
     "status": "completed"
    },
    "tags": []
   },
   "outputs": [],
   "source": [
    "# https://leetcode.com/problems/course-schedule/submissions/1240858033/\n",
    "def canFinish(numCourses: int, prerequisites: list[list[int]]) -> bool:\n",
    "    # Convert pre-req to adj list\n",
    "    adj: dict[int, list[int]] = dict()\n",
    "    for n1, n2 in prerequisites:\n",
    "        n1_neighbours = adj.get(n1, [])\n",
    "        n1_neighbours.append(n2)\n",
    "        adj[n1] = n1_neighbours\n",
    "\n",
    "    # DFS Algorithm to check for cycles\n",
    "    def hasCycle(curr: int, paths: set[int] = set()) -> bool:\n",
    "        if curr in paths:\n",
    "            return True\n",
    "        elif curr in visited:\n",
    "            return False\n",
    "        else:\n",
    "            visited.add(curr)\n",
    "            paths.add(curr)\n",
    "            for next_ in adj.get(curr, []):\n",
    "                if hasCycle(next_, paths):\n",
    "                    return True\n",
    "            paths.remove(curr)\n",
    "            return False\n",
    "\n",
    "    visited: set[int] = set()\n",
    "    for curr in range(numCourses):\n",
    "        if hasCycle(curr):\n",
    "            return False\n",
    "    else:\n",
    "        return True\n",
    "\n",
    "# Testing the solution\n",
    "assert canFinish(2, [[1,0]]) == True\n",
    "assert canFinish(2, [[1,0],[0,1]]) == False"
   ]
  },
  {
   "cell_type": "markdown",
   "id": "2113dbd0",
   "metadata": {
    "papermill": {
     "duration": 0.00952,
     "end_time": "2024-05-03T16:50:16.199542",
     "exception": false,
     "start_time": "2024-05-03T16:50:16.190022",
     "status": "completed"
    },
    "tags": []
   },
   "source": [
    "Shortest path in undirected graph with unit weights"
   ]
  },
  {
   "cell_type": "code",
   "execution_count": 9,
   "id": "de8ecf19",
   "metadata": {
    "execution": {
     "iopub.execute_input": "2024-05-03T16:50:16.220068Z",
     "iopub.status.busy": "2024-05-03T16:50:16.219583Z",
     "iopub.status.idle": "2024-05-03T16:50:16.228206Z",
     "shell.execute_reply": "2024-05-03T16:50:16.227564Z"
    },
    "lines_to_next_cell": 1,
    "papermill": {
     "duration": 0.020901,
     "end_time": "2024-05-03T16:50:16.229943",
     "exception": false,
     "start_time": "2024-05-03T16:50:16.209042",
     "status": "completed"
    },
    "tags": []
   },
   "outputs": [],
   "source": [
    "def shortestPathUG(n: int, edges: list[tuple[int, int]], src: int) -> list[int]:\n",
    "    # Create an adj list\n",
    "    adj: dict[int, list[int]] = dict()\n",
    "    for n1, n2 in edges:\n",
    "        n1_neighbours, n2_neighbours = adj.get(n1, []), adj.get(n2, [])\n",
    "        n1_neighbours.append(n2)\n",
    "        n2_neighbours.append(n1)\n",
    "        adj[n1], adj[n2] = n1_neighbours, n2_neighbours\n",
    "\n",
    "    shortest: list[int] = [-1 for _ in range(n)]\n",
    "    heap: list[tuple[int, int]] = [(0, src)]\n",
    "    while heap:\n",
    "        curr_dist, curr = heapq.heappop(heap)\n",
    "        shortest[curr] = curr_dist if shortest[curr] == -1 or shortest[curr] > curr_dist else shortest[curr]\n",
    "        for next_ in adj.get(curr, []):\n",
    "            if shortest[next_] == -1 or curr_dist + 1 < shortest[next_]:\n",
    "                heapq.heappush(heap, (curr_dist + 1, next_))\n",
    "\n",
    "    return shortest\n",
    "\n",
    "# Testing the solution\n",
    "assert shortestPathUG(5, [(0, 1), (1, 4), (2, 3), (2, 4), (3, 4)], 1) == [1, 0, 2, 2, 1]"
   ]
  },
  {
   "cell_type": "markdown",
   "id": "765658c5",
   "metadata": {
    "papermill": {
     "duration": 0.009513,
     "end_time": "2024-05-03T16:50:16.249289",
     "exception": false,
     "start_time": "2024-05-03T16:50:16.239776",
     "status": "completed"
    },
    "tags": []
   },
   "source": [
    "Shortest path in DAG"
   ]
  },
  {
   "cell_type": "code",
   "execution_count": 10,
   "id": "c7e19951",
   "metadata": {
    "execution": {
     "iopub.execute_input": "2024-05-03T16:50:16.269762Z",
     "iopub.status.busy": "2024-05-03T16:50:16.269214Z",
     "iopub.status.idle": "2024-05-03T16:50:16.277721Z",
     "shell.execute_reply": "2024-05-03T16:50:16.277059Z"
    },
    "lines_to_next_cell": 1,
    "papermill": {
     "duration": 0.020659,
     "end_time": "2024-05-03T16:50:16.279421",
     "exception": false,
     "start_time": "2024-05-03T16:50:16.258762",
     "status": "completed"
    },
    "tags": []
   },
   "outputs": [],
   "source": [
    "def shortestPathInDAG(N: int, M: int, edges: list[list[int]]) -> list[int]:\n",
    "    # Create an adj list\n",
    "    adj: dict[int, list[tuple[int, int]]] = dict()\n",
    "    for n1, n2, w in edges:\n",
    "        n1_neighbours = adj.get(n1, [])\n",
    "        n1_neighbours.append((n2, w))\n",
    "        adj[n1] = n1_neighbours\n",
    "\n",
    "    # Dijkstra's algo!\n",
    "    shortest: list[int] = [-1 for _ in range(N)]\n",
    "    heap: list[tuple[int, int]] = [(0, 0)]\n",
    "    while heap:\n",
    "        curr_dist, curr = heapq.heappop(heap)\n",
    "        if shortest[curr] == -1 or curr_dist < shortest[curr]:\n",
    "            shortest[curr] = curr_dist\n",
    "            for next_, next_dist in adj.get(curr, []):\n",
    "                heapq.heappush(heap, (next_dist + curr_dist, next_))\n",
    "\n",
    "    return shortest\n",
    "\n",
    "# Testing the solution\n",
    "assert shortestPathInDAG(3, 3, [[0,1,2], [1,2,3], [0,2,6]]) == [0, 2, 5]\n",
    "assert shortestPathInDAG(3, 3, [[2,0,4],[0,1,3],[2,1,2]]) == [0, 3, -1]"
   ]
  },
  {
   "cell_type": "markdown",
   "id": "36a13aa2",
   "metadata": {
    "papermill": {
     "duration": 0.009504,
     "end_time": "2024-05-03T16:50:16.298506",
     "exception": false,
     "start_time": "2024-05-03T16:50:16.289002",
     "status": "completed"
    },
    "tags": []
   },
   "source": [
    "LC Hard: Word Ladder"
   ]
  },
  {
   "cell_type": "code",
   "execution_count": 11,
   "id": "30ef6d16",
   "metadata": {
    "execution": {
     "iopub.execute_input": "2024-05-03T16:50:16.319586Z",
     "iopub.status.busy": "2024-05-03T16:50:16.318898Z",
     "iopub.status.idle": "2024-05-03T16:50:16.329585Z",
     "shell.execute_reply": "2024-05-03T16:50:16.328957Z"
    },
    "lines_to_next_cell": 1,
    "papermill": {
     "duration": 0.02325,
     "end_time": "2024-05-03T16:50:16.331376",
     "exception": false,
     "start_time": "2024-05-03T16:50:16.308126",
     "status": "completed"
    },
    "tags": []
   },
   "outputs": [],
   "source": [
    "# https://leetcode.com/problems/word-ladder/submissions/1241826378\n",
    "def ladderLengthBrute(beginWord: str, endWord: str, wordList: list[str]) -> int:\n",
    "    def pathExists(w1: str, w2: str) -> bool:\n",
    "        N, i = len(w1), 0\n",
    "        dist = 0\n",
    "        while i < N:\n",
    "            if w1[i] != w2[i]:\n",
    "                dist += 1\n",
    "            if dist > 1:\n",
    "                break\n",
    "            i += 1\n",
    "\n",
    "        return dist == 1\n",
    "\n",
    "    def BFS(root: str):\n",
    "        queue: collections.deque = collections.deque([root])\n",
    "        distances[root] = 0\n",
    "        while queue:\n",
    "            curr = queue.popleft()\n",
    "            for next_ in adj.get(curr, []):\n",
    "                if next_ not in distances or distances[next_] > distances[curr] + 1:\n",
    "                    distances[next_] = distances[curr] + 1\n",
    "                    queue.append(next_)\n",
    "                    if next_ == endWord:\n",
    "                        return\n",
    "\n",
    "    # Create an adjacency list\n",
    "    adj: dict[str, list[str]] = dict()\n",
    "    for w1, w2 in itertools.combinations([beginWord] + wordList, r=2):\n",
    "        if pathExists(w1, w2):\n",
    "            w1_neighbours, w2_neighbours = adj.get(w1, []), adj.get(w2, [])\n",
    "            w1_neighbours.append(w2)\n",
    "            w2_neighbours.append(w1)\n",
    "            adj[w1], adj[w2] = w1_neighbours, w2_neighbours\n",
    "\n",
    "    distances: dict[str, int] = dict()\n",
    "    BFS(beginWord)\n",
    "    return distances[endWord] + 1 if endWord in distances else 0\n",
    "\n",
    "# Testing the solution\n",
    "assert ladderLengthBrute(\"hit\", \"cog\", [\"hot\",\"dot\",\"dog\",\"lot\",\"log\",\"cog\"]) == 5\n",
    "assert ladderLengthBrute(\"hit\", \"cog\", [\"hot\",\"dot\",\"dog\",\"lot\",\"log\"]) == 0"
   ]
  },
  {
   "cell_type": "markdown",
   "id": "a8ca8c27",
   "metadata": {
    "papermill": {
     "duration": 0.00974,
     "end_time": "2024-05-03T16:50:16.350915",
     "exception": false,
     "start_time": "2024-05-03T16:50:16.341175",
     "status": "completed"
    },
    "tags": []
   },
   "source": [
    "LC Hard: Word Ladder - 2: https://leetcode.com/problems/word-ladder-ii/"
   ]
  },
  {
   "cell_type": "code",
   "execution_count": 12,
   "id": "e55a5c30",
   "metadata": {
    "execution": {
     "iopub.execute_input": "2024-05-03T16:50:16.372596Z",
     "iopub.status.busy": "2024-05-03T16:50:16.371897Z",
     "iopub.status.idle": "2024-05-03T16:50:16.387175Z",
     "shell.execute_reply": "2024-05-03T16:50:16.386548Z"
    },
    "lines_to_next_cell": 1,
    "papermill": {
     "duration": 0.028142,
     "end_time": "2024-05-03T16:50:16.388752",
     "exception": false,
     "start_time": "2024-05-03T16:50:16.360610",
     "status": "completed"
    },
    "tags": []
   },
   "outputs": [],
   "source": [
    "# TLE :(\n",
    "def findLadders(beginWord: str, endWord: str, wordList: list[str]) -> list[list[str]]:\n",
    "    # BFS traversal to get the list of all shortest prev nodes\n",
    "    N = len(beginWord)\n",
    "    wordMap: dict[str, tuple[float, set[str]]] = {word: (math.inf, set()) for word in wordList}\n",
    "    wordMap[beginWord] = (0, set())\n",
    "    queue: collections.deque[tuple[str, int, str|None]] = collections.deque([(beginWord, 0, None)])\n",
    "    while queue:\n",
    "        curr, dist, prev = queue.popleft()\n",
    "        for i in range(N):\n",
    "            for j in range(ord('a'), ord('z') + 1):\n",
    "                next_ = curr[:i] + chr(j) + curr[i + 1:]\n",
    "                if next_ in wordMap:\n",
    "                    next_dist, prevs = wordMap[next_]\n",
    "                    if dist + 1 < next_dist:\n",
    "                        prevs = set([curr])\n",
    "                        next_dist = dist + 1\n",
    "                        queue.append((next_, dist + 1, curr))\n",
    "                    elif dist + 1 == next_dist:\n",
    "                        prevs.add(curr)\n",
    "                        queue.append((next_, dist + 1, curr))\n",
    "\n",
    "                    wordMap[next_] = next_dist, prevs\n",
    "\n",
    "    # Reverse the edges\n",
    "    adj: dict[str, set[str]] = dict()\n",
    "    for k, v in wordMap.items():\n",
    "        n1, n1_neighbours = k, v[1]\n",
    "        for n2 in n1_neighbours:\n",
    "            n2_neighbours = adj.get(n2, set())\n",
    "            n2_neighbours.add(n1)\n",
    "            adj[n2] = n2_neighbours\n",
    "\n",
    "    # Do any traversal to get the final result\n",
    "    results: list[list[str]] = []\n",
    "    def DFS(root: str, paths: list[str]):\n",
    "        paths.append(root)\n",
    "        if root == endWord:\n",
    "            results.append(list(paths))\n",
    "        else:\n",
    "            for next_ in adj.get(root, set()):\n",
    "                DFS(next_, paths)\n",
    "        paths.pop()\n",
    "\n",
    "    DFS(beginWord, [])\n",
    "    return sorted(results)\n",
    "\n",
    "# Testing the solution\n",
    "assert findLadders(\"hit\", \"cog\", [\"hot\",\"dot\",\"dog\",\"lot\",\"log\",\"cog\"]) == [['hit', 'hot', 'dot', 'dog', 'cog'], ['hit', 'hot', 'lot', 'log', 'cog']]\n",
    "assert findLadders(\"hit\", \"cog\", [\"hot\",\"dot\",\"dog\",\"lot\",\"log\"]) == []\n",
    "assert findLadders(\"a\", \"c\", [\"a\", \"b\", \"c\"]) == [[\"a\", \"c\"]]\n",
    "assert findLadders(\"red\", \"tax\", [\"ted\",\"tex\",\"red\",\"tax\",\"tad\",\"den\",\"rex\",\"pee\"]) == [['red', 'rex', 'tex', 'tax'],['red', 'ted', 'tad', 'tax'],['red', 'ted', 'tex', 'tax']]"
   ]
  },
  {
   "cell_type": "markdown",
   "id": "034f704f",
   "metadata": {
    "papermill": {
     "duration": 0.009594,
     "end_time": "2024-05-03T16:50:16.408261",
     "exception": false,
     "start_time": "2024-05-03T16:50:16.398667",
     "status": "completed"
    },
    "tags": []
   },
   "source": [
    "LC Biweekly contest: 129 (27th Apr 2024)"
   ]
  },
  {
   "cell_type": "code",
   "execution_count": 13,
   "id": "dfa6e9e0",
   "metadata": {
    "execution": {
     "iopub.execute_input": "2024-05-03T16:50:16.429166Z",
     "iopub.status.busy": "2024-05-03T16:50:16.428563Z",
     "iopub.status.idle": "2024-05-03T16:50:16.436040Z",
     "shell.execute_reply": "2024-05-03T16:50:16.435295Z"
    },
    "lines_to_next_cell": 1,
    "papermill": {
     "duration": 0.019878,
     "end_time": "2024-05-03T16:50:16.437772",
     "exception": false,
     "start_time": "2024-05-03T16:50:16.417894",
     "status": "completed"
    },
    "tags": []
   },
   "outputs": [],
   "source": [
    "# Q1 - Easy\n",
    "def canMakeSquare(grid: list[list[str]]) -> bool:\n",
    "    for i, j in [(0, 0), (0, 1), (1, 0), (1, 1)]:\n",
    "        count = 0\n",
    "        for x, y in [(0, 0), (0, 1), (1, 0), (1, 1)]:\n",
    "            i_, j_ = i + x, j + y\n",
    "            if grid[i_][j_] == \"W\":\n",
    "                count += 1\n",
    "        if count != 2:\n",
    "            return True\n",
    "    else:\n",
    "        return False\n",
    "\n",
    "# Testing the solution\n",
    "assert canMakeSquare([[\"B\",\"W\",\"B\"],[\"B\",\"W\",\"W\"],[\"B\",\"W\",\"W\"]]) == True\n",
    "assert canMakeSquare([[\"B\",\"W\",\"B\"],[\"W\",\"B\",\"W\"],[\"B\",\"W\",\"B\"]]) == False\n",
    "assert canMakeSquare([[\"B\",\"B\",\"B\"],[\"B\",\"B\",\"B\"],[\"B\",\"B\",\"B\"]]) == True"
   ]
  },
  {
   "cell_type": "code",
   "execution_count": 14,
   "id": "b4f425f7",
   "metadata": {
    "execution": {
     "iopub.execute_input": "2024-05-03T16:50:16.458890Z",
     "iopub.status.busy": "2024-05-03T16:50:16.458557Z",
     "iopub.status.idle": "2024-05-03T16:50:16.466894Z",
     "shell.execute_reply": "2024-05-03T16:50:16.466117Z"
    },
    "lines_to_next_cell": 1,
    "papermill": {
     "duration": 0.020747,
     "end_time": "2024-05-03T16:50:16.468502",
     "exception": false,
     "start_time": "2024-05-03T16:50:16.447755",
     "status": "completed"
    },
    "tags": []
   },
   "outputs": [],
   "source": [
    "# Q2 - Medium\n",
    "def numberOfRightTriangles(grid: list[list[int]]) -> int:\n",
    "    # Find the dimensions\n",
    "    M, N = len(grid), len(grid[0])\n",
    "\n",
    "    # Precompute the number of 1's row & col wise\n",
    "    rows = [0 for i in range(M)]\n",
    "    cols = [0 for i in range(N)]\n",
    "    for i in range(M):\n",
    "        for j in range(N):\n",
    "            if grid[i][j] == 1:\n",
    "                rows[i] += 1\n",
    "                cols[j] += 1\n",
    "\n",
    "    # Traverse through the grid again. Each time we encounter a 1, count 1's in that row and excluding itself and find the product\n",
    "    count = 0\n",
    "    for i in range(M):\n",
    "        for j in range(N):\n",
    "            if grid[i][j] == 1:\n",
    "                count += (rows[i] - 1) * (cols[j] - 1)\n",
    "\n",
    "    return count\n",
    "\n",
    "# Testing the solution\n",
    "assert numberOfRightTriangles([[1,0,1],[1,0,0],[1,0,0]]) == 2\n",
    "assert numberOfRightTriangles([[1,0,0,0],[0,1,0,1],[1,0,0,0]]) == 0\n",
    "assert numberOfRightTriangles([[0,1,0],[0,1,1],[0,1,0]]) == 2"
   ]
  },
  {
   "cell_type": "markdown",
   "id": "770f92f2",
   "metadata": {
    "papermill": {
     "duration": 0.009523,
     "end_time": "2024-05-03T16:50:16.487914",
     "exception": false,
     "start_time": "2024-05-03T16:50:16.478391",
     "status": "completed"
    },
    "tags": []
   },
   "source": [
    "LC Weekly Contest - 395 (28th Apr 2024)"
   ]
  },
  {
   "cell_type": "code",
   "execution_count": 15,
   "id": "bc82d8e7",
   "metadata": {
    "execution": {
     "iopub.execute_input": "2024-05-03T16:50:16.509011Z",
     "iopub.status.busy": "2024-05-03T16:50:16.508411Z",
     "iopub.status.idle": "2024-05-03T16:50:16.515379Z",
     "shell.execute_reply": "2024-05-03T16:50:16.514644Z"
    },
    "lines_to_next_cell": 1,
    "papermill": {
     "duration": 0.019526,
     "end_time": "2024-05-03T16:50:16.517029",
     "exception": false,
     "start_time": "2024-05-03T16:50:16.497503",
     "status": "completed"
    },
    "tags": []
   },
   "outputs": [],
   "source": [
    "# Q3: Medium\n",
    "def minEnd(n: int, x: int) -> int:\n",
    "\n",
    "    # convert to bin\n",
    "    x_str = bin(x)[2:]\n",
    "    n_str = bin(n - 1)[2:]\n",
    "\n",
    "    # compute length of both bins\n",
    "    xn, nn = len(x_str), len(n_str)\n",
    "\n",
    "    # store on stack, use two pointers\n",
    "    stack: list[str] = []\n",
    "    i, j = xn - 1, nn - 1\n",
    "    while i >= 0 or j >= 0:\n",
    "        if j < 0 or (i >= 0 and x_str[i] == '1'):\n",
    "            stack.append(x_str[i])\n",
    "            i -= 1\n",
    "        else:\n",
    "            stack.append(n_str[j])\n",
    "            i, j = i - 1, j - 1\n",
    "\n",
    "    stack.reverse()\n",
    "    return int(''.join(stack), base=2)\n",
    "\n",
    "# Testing the solution\n",
    "assert minEnd(9, 9) == 41\n",
    "assert minEnd(3, 4) == 6"
   ]
  },
  {
   "cell_type": "markdown",
   "id": "be39542d",
   "metadata": {
    "papermill": {
     "duration": 0.009515,
     "end_time": "2024-05-03T16:50:16.536247",
     "exception": false,
     "start_time": "2024-05-03T16:50:16.526732",
     "status": "completed"
    },
    "tags": []
   },
   "source": [
    "Practice Bellman Ford, Floyd Warshall"
   ]
  },
  {
   "cell_type": "code",
   "execution_count": 16,
   "id": "ecdb0ceb",
   "metadata": {
    "execution": {
     "iopub.execute_input": "2024-05-03T16:50:16.556960Z",
     "iopub.status.busy": "2024-05-03T16:50:16.556446Z",
     "iopub.status.idle": "2024-05-03T16:50:16.562690Z",
     "shell.execute_reply": "2024-05-03T16:50:16.562012Z"
    },
    "lines_to_next_cell": 1,
    "papermill": {
     "duration": 0.018348,
     "end_time": "2024-05-03T16:50:16.564281",
     "exception": false,
     "start_time": "2024-05-03T16:50:16.545933",
     "status": "completed"
    },
    "tags": []
   },
   "outputs": [],
   "source": [
    "def bellmanFord(N: int, M: int, src: int, edges: list[list[int]]) -> list[float]:\n",
    "   # Compute the distances and store to a vector\n",
    "   distances: list[float] = [math.inf for n1 in range(N + 1)]\n",
    "   distances[src] = 0\n",
    "\n",
    "   # Relax all edges for N - 1 iterations\n",
    "   for i in range(N - 1):\n",
    "       for n1, n2, w in edges:\n",
    "           distances[n2] = min(distances[n2], distances[n1] + w)\n",
    "\n",
    "   # Detect negative cycle\n",
    "   for n1, n2, w in edges:\n",
    "       if distances[n1] + w < distances[n2]:\n",
    "           return [-1]\n",
    "\n",
    "   # Return the distances array\n",
    "   return distances"
   ]
  },
  {
   "cell_type": "code",
   "execution_count": 17,
   "id": "e6fd85e8",
   "metadata": {
    "execution": {
     "iopub.execute_input": "2024-05-03T16:50:16.585325Z",
     "iopub.status.busy": "2024-05-03T16:50:16.584989Z",
     "iopub.status.idle": "2024-05-03T16:50:16.591765Z",
     "shell.execute_reply": "2024-05-03T16:50:16.591022Z"
    },
    "lines_to_next_cell": 1,
    "papermill": {
     "duration": 0.019244,
     "end_time": "2024-05-03T16:50:16.593503",
     "exception": false,
     "start_time": "2024-05-03T16:50:16.574259",
     "status": "completed"
    },
    "tags": []
   },
   "outputs": [],
   "source": [
    "def floydWarshall(N: int, M: int, src: int, dest: int, edges: list[list[int]]):\n",
    "    # Create an adjacency matrix\n",
    "    distances: list[list[float]] = [[math.inf if i != j else 0 for j in range(N)] for i in range(N)]\n",
    "    for n1, n2, w in edges:\n",
    "        distances[n1][n2] = w\n",
    "\n",
    "    # Run the Floyd Warshall algorithm\n",
    "    for k in range(N):\n",
    "        for i in range(N):\n",
    "            for j in range(N):\n",
    "                distances[i][j] = min(distances[i][j], distances[i][k] + distances[k][j])\n",
    "\n",
    "    # Check for cycles (matrix[i][i] < 0)\n",
    "    for i in range(N):\n",
    "        if distances[i][i] < 0:\n",
    "            return []\n",
    "\n",
    "    # Return the cost matrix\n",
    "    return distances"
   ]
  },
  {
   "cell_type": "markdown",
   "id": "c72f5184",
   "metadata": {
    "papermill": {
     "duration": 0.009573,
     "end_time": "2024-05-03T16:50:16.612767",
     "exception": false,
     "start_time": "2024-05-03T16:50:16.603194",
     "status": "completed"
    },
    "tags": []
   },
   "source": [
    "Prim's Algorithm for MST"
   ]
  },
  {
   "cell_type": "code",
   "execution_count": 18,
   "id": "36eb7a78",
   "metadata": {
    "execution": {
     "iopub.execute_input": "2024-05-03T16:50:16.634110Z",
     "iopub.status.busy": "2024-05-03T16:50:16.633367Z",
     "iopub.status.idle": "2024-05-03T16:50:16.639310Z",
     "shell.execute_reply": "2024-05-03T16:50:16.638561Z"
    },
    "lines_to_next_cell": 1,
    "papermill": {
     "duration": 0.018476,
     "end_time": "2024-05-03T16:50:16.640904",
     "exception": false,
     "start_time": "2024-05-03T16:50:16.622428",
     "status": "completed"
    },
    "tags": []
   },
   "outputs": [],
   "source": [
    "def prim(V: int, adj: list[list[list[int]]]):\n",
    "    # Initial config\n",
    "    visited: set[int] = set()\n",
    "    mst_weight = 0\n",
    "    heap: list[tuple[int, int]] = [(0, 0)]\n",
    "\n",
    "    # Prim's algo\n",
    "    while heap:\n",
    "        curr_weight, curr = heapq.heappop(heap)\n",
    "        if curr not in visited:\n",
    "            visited.add(curr)\n",
    "            mst_weight += curr_weight\n",
    "            for next_, next_weight in adj[curr]:\n",
    "                heapq.heappush(heap, (next_weight, next_))\n",
    "\n",
    "    return mst_weight"
   ]
  },
  {
   "cell_type": "code",
   "execution_count": 19,
   "id": "906ee564",
   "metadata": {
    "execution": {
     "iopub.execute_input": "2024-05-03T16:50:16.662001Z",
     "iopub.status.busy": "2024-05-03T16:50:16.661374Z",
     "iopub.status.idle": "2024-05-03T16:50:16.667304Z",
     "shell.execute_reply": "2024-05-03T16:50:16.666535Z"
    },
    "lines_to_next_cell": 1,
    "papermill": {
     "duration": 0.01839,
     "end_time": "2024-05-03T16:50:16.669031",
     "exception": false,
     "start_time": "2024-05-03T16:50:16.650641",
     "status": "completed"
    },
    "tags": []
   },
   "outputs": [],
   "source": [
    "# LC Easy: Reverse string prefix \n",
    "# Problem link: https://leetcode.com/problems/reverse-prefix-of-word/submissions/1246431154/\n",
    "def reversePrefix(word: str, prefix_end: str) -> str:\n",
    "    result: collections.deque[str] = collections.deque()\n",
    "    prefixComplete = False\n",
    "    for ch in word:\n",
    "        if prefixComplete:\n",
    "            result.append(ch)\n",
    "        else:\n",
    "            result.appendleft(ch)\n",
    "        if ch == prefix_end:\n",
    "            prefixComplete = True\n",
    "\n",
    "    if not prefixComplete:\n",
    "        result.reverse()\n",
    "\n",
    "    return ''.join(result)\n",
    "\n",
    "# Testing the solution\n",
    "assert reversePrefix(\"abcdefd\", \"d\") == \"dcbaefd\"\n",
    "assert reversePrefix(\"xyxzxe\", \"z\") == \"zxyxxe\"\n",
    "assert reversePrefix(\"abcd\", \"z\") == \"abcd\""
   ]
  },
  {
   "cell_type": "code",
   "execution_count": 20,
   "id": "648737e9",
   "metadata": {
    "execution": {
     "iopub.execute_input": "2024-05-03T16:50:16.690406Z",
     "iopub.status.busy": "2024-05-03T16:50:16.689711Z",
     "iopub.status.idle": "2024-05-03T16:50:16.695473Z",
     "shell.execute_reply": "2024-05-03T16:50:16.694824Z"
    },
    "lines_to_next_cell": 1,
    "papermill": {
     "duration": 0.018326,
     "end_time": "2024-05-03T16:50:16.697176",
     "exception": false,
     "start_time": "2024-05-03T16:50:16.678850",
     "status": "completed"
    },
    "tags": []
   },
   "outputs": [],
   "source": [
    "# LC Easy: count-of-matches-in-tournament/\n",
    "# Problem Link: https://leetcode.com/problems/count-of-matches-in-tournament\n",
    "def numberOfMatches(n: int) -> int:\n",
    "    # Simply return n - 1\n",
    "    half = n // 2\n",
    "    if n == 1:\n",
    "        return half\n",
    "    else:\n",
    "        return half + (numberOfMatches(half + 1) if n % 2 else numberOfMatches(half))\n",
    "\n",
    "for i in range(1, 201):\n",
    "    assert numberOfMatches(i) == i - 1"
   ]
  },
  {
   "cell_type": "markdown",
   "id": "4299d8c5",
   "metadata": {
    "papermill": {
     "duration": 0.009548,
     "end_time": "2024-05-03T16:50:16.716357",
     "exception": false,
     "start_time": "2024-05-03T16:50:16.706809",
     "status": "completed"
    },
    "tags": []
   },
   "source": [
    "Codechef Weekly contest: 1st May 2024"
   ]
  },
  {
   "cell_type": "code",
   "execution_count": 21,
   "id": "ab5de96b",
   "metadata": {
    "execution": {
     "iopub.execute_input": "2024-05-03T16:50:16.737761Z",
     "iopub.status.busy": "2024-05-03T16:50:16.736994Z",
     "iopub.status.idle": "2024-05-03T16:50:16.742874Z",
     "shell.execute_reply": "2024-05-03T16:50:16.742207Z"
    },
    "lines_to_next_cell": 1,
    "papermill": {
     "duration": 0.018499,
     "end_time": "2024-05-03T16:50:16.744572",
     "exception": false,
     "start_time": "2024-05-03T16:50:16.726073",
     "status": "completed"
    },
    "tags": []
   },
   "outputs": [],
   "source": [
    "def alien_or() -> None:\n",
    "    T = int(input())\n",
    "    for t in range(T):\n",
    "        N, K = map(int, input().split())\n",
    "        set_: set[int] = {1 << i for i in range(K)}\n",
    "        for n in range(N):\n",
    "            inp = int(input(), 2)\n",
    "            if inp in set_:\n",
    "                set_.remove(inp)\n",
    "        print(\"YES\" if not set_ else \"NO\")"
   ]
  },
  {
   "cell_type": "code",
   "execution_count": 22,
   "id": "072053b2",
   "metadata": {
    "execution": {
     "iopub.execute_input": "2024-05-03T16:50:16.766068Z",
     "iopub.status.busy": "2024-05-03T16:50:16.765255Z",
     "iopub.status.idle": "2024-05-03T16:50:16.769255Z",
     "shell.execute_reply": "2024-05-03T16:50:16.768609Z"
    },
    "papermill": {
     "duration": 0.016501,
     "end_time": "2024-05-03T16:50:16.771009",
     "exception": false,
     "start_time": "2024-05-03T16:50:16.754508",
     "status": "completed"
    },
    "tags": []
   },
   "outputs": [],
   "source": [
    "# LC Medium: https://leetcode.com/problems/accounts-merge/submissions/1246973276/"
   ]
  },
  {
   "cell_type": "code",
   "execution_count": 23,
   "id": "8294a3f1",
   "metadata": {
    "execution": {
     "iopub.execute_input": "2024-05-03T16:50:16.792062Z",
     "iopub.status.busy": "2024-05-03T16:50:16.791372Z",
     "iopub.status.idle": "2024-05-03T16:50:16.810746Z",
     "shell.execute_reply": "2024-05-03T16:50:16.809979Z"
    },
    "lines_to_next_cell": 1,
    "papermill": {
     "duration": 0.031702,
     "end_time": "2024-05-03T16:50:16.812475",
     "exception": false,
     "start_time": "2024-05-03T16:50:16.780773",
     "status": "completed"
    },
    "tags": []
   },
   "outputs": [
    {
     "data": {
      "text/plain": [
       "[['John', 'john00@mail.com', 'john_newyork@mail.com', 'johnsmith@mail.com'],\n",
       " ['Mary', 'mary@mail.com'],\n",
       " ['John', 'johnnybravo@mail.com']]"
      ]
     },
     "execution_count": 23,
     "metadata": {},
     "output_type": "execute_result"
    }
   ],
   "source": [
    "def accountsMerge(accounts: list[list[str]]) -> list[list[str]]:\n",
    "    class DS:\n",
    "        def __init__(self) -> None:\n",
    "            self.parent: dict[str, str] = {}\n",
    "            self.size: dict[str, int] = {}\n",
    "\n",
    "        def findUltimateParent(self, node: str) -> str:\n",
    "            if node not in self.parent:\n",
    "                self.parent[node] = node\n",
    "                self.size[node] = 1\n",
    "\n",
    "            if self.parent[node] == node:\n",
    "                return node\n",
    "            else:\n",
    "                self.parent[node] = self.findUltimateParent(self.parent[node])\n",
    "                return self.parent[node]\n",
    "\n",
    "        def unionBySize(self, u: str, v: str) -> None:\n",
    "            up, vp = self.findUltimateParent(u), self.findUltimateParent(v)\n",
    "            ups, vps = self.size[up], self.size[vp]\n",
    "            if up == vp:\n",
    "                return\n",
    "            if ups < vps:\n",
    "                self.parent[up] = vp\n",
    "                self.size[vp] += self.size[up]\n",
    "            else:\n",
    "                self.parent[vp] = up\n",
    "                self.size[up] += self.size[vp]\n",
    "\n",
    "    ds = DS()\n",
    "    emails: dict[str, str] = dict()\n",
    "    for account in accounts:\n",
    "        account = account + [account[-1]]\n",
    "        name = account[0]\n",
    "        for i in range(1, len(account) - 1):\n",
    "            n1, n2 = account[i], account[i + 1]\n",
    "            emails[n1] = emails[n2] = name\n",
    "            ds.unionBySize(n1, n2)\n",
    "\n",
    "    groups: dict[str, list[str]] = dict()\n",
    "    for email in emails:\n",
    "        uemail = ds.findUltimateParent(email)\n",
    "        group = groups.get(uemail, [emails[uemail]])\n",
    "        group.append(email)\n",
    "        groups[uemail] = group\n",
    "\n",
    "    result: list[list[str]] = []\n",
    "    for group in groups.values():\n",
    "        result.append([group[0], *sorted(group[1:])])\n",
    "\n",
    "    return result\n",
    "\n",
    "# Testing the solution\n",
    "accountsMerge([\n",
    "    [\"John\",\"johnsmith@mail.com\",\"john_newyork@mail.com\"],\n",
    "    [\"John\",\"johnsmith@mail.com\",\"john00@mail.com\"],\n",
    "    [\"Mary\",\"mary@mail.com\"],\n",
    "    [\"John\",\"johnnybravo@mail.com\"]\n",
    "])"
   ]
  },
  {
   "cell_type": "markdown",
   "id": "fd8c2bbf",
   "metadata": {
    "papermill": {
     "duration": 0.009857,
     "end_time": "2024-05-03T16:50:16.832376",
     "exception": false,
     "start_time": "2024-05-03T16:50:16.822519",
     "status": "completed"
    },
    "tags": []
   },
   "source": [
    "Codeforces contest: 1968 (2nd May 2024)"
   ]
  },
  {
   "cell_type": "code",
   "execution_count": 24,
   "id": "c70919b8",
   "metadata": {
    "execution": {
     "iopub.execute_input": "2024-05-03T16:50:16.853707Z",
     "iopub.status.busy": "2024-05-03T16:50:16.853147Z",
     "iopub.status.idle": "2024-05-03T16:50:16.859174Z",
     "shell.execute_reply": "2024-05-03T16:50:16.858500Z"
    },
    "lines_to_next_cell": 1,
    "papermill": {
     "duration": 0.018556,
     "end_time": "2024-05-03T16:50:16.860816",
     "exception": false,
     "start_time": "2024-05-03T16:50:16.842260",
     "status": "completed"
    },
    "tags": []
   },
   "outputs": [],
   "source": [
    "# Problem: A\n",
    "def QA_1968() -> None:\n",
    "    T = int(input())\n",
    "    results: list[int] = []\n",
    "    for _ in range(T):\n",
    "        x = int(input())\n",
    "        result: tuple[int, int] = (-1, -1)\n",
    "        for y in range(1, x):\n",
    "            curr = math.gcd(y, x) + y\n",
    "            if curr > result[1]:\n",
    "                result = y, curr\n",
    "\n",
    "        results.append(result[0])\n",
    "\n",
    "    for res in results:\n",
    "        print(res)"
   ]
  },
  {
   "cell_type": "markdown",
   "id": "ace60a0e",
   "metadata": {
    "papermill": {
     "duration": 0.009649,
     "end_time": "2024-05-03T16:50:16.880377",
     "exception": false,
     "start_time": "2024-05-03T16:50:16.870728",
     "status": "completed"
    },
    "tags": []
   },
   "source": [
    "LC Medium: Remove stones\n",
    "https://leetcode.com/problems/most-stones-removed-with-same-row-or-column/submissions/1248384399/"
   ]
  },
  {
   "cell_type": "code",
   "execution_count": 25,
   "id": "113c1b93",
   "metadata": {
    "execution": {
     "iopub.execute_input": "2024-05-03T16:50:16.901212Z",
     "iopub.status.busy": "2024-05-03T16:50:16.900947Z",
     "iopub.status.idle": "2024-05-03T16:50:16.913343Z",
     "shell.execute_reply": "2024-05-03T16:50:16.912657Z"
    },
    "papermill": {
     "duration": 0.024821,
     "end_time": "2024-05-03T16:50:16.915033",
     "exception": false,
     "start_time": "2024-05-03T16:50:16.890212",
     "status": "completed"
    },
    "tags": []
   },
   "outputs": [],
   "source": [
    "def removeStones(stones: list[list[int]]) -> int:\n",
    "    \"\"\"Max stones that can be removed is (island_size - 1)\"\"\"\n",
    "    class DS:\n",
    "        def __init__(self) -> None:\n",
    "            self.size: dict[str, int] = {}\n",
    "            self.parents: dict[str, str] = {}\n",
    "\n",
    "        def findUltimateParent(self, node: str) -> str:\n",
    "            if node not in self.parents:\n",
    "                self.parents[node] = node\n",
    "                self.size[node] = 1 if 'r' in node else 0\n",
    "\n",
    "            if self.parents[node] == node:\n",
    "                return node\n",
    "            else:\n",
    "                self.parents[node] = self.findUltimateParent(self.parents[node])\n",
    "                return self.parents[node]\n",
    "\n",
    "        def unionBySize(self, row: str, col: str):\n",
    "            rp, cp = self.findUltimateParent(row), self.findUltimateParent(col)\n",
    "            rps, cps = self.size[rp], self.size[cp]\n",
    "            if rp == cp:\n",
    "                return\n",
    "            elif rps < cps:\n",
    "                self.parents[rp] = cp\n",
    "                self.size[cp] += self.size[rp]\n",
    "            else:\n",
    "                self.parents[cp] = rp\n",
    "                self.size[rp] += self.size[cp]\n",
    "\n",
    "    ds = DS()\n",
    "    for i, j in stones:\n",
    "        row, col = f'r{i}', f'c{j}'\n",
    "        ds.unionBySize(row, col)\n",
    "\n",
    "    # Reset the size, find unique parents\n",
    "    ds.size.clear()\n",
    "    parents: set[str] = set()\n",
    "    for i, _ in stones:\n",
    "        row = f'r{i}'\n",
    "        up = ds.findUltimateParent(row)\n",
    "        ds.size[up] = ds.size.get(up, 0) + 1\n",
    "        parents.add(up)\n",
    "\n",
    "    total = 0\n",
    "    for parent in parents:\n",
    "        total += ds.size[parent] - 1\n",
    "\n",
    "    return total\n",
    "\n",
    "# Testing the solution\n",
    "assert removeStones([[0,0],[0,2],[1,3],[3,1],[3,2],[4,3]]) == 4\n",
    "assert removeStones([[0,0],[1,1],[2,2],[2,3],[2,4],[3,2]]) == 3"
   ]
  }
 ],
 "metadata": {
  "kernelspec": {
   "display_name": "Python 3 (ipykernel)",
   "language": "python",
   "name": "python3"
  },
  "language_info": {
   "codemirror_mode": {
    "name": "ipython",
    "version": 3
   },
   "file_extension": ".py",
   "mimetype": "text/x-python",
   "name": "python",
   "nbconvert_exporter": "python",
   "pygments_lexer": "ipython3",
   "version": "3.10.14"
  },
  "papermill": {
   "default_parameters": {},
   "duration": 2.926492,
   "end_time": "2024-05-03T16:50:17.141289",
   "environment_variables": {},
   "exception": null,
   "input_path": "practice/002.ipynb",
   "output_path": "practice/002.ipynb",
   "parameters": {},
   "start_time": "2024-05-03T16:50:14.214797",
   "version": "2.5.0"
  }
 },
 "nbformat": 4,
 "nbformat_minor": 5
}