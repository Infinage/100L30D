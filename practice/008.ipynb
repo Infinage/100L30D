{
 "cells": [
  {
   "cell_type": "code",
   "execution_count": 1,
   "id": "8ff7cec0",
   "metadata": {
    "execution": {
     "iopub.execute_input": "2024-08-18T04:08:02.109000Z",
     "iopub.status.busy": "2024-08-18T04:08:02.108452Z",
     "iopub.status.idle": "2024-08-18T04:08:02.461500Z",
     "shell.execute_reply": "2024-08-18T04:08:02.460908Z"
    },
    "papermill": {
     "duration": 0.358534,
     "end_time": "2024-08-18T04:08:02.463097",
     "exception": false,
     "start_time": "2024-08-18T04:08:02.104563",
     "status": "completed"
    },
    "tags": []
   },
   "outputs": [],
   "source": [
    "from typing import List, Optional, Generator\n",
    "import typing\n",
    "import pandas as pd\n",
    "import numpy as np\n",
    "import sqlite3\n",
    "import re\n",
    "import io\n",
    "import math\n",
    "import collections\n",
    "import itertools\n",
    "import functools\n",
    "import random\n",
    "import string\n",
    "import tqdm\n",
    "import bisect\n",
    "import heapq\n",
    "import operator\n",
    "\n",
    "conn = sqlite3.connect(\":memory:\")\n",
    "\n",
    "def regexp(expr, item):\n",
    "    reg = re.compile(expr)\n",
    "    return reg.search(item) is not None\n",
    "\n",
    "def read_lc_df(s: str, dtypes: dict[str, str]=dict()) -> pd.DataFrame:\n",
    "    temp = pd.read_csv(io.StringIO(s), sep=\"|\", skiprows=2)\n",
    "    temp = temp.iloc[1:-1, 1:-1]\n",
    "    temp.columns = temp.columns.map(str.strip)\n",
    "    temp = temp.map(lambda x: x if type(x) != str else None if x.strip() == 'null' else x.strip())\n",
    "    temp = temp.astype(dtypes)\n",
    "    return temp\n",
    "\n",
    "conn.create_function(\"REGEXP\", 2, regexp)"
   ]
  },
  {
   "cell_type": "markdown",
   "id": "9b75edac",
   "metadata": {
    "papermill": {
     "duration": 0.002445,
     "end_time": "2024-08-18T04:08:02.468342",
     "exception": false,
     "start_time": "2024-08-18T04:08:02.465897",
     "status": "completed"
    },
    "tags": []
   },
   "source": [
    "#### Helper for Binary tree problems"
   ]
  },
  {
   "cell_type": "code",
   "execution_count": 2,
   "id": "d3f9effb",
   "metadata": {
    "execution": {
     "iopub.execute_input": "2024-08-18T04:08:02.474274Z",
     "iopub.status.busy": "2024-08-18T04:08:02.473744Z",
     "iopub.status.idle": "2024-08-18T04:08:02.479503Z",
     "shell.execute_reply": "2024-08-18T04:08:02.479088Z"
    },
    "lines_to_next_cell": 1,
    "papermill": {
     "duration": 0.009947,
     "end_time": "2024-08-18T04:08:02.480642",
     "exception": false,
     "start_time": "2024-08-18T04:08:02.470695",
     "status": "completed"
    },
    "tags": []
   },
   "outputs": [],
   "source": [
    "class BinaryTreeNode:\n",
    "    def __init__(self, val=0, left=None, right=None):\n",
    "        self.val = val\n",
    "        self.left = left\n",
    "        self.right = right\n",
    "\n",
    "    def to_list(self):\n",
    "        to_visit = [self]\n",
    "        visited = []\n",
    "        while len(to_visit) > 0:\n",
    "            curr = to_visit.pop(0)\n",
    "            if curr:\n",
    "                to_visit.append(curr.left)\n",
    "                to_visit.append(curr.right)\n",
    "                visited.append(curr.val)\n",
    "            else:\n",
    "                visited.append(curr)\n",
    "\n",
    "        while visited and not visited[-1]:\n",
    "            visited.pop()\n",
    "\n",
    "        return visited\n",
    "\n",
    "    def __str__(self):\n",
    "        return str(self.val)\n",
    "\n",
    "    @staticmethod\n",
    "    def from_array(nums: list[int|None]):\n",
    "        '''Create a Tree from a list of nums. Returns the root node.'''\n",
    "        if len(nums) == 0:\n",
    "            return None\n",
    "        elif len(nums) == 1:\n",
    "            return BinaryTreeNode(nums[0])\n",
    "        else:\n",
    "            forest = [BinaryTreeNode(nums[0])]\n",
    "            parent_idx = -1\n",
    "            for i in range(1, len(nums)):\n",
    "\n",
    "                curr = None\n",
    "                if nums[i] is not None:\n",
    "                    curr = BinaryTreeNode(nums[i])\n",
    "                    forest.append(curr)\n",
    "\n",
    "                if i % 2 == 1:\n",
    "                    parent_idx += 1\n",
    "                    forest[parent_idx].left = curr\n",
    "                else:\n",
    "                    forest[parent_idx].right = curr\n",
    "\n",
    "        return forest[0]"
   ]
  },
  {
   "cell_type": "markdown",
   "id": "0dc0f63e",
   "metadata": {
    "papermill": {
     "duration": 0.002502,
     "end_time": "2024-08-18T04:08:02.485498",
     "exception": false,
     "start_time": "2024-08-18T04:08:02.482996",
     "status": "completed"
    },
    "tags": []
   },
   "source": [
    "#### Helper for Singly Linked lists"
   ]
  },
  {
   "cell_type": "code",
   "execution_count": 3,
   "id": "c43bc790",
   "metadata": {
    "execution": {
     "iopub.execute_input": "2024-08-18T04:08:02.491333Z",
     "iopub.status.busy": "2024-08-18T04:08:02.490836Z",
     "iopub.status.idle": "2024-08-18T04:08:02.495115Z",
     "shell.execute_reply": "2024-08-18T04:08:02.494693Z"
    },
    "lines_to_next_cell": 1,
    "papermill": {
     "duration": 0.008348,
     "end_time": "2024-08-18T04:08:02.496226",
     "exception": false,
     "start_time": "2024-08-18T04:08:02.487878",
     "status": "completed"
    },
    "tags": []
   },
   "outputs": [],
   "source": [
    "class ListNode:\n",
    "    def __init__(self, val=0, next=None):\n",
    "        self.val = val\n",
    "        self.next = next\n",
    "\n",
    "    def __str__(self):\n",
    "        return str(self.val)\n",
    "\n",
    "    @staticmethod\n",
    "    def to_singly_linked_list(nums: list[int]):\n",
    "        root = prev = None\n",
    "        for n in nums:\n",
    "            curr = ListNode(n)\n",
    "            # Init once\n",
    "            if not root:\n",
    "                root = curr\n",
    "            if prev:\n",
    "                prev.next = curr\n",
    "            prev = curr\n",
    "\n",
    "        return root\n",
    "\n",
    "    def to_list(self) -> list[int]:\n",
    "        result = []\n",
    "        curr = self\n",
    "        while curr:\n",
    "            result.append(curr.val)\n",
    "            curr = curr.next\n",
    "        return result"
   ]
  },
  {
   "cell_type": "markdown",
   "id": "e514eda2",
   "metadata": {
    "papermill": {
     "duration": 0.002282,
     "end_time": "2024-08-18T04:08:02.500863",
     "exception": false,
     "start_time": "2024-08-18T04:08:02.498581",
     "status": "completed"
    },
    "tags": []
   },
   "source": [
    "CF Div 2 - 15th Aug 2024"
   ]
  },
  {
   "cell_type": "code",
   "execution_count": 4,
   "id": "ce489edd",
   "metadata": {
    "execution": {
     "iopub.execute_input": "2024-08-18T04:08:02.506837Z",
     "iopub.status.busy": "2024-08-18T04:08:02.506376Z",
     "iopub.status.idle": "2024-08-18T04:08:02.509768Z",
     "shell.execute_reply": "2024-08-18T04:08:02.509304Z"
    },
    "lines_to_next_cell": 1,
    "papermill": {
     "duration": 0.007476,
     "end_time": "2024-08-18T04:08:02.510855",
     "exception": false,
     "start_time": "2024-08-18T04:08:02.503379",
     "status": "completed"
    },
    "tags": []
   },
   "outputs": [],
   "source": [
    "def closest_point(N: int, points: list[int]) -> bool:\n",
    "    return N == 2 and abs(points[0] - points[1]) > 1\n",
    "\n",
    "# Testing the solution\n",
    "assert closest_point(2, [3,8]) == True\n",
    "assert closest_point(2, [5,6]) == False\n",
    "assert closest_point(6, [1,2,3,4,5,10]) == False"
   ]
  },
  {
   "cell_type": "markdown",
   "id": "8673e525",
   "metadata": {
    "papermill": {
     "duration": 0.002368,
     "end_time": "2024-08-18T04:08:02.515720",
     "exception": false,
     "start_time": "2024-08-18T04:08:02.513352",
     "status": "completed"
    },
    "tags": []
   },
   "source": [
    "Upsolvng CF Contest - Div 2"
   ]
  },
  {
   "cell_type": "code",
   "execution_count": 5,
   "id": "7b5a343d",
   "metadata": {
    "execution": {
     "iopub.execute_input": "2024-08-18T04:08:02.521570Z",
     "iopub.status.busy": "2024-08-18T04:08:02.521163Z",
     "iopub.status.idle": "2024-08-18T04:08:02.525260Z",
     "shell.execute_reply": "2024-08-18T04:08:02.524768Z"
    },
    "lines_to_next_cell": 1,
    "papermill": {
     "duration": 0.008366,
     "end_time": "2024-08-18T04:08:02.526450",
     "exception": false,
     "start_time": "2024-08-18T04:08:02.518084",
     "status": "completed"
    },
    "tags": []
   },
   "outputs": [],
   "source": [
    "def game_with_doors(AL: int, AR: int, BL: int, BR: int) -> int:\n",
    "    \"\"\"\n",
    "    For the overlapping portion, all doors must be closed\n",
    "    For non overlapping portion, suffices to close just one door at each side\n",
    "    \"\"\"\n",
    "    # Check for overlap\n",
    "    oL, oR = max(AL, BL), min(AR, BR)\n",
    "    if oL <= oR:\n",
    "        locks = oR - oL\n",
    "        if abs(AL - BL) > 0:\n",
    "            locks += 1\n",
    "        if abs(AR  - BR) > 0:\n",
    "            locks += 1\n",
    "        return locks\n",
    "    else:\n",
    "        return 1\n",
    "\n",
    "# Testing the solution\n",
    "assert game_with_doors(1, 2, 3, 4) == 1\n",
    "assert game_with_doors(2, 5, 2, 5) == 3\n",
    "assert game_with_doors(3, 7, 6, 7) == 2\n",
    "assert game_with_doors(4, 5, 2, 8) == 3"
   ]
  },
  {
   "cell_type": "code",
   "execution_count": 6,
   "id": "0f33a487",
   "metadata": {
    "execution": {
     "iopub.execute_input": "2024-08-18T04:08:02.532208Z",
     "iopub.status.busy": "2024-08-18T04:08:02.531903Z",
     "iopub.status.idle": "2024-08-18T04:08:02.536182Z",
     "shell.execute_reply": "2024-08-18T04:08:02.535717Z"
    },
    "lines_to_next_cell": 1,
    "papermill": {
     "duration": 0.008384,
     "end_time": "2024-08-18T04:08:02.537281",
     "exception": false,
     "start_time": "2024-08-18T04:08:02.528897",
     "status": "completed"
    },
    "tags": []
   },
   "outputs": [],
   "source": [
    "def splitting_items(N: int, K: int, costs: list[int]) -> int:\n",
    "    \"\"\"\n",
    "    * Playing optimally implies that\n",
    "        - Alice tries to pick up the largest costing item available\n",
    "        - Bob picks up the largest costing item available\n",
    "        - Alice picks up items at odd indices, Bob at even indices (post sorting)\n",
    "    * To minimize `A - B`, Bob should increase cost of items at even indices\n",
    "    * We can update delta on the fly until K > 0\n",
    "    \"\"\"\n",
    "    costs.sort()\n",
    "    result = 0\n",
    "    while costs:\n",
    "        if len(costs) >= 2:\n",
    "            delta = costs.pop() - costs.pop()\n",
    "            if K < delta:\n",
    "                result += delta - K\n",
    "            K = max(0, K - delta)\n",
    "        else:\n",
    "            result += costs.pop()\n",
    "\n",
    "    return result\n",
    "\n",
    "# Testing the solution\n",
    "assert splitting_items(3, 0, [10, 15, 12]) == 13\n",
    "assert splitting_items(2, 5, [1, 10]) == 4\n",
    "assert splitting_items(4, 6, [3, 1, 2, 4]) == 0\n",
    "assert splitting_items(2, 4, [6, 9]) == 0\n",
    "assert splitting_items(3, 1, [1, 1, 1]) == 1"
   ]
  },
  {
   "cell_type": "code",
   "execution_count": 7,
   "id": "a2923864",
   "metadata": {
    "execution": {
     "iopub.execute_input": "2024-08-18T04:08:02.543110Z",
     "iopub.status.busy": "2024-08-18T04:08:02.542701Z",
     "iopub.status.idle": "2024-08-18T04:08:02.550946Z",
     "shell.execute_reply": "2024-08-18T04:08:02.550418Z"
    },
    "lines_to_next_cell": 1,
    "papermill": {
     "duration": 0.012874,
     "end_time": "2024-08-18T04:08:02.552532",
     "exception": false,
     "start_time": "2024-08-18T04:08:02.539658",
     "status": "completed"
    },
    "tags": []
   },
   "outputs": [],
   "source": [
    "def colored_portals(N: int, Q: int, cities: list[str], queries: list[tuple[int, int]]) -> list[int]:\n",
    "    \"\"\"\n",
    "    If cities of i, j share a common color, shortest path to reach would abs(i - j)\n",
    "    Otherwise, we check for common colors between target:\n",
    "        - If no common colors return -1\n",
    "        - Elif if there exists a common point between i, j return abs(i - j)\n",
    "        - Else search for points to left of i and right i with common portal and check both distances, return least of two (use binary search)\n",
    "    \"\"\"\n",
    "\n",
    "    # Store to hashmap for quick lookup times\n",
    "    portal_groups: collections.defaultdict[str, list] = collections.defaultdict(list)\n",
    "    for i, portal_type in enumerate(cities):\n",
    "        portal_groups[portal_type].append(i)\n",
    "\n",
    "    # Process the queries\n",
    "    results: list[int] = []\n",
    "    for i, j in queries:\n",
    "        i, j = i - 1, j - 1\n",
    "        a, b, c, d = cities[i][0], cities[i][1], cities[j][0], cities[j][1]\n",
    "\n",
    "        # All 4 distinct portals\n",
    "        if len(set([a, b, c, d])) == 4:\n",
    "            distance = math.inf\n",
    "            for comb in [(a, c), (a, d), (b, c), (b, d)]:\n",
    "                common = \"\".join(sorted(comb))\n",
    "                idx = bisect.bisect(portal_groups[common], i)\n",
    "                left, right = idx - 1, idx\n",
    "                if 0 <= left < len(portal_groups[common]):\n",
    "                    distance = min(distance, abs(portal_groups[common][left] - i) + abs(portal_groups[common][left] - j))\n",
    "\n",
    "                if 0 <= right < len(portal_groups[common]):\n",
    "                    distance = min(distance, abs(portal_groups[common][right] - i) + abs(portal_groups[common][right] - j))\n",
    "\n",
    "            results.append(int(distance) if not math.isinf(distance) else -1)\n",
    "\n",
    "        # Atleast one color in common\n",
    "        else:\n",
    "           results.append(abs(j - i))\n",
    "\n",
    "    return results\n",
    "\n",
    "# Testing the solution\n",
    "assert colored_portals(6, 6, [\"RY\", \"RY\", \"GY\", \"RY\", \"GB\", \"RY\"], [(2,5), (4,5), (1,4), (4,1), (5,4), (5,2)]) == [3,3,3,3,3,3]\n",
    "assert colored_portals(9, 3, [\"RY\", \"RY\", \"BR\", \"BR\", \"BR\", \"BR\", \"GY\", \"GY\", \"RY\"], [(3,7), (2,5), (6,7)]) == [6,3,5]\n",
    "assert colored_portals(4, 5, [\"BR\",\"BR\",\"GY\",\"GR\"], [(1,2), (3,1), (4,4), (1,4), (4,2)]) == [1,4,0,3,2]"
   ]
  },
  {
   "cell_type": "markdown",
   "id": "cb4a0d4d",
   "metadata": {
    "papermill": {
     "duration": 0.002319,
     "end_time": "2024-08-18T04:08:02.558136",
     "exception": false,
     "start_time": "2024-08-18T04:08:02.555817",
     "status": "completed"
    },
    "tags": []
   },
   "source": [
    "Find MEX of a set"
   ]
  },
  {
   "cell_type": "code",
   "execution_count": 8,
   "id": "3def0aea",
   "metadata": {
    "execution": {
     "iopub.execute_input": "2024-08-18T04:08:02.563917Z",
     "iopub.status.busy": "2024-08-18T04:08:02.563467Z",
     "iopub.status.idle": "2024-08-18T04:08:02.567295Z",
     "shell.execute_reply": "2024-08-18T04:08:02.566827Z"
    },
    "lines_to_next_cell": 1,
    "papermill": {
     "duration": 0.007958,
     "end_time": "2024-08-18T04:08:02.568446",
     "exception": false,
     "start_time": "2024-08-18T04:08:02.560488",
     "status": "completed"
    },
    "tags": []
   },
   "outputs": [],
   "source": [
    "def MEX(N: int, nums: list[int]) -> int:\n",
    "    \"\"\"\n",
    "    There is a more optimized version for cases where nums are frequently updated.\n",
    "    \"\"\"\n",
    "    xor = functools.reduce(operator.xor, nums, 0)\n",
    "    missing = functools.reduce(operator.xor, range(N), xor)\n",
    "    return missing\n",
    "\n",
    "# Testing the solution\n",
    "assert MEX(5, [0,2,3,4]) == 1\n",
    "assert MEX(3, [1,2]) == 0\n",
    "assert MEX(3, [2,0]) == 1\n",
    "assert MEX(4, [2,0,1]) == 3"
   ]
  },
  {
   "cell_type": "code",
   "execution_count": 9,
   "id": "da4aab78",
   "metadata": {
    "execution": {
     "iopub.execute_input": "2024-08-18T04:08:02.574643Z",
     "iopub.status.busy": "2024-08-18T04:08:02.574140Z",
     "iopub.status.idle": "2024-08-18T04:08:02.576904Z",
     "shell.execute_reply": "2024-08-18T04:08:02.576382Z"
    },
    "papermill": {
     "duration": 0.00742,
     "end_time": "2024-08-18T04:08:02.578319",
     "exception": false,
     "start_time": "2024-08-18T04:08:02.570899",
     "status": "completed"
    },
    "tags": []
   },
   "outputs": [],
   "source": [
    "# Leetcode Weekly: 18th Aug 2024"
   ]
  },
  {
   "cell_type": "code",
   "execution_count": 10,
   "id": "6e75c57f",
   "metadata": {
    "execution": {
     "iopub.execute_input": "2024-08-18T04:08:02.584555Z",
     "iopub.status.busy": "2024-08-18T04:08:02.584167Z",
     "iopub.status.idle": "2024-08-18T04:08:02.588225Z",
     "shell.execute_reply": "2024-08-18T04:08:02.587687Z"
    },
    "lines_to_next_cell": 1,
    "papermill": {
     "duration": 0.008145,
     "end_time": "2024-08-18T04:08:02.589337",
     "exception": false,
     "start_time": "2024-08-18T04:08:02.581192",
     "status": "completed"
    },
    "tags": []
   },
   "outputs": [],
   "source": [
    "def countKConstraintSubstrings(S: str, K: int) -> int:\n",
    "    N = len(S)\n",
    "    total = 0\n",
    "    for i in range(N):\n",
    "        zeros = ones = 0\n",
    "        for j in range(i, N):\n",
    "            if S[j] == '1':\n",
    "                ones += 1\n",
    "            else:\n",
    "                zeros += 1\n",
    "            if ones <= K or zeros <= K:\n",
    "                total += 1\n",
    "            else:\n",
    "                break\n",
    "    return total\n",
    "\n",
    "# Testing the solution\n",
    "assert countKConstraintSubstrings(\"10101\", 1) == 12\n",
    "assert countKConstraintSubstrings(\"1010101\", 2) == 25\n",
    "assert countKConstraintSubstrings(\"11111\", 1) == 15"
   ]
  },
  {
   "cell_type": "code",
   "execution_count": 11,
   "id": "d07f83c8",
   "metadata": {
    "execution": {
     "iopub.execute_input": "2024-08-18T04:08:02.595373Z",
     "iopub.status.busy": "2024-08-18T04:08:02.594977Z",
     "iopub.status.idle": "2024-08-18T04:08:02.599181Z",
     "shell.execute_reply": "2024-08-18T04:08:02.598631Z"
    },
    "lines_to_next_cell": 1,
    "papermill": {
     "duration": 0.008531,
     "end_time": "2024-08-18T04:08:02.600372",
     "exception": false,
     "start_time": "2024-08-18T04:08:02.591841",
     "status": "completed"
    },
    "tags": []
   },
   "outputs": [],
   "source": [
    "def maxEnergyBoost(energyDrinkA: list[int], energyDrinkB: list[int]) -> int:\n",
    "    @functools.cache\n",
    "    def backtrack(i: int, prev: int = 0) -> int:\n",
    "        if i == N:\n",
    "            return 0\n",
    "        else:\n",
    "            max_energy = backtrack(i + 1, 0)\n",
    "            if prev != 2:\n",
    "                max_energy = max(max_energy, energyDrinkA[i] + backtrack(i + 1, 1))\n",
    "            if prev != 1:\n",
    "                max_energy = max(max_energy, energyDrinkB[i] + backtrack(i + 1, 2))\n",
    "            return max_energy\n",
    "\n",
    "    N = len(energyDrinkA)\n",
    "    return backtrack(0)\n",
    "\n",
    "# Testing the solution\n",
    "assert maxEnergyBoost([1,3,1], [3,1,1]) == 5\n",
    "assert maxEnergyBoost([4,1,1], [1,1,3]) == 7"
   ]
  },
  {
   "cell_type": "markdown",
   "id": "8cfb5d9c",
   "metadata": {},
   "source": [
    "CP Practice - 19th Aug 2024"
   ]
  },
  {
   "cell_type": "code",
   "execution_count": 12,
   "id": "24f03799",
   "metadata": {
    "execution": {
     "iopub.execute_input": "2024-08-18T04:08:02.606558Z",
     "iopub.status.busy": "2024-08-18T04:08:02.606144Z",
     "iopub.status.idle": "2024-08-18T04:08:02.612972Z",
     "shell.execute_reply": "2024-08-18T04:08:02.612471Z"
    },
    "tags": []
   },
   "outputs": [
    {
     "name": "stdout",
     "output_type": "stream",
     "text": [
      "1 1 9\n",
      "2 1 99\n",
      "3 1 999\n",
      "4 1 9999\n",
      "1 2 8\n",
      "2 2 88\n",
      "3 2 898\n",
      "4 2 8998\n",
      "1 3 9\n",
      "2 3 99\n",
      "3 3 999\n",
      "4 3 9999\n",
      "1 4 8\n",
      "2 4 88\n",
      "3 4 888\n",
      "4 4 8888\n",
      "1 5 5\n",
      "2 5 55\n",
      "3 5 595\n",
      "4 5 5995\n",
      "1 6 6\n",
      "2 6 66\n",
      "3 6 888\n",
      "4 6 8778\n",
      "1 7 7\n",
      "2 7 77\n",
      "3 7 959\n",
      "4 7 9779\n",
      "1 8 8\n",
      "2 8 88\n",
      "3 8 888\n",
      "4 8 8888\n",
      "1 9 9\n",
      "2 9 99\n",
      "3 9 999\n",
      "4 9 9999\n"
     ]
    }
   ],
   "source": [
    "def learning_languages(N: int, M: int, languages_known: list[tuple[int, list[int]]]) -> int:\n",
    "    # Store the speakers who speak a particular language\n",
    "    language_speakers: collections.defaultdict[int, list[int]] = collections.defaultdict(list)\n",
    "    for employee, (count, languages) in enumerate(languages_known):\n",
    "        for language in languages:\n",
    "            language_speakers[language].append(employee)\n",
    "\n",
    "    # Perform a DFS traversal, we need to count the number of distinct groups\n",
    "    visited: set[int] = set()\n",
    "    know_nothings, groups = 0, 0\n",
    "    for i in range(N):\n",
    "        if i not in visited:\n",
    "            if languages_known[i][0]:\n",
    "                groups += 1\n",
    "                stack: list[int] = [i]\n",
    "                visited.add(i)\n",
    "                while stack:\n",
    "                    emp = stack.pop()\n",
    "                    for language in languages_known[emp][1]:\n",
    "                        for next_emp in language_speakers[language]:\n",
    "                            if next_emp not in visited:\n",
    "                                stack.append(next_emp)\n",
    "                                visited.add(next_emp)\n",
    "            else:\n",
    "                know_nothings += 1\n",
    "\n",
    "    return max(groups - 1, 0) + know_nothings\n",
    "\n",
    "# Testing the solution\n",
    "assert learning_languages(8, 7, [(0, []), (3, [1,2,3]), (1, [1]), (2, [5,4]), (2, [6,7]), (1, [3]), (2, [7,4]), (1, [1])]) == 2\n",
    "assert learning_languages(2, 2, [(1, [2]), (0, [])]) == 1\n",
    "assert learning_languages(5, 5, [(1, [2]), (2, [2,3]), (2, [3,4]), (2, [4,5]), (1, [5])]) == 0\n",
    "assert learning_languages(2, 2, [(0, []), (0, [])]) == 2\n",
    "assert learning_languages(3, 2, [(0, []), (1, [1]), (1, [2])]) == 2"
   ]
  }
 ],
 "metadata": {
  "kernelspec": {
   "display_name": "Python 3 (ipykernel)",
   "language": "python",
   "name": "python3"
  },
  "language_info": {
   "codemirror_mode": {
    "name": "ipython",
    "version": 3
   },
   "file_extension": ".py",
   "mimetype": "text/x-python",
   "name": "python",
   "nbconvert_exporter": "python",
   "pygments_lexer": "ipython3",
   "version": "3.12.3"
  },
  "papermill": {
   "default_parameters": {},
   "duration": 1.873681,
   "end_time": "2024-08-18T04:08:02.831905",
   "environment_variables": {},
   "exception": null,
   "input_path": "practice/008.ipynb",
   "output_path": "practice/008.ipynb",
   "parameters": {},
   "start_time": "2024-08-18T04:08:00.958224",
   "version": "2.6.0"
  }
 },
 "nbformat": 4,
 "nbformat_minor": 5
}
