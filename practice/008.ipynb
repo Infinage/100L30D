{
 "cells": [
  {
   "cell_type": "code",
   "execution_count": 1,
   "id": "8ff7cec0",
   "metadata": {
    "execution": {
     "iopub.execute_input": "2024-08-22T16:54:25.897309Z",
     "iopub.status.busy": "2024-08-22T16:54:25.896720Z",
     "iopub.status.idle": "2024-08-22T16:54:26.278719Z",
     "shell.execute_reply": "2024-08-22T16:54:26.278102Z"
    },
    "papermill": {
     "duration": 0.388947,
     "end_time": "2024-08-22T16:54:26.280369",
     "exception": false,
     "start_time": "2024-08-22T16:54:25.891422",
     "status": "completed"
    },
    "tags": []
   },
   "outputs": [],
   "source": [
    "from typing import List, Optional, Generator\n",
    "import typing\n",
    "import pandas as pd\n",
    "import numpy as np\n",
    "import sqlite3\n",
    "import re\n",
    "import io\n",
    "import math\n",
    "import collections\n",
    "import itertools\n",
    "import functools\n",
    "import random\n",
    "import string\n",
    "import tqdm\n",
    "import bisect\n",
    "import heapq\n",
    "import operator\n",
    "\n",
    "conn = sqlite3.connect(\":memory:\")\n",
    "\n",
    "def regexp(expr, item):\n",
    "    reg = re.compile(expr)\n",
    "    return reg.search(item) is not None\n",
    "\n",
    "def read_lc_df(s: str, dtypes: dict[str, str]=dict()) -> pd.DataFrame:\n",
    "    temp = pd.read_csv(io.StringIO(s), sep=\"|\", skiprows=2)\n",
    "    temp = temp.iloc[1:-1, 1:-1]\n",
    "    temp.columns = temp.columns.map(str.strip)\n",
    "    temp = temp.map(lambda x: x if type(x) != str else None if x.strip() == 'null' else x.strip())\n",
    "    temp = temp.astype(dtypes)\n",
    "    return temp\n",
    "\n",
    "conn.create_function(\"REGEXP\", 2, regexp)"
   ]
  },
  {
   "cell_type": "markdown",
   "id": "9b75edac",
   "metadata": {
    "papermill": {
     "duration": 0.003115,
     "end_time": "2024-08-22T16:54:26.287034",
     "exception": false,
     "start_time": "2024-08-22T16:54:26.283919",
     "status": "completed"
    },
    "tags": []
   },
   "source": [
    "#### Helper for Binary tree problems"
   ]
  },
  {
   "cell_type": "code",
   "execution_count": 2,
   "id": "d3f9effb",
   "metadata": {
    "execution": {
     "iopub.execute_input": "2024-08-22T16:54:26.294449Z",
     "iopub.status.busy": "2024-08-22T16:54:26.293964Z",
     "iopub.status.idle": "2024-08-22T16:54:26.300391Z",
     "shell.execute_reply": "2024-08-22T16:54:26.299836Z"
    },
    "lines_to_next_cell": 1,
    "papermill": {
     "duration": 0.011415,
     "end_time": "2024-08-22T16:54:26.301511",
     "exception": false,
     "start_time": "2024-08-22T16:54:26.290096",
     "status": "completed"
    },
    "tags": []
   },
   "outputs": [],
   "source": [
    "class BinaryTreeNode:\n",
    "    def __init__(self, val=0, left=None, right=None):\n",
    "        self.val = val\n",
    "        self.left = left\n",
    "        self.right = right\n",
    "\n",
    "    def to_list(self):\n",
    "        to_visit = [self]\n",
    "        visited = []\n",
    "        while len(to_visit) > 0:\n",
    "            curr = to_visit.pop(0)\n",
    "            if curr:\n",
    "                to_visit.append(curr.left)\n",
    "                to_visit.append(curr.right)\n",
    "                visited.append(curr.val)\n",
    "            else:\n",
    "                visited.append(curr)\n",
    "\n",
    "        while visited and not visited[-1]:\n",
    "            visited.pop()\n",
    "\n",
    "        return visited\n",
    "\n",
    "    def __str__(self):\n",
    "        return str(self.val)\n",
    "\n",
    "    @staticmethod\n",
    "    def from_array(nums: list[int|None]):\n",
    "        '''Create a Tree from a list of nums. Returns the root node.'''\n",
    "        if len(nums) == 0:\n",
    "            return None\n",
    "        elif len(nums) == 1:\n",
    "            return BinaryTreeNode(nums[0])\n",
    "        else:\n",
    "            forest = [BinaryTreeNode(nums[0])]\n",
    "            parent_idx = -1\n",
    "            for i in range(1, len(nums)):\n",
    "\n",
    "                curr = None\n",
    "                if nums[i] is not None:\n",
    "                    curr = BinaryTreeNode(nums[i])\n",
    "                    forest.append(curr)\n",
    "\n",
    "                if i % 2 == 1:\n",
    "                    parent_idx += 1\n",
    "                    forest[parent_idx].left = curr\n",
    "                else:\n",
    "                    forest[parent_idx].right = curr\n",
    "\n",
    "        return forest[0]"
   ]
  },
  {
   "cell_type": "markdown",
   "id": "0dc0f63e",
   "metadata": {
    "papermill": {
     "duration": 0.002937,
     "end_time": "2024-08-22T16:54:26.307522",
     "exception": false,
     "start_time": "2024-08-22T16:54:26.304585",
     "status": "completed"
    },
    "tags": []
   },
   "source": [
    "#### Helper for Singly Linked lists"
   ]
  },
  {
   "cell_type": "code",
   "execution_count": 3,
   "id": "c43bc790",
   "metadata": {
    "execution": {
     "iopub.execute_input": "2024-08-22T16:54:26.319912Z",
     "iopub.status.busy": "2024-08-22T16:54:26.319363Z",
     "iopub.status.idle": "2024-08-22T16:54:26.323870Z",
     "shell.execute_reply": "2024-08-22T16:54:26.323382Z"
    },
    "lines_to_next_cell": 1,
    "papermill": {
     "duration": 0.009437,
     "end_time": "2024-08-22T16:54:26.325059",
     "exception": false,
     "start_time": "2024-08-22T16:54:26.315622",
     "status": "completed"
    },
    "tags": []
   },
   "outputs": [],
   "source": [
    "class ListNode:\n",
    "    def __init__(self, val=0, next=None):\n",
    "        self.val = val\n",
    "        self.next = next\n",
    "\n",
    "    def __str__(self):\n",
    "        return str(self.val)\n",
    "\n",
    "    @staticmethod\n",
    "    def to_singly_linked_list(nums: list[int]):\n",
    "        root = prev = None\n",
    "        for n in nums:\n",
    "            curr = ListNode(n)\n",
    "            # Init once\n",
    "            if not root:\n",
    "                root = curr\n",
    "            if prev:\n",
    "                prev.next = curr\n",
    "            prev = curr\n",
    "\n",
    "        return root\n",
    "\n",
    "    def to_list(self) -> list[int]:\n",
    "        result = []\n",
    "        curr = self\n",
    "        while curr:\n",
    "            result.append(curr.val)\n",
    "            curr = curr.next\n",
    "        return result"
   ]
  },
  {
   "cell_type": "markdown",
   "id": "e514eda2",
   "metadata": {
    "papermill": {
     "duration": 0.003159,
     "end_time": "2024-08-22T16:54:26.331466",
     "exception": false,
     "start_time": "2024-08-22T16:54:26.328307",
     "status": "completed"
    },
    "tags": []
   },
   "source": [
    "CF Div 2 - 15th Aug 2024"
   ]
  },
  {
   "cell_type": "code",
   "execution_count": 4,
   "id": "ce489edd",
   "metadata": {
    "execution": {
     "iopub.execute_input": "2024-08-22T16:54:26.339101Z",
     "iopub.status.busy": "2024-08-22T16:54:26.338511Z",
     "iopub.status.idle": "2024-08-22T16:54:26.342596Z",
     "shell.execute_reply": "2024-08-22T16:54:26.342123Z"
    },
    "lines_to_next_cell": 1,
    "papermill": {
     "duration": 0.009216,
     "end_time": "2024-08-22T16:54:26.343820",
     "exception": false,
     "start_time": "2024-08-22T16:54:26.334604",
     "status": "completed"
    },
    "tags": []
   },
   "outputs": [],
   "source": [
    "def closest_point(N: int, points: list[int]) -> bool:\n",
    "    return N == 2 and abs(points[0] - points[1]) > 1\n",
    "\n",
    "# Testing the solution\n",
    "assert closest_point(2, [3,8]) == True\n",
    "assert closest_point(2, [5,6]) == False\n",
    "assert closest_point(6, [1,2,3,4,5,10]) == False"
   ]
  },
  {
   "cell_type": "markdown",
   "id": "8673e525",
   "metadata": {
    "papermill": {
     "duration": 0.003136,
     "end_time": "2024-08-22T16:54:26.350250",
     "exception": false,
     "start_time": "2024-08-22T16:54:26.347114",
     "status": "completed"
    },
    "tags": []
   },
   "source": [
    "Upsolvng CF Contest - Div 2"
   ]
  },
  {
   "cell_type": "code",
   "execution_count": 5,
   "id": "7b5a343d",
   "metadata": {
    "execution": {
     "iopub.execute_input": "2024-08-22T16:54:26.357947Z",
     "iopub.status.busy": "2024-08-22T16:54:26.357531Z",
     "iopub.status.idle": "2024-08-22T16:54:26.362087Z",
     "shell.execute_reply": "2024-08-22T16:54:26.361583Z"
    },
    "lines_to_next_cell": 1,
    "papermill": {
     "duration": 0.0099,
     "end_time": "2024-08-22T16:54:26.363286",
     "exception": false,
     "start_time": "2024-08-22T16:54:26.353386",
     "status": "completed"
    },
    "tags": []
   },
   "outputs": [],
   "source": [
    "def game_with_doors(AL: int, AR: int, BL: int, BR: int) -> int:\n",
    "    \"\"\"\n",
    "    For the overlapping portion, all doors must be closed\n",
    "    For non overlapping portion, suffices to close just one door at each side\n",
    "    \"\"\"\n",
    "    # Check for overlap\n",
    "    oL, oR = max(AL, BL), min(AR, BR)\n",
    "    if oL <= oR:\n",
    "        locks = oR - oL\n",
    "        if abs(AL - BL) > 0:\n",
    "            locks += 1\n",
    "        if abs(AR  - BR) > 0:\n",
    "            locks += 1\n",
    "        return locks\n",
    "    else:\n",
    "        return 1\n",
    "\n",
    "# Testing the solution\n",
    "assert game_with_doors(1, 2, 3, 4) == 1\n",
    "assert game_with_doors(2, 5, 2, 5) == 3\n",
    "assert game_with_doors(3, 7, 6, 7) == 2\n",
    "assert game_with_doors(4, 5, 2, 8) == 3"
   ]
  },
  {
   "cell_type": "code",
   "execution_count": 6,
   "id": "0f33a487",
   "metadata": {
    "execution": {
     "iopub.execute_input": "2024-08-22T16:54:26.371134Z",
     "iopub.status.busy": "2024-08-22T16:54:26.370695Z",
     "iopub.status.idle": "2024-08-22T16:54:26.375911Z",
     "shell.execute_reply": "2024-08-22T16:54:26.375390Z"
    },
    "lines_to_next_cell": 1,
    "papermill": {
     "duration": 0.010414,
     "end_time": "2024-08-22T16:54:26.377108",
     "exception": false,
     "start_time": "2024-08-22T16:54:26.366694",
     "status": "completed"
    },
    "tags": []
   },
   "outputs": [],
   "source": [
    "def splitting_items(N: int, K: int, costs: list[int]) -> int:\n",
    "    \"\"\"\n",
    "    * Playing optimally implies that\n",
    "        - Alice tries to pick up the largest costing item available\n",
    "        - Bob picks up the largest costing item available\n",
    "        - Alice picks up items at odd indices, Bob at even indices (post sorting)\n",
    "    * To minimize `A - B`, Bob should increase cost of items at even indices\n",
    "    * We can update delta on the fly until K > 0\n",
    "    \"\"\"\n",
    "    costs.sort()\n",
    "    result = 0\n",
    "    while costs:\n",
    "        if len(costs) >= 2:\n",
    "            delta = costs.pop() - costs.pop()\n",
    "            if K < delta:\n",
    "                result += delta - K\n",
    "            K = max(0, K - delta)\n",
    "        else:\n",
    "            result += costs.pop()\n",
    "\n",
    "    return result\n",
    "\n",
    "# Testing the solution\n",
    "assert splitting_items(3, 0, [10, 15, 12]) == 13\n",
    "assert splitting_items(2, 5, [1, 10]) == 4\n",
    "assert splitting_items(4, 6, [3, 1, 2, 4]) == 0\n",
    "assert splitting_items(2, 4, [6, 9]) == 0\n",
    "assert splitting_items(3, 1, [1, 1, 1]) == 1"
   ]
  },
  {
   "cell_type": "code",
   "execution_count": 7,
   "id": "a2923864",
   "metadata": {
    "execution": {
     "iopub.execute_input": "2024-08-22T16:54:26.385631Z",
     "iopub.status.busy": "2024-08-22T16:54:26.385115Z",
     "iopub.status.idle": "2024-08-22T16:54:26.394911Z",
     "shell.execute_reply": "2024-08-22T16:54:26.394386Z"
    },
    "lines_to_next_cell": 1,
    "papermill": {
     "duration": 0.016212,
     "end_time": "2024-08-22T16:54:26.396806",
     "exception": false,
     "start_time": "2024-08-22T16:54:26.380594",
     "status": "completed"
    },
    "tags": []
   },
   "outputs": [],
   "source": [
    "def colored_portals(N: int, Q: int, cities: list[str], queries: list[tuple[int, int]]) -> list[int]:\n",
    "    \"\"\"\n",
    "    If cities of i, j share a common color, shortest path to reach would abs(i - j)\n",
    "    Otherwise, we check for common colors between target:\n",
    "        - If no common colors return -1\n",
    "        - Elif if there exists a common point between i, j return abs(i - j)\n",
    "        - Else search for points to left of i and right i with common portal and check both distances, return least of two (use binary search)\n",
    "    \"\"\"\n",
    "\n",
    "    # Store to hashmap for quick lookup times\n",
    "    portal_groups: collections.defaultdict[str, list] = collections.defaultdict(list)\n",
    "    for i, portal_type in enumerate(cities):\n",
    "        portal_groups[portal_type].append(i)\n",
    "\n",
    "    # Process the queries\n",
    "    results: list[int] = []\n",
    "    for i, j in queries:\n",
    "        i, j = i - 1, j - 1\n",
    "        a, b, c, d = cities[i][0], cities[i][1], cities[j][0], cities[j][1]\n",
    "\n",
    "        # All 4 distinct portals\n",
    "        if len(set([a, b, c, d])) == 4:\n",
    "            distance = math.inf\n",
    "            for comb in [(a, c), (a, d), (b, c), (b, d)]:\n",
    "                common = \"\".join(sorted(comb))\n",
    "                idx = bisect.bisect(portal_groups[common], i)\n",
    "                left, right = idx - 1, idx\n",
    "                if 0 <= left < len(portal_groups[common]):\n",
    "                    distance = min(distance, abs(portal_groups[common][left] - i) + abs(portal_groups[common][left] - j))\n",
    "\n",
    "                if 0 <= right < len(portal_groups[common]):\n",
    "                    distance = min(distance, abs(portal_groups[common][right] - i) + abs(portal_groups[common][right] - j))\n",
    "\n",
    "            results.append(int(distance) if not math.isinf(distance) else -1)\n",
    "\n",
    "        # Atleast one color in common\n",
    "        else:\n",
    "           results.append(abs(j - i))\n",
    "\n",
    "    return results\n",
    "\n",
    "# Testing the solution\n",
    "assert colored_portals(6, 6, [\"RY\", \"RY\", \"GY\", \"RY\", \"GB\", \"RY\"], [(2,5), (4,5), (1,4), (4,1), (5,4), (5,2)]) == [3,3,3,3,3,3]\n",
    "assert colored_portals(9, 3, [\"RY\", \"RY\", \"BR\", \"BR\", \"BR\", \"BR\", \"GY\", \"GY\", \"RY\"], [(3,7), (2,5), (6,7)]) == [6,3,5]\n",
    "assert colored_portals(4, 5, [\"BR\",\"BR\",\"GY\",\"GR\"], [(1,2), (3,1), (4,4), (1,4), (4,2)]) == [1,4,0,3,2]"
   ]
  },
  {
   "cell_type": "markdown",
   "id": "cb4a0d4d",
   "metadata": {
    "papermill": {
     "duration": 0.003462,
     "end_time": "2024-08-22T16:54:26.404777",
     "exception": false,
     "start_time": "2024-08-22T16:54:26.401315",
     "status": "completed"
    },
    "tags": []
   },
   "source": [
    "Find MEX of a set"
   ]
  },
  {
   "cell_type": "code",
   "execution_count": 8,
   "id": "3def0aea",
   "metadata": {
    "execution": {
     "iopub.execute_input": "2024-08-22T16:54:26.412870Z",
     "iopub.status.busy": "2024-08-22T16:54:26.412317Z",
     "iopub.status.idle": "2024-08-22T16:54:26.416687Z",
     "shell.execute_reply": "2024-08-22T16:54:26.416172Z"
    },
    "lines_to_next_cell": 1,
    "papermill": {
     "duration": 0.009768,
     "end_time": "2024-08-22T16:54:26.417781",
     "exception": false,
     "start_time": "2024-08-22T16:54:26.408013",
     "status": "completed"
    },
    "tags": []
   },
   "outputs": [],
   "source": [
    "def MEX(N: int, nums: list[int]) -> int:\n",
    "    \"\"\"\n",
    "    There is a more optimized version for cases where nums are frequently updated.\n",
    "    \"\"\"\n",
    "    xor = functools.reduce(operator.xor, nums, 0)\n",
    "    missing = functools.reduce(operator.xor, range(N), xor)\n",
    "    return missing\n",
    "\n",
    "# Testing the solution\n",
    "assert MEX(5, [0,2,3,4]) == 1\n",
    "assert MEX(3, [1,2]) == 0\n",
    "assert MEX(3, [2,0]) == 1\n",
    "assert MEX(4, [2,0,1]) == 3"
   ]
  },
  {
   "cell_type": "code",
   "execution_count": 9,
   "id": "da4aab78",
   "metadata": {
    "execution": {
     "iopub.execute_input": "2024-08-22T16:54:26.425799Z",
     "iopub.status.busy": "2024-08-22T16:54:26.425327Z",
     "iopub.status.idle": "2024-08-22T16:54:26.428133Z",
     "shell.execute_reply": "2024-08-22T16:54:26.427580Z"
    },
    "papermill": {
     "duration": 0.00815,
     "end_time": "2024-08-22T16:54:26.429367",
     "exception": false,
     "start_time": "2024-08-22T16:54:26.421217",
     "status": "completed"
    },
    "tags": []
   },
   "outputs": [],
   "source": [
    "# Leetcode Weekly: 18th Aug 2024"
   ]
  },
  {
   "cell_type": "code",
   "execution_count": 10,
   "id": "6e75c57f",
   "metadata": {
    "execution": {
     "iopub.execute_input": "2024-08-22T16:54:26.437067Z",
     "iopub.status.busy": "2024-08-22T16:54:26.436579Z",
     "iopub.status.idle": "2024-08-22T16:54:26.440899Z",
     "shell.execute_reply": "2024-08-22T16:54:26.440407Z"
    },
    "lines_to_next_cell": 1,
    "papermill": {
     "duration": 0.009484,
     "end_time": "2024-08-22T16:54:26.442069",
     "exception": false,
     "start_time": "2024-08-22T16:54:26.432585",
     "status": "completed"
    },
    "tags": []
   },
   "outputs": [],
   "source": [
    "def countKConstraintSubstrings(S: str, K: int) -> int:\n",
    "    N = len(S)\n",
    "    total = 0\n",
    "    for i in range(N):\n",
    "        zeros = ones = 0\n",
    "        for j in range(i, N):\n",
    "            if S[j] == '1':\n",
    "                ones += 1\n",
    "            else:\n",
    "                zeros += 1\n",
    "            if ones <= K or zeros <= K:\n",
    "                total += 1\n",
    "            else:\n",
    "                break\n",
    "    return total\n",
    "\n",
    "# Testing the solution\n",
    "assert countKConstraintSubstrings(\"10101\", 1) == 12\n",
    "assert countKConstraintSubstrings(\"1010101\", 2) == 25\n",
    "assert countKConstraintSubstrings(\"11111\", 1) == 15"
   ]
  },
  {
   "cell_type": "code",
   "execution_count": 11,
   "id": "d07f83c8",
   "metadata": {
    "execution": {
     "iopub.execute_input": "2024-08-22T16:54:26.450419Z",
     "iopub.status.busy": "2024-08-22T16:54:26.449943Z",
     "iopub.status.idle": "2024-08-22T16:54:26.454973Z",
     "shell.execute_reply": "2024-08-22T16:54:26.454383Z"
    },
    "lines_to_next_cell": 1,
    "papermill": {
     "duration": 0.01048,
     "end_time": "2024-08-22T16:54:26.456151",
     "exception": false,
     "start_time": "2024-08-22T16:54:26.445671",
     "status": "completed"
    },
    "tags": []
   },
   "outputs": [],
   "source": [
    "def maxEnergyBoost(energyDrinkA: list[int], energyDrinkB: list[int]) -> int:\n",
    "    @functools.cache\n",
    "    def backtrack(i: int, prev: int = 0) -> int:\n",
    "        if i == N:\n",
    "            return 0\n",
    "        else:\n",
    "            max_energy = backtrack(i + 1, 0)\n",
    "            if prev != 2:\n",
    "                max_energy = max(max_energy, energyDrinkA[i] + backtrack(i + 1, 1))\n",
    "            if prev != 1:\n",
    "                max_energy = max(max_energy, energyDrinkB[i] + backtrack(i + 1, 2))\n",
    "            return max_energy\n",
    "\n",
    "    N = len(energyDrinkA)\n",
    "    return backtrack(0)\n",
    "\n",
    "# Testing the solution\n",
    "assert maxEnergyBoost([1,3,1], [3,1,1]) == 5\n",
    "assert maxEnergyBoost([4,1,1], [1,1,3]) == 7"
   ]
  },
  {
   "cell_type": "markdown",
   "id": "8cfb5d9c",
   "metadata": {
    "papermill": {
     "duration": 0.003265,
     "end_time": "2024-08-22T16:54:26.462685",
     "exception": false,
     "start_time": "2024-08-22T16:54:26.459420",
     "status": "completed"
    },
    "tags": []
   },
   "source": [
    "CP Practice - 19th Aug 2024"
   ]
  },
  {
   "cell_type": "code",
   "execution_count": 12,
   "id": "24f03799",
   "metadata": {
    "execution": {
     "iopub.execute_input": "2024-08-22T16:54:26.470436Z",
     "iopub.status.busy": "2024-08-22T16:54:26.470108Z",
     "iopub.status.idle": "2024-08-22T16:54:26.477023Z",
     "shell.execute_reply": "2024-08-22T16:54:26.476491Z"
    },
    "lines_to_next_cell": 1,
    "papermill": {
     "duration": 0.012293,
     "end_time": "2024-08-22T16:54:26.478230",
     "exception": false,
     "start_time": "2024-08-22T16:54:26.465937",
     "status": "completed"
    },
    "tags": []
   },
   "outputs": [],
   "source": [
    "def learning_languages(N: int, M: int, languages_known: list[tuple[int, list[int]]]) -> int:\n",
    "    # Store the speakers who speak a particular language\n",
    "    language_speakers: collections.defaultdict[int, list[int]] = collections.defaultdict(list)\n",
    "    for employee, (count, languages) in enumerate(languages_known):\n",
    "        for language in languages:\n",
    "            language_speakers[language].append(employee)\n",
    "\n",
    "    # Perform a DFS traversal, we need to count the number of distinct groups\n",
    "    visited: set[int] = set()\n",
    "    know_nothings, groups = 0, 0\n",
    "    for i in range(N):\n",
    "        if i not in visited:\n",
    "            if languages_known[i][0]:\n",
    "                groups += 1\n",
    "                stack: list[int] = [i]\n",
    "                visited.add(i)\n",
    "                while stack:\n",
    "                    emp = stack.pop()\n",
    "                    for language in languages_known[emp][1]:\n",
    "                        for next_emp in language_speakers[language]:\n",
    "                            if next_emp not in visited:\n",
    "                                stack.append(next_emp)\n",
    "                                visited.add(next_emp)\n",
    "            else:\n",
    "                know_nothings += 1\n",
    "\n",
    "    return max(groups - 1, 0) + know_nothings\n",
    "\n",
    "# Testing the solution\n",
    "assert learning_languages(8, 7, [(0, []), (3, [1,2,3]), (1, [1]), (2, [5,4]), (2, [6,7]), (1, [3]), (2, [7,4]), (1, [1])]) == 2\n",
    "assert learning_languages(2, 2, [(1, [2]), (0, [])]) == 1\n",
    "assert learning_languages(5, 5, [(1, [2]), (2, [2,3]), (2, [3,4]), (2, [4,5]), (1, [5])]) == 0\n",
    "assert learning_languages(2, 2, [(0, []), (0, [])]) == 2\n",
    "assert learning_languages(3, 2, [(0, []), (1, [1]), (1, [2])]) == 2"
   ]
  },
  {
   "cell_type": "markdown",
   "id": "cc3a283c",
   "metadata": {
    "papermill": {
     "duration": 0.003111,
     "end_time": "2024-08-22T16:54:26.484498",
     "exception": false,
     "start_time": "2024-08-22T16:54:26.481387",
     "status": "completed"
    },
    "tags": []
   },
   "source": [
    "CP Practice - 20th Aug 2024"
   ]
  },
  {
   "cell_type": "code",
   "execution_count": 13,
   "id": "ee7bcd84",
   "metadata": {
    "execution": {
     "iopub.execute_input": "2024-08-22T16:54:26.491825Z",
     "iopub.status.busy": "2024-08-22T16:54:26.491356Z",
     "iopub.status.idle": "2024-08-22T16:54:26.494937Z",
     "shell.execute_reply": "2024-08-22T16:54:26.494464Z"
    },
    "lines_to_next_cell": 1,
    "papermill": {
     "duration": 0.008527,
     "end_time": "2024-08-22T16:54:26.496132",
     "exception": false,
     "start_time": "2024-08-22T16:54:26.487605",
     "status": "completed"
    },
    "tags": []
   },
   "outputs": [],
   "source": [
    "def countSeniors(details: list[str]) -> int:\n",
    "    return sum(map(lambda x: int(x[11:13]) > 60, details))\n",
    "\n",
    "# Testing the solution\n",
    "assert countSeniors([\"7868190130M7522\",\"5303914400F9211\",\"9273338290F4010\"]) == 2\n",
    "assert countSeniors([\"1313579440F2036\",\"2921522980M5644\"]) == 0"
   ]
  },
  {
   "cell_type": "code",
   "execution_count": 14,
   "id": "367a5efa",
   "metadata": {
    "execution": {
     "iopub.execute_input": "2024-08-22T16:54:26.503924Z",
     "iopub.status.busy": "2024-08-22T16:54:26.503407Z",
     "iopub.status.idle": "2024-08-22T16:54:26.507326Z",
     "shell.execute_reply": "2024-08-22T16:54:26.506872Z"
    },
    "lines_to_next_cell": 1,
    "papermill": {
     "duration": 0.009018,
     "end_time": "2024-08-22T16:54:26.508539",
     "exception": false,
     "start_time": "2024-08-22T16:54:26.499521",
     "status": "completed"
    },
    "tags": []
   },
   "outputs": [],
   "source": [
    "def canBeEqual(target: list[int], arr: list[int]) -> bool:\n",
    "    return collections.Counter(target) == collections.Counter(arr)\n",
    "\n",
    "# Testing the solution\n",
    "assert canBeEqual([1,2,3,4], [2,4,1,3]) == True\n",
    "assert canBeEqual([7], [7]) == True\n",
    "assert canBeEqual([3,7,9], [3,7,11]) == False"
   ]
  },
  {
   "cell_type": "markdown",
   "id": "68af6611",
   "metadata": {
    "papermill": {
     "duration": 0.003423,
     "end_time": "2024-08-22T16:54:26.515261",
     "exception": false,
     "start_time": "2024-08-22T16:54:26.511838",
     "status": "completed"
    },
    "tags": []
   },
   "source": [
    "CP Practice: 21th Aug 2024"
   ]
  },
  {
   "cell_type": "code",
   "execution_count": 15,
   "id": "8adcadba",
   "metadata": {
    "execution": {
     "iopub.execute_input": "2024-08-22T16:54:26.522884Z",
     "iopub.status.busy": "2024-08-22T16:54:26.522408Z",
     "iopub.status.idle": "2024-08-22T16:54:26.527525Z",
     "shell.execute_reply": "2024-08-22T16:54:26.527046Z"
    },
    "lines_to_next_cell": 1,
    "papermill": {
     "duration": 0.010356,
     "end_time": "2024-08-22T16:54:26.528749",
     "exception": false,
     "start_time": "2024-08-22T16:54:26.518393",
     "status": "completed"
    },
    "tags": []
   },
   "outputs": [],
   "source": [
    "def bertown_subway(N: int, stations: list[int]) -> int:\n",
    "    # Compute the number of disjoint stations\n",
    "    groups: collections.defaultdict[int, set[int]] = collections.defaultdict(set)\n",
    "    color: int = 0\n",
    "    visited: set[int] = set()\n",
    "    for i in range(N):\n",
    "        if i not in visited:\n",
    "            curr, color = i, color + 1\n",
    "            while curr not in visited:\n",
    "                visited.add(curr)\n",
    "                groups[color].add(curr)\n",
    "                curr = stations[curr] - 1\n",
    "\n",
    "    # We can combine any two groups - to maximize, join the last two groups\n",
    "    group_sizes: list[int] = sorted(map(len, groups.values()))\n",
    "    return sum(map(lambda x: x ** 2, group_sizes[:-2])) + sum(group_sizes[-2:]) ** 2\n",
    "\n",
    "# Testing the solution\n",
    "assert bertown_subway(5, [1,5,4,3,2]) == 17\n",
    "assert bertown_subway(3, [2,1,3]) == 9"
   ]
  },
  {
   "cell_type": "code",
   "execution_count": 16,
   "id": "18a6e2bb",
   "metadata": {
    "execution": {
     "iopub.execute_input": "2024-08-22T16:54:26.536182Z",
     "iopub.status.busy": "2024-08-22T16:54:26.535801Z",
     "iopub.status.idle": "2024-08-22T16:54:26.539230Z",
     "shell.execute_reply": "2024-08-22T16:54:26.538763Z"
    },
    "lines_to_next_cell": 1,
    "papermill": {
     "duration": 0.008524,
     "end_time": "2024-08-22T16:54:26.540473",
     "exception": false,
     "start_time": "2024-08-22T16:54:26.531949",
     "status": "completed"
    },
    "tags": []
   },
   "outputs": [],
   "source": [
    "def findComplement(num: int) -> int:\n",
    "    result, power = 0, 1\n",
    "    while num:\n",
    "        result += power if not num & 1 else 0\n",
    "        num, power = num >> 1, power << 1\n",
    "    return result\n",
    "\n",
    "# Testing the solution\n",
    "assert findComplement(5) == 2\n",
    "assert findComplement(1) == 0"
   ]
  },
  {
   "cell_type": "markdown",
   "id": "ed1309ea",
   "metadata": {},
   "source": [
    "CP Practice: 24th Aug 2024"
   ]
  },
  {
   "cell_type": "code",
   "execution_count": null,
   "id": "a4772d01",
   "metadata": {},
   "outputs": [],
   "source": [
    "def k_complete_word(N: int, K: int, word: str) -> int:\n",
    "    updates = 0\n",
    "    visited: set[int] = set()\n",
    "    for i in range(N):\n",
    "        if i not in visited:\n",
    "            chars: list[int] = [0] * 26\n",
    "            max_, count = 0, 0\n",
    "            for j in range(i, N, K):\n",
    "                if j not in visited:\n",
    "                    visited.add(j)\n",
    "                    chars[ord(word[j]) - ord('a')] += 1\n",
    "                    max_, count = max(max_, chars[ord(word[j]) - ord('a')]), count + 1\n",
    "                if N - j - 1 not in visited:\n",
    "                    visited.add(N - j - 1)\n",
    "                    chars[ord(word[N - j - 1]) - ord('a')] += 1\n",
    "                    max_, count = max(max_, chars[ord(word[N - j - 1]) - ord('a')]), count + 1\n",
    "            updates += (count - max_)\n",
    "\n",
    "    return updates\n",
    "\n",
    "# Testing the solution\n",
    "assert k_complete_word(36, 9, \"hippopotomonstrosesquippedaliophobia\") == 23\n",
    "assert k_complete_word(21, 7, \"wudixiaoxingxingheclp\") == 16\n",
    "assert k_complete_word(6, 2, \"abaaba\") == 2\n",
    "assert k_complete_word(6, 3, \"abaaba\") == 0"
   ]
  }
 ],
 "metadata": {
  "kernelspec": {
   "display_name": "Python 3 (ipykernel)",
   "language": "python",
   "name": "python3"
  },
  "language_info": {
   "codemirror_mode": {
    "name": "ipython",
    "version": 3
   },
   "file_extension": ".py",
   "mimetype": "text/x-python",
   "name": "python",
   "nbconvert_exporter": "python",
   "pygments_lexer": "ipython3",
   "version": "3.12.3"
  },
  "papermill": {
   "default_parameters": {},
   "duration": 2.025205,
   "end_time": "2024-08-22T16:54:26.759973",
   "environment_variables": {},
   "exception": null,
   "input_path": "practice/008.ipynb",
   "output_path": "practice/008.ipynb",
   "parameters": {},
   "start_time": "2024-08-22T16:54:24.734768",
   "version": "2.6.0"
  }
 },
 "nbformat": 4,
 "nbformat_minor": 5
}
