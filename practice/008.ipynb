{
 "cells": [
  {
   "cell_type": "code",
   "execution_count": 1,
   "id": "8ff7cec0",
   "metadata": {
    "execution": {
     "iopub.execute_input": "2024-09-12T02:18:35.743780Z",
     "iopub.status.busy": "2024-09-12T02:18:35.743224Z",
     "iopub.status.idle": "2024-09-12T02:18:36.101463Z",
     "shell.execute_reply": "2024-09-12T02:18:36.100984Z"
    },
    "papermill": {
     "duration": 0.36828,
     "end_time": "2024-09-12T02:18:36.102937",
     "exception": false,
     "start_time": "2024-09-12T02:18:35.734657",
     "status": "completed"
    },
    "tags": []
   },
   "outputs": [],
   "source": [
    "from typing import List, Optional, Generator\n",
    "import typing\n",
    "import pandas as pd\n",
    "import numpy as np\n",
    "import sqlite3\n",
    "import re\n",
    "import io\n",
    "import math\n",
    "import collections\n",
    "import itertools\n",
    "import functools\n",
    "import random\n",
    "import string\n",
    "import tqdm\n",
    "import bisect\n",
    "import heapq\n",
    "import operator\n",
    "\n",
    "conn = sqlite3.connect(\":memory:\")\n",
    "\n",
    "def regexp(expr, item):\n",
    "    reg = re.compile(expr)\n",
    "    return reg.search(item) is not None\n",
    "\n",
    "def read_lc_df(s: str, dtypes: dict[str, str]=dict()) -> pd.DataFrame:\n",
    "    temp = pd.read_csv(io.StringIO(s), sep=\"|\", skiprows=2)\n",
    "    temp = temp.iloc[1:-1, 1:-1]\n",
    "    temp.columns = temp.columns.map(str.strip)\n",
    "    temp = temp.map(lambda x: x if type(x) != str else None if x.strip() == 'null' else x.strip())\n",
    "    temp = temp.astype(dtypes)\n",
    "    return temp\n",
    "\n",
    "conn.create_function(\"REGEXP\", 2, regexp)"
   ]
  },
  {
   "cell_type": "markdown",
   "id": "9b75edac",
   "metadata": {
    "papermill": {
     "duration": 0.007253,
     "end_time": "2024-09-12T02:18:36.117724",
     "exception": false,
     "start_time": "2024-09-12T02:18:36.110471",
     "status": "completed"
    },
    "tags": []
   },
   "source": [
    "#### Helper for Binary tree problems"
   ]
  },
  {
   "cell_type": "code",
   "execution_count": 2,
   "id": "d3f9effb",
   "metadata": {
    "execution": {
     "iopub.execute_input": "2024-09-12T02:18:36.133387Z",
     "iopub.status.busy": "2024-09-12T02:18:36.132725Z",
     "iopub.status.idle": "2024-09-12T02:18:36.138983Z",
     "shell.execute_reply": "2024-09-12T02:18:36.138383Z"
    },
    "lines_to_next_cell": 1,
    "papermill": {
     "duration": 0.015343,
     "end_time": "2024-09-12T02:18:36.140102",
     "exception": false,
     "start_time": "2024-09-12T02:18:36.124759",
     "status": "completed"
    },
    "tags": []
   },
   "outputs": [],
   "source": [
    "class BinaryTreeNode:\n",
    "    def __init__(self, val=0, left=None, right=None):\n",
    "        self.val = val\n",
    "        self.left = left\n",
    "        self.right = right\n",
    "\n",
    "    def to_list(self):\n",
    "        to_visit = [self]\n",
    "        visited = []\n",
    "        while len(to_visit) > 0:\n",
    "            curr = to_visit.pop(0)\n",
    "            if curr:\n",
    "                to_visit.append(curr.left)\n",
    "                to_visit.append(curr.right)\n",
    "                visited.append(curr.val)\n",
    "            else:\n",
    "                visited.append(curr)\n",
    "\n",
    "        while visited and not visited[-1]:\n",
    "            visited.pop()\n",
    "\n",
    "        return visited\n",
    "\n",
    "    def __str__(self):\n",
    "        return str(self.val)\n",
    "\n",
    "    @staticmethod\n",
    "    def from_array(nums: list[int|None]):\n",
    "        '''Create a Tree from a list of nums. Returns the root node.'''\n",
    "        if len(nums) == 0:\n",
    "            return None\n",
    "        elif len(nums) == 1:\n",
    "            return BinaryTreeNode(nums[0])\n",
    "        else:\n",
    "            forest = [BinaryTreeNode(nums[0])]\n",
    "            parent_idx = -1\n",
    "            for i in range(1, len(nums)):\n",
    "\n",
    "                curr = None\n",
    "                if nums[i] is not None:\n",
    "                    curr = BinaryTreeNode(nums[i])\n",
    "                    forest.append(curr)\n",
    "\n",
    "                if i % 2 == 1:\n",
    "                    parent_idx += 1\n",
    "                    forest[parent_idx].left = curr\n",
    "                else:\n",
    "                    forest[parent_idx].right = curr\n",
    "\n",
    "        return forest[0]"
   ]
  },
  {
   "cell_type": "markdown",
   "id": "0dc0f63e",
   "metadata": {
    "papermill": {
     "duration": 0.006891,
     "end_time": "2024-09-12T02:18:36.154091",
     "exception": false,
     "start_time": "2024-09-12T02:18:36.147200",
     "status": "completed"
    },
    "tags": []
   },
   "source": [
    "#### Helper for Singly Linked lists"
   ]
  },
  {
   "cell_type": "code",
   "execution_count": 3,
   "id": "c43bc790",
   "metadata": {
    "execution": {
     "iopub.execute_input": "2024-09-12T02:18:36.169499Z",
     "iopub.status.busy": "2024-09-12T02:18:36.169022Z",
     "iopub.status.idle": "2024-09-12T02:18:36.173383Z",
     "shell.execute_reply": "2024-09-12T02:18:36.172908Z"
    },
    "lines_to_next_cell": 1,
    "papermill": {
     "duration": 0.01341,
     "end_time": "2024-09-12T02:18:36.174541",
     "exception": false,
     "start_time": "2024-09-12T02:18:36.161131",
     "status": "completed"
    },
    "tags": []
   },
   "outputs": [],
   "source": [
    "class ListNode:\n",
    "    def __init__(self, val=0, next=None):\n",
    "        self.val = val\n",
    "        self.next = next\n",
    "\n",
    "    def __str__(self):\n",
    "        return str(self.val)\n",
    "\n",
    "    @staticmethod\n",
    "    def to_singly_linked_list(nums: list[int]):\n",
    "        root = prev = None\n",
    "        for n in nums:\n",
    "            curr = ListNode(n)\n",
    "            # Init once\n",
    "            if not root:\n",
    "                root = curr\n",
    "            if prev:\n",
    "                prev.next = curr\n",
    "            prev = curr\n",
    "\n",
    "        return root\n",
    "\n",
    "    def to_list(self) -> list[int]:\n",
    "        result = []\n",
    "        curr = self\n",
    "        while curr:\n",
    "            result.append(curr.val)\n",
    "            curr = curr.next\n",
    "        return result"
   ]
  },
  {
   "cell_type": "markdown",
   "id": "0c642f2d",
   "metadata": {
    "papermill": {
     "duration": 0.007331,
     "end_time": "2024-09-12T02:18:36.188908",
     "exception": false,
     "start_time": "2024-09-12T02:18:36.181577",
     "status": "completed"
    },
    "tags": []
   },
   "source": [
    "#### Helper for N Ary Trees"
   ]
  },
  {
   "cell_type": "code",
   "execution_count": 4,
   "id": "6fa2b46f",
   "metadata": {
    "execution": {
     "iopub.execute_input": "2024-09-12T02:18:36.204034Z",
     "iopub.status.busy": "2024-09-12T02:18:36.203681Z",
     "iopub.status.idle": "2024-09-12T02:18:36.209051Z",
     "shell.execute_reply": "2024-09-12T02:18:36.208566Z"
    },
    "lines_to_next_cell": 1,
    "papermill": {
     "duration": 0.014265,
     "end_time": "2024-09-12T02:18:36.210210",
     "exception": false,
     "start_time": "2024-09-12T02:18:36.195945",
     "status": "completed"
    },
    "tags": []
   },
   "outputs": [],
   "source": [
    "class NAryNode:\n",
    "    def __init__(self, val: int) -> None:\n",
    "        self.val = val\n",
    "        self.children: list['NAryNode'] = []\n",
    "\n",
    "    @staticmethod\n",
    "    def from_list(nums: list[int|None]) -> 'NAryNode|None':\n",
    "        nodes: list[NAryNode] = []\n",
    "        idx = -1\n",
    "        for val in nums:\n",
    "            if val is None:\n",
    "                idx += 1\n",
    "            else:\n",
    "                curr = NAryNode(val)\n",
    "                if nodes:\n",
    "                    assert idx != -1, \"Invalid input provided\"\n",
    "                    nodes[idx].children.append(curr)\n",
    "                nodes.append(curr)\n",
    "\n",
    "        return nodes[0] if nodes else None\n",
    "\n",
    "    def to_list(self) -> list[int|None]:\n",
    "        result: list[int|None] = [self.val, None]\n",
    "        queue: collections.deque['NAryNode'] = collections.deque([self])\n",
    "        while queue:\n",
    "            curr = queue.popleft()\n",
    "            for child in curr.children:\n",
    "                queue.append(child)\n",
    "                result.append(child.val)\n",
    "            result.append(None)\n",
    "\n",
    "        # Strip out all `None` from the end\n",
    "        while result and result[-1] is None:\n",
    "            result.pop()\n",
    "\n",
    "        return result\n",
    "\n",
    "# Testing the function\n",
    "temp = NAryNode.from_list([1,None,3,2,4,None,5,6])\n",
    "assert temp and temp.to_list() == [1,None,3,2,4,None,5,6]"
   ]
  },
  {
   "cell_type": "markdown",
   "id": "e514eda2",
   "metadata": {
    "papermill": {
     "duration": 0.00732,
     "end_time": "2024-09-12T02:18:36.224708",
     "exception": false,
     "start_time": "2024-09-12T02:18:36.217388",
     "status": "completed"
    },
    "tags": []
   },
   "source": [
    "CF Div 2 - 15th Aug 2024"
   ]
  },
  {
   "cell_type": "code",
   "execution_count": 5,
   "id": "ce489edd",
   "metadata": {
    "execution": {
     "iopub.execute_input": "2024-09-12T02:18:36.240411Z",
     "iopub.status.busy": "2024-09-12T02:18:36.239908Z",
     "iopub.status.idle": "2024-09-12T02:18:36.243507Z",
     "shell.execute_reply": "2024-09-12T02:18:36.242990Z"
    },
    "lines_to_next_cell": 1,
    "papermill": {
     "duration": 0.012709,
     "end_time": "2024-09-12T02:18:36.244665",
     "exception": false,
     "start_time": "2024-09-12T02:18:36.231956",
     "status": "completed"
    },
    "tags": []
   },
   "outputs": [],
   "source": [
    "def closest_point(N: int, points: list[int]) -> bool:\n",
    "    return N == 2 and abs(points[0] - points[1]) > 1\n",
    "\n",
    "# Testing the solution\n",
    "assert closest_point(2, [3,8]) == True\n",
    "assert closest_point(2, [5,6]) == False\n",
    "assert closest_point(6, [1,2,3,4,5,10]) == False"
   ]
  },
  {
   "cell_type": "markdown",
   "id": "8673e525",
   "metadata": {
    "papermill": {
     "duration": 0.006948,
     "end_time": "2024-09-12T02:18:36.258902",
     "exception": false,
     "start_time": "2024-09-12T02:18:36.251954",
     "status": "completed"
    },
    "tags": []
   },
   "source": [
    "Upsolvng CF Contest - Div 2"
   ]
  },
  {
   "cell_type": "code",
   "execution_count": 6,
   "id": "7b5a343d",
   "metadata": {
    "execution": {
     "iopub.execute_input": "2024-09-12T02:18:36.274354Z",
     "iopub.status.busy": "2024-09-12T02:18:36.273878Z",
     "iopub.status.idle": "2024-09-12T02:18:36.278289Z",
     "shell.execute_reply": "2024-09-12T02:18:36.277825Z"
    },
    "lines_to_next_cell": 1,
    "papermill": {
     "duration": 0.013556,
     "end_time": "2024-09-12T02:18:36.279557",
     "exception": false,
     "start_time": "2024-09-12T02:18:36.266001",
     "status": "completed"
    },
    "tags": []
   },
   "outputs": [],
   "source": [
    "def game_with_doors(AL: int, AR: int, BL: int, BR: int) -> int:\n",
    "    \"\"\"\n",
    "    For the overlapping portion, all doors must be closed\n",
    "    For non overlapping portion, suffices to close just one door at each side\n",
    "    \"\"\"\n",
    "    # Check for overlap\n",
    "    oL, oR = max(AL, BL), min(AR, BR)\n",
    "    if oL <= oR:\n",
    "        locks = oR - oL\n",
    "        if abs(AL - BL) > 0:\n",
    "            locks += 1\n",
    "        if abs(AR  - BR) > 0:\n",
    "            locks += 1\n",
    "        return locks\n",
    "    else:\n",
    "        return 1\n",
    "\n",
    "# Testing the solution\n",
    "assert game_with_doors(1, 2, 3, 4) == 1\n",
    "assert game_with_doors(2, 5, 2, 5) == 3\n",
    "assert game_with_doors(3, 7, 6, 7) == 2\n",
    "assert game_with_doors(4, 5, 2, 8) == 3"
   ]
  },
  {
   "cell_type": "code",
   "execution_count": 7,
   "id": "0f33a487",
   "metadata": {
    "execution": {
     "iopub.execute_input": "2024-09-12T02:18:36.294716Z",
     "iopub.status.busy": "2024-09-12T02:18:36.294448Z",
     "iopub.status.idle": "2024-09-12T02:18:36.298997Z",
     "shell.execute_reply": "2024-09-12T02:18:36.298482Z"
    },
    "lines_to_next_cell": 1,
    "papermill": {
     "duration": 0.013476,
     "end_time": "2024-09-12T02:18:36.300122",
     "exception": false,
     "start_time": "2024-09-12T02:18:36.286646",
     "status": "completed"
    },
    "tags": []
   },
   "outputs": [],
   "source": [
    "def splitting_items(N: int, K: int, costs: list[int]) -> int:\n",
    "    \"\"\"\n",
    "    * Playing optimally implies that\n",
    "        - Alice tries to pick up the largest costing item available\n",
    "        - Bob picks up the largest costing item available\n",
    "        - Alice picks up items at odd indices, Bob at even indices (post sorting)\n",
    "    * To minimize `A - B`, Bob should increase cost of items at even indices\n",
    "    * We can update delta on the fly until K > 0\n",
    "    \"\"\"\n",
    "    costs.sort()\n",
    "    result = 0\n",
    "    while costs:\n",
    "        if len(costs) >= 2:\n",
    "            delta = costs.pop() - costs.pop()\n",
    "            if K < delta:\n",
    "                result += delta - K\n",
    "            K = max(0, K - delta)\n",
    "        else:\n",
    "            result += costs.pop()\n",
    "\n",
    "    return result\n",
    "\n",
    "# Testing the solution\n",
    "assert splitting_items(3, 0, [10, 15, 12]) == 13\n",
    "assert splitting_items(2, 5, [1, 10]) == 4\n",
    "assert splitting_items(4, 6, [3, 1, 2, 4]) == 0\n",
    "assert splitting_items(2, 4, [6, 9]) == 0\n",
    "assert splitting_items(3, 1, [1, 1, 1]) == 1"
   ]
  },
  {
   "cell_type": "code",
   "execution_count": 8,
   "id": "a2923864",
   "metadata": {
    "execution": {
     "iopub.execute_input": "2024-09-12T02:18:36.315493Z",
     "iopub.status.busy": "2024-09-12T02:18:36.315026Z",
     "iopub.status.idle": "2024-09-12T02:18:36.323502Z",
     "shell.execute_reply": "2024-09-12T02:18:36.322999Z"
    },
    "lines_to_next_cell": 1,
    "papermill": {
     "duration": 0.017516,
     "end_time": "2024-09-12T02:18:36.324696",
     "exception": false,
     "start_time": "2024-09-12T02:18:36.307180",
     "status": "completed"
    },
    "tags": []
   },
   "outputs": [],
   "source": [
    "def colored_portals(N: int, Q: int, cities: list[str], queries: list[tuple[int, int]]) -> list[int]:\n",
    "    \"\"\"\n",
    "    If cities of i, j share a common color, shortest path to reach would abs(i - j)\n",
    "    Otherwise, we check for common colors between target:\n",
    "        - If no common colors return -1\n",
    "        - Elif if there exists a common point between i, j return abs(i - j)\n",
    "        - Else search for points to left of i and right i with common portal and check both distances, return least of two (use binary search)\n",
    "    \"\"\"\n",
    "\n",
    "    # Store to hashmap for quick lookup times\n",
    "    portal_groups: collections.defaultdict[str, list] = collections.defaultdict(list)\n",
    "    for i, portal_type in enumerate(cities):\n",
    "        portal_groups[portal_type].append(i)\n",
    "\n",
    "    # Process the queries\n",
    "    results: list[int] = []\n",
    "    for i, j in queries:\n",
    "        i, j = i - 1, j - 1\n",
    "        a, b, c, d = cities[i][0], cities[i][1], cities[j][0], cities[j][1]\n",
    "\n",
    "        # All 4 distinct portals\n",
    "        if len(set([a, b, c, d])) == 4:\n",
    "            distance = math.inf\n",
    "            for comb in [(a, c), (a, d), (b, c), (b, d)]:\n",
    "                common = \"\".join(sorted(comb))\n",
    "                idx = bisect.bisect(portal_groups[common], i)\n",
    "                left, right = idx - 1, idx\n",
    "                if 0 <= left < len(portal_groups[common]):\n",
    "                    distance = min(distance, abs(portal_groups[common][left] - i) + abs(portal_groups[common][left] - j))\n",
    "\n",
    "                if 0 <= right < len(portal_groups[common]):\n",
    "                    distance = min(distance, abs(portal_groups[common][right] - i) + abs(portal_groups[common][right] - j))\n",
    "\n",
    "            results.append(int(distance) if not math.isinf(distance) else -1)\n",
    "\n",
    "        # Atleast one color in common\n",
    "        else:\n",
    "           results.append(abs(j - i))\n",
    "\n",
    "    return results\n",
    "\n",
    "# Testing the solution\n",
    "assert colored_portals(6, 6, [\"RY\", \"RY\", \"GY\", \"RY\", \"GB\", \"RY\"], [(2,5), (4,5), (1,4), (4,1), (5,4), (5,2)]) == [3,3,3,3,3,3]\n",
    "assert colored_portals(9, 3, [\"RY\", \"RY\", \"BR\", \"BR\", \"BR\", \"BR\", \"GY\", \"GY\", \"RY\"], [(3,7), (2,5), (6,7)]) == [6,3,5]\n",
    "assert colored_portals(4, 5, [\"BR\",\"BR\",\"GY\",\"GR\"], [(1,2), (3,1), (4,4), (1,4), (4,2)]) == [1,4,0,3,2]"
   ]
  },
  {
   "cell_type": "markdown",
   "id": "cb4a0d4d",
   "metadata": {
    "papermill": {
     "duration": 0.007095,
     "end_time": "2024-09-12T02:18:36.339222",
     "exception": false,
     "start_time": "2024-09-12T02:18:36.332127",
     "status": "completed"
    },
    "tags": []
   },
   "source": [
    "Find MEX of a set"
   ]
  },
  {
   "cell_type": "code",
   "execution_count": 9,
   "id": "3def0aea",
   "metadata": {
    "execution": {
     "iopub.execute_input": "2024-09-12T02:18:36.354520Z",
     "iopub.status.busy": "2024-09-12T02:18:36.354100Z",
     "iopub.status.idle": "2024-09-12T02:18:36.357978Z",
     "shell.execute_reply": "2024-09-12T02:18:36.357484Z"
    },
    "lines_to_next_cell": 1,
    "papermill": {
     "duration": 0.013005,
     "end_time": "2024-09-12T02:18:36.359191",
     "exception": false,
     "start_time": "2024-09-12T02:18:36.346186",
     "status": "completed"
    },
    "tags": []
   },
   "outputs": [],
   "source": [
    "def MEX(N: int, nums: list[int]) -> int:\n",
    "    \"\"\"\n",
    "    There is a more optimized version for cases where nums are frequently updated.\n",
    "    \"\"\"\n",
    "    xor = functools.reduce(operator.xor, nums, 0)\n",
    "    missing = functools.reduce(operator.xor, range(N), xor)\n",
    "    return missing\n",
    "\n",
    "# Testing the solution\n",
    "assert MEX(5, [0,2,3,4]) == 1\n",
    "assert MEX(3, [1,2]) == 0\n",
    "assert MEX(3, [2,0]) == 1\n",
    "assert MEX(4, [2,0,1]) == 3"
   ]
  },
  {
   "cell_type": "code",
   "execution_count": 10,
   "id": "da4aab78",
   "metadata": {
    "execution": {
     "iopub.execute_input": "2024-09-12T02:18:36.374480Z",
     "iopub.status.busy": "2024-09-12T02:18:36.373971Z",
     "iopub.status.idle": "2024-09-12T02:18:36.376792Z",
     "shell.execute_reply": "2024-09-12T02:18:36.376215Z"
    },
    "papermill": {
     "duration": 0.011706,
     "end_time": "2024-09-12T02:18:36.377951",
     "exception": false,
     "start_time": "2024-09-12T02:18:36.366245",
     "status": "completed"
    },
    "tags": []
   },
   "outputs": [],
   "source": [
    "# Leetcode Weekly: 18th Aug 2024"
   ]
  },
  {
   "cell_type": "code",
   "execution_count": 11,
   "id": "6e75c57f",
   "metadata": {
    "execution": {
     "iopub.execute_input": "2024-09-12T02:18:36.392916Z",
     "iopub.status.busy": "2024-09-12T02:18:36.392699Z",
     "iopub.status.idle": "2024-09-12T02:18:36.396834Z",
     "shell.execute_reply": "2024-09-12T02:18:36.396280Z"
    },
    "lines_to_next_cell": 1,
    "papermill": {
     "duration": 0.012923,
     "end_time": "2024-09-12T02:18:36.397967",
     "exception": false,
     "start_time": "2024-09-12T02:18:36.385044",
     "status": "completed"
    },
    "tags": []
   },
   "outputs": [],
   "source": [
    "def countKConstraintSubstrings(S: str, K: int) -> int:\n",
    "    N = len(S)\n",
    "    total = 0\n",
    "    for i in range(N):\n",
    "        zeros = ones = 0\n",
    "        for j in range(i, N):\n",
    "            if S[j] == '1':\n",
    "                ones += 1\n",
    "            else:\n",
    "                zeros += 1\n",
    "            if ones <= K or zeros <= K:\n",
    "                total += 1\n",
    "            else:\n",
    "                break\n",
    "    return total\n",
    "\n",
    "# Testing the solution\n",
    "assert countKConstraintSubstrings(\"10101\", 1) == 12\n",
    "assert countKConstraintSubstrings(\"1010101\", 2) == 25\n",
    "assert countKConstraintSubstrings(\"11111\", 1) == 15"
   ]
  },
  {
   "cell_type": "code",
   "execution_count": 12,
   "id": "d07f83c8",
   "metadata": {
    "execution": {
     "iopub.execute_input": "2024-09-12T02:18:36.413506Z",
     "iopub.status.busy": "2024-09-12T02:18:36.413020Z",
     "iopub.status.idle": "2024-09-12T02:18:36.417250Z",
     "shell.execute_reply": "2024-09-12T02:18:36.416837Z"
    },
    "lines_to_next_cell": 1,
    "papermill": {
     "duration": 0.013301,
     "end_time": "2024-09-12T02:18:36.418428",
     "exception": false,
     "start_time": "2024-09-12T02:18:36.405127",
     "status": "completed"
    },
    "tags": []
   },
   "outputs": [],
   "source": [
    "def maxEnergyBoost(energyDrinkA: list[int], energyDrinkB: list[int]) -> int:\n",
    "    @functools.cache\n",
    "    def backtrack(i: int, prev: int = 0) -> int:\n",
    "        if i == N:\n",
    "            return 0\n",
    "        else:\n",
    "            max_energy = backtrack(i + 1, 0)\n",
    "            if prev != 2:\n",
    "                max_energy = max(max_energy, energyDrinkA[i] + backtrack(i + 1, 1))\n",
    "            if prev != 1:\n",
    "                max_energy = max(max_energy, energyDrinkB[i] + backtrack(i + 1, 2))\n",
    "            return max_energy\n",
    "\n",
    "    N = len(energyDrinkA)\n",
    "    return backtrack(0)\n",
    "\n",
    "# Testing the solution\n",
    "assert maxEnergyBoost([1,3,1], [3,1,1]) == 5\n",
    "assert maxEnergyBoost([4,1,1], [1,1,3]) == 7"
   ]
  },
  {
   "cell_type": "markdown",
   "id": "8cfb5d9c",
   "metadata": {
    "papermill": {
     "duration": 0.007208,
     "end_time": "2024-09-12T02:18:36.432610",
     "exception": false,
     "start_time": "2024-09-12T02:18:36.425402",
     "status": "completed"
    },
    "tags": []
   },
   "source": [
    "CP Practice - 19th Aug 2024"
   ]
  },
  {
   "cell_type": "code",
   "execution_count": 13,
   "id": "24f03799",
   "metadata": {
    "execution": {
     "iopub.execute_input": "2024-09-12T02:18:36.448186Z",
     "iopub.status.busy": "2024-09-12T02:18:36.447655Z",
     "iopub.status.idle": "2024-09-12T02:18:36.454567Z",
     "shell.execute_reply": "2024-09-12T02:18:36.453995Z"
    },
    "lines_to_next_cell": 1,
    "papermill": {
     "duration": 0.016021,
     "end_time": "2024-09-12T02:18:36.455727",
     "exception": false,
     "start_time": "2024-09-12T02:18:36.439706",
     "status": "completed"
    },
    "tags": []
   },
   "outputs": [],
   "source": [
    "def learning_languages(N: int, M: int, languages_known: list[tuple[int, list[int]]]) -> int:\n",
    "    # Store the speakers who speak a particular language\n",
    "    language_speakers: collections.defaultdict[int, list[int]] = collections.defaultdict(list)\n",
    "    for employee, (count, languages) in enumerate(languages_known):\n",
    "        for language in languages:\n",
    "            language_speakers[language].append(employee)\n",
    "\n",
    "    # Perform a DFS traversal, we need to count the number of distinct groups\n",
    "    visited: set[int] = set()\n",
    "    know_nothings, groups = 0, 0\n",
    "    for i in range(N):\n",
    "        if i not in visited:\n",
    "            if languages_known[i][0]:\n",
    "                groups += 1\n",
    "                stack: list[int] = [i]\n",
    "                visited.add(i)\n",
    "                while stack:\n",
    "                    emp = stack.pop()\n",
    "                    for language in languages_known[emp][1]:\n",
    "                        for next_emp in language_speakers[language]:\n",
    "                            if next_emp not in visited:\n",
    "                                stack.append(next_emp)\n",
    "                                visited.add(next_emp)\n",
    "            else:\n",
    "                know_nothings += 1\n",
    "\n",
    "    return max(groups - 1, 0) + know_nothings\n",
    "\n",
    "# Testing the solution\n",
    "assert learning_languages(8, 7, [(0, []), (3, [1,2,3]), (1, [1]), (2, [5,4]), (2, [6,7]), (1, [3]), (2, [7,4]), (1, [1])]) == 2\n",
    "assert learning_languages(2, 2, [(1, [2]), (0, [])]) == 1\n",
    "assert learning_languages(5, 5, [(1, [2]), (2, [2,3]), (2, [3,4]), (2, [4,5]), (1, [5])]) == 0\n",
    "assert learning_languages(2, 2, [(0, []), (0, [])]) == 2\n",
    "assert learning_languages(3, 2, [(0, []), (1, [1]), (1, [2])]) == 2"
   ]
  },
  {
   "cell_type": "markdown",
   "id": "cc3a283c",
   "metadata": {
    "papermill": {
     "duration": 0.006902,
     "end_time": "2024-09-12T02:18:36.469687",
     "exception": false,
     "start_time": "2024-09-12T02:18:36.462785",
     "status": "completed"
    },
    "tags": []
   },
   "source": [
    "CP Practice - 20th Aug 2024"
   ]
  },
  {
   "cell_type": "code",
   "execution_count": 14,
   "id": "ee7bcd84",
   "metadata": {
    "execution": {
     "iopub.execute_input": "2024-09-12T02:18:36.484939Z",
     "iopub.status.busy": "2024-09-12T02:18:36.484499Z",
     "iopub.status.idle": "2024-09-12T02:18:36.487916Z",
     "shell.execute_reply": "2024-09-12T02:18:36.487453Z"
    },
    "lines_to_next_cell": 1,
    "papermill": {
     "duration": 0.01243,
     "end_time": "2024-09-12T02:18:36.489114",
     "exception": false,
     "start_time": "2024-09-12T02:18:36.476684",
     "status": "completed"
    },
    "tags": []
   },
   "outputs": [],
   "source": [
    "def countSeniors(details: list[str]) -> int:\n",
    "    return sum(map(lambda x: int(x[11:13]) > 60, details))\n",
    "\n",
    "# Testing the solution\n",
    "assert countSeniors([\"7868190130M7522\",\"5303914400F9211\",\"9273338290F4010\"]) == 2\n",
    "assert countSeniors([\"1313579440F2036\",\"2921522980M5644\"]) == 0"
   ]
  },
  {
   "cell_type": "code",
   "execution_count": 15,
   "id": "367a5efa",
   "metadata": {
    "execution": {
     "iopub.execute_input": "2024-09-12T02:18:36.504414Z",
     "iopub.status.busy": "2024-09-12T02:18:36.503919Z",
     "iopub.status.idle": "2024-09-12T02:18:36.507823Z",
     "shell.execute_reply": "2024-09-12T02:18:36.507356Z"
    },
    "lines_to_next_cell": 1,
    "papermill": {
     "duration": 0.012713,
     "end_time": "2024-09-12T02:18:36.508926",
     "exception": false,
     "start_time": "2024-09-12T02:18:36.496213",
     "status": "completed"
    },
    "tags": []
   },
   "outputs": [],
   "source": [
    "def canBeEqual(target: list[int], arr: list[int]) -> bool:\n",
    "    return collections.Counter(target) == collections.Counter(arr)\n",
    "\n",
    "# Testing the solution\n",
    "assert canBeEqual([1,2,3,4], [2,4,1,3]) == True\n",
    "assert canBeEqual([7], [7]) == True\n",
    "assert canBeEqual([3,7,9], [3,7,11]) == False"
   ]
  },
  {
   "cell_type": "markdown",
   "id": "68af6611",
   "metadata": {
    "papermill": {
     "duration": 0.007098,
     "end_time": "2024-09-12T02:18:36.523117",
     "exception": false,
     "start_time": "2024-09-12T02:18:36.516019",
     "status": "completed"
    },
    "tags": []
   },
   "source": [
    "CP Practice: 21th Aug 2024"
   ]
  },
  {
   "cell_type": "code",
   "execution_count": 16,
   "id": "8adcadba",
   "metadata": {
    "execution": {
     "iopub.execute_input": "2024-09-12T02:18:36.539065Z",
     "iopub.status.busy": "2024-09-12T02:18:36.538483Z",
     "iopub.status.idle": "2024-09-12T02:18:36.543461Z",
     "shell.execute_reply": "2024-09-12T02:18:36.542896Z"
    },
    "lines_to_next_cell": 1,
    "papermill": {
     "duration": 0.014253,
     "end_time": "2024-09-12T02:18:36.544642",
     "exception": false,
     "start_time": "2024-09-12T02:18:36.530389",
     "status": "completed"
    },
    "tags": []
   },
   "outputs": [],
   "source": [
    "def bertown_subway(N: int, stations: list[int]) -> int:\n",
    "    # Compute the number of disjoint stations\n",
    "    groups: collections.defaultdict[int, set[int]] = collections.defaultdict(set)\n",
    "    color: int = 0\n",
    "    visited: set[int] = set()\n",
    "    for i in range(N):\n",
    "        if i not in visited:\n",
    "            curr, color = i, color + 1\n",
    "            while curr not in visited:\n",
    "                visited.add(curr)\n",
    "                groups[color].add(curr)\n",
    "                curr = stations[curr] - 1\n",
    "\n",
    "    # We can combine any two groups - to maximize, join the last two groups\n",
    "    group_sizes: list[int] = sorted(map(len, groups.values()))\n",
    "    return sum(map(lambda x: x ** 2, group_sizes[:-2])) + sum(group_sizes[-2:]) ** 2\n",
    "\n",
    "# Testing the solution\n",
    "assert bertown_subway(5, [1,5,4,3,2]) == 17\n",
    "assert bertown_subway(3, [2,1,3]) == 9"
   ]
  },
  {
   "cell_type": "code",
   "execution_count": 17,
   "id": "18a6e2bb",
   "metadata": {
    "execution": {
     "iopub.execute_input": "2024-09-12T02:18:36.560148Z",
     "iopub.status.busy": "2024-09-12T02:18:36.559746Z",
     "iopub.status.idle": "2024-09-12T02:18:36.563166Z",
     "shell.execute_reply": "2024-09-12T02:18:36.562692Z"
    },
    "lines_to_next_cell": 1,
    "papermill": {
     "duration": 0.012395,
     "end_time": "2024-09-12T02:18:36.564275",
     "exception": false,
     "start_time": "2024-09-12T02:18:36.551880",
     "status": "completed"
    },
    "tags": []
   },
   "outputs": [],
   "source": [
    "def findComplement(num: int) -> int:\n",
    "    result, power = 0, 1\n",
    "    while num:\n",
    "        result += power if not num & 1 else 0\n",
    "        num, power = num >> 1, power << 1\n",
    "    return result\n",
    "\n",
    "# Testing the solution\n",
    "assert findComplement(5) == 2\n",
    "assert findComplement(1) == 0"
   ]
  },
  {
   "cell_type": "markdown",
   "id": "ed1309ea",
   "metadata": {
    "papermill": {
     "duration": 0.007019,
     "end_time": "2024-09-12T02:18:36.578292",
     "exception": false,
     "start_time": "2024-09-12T02:18:36.571273",
     "status": "completed"
    },
    "tags": []
   },
   "source": [
    "CP Practice: 24th Aug 2024"
   ]
  },
  {
   "cell_type": "code",
   "execution_count": 18,
   "id": "a4772d01",
   "metadata": {
    "execution": {
     "iopub.execute_input": "2024-09-12T02:18:36.593905Z",
     "iopub.status.busy": "2024-09-12T02:18:36.593525Z",
     "iopub.status.idle": "2024-09-12T02:18:36.599091Z",
     "shell.execute_reply": "2024-09-12T02:18:36.598593Z"
    },
    "lines_to_next_cell": 1,
    "papermill": {
     "duration": 0.014678,
     "end_time": "2024-09-12T02:18:36.600138",
     "exception": false,
     "start_time": "2024-09-12T02:18:36.585460",
     "status": "completed"
    },
    "tags": []
   },
   "outputs": [],
   "source": [
    "def k_complete_word(N: int, K: int, word: str) -> int:\n",
    "    updates = 0\n",
    "    visited: set[int] = set()\n",
    "    for i in range(N):\n",
    "        if i not in visited:\n",
    "            chars: list[int] = [0] * 26\n",
    "            max_, count = 0, 0\n",
    "            for j in range(i, N, K):\n",
    "                if j not in visited:\n",
    "                    visited.add(j)\n",
    "                    chars[ord(word[j]) - ord('a')] += 1\n",
    "                    max_, count = max(max_, chars[ord(word[j]) - ord('a')]), count + 1\n",
    "                if N - j - 1 not in visited:\n",
    "                    visited.add(N - j - 1)\n",
    "                    chars[ord(word[N - j - 1]) - ord('a')] += 1\n",
    "                    max_, count = max(max_, chars[ord(word[N - j - 1]) - ord('a')]), count + 1\n",
    "            updates += (count - max_)\n",
    "\n",
    "    return updates\n",
    "\n",
    "# Testing the solution\n",
    "assert k_complete_word(36, 9, \"hippopotomonstrosesquippedaliophobia\") == 23\n",
    "assert k_complete_word(21, 7, \"wudixiaoxingxingheclp\") == 16\n",
    "assert k_complete_word(6, 2, \"abaaba\") == 2\n",
    "assert k_complete_word(6, 3, \"abaaba\") == 0"
   ]
  },
  {
   "cell_type": "markdown",
   "id": "e0fb8bbe",
   "metadata": {
    "papermill": {
     "duration": 0.007035,
     "end_time": "2024-09-12T02:18:36.614340",
     "exception": false,
     "start_time": "2024-09-12T02:18:36.607305",
     "status": "completed"
    },
    "tags": []
   },
   "source": [
    "CP Practice: 25th Aug 2024"
   ]
  },
  {
   "cell_type": "code",
   "execution_count": 19,
   "id": "c1e474d2",
   "metadata": {
    "execution": {
     "iopub.execute_input": "2024-09-12T02:18:36.629717Z",
     "iopub.status.busy": "2024-09-12T02:18:36.629221Z",
     "iopub.status.idle": "2024-09-12T02:18:36.637207Z",
     "shell.execute_reply": "2024-09-12T02:18:36.636777Z"
    },
    "lines_to_next_cell": 1,
    "papermill": {
     "duration": 0.016933,
     "end_time": "2024-09-12T02:18:36.638331",
     "exception": false,
     "start_time": "2024-09-12T02:18:36.621398",
     "status": "completed"
    },
    "tags": []
   },
   "outputs": [],
   "source": [
    "def powerful_array(N: int, T: int, nums: list[int], queries: list[tuple[int, int]]) -> list[int]:\n",
    "    \"\"\"\n",
    "    This requires implementation of Moo's algorithm.\n",
    "    Divide the nums into blocks of size sqrt(N) each, we answer the queries in a special order.\n",
    "    \"\"\"\n",
    "    class StepWiseResult:\n",
    "        def __init__(self) -> None:\n",
    "            # Data structure to maintain the `current` result\n",
    "            self.freq: collections.defaultdict[int, int] = collections.defaultdict(int)\n",
    "            self.result = 0\n",
    "            self.curr_l = 0\n",
    "            self.curr_r = -1\n",
    "\n",
    "        def add(self, idx) -> None:\n",
    "            count = self.freq[nums[idx]]\n",
    "            self.result += ((count + 1) * (count + 1) * nums[idx]) - (count * count * nums[idx])\n",
    "            self.freq[nums[idx]] += 1\n",
    "\n",
    "        def remove(self, idx) -> None:\n",
    "            count = self.freq[nums[idx]]\n",
    "            self.result += ((count - 1) * (count - 1) * nums[idx]) - (count * count * nums[idx])\n",
    "            self.freq[nums[idx]] -= 1\n",
    "\n",
    "    # Block size of Sqrt(N)\n",
    "    BLOCK_SIZE = int(math.sqrt(N))\n",
    "\n",
    "    # Sort the left index by block number and right index in asc order if block num is odd else in desc order\n",
    "    sorted_queries = sorted(enumerate(queries), key=lambda x: (x[1][0] // BLOCK_SIZE, x[1][1] if (x[1][0] // BLOCK_SIZE) % 2 == 0 else -x[1][1]))\n",
    "\n",
    "    # Answer queries in a particular order\n",
    "    results: list[int] = [-1] * T\n",
    "    swr = StepWiseResult()\n",
    "    curr_l, curr_r = 0, -1\n",
    "    for idx, (L, R) in sorted_queries:\n",
    "        L, R = L - 1, R - 1\n",
    "        while curr_l > L:\n",
    "            curr_l -= 1\n",
    "            swr.add(curr_l)\n",
    "        while curr_r < R:\n",
    "            curr_r += 1\n",
    "            swr.add(curr_r)\n",
    "        while curr_l < L:\n",
    "            swr.remove(curr_l)\n",
    "            curr_l += 1\n",
    "        while curr_r > R:\n",
    "            swr.remove(curr_r)\n",
    "            curr_r -= 1\n",
    "\n",
    "        results[idx] = swr.result\n",
    "\n",
    "    return results\n",
    "\n",
    "# Testing the solution\n",
    "assert powerful_array(8, 3, [1,1,2,2,1,3,1,1], [(2,7), (1,6), (2,7)]) == [20, 20, 20]\n",
    "assert powerful_array(3, 2, [1,2,1], [(1,2), (1,3)]) == [3, 6]"
   ]
  },
  {
   "cell_type": "markdown",
   "id": "51dec1b2",
   "metadata": {
    "papermill": {
     "duration": 0.007164,
     "end_time": "2024-09-12T02:18:36.652586",
     "exception": false,
     "start_time": "2024-09-12T02:18:36.645422",
     "status": "completed"
    },
    "tags": []
   },
   "source": [
    "LC Weekly Contest - 25th Aug 2024"
   ]
  },
  {
   "cell_type": "code",
   "execution_count": 20,
   "id": "41add9da",
   "metadata": {
    "execution": {
     "iopub.execute_input": "2024-09-12T02:18:36.668136Z",
     "iopub.status.busy": "2024-09-12T02:18:36.667653Z",
     "iopub.status.idle": "2024-09-12T02:18:36.672518Z",
     "shell.execute_reply": "2024-09-12T02:18:36.672084Z"
    },
    "lines_to_next_cell": 1,
    "papermill": {
     "duration": 0.013967,
     "end_time": "2024-09-12T02:18:36.673650",
     "exception": false,
     "start_time": "2024-09-12T02:18:36.659683",
     "status": "completed"
    },
    "tags": []
   },
   "outputs": [],
   "source": [
    "def getFinalState(nums: list[int], K: int, multiplier: int) -> list[int]:\n",
    "    heap: list[tuple[int, int]] = list(map(lambda x: (x[1], x[0]), enumerate(nums)))\n",
    "    heapq.heapify(heap)\n",
    "    for i in range(K):\n",
    "        curr, idx = heapq.heappop(heap)\n",
    "        heapq.heappush(heap, (curr * multiplier, idx))\n",
    "\n",
    "    result: list[int] = [-1] * len(heap)\n",
    "    for curr, idx in heap:\n",
    "        result[idx] = curr % (10 ** 9 + 7)\n",
    "\n",
    "    return result\n",
    "\n",
    "# Testing the solution\n",
    "assert getFinalState([2,1,3,5,6], 5, 2) == [8,4,6,5,6]\n",
    "assert getFinalState([1,2], 3, 4) == [16, 8]\n",
    "assert getFinalState([1,2], 3, 4) == [16, 8]\n",
    "assert getFinalState([100000,2000], 2, 1000000) == [999999307,999999993]"
   ]
  },
  {
   "cell_type": "code",
   "execution_count": 21,
   "id": "077f8cdd",
   "metadata": {
    "execution": {
     "iopub.execute_input": "2024-09-12T02:18:36.689036Z",
     "iopub.status.busy": "2024-09-12T02:18:36.688543Z",
     "iopub.status.idle": "2024-09-12T02:18:36.694004Z",
     "shell.execute_reply": "2024-09-12T02:18:36.693439Z"
    },
    "lines_to_next_cell": 1,
    "papermill": {
     "duration": 0.014555,
     "end_time": "2024-09-12T02:18:36.695283",
     "exception": false,
     "start_time": "2024-09-12T02:18:36.680728",
     "status": "completed"
    },
    "tags": []
   },
   "outputs": [],
   "source": [
    "def countPairs(nums: list[int]) -> int:\n",
    "    def check_almost_equal(n1: int, n2: int) -> bool:\n",
    "        n1_str, n2_str = str(n1), str(n2)\n",
    "        max_width = max(len(n1_str), len(n2_str))\n",
    "        n1_str, n2_str = n1_str.zfill(max_width), n2_str.zfill(max_width)\n",
    "        f1, f2 = collections.Counter(n1_str), collections.Counter(n2_str)\n",
    "        non_match_pos = 0\n",
    "        for ch1, ch2 in zip(n1_str, n2_str):\n",
    "            if ch1 != ch2:\n",
    "                non_match_pos += 1\n",
    "\n",
    "        return f1 == f2 and non_match_pos <= 2\n",
    "\n",
    "    N = len(nums)\n",
    "    count = 0\n",
    "    for i in range(N):\n",
    "        for j in range(i + 1, N):\n",
    "            count += int(check_almost_equal(nums[i], nums[j]))\n",
    "\n",
    "    return count\n",
    "\n",
    "# Testing the solution\n",
    "assert countPairs([3,12,30,17,21]) == 2\n",
    "assert countPairs([1,1,1,1,1]) == 10\n",
    "assert countPairs([123,231]) == 0"
   ]
  },
  {
   "cell_type": "markdown",
   "id": "b9297a99",
   "metadata": {
    "papermill": {
     "duration": 0.007095,
     "end_time": "2024-09-12T02:18:36.709531",
     "exception": false,
     "start_time": "2024-09-12T02:18:36.702436",
     "status": "completed"
    },
    "tags": []
   },
   "source": [
    "Codeforces Div - 2: 25th Aug 2024"
   ]
  },
  {
   "cell_type": "code",
   "execution_count": 22,
   "id": "f59aa1d6",
   "metadata": {
    "execution": {
     "iopub.execute_input": "2024-09-12T02:18:36.725264Z",
     "iopub.status.busy": "2024-09-12T02:18:36.724710Z",
     "iopub.status.idle": "2024-09-12T02:18:36.728364Z",
     "shell.execute_reply": "2024-09-12T02:18:36.727844Z"
    },
    "lines_to_next_cell": 1,
    "papermill": {
     "duration": 0.012785,
     "end_time": "2024-09-12T02:18:36.729480",
     "exception": false,
     "start_time": "2024-09-12T02:18:36.716695",
     "status": "completed"
    },
    "tags": []
   },
   "outputs": [],
   "source": [
    "def turtle_and_good_strings(N: int, S: str) -> bool:\n",
    "    return S[0] != S[-1]\n",
    "\n",
    "# Testing the solution\n",
    "assert turtle_and_good_strings(2, \"aa\") == False\n",
    "assert turtle_and_good_strings(3, \"aba\") == False\n",
    "assert turtle_and_good_strings(4, \"abcb\") == True\n",
    "assert turtle_and_good_strings(12, \"abcabcabcabc\") == True"
   ]
  },
  {
   "cell_type": "code",
   "execution_count": 23,
   "id": "01a4465e",
   "metadata": {
    "execution": {
     "iopub.execute_input": "2024-09-12T02:18:36.745184Z",
     "iopub.status.busy": "2024-09-12T02:18:36.744639Z",
     "iopub.status.idle": "2024-09-12T02:18:36.748731Z",
     "shell.execute_reply": "2024-09-12T02:18:36.748282Z"
    },
    "lines_to_next_cell": 1,
    "papermill": {
     "duration": 0.013208,
     "end_time": "2024-09-12T02:18:36.749839",
     "exception": false,
     "start_time": "2024-09-12T02:18:36.736631",
     "status": "completed"
    },
    "tags": []
   },
   "outputs": [],
   "source": [
    "def turtle_and_piggy_are_playing_a_game(N: int, nums: list[int]) -> int:\n",
    "    nums.sort()\n",
    "    return nums[N // 2]\n",
    "\n",
    "# Testing the solution\n",
    "assert turtle_and_piggy_are_playing_a_game(2, [1,2]) == 2\n",
    "assert turtle_and_piggy_are_playing_a_game(3, [1,1,2]) == 1\n",
    "assert turtle_and_piggy_are_playing_a_game(3, [1,2,3]) == 2\n",
    "assert turtle_and_piggy_are_playing_a_game(5, [3,1,2,2,3]) == 2\n",
    "assert turtle_and_piggy_are_playing_a_game(10, [10,2,5,2,7,9,2,5,10,7]) == 7"
   ]
  },
  {
   "cell_type": "code",
   "execution_count": 24,
   "id": "064af796",
   "metadata": {
    "execution": {
     "iopub.execute_input": "2024-09-12T02:18:36.765057Z",
     "iopub.status.busy": "2024-09-12T02:18:36.764740Z",
     "iopub.status.idle": "2024-09-12T02:18:36.770323Z",
     "shell.execute_reply": "2024-09-12T02:18:36.769854Z"
    },
    "lines_to_next_cell": 1,
    "papermill": {
     "duration": 0.014401,
     "end_time": "2024-09-12T02:18:36.771469",
     "exception": false,
     "start_time": "2024-09-12T02:18:36.757068",
     "status": "completed"
    },
    "tags": []
   },
   "outputs": [],
   "source": [
    "def turtle_and_good_pairs(N: int, S: str) -> str:\n",
    "    freq: list[int] = [0] * 26\n",
    "    for ch in S:\n",
    "        freq[ord(ch) - ord('a')] += 1\n",
    "\n",
    "    result: list[str] = []\n",
    "    i = 0\n",
    "    while N:\n",
    "        if freq[i] > 0:\n",
    "            result.append(chr(i + ord('a')))\n",
    "            N -= 1\n",
    "            freq[i] -= 1\n",
    "        i = (i + 1) % 26\n",
    "\n",
    "    return \"\".join(result)\n",
    "\n",
    "# Testing the solution\n",
    "def test_turtle_and_good_pairs(S: str, ans: str) -> None:\n",
    "    def count(s: str) -> int:\n",
    "        N = len(s)\n",
    "        count = 0\n",
    "        for i in range(N):\n",
    "            chars: set[str] = {s[i]}\n",
    "            for j in range(i + 1, N):\n",
    "                chars.add(s[j])\n",
    "                if s[i] == s[j] or len(chars) > 2:\n",
    "                    count += 1\n",
    "        return count\n",
    "\n",
    "    assert count(S) == count(ans)\n",
    "\n",
    "test_turtle_and_good_pairs(turtle_and_good_pairs(3, \"abc\"), \"acb\")\n",
    "test_turtle_and_good_pairs(turtle_and_good_pairs(5, \"edddf\"), \"ddedf\")\n",
    "test_turtle_and_good_pairs(turtle_and_good_pairs(10, \"codeforces\"), \"codeforces\")\n",
    "test_turtle_and_good_pairs(turtle_and_good_pairs(6, \"turtle\"), \"urtlet\")"
   ]
  },
  {
   "cell_type": "markdown",
   "id": "26885d10",
   "metadata": {
    "papermill": {
     "duration": 0.007302,
     "end_time": "2024-09-12T02:18:36.785979",
     "exception": false,
     "start_time": "2024-09-12T02:18:36.778677",
     "status": "completed"
    },
    "tags": []
   },
   "source": [
    "DSA Touch: 26th Aug 2024"
   ]
  },
  {
   "cell_type": "code",
   "execution_count": 25,
   "id": "8d4b0e8f",
   "metadata": {
    "execution": {
     "iopub.execute_input": "2024-09-12T02:18:36.801160Z",
     "iopub.status.busy": "2024-09-12T02:18:36.800809Z",
     "iopub.status.idle": "2024-09-12T02:18:36.808068Z",
     "shell.execute_reply": "2024-09-12T02:18:36.807501Z"
    },
    "lines_to_next_cell": 1,
    "papermill": {
     "duration": 0.016318,
     "end_time": "2024-09-12T02:18:36.809354",
     "exception": false,
     "start_time": "2024-09-12T02:18:36.793036",
     "status": "completed"
    },
    "tags": []
   },
   "outputs": [],
   "source": [
    "def postorder_N_ary_opt1(root: 'NAryNode|None') -> list[int]:\n",
    "    result: list[int] = []\n",
    "    stack: list[tuple['NAryNode|None', int]] = [(root, 0)]\n",
    "    while stack:\n",
    "        curr, idx = stack[-1]\n",
    "        if not curr or idx == len(curr.children):\n",
    "            if curr:\n",
    "                result.append(curr.val)\n",
    "            stack.pop()\n",
    "        else:\n",
    "            stack[-1] = curr, idx + 1\n",
    "            stack.append((curr.children[idx], 0))\n",
    "\n",
    "    return result\n",
    "\n",
    "# Testing the solution\n",
    "assert postorder_N_ary_opt1(NAryNode.from_list([1,None,3,2,4,None,5,6])) == [5,6,3,2,4,1]\n",
    "assert postorder_N_ary_opt1(NAryNode.from_list([1,None,2,3,4,5,None,None,6,7,None,8,None,9,10,None,None,11,None,12,None,13,None,None,14])) == [2,6,14,11,7,3,12,8,4,13,9,10,5,1]\n",
    "\n",
    "def postorder_N_ary_opt2(root: 'NAryNode|None') -> list[int]:\n",
    "    result: list[int] = []\n",
    "    stack: list[tuple['NAryNode|None', bool]] = [(root, False)]\n",
    "    while stack:\n",
    "        curr, completed = stack.pop()\n",
    "        if not curr:\n",
    "            continue\n",
    "        elif completed:\n",
    "            result.append(curr.val)\n",
    "        else:\n",
    "            stack.append((curr, True))\n",
    "            for children in curr.children[::-1]:\n",
    "                stack.append((children, False))\n",
    "\n",
    "    return result\n",
    "\n",
    "# Testing the solution\n",
    "assert postorder_N_ary_opt2(NAryNode.from_list([1,None,3,2,4,None,5,6])) == [5,6,3,2,4,1]\n",
    "assert postorder_N_ary_opt2(NAryNode.from_list([1,None,2,3,4,5,None,None,6,7,None,8,None,9,10,None,None,11,None,12,None,13,None,None,14])) == [2,6,14,11,7,3,12,8,4,13,9,10,5,1]"
   ]
  },
  {
   "cell_type": "code",
   "execution_count": 26,
   "id": "6ef017d7",
   "metadata": {
    "execution": {
     "iopub.execute_input": "2024-09-12T02:18:36.825162Z",
     "iopub.status.busy": "2024-09-12T02:18:36.824685Z",
     "iopub.status.idle": "2024-09-12T02:18:36.829174Z",
     "shell.execute_reply": "2024-09-12T02:18:36.828713Z"
    },
    "lines_to_next_cell": 1,
    "papermill": {
     "duration": 0.013656,
     "end_time": "2024-09-12T02:18:36.830254",
     "exception": false,
     "start_time": "2024-09-12T02:18:36.816598",
     "status": "completed"
    },
    "tags": []
   },
   "outputs": [],
   "source": [
    "def construct2DArray(original: list[int], M: int, N: int) -> list[list[int]]:\n",
    "    if len(original) != M * N:\n",
    "        return []\n",
    "    else:\n",
    "        results: list[list[int]] = [[]]\n",
    "        for i in range(len(original)):\n",
    "            results[-1].append(original[i])\n",
    "            if (i + 1) % N == 0:\n",
    "                results.append([])\n",
    "\n",
    "    results.pop()\n",
    "    return results\n",
    "\n",
    "# Testing the solution\n",
    "assert construct2DArray([1,2,3,4], 2, 2) == [[1,2], [3,4]]\n",
    "assert construct2DArray([1,2,3], 1, 3) == [[1,2,3]]\n",
    "assert construct2DArray([1,2], 1, 1) == []"
   ]
  },
  {
   "cell_type": "markdown",
   "id": "43a6adcb",
   "metadata": {
    "papermill": {
     "duration": 0.006991,
     "end_time": "2024-09-12T02:18:36.844550",
     "exception": false,
     "start_time": "2024-09-12T02:18:36.837559",
     "status": "completed"
    },
    "tags": []
   },
   "source": [
    "LC Weekly: 1st Sept 2024"
   ]
  },
  {
   "cell_type": "code",
   "execution_count": 27,
   "id": "9420213c",
   "metadata": {
    "execution": {
     "iopub.execute_input": "2024-09-12T02:18:36.859887Z",
     "iopub.status.busy": "2024-09-12T02:18:36.859310Z",
     "iopub.status.idle": "2024-09-12T02:18:36.863427Z",
     "shell.execute_reply": "2024-09-12T02:18:36.862891Z"
    },
    "lines_to_next_cell": 1,
    "papermill": {
     "duration": 0.013055,
     "end_time": "2024-09-12T02:18:36.864555",
     "exception": false,
     "start_time": "2024-09-12T02:18:36.851500",
     "status": "completed"
    },
    "tags": []
   },
   "outputs": [],
   "source": [
    "def checkTwoChessboards(coord1: str, coord2: str) -> bool:\n",
    "    c1, c2 = (ord(coord1[0]) - ord('a'), int(coord1[1]) - 1), (ord(coord2[0]) - ord('a'), int(coord2[1]) - 1)\n",
    "    checkColor = lambda x: x[0] % 2 == x[1] % 2\n",
    "    return checkColor(c1) == checkColor(c2)\n",
    "\n",
    "# Testing the solution\n",
    "assert checkTwoChessboards(\"a1\", \"c3\") == True\n",
    "assert checkTwoChessboards(\"a1\", \"h3\") == False\n",
    "assert checkTwoChessboards(\"b4\", \"h6\") == True"
   ]
  },
  {
   "cell_type": "code",
   "execution_count": 28,
   "id": "351d09d5",
   "metadata": {
    "execution": {
     "iopub.execute_input": "2024-09-12T02:18:36.895095Z",
     "iopub.status.busy": "2024-09-12T02:18:36.894510Z",
     "iopub.status.idle": "2024-09-12T02:18:36.899400Z",
     "shell.execute_reply": "2024-09-12T02:18:36.898812Z"
    },
    "lines_to_next_cell": 1,
    "papermill": {
     "duration": 0.014097,
     "end_time": "2024-09-12T02:18:36.900543",
     "exception": false,
     "start_time": "2024-09-12T02:18:36.886446",
     "status": "completed"
    },
    "tags": []
   },
   "outputs": [],
   "source": [
    "def resultsArray(queries: list[list[int]], K: int) -> list[int]:\n",
    "    def distance(pt: list[int]) -> int:\n",
    "        return abs(pt[0]) + abs(pt[1])\n",
    "\n",
    "    results: list[int] = []\n",
    "    heap: list[int] = []\n",
    "    for pt in queries:\n",
    "        heapq.heappush(heap, -distance(pt))\n",
    "        if len(heap) > K:\n",
    "            heapq.heappop(heap)\n",
    "        results.append(-heap[0] if len(heap) == K else -1)\n",
    "    return results\n",
    "\n",
    "# Testing the solution\n",
    "assert resultsArray([[1,2],[3,4],[2,3],[-3,0]], 2) == [-1, 7, 5, 3]\n",
    "assert resultsArray([[5,5],[4,4],[3,3]], 1) == [10, 8, 6]"
   ]
  },
  {
   "cell_type": "markdown",
   "id": "fbf71141",
   "metadata": {
    "papermill": {
     "duration": 0.007208,
     "end_time": "2024-09-12T02:18:36.914993",
     "exception": false,
     "start_time": "2024-09-12T02:18:36.907785",
     "status": "completed"
    },
    "tags": []
   },
   "source": [
    "CF Div 4: 3rd Sept"
   ]
  },
  {
   "cell_type": "code",
   "execution_count": 29,
   "id": "4adc39dc",
   "metadata": {
    "execution": {
     "iopub.execute_input": "2024-09-12T02:18:36.930638Z",
     "iopub.status.busy": "2024-09-12T02:18:36.930034Z",
     "iopub.status.idle": "2024-09-12T02:18:36.933115Z",
     "shell.execute_reply": "2024-09-12T02:18:36.932563Z"
    },
    "lines_to_next_cell": 1,
    "papermill": {
     "duration": 0.012143,
     "end_time": "2024-09-12T02:18:36.934224",
     "exception": false,
     "start_time": "2024-09-12T02:18:36.922081",
     "status": "completed"
    },
    "tags": []
   },
   "outputs": [],
   "source": [
    "def minimize(a: int, b: int) -> int:\n",
    "    return b - a"
   ]
  },
  {
   "cell_type": "code",
   "execution_count": 30,
   "id": "cd9d317f",
   "metadata": {
    "execution": {
     "iopub.execute_input": "2024-09-12T02:18:36.950486Z",
     "iopub.status.busy": "2024-09-12T02:18:36.949981Z",
     "iopub.status.idle": "2024-09-12T02:18:36.953677Z",
     "shell.execute_reply": "2024-09-12T02:18:36.953212Z"
    },
    "lines_to_next_cell": 1,
    "papermill": {
     "duration": 0.013296,
     "end_time": "2024-09-12T02:18:36.954796",
     "exception": false,
     "start_time": "2024-09-12T02:18:36.941500",
     "status": "completed"
    },
    "tags": []
   },
   "outputs": [],
   "source": [
    "def legend_of_freya(x: int, y: int, k: int) -> int:\n",
    "    x_moves, y_moves = math.ceil(x / k), math.ceil(y / k)\n",
    "    moves = max(x_moves, y_moves) * 2\n",
    "    return moves if y_moves >= x_moves else moves - 1\n",
    "\n",
    "# Testing the solution\n",
    "assert legend_of_freya(9, 11, 3) == 8\n",
    "assert legend_of_freya(0, 10, 8) == 4\n",
    "assert legend_of_freya(1000000, 100000, 10) == 199999"
   ]
  },
  {
   "cell_type": "code",
   "execution_count": 31,
   "id": "14e53cbb",
   "metadata": {
    "execution": {
     "iopub.execute_input": "2024-09-12T02:18:36.970644Z",
     "iopub.status.busy": "2024-09-12T02:18:36.970168Z",
     "iopub.status.idle": "2024-09-12T02:18:36.974328Z",
     "shell.execute_reply": "2024-09-12T02:18:36.973856Z"
    },
    "lines_to_next_cell": 1,
    "papermill": {
     "duration": 0.013303,
     "end_time": "2024-09-12T02:18:36.975499",
     "exception": false,
     "start_time": "2024-09-12T02:18:36.962196",
     "status": "completed"
    },
    "tags": []
   },
   "outputs": [],
   "source": [
    "def getLucky(s: str, k: int) -> int:\n",
    "    ords: list[int] = list(map(lambda x: ord(x) - ord('a') + 1, s))\n",
    "    curr = functools.reduce(lambda x, y: x * 100 + y if y >= 10 else x * 10 + y, ords, 0)\n",
    "    while k:\n",
    "        total = 0\n",
    "        while curr:\n",
    "            total, curr = total + (curr % 10), curr // 10\n",
    "        curr, k = total, k - 1\n",
    "    return curr\n",
    "\n",
    "# Testing the solution\n",
    "assert getLucky(\"leetcode\", 2) == 6\n",
    "assert getLucky(\"zbax\", 2) == 8\n",
    "assert getLucky(\"iiii\", 1) == 36"
   ]
  },
  {
   "cell_type": "markdown",
   "id": "4c6dc740",
   "metadata": {
    "papermill": {
     "duration": 0.007175,
     "end_time": "2024-09-12T02:18:36.989913",
     "exception": false,
     "start_time": "2024-09-12T02:18:36.982738",
     "status": "completed"
    },
    "tags": []
   },
   "source": [
    "LC Practice"
   ]
  },
  {
   "cell_type": "code",
   "execution_count": 32,
   "id": "951ee31e",
   "metadata": {
    "execution": {
     "iopub.execute_input": "2024-09-12T02:18:37.005566Z",
     "iopub.status.busy": "2024-09-12T02:18:37.005052Z",
     "iopub.status.idle": "2024-09-12T02:18:37.008688Z",
     "shell.execute_reply": "2024-09-12T02:18:37.008251Z"
    },
    "lines_to_next_cell": 1,
    "papermill": {
     "duration": 0.012731,
     "end_time": "2024-09-12T02:18:37.009805",
     "exception": false,
     "start_time": "2024-09-12T02:18:36.997074",
     "status": "completed"
    },
    "tags": []
   },
   "outputs": [],
   "source": [
    "def firstBadVersion(N: int) -> int:\n",
    "    def isBadVersion(version: int) -> bool:\n",
    "        return True\n",
    "\n",
    "    low, high = 0, N - 1\n",
    "    while low <= high:\n",
    "        mid = (low + high) // 2\n",
    "        if isBadVersion(mid):\n",
    "            high = mid - 1\n",
    "        else:\n",
    "            low = mid + 1\n",
    "    return low"
   ]
  },
  {
   "cell_type": "markdown",
   "id": "b6557c37",
   "metadata": {
    "lines_to_next_cell": 0,
    "papermill": {
     "duration": 0.007629,
     "end_time": "2024-09-12T02:18:37.024708",
     "exception": false,
     "start_time": "2024-09-12T02:18:37.017079",
     "status": "completed"
    },
    "tags": []
   },
   "source": [
    "LC Practice - 6th Sept 2024"
   ]
  },
  {
   "cell_type": "code",
   "execution_count": 33,
   "id": "94b2729e",
   "metadata": {
    "execution": {
     "iopub.execute_input": "2024-09-12T02:18:37.040602Z",
     "iopub.status.busy": "2024-09-12T02:18:37.040030Z",
     "iopub.status.idle": "2024-09-12T02:18:37.044265Z",
     "shell.execute_reply": "2024-09-12T02:18:37.043717Z"
    },
    "lines_to_next_cell": 1,
    "papermill": {
     "duration": 0.01378,
     "end_time": "2024-09-12T02:18:37.045527",
     "exception": false,
     "start_time": "2024-09-12T02:18:37.031747",
     "status": "completed"
    },
    "tags": []
   },
   "outputs": [],
   "source": [
    "def minOperations(logs: list[str]) -> int:\n",
    "    depth = 0\n",
    "    for op in logs:\n",
    "        if op == \"../\":\n",
    "            depth = max(0, depth - 1)\n",
    "        elif op == \"./\":\n",
    "            pass\n",
    "        else:\n",
    "            depth += 1\n",
    "    return depth\n",
    "\n",
    "# Testing the solution\n",
    "assert minOperations([\"d1/\",\"d2/\",\"../\",\"d21/\",\"./\"]) == 2\n",
    "assert minOperations([\"d1/\",\"d2/\",\"./\",\"d3/\",\"../\",\"d31/\"]) == 3\n",
    "assert minOperations([\"d1/\",\"../\",\"../\",\"../\"]) == 0"
   ]
  },
  {
   "cell_type": "code",
   "execution_count": 34,
   "id": "25edcd6e",
   "metadata": {
    "execution": {
     "iopub.execute_input": "2024-09-12T02:18:37.061277Z",
     "iopub.status.busy": "2024-09-12T02:18:37.060797Z",
     "iopub.status.idle": "2024-09-12T02:18:37.064949Z",
     "shell.execute_reply": "2024-09-12T02:18:37.064518Z"
    },
    "lines_to_next_cell": 1,
    "papermill": {
     "duration": 0.013196,
     "end_time": "2024-09-12T02:18:37.066088",
     "exception": false,
     "start_time": "2024-09-12T02:18:37.052892",
     "status": "completed"
    },
    "tags": []
   },
   "outputs": [],
   "source": [
    "def SOE(N: int) -> list[int]:\n",
    "    soe: list[bool] = [True for i in range(N + 1)]\n",
    "    soe[0] = soe[1] = False\n",
    "    i = 2\n",
    "    while i * i <= N:\n",
    "        if soe[i]:\n",
    "            soe[i*i::i] = [False] * len(soe[i*i::i])\n",
    "        i += 1\n",
    "    return [i for i in range(N + 1) if soe[i]]\n",
    "\n",
    "# Testing the solution\n",
    "assert len(SOE(20)) == 8"
   ]
  },
  {
   "cell_type": "code",
   "execution_count": 35,
   "id": "a1922c4e",
   "metadata": {
    "execution": {
     "iopub.execute_input": "2024-09-12T02:18:37.081689Z",
     "iopub.status.busy": "2024-09-12T02:18:37.081278Z",
     "iopub.status.idle": "2024-09-12T02:18:37.084736Z",
     "shell.execute_reply": "2024-09-12T02:18:37.084306Z"
    },
    "lines_to_next_cell": 1,
    "papermill": {
     "duration": 0.01251,
     "end_time": "2024-09-12T02:18:37.085859",
     "exception": false,
     "start_time": "2024-09-12T02:18:37.073349",
     "status": "completed"
    },
    "tags": []
   },
   "outputs": [],
   "source": [
    "def GCD(n1: int, n2: int) -> int:\n",
    "    while n1 > 0 and n2 > 0:\n",
    "        n1, n2 = max(n1, n2), min(n1, n2)\n",
    "        n1, n2 = n2, n1 % n2\n",
    "    return max(n1, n2)\n",
    "\n",
    "# Testing the solution\n",
    "assert GCD(4, 6) == 2\n",
    "assert GCD(9, 8) == 1\n",
    "assert GCD(6, 12) == 6"
   ]
  },
  {
   "cell_type": "code",
   "execution_count": 36,
   "id": "fa9d2456",
   "metadata": {
    "execution": {
     "iopub.execute_input": "2024-09-12T02:18:37.101341Z",
     "iopub.status.busy": "2024-09-12T02:18:37.101117Z",
     "iopub.status.idle": "2024-09-12T02:18:37.104171Z",
     "shell.execute_reply": "2024-09-12T02:18:37.103745Z"
    },
    "lines_to_next_cell": 1,
    "papermill": {
     "duration": 0.012155,
     "end_time": "2024-09-12T02:18:37.105279",
     "exception": false,
     "start_time": "2024-09-12T02:18:37.093124",
     "status": "completed"
    },
    "tags": []
   },
   "outputs": [],
   "source": [
    "def LCM(n1: int, n2: int) -> int:\n",
    "    return (n1 * n2) // GCD(n1, n2)\n",
    "\n",
    "# Testing the solution\n",
    "assert LCM(4, 6) == 12\n",
    "assert LCM(3, 5) == 15\n",
    "assert LCM(4, 12) == 12"
   ]
  },
  {
   "cell_type": "code",
   "execution_count": 37,
   "id": "bde34bae",
   "metadata": {
    "execution": {
     "iopub.execute_input": "2024-09-12T02:18:37.120561Z",
     "iopub.status.busy": "2024-09-12T02:18:37.120080Z",
     "iopub.status.idle": "2024-09-12T02:18:37.123930Z",
     "shell.execute_reply": "2024-09-12T02:18:37.123477Z"
    },
    "lines_to_next_cell": 1,
    "papermill": {
     "duration": 0.012608,
     "end_time": "2024-09-12T02:18:37.125024",
     "exception": false,
     "start_time": "2024-09-12T02:18:37.112416",
     "status": "completed"
    },
    "tags": []
   },
   "outputs": [],
   "source": [
    "def divisors(N: int) -> list[int]:\n",
    "    divs: list[int] = []\n",
    "    i = 1\n",
    "    while i * i <= N:\n",
    "        if N % i == 0:\n",
    "            divs.append(i)\n",
    "            if N // i != i:\n",
    "                divs.append(N // i)\n",
    "        i += 1\n",
    "\n",
    "    return sorted(divs)\n",
    "\n",
    "# Testing the solution\n",
    "assert divisors(18) == [1,2,3,6,9,18]"
   ]
  },
  {
   "cell_type": "code",
   "execution_count": 38,
   "id": "ec331524",
   "metadata": {
    "execution": {
     "iopub.execute_input": "2024-09-12T02:18:37.140650Z",
     "iopub.status.busy": "2024-09-12T02:18:37.140179Z",
     "iopub.status.idle": "2024-09-12T02:18:37.144478Z",
     "shell.execute_reply": "2024-09-12T02:18:37.143934Z"
    },
    "lines_to_next_cell": 1,
    "papermill": {
     "duration": 0.013519,
     "end_time": "2024-09-12T02:18:37.145794",
     "exception": false,
     "start_time": "2024-09-12T02:18:37.132275",
     "status": "completed"
    },
    "tags": []
   },
   "outputs": [],
   "source": [
    "def mostFrequentElement(nums: list[int]) -> int:\n",
    "    # Count freq of elements\n",
    "    freq: dict[int, int] = dict()\n",
    "    for n in nums:\n",
    "        freq[n] = freq.get(n, 0) + 1\n",
    "\n",
    "    # Compute max occuring element\n",
    "    max_freq, max_value = 0, 0\n",
    "    for v, f in freq.items():\n",
    "        if f > max_freq:\n",
    "            max_freq, max_value = f, v\n",
    "        elif f == max_freq:\n",
    "            max_value = min(v, max_value)\n",
    "\n",
    "    return max_value\n",
    "\n",
    "# Testing the solution\n",
    "assert mostFrequentElement([2,3,1]) == 1\n",
    "assert mostFrequentElement([4,4,5,5,6]) == 4\n",
    "assert mostFrequentElement([1,2,3,3,2,2,2,2]) == 2"
   ]
  },
  {
   "cell_type": "code",
   "execution_count": 39,
   "id": "7e25b4b2",
   "metadata": {
    "execution": {
     "iopub.execute_input": "2024-09-12T02:18:37.167471Z",
     "iopub.status.busy": "2024-09-12T02:18:37.167219Z",
     "iopub.status.idle": "2024-09-12T02:18:37.172099Z",
     "shell.execute_reply": "2024-09-12T02:18:37.171528Z"
    },
    "lines_to_next_cell": 1,
    "papermill": {
     "duration": 0.017123,
     "end_time": "2024-09-12T02:18:37.173333",
     "exception": false,
     "start_time": "2024-09-12T02:18:37.156210",
     "status": "completed"
    },
    "tags": []
   },
   "outputs": [],
   "source": [
    "def secondMostFrequentElement(nums: list[int]) -> int:\n",
    "    # Compute the freq of all elements\n",
    "    freq: collections.Counter[int] = collections.Counter(nums)\n",
    "\n",
    "    # Return second most freq\n",
    "    f1, v1, f2, v2 = 0, -1, 0, -1\n",
    "    for v, f in freq.items():\n",
    "        if f > f1:\n",
    "            f1, v1, f2, v2 = f, v, f1, v1\n",
    "        elif f == f1:\n",
    "            v1 = min(v1, v)\n",
    "        elif f > f2:\n",
    "            f2, v2 = f, v\n",
    "        elif f == f2:\n",
    "            v2 = min(v2, v)\n",
    "\n",
    "    return v2\n",
    "\n",
    "# Testing the solution\n",
    "assert secondMostFrequentElement([1,2,2,3,3,3]) == 2\n",
    "assert secondMostFrequentElement([4,4,5,5,6,7]) == 6\n",
    "assert secondMostFrequentElement([10,9,7,7]) == 9\n",
    "assert secondMostFrequentElement([1,2,2,1,3,3]) == -1"
   ]
  },
  {
   "cell_type": "code",
   "execution_count": 40,
   "id": "22a98544",
   "metadata": {
    "execution": {
     "iopub.execute_input": "2024-09-12T02:18:37.189953Z",
     "iopub.status.busy": "2024-09-12T02:18:37.189492Z",
     "iopub.status.idle": "2024-09-12T02:18:37.194036Z",
     "shell.execute_reply": "2024-09-12T02:18:37.193523Z"
    },
    "lines_to_next_cell": 1,
    "papermill": {
     "duration": 0.014346,
     "end_time": "2024-09-12T02:18:37.195481",
     "exception": false,
     "start_time": "2024-09-12T02:18:37.181135",
     "status": "completed"
    },
    "tags": []
   },
   "outputs": [],
   "source": [
    "def sumHighestAndLowestFrequency(nums: list[int]) -> int:\n",
    "    # Compute freq\n",
    "    freq: collections.Counter[int] = collections.Counter(nums)\n",
    "\n",
    "    # Return max freq + min freq\n",
    "    max_freq, min_freq = 0, int(1e4)\n",
    "    for v, f in freq.items():\n",
    "        max_freq, min_freq = max(max_freq, f), min(min_freq, f)\n",
    "\n",
    "    return max_freq + min_freq\n",
    "\n",
    "# Testing the solution\n",
    "assert sumHighestAndLowestFrequency([4,4,5,5,6]) == 3\n",
    "assert sumHighestAndLowestFrequency([1,2,2,3,3,3]) == 4\n",
    "assert sumHighestAndLowestFrequency([1,1]) == 4"
   ]
  },
  {
   "cell_type": "code",
   "execution_count": 41,
   "id": "092952da",
   "metadata": {
    "execution": {
     "iopub.execute_input": "2024-09-12T02:18:37.217085Z",
     "iopub.status.busy": "2024-09-12T02:18:37.216576Z",
     "iopub.status.idle": "2024-09-12T02:18:37.220398Z",
     "shell.execute_reply": "2024-09-12T02:18:37.219896Z"
    },
    "lines_to_next_cell": 1,
    "papermill": {
     "duration": 0.016039,
     "end_time": "2024-09-12T02:18:37.221782",
     "exception": false,
     "start_time": "2024-09-12T02:18:37.205743",
     "status": "completed"
    },
    "tags": []
   },
   "outputs": [],
   "source": [
    "def addDigits(num: int) -> int:\n",
    "    digits = num\n",
    "    while int(math.log10(num) + 1) > 1:\n",
    "        curr, digits = num, 0\n",
    "        while curr:\n",
    "            digits += curr % 10\n",
    "            curr //= 10\n",
    "        num = digits\n",
    "    return digits\n",
    "\n",
    "# Testing the solution\n",
    "assert addDigits(10) == 1\n",
    "assert addDigits(91) == 1"
   ]
  },
  {
   "cell_type": "code",
   "execution_count": null,
   "id": "2b99567c",
   "metadata": {
    "lines_to_next_cell": 1
   },
   "outputs": [],
   "source": [
    "def checkPrime(num: int) -> bool:\n",
    "    def backtrack(curr: int) -> bool:\n",
    "        if num % curr == 0:\n",
    "            return False\n",
    "        elif curr * curr > num:\n",
    "            return True\n",
    "        else:\n",
    "            return backtrack(curr + 1)\n",
    "\n",
    "    return backtrack(2) if num != 1 else False\n",
    "\n",
    "# Testing the solution\n",
    "assert checkPrime(41) == True\n",
    "assert checkPrime(27) == False\n",
    "assert checkPrime(1) == False"
   ]
  },
  {
   "cell_type": "code",
   "execution_count": null,
   "id": "6223502a",
   "metadata": {
    "lines_to_next_cell": 1
   },
   "outputs": [],
   "source": [
    "def longestCommonPrefix(strs: list[str]) -> str:\n",
    "    prefix: list[str] = list(strs[0])\n",
    "    for st in strs[1:]:\n",
    "        i = 0\n",
    "        while i < len(prefix) and i < len(st):\n",
    "            if prefix[i] != st[i]:\n",
    "                break\n",
    "            i += 1\n",
    "        prefix = prefix[:i]\n",
    "\n",
    "    return \"\".join(prefix)\n",
    "\n",
    "# Testing the solution\n",
    "assert longestCommonPrefix([\"flowers\", \"flow\", \"fly\", \"flight\"]) == \"fl\"\n",
    "assert longestCommonPrefix([\"dog\" , \"cat\" , \"animal\", \"monkey\"]) == \"\"\n",
    "assert longestCommonPrefix([\"lady\", \"lazy\"]) == \"la\""
   ]
  },
  {
   "cell_type": "code",
   "execution_count": null,
   "id": "3c69013a",
   "metadata": {},
   "outputs": [],
   "source": [
    "def isomorphicString(s1: str, s2: str) -> bool:\n",
    "    N = len(s1)\n",
    "    if N != len(s2):\n",
    "        return False\n",
    "    else:\n",
    "        mapping: dict[str, str] = dict()\n",
    "        rev_mapping: dict[str, str] = dict()\n",
    "        for i in range(N):\n",
    "            if s1[i] not in mapping and s2[i] not in rev_mapping:\n",
    "                mapping[s1[i]], rev_mapping[s2[i]] = s2[i], s1[i]\n",
    "            elif mapping.get(s1[i], \"* MISSING *\") != s2[i]:\n",
    "                return False\n",
    "        return True\n",
    "\n",
    "# Testing the solution\n",
    "assert isomorphicString(\"egg\", \"add\") == True\n",
    "assert isomorphicString(\"apple\", \"bbnbm\") == False\n",
    "assert isomorphicString(\"paper\", \"title\") == True"
   ]
  }
 ],
 "metadata": {
  "kernelspec": {
   "display_name": "Python 3 (ipykernel)",
   "language": "python",
   "name": "python3"
  },
  "language_info": {
   "codemirror_mode": {
    "name": "ipython",
    "version": 3
   },
   "file_extension": ".py",
   "mimetype": "text/x-python",
   "name": "python",
   "nbconvert_exporter": "python",
   "pygments_lexer": "ipython3",
   "version": "3.12.6"
  },
  "papermill": {
   "default_parameters": {},
   "duration": 2.862914,
   "end_time": "2024-09-12T02:18:37.449997",
   "environment_variables": {},
   "exception": null,
   "input_path": "practice/008.ipynb",
   "output_path": "practice/008.ipynb",
   "parameters": {},
   "start_time": "2024-09-12T02:18:34.587083",
   "version": "2.6.0"
  }
 },
 "nbformat": 4,
 "nbformat_minor": 5
}
