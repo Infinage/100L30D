{
 "cells": [
  {
   "cell_type": "code",
   "execution_count": 1,
   "id": "1dbda701",
   "metadata": {
    "execution": {
     "iopub.execute_input": "2024-07-19T03:12:26.997049Z",
     "iopub.status.busy": "2024-07-19T03:12:26.996667Z",
     "iopub.status.idle": "2024-07-19T03:12:27.339170Z",
     "shell.execute_reply": "2024-07-19T03:12:27.338691Z"
    },
    "papermill": {
     "duration": 0.348318,
     "end_time": "2024-07-19T03:12:27.340578",
     "exception": false,
     "start_time": "2024-07-19T03:12:26.992260",
     "status": "completed"
    },
    "tags": []
   },
   "outputs": [],
   "source": [
    "from typing import List, Optional, Generator\n",
    "import pandas as pd\n",
    "import numpy as np\n",
    "import sqlite3\n",
    "import re\n",
    "import io\n",
    "import math\n",
    "import collections\n",
    "import itertools\n",
    "import functools\n",
    "import random\n",
    "import string\n",
    "import tqdm\n",
    "import bisect\n",
    "import heapq\n",
    "\n",
    "conn = sqlite3.connect(\":memory:\")\n",
    "\n",
    "def regexp(expr, item):\n",
    "    reg = re.compile(expr)\n",
    "    return reg.search(item) is not None\n",
    "\n",
    "def read_lc_df(s: str, dtypes: dict[str, str]=dict()) -> pd.DataFrame:\n",
    "    temp = pd.read_csv(io.StringIO(s), sep=\"|\", skiprows=2)\n",
    "    temp = temp.iloc[1:-1, 1:-1]\n",
    "    temp.columns = temp.columns.map(str.strip)\n",
    "    temp = temp.map(lambda x: x if type(x) != str else None if x.strip() == 'null' else x.strip())\n",
    "    temp = temp.astype(dtypes)\n",
    "    return temp\n",
    "\n",
    "conn.create_function(\"REGEXP\", 2, regexp)"
   ]
  },
  {
   "cell_type": "markdown",
   "id": "a161421c",
   "metadata": {
    "papermill": {
     "duration": 0.002689,
     "end_time": "2024-07-19T03:12:27.346322",
     "exception": false,
     "start_time": "2024-07-19T03:12:27.343633",
     "status": "completed"
    },
    "tags": []
   },
   "source": [
    "#### Helper for Binary tree problems"
   ]
  },
  {
   "cell_type": "code",
   "execution_count": 2,
   "id": "07be0a7b",
   "metadata": {
    "execution": {
     "iopub.execute_input": "2024-07-19T03:12:27.352785Z",
     "iopub.status.busy": "2024-07-19T03:12:27.352291Z",
     "iopub.status.idle": "2024-07-19T03:12:27.359411Z",
     "shell.execute_reply": "2024-07-19T03:12:27.358963Z"
    },
    "lines_to_next_cell": 1,
    "papermill": {
     "duration": 0.01158,
     "end_time": "2024-07-19T03:12:27.360508",
     "exception": false,
     "start_time": "2024-07-19T03:12:27.348928",
     "status": "completed"
    },
    "tags": []
   },
   "outputs": [],
   "source": [
    "class BinaryTreeNode:\n",
    "    def __init__(self, val=0, left=None, right=None):\n",
    "        self.val = val\n",
    "        self.left = left\n",
    "        self.right = right\n",
    "\n",
    "    def to_list(self):\n",
    "        to_visit = [self]\n",
    "        visited = []\n",
    "        while len(to_visit) > 0:\n",
    "            curr = to_visit.pop(0)\n",
    "            if curr:\n",
    "                to_visit.append(curr.left)\n",
    "                to_visit.append(curr.right)\n",
    "                visited.append(curr.val)\n",
    "            else:\n",
    "                visited.append(curr)\n",
    "\n",
    "        while visited and not visited[-1]:\n",
    "            visited.pop()\n",
    "\n",
    "        return visited\n",
    "\n",
    "    def __str__(self):\n",
    "        return str(self.val)\n",
    "\n",
    "    @staticmethod\n",
    "    def from_array(nums: list[int|None]):\n",
    "        '''Create a Tree from a list of nums. Returns the root node.'''\n",
    "        if len(nums) == 0:\n",
    "            return None\n",
    "        elif len(nums) == 1:\n",
    "            return BinaryTreeNode(nums[0])\n",
    "        else:\n",
    "            forest = [BinaryTreeNode(nums[0])]\n",
    "            parent_idx = -1\n",
    "            for i in range(1, len(nums)):\n",
    "\n",
    "                curr = None\n",
    "                if nums[i] is not None:\n",
    "                    curr = BinaryTreeNode(nums[i])\n",
    "                    forest.append(curr)\n",
    "\n",
    "                if i % 2 == 1:\n",
    "                    parent_idx += 1\n",
    "                    forest[parent_idx].left = curr\n",
    "                else:\n",
    "                    forest[parent_idx].right = curr\n",
    "\n",
    "        return forest[0]"
   ]
  },
  {
   "cell_type": "markdown",
   "id": "6e9c13aa",
   "metadata": {
    "papermill": {
     "duration": 0.002587,
     "end_time": "2024-07-19T03:12:27.365776",
     "exception": false,
     "start_time": "2024-07-19T03:12:27.363189",
     "status": "completed"
    },
    "tags": []
   },
   "source": [
    "#### Helper for Singly Linked lists"
   ]
  },
  {
   "cell_type": "code",
   "execution_count": 3,
   "id": "6abb9392",
   "metadata": {
    "execution": {
     "iopub.execute_input": "2024-07-19T03:12:27.372095Z",
     "iopub.status.busy": "2024-07-19T03:12:27.371665Z",
     "iopub.status.idle": "2024-07-19T03:12:27.375998Z",
     "shell.execute_reply": "2024-07-19T03:12:27.375536Z"
    },
    "lines_to_next_cell": 1,
    "papermill": {
     "duration": 0.008614,
     "end_time": "2024-07-19T03:12:27.377022",
     "exception": false,
     "start_time": "2024-07-19T03:12:27.368408",
     "status": "completed"
    },
    "tags": []
   },
   "outputs": [],
   "source": [
    "class ListNode:\n",
    "    def __init__(self, val=0, next=None):\n",
    "        self.val = val\n",
    "        self.next = next\n",
    "\n",
    "    def __str__(self):\n",
    "        return str(self.val)\n",
    "\n",
    "    @staticmethod\n",
    "    def to_singly_linked_list(nums: list[int]):\n",
    "        root = prev = None\n",
    "        for n in nums:\n",
    "            curr = ListNode(n)\n",
    "            # Init once\n",
    "            if not root:\n",
    "                root = curr\n",
    "            if prev:\n",
    "                prev.next = curr\n",
    "            prev = curr\n",
    "\n",
    "        return root\n",
    "\n",
    "    def to_list(self) -> list[int]:\n",
    "        result = []\n",
    "        curr = self\n",
    "        while curr:\n",
    "            result.append(curr.val)\n",
    "            curr = curr.next\n",
    "        return result"
   ]
  },
  {
   "cell_type": "markdown",
   "id": "4f436676",
   "metadata": {
    "papermill": {
     "duration": 0.002604,
     "end_time": "2024-07-19T03:12:27.382249",
     "exception": false,
     "start_time": "2024-07-19T03:12:27.379645",
     "status": "completed"
    },
    "tags": []
   },
   "source": [
    "Codeforces Practice"
   ]
  },
  {
   "cell_type": "code",
   "execution_count": 4,
   "id": "8f687e9e",
   "metadata": {
    "execution": {
     "iopub.execute_input": "2024-07-19T03:12:27.389360Z",
     "iopub.status.busy": "2024-07-19T03:12:27.388905Z",
     "iopub.status.idle": "2024-07-19T03:12:27.400937Z",
     "shell.execute_reply": "2024-07-19T03:12:27.400491Z"
    },
    "lines_to_next_cell": 1,
    "papermill": {
     "duration": 0.016375,
     "end_time": "2024-07-19T03:12:27.402013",
     "exception": false,
     "start_time": "2024-07-19T03:12:27.385638",
     "status": "completed"
    },
    "tags": []
   },
   "outputs": [],
   "source": [
    "def pair_of_numbers(N: int, nums: list[int]) -> tuple[int, int, list[int]]:\n",
    "    \"\"\"\n",
    "    Starting at index, check how far right you can go. Repeat same step on the leftwards direction.\n",
    "    Combine the left and right to get the actual window that index i can cover (where nums[i] is the gcd and divides all)\n",
    "\n",
    "    Problem occurs where there are duplicates where we skip those numbers since it was already covered in the window. Backward\n",
    "    pass travels in the opp direction and we might end up missing the proper range.\n",
    "\n",
    "    For eg:   2, 3, 1, 1, 3\n",
    "    Forward:  0  0  3  0  0\n",
    "    Backward: 0  0  0  4  0\n",
    "\n",
    "    We could choose to ignore duplicates but that would miss nonoverlapping ranges\n",
    "    We could try merging intervals but it wouldn't be trivial and we would need to merge only cases where the values match (need to lookback the entire length making it N^2)\n",
    "\n",
    "    Simpler approach is to store the duplicates into an array and fill it in when we update i.\n",
    "    \"\"\"\n",
    "\n",
    "    # Forward pass\n",
    "    forward: dict[int, int] = {i: i for i in range(N)}\n",
    "    i = j = 0\n",
    "    match: list[int] = []\n",
    "    while j <= N:\n",
    "        if j < N and nums[j] % nums[i] == 0:\n",
    "            if nums[j] == nums[i]:\n",
    "                match.append(j)\n",
    "            forward[i], j = j, j + 1\n",
    "        else:\n",
    "            for k in match:\n",
    "                forward[k] = forward[i]\n",
    "            i, j, match = j, j + 1, []\n",
    "\n",
    "    # Backward pass\n",
    "    backward: dict[int, int] = {i: i for i in range(N)}\n",
    "    i = j = N - 1\n",
    "    match = []\n",
    "    while j >= -1:\n",
    "        if j >= 0 and nums[j] % nums[i] == 0:\n",
    "            if nums[j] == nums[i]:\n",
    "                match.append(j)\n",
    "            backward[i], j = j, j - 1\n",
    "        else:\n",
    "            for k in match:\n",
    "                backward[k] = backward[i]\n",
    "            i, j, match = j, j - 1, []\n",
    "\n",
    "    # Merge both passes and store to a map seperated by distance\n",
    "    valid_pairs: collections.defaultdict[int, set[int]] = collections.defaultdict(set)\n",
    "    max_: int = 0\n",
    "    for i in range(N):\n",
    "        diff = forward[i] - backward[i]\n",
    "        valid_pairs[diff].add(backward[i] + 1)\n",
    "        max_ = max(max_, diff)\n",
    "\n",
    "    return len(valid_pairs[max_]), max_, sorted(valid_pairs[max_])\n",
    "\n",
    "# Testing the solution\n",
    "assert pair_of_numbers(9, [2,4,3,6,9,8,10,2,4]) == (1, 3, [6])\n",
    "assert pair_of_numbers(5, [4,6,9,3,6]) == (1, 3, [2])\n",
    "assert pair_of_numbers(5, [1,3,5,7,9]) == (1, 4, [1])\n",
    "assert pair_of_numbers(5, [2,3,5,7,11]) == (5, 0, [1,2,3,4,5])\n",
    "assert pair_of_numbers(5, [1,2,3,2,1]) == (1, 4, [1])\n",
    "assert pair_of_numbers(5, [2,4,1,1,2]) == (1, 4, [1])\n",
    "\n",
    "# Good substrings - 271D\n",
    "class Trie:\n",
    "    def __init__(self, end: bool = False) -> None:\n",
    "        self.nodes: dict[str, 'Trie'] = dict()\n",
    "        self.end = end\n",
    "\n",
    "    def __getitem__(self, ch: str) -> 'Trie':\n",
    "        self.nodes[ch] = self.nodes.get(ch, Trie())\n",
    "        return self.nodes[ch]\n",
    "\n",
    "def good_substrings(S: str, good_chars_: str, K: int) -> int:\n",
    "    N, count = len(S), 0\n",
    "    good_chars: set[str] = {chr(ord('a') + i) for i in range(26) if good_chars_[i] == '1'}\n",
    "    root: Trie = Trie()\n",
    "    for i in range(N):\n",
    "        k_, curr = K, root\n",
    "        for j in range(i, N):\n",
    "            if S[j] not in good_chars:\n",
    "                k_ -= 1\n",
    "            if k_ >= 0:\n",
    "                curr = curr[S[j]]\n",
    "                count += not curr.end\n",
    "                curr.end = True\n",
    "            else:\n",
    "                break\n",
    "\n",
    "    return count\n",
    "\n",
    "# Testing the solution\n",
    "assert good_substrings(\"ababab\", \"01000000000000000000000000\", 1) == 5\n",
    "assert good_substrings(\"acbacbacaa\", \"00000000000000000000000000\", 2) == 8"
   ]
  },
  {
   "cell_type": "markdown",
   "id": "711735e2",
   "metadata": {
    "papermill": {
     "duration": 0.002581,
     "end_time": "2024-07-19T03:12:27.407202",
     "exception": false,
     "start_time": "2024-07-19T03:12:27.404621",
     "status": "completed"
    },
    "tags": []
   },
   "source": [
    "LC POTD"
   ]
  },
  {
   "cell_type": "code",
   "execution_count": 5,
   "id": "aec51cad",
   "metadata": {
    "execution": {
     "iopub.execute_input": "2024-07-19T03:12:27.413509Z",
     "iopub.status.busy": "2024-07-19T03:12:27.413078Z",
     "iopub.status.idle": "2024-07-19T03:12:27.418732Z",
     "shell.execute_reply": "2024-07-19T03:12:27.418287Z"
    },
    "lines_to_next_cell": 1,
    "papermill": {
     "duration": 0.009975,
     "end_time": "2024-07-19T03:12:27.419838",
     "exception": false,
     "start_time": "2024-07-19T03:12:27.409863",
     "status": "completed"
    },
    "tags": []
   },
   "outputs": [],
   "source": [
    "# https://leetcode.com/problems/create-binary-tree-from-descriptions/submissions/1321920493/?envType=daily-question&envId=2024-07-15\n",
    "def createBinaryTree(descriptions: list[list[int]]) -> BinaryTreeNode:\n",
    "    \"\"\"Node without parent is the root\"\"\"\n",
    "    # Create the binary tree\n",
    "    nodes_dict: dict[int, BinaryTreeNode] = dict()\n",
    "    parents: set[int] = set()\n",
    "    children: set[int] = set()\n",
    "    for parent, child, direction in descriptions:\n",
    "        p_node, c_node = nodes_dict.get(parent, BinaryTreeNode(parent)), nodes_dict.get(child, BinaryTreeNode(child))\n",
    "        nodes_dict[parent], nodes_dict[child] = p_node, c_node\n",
    "\n",
    "        if direction == 1:\n",
    "            p_node.left = c_node\n",
    "        else:\n",
    "            p_node.right = c_node\n",
    "\n",
    "        if parent not in children:\n",
    "            parents.add(parent)\n",
    "        if child in parents:\n",
    "            parents.remove(child)\n",
    "        children.add(child)\n",
    "\n",
    "    assert len(parents) == 1\n",
    "    return nodes_dict[parents.pop()]\n",
    "\n",
    "# Testing the solution\n",
    "assert createBinaryTree([[20,15,1],[20,17,0],[50,20,1],[50,80,0],[80,19,1]]).to_list() == [50,20,80,15,17,19]\n",
    "assert createBinaryTree([[1,2,1],[2,3,0],[3,4,1]]).to_list() == [1,2,None,None,3,4]"
   ]
  },
  {
   "cell_type": "markdown",
   "id": "c157b54c",
   "metadata": {
    "papermill": {
     "duration": 0.00263,
     "end_time": "2024-07-19T03:12:27.425109",
     "exception": false,
     "start_time": "2024-07-19T03:12:27.422479",
     "status": "completed"
    },
    "tags": []
   },
   "source": [
    "KMP Algorithm"
   ]
  },
  {
   "cell_type": "code",
   "execution_count": 6,
   "id": "3898dc59",
   "metadata": {
    "execution": {
     "iopub.execute_input": "2024-07-19T03:12:27.431556Z",
     "iopub.status.busy": "2024-07-19T03:12:27.431123Z",
     "iopub.status.idle": "2024-07-19T03:12:27.435748Z",
     "shell.execute_reply": "2024-07-19T03:12:27.435303Z"
    },
    "lines_to_next_cell": 1,
    "papermill": {
     "duration": 0.008939,
     "end_time": "2024-07-19T03:12:27.436782",
     "exception": false,
     "start_time": "2024-07-19T03:12:27.427843",
     "status": "completed"
    },
    "tags": []
   },
   "outputs": [],
   "source": [
    "def create_lps_array(pattern: str) -> list[int]:\n",
    "    N = len(pattern)\n",
    "    pi: list[int] = [0] * N\n",
    "    j = 0\n",
    "    for i in range(1, N):\n",
    "        while pattern[j] != pattern[i] and j > 0:\n",
    "            j = pi[j - 1]\n",
    "        if pattern[i] == pattern[j]:\n",
    "            j += 1\n",
    "        pi[i] = j\n",
    "\n",
    "    return pi\n",
    "\n",
    "# Testing the solution\n",
    "assert create_lps_array(\"abcdabc\") == [0, 0, 0, 0, 1, 2, 3]"
   ]
  },
  {
   "cell_type": "markdown",
   "id": "0ee5d9b0",
   "metadata": {
    "papermill": {
     "duration": 0.002613,
     "end_time": "2024-07-19T03:12:27.442010",
     "exception": false,
     "start_time": "2024-07-19T03:12:27.439397",
     "status": "completed"
    },
    "tags": []
   },
   "source": [
    "Codeforces Practice"
   ]
  },
  {
   "cell_type": "code",
   "execution_count": 7,
   "id": "b252c334",
   "metadata": {
    "execution": {
     "iopub.execute_input": "2024-07-19T03:12:27.448599Z",
     "iopub.status.busy": "2024-07-19T03:12:27.448211Z",
     "iopub.status.idle": "2024-07-19T03:12:27.455082Z",
     "shell.execute_reply": "2024-07-19T03:12:27.454637Z"
    },
    "lines_to_next_cell": 1,
    "papermill": {
     "duration": 0.011328,
     "end_time": "2024-07-19T03:12:27.456088",
     "exception": false,
     "start_time": "2024-07-19T03:12:27.444760",
     "status": "completed"
    },
    "tags": []
   },
   "outputs": [],
   "source": [
    "def longest_prefix_suffix_palindome(S: str) -> str:\n",
    "    def KMP(pattern: str) -> list[int]:\n",
    "        pattern_length = len(pattern)\n",
    "        pi: list[int] = [0] * pattern_length\n",
    "        j = 0\n",
    "        for i in range(1, pattern_length):\n",
    "            while pattern[i] != pattern[j] and j > 0:\n",
    "                j = pi[j - 1]\n",
    "            if pattern[i] == pattern[j]:\n",
    "                j += 1\n",
    "            pi[i] = j\n",
    "\n",
    "        return pi\n",
    "\n",
    "    N = len(S)\n",
    "    i, j = 0, N - 1\n",
    "\n",
    "    # Find greatest k such that S[0..k] + S[N - k - 1.. N - 1] is a palindrome\n",
    "    k = 0\n",
    "    for k in range(N // 2):\n",
    "        if S[k] != S[N - k - 1]:\n",
    "            break\n",
    "\n",
    "    # Find longest prefix-suffix of S[k..N-k-1]\n",
    "    middle = S[k: N - k]\n",
    "    lps = middle[:KMP(middle + '#' + middle[::-1])[-1]]\n",
    "\n",
    "    # Find longest prefix-suffix of reversed(S[k..N-k-1])\n",
    "    middle_reversed = middle[::-1]\n",
    "    lps_reversed = middle_reversed[:KMP(middle_reversed + '#' + middle_reversed[::-1])[-1]]\n",
    "\n",
    "    return S[:k] + (lps if len(lps) > len(lps_reversed) else lps_reversed[::-1]) + S[N - k:]\n",
    "\n",
    "# Testing the solution\n",
    "assert len(longest_prefix_suffix_palindome(\"abcdfdcecba\")) == len(\"abcdfdcba\")\n",
    "assert len(longest_prefix_suffix_palindome(\"abbaxyzyx\")) == len(\"xyzyx\")\n",
    "assert len(longest_prefix_suffix_palindome(\"acbba\")) == len(\"abba\")\n",
    "assert len(longest_prefix_suffix_palindome(\"a\")) == len(\"a\")\n",
    "assert len(longest_prefix_suffix_palindome(\"codeforces\")) == len(\"c\")"
   ]
  },
  {
   "cell_type": "markdown",
   "id": "e6f93b0e",
   "metadata": {
    "papermill": {
     "duration": 0.002615,
     "end_time": "2024-07-19T03:12:27.461380",
     "exception": false,
     "start_time": "2024-07-19T03:12:27.458765",
     "status": "completed"
    },
    "tags": []
   },
   "source": [
    "#### LC Practice - Strings - KMP"
   ]
  },
  {
   "cell_type": "code",
   "execution_count": 8,
   "id": "7cdab853",
   "metadata": {
    "execution": {
     "iopub.execute_input": "2024-07-19T03:12:27.467683Z",
     "iopub.status.busy": "2024-07-19T03:12:27.467341Z",
     "iopub.status.idle": "2024-07-19T03:12:27.473372Z",
     "shell.execute_reply": "2024-07-19T03:12:27.472967Z"
    },
    "lines_to_next_cell": 1,
    "papermill": {
     "duration": 0.010431,
     "end_time": "2024-07-19T03:12:27.474422",
     "exception": false,
     "start_time": "2024-07-19T03:12:27.463991",
     "status": "completed"
    },
    "tags": []
   },
   "outputs": [],
   "source": [
    "# LC: https://leetcode.com/problems/find-the-index-of-the-first-occurrence-in-a-string/\n",
    "def strStr(haystack: str, needle: str) -> int:\n",
    "    def create_lps(pattern: str, M: int) -> list[int]:\n",
    "        j = 0\n",
    "        lps = [0] * M\n",
    "        for i in range(1, M):\n",
    "            while pattern[i] != pattern[j] and j > 0:\n",
    "                j = lps[j - 1]\n",
    "            if pattern[i] == pattern[j]:\n",
    "                j += 1\n",
    "            lps[i] = j\n",
    "\n",
    "        return lps\n",
    "\n",
    "    N, M = len(haystack), len(needle)\n",
    "    lps = create_lps(needle, M)\n",
    "    j = 0\n",
    "    for i in range(N):\n",
    "        while haystack[i] != needle[j] and j > 0:\n",
    "            j = lps[j - 1]\n",
    "        if haystack[i] == needle[j]:\n",
    "            j += 1\n",
    "        if j >= M:\n",
    "            return i - j + 1\n",
    "\n",
    "    return -1\n",
    "\n",
    "# Testing the solution\n",
    "assert strStr(\"asabadzabababababaaababaabba\", \"abababab\") == 7"
   ]
  },
  {
   "cell_type": "code",
   "execution_count": 9,
   "id": "5232f86f",
   "metadata": {
    "execution": {
     "iopub.execute_input": "2024-07-19T03:12:27.480764Z",
     "iopub.status.busy": "2024-07-19T03:12:27.480428Z",
     "iopub.status.idle": "2024-07-19T03:12:27.486373Z",
     "shell.execute_reply": "2024-07-19T03:12:27.485920Z"
    },
    "lines_to_next_cell": 1,
    "papermill": {
     "duration": 0.010318,
     "end_time": "2024-07-19T03:12:27.487435",
     "exception": false,
     "start_time": "2024-07-19T03:12:27.477117",
     "status": "completed"
    },
    "tags": []
   },
   "outputs": [],
   "source": [
    "# https://leetcode.com/problems/repeated-substring-pattern/\n",
    "def repeatedSubstringPattern(S: str) -> bool:\n",
    "    def create_lps(pattern: str) -> list[int]:\n",
    "        pattern_length, j = len(pattern), 0\n",
    "        lps: list[int] = [0] * pattern_length\n",
    "        for i in range(1, pattern_length):\n",
    "            while pattern[i] != pattern[j] and j > 0:\n",
    "                j = lps[j - 1]\n",
    "            if pattern[i] == pattern[j]:\n",
    "                j += 1\n",
    "            lps[i] = j\n",
    "\n",
    "        return lps\n",
    "\n",
    "    # Create LPS, find the longest repeating pattern length\n",
    "    # Ensure that the pattern repeats itself\n",
    "    N = len(S)\n",
    "    lps = create_lps(S)\n",
    "    repeat_str_length = N - lps[-1]\n",
    "\n",
    "    for i in range(N):\n",
    "        if S[i % repeat_str_length] != S[i]:\n",
    "            return False\n",
    "    return (repeat_str_length < N) and (N % repeat_str_length == 0)\n",
    "\n",
    "# Testing the solution\n",
    "assert repeatedSubstringPattern(\"acbaaacbaa\") == repeatedSubstringPattern(\"aaabbaaabb\") == True\n",
    "assert repeatedSubstringPattern(\"abcabcabc\") == repeatedSubstringPattern(\"abaababaab\") == True\n",
    "assert repeatedSubstringPattern(\"abcabcabz\") == repeatedSubstringPattern(\"aba\") == False"
   ]
  },
  {
   "cell_type": "code",
   "execution_count": 10,
   "id": "301b862f",
   "metadata": {
    "execution": {
     "iopub.execute_input": "2024-07-19T03:12:27.493742Z",
     "iopub.status.busy": "2024-07-19T03:12:27.493300Z",
     "iopub.status.idle": "2024-07-19T03:12:27.501597Z",
     "shell.execute_reply": "2024-07-19T03:12:27.501054Z"
    },
    "lines_to_next_cell": 1,
    "papermill": {
     "duration": 0.012603,
     "end_time": "2024-07-19T03:12:27.502684",
     "exception": false,
     "start_time": "2024-07-19T03:12:27.490081",
     "status": "completed"
    },
    "tags": []
   },
   "outputs": [],
   "source": [
    "# TLE :(\n",
    "def watto_mechanism_trie(input_patterns: list[str], search_patterns: list[str]) -> list[bool]:\n",
    "    class TrieNode:\n",
    "        def __init__(self, end: bool = False):\n",
    "            self.nodes: collections.defaultdict[str, 'TrieNode'] = collections.defaultdict(TrieNode)\n",
    "            self.end: bool = end\n",
    "\n",
    "        def __getitem__(self, ch: str) -> 'TrieNode':\n",
    "            return self.nodes[ch]\n",
    "\n",
    "    def search(string: str) -> bool:\n",
    "        N = len(string)\n",
    "        stack: list[tuple[TrieNode, int, bool]] = [(ROOT, 0, True)]\n",
    "        while stack:\n",
    "            curr, idx, editable = stack.pop()\n",
    "            if idx == N:\n",
    "                if not editable and curr.end:\n",
    "                    return True\n",
    "            else:\n",
    "                for next_ch in ['a', 'b', 'c']:\n",
    "                    if next_ch in curr.nodes:\n",
    "                        if next_ch == string[idx]:\n",
    "                            stack.append((curr[next_ch], idx + 1, editable))\n",
    "                        elif next_ch != string[idx] and editable:\n",
    "                            stack.append((curr[next_ch], idx + 1, False))\n",
    "        return False\n",
    "\n",
    "    # Convert the input patterns into a trie data strucute\n",
    "    ROOT = TrieNode()\n",
    "    for inp in input_patterns:\n",
    "        curr = ROOT\n",
    "        for ch in inp:\n",
    "            curr = curr[ch]\n",
    "        curr.end = True\n",
    "\n",
    "    results: list[bool] = []\n",
    "    for search_pattern in search_patterns:\n",
    "        results.append(search(search_pattern))\n",
    "\n",
    "    return results\n",
    "\n",
    "# Testing the solution\n",
    "assert watto_mechanism_trie([\"aaaaa\", \"acacaca\"], [\"aabaa\", \"ccacacc\", \"caaac\"]) == [True, False, False]\n",
    "assert watto_mechanism_trie([\"acbacbacb\"], [\"cbacbacb\", \"acbacbac\", \"aacbacbacb\", \"acbacbacbb\", \"acbaabacb\"]) == [False, False, False, False, True]\n",
    "assert watto_mechanism_trie([\"ab\", \"cacab\", \"cbabc\", \"acc\", \"cacab\"], [\"abc\", \"aa\", \"acbca\", \"cb\"]) == [True, True, False, True]"
   ]
  },
  {
   "cell_type": "code",
   "execution_count": 11,
   "id": "f6731b9c",
   "metadata": {
    "execution": {
     "iopub.execute_input": "2024-07-19T03:12:27.509072Z",
     "iopub.status.busy": "2024-07-19T03:12:27.508628Z",
     "iopub.status.idle": "2024-07-19T03:12:27.515823Z",
     "shell.execute_reply": "2024-07-19T03:12:27.515384Z"
    },
    "lines_to_next_cell": 1,
    "papermill": {
     "duration": 0.011539,
     "end_time": "2024-07-19T03:12:27.516850",
     "exception": false,
     "start_time": "2024-07-19T03:12:27.505311",
     "status": "completed"
    },
    "tags": []
   },
   "outputs": [],
   "source": [
    "def watto_mechanism(input_patterns: list[str], search_patterns: list[str]) -> list[bool]:\n",
    "    \"\"\"\n",
    "    Idea from editorial:\n",
    "        1. Compute and store the polynomial rolling hashes for each of the input_patterns\n",
    "        2. For each search string, compute possibilities and check if they exist in the hash\n",
    "    \"\"\"\n",
    "\n",
    "    # Constants for polynomial rolling hash\n",
    "    P, M = 257, 2 ** 61 + 7\n",
    "\n",
    "    def poly_hash(string: str) -> int:\n",
    "        nonlocal P, M\n",
    "        N, hash_val, p_ = len(string), 0, 1\n",
    "        for i in range(N):\n",
    "            hash_val = (hash_val + (ord(string[i]) * p_)) % M\n",
    "            p_ = (p_ * P) % M\n",
    "        return hash_val\n",
    "\n",
    "    def search(string: str) -> bool:\n",
    "        nonlocal P, M\n",
    "        N, hash_val, p_ = len(string), poly_hash(string), 1\n",
    "        for i in range(N):\n",
    "            for ch in ('a', 'b', 'c'):\n",
    "                modified_hash = (hash_val + (ord(ch) - ord(string[i])) * p_) % M\n",
    "                if ch != string[i] and modified_hash in hashes:\n",
    "                    return True\n",
    "            p_ = (p_ * P) % M\n",
    "        return False\n",
    "\n",
    "    # Store all the input strs as poly hashes\n",
    "    hashes: set[int] = set()\n",
    "    for inp in input_patterns:\n",
    "        hashes.add(poly_hash(inp))\n",
    "\n",
    "    # Iterate through the search strings, compute all hashes for all combinations in O(1) time\n",
    "    results: list[bool] = []\n",
    "    for inp in search_patterns:\n",
    "        results.append(search(inp))\n",
    "\n",
    "    return results\n",
    "\n",
    "# Testing the solution\n",
    "assert watto_mechanism([\"aaaaa\", \"acacaca\"], [\"aabaa\", \"ccacacc\", \"caaac\"]) == [True, False, False]\n",
    "assert watto_mechanism([\"acbacbacb\"], [\"cbacbacb\", \"acbacbac\", \"aacbacbacb\", \"acbacbacbb\", \"acbaabacb\"]) == [False, False, False, False, True]\n",
    "assert watto_mechanism([\"ab\", \"cacab\", \"cbabc\", \"acc\", \"cacab\"], [\"abc\", \"aa\", \"acbca\", \"cb\"]) == [True, True, False, True]"
   ]
  },
  {
   "cell_type": "markdown",
   "id": "45e647a3",
   "metadata": {
    "papermill": {
     "duration": 0.002641,
     "end_time": "2024-07-19T03:12:27.522166",
     "exception": false,
     "start_time": "2024-07-19T03:12:27.519525",
     "status": "completed"
    },
    "tags": []
   },
   "source": [
    "Codeforces Practice"
   ]
  },
  {
   "cell_type": "code",
   "execution_count": 12,
   "id": "20dc1c55",
   "metadata": {
    "execution": {
     "iopub.execute_input": "2024-07-19T03:12:27.528205Z",
     "iopub.status.busy": "2024-07-19T03:12:27.528008Z",
     "iopub.status.idle": "2024-07-19T03:12:27.533451Z",
     "shell.execute_reply": "2024-07-19T03:12:27.532925Z"
    },
    "lines_to_next_cell": 1,
    "papermill": {
     "duration": 0.009732,
     "end_time": "2024-07-19T03:12:27.534501",
     "exception": false,
     "start_time": "2024-07-19T03:12:27.524769",
     "status": "completed"
    },
    "tags": []
   },
   "outputs": [],
   "source": [
    "def palindrome_degree(string: str) -> int:\n",
    "    \"\"\"\n",
    "    Iterate through string, check if current substr is a palindrome.\n",
    "    If it is, degree equals degree[substr // 2] + 1.\n",
    "    Assume degree[substr // 2] if not found as 0.\n",
    "    Return sum of all degrees.\n",
    "\n",
    "    Checking if substr is a palindrome, check if prefix_hash hash(S[i..j]) == rev_prefix_hash hash(S[j..i])\n",
    "\n",
    "    PREFIX_HASH = sum(ord(s[i]) * p ** i)\n",
    "        abc: a + bP + cP^2\n",
    "\n",
    "    REV_PREFIX_HASH is a little tricky but when running in a loop it is pretty simple\n",
    "        abc: (rev_prefix_hash * P) + ord(s[i])\n",
    "            a -> a\n",
    "            b -> aP + b\n",
    "            c -> aP^2 + bP + c\n",
    "    \"\"\"\n",
    "    # Paramaters for rolling hash\n",
    "    P, M = 257, 2**61 - 1\n",
    "\n",
    "    N = len(string)\n",
    "    degree: list[int] = [0 for i in range(N)]\n",
    "    prefix_hash = rev_prefix_hash = ord(string[0])\n",
    "    total_degree = degree[0] = 1\n",
    "    p = P\n",
    "    for i in range(1, N):\n",
    "        prefix_hash, p = (prefix_hash + ord(string[i]) * p) % M, (P * p) % M\n",
    "        rev_prefix_hash = (rev_prefix_hash * P + ord(string[i])) % M\n",
    "        if prefix_hash == rev_prefix_hash:\n",
    "            degree[i] = degree[(i - 1) // 2] + 1\n",
    "            total_degree += degree[i]\n",
    "\n",
    "    return total_degree\n",
    "\n",
    "# Testing the solution\n",
    "assert palindrome_degree(\"a2A\") == 1\n",
    "assert palindrome_degree(\"abacaba\") == 6"
   ]
  },
  {
   "cell_type": "code",
   "execution_count": null,
   "id": "bd066408",
   "metadata": {},
   "outputs": [],
   "source": [
    "def spy_syndrome2(secret: str, words: list[str]) -> str:\n",
    "    # Parameters for rolling Hash\n",
    "    P, M = 257, 10**9 + 7\n",
    "\n",
    "    def poly_hash(string: str) -> int:\n",
    "        nonlocal P, M\n",
    "        word_length, hash_value, p = len(string), 0, 1\n",
    "        for i in range(word_length):\n",
    "            hash_value, p = (hash_value + p * ord(string[i].lower())) % M, (p * P) % M\n",
    "\n",
    "        return hash_value\n",
    "\n",
    "    # Store the list of words as hashes\n",
    "    hashes: dict[int, str] = dict()\n",
    "    for word in words:\n",
    "        hashes[poly_hash(word)] = word\n",
    "\n",
    "    # Compute the rev prefix hash as we iterate through the secret, if\n",
    "    # match found reset and add to list of words found, note that we\n",
    "    # might need to backtrack which is handled by the stack code here!\n",
    "    result: list[str] = []\n",
    "    secret_length = len(secret)\n",
    "    stack: list[tuple[int, int]] = [(0, 0)]\n",
    "    while stack:\n",
    "        idx, hash_value = stack.pop()\n",
    "        if idx == secret_length:\n",
    "            if hash_value == 0:\n",
    "                break\n",
    "            else:\n",
    "                result.pop()\n",
    "        else:\n",
    "            hash_value = (hash_value * P + ord(secret[idx].lower())) % M\n",
    "            stack.append((idx + 1, hash_value))\n",
    "            if hash_value in hashes:\n",
    "                result.append(hashes[hash_value])\n",
    "                stack.append((idx + 1, 0))\n",
    "\n",
    "    return ' '.join(result)\n",
    "\n",
    "# Testing the solution\n",
    "assert spy_syndrome2(\"ariksihsidlihcdnaehsetahgnisol\", [\"Kira\", \"hates\", \"is\", \"he\", \"losing\", \"death\", \"childish\", \"L\", \"and\", \"Note\"]) == \"Kira is childish and he hates losing\"\n",
    "assert spy_syndrome2(\"iherehtolleh\", [\"HI\", \"Ho\", \"there\", \"HeLLo\", \"hello\"]).lower() == \"HI there HeLLo\".lower()\n",
    "assert spy_syndrome2(\"ababaaba\", [\"aba\", \"ababa\"]) == \"ababa aba\""
   ]
  }
 ],
 "metadata": {
  "kernelspec": {
   "display_name": "Python 3 (ipykernel)",
   "language": "python",
   "name": "python3"
  },
  "language_info": {
   "codemirror_mode": {
    "name": "ipython",
    "version": 3
   },
   "file_extension": ".py",
   "mimetype": "text/x-python",
   "name": "python",
   "nbconvert_exporter": "python",
   "pygments_lexer": "ipython3",
   "version": "3.11.9"
  },
  "papermill": {
   "default_parameters": {},
   "duration": 1.90704,
   "end_time": "2024-07-19T03:12:27.752406",
   "environment_variables": {},
   "exception": null,
   "input_path": "practice/006.ipynb",
   "output_path": "practice/006.ipynb",
   "parameters": {},
   "start_time": "2024-07-19T03:12:25.845366",
   "version": "2.6.0"
  }
 },
 "nbformat": 4,
 "nbformat_minor": 5
}
