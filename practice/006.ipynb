{
 "cells": [
  {
   "cell_type": "code",
   "execution_count": 1,
   "id": "1dbda701",
   "metadata": {
    "execution": {
     "iopub.execute_input": "2024-07-21T14:10:00.464955Z",
     "iopub.status.busy": "2024-07-21T14:10:00.464522Z",
     "iopub.status.idle": "2024-07-21T14:10:00.811567Z",
     "shell.execute_reply": "2024-07-21T14:10:00.810981Z"
    },
    "papermill": {
     "duration": 0.355284,
     "end_time": "2024-07-21T14:10:00.813151",
     "exception": false,
     "start_time": "2024-07-21T14:10:00.457867",
     "status": "completed"
    },
    "tags": []
   },
   "outputs": [],
   "source": [
    "from typing import List, Optional, Generator\n",
    "import pandas as pd\n",
    "import numpy as np\n",
    "import sqlite3\n",
    "import re\n",
    "import io\n",
    "import math\n",
    "import collections\n",
    "import itertools\n",
    "import functools\n",
    "import random\n",
    "import string\n",
    "import tqdm\n",
    "import bisect\n",
    "import heapq\n",
    "\n",
    "conn = sqlite3.connect(\":memory:\")\n",
    "\n",
    "def regexp(expr, item):\n",
    "    reg = re.compile(expr)\n",
    "    return reg.search(item) is not None\n",
    "\n",
    "def read_lc_df(s: str, dtypes: dict[str, str]=dict()) -> pd.DataFrame:\n",
    "    temp = pd.read_csv(io.StringIO(s), sep=\"|\", skiprows=2)\n",
    "    temp = temp.iloc[1:-1, 1:-1]\n",
    "    temp.columns = temp.columns.map(str.strip)\n",
    "    temp = temp.map(lambda x: x if type(x) != str else None if x.strip() == 'null' else x.strip())\n",
    "    temp = temp.astype(dtypes)\n",
    "    return temp\n",
    "\n",
    "conn.create_function(\"REGEXP\", 2, regexp)"
   ]
  },
  {
   "cell_type": "markdown",
   "id": "a161421c",
   "metadata": {
    "papermill": {
     "duration": 0.004838,
     "end_time": "2024-07-21T14:10:00.823155",
     "exception": false,
     "start_time": "2024-07-21T14:10:00.818317",
     "status": "completed"
    },
    "tags": []
   },
   "source": [
    "#### Helper for Binary tree problems"
   ]
  },
  {
   "cell_type": "code",
   "execution_count": 2,
   "id": "07be0a7b",
   "metadata": {
    "execution": {
     "iopub.execute_input": "2024-07-21T14:10:00.834557Z",
     "iopub.status.busy": "2024-07-21T14:10:00.834109Z",
     "iopub.status.idle": "2024-07-21T14:10:00.841493Z",
     "shell.execute_reply": "2024-07-21T14:10:00.841036Z"
    },
    "lines_to_next_cell": 1,
    "papermill": {
     "duration": 0.013956,
     "end_time": "2024-07-21T14:10:00.842531",
     "exception": false,
     "start_time": "2024-07-21T14:10:00.828575",
     "status": "completed"
    },
    "tags": []
   },
   "outputs": [],
   "source": [
    "class BinaryTreeNode:\n",
    "    def __init__(self, val=0, left=None, right=None):\n",
    "        self.val = val\n",
    "        self.left = left\n",
    "        self.right = right\n",
    "\n",
    "    def to_list(self):\n",
    "        to_visit = [self]\n",
    "        visited = []\n",
    "        while len(to_visit) > 0:\n",
    "            curr = to_visit.pop(0)\n",
    "            if curr:\n",
    "                to_visit.append(curr.left)\n",
    "                to_visit.append(curr.right)\n",
    "                visited.append(curr.val)\n",
    "            else:\n",
    "                visited.append(curr)\n",
    "\n",
    "        while visited and not visited[-1]:\n",
    "            visited.pop()\n",
    "\n",
    "        return visited\n",
    "\n",
    "    def __str__(self):\n",
    "        return str(self.val)\n",
    "\n",
    "    @staticmethod\n",
    "    def from_array(nums: list[int|None]):\n",
    "        '''Create a Tree from a list of nums. Returns the root node.'''\n",
    "        if len(nums) == 0:\n",
    "            return None\n",
    "        elif len(nums) == 1:\n",
    "            return BinaryTreeNode(nums[0])\n",
    "        else:\n",
    "            forest = [BinaryTreeNode(nums[0])]\n",
    "            parent_idx = -1\n",
    "            for i in range(1, len(nums)):\n",
    "\n",
    "                curr = None\n",
    "                if nums[i] is not None:\n",
    "                    curr = BinaryTreeNode(nums[i])\n",
    "                    forest.append(curr)\n",
    "\n",
    "                if i % 2 == 1:\n",
    "                    parent_idx += 1\n",
    "                    forest[parent_idx].left = curr\n",
    "                else:\n",
    "                    forest[parent_idx].right = curr\n",
    "\n",
    "        return forest[0]"
   ]
  },
  {
   "cell_type": "markdown",
   "id": "6e9c13aa",
   "metadata": {
    "papermill": {
     "duration": 0.004609,
     "end_time": "2024-07-21T14:10:00.851926",
     "exception": false,
     "start_time": "2024-07-21T14:10:00.847317",
     "status": "completed"
    },
    "tags": []
   },
   "source": [
    "#### Helper for Singly Linked lists"
   ]
  },
  {
   "cell_type": "code",
   "execution_count": 3,
   "id": "6abb9392",
   "metadata": {
    "execution": {
     "iopub.execute_input": "2024-07-21T14:10:00.862487Z",
     "iopub.status.busy": "2024-07-21T14:10:00.862111Z",
     "iopub.status.idle": "2024-07-21T14:10:00.866824Z",
     "shell.execute_reply": "2024-07-21T14:10:00.866276Z"
    },
    "lines_to_next_cell": 1,
    "papermill": {
     "duration": 0.011377,
     "end_time": "2024-07-21T14:10:00.867990",
     "exception": false,
     "start_time": "2024-07-21T14:10:00.856613",
     "status": "completed"
    },
    "tags": []
   },
   "outputs": [],
   "source": [
    "class ListNode:\n",
    "    def __init__(self, val=0, next=None):\n",
    "        self.val = val\n",
    "        self.next = next\n",
    "\n",
    "    def __str__(self):\n",
    "        return str(self.val)\n",
    "\n",
    "    @staticmethod\n",
    "    def to_singly_linked_list(nums: list[int]):\n",
    "        root = prev = None\n",
    "        for n in nums:\n",
    "            curr = ListNode(n)\n",
    "            # Init once\n",
    "            if not root:\n",
    "                root = curr\n",
    "            if prev:\n",
    "                prev.next = curr\n",
    "            prev = curr\n",
    "\n",
    "        return root\n",
    "\n",
    "    def to_list(self) -> list[int]:\n",
    "        result = []\n",
    "        curr = self\n",
    "        while curr:\n",
    "            result.append(curr.val)\n",
    "            curr = curr.next\n",
    "        return result"
   ]
  },
  {
   "cell_type": "markdown",
   "id": "4f436676",
   "metadata": {
    "papermill": {
     "duration": 0.00468,
     "end_time": "2024-07-21T14:10:00.877445",
     "exception": false,
     "start_time": "2024-07-21T14:10:00.872765",
     "status": "completed"
    },
    "tags": []
   },
   "source": [
    "Codeforces Practice"
   ]
  },
  {
   "cell_type": "code",
   "execution_count": 4,
   "id": "8f687e9e",
   "metadata": {
    "execution": {
     "iopub.execute_input": "2024-07-21T14:10:00.888261Z",
     "iopub.status.busy": "2024-07-21T14:10:00.887755Z",
     "iopub.status.idle": "2024-07-21T14:10:00.900665Z",
     "shell.execute_reply": "2024-07-21T14:10:00.900207Z"
    },
    "lines_to_next_cell": 1,
    "papermill": {
     "duration": 0.019581,
     "end_time": "2024-07-21T14:10:00.901803",
     "exception": false,
     "start_time": "2024-07-21T14:10:00.882222",
     "status": "completed"
    },
    "tags": []
   },
   "outputs": [],
   "source": [
    "def pair_of_numbers(N: int, nums: list[int]) -> tuple[int, int, list[int]]:\n",
    "    \"\"\"\n",
    "    Starting at index, check how far right you can go. Repeat same step on the leftwards direction.\n",
    "    Combine the left and right to get the actual window that index i can cover (where nums[i] is the gcd and divides all)\n",
    "\n",
    "    Problem occurs where there are duplicates where we skip those numbers since it was already covered in the window. Backward\n",
    "    pass travels in the opp direction and we might end up missing the proper range.\n",
    "\n",
    "    For eg:   2, 3, 1, 1, 3\n",
    "    Forward:  0  0  3  0  0\n",
    "    Backward: 0  0  0  4  0\n",
    "\n",
    "    We could choose to ignore duplicates but that would miss nonoverlapping ranges\n",
    "    We could try merging intervals but it wouldn't be trivial and we would need to merge only cases where the values match (need to lookback the entire length making it N^2)\n",
    "\n",
    "    Simpler approach is to store the duplicates into an array and fill it in when we update i.\n",
    "    \"\"\"\n",
    "\n",
    "    # Forward pass\n",
    "    forward: dict[int, int] = {i: i for i in range(N)}\n",
    "    i = j = 0\n",
    "    match: list[int] = []\n",
    "    while j <= N:\n",
    "        if j < N and nums[j] % nums[i] == 0:\n",
    "            if nums[j] == nums[i]:\n",
    "                match.append(j)\n",
    "            forward[i], j = j, j + 1\n",
    "        else:\n",
    "            for k in match:\n",
    "                forward[k] = forward[i]\n",
    "            i, j, match = j, j + 1, []\n",
    "\n",
    "    # Backward pass\n",
    "    backward: dict[int, int] = {i: i for i in range(N)}\n",
    "    i = j = N - 1\n",
    "    match = []\n",
    "    while j >= -1:\n",
    "        if j >= 0 and nums[j] % nums[i] == 0:\n",
    "            if nums[j] == nums[i]:\n",
    "                match.append(j)\n",
    "            backward[i], j = j, j - 1\n",
    "        else:\n",
    "            for k in match:\n",
    "                backward[k] = backward[i]\n",
    "            i, j, match = j, j - 1, []\n",
    "\n",
    "    # Merge both passes and store to a map seperated by distance\n",
    "    valid_pairs: collections.defaultdict[int, set[int]] = collections.defaultdict(set)\n",
    "    max_: int = 0\n",
    "    for i in range(N):\n",
    "        diff = forward[i] - backward[i]\n",
    "        valid_pairs[diff].add(backward[i] + 1)\n",
    "        max_ = max(max_, diff)\n",
    "\n",
    "    return len(valid_pairs[max_]), max_, sorted(valid_pairs[max_])\n",
    "\n",
    "# Testing the solution\n",
    "assert pair_of_numbers(9, [2,4,3,6,9,8,10,2,4]) == (1, 3, [6])\n",
    "assert pair_of_numbers(5, [4,6,9,3,6]) == (1, 3, [2])\n",
    "assert pair_of_numbers(5, [1,3,5,7,9]) == (1, 4, [1])\n",
    "assert pair_of_numbers(5, [2,3,5,7,11]) == (5, 0, [1,2,3,4,5])\n",
    "assert pair_of_numbers(5, [1,2,3,2,1]) == (1, 4, [1])\n",
    "assert pair_of_numbers(5, [2,4,1,1,2]) == (1, 4, [1])\n",
    "\n",
    "# Good substrings - 271D\n",
    "class Trie:\n",
    "    def __init__(self, end: bool = False) -> None:\n",
    "        self.nodes: dict[str, 'Trie'] = dict()\n",
    "        self.end = end\n",
    "\n",
    "    def __getitem__(self, ch: str) -> 'Trie':\n",
    "        self.nodes[ch] = self.nodes.get(ch, Trie())\n",
    "        return self.nodes[ch]\n",
    "\n",
    "def good_substrings(S: str, good_chars_: str, K: int) -> int:\n",
    "    N, count = len(S), 0\n",
    "    good_chars: set[str] = {chr(ord('a') + i) for i in range(26) if good_chars_[i] == '1'}\n",
    "    root: Trie = Trie()\n",
    "    for i in range(N):\n",
    "        k_, curr = K, root\n",
    "        for j in range(i, N):\n",
    "            if S[j] not in good_chars:\n",
    "                k_ -= 1\n",
    "            if k_ >= 0:\n",
    "                curr = curr[S[j]]\n",
    "                count += not curr.end\n",
    "                curr.end = True\n",
    "            else:\n",
    "                break\n",
    "\n",
    "    return count\n",
    "\n",
    "# Testing the solution\n",
    "assert good_substrings(\"ababab\", \"01000000000000000000000000\", 1) == 5\n",
    "assert good_substrings(\"acbacbacaa\", \"00000000000000000000000000\", 2) == 8"
   ]
  },
  {
   "cell_type": "markdown",
   "id": "711735e2",
   "metadata": {
    "papermill": {
     "duration": 0.00461,
     "end_time": "2024-07-21T14:10:00.911159",
     "exception": false,
     "start_time": "2024-07-21T14:10:00.906549",
     "status": "completed"
    },
    "tags": []
   },
   "source": [
    "LC POTD"
   ]
  },
  {
   "cell_type": "code",
   "execution_count": 5,
   "id": "aec51cad",
   "metadata": {
    "execution": {
     "iopub.execute_input": "2024-07-21T14:10:00.921668Z",
     "iopub.status.busy": "2024-07-21T14:10:00.921193Z",
     "iopub.status.idle": "2024-07-21T14:10:00.927185Z",
     "shell.execute_reply": "2024-07-21T14:10:00.926623Z"
    },
    "lines_to_next_cell": 1,
    "papermill": {
     "duration": 0.012537,
     "end_time": "2024-07-21T14:10:00.928276",
     "exception": false,
     "start_time": "2024-07-21T14:10:00.915739",
     "status": "completed"
    },
    "tags": []
   },
   "outputs": [],
   "source": [
    "# https://leetcode.com/problems/create-binary-tree-from-descriptions/submissions/1321920493/?envType=daily-question&envId=2024-07-15\n",
    "def createBinaryTree(descriptions: list[list[int]]) -> BinaryTreeNode:\n",
    "    \"\"\"Node without parent is the root\"\"\"\n",
    "    # Create the binary tree\n",
    "    nodes_dict: dict[int, BinaryTreeNode] = dict()\n",
    "    parents: set[int] = set()\n",
    "    children: set[int] = set()\n",
    "    for parent, child, direction in descriptions:\n",
    "        p_node, c_node = nodes_dict.get(parent, BinaryTreeNode(parent)), nodes_dict.get(child, BinaryTreeNode(child))\n",
    "        nodes_dict[parent], nodes_dict[child] = p_node, c_node\n",
    "\n",
    "        if direction == 1:\n",
    "            p_node.left = c_node\n",
    "        else:\n",
    "            p_node.right = c_node\n",
    "\n",
    "        if parent not in children:\n",
    "            parents.add(parent)\n",
    "        if child in parents:\n",
    "            parents.remove(child)\n",
    "        children.add(child)\n",
    "\n",
    "    assert len(parents) == 1\n",
    "    return nodes_dict[parents.pop()]\n",
    "\n",
    "# Testing the solution\n",
    "assert createBinaryTree([[20,15,1],[20,17,0],[50,20,1],[50,80,0],[80,19,1]]).to_list() == [50,20,80,15,17,19]\n",
    "assert createBinaryTree([[1,2,1],[2,3,0],[3,4,1]]).to_list() == [1,2,None,None,3,4]"
   ]
  },
  {
   "cell_type": "markdown",
   "id": "c157b54c",
   "metadata": {
    "papermill": {
     "duration": 0.004715,
     "end_time": "2024-07-21T14:10:00.937924",
     "exception": false,
     "start_time": "2024-07-21T14:10:00.933209",
     "status": "completed"
    },
    "tags": []
   },
   "source": [
    "KMP Algorithm"
   ]
  },
  {
   "cell_type": "code",
   "execution_count": 6,
   "id": "3898dc59",
   "metadata": {
    "execution": {
     "iopub.execute_input": "2024-07-21T14:10:00.948402Z",
     "iopub.status.busy": "2024-07-21T14:10:00.947917Z",
     "iopub.status.idle": "2024-07-21T14:10:00.952422Z",
     "shell.execute_reply": "2024-07-21T14:10:00.951863Z"
    },
    "lines_to_next_cell": 1,
    "papermill": {
     "duration": 0.011112,
     "end_time": "2024-07-21T14:10:00.953624",
     "exception": false,
     "start_time": "2024-07-21T14:10:00.942512",
     "status": "completed"
    },
    "tags": []
   },
   "outputs": [],
   "source": [
    "def create_lps_array(pattern: str) -> list[int]:\n",
    "    N = len(pattern)\n",
    "    pi: list[int] = [0] * N\n",
    "    j = 0\n",
    "    for i in range(1, N):\n",
    "        while pattern[j] != pattern[i] and j > 0:\n",
    "            j = pi[j - 1]\n",
    "        if pattern[i] == pattern[j]:\n",
    "            j += 1\n",
    "        pi[i] = j\n",
    "\n",
    "    return pi\n",
    "\n",
    "# Testing the solution\n",
    "assert create_lps_array(\"abcdabc\") == [0, 0, 0, 0, 1, 2, 3]"
   ]
  },
  {
   "cell_type": "markdown",
   "id": "0ee5d9b0",
   "metadata": {
    "papermill": {
     "duration": 0.004684,
     "end_time": "2024-07-21T14:10:00.963037",
     "exception": false,
     "start_time": "2024-07-21T14:10:00.958353",
     "status": "completed"
    },
    "tags": []
   },
   "source": [
    "Codeforces Practice"
   ]
  },
  {
   "cell_type": "code",
   "execution_count": 7,
   "id": "b252c334",
   "metadata": {
    "execution": {
     "iopub.execute_input": "2024-07-21T14:10:00.973628Z",
     "iopub.status.busy": "2024-07-21T14:10:00.973125Z",
     "iopub.status.idle": "2024-07-21T14:10:00.980286Z",
     "shell.execute_reply": "2024-07-21T14:10:00.979765Z"
    },
    "lines_to_next_cell": 1,
    "papermill": {
     "duration": 0.01384,
     "end_time": "2024-07-21T14:10:00.981441",
     "exception": false,
     "start_time": "2024-07-21T14:10:00.967601",
     "status": "completed"
    },
    "tags": []
   },
   "outputs": [],
   "source": [
    "def longest_prefix_suffix_palindome(S: str) -> str:\n",
    "    def KMP(pattern: str) -> list[int]:\n",
    "        pattern_length = len(pattern)\n",
    "        pi: list[int] = [0] * pattern_length\n",
    "        j = 0\n",
    "        for i in range(1, pattern_length):\n",
    "            while pattern[i] != pattern[j] and j > 0:\n",
    "                j = pi[j - 1]\n",
    "            if pattern[i] == pattern[j]:\n",
    "                j += 1\n",
    "            pi[i] = j\n",
    "\n",
    "        return pi\n",
    "\n",
    "    N = len(S)\n",
    "    i, j = 0, N - 1\n",
    "\n",
    "    # Find greatest k such that S[0..k] + S[N - k - 1.. N - 1] is a palindrome\n",
    "    k = 0\n",
    "    for k in range(N // 2):\n",
    "        if S[k] != S[N - k - 1]:\n",
    "            break\n",
    "\n",
    "    # Find longest prefix-suffix of S[k..N-k-1]\n",
    "    middle = S[k: N - k]\n",
    "    lps = middle[:KMP(middle + '#' + middle[::-1])[-1]]\n",
    "\n",
    "    # Find longest prefix-suffix of reversed(S[k..N-k-1])\n",
    "    middle_reversed = middle[::-1]\n",
    "    lps_reversed = middle_reversed[:KMP(middle_reversed + '#' + middle_reversed[::-1])[-1]]\n",
    "\n",
    "    return S[:k] + (lps if len(lps) > len(lps_reversed) else lps_reversed[::-1]) + S[N - k:]\n",
    "\n",
    "# Testing the solution\n",
    "assert len(longest_prefix_suffix_palindome(\"abcdfdcecba\")) == len(\"abcdfdcba\")\n",
    "assert len(longest_prefix_suffix_palindome(\"abbaxyzyx\")) == len(\"xyzyx\")\n",
    "assert len(longest_prefix_suffix_palindome(\"acbba\")) == len(\"abba\")\n",
    "assert len(longest_prefix_suffix_palindome(\"a\")) == len(\"a\")\n",
    "assert len(longest_prefix_suffix_palindome(\"codeforces\")) == len(\"c\")"
   ]
  },
  {
   "cell_type": "markdown",
   "id": "e6f93b0e",
   "metadata": {
    "papermill": {
     "duration": 0.004682,
     "end_time": "2024-07-21T14:10:00.991116",
     "exception": false,
     "start_time": "2024-07-21T14:10:00.986434",
     "status": "completed"
    },
    "tags": []
   },
   "source": [
    "#### LC Practice - Strings - KMP"
   ]
  },
  {
   "cell_type": "code",
   "execution_count": 8,
   "id": "7cdab853",
   "metadata": {
    "execution": {
     "iopub.execute_input": "2024-07-21T14:10:01.001784Z",
     "iopub.status.busy": "2024-07-21T14:10:01.001411Z",
     "iopub.status.idle": "2024-07-21T14:10:01.007385Z",
     "shell.execute_reply": "2024-07-21T14:10:01.006825Z"
    },
    "lines_to_next_cell": 1,
    "papermill": {
     "duration": 0.012756,
     "end_time": "2024-07-21T14:10:01.008500",
     "exception": false,
     "start_time": "2024-07-21T14:10:00.995744",
     "status": "completed"
    },
    "tags": []
   },
   "outputs": [],
   "source": [
    "# LC: https://leetcode.com/problems/find-the-index-of-the-first-occurrence-in-a-string/\n",
    "def strStr(haystack: str, needle: str) -> int:\n",
    "    def create_lps(pattern: str, M: int) -> list[int]:\n",
    "        j = 0\n",
    "        lps = [0] * M\n",
    "        for i in range(1, M):\n",
    "            while pattern[i] != pattern[j] and j > 0:\n",
    "                j = lps[j - 1]\n",
    "            if pattern[i] == pattern[j]:\n",
    "                j += 1\n",
    "            lps[i] = j\n",
    "\n",
    "        return lps\n",
    "\n",
    "    N, M = len(haystack), len(needle)\n",
    "    lps = create_lps(needle, M)\n",
    "    j = 0\n",
    "    for i in range(N):\n",
    "        while haystack[i] != needle[j] and j > 0:\n",
    "            j = lps[j - 1]\n",
    "        if haystack[i] == needle[j]:\n",
    "            j += 1\n",
    "        if j >= M:\n",
    "            return i - j + 1\n",
    "\n",
    "    return -1\n",
    "\n",
    "# Testing the solution\n",
    "assert strStr(\"asabadzabababababaaababaabba\", \"abababab\") == 7"
   ]
  },
  {
   "cell_type": "code",
   "execution_count": 9,
   "id": "5232f86f",
   "metadata": {
    "execution": {
     "iopub.execute_input": "2024-07-21T14:10:01.019336Z",
     "iopub.status.busy": "2024-07-21T14:10:01.018966Z",
     "iopub.status.idle": "2024-07-21T14:10:01.024886Z",
     "shell.execute_reply": "2024-07-21T14:10:01.024340Z"
    },
    "lines_to_next_cell": 1,
    "papermill": {
     "duration": 0.012525,
     "end_time": "2024-07-21T14:10:01.025946",
     "exception": false,
     "start_time": "2024-07-21T14:10:01.013421",
     "status": "completed"
    },
    "tags": []
   },
   "outputs": [],
   "source": [
    "# https://leetcode.com/problems/repeated-substring-pattern/\n",
    "def repeatedSubstringPattern(S: str) -> bool:\n",
    "    def create_lps(pattern: str) -> list[int]:\n",
    "        pattern_length, j = len(pattern), 0\n",
    "        lps: list[int] = [0] * pattern_length\n",
    "        for i in range(1, pattern_length):\n",
    "            while pattern[i] != pattern[j] and j > 0:\n",
    "                j = lps[j - 1]\n",
    "            if pattern[i] == pattern[j]:\n",
    "                j += 1\n",
    "            lps[i] = j\n",
    "\n",
    "        return lps\n",
    "\n",
    "    # Create LPS, find the longest repeating pattern length\n",
    "    # Ensure that the pattern repeats itself\n",
    "    N = len(S)\n",
    "    lps = create_lps(S)\n",
    "    repeat_str_length = N - lps[-1]\n",
    "\n",
    "    for i in range(N):\n",
    "        if S[i % repeat_str_length] != S[i]:\n",
    "            return False\n",
    "    return (repeat_str_length < N) and (N % repeat_str_length == 0)\n",
    "\n",
    "# Testing the solution\n",
    "assert repeatedSubstringPattern(\"acbaaacbaa\") == repeatedSubstringPattern(\"aaabbaaabb\") == True\n",
    "assert repeatedSubstringPattern(\"abcabcabc\") == repeatedSubstringPattern(\"abaababaab\") == True\n",
    "assert repeatedSubstringPattern(\"abcabcabz\") == repeatedSubstringPattern(\"aba\") == False"
   ]
  },
  {
   "cell_type": "code",
   "execution_count": 10,
   "id": "301b862f",
   "metadata": {
    "execution": {
     "iopub.execute_input": "2024-07-21T14:10:01.036932Z",
     "iopub.status.busy": "2024-07-21T14:10:01.036484Z",
     "iopub.status.idle": "2024-07-21T14:10:01.044542Z",
     "shell.execute_reply": "2024-07-21T14:10:01.044017Z"
    },
    "lines_to_next_cell": 1,
    "papermill": {
     "duration": 0.014763,
     "end_time": "2024-07-21T14:10:01.045659",
     "exception": false,
     "start_time": "2024-07-21T14:10:01.030896",
     "status": "completed"
    },
    "tags": []
   },
   "outputs": [],
   "source": [
    "# TLE :(\n",
    "def watto_mechanism_trie(input_patterns: list[str], search_patterns: list[str]) -> list[bool]:\n",
    "    class TrieNode:\n",
    "        def __init__(self, end: bool = False):\n",
    "            self.nodes: collections.defaultdict[str, 'TrieNode'] = collections.defaultdict(TrieNode)\n",
    "            self.end: bool = end\n",
    "\n",
    "        def __getitem__(self, ch: str) -> 'TrieNode':\n",
    "            return self.nodes[ch]\n",
    "\n",
    "    def search(string: str) -> bool:\n",
    "        N = len(string)\n",
    "        stack: list[tuple[TrieNode, int, bool]] = [(ROOT, 0, True)]\n",
    "        while stack:\n",
    "            curr, idx, editable = stack.pop()\n",
    "            if idx == N:\n",
    "                if not editable and curr.end:\n",
    "                    return True\n",
    "            else:\n",
    "                for next_ch in ['a', 'b', 'c']:\n",
    "                    if next_ch in curr.nodes:\n",
    "                        if next_ch == string[idx]:\n",
    "                            stack.append((curr[next_ch], idx + 1, editable))\n",
    "                        elif next_ch != string[idx] and editable:\n",
    "                            stack.append((curr[next_ch], idx + 1, False))\n",
    "        return False\n",
    "\n",
    "    # Convert the input patterns into a trie data strucute\n",
    "    ROOT = TrieNode()\n",
    "    for inp in input_patterns:\n",
    "        curr = ROOT\n",
    "        for ch in inp:\n",
    "            curr = curr[ch]\n",
    "        curr.end = True\n",
    "\n",
    "    results: list[bool] = []\n",
    "    for search_pattern in search_patterns:\n",
    "        results.append(search(search_pattern))\n",
    "\n",
    "    return results\n",
    "\n",
    "# Testing the solution\n",
    "assert watto_mechanism_trie([\"aaaaa\", \"acacaca\"], [\"aabaa\", \"ccacacc\", \"caaac\"]) == [True, False, False]\n",
    "assert watto_mechanism_trie([\"acbacbacb\"], [\"cbacbacb\", \"acbacbac\", \"aacbacbacb\", \"acbacbacbb\", \"acbaabacb\"]) == [False, False, False, False, True]\n",
    "assert watto_mechanism_trie([\"ab\", \"cacab\", \"cbabc\", \"acc\", \"cacab\"], [\"abc\", \"aa\", \"acbca\", \"cb\"]) == [True, True, False, True]"
   ]
  },
  {
   "cell_type": "code",
   "execution_count": 11,
   "id": "f6731b9c",
   "metadata": {
    "execution": {
     "iopub.execute_input": "2024-07-21T14:10:01.057280Z",
     "iopub.status.busy": "2024-07-21T14:10:01.056682Z",
     "iopub.status.idle": "2024-07-21T14:10:01.063893Z",
     "shell.execute_reply": "2024-07-21T14:10:01.063443Z"
    },
    "lines_to_next_cell": 1,
    "papermill": {
     "duration": 0.014272,
     "end_time": "2024-07-21T14:10:01.064982",
     "exception": false,
     "start_time": "2024-07-21T14:10:01.050710",
     "status": "completed"
    },
    "tags": []
   },
   "outputs": [],
   "source": [
    "def watto_mechanism(input_patterns: list[str], search_patterns: list[str]) -> list[bool]:\n",
    "    \"\"\"\n",
    "    Idea from editorial:\n",
    "        1. Compute and store the polynomial rolling hashes for each of the input_patterns\n",
    "        2. For each search string, compute possibilities and check if they exist in the hash\n",
    "    \"\"\"\n",
    "\n",
    "    # Constants for polynomial rolling hash\n",
    "    P, M = 257, 2 ** 61 + 7\n",
    "\n",
    "    def poly_hash(string: str) -> int:\n",
    "        nonlocal P, M\n",
    "        N, hash_val, p_ = len(string), 0, 1\n",
    "        for i in range(N):\n",
    "            hash_val = (hash_val + (ord(string[i]) * p_)) % M\n",
    "            p_ = (p_ * P) % M\n",
    "        return hash_val\n",
    "\n",
    "    def search(string: str) -> bool:\n",
    "        nonlocal P, M\n",
    "        N, hash_val, p_ = len(string), poly_hash(string), 1\n",
    "        for i in range(N):\n",
    "            for ch in ('a', 'b', 'c'):\n",
    "                modified_hash = (hash_val + (ord(ch) - ord(string[i])) * p_) % M\n",
    "                if ch != string[i] and modified_hash in hashes:\n",
    "                    return True\n",
    "            p_ = (p_ * P) % M\n",
    "        return False\n",
    "\n",
    "    # Store all the input strs as poly hashes\n",
    "    hashes: set[int] = set()\n",
    "    for inp in input_patterns:\n",
    "        hashes.add(poly_hash(inp))\n",
    "\n",
    "    # Iterate through the search strings, compute all hashes for all combinations in O(1) time\n",
    "    results: list[bool] = []\n",
    "    for inp in search_patterns:\n",
    "        results.append(search(inp))\n",
    "\n",
    "    return results\n",
    "\n",
    "# Testing the solution\n",
    "assert watto_mechanism([\"aaaaa\", \"acacaca\"], [\"aabaa\", \"ccacacc\", \"caaac\"]) == [True, False, False]\n",
    "assert watto_mechanism([\"acbacbacb\"], [\"cbacbacb\", \"acbacbac\", \"aacbacbacb\", \"acbacbacbb\", \"acbaabacb\"]) == [False, False, False, False, True]\n",
    "assert watto_mechanism([\"ab\", \"cacab\", \"cbabc\", \"acc\", \"cacab\"], [\"abc\", \"aa\", \"acbca\", \"cb\"]) == [True, True, False, True]"
   ]
  },
  {
   "cell_type": "markdown",
   "id": "45e647a3",
   "metadata": {
    "papermill": {
     "duration": 0.004696,
     "end_time": "2024-07-21T14:10:01.074549",
     "exception": false,
     "start_time": "2024-07-21T14:10:01.069853",
     "status": "completed"
    },
    "tags": []
   },
   "source": [
    "Codeforces Practice"
   ]
  },
  {
   "cell_type": "code",
   "execution_count": 12,
   "id": "20dc1c55",
   "metadata": {
    "execution": {
     "iopub.execute_input": "2024-07-21T14:10:01.085497Z",
     "iopub.status.busy": "2024-07-21T14:10:01.085024Z",
     "iopub.status.idle": "2024-07-21T14:10:01.090327Z",
     "shell.execute_reply": "2024-07-21T14:10:01.089874Z"
    },
    "lines_to_next_cell": 1,
    "papermill": {
     "duration": 0.012057,
     "end_time": "2024-07-21T14:10:01.091395",
     "exception": false,
     "start_time": "2024-07-21T14:10:01.079338",
     "status": "completed"
    },
    "tags": []
   },
   "outputs": [],
   "source": [
    "def palindrome_degree(string: str) -> int:\n",
    "    \"\"\"\n",
    "    Iterate through string, check if current substr is a palindrome.\n",
    "    If it is, degree equals degree[substr // 2] + 1.\n",
    "    Assume degree[substr // 2] if not found as 0.\n",
    "    Return sum of all degrees.\n",
    "\n",
    "    Checking if substr is a palindrome, check if prefix_hash hash(S[i..j]) == rev_prefix_hash hash(S[j..i])\n",
    "\n",
    "    PREFIX_HASH = sum(ord(s[i]) * p ** i)\n",
    "        abc: a + bP + cP^2\n",
    "\n",
    "    REV_PREFIX_HASH is a little tricky but when running in a loop it is pretty simple\n",
    "        abc: (rev_prefix_hash * P) + ord(s[i])\n",
    "            a -> a\n",
    "            b -> aP + b\n",
    "            c -> aP^2 + bP + c\n",
    "    \"\"\"\n",
    "    # Paramaters for rolling hash\n",
    "    P, M = 257, 2**61 - 1\n",
    "\n",
    "    N = len(string)\n",
    "    degree: list[int] = [0 for i in range(N)]\n",
    "    prefix_hash = rev_prefix_hash = ord(string[0])\n",
    "    total_degree = degree[0] = 1\n",
    "    p = P\n",
    "    for i in range(1, N):\n",
    "        prefix_hash, p = (prefix_hash + ord(string[i]) * p) % M, (P * p) % M\n",
    "        rev_prefix_hash = (rev_prefix_hash * P + ord(string[i])) % M\n",
    "        if prefix_hash == rev_prefix_hash:\n",
    "            degree[i] = degree[(i - 1) // 2] + 1\n",
    "            total_degree += degree[i]\n",
    "\n",
    "    return total_degree\n",
    "\n",
    "# Testing the solution\n",
    "assert palindrome_degree(\"a2A\") == 1\n",
    "assert palindrome_degree(\"abacaba\") == 6"
   ]
  },
  {
   "cell_type": "code",
   "execution_count": 13,
   "id": "bd066408",
   "metadata": {
    "execution": {
     "iopub.execute_input": "2024-07-21T14:10:01.102344Z",
     "iopub.status.busy": "2024-07-21T14:10:01.101897Z",
     "iopub.status.idle": "2024-07-21T14:10:01.109059Z",
     "shell.execute_reply": "2024-07-21T14:10:01.108480Z"
    },
    "lines_to_next_cell": 1,
    "papermill": {
     "duration": 0.013945,
     "end_time": "2024-07-21T14:10:01.110161",
     "exception": false,
     "start_time": "2024-07-21T14:10:01.096216",
     "status": "completed"
    },
    "tags": []
   },
   "outputs": [],
   "source": [
    "def spy_syndrome2(secret: str, words: list[str]) -> str:\n",
    "    # Parameters for rolling Hash\n",
    "    P, M = 257, 10**9 + 7\n",
    "\n",
    "    def poly_hash(string: str) -> int:\n",
    "        nonlocal P, M\n",
    "        word_length, hash_value, p = len(string), 0, 1\n",
    "        for i in range(word_length):\n",
    "            hash_value, p = (hash_value + p * ord(string[i].lower())) % M, (p * P) % M\n",
    "\n",
    "        return hash_value\n",
    "\n",
    "    # Store the list of words as hashes\n",
    "    hashes: dict[int, str] = dict()\n",
    "    for word in words:\n",
    "        hashes[poly_hash(word)] = word\n",
    "\n",
    "    # Compute the rev prefix hash as we iterate through the secret, if\n",
    "    # match found reset and add to list of words found, note that we\n",
    "    # might need to backtrack which is handled by the stack code here!\n",
    "    result: list[str] = []\n",
    "    secret_length = len(secret)\n",
    "    stack: list[tuple[int, int]] = [(0, 0)]\n",
    "    while stack:\n",
    "        idx, hash_value = stack.pop()\n",
    "        if idx == secret_length:\n",
    "            if hash_value == 0:\n",
    "                break\n",
    "            else:\n",
    "                result.pop()\n",
    "        else:\n",
    "            hash_value = (hash_value * P + ord(secret[idx].lower())) % M\n",
    "            stack.append((idx + 1, hash_value))\n",
    "            if hash_value in hashes:\n",
    "                result.append(hashes[hash_value])\n",
    "                stack.append((idx + 1, 0))\n",
    "\n",
    "    return ' '.join(result)\n",
    "\n",
    "# Testing the solution\n",
    "assert spy_syndrome2(\"ariksihsidlihcdnaehsetahgnisol\", [\"Kira\", \"hates\", \"is\", \"he\", \"losing\", \"death\", \"childish\", \"L\", \"and\", \"Note\"]) == \"Kira is childish and he hates losing\"\n",
    "assert spy_syndrome2(\"iherehtolleh\", [\"HI\", \"Ho\", \"there\", \"HeLLo\", \"hello\"]).lower() == \"HI there HeLLo\".lower()\n",
    "assert spy_syndrome2(\"ababaaba\", [\"aba\", \"ababa\"]) == \"ababa aba\""
   ]
  },
  {
   "cell_type": "markdown",
   "id": "a4ef7399",
   "metadata": {
    "papermill": {
     "duration": 0.004651,
     "end_time": "2024-07-21T14:10:01.119764",
     "exception": false,
     "start_time": "2024-07-21T14:10:01.115113",
     "status": "completed"
    },
    "tags": []
   },
   "source": [
    "Codeforces Practice"
   ]
  },
  {
   "cell_type": "code",
   "execution_count": 14,
   "id": "bc104a4b",
   "metadata": {
    "execution": {
     "iopub.execute_input": "2024-07-21T14:10:01.130570Z",
     "iopub.status.busy": "2024-07-21T14:10:01.130059Z",
     "iopub.status.idle": "2024-07-21T14:10:01.137953Z",
     "shell.execute_reply": "2024-07-21T14:10:01.137479Z"
    },
    "lines_to_next_cell": 1,
    "papermill": {
     "duration": 0.014471,
     "end_time": "2024-07-21T14:10:01.138956",
     "exception": false,
     "start_time": "2024-07-21T14:10:01.124485",
     "status": "completed"
    },
    "tags": []
   },
   "outputs": [],
   "source": [
    "def xor_paths(M: int, N: int, matrix: list[list[int]], K: int) -> int:\n",
    "    \"\"\"\n",
    "    Meet in the middle to reduce the time complexity.\n",
    "    \"\"\"\n",
    "\n",
    "    valid_path_count, max_moves = 0, M + N - 2\n",
    "    counts: collections.defaultdict[tuple[int, int, int], int] = collections.defaultdict(int)\n",
    "\n",
    "    # Starting from (0, 0), make max_moves // 2: travelling right or down\n",
    "    stack: list[tuple[int, int, int, int]] = [(0, 0, 0, 0)]\n",
    "    while stack:\n",
    "        i, j, xor_sum, moves = stack.pop()\n",
    "        xor_sum ^= matrix[i][j]\n",
    "        if moves == max_moves // 2:\n",
    "            counts[i, j, xor_sum] += 1\n",
    "        else:\n",
    "            if i + 1 < M:\n",
    "                stack.append((i + 1, j, xor_sum, moves + 1))\n",
    "            if j + 1 < N:\n",
    "                stack.append((i, j + 1, xor_sum, moves + 1))\n",
    "\n",
    "    # Starting from (M - 1, N - 1), make max_moves - (max_moves // 2): travelling left or up\n",
    "    stack = [(M - 1, N - 1, K, 0)]\n",
    "    while stack:\n",
    "        i, j, xor_sum, moves = stack.pop()\n",
    "        if moves == max_moves - (max_moves // 2):\n",
    "            # In the end counts[i, j, xor_sum] that we reached from the\n",
    "            # front and the end would be such that xor_sum ^ K == 0\n",
    "            valid_path_count += counts[i, j, xor_sum]\n",
    "        else:\n",
    "            if i - 1 >= 0:\n",
    "                stack.append((i - 1, j, xor_sum ^ matrix[i][j], moves + 1))\n",
    "            if j - 1 >= 0:\n",
    "                stack.append((i, j - 1, xor_sum ^ matrix[i][j], moves + 1))\n",
    "\n",
    "    return valid_path_count\n",
    "\n",
    "# Testing the solution\n",
    "assert xor_paths(3, 3, [[2, 1, 5], [7, 10, 0], [12, 6, 4]], 11) == 3\n",
    "assert xor_paths(3, 4, [[1, 3, 3, 3], [0, 3, 3, 2], [3, 0, 1, 1]], 2) == 5\n",
    "assert xor_paths(3, 4, [[1, 3, 3, 3], [0, 3, 3, 2], [3, 0, 1, 1]], 1000000000000000000) == 0"
   ]
  },
  {
   "cell_type": "markdown",
   "id": "f3b79ef1",
   "metadata": {
    "papermill": {
     "duration": 0.004669,
     "end_time": "2024-07-21T14:10:01.148486",
     "exception": false,
     "start_time": "2024-07-21T14:10:01.143817",
     "status": "completed"
    },
    "tags": []
   },
   "source": [
    "CP Easy: Trees"
   ]
  },
  {
   "cell_type": "code",
   "execution_count": 15,
   "id": "79f51e67",
   "metadata": {
    "execution": {
     "iopub.execute_input": "2024-07-21T14:10:01.159402Z",
     "iopub.status.busy": "2024-07-21T14:10:01.158943Z",
     "iopub.status.idle": "2024-07-21T14:10:01.165314Z",
     "shell.execute_reply": "2024-07-21T14:10:01.164770Z"
    },
    "lines_to_next_cell": 1,
    "papermill": {
     "duration": 0.013101,
     "end_time": "2024-07-21T14:10:01.166341",
     "exception": false,
     "start_time": "2024-07-21T14:10:01.153240",
     "status": "completed"
    },
    "tags": []
   },
   "outputs": [],
   "source": [
    "def subordinates(n_employees: int, bosses: list[int]) -> list[int]:\n",
    "    \"\"\"\n",
    "    The recusive solution using cache is trivial, using the\n",
    "    iterative approach to prevent stackoverflow\n",
    "    \"\"\"\n",
    "\n",
    "    subordinate_counts: list[int] = [-1 for i in range(n_employees + 1)]\n",
    "    subordinates: collections.defaultdict[int, list[int]] = collections.defaultdict(list)\n",
    "    for i, boss in enumerate(bosses, start=2):\n",
    "        subordinates[boss].append(i)\n",
    "\n",
    "    # Starting with the director, count subordinates recursively using stack\n",
    "    stack: list[int] = [1]\n",
    "    while stack:\n",
    "        emp, subordinate_count = stack[-1], 0\n",
    "        for subordinate in subordinates[emp]:\n",
    "            if subordinate_counts[subordinate] == -1:\n",
    "                stack.append(subordinate)\n",
    "            else:\n",
    "                subordinate_count += 1 + subordinate_counts[subordinate]\n",
    "        if emp == stack[-1]:\n",
    "            subordinate_counts[emp] = subordinate_count\n",
    "            stack.pop()\n",
    "\n",
    "    return subordinate_counts[1:]\n",
    "\n",
    "# Testing the solution\n",
    "assert subordinates(5, [1, 1, 2, 3]) == [4, 1, 1, 0, 0]\n",
    "assert subordinates(10, [1,1,1,1,1,1,1,1,1]) == [9,0,0,0,0,0,0,0,0,0]\n",
    "assert subordinates(10, [1,2,3,4,5,6,7,8,9]) == [9,8,7,6,5,4,3,2,1,0]"
   ]
  },
  {
   "cell_type": "code",
   "execution_count": 16,
   "id": "74595f0d",
   "metadata": {
    "execution": {
     "iopub.execute_input": "2024-07-21T14:10:01.176745Z",
     "iopub.status.busy": "2024-07-21T14:10:01.176408Z",
     "iopub.status.idle": "2024-07-21T14:10:01.182600Z",
     "shell.execute_reply": "2024-07-21T14:10:01.182053Z"
    },
    "papermill": {
     "duration": 0.012543,
     "end_time": "2024-07-21T14:10:01.183628",
     "exception": false,
     "start_time": "2024-07-21T14:10:01.171085",
     "status": "completed"
    },
    "tags": []
   },
   "outputs": [],
   "source": [
    "def tree_matching(E: int, edges: list[tuple[int, int]]) -> int:\n",
    "    \"\"\"\n",
    "    Only having a superficial understanding, converted with trial and\n",
    "    errors the solution from recursive to iterative.\n",
    "    \"\"\"\n",
    "    adjl: collections.defaultdict[int, list] = collections.defaultdict(list)\n",
    "    for i, j in edges:\n",
    "        adjl[i].append(j)\n",
    "        adjl[j].append(i)\n",
    "\n",
    "    # greedily keep matching a leaf with the only vertex adjacent to it while possible\n",
    "    visited: set[int] = {1}\n",
    "    picked: set[int] = set()\n",
    "    stack: list[tuple[int, int]] = [(1, -1)]\n",
    "    matching: int = 0\n",
    "    while stack:\n",
    "        curr, prev = stack[-1]\n",
    "        for next_ in adjl[curr]:\n",
    "            if next_ not in visited:\n",
    "                visited.add(next_)\n",
    "                stack.append((next_, curr))\n",
    "        if stack[-1] == (curr, prev):\n",
    "            stack.pop()\n",
    "            # At the end of each recursive call, as per recursive code logic\n",
    "            # we skip the first 'edge' (1, -1)\n",
    "            if prev != -1 and prev not in picked and curr not in picked:\n",
    "                matching += 1\n",
    "                picked.add(curr)\n",
    "                picked.add(prev)\n",
    "\n",
    "    return matching\n",
    "\n",
    "# Testing the solution\n",
    "assert tree_matching(5, [(1,2), (1,3), (3,4), (3,5)]) == 2\n",
    "assert tree_matching(10, [(8,9), (10,9), (1,4), (7,1), (8,3), (10,5), (4,2), (3,7), (6,4)]) == 4"
   ]
  },
  {
   "cell_type": "markdown",
   "id": "b8a3aee7",
   "metadata": {
    "lines_to_next_cell": 2,
    "papermill": {
     "duration": 0.00469,
     "end_time": "2024-07-21T14:10:01.192965",
     "exception": false,
     "start_time": "2024-07-21T14:10:01.188275",
     "status": "completed"
    },
    "tags": []
   },
   "source": [
    "Diameter of a tree:\n",
    "Naive approach is to run DFS on all nodes which would lead to a time complexity of O(n * n).<br>\n",
    "Better approach would be to run DFS from any node and find the farthest point.\n",
    "From this point run DFS again and fnd the farthest point.\n",
    "Compute distance between these two nodes."
   ]
  },
  {
   "cell_type": "code",
   "execution_count": 17,
   "id": "f9da7b22",
   "metadata": {
    "execution": {
     "iopub.execute_input": "2024-07-21T14:10:01.203449Z",
     "iopub.status.busy": "2024-07-21T14:10:01.203077Z",
     "iopub.status.idle": "2024-07-21T14:10:01.210403Z",
     "shell.execute_reply": "2024-07-21T14:10:01.209972Z"
    },
    "lines_to_next_cell": 1,
    "papermill": {
     "duration": 0.013817,
     "end_time": "2024-07-21T14:10:01.211453",
     "exception": false,
     "start_time": "2024-07-21T14:10:01.197636",
     "status": "completed"
    },
    "tags": []
   },
   "outputs": [],
   "source": [
    "def circumference(N: int, edges: list[tuple[int, int]]) -> int:\n",
    "    def farthest(node: int) -> tuple[int, int]:\n",
    "        result: tuple[int, int] = (-1, -1)\n",
    "        queue: collections.deque[tuple[int, int, int]] = collections.deque([(node, -1, 0)])\n",
    "        while queue:\n",
    "            curr, prev, dist = queue.popleft()\n",
    "            if dist > result[1]:\n",
    "                result = curr, dist\n",
    "            for next_ in adjl[curr]:\n",
    "                if next_ != prev:\n",
    "                    queue.append((next_, curr, dist + 1))\n",
    "\n",
    "        return result\n",
    "\n",
    "    # Create an adj list from the provided edges\n",
    "    adjl: collections.defaultdict[int, list[int]] = collections.defaultdict(list)\n",
    "    for n1, n2 in edges:\n",
    "        adjl[n1].append(n2)\n",
    "        adjl[n2].append(n1)\n",
    "\n",
    "    # Take any random node and run DFS to find the farthest point\n",
    "    n1, _ = farthest(edges[0][0])\n",
    "    n2, D = farthest(n1)\n",
    "\n",
    "    # Wrong formula but this is the expected formula\n",
    "    return 3 * D\n",
    "\n",
    "# Testing the solution\n",
    "assert circumference(3, [(3,2), (2,1)]) == 6\n",
    "assert circumference(5, [(4,2), (1,4), (5,4), (3,4)]) == 6"
   ]
  },
  {
   "cell_type": "markdown",
   "id": "0891c413",
   "metadata": {
    "papermill": {
     "duration": 0.004654,
     "end_time": "2024-07-21T14:10:01.220902",
     "exception": false,
     "start_time": "2024-07-21T14:10:01.216248",
     "status": "completed"
    },
    "tags": []
   },
   "source": [
    "LC Biweekly - 20th July 2024"
   ]
  },
  {
   "cell_type": "code",
   "execution_count": 18,
   "id": "a81c610d",
   "metadata": {
    "execution": {
     "iopub.execute_input": "2024-07-21T14:10:01.231459Z",
     "iopub.status.busy": "2024-07-21T14:10:01.231099Z",
     "iopub.status.idle": "2024-07-21T14:10:01.234911Z",
     "shell.execute_reply": "2024-07-21T14:10:01.234469Z"
    },
    "lines_to_next_cell": 1,
    "papermill": {
     "duration": 0.01036,
     "end_time": "2024-07-21T14:10:01.235996",
     "exception": false,
     "start_time": "2024-07-21T14:10:01.225636",
     "status": "completed"
    },
    "tags": []
   },
   "outputs": [],
   "source": [
    "def losingPlayer(x: int, y: int) -> str:\n",
    "    alice_turn = True\n",
    "    x_req, y_req = 1, 4\n",
    "    while x >= x_req and y >= y_req:\n",
    "        x, y = x - x_req, y - y_req\n",
    "        alice_turn = not alice_turn\n",
    "\n",
    "    return \"Alice\" if not alice_turn else \"Bob\"\n",
    "\n",
    "# Testing the solution\n",
    "assert losingPlayer(2, 7) == \"Alice\"\n",
    "assert losingPlayer(4, 11) == \"Bob\""
   ]
  },
  {
   "cell_type": "code",
   "execution_count": 19,
   "id": "2d2dc400",
   "metadata": {
    "execution": {
     "iopub.execute_input": "2024-07-21T14:10:01.246320Z",
     "iopub.status.busy": "2024-07-21T14:10:01.245905Z",
     "iopub.status.idle": "2024-07-21T14:10:01.249671Z",
     "shell.execute_reply": "2024-07-21T14:10:01.249156Z"
    },
    "lines_to_next_cell": 1,
    "papermill": {
     "duration": 0.010109,
     "end_time": "2024-07-21T14:10:01.250791",
     "exception": false,
     "start_time": "2024-07-21T14:10:01.240682",
     "status": "completed"
    },
    "tags": []
   },
   "outputs": [],
   "source": [
    "def minimumLength(s: str) -> int:\n",
    "    freq: collections.Counter = collections.Counter(s)\n",
    "    return sum(map(lambda x: x if x <= 2 else 1 if x % 2 == 1 else 2, freq.values()))\n",
    "\n",
    "# Testing the solution\n",
    "assert minimumLength(\"abaacbcbb\") == 5\n",
    "assert minimumLength(\"aa\") == 2"
   ]
  },
  {
   "cell_type": "code",
   "execution_count": 20,
   "id": "bfa64614",
   "metadata": {
    "execution": {
     "iopub.execute_input": "2024-07-21T14:10:01.261519Z",
     "iopub.status.busy": "2024-07-21T14:10:01.261011Z",
     "iopub.status.idle": "2024-07-21T14:10:01.266884Z",
     "shell.execute_reply": "2024-07-21T14:10:01.266330Z"
    },
    "lines_to_next_cell": 1,
    "papermill": {
     "duration": 0.012254,
     "end_time": "2024-07-21T14:10:01.267901",
     "exception": false,
     "start_time": "2024-07-21T14:10:01.255647",
     "status": "completed"
    },
    "tags": []
   },
   "outputs": [],
   "source": [
    "# TLE :)\n",
    "def minChanges(nums: list[int], K: int) -> int:\n",
    "    N, min_changes = len(nums), math.inf\n",
    "    max_diff = max([*nums, K])\n",
    "    for x in range(max_diff + 1):\n",
    "        changes = 0.\n",
    "        for i in range(N // 2):\n",
    "            L, R = nums[i], nums[N - i - 1]\n",
    "            if abs(L - R) == x:\n",
    "                changes += 0\n",
    "            elif (L - K <= x <= max(L, abs(L - K))) or (R - K <= x <= max(R, abs(R - K))):\n",
    "                changes += 1\n",
    "            elif 0 <= x <= K:\n",
    "                changes += 2\n",
    "            else:\n",
    "                changes += math.inf\n",
    "\n",
    "        min_changes = min(min_changes, changes)\n",
    "\n",
    "    return int(min_changes)\n",
    "\n",
    "# Testing the solution\n",
    "assert minChanges([1,0,1,2,4,3], 4) == 2\n",
    "assert minChanges([0,1,2,3,3,6,5,4], 6) == 2\n",
    "assert minChanges([3,1,7,7,8,7,0,5,8,0,6,7,0,2,6,6], 8) == 6"
   ]
  },
  {
   "cell_type": "markdown",
   "id": "86a332d3",
   "metadata": {
    "papermill": {
     "duration": 0.00468,
     "end_time": "2024-07-21T14:10:01.277216",
     "exception": false,
     "start_time": "2024-07-21T14:10:01.272536",
     "status": "completed"
    },
    "tags": []
   },
   "source": [
    "LC Weekly Contest - 21st July 2024"
   ]
  },
  {
   "cell_type": "code",
   "execution_count": 21,
   "id": "8ed3be79",
   "metadata": {
    "execution": {
     "iopub.execute_input": "2024-07-21T14:10:01.287405Z",
     "iopub.status.busy": "2024-07-21T14:10:01.287078Z",
     "iopub.status.idle": "2024-07-21T14:10:01.291494Z",
     "shell.execute_reply": "2024-07-21T14:10:01.291032Z"
    },
    "lines_to_next_cell": 1,
    "papermill": {
     "duration": 0.010654,
     "end_time": "2024-07-21T14:10:01.292491",
     "exception": false,
     "start_time": "2024-07-21T14:10:01.281837",
     "status": "completed"
    },
    "tags": []
   },
   "outputs": [],
   "source": [
    "def minBitChanges(N: int, K: int) -> int:\n",
    "    changes = 0.\n",
    "    while N > 0 or K > 0:\n",
    "        N_bit, K_bit = N & 1, K & 1\n",
    "        N, K = N >> 1, K >> 1\n",
    "        if N_bit == 1 and K_bit == 0:\n",
    "            changes += 1\n",
    "        elif N_bit == K_bit:\n",
    "            changes += 0\n",
    "        else:\n",
    "            changes += math.inf\n",
    "\n",
    "    return int(changes) if not math.isinf(changes) else -1\n",
    "\n",
    "# Testing the solution\n",
    "assert minBitChanges(13, 4) == 2\n",
    "assert minBitChanges(21, 21) == 0\n",
    "assert minBitChanges(14, 13) == -1"
   ]
  },
  {
   "cell_type": "code",
   "execution_count": 22,
   "id": "e74d786a",
   "metadata": {
    "execution": {
     "iopub.execute_input": "2024-07-21T14:10:01.302923Z",
     "iopub.status.busy": "2024-07-21T14:10:01.302498Z",
     "iopub.status.idle": "2024-07-21T14:10:01.305902Z",
     "shell.execute_reply": "2024-07-21T14:10:01.305479Z"
    },
    "lines_to_next_cell": 1,
    "papermill": {
     "duration": 0.009733,
     "end_time": "2024-07-21T14:10:01.306986",
     "exception": false,
     "start_time": "2024-07-21T14:10:01.297253",
     "status": "completed"
    },
    "tags": []
   },
   "outputs": [],
   "source": [
    "def doesAliceWin(s: str) -> bool:\n",
    "    vc = 0\n",
    "    for ch in s:\n",
    "        if ch in ('a', 'e', 'i', 'o', 'u'):\n",
    "            vc += 1\n",
    "\n",
    "    return vc != 0\n",
    "\n",
    "# Testing the solution\n",
    "assert doesAliceWin(\"leetcoder\") == True\n",
    "assert doesAliceWin(\"bcd\") == False"
   ]
  },
  {
   "cell_type": "code",
   "execution_count": 23,
   "id": "4d022653",
   "metadata": {
    "execution": {
     "iopub.execute_input": "2024-07-21T14:10:01.317339Z",
     "iopub.status.busy": "2024-07-21T14:10:01.317065Z",
     "iopub.status.idle": "2024-07-21T14:10:01.320847Z",
     "shell.execute_reply": "2024-07-21T14:10:01.320379Z"
    },
    "lines_to_next_cell": 1,
    "papermill": {
     "duration": 0.010159,
     "end_time": "2024-07-21T14:10:01.321882",
     "exception": false,
     "start_time": "2024-07-21T14:10:01.311723",
     "status": "completed"
    },
    "tags": []
   },
   "outputs": [],
   "source": [
    "def maxOperations(S: str) -> int:\n",
    "    N = len(S)\n",
    "    ops = ones = 0\n",
    "    for i in range(N):\n",
    "        if S[i] == '1':\n",
    "            ones += 1\n",
    "        elif S[i - 1] == '1':\n",
    "            ops += ones\n",
    "\n",
    "    return ops\n",
    "\n",
    "# Testing the solution\n",
    "assert maxOperations(\"1001101\") == 4\n",
    "assert maxOperations(\"00111\") == 0\n",
    "assert maxOperations(\"1000\") == 1\n",
    "assert maxOperations(\"1110\") == 3"
   ]
  },
  {
   "cell_type": "code",
   "execution_count": 24,
   "id": "25db5338",
   "metadata": {
    "execution": {
     "iopub.execute_input": "2024-07-21T14:10:01.332054Z",
     "iopub.status.busy": "2024-07-21T14:10:01.331758Z",
     "iopub.status.idle": "2024-07-21T14:10:01.339004Z",
     "shell.execute_reply": "2024-07-21T14:10:01.338490Z"
    },
    "lines_to_next_cell": 1,
    "papermill": {
     "duration": 0.013528,
     "end_time": "2024-07-21T14:10:01.340038",
     "exception": false,
     "start_time": "2024-07-21T14:10:01.326510",
     "status": "completed"
    },
    "tags": []
   },
   "outputs": [],
   "source": [
    "# Solved at 9:40 :)\n",
    "def minimumOperations(nums: list[int], target: list[int]) -> int:\n",
    "    def equal_sign(n1: int, n2: int) -> bool:\n",
    "        return (n1 < 0 and n2 < 0) or (n1 > 0 and n2 > 0) or (n1 == n2 == 0)\n",
    "\n",
    "    def split(left: int, right: int) -> list[tuple[int, int]]:\n",
    "        result: list[tuple[int, int]] = []\n",
    "        prev = left\n",
    "        for i in range(left, right + 2):\n",
    "            if i == right + 1 or not equal_sign(deltas[i], deltas[prev]):\n",
    "                result.append((prev, i - 1))\n",
    "                prev = i\n",
    "\n",
    "        return result\n",
    "\n",
    "    def count(left: int, right: int) -> int:\n",
    "        min_ = abs(deltas[left])\n",
    "        for i in range(left, right+1):\n",
    "            deltas[i] = abs(deltas[i])\n",
    "            min_ = min(min_, deltas[i])\n",
    "\n",
    "        for i in range(left, right+1):\n",
    "            deltas[i] -= min_\n",
    "\n",
    "        slices: list[tuple[int, int]] = split(left, right)\n",
    "        ops_ = min_\n",
    "        if min_ > 0:\n",
    "            for i, j in slices:\n",
    "                ops_ += count(i, j)\n",
    "\n",
    "        return ops_\n",
    "\n",
    "    N, ops = len(nums), 0\n",
    "    deltas: list[int] = [nums[i] - target[i] for i in range(N)]\n",
    "    slices: list[tuple[int, int]] = split(0, N - 1)\n",
    "    for i, j in slices:\n",
    "        ops += count(i, j)\n",
    "\n",
    "    return ops\n",
    "\n",
    "# Testing the solution\n",
    "assert minimumOperations([3,5,1,2], [4,6,2,4]) == 2\n",
    "assert minimumOperations([1,3,2], [2,1,4]) == 5"
   ]
  },
  {
   "cell_type": "code",
   "execution_count": 25,
   "id": "19c7f6ff",
   "metadata": {
    "execution": {
     "iopub.execute_input": "2024-07-21T14:10:01.350563Z",
     "iopub.status.busy": "2024-07-21T14:10:01.350116Z",
     "iopub.status.idle": "2024-07-21T14:10:01.356743Z",
     "shell.execute_reply": "2024-07-21T14:10:01.356304Z"
    },
    "lines_to_next_cell": 1,
    "papermill": {
     "duration": 0.012948,
     "end_time": "2024-07-21T14:10:01.357790",
     "exception": false,
     "start_time": "2024-07-21T14:10:01.344842",
     "status": "completed"
    },
    "tags": []
   },
   "outputs": [],
   "source": [
    "def dynamic_dyameter(N: int, edges: list[tuple[int, int]]) -> list[int]:\n",
    "    def BFS(start: int) -> tuple[int, set[int]]:\n",
    "        distances: collections.defaultdict[int, set[int]] = collections.defaultdict(set)\n",
    "        queue: collections.deque[tuple[int, int, int]] = collections.deque([(start, 0, 0)])\n",
    "        max_dist = 0\n",
    "        while queue:\n",
    "            curr, prev, dist = queue.popleft()\n",
    "            distances[dist].add(curr)\n",
    "            max_dist = max(dist, max_dist)\n",
    "            for next_ in adjl[curr]:\n",
    "                if next_ != prev:\n",
    "                    queue.append((next_, curr, dist + 1))\n",
    "\n",
    "        return max_dist, distances[max_dist]\n",
    "\n",
    "    # Convert edges to adjancency list\n",
    "    adjl: collections.defaultdict[int, list[int]] = collections.defaultdict(list)\n",
    "    for n1, n2 in edges:\n",
    "        adjl[n1].append(n2)\n",
    "        adjl[n2].append(n1)\n",
    "\n",
    "    # Find the farthest from a random node\n",
    "    nodes = BFS(1)[1]\n",
    "    leaves: set[int] = {*nodes}\n",
    "    D, farthest_nodes = BFS(next(iter(leaves)))\n",
    "    leaves.update(farthest_nodes)\n",
    "\n",
    "    return [D + 1 if i in leaves else D for i in range(1, N + 1)]\n",
    "\n",
    "# Testing the solution\n",
    "assert dynamic_dyameter(3, [(3,2), (2,1)]) == [3,2,3]\n",
    "assert dynamic_dyameter(5, [(4,2), (1,4), (5,4), (3,4)]) == [3,3,3,2,3]"
   ]
  },
  {
   "cell_type": "code",
   "execution_count": 26,
   "id": "f5eb47cb",
   "metadata": {
    "execution": {
     "iopub.execute_input": "2024-07-21T14:10:01.368554Z",
     "iopub.status.busy": "2024-07-21T14:10:01.368110Z",
     "iopub.status.idle": "2024-07-21T14:10:01.375302Z",
     "shell.execute_reply": "2024-07-21T14:10:01.374859Z"
    },
    "lines_to_next_cell": 1,
    "papermill": {
     "duration": 0.013695,
     "end_time": "2024-07-21T14:10:01.376298",
     "exception": false,
     "start_time": "2024-07-21T14:10:01.362603",
     "status": "completed"
    },
    "tags": []
   },
   "outputs": [],
   "source": [
    "def military_problem(n_officers: int, superiors: list[int], queries: list[tuple[int, int]]) -> list[int]:\n",
    "    adjl: collections.defaultdict[int, list[int]] = collections.defaultdict(list)\n",
    "    for officer, superior in enumerate(superiors, start=2):\n",
    "        adjl[superior].append(officer)\n",
    "\n",
    "    # DFS starting from the supreme commander - 1\n",
    "    # Create variables for storing the DFS order and the start/end index for each\n",
    "    order: list[int] = []\n",
    "    ranges: collections.defaultdict[int, tuple[int, int]] = collections.defaultdict(lambda: (0, 0))\n",
    "    stack: list[tuple[int, int]] = [(1, 0)]\n",
    "    while stack:\n",
    "        curr, idx = stack[-1]\n",
    "        if idx == 0:\n",
    "            order.append(curr)\n",
    "            ranges[curr] = len(order) - 1, len(order) - 1\n",
    "        if idx < len(adjl[curr]):\n",
    "            stack[-1] = curr, idx + 1\n",
    "            stack.append((adjl[curr][idx], 0))\n",
    "        else:\n",
    "            stack.pop()\n",
    "            ranges[curr] = ranges[curr][0], len(order) - 1\n",
    "\n",
    "    # Answer the queries\n",
    "    result: list[int] = []\n",
    "    for officer, kth in queries:\n",
    "        start, end = ranges[officer]\n",
    "        if end - start + 1 >= kth:\n",
    "            result.append(order[start + kth - 1])\n",
    "        else:\n",
    "            result.append(-1)\n",
    "\n",
    "    return result\n",
    "\n",
    "# Testing the solution\n",
    "assert military_problem(9, [1,2,2,3,5,3,6,7], [(1,5), (7,3), (1,8), (1,9)]) == [6,-1,9,4]\n",
    "assert military_problem(9, [1,1,1,3,5,3,5,7], [(3,1), (1,5), (3,4), (7,3), (1,8), (1,9)]) == [3,6,8,-1,9,4]"
   ]
  },
  {
   "cell_type": "markdown",
   "id": "03b63bfc",
   "metadata": {},
   "source": [
    "Binary Lifting - LCA"
   ]
  },
  {
   "cell_type": "code",
   "execution_count": null,
   "id": "232e564a",
   "metadata": {},
   "outputs": [],
   "source": [
    "# https://leetcode.com/problems/kth-ancestor-of-a-tree-node://leetcode.com/problems/kth-ancestor-of-a-tree-node/\n",
    "class TreeAncestor:\n",
    "    def __init__(self, N: int, parent: list[int]):\n",
    "        # Store the ancestors into a sparse table\n",
    "        self.ancestors: dict[int, collections.defaultdict[int, int]] = {}\n",
    "\n",
    "        # Store for level 1 (2 ** 0 => 1)\n",
    "        pending: list[int] = []\n",
    "        level = 0\n",
    "        for node in range(N):\n",
    "            self.ancestors[node] = collections.defaultdict(lambda: -1)\n",
    "            self.ancestors[node][level] = parent[node]\n",
    "            if self.ancestors[node][level] != -1:\n",
    "                pending.append(node)\n",
    "\n",
    "        # Compute next level of ancestors until we hit -1 for all nodes\n",
    "        level += 1\n",
    "        while pending:\n",
    "            still_pending: list[int] = []\n",
    "            for node in pending:\n",
    "                self.ancestors[node][level] = self.ancestors[self.ancestors[node][level - 1]][level - 1]\n",
    "                if self.ancestors[node][level] != -1:\n",
    "                    still_pending.append(node)\n",
    "            pending, level = still_pending, level + 1\n",
    "\n",
    "    def getKthAncestor(self, node: int, K: int) -> int:\n",
    "        while K > 0 and node != -1:\n",
    "            jump = int(math.log2(K))\n",
    "            node = self.ancestors[node][jump]\n",
    "            K -= 1 << jump # k - (2 ** jump)\n",
    "\n",
    "        return node\n",
    "\n",
    "# Testing the solution\n",
    "tree_ancestor = TreeAncestor(7, [-1, 0, 0, 1, 1, 2, 2])\n",
    "assert tree_ancestor.getKthAncestor(5, 2) == 0\n",
    "assert tree_ancestor.getKthAncestor(6, 3) == -1\n",
    "assert tree_ancestor.getKthAncestor(6, 0) == 6\n",
    "assert tree_ancestor.getKthAncestor(6, 9) == -1"
   ]
  }
 ],
 "metadata": {
  "kernelspec": {
   "display_name": "Python 3 (ipykernel)",
   "language": "python",
   "name": "python3"
  },
  "language_info": {
   "codemirror_mode": {
    "name": "ipython",
    "version": 3
   },
   "file_extension": ".py",
   "mimetype": "text/x-python",
   "name": "python",
   "nbconvert_exporter": "python",
   "pygments_lexer": "ipython3",
   "version": "3.11.9"
  },
  "papermill": {
   "default_parameters": {},
   "duration": 2.266956,
   "end_time": "2024-07-21T14:10:01.596682",
   "environment_variables": {},
   "exception": null,
   "input_path": "practice/006.ipynb",
   "output_path": "practice/006.ipynb",
   "parameters": {},
   "start_time": "2024-07-21T14:09:59.329726",
   "version": "2.6.0"
  }
 },
 "nbformat": 4,
 "nbformat_minor": 5
}
