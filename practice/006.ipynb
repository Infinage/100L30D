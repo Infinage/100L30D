{
 "cells": [
  {
   "cell_type": "code",
   "execution_count": 1,
   "id": "1dbda701",
   "metadata": {
    "execution": {
     "iopub.execute_input": "2024-07-23T17:41:04.243444Z",
     "iopub.status.busy": "2024-07-23T17:41:04.243214Z",
     "iopub.status.idle": "2024-07-23T17:41:04.598898Z",
     "shell.execute_reply": "2024-07-23T17:41:04.598288Z"
    },
    "papermill": {
     "duration": 0.36466,
     "end_time": "2024-07-23T17:41:04.600430",
     "exception": false,
     "start_time": "2024-07-23T17:41:04.235770",
     "status": "completed"
    },
    "tags": []
   },
   "outputs": [],
   "source": [
    "from typing import List, Optional, Generator\n",
    "import pandas as pd\n",
    "import numpy as np\n",
    "import sqlite3\n",
    "import re\n",
    "import io\n",
    "import math\n",
    "import collections\n",
    "import itertools\n",
    "import functools\n",
    "import random\n",
    "import string\n",
    "import tqdm\n",
    "import bisect\n",
    "import heapq\n",
    "\n",
    "conn = sqlite3.connect(\":memory:\")\n",
    "\n",
    "def regexp(expr, item):\n",
    "    reg = re.compile(expr)\n",
    "    return reg.search(item) is not None\n",
    "\n",
    "def read_lc_df(s: str, dtypes: dict[str, str]=dict()) -> pd.DataFrame:\n",
    "    temp = pd.read_csv(io.StringIO(s), sep=\"|\", skiprows=2)\n",
    "    temp = temp.iloc[1:-1, 1:-1]\n",
    "    temp.columns = temp.columns.map(str.strip)\n",
    "    temp = temp.map(lambda x: x if type(x) != str else None if x.strip() == 'null' else x.strip())\n",
    "    temp = temp.astype(dtypes)\n",
    "    return temp\n",
    "\n",
    "conn.create_function(\"REGEXP\", 2, regexp)"
   ]
  },
  {
   "cell_type": "markdown",
   "id": "a161421c",
   "metadata": {
    "papermill": {
     "duration": 0.006229,
     "end_time": "2024-07-23T17:41:04.612382",
     "exception": false,
     "start_time": "2024-07-23T17:41:04.606153",
     "status": "completed"
    },
    "tags": []
   },
   "source": [
    "#### Helper for Binary tree problems"
   ]
  },
  {
   "cell_type": "code",
   "execution_count": 2,
   "id": "07be0a7b",
   "metadata": {
    "execution": {
     "iopub.execute_input": "2024-07-23T17:41:04.624586Z",
     "iopub.status.busy": "2024-07-23T17:41:04.623907Z",
     "iopub.status.idle": "2024-07-23T17:41:04.631532Z",
     "shell.execute_reply": "2024-07-23T17:41:04.631049Z"
    },
    "lines_to_next_cell": 1,
    "papermill": {
     "duration": 0.015038,
     "end_time": "2024-07-23T17:41:04.632688",
     "exception": false,
     "start_time": "2024-07-23T17:41:04.617650",
     "status": "completed"
    },
    "tags": []
   },
   "outputs": [],
   "source": [
    "class BinaryTreeNode:\n",
    "    def __init__(self, val=0, left=None, right=None):\n",
    "        self.val = val\n",
    "        self.left = left\n",
    "        self.right = right\n",
    "\n",
    "    def to_list(self):\n",
    "        to_visit = [self]\n",
    "        visited = []\n",
    "        while len(to_visit) > 0:\n",
    "            curr = to_visit.pop(0)\n",
    "            if curr:\n",
    "                to_visit.append(curr.left)\n",
    "                to_visit.append(curr.right)\n",
    "                visited.append(curr.val)\n",
    "            else:\n",
    "                visited.append(curr)\n",
    "\n",
    "        while visited and not visited[-1]:\n",
    "            visited.pop()\n",
    "\n",
    "        return visited\n",
    "\n",
    "    def __str__(self):\n",
    "        return str(self.val)\n",
    "\n",
    "    @staticmethod\n",
    "    def from_array(nums: list[int|None]):\n",
    "        '''Create a Tree from a list of nums. Returns the root node.'''\n",
    "        if len(nums) == 0:\n",
    "            return None\n",
    "        elif len(nums) == 1:\n",
    "            return BinaryTreeNode(nums[0])\n",
    "        else:\n",
    "            forest = [BinaryTreeNode(nums[0])]\n",
    "            parent_idx = -1\n",
    "            for i in range(1, len(nums)):\n",
    "\n",
    "                curr = None\n",
    "                if nums[i] is not None:\n",
    "                    curr = BinaryTreeNode(nums[i])\n",
    "                    forest.append(curr)\n",
    "\n",
    "                if i % 2 == 1:\n",
    "                    parent_idx += 1\n",
    "                    forest[parent_idx].left = curr\n",
    "                else:\n",
    "                    forest[parent_idx].right = curr\n",
    "\n",
    "        return forest[0]"
   ]
  },
  {
   "cell_type": "markdown",
   "id": "6e9c13aa",
   "metadata": {
    "papermill": {
     "duration": 0.005357,
     "end_time": "2024-07-23T17:41:04.643608",
     "exception": false,
     "start_time": "2024-07-23T17:41:04.638251",
     "status": "completed"
    },
    "tags": []
   },
   "source": [
    "#### Helper for Singly Linked lists"
   ]
  },
  {
   "cell_type": "code",
   "execution_count": 3,
   "id": "6abb9392",
   "metadata": {
    "execution": {
     "iopub.execute_input": "2024-07-23T17:41:04.655774Z",
     "iopub.status.busy": "2024-07-23T17:41:04.655303Z",
     "iopub.status.idle": "2024-07-23T17:41:04.659954Z",
     "shell.execute_reply": "2024-07-23T17:41:04.659517Z"
    },
    "lines_to_next_cell": 1,
    "papermill": {
     "duration": 0.012115,
     "end_time": "2024-07-23T17:41:04.661118",
     "exception": false,
     "start_time": "2024-07-23T17:41:04.649003",
     "status": "completed"
    },
    "tags": []
   },
   "outputs": [],
   "source": [
    "class ListNode:\n",
    "    def __init__(self, val=0, next=None):\n",
    "        self.val = val\n",
    "        self.next = next\n",
    "\n",
    "    def __str__(self):\n",
    "        return str(self.val)\n",
    "\n",
    "    @staticmethod\n",
    "    def to_singly_linked_list(nums: list[int]):\n",
    "        root = prev = None\n",
    "        for n in nums:\n",
    "            curr = ListNode(n)\n",
    "            # Init once\n",
    "            if not root:\n",
    "                root = curr\n",
    "            if prev:\n",
    "                prev.next = curr\n",
    "            prev = curr\n",
    "\n",
    "        return root\n",
    "\n",
    "    def to_list(self) -> list[int]:\n",
    "        result = []\n",
    "        curr = self\n",
    "        while curr:\n",
    "            result.append(curr.val)\n",
    "            curr = curr.next\n",
    "        return result"
   ]
  },
  {
   "cell_type": "markdown",
   "id": "4f436676",
   "metadata": {
    "papermill": {
     "duration": 0.005259,
     "end_time": "2024-07-23T17:41:04.671771",
     "exception": false,
     "start_time": "2024-07-23T17:41:04.666512",
     "status": "completed"
    },
    "tags": []
   },
   "source": [
    "Codeforces Practice"
   ]
  },
  {
   "cell_type": "code",
   "execution_count": 4,
   "id": "8f687e9e",
   "metadata": {
    "execution": {
     "iopub.execute_input": "2024-07-23T17:41:04.683985Z",
     "iopub.status.busy": "2024-07-23T17:41:04.683387Z",
     "iopub.status.idle": "2024-07-23T17:41:04.696231Z",
     "shell.execute_reply": "2024-07-23T17:41:04.695763Z"
    },
    "lines_to_next_cell": 1,
    "papermill": {
     "duration": 0.020344,
     "end_time": "2024-07-23T17:41:04.697424",
     "exception": false,
     "start_time": "2024-07-23T17:41:04.677080",
     "status": "completed"
    },
    "tags": []
   },
   "outputs": [],
   "source": [
    "def pair_of_numbers(N: int, nums: list[int]) -> tuple[int, int, list[int]]:\n",
    "    \"\"\"\n",
    "    Starting at index, check how far right you can go. Repeat same step on the leftwards direction.\n",
    "    Combine the left and right to get the actual window that index i can cover (where nums[i] is the gcd and divides all)\n",
    "\n",
    "    Problem occurs where there are duplicates where we skip those numbers since it was already covered in the window. Backward\n",
    "    pass travels in the opp direction and we might end up missing the proper range.\n",
    "\n",
    "    For eg:   2, 3, 1, 1, 3\n",
    "    Forward:  0  0  3  0  0\n",
    "    Backward: 0  0  0  4  0\n",
    "\n",
    "    We could choose to ignore duplicates but that would miss nonoverlapping ranges\n",
    "    We could try merging intervals but it wouldn't be trivial and we would need to merge only cases where the values match (need to lookback the entire length making it N^2)\n",
    "\n",
    "    Simpler approach is to store the duplicates into an array and fill it in when we update i.\n",
    "    \"\"\"\n",
    "\n",
    "    # Forward pass\n",
    "    forward: dict[int, int] = {i: i for i in range(N)}\n",
    "    i = j = 0\n",
    "    match: list[int] = []\n",
    "    while j <= N:\n",
    "        if j < N and nums[j] % nums[i] == 0:\n",
    "            if nums[j] == nums[i]:\n",
    "                match.append(j)\n",
    "            forward[i], j = j, j + 1\n",
    "        else:\n",
    "            for k in match:\n",
    "                forward[k] = forward[i]\n",
    "            i, j, match = j, j + 1, []\n",
    "\n",
    "    # Backward pass\n",
    "    backward: dict[int, int] = {i: i for i in range(N)}\n",
    "    i = j = N - 1\n",
    "    match = []\n",
    "    while j >= -1:\n",
    "        if j >= 0 and nums[j] % nums[i] == 0:\n",
    "            if nums[j] == nums[i]:\n",
    "                match.append(j)\n",
    "            backward[i], j = j, j - 1\n",
    "        else:\n",
    "            for k in match:\n",
    "                backward[k] = backward[i]\n",
    "            i, j, match = j, j - 1, []\n",
    "\n",
    "    # Merge both passes and store to a map seperated by distance\n",
    "    valid_pairs: collections.defaultdict[int, set[int]] = collections.defaultdict(set)\n",
    "    max_: int = 0\n",
    "    for i in range(N):\n",
    "        diff = forward[i] - backward[i]\n",
    "        valid_pairs[diff].add(backward[i] + 1)\n",
    "        max_ = max(max_, diff)\n",
    "\n",
    "    return len(valid_pairs[max_]), max_, sorted(valid_pairs[max_])\n",
    "\n",
    "# Testing the solution\n",
    "assert pair_of_numbers(9, [2,4,3,6,9,8,10,2,4]) == (1, 3, [6])\n",
    "assert pair_of_numbers(5, [4,6,9,3,6]) == (1, 3, [2])\n",
    "assert pair_of_numbers(5, [1,3,5,7,9]) == (1, 4, [1])\n",
    "assert pair_of_numbers(5, [2,3,5,7,11]) == (5, 0, [1,2,3,4,5])\n",
    "assert pair_of_numbers(5, [1,2,3,2,1]) == (1, 4, [1])\n",
    "assert pair_of_numbers(5, [2,4,1,1,2]) == (1, 4, [1])\n",
    "\n",
    "# Good substrings - 271D\n",
    "class Trie:\n",
    "    def __init__(self, end: bool = False) -> None:\n",
    "        self.nodes: dict[str, 'Trie'] = dict()\n",
    "        self.end = end\n",
    "\n",
    "    def __getitem__(self, ch: str) -> 'Trie':\n",
    "        self.nodes[ch] = self.nodes.get(ch, Trie())\n",
    "        return self.nodes[ch]\n",
    "\n",
    "def good_substrings(S: str, good_chars_: str, K: int) -> int:\n",
    "    N, count = len(S), 0\n",
    "    good_chars: set[str] = {chr(ord('a') + i) for i in range(26) if good_chars_[i] == '1'}\n",
    "    root: Trie = Trie()\n",
    "    for i in range(N):\n",
    "        k_, curr = K, root\n",
    "        for j in range(i, N):\n",
    "            if S[j] not in good_chars:\n",
    "                k_ -= 1\n",
    "            if k_ >= 0:\n",
    "                curr = curr[S[j]]\n",
    "                count += not curr.end\n",
    "                curr.end = True\n",
    "            else:\n",
    "                break\n",
    "\n",
    "    return count\n",
    "\n",
    "# Testing the solution\n",
    "assert good_substrings(\"ababab\", \"01000000000000000000000000\", 1) == 5\n",
    "assert good_substrings(\"acbacbacaa\", \"00000000000000000000000000\", 2) == 8"
   ]
  },
  {
   "cell_type": "markdown",
   "id": "711735e2",
   "metadata": {
    "papermill": {
     "duration": 0.005277,
     "end_time": "2024-07-23T17:41:04.708164",
     "exception": false,
     "start_time": "2024-07-23T17:41:04.702887",
     "status": "completed"
    },
    "tags": []
   },
   "source": [
    "LC POTD"
   ]
  },
  {
   "cell_type": "code",
   "execution_count": 5,
   "id": "aec51cad",
   "metadata": {
    "execution": {
     "iopub.execute_input": "2024-07-23T17:41:04.720342Z",
     "iopub.status.busy": "2024-07-23T17:41:04.719837Z",
     "iopub.status.idle": "2024-07-23T17:41:04.725856Z",
     "shell.execute_reply": "2024-07-23T17:41:04.725398Z"
    },
    "lines_to_next_cell": 1,
    "papermill": {
     "duration": 0.013286,
     "end_time": "2024-07-23T17:41:04.726872",
     "exception": false,
     "start_time": "2024-07-23T17:41:04.713586",
     "status": "completed"
    },
    "tags": []
   },
   "outputs": [],
   "source": [
    "# https://leetcode.com/problems/create-binary-tree-from-descriptions/submissions/1321920493/?envType=daily-question&envId=2024-07-15\n",
    "def createBinaryTree(descriptions: list[list[int]]) -> BinaryTreeNode:\n",
    "    \"\"\"Node without parent is the root\"\"\"\n",
    "    # Create the binary tree\n",
    "    nodes_dict: dict[int, BinaryTreeNode] = dict()\n",
    "    parents: set[int] = set()\n",
    "    children: set[int] = set()\n",
    "    for parent, child, direction in descriptions:\n",
    "        p_node, c_node = nodes_dict.get(parent, BinaryTreeNode(parent)), nodes_dict.get(child, BinaryTreeNode(child))\n",
    "        nodes_dict[parent], nodes_dict[child] = p_node, c_node\n",
    "\n",
    "        if direction == 1:\n",
    "            p_node.left = c_node\n",
    "        else:\n",
    "            p_node.right = c_node\n",
    "\n",
    "        if parent not in children:\n",
    "            parents.add(parent)\n",
    "        if child in parents:\n",
    "            parents.remove(child)\n",
    "        children.add(child)\n",
    "\n",
    "    assert len(parents) == 1\n",
    "    return nodes_dict[parents.pop()]\n",
    "\n",
    "# Testing the solution\n",
    "assert createBinaryTree([[20,15,1],[20,17,0],[50,20,1],[50,80,0],[80,19,1]]).to_list() == [50,20,80,15,17,19]\n",
    "assert createBinaryTree([[1,2,1],[2,3,0],[3,4,1]]).to_list() == [1,2,None,None,3,4]"
   ]
  },
  {
   "cell_type": "markdown",
   "id": "c157b54c",
   "metadata": {
    "papermill": {
     "duration": 0.005263,
     "end_time": "2024-07-23T17:41:04.737626",
     "exception": false,
     "start_time": "2024-07-23T17:41:04.732363",
     "status": "completed"
    },
    "tags": []
   },
   "source": [
    "KMP Algorithm"
   ]
  },
  {
   "cell_type": "code",
   "execution_count": 6,
   "id": "3898dc59",
   "metadata": {
    "execution": {
     "iopub.execute_input": "2024-07-23T17:41:04.749715Z",
     "iopub.status.busy": "2024-07-23T17:41:04.749244Z",
     "iopub.status.idle": "2024-07-23T17:41:04.753527Z",
     "shell.execute_reply": "2024-07-23T17:41:04.753055Z"
    },
    "lines_to_next_cell": 1,
    "papermill": {
     "duration": 0.011684,
     "end_time": "2024-07-23T17:41:04.754628",
     "exception": false,
     "start_time": "2024-07-23T17:41:04.742944",
     "status": "completed"
    },
    "tags": []
   },
   "outputs": [],
   "source": [
    "def create_lps_array(pattern: str) -> list[int]:\n",
    "    N = len(pattern)\n",
    "    pi: list[int] = [0] * N\n",
    "    j = 0\n",
    "    for i in range(1, N):\n",
    "        while pattern[j] != pattern[i] and j > 0:\n",
    "            j = pi[j - 1]\n",
    "        if pattern[i] == pattern[j]:\n",
    "            j += 1\n",
    "        pi[i] = j\n",
    "\n",
    "    return pi\n",
    "\n",
    "# Testing the solution\n",
    "assert create_lps_array(\"abcdabc\") == [0, 0, 0, 0, 1, 2, 3]"
   ]
  },
  {
   "cell_type": "markdown",
   "id": "0ee5d9b0",
   "metadata": {
    "papermill": {
     "duration": 0.005259,
     "end_time": "2024-07-23T17:41:04.765278",
     "exception": false,
     "start_time": "2024-07-23T17:41:04.760019",
     "status": "completed"
    },
    "tags": []
   },
   "source": [
    "Codeforces Practice"
   ]
  },
  {
   "cell_type": "code",
   "execution_count": 7,
   "id": "b252c334",
   "metadata": {
    "execution": {
     "iopub.execute_input": "2024-07-23T17:41:04.777173Z",
     "iopub.status.busy": "2024-07-23T17:41:04.776647Z",
     "iopub.status.idle": "2024-07-23T17:41:04.783747Z",
     "shell.execute_reply": "2024-07-23T17:41:04.783289Z"
    },
    "lines_to_next_cell": 1,
    "papermill": {
     "duration": 0.014358,
     "end_time": "2024-07-23T17:41:04.784873",
     "exception": false,
     "start_time": "2024-07-23T17:41:04.770515",
     "status": "completed"
    },
    "tags": []
   },
   "outputs": [],
   "source": [
    "def longest_prefix_suffix_palindome(S: str) -> str:\n",
    "    def KMP(pattern: str) -> list[int]:\n",
    "        pattern_length = len(pattern)\n",
    "        pi: list[int] = [0] * pattern_length\n",
    "        j = 0\n",
    "        for i in range(1, pattern_length):\n",
    "            while pattern[i] != pattern[j] and j > 0:\n",
    "                j = pi[j - 1]\n",
    "            if pattern[i] == pattern[j]:\n",
    "                j += 1\n",
    "            pi[i] = j\n",
    "\n",
    "        return pi\n",
    "\n",
    "    N = len(S)\n",
    "    i, j = 0, N - 1\n",
    "\n",
    "    # Find greatest k such that S[0..k] + S[N - k - 1.. N - 1] is a palindrome\n",
    "    k = 0\n",
    "    for k in range(N // 2):\n",
    "        if S[k] != S[N - k - 1]:\n",
    "            break\n",
    "\n",
    "    # Find longest prefix-suffix of S[k..N-k-1]\n",
    "    middle = S[k: N - k]\n",
    "    lps = middle[:KMP(middle + '#' + middle[::-1])[-1]]\n",
    "\n",
    "    # Find longest prefix-suffix of reversed(S[k..N-k-1])\n",
    "    middle_reversed = middle[::-1]\n",
    "    lps_reversed = middle_reversed[:KMP(middle_reversed + '#' + middle_reversed[::-1])[-1]]\n",
    "\n",
    "    return S[:k] + (lps if len(lps) > len(lps_reversed) else lps_reversed[::-1]) + S[N - k:]\n",
    "\n",
    "# Testing the solution\n",
    "assert len(longest_prefix_suffix_palindome(\"abcdfdcecba\")) == len(\"abcdfdcba\")\n",
    "assert len(longest_prefix_suffix_palindome(\"abbaxyzyx\")) == len(\"xyzyx\")\n",
    "assert len(longest_prefix_suffix_palindome(\"acbba\")) == len(\"abba\")\n",
    "assert len(longest_prefix_suffix_palindome(\"a\")) == len(\"a\")\n",
    "assert len(longest_prefix_suffix_palindome(\"codeforces\")) == len(\"c\")"
   ]
  },
  {
   "cell_type": "markdown",
   "id": "e6f93b0e",
   "metadata": {
    "papermill": {
     "duration": 0.005343,
     "end_time": "2024-07-23T17:41:04.795765",
     "exception": false,
     "start_time": "2024-07-23T17:41:04.790422",
     "status": "completed"
    },
    "tags": []
   },
   "source": [
    "#### LC Practice - Strings - KMP"
   ]
  },
  {
   "cell_type": "code",
   "execution_count": 8,
   "id": "7cdab853",
   "metadata": {
    "execution": {
     "iopub.execute_input": "2024-07-23T17:41:04.808069Z",
     "iopub.status.busy": "2024-07-23T17:41:04.807590Z",
     "iopub.status.idle": "2024-07-23T17:41:04.813626Z",
     "shell.execute_reply": "2024-07-23T17:41:04.813074Z"
    },
    "lines_to_next_cell": 1,
    "papermill": {
     "duration": 0.013633,
     "end_time": "2024-07-23T17:41:04.814827",
     "exception": false,
     "start_time": "2024-07-23T17:41:04.801194",
     "status": "completed"
    },
    "tags": []
   },
   "outputs": [],
   "source": [
    "# LC: https://leetcode.com/problems/find-the-index-of-the-first-occurrence-in-a-string/\n",
    "def strStr(haystack: str, needle: str) -> int:\n",
    "    def create_lps(pattern: str, M: int) -> list[int]:\n",
    "        j = 0\n",
    "        lps = [0] * M\n",
    "        for i in range(1, M):\n",
    "            while pattern[i] != pattern[j] and j > 0:\n",
    "                j = lps[j - 1]\n",
    "            if pattern[i] == pattern[j]:\n",
    "                j += 1\n",
    "            lps[i] = j\n",
    "\n",
    "        return lps\n",
    "\n",
    "    N, M = len(haystack), len(needle)\n",
    "    lps = create_lps(needle, M)\n",
    "    j = 0\n",
    "    for i in range(N):\n",
    "        while haystack[i] != needle[j] and j > 0:\n",
    "            j = lps[j - 1]\n",
    "        if haystack[i] == needle[j]:\n",
    "            j += 1\n",
    "        if j >= M:\n",
    "            return i - j + 1\n",
    "\n",
    "    return -1\n",
    "\n",
    "# Testing the solution\n",
    "assert strStr(\"asabadzabababababaaababaabba\", \"abababab\") == 7"
   ]
  },
  {
   "cell_type": "code",
   "execution_count": 9,
   "id": "5232f86f",
   "metadata": {
    "execution": {
     "iopub.execute_input": "2024-07-23T17:41:04.827433Z",
     "iopub.status.busy": "2024-07-23T17:41:04.826931Z",
     "iopub.status.idle": "2024-07-23T17:41:04.832875Z",
     "shell.execute_reply": "2024-07-23T17:41:04.832293Z"
    },
    "lines_to_next_cell": 1,
    "papermill": {
     "duration": 0.013498,
     "end_time": "2024-07-23T17:41:04.834036",
     "exception": false,
     "start_time": "2024-07-23T17:41:04.820538",
     "status": "completed"
    },
    "tags": []
   },
   "outputs": [],
   "source": [
    "# https://leetcode.com/problems/repeated-substring-pattern/\n",
    "def repeatedSubstringPattern(S: str) -> bool:\n",
    "    def create_lps(pattern: str) -> list[int]:\n",
    "        pattern_length, j = len(pattern), 0\n",
    "        lps: list[int] = [0] * pattern_length\n",
    "        for i in range(1, pattern_length):\n",
    "            while pattern[i] != pattern[j] and j > 0:\n",
    "                j = lps[j - 1]\n",
    "            if pattern[i] == pattern[j]:\n",
    "                j += 1\n",
    "            lps[i] = j\n",
    "\n",
    "        return lps\n",
    "\n",
    "    # Create LPS, find the longest repeating pattern length\n",
    "    # Ensure that the pattern repeats itself\n",
    "    N = len(S)\n",
    "    lps = create_lps(S)\n",
    "    repeat_str_length = N - lps[-1]\n",
    "\n",
    "    for i in range(N):\n",
    "        if S[i % repeat_str_length] != S[i]:\n",
    "            return False\n",
    "    return (repeat_str_length < N) and (N % repeat_str_length == 0)\n",
    "\n",
    "# Testing the solution\n",
    "assert repeatedSubstringPattern(\"acbaaacbaa\") == repeatedSubstringPattern(\"aaabbaaabb\") == True\n",
    "assert repeatedSubstringPattern(\"abcabcabc\") == repeatedSubstringPattern(\"abaababaab\") == True\n",
    "assert repeatedSubstringPattern(\"abcabcabz\") == repeatedSubstringPattern(\"aba\") == False"
   ]
  },
  {
   "cell_type": "code",
   "execution_count": 10,
   "id": "301b862f",
   "metadata": {
    "execution": {
     "iopub.execute_input": "2024-07-23T17:41:04.846161Z",
     "iopub.status.busy": "2024-07-23T17:41:04.845718Z",
     "iopub.status.idle": "2024-07-23T17:41:04.853616Z",
     "shell.execute_reply": "2024-07-23T17:41:04.853061Z"
    },
    "lines_to_next_cell": 1,
    "papermill": {
     "duration": 0.015217,
     "end_time": "2024-07-23T17:41:04.854779",
     "exception": false,
     "start_time": "2024-07-23T17:41:04.839562",
     "status": "completed"
    },
    "tags": []
   },
   "outputs": [],
   "source": [
    "# TLE :(\n",
    "def watto_mechanism_trie(input_patterns: list[str], search_patterns: list[str]) -> list[bool]:\n",
    "    class TrieNode:\n",
    "        def __init__(self, end: bool = False):\n",
    "            self.nodes: collections.defaultdict[str, 'TrieNode'] = collections.defaultdict(TrieNode)\n",
    "            self.end: bool = end\n",
    "\n",
    "        def __getitem__(self, ch: str) -> 'TrieNode':\n",
    "            return self.nodes[ch]\n",
    "\n",
    "    def search(string: str) -> bool:\n",
    "        N = len(string)\n",
    "        stack: list[tuple[TrieNode, int, bool]] = [(ROOT, 0, True)]\n",
    "        while stack:\n",
    "            curr, idx, editable = stack.pop()\n",
    "            if idx == N:\n",
    "                if not editable and curr.end:\n",
    "                    return True\n",
    "            else:\n",
    "                for next_ch in ['a', 'b', 'c']:\n",
    "                    if next_ch in curr.nodes:\n",
    "                        if next_ch == string[idx]:\n",
    "                            stack.append((curr[next_ch], idx + 1, editable))\n",
    "                        elif next_ch != string[idx] and editable:\n",
    "                            stack.append((curr[next_ch], idx + 1, False))\n",
    "        return False\n",
    "\n",
    "    # Convert the input patterns into a trie data strucute\n",
    "    ROOT = TrieNode()\n",
    "    for inp in input_patterns:\n",
    "        curr = ROOT\n",
    "        for ch in inp:\n",
    "            curr = curr[ch]\n",
    "        curr.end = True\n",
    "\n",
    "    results: list[bool] = []\n",
    "    for search_pattern in search_patterns:\n",
    "        results.append(search(search_pattern))\n",
    "\n",
    "    return results\n",
    "\n",
    "# Testing the solution\n",
    "assert watto_mechanism_trie([\"aaaaa\", \"acacaca\"], [\"aabaa\", \"ccacacc\", \"caaac\"]) == [True, False, False]\n",
    "assert watto_mechanism_trie([\"acbacbacb\"], [\"cbacbacb\", \"acbacbac\", \"aacbacbacb\", \"acbacbacbb\", \"acbaabacb\"]) == [False, False, False, False, True]\n",
    "assert watto_mechanism_trie([\"ab\", \"cacab\", \"cbabc\", \"acc\", \"cacab\"], [\"abc\", \"aa\", \"acbca\", \"cb\"]) == [True, True, False, True]"
   ]
  },
  {
   "cell_type": "code",
   "execution_count": 11,
   "id": "f6731b9c",
   "metadata": {
    "execution": {
     "iopub.execute_input": "2024-07-23T17:41:04.867174Z",
     "iopub.status.busy": "2024-07-23T17:41:04.866649Z",
     "iopub.status.idle": "2024-07-23T17:41:04.874116Z",
     "shell.execute_reply": "2024-07-23T17:41:04.873557Z"
    },
    "lines_to_next_cell": 1,
    "papermill": {
     "duration": 0.01487,
     "end_time": "2024-07-23T17:41:04.875278",
     "exception": false,
     "start_time": "2024-07-23T17:41:04.860408",
     "status": "completed"
    },
    "tags": []
   },
   "outputs": [],
   "source": [
    "def watto_mechanism(input_patterns: list[str], search_patterns: list[str]) -> list[bool]:\n",
    "    \"\"\"\n",
    "    Idea from editorial:\n",
    "        1. Compute and store the polynomial rolling hashes for each of the input_patterns\n",
    "        2. For each search string, compute possibilities and check if they exist in the hash\n",
    "    \"\"\"\n",
    "\n",
    "    # Constants for polynomial rolling hash\n",
    "    P, M = 257, 2 ** 61 + 7\n",
    "\n",
    "    def poly_hash(string: str) -> int:\n",
    "        nonlocal P, M\n",
    "        N, hash_val, p_ = len(string), 0, 1\n",
    "        for i in range(N):\n",
    "            hash_val = (hash_val + (ord(string[i]) * p_)) % M\n",
    "            p_ = (p_ * P) % M\n",
    "        return hash_val\n",
    "\n",
    "    def search(string: str) -> bool:\n",
    "        nonlocal P, M\n",
    "        N, hash_val, p_ = len(string), poly_hash(string), 1\n",
    "        for i in range(N):\n",
    "            for ch in ('a', 'b', 'c'):\n",
    "                modified_hash = (hash_val + (ord(ch) - ord(string[i])) * p_) % M\n",
    "                if ch != string[i] and modified_hash in hashes:\n",
    "                    return True\n",
    "            p_ = (p_ * P) % M\n",
    "        return False\n",
    "\n",
    "    # Store all the input strs as poly hashes\n",
    "    hashes: set[int] = set()\n",
    "    for inp in input_patterns:\n",
    "        hashes.add(poly_hash(inp))\n",
    "\n",
    "    # Iterate through the search strings, compute all hashes for all combinations in O(1) time\n",
    "    results: list[bool] = []\n",
    "    for inp in search_patterns:\n",
    "        results.append(search(inp))\n",
    "\n",
    "    return results\n",
    "\n",
    "# Testing the solution\n",
    "assert watto_mechanism([\"aaaaa\", \"acacaca\"], [\"aabaa\", \"ccacacc\", \"caaac\"]) == [True, False, False]\n",
    "assert watto_mechanism([\"acbacbacb\"], [\"cbacbacb\", \"acbacbac\", \"aacbacbacb\", \"acbacbacbb\", \"acbaabacb\"]) == [False, False, False, False, True]\n",
    "assert watto_mechanism([\"ab\", \"cacab\", \"cbabc\", \"acc\", \"cacab\"], [\"abc\", \"aa\", \"acbca\", \"cb\"]) == [True, True, False, True]"
   ]
  },
  {
   "cell_type": "markdown",
   "id": "45e647a3",
   "metadata": {
    "papermill": {
     "duration": 0.005324,
     "end_time": "2024-07-23T17:41:04.886283",
     "exception": false,
     "start_time": "2024-07-23T17:41:04.880959",
     "status": "completed"
    },
    "tags": []
   },
   "source": [
    "Codeforces Practice"
   ]
  },
  {
   "cell_type": "code",
   "execution_count": 12,
   "id": "20dc1c55",
   "metadata": {
    "execution": {
     "iopub.execute_input": "2024-07-23T17:41:04.898222Z",
     "iopub.status.busy": "2024-07-23T17:41:04.897777Z",
     "iopub.status.idle": "2024-07-23T17:41:04.903187Z",
     "shell.execute_reply": "2024-07-23T17:41:04.902734Z"
    },
    "lines_to_next_cell": 1,
    "papermill": {
     "duration": 0.012625,
     "end_time": "2024-07-23T17:41:04.904213",
     "exception": false,
     "start_time": "2024-07-23T17:41:04.891588",
     "status": "completed"
    },
    "tags": []
   },
   "outputs": [],
   "source": [
    "def palindrome_degree(string: str) -> int:\n",
    "    \"\"\"\n",
    "    Iterate through string, check if current substr is a palindrome.\n",
    "    If it is, degree equals degree[substr // 2] + 1.\n",
    "    Assume degree[substr // 2] if not found as 0.\n",
    "    Return sum of all degrees.\n",
    "\n",
    "    Checking if substr is a palindrome, check if prefix_hash hash(S[i..j]) == rev_prefix_hash hash(S[j..i])\n",
    "\n",
    "    PREFIX_HASH = sum(ord(s[i]) * p ** i)\n",
    "        abc: a + bP + cP^2\n",
    "\n",
    "    REV_PREFIX_HASH is a little tricky but when running in a loop it is pretty simple\n",
    "        abc: (rev_prefix_hash * P) + ord(s[i])\n",
    "            a -> a\n",
    "            b -> aP + b\n",
    "            c -> aP^2 + bP + c\n",
    "    \"\"\"\n",
    "    # Paramaters for rolling hash\n",
    "    P, M = 257, 2**61 - 1\n",
    "\n",
    "    N = len(string)\n",
    "    degree: list[int] = [0 for i in range(N)]\n",
    "    prefix_hash = rev_prefix_hash = ord(string[0])\n",
    "    total_degree = degree[0] = 1\n",
    "    p = P\n",
    "    for i in range(1, N):\n",
    "        prefix_hash, p = (prefix_hash + ord(string[i]) * p) % M, (P * p) % M\n",
    "        rev_prefix_hash = (rev_prefix_hash * P + ord(string[i])) % M\n",
    "        if prefix_hash == rev_prefix_hash:\n",
    "            degree[i] = degree[(i - 1) // 2] + 1\n",
    "            total_degree += degree[i]\n",
    "\n",
    "    return total_degree\n",
    "\n",
    "# Testing the solution\n",
    "assert palindrome_degree(\"a2A\") == 1\n",
    "assert palindrome_degree(\"abacaba\") == 6"
   ]
  },
  {
   "cell_type": "code",
   "execution_count": 13,
   "id": "bd066408",
   "metadata": {
    "execution": {
     "iopub.execute_input": "2024-07-23T17:41:04.916131Z",
     "iopub.status.busy": "2024-07-23T17:41:04.915763Z",
     "iopub.status.idle": "2024-07-23T17:41:04.922774Z",
     "shell.execute_reply": "2024-07-23T17:41:04.922255Z"
    },
    "lines_to_next_cell": 1,
    "papermill": {
     "duration": 0.014103,
     "end_time": "2024-07-23T17:41:04.923820",
     "exception": false,
     "start_time": "2024-07-23T17:41:04.909717",
     "status": "completed"
    },
    "tags": []
   },
   "outputs": [],
   "source": [
    "def spy_syndrome2(secret: str, words: list[str]) -> str:\n",
    "    # Parameters for rolling Hash\n",
    "    P, M = 257, 10**9 + 7\n",
    "\n",
    "    def poly_hash(string: str) -> int:\n",
    "        nonlocal P, M\n",
    "        word_length, hash_value, p = len(string), 0, 1\n",
    "        for i in range(word_length):\n",
    "            hash_value, p = (hash_value + p * ord(string[i].lower())) % M, (p * P) % M\n",
    "\n",
    "        return hash_value\n",
    "\n",
    "    # Store the list of words as hashes\n",
    "    hashes: dict[int, str] = dict()\n",
    "    for word in words:\n",
    "        hashes[poly_hash(word)] = word\n",
    "\n",
    "    # Compute the rev prefix hash as we iterate through the secret, if\n",
    "    # match found reset and add to list of words found, note that we\n",
    "    # might need to backtrack which is handled by the stack code here!\n",
    "    result: list[str] = []\n",
    "    secret_length = len(secret)\n",
    "    stack: list[tuple[int, int]] = [(0, 0)]\n",
    "    while stack:\n",
    "        idx, hash_value = stack.pop()\n",
    "        if idx == secret_length:\n",
    "            if hash_value == 0:\n",
    "                break\n",
    "            else:\n",
    "                result.pop()\n",
    "        else:\n",
    "            hash_value = (hash_value * P + ord(secret[idx].lower())) % M\n",
    "            stack.append((idx + 1, hash_value))\n",
    "            if hash_value in hashes:\n",
    "                result.append(hashes[hash_value])\n",
    "                stack.append((idx + 1, 0))\n",
    "\n",
    "    return ' '.join(result)\n",
    "\n",
    "# Testing the solution\n",
    "assert spy_syndrome2(\"ariksihsidlihcdnaehsetahgnisol\", [\"Kira\", \"hates\", \"is\", \"he\", \"losing\", \"death\", \"childish\", \"L\", \"and\", \"Note\"]) == \"Kira is childish and he hates losing\"\n",
    "assert spy_syndrome2(\"iherehtolleh\", [\"HI\", \"Ho\", \"there\", \"HeLLo\", \"hello\"]).lower() == \"HI there HeLLo\".lower()\n",
    "assert spy_syndrome2(\"ababaaba\", [\"aba\", \"ababa\"]) == \"ababa aba\""
   ]
  },
  {
   "cell_type": "markdown",
   "id": "a4ef7399",
   "metadata": {
    "papermill": {
     "duration": 0.00541,
     "end_time": "2024-07-23T17:41:04.934902",
     "exception": false,
     "start_time": "2024-07-23T17:41:04.929492",
     "status": "completed"
    },
    "tags": []
   },
   "source": [
    "Codeforces Practice"
   ]
  },
  {
   "cell_type": "code",
   "execution_count": 14,
   "id": "bc104a4b",
   "metadata": {
    "execution": {
     "iopub.execute_input": "2024-07-23T17:41:04.946824Z",
     "iopub.status.busy": "2024-07-23T17:41:04.946312Z",
     "iopub.status.idle": "2024-07-23T17:41:04.954560Z",
     "shell.execute_reply": "2024-07-23T17:41:04.954002Z"
    },
    "lines_to_next_cell": 1,
    "papermill": {
     "duration": 0.015439,
     "end_time": "2024-07-23T17:41:04.955605",
     "exception": false,
     "start_time": "2024-07-23T17:41:04.940166",
     "status": "completed"
    },
    "tags": []
   },
   "outputs": [],
   "source": [
    "def xor_paths(M: int, N: int, matrix: list[list[int]], K: int) -> int:\n",
    "    \"\"\"\n",
    "    Meet in the middle to reduce the time complexity.\n",
    "    \"\"\"\n",
    "\n",
    "    valid_path_count, max_moves = 0, M + N - 2\n",
    "    counts: collections.defaultdict[tuple[int, int, int], int] = collections.defaultdict(int)\n",
    "\n",
    "    # Starting from (0, 0), make max_moves // 2: travelling right or down\n",
    "    stack: list[tuple[int, int, int, int]] = [(0, 0, 0, 0)]\n",
    "    while stack:\n",
    "        i, j, xor_sum, moves = stack.pop()\n",
    "        xor_sum ^= matrix[i][j]\n",
    "        if moves == max_moves // 2:\n",
    "            counts[i, j, xor_sum] += 1\n",
    "        else:\n",
    "            if i + 1 < M:\n",
    "                stack.append((i + 1, j, xor_sum, moves + 1))\n",
    "            if j + 1 < N:\n",
    "                stack.append((i, j + 1, xor_sum, moves + 1))\n",
    "\n",
    "    # Starting from (M - 1, N - 1), make max_moves - (max_moves // 2): travelling left or up\n",
    "    stack = [(M - 1, N - 1, K, 0)]\n",
    "    while stack:\n",
    "        i, j, xor_sum, moves = stack.pop()\n",
    "        if moves == max_moves - (max_moves // 2):\n",
    "            # In the end counts[i, j, xor_sum] that we reached from the\n",
    "            # front and the end would be such that xor_sum ^ K == 0\n",
    "            valid_path_count += counts[i, j, xor_sum]\n",
    "        else:\n",
    "            if i - 1 >= 0:\n",
    "                stack.append((i - 1, j, xor_sum ^ matrix[i][j], moves + 1))\n",
    "            if j - 1 >= 0:\n",
    "                stack.append((i, j - 1, xor_sum ^ matrix[i][j], moves + 1))\n",
    "\n",
    "    return valid_path_count\n",
    "\n",
    "# Testing the solution\n",
    "assert xor_paths(3, 3, [[2, 1, 5], [7, 10, 0], [12, 6, 4]], 11) == 3\n",
    "assert xor_paths(3, 4, [[1, 3, 3, 3], [0, 3, 3, 2], [3, 0, 1, 1]], 2) == 5\n",
    "assert xor_paths(3, 4, [[1, 3, 3, 3], [0, 3, 3, 2], [3, 0, 1, 1]], 1000000000000000000) == 0"
   ]
  },
  {
   "cell_type": "markdown",
   "id": "f3b79ef1",
   "metadata": {
    "papermill": {
     "duration": 0.005156,
     "end_time": "2024-07-23T17:41:04.966271",
     "exception": false,
     "start_time": "2024-07-23T17:41:04.961115",
     "status": "completed"
    },
    "tags": []
   },
   "source": [
    "CP Easy: Trees"
   ]
  },
  {
   "cell_type": "code",
   "execution_count": 15,
   "id": "79f51e67",
   "metadata": {
    "execution": {
     "iopub.execute_input": "2024-07-23T17:41:04.978110Z",
     "iopub.status.busy": "2024-07-23T17:41:04.977585Z",
     "iopub.status.idle": "2024-07-23T17:41:04.984112Z",
     "shell.execute_reply": "2024-07-23T17:41:04.983582Z"
    },
    "lines_to_next_cell": 1,
    "papermill": {
     "duration": 0.013718,
     "end_time": "2024-07-23T17:41:04.985205",
     "exception": false,
     "start_time": "2024-07-23T17:41:04.971487",
     "status": "completed"
    },
    "tags": []
   },
   "outputs": [],
   "source": [
    "def subordinates(n_employees: int, bosses: list[int]) -> list[int]:\n",
    "    \"\"\"\n",
    "    The recusive solution using cache is trivial, using the\n",
    "    iterative approach to prevent stackoverflow\n",
    "    \"\"\"\n",
    "\n",
    "    subordinate_counts: list[int] = [-1 for i in range(n_employees + 1)]\n",
    "    subordinates: collections.defaultdict[int, list[int]] = collections.defaultdict(list)\n",
    "    for i, boss in enumerate(bosses, start=2):\n",
    "        subordinates[boss].append(i)\n",
    "\n",
    "    # Starting with the director, count subordinates recursively using stack\n",
    "    stack: list[int] = [1]\n",
    "    while stack:\n",
    "        emp, subordinate_count = stack[-1], 0\n",
    "        for subordinate in subordinates[emp]:\n",
    "            if subordinate_counts[subordinate] == -1:\n",
    "                stack.append(subordinate)\n",
    "            else:\n",
    "                subordinate_count += 1 + subordinate_counts[subordinate]\n",
    "        if emp == stack[-1]:\n",
    "            subordinate_counts[emp] = subordinate_count\n",
    "            stack.pop()\n",
    "\n",
    "    return subordinate_counts[1:]\n",
    "\n",
    "# Testing the solution\n",
    "assert subordinates(5, [1, 1, 2, 3]) == [4, 1, 1, 0, 0]\n",
    "assert subordinates(10, [1,1,1,1,1,1,1,1,1]) == [9,0,0,0,0,0,0,0,0,0]\n",
    "assert subordinates(10, [1,2,3,4,5,6,7,8,9]) == [9,8,7,6,5,4,3,2,1,0]"
   ]
  },
  {
   "cell_type": "code",
   "execution_count": 16,
   "id": "74595f0d",
   "metadata": {
    "execution": {
     "iopub.execute_input": "2024-07-23T17:41:04.997173Z",
     "iopub.status.busy": "2024-07-23T17:41:04.996641Z",
     "iopub.status.idle": "2024-07-23T17:41:05.003134Z",
     "shell.execute_reply": "2024-07-23T17:41:05.002582Z"
    },
    "papermill": {
     "duration": 0.01357,
     "end_time": "2024-07-23T17:41:05.004151",
     "exception": false,
     "start_time": "2024-07-23T17:41:04.990581",
     "status": "completed"
    },
    "tags": []
   },
   "outputs": [],
   "source": [
    "def tree_matching(E: int, edges: list[tuple[int, int]]) -> int:\n",
    "    \"\"\"\n",
    "    Only having a superficial understanding, converted with trial and\n",
    "    errors the solution from recursive to iterative.\n",
    "    \"\"\"\n",
    "    adjl: collections.defaultdict[int, list] = collections.defaultdict(list)\n",
    "    for i, j in edges:\n",
    "        adjl[i].append(j)\n",
    "        adjl[j].append(i)\n",
    "\n",
    "    # greedily keep matching a leaf with the only vertex adjacent to it while possible\n",
    "    visited: set[int] = {1}\n",
    "    picked: set[int] = set()\n",
    "    stack: list[tuple[int, int]] = [(1, -1)]\n",
    "    matching: int = 0\n",
    "    while stack:\n",
    "        curr, prev = stack[-1]\n",
    "        for next_ in adjl[curr]:\n",
    "            if next_ not in visited:\n",
    "                visited.add(next_)\n",
    "                stack.append((next_, curr))\n",
    "        if stack[-1] == (curr, prev):\n",
    "            stack.pop()\n",
    "            # At the end of each recursive call, as per recursive code logic\n",
    "            # we skip the first 'edge' (1, -1)\n",
    "            if prev != -1 and prev not in picked and curr not in picked:\n",
    "                matching += 1\n",
    "                picked.add(curr)\n",
    "                picked.add(prev)\n",
    "\n",
    "    return matching\n",
    "\n",
    "# Testing the solution\n",
    "assert tree_matching(5, [(1,2), (1,3), (3,4), (3,5)]) == 2\n",
    "assert tree_matching(10, [(8,9), (10,9), (1,4), (7,1), (8,3), (10,5), (4,2), (3,7), (6,4)]) == 4"
   ]
  },
  {
   "cell_type": "markdown",
   "id": "b8a3aee7",
   "metadata": {
    "lines_to_next_cell": 2,
    "papermill": {
     "duration": 0.00522,
     "end_time": "2024-07-23T17:41:05.014779",
     "exception": false,
     "start_time": "2024-07-23T17:41:05.009559",
     "status": "completed"
    },
    "tags": []
   },
   "source": [
    "Diameter of a tree:\n",
    "Naive approach is to run DFS on all nodes which would lead to a time complexity of O(n * n).<br>\n",
    "Better approach would be to run DFS from any node and find the farthest point.\n",
    "From this point run DFS again and fnd the farthest point.\n",
    "Compute distance between these two nodes."
   ]
  },
  {
   "cell_type": "code",
   "execution_count": 17,
   "id": "f9da7b22",
   "metadata": {
    "execution": {
     "iopub.execute_input": "2024-07-23T17:41:05.026381Z",
     "iopub.status.busy": "2024-07-23T17:41:05.026118Z",
     "iopub.status.idle": "2024-07-23T17:41:05.033865Z",
     "shell.execute_reply": "2024-07-23T17:41:05.033301Z"
    },
    "lines_to_next_cell": 1,
    "papermill": {
     "duration": 0.014942,
     "end_time": "2024-07-23T17:41:05.034949",
     "exception": false,
     "start_time": "2024-07-23T17:41:05.020007",
     "status": "completed"
    },
    "tags": []
   },
   "outputs": [],
   "source": [
    "def circumference(N: int, edges: list[tuple[int, int]]) -> int:\n",
    "    def farthest(node: int) -> tuple[int, int]:\n",
    "        result: tuple[int, int] = (-1, -1)\n",
    "        queue: collections.deque[tuple[int, int, int]] = collections.deque([(node, -1, 0)])\n",
    "        while queue:\n",
    "            curr, prev, dist = queue.popleft()\n",
    "            if dist > result[1]:\n",
    "                result = curr, dist\n",
    "            for next_ in adjl[curr]:\n",
    "                if next_ != prev:\n",
    "                    queue.append((next_, curr, dist + 1))\n",
    "\n",
    "        return result\n",
    "\n",
    "    # Create an adj list from the provided edges\n",
    "    adjl: collections.defaultdict[int, list[int]] = collections.defaultdict(list)\n",
    "    for n1, n2 in edges:\n",
    "        adjl[n1].append(n2)\n",
    "        adjl[n2].append(n1)\n",
    "\n",
    "    # Take any random node and run DFS to find the farthest point\n",
    "    n1, _ = farthest(edges[0][0])\n",
    "    n2, D = farthest(n1)\n",
    "\n",
    "    # Wrong formula but this is the expected formula\n",
    "    return 3 * D\n",
    "\n",
    "# Testing the solution\n",
    "assert circumference(3, [(3,2), (2,1)]) == 6\n",
    "assert circumference(5, [(4,2), (1,4), (5,4), (3,4)]) == 6"
   ]
  },
  {
   "cell_type": "markdown",
   "id": "0891c413",
   "metadata": {
    "papermill": {
     "duration": 0.005528,
     "end_time": "2024-07-23T17:41:05.046293",
     "exception": false,
     "start_time": "2024-07-23T17:41:05.040765",
     "status": "completed"
    },
    "tags": []
   },
   "source": [
    "LC Biweekly - 20th July 2024"
   ]
  },
  {
   "cell_type": "code",
   "execution_count": 18,
   "id": "a81c610d",
   "metadata": {
    "execution": {
     "iopub.execute_input": "2024-07-23T17:41:05.058200Z",
     "iopub.status.busy": "2024-07-23T17:41:05.057940Z",
     "iopub.status.idle": "2024-07-23T17:41:05.061892Z",
     "shell.execute_reply": "2024-07-23T17:41:05.061363Z"
    },
    "lines_to_next_cell": 1,
    "papermill": {
     "duration": 0.011136,
     "end_time": "2024-07-23T17:41:05.062916",
     "exception": false,
     "start_time": "2024-07-23T17:41:05.051780",
     "status": "completed"
    },
    "tags": []
   },
   "outputs": [],
   "source": [
    "def losingPlayer(x: int, y: int) -> str:\n",
    "    alice_turn = True\n",
    "    x_req, y_req = 1, 4\n",
    "    while x >= x_req and y >= y_req:\n",
    "        x, y = x - x_req, y - y_req\n",
    "        alice_turn = not alice_turn\n",
    "\n",
    "    return \"Alice\" if not alice_turn else \"Bob\"\n",
    "\n",
    "# Testing the solution\n",
    "assert losingPlayer(2, 7) == \"Alice\"\n",
    "assert losingPlayer(4, 11) == \"Bob\""
   ]
  },
  {
   "cell_type": "code",
   "execution_count": 19,
   "id": "2d2dc400",
   "metadata": {
    "execution": {
     "iopub.execute_input": "2024-07-23T17:41:05.074816Z",
     "iopub.status.busy": "2024-07-23T17:41:05.074344Z",
     "iopub.status.idle": "2024-07-23T17:41:05.077985Z",
     "shell.execute_reply": "2024-07-23T17:41:05.077559Z"
    },
    "lines_to_next_cell": 1,
    "papermill": {
     "duration": 0.010814,
     "end_time": "2024-07-23T17:41:05.079129",
     "exception": false,
     "start_time": "2024-07-23T17:41:05.068315",
     "status": "completed"
    },
    "tags": []
   },
   "outputs": [],
   "source": [
    "def minimumLength(s: str) -> int:\n",
    "    freq: collections.Counter = collections.Counter(s)\n",
    "    return sum(map(lambda x: x if x <= 2 else 1 if x % 2 == 1 else 2, freq.values()))\n",
    "\n",
    "# Testing the solution\n",
    "assert minimumLength(\"abaacbcbb\") == 5\n",
    "assert minimumLength(\"aa\") == 2"
   ]
  },
  {
   "cell_type": "code",
   "execution_count": 20,
   "id": "bfa64614",
   "metadata": {
    "execution": {
     "iopub.execute_input": "2024-07-23T17:41:05.090848Z",
     "iopub.status.busy": "2024-07-23T17:41:05.090557Z",
     "iopub.status.idle": "2024-07-23T17:41:05.096047Z",
     "shell.execute_reply": "2024-07-23T17:41:05.095604Z"
    },
    "lines_to_next_cell": 1,
    "papermill": {
     "duration": 0.01251,
     "end_time": "2024-07-23T17:41:05.097121",
     "exception": false,
     "start_time": "2024-07-23T17:41:05.084611",
     "status": "completed"
    },
    "tags": []
   },
   "outputs": [],
   "source": [
    "# TLE :)\n",
    "def minChanges(nums: list[int], K: int) -> int:\n",
    "    N, min_changes = len(nums), math.inf\n",
    "    max_diff = max([*nums, K])\n",
    "    for x in range(max_diff + 1):\n",
    "        changes = 0.\n",
    "        for i in range(N // 2):\n",
    "            L, R = nums[i], nums[N - i - 1]\n",
    "            if abs(L - R) == x:\n",
    "                changes += 0\n",
    "            elif (L - K <= x <= max(L, abs(L - K))) or (R - K <= x <= max(R, abs(R - K))):\n",
    "                changes += 1\n",
    "            elif 0 <= x <= K:\n",
    "                changes += 2\n",
    "            else:\n",
    "                changes += math.inf\n",
    "\n",
    "        min_changes = min(min_changes, changes)\n",
    "\n",
    "    return int(min_changes)\n",
    "\n",
    "# Testing the solution\n",
    "assert minChanges([1,0,1,2,4,3], 4) == 2\n",
    "assert minChanges([0,1,2,3,3,6,5,4], 6) == 2\n",
    "assert minChanges([3,1,7,7,8,7,0,5,8,0,6,7,0,2,6,6], 8) == 6"
   ]
  },
  {
   "cell_type": "markdown",
   "id": "86a332d3",
   "metadata": {
    "papermill": {
     "duration": 0.005283,
     "end_time": "2024-07-23T17:41:05.107787",
     "exception": false,
     "start_time": "2024-07-23T17:41:05.102504",
     "status": "completed"
    },
    "tags": []
   },
   "source": [
    "LC Weekly Contest - 21st July 2024"
   ]
  },
  {
   "cell_type": "code",
   "execution_count": 21,
   "id": "8ed3be79",
   "metadata": {
    "execution": {
     "iopub.execute_input": "2024-07-23T17:41:05.119814Z",
     "iopub.status.busy": "2024-07-23T17:41:05.119277Z",
     "iopub.status.idle": "2024-07-23T17:41:05.123832Z",
     "shell.execute_reply": "2024-07-23T17:41:05.123288Z"
    },
    "lines_to_next_cell": 1,
    "papermill": {
     "duration": 0.011929,
     "end_time": "2024-07-23T17:41:05.125055",
     "exception": false,
     "start_time": "2024-07-23T17:41:05.113126",
     "status": "completed"
    },
    "tags": []
   },
   "outputs": [],
   "source": [
    "def minBitChanges(N: int, K: int) -> int:\n",
    "    changes = 0.\n",
    "    while N > 0 or K > 0:\n",
    "        N_bit, K_bit = N & 1, K & 1\n",
    "        N, K = N >> 1, K >> 1\n",
    "        if N_bit == 1 and K_bit == 0:\n",
    "            changes += 1\n",
    "        elif N_bit == K_bit:\n",
    "            changes += 0\n",
    "        else:\n",
    "            changes += math.inf\n",
    "\n",
    "    return int(changes) if not math.isinf(changes) else -1\n",
    "\n",
    "# Testing the solution\n",
    "assert minBitChanges(13, 4) == 2\n",
    "assert minBitChanges(21, 21) == 0\n",
    "assert minBitChanges(14, 13) == -1"
   ]
  },
  {
   "cell_type": "code",
   "execution_count": 22,
   "id": "e74d786a",
   "metadata": {
    "execution": {
     "iopub.execute_input": "2024-07-23T17:41:05.137022Z",
     "iopub.status.busy": "2024-07-23T17:41:05.136546Z",
     "iopub.status.idle": "2024-07-23T17:41:05.140295Z",
     "shell.execute_reply": "2024-07-23T17:41:05.139880Z"
    },
    "lines_to_next_cell": 1,
    "papermill": {
     "duration": 0.010851,
     "end_time": "2024-07-23T17:41:05.141370",
     "exception": false,
     "start_time": "2024-07-23T17:41:05.130519",
     "status": "completed"
    },
    "tags": []
   },
   "outputs": [],
   "source": [
    "def doesAliceWin(s: str) -> bool:\n",
    "    vc = 0\n",
    "    for ch in s:\n",
    "        if ch in ('a', 'e', 'i', 'o', 'u'):\n",
    "            vc += 1\n",
    "\n",
    "    return vc != 0\n",
    "\n",
    "# Testing the solution\n",
    "assert doesAliceWin(\"leetcoder\") == True\n",
    "assert doesAliceWin(\"bcd\") == False"
   ]
  },
  {
   "cell_type": "code",
   "execution_count": 23,
   "id": "4d022653",
   "metadata": {
    "execution": {
     "iopub.execute_input": "2024-07-23T17:41:05.153444Z",
     "iopub.status.busy": "2024-07-23T17:41:05.152916Z",
     "iopub.status.idle": "2024-07-23T17:41:05.156974Z",
     "shell.execute_reply": "2024-07-23T17:41:05.156487Z"
    },
    "lines_to_next_cell": 1,
    "papermill": {
     "duration": 0.011217,
     "end_time": "2024-07-23T17:41:05.158027",
     "exception": false,
     "start_time": "2024-07-23T17:41:05.146810",
     "status": "completed"
    },
    "tags": []
   },
   "outputs": [],
   "source": [
    "def maxOperations(S: str) -> int:\n",
    "    N = len(S)\n",
    "    ops = ones = 0\n",
    "    for i in range(N):\n",
    "        if S[i] == '1':\n",
    "            ones += 1\n",
    "        elif S[i - 1] == '1':\n",
    "            ops += ones\n",
    "\n",
    "    return ops\n",
    "\n",
    "# Testing the solution\n",
    "assert maxOperations(\"1001101\") == 4\n",
    "assert maxOperations(\"00111\") == 0\n",
    "assert maxOperations(\"1000\") == 1\n",
    "assert maxOperations(\"1110\") == 3"
   ]
  },
  {
   "cell_type": "code",
   "execution_count": 24,
   "id": "25db5338",
   "metadata": {
    "execution": {
     "iopub.execute_input": "2024-07-23T17:41:05.169723Z",
     "iopub.status.busy": "2024-07-23T17:41:05.169359Z",
     "iopub.status.idle": "2024-07-23T17:41:05.176666Z",
     "shell.execute_reply": "2024-07-23T17:41:05.176136Z"
    },
    "lines_to_next_cell": 1,
    "papermill": {
     "duration": 0.014396,
     "end_time": "2024-07-23T17:41:05.177782",
     "exception": false,
     "start_time": "2024-07-23T17:41:05.163386",
     "status": "completed"
    },
    "tags": []
   },
   "outputs": [],
   "source": [
    "# Solved at 9:40 :)\n",
    "def minimumOperations(nums: list[int], target: list[int]) -> int:\n",
    "    def equal_sign(n1: int, n2: int) -> bool:\n",
    "        return (n1 < 0 and n2 < 0) or (n1 > 0 and n2 > 0) or (n1 == n2 == 0)\n",
    "\n",
    "    def split(left: int, right: int) -> list[tuple[int, int]]:\n",
    "        result: list[tuple[int, int]] = []\n",
    "        prev = left\n",
    "        for i in range(left, right + 2):\n",
    "            if i == right + 1 or not equal_sign(deltas[i], deltas[prev]):\n",
    "                result.append((prev, i - 1))\n",
    "                prev = i\n",
    "\n",
    "        return result\n",
    "\n",
    "    def count(left: int, right: int) -> int:\n",
    "        min_ = abs(deltas[left])\n",
    "        for i in range(left, right+1):\n",
    "            deltas[i] = abs(deltas[i])\n",
    "            min_ = min(min_, deltas[i])\n",
    "\n",
    "        for i in range(left, right+1):\n",
    "            deltas[i] -= min_\n",
    "\n",
    "        slices: list[tuple[int, int]] = split(left, right)\n",
    "        ops_ = min_\n",
    "        if min_ > 0:\n",
    "            for i, j in slices:\n",
    "                ops_ += count(i, j)\n",
    "\n",
    "        return ops_\n",
    "\n",
    "    N, ops = len(nums), 0\n",
    "    deltas: list[int] = [nums[i] - target[i] for i in range(N)]\n",
    "    slices: list[tuple[int, int]] = split(0, N - 1)\n",
    "    for i, j in slices:\n",
    "        ops += count(i, j)\n",
    "\n",
    "    return ops\n",
    "\n",
    "# Testing the solution\n",
    "assert minimumOperations([3,5,1,2], [4,6,2,4]) == 2\n",
    "assert minimumOperations([1,3,2], [2,1,4]) == 5"
   ]
  },
  {
   "cell_type": "code",
   "execution_count": 25,
   "id": "19c7f6ff",
   "metadata": {
    "execution": {
     "iopub.execute_input": "2024-07-23T17:41:05.189649Z",
     "iopub.status.busy": "2024-07-23T17:41:05.189279Z",
     "iopub.status.idle": "2024-07-23T17:41:05.195725Z",
     "shell.execute_reply": "2024-07-23T17:41:05.195311Z"
    },
    "lines_to_next_cell": 1,
    "papermill": {
     "duration": 0.013489,
     "end_time": "2024-07-23T17:41:05.196760",
     "exception": false,
     "start_time": "2024-07-23T17:41:05.183271",
     "status": "completed"
    },
    "tags": []
   },
   "outputs": [],
   "source": [
    "def dynamic_dyameter(N: int, edges: list[tuple[int, int]]) -> list[int]:\n",
    "    def BFS(start: int) -> tuple[int, set[int]]:\n",
    "        distances: collections.defaultdict[int, set[int]] = collections.defaultdict(set)\n",
    "        queue: collections.deque[tuple[int, int, int]] = collections.deque([(start, 0, 0)])\n",
    "        max_dist = 0\n",
    "        while queue:\n",
    "            curr, prev, dist = queue.popleft()\n",
    "            distances[dist].add(curr)\n",
    "            max_dist = max(dist, max_dist)\n",
    "            for next_ in adjl[curr]:\n",
    "                if next_ != prev:\n",
    "                    queue.append((next_, curr, dist + 1))\n",
    "\n",
    "        return max_dist, distances[max_dist]\n",
    "\n",
    "    # Convert edges to adjancency list\n",
    "    adjl: collections.defaultdict[int, list[int]] = collections.defaultdict(list)\n",
    "    for n1, n2 in edges:\n",
    "        adjl[n1].append(n2)\n",
    "        adjl[n2].append(n1)\n",
    "\n",
    "    # Find the farthest from a random node\n",
    "    nodes = BFS(1)[1]\n",
    "    leaves: set[int] = {*nodes}\n",
    "    D, farthest_nodes = BFS(next(iter(leaves)))\n",
    "    leaves.update(farthest_nodes)\n",
    "\n",
    "    return [D + 1 if i in leaves else D for i in range(1, N + 1)]\n",
    "\n",
    "# Testing the solution\n",
    "assert dynamic_dyameter(3, [(3,2), (2,1)]) == [3,2,3]\n",
    "assert dynamic_dyameter(5, [(4,2), (1,4), (5,4), (3,4)]) == [3,3,3,2,3]"
   ]
  },
  {
   "cell_type": "code",
   "execution_count": 26,
   "id": "f5eb47cb",
   "metadata": {
    "execution": {
     "iopub.execute_input": "2024-07-23T17:41:05.208416Z",
     "iopub.status.busy": "2024-07-23T17:41:05.208028Z",
     "iopub.status.idle": "2024-07-23T17:41:05.215457Z",
     "shell.execute_reply": "2024-07-23T17:41:05.214947Z"
    },
    "lines_to_next_cell": 1,
    "papermill": {
     "duration": 0.014407,
     "end_time": "2024-07-23T17:41:05.216528",
     "exception": false,
     "start_time": "2024-07-23T17:41:05.202121",
     "status": "completed"
    },
    "tags": []
   },
   "outputs": [],
   "source": [
    "def military_problem(n_officers: int, superiors: list[int], queries: list[tuple[int, int]]) -> list[int]:\n",
    "    adjl: collections.defaultdict[int, list[int]] = collections.defaultdict(list)\n",
    "    for officer, superior in enumerate(superiors, start=2):\n",
    "        adjl[superior].append(officer)\n",
    "\n",
    "    # DFS starting from the supreme commander - 1\n",
    "    # Create variables for storing the DFS order and the start/end index for each\n",
    "    order: list[int] = []\n",
    "    ranges: collections.defaultdict[int, tuple[int, int]] = collections.defaultdict(lambda: (0, 0))\n",
    "    stack: list[tuple[int, int]] = [(1, 0)]\n",
    "    while stack:\n",
    "        curr, idx = stack[-1]\n",
    "        if idx == 0:\n",
    "            order.append(curr)\n",
    "            ranges[curr] = len(order) - 1, len(order) - 1\n",
    "        if idx < len(adjl[curr]):\n",
    "            stack[-1] = curr, idx + 1\n",
    "            stack.append((adjl[curr][idx], 0))\n",
    "        else:\n",
    "            stack.pop()\n",
    "            ranges[curr] = ranges[curr][0], len(order) - 1\n",
    "\n",
    "    # Answer the queries\n",
    "    result: list[int] = []\n",
    "    for officer, kth in queries:\n",
    "        start, end = ranges[officer]\n",
    "        if end - start + 1 >= kth:\n",
    "            result.append(order[start + kth - 1])\n",
    "        else:\n",
    "            result.append(-1)\n",
    "\n",
    "    return result\n",
    "\n",
    "# Testing the solution\n",
    "assert military_problem(9, [1,2,2,3,5,3,6,7], [(1,5), (7,3), (1,8), (1,9)]) == [6,-1,9,4]\n",
    "assert military_problem(9, [1,1,1,3,5,3,5,7], [(3,1), (1,5), (3,4), (7,3), (1,8), (1,9)]) == [3,6,8,-1,9,4]"
   ]
  },
  {
   "cell_type": "markdown",
   "id": "03b63bfc",
   "metadata": {
    "papermill": {
     "duration": 0.005195,
     "end_time": "2024-07-23T17:41:05.227197",
     "exception": false,
     "start_time": "2024-07-23T17:41:05.222002",
     "status": "completed"
    },
    "tags": []
   },
   "source": [
    "Binary Lifting - LCA"
   ]
  },
  {
   "cell_type": "code",
   "execution_count": 27,
   "id": "232e564a",
   "metadata": {
    "execution": {
     "iopub.execute_input": "2024-07-23T17:41:05.239114Z",
     "iopub.status.busy": "2024-07-23T17:41:05.238604Z",
     "iopub.status.idle": "2024-07-23T17:41:05.245353Z",
     "shell.execute_reply": "2024-07-23T17:41:05.244811Z"
    },
    "lines_to_next_cell": 1,
    "papermill": {
     "duration": 0.013869,
     "end_time": "2024-07-23T17:41:05.246381",
     "exception": false,
     "start_time": "2024-07-23T17:41:05.232512",
     "status": "completed"
    },
    "tags": []
   },
   "outputs": [],
   "source": [
    "# https://leetcode.com/problems/kth-ancestor-of-a-tree-node://leetcode.com/problems/kth-ancestor-of-a-tree-node/\n",
    "class TreeAncestor:\n",
    "    def __init__(self, N: int, parent: list[int]):\n",
    "        # Store the ancestors into a sparse table\n",
    "        self.ancestors: dict[int, collections.defaultdict[int, int]] = {}\n",
    "\n",
    "        # Store for level 1 (2 ** 0 => 1)\n",
    "        pending: list[int] = []\n",
    "        level = 0\n",
    "        for node in range(N):\n",
    "            self.ancestors[node] = collections.defaultdict(lambda: -1)\n",
    "            self.ancestors[node][level] = parent[node]\n",
    "            if self.ancestors[node][level] != -1:\n",
    "                pending.append(node)\n",
    "\n",
    "        # Compute next level of ancestors until we hit -1 for all nodes\n",
    "        level += 1\n",
    "        while pending:\n",
    "            still_pending: list[int] = []\n",
    "            for node in pending:\n",
    "                self.ancestors[node][level] = self.ancestors[self.ancestors[node][level - 1]][level - 1]\n",
    "                if self.ancestors[node][level] != -1:\n",
    "                    still_pending.append(node)\n",
    "            pending, level = still_pending, level + 1\n",
    "\n",
    "    def getKthAncestor(self, node: int, K: int) -> int:\n",
    "        while K > 0 and node != -1:\n",
    "            jump = int(math.log2(K))\n",
    "            node = self.ancestors[node][jump]\n",
    "            K -= 1 << jump # k - (2 ** jump)\n",
    "\n",
    "        return node\n",
    "\n",
    "# Testing the solution\n",
    "tree_ancestor = TreeAncestor(7, [-1, 0, 0, 1, 1, 2, 2])\n",
    "assert tree_ancestor.getKthAncestor(5, 2) == 0\n",
    "assert tree_ancestor.getKthAncestor(6, 3) == -1\n",
    "assert tree_ancestor.getKthAncestor(6, 0) == 6\n",
    "assert tree_ancestor.getKthAncestor(6, 9) == -1"
   ]
  },
  {
   "cell_type": "markdown",
   "id": "64cb4a96",
   "metadata": {
    "papermill": {
     "duration": 0.005684,
     "end_time": "2024-07-23T17:41:05.257748",
     "exception": false,
     "start_time": "2024-07-23T17:41:05.252064",
     "status": "completed"
    },
    "tags": []
   },
   "source": [
    "CP Practice - LCA"
   ]
  },
  {
   "cell_type": "code",
   "execution_count": 28,
   "id": "a6f4756f",
   "metadata": {
    "execution": {
     "iopub.execute_input": "2024-07-23T17:41:05.269919Z",
     "iopub.status.busy": "2024-07-23T17:41:05.269422Z",
     "iopub.status.idle": "2024-07-23T17:41:05.283898Z",
     "shell.execute_reply": "2024-07-23T17:41:05.283335Z"
    },
    "lines_to_next_cell": 1,
    "papermill": {
     "duration": 0.022178,
     "end_time": "2024-07-23T17:41:05.285376",
     "exception": false,
     "start_time": "2024-07-23T17:41:05.263198",
     "status": "completed"
    },
    "tags": []
   },
   "outputs": [],
   "source": [
    "def sloth_naptime(N: int, edges: list[tuple[int, int]], Q: int, queries: list[tuple[int, int, int]]) -> list[int]:\n",
    "    def get_distances_from_lca(N1: int, N2: int) -> tuple[int, int]:\n",
    "        n1, n2 = N1, N2\n",
    "\n",
    "        # Make sure that we start at the same heights\n",
    "        if heights[n1] > heights[n2]:\n",
    "            n1 = get_kth_ancestor(n1, heights[n1] - heights[n2])\n",
    "        if heights[n1] < heights[n2]:\n",
    "            n2 = get_kth_ancestor(n2, heights[n2] - heights[n1])\n",
    "\n",
    "        # If n1 had been the ancestor of n2\n",
    "        if n1 == n2:\n",
    "            lca = n1\n",
    "        else:\n",
    "            # Run a `logrithmic` search, starting at max power reducing it\n",
    "            # If match do nothing, otherwise update n1, n2 to where it didn't match\n",
    "            for power in range(MAX_POWER - 1, -1, -1):\n",
    "                if ancestors[n1][power] != ancestors[n2][power]:\n",
    "                    n1, n2 = ancestors[n1][power], ancestors[n2][power]\n",
    "            lca = ancestors[n1][0]\n",
    "\n",
    "        return  heights[N1] - heights[lca], heights[N2] - heights[lca]\n",
    "\n",
    "    def get_kth_ancestor(n: int, k: int) -> int:\n",
    "        while k > 0 and n != -1:\n",
    "            jump = int(math.log2(k))\n",
    "            n, k = ancestors[n][jump], k - (1 << jump)\n",
    "\n",
    "        return n\n",
    "\n",
    "    # Max width of ancestors\n",
    "    MAX_POWER = math.ceil(math.log2(N)) + 1\n",
    "    ancestors: list[list[int]] = [[-1] * MAX_POWER for i in range(N + 1)]\n",
    "    heights: dict[int, int] = {}\n",
    "\n",
    "    # Convert edges into adjacency list\n",
    "    adjl: collections.defaultdict[int, list[int]] = collections.defaultdict(list)\n",
    "    for n1, n2 in edges:\n",
    "        adjl[n1].append(n2)\n",
    "        adjl[n2].append(n1)\n",
    "\n",
    "    # Do a DFS traversal, compute the ancestors and the depth\n",
    "    stack: list[tuple[int, int, int]] = [(1, 0, 0)]\n",
    "    while stack:\n",
    "        curr, prev, height = stack.pop()\n",
    "        ancestors[curr][0] = prev\n",
    "        heights[curr] = height\n",
    "        for next_ in adjl[curr]:\n",
    "            if next_ != prev:\n",
    "                stack.append((next_, curr, height + 1))\n",
    "\n",
    "    # Compute the ancestors for powers up to MAX_N\n",
    "    for power in range(1, MAX_POWER):\n",
    "        for node in range(1, N + 1):\n",
    "            ancestors[node][power] = ancestors[ancestors[node][power - 1]][power - 1]\n",
    "\n",
    "    # Compute the results\n",
    "    results: list[int] = []\n",
    "    for n1, n2, E in queries:\n",
    "        L, R = get_distances_from_lca(n1, n2)\n",
    "        if E <= L:\n",
    "            results.append(get_kth_ancestor(n1, E))\n",
    "        elif E < L + R:\n",
    "            results.append(get_kth_ancestor(n2, L + R - E))\n",
    "        else:\n",
    "            results.append(n2)\n",
    "\n",
    "    return results\n",
    "\n",
    "# Testing the solution\n",
    "assert sloth_naptime(5, [(4,2), (1,4), (5,4), (3,4)], 6, [(3,5,2), (3,5,4), (1,5,5), (4,5,4), (1,5,4), (3,5,0)]) == [5, 5, 5, 5, 5, 3]\n",
    "assert sloth_naptime(3, [(3,2), (2,1)], 3, [(2,2,2), (1,1,2), (3,3,3)]) == [2,1,3]\n",
    "assert sloth_naptime(21, [(6, 9), (8, 1), (11, 10), (18, 17), (5, 17), (14, 7), (11, 14), (4, 18), (17, 13), (1, 14), (16, 21), (19, 6), (19, 14), (5, 9), (14, 16), (3, 20), (19, 15), (7, 2), (17, 3), (12, 7)], 21, [(15, 12, 16), (14, 10, 8), (17, 2, 16), (6, 14, 5), (4, 9, 5), (16, 16, 18), (18, 18, 12), (10, 8, 10), (7, 4, 3), (3, 10, 11), (11, 12, 4), (4, 20, 3), (13, 16, 17), (6, 2, 1), (17, 6, 13), (1, 9, 14), (9, 11, 9), (12, 6, 1), (14, 14, 19), (12, 12, 6), (16, 13, 4)]) == [12, 10, 2, 14, 9, 16, 18, 8, 6, 10, 12, 3, 16, 19, 6, 9, 11, 7, 14, 12, 9]"
   ]
  },
  {
   "cell_type": "code",
   "execution_count": 29,
   "id": "92407e00",
   "metadata": {
    "execution": {
     "iopub.execute_input": "2024-07-23T17:41:05.297607Z",
     "iopub.status.busy": "2024-07-23T17:41:05.297368Z",
     "iopub.status.idle": "2024-07-23T17:41:05.311367Z",
     "shell.execute_reply": "2024-07-23T17:41:05.310911Z"
    },
    "lines_to_next_cell": 1,
    "papermill": {
     "duration": 0.021379,
     "end_time": "2024-07-23T17:41:05.312526",
     "exception": false,
     "start_time": "2024-07-23T17:41:05.291147",
     "status": "completed"
    },
    "tags": []
   },
   "outputs": [],
   "source": [
    "# Correct but memory limit exceeded\n",
    "def cycle_free_flow(N: int, E: int, edges: list[tuple[int, int, int]], Q: int, queries: list[tuple[int, int]]) -> list[int]:\n",
    "    def get_min_flow(N1: int, N2: int) -> int:\n",
    "        n1, n2 = N1, N2\n",
    "        flow: float = math.inf\n",
    "        if heights[n1] > heights[n2]:\n",
    "            n1, flow = get_kth_ancestor(n1, heights[n1] - heights[n2])\n",
    "        if heights[n2] > heights[n1]:\n",
    "            n2, flow = get_kth_ancestor(n2, heights[n2] - heights[n1])\n",
    "\n",
    "        if n1 == n2:\n",
    "            return int(flow)\n",
    "\n",
    "        # Run a 'binary search'\n",
    "        for power in range(MAX_POWER - 1, -1, -1):\n",
    "            (n1_ancestor, n1_flow), (n2_ancestor, n2_flow) = ancestors[n1][power], ancestors[n2][power]\n",
    "            if n1_ancestor != n2_ancestor:\n",
    "                n1, n2, flow = n1_ancestor, n2_ancestor, min(n1_flow, n2_flow)\n",
    "\n",
    "        return int(min(flow, ancestors[n1][0][1], ancestors[n2][0][1]))\n",
    "\n",
    "    def get_kth_ancestor(curr: int, K: int) -> tuple[int, float]:\n",
    "        flow: float = math.inf\n",
    "        while curr != -1 and K > 0:\n",
    "            jump = int(math.log2(K))\n",
    "            curr, next_flow = ancestors[curr][jump]\n",
    "            flow = min(flow, next_flow)\n",
    "            K = K - (1 << jump)\n",
    "\n",
    "        return curr, flow\n",
    "\n",
    "    # Maximum power for computing the ancestors\n",
    "    MAX_POWER = int(math.log2(N)) + 1\n",
    "    ancestors: list[list[tuple[int, int]]] = [[(-1, 0)] * MAX_POWER for i in range(N + 1)]\n",
    "    heights: dict[int, int] = dict()\n",
    "\n",
    "    # Convert edges into Adjl list\n",
    "    adjl: collections.defaultdict[int, list[tuple[int, int]]] = collections.defaultdict(list)\n",
    "    for n1, n2, w in edges:\n",
    "        adjl[n1].append((n2, w))\n",
    "        adjl[n2].append((n1, w))\n",
    "\n",
    "    # Run DFS and compute the level 1 ancestors\n",
    "    stack: list[tuple[int, int]] = [(1, 0)]\n",
    "    ancestors[1][0] = (0, 0)\n",
    "    while stack:\n",
    "        curr, height = stack.pop()\n",
    "        for next_node, next_weight in adjl[curr]:\n",
    "            if next_node not in heights:\n",
    "                heights[next_node] = height + 1\n",
    "                ancestors[next_node][0] = (curr, next_weight)\n",
    "                stack.append((next_node, height + 1))\n",
    "\n",
    "    # Compute the ancestors\n",
    "    for power in range(1, MAX_POWER):\n",
    "        for node in range(1, N + 1):\n",
    "            prev_ancestor, prev_flow = ancestors[node][power - 1]\n",
    "            next_ancestor, next_flow = ancestors[prev_ancestor][power - 1]\n",
    "            ancestors[node][power] = next_ancestor, min(prev_flow, next_flow)\n",
    "\n",
    "    # Process each query\n",
    "    results: list[int] = []\n",
    "    for n1, n2 in queries:\n",
    "        results.append(get_min_flow(n1, n2))\n",
    "\n",
    "    return results\n",
    "\n",
    "# Testing the solution\n",
    "assert cycle_free_flow(10, 9, [(7,10,1680), (10,5,18380), (5,8,8111), (8,9,22597), (3,10,27859), (4,3,9944), (6,10,26721), (1,10,4444), (2,5,2282)], 10, [(10,7), (4,2), (5,4), (9,6), (5,3), (4,10), (4,5), (2,1), (6,9), (9,4)]) == [1680, 2282, 9944, 8111, 18380, 9944, 9944, 2282, 8111, 8111]\n",
    "assert cycle_free_flow(3, 3, [(3,2,4814), (2,1,1832)], 3, [(2,1), (1,2), (3,1)]) == [1832, 1832, 1832]\n",
    "assert cycle_free_flow(5, 4, [(4,2,10348), (1,4,2690), (5,4,9807), (3,4,8008)], 5, [(5,4), (1,5)]) == [9807, 2690]\n",
    "assert cycle_free_flow(5, 4, [(1,3,2653), (4,1,322), (5,1,8657), (2,4,4896)], 5, [(4,2), (2,5), (1,3), (4,5)]) == [4896, 322, 2653, 322]"
   ]
  },
  {
   "cell_type": "code",
   "execution_count": null,
   "id": "b6f81d8c",
   "metadata": {
    "lines_to_next_cell": 1
   },
   "outputs": [],
   "source": [
    "def sortPeople(names: list[str], heights: list[int]) -> list[str]:\n",
    "    return list(map(lambda x: x[1], sorted(zip(heights, names), reverse=True)))\n",
    "\n",
    "# Testing the solution\n",
    "assert sortPeople([\"Mary\",\"John\",\"Emma\"], [180,165,170]) == [\"Mary\",\"Emma\",\"John\"]\n",
    "assert sortPeople([\"Alice\",\"Bob\",\"Bob\"], [155,185,150]) == [\"Bob\",\"Alice\",\"Bob\"]"
   ]
  },
  {
   "cell_type": "code",
   "execution_count": null,
   "id": "76ca025a",
   "metadata": {},
   "outputs": [],
   "source": [
    "def frequencySort(nums: list[int]) -> list[int]:\n",
    "    freq: collections.Counter = collections.Counter(nums)\n",
    "    result: list[int] = []\n",
    "    for k, v in sorted(freq.most_common(), key=lambda x: (x[1], -x[0])):\n",
    "        for i in range(v):\n",
    "            result.append(k)\n",
    "\n",
    "    return result\n",
    "\n",
    "# Testing the solution\n",
    "assert frequencySort([1,1,2,2,2,3]) == [3,1,1,2,2,2]\n",
    "assert frequencySort([2,3,1,3,2]) == [1,3,3,2,2]"
   ]
  }
 ],
 "metadata": {
  "kernelspec": {
   "display_name": "Python 3 (ipykernel)",
   "language": "python",
   "name": "python3"
  },
  "language_info": {
   "codemirror_mode": {
    "name": "ipython",
    "version": 3
   },
   "file_extension": ".py",
   "mimetype": "text/x-python",
   "name": "python",
   "nbconvert_exporter": "python",
   "pygments_lexer": "ipython3",
   "version": "3.11.9"
  },
  "papermill": {
   "default_parameters": {},
   "duration": 2.439239,
   "end_time": "2024-07-23T17:41:05.534361",
   "environment_variables": {},
   "exception": null,
   "input_path": "practice/006.ipynb",
   "output_path": "practice/006.ipynb",
   "parameters": {},
   "start_time": "2024-07-23T17:41:03.095122",
   "version": "2.6.0"
  }
 },
 "nbformat": 4,
 "nbformat_minor": 5
}
