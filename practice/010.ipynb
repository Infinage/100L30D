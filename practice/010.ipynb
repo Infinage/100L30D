{
 "cells": [
  {
   "cell_type": "markdown",
   "id": "b0e871b4",
   "metadata": {},
   "source": [
    "## Striver Blind - 75"
   ]
  },
  {
   "cell_type": "markdown",
   "id": "1e24144b",
   "metadata": {},
   "source": [
    "#### Import neccessary modules"
   ]
  },
  {
   "cell_type": "code",
   "execution_count": null,
   "id": "c9128e52",
   "metadata": {
    "lines_to_next_cell": 1
   },
   "outputs": [],
   "source": [
    "import bisect\n",
    "import functools\n",
    "import itertools\n",
    "import collections\n",
    "import heapq\n",
    "import math\n",
    "import random\n",
    "import typing"
   ]
  },
  {
   "cell_type": "markdown",
   "id": "fe2c8007",
   "metadata": {},
   "source": [
    "#### Arrays - Day 1"
   ]
  },
  {
   "cell_type": "code",
   "execution_count": null,
   "id": "db5e559f",
   "metadata": {
    "lines_to_next_cell": 1
   },
   "outputs": [],
   "source": [
    "def twoSum(nums: list[int], target: int) -> tuple[int, int]:\n",
    "    hm: dict[int, int] = dict()\n",
    "    for i in range(len(nums)):\n",
    "        if target - nums[i] in hm:\n",
    "            return hm[target - nums[i]], i\n",
    "        hm[nums[i]] = i\n",
    "    return -1, -1\n",
    "\n",
    "# Testing the solution\n",
    "assert twoSum([2,7,11,15], 9) == (0,1)\n",
    "assert twoSum([3,2,4], 6) == (1,2)\n",
    "assert twoSum([3,3], 6) == (0,1)"
   ]
  },
  {
   "cell_type": "code",
   "execution_count": null,
   "id": "a83eda9d",
   "metadata": {
    "lines_to_next_cell": 1
   },
   "outputs": [],
   "source": [
    "def maxProfit(prices: list[int]) -> int:\n",
    "    profit, best_price = 0, prices[-1]\n",
    "    for i in range(len(prices) - 2, -1, -1):\n",
    "        if prices[i] < best_price:\n",
    "            profit = max(profit, best_price - prices[i])\n",
    "        else:\n",
    "            best_price = prices[i]\n",
    "    return profit\n",
    "\n",
    "# Testing the solution\n",
    "assert maxProfit([7,1,5,3,6,4]) == 5\n",
    "assert maxProfit([7,6,4,3,1]) == 0\n",
    "assert maxProfit([1]) == 0"
   ]
  },
  {
   "cell_type": "code",
   "execution_count": null,
   "id": "cf5cfd34",
   "metadata": {
    "lines_to_next_cell": 1
   },
   "outputs": [],
   "source": [
    "def containsDuplicate(nums: list[int]) -> bool:\n",
    "    hashset: set[int] = set()\n",
    "    for n in nums:\n",
    "        if n in hashset:\n",
    "            return True\n",
    "        hashset.add(n)\n",
    "    return False\n",
    "\n",
    "# Testing the solution\n",
    "assert containsDuplicate([1,2,3,1]) == True\n",
    "assert containsDuplicate([1,2,3,4]) == False\n",
    "assert containsDuplicate([1,1,1,3,3,4,3,2,4,2]) == True"
   ]
  },
  {
   "cell_type": "code",
   "execution_count": null,
   "id": "4461d1a2",
   "metadata": {
    "lines_to_next_cell": 1
   },
   "outputs": [],
   "source": [
    "def productExceptSelf(nums: list[int]) -> list[int]:\n",
    "    N = len(nums)\n",
    "    prod, zc = 1, 0\n",
    "    for i in range(N):\n",
    "        zc += nums[i] == 0\n",
    "        prod *= nums[i] if nums[i] != 0 else 1\n",
    "\n",
    "    result: list[int] = []\n",
    "    for i in range(N):\n",
    "        if zc > 1:\n",
    "            result.append(0)\n",
    "        elif zc == 1:\n",
    "            result.append(0 if nums[i] != 0 else prod)\n",
    "        else:\n",
    "            result.append(prod // nums[i])\n",
    "\n",
    "    return result\n",
    "\n",
    "# Testing the solution\n",
    "assert productExceptSelf([1,2,3,4]) == [24,12,8,6]\n",
    "assert productExceptSelf([-1,1,0,-3,3]) == [0,0,9,0,0]"
   ]
  },
  {
   "cell_type": "code",
   "execution_count": null,
   "id": "a5bafa33",
   "metadata": {},
   "outputs": [],
   "source": [
    "def maxSubArray(nums: list[int]) -> int:\n",
    "    \"\"\"\n",
    "    Kadane's algo:\n",
    "    A subarray with a sum less than 0 will always reduce our answer and so this type of subarray cannot be a part of the subarray with maximum sum.\n",
    "    Reset to 0 when total becomes less than 0\n",
    "\n",
    "    Follow up: Print the max sub array\n",
    "    \"\"\"\n",
    "    result, total = nums[0], 0\n",
    "    max_start_idx = max_end_idx = start_idx = 0\n",
    "    for i in range(len(nums)):\n",
    "        total += nums[i]\n",
    "        if total > result:\n",
    "            max_start_idx, max_end_idx, result = start_idx, i, total\n",
    "        if total < 0:\n",
    "            total, start_idx = 0, i + 1\n",
    "\n",
    "    print(nums[max_start_idx: max_end_idx + 1])\n",
    "    return result\n",
    "\n",
    "# Testing the solution\n",
    "assert maxSubArray([-2,1,-3,4,-1,2,1,-5,4]) == 6\n",
    "assert maxSubArray([1]) == 1\n",
    "assert maxSubArray([5,4,-1,7,8]) == 23\n",
    "assert maxSubArray([-3,-2,-1]) == -1"
   ]
  }
 ],
 "metadata": {
  "kernelspec": {
   "display_name": "Python 3 (ipykernel)",
   "language": "python",
   "name": "python3"
  }
 },
 "nbformat": 4,
 "nbformat_minor": 2
}
