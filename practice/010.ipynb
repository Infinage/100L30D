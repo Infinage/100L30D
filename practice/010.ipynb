{
 "cells": [
  {
   "cell_type": "markdown",
   "id": "f1a1c898",
   "metadata": {
    "papermill": {
     "duration": 0.004531,
     "end_time": "2024-09-28T12:52:40.467744",
     "exception": false,
     "start_time": "2024-09-28T12:52:40.463213",
     "status": "completed"
    },
    "tags": []
   },
   "source": [
    "## Striver Blind - 75"
   ]
  },
  {
   "cell_type": "markdown",
   "id": "fa45e2bf",
   "metadata": {
    "papermill": {
     "duration": 0.003763,
     "end_time": "2024-09-28T12:52:40.475546",
     "exception": false,
     "start_time": "2024-09-28T12:52:40.471783",
     "status": "completed"
    },
    "tags": []
   },
   "source": [
    "#### Import neccessary modules"
   ]
  },
  {
   "cell_type": "code",
   "execution_count": 1,
   "id": "4eaae1f2",
   "metadata": {
    "execution": {
     "iopub.execute_input": "2024-09-28T12:52:40.484543Z",
     "iopub.status.busy": "2024-09-28T12:52:40.484003Z",
     "iopub.status.idle": "2024-09-28T12:52:40.488106Z",
     "shell.execute_reply": "2024-09-28T12:52:40.487566Z"
    },
    "lines_to_next_cell": 1,
    "papermill": {
     "duration": 0.009817,
     "end_time": "2024-09-28T12:52:40.489094",
     "exception": false,
     "start_time": "2024-09-28T12:52:40.479277",
     "status": "completed"
    },
    "tags": []
   },
   "outputs": [],
   "source": [
    "import bisect\n",
    "import functools\n",
    "import itertools\n",
    "import collections\n",
    "import heapq\n",
    "import math\n",
    "import random\n",
    "import typing"
   ]
  },
  {
   "cell_type": "markdown",
   "id": "b85ea213",
   "metadata": {
    "papermill": {
     "duration": 0.003766,
     "end_time": "2024-09-28T12:52:40.496749",
     "exception": false,
     "start_time": "2024-09-28T12:52:40.492983",
     "status": "completed"
    },
    "tags": []
   },
   "source": [
    "#### Helper utilities - Trie Data Structure"
   ]
  },
  {
   "cell_type": "code",
   "execution_count": 2,
   "id": "018e2e4e",
   "metadata": {
    "execution": {
     "iopub.execute_input": "2024-09-28T12:52:40.505422Z",
     "iopub.status.busy": "2024-09-28T12:52:40.504936Z",
     "iopub.status.idle": "2024-09-28T12:52:40.510835Z",
     "shell.execute_reply": "2024-09-28T12:52:40.510276Z"
    },
    "papermill": {
     "duration": 0.011353,
     "end_time": "2024-09-28T12:52:40.511894",
     "exception": false,
     "start_time": "2024-09-28T12:52:40.500541",
     "status": "completed"
    },
    "tags": []
   },
   "outputs": [],
   "source": [
    "class TrieNode:\n",
    "    def __init__(self, end: bool = False) -> None:\n",
    "        self.end = end\n",
    "        self.next: dict[str, 'TrieNode'] = dict()\n",
    "\n",
    "    def insert_word(self, word: str) -> None:\n",
    "        curr = self\n",
    "        for ch in word:\n",
    "            if ch not in curr.next:\n",
    "                curr.next[ch] = TrieNode()\n",
    "            curr = curr.next[ch]\n",
    "        curr.end = True\n",
    "\n",
    "    def search(self, word) -> bool:\n",
    "        curr = self\n",
    "        for ch in word:\n",
    "            if ch in curr.next:\n",
    "                curr = curr.next[ch]\n",
    "            else:\n",
    "                return False\n",
    "        return curr.end\n",
    "\n",
    "    @staticmethod\n",
    "    def from_wordlist(wordList: list[str]) -> 'TrieNode':\n",
    "        root = TrieNode()\n",
    "        for word in wordList:\n",
    "            root.insert_word(word)\n",
    "        return root"
   ]
  },
  {
   "cell_type": "markdown",
   "id": "9b93edde",
   "metadata": {
    "papermill": {
     "duration": 0.003745,
     "end_time": "2024-09-28T12:52:40.519505",
     "exception": false,
     "start_time": "2024-09-28T12:52:40.515760",
     "status": "completed"
    },
    "tags": []
   },
   "source": [
    "#### Arrays - Day 1"
   ]
  },
  {
   "cell_type": "code",
   "execution_count": 3,
   "id": "aecd13e3",
   "metadata": {
    "execution": {
     "iopub.execute_input": "2024-09-28T12:52:40.528264Z",
     "iopub.status.busy": "2024-09-28T12:52:40.527750Z",
     "iopub.status.idle": "2024-09-28T12:52:40.531812Z",
     "shell.execute_reply": "2024-09-28T12:52:40.531346Z"
    },
    "lines_to_next_cell": 1,
    "papermill": {
     "duration": 0.009351,
     "end_time": "2024-09-28T12:52:40.532777",
     "exception": false,
     "start_time": "2024-09-28T12:52:40.523426",
     "status": "completed"
    },
    "tags": []
   },
   "outputs": [],
   "source": [
    "def twoSum(nums: list[int], target: int) -> tuple[int, int]:\n",
    "    hm: dict[int, int] = dict()\n",
    "    for i in range(len(nums)):\n",
    "        if target - nums[i] in hm:\n",
    "            return hm[target - nums[i]], i\n",
    "        hm[nums[i]] = i\n",
    "    return -1, -1\n",
    "\n",
    "# Testing the solution\n",
    "assert twoSum([2,7,11,15], 9) == (0,1)\n",
    "assert twoSum([3,2,4], 6) == (1,2)\n",
    "assert twoSum([3,3], 6) == (0,1)"
   ]
  },
  {
   "cell_type": "code",
   "execution_count": 4,
   "id": "55c8bec1",
   "metadata": {
    "execution": {
     "iopub.execute_input": "2024-09-28T12:52:40.541519Z",
     "iopub.status.busy": "2024-09-28T12:52:40.540956Z",
     "iopub.status.idle": "2024-09-28T12:52:40.545067Z",
     "shell.execute_reply": "2024-09-28T12:52:40.544632Z"
    },
    "lines_to_next_cell": 1,
    "papermill": {
     "duration": 0.009416,
     "end_time": "2024-09-28T12:52:40.546032",
     "exception": false,
     "start_time": "2024-09-28T12:52:40.536616",
     "status": "completed"
    },
    "tags": []
   },
   "outputs": [],
   "source": [
    "def maxProfit(prices: list[int]) -> int:\n",
    "    profit, best_price = 0, prices[-1]\n",
    "    for i in range(len(prices) - 2, -1, -1):\n",
    "        if prices[i] < best_price:\n",
    "            profit = max(profit, best_price - prices[i])\n",
    "        else:\n",
    "            best_price = prices[i]\n",
    "    return profit\n",
    "\n",
    "# Testing the solution\n",
    "assert maxProfit([7,1,5,3,6,4]) == 5\n",
    "assert maxProfit([7,6,4,3,1]) == 0\n",
    "assert maxProfit([1]) == 0"
   ]
  },
  {
   "cell_type": "code",
   "execution_count": 5,
   "id": "cda50cfd",
   "metadata": {
    "execution": {
     "iopub.execute_input": "2024-09-28T12:52:40.554776Z",
     "iopub.status.busy": "2024-09-28T12:52:40.554302Z",
     "iopub.status.idle": "2024-09-28T12:52:40.558146Z",
     "shell.execute_reply": "2024-09-28T12:52:40.557621Z"
    },
    "lines_to_next_cell": 1,
    "papermill": {
     "duration": 0.009213,
     "end_time": "2024-09-28T12:52:40.559042",
     "exception": false,
     "start_time": "2024-09-28T12:52:40.549829",
     "status": "completed"
    },
    "tags": []
   },
   "outputs": [],
   "source": [
    "def containsDuplicate(nums: list[int]) -> bool:\n",
    "    hashset: set[int] = set()\n",
    "    for n in nums:\n",
    "        if n in hashset:\n",
    "            return True\n",
    "        hashset.add(n)\n",
    "    return False\n",
    "\n",
    "# Testing the solution\n",
    "assert containsDuplicate([1,2,3,1]) == True\n",
    "assert containsDuplicate([1,2,3,4]) == False\n",
    "assert containsDuplicate([1,1,1,3,3,4,3,2,4,2]) == True"
   ]
  },
  {
   "cell_type": "code",
   "execution_count": 6,
   "id": "189f0e99",
   "metadata": {
    "execution": {
     "iopub.execute_input": "2024-09-28T12:52:40.568053Z",
     "iopub.status.busy": "2024-09-28T12:52:40.567546Z",
     "iopub.status.idle": "2024-09-28T12:52:40.572105Z",
     "shell.execute_reply": "2024-09-28T12:52:40.571569Z"
    },
    "lines_to_next_cell": 1,
    "papermill": {
     "duration": 0.009779,
     "end_time": "2024-09-28T12:52:40.573064",
     "exception": false,
     "start_time": "2024-09-28T12:52:40.563285",
     "status": "completed"
    },
    "tags": []
   },
   "outputs": [],
   "source": [
    "def productExceptSelf(nums: list[int]) -> list[int]:\n",
    "    N = len(nums)\n",
    "    prod, zc = 1, 0\n",
    "    for i in range(N):\n",
    "        zc += nums[i] == 0\n",
    "        prod *= nums[i] if nums[i] != 0 else 1\n",
    "\n",
    "    result: list[int] = []\n",
    "    for i in range(N):\n",
    "        if zc > 1:\n",
    "            result.append(0)\n",
    "        elif zc == 1:\n",
    "            result.append(0 if nums[i] != 0 else prod)\n",
    "        else:\n",
    "            result.append(prod // nums[i])\n",
    "\n",
    "    return result\n",
    "\n",
    "# Testing the solution\n",
    "assert productExceptSelf([1,2,3,4]) == [24,12,8,6]\n",
    "assert productExceptSelf([-1,1,0,-3,3]) == [0,0,9,0,0]"
   ]
  },
  {
   "cell_type": "code",
   "execution_count": 7,
   "id": "d5271818",
   "metadata": {
    "execution": {
     "iopub.execute_input": "2024-09-28T12:52:40.581753Z",
     "iopub.status.busy": "2024-09-28T12:52:40.581306Z",
     "iopub.status.idle": "2024-09-28T12:52:40.586285Z",
     "shell.execute_reply": "2024-09-28T12:52:40.585825Z"
    },
    "lines_to_next_cell": 1,
    "papermill": {
     "duration": 0.010324,
     "end_time": "2024-09-28T12:52:40.587260",
     "exception": false,
     "start_time": "2024-09-28T12:52:40.576936",
     "status": "completed"
    },
    "tags": []
   },
   "outputs": [
    {
     "name": "stdout",
     "output_type": "stream",
     "text": [
      "[4, -1, 2, 1]\n",
      "[1]\n",
      "[5, 4, -1, 7, 8]\n",
      "[-1]\n"
     ]
    }
   ],
   "source": [
    "def maxSubArray(nums: list[int]) -> int:\n",
    "    \"\"\"\n",
    "    Kadane's algo:\n",
    "    A subarray with a sum less than 0 will always reduce our answer and so this type of subarray cannot be a part of the subarray with maximum sum.\n",
    "    Reset to 0 when total becomes less than 0\n",
    "\n",
    "    Follow up: Print the max sub array\n",
    "    \"\"\"\n",
    "    result, total = nums[0], 0\n",
    "    max_start_idx = max_end_idx = start_idx = 0\n",
    "    for i in range(len(nums)):\n",
    "        total += nums[i]\n",
    "        if total > result:\n",
    "            max_start_idx, max_end_idx, result = start_idx, i, total\n",
    "        if total < 0:\n",
    "            total, start_idx = 0, i + 1\n",
    "\n",
    "    print(nums[max_start_idx: max_end_idx + 1])\n",
    "    return result\n",
    "\n",
    "# Testing the solution\n",
    "assert maxSubArray([-2,1,-3,4,-1,2,1,-5,4]) == 6\n",
    "assert maxSubArray([1]) == 1\n",
    "assert maxSubArray([5,4,-1,7,8]) == 23\n",
    "assert maxSubArray([-3,-2,-1]) == -1"
   ]
  },
  {
   "cell_type": "code",
   "execution_count": 8,
   "id": "d9fc27a7",
   "metadata": {
    "execution": {
     "iopub.execute_input": "2024-09-28T12:52:40.595811Z",
     "iopub.status.busy": "2024-09-28T12:52:40.595627Z",
     "iopub.status.idle": "2024-09-28T12:52:40.601694Z",
     "shell.execute_reply": "2024-09-28T12:52:40.601190Z"
    },
    "lines_to_next_cell": 1,
    "papermill": {
     "duration": 0.011345,
     "end_time": "2024-09-28T12:52:40.602632",
     "exception": false,
     "start_time": "2024-09-28T12:52:40.591287",
     "status": "completed"
    },
    "tags": []
   },
   "outputs": [],
   "source": [
    "def maxProduct(nums: list[int]) -> int:\n",
    "    \"\"\"\n",
    "    If even num of -ve, ans is product of all\n",
    "    If odd num of -ve, ans is either the prefix prod or postfix prod\n",
    "\n",
    "    How to handle zeros? Zeros can never be part of ans. Reset accumulator to 1 if hit 0\n",
    "    \"\"\"\n",
    "\n",
    "    N = len(nums)\n",
    "    result = nums[0]\n",
    "\n",
    "    # Calculate prefix and postfix in the same loop\n",
    "    # Note that postfix and prefix here are not related to one another\n",
    "    # We are simply doing two distinct ops in same loop\n",
    "    pre = post = 1\n",
    "    for i in range(N):\n",
    "        pre *= nums[i]\n",
    "        post *= nums[N - i - 1]\n",
    "        result = max(pre, post, result)\n",
    "        if pre == 0:\n",
    "            pre = 1\n",
    "        if post == 0:\n",
    "            post = 1\n",
    "\n",
    "    return result\n",
    "\n",
    "# Testing the solution\n",
    "assert maxProduct([2,3,-2,4]) == 6\n",
    "assert maxProduct([-2,0,-1]) == 0\n",
    "assert maxProduct([-1,-2,3]) == 6\n",
    "\n",
    "def maxProductKadane(nums: list[int]) -> int:\n",
    "    min_ = max_ = result = nums[0]\n",
    "    for i in range(1, len(nums)):\n",
    "        min_, max_ = min(nums[i], min_ * nums[i], max_ * nums[i]), max(nums[i], min_ * nums[i], max_ * nums[i])\n",
    "        result = max(result, max_)\n",
    "        if min_ == 0:\n",
    "            min_ = 1\n",
    "        if max_ == 0:\n",
    "            max_ = 1\n",
    "    return result\n",
    "\n",
    "# Testing the solution\n",
    "assert maxProductKadane([2,3,-2,4]) == 6\n",
    "assert maxProductKadane([-2,0,-1]) == 0\n",
    "assert maxProductKadane([-1,-2,3]) == 6"
   ]
  },
  {
   "cell_type": "code",
   "execution_count": 9,
   "id": "68f3ae11",
   "metadata": {
    "execution": {
     "iopub.execute_input": "2024-09-28T12:52:40.611322Z",
     "iopub.status.busy": "2024-09-28T12:52:40.610816Z",
     "iopub.status.idle": "2024-09-28T12:52:40.615437Z",
     "shell.execute_reply": "2024-09-28T12:52:40.614918Z"
    },
    "lines_to_next_cell": 1,
    "papermill": {
     "duration": 0.009919,
     "end_time": "2024-09-28T12:52:40.616387",
     "exception": false,
     "start_time": "2024-09-28T12:52:40.606468",
     "status": "completed"
    },
    "tags": []
   },
   "outputs": [],
   "source": [
    "def findMin(nums: list[int]) -> int:\n",
    "    min_ = nums[0]\n",
    "    low, high = 0, len(nums) - 1\n",
    "    while low <= high:\n",
    "        mid = (low + high) // 2\n",
    "\n",
    "        # Already sorted\n",
    "        if nums[low] <= nums[high]:\n",
    "            return min(min_, nums[low])\n",
    "\n",
    "        # Left half is sorted, take min and\n",
    "        # continue searching on right half\n",
    "        elif nums[low] <= nums[mid]:\n",
    "            min_ = min(min_, nums[low])\n",
    "            low = mid + 1\n",
    "\n",
    "        # Right half is sorted, take min\n",
    "        # and continue searching left half\n",
    "        else:\n",
    "            min_ = min(min_, nums[mid])\n",
    "            high = mid - 1\n",
    "\n",
    "    return min_\n",
    "\n",
    "# Testing the solution\n",
    "assert findMin([3,4,5,1,2]) == 1\n",
    "assert findMin([4,5,6,7,0,1,2]) == 0\n",
    "assert findMin([11,13,15,17]) == 11"
   ]
  },
  {
   "cell_type": "code",
   "execution_count": 10,
   "id": "691d4003",
   "metadata": {
    "execution": {
     "iopub.execute_input": "2024-09-28T12:52:40.625163Z",
     "iopub.status.busy": "2024-09-28T12:52:40.624710Z",
     "iopub.status.idle": "2024-09-28T12:52:40.629552Z",
     "shell.execute_reply": "2024-09-28T12:52:40.629084Z"
    },
    "lines_to_next_cell": 1,
    "papermill": {
     "duration": 0.010154,
     "end_time": "2024-09-28T12:52:40.630509",
     "exception": false,
     "start_time": "2024-09-28T12:52:40.620355",
     "status": "completed"
    },
    "tags": []
   },
   "outputs": [],
   "source": [
    "def searchRotated(nums: list[int], target: int) -> int:\n",
    "    low, high = 0, len(nums) - 1\n",
    "    while low <= high:\n",
    "        mid = (low + high) // 2\n",
    "        # Mid contains target, return\n",
    "        if nums[mid] == target:\n",
    "            return mid\n",
    "\n",
    "        # Left half is sorted\n",
    "        elif nums[low] <= nums[mid]:\n",
    "            # target lies within the left portion\n",
    "            if nums[low] <= target <= nums[mid]:\n",
    "                high = mid - 1\n",
    "            # target lies out left portion, need to search right\n",
    "            else:\n",
    "                low = mid + 1\n",
    "\n",
    "        # Right half is sorted\n",
    "        else:\n",
    "            # target lies with sorted range\n",
    "            if nums[mid + 1] <= target <= nums[high]:\n",
    "                low = mid + 1\n",
    "            # target lies outside right portion, search left\n",
    "            else:\n",
    "                high = mid - 1\n",
    "\n",
    "    return -1\n",
    "\n",
    "# Testing the solution\n",
    "assert searchRotated([4,5,6,7,0,1,2], 0) == 4\n",
    "assert searchRotated([4,5,6,7,0,1,2], 3) == -1\n",
    "assert searchRotated([1], 0) == -1"
   ]
  },
  {
   "cell_type": "code",
   "execution_count": 11,
   "id": "fc8f7b8f",
   "metadata": {
    "execution": {
     "iopub.execute_input": "2024-09-28T12:52:40.639322Z",
     "iopub.status.busy": "2024-09-28T12:52:40.638875Z",
     "iopub.status.idle": "2024-09-28T12:52:40.645264Z",
     "shell.execute_reply": "2024-09-28T12:52:40.644762Z"
    },
    "lines_to_next_cell": 1,
    "papermill": {
     "duration": 0.011849,
     "end_time": "2024-09-28T12:52:40.646225",
     "exception": false,
     "start_time": "2024-09-28T12:52:40.634376",
     "status": "completed"
    },
    "tags": []
   },
   "outputs": [],
   "source": [
    "def threeSum(nums: list[int]) -> set[tuple[int, int, int]]:\n",
    "    N = len(nums)\n",
    "\n",
    "    # Crucial to sort it\n",
    "    nums.sort()\n",
    "\n",
    "    result: set[tuple[int, int, int]] = set()\n",
    "    i = 0\n",
    "    while i < N:\n",
    "        left = nums[i]\n",
    "        j, k = i + 1, N - 1\n",
    "        while j < k:\n",
    "            mid, right = nums[j], nums[k]\n",
    "            total = left + mid + right\n",
    "            triplet = sorted((left, mid, right))\n",
    "            if total == 0:\n",
    "                result.add((triplet[0], triplet[1], triplet[2]))\n",
    "                while j < k and nums[j] == mid:\n",
    "                    j += 1\n",
    "                while j < k and nums[k] == right:\n",
    "                    k -= 1\n",
    "            elif total < 0:\n",
    "                while j < k and nums[j] == mid:\n",
    "                    j += 1\n",
    "            else:\n",
    "                while j < k and nums[k] == right:\n",
    "                    k -= 1\n",
    "\n",
    "        while i < N and nums[i] == left:\n",
    "            i += 1\n",
    "\n",
    "    return result\n",
    "\n",
    "# Testing the solution\n",
    "assert threeSum([-1,0,1,2,-1,-4]) == {(-1,0,1),(-1,-1,2)}\n",
    "assert threeSum([0,1,1]) == set()\n",
    "assert threeSum([0,0,0]) == {(0,0,0)}"
   ]
  },
  {
   "cell_type": "code",
   "execution_count": 12,
   "id": "28c93626",
   "metadata": {
    "execution": {
     "iopub.execute_input": "2024-09-28T12:52:40.655064Z",
     "iopub.status.busy": "2024-09-28T12:52:40.654555Z",
     "iopub.status.idle": "2024-09-28T12:52:40.658657Z",
     "shell.execute_reply": "2024-09-28T12:52:40.658198Z"
    },
    "lines_to_next_cell": 1,
    "papermill": {
     "duration": 0.009315,
     "end_time": "2024-09-28T12:52:40.659542",
     "exception": false,
     "start_time": "2024-09-28T12:52:40.650227",
     "status": "completed"
    },
    "tags": []
   },
   "outputs": [],
   "source": [
    "def maxArea(heights: list[int]) -> int:\n",
    "    \"\"\"\n",
    "    Two pointer solution\n",
    "    Area equals to the height (min height of both boundaries) * width\n",
    "\n",
    "    At first step we compute the area, this would have the maximum width and would be a worthy contender of our quest to find the max area.\n",
    "\n",
    "    Now we want to find area that is greater than what we currently have, width is going to decrease but atleast we can ensure that height is improved\n",
    "    by retaining the side with greater height.\n",
    "    \"\"\"\n",
    "    i, j = 0, len(heights) - 1\n",
    "    max_area = 0\n",
    "    while i < j:\n",
    "        max_area = max(max_area, min(heights[i], heights[j]) * (j - i))\n",
    "        if heights[i] < heights[j]:\n",
    "            i += 1\n",
    "        else:\n",
    "            j -= 1\n",
    "\n",
    "    return max_area\n",
    "\n",
    "# Testing the solution\n",
    "assert maxArea([1,8,6,2,5,4,8,3,7]) == 49\n",
    "assert maxArea([1,1]) == 1"
   ]
  },
  {
   "cell_type": "markdown",
   "id": "acd51a3a",
   "metadata": {
    "papermill": {
     "duration": 0.003929,
     "end_time": "2024-09-28T12:52:40.667360",
     "exception": false,
     "start_time": "2024-09-28T12:52:40.663431",
     "status": "completed"
    },
    "tags": []
   },
   "source": [
    "#### Bit Manipulation"
   ]
  },
  {
   "cell_type": "code",
   "execution_count": 13,
   "id": "a4601131",
   "metadata": {
    "execution": {
     "iopub.execute_input": "2024-09-28T12:52:40.676128Z",
     "iopub.status.busy": "2024-09-28T12:52:40.675914Z",
     "iopub.status.idle": "2024-09-28T12:52:40.679616Z",
     "shell.execute_reply": "2024-09-28T12:52:40.679157Z"
    },
    "lines_to_next_cell": 1,
    "papermill": {
     "duration": 0.009196,
     "end_time": "2024-09-28T12:52:40.680493",
     "exception": false,
     "start_time": "2024-09-28T12:52:40.671297",
     "status": "completed"
    },
    "tags": []
   },
   "outputs": [],
   "source": [
    "def add(a: int, b: int) -> int:\n",
    "    # https://leetcode.com/problems/sum-of-two-integers/solutions/489210/read-this-if-you-want-to-learn-about-masks\n",
    "\n",
    "    # Each F adds 4 1s, 32 bit 1s\n",
    "    mask = 0xffffffff\n",
    "\n",
    "    # Actual operation\n",
    "    while (b & mask) > 0:\n",
    "        a, b = a ^ b, (a & b) << 1\n",
    "\n",
    "    return a & mask if b > 0 else a\n",
    "\n",
    "# Testing the solution\n",
    "assert add(1, 3) == 4\n",
    "assert add(3, 5) == 8\n",
    "assert add(-1, 1) == 0"
   ]
  },
  {
   "cell_type": "code",
   "execution_count": 14,
   "id": "26a199eb",
   "metadata": {
    "execution": {
     "iopub.execute_input": "2024-09-28T12:52:40.689104Z",
     "iopub.status.busy": "2024-09-28T12:52:40.688891Z",
     "iopub.status.idle": "2024-09-28T12:52:40.692737Z",
     "shell.execute_reply": "2024-09-28T12:52:40.692240Z"
    },
    "lines_to_next_cell": 1,
    "papermill": {
     "duration": 0.009207,
     "end_time": "2024-09-28T12:52:40.693680",
     "exception": false,
     "start_time": "2024-09-28T12:52:40.684473",
     "status": "completed"
    },
    "tags": []
   },
   "outputs": [],
   "source": [
    "def hammingWeight(n: int) -> int:\n",
    "    \"\"\"\n",
    "    # Typical Approach\n",
    "\n",
    "    bits = 0\n",
    "    while n:\n",
    "        bits += n & 1\n",
    "        n >>= 1\n",
    "    return bits\n",
    "    \"\"\"\n",
    "\n",
    "    \"\"\"\n",
    "    Doing a n & (n - 1) always removes the right most set bit.\n",
    "\n",
    "    1000100 & (1000100 - 1) = 1000000\n",
    "    \"\"\"\n",
    "    bits = 0\n",
    "    while n:\n",
    "        bits, n = bits + 1, n & (n - 1)\n",
    "    return bits\n",
    "\n",
    "# Testing the solution\n",
    "assert hammingWeight(11) == 3\n",
    "assert hammingWeight(128) == 1\n",
    "assert hammingWeight(2147483645) == 30"
   ]
  },
  {
   "cell_type": "code",
   "execution_count": 15,
   "id": "b0ff68b7",
   "metadata": {
    "execution": {
     "iopub.execute_input": "2024-09-28T12:52:40.702489Z",
     "iopub.status.busy": "2024-09-28T12:52:40.702034Z",
     "iopub.status.idle": "2024-09-28T12:52:40.705977Z",
     "shell.execute_reply": "2024-09-28T12:52:40.705498Z"
    },
    "lines_to_next_cell": 1,
    "papermill": {
     "duration": 0.009181,
     "end_time": "2024-09-28T12:52:40.706856",
     "exception": false,
     "start_time": "2024-09-28T12:52:40.697675",
     "status": "completed"
    },
    "tags": []
   },
   "outputs": [],
   "source": [
    "def countBits(N: int) -> list[int]:\n",
    "    \"\"\"\n",
    "    Had to do a fair bit writing the code on 'paper'\n",
    "    Basically the bits seem to add up from previous result\n",
    "\n",
    "    Actually on reading tutorials, looks like it can be much simpler - arr[i // 2] or arr[i // 2]\n",
    "    \"\"\"\n",
    "    res: list[int] = [0]\n",
    "    look_back = 1\n",
    "    for i in range(1, N + 1):\n",
    "        if i == 2 * look_back:\n",
    "            look_back <<= 1\n",
    "        res.append(res[i - look_back] + 1)\n",
    "    return res\n",
    "\n",
    "# Testing the solution\n",
    "assert countBits(2) == [0,1,1]\n",
    "assert countBits(5) == [0,1,1,2,1,2]"
   ]
  },
  {
   "cell_type": "code",
   "execution_count": 16,
   "id": "4ce20b10",
   "metadata": {
    "execution": {
     "iopub.execute_input": "2024-09-28T12:52:40.715383Z",
     "iopub.status.busy": "2024-09-28T12:52:40.714939Z",
     "iopub.status.idle": "2024-09-28T12:52:40.718865Z",
     "shell.execute_reply": "2024-09-28T12:52:40.718324Z"
    },
    "lines_to_next_cell": 1,
    "papermill": {
     "duration": 0.009237,
     "end_time": "2024-09-28T12:52:40.719921",
     "exception": false,
     "start_time": "2024-09-28T12:52:40.710684",
     "status": "completed"
    },
    "tags": []
   },
   "outputs": [],
   "source": [
    "def missingNumber(nums: list[int]) -> int:\n",
    "    # x ^ x = 0\n",
    "    N = len(nums)\n",
    "    xor = functools.reduce(lambda x, y: x ^ y, range(N + 1), 0)\n",
    "    for n in nums:\n",
    "        xor ^= n\n",
    "    return xor\n",
    "\n",
    "# Testing the solution\n",
    "assert missingNumber([3,0,1]) == 2\n",
    "assert missingNumber([0,1]) == 2\n",
    "assert missingNumber([9,6,4,2,3,5,7,0,1]) == 8"
   ]
  },
  {
   "cell_type": "code",
   "execution_count": 17,
   "id": "0edb1ea7",
   "metadata": {
    "execution": {
     "iopub.execute_input": "2024-09-28T12:52:40.728797Z",
     "iopub.status.busy": "2024-09-28T12:52:40.728291Z",
     "iopub.status.idle": "2024-09-28T12:52:40.731749Z",
     "shell.execute_reply": "2024-09-28T12:52:40.731271Z"
    },
    "lines_to_next_cell": 1,
    "papermill": {
     "duration": 0.008709,
     "end_time": "2024-09-28T12:52:40.732691",
     "exception": false,
     "start_time": "2024-09-28T12:52:40.723982",
     "status": "completed"
    },
    "tags": []
   },
   "outputs": [],
   "source": [
    "def reverseBits(N: int) -> int:\n",
    "    rev = 0\n",
    "    for i in range(32):\n",
    "        rev = (rev << 1) | N & 1\n",
    "        N = N >> 1\n",
    "\n",
    "    return rev\n",
    "\n",
    "# Testing the solution\n",
    "assert reverseBits(4294967293) == 3221225471\n",
    "assert reverseBits(43261596) == 964176192"
   ]
  },
  {
   "cell_type": "markdown",
   "id": "55902b2c",
   "metadata": {
    "papermill": {
     "duration": 0.003791,
     "end_time": "2024-09-28T12:52:40.740284",
     "exception": false,
     "start_time": "2024-09-28T12:52:40.736493",
     "status": "completed"
    },
    "tags": []
   },
   "source": [
    "#### DP"
   ]
  },
  {
   "cell_type": "code",
   "execution_count": 18,
   "id": "db5a784e",
   "metadata": {
    "execution": {
     "iopub.execute_input": "2024-09-28T12:52:40.749015Z",
     "iopub.status.busy": "2024-09-28T12:52:40.748499Z",
     "iopub.status.idle": "2024-09-28T12:52:40.752010Z",
     "shell.execute_reply": "2024-09-28T12:52:40.751562Z"
    },
    "lines_to_next_cell": 1,
    "papermill": {
     "duration": 0.008799,
     "end_time": "2024-09-28T12:52:40.752993",
     "exception": false,
     "start_time": "2024-09-28T12:52:40.744194",
     "status": "completed"
    },
    "tags": []
   },
   "outputs": [],
   "source": [
    "def climbStairs(N: int) -> int:\n",
    "    # Fibonacci sequence\n",
    "    prev = curr = 1\n",
    "    for i in range(N - 1):\n",
    "        prev, curr = curr, curr + prev\n",
    "    return curr\n",
    "\n",
    "# Testing the solution\n",
    "assert climbStairs(2) == 2\n",
    "assert climbStairs(3) == 3\n",
    "assert climbStairs(9) == 55"
   ]
  },
  {
   "cell_type": "code",
   "execution_count": 19,
   "id": "b7abfb71",
   "metadata": {
    "execution": {
     "iopub.execute_input": "2024-09-28T12:52:40.761920Z",
     "iopub.status.busy": "2024-09-28T12:52:40.761448Z",
     "iopub.status.idle": "2024-09-28T12:52:40.765693Z",
     "shell.execute_reply": "2024-09-28T12:52:40.765252Z"
    },
    "lines_to_next_cell": 1,
    "papermill": {
     "duration": 0.009645,
     "end_time": "2024-09-28T12:52:40.766590",
     "exception": false,
     "start_time": "2024-09-28T12:52:40.756945",
     "status": "completed"
    },
    "tags": []
   },
   "outputs": [],
   "source": [
    "def coinChange(coins: list[int], amount: int) -> int:\n",
    "    dp: list[float] = [math.inf if i > 0 else 0 for i in range(amount + 1)]\n",
    "    for target in range(1, amount + 1):\n",
    "        for coin in coins:\n",
    "            if target - coin >= 0:\n",
    "                dp[target] = min(dp[target], 1 + dp[target - coin])\n",
    "\n",
    "    return int(dp[amount]) if not math.isinf(dp[amount]) else -1\n",
    "\n",
    "# Testing the solution\n",
    "assert coinChange([1,2,5], 11) == 3\n",
    "assert coinChange([2], 3) == -1\n",
    "assert coinChange([1], 0) == 0"
   ]
  },
  {
   "cell_type": "code",
   "execution_count": 20,
   "id": "4d4e1122",
   "metadata": {
    "execution": {
     "iopub.execute_input": "2024-09-28T12:52:40.775560Z",
     "iopub.status.busy": "2024-09-28T12:52:40.775066Z",
     "iopub.status.idle": "2024-09-28T12:52:40.779975Z",
     "shell.execute_reply": "2024-09-28T12:52:40.779432Z"
    },
    "lines_to_next_cell": 1,
    "papermill": {
     "duration": 0.0103,
     "end_time": "2024-09-28T12:52:40.780940",
     "exception": false,
     "start_time": "2024-09-28T12:52:40.770640",
     "status": "completed"
    },
    "tags": []
   },
   "outputs": [],
   "source": [
    "def lengthOfLIS(nums: list[int]) -> int:\n",
    "    N = len(nums)\n",
    "    dp: list[int] = [0 for j in range(N + 2)]\n",
    "    for curr in range(N - 1, -1, -1):\n",
    "        prev_dp: list[int] = list(dp)\n",
    "        for prev in range(N - 1, -2, -1):\n",
    "            if prev != -1 and nums[prev] >= nums[curr]:\n",
    "                dp[prev + 1] = prev_dp[prev + 1]\n",
    "            else:\n",
    "                dp[prev + 1] = max(1 + prev_dp[curr + 1], prev_dp[prev + 1])\n",
    "\n",
    "    return dp[0]\n",
    "\n",
    "# Testing the solution\n",
    "assert lengthOfLIS([10,9,2,5,3,7,101,18]) == 4\n",
    "assert lengthOfLIS([0,1,0,3,2,3]) == 4\n",
    "assert lengthOfLIS([7,7,7,7,7,7,7]) == 1"
   ]
  },
  {
   "cell_type": "code",
   "execution_count": 21,
   "id": "4878c84c",
   "metadata": {
    "execution": {
     "iopub.execute_input": "2024-09-28T12:52:40.790069Z",
     "iopub.status.busy": "2024-09-28T12:52:40.789635Z",
     "iopub.status.idle": "2024-09-28T12:52:40.793522Z",
     "shell.execute_reply": "2024-09-28T12:52:40.793088Z"
    },
    "lines_to_next_cell": 1,
    "papermill": {
     "duration": 0.009416,
     "end_time": "2024-09-28T12:52:40.794454",
     "exception": false,
     "start_time": "2024-09-28T12:52:40.785038",
     "status": "completed"
    },
    "tags": []
   },
   "outputs": [],
   "source": [
    "def lengthOfLISOptimal(nums: list[int]) -> int:\n",
    "    dp: list[int] = []\n",
    "    for n in nums:\n",
    "        if not dp or dp[-1] < n:\n",
    "            dp.append(n)\n",
    "        else:\n",
    "            idx = bisect.bisect_left(dp, n)\n",
    "            dp[idx] = n\n",
    "\n",
    "    return len(dp)\n",
    "\n",
    "# Testing the solution\n",
    "assert lengthOfLISOptimal([10,9,2,5,3,7,101,18]) == 4\n",
    "assert lengthOfLISOptimal([0,1,0,3,2,3]) == 4\n",
    "assert lengthOfLISOptimal([7,7,7,7,7,7,7]) == 1"
   ]
  },
  {
   "cell_type": "code",
   "execution_count": 22,
   "id": "c50f6436",
   "metadata": {
    "execution": {
     "iopub.execute_input": "2024-09-28T12:52:40.803319Z",
     "iopub.status.busy": "2024-09-28T12:52:40.803146Z",
     "iopub.status.idle": "2024-09-28T12:52:40.807550Z",
     "shell.execute_reply": "2024-09-28T12:52:40.807125Z"
    },
    "lines_to_next_cell": 1,
    "papermill": {
     "duration": 0.009909,
     "end_time": "2024-09-28T12:52:40.808477",
     "exception": false,
     "start_time": "2024-09-28T12:52:40.798568",
     "status": "completed"
    },
    "tags": []
   },
   "outputs": [],
   "source": [
    "def longestCommonSubsequence(text1: str, text2: str) -> int:\n",
    "    N1, N2 = len(text1), len(text2)\n",
    "\n",
    "    # For space optimisation\n",
    "    if N1 < N2:\n",
    "        text1, N1, text2, N2 = text2, N2, text1, N1\n",
    "\n",
    "    dp: list[int] = [0 for j in range(N2 + 1)]\n",
    "    for i in range(N1 - 1, -1, -1):\n",
    "        prev_dp: list[int] = list(dp)\n",
    "        for j in range(N2 - 1, -1, -1):\n",
    "            if text1[i] == text2[j]:\n",
    "                dp[j] = 1 + prev_dp[j + 1]\n",
    "            else:\n",
    "                dp[j] = max(dp[j + 1], prev_dp[j])\n",
    "\n",
    "    return dp[0]\n",
    "\n",
    "# Testing the solution\n",
    "assert longestCommonSubsequence(\"abcde\", \"ace\") == 3\n",
    "assert longestCommonSubsequence(\"abc\", \"abc\") == 3\n",
    "assert longestCommonSubsequence(\"abc\", \"def\") == 0"
   ]
  },
  {
   "cell_type": "code",
   "execution_count": 23,
   "id": "c512a5f2",
   "metadata": {
    "execution": {
     "iopub.execute_input": "2024-09-28T12:52:40.817253Z",
     "iopub.status.busy": "2024-09-28T12:52:40.817079Z",
     "iopub.status.idle": "2024-09-28T12:52:40.821559Z",
     "shell.execute_reply": "2024-09-28T12:52:40.821105Z"
    },
    "lines_to_next_cell": 1,
    "papermill": {
     "duration": 0.010024,
     "end_time": "2024-09-28T12:52:40.822474",
     "exception": false,
     "start_time": "2024-09-28T12:52:40.812450",
     "status": "completed"
    },
    "tags": []
   },
   "outputs": [],
   "source": [
    "def wordBreak(string: str, wordDict: list[str]) -> bool:\n",
    "    @functools.cache\n",
    "    def backtrack(idx: int, curr: TrieNode) -> bool:\n",
    "        if idx == N:\n",
    "            return curr.end\n",
    "        else:\n",
    "            ch = string[idx]\n",
    "            pick = backtrack(idx + 1, curr.next[ch]) if ch in curr.next else False\n",
    "            nopick = backtrack(idx, root) if curr.end else False\n",
    "            return pick or nopick\n",
    "\n",
    "    # Create a Trie out of the wordlist\n",
    "    root = TrieNode.from_wordlist(wordDict)\n",
    "\n",
    "    N = len(string)\n",
    "    return backtrack(0, root)\n",
    "\n",
    "# Testing the solution\n",
    "assert wordBreak(\"catsandog\", [\"cats\",\"dog\",\"sand\",\"and\",\"cat\"]) == False\n",
    "assert wordBreak(\"applepenapple\", [\"apple\",\"pen\"]) == True\n",
    "assert wordBreak(\"leetcode\", [\"leet\", \"code\"]) == True"
   ]
  },
  {
   "cell_type": "code",
   "execution_count": 24,
   "id": "04d36ed5",
   "metadata": {
    "execution": {
     "iopub.execute_input": "2024-09-28T12:52:40.831673Z",
     "iopub.status.busy": "2024-09-28T12:52:40.831162Z",
     "iopub.status.idle": "2024-09-28T12:52:40.836055Z",
     "shell.execute_reply": "2024-09-28T12:52:40.835501Z"
    },
    "lines_to_next_cell": 1,
    "papermill": {
     "duration": 0.010421,
     "end_time": "2024-09-28T12:52:40.837053",
     "exception": false,
     "start_time": "2024-09-28T12:52:40.826632",
     "status": "completed"
    },
    "tags": []
   },
   "outputs": [],
   "source": [
    "def combinationSum(candidates: list[int], total: int) -> set[tuple[int, ...]]:\n",
    "    def backtrack(target: int, curr: list[int] = []) -> None:\n",
    "        if target == 0:\n",
    "            results.add(tuple(sorted(curr)))\n",
    "        elif target > 0:\n",
    "            for candidate in candidates:\n",
    "                curr.append(candidate)\n",
    "                backtrack(target - candidate, curr)\n",
    "                curr.pop()\n",
    "\n",
    "    N = len(candidates)\n",
    "    results: set[tuple[int, ...]] = set()\n",
    "    backtrack(total)\n",
    "    return results\n",
    "\n",
    "# Testing the solution\n",
    "assert combinationSum([2,3,6,7], 7) == {(2,2,3), (7,)}\n",
    "assert combinationSum([2,3,5], 8) == {(2,2,2,2),(2,3,3),(3,5)}\n",
    "assert combinationSum([2], 1) == set()"
   ]
  },
  {
   "cell_type": "markdown",
   "id": "316602c5",
   "metadata": {},
   "source": [
    "#### LC Biweekly - 28th Sept 2024"
   ]
  },
  {
   "cell_type": "code",
   "execution_count": null,
   "id": "590345a8",
   "metadata": {
    "lines_to_next_cell": 1
   },
   "outputs": [],
   "source": [
    "def minElement(nums: list[int]) -> int:\n",
    "    result: int = nums[0]\n",
    "    for n in nums:\n",
    "        result = min(result, sum(map(int, str(n))))\n",
    "    return result\n",
    "\n",
    "# Testing the solution\n",
    "assert minElement([10,12,13,14]) == 1\n",
    "assert minElement([1,2,3,4]) == 1\n",
    "assert minElement([999,19,199]) == 10"
   ]
  },
  {
   "cell_type": "code",
   "execution_count": null,
   "id": "8af1ca02",
   "metadata": {},
   "outputs": [],
   "source": [
    "def maximumTotalSum(maximumHeight: list[int]) -> int:\n",
    "    # Sort in asc order\n",
    "    maximumHeight.sort()\n",
    "\n",
    "    total, prev = 0, maximumHeight[-1] + 1\n",
    "    while maximumHeight:\n",
    "        prev = min(maximumHeight.pop(), prev - 1)\n",
    "        if prev == 0:\n",
    "            return -1\n",
    "        else:\n",
    "            total += prev\n",
    "\n",
    "    return total\n",
    "\n",
    "# Testing the solution\n",
    "assert maximumTotalSum([4,3,3,3,2]) == -1\n",
    "assert maximumTotalSum([4,3,3,2]) == 10\n",
    "assert maximumTotalSum([15,10]) == 25\n",
    "assert maximumTotalSum([2,2,1]) == -1"
   ]
  }
 ],
 "metadata": {
  "kernelspec": {
   "display_name": "Python 3 (ipykernel)",
   "language": "python",
   "name": "python3"
  },
  "language_info": {
   "codemirror_mode": {
    "name": "ipython",
    "version": 3
   },
   "file_extension": ".py",
   "mimetype": "text/x-python",
   "name": "python",
   "nbconvert_exporter": "python",
   "pygments_lexer": "ipython3",
   "version": "3.12.6"
  },
  "papermill": {
   "default_parameters": {},
   "duration": 1.645051,
   "end_time": "2024-09-28T12:52:40.956428",
   "environment_variables": {},
   "exception": null,
   "input_path": "practice/010.ipynb",
   "output_path": "practice/010.ipynb",
   "parameters": {},
   "start_time": "2024-09-28T12:52:39.311377",
   "version": "2.6.0"
  }
 },
 "nbformat": 4,
 "nbformat_minor": 5
}
