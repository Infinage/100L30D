{
 "cells": [
  {
   "cell_type": "markdown",
   "id": "f1a1c898",
   "metadata": {
    "papermill": {
     "duration": 0.004889,
     "end_time": "2024-09-28T16:03:39.530329",
     "exception": false,
     "start_time": "2024-09-28T16:03:39.525440",
     "status": "completed"
    },
    "tags": []
   },
   "source": [
    "## Striver Blind - 75"
   ]
  },
  {
   "cell_type": "markdown",
   "id": "fa45e2bf",
   "metadata": {
    "papermill": {
     "duration": 0.004189,
     "end_time": "2024-09-28T16:03:39.538820",
     "exception": false,
     "start_time": "2024-09-28T16:03:39.534631",
     "status": "completed"
    },
    "tags": []
   },
   "source": [
    "#### Import neccessary modules"
   ]
  },
  {
   "cell_type": "code",
   "execution_count": 1,
   "id": "4eaae1f2",
   "metadata": {
    "execution": {
     "iopub.execute_input": "2024-09-28T16:03:39.548142Z",
     "iopub.status.busy": "2024-09-28T16:03:39.547713Z",
     "iopub.status.idle": "2024-09-28T16:03:39.551544Z",
     "shell.execute_reply": "2024-09-28T16:03:39.551052Z"
    },
    "lines_to_next_cell": 1,
    "papermill": {
     "duration": 0.009699,
     "end_time": "2024-09-28T16:03:39.552578",
     "exception": false,
     "start_time": "2024-09-28T16:03:39.542879",
     "status": "completed"
    },
    "tags": []
   },
   "outputs": [],
   "source": [
    "import bisect\n",
    "import functools\n",
    "import itertools\n",
    "import collections\n",
    "import heapq\n",
    "import math\n",
    "import random\n",
    "import typing"
   ]
  },
  {
   "cell_type": "markdown",
   "id": "b85ea213",
   "metadata": {
    "papermill": {
     "duration": 0.004196,
     "end_time": "2024-09-28T16:03:39.560930",
     "exception": false,
     "start_time": "2024-09-28T16:03:39.556734",
     "status": "completed"
    },
    "tags": []
   },
   "source": [
    "#### Helper utilities - Trie Data Structure"
   ]
  },
  {
   "cell_type": "code",
   "execution_count": 2,
   "id": "018e2e4e",
   "metadata": {
    "execution": {
     "iopub.execute_input": "2024-09-28T16:03:39.570202Z",
     "iopub.status.busy": "2024-09-28T16:03:39.569718Z",
     "iopub.status.idle": "2024-09-28T16:03:39.575319Z",
     "shell.execute_reply": "2024-09-28T16:03:39.574782Z"
    },
    "papermill": {
     "duration": 0.011317,
     "end_time": "2024-09-28T16:03:39.576397",
     "exception": false,
     "start_time": "2024-09-28T16:03:39.565080",
     "status": "completed"
    },
    "tags": []
   },
   "outputs": [],
   "source": [
    "class TrieNode:\n",
    "    def __init__(self, end: bool = False) -> None:\n",
    "        self.end = end\n",
    "        self.next: dict[str, 'TrieNode'] = dict()\n",
    "\n",
    "    def insert_word(self, word: str) -> None:\n",
    "        curr = self\n",
    "        for ch in word:\n",
    "            if ch not in curr.next:\n",
    "                curr.next[ch] = TrieNode()\n",
    "            curr = curr.next[ch]\n",
    "        curr.end = True\n",
    "\n",
    "    def search(self, word) -> bool:\n",
    "        curr = self\n",
    "        for ch in word:\n",
    "            if ch in curr.next:\n",
    "                curr = curr.next[ch]\n",
    "            else:\n",
    "                return False\n",
    "        return curr.end\n",
    "\n",
    "    @staticmethod\n",
    "    def from_wordlist(wordList: list[str]) -> 'TrieNode':\n",
    "        root = TrieNode()\n",
    "        for word in wordList:\n",
    "            root.insert_word(word)\n",
    "        return root"
   ]
  },
  {
   "cell_type": "markdown",
   "id": "9b93edde",
   "metadata": {
    "papermill": {
     "duration": 0.004218,
     "end_time": "2024-09-28T16:03:39.584922",
     "exception": false,
     "start_time": "2024-09-28T16:03:39.580704",
     "status": "completed"
    },
    "tags": []
   },
   "source": [
    "#### Arrays - Day 1"
   ]
  },
  {
   "cell_type": "code",
   "execution_count": 3,
   "id": "aecd13e3",
   "metadata": {
    "execution": {
     "iopub.execute_input": "2024-09-28T16:03:39.594609Z",
     "iopub.status.busy": "2024-09-28T16:03:39.594136Z",
     "iopub.status.idle": "2024-09-28T16:03:39.598068Z",
     "shell.execute_reply": "2024-09-28T16:03:39.597618Z"
    },
    "lines_to_next_cell": 1,
    "papermill": {
     "duration": 0.009896,
     "end_time": "2024-09-28T16:03:39.598987",
     "exception": false,
     "start_time": "2024-09-28T16:03:39.589091",
     "status": "completed"
    },
    "tags": []
   },
   "outputs": [],
   "source": [
    "def twoSum(nums: list[int], target: int) -> tuple[int, int]:\n",
    "    hm: dict[int, int] = dict()\n",
    "    for i in range(len(nums)):\n",
    "        if target - nums[i] in hm:\n",
    "            return hm[target - nums[i]], i\n",
    "        hm[nums[i]] = i\n",
    "    return -1, -1\n",
    "\n",
    "# Testing the solution\n",
    "assert twoSum([2,7,11,15], 9) == (0,1)\n",
    "assert twoSum([3,2,4], 6) == (1,2)\n",
    "assert twoSum([3,3], 6) == (0,1)"
   ]
  },
  {
   "cell_type": "code",
   "execution_count": 4,
   "id": "55c8bec1",
   "metadata": {
    "execution": {
     "iopub.execute_input": "2024-09-28T16:03:39.608423Z",
     "iopub.status.busy": "2024-09-28T16:03:39.608182Z",
     "iopub.status.idle": "2024-09-28T16:03:39.611979Z",
     "shell.execute_reply": "2024-09-28T16:03:39.611552Z"
    },
    "lines_to_next_cell": 1,
    "papermill": {
     "duration": 0.009613,
     "end_time": "2024-09-28T16:03:39.612909",
     "exception": false,
     "start_time": "2024-09-28T16:03:39.603296",
     "status": "completed"
    },
    "tags": []
   },
   "outputs": [],
   "source": [
    "def maxProfit(prices: list[int]) -> int:\n",
    "    profit, best_price = 0, prices[-1]\n",
    "    for i in range(len(prices) - 2, -1, -1):\n",
    "        if prices[i] < best_price:\n",
    "            profit = max(profit, best_price - prices[i])\n",
    "        else:\n",
    "            best_price = prices[i]\n",
    "    return profit\n",
    "\n",
    "# Testing the solution\n",
    "assert maxProfit([7,1,5,3,6,4]) == 5\n",
    "assert maxProfit([7,6,4,3,1]) == 0\n",
    "assert maxProfit([1]) == 0"
   ]
  },
  {
   "cell_type": "code",
   "execution_count": 5,
   "id": "cda50cfd",
   "metadata": {
    "execution": {
     "iopub.execute_input": "2024-09-28T16:03:39.622177Z",
     "iopub.status.busy": "2024-09-28T16:03:39.621999Z",
     "iopub.status.idle": "2024-09-28T16:03:39.625608Z",
     "shell.execute_reply": "2024-09-28T16:03:39.625157Z"
    },
    "lines_to_next_cell": 1,
    "papermill": {
     "duration": 0.009251,
     "end_time": "2024-09-28T16:03:39.626552",
     "exception": false,
     "start_time": "2024-09-28T16:03:39.617301",
     "status": "completed"
    },
    "tags": []
   },
   "outputs": [],
   "source": [
    "def containsDuplicate(nums: list[int]) -> bool:\n",
    "    hashset: set[int] = set()\n",
    "    for n in nums:\n",
    "        if n in hashset:\n",
    "            return True\n",
    "        hashset.add(n)\n",
    "    return False\n",
    "\n",
    "# Testing the solution\n",
    "assert containsDuplicate([1,2,3,1]) == True\n",
    "assert containsDuplicate([1,2,3,4]) == False\n",
    "assert containsDuplicate([1,1,1,3,3,4,3,2,4,2]) == True"
   ]
  },
  {
   "cell_type": "code",
   "execution_count": 6,
   "id": "189f0e99",
   "metadata": {
    "execution": {
     "iopub.execute_input": "2024-09-28T16:03:39.636005Z",
     "iopub.status.busy": "2024-09-28T16:03:39.635471Z",
     "iopub.status.idle": "2024-09-28T16:03:39.640000Z",
     "shell.execute_reply": "2024-09-28T16:03:39.639508Z"
    },
    "lines_to_next_cell": 1,
    "papermill": {
     "duration": 0.010227,
     "end_time": "2024-09-28T16:03:39.641017",
     "exception": false,
     "start_time": "2024-09-28T16:03:39.630790",
     "status": "completed"
    },
    "tags": []
   },
   "outputs": [],
   "source": [
    "def productExceptSelf(nums: list[int]) -> list[int]:\n",
    "    N = len(nums)\n",
    "    prod, zc = 1, 0\n",
    "    for i in range(N):\n",
    "        zc += nums[i] == 0\n",
    "        prod *= nums[i] if nums[i] != 0 else 1\n",
    "\n",
    "    result: list[int] = []\n",
    "    for i in range(N):\n",
    "        if zc > 1:\n",
    "            result.append(0)\n",
    "        elif zc == 1:\n",
    "            result.append(0 if nums[i] != 0 else prod)\n",
    "        else:\n",
    "            result.append(prod // nums[i])\n",
    "\n",
    "    return result\n",
    "\n",
    "# Testing the solution\n",
    "assert productExceptSelf([1,2,3,4]) == [24,12,8,6]\n",
    "assert productExceptSelf([-1,1,0,-3,3]) == [0,0,9,0,0]"
   ]
  },
  {
   "cell_type": "code",
   "execution_count": 7,
   "id": "d5271818",
   "metadata": {
    "execution": {
     "iopub.execute_input": "2024-09-28T16:03:39.650674Z",
     "iopub.status.busy": "2024-09-28T16:03:39.650120Z",
     "iopub.status.idle": "2024-09-28T16:03:39.655364Z",
     "shell.execute_reply": "2024-09-28T16:03:39.654869Z"
    },
    "lines_to_next_cell": 1,
    "papermill": {
     "duration": 0.01109,
     "end_time": "2024-09-28T16:03:39.656342",
     "exception": false,
     "start_time": "2024-09-28T16:03:39.645252",
     "status": "completed"
    },
    "tags": []
   },
   "outputs": [
    {
     "name": "stdout",
     "output_type": "stream",
     "text": [
      "[4, -1, 2, 1]\n",
      "[1]\n",
      "[5, 4, -1, 7, 8]\n",
      "[-1]\n"
     ]
    }
   ],
   "source": [
    "def maxSubArray(nums: list[int]) -> int:\n",
    "    \"\"\"\n",
    "    Kadane's algo:\n",
    "    A subarray with a sum less than 0 will always reduce our answer and so this type of subarray cannot be a part of the subarray with maximum sum.\n",
    "    Reset to 0 when total becomes less than 0\n",
    "\n",
    "    Follow up: Print the max sub array\n",
    "    \"\"\"\n",
    "    result, total = nums[0], 0\n",
    "    max_start_idx = max_end_idx = start_idx = 0\n",
    "    for i in range(len(nums)):\n",
    "        total += nums[i]\n",
    "        if total > result:\n",
    "            max_start_idx, max_end_idx, result = start_idx, i, total\n",
    "        if total < 0:\n",
    "            total, start_idx = 0, i + 1\n",
    "\n",
    "    print(nums[max_start_idx: max_end_idx + 1])\n",
    "    return result\n",
    "\n",
    "# Testing the solution\n",
    "assert maxSubArray([-2,1,-3,4,-1,2,1,-5,4]) == 6\n",
    "assert maxSubArray([1]) == 1\n",
    "assert maxSubArray([5,4,-1,7,8]) == 23\n",
    "assert maxSubArray([-3,-2,-1]) == -1"
   ]
  },
  {
   "cell_type": "code",
   "execution_count": 8,
   "id": "d9fc27a7",
   "metadata": {
    "execution": {
     "iopub.execute_input": "2024-09-28T16:03:39.665446Z",
     "iopub.status.busy": "2024-09-28T16:03:39.665231Z",
     "iopub.status.idle": "2024-09-28T16:03:39.671188Z",
     "shell.execute_reply": "2024-09-28T16:03:39.670728Z"
    },
    "lines_to_next_cell": 1,
    "papermill": {
     "duration": 0.011622,
     "end_time": "2024-09-28T16:03:39.672176",
     "exception": false,
     "start_time": "2024-09-28T16:03:39.660554",
     "status": "completed"
    },
    "tags": []
   },
   "outputs": [],
   "source": [
    "def maxProduct(nums: list[int]) -> int:\n",
    "    \"\"\"\n",
    "    If even num of -ve, ans is product of all\n",
    "    If odd num of -ve, ans is either the prefix prod or postfix prod\n",
    "\n",
    "    How to handle zeros? Zeros can never be part of ans. Reset accumulator to 1 if hit 0\n",
    "    \"\"\"\n",
    "\n",
    "    N = len(nums)\n",
    "    result = nums[0]\n",
    "\n",
    "    # Calculate prefix and postfix in the same loop\n",
    "    # Note that postfix and prefix here are not related to one another\n",
    "    # We are simply doing two distinct ops in same loop\n",
    "    pre = post = 1\n",
    "    for i in range(N):\n",
    "        pre *= nums[i]\n",
    "        post *= nums[N - i - 1]\n",
    "        result = max(pre, post, result)\n",
    "        if pre == 0:\n",
    "            pre = 1\n",
    "        if post == 0:\n",
    "            post = 1\n",
    "\n",
    "    return result\n",
    "\n",
    "# Testing the solution\n",
    "assert maxProduct([2,3,-2,4]) == 6\n",
    "assert maxProduct([-2,0,-1]) == 0\n",
    "assert maxProduct([-1,-2,3]) == 6\n",
    "\n",
    "def maxProductKadane(nums: list[int]) -> int:\n",
    "    min_ = max_ = result = nums[0]\n",
    "    for i in range(1, len(nums)):\n",
    "        min_, max_ = min(nums[i], min_ * nums[i], max_ * nums[i]), max(nums[i], min_ * nums[i], max_ * nums[i])\n",
    "        result = max(result, max_)\n",
    "        if min_ == 0:\n",
    "            min_ = 1\n",
    "        if max_ == 0:\n",
    "            max_ = 1\n",
    "    return result\n",
    "\n",
    "# Testing the solution\n",
    "assert maxProductKadane([2,3,-2,4]) == 6\n",
    "assert maxProductKadane([-2,0,-1]) == 0\n",
    "assert maxProductKadane([-1,-2,3]) == 6"
   ]
  },
  {
   "cell_type": "code",
   "execution_count": 9,
   "id": "68f3ae11",
   "metadata": {
    "execution": {
     "iopub.execute_input": "2024-09-28T16:03:39.681962Z",
     "iopub.status.busy": "2024-09-28T16:03:39.681480Z",
     "iopub.status.idle": "2024-09-28T16:03:39.686321Z",
     "shell.execute_reply": "2024-09-28T16:03:39.685723Z"
    },
    "lines_to_next_cell": 1,
    "papermill": {
     "duration": 0.010702,
     "end_time": "2024-09-28T16:03:39.687443",
     "exception": false,
     "start_time": "2024-09-28T16:03:39.676741",
     "status": "completed"
    },
    "tags": []
   },
   "outputs": [],
   "source": [
    "def findMin(nums: list[int]) -> int:\n",
    "    min_ = nums[0]\n",
    "    low, high = 0, len(nums) - 1\n",
    "    while low <= high:\n",
    "        mid = (low + high) // 2\n",
    "\n",
    "        # Already sorted\n",
    "        if nums[low] <= nums[high]:\n",
    "            return min(min_, nums[low])\n",
    "\n",
    "        # Left half is sorted, take min and\n",
    "        # continue searching on right half\n",
    "        elif nums[low] <= nums[mid]:\n",
    "            min_ = min(min_, nums[low])\n",
    "            low = mid + 1\n",
    "\n",
    "        # Right half is sorted, take min\n",
    "        # and continue searching left half\n",
    "        else:\n",
    "            min_ = min(min_, nums[mid])\n",
    "            high = mid - 1\n",
    "\n",
    "    return min_\n",
    "\n",
    "# Testing the solution\n",
    "assert findMin([3,4,5,1,2]) == 1\n",
    "assert findMin([4,5,6,7,0,1,2]) == 0\n",
    "assert findMin([11,13,15,17]) == 11"
   ]
  },
  {
   "cell_type": "code",
   "execution_count": 10,
   "id": "691d4003",
   "metadata": {
    "execution": {
     "iopub.execute_input": "2024-09-28T16:03:39.697088Z",
     "iopub.status.busy": "2024-09-28T16:03:39.696630Z",
     "iopub.status.idle": "2024-09-28T16:03:39.701379Z",
     "shell.execute_reply": "2024-09-28T16:03:39.700915Z"
    },
    "lines_to_next_cell": 1,
    "papermill": {
     "duration": 0.010568,
     "end_time": "2024-09-28T16:03:39.702341",
     "exception": false,
     "start_time": "2024-09-28T16:03:39.691773",
     "status": "completed"
    },
    "tags": []
   },
   "outputs": [],
   "source": [
    "def searchRotated(nums: list[int], target: int) -> int:\n",
    "    low, high = 0, len(nums) - 1\n",
    "    while low <= high:\n",
    "        mid = (low + high) // 2\n",
    "        # Mid contains target, return\n",
    "        if nums[mid] == target:\n",
    "            return mid\n",
    "\n",
    "        # Left half is sorted\n",
    "        elif nums[low] <= nums[mid]:\n",
    "            # target lies within the left portion\n",
    "            if nums[low] <= target <= nums[mid]:\n",
    "                high = mid - 1\n",
    "            # target lies out left portion, need to search right\n",
    "            else:\n",
    "                low = mid + 1\n",
    "\n",
    "        # Right half is sorted\n",
    "        else:\n",
    "            # target lies with sorted range\n",
    "            if nums[mid + 1] <= target <= nums[high]:\n",
    "                low = mid + 1\n",
    "            # target lies outside right portion, search left\n",
    "            else:\n",
    "                high = mid - 1\n",
    "\n",
    "    return -1\n",
    "\n",
    "# Testing the solution\n",
    "assert searchRotated([4,5,6,7,0,1,2], 0) == 4\n",
    "assert searchRotated([4,5,6,7,0,1,2], 3) == -1\n",
    "assert searchRotated([1], 0) == -1"
   ]
  },
  {
   "cell_type": "code",
   "execution_count": 11,
   "id": "fc8f7b8f",
   "metadata": {
    "execution": {
     "iopub.execute_input": "2024-09-28T16:03:39.711847Z",
     "iopub.status.busy": "2024-09-28T16:03:39.711385Z",
     "iopub.status.idle": "2024-09-28T16:03:39.717614Z",
     "shell.execute_reply": "2024-09-28T16:03:39.716973Z"
    },
    "lines_to_next_cell": 1,
    "papermill": {
     "duration": 0.012115,
     "end_time": "2024-09-28T16:03:39.718750",
     "exception": false,
     "start_time": "2024-09-28T16:03:39.706635",
     "status": "completed"
    },
    "tags": []
   },
   "outputs": [],
   "source": [
    "def threeSum(nums: list[int]) -> set[tuple[int, int, int]]:\n",
    "    N = len(nums)\n",
    "\n",
    "    # Crucial to sort it\n",
    "    nums.sort()\n",
    "\n",
    "    result: set[tuple[int, int, int]] = set()\n",
    "    i = 0\n",
    "    while i < N:\n",
    "        left = nums[i]\n",
    "        j, k = i + 1, N - 1\n",
    "        while j < k:\n",
    "            mid, right = nums[j], nums[k]\n",
    "            total = left + mid + right\n",
    "            triplet = sorted((left, mid, right))\n",
    "            if total == 0:\n",
    "                result.add((triplet[0], triplet[1], triplet[2]))\n",
    "                while j < k and nums[j] == mid:\n",
    "                    j += 1\n",
    "                while j < k and nums[k] == right:\n",
    "                    k -= 1\n",
    "            elif total < 0:\n",
    "                while j < k and nums[j] == mid:\n",
    "                    j += 1\n",
    "            else:\n",
    "                while j < k and nums[k] == right:\n",
    "                    k -= 1\n",
    "\n",
    "        while i < N and nums[i] == left:\n",
    "            i += 1\n",
    "\n",
    "    return result\n",
    "\n",
    "# Testing the solution\n",
    "assert threeSum([-1,0,1,2,-1,-4]) == {(-1,0,1),(-1,-1,2)}\n",
    "assert threeSum([0,1,1]) == set()\n",
    "assert threeSum([0,0,0]) == {(0,0,0)}"
   ]
  },
  {
   "cell_type": "code",
   "execution_count": 12,
   "id": "28c93626",
   "metadata": {
    "execution": {
     "iopub.execute_input": "2024-09-28T16:03:39.728632Z",
     "iopub.status.busy": "2024-09-28T16:03:39.728181Z",
     "iopub.status.idle": "2024-09-28T16:03:39.732319Z",
     "shell.execute_reply": "2024-09-28T16:03:39.731762Z"
    },
    "lines_to_next_cell": 1,
    "papermill": {
     "duration": 0.009867,
     "end_time": "2024-09-28T16:03:39.733179",
     "exception": false,
     "start_time": "2024-09-28T16:03:39.723312",
     "status": "completed"
    },
    "tags": []
   },
   "outputs": [],
   "source": [
    "def maxArea(heights: list[int]) -> int:\n",
    "    \"\"\"\n",
    "    Two pointer solution\n",
    "    Area equals to the height (min height of both boundaries) * width\n",
    "\n",
    "    At first step we compute the area, this would have the maximum width and would be a worthy contender of our quest to find the max area.\n",
    "\n",
    "    Now we want to find area that is greater than what we currently have, width is going to decrease but atleast we can ensure that height is improved\n",
    "    by retaining the side with greater height.\n",
    "    \"\"\"\n",
    "    i, j = 0, len(heights) - 1\n",
    "    max_area = 0\n",
    "    while i < j:\n",
    "        max_area = max(max_area, min(heights[i], heights[j]) * (j - i))\n",
    "        if heights[i] < heights[j]:\n",
    "            i += 1\n",
    "        else:\n",
    "            j -= 1\n",
    "\n",
    "    return max_area\n",
    "\n",
    "# Testing the solution\n",
    "assert maxArea([1,8,6,2,5,4,8,3,7]) == 49\n",
    "assert maxArea([1,1]) == 1"
   ]
  },
  {
   "cell_type": "markdown",
   "id": "acd51a3a",
   "metadata": {
    "papermill": {
     "duration": 0.004209,
     "end_time": "2024-09-28T16:03:39.741643",
     "exception": false,
     "start_time": "2024-09-28T16:03:39.737434",
     "status": "completed"
    },
    "tags": []
   },
   "source": [
    "#### Bit Manipulation"
   ]
  },
  {
   "cell_type": "code",
   "execution_count": 13,
   "id": "a4601131",
   "metadata": {
    "execution": {
     "iopub.execute_input": "2024-09-28T16:03:39.751497Z",
     "iopub.status.busy": "2024-09-28T16:03:39.751139Z",
     "iopub.status.idle": "2024-09-28T16:03:39.754732Z",
     "shell.execute_reply": "2024-09-28T16:03:39.754296Z"
    },
    "lines_to_next_cell": 1,
    "papermill": {
     "duration": 0.009747,
     "end_time": "2024-09-28T16:03:39.755706",
     "exception": false,
     "start_time": "2024-09-28T16:03:39.745959",
     "status": "completed"
    },
    "tags": []
   },
   "outputs": [],
   "source": [
    "def add(a: int, b: int) -> int:\n",
    "    # https://leetcode.com/problems/sum-of-two-integers/solutions/489210/read-this-if-you-want-to-learn-about-masks\n",
    "\n",
    "    # Each F adds 4 1s, 32 bit 1s\n",
    "    mask = 0xffffffff\n",
    "\n",
    "    # Actual operation\n",
    "    while (b & mask) > 0:\n",
    "        a, b = a ^ b, (a & b) << 1\n",
    "\n",
    "    return a & mask if b > 0 else a\n",
    "\n",
    "# Testing the solution\n",
    "assert add(1, 3) == 4\n",
    "assert add(3, 5) == 8\n",
    "assert add(-1, 1) == 0"
   ]
  },
  {
   "cell_type": "code",
   "execution_count": 14,
   "id": "26a199eb",
   "metadata": {
    "execution": {
     "iopub.execute_input": "2024-09-28T16:03:39.765373Z",
     "iopub.status.busy": "2024-09-28T16:03:39.764923Z",
     "iopub.status.idle": "2024-09-28T16:03:39.768507Z",
     "shell.execute_reply": "2024-09-28T16:03:39.767977Z"
    },
    "lines_to_next_cell": 1,
    "papermill": {
     "duration": 0.009417,
     "end_time": "2024-09-28T16:03:39.769514",
     "exception": false,
     "start_time": "2024-09-28T16:03:39.760097",
     "status": "completed"
    },
    "tags": []
   },
   "outputs": [],
   "source": [
    "def hammingWeight(n: int) -> int:\n",
    "    \"\"\"\n",
    "    # Typical Approach\n",
    "\n",
    "    bits = 0\n",
    "    while n:\n",
    "        bits += n & 1\n",
    "        n >>= 1\n",
    "    return bits\n",
    "    \"\"\"\n",
    "\n",
    "    \"\"\"\n",
    "    Doing a n & (n - 1) always removes the right most set bit.\n",
    "\n",
    "    1000100 & (1000100 - 1) = 1000000\n",
    "    \"\"\"\n",
    "    bits = 0\n",
    "    while n:\n",
    "        bits, n = bits + 1, n & (n - 1)\n",
    "    return bits\n",
    "\n",
    "# Testing the solution\n",
    "assert hammingWeight(11) == 3\n",
    "assert hammingWeight(128) == 1\n",
    "assert hammingWeight(2147483645) == 30"
   ]
  },
  {
   "cell_type": "code",
   "execution_count": 15,
   "id": "b0ff68b7",
   "metadata": {
    "execution": {
     "iopub.execute_input": "2024-09-28T16:03:39.778961Z",
     "iopub.status.busy": "2024-09-28T16:03:39.778508Z",
     "iopub.status.idle": "2024-09-28T16:03:39.782390Z",
     "shell.execute_reply": "2024-09-28T16:03:39.781905Z"
    },
    "lines_to_next_cell": 1,
    "papermill": {
     "duration": 0.009538,
     "end_time": "2024-09-28T16:03:39.783311",
     "exception": false,
     "start_time": "2024-09-28T16:03:39.773773",
     "status": "completed"
    },
    "tags": []
   },
   "outputs": [],
   "source": [
    "def countBits(N: int) -> list[int]:\n",
    "    \"\"\"\n",
    "    Had to do a fair bit writing the code on 'paper'\n",
    "    Basically the bits seem to add up from previous result\n",
    "\n",
    "    Actually on reading tutorials, looks like it can be much simpler - arr[i // 2] or arr[i // 2]\n",
    "    \"\"\"\n",
    "    res: list[int] = [0]\n",
    "    look_back = 1\n",
    "    for i in range(1, N + 1):\n",
    "        if i == 2 * look_back:\n",
    "            look_back <<= 1\n",
    "        res.append(res[i - look_back] + 1)\n",
    "    return res\n",
    "\n",
    "# Testing the solution\n",
    "assert countBits(2) == [0,1,1]\n",
    "assert countBits(5) == [0,1,1,2,1,2]"
   ]
  },
  {
   "cell_type": "code",
   "execution_count": 16,
   "id": "4ce20b10",
   "metadata": {
    "execution": {
     "iopub.execute_input": "2024-09-28T16:03:39.792649Z",
     "iopub.status.busy": "2024-09-28T16:03:39.792193Z",
     "iopub.status.idle": "2024-09-28T16:03:39.796046Z",
     "shell.execute_reply": "2024-09-28T16:03:39.795531Z"
    },
    "lines_to_next_cell": 1,
    "papermill": {
     "duration": 0.009551,
     "end_time": "2024-09-28T16:03:39.797067",
     "exception": false,
     "start_time": "2024-09-28T16:03:39.787516",
     "status": "completed"
    },
    "tags": []
   },
   "outputs": [],
   "source": [
    "def missingNumber(nums: list[int]) -> int:\n",
    "    # x ^ x = 0\n",
    "    N = len(nums)\n",
    "    xor = functools.reduce(lambda x, y: x ^ y, range(N + 1), 0)\n",
    "    for n in nums:\n",
    "        xor ^= n\n",
    "    return xor\n",
    "\n",
    "# Testing the solution\n",
    "assert missingNumber([3,0,1]) == 2\n",
    "assert missingNumber([0,1]) == 2\n",
    "assert missingNumber([9,6,4,2,3,5,7,0,1]) == 8"
   ]
  },
  {
   "cell_type": "code",
   "execution_count": 17,
   "id": "0edb1ea7",
   "metadata": {
    "execution": {
     "iopub.execute_input": "2024-09-28T16:03:39.806764Z",
     "iopub.status.busy": "2024-09-28T16:03:39.806322Z",
     "iopub.status.idle": "2024-09-28T16:03:39.809736Z",
     "shell.execute_reply": "2024-09-28T16:03:39.809282Z"
    },
    "lines_to_next_cell": 1,
    "papermill": {
     "duration": 0.009245,
     "end_time": "2024-09-28T16:03:39.810708",
     "exception": false,
     "start_time": "2024-09-28T16:03:39.801463",
     "status": "completed"
    },
    "tags": []
   },
   "outputs": [],
   "source": [
    "def reverseBits(N: int) -> int:\n",
    "    rev = 0\n",
    "    for i in range(32):\n",
    "        rev = (rev << 1) | N & 1\n",
    "        N = N >> 1\n",
    "\n",
    "    return rev\n",
    "\n",
    "# Testing the solution\n",
    "assert reverseBits(4294967293) == 3221225471\n",
    "assert reverseBits(43261596) == 964176192"
   ]
  },
  {
   "cell_type": "markdown",
   "id": "55902b2c",
   "metadata": {
    "papermill": {
     "duration": 0.004301,
     "end_time": "2024-09-28T16:03:39.819309",
     "exception": false,
     "start_time": "2024-09-28T16:03:39.815008",
     "status": "completed"
    },
    "tags": []
   },
   "source": [
    "#### DP"
   ]
  },
  {
   "cell_type": "code",
   "execution_count": 18,
   "id": "db5a784e",
   "metadata": {
    "execution": {
     "iopub.execute_input": "2024-09-28T16:03:39.828740Z",
     "iopub.status.busy": "2024-09-28T16:03:39.828207Z",
     "iopub.status.idle": "2024-09-28T16:03:39.831734Z",
     "shell.execute_reply": "2024-09-28T16:03:39.831289Z"
    },
    "lines_to_next_cell": 1,
    "papermill": {
     "duration": 0.009169,
     "end_time": "2024-09-28T16:03:39.832676",
     "exception": false,
     "start_time": "2024-09-28T16:03:39.823507",
     "status": "completed"
    },
    "tags": []
   },
   "outputs": [],
   "source": [
    "def climbStairs(N: int) -> int:\n",
    "    # Fibonacci sequence\n",
    "    prev = curr = 1\n",
    "    for i in range(N - 1):\n",
    "        prev, curr = curr, curr + prev\n",
    "    return curr\n",
    "\n",
    "# Testing the solution\n",
    "assert climbStairs(2) == 2\n",
    "assert climbStairs(3) == 3\n",
    "assert climbStairs(9) == 55"
   ]
  },
  {
   "cell_type": "code",
   "execution_count": 19,
   "id": "b7abfb71",
   "metadata": {
    "execution": {
     "iopub.execute_input": "2024-09-28T16:03:39.842764Z",
     "iopub.status.busy": "2024-09-28T16:03:39.842311Z",
     "iopub.status.idle": "2024-09-28T16:03:39.846506Z",
     "shell.execute_reply": "2024-09-28T16:03:39.846046Z"
    },
    "lines_to_next_cell": 1,
    "papermill": {
     "duration": 0.010351,
     "end_time": "2024-09-28T16:03:39.847503",
     "exception": false,
     "start_time": "2024-09-28T16:03:39.837152",
     "status": "completed"
    },
    "tags": []
   },
   "outputs": [],
   "source": [
    "def coinChange(coins: list[int], amount: int) -> int:\n",
    "    dp: list[float] = [math.inf if i > 0 else 0 for i in range(amount + 1)]\n",
    "    for target in range(1, amount + 1):\n",
    "        for coin in coins:\n",
    "            if target - coin >= 0:\n",
    "                dp[target] = min(dp[target], 1 + dp[target - coin])\n",
    "\n",
    "    return int(dp[amount]) if not math.isinf(dp[amount]) else -1\n",
    "\n",
    "# Testing the solution\n",
    "assert coinChange([1,2,5], 11) == 3\n",
    "assert coinChange([2], 3) == -1\n",
    "assert coinChange([1], 0) == 0"
   ]
  },
  {
   "cell_type": "code",
   "execution_count": 20,
   "id": "4d4e1122",
   "metadata": {
    "execution": {
     "iopub.execute_input": "2024-09-28T16:03:39.857390Z",
     "iopub.status.busy": "2024-09-28T16:03:39.856887Z",
     "iopub.status.idle": "2024-09-28T16:03:39.861493Z",
     "shell.execute_reply": "2024-09-28T16:03:39.861033Z"
    },
    "lines_to_next_cell": 1,
    "papermill": {
     "duration": 0.010486,
     "end_time": "2024-09-28T16:03:39.862433",
     "exception": false,
     "start_time": "2024-09-28T16:03:39.851947",
     "status": "completed"
    },
    "tags": []
   },
   "outputs": [],
   "source": [
    "def lengthOfLIS(nums: list[int]) -> int:\n",
    "    N = len(nums)\n",
    "    dp: list[int] = [0 for j in range(N + 2)]\n",
    "    for curr in range(N - 1, -1, -1):\n",
    "        prev_dp: list[int] = list(dp)\n",
    "        for prev in range(N - 1, -2, -1):\n",
    "            if prev != -1 and nums[prev] >= nums[curr]:\n",
    "                dp[prev + 1] = prev_dp[prev + 1]\n",
    "            else:\n",
    "                dp[prev + 1] = max(1 + prev_dp[curr + 1], prev_dp[prev + 1])\n",
    "\n",
    "    return dp[0]\n",
    "\n",
    "# Testing the solution\n",
    "assert lengthOfLIS([10,9,2,5,3,7,101,18]) == 4\n",
    "assert lengthOfLIS([0,1,0,3,2,3]) == 4\n",
    "assert lengthOfLIS([7,7,7,7,7,7,7]) == 1"
   ]
  },
  {
   "cell_type": "code",
   "execution_count": 21,
   "id": "4878c84c",
   "metadata": {
    "execution": {
     "iopub.execute_input": "2024-09-28T16:03:39.872037Z",
     "iopub.status.busy": "2024-09-28T16:03:39.871579Z",
     "iopub.status.idle": "2024-09-28T16:03:39.875507Z",
     "shell.execute_reply": "2024-09-28T16:03:39.875042Z"
    },
    "lines_to_next_cell": 1,
    "papermill": {
     "duration": 0.009725,
     "end_time": "2024-09-28T16:03:39.876468",
     "exception": false,
     "start_time": "2024-09-28T16:03:39.866743",
     "status": "completed"
    },
    "tags": []
   },
   "outputs": [],
   "source": [
    "def lengthOfLISOptimal(nums: list[int]) -> int:\n",
    "    dp: list[int] = []\n",
    "    for n in nums:\n",
    "        if not dp or dp[-1] < n:\n",
    "            dp.append(n)\n",
    "        else:\n",
    "            idx = bisect.bisect_left(dp, n)\n",
    "            dp[idx] = n\n",
    "\n",
    "    return len(dp)\n",
    "\n",
    "# Testing the solution\n",
    "assert lengthOfLISOptimal([10,9,2,5,3,7,101,18]) == 4\n",
    "assert lengthOfLISOptimal([0,1,0,3,2,3]) == 4\n",
    "assert lengthOfLISOptimal([7,7,7,7,7,7,7]) == 1"
   ]
  },
  {
   "cell_type": "code",
   "execution_count": 22,
   "id": "c50f6436",
   "metadata": {
    "execution": {
     "iopub.execute_input": "2024-09-28T16:03:39.886199Z",
     "iopub.status.busy": "2024-09-28T16:03:39.885710Z",
     "iopub.status.idle": "2024-09-28T16:03:39.890432Z",
     "shell.execute_reply": "2024-09-28T16:03:39.889896Z"
    },
    "lines_to_next_cell": 1,
    "papermill": {
     "duration": 0.010527,
     "end_time": "2024-09-28T16:03:39.891456",
     "exception": false,
     "start_time": "2024-09-28T16:03:39.880929",
     "status": "completed"
    },
    "tags": []
   },
   "outputs": [],
   "source": [
    "def longestCommonSubsequence(text1: str, text2: str) -> int:\n",
    "    N1, N2 = len(text1), len(text2)\n",
    "\n",
    "    # For space optimisation\n",
    "    if N1 < N2:\n",
    "        text1, N1, text2, N2 = text2, N2, text1, N1\n",
    "\n",
    "    dp: list[int] = [0 for j in range(N2 + 1)]\n",
    "    for i in range(N1 - 1, -1, -1):\n",
    "        prev_dp: list[int] = list(dp)\n",
    "        for j in range(N2 - 1, -1, -1):\n",
    "            if text1[i] == text2[j]:\n",
    "                dp[j] = 1 + prev_dp[j + 1]\n",
    "            else:\n",
    "                dp[j] = max(dp[j + 1], prev_dp[j])\n",
    "\n",
    "    return dp[0]\n",
    "\n",
    "# Testing the solution\n",
    "assert longestCommonSubsequence(\"abcde\", \"ace\") == 3\n",
    "assert longestCommonSubsequence(\"abc\", \"abc\") == 3\n",
    "assert longestCommonSubsequence(\"abc\", \"def\") == 0"
   ]
  },
  {
   "cell_type": "code",
   "execution_count": 23,
   "id": "c512a5f2",
   "metadata": {
    "execution": {
     "iopub.execute_input": "2024-09-28T16:03:39.900834Z",
     "iopub.status.busy": "2024-09-28T16:03:39.900618Z",
     "iopub.status.idle": "2024-09-28T16:03:39.905211Z",
     "shell.execute_reply": "2024-09-28T16:03:39.904755Z"
    },
    "lines_to_next_cell": 1,
    "papermill": {
     "duration": 0.010402,
     "end_time": "2024-09-28T16:03:39.906155",
     "exception": false,
     "start_time": "2024-09-28T16:03:39.895753",
     "status": "completed"
    },
    "tags": []
   },
   "outputs": [],
   "source": [
    "def wordBreak(string: str, wordDict: list[str]) -> bool:\n",
    "    @functools.cache\n",
    "    def backtrack(idx: int, curr: TrieNode) -> bool:\n",
    "        if idx == N:\n",
    "            return curr.end\n",
    "        else:\n",
    "            ch = string[idx]\n",
    "            pick = backtrack(idx + 1, curr.next[ch]) if ch in curr.next else False\n",
    "            nopick = backtrack(idx, root) if curr.end else False\n",
    "            return pick or nopick\n",
    "\n",
    "    # Create a Trie out of the wordlist\n",
    "    root = TrieNode.from_wordlist(wordDict)\n",
    "\n",
    "    N = len(string)\n",
    "    return backtrack(0, root)\n",
    "\n",
    "# Testing the solution\n",
    "assert wordBreak(\"catsandog\", [\"cats\",\"dog\",\"sand\",\"and\",\"cat\"]) == False\n",
    "assert wordBreak(\"applepenapple\", [\"apple\",\"pen\"]) == True\n",
    "assert wordBreak(\"leetcode\", [\"leet\", \"code\"]) == True"
   ]
  },
  {
   "cell_type": "code",
   "execution_count": 24,
   "id": "04d36ed5",
   "metadata": {
    "execution": {
     "iopub.execute_input": "2024-09-28T16:03:39.915759Z",
     "iopub.status.busy": "2024-09-28T16:03:39.915305Z",
     "iopub.status.idle": "2024-09-28T16:03:39.920044Z",
     "shell.execute_reply": "2024-09-28T16:03:39.919590Z"
    },
    "lines_to_next_cell": 1,
    "papermill": {
     "duration": 0.010505,
     "end_time": "2024-09-28T16:03:39.920988",
     "exception": false,
     "start_time": "2024-09-28T16:03:39.910483",
     "status": "completed"
    },
    "tags": []
   },
   "outputs": [],
   "source": [
    "def combinationSum(candidates: list[int], total: int) -> set[tuple[int, ...]]:\n",
    "    def backtrack(target: int, curr: list[int] = []) -> None:\n",
    "        if target == 0:\n",
    "            results.add(tuple(sorted(curr)))\n",
    "        elif target > 0:\n",
    "            for candidate in candidates:\n",
    "                curr.append(candidate)\n",
    "                backtrack(target - candidate, curr)\n",
    "                curr.pop()\n",
    "\n",
    "    N = len(candidates)\n",
    "    results: set[tuple[int, ...]] = set()\n",
    "    backtrack(total)\n",
    "    return results\n",
    "\n",
    "# Testing the solution\n",
    "assert combinationSum([2,3,6,7], 7) == {(2,2,3), (7,)}\n",
    "assert combinationSum([2,3,5], 8) == {(2,2,2,2),(2,3,3),(3,5)}\n",
    "assert combinationSum([2], 1) == set()"
   ]
  },
  {
   "cell_type": "markdown",
   "id": "316602c5",
   "metadata": {
    "papermill": {
     "duration": 0.004307,
     "end_time": "2024-09-28T16:03:39.929834",
     "exception": false,
     "start_time": "2024-09-28T16:03:39.925527",
     "status": "completed"
    },
    "tags": []
   },
   "source": [
    "#### LC Biweekly - 28th Sept 2024"
   ]
  },
  {
   "cell_type": "code",
   "execution_count": 25,
   "id": "590345a8",
   "metadata": {
    "execution": {
     "iopub.execute_input": "2024-09-28T16:03:39.939985Z",
     "iopub.status.busy": "2024-09-28T16:03:39.939472Z",
     "iopub.status.idle": "2024-09-28T16:03:39.943567Z",
     "shell.execute_reply": "2024-09-28T16:03:39.942989Z"
    },
    "lines_to_next_cell": 1,
    "papermill": {
     "duration": 0.010342,
     "end_time": "2024-09-28T16:03:39.944553",
     "exception": false,
     "start_time": "2024-09-28T16:03:39.934211",
     "status": "completed"
    },
    "tags": []
   },
   "outputs": [],
   "source": [
    "def minElement(nums: list[int]) -> int:\n",
    "    result: int = nums[0]\n",
    "    for n in nums:\n",
    "        result = min(result, sum(map(int, str(n))))\n",
    "    return result\n",
    "\n",
    "# Testing the solution\n",
    "assert minElement([10,12,13,14]) == 1\n",
    "assert minElement([1,2,3,4]) == 1\n",
    "assert minElement([999,19,199]) == 10"
   ]
  },
  {
   "cell_type": "code",
   "execution_count": 26,
   "id": "8af1ca02",
   "metadata": {
    "execution": {
     "iopub.execute_input": "2024-09-28T16:03:39.954206Z",
     "iopub.status.busy": "2024-09-28T16:03:39.953875Z",
     "iopub.status.idle": "2024-09-28T16:03:39.957758Z",
     "shell.execute_reply": "2024-09-28T16:03:39.957317Z"
    },
    "papermill": {
     "duration": 0.009701,
     "end_time": "2024-09-28T16:03:39.958667",
     "exception": false,
     "start_time": "2024-09-28T16:03:39.948966",
     "status": "completed"
    },
    "tags": []
   },
   "outputs": [],
   "source": [
    "def maximumTotalSum(maximumHeight: list[int]) -> int:\n",
    "    # Sort in asc order\n",
    "    maximumHeight.sort()\n",
    "\n",
    "    total, prev = 0, maximumHeight[-1] + 1\n",
    "    while maximumHeight:\n",
    "        prev = min(maximumHeight.pop(), prev - 1)\n",
    "        if prev == 0:\n",
    "            return -1\n",
    "        else:\n",
    "            total += prev\n",
    "\n",
    "    return total\n",
    "\n",
    "# Testing the solution\n",
    "assert maximumTotalSum([4,3,3,3,2]) == -1\n",
    "assert maximumTotalSum([4,3,3,2]) == 10\n",
    "assert maximumTotalSum([15,10]) == 25\n",
    "assert maximumTotalSum([2,2,1]) == -1"
   ]
  }
 ],
 "metadata": {
  "kernelspec": {
   "display_name": "Python 3 (ipykernel)",
   "language": "python",
   "name": "python3"
  },
  "language_info": {
   "codemirror_mode": {
    "name": "ipython",
    "version": 3
   },
   "file_extension": ".py",
   "mimetype": "text/x-python",
   "name": "python",
   "nbconvert_exporter": "python",
   "pygments_lexer": "ipython3",
   "version": "3.12.6"
  },
  "papermill": {
   "default_parameters": {},
   "duration": 1.701038,
   "end_time": "2024-09-28T16:03:40.077793",
   "environment_variables": {},
   "exception": null,
   "input_path": "practice/010.ipynb",
   "output_path": "practice/010.ipynb",
   "parameters": {},
   "start_time": "2024-09-28T16:03:38.376755",
   "version": "2.6.0"
  }
 },
 "nbformat": 4,
 "nbformat_minor": 5
}