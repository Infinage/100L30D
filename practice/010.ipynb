{
 "cells": [
  {
   "cell_type": "markdown",
   "id": "f1a1c898",
   "metadata": {
    "papermill": {
     "duration": 0.001956,
     "end_time": "2024-09-26T03:10:22.367767",
     "exception": false,
     "start_time": "2024-09-26T03:10:22.365811",
     "status": "completed"
    },
    "tags": []
   },
   "source": [
    "## Striver Blind - 75"
   ]
  },
  {
   "cell_type": "markdown",
   "id": "fa45e2bf",
   "metadata": {
    "papermill": {
     "duration": 0.001286,
     "end_time": "2024-09-26T03:10:22.370600",
     "exception": false,
     "start_time": "2024-09-26T03:10:22.369314",
     "status": "completed"
    },
    "tags": []
   },
   "source": [
    "#### Import neccessary modules"
   ]
  },
  {
   "cell_type": "code",
   "execution_count": 1,
   "id": "4eaae1f2",
   "metadata": {
    "execution": {
     "iopub.execute_input": "2024-09-26T03:10:22.374724Z",
     "iopub.status.busy": "2024-09-26T03:10:22.374221Z",
     "iopub.status.idle": "2024-09-26T03:10:22.378378Z",
     "shell.execute_reply": "2024-09-26T03:10:22.377820Z"
    },
    "lines_to_next_cell": 1,
    "papermill": {
     "duration": 0.007433,
     "end_time": "2024-09-26T03:10:22.379351",
     "exception": false,
     "start_time": "2024-09-26T03:10:22.371918",
     "status": "completed"
    },
    "tags": []
   },
   "outputs": [],
   "source": [
    "import bisect\n",
    "import functools\n",
    "import itertools\n",
    "import collections\n",
    "import heapq\n",
    "import math\n",
    "import random\n",
    "import typing"
   ]
  },
  {
   "cell_type": "markdown",
   "id": "9b93edde",
   "metadata": {
    "papermill": {
     "duration": 0.001308,
     "end_time": "2024-09-26T03:10:22.382015",
     "exception": false,
     "start_time": "2024-09-26T03:10:22.380707",
     "status": "completed"
    },
    "tags": []
   },
   "source": [
    "#### Arrays - Day 1"
   ]
  },
  {
   "cell_type": "code",
   "execution_count": 2,
   "id": "aecd13e3",
   "metadata": {
    "execution": {
     "iopub.execute_input": "2024-09-26T03:10:22.385637Z",
     "iopub.status.busy": "2024-09-26T03:10:22.385158Z",
     "iopub.status.idle": "2024-09-26T03:10:22.390644Z",
     "shell.execute_reply": "2024-09-26T03:10:22.390082Z"
    },
    "lines_to_next_cell": 1,
    "papermill": {
     "duration": 0.008256,
     "end_time": "2024-09-26T03:10:22.391601",
     "exception": false,
     "start_time": "2024-09-26T03:10:22.383345",
     "status": "completed"
    },
    "tags": []
   },
   "outputs": [],
   "source": [
    "def twoSum(nums: list[int], target: int) -> tuple[int, int]:\n",
    "    hm: dict[int, int] = dict()\n",
    "    for i in range(len(nums)):\n",
    "        if target - nums[i] in hm:\n",
    "            return hm[target - nums[i]], i\n",
    "        hm[nums[i]] = i\n",
    "    return -1, -1\n",
    "\n",
    "# Testing the solution\n",
    "assert twoSum([2,7,11,15], 9) == (0,1)\n",
    "assert twoSum([3,2,4], 6) == (1,2)\n",
    "assert twoSum([3,3], 6) == (0,1)"
   ]
  },
  {
   "cell_type": "code",
   "execution_count": 3,
   "id": "55c8bec1",
   "metadata": {
    "execution": {
     "iopub.execute_input": "2024-09-26T03:10:22.395335Z",
     "iopub.status.busy": "2024-09-26T03:10:22.394832Z",
     "iopub.status.idle": "2024-09-26T03:10:22.398982Z",
     "shell.execute_reply": "2024-09-26T03:10:22.398509Z"
    },
    "lines_to_next_cell": 1,
    "papermill": {
     "duration": 0.006797,
     "end_time": "2024-09-26T03:10:22.399789",
     "exception": false,
     "start_time": "2024-09-26T03:10:22.392992",
     "status": "completed"
    },
    "tags": []
   },
   "outputs": [],
   "source": [
    "def maxProfit(prices: list[int]) -> int:\n",
    "    profit, best_price = 0, prices[-1]\n",
    "    for i in range(len(prices) - 2, -1, -1):\n",
    "        if prices[i] < best_price:\n",
    "            profit = max(profit, best_price - prices[i])\n",
    "        else:\n",
    "            best_price = prices[i]\n",
    "    return profit\n",
    "\n",
    "# Testing the solution\n",
    "assert maxProfit([7,1,5,3,6,4]) == 5\n",
    "assert maxProfit([7,6,4,3,1]) == 0\n",
    "assert maxProfit([1]) == 0"
   ]
  },
  {
   "cell_type": "code",
   "execution_count": 4,
   "id": "cda50cfd",
   "metadata": {
    "execution": {
     "iopub.execute_input": "2024-09-26T03:10:22.403580Z",
     "iopub.status.busy": "2024-09-26T03:10:22.403119Z",
     "iopub.status.idle": "2024-09-26T03:10:22.406834Z",
     "shell.execute_reply": "2024-09-26T03:10:22.406323Z"
    },
    "lines_to_next_cell": 1,
    "papermill": {
     "duration": 0.006478,
     "end_time": "2024-09-26T03:10:22.407754",
     "exception": false,
     "start_time": "2024-09-26T03:10:22.401276",
     "status": "completed"
    },
    "tags": []
   },
   "outputs": [],
   "source": [
    "def containsDuplicate(nums: list[int]) -> bool:\n",
    "    hashset: set[int] = set()\n",
    "    for n in nums:\n",
    "        if n in hashset:\n",
    "            return True\n",
    "        hashset.add(n)\n",
    "    return False\n",
    "\n",
    "# Testing the solution\n",
    "assert containsDuplicate([1,2,3,1]) == True\n",
    "assert containsDuplicate([1,2,3,4]) == False\n",
    "assert containsDuplicate([1,1,1,3,3,4,3,2,4,2]) == True"
   ]
  },
  {
   "cell_type": "code",
   "execution_count": 5,
   "id": "189f0e99",
   "metadata": {
    "execution": {
     "iopub.execute_input": "2024-09-26T03:10:22.411566Z",
     "iopub.status.busy": "2024-09-26T03:10:22.411086Z",
     "iopub.status.idle": "2024-09-26T03:10:22.415594Z",
     "shell.execute_reply": "2024-09-26T03:10:22.415077Z"
    },
    "lines_to_next_cell": 1,
    "papermill": {
     "duration": 0.00731,
     "end_time": "2024-09-26T03:10:22.416534",
     "exception": false,
     "start_time": "2024-09-26T03:10:22.409224",
     "status": "completed"
    },
    "tags": []
   },
   "outputs": [],
   "source": [
    "def productExceptSelf(nums: list[int]) -> list[int]:\n",
    "    N = len(nums)\n",
    "    prod, zc = 1, 0\n",
    "    for i in range(N):\n",
    "        zc += nums[i] == 0\n",
    "        prod *= nums[i] if nums[i] != 0 else 1\n",
    "\n",
    "    result: list[int] = []\n",
    "    for i in range(N):\n",
    "        if zc > 1:\n",
    "            result.append(0)\n",
    "        elif zc == 1:\n",
    "            result.append(0 if nums[i] != 0 else prod)\n",
    "        else:\n",
    "            result.append(prod // nums[i])\n",
    "\n",
    "    return result\n",
    "\n",
    "# Testing the solution\n",
    "assert productExceptSelf([1,2,3,4]) == [24,12,8,6]\n",
    "assert productExceptSelf([-1,1,0,-3,3]) == [0,0,9,0,0]"
   ]
  },
  {
   "cell_type": "code",
   "execution_count": 6,
   "id": "d5271818",
   "metadata": {
    "execution": {
     "iopub.execute_input": "2024-09-26T03:10:22.420416Z",
     "iopub.status.busy": "2024-09-26T03:10:22.419968Z",
     "iopub.status.idle": "2024-09-26T03:10:22.424790Z",
     "shell.execute_reply": "2024-09-26T03:10:22.424344Z"
    },
    "papermill": {
     "duration": 0.007666,
     "end_time": "2024-09-26T03:10:22.425681",
     "exception": false,
     "start_time": "2024-09-26T03:10:22.418015",
     "status": "completed"
    },
    "tags": []
   },
   "outputs": [
    {
     "name": "stdout",
     "output_type": "stream",
     "text": [
      "[4, -1, 2, 1]\n",
      "[1]\n",
      "[5, 4, -1, 7, 8]\n",
      "[-1]\n"
     ]
    }
   ],
   "source": [
    "def maxSubArray(nums: list[int]) -> int:\n",
    "    \"\"\"\n",
    "    Kadane's algo:\n",
    "    A subarray with a sum less than 0 will always reduce our answer and so this type of subarray cannot be a part of the subarray with maximum sum.\n",
    "    Reset to 0 when total becomes less than 0\n",
    "\n",
    "    Follow up: Print the max sub array\n",
    "    \"\"\"\n",
    "    result, total = nums[0], 0\n",
    "    max_start_idx = max_end_idx = start_idx = 0\n",
    "    for i in range(len(nums)):\n",
    "        total += nums[i]\n",
    "        if total > result:\n",
    "            max_start_idx, max_end_idx, result = start_idx, i, total\n",
    "        if total < 0:\n",
    "            total, start_idx = 0, i + 1\n",
    "\n",
    "    print(nums[max_start_idx: max_end_idx + 1])\n",
    "    return result\n",
    "\n",
    "# Testing the solution\n",
    "assert maxSubArray([-2,1,-3,4,-1,2,1,-5,4]) == 6\n",
    "assert maxSubArray([1]) == 1\n",
    "assert maxSubArray([5,4,-1,7,8]) == 23\n",
    "assert maxSubArray([-3,-2,-1]) == -1"
   ]
  }
 ],
 "metadata": {
  "kernelspec": {
   "display_name": "Python 3 (ipykernel)",
   "language": "python",
   "name": "python3"
  },
  "language_info": {
   "codemirror_mode": {
    "name": "ipython",
    "version": 3
   },
   "file_extension": ".py",
   "mimetype": "text/x-python",
   "name": "python",
   "nbconvert_exporter": "python",
   "pygments_lexer": "ipython3",
   "version": "3.12.6"
  },
  "papermill": {
   "default_parameters": {},
   "duration": 1.361143,
   "end_time": "2024-09-26T03:10:22.542349",
   "environment_variables": {},
   "exception": null,
   "input_path": "practice/010.ipynb",
   "output_path": "practice/010.ipynb",
   "parameters": {},
   "start_time": "2024-09-26T03:10:21.181206",
   "version": "2.6.0"
  }
 },
 "nbformat": 4,
 "nbformat_minor": 5
}