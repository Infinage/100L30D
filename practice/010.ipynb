{
 "cells": [
  {
   "cell_type": "markdown",
   "id": "f1a1c898",
   "metadata": {
    "papermill": {
     "duration": 0.002378,
     "end_time": "2024-09-27T02:15:00.618387",
     "exception": false,
     "start_time": "2024-09-27T02:15:00.616009",
     "status": "completed"
    },
    "tags": []
   },
   "source": [
    "## Striver Blind - 75"
   ]
  },
  {
   "cell_type": "markdown",
   "id": "fa45e2bf",
   "metadata": {
    "papermill": {
     "duration": 0.001832,
     "end_time": "2024-09-27T02:15:00.622266",
     "exception": false,
     "start_time": "2024-09-27T02:15:00.620434",
     "status": "completed"
    },
    "tags": []
   },
   "source": [
    "#### Import neccessary modules"
   ]
  },
  {
   "cell_type": "code",
   "execution_count": 1,
   "id": "4eaae1f2",
   "metadata": {
    "execution": {
     "iopub.execute_input": "2024-09-27T02:15:00.626999Z",
     "iopub.status.busy": "2024-09-27T02:15:00.626510Z",
     "iopub.status.idle": "2024-09-27T02:15:00.630402Z",
     "shell.execute_reply": "2024-09-27T02:15:00.629895Z"
    },
    "lines_to_next_cell": 1,
    "papermill": {
     "duration": 0.007318,
     "end_time": "2024-09-27T02:15:00.631373",
     "exception": false,
     "start_time": "2024-09-27T02:15:00.624055",
     "status": "completed"
    },
    "tags": []
   },
   "outputs": [],
   "source": [
    "import bisect\n",
    "import functools\n",
    "import itertools\n",
    "import collections\n",
    "import heapq\n",
    "import math\n",
    "import random\n",
    "import typing"
   ]
  },
  {
   "cell_type": "markdown",
   "id": "9b93edde",
   "metadata": {
    "papermill": {
     "duration": 0.001812,
     "end_time": "2024-09-27T02:15:00.635052",
     "exception": false,
     "start_time": "2024-09-27T02:15:00.633240",
     "status": "completed"
    },
    "tags": []
   },
   "source": [
    "#### Arrays - Day 1"
   ]
  },
  {
   "cell_type": "code",
   "execution_count": 2,
   "id": "aecd13e3",
   "metadata": {
    "execution": {
     "iopub.execute_input": "2024-09-27T02:15:00.639665Z",
     "iopub.status.busy": "2024-09-27T02:15:00.639231Z",
     "iopub.status.idle": "2024-09-27T02:15:00.644038Z",
     "shell.execute_reply": "2024-09-27T02:15:00.643574Z"
    },
    "lines_to_next_cell": 1,
    "papermill": {
     "duration": 0.007999,
     "end_time": "2024-09-27T02:15:00.644839",
     "exception": false,
     "start_time": "2024-09-27T02:15:00.636840",
     "status": "completed"
    },
    "tags": []
   },
   "outputs": [],
   "source": [
    "def twoSum(nums: list[int], target: int) -> tuple[int, int]:\n",
    "    hm: dict[int, int] = dict()\n",
    "    for i in range(len(nums)):\n",
    "        if target - nums[i] in hm:\n",
    "            return hm[target - nums[i]], i\n",
    "        hm[nums[i]] = i\n",
    "    return -1, -1\n",
    "\n",
    "# Testing the solution\n",
    "assert twoSum([2,7,11,15], 9) == (0,1)\n",
    "assert twoSum([3,2,4], 6) == (1,2)\n",
    "assert twoSum([3,3], 6) == (0,1)"
   ]
  },
  {
   "cell_type": "code",
   "execution_count": 3,
   "id": "55c8bec1",
   "metadata": {
    "execution": {
     "iopub.execute_input": "2024-09-27T02:15:00.649772Z",
     "iopub.status.busy": "2024-09-27T02:15:00.649204Z",
     "iopub.status.idle": "2024-09-27T02:15:00.654603Z",
     "shell.execute_reply": "2024-09-27T02:15:00.654083Z"
    },
    "lines_to_next_cell": 1,
    "papermill": {
     "duration": 0.008652,
     "end_time": "2024-09-27T02:15:00.655425",
     "exception": false,
     "start_time": "2024-09-27T02:15:00.646773",
     "status": "completed"
    },
    "tags": []
   },
   "outputs": [],
   "source": [
    "def maxProfit(prices: list[int]) -> int:\n",
    "    profit, best_price = 0, prices[-1]\n",
    "    for i in range(len(prices) - 2, -1, -1):\n",
    "        if prices[i] < best_price:\n",
    "            profit = max(profit, best_price - prices[i])\n",
    "        else:\n",
    "            best_price = prices[i]\n",
    "    return profit\n",
    "\n",
    "# Testing the solution\n",
    "assert maxProfit([7,1,5,3,6,4]) == 5\n",
    "assert maxProfit([7,6,4,3,1]) == 0\n",
    "assert maxProfit([1]) == 0"
   ]
  },
  {
   "cell_type": "code",
   "execution_count": 4,
   "id": "cda50cfd",
   "metadata": {
    "execution": {
     "iopub.execute_input": "2024-09-27T02:15:00.660307Z",
     "iopub.status.busy": "2024-09-27T02:15:00.659791Z",
     "iopub.status.idle": "2024-09-27T02:15:00.664137Z",
     "shell.execute_reply": "2024-09-27T02:15:00.663610Z"
    },
    "lines_to_next_cell": 1,
    "papermill": {
     "duration": 0.007693,
     "end_time": "2024-09-27T02:15:00.665102",
     "exception": false,
     "start_time": "2024-09-27T02:15:00.657409",
     "status": "completed"
    },
    "tags": []
   },
   "outputs": [],
   "source": [
    "def containsDuplicate(nums: list[int]) -> bool:\n",
    "    hashset: set[int] = set()\n",
    "    for n in nums:\n",
    "        if n in hashset:\n",
    "            return True\n",
    "        hashset.add(n)\n",
    "    return False\n",
    "\n",
    "# Testing the solution\n",
    "assert containsDuplicate([1,2,3,1]) == True\n",
    "assert containsDuplicate([1,2,3,4]) == False\n",
    "assert containsDuplicate([1,1,1,3,3,4,3,2,4,2]) == True"
   ]
  },
  {
   "cell_type": "code",
   "execution_count": 5,
   "id": "189f0e99",
   "metadata": {
    "execution": {
     "iopub.execute_input": "2024-09-27T02:15:00.671488Z",
     "iopub.status.busy": "2024-09-27T02:15:00.670982Z",
     "iopub.status.idle": "2024-09-27T02:15:00.675732Z",
     "shell.execute_reply": "2024-09-27T02:15:00.675160Z"
    },
    "lines_to_next_cell": 1,
    "papermill": {
     "duration": 0.008846,
     "end_time": "2024-09-27T02:15:00.676690",
     "exception": false,
     "start_time": "2024-09-27T02:15:00.667844",
     "status": "completed"
    },
    "tags": []
   },
   "outputs": [],
   "source": [
    "def productExceptSelf(nums: list[int]) -> list[int]:\n",
    "    N = len(nums)\n",
    "    prod, zc = 1, 0\n",
    "    for i in range(N):\n",
    "        zc += nums[i] == 0\n",
    "        prod *= nums[i] if nums[i] != 0 else 1\n",
    "\n",
    "    result: list[int] = []\n",
    "    for i in range(N):\n",
    "        if zc > 1:\n",
    "            result.append(0)\n",
    "        elif zc == 1:\n",
    "            result.append(0 if nums[i] != 0 else prod)\n",
    "        else:\n",
    "            result.append(prod // nums[i])\n",
    "\n",
    "    return result\n",
    "\n",
    "# Testing the solution\n",
    "assert productExceptSelf([1,2,3,4]) == [24,12,8,6]\n",
    "assert productExceptSelf([-1,1,0,-3,3]) == [0,0,9,0,0]"
   ]
  },
  {
   "cell_type": "code",
   "execution_count": 6,
   "id": "d5271818",
   "metadata": {
    "execution": {
     "iopub.execute_input": "2024-09-27T02:15:00.681389Z",
     "iopub.status.busy": "2024-09-27T02:15:00.681006Z",
     "iopub.status.idle": "2024-09-27T02:15:00.686369Z",
     "shell.execute_reply": "2024-09-27T02:15:00.685816Z"
    },
    "lines_to_next_cell": 1,
    "papermill": {
     "duration": 0.008759,
     "end_time": "2024-09-27T02:15:00.687344",
     "exception": false,
     "start_time": "2024-09-27T02:15:00.678585",
     "status": "completed"
    },
    "tags": []
   },
   "outputs": [
    {
     "name": "stdout",
     "output_type": "stream",
     "text": [
      "[4, -1, 2, 1]\n",
      "[1]\n",
      "[5, 4, -1, 7, 8]\n",
      "[-1]\n"
     ]
    }
   ],
   "source": [
    "def maxSubArray(nums: list[int]) -> int:\n",
    "    \"\"\"\n",
    "    Kadane's algo:\n",
    "    A subarray with a sum less than 0 will always reduce our answer and so this type of subarray cannot be a part of the subarray with maximum sum.\n",
    "    Reset to 0 when total becomes less than 0\n",
    "\n",
    "    Follow up: Print the max sub array\n",
    "    \"\"\"\n",
    "    result, total = nums[0], 0\n",
    "    max_start_idx = max_end_idx = start_idx = 0\n",
    "    for i in range(len(nums)):\n",
    "        total += nums[i]\n",
    "        if total > result:\n",
    "            max_start_idx, max_end_idx, result = start_idx, i, total\n",
    "        if total < 0:\n",
    "            total, start_idx = 0, i + 1\n",
    "\n",
    "    print(nums[max_start_idx: max_end_idx + 1])\n",
    "    return result\n",
    "\n",
    "# Testing the solution\n",
    "assert maxSubArray([-2,1,-3,4,-1,2,1,-5,4]) == 6\n",
    "assert maxSubArray([1]) == 1\n",
    "assert maxSubArray([5,4,-1,7,8]) == 23\n",
    "assert maxSubArray([-3,-2,-1]) == -1"
   ]
  },
  {
   "cell_type": "code",
   "execution_count": 7,
   "id": "d9fc27a7",
   "metadata": {
    "execution": {
     "iopub.execute_input": "2024-09-27T02:15:00.696233Z",
     "iopub.status.busy": "2024-09-27T02:15:00.695696Z",
     "iopub.status.idle": "2024-09-27T02:15:00.703427Z",
     "shell.execute_reply": "2024-09-27T02:15:00.702808Z"
    },
    "lines_to_next_cell": 1,
    "papermill": {
     "duration": 0.015024,
     "end_time": "2024-09-27T02:15:00.704763",
     "exception": false,
     "start_time": "2024-09-27T02:15:00.689739",
     "status": "completed"
    },
    "tags": []
   },
   "outputs": [],
   "source": [
    "def maxProduct(nums: list[int]) -> int:\n",
    "    \"\"\"\n",
    "    If even num of -ve, ans is product of all\n",
    "    If odd num of -ve, ans is either the prefix prod or postfix prod\n",
    "\n",
    "    How to handle zeros? Zeros can never be part of ans. Reset accumulator to 1 if hit 0\n",
    "    \"\"\"\n",
    "\n",
    "    N = len(nums)\n",
    "    result = nums[0]\n",
    "\n",
    "    # Calculate prefix and postfix in the same loop\n",
    "    # Note that postfix and prefix here are not related to one another\n",
    "    # We are simply doing two distinct ops in same loop\n",
    "    pre = post = 1\n",
    "    for i in range(N):\n",
    "        pre *= nums[i]\n",
    "        post *= nums[N - i - 1]\n",
    "        result = max(pre, post, result)\n",
    "        if pre == 0:\n",
    "            pre = 1\n",
    "        if post == 0:\n",
    "            post = 1\n",
    "\n",
    "    return result\n",
    "\n",
    "# Testing the solution\n",
    "assert maxProduct([2,3,-2,4]) == 6\n",
    "assert maxProduct([-2,0,-1]) == 0\n",
    "assert maxProduct([-1,-2,3]) == 6\n",
    "\n",
    "def maxProductKadane(nums: list[int]) -> int:\n",
    "    min_ = max_ = result = nums[0]\n",
    "    for i in range(1, len(nums)):\n",
    "        min_, max_ = min(nums[i], min_ * nums[i], max_ * nums[i]), max(nums[i], min_ * nums[i], max_ * nums[i])\n",
    "        result = max(result, max_)\n",
    "        if min_ == 0:\n",
    "            min_ = 1\n",
    "        if max_ == 0:\n",
    "            max_ = 1\n",
    "    return result\n",
    "\n",
    "# Testing the solution\n",
    "assert maxProductKadane([2,3,-2,4]) == 6\n",
    "assert maxProductKadane([-2,0,-1]) == 0\n",
    "assert maxProductKadane([-1,-2,3]) == 6"
   ]
  },
  {
   "cell_type": "code",
   "execution_count": 8,
   "id": "68f3ae11",
   "metadata": {
    "execution": {
     "iopub.execute_input": "2024-09-27T02:15:00.711348Z",
     "iopub.status.busy": "2024-09-27T02:15:00.710965Z",
     "iopub.status.idle": "2024-09-27T02:15:00.716733Z",
     "shell.execute_reply": "2024-09-27T02:15:00.716288Z"
    },
    "lines_to_next_cell": 1,
    "papermill": {
     "duration": 0.010536,
     "end_time": "2024-09-27T02:15:00.717782",
     "exception": false,
     "start_time": "2024-09-27T02:15:00.707246",
     "status": "completed"
    },
    "tags": []
   },
   "outputs": [],
   "source": [
    "def findMin(nums: list[int]) -> int:\n",
    "    min_ = nums[0]\n",
    "    low, high = 0, len(nums) - 1\n",
    "    while low <= high:\n",
    "        mid = (low + high) // 2\n",
    "\n",
    "        # Already sorted\n",
    "        if nums[low] <= nums[high]:\n",
    "            return min(min_, nums[low])\n",
    "\n",
    "        # Left half is sorted, take min and\n",
    "        # continue searching on right half\n",
    "        elif nums[low] <= nums[mid]:\n",
    "            min_ = min(min_, nums[low])\n",
    "            low = mid + 1\n",
    "\n",
    "        # Right half is sorted, take min\n",
    "        # and continue searching left half\n",
    "        else:\n",
    "            min_ = min(min_, nums[mid])\n",
    "            high = mid - 1\n",
    "\n",
    "    return min_\n",
    "\n",
    "# Testing the solution\n",
    "assert findMin([3,4,5,1,2]) == 1\n",
    "assert findMin([4,5,6,7,0,1,2]) == 0\n",
    "assert findMin([11,13,15,17]) == 11"
   ]
  },
  {
   "cell_type": "code",
   "execution_count": 9,
   "id": "691d4003",
   "metadata": {
    "execution": {
     "iopub.execute_input": "2024-09-27T02:15:00.724728Z",
     "iopub.status.busy": "2024-09-27T02:15:00.724234Z",
     "iopub.status.idle": "2024-09-27T02:15:00.728995Z",
     "shell.execute_reply": "2024-09-27T02:15:00.728523Z"
    },
    "lines_to_next_cell": 1,
    "papermill": {
     "duration": 0.008818,
     "end_time": "2024-09-27T02:15:00.729796",
     "exception": false,
     "start_time": "2024-09-27T02:15:00.720978",
     "status": "completed"
    },
    "tags": []
   },
   "outputs": [],
   "source": [
    "def searchRotated(nums: list[int], target: int) -> int:\n",
    "    low, high = 0, len(nums) - 1\n",
    "    while low <= high:\n",
    "        mid = (low + high) // 2\n",
    "        # Mid contains target, return\n",
    "        if nums[mid] == target:\n",
    "            return mid\n",
    "\n",
    "        # Left half is sorted\n",
    "        elif nums[low] <= nums[mid]:\n",
    "            # target lies within the left portion\n",
    "            if nums[low] <= target <= nums[mid]:\n",
    "                high = mid - 1\n",
    "            # target lies out left portion, need to search right\n",
    "            else:\n",
    "                low = mid + 1\n",
    "\n",
    "        # Right half is sorted\n",
    "        else:\n",
    "            # target lies with sorted range\n",
    "            if nums[mid + 1] <= target <= nums[high]:\n",
    "                low = mid + 1\n",
    "            # target lies outside right portion, search left\n",
    "            else:\n",
    "                high = mid - 1\n",
    "\n",
    "    return -1\n",
    "\n",
    "# Testing the solution\n",
    "assert searchRotated([4,5,6,7,0,1,2], 0) == 4\n",
    "assert searchRotated([4,5,6,7,0,1,2], 3) == -1\n",
    "assert searchRotated([1], 0) == -1"
   ]
  },
  {
   "cell_type": "code",
   "execution_count": null,
   "id": "fc8f7b8f",
   "metadata": {
    "lines_to_next_cell": 1
   },
   "outputs": [],
   "source": [
    "def threeSum(nums: list[int]) -> set[tuple[int, int, int]]:\n",
    "    N = len(nums)\n",
    "\n",
    "    # Crucial to sort it\n",
    "    nums.sort()\n",
    "\n",
    "    result: set[tuple[int, int, int]] = set()\n",
    "    i = 0\n",
    "    while i < N:\n",
    "        left = nums[i]\n",
    "        j, k = i + 1, N - 1\n",
    "        while j < k:\n",
    "            mid, right = nums[j], nums[k]\n",
    "            total = left + mid + right\n",
    "            triplet = sorted((left, mid, right))\n",
    "            if total == 0:\n",
    "                result.add((triplet[0], triplet[1], triplet[2]))\n",
    "                while j < k and nums[j] == mid:\n",
    "                    j += 1\n",
    "                while j < k and nums[k] == right:\n",
    "                    k -= 1\n",
    "            elif total < 0:\n",
    "                while j < k and nums[j] == mid:\n",
    "                    j += 1\n",
    "            else:\n",
    "                while j < k and nums[k] == right:\n",
    "                    k -= 1\n",
    "\n",
    "        while i < N and nums[i] == left:\n",
    "            i += 1\n",
    "\n",
    "    return result\n",
    "\n",
    "# Testing the solution\n",
    "assert threeSum([-1,0,1,2,-1,-4]) == {(-1,0,1),(-1,-1,2)}\n",
    "assert threeSum([0,1,1]) == set()\n",
    "assert threeSum([0,0,0]) == {(0,0,0)}"
   ]
  },
  {
   "cell_type": "code",
   "execution_count": null,
   "id": "28c93626",
   "metadata": {
    "lines_to_next_cell": 1
   },
   "outputs": [],
   "source": [
    "def maxArea(heights: list[int]) -> int:\n",
    "    \"\"\"\n",
    "    Two pointer solution\n",
    "    Area equals to the height (min height of both boundaries) * width\n",
    "\n",
    "    At first step we compute the area, this would have the maximum width and would be a worthy contender of our quest to find the max area.\n",
    "\n",
    "    Now we want to find area that is greater than what we currently have, width is going to decrease but atleast we can ensure that height is improved\n",
    "    by retaining the side with greater height.\n",
    "    \"\"\"\n",
    "    i, j = 0, len(heights) - 1\n",
    "    max_area = 0\n",
    "    while i < j:\n",
    "        max_area = max(max_area, min(heights[i], heights[j]) * (j - i))\n",
    "        if heights[i] < heights[j]:\n",
    "            i += 1\n",
    "        else:\n",
    "            j -= 1\n",
    "\n",
    "    return max_area\n",
    "\n",
    "# Testing the solution\n",
    "assert maxArea([1,8,6,2,5,4,8,3,7]) == 49\n",
    "assert maxArea([1,1]) == 1"
   ]
  },
  {
   "cell_type": "markdown",
   "id": "acd51a3a",
   "metadata": {},
   "source": [
    "#### Bit Manipulation"
   ]
  },
  {
   "cell_type": "code",
   "execution_count": null,
   "id": "a4601131",
   "metadata": {
    "lines_to_next_cell": 1
   },
   "outputs": [],
   "source": [
    "def add(a: int, b: int) -> int:\n",
    "    # https://leetcode.com/problems/sum-of-two-integers/solutions/489210/read-this-if-you-want-to-learn-about-masks\n",
    "\n",
    "    # Each F adds 4 1s, 32 bit 1s\n",
    "    mask = 0xffffffff\n",
    "\n",
    "    # Actual operation\n",
    "    while (b & mask) > 0:\n",
    "        a, b = a ^ b, (a & b) << 1\n",
    "\n",
    "    return a & mask if b > 0 else a\n",
    "\n",
    "# Testing the solution\n",
    "assert add(1, 3) == 4\n",
    "assert add(3, 5) == 8\n",
    "assert add(-1, 1) == 0"
   ]
  },
  {
   "cell_type": "code",
   "execution_count": null,
   "id": "26a199eb",
   "metadata": {
    "lines_to_next_cell": 1
   },
   "outputs": [],
   "source": [
    "def hammingWeight(n: int) -> int:\n",
    "    \"\"\"\n",
    "    # Typical Approach\n",
    "\n",
    "    bits = 0\n",
    "    while n:\n",
    "        bits += n & 1\n",
    "        n >>= 1\n",
    "    return bits\n",
    "    \"\"\"\n",
    "\n",
    "    \"\"\"\n",
    "    Doing a n & (n - 1) always removes the right most set bit.\n",
    "\n",
    "    1000100 & (1000100 - 1) = 1000000\n",
    "    \"\"\"\n",
    "    bits = 0\n",
    "    while n:\n",
    "        bits, n = bits + 1, n & (n - 1)\n",
    "    return bits\n",
    "\n",
    "# Testing the solution\n",
    "assert hammingWeight(11) == 3\n",
    "assert hammingWeight(128) == 1\n",
    "assert hammingWeight(2147483645) == 30"
   ]
  },
  {
   "cell_type": "code",
   "execution_count": null,
   "id": "b0ff68b7",
   "metadata": {
    "lines_to_next_cell": 1
   },
   "outputs": [],
   "source": [
    "def countBits(N: int) -> list[int]:\n",
    "    \"\"\"\n",
    "    Had to do a fair bit writing the code on 'paper'\n",
    "    Basically the bits seem to add up from previous result\n",
    "\n",
    "    Actually on reading tutorials, looks like it can be much simpler - arr[i // 2] or arr[i // 2]\n",
    "    \"\"\"\n",
    "    res: list[int] = [0]\n",
    "    look_back = 1\n",
    "    for i in range(1, N + 1):\n",
    "        if i == 2 * look_back:\n",
    "            look_back <<= 1\n",
    "        res.append(res[i - look_back] + 1)\n",
    "    return res\n",
    "\n",
    "# Testing the solution\n",
    "assert countBits(2) == [0,1,1]\n",
    "assert countBits(5) == [0,1,1,2,1,2]"
   ]
  },
  {
   "cell_type": "code",
   "execution_count": null,
   "id": "4ce20b10",
   "metadata": {
    "lines_to_next_cell": 1
   },
   "outputs": [],
   "source": [
    "def missingNumber(nums: list[int]) -> int:\n",
    "    # x ^ x = 0\n",
    "    N = len(nums)\n",
    "    xor = functools.reduce(lambda x, y: x ^ y, range(N + 1), 0)\n",
    "    for n in nums:\n",
    "        xor ^= n\n",
    "    return xor\n",
    "\n",
    "# Testing the solution\n",
    "assert missingNumber([3,0,1]) == 2\n",
    "assert missingNumber([0,1]) == 2\n",
    "assert missingNumber([9,6,4,2,3,5,7,0,1]) == 8"
   ]
  },
  {
   "cell_type": "code",
   "execution_count": null,
   "id": "0edb1ea7",
   "metadata": {
    "lines_to_next_cell": 1
   },
   "outputs": [],
   "source": [
    "def reverseBits(N: int) -> int:\n",
    "    rev = 0\n",
    "    for i in range(32):\n",
    "        rev = (rev << 1) | N & 1\n",
    "        N = N >> 1\n",
    "\n",
    "    return rev\n",
    "\n",
    "# Testing the solution\n",
    "assert reverseBits(4294967293) == 3221225471\n",
    "assert reverseBits(43261596) == 964176192"
   ]
  },
  {
   "cell_type": "markdown",
   "id": "55902b2c",
   "metadata": {},
   "source": [
    "#### DP"
   ]
  },
  {
   "cell_type": "code",
   "execution_count": null,
   "id": "db5a784e",
   "metadata": {},
   "outputs": [],
   "source": [
    "def climbStairs(N: int) -> int:\n",
    "    # Fibonacci sequence\n",
    "    prev = curr = 1\n",
    "    for i in range(N - 1):\n",
    "        prev, curr = curr, curr + prev\n",
    "    return curr\n",
    "\n",
    "# Testing the solution\n",
    "assert climbStairs(2) == 2\n",
    "assert climbStairs(3) == 3\n",
    "assert climbStairs(9) == 55"
   ]
  }
 ],
 "metadata": {
  "kernelspec": {
   "display_name": "Python 3 (ipykernel)",
   "language": "python",
   "name": "python3"
  },
  "language_info": {
   "codemirror_mode": {
    "name": "ipython",
    "version": 3
   },
   "file_extension": ".py",
   "mimetype": "text/x-python",
   "name": "python",
   "nbconvert_exporter": "python",
   "pygments_lexer": "ipython3",
   "version": "3.12.6"
  },
  "papermill": {
   "default_parameters": {},
   "duration": 1.378822,
   "end_time": "2024-09-27T02:15:00.849861",
   "environment_variables": {},
   "exception": null,
   "input_path": "practice/010.ipynb",
   "output_path": "practice/010.ipynb",
   "parameters": {},
   "start_time": "2024-09-27T02:14:59.471039",
   "version": "2.6.0"
  }
 },
 "nbformat": 4,
 "nbformat_minor": 5
}
