{
 "cells": [
  {
   "cell_type": "code",
   "execution_count": 1,
   "id": "1829768e",
   "metadata": {
    "execution": {
     "iopub.execute_input": "2024-08-04T10:42:48.354798Z",
     "iopub.status.busy": "2024-08-04T10:42:48.354571Z",
     "iopub.status.idle": "2024-08-04T10:42:48.699593Z",
     "shell.execute_reply": "2024-08-04T10:42:48.698977Z"
    },
    "papermill": {
     "duration": 0.351524,
     "end_time": "2024-08-04T10:42:48.701243",
     "exception": false,
     "start_time": "2024-08-04T10:42:48.349719",
     "status": "completed"
    },
    "tags": []
   },
   "outputs": [],
   "source": [
    "from typing import List, Optional, Generator\n",
    "import typing\n",
    "import pandas as pd\n",
    "import numpy as np\n",
    "import sqlite3\n",
    "import re\n",
    "import io\n",
    "import math\n",
    "import collections\n",
    "import itertools\n",
    "import functools\n",
    "import random\n",
    "import string\n",
    "import tqdm\n",
    "import bisect\n",
    "import heapq\n",
    "\n",
    "conn = sqlite3.connect(\":memory:\")\n",
    "\n",
    "def regexp(expr, item):\n",
    "    reg = re.compile(expr)\n",
    "    return reg.search(item) is not None\n",
    "\n",
    "def read_lc_df(s: str, dtypes: dict[str, str]=dict()) -> pd.DataFrame:\n",
    "    temp = pd.read_csv(io.StringIO(s), sep=\"|\", skiprows=2)\n",
    "    temp = temp.iloc[1:-1, 1:-1]\n",
    "    temp.columns = temp.columns.map(str.strip)\n",
    "    temp = temp.map(lambda x: x if type(x) != str else None if x.strip() == 'null' else x.strip())\n",
    "    temp = temp.astype(dtypes)\n",
    "    return temp\n",
    "\n",
    "conn.create_function(\"REGEXP\", 2, regexp)"
   ]
  },
  {
   "cell_type": "markdown",
   "id": "b1bc22a1",
   "metadata": {
    "papermill": {
     "duration": 0.002598,
     "end_time": "2024-08-04T10:42:48.706745",
     "exception": false,
     "start_time": "2024-08-04T10:42:48.704147",
     "status": "completed"
    },
    "tags": []
   },
   "source": [
    "#### Helper for Binary tree problems"
   ]
  },
  {
   "cell_type": "code",
   "execution_count": 2,
   "id": "aff37a02",
   "metadata": {
    "execution": {
     "iopub.execute_input": "2024-08-04T10:42:48.712864Z",
     "iopub.status.busy": "2024-08-04T10:42:48.712601Z",
     "iopub.status.idle": "2024-08-04T10:42:48.719873Z",
     "shell.execute_reply": "2024-08-04T10:42:48.719431Z"
    },
    "lines_to_next_cell": 1,
    "papermill": {
     "duration": 0.011685,
     "end_time": "2024-08-04T10:42:48.720985",
     "exception": false,
     "start_time": "2024-08-04T10:42:48.709300",
     "status": "completed"
    },
    "tags": []
   },
   "outputs": [],
   "source": [
    "class BinaryTreeNode:\n",
    "    def __init__(self, val=0, left=None, right=None):\n",
    "        self.val = val\n",
    "        self.left = left\n",
    "        self.right = right\n",
    "\n",
    "    def to_list(self):\n",
    "        to_visit = [self]\n",
    "        visited = []\n",
    "        while len(to_visit) > 0:\n",
    "            curr = to_visit.pop(0)\n",
    "            if curr:\n",
    "                to_visit.append(curr.left)\n",
    "                to_visit.append(curr.right)\n",
    "                visited.append(curr.val)\n",
    "            else:\n",
    "                visited.append(curr)\n",
    "\n",
    "        while visited and not visited[-1]:\n",
    "            visited.pop()\n",
    "\n",
    "        return visited\n",
    "\n",
    "    def __str__(self):\n",
    "        return str(self.val)\n",
    "\n",
    "    @staticmethod\n",
    "    def from_array(nums: list[int|None]):\n",
    "        '''Create a Tree from a list of nums. Returns the root node.'''\n",
    "        if len(nums) == 0:\n",
    "            return None\n",
    "        elif len(nums) == 1:\n",
    "            return BinaryTreeNode(nums[0])\n",
    "        else:\n",
    "            forest = [BinaryTreeNode(nums[0])]\n",
    "            parent_idx = -1\n",
    "            for i in range(1, len(nums)):\n",
    "\n",
    "                curr = None\n",
    "                if nums[i] is not None:\n",
    "                    curr = BinaryTreeNode(nums[i])\n",
    "                    forest.append(curr)\n",
    "\n",
    "                if i % 2 == 1:\n",
    "                    parent_idx += 1\n",
    "                    forest[parent_idx].left = curr\n",
    "                else:\n",
    "                    forest[parent_idx].right = curr\n",
    "\n",
    "        return forest[0]"
   ]
  },
  {
   "cell_type": "markdown",
   "id": "83eb2501",
   "metadata": {
    "papermill": {
     "duration": 0.002528,
     "end_time": "2024-08-04T10:42:48.726059",
     "exception": false,
     "start_time": "2024-08-04T10:42:48.723531",
     "status": "completed"
    },
    "tags": []
   },
   "source": [
    "#### Helper for Singly Linked lists"
   ]
  },
  {
   "cell_type": "code",
   "execution_count": 3,
   "id": "5b9dd2b3",
   "metadata": {
    "execution": {
     "iopub.execute_input": "2024-08-04T10:42:48.732042Z",
     "iopub.status.busy": "2024-08-04T10:42:48.731769Z",
     "iopub.status.idle": "2024-08-04T10:42:48.736205Z",
     "shell.execute_reply": "2024-08-04T10:42:48.735671Z"
    },
    "lines_to_next_cell": 1,
    "papermill": {
     "duration": 0.008712,
     "end_time": "2024-08-04T10:42:48.737321",
     "exception": false,
     "start_time": "2024-08-04T10:42:48.728609",
     "status": "completed"
    },
    "tags": []
   },
   "outputs": [],
   "source": [
    "class ListNode:\n",
    "    def __init__(self, val=0, next=None):\n",
    "        self.val = val\n",
    "        self.next = next\n",
    "\n",
    "    def __str__(self):\n",
    "        return str(self.val)\n",
    "\n",
    "    @staticmethod\n",
    "    def to_singly_linked_list(nums: list[int]):\n",
    "        root = prev = None\n",
    "        for n in nums:\n",
    "            curr = ListNode(n)\n",
    "            # Init once\n",
    "            if not root:\n",
    "                root = curr\n",
    "            if prev:\n",
    "                prev.next = curr\n",
    "            prev = curr\n",
    "\n",
    "        return root\n",
    "\n",
    "    def to_list(self) -> list[int]:\n",
    "        result = []\n",
    "        curr = self\n",
    "        while curr:\n",
    "            result.append(curr.val)\n",
    "            curr = curr.next\n",
    "        return result"
   ]
  },
  {
   "cell_type": "markdown",
   "id": "1f801598",
   "metadata": {
    "papermill": {
     "duration": 0.002581,
     "end_time": "2024-08-04T10:42:48.742515",
     "exception": false,
     "start_time": "2024-08-04T10:42:48.739934",
     "status": "completed"
    },
    "tags": []
   },
   "source": [
    "Atcoder Beginner contest: 365"
   ]
  },
  {
   "cell_type": "code",
   "execution_count": 4,
   "id": "e1ccd5d8",
   "metadata": {
    "execution": {
     "iopub.execute_input": "2024-08-04T10:42:48.749828Z",
     "iopub.status.busy": "2024-08-04T10:42:48.749362Z",
     "iopub.status.idle": "2024-08-04T10:42:48.755727Z",
     "shell.execute_reply": "2024-08-04T10:42:48.755204Z"
    },
    "lines_to_next_cell": 1,
    "papermill": {
     "duration": 0.010851,
     "end_time": "2024-08-04T10:42:48.756876",
     "exception": false,
     "start_time": "2024-08-04T10:42:48.746025",
     "status": "completed"
    },
    "tags": []
   },
   "outputs": [],
   "source": [
    "def leap_year(year: int) -> int:\n",
    "    if year % 4 != 0:\n",
    "        return 365\n",
    "    elif year % 100 != 0:\n",
    "        return 366\n",
    "    elif year % 400 != 0:\n",
    "        return 365\n",
    "    else:\n",
    "        return 366\n",
    "\n",
    "# Testing the solution\n",
    "assert leap_year(2023) == 365\n",
    "assert leap_year(1992) == 366\n",
    "assert leap_year(1800) == 365\n",
    "assert leap_year(1600) == 366\n",
    "\n",
    "# %$\n",
    "def second_largest(N: int, nums: list[int]) -> int:\n",
    "    max_ = max(nums)\n",
    "    idx = 0 if nums[0] != max_ else 1\n",
    "    for i in range(N):\n",
    "        if nums[idx] < nums[i] < max_:\n",
    "            idx = i\n",
    "    return idx + 1\n",
    "\n",
    "# Testing the solution\n",
    "assert second_largest(5, [3,8,2,5,1]) == 4\n",
    "assert second_largest(4, [8,2,5,1]) == 3\n",
    "assert second_largest(2, [2,1]) == 2\n",
    "assert second_largest(8, [1,2,3,4,5,10,9,11]) == 6"
   ]
  },
  {
   "cell_type": "code",
   "execution_count": 5,
   "id": "b809205d",
   "metadata": {
    "execution": {
     "iopub.execute_input": "2024-08-04T10:42:48.763315Z",
     "iopub.status.busy": "2024-08-04T10:42:48.762829Z",
     "iopub.status.idle": "2024-08-04T10:42:48.768046Z",
     "shell.execute_reply": "2024-08-04T10:42:48.767585Z"
    },
    "lines_to_next_cell": 1,
    "papermill": {
     "duration": 0.009594,
     "end_time": "2024-08-04T10:42:48.769123",
     "exception": false,
     "start_time": "2024-08-04T10:42:48.759529",
     "status": "completed"
    },
    "tags": []
   },
   "outputs": [],
   "source": [
    "def transportation_expenses(N: int, M: int, costs: list[int]) -> int:\n",
    "    total_cost = sum(costs)\n",
    "    if total_cost <= M:\n",
    "        return -1\n",
    "    else:\n",
    "        low, high = 0, M\n",
    "        while low <= high:\n",
    "            mid = (low + high) // 2\n",
    "            total_cost = sum(map(lambda x: min(x, mid), costs))\n",
    "            if total_cost <= M:\n",
    "                low = mid + 1\n",
    "            else:\n",
    "                high = mid - 1\n",
    "\n",
    "        return high\n",
    "\n",
    "# Testing the solution\n",
    "assert transportation_expenses(4, 8, [1,3,2,4]) == 2\n",
    "assert transportation_expenses(3, 20, [5,3,2]) == -1\n",
    "assert transportation_expenses(10, 23, [2,5,6,5,2,1,7,9,7,2]) == 2"
   ]
  },
  {
   "cell_type": "code",
   "execution_count": 6,
   "id": "8c882d10",
   "metadata": {
    "execution": {
     "iopub.execute_input": "2024-08-04T10:42:48.775576Z",
     "iopub.status.busy": "2024-08-04T10:42:48.775181Z",
     "iopub.status.idle": "2024-08-04T10:42:48.782062Z",
     "shell.execute_reply": "2024-08-04T10:42:48.781623Z"
    },
    "lines_to_next_cell": 1,
    "papermill": {
     "duration": 0.011259,
     "end_time": "2024-08-04T10:42:48.783140",
     "exception": false,
     "start_time": "2024-08-04T10:42:48.771881",
     "status": "completed"
    },
    "tags": []
   },
   "outputs": [],
   "source": [
    "def RPS(N: int, moves: str) -> int:\n",
    "\n",
    "    win_mapping: dict[str, str] = {\"R\": \"P\", \"S\": \"R\", \"P\": \"S\"}\n",
    "    move_mapping: dict[int, str] = dict(enumerate(\"RPS\"))\n",
    "    move_mapping_rev: dict[str, int] = {j: i for i, j in move_mapping.items()}\n",
    "\n",
    "    dp: list[int] = [0 for j in range(3)]\n",
    "    for i in range(N - 1, -1, -1):\n",
    "        curr, win_move = moves[i], win_mapping[moves[i]]\n",
    "        next_dp: list[int] = [0 for i in range(3)]\n",
    "        for j in range(3):\n",
    "            prev = move_mapping[j]\n",
    "            if win_move != prev:\n",
    "                next_dp[j] = max(next_dp[j], 1 + dp[move_mapping_rev[win_move]])\n",
    "            if moves[i] != prev:\n",
    "                next_dp[j] = max(next_dp[j], dp[move_mapping_rev[curr]])\n",
    "        dp = next_dp\n",
    "\n",
    "    return max(dp)\n",
    "\n",
    "# Testing the solution\n",
    "assert RPS(24, \"SPRPSRRRRRPPRPRPSSRSPRSS\") == 18\n",
    "assert RPS(10, \"SSSSSSSSSS\") == 5\n",
    "assert RPS(5, \"SSPRS\") == 4\n",
    "assert RPS(6, \"PRSSRS\") == 5"
   ]
  },
  {
   "cell_type": "markdown",
   "id": "6249f8ac",
   "metadata": {
    "papermill": {
     "duration": 0.002565,
     "end_time": "2024-08-04T10:42:48.788430",
     "exception": false,
     "start_time": "2024-08-04T10:42:48.785865",
     "status": "completed"
    },
    "tags": []
   },
   "source": [
    "#### Leetcode Biweekly"
   ]
  },
  {
   "cell_type": "code",
   "execution_count": 7,
   "id": "214ef0c6",
   "metadata": {
    "execution": {
     "iopub.execute_input": "2024-08-04T10:42:48.794688Z",
     "iopub.status.busy": "2024-08-04T10:42:48.794446Z",
     "iopub.status.idle": "2024-08-04T10:42:48.802522Z",
     "shell.execute_reply": "2024-08-04T10:42:48.802055Z"
    },
    "lines_to_next_cell": 1,
    "papermill": {
     "duration": 0.012536,
     "end_time": "2024-08-04T10:42:48.803601",
     "exception": false,
     "start_time": "2024-08-04T10:42:48.791065",
     "status": "completed"
    },
    "tags": []
   },
   "outputs": [],
   "source": [
    "def minFlips(grid: list[list[int]]) -> int:\n",
    "    M, N = len(grid), len(grid[0])\n",
    "\n",
    "    # Count flips required horizontally\n",
    "    h_flips = 0\n",
    "    for i in range(M):\n",
    "        j, k, flips = 0, N - 1, 0\n",
    "        while j < k:\n",
    "            if grid[i][j] != grid[i][k]:\n",
    "                flips += 1\n",
    "            j, k = j + 1, k - 1\n",
    "        h_flips += flips\n",
    "\n",
    "    # Count flips required vertically\n",
    "    v_flips = 0\n",
    "    for i in range(N):\n",
    "        j, k, flips = 0, M - 1, 0\n",
    "        while j < k:\n",
    "            if grid[j][i] != grid[k][i]:\n",
    "                flips += 1\n",
    "            j, k = j + 1, k - 1\n",
    "        v_flips += flips\n",
    "\n",
    "    return min(h_flips, v_flips)\n",
    "\n",
    "# Testing the solution\n",
    "assert minFlips([[1,0,0],[0,0,0],[0,0,1]]) == 2\n",
    "assert minFlips([[0,1],[0,1],[0,0]]) == 1\n",
    "assert minFlips([[1],[0]]) == 0\n",
    "assert minFlips([[1]]) == 0"
   ]
  },
  {
   "cell_type": "markdown",
   "id": "b0ef9709",
   "metadata": {
    "papermill": {
     "duration": 0.002699,
     "end_time": "2024-08-04T10:42:48.809243",
     "exception": false,
     "start_time": "2024-08-04T10:42:48.806544",
     "status": "completed"
    },
    "tags": []
   },
   "source": [
    "#### Upsolving Min Flips 2"
   ]
  },
  {
   "cell_type": "code",
   "execution_count": 8,
   "id": "45a44096",
   "metadata": {
    "execution": {
     "iopub.execute_input": "2024-08-04T10:42:48.815666Z",
     "iopub.status.busy": "2024-08-04T10:42:48.815178Z",
     "iopub.status.idle": "2024-08-04T10:42:48.824727Z",
     "shell.execute_reply": "2024-08-04T10:42:48.824251Z"
    },
    "lines_to_next_cell": 1,
    "papermill": {
     "duration": 0.013995,
     "end_time": "2024-08-04T10:42:48.825799",
     "exception": false,
     "start_time": "2024-08-04T10:42:48.811804",
     "status": "completed"
    },
    "tags": []
   },
   "outputs": [],
   "source": [
    "def minFlipsII(grid: list[list[int]]) -> int:\n",
    "    # https://leetcode.com/problems/minimum-number-of-flips-to-make-binary-grid-palindromic-ii/solutions/5581114/counting-greedy-python3/\n",
    "    def symmetric_pairs(i: int, j: int) -> set[tuple[int, int]]:\n",
    "        return {(i, j), (i, N - j - 1), (M - i - 1, j), (M - i - 1, N - j - 1)}\n",
    "\n",
    "    # Compute dimensions\n",
    "    M, N = len(grid), len(grid[0])\n",
    "\n",
    "    # Calculate the number of flips\n",
    "    # 4 way symmetry - all 0s or all 1s\n",
    "    # 2 way symmetry - based on odd / even count of (1, 1), (0, 1) / (1, 0) we decide\n",
    "    # 1 cell symmetry - all 0s\n",
    "\n",
    "    flips, tws10, tws11 = 0, 0, 0\n",
    "    visited: set[tuple[int, int]] = set()\n",
    "    for i in range(M):\n",
    "        for j in range(N):\n",
    "            if (i, j) not in visited:\n",
    "                ones, pairs = 0, symmetric_pairs(i, j)\n",
    "                for x, y in pairs:\n",
    "                    if grid[x][y] == 1:\n",
    "                        ones += 1\n",
    "                    visited.add((x, y))\n",
    "\n",
    "                # Four cell symmetry\n",
    "                if len(pairs) == 4:\n",
    "                    flips += min(ones, len(pairs) - ones)\n",
    "\n",
    "                # Single cell symmetry\n",
    "                elif len(pairs) == 1:\n",
    "                    flips += ones\n",
    "\n",
    "                # Two cell symmetry\n",
    "                else:\n",
    "                    # Count 1, 1\n",
    "                    if ones == 2:\n",
    "                        tws11 += 1\n",
    "                    # Count 1, 0 / 0, 1\n",
    "                    elif ones == 1:\n",
    "                        tws10 += 1\n",
    "\n",
    "    # If even number of 1, 1 pairs\n",
    "    if tws11 % 2 == 0:\n",
    "        # Change all (0, 1), (1, 0) to (0, 0)\n",
    "        flips += tws10\n",
    "    else:\n",
    "        # If there is atleast a single (1, 0) pair change all (1, 0) that to (1, 1)\n",
    "        # Otherwise change a single (1, 1) to (0, 0)\n",
    "        flips += tws10 if tws10 else 2\n",
    "\n",
    "    return flips\n",
    "\n",
    "# Testing the solution\n",
    "assert minFlipsII([[1,0,0],[0,1,0],[0,0,1]]) == 3\n",
    "assert minFlipsII([[0,1],[0,1],[0,0]]) == 2\n",
    "assert minFlipsII([[1],[1]]) == 2\n",
    "assert minFlipsII([[1],[1],[1],[0]]) == 1\n",
    "assert minFlipsII([[1,1,0,0,1],[0,1,1,0,1],[0,0,1,1,1],[1,0,1,1,0],[1,0,1,1,0],[0,0,1,1,1],[0,1,1,0,1],[1,1,0,1,0]]) == 16"
   ]
  },
  {
   "cell_type": "markdown",
   "id": "2b19c2f3",
   "metadata": {
    "papermill": {
     "duration": 0.002508,
     "end_time": "2024-08-04T10:42:48.831166",
     "exception": false,
     "start_time": "2024-08-04T10:42:48.828658",
     "status": "completed"
    },
    "tags": []
   },
   "source": [
    "LC Weekly - 4th Aug 2024"
   ]
  },
  {
   "cell_type": "code",
   "execution_count": 9,
   "id": "e54fdc0e",
   "metadata": {
    "execution": {
     "iopub.execute_input": "2024-08-04T10:42:48.837347Z",
     "iopub.status.busy": "2024-08-04T10:42:48.837130Z",
     "iopub.status.idle": "2024-08-04T10:42:48.844548Z",
     "shell.execute_reply": "2024-08-04T10:42:48.844081Z"
    },
    "lines_to_next_cell": 1,
    "papermill": {
     "duration": 0.011934,
     "end_time": "2024-08-04T10:42:48.845681",
     "exception": false,
     "start_time": "2024-08-04T10:42:48.833747",
     "status": "completed"
    },
    "tags": []
   },
   "outputs": [],
   "source": [
    "class neighborSum:\n",
    "\n",
    "    def __init__(self, grid: List[List[int]]):\n",
    "        self.grid: list[list[int]] = grid\n",
    "        self.M, self.N = len(grid), len(grid[0])\n",
    "        self.positions: dict[int, tuple[int, int]] = {grid[i][j]: (i, j) for i in range(self.M) for j in range(self.N)}\n",
    "\n",
    "    def adjacentSum(self, value: int) -> int:\n",
    "        result = 0\n",
    "        i, j = self.positions[value]\n",
    "        for x, y in ((i - 1, j), (i + 1, j), (i, j - 1), (i, j + 1)):\n",
    "            if 0 <= x < self.M and 0 <= y < self.N:\n",
    "                result += self.grid[x][y]\n",
    "        return result\n",
    "\n",
    "    def diagonalSum(self, value: int) -> int:\n",
    "        result = 0\n",
    "        i, j = self.positions[value]\n",
    "        for x, y in ((i - 1, j - 1), (i + 1, j + 1), (i - 1, j + 1), (i + 1, j - 1)):\n",
    "            if 0 <= x < self.M and 0 <= y < self.N:\n",
    "                result += self.grid[x][y]\n",
    "        return result\n",
    "\n",
    "# Testing the solution\n",
    "ns = neighborSum([[0,1,2], [3,4,5], [6,7,8]])\n",
    "assert ns.adjacentSum(1) == 6\n",
    "assert ns.adjacentSum(4) == 16\n",
    "assert ns.diagonalSum(4) == 16\n",
    "assert ns.diagonalSum(8) == 4"
   ]
  },
  {
   "cell_type": "code",
   "execution_count": 10,
   "id": "fd7c00f5",
   "metadata": {
    "execution": {
     "iopub.execute_input": "2024-08-04T10:42:48.852031Z",
     "iopub.status.busy": "2024-08-04T10:42:48.851670Z",
     "iopub.status.idle": "2024-08-04T10:42:48.857853Z",
     "shell.execute_reply": "2024-08-04T10:42:48.857426Z"
    },
    "lines_to_next_cell": 1,
    "papermill": {
     "duration": 0.01058,
     "end_time": "2024-08-04T10:42:48.858938",
     "exception": false,
     "start_time": "2024-08-04T10:42:48.848358",
     "status": "completed"
    },
    "tags": []
   },
   "outputs": [],
   "source": [
    "def shortestDistanceAfterQueries(N: int, queries: list[list[int]]) -> list[int]:\n",
    "    def shortest_path() -> int:\n",
    "        queue: collections.deque[tuple[int, int]] = collections.deque([(0, 0)])\n",
    "        while queue:\n",
    "            curr, dist = queue.popleft()\n",
    "            for next_node in adjl[curr]:\n",
    "                if next_node == N - 1:\n",
    "                    return dist + 1\n",
    "                else:\n",
    "                    queue.append((next_node, dist + 1))\n",
    "\n",
    "        return -1\n",
    "\n",
    "    adjl: collections.defaultdict[int, list[int]] = collections.defaultdict(list)\n",
    "    for i in range(N):\n",
    "        adjl[i].append(i + 1)\n",
    "\n",
    "    result: list[int] = []\n",
    "    for n1, n2 in queries:\n",
    "        adjl[n1].append(n2)\n",
    "        result.append(shortest_path())\n",
    "\n",
    "    return result\n",
    "\n",
    "# Testing the solution\n",
    "assert shortestDistanceAfterQueries(5, [[2,4],[0,2],[0,4]]) == [3,2,1]\n",
    "assert shortestDistanceAfterQueries(4, [[0,3],[0,2]]) == [1,1]"
   ]
  },
  {
   "cell_type": "markdown",
   "id": "ef8544a1",
   "metadata": {
    "papermill": {
     "duration": 0.002638,
     "end_time": "2024-08-04T10:42:48.864402",
     "exception": false,
     "start_time": "2024-08-04T10:42:48.861764",
     "status": "completed"
    },
    "tags": []
   },
   "source": [
    "#### Matrix factorization GYM Practice: https://codeforces.com/gym/102644"
   ]
  },
  {
   "cell_type": "code",
   "execution_count": 11,
   "id": "f806393a",
   "metadata": {
    "execution": {
     "iopub.execute_input": "2024-08-04T10:42:48.870928Z",
     "iopub.status.busy": "2024-08-04T10:42:48.870443Z",
     "iopub.status.idle": "2024-08-04T10:42:48.878027Z",
     "shell.execute_reply": "2024-08-04T10:42:48.877603Z"
    },
    "lines_to_next_cell": 1,
    "papermill": {
     "duration": 0.012147,
     "end_time": "2024-08-04T10:42:48.879182",
     "exception": false,
     "start_time": "2024-08-04T10:42:48.867035",
     "status": "completed"
    },
    "tags": []
   },
   "outputs": [],
   "source": [
    "def count_paths_brute(N: int, E: int, K: int, edges: list[tuple[int, int]]) -> int:\n",
    "    # Convert edges into adjl\n",
    "    adjl: collections.defaultdict[int, list[int]] = collections.defaultdict(list)\n",
    "    for n1, n2 in edges:\n",
    "        adjl[n2].append(n1)\n",
    "\n",
    "    # Do a 'cached' DFS\n",
    "    MOD = 10 ** 9 + 7\n",
    "\n",
    "    # Do a DFS traversal and cache the results\n",
    "    dp: dict[tuple[int, int], int] = {(0, K + 1): 0}\n",
    "    stack: list[tuple[int, int, int]] = [(i, 0, K) for i in range(1, N + 1)]\n",
    "    while stack:\n",
    "        curr, prev, k = stack[-1]\n",
    "        if (curr, k) in dp or k == 0:\n",
    "            if k == 0:\n",
    "                dp[(curr, k)] = 1\n",
    "            dp[(prev, k + 1)] = (dp[(prev, k + 1)] + dp[(curr, k)]) % MOD\n",
    "            stack.pop()\n",
    "        else:\n",
    "            dp[(curr, k)] = 0\n",
    "            for next_node in adjl[curr]:\n",
    "                stack.append((next_node, curr, k - 1))\n",
    "\n",
    "    return dp[(0, K + 1)]\n",
    "\n",
    "# Testing the solution\n",
    "assert count_paths_brute(3, 4, 2, [(1,2), (2,3), (3,1), (2,1)]) == 5\n",
    "assert count_paths_brute(5, 10, 11, [(2,3), (4,2), (2,1), (2,4), (1,5), (5,2), (3,2), (3,1), (3,4), (1,2)]) == 21305"
   ]
  },
  {
   "cell_type": "code",
   "execution_count": 12,
   "id": "a8db5c84",
   "metadata": {
    "execution": {
     "iopub.execute_input": "2024-08-04T10:42:48.885736Z",
     "iopub.status.busy": "2024-08-04T10:42:48.885277Z",
     "iopub.status.idle": "2024-08-04T10:42:48.894441Z",
     "shell.execute_reply": "2024-08-04T10:42:48.893933Z"
    },
    "lines_to_next_cell": 1,
    "papermill": {
     "duration": 0.013666,
     "end_time": "2024-08-04T10:42:48.895584",
     "exception": false,
     "start_time": "2024-08-04T10:42:48.881918",
     "status": "completed"
    },
    "tags": []
   },
   "outputs": [],
   "source": [
    "def count_paths(n_vertices: int, n_edges: int, K: int, edges: list[tuple[int, int]]) -> int:\n",
    "    \"\"\"\n",
    "    Adj matrix raised to power K\n",
    "\n",
    "    Each cell (i, j) denotes how many paths exist from node i + 1 to j + 1.\n",
    "    Total paths would be the sum of all cells\n",
    "    \"\"\"\n",
    "\n",
    "    def matrix_multiply(A: list[list[int]], B: list[list[int]]) -> list[list[int]]:\n",
    "        M, N, P, Q = len(A), len(A[0]), len(B), len(B[0])\n",
    "        assert N == P, \"invalid matrix dimensions\"\n",
    "        result: list[list[int]] = [[0 for j in range(M)] for i in range(Q)]\n",
    "        for i in range(M):\n",
    "            for j in range(Q):\n",
    "                for k in range(N):\n",
    "                    result[i][j] = (result[i][j] + A[i][k] * B[k][j]) % MOD\n",
    "\n",
    "        return result\n",
    "\n",
    "    def matrix_power(base: list[list[int]], exp: int) -> list[list[int]]:\n",
    "        N = len(base)\n",
    "        result: list[list[int]] = [[1 if i == j else 0 for j in range(N)] for i in range(N)]\n",
    "        while exp:\n",
    "            if exp & 1:\n",
    "                result = matrix_multiply(result, base)\n",
    "            base = matrix_multiply(base, base)\n",
    "            exp >>= 1\n",
    "\n",
    "        return result\n",
    "\n",
    "    # Return path count % MOD\n",
    "    MOD = 10 ** 9 + 7\n",
    "    adjm: list[list[int]] = [[0 for j in range(n_vertices)] for i in range(n_vertices)]\n",
    "    for n1, n2 in edges:\n",
    "        adjm[n1 - 1][n2 - 1] = 1\n",
    "\n",
    "    # Raise Adjm to the power of K using matrix factorization\n",
    "    result = matrix_power(adjm, K)\n",
    "    return sum(sum(row) for row in result) % MOD\n",
    "\n",
    "# Testing the solution\n",
    "assert count_paths(3, 4, 2, [(1,2), (2,3), (3,1), (2,1)]) == 5\n",
    "assert count_paths(5, 10, 11, [(2,3), (4,2), (2,1), (2,4), (1,5), (5,2), (3,2), (3,1), (3,4), (1,2)]) == 21305"
   ]
  },
  {
   "cell_type": "code",
   "execution_count": 13,
   "id": "26d5ee66",
   "metadata": {
    "execution": {
     "iopub.execute_input": "2024-08-04T10:42:48.902140Z",
     "iopub.status.busy": "2024-08-04T10:42:48.901711Z",
     "iopub.status.idle": "2024-08-04T10:42:49.242973Z",
     "shell.execute_reply": "2024-08-04T10:42:49.242401Z"
    },
    "lines_to_next_cell": 1,
    "papermill": {
     "duration": 0.34601,
     "end_time": "2024-08-04T10:42:49.244409",
     "exception": false,
     "start_time": "2024-08-04T10:42:48.898399",
     "status": "completed"
    },
    "tags": []
   },
   "outputs": [],
   "source": [
    "def knight_paths(K: int) -> int:\n",
    "\n",
    "    ij2n: typing.Callable[[int, int], int] = lambda x, y: 8 * x + y\n",
    "    n2ij: typing.Callable[[int], tuple[int, int]] = lambda n: (n // 8, n % 8)\n",
    "\n",
    "    def matrix_multiply(A: list[list[int]], B: list[list[int]], mod: int) -> list[list[int]]:\n",
    "        M, N, P, Q = len(A), len(A[0]), len(B), len(B[0])\n",
    "        assert N == P, \"invalid dimensions\"\n",
    "        result: list[list[int]] = [[0 for j in range(Q)] for i in range(M)]\n",
    "        for i in range(M):\n",
    "            for j in range(Q):\n",
    "                for k in range(N):\n",
    "                    result[i][j] = (result[i][j] + A[i][k] * B[k][j]) % mod\n",
    "\n",
    "        return result\n",
    "\n",
    "    def matrix_power(base: list[list[int]], power: int, mod: int) -> list[list[int]]:\n",
    "        N = len(base)\n",
    "        result: list[list[int]] = [[1 if i == j else 0 for j in range(N)] for i in range(N)]\n",
    "        while power:\n",
    "            if power & 1:\n",
    "                result = matrix_multiply(result, base, mod)\n",
    "            base = matrix_multiply(base, base, mod)\n",
    "            power //= 2\n",
    "\n",
    "        return result\n",
    "\n",
    "    def mark_paths(n: int) -> list[int]:\n",
    "        x1, y1 = n2ij(n)\n",
    "        result: list[int] = []\n",
    "        for x_delta in (-2, -1, 1, 2):\n",
    "            for y_delta in (-2, -1, 1, 2):\n",
    "                x2, y2 = x1 + x_delta, y1 + y_delta\n",
    "                if 0 <= x2 < 8 and 0 <= y2 < 8 and abs(x_delta) != abs(y_delta):\n",
    "                    result.append(ij2n(x2, y2))\n",
    "\n",
    "        return result\n",
    "\n",
    "    @functools.cache\n",
    "    def generate_base() -> list[list[int]]:\n",
    "        # Count of paths the knight can make starting at given point\n",
    "        base: list[list[int]] = [[0 for j in range(65)] for i in range(65)]\n",
    "        for i in range(64):\n",
    "            for j in mark_paths(i):\n",
    "                base[i][j] = 1\n",
    "\n",
    "        # We store the cells from 0 - 63, 64 stores the answer\n",
    "        for i in range(65):\n",
    "            base[i][64] = 1\n",
    "\n",
    "        return base\n",
    "\n",
    "    base = generate_base()\n",
    "    result = matrix_power(base, K + 1, 4294967296)\n",
    "    return result[0][64]\n",
    "\n",
    "# Testing the solution\n",
    "assert knight_paths(1) == 3\n",
    "assert knight_paths(2) == 15\n",
    "assert knight_paths(6) == 17231"
   ]
  },
  {
   "cell_type": "markdown",
   "id": "f3b88c65",
   "metadata": {},
   "source": [
    "#### Codeforces Div 2 - 4th July 2024"
   ]
  },
  {
   "cell_type": "code",
   "execution_count": null,
   "id": "c7bba6a6",
   "metadata": {
    "lines_to_next_cell": 1
   },
   "outputs": [],
   "source": [
    "def question_marks(N: int, answers: str) -> int:\n",
    "    marks = 0\n",
    "    correct: dict[str, int] = {ch: N for ch in \"ABCD\"}\n",
    "    for answer in answers:\n",
    "        if answer in correct:\n",
    "            marks += 1\n",
    "            correct[answer] -= 1\n",
    "            if correct[answer] == 0:\n",
    "                correct.pop(answer)\n",
    "\n",
    "    return marks\n",
    "\n",
    "# Testing the solution\n",
    "assert question_marks(1, \"ABCD\") == 4\n",
    "assert question_marks(2, \"AAAAAAAA\") == 2\n",
    "assert question_marks(2, \"AAAABBBB\") == 4\n",
    "assert question_marks(2, \"????????\") == 0\n",
    "assert question_marks(3, \"ABCABCABCABC\") == 9\n",
    "assert question_marks(5, \"ACADC??ACAC?DCAABC?C\") == 13"
   ]
  },
  {
   "cell_type": "code",
   "execution_count": null,
   "id": "54e56c2f",
   "metadata": {
    "lines_to_next_cell": 1
   },
   "outputs": [],
   "source": [
    "def parity_and_sum(N: int, nums: list[int]) -> int:\n",
    "    # Split into odd / even\n",
    "    odd: list[int] = []\n",
    "    even: list[int] = []\n",
    "    for n in nums:\n",
    "        if n % 2 == 0:\n",
    "            even.append(n)\n",
    "        else:\n",
    "            odd.append(n)\n",
    "\n",
    "    # Sort odd and even\n",
    "    odd.sort(reverse=False)\n",
    "    even.sort(reverse=True)\n",
    "\n",
    "    # Check the smallest in odd and largest in even\n",
    "    moves = 0\n",
    "    while odd and even:\n",
    "        moves += 1\n",
    "        if even[-1] < odd[-1]:\n",
    "            odd.append(even.pop() + odd[-1])\n",
    "        else:\n",
    "            odd[-1] += even[0]\n",
    "\n",
    "    return moves\n",
    "\n",
    "# Testing the solution\n",
    "assert parity_and_sum(4, [1,4,10,12]) == 4\n",
    "assert parity_and_sum(5, [1,3,5,7,9]) == 0\n",
    "assert parity_and_sum(4, [4,4,4,4]) == 0\n",
    "assert parity_and_sum(3, [2,3,4]) == 2\n",
    "assert parity_and_sum(4, [3,2,2,8]) == 4\n",
    "assert parity_and_sum(6, [4,3,6,1,2,1]) == 3"
   ]
  },
  {
   "cell_type": "code",
   "execution_count": null,
   "id": "2ce915ba",
   "metadata": {},
   "outputs": [],
   "source": [
    "def light_switches(N: int, K: int, install_time: list[int]) -> int:\n",
    "    start, end = install_time[0], install_time[0] + K - 1\n",
    "    for time in install_time[1:]:\n",
    "        curr_start, curr_end = time, time + K - 1\n",
    "\n",
    "        # Always ensure that start, end is the greater\n",
    "        if start < curr_start:\n",
    "            start, end, curr_start, curr_end = curr_start, curr_end, start, end\n",
    "\n",
    "        # If they don't overlap, try to increase them to the nearest range\n",
    "        if curr_end < start:\n",
    "            factor = math.ceil((start - curr_end) / (2 * K))\n",
    "            curr_start, curr_end = curr_start + (factor * 2 * K), curr_end + (factor * 2 * K)\n",
    "\n",
    "        # Check if overlap\n",
    "        start, end = max(start, curr_start), min(end, curr_end)\n",
    "\n",
    "        if end < start:\n",
    "            return -1\n",
    "\n",
    "    return start\n",
    "\n",
    "# Testing the solution\n",
    "assert light_switches(3, 3, [6,2,1]) == 8\n",
    "assert light_switches(7, 5, [14,34,6,25,46,7,17]) == 47\n",
    "assert light_switches(4, 3, [2,3,4,5]) == -1\n",
    "assert light_switches(4, 4, [2,3,4,5]) == 5\n",
    "assert light_switches(4, 3, [3,4,8,9]) == 10\n",
    "assert light_switches(1, 1, [1]) == 1\n",
    "assert light_switches(6, 5, [40,80,99,60,90,50]) == 100\n",
    "assert light_switches(6, 5, [64,40,50,68,70,10]) == -1"
   ]
  }
 ],
 "metadata": {
  "kernelspec": {
   "display_name": "Python 3 (ipykernel)",
   "language": "python",
   "name": "python3"
  },
  "language_info": {
   "codemirror_mode": {
    "name": "ipython",
    "version": 3
   },
   "file_extension": ".py",
   "mimetype": "text/x-python",
   "name": "python",
   "nbconvert_exporter": "python",
   "pygments_lexer": "ipython3",
   "version": "3.11.9"
  },
  "papermill": {
   "default_parameters": {},
   "duration": 2.04187,
   "end_time": "2024-08-04T10:42:49.463438",
   "environment_variables": {},
   "exception": null,
   "input_path": "practice/007.ipynb",
   "output_path": "practice/007.ipynb",
   "parameters": {},
   "start_time": "2024-08-04T10:42:47.421568",
   "version": "2.6.0"
  }
 },
 "nbformat": 4,
 "nbformat_minor": 5
}
