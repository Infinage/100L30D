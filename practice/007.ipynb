{
 "cells": [
  {
   "cell_type": "code",
   "execution_count": 1,
   "id": "1829768e",
   "metadata": {
    "execution": {
     "iopub.execute_input": "2024-08-10T16:40:52.301009Z",
     "iopub.status.busy": "2024-08-10T16:40:52.300447Z",
     "iopub.status.idle": "2024-08-10T16:40:52.676837Z",
     "shell.execute_reply": "2024-08-10T16:40:52.676229Z"
    },
    "papermill": {
     "duration": 0.387239,
     "end_time": "2024-08-10T16:40:52.678548",
     "exception": false,
     "start_time": "2024-08-10T16:40:52.291309",
     "status": "completed"
    },
    "tags": []
   },
   "outputs": [],
   "source": [
    "from typing import List, Optional, Generator\n",
    "import typing\n",
    "import pandas as pd\n",
    "import numpy as np\n",
    "import sqlite3\n",
    "import re\n",
    "import io\n",
    "import math\n",
    "import collections\n",
    "import itertools\n",
    "import functools\n",
    "import random\n",
    "import string\n",
    "import tqdm\n",
    "import bisect\n",
    "import heapq\n",
    "\n",
    "conn = sqlite3.connect(\":memory:\")\n",
    "\n",
    "def regexp(expr, item):\n",
    "    reg = re.compile(expr)\n",
    "    return reg.search(item) is not None\n",
    "\n",
    "def read_lc_df(s: str, dtypes: dict[str, str]=dict()) -> pd.DataFrame:\n",
    "    temp = pd.read_csv(io.StringIO(s), sep=\"|\", skiprows=2)\n",
    "    temp = temp.iloc[1:-1, 1:-1]\n",
    "    temp.columns = temp.columns.map(str.strip)\n",
    "    temp = temp.map(lambda x: x if type(x) != str else None if x.strip() == 'null' else x.strip())\n",
    "    temp = temp.astype(dtypes)\n",
    "    return temp\n",
    "\n",
    "conn.create_function(\"REGEXP\", 2, regexp)"
   ]
  },
  {
   "cell_type": "markdown",
   "id": "b1bc22a1",
   "metadata": {
    "papermill": {
     "duration": 0.007114,
     "end_time": "2024-08-10T16:40:52.693050",
     "exception": false,
     "start_time": "2024-08-10T16:40:52.685936",
     "status": "completed"
    },
    "tags": []
   },
   "source": [
    "#### Helper for Binary tree problems"
   ]
  },
  {
   "cell_type": "code",
   "execution_count": 2,
   "id": "aff37a02",
   "metadata": {
    "execution": {
     "iopub.execute_input": "2024-08-10T16:40:52.708157Z",
     "iopub.status.busy": "2024-08-10T16:40:52.707715Z",
     "iopub.status.idle": "2024-08-10T16:40:52.713967Z",
     "shell.execute_reply": "2024-08-10T16:40:52.713452Z"
    },
    "lines_to_next_cell": 1,
    "papermill": {
     "duration": 0.015262,
     "end_time": "2024-08-10T16:40:52.715190",
     "exception": false,
     "start_time": "2024-08-10T16:40:52.699928",
     "status": "completed"
    },
    "tags": []
   },
   "outputs": [],
   "source": [
    "class BinaryTreeNode:\n",
    "    def __init__(self, val=0, left=None, right=None):\n",
    "        self.val = val\n",
    "        self.left = left\n",
    "        self.right = right\n",
    "\n",
    "    def to_list(self):\n",
    "        to_visit = [self]\n",
    "        visited = []\n",
    "        while len(to_visit) > 0:\n",
    "            curr = to_visit.pop(0)\n",
    "            if curr:\n",
    "                to_visit.append(curr.left)\n",
    "                to_visit.append(curr.right)\n",
    "                visited.append(curr.val)\n",
    "            else:\n",
    "                visited.append(curr)\n",
    "\n",
    "        while visited and not visited[-1]:\n",
    "            visited.pop()\n",
    "\n",
    "        return visited\n",
    "\n",
    "    def __str__(self):\n",
    "        return str(self.val)\n",
    "\n",
    "    @staticmethod\n",
    "    def from_array(nums: list[int|None]):\n",
    "        '''Create a Tree from a list of nums. Returns the root node.'''\n",
    "        if len(nums) == 0:\n",
    "            return None\n",
    "        elif len(nums) == 1:\n",
    "            return BinaryTreeNode(nums[0])\n",
    "        else:\n",
    "            forest = [BinaryTreeNode(nums[0])]\n",
    "            parent_idx = -1\n",
    "            for i in range(1, len(nums)):\n",
    "\n",
    "                curr = None\n",
    "                if nums[i] is not None:\n",
    "                    curr = BinaryTreeNode(nums[i])\n",
    "                    forest.append(curr)\n",
    "\n",
    "                if i % 2 == 1:\n",
    "                    parent_idx += 1\n",
    "                    forest[parent_idx].left = curr\n",
    "                else:\n",
    "                    forest[parent_idx].right = curr\n",
    "\n",
    "        return forest[0]"
   ]
  },
  {
   "cell_type": "markdown",
   "id": "83eb2501",
   "metadata": {
    "papermill": {
     "duration": 0.006995,
     "end_time": "2024-08-10T16:40:52.729476",
     "exception": false,
     "start_time": "2024-08-10T16:40:52.722481",
     "status": "completed"
    },
    "tags": []
   },
   "source": [
    "#### Helper for Singly Linked lists"
   ]
  },
  {
   "cell_type": "code",
   "execution_count": 3,
   "id": "5b9dd2b3",
   "metadata": {
    "execution": {
     "iopub.execute_input": "2024-08-10T16:40:52.744814Z",
     "iopub.status.busy": "2024-08-10T16:40:52.744321Z",
     "iopub.status.idle": "2024-08-10T16:40:52.748804Z",
     "shell.execute_reply": "2024-08-10T16:40:52.748270Z"
    },
    "lines_to_next_cell": 1,
    "papermill": {
     "duration": 0.01373,
     "end_time": "2024-08-10T16:40:52.750178",
     "exception": false,
     "start_time": "2024-08-10T16:40:52.736448",
     "status": "completed"
    },
    "tags": []
   },
   "outputs": [],
   "source": [
    "class ListNode:\n",
    "    def __init__(self, val=0, next=None):\n",
    "        self.val = val\n",
    "        self.next = next\n",
    "\n",
    "    def __str__(self):\n",
    "        return str(self.val)\n",
    "\n",
    "    @staticmethod\n",
    "    def to_singly_linked_list(nums: list[int]):\n",
    "        root = prev = None\n",
    "        for n in nums:\n",
    "            curr = ListNode(n)\n",
    "            # Init once\n",
    "            if not root:\n",
    "                root = curr\n",
    "            if prev:\n",
    "                prev.next = curr\n",
    "            prev = curr\n",
    "\n",
    "        return root\n",
    "\n",
    "    def to_list(self) -> list[int]:\n",
    "        result = []\n",
    "        curr = self\n",
    "        while curr:\n",
    "            result.append(curr.val)\n",
    "            curr = curr.next\n",
    "        return result"
   ]
  },
  {
   "cell_type": "markdown",
   "id": "1f801598",
   "metadata": {
    "papermill": {
     "duration": 0.007115,
     "end_time": "2024-08-10T16:40:52.764260",
     "exception": false,
     "start_time": "2024-08-10T16:40:52.757145",
     "status": "completed"
    },
    "tags": []
   },
   "source": [
    "Atcoder Beginner contest: 365"
   ]
  },
  {
   "cell_type": "code",
   "execution_count": 4,
   "id": "e1ccd5d8",
   "metadata": {
    "execution": {
     "iopub.execute_input": "2024-08-10T16:40:52.779501Z",
     "iopub.status.busy": "2024-08-10T16:40:52.778991Z",
     "iopub.status.idle": "2024-08-10T16:40:52.784097Z",
     "shell.execute_reply": "2024-08-10T16:40:52.783554Z"
    },
    "lines_to_next_cell": 1,
    "papermill": {
     "duration": 0.014005,
     "end_time": "2024-08-10T16:40:52.785209",
     "exception": false,
     "start_time": "2024-08-10T16:40:52.771204",
     "status": "completed"
    },
    "tags": []
   },
   "outputs": [],
   "source": [
    "def leap_year(year: int) -> int:\n",
    "    if year % 4 != 0:\n",
    "        return 365\n",
    "    elif year % 100 != 0:\n",
    "        return 366\n",
    "    elif year % 400 != 0:\n",
    "        return 365\n",
    "    else:\n",
    "        return 366\n",
    "\n",
    "# Testing the solution\n",
    "assert leap_year(2023) == 365\n",
    "assert leap_year(1992) == 366\n",
    "assert leap_year(1800) == 365\n",
    "assert leap_year(1600) == 366\n",
    "\n",
    "# %$\n",
    "def second_largest(N: int, nums: list[int]) -> int:\n",
    "    max_ = max(nums)\n",
    "    idx = 0 if nums[0] != max_ else 1\n",
    "    for i in range(N):\n",
    "        if nums[idx] < nums[i] < max_:\n",
    "            idx = i\n",
    "    return idx + 1\n",
    "\n",
    "# Testing the solution\n",
    "assert second_largest(5, [3,8,2,5,1]) == 4\n",
    "assert second_largest(4, [8,2,5,1]) == 3\n",
    "assert second_largest(2, [2,1]) == 2\n",
    "assert second_largest(8, [1,2,3,4,5,10,9,11]) == 6"
   ]
  },
  {
   "cell_type": "code",
   "execution_count": 5,
   "id": "b809205d",
   "metadata": {
    "execution": {
     "iopub.execute_input": "2024-08-10T16:40:52.800753Z",
     "iopub.status.busy": "2024-08-10T16:40:52.800306Z",
     "iopub.status.idle": "2024-08-10T16:40:52.804887Z",
     "shell.execute_reply": "2024-08-10T16:40:52.804331Z"
    },
    "lines_to_next_cell": 1,
    "papermill": {
     "duration": 0.013656,
     "end_time": "2024-08-10T16:40:52.806092",
     "exception": false,
     "start_time": "2024-08-10T16:40:52.792436",
     "status": "completed"
    },
    "tags": []
   },
   "outputs": [],
   "source": [
    "def transportation_expenses(N: int, M: int, costs: list[int]) -> int:\n",
    "    total_cost = sum(costs)\n",
    "    if total_cost <= M:\n",
    "        return -1\n",
    "    else:\n",
    "        low, high = 0, M\n",
    "        while low <= high:\n",
    "            mid = (low + high) // 2\n",
    "            total_cost = sum(map(lambda x: min(x, mid), costs))\n",
    "            if total_cost <= M:\n",
    "                low = mid + 1\n",
    "            else:\n",
    "                high = mid - 1\n",
    "\n",
    "        return high\n",
    "\n",
    "# Testing the solution\n",
    "assert transportation_expenses(4, 8, [1,3,2,4]) == 2\n",
    "assert transportation_expenses(3, 20, [5,3,2]) == -1\n",
    "assert transportation_expenses(10, 23, [2,5,6,5,2,1,7,9,7,2]) == 2"
   ]
  },
  {
   "cell_type": "code",
   "execution_count": 6,
   "id": "8c882d10",
   "metadata": {
    "execution": {
     "iopub.execute_input": "2024-08-10T16:40:52.821584Z",
     "iopub.status.busy": "2024-08-10T16:40:52.820974Z",
     "iopub.status.idle": "2024-08-10T16:40:52.826277Z",
     "shell.execute_reply": "2024-08-10T16:40:52.825811Z"
    },
    "lines_to_next_cell": 1,
    "papermill": {
     "duration": 0.01441,
     "end_time": "2024-08-10T16:40:52.827533",
     "exception": false,
     "start_time": "2024-08-10T16:40:52.813123",
     "status": "completed"
    },
    "tags": []
   },
   "outputs": [],
   "source": [
    "def RPS(N: int, moves: str) -> int:\n",
    "\n",
    "    win_mapping: dict[str, str] = {\"R\": \"P\", \"S\": \"R\", \"P\": \"S\"}\n",
    "    move_mapping: dict[int, str] = dict(enumerate(\"RPS\"))\n",
    "    move_mapping_rev: dict[str, int] = {j: i for i, j in move_mapping.items()}\n",
    "\n",
    "    dp: list[int] = [0 for j in range(3)]\n",
    "    for i in range(N - 1, -1, -1):\n",
    "        curr, win_move = moves[i], win_mapping[moves[i]]\n",
    "        next_dp: list[int] = [0 for i in range(3)]\n",
    "        for j in range(3):\n",
    "            prev = move_mapping[j]\n",
    "            if win_move != prev:\n",
    "                next_dp[j] = max(next_dp[j], 1 + dp[move_mapping_rev[win_move]])\n",
    "            if moves[i] != prev:\n",
    "                next_dp[j] = max(next_dp[j], dp[move_mapping_rev[curr]])\n",
    "        dp = next_dp\n",
    "\n",
    "    return max(dp)\n",
    "\n",
    "# Testing the solution\n",
    "assert RPS(24, \"SPRPSRRRRRPPRPRPSSRSPRSS\") == 18\n",
    "assert RPS(10, \"SSSSSSSSSS\") == 5\n",
    "assert RPS(5, \"SSPRS\") == 4\n",
    "assert RPS(6, \"PRSSRS\") == 5"
   ]
  },
  {
   "cell_type": "markdown",
   "id": "6249f8ac",
   "metadata": {
    "papermill": {
     "duration": 0.007231,
     "end_time": "2024-08-10T16:40:52.841840",
     "exception": false,
     "start_time": "2024-08-10T16:40:52.834609",
     "status": "completed"
    },
    "tags": []
   },
   "source": [
    "#### Leetcode Biweekly"
   ]
  },
  {
   "cell_type": "code",
   "execution_count": 7,
   "id": "214ef0c6",
   "metadata": {
    "execution": {
     "iopub.execute_input": "2024-08-10T16:40:52.856967Z",
     "iopub.status.busy": "2024-08-10T16:40:52.856698Z",
     "iopub.status.idle": "2024-08-10T16:40:52.861756Z",
     "shell.execute_reply": "2024-08-10T16:40:52.861188Z"
    },
    "lines_to_next_cell": 1,
    "papermill": {
     "duration": 0.014143,
     "end_time": "2024-08-10T16:40:52.862926",
     "exception": false,
     "start_time": "2024-08-10T16:40:52.848783",
     "status": "completed"
    },
    "tags": []
   },
   "outputs": [],
   "source": [
    "def minFlips(grid: list[list[int]]) -> int:\n",
    "    M, N = len(grid), len(grid[0])\n",
    "\n",
    "    # Count flips required horizontally\n",
    "    h_flips = 0\n",
    "    for i in range(M):\n",
    "        j, k, flips = 0, N - 1, 0\n",
    "        while j < k:\n",
    "            if grid[i][j] != grid[i][k]:\n",
    "                flips += 1\n",
    "            j, k = j + 1, k - 1\n",
    "        h_flips += flips\n",
    "\n",
    "    # Count flips required vertically\n",
    "    v_flips = 0\n",
    "    for i in range(N):\n",
    "        j, k, flips = 0, M - 1, 0\n",
    "        while j < k:\n",
    "            if grid[j][i] != grid[k][i]:\n",
    "                flips += 1\n",
    "            j, k = j + 1, k - 1\n",
    "        v_flips += flips\n",
    "\n",
    "    return min(h_flips, v_flips)\n",
    "\n",
    "# Testing the solution\n",
    "assert minFlips([[1,0,0],[0,0,0],[0,0,1]]) == 2\n",
    "assert minFlips([[0,1],[0,1],[0,0]]) == 1\n",
    "assert minFlips([[1],[0]]) == 0\n",
    "assert minFlips([[1]]) == 0"
   ]
  },
  {
   "cell_type": "markdown",
   "id": "b0ef9709",
   "metadata": {
    "papermill": {
     "duration": 0.00691,
     "end_time": "2024-08-10T16:40:52.877024",
     "exception": false,
     "start_time": "2024-08-10T16:40:52.870114",
     "status": "completed"
    },
    "tags": []
   },
   "source": [
    "#### Upsolving Min Flips 2"
   ]
  },
  {
   "cell_type": "code",
   "execution_count": 8,
   "id": "45a44096",
   "metadata": {
    "execution": {
     "iopub.execute_input": "2024-08-10T16:40:52.892208Z",
     "iopub.status.busy": "2024-08-10T16:40:52.891748Z",
     "iopub.status.idle": "2024-08-10T16:40:52.900032Z",
     "shell.execute_reply": "2024-08-10T16:40:52.899582Z"
    },
    "lines_to_next_cell": 1,
    "papermill": {
     "duration": 0.01713,
     "end_time": "2024-08-10T16:40:52.901167",
     "exception": false,
     "start_time": "2024-08-10T16:40:52.884037",
     "status": "completed"
    },
    "tags": []
   },
   "outputs": [],
   "source": [
    "def minFlipsII(grid: list[list[int]]) -> int:\n",
    "    # https://leetcode.com/problems/minimum-number-of-flips-to-make-binary-grid-palindromic-ii/solutions/5581114/counting-greedy-python3/\n",
    "    def symmetric_pairs(i: int, j: int) -> set[tuple[int, int]]:\n",
    "        return {(i, j), (i, N - j - 1), (M - i - 1, j), (M - i - 1, N - j - 1)}\n",
    "\n",
    "    # Compute dimensions\n",
    "    M, N = len(grid), len(grid[0])\n",
    "\n",
    "    # Calculate the number of flips\n",
    "    # 4 way symmetry - all 0s or all 1s\n",
    "    # 2 way symmetry - based on odd / even count of (1, 1), (0, 1) / (1, 0) we decide\n",
    "    # 1 cell symmetry - all 0s\n",
    "\n",
    "    flips, tws10, tws11 = 0, 0, 0\n",
    "    visited: set[tuple[int, int]] = set()\n",
    "    for i in range(M):\n",
    "        for j in range(N):\n",
    "            if (i, j) not in visited:\n",
    "                ones, pairs = 0, symmetric_pairs(i, j)\n",
    "                for x, y in pairs:\n",
    "                    if grid[x][y] == 1:\n",
    "                        ones += 1\n",
    "                    visited.add((x, y))\n",
    "\n",
    "                # Four cell symmetry\n",
    "                if len(pairs) == 4:\n",
    "                    flips += min(ones, len(pairs) - ones)\n",
    "\n",
    "                # Single cell symmetry\n",
    "                elif len(pairs) == 1:\n",
    "                    flips += ones\n",
    "\n",
    "                # Two cell symmetry\n",
    "                else:\n",
    "                    # Count 1, 1\n",
    "                    if ones == 2:\n",
    "                        tws11 += 1\n",
    "                    # Count 1, 0 / 0, 1\n",
    "                    elif ones == 1:\n",
    "                        tws10 += 1\n",
    "\n",
    "    # If even number of 1, 1 pairs\n",
    "    if tws11 % 2 == 0:\n",
    "        # Change all (0, 1), (1, 0) to (0, 0)\n",
    "        flips += tws10\n",
    "    else:\n",
    "        # If there is atleast a single (1, 0) pair change all (1, 0) that to (1, 1)\n",
    "        # Otherwise change a single (1, 1) to (0, 0)\n",
    "        flips += tws10 if tws10 else 2\n",
    "\n",
    "    return flips\n",
    "\n",
    "# Testing the solution\n",
    "assert minFlipsII([[1,0,0],[0,1,0],[0,0,1]]) == 3\n",
    "assert minFlipsII([[0,1],[0,1],[0,0]]) == 2\n",
    "assert minFlipsII([[1],[1]]) == 2\n",
    "assert minFlipsII([[1],[1],[1],[0]]) == 1\n",
    "assert minFlipsII([[1,1,0,0,1],[0,1,1,0,1],[0,0,1,1,1],[1,0,1,1,0],[1,0,1,1,0],[0,0,1,1,1],[0,1,1,0,1],[1,1,0,1,0]]) == 16"
   ]
  },
  {
   "cell_type": "markdown",
   "id": "2b19c2f3",
   "metadata": {
    "papermill": {
     "duration": 0.007032,
     "end_time": "2024-08-10T16:40:52.915466",
     "exception": false,
     "start_time": "2024-08-10T16:40:52.908434",
     "status": "completed"
    },
    "tags": []
   },
   "source": [
    "LC Weekly - 4th Aug 2024"
   ]
  },
  {
   "cell_type": "code",
   "execution_count": 9,
   "id": "e54fdc0e",
   "metadata": {
    "execution": {
     "iopub.execute_input": "2024-08-10T16:40:52.930591Z",
     "iopub.status.busy": "2024-08-10T16:40:52.930149Z",
     "iopub.status.idle": "2024-08-10T16:40:52.936393Z",
     "shell.execute_reply": "2024-08-10T16:40:52.935912Z"
    },
    "lines_to_next_cell": 1,
    "papermill": {
     "duration": 0.015244,
     "end_time": "2024-08-10T16:40:52.937639",
     "exception": false,
     "start_time": "2024-08-10T16:40:52.922395",
     "status": "completed"
    },
    "tags": []
   },
   "outputs": [],
   "source": [
    "class neighborSum:\n",
    "\n",
    "    def __init__(self, grid: List[List[int]]):\n",
    "        self.grid: list[list[int]] = grid\n",
    "        self.M, self.N = len(grid), len(grid[0])\n",
    "        self.positions: dict[int, tuple[int, int]] = {grid[i][j]: (i, j) for i in range(self.M) for j in range(self.N)}\n",
    "\n",
    "    def adjacentSum(self, value: int) -> int:\n",
    "        result = 0\n",
    "        i, j = self.positions[value]\n",
    "        for x, y in ((i - 1, j), (i + 1, j), (i, j - 1), (i, j + 1)):\n",
    "            if 0 <= x < self.M and 0 <= y < self.N:\n",
    "                result += self.grid[x][y]\n",
    "        return result\n",
    "\n",
    "    def diagonalSum(self, value: int) -> int:\n",
    "        result = 0\n",
    "        i, j = self.positions[value]\n",
    "        for x, y in ((i - 1, j - 1), (i + 1, j + 1), (i - 1, j + 1), (i + 1, j - 1)):\n",
    "            if 0 <= x < self.M and 0 <= y < self.N:\n",
    "                result += self.grid[x][y]\n",
    "        return result\n",
    "\n",
    "# Testing the solution\n",
    "ns = neighborSum([[0,1,2], [3,4,5], [6,7,8]])\n",
    "assert ns.adjacentSum(1) == 6\n",
    "assert ns.adjacentSum(4) == 16\n",
    "assert ns.diagonalSum(4) == 16\n",
    "assert ns.diagonalSum(8) == 4"
   ]
  },
  {
   "cell_type": "code",
   "execution_count": 10,
   "id": "fd7c00f5",
   "metadata": {
    "execution": {
     "iopub.execute_input": "2024-08-10T16:40:52.953185Z",
     "iopub.status.busy": "2024-08-10T16:40:52.952766Z",
     "iopub.status.idle": "2024-08-10T16:40:52.958046Z",
     "shell.execute_reply": "2024-08-10T16:40:52.957519Z"
    },
    "lines_to_next_cell": 1,
    "papermill": {
     "duration": 0.014483,
     "end_time": "2024-08-10T16:40:52.959244",
     "exception": false,
     "start_time": "2024-08-10T16:40:52.944761",
     "status": "completed"
    },
    "tags": []
   },
   "outputs": [],
   "source": [
    "def shortestDistanceAfterQueries(N: int, queries: list[list[int]]) -> list[int]:\n",
    "    def shortest_path() -> int:\n",
    "        queue: collections.deque[tuple[int, int]] = collections.deque([(0, 0)])\n",
    "        while queue:\n",
    "            curr, dist = queue.popleft()\n",
    "            for next_node in adjl[curr]:\n",
    "                if next_node == N - 1:\n",
    "                    return dist + 1\n",
    "                else:\n",
    "                    queue.append((next_node, dist + 1))\n",
    "\n",
    "        return -1\n",
    "\n",
    "    adjl: collections.defaultdict[int, list[int]] = collections.defaultdict(list)\n",
    "    for i in range(N):\n",
    "        adjl[i].append(i + 1)\n",
    "\n",
    "    result: list[int] = []\n",
    "    for n1, n2 in queries:\n",
    "        adjl[n1].append(n2)\n",
    "        result.append(shortest_path())\n",
    "\n",
    "    return result\n",
    "\n",
    "# Testing the solution\n",
    "assert shortestDistanceAfterQueries(5, [[2,4],[0,2],[0,4]]) == [3,2,1]\n",
    "assert shortestDistanceAfterQueries(4, [[0,3],[0,2]]) == [1,1]"
   ]
  },
  {
   "cell_type": "markdown",
   "id": "ef8544a1",
   "metadata": {
    "papermill": {
     "duration": 0.006919,
     "end_time": "2024-08-10T16:40:52.973407",
     "exception": false,
     "start_time": "2024-08-10T16:40:52.966488",
     "status": "completed"
    },
    "tags": []
   },
   "source": [
    "#### Matrix factorization GYM Practice: https://codeforces.com/gym/102644"
   ]
  },
  {
   "cell_type": "code",
   "execution_count": 11,
   "id": "f806393a",
   "metadata": {
    "execution": {
     "iopub.execute_input": "2024-08-10T16:40:52.988693Z",
     "iopub.status.busy": "2024-08-10T16:40:52.988100Z",
     "iopub.status.idle": "2024-08-10T16:40:52.994375Z",
     "shell.execute_reply": "2024-08-10T16:40:52.993924Z"
    },
    "lines_to_next_cell": 1,
    "papermill": {
     "duration": 0.015202,
     "end_time": "2024-08-10T16:40:52.995527",
     "exception": false,
     "start_time": "2024-08-10T16:40:52.980325",
     "status": "completed"
    },
    "tags": []
   },
   "outputs": [],
   "source": [
    "def count_paths_brute(N: int, E: int, K: int, edges: list[tuple[int, int]]) -> int:\n",
    "    # Convert edges into adjl\n",
    "    adjl: collections.defaultdict[int, list[int]] = collections.defaultdict(list)\n",
    "    for n1, n2 in edges:\n",
    "        adjl[n2].append(n1)\n",
    "\n",
    "    # Do a 'cached' DFS\n",
    "    MOD = 10 ** 9 + 7\n",
    "\n",
    "    # Do a DFS traversal and cache the results\n",
    "    dp: dict[tuple[int, int], int] = {(0, K + 1): 0}\n",
    "    stack: list[tuple[int, int, int]] = [(i, 0, K) for i in range(1, N + 1)]\n",
    "    while stack:\n",
    "        curr, prev, k = stack[-1]\n",
    "        if (curr, k) in dp or k == 0:\n",
    "            if k == 0:\n",
    "                dp[(curr, k)] = 1\n",
    "            dp[(prev, k + 1)] = (dp[(prev, k + 1)] + dp[(curr, k)]) % MOD\n",
    "            stack.pop()\n",
    "        else:\n",
    "            dp[(curr, k)] = 0\n",
    "            for next_node in adjl[curr]:\n",
    "                stack.append((next_node, curr, k - 1))\n",
    "\n",
    "    return dp[(0, K + 1)]\n",
    "\n",
    "# Testing the solution\n",
    "assert count_paths_brute(3, 4, 2, [(1,2), (2,3), (3,1), (2,1)]) == 5\n",
    "assert count_paths_brute(5, 10, 11, [(2,3), (4,2), (2,1), (2,4), (1,5), (5,2), (3,2), (3,1), (3,4), (1,2)]) == 21305"
   ]
  },
  {
   "cell_type": "code",
   "execution_count": 12,
   "id": "a8db5c84",
   "metadata": {
    "execution": {
     "iopub.execute_input": "2024-08-10T16:40:53.010749Z",
     "iopub.status.busy": "2024-08-10T16:40:53.010243Z",
     "iopub.status.idle": "2024-08-10T16:40:53.018048Z",
     "shell.execute_reply": "2024-08-10T16:40:53.017464Z"
    },
    "lines_to_next_cell": 1,
    "papermill": {
     "duration": 0.016681,
     "end_time": "2024-08-10T16:40:53.019303",
     "exception": false,
     "start_time": "2024-08-10T16:40:53.002622",
     "status": "completed"
    },
    "tags": []
   },
   "outputs": [],
   "source": [
    "def count_paths(n_vertices: int, n_edges: int, K: int, edges: list[tuple[int, int]]) -> int:\n",
    "    \"\"\"\n",
    "    Adj matrix raised to power K\n",
    "\n",
    "    Each cell (i, j) denotes how many paths exist from node i + 1 to j + 1.\n",
    "    Total paths would be the sum of all cells\n",
    "    \"\"\"\n",
    "\n",
    "    def matrix_multiply(A: list[list[int]], B: list[list[int]]) -> list[list[int]]:\n",
    "        M, N, P, Q = len(A), len(A[0]), len(B), len(B[0])\n",
    "        assert N == P, \"invalid matrix dimensions\"\n",
    "        result: list[list[int]] = [[0 for j in range(M)] for i in range(Q)]\n",
    "        for i in range(M):\n",
    "            for j in range(Q):\n",
    "                for k in range(N):\n",
    "                    result[i][j] = (result[i][j] + A[i][k] * B[k][j]) % MOD\n",
    "\n",
    "        return result\n",
    "\n",
    "    def matrix_power(base: list[list[int]], exp: int) -> list[list[int]]:\n",
    "        N = len(base)\n",
    "        result: list[list[int]] = [[1 if i == j else 0 for j in range(N)] for i in range(N)]\n",
    "        while exp:\n",
    "            if exp & 1:\n",
    "                result = matrix_multiply(result, base)\n",
    "            base = matrix_multiply(base, base)\n",
    "            exp >>= 1\n",
    "\n",
    "        return result\n",
    "\n",
    "    # Return path count % MOD\n",
    "    MOD = 10 ** 9 + 7\n",
    "    adjm: list[list[int]] = [[0 for j in range(n_vertices)] for i in range(n_vertices)]\n",
    "    for n1, n2 in edges:\n",
    "        adjm[n1 - 1][n2 - 1] = 1\n",
    "\n",
    "    # Raise Adjm to the power of K using matrix factorization\n",
    "    result = matrix_power(adjm, K)\n",
    "    return sum(sum(row) for row in result) % MOD\n",
    "\n",
    "# Testing the solution\n",
    "assert count_paths(3, 4, 2, [(1,2), (2,3), (3,1), (2,1)]) == 5\n",
    "assert count_paths(5, 10, 11, [(2,3), (4,2), (2,1), (2,4), (1,5), (5,2), (3,2), (3,1), (3,4), (1,2)]) == 21305"
   ]
  },
  {
   "cell_type": "code",
   "execution_count": 13,
   "id": "26d5ee66",
   "metadata": {
    "execution": {
     "iopub.execute_input": "2024-08-10T16:40:53.035361Z",
     "iopub.status.busy": "2024-08-10T16:40:53.034881Z",
     "iopub.status.idle": "2024-08-10T16:40:53.354952Z",
     "shell.execute_reply": "2024-08-10T16:40:53.354352Z"
    },
    "lines_to_next_cell": 1,
    "papermill": {
     "duration": 0.329767,
     "end_time": "2024-08-10T16:40:53.356483",
     "exception": false,
     "start_time": "2024-08-10T16:40:53.026716",
     "status": "completed"
    },
    "tags": []
   },
   "outputs": [],
   "source": [
    "def knight_paths(K: int) -> int:\n",
    "\n",
    "    ij2n: typing.Callable[[int, int], int] = lambda x, y: 8 * x + y\n",
    "    n2ij: typing.Callable[[int], tuple[int, int]] = lambda n: (n // 8, n % 8)\n",
    "\n",
    "    def matrix_multiply(A: list[list[int]], B: list[list[int]], mod: int) -> list[list[int]]:\n",
    "        M, N, P, Q = len(A), len(A[0]), len(B), len(B[0])\n",
    "        assert N == P, \"invalid dimensions\"\n",
    "        result: list[list[int]] = [[0 for j in range(Q)] for i in range(M)]\n",
    "        for i in range(M):\n",
    "            for j in range(Q):\n",
    "                for k in range(N):\n",
    "                    result[i][j] = (result[i][j] + A[i][k] * B[k][j]) % mod\n",
    "\n",
    "        return result\n",
    "\n",
    "    def matrix_power(base: list[list[int]], power: int, mod: int) -> list[list[int]]:\n",
    "        N = len(base)\n",
    "        result: list[list[int]] = [[1 if i == j else 0 for j in range(N)] for i in range(N)]\n",
    "        while power:\n",
    "            if power & 1:\n",
    "                result = matrix_multiply(result, base, mod)\n",
    "            base = matrix_multiply(base, base, mod)\n",
    "            power //= 2\n",
    "\n",
    "        return result\n",
    "\n",
    "    def mark_paths(n: int) -> list[int]:\n",
    "        x1, y1 = n2ij(n)\n",
    "        result: list[int] = []\n",
    "        for x_delta in (-2, -1, 1, 2):\n",
    "            for y_delta in (-2, -1, 1, 2):\n",
    "                x2, y2 = x1 + x_delta, y1 + y_delta\n",
    "                if 0 <= x2 < 8 and 0 <= y2 < 8 and abs(x_delta) != abs(y_delta):\n",
    "                    result.append(ij2n(x2, y2))\n",
    "\n",
    "        return result\n",
    "\n",
    "    @functools.cache\n",
    "    def generate_base() -> list[list[int]]:\n",
    "        # Count of paths the knight can make starting at given point\n",
    "        base: list[list[int]] = [[0 for j in range(65)] for i in range(65)]\n",
    "        for i in range(64):\n",
    "            for j in mark_paths(i):\n",
    "                base[i][j] = 1\n",
    "\n",
    "        # We store the cells from 0 - 63, 64 stores the answer\n",
    "        for i in range(65):\n",
    "            base[i][64] = 1\n",
    "\n",
    "        return base\n",
    "\n",
    "    base = generate_base()\n",
    "    result = matrix_power(base, K + 1, 4294967296)\n",
    "    return result[0][64]\n",
    "\n",
    "# Testing the solution\n",
    "assert knight_paths(1) == 3\n",
    "assert knight_paths(2) == 15\n",
    "assert knight_paths(6) == 17231"
   ]
  },
  {
   "cell_type": "markdown",
   "id": "f3b88c65",
   "metadata": {
    "papermill": {
     "duration": 0.00699,
     "end_time": "2024-08-10T16:40:53.370852",
     "exception": false,
     "start_time": "2024-08-10T16:40:53.363862",
     "status": "completed"
    },
    "tags": []
   },
   "source": [
    "#### Codeforces Div 2 - 4th July 2024"
   ]
  },
  {
   "cell_type": "code",
   "execution_count": 14,
   "id": "c7bba6a6",
   "metadata": {
    "execution": {
     "iopub.execute_input": "2024-08-10T16:40:53.386274Z",
     "iopub.status.busy": "2024-08-10T16:40:53.385754Z",
     "iopub.status.idle": "2024-08-10T16:40:53.390348Z",
     "shell.execute_reply": "2024-08-10T16:40:53.389858Z"
    },
    "lines_to_next_cell": 1,
    "papermill": {
     "duration": 0.013434,
     "end_time": "2024-08-10T16:40:53.391471",
     "exception": false,
     "start_time": "2024-08-10T16:40:53.378037",
     "status": "completed"
    },
    "tags": []
   },
   "outputs": [],
   "source": [
    "def question_marks(N: int, answers: str) -> int:\n",
    "    marks = 0\n",
    "    correct: dict[str, int] = {ch: N for ch in \"ABCD\"}\n",
    "    for answer in answers:\n",
    "        if answer in correct:\n",
    "            marks += 1\n",
    "            correct[answer] -= 1\n",
    "            if correct[answer] == 0:\n",
    "                correct.pop(answer)\n",
    "\n",
    "    return marks\n",
    "\n",
    "# Testing the solution\n",
    "assert question_marks(1, \"ABCD\") == 4\n",
    "assert question_marks(2, \"AAAAAAAA\") == 2\n",
    "assert question_marks(2, \"AAAABBBB\") == 4\n",
    "assert question_marks(2, \"????????\") == 0\n",
    "assert question_marks(3, \"ABCABCABCABC\") == 9\n",
    "assert question_marks(5, \"ACADC??ACAC?DCAABC?C\") == 13"
   ]
  },
  {
   "cell_type": "code",
   "execution_count": 15,
   "id": "54e56c2f",
   "metadata": {
    "execution": {
     "iopub.execute_input": "2024-08-10T16:40:53.406758Z",
     "iopub.status.busy": "2024-08-10T16:40:53.406199Z",
     "iopub.status.idle": "2024-08-10T16:40:53.411701Z",
     "shell.execute_reply": "2024-08-10T16:40:53.411155Z"
    },
    "lines_to_next_cell": 1,
    "papermill": {
     "duration": 0.014396,
     "end_time": "2024-08-10T16:40:53.412879",
     "exception": false,
     "start_time": "2024-08-10T16:40:53.398483",
     "status": "completed"
    },
    "tags": []
   },
   "outputs": [],
   "source": [
    "def parity_and_sum(N: int, nums: list[int]) -> int:\n",
    "    # Split into odd / even\n",
    "    odd: list[int] = []\n",
    "    even: list[int] = []\n",
    "    for n in nums:\n",
    "        if n % 2 == 0:\n",
    "            even.append(n)\n",
    "        else:\n",
    "            odd.append(n)\n",
    "\n",
    "    # Sort odd and even\n",
    "    odd.sort(reverse=False)\n",
    "    even.sort(reverse=True)\n",
    "\n",
    "    # Check the smallest in odd and largest in even\n",
    "    moves = 0\n",
    "    while odd and even:\n",
    "        moves += 1\n",
    "        if even[-1] < odd[-1]:\n",
    "            odd.append(even.pop() + odd[-1])\n",
    "        else:\n",
    "            odd[-1] += even[0]\n",
    "\n",
    "    return moves\n",
    "\n",
    "# Testing the solution\n",
    "assert parity_and_sum(4, [1,4,10,12]) == 4\n",
    "assert parity_and_sum(5, [1,3,5,7,9]) == 0\n",
    "assert parity_and_sum(4, [4,4,4,4]) == 0\n",
    "assert parity_and_sum(3, [2,3,4]) == 2\n",
    "assert parity_and_sum(4, [3,2,2,8]) == 4\n",
    "assert parity_and_sum(6, [4,3,6,1,2,1]) == 3"
   ]
  },
  {
   "cell_type": "code",
   "execution_count": 16,
   "id": "2ce915ba",
   "metadata": {
    "execution": {
     "iopub.execute_input": "2024-08-10T16:40:53.428080Z",
     "iopub.status.busy": "2024-08-10T16:40:53.427658Z",
     "iopub.status.idle": "2024-08-10T16:40:53.433357Z",
     "shell.execute_reply": "2024-08-10T16:40:53.432912Z"
    },
    "lines_to_next_cell": 1,
    "papermill": {
     "duration": 0.014545,
     "end_time": "2024-08-10T16:40:53.434525",
     "exception": false,
     "start_time": "2024-08-10T16:40:53.419980",
     "status": "completed"
    },
    "tags": []
   },
   "outputs": [],
   "source": [
    "def light_switches(N: int, K: int, install_time: list[int]) -> int:\n",
    "    start, end = install_time[0], install_time[0] + K - 1\n",
    "    for time in install_time[1:]:\n",
    "        curr_start, curr_end = time, time + K - 1\n",
    "\n",
    "        # Always ensure that start, end is the greater\n",
    "        if start < curr_start:\n",
    "            start, end, curr_start, curr_end = curr_start, curr_end, start, end\n",
    "\n",
    "        # If they don't overlap, try to increase them to the nearest range\n",
    "        if curr_end < start:\n",
    "            factor = math.ceil((start - curr_end) / (2 * K))\n",
    "            curr_start, curr_end = curr_start + (factor * 2 * K), curr_end + (factor * 2 * K)\n",
    "\n",
    "        # Check if overlap\n",
    "        start, end = max(start, curr_start), min(end, curr_end)\n",
    "\n",
    "        if end < start:\n",
    "            return -1\n",
    "\n",
    "    return start\n",
    "\n",
    "# Testing the solution\n",
    "assert light_switches(3, 3, [6,2,1]) == 8\n",
    "assert light_switches(7, 5, [14,34,6,25,46,7,17]) == 47\n",
    "assert light_switches(4, 3, [2,3,4,5]) == -1\n",
    "assert light_switches(4, 4, [2,3,4,5]) == 5\n",
    "assert light_switches(4, 3, [3,4,8,9]) == 10\n",
    "assert light_switches(1, 1, [1]) == 1\n",
    "assert light_switches(6, 5, [40,80,99,60,90,50]) == 100\n",
    "assert light_switches(6, 5, [64,40,50,68,70,10]) == -1"
   ]
  },
  {
   "cell_type": "markdown",
   "id": "e2ae8f80",
   "metadata": {
    "papermill": {
     "duration": 0.007243,
     "end_time": "2024-08-10T16:40:53.448849",
     "exception": false,
     "start_time": "2024-08-10T16:40:53.441606",
     "status": "completed"
    },
    "tags": []
   },
   "source": [
    "Upsolving CF Div - 2"
   ]
  },
  {
   "cell_type": "code",
   "execution_count": 17,
   "id": "8ffc5df0",
   "metadata": {
    "execution": {
     "iopub.execute_input": "2024-08-10T16:40:53.463967Z",
     "iopub.status.busy": "2024-08-10T16:40:53.463475Z",
     "iopub.status.idle": "2024-08-10T16:40:53.470861Z",
     "shell.execute_reply": "2024-08-10T16:40:53.470410Z"
    },
    "lines_to_next_cell": 1,
    "papermill": {
     "duration": 0.016303,
     "end_time": "2024-08-10T16:40:53.472072",
     "exception": false,
     "start_time": "2024-08-10T16:40:53.455769",
     "status": "completed"
    },
    "tags": []
   },
   "outputs": [],
   "source": [
    "def medimize(N: int, K: int, nums: list[int]) -> int:\n",
    "    \"\"\"\n",
    "    Use binary search to find the maximum median - straight forward\n",
    "    Use DP to check if a given median can be formed or not - Convert nums into binary nums of 1 or -1\n",
    "\n",
    "    After removing K elements, we would be left with `K if N % K == 0 else N % K elements'\n",
    "    The recursive solution would be a pick / nopick, if no pick we skip k elements\n",
    "\n",
    "    Final array would contain elements:\n",
    "\n",
    "    ai0, ai1, ai2, ... aim\n",
    "    i0 = 0 mod k\n",
    "    i1 = 1 mod k\n",
    "    ..\n",
    "    im = (m - 1) mod k\n",
    "\n",
    "    Since we have 'B' with either -1 or 1, if the sum(b) > 0 then true else false\n",
    "\n",
    "    In check function, why > 0?\n",
    "    We are not checking if the median itself is possible, we are simply checking if a value greater\n",
    "    than or equal to median is possible to be the answer\n",
    "\n",
    "    For instance: [5,1,6,9,4,8,3,2] | K = 4; here 3 itself is not possible to be the median but check(3) is still true\n",
    "    We are checking if a value greater than or equal to 3 can be the answer.\n",
    "\n",
    "    \"\"\"\n",
    "    def check_brute(median: int, B: list[int]) -> bool:\n",
    "        @functools.cache\n",
    "        def backtrack(curr: int, R: int) -> float:\n",
    "            if R == 0:\n",
    "                return 0\n",
    "            elif curr >= N:\n",
    "                return -math.inf\n",
    "            else:\n",
    "                return max(B[curr] + backtrack(curr + 1, R - 1), backtrack(curr + K, R))\n",
    "\n",
    "        remaining = K if N % K == 0 else N % K\n",
    "        return backtrack(0, remaining) > 0\n",
    "\n",
    "    def check(median: int, B: list[int]) -> bool:\n",
    "        dp: list[int] = [0 for i in range(len(B))]\n",
    "        dp[0] = B[0]\n",
    "        for i in range(1, len(B)):\n",
    "            if i % K == 0:\n",
    "                dp[i] = max(dp[i - K], B[i])\n",
    "            else:\n",
    "                dp[i] = dp[i - 1] + B[i]\n",
    "                if i > K:\n",
    "                    dp[i] = max(dp[i], dp[i - K])\n",
    "\n",
    "        return dp[-1] > 0\n",
    "\n",
    "    low, high = min(nums), max(nums)\n",
    "    while low <= high:\n",
    "        mid = (low + high) // 2\n",
    "        if check(mid, [-1 if n < mid else 1 for n in nums]):\n",
    "            low = mid + 1\n",
    "        else:\n",
    "            high = mid - 1\n",
    "\n",
    "    return high\n",
    "\n",
    "# Testing the solution\n",
    "assert medimize(8, 2, [7,1,2,6,8,3,4,5]) == 6\n",
    "assert medimize(4, 5, [3,4,5,6]) == 4\n",
    "assert medimize(7, 1, [5,9,2,6,5,4,6]) == 9\n",
    "assert medimize(5, 3, [3,2,5,6,4]) == 4\n",
    "assert medimize(4, 3, [3,9,9,2]) == 3"
   ]
  },
  {
   "cell_type": "code",
   "execution_count": 18,
   "id": "382ad84d",
   "metadata": {
    "execution": {
     "iopub.execute_input": "2024-08-10T16:40:53.487445Z",
     "iopub.status.busy": "2024-08-10T16:40:53.486957Z",
     "iopub.status.idle": "2024-08-10T16:40:53.492800Z",
     "shell.execute_reply": "2024-08-10T16:40:53.492260Z"
    },
    "lines_to_next_cell": 1,
    "papermill": {
     "duration": 0.014777,
     "end_time": "2024-08-10T16:40:53.494026",
     "exception": false,
     "start_time": "2024-08-10T16:40:53.479249",
     "status": "completed"
    },
    "tags": []
   },
   "outputs": [],
   "source": [
    "def scripted_robot(N: int, K: int, W: int, H: int, script: str) -> int:\n",
    "    \"\"\"\n",
    "    Iterate once through the script and store the valid positions that we end up at after executing each script.\n",
    "\n",
    "    To make things easier, we can observe that if we left the robot to move undetered, it would basically be the same as\n",
    "    the robot following the rules after |2 * H| or |2 * W| steps along the y axis and x axis respectively.\n",
    "\n",
    "    Next assume after executing the script we end up at some position that is dx, dy from origin.\n",
    "    Inorder to hit (0, 0) we need -dx, -dy so we count number of times we had hit (-dx, -dy) when we first executed the script.\n",
    "\n",
    "    For next iteration we would need to check for -2dx, -2dx.. -3dx, -3dy and so on until K\n",
    "\n",
    "    Note that in other languages x % mod would return a negative number if x is negative, so in tutorials we would see (x + mod) % mod\n",
    "    In python x % mod would be negative only when mod itself is negative\n",
    "    \"\"\"\n",
    "\n",
    "    delta_mapping: dict[str, tuple[int, int]] = {\"L\": (0, -1), \"R\": (0, 1), \"U\": (1, 0), \"D\": (-1, 0)}\n",
    "    counts: collections.defaultdict[tuple[int, int], int] = collections.defaultdict(int)\n",
    "    mod_x, mod_y = 2 * W, 2 * H\n",
    "\n",
    "    # Compute positions where the robot would end up inside the box\n",
    "    x, y = 0, 0\n",
    "    for command in script:\n",
    "        # Compute the position post command, undetered by boundaries\n",
    "        delta = delta_mapping[command]\n",
    "        x, y = x + delta[1], y + delta[0]\n",
    "\n",
    "        # Making use of the `mirrored` property\n",
    "        x, y = x % mod_x, y % mod_y\n",
    "        counts[(x, y)] += 1\n",
    "\n",
    "    # For each k in 0..k-1, compute the number of times -i * dx, -i * dy could be found\n",
    "    # Why check for -dx, -dy? Because dx + (-dx), dy + (-dy) would give us (0, 0)\n",
    "    # which is what we are tracking\n",
    "    dx, dy = x, y\n",
    "    result = 0\n",
    "    for i in range(K):\n",
    "        x = (-i * dx) % mod_x\n",
    "        y = (-i * dy) % mod_y\n",
    "        result += counts[(x, y)]\n",
    "\n",
    "    return result\n",
    "\n",
    "# Testing the solution\n",
    "assert scripted_robot(2, 2, 2, 2, \"UR\") == 0\n",
    "assert scripted_robot(4, 2, 1, 1, \"LLDD\") == 4\n",
    "assert scripted_robot(6, 3, 3, 1, \"RLRRRL\") == 3\n",
    "assert scripted_robot(5, 5, 3, 3, \"RUURD\") == 0\n",
    "assert scripted_robot(7, 5, 3, 4, \"RRDLUUU\") == 1"
   ]
  },
  {
   "cell_type": "markdown",
   "id": "4910b398",
   "metadata": {
    "papermill": {
     "duration": 0.006928,
     "end_time": "2024-08-10T16:40:53.508145",
     "exception": false,
     "start_time": "2024-08-10T16:40:53.501217",
     "status": "completed"
    },
    "tags": []
   },
   "source": [
    "LC Weekly upsolving - Shortest dist after road additions - II"
   ]
  },
  {
   "cell_type": "code",
   "execution_count": 19,
   "id": "10e62cfa",
   "metadata": {
    "execution": {
     "iopub.execute_input": "2024-08-10T16:40:53.523686Z",
     "iopub.status.busy": "2024-08-10T16:40:53.523158Z",
     "iopub.status.idle": "2024-08-10T16:40:53.527880Z",
     "shell.execute_reply": "2024-08-10T16:40:53.527385Z"
    },
    "lines_to_next_cell": 1,
    "papermill": {
     "duration": 0.013897,
     "end_time": "2024-08-10T16:40:53.529098",
     "exception": false,
     "start_time": "2024-08-10T16:40:53.515201",
     "status": "completed"
    },
    "tags": []
   },
   "outputs": [],
   "source": [
    "def shortestDistanceAfterQueriesII(N: int, queries: list[list[int]]) -> list[int]:\n",
    "    \"\"\"\n",
    "    Imagine the roads as a linked list, the idea for each query is to\n",
    "    remove all edges between (i, j) (non inclusive)\n",
    "    \"\"\"\n",
    "    connections: dict[int, int] = {i: i + 1 for i in range(N - 1)}\n",
    "    result: list[int] = []\n",
    "    for n1, n2 in queries:\n",
    "\n",
    "        # Ensure n1 is not deleted by a previous query\n",
    "        # And ensure that the current query is not lesser\n",
    "        # than a previously encountered query\n",
    "        # For eg: we encountered (2, 5) already, (2, 3) is not useful\n",
    "        if n1 in connections and connections[n1] < n2:\n",
    "            curr = connections[n1]\n",
    "            while curr < n2:\n",
    "                curr = connections.pop(curr)\n",
    "            connections[n1] = n2\n",
    "\n",
    "        result.append(len(connections))\n",
    "\n",
    "    return result\n",
    "\n",
    "# Testing the solution\n",
    "assert shortestDistanceAfterQueriesII(5, [[2,4],[0,2],[0,4]]) == [3,2,1]\n",
    "assert shortestDistanceAfterQueriesII(4, [[0,3],[0,2]]) == [1,1]"
   ]
  },
  {
   "cell_type": "markdown",
   "id": "5e7850b0",
   "metadata": {
    "papermill": {
     "duration": 0.006912,
     "end_time": "2024-08-10T16:40:53.543176",
     "exception": false,
     "start_time": "2024-08-10T16:40:53.536264",
     "status": "completed"
    },
    "tags": []
   },
   "source": [
    "LC Daily Problem"
   ]
  },
  {
   "cell_type": "code",
   "execution_count": 20,
   "id": "a6325537",
   "metadata": {
    "execution": {
     "iopub.execute_input": "2024-08-10T16:40:53.559181Z",
     "iopub.status.busy": "2024-08-10T16:40:53.558631Z",
     "iopub.status.idle": "2024-08-10T16:40:53.562996Z",
     "shell.execute_reply": "2024-08-10T16:40:53.562531Z"
    },
    "lines_to_next_cell": 1,
    "papermill": {
     "duration": 0.013865,
     "end_time": "2024-08-10T16:40:53.564101",
     "exception": false,
     "start_time": "2024-08-10T16:40:53.550236",
     "status": "completed"
    },
    "tags": []
   },
   "outputs": [],
   "source": [
    "def kthDistinct(arr: list[str], k: int) -> str:\n",
    "    \"\"\"\n",
    "    Python has its useful quirks too.\n",
    "    In dictionary the insertion order is preserved.\n",
    "\n",
    "    For arr containing a lot of duplicates, we can quickly skip them since\n",
    "    we would only encounter them once in the freq\n",
    "    \"\"\"\n",
    "    freq: collections.Counter[str] = collections.Counter(arr)\n",
    "    for string in freq:\n",
    "        if freq[string] == 1:\n",
    "            k -= 1\n",
    "        if k == 0:\n",
    "            return string\n",
    "\n",
    "    return \"\"\n",
    "\n",
    "# Testing the solution\n",
    "assert kthDistinct([\"d\",\"b\",\"c\",\"b\",\"c\",\"a\"], k = 2) == \"a\"\n",
    "assert kthDistinct([\"aaa\",\"aa\",\"a\"], k = 1) == \"aaa\"\n",
    "assert kthDistinct([\"a\",\"b\",\"a\"], k = 3) == \"\""
   ]
  },
  {
   "cell_type": "markdown",
   "id": "48746f93",
   "metadata": {
    "papermill": {
     "duration": 0.006922,
     "end_time": "2024-08-10T16:40:53.578028",
     "exception": false,
     "start_time": "2024-08-10T16:40:53.571106",
     "status": "completed"
    },
    "tags": []
   },
   "source": [
    "Striver's CP Sheet"
   ]
  },
  {
   "cell_type": "code",
   "execution_count": 21,
   "id": "a8154c4b",
   "metadata": {
    "execution": {
     "iopub.execute_input": "2024-08-10T16:40:53.593046Z",
     "iopub.status.busy": "2024-08-10T16:40:53.592490Z",
     "iopub.status.idle": "2024-08-10T16:40:53.597921Z",
     "shell.execute_reply": "2024-08-10T16:40:53.597453Z"
    },
    "lines_to_next_cell": 1,
    "papermill": {
     "duration": 0.014211,
     "end_time": "2024-08-10T16:40:53.599052",
     "exception": false,
     "start_time": "2024-08-10T16:40:53.584841",
     "status": "completed"
    },
    "tags": []
   },
   "outputs": [],
   "source": [
    "def wet_shark_and_blocks_brute(N: int, B: int, K: int, X: int, nums: list[int]) -> int:\n",
    "    # Return ans mod\n",
    "    MOD = 10 ** 9 + 7\n",
    "\n",
    "    # Convert block of nums into freq\n",
    "    freq: list[int] = [0 for i in range(10)]\n",
    "    for n in nums:\n",
    "        freq[n] += 1\n",
    "\n",
    "    # return backtrack(0, 0)\n",
    "    dp: list[int] = [0 if i != K else 1 for i in range(X)]\n",
    "    for blocks in range(B):\n",
    "        next_dp: list[int] = [0 for i in range(X)]\n",
    "        for total in range(X):\n",
    "            for next_ in range(1, 10):\n",
    "                next_dp[total] = (next_dp[total] + freq[next_] * dp[(total * 10 + next_) % X]) % MOD\n",
    "        dp = next_dp\n",
    "\n",
    "    return dp[K]\n",
    "\n",
    "# Testing the solution\n",
    "assert wet_shark_and_blocks_brute(12, 1, 5, 10, [3,5,6,7,8,9,5,1,1,1,1,5]) == 3\n",
    "assert wet_shark_and_blocks_brute(3, 2, 1, 2, [6,2,2]) == 0\n",
    "assert wet_shark_and_blocks_brute(3, 2, 1, 2, [3,1,2]) == 6"
   ]
  },
  {
   "cell_type": "code",
   "execution_count": 22,
   "id": "312b4d88",
   "metadata": {
    "execution": {
     "iopub.execute_input": "2024-08-10T16:40:53.614127Z",
     "iopub.status.busy": "2024-08-10T16:40:53.613798Z",
     "iopub.status.idle": "2024-08-10T16:40:53.621823Z",
     "shell.execute_reply": "2024-08-10T16:40:53.621240Z"
    },
    "lines_to_next_cell": 1,
    "papermill": {
     "duration": 0.016967,
     "end_time": "2024-08-10T16:40:53.623026",
     "exception": false,
     "start_time": "2024-08-10T16:40:53.606059",
     "status": "completed"
    },
    "tags": []
   },
   "outputs": [],
   "source": [
    "def wet_shark_and_blocks(N: int, B: int, K: int, X: int, nums: list[int]) -> int:\n",
    "    def matrix_multiply(A: list[list[int]], B: list[list[int]], mod: int) -> list[list[int]]:\n",
    "        M, N, P, Q = len(A), len(A[0]), len(B), len(B[0])\n",
    "        assert N == P, \"Invalid dimensions provided.\"\n",
    "        result: list[list[int]] = [[0 for j in range(Q)] for i in range(M)]\n",
    "        for i in range(M):\n",
    "            for j in range(Q):\n",
    "                for k in range(N):\n",
    "                    result[i][j] = (result[i][j] + A[i][k] * B[k][j]) % mod\n",
    "        return result\n",
    "\n",
    "    def matrix_power(base: list[list[int]], exp: int, mod: int) -> list[list[int]]:\n",
    "        N = len(base)\n",
    "        result: list[list[int]] = [[1 if i == j else 0 for j in range(N)] for i in range(N)]\n",
    "        while exp:\n",
    "            if exp & 1:\n",
    "                result = matrix_multiply(result, base, mod)\n",
    "            base = matrix_multiply(base, base, mod)\n",
    "            exp >>= 1\n",
    "        return result\n",
    "\n",
    "    # Answer can be very large\n",
    "    MOD = 10 ** 9 + 7\n",
    "\n",
    "    # Create a freq array\n",
    "    freq: list[int] = [0 for i in range(10)]\n",
    "    for n in nums:\n",
    "        freq[n] += 1\n",
    "\n",
    "    # Create transformation matrix\n",
    "    base: list[list[int]] = [[0 for j in range(X)] for i in range(X)]\n",
    "    for total in range(X):\n",
    "        for next_ in range(1, 10):\n",
    "            new_total = (total * 10 + next_) % X\n",
    "            base[new_total][total] = (base[new_total][total] + freq[next_]) % MOD\n",
    "\n",
    "    result = matrix_power(base, B, MOD)\n",
    "    return result[K][0]\n",
    "\n",
    "\n",
    "# Testing the solution\n",
    "assert wet_shark_and_blocks(12, 1, 5, 10, [3,5,6,7,8,9,5,1,1,1,1,5]) == 3\n",
    "assert wet_shark_and_blocks(3, 2, 1, 2, [6,2,2]) == 0\n",
    "assert wet_shark_and_blocks(3, 2, 1, 2, [3,1,2]) == 6"
   ]
  },
  {
   "cell_type": "markdown",
   "id": "707e34d3",
   "metadata": {
    "papermill": {
     "duration": 0.006855,
     "end_time": "2024-08-10T16:40:53.637067",
     "exception": false,
     "start_time": "2024-08-10T16:40:53.630212",
     "status": "completed"
    },
    "tags": []
   },
   "source": [
    "#### CF Div 4 - 6th Aug 2024"
   ]
  },
  {
   "cell_type": "code",
   "execution_count": 23,
   "id": "764c8eb8",
   "metadata": {
    "execution": {
     "iopub.execute_input": "2024-08-10T16:40:53.652453Z",
     "iopub.status.busy": "2024-08-10T16:40:53.651997Z",
     "iopub.status.idle": "2024-08-10T16:40:53.655169Z",
     "shell.execute_reply": "2024-08-10T16:40:53.654621Z"
    },
    "lines_to_next_cell": 1,
    "papermill": {
     "duration": 0.012281,
     "end_time": "2024-08-10T16:40:53.656337",
     "exception": false,
     "start_time": "2024-08-10T16:40:53.644056",
     "status": "completed"
    },
    "tags": []
   },
   "outputs": [],
   "source": [
    "def digit_sum(n: int) -> int:\n",
    "    return n // 10 + n % 10\n",
    "\n",
    "# Testing the solution\n",
    "assert digit_sum(77) == 14\n",
    "assert digit_sum(10) == 1\n",
    "assert digit_sum(48) == 12"
   ]
  },
  {
   "cell_type": "code",
   "execution_count": 24,
   "id": "77241705",
   "metadata": {
    "execution": {
     "iopub.execute_input": "2024-08-10T16:40:53.671535Z",
     "iopub.status.busy": "2024-08-10T16:40:53.671139Z",
     "iopub.status.idle": "2024-08-10T16:40:53.675373Z",
     "shell.execute_reply": "2024-08-10T16:40:53.674816Z"
    },
    "lines_to_next_cell": 1,
    "papermill": {
     "duration": 0.013055,
     "end_time": "2024-08-10T16:40:53.676597",
     "exception": false,
     "start_time": "2024-08-10T16:40:53.663542",
     "status": "completed"
    },
    "tags": []
   },
   "outputs": [],
   "source": [
    "def card_game(a1: int, a2: int, b1: int, b2: int) -> int:\n",
    "    count = 0\n",
    "    if (a1 > b1 and a2 >= b2) or (a2 > b2 and a1 >= b1):\n",
    "        count += 2\n",
    "    if (a1 > b2 and a2 >= b1) or (a2 > b1 and a1 >= b2):\n",
    "        count += 2\n",
    "    return count\n",
    "\n",
    "# Testing the solution\n",
    "assert card_game(3, 8, 2, 6) == 2\n",
    "assert card_game(1, 1, 1, 1) == 0\n",
    "assert card_game(10, 10, 2, 2) == 4\n",
    "assert card_game(1, 1, 10, 10) == 0\n",
    "assert card_game(3, 8, 7, 2) == 2"
   ]
  },
  {
   "cell_type": "code",
   "execution_count": 25,
   "id": "c499f00c",
   "metadata": {
    "execution": {
     "iopub.execute_input": "2024-08-10T16:40:53.692037Z",
     "iopub.status.busy": "2024-08-10T16:40:53.691484Z",
     "iopub.status.idle": "2024-08-10T16:40:53.696195Z",
     "shell.execute_reply": "2024-08-10T16:40:53.695717Z"
    },
    "lines_to_next_cell": 1,
    "papermill": {
     "duration": 0.013518,
     "end_time": "2024-08-10T16:40:53.697289",
     "exception": false,
     "start_time": "2024-08-10T16:40:53.683771",
     "status": "completed"
    },
    "tags": []
   },
   "outputs": [],
   "source": [
    "def showering(N: int, S: int, M: int, tasks: list[tuple[int, int]]) -> bool:\n",
    "    tasks.sort()\n",
    "    prev_end = 0\n",
    "    for start, end in tasks:\n",
    "        if start - prev_end >= S:\n",
    "            return True\n",
    "        prev_end = end\n",
    "\n",
    "    return M - prev_end >= S\n",
    "\n",
    "# Testing the solution\n",
    "assert showering(3, 3, 10, [(3,5), (6,8), (9,10)]) == True\n",
    "assert showering(3, 3, 10, [(1,2), (3,5), (6,7)]) == True\n",
    "assert showering(3, 3, 10, [(1,2), (3,5), (6,8)]) == False\n",
    "assert showering(3, 4, 10, [(1,2), (6,7), (8,9)]) == True"
   ]
  },
  {
   "cell_type": "code",
   "execution_count": 26,
   "id": "cb7a6df0",
   "metadata": {
    "execution": {
     "iopub.execute_input": "2024-08-10T16:40:53.712542Z",
     "iopub.status.busy": "2024-08-10T16:40:53.712173Z",
     "iopub.status.idle": "2024-08-10T16:40:53.716644Z",
     "shell.execute_reply": "2024-08-10T16:40:53.716175Z"
    },
    "lines_to_next_cell": 1,
    "papermill": {
     "duration": 0.013535,
     "end_time": "2024-08-10T16:40:53.717876",
     "exception": false,
     "start_time": "2024-08-10T16:40:53.704341",
     "status": "completed"
    },
    "tags": []
   },
   "outputs": [],
   "source": [
    "def slavic_exam(S: str, T: str) -> str:\n",
    "    i, j, s_length, t_length = 0, 0, len(S), len(T)\n",
    "    result: list[str] = []\n",
    "    for i in range(s_length):\n",
    "        result.append(S[i] if S[i] != \"?\" else T[j] if j < t_length else \"a\")\n",
    "        if j < t_length and (S[i] == T[j] or S[i] == \"?\"):\n",
    "            j += 1\n",
    "\n",
    "    return \"\".join(result) if j == t_length else \"\"\n",
    "\n",
    "# Testing the solution\n",
    "assert slavic_exam(\"?????\", \"xbx\") == \"xbxaa\"\n",
    "assert slavic_exam(\"ab??e\", \"abcde\") == \"abcde\"\n",
    "assert slavic_exam(\"ayy?x\", \"a\") == \"ayyax\"\n",
    "assert slavic_exam(\"ab??e\", \"dac\") == \"\"\n",
    "assert slavic_exam(\"paiu\", \"mom\") == \"\""
   ]
  },
  {
   "cell_type": "markdown",
   "id": "aaa7050f",
   "metadata": {
    "papermill": {
     "duration": 0.007017,
     "end_time": "2024-08-10T16:40:53.732208",
     "exception": false,
     "start_time": "2024-08-10T16:40:53.725191",
     "status": "completed"
    },
    "tags": []
   },
   "source": [
    "#### Upsolving CF Div 4 from yesterday"
   ]
  },
  {
   "cell_type": "code",
   "execution_count": 27,
   "id": "a6f15aa5",
   "metadata": {
    "execution": {
     "iopub.execute_input": "2024-08-10T16:40:53.747383Z",
     "iopub.status.busy": "2024-08-10T16:40:53.746969Z",
     "iopub.status.idle": "2024-08-10T16:40:53.782211Z",
     "shell.execute_reply": "2024-08-10T16:40:53.781715Z"
    },
    "lines_to_next_cell": 1,
    "papermill": {
     "duration": 0.044265,
     "end_time": "2024-08-10T16:40:53.783491",
     "exception": false,
     "start_time": "2024-08-10T16:40:53.739226",
     "status": "completed"
    },
    "tags": []
   },
   "outputs": [],
   "source": [
    "def triple_operations(queries: list[tuple[int, int]]) -> list[int]:\n",
    "    \"\"\"\n",
    "    Attempt to make use of math.log(a, b) failed, reason being the precision point\n",
    "    error in programming languages. math.log(243, 3) => 4.9999999 when it should be 5\n",
    "\n",
    "    math.log(a, b) btw uses math.ln for its calculations, not reliable, hence approach\n",
    "    below where we cache the cost\n",
    "    \"\"\"\n",
    "    # Precompute the cost\n",
    "    MAX = 2 * 10 ** 5\n",
    "    moves: list[int] = [0]\n",
    "    cumulative_moves: list[int] = [0]\n",
    "    for i in range(1, MAX + 1):\n",
    "        moves.append(1 + moves[i // 3])\n",
    "        cumulative_moves.append(moves[-1] + cumulative_moves[-1])\n",
    "\n",
    "    result: list[int] = []\n",
    "    for L, R in queries:\n",
    "        result.append(2 * moves[L] + cumulative_moves[R] - cumulative_moves[L])\n",
    "\n",
    "    return result\n",
    "\n",
    "# Testing the solution\n",
    "assert triple_operations([(1, 3), (2, 4), (19, 84), (243, 245), (242, 243)]) == [5, 6, 263, 24, 16]"
   ]
  },
  {
   "cell_type": "code",
   "execution_count": 28,
   "id": "72a92479",
   "metadata": {
    "execution": {
     "iopub.execute_input": "2024-08-10T16:40:53.799648Z",
     "iopub.status.busy": "2024-08-10T16:40:53.799249Z",
     "iopub.status.idle": "2024-08-10T16:40:56.796058Z",
     "shell.execute_reply": "2024-08-10T16:40:56.795444Z"
    },
    "lines_to_next_cell": 1,
    "papermill": {
     "duration": 3.006415,
     "end_time": "2024-08-10T16:40:56.797693",
     "exception": false,
     "start_time": "2024-08-10T16:40:53.791278",
     "status": "completed"
    },
    "tags": []
   },
   "outputs": [],
   "source": [
    "def expected_median(N: int, K: int, nums: list[int]) -> int:\n",
    "    # Answer modulo mod\n",
    "    MOD = 10 ** 9 + 7\n",
    "\n",
    "    # Precompute factorials and Inv factorials\n",
    "    # Inv Factorial using fermat's little theorem: 1 / a! => a! ** (mod - 2)\n",
    "    factorials: list[int] = [1]\n",
    "    inv_factorials: list[int] = [1]\n",
    "    MAX = 2 * 10 ** 5\n",
    "    for i in range(1, MAX + 1):\n",
    "        factorials.append((i * factorials[-1]) % MOD)\n",
    "        inv_factorials.append(pow(factorials[-1], MOD - 2, MOD))\n",
    "\n",
    "    # Application of Fermat's little theorem - `pow` part\n",
    "    def comb(n: int, r: int) -> int:\n",
    "        # Python can calculate negative powers already\n",
    "        # result = (factorials[n] * pow(factorials[r] * factorials[n - r], -1, MOD)) % MOD\n",
    "        result = (factorials[n] * inv_factorials[r] * inv_factorials[n - r]) % MOD\n",
    "        return result\n",
    "\n",
    "    # Count 1s present\n",
    "    total_ones = sum(nums)\n",
    "\n",
    "    # Count number of subsequences having 1s > K // 2\n",
    "    total_ways = 0\n",
    "    for x in range(K // 2 + 1, min(total_ones, K) + 1):\n",
    "        if K - x <= N - total_ones:\n",
    "            total_ways = (total_ways + comb(total_ones, x) * comb(N - total_ones, K - x)) % MOD\n",
    "\n",
    "    return total_ways\n",
    "\n",
    "# Testing the solution\n",
    "assert expected_median(4, 3, [1,0,0,1]) == 2\n",
    "assert expected_median(5, 1, [1,1,1,1,1]) == 5\n",
    "assert expected_median(5, 5, [0,1,0,1,0]) == 0\n",
    "assert expected_median(6, 3, [1,0,1,0,1,1]) == 16\n",
    "assert expected_median(4, 3, [1,0,1,1]) == 4\n",
    "assert expected_median(5, 3, [1,0,1,1,0]) == 7\n",
    "assert expected_median(2, 1, [0,0]) == 0\n",
    "assert expected_median(34, 17, [1] * 34) == 333606206"
   ]
  },
  {
   "cell_type": "markdown",
   "id": "59cbedb7",
   "metadata": {
    "papermill": {
     "duration": 0.007034,
     "end_time": "2024-08-10T16:40:56.828391",
     "exception": false,
     "start_time": "2024-08-10T16:40:56.821357",
     "status": "completed"
    },
    "tags": []
   },
   "source": [
    "#### Ruler CF"
   ]
  },
  {
   "cell_type": "code",
   "execution_count": 29,
   "id": "14fa6435",
   "metadata": {
    "execution": {
     "iopub.execute_input": "2024-08-10T16:40:56.843688Z",
     "iopub.status.busy": "2024-08-10T16:40:56.843253Z",
     "iopub.status.idle": "2024-08-10T16:40:56.847561Z",
     "shell.execute_reply": "2024-08-10T16:40:56.847083Z"
    },
    "lines_to_next_cell": 1,
    "papermill": {
     "duration": 0.013275,
     "end_time": "2024-08-10T16:40:56.848676",
     "exception": false,
     "start_time": "2024-08-10T16:40:56.835401",
     "status": "completed"
    },
    "tags": []
   },
   "outputs": [],
   "source": [
    "def ruler() -> None:\n",
    "    \"Using Ternery search, split search space into 3 equal chunks\"\n",
    "    T = int(input())\n",
    "    for i in range(T):\n",
    "        low, high = 2, 999\n",
    "        while low <= high:\n",
    "            mid1, mid2 = (2 * low + high) // 3, (2 * high + low) // 3\n",
    "            print(f\"? {mid1} {mid2}\")\n",
    "            area = int(input())\n",
    "            if area == mid1 * mid2:\n",
    "                low = mid2 + 1\n",
    "            elif area == mid1 * (mid2 + 1):\n",
    "                low, high = mid1 + 1, mid2 - 1\n",
    "            else:\n",
    "                high = mid1 - 1\n",
    "        print(f\"! {low}\")"
   ]
  },
  {
   "cell_type": "markdown",
   "id": "56e96f59",
   "metadata": {
    "papermill": {
     "duration": 0.006923,
     "end_time": "2024-08-10T16:40:56.862663",
     "exception": false,
     "start_time": "2024-08-10T16:40:56.855740",
     "status": "completed"
    },
    "tags": []
   },
   "source": [
    "LC POTD: https://leetcode.com/problems/integer-to-english-words/submissions/1348041229"
   ]
  },
  {
   "cell_type": "code",
   "execution_count": 30,
   "id": "2e6ef4f1",
   "metadata": {
    "execution": {
     "iopub.execute_input": "2024-08-10T16:40:56.877909Z",
     "iopub.status.busy": "2024-08-10T16:40:56.877396Z",
     "iopub.status.idle": "2024-08-10T16:40:56.884748Z",
     "shell.execute_reply": "2024-08-10T16:40:56.884134Z"
    },
    "lines_to_next_cell": 1,
    "papermill": {
     "duration": 0.016338,
     "end_time": "2024-08-10T16:40:56.885933",
     "exception": false,
     "start_time": "2024-08-10T16:40:56.869595",
     "status": "completed"
    },
    "tags": []
   },
   "outputs": [],
   "source": [
    "def number_to_words(N: int) -> str:\n",
    "    def to_words(N: int) -> str:\n",
    "        results: list[str] = []\n",
    "        if N // 100 > 0:\n",
    "            results.append(f\"{mapping[N // 100]} {mapping[100]}\")\n",
    "            N %= 100\n",
    "        if N > 0:\n",
    "            if N < 21:\n",
    "                results.append(mapping[N])\n",
    "            else:\n",
    "                results.append(f\"{mapping[N // 10 * 10]} {mapping[N % 10]}\" if N % 10 else mapping[N // 10 * 10])\n",
    "\n",
    "        return \" \".join(results)\n",
    "\n",
    "    # Building blocks of english wording of numbers\n",
    "    mapping: dict[int, str] = {\n",
    "        1: \"One\", 2: \"Two\", 3: \"Three\", 4: \"Four\", 5: \"Five\",\n",
    "        6: \"Six\", 7: \"Seven\", 8: \"Eight\", 9: \"Nine\",\n",
    "\n",
    "        11: \"Eleven\", 12: \"Twelve\", 13: \"Thirteen\", 14: \"Fourteen\",\n",
    "        15: \"Fifteen\", 16: \"Sixteen\", 17: \"Seventeen\", 18: \"Eighteen\",\n",
    "        19: \"Nineteen\",\n",
    "\n",
    "        20: \"Twenty\", 30: \"Thirty\", 40: \"Forty\", 50: \"Fifty\", 60: \"Sixty\",\n",
    "        70: \"Seventy\", 80: \"Eighty\", 90: \"Ninety\",\n",
    "\n",
    "        10: \"Ten\", 100: \"Hundred\", 1000: \"Thousand\", 1000000: \"Million\",\n",
    "        1000000000: \"Billion\", 0: \"\"\n",
    "    }\n",
    "\n",
    "    # Idea is to split into groupings of 3\n",
    "    groups: list[int] = []\n",
    "    while N:\n",
    "        groups.append(N % 1000)\n",
    "        N //= 1000\n",
    "    groups.reverse()\n",
    "\n",
    "    if groups:\n",
    "        words: list[str] = list(map(to_words, groups))\n",
    "        curr = 1\n",
    "        for i in range(-2, -(len(words) + 1), -1):\n",
    "            curr *= 1000\n",
    "            if words[i]:\n",
    "                words[i] = f\"{words[i]} {mapping[curr]}\"\n",
    "\n",
    "        # Remove any \"\"\n",
    "        words = list(filter(lambda x: len(x), words))\n",
    "\n",
    "    else:\n",
    "        words = [\"Zero\"]\n",
    "\n",
    "    result = \" \".join(words)\n",
    "    return result\n",
    "\n",
    "# Testing the solution\n",
    "assert number_to_words(30) == \"Thirty\"\n",
    "assert number_to_words(100) == \"One Hundred\"\n",
    "assert number_to_words(0) == \"Zero\"\n",
    "assert number_to_words(2147483647) == \"Two Billion One Hundred Forty Seven Million Four Hundred Eighty Three Thousand Six Hundred Forty Seven\"\n",
    "assert number_to_words(123) == \"One Hundred Twenty Three\"\n",
    "assert number_to_words(12345) == \"Twelve Thousand Three Hundred Forty Five\""
   ]
  },
  {
   "cell_type": "markdown",
   "id": "564e5f48",
   "metadata": {
    "papermill": {
     "duration": 0.007185,
     "end_time": "2024-08-10T16:40:56.900666",
     "exception": false,
     "start_time": "2024-08-10T16:40:56.893481",
     "status": "completed"
    },
    "tags": []
   },
   "source": [
    "#### CF Practice - Trie"
   ]
  },
  {
   "cell_type": "code",
   "execution_count": 31,
   "id": "bacc33cb",
   "metadata": {
    "execution": {
     "iopub.execute_input": "2024-08-10T16:40:56.916096Z",
     "iopub.status.busy": "2024-08-10T16:40:56.915582Z",
     "iopub.status.idle": "2024-08-10T16:40:56.923629Z",
     "shell.execute_reply": "2024-08-10T16:40:56.923140Z"
    },
    "lines_to_next_cell": 1,
    "papermill": {
     "duration": 0.017143,
     "end_time": "2024-08-10T16:40:56.924795",
     "exception": false,
     "start_time": "2024-08-10T16:40:56.907652",
     "status": "completed"
    },
    "tags": []
   },
   "outputs": [],
   "source": [
    "def vasiley_multiset() -> None:\n",
    "    BIT_LENGTH = 32\n",
    "\n",
    "    class Node:\n",
    "        one: 'Node|None'\n",
    "        zero: 'Node|None'\n",
    "        count: int\n",
    "\n",
    "        def __init__(self, count: int) -> None:\n",
    "            self.count = count\n",
    "            self.one = None\n",
    "            self.zero = None\n",
    "\n",
    "        def __str__(self) -> str:\n",
    "            return f\"count: {self.count} ({self.zero} | {self.one})\"\n",
    "\n",
    "    def insert(curr: Node, bits: list[int], pos: int) -> None:\n",
    "        curr.count += 1\n",
    "        if pos < BIT_LENGTH:\n",
    "            next_ = curr.one if bits[pos] else curr.zero\n",
    "            if not next_:\n",
    "                next_ = Node(0)\n",
    "            if bits[pos]:\n",
    "                curr.one = next_\n",
    "            else:\n",
    "                curr.zero = next_\n",
    "            insert(next_, bits, pos + 1)\n",
    "\n",
    "    def delete(curr: Node, bits: list[int], pos: int) -> None:\n",
    "        curr.count -= 1\n",
    "        if pos < BIT_LENGTH:\n",
    "            next_: Node = curr.one if bits[pos] else curr.zero # type: ignore\n",
    "            delete(next_, bits, pos + 1)\n",
    "            if not next_.count:\n",
    "                if bits[pos]:\n",
    "                    curr.one = None\n",
    "                else:\n",
    "                    curr.zero = None\n",
    "\n",
    "    def search(root: Node, bits: list[int]) -> int:\n",
    "        result: int = 0\n",
    "        pos, curr = 0, root\n",
    "        while pos < BIT_LENGTH:\n",
    "            if not curr.zero or (not bits[pos] and curr.one):\n",
    "                result += 2 ** (BIT_LENGTH - pos - 1)\n",
    "                curr = curr.one # type: ignore\n",
    "            else:\n",
    "                curr = curr.zero\n",
    "            pos += 1\n",
    "\n",
    "        return result\n",
    "\n",
    "    # Read input and process queries\n",
    "    Q = int(input())\n",
    "    root: Node = Node(0)\n",
    "    insert(root, list(map(int, \"0\".zfill(BIT_LENGTH))), 0)\n",
    "    for i in range(Q):\n",
    "        inp = input().split()\n",
    "        op, num = inp[0], int(inp[1])\n",
    "        bits = list(map(int, bin(num)[2:].zfill(BIT_LENGTH)))\n",
    "        if op == \"+\":\n",
    "            insert(root, bits, 0)\n",
    "        elif op == \"-\":\n",
    "            delete(root, bits, 0)\n",
    "        else:\n",
    "            print(num ^ search(root, bits))"
   ]
  },
  {
   "cell_type": "code",
   "execution_count": 32,
   "id": "fcce4a6d",
   "metadata": {
    "execution": {
     "iopub.execute_input": "2024-08-10T16:40:56.940646Z",
     "iopub.status.busy": "2024-08-10T16:40:56.940196Z",
     "iopub.status.idle": "2024-08-10T16:40:56.947945Z",
     "shell.execute_reply": "2024-08-10T16:40:56.947462Z"
    },
    "lines_to_next_cell": 1,
    "papermill": {
     "duration": 0.016847,
     "end_time": "2024-08-10T16:40:56.949056",
     "exception": false,
     "start_time": "2024-08-10T16:40:56.932209",
     "status": "completed"
    },
    "tags": []
   },
   "outputs": [],
   "source": [
    "def perfect_security(N: int, encs: list[int], pks: list[int]) -> list[int]:\n",
    "    \"\"\"\n",
    "    Given the pk and encrypted message, return lexiographically smallest message.\n",
    "\n",
    "    Idea is to use a Trie data structure.\n",
    "    Initialize all keys into the root. As we go go through enc, make sure we find pki such that it is 'closest' to enci.\n",
    "    Closest as in, starting from the most significant bit - 1s, 0s match as close as possible. This way xor result would be smallest.\n",
    "    Once a key is picked, remove that key from the trie.\n",
    "    \"\"\"\n",
    "\n",
    "    BIT_LENGTH = 32\n",
    "\n",
    "    class Node:\n",
    "        def __init__(self, count: int = 0) -> None:\n",
    "            self.count: int = count\n",
    "            self.one: 'Node|None' = None\n",
    "            self.zero: 'Node|None' = None\n",
    "\n",
    "    def insert(root: Node, pk: int) -> None:\n",
    "        curr = root\n",
    "        for pos in range(BIT_LENGTH - 1, -1, -1):\n",
    "            curr.count += 1\n",
    "            bit = (pk >> pos) & 1\n",
    "            next_ = (curr.one if bit else curr.zero) or Node()\n",
    "            if bit:\n",
    "                curr.one = next_\n",
    "            else:\n",
    "                curr.zero = next_\n",
    "            curr = next_\n",
    "        curr.count += 1\n",
    "\n",
    "    def search(curr: Node, enc: int) -> int:\n",
    "        \"\"\"Search for the closest matching pk and delete it\"\"\"\n",
    "        result = 0\n",
    "        for pos in range(BIT_LENGTH - 1, -1, -1):\n",
    "            curr.count -= 1\n",
    "            bit = (enc >> pos) & 1\n",
    "            if (not curr.zero or curr.zero.count == 0) or (bit and curr.one and curr.one.count > 0):\n",
    "                result |= 1 << pos\n",
    "                curr = curr.one # type: ignore\n",
    "            else:\n",
    "                curr = curr.zero\n",
    "        curr.count -= 1\n",
    "\n",
    "        return result\n",
    "\n",
    "    # Insert all permuted keys into trie\n",
    "    root = Node()\n",
    "    for pk in pks:\n",
    "        insert(root, pk)\n",
    "\n",
    "    # Get enc message\n",
    "    result: list[int] = []\n",
    "    for enc in encs:\n",
    "        result.append(enc ^ search(root, enc))\n",
    "\n",
    "    return result\n",
    "\n",
    "# Testing the solution\n",
    "assert perfect_security(5, [12,7,87,22,11], [18,39,9,12,16]) == [0,14,69,6,44]\n",
    "assert perfect_security(5, [8,4,13], [17,2,7]) == [10,3,28]\n",
    "assert perfect_security(10, [331415699,278745619,998190004,423175621,42983144,166555524,843586353,802130100,337889448,685310951], [226011312,266003835,342809544,504667531,529814910,684873393,817026985,844010788,993949858,1031395667]) == [128965467,243912600,4281110,112029883,223689619,76924724,429589,119397893,613490433,362863284]"
   ]
  },
  {
   "cell_type": "code",
   "execution_count": 33,
   "id": "cc7dc923",
   "metadata": {
    "execution": {
     "iopub.execute_input": "2024-08-10T16:40:56.964681Z",
     "iopub.status.busy": "2024-08-10T16:40:56.964187Z",
     "iopub.status.idle": "2024-08-10T16:40:56.968985Z",
     "shell.execute_reply": "2024-08-10T16:40:56.968425Z"
    },
    "lines_to_next_cell": 1,
    "papermill": {
     "duration": 0.013774,
     "end_time": "2024-08-10T16:40:56.970223",
     "exception": false,
     "start_time": "2024-08-10T16:40:56.956449",
     "status": "completed"
    },
    "tags": []
   },
   "outputs": [],
   "source": [
    "def beautiful_subarrays_brute(N: int, K: int, nums: list[int]) -> int:\n",
    "    \"\"\"\n",
    "    Do a prefix sum for each invalid k: 1...K-1.\n",
    "    Invalid counts are taken since the maximum valid K can be very large.\n",
    "\n",
    "    Time: O(N x K)\n",
    "    \"\"\"\n",
    "\n",
    "    def countK(k_: int) -> int:\n",
    "        prefix: collections.defaultdict[int, int] = collections.defaultdict(int, {0: 1})\n",
    "        xor = counts = 0\n",
    "        for i in range(N):\n",
    "            xor ^= nums[i]\n",
    "            counts += prefix[xor ^ k_]\n",
    "            prefix[xor] += 1\n",
    "        return counts\n",
    "\n",
    "    total_counts = N * (N + 1) // 2\n",
    "    invalid_counts = sum(countK(k) for k in range(K))\n",
    "    return total_counts - invalid_counts\n",
    "\n",
    "# Testing the solution\n",
    "assert beautiful_subarrays_brute(3, 1, [1,2,3]) == 5\n",
    "assert beautiful_subarrays_brute(3, 2, [1,2,3]) == 3\n",
    "assert beautiful_subarrays_brute(3, 3, [1,2,3]) == 2"
   ]
  },
  {
   "cell_type": "code",
   "execution_count": 34,
   "id": "3a54c4f9",
   "metadata": {
    "execution": {
     "iopub.execute_input": "2024-08-10T16:40:56.985740Z",
     "iopub.status.busy": "2024-08-10T16:40:56.985221Z",
     "iopub.status.idle": "2024-08-10T16:40:56.992253Z",
     "shell.execute_reply": "2024-08-10T16:40:56.991777Z"
    },
    "lines_to_next_cell": 1,
    "papermill": {
     "duration": 0.016135,
     "end_time": "2024-08-10T16:40:56.993468",
     "exception": false,
     "start_time": "2024-08-10T16:40:56.977333",
     "status": "completed"
    },
    "tags": []
   },
   "outputs": [],
   "source": [
    "def beautiful_subarrays(N: int, K: int, nums: list[int]) -> int:\n",
    "    \"\"\"\n",
    "    1. We keep track of all the accumulated xor in a Trie: Si\n",
    "    2. For each Sj (j > i), we count number of Si such that Si ^ Sj >= K.\n",
    "    3. We do step 2 by traversing at a bit level most significant to least significant bit.\n",
    "    4. At each level check if setting curr bit would ensure that curr >= K, if it does all subtrees\n",
    "       to the opp end of tree are valid and we increment the count but no of child nodes in the opp branch of the tree\n",
    "    5. If setting curr bit would result in curr < K, we still need to update curr - we set curr bit and traverse to the\n",
    "       other end of the subtree.\n",
    "    \"\"\"\n",
    "\n",
    "    BIT_LENGTH = 30\n",
    "\n",
    "    class Node:\n",
    "        def __init__(self, counts: int = 0):\n",
    "            self.counts = counts\n",
    "            self.zero: 'Node|None' = None\n",
    "            self.one: 'Node|None' = None\n",
    "\n",
    "    def insert(root: Node, x: int) -> None:\n",
    "        curr, digit = root, 1 << (BIT_LENGTH - 1)\n",
    "        while digit:\n",
    "            curr.counts += 1\n",
    "            bit = x & digit\n",
    "            digit >>= 1\n",
    "            if bit:\n",
    "                next_ = curr.one or Node()\n",
    "                curr.one = next_\n",
    "            else:\n",
    "                next_ = curr.zero or Node()\n",
    "                curr.zero = next_\n",
    "            curr = next_\n",
    "        curr.counts += 1\n",
    "\n",
    "    def count_beautiful_subarrays(root: Node, x: int, k: int) -> int:\n",
    "        curr: Node|None = root\n",
    "        counts, acc, digit = 0, 0, 1 << (BIT_LENGTH - 1)\n",
    "        while curr and digit:\n",
    "            bit = x & digit\n",
    "            if (acc | digit) >= k:\n",
    "                opp = curr.zero if bit else curr.one\n",
    "                counts += opp.counts if opp else 0\n",
    "                curr = curr.one if bit else curr.zero\n",
    "            else:\n",
    "                acc |= digit\n",
    "                curr = curr.zero if bit else curr.one\n",
    "            digit >>= 1\n",
    "\n",
    "        return counts\n",
    "\n",
    "    # ------------------- MAIN LOGIC -------------------\n",
    "\n",
    "    root = Node()\n",
    "\n",
    "    # Init 0 to account of subarrays starting at idx 0\n",
    "    insert(root, 0)\n",
    "\n",
    "    acc = result = 0\n",
    "    for i in range(N):\n",
    "        acc ^= nums[i]\n",
    "        result += count_beautiful_subarrays(root, acc, K)\n",
    "        insert(root, acc)\n",
    "\n",
    "    return result\n",
    "\n",
    "# Testing the solution\n",
    "assert beautiful_subarrays(3, 1, [1,2,3]) == 5\n",
    "assert beautiful_subarrays(3, 2, [1,2,3]) == 3\n",
    "assert beautiful_subarrays(3, 3, [1,2,3]) == 2\n",
    "assert beautiful_subarrays(1, 1, [1]) == 1"
   ]
  },
  {
   "cell_type": "code",
   "execution_count": 35,
   "id": "2281d889",
   "metadata": {
    "execution": {
     "iopub.execute_input": "2024-08-10T16:40:57.009267Z",
     "iopub.status.busy": "2024-08-10T16:40:57.008863Z",
     "iopub.status.idle": "2024-08-10T16:40:57.015243Z",
     "shell.execute_reply": "2024-08-10T16:40:57.014773Z"
    },
    "lines_to_next_cell": 1,
    "papermill": {
     "duration": 0.015533,
     "end_time": "2024-08-10T16:40:57.016374",
     "exception": false,
     "start_time": "2024-08-10T16:40:57.000841",
     "status": "completed"
    },
    "tags": []
   },
   "outputs": [],
   "source": [
    "def dr_evil_underscores(N: int, nums: list[int]) -> int:\n",
    "    \"\"\"\n",
    "    1. Store all the nums into a Binary Trie data structure\n",
    "    2. Iterate through the trie until end is reached\n",
    "        - If single branch exist, X would be set as the same bit to ensure acc value would be 0\n",
    "        - If multiple branches exist, no matter whether we set X that bit we would still have acc 1.\n",
    "        - When end is hit, return min of all such accumulated values\n",
    "    \"\"\"\n",
    "\n",
    "    BIT_LENGTH = 32\n",
    "\n",
    "    class Node:\n",
    "        def __init__(self) -> None:\n",
    "            self.one: 'Node|None' = None\n",
    "            self.zero: 'Node|None' = None\n",
    "\n",
    "    # Insert all of nums into a Trie DS\n",
    "    root = Node()\n",
    "    for x in nums:\n",
    "        curr = root\n",
    "        digit = 1 << (BIT_LENGTH - 1)\n",
    "        while digit:\n",
    "            if x & digit:\n",
    "                next_ = curr.one or Node()\n",
    "                curr.one = next_\n",
    "            else:\n",
    "                next_ = curr.zero or Node()\n",
    "                curr.zero = next_\n",
    "            curr, digit = next_, digit >> 1\n",
    "\n",
    "    # Iterate through nums once again, find out the max xor for each\n",
    "    result = max(nums)\n",
    "    stack: list[tuple[Node|None, int, int]] = [(root, 1 << BIT_LENGTH, 0)]\n",
    "    while stack:\n",
    "        curr_node, depth_mask, acc = stack.pop()\n",
    "        if depth_mask and curr_node:\n",
    "            depth_mask >>= 1\n",
    "            if curr_node.one and curr_node.zero:\n",
    "                stack.append((curr_node.one, depth_mask, acc | depth_mask))\n",
    "                stack.append((curr_node.zero, depth_mask, acc | depth_mask))\n",
    "            else:\n",
    "                stack.append((curr_node.one if curr_node.one else curr_node.zero, depth_mask, acc))\n",
    "        else:\n",
    "            result = min(result, acc)\n",
    "\n",
    "    return result\n",
    "\n",
    "# Testing the solution\n",
    "assert dr_evil_underscores(3, [1,2,3]) == 2\n",
    "assert dr_evil_underscores(2, [1,5]) == 4\n",
    "assert dr_evil_underscores(2, [0, 1073741823]) == 536870912\n",
    "assert dr_evil_underscores(1, [12123]) == 0"
   ]
  },
  {
   "cell_type": "code",
   "execution_count": 36,
   "id": "d9958284",
   "metadata": {
    "execution": {
     "iopub.execute_input": "2024-08-10T16:40:57.031564Z",
     "iopub.status.busy": "2024-08-10T16:40:57.031106Z",
     "iopub.status.idle": "2024-08-10T16:40:57.037576Z",
     "shell.execute_reply": "2024-08-10T16:40:57.037013Z"
    },
    "lines_to_next_cell": 1,
    "papermill": {
     "duration": 0.015375,
     "end_time": "2024-08-10T16:40:57.038834",
     "exception": false,
     "start_time": "2024-08-10T16:40:57.023459",
     "status": "completed"
    },
    "tags": []
   },
   "outputs": [],
   "source": [
    "def polycarpus_phonebook(N: int, contacts: list[str]) -> list[str]:\n",
    "    class Node:\n",
    "        def __init__(self) -> None:\n",
    "            self.ids: set[int] = set()\n",
    "            self.next: dict[str, 'Node'] = dict()\n",
    "\n",
    "    # Store all valid substrings into the trie\n",
    "    phonebook = Node()\n",
    "    for id_, contact in enumerate(contacts):\n",
    "        for i in range(9):\n",
    "            curr = phonebook\n",
    "            curr.ids.add(id_)\n",
    "            for j in range(i, 9):\n",
    "                curr.next[contact[j]] = curr.next.get(contact[j], Node())\n",
    "                curr = curr.next[contact[j]]\n",
    "                curr.ids.add(id_)\n",
    "\n",
    "    # Iterate through numbers again to find the minimum\n",
    "    # required substr to uniquely identify contact\n",
    "    results: list[str] = []\n",
    "    for contact in contacts:\n",
    "        start, end = 0, 8\n",
    "        for i in range(9):\n",
    "            curr = phonebook\n",
    "            for j in range(i, 9):\n",
    "                curr = curr.next[contact[j]]\n",
    "                if len(curr.ids) == 1 and j - i + 1 < end - start + 1:\n",
    "                    start, end = i, j\n",
    "        results.append(contact[start: end + 1])\n",
    "\n",
    "    return results\n",
    "\n",
    "# Testing the solution\n",
    "assert list(map(len, polycarpus_phonebook(3, [\"123456789\", \"100000000\", \"100123456\"]))) == [1, 3, 2]\n",
    "assert list(map(len, polycarpus_phonebook(4, [\"123456789\", \"193456789\", \"134567819\", \"934567891\"]))) == [1, 3, 2, 2]"
   ]
  },
  {
   "cell_type": "markdown",
   "id": "10366d55",
   "metadata": {
    "papermill": {
     "duration": 0.0069,
     "end_time": "2024-08-10T16:40:57.052849",
     "exception": false,
     "start_time": "2024-08-10T16:40:57.045949",
     "status": "completed"
    },
    "tags": []
   },
   "source": [
    "Codeforces Div 2: 10th Aug 2024"
   ]
  },
  {
   "cell_type": "code",
   "execution_count": 37,
   "id": "b75c272e",
   "metadata": {
    "execution": {
     "iopub.execute_input": "2024-08-10T16:40:57.068070Z",
     "iopub.status.busy": "2024-08-10T16:40:57.067574Z",
     "iopub.status.idle": "2024-08-10T16:40:57.075409Z",
     "shell.execute_reply": "2024-08-10T16:40:57.074904Z"
    },
    "lines_to_next_cell": 1,
    "papermill": {
     "duration": 0.016736,
     "end_time": "2024-08-10T16:40:57.076604",
     "exception": false,
     "start_time": "2024-08-10T16:40:57.059868",
     "status": "completed"
    },
    "tags": []
   },
   "outputs": [
    {
     "data": {
      "text/plain": [
       "{(-1, -1), (0, 0), (1, 1), (2, 2), (3, 3)}"
      ]
     },
     "execution_count": 37,
     "metadata": {},
     "output_type": "execute_result"
    }
   ],
   "source": [
    "def k_distinct_points(x: int, y: int, K: int) -> set[tuple[int, int]]:\n",
    "    points: set[tuple[int, int]] = set()\n",
    "    for i in range(K - 1):\n",
    "        points.add((i, i))\n",
    "    total = ((K - 2) * (K - 1)) // 2\n",
    "    pendingX, pendingY = x * K - total, y * K - total\n",
    "    if (pendingX, pendingY) not in points:\n",
    "        points.add((pendingX, pendingY))\n",
    "    else:\n",
    "        points.remove((pendingX, pendingY))\n",
    "        points.add((2 * K, 2 * K))\n",
    "        points.add((2 * pendingX - 2 * K, 2 * pendingY - 2 * K))\n",
    "\n",
    "    return points\n",
    "\n",
    "# Testing the solution\n",
    "k_distinct_points(1, 1, 5)"
   ]
  },
  {
   "cell_type": "code",
   "execution_count": 38,
   "id": "1b5529d7",
   "metadata": {
    "execution": {
     "iopub.execute_input": "2024-08-10T16:40:57.092508Z",
     "iopub.status.busy": "2024-08-10T16:40:57.091970Z",
     "iopub.status.idle": "2024-08-10T16:40:57.096898Z",
     "shell.execute_reply": "2024-08-10T16:40:57.096414Z"
    },
    "papermill": {
     "duration": 0.014221,
     "end_time": "2024-08-10T16:40:57.098090",
     "exception": false,
     "start_time": "2024-08-10T16:40:57.083869",
     "status": "completed"
    },
    "tags": []
   },
   "outputs": [],
   "source": [
    "def equal_sum_subarrays(N: int, nums: list[int]) -> list[int]:\n",
    "    return nums[1:] + [nums[0]]\n",
    "\n",
    "# Testing the solution\n",
    "def equal_sum_subarrays_test(original: list[int], expected: list[int]) -> int:\n",
    "    def count_pairs(arr1: list[int], arr2: list[int]) -> int:\n",
    "        N = len(arr1)\n",
    "        pair_count = 0\n",
    "        for i in range(N):\n",
    "            sum1 = sum2 = 0\n",
    "            for j in range(i, N):\n",
    "                sum1, sum2 = sum1 + arr1[j], sum2 + arr2[j]\n",
    "                if sum1 == sum2:\n",
    "                    pair_count += 1\n",
    "\n",
    "        return pair_count\n",
    "\n",
    "    return count_pairs(original, equal_sum_subarrays(len(original), original)) == count_pairs(original, expected)\n",
    "\n",
    "assert equal_sum_subarrays_test([1,2], [2,1])\n",
    "assert equal_sum_subarrays_test([1,2,3,4,5], [3,5,4,2,1])\n",
    "assert equal_sum_subarrays_test([4,7,5,1,2,6,3], [6,2,1,4,7,3,5])"
   ]
  },
  {
   "cell_type": "markdown",
   "id": "72f61e90",
   "metadata": {},
   "source": [
    "Leetcode weekly - 11th Aug 2024"
   ]
  },
  {
   "cell_type": "code",
   "execution_count": null,
   "id": "0b91d29d",
   "metadata": {
    "lines_to_next_cell": 1
   },
   "outputs": [],
   "source": [
    "# Q1\n",
    "def finalPositionOfSnake(N: int, commands: list[str]) -> int:\n",
    "    i = j = 0\n",
    "    for command in commands:\n",
    "        if command == \"UP\":\n",
    "            i, j = i - 1, j\n",
    "        elif command == \"DOWN\":\n",
    "            i, j = i + 1, j\n",
    "        elif command == \"RIGHT\":\n",
    "            i, j = i, j + 1\n",
    "        else:\n",
    "            i, j = i, j - 1\n",
    "\n",
    "    return N * i + j\n",
    "\n",
    "# Testing the solution\n",
    "assert finalPositionOfSnake(2, [\"RIGHT\",\"DOWN\"]) == 3\n",
    "assert finalPositionOfSnake(3, [\"DOWN\",\"RIGHT\",\"UP\"]) == 1"
   ]
  },
  {
   "cell_type": "code",
   "execution_count": null,
   "id": "13002719",
   "metadata": {
    "lines_to_next_cell": 1
   },
   "outputs": [],
   "source": [
    "def countGoodNodes(edges: list[list[int]]) -> int:\n",
    "    # Convert edges into Adjl\n",
    "    adjl: collections.defaultdict[int, list[int]] = collections.defaultdict(list)\n",
    "    for n1, n2 in edges:\n",
    "        adjl[n1].append(n2)\n",
    "        adjl[n2].append(n1)\n",
    "\n",
    "    # Do a recursive call to check if node is good\n",
    "    count = 0\n",
    "    def backtrack(curr: int, prev: int) -> int:\n",
    "        nonlocal count\n",
    "        subtree_counts: list[int] = []\n",
    "        for next_ in adjl[curr]:\n",
    "            if next_ != prev:\n",
    "                subtree_counts.append(backtrack(next_, curr))\n",
    "        count += len(set(subtree_counts)) <= 1\n",
    "        return 1 + sum(subtree_counts)\n",
    "\n",
    "\n",
    "    backtrack(0, -1)\n",
    "    return count\n",
    "\n",
    "# Testing the solution\n",
    "assert countGoodNodes([[2,0],[4,2],[1,2],[3,1],[5,1]]) == 5\n",
    "assert countGoodNodes([[0,1],[0,2],[1,3],[1,4],[2,5],[2,6]]) == 7\n",
    "assert countGoodNodes([[0,1],[1,2],[2,3],[3,4],[0,5],[1,6],[2,7],[3,8]]) == 6\n",
    "assert countGoodNodes([[0,1],[1,2],[1,3],[1,4],[0,5],[5,6],[6,7],[7,8],[0,9],[9,10],[9,12],[10,11]]) == 12"
   ]
  },
  {
   "cell_type": "code",
   "execution_count": null,
   "id": "a621f38b",
   "metadata": {},
   "outputs": [],
   "source": [
    "# Q3\n",
    "def countPairs(nums: list[int]) -> int:\n",
    "    @functools.cache\n",
    "    def backtrack(i: int, L: int, R: int) -> int:\n",
    "        if i == N - 1:\n",
    "            return 1\n",
    "        else:\n",
    "            result = 0\n",
    "            for n1 in range(L, nums[i + 1] + 1):\n",
    "                n2 = nums[i + 1] - n1\n",
    "                if n2 <= R:\n",
    "                    result += backtrack(i + 1, n1, n2)\n",
    "            return result % MOD\n",
    "\n",
    "    N = len(nums)\n",
    "    MOD = 10 ** 9 +7\n",
    "    return backtrack(-1, 0, nums[0])\n",
    "\n",
    "# Testing the solution\n",
    "assert countPairs([2,3,2]) == 4\n",
    "assert countPairs([5,5,5,5]) == 126"
   ]
  }
 ],
 "metadata": {
  "kernelspec": {
   "display_name": "Python 3 (ipykernel)",
   "language": "python",
   "name": "python3"
  },
  "language_info": {
   "codemirror_mode": {
    "name": "ipython",
    "version": 3
   },
   "file_extension": ".py",
   "mimetype": "text/x-python",
   "name": "python",
   "nbconvert_exporter": "python",
   "pygments_lexer": "ipython3",
   "version": "3.12.3"
  },
  "papermill": {
   "default_parameters": {},
   "duration": 6.193842,
   "end_time": "2024-08-10T16:40:57.322290",
   "environment_variables": {},
   "exception": null,
   "input_path": "practice/007.ipynb",
   "output_path": "practice/007.ipynb",
   "parameters": {},
   "start_time": "2024-08-10T16:40:51.128448",
   "version": "2.6.0"
  }
 },
 "nbformat": 4,
 "nbformat_minor": 5
}
