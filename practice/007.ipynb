{
 "cells": [
  {
   "cell_type": "code",
   "execution_count": 1,
   "id": "1829768e",
   "metadata": {
    "execution": {
     "iopub.execute_input": "2024-08-15T16:56:14.266865Z",
     "iopub.status.busy": "2024-08-15T16:56:14.266282Z",
     "iopub.status.idle": "2024-08-15T16:56:14.627829Z",
     "shell.execute_reply": "2024-08-15T16:56:14.627229Z"
    },
    "papermill": {
     "duration": 0.37407,
     "end_time": "2024-08-15T16:56:14.629443",
     "exception": false,
     "start_time": "2024-08-15T16:56:14.255373",
     "status": "completed"
    },
    "tags": []
   },
   "outputs": [],
   "source": [
    "from typing import List, Optional, Generator\n",
    "import typing\n",
    "import pandas as pd\n",
    "import numpy as np\n",
    "import sqlite3\n",
    "import re\n",
    "import io\n",
    "import math\n",
    "import collections\n",
    "import itertools\n",
    "import functools\n",
    "import random\n",
    "import string\n",
    "import tqdm\n",
    "import bisect\n",
    "import heapq\n",
    "\n",
    "conn = sqlite3.connect(\":memory:\")\n",
    "\n",
    "def regexp(expr, item):\n",
    "    reg = re.compile(expr)\n",
    "    return reg.search(item) is not None\n",
    "\n",
    "def read_lc_df(s: str, dtypes: dict[str, str]=dict()) -> pd.DataFrame:\n",
    "    temp = pd.read_csv(io.StringIO(s), sep=\"|\", skiprows=2)\n",
    "    temp = temp.iloc[1:-1, 1:-1]\n",
    "    temp.columns = temp.columns.map(str.strip)\n",
    "    temp = temp.map(lambda x: x if type(x) != str else None if x.strip() == 'null' else x.strip())\n",
    "    temp = temp.astype(dtypes)\n",
    "    return temp\n",
    "\n",
    "conn.create_function(\"REGEXP\", 2, regexp)"
   ]
  },
  {
   "cell_type": "markdown",
   "id": "b1bc22a1",
   "metadata": {
    "papermill": {
     "duration": 0.009156,
     "end_time": "2024-08-15T16:56:14.648307",
     "exception": false,
     "start_time": "2024-08-15T16:56:14.639151",
     "status": "completed"
    },
    "tags": []
   },
   "source": [
    "#### Helper for Binary tree problems"
   ]
  },
  {
   "cell_type": "code",
   "execution_count": 2,
   "id": "aff37a02",
   "metadata": {
    "execution": {
     "iopub.execute_input": "2024-08-15T16:56:14.667709Z",
     "iopub.status.busy": "2024-08-15T16:56:14.667375Z",
     "iopub.status.idle": "2024-08-15T16:56:14.673514Z",
     "shell.execute_reply": "2024-08-15T16:56:14.673026Z"
    },
    "lines_to_next_cell": 1,
    "papermill": {
     "duration": 0.017366,
     "end_time": "2024-08-15T16:56:14.674702",
     "exception": false,
     "start_time": "2024-08-15T16:56:14.657336",
     "status": "completed"
    },
    "tags": []
   },
   "outputs": [],
   "source": [
    "class BinaryTreeNode:\n",
    "    def __init__(self, val=0, left=None, right=None):\n",
    "        self.val = val\n",
    "        self.left = left\n",
    "        self.right = right\n",
    "\n",
    "    def to_list(self):\n",
    "        to_visit = [self]\n",
    "        visited = []\n",
    "        while len(to_visit) > 0:\n",
    "            curr = to_visit.pop(0)\n",
    "            if curr:\n",
    "                to_visit.append(curr.left)\n",
    "                to_visit.append(curr.right)\n",
    "                visited.append(curr.val)\n",
    "            else:\n",
    "                visited.append(curr)\n",
    "\n",
    "        while visited and not visited[-1]:\n",
    "            visited.pop()\n",
    "\n",
    "        return visited\n",
    "\n",
    "    def __str__(self):\n",
    "        return str(self.val)\n",
    "\n",
    "    @staticmethod\n",
    "    def from_array(nums: list[int|None]):\n",
    "        '''Create a Tree from a list of nums. Returns the root node.'''\n",
    "        if len(nums) == 0:\n",
    "            return None\n",
    "        elif len(nums) == 1:\n",
    "            return BinaryTreeNode(nums[0])\n",
    "        else:\n",
    "            forest = [BinaryTreeNode(nums[0])]\n",
    "            parent_idx = -1\n",
    "            for i in range(1, len(nums)):\n",
    "\n",
    "                curr = None\n",
    "                if nums[i] is not None:\n",
    "                    curr = BinaryTreeNode(nums[i])\n",
    "                    forest.append(curr)\n",
    "\n",
    "                if i % 2 == 1:\n",
    "                    parent_idx += 1\n",
    "                    forest[parent_idx].left = curr\n",
    "                else:\n",
    "                    forest[parent_idx].right = curr\n",
    "\n",
    "        return forest[0]"
   ]
  },
  {
   "cell_type": "markdown",
   "id": "83eb2501",
   "metadata": {
    "papermill": {
     "duration": 0.009091,
     "end_time": "2024-08-15T16:56:14.693346",
     "exception": false,
     "start_time": "2024-08-15T16:56:14.684255",
     "status": "completed"
    },
    "tags": []
   },
   "source": [
    "#### Helper for Singly Linked lists"
   ]
  },
  {
   "cell_type": "code",
   "execution_count": 3,
   "id": "5b9dd2b3",
   "metadata": {
    "execution": {
     "iopub.execute_input": "2024-08-15T16:56:14.713904Z",
     "iopub.status.busy": "2024-08-15T16:56:14.713419Z",
     "iopub.status.idle": "2024-08-15T16:56:14.718013Z",
     "shell.execute_reply": "2024-08-15T16:56:14.717435Z"
    },
    "lines_to_next_cell": 1,
    "papermill": {
     "duration": 0.016291,
     "end_time": "2024-08-15T16:56:14.719207",
     "exception": false,
     "start_time": "2024-08-15T16:56:14.702916",
     "status": "completed"
    },
    "tags": []
   },
   "outputs": [],
   "source": [
    "class ListNode:\n",
    "    def __init__(self, val=0, next=None):\n",
    "        self.val = val\n",
    "        self.next = next\n",
    "\n",
    "    def __str__(self):\n",
    "        return str(self.val)\n",
    "\n",
    "    @staticmethod\n",
    "    def to_singly_linked_list(nums: list[int]):\n",
    "        root = prev = None\n",
    "        for n in nums:\n",
    "            curr = ListNode(n)\n",
    "            # Init once\n",
    "            if not root:\n",
    "                root = curr\n",
    "            if prev:\n",
    "                prev.next = curr\n",
    "            prev = curr\n",
    "\n",
    "        return root\n",
    "\n",
    "    def to_list(self) -> list[int]:\n",
    "        result = []\n",
    "        curr = self\n",
    "        while curr:\n",
    "            result.append(curr.val)\n",
    "            curr = curr.next\n",
    "        return result"
   ]
  },
  {
   "cell_type": "markdown",
   "id": "1f801598",
   "metadata": {
    "papermill": {
     "duration": 0.009213,
     "end_time": "2024-08-15T16:56:14.737696",
     "exception": false,
     "start_time": "2024-08-15T16:56:14.728483",
     "status": "completed"
    },
    "tags": []
   },
   "source": [
    "Atcoder Beginner contest: 365"
   ]
  },
  {
   "cell_type": "code",
   "execution_count": 4,
   "id": "e1ccd5d8",
   "metadata": {
    "execution": {
     "iopub.execute_input": "2024-08-15T16:56:14.757671Z",
     "iopub.status.busy": "2024-08-15T16:56:14.757226Z",
     "iopub.status.idle": "2024-08-15T16:56:14.762429Z",
     "shell.execute_reply": "2024-08-15T16:56:14.761830Z"
    },
    "lines_to_next_cell": 1,
    "papermill": {
     "duration": 0.01642,
     "end_time": "2024-08-15T16:56:14.763557",
     "exception": false,
     "start_time": "2024-08-15T16:56:14.747137",
     "status": "completed"
    },
    "tags": []
   },
   "outputs": [],
   "source": [
    "def leap_year(year: int) -> int:\n",
    "    if year % 4 != 0:\n",
    "        return 365\n",
    "    elif year % 100 != 0:\n",
    "        return 366\n",
    "    elif year % 400 != 0:\n",
    "        return 365\n",
    "    else:\n",
    "        return 366\n",
    "\n",
    "# Testing the solution\n",
    "assert leap_year(2023) == 365\n",
    "assert leap_year(1992) == 366\n",
    "assert leap_year(1800) == 365\n",
    "assert leap_year(1600) == 366\n",
    "\n",
    "# %$\n",
    "def second_largest(N: int, nums: list[int]) -> int:\n",
    "    max_ = max(nums)\n",
    "    idx = 0 if nums[0] != max_ else 1\n",
    "    for i in range(N):\n",
    "        if nums[idx] < nums[i] < max_:\n",
    "            idx = i\n",
    "    return idx + 1\n",
    "\n",
    "# Testing the solution\n",
    "assert second_largest(5, [3,8,2,5,1]) == 4\n",
    "assert second_largest(4, [8,2,5,1]) == 3\n",
    "assert second_largest(2, [2,1]) == 2\n",
    "assert second_largest(8, [1,2,3,4,5,10,9,11]) == 6"
   ]
  },
  {
   "cell_type": "code",
   "execution_count": 5,
   "id": "b809205d",
   "metadata": {
    "execution": {
     "iopub.execute_input": "2024-08-15T16:56:14.783181Z",
     "iopub.status.busy": "2024-08-15T16:56:14.782743Z",
     "iopub.status.idle": "2024-08-15T16:56:14.787344Z",
     "shell.execute_reply": "2024-08-15T16:56:14.786813Z"
    },
    "lines_to_next_cell": 1,
    "papermill": {
     "duration": 0.015762,
     "end_time": "2024-08-15T16:56:14.788580",
     "exception": false,
     "start_time": "2024-08-15T16:56:14.772818",
     "status": "completed"
    },
    "tags": []
   },
   "outputs": [],
   "source": [
    "def transportation_expenses(N: int, M: int, costs: list[int]) -> int:\n",
    "    total_cost = sum(costs)\n",
    "    if total_cost <= M:\n",
    "        return -1\n",
    "    else:\n",
    "        low, high = 0, M\n",
    "        while low <= high:\n",
    "            mid = (low + high) // 2\n",
    "            total_cost = sum(map(lambda x: min(x, mid), costs))\n",
    "            if total_cost <= M:\n",
    "                low = mid + 1\n",
    "            else:\n",
    "                high = mid - 1\n",
    "\n",
    "        return high\n",
    "\n",
    "# Testing the solution\n",
    "assert transportation_expenses(4, 8, [1,3,2,4]) == 2\n",
    "assert transportation_expenses(3, 20, [5,3,2]) == -1\n",
    "assert transportation_expenses(10, 23, [2,5,6,5,2,1,7,9,7,2]) == 2"
   ]
  },
  {
   "cell_type": "code",
   "execution_count": 6,
   "id": "8c882d10",
   "metadata": {
    "execution": {
     "iopub.execute_input": "2024-08-15T16:56:14.808430Z",
     "iopub.status.busy": "2024-08-15T16:56:14.808041Z",
     "iopub.status.idle": "2024-08-15T16:56:14.813468Z",
     "shell.execute_reply": "2024-08-15T16:56:14.812925Z"
    },
    "lines_to_next_cell": 1,
    "papermill": {
     "duration": 0.016594,
     "end_time": "2024-08-15T16:56:14.814616",
     "exception": false,
     "start_time": "2024-08-15T16:56:14.798022",
     "status": "completed"
    },
    "tags": []
   },
   "outputs": [],
   "source": [
    "def RPS(N: int, moves: str) -> int:\n",
    "\n",
    "    win_mapping: dict[str, str] = {\"R\": \"P\", \"S\": \"R\", \"P\": \"S\"}\n",
    "    move_mapping: dict[int, str] = dict(enumerate(\"RPS\"))\n",
    "    move_mapping_rev: dict[str, int] = {j: i for i, j in move_mapping.items()}\n",
    "\n",
    "    dp: list[int] = [0 for j in range(3)]\n",
    "    for i in range(N - 1, -1, -1):\n",
    "        curr, win_move = moves[i], win_mapping[moves[i]]\n",
    "        next_dp: list[int] = [0 for i in range(3)]\n",
    "        for j in range(3):\n",
    "            prev = move_mapping[j]\n",
    "            if win_move != prev:\n",
    "                next_dp[j] = max(next_dp[j], 1 + dp[move_mapping_rev[win_move]])\n",
    "            if moves[i] != prev:\n",
    "                next_dp[j] = max(next_dp[j], dp[move_mapping_rev[curr]])\n",
    "        dp = next_dp\n",
    "\n",
    "    return max(dp)\n",
    "\n",
    "# Testing the solution\n",
    "assert RPS(24, \"SPRPSRRRRRPPRPRPSSRSPRSS\") == 18\n",
    "assert RPS(10, \"SSSSSSSSSS\") == 5\n",
    "assert RPS(5, \"SSPRS\") == 4\n",
    "assert RPS(6, \"PRSSRS\") == 5"
   ]
  },
  {
   "cell_type": "markdown",
   "id": "6249f8ac",
   "metadata": {
    "papermill": {
     "duration": 0.009129,
     "end_time": "2024-08-15T16:56:14.833065",
     "exception": false,
     "start_time": "2024-08-15T16:56:14.823936",
     "status": "completed"
    },
    "tags": []
   },
   "source": [
    "#### Leetcode Biweekly"
   ]
  },
  {
   "cell_type": "code",
   "execution_count": 7,
   "id": "214ef0c6",
   "metadata": {
    "execution": {
     "iopub.execute_input": "2024-08-15T16:56:14.852835Z",
     "iopub.status.busy": "2024-08-15T16:56:14.852413Z",
     "iopub.status.idle": "2024-08-15T16:56:14.857640Z",
     "shell.execute_reply": "2024-08-15T16:56:14.857152Z"
    },
    "lines_to_next_cell": 1,
    "papermill": {
     "duration": 0.016493,
     "end_time": "2024-08-15T16:56:14.858829",
     "exception": false,
     "start_time": "2024-08-15T16:56:14.842336",
     "status": "completed"
    },
    "tags": []
   },
   "outputs": [],
   "source": [
    "def minFlips(grid: list[list[int]]) -> int:\n",
    "    M, N = len(grid), len(grid[0])\n",
    "\n",
    "    # Count flips required horizontally\n",
    "    h_flips = 0\n",
    "    for i in range(M):\n",
    "        j, k, flips = 0, N - 1, 0\n",
    "        while j < k:\n",
    "            if grid[i][j] != grid[i][k]:\n",
    "                flips += 1\n",
    "            j, k = j + 1, k - 1\n",
    "        h_flips += flips\n",
    "\n",
    "    # Count flips required vertically\n",
    "    v_flips = 0\n",
    "    for i in range(N):\n",
    "        j, k, flips = 0, M - 1, 0\n",
    "        while j < k:\n",
    "            if grid[j][i] != grid[k][i]:\n",
    "                flips += 1\n",
    "            j, k = j + 1, k - 1\n",
    "        v_flips += flips\n",
    "\n",
    "    return min(h_flips, v_flips)\n",
    "\n",
    "# Testing the solution\n",
    "assert minFlips([[1,0,0],[0,0,0],[0,0,1]]) == 2\n",
    "assert minFlips([[0,1],[0,1],[0,0]]) == 1\n",
    "assert minFlips([[1],[0]]) == 0\n",
    "assert minFlips([[1]]) == 0"
   ]
  },
  {
   "cell_type": "markdown",
   "id": "b0ef9709",
   "metadata": {
    "papermill": {
     "duration": 0.009379,
     "end_time": "2024-08-15T16:56:14.877689",
     "exception": false,
     "start_time": "2024-08-15T16:56:14.868310",
     "status": "completed"
    },
    "tags": []
   },
   "source": [
    "#### Upsolving Min Flips 2"
   ]
  },
  {
   "cell_type": "code",
   "execution_count": 8,
   "id": "45a44096",
   "metadata": {
    "execution": {
     "iopub.execute_input": "2024-08-15T16:56:14.897881Z",
     "iopub.status.busy": "2024-08-15T16:56:14.897353Z",
     "iopub.status.idle": "2024-08-15T16:56:14.905774Z",
     "shell.execute_reply": "2024-08-15T16:56:14.905187Z"
    },
    "lines_to_next_cell": 1,
    "papermill": {
     "duration": 0.019873,
     "end_time": "2024-08-15T16:56:14.907030",
     "exception": false,
     "start_time": "2024-08-15T16:56:14.887157",
     "status": "completed"
    },
    "tags": []
   },
   "outputs": [],
   "source": [
    "def minFlipsII(grid: list[list[int]]) -> int:\n",
    "    # https://leetcode.com/problems/minimum-number-of-flips-to-make-binary-grid-palindromic-ii/solutions/5581114/counting-greedy-python3/\n",
    "    def symmetric_pairs(i: int, j: int) -> set[tuple[int, int]]:\n",
    "        return {(i, j), (i, N - j - 1), (M - i - 1, j), (M - i - 1, N - j - 1)}\n",
    "\n",
    "    # Compute dimensions\n",
    "    M, N = len(grid), len(grid[0])\n",
    "\n",
    "    # Calculate the number of flips\n",
    "    # 4 way symmetry - all 0s or all 1s\n",
    "    # 2 way symmetry - based on odd / even count of (1, 1), (0, 1) / (1, 0) we decide\n",
    "    # 1 cell symmetry - all 0s\n",
    "\n",
    "    flips, tws10, tws11 = 0, 0, 0\n",
    "    visited: set[tuple[int, int]] = set()\n",
    "    for i in range(M):\n",
    "        for j in range(N):\n",
    "            if (i, j) not in visited:\n",
    "                ones, pairs = 0, symmetric_pairs(i, j)\n",
    "                for x, y in pairs:\n",
    "                    if grid[x][y] == 1:\n",
    "                        ones += 1\n",
    "                    visited.add((x, y))\n",
    "\n",
    "                # Four cell symmetry\n",
    "                if len(pairs) == 4:\n",
    "                    flips += min(ones, len(pairs) - ones)\n",
    "\n",
    "                # Single cell symmetry\n",
    "                elif len(pairs) == 1:\n",
    "                    flips += ones\n",
    "\n",
    "                # Two cell symmetry\n",
    "                else:\n",
    "                    # Count 1, 1\n",
    "                    if ones == 2:\n",
    "                        tws11 += 1\n",
    "                    # Count 1, 0 / 0, 1\n",
    "                    elif ones == 1:\n",
    "                        tws10 += 1\n",
    "\n",
    "    # If even number of 1, 1 pairs\n",
    "    if tws11 % 2 == 0:\n",
    "        # Change all (0, 1), (1, 0) to (0, 0)\n",
    "        flips += tws10\n",
    "    else:\n",
    "        # If there is atleast a single (1, 0) pair change all (1, 0) that to (1, 1)\n",
    "        # Otherwise change a single (1, 1) to (0, 0)\n",
    "        flips += tws10 if tws10 else 2\n",
    "\n",
    "    return flips\n",
    "\n",
    "# Testing the solution\n",
    "assert minFlipsII([[1,0,0],[0,1,0],[0,0,1]]) == 3\n",
    "assert minFlipsII([[0,1],[0,1],[0,0]]) == 2\n",
    "assert minFlipsII([[1],[1]]) == 2\n",
    "assert minFlipsII([[1],[1],[1],[0]]) == 1\n",
    "assert minFlipsII([[1,1,0,0,1],[0,1,1,0,1],[0,0,1,1,1],[1,0,1,1,0],[1,0,1,1,0],[0,0,1,1,1],[0,1,1,0,1],[1,1,0,1,0]]) == 16"
   ]
  },
  {
   "cell_type": "markdown",
   "id": "2b19c2f3",
   "metadata": {
    "papermill": {
     "duration": 0.009474,
     "end_time": "2024-08-15T16:56:14.926128",
     "exception": false,
     "start_time": "2024-08-15T16:56:14.916654",
     "status": "completed"
    },
    "tags": []
   },
   "source": [
    "LC Weekly - 4th Aug 2024"
   ]
  },
  {
   "cell_type": "code",
   "execution_count": 9,
   "id": "e54fdc0e",
   "metadata": {
    "execution": {
     "iopub.execute_input": "2024-08-15T16:56:14.946439Z",
     "iopub.status.busy": "2024-08-15T16:56:14.945969Z",
     "iopub.status.idle": "2024-08-15T16:56:14.952393Z",
     "shell.execute_reply": "2024-08-15T16:56:14.951818Z"
    },
    "lines_to_next_cell": 1,
    "papermill": {
     "duration": 0.018077,
     "end_time": "2024-08-15T16:56:14.953663",
     "exception": false,
     "start_time": "2024-08-15T16:56:14.935586",
     "status": "completed"
    },
    "tags": []
   },
   "outputs": [],
   "source": [
    "class neighborSum:\n",
    "\n",
    "    def __init__(self, grid: List[List[int]]):\n",
    "        self.grid: list[list[int]] = grid\n",
    "        self.M, self.N = len(grid), len(grid[0])\n",
    "        self.positions: dict[int, tuple[int, int]] = {grid[i][j]: (i, j) for i in range(self.M) for j in range(self.N)}\n",
    "\n",
    "    def adjacentSum(self, value: int) -> int:\n",
    "        result = 0\n",
    "        i, j = self.positions[value]\n",
    "        for x, y in ((i - 1, j), (i + 1, j), (i, j - 1), (i, j + 1)):\n",
    "            if 0 <= x < self.M and 0 <= y < self.N:\n",
    "                result += self.grid[x][y]\n",
    "        return result\n",
    "\n",
    "    def diagonalSum(self, value: int) -> int:\n",
    "        result = 0\n",
    "        i, j = self.positions[value]\n",
    "        for x, y in ((i - 1, j - 1), (i + 1, j + 1), (i - 1, j + 1), (i + 1, j - 1)):\n",
    "            if 0 <= x < self.M and 0 <= y < self.N:\n",
    "                result += self.grid[x][y]\n",
    "        return result\n",
    "\n",
    "# Testing the solution\n",
    "ns = neighborSum([[0,1,2], [3,4,5], [6,7,8]])\n",
    "assert ns.adjacentSum(1) == 6\n",
    "assert ns.adjacentSum(4) == 16\n",
    "assert ns.diagonalSum(4) == 16\n",
    "assert ns.diagonalSum(8) == 4"
   ]
  },
  {
   "cell_type": "code",
   "execution_count": 10,
   "id": "fd7c00f5",
   "metadata": {
    "execution": {
     "iopub.execute_input": "2024-08-15T16:56:14.973854Z",
     "iopub.status.busy": "2024-08-15T16:56:14.973379Z",
     "iopub.status.idle": "2024-08-15T16:56:14.978682Z",
     "shell.execute_reply": "2024-08-15T16:56:14.978125Z"
    },
    "lines_to_next_cell": 1,
    "papermill": {
     "duration": 0.016649,
     "end_time": "2024-08-15T16:56:14.979808",
     "exception": false,
     "start_time": "2024-08-15T16:56:14.963159",
     "status": "completed"
    },
    "tags": []
   },
   "outputs": [],
   "source": [
    "def shortestDistanceAfterQueries(N: int, queries: list[list[int]]) -> list[int]:\n",
    "    def shortest_path() -> int:\n",
    "        queue: collections.deque[tuple[int, int]] = collections.deque([(0, 0)])\n",
    "        while queue:\n",
    "            curr, dist = queue.popleft()\n",
    "            for next_node in adjl[curr]:\n",
    "                if next_node == N - 1:\n",
    "                    return dist + 1\n",
    "                else:\n",
    "                    queue.append((next_node, dist + 1))\n",
    "\n",
    "        return -1\n",
    "\n",
    "    adjl: collections.defaultdict[int, list[int]] = collections.defaultdict(list)\n",
    "    for i in range(N):\n",
    "        adjl[i].append(i + 1)\n",
    "\n",
    "    result: list[int] = []\n",
    "    for n1, n2 in queries:\n",
    "        adjl[n1].append(n2)\n",
    "        result.append(shortest_path())\n",
    "\n",
    "    return result\n",
    "\n",
    "# Testing the solution\n",
    "assert shortestDistanceAfterQueries(5, [[2,4],[0,2],[0,4]]) == [3,2,1]\n",
    "assert shortestDistanceAfterQueries(4, [[0,3],[0,2]]) == [1,1]"
   ]
  },
  {
   "cell_type": "markdown",
   "id": "ef8544a1",
   "metadata": {
    "papermill": {
     "duration": 0.009583,
     "end_time": "2024-08-15T16:56:14.998900",
     "exception": false,
     "start_time": "2024-08-15T16:56:14.989317",
     "status": "completed"
    },
    "tags": []
   },
   "source": [
    "#### Matrix factorization GYM Practice: https://codeforces.com/gym/102644"
   ]
  },
  {
   "cell_type": "code",
   "execution_count": 11,
   "id": "f806393a",
   "metadata": {
    "execution": {
     "iopub.execute_input": "2024-08-15T16:56:15.018742Z",
     "iopub.status.busy": "2024-08-15T16:56:15.018205Z",
     "iopub.status.idle": "2024-08-15T16:56:15.024568Z",
     "shell.execute_reply": "2024-08-15T16:56:15.024073Z"
    },
    "lines_to_next_cell": 1,
    "papermill": {
     "duration": 0.017672,
     "end_time": "2024-08-15T16:56:15.025759",
     "exception": false,
     "start_time": "2024-08-15T16:56:15.008087",
     "status": "completed"
    },
    "tags": []
   },
   "outputs": [],
   "source": [
    "def count_paths_brute(N: int, E: int, K: int, edges: list[tuple[int, int]]) -> int:\n",
    "    # Convert edges into adjl\n",
    "    adjl: collections.defaultdict[int, list[int]] = collections.defaultdict(list)\n",
    "    for n1, n2 in edges:\n",
    "        adjl[n2].append(n1)\n",
    "\n",
    "    # Do a 'cached' DFS\n",
    "    MOD = 10 ** 9 + 7\n",
    "\n",
    "    # Do a DFS traversal and cache the results\n",
    "    dp: dict[tuple[int, int], int] = {(0, K + 1): 0}\n",
    "    stack: list[tuple[int, int, int]] = [(i, 0, K) for i in range(1, N + 1)]\n",
    "    while stack:\n",
    "        curr, prev, k = stack[-1]\n",
    "        if (curr, k) in dp or k == 0:\n",
    "            if k == 0:\n",
    "                dp[(curr, k)] = 1\n",
    "            dp[(prev, k + 1)] = (dp[(prev, k + 1)] + dp[(curr, k)]) % MOD\n",
    "            stack.pop()\n",
    "        else:\n",
    "            dp[(curr, k)] = 0\n",
    "            for next_node in adjl[curr]:\n",
    "                stack.append((next_node, curr, k - 1))\n",
    "\n",
    "    return dp[(0, K + 1)]\n",
    "\n",
    "# Testing the solution\n",
    "assert count_paths_brute(3, 4, 2, [(1,2), (2,3), (3,1), (2,1)]) == 5\n",
    "assert count_paths_brute(5, 10, 11, [(2,3), (4,2), (2,1), (2,4), (1,5), (5,2), (3,2), (3,1), (3,4), (1,2)]) == 21305"
   ]
  },
  {
   "cell_type": "code",
   "execution_count": 12,
   "id": "a8db5c84",
   "metadata": {
    "execution": {
     "iopub.execute_input": "2024-08-15T16:56:15.046160Z",
     "iopub.status.busy": "2024-08-15T16:56:15.045650Z",
     "iopub.status.idle": "2024-08-15T16:56:15.053503Z",
     "shell.execute_reply": "2024-08-15T16:56:15.052990Z"
    },
    "lines_to_next_cell": 1,
    "papermill": {
     "duration": 0.019293,
     "end_time": "2024-08-15T16:56:15.054708",
     "exception": false,
     "start_time": "2024-08-15T16:56:15.035415",
     "status": "completed"
    },
    "tags": []
   },
   "outputs": [],
   "source": [
    "def count_paths(n_vertices: int, n_edges: int, K: int, edges: list[tuple[int, int]]) -> int:\n",
    "    \"\"\"\n",
    "    Adj matrix raised to power K\n",
    "\n",
    "    Each cell (i, j) denotes how many paths exist from node i + 1 to j + 1.\n",
    "    Total paths would be the sum of all cells\n",
    "    \"\"\"\n",
    "\n",
    "    def matrix_multiply(A: list[list[int]], B: list[list[int]]) -> list[list[int]]:\n",
    "        M, N, P, Q = len(A), len(A[0]), len(B), len(B[0])\n",
    "        assert N == P, \"invalid matrix dimensions\"\n",
    "        result: list[list[int]] = [[0 for j in range(M)] for i in range(Q)]\n",
    "        for i in range(M):\n",
    "            for j in range(Q):\n",
    "                for k in range(N):\n",
    "                    result[i][j] = (result[i][j] + A[i][k] * B[k][j]) % MOD\n",
    "\n",
    "        return result\n",
    "\n",
    "    def matrix_power(base: list[list[int]], exp: int) -> list[list[int]]:\n",
    "        N = len(base)\n",
    "        result: list[list[int]] = [[1 if i == j else 0 for j in range(N)] for i in range(N)]\n",
    "        while exp:\n",
    "            if exp & 1:\n",
    "                result = matrix_multiply(result, base)\n",
    "            base = matrix_multiply(base, base)\n",
    "            exp >>= 1\n",
    "\n",
    "        return result\n",
    "\n",
    "    # Return path count % MOD\n",
    "    MOD = 10 ** 9 + 7\n",
    "    adjm: list[list[int]] = [[0 for j in range(n_vertices)] for i in range(n_vertices)]\n",
    "    for n1, n2 in edges:\n",
    "        adjm[n1 - 1][n2 - 1] = 1\n",
    "\n",
    "    # Raise Adjm to the power of K using matrix factorization\n",
    "    result = matrix_power(adjm, K)\n",
    "    return sum(sum(row) for row in result) % MOD\n",
    "\n",
    "# Testing the solution\n",
    "assert count_paths(3, 4, 2, [(1,2), (2,3), (3,1), (2,1)]) == 5\n",
    "assert count_paths(5, 10, 11, [(2,3), (4,2), (2,1), (2,4), (1,5), (5,2), (3,2), (3,1), (3,4), (1,2)]) == 21305"
   ]
  },
  {
   "cell_type": "code",
   "execution_count": 13,
   "id": "26d5ee66",
   "metadata": {
    "execution": {
     "iopub.execute_input": "2024-08-15T16:56:15.074944Z",
     "iopub.status.busy": "2024-08-15T16:56:15.074478Z",
     "iopub.status.idle": "2024-08-15T16:56:15.389610Z",
     "shell.execute_reply": "2024-08-15T16:56:15.389056Z"
    },
    "lines_to_next_cell": 1,
    "papermill": {
     "duration": 0.326774,
     "end_time": "2024-08-15T16:56:15.391078",
     "exception": false,
     "start_time": "2024-08-15T16:56:15.064304",
     "status": "completed"
    },
    "tags": []
   },
   "outputs": [],
   "source": [
    "def knight_paths(K: int) -> int:\n",
    "\n",
    "    ij2n: typing.Callable[[int, int], int] = lambda x, y: 8 * x + y\n",
    "    n2ij: typing.Callable[[int], tuple[int, int]] = lambda n: (n // 8, n % 8)\n",
    "\n",
    "    def matrix_multiply(A: list[list[int]], B: list[list[int]], mod: int) -> list[list[int]]:\n",
    "        M, N, P, Q = len(A), len(A[0]), len(B), len(B[0])\n",
    "        assert N == P, \"invalid dimensions\"\n",
    "        result: list[list[int]] = [[0 for j in range(Q)] for i in range(M)]\n",
    "        for i in range(M):\n",
    "            for j in range(Q):\n",
    "                for k in range(N):\n",
    "                    result[i][j] = (result[i][j] + A[i][k] * B[k][j]) % mod\n",
    "\n",
    "        return result\n",
    "\n",
    "    def matrix_power(base: list[list[int]], power: int, mod: int) -> list[list[int]]:\n",
    "        N = len(base)\n",
    "        result: list[list[int]] = [[1 if i == j else 0 for j in range(N)] for i in range(N)]\n",
    "        while power:\n",
    "            if power & 1:\n",
    "                result = matrix_multiply(result, base, mod)\n",
    "            base = matrix_multiply(base, base, mod)\n",
    "            power //= 2\n",
    "\n",
    "        return result\n",
    "\n",
    "    def mark_paths(n: int) -> list[int]:\n",
    "        x1, y1 = n2ij(n)\n",
    "        result: list[int] = []\n",
    "        for x_delta in (-2, -1, 1, 2):\n",
    "            for y_delta in (-2, -1, 1, 2):\n",
    "                x2, y2 = x1 + x_delta, y1 + y_delta\n",
    "                if 0 <= x2 < 8 and 0 <= y2 < 8 and abs(x_delta) != abs(y_delta):\n",
    "                    result.append(ij2n(x2, y2))\n",
    "\n",
    "        return result\n",
    "\n",
    "    @functools.cache\n",
    "    def generate_base() -> list[list[int]]:\n",
    "        # Count of paths the knight can make starting at given point\n",
    "        base: list[list[int]] = [[0 for j in range(65)] for i in range(65)]\n",
    "        for i in range(64):\n",
    "            for j in mark_paths(i):\n",
    "                base[i][j] = 1\n",
    "\n",
    "        # We store the cells from 0 - 63, 64 stores the answer\n",
    "        for i in range(65):\n",
    "            base[i][64] = 1\n",
    "\n",
    "        return base\n",
    "\n",
    "    base = generate_base()\n",
    "    result = matrix_power(base, K + 1, 4294967296)\n",
    "    return result[0][64]\n",
    "\n",
    "# Testing the solution\n",
    "assert knight_paths(1) == 3\n",
    "assert knight_paths(2) == 15\n",
    "assert knight_paths(6) == 17231"
   ]
  },
  {
   "cell_type": "markdown",
   "id": "f3b88c65",
   "metadata": {
    "papermill": {
     "duration": 0.009401,
     "end_time": "2024-08-15T16:56:15.410096",
     "exception": false,
     "start_time": "2024-08-15T16:56:15.400695",
     "status": "completed"
    },
    "tags": []
   },
   "source": [
    "#### Codeforces Div 2 - 4th July 2024"
   ]
  },
  {
   "cell_type": "code",
   "execution_count": 14,
   "id": "c7bba6a6",
   "metadata": {
    "execution": {
     "iopub.execute_input": "2024-08-15T16:56:15.429931Z",
     "iopub.status.busy": "2024-08-15T16:56:15.429348Z",
     "iopub.status.idle": "2024-08-15T16:56:15.433850Z",
     "shell.execute_reply": "2024-08-15T16:56:15.433402Z"
    },
    "lines_to_next_cell": 1,
    "papermill": {
     "duration": 0.015725,
     "end_time": "2024-08-15T16:56:15.435020",
     "exception": false,
     "start_time": "2024-08-15T16:56:15.419295",
     "status": "completed"
    },
    "tags": []
   },
   "outputs": [],
   "source": [
    "def question_marks(N: int, answers: str) -> int:\n",
    "    marks = 0\n",
    "    correct: dict[str, int] = {ch: N for ch in \"ABCD\"}\n",
    "    for answer in answers:\n",
    "        if answer in correct:\n",
    "            marks += 1\n",
    "            correct[answer] -= 1\n",
    "            if correct[answer] == 0:\n",
    "                correct.pop(answer)\n",
    "\n",
    "    return marks\n",
    "\n",
    "# Testing the solution\n",
    "assert question_marks(1, \"ABCD\") == 4\n",
    "assert question_marks(2, \"AAAAAAAA\") == 2\n",
    "assert question_marks(2, \"AAAABBBB\") == 4\n",
    "assert question_marks(2, \"????????\") == 0\n",
    "assert question_marks(3, \"ABCABCABCABC\") == 9\n",
    "assert question_marks(5, \"ACADC??ACAC?DCAABC?C\") == 13"
   ]
  },
  {
   "cell_type": "code",
   "execution_count": 15,
   "id": "54e56c2f",
   "metadata": {
    "execution": {
     "iopub.execute_input": "2024-08-15T16:56:15.454925Z",
     "iopub.status.busy": "2024-08-15T16:56:15.454545Z",
     "iopub.status.idle": "2024-08-15T16:56:15.459932Z",
     "shell.execute_reply": "2024-08-15T16:56:15.459437Z"
    },
    "lines_to_next_cell": 1,
    "papermill": {
     "duration": 0.016765,
     "end_time": "2024-08-15T16:56:15.461089",
     "exception": false,
     "start_time": "2024-08-15T16:56:15.444324",
     "status": "completed"
    },
    "tags": []
   },
   "outputs": [],
   "source": [
    "def parity_and_sum(N: int, nums: list[int]) -> int:\n",
    "    # Split into odd / even\n",
    "    odd: list[int] = []\n",
    "    even: list[int] = []\n",
    "    for n in nums:\n",
    "        if n % 2 == 0:\n",
    "            even.append(n)\n",
    "        else:\n",
    "            odd.append(n)\n",
    "\n",
    "    # Sort odd and even\n",
    "    odd.sort(reverse=False)\n",
    "    even.sort(reverse=True)\n",
    "\n",
    "    # Check the smallest in odd and largest in even\n",
    "    moves = 0\n",
    "    while odd and even:\n",
    "        moves += 1\n",
    "        if even[-1] < odd[-1]:\n",
    "            odd.append(even.pop() + odd[-1])\n",
    "        else:\n",
    "            odd[-1] += even[0]\n",
    "\n",
    "    return moves\n",
    "\n",
    "# Testing the solution\n",
    "assert parity_and_sum(4, [1,4,10,12]) == 4\n",
    "assert parity_and_sum(5, [1,3,5,7,9]) == 0\n",
    "assert parity_and_sum(4, [4,4,4,4]) == 0\n",
    "assert parity_and_sum(3, [2,3,4]) == 2\n",
    "assert parity_and_sum(4, [3,2,2,8]) == 4\n",
    "assert parity_and_sum(6, [4,3,6,1,2,1]) == 3"
   ]
  },
  {
   "cell_type": "code",
   "execution_count": 16,
   "id": "2ce915ba",
   "metadata": {
    "execution": {
     "iopub.execute_input": "2024-08-15T16:56:15.480721Z",
     "iopub.status.busy": "2024-08-15T16:56:15.480363Z",
     "iopub.status.idle": "2024-08-15T16:56:15.486271Z",
     "shell.execute_reply": "2024-08-15T16:56:15.485775Z"
    },
    "lines_to_next_cell": 1,
    "papermill": {
     "duration": 0.016969,
     "end_time": "2024-08-15T16:56:15.487468",
     "exception": false,
     "start_time": "2024-08-15T16:56:15.470499",
     "status": "completed"
    },
    "tags": []
   },
   "outputs": [],
   "source": [
    "def light_switches(N: int, K: int, install_time: list[int]) -> int:\n",
    "    start, end = install_time[0], install_time[0] + K - 1\n",
    "    for time in install_time[1:]:\n",
    "        curr_start, curr_end = time, time + K - 1\n",
    "\n",
    "        # Always ensure that start, end is the greater\n",
    "        if start < curr_start:\n",
    "            start, end, curr_start, curr_end = curr_start, curr_end, start, end\n",
    "\n",
    "        # If they don't overlap, try to increase them to the nearest range\n",
    "        if curr_end < start:\n",
    "            factor = math.ceil((start - curr_end) / (2 * K))\n",
    "            curr_start, curr_end = curr_start + (factor * 2 * K), curr_end + (factor * 2 * K)\n",
    "\n",
    "        # Check if overlap\n",
    "        start, end = max(start, curr_start), min(end, curr_end)\n",
    "\n",
    "        if end < start:\n",
    "            return -1\n",
    "\n",
    "    return start\n",
    "\n",
    "# Testing the solution\n",
    "assert light_switches(3, 3, [6,2,1]) == 8\n",
    "assert light_switches(7, 5, [14,34,6,25,46,7,17]) == 47\n",
    "assert light_switches(4, 3, [2,3,4,5]) == -1\n",
    "assert light_switches(4, 4, [2,3,4,5]) == 5\n",
    "assert light_switches(4, 3, [3,4,8,9]) == 10\n",
    "assert light_switches(1, 1, [1]) == 1\n",
    "assert light_switches(6, 5, [40,80,99,60,90,50]) == 100\n",
    "assert light_switches(6, 5, [64,40,50,68,70,10]) == -1"
   ]
  },
  {
   "cell_type": "markdown",
   "id": "e2ae8f80",
   "metadata": {
    "papermill": {
     "duration": 0.009418,
     "end_time": "2024-08-15T16:56:15.506427",
     "exception": false,
     "start_time": "2024-08-15T16:56:15.497009",
     "status": "completed"
    },
    "tags": []
   },
   "source": [
    "Upsolving CF Div - 2"
   ]
  },
  {
   "cell_type": "code",
   "execution_count": 17,
   "id": "8ffc5df0",
   "metadata": {
    "execution": {
     "iopub.execute_input": "2024-08-15T16:56:15.526963Z",
     "iopub.status.busy": "2024-08-15T16:56:15.526468Z",
     "iopub.status.idle": "2024-08-15T16:56:15.533916Z",
     "shell.execute_reply": "2024-08-15T16:56:15.533434Z"
    },
    "lines_to_next_cell": 1,
    "papermill": {
     "duration": 0.018997,
     "end_time": "2024-08-15T16:56:15.535083",
     "exception": false,
     "start_time": "2024-08-15T16:56:15.516086",
     "status": "completed"
    },
    "tags": []
   },
   "outputs": [],
   "source": [
    "def medimize(N: int, K: int, nums: list[int]) -> int:\n",
    "    \"\"\"\n",
    "    Use binary search to find the maximum median - straight forward\n",
    "    Use DP to check if a given median can be formed or not - Convert nums into binary nums of 1 or -1\n",
    "\n",
    "    After removing K elements, we would be left with `K if N % K == 0 else N % K elements'\n",
    "    The recursive solution would be a pick / nopick, if no pick we skip k elements\n",
    "\n",
    "    Final array would contain elements:\n",
    "\n",
    "    ai0, ai1, ai2, ... aim\n",
    "    i0 = 0 mod k\n",
    "    i1 = 1 mod k\n",
    "    ..\n",
    "    im = (m - 1) mod k\n",
    "\n",
    "    Since we have 'B' with either -1 or 1, if the sum(b) > 0 then true else false\n",
    "\n",
    "    In check function, why > 0?\n",
    "    We are not checking if the median itself is possible, we are simply checking if a value greater\n",
    "    than or equal to median is possible to be the answer\n",
    "\n",
    "    For instance: [5,1,6,9,4,8,3,2] | K = 4; here 3 itself is not possible to be the median but check(3) is still true\n",
    "    We are checking if a value greater than or equal to 3 can be the answer.\n",
    "\n",
    "    \"\"\"\n",
    "    def check_brute(median: int, B: list[int]) -> bool:\n",
    "        @functools.cache\n",
    "        def backtrack(curr: int, R: int) -> float:\n",
    "            if R == 0:\n",
    "                return 0\n",
    "            elif curr >= N:\n",
    "                return -math.inf\n",
    "            else:\n",
    "                return max(B[curr] + backtrack(curr + 1, R - 1), backtrack(curr + K, R))\n",
    "\n",
    "        remaining = K if N % K == 0 else N % K\n",
    "        return backtrack(0, remaining) > 0\n",
    "\n",
    "    def check(median: int, B: list[int]) -> bool:\n",
    "        dp: list[int] = [0 for i in range(len(B))]\n",
    "        dp[0] = B[0]\n",
    "        for i in range(1, len(B)):\n",
    "            if i % K == 0:\n",
    "                dp[i] = max(dp[i - K], B[i])\n",
    "            else:\n",
    "                dp[i] = dp[i - 1] + B[i]\n",
    "                if i > K:\n",
    "                    dp[i] = max(dp[i], dp[i - K])\n",
    "\n",
    "        return dp[-1] > 0\n",
    "\n",
    "    low, high = min(nums), max(nums)\n",
    "    while low <= high:\n",
    "        mid = (low + high) // 2\n",
    "        if check(mid, [-1 if n < mid else 1 for n in nums]):\n",
    "            low = mid + 1\n",
    "        else:\n",
    "            high = mid - 1\n",
    "\n",
    "    return high\n",
    "\n",
    "# Testing the solution\n",
    "assert medimize(8, 2, [7,1,2,6,8,3,4,5]) == 6\n",
    "assert medimize(4, 5, [3,4,5,6]) == 4\n",
    "assert medimize(7, 1, [5,9,2,6,5,4,6]) == 9\n",
    "assert medimize(5, 3, [3,2,5,6,4]) == 4\n",
    "assert medimize(4, 3, [3,9,9,2]) == 3"
   ]
  },
  {
   "cell_type": "code",
   "execution_count": 18,
   "id": "382ad84d",
   "metadata": {
    "execution": {
     "iopub.execute_input": "2024-08-15T16:56:15.555297Z",
     "iopub.status.busy": "2024-08-15T16:56:15.554806Z",
     "iopub.status.idle": "2024-08-15T16:56:15.560746Z",
     "shell.execute_reply": "2024-08-15T16:56:15.560268Z"
    },
    "lines_to_next_cell": 1,
    "papermill": {
     "duration": 0.017396,
     "end_time": "2024-08-15T16:56:15.561909",
     "exception": false,
     "start_time": "2024-08-15T16:56:15.544513",
     "status": "completed"
    },
    "tags": []
   },
   "outputs": [],
   "source": [
    "def scripted_robot(N: int, K: int, W: int, H: int, script: str) -> int:\n",
    "    \"\"\"\n",
    "    Iterate once through the script and store the valid positions that we end up at after executing each script.\n",
    "\n",
    "    To make things easier, we can observe that if we left the robot to move undetered, it would basically be the same as\n",
    "    the robot following the rules after |2 * H| or |2 * W| steps along the y axis and x axis respectively.\n",
    "\n",
    "    Next assume after executing the script we end up at some position that is dx, dy from origin.\n",
    "    Inorder to hit (0, 0) we need -dx, -dy so we count number of times we had hit (-dx, -dy) when we first executed the script.\n",
    "\n",
    "    For next iteration we would need to check for -2dx, -2dx.. -3dx, -3dy and so on until K\n",
    "\n",
    "    Note that in other languages x % mod would return a negative number if x is negative, so in tutorials we would see (x + mod) % mod\n",
    "    In python x % mod would be negative only when mod itself is negative\n",
    "    \"\"\"\n",
    "\n",
    "    delta_mapping: dict[str, tuple[int, int]] = {\"L\": (0, -1), \"R\": (0, 1), \"U\": (1, 0), \"D\": (-1, 0)}\n",
    "    counts: collections.defaultdict[tuple[int, int], int] = collections.defaultdict(int)\n",
    "    mod_x, mod_y = 2 * W, 2 * H\n",
    "\n",
    "    # Compute positions where the robot would end up inside the box\n",
    "    x, y = 0, 0\n",
    "    for command in script:\n",
    "        # Compute the position post command, undetered by boundaries\n",
    "        delta = delta_mapping[command]\n",
    "        x, y = x + delta[1], y + delta[0]\n",
    "\n",
    "        # Making use of the `mirrored` property\n",
    "        x, y = x % mod_x, y % mod_y\n",
    "        counts[(x, y)] += 1\n",
    "\n",
    "    # For each k in 0..k-1, compute the number of times -i * dx, -i * dy could be found\n",
    "    # Why check for -dx, -dy? Because dx + (-dx), dy + (-dy) would give us (0, 0)\n",
    "    # which is what we are tracking\n",
    "    dx, dy = x, y\n",
    "    result = 0\n",
    "    for i in range(K):\n",
    "        x = (-i * dx) % mod_x\n",
    "        y = (-i * dy) % mod_y\n",
    "        result += counts[(x, y)]\n",
    "\n",
    "    return result\n",
    "\n",
    "# Testing the solution\n",
    "assert scripted_robot(2, 2, 2, 2, \"UR\") == 0\n",
    "assert scripted_robot(4, 2, 1, 1, \"LLDD\") == 4\n",
    "assert scripted_robot(6, 3, 3, 1, \"RLRRRL\") == 3\n",
    "assert scripted_robot(5, 5, 3, 3, \"RUURD\") == 0\n",
    "assert scripted_robot(7, 5, 3, 4, \"RRDLUUU\") == 1"
   ]
  },
  {
   "cell_type": "markdown",
   "id": "4910b398",
   "metadata": {
    "papermill": {
     "duration": 0.009259,
     "end_time": "2024-08-15T16:56:15.580717",
     "exception": false,
     "start_time": "2024-08-15T16:56:15.571458",
     "status": "completed"
    },
    "tags": []
   },
   "source": [
    "LC Weekly upsolving - Shortest dist after road additions - II"
   ]
  },
  {
   "cell_type": "code",
   "execution_count": 19,
   "id": "10e62cfa",
   "metadata": {
    "execution": {
     "iopub.execute_input": "2024-08-15T16:56:15.600776Z",
     "iopub.status.busy": "2024-08-15T16:56:15.600231Z",
     "iopub.status.idle": "2024-08-15T16:56:15.605444Z",
     "shell.execute_reply": "2024-08-15T16:56:15.604863Z"
    },
    "lines_to_next_cell": 1,
    "papermill": {
     "duration": 0.016763,
     "end_time": "2024-08-15T16:56:15.606825",
     "exception": false,
     "start_time": "2024-08-15T16:56:15.590062",
     "status": "completed"
    },
    "tags": []
   },
   "outputs": [],
   "source": [
    "def shortestDistanceAfterQueriesII(N: int, queries: list[list[int]]) -> list[int]:\n",
    "    \"\"\"\n",
    "    Imagine the roads as a linked list, the idea for each query is to\n",
    "    remove all edges between (i, j) (non inclusive)\n",
    "    \"\"\"\n",
    "    connections: dict[int, int] = {i: i + 1 for i in range(N - 1)}\n",
    "    result: list[int] = []\n",
    "    for n1, n2 in queries:\n",
    "\n",
    "        # Ensure n1 is not deleted by a previous query\n",
    "        # And ensure that the current query is not lesser\n",
    "        # than a previously encountered query\n",
    "        # For eg: we encountered (2, 5) already, (2, 3) is not useful\n",
    "        if n1 in connections and connections[n1] < n2:\n",
    "            curr = connections[n1]\n",
    "            while curr < n2:\n",
    "                curr = connections.pop(curr)\n",
    "            connections[n1] = n2\n",
    "\n",
    "        result.append(len(connections))\n",
    "\n",
    "    return result\n",
    "\n",
    "# Testing the solution\n",
    "assert shortestDistanceAfterQueriesII(5, [[2,4],[0,2],[0,4]]) == [3,2,1]\n",
    "assert shortestDistanceAfterQueriesII(4, [[0,3],[0,2]]) == [1,1]"
   ]
  },
  {
   "cell_type": "markdown",
   "id": "5e7850b0",
   "metadata": {
    "papermill": {
     "duration": 0.009431,
     "end_time": "2024-08-15T16:56:15.625882",
     "exception": false,
     "start_time": "2024-08-15T16:56:15.616451",
     "status": "completed"
    },
    "tags": []
   },
   "source": [
    "LC Daily Problem"
   ]
  },
  {
   "cell_type": "code",
   "execution_count": 20,
   "id": "a6325537",
   "metadata": {
    "execution": {
     "iopub.execute_input": "2024-08-15T16:56:15.645847Z",
     "iopub.status.busy": "2024-08-15T16:56:15.645333Z",
     "iopub.status.idle": "2024-08-15T16:56:15.649812Z",
     "shell.execute_reply": "2024-08-15T16:56:15.649334Z"
    },
    "lines_to_next_cell": 1,
    "papermill": {
     "duration": 0.015904,
     "end_time": "2024-08-15T16:56:15.651031",
     "exception": false,
     "start_time": "2024-08-15T16:56:15.635127",
     "status": "completed"
    },
    "tags": []
   },
   "outputs": [],
   "source": [
    "def kthDistinct(arr: list[str], k: int) -> str:\n",
    "    \"\"\"\n",
    "    Python has its useful quirks too.\n",
    "    In dictionary the insertion order is preserved.\n",
    "\n",
    "    For arr containing a lot of duplicates, we can quickly skip them since\n",
    "    we would only encounter them once in the freq\n",
    "    \"\"\"\n",
    "    freq: collections.Counter[str] = collections.Counter(arr)\n",
    "    for string in freq:\n",
    "        if freq[string] == 1:\n",
    "            k -= 1\n",
    "        if k == 0:\n",
    "            return string\n",
    "\n",
    "    return \"\"\n",
    "\n",
    "# Testing the solution\n",
    "assert kthDistinct([\"d\",\"b\",\"c\",\"b\",\"c\",\"a\"], k = 2) == \"a\"\n",
    "assert kthDistinct([\"aaa\",\"aa\",\"a\"], k = 1) == \"aaa\"\n",
    "assert kthDistinct([\"a\",\"b\",\"a\"], k = 3) == \"\""
   ]
  },
  {
   "cell_type": "markdown",
   "id": "48746f93",
   "metadata": {
    "papermill": {
     "duration": 0.009402,
     "end_time": "2024-08-15T16:56:15.669891",
     "exception": false,
     "start_time": "2024-08-15T16:56:15.660489",
     "status": "completed"
    },
    "tags": []
   },
   "source": [
    "Striver's CP Sheet"
   ]
  },
  {
   "cell_type": "code",
   "execution_count": 21,
   "id": "a8154c4b",
   "metadata": {
    "execution": {
     "iopub.execute_input": "2024-08-15T16:56:15.690202Z",
     "iopub.status.busy": "2024-08-15T16:56:15.689681Z",
     "iopub.status.idle": "2024-08-15T16:56:15.695253Z",
     "shell.execute_reply": "2024-08-15T16:56:15.694750Z"
    },
    "lines_to_next_cell": 1,
    "papermill": {
     "duration": 0.017101,
     "end_time": "2024-08-15T16:56:15.696424",
     "exception": false,
     "start_time": "2024-08-15T16:56:15.679323",
     "status": "completed"
    },
    "tags": []
   },
   "outputs": [],
   "source": [
    "def wet_shark_and_blocks_brute(N: int, B: int, K: int, X: int, nums: list[int]) -> int:\n",
    "    # Return ans mod\n",
    "    MOD = 10 ** 9 + 7\n",
    "\n",
    "    # Convert block of nums into freq\n",
    "    freq: list[int] = [0 for i in range(10)]\n",
    "    for n in nums:\n",
    "        freq[n] += 1\n",
    "\n",
    "    # return backtrack(0, 0)\n",
    "    dp: list[int] = [0 if i != K else 1 for i in range(X)]\n",
    "    for blocks in range(B):\n",
    "        next_dp: list[int] = [0 for i in range(X)]\n",
    "        for total in range(X):\n",
    "            for next_ in range(1, 10):\n",
    "                next_dp[total] = (next_dp[total] + freq[next_] * dp[(total * 10 + next_) % X]) % MOD\n",
    "        dp = next_dp\n",
    "\n",
    "    return dp[K]\n",
    "\n",
    "# Testing the solution\n",
    "assert wet_shark_and_blocks_brute(12, 1, 5, 10, [3,5,6,7,8,9,5,1,1,1,1,5]) == 3\n",
    "assert wet_shark_and_blocks_brute(3, 2, 1, 2, [6,2,2]) == 0\n",
    "assert wet_shark_and_blocks_brute(3, 2, 1, 2, [3,1,2]) == 6"
   ]
  },
  {
   "cell_type": "code",
   "execution_count": 22,
   "id": "312b4d88",
   "metadata": {
    "execution": {
     "iopub.execute_input": "2024-08-15T16:56:15.716825Z",
     "iopub.status.busy": "2024-08-15T16:56:15.716389Z",
     "iopub.status.idle": "2024-08-15T16:56:15.724673Z",
     "shell.execute_reply": "2024-08-15T16:56:15.724114Z"
    },
    "lines_to_next_cell": 1,
    "papermill": {
     "duration": 0.019819,
     "end_time": "2024-08-15T16:56:15.725956",
     "exception": false,
     "start_time": "2024-08-15T16:56:15.706137",
     "status": "completed"
    },
    "tags": []
   },
   "outputs": [],
   "source": [
    "def wet_shark_and_blocks(N: int, B: int, K: int, X: int, nums: list[int]) -> int:\n",
    "    def matrix_multiply(A: list[list[int]], B: list[list[int]], mod: int) -> list[list[int]]:\n",
    "        M, N, P, Q = len(A), len(A[0]), len(B), len(B[0])\n",
    "        assert N == P, \"Invalid dimensions provided.\"\n",
    "        result: list[list[int]] = [[0 for j in range(Q)] for i in range(M)]\n",
    "        for i in range(M):\n",
    "            for j in range(Q):\n",
    "                for k in range(N):\n",
    "                    result[i][j] = (result[i][j] + A[i][k] * B[k][j]) % mod\n",
    "        return result\n",
    "\n",
    "    def matrix_power(base: list[list[int]], exp: int, mod: int) -> list[list[int]]:\n",
    "        N = len(base)\n",
    "        result: list[list[int]] = [[1 if i == j else 0 for j in range(N)] for i in range(N)]\n",
    "        while exp:\n",
    "            if exp & 1:\n",
    "                result = matrix_multiply(result, base, mod)\n",
    "            base = matrix_multiply(base, base, mod)\n",
    "            exp >>= 1\n",
    "        return result\n",
    "\n",
    "    # Answer can be very large\n",
    "    MOD = 10 ** 9 + 7\n",
    "\n",
    "    # Create a freq array\n",
    "    freq: list[int] = [0 for i in range(10)]\n",
    "    for n in nums:\n",
    "        freq[n] += 1\n",
    "\n",
    "    # Create transformation matrix\n",
    "    base: list[list[int]] = [[0 for j in range(X)] for i in range(X)]\n",
    "    for total in range(X):\n",
    "        for next_ in range(1, 10):\n",
    "            new_total = (total * 10 + next_) % X\n",
    "            base[new_total][total] = (base[new_total][total] + freq[next_]) % MOD\n",
    "\n",
    "    result = matrix_power(base, B, MOD)\n",
    "    return result[K][0]\n",
    "\n",
    "\n",
    "# Testing the solution\n",
    "assert wet_shark_and_blocks(12, 1, 5, 10, [3,5,6,7,8,9,5,1,1,1,1,5]) == 3\n",
    "assert wet_shark_and_blocks(3, 2, 1, 2, [6,2,2]) == 0\n",
    "assert wet_shark_and_blocks(3, 2, 1, 2, [3,1,2]) == 6"
   ]
  },
  {
   "cell_type": "markdown",
   "id": "707e34d3",
   "metadata": {
    "papermill": {
     "duration": 0.009505,
     "end_time": "2024-08-15T16:56:15.745200",
     "exception": false,
     "start_time": "2024-08-15T16:56:15.735695",
     "status": "completed"
    },
    "tags": []
   },
   "source": [
    "#### CF Div 4 - 6th Aug 2024"
   ]
  },
  {
   "cell_type": "code",
   "execution_count": 23,
   "id": "764c8eb8",
   "metadata": {
    "execution": {
     "iopub.execute_input": "2024-08-15T16:56:15.765534Z",
     "iopub.status.busy": "2024-08-15T16:56:15.765023Z",
     "iopub.status.idle": "2024-08-15T16:56:15.768307Z",
     "shell.execute_reply": "2024-08-15T16:56:15.767807Z"
    },
    "lines_to_next_cell": 1,
    "papermill": {
     "duration": 0.01485,
     "end_time": "2024-08-15T16:56:15.769505",
     "exception": false,
     "start_time": "2024-08-15T16:56:15.754655",
     "status": "completed"
    },
    "tags": []
   },
   "outputs": [],
   "source": [
    "def digit_sum(n: int) -> int:\n",
    "    return n // 10 + n % 10\n",
    "\n",
    "# Testing the solution\n",
    "assert digit_sum(77) == 14\n",
    "assert digit_sum(10) == 1\n",
    "assert digit_sum(48) == 12"
   ]
  },
  {
   "cell_type": "code",
   "execution_count": 24,
   "id": "77241705",
   "metadata": {
    "execution": {
     "iopub.execute_input": "2024-08-15T16:56:15.789731Z",
     "iopub.status.busy": "2024-08-15T16:56:15.789381Z",
     "iopub.status.idle": "2024-08-15T16:56:15.793601Z",
     "shell.execute_reply": "2024-08-15T16:56:15.793058Z"
    },
    "lines_to_next_cell": 1,
    "papermill": {
     "duration": 0.0159,
     "end_time": "2024-08-15T16:56:15.794787",
     "exception": false,
     "start_time": "2024-08-15T16:56:15.778887",
     "status": "completed"
    },
    "tags": []
   },
   "outputs": [],
   "source": [
    "def card_game(a1: int, a2: int, b1: int, b2: int) -> int:\n",
    "    count = 0\n",
    "    if (a1 > b1 and a2 >= b2) or (a2 > b2 and a1 >= b1):\n",
    "        count += 2\n",
    "    if (a1 > b2 and a2 >= b1) or (a2 > b1 and a1 >= b2):\n",
    "        count += 2\n",
    "    return count\n",
    "\n",
    "# Testing the solution\n",
    "assert card_game(3, 8, 2, 6) == 2\n",
    "assert card_game(1, 1, 1, 1) == 0\n",
    "assert card_game(10, 10, 2, 2) == 4\n",
    "assert card_game(1, 1, 10, 10) == 0\n",
    "assert card_game(3, 8, 7, 2) == 2"
   ]
  },
  {
   "cell_type": "code",
   "execution_count": 25,
   "id": "c499f00c",
   "metadata": {
    "execution": {
     "iopub.execute_input": "2024-08-15T16:56:15.815321Z",
     "iopub.status.busy": "2024-08-15T16:56:15.814845Z",
     "iopub.status.idle": "2024-08-15T16:56:15.819284Z",
     "shell.execute_reply": "2024-08-15T16:56:15.818825Z"
    },
    "lines_to_next_cell": 1,
    "papermill": {
     "duration": 0.016051,
     "end_time": "2024-08-15T16:56:15.820538",
     "exception": false,
     "start_time": "2024-08-15T16:56:15.804487",
     "status": "completed"
    },
    "tags": []
   },
   "outputs": [],
   "source": [
    "def showering(N: int, S: int, M: int, tasks: list[tuple[int, int]]) -> bool:\n",
    "    tasks.sort()\n",
    "    prev_end = 0\n",
    "    for start, end in tasks:\n",
    "        if start - prev_end >= S:\n",
    "            return True\n",
    "        prev_end = end\n",
    "\n",
    "    return M - prev_end >= S\n",
    "\n",
    "# Testing the solution\n",
    "assert showering(3, 3, 10, [(3,5), (6,8), (9,10)]) == True\n",
    "assert showering(3, 3, 10, [(1,2), (3,5), (6,7)]) == True\n",
    "assert showering(3, 3, 10, [(1,2), (3,5), (6,8)]) == False\n",
    "assert showering(3, 4, 10, [(1,2), (6,7), (8,9)]) == True"
   ]
  },
  {
   "cell_type": "code",
   "execution_count": 26,
   "id": "cb7a6df0",
   "metadata": {
    "execution": {
     "iopub.execute_input": "2024-08-15T16:56:15.841128Z",
     "iopub.status.busy": "2024-08-15T16:56:15.840576Z",
     "iopub.status.idle": "2024-08-15T16:56:15.845302Z",
     "shell.execute_reply": "2024-08-15T16:56:15.844850Z"
    },
    "lines_to_next_cell": 1,
    "papermill": {
     "duration": 0.016226,
     "end_time": "2024-08-15T16:56:15.846529",
     "exception": false,
     "start_time": "2024-08-15T16:56:15.830303",
     "status": "completed"
    },
    "tags": []
   },
   "outputs": [],
   "source": [
    "def slavic_exam(S: str, T: str) -> str:\n",
    "    i, j, s_length, t_length = 0, 0, len(S), len(T)\n",
    "    result: list[str] = []\n",
    "    for i in range(s_length):\n",
    "        result.append(S[i] if S[i] != \"?\" else T[j] if j < t_length else \"a\")\n",
    "        if j < t_length and (S[i] == T[j] or S[i] == \"?\"):\n",
    "            j += 1\n",
    "\n",
    "    return \"\".join(result) if j == t_length else \"\"\n",
    "\n",
    "# Testing the solution\n",
    "assert slavic_exam(\"?????\", \"xbx\") == \"xbxaa\"\n",
    "assert slavic_exam(\"ab??e\", \"abcde\") == \"abcde\"\n",
    "assert slavic_exam(\"ayy?x\", \"a\") == \"ayyax\"\n",
    "assert slavic_exam(\"ab??e\", \"dac\") == \"\"\n",
    "assert slavic_exam(\"paiu\", \"mom\") == \"\""
   ]
  },
  {
   "cell_type": "markdown",
   "id": "aaa7050f",
   "metadata": {
    "papermill": {
     "duration": 0.009442,
     "end_time": "2024-08-15T16:56:15.866079",
     "exception": false,
     "start_time": "2024-08-15T16:56:15.856637",
     "status": "completed"
    },
    "tags": []
   },
   "source": [
    "#### Upsolving CF Div 4 from yesterday"
   ]
  },
  {
   "cell_type": "code",
   "execution_count": 27,
   "id": "a6f15aa5",
   "metadata": {
    "execution": {
     "iopub.execute_input": "2024-08-15T16:56:15.901568Z",
     "iopub.status.busy": "2024-08-15T16:56:15.901079Z",
     "iopub.status.idle": "2024-08-15T16:56:15.936501Z",
     "shell.execute_reply": "2024-08-15T16:56:15.936025Z"
    },
    "lines_to_next_cell": 1,
    "papermill": {
     "duration": 0.062456,
     "end_time": "2024-08-15T16:56:15.937826",
     "exception": false,
     "start_time": "2024-08-15T16:56:15.875370",
     "status": "completed"
    },
    "tags": []
   },
   "outputs": [],
   "source": [
    "def triple_operations(queries: list[tuple[int, int]]) -> list[int]:\n",
    "    \"\"\"\n",
    "    Attempt to make use of math.log(a, b) failed, reason being the precision point\n",
    "    error in programming languages. math.log(243, 3) => 4.9999999 when it should be 5\n",
    "\n",
    "    math.log(a, b) btw uses math.ln for its calculations, not reliable, hence approach\n",
    "    below where we cache the cost\n",
    "    \"\"\"\n",
    "    # Precompute the cost\n",
    "    MAX = 2 * 10 ** 5\n",
    "    moves: list[int] = [0]\n",
    "    cumulative_moves: list[int] = [0]\n",
    "    for i in range(1, MAX + 1):\n",
    "        moves.append(1 + moves[i // 3])\n",
    "        cumulative_moves.append(moves[-1] + cumulative_moves[-1])\n",
    "\n",
    "    result: list[int] = []\n",
    "    for L, R in queries:\n",
    "        result.append(2 * moves[L] + cumulative_moves[R] - cumulative_moves[L])\n",
    "\n",
    "    return result\n",
    "\n",
    "# Testing the solution\n",
    "assert triple_operations([(1, 3), (2, 4), (19, 84), (243, 245), (242, 243)]) == [5, 6, 263, 24, 16]"
   ]
  },
  {
   "cell_type": "code",
   "execution_count": 28,
   "id": "72a92479",
   "metadata": {
    "execution": {
     "iopub.execute_input": "2024-08-15T16:56:15.957689Z",
     "iopub.status.busy": "2024-08-15T16:56:15.957459Z",
     "iopub.status.idle": "2024-08-15T16:56:18.952205Z",
     "shell.execute_reply": "2024-08-15T16:56:18.951646Z"
    },
    "lines_to_next_cell": 1,
    "papermill": {
     "duration": 3.006338,
     "end_time": "2024-08-15T16:56:18.953777",
     "exception": false,
     "start_time": "2024-08-15T16:56:15.947439",
     "status": "completed"
    },
    "tags": []
   },
   "outputs": [],
   "source": [
    "def expected_median(N: int, K: int, nums: list[int]) -> int:\n",
    "    # Answer modulo mod\n",
    "    MOD = 10 ** 9 + 7\n",
    "\n",
    "    # Precompute factorials and Inv factorials\n",
    "    # Inv Factorial using fermat's little theorem: 1 / a! => a! ** (mod - 2)\n",
    "    factorials: list[int] = [1]\n",
    "    inv_factorials: list[int] = [1]\n",
    "    MAX = 2 * 10 ** 5\n",
    "    for i in range(1, MAX + 1):\n",
    "        factorials.append((i * factorials[-1]) % MOD)\n",
    "        inv_factorials.append(pow(factorials[-1], MOD - 2, MOD))\n",
    "\n",
    "    # Application of Fermat's little theorem - `pow` part\n",
    "    def comb(n: int, r: int) -> int:\n",
    "        # Python can calculate negative powers already\n",
    "        # result = (factorials[n] * pow(factorials[r] * factorials[n - r], -1, MOD)) % MOD\n",
    "        result = (factorials[n] * inv_factorials[r] * inv_factorials[n - r]) % MOD\n",
    "        return result\n",
    "\n",
    "    # Count 1s present\n",
    "    total_ones = sum(nums)\n",
    "\n",
    "    # Count number of subsequences having 1s > K // 2\n",
    "    total_ways = 0\n",
    "    for x in range(K // 2 + 1, min(total_ones, K) + 1):\n",
    "        if K - x <= N - total_ones:\n",
    "            total_ways = (total_ways + comb(total_ones, x) * comb(N - total_ones, K - x)) % MOD\n",
    "\n",
    "    return total_ways\n",
    "\n",
    "# Testing the solution\n",
    "assert expected_median(4, 3, [1,0,0,1]) == 2\n",
    "assert expected_median(5, 1, [1,1,1,1,1]) == 5\n",
    "assert expected_median(5, 5, [0,1,0,1,0]) == 0\n",
    "assert expected_median(6, 3, [1,0,1,0,1,1]) == 16\n",
    "assert expected_median(4, 3, [1,0,1,1]) == 4\n",
    "assert expected_median(5, 3, [1,0,1,1,0]) == 7\n",
    "assert expected_median(2, 1, [0,0]) == 0\n",
    "assert expected_median(34, 17, [1] * 34) == 333606206"
   ]
  },
  {
   "cell_type": "markdown",
   "id": "59cbedb7",
   "metadata": {
    "papermill": {
     "duration": 0.009445,
     "end_time": "2024-08-15T16:56:18.972995",
     "exception": false,
     "start_time": "2024-08-15T16:56:18.963550",
     "status": "completed"
    },
    "tags": []
   },
   "source": [
    "#### Ruler CF"
   ]
  },
  {
   "cell_type": "code",
   "execution_count": 29,
   "id": "14fa6435",
   "metadata": {
    "execution": {
     "iopub.execute_input": "2024-08-15T16:56:18.993065Z",
     "iopub.status.busy": "2024-08-15T16:56:18.992562Z",
     "iopub.status.idle": "2024-08-15T16:56:18.996670Z",
     "shell.execute_reply": "2024-08-15T16:56:18.996208Z"
    },
    "lines_to_next_cell": 1,
    "papermill": {
     "duration": 0.015479,
     "end_time": "2024-08-15T16:56:18.997796",
     "exception": false,
     "start_time": "2024-08-15T16:56:18.982317",
     "status": "completed"
    },
    "tags": []
   },
   "outputs": [],
   "source": [
    "def ruler() -> None:\n",
    "    \"Using Ternery search, split search space into 3 equal chunks\"\n",
    "    T = int(input())\n",
    "    for i in range(T):\n",
    "        low, high = 2, 999\n",
    "        while low <= high:\n",
    "            mid1, mid2 = (2 * low + high) // 3, (2 * high + low) // 3\n",
    "            print(f\"? {mid1} {mid2}\")\n",
    "            area = int(input())\n",
    "            if area == mid1 * mid2:\n",
    "                low = mid2 + 1\n",
    "            elif area == mid1 * (mid2 + 1):\n",
    "                low, high = mid1 + 1, mid2 - 1\n",
    "            else:\n",
    "                high = mid1 - 1\n",
    "        print(f\"! {low}\")"
   ]
  },
  {
   "cell_type": "markdown",
   "id": "56e96f59",
   "metadata": {
    "papermill": {
     "duration": 0.009315,
     "end_time": "2024-08-15T16:56:19.016367",
     "exception": false,
     "start_time": "2024-08-15T16:56:19.007052",
     "status": "completed"
    },
    "tags": []
   },
   "source": [
    "LC POTD: https://leetcode.com/problems/integer-to-english-words/submissions/1348041229"
   ]
  },
  {
   "cell_type": "code",
   "execution_count": 30,
   "id": "2e6ef4f1",
   "metadata": {
    "execution": {
     "iopub.execute_input": "2024-08-15T16:56:19.036542Z",
     "iopub.status.busy": "2024-08-15T16:56:19.035978Z",
     "iopub.status.idle": "2024-08-15T16:56:19.043132Z",
     "shell.execute_reply": "2024-08-15T16:56:19.042660Z"
    },
    "lines_to_next_cell": 1,
    "papermill": {
     "duration": 0.01857,
     "end_time": "2024-08-15T16:56:19.044298",
     "exception": false,
     "start_time": "2024-08-15T16:56:19.025728",
     "status": "completed"
    },
    "tags": []
   },
   "outputs": [],
   "source": [
    "def number_to_words(N: int) -> str:\n",
    "    def to_words(N: int) -> str:\n",
    "        results: list[str] = []\n",
    "        if N // 100 > 0:\n",
    "            results.append(f\"{mapping[N // 100]} {mapping[100]}\")\n",
    "            N %= 100\n",
    "        if N > 0:\n",
    "            if N < 21:\n",
    "                results.append(mapping[N])\n",
    "            else:\n",
    "                results.append(f\"{mapping[N // 10 * 10]} {mapping[N % 10]}\" if N % 10 else mapping[N // 10 * 10])\n",
    "\n",
    "        return \" \".join(results)\n",
    "\n",
    "    # Building blocks of english wording of numbers\n",
    "    mapping: dict[int, str] = {\n",
    "        1: \"One\", 2: \"Two\", 3: \"Three\", 4: \"Four\", 5: \"Five\",\n",
    "        6: \"Six\", 7: \"Seven\", 8: \"Eight\", 9: \"Nine\",\n",
    "\n",
    "        11: \"Eleven\", 12: \"Twelve\", 13: \"Thirteen\", 14: \"Fourteen\",\n",
    "        15: \"Fifteen\", 16: \"Sixteen\", 17: \"Seventeen\", 18: \"Eighteen\",\n",
    "        19: \"Nineteen\",\n",
    "\n",
    "        20: \"Twenty\", 30: \"Thirty\", 40: \"Forty\", 50: \"Fifty\", 60: \"Sixty\",\n",
    "        70: \"Seventy\", 80: \"Eighty\", 90: \"Ninety\",\n",
    "\n",
    "        10: \"Ten\", 100: \"Hundred\", 1000: \"Thousand\", 1000000: \"Million\",\n",
    "        1000000000: \"Billion\", 0: \"\"\n",
    "    }\n",
    "\n",
    "    # Idea is to split into groupings of 3\n",
    "    groups: list[int] = []\n",
    "    while N:\n",
    "        groups.append(N % 1000)\n",
    "        N //= 1000\n",
    "    groups.reverse()\n",
    "\n",
    "    if groups:\n",
    "        words: list[str] = list(map(to_words, groups))\n",
    "        curr = 1\n",
    "        for i in range(-2, -(len(words) + 1), -1):\n",
    "            curr *= 1000\n",
    "            if words[i]:\n",
    "                words[i] = f\"{words[i]} {mapping[curr]}\"\n",
    "\n",
    "        # Remove any \"\"\n",
    "        words = list(filter(lambda x: len(x), words))\n",
    "\n",
    "    else:\n",
    "        words = [\"Zero\"]\n",
    "\n",
    "    result = \" \".join(words)\n",
    "    return result\n",
    "\n",
    "# Testing the solution\n",
    "assert number_to_words(30) == \"Thirty\"\n",
    "assert number_to_words(100) == \"One Hundred\"\n",
    "assert number_to_words(0) == \"Zero\"\n",
    "assert number_to_words(2147483647) == \"Two Billion One Hundred Forty Seven Million Four Hundred Eighty Three Thousand Six Hundred Forty Seven\"\n",
    "assert number_to_words(123) == \"One Hundred Twenty Three\"\n",
    "assert number_to_words(12345) == \"Twelve Thousand Three Hundred Forty Five\""
   ]
  },
  {
   "cell_type": "markdown",
   "id": "564e5f48",
   "metadata": {
    "papermill": {
     "duration": 0.0093,
     "end_time": "2024-08-15T16:56:19.063049",
     "exception": false,
     "start_time": "2024-08-15T16:56:19.053749",
     "status": "completed"
    },
    "tags": []
   },
   "source": [
    "#### CF Practice - Trie"
   ]
  },
  {
   "cell_type": "code",
   "execution_count": 31,
   "id": "bacc33cb",
   "metadata": {
    "execution": {
     "iopub.execute_input": "2024-08-15T16:56:19.082790Z",
     "iopub.status.busy": "2024-08-15T16:56:19.082573Z",
     "iopub.status.idle": "2024-08-15T16:56:19.090220Z",
     "shell.execute_reply": "2024-08-15T16:56:19.089622Z"
    },
    "lines_to_next_cell": 1,
    "papermill": {
     "duration": 0.019124,
     "end_time": "2024-08-15T16:56:19.091457",
     "exception": false,
     "start_time": "2024-08-15T16:56:19.072333",
     "status": "completed"
    },
    "tags": []
   },
   "outputs": [],
   "source": [
    "def vasiley_multiset() -> None:\n",
    "    BIT_LENGTH = 32\n",
    "\n",
    "    class Node:\n",
    "        one: 'Node|None'\n",
    "        zero: 'Node|None'\n",
    "        count: int\n",
    "\n",
    "        def __init__(self, count: int) -> None:\n",
    "            self.count = count\n",
    "            self.one = None\n",
    "            self.zero = None\n",
    "\n",
    "        def __str__(self) -> str:\n",
    "            return f\"count: {self.count} ({self.zero} | {self.one})\"\n",
    "\n",
    "    def insert(curr: Node, bits: list[int], pos: int) -> None:\n",
    "        curr.count += 1\n",
    "        if pos < BIT_LENGTH:\n",
    "            next_ = curr.one if bits[pos] else curr.zero\n",
    "            if not next_:\n",
    "                next_ = Node(0)\n",
    "            if bits[pos]:\n",
    "                curr.one = next_\n",
    "            else:\n",
    "                curr.zero = next_\n",
    "            insert(next_, bits, pos + 1)\n",
    "\n",
    "    def delete(curr: Node, bits: list[int], pos: int) -> None:\n",
    "        curr.count -= 1\n",
    "        if pos < BIT_LENGTH:\n",
    "            next_: Node = curr.one if bits[pos] else curr.zero # type: ignore\n",
    "            delete(next_, bits, pos + 1)\n",
    "            if not next_.count:\n",
    "                if bits[pos]:\n",
    "                    curr.one = None\n",
    "                else:\n",
    "                    curr.zero = None\n",
    "\n",
    "    def search(root: Node, bits: list[int]) -> int:\n",
    "        result: int = 0\n",
    "        pos, curr = 0, root\n",
    "        while pos < BIT_LENGTH:\n",
    "            if not curr.zero or (not bits[pos] and curr.one):\n",
    "                result += 2 ** (BIT_LENGTH - pos - 1)\n",
    "                curr = curr.one # type: ignore\n",
    "            else:\n",
    "                curr = curr.zero\n",
    "            pos += 1\n",
    "\n",
    "        return result\n",
    "\n",
    "    # Read input and process queries\n",
    "    Q = int(input())\n",
    "    root: Node = Node(0)\n",
    "    insert(root, list(map(int, \"0\".zfill(BIT_LENGTH))), 0)\n",
    "    for i in range(Q):\n",
    "        inp = input().split()\n",
    "        op, num = inp[0], int(inp[1])\n",
    "        bits = list(map(int, bin(num)[2:].zfill(BIT_LENGTH)))\n",
    "        if op == \"+\":\n",
    "            insert(root, bits, 0)\n",
    "        elif op == \"-\":\n",
    "            delete(root, bits, 0)\n",
    "        else:\n",
    "            print(num ^ search(root, bits))"
   ]
  },
  {
   "cell_type": "code",
   "execution_count": 32,
   "id": "fcce4a6d",
   "metadata": {
    "execution": {
     "iopub.execute_input": "2024-08-15T16:56:19.111881Z",
     "iopub.status.busy": "2024-08-15T16:56:19.111381Z",
     "iopub.status.idle": "2024-08-15T16:56:19.119092Z",
     "shell.execute_reply": "2024-08-15T16:56:19.118634Z"
    },
    "lines_to_next_cell": 1,
    "papermill": {
     "duration": 0.019219,
     "end_time": "2024-08-15T16:56:19.120255",
     "exception": false,
     "start_time": "2024-08-15T16:56:19.101036",
     "status": "completed"
    },
    "tags": []
   },
   "outputs": [],
   "source": [
    "def perfect_security(N: int, encs: list[int], pks: list[int]) -> list[int]:\n",
    "    \"\"\"\n",
    "    Given the pk and encrypted message, return lexiographically smallest message.\n",
    "\n",
    "    Idea is to use a Trie data structure.\n",
    "    Initialize all keys into the root. As we go go through enc, make sure we find pki such that it is 'closest' to enci.\n",
    "    Closest as in, starting from the most significant bit - 1s, 0s match as close as possible. This way xor result would be smallest.\n",
    "    Once a key is picked, remove that key from the trie.\n",
    "    \"\"\"\n",
    "\n",
    "    BIT_LENGTH = 32\n",
    "\n",
    "    class Node:\n",
    "        def __init__(self, count: int = 0) -> None:\n",
    "            self.count: int = count\n",
    "            self.one: 'Node|None' = None\n",
    "            self.zero: 'Node|None' = None\n",
    "\n",
    "    def insert(root: Node, pk: int) -> None:\n",
    "        curr = root\n",
    "        for pos in range(BIT_LENGTH - 1, -1, -1):\n",
    "            curr.count += 1\n",
    "            bit = (pk >> pos) & 1\n",
    "            next_ = (curr.one if bit else curr.zero) or Node()\n",
    "            if bit:\n",
    "                curr.one = next_\n",
    "            else:\n",
    "                curr.zero = next_\n",
    "            curr = next_\n",
    "        curr.count += 1\n",
    "\n",
    "    def search(curr: Node, enc: int) -> int:\n",
    "        \"\"\"Search for the closest matching pk and delete it\"\"\"\n",
    "        result = 0\n",
    "        for pos in range(BIT_LENGTH - 1, -1, -1):\n",
    "            curr.count -= 1\n",
    "            bit = (enc >> pos) & 1\n",
    "            if (not curr.zero or curr.zero.count == 0) or (bit and curr.one and curr.one.count > 0):\n",
    "                result |= 1 << pos\n",
    "                curr = curr.one # type: ignore\n",
    "            else:\n",
    "                curr = curr.zero\n",
    "        curr.count -= 1\n",
    "\n",
    "        return result\n",
    "\n",
    "    # Insert all permuted keys into trie\n",
    "    root = Node()\n",
    "    for pk in pks:\n",
    "        insert(root, pk)\n",
    "\n",
    "    # Get enc message\n",
    "    result: list[int] = []\n",
    "    for enc in encs:\n",
    "        result.append(enc ^ search(root, enc))\n",
    "\n",
    "    return result\n",
    "\n",
    "# Testing the solution\n",
    "assert perfect_security(5, [12,7,87,22,11], [18,39,9,12,16]) == [0,14,69,6,44]\n",
    "assert perfect_security(5, [8,4,13], [17,2,7]) == [10,3,28]\n",
    "assert perfect_security(10, [331415699,278745619,998190004,423175621,42983144,166555524,843586353,802130100,337889448,685310951], [226011312,266003835,342809544,504667531,529814910,684873393,817026985,844010788,993949858,1031395667]) == [128965467,243912600,4281110,112029883,223689619,76924724,429589,119397893,613490433,362863284]"
   ]
  },
  {
   "cell_type": "code",
   "execution_count": 33,
   "id": "cc7dc923",
   "metadata": {
    "execution": {
     "iopub.execute_input": "2024-08-15T16:56:19.139913Z",
     "iopub.status.busy": "2024-08-15T16:56:19.139725Z",
     "iopub.status.idle": "2024-08-15T16:56:19.144298Z",
     "shell.execute_reply": "2024-08-15T16:56:19.143759Z"
    },
    "lines_to_next_cell": 1,
    "papermill": {
     "duration": 0.015761,
     "end_time": "2024-08-15T16:56:19.145409",
     "exception": false,
     "start_time": "2024-08-15T16:56:19.129648",
     "status": "completed"
    },
    "tags": []
   },
   "outputs": [],
   "source": [
    "def beautiful_subarrays_brute(N: int, K: int, nums: list[int]) -> int:\n",
    "    \"\"\"\n",
    "    Do a prefix sum for each invalid k: 1...K-1.\n",
    "    Invalid counts are taken since the maximum valid K can be very large.\n",
    "\n",
    "    Time: O(N x K)\n",
    "    \"\"\"\n",
    "\n",
    "    def countK(k_: int) -> int:\n",
    "        prefix: collections.defaultdict[int, int] = collections.defaultdict(int, {0: 1})\n",
    "        xor = counts = 0\n",
    "        for i in range(N):\n",
    "            xor ^= nums[i]\n",
    "            counts += prefix[xor ^ k_]\n",
    "            prefix[xor] += 1\n",
    "        return counts\n",
    "\n",
    "    total_counts = N * (N + 1) // 2\n",
    "    invalid_counts = sum(countK(k) for k in range(K))\n",
    "    return total_counts - invalid_counts\n",
    "\n",
    "# Testing the solution\n",
    "assert beautiful_subarrays_brute(3, 1, [1,2,3]) == 5\n",
    "assert beautiful_subarrays_brute(3, 2, [1,2,3]) == 3\n",
    "assert beautiful_subarrays_brute(3, 3, [1,2,3]) == 2"
   ]
  },
  {
   "cell_type": "code",
   "execution_count": 34,
   "id": "3a54c4f9",
   "metadata": {
    "execution": {
     "iopub.execute_input": "2024-08-15T16:56:19.165275Z",
     "iopub.status.busy": "2024-08-15T16:56:19.164915Z",
     "iopub.status.idle": "2024-08-15T16:56:19.172199Z",
     "shell.execute_reply": "2024-08-15T16:56:19.171665Z"
    },
    "lines_to_next_cell": 1,
    "papermill": {
     "duration": 0.018464,
     "end_time": "2024-08-15T16:56:19.173356",
     "exception": false,
     "start_time": "2024-08-15T16:56:19.154892",
     "status": "completed"
    },
    "tags": []
   },
   "outputs": [],
   "source": [
    "def beautiful_subarrays(N: int, K: int, nums: list[int]) -> int:\n",
    "    \"\"\"\n",
    "    1. We keep track of all the accumulated xor in a Trie: Si\n",
    "    2. For each Sj (j > i), we count number of Si such that Si ^ Sj >= K.\n",
    "    3. We do step 2 by traversing at a bit level most significant to least significant bit.\n",
    "    4. At each level check if setting curr bit would ensure that curr >= K, if it does all subtrees\n",
    "       to the opp end of tree are valid and we increment the count but no of child nodes in the opp branch of the tree\n",
    "    5. If setting curr bit would result in curr < K, we still need to update curr - we set curr bit and traverse to the\n",
    "       other end of the subtree.\n",
    "    \"\"\"\n",
    "\n",
    "    BIT_LENGTH = 30\n",
    "\n",
    "    class Node:\n",
    "        def __init__(self, counts: int = 0):\n",
    "            self.counts = counts\n",
    "            self.zero: 'Node|None' = None\n",
    "            self.one: 'Node|None' = None\n",
    "\n",
    "    def insert(root: Node, x: int) -> None:\n",
    "        curr, digit = root, 1 << (BIT_LENGTH - 1)\n",
    "        while digit:\n",
    "            curr.counts += 1\n",
    "            bit = x & digit\n",
    "            digit >>= 1\n",
    "            if bit:\n",
    "                next_ = curr.one or Node()\n",
    "                curr.one = next_\n",
    "            else:\n",
    "                next_ = curr.zero or Node()\n",
    "                curr.zero = next_\n",
    "            curr = next_\n",
    "        curr.counts += 1\n",
    "\n",
    "    def count_beautiful_subarrays(root: Node, x: int, k: int) -> int:\n",
    "        curr: Node|None = root\n",
    "        counts, acc, digit = 0, 0, 1 << (BIT_LENGTH - 1)\n",
    "        while curr and digit:\n",
    "            bit = x & digit\n",
    "            if (acc | digit) >= k:\n",
    "                opp = curr.zero if bit else curr.one\n",
    "                counts += opp.counts if opp else 0\n",
    "                curr = curr.one if bit else curr.zero\n",
    "            else:\n",
    "                acc |= digit\n",
    "                curr = curr.zero if bit else curr.one\n",
    "            digit >>= 1\n",
    "\n",
    "        return counts\n",
    "\n",
    "    # ------------------- MAIN LOGIC -------------------\n",
    "\n",
    "    root = Node()\n",
    "\n",
    "    # Init 0 to account of subarrays starting at idx 0\n",
    "    insert(root, 0)\n",
    "\n",
    "    acc = result = 0\n",
    "    for i in range(N):\n",
    "        acc ^= nums[i]\n",
    "        result += count_beautiful_subarrays(root, acc, K)\n",
    "        insert(root, acc)\n",
    "\n",
    "    return result\n",
    "\n",
    "# Testing the solution\n",
    "assert beautiful_subarrays(3, 1, [1,2,3]) == 5\n",
    "assert beautiful_subarrays(3, 2, [1,2,3]) == 3\n",
    "assert beautiful_subarrays(3, 3, [1,2,3]) == 2\n",
    "assert beautiful_subarrays(1, 1, [1]) == 1"
   ]
  },
  {
   "cell_type": "code",
   "execution_count": 35,
   "id": "2281d889",
   "metadata": {
    "execution": {
     "iopub.execute_input": "2024-08-15T16:56:19.192987Z",
     "iopub.status.busy": "2024-08-15T16:56:19.192542Z",
     "iopub.status.idle": "2024-08-15T16:56:19.198697Z",
     "shell.execute_reply": "2024-08-15T16:56:19.198160Z"
    },
    "lines_to_next_cell": 1,
    "papermill": {
     "duration": 0.017192,
     "end_time": "2024-08-15T16:56:19.199839",
     "exception": false,
     "start_time": "2024-08-15T16:56:19.182647",
     "status": "completed"
    },
    "tags": []
   },
   "outputs": [],
   "source": [
    "def dr_evil_underscores(N: int, nums: list[int]) -> int:\n",
    "    \"\"\"\n",
    "    1. Store all the nums into a Binary Trie data structure\n",
    "    2. Iterate through the trie until end is reached\n",
    "        - If single branch exist, X would be set as the same bit to ensure acc value would be 0\n",
    "        - If multiple branches exist, no matter whether we set X that bit we would still have acc 1.\n",
    "        - When end is hit, return min of all such accumulated values\n",
    "    \"\"\"\n",
    "\n",
    "    BIT_LENGTH = 32\n",
    "\n",
    "    class Node:\n",
    "        def __init__(self) -> None:\n",
    "            self.one: 'Node|None' = None\n",
    "            self.zero: 'Node|None' = None\n",
    "\n",
    "    # Insert all of nums into a Trie DS\n",
    "    root = Node()\n",
    "    for x in nums:\n",
    "        curr = root\n",
    "        digit = 1 << (BIT_LENGTH - 1)\n",
    "        while digit:\n",
    "            if x & digit:\n",
    "                next_ = curr.one or Node()\n",
    "                curr.one = next_\n",
    "            else:\n",
    "                next_ = curr.zero or Node()\n",
    "                curr.zero = next_\n",
    "            curr, digit = next_, digit >> 1\n",
    "\n",
    "    # Iterate through nums once again, find out the max xor for each\n",
    "    result = max(nums)\n",
    "    stack: list[tuple[Node|None, int, int]] = [(root, 1 << BIT_LENGTH, 0)]\n",
    "    while stack:\n",
    "        curr_node, depth_mask, acc = stack.pop()\n",
    "        if depth_mask and curr_node:\n",
    "            depth_mask >>= 1\n",
    "            if curr_node.one and curr_node.zero:\n",
    "                stack.append((curr_node.one, depth_mask, acc | depth_mask))\n",
    "                stack.append((curr_node.zero, depth_mask, acc | depth_mask))\n",
    "            else:\n",
    "                stack.append((curr_node.one if curr_node.one else curr_node.zero, depth_mask, acc))\n",
    "        else:\n",
    "            result = min(result, acc)\n",
    "\n",
    "    return result\n",
    "\n",
    "# Testing the solution\n",
    "assert dr_evil_underscores(3, [1,2,3]) == 2\n",
    "assert dr_evil_underscores(2, [1,5]) == 4\n",
    "assert dr_evil_underscores(2, [0, 1073741823]) == 536870912\n",
    "assert dr_evil_underscores(1, [12123]) == 0"
   ]
  },
  {
   "cell_type": "code",
   "execution_count": 36,
   "id": "d9958284",
   "metadata": {
    "execution": {
     "iopub.execute_input": "2024-08-15T16:56:19.219936Z",
     "iopub.status.busy": "2024-08-15T16:56:19.219492Z",
     "iopub.status.idle": "2024-08-15T16:56:19.225800Z",
     "shell.execute_reply": "2024-08-15T16:56:19.225257Z"
    },
    "lines_to_next_cell": 1,
    "papermill": {
     "duration": 0.017747,
     "end_time": "2024-08-15T16:56:19.227074",
     "exception": false,
     "start_time": "2024-08-15T16:56:19.209327",
     "status": "completed"
    },
    "tags": []
   },
   "outputs": [],
   "source": [
    "def polycarpus_phonebook(N: int, contacts: list[str]) -> list[str]:\n",
    "    class Node:\n",
    "        def __init__(self) -> None:\n",
    "            self.ids: set[int] = set()\n",
    "            self.next: dict[str, 'Node'] = dict()\n",
    "\n",
    "    # Store all valid substrings into the trie\n",
    "    phonebook = Node()\n",
    "    for id_, contact in enumerate(contacts):\n",
    "        for i in range(9):\n",
    "            curr = phonebook\n",
    "            curr.ids.add(id_)\n",
    "            for j in range(i, 9):\n",
    "                curr.next[contact[j]] = curr.next.get(contact[j], Node())\n",
    "                curr = curr.next[contact[j]]\n",
    "                curr.ids.add(id_)\n",
    "\n",
    "    # Iterate through numbers again to find the minimum\n",
    "    # required substr to uniquely identify contact\n",
    "    results: list[str] = []\n",
    "    for contact in contacts:\n",
    "        start, end = 0, 8\n",
    "        for i in range(9):\n",
    "            curr = phonebook\n",
    "            for j in range(i, 9):\n",
    "                curr = curr.next[contact[j]]\n",
    "                if len(curr.ids) == 1 and j - i + 1 < end - start + 1:\n",
    "                    start, end = i, j\n",
    "        results.append(contact[start: end + 1])\n",
    "\n",
    "    return results\n",
    "\n",
    "# Testing the solution\n",
    "assert list(map(len, polycarpus_phonebook(3, [\"123456789\", \"100000000\", \"100123456\"]))) == [1, 3, 2]\n",
    "assert list(map(len, polycarpus_phonebook(4, [\"123456789\", \"193456789\", \"134567819\", \"934567891\"]))) == [1, 3, 2, 2]"
   ]
  },
  {
   "cell_type": "markdown",
   "id": "10366d55",
   "metadata": {
    "papermill": {
     "duration": 0.009331,
     "end_time": "2024-08-15T16:56:19.245662",
     "exception": false,
     "start_time": "2024-08-15T16:56:19.236331",
     "status": "completed"
    },
    "tags": []
   },
   "source": [
    "Codeforces Div 2: 10th Aug 2024"
   ]
  },
  {
   "cell_type": "code",
   "execution_count": 37,
   "id": "b75c272e",
   "metadata": {
    "execution": {
     "iopub.execute_input": "2024-08-15T16:56:19.265082Z",
     "iopub.status.busy": "2024-08-15T16:56:19.264572Z",
     "iopub.status.idle": "2024-08-15T16:56:19.272164Z",
     "shell.execute_reply": "2024-08-15T16:56:19.271621Z"
    },
    "lines_to_next_cell": 1,
    "papermill": {
     "duration": 0.01851,
     "end_time": "2024-08-15T16:56:19.273326",
     "exception": false,
     "start_time": "2024-08-15T16:56:19.254816",
     "status": "completed"
    },
    "tags": []
   },
   "outputs": [
    {
     "data": {
      "text/plain": [
       "{(-1, -1), (0, 0), (1, 1), (2, 2), (3, 3)}"
      ]
     },
     "execution_count": 37,
     "metadata": {},
     "output_type": "execute_result"
    }
   ],
   "source": [
    "def k_distinct_points(x: int, y: int, K: int) -> set[tuple[int, int]]:\n",
    "    points: set[tuple[int, int]] = set()\n",
    "    for i in range(K - 1):\n",
    "        points.add((i, i))\n",
    "    total = ((K - 2) * (K - 1)) // 2\n",
    "    pendingX, pendingY = x * K - total, y * K - total\n",
    "    if (pendingX, pendingY) not in points:\n",
    "        points.add((pendingX, pendingY))\n",
    "    else:\n",
    "        points.remove((pendingX, pendingY))\n",
    "        points.add((2 * K, 2 * K))\n",
    "        points.add((2 * pendingX - 2 * K, 2 * pendingY - 2 * K))\n",
    "\n",
    "    return points\n",
    "\n",
    "# Testing the solution\n",
    "k_distinct_points(1, 1, 5)"
   ]
  },
  {
   "cell_type": "code",
   "execution_count": 38,
   "id": "1b5529d7",
   "metadata": {
    "execution": {
     "iopub.execute_input": "2024-08-15T16:56:19.293523Z",
     "iopub.status.busy": "2024-08-15T16:56:19.293069Z",
     "iopub.status.idle": "2024-08-15T16:56:19.298091Z",
     "shell.execute_reply": "2024-08-15T16:56:19.297598Z"
    },
    "papermill": {
     "duration": 0.016309,
     "end_time": "2024-08-15T16:56:19.299251",
     "exception": false,
     "start_time": "2024-08-15T16:56:19.282942",
     "status": "completed"
    },
    "tags": []
   },
   "outputs": [],
   "source": [
    "def equal_sum_subarrays(N: int, nums: list[int]) -> list[int]:\n",
    "    return nums[1:] + [nums[0]]\n",
    "\n",
    "# Testing the solution\n",
    "def equal_sum_subarrays_test(original: list[int], expected: list[int]) -> int:\n",
    "    def count_pairs(arr1: list[int], arr2: list[int]) -> int:\n",
    "        N = len(arr1)\n",
    "        pair_count = 0\n",
    "        for i in range(N):\n",
    "            sum1 = sum2 = 0\n",
    "            for j in range(i, N):\n",
    "                sum1, sum2 = sum1 + arr1[j], sum2 + arr2[j]\n",
    "                if sum1 == sum2:\n",
    "                    pair_count += 1\n",
    "\n",
    "        return pair_count\n",
    "\n",
    "    return count_pairs(original, equal_sum_subarrays(len(original), original)) == count_pairs(original, expected)\n",
    "\n",
    "assert equal_sum_subarrays_test([1,2], [2,1])\n",
    "assert equal_sum_subarrays_test([1,2,3,4,5], [3,5,4,2,1])\n",
    "assert equal_sum_subarrays_test([4,7,5,1,2,6,3], [6,2,1,4,7,3,5])"
   ]
  },
  {
   "cell_type": "markdown",
   "id": "72f61e90",
   "metadata": {
    "papermill": {
     "duration": 0.009525,
     "end_time": "2024-08-15T16:56:19.318174",
     "exception": false,
     "start_time": "2024-08-15T16:56:19.308649",
     "status": "completed"
    },
    "tags": []
   },
   "source": [
    "Leetcode weekly - 11th Aug 2024"
   ]
  },
  {
   "cell_type": "code",
   "execution_count": 39,
   "id": "0b91d29d",
   "metadata": {
    "execution": {
     "iopub.execute_input": "2024-08-15T16:56:19.338504Z",
     "iopub.status.busy": "2024-08-15T16:56:19.338005Z",
     "iopub.status.idle": "2024-08-15T16:56:19.342017Z",
     "shell.execute_reply": "2024-08-15T16:56:19.341551Z"
    },
    "lines_to_next_cell": 1,
    "papermill": {
     "duration": 0.015318,
     "end_time": "2024-08-15T16:56:19.343194",
     "exception": false,
     "start_time": "2024-08-15T16:56:19.327876",
     "status": "completed"
    },
    "tags": []
   },
   "outputs": [],
   "source": [
    "# Q1\n",
    "def finalPositionOfSnake(N: int, commands: list[str]) -> int:\n",
    "    i = j = 0\n",
    "    for command in commands:\n",
    "        if command == \"UP\":\n",
    "            i, j = i - 1, j\n",
    "        elif command == \"DOWN\":\n",
    "            i, j = i + 1, j\n",
    "        elif command == \"RIGHT\":\n",
    "            i, j = i, j + 1\n",
    "        else:\n",
    "            i, j = i, j - 1\n",
    "\n",
    "    return N * i + j\n",
    "\n",
    "# Testing the solution\n",
    "assert finalPositionOfSnake(2, [\"RIGHT\",\"DOWN\"]) == 3\n",
    "assert finalPositionOfSnake(3, [\"DOWN\",\"RIGHT\",\"UP\"]) == 1"
   ]
  },
  {
   "cell_type": "code",
   "execution_count": 40,
   "id": "13002719",
   "metadata": {
    "execution": {
     "iopub.execute_input": "2024-08-15T16:56:19.363619Z",
     "iopub.status.busy": "2024-08-15T16:56:19.363267Z",
     "iopub.status.idle": "2024-08-15T16:56:19.369199Z",
     "shell.execute_reply": "2024-08-15T16:56:19.368639Z"
    },
    "lines_to_next_cell": 1,
    "papermill": {
     "duration": 0.01736,
     "end_time": "2024-08-15T16:56:19.370489",
     "exception": false,
     "start_time": "2024-08-15T16:56:19.353129",
     "status": "completed"
    },
    "tags": []
   },
   "outputs": [],
   "source": [
    "def countGoodNodes(edges: list[list[int]]) -> int:\n",
    "    # Convert edges into Adjl\n",
    "    adjl: collections.defaultdict[int, list[int]] = collections.defaultdict(list)\n",
    "    for n1, n2 in edges:\n",
    "        adjl[n1].append(n2)\n",
    "        adjl[n2].append(n1)\n",
    "\n",
    "    # Do a recursive call to check if node is good\n",
    "    count = 0\n",
    "    def backtrack(curr: int, prev: int) -> int:\n",
    "        nonlocal count\n",
    "        subtree_counts: list[int] = []\n",
    "        for next_ in adjl[curr]:\n",
    "            if next_ != prev:\n",
    "                subtree_counts.append(backtrack(next_, curr))\n",
    "        count += len(set(subtree_counts)) <= 1\n",
    "        return 1 + sum(subtree_counts)\n",
    "\n",
    "\n",
    "    backtrack(0, -1)\n",
    "    return count\n",
    "\n",
    "# Testing the solution\n",
    "assert countGoodNodes([[2,0],[4,2],[1,2],[3,1],[5,1]]) == 5\n",
    "assert countGoodNodes([[0,1],[0,2],[1,3],[1,4],[2,5],[2,6]]) == 7\n",
    "assert countGoodNodes([[0,1],[1,2],[2,3],[3,4],[0,5],[1,6],[2,7],[3,8]]) == 6\n",
    "assert countGoodNodes([[0,1],[1,2],[1,3],[1,4],[0,5],[5,6],[6,7],[7,8],[0,9],[9,10],[9,12],[10,11]]) == 12"
   ]
  },
  {
   "cell_type": "code",
   "execution_count": 41,
   "id": "a621f38b",
   "metadata": {
    "execution": {
     "iopub.execute_input": "2024-08-15T16:56:19.390503Z",
     "iopub.status.busy": "2024-08-15T16:56:19.390148Z",
     "iopub.status.idle": "2024-08-15T16:56:19.394591Z",
     "shell.execute_reply": "2024-08-15T16:56:19.394074Z"
    },
    "lines_to_next_cell": 1,
    "papermill": {
     "duration": 0.015676,
     "end_time": "2024-08-15T16:56:19.395731",
     "exception": false,
     "start_time": "2024-08-15T16:56:19.380055",
     "status": "completed"
    },
    "tags": []
   },
   "outputs": [],
   "source": [
    "# Q3\n",
    "def countPairs(nums: list[int]) -> int:\n",
    "    @functools.cache\n",
    "    def backtrack(i: int, L: int, R: int) -> int:\n",
    "        if i == N - 1:\n",
    "            return 1\n",
    "        else:\n",
    "            result = 0\n",
    "            for n1 in range(L, nums[i + 1] + 1):\n",
    "                n2 = nums[i + 1] - n1\n",
    "                if n2 <= R:\n",
    "                    result += backtrack(i + 1, n1, n2)\n",
    "            return result % MOD\n",
    "\n",
    "    N = len(nums)\n",
    "    MOD = 10 ** 9 +7\n",
    "    return backtrack(-1, 0, nums[0])\n",
    "\n",
    "# Testing the solution\n",
    "assert countPairs([2,3,2]) == 4\n",
    "assert countPairs([5,5,5,5]) == 126"
   ]
  },
  {
   "cell_type": "markdown",
   "id": "660ec90c",
   "metadata": {
    "papermill": {
     "duration": 0.009343,
     "end_time": "2024-08-15T16:56:19.414821",
     "exception": false,
     "start_time": "2024-08-15T16:56:19.405478",
     "status": "completed"
    },
    "tags": []
   },
   "source": [
    "CP Practice - DP"
   ]
  },
  {
   "cell_type": "code",
   "execution_count": 42,
   "id": "5255be3b",
   "metadata": {
    "execution": {
     "iopub.execute_input": "2024-08-15T16:56:19.434946Z",
     "iopub.status.busy": "2024-08-15T16:56:19.434706Z",
     "iopub.status.idle": "2024-08-15T16:56:19.882080Z",
     "shell.execute_reply": "2024-08-15T16:56:19.881389Z"
    },
    "lines_to_next_cell": 1,
    "papermill": {
     "duration": 0.45967,
     "end_time": "2024-08-15T16:56:19.883970",
     "exception": false,
     "start_time": "2024-08-15T16:56:19.424300",
     "status": "completed"
    },
    "tags": []
   },
   "outputs": [],
   "source": [
    "def classy_nums(queries: list[tuple[int, int]]) -> list[int]:\n",
    "    def backtrack(acc: int, non_zeros: int, digits: int) -> None:\n",
    "        if digits == 19:\n",
    "            precomputed.append(acc)\n",
    "        else:\n",
    "            if non_zeros < 3:\n",
    "                for i in range(10):\n",
    "                    backtrack(acc * 10 + i, non_zeros + (1 if i != 0 else 0), digits + 1)\n",
    "            else:\n",
    "                backtrack(acc * 10, non_zeros, digits + 1)\n",
    "\n",
    "    # Precompute all valid numbers and sort them\n",
    "    precomputed: list[int] = []\n",
    "    backtrack(0, 0, 0)\n",
    "    precomputed.sort()\n",
    "\n",
    "    # Given range use binary search to calculate classy numbers\n",
    "    results: list[int] = []\n",
    "    for L, R in queries:\n",
    "        left, right = bisect.bisect_left(precomputed, L), bisect.bisect_right(precomputed, R) - 1\n",
    "        results.append(right - left + 1)\n",
    "\n",
    "    bisect.bisect_left(precomputed, 9999)\n",
    "    return results\n",
    "\n",
    "# Testing the solution\n",
    "assert classy_nums([(1000000000000000000, 1000000000000000000), (1, 1000), (1024, 1024), (65536, 65536), (999999, 1000001), (6322, 6351)]) == [1, 1000, 1, 0, 2, 3]"
   ]
  },
  {
   "cell_type": "code",
   "execution_count": 43,
   "id": "46faeb54",
   "metadata": {
    "execution": {
     "iopub.execute_input": "2024-08-15T16:56:19.908901Z",
     "iopub.status.busy": "2024-08-15T16:56:19.908458Z",
     "iopub.status.idle": "2024-08-15T16:56:19.912717Z",
     "shell.execute_reply": "2024-08-15T16:56:19.912104Z"
    },
    "lines_to_next_cell": 1,
    "papermill": {
     "duration": 0.018601,
     "end_time": "2024-08-15T16:56:19.914015",
     "exception": false,
     "start_time": "2024-08-15T16:56:19.895414",
     "status": "completed"
    },
    "tags": []
   },
   "outputs": [],
   "source": [
    "def QAQ(S: str) -> int:\n",
    "    N = len(S)\n",
    "    target: str = \"QAQ\"\n",
    "    dp: list[int] = [0 if j < 3 else 1 for j in range(4)]\n",
    "    for i in range(N - 1, -1, -1):\n",
    "        for j in range(3):\n",
    "            if S[i] == target[j]:\n",
    "                dp[j] += dp[j + 1]\n",
    "\n",
    "    return dp[0]\n",
    "\n",
    "# Testing the solution\n",
    "assert QAQ(\"QAQAQYSYIOIWIN\") == 4\n",
    "assert QAQ(\"QAQQQZZYNOIWIN\") == 3"
   ]
  },
  {
   "cell_type": "code",
   "execution_count": 44,
   "id": "e616d7c6",
   "metadata": {
    "execution": {
     "iopub.execute_input": "2024-08-15T16:56:19.939943Z",
     "iopub.status.busy": "2024-08-15T16:56:19.939545Z",
     "iopub.status.idle": "2024-08-15T16:56:19.944988Z",
     "shell.execute_reply": "2024-08-15T16:56:19.944367Z"
    },
    "lines_to_next_cell": 1,
    "papermill": {
     "duration": 0.020628,
     "end_time": "2024-08-15T16:56:19.946255",
     "exception": false,
     "start_time": "2024-08-15T16:56:19.925627",
     "status": "completed"
    },
    "tags": []
   },
   "outputs": [],
   "source": [
    "def napolean_cake(N: int, cream: list[int]) -> list[int]:\n",
    "    cake: list[int] = [0] * N\n",
    "    cream_penetrated: int = N\n",
    "    for i in range(N - 1, -1, -1):\n",
    "        cream_penetrated = min(cream_penetrated, i - cream[i] + 1)\n",
    "        if cream_penetrated <= i:\n",
    "            cake[i] = 1\n",
    "\n",
    "    return cake\n",
    "\n",
    "# Testing the solution\n",
    "assert napolean_cake(6, [0,3,0,0,1,3]) == [1,1,0,1,1,1]\n",
    "assert napolean_cake(10, [0,0,0,1,0,5,0,0,0,2]) == [0,1,1,1,1,1,0,0,1,1]\n",
    "assert napolean_cake(3, [0,0,0]) == [0,0,0]"
   ]
  },
  {
   "cell_type": "code",
   "execution_count": 45,
   "id": "21c911e0",
   "metadata": {
    "execution": {
     "iopub.execute_input": "2024-08-15T16:56:19.977827Z",
     "iopub.status.busy": "2024-08-15T16:56:19.977529Z",
     "iopub.status.idle": "2024-08-15T16:56:19.983484Z",
     "shell.execute_reply": "2024-08-15T16:56:19.982912Z"
    },
    "lines_to_next_cell": 1,
    "papermill": {
     "duration": 0.024127,
     "end_time": "2024-08-15T16:56:19.984939",
     "exception": false,
     "start_time": "2024-08-15T16:56:19.960812",
     "status": "completed"
    },
    "tags": []
   },
   "outputs": [],
   "source": [
    "def red_and_blue(N: int, red_sequence: list[int], M: int, blue_sequence: list[int]) -> int:\n",
    "    \"\"\"\n",
    "    Not my own solution.\n",
    "\n",
    "    Accumulate values in first seq (order doesn't matter), each time we check and update max\n",
    "\n",
    "    Iterate through next seq, this time we start with acc as result, since we can imagine\n",
    "    having accumulated whatever max we had obtained so far as left side of function `f`, all\n",
    "    values to right of the red_sequence would be put at the 'last' (not be part of max portion of f)\n",
    "\n",
    "    Repeat for sec seq to see if we can somehow increase the result.\n",
    "    \"\"\"\n",
    "    result = 0\n",
    "\n",
    "    acc = 0\n",
    "    for n in red_sequence:\n",
    "        acc += n\n",
    "        result = max(acc, result)\n",
    "\n",
    "    acc = result\n",
    "    for n in blue_sequence:\n",
    "        acc += n\n",
    "        result = max(acc, result)\n",
    "\n",
    "    return result\n",
    "\n",
    "# Testing the solution\n",
    "assert red_and_blue(4, [6,-5,7,-3], 3, [2,3,-4]) == 13\n",
    "assert red_and_blue(5, [-1,-2,-3,-4,-5], 5, [-1,-2,-3,-4,-5]) == 0\n",
    "assert red_and_blue(2, [1,1], 4, [10,-3,2,2]) == 13\n",
    "assert red_and_blue(1, [0], 1, [0]) == 0\n",
    "assert red_and_blue(8, [2,1,-3,1,0,2,0,0], 7, [3,-3,-4,-3,4,3,1]) == 6"
   ]
  },
  {
   "cell_type": "markdown",
   "id": "ee92caf3",
   "metadata": {
    "papermill": {
     "duration": 0.026174,
     "end_time": "2024-08-15T16:56:20.023791",
     "exception": false,
     "start_time": "2024-08-15T16:56:19.997617",
     "status": "completed"
    },
    "tags": []
   },
   "source": [
    "CF Div 3 - 13th Aug 2024"
   ]
  },
  {
   "cell_type": "code",
   "execution_count": 46,
   "id": "f08d3512",
   "metadata": {
    "execution": {
     "iopub.execute_input": "2024-08-15T16:56:20.044483Z",
     "iopub.status.busy": "2024-08-15T16:56:20.043999Z",
     "iopub.status.idle": "2024-08-15T16:56:20.047363Z",
     "shell.execute_reply": "2024-08-15T16:56:20.046861Z"
    },
    "lines_to_next_cell": 1,
    "papermill": {
     "duration": 0.014993,
     "end_time": "2024-08-15T16:56:20.048542",
     "exception": false,
     "start_time": "2024-08-15T16:56:20.033549",
     "status": "completed"
    },
    "tags": []
   },
   "outputs": [],
   "source": [
    "def primary_task(S: str) -> bool:\n",
    "    exp: str = S[2:]\n",
    "    base_check: bool = S[:2] == \"10\"\n",
    "    exp_check = not exp.startswith(\"0\") and (exp != \"\" and int(exp) >= 2)\n",
    "    return base_check and exp_check"
   ]
  },
  {
   "cell_type": "code",
   "execution_count": 47,
   "id": "53564e24",
   "metadata": {
    "execution": {
     "iopub.execute_input": "2024-08-15T16:56:20.069540Z",
     "iopub.status.busy": "2024-08-15T16:56:20.068900Z",
     "iopub.status.idle": "2024-08-15T16:56:20.072601Z",
     "shell.execute_reply": "2024-08-15T16:56:20.072044Z"
    },
    "lines_to_next_cell": 1,
    "papermill": {
     "duration": 0.015587,
     "end_time": "2024-08-15T16:56:20.073858",
     "exception": false,
     "start_time": "2024-08-15T16:56:20.058271",
     "status": "completed"
    },
    "tags": []
   },
   "outputs": [],
   "source": [
    "def seating_in_bus(N: int, chrono: list[int]) -> bool:\n",
    "    seats: set[int] = set()\n",
    "    for seat in chrono:\n",
    "        if seats and seat - 1 not in seats and seat + 1 not in seats:\n",
    "            return False\n",
    "        seats.add(seat)\n",
    "    return True"
   ]
  },
  {
   "cell_type": "code",
   "execution_count": 48,
   "id": "ebc67e79",
   "metadata": {
    "execution": {
     "iopub.execute_input": "2024-08-15T16:56:20.094252Z",
     "iopub.status.busy": "2024-08-15T16:56:20.093867Z",
     "iopub.status.idle": "2024-08-15T16:56:20.098450Z",
     "shell.execute_reply": "2024-08-15T16:56:20.097882Z"
    },
    "lines_to_next_cell": 1,
    "papermill": {
     "duration": 0.016085,
     "end_time": "2024-08-15T16:56:20.099613",
     "exception": false,
     "start_time": "2024-08-15T16:56:20.083528",
     "status": "completed"
    },
    "tags": []
   },
   "outputs": [],
   "source": [
    "def numeric_string_template(N: int, template: list[int], M: int, strings: list[str]) -> list[bool]:\n",
    "    str2int: dict[str, int] = dict()\n",
    "    int2str: dict[int, str] = dict()\n",
    "    results: list[bool] = []\n",
    "    for string in strings:\n",
    "        if len(string) != N:\n",
    "            results.append(False)\n",
    "        else:\n",
    "            result = True\n",
    "            for i, ch in enumerate(string):\n",
    "                if (\n",
    "                        (ch not in str2int and template[i] not in int2str) or\n",
    "                        (str2int[ch] == template[i] and int2str[template[i]] == ch)\n",
    "                ):\n",
    "                    str2int[ch], int2str[template[i]] = template[i], ch\n",
    "                else:\n",
    "                    result = False\n",
    "                    break\n",
    "            results.append(result)\n",
    "    return results"
   ]
  },
  {
   "cell_type": "code",
   "execution_count": 49,
   "id": "6a0d2124",
   "metadata": {
    "execution": {
     "iopub.execute_input": "2024-08-15T16:56:20.120041Z",
     "iopub.status.busy": "2024-08-15T16:56:20.119792Z",
     "iopub.status.idle": "2024-08-15T16:56:20.124634Z",
     "shell.execute_reply": "2024-08-15T16:56:20.124140Z"
    },
    "lines_to_next_cell": 1,
    "papermill": {
     "duration": 0.016519,
     "end_time": "2024-08-15T16:56:20.125817",
     "exception": false,
     "start_time": "2024-08-15T16:56:20.109298",
     "status": "completed"
    },
    "tags": []
   },
   "outputs": [],
   "source": [
    "def right_left_wrong(N: int, int_strips: list[int], ch_strips: str) -> int:\n",
    "    # Calculate prefix sum\n",
    "    pre: list[int] = list(itertools.accumulate(int_strips, lambda a, b: a + b))\n",
    "    total, i, j = 0, 0, N - 1\n",
    "    while i < j:\n",
    "        while ch_strips[i] != 'L':\n",
    "            i += 1\n",
    "        while ch_strips[j] != 'R':\n",
    "            j -= 1\n",
    "        if i < j:\n",
    "            total += pre[j] - (pre[i - 1] if i > 0 else 0)\n",
    "            i, j = i + 1, j - 1\n",
    "    return total\n",
    "\n",
    "# Testing the solution\n",
    "assert right_left_wrong(5, [1,2,3,4,5], \"LRLRR\") == 22\n",
    "assert right_left_wrong(2, [3,9], \"RL\") == 0\n",
    "assert right_left_wrong(2, [2,8], \"LR\") == 10\n",
    "assert right_left_wrong(6, [3,5,1,4,3,2], \"LRLLLR\") == 18"
   ]
  },
  {
   "cell_type": "code",
   "execution_count": 50,
   "id": "86dc5094",
   "metadata": {
    "execution": {
     "iopub.execute_input": "2024-08-15T16:56:20.146226Z",
     "iopub.status.busy": "2024-08-15T16:56:20.145740Z",
     "iopub.status.idle": "2024-08-15T16:56:20.153701Z",
     "shell.execute_reply": "2024-08-15T16:56:20.153127Z"
    },
    "lines_to_next_cell": 1,
    "papermill": {
     "duration": 0.019606,
     "end_time": "2024-08-15T16:56:20.154963",
     "exception": false,
     "start_time": "2024-08-15T16:56:20.135357",
     "status": "completed"
    },
    "tags": []
   },
   "outputs": [],
   "source": [
    "def gorilla_photoshoot(N: int, M: int, K: int, W: int, heights: list[int]) -> int:\n",
    "    slots: collections.defaultdict[int, int] = collections.defaultdict(int)\n",
    "    for i in range(N):\n",
    "        for j in range(M):\n",
    "            i_start, i_end = max(0, i - K + 1), min(i, N - K)\n",
    "            j_start, j_end = max(0, j - K + 1), min(j, M - K)\n",
    "            slide_i, slide_j = i_end - i_start + 1, j_end - j_start + 1\n",
    "            slots[slide_i * slide_j] += 1\n",
    "\n",
    "    # Sort the slots and heights by decreasing cost\n",
    "    slots_order: list[tuple[int, int]] = sorted(slots.items())\n",
    "    heights.sort()\n",
    "\n",
    "    # Assign slots to taller gorillas first\n",
    "    spectacle = 0\n",
    "    while heights:\n",
    "        factor, slot_count = slots_order.pop()\n",
    "        while heights and slot_count:\n",
    "            spectacle += factor * heights.pop()\n",
    "            slot_count -= 1\n",
    "    return spectacle\n",
    "\n",
    "# Testing the solution\n",
    "assert gorilla_photoshoot(3, 4, 2, 9, [1] * 9) == 21\n",
    "assert gorilla_photoshoot(9, 5, 5, 6, [6,7,14,16,16,6]) == 319\n",
    "assert gorilla_photoshoot(1984, 1, 1, 4, [5,4,1499,2004]) == 3512\n",
    "assert gorilla_photoshoot(20, 15, 7, 9, [4,1,4,5,6,1,1000000000,898,777]) == 49000083104\n",
    "assert gorilla_photoshoot(2, 1, 1, 2, [5,7]) == 12"
   ]
  },
  {
   "cell_type": "markdown",
   "id": "82a29f60",
   "metadata": {
    "papermill": {
     "duration": 0.009462,
     "end_time": "2024-08-15T16:56:20.173831",
     "exception": false,
     "start_time": "2024-08-15T16:56:20.164369",
     "status": "completed"
    },
    "tags": []
   },
   "source": [
    "CP practice: 14th Aug 2024"
   ]
  },
  {
   "cell_type": "code",
   "execution_count": 51,
   "id": "933640f5",
   "metadata": {
    "execution": {
     "iopub.execute_input": "2024-08-15T16:56:20.194155Z",
     "iopub.status.busy": "2024-08-15T16:56:20.193610Z",
     "iopub.status.idle": "2024-08-15T16:56:20.198276Z",
     "shell.execute_reply": "2024-08-15T16:56:20.197700Z"
    },
    "lines_to_next_cell": 1,
    "papermill": {
     "duration": 0.016399,
     "end_time": "2024-08-15T16:56:20.199551",
     "exception": false,
     "start_time": "2024-08-15T16:56:20.183152",
     "status": "completed"
    },
    "tags": []
   },
   "outputs": [],
   "source": [
    "def fence(N: int, K: int, heights: list[int]) -> int:\n",
    "    curr_total = sum(heights[:K])\n",
    "    min_idx, min_total = 0, curr_total\n",
    "    for i in range(1, N - K + 1):\n",
    "        curr_total = curr_total + heights[i + K - 1] - heights[i - 1]\n",
    "        if curr_total < min_total:\n",
    "            min_idx, min_total = i, curr_total\n",
    "\n",
    "    return min_idx + 1\n",
    "\n",
    "# Testing the solution\n",
    "assert fence(5, 2, [1,5,2,4,6]) in (1, 3)\n",
    "assert fence(7, 3, [1,2,6,1,1,7,1]) == 3"
   ]
  },
  {
   "cell_type": "code",
   "execution_count": 52,
   "id": "4ac4d2cb",
   "metadata": {
    "execution": {
     "iopub.execute_input": "2024-08-15T16:56:20.220095Z",
     "iopub.status.busy": "2024-08-15T16:56:20.219542Z",
     "iopub.status.idle": "2024-08-15T16:56:20.222557Z",
     "shell.execute_reply": "2024-08-15T16:56:20.222068Z"
    },
    "papermill": {
     "duration": 0.014418,
     "end_time": "2024-08-15T16:56:20.223727",
     "exception": false,
     "start_time": "2024-08-15T16:56:20.209309",
     "status": "completed"
    },
    "tags": []
   },
   "outputs": [],
   "source": [
    "# Disjoint Set - CP Practice"
   ]
  },
  {
   "cell_type": "code",
   "execution_count": 53,
   "id": "c109448b",
   "metadata": {
    "execution": {
     "iopub.execute_input": "2024-08-15T16:56:20.243913Z",
     "iopub.status.busy": "2024-08-15T16:56:20.243341Z",
     "iopub.status.idle": "2024-08-15T16:56:20.248835Z",
     "shell.execute_reply": "2024-08-15T16:56:20.248272Z"
    },
    "lines_to_next_cell": 1,
    "papermill": {
     "duration": 0.016934,
     "end_time": "2024-08-15T16:56:20.250102",
     "exception": false,
     "start_time": "2024-08-15T16:56:20.233168",
     "status": "completed"
    },
    "tags": []
   },
   "outputs": [],
   "source": [
    "def little_alawn_puzzle(N: int, row1: list[int], row2: list[int]) -> int:\n",
    "    \"\"\"\n",
    "    Find set of indices that impact one another.\n",
    "    Let us assume there are x such sets, return (2 ** x) % MOD\n",
    "    \"\"\"\n",
    "\n",
    "    MOD = 10 ** 9 + 7\n",
    "\n",
    "    # Store the indices for quick lookups\n",
    "    pos1: dict[int, int] = dict()\n",
    "    pos2: dict[int, int] = dict()\n",
    "    for i in range(N):\n",
    "        pos1[row1[i]] = pos2[row2[i]] = i\n",
    "\n",
    "    # Iterate through rows and mark them as diff `colors`\n",
    "    visited: set[int] = set()\n",
    "    colors = 0\n",
    "    for i in range(N):\n",
    "        if i not in visited:\n",
    "            colors, curr = colors + 1, i\n",
    "            while curr not in visited:\n",
    "                visited.add(curr)\n",
    "                curr = pos1[row2[curr]]\n",
    "\n",
    "    # Answer is 2 ** colors\n",
    "    return pow(2, colors, MOD)\n",
    "\n",
    "# Testing the solution\n",
    "assert little_alawn_puzzle(8, [2,6,5,1,4,3,7,8], [3,8,7,5,1,2,4,6]) == 8\n",
    "assert little_alawn_puzzle(4, [1,4,2,3], [3,2,1,4]) == 2"
   ]
  },
  {
   "cell_type": "code",
   "execution_count": 54,
   "id": "1cf5b2ca",
   "metadata": {
    "execution": {
     "iopub.execute_input": "2024-08-15T16:56:20.270625Z",
     "iopub.status.busy": "2024-08-15T16:56:20.270125Z",
     "iopub.status.idle": "2024-08-15T16:56:20.276029Z",
     "shell.execute_reply": "2024-08-15T16:56:20.275492Z"
    },
    "papermill": {
     "duration": 0.017553,
     "end_time": "2024-08-15T16:56:20.277320",
     "exception": false,
     "start_time": "2024-08-15T16:56:20.259767",
     "status": "completed"
    },
    "tags": []
   },
   "outputs": [],
   "source": [
    "def ice_skating(N: int, snow_drifts: list[tuple[int, int]]) -> int:\n",
    "    \"\"\"\n",
    "    Same concept as prev, count the number of disjoint points return n_clusters - 1\n",
    "    \"\"\"\n",
    "\n",
    "    # Store the points along axes for easy lookups\n",
    "    x_axis: collections.defaultdict[int, list] = collections.defaultdict(list)\n",
    "    y_axis: collections.defaultdict[int, list] = collections.defaultdict(list)\n",
    "    for i, (x, y) in enumerate(snow_drifts):\n",
    "        x_axis[x].append(i)\n",
    "        y_axis[y].append(i)\n",
    "\n",
    "    visited: set[int] = set()\n",
    "    colors = 0\n",
    "    for i in range(N):\n",
    "        if i not in visited:\n",
    "            colors += 1\n",
    "\n",
    "            # DFS all snow_drifts that can be reached from here\n",
    "            stack: list[int] = [i]\n",
    "            while stack:\n",
    "                curr = stack.pop()\n",
    "                x, y = snow_drifts[curr]\n",
    "\n",
    "                # Visit all points along x axis\n",
    "                for next_ in x_axis[x]:\n",
    "                    if next_ not in visited:\n",
    "                        visited.add(next_)\n",
    "                        stack.append(next_)\n",
    "\n",
    "                # Visit all points along y axis\n",
    "                for next_ in y_axis[y]:\n",
    "                    if next_ not in visited:\n",
    "                        visited.add(next_)\n",
    "                        stack.append(next_)\n",
    "\n",
    "    return colors - 1\n",
    "\n",
    "# Testing the solution\n",
    "assert ice_skating(6, [(1,4), (5,2), (2,1), (5,3), (4,3), (3,6)]) == 3\n",
    "assert ice_skating(2, [(2,1), (1,2)]) == 1\n",
    "assert ice_skating(2, [(2,1), (4,1)]) == 0"
   ]
  }
 ],
 "metadata": {
  "kernelspec": {
   "display_name": "Python 3 (ipykernel)",
   "language": "python",
   "name": "python3"
  },
  "language_info": {
   "codemirror_mode": {
    "name": "ipython",
    "version": 3
   },
   "file_extension": ".py",
   "mimetype": "text/x-python",
   "name": "python",
   "nbconvert_exporter": "python",
   "pygments_lexer": "ipython3",
   "version": "3.12.3"
  },
  "papermill": {
   "default_parameters": {},
   "duration": 7.404554,
   "end_time": "2024-08-15T16:56:20.502287",
   "environment_variables": {},
   "exception": null,
   "input_path": "practice/007.ipynb",
   "output_path": "practice/007.ipynb",
   "parameters": {},
   "start_time": "2024-08-15T16:56:13.097733",
   "version": "2.6.0"
  }
 },
 "nbformat": 4,
 "nbformat_minor": 5
}