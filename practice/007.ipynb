{
 "cells": [
  {
   "cell_type": "code",
   "execution_count": 1,
   "id": "1829768e",
   "metadata": {
    "execution": {
     "iopub.execute_input": "2024-08-05T13:54:06.072604Z",
     "iopub.status.busy": "2024-08-05T13:54:06.072270Z",
     "iopub.status.idle": "2024-08-05T13:54:06.403076Z",
     "shell.execute_reply": "2024-08-05T13:54:06.402600Z"
    },
    "papermill": {
     "duration": 0.337338,
     "end_time": "2024-08-05T13:54:06.404408",
     "exception": false,
     "start_time": "2024-08-05T13:54:06.067070",
     "status": "completed"
    },
    "tags": []
   },
   "outputs": [],
   "source": [
    "from typing import List, Optional, Generator\n",
    "import typing\n",
    "import pandas as pd\n",
    "import numpy as np\n",
    "import sqlite3\n",
    "import re\n",
    "import io\n",
    "import math\n",
    "import collections\n",
    "import itertools\n",
    "import functools\n",
    "import random\n",
    "import string\n",
    "import tqdm\n",
    "import bisect\n",
    "import heapq\n",
    "\n",
    "conn = sqlite3.connect(\":memory:\")\n",
    "\n",
    "def regexp(expr, item):\n",
    "    reg = re.compile(expr)\n",
    "    return reg.search(item) is not None\n",
    "\n",
    "def read_lc_df(s: str, dtypes: dict[str, str]=dict()) -> pd.DataFrame:\n",
    "    temp = pd.read_csv(io.StringIO(s), sep=\"|\", skiprows=2)\n",
    "    temp = temp.iloc[1:-1, 1:-1]\n",
    "    temp.columns = temp.columns.map(str.strip)\n",
    "    temp = temp.map(lambda x: x if type(x) != str else None if x.strip() == 'null' else x.strip())\n",
    "    temp = temp.astype(dtypes)\n",
    "    return temp\n",
    "\n",
    "conn.create_function(\"REGEXP\", 2, regexp)"
   ]
  },
  {
   "cell_type": "markdown",
   "id": "b1bc22a1",
   "metadata": {
    "papermill": {
     "duration": 0.003869,
     "end_time": "2024-08-05T13:54:06.412419",
     "exception": false,
     "start_time": "2024-08-05T13:54:06.408550",
     "status": "completed"
    },
    "tags": []
   },
   "source": [
    "#### Helper for Binary tree problems"
   ]
  },
  {
   "cell_type": "code",
   "execution_count": 2,
   "id": "aff37a02",
   "metadata": {
    "execution": {
     "iopub.execute_input": "2024-08-05T13:54:06.421868Z",
     "iopub.status.busy": "2024-08-05T13:54:06.421379Z",
     "iopub.status.idle": "2024-08-05T13:54:06.428240Z",
     "shell.execute_reply": "2024-08-05T13:54:06.427728Z"
    },
    "lines_to_next_cell": 1,
    "papermill": {
     "duration": 0.013269,
     "end_time": "2024-08-05T13:54:06.429396",
     "exception": false,
     "start_time": "2024-08-05T13:54:06.416127",
     "status": "completed"
    },
    "tags": []
   },
   "outputs": [],
   "source": [
    "class BinaryTreeNode:\n",
    "    def __init__(self, val=0, left=None, right=None):\n",
    "        self.val = val\n",
    "        self.left = left\n",
    "        self.right = right\n",
    "\n",
    "    def to_list(self):\n",
    "        to_visit = [self]\n",
    "        visited = []\n",
    "        while len(to_visit) > 0:\n",
    "            curr = to_visit.pop(0)\n",
    "            if curr:\n",
    "                to_visit.append(curr.left)\n",
    "                to_visit.append(curr.right)\n",
    "                visited.append(curr.val)\n",
    "            else:\n",
    "                visited.append(curr)\n",
    "\n",
    "        while visited and not visited[-1]:\n",
    "            visited.pop()\n",
    "\n",
    "        return visited\n",
    "\n",
    "    def __str__(self):\n",
    "        return str(self.val)\n",
    "\n",
    "    @staticmethod\n",
    "    def from_array(nums: list[int|None]):\n",
    "        '''Create a Tree from a list of nums. Returns the root node.'''\n",
    "        if len(nums) == 0:\n",
    "            return None\n",
    "        elif len(nums) == 1:\n",
    "            return BinaryTreeNode(nums[0])\n",
    "        else:\n",
    "            forest = [BinaryTreeNode(nums[0])]\n",
    "            parent_idx = -1\n",
    "            for i in range(1, len(nums)):\n",
    "\n",
    "                curr = None\n",
    "                if nums[i] is not None:\n",
    "                    curr = BinaryTreeNode(nums[i])\n",
    "                    forest.append(curr)\n",
    "\n",
    "                if i % 2 == 1:\n",
    "                    parent_idx += 1\n",
    "                    forest[parent_idx].left = curr\n",
    "                else:\n",
    "                    forest[parent_idx].right = curr\n",
    "\n",
    "        return forest[0]"
   ]
  },
  {
   "cell_type": "markdown",
   "id": "83eb2501",
   "metadata": {
    "papermill": {
     "duration": 0.003754,
     "end_time": "2024-08-05T13:54:06.436901",
     "exception": false,
     "start_time": "2024-08-05T13:54:06.433147",
     "status": "completed"
    },
    "tags": []
   },
   "source": [
    "#### Helper for Singly Linked lists"
   ]
  },
  {
   "cell_type": "code",
   "execution_count": 3,
   "id": "5b9dd2b3",
   "metadata": {
    "execution": {
     "iopub.execute_input": "2024-08-05T13:54:06.445128Z",
     "iopub.status.busy": "2024-08-05T13:54:06.444876Z",
     "iopub.status.idle": "2024-08-05T13:54:06.449129Z",
     "shell.execute_reply": "2024-08-05T13:54:06.448624Z"
    },
    "lines_to_next_cell": 1,
    "papermill": {
     "duration": 0.00964,
     "end_time": "2024-08-05T13:54:06.450197",
     "exception": false,
     "start_time": "2024-08-05T13:54:06.440557",
     "status": "completed"
    },
    "tags": []
   },
   "outputs": [],
   "source": [
    "class ListNode:\n",
    "    def __init__(self, val=0, next=None):\n",
    "        self.val = val\n",
    "        self.next = next\n",
    "\n",
    "    def __str__(self):\n",
    "        return str(self.val)\n",
    "\n",
    "    @staticmethod\n",
    "    def to_singly_linked_list(nums: list[int]):\n",
    "        root = prev = None\n",
    "        for n in nums:\n",
    "            curr = ListNode(n)\n",
    "            # Init once\n",
    "            if not root:\n",
    "                root = curr\n",
    "            if prev:\n",
    "                prev.next = curr\n",
    "            prev = curr\n",
    "\n",
    "        return root\n",
    "\n",
    "    def to_list(self) -> list[int]:\n",
    "        result = []\n",
    "        curr = self\n",
    "        while curr:\n",
    "            result.append(curr.val)\n",
    "            curr = curr.next\n",
    "        return result"
   ]
  },
  {
   "cell_type": "markdown",
   "id": "1f801598",
   "metadata": {
    "papermill": {
     "duration": 0.003685,
     "end_time": "2024-08-05T13:54:06.457533",
     "exception": false,
     "start_time": "2024-08-05T13:54:06.453848",
     "status": "completed"
    },
    "tags": []
   },
   "source": [
    "Atcoder Beginner contest: 365"
   ]
  },
  {
   "cell_type": "code",
   "execution_count": 4,
   "id": "e1ccd5d8",
   "metadata": {
    "execution": {
     "iopub.execute_input": "2024-08-05T13:54:06.465985Z",
     "iopub.status.busy": "2024-08-05T13:54:06.465565Z",
     "iopub.status.idle": "2024-08-05T13:54:06.470949Z",
     "shell.execute_reply": "2024-08-05T13:54:06.470479Z"
    },
    "lines_to_next_cell": 1,
    "papermill": {
     "duration": 0.010821,
     "end_time": "2024-08-05T13:54:06.472029",
     "exception": false,
     "start_time": "2024-08-05T13:54:06.461208",
     "status": "completed"
    },
    "tags": []
   },
   "outputs": [],
   "source": [
    "def leap_year(year: int) -> int:\n",
    "    if year % 4 != 0:\n",
    "        return 365\n",
    "    elif year % 100 != 0:\n",
    "        return 366\n",
    "    elif year % 400 != 0:\n",
    "        return 365\n",
    "    else:\n",
    "        return 366\n",
    "\n",
    "# Testing the solution\n",
    "assert leap_year(2023) == 365\n",
    "assert leap_year(1992) == 366\n",
    "assert leap_year(1800) == 365\n",
    "assert leap_year(1600) == 366\n",
    "\n",
    "# %$\n",
    "def second_largest(N: int, nums: list[int]) -> int:\n",
    "    max_ = max(nums)\n",
    "    idx = 0 if nums[0] != max_ else 1\n",
    "    for i in range(N):\n",
    "        if nums[idx] < nums[i] < max_:\n",
    "            idx = i\n",
    "    return idx + 1\n",
    "\n",
    "# Testing the solution\n",
    "assert second_largest(5, [3,8,2,5,1]) == 4\n",
    "assert second_largest(4, [8,2,5,1]) == 3\n",
    "assert second_largest(2, [2,1]) == 2\n",
    "assert second_largest(8, [1,2,3,4,5,10,9,11]) == 6"
   ]
  },
  {
   "cell_type": "code",
   "execution_count": 5,
   "id": "b809205d",
   "metadata": {
    "execution": {
     "iopub.execute_input": "2024-08-05T13:54:06.480447Z",
     "iopub.status.busy": "2024-08-05T13:54:06.480045Z",
     "iopub.status.idle": "2024-08-05T13:54:06.484546Z",
     "shell.execute_reply": "2024-08-05T13:54:06.484126Z"
    },
    "lines_to_next_cell": 1,
    "papermill": {
     "duration": 0.009872,
     "end_time": "2024-08-05T13:54:06.485599",
     "exception": false,
     "start_time": "2024-08-05T13:54:06.475727",
     "status": "completed"
    },
    "tags": []
   },
   "outputs": [],
   "source": [
    "def transportation_expenses(N: int, M: int, costs: list[int]) -> int:\n",
    "    total_cost = sum(costs)\n",
    "    if total_cost <= M:\n",
    "        return -1\n",
    "    else:\n",
    "        low, high = 0, M\n",
    "        while low <= high:\n",
    "            mid = (low + high) // 2\n",
    "            total_cost = sum(map(lambda x: min(x, mid), costs))\n",
    "            if total_cost <= M:\n",
    "                low = mid + 1\n",
    "            else:\n",
    "                high = mid - 1\n",
    "\n",
    "        return high\n",
    "\n",
    "# Testing the solution\n",
    "assert transportation_expenses(4, 8, [1,3,2,4]) == 2\n",
    "assert transportation_expenses(3, 20, [5,3,2]) == -1\n",
    "assert transportation_expenses(10, 23, [2,5,6,5,2,1,7,9,7,2]) == 2"
   ]
  },
  {
   "cell_type": "code",
   "execution_count": 6,
   "id": "8c882d10",
   "metadata": {
    "execution": {
     "iopub.execute_input": "2024-08-05T13:54:06.494227Z",
     "iopub.status.busy": "2024-08-05T13:54:06.493792Z",
     "iopub.status.idle": "2024-08-05T13:54:06.499373Z",
     "shell.execute_reply": "2024-08-05T13:54:06.498951Z"
    },
    "lines_to_next_cell": 1,
    "papermill": {
     "duration": 0.011085,
     "end_time": "2024-08-05T13:54:06.500419",
     "exception": false,
     "start_time": "2024-08-05T13:54:06.489334",
     "status": "completed"
    },
    "tags": []
   },
   "outputs": [],
   "source": [
    "def RPS(N: int, moves: str) -> int:\n",
    "\n",
    "    win_mapping: dict[str, str] = {\"R\": \"P\", \"S\": \"R\", \"P\": \"S\"}\n",
    "    move_mapping: dict[int, str] = dict(enumerate(\"RPS\"))\n",
    "    move_mapping_rev: dict[str, int] = {j: i for i, j in move_mapping.items()}\n",
    "\n",
    "    dp: list[int] = [0 for j in range(3)]\n",
    "    for i in range(N - 1, -1, -1):\n",
    "        curr, win_move = moves[i], win_mapping[moves[i]]\n",
    "        next_dp: list[int] = [0 for i in range(3)]\n",
    "        for j in range(3):\n",
    "            prev = move_mapping[j]\n",
    "            if win_move != prev:\n",
    "                next_dp[j] = max(next_dp[j], 1 + dp[move_mapping_rev[win_move]])\n",
    "            if moves[i] != prev:\n",
    "                next_dp[j] = max(next_dp[j], dp[move_mapping_rev[curr]])\n",
    "        dp = next_dp\n",
    "\n",
    "    return max(dp)\n",
    "\n",
    "# Testing the solution\n",
    "assert RPS(24, \"SPRPSRRRRRPPRPRPSSRSPRSS\") == 18\n",
    "assert RPS(10, \"SSSSSSSSSS\") == 5\n",
    "assert RPS(5, \"SSPRS\") == 4\n",
    "assert RPS(6, \"PRSSRS\") == 5"
   ]
  },
  {
   "cell_type": "markdown",
   "id": "6249f8ac",
   "metadata": {
    "papermill": {
     "duration": 0.003673,
     "end_time": "2024-08-05T13:54:06.507820",
     "exception": false,
     "start_time": "2024-08-05T13:54:06.504147",
     "status": "completed"
    },
    "tags": []
   },
   "source": [
    "#### Leetcode Biweekly"
   ]
  },
  {
   "cell_type": "code",
   "execution_count": 7,
   "id": "214ef0c6",
   "metadata": {
    "execution": {
     "iopub.execute_input": "2024-08-05T13:54:06.516377Z",
     "iopub.status.busy": "2024-08-05T13:54:06.515958Z",
     "iopub.status.idle": "2024-08-05T13:54:06.521460Z",
     "shell.execute_reply": "2024-08-05T13:54:06.520924Z"
    },
    "lines_to_next_cell": 1,
    "papermill": {
     "duration": 0.010892,
     "end_time": "2024-08-05T13:54:06.522496",
     "exception": false,
     "start_time": "2024-08-05T13:54:06.511604",
     "status": "completed"
    },
    "tags": []
   },
   "outputs": [],
   "source": [
    "def minFlips(grid: list[list[int]]) -> int:\n",
    "    M, N = len(grid), len(grid[0])\n",
    "\n",
    "    # Count flips required horizontally\n",
    "    h_flips = 0\n",
    "    for i in range(M):\n",
    "        j, k, flips = 0, N - 1, 0\n",
    "        while j < k:\n",
    "            if grid[i][j] != grid[i][k]:\n",
    "                flips += 1\n",
    "            j, k = j + 1, k - 1\n",
    "        h_flips += flips\n",
    "\n",
    "    # Count flips required vertically\n",
    "    v_flips = 0\n",
    "    for i in range(N):\n",
    "        j, k, flips = 0, M - 1, 0\n",
    "        while j < k:\n",
    "            if grid[j][i] != grid[k][i]:\n",
    "                flips += 1\n",
    "            j, k = j + 1, k - 1\n",
    "        v_flips += flips\n",
    "\n",
    "    return min(h_flips, v_flips)\n",
    "\n",
    "# Testing the solution\n",
    "assert minFlips([[1,0,0],[0,0,0],[0,0,1]]) == 2\n",
    "assert minFlips([[0,1],[0,1],[0,0]]) == 1\n",
    "assert minFlips([[1],[0]]) == 0\n",
    "assert minFlips([[1]]) == 0"
   ]
  },
  {
   "cell_type": "markdown",
   "id": "b0ef9709",
   "metadata": {
    "papermill": {
     "duration": 0.003588,
     "end_time": "2024-08-05T13:54:06.529723",
     "exception": false,
     "start_time": "2024-08-05T13:54:06.526135",
     "status": "completed"
    },
    "tags": []
   },
   "source": [
    "#### Upsolving Min Flips 2"
   ]
  },
  {
   "cell_type": "code",
   "execution_count": 8,
   "id": "45a44096",
   "metadata": {
    "execution": {
     "iopub.execute_input": "2024-08-05T13:54:06.538040Z",
     "iopub.status.busy": "2024-08-05T13:54:06.537639Z",
     "iopub.status.idle": "2024-08-05T13:54:06.546040Z",
     "shell.execute_reply": "2024-08-05T13:54:06.545633Z"
    },
    "lines_to_next_cell": 1,
    "papermill": {
     "duration": 0.01378,
     "end_time": "2024-08-05T13:54:06.547159",
     "exception": false,
     "start_time": "2024-08-05T13:54:06.533379",
     "status": "completed"
    },
    "tags": []
   },
   "outputs": [],
   "source": [
    "def minFlipsII(grid: list[list[int]]) -> int:\n",
    "    # https://leetcode.com/problems/minimum-number-of-flips-to-make-binary-grid-palindromic-ii/solutions/5581114/counting-greedy-python3/\n",
    "    def symmetric_pairs(i: int, j: int) -> set[tuple[int, int]]:\n",
    "        return {(i, j), (i, N - j - 1), (M - i - 1, j), (M - i - 1, N - j - 1)}\n",
    "\n",
    "    # Compute dimensions\n",
    "    M, N = len(grid), len(grid[0])\n",
    "\n",
    "    # Calculate the number of flips\n",
    "    # 4 way symmetry - all 0s or all 1s\n",
    "    # 2 way symmetry - based on odd / even count of (1, 1), (0, 1) / (1, 0) we decide\n",
    "    # 1 cell symmetry - all 0s\n",
    "\n",
    "    flips, tws10, tws11 = 0, 0, 0\n",
    "    visited: set[tuple[int, int]] = set()\n",
    "    for i in range(M):\n",
    "        for j in range(N):\n",
    "            if (i, j) not in visited:\n",
    "                ones, pairs = 0, symmetric_pairs(i, j)\n",
    "                for x, y in pairs:\n",
    "                    if grid[x][y] == 1:\n",
    "                        ones += 1\n",
    "                    visited.add((x, y))\n",
    "\n",
    "                # Four cell symmetry\n",
    "                if len(pairs) == 4:\n",
    "                    flips += min(ones, len(pairs) - ones)\n",
    "\n",
    "                # Single cell symmetry\n",
    "                elif len(pairs) == 1:\n",
    "                    flips += ones\n",
    "\n",
    "                # Two cell symmetry\n",
    "                else:\n",
    "                    # Count 1, 1\n",
    "                    if ones == 2:\n",
    "                        tws11 += 1\n",
    "                    # Count 1, 0 / 0, 1\n",
    "                    elif ones == 1:\n",
    "                        tws10 += 1\n",
    "\n",
    "    # If even number of 1, 1 pairs\n",
    "    if tws11 % 2 == 0:\n",
    "        # Change all (0, 1), (1, 0) to (0, 0)\n",
    "        flips += tws10\n",
    "    else:\n",
    "        # If there is atleast a single (1, 0) pair change all (1, 0) that to (1, 1)\n",
    "        # Otherwise change a single (1, 1) to (0, 0)\n",
    "        flips += tws10 if tws10 else 2\n",
    "\n",
    "    return flips\n",
    "\n",
    "# Testing the solution\n",
    "assert minFlipsII([[1,0,0],[0,1,0],[0,0,1]]) == 3\n",
    "assert minFlipsII([[0,1],[0,1],[0,0]]) == 2\n",
    "assert minFlipsII([[1],[1]]) == 2\n",
    "assert minFlipsII([[1],[1],[1],[0]]) == 1\n",
    "assert minFlipsII([[1,1,0,0,1],[0,1,1,0,1],[0,0,1,1,1],[1,0,1,1,0],[1,0,1,1,0],[0,0,1,1,1],[0,1,1,0,1],[1,1,0,1,0]]) == 16"
   ]
  },
  {
   "cell_type": "markdown",
   "id": "2b19c2f3",
   "metadata": {
    "papermill": {
     "duration": 0.003642,
     "end_time": "2024-08-05T13:54:06.554514",
     "exception": false,
     "start_time": "2024-08-05T13:54:06.550872",
     "status": "completed"
    },
    "tags": []
   },
   "source": [
    "LC Weekly - 4th Aug 2024"
   ]
  },
  {
   "cell_type": "code",
   "execution_count": 9,
   "id": "e54fdc0e",
   "metadata": {
    "execution": {
     "iopub.execute_input": "2024-08-05T13:54:06.562755Z",
     "iopub.status.busy": "2024-08-05T13:54:06.562558Z",
     "iopub.status.idle": "2024-08-05T13:54:06.568917Z",
     "shell.execute_reply": "2024-08-05T13:54:06.568499Z"
    },
    "lines_to_next_cell": 1,
    "papermill": {
     "duration": 0.01175,
     "end_time": "2024-08-05T13:54:06.569972",
     "exception": false,
     "start_time": "2024-08-05T13:54:06.558222",
     "status": "completed"
    },
    "tags": []
   },
   "outputs": [],
   "source": [
    "class neighborSum:\n",
    "\n",
    "    def __init__(self, grid: List[List[int]]):\n",
    "        self.grid: list[list[int]] = grid\n",
    "        self.M, self.N = len(grid), len(grid[0])\n",
    "        self.positions: dict[int, tuple[int, int]] = {grid[i][j]: (i, j) for i in range(self.M) for j in range(self.N)}\n",
    "\n",
    "    def adjacentSum(self, value: int) -> int:\n",
    "        result = 0\n",
    "        i, j = self.positions[value]\n",
    "        for x, y in ((i - 1, j), (i + 1, j), (i, j - 1), (i, j + 1)):\n",
    "            if 0 <= x < self.M and 0 <= y < self.N:\n",
    "                result += self.grid[x][y]\n",
    "        return result\n",
    "\n",
    "    def diagonalSum(self, value: int) -> int:\n",
    "        result = 0\n",
    "        i, j = self.positions[value]\n",
    "        for x, y in ((i - 1, j - 1), (i + 1, j + 1), (i - 1, j + 1), (i + 1, j - 1)):\n",
    "            if 0 <= x < self.M and 0 <= y < self.N:\n",
    "                result += self.grid[x][y]\n",
    "        return result\n",
    "\n",
    "# Testing the solution\n",
    "ns = neighborSum([[0,1,2], [3,4,5], [6,7,8]])\n",
    "assert ns.adjacentSum(1) == 6\n",
    "assert ns.adjacentSum(4) == 16\n",
    "assert ns.diagonalSum(4) == 16\n",
    "assert ns.diagonalSum(8) == 4"
   ]
  },
  {
   "cell_type": "code",
   "execution_count": 10,
   "id": "fd7c00f5",
   "metadata": {
    "execution": {
     "iopub.execute_input": "2024-08-05T13:54:06.578314Z",
     "iopub.status.busy": "2024-08-05T13:54:06.577919Z",
     "iopub.status.idle": "2024-08-05T13:54:06.583086Z",
     "shell.execute_reply": "2024-08-05T13:54:06.582664Z"
    },
    "lines_to_next_cell": 1,
    "papermill": {
     "duration": 0.010538,
     "end_time": "2024-08-05T13:54:06.584175",
     "exception": false,
     "start_time": "2024-08-05T13:54:06.573637",
     "status": "completed"
    },
    "tags": []
   },
   "outputs": [],
   "source": [
    "def shortestDistanceAfterQueries(N: int, queries: list[list[int]]) -> list[int]:\n",
    "    def shortest_path() -> int:\n",
    "        queue: collections.deque[tuple[int, int]] = collections.deque([(0, 0)])\n",
    "        while queue:\n",
    "            curr, dist = queue.popleft()\n",
    "            for next_node in adjl[curr]:\n",
    "                if next_node == N - 1:\n",
    "                    return dist + 1\n",
    "                else:\n",
    "                    queue.append((next_node, dist + 1))\n",
    "\n",
    "        return -1\n",
    "\n",
    "    adjl: collections.defaultdict[int, list[int]] = collections.defaultdict(list)\n",
    "    for i in range(N):\n",
    "        adjl[i].append(i + 1)\n",
    "\n",
    "    result: list[int] = []\n",
    "    for n1, n2 in queries:\n",
    "        adjl[n1].append(n2)\n",
    "        result.append(shortest_path())\n",
    "\n",
    "    return result\n",
    "\n",
    "# Testing the solution\n",
    "assert shortestDistanceAfterQueries(5, [[2,4],[0,2],[0,4]]) == [3,2,1]\n",
    "assert shortestDistanceAfterQueries(4, [[0,3],[0,2]]) == [1,1]"
   ]
  },
  {
   "cell_type": "markdown",
   "id": "ef8544a1",
   "metadata": {
    "papermill": {
     "duration": 0.003726,
     "end_time": "2024-08-05T13:54:06.591637",
     "exception": false,
     "start_time": "2024-08-05T13:54:06.587911",
     "status": "completed"
    },
    "tags": []
   },
   "source": [
    "#### Matrix factorization GYM Practice: https://codeforces.com/gym/102644"
   ]
  },
  {
   "cell_type": "code",
   "execution_count": 11,
   "id": "f806393a",
   "metadata": {
    "execution": {
     "iopub.execute_input": "2024-08-05T13:54:06.599926Z",
     "iopub.status.busy": "2024-08-05T13:54:06.599527Z",
     "iopub.status.idle": "2024-08-05T13:54:06.606000Z",
     "shell.execute_reply": "2024-08-05T13:54:06.605557Z"
    },
    "lines_to_next_cell": 1,
    "papermill": {
     "duration": 0.011745,
     "end_time": "2024-08-05T13:54:06.607086",
     "exception": false,
     "start_time": "2024-08-05T13:54:06.595341",
     "status": "completed"
    },
    "tags": []
   },
   "outputs": [],
   "source": [
    "def count_paths_brute(N: int, E: int, K: int, edges: list[tuple[int, int]]) -> int:\n",
    "    # Convert edges into adjl\n",
    "    adjl: collections.defaultdict[int, list[int]] = collections.defaultdict(list)\n",
    "    for n1, n2 in edges:\n",
    "        adjl[n2].append(n1)\n",
    "\n",
    "    # Do a 'cached' DFS\n",
    "    MOD = 10 ** 9 + 7\n",
    "\n",
    "    # Do a DFS traversal and cache the results\n",
    "    dp: dict[tuple[int, int], int] = {(0, K + 1): 0}\n",
    "    stack: list[tuple[int, int, int]] = [(i, 0, K) for i in range(1, N + 1)]\n",
    "    while stack:\n",
    "        curr, prev, k = stack[-1]\n",
    "        if (curr, k) in dp or k == 0:\n",
    "            if k == 0:\n",
    "                dp[(curr, k)] = 1\n",
    "            dp[(prev, k + 1)] = (dp[(prev, k + 1)] + dp[(curr, k)]) % MOD\n",
    "            stack.pop()\n",
    "        else:\n",
    "            dp[(curr, k)] = 0\n",
    "            for next_node in adjl[curr]:\n",
    "                stack.append((next_node, curr, k - 1))\n",
    "\n",
    "    return dp[(0, K + 1)]\n",
    "\n",
    "# Testing the solution\n",
    "assert count_paths_brute(3, 4, 2, [(1,2), (2,3), (3,1), (2,1)]) == 5\n",
    "assert count_paths_brute(5, 10, 11, [(2,3), (4,2), (2,1), (2,4), (1,5), (5,2), (3,2), (3,1), (3,4), (1,2)]) == 21305"
   ]
  },
  {
   "cell_type": "code",
   "execution_count": 12,
   "id": "a8db5c84",
   "metadata": {
    "execution": {
     "iopub.execute_input": "2024-08-05T13:54:06.615556Z",
     "iopub.status.busy": "2024-08-05T13:54:06.615154Z",
     "iopub.status.idle": "2024-08-05T13:54:06.623285Z",
     "shell.execute_reply": "2024-08-05T13:54:06.622762Z"
    },
    "lines_to_next_cell": 1,
    "papermill": {
     "duration": 0.013488,
     "end_time": "2024-08-05T13:54:06.624288",
     "exception": false,
     "start_time": "2024-08-05T13:54:06.610800",
     "status": "completed"
    },
    "tags": []
   },
   "outputs": [],
   "source": [
    "def count_paths(n_vertices: int, n_edges: int, K: int, edges: list[tuple[int, int]]) -> int:\n",
    "    \"\"\"\n",
    "    Adj matrix raised to power K\n",
    "\n",
    "    Each cell (i, j) denotes how many paths exist from node i + 1 to j + 1.\n",
    "    Total paths would be the sum of all cells\n",
    "    \"\"\"\n",
    "\n",
    "    def matrix_multiply(A: list[list[int]], B: list[list[int]]) -> list[list[int]]:\n",
    "        M, N, P, Q = len(A), len(A[0]), len(B), len(B[0])\n",
    "        assert N == P, \"invalid matrix dimensions\"\n",
    "        result: list[list[int]] = [[0 for j in range(M)] for i in range(Q)]\n",
    "        for i in range(M):\n",
    "            for j in range(Q):\n",
    "                for k in range(N):\n",
    "                    result[i][j] = (result[i][j] + A[i][k] * B[k][j]) % MOD\n",
    "\n",
    "        return result\n",
    "\n",
    "    def matrix_power(base: list[list[int]], exp: int) -> list[list[int]]:\n",
    "        N = len(base)\n",
    "        result: list[list[int]] = [[1 if i == j else 0 for j in range(N)] for i in range(N)]\n",
    "        while exp:\n",
    "            if exp & 1:\n",
    "                result = matrix_multiply(result, base)\n",
    "            base = matrix_multiply(base, base)\n",
    "            exp >>= 1\n",
    "\n",
    "        return result\n",
    "\n",
    "    # Return path count % MOD\n",
    "    MOD = 10 ** 9 + 7\n",
    "    adjm: list[list[int]] = [[0 for j in range(n_vertices)] for i in range(n_vertices)]\n",
    "    for n1, n2 in edges:\n",
    "        adjm[n1 - 1][n2 - 1] = 1\n",
    "\n",
    "    # Raise Adjm to the power of K using matrix factorization\n",
    "    result = matrix_power(adjm, K)\n",
    "    return sum(sum(row) for row in result) % MOD\n",
    "\n",
    "# Testing the solution\n",
    "assert count_paths(3, 4, 2, [(1,2), (2,3), (3,1), (2,1)]) == 5\n",
    "assert count_paths(5, 10, 11, [(2,3), (4,2), (2,1), (2,4), (1,5), (5,2), (3,2), (3,1), (3,4), (1,2)]) == 21305"
   ]
  },
  {
   "cell_type": "code",
   "execution_count": 13,
   "id": "26d5ee66",
   "metadata": {
    "execution": {
     "iopub.execute_input": "2024-08-05T13:54:06.632957Z",
     "iopub.status.busy": "2024-08-05T13:54:06.632584Z",
     "iopub.status.idle": "2024-08-05T13:54:06.967415Z",
     "shell.execute_reply": "2024-08-05T13:54:06.966911Z"
    },
    "lines_to_next_cell": 1,
    "papermill": {
     "duration": 0.340563,
     "end_time": "2024-08-05T13:54:06.968662",
     "exception": false,
     "start_time": "2024-08-05T13:54:06.628099",
     "status": "completed"
    },
    "tags": []
   },
   "outputs": [],
   "source": [
    "def knight_paths(K: int) -> int:\n",
    "\n",
    "    ij2n: typing.Callable[[int, int], int] = lambda x, y: 8 * x + y\n",
    "    n2ij: typing.Callable[[int], tuple[int, int]] = lambda n: (n // 8, n % 8)\n",
    "\n",
    "    def matrix_multiply(A: list[list[int]], B: list[list[int]], mod: int) -> list[list[int]]:\n",
    "        M, N, P, Q = len(A), len(A[0]), len(B), len(B[0])\n",
    "        assert N == P, \"invalid dimensions\"\n",
    "        result: list[list[int]] = [[0 for j in range(Q)] for i in range(M)]\n",
    "        for i in range(M):\n",
    "            for j in range(Q):\n",
    "                for k in range(N):\n",
    "                    result[i][j] = (result[i][j] + A[i][k] * B[k][j]) % mod\n",
    "\n",
    "        return result\n",
    "\n",
    "    def matrix_power(base: list[list[int]], power: int, mod: int) -> list[list[int]]:\n",
    "        N = len(base)\n",
    "        result: list[list[int]] = [[1 if i == j else 0 for j in range(N)] for i in range(N)]\n",
    "        while power:\n",
    "            if power & 1:\n",
    "                result = matrix_multiply(result, base, mod)\n",
    "            base = matrix_multiply(base, base, mod)\n",
    "            power //= 2\n",
    "\n",
    "        return result\n",
    "\n",
    "    def mark_paths(n: int) -> list[int]:\n",
    "        x1, y1 = n2ij(n)\n",
    "        result: list[int] = []\n",
    "        for x_delta in (-2, -1, 1, 2):\n",
    "            for y_delta in (-2, -1, 1, 2):\n",
    "                x2, y2 = x1 + x_delta, y1 + y_delta\n",
    "                if 0 <= x2 < 8 and 0 <= y2 < 8 and abs(x_delta) != abs(y_delta):\n",
    "                    result.append(ij2n(x2, y2))\n",
    "\n",
    "        return result\n",
    "\n",
    "    @functools.cache\n",
    "    def generate_base() -> list[list[int]]:\n",
    "        # Count of paths the knight can make starting at given point\n",
    "        base: list[list[int]] = [[0 for j in range(65)] for i in range(65)]\n",
    "        for i in range(64):\n",
    "            for j in mark_paths(i):\n",
    "                base[i][j] = 1\n",
    "\n",
    "        # We store the cells from 0 - 63, 64 stores the answer\n",
    "        for i in range(65):\n",
    "            base[i][64] = 1\n",
    "\n",
    "        return base\n",
    "\n",
    "    base = generate_base()\n",
    "    result = matrix_power(base, K + 1, 4294967296)\n",
    "    return result[0][64]\n",
    "\n",
    "# Testing the solution\n",
    "assert knight_paths(1) == 3\n",
    "assert knight_paths(2) == 15\n",
    "assert knight_paths(6) == 17231"
   ]
  },
  {
   "cell_type": "markdown",
   "id": "f3b88c65",
   "metadata": {
    "papermill": {
     "duration": 0.003701,
     "end_time": "2024-08-05T13:54:06.976051",
     "exception": false,
     "start_time": "2024-08-05T13:54:06.972350",
     "status": "completed"
    },
    "tags": []
   },
   "source": [
    "#### Codeforces Div 2 - 4th July 2024"
   ]
  },
  {
   "cell_type": "code",
   "execution_count": 14,
   "id": "c7bba6a6",
   "metadata": {
    "execution": {
     "iopub.execute_input": "2024-08-05T13:54:06.984340Z",
     "iopub.status.busy": "2024-08-05T13:54:06.983936Z",
     "iopub.status.idle": "2024-08-05T13:54:06.988265Z",
     "shell.execute_reply": "2024-08-05T13:54:06.987845Z"
    },
    "lines_to_next_cell": 1,
    "papermill": {
     "duration": 0.00956,
     "end_time": "2024-08-05T13:54:06.989290",
     "exception": false,
     "start_time": "2024-08-05T13:54:06.979730",
     "status": "completed"
    },
    "tags": []
   },
   "outputs": [],
   "source": [
    "def question_marks(N: int, answers: str) -> int:\n",
    "    marks = 0\n",
    "    correct: dict[str, int] = {ch: N for ch in \"ABCD\"}\n",
    "    for answer in answers:\n",
    "        if answer in correct:\n",
    "            marks += 1\n",
    "            correct[answer] -= 1\n",
    "            if correct[answer] == 0:\n",
    "                correct.pop(answer)\n",
    "\n",
    "    return marks\n",
    "\n",
    "# Testing the solution\n",
    "assert question_marks(1, \"ABCD\") == 4\n",
    "assert question_marks(2, \"AAAAAAAA\") == 2\n",
    "assert question_marks(2, \"AAAABBBB\") == 4\n",
    "assert question_marks(2, \"????????\") == 0\n",
    "assert question_marks(3, \"ABCABCABCABC\") == 9\n",
    "assert question_marks(5, \"ACADC??ACAC?DCAABC?C\") == 13"
   ]
  },
  {
   "cell_type": "code",
   "execution_count": 15,
   "id": "54e56c2f",
   "metadata": {
    "execution": {
     "iopub.execute_input": "2024-08-05T13:54:06.997744Z",
     "iopub.status.busy": "2024-08-05T13:54:06.997315Z",
     "iopub.status.idle": "2024-08-05T13:54:07.002732Z",
     "shell.execute_reply": "2024-08-05T13:54:07.002293Z"
    },
    "lines_to_next_cell": 1,
    "papermill": {
     "duration": 0.010782,
     "end_time": "2024-08-05T13:54:07.003760",
     "exception": false,
     "start_time": "2024-08-05T13:54:06.992978",
     "status": "completed"
    },
    "tags": []
   },
   "outputs": [],
   "source": [
    "def parity_and_sum(N: int, nums: list[int]) -> int:\n",
    "    # Split into odd / even\n",
    "    odd: list[int] = []\n",
    "    even: list[int] = []\n",
    "    for n in nums:\n",
    "        if n % 2 == 0:\n",
    "            even.append(n)\n",
    "        else:\n",
    "            odd.append(n)\n",
    "\n",
    "    # Sort odd and even\n",
    "    odd.sort(reverse=False)\n",
    "    even.sort(reverse=True)\n",
    "\n",
    "    # Check the smallest in odd and largest in even\n",
    "    moves = 0\n",
    "    while odd and even:\n",
    "        moves += 1\n",
    "        if even[-1] < odd[-1]:\n",
    "            odd.append(even.pop() + odd[-1])\n",
    "        else:\n",
    "            odd[-1] += even[0]\n",
    "\n",
    "    return moves\n",
    "\n",
    "# Testing the solution\n",
    "assert parity_and_sum(4, [1,4,10,12]) == 4\n",
    "assert parity_and_sum(5, [1,3,5,7,9]) == 0\n",
    "assert parity_and_sum(4, [4,4,4,4]) == 0\n",
    "assert parity_and_sum(3, [2,3,4]) == 2\n",
    "assert parity_and_sum(4, [3,2,2,8]) == 4\n",
    "assert parity_and_sum(6, [4,3,6,1,2,1]) == 3"
   ]
  },
  {
   "cell_type": "code",
   "execution_count": 16,
   "id": "2ce915ba",
   "metadata": {
    "execution": {
     "iopub.execute_input": "2024-08-05T13:54:07.011950Z",
     "iopub.status.busy": "2024-08-05T13:54:07.011626Z",
     "iopub.status.idle": "2024-08-05T13:54:07.017741Z",
     "shell.execute_reply": "2024-08-05T13:54:07.017236Z"
    },
    "lines_to_next_cell": 1,
    "papermill": {
     "duration": 0.011435,
     "end_time": "2024-08-05T13:54:07.018878",
     "exception": false,
     "start_time": "2024-08-05T13:54:07.007443",
     "status": "completed"
    },
    "tags": []
   },
   "outputs": [],
   "source": [
    "def light_switches(N: int, K: int, install_time: list[int]) -> int:\n",
    "    start, end = install_time[0], install_time[0] + K - 1\n",
    "    for time in install_time[1:]:\n",
    "        curr_start, curr_end = time, time + K - 1\n",
    "\n",
    "        # Always ensure that start, end is the greater\n",
    "        if start < curr_start:\n",
    "            start, end, curr_start, curr_end = curr_start, curr_end, start, end\n",
    "\n",
    "        # If they don't overlap, try to increase them to the nearest range\n",
    "        if curr_end < start:\n",
    "            factor = math.ceil((start - curr_end) / (2 * K))\n",
    "            curr_start, curr_end = curr_start + (factor * 2 * K), curr_end + (factor * 2 * K)\n",
    "\n",
    "        # Check if overlap\n",
    "        start, end = max(start, curr_start), min(end, curr_end)\n",
    "\n",
    "        if end < start:\n",
    "            return -1\n",
    "\n",
    "    return start\n",
    "\n",
    "# Testing the solution\n",
    "assert light_switches(3, 3, [6,2,1]) == 8\n",
    "assert light_switches(7, 5, [14,34,6,25,46,7,17]) == 47\n",
    "assert light_switches(4, 3, [2,3,4,5]) == -1\n",
    "assert light_switches(4, 4, [2,3,4,5]) == 5\n",
    "assert light_switches(4, 3, [3,4,8,9]) == 10\n",
    "assert light_switches(1, 1, [1]) == 1\n",
    "assert light_switches(6, 5, [40,80,99,60,90,50]) == 100\n",
    "assert light_switches(6, 5, [64,40,50,68,70,10]) == -1"
   ]
  },
  {
   "cell_type": "markdown",
   "id": "e2ae8f80",
   "metadata": {
    "papermill": {
     "duration": 0.003866,
     "end_time": "2024-08-05T13:54:07.026504",
     "exception": false,
     "start_time": "2024-08-05T13:54:07.022638",
     "status": "completed"
    },
    "tags": []
   },
   "source": [
    "Upsolving CF Div - 2"
   ]
  },
  {
   "cell_type": "code",
   "execution_count": 17,
   "id": "8ffc5df0",
   "metadata": {
    "execution": {
     "iopub.execute_input": "2024-08-05T13:54:07.035597Z",
     "iopub.status.busy": "2024-08-05T13:54:07.035153Z",
     "iopub.status.idle": "2024-08-05T13:54:07.046008Z",
     "shell.execute_reply": "2024-08-05T13:54:07.045526Z"
    },
    "lines_to_next_cell": 1,
    "papermill": {
     "duration": 0.016287,
     "end_time": "2024-08-05T13:54:07.047153",
     "exception": false,
     "start_time": "2024-08-05T13:54:07.030866",
     "status": "completed"
    },
    "tags": []
   },
   "outputs": [],
   "source": [
    "def medimize(N: int, K: int, nums: list[int]) -> int:\n",
    "    \"\"\"\n",
    "    Use binary search to find the maximum median - straight forward\n",
    "    Use DP to check if a given median can be formed or not - Convert nums into binary nums of 1 or -1\n",
    "\n",
    "    After removing K elements, we would be left with `K if N % K == 0 else N % K elements'\n",
    "    The recursive solution would be a pick / nopick, if no pick we skip k elements\n",
    "\n",
    "    Final array would contain elements:\n",
    "\n",
    "    ai0, ai1, ai2, ... aim\n",
    "    i0 = 0 mod k\n",
    "    i1 = 1 mod k\n",
    "    ..\n",
    "    im = (m - 1) mod k\n",
    "\n",
    "    Since we have 'B' with either -1 or 1, if the sum(b) > 0 then true else false\n",
    "\n",
    "    In check function, why > 0?\n",
    "    We are not checking if the median itself is possible, we are simply checking if a value greater\n",
    "    than or equal to median is possible to be the answer\n",
    "\n",
    "    For instance: [5,1,6,9,4,8,3,2] | K = 4; here 3 itself is not possible to be the median but check(3) is still true\n",
    "    We are checking if a value greater than or equal to 3 can be the answer.\n",
    "\n",
    "    \"\"\"\n",
    "    def check_brute(median: int, B: list[int]) -> bool:\n",
    "        @functools.cache\n",
    "        def backtrack(curr: int, R: int) -> float:\n",
    "            if R == 0:\n",
    "                return 0\n",
    "            elif curr >= N:\n",
    "                return -math.inf\n",
    "            else:\n",
    "                return max(B[curr] + backtrack(curr + 1, R - 1), backtrack(curr + K, R))\n",
    "\n",
    "        remaining = K if N % K == 0 else N % K\n",
    "        return backtrack(0, remaining) > 0\n",
    "\n",
    "    def check(median: int, B: list[int]) -> bool:\n",
    "        dp: list[int] = [0 for i in range(len(B))]\n",
    "        dp[0] = B[0]\n",
    "        for i in range(1, len(B)):\n",
    "            if i % K == 0:\n",
    "                dp[i] = max(dp[i - K], B[i])\n",
    "            else:\n",
    "                dp[i] = dp[i - 1] + B[i]\n",
    "                if i > K:\n",
    "                    dp[i] = max(dp[i], dp[i - K])\n",
    "\n",
    "        return dp[-1] > 0\n",
    "\n",
    "    low, high = min(nums), max(nums)\n",
    "    while low <= high:\n",
    "        mid = (low + high) // 2\n",
    "        if check(mid, [-1 if n < mid else 1 for n in nums]):\n",
    "            low = mid + 1\n",
    "        else:\n",
    "            high = mid - 1\n",
    "\n",
    "    return high\n",
    "\n",
    "# Testing the solution\n",
    "assert medimize(8, 2, [7,1,2,6,8,3,4,5]) == 6\n",
    "assert medimize(4, 5, [3,4,5,6]) == 4\n",
    "assert medimize(7, 1, [5,9,2,6,5,4,6]) == 9\n",
    "assert medimize(5, 3, [3,2,5,6,4]) == 4\n",
    "assert medimize(4, 3, [3,9,9,2]) == 3"
   ]
  },
  {
   "cell_type": "code",
   "execution_count": 18,
   "id": "382ad84d",
   "metadata": {
    "execution": {
     "iopub.execute_input": "2024-08-05T13:54:07.055714Z",
     "iopub.status.busy": "2024-08-05T13:54:07.055318Z",
     "iopub.status.idle": "2024-08-05T13:54:07.061638Z",
     "shell.execute_reply": "2024-08-05T13:54:07.061195Z"
    },
    "lines_to_next_cell": 1,
    "papermill": {
     "duration": 0.011761,
     "end_time": "2024-08-05T13:54:07.062703",
     "exception": false,
     "start_time": "2024-08-05T13:54:07.050942",
     "status": "completed"
    },
    "tags": []
   },
   "outputs": [],
   "source": [
    "def scripted_robot(N: int, K: int, W: int, H: int, script: str) -> int:\n",
    "    \"\"\"\n",
    "    Iterate once through the script and store the valid positions that we end up at after executing each script.\n",
    "\n",
    "    To make things easier, we can observe that if we left the robot to move undetered, it would basically be the same as\n",
    "    the robot following the rules after |2 * H| or |2 * W| steps along the y axis and x axis respectively.\n",
    "\n",
    "    Next assume after executing the script we end up at some position that is dx, dy from origin.\n",
    "    Inorder to hit (0, 0) we need -dx, -dy so we count number of times we had hit (-dx, -dy) when we first executed the script.\n",
    "\n",
    "    For next iteration we would need to check for -2dx, -2dx.. -3dx, -3dy and so on until K\n",
    "\n",
    "    Note that in other languages x % mod would return a negative number if x is negative, so in tutorials we would see (x + mod) % mod\n",
    "    In python x % mod would be negative only when mod itself is negative\n",
    "    \"\"\"\n",
    "\n",
    "    delta_mapping: dict[str, tuple[int, int]] = {\"L\": (0, -1), \"R\": (0, 1), \"U\": (1, 0), \"D\": (-1, 0)}\n",
    "    counts: collections.defaultdict[tuple[int, int], int] = collections.defaultdict(int)\n",
    "    mod_x, mod_y = 2 * W, 2 * H\n",
    "\n",
    "    # Compute positions where the robot would end up inside the box\n",
    "    x, y = 0, 0\n",
    "    for command in script:\n",
    "        # Compute the position post command, undetered by boundaries\n",
    "        delta = delta_mapping[command]\n",
    "        x, y = x + delta[1], y + delta[0]\n",
    "\n",
    "        # Making use of the `mirrored` property\n",
    "        x, y = x % mod_x, y % mod_y\n",
    "        counts[(x, y)] += 1\n",
    "\n",
    "    # For each k in 0..k-1, compute the number of times -i * dx, -i * dy could be found\n",
    "    # Why check for -dx, -dy? Because dx + (-dx), dy + (-dy) would give us (0, 0)\n",
    "    # which is what we are tracking\n",
    "    dx, dy = x, y\n",
    "    result = 0\n",
    "    for i in range(K):\n",
    "        x = (-i * dx) % mod_x\n",
    "        y = (-i * dy) % mod_y\n",
    "        result += counts[(x, y)]\n",
    "\n",
    "    return result\n",
    "\n",
    "# Testing the solution\n",
    "assert scripted_robot(2, 2, 2, 2, \"UR\") == 0\n",
    "assert scripted_robot(4, 2, 1, 1, \"LLDD\") == 4\n",
    "assert scripted_robot(6, 3, 3, 1, \"RLRRRL\") == 3\n",
    "assert scripted_robot(5, 5, 3, 3, \"RUURD\") == 0\n",
    "assert scripted_robot(7, 5, 3, 4, \"RRDLUUU\") == 1"
   ]
  },
  {
   "cell_type": "markdown",
   "id": "4910b398",
   "metadata": {
    "papermill": {
     "duration": 0.003635,
     "end_time": "2024-08-05T13:54:07.070054",
     "exception": false,
     "start_time": "2024-08-05T13:54:07.066419",
     "status": "completed"
    },
    "tags": []
   },
   "source": [
    "LC Weekly upsolving - Shortest dist after road additions - II"
   ]
  },
  {
   "cell_type": "code",
   "execution_count": 19,
   "id": "10e62cfa",
   "metadata": {
    "execution": {
     "iopub.execute_input": "2024-08-05T13:54:07.078448Z",
     "iopub.status.busy": "2024-08-05T13:54:07.078102Z",
     "iopub.status.idle": "2024-08-05T13:54:07.083058Z",
     "shell.execute_reply": "2024-08-05T13:54:07.082610Z"
    },
    "lines_to_next_cell": 1,
    "papermill": {
     "duration": 0.010322,
     "end_time": "2024-08-05T13:54:07.084060",
     "exception": false,
     "start_time": "2024-08-05T13:54:07.073738",
     "status": "completed"
    },
    "tags": []
   },
   "outputs": [],
   "source": [
    "def shortestDistanceAfterQueriesII(N: int, queries: list[list[int]]) -> list[int]:\n",
    "    \"\"\"\n",
    "    Imagine the roads as a linked list, the idea for each query is to\n",
    "    remove all edges between (i, j) (non inclusive)\n",
    "    \"\"\"\n",
    "    connections: dict[int, int] = {i: i + 1 for i in range(N - 1)}\n",
    "    result: list[int] = []\n",
    "    for n1, n2 in queries:\n",
    "\n",
    "        # Ensure n1 is not deleted by a previous query\n",
    "        # And ensure that the current query is not lesser\n",
    "        # than a previously encountered query\n",
    "        # For eg: we encountered (2, 5) already, (2, 3) is not useful\n",
    "        if n1 in connections and connections[n1] < n2:\n",
    "            curr = connections[n1]\n",
    "            while curr < n2:\n",
    "                curr = connections.pop(curr)\n",
    "            connections[n1] = n2\n",
    "\n",
    "        result.append(len(connections))\n",
    "\n",
    "    return result\n",
    "\n",
    "# Testing the solution\n",
    "assert shortestDistanceAfterQueriesII(5, [[2,4],[0,2],[0,4]]) == [3,2,1]\n",
    "assert shortestDistanceAfterQueriesII(4, [[0,3],[0,2]]) == [1,1]"
   ]
  },
  {
   "cell_type": "markdown",
   "id": "5e7850b0",
   "metadata": {
    "papermill": {
     "duration": 0.003662,
     "end_time": "2024-08-05T13:54:07.091444",
     "exception": false,
     "start_time": "2024-08-05T13:54:07.087782",
     "status": "completed"
    },
    "tags": []
   },
   "source": [
    "LC Daily Problem"
   ]
  },
  {
   "cell_type": "code",
   "execution_count": 20,
   "id": "a6325537",
   "metadata": {
    "execution": {
     "iopub.execute_input": "2024-08-05T13:54:07.099900Z",
     "iopub.status.busy": "2024-08-05T13:54:07.099468Z",
     "iopub.status.idle": "2024-08-05T13:54:07.103771Z",
     "shell.execute_reply": "2024-08-05T13:54:07.103342Z"
    },
    "lines_to_next_cell": 1,
    "papermill": {
     "duration": 0.009597,
     "end_time": "2024-08-05T13:54:07.104790",
     "exception": false,
     "start_time": "2024-08-05T13:54:07.095193",
     "status": "completed"
    },
    "tags": []
   },
   "outputs": [],
   "source": [
    "def kthDistinct(arr: list[str], k: int) -> str:\n",
    "    \"\"\"\n",
    "    Python has its useful quirks too.\n",
    "    In dictionary the insertion order is preserved.\n",
    "\n",
    "    For arr containing a lot of duplicates, we can quickly skip them since\n",
    "    we would only encounter them once in the freq\n",
    "    \"\"\"\n",
    "    freq: collections.Counter[str] = collections.Counter(arr)\n",
    "    for string in freq:\n",
    "        if freq[string] == 1:\n",
    "            k -= 1\n",
    "        if k == 0:\n",
    "            return string\n",
    "\n",
    "    return \"\"\n",
    "\n",
    "# Testing the solution\n",
    "assert kthDistinct([\"d\",\"b\",\"c\",\"b\",\"c\",\"a\"], k = 2) == \"a\"\n",
    "assert kthDistinct([\"aaa\",\"aa\",\"a\"], k = 1) == \"aaa\"\n",
    "assert kthDistinct([\"a\",\"b\",\"a\"], k = 3) == \"\""
   ]
  },
  {
   "cell_type": "markdown",
   "id": "48746f93",
   "metadata": {},
   "source": [
    "Striver's CP Sheet"
   ]
  },
  {
   "cell_type": "code",
   "execution_count": null,
   "id": "a8154c4b",
   "metadata": {
    "lines_to_next_cell": 1
   },
   "outputs": [],
   "source": [
    "def wet_shark_and_blocks_brute(N: int, B: int, K: int, X: int, nums: list[int]) -> int:\n",
    "    # Return ans mod\n",
    "    MOD = 10 ** 9 + 7\n",
    "\n",
    "    # Convert block of nums into freq\n",
    "    freq: list[int] = [0 for i in range(10)]\n",
    "    for n in nums:\n",
    "        freq[n] += 1\n",
    "\n",
    "    # return backtrack(0, 0)\n",
    "    dp: list[int] = [0 if i != K else 1 for i in range(X)]\n",
    "    for blocks in range(B):\n",
    "        next_dp: list[int] = [0 for i in range(X)]\n",
    "        for total in range(X):\n",
    "            for next_ in range(1, 10):\n",
    "                next_dp[total] = (next_dp[total] + freq[next_] * dp[(total * 10 + next_) % X]) % MOD\n",
    "        dp = next_dp\n",
    "\n",
    "    return dp[K]\n",
    "\n",
    "# Testing the solution\n",
    "assert wet_shark_and_blocks_brute(12, 1, 5, 10, [3,5,6,7,8,9,5,1,1,1,1,5]) == 3\n",
    "assert wet_shark_and_blocks_brute(3, 2, 1, 2, [6,2,2]) == 0\n",
    "assert wet_shark_and_blocks_brute(3, 2, 1, 2, [3,1,2]) == 6"
   ]
  },
  {
   "cell_type": "code",
   "execution_count": null,
   "id": "312b4d88",
   "metadata": {},
   "outputs": [],
   "source": [
    "def wet_shark_and_blocks(N: int, B: int, K: int, X: int, nums: list[int]) -> int:\n",
    "    def matrix_multiply(A: list[list[int]], B: list[list[int]], mod: int) -> list[list[int]]:\n",
    "        M, N, P, Q = len(A), len(A[0]), len(B), len(B[0])\n",
    "        assert N == P, \"Invalid dimensions provided.\"\n",
    "        result: list[list[int]] = [[0 for j in range(Q)] for i in range(M)]\n",
    "        for i in range(M):\n",
    "            for j in range(Q):\n",
    "                for k in range(N):\n",
    "                    result[i][j] = (result[i][j] + A[i][k] * B[k][j]) % mod\n",
    "        return result\n",
    "\n",
    "    def matrix_power(base: list[list[int]], exp: int, mod: int) -> list[list[int]]:\n",
    "        N = len(base)\n",
    "        result: list[list[int]] = [[1 if i == j else 0 for j in range(N)] for i in range(N)]\n",
    "        while exp:\n",
    "            if exp & 1:\n",
    "                result = matrix_multiply(result, base, mod)\n",
    "            base = matrix_multiply(base, base, mod)\n",
    "            exp >>= 1\n",
    "        return result\n",
    "\n",
    "    # Answer can be very large\n",
    "    MOD = 10 ** 9 + 7\n",
    "\n",
    "    # Create a freq array\n",
    "    freq: list[int] = [0 for i in range(10)]\n",
    "    for n in nums:\n",
    "        freq[n] += 1\n",
    "\n",
    "    # Create transformation matrix\n",
    "    base: list[list[int]] = [[0 for j in range(X)] for i in range(X)]\n",
    "    for total in range(X):\n",
    "        for next_ in range(1, 10):\n",
    "            new_total = (total * 10 + next_) % X\n",
    "            base[new_total][total] = (base[new_total][total] + freq[next_]) % MOD\n",
    "\n",
    "    result = matrix_power(base, B, MOD)\n",
    "    return result[K][0]\n",
    "\n",
    "\n",
    "# Testing the solution\n",
    "assert wet_shark_and_blocks(12, 1, 5, 10, [3,5,6,7,8,9,5,1,1,1,1,5]) == 3\n",
    "assert wet_shark_and_blocks(3, 2, 1, 2, [6,2,2]) == 0\n",
    "assert wet_shark_and_blocks(3, 2, 1, 2, [3,1,2]) == 6"
   ]
  }
 ],
 "metadata": {
  "kernelspec": {
   "display_name": "Python 3 (ipykernel)",
   "language": "python",
   "name": "python3"
  },
  "language_info": {
   "codemirror_mode": {
    "name": "ipython",
    "version": 3
   },
   "file_extension": ".py",
   "mimetype": "text/x-python",
   "name": "python",
   "nbconvert_exporter": "python",
   "pygments_lexer": "ipython3",
   "version": "3.11.9"
  },
  "papermill": {
   "default_parameters": {},
   "duration": 2.380376,
   "end_time": "2024-08-05T13:54:07.324232",
   "environment_variables": {},
   "exception": null,
   "input_path": "practice/007.ipynb",
   "output_path": "practice/007.ipynb",
   "parameters": {},
   "start_time": "2024-08-05T13:54:04.943856",
   "version": "2.6.0"
  }
 },
 "nbformat": 4,
 "nbformat_minor": 5
}
