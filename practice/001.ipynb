{
 "cells": [
  {
   "cell_type": "code",
   "execution_count": 1,
   "id": "1c40ad22",
   "metadata": {
    "execution": {
     "iopub.execute_input": "2024-03-01T17:38:32.016069Z",
     "iopub.status.busy": "2024-03-01T17:38:32.015373Z",
     "iopub.status.idle": "2024-03-01T17:38:32.285579Z",
     "shell.execute_reply": "2024-03-01T17:38:32.284094Z"
    },
    "papermill": {
     "duration": 0.275378,
     "end_time": "2024-03-01T17:38:32.287798",
     "exception": false,
     "start_time": "2024-03-01T17:38:32.012420",
     "status": "completed"
    },
    "tags": []
   },
   "outputs": [],
   "source": [
    "from typing import List, Optional\n",
    "import pandas as pd\n",
    "import numpy as np\n",
    "import sqlite3\n",
    "import re\n",
    "import io\n",
    "import math\n",
    "import collections\n",
    "import itertools\n",
    "import functools\n",
    "import random\n",
    "import string\n",
    "import tqdm\n",
    "import bisect\n",
    "\n",
    "conn = sqlite3.connect(\":memory:\")\n",
    "\n",
    "def regexp(expr, item):\n",
    "    reg = re.compile(expr)\n",
    "    return reg.search(item) is not None\n",
    "\n",
    "def read_lc_df(s: str) -> pd.DataFrame:\n",
    "    temp = pd.read_csv(io.StringIO(s), sep=\"|\", skiprows=2)\n",
    "    temp = temp.iloc[1:-1, 1:-1]\n",
    "    temp.columns = temp.columns.map(str.strip)\n",
    "    temp = temp.map(lambda x: x if type(x) != str else None if x.strip() == 'null' else x.strip())\n",
    "    return temp\n",
    "\n",
    "conn.create_function(\"REGEXP\", 2, regexp)"
   ]
  },
  {
   "cell_type": "markdown",
   "id": "4fb8e6c0",
   "metadata": {
    "papermill": {
     "duration": 0.002007,
     "end_time": "2024-03-01T17:38:32.291569",
     "exception": false,
     "start_time": "2024-03-01T17:38:32.289562",
     "status": "completed"
    },
    "tags": []
   },
   "source": [
    "#### Helper for Binary tree problems"
   ]
  },
  {
   "cell_type": "code",
   "execution_count": 2,
   "id": "5cff3cee",
   "metadata": {
    "execution": {
     "iopub.execute_input": "2024-03-01T17:38:32.296855Z",
     "iopub.status.busy": "2024-03-01T17:38:32.296023Z",
     "iopub.status.idle": "2024-03-01T17:38:32.303443Z",
     "shell.execute_reply": "2024-03-01T17:38:32.302374Z"
    },
    "lines_to_next_cell": 1,
    "papermill": {
     "duration": 0.011979,
     "end_time": "2024-03-01T17:38:32.304956",
     "exception": false,
     "start_time": "2024-03-01T17:38:32.292977",
     "status": "completed"
    },
    "tags": []
   },
   "outputs": [],
   "source": [
    "class BinaryTreeNode:\n",
    "    def __init__(self, val=0, left=None, right=None):\n",
    "        self.val = val\n",
    "        self.left = left\n",
    "        self.right = right\n",
    "\n",
    "    def to_list(self):\n",
    "        to_visit = [self]\n",
    "        visited = []\n",
    "        while len(to_visit) > 0:\n",
    "            curr = to_visit.pop(0)\n",
    "            if curr:\n",
    "                to_visit.append(curr.left)\n",
    "                to_visit.append(curr.right)\n",
    "                visited.append(curr.val)\n",
    "            else:\n",
    "                visited.append(curr)\n",
    "        return visited\n",
    "\n",
    "    def __str__(self):\n",
    "        return str(self.val)\n",
    "\n",
    "    @staticmethod\n",
    "    def from_array(nums: List[int|None]):\n",
    "        '''Create a Tree from a list of nums. Returns the root node.'''\n",
    "        if len(nums) == 0:\n",
    "            return None\n",
    "        elif len(nums) == 1:\n",
    "            return BinaryTreeNode(nums[0])\n",
    "        else:\n",
    "            forest = [BinaryTreeNode(nums[0])]\n",
    "            parent_idx = -1\n",
    "            for i in range(1, len(nums)):\n",
    "\n",
    "                curr = None\n",
    "                if nums[i] is not None:\n",
    "                    curr = BinaryTreeNode(nums[i])\n",
    "                    forest.append(curr)\n",
    "\n",
    "                if i % 2 == 1:\n",
    "                    parent_idx += 1\n",
    "                    forest[parent_idx].left = curr\n",
    "                else:\n",
    "                    forest[parent_idx].right = curr\n",
    "\n",
    "        return forest[0]"
   ]
  },
  {
   "cell_type": "markdown",
   "id": "3a05e040",
   "metadata": {
    "papermill": {
     "duration": 0.002151,
     "end_time": "2024-03-01T17:38:32.308921",
     "exception": false,
     "start_time": "2024-03-01T17:38:32.306770",
     "status": "completed"
    },
    "tags": []
   },
   "source": [
    "#### Helper for Singly Linked lists"
   ]
  },
  {
   "cell_type": "code",
   "execution_count": 3,
   "id": "97e5cff8",
   "metadata": {
    "execution": {
     "iopub.execute_input": "2024-03-01T17:38:32.313459Z",
     "iopub.status.busy": "2024-03-01T17:38:32.312656Z",
     "iopub.status.idle": "2024-03-01T17:38:32.318305Z",
     "shell.execute_reply": "2024-03-01T17:38:32.317444Z"
    },
    "lines_to_next_cell": 1,
    "papermill": {
     "duration": 0.009497,
     "end_time": "2024-03-01T17:38:32.319660",
     "exception": false,
     "start_time": "2024-03-01T17:38:32.310163",
     "status": "completed"
    },
    "tags": []
   },
   "outputs": [],
   "source": [
    "class ListNode:\n",
    "    def __init__(self, val=0, next=None):\n",
    "        self.val = val\n",
    "        self.next = next\n",
    "\n",
    "    def __str__(self):\n",
    "        return str(self.val)\n",
    "\n",
    "    @staticmethod\n",
    "    def to_singly_linked_list(nums: list[int]):\n",
    "        root = prev = None\n",
    "        for n in nums:\n",
    "            curr = ListNode(n)\n",
    "            # Init once\n",
    "            if not root:\n",
    "                root = curr\n",
    "            if prev:\n",
    "                prev.next = curr\n",
    "            prev = curr\n",
    "\n",
    "        return root\n",
    "\n",
    "    def to_list(self) -> list[int]:\n",
    "        result = []\n",
    "        curr = self\n",
    "        while curr:\n",
    "            result.append(curr.val)\n",
    "            curr = curr.next\n",
    "        return result"
   ]
  },
  {
   "cell_type": "code",
   "execution_count": 4,
   "id": "fa9ec8f3",
   "metadata": {
    "execution": {
     "iopub.execute_input": "2024-03-01T17:38:32.324983Z",
     "iopub.status.busy": "2024-03-01T17:38:32.324332Z",
     "iopub.status.idle": "2024-03-01T17:38:32.330116Z",
     "shell.execute_reply": "2024-03-01T17:38:32.329273Z"
    },
    "lines_to_next_cell": 1,
    "papermill": {
     "duration": 0.011558,
     "end_time": "2024-03-01T17:38:32.332512",
     "exception": false,
     "start_time": "2024-03-01T17:38:32.320954",
     "status": "completed"
    },
    "tags": []
   },
   "outputs": [],
   "source": [
    "# Problem Category: Easy\n",
    "# Link: https://leetcode.com/problems/find-mode-in-binary-search-tree/submissions/1187947888\n",
    "class Solution:\n",
    "    def findMode(self, root: BinaryTreeNode) -> List[int]:\n",
    "        def backtrack(curr: BinaryTreeNode):\n",
    "            if curr == None:\n",
    "                return\n",
    "            else:\n",
    "                hm[curr.val] = hm.get(curr.val, 0) + 1\n",
    "                backtrack(curr.left)\n",
    "                backtrack(curr.right)\n",
    "\n",
    "        hm: dict[int, int] = dict()\n",
    "        backtrack(root)\n",
    "        max_ = max(hm.values())\n",
    "        result: list[int] = []\n",
    "        for k, v in hm.items():\n",
    "            if v == max_:\n",
    "                result.append(k)\n",
    "        return result\n",
    "\n",
    "# Testing the solution\n",
    "assert Solution().findMode(BinaryTreeNode.from_array([1,None,2,2])) == [2]\n",
    "assert Solution().findMode(BinaryTreeNode.from_array([0])) == [0]"
   ]
  },
  {
   "cell_type": "code",
   "execution_count": 5,
   "id": "c8266d81",
   "metadata": {
    "execution": {
     "iopub.execute_input": "2024-03-01T17:38:32.338278Z",
     "iopub.status.busy": "2024-03-01T17:38:32.337339Z",
     "iopub.status.idle": "2024-03-01T17:38:32.343336Z",
     "shell.execute_reply": "2024-03-01T17:38:32.342425Z"
    },
    "lines_to_next_cell": 1,
    "papermill": {
     "duration": 0.01049,
     "end_time": "2024-03-01T17:38:32.344704",
     "exception": false,
     "start_time": "2024-03-01T17:38:32.334214",
     "status": "completed"
    },
    "tags": []
   },
   "outputs": [],
   "source": [
    "# Problem Category: Medium\n",
    "# Link: https://leetcode.com/problems/find-bottom-left-tree-value/submissions/1188894879/\n",
    "class Solution:\n",
    "    def findBottomLeftValue(self, root: BinaryTreeNode) -> int:\n",
    "        next_: List[BinaryTreeNode] = [root]\n",
    "        while True:\n",
    "            next_next_: List[BinaryTreeNode] = []\n",
    "            for node in next_:\n",
    "                if node.left:\n",
    "                    next_next_.append(node.left)\n",
    "                if node.right:\n",
    "                    next_next_.append(node.right)\n",
    "            if next_next_:\n",
    "                next_ = next_next_\n",
    "            else:\n",
    "                break\n",
    "        return next_[0].val\n",
    "\n",
    "# Testing the solution\n",
    "assert Solution().findBottomLeftValue(BinaryTreeNode.from_array([2, 1, 3])) == 1\n",
    "assert Solution().findBottomLeftValue(BinaryTreeNode.from_array([1,2,3,4,None,5,6,None,None,7])) == 7"
   ]
  },
  {
   "cell_type": "code",
   "execution_count": 6,
   "id": "c16e336b",
   "metadata": {
    "execution": {
     "iopub.execute_input": "2024-03-01T17:38:32.349306Z",
     "iopub.status.busy": "2024-03-01T17:38:32.348982Z",
     "iopub.status.idle": "2024-03-01T17:38:32.354123Z",
     "shell.execute_reply": "2024-03-01T17:38:32.353263Z"
    },
    "lines_to_next_cell": 1,
    "papermill": {
     "duration": 0.009684,
     "end_time": "2024-03-01T17:38:32.355640",
     "exception": false,
     "start_time": "2024-03-01T17:38:32.345956",
     "status": "completed"
    },
    "tags": []
   },
   "outputs": [],
   "source": [
    "# Problem Category: Easy\n",
    "# Link: https://leetcode.com/problems/maximum-odd-binary-number/1190823057\n",
    "class Solution:\n",
    "    def maximumOddBinaryNumber(self, s: str) -> str:\n",
    "        counts = dict(collections.Counter(s))\n",
    "        zeros = counts.get('0', 0) * '0'\n",
    "        ones = (counts.get('1', 0) - 1) * '1'\n",
    "        return ones + zeros + '1'\n",
    "\n",
    "# Testing the solution\n",
    "assert Solution().maximumOddBinaryNumber(\"010\") == \"001\"\n",
    "assert Solution().maximumOddBinaryNumber(\"0101\") == \"1001\""
   ]
  },
  {
   "cell_type": "code",
   "execution_count": null,
   "id": "978d44e4",
   "metadata": {},
   "outputs": [],
   "source": [
    "# Problem Category: Easy\n",
    "# Link: https://leetcode.com/problems/squares-of-a-sorted-array\n",
    "class Solution:\n",
    "    def sortedSquares(self, nums: list[int]) -> list[int]:\n",
    "        N = len(nums)\n",
    "        i, j = 0, N - 1\n",
    "        sorted_by_magnitude: list[int] = []\n",
    "        while i <= j:\n",
    "            if abs(nums[i]) > abs(nums[j]):\n",
    "                sorted_by_magnitude.append(nums[i])\n",
    "                i += 1\n",
    "            else:\n",
    "                sorted_by_magnitude.append(nums[j])\n",
    "                j -= 1\n",
    "        sorted_by_magnitude.reverse()\n",
    "\n",
    "        result: list[int] = []\n",
    "        for num in sorted_by_magnitude:\n",
    "            result.append(num * num)\n",
    "\n",
    "        return result\n",
    "\n",
    "# Testing the solution\n",
    "assert Solution().sortedSquares([-4,-1,0,3,10]) == [0, 1, 9, 16, 100]\n",
    "assert Solution().sortedSquares([-7,-4,-1,0,3,10]) == [0, 1, 9, 16, 49, 100]"
   ]
  }
 ],
 "metadata": {
  "kernelspec": {
   "display_name": "Python 3 (ipykernel)",
   "language": "python",
   "name": "python3"
  },
  "language_info": {
   "codemirror_mode": {
    "name": "ipython",
    "version": 3
   },
   "file_extension": ".py",
   "mimetype": "text/x-python",
   "name": "python",
   "nbconvert_exporter": "python",
   "pygments_lexer": "ipython3",
   "version": "3.10.13"
  },
  "papermill": {
   "default_parameters": {},
   "duration": 5.326957,
   "end_time": "2024-03-01T17:38:35.049360",
   "environment_variables": {},
   "exception": null,
   "input_path": "001.ipynb",
   "output_path": "001.ipynb",
   "parameters": {},
   "start_time": "2024-03-01T17:38:29.722403",
   "version": "2.4.0"
  }
 },
 "nbformat": 4,
 "nbformat_minor": 5
}
