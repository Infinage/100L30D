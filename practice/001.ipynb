{
 "cells": [
  {
   "cell_type": "code",
   "execution_count": 1,
   "id": "3f12b031",
   "metadata": {
    "execution": {
     "iopub.execute_input": "2024-04-13T17:23:57.435945Z",
     "iopub.status.busy": "2024-04-13T17:23:57.435278Z",
     "iopub.status.idle": "2024-04-13T17:23:57.938549Z",
     "shell.execute_reply": "2024-04-13T17:23:57.937770Z"
    },
    "papermill": {
     "duration": 0.523418,
     "end_time": "2024-04-13T17:23:57.940567",
     "exception": false,
     "start_time": "2024-04-13T17:23:57.417149",
     "status": "completed"
    },
    "tags": []
   },
   "outputs": [],
   "source": [
    "from typing import List, Optional\n",
    "import pandas as pd\n",
    "import numpy as np\n",
    "import sqlite3\n",
    "import re\n",
    "import io\n",
    "import math\n",
    "import collections\n",
    "import itertools\n",
    "import functools\n",
    "import random\n",
    "import string\n",
    "import tqdm\n",
    "import bisect\n",
    "\n",
    "conn = sqlite3.connect(\":memory:\")\n",
    "\n",
    "def regexp(expr, item):\n",
    "    reg = re.compile(expr)\n",
    "    return reg.search(item) is not None\n",
    "\n",
    "def read_lc_df(s: str) -> pd.DataFrame:\n",
    "    temp = pd.read_csv(io.StringIO(s), sep=\"|\", skiprows=2)\n",
    "    temp = temp.iloc[1:-1, 1:-1]\n",
    "    temp.columns = temp.columns.map(str.strip)\n",
    "    temp = temp.map(lambda x: x if type(x) != str else None if x.strip() == 'null' else x.strip())\n",
    "    return temp\n",
    "\n",
    "conn.create_function(\"REGEXP\", 2, regexp)"
   ]
  },
  {
   "cell_type": "markdown",
   "id": "7f5a0241",
   "metadata": {
    "papermill": {
     "duration": 0.015712,
     "end_time": "2024-04-13T17:23:57.972506",
     "exception": false,
     "start_time": "2024-04-13T17:23:57.956794",
     "status": "completed"
    },
    "tags": []
   },
   "source": [
    "#### Helper for Binary tree problems"
   ]
  },
  {
   "cell_type": "code",
   "execution_count": 2,
   "id": "85eb2598",
   "metadata": {
    "execution": {
     "iopub.execute_input": "2024-04-13T17:23:58.005817Z",
     "iopub.status.busy": "2024-04-13T17:23:58.005054Z",
     "iopub.status.idle": "2024-04-13T17:23:58.016027Z",
     "shell.execute_reply": "2024-04-13T17:23:58.015208Z"
    },
    "lines_to_next_cell": 1,
    "papermill": {
     "duration": 0.02954,
     "end_time": "2024-04-13T17:23:58.017727",
     "exception": false,
     "start_time": "2024-04-13T17:23:57.988187",
     "status": "completed"
    },
    "tags": []
   },
   "outputs": [],
   "source": [
    "class BinaryTreeNode:\n",
    "    def __init__(self, val=0, left=None, right=None):\n",
    "        self.val = val\n",
    "        self.left = left\n",
    "        self.right = right\n",
    "\n",
    "    def to_list(self):\n",
    "        to_visit = [self]\n",
    "        visited = []\n",
    "        while len(to_visit) > 0:\n",
    "            curr = to_visit.pop(0)\n",
    "            if curr:\n",
    "                to_visit.append(curr.left)\n",
    "                to_visit.append(curr.right)\n",
    "                visited.append(curr.val)\n",
    "            else:\n",
    "                visited.append(curr)\n",
    "        return visited\n",
    "\n",
    "    def __str__(self):\n",
    "        return str(self.val)\n",
    "\n",
    "    @staticmethod\n",
    "    def from_array(nums: list[int|None]):\n",
    "        '''Create a Tree from a list of nums. Returns the root node.'''\n",
    "        if len(nums) == 0:\n",
    "            return None\n",
    "        elif len(nums) == 1:\n",
    "            return BinaryTreeNode(nums[0])\n",
    "        else:\n",
    "            forest = [BinaryTreeNode(nums[0])]\n",
    "            parent_idx = -1\n",
    "            for i in range(1, len(nums)):\n",
    "\n",
    "                curr = None\n",
    "                if nums[i] is not None:\n",
    "                    curr = BinaryTreeNode(nums[i])\n",
    "                    forest.append(curr)\n",
    "\n",
    "                if i % 2 == 1:\n",
    "                    parent_idx += 1\n",
    "                    forest[parent_idx].left = curr\n",
    "                else:\n",
    "                    forest[parent_idx].right = curr\n",
    "\n",
    "        return forest[0]"
   ]
  },
  {
   "cell_type": "markdown",
   "id": "1ef703cf",
   "metadata": {
    "papermill": {
     "duration": 0.01581,
     "end_time": "2024-04-13T17:23:58.050061",
     "exception": false,
     "start_time": "2024-04-13T17:23:58.034251",
     "status": "completed"
    },
    "tags": []
   },
   "source": [
    "#### Helper for Singly Linked lists"
   ]
  },
  {
   "cell_type": "code",
   "execution_count": 3,
   "id": "3de163a1",
   "metadata": {
    "execution": {
     "iopub.execute_input": "2024-04-13T17:23:58.083753Z",
     "iopub.status.busy": "2024-04-13T17:23:58.083039Z",
     "iopub.status.idle": "2024-04-13T17:23:58.090655Z",
     "shell.execute_reply": "2024-04-13T17:23:58.089981Z"
    },
    "lines_to_next_cell": 1,
    "papermill": {
     "duration": 0.026491,
     "end_time": "2024-04-13T17:23:58.092378",
     "exception": false,
     "start_time": "2024-04-13T17:23:58.065887",
     "status": "completed"
    },
    "tags": []
   },
   "outputs": [],
   "source": [
    "class ListNode:\n",
    "    def __init__(self, val=0, next=None):\n",
    "        self.val = val\n",
    "        self.next = next\n",
    "\n",
    "    def __str__(self):\n",
    "        return str(self.val)\n",
    "\n",
    "    @staticmethod\n",
    "    def to_singly_linked_list(nums: list[int]):\n",
    "        root = prev = None\n",
    "        for n in nums:\n",
    "            curr = ListNode(n)\n",
    "            # Init once\n",
    "            if not root:\n",
    "                root = curr\n",
    "            if prev:\n",
    "                prev.next = curr\n",
    "            prev = curr\n",
    "\n",
    "        return root\n",
    "\n",
    "    def to_list(self) -> list[int]:\n",
    "        result = []\n",
    "        curr = self\n",
    "        while curr:\n",
    "            result.append(curr.val)\n",
    "            curr = curr.next\n",
    "        return result"
   ]
  },
  {
   "cell_type": "code",
   "execution_count": 4,
   "id": "e9a621b3",
   "metadata": {
    "execution": {
     "iopub.execute_input": "2024-04-13T17:23:58.126276Z",
     "iopub.status.busy": "2024-04-13T17:23:58.125585Z",
     "iopub.status.idle": "2024-04-13T17:23:58.133139Z",
     "shell.execute_reply": "2024-04-13T17:23:58.132302Z"
    },
    "lines_to_next_cell": 1,
    "papermill": {
     "duration": 0.026544,
     "end_time": "2024-04-13T17:23:58.134922",
     "exception": false,
     "start_time": "2024-04-13T17:23:58.108378",
     "status": "completed"
    },
    "tags": []
   },
   "outputs": [],
   "source": [
    "# Problem Category: Easy\n",
    "# Link: https://leetcode.com/problems/find-mode-in-binary-search-tree/submissions/1187947888\n",
    "class Solution:\n",
    "    def findMode(self, root: BinaryTreeNode) -> List[int]:\n",
    "        def backtrack(curr: BinaryTreeNode):\n",
    "            if curr == None:\n",
    "                return\n",
    "            else:\n",
    "                hm[curr.val] = hm.get(curr.val, 0) + 1\n",
    "                backtrack(curr.left)\n",
    "                backtrack(curr.right)\n",
    "\n",
    "        hm: dict[int, int] = dict()\n",
    "        backtrack(root)\n",
    "        max_ = max(hm.values())\n",
    "        result: list[int] = []\n",
    "        for k, v in hm.items():\n",
    "            if v == max_:\n",
    "                result.append(k)\n",
    "        return result\n",
    "\n",
    "# Testing the solution\n",
    "assert Solution().findMode(BinaryTreeNode.from_array([1,None,2,2])) == [2]\n",
    "assert Solution().findMode(BinaryTreeNode.from_array([0])) == [0]"
   ]
  },
  {
   "cell_type": "code",
   "execution_count": 5,
   "id": "9b733058",
   "metadata": {
    "execution": {
     "iopub.execute_input": "2024-04-13T17:23:58.168417Z",
     "iopub.status.busy": "2024-04-13T17:23:58.167713Z",
     "iopub.status.idle": "2024-04-13T17:23:58.174651Z",
     "shell.execute_reply": "2024-04-13T17:23:58.173993Z"
    },
    "lines_to_next_cell": 1,
    "papermill": {
     "duration": 0.025536,
     "end_time": "2024-04-13T17:23:58.176356",
     "exception": false,
     "start_time": "2024-04-13T17:23:58.150820",
     "status": "completed"
    },
    "tags": []
   },
   "outputs": [],
   "source": [
    "# Problem Category: Medium\n",
    "# Link: https://leetcode.com/problems/find-bottom-left-tree-value/submissions/1188894879/\n",
    "class Solution:\n",
    "    def findBottomLeftValue(self, root: BinaryTreeNode) -> int:\n",
    "        next_: list[BinaryTreeNode] = [root]\n",
    "        while True:\n",
    "            next_next_: list[BinaryTreeNode] = []\n",
    "            for node in next_:\n",
    "                if node.left:\n",
    "                    next_next_.append(node.left)\n",
    "                if node.right:\n",
    "                    next_next_.append(node.right)\n",
    "            if next_next_:\n",
    "                next_ = next_next_\n",
    "            else:\n",
    "                break\n",
    "        return next_[0].val\n",
    "\n",
    "# Testing the solution\n",
    "assert Solution().findBottomLeftValue(BinaryTreeNode.from_array([2, 1, 3])) == 1\n",
    "assert Solution().findBottomLeftValue(BinaryTreeNode.from_array([1,2,3,4,None,5,6,None,None,7])) == 7"
   ]
  },
  {
   "cell_type": "code",
   "execution_count": 6,
   "id": "d0726800",
   "metadata": {
    "execution": {
     "iopub.execute_input": "2024-04-13T17:23:58.209600Z",
     "iopub.status.busy": "2024-04-13T17:23:58.208956Z",
     "iopub.status.idle": "2024-04-13T17:23:58.214596Z",
     "shell.execute_reply": "2024-04-13T17:23:58.213801Z"
    },
    "lines_to_next_cell": 1,
    "papermill": {
     "duration": 0.024094,
     "end_time": "2024-04-13T17:23:58.216286",
     "exception": false,
     "start_time": "2024-04-13T17:23:58.192192",
     "status": "completed"
    },
    "tags": []
   },
   "outputs": [],
   "source": [
    "# Problem Category: Easy\n",
    "# Link: https://leetcode.com/problems/maximum-odd-binary-number/1190823057\n",
    "class Solution:\n",
    "    def maximumOddBinaryNumber(self, s: str) -> str:\n",
    "        counts = dict(collections.Counter(s))\n",
    "        zeros = counts.get('0', 0) * '0'\n",
    "        ones = (counts.get('1', 0) - 1) * '1'\n",
    "        return ones + zeros + '1'\n",
    "\n",
    "# Testing the solution\n",
    "assert Solution().maximumOddBinaryNumber(\"010\") == \"001\"\n",
    "assert Solution().maximumOddBinaryNumber(\"0101\") == \"1001\""
   ]
  },
  {
   "cell_type": "code",
   "execution_count": 7,
   "id": "a61be2aa",
   "metadata": {
    "execution": {
     "iopub.execute_input": "2024-04-13T17:23:58.249207Z",
     "iopub.status.busy": "2024-04-13T17:23:58.248526Z",
     "iopub.status.idle": "2024-04-13T17:23:58.256127Z",
     "shell.execute_reply": "2024-04-13T17:23:58.255487Z"
    },
    "lines_to_next_cell": 1,
    "papermill": {
     "duration": 0.025894,
     "end_time": "2024-04-13T17:23:58.257835",
     "exception": false,
     "start_time": "2024-04-13T17:23:58.231941",
     "status": "completed"
    },
    "tags": []
   },
   "outputs": [],
   "source": [
    "# Problem Category: Easy\n",
    "# Link: https://leetcode.com/problems/squares-of-a-sorted-array\n",
    "class Solution:\n",
    "    def sortedSquares(self, nums: list[int]) -> list[int]:\n",
    "        N = len(nums)\n",
    "        i, j = 0, N - 1\n",
    "        sorted_by_magnitude: list[int] = []\n",
    "        while i <= j:\n",
    "            if abs(nums[i]) > abs(nums[j]):\n",
    "                sorted_by_magnitude.append(nums[i])\n",
    "                i += 1\n",
    "            else:\n",
    "                sorted_by_magnitude.append(nums[j])\n",
    "                j -= 1\n",
    "        sorted_by_magnitude.reverse()\n",
    "\n",
    "        result: list[int] = []\n",
    "        for num in sorted_by_magnitude:\n",
    "            result.append(num * num)\n",
    "\n",
    "        return result\n",
    "\n",
    "# Testing the solution\n",
    "assert Solution().sortedSquares([-4,-1,0,3,10]) == [0, 1, 9, 16, 100]\n",
    "assert Solution().sortedSquares([-7,-4,-1,0,3,10]) == [0, 1, 9, 16, 49, 100]"
   ]
  },
  {
   "cell_type": "code",
   "execution_count": 8,
   "id": "f1f33401",
   "metadata": {
    "execution": {
     "iopub.execute_input": "2024-04-13T17:23:58.291188Z",
     "iopub.status.busy": "2024-04-13T17:23:58.290547Z",
     "iopub.status.idle": "2024-04-13T17:23:58.298058Z",
     "shell.execute_reply": "2024-04-13T17:23:58.297245Z"
    },
    "lines_to_next_cell": 1,
    "papermill": {
     "duration": 0.026091,
     "end_time": "2024-04-13T17:23:58.299817",
     "exception": false,
     "start_time": "2024-04-13T17:23:58.273726",
     "status": "completed"
    },
    "tags": []
   },
   "outputs": [],
   "source": [
    "# Problem Category: Medium\n",
    "# Link: https://leetcode.com/problems/minimum-length-of-string-after-deleting-similar-ends/submissions/1194814297\n",
    "class Solution:\n",
    "    def minimumLength(self, s: str) -> int:\n",
    "        N = len(s)\n",
    "        i, j = 0, N - 1\n",
    "        while i < j:\n",
    "            while i < N - 1 and s[i + 1] == s[i] and s[i] == s[j]:\n",
    "                i += 1\n",
    "            while j > 1 and s[j - 1] == s[j] and s[i] == s[j]:\n",
    "                j -= 1\n",
    "            if s[i] == s[j]:\n",
    "                i += 1\n",
    "                j -= 1\n",
    "            else:\n",
    "                return (j - i) + 1\n",
    "        else:\n",
    "            return 1 if i == j else 0\n",
    "\n",
    "# Testing the solution\n",
    "assert Solution().minimumLength(\"ca\") == 2\n",
    "assert Solution().minimumLength(\"cabaabac\") == 0\n",
    "assert Solution().minimumLength(\"aabccabba\") == 3\n",
    "assert Solution().minimumLength(\"bbbbbabbbbccbcbcbccbbabbb\") == 1\n",
    "assert Solution().minimumLength(\"aaaa\") == 0"
   ]
  },
  {
   "cell_type": "code",
   "execution_count": 9,
   "id": "79086e5d",
   "metadata": {
    "execution": {
     "iopub.execute_input": "2024-04-13T17:23:58.333086Z",
     "iopub.status.busy": "2024-04-13T17:23:58.332402Z",
     "iopub.status.idle": "2024-04-13T17:23:58.338990Z",
     "shell.execute_reply": "2024-04-13T17:23:58.338359Z"
    },
    "lines_to_next_cell": 1,
    "papermill": {
     "duration": 0.024944,
     "end_time": "2024-04-13T17:23:58.340667",
     "exception": false,
     "start_time": "2024-04-13T17:23:58.315723",
     "status": "completed"
    },
    "tags": []
   },
   "outputs": [],
   "source": [
    "# Problem Category: Easy\n",
    "# Link: https://leetcode.com/problems/ransom-note/submissions/1195815128\n",
    "class Solution:\n",
    "    def canConstruct(self, ransomNote: str, magazine: str) -> bool:\n",
    "        cr = collections.Counter(ransomNote)\n",
    "        cm = collections.Counter(magazine)\n",
    "        for i in range(ord(\"a\"), ord(\"z\") + 1):\n",
    "            ch = chr(i)\n",
    "            if cm.get(ch, 0) < cr.get(ch, 0):\n",
    "                return False\n",
    "        else:\n",
    "            return True\n",
    "\n",
    "# Testing the solution\n",
    "assert Solution().canConstruct(\"aa\", \"aab\") == True\n",
    "assert Solution().canConstruct(\"a\", \"b\") == False\n",
    "assert Solution().canConstruct(\"aa\", \"ab\") == False"
   ]
  },
  {
   "cell_type": "markdown",
   "id": "86315f1b",
   "metadata": {
    "papermill": {
     "duration": 0.01565,
     "end_time": "2024-04-13T17:23:58.372213",
     "exception": false,
     "start_time": "2024-04-13T17:23:58.356563",
     "status": "completed"
    },
    "tags": []
   },
   "source": [
    "Striver: Pascal's triangle\n",
    "Problem: Finding nCr in minimal time (part of pascal's triangle)\n",
    "Find element at position 1st 2nd column in a pascal's triangle\n",
    "Sol: math.comb(n -1, r - 1)"
   ]
  },
  {
   "cell_type": "code",
   "execution_count": 10,
   "id": "d8a93518",
   "metadata": {
    "execution": {
     "iopub.execute_input": "2024-04-13T17:23:58.405162Z",
     "iopub.status.busy": "2024-04-13T17:23:58.404441Z",
     "iopub.status.idle": "2024-04-13T17:23:58.411192Z",
     "shell.execute_reply": "2024-04-13T17:23:58.410356Z"
    },
    "lines_to_next_cell": 1,
    "papermill": {
     "duration": 0.025202,
     "end_time": "2024-04-13T17:23:58.412957",
     "exception": false,
     "start_time": "2024-04-13T17:23:58.387755",
     "status": "completed"
    },
    "tags": []
   },
   "outputs": [],
   "source": [
    "def nCr(n: int, r: int) -> float:\n",
    "    num = functools.reduce(lambda x, y: x * y, range(n, n - r, -1))\n",
    "    den = functools.reduce(lambda x, y: x * y, range(r, 0, -1))\n",
    "    return num / den\n",
    "\n",
    "# Testing the solution\n",
    "for i in range(50):\n",
    "    i, j = sorted([random.randint(1, 50), random.randint(1, 50)], reverse=True)\n",
    "    assert math.comb(i, j) == nCr(i, j), f\"failed for {i, j}\""
   ]
  },
  {
   "cell_type": "code",
   "execution_count": 11,
   "id": "3936a59e",
   "metadata": {
    "execution": {
     "iopub.execute_input": "2024-04-13T17:23:58.446678Z",
     "iopub.status.busy": "2024-04-13T17:23:58.446040Z",
     "iopub.status.idle": "2024-04-13T17:23:58.457815Z",
     "shell.execute_reply": "2024-04-13T17:23:58.457119Z"
    },
    "lines_to_next_cell": 1,
    "papermill": {
     "duration": 0.030524,
     "end_time": "2024-04-13T17:23:58.459572",
     "exception": false,
     "start_time": "2024-04-13T17:23:58.429048",
     "status": "completed"
    },
    "tags": []
   },
   "outputs": [],
   "source": [
    "# 4Sum\n",
    "class Solution:\n",
    "    def fourSum(self, arr: list[int], target: int) -> set[tuple[int]]:\n",
    "        def update_until(idx: int, update: int, until: int):\n",
    "            temp_idx = idx\n",
    "            assert update != 0\n",
    "            if update > 0:\n",
    "                while temp_idx < until and arr[temp_idx] == arr[idx]:\n",
    "                    temp_idx += update\n",
    "            else:\n",
    "                while temp_idx > until and arr[temp_idx] == arr[idx]:\n",
    "                    temp_idx += update\n",
    "            return temp_idx\n",
    "\n",
    "        N = len(arr)\n",
    "        arr.sort()\n",
    "        result: set[tuple[int]] = set()\n",
    "        i = 0\n",
    "        while i < N - 3:\n",
    "            j = i + 1\n",
    "            while j < N - 2:\n",
    "                k, l = j + 1, N - 1\n",
    "                while k < l:\n",
    "                    curr = arr[i], arr[j], arr[k], arr[l]\n",
    "                    if sum(curr) == target:\n",
    "                        result.add(curr)\n",
    "                        # Increment k, l\n",
    "                        k_, l_ = k, l\n",
    "                        while k_ < l_ and arr[k_] == arr[k] and arr[l_] == arr[l]:\n",
    "                            k_, l_ = k_ + 1, l_ - 1\n",
    "                        k, l = k_, l_\n",
    "                    elif sum(curr) < target:\n",
    "                        # Increment k\n",
    "                        k = update_until(k, 1, l)\n",
    "                    else:\n",
    "                        # Decrement l\n",
    "                        l = update_until(l, -1, k)\n",
    "\n",
    "                # Increment j\n",
    "                j = update_until(j, 1, N - 2)\n",
    "\n",
    "            # Increment i\n",
    "            i = update_until(i, 1, N - 3)\n",
    "\n",
    "        return result\n",
    "\n",
    "# Testing the solution\n",
    "assert Solution().fourSum([1,0,-1,0,-2,2], 0) == {(-2,-1,1,2), (-2,0,0,2), (-1,0,0,1)}\n",
    "assert Solution().fourSum([2,2,2,2,2], 8) == {(2, 2, 2, 2)}"
   ]
  },
  {
   "cell_type": "markdown",
   "id": "e839124e",
   "metadata": {
    "papermill": {
     "duration": 0.015821,
     "end_time": "2024-04-13T17:23:58.491706",
     "exception": false,
     "start_time": "2024-04-13T17:23:58.475885",
     "status": "completed"
    },
    "tags": []
   },
   "source": [
    "Leetcode Weekly contest - 17th March"
   ]
  },
  {
   "cell_type": "code",
   "execution_count": 12,
   "id": "e6574b26",
   "metadata": {
    "execution": {
     "iopub.execute_input": "2024-04-13T17:23:58.525078Z",
     "iopub.status.busy": "2024-04-13T17:23:58.524434Z",
     "iopub.status.idle": "2024-04-13T17:23:58.530117Z",
     "shell.execute_reply": "2024-04-13T17:23:58.529342Z"
    },
    "lines_to_next_cell": 1,
    "papermill": {
     "duration": 0.024208,
     "end_time": "2024-04-13T17:23:58.531729",
     "exception": false,
     "start_time": "2024-04-13T17:23:58.507521",
     "status": "completed"
    },
    "tags": []
   },
   "outputs": [],
   "source": [
    "class Solution:\n",
    "    def isSubstringPresent(self, s: str) -> bool:\n",
    "        rev_ = \"\".join(list(reversed(s)))\n",
    "        N = len(s)\n",
    "        for i in range(N - 1):\n",
    "            if s[i:i+2] in rev_:\n",
    "                return True\n",
    "        return False\n",
    "\n",
    "# Testing the solution\n",
    "assert Solution().isSubstringPresent(\"leetcode\") == True\n",
    "assert Solution().isSubstringPresent(\"abcd\") == False"
   ]
  },
  {
   "cell_type": "markdown",
   "id": "f12cafc3",
   "metadata": {
    "papermill": {
     "duration": 0.015709,
     "end_time": "2024-04-13T17:23:58.563442",
     "exception": false,
     "start_time": "2024-04-13T17:23:58.547733",
     "status": "completed"
    },
    "tags": []
   },
   "source": [
    "zz - z, z, zz (3)\n",
    "zzz - z, z, z, zz, zz, zzz (6)\n",
    "zzzz - z, z, z, z; zz, zz, zz, zzz, zzz, zzzz (10)\n",
    "zzzzz - z, z, z, z, z, zz, zz, zz, zz, zzz, zzz, zzz, zzzz, zzzz, zzzzz (15)"
   ]
  },
  {
   "cell_type": "code",
   "execution_count": 13,
   "id": "589d1561",
   "metadata": {
    "execution": {
     "iopub.execute_input": "2024-04-13T17:23:58.596306Z",
     "iopub.status.busy": "2024-04-13T17:23:58.595619Z",
     "iopub.status.idle": "2024-04-13T17:23:58.601189Z",
     "shell.execute_reply": "2024-04-13T17:23:58.600369Z"
    },
    "lines_to_next_cell": 1,
    "papermill": {
     "duration": 0.024065,
     "end_time": "2024-04-13T17:23:58.603051",
     "exception": false,
     "start_time": "2024-04-13T17:23:58.578986",
     "status": "completed"
    },
    "tags": []
   },
   "outputs": [],
   "source": [
    "class Solution:\n",
    "    def countSubstrings(self, s: str, c: str) -> int:\n",
    "        count = 0\n",
    "        for ch in s:\n",
    "            if ch == c:\n",
    "                count += 1\n",
    "        return (count * (count + 1)) / 2\n",
    "\n",
    "# Testing the solution\n",
    "assert Solution().countSubstrings(\"abada\", \"a\") == 6\n",
    "assert Solution().countSubstrings(\"zzz\", \"z\") == 6"
   ]
  },
  {
   "cell_type": "code",
   "execution_count": 14,
   "id": "a0a48e4b",
   "metadata": {
    "execution": {
     "iopub.execute_input": "2024-04-13T17:23:58.636439Z",
     "iopub.status.busy": "2024-04-13T17:23:58.635831Z",
     "iopub.status.idle": "2024-04-13T17:23:58.642952Z",
     "shell.execute_reply": "2024-04-13T17:23:58.642169Z"
    },
    "lines_to_next_cell": 1,
    "papermill": {
     "duration": 0.0256,
     "end_time": "2024-04-13T17:23:58.644671",
     "exception": false,
     "start_time": "2024-04-13T17:23:58.619071",
     "status": "completed"
    },
    "tags": []
   },
   "outputs": [],
   "source": [
    "class Solution:\n",
    "    def minimumDeletions(self, word: str, k: int) -> int:\n",
    "        freq: list[int] = sorted(collections.Counter(word).values())\n",
    "        N = len(freq)\n",
    "\n",
    "        result = math.inf\n",
    "        sum_ = 0\n",
    "        for i in range(N):\n",
    "            sum_ += freq[i - 1] if i > 0 else 0\n",
    "            curr_ = 0\n",
    "            for j in range(i + 1, N):\n",
    "                if freq[j] - freq[i] > k:\n",
    "                    curr_ += freq[j] - freq[i] - k\n",
    "            result = min(curr_ + sum_, result)\n",
    "\n",
    "        return result\n",
    "\n",
    "# Testing the solution\n",
    "assert Solution().minimumDeletions(\"aabcaba\", 0) == 3\n",
    "assert Solution().minimumDeletions(\"dabdcbdcdcd\", 2) == 2\n",
    "assert Solution().minimumDeletions(\"aaabaaa\", 2) == 1"
   ]
  },
  {
   "cell_type": "markdown",
   "id": "acd2120e",
   "metadata": {
    "papermill": {
     "duration": 0.015824,
     "end_time": "2024-04-13T17:23:58.676932",
     "exception": false,
     "start_time": "2024-04-13T17:23:58.661108",
     "status": "completed"
    },
    "tags": []
   },
   "source": [
    "Leetcode Weekly contest - 17th March\n",
    "Link: https://leetcode.com/problems/search-in-rotated-sorted-array/submissions/1210464524/"
   ]
  },
  {
   "cell_type": "code",
   "execution_count": 15,
   "id": "f7960549",
   "metadata": {
    "execution": {
     "iopub.execute_input": "2024-04-13T17:23:58.710386Z",
     "iopub.status.busy": "2024-04-13T17:23:58.709656Z",
     "iopub.status.idle": "2024-04-13T17:23:58.717327Z",
     "shell.execute_reply": "2024-04-13T17:23:58.716684Z"
    },
    "lines_to_next_cell": 1,
    "papermill": {
     "duration": 0.026323,
     "end_time": "2024-04-13T17:23:58.719013",
     "exception": false,
     "start_time": "2024-04-13T17:23:58.692690",
     "status": "completed"
    },
    "tags": []
   },
   "outputs": [],
   "source": [
    "class Solution:\n",
    "    def search(self, nums: list[int], target: int) -> int:\n",
    "        N = len(nums)\n",
    "        low, high = 0, N - 1\n",
    "        while low <= high:\n",
    "            mid = (low + high) // 2\n",
    "            if nums[mid] == target:\n",
    "                return mid\n",
    "\n",
    "            # Left portion is sorted\n",
    "            elif nums[low] <= nums[mid]:\n",
    "                if nums[low] <= target <= nums[mid]:\n",
    "                    high = mid - 1\n",
    "                else:\n",
    "                    low = mid + 1\n",
    "\n",
    "            # Right portion is sorted\n",
    "            else:\n",
    "                if nums[mid] <= target <= nums[high]:\n",
    "                    low = mid + 1\n",
    "                else:\n",
    "                    high = mid - 1\n",
    "\n",
    "        # Not found\n",
    "        else:\n",
    "            return -1\n",
    "\n",
    "# Testing the solution\n",
    "assert Solution().search([4,5,6,7,0,1,2], 0) == 4\n",
    "assert Solution().search([4,5,6,7,0,1,2], 3) == -1\n",
    "assert Solution().search([1], 0) == -1"
   ]
  },
  {
   "cell_type": "markdown",
   "id": "6d00645d",
   "metadata": {
    "papermill": {
     "duration": 0.015731,
     "end_time": "2024-04-13T17:23:58.750646",
     "exception": false,
     "start_time": "2024-04-13T17:23:58.734915",
     "status": "completed"
    },
    "tags": []
   },
   "source": [
    "Leetcode weekly contest 24th March, 2024"
   ]
  },
  {
   "cell_type": "code",
   "execution_count": 16,
   "id": "4115c1b7",
   "metadata": {
    "execution": {
     "iopub.execute_input": "2024-04-13T17:23:58.783785Z",
     "iopub.status.busy": "2024-04-13T17:23:58.783484Z",
     "iopub.status.idle": "2024-04-13T17:23:58.789891Z",
     "shell.execute_reply": "2024-04-13T17:23:58.789094Z"
    },
    "lines_to_next_cell": 1,
    "papermill": {
     "duration": 0.025289,
     "end_time": "2024-04-13T17:23:58.791817",
     "exception": false,
     "start_time": "2024-04-13T17:23:58.766528",
     "status": "completed"
    },
    "tags": []
   },
   "outputs": [],
   "source": [
    "# Q1 - Easy\n",
    "class Solution:\n",
    "    def maximumLengthSubstring(self, s: str) -> int:\n",
    "        # Brute force\n",
    "        N = len(s)\n",
    "        max_ = 0\n",
    "        for i in range(N - 1):\n",
    "            counts = {s[i]: 1}\n",
    "            for j in range(i + 1, N):\n",
    "                curr_count = counts.get(s[j], 0) + 1\n",
    "                if curr_count > 2:\n",
    "                    break\n",
    "                else:\n",
    "                    counts[s[j]] = curr_count\n",
    "                    max_ = max(max_, j - i + 1)\n",
    "        return max_\n",
    "\n",
    "# Testing the solution\n",
    "assert Solution().maximumLengthSubstring(\"bcbbbcba\") == 4\n",
    "assert Solution().maximumLengthSubstring(\"aaaa\") == 2"
   ]
  },
  {
   "cell_type": "code",
   "execution_count": 17,
   "id": "d41b9204",
   "metadata": {
    "execution": {
     "iopub.execute_input": "2024-04-13T17:23:58.825480Z",
     "iopub.status.busy": "2024-04-13T17:23:58.824824Z",
     "iopub.status.idle": "2024-04-13T17:23:58.830434Z",
     "shell.execute_reply": "2024-04-13T17:23:58.829604Z"
    },
    "lines_to_next_cell": 1,
    "papermill": {
     "duration": 0.024234,
     "end_time": "2024-04-13T17:23:58.832059",
     "exception": false,
     "start_time": "2024-04-13T17:23:58.807825",
     "status": "completed"
    },
    "tags": []
   },
   "outputs": [],
   "source": [
    "# Q2 - Medium\n",
    "class Solution:\n",
    "    def minOperations(self, k: int) -> int:\n",
    "        \"Can be optimized with binary search\"\n",
    "        min_ = k - 1\n",
    "        for i in range(1, k):\n",
    "            curr = i + math.ceil(k / i) - 2\n",
    "            if curr < min_:\n",
    "                min_ = curr\n",
    "\n",
    "        return min_\n",
    "\n",
    "# Testing the solution\n",
    "assert Solution().minOperations(11) == 5\n",
    "assert Solution().minOperations(1) == 0"
   ]
  },
  {
   "cell_type": "code",
   "execution_count": 18,
   "id": "51f6c341",
   "metadata": {
    "execution": {
     "iopub.execute_input": "2024-04-13T17:23:58.865696Z",
     "iopub.status.busy": "2024-04-13T17:23:58.864998Z",
     "iopub.status.idle": "2024-04-13T17:23:58.872153Z",
     "shell.execute_reply": "2024-04-13T17:23:58.871358Z"
    },
    "lines_to_next_cell": 1,
    "papermill": {
     "duration": 0.02596,
     "end_time": "2024-04-13T17:23:58.873859",
     "exception": false,
     "start_time": "2024-04-13T17:23:58.847899",
     "status": "completed"
    },
    "tags": []
   },
   "outputs": [],
   "source": [
    "# Q3 - Medium (Timeout)\n",
    "class Solution:\n",
    "    def mostFrequentIDs(self, nums: list[int], freq: list[int]) -> list[int]:\n",
    "        \"Brute force: O(N^2)\"\n",
    "        N = len(nums)\n",
    "        counter = dict()\n",
    "        result: list[int] = []\n",
    "        for i in range(N):\n",
    "            counter[nums[i]] = counter.get(nums[i], 0) + freq[i]\n",
    "            curr_max = max(counter.items(), key=lambda x: x[1])\n",
    "            result.append(curr_max[1])\n",
    "\n",
    "        return result\n",
    "\n",
    "# Testing the solution\n",
    "assert Solution().mostFrequentIDs([5,5,3], [2,-2,1]) == [2, 0, 1]\n",
    "assert Solution().mostFrequentIDs([2,3,2,1], [3,2,-3,1]) == [3,3,2,2]"
   ]
  },
  {
   "cell_type": "markdown",
   "id": "f581903e",
   "metadata": {
    "papermill": {
     "duration": 0.01573,
     "end_time": "2024-04-13T17:23:58.905513",
     "exception": false,
     "start_time": "2024-04-13T17:23:58.889783",
     "status": "completed"
    },
    "tags": []
   },
   "source": [
    "Category: Medium\n",
    "Video Link: https://leetcode.com/problems/find-the-duplicate-number"
   ]
  },
  {
   "cell_type": "code",
   "execution_count": 19,
   "id": "08bb3876",
   "metadata": {
    "execution": {
     "iopub.execute_input": "2024-04-13T17:23:58.938600Z",
     "iopub.status.busy": "2024-04-13T17:23:58.938019Z",
     "iopub.status.idle": "2024-04-13T17:23:58.946842Z",
     "shell.execute_reply": "2024-04-13T17:23:58.946038Z"
    },
    "lines_to_next_cell": 1,
    "papermill": {
     "duration": 0.027347,
     "end_time": "2024-04-13T17:23:58.948547",
     "exception": false,
     "start_time": "2024-04-13T17:23:58.921200",
     "status": "completed"
    },
    "tags": []
   },
   "outputs": [],
   "source": [
    "class Solution:\n",
    "    def findDuplicate_(self, nums: list[int]) -> int:\n",
    "        # Time - O(N log N)\n",
    "        nums.sort()\n",
    "\n",
    "        # Time - O(N)\n",
    "        for i in range(len(nums) -1):\n",
    "            if nums[i] == nums[i + 1]:\n",
    "                return nums[i]\n",
    "\n",
    "        return -1\n",
    "\n",
    "    def findDuplicate(self, nums: list[int]) -> int:\n",
    "        def backtrack(start: int) -> None | int:\n",
    "            next_ = nums[start]\n",
    "            if next_ == -1:\n",
    "                return start\n",
    "            else:\n",
    "                nums[start] = -1\n",
    "                return backtrack(next_)\n",
    "\n",
    "        for i in range(len(nums)):\n",
    "            if nums[i] == i:\n",
    "                nums[i] = -1\n",
    "            else:\n",
    "                curr = backtrack(nums[i])\n",
    "                if curr is not None:\n",
    "                    return curr\n",
    "        else:\n",
    "            return -1\n",
    "\n",
    "# Testing the solution\n",
    "assert Solution().findDuplicate([1,3,4,2,2]) == 2\n",
    "assert Solution().findDuplicate([3,1,3,4,2]) == 3\n",
    "assert Solution().findDuplicate([3,3,3,3,3]) == 3"
   ]
  },
  {
   "cell_type": "markdown",
   "id": "18a3ddfa",
   "metadata": {
    "papermill": {
     "duration": 0.035784,
     "end_time": "2024-04-13T17:23:59.000417",
     "exception": false,
     "start_time": "2024-04-13T17:23:58.964633",
     "status": "completed"
    },
    "tags": []
   },
   "source": [
    "#### Leetcode Contest: 31st March 2024 (# 391)"
   ]
  },
  {
   "cell_type": "code",
   "execution_count": 20,
   "id": "94eae322",
   "metadata": {
    "execution": {
     "iopub.execute_input": "2024-04-13T17:23:59.034012Z",
     "iopub.status.busy": "2024-04-13T17:23:59.033310Z",
     "iopub.status.idle": "2024-04-13T17:23:59.038193Z",
     "shell.execute_reply": "2024-04-13T17:23:59.037360Z"
    },
    "lines_to_next_cell": 1,
    "papermill": {
     "duration": 0.02355,
     "end_time": "2024-04-13T17:23:59.039983",
     "exception": false,
     "start_time": "2024-04-13T17:23:59.016433",
     "status": "completed"
    },
    "tags": []
   },
   "outputs": [],
   "source": [
    "# Q1 - Easy\n",
    "class Solution:\n",
    "    def sumOfTheDigitsOfHarshadNumber(self, x: int) -> int:\n",
    "        result = sum(map(int, str(x)))\n",
    "        if x % result == 0:\n",
    "            return result\n",
    "        else:\n",
    "            return -1"
   ]
  },
  {
   "cell_type": "code",
   "execution_count": 21,
   "id": "3820ddc5",
   "metadata": {
    "execution": {
     "iopub.execute_input": "2024-04-13T17:23:59.073314Z",
     "iopub.status.busy": "2024-04-13T17:23:59.072632Z",
     "iopub.status.idle": "2024-04-13T17:23:59.080114Z",
     "shell.execute_reply": "2024-04-13T17:23:59.079299Z"
    },
    "lines_to_next_cell": 1,
    "papermill": {
     "duration": 0.025932,
     "end_time": "2024-04-13T17:23:59.081725",
     "exception": false,
     "start_time": "2024-04-13T17:23:59.055793",
     "status": "completed"
    },
    "tags": []
   },
   "outputs": [],
   "source": [
    "# Q2 - Medium\n",
    "class Solution:\n",
    "    def maxBottlesDrunk(self, numBottles: int, numExchange: int) -> int:\n",
    "        def exchange(empty: int, exchange: int) -> tuple[int, int, int]:\n",
    "            \"\"\"\n",
    "            Given count of empty bottles and start exchange rate,\n",
    "            returns number of full bottles we can form and the updated exchange rate\n",
    "\n",
    "            For eg:\n",
    "\n",
    "            empty = 10, exchange = 1\n",
    "\n",
    "             E, R, F\n",
    "            10, 1, 0\n",
    "            9,  2, 1\n",
    "            7,  3, 2\n",
    "            4,  4, 3\n",
    "            0,  5, 4\n",
    "\n",
    "            empty = 9, exchange = 1\n",
    "\n",
    "            E, R, F\n",
    "            9, 1, 0\n",
    "            8, 2, 1\n",
    "            6, 3, 2\n",
    "            3, 4, 3\n",
    "\n",
    "            \"\"\"\n",
    "            filled = 0\n",
    "            while empty >= exchange:\n",
    "                empty -= exchange\n",
    "                exchange += 1\n",
    "                filled += 1\n",
    "\n",
    "            return empty, exchange, filled\n",
    "\n",
    "        total = empty = 0\n",
    "        while numBottles:\n",
    "            total += numBottles\n",
    "            empty, numBottles = empty + numBottles, 0\n",
    "            empty, numExchange, numBottles = exchange(empty, numExchange)\n",
    "\n",
    "        return total\n",
    "\n",
    "# Testing the solution\n",
    "assert Solution().maxBottlesDrunk(10, 3) == 13\n",
    "assert Solution().maxBottlesDrunk(13, 6) == 15"
   ]
  },
  {
   "cell_type": "code",
   "execution_count": 22,
   "id": "76322274",
   "metadata": {
    "execution": {
     "iopub.execute_input": "2024-04-13T17:23:59.115227Z",
     "iopub.status.busy": "2024-04-13T17:23:59.114586Z",
     "iopub.status.idle": "2024-04-13T17:23:59.120959Z",
     "shell.execute_reply": "2024-04-13T17:23:59.120161Z"
    },
    "lines_to_next_cell": 1,
    "papermill": {
     "duration": 0.025159,
     "end_time": "2024-04-13T17:23:59.122674",
     "exception": false,
     "start_time": "2024-04-13T17:23:59.097515",
     "status": "completed"
    },
    "tags": []
   },
   "outputs": [],
   "source": [
    "# Q3 - Medium\n",
    "class Solution:\n",
    "    def countAlternatingSubarrays(self, nums: list[int]) -> int:\n",
    "        count, curr, N = 0, 0, len(nums)\n",
    "        for i in range(N + 1):\n",
    "            if i == 0 or (i < N and nums[i - 1] != nums[i]):\n",
    "                curr += 1\n",
    "            else:\n",
    "                count += (curr * (curr + 1)) // 2\n",
    "                curr = 1\n",
    "\n",
    "        return count\n",
    "\n",
    "# Testing the solution\n",
    "assert Solution().countAlternatingSubarrays([1,0,1,0]) == 10\n",
    "assert Solution().countAlternatingSubarrays( [0,1,1,1]) == 5"
   ]
  },
  {
   "cell_type": "markdown",
   "id": "aa42e3c4",
   "metadata": {
    "papermill": {
     "duration": 0.015777,
     "end_time": "2024-04-13T17:23:59.154454",
     "exception": false,
     "start_time": "2024-04-13T17:23:59.138677",
     "status": "completed"
    },
    "tags": []
   },
   "source": [
    "Easy Leetcode question: https://leetcode.com/problems/minimum-common-value"
   ]
  },
  {
   "cell_type": "code",
   "execution_count": 23,
   "id": "d2e96902",
   "metadata": {
    "execution": {
     "iopub.execute_input": "2024-04-13T17:23:59.188012Z",
     "iopub.status.busy": "2024-04-13T17:23:59.187292Z",
     "iopub.status.idle": "2024-04-13T17:23:59.193974Z",
     "shell.execute_reply": "2024-04-13T17:23:59.193130Z"
    },
    "lines_to_next_cell": 1,
    "papermill": {
     "duration": 0.0255,
     "end_time": "2024-04-13T17:23:59.195745",
     "exception": false,
     "start_time": "2024-04-13T17:23:59.170245",
     "status": "completed"
    },
    "tags": []
   },
   "outputs": [],
   "source": [
    "def getCommon(nums1: list[int], nums2: list[int]) -> int:\n",
    "    N1, N2 = len(nums1), len(nums2)\n",
    "    i = j = 0\n",
    "    while i < N1 and j < N2:\n",
    "        if nums1[i] == nums2[j]:\n",
    "            return nums1[i]\n",
    "        elif nums1[i] < nums2[j]:\n",
    "            i += 1\n",
    "        else:\n",
    "            j += 1\n",
    "\n",
    "    return -1\n",
    "\n",
    "# Testing the solution\n",
    "assert getCommon([1, 2, 3], [2, 4]) == 2\n",
    "assert getCommon([1, 2, 3], [4, 5, 6]) == -1\n",
    "assert getCommon([1, 2, 3], [3]) == 3"
   ]
  },
  {
   "cell_type": "markdown",
   "id": "60f3c0df",
   "metadata": {
    "papermill": {
     "duration": 0.015609,
     "end_time": "2024-04-13T17:23:59.227316",
     "exception": false,
     "start_time": "2024-04-13T17:23:59.211707",
     "status": "completed"
    },
    "tags": []
   },
   "source": [
    "Diameter of binary Tree\n",
    "Problem Link: https://leetcode.com/problems/diameter-of-binary-tree/submissions/1222192232"
   ]
  },
  {
   "cell_type": "code",
   "execution_count": 24,
   "id": "e0fb0a0f",
   "metadata": {
    "execution": {
     "iopub.execute_input": "2024-04-13T17:23:59.260638Z",
     "iopub.status.busy": "2024-04-13T17:23:59.259962Z",
     "iopub.status.idle": "2024-04-13T17:23:59.266659Z",
     "shell.execute_reply": "2024-04-13T17:23:59.265796Z"
    },
    "lines_to_next_cell": 1,
    "papermill": {
     "duration": 0.025312,
     "end_time": "2024-04-13T17:23:59.268400",
     "exception": false,
     "start_time": "2024-04-13T17:23:59.243088",
     "status": "completed"
    },
    "tags": []
   },
   "outputs": [],
   "source": [
    "def diameterOfBinaryTree(root: BinaryTreeNode) -> int:\n",
    "    \"\"\"\n",
    "    1. Perform a post order traversal\n",
    "    2. Keep updating a global max_ variable as max(max_, left + right) before returning. This is our final result.\n",
    "    3. At each recursive step, return max(left, right)\n",
    "    \"\"\"\n",
    "\n",
    "    result: int = 0\n",
    "    def postOrder(curr: BinaryTreeNode) -> int:\n",
    "        nonlocal result\n",
    "        if not curr:\n",
    "            return 0\n",
    "        else:\n",
    "            left_max = postOrder(curr.left)\n",
    "            right_max = postOrder(curr.right)\n",
    "            result = max(result, left_max + right_max)\n",
    "            return max(left_max, right_max) + 1\n",
    "\n",
    "    postOrder(root)\n",
    "    return result\n",
    "\n",
    "# Testing the solution\n",
    "assert diameterOfBinaryTree(BinaryTreeNode.from_array([1, 2, 3, 4, 5])) == 3\n",
    "assert diameterOfBinaryTree(BinaryTreeNode.from_array([1, 2])) == 1"
   ]
  },
  {
   "cell_type": "markdown",
   "id": "95066bc4",
   "metadata": {
    "papermill": {
     "duration": 0.015751,
     "end_time": "2024-04-13T17:23:59.300046",
     "exception": false,
     "start_time": "2024-04-13T17:23:59.284295",
     "status": "completed"
    },
    "tags": []
   },
   "source": [
    "Easy Leetcode question \n",
    "Problem Link: https://leetcode.com/problems/largest-3-same-digit-number-in-string/submissions/1222201215/"
   ]
  },
  {
   "cell_type": "code",
   "execution_count": 25,
   "id": "dd3767a4",
   "metadata": {
    "execution": {
     "iopub.execute_input": "2024-04-13T17:23:59.333440Z",
     "iopub.status.busy": "2024-04-13T17:23:59.332690Z",
     "iopub.status.idle": "2024-04-13T17:23:59.342414Z",
     "shell.execute_reply": "2024-04-13T17:23:59.341608Z"
    },
    "lines_to_next_cell": 1,
    "papermill": {
     "duration": 0.02831,
     "end_time": "2024-04-13T17:23:59.344138",
     "exception": false,
     "start_time": "2024-04-13T17:23:59.315828",
     "status": "completed"
    },
    "tags": []
   },
   "outputs": [
    {
     "data": {
      "text/plain": [
       "'777'"
      ]
     },
     "execution_count": 25,
     "metadata": {},
     "output_type": "execute_result"
    }
   ],
   "source": [
    "def largestGoodInteger(num: str) -> str:\n",
    "    for n in \"9876543210\":\n",
    "        if n * 3 in num:\n",
    "            return n * 3\n",
    "    else:\n",
    "        return \"\"\n",
    "\n",
    "# Testing the solution\n",
    "largestGoodInteger(\"6777133339\")"
   ]
  },
  {
   "cell_type": "markdown",
   "id": "90d38ef2",
   "metadata": {
    "papermill": {
     "duration": 0.015853,
     "end_time": "2024-04-13T17:23:59.376356",
     "exception": false,
     "start_time": "2024-04-13T17:23:59.360503",
     "status": "completed"
    },
    "tags": []
   },
   "source": [
    "Easy Leetcode question\n",
    "Problem Link: https://leetcode.com/problems/largest-odd-number-in-string/submissions/1222208825"
   ]
  },
  {
   "cell_type": "code",
   "execution_count": 26,
   "id": "ba91d179",
   "metadata": {
    "execution": {
     "iopub.execute_input": "2024-04-13T17:23:59.409959Z",
     "iopub.status.busy": "2024-04-13T17:23:59.409271Z",
     "iopub.status.idle": "2024-04-13T17:23:59.416224Z",
     "shell.execute_reply": "2024-04-13T17:23:59.415424Z"
    },
    "lines_to_next_cell": 1,
    "papermill": {
     "duration": 0.025539,
     "end_time": "2024-04-13T17:23:59.417852",
     "exception": false,
     "start_time": "2024-04-13T17:23:59.392313",
     "status": "completed"
    },
    "tags": []
   },
   "outputs": [
    {
     "data": {
      "text/plain": [
       "'35427'"
      ]
     },
     "execution_count": 26,
     "metadata": {},
     "output_type": "execute_result"
    }
   ],
   "source": [
    "def largestOddNumber(num: str) -> str:\n",
    "    N = len(num)\n",
    "    for i in range(N - 1, -1, -1):\n",
    "        if int(num[i]) % 2 == 1:\n",
    "            return num[:i + 1]\n",
    "    else:\n",
    "        return \"\"\n",
    "\n",
    "# Testing the solution\n",
    "largestOddNumber(\"354278\")"
   ]
  },
  {
   "cell_type": "markdown",
   "id": "84ba2176",
   "metadata": {
    "papermill": {
     "duration": 0.015996,
     "end_time": "2024-04-13T17:23:59.450059",
     "exception": false,
     "start_time": "2024-04-13T17:23:59.434063",
     "status": "completed"
    },
    "tags": []
   },
   "source": [
    "Leetcode easy problem: https://leetcode.com/problems/make-the-string-great/submissions/1224126212"
   ]
  },
  {
   "cell_type": "code",
   "execution_count": 27,
   "id": "94ade9d0",
   "metadata": {
    "execution": {
     "iopub.execute_input": "2024-04-13T17:23:59.484175Z",
     "iopub.status.busy": "2024-04-13T17:23:59.483529Z",
     "iopub.status.idle": "2024-04-13T17:23:59.489043Z",
     "shell.execute_reply": "2024-04-13T17:23:59.488282Z"
    },
    "lines_to_next_cell": 1,
    "papermill": {
     "duration": 0.024554,
     "end_time": "2024-04-13T17:23:59.490854",
     "exception": false,
     "start_time": "2024-04-13T17:23:59.466300",
     "status": "completed"
    },
    "tags": []
   },
   "outputs": [],
   "source": [
    "def makeGood(s: str) -> str:\n",
    "    stack: list[str] = []\n",
    "    for c in s:\n",
    "        if not stack or c.lower() != stack[-1].lower() or ord(c) == ord(stack[-1]):\n",
    "            stack.append(c)\n",
    "        else:\n",
    "            stack.pop()\n",
    "\n",
    "    return \"\".join(stack)\n",
    "\n",
    "assert makeGood(\"leeEetcode\") == \"leetcode\"\n",
    "assert makeGood(\"abBAcC\") == \"\""
   ]
  },
  {
   "cell_type": "markdown",
   "id": "b5cc8f93",
   "metadata": {
    "papermill": {
     "duration": 0.015882,
     "end_time": "2024-04-13T17:23:59.523058",
     "exception": false,
     "start_time": "2024-04-13T17:23:59.507176",
     "status": "completed"
    },
    "tags": []
   },
   "source": [
    "#### Code Gladiators - 2k24"
   ]
  },
  {
   "cell_type": "code",
   "execution_count": 28,
   "id": "4fe7023d",
   "metadata": {
    "execution": {
     "iopub.execute_input": "2024-04-13T17:23:59.557125Z",
     "iopub.status.busy": "2024-04-13T17:23:59.556427Z",
     "iopub.status.idle": "2024-04-13T17:23:59.566726Z",
     "shell.execute_reply": "2024-04-13T17:23:59.566059Z"
    },
    "lines_to_next_cell": 1,
    "papermill": {
     "duration": 0.029344,
     "end_time": "2024-04-13T17:23:59.568371",
     "exception": false,
     "start_time": "2024-04-13T17:23:59.539027",
     "status": "completed"
    },
    "tags": []
   },
   "outputs": [],
   "source": [
    "# Q1\n",
    "def Q1(P: int, X: int, R1: int, N: int, Y: int, R2: int):\n",
    "\n",
    "    # Get travel time for comparison\n",
    "    t1 = (P / X) + R1\n",
    "    t2 = (N / Y) + R2\n",
    "\n",
    "    if t1 < t2:\n",
    "        return \"NINA\"\n",
    "    elif t1 > t2:\n",
    "        return \"PAUL\"\n",
    "    else:\n",
    "        return \"BOTH\"\n",
    "\n",
    "# Q2:\n",
    "def Q2(arr: list[int], N: int) -> int:\n",
    "\n",
    "    def getPair(i: int, target: int) -> int:\n",
    "        \"Returns pair index j, such that arr[i] + arr[j] == target, returns -1 if not possible\"\n",
    "        for j in positions.get(target - arr[i], []):\n",
    "            if j != i and j not in picked:\n",
    "                return j\n",
    "        else:\n",
    "            return -1\n",
    "\n",
    "    # Store all the values to a dict for quick reverse lookups\n",
    "    positions: dict[int, list] = dict()\n",
    "    for i in range(N):\n",
    "        indices: list[int] = positions.get(arr[i], [])\n",
    "        indices.append(i)\n",
    "        positions[arr[i]] = indices\n",
    "\n",
    "    # Weights can be between 2 * min_, 2 * max_\n",
    "    max_count = 0\n",
    "    for total_weight in range(min(arr) * 2, (max(arr) * 2) + 1):\n",
    "        count = 0\n",
    "        picked: set[int] = set()\n",
    "        for i in range(N):\n",
    "            j = getPair(i, total_weight) if i not in picked else -1\n",
    "            if j != -1:\n",
    "                picked.add(i)\n",
    "                picked.add(j)\n",
    "                count += 1\n",
    "\n",
    "        max_count = max(max_count, count)\n",
    "\n",
    "    return max_count\n",
    "\n",
    "# Testing the solution\n",
    "assert Q2([1, 1, 3, 4, 2, 2], 6) == 2"
   ]
  },
  {
   "cell_type": "markdown",
   "id": "10f9ae1d",
   "metadata": {
    "papermill": {
     "duration": 0.016018,
     "end_time": "2024-04-13T17:23:59.600622",
     "exception": false,
     "start_time": "2024-04-13T17:23:59.584604",
     "status": "completed"
    },
    "tags": []
   },
   "source": [
    "Problem link: https://leetcode.com/problems/time-needed-to-buy-tickets/submissions/1227477603"
   ]
  },
  {
   "cell_type": "code",
   "execution_count": 29,
   "id": "a8665a6b",
   "metadata": {
    "execution": {
     "iopub.execute_input": "2024-04-13T17:23:59.634424Z",
     "iopub.status.busy": "2024-04-13T17:23:59.633617Z",
     "iopub.status.idle": "2024-04-13T17:23:59.640134Z",
     "shell.execute_reply": "2024-04-13T17:23:59.639468Z"
    },
    "lines_to_next_cell": 1,
    "papermill": {
     "duration": 0.025201,
     "end_time": "2024-04-13T17:23:59.641814",
     "exception": false,
     "start_time": "2024-04-13T17:23:59.616613",
     "status": "completed"
    },
    "tags": []
   },
   "outputs": [],
   "source": [
    "# Time: O(N), Space: O(1)\n",
    "def timeRequiredToBuy(tickets: list[int], k: int) -> int:\n",
    "    total = 0\n",
    "    for i in range(len(tickets)):\n",
    "        if i <= k:\n",
    "            total += min(tickets[k], tickets[i])\n",
    "        else:\n",
    "            total += min(tickets[k] - 1, tickets[i])\n",
    "\n",
    "    return total\n",
    "\n",
    "# Testing the Solution\n",
    "assert timeRequiredToBuy(tickets=[5, 1, 1, 1],  k=0) == 8\n",
    "assert timeRequiredToBuy(tickets=[2, 3, 2], k=2) == 6"
   ]
  },
  {
   "cell_type": "markdown",
   "id": "a8388f4e",
   "metadata": {
    "papermill": {
     "duration": 0.015944,
     "end_time": "2024-04-13T17:23:59.674092",
     "exception": false,
     "start_time": "2024-04-13T17:23:59.658148",
     "status": "completed"
    },
    "tags": []
   },
   "source": [
    "Problem Link: https://leetcode.com/problems/number-of-students-unable-to-eat-lunch/submissions/1227492211"
   ]
  },
  {
   "cell_type": "code",
   "execution_count": 30,
   "id": "c54b1d35",
   "metadata": {
    "execution": {
     "iopub.execute_input": "2024-04-13T17:23:59.708147Z",
     "iopub.status.busy": "2024-04-13T17:23:59.707504Z",
     "iopub.status.idle": "2024-04-13T17:23:59.713829Z",
     "shell.execute_reply": "2024-04-13T17:23:59.713088Z"
    },
    "lines_to_next_cell": 1,
    "papermill": {
     "duration": 0.025438,
     "end_time": "2024-04-13T17:23:59.715655",
     "exception": false,
     "start_time": "2024-04-13T17:23:59.690217",
     "status": "completed"
    },
    "tags": []
   },
   "outputs": [],
   "source": [
    "def countStudents(students: list[int], sandwiches: list[int]) -> int:\n",
    "    stud_pref: dict[int, int] = collections.Counter(students)\n",
    "    for n in sandwiches:\n",
    "        if stud_pref.get(n, 0) == 0:\n",
    "            return stud_pref.get(0, 0) + stud_pref.get(1, 0)\n",
    "        else:\n",
    "            stud_pref[n] -= 1\n",
    "    return 0\n",
    "\n",
    "# Testing the Solution\n",
    "assert countStudents([1,1,0,0], [0,1,0,1]) == 0\n",
    "assert countStudents([1,1,1,0,0,1], [1,0,0,0,1,1]) == 3"
   ]
  },
  {
   "cell_type": "markdown",
   "id": "bae9e756",
   "metadata": {
    "papermill": {
     "duration": 0.015967,
     "end_time": "2024-04-13T17:23:59.747942",
     "exception": false,
     "start_time": "2024-04-13T17:23:59.731975",
     "status": "completed"
    },
    "tags": []
   },
   "source": [
    "All root to leaf paths in a Binary Tree"
   ]
  },
  {
   "cell_type": "code",
   "execution_count": 31,
   "id": "9b941cc0",
   "metadata": {
    "execution": {
     "iopub.execute_input": "2024-04-13T17:23:59.781750Z",
     "iopub.status.busy": "2024-04-13T17:23:59.781007Z",
     "iopub.status.idle": "2024-04-13T17:23:59.789704Z",
     "shell.execute_reply": "2024-04-13T17:23:59.789079Z"
    },
    "lines_to_next_cell": 1,
    "papermill": {
     "duration": 0.027415,
     "end_time": "2024-04-13T17:23:59.791408",
     "exception": false,
     "start_time": "2024-04-13T17:23:59.763993",
     "status": "completed"
    },
    "tags": []
   },
   "outputs": [],
   "source": [
    "def allRootToLeaf(root: BinaryTreeNode) -> list[str]:\n",
    "    \"\"\"\n",
    "    1. Do a pre order traversal.\n",
    "    2. When a leaf node is encountered. Append the path to result.\n",
    "    3. If not a leaf node, concat to a growing string path.\n",
    "    \"\"\"\n",
    "\n",
    "    paths: list[str] = []\n",
    "    def preOrder(curr: BinaryTreeNode, traveled: list[str]):\n",
    "        traveled.append(str(curr.val))\n",
    "\n",
    "        if not curr.left and not curr.right:\n",
    "            nonlocal paths\n",
    "            paths.append(\" \".join(traveled))\n",
    "        if curr.left:\n",
    "            preOrder(curr.left, traveled)\n",
    "        if curr.right:\n",
    "            preOrder(curr.right, traveled)\n",
    "\n",
    "        traveled.pop()\n",
    "\n",
    "    preOrder(root, [])\n",
    "    return paths\n",
    "\n",
    "# Testing the solution\n",
    "for ques, ans in (\n",
    "        ([1, 2, 3, 4, None, 5, 6, None, 7, None, None, None, None, None, None], [\"1 3 5\", \"1 3 6\", \"1 2 4 7\"]),\n",
    "        ([1, 2, 3, 4, 5, None, None, None, None, None, None], [\"1 2 4\", \"1 2 5\", \"1 3\"]),\n",
    "    ):\n",
    "    temp = allRootToLeaf(BinaryTreeNode.from_array(ques))\n",
    "    for ans_str in ans:\n",
    "        assert ans_str in temp, f\"{ans_str} not found inside result: {temp}\""
   ]
  },
  {
   "cell_type": "markdown",
   "id": "1e07c06f",
   "metadata": {
    "papermill": {
     "duration": 0.016176,
     "end_time": "2024-04-13T17:23:59.824178",
     "exception": false,
     "start_time": "2024-04-13T17:23:59.808002",
     "status": "completed"
    },
    "tags": []
   },
   "source": [
    "Problem Link: https://leetcode.com/problems/lowest-common-ancestor-of-a-binary-tree/submissions/1227536364"
   ]
  },
  {
   "cell_type": "code",
   "execution_count": 32,
   "id": "bfdc7092",
   "metadata": {
    "execution": {
     "iopub.execute_input": "2024-04-13T17:23:59.858188Z",
     "iopub.status.busy": "2024-04-13T17:23:59.857455Z",
     "iopub.status.idle": "2024-04-13T17:23:59.866064Z",
     "shell.execute_reply": "2024-04-13T17:23:59.865300Z"
    },
    "lines_to_next_cell": 1,
    "papermill": {
     "duration": 0.027603,
     "end_time": "2024-04-13T17:23:59.867789",
     "exception": false,
     "start_time": "2024-04-13T17:23:59.840186",
     "status": "completed"
    },
    "tags": []
   },
   "outputs": [],
   "source": [
    "def lowestCommonAncestor(root: BinaryTreeNode, p: BinaryTreeNode, q: BinaryTreeNode) -> BinaryTreeNode:\n",
    "    p_path: list[BinaryTreeNode] = []\n",
    "    q_path: list[BinaryTreeNode] = []\n",
    "    def getPathsFromRoot(curr: BinaryTreeNode, traveled: list[BinaryTreeNode]):\n",
    "        nonlocal p_path, q_path\n",
    "        traveled.append(curr)\n",
    "        if curr == p:\n",
    "            p_path = list(traveled)\n",
    "        if curr == q:\n",
    "            q_path = list(traveled)\n",
    "        if curr.left:\n",
    "            getPathsFromRoot(curr.left, traveled)\n",
    "        if curr.right:\n",
    "            getPathsFromRoot(curr.right, traveled)\n",
    "        traveled.pop()\n",
    "\n",
    "    getPathsFromRoot(root, [])\n",
    "\n",
    "    # Find common ancestor\n",
    "    NP, NQ = len(p_path), len(q_path)\n",
    "    i = j = 0\n",
    "    while i < NP and j < NQ and p_path[i] == q_path[j]:\n",
    "        i, j = i + 1, j + 1\n",
    "\n",
    "    return p_path[i - 1]\n",
    "\n",
    "# Testing the solution\n",
    "temp: BinaryTreeNode = BinaryTreeNode.from_array([3,5,1,6,2,0,8,None,None,7,4])\n",
    "assert lowestCommonAncestor(temp, p=temp.left, q=temp.left.right.right).val == 5"
   ]
  },
  {
   "cell_type": "markdown",
   "id": "b4388e14",
   "metadata": {
    "papermill": {
     "duration": 0.01594,
     "end_time": "2024-04-13T17:23:59.900066",
     "exception": false,
     "start_time": "2024-04-13T17:23:59.884126",
     "status": "completed"
    },
    "tags": []
   },
   "source": [
    "Problem Link: https://leetcode.com/problems/maximum-width-of-binary-tree/submissions/1228429287"
   ]
  },
  {
   "cell_type": "code",
   "execution_count": 33,
   "id": "876bfe38",
   "metadata": {
    "execution": {
     "iopub.execute_input": "2024-04-13T17:23:59.934407Z",
     "iopub.status.busy": "2024-04-13T17:23:59.933650Z",
     "iopub.status.idle": "2024-04-13T17:23:59.940833Z",
     "shell.execute_reply": "2024-04-13T17:23:59.940181Z"
    },
    "lines_to_next_cell": 1,
    "papermill": {
     "duration": 0.026214,
     "end_time": "2024-04-13T17:23:59.942595",
     "exception": false,
     "start_time": "2024-04-13T17:23:59.916381",
     "status": "completed"
    },
    "tags": []
   },
   "outputs": [],
   "source": [
    "def widthOfBinaryTree(root: BinaryTreeNode) -> int:\n",
    "    boundaries: dict[int, tuple[int, int]] = dict()\n",
    "    max_width = 1\n",
    "    def backtrack(curr: BinaryTreeNode, height: int, width: int):\n",
    "        nonlocal boundaries, max_width\n",
    "        if not curr:\n",
    "            return\n",
    "        else:\n",
    "            curr_lr = boundaries.get(height, (2 ** height, 0))\n",
    "            boundaries[height] = (min(curr_lr[0], width + 1), max(curr_lr[1], width + 1))\n",
    "            max_width = max(max_width, boundaries[height][1] - boundaries[height][0] + 1)\n",
    "            backtrack(curr.left, height + 1, width * 2)\n",
    "            backtrack(curr.right, height + 1, (width * 2) + 1)\n",
    "\n",
    "    backtrack(root, 0, 0)\n",
    "    return max_width\n",
    "\n",
    "# Testing the Solution\n",
    "assert widthOfBinaryTree(BinaryTreeNode.from_array([1, 3, 2, 5, None, None, 9, 6, None, 7])) == 7"
   ]
  },
  {
   "cell_type": "markdown",
   "id": "d1a33bbb",
   "metadata": {
    "papermill": {
     "duration": 0.016111,
     "end_time": "2024-04-13T17:23:59.975107",
     "exception": false,
     "start_time": "2024-04-13T17:23:59.958996",
     "status": "completed"
    },
    "tags": []
   },
   "source": [
    "Leetcode Easy: https://leetcode.com/problems/maximum-average-subarray-i/"
   ]
  },
  {
   "cell_type": "code",
   "execution_count": 34,
   "id": "25620d4a",
   "metadata": {
    "execution": {
     "iopub.execute_input": "2024-04-13T17:24:00.009473Z",
     "iopub.status.busy": "2024-04-13T17:24:00.008707Z",
     "iopub.status.idle": "2024-04-13T17:24:00.014910Z",
     "shell.execute_reply": "2024-04-13T17:24:00.014240Z"
    },
    "lines_to_next_cell": 1,
    "papermill": {
     "duration": 0.025412,
     "end_time": "2024-04-13T17:24:00.016652",
     "exception": false,
     "start_time": "2024-04-13T17:23:59.991240",
     "status": "completed"
    },
    "tags": []
   },
   "outputs": [],
   "source": [
    "def findMaxAverage(nums: list[int], k: int) -> float:\n",
    "    sum_ = sum(nums[:k])\n",
    "    max_avg = sum_ / k\n",
    "    for i in range(k, len(nums)):\n",
    "        sum_ = sum_ + nums[i] - nums[i - k]\n",
    "        max_avg = max(max_avg, sum_ / k)\n",
    "\n",
    "    return max_avg\n",
    "\n",
    "# Testing the solution\n",
    "assert findMaxAverage([1,12,-5,-6,50,3], 4) == 12.75\n",
    "assert findMaxAverage([5], 1) == 5"
   ]
  },
  {
   "cell_type": "markdown",
   "id": "7bcc5995",
   "metadata": {
    "papermill": {
     "duration": 0.016258,
     "end_time": "2024-04-13T17:24:00.049519",
     "exception": false,
     "start_time": "2024-04-13T17:24:00.033261",
     "status": "completed"
    },
    "tags": []
   },
   "source": [
    "Easy Leetcode Problem Link: https://leetcode.com/problems/average-of-levels-in-binary-tree/submissions/1228468053"
   ]
  },
  {
   "cell_type": "code",
   "execution_count": 35,
   "id": "7efaf1c1",
   "metadata": {
    "execution": {
     "iopub.execute_input": "2024-04-13T17:24:00.084034Z",
     "iopub.status.busy": "2024-04-13T17:24:00.083362Z",
     "iopub.status.idle": "2024-04-13T17:24:00.090264Z",
     "shell.execute_reply": "2024-04-13T17:24:00.089497Z"
    },
    "lines_to_next_cell": 1,
    "papermill": {
     "duration": 0.026096,
     "end_time": "2024-04-13T17:24:00.092000",
     "exception": false,
     "start_time": "2024-04-13T17:24:00.065904",
     "status": "completed"
    },
    "tags": []
   },
   "outputs": [],
   "source": [
    "def averageOfLevels(root: BinaryTreeNode) -> list[float]:\n",
    "    result: list[float] = []\n",
    "    queue: list[BinaryTreeNode] = [root]\n",
    "    while queue:\n",
    "        next_: list[BinaryTreeNode] = []\n",
    "        sum_ = count_ = 0\n",
    "        for curr in queue:\n",
    "            sum_, count_ = sum_ + curr.val, count_ + 1\n",
    "            if curr.left:\n",
    "                next_.append(curr.left)\n",
    "            if curr.right:\n",
    "                next_.append(curr.right)\n",
    "        result.append(sum_ / count_)\n",
    "        queue = next_\n",
    "\n",
    "    return result\n",
    "\n",
    "# Testing the solution\n",
    "assert averageOfLevels(BinaryTreeNode.from_array([3,9,20,None,None,15,7])) == [3.00,14.50,11.00]"
   ]
  },
  {
   "cell_type": "markdown",
   "id": "6edc89e5",
   "metadata": {
    "papermill": {
     "duration": 0.016048,
     "end_time": "2024-04-13T17:24:00.124338",
     "exception": false,
     "start_time": "2024-04-13T17:24:00.108290",
     "status": "completed"
    },
    "tags": []
   },
   "source": [
    "Problem Link: https://leetcode.com/problems/all-nodes-distance-k-in-binary-tree"
   ]
  },
  {
   "cell_type": "code",
   "execution_count": 36,
   "id": "2f193894",
   "metadata": {
    "execution": {
     "iopub.execute_input": "2024-04-13T17:24:00.158775Z",
     "iopub.status.busy": "2024-04-13T17:24:00.158001Z",
     "iopub.status.idle": "2024-04-13T17:24:00.170060Z",
     "shell.execute_reply": "2024-04-13T17:24:00.169230Z"
    },
    "lines_to_next_cell": 1,
    "papermill": {
     "duration": 0.031184,
     "end_time": "2024-04-13T17:24:00.171706",
     "exception": false,
     "start_time": "2024-04-13T17:24:00.140522",
     "status": "completed"
    },
    "tags": []
   },
   "outputs": [],
   "source": [
    "def distanceK(root: BinaryTreeNode, target: int, k: int) -> list[int]:\n",
    "    adl: dict[int, set[int]] = dict()\n",
    "    def createGraph(curr: BinaryTreeNode):\n",
    "        nonlocal adl\n",
    "        if curr:\n",
    "            if curr.left:\n",
    "                curr_neighbours = adl.get(curr.val, set())\n",
    "                curr_neighbours.add(curr.left.val)\n",
    "                adl[curr.val] = curr_neighbours\n",
    "                left_neighbours = adl.get(curr.left.val, set())\n",
    "                left_neighbours.add(curr.val)\n",
    "                adl[curr.left.val] = left_neighbours\n",
    "                createGraph(curr.left)\n",
    "            if curr.right:\n",
    "                curr_neighbours = adl.get(curr.val, set())\n",
    "                curr_neighbours.add(curr.right.val)\n",
    "                adl[curr.val] = curr_neighbours\n",
    "                right_neighbours = adl.get(curr.right.val, set())\n",
    "                right_neighbours.add(curr.val)\n",
    "                adl[curr.right.val] = right_neighbours\n",
    "                createGraph(curr.right)\n",
    "\n",
    "    # Create a graph out of the binary Tree\n",
    "    createGraph(root)\n",
    "\n",
    "    # Starting from our target, find all nodes at K distance using BFS\n",
    "    queue: list[int] = [target]\n",
    "    visited: set[int] = set([target])\n",
    "    while k > 0:\n",
    "        next_: list[int] = []\n",
    "        for curr in queue:\n",
    "            for neighbour in adl.get(curr, set()):\n",
    "                if neighbour not in visited:\n",
    "                    visited.add(neighbour)\n",
    "                    next_.append(neighbour)\n",
    "        queue = next_\n",
    "        k -= 1\n",
    "\n",
    "    return queue\n",
    "\n",
    "# Testing the solution\n",
    "assert sorted(distanceK(BinaryTreeNode.from_array([3,5,1,6,2,0,8,None,None,7,4]), 5, 2)) == [1, 4, 7]\n",
    "assert sorted(distanceK(BinaryTreeNode.from_array([3,5,1,6,2,0,8,None,None,7,4]), 4, 2)) == [5, 7]"
   ]
  },
  {
   "cell_type": "markdown",
   "id": "29877a02",
   "metadata": {
    "papermill": {
     "duration": 0.015941,
     "end_time": "2024-04-13T17:24:00.204045",
     "exception": false,
     "start_time": "2024-04-13T17:24:00.188104",
     "status": "completed"
    },
    "tags": []
   },
   "source": [
    "Construct BT from Preorder and Inorder\n",
    "Problem Link: https://leetcode.com/problems/construct-binary-tree-from-preorder-and-inorder-traversal/submissions/1230345366"
   ]
  },
  {
   "cell_type": "code",
   "execution_count": 37,
   "id": "7042888b",
   "metadata": {
    "execution": {
     "iopub.execute_input": "2024-04-13T17:24:00.238147Z",
     "iopub.status.busy": "2024-04-13T17:24:00.237378Z",
     "iopub.status.idle": "2024-04-13T17:24:00.246902Z",
     "shell.execute_reply": "2024-04-13T17:24:00.246113Z"
    },
    "lines_to_next_cell": 1,
    "papermill": {
     "duration": 0.028304,
     "end_time": "2024-04-13T17:24:00.248518",
     "exception": false,
     "start_time": "2024-04-13T17:24:00.220214",
     "status": "completed"
    },
    "tags": []
   },
   "outputs": [
    {
     "data": {
      "text/plain": [
       "[9, None, 20, 15, 7, None, None, None, None]"
      ]
     },
     "execution_count": 37,
     "metadata": {},
     "output_type": "execute_result"
    }
   ],
   "source": [
    "def buildTreeFromPreOrder(inorder: list[int], preorder: list[int]) -> BinaryTreeNode|None:\n",
    "    \"\"\"\n",
    "    Preorder: Root, Left, Right\n",
    "    Inorder: Left, Root, Right\n",
    "\n",
    "    Root based spliting.\n",
    "    Use Preorder to determine which of the bunch is the root.\n",
    "    Use inorder to determine which of the bunch goes to the left half and which right.\n",
    "    \"\"\"\n",
    "\n",
    "    if not inorder:\n",
    "        return None\n",
    "    else:\n",
    "        inorder_set = set(inorder)\n",
    "        for root_val in preorder:\n",
    "            if root_val in inorder_set:\n",
    "                break\n",
    "\n",
    "        root = BinaryTreeNode(root_val)\n",
    "        if len(inorder) > 1:\n",
    "            idx = inorder.index(root.val)\n",
    "            left_inorder = inorder[:idx]\n",
    "            root.left = buildTreeFromPreOrder(left_inorder, preorder)\n",
    "            right_inorder = inorder[idx + 1:]\n",
    "            root.right = buildTreeFromPreOrder(right_inorder, preorder)\n",
    "\n",
    "        return root\n",
    "\n",
    "# Testing the Solution\n",
    "buildTreeFromPreOrder(inorder=[9,15,20,7], preorder=[3,9,20,15,7]).to_list()"
   ]
  },
  {
   "cell_type": "markdown",
   "id": "2325a371",
   "metadata": {
    "papermill": {
     "duration": 0.0162,
     "end_time": "2024-04-13T17:24:00.281368",
     "exception": false,
     "start_time": "2024-04-13T17:24:00.265168",
     "status": "completed"
    },
    "tags": []
   },
   "source": [
    "Construct Binary Tree from Inorder and Postorder Traversal\n",
    "Problem Link: "
   ]
  },
  {
   "cell_type": "code",
   "execution_count": 38,
   "id": "c3a41642",
   "metadata": {
    "execution": {
     "iopub.execute_input": "2024-04-13T17:24:00.315942Z",
     "iopub.status.busy": "2024-04-13T17:24:00.315192Z",
     "iopub.status.idle": "2024-04-13T17:24:00.322561Z",
     "shell.execute_reply": "2024-04-13T17:24:00.321752Z"
    },
    "lines_to_next_cell": 1,
    "papermill": {
     "duration": 0.026633,
     "end_time": "2024-04-13T17:24:00.324156",
     "exception": false,
     "start_time": "2024-04-13T17:24:00.297523",
     "status": "completed"
    },
    "tags": []
   },
   "outputs": [
    {
     "data": {
      "text/plain": [
       "[1, 2, 5, 3, 4, None, None, None, None, None, None]"
      ]
     },
     "execution_count": 38,
     "metadata": {},
     "output_type": "execute_result"
    }
   ],
   "source": [
    "def buildTreeFromPostOrder(inorder: list[int], postorder: list[int]) -> BinaryTreeNode|None:\n",
    "    \"\"\"\n",
    "    Inorder: Root, Left, Right\n",
    "    Postorder: Left, Right, Root\n",
    "\n",
    "    Same as FromPreOrder, except that we always take the last element also present in inorder as our root.\n",
    "    Simply reverse postorder and use the same function as before.\n",
    "    \"\"\"\n",
    "    return buildTreeFromPreOrder(inorder=inorder, preorder=postorder[::-1])\n",
    "\n",
    "# Testing the Solution\n",
    "buildTreeFromPostOrder(inorder=[3, 2, 4, 1, 5], postorder=[3, 4, 2, 5, 1]).to_list()"
   ]
  },
  {
   "cell_type": "markdown",
   "id": "2e008839",
   "metadata": {
    "papermill": {
     "duration": 0.016335,
     "end_time": "2024-04-13T17:24:00.357016",
     "exception": false,
     "start_time": "2024-04-13T17:24:00.340681",
     "status": "completed"
    },
    "tags": []
   },
   "source": [
    "Medium Leetcode: https://leetcode.com/problems/remove-k-digits"
   ]
  },
  {
   "cell_type": "code",
   "execution_count": 39,
   "id": "cf7ab669",
   "metadata": {
    "execution": {
     "iopub.execute_input": "2024-04-13T17:24:00.391878Z",
     "iopub.status.busy": "2024-04-13T17:24:00.391163Z",
     "iopub.status.idle": "2024-04-13T17:24:00.399217Z",
     "shell.execute_reply": "2024-04-13T17:24:00.398430Z"
    },
    "lines_to_next_cell": 1,
    "papermill": {
     "duration": 0.027194,
     "end_time": "2024-04-13T17:24:00.400828",
     "exception": false,
     "start_time": "2024-04-13T17:24:00.373634",
     "status": "completed"
    },
    "tags": []
   },
   "outputs": [
    {
     "data": {
      "text/plain": [
       "'132219'"
      ]
     },
     "execution_count": 39,
     "metadata": {},
     "output_type": "execute_result"
    }
   ],
   "source": [
    "# Brute force solution\n",
    "def removeKdigitsBrute(num: str, k: int) -> str:\n",
    "    def removeDigit(curr: str) -> str:\n",
    "        N = len(curr)\n",
    "        for i in range(N):\n",
    "            if i == N - 1 or num[i] > num[i + 1]:\n",
    "                break\n",
    "\n",
    "        return num[:i] + num[i + 1:]\n",
    "\n",
    "    while k > 0:\n",
    "        num = removeDigit(num)\n",
    "        k -= 1\n",
    "\n",
    "    num = num.lstrip(\"0\")\n",
    "    return \"0\" if not len(num) else num\n",
    "\n",
    "# Testing the solution\n",
    "removeKdigitsBrute(\"1432219\", 1)"
   ]
  },
  {
   "cell_type": "code",
   "execution_count": 40,
   "id": "b073a96f",
   "metadata": {
    "execution": {
     "iopub.execute_input": "2024-04-13T17:24:00.435872Z",
     "iopub.status.busy": "2024-04-13T17:24:00.435191Z",
     "iopub.status.idle": "2024-04-13T17:24:00.477586Z",
     "shell.execute_reply": "2024-04-13T17:24:00.476709Z"
    },
    "lines_to_next_cell": 1,
    "papermill": {
     "duration": 0.061559,
     "end_time": "2024-04-13T17:24:00.479217",
     "exception": false,
     "start_time": "2024-04-13T17:24:00.417658",
     "status": "completed"
    },
    "tags": []
   },
   "outputs": [
    {
     "name": "stderr",
     "output_type": "stream",
     "text": [
      "\r",
      "  0%|          | 0/1000 [00:00<?, ?it/s]"
     ]
    },
    {
     "name": "stderr",
     "output_type": "stream",
     "text": [
      "\r",
      "100%|██████████| 1000/1000 [00:00<00:00, 35215.77it/s]"
     ]
    },
    {
     "name": "stderr",
     "output_type": "stream",
     "text": [
      "\n"
     ]
    }
   ],
   "source": [
    "# Optimal solution after trial and errors: https://leetcode.com/problems/remove-k-digits/submissions/1231175827 \n",
    "def removeKdigitsBetter(num: str, k: int) -> str:\n",
    "    \"Time: O(N), Space: O(N)\"\n",
    "    stack: list[str] = []\n",
    "    for n in num:\n",
    "        while stack and k > 0 and int(stack[-1]) > int(n):\n",
    "            stack.pop()\n",
    "            k -= 1\n",
    "        stack.append(n)\n",
    "\n",
    "    stack = stack[:-k] if k > 0 else stack\n",
    "    num = \"\".join(stack).lstrip(\"0\")\n",
    "    num = num if num else \"0\"\n",
    "    return num\n",
    "\n",
    "# Testing the solution\n",
    "for _ in tqdm.tqdm(range(1000)):\n",
    "    N = random.randint(1, 25)\n",
    "    i = random.randint(1, N)\n",
    "    str_ = \"\".join(random.choices(\"0123456789\", k=N))\n",
    "    assert removeKdigitsBetter(str_, i) == removeKdigitsBrute(str_, i), f\"failed for {str_}, {i}\""
   ]
  },
  {
   "cell_type": "markdown",
   "id": "48a18c10",
   "metadata": {
    "papermill": {
     "duration": 0.016982,
     "end_time": "2024-04-13T17:24:00.513366",
     "exception": false,
     "start_time": "2024-04-13T17:24:00.496384",
     "status": "completed"
    },
    "tags": []
   },
   "source": [
    "Leetcode Weekly contest - Saturday (13th Apr)"
   ]
  },
  {
   "cell_type": "code",
   "execution_count": 41,
   "id": "07cf645f",
   "metadata": {
    "execution": {
     "iopub.execute_input": "2024-04-13T17:24:00.553466Z",
     "iopub.status.busy": "2024-04-13T17:24:00.552805Z",
     "iopub.status.idle": "2024-04-13T17:24:00.557822Z",
     "shell.execute_reply": "2024-04-13T17:24:00.556975Z"
    },
    "lines_to_next_cell": 1,
    "papermill": {
     "duration": 0.025098,
     "end_time": "2024-04-13T17:24:00.559529",
     "exception": false,
     "start_time": "2024-04-13T17:24:00.534431",
     "status": "completed"
    },
    "tags": []
   },
   "outputs": [],
   "source": [
    "# Q1 - Easy\n",
    "def scoreOfString(s: str) -> int:\n",
    "    N = len(s)\n",
    "    result = 0\n",
    "    for i in range(N - 1):\n",
    "        result += abs(ord(s[i]) - ord(s[i + 1]))\n",
    "    return result"
   ]
  },
  {
   "cell_type": "code",
   "execution_count": 42,
   "id": "3360d184",
   "metadata": {
    "execution": {
     "iopub.execute_input": "2024-04-13T17:24:00.595962Z",
     "iopub.status.busy": "2024-04-13T17:24:00.595271Z",
     "iopub.status.idle": "2024-04-13T17:24:00.601930Z",
     "shell.execute_reply": "2024-04-13T17:24:00.601192Z"
    },
    "lines_to_next_cell": 1,
    "papermill": {
     "duration": 0.026864,
     "end_time": "2024-04-13T17:24:00.603750",
     "exception": false,
     "start_time": "2024-04-13T17:24:00.576886",
     "status": "completed"
    },
    "tags": []
   },
   "outputs": [],
   "source": [
    "# Q2 - Medium\n",
    "def minRectanglesToCoverPoints(points: list[list[int]], w: int) -> int:\n",
    "    X = sorted(set(map(lambda x: x[0], points)))\n",
    "    count = 0\n",
    "    prev = -1\n",
    "    for x in X:\n",
    "        if prev == -1 or x - prev > w:\n",
    "            count += 1\n",
    "            prev = x\n",
    "\n",
    "    return count\n",
    "\n",
    "# Testing the solution\n",
    "assert minRectanglesToCoverPoints([[0,0],[1,1],[2,2],[3,3],[4,4],[5,5],[6,6]], 2) == 3\n",
    "assert minRectanglesToCoverPoints([[2,3],[1,2]], 0) == 2"
   ]
  },
  {
   "cell_type": "markdown",
   "id": "91647588",
   "metadata": {
    "papermill": {
     "duration": 0.016893,
     "end_time": "2024-04-13T17:24:00.638110",
     "exception": false,
     "start_time": "2024-04-13T17:24:00.621217",
     "status": "completed"
    },
    "tags": []
   },
   "source": [
    "Binary Watch - Easy LC"
   ]
  },
  {
   "cell_type": "code",
   "execution_count": 43,
   "id": "3868d381",
   "metadata": {
    "execution": {
     "iopub.execute_input": "2024-04-13T17:24:00.675106Z",
     "iopub.status.busy": "2024-04-13T17:24:00.674562Z",
     "iopub.status.idle": "2024-04-13T17:24:00.685890Z",
     "shell.execute_reply": "2024-04-13T17:24:00.685096Z"
    },
    "lines_to_next_cell": 1,
    "papermill": {
     "duration": 0.031769,
     "end_time": "2024-04-13T17:24:00.687791",
     "exception": false,
     "start_time": "2024-04-13T17:24:00.656022",
     "status": "completed"
    },
    "tags": []
   },
   "outputs": [
    {
     "data": {
      "text/plain": [
       "['8:00',\n",
       " '4:00',\n",
       " '2:00',\n",
       " '1:00',\n",
       " '0:32',\n",
       " '0:16',\n",
       " '0:08',\n",
       " '0:04',\n",
       " '0:02',\n",
       " '0:01']"
      ]
     },
     "execution_count": 43,
     "metadata": {},
     "output_type": "execute_result"
    }
   ],
   "source": [
    "# https://leetcode.com/problems/binary-watch/submissions/1231377431\n",
    "def readBinaryWatch(turnedOn: int) -> list[str]:\n",
    "    def getValue(code: str) -> tuple[int, int]:\n",
    "        mapping = {\n",
    "            \"H8\": (8, 0), \"H4\": (4, 0),\n",
    "            \"H2\": (2, 0), \"H1\": (1, 0),\n",
    "\n",
    "            \"M32\": (0, 32), \"M16\": (0, 16),\n",
    "            \"M8\": (0, 8), \"M4\": (0, 4),\n",
    "            \"M2\": (0, 2), \"M1\": (0, 1)\n",
    "        }\n",
    "        return mapping[code]\n",
    "\n",
    "    leds: list[str] = [\"H8\", \"H4\", \"H2\", \"H1\", \"M32\", \"M16\", \"M8\", \"M4\", \"M2\", \"M1\"]\n",
    "    possbilities = itertools.combinations(leds, r=turnedOn)\n",
    "\n",
    "    result: list[str] = []\n",
    "    for possb in possbilities:\n",
    "        hour_ = min_ = 0\n",
    "        for led in possb:\n",
    "            H, M = getValue(led)\n",
    "            hour_ += H\n",
    "            min_ += M\n",
    "\n",
    "        if 0 <= hour_ <= 11 and 0 <= min_ <= 59:\n",
    "            result.append(f\"{hour_}:{str(min_).zfill(2)}\")\n",
    "\n",
    "    return result\n",
    "\n",
    "# Testing the solution\n",
    "readBinaryWatch(1)"
   ]
  },
  {
   "cell_type": "markdown",
   "id": "1b69d7ad",
   "metadata": {
    "papermill": {
     "duration": 0.017212,
     "end_time": "2024-04-13T17:24:00.722588",
     "exception": false,
     "start_time": "2024-04-13T17:24:00.705376",
     "status": "completed"
    },
    "tags": []
   },
   "source": [
    "Valid Perfect Square: https://leetcode.com/problems/valid-perfect-square/submissions/1231389059"
   ]
  },
  {
   "cell_type": "code",
   "execution_count": 44,
   "id": "97e2b8db",
   "metadata": {
    "execution": {
     "iopub.execute_input": "2024-04-13T17:24:00.758978Z",
     "iopub.status.busy": "2024-04-13T17:24:00.758250Z",
     "iopub.status.idle": "2024-04-13T17:24:00.763825Z",
     "shell.execute_reply": "2024-04-13T17:24:00.763042Z"
    },
    "lines_to_next_cell": 1,
    "papermill": {
     "duration": 0.025708,
     "end_time": "2024-04-13T17:24:00.765463",
     "exception": false,
     "start_time": "2024-04-13T17:24:00.739755",
     "status": "completed"
    },
    "tags": []
   },
   "outputs": [],
   "source": [
    "def isPerfectSquare(num: int) -> bool:\n",
    "    low, high = 0, num\n",
    "    while low <= high:\n",
    "        mid = (low + high) // 2\n",
    "        square = mid * mid\n",
    "        if square == num:\n",
    "            return True\n",
    "        elif square < num:\n",
    "            low = mid + 1\n",
    "        else:\n",
    "            high = mid - 1\n",
    "\n",
    "    return False\n",
    "\n",
    "# Testing the solution\n",
    "assert isPerfectSquare(16) == True\n",
    "assert isPerfectSquare(3) == False"
   ]
  },
  {
   "cell_type": "markdown",
   "id": "54962282",
   "metadata": {
    "papermill": {
     "duration": 0.017335,
     "end_time": "2024-04-13T17:24:00.800632",
     "exception": false,
     "start_time": "2024-04-13T17:24:00.783297",
     "status": "completed"
    },
    "tags": []
   },
   "source": [
    "Range sum query: https://leetcode.com/problems/range-sum-query-immutable/submissions/1231398800"
   ]
  },
  {
   "cell_type": "code",
   "execution_count": 45,
   "id": "c95f87dd",
   "metadata": {
    "execution": {
     "iopub.execute_input": "2024-04-13T17:24:00.837086Z",
     "iopub.status.busy": "2024-04-13T17:24:00.836458Z",
     "iopub.status.idle": "2024-04-13T17:24:00.842691Z",
     "shell.execute_reply": "2024-04-13T17:24:00.841883Z"
    },
    "lines_to_next_cell": 1,
    "papermill": {
     "duration": 0.026507,
     "end_time": "2024-04-13T17:24:00.844419",
     "exception": false,
     "start_time": "2024-04-13T17:24:00.817912",
     "status": "completed"
    },
    "tags": []
   },
   "outputs": [],
   "source": [
    "class NumArray:\n",
    "    def __init__(self, nums: list[int]):\n",
    "        self.nums = nums\n",
    "        self.cumsum = list(itertools.accumulate(nums, lambda x, y: x + y))\n",
    "\n",
    "    def sumRange(self, left: int, right: int) -> int:\n",
    "        result = self.cumsum[right]\n",
    "        if left > 0:\n",
    "            result -= self.cumsum[left - 1]\n",
    "        return result\n",
    "\n",
    "# Testing the Solution\n",
    "obj = NumArray([-2, 0, 3, -5, 2, -1])\n",
    "assert obj.sumRange(0, 2) == 1\n",
    "assert obj.sumRange(2, 5) == -1"
   ]
  },
  {
   "cell_type": "markdown",
   "id": "bd8e8248",
   "metadata": {
    "papermill": {
     "duration": 0.017434,
     "end_time": "2024-04-13T17:24:00.879694",
     "exception": false,
     "start_time": "2024-04-13T17:24:00.862260",
     "status": "completed"
    },
    "tags": []
   },
   "source": [
    "Cows and bulls: https://leetcode.com/problems/bulls-and-cows/submissions/1231417724"
   ]
  },
  {
   "cell_type": "code",
   "execution_count": 46,
   "id": "264c9ee0",
   "metadata": {
    "execution": {
     "iopub.execute_input": "2024-04-13T17:24:00.916540Z",
     "iopub.status.busy": "2024-04-13T17:24:00.915834Z",
     "iopub.status.idle": "2024-04-13T17:24:00.922235Z",
     "shell.execute_reply": "2024-04-13T17:24:00.921371Z"
    },
    "papermill": {
     "duration": 0.026781,
     "end_time": "2024-04-13T17:24:00.923894",
     "exception": false,
     "start_time": "2024-04-13T17:24:00.897113",
     "status": "completed"
    },
    "tags": []
   },
   "outputs": [],
   "source": [
    "def getHint(secret: str, guess: str) -> str:\n",
    "    N = len(guess)\n",
    "    secret_freq = collections.Counter(secret)\n",
    "    guess_freq = collections.Counter(guess)\n",
    "    cows = bulls = 0\n",
    "    for i in range(N):\n",
    "        if guess[i] == secret[i]:\n",
    "            bulls += 1\n",
    "            secret_freq[guess[i]] -= 1\n",
    "            guess_freq[guess[i]] -= 1\n",
    "\n",
    "    for k in guess_freq:\n",
    "        cows += min(guess_freq[k], secret_freq.get(k, 0))\n",
    "\n",
    "    return f\"{bulls}A{cows}B\"\n",
    "\n",
    "# Testing the solution\n",
    "assert getHint(\"1122\", \"1222\") == \"3A0B\""
   ]
  }
 ],
 "metadata": {
  "kernelspec": {
   "display_name": "Python 3 (ipykernel)",
   "language": "python",
   "name": "python3"
  },
  "language_info": {
   "codemirror_mode": {
    "name": "ipython",
    "version": 3
   },
   "file_extension": ".py",
   "mimetype": "text/x-python",
   "name": "python",
   "nbconvert_exporter": "python",
   "pygments_lexer": "ipython3",
   "version": "3.10.14"
  },
  "papermill": {
   "default_parameters": {},
   "duration": 4.817808,
   "end_time": "2024-04-13T17:24:01.158400",
   "environment_variables": {},
   "exception": null,
   "input_path": "practice/001.ipynb",
   "output_path": "practice/001.ipynb",
   "parameters": {},
   "start_time": "2024-04-13T17:23:56.340592",
   "version": "2.5.0"
  }
 },
 "nbformat": 4,
 "nbformat_minor": 5
}