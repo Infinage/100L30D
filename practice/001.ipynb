{
 "cells": [
  {
   "cell_type": "code",
   "execution_count": 1,
   "id": "3f12b031",
   "metadata": {
    "execution": {
     "iopub.execute_input": "2024-04-21T15:47:05.441683Z",
     "iopub.status.busy": "2024-04-21T15:47:05.440978Z",
     "iopub.status.idle": "2024-04-21T15:47:05.946324Z",
     "shell.execute_reply": "2024-04-21T15:47:05.945598Z"
    },
    "papermill": {
     "duration": 0.53125,
     "end_time": "2024-04-21T15:47:05.948314",
     "exception": false,
     "start_time": "2024-04-21T15:47:05.417064",
     "status": "completed"
    },
    "tags": []
   },
   "outputs": [],
   "source": [
    "from typing import List, Optional, Generator\n",
    "import pandas as pd\n",
    "import numpy as np\n",
    "import sqlite3\n",
    "import re\n",
    "import io\n",
    "import math\n",
    "import collections\n",
    "import itertools\n",
    "import functools\n",
    "import random\n",
    "import string\n",
    "import tqdm\n",
    "import bisect\n",
    "\n",
    "conn = sqlite3.connect(\":memory:\")\n",
    "\n",
    "def regexp(expr, item):\n",
    "    reg = re.compile(expr)\n",
    "    return reg.search(item) is not None\n",
    "\n",
    "def read_lc_df(s: str, dtypes: dict[str, str]=dict()) -> pd.DataFrame:\n",
    "    temp = pd.read_csv(io.StringIO(s), sep=\"|\", skiprows=2)\n",
    "    temp = temp.iloc[1:-1, 1:-1]\n",
    "    temp.columns = temp.columns.map(str.strip)\n",
    "    temp = temp.map(lambda x: x if type(x) != str else None if x.strip() == 'null' else x.strip())\n",
    "    temp = temp.astype(dtypes)\n",
    "    return temp\n",
    "\n",
    "conn.create_function(\"REGEXP\", 2, regexp)"
   ]
  },
  {
   "cell_type": "markdown",
   "id": "7f5a0241",
   "metadata": {
    "papermill": {
     "duration": 0.022359,
     "end_time": "2024-04-21T15:47:05.993251",
     "exception": false,
     "start_time": "2024-04-21T15:47:05.970892",
     "status": "completed"
    },
    "tags": []
   },
   "source": [
    "#### Helper for Binary tree problems"
   ]
  },
  {
   "cell_type": "code",
   "execution_count": 2,
   "id": "85eb2598",
   "metadata": {
    "execution": {
     "iopub.execute_input": "2024-04-21T15:47:06.038308Z",
     "iopub.status.busy": "2024-04-21T15:47:06.037985Z",
     "iopub.status.idle": "2024-04-21T15:47:06.049413Z",
     "shell.execute_reply": "2024-04-21T15:47:06.048622Z"
    },
    "lines_to_next_cell": 1,
    "papermill": {
     "duration": 0.036155,
     "end_time": "2024-04-21T15:47:06.051127",
     "exception": false,
     "start_time": "2024-04-21T15:47:06.014972",
     "status": "completed"
    },
    "tags": []
   },
   "outputs": [],
   "source": [
    "class BinaryTreeNode:\n",
    "    def __init__(self, val=0, left=None, right=None):\n",
    "        self.val = val\n",
    "        self.left = left\n",
    "        self.right = right\n",
    "\n",
    "    def to_list(self):\n",
    "        to_visit = [self]\n",
    "        visited = []\n",
    "        while len(to_visit) > 0:\n",
    "            curr = to_visit.pop(0)\n",
    "            if curr:\n",
    "                to_visit.append(curr.left)\n",
    "                to_visit.append(curr.right)\n",
    "                visited.append(curr.val)\n",
    "            else:\n",
    "                visited.append(curr)\n",
    "\n",
    "        while visited and not visited[-1]:\n",
    "            visited.pop()\n",
    "\n",
    "        return visited\n",
    "\n",
    "    def __str__(self):\n",
    "        return str(self.val)\n",
    "\n",
    "    @staticmethod\n",
    "    def from_array(nums: list[int|None]):\n",
    "        '''Create a Tree from a list of nums. Returns the root node.'''\n",
    "        if len(nums) == 0:\n",
    "            return None\n",
    "        elif len(nums) == 1:\n",
    "            return BinaryTreeNode(nums[0])\n",
    "        else:\n",
    "            forest = [BinaryTreeNode(nums[0])]\n",
    "            parent_idx = -1\n",
    "            for i in range(1, len(nums)):\n",
    "\n",
    "                curr = None\n",
    "                if nums[i] is not None:\n",
    "                    curr = BinaryTreeNode(nums[i])\n",
    "                    forest.append(curr)\n",
    "\n",
    "                if i % 2 == 1:\n",
    "                    parent_idx += 1\n",
    "                    forest[parent_idx].left = curr\n",
    "                else:\n",
    "                    forest[parent_idx].right = curr\n",
    "\n",
    "        return forest[0]"
   ]
  },
  {
   "cell_type": "markdown",
   "id": "1ef703cf",
   "metadata": {
    "papermill": {
     "duration": 0.021753,
     "end_time": "2024-04-21T15:47:06.094853",
     "exception": false,
     "start_time": "2024-04-21T15:47:06.073100",
     "status": "completed"
    },
    "tags": []
   },
   "source": [
    "#### Helper for Singly Linked lists"
   ]
  },
  {
   "cell_type": "code",
   "execution_count": 3,
   "id": "3de163a1",
   "metadata": {
    "execution": {
     "iopub.execute_input": "2024-04-21T15:47:06.139573Z",
     "iopub.status.busy": "2024-04-21T15:47:06.139316Z",
     "iopub.status.idle": "2024-04-21T15:47:06.146289Z",
     "shell.execute_reply": "2024-04-21T15:47:06.145606Z"
    },
    "lines_to_next_cell": 1,
    "papermill": {
     "duration": 0.031383,
     "end_time": "2024-04-21T15:47:06.147915",
     "exception": false,
     "start_time": "2024-04-21T15:47:06.116532",
     "status": "completed"
    },
    "tags": []
   },
   "outputs": [],
   "source": [
    "class ListNode:\n",
    "    def __init__(self, val=0, next=None):\n",
    "        self.val = val\n",
    "        self.next = next\n",
    "\n",
    "    def __str__(self):\n",
    "        return str(self.val)\n",
    "\n",
    "    @staticmethod\n",
    "    def to_singly_linked_list(nums: list[int]):\n",
    "        root = prev = None\n",
    "        for n in nums:\n",
    "            curr = ListNode(n)\n",
    "            # Init once\n",
    "            if not root:\n",
    "                root = curr\n",
    "            if prev:\n",
    "                prev.next = curr\n",
    "            prev = curr\n",
    "\n",
    "        return root\n",
    "\n",
    "    def to_list(self) -> list[int]:\n",
    "        result = []\n",
    "        curr = self\n",
    "        while curr:\n",
    "            result.append(curr.val)\n",
    "            curr = curr.next\n",
    "        return result"
   ]
  },
  {
   "cell_type": "markdown",
   "id": "35f93518",
   "metadata": {
    "papermill": {
     "duration": 0.02139,
     "end_time": "2024-04-21T15:47:06.190930",
     "exception": false,
     "start_time": "2024-04-21T15:47:06.169540",
     "status": "completed"
    },
    "tags": []
   },
   "source": [
    "#### Utility to generate random BST"
   ]
  },
  {
   "cell_type": "code",
   "execution_count": 4,
   "id": "848c43e5",
   "metadata": {
    "execution": {
     "iopub.execute_input": "2024-04-21T15:47:06.235419Z",
     "iopub.status.busy": "2024-04-21T15:47:06.234822Z",
     "iopub.status.idle": "2024-04-21T15:47:06.241511Z",
     "shell.execute_reply": "2024-04-21T15:47:06.240842Z"
    },
    "lines_to_next_cell": 1,
    "papermill": {
     "duration": 0.030748,
     "end_time": "2024-04-21T15:47:06.243174",
     "exception": false,
     "start_time": "2024-04-21T15:47:06.212426",
     "status": "completed"
    },
    "tags": []
   },
   "outputs": [],
   "source": [
    "def generateBST(N: int, min_: int, max_: int) -> BinaryTreeNode|None:\n",
    "    def insert(curr: BinaryTreeNode|None, n: int) -> BinaryTreeNode:\n",
    "        if not curr:\n",
    "            curr = BinaryTreeNode(n)\n",
    "        elif curr.val < n:\n",
    "            curr.right = insert(curr.right, n)\n",
    "        else:\n",
    "            curr.left = insert(curr.left, n)\n",
    "\n",
    "        return curr\n",
    "\n",
    "    assert N <= max_ - min_, \"Number of available samples must be >= N\"\n",
    "    root: BinaryTreeNode|None = None\n",
    "    for n in np.random.choice(np.arange(min_, max_), size=N, replace=False):\n",
    "        root = insert(root, n)\n",
    "\n",
    "    return root"
   ]
  },
  {
   "cell_type": "code",
   "execution_count": 5,
   "id": "e9a621b3",
   "metadata": {
    "execution": {
     "iopub.execute_input": "2024-04-21T15:47:06.288255Z",
     "iopub.status.busy": "2024-04-21T15:47:06.287661Z",
     "iopub.status.idle": "2024-04-21T15:47:06.294786Z",
     "shell.execute_reply": "2024-04-21T15:47:06.294047Z"
    },
    "lines_to_next_cell": 1,
    "papermill": {
     "duration": 0.031611,
     "end_time": "2024-04-21T15:47:06.296464",
     "exception": false,
     "start_time": "2024-04-21T15:47:06.264853",
     "status": "completed"
    },
    "tags": []
   },
   "outputs": [],
   "source": [
    "# Problem Category: Easy\n",
    "# Link: https://leetcode.com/problems/find-mode-in-binary-search-tree/submissions/1187947888\n",
    "class Solution:\n",
    "    def findMode(self, root: BinaryTreeNode) -> List[int]:\n",
    "        def backtrack(curr: BinaryTreeNode):\n",
    "            if curr == None:\n",
    "                return\n",
    "            else:\n",
    "                hm[curr.val] = hm.get(curr.val, 0) + 1\n",
    "                backtrack(curr.left)\n",
    "                backtrack(curr.right)\n",
    "\n",
    "        hm: dict[int, int] = dict()\n",
    "        backtrack(root)\n",
    "        max_ = max(hm.values())\n",
    "        result: list[int] = []\n",
    "        for k, v in hm.items():\n",
    "            if v == max_:\n",
    "                result.append(k)\n",
    "        return result\n",
    "\n",
    "# Testing the solution\n",
    "assert Solution().findMode(BinaryTreeNode.from_array([1,None,2,2])) == [2]\n",
    "assert Solution().findMode(BinaryTreeNode.from_array([0])) == [0]"
   ]
  },
  {
   "cell_type": "code",
   "execution_count": 6,
   "id": "9b733058",
   "metadata": {
    "execution": {
     "iopub.execute_input": "2024-04-21T15:47:06.341586Z",
     "iopub.status.busy": "2024-04-21T15:47:06.341048Z",
     "iopub.status.idle": "2024-04-21T15:47:06.347583Z",
     "shell.execute_reply": "2024-04-21T15:47:06.346841Z"
    },
    "lines_to_next_cell": 1,
    "papermill": {
     "duration": 0.03093,
     "end_time": "2024-04-21T15:47:06.349365",
     "exception": false,
     "start_time": "2024-04-21T15:47:06.318435",
     "status": "completed"
    },
    "tags": []
   },
   "outputs": [],
   "source": [
    "# Problem Category: Medium\n",
    "# Link: https://leetcode.com/problems/find-bottom-left-tree-value/submissions/1188894879/\n",
    "class Solution:\n",
    "    def findBottomLeftValue(self, root: BinaryTreeNode) -> int:\n",
    "        next_: list[BinaryTreeNode] = [root]\n",
    "        while True:\n",
    "            next_next_: list[BinaryTreeNode] = []\n",
    "            for node in next_:\n",
    "                if node.left:\n",
    "                    next_next_.append(node.left)\n",
    "                if node.right:\n",
    "                    next_next_.append(node.right)\n",
    "            if next_next_:\n",
    "                next_ = next_next_\n",
    "            else:\n",
    "                break\n",
    "        return next_[0].val\n",
    "\n",
    "# Testing the solution\n",
    "assert Solution().findBottomLeftValue(BinaryTreeNode.from_array([2, 1, 3])) == 1\n",
    "assert Solution().findBottomLeftValue(BinaryTreeNode.from_array([1,2,3,4,None,5,6,None,None,7])) == 7"
   ]
  },
  {
   "cell_type": "code",
   "execution_count": 7,
   "id": "d0726800",
   "metadata": {
    "execution": {
     "iopub.execute_input": "2024-04-21T15:47:06.394070Z",
     "iopub.status.busy": "2024-04-21T15:47:06.393528Z",
     "iopub.status.idle": "2024-04-21T15:47:06.398753Z",
     "shell.execute_reply": "2024-04-21T15:47:06.398009Z"
    },
    "lines_to_next_cell": 1,
    "papermill": {
     "duration": 0.029376,
     "end_time": "2024-04-21T15:47:06.400447",
     "exception": false,
     "start_time": "2024-04-21T15:47:06.371071",
     "status": "completed"
    },
    "tags": []
   },
   "outputs": [],
   "source": [
    "# Problem Category: Easy\n",
    "# Link: https://leetcode.com/problems/maximum-odd-binary-number/1190823057\n",
    "class Solution:\n",
    "    def maximumOddBinaryNumber(self, s: str) -> str:\n",
    "        counts = dict(collections.Counter(s))\n",
    "        zeros = counts.get('0', 0) * '0'\n",
    "        ones = (counts.get('1', 0) - 1) * '1'\n",
    "        return ones + zeros + '1'\n",
    "\n",
    "# Testing the solution\n",
    "assert Solution().maximumOddBinaryNumber(\"010\") == \"001\"\n",
    "assert Solution().maximumOddBinaryNumber(\"0101\") == \"1001\""
   ]
  },
  {
   "cell_type": "code",
   "execution_count": 8,
   "id": "a61be2aa",
   "metadata": {
    "execution": {
     "iopub.execute_input": "2024-04-21T15:47:06.445235Z",
     "iopub.status.busy": "2024-04-21T15:47:06.444711Z",
     "iopub.status.idle": "2024-04-21T15:47:06.451862Z",
     "shell.execute_reply": "2024-04-21T15:47:06.451125Z"
    },
    "lines_to_next_cell": 1,
    "papermill": {
     "duration": 0.031404,
     "end_time": "2024-04-21T15:47:06.453655",
     "exception": false,
     "start_time": "2024-04-21T15:47:06.422251",
     "status": "completed"
    },
    "tags": []
   },
   "outputs": [],
   "source": [
    "# Problem Category: Easy\n",
    "# Link: https://leetcode.com/problems/squares-of-a-sorted-array\n",
    "class Solution:\n",
    "    def sortedSquares(self, nums: list[int]) -> list[int]:\n",
    "        N = len(nums)\n",
    "        i, j = 0, N - 1\n",
    "        sorted_by_magnitude: list[int] = []\n",
    "        while i <= j:\n",
    "            if abs(nums[i]) > abs(nums[j]):\n",
    "                sorted_by_magnitude.append(nums[i])\n",
    "                i += 1\n",
    "            else:\n",
    "                sorted_by_magnitude.append(nums[j])\n",
    "                j -= 1\n",
    "        sorted_by_magnitude.reverse()\n",
    "\n",
    "        result: list[int] = []\n",
    "        for num in sorted_by_magnitude:\n",
    "            result.append(num * num)\n",
    "\n",
    "        return result\n",
    "\n",
    "# Testing the solution\n",
    "assert Solution().sortedSquares([-4,-1,0,3,10]) == [0, 1, 9, 16, 100]\n",
    "assert Solution().sortedSquares([-7,-4,-1,0,3,10]) == [0, 1, 9, 16, 49, 100]"
   ]
  },
  {
   "cell_type": "code",
   "execution_count": 9,
   "id": "f1f33401",
   "metadata": {
    "execution": {
     "iopub.execute_input": "2024-04-21T15:47:06.498402Z",
     "iopub.status.busy": "2024-04-21T15:47:06.497839Z",
     "iopub.status.idle": "2024-04-21T15:47:06.505194Z",
     "shell.execute_reply": "2024-04-21T15:47:06.504490Z"
    },
    "lines_to_next_cell": 1,
    "papermill": {
     "duration": 0.031505,
     "end_time": "2024-04-21T15:47:06.506845",
     "exception": false,
     "start_time": "2024-04-21T15:47:06.475340",
     "status": "completed"
    },
    "tags": []
   },
   "outputs": [],
   "source": [
    "# Problem Category: Medium\n",
    "# Link: https://leetcode.com/problems/minimum-length-of-string-after-deleting-similar-ends/submissions/1194814297\n",
    "class Solution:\n",
    "    def minimumLength(self, s: str) -> int:\n",
    "        N = len(s)\n",
    "        i, j = 0, N - 1\n",
    "        while i < j:\n",
    "            while i < N - 1 and s[i + 1] == s[i] and s[i] == s[j]:\n",
    "                i += 1\n",
    "            while j > 1 and s[j - 1] == s[j] and s[i] == s[j]:\n",
    "                j -= 1\n",
    "            if s[i] == s[j]:\n",
    "                i += 1\n",
    "                j -= 1\n",
    "            else:\n",
    "                return (j - i) + 1\n",
    "        else:\n",
    "            return 1 if i == j else 0\n",
    "\n",
    "# Testing the solution\n",
    "assert Solution().minimumLength(\"ca\") == 2\n",
    "assert Solution().minimumLength(\"cabaabac\") == 0\n",
    "assert Solution().minimumLength(\"aabccabba\") == 3\n",
    "assert Solution().minimumLength(\"bbbbbabbbbccbcbcbccbbabbb\") == 1\n",
    "assert Solution().minimumLength(\"aaaa\") == 0"
   ]
  },
  {
   "cell_type": "code",
   "execution_count": 10,
   "id": "79086e5d",
   "metadata": {
    "execution": {
     "iopub.execute_input": "2024-04-21T15:47:06.552287Z",
     "iopub.status.busy": "2024-04-21T15:47:06.551734Z",
     "iopub.status.idle": "2024-04-21T15:47:06.558087Z",
     "shell.execute_reply": "2024-04-21T15:47:06.557412Z"
    },
    "lines_to_next_cell": 1,
    "papermill": {
     "duration": 0.030935,
     "end_time": "2024-04-21T15:47:06.559653",
     "exception": false,
     "start_time": "2024-04-21T15:47:06.528718",
     "status": "completed"
    },
    "tags": []
   },
   "outputs": [],
   "source": [
    "# Problem Category: Easy\n",
    "# Link: https://leetcode.com/problems/ransom-note/submissions/1195815128\n",
    "class Solution:\n",
    "    def canConstruct(self, ransomNote: str, magazine: str) -> bool:\n",
    "        cr = collections.Counter(ransomNote)\n",
    "        cm = collections.Counter(magazine)\n",
    "        for i in range(ord(\"a\"), ord(\"z\") + 1):\n",
    "            ch = chr(i)\n",
    "            if cm.get(ch, 0) < cr.get(ch, 0):\n",
    "                return False\n",
    "        else:\n",
    "            return True\n",
    "\n",
    "# Testing the solution\n",
    "assert Solution().canConstruct(\"aa\", \"aab\") == True\n",
    "assert Solution().canConstruct(\"a\", \"b\") == False\n",
    "assert Solution().canConstruct(\"aa\", \"ab\") == False"
   ]
  },
  {
   "cell_type": "markdown",
   "id": "86315f1b",
   "metadata": {
    "papermill": {
     "duration": 0.041968,
     "end_time": "2024-04-21T15:47:06.623469",
     "exception": false,
     "start_time": "2024-04-21T15:47:06.581501",
     "status": "completed"
    },
    "tags": []
   },
   "source": [
    "Striver: Pascal's triangle\n",
    "Problem: Finding nCr in minimal time (part of pascal's triangle)\n",
    "Find element at position 1st 2nd column in a pascal's triangle\n",
    "Sol: math.comb(n -1, r - 1)"
   ]
  },
  {
   "cell_type": "code",
   "execution_count": 11,
   "id": "d8a93518",
   "metadata": {
    "execution": {
     "iopub.execute_input": "2024-04-21T15:47:06.668487Z",
     "iopub.status.busy": "2024-04-21T15:47:06.667827Z",
     "iopub.status.idle": "2024-04-21T15:47:06.674560Z",
     "shell.execute_reply": "2024-04-21T15:47:06.673842Z"
    },
    "lines_to_next_cell": 1,
    "papermill": {
     "duration": 0.031046,
     "end_time": "2024-04-21T15:47:06.676234",
     "exception": false,
     "start_time": "2024-04-21T15:47:06.645188",
     "status": "completed"
    },
    "tags": []
   },
   "outputs": [],
   "source": [
    "def nCr(n: int, r: int) -> float:\n",
    "    num = functools.reduce(lambda x, y: x * y, range(n, n - r, -1))\n",
    "    den = functools.reduce(lambda x, y: x * y, range(r, 0, -1))\n",
    "    return num / den\n",
    "\n",
    "# Testing the solution\n",
    "for i in range(50):\n",
    "    i, j = sorted([random.randint(1, 50), random.randint(1, 50)], reverse=True)\n",
    "    assert math.comb(i, j) == nCr(i, j), f\"failed for {i, j}\""
   ]
  },
  {
   "cell_type": "code",
   "execution_count": 12,
   "id": "3936a59e",
   "metadata": {
    "execution": {
     "iopub.execute_input": "2024-04-21T15:47:06.721009Z",
     "iopub.status.busy": "2024-04-21T15:47:06.720391Z",
     "iopub.status.idle": "2024-04-21T15:47:06.732382Z",
     "shell.execute_reply": "2024-04-21T15:47:06.731643Z"
    },
    "lines_to_next_cell": 1,
    "papermill": {
     "duration": 0.036146,
     "end_time": "2024-04-21T15:47:06.734094",
     "exception": false,
     "start_time": "2024-04-21T15:47:06.697948",
     "status": "completed"
    },
    "tags": []
   },
   "outputs": [],
   "source": [
    "# 4Sum\n",
    "class Solution:\n",
    "    def fourSum(self, arr: list[int], target: int) -> set[tuple[int]]:\n",
    "        def update_until(idx: int, update: int, until: int):\n",
    "            temp_idx = idx\n",
    "            assert update != 0\n",
    "            if update > 0:\n",
    "                while temp_idx < until and arr[temp_idx] == arr[idx]:\n",
    "                    temp_idx += update\n",
    "            else:\n",
    "                while temp_idx > until and arr[temp_idx] == arr[idx]:\n",
    "                    temp_idx += update\n",
    "            return temp_idx\n",
    "\n",
    "        N = len(arr)\n",
    "        arr.sort()\n",
    "        result: set[tuple[int]] = set()\n",
    "        i = 0\n",
    "        while i < N - 3:\n",
    "            j = i + 1\n",
    "            while j < N - 2:\n",
    "                k, l = j + 1, N - 1\n",
    "                while k < l:\n",
    "                    curr = arr[i], arr[j], arr[k], arr[l]\n",
    "                    if sum(curr) == target:\n",
    "                        result.add(curr)\n",
    "                        # Increment k, l\n",
    "                        k_, l_ = k, l\n",
    "                        while k_ < l_ and arr[k_] == arr[k] and arr[l_] == arr[l]:\n",
    "                            k_, l_ = k_ + 1, l_ - 1\n",
    "                        k, l = k_, l_\n",
    "                    elif sum(curr) < target:\n",
    "                        # Increment k\n",
    "                        k = update_until(k, 1, l)\n",
    "                    else:\n",
    "                        # Decrement l\n",
    "                        l = update_until(l, -1, k)\n",
    "\n",
    "                # Increment j\n",
    "                j = update_until(j, 1, N - 2)\n",
    "\n",
    "            # Increment i\n",
    "            i = update_until(i, 1, N - 3)\n",
    "\n",
    "        return result\n",
    "\n",
    "# Testing the solution\n",
    "assert Solution().fourSum([1,0,-1,0,-2,2], 0) == {(-2,-1,1,2), (-2,0,0,2), (-1,0,0,1)}\n",
    "assert Solution().fourSum([2,2,2,2,2], 8) == {(2, 2, 2, 2)}"
   ]
  },
  {
   "cell_type": "markdown",
   "id": "e839124e",
   "metadata": {
    "papermill": {
     "duration": 0.021731,
     "end_time": "2024-04-21T15:47:06.777817",
     "exception": false,
     "start_time": "2024-04-21T15:47:06.756086",
     "status": "completed"
    },
    "tags": []
   },
   "source": [
    "Leetcode Weekly contest - 17th March"
   ]
  },
  {
   "cell_type": "code",
   "execution_count": 13,
   "id": "e6574b26",
   "metadata": {
    "execution": {
     "iopub.execute_input": "2024-04-21T15:47:06.822653Z",
     "iopub.status.busy": "2024-04-21T15:47:06.822048Z",
     "iopub.status.idle": "2024-04-21T15:47:06.827359Z",
     "shell.execute_reply": "2024-04-21T15:47:06.826622Z"
    },
    "lines_to_next_cell": 1,
    "papermill": {
     "duration": 0.029544,
     "end_time": "2024-04-21T15:47:06.829019",
     "exception": false,
     "start_time": "2024-04-21T15:47:06.799475",
     "status": "completed"
    },
    "tags": []
   },
   "outputs": [],
   "source": [
    "class Solution:\n",
    "    def isSubstringPresent(self, s: str) -> bool:\n",
    "        rev_ = \"\".join(list(reversed(s)))\n",
    "        N = len(s)\n",
    "        for i in range(N - 1):\n",
    "            if s[i:i+2] in rev_:\n",
    "                return True\n",
    "        return False\n",
    "\n",
    "# Testing the solution\n",
    "assert Solution().isSubstringPresent(\"leetcode\") == True\n",
    "assert Solution().isSubstringPresent(\"abcd\") == False"
   ]
  },
  {
   "cell_type": "markdown",
   "id": "f12cafc3",
   "metadata": {
    "papermill": {
     "duration": 0.021739,
     "end_time": "2024-04-21T15:47:06.872521",
     "exception": false,
     "start_time": "2024-04-21T15:47:06.850782",
     "status": "completed"
    },
    "tags": []
   },
   "source": [
    "zz - z, z, zz (3)\n",
    "zzz - z, z, z, zz, zz, zzz (6)\n",
    "zzzz - z, z, z, z; zz, zz, zz, zzz, zzz, zzzz (10)\n",
    "zzzzz - z, z, z, z, z, zz, zz, zz, zz, zzz, zzz, zzz, zzzz, zzzz, zzzzz (15)"
   ]
  },
  {
   "cell_type": "code",
   "execution_count": 14,
   "id": "589d1561",
   "metadata": {
    "execution": {
     "iopub.execute_input": "2024-04-21T15:47:06.917397Z",
     "iopub.status.busy": "2024-04-21T15:47:06.916741Z",
     "iopub.status.idle": "2024-04-21T15:47:06.922185Z",
     "shell.execute_reply": "2024-04-21T15:47:06.921427Z"
    },
    "lines_to_next_cell": 1,
    "papermill": {
     "duration": 0.029515,
     "end_time": "2024-04-21T15:47:06.923815",
     "exception": false,
     "start_time": "2024-04-21T15:47:06.894300",
     "status": "completed"
    },
    "tags": []
   },
   "outputs": [],
   "source": [
    "class Solution:\n",
    "    def countSubstrings(self, s: str, c: str) -> int:\n",
    "        count = 0\n",
    "        for ch in s:\n",
    "            if ch == c:\n",
    "                count += 1\n",
    "        return (count * (count + 1)) / 2\n",
    "\n",
    "# Testing the solution\n",
    "assert Solution().countSubstrings(\"abada\", \"a\") == 6\n",
    "assert Solution().countSubstrings(\"zzz\", \"z\") == 6"
   ]
  },
  {
   "cell_type": "code",
   "execution_count": 15,
   "id": "a0a48e4b",
   "metadata": {
    "execution": {
     "iopub.execute_input": "2024-04-21T15:47:06.968428Z",
     "iopub.status.busy": "2024-04-21T15:47:06.967856Z",
     "iopub.status.idle": "2024-04-21T15:47:06.974634Z",
     "shell.execute_reply": "2024-04-21T15:47:06.973895Z"
    },
    "lines_to_next_cell": 1,
    "papermill": {
     "duration": 0.03106,
     "end_time": "2024-04-21T15:47:06.976428",
     "exception": false,
     "start_time": "2024-04-21T15:47:06.945368",
     "status": "completed"
    },
    "tags": []
   },
   "outputs": [],
   "source": [
    "class Solution:\n",
    "    def minimumDeletions(self, word: str, k: int) -> int:\n",
    "        freq: list[int] = sorted(collections.Counter(word).values())\n",
    "        N = len(freq)\n",
    "\n",
    "        result = math.inf\n",
    "        sum_ = 0\n",
    "        for i in range(N):\n",
    "            sum_ += freq[i - 1] if i > 0 else 0\n",
    "            curr_ = 0\n",
    "            for j in range(i + 1, N):\n",
    "                if freq[j] - freq[i] > k:\n",
    "                    curr_ += freq[j] - freq[i] - k\n",
    "            result = min(curr_ + sum_, result)\n",
    "\n",
    "        return result\n",
    "\n",
    "# Testing the solution\n",
    "assert Solution().minimumDeletions(\"aabcaba\", 0) == 3\n",
    "assert Solution().minimumDeletions(\"dabdcbdcdcd\", 2) == 2\n",
    "assert Solution().minimumDeletions(\"aaabaaa\", 2) == 1"
   ]
  },
  {
   "cell_type": "markdown",
   "id": "acd2120e",
   "metadata": {
    "papermill": {
     "duration": 0.021648,
     "end_time": "2024-04-21T15:47:07.019984",
     "exception": false,
     "start_time": "2024-04-21T15:47:06.998336",
     "status": "completed"
    },
    "tags": []
   },
   "source": [
    "Leetcode Weekly contest - 17th March\n",
    "Link: https://leetcode.com/problems/search-in-rotated-sorted-array/submissions/1210464524/"
   ]
  },
  {
   "cell_type": "code",
   "execution_count": 16,
   "id": "f7960549",
   "metadata": {
    "execution": {
     "iopub.execute_input": "2024-04-21T15:47:07.066774Z",
     "iopub.status.busy": "2024-04-21T15:47:07.066124Z",
     "iopub.status.idle": "2024-04-21T15:47:07.073857Z",
     "shell.execute_reply": "2024-04-21T15:47:07.073073Z"
    },
    "lines_to_next_cell": 1,
    "papermill": {
     "duration": 0.033839,
     "end_time": "2024-04-21T15:47:07.075445",
     "exception": false,
     "start_time": "2024-04-21T15:47:07.041606",
     "status": "completed"
    },
    "tags": []
   },
   "outputs": [],
   "source": [
    "class Solution:\n",
    "    def search(self, nums: list[int], target: int) -> int:\n",
    "        N = len(nums)\n",
    "        low, high = 0, N - 1\n",
    "        while low <= high:\n",
    "            mid = (low + high) // 2\n",
    "            if nums[mid] == target:\n",
    "                return mid\n",
    "\n",
    "            # Left portion is sorted\n",
    "            elif nums[low] <= nums[mid]:\n",
    "                if nums[low] <= target <= nums[mid]:\n",
    "                    high = mid - 1\n",
    "                else:\n",
    "                    low = mid + 1\n",
    "\n",
    "            # Right portion is sorted\n",
    "            else:\n",
    "                if nums[mid] <= target <= nums[high]:\n",
    "                    low = mid + 1\n",
    "                else:\n",
    "                    high = mid - 1\n",
    "\n",
    "        # Not found\n",
    "        else:\n",
    "            return -1\n",
    "\n",
    "# Testing the solution\n",
    "assert Solution().search([4,5,6,7,0,1,2], 0) == 4\n",
    "assert Solution().search([4,5,6,7,0,1,2], 3) == -1\n",
    "assert Solution().search([1], 0) == -1"
   ]
  },
  {
   "cell_type": "markdown",
   "id": "6d00645d",
   "metadata": {
    "papermill": {
     "duration": 0.02166,
     "end_time": "2024-04-21T15:47:07.119101",
     "exception": false,
     "start_time": "2024-04-21T15:47:07.097441",
     "status": "completed"
    },
    "tags": []
   },
   "source": [
    "Leetcode weekly contest 24th March, 2024"
   ]
  },
  {
   "cell_type": "code",
   "execution_count": 17,
   "id": "4115c1b7",
   "metadata": {
    "execution": {
     "iopub.execute_input": "2024-04-21T15:47:07.164103Z",
     "iopub.status.busy": "2024-04-21T15:47:07.163548Z",
     "iopub.status.idle": "2024-04-21T15:47:07.169925Z",
     "shell.execute_reply": "2024-04-21T15:47:07.169149Z"
    },
    "lines_to_next_cell": 1,
    "papermill": {
     "duration": 0.030727,
     "end_time": "2024-04-21T15:47:07.171577",
     "exception": false,
     "start_time": "2024-04-21T15:47:07.140850",
     "status": "completed"
    },
    "tags": []
   },
   "outputs": [],
   "source": [
    "# Q1 - Easy\n",
    "class Solution:\n",
    "    def maximumLengthSubstring(self, s: str) -> int:\n",
    "        # Brute force\n",
    "        N = len(s)\n",
    "        max_ = 0\n",
    "        for i in range(N - 1):\n",
    "            counts = {s[i]: 1}\n",
    "            for j in range(i + 1, N):\n",
    "                curr_count = counts.get(s[j], 0) + 1\n",
    "                if curr_count > 2:\n",
    "                    break\n",
    "                else:\n",
    "                    counts[s[j]] = curr_count\n",
    "                    max_ = max(max_, j - i + 1)\n",
    "        return max_\n",
    "\n",
    "# Testing the solution\n",
    "assert Solution().maximumLengthSubstring(\"bcbbbcba\") == 4\n",
    "assert Solution().maximumLengthSubstring(\"aaaa\") == 2"
   ]
  },
  {
   "cell_type": "code",
   "execution_count": 18,
   "id": "d41b9204",
   "metadata": {
    "execution": {
     "iopub.execute_input": "2024-04-21T15:47:07.216788Z",
     "iopub.status.busy": "2024-04-21T15:47:07.216142Z",
     "iopub.status.idle": "2024-04-21T15:47:07.221424Z",
     "shell.execute_reply": "2024-04-21T15:47:07.220669Z"
    },
    "lines_to_next_cell": 1,
    "papermill": {
     "duration": 0.029639,
     "end_time": "2024-04-21T15:47:07.223056",
     "exception": false,
     "start_time": "2024-04-21T15:47:07.193417",
     "status": "completed"
    },
    "tags": []
   },
   "outputs": [],
   "source": [
    "# Q2 - Medium\n",
    "class Solution:\n",
    "    def minOperations(self, k: int) -> int:\n",
    "        \"Can be optimized with binary search\"\n",
    "        min_ = k - 1\n",
    "        for i in range(1, k):\n",
    "            curr = i + math.ceil(k / i) - 2\n",
    "            if curr < min_:\n",
    "                min_ = curr\n",
    "\n",
    "        return min_\n",
    "\n",
    "# Testing the solution\n",
    "assert Solution().minOperations(11) == 5\n",
    "assert Solution().minOperations(1) == 0"
   ]
  },
  {
   "cell_type": "code",
   "execution_count": 19,
   "id": "51f6c341",
   "metadata": {
    "execution": {
     "iopub.execute_input": "2024-04-21T15:47:07.268176Z",
     "iopub.status.busy": "2024-04-21T15:47:07.267661Z",
     "iopub.status.idle": "2024-04-21T15:47:07.274420Z",
     "shell.execute_reply": "2024-04-21T15:47:07.273661Z"
    },
    "lines_to_next_cell": 1,
    "papermill": {
     "duration": 0.030967,
     "end_time": "2024-04-21T15:47:07.276110",
     "exception": false,
     "start_time": "2024-04-21T15:47:07.245143",
     "status": "completed"
    },
    "tags": []
   },
   "outputs": [],
   "source": [
    "# Q3 - Medium (Timeout)\n",
    "class Solution:\n",
    "    def mostFrequentIDs(self, nums: list[int], freq: list[int]) -> list[int]:\n",
    "        \"Brute force: O(N^2)\"\n",
    "        N = len(nums)\n",
    "        counter = dict()\n",
    "        result: list[int] = []\n",
    "        for i in range(N):\n",
    "            counter[nums[i]] = counter.get(nums[i], 0) + freq[i]\n",
    "            curr_max = max(counter.items(), key=lambda x: x[1])\n",
    "            result.append(curr_max[1])\n",
    "\n",
    "        return result\n",
    "\n",
    "# Testing the solution\n",
    "assert Solution().mostFrequentIDs([5,5,3], [2,-2,1]) == [2, 0, 1]\n",
    "assert Solution().mostFrequentIDs([2,3,2,1], [3,2,-3,1]) == [3,3,2,2]"
   ]
  },
  {
   "cell_type": "markdown",
   "id": "f581903e",
   "metadata": {
    "papermill": {
     "duration": 0.021745,
     "end_time": "2024-04-21T15:47:07.319677",
     "exception": false,
     "start_time": "2024-04-21T15:47:07.297932",
     "status": "completed"
    },
    "tags": []
   },
   "source": [
    "Category: Medium\n",
    "Video Link: https://leetcode.com/problems/find-the-duplicate-number"
   ]
  },
  {
   "cell_type": "code",
   "execution_count": 20,
   "id": "08bb3876",
   "metadata": {
    "execution": {
     "iopub.execute_input": "2024-04-21T15:47:07.364697Z",
     "iopub.status.busy": "2024-04-21T15:47:07.364103Z",
     "iopub.status.idle": "2024-04-21T15:47:07.372495Z",
     "shell.execute_reply": "2024-04-21T15:47:07.371878Z"
    },
    "lines_to_next_cell": 1,
    "papermill": {
     "duration": 0.03269,
     "end_time": "2024-04-21T15:47:07.374174",
     "exception": false,
     "start_time": "2024-04-21T15:47:07.341484",
     "status": "completed"
    },
    "tags": []
   },
   "outputs": [],
   "source": [
    "class Solution:\n",
    "    def findDuplicate_(self, nums: list[int]) -> int:\n",
    "        # Time - O(N log N)\n",
    "        nums.sort()\n",
    "\n",
    "        # Time - O(N)\n",
    "        for i in range(len(nums) -1):\n",
    "            if nums[i] == nums[i + 1]:\n",
    "                return nums[i]\n",
    "\n",
    "        return -1\n",
    "\n",
    "    def findDuplicate(self, nums: list[int]) -> int:\n",
    "        def backtrack(start: int) -> None | int:\n",
    "            next_ = nums[start]\n",
    "            if next_ == -1:\n",
    "                return start\n",
    "            else:\n",
    "                nums[start] = -1\n",
    "                return backtrack(next_)\n",
    "\n",
    "        for i in range(len(nums)):\n",
    "            if nums[i] == i:\n",
    "                nums[i] = -1\n",
    "            else:\n",
    "                curr = backtrack(nums[i])\n",
    "                if curr is not None:\n",
    "                    return curr\n",
    "        else:\n",
    "            return -1\n",
    "\n",
    "# Testing the solution\n",
    "assert Solution().findDuplicate([1,3,4,2,2]) == 2\n",
    "assert Solution().findDuplicate([3,1,3,4,2]) == 3\n",
    "assert Solution().findDuplicate([3,3,3,3,3]) == 3"
   ]
  },
  {
   "cell_type": "markdown",
   "id": "18a3ddfa",
   "metadata": {
    "papermill": {
     "duration": 0.021739,
     "end_time": "2024-04-21T15:47:07.417709",
     "exception": false,
     "start_time": "2024-04-21T15:47:07.395970",
     "status": "completed"
    },
    "tags": []
   },
   "source": [
    "#### Leetcode Contest: 31st March 2024 (# 391)"
   ]
  },
  {
   "cell_type": "code",
   "execution_count": 21,
   "id": "94eae322",
   "metadata": {
    "execution": {
     "iopub.execute_input": "2024-04-21T15:47:07.465007Z",
     "iopub.status.busy": "2024-04-21T15:47:07.464504Z",
     "iopub.status.idle": "2024-04-21T15:47:07.469257Z",
     "shell.execute_reply": "2024-04-21T15:47:07.468509Z"
    },
    "lines_to_next_cell": 1,
    "papermill": {
     "duration": 0.030679,
     "end_time": "2024-04-21T15:47:07.470971",
     "exception": false,
     "start_time": "2024-04-21T15:47:07.440292",
     "status": "completed"
    },
    "tags": []
   },
   "outputs": [],
   "source": [
    "# Q1 - Easy\n",
    "class Solution:\n",
    "    def sumOfTheDigitsOfHarshadNumber(self, x: int) -> int:\n",
    "        result = sum(map(int, str(x)))\n",
    "        if x % result == 0:\n",
    "            return result\n",
    "        else:\n",
    "            return -1"
   ]
  },
  {
   "cell_type": "code",
   "execution_count": 22,
   "id": "3820ddc5",
   "metadata": {
    "execution": {
     "iopub.execute_input": "2024-04-21T15:47:07.516061Z",
     "iopub.status.busy": "2024-04-21T15:47:07.515388Z",
     "iopub.status.idle": "2024-04-21T15:47:07.522408Z",
     "shell.execute_reply": "2024-04-21T15:47:07.521763Z"
    },
    "lines_to_next_cell": 1,
    "papermill": {
     "duration": 0.03115,
     "end_time": "2024-04-21T15:47:07.524010",
     "exception": false,
     "start_time": "2024-04-21T15:47:07.492860",
     "status": "completed"
    },
    "tags": []
   },
   "outputs": [],
   "source": [
    "# Q2 - Medium\n",
    "class Solution:\n",
    "    def maxBottlesDrunk(self, numBottles: int, numExchange: int) -> int:\n",
    "        def exchange(empty: int, exchange: int) -> tuple[int, int, int]:\n",
    "            \"\"\"\n",
    "            Given count of empty bottles and start exchange rate,\n",
    "            returns number of full bottles we can form and the updated exchange rate\n",
    "\n",
    "            For eg:\n",
    "\n",
    "            empty = 10, exchange = 1\n",
    "\n",
    "             E, R, F\n",
    "            10, 1, 0\n",
    "            9,  2, 1\n",
    "            7,  3, 2\n",
    "            4,  4, 3\n",
    "            0,  5, 4\n",
    "\n",
    "            empty = 9, exchange = 1\n",
    "\n",
    "            E, R, F\n",
    "            9, 1, 0\n",
    "            8, 2, 1\n",
    "            6, 3, 2\n",
    "            3, 4, 3\n",
    "\n",
    "            \"\"\"\n",
    "            filled = 0\n",
    "            while empty >= exchange:\n",
    "                empty -= exchange\n",
    "                exchange += 1\n",
    "                filled += 1\n",
    "\n",
    "            return empty, exchange, filled\n",
    "\n",
    "        total = empty = 0\n",
    "        while numBottles:\n",
    "            total += numBottles\n",
    "            empty, numBottles = empty + numBottles, 0\n",
    "            empty, numExchange, numBottles = exchange(empty, numExchange)\n",
    "\n",
    "        return total\n",
    "\n",
    "# Testing the solution\n",
    "assert Solution().maxBottlesDrunk(10, 3) == 13\n",
    "assert Solution().maxBottlesDrunk(13, 6) == 15"
   ]
  },
  {
   "cell_type": "code",
   "execution_count": 23,
   "id": "76322274",
   "metadata": {
    "execution": {
     "iopub.execute_input": "2024-04-21T15:47:07.569662Z",
     "iopub.status.busy": "2024-04-21T15:47:07.569086Z",
     "iopub.status.idle": "2024-04-21T15:47:07.575044Z",
     "shell.execute_reply": "2024-04-21T15:47:07.574358Z"
    },
    "lines_to_next_cell": 1,
    "papermill": {
     "duration": 0.0306,
     "end_time": "2024-04-21T15:47:07.576666",
     "exception": false,
     "start_time": "2024-04-21T15:47:07.546066",
     "status": "completed"
    },
    "tags": []
   },
   "outputs": [],
   "source": [
    "# Q3 - Medium\n",
    "class Solution:\n",
    "    def countAlternatingSubarrays(self, nums: list[int]) -> int:\n",
    "        count, curr, N = 0, 0, len(nums)\n",
    "        for i in range(N + 1):\n",
    "            if i == 0 or (i < N and nums[i - 1] != nums[i]):\n",
    "                curr += 1\n",
    "            else:\n",
    "                count += (curr * (curr + 1)) // 2\n",
    "                curr = 1\n",
    "\n",
    "        return count\n",
    "\n",
    "# Testing the solution\n",
    "assert Solution().countAlternatingSubarrays([1,0,1,0]) == 10\n",
    "assert Solution().countAlternatingSubarrays( [0,1,1,1]) == 5"
   ]
  },
  {
   "cell_type": "markdown",
   "id": "aa42e3c4",
   "metadata": {
    "papermill": {
     "duration": 0.021744,
     "end_time": "2024-04-21T15:47:07.620219",
     "exception": false,
     "start_time": "2024-04-21T15:47:07.598475",
     "status": "completed"
    },
    "tags": []
   },
   "source": [
    "Easy Leetcode question: https://leetcode.com/problems/minimum-common-value"
   ]
  },
  {
   "cell_type": "code",
   "execution_count": 24,
   "id": "d2e96902",
   "metadata": {
    "execution": {
     "iopub.execute_input": "2024-04-21T15:47:07.665140Z",
     "iopub.status.busy": "2024-04-21T15:47:07.664594Z",
     "iopub.status.idle": "2024-04-21T15:47:07.670642Z",
     "shell.execute_reply": "2024-04-21T15:47:07.669922Z"
    },
    "lines_to_next_cell": 1,
    "papermill": {
     "duration": 0.030279,
     "end_time": "2024-04-21T15:47:07.672247",
     "exception": false,
     "start_time": "2024-04-21T15:47:07.641968",
     "status": "completed"
    },
    "tags": []
   },
   "outputs": [],
   "source": [
    "def getCommon(nums1: list[int], nums2: list[int]) -> int:\n",
    "    N1, N2 = len(nums1), len(nums2)\n",
    "    i = j = 0\n",
    "    while i < N1 and j < N2:\n",
    "        if nums1[i] == nums2[j]:\n",
    "            return nums1[i]\n",
    "        elif nums1[i] < nums2[j]:\n",
    "            i += 1\n",
    "        else:\n",
    "            j += 1\n",
    "\n",
    "    return -1\n",
    "\n",
    "# Testing the solution\n",
    "assert getCommon([1, 2, 3], [2, 4]) == 2\n",
    "assert getCommon([1, 2, 3], [4, 5, 6]) == -1\n",
    "assert getCommon([1, 2, 3], [3]) == 3"
   ]
  },
  {
   "cell_type": "markdown",
   "id": "60f3c0df",
   "metadata": {
    "papermill": {
     "duration": 0.021616,
     "end_time": "2024-04-21T15:47:07.715805",
     "exception": false,
     "start_time": "2024-04-21T15:47:07.694189",
     "status": "completed"
    },
    "tags": []
   },
   "source": [
    "Diameter of binary Tree\n",
    "Problem Link: https://leetcode.com/problems/diameter-of-binary-tree/submissions/1222192232"
   ]
  },
  {
   "cell_type": "code",
   "execution_count": 25,
   "id": "e0fb0a0f",
   "metadata": {
    "execution": {
     "iopub.execute_input": "2024-04-21T15:47:07.760607Z",
     "iopub.status.busy": "2024-04-21T15:47:07.759934Z",
     "iopub.status.idle": "2024-04-21T15:47:07.766095Z",
     "shell.execute_reply": "2024-04-21T15:47:07.765331Z"
    },
    "lines_to_next_cell": 1,
    "papermill": {
     "duration": 0.030209,
     "end_time": "2024-04-21T15:47:07.767669",
     "exception": false,
     "start_time": "2024-04-21T15:47:07.737460",
     "status": "completed"
    },
    "tags": []
   },
   "outputs": [],
   "source": [
    "def diameterOfBinaryTree(root: BinaryTreeNode) -> int:\n",
    "    \"\"\"\n",
    "    1. Perform a post order traversal\n",
    "    2. Keep updating a global max_ variable as max(max_, left + right) before returning. This is our final result.\n",
    "    3. At each recursive step, return max(left, right)\n",
    "    \"\"\"\n",
    "\n",
    "    result: int = 0\n",
    "    def postOrder(curr: BinaryTreeNode) -> int:\n",
    "        nonlocal result\n",
    "        if not curr:\n",
    "            return 0\n",
    "        else:\n",
    "            left_max = postOrder(curr.left)\n",
    "            right_max = postOrder(curr.right)\n",
    "            result = max(result, left_max + right_max)\n",
    "            return max(left_max, right_max) + 1\n",
    "\n",
    "    postOrder(root)\n",
    "    return result\n",
    "\n",
    "# Testing the solution\n",
    "assert diameterOfBinaryTree(BinaryTreeNode.from_array([1, 2, 3, 4, 5])) == 3\n",
    "assert diameterOfBinaryTree(BinaryTreeNode.from_array([1, 2])) == 1"
   ]
  },
  {
   "cell_type": "markdown",
   "id": "95066bc4",
   "metadata": {
    "papermill": {
     "duration": 0.021665,
     "end_time": "2024-04-21T15:47:07.811350",
     "exception": false,
     "start_time": "2024-04-21T15:47:07.789685",
     "status": "completed"
    },
    "tags": []
   },
   "source": [
    "Easy Leetcode question \n",
    "Problem Link: https://leetcode.com/problems/largest-3-same-digit-number-in-string/submissions/1222201215/"
   ]
  },
  {
   "cell_type": "code",
   "execution_count": 26,
   "id": "dd3767a4",
   "metadata": {
    "execution": {
     "iopub.execute_input": "2024-04-21T15:47:07.856388Z",
     "iopub.status.busy": "2024-04-21T15:47:07.855804Z",
     "iopub.status.idle": "2024-04-21T15:47:07.864523Z",
     "shell.execute_reply": "2024-04-21T15:47:07.863762Z"
    },
    "lines_to_next_cell": 1,
    "papermill": {
     "duration": 0.032927,
     "end_time": "2024-04-21T15:47:07.866216",
     "exception": false,
     "start_time": "2024-04-21T15:47:07.833289",
     "status": "completed"
    },
    "tags": []
   },
   "outputs": [
    {
     "data": {
      "text/plain": [
       "'777'"
      ]
     },
     "execution_count": 26,
     "metadata": {},
     "output_type": "execute_result"
    }
   ],
   "source": [
    "def largestGoodInteger(num: str) -> str:\n",
    "    for n in \"9876543210\":\n",
    "        if n * 3 in num:\n",
    "            return n * 3\n",
    "    else:\n",
    "        return \"\"\n",
    "\n",
    "# Testing the solution\n",
    "largestGoodInteger(\"6777133339\")"
   ]
  },
  {
   "cell_type": "markdown",
   "id": "90d38ef2",
   "metadata": {
    "papermill": {
     "duration": 0.021806,
     "end_time": "2024-04-21T15:47:07.910235",
     "exception": false,
     "start_time": "2024-04-21T15:47:07.888429",
     "status": "completed"
    },
    "tags": []
   },
   "source": [
    "Easy Leetcode question\n",
    "Problem Link: https://leetcode.com/problems/largest-odd-number-in-string/submissions/1222208825"
   ]
  },
  {
   "cell_type": "code",
   "execution_count": 27,
   "id": "ba91d179",
   "metadata": {
    "execution": {
     "iopub.execute_input": "2024-04-21T15:47:07.956475Z",
     "iopub.status.busy": "2024-04-21T15:47:07.955973Z",
     "iopub.status.idle": "2024-04-21T15:47:07.962439Z",
     "shell.execute_reply": "2024-04-21T15:47:07.961650Z"
    },
    "lines_to_next_cell": 1,
    "papermill": {
     "duration": 0.030769,
     "end_time": "2024-04-21T15:47:07.964058",
     "exception": false,
     "start_time": "2024-04-21T15:47:07.933289",
     "status": "completed"
    },
    "tags": []
   },
   "outputs": [
    {
     "data": {
      "text/plain": [
       "'35427'"
      ]
     },
     "execution_count": 27,
     "metadata": {},
     "output_type": "execute_result"
    }
   ],
   "source": [
    "def largestOddNumber(num: str) -> str:\n",
    "    N = len(num)\n",
    "    for i in range(N - 1, -1, -1):\n",
    "        if int(num[i]) % 2 == 1:\n",
    "            return num[:i + 1]\n",
    "    else:\n",
    "        return \"\"\n",
    "\n",
    "# Testing the solution\n",
    "largestOddNumber(\"354278\")"
   ]
  },
  {
   "cell_type": "markdown",
   "id": "84ba2176",
   "metadata": {
    "papermill": {
     "duration": 0.022031,
     "end_time": "2024-04-21T15:47:08.008434",
     "exception": false,
     "start_time": "2024-04-21T15:47:07.986403",
     "status": "completed"
    },
    "tags": []
   },
   "source": [
    "Leetcode easy problem: https://leetcode.com/problems/make-the-string-great/submissions/1224126212"
   ]
  },
  {
   "cell_type": "code",
   "execution_count": 28,
   "id": "94ade9d0",
   "metadata": {
    "execution": {
     "iopub.execute_input": "2024-04-21T15:47:08.053786Z",
     "iopub.status.busy": "2024-04-21T15:47:08.053153Z",
     "iopub.status.idle": "2024-04-21T15:47:08.058418Z",
     "shell.execute_reply": "2024-04-21T15:47:08.057635Z"
    },
    "lines_to_next_cell": 1,
    "papermill": {
     "duration": 0.029617,
     "end_time": "2024-04-21T15:47:08.060022",
     "exception": false,
     "start_time": "2024-04-21T15:47:08.030405",
     "status": "completed"
    },
    "tags": []
   },
   "outputs": [],
   "source": [
    "def makeGood(s: str) -> str:\n",
    "    stack: list[str] = []\n",
    "    for c in s:\n",
    "        if not stack or c.lower() != stack[-1].lower() or ord(c) == ord(stack[-1]):\n",
    "            stack.append(c)\n",
    "        else:\n",
    "            stack.pop()\n",
    "\n",
    "    return \"\".join(stack)\n",
    "\n",
    "assert makeGood(\"leeEetcode\") == \"leetcode\"\n",
    "assert makeGood(\"abBAcC\") == \"\""
   ]
  },
  {
   "cell_type": "markdown",
   "id": "b5cc8f93",
   "metadata": {
    "papermill": {
     "duration": 0.022359,
     "end_time": "2024-04-21T15:47:08.104624",
     "exception": false,
     "start_time": "2024-04-21T15:47:08.082265",
     "status": "completed"
    },
    "tags": []
   },
   "source": [
    "#### Code Gladiators - 2k24"
   ]
  },
  {
   "cell_type": "code",
   "execution_count": 29,
   "id": "4fe7023d",
   "metadata": {
    "execution": {
     "iopub.execute_input": "2024-04-21T15:47:08.150773Z",
     "iopub.status.busy": "2024-04-21T15:47:08.150529Z",
     "iopub.status.idle": "2024-04-21T15:47:08.160513Z",
     "shell.execute_reply": "2024-04-21T15:47:08.159765Z"
    },
    "lines_to_next_cell": 1,
    "papermill": {
     "duration": 0.034692,
     "end_time": "2024-04-21T15:47:08.162277",
     "exception": false,
     "start_time": "2024-04-21T15:47:08.127585",
     "status": "completed"
    },
    "tags": []
   },
   "outputs": [],
   "source": [
    "# Q1\n",
    "def Q1(P: int, X: int, R1: int, N: int, Y: int, R2: int):\n",
    "\n",
    "    # Get travel time for comparison\n",
    "    t1 = (P / X) + R1\n",
    "    t2 = (N / Y) + R2\n",
    "\n",
    "    if t1 < t2:\n",
    "        return \"NINA\"\n",
    "    elif t1 > t2:\n",
    "        return \"PAUL\"\n",
    "    else:\n",
    "        return \"BOTH\"\n",
    "\n",
    "# Q2:\n",
    "def Q2(arr: list[int], N: int) -> int:\n",
    "\n",
    "    def getPair(i: int, target: int) -> int:\n",
    "        \"Returns pair index j, such that arr[i] + arr[j] == target, returns -1 if not possible\"\n",
    "        for j in positions.get(target - arr[i], []):\n",
    "            if j != i and j not in picked:\n",
    "                return j\n",
    "        else:\n",
    "            return -1\n",
    "\n",
    "    # Store all the values to a dict for quick reverse lookups\n",
    "    positions: dict[int, list] = dict()\n",
    "    for i in range(N):\n",
    "        indices: list[int] = positions.get(arr[i], [])\n",
    "        indices.append(i)\n",
    "        positions[arr[i]] = indices\n",
    "\n",
    "    # Weights can be between 2 * min_, 2 * max_\n",
    "    max_count = 0\n",
    "    for total_weight in range(min(arr) * 2, (max(arr) * 2) + 1):\n",
    "        count = 0\n",
    "        picked: set[int] = set()\n",
    "        for i in range(N):\n",
    "            j = getPair(i, total_weight) if i not in picked else -1\n",
    "            if j != -1:\n",
    "                picked.add(i)\n",
    "                picked.add(j)\n",
    "                count += 1\n",
    "\n",
    "        max_count = max(max_count, count)\n",
    "\n",
    "    return max_count\n",
    "\n",
    "# Testing the solution\n",
    "assert Q2([1, 1, 3, 4, 2, 2], 6) == 2"
   ]
  },
  {
   "cell_type": "markdown",
   "id": "10f9ae1d",
   "metadata": {
    "papermill": {
     "duration": 0.036729,
     "end_time": "2024-04-21T15:47:08.229520",
     "exception": false,
     "start_time": "2024-04-21T15:47:08.192791",
     "status": "completed"
    },
    "tags": []
   },
   "source": [
    "Problem link: https://leetcode.com/problems/time-needed-to-buy-tickets/submissions/1227477603"
   ]
  },
  {
   "cell_type": "code",
   "execution_count": 30,
   "id": "a8665a6b",
   "metadata": {
    "execution": {
     "iopub.execute_input": "2024-04-21T15:47:08.275912Z",
     "iopub.status.busy": "2024-04-21T15:47:08.275675Z",
     "iopub.status.idle": "2024-04-21T15:47:08.281105Z",
     "shell.execute_reply": "2024-04-21T15:47:08.280470Z"
    },
    "lines_to_next_cell": 1,
    "papermill": {
     "duration": 0.03001,
     "end_time": "2024-04-21T15:47:08.282773",
     "exception": false,
     "start_time": "2024-04-21T15:47:08.252763",
     "status": "completed"
    },
    "tags": []
   },
   "outputs": [],
   "source": [
    "# Time: O(N), Space: O(1)\n",
    "def timeRequiredToBuy(tickets: list[int], k: int) -> int:\n",
    "    total = 0\n",
    "    for i in range(len(tickets)):\n",
    "        if i <= k:\n",
    "            total += min(tickets[k], tickets[i])\n",
    "        else:\n",
    "            total += min(tickets[k] - 1, tickets[i])\n",
    "\n",
    "    return total\n",
    "\n",
    "# Testing the Solution\n",
    "assert timeRequiredToBuy(tickets=[5, 1, 1, 1],  k=0) == 8\n",
    "assert timeRequiredToBuy(tickets=[2, 3, 2], k=2) == 6"
   ]
  },
  {
   "cell_type": "markdown",
   "id": "a8388f4e",
   "metadata": {
    "papermill": {
     "duration": 0.022086,
     "end_time": "2024-04-21T15:47:08.327236",
     "exception": false,
     "start_time": "2024-04-21T15:47:08.305150",
     "status": "completed"
    },
    "tags": []
   },
   "source": [
    "Problem Link: https://leetcode.com/problems/number-of-students-unable-to-eat-lunch/submissions/1227492211"
   ]
  },
  {
   "cell_type": "code",
   "execution_count": 31,
   "id": "c54b1d35",
   "metadata": {
    "execution": {
     "iopub.execute_input": "2024-04-21T15:47:08.372531Z",
     "iopub.status.busy": "2024-04-21T15:47:08.372242Z",
     "iopub.status.idle": "2024-04-21T15:47:08.378223Z",
     "shell.execute_reply": "2024-04-21T15:47:08.377555Z"
    },
    "lines_to_next_cell": 1,
    "papermill": {
     "duration": 0.03055,
     "end_time": "2024-04-21T15:47:08.379884",
     "exception": false,
     "start_time": "2024-04-21T15:47:08.349334",
     "status": "completed"
    },
    "tags": []
   },
   "outputs": [],
   "source": [
    "def countStudents(students: list[int], sandwiches: list[int]) -> int:\n",
    "    stud_pref: dict[int, int] = collections.Counter(students)\n",
    "    for n in sandwiches:\n",
    "        if stud_pref.get(n, 0) == 0:\n",
    "            return stud_pref.get(0, 0) + stud_pref.get(1, 0)\n",
    "        else:\n",
    "            stud_pref[n] -= 1\n",
    "    return 0\n",
    "\n",
    "# Testing the Solution\n",
    "assert countStudents([1,1,0,0], [0,1,0,1]) == 0\n",
    "assert countStudents([1,1,1,0,0,1], [1,0,0,0,1,1]) == 3"
   ]
  },
  {
   "cell_type": "markdown",
   "id": "bae9e756",
   "metadata": {
    "papermill": {
     "duration": 0.022015,
     "end_time": "2024-04-21T15:47:08.424009",
     "exception": false,
     "start_time": "2024-04-21T15:47:08.401994",
     "status": "completed"
    },
    "tags": []
   },
   "source": [
    "All root to leaf paths in a Binary Tree"
   ]
  },
  {
   "cell_type": "code",
   "execution_count": 32,
   "id": "9b941cc0",
   "metadata": {
    "execution": {
     "iopub.execute_input": "2024-04-21T15:47:08.469790Z",
     "iopub.status.busy": "2024-04-21T15:47:08.469180Z",
     "iopub.status.idle": "2024-04-21T15:47:08.477076Z",
     "shell.execute_reply": "2024-04-21T15:47:08.476428Z"
    },
    "lines_to_next_cell": 1,
    "papermill": {
     "duration": 0.032578,
     "end_time": "2024-04-21T15:47:08.478724",
     "exception": false,
     "start_time": "2024-04-21T15:47:08.446146",
     "status": "completed"
    },
    "tags": []
   },
   "outputs": [],
   "source": [
    "def allRootToLeaf(root: BinaryTreeNode) -> list[str]:\n",
    "    \"\"\"\n",
    "    1. Do a pre order traversal.\n",
    "    2. When a leaf node is encountered. Append the path to result.\n",
    "    3. If not a leaf node, concat to a growing string path.\n",
    "    \"\"\"\n",
    "\n",
    "    paths: list[str] = []\n",
    "    def preOrder(curr: BinaryTreeNode, traveled: list[str]):\n",
    "        traveled.append(str(curr.val))\n",
    "\n",
    "        if not curr.left and not curr.right:\n",
    "            nonlocal paths\n",
    "            paths.append(\" \".join(traveled))\n",
    "        if curr.left:\n",
    "            preOrder(curr.left, traveled)\n",
    "        if curr.right:\n",
    "            preOrder(curr.right, traveled)\n",
    "\n",
    "        traveled.pop()\n",
    "\n",
    "    preOrder(root, [])\n",
    "    return paths\n",
    "\n",
    "# Testing the solution\n",
    "for ques, ans in (\n",
    "        ([1, 2, 3, 4, None, 5, 6, None, 7, None, None, None, None, None, None], [\"1 3 5\", \"1 3 6\", \"1 2 4 7\"]),\n",
    "        ([1, 2, 3, 4, 5, None, None, None, None, None, None], [\"1 2 4\", \"1 2 5\", \"1 3\"]),\n",
    "    ):\n",
    "    temp = allRootToLeaf(BinaryTreeNode.from_array(ques))\n",
    "    for ans_str in ans:\n",
    "        assert ans_str in temp, f\"{ans_str} not found inside result: {temp}\""
   ]
  },
  {
   "cell_type": "markdown",
   "id": "1e07c06f",
   "metadata": {
    "papermill": {
     "duration": 0.023892,
     "end_time": "2024-04-21T15:47:08.531174",
     "exception": false,
     "start_time": "2024-04-21T15:47:08.507282",
     "status": "completed"
    },
    "tags": []
   },
   "source": [
    "Problem Link: https://leetcode.com/problems/lowest-common-ancestor-of-a-binary-tree/submissions/1227536364"
   ]
  },
  {
   "cell_type": "code",
   "execution_count": 33,
   "id": "bfdc7092",
   "metadata": {
    "execution": {
     "iopub.execute_input": "2024-04-21T15:47:08.577550Z",
     "iopub.status.busy": "2024-04-21T15:47:08.577222Z",
     "iopub.status.idle": "2024-04-21T15:47:08.585488Z",
     "shell.execute_reply": "2024-04-21T15:47:08.584705Z"
    },
    "lines_to_next_cell": 1,
    "papermill": {
     "duration": 0.033755,
     "end_time": "2024-04-21T15:47:08.587130",
     "exception": false,
     "start_time": "2024-04-21T15:47:08.553375",
     "status": "completed"
    },
    "tags": []
   },
   "outputs": [],
   "source": [
    "def lowestCommonAncestor(root: BinaryTreeNode, p: BinaryTreeNode, q: BinaryTreeNode) -> BinaryTreeNode:\n",
    "    p_path: list[BinaryTreeNode] = []\n",
    "    q_path: list[BinaryTreeNode] = []\n",
    "    def getPathsFromRoot(curr: BinaryTreeNode, traveled: list[BinaryTreeNode]):\n",
    "        nonlocal p_path, q_path\n",
    "        traveled.append(curr)\n",
    "        if curr == p:\n",
    "            p_path = list(traveled)\n",
    "        if curr == q:\n",
    "            q_path = list(traveled)\n",
    "        if curr.left:\n",
    "            getPathsFromRoot(curr.left, traveled)\n",
    "        if curr.right:\n",
    "            getPathsFromRoot(curr.right, traveled)\n",
    "        traveled.pop()\n",
    "\n",
    "    getPathsFromRoot(root, [])\n",
    "\n",
    "    # Find common ancestor\n",
    "    NP, NQ = len(p_path), len(q_path)\n",
    "    i = j = 0\n",
    "    while i < NP and j < NQ and p_path[i] == q_path[j]:\n",
    "        i, j = i + 1, j + 1\n",
    "\n",
    "    return p_path[i - 1]\n",
    "\n",
    "# Testing the solution\n",
    "temp: BinaryTreeNode = BinaryTreeNode.from_array([3,5,1,6,2,0,8,None,None,7,4])\n",
    "assert lowestCommonAncestor(temp, p=temp.left, q=temp.left.right.right).val == 5"
   ]
  },
  {
   "cell_type": "markdown",
   "id": "b4388e14",
   "metadata": {
    "papermill": {
     "duration": 0.022124,
     "end_time": "2024-04-21T15:47:08.631647",
     "exception": false,
     "start_time": "2024-04-21T15:47:08.609523",
     "status": "completed"
    },
    "tags": []
   },
   "source": [
    "Problem Link: https://leetcode.com/problems/maximum-width-of-binary-tree/submissions/1228429287"
   ]
  },
  {
   "cell_type": "code",
   "execution_count": 34,
   "id": "876bfe38",
   "metadata": {
    "execution": {
     "iopub.execute_input": "2024-04-21T15:47:08.677422Z",
     "iopub.status.busy": "2024-04-21T15:47:08.676746Z",
     "iopub.status.idle": "2024-04-21T15:47:08.683929Z",
     "shell.execute_reply": "2024-04-21T15:47:08.683261Z"
    },
    "lines_to_next_cell": 1,
    "papermill": {
     "duration": 0.031697,
     "end_time": "2024-04-21T15:47:08.685579",
     "exception": false,
     "start_time": "2024-04-21T15:47:08.653882",
     "status": "completed"
    },
    "tags": []
   },
   "outputs": [],
   "source": [
    "def widthOfBinaryTree(root: BinaryTreeNode) -> int:\n",
    "    boundaries: dict[int, tuple[int, int]] = dict()\n",
    "    max_width = 1\n",
    "    def backtrack(curr: BinaryTreeNode, height: int, width: int):\n",
    "        nonlocal boundaries, max_width\n",
    "        if not curr:\n",
    "            return\n",
    "        else:\n",
    "            curr_lr = boundaries.get(height, (2 ** height, 0))\n",
    "            boundaries[height] = (min(curr_lr[0], width + 1), max(curr_lr[1], width + 1))\n",
    "            max_width = max(max_width, boundaries[height][1] - boundaries[height][0] + 1)\n",
    "            backtrack(curr.left, height + 1, width * 2)\n",
    "            backtrack(curr.right, height + 1, (width * 2) + 1)\n",
    "\n",
    "    backtrack(root, 0, 0)\n",
    "    return max_width\n",
    "\n",
    "# Testing the Solution\n",
    "assert widthOfBinaryTree(BinaryTreeNode.from_array([1, 3, 2, 5, None, None, 9, 6, None, 7])) == 7"
   ]
  },
  {
   "cell_type": "markdown",
   "id": "d1a33bbb",
   "metadata": {
    "papermill": {
     "duration": 0.022005,
     "end_time": "2024-04-21T15:47:08.729559",
     "exception": false,
     "start_time": "2024-04-21T15:47:08.707554",
     "status": "completed"
    },
    "tags": []
   },
   "source": [
    "Leetcode Easy: https://leetcode.com/problems/maximum-average-subarray-i/"
   ]
  },
  {
   "cell_type": "code",
   "execution_count": 35,
   "id": "25620d4a",
   "metadata": {
    "execution": {
     "iopub.execute_input": "2024-04-21T15:47:08.774761Z",
     "iopub.status.busy": "2024-04-21T15:47:08.774520Z",
     "iopub.status.idle": "2024-04-21T15:47:08.779713Z",
     "shell.execute_reply": "2024-04-21T15:47:08.778959Z"
    },
    "lines_to_next_cell": 1,
    "papermill": {
     "duration": 0.029674,
     "end_time": "2024-04-21T15:47:08.781242",
     "exception": false,
     "start_time": "2024-04-21T15:47:08.751568",
     "status": "completed"
    },
    "tags": []
   },
   "outputs": [],
   "source": [
    "def findMaxAverage(nums: list[int], k: int) -> float:\n",
    "    sum_ = sum(nums[:k])\n",
    "    max_avg = sum_ / k\n",
    "    for i in range(k, len(nums)):\n",
    "        sum_ = sum_ + nums[i] - nums[i - k]\n",
    "        max_avg = max(max_avg, sum_ / k)\n",
    "\n",
    "    return max_avg\n",
    "\n",
    "# Testing the solution\n",
    "assert findMaxAverage([1,12,-5,-6,50,3], 4) == 12.75\n",
    "assert findMaxAverage([5], 1) == 5"
   ]
  },
  {
   "cell_type": "markdown",
   "id": "7bcc5995",
   "metadata": {
    "papermill": {
     "duration": 0.021925,
     "end_time": "2024-04-21T15:47:08.825382",
     "exception": false,
     "start_time": "2024-04-21T15:47:08.803457",
     "status": "completed"
    },
    "tags": []
   },
   "source": [
    "Easy Leetcode Problem Link: https://leetcode.com/problems/average-of-levels-in-binary-tree/submissions/1228468053"
   ]
  },
  {
   "cell_type": "code",
   "execution_count": 36,
   "id": "7efaf1c1",
   "metadata": {
    "execution": {
     "iopub.execute_input": "2024-04-21T15:47:08.870952Z",
     "iopub.status.busy": "2024-04-21T15:47:08.870297Z",
     "iopub.status.idle": "2024-04-21T15:47:08.876466Z",
     "shell.execute_reply": "2024-04-21T15:47:08.875694Z"
    },
    "lines_to_next_cell": 1,
    "papermill": {
     "duration": 0.030886,
     "end_time": "2024-04-21T15:47:08.878293",
     "exception": false,
     "start_time": "2024-04-21T15:47:08.847407",
     "status": "completed"
    },
    "tags": []
   },
   "outputs": [],
   "source": [
    "def averageOfLevels(root: BinaryTreeNode) -> list[float]:\n",
    "    result: list[float] = []\n",
    "    queue: list[BinaryTreeNode] = [root]\n",
    "    while queue:\n",
    "        next_: list[BinaryTreeNode] = []\n",
    "        sum_ = count_ = 0\n",
    "        for curr in queue:\n",
    "            sum_, count_ = sum_ + curr.val, count_ + 1\n",
    "            if curr.left:\n",
    "                next_.append(curr.left)\n",
    "            if curr.right:\n",
    "                next_.append(curr.right)\n",
    "        result.append(sum_ / count_)\n",
    "        queue = next_\n",
    "\n",
    "    return result\n",
    "\n",
    "# Testing the solution\n",
    "assert averageOfLevels(BinaryTreeNode.from_array([3,9,20,None,None,15,7])) == [3.00,14.50,11.00]"
   ]
  },
  {
   "cell_type": "markdown",
   "id": "6edc89e5",
   "metadata": {
    "papermill": {
     "duration": 0.022203,
     "end_time": "2024-04-21T15:47:08.922840",
     "exception": false,
     "start_time": "2024-04-21T15:47:08.900637",
     "status": "completed"
    },
    "tags": []
   },
   "source": [
    "Problem Link: https://leetcode.com/problems/all-nodes-distance-k-in-binary-tree"
   ]
  },
  {
   "cell_type": "code",
   "execution_count": 37,
   "id": "2f193894",
   "metadata": {
    "execution": {
     "iopub.execute_input": "2024-04-21T15:47:08.968713Z",
     "iopub.status.busy": "2024-04-21T15:47:08.968038Z",
     "iopub.status.idle": "2024-04-21T15:47:08.978912Z",
     "shell.execute_reply": "2024-04-21T15:47:08.978178Z"
    },
    "lines_to_next_cell": 1,
    "papermill": {
     "duration": 0.035617,
     "end_time": "2024-04-21T15:47:08.980671",
     "exception": false,
     "start_time": "2024-04-21T15:47:08.945054",
     "status": "completed"
    },
    "tags": []
   },
   "outputs": [],
   "source": [
    "def distanceK(root: BinaryTreeNode, target: int, k: int) -> list[int]:\n",
    "    adl: dict[int, set[int]] = dict()\n",
    "    def createGraph(curr: BinaryTreeNode):\n",
    "        nonlocal adl\n",
    "        if curr:\n",
    "            if curr.left:\n",
    "                curr_neighbours = adl.get(curr.val, set())\n",
    "                curr_neighbours.add(curr.left.val)\n",
    "                adl[curr.val] = curr_neighbours\n",
    "                left_neighbours = adl.get(curr.left.val, set())\n",
    "                left_neighbours.add(curr.val)\n",
    "                adl[curr.left.val] = left_neighbours\n",
    "                createGraph(curr.left)\n",
    "            if curr.right:\n",
    "                curr_neighbours = adl.get(curr.val, set())\n",
    "                curr_neighbours.add(curr.right.val)\n",
    "                adl[curr.val] = curr_neighbours\n",
    "                right_neighbours = adl.get(curr.right.val, set())\n",
    "                right_neighbours.add(curr.val)\n",
    "                adl[curr.right.val] = right_neighbours\n",
    "                createGraph(curr.right)\n",
    "\n",
    "    # Create a graph out of the binary Tree\n",
    "    createGraph(root)\n",
    "\n",
    "    # Starting from our target, find all nodes at K distance using BFS\n",
    "    queue: list[int] = [target]\n",
    "    visited: set[int] = set([target])\n",
    "    while k > 0:\n",
    "        next_: list[int] = []\n",
    "        for curr in queue:\n",
    "            for neighbour in adl.get(curr, set()):\n",
    "                if neighbour not in visited:\n",
    "                    visited.add(neighbour)\n",
    "                    next_.append(neighbour)\n",
    "        queue = next_\n",
    "        k -= 1\n",
    "\n",
    "    return queue\n",
    "\n",
    "# Testing the solution\n",
    "assert sorted(distanceK(BinaryTreeNode.from_array([3,5,1,6,2,0,8,None,None,7,4]), 5, 2)) == [1, 4, 7]\n",
    "assert sorted(distanceK(BinaryTreeNode.from_array([3,5,1,6,2,0,8,None,None,7,4]), 4, 2)) == [5, 7]"
   ]
  },
  {
   "cell_type": "markdown",
   "id": "29877a02",
   "metadata": {
    "papermill": {
     "duration": 0.021961,
     "end_time": "2024-04-21T15:47:09.024875",
     "exception": false,
     "start_time": "2024-04-21T15:47:09.002914",
     "status": "completed"
    },
    "tags": []
   },
   "source": [
    "Construct BT from Preorder and Inorder\n",
    "Problem Link: https://leetcode.com/problems/construct-binary-tree-from-preorder-and-inorder-traversal/submissions/1230345366"
   ]
  },
  {
   "cell_type": "code",
   "execution_count": 38,
   "id": "7042888b",
   "metadata": {
    "execution": {
     "iopub.execute_input": "2024-04-21T15:47:09.070138Z",
     "iopub.status.busy": "2024-04-21T15:47:09.069521Z",
     "iopub.status.idle": "2024-04-21T15:47:09.078329Z",
     "shell.execute_reply": "2024-04-21T15:47:09.077536Z"
    },
    "lines_to_next_cell": 1,
    "papermill": {
     "duration": 0.033198,
     "end_time": "2024-04-21T15:47:09.079939",
     "exception": false,
     "start_time": "2024-04-21T15:47:09.046741",
     "status": "completed"
    },
    "tags": []
   },
   "outputs": [
    {
     "data": {
      "text/plain": [
       "[9, None, 20, 15, 7]"
      ]
     },
     "execution_count": 38,
     "metadata": {},
     "output_type": "execute_result"
    }
   ],
   "source": [
    "def buildTreeFromPreOrder(inorder: list[int], preorder: list[int]) -> BinaryTreeNode|None:\n",
    "    \"\"\"\n",
    "    Preorder: Root, Left, Right\n",
    "    Inorder: Left, Root, Right\n",
    "\n",
    "    Root based spliting.\n",
    "    Use Preorder to determine which of the bunch is the root.\n",
    "    Use inorder to determine which of the bunch goes to the left half and which right.\n",
    "    \"\"\"\n",
    "\n",
    "    if not inorder:\n",
    "        return None\n",
    "    else:\n",
    "        inorder_set = set(inorder)\n",
    "        for root_val in preorder:\n",
    "            if root_val in inorder_set:\n",
    "                break\n",
    "\n",
    "        root = BinaryTreeNode(root_val)\n",
    "        if len(inorder) > 1:\n",
    "            idx = inorder.index(root.val)\n",
    "            left_inorder = inorder[:idx]\n",
    "            root.left = buildTreeFromPreOrder(left_inorder, preorder)\n",
    "            right_inorder = inorder[idx + 1:]\n",
    "            root.right = buildTreeFromPreOrder(right_inorder, preorder)\n",
    "\n",
    "        return root\n",
    "\n",
    "# Testing the Solution\n",
    "buildTreeFromPreOrder(inorder=[9,15,20,7], preorder=[3,9,20,15,7]).to_list()"
   ]
  },
  {
   "cell_type": "markdown",
   "id": "2325a371",
   "metadata": {
    "papermill": {
     "duration": 0.022251,
     "end_time": "2024-04-21T15:47:09.124573",
     "exception": false,
     "start_time": "2024-04-21T15:47:09.102322",
     "status": "completed"
    },
    "tags": []
   },
   "source": [
    "Construct Binary Tree from Inorder and Postorder Traversal\n",
    "Problem Link: "
   ]
  },
  {
   "cell_type": "code",
   "execution_count": 39,
   "id": "c3a41642",
   "metadata": {
    "execution": {
     "iopub.execute_input": "2024-04-21T15:47:09.170486Z",
     "iopub.status.busy": "2024-04-21T15:47:09.169835Z",
     "iopub.status.idle": "2024-04-21T15:47:09.176634Z",
     "shell.execute_reply": "2024-04-21T15:47:09.175924Z"
    },
    "lines_to_next_cell": 1,
    "papermill": {
     "duration": 0.03152,
     "end_time": "2024-04-21T15:47:09.178270",
     "exception": false,
     "start_time": "2024-04-21T15:47:09.146750",
     "status": "completed"
    },
    "tags": []
   },
   "outputs": [
    {
     "data": {
      "text/plain": [
       "[1, 2, 5, 3, 4]"
      ]
     },
     "execution_count": 39,
     "metadata": {},
     "output_type": "execute_result"
    }
   ],
   "source": [
    "def buildTreeFromPostOrder(inorder: list[int], postorder: list[int]) -> BinaryTreeNode|None:\n",
    "    \"\"\"\n",
    "    Inorder: Root, Left, Right\n",
    "    Postorder: Left, Right, Root\n",
    "\n",
    "    Same as FromPreOrder, except that we always take the last element also present in inorder as our root.\n",
    "    Simply reverse postorder and use the same function as before.\n",
    "    \"\"\"\n",
    "    return buildTreeFromPreOrder(inorder=inorder, preorder=postorder[::-1])\n",
    "\n",
    "# Testing the Solution\n",
    "buildTreeFromPostOrder(inorder=[3, 2, 4, 1, 5], postorder=[3, 4, 2, 5, 1]).to_list()"
   ]
  },
  {
   "cell_type": "markdown",
   "id": "2e008839",
   "metadata": {
    "papermill": {
     "duration": 0.022128,
     "end_time": "2024-04-21T15:47:09.222833",
     "exception": false,
     "start_time": "2024-04-21T15:47:09.200705",
     "status": "completed"
    },
    "tags": []
   },
   "source": [
    "Medium Leetcode: https://leetcode.com/problems/remove-k-digits"
   ]
  },
  {
   "cell_type": "code",
   "execution_count": 40,
   "id": "cf7ab669",
   "metadata": {
    "execution": {
     "iopub.execute_input": "2024-04-21T15:47:09.268920Z",
     "iopub.status.busy": "2024-04-21T15:47:09.268325Z",
     "iopub.status.idle": "2024-04-21T15:47:09.276405Z",
     "shell.execute_reply": "2024-04-21T15:47:09.275753Z"
    },
    "lines_to_next_cell": 1,
    "papermill": {
     "duration": 0.032893,
     "end_time": "2024-04-21T15:47:09.277982",
     "exception": false,
     "start_time": "2024-04-21T15:47:09.245089",
     "status": "completed"
    },
    "tags": []
   },
   "outputs": [
    {
     "data": {
      "text/plain": [
       "'132219'"
      ]
     },
     "execution_count": 40,
     "metadata": {},
     "output_type": "execute_result"
    }
   ],
   "source": [
    "# Brute force solution\n",
    "def removeKdigitsBrute(num: str, k: int) -> str:\n",
    "    def removeDigit(curr: str) -> str:\n",
    "        N = len(curr)\n",
    "        for i in range(N):\n",
    "            if i == N - 1 or num[i] > num[i + 1]:\n",
    "                break\n",
    "\n",
    "        return num[:i] + num[i + 1:]\n",
    "\n",
    "    while k > 0:\n",
    "        num = removeDigit(num)\n",
    "        k -= 1\n",
    "\n",
    "    num = num.lstrip(\"0\")\n",
    "    return \"0\" if not len(num) else num\n",
    "\n",
    "# Testing the solution\n",
    "removeKdigitsBrute(\"1432219\", 1)"
   ]
  },
  {
   "cell_type": "code",
   "execution_count": 41,
   "id": "b073a96f",
   "metadata": {
    "execution": {
     "iopub.execute_input": "2024-04-21T15:47:09.324605Z",
     "iopub.status.busy": "2024-04-21T15:47:09.324006Z",
     "iopub.status.idle": "2024-04-21T15:47:09.366418Z",
     "shell.execute_reply": "2024-04-21T15:47:09.365657Z"
    },
    "lines_to_next_cell": 1,
    "papermill": {
     "duration": 0.067386,
     "end_time": "2024-04-21T15:47:09.368080",
     "exception": false,
     "start_time": "2024-04-21T15:47:09.300694",
     "status": "completed"
    },
    "tags": []
   },
   "outputs": [
    {
     "name": "stderr",
     "output_type": "stream",
     "text": [
      "\r",
      "  0%|          | 0/1000 [00:00<?, ?it/s]"
     ]
    },
    {
     "name": "stderr",
     "output_type": "stream",
     "text": [
      "\r",
      "100%|██████████| 1000/1000 [00:00<00:00, 34369.68it/s]"
     ]
    },
    {
     "name": "stderr",
     "output_type": "stream",
     "text": [
      "\n"
     ]
    }
   ],
   "source": [
    "# Optimal solution after trial and errors: https://leetcode.com/problems/remove-k-digits/submissions/1231175827 \n",
    "def removeKdigitsBetter(num: str, k: int) -> str:\n",
    "    \"Time: O(N), Space: O(N)\"\n",
    "    stack: list[str] = []\n",
    "    for n in num:\n",
    "        while stack and k > 0 and int(stack[-1]) > int(n):\n",
    "            stack.pop()\n",
    "            k -= 1\n",
    "        stack.append(n)\n",
    "\n",
    "    stack = stack[:-k] if k > 0 else stack\n",
    "    num = \"\".join(stack).lstrip(\"0\")\n",
    "    num = num if num else \"0\"\n",
    "    return num\n",
    "\n",
    "# Testing the solution\n",
    "for _ in tqdm.tqdm(range(1000)):\n",
    "    N = random.randint(1, 25)\n",
    "    i = random.randint(1, N)\n",
    "    str_ = \"\".join(random.choices(\"0123456789\", k=N))\n",
    "    assert removeKdigitsBetter(str_, i) == removeKdigitsBrute(str_, i), f\"failed for {str_}, {i}\""
   ]
  },
  {
   "cell_type": "markdown",
   "id": "48a18c10",
   "metadata": {
    "papermill": {
     "duration": 0.022742,
     "end_time": "2024-04-21T15:47:09.413848",
     "exception": false,
     "start_time": "2024-04-21T15:47:09.391106",
     "status": "completed"
    },
    "tags": []
   },
   "source": [
    "Leetcode Weekly contest - Saturday (13th Apr)"
   ]
  },
  {
   "cell_type": "code",
   "execution_count": 42,
   "id": "07cf645f",
   "metadata": {
    "execution": {
     "iopub.execute_input": "2024-04-21T15:47:09.461435Z",
     "iopub.status.busy": "2024-04-21T15:47:09.460726Z",
     "iopub.status.idle": "2024-04-21T15:47:09.465336Z",
     "shell.execute_reply": "2024-04-21T15:47:09.464675Z"
    },
    "lines_to_next_cell": 1,
    "papermill": {
     "duration": 0.030306,
     "end_time": "2024-04-21T15:47:09.467030",
     "exception": false,
     "start_time": "2024-04-21T15:47:09.436724",
     "status": "completed"
    },
    "tags": []
   },
   "outputs": [],
   "source": [
    "# Q1 - Easy\n",
    "def scoreOfString(s: str) -> int:\n",
    "    N = len(s)\n",
    "    result = 0\n",
    "    for i in range(N - 1):\n",
    "        result += abs(ord(s[i]) - ord(s[i + 1]))\n",
    "    return result"
   ]
  },
  {
   "cell_type": "code",
   "execution_count": 43,
   "id": "3360d184",
   "metadata": {
    "execution": {
     "iopub.execute_input": "2024-04-21T15:47:09.514333Z",
     "iopub.status.busy": "2024-04-21T15:47:09.513779Z",
     "iopub.status.idle": "2024-04-21T15:47:09.519788Z",
     "shell.execute_reply": "2024-04-21T15:47:09.519145Z"
    },
    "lines_to_next_cell": 1,
    "papermill": {
     "duration": 0.031599,
     "end_time": "2024-04-21T15:47:09.521565",
     "exception": false,
     "start_time": "2024-04-21T15:47:09.489966",
     "status": "completed"
    },
    "tags": []
   },
   "outputs": [],
   "source": [
    "# Q2 - Medium\n",
    "def minRectanglesToCoverPoints(points: list[list[int]], w: int) -> int:\n",
    "    X = sorted(set(map(lambda x: x[0], points)))\n",
    "    count = 0\n",
    "    prev = -1\n",
    "    for x in X:\n",
    "        if prev == -1 or x - prev > w:\n",
    "            count += 1\n",
    "            prev = x\n",
    "\n",
    "    return count\n",
    "\n",
    "# Testing the solution\n",
    "assert minRectanglesToCoverPoints([[0,0],[1,1],[2,2],[3,3],[4,4],[5,5],[6,6]], 2) == 3\n",
    "assert minRectanglesToCoverPoints([[2,3],[1,2]], 0) == 2"
   ]
  },
  {
   "cell_type": "markdown",
   "id": "91647588",
   "metadata": {
    "papermill": {
     "duration": 0.022867,
     "end_time": "2024-04-21T15:47:09.567579",
     "exception": false,
     "start_time": "2024-04-21T15:47:09.544712",
     "status": "completed"
    },
    "tags": []
   },
   "source": [
    "Binary Watch - Easy LC"
   ]
  },
  {
   "cell_type": "code",
   "execution_count": 44,
   "id": "3868d381",
   "metadata": {
    "execution": {
     "iopub.execute_input": "2024-04-21T15:47:09.615459Z",
     "iopub.status.busy": "2024-04-21T15:47:09.614794Z",
     "iopub.status.idle": "2024-04-21T15:47:09.625315Z",
     "shell.execute_reply": "2024-04-21T15:47:09.624563Z"
    },
    "lines_to_next_cell": 1,
    "papermill": {
     "duration": 0.036016,
     "end_time": "2024-04-21T15:47:09.626982",
     "exception": false,
     "start_time": "2024-04-21T15:47:09.590966",
     "status": "completed"
    },
    "tags": []
   },
   "outputs": [
    {
     "data": {
      "text/plain": [
       "['8:00',\n",
       " '4:00',\n",
       " '2:00',\n",
       " '1:00',\n",
       " '0:32',\n",
       " '0:16',\n",
       " '0:08',\n",
       " '0:04',\n",
       " '0:02',\n",
       " '0:01']"
      ]
     },
     "execution_count": 44,
     "metadata": {},
     "output_type": "execute_result"
    }
   ],
   "source": [
    "# https://leetcode.com/problems/binary-watch/submissions/1231377431\n",
    "def readBinaryWatch(turnedOn: int) -> list[str]:\n",
    "    def getValue(code: str) -> tuple[int, int]:\n",
    "        mapping = {\n",
    "            \"H8\": (8, 0), \"H4\": (4, 0),\n",
    "            \"H2\": (2, 0), \"H1\": (1, 0),\n",
    "\n",
    "            \"M32\": (0, 32), \"M16\": (0, 16),\n",
    "            \"M8\": (0, 8), \"M4\": (0, 4),\n",
    "            \"M2\": (0, 2), \"M1\": (0, 1)\n",
    "        }\n",
    "        return mapping[code]\n",
    "\n",
    "    leds: list[str] = [\"H8\", \"H4\", \"H2\", \"H1\", \"M32\", \"M16\", \"M8\", \"M4\", \"M2\", \"M1\"]\n",
    "    possbilities = itertools.combinations(leds, r=turnedOn)\n",
    "\n",
    "    result: list[str] = []\n",
    "    for possb in possbilities:\n",
    "        hour_ = min_ = 0\n",
    "        for led in possb:\n",
    "            H, M = getValue(led)\n",
    "            hour_ += H\n",
    "            min_ += M\n",
    "\n",
    "        if 0 <= hour_ <= 11 and 0 <= min_ <= 59:\n",
    "            result.append(f\"{hour_}:{str(min_).zfill(2)}\")\n",
    "\n",
    "    return result\n",
    "\n",
    "# Testing the solution\n",
    "readBinaryWatch(1)"
   ]
  },
  {
   "cell_type": "markdown",
   "id": "1b69d7ad",
   "metadata": {
    "papermill": {
     "duration": 0.022934,
     "end_time": "2024-04-21T15:47:09.673015",
     "exception": false,
     "start_time": "2024-04-21T15:47:09.650081",
     "status": "completed"
    },
    "tags": []
   },
   "source": [
    "Valid Perfect Square: https://leetcode.com/problems/valid-perfect-square/submissions/1231389059"
   ]
  },
  {
   "cell_type": "code",
   "execution_count": 45,
   "id": "97e2b8db",
   "metadata": {
    "execution": {
     "iopub.execute_input": "2024-04-21T15:47:09.720019Z",
     "iopub.status.busy": "2024-04-21T15:47:09.719498Z",
     "iopub.status.idle": "2024-04-21T15:47:09.724648Z",
     "shell.execute_reply": "2024-04-21T15:47:09.723932Z"
    },
    "lines_to_next_cell": 1,
    "papermill": {
     "duration": 0.030359,
     "end_time": "2024-04-21T15:47:09.726228",
     "exception": false,
     "start_time": "2024-04-21T15:47:09.695869",
     "status": "completed"
    },
    "tags": []
   },
   "outputs": [],
   "source": [
    "def isPerfectSquare(num: int) -> bool:\n",
    "    low, high = 0, num\n",
    "    while low <= high:\n",
    "        mid = (low + high) // 2\n",
    "        square = mid * mid\n",
    "        if square == num:\n",
    "            return True\n",
    "        elif square < num:\n",
    "            low = mid + 1\n",
    "        else:\n",
    "            high = mid - 1\n",
    "\n",
    "    return False\n",
    "\n",
    "# Testing the solution\n",
    "assert isPerfectSquare(16) == True\n",
    "assert isPerfectSquare(3) == False"
   ]
  },
  {
   "cell_type": "markdown",
   "id": "54962282",
   "metadata": {
    "papermill": {
     "duration": 0.022866,
     "end_time": "2024-04-21T15:47:09.772193",
     "exception": false,
     "start_time": "2024-04-21T15:47:09.749327",
     "status": "completed"
    },
    "tags": []
   },
   "source": [
    "Range sum query: https://leetcode.com/problems/range-sum-query-immutable/submissions/1231398800"
   ]
  },
  {
   "cell_type": "code",
   "execution_count": 46,
   "id": "c95f87dd",
   "metadata": {
    "execution": {
     "iopub.execute_input": "2024-04-21T15:47:09.819533Z",
     "iopub.status.busy": "2024-04-21T15:47:09.819230Z",
     "iopub.status.idle": "2024-04-21T15:47:09.825124Z",
     "shell.execute_reply": "2024-04-21T15:47:09.824483Z"
    },
    "lines_to_next_cell": 1,
    "papermill": {
     "duration": 0.031442,
     "end_time": "2024-04-21T15:47:09.826735",
     "exception": false,
     "start_time": "2024-04-21T15:47:09.795293",
     "status": "completed"
    },
    "tags": []
   },
   "outputs": [],
   "source": [
    "class NumArray:\n",
    "    def __init__(self, nums: list[int]):\n",
    "        self.nums = nums\n",
    "        self.cumsum = list(itertools.accumulate(nums, lambda x, y: x + y))\n",
    "\n",
    "    def sumRange(self, left: int, right: int) -> int:\n",
    "        result = self.cumsum[right]\n",
    "        if left > 0:\n",
    "            result -= self.cumsum[left - 1]\n",
    "        return result\n",
    "\n",
    "# Testing the Solution\n",
    "obj = NumArray([-2, 0, 3, -5, 2, -1])\n",
    "assert obj.sumRange(0, 2) == 1\n",
    "assert obj.sumRange(2, 5) == -1"
   ]
  },
  {
   "cell_type": "markdown",
   "id": "bd8e8248",
   "metadata": {
    "papermill": {
     "duration": 0.022685,
     "end_time": "2024-04-21T15:47:09.872541",
     "exception": false,
     "start_time": "2024-04-21T15:47:09.849856",
     "status": "completed"
    },
    "tags": []
   },
   "source": [
    "Cows and bulls: https://leetcode.com/problems/bulls-and-cows/submissions/1231417724"
   ]
  },
  {
   "cell_type": "code",
   "execution_count": 47,
   "id": "264c9ee0",
   "metadata": {
    "execution": {
     "iopub.execute_input": "2024-04-21T15:47:09.919798Z",
     "iopub.status.busy": "2024-04-21T15:47:09.919252Z",
     "iopub.status.idle": "2024-04-21T15:47:09.925047Z",
     "shell.execute_reply": "2024-04-21T15:47:09.924376Z"
    },
    "lines_to_next_cell": 1,
    "papermill": {
     "duration": 0.031126,
     "end_time": "2024-04-21T15:47:09.926727",
     "exception": false,
     "start_time": "2024-04-21T15:47:09.895601",
     "status": "completed"
    },
    "tags": []
   },
   "outputs": [],
   "source": [
    "def getHint(secret: str, guess: str) -> str:\n",
    "    N = len(guess)\n",
    "    secret_freq = collections.Counter(secret)\n",
    "    guess_freq = collections.Counter(guess)\n",
    "    cows = bulls = 0\n",
    "    for i in range(N):\n",
    "        if guess[i] == secret[i]:\n",
    "            bulls += 1\n",
    "            secret_freq[guess[i]] -= 1\n",
    "            guess_freq[guess[i]] -= 1\n",
    "\n",
    "    for k in guess_freq:\n",
    "        cows += min(guess_freq[k], secret_freq.get(k, 0))\n",
    "\n",
    "    return f\"{bulls}A{cows}B\"\n",
    "\n",
    "# Testing the solution\n",
    "assert getHint(\"1122\", \"1222\") == \"3A0B\""
   ]
  },
  {
   "cell_type": "markdown",
   "id": "6bbf3690",
   "metadata": {
    "papermill": {
     "duration": 0.023003,
     "end_time": "2024-04-21T15:47:09.973869",
     "exception": false,
     "start_time": "2024-04-21T15:47:09.950866",
     "status": "completed"
    },
    "tags": []
   },
   "source": [
    "Weekly LC - Sunday: 14th April, 2024"
   ]
  },
  {
   "cell_type": "code",
   "execution_count": 48,
   "id": "1254e925",
   "metadata": {
    "execution": {
     "iopub.execute_input": "2024-04-21T15:47:10.021245Z",
     "iopub.status.busy": "2024-04-21T15:47:10.021003Z",
     "iopub.status.idle": "2024-04-21T15:47:10.029013Z",
     "shell.execute_reply": "2024-04-21T15:47:10.028252Z"
    },
    "lines_to_next_cell": 1,
    "papermill": {
     "duration": 0.033807,
     "end_time": "2024-04-21T15:47:10.030732",
     "exception": false,
     "start_time": "2024-04-21T15:47:09.996925",
     "status": "completed"
    },
    "tags": []
   },
   "outputs": [
    {
     "data": {
      "text/plain": [
       "'02:39'"
      ]
     },
     "execution_count": 48,
     "metadata": {},
     "output_type": "execute_result"
    }
   ],
   "source": [
    "# Q1 - Easy\n",
    "def findLatestTime(s: str) -> str:\n",
    "    result = []\n",
    "    for i in range(5):\n",
    "        if s[i] == '?':\n",
    "            if i == 0:\n",
    "                result.append('0' if s[1].isdigit() and int(s[1]) > 1 else '1')\n",
    "            elif i == 1:\n",
    "                result.append('1' if result[0] == '1' else '9')\n",
    "            elif i == 3:\n",
    "                result.append('5')\n",
    "            else:\n",
    "                result.append('9')\n",
    "        else:\n",
    "            result.append(s[i])\n",
    "\n",
    "    return ''.join(result)\n",
    "\n",
    "# Testing the solution\n",
    "findLatestTime(\"?2:3?\")"
   ]
  },
  {
   "cell_type": "code",
   "execution_count": 49,
   "id": "7e9a187d",
   "metadata": {
    "execution": {
     "iopub.execute_input": "2024-04-21T15:47:10.078894Z",
     "iopub.status.busy": "2024-04-21T15:47:10.078220Z",
     "iopub.status.idle": "2024-04-21T15:47:10.084382Z",
     "shell.execute_reply": "2024-04-21T15:47:10.083641Z"
    },
    "lines_to_next_cell": 1,
    "papermill": {
     "duration": 0.032084,
     "end_time": "2024-04-21T15:47:10.086245",
     "exception": false,
     "start_time": "2024-04-21T15:47:10.054161",
     "status": "completed"
    },
    "tags": []
   },
   "outputs": [],
   "source": [
    "# Q2 - Medium\n",
    "def maximumPrimeDifference(nums: list[int]) -> int:\n",
    "    primes = {2,3,5,7,11,13,17,19,23,29,31,37,41,43,47,53,59,61,67,71,73,79,83,89,97}\n",
    "\n",
    "    N = len(nums)\n",
    "    for i in range(N):\n",
    "        if nums[i] in primes:\n",
    "            break\n",
    "\n",
    "    for j in range(N - 1, -1, -1):\n",
    "        if nums[j] in primes:\n",
    "            break\n",
    "\n",
    "    return j - i\n",
    "\n",
    "# Testing the solution\n",
    "assert maximumPrimeDifference([4,2,9,5,3]) == 3\n",
    "assert maximumPrimeDifference([4,8,2,8]) == 0"
   ]
  },
  {
   "cell_type": "code",
   "execution_count": 50,
   "id": "1d6959ea",
   "metadata": {
    "execution": {
     "iopub.execute_input": "2024-04-21T15:47:10.134393Z",
     "iopub.status.busy": "2024-04-21T15:47:10.133628Z",
     "iopub.status.idle": "2024-04-21T15:47:31.102165Z",
     "shell.execute_reply": "2024-04-21T15:47:31.101364Z"
    },
    "lines_to_next_cell": 1,
    "papermill": {
     "duration": 20.994335,
     "end_time": "2024-04-21T15:47:31.103902",
     "exception": false,
     "start_time": "2024-04-21T15:47:10.109567",
     "status": "completed"
    },
    "tags": []
   },
   "outputs": [
    {
     "name": "stderr",
     "output_type": "stream",
     "text": [
      "\r",
      "  0%|          | 0/99 [00:00<?, ?it/s]"
     ]
    },
    {
     "name": "stderr",
     "output_type": "stream",
     "text": [
      "\r",
      "  2%|▏         | 2/99 [00:00<00:05, 16.35it/s]"
     ]
    },
    {
     "name": "stderr",
     "output_type": "stream",
     "text": [
      "\r",
      "  4%|▍         | 4/99 [00:00<00:09, 10.24it/s]"
     ]
    },
    {
     "name": "stderr",
     "output_type": "stream",
     "text": [
      "\r",
      "  6%|▌         | 6/99 [00:00<00:11,  8.30it/s]"
     ]
    },
    {
     "name": "stderr",
     "output_type": "stream",
     "text": [
      "\r",
      "  7%|▋         | 7/99 [00:00<00:11,  7.86it/s]"
     ]
    },
    {
     "name": "stderr",
     "output_type": "stream",
     "text": [
      "\r",
      "  8%|▊         | 8/99 [00:00<00:12,  7.19it/s]"
     ]
    },
    {
     "name": "stderr",
     "output_type": "stream",
     "text": [
      "\r",
      "  9%|▉         | 9/99 [00:01<00:12,  7.05it/s]"
     ]
    },
    {
     "name": "stderr",
     "output_type": "stream",
     "text": [
      "\r",
      " 10%|█         | 10/99 [00:01<00:12,  6.94it/s]"
     ]
    },
    {
     "name": "stderr",
     "output_type": "stream",
     "text": [
      "\r",
      " 11%|█         | 11/99 [00:01<00:13,  6.56it/s]"
     ]
    },
    {
     "name": "stderr",
     "output_type": "stream",
     "text": [
      "\r",
      " 12%|█▏        | 12/99 [00:01<00:13,  6.32it/s]"
     ]
    },
    {
     "name": "stderr",
     "output_type": "stream",
     "text": [
      "\r",
      " 13%|█▎        | 13/99 [00:01<00:13,  6.15it/s]"
     ]
    },
    {
     "name": "stderr",
     "output_type": "stream",
     "text": [
      "\r",
      " 14%|█▍        | 14/99 [00:01<00:14,  6.01it/s]"
     ]
    },
    {
     "name": "stderr",
     "output_type": "stream",
     "text": [
      "\r",
      " 15%|█▌        | 15/99 [00:02<00:14,  5.94it/s]"
     ]
    },
    {
     "name": "stderr",
     "output_type": "stream",
     "text": [
      "\r",
      " 16%|█▌        | 16/99 [00:02<00:14,  5.89it/s]"
     ]
    },
    {
     "name": "stderr",
     "output_type": "stream",
     "text": [
      "\r",
      " 17%|█▋        | 17/99 [00:02<00:14,  5.62it/s]"
     ]
    },
    {
     "name": "stderr",
     "output_type": "stream",
     "text": [
      "\r",
      " 18%|█▊        | 18/99 [00:02<00:14,  5.43it/s]"
     ]
    },
    {
     "name": "stderr",
     "output_type": "stream",
     "text": [
      "\r",
      " 19%|█▉        | 19/99 [00:02<00:15,  5.33it/s]"
     ]
    },
    {
     "name": "stderr",
     "output_type": "stream",
     "text": [
      "\r",
      " 20%|██        | 20/99 [00:03<00:15,  5.25it/s]"
     ]
    },
    {
     "name": "stderr",
     "output_type": "stream",
     "text": [
      "\r",
      " 21%|██        | 21/99 [00:03<00:15,  5.19it/s]"
     ]
    },
    {
     "name": "stderr",
     "output_type": "stream",
     "text": [
      "\r",
      " 22%|██▏       | 22/99 [00:03<00:15,  4.94it/s]"
     ]
    },
    {
     "name": "stderr",
     "output_type": "stream",
     "text": [
      "\r",
      " 23%|██▎       | 23/99 [00:03<00:15,  4.97it/s]"
     ]
    },
    {
     "name": "stderr",
     "output_type": "stream",
     "text": [
      "\r",
      " 24%|██▍       | 24/99 [00:03<00:15,  4.99it/s]"
     ]
    },
    {
     "name": "stderr",
     "output_type": "stream",
     "text": [
      "\r",
      " 25%|██▌       | 25/99 [00:04<00:14,  5.01it/s]"
     ]
    },
    {
     "name": "stderr",
     "output_type": "stream",
     "text": [
      "\r",
      " 26%|██▋       | 26/99 [00:04<00:14,  5.04it/s]"
     ]
    },
    {
     "name": "stderr",
     "output_type": "stream",
     "text": [
      "\r",
      " 27%|██▋       | 27/99 [00:04<00:14,  5.05it/s]"
     ]
    },
    {
     "name": "stderr",
     "output_type": "stream",
     "text": [
      "\r",
      " 28%|██▊       | 28/99 [00:04<00:14,  4.98it/s]"
     ]
    },
    {
     "name": "stderr",
     "output_type": "stream",
     "text": [
      "\r",
      " 29%|██▉       | 29/99 [00:04<00:13,  5.01it/s]"
     ]
    },
    {
     "name": "stderr",
     "output_type": "stream",
     "text": [
      "\r",
      " 30%|███       | 30/99 [00:05<00:13,  5.04it/s]"
     ]
    },
    {
     "name": "stderr",
     "output_type": "stream",
     "text": [
      "\r",
      " 31%|███▏      | 31/99 [00:05<00:13,  4.87it/s]"
     ]
    },
    {
     "name": "stderr",
     "output_type": "stream",
     "text": [
      "\r",
      " 32%|███▏      | 32/99 [00:05<00:14,  4.76it/s]"
     ]
    },
    {
     "name": "stderr",
     "output_type": "stream",
     "text": [
      "\r",
      " 33%|███▎      | 33/99 [00:05<00:13,  4.86it/s]"
     ]
    },
    {
     "name": "stderr",
     "output_type": "stream",
     "text": [
      "\r",
      " 34%|███▍      | 34/99 [00:05<00:13,  4.75it/s]"
     ]
    },
    {
     "name": "stderr",
     "output_type": "stream",
     "text": [
      "\r",
      " 35%|███▌      | 35/99 [00:06<00:13,  4.85it/s]"
     ]
    },
    {
     "name": "stderr",
     "output_type": "stream",
     "text": [
      "\r",
      " 36%|███▋      | 36/99 [00:06<00:12,  4.92it/s]"
     ]
    },
    {
     "name": "stderr",
     "output_type": "stream",
     "text": [
      "\r",
      " 37%|███▋      | 37/99 [00:06<00:12,  4.80it/s]"
     ]
    },
    {
     "name": "stderr",
     "output_type": "stream",
     "text": [
      "\r",
      " 38%|███▊      | 38/99 [00:06<00:12,  4.72it/s]"
     ]
    },
    {
     "name": "stderr",
     "output_type": "stream",
     "text": [
      "\r",
      " 39%|███▉      | 39/99 [00:07<00:12,  4.82it/s]"
     ]
    },
    {
     "name": "stderr",
     "output_type": "stream",
     "text": [
      "\r",
      " 40%|████      | 40/99 [00:07<00:12,  4.89it/s]"
     ]
    },
    {
     "name": "stderr",
     "output_type": "stream",
     "text": [
      "\r",
      " 41%|████▏     | 41/99 [00:07<00:12,  4.78it/s]"
     ]
    },
    {
     "name": "stderr",
     "output_type": "stream",
     "text": [
      "\r",
      " 42%|████▏     | 42/99 [00:07<00:12,  4.69it/s]"
     ]
    },
    {
     "name": "stderr",
     "output_type": "stream",
     "text": [
      "\r",
      " 43%|████▎     | 43/99 [00:07<00:12,  4.63it/s]"
     ]
    },
    {
     "name": "stderr",
     "output_type": "stream",
     "text": [
      "\r",
      " 44%|████▍     | 44/99 [00:08<00:11,  4.59it/s]"
     ]
    },
    {
     "name": "stderr",
     "output_type": "stream",
     "text": [
      "\r",
      " 45%|████▌     | 45/99 [00:08<00:11,  4.57it/s]"
     ]
    },
    {
     "name": "stderr",
     "output_type": "stream",
     "text": [
      "\r",
      " 46%|████▋     | 46/99 [00:08<00:11,  4.55it/s]"
     ]
    },
    {
     "name": "stderr",
     "output_type": "stream",
     "text": [
      "\r",
      " 47%|████▋     | 47/99 [00:08<00:11,  4.54it/s]"
     ]
    },
    {
     "name": "stderr",
     "output_type": "stream",
     "text": [
      "\r",
      " 48%|████▊     | 48/99 [00:08<00:11,  4.52it/s]"
     ]
    },
    {
     "name": "stderr",
     "output_type": "stream",
     "text": [
      "\r",
      " 49%|████▉     | 49/99 [00:09<00:11,  4.52it/s]"
     ]
    },
    {
     "name": "stderr",
     "output_type": "stream",
     "text": [
      "\r",
      " 51%|█████     | 50/99 [00:09<00:10,  4.52it/s]"
     ]
    },
    {
     "name": "stderr",
     "output_type": "stream",
     "text": [
      "\r",
      " 52%|█████▏    | 51/99 [00:09<00:10,  4.52it/s]"
     ]
    },
    {
     "name": "stderr",
     "output_type": "stream",
     "text": [
      "\r",
      " 53%|█████▎    | 52/99 [00:09<00:10,  4.50it/s]"
     ]
    },
    {
     "name": "stderr",
     "output_type": "stream",
     "text": [
      "\r",
      " 54%|█████▎    | 53/99 [00:10<00:10,  4.51it/s]"
     ]
    },
    {
     "name": "stderr",
     "output_type": "stream",
     "text": [
      "\r",
      " 55%|█████▍    | 54/99 [00:10<00:09,  4.51it/s]"
     ]
    },
    {
     "name": "stderr",
     "output_type": "stream",
     "text": [
      "\r",
      " 56%|█████▌    | 55/99 [00:10<00:09,  4.51it/s]"
     ]
    },
    {
     "name": "stderr",
     "output_type": "stream",
     "text": [
      "\r",
      " 57%|█████▋    | 56/99 [00:10<00:09,  4.51it/s]"
     ]
    },
    {
     "name": "stderr",
     "output_type": "stream",
     "text": [
      "\r",
      " 58%|█████▊    | 57/99 [00:10<00:09,  4.51it/s]"
     ]
    },
    {
     "name": "stderr",
     "output_type": "stream",
     "text": [
      "\r",
      " 59%|█████▊    | 58/99 [00:11<00:09,  4.51it/s]"
     ]
    },
    {
     "name": "stderr",
     "output_type": "stream",
     "text": [
      "\r",
      " 60%|█████▉    | 59/99 [00:11<00:08,  4.51it/s]"
     ]
    },
    {
     "name": "stderr",
     "output_type": "stream",
     "text": [
      "\r",
      " 61%|██████    | 60/99 [00:11<00:08,  4.51it/s]"
     ]
    },
    {
     "name": "stderr",
     "output_type": "stream",
     "text": [
      "\r",
      " 62%|██████▏   | 61/99 [00:11<00:08,  4.51it/s]"
     ]
    },
    {
     "name": "stderr",
     "output_type": "stream",
     "text": [
      "\r",
      " 63%|██████▎   | 62/99 [00:12<00:08,  4.51it/s]"
     ]
    },
    {
     "name": "stderr",
     "output_type": "stream",
     "text": [
      "\r",
      " 64%|██████▎   | 63/99 [00:12<00:07,  4.50it/s]"
     ]
    },
    {
     "name": "stderr",
     "output_type": "stream",
     "text": [
      "\r",
      " 65%|██████▍   | 64/99 [00:12<00:07,  4.50it/s]"
     ]
    },
    {
     "name": "stderr",
     "output_type": "stream",
     "text": [
      "\r",
      " 66%|██████▌   | 65/99 [00:12<00:07,  4.36it/s]"
     ]
    },
    {
     "name": "stderr",
     "output_type": "stream",
     "text": [
      "\r",
      " 67%|██████▋   | 66/99 [00:13<00:07,  4.39it/s]"
     ]
    },
    {
     "name": "stderr",
     "output_type": "stream",
     "text": [
      "\r",
      " 68%|██████▊   | 67/99 [00:13<00:07,  4.42it/s]"
     ]
    },
    {
     "name": "stderr",
     "output_type": "stream",
     "text": [
      "\r",
      " 69%|██████▊   | 68/99 [00:13<00:07,  4.31it/s]"
     ]
    },
    {
     "name": "stderr",
     "output_type": "stream",
     "text": [
      "\r",
      " 70%|██████▉   | 69/99 [00:13<00:07,  4.23it/s]"
     ]
    },
    {
     "name": "stderr",
     "output_type": "stream",
     "text": [
      "\r",
      " 71%|███████   | 70/99 [00:13<00:06,  4.18it/s]"
     ]
    },
    {
     "name": "stderr",
     "output_type": "stream",
     "text": [
      "\r",
      " 72%|███████▏  | 71/99 [00:14<00:06,  4.15it/s]"
     ]
    },
    {
     "name": "stderr",
     "output_type": "stream",
     "text": [
      "\r",
      " 73%|███████▎  | 72/99 [00:14<00:06,  4.13it/s]"
     ]
    },
    {
     "name": "stderr",
     "output_type": "stream",
     "text": [
      "\r",
      " 74%|███████▎  | 73/99 [00:14<00:06,  4.11it/s]"
     ]
    },
    {
     "name": "stderr",
     "output_type": "stream",
     "text": [
      "\r",
      " 75%|███████▍  | 74/99 [00:14<00:06,  4.08it/s]"
     ]
    },
    {
     "name": "stderr",
     "output_type": "stream",
     "text": [
      "\r",
      " 76%|███████▌  | 75/99 [00:15<00:05,  4.20it/s]"
     ]
    },
    {
     "name": "stderr",
     "output_type": "stream",
     "text": [
      "\r",
      " 77%|███████▋  | 76/99 [00:15<00:05,  4.29it/s]"
     ]
    },
    {
     "name": "stderr",
     "output_type": "stream",
     "text": [
      "\r",
      " 78%|███████▊  | 77/99 [00:15<00:05,  4.36it/s]"
     ]
    },
    {
     "name": "stderr",
     "output_type": "stream",
     "text": [
      "\r",
      " 79%|███████▉  | 78/99 [00:15<00:04,  4.41it/s]"
     ]
    },
    {
     "name": "stderr",
     "output_type": "stream",
     "text": [
      "\r",
      " 80%|███████▉  | 79/99 [00:16<00:04,  4.30it/s]"
     ]
    },
    {
     "name": "stderr",
     "output_type": "stream",
     "text": [
      "\r",
      " 81%|████████  | 80/99 [00:16<00:04,  4.23it/s]"
     ]
    },
    {
     "name": "stderr",
     "output_type": "stream",
     "text": [
      "\r",
      " 82%|████████▏ | 81/99 [00:16<00:04,  4.18it/s]"
     ]
    },
    {
     "name": "stderr",
     "output_type": "stream",
     "text": [
      "\r",
      " 83%|████████▎ | 82/99 [00:16<00:03,  4.28it/s]"
     ]
    },
    {
     "name": "stderr",
     "output_type": "stream",
     "text": [
      "\r",
      " 84%|████████▍ | 83/99 [00:17<00:03,  4.33it/s]"
     ]
    },
    {
     "name": "stderr",
     "output_type": "stream",
     "text": [
      "\r",
      " 85%|████████▍ | 84/99 [00:17<00:03,  4.25it/s]"
     ]
    },
    {
     "name": "stderr",
     "output_type": "stream",
     "text": [
      "\r",
      " 86%|████████▌ | 85/99 [00:17<00:03,  4.20it/s]"
     ]
    },
    {
     "name": "stderr",
     "output_type": "stream",
     "text": [
      "\r",
      " 87%|████████▋ | 86/99 [00:17<00:03,  4.16it/s]"
     ]
    },
    {
     "name": "stderr",
     "output_type": "stream",
     "text": [
      "\r",
      " 88%|████████▊ | 87/99 [00:18<00:02,  4.13it/s]"
     ]
    },
    {
     "name": "stderr",
     "output_type": "stream",
     "text": [
      "\r",
      " 89%|████████▉ | 88/99 [00:18<00:02,  4.12it/s]"
     ]
    },
    {
     "name": "stderr",
     "output_type": "stream",
     "text": [
      "\r",
      " 90%|████████▉ | 89/99 [00:18<00:02,  4.11it/s]"
     ]
    },
    {
     "name": "stderr",
     "output_type": "stream",
     "text": [
      "\r",
      " 91%|█████████ | 90/99 [00:18<00:02,  4.10it/s]"
     ]
    },
    {
     "name": "stderr",
     "output_type": "stream",
     "text": [
      "\r",
      " 92%|█████████▏| 91/99 [00:18<00:01,  4.07it/s]"
     ]
    },
    {
     "name": "stderr",
     "output_type": "stream",
     "text": [
      "\r",
      " 93%|█████████▎| 92/99 [00:19<00:01,  4.08it/s]"
     ]
    },
    {
     "name": "stderr",
     "output_type": "stream",
     "text": [
      "\r",
      " 94%|█████████▍| 93/99 [00:19<00:01,  4.08it/s]"
     ]
    },
    {
     "name": "stderr",
     "output_type": "stream",
     "text": [
      "\r",
      " 95%|█████████▍| 94/99 [00:19<00:01,  4.08it/s]"
     ]
    },
    {
     "name": "stderr",
     "output_type": "stream",
     "text": [
      "\r",
      " 96%|█████████▌| 95/99 [00:19<00:00,  4.07it/s]"
     ]
    },
    {
     "name": "stderr",
     "output_type": "stream",
     "text": [
      "\r",
      " 97%|█████████▋| 96/99 [00:20<00:00,  4.07it/s]"
     ]
    },
    {
     "name": "stderr",
     "output_type": "stream",
     "text": [
      "\r",
      " 98%|█████████▊| 97/99 [00:20<00:00,  4.07it/s]"
     ]
    },
    {
     "name": "stderr",
     "output_type": "stream",
     "text": [
      "\r",
      " 99%|█████████▉| 98/99 [00:20<00:00,  4.07it/s]"
     ]
    },
    {
     "name": "stderr",
     "output_type": "stream",
     "text": [
      "\r",
      "100%|██████████| 99/99 [00:20<00:00,  4.05it/s]"
     ]
    },
    {
     "name": "stderr",
     "output_type": "stream",
     "text": [
      "\r",
      "100%|██████████| 99/99 [00:20<00:00,  4.72it/s]"
     ]
    },
    {
     "name": "stderr",
     "output_type": "stream",
     "text": [
      "\n"
     ]
    }
   ],
   "source": [
    "# Q3 - Hard\n",
    "def findKthSmallestBrute(coins: list[int], k: int) -> int:\n",
    "    curr = min(coins)\n",
    "    while True:\n",
    "        for coin in coins:\n",
    "            if curr % coin == 0:\n",
    "                k -= 1\n",
    "                break\n",
    "\n",
    "        if k == 0:\n",
    "            return curr\n",
    "        else:\n",
    "            curr += 1\n",
    "\n",
    "    return -1\n",
    "\n",
    "# Testing the solution\n",
    "assert findKthSmallestBrute([3,6,9], 3) == 9\n",
    "assert findKthSmallestBrute([5,2], 7) == 12\n",
    "\n",
    "# Q3 - Hard Better (Solved this post the test, proud moment since the acceptance rate was 3%!\n",
    "# Leetcode Writeup: https://leetcode.com/problems/kth-smallest-amount-with-single-denomination-combination/solutions/5020415/binary-search-solution-python\n",
    "def findKthSmallest(coins: list[int], k: int) -> int:\n",
    "    N = len(coins)\n",
    "\n",
    "    def count(num: int) -> int:\n",
    "        \"\"\"\n",
    "        Given num, find k_ (position after set union and sorting)\n",
    "        For eg:\n",
    "            num = 20, coins = [2, 5]\n",
    "            => [2, 4, 5, 6, 8, 10, 12, 14, 15, 16, 18, 20]\n",
    "            => 12\n",
    "\n",
    "        Logic:\n",
    "            Assume we only had coin 2 available, 20's position would then be 20 // 2 = 10.\n",
    "            We however have other denominations, so find count for each denomination.\n",
    "            This way we would introduce duplicates - 10 would be counted twice.\n",
    "            To avoid this we use formula: count(A | B) = count(A) + count(B) - count(A & B) extended for arbitrary length (A, B, C, ..)\n",
    "        \"\"\"\n",
    "        total, add_ = 0, True\n",
    "\n",
    "        for i in range(1, N + 1):\n",
    "            curr = 0\n",
    "            for comb in itertools.combinations(coins, r=i):\n",
    "                curr += num // math.lcm(*comb)\n",
    "            total = total + curr if add_ else total - curr\n",
    "            add_ = not add_\n",
    "\n",
    "        return total\n",
    "\n",
    "    # Use a simple binary search\n",
    "    # max => lowest denomination * k. The result must be lesser than this.\n",
    "    low = min(coins)\n",
    "    high = low * k\n",
    "    while low <= high:\n",
    "        mid = (low + high) // 2\n",
    "        k_ = count(mid)\n",
    "        if k_ < k:\n",
    "            low = mid + 1\n",
    "        else:\n",
    "            high = mid - 1\n",
    "\n",
    "    return low\n",
    "\n",
    "# Testing the solution\n",
    "for i in tqdm.tqdm(range(1, 100)):\n",
    "    temp = list(range(11, 26))\n",
    "    assert findKthSmallest(temp, i) == findKthSmallestBrute(temp, i)"
   ]
  },
  {
   "cell_type": "markdown",
   "id": "a4add1b8",
   "metadata": {
    "papermill": {
     "duration": 0.030272,
     "end_time": "2024-04-21T15:47:31.165570",
     "exception": false,
     "start_time": "2024-04-21T15:47:31.135298",
     "status": "completed"
    },
    "tags": []
   },
   "source": [
    "Sum of left leaves\n",
    "Problem Link: https://leetcode.com/problems/sum-of-left-leaves/submissions/1232098618"
   ]
  },
  {
   "cell_type": "code",
   "execution_count": 51,
   "id": "08f2ccb4",
   "metadata": {
    "execution": {
     "iopub.execute_input": "2024-04-21T15:47:31.227738Z",
     "iopub.status.busy": "2024-04-21T15:47:31.227019Z",
     "iopub.status.idle": "2024-04-21T15:47:31.232116Z",
     "shell.execute_reply": "2024-04-21T15:47:31.231386Z"
    },
    "lines_to_next_cell": 1,
    "papermill": {
     "duration": 0.037853,
     "end_time": "2024-04-21T15:47:31.233722",
     "exception": false,
     "start_time": "2024-04-21T15:47:31.195869",
     "status": "completed"
    },
    "tags": []
   },
   "outputs": [],
   "source": [
    "def sumOfLeftLeaves(root: BinaryTreeNode, left: bool = True) -> int:\n",
    "    if not root:\n",
    "        return 0\n",
    "    elif not root.left and not root.right:\n",
    "        return root.val if left else 0\n",
    "    else:\n",
    "        return sumOfLeftLeaves(root.left, True) + sumOfLeftLeaves(root.right, False)"
   ]
  },
  {
   "cell_type": "markdown",
   "id": "0222f378",
   "metadata": {
    "papermill": {
     "duration": 0.030206,
     "end_time": "2024-04-21T15:47:31.294763",
     "exception": false,
     "start_time": "2024-04-21T15:47:31.264557",
     "status": "completed"
    },
    "tags": []
   },
   "source": [
    "Minimum element in BST"
   ]
  },
  {
   "cell_type": "code",
   "execution_count": 52,
   "id": "2268cda1",
   "metadata": {
    "execution": {
     "iopub.execute_input": "2024-04-21T15:47:31.357404Z",
     "iopub.status.busy": "2024-04-21T15:47:31.356766Z",
     "iopub.status.idle": "2024-04-21T15:47:31.361121Z",
     "shell.execute_reply": "2024-04-21T15:47:31.360411Z"
    },
    "lines_to_next_cell": 1,
    "papermill": {
     "duration": 0.03727,
     "end_time": "2024-04-21T15:47:31.362760",
     "exception": false,
     "start_time": "2024-04-21T15:47:31.325490",
     "status": "completed"
    },
    "tags": []
   },
   "outputs": [],
   "source": [
    "def minValue(root: BinaryTreeNode) -> int:\n",
    "    \"Time Complexity: O(N)\"\n",
    "    curr: BinaryTreeNode = root\n",
    "    while curr and curr.left:\n",
    "        curr = curr.left\n",
    "\n",
    "    return curr.val if curr else -1"
   ]
  },
  {
   "cell_type": "markdown",
   "id": "205a41bc",
   "metadata": {
    "papermill": {
     "duration": 0.030217,
     "end_time": "2024-04-21T15:47:31.423880",
     "exception": false,
     "start_time": "2024-04-21T15:47:31.393663",
     "status": "completed"
    },
    "tags": []
   },
   "source": [
    "Floor from BST"
   ]
  },
  {
   "cell_type": "code",
   "execution_count": 53,
   "id": "b4b9c2fe",
   "metadata": {
    "execution": {
     "iopub.execute_input": "2024-04-21T15:47:31.485637Z",
     "iopub.status.busy": "2024-04-21T15:47:31.485073Z",
     "iopub.status.idle": "2024-04-21T15:47:31.492227Z",
     "shell.execute_reply": "2024-04-21T15:47:31.491450Z"
    },
    "lines_to_next_cell": 1,
    "papermill": {
     "duration": 0.039902,
     "end_time": "2024-04-21T15:47:31.493876",
     "exception": false,
     "start_time": "2024-04-21T15:47:31.453974",
     "status": "completed"
    },
    "tags": []
   },
   "outputs": [
    {
     "name": "stdout",
     "output_type": "stream",
     "text": [
      "10\n"
     ]
    }
   ],
   "source": [
    "# Read input as specified in the question\n",
    "# target, *nums = list(map(lambda x: int(x) if x != '-1' else None, input().split()))\n",
    "target, nums = 11, [5, 2, 9, 1, 3, 6, 10]\n",
    "k: float = -1\n",
    "queue: list[BinaryTreeNode] = []\n",
    "for num in nums:\n",
    "    curr = BinaryTreeNode(num) if num else None\n",
    "    if curr:\n",
    "        queue.append(curr)\n",
    "    if k == -1:\n",
    "        k += 1\n",
    "    elif int(k) == k:\n",
    "        queue[int(k)].left = curr\n",
    "        k += 0.5\n",
    "    else:\n",
    "        queue[int(k)].right = curr\n",
    "        k += 0.5\n",
    "\n",
    "queue[0].to_list()\n",
    "\n",
    "# Find the floor of the number\n",
    "curr, floor = queue[0], -1\n",
    "while curr:\n",
    "    if curr.val <= target:\n",
    "        floor = curr.val\n",
    "        curr = curr.right\n",
    "    else:\n",
    "        curr = curr.left\n",
    "\n",
    "print(floor)"
   ]
  },
  {
   "cell_type": "markdown",
   "id": "19c4167d",
   "metadata": {
    "papermill": {
     "duration": 0.030438,
     "end_time": "2024-04-21T15:47:31.555065",
     "exception": false,
     "start_time": "2024-04-21T15:47:31.524627",
     "status": "completed"
    },
    "tags": []
   },
   "source": [
    "Insert into a BST"
   ]
  },
  {
   "cell_type": "code",
   "execution_count": 54,
   "id": "246602ef",
   "metadata": {
    "execution": {
     "iopub.execute_input": "2024-04-21T15:47:31.618517Z",
     "iopub.status.busy": "2024-04-21T15:47:31.617845Z",
     "iopub.status.idle": "2024-04-21T15:47:31.623467Z",
     "shell.execute_reply": "2024-04-21T15:47:31.622712Z"
    },
    "lines_to_next_cell": 1,
    "papermill": {
     "duration": 0.039504,
     "end_time": "2024-04-21T15:47:31.625114",
     "exception": false,
     "start_time": "2024-04-21T15:47:31.585610",
     "status": "completed"
    },
    "tags": []
   },
   "outputs": [],
   "source": [
    "def insertIntoBST(root: BinaryTreeNode, val: int) -> BinaryTreeNode:\n",
    "    if not root:\n",
    "        root = BinaryTreeNode(val)\n",
    "    elif root.val < val:\n",
    "        root.right = insertIntoBST(root.right, val)\n",
    "    else:\n",
    "        root.left = insertIntoBST(root.left, val)\n",
    "\n",
    "    return root\n",
    "\n",
    "# Testing the solution\n",
    "assert insertIntoBST(BinaryTreeNode.from_array([4,2,7,1,3]), 5).to_list() == [4,2,7,1,3,5]"
   ]
  },
  {
   "cell_type": "markdown",
   "id": "245f9178",
   "metadata": {
    "papermill": {
     "duration": 0.030527,
     "end_time": "2024-04-21T15:47:31.686378",
     "exception": false,
     "start_time": "2024-04-21T15:47:31.655851",
     "status": "completed"
    },
    "tags": []
   },
   "source": [
    "LCA in a BST of two nodes: https://leetcode.com/problems/lowest-common-ancestor-of-a-binary-search-tree/submissions/1234964550"
   ]
  },
  {
   "cell_type": "code",
   "execution_count": 55,
   "id": "5f723be8",
   "metadata": {
    "execution": {
     "iopub.execute_input": "2024-04-21T15:47:31.748761Z",
     "iopub.status.busy": "2024-04-21T15:47:31.748095Z",
     "iopub.status.idle": "2024-04-21T15:47:31.754892Z",
     "shell.execute_reply": "2024-04-21T15:47:31.754152Z"
    },
    "lines_to_next_cell": 1,
    "papermill": {
     "duration": 0.039764,
     "end_time": "2024-04-21T15:47:31.756546",
     "exception": false,
     "start_time": "2024-04-21T15:47:31.716782",
     "status": "completed"
    },
    "tags": []
   },
   "outputs": [],
   "source": [
    "def lowestCommonAncestor(root: BinaryTreeNode, p: BinaryTreeNode, q: BinaryTreeNode) -> BinaryTreeNode:\n",
    "    \"\"\"\n",
    "    If root equals p/q or if p < root < q that is our LCA. Otherwise traverse left of right.\n",
    "    Time: O(log N), Space: O(1)\n",
    "    \"\"\"\n",
    "\n",
    "    low = p if p.val < q.val else q\n",
    "    high = q if p.val < q.val else p\n",
    "\n",
    "    if root.val == low.val or root.val == high.val or low.val < root.val < high.val:\n",
    "        return root\n",
    "    elif root.val > p.val and root.val > q.val:\n",
    "        return lowestCommonAncestor(root.left, p, q)\n",
    "    else:\n",
    "        return lowestCommonAncestor(root.right, p, q)\n",
    "\n",
    "# Testing the solution\n",
    "temp: BinaryTreeNode = BinaryTreeNode.from_array([6,2,8,0,4,7,9,None,None,3,5])\n",
    "assert lowestCommonAncestor(temp, p=temp.left, q=temp.right).val == 6"
   ]
  },
  {
   "cell_type": "markdown",
   "id": "591d92a4",
   "metadata": {
    "papermill": {
     "duration": 0.030519,
     "end_time": "2024-04-21T15:47:31.817900",
     "exception": false,
     "start_time": "2024-04-21T15:47:31.787381",
     "status": "completed"
    },
    "tags": []
   },
   "source": [
    "Smallest string starting from leaf: https://leetcode.com/problems/smallest-string-starting-from-leaf/submissions/1235018957"
   ]
  },
  {
   "cell_type": "code",
   "execution_count": 56,
   "id": "654f9b3f",
   "metadata": {
    "execution": {
     "iopub.execute_input": "2024-04-21T15:47:31.880118Z",
     "iopub.status.busy": "2024-04-21T15:47:31.879369Z",
     "iopub.status.idle": "2024-04-21T15:47:31.886854Z",
     "shell.execute_reply": "2024-04-21T15:47:31.886231Z"
    },
    "lines_to_next_cell": 1,
    "papermill": {
     "duration": 0.040251,
     "end_time": "2024-04-21T15:47:31.888484",
     "exception": false,
     "start_time": "2024-04-21T15:47:31.848233",
     "status": "completed"
    },
    "tags": []
   },
   "outputs": [],
   "source": [
    "def smallestFromLeaf(root: BinaryTreeNode) -> str:\n",
    "    result: str = chr(ord('z') + 1)\n",
    "    def backtrack(curr: BinaryTreeNode, acc: str = \"\"):\n",
    "        if curr:\n",
    "            acc_ = chr(curr.val + ord('a')) + acc\n",
    "            if not curr.left and not curr.right:\n",
    "                nonlocal result\n",
    "                result = min(result, acc_)\n",
    "            else:\n",
    "                backtrack(curr.left, acc_)\n",
    "                backtrack(curr.right, acc_)\n",
    "\n",
    "    backtrack(root)\n",
    "    return result\n",
    "\n",
    "# Testing the solution\n",
    "assert smallestFromLeaf(BinaryTreeNode.from_array([25,1,3,1,3,0,2])) == \"adz\"\n",
    "assert smallestFromLeaf(BinaryTreeNode.from_array([2,2,1,None,1,0,None,0])) == \"abc\"\n",
    "assert smallestFromLeaf(BinaryTreeNode.from_array([4,0,1,1])) == \"bae\"\n",
    "assert smallestFromLeaf(BinaryTreeNode.from_array([25,1,None,0,0,1,None,None,None,0])) == \"ababz\""
   ]
  },
  {
   "cell_type": "markdown",
   "id": "0938e6bc",
   "metadata": {
    "papermill": {
     "duration": 0.030349,
     "end_time": "2024-04-21T15:47:31.949490",
     "exception": false,
     "start_time": "2024-04-21T15:47:31.919141",
     "status": "completed"
    },
    "tags": []
   },
   "source": [
    "Island Permeter: https://leetcode.com/problems/island-perimeter/submissions/1235424369/"
   ]
  },
  {
   "cell_type": "code",
   "execution_count": 57,
   "id": "003c3125",
   "metadata": {
    "execution": {
     "iopub.execute_input": "2024-04-21T15:47:32.011846Z",
     "iopub.status.busy": "2024-04-21T15:47:32.011281Z",
     "iopub.status.idle": "2024-04-21T15:47:32.017850Z",
     "shell.execute_reply": "2024-04-21T15:47:32.017112Z"
    },
    "lines_to_next_cell": 1,
    "papermill": {
     "duration": 0.039614,
     "end_time": "2024-04-21T15:47:32.019541",
     "exception": false,
     "start_time": "2024-04-21T15:47:31.979927",
     "status": "completed"
    },
    "tags": []
   },
   "outputs": [],
   "source": [
    "def islandPerimeter(grid: list[list[int]]) -> int:\n",
    "    \"Time: O(MN), Space: O(1)\"\n",
    "    N, M = len(grid), len(grid[0])\n",
    "    perimeter: int = 0\n",
    "    for i in range(N):\n",
    "        for j in range(M):\n",
    "            if grid[i][j] == 1:\n",
    "                perimeter += i == 0 or grid[i - 1][j] == 0\n",
    "                perimeter += j == 0 or grid[i][j - 1] == 0\n",
    "                perimeter += i == N - 1 or grid[i + 1][j] == 0\n",
    "                perimeter += j == M - 1 or grid[i][j + 1] == 0\n",
    "\n",
    "    return perimeter\n",
    "\n",
    "# Testing the Solution\n",
    "assert islandPerimeter([[0,1,0,0],[1,1,1,0],[0,1,0,0],[1,1,0,0]]) == 16"
   ]
  },
  {
   "cell_type": "markdown",
   "id": "c9452394",
   "metadata": {
    "papermill": {
     "duration": 0.033915,
     "end_time": "2024-04-21T15:47:32.084134",
     "exception": false,
     "start_time": "2024-04-21T15:47:32.050219",
     "status": "completed"
    },
    "tags": []
   },
   "source": [
    "Predecessor And Successor In BST"
   ]
  },
  {
   "cell_type": "code",
   "execution_count": 58,
   "id": "88e2210d",
   "metadata": {
    "execution": {
     "iopub.execute_input": "2024-04-21T15:47:32.146850Z",
     "iopub.status.busy": "2024-04-21T15:47:32.146341Z",
     "iopub.status.idle": "2024-04-21T15:47:32.156048Z",
     "shell.execute_reply": "2024-04-21T15:47:32.155422Z"
    },
    "lines_to_next_cell": 1,
    "papermill": {
     "duration": 0.042926,
     "end_time": "2024-04-21T15:47:32.157651",
     "exception": false,
     "start_time": "2024-04-21T15:47:32.114725",
     "status": "completed"
    },
    "tags": []
   },
   "outputs": [],
   "source": [
    "def predecessorSuccessorBrute(root: BinaryTreeNode, key: int):\n",
    "    \"Time: O(N), Space: O(N)\"\n",
    "    inorder: list[int] = []\n",
    "    stack: list[BinaryTreeNode] = []\n",
    "    curr = root\n",
    "    while stack or curr:\n",
    "        if curr:\n",
    "            stack.append(curr)\n",
    "            curr = curr.left\n",
    "        else:\n",
    "            curr = stack.pop()\n",
    "            inorder.append(curr.val)\n",
    "            curr = curr.right\n",
    "\n",
    "    # Find the Idx where the element can go, it may or may not exist.\n",
    "    inorder = [-1, *inorder, -1]\n",
    "    N = len(inorder)\n",
    "    low, high = 1, N - 2\n",
    "    while low <= high:\n",
    "        idx = (low + high) // 2\n",
    "        if inorder[idx] == key:\n",
    "            return inorder[idx - 1], inorder[idx + 1]\n",
    "        if inorder[idx] < key:\n",
    "            low = idx + 1\n",
    "        else:\n",
    "            high = idx - 1\n",
    "    else:\n",
    "        return inorder[low - 1], inorder[low]\n",
    "\n",
    "# Testing the solution\n",
    "assert predecessorSuccessorBrute(BinaryTreeNode.from_array([2, 1, 3]), 2) == (1, 3)\n",
    "assert predecessorSuccessorBrute(BinaryTreeNode.from_array([2, 1, 3]), 1) == (-1, 2)\n",
    "assert predecessorSuccessorBrute(BinaryTreeNode.from_array([2, 1, 3]), 3) == (2, -1)\n",
    "assert predecessorSuccessorBrute(BinaryTreeNode.from_array([2, 1, 3]), 4) == (3, -1)\n",
    "assert predecessorSuccessorBrute(BinaryTreeNode.from_array([2, 1, 3]), 0) == (-1, 1)\n",
    "assert predecessorSuccessorBrute(BinaryTreeNode.from_array([2, 0, 3]), 1) == (0, 2)"
   ]
  },
  {
   "cell_type": "markdown",
   "id": "2b775761",
   "metadata": {
    "papermill": {
     "duration": 0.030303,
     "end_time": "2024-04-21T15:47:32.218500",
     "exception": false,
     "start_time": "2024-04-21T15:47:32.188197",
     "status": "completed"
    },
    "tags": []
   },
   "source": [
    "Binary Search Tree Iterator: https://leetcode.com/problems/binary-search-tree-iterator/submissions/1235796453 "
   ]
  },
  {
   "cell_type": "code",
   "execution_count": 59,
   "id": "8b544b45",
   "metadata": {
    "execution": {
     "iopub.execute_input": "2024-04-21T15:47:32.280495Z",
     "iopub.status.busy": "2024-04-21T15:47:32.279919Z",
     "iopub.status.idle": "2024-04-21T15:47:32.288109Z",
     "shell.execute_reply": "2024-04-21T15:47:32.287345Z"
    },
    "lines_to_next_cell": 1,
    "papermill": {
     "duration": 0.041018,
     "end_time": "2024-04-21T15:47:32.289779",
     "exception": false,
     "start_time": "2024-04-21T15:47:32.248761",
     "status": "completed"
    },
    "tags": []
   },
   "outputs": [],
   "source": [
    "class BSTIterator:\n",
    "        def __init__(self, root: BinaryTreeNode):\n",
    "\n",
    "            # Logic to find the max of BST\n",
    "            self.max_ = -1\n",
    "            curr = root\n",
    "            while curr:\n",
    "                self.max_ = curr.val\n",
    "                curr = curr.right\n",
    "\n",
    "            self.generator = BSTIterator.inorder(root)\n",
    "            self.prev = -1\n",
    "\n",
    "        @staticmethod\n",
    "        def inorder(curr: BinaryTreeNode) -> Generator[int, None, None]:\n",
    "            if not curr:\n",
    "                yield -1\n",
    "            else:\n",
    "                yield from BSTIterator.inorder(curr.left)\n",
    "                yield curr.val\n",
    "                yield from BSTIterator.inorder(curr.right)\n",
    "\n",
    "        def next(self) -> int:\n",
    "            curr = -1\n",
    "            while curr == -1:\n",
    "                curr = next(self.generator)\n",
    "\n",
    "            self.prev = curr\n",
    "            return curr\n",
    "\n",
    "        def hasNext(self) -> bool:\n",
    "            return self.prev < self.max_\n",
    "\n",
    "# Testing the solution\n",
    "bstIter = BSTIterator(BinaryTreeNode.from_array([7,3,15,None,None,9,20]))\n",
    "temp: list[int] = []\n",
    "while bstIter.hasNext():\n",
    "    temp.append(bstIter.next())\n",
    "\n",
    "assert temp == [3, 7, 9, 15, 20]"
   ]
  },
  {
   "cell_type": "markdown",
   "id": "b746cac5",
   "metadata": {
    "papermill": {
     "duration": 0.030456,
     "end_time": "2024-04-21T15:47:32.350989",
     "exception": false,
     "start_time": "2024-04-21T15:47:32.320533",
     "status": "completed"
    },
    "tags": []
   },
   "source": [
    "Problem Link: https://leetcode.com/problems/recover-binary-search-tree/submissions/1236357794/"
   ]
  },
  {
   "cell_type": "code",
   "execution_count": 60,
   "id": "417a1ab3",
   "metadata": {
    "execution": {
     "iopub.execute_input": "2024-04-21T15:47:32.413099Z",
     "iopub.status.busy": "2024-04-21T15:47:32.412814Z",
     "iopub.status.idle": "2024-04-21T15:47:32.435644Z",
     "shell.execute_reply": "2024-04-21T15:47:32.435025Z"
    },
    "papermill": {
     "duration": 0.055807,
     "end_time": "2024-04-21T15:47:32.437353",
     "exception": false,
     "start_time": "2024-04-21T15:47:32.381546",
     "status": "completed"
    },
    "tags": []
   },
   "outputs": [],
   "source": [
    "def recoverTree(root: BinaryTreeNode) -> None:\n",
    "    \"Time: O(N), Space: O(1)\"\n",
    "    stack: list[BinaryTreeNode] = []\n",
    "\n",
    "    prev: BinaryTreeNode|None = None\n",
    "    curr: BinaryTreeNode|None = root\n",
    "    swap1: BinaryTreeNode|None = None\n",
    "    swap2: BinaryTreeNode|None = None\n",
    "\n",
    "    while curr or stack:\n",
    "        if curr:\n",
    "            stack.append(curr)\n",
    "            curr = curr.left\n",
    "        else:\n",
    "            curr = stack.pop()\n",
    "            if not swap1 and prev and curr.val < prev.val:\n",
    "                swap1 = prev\n",
    "            elif not swap2 and swap1 and curr.val > swap1.val:\n",
    "                swap2 = prev\n",
    "                break\n",
    "\n",
    "            prev, curr = curr, curr.right\n",
    "\n",
    "    if not swap2:\n",
    "        swap2 = prev\n",
    "\n",
    "    # Swap the values of the two pointers\n",
    "    if swap1 and swap2:\n",
    "        swap1.val, swap2.val = swap2.val, swap1.val\n",
    "\n",
    "for i in range(3, 50):\n",
    "    original = generateBST(i, 1, 100).to_list()\n",
    "    copy = [*original]\n",
    "    j_, k_ = np.random.choice(range(i), 2, replace=False)\n",
    "    while not copy[j_] or not copy[k_]:\n",
    "        j_, k_ = np.random.choice(range(i), 2, replace=False)\n",
    "    copy[j_], copy[k_] = copy[k_], copy[j_]\n",
    "    bst = BinaryTreeNode.from_array(copy)\n",
    "    recoverTree(bst)\n",
    "    assert bst.to_list() == original"
   ]
  },
  {
   "cell_type": "markdown",
   "id": "4ea8e86e",
   "metadata": {
    "papermill": {
     "duration": 0.030454,
     "end_time": "2024-04-21T15:47:32.498541",
     "exception": false,
     "start_time": "2024-04-21T15:47:32.468087",
     "status": "completed"
    },
    "tags": []
   },
   "source": [
    "Problem link: https://leetcode.com/problems/rising-temperature/description/"
   ]
  },
  {
   "cell_type": "code",
   "execution_count": 61,
   "id": "2e5cf08b",
   "metadata": {
    "execution": {
     "iopub.execute_input": "2024-04-21T15:47:32.561020Z",
     "iopub.status.busy": "2024-04-21T15:47:32.560419Z",
     "iopub.status.idle": "2024-04-21T15:47:32.573836Z",
     "shell.execute_reply": "2024-04-21T15:47:32.573185Z"
    },
    "lines_to_next_cell": 1,
    "papermill": {
     "duration": 0.046607,
     "end_time": "2024-04-21T15:47:32.575500",
     "exception": false,
     "start_time": "2024-04-21T15:47:32.528893",
     "status": "completed"
    },
    "tags": []
   },
   "outputs": [],
   "source": [
    "import datetime as dt\n",
    "def rising_temperature_pandas(weather: pd.DataFrame) -> pd.DataFrame:\n",
    "    records = dict(zip(weather['recordDate'], weather['temperature']))\n",
    "    results: list[str] = []\n",
    "\n",
    "    for row in weather.itertuples():\n",
    "        prevDay = row[2] - dt.timedelta(days=1)\n",
    "        if records.get(prevDay, math.inf) < row[3]:\n",
    "            results.append(row[1])\n",
    "\n",
    "    return pd.DataFrame(data=results, columns=['id'])\n",
    "\n",
    "# Testing the solution\n",
    "temp = read_lc_df(\"\"\"\n",
    "+----+------------+-------------+\n",
    "| id | recordDate | temperature |\n",
    "| -- | ---------- | ----------- |\n",
    "| 1  | 2000-12-14 | 3           |\n",
    "| 2  | 2000-12-16 | 5           |\n",
    "+----+------------+-------------+\n",
    "\"\"\", dtypes={'recordDate': 'datetime64[ns]', 'temperature': 'float'})\n",
    "\n",
    "# temp['temperature'] = temp['temperature'].astype(float)\n",
    "# temp['recordDate'] = pd.to_datetime(temp['recordDate'])\n",
    "assert rising_temperature_pandas(temp)['id'].to_list() == []"
   ]
  },
  {
   "cell_type": "markdown",
   "id": "42548d2d",
   "metadata": {
    "papermill": {
     "duration": 0.031169,
     "end_time": "2024-04-21T15:47:32.637516",
     "exception": false,
     "start_time": "2024-04-21T15:47:32.606347",
     "status": "completed"
    },
    "tags": []
   },
   "source": [
    "Merge two BST: https://leetcode.com/problems/merge-two-binary-trees/"
   ]
  },
  {
   "cell_type": "code",
   "execution_count": 62,
   "id": "af67741c",
   "metadata": {
    "execution": {
     "iopub.execute_input": "2024-04-21T15:47:32.699754Z",
     "iopub.status.busy": "2024-04-21T15:47:32.699178Z",
     "iopub.status.idle": "2024-04-21T15:47:32.704976Z",
     "shell.execute_reply": "2024-04-21T15:47:32.704244Z"
    },
    "lines_to_next_cell": 1,
    "papermill": {
     "duration": 0.038792,
     "end_time": "2024-04-21T15:47:32.706664",
     "exception": false,
     "start_time": "2024-04-21T15:47:32.667872",
     "status": "completed"
    },
    "tags": []
   },
   "outputs": [],
   "source": [
    "def mergeTrees(root1: BinaryTreeNode, root2: BinaryTreeNode) -> BinaryTreeNode:\n",
    "    if not root1:\n",
    "        return root2\n",
    "    elif not root2:\n",
    "        return root1\n",
    "    else:\n",
    "        curr = BinaryTreeNode(root1.val + root2.val)\n",
    "        curr.left = mergeTrees(root1.left, root2.left)\n",
    "        curr.right = mergeTrees(root1.right, root2.right)\n",
    "        return curr\n",
    "\n",
    "# Testing the solution\n",
    "assert mergeTrees(BinaryTreeNode.from_array([1,3,2,5]), BinaryTreeNode.from_array([2,1,3,None,4,None,7])).to_list() == [3,4,5,5,4,None,7]"
   ]
  },
  {
   "cell_type": "markdown",
   "id": "1dcb94b1",
   "metadata": {
    "papermill": {
     "duration": 0.030424,
     "end_time": "2024-04-21T15:47:32.767615",
     "exception": false,
     "start_time": "2024-04-21T15:47:32.737191",
     "status": "completed"
    },
    "tags": []
   },
   "source": [
    "LC Easy: Find if path exists in Graph\n",
    "https://leetcode.com/problems/find-if-path-exists-in-graph/submissions/1238132630"
   ]
  },
  {
   "cell_type": "code",
   "execution_count": 63,
   "id": "98a5c5b3",
   "metadata": {
    "execution": {
     "iopub.execute_input": "2024-04-21T15:47:32.829729Z",
     "iopub.status.busy": "2024-04-21T15:47:32.829078Z",
     "iopub.status.idle": "2024-04-21T15:47:32.837133Z",
     "shell.execute_reply": "2024-04-21T15:47:32.836504Z"
    },
    "papermill": {
     "duration": 0.040858,
     "end_time": "2024-04-21T15:47:32.838770",
     "exception": false,
     "start_time": "2024-04-21T15:47:32.797912",
     "status": "completed"
    },
    "tags": []
   },
   "outputs": [],
   "source": [
    "def validPath(n: int, edges: list[list[int]], source: int, destination: int) -> bool:\n",
    "    adjl: dict[int, list[int]] = dict()\n",
    "\n",
    "    def DFS(src: int) -> bool:\n",
    "        if src == destination:\n",
    "            return True\n",
    "\n",
    "        elif src not in visited:\n",
    "            visited.add(src)\n",
    "            for next_ in adjl.get(src, []):\n",
    "                if DFS(next_):\n",
    "                    return True\n",
    "\n",
    "        return False\n",
    "\n",
    "    # Convert to Adjancency list\n",
    "    for n1, n2 in edges:\n",
    "        n1_neighbours, n2_neighbours = adjl.get(n1, []), adjl.get(n2, [])\n",
    "        n1_neighbours.append(n2)\n",
    "        n2_neighbours.append(n1)\n",
    "        adjl[n1], adjl[n2] = n1_neighbours, n2_neighbours\n",
    "\n",
    "    # Do a DFS to check if reachable\n",
    "    visited: set[int] = set()\n",
    "    return DFS(source)\n",
    "\n",
    "# Testing the solution\n",
    "assert validPath(3, [[0,1],[1,2],[2,0]], 0, 2) == True\n",
    "assert validPath(6, [[0,1],[0,2],[3,5],[5,4],[4,3]], 0, 5) == False"
   ]
  }
 ],
 "metadata": {
  "kernelspec": {
   "display_name": "Python 3 (ipykernel)",
   "language": "python",
   "name": "python3"
  },
  "language_info": {
   "codemirror_mode": {
    "name": "ipython",
    "version": 3
   },
   "file_extension": ".py",
   "mimetype": "text/x-python",
   "name": "python",
   "nbconvert_exporter": "python",
   "pygments_lexer": "ipython3",
   "version": "3.10.14"
  },
  "papermill": {
   "default_parameters": {},
   "duration": 28.844098,
   "end_time": "2024-04-21T15:47:33.086112",
   "environment_variables": {},
   "exception": null,
   "input_path": "practice/001.ipynb",
   "output_path": "practice/001.ipynb",
   "parameters": {},
   "start_time": "2024-04-21T15:47:04.242014",
   "version": "2.5.0"
  }
 },
 "nbformat": 4,
 "nbformat_minor": 5
}