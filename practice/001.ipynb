{
 "cells": [
  {
   "cell_type": "code",
   "execution_count": 1,
   "id": "3f12b031",
   "metadata": {
    "execution": {
     "iopub.execute_input": "2024-04-18T14:41:05.425432Z",
     "iopub.status.busy": "2024-04-18T14:41:05.425172Z",
     "iopub.status.idle": "2024-04-18T14:41:05.923288Z",
     "shell.execute_reply": "2024-04-18T14:41:05.922560Z"
    },
    "papermill": {
     "duration": 0.522219,
     "end_time": "2024-04-18T14:41:05.925362",
     "exception": false,
     "start_time": "2024-04-18T14:41:05.403143",
     "status": "completed"
    },
    "tags": []
   },
   "outputs": [],
   "source": [
    "from typing import List, Optional, Generator\n",
    "import pandas as pd\n",
    "import numpy as np\n",
    "import sqlite3\n",
    "import re\n",
    "import io\n",
    "import math\n",
    "import collections\n",
    "import itertools\n",
    "import functools\n",
    "import random\n",
    "import string\n",
    "import tqdm\n",
    "import bisect\n",
    "\n",
    "conn = sqlite3.connect(\":memory:\")\n",
    "\n",
    "def regexp(expr, item):\n",
    "    reg = re.compile(expr)\n",
    "    return reg.search(item) is not None\n",
    "\n",
    "def read_lc_df(s: str, dtypes: dict[str, str]=dict()) -> pd.DataFrame:\n",
    "    temp = pd.read_csv(io.StringIO(s), sep=\"|\", skiprows=2)\n",
    "    temp = temp.iloc[1:-1, 1:-1]\n",
    "    temp.columns = temp.columns.map(str.strip)\n",
    "    temp = temp.map(lambda x: x if type(x) != str else None if x.strip() == 'null' else x.strip())\n",
    "    temp = temp.astype(dtypes)\n",
    "    return temp\n",
    "\n",
    "conn.create_function(\"REGEXP\", 2, regexp)"
   ]
  },
  {
   "cell_type": "markdown",
   "id": "7f5a0241",
   "metadata": {
    "papermill": {
     "duration": 0.020458,
     "end_time": "2024-04-18T14:41:05.966323",
     "exception": false,
     "start_time": "2024-04-18T14:41:05.945865",
     "status": "completed"
    },
    "tags": []
   },
   "source": [
    "#### Helper for Binary tree problems"
   ]
  },
  {
   "cell_type": "code",
   "execution_count": 2,
   "id": "85eb2598",
   "metadata": {
    "execution": {
     "iopub.execute_input": "2024-04-18T14:41:06.008095Z",
     "iopub.status.busy": "2024-04-18T14:41:06.007379Z",
     "iopub.status.idle": "2024-04-18T14:41:06.019437Z",
     "shell.execute_reply": "2024-04-18T14:41:06.018673Z"
    },
    "lines_to_next_cell": 1,
    "papermill": {
     "duration": 0.035095,
     "end_time": "2024-04-18T14:41:06.021164",
     "exception": false,
     "start_time": "2024-04-18T14:41:05.986069",
     "status": "completed"
    },
    "tags": []
   },
   "outputs": [],
   "source": [
    "class BinaryTreeNode:\n",
    "    def __init__(self, val=0, left=None, right=None):\n",
    "        self.val = val\n",
    "        self.left = left\n",
    "        self.right = right\n",
    "\n",
    "    def to_list(self):\n",
    "        to_visit = [self]\n",
    "        visited = []\n",
    "        while len(to_visit) > 0:\n",
    "            curr = to_visit.pop(0)\n",
    "            if curr:\n",
    "                to_visit.append(curr.left)\n",
    "                to_visit.append(curr.right)\n",
    "                visited.append(curr.val)\n",
    "            else:\n",
    "                visited.append(curr)\n",
    "\n",
    "        while visited and not visited[-1]:\n",
    "            visited.pop()\n",
    "\n",
    "        return visited\n",
    "\n",
    "    def __str__(self):\n",
    "        return str(self.val)\n",
    "\n",
    "    @staticmethod\n",
    "    def from_array(nums: list[int|None]):\n",
    "        '''Create a Tree from a list of nums. Returns the root node.'''\n",
    "        if len(nums) == 0:\n",
    "            return None\n",
    "        elif len(nums) == 1:\n",
    "            return BinaryTreeNode(nums[0])\n",
    "        else:\n",
    "            forest = [BinaryTreeNode(nums[0])]\n",
    "            parent_idx = -1\n",
    "            for i in range(1, len(nums)):\n",
    "\n",
    "                curr = None\n",
    "                if nums[i] is not None:\n",
    "                    curr = BinaryTreeNode(nums[i])\n",
    "                    forest.append(curr)\n",
    "\n",
    "                if i % 2 == 1:\n",
    "                    parent_idx += 1\n",
    "                    forest[parent_idx].left = curr\n",
    "                else:\n",
    "                    forest[parent_idx].right = curr\n",
    "\n",
    "        return forest[0]"
   ]
  },
  {
   "cell_type": "markdown",
   "id": "1ef703cf",
   "metadata": {
    "papermill": {
     "duration": 0.019548,
     "end_time": "2024-04-18T14:41:06.060915",
     "exception": false,
     "start_time": "2024-04-18T14:41:06.041367",
     "status": "completed"
    },
    "tags": []
   },
   "source": [
    "#### Helper for Singly Linked lists"
   ]
  },
  {
   "cell_type": "code",
   "execution_count": 3,
   "id": "3de163a1",
   "metadata": {
    "execution": {
     "iopub.execute_input": "2024-04-18T14:41:06.102516Z",
     "iopub.status.busy": "2024-04-18T14:41:06.101830Z",
     "iopub.status.idle": "2024-04-18T14:41:06.108957Z",
     "shell.execute_reply": "2024-04-18T14:41:06.108222Z"
    },
    "lines_to_next_cell": 1,
    "papermill": {
     "duration": 0.029965,
     "end_time": "2024-04-18T14:41:06.110700",
     "exception": false,
     "start_time": "2024-04-18T14:41:06.080735",
     "status": "completed"
    },
    "tags": []
   },
   "outputs": [],
   "source": [
    "class ListNode:\n",
    "    def __init__(self, val=0, next=None):\n",
    "        self.val = val\n",
    "        self.next = next\n",
    "\n",
    "    def __str__(self):\n",
    "        return str(self.val)\n",
    "\n",
    "    @staticmethod\n",
    "    def to_singly_linked_list(nums: list[int]):\n",
    "        root = prev = None\n",
    "        for n in nums:\n",
    "            curr = ListNode(n)\n",
    "            # Init once\n",
    "            if not root:\n",
    "                root = curr\n",
    "            if prev:\n",
    "                prev.next = curr\n",
    "            prev = curr\n",
    "\n",
    "        return root\n",
    "\n",
    "    def to_list(self) -> list[int]:\n",
    "        result = []\n",
    "        curr = self\n",
    "        while curr:\n",
    "            result.append(curr.val)\n",
    "            curr = curr.next\n",
    "        return result"
   ]
  },
  {
   "cell_type": "markdown",
   "id": "35f93518",
   "metadata": {},
   "source": [
    "#### Utility to generate random BST"
   ]
  },
  {
   "cell_type": "code",
   "execution_count": null,
   "id": "848c43e5",
   "metadata": {
    "lines_to_next_cell": 1
   },
   "outputs": [],
   "source": [
    "def generateBST(N: int, min_: int, max_: int) -> BinaryTreeNode|None:\n",
    "    def insert(curr: BinaryTreeNode|None, n: int) -> BinaryTreeNode:\n",
    "        if not curr:\n",
    "            curr = BinaryTreeNode(n)\n",
    "        elif curr.val < n:\n",
    "            curr.right = insert(curr.right, n)\n",
    "        else:\n",
    "            curr.left = insert(curr.left, n)\n",
    "\n",
    "        return curr\n",
    "\n",
    "    assert N <= max_ - min_, \"Number of available samples must be >= N\"\n",
    "    root: BinaryTreeNode|None = None\n",
    "    for n in np.random.choice(np.arange(min_, max_), size=N, replace=False):\n",
    "        root = insert(root, n)\n",
    "\n",
    "    return root"
   ]
  },
  {
   "cell_type": "code",
   "execution_count": 4,
   "id": "e9a621b3",
   "metadata": {
    "execution": {
     "iopub.execute_input": "2024-04-18T14:41:06.151714Z",
     "iopub.status.busy": "2024-04-18T14:41:06.151144Z",
     "iopub.status.idle": "2024-04-18T14:41:06.158016Z",
     "shell.execute_reply": "2024-04-18T14:41:06.157267Z"
    },
    "lines_to_next_cell": 1,
    "papermill": {
     "duration": 0.029185,
     "end_time": "2024-04-18T14:41:06.159820",
     "exception": false,
     "start_time": "2024-04-18T14:41:06.130635",
     "status": "completed"
    },
    "tags": []
   },
   "outputs": [],
   "source": [
    "# Problem Category: Easy\n",
    "# Link: https://leetcode.com/problems/find-mode-in-binary-search-tree/submissions/1187947888\n",
    "class Solution:\n",
    "    def findMode(self, root: BinaryTreeNode) -> List[int]:\n",
    "        def backtrack(curr: BinaryTreeNode):\n",
    "            if curr == None:\n",
    "                return\n",
    "            else:\n",
    "                hm[curr.val] = hm.get(curr.val, 0) + 1\n",
    "                backtrack(curr.left)\n",
    "                backtrack(curr.right)\n",
    "\n",
    "        hm: dict[int, int] = dict()\n",
    "        backtrack(root)\n",
    "        max_ = max(hm.values())\n",
    "        result: list[int] = []\n",
    "        for k, v in hm.items():\n",
    "            if v == max_:\n",
    "                result.append(k)\n",
    "        return result\n",
    "\n",
    "# Testing the solution\n",
    "assert Solution().findMode(BinaryTreeNode.from_array([1,None,2,2])) == [2]\n",
    "assert Solution().findMode(BinaryTreeNode.from_array([0])) == [0]"
   ]
  },
  {
   "cell_type": "code",
   "execution_count": 5,
   "id": "9b733058",
   "metadata": {
    "execution": {
     "iopub.execute_input": "2024-04-18T14:41:06.200242Z",
     "iopub.status.busy": "2024-04-18T14:41:06.200015Z",
     "iopub.status.idle": "2024-04-18T14:41:06.206552Z",
     "shell.execute_reply": "2024-04-18T14:41:06.205776Z"
    },
    "lines_to_next_cell": 1,
    "papermill": {
     "duration": 0.028645,
     "end_time": "2024-04-18T14:41:06.208267",
     "exception": false,
     "start_time": "2024-04-18T14:41:06.179622",
     "status": "completed"
    },
    "tags": []
   },
   "outputs": [],
   "source": [
    "# Problem Category: Medium\n",
    "# Link: https://leetcode.com/problems/find-bottom-left-tree-value/submissions/1188894879/\n",
    "class Solution:\n",
    "    def findBottomLeftValue(self, root: BinaryTreeNode) -> int:\n",
    "        next_: list[BinaryTreeNode] = [root]\n",
    "        while True:\n",
    "            next_next_: list[BinaryTreeNode] = []\n",
    "            for node in next_:\n",
    "                if node.left:\n",
    "                    next_next_.append(node.left)\n",
    "                if node.right:\n",
    "                    next_next_.append(node.right)\n",
    "            if next_next_:\n",
    "                next_ = next_next_\n",
    "            else:\n",
    "                break\n",
    "        return next_[0].val\n",
    "\n",
    "# Testing the solution\n",
    "assert Solution().findBottomLeftValue(BinaryTreeNode.from_array([2, 1, 3])) == 1\n",
    "assert Solution().findBottomLeftValue(BinaryTreeNode.from_array([1,2,3,4,None,5,6,None,None,7])) == 7"
   ]
  },
  {
   "cell_type": "code",
   "execution_count": 6,
   "id": "d0726800",
   "metadata": {
    "execution": {
     "iopub.execute_input": "2024-04-18T14:41:06.249803Z",
     "iopub.status.busy": "2024-04-18T14:41:06.249056Z",
     "iopub.status.idle": "2024-04-18T14:41:06.254470Z",
     "shell.execute_reply": "2024-04-18T14:41:06.253694Z"
    },
    "lines_to_next_cell": 1,
    "papermill": {
     "duration": 0.027825,
     "end_time": "2024-04-18T14:41:06.256050",
     "exception": false,
     "start_time": "2024-04-18T14:41:06.228225",
     "status": "completed"
    },
    "tags": []
   },
   "outputs": [],
   "source": [
    "# Problem Category: Easy\n",
    "# Link: https://leetcode.com/problems/maximum-odd-binary-number/1190823057\n",
    "class Solution:\n",
    "    def maximumOddBinaryNumber(self, s: str) -> str:\n",
    "        counts = dict(collections.Counter(s))\n",
    "        zeros = counts.get('0', 0) * '0'\n",
    "        ones = (counts.get('1', 0) - 1) * '1'\n",
    "        return ones + zeros + '1'\n",
    "\n",
    "# Testing the solution\n",
    "assert Solution().maximumOddBinaryNumber(\"010\") == \"001\"\n",
    "assert Solution().maximumOddBinaryNumber(\"0101\") == \"1001\""
   ]
  },
  {
   "cell_type": "code",
   "execution_count": 7,
   "id": "a61be2aa",
   "metadata": {
    "execution": {
     "iopub.execute_input": "2024-04-18T14:41:06.296950Z",
     "iopub.status.busy": "2024-04-18T14:41:06.296304Z",
     "iopub.status.idle": "2024-04-18T14:41:06.303488Z",
     "shell.execute_reply": "2024-04-18T14:41:06.302867Z"
    },
    "lines_to_next_cell": 1,
    "papermill": {
     "duration": 0.029456,
     "end_time": "2024-04-18T14:41:06.305262",
     "exception": false,
     "start_time": "2024-04-18T14:41:06.275806",
     "status": "completed"
    },
    "tags": []
   },
   "outputs": [],
   "source": [
    "# Problem Category: Easy\n",
    "# Link: https://leetcode.com/problems/squares-of-a-sorted-array\n",
    "class Solution:\n",
    "    def sortedSquares(self, nums: list[int]) -> list[int]:\n",
    "        N = len(nums)\n",
    "        i, j = 0, N - 1\n",
    "        sorted_by_magnitude: list[int] = []\n",
    "        while i <= j:\n",
    "            if abs(nums[i]) > abs(nums[j]):\n",
    "                sorted_by_magnitude.append(nums[i])\n",
    "                i += 1\n",
    "            else:\n",
    "                sorted_by_magnitude.append(nums[j])\n",
    "                j -= 1\n",
    "        sorted_by_magnitude.reverse()\n",
    "\n",
    "        result: list[int] = []\n",
    "        for num in sorted_by_magnitude:\n",
    "            result.append(num * num)\n",
    "\n",
    "        return result\n",
    "\n",
    "# Testing the solution\n",
    "assert Solution().sortedSquares([-4,-1,0,3,10]) == [0, 1, 9, 16, 100]\n",
    "assert Solution().sortedSquares([-7,-4,-1,0,3,10]) == [0, 1, 9, 16, 49, 100]"
   ]
  },
  {
   "cell_type": "code",
   "execution_count": 8,
   "id": "f1f33401",
   "metadata": {
    "execution": {
     "iopub.execute_input": "2024-04-18T14:41:06.346161Z",
     "iopub.status.busy": "2024-04-18T14:41:06.345524Z",
     "iopub.status.idle": "2024-04-18T14:41:06.352727Z",
     "shell.execute_reply": "2024-04-18T14:41:06.351951Z"
    },
    "lines_to_next_cell": 1,
    "papermill": {
     "duration": 0.029424,
     "end_time": "2024-04-18T14:41:06.354429",
     "exception": false,
     "start_time": "2024-04-18T14:41:06.325005",
     "status": "completed"
    },
    "tags": []
   },
   "outputs": [],
   "source": [
    "# Problem Category: Medium\n",
    "# Link: https://leetcode.com/problems/minimum-length-of-string-after-deleting-similar-ends/submissions/1194814297\n",
    "class Solution:\n",
    "    def minimumLength(self, s: str) -> int:\n",
    "        N = len(s)\n",
    "        i, j = 0, N - 1\n",
    "        while i < j:\n",
    "            while i < N - 1 and s[i + 1] == s[i] and s[i] == s[j]:\n",
    "                i += 1\n",
    "            while j > 1 and s[j - 1] == s[j] and s[i] == s[j]:\n",
    "                j -= 1\n",
    "            if s[i] == s[j]:\n",
    "                i += 1\n",
    "                j -= 1\n",
    "            else:\n",
    "                return (j - i) + 1\n",
    "        else:\n",
    "            return 1 if i == j else 0\n",
    "\n",
    "# Testing the solution\n",
    "assert Solution().minimumLength(\"ca\") == 2\n",
    "assert Solution().minimumLength(\"cabaabac\") == 0\n",
    "assert Solution().minimumLength(\"aabccabba\") == 3\n",
    "assert Solution().minimumLength(\"bbbbbabbbbccbcbcbccbbabbb\") == 1\n",
    "assert Solution().minimumLength(\"aaaa\") == 0"
   ]
  },
  {
   "cell_type": "code",
   "execution_count": 9,
   "id": "79086e5d",
   "metadata": {
    "execution": {
     "iopub.execute_input": "2024-04-18T14:41:06.395650Z",
     "iopub.status.busy": "2024-04-18T14:41:06.395114Z",
     "iopub.status.idle": "2024-04-18T14:41:06.401567Z",
     "shell.execute_reply": "2024-04-18T14:41:06.400875Z"
    },
    "lines_to_next_cell": 1,
    "papermill": {
     "duration": 0.028845,
     "end_time": "2024-04-18T14:41:06.403211",
     "exception": false,
     "start_time": "2024-04-18T14:41:06.374366",
     "status": "completed"
    },
    "tags": []
   },
   "outputs": [],
   "source": [
    "# Problem Category: Easy\n",
    "# Link: https://leetcode.com/problems/ransom-note/submissions/1195815128\n",
    "class Solution:\n",
    "    def canConstruct(self, ransomNote: str, magazine: str) -> bool:\n",
    "        cr = collections.Counter(ransomNote)\n",
    "        cm = collections.Counter(magazine)\n",
    "        for i in range(ord(\"a\"), ord(\"z\") + 1):\n",
    "            ch = chr(i)\n",
    "            if cm.get(ch, 0) < cr.get(ch, 0):\n",
    "                return False\n",
    "        else:\n",
    "            return True\n",
    "\n",
    "# Testing the solution\n",
    "assert Solution().canConstruct(\"aa\", \"aab\") == True\n",
    "assert Solution().canConstruct(\"a\", \"b\") == False\n",
    "assert Solution().canConstruct(\"aa\", \"ab\") == False"
   ]
  },
  {
   "cell_type": "markdown",
   "id": "86315f1b",
   "metadata": {
    "papermill": {
     "duration": 0.019658,
     "end_time": "2024-04-18T14:41:06.442751",
     "exception": false,
     "start_time": "2024-04-18T14:41:06.423093",
     "status": "completed"
    },
    "tags": []
   },
   "source": [
    "Striver: Pascal's triangle\n",
    "Problem: Finding nCr in minimal time (part of pascal's triangle)\n",
    "Find element at position 1st 2nd column in a pascal's triangle\n",
    "Sol: math.comb(n -1, r - 1)"
   ]
  },
  {
   "cell_type": "code",
   "execution_count": 10,
   "id": "d8a93518",
   "metadata": {
    "execution": {
     "iopub.execute_input": "2024-04-18T14:41:06.483637Z",
     "iopub.status.busy": "2024-04-18T14:41:06.483040Z",
     "iopub.status.idle": "2024-04-18T14:41:06.490185Z",
     "shell.execute_reply": "2024-04-18T14:41:06.489392Z"
    },
    "lines_to_next_cell": 1,
    "papermill": {
     "duration": 0.029338,
     "end_time": "2024-04-18T14:41:06.491852",
     "exception": false,
     "start_time": "2024-04-18T14:41:06.462514",
     "status": "completed"
    },
    "tags": []
   },
   "outputs": [],
   "source": [
    "def nCr(n: int, r: int) -> float:\n",
    "    num = functools.reduce(lambda x, y: x * y, range(n, n - r, -1))\n",
    "    den = functools.reduce(lambda x, y: x * y, range(r, 0, -1))\n",
    "    return num / den\n",
    "\n",
    "# Testing the solution\n",
    "for i in range(50):\n",
    "    i, j = sorted([random.randint(1, 50), random.randint(1, 50)], reverse=True)\n",
    "    assert math.comb(i, j) == nCr(i, j), f\"failed for {i, j}\""
   ]
  },
  {
   "cell_type": "code",
   "execution_count": 11,
   "id": "3936a59e",
   "metadata": {
    "execution": {
     "iopub.execute_input": "2024-04-18T14:41:06.533074Z",
     "iopub.status.busy": "2024-04-18T14:41:06.532504Z",
     "iopub.status.idle": "2024-04-18T14:41:06.544020Z",
     "shell.execute_reply": "2024-04-18T14:41:06.543374Z"
    },
    "lines_to_next_cell": 1,
    "papermill": {
     "duration": 0.033888,
     "end_time": "2024-04-18T14:41:06.545636",
     "exception": false,
     "start_time": "2024-04-18T14:41:06.511748",
     "status": "completed"
    },
    "tags": []
   },
   "outputs": [],
   "source": [
    "# 4Sum\n",
    "class Solution:\n",
    "    def fourSum(self, arr: list[int], target: int) -> set[tuple[int]]:\n",
    "        def update_until(idx: int, update: int, until: int):\n",
    "            temp_idx = idx\n",
    "            assert update != 0\n",
    "            if update > 0:\n",
    "                while temp_idx < until and arr[temp_idx] == arr[idx]:\n",
    "                    temp_idx += update\n",
    "            else:\n",
    "                while temp_idx > until and arr[temp_idx] == arr[idx]:\n",
    "                    temp_idx += update\n",
    "            return temp_idx\n",
    "\n",
    "        N = len(arr)\n",
    "        arr.sort()\n",
    "        result: set[tuple[int]] = set()\n",
    "        i = 0\n",
    "        while i < N - 3:\n",
    "            j = i + 1\n",
    "            while j < N - 2:\n",
    "                k, l = j + 1, N - 1\n",
    "                while k < l:\n",
    "                    curr = arr[i], arr[j], arr[k], arr[l]\n",
    "                    if sum(curr) == target:\n",
    "                        result.add(curr)\n",
    "                        # Increment k, l\n",
    "                        k_, l_ = k, l\n",
    "                        while k_ < l_ and arr[k_] == arr[k] and arr[l_] == arr[l]:\n",
    "                            k_, l_ = k_ + 1, l_ - 1\n",
    "                        k, l = k_, l_\n",
    "                    elif sum(curr) < target:\n",
    "                        # Increment k\n",
    "                        k = update_until(k, 1, l)\n",
    "                    else:\n",
    "                        # Decrement l\n",
    "                        l = update_until(l, -1, k)\n",
    "\n",
    "                # Increment j\n",
    "                j = update_until(j, 1, N - 2)\n",
    "\n",
    "            # Increment i\n",
    "            i = update_until(i, 1, N - 3)\n",
    "\n",
    "        return result\n",
    "\n",
    "# Testing the solution\n",
    "assert Solution().fourSum([1,0,-1,0,-2,2], 0) == {(-2,-1,1,2), (-2,0,0,2), (-1,0,0,1)}\n",
    "assert Solution().fourSum([2,2,2,2,2], 8) == {(2, 2, 2, 2)}"
   ]
  },
  {
   "cell_type": "markdown",
   "id": "e839124e",
   "metadata": {
    "papermill": {
     "duration": 0.019791,
     "end_time": "2024-04-18T14:41:06.603335",
     "exception": false,
     "start_time": "2024-04-18T14:41:06.583544",
     "status": "completed"
    },
    "tags": []
   },
   "source": [
    "Leetcode Weekly contest - 17th March"
   ]
  },
  {
   "cell_type": "code",
   "execution_count": 12,
   "id": "e6574b26",
   "metadata": {
    "execution": {
     "iopub.execute_input": "2024-04-18T14:41:06.646067Z",
     "iopub.status.busy": "2024-04-18T14:41:06.645409Z",
     "iopub.status.idle": "2024-04-18T14:41:06.651252Z",
     "shell.execute_reply": "2024-04-18T14:41:06.650490Z"
    },
    "lines_to_next_cell": 1,
    "papermill": {
     "duration": 0.029347,
     "end_time": "2024-04-18T14:41:06.652846",
     "exception": false,
     "start_time": "2024-04-18T14:41:06.623499",
     "status": "completed"
    },
    "tags": []
   },
   "outputs": [],
   "source": [
    "class Solution:\n",
    "    def isSubstringPresent(self, s: str) -> bool:\n",
    "        rev_ = \"\".join(list(reversed(s)))\n",
    "        N = len(s)\n",
    "        for i in range(N - 1):\n",
    "            if s[i:i+2] in rev_:\n",
    "                return True\n",
    "        return False\n",
    "\n",
    "# Testing the solution\n",
    "assert Solution().isSubstringPresent(\"leetcode\") == True\n",
    "assert Solution().isSubstringPresent(\"abcd\") == False"
   ]
  },
  {
   "cell_type": "markdown",
   "id": "f12cafc3",
   "metadata": {
    "papermill": {
     "duration": 0.019681,
     "end_time": "2024-04-18T14:41:06.692770",
     "exception": false,
     "start_time": "2024-04-18T14:41:06.673089",
     "status": "completed"
    },
    "tags": []
   },
   "source": [
    "zz - z, z, zz (3)\n",
    "zzz - z, z, z, zz, zz, zzz (6)\n",
    "zzzz - z, z, z, z; zz, zz, zz, zzz, zzz, zzzz (10)\n",
    "zzzzz - z, z, z, z, z, zz, zz, zz, zz, zzz, zzz, zzz, zzzz, zzzz, zzzzz (15)"
   ]
  },
  {
   "cell_type": "code",
   "execution_count": 13,
   "id": "589d1561",
   "metadata": {
    "execution": {
     "iopub.execute_input": "2024-04-18T14:41:06.734676Z",
     "iopub.status.busy": "2024-04-18T14:41:06.733991Z",
     "iopub.status.idle": "2024-04-18T14:41:06.739322Z",
     "shell.execute_reply": "2024-04-18T14:41:06.738529Z"
    },
    "lines_to_next_cell": 1,
    "papermill": {
     "duration": 0.028057,
     "end_time": "2024-04-18T14:41:06.741132",
     "exception": false,
     "start_time": "2024-04-18T14:41:06.713075",
     "status": "completed"
    },
    "tags": []
   },
   "outputs": [],
   "source": [
    "class Solution:\n",
    "    def countSubstrings(self, s: str, c: str) -> int:\n",
    "        count = 0\n",
    "        for ch in s:\n",
    "            if ch == c:\n",
    "                count += 1\n",
    "        return (count * (count + 1)) / 2\n",
    "\n",
    "# Testing the solution\n",
    "assert Solution().countSubstrings(\"abada\", \"a\") == 6\n",
    "assert Solution().countSubstrings(\"zzz\", \"z\") == 6"
   ]
  },
  {
   "cell_type": "code",
   "execution_count": 14,
   "id": "a0a48e4b",
   "metadata": {
    "execution": {
     "iopub.execute_input": "2024-04-18T14:41:06.782333Z",
     "iopub.status.busy": "2024-04-18T14:41:06.781718Z",
     "iopub.status.idle": "2024-04-18T14:41:06.788668Z",
     "shell.execute_reply": "2024-04-18T14:41:06.787918Z"
    },
    "lines_to_next_cell": 1,
    "papermill": {
     "duration": 0.02937,
     "end_time": "2024-04-18T14:41:06.790435",
     "exception": false,
     "start_time": "2024-04-18T14:41:06.761065",
     "status": "completed"
    },
    "tags": []
   },
   "outputs": [],
   "source": [
    "class Solution:\n",
    "    def minimumDeletions(self, word: str, k: int) -> int:\n",
    "        freq: list[int] = sorted(collections.Counter(word).values())\n",
    "        N = len(freq)\n",
    "\n",
    "        result = math.inf\n",
    "        sum_ = 0\n",
    "        for i in range(N):\n",
    "            sum_ += freq[i - 1] if i > 0 else 0\n",
    "            curr_ = 0\n",
    "            for j in range(i + 1, N):\n",
    "                if freq[j] - freq[i] > k:\n",
    "                    curr_ += freq[j] - freq[i] - k\n",
    "            result = min(curr_ + sum_, result)\n",
    "\n",
    "        return result\n",
    "\n",
    "# Testing the solution\n",
    "assert Solution().minimumDeletions(\"aabcaba\", 0) == 3\n",
    "assert Solution().minimumDeletions(\"dabdcbdcdcd\", 2) == 2\n",
    "assert Solution().minimumDeletions(\"aaabaaa\", 2) == 1"
   ]
  },
  {
   "cell_type": "markdown",
   "id": "acd2120e",
   "metadata": {
    "papermill": {
     "duration": 0.019676,
     "end_time": "2024-04-18T14:41:06.830064",
     "exception": false,
     "start_time": "2024-04-18T14:41:06.810388",
     "status": "completed"
    },
    "tags": []
   },
   "source": [
    "Leetcode Weekly contest - 17th March\n",
    "Link: https://leetcode.com/problems/search-in-rotated-sorted-array/submissions/1210464524/"
   ]
  },
  {
   "cell_type": "code",
   "execution_count": 15,
   "id": "f7960549",
   "metadata": {
    "execution": {
     "iopub.execute_input": "2024-04-18T14:41:06.870701Z",
     "iopub.status.busy": "2024-04-18T14:41:06.870199Z",
     "iopub.status.idle": "2024-04-18T14:41:06.877831Z",
     "shell.execute_reply": "2024-04-18T14:41:06.877005Z"
    },
    "lines_to_next_cell": 1,
    "papermill": {
     "duration": 0.029757,
     "end_time": "2024-04-18T14:41:06.879497",
     "exception": false,
     "start_time": "2024-04-18T14:41:06.849740",
     "status": "completed"
    },
    "tags": []
   },
   "outputs": [],
   "source": [
    "class Solution:\n",
    "    def search(self, nums: list[int], target: int) -> int:\n",
    "        N = len(nums)\n",
    "        low, high = 0, N - 1\n",
    "        while low <= high:\n",
    "            mid = (low + high) // 2\n",
    "            if nums[mid] == target:\n",
    "                return mid\n",
    "\n",
    "            # Left portion is sorted\n",
    "            elif nums[low] <= nums[mid]:\n",
    "                if nums[low] <= target <= nums[mid]:\n",
    "                    high = mid - 1\n",
    "                else:\n",
    "                    low = mid + 1\n",
    "\n",
    "            # Right portion is sorted\n",
    "            else:\n",
    "                if nums[mid] <= target <= nums[high]:\n",
    "                    low = mid + 1\n",
    "                else:\n",
    "                    high = mid - 1\n",
    "\n",
    "        # Not found\n",
    "        else:\n",
    "            return -1\n",
    "\n",
    "# Testing the solution\n",
    "assert Solution().search([4,5,6,7,0,1,2], 0) == 4\n",
    "assert Solution().search([4,5,6,7,0,1,2], 3) == -1\n",
    "assert Solution().search([1], 0) == -1"
   ]
  },
  {
   "cell_type": "markdown",
   "id": "6d00645d",
   "metadata": {
    "papermill": {
     "duration": 0.019778,
     "end_time": "2024-04-18T14:41:06.919285",
     "exception": false,
     "start_time": "2024-04-18T14:41:06.899507",
     "status": "completed"
    },
    "tags": []
   },
   "source": [
    "Leetcode weekly contest 24th March, 2024"
   ]
  },
  {
   "cell_type": "code",
   "execution_count": 16,
   "id": "4115c1b7",
   "metadata": {
    "execution": {
     "iopub.execute_input": "2024-04-18T14:41:06.960877Z",
     "iopub.status.busy": "2024-04-18T14:41:06.960222Z",
     "iopub.status.idle": "2024-04-18T14:41:06.967116Z",
     "shell.execute_reply": "2024-04-18T14:41:06.966299Z"
    },
    "lines_to_next_cell": 1,
    "papermill": {
     "duration": 0.030019,
     "end_time": "2024-04-18T14:41:06.968859",
     "exception": false,
     "start_time": "2024-04-18T14:41:06.938840",
     "status": "completed"
    },
    "tags": []
   },
   "outputs": [],
   "source": [
    "# Q1 - Easy\n",
    "class Solution:\n",
    "    def maximumLengthSubstring(self, s: str) -> int:\n",
    "        # Brute force\n",
    "        N = len(s)\n",
    "        max_ = 0\n",
    "        for i in range(N - 1):\n",
    "            counts = {s[i]: 1}\n",
    "            for j in range(i + 1, N):\n",
    "                curr_count = counts.get(s[j], 0) + 1\n",
    "                if curr_count > 2:\n",
    "                    break\n",
    "                else:\n",
    "                    counts[s[j]] = curr_count\n",
    "                    max_ = max(max_, j - i + 1)\n",
    "        return max_\n",
    "\n",
    "# Testing the solution\n",
    "assert Solution().maximumLengthSubstring(\"bcbbbcba\") == 4\n",
    "assert Solution().maximumLengthSubstring(\"aaaa\") == 2"
   ]
  },
  {
   "cell_type": "code",
   "execution_count": 17,
   "id": "d41b9204",
   "metadata": {
    "execution": {
     "iopub.execute_input": "2024-04-18T14:41:07.010499Z",
     "iopub.status.busy": "2024-04-18T14:41:07.009988Z",
     "iopub.status.idle": "2024-04-18T14:41:07.015756Z",
     "shell.execute_reply": "2024-04-18T14:41:07.015085Z"
    },
    "lines_to_next_cell": 1,
    "papermill": {
     "duration": 0.02835,
     "end_time": "2024-04-18T14:41:07.017395",
     "exception": false,
     "start_time": "2024-04-18T14:41:06.989045",
     "status": "completed"
    },
    "tags": []
   },
   "outputs": [],
   "source": [
    "# Q2 - Medium\n",
    "class Solution:\n",
    "    def minOperations(self, k: int) -> int:\n",
    "        \"Can be optimized with binary search\"\n",
    "        min_ = k - 1\n",
    "        for i in range(1, k):\n",
    "            curr = i + math.ceil(k / i) - 2\n",
    "            if curr < min_:\n",
    "                min_ = curr\n",
    "\n",
    "        return min_\n",
    "\n",
    "# Testing the solution\n",
    "assert Solution().minOperations(11) == 5\n",
    "assert Solution().minOperations(1) == 0"
   ]
  },
  {
   "cell_type": "code",
   "execution_count": 18,
   "id": "51f6c341",
   "metadata": {
    "execution": {
     "iopub.execute_input": "2024-04-18T14:41:07.058781Z",
     "iopub.status.busy": "2024-04-18T14:41:07.058227Z",
     "iopub.status.idle": "2024-04-18T14:41:07.065196Z",
     "shell.execute_reply": "2024-04-18T14:41:07.064458Z"
    },
    "lines_to_next_cell": 1,
    "papermill": {
     "duration": 0.029353,
     "end_time": "2024-04-18T14:41:07.066824",
     "exception": false,
     "start_time": "2024-04-18T14:41:07.037471",
     "status": "completed"
    },
    "tags": []
   },
   "outputs": [],
   "source": [
    "# Q3 - Medium (Timeout)\n",
    "class Solution:\n",
    "    def mostFrequentIDs(self, nums: list[int], freq: list[int]) -> list[int]:\n",
    "        \"Brute force: O(N^2)\"\n",
    "        N = len(nums)\n",
    "        counter = dict()\n",
    "        result: list[int] = []\n",
    "        for i in range(N):\n",
    "            counter[nums[i]] = counter.get(nums[i], 0) + freq[i]\n",
    "            curr_max = max(counter.items(), key=lambda x: x[1])\n",
    "            result.append(curr_max[1])\n",
    "\n",
    "        return result\n",
    "\n",
    "# Testing the solution\n",
    "assert Solution().mostFrequentIDs([5,5,3], [2,-2,1]) == [2, 0, 1]\n",
    "assert Solution().mostFrequentIDs([2,3,2,1], [3,2,-3,1]) == [3,3,2,2]"
   ]
  },
  {
   "cell_type": "markdown",
   "id": "f581903e",
   "metadata": {
    "papermill": {
     "duration": 0.019664,
     "end_time": "2024-04-18T14:41:07.106273",
     "exception": false,
     "start_time": "2024-04-18T14:41:07.086609",
     "status": "completed"
    },
    "tags": []
   },
   "source": [
    "Category: Medium\n",
    "Video Link: https://leetcode.com/problems/find-the-duplicate-number"
   ]
  },
  {
   "cell_type": "code",
   "execution_count": 19,
   "id": "08bb3876",
   "metadata": {
    "execution": {
     "iopub.execute_input": "2024-04-18T14:41:07.147344Z",
     "iopub.status.busy": "2024-04-18T14:41:07.146811Z",
     "iopub.status.idle": "2024-04-18T14:41:07.155250Z",
     "shell.execute_reply": "2024-04-18T14:41:07.154594Z"
    },
    "lines_to_next_cell": 1,
    "papermill": {
     "duration": 0.030862,
     "end_time": "2024-04-18T14:41:07.156926",
     "exception": false,
     "start_time": "2024-04-18T14:41:07.126064",
     "status": "completed"
    },
    "tags": []
   },
   "outputs": [],
   "source": [
    "class Solution:\n",
    "    def findDuplicate_(self, nums: list[int]) -> int:\n",
    "        # Time - O(N log N)\n",
    "        nums.sort()\n",
    "\n",
    "        # Time - O(N)\n",
    "        for i in range(len(nums) -1):\n",
    "            if nums[i] == nums[i + 1]:\n",
    "                return nums[i]\n",
    "\n",
    "        return -1\n",
    "\n",
    "    def findDuplicate(self, nums: list[int]) -> int:\n",
    "        def backtrack(start: int) -> None | int:\n",
    "            next_ = nums[start]\n",
    "            if next_ == -1:\n",
    "                return start\n",
    "            else:\n",
    "                nums[start] = -1\n",
    "                return backtrack(next_)\n",
    "\n",
    "        for i in range(len(nums)):\n",
    "            if nums[i] == i:\n",
    "                nums[i] = -1\n",
    "            else:\n",
    "                curr = backtrack(nums[i])\n",
    "                if curr is not None:\n",
    "                    return curr\n",
    "        else:\n",
    "            return -1\n",
    "\n",
    "# Testing the solution\n",
    "assert Solution().findDuplicate([1,3,4,2,2]) == 2\n",
    "assert Solution().findDuplicate([3,1,3,4,2]) == 3\n",
    "assert Solution().findDuplicate([3,3,3,3,3]) == 3"
   ]
  },
  {
   "cell_type": "markdown",
   "id": "18a3ddfa",
   "metadata": {
    "papermill": {
     "duration": 0.019576,
     "end_time": "2024-04-18T14:41:07.196460",
     "exception": false,
     "start_time": "2024-04-18T14:41:07.176884",
     "status": "completed"
    },
    "tags": []
   },
   "source": [
    "#### Leetcode Contest: 31st March 2024 (# 391)"
   ]
  },
  {
   "cell_type": "code",
   "execution_count": 20,
   "id": "94eae322",
   "metadata": {
    "execution": {
     "iopub.execute_input": "2024-04-18T14:41:07.236873Z",
     "iopub.status.busy": "2024-04-18T14:41:07.236631Z",
     "iopub.status.idle": "2024-04-18T14:41:07.240947Z",
     "shell.execute_reply": "2024-04-18T14:41:07.240293Z"
    },
    "lines_to_next_cell": 1,
    "papermill": {
     "duration": 0.026501,
     "end_time": "2024-04-18T14:41:07.242666",
     "exception": false,
     "start_time": "2024-04-18T14:41:07.216165",
     "status": "completed"
    },
    "tags": []
   },
   "outputs": [],
   "source": [
    "# Q1 - Easy\n",
    "class Solution:\n",
    "    def sumOfTheDigitsOfHarshadNumber(self, x: int) -> int:\n",
    "        result = sum(map(int, str(x)))\n",
    "        if x % result == 0:\n",
    "            return result\n",
    "        else:\n",
    "            return -1"
   ]
  },
  {
   "cell_type": "code",
   "execution_count": 21,
   "id": "3820ddc5",
   "metadata": {
    "execution": {
     "iopub.execute_input": "2024-04-18T14:41:07.283597Z",
     "iopub.status.busy": "2024-04-18T14:41:07.282957Z",
     "iopub.status.idle": "2024-04-18T14:41:07.290098Z",
     "shell.execute_reply": "2024-04-18T14:41:07.289470Z"
    },
    "lines_to_next_cell": 1,
    "papermill": {
     "duration": 0.029322,
     "end_time": "2024-04-18T14:41:07.291730",
     "exception": false,
     "start_time": "2024-04-18T14:41:07.262408",
     "status": "completed"
    },
    "tags": []
   },
   "outputs": [],
   "source": [
    "# Q2 - Medium\n",
    "class Solution:\n",
    "    def maxBottlesDrunk(self, numBottles: int, numExchange: int) -> int:\n",
    "        def exchange(empty: int, exchange: int) -> tuple[int, int, int]:\n",
    "            \"\"\"\n",
    "            Given count of empty bottles and start exchange rate,\n",
    "            returns number of full bottles we can form and the updated exchange rate\n",
    "\n",
    "            For eg:\n",
    "\n",
    "            empty = 10, exchange = 1\n",
    "\n",
    "             E, R, F\n",
    "            10, 1, 0\n",
    "            9,  2, 1\n",
    "            7,  3, 2\n",
    "            4,  4, 3\n",
    "            0,  5, 4\n",
    "\n",
    "            empty = 9, exchange = 1\n",
    "\n",
    "            E, R, F\n",
    "            9, 1, 0\n",
    "            8, 2, 1\n",
    "            6, 3, 2\n",
    "            3, 4, 3\n",
    "\n",
    "            \"\"\"\n",
    "            filled = 0\n",
    "            while empty >= exchange:\n",
    "                empty -= exchange\n",
    "                exchange += 1\n",
    "                filled += 1\n",
    "\n",
    "            return empty, exchange, filled\n",
    "\n",
    "        total = empty = 0\n",
    "        while numBottles:\n",
    "            total += numBottles\n",
    "            empty, numBottles = empty + numBottles, 0\n",
    "            empty, numExchange, numBottles = exchange(empty, numExchange)\n",
    "\n",
    "        return total\n",
    "\n",
    "# Testing the solution\n",
    "assert Solution().maxBottlesDrunk(10, 3) == 13\n",
    "assert Solution().maxBottlesDrunk(13, 6) == 15"
   ]
  },
  {
   "cell_type": "code",
   "execution_count": 22,
   "id": "76322274",
   "metadata": {
    "execution": {
     "iopub.execute_input": "2024-04-18T14:41:07.333219Z",
     "iopub.status.busy": "2024-04-18T14:41:07.332597Z",
     "iopub.status.idle": "2024-04-18T14:41:07.338699Z",
     "shell.execute_reply": "2024-04-18T14:41:07.338036Z"
    },
    "lines_to_next_cell": 1,
    "papermill": {
     "duration": 0.028524,
     "end_time": "2024-04-18T14:41:07.340341",
     "exception": false,
     "start_time": "2024-04-18T14:41:07.311817",
     "status": "completed"
    },
    "tags": []
   },
   "outputs": [],
   "source": [
    "# Q3 - Medium\n",
    "class Solution:\n",
    "    def countAlternatingSubarrays(self, nums: list[int]) -> int:\n",
    "        count, curr, N = 0, 0, len(nums)\n",
    "        for i in range(N + 1):\n",
    "            if i == 0 or (i < N and nums[i - 1] != nums[i]):\n",
    "                curr += 1\n",
    "            else:\n",
    "                count += (curr * (curr + 1)) // 2\n",
    "                curr = 1\n",
    "\n",
    "        return count\n",
    "\n",
    "# Testing the solution\n",
    "assert Solution().countAlternatingSubarrays([1,0,1,0]) == 10\n",
    "assert Solution().countAlternatingSubarrays( [0,1,1,1]) == 5"
   ]
  },
  {
   "cell_type": "markdown",
   "id": "aa42e3c4",
   "metadata": {
    "papermill": {
     "duration": 0.019581,
     "end_time": "2024-04-18T14:41:07.379795",
     "exception": false,
     "start_time": "2024-04-18T14:41:07.360214",
     "status": "completed"
    },
    "tags": []
   },
   "source": [
    "Easy Leetcode question: https://leetcode.com/problems/minimum-common-value"
   ]
  },
  {
   "cell_type": "code",
   "execution_count": 23,
   "id": "d2e96902",
   "metadata": {
    "execution": {
     "iopub.execute_input": "2024-04-18T14:41:07.421066Z",
     "iopub.status.busy": "2024-04-18T14:41:07.420384Z",
     "iopub.status.idle": "2024-04-18T14:41:07.426524Z",
     "shell.execute_reply": "2024-04-18T14:41:07.425889Z"
    },
    "lines_to_next_cell": 1,
    "papermill": {
     "duration": 0.028498,
     "end_time": "2024-04-18T14:41:07.428228",
     "exception": false,
     "start_time": "2024-04-18T14:41:07.399730",
     "status": "completed"
    },
    "tags": []
   },
   "outputs": [],
   "source": [
    "def getCommon(nums1: list[int], nums2: list[int]) -> int:\n",
    "    N1, N2 = len(nums1), len(nums2)\n",
    "    i = j = 0\n",
    "    while i < N1 and j < N2:\n",
    "        if nums1[i] == nums2[j]:\n",
    "            return nums1[i]\n",
    "        elif nums1[i] < nums2[j]:\n",
    "            i += 1\n",
    "        else:\n",
    "            j += 1\n",
    "\n",
    "    return -1\n",
    "\n",
    "# Testing the solution\n",
    "assert getCommon([1, 2, 3], [2, 4]) == 2\n",
    "assert getCommon([1, 2, 3], [4, 5, 6]) == -1\n",
    "assert getCommon([1, 2, 3], [3]) == 3"
   ]
  },
  {
   "cell_type": "markdown",
   "id": "60f3c0df",
   "metadata": {
    "papermill": {
     "duration": 0.019681,
     "end_time": "2024-04-18T14:41:07.467985",
     "exception": false,
     "start_time": "2024-04-18T14:41:07.448304",
     "status": "completed"
    },
    "tags": []
   },
   "source": [
    "Diameter of binary Tree\n",
    "Problem Link: https://leetcode.com/problems/diameter-of-binary-tree/submissions/1222192232"
   ]
  },
  {
   "cell_type": "code",
   "execution_count": 24,
   "id": "e0fb0a0f",
   "metadata": {
    "execution": {
     "iopub.execute_input": "2024-04-18T14:41:07.510167Z",
     "iopub.status.busy": "2024-04-18T14:41:07.509542Z",
     "iopub.status.idle": "2024-04-18T14:41:07.515735Z",
     "shell.execute_reply": "2024-04-18T14:41:07.515080Z"
    },
    "lines_to_next_cell": 1,
    "papermill": {
     "duration": 0.029664,
     "end_time": "2024-04-18T14:41:07.517424",
     "exception": false,
     "start_time": "2024-04-18T14:41:07.487760",
     "status": "completed"
    },
    "tags": []
   },
   "outputs": [],
   "source": [
    "def diameterOfBinaryTree(root: BinaryTreeNode) -> int:\n",
    "    \"\"\"\n",
    "    1. Perform a post order traversal\n",
    "    2. Keep updating a global max_ variable as max(max_, left + right) before returning. This is our final result.\n",
    "    3. At each recursive step, return max(left, right)\n",
    "    \"\"\"\n",
    "\n",
    "    result: int = 0\n",
    "    def postOrder(curr: BinaryTreeNode) -> int:\n",
    "        nonlocal result\n",
    "        if not curr:\n",
    "            return 0\n",
    "        else:\n",
    "            left_max = postOrder(curr.left)\n",
    "            right_max = postOrder(curr.right)\n",
    "            result = max(result, left_max + right_max)\n",
    "            return max(left_max, right_max) + 1\n",
    "\n",
    "    postOrder(root)\n",
    "    return result\n",
    "\n",
    "# Testing the solution\n",
    "assert diameterOfBinaryTree(BinaryTreeNode.from_array([1, 2, 3, 4, 5])) == 3\n",
    "assert diameterOfBinaryTree(BinaryTreeNode.from_array([1, 2])) == 1"
   ]
  },
  {
   "cell_type": "markdown",
   "id": "95066bc4",
   "metadata": {
    "papermill": {
     "duration": 0.019562,
     "end_time": "2024-04-18T14:41:07.556774",
     "exception": false,
     "start_time": "2024-04-18T14:41:07.537212",
     "status": "completed"
    },
    "tags": []
   },
   "source": [
    "Easy Leetcode question \n",
    "Problem Link: https://leetcode.com/problems/largest-3-same-digit-number-in-string/submissions/1222201215/"
   ]
  },
  {
   "cell_type": "code",
   "execution_count": 25,
   "id": "dd3767a4",
   "metadata": {
    "execution": {
     "iopub.execute_input": "2024-04-18T14:41:07.598002Z",
     "iopub.status.busy": "2024-04-18T14:41:07.597340Z",
     "iopub.status.idle": "2024-04-18T14:41:07.606584Z",
     "shell.execute_reply": "2024-04-18T14:41:07.605829Z"
    },
    "lines_to_next_cell": 1,
    "papermill": {
     "duration": 0.031671,
     "end_time": "2024-04-18T14:41:07.608200",
     "exception": false,
     "start_time": "2024-04-18T14:41:07.576529",
     "status": "completed"
    },
    "tags": []
   },
   "outputs": [
    {
     "data": {
      "text/plain": [
       "'777'"
      ]
     },
     "execution_count": 25,
     "metadata": {},
     "output_type": "execute_result"
    }
   ],
   "source": [
    "def largestGoodInteger(num: str) -> str:\n",
    "    for n in \"9876543210\":\n",
    "        if n * 3 in num:\n",
    "            return n * 3\n",
    "    else:\n",
    "        return \"\"\n",
    "\n",
    "# Testing the solution\n",
    "largestGoodInteger(\"6777133339\")"
   ]
  },
  {
   "cell_type": "markdown",
   "id": "90d38ef2",
   "metadata": {
    "papermill": {
     "duration": 0.019692,
     "end_time": "2024-04-18T14:41:07.648286",
     "exception": false,
     "start_time": "2024-04-18T14:41:07.628594",
     "status": "completed"
    },
    "tags": []
   },
   "source": [
    "Easy Leetcode question\n",
    "Problem Link: https://leetcode.com/problems/largest-odd-number-in-string/submissions/1222208825"
   ]
  },
  {
   "cell_type": "code",
   "execution_count": 26,
   "id": "ba91d179",
   "metadata": {
    "execution": {
     "iopub.execute_input": "2024-04-18T14:41:07.689326Z",
     "iopub.status.busy": "2024-04-18T14:41:07.688767Z",
     "iopub.status.idle": "2024-04-18T14:41:07.695344Z",
     "shell.execute_reply": "2024-04-18T14:41:07.694580Z"
    },
    "lines_to_next_cell": 1,
    "papermill": {
     "duration": 0.028959,
     "end_time": "2024-04-18T14:41:07.697038",
     "exception": false,
     "start_time": "2024-04-18T14:41:07.668079",
     "status": "completed"
    },
    "tags": []
   },
   "outputs": [
    {
     "data": {
      "text/plain": [
       "'35427'"
      ]
     },
     "execution_count": 26,
     "metadata": {},
     "output_type": "execute_result"
    }
   ],
   "source": [
    "def largestOddNumber(num: str) -> str:\n",
    "    N = len(num)\n",
    "    for i in range(N - 1, -1, -1):\n",
    "        if int(num[i]) % 2 == 1:\n",
    "            return num[:i + 1]\n",
    "    else:\n",
    "        return \"\"\n",
    "\n",
    "# Testing the solution\n",
    "largestOddNumber(\"354278\")"
   ]
  },
  {
   "cell_type": "markdown",
   "id": "84ba2176",
   "metadata": {
    "papermill": {
     "duration": 0.020058,
     "end_time": "2024-04-18T14:41:07.737467",
     "exception": false,
     "start_time": "2024-04-18T14:41:07.717409",
     "status": "completed"
    },
    "tags": []
   },
   "source": [
    "Leetcode easy problem: https://leetcode.com/problems/make-the-string-great/submissions/1224126212"
   ]
  },
  {
   "cell_type": "code",
   "execution_count": 27,
   "id": "94ade9d0",
   "metadata": {
    "execution": {
     "iopub.execute_input": "2024-04-18T14:41:07.778854Z",
     "iopub.status.busy": "2024-04-18T14:41:07.778240Z",
     "iopub.status.idle": "2024-04-18T14:41:07.783622Z",
     "shell.execute_reply": "2024-04-18T14:41:07.782951Z"
    },
    "lines_to_next_cell": 1,
    "papermill": {
     "duration": 0.027995,
     "end_time": "2024-04-18T14:41:07.785394",
     "exception": false,
     "start_time": "2024-04-18T14:41:07.757399",
     "status": "completed"
    },
    "tags": []
   },
   "outputs": [],
   "source": [
    "def makeGood(s: str) -> str:\n",
    "    stack: list[str] = []\n",
    "    for c in s:\n",
    "        if not stack or c.lower() != stack[-1].lower() or ord(c) == ord(stack[-1]):\n",
    "            stack.append(c)\n",
    "        else:\n",
    "            stack.pop()\n",
    "\n",
    "    return \"\".join(stack)\n",
    "\n",
    "assert makeGood(\"leeEetcode\") == \"leetcode\"\n",
    "assert makeGood(\"abBAcC\") == \"\""
   ]
  },
  {
   "cell_type": "markdown",
   "id": "b5cc8f93",
   "metadata": {
    "papermill": {
     "duration": 0.020019,
     "end_time": "2024-04-18T14:41:07.825558",
     "exception": false,
     "start_time": "2024-04-18T14:41:07.805539",
     "status": "completed"
    },
    "tags": []
   },
   "source": [
    "#### Code Gladiators - 2k24"
   ]
  },
  {
   "cell_type": "code",
   "execution_count": 28,
   "id": "4fe7023d",
   "metadata": {
    "execution": {
     "iopub.execute_input": "2024-04-18T14:41:07.867107Z",
     "iopub.status.busy": "2024-04-18T14:41:07.866847Z",
     "iopub.status.idle": "2024-04-18T14:41:07.877063Z",
     "shell.execute_reply": "2024-04-18T14:41:07.876398Z"
    },
    "lines_to_next_cell": 1,
    "papermill": {
     "duration": 0.033079,
     "end_time": "2024-04-18T14:41:07.878787",
     "exception": false,
     "start_time": "2024-04-18T14:41:07.845708",
     "status": "completed"
    },
    "tags": []
   },
   "outputs": [],
   "source": [
    "# Q1\n",
    "def Q1(P: int, X: int, R1: int, N: int, Y: int, R2: int):\n",
    "\n",
    "    # Get travel time for comparison\n",
    "    t1 = (P / X) + R1\n",
    "    t2 = (N / Y) + R2\n",
    "\n",
    "    if t1 < t2:\n",
    "        return \"NINA\"\n",
    "    elif t1 > t2:\n",
    "        return \"PAUL\"\n",
    "    else:\n",
    "        return \"BOTH\"\n",
    "\n",
    "# Q2:\n",
    "def Q2(arr: list[int], N: int) -> int:\n",
    "\n",
    "    def getPair(i: int, target: int) -> int:\n",
    "        \"Returns pair index j, such that arr[i] + arr[j] == target, returns -1 if not possible\"\n",
    "        for j in positions.get(target - arr[i], []):\n",
    "            if j != i and j not in picked:\n",
    "                return j\n",
    "        else:\n",
    "            return -1\n",
    "\n",
    "    # Store all the values to a dict for quick reverse lookups\n",
    "    positions: dict[int, list] = dict()\n",
    "    for i in range(N):\n",
    "        indices: list[int] = positions.get(arr[i], [])\n",
    "        indices.append(i)\n",
    "        positions[arr[i]] = indices\n",
    "\n",
    "    # Weights can be between 2 * min_, 2 * max_\n",
    "    max_count = 0\n",
    "    for total_weight in range(min(arr) * 2, (max(arr) * 2) + 1):\n",
    "        count = 0\n",
    "        picked: set[int] = set()\n",
    "        for i in range(N):\n",
    "            j = getPair(i, total_weight) if i not in picked else -1\n",
    "            if j != -1:\n",
    "                picked.add(i)\n",
    "                picked.add(j)\n",
    "                count += 1\n",
    "\n",
    "        max_count = max(max_count, count)\n",
    "\n",
    "    return max_count\n",
    "\n",
    "# Testing the solution\n",
    "assert Q2([1, 1, 3, 4, 2, 2], 6) == 2"
   ]
  },
  {
   "cell_type": "markdown",
   "id": "10f9ae1d",
   "metadata": {
    "papermill": {
     "duration": 0.019908,
     "end_time": "2024-04-18T14:41:07.918766",
     "exception": false,
     "start_time": "2024-04-18T14:41:07.898858",
     "status": "completed"
    },
    "tags": []
   },
   "source": [
    "Problem link: https://leetcode.com/problems/time-needed-to-buy-tickets/submissions/1227477603"
   ]
  },
  {
   "cell_type": "code",
   "execution_count": 29,
   "id": "a8665a6b",
   "metadata": {
    "execution": {
     "iopub.execute_input": "2024-04-18T14:41:07.959905Z",
     "iopub.status.busy": "2024-04-18T14:41:07.959331Z",
     "iopub.status.idle": "2024-04-18T14:41:07.965032Z",
     "shell.execute_reply": "2024-04-18T14:41:07.964274Z"
    },
    "lines_to_next_cell": 1,
    "papermill": {
     "duration": 0.027931,
     "end_time": "2024-04-18T14:41:07.966640",
     "exception": false,
     "start_time": "2024-04-18T14:41:07.938709",
     "status": "completed"
    },
    "tags": []
   },
   "outputs": [],
   "source": [
    "# Time: O(N), Space: O(1)\n",
    "def timeRequiredToBuy(tickets: list[int], k: int) -> int:\n",
    "    total = 0\n",
    "    for i in range(len(tickets)):\n",
    "        if i <= k:\n",
    "            total += min(tickets[k], tickets[i])\n",
    "        else:\n",
    "            total += min(tickets[k] - 1, tickets[i])\n",
    "\n",
    "    return total\n",
    "\n",
    "# Testing the Solution\n",
    "assert timeRequiredToBuy(tickets=[5, 1, 1, 1],  k=0) == 8\n",
    "assert timeRequiredToBuy(tickets=[2, 3, 2], k=2) == 6"
   ]
  },
  {
   "cell_type": "markdown",
   "id": "a8388f4e",
   "metadata": {
    "papermill": {
     "duration": 0.020061,
     "end_time": "2024-04-18T14:41:08.006966",
     "exception": false,
     "start_time": "2024-04-18T14:41:07.986905",
     "status": "completed"
    },
    "tags": []
   },
   "source": [
    "Problem Link: https://leetcode.com/problems/number-of-students-unable-to-eat-lunch/submissions/1227492211"
   ]
  },
  {
   "cell_type": "code",
   "execution_count": 30,
   "id": "c54b1d35",
   "metadata": {
    "execution": {
     "iopub.execute_input": "2024-04-18T14:41:08.048607Z",
     "iopub.status.busy": "2024-04-18T14:41:08.047964Z",
     "iopub.status.idle": "2024-04-18T14:41:08.053869Z",
     "shell.execute_reply": "2024-04-18T14:41:08.053233Z"
    },
    "lines_to_next_cell": 1,
    "papermill": {
     "duration": 0.028562,
     "end_time": "2024-04-18T14:41:08.055599",
     "exception": false,
     "start_time": "2024-04-18T14:41:08.027037",
     "status": "completed"
    },
    "tags": []
   },
   "outputs": [],
   "source": [
    "def countStudents(students: list[int], sandwiches: list[int]) -> int:\n",
    "    stud_pref: dict[int, int] = collections.Counter(students)\n",
    "    for n in sandwiches:\n",
    "        if stud_pref.get(n, 0) == 0:\n",
    "            return stud_pref.get(0, 0) + stud_pref.get(1, 0)\n",
    "        else:\n",
    "            stud_pref[n] -= 1\n",
    "    return 0\n",
    "\n",
    "# Testing the Solution\n",
    "assert countStudents([1,1,0,0], [0,1,0,1]) == 0\n",
    "assert countStudents([1,1,1,0,0,1], [1,0,0,0,1,1]) == 3"
   ]
  },
  {
   "cell_type": "markdown",
   "id": "bae9e756",
   "metadata": {
    "papermill": {
     "duration": 0.019864,
     "end_time": "2024-04-18T14:41:08.095494",
     "exception": false,
     "start_time": "2024-04-18T14:41:08.075630",
     "status": "completed"
    },
    "tags": []
   },
   "source": [
    "All root to leaf paths in a Binary Tree"
   ]
  },
  {
   "cell_type": "code",
   "execution_count": 31,
   "id": "9b941cc0",
   "metadata": {
    "execution": {
     "iopub.execute_input": "2024-04-18T14:41:08.137469Z",
     "iopub.status.busy": "2024-04-18T14:41:08.136812Z",
     "iopub.status.idle": "2024-04-18T14:41:08.144839Z",
     "shell.execute_reply": "2024-04-18T14:41:08.144088Z"
    },
    "lines_to_next_cell": 1,
    "papermill": {
     "duration": 0.030975,
     "end_time": "2024-04-18T14:41:08.146697",
     "exception": false,
     "start_time": "2024-04-18T14:41:08.115722",
     "status": "completed"
    },
    "tags": []
   },
   "outputs": [],
   "source": [
    "def allRootToLeaf(root: BinaryTreeNode) -> list[str]:\n",
    "    \"\"\"\n",
    "    1. Do a pre order traversal.\n",
    "    2. When a leaf node is encountered. Append the path to result.\n",
    "    3. If not a leaf node, concat to a growing string path.\n",
    "    \"\"\"\n",
    "\n",
    "    paths: list[str] = []\n",
    "    def preOrder(curr: BinaryTreeNode, traveled: list[str]):\n",
    "        traveled.append(str(curr.val))\n",
    "\n",
    "        if not curr.left and not curr.right:\n",
    "            nonlocal paths\n",
    "            paths.append(\" \".join(traveled))\n",
    "        if curr.left:\n",
    "            preOrder(curr.left, traveled)\n",
    "        if curr.right:\n",
    "            preOrder(curr.right, traveled)\n",
    "\n",
    "        traveled.pop()\n",
    "\n",
    "    preOrder(root, [])\n",
    "    return paths\n",
    "\n",
    "# Testing the solution\n",
    "for ques, ans in (\n",
    "        ([1, 2, 3, 4, None, 5, 6, None, 7, None, None, None, None, None, None], [\"1 3 5\", \"1 3 6\", \"1 2 4 7\"]),\n",
    "        ([1, 2, 3, 4, 5, None, None, None, None, None, None], [\"1 2 4\", \"1 2 5\", \"1 3\"]),\n",
    "    ):\n",
    "    temp = allRootToLeaf(BinaryTreeNode.from_array(ques))\n",
    "    for ans_str in ans:\n",
    "        assert ans_str in temp, f\"{ans_str} not found inside result: {temp}\""
   ]
  },
  {
   "cell_type": "markdown",
   "id": "1e07c06f",
   "metadata": {
    "papermill": {
     "duration": 0.019893,
     "end_time": "2024-04-18T14:41:08.186788",
     "exception": false,
     "start_time": "2024-04-18T14:41:08.166895",
     "status": "completed"
    },
    "tags": []
   },
   "source": [
    "Problem Link: https://leetcode.com/problems/lowest-common-ancestor-of-a-binary-tree/submissions/1227536364"
   ]
  },
  {
   "cell_type": "code",
   "execution_count": 32,
   "id": "bfdc7092",
   "metadata": {
    "execution": {
     "iopub.execute_input": "2024-04-18T14:41:08.228104Z",
     "iopub.status.busy": "2024-04-18T14:41:08.227528Z",
     "iopub.status.idle": "2024-04-18T14:41:08.235707Z",
     "shell.execute_reply": "2024-04-18T14:41:08.235059Z"
    },
    "lines_to_next_cell": 1,
    "papermill": {
     "duration": 0.030511,
     "end_time": "2024-04-18T14:41:08.237406",
     "exception": false,
     "start_time": "2024-04-18T14:41:08.206895",
     "status": "completed"
    },
    "tags": []
   },
   "outputs": [],
   "source": [
    "def lowestCommonAncestor(root: BinaryTreeNode, p: BinaryTreeNode, q: BinaryTreeNode) -> BinaryTreeNode:\n",
    "    p_path: list[BinaryTreeNode] = []\n",
    "    q_path: list[BinaryTreeNode] = []\n",
    "    def getPathsFromRoot(curr: BinaryTreeNode, traveled: list[BinaryTreeNode]):\n",
    "        nonlocal p_path, q_path\n",
    "        traveled.append(curr)\n",
    "        if curr == p:\n",
    "            p_path = list(traveled)\n",
    "        if curr == q:\n",
    "            q_path = list(traveled)\n",
    "        if curr.left:\n",
    "            getPathsFromRoot(curr.left, traveled)\n",
    "        if curr.right:\n",
    "            getPathsFromRoot(curr.right, traveled)\n",
    "        traveled.pop()\n",
    "\n",
    "    getPathsFromRoot(root, [])\n",
    "\n",
    "    # Find common ancestor\n",
    "    NP, NQ = len(p_path), len(q_path)\n",
    "    i = j = 0\n",
    "    while i < NP and j < NQ and p_path[i] == q_path[j]:\n",
    "        i, j = i + 1, j + 1\n",
    "\n",
    "    return p_path[i - 1]\n",
    "\n",
    "# Testing the solution\n",
    "temp: BinaryTreeNode = BinaryTreeNode.from_array([3,5,1,6,2,0,8,None,None,7,4])\n",
    "assert lowestCommonAncestor(temp, p=temp.left, q=temp.left.right.right).val == 5"
   ]
  },
  {
   "cell_type": "markdown",
   "id": "b4388e14",
   "metadata": {
    "papermill": {
     "duration": 0.019928,
     "end_time": "2024-04-18T14:41:08.277511",
     "exception": false,
     "start_time": "2024-04-18T14:41:08.257583",
     "status": "completed"
    },
    "tags": []
   },
   "source": [
    "Problem Link: https://leetcode.com/problems/maximum-width-of-binary-tree/submissions/1228429287"
   ]
  },
  {
   "cell_type": "code",
   "execution_count": 33,
   "id": "876bfe38",
   "metadata": {
    "execution": {
     "iopub.execute_input": "2024-04-18T14:41:08.318810Z",
     "iopub.status.busy": "2024-04-18T14:41:08.318089Z",
     "iopub.status.idle": "2024-04-18T14:41:08.325491Z",
     "shell.execute_reply": "2024-04-18T14:41:08.324820Z"
    },
    "lines_to_next_cell": 1,
    "papermill": {
     "duration": 0.029754,
     "end_time": "2024-04-18T14:41:08.327195",
     "exception": false,
     "start_time": "2024-04-18T14:41:08.297441",
     "status": "completed"
    },
    "tags": []
   },
   "outputs": [],
   "source": [
    "def widthOfBinaryTree(root: BinaryTreeNode) -> int:\n",
    "    boundaries: dict[int, tuple[int, int]] = dict()\n",
    "    max_width = 1\n",
    "    def backtrack(curr: BinaryTreeNode, height: int, width: int):\n",
    "        nonlocal boundaries, max_width\n",
    "        if not curr:\n",
    "            return\n",
    "        else:\n",
    "            curr_lr = boundaries.get(height, (2 ** height, 0))\n",
    "            boundaries[height] = (min(curr_lr[0], width + 1), max(curr_lr[1], width + 1))\n",
    "            max_width = max(max_width, boundaries[height][1] - boundaries[height][0] + 1)\n",
    "            backtrack(curr.left, height + 1, width * 2)\n",
    "            backtrack(curr.right, height + 1, (width * 2) + 1)\n",
    "\n",
    "    backtrack(root, 0, 0)\n",
    "    return max_width\n",
    "\n",
    "# Testing the Solution\n",
    "assert widthOfBinaryTree(BinaryTreeNode.from_array([1, 3, 2, 5, None, None, 9, 6, None, 7])) == 7"
   ]
  },
  {
   "cell_type": "markdown",
   "id": "d1a33bbb",
   "metadata": {
    "papermill": {
     "duration": 0.019977,
     "end_time": "2024-04-18T14:41:08.367332",
     "exception": false,
     "start_time": "2024-04-18T14:41:08.347355",
     "status": "completed"
    },
    "tags": []
   },
   "source": [
    "Leetcode Easy: https://leetcode.com/problems/maximum-average-subarray-i/"
   ]
  },
  {
   "cell_type": "code",
   "execution_count": 34,
   "id": "25620d4a",
   "metadata": {
    "execution": {
     "iopub.execute_input": "2024-04-18T14:41:08.409409Z",
     "iopub.status.busy": "2024-04-18T14:41:08.408754Z",
     "iopub.status.idle": "2024-04-18T14:41:08.414161Z",
     "shell.execute_reply": "2024-04-18T14:41:08.413416Z"
    },
    "lines_to_next_cell": 1,
    "papermill": {
     "duration": 0.028323,
     "end_time": "2024-04-18T14:41:08.415925",
     "exception": false,
     "start_time": "2024-04-18T14:41:08.387602",
     "status": "completed"
    },
    "tags": []
   },
   "outputs": [],
   "source": [
    "def findMaxAverage(nums: list[int], k: int) -> float:\n",
    "    sum_ = sum(nums[:k])\n",
    "    max_avg = sum_ / k\n",
    "    for i in range(k, len(nums)):\n",
    "        sum_ = sum_ + nums[i] - nums[i - k]\n",
    "        max_avg = max(max_avg, sum_ / k)\n",
    "\n",
    "    return max_avg\n",
    "\n",
    "# Testing the solution\n",
    "assert findMaxAverage([1,12,-5,-6,50,3], 4) == 12.75\n",
    "assert findMaxAverage([5], 1) == 5"
   ]
  },
  {
   "cell_type": "markdown",
   "id": "7bcc5995",
   "metadata": {
    "papermill": {
     "duration": 0.019973,
     "end_time": "2024-04-18T14:41:08.456053",
     "exception": false,
     "start_time": "2024-04-18T14:41:08.436080",
     "status": "completed"
    },
    "tags": []
   },
   "source": [
    "Easy Leetcode Problem Link: https://leetcode.com/problems/average-of-levels-in-binary-tree/submissions/1228468053"
   ]
  },
  {
   "cell_type": "code",
   "execution_count": 35,
   "id": "7efaf1c1",
   "metadata": {
    "execution": {
     "iopub.execute_input": "2024-04-18T14:41:08.497586Z",
     "iopub.status.busy": "2024-04-18T14:41:08.496914Z",
     "iopub.status.idle": "2024-04-18T14:41:08.503077Z",
     "shell.execute_reply": "2024-04-18T14:41:08.502419Z"
    },
    "lines_to_next_cell": 1,
    "papermill": {
     "duration": 0.028701,
     "end_time": "2024-04-18T14:41:08.504817",
     "exception": false,
     "start_time": "2024-04-18T14:41:08.476116",
     "status": "completed"
    },
    "tags": []
   },
   "outputs": [],
   "source": [
    "def averageOfLevels(root: BinaryTreeNode) -> list[float]:\n",
    "    result: list[float] = []\n",
    "    queue: list[BinaryTreeNode] = [root]\n",
    "    while queue:\n",
    "        next_: list[BinaryTreeNode] = []\n",
    "        sum_ = count_ = 0\n",
    "        for curr in queue:\n",
    "            sum_, count_ = sum_ + curr.val, count_ + 1\n",
    "            if curr.left:\n",
    "                next_.append(curr.left)\n",
    "            if curr.right:\n",
    "                next_.append(curr.right)\n",
    "        result.append(sum_ / count_)\n",
    "        queue = next_\n",
    "\n",
    "    return result\n",
    "\n",
    "# Testing the solution\n",
    "assert averageOfLevels(BinaryTreeNode.from_array([3,9,20,None,None,15,7])) == [3.00,14.50,11.00]"
   ]
  },
  {
   "cell_type": "markdown",
   "id": "6edc89e5",
   "metadata": {
    "papermill": {
     "duration": 0.020177,
     "end_time": "2024-04-18T14:41:08.545228",
     "exception": false,
     "start_time": "2024-04-18T14:41:08.525051",
     "status": "completed"
    },
    "tags": []
   },
   "source": [
    "Problem Link: https://leetcode.com/problems/all-nodes-distance-k-in-binary-tree"
   ]
  },
  {
   "cell_type": "code",
   "execution_count": 36,
   "id": "2f193894",
   "metadata": {
    "execution": {
     "iopub.execute_input": "2024-04-18T14:41:08.588822Z",
     "iopub.status.busy": "2024-04-18T14:41:08.588139Z",
     "iopub.status.idle": "2024-04-18T14:41:08.599504Z",
     "shell.execute_reply": "2024-04-18T14:41:08.598746Z"
    },
    "lines_to_next_cell": 1,
    "papermill": {
     "duration": 0.035302,
     "end_time": "2024-04-18T14:41:08.601495",
     "exception": false,
     "start_time": "2024-04-18T14:41:08.566193",
     "status": "completed"
    },
    "tags": []
   },
   "outputs": [],
   "source": [
    "def distanceK(root: BinaryTreeNode, target: int, k: int) -> list[int]:\n",
    "    adl: dict[int, set[int]] = dict()\n",
    "    def createGraph(curr: BinaryTreeNode):\n",
    "        nonlocal adl\n",
    "        if curr:\n",
    "            if curr.left:\n",
    "                curr_neighbours = adl.get(curr.val, set())\n",
    "                curr_neighbours.add(curr.left.val)\n",
    "                adl[curr.val] = curr_neighbours\n",
    "                left_neighbours = adl.get(curr.left.val, set())\n",
    "                left_neighbours.add(curr.val)\n",
    "                adl[curr.left.val] = left_neighbours\n",
    "                createGraph(curr.left)\n",
    "            if curr.right:\n",
    "                curr_neighbours = adl.get(curr.val, set())\n",
    "                curr_neighbours.add(curr.right.val)\n",
    "                adl[curr.val] = curr_neighbours\n",
    "                right_neighbours = adl.get(curr.right.val, set())\n",
    "                right_neighbours.add(curr.val)\n",
    "                adl[curr.right.val] = right_neighbours\n",
    "                createGraph(curr.right)\n",
    "\n",
    "    # Create a graph out of the binary Tree\n",
    "    createGraph(root)\n",
    "\n",
    "    # Starting from our target, find all nodes at K distance using BFS\n",
    "    queue: list[int] = [target]\n",
    "    visited: set[int] = set([target])\n",
    "    while k > 0:\n",
    "        next_: list[int] = []\n",
    "        for curr in queue:\n",
    "            for neighbour in adl.get(curr, set()):\n",
    "                if neighbour not in visited:\n",
    "                    visited.add(neighbour)\n",
    "                    next_.append(neighbour)\n",
    "        queue = next_\n",
    "        k -= 1\n",
    "\n",
    "    return queue\n",
    "\n",
    "# Testing the solution\n",
    "assert sorted(distanceK(BinaryTreeNode.from_array([3,5,1,6,2,0,8,None,None,7,4]), 5, 2)) == [1, 4, 7]\n",
    "assert sorted(distanceK(BinaryTreeNode.from_array([3,5,1,6,2,0,8,None,None,7,4]), 4, 2)) == [5, 7]"
   ]
  },
  {
   "cell_type": "markdown",
   "id": "29877a02",
   "metadata": {
    "papermill": {
     "duration": 0.020378,
     "end_time": "2024-04-18T14:41:08.642120",
     "exception": false,
     "start_time": "2024-04-18T14:41:08.621742",
     "status": "completed"
    },
    "tags": []
   },
   "source": [
    "Construct BT from Preorder and Inorder\n",
    "Problem Link: https://leetcode.com/problems/construct-binary-tree-from-preorder-and-inorder-traversal/submissions/1230345366"
   ]
  },
  {
   "cell_type": "code",
   "execution_count": 37,
   "id": "7042888b",
   "metadata": {
    "execution": {
     "iopub.execute_input": "2024-04-18T14:41:08.683772Z",
     "iopub.status.busy": "2024-04-18T14:41:08.683065Z",
     "iopub.status.idle": "2024-04-18T14:41:08.692455Z",
     "shell.execute_reply": "2024-04-18T14:41:08.691795Z"
    },
    "lines_to_next_cell": 1,
    "papermill": {
     "duration": 0.031821,
     "end_time": "2024-04-18T14:41:08.694117",
     "exception": false,
     "start_time": "2024-04-18T14:41:08.662296",
     "status": "completed"
    },
    "tags": []
   },
   "outputs": [
    {
     "data": {
      "text/plain": [
       "[9, None, 20, 15, 7]"
      ]
     },
     "execution_count": 37,
     "metadata": {},
     "output_type": "execute_result"
    }
   ],
   "source": [
    "def buildTreeFromPreOrder(inorder: list[int], preorder: list[int]) -> BinaryTreeNode|None:\n",
    "    \"\"\"\n",
    "    Preorder: Root, Left, Right\n",
    "    Inorder: Left, Root, Right\n",
    "\n",
    "    Root based spliting.\n",
    "    Use Preorder to determine which of the bunch is the root.\n",
    "    Use inorder to determine which of the bunch goes to the left half and which right.\n",
    "    \"\"\"\n",
    "\n",
    "    if not inorder:\n",
    "        return None\n",
    "    else:\n",
    "        inorder_set = set(inorder)\n",
    "        for root_val in preorder:\n",
    "            if root_val in inorder_set:\n",
    "                break\n",
    "\n",
    "        root = BinaryTreeNode(root_val)\n",
    "        if len(inorder) > 1:\n",
    "            idx = inorder.index(root.val)\n",
    "            left_inorder = inorder[:idx]\n",
    "            root.left = buildTreeFromPreOrder(left_inorder, preorder)\n",
    "            right_inorder = inorder[idx + 1:]\n",
    "            root.right = buildTreeFromPreOrder(right_inorder, preorder)\n",
    "\n",
    "        return root\n",
    "\n",
    "# Testing the Solution\n",
    "buildTreeFromPreOrder(inorder=[9,15,20,7], preorder=[3,9,20,15,7]).to_list()"
   ]
  },
  {
   "cell_type": "markdown",
   "id": "2325a371",
   "metadata": {
    "papermill": {
     "duration": 0.020135,
     "end_time": "2024-04-18T14:41:08.734450",
     "exception": false,
     "start_time": "2024-04-18T14:41:08.714315",
     "status": "completed"
    },
    "tags": []
   },
   "source": [
    "Construct Binary Tree from Inorder and Postorder Traversal\n",
    "Problem Link: "
   ]
  },
  {
   "cell_type": "code",
   "execution_count": 38,
   "id": "c3a41642",
   "metadata": {
    "execution": {
     "iopub.execute_input": "2024-04-18T14:41:08.776323Z",
     "iopub.status.busy": "2024-04-18T14:41:08.775591Z",
     "iopub.status.idle": "2024-04-18T14:41:08.782913Z",
     "shell.execute_reply": "2024-04-18T14:41:08.782154Z"
    },
    "lines_to_next_cell": 1,
    "papermill": {
     "duration": 0.029965,
     "end_time": "2024-04-18T14:41:08.784582",
     "exception": false,
     "start_time": "2024-04-18T14:41:08.754617",
     "status": "completed"
    },
    "tags": []
   },
   "outputs": [
    {
     "data": {
      "text/plain": [
       "[1, 2, 5, 3, 4]"
      ]
     },
     "execution_count": 38,
     "metadata": {},
     "output_type": "execute_result"
    }
   ],
   "source": [
    "def buildTreeFromPostOrder(inorder: list[int], postorder: list[int]) -> BinaryTreeNode|None:\n",
    "    \"\"\"\n",
    "    Inorder: Root, Left, Right\n",
    "    Postorder: Left, Right, Root\n",
    "\n",
    "    Same as FromPreOrder, except that we always take the last element also present in inorder as our root.\n",
    "    Simply reverse postorder and use the same function as before.\n",
    "    \"\"\"\n",
    "    return buildTreeFromPreOrder(inorder=inorder, preorder=postorder[::-1])\n",
    "\n",
    "# Testing the Solution\n",
    "buildTreeFromPostOrder(inorder=[3, 2, 4, 1, 5], postorder=[3, 4, 2, 5, 1]).to_list()"
   ]
  },
  {
   "cell_type": "markdown",
   "id": "2e008839",
   "metadata": {
    "papermill": {
     "duration": 0.020961,
     "end_time": "2024-04-18T14:41:08.827152",
     "exception": false,
     "start_time": "2024-04-18T14:41:08.806191",
     "status": "completed"
    },
    "tags": []
   },
   "source": [
    "Medium Leetcode: https://leetcode.com/problems/remove-k-digits"
   ]
  },
  {
   "cell_type": "code",
   "execution_count": 39,
   "id": "cf7ab669",
   "metadata": {
    "execution": {
     "iopub.execute_input": "2024-04-18T14:41:08.870382Z",
     "iopub.status.busy": "2024-04-18T14:41:08.869677Z",
     "iopub.status.idle": "2024-04-18T14:41:08.877947Z",
     "shell.execute_reply": "2024-04-18T14:41:08.877297Z"
    },
    "lines_to_next_cell": 1,
    "papermill": {
     "duration": 0.03156,
     "end_time": "2024-04-18T14:41:08.879571",
     "exception": false,
     "start_time": "2024-04-18T14:41:08.848011",
     "status": "completed"
    },
    "tags": []
   },
   "outputs": [
    {
     "data": {
      "text/plain": [
       "'132219'"
      ]
     },
     "execution_count": 39,
     "metadata": {},
     "output_type": "execute_result"
    }
   ],
   "source": [
    "# Brute force solution\n",
    "def removeKdigitsBrute(num: str, k: int) -> str:\n",
    "    def removeDigit(curr: str) -> str:\n",
    "        N = len(curr)\n",
    "        for i in range(N):\n",
    "            if i == N - 1 or num[i] > num[i + 1]:\n",
    "                break\n",
    "\n",
    "        return num[:i] + num[i + 1:]\n",
    "\n",
    "    while k > 0:\n",
    "        num = removeDigit(num)\n",
    "        k -= 1\n",
    "\n",
    "    num = num.lstrip(\"0\")\n",
    "    return \"0\" if not len(num) else num\n",
    "\n",
    "# Testing the solution\n",
    "removeKdigitsBrute(\"1432219\", 1)"
   ]
  },
  {
   "cell_type": "code",
   "execution_count": 40,
   "id": "b073a96f",
   "metadata": {
    "execution": {
     "iopub.execute_input": "2024-04-18T14:41:08.921997Z",
     "iopub.status.busy": "2024-04-18T14:41:08.921425Z",
     "iopub.status.idle": "2024-04-18T14:41:08.964380Z",
     "shell.execute_reply": "2024-04-18T14:41:08.963645Z"
    },
    "lines_to_next_cell": 1,
    "papermill": {
     "duration": 0.065866,
     "end_time": "2024-04-18T14:41:08.966035",
     "exception": false,
     "start_time": "2024-04-18T14:41:08.900169",
     "status": "completed"
    },
    "tags": []
   },
   "outputs": [
    {
     "name": "stderr",
     "output_type": "stream",
     "text": [
      "\r",
      "  0%|          | 0/1000 [00:00<?, ?it/s]"
     ]
    },
    {
     "name": "stderr",
     "output_type": "stream",
     "text": [
      "\r",
      "100%|██████████| 1000/1000 [00:00<00:00, 34469.10it/s]"
     ]
    },
    {
     "name": "stderr",
     "output_type": "stream",
     "text": [
      "\n"
     ]
    }
   ],
   "source": [
    "# Optimal solution after trial and errors: https://leetcode.com/problems/remove-k-digits/submissions/1231175827 \n",
    "def removeKdigitsBetter(num: str, k: int) -> str:\n",
    "    \"Time: O(N), Space: O(N)\"\n",
    "    stack: list[str] = []\n",
    "    for n in num:\n",
    "        while stack and k > 0 and int(stack[-1]) > int(n):\n",
    "            stack.pop()\n",
    "            k -= 1\n",
    "        stack.append(n)\n",
    "\n",
    "    stack = stack[:-k] if k > 0 else stack\n",
    "    num = \"\".join(stack).lstrip(\"0\")\n",
    "    num = num if num else \"0\"\n",
    "    return num\n",
    "\n",
    "# Testing the solution\n",
    "for _ in tqdm.tqdm(range(1000)):\n",
    "    N = random.randint(1, 25)\n",
    "    i = random.randint(1, N)\n",
    "    str_ = \"\".join(random.choices(\"0123456789\", k=N))\n",
    "    assert removeKdigitsBetter(str_, i) == removeKdigitsBrute(str_, i), f\"failed for {str_}, {i}\""
   ]
  },
  {
   "cell_type": "markdown",
   "id": "48a18c10",
   "metadata": {
    "papermill": {
     "duration": 0.020899,
     "end_time": "2024-04-18T14:41:09.008142",
     "exception": false,
     "start_time": "2024-04-18T14:41:08.987243",
     "status": "completed"
    },
    "tags": []
   },
   "source": [
    "Leetcode Weekly contest - Saturday (13th Apr)"
   ]
  },
  {
   "cell_type": "code",
   "execution_count": 41,
   "id": "07cf645f",
   "metadata": {
    "execution": {
     "iopub.execute_input": "2024-04-18T14:41:09.051578Z",
     "iopub.status.busy": "2024-04-18T14:41:09.050749Z",
     "iopub.status.idle": "2024-04-18T14:41:09.055847Z",
     "shell.execute_reply": "2024-04-18T14:41:09.055191Z"
    },
    "lines_to_next_cell": 1,
    "papermill": {
     "duration": 0.028677,
     "end_time": "2024-04-18T14:41:09.057658",
     "exception": false,
     "start_time": "2024-04-18T14:41:09.028981",
     "status": "completed"
    },
    "tags": []
   },
   "outputs": [],
   "source": [
    "# Q1 - Easy\n",
    "def scoreOfString(s: str) -> int:\n",
    "    N = len(s)\n",
    "    result = 0\n",
    "    for i in range(N - 1):\n",
    "        result += abs(ord(s[i]) - ord(s[i + 1]))\n",
    "    return result"
   ]
  },
  {
   "cell_type": "code",
   "execution_count": 42,
   "id": "3360d184",
   "metadata": {
    "execution": {
     "iopub.execute_input": "2024-04-18T14:41:09.102655Z",
     "iopub.status.busy": "2024-04-18T14:41:09.102000Z",
     "iopub.status.idle": "2024-04-18T14:41:09.108339Z",
     "shell.execute_reply": "2024-04-18T14:41:09.107551Z"
    },
    "lines_to_next_cell": 1,
    "papermill": {
     "duration": 0.030672,
     "end_time": "2024-04-18T14:41:09.110095",
     "exception": false,
     "start_time": "2024-04-18T14:41:09.079423",
     "status": "completed"
    },
    "tags": []
   },
   "outputs": [],
   "source": [
    "# Q2 - Medium\n",
    "def minRectanglesToCoverPoints(points: list[list[int]], w: int) -> int:\n",
    "    X = sorted(set(map(lambda x: x[0], points)))\n",
    "    count = 0\n",
    "    prev = -1\n",
    "    for x in X:\n",
    "        if prev == -1 or x - prev > w:\n",
    "            count += 1\n",
    "            prev = x\n",
    "\n",
    "    return count\n",
    "\n",
    "# Testing the solution\n",
    "assert minRectanglesToCoverPoints([[0,0],[1,1],[2,2],[3,3],[4,4],[5,5],[6,6]], 2) == 3\n",
    "assert minRectanglesToCoverPoints([[2,3],[1,2]], 0) == 2"
   ]
  },
  {
   "cell_type": "markdown",
   "id": "91647588",
   "metadata": {
    "papermill": {
     "duration": 0.020967,
     "end_time": "2024-04-18T14:41:09.152150",
     "exception": false,
     "start_time": "2024-04-18T14:41:09.131183",
     "status": "completed"
    },
    "tags": []
   },
   "source": [
    "Binary Watch - Easy LC"
   ]
  },
  {
   "cell_type": "code",
   "execution_count": 43,
   "id": "3868d381",
   "metadata": {
    "execution": {
     "iopub.execute_input": "2024-04-18T14:41:09.195491Z",
     "iopub.status.busy": "2024-04-18T14:41:09.194824Z",
     "iopub.status.idle": "2024-04-18T14:41:09.205506Z",
     "shell.execute_reply": "2024-04-18T14:41:09.204719Z"
    },
    "lines_to_next_cell": 1,
    "papermill": {
     "duration": 0.034151,
     "end_time": "2024-04-18T14:41:09.207207",
     "exception": false,
     "start_time": "2024-04-18T14:41:09.173056",
     "status": "completed"
    },
    "tags": []
   },
   "outputs": [
    {
     "data": {
      "text/plain": [
       "['8:00',\n",
       " '4:00',\n",
       " '2:00',\n",
       " '1:00',\n",
       " '0:32',\n",
       " '0:16',\n",
       " '0:08',\n",
       " '0:04',\n",
       " '0:02',\n",
       " '0:01']"
      ]
     },
     "execution_count": 43,
     "metadata": {},
     "output_type": "execute_result"
    }
   ],
   "source": [
    "# https://leetcode.com/problems/binary-watch/submissions/1231377431\n",
    "def readBinaryWatch(turnedOn: int) -> list[str]:\n",
    "    def getValue(code: str) -> tuple[int, int]:\n",
    "        mapping = {\n",
    "            \"H8\": (8, 0), \"H4\": (4, 0),\n",
    "            \"H2\": (2, 0), \"H1\": (1, 0),\n",
    "\n",
    "            \"M32\": (0, 32), \"M16\": (0, 16),\n",
    "            \"M8\": (0, 8), \"M4\": (0, 4),\n",
    "            \"M2\": (0, 2), \"M1\": (0, 1)\n",
    "        }\n",
    "        return mapping[code]\n",
    "\n",
    "    leds: list[str] = [\"H8\", \"H4\", \"H2\", \"H1\", \"M32\", \"M16\", \"M8\", \"M4\", \"M2\", \"M1\"]\n",
    "    possbilities = itertools.combinations(leds, r=turnedOn)\n",
    "\n",
    "    result: list[str] = []\n",
    "    for possb in possbilities:\n",
    "        hour_ = min_ = 0\n",
    "        for led in possb:\n",
    "            H, M = getValue(led)\n",
    "            hour_ += H\n",
    "            min_ += M\n",
    "\n",
    "        if 0 <= hour_ <= 11 and 0 <= min_ <= 59:\n",
    "            result.append(f\"{hour_}:{str(min_).zfill(2)}\")\n",
    "\n",
    "    return result\n",
    "\n",
    "# Testing the solution\n",
    "readBinaryWatch(1)"
   ]
  },
  {
   "cell_type": "markdown",
   "id": "1b69d7ad",
   "metadata": {
    "papermill": {
     "duration": 0.020906,
     "end_time": "2024-04-18T14:41:09.249215",
     "exception": false,
     "start_time": "2024-04-18T14:41:09.228309",
     "status": "completed"
    },
    "tags": []
   },
   "source": [
    "Valid Perfect Square: https://leetcode.com/problems/valid-perfect-square/submissions/1231389059"
   ]
  },
  {
   "cell_type": "code",
   "execution_count": 44,
   "id": "97e2b8db",
   "metadata": {
    "execution": {
     "iopub.execute_input": "2024-04-18T14:41:09.292866Z",
     "iopub.status.busy": "2024-04-18T14:41:09.292232Z",
     "iopub.status.idle": "2024-04-18T14:41:09.297741Z",
     "shell.execute_reply": "2024-04-18T14:41:09.296930Z"
    },
    "lines_to_next_cell": 1,
    "papermill": {
     "duration": 0.029099,
     "end_time": "2024-04-18T14:41:09.299427",
     "exception": false,
     "start_time": "2024-04-18T14:41:09.270328",
     "status": "completed"
    },
    "tags": []
   },
   "outputs": [],
   "source": [
    "def isPerfectSquare(num: int) -> bool:\n",
    "    low, high = 0, num\n",
    "    while low <= high:\n",
    "        mid = (low + high) // 2\n",
    "        square = mid * mid\n",
    "        if square == num:\n",
    "            return True\n",
    "        elif square < num:\n",
    "            low = mid + 1\n",
    "        else:\n",
    "            high = mid - 1\n",
    "\n",
    "    return False\n",
    "\n",
    "# Testing the solution\n",
    "assert isPerfectSquare(16) == True\n",
    "assert isPerfectSquare(3) == False"
   ]
  },
  {
   "cell_type": "markdown",
   "id": "54962282",
   "metadata": {
    "papermill": {
     "duration": 0.020913,
     "end_time": "2024-04-18T14:41:09.341529",
     "exception": false,
     "start_time": "2024-04-18T14:41:09.320616",
     "status": "completed"
    },
    "tags": []
   },
   "source": [
    "Range sum query: https://leetcode.com/problems/range-sum-query-immutable/submissions/1231398800"
   ]
  },
  {
   "cell_type": "code",
   "execution_count": 45,
   "id": "c95f87dd",
   "metadata": {
    "execution": {
     "iopub.execute_input": "2024-04-18T14:41:09.384854Z",
     "iopub.status.busy": "2024-04-18T14:41:09.384176Z",
     "iopub.status.idle": "2024-04-18T14:41:09.390199Z",
     "shell.execute_reply": "2024-04-18T14:41:09.389428Z"
    },
    "lines_to_next_cell": 1,
    "papermill": {
     "duration": 0.029384,
     "end_time": "2024-04-18T14:41:09.391863",
     "exception": false,
     "start_time": "2024-04-18T14:41:09.362479",
     "status": "completed"
    },
    "tags": []
   },
   "outputs": [],
   "source": [
    "class NumArray:\n",
    "    def __init__(self, nums: list[int]):\n",
    "        self.nums = nums\n",
    "        self.cumsum = list(itertools.accumulate(nums, lambda x, y: x + y))\n",
    "\n",
    "    def sumRange(self, left: int, right: int) -> int:\n",
    "        result = self.cumsum[right]\n",
    "        if left > 0:\n",
    "            result -= self.cumsum[left - 1]\n",
    "        return result\n",
    "\n",
    "# Testing the Solution\n",
    "obj = NumArray([-2, 0, 3, -5, 2, -1])\n",
    "assert obj.sumRange(0, 2) == 1\n",
    "assert obj.sumRange(2, 5) == -1"
   ]
  },
  {
   "cell_type": "markdown",
   "id": "bd8e8248",
   "metadata": {
    "papermill": {
     "duration": 0.02105,
     "end_time": "2024-04-18T14:41:09.434278",
     "exception": false,
     "start_time": "2024-04-18T14:41:09.413228",
     "status": "completed"
    },
    "tags": []
   },
   "source": [
    "Cows and bulls: https://leetcode.com/problems/bulls-and-cows/submissions/1231417724"
   ]
  },
  {
   "cell_type": "code",
   "execution_count": 46,
   "id": "264c9ee0",
   "metadata": {
    "execution": {
     "iopub.execute_input": "2024-04-18T14:41:09.477834Z",
     "iopub.status.busy": "2024-04-18T14:41:09.477085Z",
     "iopub.status.idle": "2024-04-18T14:41:09.483529Z",
     "shell.execute_reply": "2024-04-18T14:41:09.482748Z"
    },
    "lines_to_next_cell": 1,
    "papermill": {
     "duration": 0.030001,
     "end_time": "2024-04-18T14:41:09.485258",
     "exception": false,
     "start_time": "2024-04-18T14:41:09.455257",
     "status": "completed"
    },
    "tags": []
   },
   "outputs": [],
   "source": [
    "def getHint(secret: str, guess: str) -> str:\n",
    "    N = len(guess)\n",
    "    secret_freq = collections.Counter(secret)\n",
    "    guess_freq = collections.Counter(guess)\n",
    "    cows = bulls = 0\n",
    "    for i in range(N):\n",
    "        if guess[i] == secret[i]:\n",
    "            bulls += 1\n",
    "            secret_freq[guess[i]] -= 1\n",
    "            guess_freq[guess[i]] -= 1\n",
    "\n",
    "    for k in guess_freq:\n",
    "        cows += min(guess_freq[k], secret_freq.get(k, 0))\n",
    "\n",
    "    return f\"{bulls}A{cows}B\"\n",
    "\n",
    "# Testing the solution\n",
    "assert getHint(\"1122\", \"1222\") == \"3A0B\""
   ]
  },
  {
   "cell_type": "markdown",
   "id": "6bbf3690",
   "metadata": {
    "papermill": {
     "duration": 0.020926,
     "end_time": "2024-04-18T14:41:09.528675",
     "exception": false,
     "start_time": "2024-04-18T14:41:09.507749",
     "status": "completed"
    },
    "tags": []
   },
   "source": [
    "Weekly LC - Sunday: 14th April, 2024"
   ]
  },
  {
   "cell_type": "code",
   "execution_count": 47,
   "id": "1254e925",
   "metadata": {
    "execution": {
     "iopub.execute_input": "2024-04-18T14:41:09.572292Z",
     "iopub.status.busy": "2024-04-18T14:41:09.571581Z",
     "iopub.status.idle": "2024-04-18T14:41:09.579992Z",
     "shell.execute_reply": "2024-04-18T14:41:09.579242Z"
    },
    "lines_to_next_cell": 1,
    "papermill": {
     "duration": 0.031963,
     "end_time": "2024-04-18T14:41:09.581705",
     "exception": false,
     "start_time": "2024-04-18T14:41:09.549742",
     "status": "completed"
    },
    "tags": []
   },
   "outputs": [
    {
     "data": {
      "text/plain": [
       "'02:39'"
      ]
     },
     "execution_count": 47,
     "metadata": {},
     "output_type": "execute_result"
    }
   ],
   "source": [
    "# Q1 - Easy\n",
    "def findLatestTime(s: str) -> str:\n",
    "    result = []\n",
    "    for i in range(5):\n",
    "        if s[i] == '?':\n",
    "            if i == 0:\n",
    "                result.append('0' if s[1].isdigit() and int(s[1]) > 1 else '1')\n",
    "            elif i == 1:\n",
    "                result.append('1' if result[0] == '1' else '9')\n",
    "            elif i == 3:\n",
    "                result.append('5')\n",
    "            else:\n",
    "                result.append('9')\n",
    "        else:\n",
    "            result.append(s[i])\n",
    "\n",
    "    return ''.join(result)\n",
    "\n",
    "# Testing the solution\n",
    "findLatestTime(\"?2:3?\")"
   ]
  },
  {
   "cell_type": "code",
   "execution_count": 48,
   "id": "7e9a187d",
   "metadata": {
    "execution": {
     "iopub.execute_input": "2024-04-18T14:41:09.626445Z",
     "iopub.status.busy": "2024-04-18T14:41:09.625796Z",
     "iopub.status.idle": "2024-04-18T14:41:09.632362Z",
     "shell.execute_reply": "2024-04-18T14:41:09.631518Z"
    },
    "lines_to_next_cell": 1,
    "papermill": {
     "duration": 0.03095,
     "end_time": "2024-04-18T14:41:09.634310",
     "exception": false,
     "start_time": "2024-04-18T14:41:09.603360",
     "status": "completed"
    },
    "tags": []
   },
   "outputs": [],
   "source": [
    "# Q2 - Medium\n",
    "def maximumPrimeDifference(nums: list[int]) -> int:\n",
    "    primes = {2,3,5,7,11,13,17,19,23,29,31,37,41,43,47,53,59,61,67,71,73,79,83,89,97}\n",
    "\n",
    "    N = len(nums)\n",
    "    for i in range(N):\n",
    "        if nums[i] in primes:\n",
    "            break\n",
    "\n",
    "    for j in range(N - 1, -1, -1):\n",
    "        if nums[j] in primes:\n",
    "            break\n",
    "\n",
    "    return j - i\n",
    "\n",
    "# Testing the solution\n",
    "assert maximumPrimeDifference([4,2,9,5,3]) == 3\n",
    "assert maximumPrimeDifference([4,8,2,8]) == 0"
   ]
  },
  {
   "cell_type": "code",
   "execution_count": 49,
   "id": "1d6959ea",
   "metadata": {
    "execution": {
     "iopub.execute_input": "2024-04-18T14:41:09.679037Z",
     "iopub.status.busy": "2024-04-18T14:41:09.678520Z",
     "iopub.status.idle": "2024-04-18T14:41:30.900230Z",
     "shell.execute_reply": "2024-04-18T14:41:30.899445Z"
    },
    "lines_to_next_cell": 1,
    "papermill": {
     "duration": 21.245681,
     "end_time": "2024-04-18T14:41:30.902007",
     "exception": false,
     "start_time": "2024-04-18T14:41:09.656326",
     "status": "completed"
    },
    "tags": []
   },
   "outputs": [
    {
     "name": "stderr",
     "output_type": "stream",
     "text": [
      "\r",
      "  0%|          | 0/99 [00:00<?, ?it/s]"
     ]
    },
    {
     "name": "stderr",
     "output_type": "stream",
     "text": [
      "\r",
      "  2%|▏         | 2/99 [00:00<00:06, 16.15it/s]"
     ]
    },
    {
     "name": "stderr",
     "output_type": "stream",
     "text": [
      "\r",
      "  4%|▍         | 4/99 [00:00<00:09, 10.16it/s]"
     ]
    },
    {
     "name": "stderr",
     "output_type": "stream",
     "text": [
      "\r",
      "  6%|▌         | 6/99 [00:00<00:11,  8.23it/s]"
     ]
    },
    {
     "name": "stderr",
     "output_type": "stream",
     "text": [
      "\r",
      "  7%|▋         | 7/99 [00:00<00:11,  7.79it/s]"
     ]
    },
    {
     "name": "stderr",
     "output_type": "stream",
     "text": [
      "\r",
      "  8%|▊         | 8/99 [00:00<00:12,  7.13it/s]"
     ]
    },
    {
     "name": "stderr",
     "output_type": "stream",
     "text": [
      "\r",
      "  9%|▉         | 9/99 [00:01<00:12,  7.01it/s]"
     ]
    },
    {
     "name": "stderr",
     "output_type": "stream",
     "text": [
      "\r",
      " 10%|█         | 10/99 [00:01<00:12,  6.92it/s]"
     ]
    },
    {
     "name": "stderr",
     "output_type": "stream",
     "text": [
      "\r",
      " 11%|█         | 11/99 [00:01<00:13,  6.55it/s]"
     ]
    },
    {
     "name": "stderr",
     "output_type": "stream",
     "text": [
      "\r",
      " 12%|█▏        | 12/99 [00:01<00:13,  6.30it/s]"
     ]
    },
    {
     "name": "stderr",
     "output_type": "stream",
     "text": [
      "\r",
      " 13%|█▎        | 13/99 [00:01<00:14,  6.12it/s]"
     ]
    },
    {
     "name": "stderr",
     "output_type": "stream",
     "text": [
      "\r",
      " 14%|█▍        | 14/99 [00:01<00:14,  6.00it/s]"
     ]
    },
    {
     "name": "stderr",
     "output_type": "stream",
     "text": [
      "\r",
      " 15%|█▌        | 15/99 [00:02<00:14,  5.91it/s]"
     ]
    },
    {
     "name": "stderr",
     "output_type": "stream",
     "text": [
      "\r",
      " 16%|█▌        | 16/99 [00:02<00:14,  5.85it/s]"
     ]
    },
    {
     "name": "stderr",
     "output_type": "stream",
     "text": [
      "\r",
      " 17%|█▋        | 17/99 [00:02<00:14,  5.57it/s]"
     ]
    },
    {
     "name": "stderr",
     "output_type": "stream",
     "text": [
      "\r",
      " 18%|█▊        | 18/99 [00:02<00:14,  5.40it/s]"
     ]
    },
    {
     "name": "stderr",
     "output_type": "stream",
     "text": [
      "\r",
      " 19%|█▉        | 19/99 [00:02<00:15,  5.28it/s]"
     ]
    },
    {
     "name": "stderr",
     "output_type": "stream",
     "text": [
      "\r",
      " 20%|██        | 20/99 [00:03<00:15,  5.20it/s]"
     ]
    },
    {
     "name": "stderr",
     "output_type": "stream",
     "text": [
      "\r",
      " 21%|██        | 21/99 [00:03<00:15,  5.15it/s]"
     ]
    },
    {
     "name": "stderr",
     "output_type": "stream",
     "text": [
      "\r",
      " 22%|██▏       | 22/99 [00:03<00:15,  5.12it/s]"
     ]
    },
    {
     "name": "stderr",
     "output_type": "stream",
     "text": [
      "\r",
      " 23%|██▎       | 23/99 [00:03<00:14,  5.09it/s]"
     ]
    },
    {
     "name": "stderr",
     "output_type": "stream",
     "text": [
      "\r",
      " 24%|██▍       | 24/99 [00:03<00:14,  5.08it/s]"
     ]
    },
    {
     "name": "stderr",
     "output_type": "stream",
     "text": [
      "\r",
      " 25%|██▌       | 25/99 [00:04<00:14,  5.06it/s]"
     ]
    },
    {
     "name": "stderr",
     "output_type": "stream",
     "text": [
      "\r",
      " 26%|██▋       | 26/99 [00:04<00:14,  5.04it/s]"
     ]
    },
    {
     "name": "stderr",
     "output_type": "stream",
     "text": [
      "\r",
      " 27%|██▋       | 27/99 [00:04<00:14,  5.04it/s]"
     ]
    },
    {
     "name": "stderr",
     "output_type": "stream",
     "text": [
      "\r",
      " 28%|██▊       | 28/99 [00:04<00:14,  5.03it/s]"
     ]
    },
    {
     "name": "stderr",
     "output_type": "stream",
     "text": [
      "\r",
      " 29%|██▉       | 29/99 [00:04<00:13,  5.02it/s]"
     ]
    },
    {
     "name": "stderr",
     "output_type": "stream",
     "text": [
      "\r",
      " 30%|███       | 30/99 [00:05<00:13,  5.01it/s]"
     ]
    },
    {
     "name": "stderr",
     "output_type": "stream",
     "text": [
      "\r",
      " 31%|███▏      | 31/99 [00:05<00:14,  4.84it/s]"
     ]
    },
    {
     "name": "stderr",
     "output_type": "stream",
     "text": [
      "\r",
      " 32%|███▏      | 32/99 [00:05<00:14,  4.72it/s]"
     ]
    },
    {
     "name": "stderr",
     "output_type": "stream",
     "text": [
      "\r",
      " 33%|███▎      | 33/99 [00:05<00:13,  4.80it/s]"
     ]
    },
    {
     "name": "stderr",
     "output_type": "stream",
     "text": [
      "\r",
      " 34%|███▍      | 34/99 [00:05<00:13,  4.70it/s]"
     ]
    },
    {
     "name": "stderr",
     "output_type": "stream",
     "text": [
      "\r",
      " 35%|███▌      | 35/99 [00:06<00:13,  4.79it/s]"
     ]
    },
    {
     "name": "stderr",
     "output_type": "stream",
     "text": [
      "\r",
      " 36%|███▋      | 36/99 [00:06<00:13,  4.77it/s]"
     ]
    },
    {
     "name": "stderr",
     "output_type": "stream",
     "text": [
      "\r",
      " 37%|███▋      | 37/99 [00:06<00:13,  4.68it/s]"
     ]
    },
    {
     "name": "stderr",
     "output_type": "stream",
     "text": [
      "\r",
      " 38%|███▊      | 38/99 [00:06<00:13,  4.62it/s]"
     ]
    },
    {
     "name": "stderr",
     "output_type": "stream",
     "text": [
      "\r",
      " 39%|███▉      | 39/99 [00:07<00:12,  4.72it/s]"
     ]
    },
    {
     "name": "stderr",
     "output_type": "stream",
     "text": [
      "\r",
      " 40%|████      | 40/99 [00:07<00:12,  4.79it/s]"
     ]
    },
    {
     "name": "stderr",
     "output_type": "stream",
     "text": [
      "\r",
      " 41%|████▏     | 41/99 [00:07<00:12,  4.68it/s]"
     ]
    },
    {
     "name": "stderr",
     "output_type": "stream",
     "text": [
      "\r",
      " 42%|████▏     | 42/99 [00:07<00:12,  4.60it/s]"
     ]
    },
    {
     "name": "stderr",
     "output_type": "stream",
     "text": [
      "\r",
      " 43%|████▎     | 43/99 [00:07<00:12,  4.55it/s]"
     ]
    },
    {
     "name": "stderr",
     "output_type": "stream",
     "text": [
      "\r",
      " 44%|████▍     | 44/99 [00:08<00:12,  4.51it/s]"
     ]
    },
    {
     "name": "stderr",
     "output_type": "stream",
     "text": [
      "\r",
      " 45%|████▌     | 45/99 [00:08<00:12,  4.49it/s]"
     ]
    },
    {
     "name": "stderr",
     "output_type": "stream",
     "text": [
      "\r",
      " 46%|████▋     | 46/99 [00:08<00:11,  4.47it/s]"
     ]
    },
    {
     "name": "stderr",
     "output_type": "stream",
     "text": [
      "\r",
      " 47%|████▋     | 47/99 [00:08<00:11,  4.46it/s]"
     ]
    },
    {
     "name": "stderr",
     "output_type": "stream",
     "text": [
      "\r",
      " 48%|████▊     | 48/99 [00:09<00:11,  4.46it/s]"
     ]
    },
    {
     "name": "stderr",
     "output_type": "stream",
     "text": [
      "\r",
      " 49%|████▉     | 49/99 [00:09<00:11,  4.46it/s]"
     ]
    },
    {
     "name": "stderr",
     "output_type": "stream",
     "text": [
      "\r",
      " 51%|█████     | 50/99 [00:09<00:10,  4.46it/s]"
     ]
    },
    {
     "name": "stderr",
     "output_type": "stream",
     "text": [
      "\r",
      " 52%|█████▏    | 51/99 [00:09<00:10,  4.46it/s]"
     ]
    },
    {
     "name": "stderr",
     "output_type": "stream",
     "text": [
      "\r",
      " 53%|█████▎    | 52/99 [00:09<00:10,  4.47it/s]"
     ]
    },
    {
     "name": "stderr",
     "output_type": "stream",
     "text": [
      "\r",
      " 54%|█████▎    | 53/99 [00:10<00:10,  4.46it/s]"
     ]
    },
    {
     "name": "stderr",
     "output_type": "stream",
     "text": [
      "\r",
      " 55%|█████▍    | 54/99 [00:10<00:10,  4.45it/s]"
     ]
    },
    {
     "name": "stderr",
     "output_type": "stream",
     "text": [
      "\r",
      " 56%|█████▌    | 55/99 [00:10<00:09,  4.44it/s]"
     ]
    },
    {
     "name": "stderr",
     "output_type": "stream",
     "text": [
      "\r",
      " 57%|█████▋    | 56/99 [00:10<00:09,  4.45it/s]"
     ]
    },
    {
     "name": "stderr",
     "output_type": "stream",
     "text": [
      "\r",
      " 58%|█████▊    | 57/99 [00:11<00:09,  4.46it/s]"
     ]
    },
    {
     "name": "stderr",
     "output_type": "stream",
     "text": [
      "\r",
      " 59%|█████▊    | 58/99 [00:11<00:09,  4.47it/s]"
     ]
    },
    {
     "name": "stderr",
     "output_type": "stream",
     "text": [
      "\r",
      " 60%|█████▉    | 59/99 [00:11<00:08,  4.46it/s]"
     ]
    },
    {
     "name": "stderr",
     "output_type": "stream",
     "text": [
      "\r",
      " 61%|██████    | 60/99 [00:11<00:08,  4.46it/s]"
     ]
    },
    {
     "name": "stderr",
     "output_type": "stream",
     "text": [
      "\r",
      " 62%|██████▏   | 61/99 [00:11<00:08,  4.33it/s]"
     ]
    },
    {
     "name": "stderr",
     "output_type": "stream",
     "text": [
      "\r",
      " 63%|██████▎   | 62/99 [00:12<00:08,  4.32it/s]"
     ]
    },
    {
     "name": "stderr",
     "output_type": "stream",
     "text": [
      "\r",
      " 64%|██████▎   | 63/99 [00:12<00:08,  4.36it/s]"
     ]
    },
    {
     "name": "stderr",
     "output_type": "stream",
     "text": [
      "\r",
      " 65%|██████▍   | 64/99 [00:12<00:07,  4.39it/s]"
     ]
    },
    {
     "name": "stderr",
     "output_type": "stream",
     "text": [
      "\r",
      " 66%|██████▌   | 65/99 [00:12<00:07,  4.27it/s]"
     ]
    },
    {
     "name": "stderr",
     "output_type": "stream",
     "text": [
      "\r",
      " 67%|██████▋   | 66/99 [00:13<00:07,  4.32it/s]"
     ]
    },
    {
     "name": "stderr",
     "output_type": "stream",
     "text": [
      "\r",
      " 68%|██████▊   | 67/99 [00:13<00:07,  4.35it/s]"
     ]
    },
    {
     "name": "stderr",
     "output_type": "stream",
     "text": [
      "\r",
      " 69%|██████▊   | 68/99 [00:13<00:07,  4.24it/s]"
     ]
    },
    {
     "name": "stderr",
     "output_type": "stream",
     "text": [
      "\r",
      " 70%|██████▉   | 69/99 [00:13<00:07,  4.11it/s]"
     ]
    },
    {
     "name": "stderr",
     "output_type": "stream",
     "text": [
      "\r",
      " 71%|███████   | 70/99 [00:14<00:07,  4.08it/s]"
     ]
    },
    {
     "name": "stderr",
     "output_type": "stream",
     "text": [
      "\r",
      " 72%|███████▏  | 71/99 [00:14<00:06,  4.06it/s]"
     ]
    },
    {
     "name": "stderr",
     "output_type": "stream",
     "text": [
      "\r",
      " 73%|███████▎  | 72/99 [00:14<00:06,  4.05it/s]"
     ]
    },
    {
     "name": "stderr",
     "output_type": "stream",
     "text": [
      "\r",
      " 74%|███████▎  | 73/99 [00:14<00:06,  4.04it/s]"
     ]
    },
    {
     "name": "stderr",
     "output_type": "stream",
     "text": [
      "\r",
      " 75%|███████▍  | 74/99 [00:15<00:06,  4.03it/s]"
     ]
    },
    {
     "name": "stderr",
     "output_type": "stream",
     "text": [
      "\r",
      " 76%|███████▌  | 75/99 [00:15<00:05,  4.15it/s]"
     ]
    },
    {
     "name": "stderr",
     "output_type": "stream",
     "text": [
      "\r",
      " 77%|███████▋  | 76/99 [00:15<00:05,  4.24it/s]"
     ]
    },
    {
     "name": "stderr",
     "output_type": "stream",
     "text": [
      "\r",
      " 78%|███████▊  | 77/99 [00:15<00:05,  4.30it/s]"
     ]
    },
    {
     "name": "stderr",
     "output_type": "stream",
     "text": [
      "\r",
      " 79%|███████▉  | 78/99 [00:16<00:04,  4.34it/s]"
     ]
    },
    {
     "name": "stderr",
     "output_type": "stream",
     "text": [
      "\r",
      " 80%|███████▉  | 79/99 [00:16<00:04,  4.24it/s]"
     ]
    },
    {
     "name": "stderr",
     "output_type": "stream",
     "text": [
      "\r",
      " 81%|████████  | 80/99 [00:16<00:04,  4.18it/s]"
     ]
    },
    {
     "name": "stderr",
     "output_type": "stream",
     "text": [
      "\r",
      " 82%|████████▏ | 81/99 [00:16<00:04,  4.13it/s]"
     ]
    },
    {
     "name": "stderr",
     "output_type": "stream",
     "text": [
      "\r",
      " 83%|████████▎ | 82/99 [00:17<00:04,  4.23it/s]"
     ]
    },
    {
     "name": "stderr",
     "output_type": "stream",
     "text": [
      "\r",
      " 84%|████████▍ | 83/99 [00:17<00:03,  4.29it/s]"
     ]
    },
    {
     "name": "stderr",
     "output_type": "stream",
     "text": [
      "\r",
      " 85%|████████▍ | 84/99 [00:17<00:03,  4.18it/s]"
     ]
    },
    {
     "name": "stderr",
     "output_type": "stream",
     "text": [
      "\r",
      " 86%|████████▌ | 85/99 [00:17<00:03,  4.13it/s]"
     ]
    },
    {
     "name": "stderr",
     "output_type": "stream",
     "text": [
      "\r",
      " 87%|████████▋ | 86/99 [00:17<00:03,  4.10it/s]"
     ]
    },
    {
     "name": "stderr",
     "output_type": "stream",
     "text": [
      "\r",
      " 88%|████████▊ | 87/99 [00:18<00:02,  4.08it/s]"
     ]
    },
    {
     "name": "stderr",
     "output_type": "stream",
     "text": [
      "\r",
      " 89%|████████▉ | 88/99 [00:18<00:02,  4.06it/s]"
     ]
    },
    {
     "name": "stderr",
     "output_type": "stream",
     "text": [
      "\r",
      " 90%|████████▉ | 89/99 [00:18<00:02,  4.05it/s]"
     ]
    },
    {
     "name": "stderr",
     "output_type": "stream",
     "text": [
      "\r",
      " 91%|█████████ | 90/99 [00:18<00:02,  4.04it/s]"
     ]
    },
    {
     "name": "stderr",
     "output_type": "stream",
     "text": [
      "\r",
      " 92%|█████████▏| 91/99 [00:19<00:01,  4.04it/s]"
     ]
    },
    {
     "name": "stderr",
     "output_type": "stream",
     "text": [
      "\r",
      " 93%|█████████▎| 92/99 [00:19<00:01,  4.04it/s]"
     ]
    },
    {
     "name": "stderr",
     "output_type": "stream",
     "text": [
      "\r",
      " 94%|█████████▍| 93/99 [00:19<00:01,  4.04it/s]"
     ]
    },
    {
     "name": "stderr",
     "output_type": "stream",
     "text": [
      "\r",
      " 95%|█████████▍| 94/99 [00:19<00:01,  4.04it/s]"
     ]
    },
    {
     "name": "stderr",
     "output_type": "stream",
     "text": [
      "\r",
      " 96%|█████████▌| 95/99 [00:20<00:00,  4.03it/s]"
     ]
    },
    {
     "name": "stderr",
     "output_type": "stream",
     "text": [
      "\r",
      " 97%|█████████▋| 96/99 [00:20<00:00,  4.03it/s]"
     ]
    },
    {
     "name": "stderr",
     "output_type": "stream",
     "text": [
      "\r",
      " 98%|█████████▊| 97/99 [00:20<00:00,  4.02it/s]"
     ]
    },
    {
     "name": "stderr",
     "output_type": "stream",
     "text": [
      "\r",
      " 99%|█████████▉| 98/99 [00:20<00:00,  4.02it/s]"
     ]
    },
    {
     "name": "stderr",
     "output_type": "stream",
     "text": [
      "\r",
      "100%|██████████| 99/99 [00:21<00:00,  4.03it/s]"
     ]
    },
    {
     "name": "stderr",
     "output_type": "stream",
     "text": [
      "\r",
      "100%|██████████| 99/99 [00:21<00:00,  4.67it/s]"
     ]
    },
    {
     "name": "stderr",
     "output_type": "stream",
     "text": [
      "\n"
     ]
    }
   ],
   "source": [
    "# Q3 - Hard\n",
    "def findKthSmallestBrute(coins: list[int], k: int) -> int:\n",
    "    curr = min(coins)\n",
    "    while True:\n",
    "        for coin in coins:\n",
    "            if curr % coin == 0:\n",
    "                k -= 1\n",
    "                break\n",
    "\n",
    "        if k == 0:\n",
    "            return curr\n",
    "        else:\n",
    "            curr += 1\n",
    "\n",
    "    return -1\n",
    "\n",
    "# Testing the solution\n",
    "assert findKthSmallestBrute([3,6,9], 3) == 9\n",
    "assert findKthSmallestBrute([5,2], 7) == 12\n",
    "\n",
    "# Q3 - Hard Better (Solved this post the test, proud moment since the acceptance rate was 3%!\n",
    "# Leetcode Writeup: https://leetcode.com/problems/kth-smallest-amount-with-single-denomination-combination/solutions/5020415/binary-search-solution-python\n",
    "def findKthSmallest(coins: list[int], k: int) -> int:\n",
    "    N = len(coins)\n",
    "\n",
    "    def count(num: int) -> int:\n",
    "        \"\"\"\n",
    "        Given num, find k_ (position after set union and sorting)\n",
    "        For eg:\n",
    "            num = 20, coins = [2, 5]\n",
    "            => [2, 4, 5, 6, 8, 10, 12, 14, 15, 16, 18, 20]\n",
    "            => 12\n",
    "\n",
    "        Logic:\n",
    "            Assume we only had coin 2 available, 20's position would then be 20 // 2 = 10.\n",
    "            We however have other denominations, so find count for each denomination.\n",
    "            This way we would introduce duplicates - 10 would be counted twice.\n",
    "            To avoid this we use formula: count(A | B) = count(A) + count(B) - count(A & B) extended for arbitrary length (A, B, C, ..)\n",
    "        \"\"\"\n",
    "        total, add_ = 0, True\n",
    "\n",
    "        for i in range(1, N + 1):\n",
    "            curr = 0\n",
    "            for comb in itertools.combinations(coins, r=i):\n",
    "                curr += num // math.lcm(*comb)\n",
    "            total = total + curr if add_ else total - curr\n",
    "            add_ = not add_\n",
    "\n",
    "        return total\n",
    "\n",
    "    # Use a simple binary search\n",
    "    # max => lowest denomination * k. The result must be lesser than this.\n",
    "    low = min(coins)\n",
    "    high = low * k\n",
    "    while low <= high:\n",
    "        mid = (low + high) // 2\n",
    "        k_ = count(mid)\n",
    "        if k_ < k:\n",
    "            low = mid + 1\n",
    "        else:\n",
    "            high = mid - 1\n",
    "\n",
    "    return low\n",
    "\n",
    "# Testing the solution\n",
    "for i in tqdm.tqdm(range(1, 100)):\n",
    "    temp = list(range(11, 26))\n",
    "    assert findKthSmallest(temp, i) == findKthSmallestBrute(temp, i)"
   ]
  },
  {
   "cell_type": "markdown",
   "id": "a4add1b8",
   "metadata": {
    "papermill": {
     "duration": 0.028493,
     "end_time": "2024-04-18T14:41:30.960109",
     "exception": false,
     "start_time": "2024-04-18T14:41:30.931616",
     "status": "completed"
    },
    "tags": []
   },
   "source": [
    "Sum of left leaves\n",
    "Problem Link: https://leetcode.com/problems/sum-of-left-leaves/submissions/1232098618"
   ]
  },
  {
   "cell_type": "code",
   "execution_count": 50,
   "id": "08f2ccb4",
   "metadata": {
    "execution": {
     "iopub.execute_input": "2024-04-18T14:41:31.019537Z",
     "iopub.status.busy": "2024-04-18T14:41:31.018973Z",
     "iopub.status.idle": "2024-04-18T14:41:31.024027Z",
     "shell.execute_reply": "2024-04-18T14:41:31.023242Z"
    },
    "lines_to_next_cell": 1,
    "papermill": {
     "duration": 0.037228,
     "end_time": "2024-04-18T14:41:31.025863",
     "exception": false,
     "start_time": "2024-04-18T14:41:30.988635",
     "status": "completed"
    },
    "tags": []
   },
   "outputs": [],
   "source": [
    "def sumOfLeftLeaves(root: BinaryTreeNode, left: bool = True) -> int:\n",
    "    if not root:\n",
    "        return 0\n",
    "    elif not root.left and not root.right:\n",
    "        return root.val if left else 0\n",
    "    else:\n",
    "        return sumOfLeftLeaves(root.left, True) + sumOfLeftLeaves(root.right, False)"
   ]
  },
  {
   "cell_type": "markdown",
   "id": "0222f378",
   "metadata": {
    "papermill": {
     "duration": 0.028558,
     "end_time": "2024-04-18T14:41:31.083923",
     "exception": false,
     "start_time": "2024-04-18T14:41:31.055365",
     "status": "completed"
    },
    "tags": []
   },
   "source": [
    "Minimum element in BST"
   ]
  },
  {
   "cell_type": "code",
   "execution_count": 51,
   "id": "2268cda1",
   "metadata": {
    "execution": {
     "iopub.execute_input": "2024-04-18T14:41:31.142247Z",
     "iopub.status.busy": "2024-04-18T14:41:31.141735Z",
     "iopub.status.idle": "2024-04-18T14:41:31.146164Z",
     "shell.execute_reply": "2024-04-18T14:41:31.145388Z"
    },
    "lines_to_next_cell": 1,
    "papermill": {
     "duration": 0.035454,
     "end_time": "2024-04-18T14:41:31.147850",
     "exception": false,
     "start_time": "2024-04-18T14:41:31.112396",
     "status": "completed"
    },
    "tags": []
   },
   "outputs": [],
   "source": [
    "def minValue(root: BinaryTreeNode) -> int:\n",
    "    \"Time Complexity: O(N)\"\n",
    "    curr: BinaryTreeNode = root\n",
    "    while curr and curr.left:\n",
    "        curr = curr.left\n",
    "\n",
    "    return curr.val if curr else -1"
   ]
  },
  {
   "cell_type": "markdown",
   "id": "205a41bc",
   "metadata": {
    "papermill": {
     "duration": 0.028287,
     "end_time": "2024-04-18T14:41:31.204976",
     "exception": false,
     "start_time": "2024-04-18T14:41:31.176689",
     "status": "completed"
    },
    "tags": []
   },
   "source": [
    "Floor from BST"
   ]
  },
  {
   "cell_type": "code",
   "execution_count": 52,
   "id": "b4b9c2fe",
   "metadata": {
    "execution": {
     "iopub.execute_input": "2024-04-18T14:41:31.263199Z",
     "iopub.status.busy": "2024-04-18T14:41:31.262600Z",
     "iopub.status.idle": "2024-04-18T14:41:31.269892Z",
     "shell.execute_reply": "2024-04-18T14:41:31.269065Z"
    },
    "lines_to_next_cell": 1,
    "papermill": {
     "duration": 0.038177,
     "end_time": "2024-04-18T14:41:31.271513",
     "exception": false,
     "start_time": "2024-04-18T14:41:31.233336",
     "status": "completed"
    },
    "tags": []
   },
   "outputs": [
    {
     "name": "stdout",
     "output_type": "stream",
     "text": [
      "10\n"
     ]
    }
   ],
   "source": [
    "# Read input as specified in the question\n",
    "# target, *nums = list(map(lambda x: int(x) if x != '-1' else None, input().split()))\n",
    "target, nums = 11, [5, 2, 9, 1, 3, 6, 10]\n",
    "k: float = -1\n",
    "queue: list[BinaryTreeNode] = []\n",
    "for num in nums:\n",
    "    curr = BinaryTreeNode(num) if num else None\n",
    "    if curr:\n",
    "        queue.append(curr)\n",
    "    if k == -1:\n",
    "        k += 1\n",
    "    elif int(k) == k:\n",
    "        queue[int(k)].left = curr\n",
    "        k += 0.5\n",
    "    else:\n",
    "        queue[int(k)].right = curr\n",
    "        k += 0.5\n",
    "\n",
    "queue[0].to_list()\n",
    "\n",
    "# Find the floor of the number\n",
    "curr, floor = queue[0], -1\n",
    "while curr:\n",
    "    if curr.val <= target:\n",
    "        floor = curr.val\n",
    "        curr = curr.right\n",
    "    else:\n",
    "        curr = curr.left\n",
    "\n",
    "print(floor)"
   ]
  },
  {
   "cell_type": "markdown",
   "id": "19c4167d",
   "metadata": {
    "papermill": {
     "duration": 0.028465,
     "end_time": "2024-04-18T14:41:31.328771",
     "exception": false,
     "start_time": "2024-04-18T14:41:31.300306",
     "status": "completed"
    },
    "tags": []
   },
   "source": [
    "Insert into a BST"
   ]
  },
  {
   "cell_type": "code",
   "execution_count": 53,
   "id": "246602ef",
   "metadata": {
    "execution": {
     "iopub.execute_input": "2024-04-18T14:41:31.386859Z",
     "iopub.status.busy": "2024-04-18T14:41:31.386319Z",
     "iopub.status.idle": "2024-04-18T14:41:31.391597Z",
     "shell.execute_reply": "2024-04-18T14:41:31.390825Z"
    },
    "lines_to_next_cell": 1,
    "papermill": {
     "duration": 0.036202,
     "end_time": "2024-04-18T14:41:31.393371",
     "exception": false,
     "start_time": "2024-04-18T14:41:31.357169",
     "status": "completed"
    },
    "tags": []
   },
   "outputs": [],
   "source": [
    "def insertIntoBST(root: BinaryTreeNode, val: int) -> BinaryTreeNode:\n",
    "    if not root:\n",
    "        root = BinaryTreeNode(val)\n",
    "    elif root.val < val:\n",
    "        root.right = insertIntoBST(root.right, val)\n",
    "    else:\n",
    "        root.left = insertIntoBST(root.left, val)\n",
    "\n",
    "    return root\n",
    "\n",
    "# Testing the solution\n",
    "assert insertIntoBST(BinaryTreeNode.from_array([4,2,7,1,3]), 5).to_list() == [4,2,7,1,3,5]"
   ]
  },
  {
   "cell_type": "markdown",
   "id": "245f9178",
   "metadata": {
    "papermill": {
     "duration": 0.028524,
     "end_time": "2024-04-18T14:41:31.450820",
     "exception": false,
     "start_time": "2024-04-18T14:41:31.422296",
     "status": "completed"
    },
    "tags": []
   },
   "source": [
    "LCA in a BST of two nodes: https://leetcode.com/problems/lowest-common-ancestor-of-a-binary-search-tree/submissions/1234964550"
   ]
  },
  {
   "cell_type": "code",
   "execution_count": 54,
   "id": "5f723be8",
   "metadata": {
    "execution": {
     "iopub.execute_input": "2024-04-18T14:41:31.509729Z",
     "iopub.status.busy": "2024-04-18T14:41:31.509037Z",
     "iopub.status.idle": "2024-04-18T14:41:31.515734Z",
     "shell.execute_reply": "2024-04-18T14:41:31.515098Z"
    },
    "lines_to_next_cell": 1,
    "papermill": {
     "duration": 0.038034,
     "end_time": "2024-04-18T14:41:31.517422",
     "exception": false,
     "start_time": "2024-04-18T14:41:31.479388",
     "status": "completed"
    },
    "tags": []
   },
   "outputs": [],
   "source": [
    "def lowestCommonAncestor(root: BinaryTreeNode, p: BinaryTreeNode, q: BinaryTreeNode) -> BinaryTreeNode:\n",
    "    \"\"\"\n",
    "    If root equals p/q or if p < root < q that is our LCA. Otherwise traverse left of right.\n",
    "    Time: O(log N), Space: O(1)\n",
    "    \"\"\"\n",
    "\n",
    "    low = p if p.val < q.val else q\n",
    "    high = q if p.val < q.val else p\n",
    "\n",
    "    if root.val == low.val or root.val == high.val or low.val < root.val < high.val:\n",
    "        return root\n",
    "    elif root.val > p.val and root.val > q.val:\n",
    "        return lowestCommonAncestor(root.left, p, q)\n",
    "    else:\n",
    "        return lowestCommonAncestor(root.right, p, q)\n",
    "\n",
    "# Testing the solution\n",
    "temp: BinaryTreeNode = BinaryTreeNode.from_array([6,2,8,0,4,7,9,None,None,3,5])\n",
    "assert lowestCommonAncestor(temp, p=temp.left, q=temp.right).val == 6"
   ]
  },
  {
   "cell_type": "markdown",
   "id": "591d92a4",
   "metadata": {
    "papermill": {
     "duration": 0.028369,
     "end_time": "2024-04-18T14:41:31.574431",
     "exception": false,
     "start_time": "2024-04-18T14:41:31.546062",
     "status": "completed"
    },
    "tags": []
   },
   "source": [
    "Smallest string starting from leaf: https://leetcode.com/problems/smallest-string-starting-from-leaf/submissions/1235018957"
   ]
  },
  {
   "cell_type": "code",
   "execution_count": 55,
   "id": "654f9b3f",
   "metadata": {
    "execution": {
     "iopub.execute_input": "2024-04-18T14:41:31.636402Z",
     "iopub.status.busy": "2024-04-18T14:41:31.635806Z",
     "iopub.status.idle": "2024-04-18T14:41:31.644017Z",
     "shell.execute_reply": "2024-04-18T14:41:31.643185Z"
    },
    "lines_to_next_cell": 1,
    "papermill": {
     "duration": 0.043008,
     "end_time": "2024-04-18T14:41:31.645898",
     "exception": false,
     "start_time": "2024-04-18T14:41:31.602890",
     "status": "completed"
    },
    "tags": []
   },
   "outputs": [],
   "source": [
    "def smallestFromLeaf(root: BinaryTreeNode) -> str:\n",
    "    result: str = chr(ord('z') + 1)\n",
    "    def backtrack(curr: BinaryTreeNode, acc: str = \"\"):\n",
    "        if curr:\n",
    "            acc_ = chr(curr.val + ord('a')) + acc\n",
    "            if not curr.left and not curr.right:\n",
    "                nonlocal result\n",
    "                result = min(result, acc_)\n",
    "            else:\n",
    "                backtrack(curr.left, acc_)\n",
    "                backtrack(curr.right, acc_)\n",
    "\n",
    "    backtrack(root)\n",
    "    return result\n",
    "\n",
    "# Testing the solution\n",
    "assert smallestFromLeaf(BinaryTreeNode.from_array([25,1,3,1,3,0,2])) == \"adz\"\n",
    "assert smallestFromLeaf(BinaryTreeNode.from_array([2,2,1,None,1,0,None,0])) == \"abc\"\n",
    "assert smallestFromLeaf(BinaryTreeNode.from_array([4,0,1,1])) == \"bae\"\n",
    "assert smallestFromLeaf(BinaryTreeNode.from_array([25,1,None,0,0,1,None,None,None,0])) == \"ababz\""
   ]
  },
  {
   "cell_type": "markdown",
   "id": "0938e6bc",
   "metadata": {
    "papermill": {
     "duration": 0.028618,
     "end_time": "2024-04-18T14:41:31.704438",
     "exception": false,
     "start_time": "2024-04-18T14:41:31.675820",
     "status": "completed"
    },
    "tags": []
   },
   "source": [
    "Island Permeter: https://leetcode.com/problems/island-perimeter/submissions/1235424369/"
   ]
  },
  {
   "cell_type": "code",
   "execution_count": 56,
   "id": "003c3125",
   "metadata": {
    "execution": {
     "iopub.execute_input": "2024-04-18T14:41:31.762971Z",
     "iopub.status.busy": "2024-04-18T14:41:31.762648Z",
     "iopub.status.idle": "2024-04-18T14:41:31.769628Z",
     "shell.execute_reply": "2024-04-18T14:41:31.768856Z"
    },
    "lines_to_next_cell": 1,
    "papermill": {
     "duration": 0.038276,
     "end_time": "2024-04-18T14:41:31.771209",
     "exception": false,
     "start_time": "2024-04-18T14:41:31.732933",
     "status": "completed"
    },
    "tags": []
   },
   "outputs": [],
   "source": [
    "def islandPerimeter(grid: list[list[int]]) -> int:\n",
    "    \"Time: O(MN), Space: O(1)\"\n",
    "    N, M = len(grid), len(grid[0])\n",
    "    perimeter: int = 0\n",
    "    for i in range(N):\n",
    "        for j in range(M):\n",
    "            if grid[i][j] == 1:\n",
    "                perimeter += i == 0 or grid[i - 1][j] == 0\n",
    "                perimeter += j == 0 or grid[i][j - 1] == 0\n",
    "                perimeter += i == N - 1 or grid[i + 1][j] == 0\n",
    "                perimeter += j == M - 1 or grid[i][j + 1] == 0\n",
    "\n",
    "    return perimeter\n",
    "\n",
    "# Testing the Solution\n",
    "assert islandPerimeter([[0,1,0,0],[1,1,1,0],[0,1,0,0],[1,1,0,0]]) == 16"
   ]
  },
  {
   "cell_type": "markdown",
   "id": "c9452394",
   "metadata": {
    "papermill": {
     "duration": 0.028624,
     "end_time": "2024-04-18T14:41:31.828778",
     "exception": false,
     "start_time": "2024-04-18T14:41:31.800154",
     "status": "completed"
    },
    "tags": []
   },
   "source": [
    "Predecessor And Successor In BST"
   ]
  },
  {
   "cell_type": "code",
   "execution_count": 57,
   "id": "88e2210d",
   "metadata": {
    "execution": {
     "iopub.execute_input": "2024-04-18T14:41:31.888148Z",
     "iopub.status.busy": "2024-04-18T14:41:31.887409Z",
     "iopub.status.idle": "2024-04-18T14:41:31.897733Z",
     "shell.execute_reply": "2024-04-18T14:41:31.897077Z"
    },
    "lines_to_next_cell": 1,
    "papermill": {
     "duration": 0.042057,
     "end_time": "2024-04-18T14:41:31.899408",
     "exception": false,
     "start_time": "2024-04-18T14:41:31.857351",
     "status": "completed"
    },
    "tags": []
   },
   "outputs": [],
   "source": [
    "def predecessorSuccessorBrute(root: BinaryTreeNode, key: int):\n",
    "    \"Time: O(N), Space: O(N)\"\n",
    "    inorder: list[int] = []\n",
    "    stack: list[BinaryTreeNode] = []\n",
    "    curr = root\n",
    "    while stack or curr:\n",
    "        if curr:\n",
    "            stack.append(curr)\n",
    "            curr = curr.left\n",
    "        else:\n",
    "            curr = stack.pop()\n",
    "            inorder.append(curr.val)\n",
    "            curr = curr.right\n",
    "\n",
    "    # Find the Idx where the element can go, it may or may not exist.\n",
    "    inorder = [-1, *inorder, -1]\n",
    "    N = len(inorder)\n",
    "    low, high = 1, N - 2\n",
    "    while low <= high:\n",
    "        idx = (low + high) // 2\n",
    "        if inorder[idx] == key:\n",
    "            return inorder[idx - 1], inorder[idx + 1]\n",
    "        if inorder[idx] < key:\n",
    "            low = idx + 1\n",
    "        else:\n",
    "            high = idx - 1\n",
    "    else:\n",
    "        return inorder[low - 1], inorder[low]\n",
    "\n",
    "# Testing the solution\n",
    "assert predecessorSuccessorBrute(BinaryTreeNode.from_array([2, 1, 3]), 2) == (1, 3)\n",
    "assert predecessorSuccessorBrute(BinaryTreeNode.from_array([2, 1, 3]), 1) == (-1, 2)\n",
    "assert predecessorSuccessorBrute(BinaryTreeNode.from_array([2, 1, 3]), 3) == (2, -1)\n",
    "assert predecessorSuccessorBrute(BinaryTreeNode.from_array([2, 1, 3]), 4) == (3, -1)\n",
    "assert predecessorSuccessorBrute(BinaryTreeNode.from_array([2, 1, 3]), 0) == (-1, 1)\n",
    "assert predecessorSuccessorBrute(BinaryTreeNode.from_array([2, 0, 3]), 1) == (0, 2)"
   ]
  },
  {
   "cell_type": "markdown",
   "id": "2b775761",
   "metadata": {
    "papermill": {
     "duration": 0.029239,
     "end_time": "2024-04-18T14:41:31.957810",
     "exception": false,
     "start_time": "2024-04-18T14:41:31.928571",
     "status": "completed"
    },
    "tags": []
   },
   "source": [
    "Binary Search Tree Iterator: https://leetcode.com/problems/binary-search-tree-iterator/submissions/1235796453 "
   ]
  },
  {
   "cell_type": "code",
   "execution_count": 58,
   "id": "8b544b45",
   "metadata": {
    "execution": {
     "iopub.execute_input": "2024-04-18T14:41:32.018626Z",
     "iopub.status.busy": "2024-04-18T14:41:32.017895Z",
     "iopub.status.idle": "2024-04-18T14:41:32.026738Z",
     "shell.execute_reply": "2024-04-18T14:41:32.026100Z"
    },
    "lines_to_next_cell": 1,
    "papermill": {
     "duration": 0.041311,
     "end_time": "2024-04-18T14:41:32.028362",
     "exception": false,
     "start_time": "2024-04-18T14:41:31.987051",
     "status": "completed"
    },
    "tags": []
   },
   "outputs": [],
   "source": [
    "class BSTIterator:\n",
    "        def __init__(self, root: BinaryTreeNode):\n",
    "\n",
    "            # Logic to find the max of BST\n",
    "            self.max_ = -1\n",
    "            curr = root\n",
    "            while curr:\n",
    "                self.max_ = curr.val\n",
    "                curr = curr.right\n",
    "\n",
    "            self.generator = BSTIterator.inorder(root)\n",
    "            self.prev = -1\n",
    "\n",
    "        @staticmethod\n",
    "        def inorder(curr: BinaryTreeNode) -> Generator[int, None, None]:\n",
    "            if not curr:\n",
    "                yield -1\n",
    "            else:\n",
    "                yield from BSTIterator.inorder(curr.left)\n",
    "                yield curr.val\n",
    "                yield from BSTIterator.inorder(curr.right)\n",
    "\n",
    "        def next(self) -> int:\n",
    "            curr = -1\n",
    "            while curr == -1:\n",
    "                curr = next(self.generator)\n",
    "\n",
    "            self.prev = curr\n",
    "            return curr\n",
    "\n",
    "        def hasNext(self) -> bool:\n",
    "            return self.prev < self.max_\n",
    "\n",
    "# Testing the solution\n",
    "bstIter = BSTIterator(BinaryTreeNode.from_array([7,3,15,None,None,9,20]))\n",
    "temp: list[int] = []\n",
    "while bstIter.hasNext():\n",
    "    temp.append(bstIter.next())\n",
    "\n",
    "assert temp == [3, 7, 9, 15, 20]"
   ]
  },
  {
   "cell_type": "markdown",
   "id": "b746cac5",
   "metadata": {},
   "source": [
    "Problem Link: https://leetcode.com/problems/recover-binary-search-tree/submissions/1236357794/"
   ]
  },
  {
   "cell_type": "code",
   "execution_count": null,
   "id": "417a1ab3",
   "metadata": {},
   "outputs": [],
   "source": [
    "def recoverTree(root: BinaryTreeNode) -> None:\n",
    "    \"Time: O(N), Space: O(1)\"\n",
    "    stack: list[BinaryTreeNode] = []\n",
    "\n",
    "    prev: BinaryTreeNode|None = None\n",
    "    curr: BinaryTreeNode|None = root\n",
    "    swap1: BinaryTreeNode|None = None\n",
    "    swap2: BinaryTreeNode|None = None\n",
    "\n",
    "    while curr or stack:\n",
    "        if curr:\n",
    "            stack.append(curr)\n",
    "            curr = curr.left\n",
    "        else:\n",
    "            curr = stack.pop()\n",
    "            if not swap1 and prev and curr.val < prev.val:\n",
    "                swap1 = prev\n",
    "            elif not swap2 and swap1 and curr.val > swap1.val:\n",
    "                swap2 = prev\n",
    "                break\n",
    "\n",
    "            prev, curr = curr, curr.right\n",
    "\n",
    "    if not swap2:\n",
    "        swap2 = prev\n",
    "\n",
    "    # Swap the values of the two pointers\n",
    "    if swap1 and swap2:\n",
    "        swap1.val, swap2.val = swap2.val, swap1.val\n",
    "\n",
    "for i in range(3, 50):\n",
    "    original = generateBST(i, 1, 100).to_list()\n",
    "    copy = [*original]\n",
    "    j_, k_ = np.random.choice(range(i), 2, replace=False)\n",
    "    while not copy[j_] or not copy[k_]:\n",
    "        j_, k_ = np.random.choice(range(i), 2, replace=False)\n",
    "    copy[j_], copy[k_] = copy[k_], copy[j_]\n",
    "    bst = BinaryTreeNode.from_array(copy)\n",
    "    recoverTree(bst)\n",
    "    assert bst.to_list() == original"
   ]
  },
  {
   "cell_type": "markdown",
   "id": "4ea8e86e",
   "metadata": {},
   "source": [
    "Problem link: https://leetcode.com/problems/rising-temperature/description/"
   ]
  },
  {
   "cell_type": "code",
   "execution_count": null,
   "id": "2e5cf08b",
   "metadata": {},
   "outputs": [],
   "source": [
    "import datetime as dt\n",
    "def rising_temperature_pandas(weather: pd.DataFrame) -> pd.DataFrame:\n",
    "    records = dict(zip(weather['recordDate'], weather['temperature']))\n",
    "    results: list[str] = []\n",
    "\n",
    "    for row in weather.itertuples():\n",
    "        prevDay = row[2] - dt.timedelta(days=1)\n",
    "        if records.get(prevDay, math.inf) < row[3]:\n",
    "            results.append(row[1])\n",
    "\n",
    "    return pd.DataFrame(data=results, columns=['id'])\n",
    "\n",
    "# Testing the solution\n",
    "temp = read_lc_df(\"\"\"\n",
    "+----+------------+-------------+\n",
    "| id | recordDate | temperature |\n",
    "| -- | ---------- | ----------- |\n",
    "| 1  | 2000-12-14 | 3           |\n",
    "| 2  | 2000-12-16 | 5           |\n",
    "+----+------------+-------------+\n",
    "\"\"\", dtypes={'recordDate': 'datetime64[ns]', 'temperature': 'float'})\n",
    "\n",
    "# temp['temperature'] = temp['temperature'].astype(float)\n",
    "# temp['recordDate'] = pd.to_datetime(temp['recordDate'])\n",
    "assert rising_temperature_pandas(temp)['id'].to_list() == []"
   ]
  }
 ],
 "metadata": {
  "kernelspec": {
   "display_name": "Python 3 (ipykernel)",
   "language": "python",
   "name": "python3"
  },
  "language_info": {
   "codemirror_mode": {
    "name": "ipython",
    "version": 3
   },
   "file_extension": ".py",
   "mimetype": "text/x-python",
   "name": "python",
   "nbconvert_exporter": "python",
   "pygments_lexer": "ipython3",
   "version": "3.10.14"
  },
  "papermill": {
   "default_parameters": {},
   "duration": 27.957978,
   "end_time": "2024-04-18T14:41:32.274548",
   "environment_variables": {},
   "exception": null,
   "input_path": "practice/001.ipynb",
   "output_path": "practice/001.ipynb",
   "parameters": {},
   "start_time": "2024-04-18T14:41:04.316570",
   "version": "2.5.0"
  }
 },
 "nbformat": 4,
 "nbformat_minor": 5
}
