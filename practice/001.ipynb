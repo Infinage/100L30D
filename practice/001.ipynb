{
 "cells": [
  {
   "cell_type": "code",
   "execution_count": 1,
   "id": "3f12b031",
   "metadata": {
    "execution": {
     "iopub.execute_input": "2024-04-03T15:29:45.151728Z",
     "iopub.status.busy": "2024-04-03T15:29:45.150974Z",
     "iopub.status.idle": "2024-04-03T15:29:45.670458Z",
     "shell.execute_reply": "2024-04-03T15:29:45.669676Z"
    },
    "papermill": {
     "duration": 0.532655,
     "end_time": "2024-04-03T15:29:45.672540",
     "exception": false,
     "start_time": "2024-04-03T15:29:45.139885",
     "status": "completed"
    },
    "tags": []
   },
   "outputs": [],
   "source": [
    "from typing import List, Optional\n",
    "import pandas as pd\n",
    "import numpy as np\n",
    "import sqlite3\n",
    "import re\n",
    "import io\n",
    "import math\n",
    "import collections\n",
    "import itertools\n",
    "import functools\n",
    "import random\n",
    "import string\n",
    "import tqdm\n",
    "import bisect\n",
    "\n",
    "conn = sqlite3.connect(\":memory:\")\n",
    "\n",
    "def regexp(expr, item):\n",
    "    reg = re.compile(expr)\n",
    "    return reg.search(item) is not None\n",
    "\n",
    "def read_lc_df(s: str) -> pd.DataFrame:\n",
    "    temp = pd.read_csv(io.StringIO(s), sep=\"|\", skiprows=2)\n",
    "    temp = temp.iloc[1:-1, 1:-1]\n",
    "    temp.columns = temp.columns.map(str.strip)\n",
    "    temp = temp.map(lambda x: x if type(x) != str else None if x.strip() == 'null' else x.strip())\n",
    "    return temp\n",
    "\n",
    "conn.create_function(\"REGEXP\", 2, regexp)"
   ]
  },
  {
   "cell_type": "markdown",
   "id": "7f5a0241",
   "metadata": {
    "papermill": {
     "duration": 0.008704,
     "end_time": "2024-04-03T15:29:45.690462",
     "exception": false,
     "start_time": "2024-04-03T15:29:45.681758",
     "status": "completed"
    },
    "tags": []
   },
   "source": [
    "#### Helper for Binary tree problems"
   ]
  },
  {
   "cell_type": "code",
   "execution_count": 2,
   "id": "85eb2598",
   "metadata": {
    "execution": {
     "iopub.execute_input": "2024-04-03T15:29:45.709758Z",
     "iopub.status.busy": "2024-04-03T15:29:45.709168Z",
     "iopub.status.idle": "2024-04-03T15:29:45.719579Z",
     "shell.execute_reply": "2024-04-03T15:29:45.718675Z"
    },
    "lines_to_next_cell": 1,
    "papermill": {
     "duration": 0.022229,
     "end_time": "2024-04-03T15:29:45.721366",
     "exception": false,
     "start_time": "2024-04-03T15:29:45.699137",
     "status": "completed"
    },
    "tags": []
   },
   "outputs": [],
   "source": [
    "class BinaryTreeNode:\n",
    "    def __init__(self, val=0, left=None, right=None):\n",
    "        self.val = val\n",
    "        self.left = left\n",
    "        self.right = right\n",
    "\n",
    "    def to_list(self):\n",
    "        to_visit = [self]\n",
    "        visited = []\n",
    "        while len(to_visit) > 0:\n",
    "            curr = to_visit.pop(0)\n",
    "            if curr:\n",
    "                to_visit.append(curr.left)\n",
    "                to_visit.append(curr.right)\n",
    "                visited.append(curr.val)\n",
    "            else:\n",
    "                visited.append(curr)\n",
    "        return visited\n",
    "\n",
    "    def __str__(self):\n",
    "        return str(self.val)\n",
    "\n",
    "    @staticmethod\n",
    "    def from_array(nums: list[int|None]):\n",
    "        '''Create a Tree from a list of nums. Returns the root node.'''\n",
    "        if len(nums) == 0:\n",
    "            return None\n",
    "        elif len(nums) == 1:\n",
    "            return BinaryTreeNode(nums[0])\n",
    "        else:\n",
    "            forest = [BinaryTreeNode(nums[0])]\n",
    "            parent_idx = -1\n",
    "            for i in range(1, len(nums)):\n",
    "\n",
    "                curr = None\n",
    "                if nums[i] is not None:\n",
    "                    curr = BinaryTreeNode(nums[i])\n",
    "                    forest.append(curr)\n",
    "\n",
    "                if i % 2 == 1:\n",
    "                    parent_idx += 1\n",
    "                    forest[parent_idx].left = curr\n",
    "                else:\n",
    "                    forest[parent_idx].right = curr\n",
    "\n",
    "        return forest[0]"
   ]
  },
  {
   "cell_type": "markdown",
   "id": "1ef703cf",
   "metadata": {
    "papermill": {
     "duration": 0.008487,
     "end_time": "2024-04-03T15:29:45.738814",
     "exception": false,
     "start_time": "2024-04-03T15:29:45.730327",
     "status": "completed"
    },
    "tags": []
   },
   "source": [
    "#### Helper for Singly Linked lists"
   ]
  },
  {
   "cell_type": "code",
   "execution_count": 3,
   "id": "3de163a1",
   "metadata": {
    "execution": {
     "iopub.execute_input": "2024-04-03T15:29:45.757841Z",
     "iopub.status.busy": "2024-04-03T15:29:45.757195Z",
     "iopub.status.idle": "2024-04-03T15:29:45.764106Z",
     "shell.execute_reply": "2024-04-03T15:29:45.763346Z"
    },
    "lines_to_next_cell": 1,
    "papermill": {
     "duration": 0.018311,
     "end_time": "2024-04-03T15:29:45.765854",
     "exception": false,
     "start_time": "2024-04-03T15:29:45.747543",
     "status": "completed"
    },
    "tags": []
   },
   "outputs": [],
   "source": [
    "class ListNode:\n",
    "    def __init__(self, val=0, next=None):\n",
    "        self.val = val\n",
    "        self.next = next\n",
    "\n",
    "    def __str__(self):\n",
    "        return str(self.val)\n",
    "\n",
    "    @staticmethod\n",
    "    def to_singly_linked_list(nums: list[int]):\n",
    "        root = prev = None\n",
    "        for n in nums:\n",
    "            curr = ListNode(n)\n",
    "            # Init once\n",
    "            if not root:\n",
    "                root = curr\n",
    "            if prev:\n",
    "                prev.next = curr\n",
    "            prev = curr\n",
    "\n",
    "        return root\n",
    "\n",
    "    def to_list(self) -> list[int]:\n",
    "        result = []\n",
    "        curr = self\n",
    "        while curr:\n",
    "            result.append(curr.val)\n",
    "            curr = curr.next\n",
    "        return result"
   ]
  },
  {
   "cell_type": "code",
   "execution_count": 4,
   "id": "e9a621b3",
   "metadata": {
    "execution": {
     "iopub.execute_input": "2024-04-03T15:29:45.784689Z",
     "iopub.status.busy": "2024-04-03T15:29:45.784118Z",
     "iopub.status.idle": "2024-04-03T15:29:45.791448Z",
     "shell.execute_reply": "2024-04-03T15:29:45.790677Z"
    },
    "lines_to_next_cell": 1,
    "papermill": {
     "duration": 0.018594,
     "end_time": "2024-04-03T15:29:45.793211",
     "exception": false,
     "start_time": "2024-04-03T15:29:45.774617",
     "status": "completed"
    },
    "tags": []
   },
   "outputs": [],
   "source": [
    "# Problem Category: Easy\n",
    "# Link: https://leetcode.com/problems/find-mode-in-binary-search-tree/submissions/1187947888\n",
    "class Solution:\n",
    "    def findMode(self, root: BinaryTreeNode) -> List[int]:\n",
    "        def backtrack(curr: BinaryTreeNode):\n",
    "            if curr == None:\n",
    "                return\n",
    "            else:\n",
    "                hm[curr.val] = hm.get(curr.val, 0) + 1\n",
    "                backtrack(curr.left)\n",
    "                backtrack(curr.right)\n",
    "\n",
    "        hm: dict[int, int] = dict()\n",
    "        backtrack(root)\n",
    "        max_ = max(hm.values())\n",
    "        result: list[int] = []\n",
    "        for k, v in hm.items():\n",
    "            if v == max_:\n",
    "                result.append(k)\n",
    "        return result\n",
    "\n",
    "# Testing the solution\n",
    "assert Solution().findMode(BinaryTreeNode.from_array([1,None,2,2])) == [2]\n",
    "assert Solution().findMode(BinaryTreeNode.from_array([0])) == [0]"
   ]
  },
  {
   "cell_type": "code",
   "execution_count": 5,
   "id": "9b733058",
   "metadata": {
    "execution": {
     "iopub.execute_input": "2024-04-03T15:29:45.812513Z",
     "iopub.status.busy": "2024-04-03T15:29:45.811918Z",
     "iopub.status.idle": "2024-04-03T15:29:45.818695Z",
     "shell.execute_reply": "2024-04-03T15:29:45.817867Z"
    },
    "lines_to_next_cell": 1,
    "papermill": {
     "duration": 0.018195,
     "end_time": "2024-04-03T15:29:45.820374",
     "exception": false,
     "start_time": "2024-04-03T15:29:45.802179",
     "status": "completed"
    },
    "tags": []
   },
   "outputs": [],
   "source": [
    "# Problem Category: Medium\n",
    "# Link: https://leetcode.com/problems/find-bottom-left-tree-value/submissions/1188894879/\n",
    "class Solution:\n",
    "    def findBottomLeftValue(self, root: BinaryTreeNode) -> int:\n",
    "        next_: list[BinaryTreeNode] = [root]\n",
    "        while True:\n",
    "            next_next_: list[BinaryTreeNode] = []\n",
    "            for node in next_:\n",
    "                if node.left:\n",
    "                    next_next_.append(node.left)\n",
    "                if node.right:\n",
    "                    next_next_.append(node.right)\n",
    "            if next_next_:\n",
    "                next_ = next_next_\n",
    "            else:\n",
    "                break\n",
    "        return next_[0].val\n",
    "\n",
    "# Testing the solution\n",
    "assert Solution().findBottomLeftValue(BinaryTreeNode.from_array([2, 1, 3])) == 1\n",
    "assert Solution().findBottomLeftValue(BinaryTreeNode.from_array([1,2,3,4,None,5,6,None,None,7])) == 7"
   ]
  },
  {
   "cell_type": "code",
   "execution_count": 6,
   "id": "d0726800",
   "metadata": {
    "execution": {
     "iopub.execute_input": "2024-04-03T15:29:45.839636Z",
     "iopub.status.busy": "2024-04-03T15:29:45.839033Z",
     "iopub.status.idle": "2024-04-03T15:29:45.844641Z",
     "shell.execute_reply": "2024-04-03T15:29:45.843855Z"
    },
    "lines_to_next_cell": 1,
    "papermill": {
     "duration": 0.01704,
     "end_time": "2024-04-03T15:29:45.846403",
     "exception": false,
     "start_time": "2024-04-03T15:29:45.829363",
     "status": "completed"
    },
    "tags": []
   },
   "outputs": [],
   "source": [
    "# Problem Category: Easy\n",
    "# Link: https://leetcode.com/problems/maximum-odd-binary-number/1190823057\n",
    "class Solution:\n",
    "    def maximumOddBinaryNumber(self, s: str) -> str:\n",
    "        counts = dict(collections.Counter(s))\n",
    "        zeros = counts.get('0', 0) * '0'\n",
    "        ones = (counts.get('1', 0) - 1) * '1'\n",
    "        return ones + zeros + '1'\n",
    "\n",
    "# Testing the solution\n",
    "assert Solution().maximumOddBinaryNumber(\"010\") == \"001\"\n",
    "assert Solution().maximumOddBinaryNumber(\"0101\") == \"1001\""
   ]
  },
  {
   "cell_type": "code",
   "execution_count": 7,
   "id": "a61be2aa",
   "metadata": {
    "execution": {
     "iopub.execute_input": "2024-04-03T15:29:45.865261Z",
     "iopub.status.busy": "2024-04-03T15:29:45.864660Z",
     "iopub.status.idle": "2024-04-03T15:29:45.872085Z",
     "shell.execute_reply": "2024-04-03T15:29:45.871416Z"
    },
    "lines_to_next_cell": 1,
    "papermill": {
     "duration": 0.018772,
     "end_time": "2024-04-03T15:29:45.873850",
     "exception": false,
     "start_time": "2024-04-03T15:29:45.855078",
     "status": "completed"
    },
    "tags": []
   },
   "outputs": [],
   "source": [
    "# Problem Category: Easy\n",
    "# Link: https://leetcode.com/problems/squares-of-a-sorted-array\n",
    "class Solution:\n",
    "    def sortedSquares(self, nums: list[int]) -> list[int]:\n",
    "        N = len(nums)\n",
    "        i, j = 0, N - 1\n",
    "        sorted_by_magnitude: list[int] = []\n",
    "        while i <= j:\n",
    "            if abs(nums[i]) > abs(nums[j]):\n",
    "                sorted_by_magnitude.append(nums[i])\n",
    "                i += 1\n",
    "            else:\n",
    "                sorted_by_magnitude.append(nums[j])\n",
    "                j -= 1\n",
    "        sorted_by_magnitude.reverse()\n",
    "\n",
    "        result: list[int] = []\n",
    "        for num in sorted_by_magnitude:\n",
    "            result.append(num * num)\n",
    "\n",
    "        return result\n",
    "\n",
    "# Testing the solution\n",
    "assert Solution().sortedSquares([-4,-1,0,3,10]) == [0, 1, 9, 16, 100]\n",
    "assert Solution().sortedSquares([-7,-4,-1,0,3,10]) == [0, 1, 9, 16, 49, 100]"
   ]
  },
  {
   "cell_type": "code",
   "execution_count": 8,
   "id": "f1f33401",
   "metadata": {
    "execution": {
     "iopub.execute_input": "2024-04-03T15:29:45.892667Z",
     "iopub.status.busy": "2024-04-03T15:29:45.892049Z",
     "iopub.status.idle": "2024-04-03T15:29:45.899474Z",
     "shell.execute_reply": "2024-04-03T15:29:45.898700Z"
    },
    "lines_to_next_cell": 1,
    "papermill": {
     "duration": 0.018622,
     "end_time": "2024-04-03T15:29:45.901161",
     "exception": false,
     "start_time": "2024-04-03T15:29:45.882539",
     "status": "completed"
    },
    "tags": []
   },
   "outputs": [],
   "source": [
    "# Problem Category: Medium\n",
    "# Link: https://leetcode.com/problems/minimum-length-of-string-after-deleting-similar-ends/submissions/1194814297\n",
    "class Solution:\n",
    "    def minimumLength(self, s: str) -> int:\n",
    "        N = len(s)\n",
    "        i, j = 0, N - 1\n",
    "        while i < j:\n",
    "            while i < N - 1 and s[i + 1] == s[i] and s[i] == s[j]:\n",
    "                i += 1\n",
    "            while j > 1 and s[j - 1] == s[j] and s[i] == s[j]:\n",
    "                j -= 1\n",
    "            if s[i] == s[j]:\n",
    "                i += 1\n",
    "                j -= 1\n",
    "            else:\n",
    "                return (j - i) + 1\n",
    "        else:\n",
    "            return 1 if i == j else 0\n",
    "\n",
    "# Testing the solution\n",
    "assert Solution().minimumLength(\"ca\") == 2\n",
    "assert Solution().minimumLength(\"cabaabac\") == 0\n",
    "assert Solution().minimumLength(\"aabccabba\") == 3\n",
    "assert Solution().minimumLength(\"bbbbbabbbbccbcbcbccbbabbb\") == 1\n",
    "assert Solution().minimumLength(\"aaaa\") == 0"
   ]
  },
  {
   "cell_type": "code",
   "execution_count": 9,
   "id": "79086e5d",
   "metadata": {
    "execution": {
     "iopub.execute_input": "2024-04-03T15:29:45.920209Z",
     "iopub.status.busy": "2024-04-03T15:29:45.919520Z",
     "iopub.status.idle": "2024-04-03T15:29:45.926119Z",
     "shell.execute_reply": "2024-04-03T15:29:45.925419Z"
    },
    "lines_to_next_cell": 1,
    "papermill": {
     "duration": 0.017787,
     "end_time": "2024-04-03T15:29:45.927800",
     "exception": false,
     "start_time": "2024-04-03T15:29:45.910013",
     "status": "completed"
    },
    "tags": []
   },
   "outputs": [],
   "source": [
    "# Problem Category: Easy\n",
    "# Link: https://leetcode.com/problems/ransom-note/submissions/1195815128\n",
    "class Solution:\n",
    "    def canConstruct(self, ransomNote: str, magazine: str) -> bool:\n",
    "        cr = collections.Counter(ransomNote)\n",
    "        cm = collections.Counter(magazine)\n",
    "        for i in range(ord(\"a\"), ord(\"z\") + 1):\n",
    "            ch = chr(i)\n",
    "            if cm.get(ch, 0) < cr.get(ch, 0):\n",
    "                return False\n",
    "        else:\n",
    "            return True\n",
    "\n",
    "# Testing the solution\n",
    "assert Solution().canConstruct(\"aa\", \"aab\") == True\n",
    "assert Solution().canConstruct(\"a\", \"b\") == False\n",
    "assert Solution().canConstruct(\"aa\", \"ab\") == False"
   ]
  },
  {
   "cell_type": "markdown",
   "id": "86315f1b",
   "metadata": {
    "papermill": {
     "duration": 0.008565,
     "end_time": "2024-04-03T15:29:45.945064",
     "exception": false,
     "start_time": "2024-04-03T15:29:45.936499",
     "status": "completed"
    },
    "tags": []
   },
   "source": [
    "Striver: Pascal's triangle\n",
    "Problem: Finding nCr in minimal time (part of pascal's triangle)\n",
    "Find element at position 1st 2nd column in a pascal's triangle\n",
    "Sol: math.comb(n -1, r - 1)"
   ]
  },
  {
   "cell_type": "code",
   "execution_count": 10,
   "id": "d8a93518",
   "metadata": {
    "execution": {
     "iopub.execute_input": "2024-04-03T15:29:45.963985Z",
     "iopub.status.busy": "2024-04-03T15:29:45.963204Z",
     "iopub.status.idle": "2024-04-03T15:29:45.970149Z",
     "shell.execute_reply": "2024-04-03T15:29:45.969465Z"
    },
    "lines_to_next_cell": 1,
    "papermill": {
     "duration": 0.018345,
     "end_time": "2024-04-03T15:29:45.971854",
     "exception": false,
     "start_time": "2024-04-03T15:29:45.953509",
     "status": "completed"
    },
    "tags": []
   },
   "outputs": [],
   "source": [
    "def nCr(n: int, r: int) -> float:\n",
    "    num = functools.reduce(lambda x, y: x * y, range(n, n - r, -1))\n",
    "    den = functools.reduce(lambda x, y: x * y, range(r, 0, -1))\n",
    "    return num / den\n",
    "\n",
    "# Testing the solution\n",
    "for i in range(50):\n",
    "    i, j = sorted([random.randint(1, 50), random.randint(1, 50)], reverse=True)\n",
    "    assert math.comb(i, j) == nCr(i, j), f\"failed for {i, j}\""
   ]
  },
  {
   "cell_type": "code",
   "execution_count": 11,
   "id": "3936a59e",
   "metadata": {
    "execution": {
     "iopub.execute_input": "2024-04-03T15:29:45.990678Z",
     "iopub.status.busy": "2024-04-03T15:29:45.989910Z",
     "iopub.status.idle": "2024-04-03T15:29:46.001915Z",
     "shell.execute_reply": "2024-04-03T15:29:46.001258Z"
    },
    "lines_to_next_cell": 1,
    "papermill": {
     "duration": 0.023256,
     "end_time": "2024-04-03T15:29:46.003709",
     "exception": false,
     "start_time": "2024-04-03T15:29:45.980453",
     "status": "completed"
    },
    "tags": []
   },
   "outputs": [],
   "source": [
    "# 4Sum\n",
    "class Solution:\n",
    "    def fourSum(self, arr: list[int], target: int) -> set[tuple[int]]:\n",
    "        def update_until(idx: int, update: int, until: int):\n",
    "            temp_idx = idx\n",
    "            assert update != 0\n",
    "            if update > 0:\n",
    "                while temp_idx < until and arr[temp_idx] == arr[idx]:\n",
    "                    temp_idx += update\n",
    "            else:\n",
    "                while temp_idx > until and arr[temp_idx] == arr[idx]:\n",
    "                    temp_idx += update\n",
    "            return temp_idx\n",
    "\n",
    "        N = len(arr)\n",
    "        arr.sort()\n",
    "        result: set[tuple[int]] = set()\n",
    "        i = 0\n",
    "        while i < N - 3:\n",
    "            j = i + 1\n",
    "            while j < N - 2:\n",
    "                k, l = j + 1, N - 1\n",
    "                while k < l:\n",
    "                    curr = arr[i], arr[j], arr[k], arr[l]\n",
    "                    if sum(curr) == target:\n",
    "                        result.add(curr)\n",
    "                        # Increment k, l\n",
    "                        k_, l_ = k, l\n",
    "                        while k_ < l_ and arr[k_] == arr[k] and arr[l_] == arr[l]:\n",
    "                            k_, l_ = k_ + 1, l_ - 1\n",
    "                        k, l = k_, l_\n",
    "                    elif sum(curr) < target:\n",
    "                        # Increment k\n",
    "                        k = update_until(k, 1, l)\n",
    "                    else:\n",
    "                        # Decrement l\n",
    "                        l = update_until(l, -1, k)\n",
    "\n",
    "                # Increment j\n",
    "                j = update_until(j, 1, N - 2)\n",
    "\n",
    "            # Increment i\n",
    "            i = update_until(i, 1, N - 3)\n",
    "\n",
    "        return result\n",
    "\n",
    "# Testing the solution\n",
    "assert Solution().fourSum([1,0,-1,0,-2,2], 0) == {(-2,-1,1,2), (-2,0,0,2), (-1,0,0,1)}\n",
    "assert Solution().fourSum([2,2,2,2,2], 8) == {(2, 2, 2, 2)}"
   ]
  },
  {
   "cell_type": "markdown",
   "id": "e839124e",
   "metadata": {
    "papermill": {
     "duration": 0.008702,
     "end_time": "2024-04-03T15:29:46.021340",
     "exception": false,
     "start_time": "2024-04-03T15:29:46.012638",
     "status": "completed"
    },
    "tags": []
   },
   "source": [
    "Leetcode Weekly contest - 17th March"
   ]
  },
  {
   "cell_type": "code",
   "execution_count": 12,
   "id": "e6574b26",
   "metadata": {
    "execution": {
     "iopub.execute_input": "2024-04-03T15:29:46.040135Z",
     "iopub.status.busy": "2024-04-03T15:29:46.039468Z",
     "iopub.status.idle": "2024-04-03T15:29:46.045093Z",
     "shell.execute_reply": "2024-04-03T15:29:46.044296Z"
    },
    "lines_to_next_cell": 1,
    "papermill": {
     "duration": 0.017067,
     "end_time": "2024-04-03T15:29:46.046842",
     "exception": false,
     "start_time": "2024-04-03T15:29:46.029775",
     "status": "completed"
    },
    "tags": []
   },
   "outputs": [],
   "source": [
    "class Solution:\n",
    "    def isSubstringPresent(self, s: str) -> bool:\n",
    "        rev_ = \"\".join(list(reversed(s)))\n",
    "        N = len(s)\n",
    "        for i in range(N - 1):\n",
    "            if s[i:i+2] in rev_:\n",
    "                return True\n",
    "        return False\n",
    "\n",
    "# Testing the solution\n",
    "assert Solution().isSubstringPresent(\"leetcode\") == True\n",
    "assert Solution().isSubstringPresent(\"abcd\") == False"
   ]
  },
  {
   "cell_type": "markdown",
   "id": "f12cafc3",
   "metadata": {
    "papermill": {
     "duration": 0.008579,
     "end_time": "2024-04-03T15:29:46.064158",
     "exception": false,
     "start_time": "2024-04-03T15:29:46.055579",
     "status": "completed"
    },
    "tags": []
   },
   "source": [
    "zz - z, z, zz (3)\n",
    "zzz - z, z, z, zz, zz, zzz (6)\n",
    "zzzz - z, z, z, z; zz, zz, zz, zzz, zzz, zzzz (10)\n",
    "zzzzz - z, z, z, z, z, zz, zz, zz, zz, zzz, zzz, zzz, zzzz, zzzz, zzzzz (15)"
   ]
  },
  {
   "cell_type": "code",
   "execution_count": 13,
   "id": "589d1561",
   "metadata": {
    "execution": {
     "iopub.execute_input": "2024-04-03T15:29:46.082987Z",
     "iopub.status.busy": "2024-04-03T15:29:46.082515Z",
     "iopub.status.idle": "2024-04-03T15:29:46.087962Z",
     "shell.execute_reply": "2024-04-03T15:29:46.087291Z"
    },
    "lines_to_next_cell": 1,
    "papermill": {
     "duration": 0.016999,
     "end_time": "2024-04-03T15:29:46.089663",
     "exception": false,
     "start_time": "2024-04-03T15:29:46.072664",
     "status": "completed"
    },
    "tags": []
   },
   "outputs": [],
   "source": [
    "class Solution:\n",
    "    def countSubstrings(self, s: str, c: str) -> int:\n",
    "        count = 0\n",
    "        for ch in s:\n",
    "            if ch == c:\n",
    "                count += 1\n",
    "        return (count * (count + 1)) / 2\n",
    "\n",
    "# Testing the solution\n",
    "assert Solution().countSubstrings(\"abada\", \"a\") == 6\n",
    "assert Solution().countSubstrings(\"zzz\", \"z\") == 6"
   ]
  },
  {
   "cell_type": "code",
   "execution_count": 14,
   "id": "a0a48e4b",
   "metadata": {
    "execution": {
     "iopub.execute_input": "2024-04-03T15:29:46.108478Z",
     "iopub.status.busy": "2024-04-03T15:29:46.107843Z",
     "iopub.status.idle": "2024-04-03T15:29:46.115253Z",
     "shell.execute_reply": "2024-04-03T15:29:46.114493Z"
    },
    "lines_to_next_cell": 1,
    "papermill": {
     "duration": 0.018564,
     "end_time": "2024-04-03T15:29:46.116855",
     "exception": false,
     "start_time": "2024-04-03T15:29:46.098291",
     "status": "completed"
    },
    "tags": []
   },
   "outputs": [],
   "source": [
    "class Solution:\n",
    "    def minimumDeletions(self, word: str, k: int) -> int:\n",
    "        freq: list[int] = sorted(collections.Counter(word).values())\n",
    "        N = len(freq)\n",
    "\n",
    "        result = math.inf\n",
    "        sum_ = 0\n",
    "        for i in range(N):\n",
    "            sum_ += freq[i - 1] if i > 0 else 0\n",
    "            curr_ = 0\n",
    "            for j in range(i + 1, N):\n",
    "                if freq[j] - freq[i] > k:\n",
    "                    curr_ += freq[j] - freq[i] - k\n",
    "            result = min(curr_ + sum_, result)\n",
    "\n",
    "        return result\n",
    "\n",
    "# Testing the solution\n",
    "assert Solution().minimumDeletions(\"aabcaba\", 0) == 3\n",
    "assert Solution().minimumDeletions(\"dabdcbdcdcd\", 2) == 2\n",
    "assert Solution().minimumDeletions(\"aaabaaa\", 2) == 1"
   ]
  },
  {
   "cell_type": "markdown",
   "id": "acd2120e",
   "metadata": {
    "papermill": {
     "duration": 0.008666,
     "end_time": "2024-04-03T15:29:46.134291",
     "exception": false,
     "start_time": "2024-04-03T15:29:46.125625",
     "status": "completed"
    },
    "tags": []
   },
   "source": [
    "Leetcode Weekly contest - 17th March\n",
    "Link: https://leetcode.com/problems/search-in-rotated-sorted-array/submissions/1210464524/"
   ]
  },
  {
   "cell_type": "code",
   "execution_count": 15,
   "id": "f7960549",
   "metadata": {
    "execution": {
     "iopub.execute_input": "2024-04-03T15:29:46.153084Z",
     "iopub.status.busy": "2024-04-03T15:29:46.152596Z",
     "iopub.status.idle": "2024-04-03T15:29:46.160494Z",
     "shell.execute_reply": "2024-04-03T15:29:46.159702Z"
    },
    "lines_to_next_cell": 1,
    "papermill": {
     "duration": 0.019482,
     "end_time": "2024-04-03T15:29:46.162313",
     "exception": false,
     "start_time": "2024-04-03T15:29:46.142831",
     "status": "completed"
    },
    "tags": []
   },
   "outputs": [],
   "source": [
    "class Solution:\n",
    "    def search(self, nums: list[int], target: int) -> int:\n",
    "        N = len(nums)\n",
    "        low, high = 0, N - 1\n",
    "        while low <= high:\n",
    "            mid = (low + high) // 2\n",
    "            if nums[mid] == target:\n",
    "                return mid\n",
    "\n",
    "            # Left portion is sorted\n",
    "            elif nums[low] <= nums[mid]:\n",
    "                if nums[low] <= target <= nums[mid]:\n",
    "                    high = mid - 1\n",
    "                else:\n",
    "                    low = mid + 1\n",
    "\n",
    "            # Right portion is sorted\n",
    "            else:\n",
    "                if nums[mid] <= target <= nums[high]:\n",
    "                    low = mid + 1\n",
    "                else:\n",
    "                    high = mid - 1\n",
    "\n",
    "        # Not found\n",
    "        else:\n",
    "            return -1\n",
    "\n",
    "# Testing the solution\n",
    "assert Solution().search([4,5,6,7,0,1,2], 0) == 4\n",
    "assert Solution().search([4,5,6,7,0,1,2], 3) == -1\n",
    "assert Solution().search([1], 0) == -1"
   ]
  },
  {
   "cell_type": "markdown",
   "id": "6d00645d",
   "metadata": {
    "papermill": {
     "duration": 0.008414,
     "end_time": "2024-04-03T15:29:46.179301",
     "exception": false,
     "start_time": "2024-04-03T15:29:46.170887",
     "status": "completed"
    },
    "tags": []
   },
   "source": [
    "Leetcode weekly contest 24th March, 2024"
   ]
  },
  {
   "cell_type": "code",
   "execution_count": 16,
   "id": "4115c1b7",
   "metadata": {
    "execution": {
     "iopub.execute_input": "2024-04-03T15:29:46.198123Z",
     "iopub.status.busy": "2024-04-03T15:29:46.197411Z",
     "iopub.status.idle": "2024-04-03T15:29:46.203992Z",
     "shell.execute_reply": "2024-04-03T15:29:46.203065Z"
    },
    "lines_to_next_cell": 1,
    "papermill": {
     "duration": 0.018055,
     "end_time": "2024-04-03T15:29:46.205885",
     "exception": false,
     "start_time": "2024-04-03T15:29:46.187830",
     "status": "completed"
    },
    "tags": []
   },
   "outputs": [],
   "source": [
    "# Q1 - Easy\n",
    "class Solution:\n",
    "    def maximumLengthSubstring(self, s: str) -> int:\n",
    "        # Brute force\n",
    "        N = len(s)\n",
    "        max_ = 0\n",
    "        for i in range(N - 1):\n",
    "            counts = {s[i]: 1}\n",
    "            for j in range(i + 1, N):\n",
    "                curr_count = counts.get(s[j], 0) + 1\n",
    "                if curr_count > 2:\n",
    "                    break\n",
    "                else:\n",
    "                    counts[s[j]] = curr_count\n",
    "                    max_ = max(max_, j - i + 1)\n",
    "        return max_\n",
    "\n",
    "# Testing the solution\n",
    "assert Solution().maximumLengthSubstring(\"bcbbbcba\") == 4\n",
    "assert Solution().maximumLengthSubstring(\"aaaa\") == 2"
   ]
  },
  {
   "cell_type": "code",
   "execution_count": 17,
   "id": "d41b9204",
   "metadata": {
    "execution": {
     "iopub.execute_input": "2024-04-03T15:29:46.225576Z",
     "iopub.status.busy": "2024-04-03T15:29:46.224765Z",
     "iopub.status.idle": "2024-04-03T15:29:46.230766Z",
     "shell.execute_reply": "2024-04-03T15:29:46.230093Z"
    },
    "lines_to_next_cell": 1,
    "papermill": {
     "duration": 0.017702,
     "end_time": "2024-04-03T15:29:46.232505",
     "exception": false,
     "start_time": "2024-04-03T15:29:46.214803",
     "status": "completed"
    },
    "tags": []
   },
   "outputs": [],
   "source": [
    "# Q2 - Medium\n",
    "class Solution:\n",
    "    def minOperations(self, k: int) -> int:\n",
    "        \"Can be optimized with binary search\"\n",
    "        min_ = k - 1\n",
    "        for i in range(1, k):\n",
    "            curr = i + math.ceil(k / i) - 2\n",
    "            if curr < min_:\n",
    "                min_ = curr\n",
    "\n",
    "        return min_\n",
    "\n",
    "# Testing the solution\n",
    "assert Solution().minOperations(11) == 5\n",
    "assert Solution().minOperations(1) == 0"
   ]
  },
  {
   "cell_type": "code",
   "execution_count": 18,
   "id": "51f6c341",
   "metadata": {
    "execution": {
     "iopub.execute_input": "2024-04-03T15:29:46.251615Z",
     "iopub.status.busy": "2024-04-03T15:29:46.251015Z",
     "iopub.status.idle": "2024-04-03T15:29:46.257974Z",
     "shell.execute_reply": "2024-04-03T15:29:46.257183Z"
    },
    "lines_to_next_cell": 1,
    "papermill": {
     "duration": 0.018461,
     "end_time": "2024-04-03T15:29:46.259821",
     "exception": false,
     "start_time": "2024-04-03T15:29:46.241360",
     "status": "completed"
    },
    "tags": []
   },
   "outputs": [],
   "source": [
    "# Q3 - Medium (Timeout)\n",
    "class Solution:\n",
    "    def mostFrequentIDs(self, nums: list[int], freq: list[int]) -> list[int]:\n",
    "        \"Brute force: O(N^2)\"\n",
    "        N = len(nums)\n",
    "        counter = dict()\n",
    "        result: list[int] = []\n",
    "        for i in range(N):\n",
    "            counter[nums[i]] = counter.get(nums[i], 0) + freq[i]\n",
    "            curr_max = max(counter.items(), key=lambda x: x[1])\n",
    "            result.append(curr_max[1])\n",
    "\n",
    "        return result\n",
    "\n",
    "# Testing the solution\n",
    "assert Solution().mostFrequentIDs([5,5,3], [2,-2,1]) == [2, 0, 1]\n",
    "assert Solution().mostFrequentIDs([2,3,2,1], [3,2,-3,1]) == [3,3,2,2]"
   ]
  },
  {
   "cell_type": "markdown",
   "id": "f581903e",
   "metadata": {
    "papermill": {
     "duration": 0.008416,
     "end_time": "2024-04-03T15:29:46.277048",
     "exception": false,
     "start_time": "2024-04-03T15:29:46.268632",
     "status": "completed"
    },
    "tags": []
   },
   "source": [
    "Category: Medium\n",
    "Video Link: https://leetcode.com/problems/find-the-duplicate-number"
   ]
  },
  {
   "cell_type": "code",
   "execution_count": 19,
   "id": "08bb3876",
   "metadata": {
    "execution": {
     "iopub.execute_input": "2024-04-03T15:29:46.295885Z",
     "iopub.status.busy": "2024-04-03T15:29:46.295266Z",
     "iopub.status.idle": "2024-04-03T15:29:46.304079Z",
     "shell.execute_reply": "2024-04-03T15:29:46.303424Z"
    },
    "lines_to_next_cell": 1,
    "papermill": {
     "duration": 0.020304,
     "end_time": "2024-04-03T15:29:46.305834",
     "exception": false,
     "start_time": "2024-04-03T15:29:46.285530",
     "status": "completed"
    },
    "tags": []
   },
   "outputs": [],
   "source": [
    "class Solution:\n",
    "    def findDuplicate_(self, nums: list[int]) -> int:\n",
    "        # Time - O(N log N)\n",
    "        nums.sort()\n",
    "\n",
    "        # Time - O(N)\n",
    "        for i in range(len(nums) -1):\n",
    "            if nums[i] == nums[i + 1]:\n",
    "                return nums[i]\n",
    "\n",
    "        return -1\n",
    "\n",
    "    def findDuplicate(self, nums: list[int]) -> int:\n",
    "        def backtrack(start: int) -> None | int:\n",
    "            next_ = nums[start]\n",
    "            if next_ == -1:\n",
    "                return start\n",
    "            else:\n",
    "                nums[start] = -1\n",
    "                return backtrack(next_)\n",
    "\n",
    "        for i in range(len(nums)):\n",
    "            if nums[i] == i:\n",
    "                nums[i] = -1\n",
    "            else:\n",
    "                curr = backtrack(nums[i])\n",
    "                if curr is not None:\n",
    "                    return curr\n",
    "        else:\n",
    "            return -1\n",
    "\n",
    "# Testing the solution\n",
    "assert Solution().findDuplicate([1,3,4,2,2]) == 2\n",
    "assert Solution().findDuplicate([3,1,3,4,2]) == 3\n",
    "assert Solution().findDuplicate([3,3,3,3,3]) == 3"
   ]
  },
  {
   "cell_type": "markdown",
   "id": "18a3ddfa",
   "metadata": {
    "papermill": {
     "duration": 0.008596,
     "end_time": "2024-04-03T15:29:46.323118",
     "exception": false,
     "start_time": "2024-04-03T15:29:46.314522",
     "status": "completed"
    },
    "tags": []
   },
   "source": [
    "#### Leetcode Contest: 31st March 2024 (# 391)"
   ]
  },
  {
   "cell_type": "code",
   "execution_count": 20,
   "id": "94eae322",
   "metadata": {
    "execution": {
     "iopub.execute_input": "2024-04-03T15:29:46.341981Z",
     "iopub.status.busy": "2024-04-03T15:29:46.341333Z",
     "iopub.status.idle": "2024-04-03T15:29:46.346286Z",
     "shell.execute_reply": "2024-04-03T15:29:46.345504Z"
    },
    "lines_to_next_cell": 1,
    "papermill": {
     "duration": 0.016266,
     "end_time": "2024-04-03T15:29:46.347943",
     "exception": false,
     "start_time": "2024-04-03T15:29:46.331677",
     "status": "completed"
    },
    "tags": []
   },
   "outputs": [],
   "source": [
    "# Q1 - Easy\n",
    "class Solution:\n",
    "    def sumOfTheDigitsOfHarshadNumber(self, x: int) -> int:\n",
    "        result = sum(map(int, str(x)))\n",
    "        if x % result == 0:\n",
    "            return result\n",
    "        else:\n",
    "            return -1"
   ]
  },
  {
   "cell_type": "code",
   "execution_count": 21,
   "id": "3820ddc5",
   "metadata": {
    "execution": {
     "iopub.execute_input": "2024-04-03T15:29:46.367520Z",
     "iopub.status.busy": "2024-04-03T15:29:46.366930Z",
     "iopub.status.idle": "2024-04-03T15:29:46.374104Z",
     "shell.execute_reply": "2024-04-03T15:29:46.373288Z"
    },
    "lines_to_next_cell": 1,
    "papermill": {
     "duration": 0.018901,
     "end_time": "2024-04-03T15:29:46.375873",
     "exception": false,
     "start_time": "2024-04-03T15:29:46.356972",
     "status": "completed"
    },
    "tags": []
   },
   "outputs": [],
   "source": [
    "# Q2 - Medium\n",
    "class Solution:\n",
    "    def maxBottlesDrunk(self, numBottles: int, numExchange: int) -> int:\n",
    "        def exchange(empty: int, exchange: int) -> tuple[int, int, int]:\n",
    "            \"\"\"\n",
    "            Given count of empty bottles and start exchange rate,\n",
    "            returns number of full bottles we can form and the updated exchange rate\n",
    "\n",
    "            For eg:\n",
    "\n",
    "            empty = 10, exchange = 1\n",
    "\n",
    "             E, R, F\n",
    "            10, 1, 0\n",
    "            9,  2, 1\n",
    "            7,  3, 2\n",
    "            4,  4, 3\n",
    "            0,  5, 4\n",
    "\n",
    "            empty = 9, exchange = 1\n",
    "\n",
    "            E, R, F\n",
    "            9, 1, 0\n",
    "            8, 2, 1\n",
    "            6, 3, 2\n",
    "            3, 4, 3\n",
    "\n",
    "            \"\"\"\n",
    "            filled = 0\n",
    "            while empty >= exchange:\n",
    "                empty -= exchange\n",
    "                exchange += 1\n",
    "                filled += 1\n",
    "\n",
    "            return empty, exchange, filled\n",
    "\n",
    "        total = empty = 0\n",
    "        while numBottles:\n",
    "            total += numBottles\n",
    "            empty, numBottles = empty + numBottles, 0\n",
    "            empty, numExchange, numBottles = exchange(empty, numExchange)\n",
    "\n",
    "        return total\n",
    "\n",
    "# Testing the solution\n",
    "assert Solution().maxBottlesDrunk(10, 3) == 13\n",
    "assert Solution().maxBottlesDrunk(13, 6) == 15"
   ]
  },
  {
   "cell_type": "code",
   "execution_count": 22,
   "id": "76322274",
   "metadata": {
    "execution": {
     "iopub.execute_input": "2024-04-03T15:29:46.395100Z",
     "iopub.status.busy": "2024-04-03T15:29:46.394339Z",
     "iopub.status.idle": "2024-04-03T15:29:46.400983Z",
     "shell.execute_reply": "2024-04-03T15:29:46.400310Z"
    },
    "lines_to_next_cell": 1,
    "papermill": {
     "duration": 0.017956,
     "end_time": "2024-04-03T15:29:46.402685",
     "exception": false,
     "start_time": "2024-04-03T15:29:46.384729",
     "status": "completed"
    },
    "tags": []
   },
   "outputs": [],
   "source": [
    "# Q3 - Medium\n",
    "class Solution:\n",
    "    def countAlternatingSubarrays(self, nums: list[int]) -> int:\n",
    "        count, curr, N = 0, 0, len(nums)\n",
    "        for i in range(N + 1):\n",
    "            if i == 0 or (i < N and nums[i - 1] != nums[i]):\n",
    "                curr += 1\n",
    "            else:\n",
    "                count += (curr * (curr + 1)) // 2\n",
    "                curr = 1\n",
    "\n",
    "        return count\n",
    "\n",
    "# Testing the solution\n",
    "assert Solution().countAlternatingSubarrays([1,0,1,0]) == 10\n",
    "assert Solution().countAlternatingSubarrays( [0,1,1,1]) == 5"
   ]
  },
  {
   "cell_type": "markdown",
   "id": "aa42e3c4",
   "metadata": {
    "papermill": {
     "duration": 0.008607,
     "end_time": "2024-04-03T15:29:46.419914",
     "exception": false,
     "start_time": "2024-04-03T15:29:46.411307",
     "status": "completed"
    },
    "tags": []
   },
   "source": [
    "Easy Leetcode question: https://leetcode.com/problems/minimum-common-value"
   ]
  },
  {
   "cell_type": "code",
   "execution_count": 23,
   "id": "d2e96902",
   "metadata": {
    "execution": {
     "iopub.execute_input": "2024-04-03T15:29:46.438919Z",
     "iopub.status.busy": "2024-04-03T15:29:46.438297Z",
     "iopub.status.idle": "2024-04-03T15:29:46.444904Z",
     "shell.execute_reply": "2024-04-03T15:29:46.444122Z"
    },
    "lines_to_next_cell": 1,
    "papermill": {
     "duration": 0.01824,
     "end_time": "2024-04-03T15:29:46.446666",
     "exception": false,
     "start_time": "2024-04-03T15:29:46.428426",
     "status": "completed"
    },
    "tags": []
   },
   "outputs": [],
   "source": [
    "def getCommon(nums1: list[int], nums2: list[int]) -> int:\n",
    "    N1, N2 = len(nums1), len(nums2)\n",
    "    i = j = 0\n",
    "    while i < N1 and j < N2:\n",
    "        if nums1[i] == nums2[j]:\n",
    "            return nums1[i]\n",
    "        elif nums1[i] < nums2[j]:\n",
    "            i += 1\n",
    "        else:\n",
    "            j += 1\n",
    "\n",
    "    return -1\n",
    "\n",
    "# Testing the solution\n",
    "assert getCommon([1, 2, 3], [2, 4]) == 2\n",
    "assert getCommon([1, 2, 3], [4, 5, 6]) == -1\n",
    "assert getCommon([1, 2, 3], [3]) == 3"
   ]
  },
  {
   "cell_type": "markdown",
   "id": "60f3c0df",
   "metadata": {
    "papermill": {
     "duration": 0.008602,
     "end_time": "2024-04-03T15:29:46.464041",
     "exception": false,
     "start_time": "2024-04-03T15:29:46.455439",
     "status": "completed"
    },
    "tags": []
   },
   "source": [
    "Diameter of binary Tree\n",
    "Problem Link: https://leetcode.com/problems/diameter-of-binary-tree/submissions/1222192232"
   ]
  },
  {
   "cell_type": "code",
   "execution_count": 24,
   "id": "e0fb0a0f",
   "metadata": {
    "execution": {
     "iopub.execute_input": "2024-04-03T15:29:46.483227Z",
     "iopub.status.busy": "2024-04-03T15:29:46.482716Z",
     "iopub.status.idle": "2024-04-03T15:29:46.489256Z",
     "shell.execute_reply": "2024-04-03T15:29:46.488507Z"
    },
    "lines_to_next_cell": 1,
    "papermill": {
     "duration": 0.018065,
     "end_time": "2024-04-03T15:29:46.490921",
     "exception": false,
     "start_time": "2024-04-03T15:29:46.472856",
     "status": "completed"
    },
    "tags": []
   },
   "outputs": [],
   "source": [
    "def diameterOfBinaryTree(root: BinaryTreeNode) -> int:\n",
    "    \"\"\"\n",
    "    1. Perform a post order traversal\n",
    "    2. Keep updating a global max_ variable as max(max_, left + right) before returning. This is our final result.\n",
    "    3. At each recursive step, return max(left, right)\n",
    "    \"\"\"\n",
    "\n",
    "    result: int = 0\n",
    "    def postOrder(curr: BinaryTreeNode) -> int:\n",
    "        nonlocal result\n",
    "        if not curr:\n",
    "            return 0\n",
    "        else:\n",
    "            left_max = postOrder(curr.left)\n",
    "            right_max = postOrder(curr.right)\n",
    "            result = max(result, left_max + right_max)\n",
    "            return max(left_max, right_max) + 1\n",
    "\n",
    "    postOrder(root)\n",
    "    return result\n",
    "\n",
    "# Testing the solution\n",
    "assert diameterOfBinaryTree(BinaryTreeNode.from_array([1, 2, 3, 4, 5])) == 3\n",
    "assert diameterOfBinaryTree(BinaryTreeNode.from_array([1, 2])) == 1"
   ]
  },
  {
   "cell_type": "markdown",
   "id": "95066bc4",
   "metadata": {
    "papermill": {
     "duration": 0.008806,
     "end_time": "2024-04-03T15:29:46.508722",
     "exception": false,
     "start_time": "2024-04-03T15:29:46.499916",
     "status": "completed"
    },
    "tags": []
   },
   "source": [
    "Easy Leetcode question \n",
    "Problem Link: https://leetcode.com/problems/largest-3-same-digit-number-in-string/submissions/1222201215/"
   ]
  },
  {
   "cell_type": "code",
   "execution_count": 25,
   "id": "dd3767a4",
   "metadata": {
    "execution": {
     "iopub.execute_input": "2024-04-03T15:29:46.528002Z",
     "iopub.status.busy": "2024-04-03T15:29:46.527375Z",
     "iopub.status.idle": "2024-04-03T15:29:46.537127Z",
     "shell.execute_reply": "2024-04-03T15:29:46.536335Z"
    },
    "lines_to_next_cell": 1,
    "papermill": {
     "duration": 0.021384,
     "end_time": "2024-04-03T15:29:46.538838",
     "exception": false,
     "start_time": "2024-04-03T15:29:46.517454",
     "status": "completed"
    },
    "tags": []
   },
   "outputs": [
    {
     "data": {
      "text/plain": [
       "'777'"
      ]
     },
     "execution_count": 25,
     "metadata": {},
     "output_type": "execute_result"
    }
   ],
   "source": [
    "def largestGoodInteger(num: str) -> str:\n",
    "    for n in \"9876543210\":\n",
    "        if n * 3 in num:\n",
    "            return n * 3\n",
    "    else:\n",
    "        return \"\"\n",
    "\n",
    "# Testing the solution\n",
    "largestGoodInteger(\"6777133339\")"
   ]
  },
  {
   "cell_type": "markdown",
   "id": "90d38ef2",
   "metadata": {
    "papermill": {
     "duration": 0.00864,
     "end_time": "2024-04-03T15:29:46.556430",
     "exception": false,
     "start_time": "2024-04-03T15:29:46.547790",
     "status": "completed"
    },
    "tags": []
   },
   "source": [
    "Easy Leetcode question\n",
    "Problem Link: https://leetcode.com/problems/largest-odd-number-in-string/submissions/1222208825"
   ]
  },
  {
   "cell_type": "code",
   "execution_count": 26,
   "id": "ba91d179",
   "metadata": {
    "execution": {
     "iopub.execute_input": "2024-04-03T15:29:46.575741Z",
     "iopub.status.busy": "2024-04-03T15:29:46.575121Z",
     "iopub.status.idle": "2024-04-03T15:29:46.582185Z",
     "shell.execute_reply": "2024-04-03T15:29:46.581342Z"
    },
    "papermill": {
     "duration": 0.01861,
     "end_time": "2024-04-03T15:29:46.583852",
     "exception": false,
     "start_time": "2024-04-03T15:29:46.565242",
     "status": "completed"
    },
    "tags": []
   },
   "outputs": [
    {
     "data": {
      "text/plain": [
       "'35427'"
      ]
     },
     "execution_count": 26,
     "metadata": {},
     "output_type": "execute_result"
    }
   ],
   "source": [
    "def largestOddNumber(num: str) -> str:\n",
    "    N = len(num)\n",
    "    for i in range(N - 1, -1, -1):\n",
    "        if int(num[i]) % 2 == 1:\n",
    "            return num[:i + 1]\n",
    "    else:\n",
    "        return \"\"\n",
    "\n",
    "# Testing the solution\n",
    "largestOddNumber(\"354278\")"
   ]
  }
 ],
 "metadata": {
  "kernelspec": {
   "display_name": "Python 3 (ipykernel)",
   "language": "python",
   "name": "python3"
  },
  "language_info": {
   "codemirror_mode": {
    "name": "ipython",
    "version": 3
   },
   "file_extension": ".py",
   "mimetype": "text/x-python",
   "name": "python",
   "nbconvert_exporter": "python",
   "pygments_lexer": "ipython3",
   "version": "3.10.14"
  },
  "papermill": {
   "default_parameters": {},
   "duration": 2.752114,
   "end_time": "2024-04-03T15:29:46.812036",
   "environment_variables": {},
   "exception": null,
   "input_path": "practice/001.ipynb",
   "output_path": "practice/001.ipynb",
   "parameters": {},
   "start_time": "2024-04-03T15:29:44.059922",
   "version": "2.5.0"
  }
 },
 "nbformat": 4,
 "nbformat_minor": 5
}