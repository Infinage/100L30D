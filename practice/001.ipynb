{
 "cells": [
  {
   "cell_type": "code",
   "execution_count": 1,
   "id": "1c40ad22",
   "metadata": {
    "execution": {
     "iopub.execute_input": "2024-03-10T09:22:48.457392Z",
     "iopub.status.busy": "2024-03-10T09:22:48.456866Z",
     "iopub.status.idle": "2024-03-10T09:22:48.943158Z",
     "shell.execute_reply": "2024-03-10T09:22:48.942307Z"
    },
    "papermill": {
     "duration": 0.493442,
     "end_time": "2024-03-10T09:22:48.945200",
     "exception": false,
     "start_time": "2024-03-10T09:22:48.451758",
     "status": "completed"
    },
    "tags": []
   },
   "outputs": [],
   "source": [
    "from typing import List, Optional\n",
    "import pandas as pd\n",
    "import numpy as np\n",
    "import sqlite3\n",
    "import re\n",
    "import io\n",
    "import math\n",
    "import collections\n",
    "import itertools\n",
    "import functools\n",
    "import random\n",
    "import string\n",
    "import tqdm\n",
    "import bisect\n",
    "\n",
    "conn = sqlite3.connect(\":memory:\")\n",
    "\n",
    "def regexp(expr, item):\n",
    "    reg = re.compile(expr)\n",
    "    return reg.search(item) is not None\n",
    "\n",
    "def read_lc_df(s: str) -> pd.DataFrame:\n",
    "    temp = pd.read_csv(io.StringIO(s), sep=\"|\", skiprows=2)\n",
    "    temp = temp.iloc[1:-1, 1:-1]\n",
    "    temp.columns = temp.columns.map(str.strip)\n",
    "    temp = temp.map(lambda x: x if type(x) != str else None if x.strip() == 'null' else x.strip())\n",
    "    return temp\n",
    "\n",
    "conn.create_function(\"REGEXP\", 2, regexp)"
   ]
  },
  {
   "cell_type": "markdown",
   "id": "4fb8e6c0",
   "metadata": {
    "papermill": {
     "duration": 0.003159,
     "end_time": "2024-03-10T09:22:48.951956",
     "exception": false,
     "start_time": "2024-03-10T09:22:48.948797",
     "status": "completed"
    },
    "tags": []
   },
   "source": [
    "#### Helper for Binary tree problems"
   ]
  },
  {
   "cell_type": "code",
   "execution_count": 2,
   "id": "5cff3cee",
   "metadata": {
    "execution": {
     "iopub.execute_input": "2024-03-10T09:22:48.959630Z",
     "iopub.status.busy": "2024-03-10T09:22:48.958958Z",
     "iopub.status.idle": "2024-03-10T09:22:48.968207Z",
     "shell.execute_reply": "2024-03-10T09:22:48.967587Z"
    },
    "lines_to_next_cell": 1,
    "papermill": {
     "duration": 0.014806,
     "end_time": "2024-03-10T09:22:48.969822",
     "exception": false,
     "start_time": "2024-03-10T09:22:48.955016",
     "status": "completed"
    },
    "tags": []
   },
   "outputs": [],
   "source": [
    "class BinaryTreeNode:\n",
    "    def __init__(self, val=0, left=None, right=None):\n",
    "        self.val = val\n",
    "        self.left = left\n",
    "        self.right = right\n",
    "\n",
    "    def to_list(self):\n",
    "        to_visit = [self]\n",
    "        visited = []\n",
    "        while len(to_visit) > 0:\n",
    "            curr = to_visit.pop(0)\n",
    "            if curr:\n",
    "                to_visit.append(curr.left)\n",
    "                to_visit.append(curr.right)\n",
    "                visited.append(curr.val)\n",
    "            else:\n",
    "                visited.append(curr)\n",
    "        return visited\n",
    "\n",
    "    def __str__(self):\n",
    "        return str(self.val)\n",
    "\n",
    "    @staticmethod\n",
    "    def from_array(nums: List[int|None]):\n",
    "        '''Create a Tree from a list of nums. Returns the root node.'''\n",
    "        if len(nums) == 0:\n",
    "            return None\n",
    "        elif len(nums) == 1:\n",
    "            return BinaryTreeNode(nums[0])\n",
    "        else:\n",
    "            forest = [BinaryTreeNode(nums[0])]\n",
    "            parent_idx = -1\n",
    "            for i in range(1, len(nums)):\n",
    "\n",
    "                curr = None\n",
    "                if nums[i] is not None:\n",
    "                    curr = BinaryTreeNode(nums[i])\n",
    "                    forest.append(curr)\n",
    "\n",
    "                if i % 2 == 1:\n",
    "                    parent_idx += 1\n",
    "                    forest[parent_idx].left = curr\n",
    "                else:\n",
    "                    forest[parent_idx].right = curr\n",
    "\n",
    "        return forest[0]"
   ]
  },
  {
   "cell_type": "markdown",
   "id": "3a05e040",
   "metadata": {
    "papermill": {
     "duration": 0.003019,
     "end_time": "2024-03-10T09:22:48.975954",
     "exception": false,
     "start_time": "2024-03-10T09:22:48.972935",
     "status": "completed"
    },
    "tags": []
   },
   "source": [
    "#### Helper for Singly Linked lists"
   ]
  },
  {
   "cell_type": "code",
   "execution_count": 3,
   "id": "97e5cff8",
   "metadata": {
    "execution": {
     "iopub.execute_input": "2024-03-10T09:22:48.983210Z",
     "iopub.status.busy": "2024-03-10T09:22:48.982884Z",
     "iopub.status.idle": "2024-03-10T09:22:48.989361Z",
     "shell.execute_reply": "2024-03-10T09:22:48.988719Z"
    },
    "lines_to_next_cell": 1,
    "papermill": {
     "duration": 0.01203,
     "end_time": "2024-03-10T09:22:48.991088",
     "exception": false,
     "start_time": "2024-03-10T09:22:48.979058",
     "status": "completed"
    },
    "tags": []
   },
   "outputs": [],
   "source": [
    "class ListNode:\n",
    "    def __init__(self, val=0, next=None):\n",
    "        self.val = val\n",
    "        self.next = next\n",
    "\n",
    "    def __str__(self):\n",
    "        return str(self.val)\n",
    "\n",
    "    @staticmethod\n",
    "    def to_singly_linked_list(nums: list[int]):\n",
    "        root = prev = None\n",
    "        for n in nums:\n",
    "            curr = ListNode(n)\n",
    "            # Init once\n",
    "            if not root:\n",
    "                root = curr\n",
    "            if prev:\n",
    "                prev.next = curr\n",
    "            prev = curr\n",
    "\n",
    "        return root\n",
    "\n",
    "    def to_list(self) -> list[int]:\n",
    "        result = []\n",
    "        curr = self\n",
    "        while curr:\n",
    "            result.append(curr.val)\n",
    "            curr = curr.next\n",
    "        return result"
   ]
  },
  {
   "cell_type": "code",
   "execution_count": 4,
   "id": "fa9ec8f3",
   "metadata": {
    "execution": {
     "iopub.execute_input": "2024-03-10T09:22:48.998590Z",
     "iopub.status.busy": "2024-03-10T09:22:48.998011Z",
     "iopub.status.idle": "2024-03-10T09:22:49.004783Z",
     "shell.execute_reply": "2024-03-10T09:22:49.004044Z"
    },
    "lines_to_next_cell": 1,
    "papermill": {
     "duration": 0.012412,
     "end_time": "2024-03-10T09:22:49.006551",
     "exception": false,
     "start_time": "2024-03-10T09:22:48.994139",
     "status": "completed"
    },
    "tags": []
   },
   "outputs": [],
   "source": [
    "# Problem Category: Easy\n",
    "# Link: https://leetcode.com/problems/find-mode-in-binary-search-tree/submissions/1187947888\n",
    "class Solution:\n",
    "    def findMode(self, root: BinaryTreeNode) -> List[int]:\n",
    "        def backtrack(curr: BinaryTreeNode):\n",
    "            if curr == None:\n",
    "                return\n",
    "            else:\n",
    "                hm[curr.val] = hm.get(curr.val, 0) + 1\n",
    "                backtrack(curr.left)\n",
    "                backtrack(curr.right)\n",
    "\n",
    "        hm: dict[int, int] = dict()\n",
    "        backtrack(root)\n",
    "        max_ = max(hm.values())\n",
    "        result: list[int] = []\n",
    "        for k, v in hm.items():\n",
    "            if v == max_:\n",
    "                result.append(k)\n",
    "        return result\n",
    "\n",
    "# Testing the solution\n",
    "assert Solution().findMode(BinaryTreeNode.from_array([1,None,2,2])) == [2]\n",
    "assert Solution().findMode(BinaryTreeNode.from_array([0])) == [0]"
   ]
  },
  {
   "cell_type": "code",
   "execution_count": 5,
   "id": "c8266d81",
   "metadata": {
    "execution": {
     "iopub.execute_input": "2024-03-10T09:22:49.014205Z",
     "iopub.status.busy": "2024-03-10T09:22:49.013586Z",
     "iopub.status.idle": "2024-03-10T09:22:49.020252Z",
     "shell.execute_reply": "2024-03-10T09:22:49.019635Z"
    },
    "lines_to_next_cell": 1,
    "papermill": {
     "duration": 0.012211,
     "end_time": "2024-03-10T09:22:49.021858",
     "exception": false,
     "start_time": "2024-03-10T09:22:49.009647",
     "status": "completed"
    },
    "tags": []
   },
   "outputs": [],
   "source": [
    "# Problem Category: Medium\n",
    "# Link: https://leetcode.com/problems/find-bottom-left-tree-value/submissions/1188894879/\n",
    "class Solution:\n",
    "    def findBottomLeftValue(self, root: BinaryTreeNode) -> int:\n",
    "        next_: List[BinaryTreeNode] = [root]\n",
    "        while True:\n",
    "            next_next_: List[BinaryTreeNode] = []\n",
    "            for node in next_:\n",
    "                if node.left:\n",
    "                    next_next_.append(node.left)\n",
    "                if node.right:\n",
    "                    next_next_.append(node.right)\n",
    "            if next_next_:\n",
    "                next_ = next_next_\n",
    "            else:\n",
    "                break\n",
    "        return next_[0].val\n",
    "\n",
    "# Testing the solution\n",
    "assert Solution().findBottomLeftValue(BinaryTreeNode.from_array([2, 1, 3])) == 1\n",
    "assert Solution().findBottomLeftValue(BinaryTreeNode.from_array([1,2,3,4,None,5,6,None,None,7])) == 7"
   ]
  },
  {
   "cell_type": "code",
   "execution_count": 6,
   "id": "c16e336b",
   "metadata": {
    "execution": {
     "iopub.execute_input": "2024-03-10T09:22:49.029308Z",
     "iopub.status.busy": "2024-03-10T09:22:49.028780Z",
     "iopub.status.idle": "2024-03-10T09:22:49.033840Z",
     "shell.execute_reply": "2024-03-10T09:22:49.033084Z"
    },
    "lines_to_next_cell": 1,
    "papermill": {
     "duration": 0.010542,
     "end_time": "2024-03-10T09:22:49.035502",
     "exception": false,
     "start_time": "2024-03-10T09:22:49.024960",
     "status": "completed"
    },
    "tags": []
   },
   "outputs": [],
   "source": [
    "# Problem Category: Easy\n",
    "# Link: https://leetcode.com/problems/maximum-odd-binary-number/1190823057\n",
    "class Solution:\n",
    "    def maximumOddBinaryNumber(self, s: str) -> str:\n",
    "        counts = dict(collections.Counter(s))\n",
    "        zeros = counts.get('0', 0) * '0'\n",
    "        ones = (counts.get('1', 0) - 1) * '1'\n",
    "        return ones + zeros + '1'\n",
    "\n",
    "# Testing the solution\n",
    "assert Solution().maximumOddBinaryNumber(\"010\") == \"001\"\n",
    "assert Solution().maximumOddBinaryNumber(\"0101\") == \"1001\""
   ]
  },
  {
   "cell_type": "code",
   "execution_count": 7,
   "id": "978d44e4",
   "metadata": {
    "execution": {
     "iopub.execute_input": "2024-03-10T09:22:49.043213Z",
     "iopub.status.busy": "2024-03-10T09:22:49.042518Z",
     "iopub.status.idle": "2024-03-10T09:22:49.050600Z",
     "shell.execute_reply": "2024-03-10T09:22:49.049971Z"
    },
    "lines_to_next_cell": 1,
    "papermill": {
     "duration": 0.013682,
     "end_time": "2024-03-10T09:22:49.052232",
     "exception": false,
     "start_time": "2024-03-10T09:22:49.038550",
     "status": "completed"
    },
    "tags": []
   },
   "outputs": [],
   "source": [
    "# Problem Category: Easy\n",
    "# Link: https://leetcode.com/problems/squares-of-a-sorted-array\n",
    "class Solution:\n",
    "    def sortedSquares(self, nums: list[int]) -> list[int]:\n",
    "        N = len(nums)\n",
    "        i, j = 0, N - 1\n",
    "        sorted_by_magnitude: list[int] = []\n",
    "        while i <= j:\n",
    "            if abs(nums[i]) > abs(nums[j]):\n",
    "                sorted_by_magnitude.append(nums[i])\n",
    "                i += 1\n",
    "            else:\n",
    "                sorted_by_magnitude.append(nums[j])\n",
    "                j -= 1\n",
    "        sorted_by_magnitude.reverse()\n",
    "\n",
    "        result: list[int] = []\n",
    "        for num in sorted_by_magnitude:\n",
    "            result.append(num * num)\n",
    "\n",
    "        return result\n",
    "\n",
    "# Testing the solution\n",
    "assert Solution().sortedSquares([-4,-1,0,3,10]) == [0, 1, 9, 16, 100]\n",
    "assert Solution().sortedSquares([-7,-4,-1,0,3,10]) == [0, 1, 9, 16, 49, 100]"
   ]
  },
  {
   "cell_type": "code",
   "execution_count": 8,
   "id": "82dc674b",
   "metadata": {
    "execution": {
     "iopub.execute_input": "2024-03-10T09:22:49.060205Z",
     "iopub.status.busy": "2024-03-10T09:22:49.059583Z",
     "iopub.status.idle": "2024-03-10T09:22:49.066672Z",
     "shell.execute_reply": "2024-03-10T09:22:49.066045Z"
    },
    "lines_to_next_cell": 1,
    "papermill": {
     "duration": 0.012894,
     "end_time": "2024-03-10T09:22:49.068339",
     "exception": false,
     "start_time": "2024-03-10T09:22:49.055445",
     "status": "completed"
    },
    "tags": []
   },
   "outputs": [],
   "source": [
    "# Problem Category: Medium\n",
    "# Link: https://leetcode.com/problems/minimum-length-of-string-after-deleting-similar-ends/submissions/1194814297\n",
    "class Solution:\n",
    "    def minimumLength(self, s: str) -> int:\n",
    "        N = len(s)\n",
    "        i, j = 0, N - 1\n",
    "        while i < j:\n",
    "            while i < N - 1 and s[i + 1] == s[i] and s[i] == s[j]:\n",
    "                i += 1\n",
    "            while j > 1 and s[j - 1] == s[j] and s[i] == s[j]:\n",
    "                j -= 1\n",
    "            if s[i] == s[j]:\n",
    "                i += 1\n",
    "                j -= 1\n",
    "            else:\n",
    "                return (j - i) + 1\n",
    "        else:\n",
    "            return 1 if i == j else 0\n",
    "\n",
    "# Testing the solution\n",
    "assert Solution().minimumLength(\"ca\") == 2\n",
    "assert Solution().minimumLength(\"cabaabac\") == 0\n",
    "assert Solution().minimumLength(\"aabccabba\") == 3\n",
    "assert Solution().minimumLength(\"bbbbbabbbbccbcbcbccbbabbb\") == 1\n",
    "assert Solution().minimumLength(\"aaaa\") == 0"
   ]
  },
  {
   "cell_type": "code",
   "execution_count": 9,
   "id": "e9135cdc",
   "metadata": {
    "execution": {
     "iopub.execute_input": "2024-03-10T09:22:49.075804Z",
     "iopub.status.busy": "2024-03-10T09:22:49.075229Z",
     "iopub.status.idle": "2024-03-10T09:22:49.081337Z",
     "shell.execute_reply": "2024-03-10T09:22:49.080612Z"
    },
    "lines_to_next_cell": 1,
    "papermill": {
     "duration": 0.011611,
     "end_time": "2024-03-10T09:22:49.083068",
     "exception": false,
     "start_time": "2024-03-10T09:22:49.071457",
     "status": "completed"
    },
    "tags": []
   },
   "outputs": [],
   "source": [
    "# Problem Category: Easy\n",
    "# Link: https://leetcode.com/problems/ransom-note/submissions/1195815128\n",
    "class Solution:\n",
    "    def canConstruct(self, ransomNote: str, magazine: str) -> bool:\n",
    "        cr = collections.Counter(ransomNote)\n",
    "        cm = collections.Counter(magazine)\n",
    "        for i in range(ord(\"a\"), ord(\"z\") + 1):\n",
    "            ch = chr(i)\n",
    "            if cm.get(ch, 0) < cr.get(ch, 0):\n",
    "                return False\n",
    "        else:\n",
    "            return True\n",
    "\n",
    "# Testing the solution\n",
    "assert Solution().canConstruct(\"aa\", \"aab\") == True\n",
    "assert Solution().canConstruct(\"a\", \"b\") == False\n",
    "assert Solution().canConstruct(\"aa\", \"ab\") == False"
   ]
  },
  {
   "cell_type": "markdown",
   "id": "f9dad63e",
   "metadata": {},
   "source": [
    "Striver: Pascal's triangle\n",
    "Problem: Finding nCr in minimal time (part of pascal's triangle)\n",
    "Find element at position 1st 2nd column in a pascal's triangle\n",
    "Sol: math.comb(n -1, r - 1)"
   ]
  },
  {
   "cell_type": "code",
   "execution_count": null,
   "id": "afb5ce4e",
   "metadata": {},
   "outputs": [],
   "source": [
    "def nCr(n: int, r: int) -> float:\n",
    "    num = functools.reduce(lambda x, y: x * y, range(n, n - r, -1))\n",
    "    den = functools.reduce(lambda x, y: x * y, range(r, 0, -1))\n",
    "    return num / den\n",
    "\n",
    "# Testing the solution\n",
    "for i in range(50):\n",
    "    i, j = sorted([random.randint(1, 50), random.randint(1, 50)], reverse=True)\n",
    "    assert math.comb(i, j) == nCr(i, j), f\"failed for {i, j}\""
   ]
  }
 ],
 "metadata": {
  "kernelspec": {
   "display_name": "Python 3 (ipykernel)",
   "language": "python",
   "name": "python3"
  },
  "language_info": {
   "codemirror_mode": {
    "name": "ipython",
    "version": 3
   },
   "file_extension": ".py",
   "mimetype": "text/x-python",
   "name": "python",
   "nbconvert_exporter": "python",
   "pygments_lexer": "ipython3",
   "version": "3.10.13"
  },
  "papermill": {
   "default_parameters": {},
   "duration": 2.00716,
   "end_time": "2024-03-10T09:22:49.302781",
   "environment_variables": {},
   "exception": null,
   "input_path": "practice/001.ipynb",
   "output_path": "practice/001.ipynb",
   "parameters": {},
   "start_time": "2024-03-10T09:22:47.295621",
   "version": "2.4.0"
  }
 },
 "nbformat": 4,
 "nbformat_minor": 5
}
