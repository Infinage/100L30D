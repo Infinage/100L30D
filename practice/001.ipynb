{
 "cells": [
  {
   "cell_type": "code",
   "execution_count": 1,
   "id": "3f12b031",
   "metadata": {
    "execution": {
     "iopub.execute_input": "2024-04-15T16:15:14.210086Z",
     "iopub.status.busy": "2024-04-15T16:15:14.209388Z",
     "iopub.status.idle": "2024-04-15T16:15:14.744526Z",
     "shell.execute_reply": "2024-04-15T16:15:14.743790Z"
    },
    "papermill": {
     "duration": 0.557611,
     "end_time": "2024-04-15T16:15:14.746687",
     "exception": false,
     "start_time": "2024-04-15T16:15:14.189076",
     "status": "completed"
    },
    "tags": []
   },
   "outputs": [],
   "source": [
    "from typing import List, Optional\n",
    "import pandas as pd\n",
    "import numpy as np\n",
    "import sqlite3\n",
    "import re\n",
    "import io\n",
    "import math\n",
    "import collections\n",
    "import itertools\n",
    "import functools\n",
    "import random\n",
    "import string\n",
    "import tqdm\n",
    "import bisect\n",
    "\n",
    "conn = sqlite3.connect(\":memory:\")\n",
    "\n",
    "def regexp(expr, item):\n",
    "    reg = re.compile(expr)\n",
    "    return reg.search(item) is not None\n",
    "\n",
    "def read_lc_df(s: str) -> pd.DataFrame:\n",
    "    temp = pd.read_csv(io.StringIO(s), sep=\"|\", skiprows=2)\n",
    "    temp = temp.iloc[1:-1, 1:-1]\n",
    "    temp.columns = temp.columns.map(str.strip)\n",
    "    temp = temp.map(lambda x: x if type(x) != str else None if x.strip() == 'null' else x.strip())\n",
    "    return temp\n",
    "\n",
    "conn.create_function(\"REGEXP\", 2, regexp)"
   ]
  },
  {
   "cell_type": "markdown",
   "id": "7f5a0241",
   "metadata": {
    "papermill": {
     "duration": 0.01814,
     "end_time": "2024-04-15T16:15:14.783745",
     "exception": false,
     "start_time": "2024-04-15T16:15:14.765605",
     "status": "completed"
    },
    "tags": []
   },
   "source": [
    "#### Helper for Binary tree problems"
   ]
  },
  {
   "cell_type": "code",
   "execution_count": 2,
   "id": "85eb2598",
   "metadata": {
    "execution": {
     "iopub.execute_input": "2024-04-15T16:15:14.822582Z",
     "iopub.status.busy": "2024-04-15T16:15:14.821626Z",
     "iopub.status.idle": "2024-04-15T16:15:14.834167Z",
     "shell.execute_reply": "2024-04-15T16:15:14.833523Z"
    },
    "lines_to_next_cell": 1,
    "papermill": {
     "duration": 0.03353,
     "end_time": "2024-04-15T16:15:14.835918",
     "exception": false,
     "start_time": "2024-04-15T16:15:14.802388",
     "status": "completed"
    },
    "tags": []
   },
   "outputs": [],
   "source": [
    "class BinaryTreeNode:\n",
    "    def __init__(self, val=0, left=None, right=None):\n",
    "        self.val = val\n",
    "        self.left = left\n",
    "        self.right = right\n",
    "\n",
    "    def to_list(self):\n",
    "        to_visit = [self]\n",
    "        visited = []\n",
    "        while len(to_visit) > 0:\n",
    "            curr = to_visit.pop(0)\n",
    "            if curr:\n",
    "                to_visit.append(curr.left)\n",
    "                to_visit.append(curr.right)\n",
    "                visited.append(curr.val)\n",
    "            else:\n",
    "                visited.append(curr)\n",
    "\n",
    "        while visited and not visited[-1]:\n",
    "            visited.pop()\n",
    "\n",
    "        return visited\n",
    "\n",
    "    def __str__(self):\n",
    "        return str(self.val)\n",
    "\n",
    "    @staticmethod\n",
    "    def from_array(nums: list[int|None]):\n",
    "        '''Create a Tree from a list of nums. Returns the root node.'''\n",
    "        if len(nums) == 0:\n",
    "            return None\n",
    "        elif len(nums) == 1:\n",
    "            return BinaryTreeNode(nums[0])\n",
    "        else:\n",
    "            forest = [BinaryTreeNode(nums[0])]\n",
    "            parent_idx = -1\n",
    "            for i in range(1, len(nums)):\n",
    "\n",
    "                curr = None\n",
    "                if nums[i] is not None:\n",
    "                    curr = BinaryTreeNode(nums[i])\n",
    "                    forest.append(curr)\n",
    "\n",
    "                if i % 2 == 1:\n",
    "                    parent_idx += 1\n",
    "                    forest[parent_idx].left = curr\n",
    "                else:\n",
    "                    forest[parent_idx].right = curr\n",
    "\n",
    "        return forest[0]"
   ]
  },
  {
   "cell_type": "markdown",
   "id": "1ef703cf",
   "metadata": {
    "papermill": {
     "duration": 0.018077,
     "end_time": "2024-04-15T16:15:14.872251",
     "exception": false,
     "start_time": "2024-04-15T16:15:14.854174",
     "status": "completed"
    },
    "tags": []
   },
   "source": [
    "#### Helper for Singly Linked lists"
   ]
  },
  {
   "cell_type": "code",
   "execution_count": 3,
   "id": "3de163a1",
   "metadata": {
    "execution": {
     "iopub.execute_input": "2024-04-15T16:15:14.910309Z",
     "iopub.status.busy": "2024-04-15T16:15:14.909624Z",
     "iopub.status.idle": "2024-04-15T16:15:14.917502Z",
     "shell.execute_reply": "2024-04-15T16:15:14.916847Z"
    },
    "lines_to_next_cell": 1,
    "papermill": {
     "duration": 0.029042,
     "end_time": "2024-04-15T16:15:14.919494",
     "exception": false,
     "start_time": "2024-04-15T16:15:14.890452",
     "status": "completed"
    },
    "tags": []
   },
   "outputs": [],
   "source": [
    "class ListNode:\n",
    "    def __init__(self, val=0, next=None):\n",
    "        self.val = val\n",
    "        self.next = next\n",
    "\n",
    "    def __str__(self):\n",
    "        return str(self.val)\n",
    "\n",
    "    @staticmethod\n",
    "    def to_singly_linked_list(nums: list[int]):\n",
    "        root = prev = None\n",
    "        for n in nums:\n",
    "            curr = ListNode(n)\n",
    "            # Init once\n",
    "            if not root:\n",
    "                root = curr\n",
    "            if prev:\n",
    "                prev.next = curr\n",
    "            prev = curr\n",
    "\n",
    "        return root\n",
    "\n",
    "    def to_list(self) -> list[int]:\n",
    "        result = []\n",
    "        curr = self\n",
    "        while curr:\n",
    "            result.append(curr.val)\n",
    "            curr = curr.next\n",
    "        return result"
   ]
  },
  {
   "cell_type": "code",
   "execution_count": 4,
   "id": "e9a621b3",
   "metadata": {
    "execution": {
     "iopub.execute_input": "2024-04-15T16:15:14.967247Z",
     "iopub.status.busy": "2024-04-15T16:15:14.966910Z",
     "iopub.status.idle": "2024-04-15T16:15:14.974246Z",
     "shell.execute_reply": "2024-04-15T16:15:14.973470Z"
    },
    "lines_to_next_cell": 1,
    "papermill": {
     "duration": 0.032985,
     "end_time": "2024-04-15T16:15:14.976085",
     "exception": false,
     "start_time": "2024-04-15T16:15:14.943100",
     "status": "completed"
    },
    "tags": []
   },
   "outputs": [],
   "source": [
    "# Problem Category: Easy\n",
    "# Link: https://leetcode.com/problems/find-mode-in-binary-search-tree/submissions/1187947888\n",
    "class Solution:\n",
    "    def findMode(self, root: BinaryTreeNode) -> List[int]:\n",
    "        def backtrack(curr: BinaryTreeNode):\n",
    "            if curr == None:\n",
    "                return\n",
    "            else:\n",
    "                hm[curr.val] = hm.get(curr.val, 0) + 1\n",
    "                backtrack(curr.left)\n",
    "                backtrack(curr.right)\n",
    "\n",
    "        hm: dict[int, int] = dict()\n",
    "        backtrack(root)\n",
    "        max_ = max(hm.values())\n",
    "        result: list[int] = []\n",
    "        for k, v in hm.items():\n",
    "            if v == max_:\n",
    "                result.append(k)\n",
    "        return result\n",
    "\n",
    "# Testing the solution\n",
    "assert Solution().findMode(BinaryTreeNode.from_array([1,None,2,2])) == [2]\n",
    "assert Solution().findMode(BinaryTreeNode.from_array([0])) == [0]"
   ]
  },
  {
   "cell_type": "code",
   "execution_count": 5,
   "id": "9b733058",
   "metadata": {
    "execution": {
     "iopub.execute_input": "2024-04-15T16:15:15.019790Z",
     "iopub.status.busy": "2024-04-15T16:15:15.019382Z",
     "iopub.status.idle": "2024-04-15T16:15:15.027034Z",
     "shell.execute_reply": "2024-04-15T16:15:15.026007Z"
    },
    "lines_to_next_cell": 1,
    "papermill": {
     "duration": 0.032804,
     "end_time": "2024-04-15T16:15:15.029472",
     "exception": false,
     "start_time": "2024-04-15T16:15:14.996668",
     "status": "completed"
    },
    "tags": []
   },
   "outputs": [],
   "source": [
    "# Problem Category: Medium\n",
    "# Link: https://leetcode.com/problems/find-bottom-left-tree-value/submissions/1188894879/\n",
    "class Solution:\n",
    "    def findBottomLeftValue(self, root: BinaryTreeNode) -> int:\n",
    "        next_: list[BinaryTreeNode] = [root]\n",
    "        while True:\n",
    "            next_next_: list[BinaryTreeNode] = []\n",
    "            for node in next_:\n",
    "                if node.left:\n",
    "                    next_next_.append(node.left)\n",
    "                if node.right:\n",
    "                    next_next_.append(node.right)\n",
    "            if next_next_:\n",
    "                next_ = next_next_\n",
    "            else:\n",
    "                break\n",
    "        return next_[0].val\n",
    "\n",
    "# Testing the solution\n",
    "assert Solution().findBottomLeftValue(BinaryTreeNode.from_array([2, 1, 3])) == 1\n",
    "assert Solution().findBottomLeftValue(BinaryTreeNode.from_array([1,2,3,4,None,5,6,None,None,7])) == 7"
   ]
  },
  {
   "cell_type": "code",
   "execution_count": 6,
   "id": "d0726800",
   "metadata": {
    "execution": {
     "iopub.execute_input": "2024-04-15T16:15:15.105106Z",
     "iopub.status.busy": "2024-04-15T16:15:15.104569Z",
     "iopub.status.idle": "2024-04-15T16:15:15.110397Z",
     "shell.execute_reply": "2024-04-15T16:15:15.109493Z"
    },
    "lines_to_next_cell": 1,
    "papermill": {
     "duration": 0.051072,
     "end_time": "2024-04-15T16:15:15.112160",
     "exception": false,
     "start_time": "2024-04-15T16:15:15.061088",
     "status": "completed"
    },
    "tags": []
   },
   "outputs": [],
   "source": [
    "# Problem Category: Easy\n",
    "# Link: https://leetcode.com/problems/maximum-odd-binary-number/1190823057\n",
    "class Solution:\n",
    "    def maximumOddBinaryNumber(self, s: str) -> str:\n",
    "        counts = dict(collections.Counter(s))\n",
    "        zeros = counts.get('0', 0) * '0'\n",
    "        ones = (counts.get('1', 0) - 1) * '1'\n",
    "        return ones + zeros + '1'\n",
    "\n",
    "# Testing the solution\n",
    "assert Solution().maximumOddBinaryNumber(\"010\") == \"001\"\n",
    "assert Solution().maximumOddBinaryNumber(\"0101\") == \"1001\""
   ]
  },
  {
   "cell_type": "code",
   "execution_count": 7,
   "id": "a61be2aa",
   "metadata": {
    "execution": {
     "iopub.execute_input": "2024-04-15T16:15:15.212597Z",
     "iopub.status.busy": "2024-04-15T16:15:15.212045Z",
     "iopub.status.idle": "2024-04-15T16:15:15.219320Z",
     "shell.execute_reply": "2024-04-15T16:15:15.218526Z"
    },
    "lines_to_next_cell": 1,
    "papermill": {
     "duration": 0.027983,
     "end_time": "2024-04-15T16:15:15.221010",
     "exception": false,
     "start_time": "2024-04-15T16:15:15.193027",
     "status": "completed"
    },
    "tags": []
   },
   "outputs": [],
   "source": [
    "# Problem Category: Easy\n",
    "# Link: https://leetcode.com/problems/squares-of-a-sorted-array\n",
    "class Solution:\n",
    "    def sortedSquares(self, nums: list[int]) -> list[int]:\n",
    "        N = len(nums)\n",
    "        i, j = 0, N - 1\n",
    "        sorted_by_magnitude: list[int] = []\n",
    "        while i <= j:\n",
    "            if abs(nums[i]) > abs(nums[j]):\n",
    "                sorted_by_magnitude.append(nums[i])\n",
    "                i += 1\n",
    "            else:\n",
    "                sorted_by_magnitude.append(nums[j])\n",
    "                j -= 1\n",
    "        sorted_by_magnitude.reverse()\n",
    "\n",
    "        result: list[int] = []\n",
    "        for num in sorted_by_magnitude:\n",
    "            result.append(num * num)\n",
    "\n",
    "        return result\n",
    "\n",
    "# Testing the solution\n",
    "assert Solution().sortedSquares([-4,-1,0,3,10]) == [0, 1, 9, 16, 100]\n",
    "assert Solution().sortedSquares([-7,-4,-1,0,3,10]) == [0, 1, 9, 16, 49, 100]"
   ]
  },
  {
   "cell_type": "code",
   "execution_count": 8,
   "id": "f1f33401",
   "metadata": {
    "execution": {
     "iopub.execute_input": "2024-04-15T16:15:15.258655Z",
     "iopub.status.busy": "2024-04-15T16:15:15.258178Z",
     "iopub.status.idle": "2024-04-15T16:15:15.265379Z",
     "shell.execute_reply": "2024-04-15T16:15:15.264703Z"
    },
    "lines_to_next_cell": 1,
    "papermill": {
     "duration": 0.027806,
     "end_time": "2024-04-15T16:15:15.267055",
     "exception": false,
     "start_time": "2024-04-15T16:15:15.239249",
     "status": "completed"
    },
    "tags": []
   },
   "outputs": [],
   "source": [
    "# Problem Category: Medium\n",
    "# Link: https://leetcode.com/problems/minimum-length-of-string-after-deleting-similar-ends/submissions/1194814297\n",
    "class Solution:\n",
    "    def minimumLength(self, s: str) -> int:\n",
    "        N = len(s)\n",
    "        i, j = 0, N - 1\n",
    "        while i < j:\n",
    "            while i < N - 1 and s[i + 1] == s[i] and s[i] == s[j]:\n",
    "                i += 1\n",
    "            while j > 1 and s[j - 1] == s[j] and s[i] == s[j]:\n",
    "                j -= 1\n",
    "            if s[i] == s[j]:\n",
    "                i += 1\n",
    "                j -= 1\n",
    "            else:\n",
    "                return (j - i) + 1\n",
    "        else:\n",
    "            return 1 if i == j else 0\n",
    "\n",
    "# Testing the solution\n",
    "assert Solution().minimumLength(\"ca\") == 2\n",
    "assert Solution().minimumLength(\"cabaabac\") == 0\n",
    "assert Solution().minimumLength(\"aabccabba\") == 3\n",
    "assert Solution().minimumLength(\"bbbbbabbbbccbcbcbccbbabbb\") == 1\n",
    "assert Solution().minimumLength(\"aaaa\") == 0"
   ]
  },
  {
   "cell_type": "code",
   "execution_count": 9,
   "id": "79086e5d",
   "metadata": {
    "execution": {
     "iopub.execute_input": "2024-04-15T16:15:15.304664Z",
     "iopub.status.busy": "2024-04-15T16:15:15.304016Z",
     "iopub.status.idle": "2024-04-15T16:15:15.310332Z",
     "shell.execute_reply": "2024-04-15T16:15:15.309581Z"
    },
    "lines_to_next_cell": 1,
    "papermill": {
     "duration": 0.027156,
     "end_time": "2024-04-15T16:15:15.312182",
     "exception": false,
     "start_time": "2024-04-15T16:15:15.285026",
     "status": "completed"
    },
    "tags": []
   },
   "outputs": [],
   "source": [
    "# Problem Category: Easy\n",
    "# Link: https://leetcode.com/problems/ransom-note/submissions/1195815128\n",
    "class Solution:\n",
    "    def canConstruct(self, ransomNote: str, magazine: str) -> bool:\n",
    "        cr = collections.Counter(ransomNote)\n",
    "        cm = collections.Counter(magazine)\n",
    "        for i in range(ord(\"a\"), ord(\"z\") + 1):\n",
    "            ch = chr(i)\n",
    "            if cm.get(ch, 0) < cr.get(ch, 0):\n",
    "                return False\n",
    "        else:\n",
    "            return True\n",
    "\n",
    "# Testing the solution\n",
    "assert Solution().canConstruct(\"aa\", \"aab\") == True\n",
    "assert Solution().canConstruct(\"a\", \"b\") == False\n",
    "assert Solution().canConstruct(\"aa\", \"ab\") == False"
   ]
  },
  {
   "cell_type": "markdown",
   "id": "86315f1b",
   "metadata": {
    "papermill": {
     "duration": 0.017849,
     "end_time": "2024-04-15T16:15:15.348262",
     "exception": false,
     "start_time": "2024-04-15T16:15:15.330413",
     "status": "completed"
    },
    "tags": []
   },
   "source": [
    "Striver: Pascal's triangle\n",
    "Problem: Finding nCr in minimal time (part of pascal's triangle)\n",
    "Find element at position 1st 2nd column in a pascal's triangle\n",
    "Sol: math.comb(n -1, r - 1)"
   ]
  },
  {
   "cell_type": "code",
   "execution_count": 10,
   "id": "d8a93518",
   "metadata": {
    "execution": {
     "iopub.execute_input": "2024-04-15T16:15:15.385689Z",
     "iopub.status.busy": "2024-04-15T16:15:15.385035Z",
     "iopub.status.idle": "2024-04-15T16:15:15.391232Z",
     "shell.execute_reply": "2024-04-15T16:15:15.390437Z"
    },
    "lines_to_next_cell": 1,
    "papermill": {
     "duration": 0.026864,
     "end_time": "2024-04-15T16:15:15.393052",
     "exception": false,
     "start_time": "2024-04-15T16:15:15.366188",
     "status": "completed"
    },
    "tags": []
   },
   "outputs": [],
   "source": [
    "def nCr(n: int, r: int) -> float:\n",
    "    num = functools.reduce(lambda x, y: x * y, range(n, n - r, -1))\n",
    "    den = functools.reduce(lambda x, y: x * y, range(r, 0, -1))\n",
    "    return num / den\n",
    "\n",
    "# Testing the solution\n",
    "for i in range(50):\n",
    "    i, j = sorted([random.randint(1, 50), random.randint(1, 50)], reverse=True)\n",
    "    assert math.comb(i, j) == nCr(i, j), f\"failed for {i, j}\""
   ]
  },
  {
   "cell_type": "code",
   "execution_count": 11,
   "id": "3936a59e",
   "metadata": {
    "execution": {
     "iopub.execute_input": "2024-04-15T16:15:15.431146Z",
     "iopub.status.busy": "2024-04-15T16:15:15.430539Z",
     "iopub.status.idle": "2024-04-15T16:15:15.442109Z",
     "shell.execute_reply": "2024-04-15T16:15:15.441369Z"
    },
    "lines_to_next_cell": 1,
    "papermill": {
     "duration": 0.032462,
     "end_time": "2024-04-15T16:15:15.443802",
     "exception": false,
     "start_time": "2024-04-15T16:15:15.411340",
     "status": "completed"
    },
    "tags": []
   },
   "outputs": [],
   "source": [
    "# 4Sum\n",
    "class Solution:\n",
    "    def fourSum(self, arr: list[int], target: int) -> set[tuple[int]]:\n",
    "        def update_until(idx: int, update: int, until: int):\n",
    "            temp_idx = idx\n",
    "            assert update != 0\n",
    "            if update > 0:\n",
    "                while temp_idx < until and arr[temp_idx] == arr[idx]:\n",
    "                    temp_idx += update\n",
    "            else:\n",
    "                while temp_idx > until and arr[temp_idx] == arr[idx]:\n",
    "                    temp_idx += update\n",
    "            return temp_idx\n",
    "\n",
    "        N = len(arr)\n",
    "        arr.sort()\n",
    "        result: set[tuple[int]] = set()\n",
    "        i = 0\n",
    "        while i < N - 3:\n",
    "            j = i + 1\n",
    "            while j < N - 2:\n",
    "                k, l = j + 1, N - 1\n",
    "                while k < l:\n",
    "                    curr = arr[i], arr[j], arr[k], arr[l]\n",
    "                    if sum(curr) == target:\n",
    "                        result.add(curr)\n",
    "                        # Increment k, l\n",
    "                        k_, l_ = k, l\n",
    "                        while k_ < l_ and arr[k_] == arr[k] and arr[l_] == arr[l]:\n",
    "                            k_, l_ = k_ + 1, l_ - 1\n",
    "                        k, l = k_, l_\n",
    "                    elif sum(curr) < target:\n",
    "                        # Increment k\n",
    "                        k = update_until(k, 1, l)\n",
    "                    else:\n",
    "                        # Decrement l\n",
    "                        l = update_until(l, -1, k)\n",
    "\n",
    "                # Increment j\n",
    "                j = update_until(j, 1, N - 2)\n",
    "\n",
    "            # Increment i\n",
    "            i = update_until(i, 1, N - 3)\n",
    "\n",
    "        return result\n",
    "\n",
    "# Testing the solution\n",
    "assert Solution().fourSum([1,0,-1,0,-2,2], 0) == {(-2,-1,1,2), (-2,0,0,2), (-1,0,0,1)}\n",
    "assert Solution().fourSum([2,2,2,2,2], 8) == {(2, 2, 2, 2)}"
   ]
  },
  {
   "cell_type": "markdown",
   "id": "e839124e",
   "metadata": {
    "papermill": {
     "duration": 0.019365,
     "end_time": "2024-04-15T16:15:15.481475",
     "exception": false,
     "start_time": "2024-04-15T16:15:15.462110",
     "status": "completed"
    },
    "tags": []
   },
   "source": [
    "Leetcode Weekly contest - 17th March"
   ]
  },
  {
   "cell_type": "code",
   "execution_count": 12,
   "id": "e6574b26",
   "metadata": {
    "execution": {
     "iopub.execute_input": "2024-04-15T16:15:15.518921Z",
     "iopub.status.busy": "2024-04-15T16:15:15.518303Z",
     "iopub.status.idle": "2024-04-15T16:15:15.523797Z",
     "shell.execute_reply": "2024-04-15T16:15:15.523054Z"
    },
    "lines_to_next_cell": 1,
    "papermill": {
     "duration": 0.02599,
     "end_time": "2024-04-15T16:15:15.525487",
     "exception": false,
     "start_time": "2024-04-15T16:15:15.499497",
     "status": "completed"
    },
    "tags": []
   },
   "outputs": [],
   "source": [
    "class Solution:\n",
    "    def isSubstringPresent(self, s: str) -> bool:\n",
    "        rev_ = \"\".join(list(reversed(s)))\n",
    "        N = len(s)\n",
    "        for i in range(N - 1):\n",
    "            if s[i:i+2] in rev_:\n",
    "                return True\n",
    "        return False\n",
    "\n",
    "# Testing the solution\n",
    "assert Solution().isSubstringPresent(\"leetcode\") == True\n",
    "assert Solution().isSubstringPresent(\"abcd\") == False"
   ]
  },
  {
   "cell_type": "markdown",
   "id": "f12cafc3",
   "metadata": {
    "papermill": {
     "duration": 0.017872,
     "end_time": "2024-04-15T16:15:15.561453",
     "exception": false,
     "start_time": "2024-04-15T16:15:15.543581",
     "status": "completed"
    },
    "tags": []
   },
   "source": [
    "zz - z, z, zz (3)\n",
    "zzz - z, z, z, zz, zz, zzz (6)\n",
    "zzzz - z, z, z, z; zz, zz, zz, zzz, zzz, zzzz (10)\n",
    "zzzzz - z, z, z, z, z, zz, zz, zz, zz, zzz, zzz, zzz, zzzz, zzzz, zzzzz (15)"
   ]
  },
  {
   "cell_type": "code",
   "execution_count": 13,
   "id": "589d1561",
   "metadata": {
    "execution": {
     "iopub.execute_input": "2024-04-15T16:15:15.598798Z",
     "iopub.status.busy": "2024-04-15T16:15:15.598499Z",
     "iopub.status.idle": "2024-04-15T16:15:15.603768Z",
     "shell.execute_reply": "2024-04-15T16:15:15.603116Z"
    },
    "lines_to_next_cell": 1,
    "papermill": {
     "duration": 0.025918,
     "end_time": "2024-04-15T16:15:15.605461",
     "exception": false,
     "start_time": "2024-04-15T16:15:15.579543",
     "status": "completed"
    },
    "tags": []
   },
   "outputs": [],
   "source": [
    "class Solution:\n",
    "    def countSubstrings(self, s: str, c: str) -> int:\n",
    "        count = 0\n",
    "        for ch in s:\n",
    "            if ch == c:\n",
    "                count += 1\n",
    "        return (count * (count + 1)) / 2\n",
    "\n",
    "# Testing the solution\n",
    "assert Solution().countSubstrings(\"abada\", \"a\") == 6\n",
    "assert Solution().countSubstrings(\"zzz\", \"z\") == 6"
   ]
  },
  {
   "cell_type": "code",
   "execution_count": 14,
   "id": "a0a48e4b",
   "metadata": {
    "execution": {
     "iopub.execute_input": "2024-04-15T16:15:15.642916Z",
     "iopub.status.busy": "2024-04-15T16:15:15.642488Z",
     "iopub.status.idle": "2024-04-15T16:15:15.649441Z",
     "shell.execute_reply": "2024-04-15T16:15:15.648669Z"
    },
    "lines_to_next_cell": 1,
    "papermill": {
     "duration": 0.027476,
     "end_time": "2024-04-15T16:15:15.651093",
     "exception": false,
     "start_time": "2024-04-15T16:15:15.623617",
     "status": "completed"
    },
    "tags": []
   },
   "outputs": [],
   "source": [
    "class Solution:\n",
    "    def minimumDeletions(self, word: str, k: int) -> int:\n",
    "        freq: list[int] = sorted(collections.Counter(word).values())\n",
    "        N = len(freq)\n",
    "\n",
    "        result = math.inf\n",
    "        sum_ = 0\n",
    "        for i in range(N):\n",
    "            sum_ += freq[i - 1] if i > 0 else 0\n",
    "            curr_ = 0\n",
    "            for j in range(i + 1, N):\n",
    "                if freq[j] - freq[i] > k:\n",
    "                    curr_ += freq[j] - freq[i] - k\n",
    "            result = min(curr_ + sum_, result)\n",
    "\n",
    "        return result\n",
    "\n",
    "# Testing the solution\n",
    "assert Solution().minimumDeletions(\"aabcaba\", 0) == 3\n",
    "assert Solution().minimumDeletions(\"dabdcbdcdcd\", 2) == 2\n",
    "assert Solution().minimumDeletions(\"aaabaaa\", 2) == 1"
   ]
  },
  {
   "cell_type": "markdown",
   "id": "acd2120e",
   "metadata": {
    "papermill": {
     "duration": 0.017913,
     "end_time": "2024-04-15T16:15:15.687213",
     "exception": false,
     "start_time": "2024-04-15T16:15:15.669300",
     "status": "completed"
    },
    "tags": []
   },
   "source": [
    "Leetcode Weekly contest - 17th March\n",
    "Link: https://leetcode.com/problems/search-in-rotated-sorted-array/submissions/1210464524/"
   ]
  },
  {
   "cell_type": "code",
   "execution_count": 15,
   "id": "f7960549",
   "metadata": {
    "execution": {
     "iopub.execute_input": "2024-04-15T16:15:15.724815Z",
     "iopub.status.busy": "2024-04-15T16:15:15.724199Z",
     "iopub.status.idle": "2024-04-15T16:15:15.731889Z",
     "shell.execute_reply": "2024-04-15T16:15:15.731142Z"
    },
    "lines_to_next_cell": 1,
    "papermill": {
     "duration": 0.028205,
     "end_time": "2024-04-15T16:15:15.733552",
     "exception": false,
     "start_time": "2024-04-15T16:15:15.705347",
     "status": "completed"
    },
    "tags": []
   },
   "outputs": [],
   "source": [
    "class Solution:\n",
    "    def search(self, nums: list[int], target: int) -> int:\n",
    "        N = len(nums)\n",
    "        low, high = 0, N - 1\n",
    "        while low <= high:\n",
    "            mid = (low + high) // 2\n",
    "            if nums[mid] == target:\n",
    "                return mid\n",
    "\n",
    "            # Left portion is sorted\n",
    "            elif nums[low] <= nums[mid]:\n",
    "                if nums[low] <= target <= nums[mid]:\n",
    "                    high = mid - 1\n",
    "                else:\n",
    "                    low = mid + 1\n",
    "\n",
    "            # Right portion is sorted\n",
    "            else:\n",
    "                if nums[mid] <= target <= nums[high]:\n",
    "                    low = mid + 1\n",
    "                else:\n",
    "                    high = mid - 1\n",
    "\n",
    "        # Not found\n",
    "        else:\n",
    "            return -1\n",
    "\n",
    "# Testing the solution\n",
    "assert Solution().search([4,5,6,7,0,1,2], 0) == 4\n",
    "assert Solution().search([4,5,6,7,0,1,2], 3) == -1\n",
    "assert Solution().search([1], 0) == -1"
   ]
  },
  {
   "cell_type": "markdown",
   "id": "6d00645d",
   "metadata": {
    "papermill": {
     "duration": 0.018077,
     "end_time": "2024-04-15T16:15:15.769812",
     "exception": false,
     "start_time": "2024-04-15T16:15:15.751735",
     "status": "completed"
    },
    "tags": []
   },
   "source": [
    "Leetcode weekly contest 24th March, 2024"
   ]
  },
  {
   "cell_type": "code",
   "execution_count": 16,
   "id": "4115c1b7",
   "metadata": {
    "execution": {
     "iopub.execute_input": "2024-04-15T16:15:15.807415Z",
     "iopub.status.busy": "2024-04-15T16:15:15.806759Z",
     "iopub.status.idle": "2024-04-15T16:15:15.813142Z",
     "shell.execute_reply": "2024-04-15T16:15:15.812365Z"
    },
    "lines_to_next_cell": 1,
    "papermill": {
     "duration": 0.026983,
     "end_time": "2024-04-15T16:15:15.814841",
     "exception": false,
     "start_time": "2024-04-15T16:15:15.787858",
     "status": "completed"
    },
    "tags": []
   },
   "outputs": [],
   "source": [
    "# Q1 - Easy\n",
    "class Solution:\n",
    "    def maximumLengthSubstring(self, s: str) -> int:\n",
    "        # Brute force\n",
    "        N = len(s)\n",
    "        max_ = 0\n",
    "        for i in range(N - 1):\n",
    "            counts = {s[i]: 1}\n",
    "            for j in range(i + 1, N):\n",
    "                curr_count = counts.get(s[j], 0) + 1\n",
    "                if curr_count > 2:\n",
    "                    break\n",
    "                else:\n",
    "                    counts[s[j]] = curr_count\n",
    "                    max_ = max(max_, j - i + 1)\n",
    "        return max_\n",
    "\n",
    "# Testing the solution\n",
    "assert Solution().maximumLengthSubstring(\"bcbbbcba\") == 4\n",
    "assert Solution().maximumLengthSubstring(\"aaaa\") == 2"
   ]
  },
  {
   "cell_type": "code",
   "execution_count": 17,
   "id": "d41b9204",
   "metadata": {
    "execution": {
     "iopub.execute_input": "2024-04-15T16:15:15.852424Z",
     "iopub.status.busy": "2024-04-15T16:15:15.851816Z",
     "iopub.status.idle": "2024-04-15T16:15:15.857245Z",
     "shell.execute_reply": "2024-04-15T16:15:15.856489Z"
    },
    "lines_to_next_cell": 1,
    "papermill": {
     "duration": 0.025799,
     "end_time": "2024-04-15T16:15:15.858914",
     "exception": false,
     "start_time": "2024-04-15T16:15:15.833115",
     "status": "completed"
    },
    "tags": []
   },
   "outputs": [],
   "source": [
    "# Q2 - Medium\n",
    "class Solution:\n",
    "    def minOperations(self, k: int) -> int:\n",
    "        \"Can be optimized with binary search\"\n",
    "        min_ = k - 1\n",
    "        for i in range(1, k):\n",
    "            curr = i + math.ceil(k / i) - 2\n",
    "            if curr < min_:\n",
    "                min_ = curr\n",
    "\n",
    "        return min_\n",
    "\n",
    "# Testing the solution\n",
    "assert Solution().minOperations(11) == 5\n",
    "assert Solution().minOperations(1) == 0"
   ]
  },
  {
   "cell_type": "code",
   "execution_count": 18,
   "id": "51f6c341",
   "metadata": {
    "execution": {
     "iopub.execute_input": "2024-04-15T16:15:15.896358Z",
     "iopub.status.busy": "2024-04-15T16:15:15.895760Z",
     "iopub.status.idle": "2024-04-15T16:15:15.902440Z",
     "shell.execute_reply": "2024-04-15T16:15:15.901712Z"
    },
    "lines_to_next_cell": 1,
    "papermill": {
     "duration": 0.027039,
     "end_time": "2024-04-15T16:15:15.903972",
     "exception": false,
     "start_time": "2024-04-15T16:15:15.876933",
     "status": "completed"
    },
    "tags": []
   },
   "outputs": [],
   "source": [
    "# Q3 - Medium (Timeout)\n",
    "class Solution:\n",
    "    def mostFrequentIDs(self, nums: list[int], freq: list[int]) -> list[int]:\n",
    "        \"Brute force: O(N^2)\"\n",
    "        N = len(nums)\n",
    "        counter = dict()\n",
    "        result: list[int] = []\n",
    "        for i in range(N):\n",
    "            counter[nums[i]] = counter.get(nums[i], 0) + freq[i]\n",
    "            curr_max = max(counter.items(), key=lambda x: x[1])\n",
    "            result.append(curr_max[1])\n",
    "\n",
    "        return result\n",
    "\n",
    "# Testing the solution\n",
    "assert Solution().mostFrequentIDs([5,5,3], [2,-2,1]) == [2, 0, 1]\n",
    "assert Solution().mostFrequentIDs([2,3,2,1], [3,2,-3,1]) == [3,3,2,2]"
   ]
  },
  {
   "cell_type": "markdown",
   "id": "f581903e",
   "metadata": {
    "papermill": {
     "duration": 0.018842,
     "end_time": "2024-04-15T16:15:15.960885",
     "exception": false,
     "start_time": "2024-04-15T16:15:15.942043",
     "status": "completed"
    },
    "tags": []
   },
   "source": [
    "Category: Medium\n",
    "Video Link: https://leetcode.com/problems/find-the-duplicate-number"
   ]
  },
  {
   "cell_type": "code",
   "execution_count": 19,
   "id": "08bb3876",
   "metadata": {
    "execution": {
     "iopub.execute_input": "2024-04-15T16:15:16.001174Z",
     "iopub.status.busy": "2024-04-15T16:15:16.000506Z",
     "iopub.status.idle": "2024-04-15T16:15:16.009719Z",
     "shell.execute_reply": "2024-04-15T16:15:16.008977Z"
    },
    "lines_to_next_cell": 1,
    "papermill": {
     "duration": 0.031449,
     "end_time": "2024-04-15T16:15:16.011551",
     "exception": false,
     "start_time": "2024-04-15T16:15:15.980102",
     "status": "completed"
    },
    "tags": []
   },
   "outputs": [],
   "source": [
    "class Solution:\n",
    "    def findDuplicate_(self, nums: list[int]) -> int:\n",
    "        # Time - O(N log N)\n",
    "        nums.sort()\n",
    "\n",
    "        # Time - O(N)\n",
    "        for i in range(len(nums) -1):\n",
    "            if nums[i] == nums[i + 1]:\n",
    "                return nums[i]\n",
    "\n",
    "        return -1\n",
    "\n",
    "    def findDuplicate(self, nums: list[int]) -> int:\n",
    "        def backtrack(start: int) -> None | int:\n",
    "            next_ = nums[start]\n",
    "            if next_ == -1:\n",
    "                return start\n",
    "            else:\n",
    "                nums[start] = -1\n",
    "                return backtrack(next_)\n",
    "\n",
    "        for i in range(len(nums)):\n",
    "            if nums[i] == i:\n",
    "                nums[i] = -1\n",
    "            else:\n",
    "                curr = backtrack(nums[i])\n",
    "                if curr is not None:\n",
    "                    return curr\n",
    "        else:\n",
    "            return -1\n",
    "\n",
    "# Testing the solution\n",
    "assert Solution().findDuplicate([1,3,4,2,2]) == 2\n",
    "assert Solution().findDuplicate([3,1,3,4,2]) == 3\n",
    "assert Solution().findDuplicate([3,3,3,3,3]) == 3"
   ]
  },
  {
   "cell_type": "markdown",
   "id": "18a3ddfa",
   "metadata": {
    "papermill": {
     "duration": 0.01838,
     "end_time": "2024-04-15T16:15:16.048704",
     "exception": false,
     "start_time": "2024-04-15T16:15:16.030324",
     "status": "completed"
    },
    "tags": []
   },
   "source": [
    "#### Leetcode Contest: 31st March 2024 (# 391)"
   ]
  },
  {
   "cell_type": "code",
   "execution_count": 20,
   "id": "94eae322",
   "metadata": {
    "execution": {
     "iopub.execute_input": "2024-04-15T16:15:16.086450Z",
     "iopub.status.busy": "2024-04-15T16:15:16.085826Z",
     "iopub.status.idle": "2024-04-15T16:15:16.090344Z",
     "shell.execute_reply": "2024-04-15T16:15:16.089556Z"
    },
    "lines_to_next_cell": 1,
    "papermill": {
     "duration": 0.025145,
     "end_time": "2024-04-15T16:15:16.092099",
     "exception": false,
     "start_time": "2024-04-15T16:15:16.066954",
     "status": "completed"
    },
    "tags": []
   },
   "outputs": [],
   "source": [
    "# Q1 - Easy\n",
    "class Solution:\n",
    "    def sumOfTheDigitsOfHarshadNumber(self, x: int) -> int:\n",
    "        result = sum(map(int, str(x)))\n",
    "        if x % result == 0:\n",
    "            return result\n",
    "        else:\n",
    "            return -1"
   ]
  },
  {
   "cell_type": "code",
   "execution_count": 21,
   "id": "3820ddc5",
   "metadata": {
    "execution": {
     "iopub.execute_input": "2024-04-15T16:15:16.130104Z",
     "iopub.status.busy": "2024-04-15T16:15:16.129436Z",
     "iopub.status.idle": "2024-04-15T16:15:16.136697Z",
     "shell.execute_reply": "2024-04-15T16:15:16.136040Z"
    },
    "lines_to_next_cell": 1,
    "papermill": {
     "duration": 0.027719,
     "end_time": "2024-04-15T16:15:16.138296",
     "exception": false,
     "start_time": "2024-04-15T16:15:16.110577",
     "status": "completed"
    },
    "tags": []
   },
   "outputs": [],
   "source": [
    "# Q2 - Medium\n",
    "class Solution:\n",
    "    def maxBottlesDrunk(self, numBottles: int, numExchange: int) -> int:\n",
    "        def exchange(empty: int, exchange: int) -> tuple[int, int, int]:\n",
    "            \"\"\"\n",
    "            Given count of empty bottles and start exchange rate,\n",
    "            returns number of full bottles we can form and the updated exchange rate\n",
    "\n",
    "            For eg:\n",
    "\n",
    "            empty = 10, exchange = 1\n",
    "\n",
    "             E, R, F\n",
    "            10, 1, 0\n",
    "            9,  2, 1\n",
    "            7,  3, 2\n",
    "            4,  4, 3\n",
    "            0,  5, 4\n",
    "\n",
    "            empty = 9, exchange = 1\n",
    "\n",
    "            E, R, F\n",
    "            9, 1, 0\n",
    "            8, 2, 1\n",
    "            6, 3, 2\n",
    "            3, 4, 3\n",
    "\n",
    "            \"\"\"\n",
    "            filled = 0\n",
    "            while empty >= exchange:\n",
    "                empty -= exchange\n",
    "                exchange += 1\n",
    "                filled += 1\n",
    "\n",
    "            return empty, exchange, filled\n",
    "\n",
    "        total = empty = 0\n",
    "        while numBottles:\n",
    "            total += numBottles\n",
    "            empty, numBottles = empty + numBottles, 0\n",
    "            empty, numExchange, numBottles = exchange(empty, numExchange)\n",
    "\n",
    "        return total\n",
    "\n",
    "# Testing the solution\n",
    "assert Solution().maxBottlesDrunk(10, 3) == 13\n",
    "assert Solution().maxBottlesDrunk(13, 6) == 15"
   ]
  },
  {
   "cell_type": "code",
   "execution_count": 22,
   "id": "76322274",
   "metadata": {
    "execution": {
     "iopub.execute_input": "2024-04-15T16:15:16.176130Z",
     "iopub.status.busy": "2024-04-15T16:15:16.175549Z",
     "iopub.status.idle": "2024-04-15T16:15:16.181384Z",
     "shell.execute_reply": "2024-04-15T16:15:16.180724Z"
    },
    "lines_to_next_cell": 1,
    "papermill": {
     "duration": 0.026507,
     "end_time": "2024-04-15T16:15:16.183063",
     "exception": false,
     "start_time": "2024-04-15T16:15:16.156556",
     "status": "completed"
    },
    "tags": []
   },
   "outputs": [],
   "source": [
    "# Q3 - Medium\n",
    "class Solution:\n",
    "    def countAlternatingSubarrays(self, nums: list[int]) -> int:\n",
    "        count, curr, N = 0, 0, len(nums)\n",
    "        for i in range(N + 1):\n",
    "            if i == 0 or (i < N and nums[i - 1] != nums[i]):\n",
    "                curr += 1\n",
    "            else:\n",
    "                count += (curr * (curr + 1)) // 2\n",
    "                curr = 1\n",
    "\n",
    "        return count\n",
    "\n",
    "# Testing the solution\n",
    "assert Solution().countAlternatingSubarrays([1,0,1,0]) == 10\n",
    "assert Solution().countAlternatingSubarrays( [0,1,1,1]) == 5"
   ]
  },
  {
   "cell_type": "markdown",
   "id": "aa42e3c4",
   "metadata": {
    "papermill": {
     "duration": 0.018051,
     "end_time": "2024-04-15T16:15:16.219278",
     "exception": false,
     "start_time": "2024-04-15T16:15:16.201227",
     "status": "completed"
    },
    "tags": []
   },
   "source": [
    "Easy Leetcode question: https://leetcode.com/problems/minimum-common-value"
   ]
  },
  {
   "cell_type": "code",
   "execution_count": 23,
   "id": "d2e96902",
   "metadata": {
    "execution": {
     "iopub.execute_input": "2024-04-15T16:15:16.256893Z",
     "iopub.status.busy": "2024-04-15T16:15:16.256391Z",
     "iopub.status.idle": "2024-04-15T16:15:16.262455Z",
     "shell.execute_reply": "2024-04-15T16:15:16.261731Z"
    },
    "lines_to_next_cell": 1,
    "papermill": {
     "duration": 0.026649,
     "end_time": "2024-04-15T16:15:16.264167",
     "exception": false,
     "start_time": "2024-04-15T16:15:16.237518",
     "status": "completed"
    },
    "tags": []
   },
   "outputs": [],
   "source": [
    "def getCommon(nums1: list[int], nums2: list[int]) -> int:\n",
    "    N1, N2 = len(nums1), len(nums2)\n",
    "    i = j = 0\n",
    "    while i < N1 and j < N2:\n",
    "        if nums1[i] == nums2[j]:\n",
    "            return nums1[i]\n",
    "        elif nums1[i] < nums2[j]:\n",
    "            i += 1\n",
    "        else:\n",
    "            j += 1\n",
    "\n",
    "    return -1\n",
    "\n",
    "# Testing the solution\n",
    "assert getCommon([1, 2, 3], [2, 4]) == 2\n",
    "assert getCommon([1, 2, 3], [4, 5, 6]) == -1\n",
    "assert getCommon([1, 2, 3], [3]) == 3"
   ]
  },
  {
   "cell_type": "markdown",
   "id": "60f3c0df",
   "metadata": {
    "papermill": {
     "duration": 0.017917,
     "end_time": "2024-04-15T16:15:16.300062",
     "exception": false,
     "start_time": "2024-04-15T16:15:16.282145",
     "status": "completed"
    },
    "tags": []
   },
   "source": [
    "Diameter of binary Tree\n",
    "Problem Link: https://leetcode.com/problems/diameter-of-binary-tree/submissions/1222192232"
   ]
  },
  {
   "cell_type": "code",
   "execution_count": 24,
   "id": "e0fb0a0f",
   "metadata": {
    "execution": {
     "iopub.execute_input": "2024-04-15T16:15:16.337935Z",
     "iopub.status.busy": "2024-04-15T16:15:16.337275Z",
     "iopub.status.idle": "2024-04-15T16:15:16.344374Z",
     "shell.execute_reply": "2024-04-15T16:15:16.343605Z"
    },
    "lines_to_next_cell": 1,
    "papermill": {
     "duration": 0.02791,
     "end_time": "2024-04-15T16:15:16.346054",
     "exception": false,
     "start_time": "2024-04-15T16:15:16.318144",
     "status": "completed"
    },
    "tags": []
   },
   "outputs": [],
   "source": [
    "def diameterOfBinaryTree(root: BinaryTreeNode) -> int:\n",
    "    \"\"\"\n",
    "    1. Perform a post order traversal\n",
    "    2. Keep updating a global max_ variable as max(max_, left + right) before returning. This is our final result.\n",
    "    3. At each recursive step, return max(left, right)\n",
    "    \"\"\"\n",
    "\n",
    "    result: int = 0\n",
    "    def postOrder(curr: BinaryTreeNode) -> int:\n",
    "        nonlocal result\n",
    "        if not curr:\n",
    "            return 0\n",
    "        else:\n",
    "            left_max = postOrder(curr.left)\n",
    "            right_max = postOrder(curr.right)\n",
    "            result = max(result, left_max + right_max)\n",
    "            return max(left_max, right_max) + 1\n",
    "\n",
    "    postOrder(root)\n",
    "    return result\n",
    "\n",
    "# Testing the solution\n",
    "assert diameterOfBinaryTree(BinaryTreeNode.from_array([1, 2, 3, 4, 5])) == 3\n",
    "assert diameterOfBinaryTree(BinaryTreeNode.from_array([1, 2])) == 1"
   ]
  },
  {
   "cell_type": "markdown",
   "id": "95066bc4",
   "metadata": {
    "papermill": {
     "duration": 0.017945,
     "end_time": "2024-04-15T16:15:16.382345",
     "exception": false,
     "start_time": "2024-04-15T16:15:16.364400",
     "status": "completed"
    },
    "tags": []
   },
   "source": [
    "Easy Leetcode question \n",
    "Problem Link: https://leetcode.com/problems/largest-3-same-digit-number-in-string/submissions/1222201215/"
   ]
  },
  {
   "cell_type": "code",
   "execution_count": 25,
   "id": "dd3767a4",
   "metadata": {
    "execution": {
     "iopub.execute_input": "2024-04-15T16:15:16.419857Z",
     "iopub.status.busy": "2024-04-15T16:15:16.419295Z",
     "iopub.status.idle": "2024-04-15T16:15:16.428146Z",
     "shell.execute_reply": "2024-04-15T16:15:16.427338Z"
    },
    "lines_to_next_cell": 1,
    "papermill": {
     "duration": 0.029588,
     "end_time": "2024-04-15T16:15:16.429995",
     "exception": false,
     "start_time": "2024-04-15T16:15:16.400407",
     "status": "completed"
    },
    "tags": []
   },
   "outputs": [
    {
     "data": {
      "text/plain": [
       "'777'"
      ]
     },
     "execution_count": 25,
     "metadata": {},
     "output_type": "execute_result"
    }
   ],
   "source": [
    "def largestGoodInteger(num: str) -> str:\n",
    "    for n in \"9876543210\":\n",
    "        if n * 3 in num:\n",
    "            return n * 3\n",
    "    else:\n",
    "        return \"\"\n",
    "\n",
    "# Testing the solution\n",
    "largestGoodInteger(\"6777133339\")"
   ]
  },
  {
   "cell_type": "markdown",
   "id": "90d38ef2",
   "metadata": {
    "papermill": {
     "duration": 0.018206,
     "end_time": "2024-04-15T16:15:16.466917",
     "exception": false,
     "start_time": "2024-04-15T16:15:16.448711",
     "status": "completed"
    },
    "tags": []
   },
   "source": [
    "Easy Leetcode question\n",
    "Problem Link: https://leetcode.com/problems/largest-odd-number-in-string/submissions/1222208825"
   ]
  },
  {
   "cell_type": "code",
   "execution_count": 26,
   "id": "ba91d179",
   "metadata": {
    "execution": {
     "iopub.execute_input": "2024-04-15T16:15:16.506251Z",
     "iopub.status.busy": "2024-04-15T16:15:16.505643Z",
     "iopub.status.idle": "2024-04-15T16:15:16.512185Z",
     "shell.execute_reply": "2024-04-15T16:15:16.511426Z"
    },
    "lines_to_next_cell": 1,
    "papermill": {
     "duration": 0.027454,
     "end_time": "2024-04-15T16:15:16.513969",
     "exception": false,
     "start_time": "2024-04-15T16:15:16.486515",
     "status": "completed"
    },
    "tags": []
   },
   "outputs": [
    {
     "data": {
      "text/plain": [
       "'35427'"
      ]
     },
     "execution_count": 26,
     "metadata": {},
     "output_type": "execute_result"
    }
   ],
   "source": [
    "def largestOddNumber(num: str) -> str:\n",
    "    N = len(num)\n",
    "    for i in range(N - 1, -1, -1):\n",
    "        if int(num[i]) % 2 == 1:\n",
    "            return num[:i + 1]\n",
    "    else:\n",
    "        return \"\"\n",
    "\n",
    "# Testing the solution\n",
    "largestOddNumber(\"354278\")"
   ]
  },
  {
   "cell_type": "markdown",
   "id": "84ba2176",
   "metadata": {
    "papermill": {
     "duration": 0.018289,
     "end_time": "2024-04-15T16:15:16.550821",
     "exception": false,
     "start_time": "2024-04-15T16:15:16.532532",
     "status": "completed"
    },
    "tags": []
   },
   "source": [
    "Leetcode easy problem: https://leetcode.com/problems/make-the-string-great/submissions/1224126212"
   ]
  },
  {
   "cell_type": "code",
   "execution_count": 27,
   "id": "94ade9d0",
   "metadata": {
    "execution": {
     "iopub.execute_input": "2024-04-15T16:15:16.589083Z",
     "iopub.status.busy": "2024-04-15T16:15:16.588450Z",
     "iopub.status.idle": "2024-04-15T16:15:16.593659Z",
     "shell.execute_reply": "2024-04-15T16:15:16.592917Z"
    },
    "lines_to_next_cell": 1,
    "papermill": {
     "duration": 0.026093,
     "end_time": "2024-04-15T16:15:16.595373",
     "exception": false,
     "start_time": "2024-04-15T16:15:16.569280",
     "status": "completed"
    },
    "tags": []
   },
   "outputs": [],
   "source": [
    "def makeGood(s: str) -> str:\n",
    "    stack: list[str] = []\n",
    "    for c in s:\n",
    "        if not stack or c.lower() != stack[-1].lower() or ord(c) == ord(stack[-1]):\n",
    "            stack.append(c)\n",
    "        else:\n",
    "            stack.pop()\n",
    "\n",
    "    return \"\".join(stack)\n",
    "\n",
    "assert makeGood(\"leeEetcode\") == \"leetcode\"\n",
    "assert makeGood(\"abBAcC\") == \"\""
   ]
  },
  {
   "cell_type": "markdown",
   "id": "b5cc8f93",
   "metadata": {
    "papermill": {
     "duration": 0.018422,
     "end_time": "2024-04-15T16:15:16.632432",
     "exception": false,
     "start_time": "2024-04-15T16:15:16.614010",
     "status": "completed"
    },
    "tags": []
   },
   "source": [
    "#### Code Gladiators - 2k24"
   ]
  },
  {
   "cell_type": "code",
   "execution_count": 28,
   "id": "4fe7023d",
   "metadata": {
    "execution": {
     "iopub.execute_input": "2024-04-15T16:15:16.670546Z",
     "iopub.status.busy": "2024-04-15T16:15:16.669908Z",
     "iopub.status.idle": "2024-04-15T16:15:16.679972Z",
     "shell.execute_reply": "2024-04-15T16:15:16.679223Z"
    },
    "lines_to_next_cell": 1,
    "papermill": {
     "duration": 0.031037,
     "end_time": "2024-04-15T16:15:16.681764",
     "exception": false,
     "start_time": "2024-04-15T16:15:16.650727",
     "status": "completed"
    },
    "tags": []
   },
   "outputs": [],
   "source": [
    "# Q1\n",
    "def Q1(P: int, X: int, R1: int, N: int, Y: int, R2: int):\n",
    "\n",
    "    # Get travel time for comparison\n",
    "    t1 = (P / X) + R1\n",
    "    t2 = (N / Y) + R2\n",
    "\n",
    "    if t1 < t2:\n",
    "        return \"NINA\"\n",
    "    elif t1 > t2:\n",
    "        return \"PAUL\"\n",
    "    else:\n",
    "        return \"BOTH\"\n",
    "\n",
    "# Q2:\n",
    "def Q2(arr: list[int], N: int) -> int:\n",
    "\n",
    "    def getPair(i: int, target: int) -> int:\n",
    "        \"Returns pair index j, such that arr[i] + arr[j] == target, returns -1 if not possible\"\n",
    "        for j in positions.get(target - arr[i], []):\n",
    "            if j != i and j not in picked:\n",
    "                return j\n",
    "        else:\n",
    "            return -1\n",
    "\n",
    "    # Store all the values to a dict for quick reverse lookups\n",
    "    positions: dict[int, list] = dict()\n",
    "    for i in range(N):\n",
    "        indices: list[int] = positions.get(arr[i], [])\n",
    "        indices.append(i)\n",
    "        positions[arr[i]] = indices\n",
    "\n",
    "    # Weights can be between 2 * min_, 2 * max_\n",
    "    max_count = 0\n",
    "    for total_weight in range(min(arr) * 2, (max(arr) * 2) + 1):\n",
    "        count = 0\n",
    "        picked: set[int] = set()\n",
    "        for i in range(N):\n",
    "            j = getPair(i, total_weight) if i not in picked else -1\n",
    "            if j != -1:\n",
    "                picked.add(i)\n",
    "                picked.add(j)\n",
    "                count += 1\n",
    "\n",
    "        max_count = max(max_count, count)\n",
    "\n",
    "    return max_count\n",
    "\n",
    "# Testing the solution\n",
    "assert Q2([1, 1, 3, 4, 2, 2], 6) == 2"
   ]
  },
  {
   "cell_type": "markdown",
   "id": "10f9ae1d",
   "metadata": {
    "papermill": {
     "duration": 0.018289,
     "end_time": "2024-04-15T16:15:16.718577",
     "exception": false,
     "start_time": "2024-04-15T16:15:16.700288",
     "status": "completed"
    },
    "tags": []
   },
   "source": [
    "Problem link: https://leetcode.com/problems/time-needed-to-buy-tickets/submissions/1227477603"
   ]
  },
  {
   "cell_type": "code",
   "execution_count": 29,
   "id": "a8665a6b",
   "metadata": {
    "execution": {
     "iopub.execute_input": "2024-04-15T16:15:16.757024Z",
     "iopub.status.busy": "2024-04-15T16:15:16.756392Z",
     "iopub.status.idle": "2024-04-15T16:15:16.762070Z",
     "shell.execute_reply": "2024-04-15T16:15:16.761290Z"
    },
    "lines_to_next_cell": 1,
    "papermill": {
     "duration": 0.026653,
     "end_time": "2024-04-15T16:15:16.763664",
     "exception": false,
     "start_time": "2024-04-15T16:15:16.737011",
     "status": "completed"
    },
    "tags": []
   },
   "outputs": [],
   "source": [
    "# Time: O(N), Space: O(1)\n",
    "def timeRequiredToBuy(tickets: list[int], k: int) -> int:\n",
    "    total = 0\n",
    "    for i in range(len(tickets)):\n",
    "        if i <= k:\n",
    "            total += min(tickets[k], tickets[i])\n",
    "        else:\n",
    "            total += min(tickets[k] - 1, tickets[i])\n",
    "\n",
    "    return total\n",
    "\n",
    "# Testing the Solution\n",
    "assert timeRequiredToBuy(tickets=[5, 1, 1, 1],  k=0) == 8\n",
    "assert timeRequiredToBuy(tickets=[2, 3, 2], k=2) == 6"
   ]
  },
  {
   "cell_type": "markdown",
   "id": "a8388f4e",
   "metadata": {
    "papermill": {
     "duration": 0.018221,
     "end_time": "2024-04-15T16:15:16.800262",
     "exception": false,
     "start_time": "2024-04-15T16:15:16.782041",
     "status": "completed"
    },
    "tags": []
   },
   "source": [
    "Problem Link: https://leetcode.com/problems/number-of-students-unable-to-eat-lunch/submissions/1227492211"
   ]
  },
  {
   "cell_type": "code",
   "execution_count": 30,
   "id": "c54b1d35",
   "metadata": {
    "execution": {
     "iopub.execute_input": "2024-04-15T16:15:16.838197Z",
     "iopub.status.busy": "2024-04-15T16:15:16.837700Z",
     "iopub.status.idle": "2024-04-15T16:15:16.843585Z",
     "shell.execute_reply": "2024-04-15T16:15:16.842818Z"
    },
    "lines_to_next_cell": 1,
    "papermill": {
     "duration": 0.026578,
     "end_time": "2024-04-15T16:15:16.845189",
     "exception": false,
     "start_time": "2024-04-15T16:15:16.818611",
     "status": "completed"
    },
    "tags": []
   },
   "outputs": [],
   "source": [
    "def countStudents(students: list[int], sandwiches: list[int]) -> int:\n",
    "    stud_pref: dict[int, int] = collections.Counter(students)\n",
    "    for n in sandwiches:\n",
    "        if stud_pref.get(n, 0) == 0:\n",
    "            return stud_pref.get(0, 0) + stud_pref.get(1, 0)\n",
    "        else:\n",
    "            stud_pref[n] -= 1\n",
    "    return 0\n",
    "\n",
    "# Testing the Solution\n",
    "assert countStudents([1,1,0,0], [0,1,0,1]) == 0\n",
    "assert countStudents([1,1,1,0,0,1], [1,0,0,0,1,1]) == 3"
   ]
  },
  {
   "cell_type": "markdown",
   "id": "bae9e756",
   "metadata": {
    "papermill": {
     "duration": 0.018148,
     "end_time": "2024-04-15T16:15:16.882037",
     "exception": false,
     "start_time": "2024-04-15T16:15:16.863889",
     "status": "completed"
    },
    "tags": []
   },
   "source": [
    "All root to leaf paths in a Binary Tree"
   ]
  },
  {
   "cell_type": "code",
   "execution_count": 31,
   "id": "9b941cc0",
   "metadata": {
    "execution": {
     "iopub.execute_input": "2024-04-15T16:15:16.919983Z",
     "iopub.status.busy": "2024-04-15T16:15:16.919388Z",
     "iopub.status.idle": "2024-04-15T16:15:16.927113Z",
     "shell.execute_reply": "2024-04-15T16:15:16.926342Z"
    },
    "lines_to_next_cell": 1,
    "papermill": {
     "duration": 0.028559,
     "end_time": "2024-04-15T16:15:16.928907",
     "exception": false,
     "start_time": "2024-04-15T16:15:16.900348",
     "status": "completed"
    },
    "tags": []
   },
   "outputs": [],
   "source": [
    "def allRootToLeaf(root: BinaryTreeNode) -> list[str]:\n",
    "    \"\"\"\n",
    "    1. Do a pre order traversal.\n",
    "    2. When a leaf node is encountered. Append the path to result.\n",
    "    3. If not a leaf node, concat to a growing string path.\n",
    "    \"\"\"\n",
    "\n",
    "    paths: list[str] = []\n",
    "    def preOrder(curr: BinaryTreeNode, traveled: list[str]):\n",
    "        traveled.append(str(curr.val))\n",
    "\n",
    "        if not curr.left and not curr.right:\n",
    "            nonlocal paths\n",
    "            paths.append(\" \".join(traveled))\n",
    "        if curr.left:\n",
    "            preOrder(curr.left, traveled)\n",
    "        if curr.right:\n",
    "            preOrder(curr.right, traveled)\n",
    "\n",
    "        traveled.pop()\n",
    "\n",
    "    preOrder(root, [])\n",
    "    return paths\n",
    "\n",
    "# Testing the solution\n",
    "for ques, ans in (\n",
    "        ([1, 2, 3, 4, None, 5, 6, None, 7, None, None, None, None, None, None], [\"1 3 5\", \"1 3 6\", \"1 2 4 7\"]),\n",
    "        ([1, 2, 3, 4, 5, None, None, None, None, None, None], [\"1 2 4\", \"1 2 5\", \"1 3\"]),\n",
    "    ):\n",
    "    temp = allRootToLeaf(BinaryTreeNode.from_array(ques))\n",
    "    for ans_str in ans:\n",
    "        assert ans_str in temp, f\"{ans_str} not found inside result: {temp}\""
   ]
  },
  {
   "cell_type": "markdown",
   "id": "1e07c06f",
   "metadata": {
    "papermill": {
     "duration": 0.018219,
     "end_time": "2024-04-15T16:15:16.965619",
     "exception": false,
     "start_time": "2024-04-15T16:15:16.947400",
     "status": "completed"
    },
    "tags": []
   },
   "source": [
    "Problem Link: https://leetcode.com/problems/lowest-common-ancestor-of-a-binary-tree/submissions/1227536364"
   ]
  },
  {
   "cell_type": "code",
   "execution_count": 32,
   "id": "bfdc7092",
   "metadata": {
    "execution": {
     "iopub.execute_input": "2024-04-15T16:15:17.003961Z",
     "iopub.status.busy": "2024-04-15T16:15:17.003388Z",
     "iopub.status.idle": "2024-04-15T16:15:17.011498Z",
     "shell.execute_reply": "2024-04-15T16:15:17.010739Z"
    },
    "lines_to_next_cell": 1,
    "papermill": {
     "duration": 0.02887,
     "end_time": "2024-04-15T16:15:17.013073",
     "exception": false,
     "start_time": "2024-04-15T16:15:16.984203",
     "status": "completed"
    },
    "tags": []
   },
   "outputs": [],
   "source": [
    "def lowestCommonAncestor(root: BinaryTreeNode, p: BinaryTreeNode, q: BinaryTreeNode) -> BinaryTreeNode:\n",
    "    p_path: list[BinaryTreeNode] = []\n",
    "    q_path: list[BinaryTreeNode] = []\n",
    "    def getPathsFromRoot(curr: BinaryTreeNode, traveled: list[BinaryTreeNode]):\n",
    "        nonlocal p_path, q_path\n",
    "        traveled.append(curr)\n",
    "        if curr == p:\n",
    "            p_path = list(traveled)\n",
    "        if curr == q:\n",
    "            q_path = list(traveled)\n",
    "        if curr.left:\n",
    "            getPathsFromRoot(curr.left, traveled)\n",
    "        if curr.right:\n",
    "            getPathsFromRoot(curr.right, traveled)\n",
    "        traveled.pop()\n",
    "\n",
    "    getPathsFromRoot(root, [])\n",
    "\n",
    "    # Find common ancestor\n",
    "    NP, NQ = len(p_path), len(q_path)\n",
    "    i = j = 0\n",
    "    while i < NP and j < NQ and p_path[i] == q_path[j]:\n",
    "        i, j = i + 1, j + 1\n",
    "\n",
    "    return p_path[i - 1]\n",
    "\n",
    "# Testing the solution\n",
    "temp: BinaryTreeNode = BinaryTreeNode.from_array([3,5,1,6,2,0,8,None,None,7,4])\n",
    "assert lowestCommonAncestor(temp, p=temp.left, q=temp.left.right.right).val == 5"
   ]
  },
  {
   "cell_type": "markdown",
   "id": "b4388e14",
   "metadata": {
    "papermill": {
     "duration": 0.018246,
     "end_time": "2024-04-15T16:15:17.049874",
     "exception": false,
     "start_time": "2024-04-15T16:15:17.031628",
     "status": "completed"
    },
    "tags": []
   },
   "source": [
    "Problem Link: https://leetcode.com/problems/maximum-width-of-binary-tree/submissions/1228429287"
   ]
  },
  {
   "cell_type": "code",
   "execution_count": 33,
   "id": "876bfe38",
   "metadata": {
    "execution": {
     "iopub.execute_input": "2024-04-15T16:15:17.088075Z",
     "iopub.status.busy": "2024-04-15T16:15:17.087470Z",
     "iopub.status.idle": "2024-04-15T16:15:17.094642Z",
     "shell.execute_reply": "2024-04-15T16:15:17.093817Z"
    },
    "lines_to_next_cell": 1,
    "papermill": {
     "duration": 0.027945,
     "end_time": "2024-04-15T16:15:17.096205",
     "exception": false,
     "start_time": "2024-04-15T16:15:17.068260",
     "status": "completed"
    },
    "tags": []
   },
   "outputs": [],
   "source": [
    "def widthOfBinaryTree(root: BinaryTreeNode) -> int:\n",
    "    boundaries: dict[int, tuple[int, int]] = dict()\n",
    "    max_width = 1\n",
    "    def backtrack(curr: BinaryTreeNode, height: int, width: int):\n",
    "        nonlocal boundaries, max_width\n",
    "        if not curr:\n",
    "            return\n",
    "        else:\n",
    "            curr_lr = boundaries.get(height, (2 ** height, 0))\n",
    "            boundaries[height] = (min(curr_lr[0], width + 1), max(curr_lr[1], width + 1))\n",
    "            max_width = max(max_width, boundaries[height][1] - boundaries[height][0] + 1)\n",
    "            backtrack(curr.left, height + 1, width * 2)\n",
    "            backtrack(curr.right, height + 1, (width * 2) + 1)\n",
    "\n",
    "    backtrack(root, 0, 0)\n",
    "    return max_width\n",
    "\n",
    "# Testing the Solution\n",
    "assert widthOfBinaryTree(BinaryTreeNode.from_array([1, 3, 2, 5, None, None, 9, 6, None, 7])) == 7"
   ]
  },
  {
   "cell_type": "markdown",
   "id": "d1a33bbb",
   "metadata": {
    "papermill": {
     "duration": 0.020696,
     "end_time": "2024-04-15T16:15:17.135430",
     "exception": false,
     "start_time": "2024-04-15T16:15:17.114734",
     "status": "completed"
    },
    "tags": []
   },
   "source": [
    "Leetcode Easy: https://leetcode.com/problems/maximum-average-subarray-i/"
   ]
  },
  {
   "cell_type": "code",
   "execution_count": 34,
   "id": "25620d4a",
   "metadata": {
    "execution": {
     "iopub.execute_input": "2024-04-15T16:15:17.173786Z",
     "iopub.status.busy": "2024-04-15T16:15:17.173055Z",
     "iopub.status.idle": "2024-04-15T16:15:17.179036Z",
     "shell.execute_reply": "2024-04-15T16:15:17.178347Z"
    },
    "lines_to_next_cell": 1,
    "papermill": {
     "duration": 0.026896,
     "end_time": "2024-04-15T16:15:17.180807",
     "exception": false,
     "start_time": "2024-04-15T16:15:17.153911",
     "status": "completed"
    },
    "tags": []
   },
   "outputs": [],
   "source": [
    "def findMaxAverage(nums: list[int], k: int) -> float:\n",
    "    sum_ = sum(nums[:k])\n",
    "    max_avg = sum_ / k\n",
    "    for i in range(k, len(nums)):\n",
    "        sum_ = sum_ + nums[i] - nums[i - k]\n",
    "        max_avg = max(max_avg, sum_ / k)\n",
    "\n",
    "    return max_avg\n",
    "\n",
    "# Testing the solution\n",
    "assert findMaxAverage([1,12,-5,-6,50,3], 4) == 12.75\n",
    "assert findMaxAverage([5], 1) == 5"
   ]
  },
  {
   "cell_type": "markdown",
   "id": "7bcc5995",
   "metadata": {
    "papermill": {
     "duration": 0.018196,
     "end_time": "2024-04-15T16:15:17.217604",
     "exception": false,
     "start_time": "2024-04-15T16:15:17.199408",
     "status": "completed"
    },
    "tags": []
   },
   "source": [
    "Easy Leetcode Problem Link: https://leetcode.com/problems/average-of-levels-in-binary-tree/submissions/1228468053"
   ]
  },
  {
   "cell_type": "code",
   "execution_count": 35,
   "id": "7efaf1c1",
   "metadata": {
    "execution": {
     "iopub.execute_input": "2024-04-15T16:15:17.255767Z",
     "iopub.status.busy": "2024-04-15T16:15:17.255098Z",
     "iopub.status.idle": "2024-04-15T16:15:17.261579Z",
     "shell.execute_reply": "2024-04-15T16:15:17.260940Z"
    },
    "lines_to_next_cell": 1,
    "papermill": {
     "duration": 0.027212,
     "end_time": "2024-04-15T16:15:17.263218",
     "exception": false,
     "start_time": "2024-04-15T16:15:17.236006",
     "status": "completed"
    },
    "tags": []
   },
   "outputs": [],
   "source": [
    "def averageOfLevels(root: BinaryTreeNode) -> list[float]:\n",
    "    result: list[float] = []\n",
    "    queue: list[BinaryTreeNode] = [root]\n",
    "    while queue:\n",
    "        next_: list[BinaryTreeNode] = []\n",
    "        sum_ = count_ = 0\n",
    "        for curr in queue:\n",
    "            sum_, count_ = sum_ + curr.val, count_ + 1\n",
    "            if curr.left:\n",
    "                next_.append(curr.left)\n",
    "            if curr.right:\n",
    "                next_.append(curr.right)\n",
    "        result.append(sum_ / count_)\n",
    "        queue = next_\n",
    "\n",
    "    return result\n",
    "\n",
    "# Testing the solution\n",
    "assert averageOfLevels(BinaryTreeNode.from_array([3,9,20,None,None,15,7])) == [3.00,14.50,11.00]"
   ]
  },
  {
   "cell_type": "markdown",
   "id": "6edc89e5",
   "metadata": {
    "papermill": {
     "duration": 0.018511,
     "end_time": "2024-04-15T16:15:17.300266",
     "exception": false,
     "start_time": "2024-04-15T16:15:17.281755",
     "status": "completed"
    },
    "tags": []
   },
   "source": [
    "Problem Link: https://leetcode.com/problems/all-nodes-distance-k-in-binary-tree"
   ]
  },
  {
   "cell_type": "code",
   "execution_count": 36,
   "id": "2f193894",
   "metadata": {
    "execution": {
     "iopub.execute_input": "2024-04-15T16:15:17.338653Z",
     "iopub.status.busy": "2024-04-15T16:15:17.338040Z",
     "iopub.status.idle": "2024-04-15T16:15:17.348647Z",
     "shell.execute_reply": "2024-04-15T16:15:17.348012Z"
    },
    "lines_to_next_cell": 1,
    "papermill": {
     "duration": 0.031508,
     "end_time": "2024-04-15T16:15:17.350315",
     "exception": false,
     "start_time": "2024-04-15T16:15:17.318807",
     "status": "completed"
    },
    "tags": []
   },
   "outputs": [],
   "source": [
    "def distanceK(root: BinaryTreeNode, target: int, k: int) -> list[int]:\n",
    "    adl: dict[int, set[int]] = dict()\n",
    "    def createGraph(curr: BinaryTreeNode):\n",
    "        nonlocal adl\n",
    "        if curr:\n",
    "            if curr.left:\n",
    "                curr_neighbours = adl.get(curr.val, set())\n",
    "                curr_neighbours.add(curr.left.val)\n",
    "                adl[curr.val] = curr_neighbours\n",
    "                left_neighbours = adl.get(curr.left.val, set())\n",
    "                left_neighbours.add(curr.val)\n",
    "                adl[curr.left.val] = left_neighbours\n",
    "                createGraph(curr.left)\n",
    "            if curr.right:\n",
    "                curr_neighbours = adl.get(curr.val, set())\n",
    "                curr_neighbours.add(curr.right.val)\n",
    "                adl[curr.val] = curr_neighbours\n",
    "                right_neighbours = adl.get(curr.right.val, set())\n",
    "                right_neighbours.add(curr.val)\n",
    "                adl[curr.right.val] = right_neighbours\n",
    "                createGraph(curr.right)\n",
    "\n",
    "    # Create a graph out of the binary Tree\n",
    "    createGraph(root)\n",
    "\n",
    "    # Starting from our target, find all nodes at K distance using BFS\n",
    "    queue: list[int] = [target]\n",
    "    visited: set[int] = set([target])\n",
    "    while k > 0:\n",
    "        next_: list[int] = []\n",
    "        for curr in queue:\n",
    "            for neighbour in adl.get(curr, set()):\n",
    "                if neighbour not in visited:\n",
    "                    visited.add(neighbour)\n",
    "                    next_.append(neighbour)\n",
    "        queue = next_\n",
    "        k -= 1\n",
    "\n",
    "    return queue\n",
    "\n",
    "# Testing the solution\n",
    "assert sorted(distanceK(BinaryTreeNode.from_array([3,5,1,6,2,0,8,None,None,7,4]), 5, 2)) == [1, 4, 7]\n",
    "assert sorted(distanceK(BinaryTreeNode.from_array([3,5,1,6,2,0,8,None,None,7,4]), 4, 2)) == [5, 7]"
   ]
  },
  {
   "cell_type": "markdown",
   "id": "29877a02",
   "metadata": {
    "papermill": {
     "duration": 0.019166,
     "end_time": "2024-04-15T16:15:17.388303",
     "exception": false,
     "start_time": "2024-04-15T16:15:17.369137",
     "status": "completed"
    },
    "tags": []
   },
   "source": [
    "Construct BT from Preorder and Inorder\n",
    "Problem Link: https://leetcode.com/problems/construct-binary-tree-from-preorder-and-inorder-traversal/submissions/1230345366"
   ]
  },
  {
   "cell_type": "code",
   "execution_count": 37,
   "id": "7042888b",
   "metadata": {
    "execution": {
     "iopub.execute_input": "2024-04-15T16:15:17.427713Z",
     "iopub.status.busy": "2024-04-15T16:15:17.427135Z",
     "iopub.status.idle": "2024-04-15T16:15:17.436599Z",
     "shell.execute_reply": "2024-04-15T16:15:17.435838Z"
    },
    "lines_to_next_cell": 1,
    "papermill": {
     "duration": 0.030602,
     "end_time": "2024-04-15T16:15:17.438274",
     "exception": false,
     "start_time": "2024-04-15T16:15:17.407672",
     "status": "completed"
    },
    "tags": []
   },
   "outputs": [
    {
     "data": {
      "text/plain": [
       "[9, None, 20, 15, 7]"
      ]
     },
     "execution_count": 37,
     "metadata": {},
     "output_type": "execute_result"
    }
   ],
   "source": [
    "def buildTreeFromPreOrder(inorder: list[int], preorder: list[int]) -> BinaryTreeNode|None:\n",
    "    \"\"\"\n",
    "    Preorder: Root, Left, Right\n",
    "    Inorder: Left, Root, Right\n",
    "\n",
    "    Root based spliting.\n",
    "    Use Preorder to determine which of the bunch is the root.\n",
    "    Use inorder to determine which of the bunch goes to the left half and which right.\n",
    "    \"\"\"\n",
    "\n",
    "    if not inorder:\n",
    "        return None\n",
    "    else:\n",
    "        inorder_set = set(inorder)\n",
    "        for root_val in preorder:\n",
    "            if root_val in inorder_set:\n",
    "                break\n",
    "\n",
    "        root = BinaryTreeNode(root_val)\n",
    "        if len(inorder) > 1:\n",
    "            idx = inorder.index(root.val)\n",
    "            left_inorder = inorder[:idx]\n",
    "            root.left = buildTreeFromPreOrder(left_inorder, preorder)\n",
    "            right_inorder = inorder[idx + 1:]\n",
    "            root.right = buildTreeFromPreOrder(right_inorder, preorder)\n",
    "\n",
    "        return root\n",
    "\n",
    "# Testing the Solution\n",
    "buildTreeFromPreOrder(inorder=[9,15,20,7], preorder=[3,9,20,15,7]).to_list()"
   ]
  },
  {
   "cell_type": "markdown",
   "id": "2325a371",
   "metadata": {
    "papermill": {
     "duration": 0.018548,
     "end_time": "2024-04-15T16:15:17.475801",
     "exception": false,
     "start_time": "2024-04-15T16:15:17.457253",
     "status": "completed"
    },
    "tags": []
   },
   "source": [
    "Construct Binary Tree from Inorder and Postorder Traversal\n",
    "Problem Link: "
   ]
  },
  {
   "cell_type": "code",
   "execution_count": 38,
   "id": "c3a41642",
   "metadata": {
    "execution": {
     "iopub.execute_input": "2024-04-15T16:15:17.514265Z",
     "iopub.status.busy": "2024-04-15T16:15:17.513791Z",
     "iopub.status.idle": "2024-04-15T16:15:17.520683Z",
     "shell.execute_reply": "2024-04-15T16:15:17.519889Z"
    },
    "lines_to_next_cell": 1,
    "papermill": {
     "duration": 0.027986,
     "end_time": "2024-04-15T16:15:17.522375",
     "exception": false,
     "start_time": "2024-04-15T16:15:17.494389",
     "status": "completed"
    },
    "tags": []
   },
   "outputs": [
    {
     "data": {
      "text/plain": [
       "[1, 2, 5, 3, 4]"
      ]
     },
     "execution_count": 38,
     "metadata": {},
     "output_type": "execute_result"
    }
   ],
   "source": [
    "def buildTreeFromPostOrder(inorder: list[int], postorder: list[int]) -> BinaryTreeNode|None:\n",
    "    \"\"\"\n",
    "    Inorder: Root, Left, Right\n",
    "    Postorder: Left, Right, Root\n",
    "\n",
    "    Same as FromPreOrder, except that we always take the last element also present in inorder as our root.\n",
    "    Simply reverse postorder and use the same function as before.\n",
    "    \"\"\"\n",
    "    return buildTreeFromPreOrder(inorder=inorder, preorder=postorder[::-1])\n",
    "\n",
    "# Testing the Solution\n",
    "buildTreeFromPostOrder(inorder=[3, 2, 4, 1, 5], postorder=[3, 4, 2, 5, 1]).to_list()"
   ]
  },
  {
   "cell_type": "markdown",
   "id": "2e008839",
   "metadata": {
    "papermill": {
     "duration": 0.018519,
     "end_time": "2024-04-15T16:15:17.559566",
     "exception": false,
     "start_time": "2024-04-15T16:15:17.541047",
     "status": "completed"
    },
    "tags": []
   },
   "source": [
    "Medium Leetcode: https://leetcode.com/problems/remove-k-digits"
   ]
  },
  {
   "cell_type": "code",
   "execution_count": 39,
   "id": "cf7ab669",
   "metadata": {
    "execution": {
     "iopub.execute_input": "2024-04-15T16:15:17.598283Z",
     "iopub.status.busy": "2024-04-15T16:15:17.597728Z",
     "iopub.status.idle": "2024-04-15T16:15:17.605378Z",
     "shell.execute_reply": "2024-04-15T16:15:17.604587Z"
    },
    "lines_to_next_cell": 1,
    "papermill": {
     "duration": 0.028857,
     "end_time": "2024-04-15T16:15:17.607091",
     "exception": false,
     "start_time": "2024-04-15T16:15:17.578234",
     "status": "completed"
    },
    "tags": []
   },
   "outputs": [
    {
     "data": {
      "text/plain": [
       "'132219'"
      ]
     },
     "execution_count": 39,
     "metadata": {},
     "output_type": "execute_result"
    }
   ],
   "source": [
    "# Brute force solution\n",
    "def removeKdigitsBrute(num: str, k: int) -> str:\n",
    "    def removeDigit(curr: str) -> str:\n",
    "        N = len(curr)\n",
    "        for i in range(N):\n",
    "            if i == N - 1 or num[i] > num[i + 1]:\n",
    "                break\n",
    "\n",
    "        return num[:i] + num[i + 1:]\n",
    "\n",
    "    while k > 0:\n",
    "        num = removeDigit(num)\n",
    "        k -= 1\n",
    "\n",
    "    num = num.lstrip(\"0\")\n",
    "    return \"0\" if not len(num) else num\n",
    "\n",
    "# Testing the solution\n",
    "removeKdigitsBrute(\"1432219\", 1)"
   ]
  },
  {
   "cell_type": "code",
   "execution_count": 40,
   "id": "b073a96f",
   "metadata": {
    "execution": {
     "iopub.execute_input": "2024-04-15T16:15:17.646219Z",
     "iopub.status.busy": "2024-04-15T16:15:17.645660Z",
     "iopub.status.idle": "2024-04-15T16:15:17.687396Z",
     "shell.execute_reply": "2024-04-15T16:15:17.686570Z"
    },
    "lines_to_next_cell": 1,
    "papermill": {
     "duration": 0.063033,
     "end_time": "2024-04-15T16:15:17.689114",
     "exception": false,
     "start_time": "2024-04-15T16:15:17.626081",
     "status": "completed"
    },
    "tags": []
   },
   "outputs": [
    {
     "name": "stderr",
     "output_type": "stream",
     "text": [
      "\r",
      "  0%|          | 0/1000 [00:00<?, ?it/s]"
     ]
    },
    {
     "name": "stderr",
     "output_type": "stream",
     "text": [
      "\r",
      "100%|██████████| 1000/1000 [00:00<00:00, 35321.94it/s]"
     ]
    },
    {
     "name": "stderr",
     "output_type": "stream",
     "text": [
      "\n"
     ]
    }
   ],
   "source": [
    "# Optimal solution after trial and errors: https://leetcode.com/problems/remove-k-digits/submissions/1231175827 \n",
    "def removeKdigitsBetter(num: str, k: int) -> str:\n",
    "    \"Time: O(N), Space: O(N)\"\n",
    "    stack: list[str] = []\n",
    "    for n in num:\n",
    "        while stack and k > 0 and int(stack[-1]) > int(n):\n",
    "            stack.pop()\n",
    "            k -= 1\n",
    "        stack.append(n)\n",
    "\n",
    "    stack = stack[:-k] if k > 0 else stack\n",
    "    num = \"\".join(stack).lstrip(\"0\")\n",
    "    num = num if num else \"0\"\n",
    "    return num\n",
    "\n",
    "# Testing the solution\n",
    "for _ in tqdm.tqdm(range(1000)):\n",
    "    N = random.randint(1, 25)\n",
    "    i = random.randint(1, N)\n",
    "    str_ = \"\".join(random.choices(\"0123456789\", k=N))\n",
    "    assert removeKdigitsBetter(str_, i) == removeKdigitsBrute(str_, i), f\"failed for {str_}, {i}\""
   ]
  },
  {
   "cell_type": "markdown",
   "id": "48a18c10",
   "metadata": {
    "papermill": {
     "duration": 0.01907,
     "end_time": "2024-04-15T16:15:17.727381",
     "exception": false,
     "start_time": "2024-04-15T16:15:17.708311",
     "status": "completed"
    },
    "tags": []
   },
   "source": [
    "Leetcode Weekly contest - Saturday (13th Apr)"
   ]
  },
  {
   "cell_type": "code",
   "execution_count": 41,
   "id": "07cf645f",
   "metadata": {
    "execution": {
     "iopub.execute_input": "2024-04-15T16:15:17.766921Z",
     "iopub.status.busy": "2024-04-15T16:15:17.766666Z",
     "iopub.status.idle": "2024-04-15T16:15:17.771157Z",
     "shell.execute_reply": "2024-04-15T16:15:17.770364Z"
    },
    "lines_to_next_cell": 1,
    "papermill": {
     "duration": 0.026186,
     "end_time": "2024-04-15T16:15:17.772790",
     "exception": false,
     "start_time": "2024-04-15T16:15:17.746604",
     "status": "completed"
    },
    "tags": []
   },
   "outputs": [],
   "source": [
    "# Q1 - Easy\n",
    "def scoreOfString(s: str) -> int:\n",
    "    N = len(s)\n",
    "    result = 0\n",
    "    for i in range(N - 1):\n",
    "        result += abs(ord(s[i]) - ord(s[i + 1]))\n",
    "    return result"
   ]
  },
  {
   "cell_type": "code",
   "execution_count": 42,
   "id": "3360d184",
   "metadata": {
    "execution": {
     "iopub.execute_input": "2024-04-15T16:15:17.812681Z",
     "iopub.status.busy": "2024-04-15T16:15:17.812151Z",
     "iopub.status.idle": "2024-04-15T16:15:17.818153Z",
     "shell.execute_reply": "2024-04-15T16:15:17.817450Z"
    },
    "lines_to_next_cell": 1,
    "papermill": {
     "duration": 0.027675,
     "end_time": "2024-04-15T16:15:17.819889",
     "exception": false,
     "start_time": "2024-04-15T16:15:17.792214",
     "status": "completed"
    },
    "tags": []
   },
   "outputs": [],
   "source": [
    "# Q2 - Medium\n",
    "def minRectanglesToCoverPoints(points: list[list[int]], w: int) -> int:\n",
    "    X = sorted(set(map(lambda x: x[0], points)))\n",
    "    count = 0\n",
    "    prev = -1\n",
    "    for x in X:\n",
    "        if prev == -1 or x - prev > w:\n",
    "            count += 1\n",
    "            prev = x\n",
    "\n",
    "    return count\n",
    "\n",
    "# Testing the solution\n",
    "assert minRectanglesToCoverPoints([[0,0],[1,1],[2,2],[3,3],[4,4],[5,5],[6,6]], 2) == 3\n",
    "assert minRectanglesToCoverPoints([[2,3],[1,2]], 0) == 2"
   ]
  },
  {
   "cell_type": "markdown",
   "id": "91647588",
   "metadata": {
    "papermill": {
     "duration": 0.021505,
     "end_time": "2024-04-15T16:15:17.860728",
     "exception": false,
     "start_time": "2024-04-15T16:15:17.839223",
     "status": "completed"
    },
    "tags": []
   },
   "source": [
    "Binary Watch - Easy LC"
   ]
  },
  {
   "cell_type": "code",
   "execution_count": 43,
   "id": "3868d381",
   "metadata": {
    "execution": {
     "iopub.execute_input": "2024-04-15T16:15:17.901041Z",
     "iopub.status.busy": "2024-04-15T16:15:17.900442Z",
     "iopub.status.idle": "2024-04-15T16:15:17.911133Z",
     "shell.execute_reply": "2024-04-15T16:15:17.910309Z"
    },
    "lines_to_next_cell": 1,
    "papermill": {
     "duration": 0.032445,
     "end_time": "2024-04-15T16:15:17.912731",
     "exception": false,
     "start_time": "2024-04-15T16:15:17.880286",
     "status": "completed"
    },
    "tags": []
   },
   "outputs": [
    {
     "data": {
      "text/plain": [
       "['8:00',\n",
       " '4:00',\n",
       " '2:00',\n",
       " '1:00',\n",
       " '0:32',\n",
       " '0:16',\n",
       " '0:08',\n",
       " '0:04',\n",
       " '0:02',\n",
       " '0:01']"
      ]
     },
     "execution_count": 43,
     "metadata": {},
     "output_type": "execute_result"
    }
   ],
   "source": [
    "# https://leetcode.com/problems/binary-watch/submissions/1231377431\n",
    "def readBinaryWatch(turnedOn: int) -> list[str]:\n",
    "    def getValue(code: str) -> tuple[int, int]:\n",
    "        mapping = {\n",
    "            \"H8\": (8, 0), \"H4\": (4, 0),\n",
    "            \"H2\": (2, 0), \"H1\": (1, 0),\n",
    "\n",
    "            \"M32\": (0, 32), \"M16\": (0, 16),\n",
    "            \"M8\": (0, 8), \"M4\": (0, 4),\n",
    "            \"M2\": (0, 2), \"M1\": (0, 1)\n",
    "        }\n",
    "        return mapping[code]\n",
    "\n",
    "    leds: list[str] = [\"H8\", \"H4\", \"H2\", \"H1\", \"M32\", \"M16\", \"M8\", \"M4\", \"M2\", \"M1\"]\n",
    "    possbilities = itertools.combinations(leds, r=turnedOn)\n",
    "\n",
    "    result: list[str] = []\n",
    "    for possb in possbilities:\n",
    "        hour_ = min_ = 0\n",
    "        for led in possb:\n",
    "            H, M = getValue(led)\n",
    "            hour_ += H\n",
    "            min_ += M\n",
    "\n",
    "        if 0 <= hour_ <= 11 and 0 <= min_ <= 59:\n",
    "            result.append(f\"{hour_}:{str(min_).zfill(2)}\")\n",
    "\n",
    "    return result\n",
    "\n",
    "# Testing the solution\n",
    "readBinaryWatch(1)"
   ]
  },
  {
   "cell_type": "markdown",
   "id": "1b69d7ad",
   "metadata": {
    "papermill": {
     "duration": 0.019297,
     "end_time": "2024-04-15T16:15:17.951798",
     "exception": false,
     "start_time": "2024-04-15T16:15:17.932501",
     "status": "completed"
    },
    "tags": []
   },
   "source": [
    "Valid Perfect Square: https://leetcode.com/problems/valid-perfect-square/submissions/1231389059"
   ]
  },
  {
   "cell_type": "code",
   "execution_count": 44,
   "id": "97e2b8db",
   "metadata": {
    "execution": {
     "iopub.execute_input": "2024-04-15T16:15:17.993569Z",
     "iopub.status.busy": "2024-04-15T16:15:17.992894Z",
     "iopub.status.idle": "2024-04-15T16:15:17.998158Z",
     "shell.execute_reply": "2024-04-15T16:15:17.997388Z"
    },
    "lines_to_next_cell": 1,
    "papermill": {
     "duration": 0.027064,
     "end_time": "2024-04-15T16:15:17.999813",
     "exception": false,
     "start_time": "2024-04-15T16:15:17.972749",
     "status": "completed"
    },
    "tags": []
   },
   "outputs": [],
   "source": [
    "def isPerfectSquare(num: int) -> bool:\n",
    "    low, high = 0, num\n",
    "    while low <= high:\n",
    "        mid = (low + high) // 2\n",
    "        square = mid * mid\n",
    "        if square == num:\n",
    "            return True\n",
    "        elif square < num:\n",
    "            low = mid + 1\n",
    "        else:\n",
    "            high = mid - 1\n",
    "\n",
    "    return False\n",
    "\n",
    "# Testing the solution\n",
    "assert isPerfectSquare(16) == True\n",
    "assert isPerfectSquare(3) == False"
   ]
  },
  {
   "cell_type": "markdown",
   "id": "54962282",
   "metadata": {
    "papermill": {
     "duration": 0.019129,
     "end_time": "2024-04-15T16:15:18.038336",
     "exception": false,
     "start_time": "2024-04-15T16:15:18.019207",
     "status": "completed"
    },
    "tags": []
   },
   "source": [
    "Range sum query: https://leetcode.com/problems/range-sum-query-immutable/submissions/1231398800"
   ]
  },
  {
   "cell_type": "code",
   "execution_count": 45,
   "id": "c95f87dd",
   "metadata": {
    "execution": {
     "iopub.execute_input": "2024-04-15T16:15:18.078243Z",
     "iopub.status.busy": "2024-04-15T16:15:18.077937Z",
     "iopub.status.idle": "2024-04-15T16:15:18.084012Z",
     "shell.execute_reply": "2024-04-15T16:15:18.083349Z"
    },
    "lines_to_next_cell": 1,
    "papermill": {
     "duration": 0.027891,
     "end_time": "2024-04-15T16:15:18.085673",
     "exception": false,
     "start_time": "2024-04-15T16:15:18.057782",
     "status": "completed"
    },
    "tags": []
   },
   "outputs": [],
   "source": [
    "class NumArray:\n",
    "    def __init__(self, nums: list[int]):\n",
    "        self.nums = nums\n",
    "        self.cumsum = list(itertools.accumulate(nums, lambda x, y: x + y))\n",
    "\n",
    "    def sumRange(self, left: int, right: int) -> int:\n",
    "        result = self.cumsum[right]\n",
    "        if left > 0:\n",
    "            result -= self.cumsum[left - 1]\n",
    "        return result\n",
    "\n",
    "# Testing the Solution\n",
    "obj = NumArray([-2, 0, 3, -5, 2, -1])\n",
    "assert obj.sumRange(0, 2) == 1\n",
    "assert obj.sumRange(2, 5) == -1"
   ]
  },
  {
   "cell_type": "markdown",
   "id": "bd8e8248",
   "metadata": {
    "papermill": {
     "duration": 0.019249,
     "end_time": "2024-04-15T16:15:18.124202",
     "exception": false,
     "start_time": "2024-04-15T16:15:18.104953",
     "status": "completed"
    },
    "tags": []
   },
   "source": [
    "Cows and bulls: https://leetcode.com/problems/bulls-and-cows/submissions/1231417724"
   ]
  },
  {
   "cell_type": "code",
   "execution_count": 46,
   "id": "264c9ee0",
   "metadata": {
    "execution": {
     "iopub.execute_input": "2024-04-15T16:15:18.164241Z",
     "iopub.status.busy": "2024-04-15T16:15:18.163671Z",
     "iopub.status.idle": "2024-04-15T16:15:18.169487Z",
     "shell.execute_reply": "2024-04-15T16:15:18.168823Z"
    },
    "lines_to_next_cell": 1,
    "papermill": {
     "duration": 0.027691,
     "end_time": "2024-04-15T16:15:18.171223",
     "exception": false,
     "start_time": "2024-04-15T16:15:18.143532",
     "status": "completed"
    },
    "tags": []
   },
   "outputs": [],
   "source": [
    "def getHint(secret: str, guess: str) -> str:\n",
    "    N = len(guess)\n",
    "    secret_freq = collections.Counter(secret)\n",
    "    guess_freq = collections.Counter(guess)\n",
    "    cows = bulls = 0\n",
    "    for i in range(N):\n",
    "        if guess[i] == secret[i]:\n",
    "            bulls += 1\n",
    "            secret_freq[guess[i]] -= 1\n",
    "            guess_freq[guess[i]] -= 1\n",
    "\n",
    "    for k in guess_freq:\n",
    "        cows += min(guess_freq[k], secret_freq.get(k, 0))\n",
    "\n",
    "    return f\"{bulls}A{cows}B\"\n",
    "\n",
    "# Testing the solution\n",
    "assert getHint(\"1122\", \"1222\") == \"3A0B\""
   ]
  },
  {
   "cell_type": "markdown",
   "id": "6bbf3690",
   "metadata": {
    "papermill": {
     "duration": 0.019263,
     "end_time": "2024-04-15T16:15:18.210183",
     "exception": false,
     "start_time": "2024-04-15T16:15:18.190920",
     "status": "completed"
    },
    "tags": []
   },
   "source": [
    "Weekly LC - Sunday: 14th April, 2024"
   ]
  },
  {
   "cell_type": "code",
   "execution_count": 47,
   "id": "1254e925",
   "metadata": {
    "execution": {
     "iopub.execute_input": "2024-04-15T16:15:18.250213Z",
     "iopub.status.busy": "2024-04-15T16:15:18.249580Z",
     "iopub.status.idle": "2024-04-15T16:15:18.258111Z",
     "shell.execute_reply": "2024-04-15T16:15:18.257378Z"
    },
    "lines_to_next_cell": 1,
    "papermill": {
     "duration": 0.030311,
     "end_time": "2024-04-15T16:15:18.259817",
     "exception": false,
     "start_time": "2024-04-15T16:15:18.229506",
     "status": "completed"
    },
    "tags": []
   },
   "outputs": [
    {
     "data": {
      "text/plain": [
       "'02:39'"
      ]
     },
     "execution_count": 47,
     "metadata": {},
     "output_type": "execute_result"
    }
   ],
   "source": [
    "# Q1 - Easy\n",
    "def findLatestTime(s: str) -> str:\n",
    "    result = []\n",
    "    for i in range(5):\n",
    "        if s[i] == '?':\n",
    "            if i == 0:\n",
    "                result.append('0' if s[1].isdigit() and int(s[1]) > 1 else '1')\n",
    "            elif i == 1:\n",
    "                result.append('1' if result[0] == '1' else '9')\n",
    "            elif i == 3:\n",
    "                result.append('5')\n",
    "            else:\n",
    "                result.append('9')\n",
    "        else:\n",
    "            result.append(s[i])\n",
    "\n",
    "    return ''.join(result)\n",
    "\n",
    "# Testing the solution\n",
    "findLatestTime(\"?2:3?\")"
   ]
  },
  {
   "cell_type": "code",
   "execution_count": 48,
   "id": "7e9a187d",
   "metadata": {
    "execution": {
     "iopub.execute_input": "2024-04-15T16:15:18.300354Z",
     "iopub.status.busy": "2024-04-15T16:15:18.299793Z",
     "iopub.status.idle": "2024-04-15T16:15:18.306158Z",
     "shell.execute_reply": "2024-04-15T16:15:18.305482Z"
    },
    "lines_to_next_cell": 1,
    "papermill": {
     "duration": 0.02838,
     "end_time": "2024-04-15T16:15:18.307859",
     "exception": false,
     "start_time": "2024-04-15T16:15:18.279479",
     "status": "completed"
    },
    "tags": []
   },
   "outputs": [],
   "source": [
    "# Q2 - Medium\n",
    "def maximumPrimeDifference(nums: list[int]) -> int:\n",
    "    primes = {2,3,5,7,11,13,17,19,23,29,31,37,41,43,47,53,59,61,67,71,73,79,83,89,97}\n",
    "\n",
    "    N = len(nums)\n",
    "    for i in range(N):\n",
    "        if nums[i] in primes:\n",
    "            break\n",
    "\n",
    "    for j in range(N - 1, -1, -1):\n",
    "        if nums[j] in primes:\n",
    "            break\n",
    "\n",
    "    return j - i\n",
    "\n",
    "# Testing the solution\n",
    "assert maximumPrimeDifference([4,2,9,5,3]) == 3\n",
    "assert maximumPrimeDifference([4,8,2,8]) == 0"
   ]
  },
  {
   "cell_type": "code",
   "execution_count": 49,
   "id": "1d6959ea",
   "metadata": {
    "execution": {
     "iopub.execute_input": "2024-04-15T16:15:18.348458Z",
     "iopub.status.busy": "2024-04-15T16:15:18.347900Z",
     "iopub.status.idle": "2024-04-15T16:15:39.320943Z",
     "shell.execute_reply": "2024-04-15T16:15:39.320124Z"
    },
    "lines_to_next_cell": 1,
    "papermill": {
     "duration": 20.995058,
     "end_time": "2024-04-15T16:15:39.322696",
     "exception": false,
     "start_time": "2024-04-15T16:15:18.327638",
     "status": "completed"
    },
    "tags": []
   },
   "outputs": [
    {
     "name": "stderr",
     "output_type": "stream",
     "text": [
      "\r",
      "  0%|          | 0/99 [00:00<?, ?it/s]"
     ]
    },
    {
     "name": "stderr",
     "output_type": "stream",
     "text": [
      "\r",
      "  2%|▏         | 2/99 [00:00<00:05, 16.21it/s]"
     ]
    },
    {
     "name": "stderr",
     "output_type": "stream",
     "text": [
      "\r",
      "  4%|▍         | 4/99 [00:00<00:09, 10.14it/s]"
     ]
    },
    {
     "name": "stderr",
     "output_type": "stream",
     "text": [
      "\r",
      "  6%|▌         | 6/99 [00:00<00:11,  8.31it/s]"
     ]
    },
    {
     "name": "stderr",
     "output_type": "stream",
     "text": [
      "\r",
      "  7%|▋         | 7/99 [00:00<00:11,  7.86it/s]"
     ]
    },
    {
     "name": "stderr",
     "output_type": "stream",
     "text": [
      "\r",
      "  8%|▊         | 8/99 [00:00<00:12,  7.18it/s]"
     ]
    },
    {
     "name": "stderr",
     "output_type": "stream",
     "text": [
      "\r",
      "  9%|▉         | 9/99 [00:01<00:12,  7.05it/s]"
     ]
    },
    {
     "name": "stderr",
     "output_type": "stream",
     "text": [
      "\r",
      " 10%|█         | 10/99 [00:01<00:12,  6.96it/s]"
     ]
    },
    {
     "name": "stderr",
     "output_type": "stream",
     "text": [
      "\r",
      " 11%|█         | 11/99 [00:01<00:13,  6.57it/s]"
     ]
    },
    {
     "name": "stderr",
     "output_type": "stream",
     "text": [
      "\r",
      " 12%|█▏        | 12/99 [00:01<00:13,  6.32it/s]"
     ]
    },
    {
     "name": "stderr",
     "output_type": "stream",
     "text": [
      "\r",
      " 13%|█▎        | 13/99 [00:01<00:13,  6.15it/s]"
     ]
    },
    {
     "name": "stderr",
     "output_type": "stream",
     "text": [
      "\r",
      " 14%|█▍        | 14/99 [00:01<00:14,  6.04it/s]"
     ]
    },
    {
     "name": "stderr",
     "output_type": "stream",
     "text": [
      "\r",
      " 15%|█▌        | 15/99 [00:02<00:14,  5.97it/s]"
     ]
    },
    {
     "name": "stderr",
     "output_type": "stream",
     "text": [
      "\r",
      " 16%|█▌        | 16/99 [00:02<00:13,  5.93it/s]"
     ]
    },
    {
     "name": "stderr",
     "output_type": "stream",
     "text": [
      "\r",
      " 17%|█▋        | 17/99 [00:02<00:14,  5.63it/s]"
     ]
    },
    {
     "name": "stderr",
     "output_type": "stream",
     "text": [
      "\r",
      " 18%|█▊        | 18/99 [00:02<00:14,  5.45it/s]"
     ]
    },
    {
     "name": "stderr",
     "output_type": "stream",
     "text": [
      "\r",
      " 19%|█▉        | 19/99 [00:02<00:15,  5.32it/s]"
     ]
    },
    {
     "name": "stderr",
     "output_type": "stream",
     "text": [
      "\r",
      " 20%|██        | 20/99 [00:03<00:15,  5.23it/s]"
     ]
    },
    {
     "name": "stderr",
     "output_type": "stream",
     "text": [
      "\r",
      " 21%|██        | 21/99 [00:03<00:15,  5.18it/s]"
     ]
    },
    {
     "name": "stderr",
     "output_type": "stream",
     "text": [
      "\r",
      " 22%|██▏       | 22/99 [00:03<00:14,  5.14it/s]"
     ]
    },
    {
     "name": "stderr",
     "output_type": "stream",
     "text": [
      "\r",
      " 23%|██▎       | 23/99 [00:03<00:14,  5.12it/s]"
     ]
    },
    {
     "name": "stderr",
     "output_type": "stream",
     "text": [
      "\r",
      " 24%|██▍       | 24/99 [00:03<00:14,  5.10it/s]"
     ]
    },
    {
     "name": "stderr",
     "output_type": "stream",
     "text": [
      "\r",
      " 25%|██▌       | 25/99 [00:04<00:14,  5.09it/s]"
     ]
    },
    {
     "name": "stderr",
     "output_type": "stream",
     "text": [
      "\r",
      " 26%|██▋       | 26/99 [00:04<00:14,  5.08it/s]"
     ]
    },
    {
     "name": "stderr",
     "output_type": "stream",
     "text": [
      "\r",
      " 27%|██▋       | 27/99 [00:04<00:14,  5.07it/s]"
     ]
    },
    {
     "name": "stderr",
     "output_type": "stream",
     "text": [
      "\r",
      " 28%|██▊       | 28/99 [00:04<00:14,  5.07it/s]"
     ]
    },
    {
     "name": "stderr",
     "output_type": "stream",
     "text": [
      "\r",
      " 29%|██▉       | 29/99 [00:04<00:13,  5.06it/s]"
     ]
    },
    {
     "name": "stderr",
     "output_type": "stream",
     "text": [
      "\r",
      " 30%|███       | 30/99 [00:05<00:13,  5.06it/s]"
     ]
    },
    {
     "name": "stderr",
     "output_type": "stream",
     "text": [
      "\r",
      " 31%|███▏      | 31/99 [00:05<00:13,  4.87it/s]"
     ]
    },
    {
     "name": "stderr",
     "output_type": "stream",
     "text": [
      "\r",
      " 32%|███▏      | 32/99 [00:05<00:14,  4.75it/s]"
     ]
    },
    {
     "name": "stderr",
     "output_type": "stream",
     "text": [
      "\r",
      " 33%|███▎      | 33/99 [00:05<00:13,  4.84it/s]"
     ]
    },
    {
     "name": "stderr",
     "output_type": "stream",
     "text": [
      "\r",
      " 34%|███▍      | 34/99 [00:05<00:13,  4.69it/s]"
     ]
    },
    {
     "name": "stderr",
     "output_type": "stream",
     "text": [
      "\r",
      " 35%|███▌      | 35/99 [00:06<00:13,  4.79it/s]"
     ]
    },
    {
     "name": "stderr",
     "output_type": "stream",
     "text": [
      "\r",
      " 36%|███▋      | 36/99 [00:06<00:12,  4.87it/s]"
     ]
    },
    {
     "name": "stderr",
     "output_type": "stream",
     "text": [
      "\r",
      " 37%|███▋      | 37/99 [00:06<00:13,  4.75it/s]"
     ]
    },
    {
     "name": "stderr",
     "output_type": "stream",
     "text": [
      "\r",
      " 38%|███▊      | 38/99 [00:06<00:13,  4.67it/s]"
     ]
    },
    {
     "name": "stderr",
     "output_type": "stream",
     "text": [
      "\r",
      " 39%|███▉      | 39/99 [00:07<00:12,  4.78it/s]"
     ]
    },
    {
     "name": "stderr",
     "output_type": "stream",
     "text": [
      "\r",
      " 40%|████      | 40/99 [00:07<00:12,  4.85it/s]"
     ]
    },
    {
     "name": "stderr",
     "output_type": "stream",
     "text": [
      "\r",
      " 41%|████▏     | 41/99 [00:07<00:12,  4.74it/s]"
     ]
    },
    {
     "name": "stderr",
     "output_type": "stream",
     "text": [
      "\r",
      " 42%|████▏     | 42/99 [00:07<00:12,  4.67it/s]"
     ]
    },
    {
     "name": "stderr",
     "output_type": "stream",
     "text": [
      "\r",
      " 43%|████▎     | 43/99 [00:07<00:12,  4.61it/s]"
     ]
    },
    {
     "name": "stderr",
     "output_type": "stream",
     "text": [
      "\r",
      " 44%|████▍     | 44/99 [00:08<00:12,  4.58it/s]"
     ]
    },
    {
     "name": "stderr",
     "output_type": "stream",
     "text": [
      "\r",
      " 45%|████▌     | 45/99 [00:08<00:11,  4.55it/s]"
     ]
    },
    {
     "name": "stderr",
     "output_type": "stream",
     "text": [
      "\r",
      " 46%|████▋     | 46/99 [00:08<00:11,  4.54it/s]"
     ]
    },
    {
     "name": "stderr",
     "output_type": "stream",
     "text": [
      "\r",
      " 47%|████▋     | 47/99 [00:08<00:11,  4.53it/s]"
     ]
    },
    {
     "name": "stderr",
     "output_type": "stream",
     "text": [
      "\r",
      " 48%|████▊     | 48/99 [00:08<00:11,  4.51it/s]"
     ]
    },
    {
     "name": "stderr",
     "output_type": "stream",
     "text": [
      "\r",
      " 49%|████▉     | 49/99 [00:09<00:11,  4.52it/s]"
     ]
    },
    {
     "name": "stderr",
     "output_type": "stream",
     "text": [
      "\r",
      " 51%|█████     | 50/99 [00:09<00:10,  4.52it/s]"
     ]
    },
    {
     "name": "stderr",
     "output_type": "stream",
     "text": [
      "\r",
      " 52%|█████▏    | 51/99 [00:09<00:10,  4.51it/s]"
     ]
    },
    {
     "name": "stderr",
     "output_type": "stream",
     "text": [
      "\r",
      " 53%|█████▎    | 52/99 [00:09<00:10,  4.52it/s]"
     ]
    },
    {
     "name": "stderr",
     "output_type": "stream",
     "text": [
      "\r",
      " 54%|█████▎    | 53/99 [00:10<00:10,  4.52it/s]"
     ]
    },
    {
     "name": "stderr",
     "output_type": "stream",
     "text": [
      "\r",
      " 55%|█████▍    | 54/99 [00:10<00:09,  4.51it/s]"
     ]
    },
    {
     "name": "stderr",
     "output_type": "stream",
     "text": [
      "\r",
      " 56%|█████▌    | 55/99 [00:10<00:09,  4.50it/s]"
     ]
    },
    {
     "name": "stderr",
     "output_type": "stream",
     "text": [
      "\r",
      " 57%|█████▋    | 56/99 [00:10<00:09,  4.50it/s]"
     ]
    },
    {
     "name": "stderr",
     "output_type": "stream",
     "text": [
      "\r",
      " 58%|█████▊    | 57/99 [00:10<00:09,  4.48it/s]"
     ]
    },
    {
     "name": "stderr",
     "output_type": "stream",
     "text": [
      "\r",
      " 59%|█████▊    | 58/99 [00:11<00:09,  4.49it/s]"
     ]
    },
    {
     "name": "stderr",
     "output_type": "stream",
     "text": [
      "\r",
      " 60%|█████▉    | 59/99 [00:11<00:08,  4.50it/s]"
     ]
    },
    {
     "name": "stderr",
     "output_type": "stream",
     "text": [
      "\r",
      " 61%|██████    | 60/99 [00:11<00:08,  4.50it/s]"
     ]
    },
    {
     "name": "stderr",
     "output_type": "stream",
     "text": [
      "\r",
      " 62%|██████▏   | 61/99 [00:11<00:08,  4.50it/s]"
     ]
    },
    {
     "name": "stderr",
     "output_type": "stream",
     "text": [
      "\r",
      " 63%|██████▎   | 62/99 [00:12<00:08,  4.50it/s]"
     ]
    },
    {
     "name": "stderr",
     "output_type": "stream",
     "text": [
      "\r",
      " 64%|██████▎   | 63/99 [00:12<00:08,  4.48it/s]"
     ]
    },
    {
     "name": "stderr",
     "output_type": "stream",
     "text": [
      "\r",
      " 65%|██████▍   | 64/99 [00:12<00:07,  4.48it/s]"
     ]
    },
    {
     "name": "stderr",
     "output_type": "stream",
     "text": [
      "\r",
      " 66%|██████▌   | 65/99 [00:12<00:07,  4.35it/s]"
     ]
    },
    {
     "name": "stderr",
     "output_type": "stream",
     "text": [
      "\r",
      " 67%|██████▋   | 66/99 [00:13<00:07,  4.40it/s]"
     ]
    },
    {
     "name": "stderr",
     "output_type": "stream",
     "text": [
      "\r",
      " 68%|██████▊   | 67/99 [00:13<00:07,  4.44it/s]"
     ]
    },
    {
     "name": "stderr",
     "output_type": "stream",
     "text": [
      "\r",
      " 69%|██████▊   | 68/99 [00:13<00:07,  4.33it/s]"
     ]
    },
    {
     "name": "stderr",
     "output_type": "stream",
     "text": [
      "\r",
      " 70%|██████▉   | 69/99 [00:13<00:07,  4.24it/s]"
     ]
    },
    {
     "name": "stderr",
     "output_type": "stream",
     "text": [
      "\r",
      " 71%|███████   | 70/99 [00:13<00:06,  4.20it/s]"
     ]
    },
    {
     "name": "stderr",
     "output_type": "stream",
     "text": [
      "\r",
      " 72%|███████▏  | 71/99 [00:14<00:06,  4.16it/s]"
     ]
    },
    {
     "name": "stderr",
     "output_type": "stream",
     "text": [
      "\r",
      " 73%|███████▎  | 72/99 [00:14<00:06,  4.13it/s]"
     ]
    },
    {
     "name": "stderr",
     "output_type": "stream",
     "text": [
      "\r",
      " 74%|███████▎  | 73/99 [00:14<00:06,  4.12it/s]"
     ]
    },
    {
     "name": "stderr",
     "output_type": "stream",
     "text": [
      "\r",
      " 75%|███████▍  | 74/99 [00:14<00:06,  4.10it/s]"
     ]
    },
    {
     "name": "stderr",
     "output_type": "stream",
     "text": [
      "\r",
      " 76%|███████▌  | 75/99 [00:15<00:05,  4.16it/s]"
     ]
    },
    {
     "name": "stderr",
     "output_type": "stream",
     "text": [
      "\r",
      " 77%|███████▋  | 76/99 [00:15<00:05,  4.26it/s]"
     ]
    },
    {
     "name": "stderr",
     "output_type": "stream",
     "text": [
      "\r",
      " 78%|███████▊  | 77/99 [00:15<00:05,  4.34it/s]"
     ]
    },
    {
     "name": "stderr",
     "output_type": "stream",
     "text": [
      "\r",
      " 79%|███████▉  | 78/99 [00:15<00:04,  4.39it/s]"
     ]
    },
    {
     "name": "stderr",
     "output_type": "stream",
     "text": [
      "\r",
      " 80%|███████▉  | 79/99 [00:16<00:04,  4.29it/s]"
     ]
    },
    {
     "name": "stderr",
     "output_type": "stream",
     "text": [
      "\r",
      " 81%|████████  | 80/99 [00:16<00:04,  4.22it/s]"
     ]
    },
    {
     "name": "stderr",
     "output_type": "stream",
     "text": [
      "\r",
      " 82%|████████▏ | 81/99 [00:16<00:04,  4.18it/s]"
     ]
    },
    {
     "name": "stderr",
     "output_type": "stream",
     "text": [
      "\r",
      " 83%|████████▎ | 82/99 [00:16<00:03,  4.27it/s]"
     ]
    },
    {
     "name": "stderr",
     "output_type": "stream",
     "text": [
      "\r",
      " 84%|████████▍ | 83/99 [00:17<00:03,  4.34it/s]"
     ]
    },
    {
     "name": "stderr",
     "output_type": "stream",
     "text": [
      "\r",
      " 85%|████████▍ | 84/99 [00:17<00:03,  4.23it/s]"
     ]
    },
    {
     "name": "stderr",
     "output_type": "stream",
     "text": [
      "\r",
      " 86%|████████▌ | 85/99 [00:17<00:03,  4.12it/s]"
     ]
    },
    {
     "name": "stderr",
     "output_type": "stream",
     "text": [
      "\r",
      " 87%|████████▋ | 86/99 [00:17<00:03,  4.11it/s]"
     ]
    },
    {
     "name": "stderr",
     "output_type": "stream",
     "text": [
      "\r",
      " 88%|████████▊ | 87/99 [00:18<00:02,  4.10it/s]"
     ]
    },
    {
     "name": "stderr",
     "output_type": "stream",
     "text": [
      "\r",
      " 89%|████████▉ | 88/99 [00:18<00:02,  4.09it/s]"
     ]
    },
    {
     "name": "stderr",
     "output_type": "stream",
     "text": [
      "\r",
      " 90%|████████▉ | 89/99 [00:18<00:02,  4.08it/s]"
     ]
    },
    {
     "name": "stderr",
     "output_type": "stream",
     "text": [
      "\r",
      " 91%|█████████ | 90/99 [00:18<00:02,  4.08it/s]"
     ]
    },
    {
     "name": "stderr",
     "output_type": "stream",
     "text": [
      "\r",
      " 92%|█████████▏| 91/99 [00:18<00:01,  4.08it/s]"
     ]
    },
    {
     "name": "stderr",
     "output_type": "stream",
     "text": [
      "\r",
      " 93%|█████████▎| 92/99 [00:19<00:01,  4.08it/s]"
     ]
    },
    {
     "name": "stderr",
     "output_type": "stream",
     "text": [
      "\r",
      " 94%|█████████▍| 93/99 [00:19<00:01,  4.07it/s]"
     ]
    },
    {
     "name": "stderr",
     "output_type": "stream",
     "text": [
      "\r",
      " 95%|█████████▍| 94/99 [00:19<00:01,  4.08it/s]"
     ]
    },
    {
     "name": "stderr",
     "output_type": "stream",
     "text": [
      "\r",
      " 96%|█████████▌| 95/99 [00:19<00:00,  4.08it/s]"
     ]
    },
    {
     "name": "stderr",
     "output_type": "stream",
     "text": [
      "\r",
      " 97%|█████████▋| 96/99 [00:20<00:00,  4.08it/s]"
     ]
    },
    {
     "name": "stderr",
     "output_type": "stream",
     "text": [
      "\r",
      " 98%|█████████▊| 97/99 [00:20<00:00,  4.08it/s]"
     ]
    },
    {
     "name": "stderr",
     "output_type": "stream",
     "text": [
      "\r",
      " 99%|█████████▉| 98/99 [00:20<00:00,  4.08it/s]"
     ]
    },
    {
     "name": "stderr",
     "output_type": "stream",
     "text": [
      "\r",
      "100%|██████████| 99/99 [00:20<00:00,  4.08it/s]"
     ]
    },
    {
     "name": "stderr",
     "output_type": "stream",
     "text": [
      "\r",
      "100%|██████████| 99/99 [00:20<00:00,  4.72it/s]"
     ]
    },
    {
     "name": "stderr",
     "output_type": "stream",
     "text": [
      "\n"
     ]
    }
   ],
   "source": [
    "# Q3 - Hard\n",
    "def findKthSmallestBrute(coins: list[int], k: int) -> int:\n",
    "    curr = min(coins)\n",
    "    while True:\n",
    "        for coin in coins:\n",
    "            if curr % coin == 0:\n",
    "                k -= 1\n",
    "                break\n",
    "\n",
    "        if k == 0:\n",
    "            return curr\n",
    "        else:\n",
    "            curr += 1\n",
    "\n",
    "    return -1\n",
    "\n",
    "# Testing the solution\n",
    "assert findKthSmallestBrute([3,6,9], 3) == 9\n",
    "assert findKthSmallestBrute([5,2], 7) == 12\n",
    "\n",
    "# Q3 - Hard Better (Solved this post the test, proud moment since the acceptance rate was 3%!\n",
    "# Leetcode Writeup: https://leetcode.com/problems/kth-smallest-amount-with-single-denomination-combination/solutions/5020415/binary-search-solution-python\n",
    "def findKthSmallest(coins: list[int], k: int) -> int:\n",
    "    N = len(coins)\n",
    "\n",
    "    def count(num: int) -> int:\n",
    "        \"\"\"\n",
    "        Given num, find k_ (position after set union and sorting)\n",
    "        For eg:\n",
    "            num = 20, coins = [2, 5]\n",
    "            => [2, 4, 5, 6, 8, 10, 12, 14, 15, 16, 18, 20]\n",
    "            => 12\n",
    "\n",
    "        Logic:\n",
    "            Assume we only had coin 2 available, 20's position would then be 20 // 2 = 10.\n",
    "            We however have other denominations, so find count for each denomination.\n",
    "            This way we would introduce duplicates - 10 would be counted twice.\n",
    "            To avoid this we use formula: count(A | B) = count(A) + count(B) - count(A & B) extended for arbitrary length (A, B, C, ..)\n",
    "        \"\"\"\n",
    "        total, add_ = 0, True\n",
    "\n",
    "        for i in range(1, N + 1):\n",
    "            curr = 0\n",
    "            for comb in itertools.combinations(coins, r=i):\n",
    "                curr += num // math.lcm(*comb)\n",
    "            total = total + curr if add_ else total - curr\n",
    "            add_ = not add_\n",
    "\n",
    "        return total\n",
    "\n",
    "    # Use a simple binary search\n",
    "    # max => lowest denomination * k. The result must be lesser than this.\n",
    "    low = min(coins)\n",
    "    high = low * k\n",
    "    while low <= high:\n",
    "        mid = (low + high) // 2\n",
    "        k_ = count(mid)\n",
    "        if k_ < k:\n",
    "            low = mid + 1\n",
    "        else:\n",
    "            high = mid - 1\n",
    "\n",
    "    return low\n",
    "\n",
    "# Testing the solution\n",
    "for i in tqdm.tqdm(range(1, 100)):\n",
    "    temp = list(range(11, 26))\n",
    "    assert findKthSmallest(temp, i) == findKthSmallestBrute(temp, i)"
   ]
  },
  {
   "cell_type": "markdown",
   "id": "a4add1b8",
   "metadata": {
    "papermill": {
     "duration": 0.027093,
     "end_time": "2024-04-15T16:15:39.377314",
     "exception": false,
     "start_time": "2024-04-15T16:15:39.350221",
     "status": "completed"
    },
    "tags": []
   },
   "source": [
    "Sum of left leaves\n",
    "Problem Link: https://leetcode.com/problems/sum-of-left-leaves/submissions/1232098618"
   ]
  },
  {
   "cell_type": "code",
   "execution_count": 50,
   "id": "08f2ccb4",
   "metadata": {
    "execution": {
     "iopub.execute_input": "2024-04-15T16:15:39.432967Z",
     "iopub.status.busy": "2024-04-15T16:15:39.432268Z",
     "iopub.status.idle": "2024-04-15T16:15:39.437165Z",
     "shell.execute_reply": "2024-04-15T16:15:39.436389Z"
    },
    "lines_to_next_cell": 1,
    "papermill": {
     "duration": 0.034581,
     "end_time": "2024-04-15T16:15:39.438959",
     "exception": false,
     "start_time": "2024-04-15T16:15:39.404378",
     "status": "completed"
    },
    "tags": []
   },
   "outputs": [],
   "source": [
    "def sumOfLeftLeaves(root: BinaryTreeNode, left: bool = True) -> int:\n",
    "    if not root:\n",
    "        return 0\n",
    "    elif not root.left and not root.right:\n",
    "        return root.val if left else 0\n",
    "    else:\n",
    "        return sumOfLeftLeaves(root.left, True) + sumOfLeftLeaves(root.right, False)"
   ]
  },
  {
   "cell_type": "markdown",
   "id": "0222f378",
   "metadata": {
    "papermill": {
     "duration": 0.026685,
     "end_time": "2024-04-15T16:15:39.493003",
     "exception": false,
     "start_time": "2024-04-15T16:15:39.466318",
     "status": "completed"
    },
    "tags": []
   },
   "source": [
    "Minimum element in BST"
   ]
  },
  {
   "cell_type": "code",
   "execution_count": 51,
   "id": "2268cda1",
   "metadata": {
    "execution": {
     "iopub.execute_input": "2024-04-15T16:15:39.547885Z",
     "iopub.status.busy": "2024-04-15T16:15:39.547164Z",
     "iopub.status.idle": "2024-04-15T16:15:39.551609Z",
     "shell.execute_reply": "2024-04-15T16:15:39.550983Z"
    },
    "lines_to_next_cell": 1,
    "papermill": {
     "duration": 0.033554,
     "end_time": "2024-04-15T16:15:39.553223",
     "exception": false,
     "start_time": "2024-04-15T16:15:39.519669",
     "status": "completed"
    },
    "tags": []
   },
   "outputs": [],
   "source": [
    "def minValue(root: BinaryTreeNode) -> int:\n",
    "    \"Time Complexity: O(N)\"\n",
    "    curr: BinaryTreeNode = root\n",
    "    while curr and curr.left:\n",
    "        curr = curr.left\n",
    "\n",
    "    return curr.val if curr else -1"
   ]
  },
  {
   "cell_type": "markdown",
   "id": "205a41bc",
   "metadata": {
    "papermill": {
     "duration": 0.029138,
     "end_time": "2024-04-15T16:15:39.609536",
     "exception": false,
     "start_time": "2024-04-15T16:15:39.580398",
     "status": "completed"
    },
    "tags": []
   },
   "source": [
    "Floor from BST"
   ]
  },
  {
   "cell_type": "code",
   "execution_count": 52,
   "id": "b4b9c2fe",
   "metadata": {
    "execution": {
     "iopub.execute_input": "2024-04-15T16:15:39.664655Z",
     "iopub.status.busy": "2024-04-15T16:15:39.664407Z",
     "iopub.status.idle": "2024-04-15T16:15:39.671589Z",
     "shell.execute_reply": "2024-04-15T16:15:39.670840Z"
    },
    "lines_to_next_cell": 1,
    "papermill": {
     "duration": 0.036576,
     "end_time": "2024-04-15T16:15:39.673302",
     "exception": false,
     "start_time": "2024-04-15T16:15:39.636726",
     "status": "completed"
    },
    "tags": []
   },
   "outputs": [
    {
     "name": "stdout",
     "output_type": "stream",
     "text": [
      "10\n"
     ]
    }
   ],
   "source": [
    "# Read input as specified in the question\n",
    "# target, *nums = list(map(lambda x: int(x) if x != '-1' else None, input().split()))\n",
    "target, nums = 11, [5, 2, 9, 1, 3, 6, 10]\n",
    "k: float = -1\n",
    "queue: list[BinaryTreeNode] = []\n",
    "for num in nums:\n",
    "    curr = BinaryTreeNode(num) if num else None\n",
    "    if curr:\n",
    "        queue.append(curr)\n",
    "    if k == -1:\n",
    "        k += 1\n",
    "    elif int(k) == k:\n",
    "        queue[int(k)].left = curr\n",
    "        k += 0.5\n",
    "    else:\n",
    "        queue[int(k)].right = curr\n",
    "        k += 0.5\n",
    "\n",
    "queue[0].to_list()\n",
    "\n",
    "# Find the floor of the number\n",
    "curr, floor = queue[0], -1\n",
    "while curr:\n",
    "    if curr.val <= target:\n",
    "        floor = curr.val\n",
    "        curr = curr.right\n",
    "    else:\n",
    "        curr = curr.left\n",
    "\n",
    "print(floor)"
   ]
  },
  {
   "cell_type": "markdown",
   "id": "19c4167d",
   "metadata": {
    "papermill": {
     "duration": 0.026942,
     "end_time": "2024-04-15T16:15:39.727694",
     "exception": false,
     "start_time": "2024-04-15T16:15:39.700752",
     "status": "completed"
    },
    "tags": []
   },
   "source": [
    "Insert into a BST"
   ]
  },
  {
   "cell_type": "code",
   "execution_count": 53,
   "id": "246602ef",
   "metadata": {
    "execution": {
     "iopub.execute_input": "2024-04-15T16:15:39.782897Z",
     "iopub.status.busy": "2024-04-15T16:15:39.782647Z",
     "iopub.status.idle": "2024-04-15T16:15:39.788071Z",
     "shell.execute_reply": "2024-04-15T16:15:39.787298Z"
    },
    "lines_to_next_cell": 1,
    "papermill": {
     "duration": 0.034936,
     "end_time": "2024-04-15T16:15:39.789701",
     "exception": false,
     "start_time": "2024-04-15T16:15:39.754765",
     "status": "completed"
    },
    "tags": []
   },
   "outputs": [],
   "source": [
    "def insertIntoBST(root: BinaryTreeNode, val: int) -> BinaryTreeNode:\n",
    "    if not root:\n",
    "        root = BinaryTreeNode(val)\n",
    "    elif root.val < val:\n",
    "        root.right = insertIntoBST(root.right, val)\n",
    "    else:\n",
    "        root.left = insertIntoBST(root.left, val)\n",
    "\n",
    "    return root\n",
    "\n",
    "# Testing the solution\n",
    "assert insertIntoBST(BinaryTreeNode.from_array([4,2,7,1,3]), 5).to_list() == [4,2,7,1,3,5]"
   ]
  },
  {
   "cell_type": "markdown",
   "id": "245f9178",
   "metadata": {},
   "source": [
    "LCA in a BST of two nodes: https://leetcode.com/problems/lowest-common-ancestor-of-a-binary-search-tree/submissions/1234964550"
   ]
  },
  {
   "cell_type": "code",
   "execution_count": null,
   "id": "5f723be8",
   "metadata": {
    "lines_to_next_cell": 1
   },
   "outputs": [],
   "source": [
    "def lowestCommonAncestor(root: BinaryTreeNode, p: BinaryTreeNode, q: BinaryTreeNode) -> BinaryTreeNode:\n",
    "    \"\"\"\n",
    "    If root equals p/q or if p < root < q that is our LCA. Otherwise traverse left of right.\n",
    "    Time: O(log N), Space: O(1)\n",
    "    \"\"\"\n",
    "\n",
    "    low = p if p.val < q.val else q\n",
    "    high = q if p.val < q.val else p\n",
    "\n",
    "    if root.val == low.val or root.val == high.val or low.val < root.val < high.val:\n",
    "        return root\n",
    "    elif root.val > p.val and root.val > q.val:\n",
    "        return lowestCommonAncestor(root.left, p, q)\n",
    "    else:\n",
    "        return lowestCommonAncestor(root.right, p, q)\n",
    "\n",
    "# Testing the solution\n",
    "temp: BinaryTreeNode = BinaryTreeNode.from_array([6,2,8,0,4,7,9,None,None,3,5])\n",
    "assert lowestCommonAncestor(temp, p=temp.left, q=temp.right).val == 6"
   ]
  },
  {
   "cell_type": "markdown",
   "id": "591d92a4",
   "metadata": {},
   "source": [
    "Smallest string starting from leaf: https://leetcode.com/problems/smallest-string-starting-from-leaf/submissions/1235018957"
   ]
  },
  {
   "cell_type": "code",
   "execution_count": null,
   "id": "654f9b3f",
   "metadata": {},
   "outputs": [],
   "source": [
    "def smallestFromLeaf(root: BinaryTreeNode) -> str:\n",
    "    result: str = chr(ord('z') + 1)\n",
    "    def backtrack(curr: BinaryTreeNode, acc: str = \"\"):\n",
    "        if curr:\n",
    "            acc_ = chr(curr.val + ord('a')) + acc\n",
    "            if not curr.left and not curr.right:\n",
    "                nonlocal result\n",
    "                result = min(result, acc_)\n",
    "            else:\n",
    "                backtrack(curr.left, acc_)\n",
    "                backtrack(curr.right, acc_)\n",
    "\n",
    "    backtrack(root)\n",
    "    return result\n",
    "\n",
    "# Testing the solution\n",
    "assert smallestFromLeaf(BinaryTreeNode.from_array([25,1,3,1,3,0,2])) == \"adz\"\n",
    "assert smallestFromLeaf(BinaryTreeNode.from_array([2,2,1,None,1,0,None,0])) == \"abc\"\n",
    "assert smallestFromLeaf(BinaryTreeNode.from_array([4,0,1,1])) == \"bae\"\n",
    "assert smallestFromLeaf(BinaryTreeNode.from_array([25,1,None,0,0,1,None,None,None,0])) == \"ababz\""
   ]
  }
 ],
 "metadata": {
  "kernelspec": {
   "display_name": "Python 3 (ipykernel)",
   "language": "python",
   "name": "python3"
  },
  "language_info": {
   "codemirror_mode": {
    "name": "ipython",
    "version": 3
   },
   "file_extension": ".py",
   "mimetype": "text/x-python",
   "name": "python",
   "nbconvert_exporter": "python",
   "pygments_lexer": "ipython3",
   "version": "3.10.14"
  },
  "papermill": {
   "default_parameters": {},
   "duration": 26.90538,
   "end_time": "2024-04-15T16:15:40.033666",
   "environment_variables": {},
   "exception": null,
   "input_path": "practice/001.ipynb",
   "output_path": "practice/001.ipynb",
   "parameters": {},
   "start_time": "2024-04-15T16:15:13.128286",
   "version": "2.5.0"
  }
 },
 "nbformat": 4,
 "nbformat_minor": 5
}
