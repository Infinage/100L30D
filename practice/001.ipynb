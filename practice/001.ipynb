{
 "cells": [
  {
   "cell_type": "code",
   "execution_count": 1,
   "id": "1c40ad22",
   "metadata": {
    "execution": {
     "iopub.execute_input": "2024-03-22T02:08:58.301583Z",
     "iopub.status.busy": "2024-03-22T02:08:58.300937Z",
     "iopub.status.idle": "2024-03-22T02:08:58.829657Z",
     "shell.execute_reply": "2024-03-22T02:08:58.828959Z"
    },
    "papermill": {
     "duration": 0.539915,
     "end_time": "2024-03-22T02:08:58.831758",
     "exception": false,
     "start_time": "2024-03-22T02:08:58.291843",
     "status": "completed"
    },
    "tags": []
   },
   "outputs": [],
   "source": [
    "from typing import List, Optional\n",
    "import pandas as pd\n",
    "import numpy as np\n",
    "import sqlite3\n",
    "import re\n",
    "import io\n",
    "import math\n",
    "import collections\n",
    "import itertools\n",
    "import functools\n",
    "import random\n",
    "import string\n",
    "import tqdm\n",
    "import bisect\n",
    "\n",
    "conn = sqlite3.connect(\":memory:\")\n",
    "\n",
    "def regexp(expr, item):\n",
    "    reg = re.compile(expr)\n",
    "    return reg.search(item) is not None\n",
    "\n",
    "def read_lc_df(s: str) -> pd.DataFrame:\n",
    "    temp = pd.read_csv(io.StringIO(s), sep=\"|\", skiprows=2)\n",
    "    temp = temp.iloc[1:-1, 1:-1]\n",
    "    temp.columns = temp.columns.map(str.strip)\n",
    "    temp = temp.map(lambda x: x if type(x) != str else None if x.strip() == 'null' else x.strip())\n",
    "    return temp\n",
    "\n",
    "conn.create_function(\"REGEXP\", 2, regexp)"
   ]
  },
  {
   "cell_type": "markdown",
   "id": "4fb8e6c0",
   "metadata": {
    "papermill": {
     "duration": 0.207699,
     "end_time": "2024-03-22T02:08:59.045018",
     "exception": false,
     "start_time": "2024-03-22T02:08:58.837319",
     "status": "completed"
    },
    "tags": []
   },
   "source": [
    "#### Helper for Binary tree problems"
   ]
  },
  {
   "cell_type": "code",
   "execution_count": 2,
   "id": "5cff3cee",
   "metadata": {
    "execution": {
     "iopub.execute_input": "2024-03-22T02:08:59.058397Z",
     "iopub.status.busy": "2024-03-22T02:08:59.057662Z",
     "iopub.status.idle": "2024-03-22T02:08:59.067566Z",
     "shell.execute_reply": "2024-03-22T02:08:59.066737Z"
    },
    "lines_to_next_cell": 1,
    "papermill": {
     "duration": 0.018144,
     "end_time": "2024-03-22T02:08:59.069476",
     "exception": false,
     "start_time": "2024-03-22T02:08:59.051332",
     "status": "completed"
    },
    "tags": []
   },
   "outputs": [],
   "source": [
    "class BinaryTreeNode:\n",
    "    def __init__(self, val=0, left=None, right=None):\n",
    "        self.val = val\n",
    "        self.left = left\n",
    "        self.right = right\n",
    "\n",
    "    def to_list(self):\n",
    "        to_visit = [self]\n",
    "        visited = []\n",
    "        while len(to_visit) > 0:\n",
    "            curr = to_visit.pop(0)\n",
    "            if curr:\n",
    "                to_visit.append(curr.left)\n",
    "                to_visit.append(curr.right)\n",
    "                visited.append(curr.val)\n",
    "            else:\n",
    "                visited.append(curr)\n",
    "        return visited\n",
    "\n",
    "    def __str__(self):\n",
    "        return str(self.val)\n",
    "\n",
    "    @staticmethod\n",
    "    def from_array(nums: List[int|None]):\n",
    "        '''Create a Tree from a list of nums. Returns the root node.'''\n",
    "        if len(nums) == 0:\n",
    "            return None\n",
    "        elif len(nums) == 1:\n",
    "            return BinaryTreeNode(nums[0])\n",
    "        else:\n",
    "            forest = [BinaryTreeNode(nums[0])]\n",
    "            parent_idx = -1\n",
    "            for i in range(1, len(nums)):\n",
    "\n",
    "                curr = None\n",
    "                if nums[i] is not None:\n",
    "                    curr = BinaryTreeNode(nums[i])\n",
    "                    forest.append(curr)\n",
    "\n",
    "                if i % 2 == 1:\n",
    "                    parent_idx += 1\n",
    "                    forest[parent_idx].left = curr\n",
    "                else:\n",
    "                    forest[parent_idx].right = curr\n",
    "\n",
    "        return forest[0]"
   ]
  },
  {
   "cell_type": "markdown",
   "id": "3a05e040",
   "metadata": {
    "papermill": {
     "duration": 0.00493,
     "end_time": "2024-03-22T02:08:59.079461",
     "exception": false,
     "start_time": "2024-03-22T02:08:59.074531",
     "status": "completed"
    },
    "tags": []
   },
   "source": [
    "#### Helper for Singly Linked lists"
   ]
  },
  {
   "cell_type": "code",
   "execution_count": 3,
   "id": "97e5cff8",
   "metadata": {
    "execution": {
     "iopub.execute_input": "2024-03-22T02:08:59.090877Z",
     "iopub.status.busy": "2024-03-22T02:08:59.090298Z",
     "iopub.status.idle": "2024-03-22T02:08:59.096579Z",
     "shell.execute_reply": "2024-03-22T02:08:59.095843Z"
    },
    "lines_to_next_cell": 1,
    "papermill": {
     "duration": 0.013708,
     "end_time": "2024-03-22T02:08:59.098125",
     "exception": false,
     "start_time": "2024-03-22T02:08:59.084417",
     "status": "completed"
    },
    "tags": []
   },
   "outputs": [],
   "source": [
    "class ListNode:\n",
    "    def __init__(self, val=0, next=None):\n",
    "        self.val = val\n",
    "        self.next = next\n",
    "\n",
    "    def __str__(self):\n",
    "        return str(self.val)\n",
    "\n",
    "    @staticmethod\n",
    "    def to_singly_linked_list(nums: list[int]):\n",
    "        root = prev = None\n",
    "        for n in nums:\n",
    "            curr = ListNode(n)\n",
    "            # Init once\n",
    "            if not root:\n",
    "                root = curr\n",
    "            if prev:\n",
    "                prev.next = curr\n",
    "            prev = curr\n",
    "\n",
    "        return root\n",
    "\n",
    "    def to_list(self) -> list[int]:\n",
    "        result = []\n",
    "        curr = self\n",
    "        while curr:\n",
    "            result.append(curr.val)\n",
    "            curr = curr.next\n",
    "        return result"
   ]
  },
  {
   "cell_type": "code",
   "execution_count": 4,
   "id": "fa9ec8f3",
   "metadata": {
    "execution": {
     "iopub.execute_input": "2024-03-22T02:08:59.109562Z",
     "iopub.status.busy": "2024-03-22T02:08:59.108994Z",
     "iopub.status.idle": "2024-03-22T02:08:59.115879Z",
     "shell.execute_reply": "2024-03-22T02:08:59.115089Z"
    },
    "lines_to_next_cell": 1,
    "papermill": {
     "duration": 0.014571,
     "end_time": "2024-03-22T02:08:59.117693",
     "exception": false,
     "start_time": "2024-03-22T02:08:59.103122",
     "status": "completed"
    },
    "tags": []
   },
   "outputs": [],
   "source": [
    "# Problem Category: Easy\n",
    "# Link: https://leetcode.com/problems/find-mode-in-binary-search-tree/submissions/1187947888\n",
    "class Solution:\n",
    "    def findMode(self, root: BinaryTreeNode) -> List[int]:\n",
    "        def backtrack(curr: BinaryTreeNode):\n",
    "            if curr == None:\n",
    "                return\n",
    "            else:\n",
    "                hm[curr.val] = hm.get(curr.val, 0) + 1\n",
    "                backtrack(curr.left)\n",
    "                backtrack(curr.right)\n",
    "\n",
    "        hm: dict[int, int] = dict()\n",
    "        backtrack(root)\n",
    "        max_ = max(hm.values())\n",
    "        result: list[int] = []\n",
    "        for k, v in hm.items():\n",
    "            if v == max_:\n",
    "                result.append(k)\n",
    "        return result\n",
    "\n",
    "# Testing the solution\n",
    "assert Solution().findMode(BinaryTreeNode.from_array([1,None,2,2])) == [2]\n",
    "assert Solution().findMode(BinaryTreeNode.from_array([0])) == [0]"
   ]
  },
  {
   "cell_type": "code",
   "execution_count": 5,
   "id": "c8266d81",
   "metadata": {
    "execution": {
     "iopub.execute_input": "2024-03-22T02:08:59.129226Z",
     "iopub.status.busy": "2024-03-22T02:08:59.128647Z",
     "iopub.status.idle": "2024-03-22T02:08:59.135018Z",
     "shell.execute_reply": "2024-03-22T02:08:59.134380Z"
    },
    "lines_to_next_cell": 1,
    "papermill": {
     "duration": 0.013909,
     "end_time": "2024-03-22T02:08:59.136642",
     "exception": false,
     "start_time": "2024-03-22T02:08:59.122733",
     "status": "completed"
    },
    "tags": []
   },
   "outputs": [],
   "source": [
    "# Problem Category: Medium\n",
    "# Link: https://leetcode.com/problems/find-bottom-left-tree-value/submissions/1188894879/\n",
    "class Solution:\n",
    "    def findBottomLeftValue(self, root: BinaryTreeNode) -> int:\n",
    "        next_: List[BinaryTreeNode] = [root]\n",
    "        while True:\n",
    "            next_next_: List[BinaryTreeNode] = []\n",
    "            for node in next_:\n",
    "                if node.left:\n",
    "                    next_next_.append(node.left)\n",
    "                if node.right:\n",
    "                    next_next_.append(node.right)\n",
    "            if next_next_:\n",
    "                next_ = next_next_\n",
    "            else:\n",
    "                break\n",
    "        return next_[0].val\n",
    "\n",
    "# Testing the solution\n",
    "assert Solution().findBottomLeftValue(BinaryTreeNode.from_array([2, 1, 3])) == 1\n",
    "assert Solution().findBottomLeftValue(BinaryTreeNode.from_array([1,2,3,4,None,5,6,None,None,7])) == 7"
   ]
  },
  {
   "cell_type": "code",
   "execution_count": 6,
   "id": "c16e336b",
   "metadata": {
    "execution": {
     "iopub.execute_input": "2024-03-22T02:08:59.147899Z",
     "iopub.status.busy": "2024-03-22T02:08:59.147318Z",
     "iopub.status.idle": "2024-03-22T02:08:59.152536Z",
     "shell.execute_reply": "2024-03-22T02:08:59.151779Z"
    },
    "lines_to_next_cell": 1,
    "papermill": {
     "duration": 0.012617,
     "end_time": "2024-03-22T02:08:59.154191",
     "exception": false,
     "start_time": "2024-03-22T02:08:59.141574",
     "status": "completed"
    },
    "tags": []
   },
   "outputs": [],
   "source": [
    "# Problem Category: Easy\n",
    "# Link: https://leetcode.com/problems/maximum-odd-binary-number/1190823057\n",
    "class Solution:\n",
    "    def maximumOddBinaryNumber(self, s: str) -> str:\n",
    "        counts = dict(collections.Counter(s))\n",
    "        zeros = counts.get('0', 0) * '0'\n",
    "        ones = (counts.get('1', 0) - 1) * '1'\n",
    "        return ones + zeros + '1'\n",
    "\n",
    "# Testing the solution\n",
    "assert Solution().maximumOddBinaryNumber(\"010\") == \"001\"\n",
    "assert Solution().maximumOddBinaryNumber(\"0101\") == \"1001\""
   ]
  },
  {
   "cell_type": "code",
   "execution_count": 7,
   "id": "978d44e4",
   "metadata": {
    "execution": {
     "iopub.execute_input": "2024-03-22T02:08:59.165768Z",
     "iopub.status.busy": "2024-03-22T02:08:59.165215Z",
     "iopub.status.idle": "2024-03-22T02:08:59.172896Z",
     "shell.execute_reply": "2024-03-22T02:08:59.172175Z"
    },
    "lines_to_next_cell": 1,
    "papermill": {
     "duration": 0.015387,
     "end_time": "2024-03-22T02:08:59.174688",
     "exception": false,
     "start_time": "2024-03-22T02:08:59.159301",
     "status": "completed"
    },
    "tags": []
   },
   "outputs": [],
   "source": [
    "# Problem Category: Easy\n",
    "# Link: https://leetcode.com/problems/squares-of-a-sorted-array\n",
    "class Solution:\n",
    "    def sortedSquares(self, nums: list[int]) -> list[int]:\n",
    "        N = len(nums)\n",
    "        i, j = 0, N - 1\n",
    "        sorted_by_magnitude: list[int] = []\n",
    "        while i <= j:\n",
    "            if abs(nums[i]) > abs(nums[j]):\n",
    "                sorted_by_magnitude.append(nums[i])\n",
    "                i += 1\n",
    "            else:\n",
    "                sorted_by_magnitude.append(nums[j])\n",
    "                j -= 1\n",
    "        sorted_by_magnitude.reverse()\n",
    "\n",
    "        result: list[int] = []\n",
    "        for num in sorted_by_magnitude:\n",
    "            result.append(num * num)\n",
    "\n",
    "        return result\n",
    "\n",
    "# Testing the solution\n",
    "assert Solution().sortedSquares([-4,-1,0,3,10]) == [0, 1, 9, 16, 100]\n",
    "assert Solution().sortedSquares([-7,-4,-1,0,3,10]) == [0, 1, 9, 16, 49, 100]"
   ]
  },
  {
   "cell_type": "code",
   "execution_count": 8,
   "id": "82dc674b",
   "metadata": {
    "execution": {
     "iopub.execute_input": "2024-03-22T02:08:59.185985Z",
     "iopub.status.busy": "2024-03-22T02:08:59.185507Z",
     "iopub.status.idle": "2024-03-22T02:08:59.192873Z",
     "shell.execute_reply": "2024-03-22T02:08:59.192230Z"
    },
    "lines_to_next_cell": 1,
    "papermill": {
     "duration": 0.015528,
     "end_time": "2024-03-22T02:08:59.195257",
     "exception": false,
     "start_time": "2024-03-22T02:08:59.179729",
     "status": "completed"
    },
    "tags": []
   },
   "outputs": [],
   "source": [
    "# Problem Category: Medium\n",
    "# Link: https://leetcode.com/problems/minimum-length-of-string-after-deleting-similar-ends/submissions/1194814297\n",
    "class Solution:\n",
    "    def minimumLength(self, s: str) -> int:\n",
    "        N = len(s)\n",
    "        i, j = 0, N - 1\n",
    "        while i < j:\n",
    "            while i < N - 1 and s[i + 1] == s[i] and s[i] == s[j]:\n",
    "                i += 1\n",
    "            while j > 1 and s[j - 1] == s[j] and s[i] == s[j]:\n",
    "                j -= 1\n",
    "            if s[i] == s[j]:\n",
    "                i += 1\n",
    "                j -= 1\n",
    "            else:\n",
    "                return (j - i) + 1\n",
    "        else:\n",
    "            return 1 if i == j else 0\n",
    "\n",
    "# Testing the solution\n",
    "assert Solution().minimumLength(\"ca\") == 2\n",
    "assert Solution().minimumLength(\"cabaabac\") == 0\n",
    "assert Solution().minimumLength(\"aabccabba\") == 3\n",
    "assert Solution().minimumLength(\"bbbbbabbbbccbcbcbccbbabbb\") == 1\n",
    "assert Solution().minimumLength(\"aaaa\") == 0"
   ]
  },
  {
   "cell_type": "code",
   "execution_count": 9,
   "id": "e9135cdc",
   "metadata": {
    "execution": {
     "iopub.execute_input": "2024-03-22T02:08:59.207908Z",
     "iopub.status.busy": "2024-03-22T02:08:59.207247Z",
     "iopub.status.idle": "2024-03-22T02:08:59.213685Z",
     "shell.execute_reply": "2024-03-22T02:08:59.213028Z"
    },
    "lines_to_next_cell": 1,
    "papermill": {
     "duration": 0.014033,
     "end_time": "2024-03-22T02:08:59.215376",
     "exception": false,
     "start_time": "2024-03-22T02:08:59.201343",
     "status": "completed"
    },
    "tags": []
   },
   "outputs": [],
   "source": [
    "# Problem Category: Easy\n",
    "# Link: https://leetcode.com/problems/ransom-note/submissions/1195815128\n",
    "class Solution:\n",
    "    def canConstruct(self, ransomNote: str, magazine: str) -> bool:\n",
    "        cr = collections.Counter(ransomNote)\n",
    "        cm = collections.Counter(magazine)\n",
    "        for i in range(ord(\"a\"), ord(\"z\") + 1):\n",
    "            ch = chr(i)\n",
    "            if cm.get(ch, 0) < cr.get(ch, 0):\n",
    "                return False\n",
    "        else:\n",
    "            return True\n",
    "\n",
    "# Testing the solution\n",
    "assert Solution().canConstruct(\"aa\", \"aab\") == True\n",
    "assert Solution().canConstruct(\"a\", \"b\") == False\n",
    "assert Solution().canConstruct(\"aa\", \"ab\") == False"
   ]
  },
  {
   "cell_type": "markdown",
   "id": "f9dad63e",
   "metadata": {
    "papermill": {
     "duration": 0.004951,
     "end_time": "2024-03-22T02:08:59.226112",
     "exception": false,
     "start_time": "2024-03-22T02:08:59.221161",
     "status": "completed"
    },
    "tags": []
   },
   "source": [
    "Striver: Pascal's triangle\n",
    "Problem: Finding nCr in minimal time (part of pascal's triangle)\n",
    "Find element at position 1st 2nd column in a pascal's triangle\n",
    "Sol: math.comb(n -1, r - 1)"
   ]
  },
  {
   "cell_type": "code",
   "execution_count": 10,
   "id": "afb5ce4e",
   "metadata": {
    "execution": {
     "iopub.execute_input": "2024-03-22T02:08:59.237577Z",
     "iopub.status.busy": "2024-03-22T02:08:59.236959Z",
     "iopub.status.idle": "2024-03-22T02:08:59.243025Z",
     "shell.execute_reply": "2024-03-22T02:08:59.242388Z"
    },
    "lines_to_next_cell": 1,
    "papermill": {
     "duration": 0.013595,
     "end_time": "2024-03-22T02:08:59.244702",
     "exception": false,
     "start_time": "2024-03-22T02:08:59.231107",
     "status": "completed"
    },
    "tags": []
   },
   "outputs": [],
   "source": [
    "def nCr(n: int, r: int) -> float:\n",
    "    num = functools.reduce(lambda x, y: x * y, range(n, n - r, -1))\n",
    "    den = functools.reduce(lambda x, y: x * y, range(r, 0, -1))\n",
    "    return num / den\n",
    "\n",
    "# Testing the solution\n",
    "for i in range(50):\n",
    "    i, j = sorted([random.randint(1, 50), random.randint(1, 50)], reverse=True)\n",
    "    assert math.comb(i, j) == nCr(i, j), f\"failed for {i, j}\""
   ]
  },
  {
   "cell_type": "code",
   "execution_count": 11,
   "id": "95a10c45",
   "metadata": {
    "execution": {
     "iopub.execute_input": "2024-03-22T02:08:59.257234Z",
     "iopub.status.busy": "2024-03-22T02:08:59.256639Z",
     "iopub.status.idle": "2024-03-22T02:08:59.268557Z",
     "shell.execute_reply": "2024-03-22T02:08:59.267940Z"
    },
    "lines_to_next_cell": 1,
    "papermill": {
     "duration": 0.019546,
     "end_time": "2024-03-22T02:08:59.270276",
     "exception": false,
     "start_time": "2024-03-22T02:08:59.250730",
     "status": "completed"
    },
    "tags": []
   },
   "outputs": [],
   "source": [
    "# 4Sum\n",
    "class Solution:\n",
    "    def fourSum(self, arr: list[int], target: int) -> set[tuple[int]]:\n",
    "        def update_until(idx: int, update: int, until: int):\n",
    "            temp_idx = idx\n",
    "            assert update != 0\n",
    "            if update > 0:\n",
    "                while temp_idx < until and arr[temp_idx] == arr[idx]:\n",
    "                    temp_idx += update\n",
    "            else:\n",
    "                while temp_idx > until and arr[temp_idx] == arr[idx]:\n",
    "                    temp_idx += update\n",
    "            return temp_idx\n",
    "\n",
    "        N = len(arr)\n",
    "        arr.sort()\n",
    "        result: set[tuple[int]] = set()\n",
    "        i = 0\n",
    "        while i < N - 3:\n",
    "            j = i + 1\n",
    "            while j < N - 2:\n",
    "                k, l = j + 1, N - 1\n",
    "                while k < l:\n",
    "                    curr = arr[i], arr[j], arr[k], arr[l]\n",
    "                    if sum(curr) == target:\n",
    "                        result.add(curr)\n",
    "                        # Increment k, l\n",
    "                        k_, l_ = k, l\n",
    "                        while k_ < l_ and arr[k_] == arr[k] and arr[l_] == arr[l]:\n",
    "                            k_, l_ = k_ + 1, l_ - 1\n",
    "                        k, l = k_, l_\n",
    "                    elif sum(curr) < target:\n",
    "                        # Increment k\n",
    "                        k = update_until(k, 1, l)\n",
    "                    else:\n",
    "                        # Decrement l\n",
    "                        l = update_until(l, -1, k)\n",
    "\n",
    "                # Increment j\n",
    "                j = update_until(j, 1, N - 2)\n",
    "\n",
    "            # Increment i\n",
    "            i = update_until(i, 1, N - 3)\n",
    "\n",
    "        return result\n",
    "\n",
    "# Testing the solution\n",
    "assert Solution().fourSum([1,0,-1,0,-2,2], 0) == {(-2,-1,1,2), (-2,0,0,2), (-1,0,0,1)}\n",
    "assert Solution().fourSum([2,2,2,2,2], 8) == {(2, 2, 2, 2)}"
   ]
  },
  {
   "cell_type": "markdown",
   "id": "0d584c67",
   "metadata": {
    "papermill": {
     "duration": 0.005012,
     "end_time": "2024-03-22T02:08:59.281487",
     "exception": false,
     "start_time": "2024-03-22T02:08:59.276475",
     "status": "completed"
    },
    "tags": []
   },
   "source": [
    "Leetcode Weekly contest - 17th March"
   ]
  },
  {
   "cell_type": "code",
   "execution_count": 12,
   "id": "34ff1d0a",
   "metadata": {
    "execution": {
     "iopub.execute_input": "2024-03-22T02:08:59.294290Z",
     "iopub.status.busy": "2024-03-22T02:08:59.293443Z",
     "iopub.status.idle": "2024-03-22T02:08:59.299250Z",
     "shell.execute_reply": "2024-03-22T02:08:59.298639Z"
    },
    "lines_to_next_cell": 1,
    "papermill": {
     "duration": 0.013475,
     "end_time": "2024-03-22T02:08:59.300957",
     "exception": false,
     "start_time": "2024-03-22T02:08:59.287482",
     "status": "completed"
    },
    "tags": []
   },
   "outputs": [],
   "source": [
    "class Solution:\n",
    "    def isSubstringPresent(self, s: str) -> bool:\n",
    "        rev_ = \"\".join(list(reversed(s)))\n",
    "        N = len(s)\n",
    "        for i in range(N - 1):\n",
    "            if s[i:i+2] in rev_:\n",
    "                return True\n",
    "        return False\n",
    "\n",
    "# Testing the solution\n",
    "assert Solution().isSubstringPresent(\"leetcode\") == True\n",
    "assert Solution().isSubstringPresent(\"abcd\") == False"
   ]
  },
  {
   "cell_type": "markdown",
   "id": "eeb795a8",
   "metadata": {
    "papermill": {
     "duration": 0.004921,
     "end_time": "2024-03-22T02:08:59.311507",
     "exception": false,
     "start_time": "2024-03-22T02:08:59.306586",
     "status": "completed"
    },
    "tags": []
   },
   "source": [
    "zz - z, z, zz (3)\n",
    "zzz - z, z, z, zz, zz, zzz (6)\n",
    "zzzz - z, z, z, z; zz, zz, zz, zzz, zzz, zzzz (10)\n",
    "zzzzz - z, z, z, z, z, zz, zz, zz, zz, zzz, zzz, zzz, zzzz, zzzz, zzzzz (15)"
   ]
  },
  {
   "cell_type": "code",
   "execution_count": 13,
   "id": "4e21989e",
   "metadata": {
    "execution": {
     "iopub.execute_input": "2024-03-22T02:08:59.322934Z",
     "iopub.status.busy": "2024-03-22T02:08:59.322492Z",
     "iopub.status.idle": "2024-03-22T02:08:59.327578Z",
     "shell.execute_reply": "2024-03-22T02:08:59.326868Z"
    },
    "lines_to_next_cell": 1,
    "papermill": {
     "duration": 0.012771,
     "end_time": "2024-03-22T02:08:59.329261",
     "exception": false,
     "start_time": "2024-03-22T02:08:59.316490",
     "status": "completed"
    },
    "tags": []
   },
   "outputs": [],
   "source": [
    "class Solution:\n",
    "    def countSubstrings(self, s: str, c: str) -> int:\n",
    "        count = 0\n",
    "        for ch in s:\n",
    "            if ch == c:\n",
    "                count += 1\n",
    "        return (count * (count + 1)) / 2\n",
    "\n",
    "# Testing the solution\n",
    "assert Solution().countSubstrings(\"abada\", \"a\") == 6\n",
    "assert Solution().countSubstrings(\"zzz\", \"z\") == 6"
   ]
  },
  {
   "cell_type": "code",
   "execution_count": 14,
   "id": "71dd8ae2",
   "metadata": {
    "execution": {
     "iopub.execute_input": "2024-03-22T02:08:59.341090Z",
     "iopub.status.busy": "2024-03-22T02:08:59.340837Z",
     "iopub.status.idle": "2024-03-22T02:08:59.347675Z",
     "shell.execute_reply": "2024-03-22T02:08:59.347006Z"
    },
    "lines_to_next_cell": 1,
    "papermill": {
     "duration": 0.014401,
     "end_time": "2024-03-22T02:08:59.349349",
     "exception": false,
     "start_time": "2024-03-22T02:08:59.334948",
     "status": "completed"
    },
    "tags": []
   },
   "outputs": [],
   "source": [
    "class Solution:\n",
    "    def minimumDeletions(self, word: str, k: int) -> int:\n",
    "        freq: list[int] = sorted(collections.Counter(word).values())\n",
    "        N = len(freq)\n",
    "\n",
    "        result = math.inf\n",
    "        sum_ = 0\n",
    "        for i in range(N):\n",
    "            sum_ += freq[i - 1] if i > 0 else 0\n",
    "            curr_ = 0\n",
    "            for j in range(i + 1, N):\n",
    "                if freq[j] - freq[i] > k:\n",
    "                    curr_ += freq[j] - freq[i] - k\n",
    "            result = min(curr_ + sum_, result)\n",
    "\n",
    "        return result\n",
    "\n",
    "# Testing the solution\n",
    "assert Solution().minimumDeletions(\"aabcaba\", 0) == 3\n",
    "assert Solution().minimumDeletions(\"dabdcbdcdcd\", 2) == 2\n",
    "assert Solution().minimumDeletions(\"aaabaaa\", 2) == 1"
   ]
  },
  {
   "cell_type": "markdown",
   "id": "32c6f9ab",
   "metadata": {
    "papermill": {
     "duration": 0.005034,
     "end_time": "2024-03-22T02:08:59.360529",
     "exception": false,
     "start_time": "2024-03-22T02:08:59.355495",
     "status": "completed"
    },
    "tags": []
   },
   "source": [
    "Leetcode Weekly contest - 17th March\n",
    "Link: https://leetcode.com/problems/search-in-rotated-sorted-array/submissions/1210464524/"
   ]
  },
  {
   "cell_type": "code",
   "execution_count": 15,
   "id": "9a3f57c3",
   "metadata": {
    "execution": {
     "iopub.execute_input": "2024-03-22T02:08:59.372052Z",
     "iopub.status.busy": "2024-03-22T02:08:59.371580Z",
     "iopub.status.idle": "2024-03-22T02:08:59.378953Z",
     "shell.execute_reply": "2024-03-22T02:08:59.378244Z"
    },
    "papermill": {
     "duration": 0.015053,
     "end_time": "2024-03-22T02:08:59.380677",
     "exception": false,
     "start_time": "2024-03-22T02:08:59.365624",
     "status": "completed"
    },
    "tags": []
   },
   "outputs": [],
   "source": [
    "class Solution:\n",
    "    def search(self, nums: List[int], target: int) -> int:\n",
    "        N = len(nums)\n",
    "        low, high = 0, N - 1\n",
    "        while low <= high:\n",
    "            mid = (low + high) // 2\n",
    "            if nums[mid] == target:\n",
    "                return mid\n",
    "\n",
    "            # Left portion is sorted\n",
    "            elif nums[low] <= nums[mid]:\n",
    "                if nums[low] <= target <= nums[mid]:\n",
    "                    high = mid - 1\n",
    "                else:\n",
    "                    low = mid + 1\n",
    "\n",
    "            # Right portion is sorted\n",
    "            else:\n",
    "                if nums[mid] <= target <= nums[high]:\n",
    "                    low = mid + 1\n",
    "                else:\n",
    "                    high = mid - 1\n",
    "\n",
    "        # Not found\n",
    "        else:\n",
    "            return -1\n",
    "\n",
    "# Testing the solution\n",
    "assert Solution().search([4,5,6,7,0,1,2], 0) == 4\n",
    "assert Solution().search([4,5,6,7,0,1,2], 3) == -1\n",
    "assert Solution().search([1], 0) == -1"
   ]
  }
 ],
 "metadata": {
  "kernelspec": {
   "display_name": "Python 3 (ipykernel)",
   "language": "python",
   "name": "python3"
  },
  "language_info": {
   "codemirror_mode": {
    "name": "ipython",
    "version": 3
   },
   "file_extension": ".py",
   "mimetype": "text/x-python",
   "name": "python",
   "nbconvert_exporter": "python",
   "pygments_lexer": "ipython3",
   "version": "3.10.13"
  },
  "papermill": {
   "default_parameters": {},
   "duration": 2.465171,
   "end_time": "2024-03-22T02:08:59.603086",
   "environment_variables": {},
   "exception": null,
   "input_path": "practice/001.ipynb",
   "output_path": "practice/001.ipynb",
   "parameters": {},
   "start_time": "2024-03-22T02:08:57.137915",
   "version": "2.4.0"
  }
 },
 "nbformat": 4,
 "nbformat_minor": 5
}