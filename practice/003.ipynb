{
 "cells": [
  {
   "cell_type": "code",
   "execution_count": 1,
   "id": "829c6a0a",
   "metadata": {
    "execution": {
     "iopub.execute_input": "2024-06-11T03:23:52.152390Z",
     "iopub.status.busy": "2024-06-11T03:23:52.152186Z",
     "iopub.status.idle": "2024-06-11T03:23:52.507578Z",
     "shell.execute_reply": "2024-06-11T03:23:52.507118Z"
    },
    "papermill": {
     "duration": 0.36303,
     "end_time": "2024-06-11T03:23:52.509051",
     "exception": false,
     "start_time": "2024-06-11T03:23:52.146021",
     "status": "completed"
    },
    "tags": []
   },
   "outputs": [],
   "source": [
    "from typing import List, Optional, Generator\n",
    "import pandas as pd\n",
    "import numpy as np\n",
    "import sqlite3\n",
    "import re\n",
    "import io\n",
    "import math\n",
    "import collections\n",
    "import itertools\n",
    "import functools\n",
    "import random\n",
    "import string\n",
    "import tqdm\n",
    "import bisect\n",
    "import heapq\n",
    "\n",
    "conn = sqlite3.connect(\":memory:\")\n",
    "\n",
    "def regexp(expr, item):\n",
    "    reg = re.compile(expr)\n",
    "    return reg.search(item) is not None\n",
    "\n",
    "def read_lc_df(s: str, dtypes: dict[str, str]=dict()) -> pd.DataFrame:\n",
    "    temp = pd.read_csv(io.StringIO(s), sep=\"|\", skiprows=2)\n",
    "    temp = temp.iloc[1:-1, 1:-1]\n",
    "    temp.columns = temp.columns.map(str.strip)\n",
    "    temp = temp.map(lambda x: x if type(x) != str else None if x.strip() == 'null' else x.strip())\n",
    "    temp = temp.astype(dtypes)\n",
    "    return temp\n",
    "\n",
    "conn.create_function(\"REGEXP\", 2, regexp)"
   ]
  },
  {
   "cell_type": "markdown",
   "id": "48286fb2",
   "metadata": {
    "papermill": {
     "duration": 0.00455,
     "end_time": "2024-06-11T03:23:52.518473",
     "exception": false,
     "start_time": "2024-06-11T03:23:52.513923",
     "status": "completed"
    },
    "tags": []
   },
   "source": [
    "#### Helper for Binary tree problems"
   ]
  },
  {
   "cell_type": "code",
   "execution_count": 2,
   "id": "d4eafef6",
   "metadata": {
    "execution": {
     "iopub.execute_input": "2024-06-11T03:23:52.529565Z",
     "iopub.status.busy": "2024-06-11T03:23:52.529043Z",
     "iopub.status.idle": "2024-06-11T03:23:52.535994Z",
     "shell.execute_reply": "2024-06-11T03:23:52.535555Z"
    },
    "lines_to_next_cell": 1,
    "papermill": {
     "duration": 0.013369,
     "end_time": "2024-06-11T03:23:52.537154",
     "exception": false,
     "start_time": "2024-06-11T03:23:52.523785",
     "status": "completed"
    },
    "tags": []
   },
   "outputs": [],
   "source": [
    "class BinaryTreeNode:\n",
    "    def __init__(self, val=0, left=None, right=None):\n",
    "        self.val = val\n",
    "        self.left = left\n",
    "        self.right = right\n",
    "\n",
    "    def to_list(self):\n",
    "        to_visit = [self]\n",
    "        visited = []\n",
    "        while len(to_visit) > 0:\n",
    "            curr = to_visit.pop(0)\n",
    "            if curr:\n",
    "                to_visit.append(curr.left)\n",
    "                to_visit.append(curr.right)\n",
    "                visited.append(curr.val)\n",
    "            else:\n",
    "                visited.append(curr)\n",
    "\n",
    "        while visited and not visited[-1]:\n",
    "            visited.pop()\n",
    "\n",
    "        return visited\n",
    "\n",
    "    def __str__(self):\n",
    "        return str(self.val)\n",
    "\n",
    "    @staticmethod\n",
    "    def from_array(nums: list[int|None]):\n",
    "        '''Create a Tree from a list of nums. Returns the root node.'''\n",
    "        if len(nums) == 0:\n",
    "            return None\n",
    "        elif len(nums) == 1:\n",
    "            return BinaryTreeNode(nums[0])\n",
    "        else:\n",
    "            forest = [BinaryTreeNode(nums[0])]\n",
    "            parent_idx = -1\n",
    "            for i in range(1, len(nums)):\n",
    "\n",
    "                curr = None\n",
    "                if nums[i] is not None:\n",
    "                    curr = BinaryTreeNode(nums[i])\n",
    "                    forest.append(curr)\n",
    "\n",
    "                if i % 2 == 1:\n",
    "                    parent_idx += 1\n",
    "                    forest[parent_idx].left = curr\n",
    "                else:\n",
    "                    forest[parent_idx].right = curr\n",
    "\n",
    "        return forest[0]"
   ]
  },
  {
   "cell_type": "markdown",
   "id": "986c0064",
   "metadata": {
    "papermill": {
     "duration": 0.00445,
     "end_time": "2024-06-11T03:23:52.546158",
     "exception": false,
     "start_time": "2024-06-11T03:23:52.541708",
     "status": "completed"
    },
    "tags": []
   },
   "source": [
    "#### Helper for Singly Linked lists"
   ]
  },
  {
   "cell_type": "code",
   "execution_count": 3,
   "id": "cccf3cca",
   "metadata": {
    "execution": {
     "iopub.execute_input": "2024-06-11T03:23:52.556257Z",
     "iopub.status.busy": "2024-06-11T03:23:52.555778Z",
     "iopub.status.idle": "2024-06-11T03:23:52.560167Z",
     "shell.execute_reply": "2024-06-11T03:23:52.559662Z"
    },
    "lines_to_next_cell": 1,
    "papermill": {
     "duration": 0.010558,
     "end_time": "2024-06-11T03:23:52.561250",
     "exception": false,
     "start_time": "2024-06-11T03:23:52.550692",
     "status": "completed"
    },
    "tags": []
   },
   "outputs": [],
   "source": [
    "class ListNode:\n",
    "    def __init__(self, val=0, next=None):\n",
    "        self.val = val\n",
    "        self.next = next\n",
    "\n",
    "    def __str__(self):\n",
    "        return str(self.val)\n",
    "\n",
    "    @staticmethod\n",
    "    def to_singly_linked_list(nums: list[int]):\n",
    "        root = prev = None\n",
    "        for n in nums:\n",
    "            curr = ListNode(n)\n",
    "            # Init once\n",
    "            if not root:\n",
    "                root = curr\n",
    "            if prev:\n",
    "                prev.next = curr\n",
    "            prev = curr\n",
    "\n",
    "        return root\n",
    "\n",
    "    def to_list(self) -> list[int]:\n",
    "        result = []\n",
    "        curr = self\n",
    "        while curr:\n",
    "            result.append(curr.val)\n",
    "            curr = curr.next\n",
    "        return result"
   ]
  },
  {
   "cell_type": "markdown",
   "id": "3306cb42",
   "metadata": {
    "papermill": {
     "duration": 0.004503,
     "end_time": "2024-06-11T03:23:52.570315",
     "exception": false,
     "start_time": "2024-06-11T03:23:52.565812",
     "status": "completed"
    },
    "tags": []
   },
   "source": [
    "#### Utility to generate random BST"
   ]
  },
  {
   "cell_type": "code",
   "execution_count": 4,
   "id": "8a9a7fb1",
   "metadata": {
    "execution": {
     "iopub.execute_input": "2024-06-11T03:23:52.580350Z",
     "iopub.status.busy": "2024-06-11T03:23:52.579906Z",
     "iopub.status.idle": "2024-06-11T03:23:52.584008Z",
     "shell.execute_reply": "2024-06-11T03:23:52.583510Z"
    },
    "lines_to_next_cell": 1,
    "papermill": {
     "duration": 0.010103,
     "end_time": "2024-06-11T03:23:52.585028",
     "exception": false,
     "start_time": "2024-06-11T03:23:52.574925",
     "status": "completed"
    },
    "tags": []
   },
   "outputs": [],
   "source": [
    "def generateBST(N: int, min_: int, max_: int) -> BinaryTreeNode|None:\n",
    "    def insert(curr: BinaryTreeNode|None, n: int) -> BinaryTreeNode:\n",
    "        if not curr:\n",
    "            curr = BinaryTreeNode(n)\n",
    "        elif curr.val < n:\n",
    "            curr.right = insert(curr.right, n)\n",
    "        else:\n",
    "            curr.left = insert(curr.left, n)\n",
    "\n",
    "        return curr\n",
    "\n",
    "    assert N <= max_ - min_, \"Number of available samples must be >= N\"\n",
    "    root: BinaryTreeNode|None = None\n",
    "    for n in np.random.choice(np.arange(min_, max_), size=N, replace=False):\n",
    "        root = insert(root, n)\n",
    "\n",
    "    return root"
   ]
  },
  {
   "cell_type": "markdown",
   "id": "9a722649",
   "metadata": {
    "papermill": {
     "duration": 0.004397,
     "end_time": "2024-06-11T03:23:52.593876",
     "exception": false,
     "start_time": "2024-06-11T03:23:52.589479",
     "status": "completed"
    },
    "tags": []
   },
   "source": [
    "Best time to buy and sell stocks - I"
   ]
  },
  {
   "cell_type": "code",
   "execution_count": 5,
   "id": "4e905b5e",
   "metadata": {
    "execution": {
     "iopub.execute_input": "2024-06-11T03:23:52.603836Z",
     "iopub.status.busy": "2024-06-11T03:23:52.603317Z",
     "iopub.status.idle": "2024-06-11T03:23:52.607029Z",
     "shell.execute_reply": "2024-06-11T03:23:52.606516Z"
    },
    "lines_to_next_cell": 1,
    "papermill": {
     "duration": 0.009702,
     "end_time": "2024-06-11T03:23:52.608003",
     "exception": false,
     "start_time": "2024-06-11T03:23:52.598301",
     "status": "completed"
    },
    "tags": []
   },
   "outputs": [],
   "source": [
    "def stocks1(prices: list[int]) -> int:\n",
    "    min_, max_profit = prices[0], 0\n",
    "    for price in prices:\n",
    "        max_profit = max(max_profit, price - min_)\n",
    "        min_ = min(min_, price)\n",
    "\n",
    "    return max_profit\n",
    "\n",
    "# Testing the solution\n",
    "assert stocks1([7,1,5,3,6,4]) == 5\n",
    "assert stocks1([7,6,4,3,1]) == 0"
   ]
  },
  {
   "cell_type": "markdown",
   "id": "b36063c0",
   "metadata": {
    "papermill": {
     "duration": 0.004413,
     "end_time": "2024-06-11T03:23:52.616878",
     "exception": false,
     "start_time": "2024-06-11T03:23:52.612465",
     "status": "completed"
    },
    "tags": []
   },
   "source": [
    "Weekly Contest 398: 19th May 2024"
   ]
  },
  {
   "cell_type": "code",
   "execution_count": 6,
   "id": "2d35821a",
   "metadata": {
    "execution": {
     "iopub.execute_input": "2024-06-11T03:23:52.627062Z",
     "iopub.status.busy": "2024-06-11T03:23:52.626588Z",
     "iopub.status.idle": "2024-06-11T03:23:52.630536Z",
     "shell.execute_reply": "2024-06-11T03:23:52.630027Z"
    },
    "lines_to_next_cell": 1,
    "papermill": {
     "duration": 0.010074,
     "end_time": "2024-06-11T03:23:52.631513",
     "exception": false,
     "start_time": "2024-06-11T03:23:52.621439",
     "status": "completed"
    },
    "tags": []
   },
   "outputs": [],
   "source": [
    "# Q1\n",
    "def isArraySpecial(nums: list[int]) -> bool:\n",
    "    N = len(nums)\n",
    "    for i in range(N - 1):\n",
    "        i1, i2 = nums[i] % 2, nums[i + 1] % 2\n",
    "        if (i1 == 0 and i2 == 0) or (i1 == 1 and i2 == 1):\n",
    "            return False\n",
    "    else:\n",
    "        return True\n",
    "\n",
    "# Testing the solution\n",
    "assert isArraySpecial([4,3,1,6]) == False\n",
    "assert isArraySpecial([2,1,4]) == True\n",
    "assert isArraySpecial([1]) == True"
   ]
  },
  {
   "cell_type": "code",
   "execution_count": 7,
   "id": "ce3280b2",
   "metadata": {
    "execution": {
     "iopub.execute_input": "2024-06-11T03:23:52.641508Z",
     "iopub.status.busy": "2024-06-11T03:23:52.641047Z",
     "iopub.status.idle": "2024-06-11T03:23:52.646133Z",
     "shell.execute_reply": "2024-06-11T03:23:52.645691Z"
    },
    "lines_to_next_cell": 1,
    "papermill": {
     "duration": 0.011116,
     "end_time": "2024-06-11T03:23:52.647166",
     "exception": false,
     "start_time": "2024-06-11T03:23:52.636050",
     "status": "completed"
    },
    "tags": []
   },
   "outputs": [],
   "source": [
    "# Q2\n",
    "def isArraySpecial2(nums: list[int], queries: list[list[int]]) -> list[bool]:\n",
    "    N = len(nums)\n",
    "    parity: list[int] = list(map(lambda x: x % 2, nums))\n",
    "\n",
    "    @functools.cache\n",
    "    def backtrack(start: int, end: int) -> bool:\n",
    "        if start == end:\n",
    "            return True\n",
    "        else:\n",
    "            mid = (start + end) // 2\n",
    "            isSpecial =  parity[mid] != parity[mid + 1] and backtrack(start, mid) and backtrack(mid + 1, end)\n",
    "            return isSpecial\n",
    "\n",
    "    result: list[bool] = []\n",
    "    for i, j in queries:\n",
    "        result.append(backtrack(i, j))\n",
    "\n",
    "    return result\n",
    "\n",
    "# Testing the solution\n",
    "assert isArraySpecial2([4,3,1,6], [[0,2],[2,3]]) == [False, True]\n",
    "assert isArraySpecial2([3,4,1,2,6], [[0,4]]) == [False]"
   ]
  },
  {
   "cell_type": "code",
   "execution_count": 8,
   "id": "7a8941ed",
   "metadata": {
    "execution": {
     "iopub.execute_input": "2024-06-11T03:23:52.657283Z",
     "iopub.status.busy": "2024-06-11T03:23:52.656798Z",
     "iopub.status.idle": "2024-06-11T03:23:52.714400Z",
     "shell.execute_reply": "2024-06-11T03:23:52.713987Z"
    },
    "lines_to_next_cell": 1,
    "papermill": {
     "duration": 0.063734,
     "end_time": "2024-06-11T03:23:52.715417",
     "exception": false,
     "start_time": "2024-06-11T03:23:52.651683",
     "status": "completed"
    },
    "tags": []
   },
   "outputs": [],
   "source": [
    "# Q3\n",
    "def sumDigitDifferencesBrute(nums: list[int]) -> int:\n",
    "    length = len(str(nums[0]))\n",
    "    count = 0\n",
    "    for n1, n2 in itertools.combinations(nums, r=2):\n",
    "        n1_str, n2_str = str(n1), str(n2)\n",
    "        for i in range(length):\n",
    "            if n1_str[i] != n2_str[i]:\n",
    "                count += 1\n",
    "\n",
    "    return count\n",
    "\n",
    "def sumDigitDifferences(nums: list[int]) -> int:\n",
    "    def count(arr: list[int]) -> int:\n",
    "        N = len(arr)\n",
    "        temp = 0\n",
    "        for i in range(N - 1):\n",
    "            temp += arr[i] * sum(arr[i + 1:])\n",
    "\n",
    "        return temp\n",
    "\n",
    "    length = len(str(nums[0]))\n",
    "    digits_dict: dict[int, dict[str, int]] = dict()\n",
    "    for n in nums:\n",
    "        n_str = str(n)\n",
    "        for i in range(length):\n",
    "            positions = digits_dict.get(i, dict())\n",
    "            positions[n_str[i]] = positions.get(n_str[i], 0) + 1\n",
    "            digits_dict[i] = positions\n",
    "\n",
    "    result: int = 0\n",
    "    for i in range(length):\n",
    "        result += count(list(digits_dict[i].values()))\n",
    "\n",
    "    return result\n",
    "\n",
    "# Testing the solution\n",
    "for i in range(100):\n",
    "    temp = list(np.random.randint(10, 100, 50))\n",
    "    assert sumDigitDifferencesBrute(temp) == sumDigitDifferences(temp)"
   ]
  },
  {
   "cell_type": "markdown",
   "id": "6d69bfc3",
   "metadata": {
    "papermill": {
     "duration": 0.004479,
     "end_time": "2024-06-11T03:23:52.724446",
     "exception": false,
     "start_time": "2024-06-11T03:23:52.719967",
     "status": "completed"
    },
    "tags": []
   },
   "source": [
    "Sum of XOR totals\n",
    "Easy LC: https://leetcode.com/problems/sum-of-all-subset-xor-totals"
   ]
  },
  {
   "cell_type": "code",
   "execution_count": 9,
   "id": "3e8f2bd0",
   "metadata": {
    "execution": {
     "iopub.execute_input": "2024-06-11T03:23:52.734375Z",
     "iopub.status.busy": "2024-06-11T03:23:52.733938Z",
     "iopub.status.idle": "2024-06-11T03:23:52.737801Z",
     "shell.execute_reply": "2024-06-11T03:23:52.737355Z"
    },
    "lines_to_next_cell": 1,
    "papermill": {
     "duration": 0.009848,
     "end_time": "2024-06-11T03:23:52.738806",
     "exception": false,
     "start_time": "2024-06-11T03:23:52.728958",
     "status": "completed"
    },
    "tags": []
   },
   "outputs": [],
   "source": [
    "# https://leetcode.com/problems/sum-of-all-subset-xor-totals/submissions/1263288868\n",
    "def subsetXORSumMemo(nums: list[int]) -> int:\n",
    "    @functools.cache\n",
    "    def backtrack(i: int, curr: int) -> int:\n",
    "        if i == N:\n",
    "            return curr\n",
    "        else:\n",
    "            return backtrack(i + 1, curr ^ nums[i]) + backtrack(i + 1, curr)\n",
    "\n",
    "    N = len(nums)\n",
    "    return backtrack(0, 0)\n",
    "\n",
    "# Testing the solution\n",
    "assert subsetXORSumMemo([1,3]) == 6\n",
    "assert subsetXORSumMemo([5,1,6]) == 28"
   ]
  },
  {
   "cell_type": "markdown",
   "id": "9b399353",
   "metadata": {
    "papermill": {
     "duration": 0.004593,
     "end_time": "2024-06-11T03:23:52.748044",
     "exception": false,
     "start_time": "2024-06-11T03:23:52.743451",
     "status": "completed"
    },
    "tags": []
   },
   "source": [
    "Largest Rectangle in a histogram"
   ]
  },
  {
   "cell_type": "code",
   "execution_count": 10,
   "id": "1eb77032",
   "metadata": {
    "execution": {
     "iopub.execute_input": "2024-06-11T03:23:52.758009Z",
     "iopub.status.busy": "2024-06-11T03:23:52.757586Z",
     "iopub.status.idle": "2024-06-11T03:23:52.763661Z",
     "shell.execute_reply": "2024-06-11T03:23:52.763249Z"
    },
    "lines_to_next_cell": 1,
    "papermill": {
     "duration": 0.012234,
     "end_time": "2024-06-11T03:23:52.764793",
     "exception": false,
     "start_time": "2024-06-11T03:23:52.752559",
     "status": "completed"
    },
    "tags": []
   },
   "outputs": [],
   "source": [
    "# https://leetcode.com/problems/largest-rectangle-in-histogram/submissions/1266278725\n",
    "def largestRectangleArea(heights: list[int]) -> int:\n",
    "    \"\"\"\n",
    "    Count the number of rectangles to the right that are greater than or equal to self\n",
    "    Count the number of rectangles to the left that are greater than or equal to self\n",
    "    \"\"\"\n",
    "\n",
    "    N = len(heights)\n",
    "\n",
    "    right_dp: list[int] = [N - i for i in range(N)]\n",
    "    left_dp: list[int] = [i + 1 for i in range(N)]\n",
    "    stack: list[tuple[int, int]] = []\n",
    "\n",
    "    for i in range(N):\n",
    "        curr: tuple[int, int] = (heights[i], i)\n",
    "        while stack and stack[-1][0] > curr[0]:\n",
    "            prev = stack.pop()\n",
    "            right_dp[prev[1]] = curr[1] - prev[1]\n",
    "        stack.append(curr)\n",
    "\n",
    "    stack.clear()\n",
    "\n",
    "    for i in range(N - 1, -1, -1):\n",
    "        curr = (heights[i], i)\n",
    "        while stack and stack[-1][0] > curr[0]:\n",
    "            prev = stack.pop()\n",
    "            left_dp[prev[1]] = prev[1] - curr[1]\n",
    "        stack.append(curr)\n",
    "\n",
    "    max_ = 0\n",
    "    for i in range(N):\n",
    "        max_ = max(max_, (left_dp[i] + right_dp[i] - 1) * heights[i])\n",
    "\n",
    "    return max_\n",
    "\n",
    "# Testing the solution\n",
    "assert largestRectangleArea([2,1,5,6,2,3]) == 10\n",
    "assert largestRectangleArea([2,4]) == 4\n",
    "assert largestRectangleArea([2,1,2]) == 3"
   ]
  },
  {
   "cell_type": "markdown",
   "id": "05d83699",
   "metadata": {
    "papermill": {
     "duration": 0.004455,
     "end_time": "2024-06-11T03:23:52.773762",
     "exception": false,
     "start_time": "2024-06-11T03:23:52.769307",
     "status": "completed"
    },
    "tags": []
   },
   "source": [
    "Container Queries - CN Weekly - 3"
   ]
  },
  {
   "cell_type": "code",
   "execution_count": 11,
   "id": "e9d3612c",
   "metadata": {
    "execution": {
     "iopub.execute_input": "2024-06-11T03:23:52.783797Z",
     "iopub.status.busy": "2024-06-11T03:23:52.783309Z",
     "iopub.status.idle": "2024-06-11T03:23:52.788999Z",
     "shell.execute_reply": "2024-06-11T03:23:52.788466Z"
    },
    "lines_to_next_cell": 1,
    "papermill": {
     "duration": 0.011816,
     "end_time": "2024-06-11T03:23:52.790076",
     "exception": false,
     "start_time": "2024-06-11T03:23:52.778260",
     "status": "completed"
    },
    "tags": []
   },
   "outputs": [],
   "source": [
    "def containerQueries(N: int, S: str, query_len: int, queries: list[list[int]]) -> list[int]:\n",
    "    positions: dict[str, collections.deque[int]] = dict()\n",
    "    for i in range(N):\n",
    "        indices = positions.get(S[i], collections.deque())\n",
    "        indices.append(i)\n",
    "        positions[S[i]] = indices\n",
    "\n",
    "    end_pos = 0\n",
    "    for k in positions:\n",
    "        end_pos = max(end_pos, positions[k].popleft())\n",
    "\n",
    "    dp: list[int] = [end_pos]\n",
    "    for i in range(1, N):\n",
    "        prev = S[i - 1]\n",
    "        next_pos = max(dp[-1], positions[prev].popleft() if positions[prev] else N)\n",
    "        dp.append(next_pos)\n",
    "\n",
    "    result: list[int] = []\n",
    "    for i, j in queries:\n",
    "        if j >= dp[i]:\n",
    "            result.append(1)\n",
    "        else:\n",
    "            result.append(0)\n",
    "\n",
    "    return result\n",
    "\n",
    "# Testing the solution\n",
    "assert containerQueries(8, \"yukppuyk\", 2, [[0,4],[5,7]]) == [1, 0]"
   ]
  },
  {
   "cell_type": "markdown",
   "id": "bdba0c2a",
   "metadata": {
    "papermill": {
     "duration": 0.004443,
     "end_time": "2024-06-11T03:23:52.799061",
     "exception": false,
     "start_time": "2024-06-11T03:23:52.794618",
     "status": "completed"
    },
    "tags": []
   },
   "source": [
    "LC Biweekly 131: 25th May 2024"
   ]
  },
  {
   "cell_type": "code",
   "execution_count": 12,
   "id": "65434525",
   "metadata": {
    "execution": {
     "iopub.execute_input": "2024-06-11T03:23:52.809217Z",
     "iopub.status.busy": "2024-06-11T03:23:52.808715Z",
     "iopub.status.idle": "2024-06-11T03:23:52.812844Z",
     "shell.execute_reply": "2024-06-11T03:23:52.812289Z"
    },
    "lines_to_next_cell": 1,
    "papermill": {
     "duration": 0.0102,
     "end_time": "2024-06-11T03:23:52.813836",
     "exception": false,
     "start_time": "2024-06-11T03:23:52.803636",
     "status": "completed"
    },
    "tags": []
   },
   "outputs": [],
   "source": [
    "# Q1\n",
    "def duplicateNumbersXOR(nums: list[int]) -> int:\n",
    "    set_: set[int] = set()\n",
    "    result: int = 0\n",
    "    for n in nums:\n",
    "        if n not in set_:\n",
    "            set_.add(n)\n",
    "        else:\n",
    "            result = result ^ n\n",
    "\n",
    "    return result\n",
    "\n",
    "# Testing the solution\n",
    "assert duplicateNumbersXOR([1,2,1,3]) == 1\n",
    "assert duplicateNumbersXOR([1,2,3]) == 0\n",
    "assert duplicateNumbersXOR([1,2,2,1]) == 3"
   ]
  },
  {
   "cell_type": "code",
   "execution_count": 13,
   "id": "dcade46b",
   "metadata": {
    "execution": {
     "iopub.execute_input": "2024-06-11T03:23:52.823887Z",
     "iopub.status.busy": "2024-06-11T03:23:52.823434Z",
     "iopub.status.idle": "2024-06-11T03:23:52.828013Z",
     "shell.execute_reply": "2024-06-11T03:23:52.827598Z"
    },
    "lines_to_next_cell": 1,
    "papermill": {
     "duration": 0.010771,
     "end_time": "2024-06-11T03:23:52.829138",
     "exception": false,
     "start_time": "2024-06-11T03:23:52.818367",
     "status": "completed"
    },
    "tags": []
   },
   "outputs": [],
   "source": [
    "# Q2\n",
    "def occurrencesOfElement(nums: list[int], queries: list[int], x: int) -> list[int]:\n",
    "    N = len(nums)\n",
    "    occurance: int = 0\n",
    "    indices: dict[int, int] = dict()\n",
    "    for i in range(N):\n",
    "        if nums[i] == x:\n",
    "            indices[occurance] = i\n",
    "            occurance += 1\n",
    "\n",
    "    result: list[int] = []\n",
    "    for q in queries:\n",
    "        result.append(indices.get(q - 1, -1))\n",
    "\n",
    "    return result\n",
    "\n",
    "# Testing the solution\n",
    "assert occurrencesOfElement([1,1,1], [1,2,3,4], 1) == [0,1,2,-1]\n",
    "assert occurrencesOfElement([1,3,1,7], [1,3,2,4], 1) == [0,-1,2,-1]\n",
    "assert occurrencesOfElement([1,2,3], [10], 5) == [-1]"
   ]
  },
  {
   "cell_type": "code",
   "execution_count": 14,
   "id": "044267dd",
   "metadata": {
    "execution": {
     "iopub.execute_input": "2024-06-11T03:23:52.839207Z",
     "iopub.status.busy": "2024-06-11T03:23:52.838740Z",
     "iopub.status.idle": "2024-06-11T03:23:52.844325Z",
     "shell.execute_reply": "2024-06-11T03:23:52.843902Z"
    },
    "papermill": {
     "duration": 0.011714,
     "end_time": "2024-06-11T03:23:52.845389",
     "exception": false,
     "start_time": "2024-06-11T03:23:52.833675",
     "status": "completed"
    },
    "tags": []
   },
   "outputs": [],
   "source": [
    "# Q3\n",
    "def queryResults(limit: int, queries: list[list[int]]) -> list[int]:\n",
    "    color_map: dict[int, set[int]] = dict()\n",
    "    ball_map: dict[int, int] = dict()\n",
    "\n",
    "    result: list[int] = []\n",
    "    for ball, color in queries:\n",
    "        old_color = ball_map.get(ball, 0)\n",
    "        if old_color > 0:\n",
    "            color_map[old_color].remove(ball)\n",
    "            if len(color_map[old_color]) == 0:\n",
    "                del color_map[old_color]\n",
    "\n",
    "        balls = color_map.get(color, set())\n",
    "        balls.add(ball)\n",
    "        color_map[color] = balls\n",
    "        ball_map[ball] = color\n",
    "\n",
    "        result.append(len(color_map))\n",
    "\n",
    "    return result\n",
    "\n",
    "# Testing the solution\n",
    "assert queryResults(4, [[0,1],[1,2],[2,2],[3,4],[4,5]]) == [1,2,2,3,4]\n",
    "assert queryResults(4, [[1,4],[2,5],[1,3],[3,4]]) == [1,2,2,3]\n",
    "assert queryResults(1, [[0,10],[1,10]]) == [1,1]"
   ]
  },
  {
   "cell_type": "code",
   "execution_count": 15,
   "id": "ba1be302",
   "metadata": {
    "execution": {
     "iopub.execute_input": "2024-06-11T03:23:52.855786Z",
     "iopub.status.busy": "2024-06-11T03:23:52.855267Z",
     "iopub.status.idle": "2024-06-11T03:23:52.860435Z",
     "shell.execute_reply": "2024-06-11T03:23:52.859926Z"
    },
    "lines_to_next_cell": 1,
    "papermill": {
     "duration": 0.011447,
     "end_time": "2024-06-11T03:23:52.861456",
     "exception": false,
     "start_time": "2024-06-11T03:23:52.850009",
     "status": "completed"
    },
    "tags": []
   },
   "outputs": [],
   "source": [
    "# Q4: TLE :(\n",
    "import bisect\n",
    "\n",
    "def getResultsBrute(queries: list[list[int]]) -> list[bool]:\n",
    "    obstacles: list[int] = [0]\n",
    "    result: list[bool] = []\n",
    "\n",
    "    for q in queries:\n",
    "        if len(q) == 2:\n",
    "            bisect.insort(obstacles, q[1])\n",
    "        else:\n",
    "            x, sz = q[1], q[2]\n",
    "            idx = bisect.bisect_left(obstacles, x)\n",
    "            max_size = x - obstacles[idx - 1]\n",
    "            for i in range(1, idx):\n",
    "                max_size = max(max_size, obstacles[i] - obstacles[i - 1])\n",
    "\n",
    "            result.append(max_size >= sz)\n",
    "\n",
    "    return result\n",
    "\n",
    "# Testing the solution\n",
    "assert getResultsBrute([[1,2],[2,3,3],[2,3,1],[2,2,2]]) == [False, True, True]\n",
    "assert getResultsBrute([[1,7],[2,7,6],[1,2],[2,7,5],[2,7,6]]) == [True,True,False]"
   ]
  },
  {
   "cell_type": "markdown",
   "id": "fc475105",
   "metadata": {
    "papermill": {
     "duration": 0.004462,
     "end_time": "2024-06-11T03:23:52.870448",
     "exception": false,
     "start_time": "2024-06-11T03:23:52.865986",
     "status": "completed"
    },
    "tags": []
   },
   "source": [
    "CN Weekly Contest"
   ]
  },
  {
   "cell_type": "code",
   "execution_count": 16,
   "id": "3fbb5da0",
   "metadata": {
    "execution": {
     "iopub.execute_input": "2024-06-11T03:23:52.880491Z",
     "iopub.status.busy": "2024-06-11T03:23:52.880025Z",
     "iopub.status.idle": "2024-06-11T03:23:52.885662Z",
     "shell.execute_reply": "2024-06-11T03:23:52.885131Z"
    },
    "lines_to_next_cell": 1,
    "papermill": {
     "duration": 0.011747,
     "end_time": "2024-06-11T03:23:52.886717",
     "exception": false,
     "start_time": "2024-06-11T03:23:52.874970",
     "status": "completed"
    },
    "tags": []
   },
   "outputs": [],
   "source": [
    "# Q2 - Easy\n",
    "def minimumLength(s1: str, s2: str) -> int:\n",
    "    N, M = len(s1), len(s2)\n",
    "\n",
    "    if s1 in s2:\n",
    "        return M\n",
    "\n",
    "    elif s2 in s1:\n",
    "        return N\n",
    "\n",
    "    else:\n",
    "        # Store the indices where s1[0] and s1[-1] are found\n",
    "        left: list[int] = []\n",
    "        right: list[int] = []\n",
    "        for i in range(M):\n",
    "            if s2[i] == s1[0]:\n",
    "                right.append(i)\n",
    "            if s2[i] == s1[-1]:\n",
    "                left.append(i)\n",
    "\n",
    "        # Ans is always possible\n",
    "        min_ = N + M\n",
    "\n",
    "        # Check right concatentation\n",
    "        for i in right:\n",
    "            overlap_length = M - i\n",
    "            if s2[i:] == s1[:overlap_length]:\n",
    "                min_ = min(min_, N + M - overlap_length)\n",
    "\n",
    "        # Check left concatentation\n",
    "        for i in left:\n",
    "            overlap_length = i + 1\n",
    "            if s2[:i + 1] == s1[-overlap_length:]:\n",
    "                min_ = min(min_, N + M - overlap_length)\n",
    "\n",
    "        return min_\n",
    "\n",
    "# Testing the solution\n",
    "assert minimumLength(\"abcabc\", \"aaabc\") == 8\n",
    "assert minimumLength(\"bibia\", \"aibia\") == 9\n",
    "assert minimumLength(\"aabcabcd\", \"abc\") == 8"
   ]
  },
  {
   "cell_type": "markdown",
   "id": "e7276dd3",
   "metadata": {
    "papermill": {
     "duration": 0.004492,
     "end_time": "2024-06-11T03:23:52.895749",
     "exception": false,
     "start_time": "2024-06-11T03:23:52.891257",
     "status": "completed"
    },
    "tags": []
   },
   "source": [
    "LC Medium: Count number of primes\n",
    "https://leetcode.com/problems/count-primes/"
   ]
  },
  {
   "cell_type": "code",
   "execution_count": 17,
   "id": "12043883",
   "metadata": {
    "execution": {
     "iopub.execute_input": "2024-06-11T03:23:52.905679Z",
     "iopub.status.busy": "2024-06-11T03:23:52.905331Z",
     "iopub.status.idle": "2024-06-11T03:23:52.909612Z",
     "shell.execute_reply": "2024-06-11T03:23:52.909091Z"
    },
    "lines_to_next_cell": 1,
    "papermill": {
     "duration": 0.010368,
     "end_time": "2024-06-11T03:23:52.910602",
     "exception": false,
     "start_time": "2024-06-11T03:23:52.900234",
     "status": "completed"
    },
    "tags": []
   },
   "outputs": [],
   "source": [
    "# https://leetcode.com/problems/count-primes/submissions/1275257285\n",
    "def countPrimes(N: int) -> int:\n",
    "\n",
    "    if N == 0:\n",
    "        return 0\n",
    "\n",
    "    soe: list[bool] = [True] * (N + 1)\n",
    "    soe[0] = soe[1] = False\n",
    "    i = 2\n",
    "    while i * i <= N:\n",
    "        if soe[i]:\n",
    "            \"\"\"\n",
    "            j = i\n",
    "            while i * j <= N:\n",
    "                soe[i * j] = False\n",
    "                j += 1\n",
    "            \"\"\"\n",
    "            # List slicing is much faster thanks to the C impl backend\n",
    "            soe[i*i:N+1:i] = [False] * len(soe[i*i:N+1:i])\n",
    "        i += 1\n",
    "\n",
    "    return sum(soe)\n",
    "\n",
    "# Testing the solution\n",
    "assert countPrimes(10) == 4\n",
    "assert countPrimes(0) == countPrimes(1) == 0\n",
    "assert countPrimes(100) == 25"
   ]
  },
  {
   "cell_type": "markdown",
   "id": "03bf3eee",
   "metadata": {
    "papermill": {
     "duration": 0.004473,
     "end_time": "2024-06-11T03:23:52.919584",
     "exception": false,
     "start_time": "2024-06-11T03:23:52.915111",
     "status": "completed"
    },
    "tags": []
   },
   "source": [
    "Heights checker - Easy\n",
    "https://leetcode.com/problems/height-checker/submissions/1283296449/"
   ]
  },
  {
   "cell_type": "code",
   "execution_count": 18,
   "id": "2f073c27",
   "metadata": {
    "execution": {
     "iopub.execute_input": "2024-06-11T03:23:52.929477Z",
     "iopub.status.busy": "2024-06-11T03:23:52.929123Z",
     "iopub.status.idle": "2024-06-11T03:23:52.934152Z",
     "shell.execute_reply": "2024-06-11T03:23:52.933641Z"
    },
    "lines_to_next_cell": 1,
    "papermill": {
     "duration": 0.011077,
     "end_time": "2024-06-11T03:23:52.935160",
     "exception": false,
     "start_time": "2024-06-11T03:23:52.924083",
     "status": "completed"
    },
    "tags": []
   },
   "outputs": [],
   "source": [
    "def heightChecker(heights: list[int]) -> int:\n",
    "    \"\"\"\n",
    "    Implement count sort\n",
    "    Time: O(N), Space: O(N)\n",
    "\n",
    "    1. Bucketize and count the heights\n",
    "    2. Kind of like a two pointer approach, iterate through both. Bucketized dict is iterate in order of natural numbers O(100 * individual freq) ~ O(N)\n",
    "    3. This solution is O(N) only because we have a natural limit to max height - 100\n",
    "    \"\"\"\n",
    "    freq = collections.Counter(heights)\n",
    "\n",
    "    result = currHeight = 0\n",
    "    for height in heights:\n",
    "\n",
    "        while currHeight not in freq or freq[currHeight] == 0: \n",
    "            currHeight += 1\n",
    "\n",
    "        if currHeight != height:\n",
    "            result += 1\n",
    "\n",
    "        # Whether matching or not matching, one of student's\n",
    "        # heights were compared, so continue travesing\n",
    "        freq[currHeight] -= 1\n",
    "\n",
    "    return result\n",
    "\n",
    "# Testing the solution\n",
    "assert heightChecker([1,1,4,2,1,3]) == 3\n",
    "assert heightChecker([5,1,2,3,4]) == 5\n",
    "assert heightChecker([1,2,3,4,5]) == 0"
   ]
  },
  {
   "cell_type": "markdown",
   "id": "d13e69e3",
   "metadata": {
    "papermill": {
     "duration": 0.004512,
     "end_time": "2024-06-11T03:23:52.944214",
     "exception": false,
     "start_time": "2024-06-11T03:23:52.939702",
     "status": "completed"
    },
    "tags": []
   },
   "source": [
    "LC Virtual - 1: Warmup contest\n",
    "https://leetcode.com/contest/warm-up-contest"
   ]
  },
  {
   "cell_type": "code",
   "execution_count": 19,
   "id": "4c4f1888",
   "metadata": {
    "execution": {
     "iopub.execute_input": "2024-06-11T03:23:52.954132Z",
     "iopub.status.busy": "2024-06-11T03:23:52.953887Z",
     "iopub.status.idle": "2024-06-11T03:23:52.960841Z",
     "shell.execute_reply": "2024-06-11T03:23:52.960359Z"
    },
    "lines_to_next_cell": 1,
    "papermill": {
     "duration": 0.013107,
     "end_time": "2024-06-11T03:23:52.961942",
     "exception": false,
     "start_time": "2024-06-11T03:23:52.948835",
     "status": "completed"
    },
    "tags": []
   },
   "outputs": [
    {
     "data": {
      "text/plain": [
       "[1,\n",
       " 10,\n",
       " 11,\n",
       " 12,\n",
       " 13,\n",
       " 14,\n",
       " 15,\n",
       " 16,\n",
       " 17,\n",
       " 18,\n",
       " 19,\n",
       " 2,\n",
       " 20,\n",
       " 21,\n",
       " 22,\n",
       " 23,\n",
       " 24,\n",
       " 25,\n",
       " 3,\n",
       " 4,\n",
       " 5,\n",
       " 6,\n",
       " 7,\n",
       " 8,\n",
       " 9]"
      ]
     },
     "execution_count": 19,
     "metadata": {},
     "output_type": "execute_result"
    }
   ],
   "source": [
    "# Q1: Lexicographical numbers\n",
    "def lexicalOrderRecursive(n: int) -> list[int]:\n",
    "    result: list[int] = []\n",
    "    def backtrack(curr: int) -> None:\n",
    "        result.append(curr)\n",
    "        if curr * 10 <= n:\n",
    "            backtrack(curr * 10)\n",
    "        if (curr % 10) < 9 and curr < n:\n",
    "            backtrack(curr + 1)\n",
    "\n",
    "    backtrack(1)\n",
    "    return result\n",
    "\n",
    "# Testing the solution\n",
    "lexicalOrderRecursive(25)"
   ]
  },
  {
   "cell_type": "code",
   "execution_count": 20,
   "id": "fc44841b",
   "metadata": {
    "execution": {
     "iopub.execute_input": "2024-06-11T03:23:52.972475Z",
     "iopub.status.busy": "2024-06-11T03:23:52.972098Z",
     "iopub.status.idle": "2024-06-11T03:23:52.977396Z",
     "shell.execute_reply": "2024-06-11T03:23:52.976912Z"
    },
    "lines_to_next_cell": 1,
    "papermill": {
     "duration": 0.011704,
     "end_time": "2024-06-11T03:23:52.978437",
     "exception": false,
     "start_time": "2024-06-11T03:23:52.966733",
     "status": "completed"
    },
    "tags": []
   },
   "outputs": [
    {
     "data": {
      "text/plain": [
       "[1,\n",
       " 10,\n",
       " 11,\n",
       " 12,\n",
       " 13,\n",
       " 14,\n",
       " 15,\n",
       " 16,\n",
       " 17,\n",
       " 18,\n",
       " 19,\n",
       " 2,\n",
       " 20,\n",
       " 21,\n",
       " 22,\n",
       " 23,\n",
       " 24,\n",
       " 25,\n",
       " 3,\n",
       " 4,\n",
       " 5,\n",
       " 6,\n",
       " 7,\n",
       " 8,\n",
       " 9]"
      ]
     },
     "execution_count": 20,
     "metadata": {},
     "output_type": "execute_result"
    }
   ],
   "source": [
    "def lexicalOrder(n: int) -> list[int]:\n",
    "    result: list[int] = []\n",
    "    stack: list[int] = [1]\n",
    "    while stack:\n",
    "        curr = stack.pop()\n",
    "        result.append(curr)\n",
    "        if (curr % 10) < 9 and curr < n:\n",
    "            stack.append(curr + 1)\n",
    "        if curr * 10 <= n:\n",
    "            stack.append(curr * 10)\n",
    "\n",
    "    return result\n",
    "\n",
    "# Testing the solution\n",
    "lexicalOrder(25)"
   ]
  },
  {
   "cell_type": "code",
   "execution_count": 21,
   "id": "d276fa81",
   "metadata": {
    "execution": {
     "iopub.execute_input": "2024-06-11T03:23:52.989026Z",
     "iopub.status.busy": "2024-06-11T03:23:52.988562Z",
     "iopub.status.idle": "2024-06-11T03:23:52.992653Z",
     "shell.execute_reply": "2024-06-11T03:23:52.992140Z"
    },
    "lines_to_next_cell": 1,
    "papermill": {
     "duration": 0.010522,
     "end_time": "2024-06-11T03:23:52.993774",
     "exception": false,
     "start_time": "2024-06-11T03:23:52.983252",
     "status": "completed"
    },
    "tags": []
   },
   "outputs": [],
   "source": [
    "# Q2: First unique character in a string\n",
    "def firstUniqChar(s: str) -> int:\n",
    "    \"\"\"\n",
    "    Iterate from right to left. Keep track of elements already visited.\n",
    "    If new char is encountered update result.\n",
    "    Else (char already exists), ensure that result prev found\n",
    "    \"\"\"\n",
    "    N = len(s)\n",
    "    freq = collections.Counter(s)\n",
    "    for i in range(N):\n",
    "        if freq[s[i]] == 1:\n",
    "            return i\n",
    "    return -1\n",
    "\n",
    "# Testing the solution\n",
    "assert firstUniqChar(\"leetcode\") == 0\n",
    "assert firstUniqChar(\"loveleetcode\") == 2\n",
    "assert firstUniqChar(\"aabb\") == -1\n",
    "assert firstUniqChar(\"aab\") == 2"
   ]
  },
  {
   "cell_type": "code",
   "execution_count": 22,
   "id": "18fdc0db",
   "metadata": {
    "execution": {
     "iopub.execute_input": "2024-06-11T03:23:53.003850Z",
     "iopub.status.busy": "2024-06-11T03:23:53.003687Z",
     "iopub.status.idle": "2024-06-11T03:23:53.009607Z",
     "shell.execute_reply": "2024-06-11T03:23:53.009179Z"
    },
    "lines_to_next_cell": 1,
    "papermill": {
     "duration": 0.012187,
     "end_time": "2024-06-11T03:23:53.010633",
     "exception": false,
     "start_time": "2024-06-11T03:23:52.998446",
     "status": "completed"
    },
    "tags": []
   },
   "outputs": [],
   "source": [
    "# Q3: Longest Absolute File Path\n",
    "def lengthLongestPath(abstracted: str) -> int:\n",
    "    \"\"\"\n",
    "    Iterate through path character by character.\n",
    "    \"\\n\" demarcates the structure.\n",
    "    \"\\t\" tells us about the depth\n",
    "\n",
    "    If curr_depth is > prev_depth, nest inside previous.\n",
    "    If curr_depth <= prev_depth, remove previously added levels and add curr. Levels to remove: prev_depth - curr_depth + 1\n",
    "    \"\"\"\n",
    "\n",
    "    path: list[str] = []\n",
    "    N, i = len(abstracted), 0\n",
    "    max_length, depth = 0, 0\n",
    "    is_file = False\n",
    "    while i < N:\n",
    "        if abstracted[i] == \"\\n\":\n",
    "            # Check if current absolute path is a file, if yes update max_length\n",
    "            if is_file:\n",
    "                max_length = max(max_length, len(path))\n",
    "\n",
    "            i, prev_depth, depth = i + 1, depth, 0\n",
    "            while abstracted[i] == \"\\t\":\n",
    "                i, depth = i + 1, depth + 1\n",
    "\n",
    "            # Remove nested structure if curr_depth <= prev_depth\n",
    "            if depth <= prev_depth:\n",
    "                extra_depth = prev_depth - depth + 1\n",
    "                while path and extra_depth:\n",
    "                    removed = path.pop()\n",
    "                    if removed == \"/\":\n",
    "                        extra_depth -= 1\n",
    "\n",
    "            # Reset values for upcoming cycle\n",
    "            if depth > 0:\n",
    "                path.append(\"/\")\n",
    "            is_file = False\n",
    "\n",
    "        else:\n",
    "            if abstracted[i] == '.':\n",
    "                is_file = True\n",
    "            path.append(abstracted[i])\n",
    "            i += 1\n",
    "\n",
    "    return max(max_length, len(path) if is_file else 0)\n",
    "\n",
    "# Testing the solution\n",
    "assert lengthLongestPath(\"dir\\n\\tsubdir1\\n\\t\\tfile1.ext\\n\\t\\tsubsubdir1\\n\\tsubdir2\\n\\t\\tsubsubdir2\\n\\t\\t\\tfile2.ext\") == 32\n",
    "assert lengthLongestPath(\"dir\\n\\tsubdir1\\n\\tsubdir2\\n\\t\\tfile.ext\") == 20\n",
    "assert lengthLongestPath(\"file1.txt\\nfile2.txt\\nlongfile.txt\") == 12\n",
    "assert lengthLongestPath(\"dir1\\ndir2\\n\\tsubdir1\\n\\tsubdir2\\n\\t\\tfile.ext\") == 21\n",
    "assert lengthLongestPath(\"dir0\\n\\tabcdefghijklmnopqrstuvw.file\") == 33"
   ]
  },
  {
   "cell_type": "markdown",
   "id": "6646c06b",
   "metadata": {
    "papermill": {
     "duration": 0.004617,
     "end_time": "2024-06-11T03:23:53.019966",
     "exception": false,
     "start_time": "2024-06-11T03:23:53.015349",
     "status": "completed"
    },
    "tags": []
   },
   "source": [
    "LC Medium: Furthest Building you can reach\n",
    "https://leetcode.com/problems/furthest-building-you-can-reach/submissions/1284332700/"
   ]
  },
  {
   "cell_type": "code",
   "execution_count": 23,
   "id": "1cb0678f",
   "metadata": {
    "execution": {
     "iopub.execute_input": "2024-06-11T03:23:53.030279Z",
     "iopub.status.busy": "2024-06-11T03:23:53.029877Z",
     "iopub.status.idle": "2024-06-11T03:23:53.036432Z",
     "shell.execute_reply": "2024-06-11T03:23:53.035920Z"
    },
    "lines_to_next_cell": 1,
    "papermill": {
     "duration": 0.012791,
     "end_time": "2024-06-11T03:23:53.037429",
     "exception": false,
     "start_time": "2024-06-11T03:23:53.024638",
     "status": "completed"
    },
    "tags": []
   },
   "outputs": [],
   "source": [
    "def furthestBuilding(heights: list[int], bricks: int, ladders: int) -> int:\n",
    "    \"\"\"\n",
    "    Maintain the sum of deltas, maintain a max heap of size ladders.\n",
    "    At any point total sum - heap sum > bricks, break\n",
    "    \"\"\"\n",
    "    class MinHeap:\n",
    "        def __init__(self, size: int):\n",
    "            self.capacity: int = size\n",
    "            self.heap: list[int] = []\n",
    "            self.sum: int = 0\n",
    "            self.N = 0\n",
    "\n",
    "        def add(self, delta: int) -> int:\n",
    "            \"\"\"\n",
    "            Adds to the heap and returns the sum of the heap\n",
    "            \"\"\"\n",
    "            if self.N < self.capacity:\n",
    "                heapq.heappush(self.heap, delta)\n",
    "                self.sum, self.N = self.sum + delta, self.N + 1\n",
    "            else:\n",
    "                # Equivalent to a push, then a pop\n",
    "                extra = heapq.heappushpop(self.heap, delta)\n",
    "                self.sum += delta - extra\n",
    "\n",
    "            return self.sum\n",
    "\n",
    "        def __str__(self) -> str:\n",
    "            return ','.join(sorted(map(str, self.heap)))\n",
    "\n",
    "    N = len(heights)\n",
    "    heap = MinHeap(ladders)\n",
    "    heap.add(0)\n",
    "    total_sum, prev = 0, heights[0]\n",
    "    for i in range(N):\n",
    "        prev, delta = heights[i], heights[i] - prev\n",
    "        if delta >= 0:\n",
    "            total_sum += delta\n",
    "            heap_sum = heap.add(delta)\n",
    "            if total_sum - heap_sum > bricks:\n",
    "                return i - 1\n",
    "\n",
    "    return i\n",
    "\n",
    "# Testing the solution\n",
    "assert furthestBuilding([4,2,7,6,9,14,12], 5, 1) == 4\n",
    "assert furthestBuilding([4,12,2,7,3,18,20,3,19], 10, 2) == 7\n",
    "assert furthestBuilding([14,3,19,3], 17, 0) == 3\n",
    "assert furthestBuilding([1,5,1,2,3,4,10000], 4, 1) == 5"
   ]
  },
  {
   "cell_type": "markdown",
   "id": "6eb1b723",
   "metadata": {
    "papermill": {
     "duration": 0.00464,
     "end_time": "2024-06-11T03:23:53.046772",
     "exception": false,
     "start_time": "2024-06-11T03:23:53.042132",
     "status": "completed"
    },
    "tags": []
   },
   "source": [
    "LC Virtual - 3: Weekly Contest 2\n",
    "https://leetcode.com/contest/leetcode-weekly-contest-2"
   ]
  },
  {
   "cell_type": "code",
   "execution_count": 24,
   "id": "415f85c7",
   "metadata": {
    "execution": {
     "iopub.execute_input": "2024-06-11T03:23:53.057085Z",
     "iopub.status.busy": "2024-06-11T03:23:53.056714Z",
     "iopub.status.idle": "2024-06-11T03:23:53.060362Z",
     "shell.execute_reply": "2024-06-11T03:23:53.059869Z"
    },
    "lines_to_next_cell": 1,
    "papermill": {
     "duration": 0.009907,
     "end_time": "2024-06-11T03:23:53.061389",
     "exception": false,
     "start_time": "2024-06-11T03:23:53.051482",
     "status": "completed"
    },
    "tags": []
   },
   "outputs": [],
   "source": [
    "# LC Easy: Q1: Find the difference\n",
    "def findTheDifference(s: str, t: str) -> str:\n",
    "    s_freq = collections.Counter(s)\n",
    "    for ch in t:\n",
    "        if ch not in s_freq:\n",
    "            return ch\n",
    "        else:\n",
    "            s_freq[ch] -= 1\n",
    "            if s_freq[ch] == 0:\n",
    "                s_freq.pop(ch)\n",
    "\n",
    "    return \"\"\n",
    "\n",
    "# Testing the solution\n",
    "assert findTheDifference(\"ab\", \"aba\") == 'a'\n",
    "assert findTheDifference(\"\", \"x\") == 'x'"
   ]
  },
  {
   "cell_type": "code",
   "execution_count": 25,
   "id": "5a4f0ace",
   "metadata": {
    "execution": {
     "iopub.execute_input": "2024-06-11T03:23:53.071656Z",
     "iopub.status.busy": "2024-06-11T03:23:53.071259Z",
     "iopub.status.idle": "2024-06-11T03:23:53.075907Z",
     "shell.execute_reply": "2024-06-11T03:23:53.075412Z"
    },
    "lines_to_next_cell": 1,
    "papermill": {
     "duration": 0.010853,
     "end_time": "2024-06-11T03:23:53.076934",
     "exception": false,
     "start_time": "2024-06-11T03:23:53.066081",
     "status": "completed"
    },
    "tags": []
   },
   "outputs": [
    {
     "name": "stdout",
     "output_type": "stream",
     "text": [
      "{1, 2, 3, 4, 5, 6, 7, 8, 9}\n",
      "{2, 4, 6, 8}\n",
      "{2, 6}\n"
     ]
    }
   ],
   "source": [
    "# LC Medium: Q2: Elimination Game\n",
    "def lastRemainingBrute(N: int) -> int:\n",
    "    not_eliminated: set[int] = set(range(1, N + 1))\n",
    "    skip, dir_ = 1, 1\n",
    "    while len(not_eliminated) >  1:\n",
    "        # RTL\n",
    "        if dir_ == 1:\n",
    "            start = min(not_eliminated)\n",
    "            end, skip, dir_ = N + 1, 2 * abs(skip), -1\n",
    "\n",
    "        # LTR\n",
    "        else:\n",
    "            start = max(not_eliminated)\n",
    "            end, skip, dir_ = 0, -2 * abs(skip), 1\n",
    "\n",
    "        print(not_eliminated)\n",
    "\n",
    "        for i in range(start, end, skip):\n",
    "            not_eliminated.remove(i)\n",
    "\n",
    "    return not_eliminated.pop()\n",
    "\n",
    "# Testing the solution\n",
    "assert lastRemainingBrute(9) == 6"
   ]
  },
  {
   "cell_type": "code",
   "execution_count": 26,
   "id": "b4eab57a",
   "metadata": {
    "execution": {
     "iopub.execute_input": "2024-06-11T03:23:53.087744Z",
     "iopub.status.busy": "2024-06-11T03:23:53.087391Z",
     "iopub.status.idle": "2024-06-11T03:23:53.091660Z",
     "shell.execute_reply": "2024-06-11T03:23:53.091260Z"
    },
    "lines_to_next_cell": 1,
    "papermill": {
     "duration": 0.010874,
     "end_time": "2024-06-11T03:23:53.092709",
     "exception": false,
     "start_time": "2024-06-11T03:23:53.081835",
     "status": "completed"
    },
    "tags": []
   },
   "outputs": [],
   "source": [
    "def lastRemaining(N: int) -> int:\n",
    "    \"\"\"\n",
    "    Binary Search like approach:\n",
    "        If N is odd: Shrink both ends\n",
    "        Elif dir == \"right\": Shrink to right\n",
    "        Else: Shrink to left\n",
    "    \"\"\"\n",
    "    start, end = 1, N\n",
    "    range_length, shrink_size = N, 1\n",
    "    rtl = True\n",
    "    while range_length > 1:\n",
    "        if range_length % 2:\n",
    "            start, end = start + shrink_size, end - shrink_size\n",
    "        elif rtl:\n",
    "            start = start + shrink_size\n",
    "        else:\n",
    "            end = end - shrink_size\n",
    "\n",
    "        rtl = not rtl\n",
    "        range_length, shrink_size = range_length // 2, shrink_size * 2\n",
    "\n",
    "    return start\n",
    "\n",
    "# Testing the solution\n",
    "assert lastRemaining(9) == 6\n",
    "assert lastRemaining(1) == 1"
   ]
  },
  {
   "cell_type": "markdown",
   "id": "d248101f",
   "metadata": {},
   "source": [
    "LC Easy: Rectangle Overlap"
   ]
  },
  {
   "cell_type": "code",
   "execution_count": null,
   "id": "f21603e9",
   "metadata": {
    "lines_to_next_cell": 1
   },
   "outputs": [],
   "source": [
    "def isRectangleOverlap(rec1: list[int], rec2: list[int]) -> bool:\n",
    "    # Store to variables for clarity\n",
    "    (r1_x1, r1_y1, r1_x2, r1_y2) = rec1\n",
    "    (r2_x1, r2_y1, r2_x2, r2_y2) = rec2\n",
    "\n",
    "    # If one rectangle is on the left side of the other\n",
    "    if r1_x2 < r2_x1 or r2_x2 < r1_x1:\n",
    "        return False\n",
    "\n",
    "    # If one rectangle is above the other\n",
    "    elif r1_y2 < r2_y1 or r2_y2 < r1_y1:\n",
    "        return False\n",
    "\n",
    "    # They must overlap\n",
    "    else:\n",
    "        return True"
   ]
  },
  {
   "cell_type": "markdown",
   "id": "0f527bbd",
   "metadata": {},
   "source": [
    "LC Hard: Perfect Rectangle"
   ]
  },
  {
   "cell_type": "code",
   "execution_count": null,
   "id": "091b1311",
   "metadata": {
    "lines_to_next_cell": 1
   },
   "outputs": [],
   "source": [
    "def isRectangleCoverBrute(rectangles: list[list[int]]) -> bool:\n",
    "    \"\"\"\n",
    "    Time: O(N ** 2), Space: O(1)\n",
    "    \"\"\"\n",
    "    def isOverlap(r1: list[int], r2: list[int]) -> bool:\n",
    "        \"\"\"\n",
    "        Time: O(1)\n",
    "        \"\"\"\n",
    "        r1_x1, r1_y1, r1_x2, r1_y2 = r1\n",
    "        r2_x1, r2_y1, r2_x2, r2_y2 = r2\n",
    "\n",
    "        if r1_x2 <= r2_x1 or r2_x2 <= r1_x1:\n",
    "            return False\n",
    "        elif r1_y2 <= r2_y1 or r2_y2 <= r1_y1:\n",
    "            return False\n",
    "        else:\n",
    "            return True\n",
    "\n",
    "    # Number of rectangles\n",
    "    N = len(rectangles)\n",
    "\n",
    "    # Check for overlap\n",
    "    for i in range(N):\n",
    "        for j in range(i + 1, N):\n",
    "            if isOverlap(rectangles[i], rectangles[j]):\n",
    "                return False\n",
    "\n",
    "    # Check if area matches\n",
    "    min_x, min_y, max_x, max_y = math.inf, math.inf, -math.inf, -math.inf\n",
    "    total_area = 0\n",
    "    for i in range(N):\n",
    "        (x1, y1, x2, y2) = rectangles[i]\n",
    "        min_x = min(min_x, x1, x2)\n",
    "        min_y = min(min_y, y1, y2)\n",
    "        max_x = max(max_x, x1, x2)\n",
    "        max_y = max(max_y, y1, y2)\n",
    "        total_area += abs(x1 - x2) * abs(y1 - y2)\n",
    "\n",
    "    return total_area == (max_x - min_x) * (max_y - min_y)\n",
    "\n",
    "# Testing the solution\n",
    "assert isRectangleCoverBrute([[1,1,3,3],[3,1,4,2],[1,3,2,4],[2,2,4,4]]) == False\n",
    "assert isRectangleCoverBrute([[1,1,2,3],[1,3,2,4],[3,1,4,2],[3,2,4,4]]) == False\n",
    "assert isRectangleCoverBrute([[1,1,3,3],[3,1,4,2],[3,2,4,4],[1,3,2,4],[2,3,3,4]]) == True\n",
    "assert isRectangleCoverBrute([[0,0,1,1],[0,1,3,2],[1,0,2,2]]) == False\n",
    "assert isRectangleCoverBrute([[0,0,2,2],[1,1,3,3],[2,0,3,1],[0,3,3,4]]) == False"
   ]
  },
  {
   "cell_type": "code",
   "execution_count": null,
   "id": "786df862",
   "metadata": {
    "lines_to_next_cell": 1
   },
   "outputs": [],
   "source": [
    "# Logic copied from `https://leetcode.com/problems/perfect-rectangle/solutions/2992766/easy-c-solution-o-n-using-map/`\n",
    "# https://leetcode.com/problems/perfect-rectangle/submissions/1284785419/\n",
    "def isRectangleCover(rectangles: list[list[int]]) -> bool:\n",
    "    \"\"\"\n",
    "    - Each internal corner (where rectangles meet but do not form an external corner of the overall rectangle) will be counted an even number of times and should cancel out to zero.\n",
    "    - Each external corner of the overall covering rectangle should appear exactly once.\n",
    "    - Coordinate counts must either cancel out or equal 0\n",
    "\n",
    "    Time: O(N), Space: O(N)\n",
    "    \"\"\"\n",
    "    coord_freq: dict[tuple[int, int], int] = dict()\n",
    "    for rect in rectangles:\n",
    "        # Tuple unpacking\n",
    "        x1, y1, x2, y2 = rect\n",
    "\n",
    "        # Top left, Top Right, Bottom Left, Bottom Right\n",
    "        tl, tr, bl, br = (x1, y2), (x2, y2), (x1, y1), (x2, y1)\n",
    "\n",
    "        # Add bottom left, top right\n",
    "        coord_freq[bl] = coord_freq.get(bl, 0) + 1\n",
    "        coord_freq[tr] = coord_freq.get(tr, 0) + 1\n",
    "\n",
    "        # Subtract top left, bottom right\n",
    "        coord_freq[tl] = coord_freq.get(tl, 0) - 1\n",
    "        coord_freq[br] = coord_freq.get(br, 0) - 1\n",
    "\n",
    "    # Ensure that we have exactly 4 corners with count == 1\n",
    "    corner_count = 0\n",
    "    for freq in coord_freq.values():\n",
    "        if abs(freq) == 1:\n",
    "            corner_count += 1\n",
    "        elif freq != 0:\n",
    "            return False\n",
    "\n",
    "    return corner_count == 4\n",
    "\n",
    "# Testing the solution\n",
    "assert isRectangleCover([[1,1,3,3],[3,1,4,2],[1,3,2,4],[2,2,4,4]]) == False\n",
    "assert isRectangleCover([[1,1,2,3],[1,3,2,4],[3,1,4,2],[3,2,4,4]]) == False\n",
    "assert isRectangleCover([[1,1,3,3],[3,1,4,2],[3,2,4,4],[1,3,2,4],[2,3,3,4]]) == True\n",
    "assert isRectangleCover([[0,0,1,1],[0,1,3,2],[1,0,2,2]]) == False\n",
    "assert isRectangleCover([[0,0,2,2],[1,1,3,3],[2,0,3,1],[0,3,3,4]]) == False"
   ]
  },
  {
   "cell_type": "markdown",
   "id": "907744f5",
   "metadata": {},
   "source": [
    "LC Easy: Relative sort array"
   ]
  },
  {
   "cell_type": "code",
   "execution_count": null,
   "id": "0305397d",
   "metadata": {
    "lines_to_next_cell": 1
   },
   "outputs": [],
   "source": [
    "def relativeSortArray(arr1: list[int], arr2: list[int]) -> list[int]:\n",
    "    # Time: O(N2 + N1 log N1), Space: O(N2)\n",
    "    N1, N2 = len(arr1), len(arr2)\n",
    "    keys: dict[int, int] = {k: i for i, k in enumerate(arr2)}\n",
    "    arr1.sort(key=lambda x: keys.get(x, x + N1))\n",
    "    return arr1\n",
    "\n",
    "# Testing the solution\n",
    "assert relativeSortArray([2,3,1,3,2,4,6,7,9,2,19], [2,1,4,3,9,6]) == [2,2,2,1,4,3,3,9,6,7,19]"
   ]
  },
  {
   "cell_type": "code",
   "execution_count": null,
   "id": "01db997d",
   "metadata": {
    "lines_to_next_cell": 1
   },
   "outputs": [],
   "source": [
    "def relativeSortArrayBetter(arr1: list[int], arr2: list[int]) -> list[int]:\n",
    "    \"\"\"\n",
    "    1. Count occurances of arr1\n",
    "    2. Iterate throught arr2 (for preserving order), while freq[n] exists keep appending and decreasing the freq\n",
    "    3. Sort the left overs and append to the result\n",
    "    \"\"\"\n",
    "    freq: collections.Counter = collections.Counter(arr1)\n",
    "    result: list[int] = []\n",
    "    for n in arr2:\n",
    "        while freq[n]:\n",
    "            result.append(n)\n",
    "            freq[n] -= 1\n",
    "            if freq[n] == 0:\n",
    "                freq.pop(n)\n",
    "\n",
    "    for n in sorted(freq.keys()):\n",
    "        while freq[n]:\n",
    "            result.append(n)\n",
    "            freq[n] -= 1\n",
    "\n",
    "    return result\n",
    "\n",
    "# Testing the solution\n",
    "assert relativeSortArrayBetter([2,3,1,3,2,4,6,7,9,2,19], [2,1,4,3,9,6]) == [2,2,2,1,4,3,3,9,6,7,19]"
   ]
  },
  {
   "cell_type": "markdown",
   "id": "832b965b",
   "metadata": {},
   "source": [
    "LC Easy: Find Pivot Integer\n",
    "Runtime comparison\n",
    "1. C Lang: 0 ms\n",
    "```C\n",
    "// To compile run: gcc test.c -o test.out -ln && ./test.out\n",
    "\n",
    "#include <stdio.h>\n",
    "#include <math.h>\n",
    "\n",
    "int pivotInteger(int n) {\n",
    "    int total = (n * (n + 1)) / 2;    \n",
    "    int result = sqrt(total);\n",
    "    return result * result == total? result: -1;\n",
    "}\n",
    "\n",
    "int main() {\n",
    "    int n;\n",
    "    scanf(\"%d\", &n);\n",
    "    printf(\"%d\\n\", pivotInteger(n));\n",
    "    return 0;\n",
    "}\n",
    "```\n",
    "\n",
    "2. CPP: 0 ms\n",
    "```\n",
    "// To compile run: g++ test.cpp -o test.out && ./test.out\n",
    "\n",
    "#include <cmath>\n",
    "#include <iostream>\n",
    "\n",
    "int pivotInteger(int n) {\n",
    "    int total = (n * (n + 1)) / 2;\n",
    "    int result = sqrt(total);\n",
    "    return result * result == total? result: -1;\n",
    "}\n",
    "\n",
    "int main() {\n",
    "    int n;\n",
    "    std::cin >> n;\n",
    "    printf(\"%d\\n\", pivotInteger(n));\n",
    "    return 0;\n",
    "}\n",
    "```"
   ]
  },
  {
   "cell_type": "code",
   "execution_count": null,
   "id": "16793973",
   "metadata": {
    "lines_to_next_cell": 1
   },
   "outputs": [],
   "source": [
    "# Runtime: 32 ms\n",
    "def pivotInteger(n: int) -> int:\n",
    "    total = (n * (n + 1)) // 2\n",
    "    result = int(math.sqrt(total))\n",
    "    return result if result * result == total else -1\n",
    "\n",
    "# Testing the solution\n",
    "assert pivotInteger(8) == 6\n",
    "assert pivotInteger(3) == -1"
   ]
  },
  {
   "cell_type": "markdown",
   "id": "d251ff7e",
   "metadata": {},
   "source": [
    "LC Virtual - 2: Weekly Contest 3\n",
    "https://leetcode.com/contest/leetcode-weekly-contest-2"
   ]
  },
  {
   "cell_type": "code",
   "execution_count": null,
   "id": "c1bf1e1e",
   "metadata": {
    "lines_to_next_cell": 1
   },
   "outputs": [],
   "source": [
    "# Q1: Is Subsequence: https://leetcode.com/problems/is-subsequence/\n",
    "def isSubsequence(s: str, t: str) -> bool:\n",
    "    \"\"\"\n",
    "    If there are a lot of s in sequence to parse, we could try this approach:\n",
    "        1. Store the indices of each character of t to a hashmap\n",
    "        2. Have a pointer on both s and t\n",
    "        3. For each char s[i], check hm[s[i]] for the indices. j is set to smallest index > j. If no such j is available return False right away.\n",
    "        4. If all elements are done, it is a match.\n",
    "    \"\"\"\n",
    "    N1, N2 = len(s), len(t)\n",
    "    i = j = 0\n",
    "    while i < N1 and j < N2:\n",
    "        if s[i] == t[j]:\n",
    "            i, j = i + 1, j + 1\n",
    "        else:\n",
    "            j += 1\n",
    "    return i == N1\n",
    "\n",
    "# Testing the solution\n",
    "assert isSubsequence(\"abc\", \"ahbgdc\") == True\n",
    "assert isSubsequence(\"axc\", \"ahbgdc\") == False\n",
    "assert isSubsequence(\"\", \"ahbgdc\") == True\n",
    "assert isSubsequence(\"a\", \"\") == False"
   ]
  },
  {
   "cell_type": "code",
   "execution_count": null,
   "id": "36f19a81",
   "metadata": {
    "lines_to_next_cell": 1
   },
   "outputs": [],
   "source": [
    "# Q4: Longest Substring with atleast K repeating characters\n",
    "def longestSubstringBrute(s: str, k: int) -> int:\n",
    "    N = len(s)\n",
    "    max_length = 0\n",
    "    for i in range(N):\n",
    "        freq: dict[str, int] = dict()\n",
    "        for j in range(i, N):\n",
    "            freq[s[j]] = freq.get(s[j], 0) + 1\n",
    "            if not len(list(filter(lambda x: x < k, freq.values()))):\n",
    "                max_length = max(max_length, j - i + 1)\n",
    "\n",
    "    return max_length\n",
    "\n",
    "# Testing the solution\n",
    "assert longestSubstringBrute(\"aaabb\", 3) == 3\n",
    "assert longestSubstringBrute(\"ababbc\", 2) == 5"
   ]
  },
  {
   "cell_type": "code",
   "execution_count": null,
   "id": "e36c423b",
   "metadata": {
    "lines_to_next_cell": 1
   },
   "outputs": [],
   "source": [
    "# Q3: Decode String\n",
    "def decodeString(s: str) -> str:\n",
    "    N = len(s)\n",
    "    stack: list[str] = []\n",
    "    for ch in s:\n",
    "        if ch != \"]\":\n",
    "            stack.append(ch)\n",
    "        else:\n",
    "            acc: list[str] = []\n",
    "            while stack[-1] != '[':\n",
    "                acc.append(stack.pop())\n",
    "\n",
    "            # Pop out '['\n",
    "            stack.pop()\n",
    "\n",
    "            # Reverse accumulated content\n",
    "            acc.reverse()\n",
    "\n",
    "            # Multiply and append as new item\n",
    "            multiplier: list[str] = []\n",
    "            while stack and stack[-1].isnumeric():\n",
    "                multiplier.append(stack.pop())\n",
    "            multiplier.reverse()\n",
    "\n",
    "            stack.append(int(''.join(multiplier)) * ''.join(acc))\n",
    "\n",
    "    return ''.join(stack)\n",
    "\n",
    "# Testing the solution\n",
    "assert decodeString(\"3[a2[c]]\") == \"accaccacc\"\n",
    "assert decodeString(\"3[a]2[bc]\") == \"aaabcbc\"\n",
    "assert decodeString(\"2[abc]3[cd]ef\") == \"abcabccdcdcdef\"\n",
    "assert decodeString(\"11[a]\") == \"aaaaaaaaaaa\""
   ]
  },
  {
   "cell_type": "code",
   "execution_count": null,
   "id": "19f08338",
   "metadata": {},
   "outputs": [],
   "source": [
    "# Q2: Utf-8 Validation\n",
    "def validUtf8(data: list[int]) -> bool:\n",
    "    def num2Bin(n: int) -> str:\n",
    "        return bin(n)[2:].rjust(8, '0')\n",
    "\n",
    "    i, N = 0, len(data)\n",
    "    while i < N:\n",
    "        curr: str = num2Bin(data[i])\n",
    "        idx = curr.find('0')\n",
    "        if idx == 0:\n",
    "            i += 1\n",
    "        elif idx in (2, 3, 4):\n",
    "            # Validate idx - 1 upcoming bytes\n",
    "            if idx - 1 >= N - i:\n",
    "                return False\n",
    "            while idx - 1 > 0:\n",
    "                i, idx = i + 1, idx - 1\n",
    "                if not num2Bin(data[i]).startswith('10'):\n",
    "                    return False\n",
    "            i += 1\n",
    "        else:\n",
    "            return False\n",
    "\n",
    "    return True\n",
    "\n",
    "# Testing the solution\n",
    "assert validUtf8([197, 130, 1]) == True\n",
    "assert validUtf8([235, 140, 4]) == False\n",
    "assert validUtf8([62]) == True\n",
    "assert validUtf8([237,128,128]) == True\n",
    "assert validUtf8([237,128]) == False"
   ]
  }
 ],
 "metadata": {
  "kernelspec": {
   "display_name": "Python 3 (ipykernel)",
   "language": "python",
   "name": "python3"
  },
  "language_info": {
   "codemirror_mode": {
    "name": "ipython",
    "version": 3
   },
   "file_extension": ".py",
   "mimetype": "text/x-python",
   "name": "python",
   "nbconvert_exporter": "python",
   "pygments_lexer": "ipython3",
   "version": "3.11.9"
  },
  "papermill": {
   "default_parameters": {},
   "duration": 2.291276,
   "end_time": "2024-06-11T03:23:53.312239",
   "environment_variables": {},
   "exception": null,
   "input_path": "practice/003.ipynb",
   "output_path": "practice/003.ipynb",
   "parameters": {},
   "start_time": "2024-06-11T03:23:51.020963",
   "version": "2.6.0"
  }
 },
 "nbformat": 4,
 "nbformat_minor": 5
}
