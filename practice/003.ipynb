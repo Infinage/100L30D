{
 "cells": [
  {
   "cell_type": "code",
   "execution_count": 1,
   "id": "829c6a0a",
   "metadata": {
    "execution": {
     "iopub.execute_input": "2024-06-02T13:27:34.736927Z",
     "iopub.status.busy": "2024-06-02T13:27:34.736521Z",
     "iopub.status.idle": "2024-06-02T13:27:35.098983Z",
     "shell.execute_reply": "2024-06-02T13:27:35.098400Z"
    },
    "papermill": {
     "duration": 0.36896,
     "end_time": "2024-06-02T13:27:35.100485",
     "exception": false,
     "start_time": "2024-06-02T13:27:34.731525",
     "status": "completed"
    },
    "tags": []
   },
   "outputs": [],
   "source": [
    "from typing import List, Optional, Generator\n",
    "import pandas as pd\n",
    "import numpy as np\n",
    "import sqlite3\n",
    "import re\n",
    "import io\n",
    "import math\n",
    "import collections\n",
    "import itertools\n",
    "import functools\n",
    "import random\n",
    "import string\n",
    "import tqdm\n",
    "import bisect\n",
    "import heapq\n",
    "\n",
    "conn = sqlite3.connect(\":memory:\")\n",
    "\n",
    "def regexp(expr, item):\n",
    "    reg = re.compile(expr)\n",
    "    return reg.search(item) is not None\n",
    "\n",
    "def read_lc_df(s: str, dtypes: dict[str, str]=dict()) -> pd.DataFrame:\n",
    "    temp = pd.read_csv(io.StringIO(s), sep=\"|\", skiprows=2)\n",
    "    temp = temp.iloc[1:-1, 1:-1]\n",
    "    temp.columns = temp.columns.map(str.strip)\n",
    "    temp = temp.map(lambda x: x if type(x) != str else None if x.strip() == 'null' else x.strip())\n",
    "    temp = temp.astype(dtypes)\n",
    "    return temp\n",
    "\n",
    "conn.create_function(\"REGEXP\", 2, regexp)"
   ]
  },
  {
   "cell_type": "markdown",
   "id": "48286fb2",
   "metadata": {
    "papermill": {
     "duration": 0.003385,
     "end_time": "2024-06-02T13:27:35.107702",
     "exception": false,
     "start_time": "2024-06-02T13:27:35.104317",
     "status": "completed"
    },
    "tags": []
   },
   "source": [
    "#### Helper for Binary tree problems"
   ]
  },
  {
   "cell_type": "code",
   "execution_count": 2,
   "id": "d4eafef6",
   "metadata": {
    "execution": {
     "iopub.execute_input": "2024-06-02T13:27:35.115609Z",
     "iopub.status.busy": "2024-06-02T13:27:35.115063Z",
     "iopub.status.idle": "2024-06-02T13:27:35.122328Z",
     "shell.execute_reply": "2024-06-02T13:27:35.121894Z"
    },
    "lines_to_next_cell": 1,
    "papermill": {
     "duration": 0.012413,
     "end_time": "2024-06-02T13:27:35.123400",
     "exception": false,
     "start_time": "2024-06-02T13:27:35.110987",
     "status": "completed"
    },
    "tags": []
   },
   "outputs": [],
   "source": [
    "class BinaryTreeNode:\n",
    "    def __init__(self, val=0, left=None, right=None):\n",
    "        self.val = val\n",
    "        self.left = left\n",
    "        self.right = right\n",
    "\n",
    "    def to_list(self):\n",
    "        to_visit = [self]\n",
    "        visited = []\n",
    "        while len(to_visit) > 0:\n",
    "            curr = to_visit.pop(0)\n",
    "            if curr:\n",
    "                to_visit.append(curr.left)\n",
    "                to_visit.append(curr.right)\n",
    "                visited.append(curr.val)\n",
    "            else:\n",
    "                visited.append(curr)\n",
    "\n",
    "        while visited and not visited[-1]:\n",
    "            visited.pop()\n",
    "\n",
    "        return visited\n",
    "\n",
    "    def __str__(self):\n",
    "        return str(self.val)\n",
    "\n",
    "    @staticmethod\n",
    "    def from_array(nums: list[int|None]):\n",
    "        '''Create a Tree from a list of nums. Returns the root node.'''\n",
    "        if len(nums) == 0:\n",
    "            return None\n",
    "        elif len(nums) == 1:\n",
    "            return BinaryTreeNode(nums[0])\n",
    "        else:\n",
    "            forest = [BinaryTreeNode(nums[0])]\n",
    "            parent_idx = -1\n",
    "            for i in range(1, len(nums)):\n",
    "\n",
    "                curr = None\n",
    "                if nums[i] is not None:\n",
    "                    curr = BinaryTreeNode(nums[i])\n",
    "                    forest.append(curr)\n",
    "\n",
    "                if i % 2 == 1:\n",
    "                    parent_idx += 1\n",
    "                    forest[parent_idx].left = curr\n",
    "                else:\n",
    "                    forest[parent_idx].right = curr\n",
    "\n",
    "        return forest[0]"
   ]
  },
  {
   "cell_type": "markdown",
   "id": "986c0064",
   "metadata": {
    "papermill": {
     "duration": 0.003248,
     "end_time": "2024-06-02T13:27:35.130006",
     "exception": false,
     "start_time": "2024-06-02T13:27:35.126758",
     "status": "completed"
    },
    "tags": []
   },
   "source": [
    "#### Helper for Singly Linked lists"
   ]
  },
  {
   "cell_type": "code",
   "execution_count": 3,
   "id": "cccf3cca",
   "metadata": {
    "execution": {
     "iopub.execute_input": "2024-06-02T13:27:35.138573Z",
     "iopub.status.busy": "2024-06-02T13:27:35.138092Z",
     "iopub.status.idle": "2024-06-02T13:27:35.142533Z",
     "shell.execute_reply": "2024-06-02T13:27:35.142093Z"
    },
    "lines_to_next_cell": 1,
    "papermill": {
     "duration": 0.009538,
     "end_time": "2024-06-02T13:27:35.143632",
     "exception": false,
     "start_time": "2024-06-02T13:27:35.134094",
     "status": "completed"
    },
    "tags": []
   },
   "outputs": [],
   "source": [
    "class ListNode:\n",
    "    def __init__(self, val=0, next=None):\n",
    "        self.val = val\n",
    "        self.next = next\n",
    "\n",
    "    def __str__(self):\n",
    "        return str(self.val)\n",
    "\n",
    "    @staticmethod\n",
    "    def to_singly_linked_list(nums: list[int]):\n",
    "        root = prev = None\n",
    "        for n in nums:\n",
    "            curr = ListNode(n)\n",
    "            # Init once\n",
    "            if not root:\n",
    "                root = curr\n",
    "            if prev:\n",
    "                prev.next = curr\n",
    "            prev = curr\n",
    "\n",
    "        return root\n",
    "\n",
    "    def to_list(self) -> list[int]:\n",
    "        result = []\n",
    "        curr = self\n",
    "        while curr:\n",
    "            result.append(curr.val)\n",
    "            curr = curr.next\n",
    "        return result"
   ]
  },
  {
   "cell_type": "markdown",
   "id": "3306cb42",
   "metadata": {
    "papermill": {
     "duration": 0.003384,
     "end_time": "2024-06-02T13:27:35.150354",
     "exception": false,
     "start_time": "2024-06-02T13:27:35.146970",
     "status": "completed"
    },
    "tags": []
   },
   "source": [
    "#### Utility to generate random BST"
   ]
  },
  {
   "cell_type": "code",
   "execution_count": 4,
   "id": "8a9a7fb1",
   "metadata": {
    "execution": {
     "iopub.execute_input": "2024-06-02T13:27:35.158187Z",
     "iopub.status.busy": "2024-06-02T13:27:35.157700Z",
     "iopub.status.idle": "2024-06-02T13:27:35.161956Z",
     "shell.execute_reply": "2024-06-02T13:27:35.161452Z"
    },
    "lines_to_next_cell": 1,
    "papermill": {
     "duration": 0.009403,
     "end_time": "2024-06-02T13:27:35.163055",
     "exception": false,
     "start_time": "2024-06-02T13:27:35.153652",
     "status": "completed"
    },
    "tags": []
   },
   "outputs": [],
   "source": [
    "def generateBST(N: int, min_: int, max_: int) -> BinaryTreeNode|None:\n",
    "    def insert(curr: BinaryTreeNode|None, n: int) -> BinaryTreeNode:\n",
    "        if not curr:\n",
    "            curr = BinaryTreeNode(n)\n",
    "        elif curr.val < n:\n",
    "            curr.right = insert(curr.right, n)\n",
    "        else:\n",
    "            curr.left = insert(curr.left, n)\n",
    "\n",
    "        return curr\n",
    "\n",
    "    assert N <= max_ - min_, \"Number of available samples must be >= N\"\n",
    "    root: BinaryTreeNode|None = None\n",
    "    for n in np.random.choice(np.arange(min_, max_), size=N, replace=False):\n",
    "        root = insert(root, n)\n",
    "\n",
    "    return root"
   ]
  },
  {
   "cell_type": "markdown",
   "id": "9a722649",
   "metadata": {
    "papermill": {
     "duration": 0.003165,
     "end_time": "2024-06-02T13:27:35.169666",
     "exception": false,
     "start_time": "2024-06-02T13:27:35.166501",
     "status": "completed"
    },
    "tags": []
   },
   "source": [
    "Best time to buy and sell stocks - I"
   ]
  },
  {
   "cell_type": "code",
   "execution_count": 5,
   "id": "4e905b5e",
   "metadata": {
    "execution": {
     "iopub.execute_input": "2024-06-02T13:27:35.177297Z",
     "iopub.status.busy": "2024-06-02T13:27:35.176841Z",
     "iopub.status.idle": "2024-06-02T13:27:35.180435Z",
     "shell.execute_reply": "2024-06-02T13:27:35.180000Z"
    },
    "lines_to_next_cell": 1,
    "papermill": {
     "duration": 0.008619,
     "end_time": "2024-06-02T13:27:35.181529",
     "exception": false,
     "start_time": "2024-06-02T13:27:35.172910",
     "status": "completed"
    },
    "tags": []
   },
   "outputs": [],
   "source": [
    "def stocks1(prices: list[int]) -> int:\n",
    "    min_, max_profit = prices[0], 0\n",
    "    for price in prices:\n",
    "        max_profit = max(max_profit, price - min_)\n",
    "        min_ = min(min_, price)\n",
    "\n",
    "    return max_profit\n",
    "\n",
    "# Testing the solution\n",
    "assert stocks1([7,1,5,3,6,4]) == 5\n",
    "assert stocks1([7,6,4,3,1]) == 0"
   ]
  },
  {
   "cell_type": "markdown",
   "id": "b36063c0",
   "metadata": {
    "papermill": {
     "duration": 0.003259,
     "end_time": "2024-06-02T13:27:35.188128",
     "exception": false,
     "start_time": "2024-06-02T13:27:35.184869",
     "status": "completed"
    },
    "tags": []
   },
   "source": [
    "Weekly Contest 398: 19th May 2024"
   ]
  },
  {
   "cell_type": "code",
   "execution_count": 6,
   "id": "2d35821a",
   "metadata": {
    "execution": {
     "iopub.execute_input": "2024-06-02T13:27:35.195805Z",
     "iopub.status.busy": "2024-06-02T13:27:35.195332Z",
     "iopub.status.idle": "2024-06-02T13:27:35.199543Z",
     "shell.execute_reply": "2024-06-02T13:27:35.199117Z"
    },
    "lines_to_next_cell": 1,
    "papermill": {
     "duration": 0.009112,
     "end_time": "2024-06-02T13:27:35.200596",
     "exception": false,
     "start_time": "2024-06-02T13:27:35.191484",
     "status": "completed"
    },
    "tags": []
   },
   "outputs": [],
   "source": [
    "# Q1\n",
    "def isArraySpecial(nums: list[int]) -> bool:\n",
    "    N = len(nums)\n",
    "    for i in range(N - 1):\n",
    "        i1, i2 = nums[i] % 2, nums[i + 1] % 2\n",
    "        if (i1 == 0 and i2 == 0) or (i1 == 1 and i2 == 1):\n",
    "            return False\n",
    "    else:\n",
    "        return True\n",
    "\n",
    "# Testing the solution\n",
    "assert isArraySpecial([4,3,1,6]) == False\n",
    "assert isArraySpecial([2,1,4]) == True\n",
    "assert isArraySpecial([1]) == True"
   ]
  },
  {
   "cell_type": "code",
   "execution_count": 7,
   "id": "ce3280b2",
   "metadata": {
    "execution": {
     "iopub.execute_input": "2024-06-02T13:27:35.208088Z",
     "iopub.status.busy": "2024-06-02T13:27:35.207663Z",
     "iopub.status.idle": "2024-06-02T13:27:35.212614Z",
     "shell.execute_reply": "2024-06-02T13:27:35.212169Z"
    },
    "lines_to_next_cell": 1,
    "papermill": {
     "duration": 0.009748,
     "end_time": "2024-06-02T13:27:35.213618",
     "exception": false,
     "start_time": "2024-06-02T13:27:35.203870",
     "status": "completed"
    },
    "tags": []
   },
   "outputs": [],
   "source": [
    "# Q2\n",
    "def isArraySpecial2(nums: list[int], queries: list[list[int]]) -> list[bool]:\n",
    "    N = len(nums)\n",
    "    parity: list[int] = list(map(lambda x: x % 2, nums))\n",
    "\n",
    "    @functools.cache\n",
    "    def backtrack(start: int, end: int) -> bool:\n",
    "        if start == end:\n",
    "            return True\n",
    "        else:\n",
    "            mid = (start + end) // 2\n",
    "            isSpecial =  parity[mid] != parity[mid + 1] and backtrack(start, mid) and backtrack(mid + 1, end)\n",
    "            return isSpecial\n",
    "\n",
    "    result: list[bool] = []\n",
    "    for i, j in queries:\n",
    "        result.append(backtrack(i, j))\n",
    "\n",
    "    return result\n",
    "\n",
    "# Testing the solution\n",
    "assert isArraySpecial2([4,3,1,6], [[0,2],[2,3]]) == [False, True]\n",
    "assert isArraySpecial2([3,4,1,2,6], [[0,4]]) == [False]"
   ]
  },
  {
   "cell_type": "code",
   "execution_count": 8,
   "id": "7a8941ed",
   "metadata": {
    "execution": {
     "iopub.execute_input": "2024-06-02T13:27:35.221506Z",
     "iopub.status.busy": "2024-06-02T13:27:35.221006Z",
     "iopub.status.idle": "2024-06-02T13:27:35.279137Z",
     "shell.execute_reply": "2024-06-02T13:27:35.278670Z"
    },
    "lines_to_next_cell": 1,
    "papermill": {
     "duration": 0.063176,
     "end_time": "2024-06-02T13:27:35.280254",
     "exception": false,
     "start_time": "2024-06-02T13:27:35.217078",
     "status": "completed"
    },
    "tags": []
   },
   "outputs": [],
   "source": [
    "# Q3\n",
    "def sumDigitDifferencesBrute(nums: list[int]) -> int:\n",
    "    length = len(str(nums[0]))\n",
    "    count = 0\n",
    "    for n1, n2 in itertools.combinations(nums, r=2):\n",
    "        n1_str, n2_str = str(n1), str(n2)\n",
    "        for i in range(length):\n",
    "            if n1_str[i] != n2_str[i]:\n",
    "                count += 1\n",
    "\n",
    "    return count\n",
    "\n",
    "def sumDigitDifferences(nums: list[int]) -> int:\n",
    "    def count(arr: list[int]) -> int:\n",
    "        N = len(arr)\n",
    "        temp = 0\n",
    "        for i in range(N - 1):\n",
    "            temp += arr[i] * sum(arr[i + 1:])\n",
    "\n",
    "        return temp\n",
    "\n",
    "    length = len(str(nums[0]))\n",
    "    digits_dict: dict[int, dict[str, int]] = dict()\n",
    "    for n in nums:\n",
    "        n_str = str(n)\n",
    "        for i in range(length):\n",
    "            positions = digits_dict.get(i, dict())\n",
    "            positions[n_str[i]] = positions.get(n_str[i], 0) + 1\n",
    "            digits_dict[i] = positions\n",
    "\n",
    "    result: int = 0\n",
    "    for i in range(length):\n",
    "        result += count(list(digits_dict[i].values()))\n",
    "\n",
    "    return result\n",
    "\n",
    "# Testing the solution\n",
    "for i in range(100):\n",
    "    temp = list(np.random.randint(10, 100, 50))\n",
    "    assert sumDigitDifferencesBrute(temp) == sumDigitDifferences(temp)"
   ]
  },
  {
   "cell_type": "markdown",
   "id": "6d69bfc3",
   "metadata": {
    "papermill": {
     "duration": 0.003273,
     "end_time": "2024-06-02T13:27:35.286978",
     "exception": false,
     "start_time": "2024-06-02T13:27:35.283705",
     "status": "completed"
    },
    "tags": []
   },
   "source": [
    "Sum of XOR totals\n",
    "Easy LC: https://leetcode.com/problems/sum-of-all-subset-xor-totals"
   ]
  },
  {
   "cell_type": "code",
   "execution_count": 9,
   "id": "3e8f2bd0",
   "metadata": {
    "execution": {
     "iopub.execute_input": "2024-06-02T13:27:35.294763Z",
     "iopub.status.busy": "2024-06-02T13:27:35.294257Z",
     "iopub.status.idle": "2024-06-02T13:27:35.298219Z",
     "shell.execute_reply": "2024-06-02T13:27:35.297748Z"
    },
    "lines_to_next_cell": 1,
    "papermill": {
     "duration": 0.008826,
     "end_time": "2024-06-02T13:27:35.299198",
     "exception": false,
     "start_time": "2024-06-02T13:27:35.290372",
     "status": "completed"
    },
    "tags": []
   },
   "outputs": [],
   "source": [
    "# https://leetcode.com/problems/sum-of-all-subset-xor-totals/submissions/1263288868\n",
    "def subsetXORSumMemo(nums: list[int]) -> int:\n",
    "    @functools.cache\n",
    "    def backtrack(i: int, curr: int) -> int:\n",
    "        if i == N:\n",
    "            return curr\n",
    "        else:\n",
    "            return backtrack(i + 1, curr ^ nums[i]) + backtrack(i + 1, curr)\n",
    "\n",
    "    N = len(nums)\n",
    "    return backtrack(0, 0)\n",
    "\n",
    "# Testing the solution\n",
    "assert subsetXORSumMemo([1,3]) == 6\n",
    "assert subsetXORSumMemo([5,1,6]) == 28"
   ]
  },
  {
   "cell_type": "markdown",
   "id": "9b399353",
   "metadata": {
    "papermill": {
     "duration": 0.003257,
     "end_time": "2024-06-02T13:27:35.305789",
     "exception": false,
     "start_time": "2024-06-02T13:27:35.302532",
     "status": "completed"
    },
    "tags": []
   },
   "source": [
    "Largest Rectangle in a histogram"
   ]
  },
  {
   "cell_type": "code",
   "execution_count": 10,
   "id": "1eb77032",
   "metadata": {
    "execution": {
     "iopub.execute_input": "2024-06-02T13:27:35.313448Z",
     "iopub.status.busy": "2024-06-02T13:27:35.312990Z",
     "iopub.status.idle": "2024-06-02T13:27:35.319386Z",
     "shell.execute_reply": "2024-06-02T13:27:35.318931Z"
    },
    "lines_to_next_cell": 1,
    "papermill": {
     "duration": 0.0114,
     "end_time": "2024-06-02T13:27:35.320526",
     "exception": false,
     "start_time": "2024-06-02T13:27:35.309126",
     "status": "completed"
    },
    "tags": []
   },
   "outputs": [],
   "source": [
    "# https://leetcode.com/problems/largest-rectangle-in-histogram/submissions/1266278725\n",
    "def largestRectangleArea(heights: list[int]) -> int:\n",
    "    \"\"\"\n",
    "    Count the number of rectangles to the right that are greater than or equal to self\n",
    "    Count the number of rectangles to the left that are greater than or equal to self\n",
    "    \"\"\"\n",
    "\n",
    "    N = len(heights)\n",
    "\n",
    "    right_dp: list[int] = [N - i for i in range(N)]\n",
    "    left_dp: list[int] = [i + 1 for i in range(N)]\n",
    "    stack: list[tuple[int, int]] = []\n",
    "\n",
    "    for i in range(N):\n",
    "        curr: tuple[int, int] = (heights[i], i)\n",
    "        while stack and stack[-1][0] > curr[0]:\n",
    "            prev = stack.pop()\n",
    "            right_dp[prev[1]] = curr[1] - prev[1]\n",
    "        stack.append(curr)\n",
    "\n",
    "    stack.clear()\n",
    "\n",
    "    for i in range(N - 1, -1, -1):\n",
    "        curr = (heights[i], i)\n",
    "        while stack and stack[-1][0] > curr[0]:\n",
    "            prev = stack.pop()\n",
    "            left_dp[prev[1]] = prev[1] - curr[1]\n",
    "        stack.append(curr)\n",
    "\n",
    "    max_ = 0\n",
    "    for i in range(N):\n",
    "        max_ = max(max_, (left_dp[i] + right_dp[i] - 1) * heights[i])\n",
    "\n",
    "    return max_\n",
    "\n",
    "# Testing the solution\n",
    "assert largestRectangleArea([2,1,5,6,2,3]) == 10\n",
    "assert largestRectangleArea([2,4]) == 4\n",
    "assert largestRectangleArea([2,1,2]) == 3"
   ]
  },
  {
   "cell_type": "markdown",
   "id": "05d83699",
   "metadata": {
    "papermill": {
     "duration": 0.003295,
     "end_time": "2024-06-02T13:27:35.327227",
     "exception": false,
     "start_time": "2024-06-02T13:27:35.323932",
     "status": "completed"
    },
    "tags": []
   },
   "source": [
    "Container Queries - CN Weekly - 3"
   ]
  },
  {
   "cell_type": "code",
   "execution_count": 11,
   "id": "e9d3612c",
   "metadata": {
    "execution": {
     "iopub.execute_input": "2024-06-02T13:27:35.335231Z",
     "iopub.status.busy": "2024-06-02T13:27:35.334775Z",
     "iopub.status.idle": "2024-06-02T13:27:35.340403Z",
     "shell.execute_reply": "2024-06-02T13:27:35.339955Z"
    },
    "lines_to_next_cell": 1,
    "papermill": {
     "duration": 0.010675,
     "end_time": "2024-06-02T13:27:35.341417",
     "exception": false,
     "start_time": "2024-06-02T13:27:35.330742",
     "status": "completed"
    },
    "tags": []
   },
   "outputs": [],
   "source": [
    "def containerQueries(N: int, S: str, query_len: int, queries: list[list[int]]) -> list[int]:\n",
    "    positions: dict[str, collections.deque[int]] = dict()\n",
    "    for i in range(N):\n",
    "        indices = positions.get(S[i], collections.deque())\n",
    "        indices.append(i)\n",
    "        positions[S[i]] = indices\n",
    "\n",
    "    end_pos = 0\n",
    "    for k in positions:\n",
    "        end_pos = max(end_pos, positions[k].popleft())\n",
    "\n",
    "    dp: list[int] = [end_pos]\n",
    "    for i in range(1, N):\n",
    "        prev = S[i - 1]\n",
    "        next_pos = max(dp[-1], positions[prev].popleft() if positions[prev] else N)\n",
    "        dp.append(next_pos)\n",
    "\n",
    "    result: list[int] = []\n",
    "    for i, j in queries:\n",
    "        if j >= dp[i]:\n",
    "            result.append(1)\n",
    "        else:\n",
    "            result.append(0)\n",
    "\n",
    "    return result\n",
    "\n",
    "# Testing the solution\n",
    "assert containerQueries(8, \"yukppuyk\", 2, [[0,4],[5,7]]) == [1, 0]"
   ]
  },
  {
   "cell_type": "markdown",
   "id": "bdba0c2a",
   "metadata": {
    "papermill": {
     "duration": 0.003258,
     "end_time": "2024-06-02T13:27:35.347975",
     "exception": false,
     "start_time": "2024-06-02T13:27:35.344717",
     "status": "completed"
    },
    "tags": []
   },
   "source": [
    "LC Biweekly 131: 25th May 2024"
   ]
  },
  {
   "cell_type": "code",
   "execution_count": 12,
   "id": "65434525",
   "metadata": {
    "execution": {
     "iopub.execute_input": "2024-06-02T13:27:35.355739Z",
     "iopub.status.busy": "2024-06-02T13:27:35.355266Z",
     "iopub.status.idle": "2024-06-02T13:27:35.359175Z",
     "shell.execute_reply": "2024-06-02T13:27:35.358734Z"
    },
    "lines_to_next_cell": 1,
    "papermill": {
     "duration": 0.008919,
     "end_time": "2024-06-02T13:27:35.360240",
     "exception": false,
     "start_time": "2024-06-02T13:27:35.351321",
     "status": "completed"
    },
    "tags": []
   },
   "outputs": [],
   "source": [
    "# Q1\n",
    "def duplicateNumbersXOR(nums: list[int]) -> int:\n",
    "    set_: set[int] = set()\n",
    "    result: int = 0\n",
    "    for n in nums:\n",
    "        if n not in set_:\n",
    "            set_.add(n)\n",
    "        else:\n",
    "            result = result ^ n\n",
    "\n",
    "    return result\n",
    "\n",
    "# Testing the solution\n",
    "assert duplicateNumbersXOR([1,2,1,3]) == 1\n",
    "assert duplicateNumbersXOR([1,2,3]) == 0\n",
    "assert duplicateNumbersXOR([1,2,2,1]) == 3"
   ]
  },
  {
   "cell_type": "code",
   "execution_count": 13,
   "id": "dcade46b",
   "metadata": {
    "execution": {
     "iopub.execute_input": "2024-06-02T13:27:35.367814Z",
     "iopub.status.busy": "2024-06-02T13:27:35.367378Z",
     "iopub.status.idle": "2024-06-02T13:27:35.372170Z",
     "shell.execute_reply": "2024-06-02T13:27:35.371644Z"
    },
    "lines_to_next_cell": 1,
    "papermill": {
     "duration": 0.009841,
     "end_time": "2024-06-02T13:27:35.373386",
     "exception": false,
     "start_time": "2024-06-02T13:27:35.363545",
     "status": "completed"
    },
    "tags": []
   },
   "outputs": [],
   "source": [
    "# Q2\n",
    "def occurrencesOfElement(nums: list[int], queries: list[int], x: int) -> list[int]:\n",
    "    N = len(nums)\n",
    "    occurance: int = 0\n",
    "    indices: dict[int, int] = dict()\n",
    "    for i in range(N):\n",
    "        if nums[i] == x:\n",
    "            indices[occurance] = i\n",
    "            occurance += 1\n",
    "\n",
    "    result: list[int] = []\n",
    "    for q in queries:\n",
    "        result.append(indices.get(q - 1, -1))\n",
    "\n",
    "    return result\n",
    "\n",
    "# Testing the solution\n",
    "assert occurrencesOfElement([1,1,1], [1,2,3,4], 1) == [0,1,2,-1]\n",
    "assert occurrencesOfElement([1,3,1,7], [1,3,2,4], 1) == [0,-1,2,-1]\n",
    "assert occurrencesOfElement([1,2,3], [10], 5) == [-1]"
   ]
  },
  {
   "cell_type": "code",
   "execution_count": 14,
   "id": "044267dd",
   "metadata": {
    "execution": {
     "iopub.execute_input": "2024-06-02T13:27:35.381167Z",
     "iopub.status.busy": "2024-06-02T13:27:35.380683Z",
     "iopub.status.idle": "2024-06-02T13:27:35.386416Z",
     "shell.execute_reply": "2024-06-02T13:27:35.385890Z"
    },
    "papermill": {
     "duration": 0.010838,
     "end_time": "2024-06-02T13:27:35.387628",
     "exception": false,
     "start_time": "2024-06-02T13:27:35.376790",
     "status": "completed"
    },
    "tags": []
   },
   "outputs": [],
   "source": [
    "# Q3\n",
    "def queryResults(limit: int, queries: list[list[int]]) -> list[int]:\n",
    "    color_map: dict[int, set[int]] = dict()\n",
    "    ball_map: dict[int, int] = dict()\n",
    "\n",
    "    result: list[int] = []\n",
    "    for ball, color in queries:\n",
    "        old_color = ball_map.get(ball, 0)\n",
    "        if old_color > 0:\n",
    "            color_map[old_color].remove(ball)\n",
    "            if len(color_map[old_color]) == 0:\n",
    "                del color_map[old_color]\n",
    "\n",
    "        balls = color_map.get(color, set())\n",
    "        balls.add(ball)\n",
    "        color_map[color] = balls\n",
    "        ball_map[ball] = color\n",
    "\n",
    "        result.append(len(color_map))\n",
    "\n",
    "    return result\n",
    "\n",
    "# Testing the solution\n",
    "assert queryResults(4, [[0,1],[1,2],[2,2],[3,4],[4,5]]) == [1,2,2,3,4]\n",
    "assert queryResults(4, [[1,4],[2,5],[1,3],[3,4]]) == [1,2,2,3]\n",
    "assert queryResults(1, [[0,10],[1,10]]) == [1,1]"
   ]
  },
  {
   "cell_type": "code",
   "execution_count": 15,
   "id": "ba1be302",
   "metadata": {
    "execution": {
     "iopub.execute_input": "2024-06-02T13:27:35.395137Z",
     "iopub.status.busy": "2024-06-02T13:27:35.394673Z",
     "iopub.status.idle": "2024-06-02T13:27:35.399610Z",
     "shell.execute_reply": "2024-06-02T13:27:35.399199Z"
    },
    "lines_to_next_cell": 1,
    "papermill": {
     "duration": 0.009757,
     "end_time": "2024-06-02T13:27:35.400692",
     "exception": false,
     "start_time": "2024-06-02T13:27:35.390935",
     "status": "completed"
    },
    "tags": []
   },
   "outputs": [],
   "source": [
    "# Q4: TLE :(\n",
    "import bisect\n",
    "\n",
    "def getResultsBrute(queries: list[list[int]]) -> list[bool]:\n",
    "    obstacles: list[int] = [0]\n",
    "    result: list[bool] = []\n",
    "\n",
    "    for q in queries:\n",
    "        if len(q) == 2:\n",
    "            bisect.insort(obstacles, q[1])\n",
    "        else:\n",
    "            x, sz = q[1], q[2]\n",
    "            idx = bisect.bisect_left(obstacles, x)\n",
    "            max_size = x - obstacles[idx - 1]\n",
    "            for i in range(1, idx):\n",
    "                max_size = max(max_size, obstacles[i] - obstacles[i - 1])\n",
    "\n",
    "            result.append(max_size >= sz)\n",
    "\n",
    "    return result\n",
    "\n",
    "# Testing the solution\n",
    "assert getResultsBrute([[1,2],[2,3,3],[2,3,1],[2,2,2]]) == [False, True, True]\n",
    "assert getResultsBrute([[1,7],[2,7,6],[1,2],[2,7,5],[2,7,6]]) == [True,True,False]"
   ]
  },
  {
   "cell_type": "markdown",
   "id": "fc475105",
   "metadata": {
    "papermill": {
     "duration": 0.003193,
     "end_time": "2024-06-02T13:27:35.407220",
     "exception": false,
     "start_time": "2024-06-02T13:27:35.404027",
     "status": "completed"
    },
    "tags": []
   },
   "source": [
    "CN Weekly Contest"
   ]
  },
  {
   "cell_type": "code",
   "execution_count": 16,
   "id": "3fbb5da0",
   "metadata": {
    "execution": {
     "iopub.execute_input": "2024-06-02T13:27:35.414707Z",
     "iopub.status.busy": "2024-06-02T13:27:35.414251Z",
     "iopub.status.idle": "2024-06-02T13:27:35.419779Z",
     "shell.execute_reply": "2024-06-02T13:27:35.419334Z"
    },
    "lines_to_next_cell": 1,
    "papermill": {
     "duration": 0.010345,
     "end_time": "2024-06-02T13:27:35.420801",
     "exception": false,
     "start_time": "2024-06-02T13:27:35.410456",
     "status": "completed"
    },
    "tags": []
   },
   "outputs": [],
   "source": [
    "# Q2 - Easy\n",
    "def minimumLength(s1: str, s2: str) -> int:\n",
    "    N, M = len(s1), len(s2)\n",
    "\n",
    "    if s1 in s2:\n",
    "        return M\n",
    "\n",
    "    elif s2 in s1:\n",
    "        return N\n",
    "\n",
    "    else:\n",
    "        # Store the indices where s1[0] and s1[-1] are found\n",
    "        left: list[int] = []\n",
    "        right: list[int] = []\n",
    "        for i in range(M):\n",
    "            if s2[i] == s1[0]:\n",
    "                right.append(i)\n",
    "            if s2[i] == s1[-1]:\n",
    "                left.append(i)\n",
    "\n",
    "        # Ans is always possible\n",
    "        min_ = N + M\n",
    "\n",
    "        # Check right concatentation\n",
    "        for i in right:\n",
    "            overlap_length = M - i\n",
    "            if s2[i:] == s1[:overlap_length]:\n",
    "                min_ = min(min_, N + M - overlap_length)\n",
    "\n",
    "        # Check left concatentation\n",
    "        for i in left:\n",
    "            overlap_length = i + 1\n",
    "            if s2[:i + 1] == s1[-overlap_length:]:\n",
    "                min_ = min(min_, N + M - overlap_length)\n",
    "\n",
    "        return min_\n",
    "\n",
    "# Testing the solution\n",
    "assert minimumLength(\"abcabc\", \"aaabc\") == 8\n",
    "assert minimumLength(\"bibia\", \"aibia\") == 9\n",
    "assert minimumLength(\"aabcabcd\", \"abc\") == 8"
   ]
  },
  {
   "cell_type": "markdown",
   "id": "e7276dd3",
   "metadata": {
    "papermill": {
     "duration": 0.003323,
     "end_time": "2024-06-02T13:27:35.427565",
     "exception": false,
     "start_time": "2024-06-02T13:27:35.424242",
     "status": "completed"
    },
    "tags": []
   },
   "source": [
    "LC Medium: Count number of primes\n",
    "https://leetcode.com/problems/count-primes/"
   ]
  },
  {
   "cell_type": "code",
   "execution_count": 17,
   "id": "12043883",
   "metadata": {
    "execution": {
     "iopub.execute_input": "2024-06-02T13:27:35.435429Z",
     "iopub.status.busy": "2024-06-02T13:27:35.435022Z",
     "iopub.status.idle": "2024-06-02T13:27:35.439216Z",
     "shell.execute_reply": "2024-06-02T13:27:35.438720Z"
    },
    "papermill": {
     "duration": 0.009302,
     "end_time": "2024-06-02T13:27:35.440330",
     "exception": false,
     "start_time": "2024-06-02T13:27:35.431028",
     "status": "completed"
    },
    "tags": []
   },
   "outputs": [],
   "source": [
    "# https://leetcode.com/problems/count-primes/submissions/1275257285\n",
    "def countPrimes(N: int) -> int:\n",
    "\n",
    "    if N == 0:\n",
    "        return 0\n",
    "\n",
    "    soe: list[bool] = [True] * (N + 1)\n",
    "    soe[0] = soe[1] = False\n",
    "    i = 2\n",
    "    while i * i <= N:\n",
    "        if soe[i]:\n",
    "            \"\"\"\n",
    "            j = i\n",
    "            while i * j <= N:\n",
    "                soe[i * j] = False\n",
    "                j += 1\n",
    "            \"\"\"\n",
    "            # List slicing is much faster thanks to the C impl backend\n",
    "            soe[i*i:N+1:i] = [False] * len(soe[i*i:N+1:i])\n",
    "        i += 1\n",
    "\n",
    "    return sum(soe)\n",
    "\n",
    "# Testing the solution\n",
    "assert countPrimes(10) == 4\n",
    "assert countPrimes(0) == countPrimes(1) == 0\n",
    "assert countPrimes(100) == 25"
   ]
  }
 ],
 "metadata": {
  "kernelspec": {
   "display_name": "Python 3 (ipykernel)",
   "language": "python",
   "name": "python3"
  },
  "language_info": {
   "codemirror_mode": {
    "name": "ipython",
    "version": 3
   },
   "file_extension": ".py",
   "mimetype": "text/x-python",
   "name": "python",
   "nbconvert_exporter": "python",
   "pygments_lexer": "ipython3",
   "version": "3.11.9"
  },
  "papermill": {
   "default_parameters": {},
   "duration": 2.053866,
   "end_time": "2024-06-02T13:27:35.659160",
   "environment_variables": {},
   "exception": null,
   "input_path": "practice/003.ipynb",
   "output_path": "practice/003.ipynb",
   "parameters": {},
   "start_time": "2024-06-02T13:27:33.605294",
   "version": "2.6.0"
  }
 },
 "nbformat": 4,
 "nbformat_minor": 5
}