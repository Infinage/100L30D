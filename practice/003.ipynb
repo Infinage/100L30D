{
 "cells": [
  {
   "cell_type": "code",
   "execution_count": 1,
   "id": "829c6a0a",
   "metadata": {
    "execution": {
     "iopub.execute_input": "2024-05-19T04:04:46.401689Z",
     "iopub.status.busy": "2024-05-19T04:04:46.401272Z",
     "iopub.status.idle": "2024-05-19T04:04:46.753505Z",
     "shell.execute_reply": "2024-05-19T04:04:46.753028Z"
    },
    "papermill": {
     "duration": 0.356929,
     "end_time": "2024-05-19T04:04:46.754948",
     "exception": false,
     "start_time": "2024-05-19T04:04:46.398019",
     "status": "completed"
    },
    "tags": []
   },
   "outputs": [],
   "source": [
    "from typing import List, Optional, Generator\n",
    "import pandas as pd\n",
    "import numpy as np\n",
    "import sqlite3\n",
    "import re\n",
    "import io\n",
    "import math\n",
    "import collections\n",
    "import itertools\n",
    "import functools\n",
    "import random\n",
    "import string\n",
    "import tqdm\n",
    "import bisect\n",
    "import heapq\n",
    "\n",
    "conn = sqlite3.connect(\":memory:\")\n",
    "\n",
    "def regexp(expr, item):\n",
    "    reg = re.compile(expr)\n",
    "    return reg.search(item) is not None\n",
    "\n",
    "def read_lc_df(s: str, dtypes: dict[str, str]=dict()) -> pd.DataFrame:\n",
    "    temp = pd.read_csv(io.StringIO(s), sep=\"|\", skiprows=2)\n",
    "    temp = temp.iloc[1:-1, 1:-1]\n",
    "    temp.columns = temp.columns.map(str.strip)\n",
    "    temp = temp.map(lambda x: x if type(x) != str else None if x.strip() == 'null' else x.strip())\n",
    "    temp = temp.astype(dtypes)\n",
    "    return temp\n",
    "\n",
    "conn.create_function(\"REGEXP\", 2, regexp)"
   ]
  },
  {
   "cell_type": "markdown",
   "id": "48286fb2",
   "metadata": {
    "papermill": {
     "duration": 0.001947,
     "end_time": "2024-05-19T04:04:46.758995",
     "exception": false,
     "start_time": "2024-05-19T04:04:46.757048",
     "status": "completed"
    },
    "tags": []
   },
   "source": [
    "#### Helper for Binary tree problems"
   ]
  },
  {
   "cell_type": "code",
   "execution_count": 2,
   "id": "d4eafef6",
   "metadata": {
    "execution": {
     "iopub.execute_input": "2024-05-19T04:04:46.763696Z",
     "iopub.status.busy": "2024-05-19T04:04:46.763145Z",
     "iopub.status.idle": "2024-05-19T04:04:46.770038Z",
     "shell.execute_reply": "2024-05-19T04:04:46.769552Z"
    },
    "lines_to_next_cell": 1,
    "papermill": {
     "duration": 0.010416,
     "end_time": "2024-05-19T04:04:46.771152",
     "exception": false,
     "start_time": "2024-05-19T04:04:46.760736",
     "status": "completed"
    },
    "tags": []
   },
   "outputs": [],
   "source": [
    "class BinaryTreeNode:\n",
    "    def __init__(self, val=0, left=None, right=None):\n",
    "        self.val = val\n",
    "        self.left = left\n",
    "        self.right = right\n",
    "\n",
    "    def to_list(self):\n",
    "        to_visit = [self]\n",
    "        visited = []\n",
    "        while len(to_visit) > 0:\n",
    "            curr = to_visit.pop(0)\n",
    "            if curr:\n",
    "                to_visit.append(curr.left)\n",
    "                to_visit.append(curr.right)\n",
    "                visited.append(curr.val)\n",
    "            else:\n",
    "                visited.append(curr)\n",
    "\n",
    "        while visited and not visited[-1]:\n",
    "            visited.pop()\n",
    "\n",
    "        return visited\n",
    "\n",
    "    def __str__(self):\n",
    "        return str(self.val)\n",
    "\n",
    "    @staticmethod\n",
    "    def from_array(nums: list[int|None]):\n",
    "        '''Create a Tree from a list of nums. Returns the root node.'''\n",
    "        if len(nums) == 0:\n",
    "            return None\n",
    "        elif len(nums) == 1:\n",
    "            return BinaryTreeNode(nums[0])\n",
    "        else:\n",
    "            forest = [BinaryTreeNode(nums[0])]\n",
    "            parent_idx = -1\n",
    "            for i in range(1, len(nums)):\n",
    "\n",
    "                curr = None\n",
    "                if nums[i] is not None:\n",
    "                    curr = BinaryTreeNode(nums[i])\n",
    "                    forest.append(curr)\n",
    "\n",
    "                if i % 2 == 1:\n",
    "                    parent_idx += 1\n",
    "                    forest[parent_idx].left = curr\n",
    "                else:\n",
    "                    forest[parent_idx].right = curr\n",
    "\n",
    "        return forest[0]"
   ]
  },
  {
   "cell_type": "markdown",
   "id": "986c0064",
   "metadata": {
    "papermill": {
     "duration": 0.001777,
     "end_time": "2024-05-19T04:04:46.774683",
     "exception": false,
     "start_time": "2024-05-19T04:04:46.772906",
     "status": "completed"
    },
    "tags": []
   },
   "source": [
    "#### Helper for Singly Linked lists"
   ]
  },
  {
   "cell_type": "code",
   "execution_count": 3,
   "id": "cccf3cca",
   "metadata": {
    "execution": {
     "iopub.execute_input": "2024-05-19T04:04:46.779141Z",
     "iopub.status.busy": "2024-05-19T04:04:46.778738Z",
     "iopub.status.idle": "2024-05-19T04:04:46.782982Z",
     "shell.execute_reply": "2024-05-19T04:04:46.782569Z"
    },
    "lines_to_next_cell": 1,
    "papermill": {
     "duration": 0.007656,
     "end_time": "2024-05-19T04:04:46.784074",
     "exception": false,
     "start_time": "2024-05-19T04:04:46.776418",
     "status": "completed"
    },
    "tags": []
   },
   "outputs": [],
   "source": [
    "class ListNode:\n",
    "    def __init__(self, val=0, next=None):\n",
    "        self.val = val\n",
    "        self.next = next\n",
    "\n",
    "    def __str__(self):\n",
    "        return str(self.val)\n",
    "\n",
    "    @staticmethod\n",
    "    def to_singly_linked_list(nums: list[int]):\n",
    "        root = prev = None\n",
    "        for n in nums:\n",
    "            curr = ListNode(n)\n",
    "            # Init once\n",
    "            if not root:\n",
    "                root = curr\n",
    "            if prev:\n",
    "                prev.next = curr\n",
    "            prev = curr\n",
    "\n",
    "        return root\n",
    "\n",
    "    def to_list(self) -> list[int]:\n",
    "        result = []\n",
    "        curr = self\n",
    "        while curr:\n",
    "            result.append(curr.val)\n",
    "            curr = curr.next\n",
    "        return result"
   ]
  },
  {
   "cell_type": "markdown",
   "id": "3306cb42",
   "metadata": {
    "papermill": {
     "duration": 0.001716,
     "end_time": "2024-05-19T04:04:46.787532",
     "exception": false,
     "start_time": "2024-05-19T04:04:46.785816",
     "status": "completed"
    },
    "tags": []
   },
   "source": [
    "#### Utility to generate random BST"
   ]
  },
  {
   "cell_type": "code",
   "execution_count": 4,
   "id": "8a9a7fb1",
   "metadata": {
    "execution": {
     "iopub.execute_input": "2024-05-19T04:04:46.792021Z",
     "iopub.status.busy": "2024-05-19T04:04:46.791614Z",
     "iopub.status.idle": "2024-05-19T04:04:46.795704Z",
     "shell.execute_reply": "2024-05-19T04:04:46.795286Z"
    },
    "lines_to_next_cell": 1,
    "papermill": {
     "duration": 0.007483,
     "end_time": "2024-05-19T04:04:46.796746",
     "exception": false,
     "start_time": "2024-05-19T04:04:46.789263",
     "status": "completed"
    },
    "tags": []
   },
   "outputs": [],
   "source": [
    "def generateBST(N: int, min_: int, max_: int) -> BinaryTreeNode|None:\n",
    "    def insert(curr: BinaryTreeNode|None, n: int) -> BinaryTreeNode:\n",
    "        if not curr:\n",
    "            curr = BinaryTreeNode(n)\n",
    "        elif curr.val < n:\n",
    "            curr.right = insert(curr.right, n)\n",
    "        else:\n",
    "            curr.left = insert(curr.left, n)\n",
    "\n",
    "        return curr\n",
    "\n",
    "    assert N <= max_ - min_, \"Number of available samples must be >= N\"\n",
    "    root: BinaryTreeNode|None = None\n",
    "    for n in np.random.choice(np.arange(min_, max_), size=N, replace=False):\n",
    "        root = insert(root, n)\n",
    "\n",
    "    return root"
   ]
  },
  {
   "cell_type": "markdown",
   "id": "9a722649",
   "metadata": {
    "papermill": {
     "duration": 0.001788,
     "end_time": "2024-05-19T04:04:46.800330",
     "exception": false,
     "start_time": "2024-05-19T04:04:46.798542",
     "status": "completed"
    },
    "tags": []
   },
   "source": [
    "Best time to buy and sell stocks - I"
   ]
  },
  {
   "cell_type": "code",
   "execution_count": 5,
   "id": "4e905b5e",
   "metadata": {
    "execution": {
     "iopub.execute_input": "2024-05-19T04:04:46.804823Z",
     "iopub.status.busy": "2024-05-19T04:04:46.804376Z",
     "iopub.status.idle": "2024-05-19T04:04:46.808109Z",
     "shell.execute_reply": "2024-05-19T04:04:46.807684Z"
    },
    "lines_to_next_cell": 1,
    "papermill": {
     "duration": 0.007024,
     "end_time": "2024-05-19T04:04:46.809143",
     "exception": false,
     "start_time": "2024-05-19T04:04:46.802119",
     "status": "completed"
    },
    "tags": []
   },
   "outputs": [],
   "source": [
    "def stocks1(prices: list[int]) -> int:\n",
    "    min_, max_profit = prices[0], 0\n",
    "    for price in prices:\n",
    "        max_profit = max(max_profit, price - min_)\n",
    "        min_ = min(min_, price)\n",
    "\n",
    "    return max_profit\n",
    "\n",
    "# Testing the solution\n",
    "assert stocks1([7,1,5,3,6,4]) == 5\n",
    "assert stocks1([7,6,4,3,1]) == 0"
   ]
  },
  {
   "cell_type": "markdown",
   "id": "b36063c0",
   "metadata": {
    "papermill": {
     "duration": 0.001722,
     "end_time": "2024-05-19T04:04:46.812659",
     "exception": false,
     "start_time": "2024-05-19T04:04:46.810937",
     "status": "completed"
    },
    "tags": []
   },
   "source": [
    "Weekly Contest 398: 19th May 2024"
   ]
  },
  {
   "cell_type": "code",
   "execution_count": 6,
   "id": "2d35821a",
   "metadata": {
    "execution": {
     "iopub.execute_input": "2024-05-19T04:04:46.817293Z",
     "iopub.status.busy": "2024-05-19T04:04:46.816877Z",
     "iopub.status.idle": "2024-05-19T04:04:46.820962Z",
     "shell.execute_reply": "2024-05-19T04:04:46.820528Z"
    },
    "lines_to_next_cell": 1,
    "papermill": {
     "duration": 0.007528,
     "end_time": "2024-05-19T04:04:46.822027",
     "exception": false,
     "start_time": "2024-05-19T04:04:46.814499",
     "status": "completed"
    },
    "tags": []
   },
   "outputs": [],
   "source": [
    "# Q1\n",
    "def isArraySpecial(nums: list[int]) -> bool:\n",
    "    N = len(nums)\n",
    "    for i in range(N - 1):\n",
    "        i1, i2 = nums[i] % 2, nums[i + 1] % 2\n",
    "        if (i1 == 0 and i2 == 0) or (i1 == 1 and i2 == 1):\n",
    "            return False\n",
    "    else:\n",
    "        return True\n",
    "\n",
    "# Testing the solution\n",
    "assert isArraySpecial([4,3,1,6]) == False\n",
    "assert isArraySpecial([2,1,4]) == True\n",
    "assert isArraySpecial([1]) == True"
   ]
  },
  {
   "cell_type": "code",
   "execution_count": 7,
   "id": "ce3280b2",
   "metadata": {
    "execution": {
     "iopub.execute_input": "2024-05-19T04:04:46.826544Z",
     "iopub.status.busy": "2024-05-19T04:04:46.826137Z",
     "iopub.status.idle": "2024-05-19T04:04:46.830933Z",
     "shell.execute_reply": "2024-05-19T04:04:46.830493Z"
    },
    "lines_to_next_cell": 1,
    "papermill": {
     "duration": 0.008137,
     "end_time": "2024-05-19T04:04:46.831962",
     "exception": false,
     "start_time": "2024-05-19T04:04:46.823825",
     "status": "completed"
    },
    "tags": []
   },
   "outputs": [],
   "source": [
    "# Q2\n",
    "def isArraySpecial2(nums: list[int], queries: list[list[int]]) -> list[bool]:\n",
    "    N = len(nums)\n",
    "    parity: list[int] = list(map(lambda x: x % 2, nums))\n",
    "\n",
    "    @functools.cache\n",
    "    def backtrack(start: int, end: int) -> bool:\n",
    "        if start == end:\n",
    "            return True\n",
    "        else:\n",
    "            mid = (start + end) // 2\n",
    "            isSpecial =  parity[mid] != parity[mid + 1] and backtrack(start, mid) and backtrack(mid + 1, end)\n",
    "            return isSpecial\n",
    "\n",
    "    result: list[bool] = []\n",
    "    for i, j in queries:\n",
    "        result.append(backtrack(i, j))\n",
    "\n",
    "    return result\n",
    "\n",
    "# Testing the solution\n",
    "assert isArraySpecial2([4,3,1,6], [[0,2],[2,3]]) == [False, True]\n",
    "assert isArraySpecial2([3,4,1,2,6], [[0,4]]) == [False]"
   ]
  },
  {
   "cell_type": "code",
   "execution_count": 8,
   "id": "7a8941ed",
   "metadata": {
    "execution": {
     "iopub.execute_input": "2024-05-19T04:04:46.836473Z",
     "iopub.status.busy": "2024-05-19T04:04:46.836130Z",
     "iopub.status.idle": "2024-05-19T04:04:46.893676Z",
     "shell.execute_reply": "2024-05-19T04:04:46.893152Z"
    },
    "lines_to_next_cell": 1,
    "papermill": {
     "duration": 0.060907,
     "end_time": "2024-05-19T04:04:46.894691",
     "exception": false,
     "start_time": "2024-05-19T04:04:46.833784",
     "status": "completed"
    },
    "tags": []
   },
   "outputs": [],
   "source": [
    "# Q3\n",
    "def sumDigitDifferencesBrute(nums: list[int]) -> int:\n",
    "    length = len(str(nums[0]))\n",
    "    count = 0\n",
    "    for n1, n2 in itertools.combinations(nums, r=2):\n",
    "        n1_str, n2_str = str(n1), str(n2)\n",
    "        for i in range(length):\n",
    "            if n1_str[i] != n2_str[i]:\n",
    "                count += 1\n",
    "\n",
    "    return count\n",
    "\n",
    "def sumDigitDifferences(nums: list[int]) -> int:\n",
    "    def count(arr: list[int]) -> int:\n",
    "        N = len(arr)\n",
    "        temp = 0\n",
    "        for i in range(N - 1):\n",
    "            temp += arr[i] * sum(arr[i + 1:])\n",
    "\n",
    "        return temp\n",
    "\n",
    "    length = len(str(nums[0]))\n",
    "    digits_dict: dict[int, dict[str, int]] = dict()\n",
    "    for n in nums:\n",
    "        n_str = str(n)\n",
    "        for i in range(length):\n",
    "            positions = digits_dict.get(i, dict())\n",
    "            positions[n_str[i]] = positions.get(n_str[i], 0) + 1\n",
    "            digits_dict[i] = positions\n",
    "\n",
    "    result: int = 0\n",
    "    for i in range(length):\n",
    "        result += count(list(digits_dict[i].values()))\n",
    "\n",
    "    return result\n",
    "\n",
    "# Testing the solution\n",
    "for i in range(100):\n",
    "    temp = list(np.random.randint(10, 100, 50))\n",
    "    assert sumDigitDifferencesBrute(temp) == sumDigitDifferences(temp)"
   ]
  },
  {
   "cell_type": "markdown",
   "id": "6d69bfc3",
   "metadata": {},
   "source": [
    "Sum of XOR totals\n",
    "Easy LC: https://leetcode.com/problems/sum-of-all-subset-xor-totals"
   ]
  },
  {
   "cell_type": "code",
   "execution_count": null,
   "id": "3e8f2bd0",
   "metadata": {},
   "outputs": [],
   "source": [
    "# https://leetcode.com/problems/sum-of-all-subset-xor-totals/submissions/1263288868\n",
    "def subsetXORSumMemo(nums: list[int]) -> int:\n",
    "    @functools.cache\n",
    "    def backtrack(i: int, curr: int) -> int:\n",
    "        if i == N:\n",
    "            return curr\n",
    "        else:\n",
    "            return backtrack(i + 1, curr ^ nums[i]) + backtrack(i + 1, curr)\n",
    "\n",
    "    N = len(nums)\n",
    "    return backtrack(0, 0)\n",
    "\n",
    "# Testing the solution\n",
    "assert subsetXORSumMemo([1,3]) == 6\n",
    "assert subsetXORSumMemo([5,1,6]) == 28"
   ]
  }
 ],
 "metadata": {
  "kernelspec": {
   "display_name": "Python 3 (ipykernel)",
   "language": "python",
   "name": "python3"
  },
  "language_info": {
   "codemirror_mode": {
    "name": "ipython",
    "version": 3
   },
   "file_extension": ".py",
   "mimetype": "text/x-python",
   "name": "python",
   "nbconvert_exporter": "python",
   "pygments_lexer": "ipython3",
   "version": "3.11.9"
  },
  "papermill": {
   "default_parameters": {},
   "duration": 1.833689,
   "end_time": "2024-05-19T04:04:47.111907",
   "environment_variables": {},
   "exception": null,
   "input_path": "practice/003.ipynb",
   "output_path": "practice/003.ipynb",
   "parameters": {},
   "start_time": "2024-05-19T04:04:45.278218",
   "version": "2.6.0"
  }
 },
 "nbformat": 4,
 "nbformat_minor": 5
}
