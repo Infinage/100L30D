{
 "cells": [
  {
   "cell_type": "code",
   "execution_count": 1,
   "id": "829c6a0a",
   "metadata": {
    "execution": {
     "iopub.execute_input": "2024-05-12T13:56:40.918215Z",
     "iopub.status.busy": "2024-05-12T13:56:40.917764Z",
     "iopub.status.idle": "2024-05-12T13:56:41.283268Z",
     "shell.execute_reply": "2024-05-12T13:56:41.282730Z"
    },
    "papermill": {
     "duration": 0.370019,
     "end_time": "2024-05-12T13:56:41.284733",
     "exception": false,
     "start_time": "2024-05-12T13:56:40.914714",
     "status": "completed"
    },
    "tags": []
   },
   "outputs": [],
   "source": [
    "from typing import List, Optional, Generator\n",
    "import pandas as pd\n",
    "import numpy as np\n",
    "import sqlite3\n",
    "import re\n",
    "import io\n",
    "import math\n",
    "import collections\n",
    "import itertools\n",
    "import functools\n",
    "import random\n",
    "import string\n",
    "import tqdm\n",
    "import bisect\n",
    "import heapq\n",
    "\n",
    "conn = sqlite3.connect(\":memory:\")\n",
    "\n",
    "def regexp(expr, item):\n",
    "    reg = re.compile(expr)\n",
    "    return reg.search(item) is not None\n",
    "\n",
    "def read_lc_df(s: str, dtypes: dict[str, str]=dict()) -> pd.DataFrame:\n",
    "    temp = pd.read_csv(io.StringIO(s), sep=\"|\", skiprows=2)\n",
    "    temp = temp.iloc[1:-1, 1:-1]\n",
    "    temp.columns = temp.columns.map(str.strip)\n",
    "    temp = temp.map(lambda x: x if type(x) != str else None if x.strip() == 'null' else x.strip())\n",
    "    temp = temp.astype(dtypes)\n",
    "    return temp\n",
    "\n",
    "conn.create_function(\"REGEXP\", 2, regexp)"
   ]
  },
  {
   "cell_type": "markdown",
   "id": "48286fb2",
   "metadata": {
    "papermill": {
     "duration": 0.001335,
     "end_time": "2024-05-12T13:56:41.287750",
     "exception": false,
     "start_time": "2024-05-12T13:56:41.286415",
     "status": "completed"
    },
    "tags": []
   },
   "source": [
    "#### Helper for Binary tree problems"
   ]
  },
  {
   "cell_type": "code",
   "execution_count": 2,
   "id": "d4eafef6",
   "metadata": {
    "execution": {
     "iopub.execute_input": "2024-05-12T13:56:41.291714Z",
     "iopub.status.busy": "2024-05-12T13:56:41.291115Z",
     "iopub.status.idle": "2024-05-12T13:56:41.298521Z",
     "shell.execute_reply": "2024-05-12T13:56:41.297998Z"
    },
    "lines_to_next_cell": 1,
    "papermill": {
     "duration": 0.010556,
     "end_time": "2024-05-12T13:56:41.299589",
     "exception": false,
     "start_time": "2024-05-12T13:56:41.289033",
     "status": "completed"
    },
    "tags": []
   },
   "outputs": [],
   "source": [
    "class BinaryTreeNode:\n",
    "    def __init__(self, val=0, left=None, right=None):\n",
    "        self.val = val\n",
    "        self.left = left\n",
    "        self.right = right\n",
    "\n",
    "    def to_list(self):\n",
    "        to_visit = [self]\n",
    "        visited = []\n",
    "        while len(to_visit) > 0:\n",
    "            curr = to_visit.pop(0)\n",
    "            if curr:\n",
    "                to_visit.append(curr.left)\n",
    "                to_visit.append(curr.right)\n",
    "                visited.append(curr.val)\n",
    "            else:\n",
    "                visited.append(curr)\n",
    "\n",
    "        while visited and not visited[-1]:\n",
    "            visited.pop()\n",
    "\n",
    "        return visited\n",
    "\n",
    "    def __str__(self):\n",
    "        return str(self.val)\n",
    "\n",
    "    @staticmethod\n",
    "    def from_array(nums: list[int|None]):\n",
    "        '''Create a Tree from a list of nums. Returns the root node.'''\n",
    "        if len(nums) == 0:\n",
    "            return None\n",
    "        elif len(nums) == 1:\n",
    "            return BinaryTreeNode(nums[0])\n",
    "        else:\n",
    "            forest = [BinaryTreeNode(nums[0])]\n",
    "            parent_idx = -1\n",
    "            for i in range(1, len(nums)):\n",
    "\n",
    "                curr = None\n",
    "                if nums[i] is not None:\n",
    "                    curr = BinaryTreeNode(nums[i])\n",
    "                    forest.append(curr)\n",
    "\n",
    "                if i % 2 == 1:\n",
    "                    parent_idx += 1\n",
    "                    forest[parent_idx].left = curr\n",
    "                else:\n",
    "                    forest[parent_idx].right = curr\n",
    "\n",
    "        return forest[0]"
   ]
  },
  {
   "cell_type": "markdown",
   "id": "986c0064",
   "metadata": {
    "papermill": {
     "duration": 0.001341,
     "end_time": "2024-05-12T13:56:41.302242",
     "exception": false,
     "start_time": "2024-05-12T13:56:41.300901",
     "status": "completed"
    },
    "tags": []
   },
   "source": [
    "#### Helper for Singly Linked lists"
   ]
  },
  {
   "cell_type": "code",
   "execution_count": 3,
   "id": "cccf3cca",
   "metadata": {
    "execution": {
     "iopub.execute_input": "2024-05-12T13:56:41.305744Z",
     "iopub.status.busy": "2024-05-12T13:56:41.305366Z",
     "iopub.status.idle": "2024-05-12T13:56:41.309669Z",
     "shell.execute_reply": "2024-05-12T13:56:41.309187Z"
    },
    "lines_to_next_cell": 1,
    "papermill": {
     "duration": 0.007292,
     "end_time": "2024-05-12T13:56:41.310797",
     "exception": false,
     "start_time": "2024-05-12T13:56:41.303505",
     "status": "completed"
    },
    "tags": []
   },
   "outputs": [],
   "source": [
    "class ListNode:\n",
    "    def __init__(self, val=0, next=None):\n",
    "        self.val = val\n",
    "        self.next = next\n",
    "\n",
    "    def __str__(self):\n",
    "        return str(self.val)\n",
    "\n",
    "    @staticmethod\n",
    "    def to_singly_linked_list(nums: list[int]):\n",
    "        root = prev = None\n",
    "        for n in nums:\n",
    "            curr = ListNode(n)\n",
    "            # Init once\n",
    "            if not root:\n",
    "                root = curr\n",
    "            if prev:\n",
    "                prev.next = curr\n",
    "            prev = curr\n",
    "\n",
    "        return root\n",
    "\n",
    "    def to_list(self) -> list[int]:\n",
    "        result = []\n",
    "        curr = self\n",
    "        while curr:\n",
    "            result.append(curr.val)\n",
    "            curr = curr.next\n",
    "        return result"
   ]
  },
  {
   "cell_type": "markdown",
   "id": "3306cb42",
   "metadata": {
    "papermill": {
     "duration": 0.001343,
     "end_time": "2024-05-12T13:56:41.313473",
     "exception": false,
     "start_time": "2024-05-12T13:56:41.312130",
     "status": "completed"
    },
    "tags": []
   },
   "source": [
    "#### Utility to generate random BST"
   ]
  },
  {
   "cell_type": "code",
   "execution_count": 4,
   "id": "8a9a7fb1",
   "metadata": {
    "execution": {
     "iopub.execute_input": "2024-05-12T13:56:41.317213Z",
     "iopub.status.busy": "2024-05-12T13:56:41.316745Z",
     "iopub.status.idle": "2024-05-12T13:56:41.320916Z",
     "shell.execute_reply": "2024-05-12T13:56:41.320442Z"
    },
    "papermill": {
     "duration": 0.007268,
     "end_time": "2024-05-12T13:56:41.322059",
     "exception": false,
     "start_time": "2024-05-12T13:56:41.314791",
     "status": "completed"
    },
    "tags": []
   },
   "outputs": [],
   "source": [
    "def generateBST(N: int, min_: int, max_: int) -> BinaryTreeNode|None:\n",
    "    def insert(curr: BinaryTreeNode|None, n: int) -> BinaryTreeNode:\n",
    "        if not curr:\n",
    "            curr = BinaryTreeNode(n)\n",
    "        elif curr.val < n:\n",
    "            curr.right = insert(curr.right, n)\n",
    "        else:\n",
    "            curr.left = insert(curr.left, n)\n",
    "\n",
    "        return curr\n",
    "\n",
    "    assert N <= max_ - min_, \"Number of available samples must be >= N\"\n",
    "    root: BinaryTreeNode|None = None\n",
    "    for n in np.random.choice(np.arange(min_, max_), size=N, replace=False):\n",
    "        root = insert(root, n)\n",
    "\n",
    "    return root"
   ]
  },
  {
   "cell_type": "code",
   "execution_count": null,
   "id": "768005d2",
   "metadata": {
    "papermill": {
     "duration": 0.001324,
     "end_time": "2024-05-12T13:56:41.324778",
     "exception": false,
     "start_time": "2024-05-12T13:56:41.323454",
     "status": "completed"
    },
    "tags": []
   },
   "outputs": [],
   "source": []
  }
 ],
 "metadata": {
  "kernelspec": {
   "display_name": "Python 3 (ipykernel)",
   "language": "python",
   "name": "python3"
  },
  "language_info": {
   "codemirror_mode": {
    "name": "ipython",
    "version": 3
   },
   "file_extension": ".py",
   "mimetype": "text/x-python",
   "name": "python",
   "nbconvert_exporter": "python",
   "pygments_lexer": "ipython3",
   "version": "3.11.9"
  },
  "papermill": {
   "default_parameters": {},
   "duration": 1.783665,
   "end_time": "2024-05-12T13:56:41.541162",
   "environment_variables": {},
   "exception": null,
   "input_path": "practice/003.ipynb",
   "output_path": "practice/003.ipynb",
   "parameters": {},
   "start_time": "2024-05-12T13:56:39.757497",
   "version": "2.6.0"
  }
 },
 "nbformat": 4,
 "nbformat_minor": 5
}