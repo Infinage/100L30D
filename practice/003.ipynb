{
 "cells": [
  {
   "cell_type": "code",
   "execution_count": 1,
   "id": "829c6a0a",
   "metadata": {
    "execution": {
     "iopub.execute_input": "2024-06-10T02:33:04.526261Z",
     "iopub.status.busy": "2024-06-10T02:33:04.525820Z",
     "iopub.status.idle": "2024-06-10T02:33:04.891573Z",
     "shell.execute_reply": "2024-06-10T02:33:04.891043Z"
    },
    "papermill": {
     "duration": 0.372955,
     "end_time": "2024-06-10T02:33:04.893000",
     "exception": false,
     "start_time": "2024-06-10T02:33:04.520045",
     "status": "completed"
    },
    "tags": []
   },
   "outputs": [],
   "source": [
    "from typing import List, Optional, Generator\n",
    "import pandas as pd\n",
    "import numpy as np\n",
    "import sqlite3\n",
    "import re\n",
    "import io\n",
    "import math\n",
    "import collections\n",
    "import itertools\n",
    "import functools\n",
    "import random\n",
    "import string\n",
    "import tqdm\n",
    "import bisect\n",
    "import heapq\n",
    "\n",
    "conn = sqlite3.connect(\":memory:\")\n",
    "\n",
    "def regexp(expr, item):\n",
    "    reg = re.compile(expr)\n",
    "    return reg.search(item) is not None\n",
    "\n",
    "def read_lc_df(s: str, dtypes: dict[str, str]=dict()) -> pd.DataFrame:\n",
    "    temp = pd.read_csv(io.StringIO(s), sep=\"|\", skiprows=2)\n",
    "    temp = temp.iloc[1:-1, 1:-1]\n",
    "    temp.columns = temp.columns.map(str.strip)\n",
    "    temp = temp.map(lambda x: x if type(x) != str else None if x.strip() == 'null' else x.strip())\n",
    "    temp = temp.astype(dtypes)\n",
    "    return temp\n",
    "\n",
    "conn.create_function(\"REGEXP\", 2, regexp)"
   ]
  },
  {
   "cell_type": "markdown",
   "id": "48286fb2",
   "metadata": {
    "papermill": {
     "duration": 0.004082,
     "end_time": "2024-06-10T02:33:04.901428",
     "exception": false,
     "start_time": "2024-06-10T02:33:04.897346",
     "status": "completed"
    },
    "tags": []
   },
   "source": [
    "#### Helper for Binary tree problems"
   ]
  },
  {
   "cell_type": "code",
   "execution_count": 2,
   "id": "d4eafef6",
   "metadata": {
    "execution": {
     "iopub.execute_input": "2024-06-10T02:33:04.910542Z",
     "iopub.status.busy": "2024-06-10T02:33:04.910007Z",
     "iopub.status.idle": "2024-06-10T02:33:04.917264Z",
     "shell.execute_reply": "2024-06-10T02:33:04.916802Z"
    },
    "lines_to_next_cell": 1,
    "papermill": {
     "duration": 0.012992,
     "end_time": "2024-06-10T02:33:04.918317",
     "exception": false,
     "start_time": "2024-06-10T02:33:04.905325",
     "status": "completed"
    },
    "tags": []
   },
   "outputs": [],
   "source": [
    "class BinaryTreeNode:\n",
    "    def __init__(self, val=0, left=None, right=None):\n",
    "        self.val = val\n",
    "        self.left = left\n",
    "        self.right = right\n",
    "\n",
    "    def to_list(self):\n",
    "        to_visit = [self]\n",
    "        visited = []\n",
    "        while len(to_visit) > 0:\n",
    "            curr = to_visit.pop(0)\n",
    "            if curr:\n",
    "                to_visit.append(curr.left)\n",
    "                to_visit.append(curr.right)\n",
    "                visited.append(curr.val)\n",
    "            else:\n",
    "                visited.append(curr)\n",
    "\n",
    "        while visited and not visited[-1]:\n",
    "            visited.pop()\n",
    "\n",
    "        return visited\n",
    "\n",
    "    def __str__(self):\n",
    "        return str(self.val)\n",
    "\n",
    "    @staticmethod\n",
    "    def from_array(nums: list[int|None]):\n",
    "        '''Create a Tree from a list of nums. Returns the root node.'''\n",
    "        if len(nums) == 0:\n",
    "            return None\n",
    "        elif len(nums) == 1:\n",
    "            return BinaryTreeNode(nums[0])\n",
    "        else:\n",
    "            forest = [BinaryTreeNode(nums[0])]\n",
    "            parent_idx = -1\n",
    "            for i in range(1, len(nums)):\n",
    "\n",
    "                curr = None\n",
    "                if nums[i] is not None:\n",
    "                    curr = BinaryTreeNode(nums[i])\n",
    "                    forest.append(curr)\n",
    "\n",
    "                if i % 2 == 1:\n",
    "                    parent_idx += 1\n",
    "                    forest[parent_idx].left = curr\n",
    "                else:\n",
    "                    forest[parent_idx].right = curr\n",
    "\n",
    "        return forest[0]"
   ]
  },
  {
   "cell_type": "markdown",
   "id": "986c0064",
   "metadata": {
    "papermill": {
     "duration": 0.004823,
     "end_time": "2024-06-10T02:33:04.927168",
     "exception": false,
     "start_time": "2024-06-10T02:33:04.922345",
     "status": "completed"
    },
    "tags": []
   },
   "source": [
    "#### Helper for Singly Linked lists"
   ]
  },
  {
   "cell_type": "code",
   "execution_count": 3,
   "id": "cccf3cca",
   "metadata": {
    "execution": {
     "iopub.execute_input": "2024-06-10T02:33:04.936312Z",
     "iopub.status.busy": "2024-06-10T02:33:04.935808Z",
     "iopub.status.idle": "2024-06-10T02:33:04.940329Z",
     "shell.execute_reply": "2024-06-10T02:33:04.939893Z"
    },
    "lines_to_next_cell": 1,
    "papermill": {
     "duration": 0.010379,
     "end_time": "2024-06-10T02:33:04.941465",
     "exception": false,
     "start_time": "2024-06-10T02:33:04.931086",
     "status": "completed"
    },
    "tags": []
   },
   "outputs": [],
   "source": [
    "class ListNode:\n",
    "    def __init__(self, val=0, next=None):\n",
    "        self.val = val\n",
    "        self.next = next\n",
    "\n",
    "    def __str__(self):\n",
    "        return str(self.val)\n",
    "\n",
    "    @staticmethod\n",
    "    def to_singly_linked_list(nums: list[int]):\n",
    "        root = prev = None\n",
    "        for n in nums:\n",
    "            curr = ListNode(n)\n",
    "            # Init once\n",
    "            if not root:\n",
    "                root = curr\n",
    "            if prev:\n",
    "                prev.next = curr\n",
    "            prev = curr\n",
    "\n",
    "        return root\n",
    "\n",
    "    def to_list(self) -> list[int]:\n",
    "        result = []\n",
    "        curr = self\n",
    "        while curr:\n",
    "            result.append(curr.val)\n",
    "            curr = curr.next\n",
    "        return result"
   ]
  },
  {
   "cell_type": "markdown",
   "id": "3306cb42",
   "metadata": {
    "papermill": {
     "duration": 0.003948,
     "end_time": "2024-06-10T02:33:04.949376",
     "exception": false,
     "start_time": "2024-06-10T02:33:04.945428",
     "status": "completed"
    },
    "tags": []
   },
   "source": [
    "#### Utility to generate random BST"
   ]
  },
  {
   "cell_type": "code",
   "execution_count": 4,
   "id": "8a9a7fb1",
   "metadata": {
    "execution": {
     "iopub.execute_input": "2024-06-10T02:33:04.958526Z",
     "iopub.status.busy": "2024-06-10T02:33:04.958030Z",
     "iopub.status.idle": "2024-06-10T02:33:04.962645Z",
     "shell.execute_reply": "2024-06-10T02:33:04.962088Z"
    },
    "lines_to_next_cell": 1,
    "papermill": {
     "duration": 0.010526,
     "end_time": "2024-06-10T02:33:04.963893",
     "exception": false,
     "start_time": "2024-06-10T02:33:04.953367",
     "status": "completed"
    },
    "tags": []
   },
   "outputs": [],
   "source": [
    "def generateBST(N: int, min_: int, max_: int) -> BinaryTreeNode|None:\n",
    "    def insert(curr: BinaryTreeNode|None, n: int) -> BinaryTreeNode:\n",
    "        if not curr:\n",
    "            curr = BinaryTreeNode(n)\n",
    "        elif curr.val < n:\n",
    "            curr.right = insert(curr.right, n)\n",
    "        else:\n",
    "            curr.left = insert(curr.left, n)\n",
    "\n",
    "        return curr\n",
    "\n",
    "    assert N <= max_ - min_, \"Number of available samples must be >= N\"\n",
    "    root: BinaryTreeNode|None = None\n",
    "    for n in np.random.choice(np.arange(min_, max_), size=N, replace=False):\n",
    "        root = insert(root, n)\n",
    "\n",
    "    return root"
   ]
  },
  {
   "cell_type": "markdown",
   "id": "9a722649",
   "metadata": {
    "papermill": {
     "duration": 0.00392,
     "end_time": "2024-06-10T02:33:04.971775",
     "exception": false,
     "start_time": "2024-06-10T02:33:04.967855",
     "status": "completed"
    },
    "tags": []
   },
   "source": [
    "Best time to buy and sell stocks - I"
   ]
  },
  {
   "cell_type": "code",
   "execution_count": 5,
   "id": "4e905b5e",
   "metadata": {
    "execution": {
     "iopub.execute_input": "2024-06-10T02:33:04.980729Z",
     "iopub.status.busy": "2024-06-10T02:33:04.980249Z",
     "iopub.status.idle": "2024-06-10T02:33:04.983881Z",
     "shell.execute_reply": "2024-06-10T02:33:04.983463Z"
    },
    "lines_to_next_cell": 1,
    "papermill": {
     "duration": 0.009338,
     "end_time": "2024-06-10T02:33:04.985042",
     "exception": false,
     "start_time": "2024-06-10T02:33:04.975704",
     "status": "completed"
    },
    "tags": []
   },
   "outputs": [],
   "source": [
    "def stocks1(prices: list[int]) -> int:\n",
    "    min_, max_profit = prices[0], 0\n",
    "    for price in prices:\n",
    "        max_profit = max(max_profit, price - min_)\n",
    "        min_ = min(min_, price)\n",
    "\n",
    "    return max_profit\n",
    "\n",
    "# Testing the solution\n",
    "assert stocks1([7,1,5,3,6,4]) == 5\n",
    "assert stocks1([7,6,4,3,1]) == 0"
   ]
  },
  {
   "cell_type": "markdown",
   "id": "b36063c0",
   "metadata": {
    "papermill": {
     "duration": 0.003944,
     "end_time": "2024-06-10T02:33:04.993025",
     "exception": false,
     "start_time": "2024-06-10T02:33:04.989081",
     "status": "completed"
    },
    "tags": []
   },
   "source": [
    "Weekly Contest 398: 19th May 2024"
   ]
  },
  {
   "cell_type": "code",
   "execution_count": 6,
   "id": "2d35821a",
   "metadata": {
    "execution": {
     "iopub.execute_input": "2024-06-10T02:33:05.002168Z",
     "iopub.status.busy": "2024-06-10T02:33:05.001694Z",
     "iopub.status.idle": "2024-06-10T02:33:05.005836Z",
     "shell.execute_reply": "2024-06-10T02:33:05.005371Z"
    },
    "lines_to_next_cell": 1,
    "papermill": {
     "duration": 0.009966,
     "end_time": "2024-06-10T02:33:05.006921",
     "exception": false,
     "start_time": "2024-06-10T02:33:04.996955",
     "status": "completed"
    },
    "tags": []
   },
   "outputs": [],
   "source": [
    "# Q1\n",
    "def isArraySpecial(nums: list[int]) -> bool:\n",
    "    N = len(nums)\n",
    "    for i in range(N - 1):\n",
    "        i1, i2 = nums[i] % 2, nums[i + 1] % 2\n",
    "        if (i1 == 0 and i2 == 0) or (i1 == 1 and i2 == 1):\n",
    "            return False\n",
    "    else:\n",
    "        return True\n",
    "\n",
    "# Testing the solution\n",
    "assert isArraySpecial([4,3,1,6]) == False\n",
    "assert isArraySpecial([2,1,4]) == True\n",
    "assert isArraySpecial([1]) == True"
   ]
  },
  {
   "cell_type": "code",
   "execution_count": 7,
   "id": "ce3280b2",
   "metadata": {
    "execution": {
     "iopub.execute_input": "2024-06-10T02:33:05.016114Z",
     "iopub.status.busy": "2024-06-10T02:33:05.015612Z",
     "iopub.status.idle": "2024-06-10T02:33:05.020988Z",
     "shell.execute_reply": "2024-06-10T02:33:05.020519Z"
    },
    "lines_to_next_cell": 1,
    "papermill": {
     "duration": 0.01106,
     "end_time": "2024-06-10T02:33:05.022065",
     "exception": false,
     "start_time": "2024-06-10T02:33:05.011005",
     "status": "completed"
    },
    "tags": []
   },
   "outputs": [],
   "source": [
    "# Q2\n",
    "def isArraySpecial2(nums: list[int], queries: list[list[int]]) -> list[bool]:\n",
    "    N = len(nums)\n",
    "    parity: list[int] = list(map(lambda x: x % 2, nums))\n",
    "\n",
    "    @functools.cache\n",
    "    def backtrack(start: int, end: int) -> bool:\n",
    "        if start == end:\n",
    "            return True\n",
    "        else:\n",
    "            mid = (start + end) // 2\n",
    "            isSpecial =  parity[mid] != parity[mid + 1] and backtrack(start, mid) and backtrack(mid + 1, end)\n",
    "            return isSpecial\n",
    "\n",
    "    result: list[bool] = []\n",
    "    for i, j in queries:\n",
    "        result.append(backtrack(i, j))\n",
    "\n",
    "    return result\n",
    "\n",
    "# Testing the solution\n",
    "assert isArraySpecial2([4,3,1,6], [[0,2],[2,3]]) == [False, True]\n",
    "assert isArraySpecial2([3,4,1,2,6], [[0,4]]) == [False]"
   ]
  },
  {
   "cell_type": "code",
   "execution_count": 8,
   "id": "7a8941ed",
   "metadata": {
    "execution": {
     "iopub.execute_input": "2024-06-10T02:33:05.031124Z",
     "iopub.status.busy": "2024-06-10T02:33:05.030743Z",
     "iopub.status.idle": "2024-06-10T02:33:05.088067Z",
     "shell.execute_reply": "2024-06-10T02:33:05.087507Z"
    },
    "lines_to_next_cell": 1,
    "papermill": {
     "duration": 0.0631,
     "end_time": "2024-06-10T02:33:05.089234",
     "exception": false,
     "start_time": "2024-06-10T02:33:05.026134",
     "status": "completed"
    },
    "tags": []
   },
   "outputs": [],
   "source": [
    "# Q3\n",
    "def sumDigitDifferencesBrute(nums: list[int]) -> int:\n",
    "    length = len(str(nums[0]))\n",
    "    count = 0\n",
    "    for n1, n2 in itertools.combinations(nums, r=2):\n",
    "        n1_str, n2_str = str(n1), str(n2)\n",
    "        for i in range(length):\n",
    "            if n1_str[i] != n2_str[i]:\n",
    "                count += 1\n",
    "\n",
    "    return count\n",
    "\n",
    "def sumDigitDifferences(nums: list[int]) -> int:\n",
    "    def count(arr: list[int]) -> int:\n",
    "        N = len(arr)\n",
    "        temp = 0\n",
    "        for i in range(N - 1):\n",
    "            temp += arr[i] * sum(arr[i + 1:])\n",
    "\n",
    "        return temp\n",
    "\n",
    "    length = len(str(nums[0]))\n",
    "    digits_dict: dict[int, dict[str, int]] = dict()\n",
    "    for n in nums:\n",
    "        n_str = str(n)\n",
    "        for i in range(length):\n",
    "            positions = digits_dict.get(i, dict())\n",
    "            positions[n_str[i]] = positions.get(n_str[i], 0) + 1\n",
    "            digits_dict[i] = positions\n",
    "\n",
    "    result: int = 0\n",
    "    for i in range(length):\n",
    "        result += count(list(digits_dict[i].values()))\n",
    "\n",
    "    return result\n",
    "\n",
    "# Testing the solution\n",
    "for i in range(100):\n",
    "    temp = list(np.random.randint(10, 100, 50))\n",
    "    assert sumDigitDifferencesBrute(temp) == sumDigitDifferences(temp)"
   ]
  },
  {
   "cell_type": "markdown",
   "id": "6d69bfc3",
   "metadata": {
    "papermill": {
     "duration": 0.00405,
     "end_time": "2024-06-10T02:33:05.097483",
     "exception": false,
     "start_time": "2024-06-10T02:33:05.093433",
     "status": "completed"
    },
    "tags": []
   },
   "source": [
    "Sum of XOR totals\n",
    "Easy LC: https://leetcode.com/problems/sum-of-all-subset-xor-totals"
   ]
  },
  {
   "cell_type": "code",
   "execution_count": 9,
   "id": "3e8f2bd0",
   "metadata": {
    "execution": {
     "iopub.execute_input": "2024-06-10T02:33:05.106764Z",
     "iopub.status.busy": "2024-06-10T02:33:05.106222Z",
     "iopub.status.idle": "2024-06-10T02:33:05.110460Z",
     "shell.execute_reply": "2024-06-10T02:33:05.110013Z"
    },
    "lines_to_next_cell": 1,
    "papermill": {
     "duration": 0.010053,
     "end_time": "2024-06-10T02:33:05.111503",
     "exception": false,
     "start_time": "2024-06-10T02:33:05.101450",
     "status": "completed"
    },
    "tags": []
   },
   "outputs": [],
   "source": [
    "# https://leetcode.com/problems/sum-of-all-subset-xor-totals/submissions/1263288868\n",
    "def subsetXORSumMemo(nums: list[int]) -> int:\n",
    "    @functools.cache\n",
    "    def backtrack(i: int, curr: int) -> int:\n",
    "        if i == N:\n",
    "            return curr\n",
    "        else:\n",
    "            return backtrack(i + 1, curr ^ nums[i]) + backtrack(i + 1, curr)\n",
    "\n",
    "    N = len(nums)\n",
    "    return backtrack(0, 0)\n",
    "\n",
    "# Testing the solution\n",
    "assert subsetXORSumMemo([1,3]) == 6\n",
    "assert subsetXORSumMemo([5,1,6]) == 28"
   ]
  },
  {
   "cell_type": "markdown",
   "id": "9b399353",
   "metadata": {
    "papermill": {
     "duration": 0.00399,
     "end_time": "2024-06-10T02:33:05.119569",
     "exception": false,
     "start_time": "2024-06-10T02:33:05.115579",
     "status": "completed"
    },
    "tags": []
   },
   "source": [
    "Largest Rectangle in a histogram"
   ]
  },
  {
   "cell_type": "code",
   "execution_count": 10,
   "id": "1eb77032",
   "metadata": {
    "execution": {
     "iopub.execute_input": "2024-06-10T02:33:05.128891Z",
     "iopub.status.busy": "2024-06-10T02:33:05.128342Z",
     "iopub.status.idle": "2024-06-10T02:33:05.135018Z",
     "shell.execute_reply": "2024-06-10T02:33:05.134559Z"
    },
    "lines_to_next_cell": 1,
    "papermill": {
     "duration": 0.012532,
     "end_time": "2024-06-10T02:33:05.136099",
     "exception": false,
     "start_time": "2024-06-10T02:33:05.123567",
     "status": "completed"
    },
    "tags": []
   },
   "outputs": [],
   "source": [
    "# https://leetcode.com/problems/largest-rectangle-in-histogram/submissions/1266278725\n",
    "def largestRectangleArea(heights: list[int]) -> int:\n",
    "    \"\"\"\n",
    "    Count the number of rectangles to the right that are greater than or equal to self\n",
    "    Count the number of rectangles to the left that are greater than or equal to self\n",
    "    \"\"\"\n",
    "\n",
    "    N = len(heights)\n",
    "\n",
    "    right_dp: list[int] = [N - i for i in range(N)]\n",
    "    left_dp: list[int] = [i + 1 for i in range(N)]\n",
    "    stack: list[tuple[int, int]] = []\n",
    "\n",
    "    for i in range(N):\n",
    "        curr: tuple[int, int] = (heights[i], i)\n",
    "        while stack and stack[-1][0] > curr[0]:\n",
    "            prev = stack.pop()\n",
    "            right_dp[prev[1]] = curr[1] - prev[1]\n",
    "        stack.append(curr)\n",
    "\n",
    "    stack.clear()\n",
    "\n",
    "    for i in range(N - 1, -1, -1):\n",
    "        curr = (heights[i], i)\n",
    "        while stack and stack[-1][0] > curr[0]:\n",
    "            prev = stack.pop()\n",
    "            left_dp[prev[1]] = prev[1] - curr[1]\n",
    "        stack.append(curr)\n",
    "\n",
    "    max_ = 0\n",
    "    for i in range(N):\n",
    "        max_ = max(max_, (left_dp[i] + right_dp[i] - 1) * heights[i])\n",
    "\n",
    "    return max_\n",
    "\n",
    "# Testing the solution\n",
    "assert largestRectangleArea([2,1,5,6,2,3]) == 10\n",
    "assert largestRectangleArea([2,4]) == 4\n",
    "assert largestRectangleArea([2,1,2]) == 3"
   ]
  },
  {
   "cell_type": "markdown",
   "id": "05d83699",
   "metadata": {
    "papermill": {
     "duration": 0.00403,
     "end_time": "2024-06-10T02:33:05.144335",
     "exception": false,
     "start_time": "2024-06-10T02:33:05.140305",
     "status": "completed"
    },
    "tags": []
   },
   "source": [
    "Container Queries - CN Weekly - 3"
   ]
  },
  {
   "cell_type": "code",
   "execution_count": 11,
   "id": "e9d3612c",
   "metadata": {
    "execution": {
     "iopub.execute_input": "2024-06-10T02:33:05.153436Z",
     "iopub.status.busy": "2024-06-10T02:33:05.152925Z",
     "iopub.status.idle": "2024-06-10T02:33:05.158645Z",
     "shell.execute_reply": "2024-06-10T02:33:05.158201Z"
    },
    "lines_to_next_cell": 1,
    "papermill": {
     "duration": 0.01138,
     "end_time": "2024-06-10T02:33:05.159658",
     "exception": false,
     "start_time": "2024-06-10T02:33:05.148278",
     "status": "completed"
    },
    "tags": []
   },
   "outputs": [],
   "source": [
    "def containerQueries(N: int, S: str, query_len: int, queries: list[list[int]]) -> list[int]:\n",
    "    positions: dict[str, collections.deque[int]] = dict()\n",
    "    for i in range(N):\n",
    "        indices = positions.get(S[i], collections.deque())\n",
    "        indices.append(i)\n",
    "        positions[S[i]] = indices\n",
    "\n",
    "    end_pos = 0\n",
    "    for k in positions:\n",
    "        end_pos = max(end_pos, positions[k].popleft())\n",
    "\n",
    "    dp: list[int] = [end_pos]\n",
    "    for i in range(1, N):\n",
    "        prev = S[i - 1]\n",
    "        next_pos = max(dp[-1], positions[prev].popleft() if positions[prev] else N)\n",
    "        dp.append(next_pos)\n",
    "\n",
    "    result: list[int] = []\n",
    "    for i, j in queries:\n",
    "        if j >= dp[i]:\n",
    "            result.append(1)\n",
    "        else:\n",
    "            result.append(0)\n",
    "\n",
    "    return result\n",
    "\n",
    "# Testing the solution\n",
    "assert containerQueries(8, \"yukppuyk\", 2, [[0,4],[5,7]]) == [1, 0]"
   ]
  },
  {
   "cell_type": "markdown",
   "id": "bdba0c2a",
   "metadata": {
    "papermill": {
     "duration": 0.003961,
     "end_time": "2024-06-10T02:33:05.167546",
     "exception": false,
     "start_time": "2024-06-10T02:33:05.163585",
     "status": "completed"
    },
    "tags": []
   },
   "source": [
    "LC Biweekly 131: 25th May 2024"
   ]
  },
  {
   "cell_type": "code",
   "execution_count": 12,
   "id": "65434525",
   "metadata": {
    "execution": {
     "iopub.execute_input": "2024-06-10T02:33:05.176694Z",
     "iopub.status.busy": "2024-06-10T02:33:05.176191Z",
     "iopub.status.idle": "2024-06-10T02:33:05.179908Z",
     "shell.execute_reply": "2024-06-10T02:33:05.179486Z"
    },
    "lines_to_next_cell": 1,
    "papermill": {
     "duration": 0.009503,
     "end_time": "2024-06-10T02:33:05.180964",
     "exception": false,
     "start_time": "2024-06-10T02:33:05.171461",
     "status": "completed"
    },
    "tags": []
   },
   "outputs": [],
   "source": [
    "# Q1\n",
    "def duplicateNumbersXOR(nums: list[int]) -> int:\n",
    "    set_: set[int] = set()\n",
    "    result: int = 0\n",
    "    for n in nums:\n",
    "        if n not in set_:\n",
    "            set_.add(n)\n",
    "        else:\n",
    "            result = result ^ n\n",
    "\n",
    "    return result\n",
    "\n",
    "# Testing the solution\n",
    "assert duplicateNumbersXOR([1,2,1,3]) == 1\n",
    "assert duplicateNumbersXOR([1,2,3]) == 0\n",
    "assert duplicateNumbersXOR([1,2,2,1]) == 3"
   ]
  },
  {
   "cell_type": "code",
   "execution_count": 13,
   "id": "dcade46b",
   "metadata": {
    "execution": {
     "iopub.execute_input": "2024-06-10T02:33:05.189976Z",
     "iopub.status.busy": "2024-06-10T02:33:05.189543Z",
     "iopub.status.idle": "2024-06-10T02:33:05.194165Z",
     "shell.execute_reply": "2024-06-10T02:33:05.193749Z"
    },
    "lines_to_next_cell": 1,
    "papermill": {
     "duration": 0.010197,
     "end_time": "2024-06-10T02:33:05.195267",
     "exception": false,
     "start_time": "2024-06-10T02:33:05.185070",
     "status": "completed"
    },
    "tags": []
   },
   "outputs": [],
   "source": [
    "# Q2\n",
    "def occurrencesOfElement(nums: list[int], queries: list[int], x: int) -> list[int]:\n",
    "    N = len(nums)\n",
    "    occurance: int = 0\n",
    "    indices: dict[int, int] = dict()\n",
    "    for i in range(N):\n",
    "        if nums[i] == x:\n",
    "            indices[occurance] = i\n",
    "            occurance += 1\n",
    "\n",
    "    result: list[int] = []\n",
    "    for q in queries:\n",
    "        result.append(indices.get(q - 1, -1))\n",
    "\n",
    "    return result\n",
    "\n",
    "# Testing the solution\n",
    "assert occurrencesOfElement([1,1,1], [1,2,3,4], 1) == [0,1,2,-1]\n",
    "assert occurrencesOfElement([1,3,1,7], [1,3,2,4], 1) == [0,-1,2,-1]\n",
    "assert occurrencesOfElement([1,2,3], [10], 5) == [-1]"
   ]
  },
  {
   "cell_type": "code",
   "execution_count": 14,
   "id": "044267dd",
   "metadata": {
    "execution": {
     "iopub.execute_input": "2024-06-10T02:33:05.204293Z",
     "iopub.status.busy": "2024-06-10T02:33:05.203802Z",
     "iopub.status.idle": "2024-06-10T02:33:05.209487Z",
     "shell.execute_reply": "2024-06-10T02:33:05.209040Z"
    },
    "papermill": {
     "duration": 0.011292,
     "end_time": "2024-06-10T02:33:05.210520",
     "exception": false,
     "start_time": "2024-06-10T02:33:05.199228",
     "status": "completed"
    },
    "tags": []
   },
   "outputs": [],
   "source": [
    "# Q3\n",
    "def queryResults(limit: int, queries: list[list[int]]) -> list[int]:\n",
    "    color_map: dict[int, set[int]] = dict()\n",
    "    ball_map: dict[int, int] = dict()\n",
    "\n",
    "    result: list[int] = []\n",
    "    for ball, color in queries:\n",
    "        old_color = ball_map.get(ball, 0)\n",
    "        if old_color > 0:\n",
    "            color_map[old_color].remove(ball)\n",
    "            if len(color_map[old_color]) == 0:\n",
    "                del color_map[old_color]\n",
    "\n",
    "        balls = color_map.get(color, set())\n",
    "        balls.add(ball)\n",
    "        color_map[color] = balls\n",
    "        ball_map[ball] = color\n",
    "\n",
    "        result.append(len(color_map))\n",
    "\n",
    "    return result\n",
    "\n",
    "# Testing the solution\n",
    "assert queryResults(4, [[0,1],[1,2],[2,2],[3,4],[4,5]]) == [1,2,2,3,4]\n",
    "assert queryResults(4, [[1,4],[2,5],[1,3],[3,4]]) == [1,2,2,3]\n",
    "assert queryResults(1, [[0,10],[1,10]]) == [1,1]"
   ]
  },
  {
   "cell_type": "code",
   "execution_count": 15,
   "id": "ba1be302",
   "metadata": {
    "execution": {
     "iopub.execute_input": "2024-06-10T02:33:05.219523Z",
     "iopub.status.busy": "2024-06-10T02:33:05.219024Z",
     "iopub.status.idle": "2024-06-10T02:33:05.224282Z",
     "shell.execute_reply": "2024-06-10T02:33:05.223864Z"
    },
    "lines_to_next_cell": 1,
    "papermill": {
     "duration": 0.010907,
     "end_time": "2024-06-10T02:33:05.225395",
     "exception": false,
     "start_time": "2024-06-10T02:33:05.214488",
     "status": "completed"
    },
    "tags": []
   },
   "outputs": [],
   "source": [
    "# Q4: TLE :(\n",
    "import bisect\n",
    "\n",
    "def getResultsBrute(queries: list[list[int]]) -> list[bool]:\n",
    "    obstacles: list[int] = [0]\n",
    "    result: list[bool] = []\n",
    "\n",
    "    for q in queries:\n",
    "        if len(q) == 2:\n",
    "            bisect.insort(obstacles, q[1])\n",
    "        else:\n",
    "            x, sz = q[1], q[2]\n",
    "            idx = bisect.bisect_left(obstacles, x)\n",
    "            max_size = x - obstacles[idx - 1]\n",
    "            for i in range(1, idx):\n",
    "                max_size = max(max_size, obstacles[i] - obstacles[i - 1])\n",
    "\n",
    "            result.append(max_size >= sz)\n",
    "\n",
    "    return result\n",
    "\n",
    "# Testing the solution\n",
    "assert getResultsBrute([[1,2],[2,3,3],[2,3,1],[2,2,2]]) == [False, True, True]\n",
    "assert getResultsBrute([[1,7],[2,7,6],[1,2],[2,7,5],[2,7,6]]) == [True,True,False]"
   ]
  },
  {
   "cell_type": "markdown",
   "id": "fc475105",
   "metadata": {
    "papermill": {
     "duration": 0.003978,
     "end_time": "2024-06-10T02:33:05.233464",
     "exception": false,
     "start_time": "2024-06-10T02:33:05.229486",
     "status": "completed"
    },
    "tags": []
   },
   "source": [
    "CN Weekly Contest"
   ]
  },
  {
   "cell_type": "code",
   "execution_count": 16,
   "id": "3fbb5da0",
   "metadata": {
    "execution": {
     "iopub.execute_input": "2024-06-10T02:33:05.242479Z",
     "iopub.status.busy": "2024-06-10T02:33:05.242012Z",
     "iopub.status.idle": "2024-06-10T02:33:05.247424Z",
     "shell.execute_reply": "2024-06-10T02:33:05.246992Z"
    },
    "lines_to_next_cell": 1,
    "papermill": {
     "duration": 0.011068,
     "end_time": "2024-06-10T02:33:05.248495",
     "exception": false,
     "start_time": "2024-06-10T02:33:05.237427",
     "status": "completed"
    },
    "tags": []
   },
   "outputs": [],
   "source": [
    "# Q2 - Easy\n",
    "def minimumLength(s1: str, s2: str) -> int:\n",
    "    N, M = len(s1), len(s2)\n",
    "\n",
    "    if s1 in s2:\n",
    "        return M\n",
    "\n",
    "    elif s2 in s1:\n",
    "        return N\n",
    "\n",
    "    else:\n",
    "        # Store the indices where s1[0] and s1[-1] are found\n",
    "        left: list[int] = []\n",
    "        right: list[int] = []\n",
    "        for i in range(M):\n",
    "            if s2[i] == s1[0]:\n",
    "                right.append(i)\n",
    "            if s2[i] == s1[-1]:\n",
    "                left.append(i)\n",
    "\n",
    "        # Ans is always possible\n",
    "        min_ = N + M\n",
    "\n",
    "        # Check right concatentation\n",
    "        for i in right:\n",
    "            overlap_length = M - i\n",
    "            if s2[i:] == s1[:overlap_length]:\n",
    "                min_ = min(min_, N + M - overlap_length)\n",
    "\n",
    "        # Check left concatentation\n",
    "        for i in left:\n",
    "            overlap_length = i + 1\n",
    "            if s2[:i + 1] == s1[-overlap_length:]:\n",
    "                min_ = min(min_, N + M - overlap_length)\n",
    "\n",
    "        return min_\n",
    "\n",
    "# Testing the solution\n",
    "assert minimumLength(\"abcabc\", \"aaabc\") == 8\n",
    "assert minimumLength(\"bibia\", \"aibia\") == 9\n",
    "assert minimumLength(\"aabcabcd\", \"abc\") == 8"
   ]
  },
  {
   "cell_type": "markdown",
   "id": "e7276dd3",
   "metadata": {
    "papermill": {
     "duration": 0.003951,
     "end_time": "2024-06-10T02:33:05.256532",
     "exception": false,
     "start_time": "2024-06-10T02:33:05.252581",
     "status": "completed"
    },
    "tags": []
   },
   "source": [
    "LC Medium: Count number of primes\n",
    "https://leetcode.com/problems/count-primes/"
   ]
  },
  {
   "cell_type": "code",
   "execution_count": 17,
   "id": "12043883",
   "metadata": {
    "execution": {
     "iopub.execute_input": "2024-06-10T02:33:05.265423Z",
     "iopub.status.busy": "2024-06-10T02:33:05.265098Z",
     "iopub.status.idle": "2024-06-10T02:33:05.269296Z",
     "shell.execute_reply": "2024-06-10T02:33:05.268852Z"
    },
    "lines_to_next_cell": 1,
    "papermill": {
     "duration": 0.009864,
     "end_time": "2024-06-10T02:33:05.270359",
     "exception": false,
     "start_time": "2024-06-10T02:33:05.260495",
     "status": "completed"
    },
    "tags": []
   },
   "outputs": [],
   "source": [
    "# https://leetcode.com/problems/count-primes/submissions/1275257285\n",
    "def countPrimes(N: int) -> int:\n",
    "\n",
    "    if N == 0:\n",
    "        return 0\n",
    "\n",
    "    soe: list[bool] = [True] * (N + 1)\n",
    "    soe[0] = soe[1] = False\n",
    "    i = 2\n",
    "    while i * i <= N:\n",
    "        if soe[i]:\n",
    "            \"\"\"\n",
    "            j = i\n",
    "            while i * j <= N:\n",
    "                soe[i * j] = False\n",
    "                j += 1\n",
    "            \"\"\"\n",
    "            # List slicing is much faster thanks to the C impl backend\n",
    "            soe[i*i:N+1:i] = [False] * len(soe[i*i:N+1:i])\n",
    "        i += 1\n",
    "\n",
    "    return sum(soe)\n",
    "\n",
    "# Testing the solution\n",
    "assert countPrimes(10) == 4\n",
    "assert countPrimes(0) == countPrimes(1) == 0\n",
    "assert countPrimes(100) == 25"
   ]
  },
  {
   "cell_type": "markdown",
   "id": "03bf3eee",
   "metadata": {
    "papermill": {
     "duration": 0.003969,
     "end_time": "2024-06-10T02:33:05.278267",
     "exception": false,
     "start_time": "2024-06-10T02:33:05.274298",
     "status": "completed"
    },
    "tags": []
   },
   "source": [
    "Heights checker - Easy\n",
    "https://leetcode.com/problems/height-checker/submissions/1283296449/"
   ]
  },
  {
   "cell_type": "code",
   "execution_count": 18,
   "id": "2f073c27",
   "metadata": {
    "execution": {
     "iopub.execute_input": "2024-06-10T02:33:05.286899Z",
     "iopub.status.busy": "2024-06-10T02:33:05.286699Z",
     "iopub.status.idle": "2024-06-10T02:33:05.291563Z",
     "shell.execute_reply": "2024-06-10T02:33:05.291145Z"
    },
    "lines_to_next_cell": 1,
    "papermill": {
     "duration": 0.01044,
     "end_time": "2024-06-10T02:33:05.292651",
     "exception": false,
     "start_time": "2024-06-10T02:33:05.282211",
     "status": "completed"
    },
    "tags": []
   },
   "outputs": [],
   "source": [
    "def heightChecker(heights: list[int]) -> int:\n",
    "    \"\"\"\n",
    "    Implement count sort\n",
    "    Time: O(N), Space: O(N)\n",
    "\n",
    "    1. Bucketize and count the heights\n",
    "    2. Kind of like a two pointer approach, iterate through both. Bucketized dict is iterate in order of natural numbers O(100 * individual freq) ~ O(N)\n",
    "    3. This solution is O(N) only because we have a natural limit to max height - 100\n",
    "    \"\"\"\n",
    "    freq = collections.Counter(heights)\n",
    "\n",
    "    result = currHeight = 0\n",
    "    for height in heights:\n",
    "\n",
    "        while currHeight not in freq or freq[currHeight] == 0: \n",
    "            currHeight += 1\n",
    "\n",
    "        if currHeight != height:\n",
    "            result += 1\n",
    "\n",
    "        # Whether matching or not matching, one of student's\n",
    "        # heights were compared, so continue travesing\n",
    "        freq[currHeight] -= 1\n",
    "\n",
    "    return result\n",
    "\n",
    "# Testing the solution\n",
    "assert heightChecker([1,1,4,2,1,3]) == 3\n",
    "assert heightChecker([5,1,2,3,4]) == 5\n",
    "assert heightChecker([1,2,3,4,5]) == 0"
   ]
  },
  {
   "cell_type": "markdown",
   "id": "d13e69e3",
   "metadata": {
    "papermill": {
     "duration": 0.003892,
     "end_time": "2024-06-10T02:33:05.300580",
     "exception": false,
     "start_time": "2024-06-10T02:33:05.296688",
     "status": "completed"
    },
    "tags": []
   },
   "source": [
    "LC Virtual - 1: Warmup contest\n",
    "https://leetcode.com/contest/warm-up-contest"
   ]
  },
  {
   "cell_type": "code",
   "execution_count": 19,
   "id": "4c4f1888",
   "metadata": {
    "execution": {
     "iopub.execute_input": "2024-06-10T02:33:05.309613Z",
     "iopub.status.busy": "2024-06-10T02:33:05.309100Z",
     "iopub.status.idle": "2024-06-10T02:33:05.316354Z",
     "shell.execute_reply": "2024-06-10T02:33:05.315840Z"
    },
    "lines_to_next_cell": 1,
    "papermill": {
     "duration": 0.012889,
     "end_time": "2024-06-10T02:33:05.317415",
     "exception": false,
     "start_time": "2024-06-10T02:33:05.304526",
     "status": "completed"
    },
    "tags": []
   },
   "outputs": [
    {
     "data": {
      "text/plain": [
       "[1,\n",
       " 10,\n",
       " 11,\n",
       " 12,\n",
       " 13,\n",
       " 14,\n",
       " 15,\n",
       " 16,\n",
       " 17,\n",
       " 18,\n",
       " 19,\n",
       " 2,\n",
       " 20,\n",
       " 21,\n",
       " 22,\n",
       " 23,\n",
       " 24,\n",
       " 25,\n",
       " 3,\n",
       " 4,\n",
       " 5,\n",
       " 6,\n",
       " 7,\n",
       " 8,\n",
       " 9]"
      ]
     },
     "execution_count": 19,
     "metadata": {},
     "output_type": "execute_result"
    }
   ],
   "source": [
    "# Q1: Lexicographical numbers\n",
    "def lexicalOrderRecursive(n: int) -> list[int]:\n",
    "    result: list[int] = []\n",
    "    def backtrack(curr: int) -> None:\n",
    "        result.append(curr)\n",
    "        if curr * 10 <= n:\n",
    "            backtrack(curr * 10)\n",
    "        if (curr % 10) < 9 and curr < n:\n",
    "            backtrack(curr + 1)\n",
    "\n",
    "    backtrack(1)\n",
    "    return result\n",
    "\n",
    "# Testing the solution\n",
    "lexicalOrderRecursive(25)"
   ]
  },
  {
   "cell_type": "code",
   "execution_count": 20,
   "id": "fc44841b",
   "metadata": {
    "execution": {
     "iopub.execute_input": "2024-06-10T02:33:05.326703Z",
     "iopub.status.busy": "2024-06-10T02:33:05.326336Z",
     "iopub.status.idle": "2024-06-10T02:33:05.331836Z",
     "shell.execute_reply": "2024-06-10T02:33:05.331393Z"
    },
    "lines_to_next_cell": 1,
    "papermill": {
     "duration": 0.011329,
     "end_time": "2024-06-10T02:33:05.332922",
     "exception": false,
     "start_time": "2024-06-10T02:33:05.321593",
     "status": "completed"
    },
    "tags": []
   },
   "outputs": [
    {
     "data": {
      "text/plain": [
       "[1,\n",
       " 10,\n",
       " 11,\n",
       " 12,\n",
       " 13,\n",
       " 14,\n",
       " 15,\n",
       " 16,\n",
       " 17,\n",
       " 18,\n",
       " 19,\n",
       " 2,\n",
       " 20,\n",
       " 21,\n",
       " 22,\n",
       " 23,\n",
       " 24,\n",
       " 25,\n",
       " 3,\n",
       " 4,\n",
       " 5,\n",
       " 6,\n",
       " 7,\n",
       " 8,\n",
       " 9]"
      ]
     },
     "execution_count": 20,
     "metadata": {},
     "output_type": "execute_result"
    }
   ],
   "source": [
    "def lexicalOrder(n: int) -> list[int]:\n",
    "    result: list[int] = []\n",
    "    stack: list[int] = [1]\n",
    "    while stack:\n",
    "        curr = stack.pop()\n",
    "        result.append(curr)\n",
    "        if (curr % 10) < 9 and curr < n:\n",
    "            stack.append(curr + 1)\n",
    "        if curr * 10 <= n:\n",
    "            stack.append(curr * 10)\n",
    "\n",
    "    return result\n",
    "\n",
    "# Testing the solution\n",
    "lexicalOrder(25)"
   ]
  },
  {
   "cell_type": "code",
   "execution_count": 21,
   "id": "d276fa81",
   "metadata": {
    "execution": {
     "iopub.execute_input": "2024-06-10T02:33:05.342411Z",
     "iopub.status.busy": "2024-06-10T02:33:05.341998Z",
     "iopub.status.idle": "2024-06-10T02:33:05.345817Z",
     "shell.execute_reply": "2024-06-10T02:33:05.345298Z"
    },
    "lines_to_next_cell": 1,
    "papermill": {
     "duration": 0.009806,
     "end_time": "2024-06-10T02:33:05.346967",
     "exception": false,
     "start_time": "2024-06-10T02:33:05.337161",
     "status": "completed"
    },
    "tags": []
   },
   "outputs": [],
   "source": [
    "# Q2: First unique character in a string\n",
    "def firstUniqChar(s: str) -> int:\n",
    "    \"\"\"\n",
    "    Iterate from right to left. Keep track of elements already visited.\n",
    "    If new char is encountered update result.\n",
    "    Else (char already exists), ensure that result prev found\n",
    "    \"\"\"\n",
    "    N = len(s)\n",
    "    freq = collections.Counter(s)\n",
    "    for i in range(N):\n",
    "        if freq[s[i]] == 1:\n",
    "            return i\n",
    "    return -1\n",
    "\n",
    "# Testing the solution\n",
    "assert firstUniqChar(\"leetcode\") == 0\n",
    "assert firstUniqChar(\"loveleetcode\") == 2\n",
    "assert firstUniqChar(\"aabb\") == -1\n",
    "assert firstUniqChar(\"aab\") == 2"
   ]
  },
  {
   "cell_type": "code",
   "execution_count": 22,
   "id": "18fdc0db",
   "metadata": {
    "execution": {
     "iopub.execute_input": "2024-06-10T02:33:05.356790Z",
     "iopub.status.busy": "2024-06-10T02:33:05.356286Z",
     "iopub.status.idle": "2024-06-10T02:33:05.362476Z",
     "shell.execute_reply": "2024-06-10T02:33:05.362056Z"
    },
    "lines_to_next_cell": 1,
    "papermill": {
     "duration": 0.012261,
     "end_time": "2024-06-10T02:33:05.363530",
     "exception": false,
     "start_time": "2024-06-10T02:33:05.351269",
     "status": "completed"
    },
    "tags": []
   },
   "outputs": [],
   "source": [
    "# Q3: Longest Absolute File Path\n",
    "def lengthLongestPath(abstracted: str) -> int:\n",
    "    \"\"\"\n",
    "    Iterate through path character by character.\n",
    "    \"\\n\" demarcates the structure.\n",
    "    \"\\t\" tells us about the depth\n",
    "\n",
    "    If curr_depth is > prev_depth, nest inside previous.\n",
    "    If curr_depth <= prev_depth, remove previously added levels and add curr. Levels to remove: prev_depth - curr_depth + 1\n",
    "    \"\"\"\n",
    "\n",
    "    path: list[str] = []\n",
    "    N, i = len(abstracted), 0\n",
    "    max_length, depth = 0, 0\n",
    "    is_file = False\n",
    "    while i < N:\n",
    "        if abstracted[i] == \"\\n\":\n",
    "            # Check if current absolute path is a file, if yes update max_length\n",
    "            if is_file:\n",
    "                max_length = max(max_length, len(path))\n",
    "\n",
    "            i, prev_depth, depth = i + 1, depth, 0\n",
    "            while abstracted[i] == \"\\t\":\n",
    "                i, depth = i + 1, depth + 1\n",
    "\n",
    "            # Remove nested structure if curr_depth <= prev_depth\n",
    "            if depth <= prev_depth:\n",
    "                extra_depth = prev_depth - depth + 1\n",
    "                while path and extra_depth:\n",
    "                    removed = path.pop()\n",
    "                    if removed == \"/\":\n",
    "                        extra_depth -= 1\n",
    "\n",
    "            # Reset values for upcoming cycle\n",
    "            if depth > 0:\n",
    "                path.append(\"/\")\n",
    "            is_file = False\n",
    "\n",
    "        else:\n",
    "            if abstracted[i] == '.':\n",
    "                is_file = True\n",
    "            path.append(abstracted[i])\n",
    "            i += 1\n",
    "\n",
    "    return max(max_length, len(path) if is_file else 0)\n",
    "\n",
    "# Testing the solution\n",
    "assert lengthLongestPath(\"dir\\n\\tsubdir1\\n\\t\\tfile1.ext\\n\\t\\tsubsubdir1\\n\\tsubdir2\\n\\t\\tsubsubdir2\\n\\t\\t\\tfile2.ext\") == 32\n",
    "assert lengthLongestPath(\"dir\\n\\tsubdir1\\n\\tsubdir2\\n\\t\\tfile.ext\") == 20\n",
    "assert lengthLongestPath(\"file1.txt\\nfile2.txt\\nlongfile.txt\") == 12\n",
    "assert lengthLongestPath(\"dir1\\ndir2\\n\\tsubdir1\\n\\tsubdir2\\n\\t\\tfile.ext\") == 21\n",
    "assert lengthLongestPath(\"dir0\\n\\tabcdefghijklmnopqrstuvw.file\") == 33"
   ]
  },
  {
   "cell_type": "markdown",
   "id": "6646c06b",
   "metadata": {},
   "source": [
    "LC Medium: Furthest Building you can reach\n",
    "https://leetcode.com/problems/furthest-building-you-can-reach/submissions/1284332700/"
   ]
  },
  {
   "cell_type": "code",
   "execution_count": null,
   "id": "1cb0678f",
   "metadata": {
    "lines_to_next_cell": 1
   },
   "outputs": [],
   "source": [
    "def furthestBuilding(heights: list[int], bricks: int, ladders: int) -> int:\n",
    "    \"\"\"\n",
    "    Maintain the sum of deltas, maintain a max heap of size ladders.\n",
    "    At any point total sum - heap sum > bricks, break\n",
    "    \"\"\"\n",
    "    class MinHeap:\n",
    "        def __init__(self, size: int):\n",
    "            self.capacity: int = size\n",
    "            self.heap: list[int] = []\n",
    "            self.sum: int = 0\n",
    "            self.N = 0\n",
    "\n",
    "        def add(self, delta: int) -> int:\n",
    "            \"\"\"\n",
    "            Adds to the heap and returns the sum of the heap\n",
    "            \"\"\"\n",
    "            if self.N < self.capacity:\n",
    "                heapq.heappush(self.heap, delta)\n",
    "                self.sum, self.N = self.sum + delta, self.N + 1\n",
    "            else:\n",
    "                # Equivalent to a push, then a pop\n",
    "                extra = heapq.heappushpop(self.heap, delta)\n",
    "                self.sum += delta - extra\n",
    "\n",
    "            return self.sum\n",
    "\n",
    "        def __str__(self) -> str:\n",
    "            return ','.join(sorted(map(str, self.heap)))\n",
    "\n",
    "    N = len(heights)\n",
    "    heap = MinHeap(ladders)\n",
    "    heap.add(0)\n",
    "    total_sum, prev = 0, heights[0]\n",
    "    for i in range(N):\n",
    "        prev, delta = heights[i], heights[i] - prev\n",
    "        if delta >= 0:\n",
    "            total_sum += delta\n",
    "            heap_sum = heap.add(delta)\n",
    "            if total_sum - heap_sum > bricks:\n",
    "                return i - 1\n",
    "\n",
    "    return i\n",
    "\n",
    "# Testing the solution\n",
    "assert furthestBuilding([4,2,7,6,9,14,12], 5, 1) == 4\n",
    "assert furthestBuilding([4,12,2,7,3,18,20,3,19], 10, 2) == 7\n",
    "assert furthestBuilding([14,3,19,3], 17, 0) == 3\n",
    "assert furthestBuilding([1,5,1,2,3,4,10000], 4, 1) == 5"
   ]
  },
  {
   "cell_type": "markdown",
   "id": "6eb1b723",
   "metadata": {},
   "source": [
    "LC Virtual - 3: Weekly Contest 2\n",
    "https://leetcode.com/contest/leetcode-weekly-contest-2"
   ]
  },
  {
   "cell_type": "code",
   "execution_count": null,
   "id": "415f85c7",
   "metadata": {
    "lines_to_next_cell": 1
   },
   "outputs": [],
   "source": [
    "# LC Easy: Q1: Find the difference\n",
    "def findTheDifference(s: str, t: str) -> str:\n",
    "    s_freq = collections.Counter(s)\n",
    "    for ch in t:\n",
    "        if ch not in s_freq:\n",
    "            return ch\n",
    "        else:\n",
    "            s_freq[ch] -= 1\n",
    "            if s_freq[ch] == 0:\n",
    "                s_freq.pop(ch)\n",
    "\n",
    "    return \"\"\n",
    "\n",
    "# Testing the solution\n",
    "assert findTheDifference(\"ab\", \"aba\") == 'a'\n",
    "assert findTheDifference(\"\", \"x\") == 'x'"
   ]
  },
  {
   "cell_type": "code",
   "execution_count": null,
   "id": "5a4f0ace",
   "metadata": {
    "lines_to_next_cell": 1
   },
   "outputs": [],
   "source": [
    "# LC Medium: Q2: Elimination Game\n",
    "def lastRemainingBrute(N: int) -> int:\n",
    "    not_eliminated: set[int] = set(range(1, N + 1))\n",
    "    skip, dir_ = 1, 1\n",
    "    while len(not_eliminated) >  1:\n",
    "        # RTL\n",
    "        if dir_ == 1:\n",
    "            start = min(not_eliminated)\n",
    "            end, skip, dir_ = N + 1, 2 * abs(skip), -1\n",
    "\n",
    "        # LTR\n",
    "        else:\n",
    "            start = max(not_eliminated)\n",
    "            end, skip, dir_ = 0, -2 * abs(skip), 1\n",
    "\n",
    "        print(not_eliminated)\n",
    "\n",
    "        for i in range(start, end, skip):\n",
    "            not_eliminated.remove(i)\n",
    "\n",
    "    return not_eliminated.pop()\n",
    "\n",
    "# Testing the solution\n",
    "assert lastRemainingBrute(9) == 6"
   ]
  },
  {
   "cell_type": "code",
   "execution_count": null,
   "id": "b4eab57a",
   "metadata": {},
   "outputs": [],
   "source": [
    "def lastRemaining(N: int) -> int:\n",
    "    \"\"\"\n",
    "    Binary Search like approach:\n",
    "        If N is odd: Shrink both ends\n",
    "        Elif dir == \"right\": Shrink to right\n",
    "        Else: Shrink to left\n",
    "    \"\"\"\n",
    "    start, end = 1, N\n",
    "    range_length, shrink_size = N, 1\n",
    "    rtl = True\n",
    "    while range_length > 1:\n",
    "        if range_length % 2:\n",
    "            start, end = start + shrink_size, end - shrink_size\n",
    "        elif rtl:\n",
    "            start = start + shrink_size\n",
    "        else:\n",
    "            end = end - shrink_size\n",
    "\n",
    "        rtl = not rtl\n",
    "        range_length, shrink_size = range_length // 2, shrink_size * 2\n",
    "\n",
    "    return start\n",
    "\n",
    "# Testing the solution\n",
    "assert lastRemaining(9) == 6\n",
    "assert lastRemaining(1) == 1"
   ]
  }
 ],
 "metadata": {
  "kernelspec": {
   "display_name": "Python 3 (ipykernel)",
   "language": "python",
   "name": "python3"
  },
  "language_info": {
   "codemirror_mode": {
    "name": "ipython",
    "version": 3
   },
   "file_extension": ".py",
   "mimetype": "text/x-python",
   "name": "python",
   "nbconvert_exporter": "python",
   "pygments_lexer": "ipython3",
   "version": "3.11.9"
  },
  "papermill": {
   "default_parameters": {},
   "duration": 2.193166,
   "end_time": "2024-06-10T02:33:05.584799",
   "environment_variables": {},
   "exception": null,
   "input_path": "practice/003.ipynb",
   "output_path": "practice/003.ipynb",
   "parameters": {},
   "start_time": "2024-06-10T02:33:03.391633",
   "version": "2.6.0"
  }
 },
 "nbformat": 4,
 "nbformat_minor": 5
}
