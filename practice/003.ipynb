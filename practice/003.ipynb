{
 "cells": [
  {
   "cell_type": "code",
   "execution_count": 1,
   "id": "829c6a0a",
   "metadata": {
    "execution": {
     "iopub.execute_input": "2024-05-23T15:53:36.953826Z",
     "iopub.status.busy": "2024-05-23T15:53:36.953361Z",
     "iopub.status.idle": "2024-05-23T15:53:37.319916Z",
     "shell.execute_reply": "2024-05-23T15:53:37.319329Z"
    },
    "papermill": {
     "duration": 0.372366,
     "end_time": "2024-05-23T15:53:37.321508",
     "exception": false,
     "start_time": "2024-05-23T15:53:36.949142",
     "status": "completed"
    },
    "tags": []
   },
   "outputs": [],
   "source": [
    "from typing import List, Optional, Generator\n",
    "import pandas as pd\n",
    "import numpy as np\n",
    "import sqlite3\n",
    "import re\n",
    "import io\n",
    "import math\n",
    "import collections\n",
    "import itertools\n",
    "import functools\n",
    "import random\n",
    "import string\n",
    "import tqdm\n",
    "import bisect\n",
    "import heapq\n",
    "\n",
    "conn = sqlite3.connect(\":memory:\")\n",
    "\n",
    "def regexp(expr, item):\n",
    "    reg = re.compile(expr)\n",
    "    return reg.search(item) is not None\n",
    "\n",
    "def read_lc_df(s: str, dtypes: dict[str, str]=dict()) -> pd.DataFrame:\n",
    "    temp = pd.read_csv(io.StringIO(s), sep=\"|\", skiprows=2)\n",
    "    temp = temp.iloc[1:-1, 1:-1]\n",
    "    temp.columns = temp.columns.map(str.strip)\n",
    "    temp = temp.map(lambda x: x if type(x) != str else None if x.strip() == 'null' else x.strip())\n",
    "    temp = temp.astype(dtypes)\n",
    "    return temp\n",
    "\n",
    "conn.create_function(\"REGEXP\", 2, regexp)"
   ]
  },
  {
   "cell_type": "markdown",
   "id": "48286fb2",
   "metadata": {
    "papermill": {
     "duration": 0.002494,
     "end_time": "2024-05-23T15:53:37.326727",
     "exception": false,
     "start_time": "2024-05-23T15:53:37.324233",
     "status": "completed"
    },
    "tags": []
   },
   "source": [
    "#### Helper for Binary tree problems"
   ]
  },
  {
   "cell_type": "code",
   "execution_count": 2,
   "id": "d4eafef6",
   "metadata": {
    "execution": {
     "iopub.execute_input": "2024-05-23T15:53:37.332686Z",
     "iopub.status.busy": "2024-05-23T15:53:37.332200Z",
     "iopub.status.idle": "2024-05-23T15:53:37.339669Z",
     "shell.execute_reply": "2024-05-23T15:53:37.339138Z"
    },
    "lines_to_next_cell": 1,
    "papermill": {
     "duration": 0.011699,
     "end_time": "2024-05-23T15:53:37.340778",
     "exception": false,
     "start_time": "2024-05-23T15:53:37.329079",
     "status": "completed"
    },
    "tags": []
   },
   "outputs": [],
   "source": [
    "class BinaryTreeNode:\n",
    "    def __init__(self, val=0, left=None, right=None):\n",
    "        self.val = val\n",
    "        self.left = left\n",
    "        self.right = right\n",
    "\n",
    "    def to_list(self):\n",
    "        to_visit = [self]\n",
    "        visited = []\n",
    "        while len(to_visit) > 0:\n",
    "            curr = to_visit.pop(0)\n",
    "            if curr:\n",
    "                to_visit.append(curr.left)\n",
    "                to_visit.append(curr.right)\n",
    "                visited.append(curr.val)\n",
    "            else:\n",
    "                visited.append(curr)\n",
    "\n",
    "        while visited and not visited[-1]:\n",
    "            visited.pop()\n",
    "\n",
    "        return visited\n",
    "\n",
    "    def __str__(self):\n",
    "        return str(self.val)\n",
    "\n",
    "    @staticmethod\n",
    "    def from_array(nums: list[int|None]):\n",
    "        '''Create a Tree from a list of nums. Returns the root node.'''\n",
    "        if len(nums) == 0:\n",
    "            return None\n",
    "        elif len(nums) == 1:\n",
    "            return BinaryTreeNode(nums[0])\n",
    "        else:\n",
    "            forest = [BinaryTreeNode(nums[0])]\n",
    "            parent_idx = -1\n",
    "            for i in range(1, len(nums)):\n",
    "\n",
    "                curr = None\n",
    "                if nums[i] is not None:\n",
    "                    curr = BinaryTreeNode(nums[i])\n",
    "                    forest.append(curr)\n",
    "\n",
    "                if i % 2 == 1:\n",
    "                    parent_idx += 1\n",
    "                    forest[parent_idx].left = curr\n",
    "                else:\n",
    "                    forest[parent_idx].right = curr\n",
    "\n",
    "        return forest[0]"
   ]
  },
  {
   "cell_type": "markdown",
   "id": "986c0064",
   "metadata": {
    "papermill": {
     "duration": 0.00237,
     "end_time": "2024-05-23T15:53:37.345604",
     "exception": false,
     "start_time": "2024-05-23T15:53:37.343234",
     "status": "completed"
    },
    "tags": []
   },
   "source": [
    "#### Helper for Singly Linked lists"
   ]
  },
  {
   "cell_type": "code",
   "execution_count": 3,
   "id": "cccf3cca",
   "metadata": {
    "execution": {
     "iopub.execute_input": "2024-05-23T15:53:37.351481Z",
     "iopub.status.busy": "2024-05-23T15:53:37.351064Z",
     "iopub.status.idle": "2024-05-23T15:53:37.355431Z",
     "shell.execute_reply": "2024-05-23T15:53:37.354914Z"
    },
    "lines_to_next_cell": 1,
    "papermill": {
     "duration": 0.0085,
     "end_time": "2024-05-23T15:53:37.356539",
     "exception": false,
     "start_time": "2024-05-23T15:53:37.348039",
     "status": "completed"
    },
    "tags": []
   },
   "outputs": [],
   "source": [
    "class ListNode:\n",
    "    def __init__(self, val=0, next=None):\n",
    "        self.val = val\n",
    "        self.next = next\n",
    "\n",
    "    def __str__(self):\n",
    "        return str(self.val)\n",
    "\n",
    "    @staticmethod\n",
    "    def to_singly_linked_list(nums: list[int]):\n",
    "        root = prev = None\n",
    "        for n in nums:\n",
    "            curr = ListNode(n)\n",
    "            # Init once\n",
    "            if not root:\n",
    "                root = curr\n",
    "            if prev:\n",
    "                prev.next = curr\n",
    "            prev = curr\n",
    "\n",
    "        return root\n",
    "\n",
    "    def to_list(self) -> list[int]:\n",
    "        result = []\n",
    "        curr = self\n",
    "        while curr:\n",
    "            result.append(curr.val)\n",
    "            curr = curr.next\n",
    "        return result"
   ]
  },
  {
   "cell_type": "markdown",
   "id": "3306cb42",
   "metadata": {
    "papermill": {
     "duration": 0.002358,
     "end_time": "2024-05-23T15:53:37.361298",
     "exception": false,
     "start_time": "2024-05-23T15:53:37.358940",
     "status": "completed"
    },
    "tags": []
   },
   "source": [
    "#### Utility to generate random BST"
   ]
  },
  {
   "cell_type": "code",
   "execution_count": 4,
   "id": "8a9a7fb1",
   "metadata": {
    "execution": {
     "iopub.execute_input": "2024-05-23T15:53:37.367292Z",
     "iopub.status.busy": "2024-05-23T15:53:37.366861Z",
     "iopub.status.idle": "2024-05-23T15:53:37.371193Z",
     "shell.execute_reply": "2024-05-23T15:53:37.370736Z"
    },
    "lines_to_next_cell": 1,
    "papermill": {
     "duration": 0.00855,
     "end_time": "2024-05-23T15:53:37.372305",
     "exception": false,
     "start_time": "2024-05-23T15:53:37.363755",
     "status": "completed"
    },
    "tags": []
   },
   "outputs": [],
   "source": [
    "def generateBST(N: int, min_: int, max_: int) -> BinaryTreeNode|None:\n",
    "    def insert(curr: BinaryTreeNode|None, n: int) -> BinaryTreeNode:\n",
    "        if not curr:\n",
    "            curr = BinaryTreeNode(n)\n",
    "        elif curr.val < n:\n",
    "            curr.right = insert(curr.right, n)\n",
    "        else:\n",
    "            curr.left = insert(curr.left, n)\n",
    "\n",
    "        return curr\n",
    "\n",
    "    assert N <= max_ - min_, \"Number of available samples must be >= N\"\n",
    "    root: BinaryTreeNode|None = None\n",
    "    for n in np.random.choice(np.arange(min_, max_), size=N, replace=False):\n",
    "        root = insert(root, n)\n",
    "\n",
    "    return root"
   ]
  },
  {
   "cell_type": "markdown",
   "id": "9a722649",
   "metadata": {
    "papermill": {
     "duration": 0.002317,
     "end_time": "2024-05-23T15:53:37.377095",
     "exception": false,
     "start_time": "2024-05-23T15:53:37.374778",
     "status": "completed"
    },
    "tags": []
   },
   "source": [
    "Best time to buy and sell stocks - I"
   ]
  },
  {
   "cell_type": "code",
   "execution_count": 5,
   "id": "4e905b5e",
   "metadata": {
    "execution": {
     "iopub.execute_input": "2024-05-23T15:53:37.383578Z",
     "iopub.status.busy": "2024-05-23T15:53:37.383121Z",
     "iopub.status.idle": "2024-05-23T15:53:37.386781Z",
     "shell.execute_reply": "2024-05-23T15:53:37.386324Z"
    },
    "lines_to_next_cell": 1,
    "papermill": {
     "duration": 0.007705,
     "end_time": "2024-05-23T15:53:37.387847",
     "exception": false,
     "start_time": "2024-05-23T15:53:37.380142",
     "status": "completed"
    },
    "tags": []
   },
   "outputs": [],
   "source": [
    "def stocks1(prices: list[int]) -> int:\n",
    "    min_, max_profit = prices[0], 0\n",
    "    for price in prices:\n",
    "        max_profit = max(max_profit, price - min_)\n",
    "        min_ = min(min_, price)\n",
    "\n",
    "    return max_profit\n",
    "\n",
    "# Testing the solution\n",
    "assert stocks1([7,1,5,3,6,4]) == 5\n",
    "assert stocks1([7,6,4,3,1]) == 0"
   ]
  },
  {
   "cell_type": "markdown",
   "id": "b36063c0",
   "metadata": {
    "papermill": {
     "duration": 0.00231,
     "end_time": "2024-05-23T15:53:37.392571",
     "exception": false,
     "start_time": "2024-05-23T15:53:37.390261",
     "status": "completed"
    },
    "tags": []
   },
   "source": [
    "Weekly Contest 398: 19th May 2024"
   ]
  },
  {
   "cell_type": "code",
   "execution_count": 6,
   "id": "2d35821a",
   "metadata": {
    "execution": {
     "iopub.execute_input": "2024-05-23T15:53:37.398534Z",
     "iopub.status.busy": "2024-05-23T15:53:37.398099Z",
     "iopub.status.idle": "2024-05-23T15:53:37.402151Z",
     "shell.execute_reply": "2024-05-23T15:53:37.401640Z"
    },
    "lines_to_next_cell": 1,
    "papermill": {
     "duration": 0.008166,
     "end_time": "2024-05-23T15:53:37.403207",
     "exception": false,
     "start_time": "2024-05-23T15:53:37.395041",
     "status": "completed"
    },
    "tags": []
   },
   "outputs": [],
   "source": [
    "# Q1\n",
    "def isArraySpecial(nums: list[int]) -> bool:\n",
    "    N = len(nums)\n",
    "    for i in range(N - 1):\n",
    "        i1, i2 = nums[i] % 2, nums[i + 1] % 2\n",
    "        if (i1 == 0 and i2 == 0) or (i1 == 1 and i2 == 1):\n",
    "            return False\n",
    "    else:\n",
    "        return True\n",
    "\n",
    "# Testing the solution\n",
    "assert isArraySpecial([4,3,1,6]) == False\n",
    "assert isArraySpecial([2,1,4]) == True\n",
    "assert isArraySpecial([1]) == True"
   ]
  },
  {
   "cell_type": "code",
   "execution_count": 7,
   "id": "ce3280b2",
   "metadata": {
    "execution": {
     "iopub.execute_input": "2024-05-23T15:53:37.409041Z",
     "iopub.status.busy": "2024-05-23T15:53:37.408745Z",
     "iopub.status.idle": "2024-05-23T15:53:37.413687Z",
     "shell.execute_reply": "2024-05-23T15:53:37.413244Z"
    },
    "lines_to_next_cell": 1,
    "papermill": {
     "duration": 0.009152,
     "end_time": "2024-05-23T15:53:37.414747",
     "exception": false,
     "start_time": "2024-05-23T15:53:37.405595",
     "status": "completed"
    },
    "tags": []
   },
   "outputs": [],
   "source": [
    "# Q2\n",
    "def isArraySpecial2(nums: list[int], queries: list[list[int]]) -> list[bool]:\n",
    "    N = len(nums)\n",
    "    parity: list[int] = list(map(lambda x: x % 2, nums))\n",
    "\n",
    "    @functools.cache\n",
    "    def backtrack(start: int, end: int) -> bool:\n",
    "        if start == end:\n",
    "            return True\n",
    "        else:\n",
    "            mid = (start + end) // 2\n",
    "            isSpecial =  parity[mid] != parity[mid + 1] and backtrack(start, mid) and backtrack(mid + 1, end)\n",
    "            return isSpecial\n",
    "\n",
    "    result: list[bool] = []\n",
    "    for i, j in queries:\n",
    "        result.append(backtrack(i, j))\n",
    "\n",
    "    return result\n",
    "\n",
    "# Testing the solution\n",
    "assert isArraySpecial2([4,3,1,6], [[0,2],[2,3]]) == [False, True]\n",
    "assert isArraySpecial2([3,4,1,2,6], [[0,4]]) == [False]"
   ]
  },
  {
   "cell_type": "code",
   "execution_count": 8,
   "id": "7a8941ed",
   "metadata": {
    "execution": {
     "iopub.execute_input": "2024-05-23T15:53:37.420569Z",
     "iopub.status.busy": "2024-05-23T15:53:37.420100Z",
     "iopub.status.idle": "2024-05-23T15:53:37.476203Z",
     "shell.execute_reply": "2024-05-23T15:53:37.475711Z"
    },
    "lines_to_next_cell": 1,
    "papermill": {
     "duration": 0.060135,
     "end_time": "2024-05-23T15:53:37.477280",
     "exception": false,
     "start_time": "2024-05-23T15:53:37.417145",
     "status": "completed"
    },
    "tags": []
   },
   "outputs": [],
   "source": [
    "# Q3\n",
    "def sumDigitDifferencesBrute(nums: list[int]) -> int:\n",
    "    length = len(str(nums[0]))\n",
    "    count = 0\n",
    "    for n1, n2 in itertools.combinations(nums, r=2):\n",
    "        n1_str, n2_str = str(n1), str(n2)\n",
    "        for i in range(length):\n",
    "            if n1_str[i] != n2_str[i]:\n",
    "                count += 1\n",
    "\n",
    "    return count\n",
    "\n",
    "def sumDigitDifferences(nums: list[int]) -> int:\n",
    "    def count(arr: list[int]) -> int:\n",
    "        N = len(arr)\n",
    "        temp = 0\n",
    "        for i in range(N - 1):\n",
    "            temp += arr[i] * sum(arr[i + 1:])\n",
    "\n",
    "        return temp\n",
    "\n",
    "    length = len(str(nums[0]))\n",
    "    digits_dict: dict[int, dict[str, int]] = dict()\n",
    "    for n in nums:\n",
    "        n_str = str(n)\n",
    "        for i in range(length):\n",
    "            positions = digits_dict.get(i, dict())\n",
    "            positions[n_str[i]] = positions.get(n_str[i], 0) + 1\n",
    "            digits_dict[i] = positions\n",
    "\n",
    "    result: int = 0\n",
    "    for i in range(length):\n",
    "        result += count(list(digits_dict[i].values()))\n",
    "\n",
    "    return result\n",
    "\n",
    "# Testing the solution\n",
    "for i in range(100):\n",
    "    temp = list(np.random.randint(10, 100, 50))\n",
    "    assert sumDigitDifferencesBrute(temp) == sumDigitDifferences(temp)"
   ]
  },
  {
   "cell_type": "markdown",
   "id": "6d69bfc3",
   "metadata": {
    "papermill": {
     "duration": 0.002502,
     "end_time": "2024-05-23T15:53:37.482522",
     "exception": false,
     "start_time": "2024-05-23T15:53:37.480020",
     "status": "completed"
    },
    "tags": []
   },
   "source": [
    "Sum of XOR totals\n",
    "Easy LC: https://leetcode.com/problems/sum-of-all-subset-xor-totals"
   ]
  },
  {
   "cell_type": "code",
   "execution_count": 9,
   "id": "3e8f2bd0",
   "metadata": {
    "execution": {
     "iopub.execute_input": "2024-05-23T15:53:37.488553Z",
     "iopub.status.busy": "2024-05-23T15:53:37.488089Z",
     "iopub.status.idle": "2024-05-23T15:53:37.492095Z",
     "shell.execute_reply": "2024-05-23T15:53:37.491662Z"
    },
    "lines_to_next_cell": 1,
    "papermill": {
     "duration": 0.008246,
     "end_time": "2024-05-23T15:53:37.493133",
     "exception": false,
     "start_time": "2024-05-23T15:53:37.484887",
     "status": "completed"
    },
    "tags": []
   },
   "outputs": [],
   "source": [
    "# https://leetcode.com/problems/sum-of-all-subset-xor-totals/submissions/1263288868\n",
    "def subsetXORSumMemo(nums: list[int]) -> int:\n",
    "    @functools.cache\n",
    "    def backtrack(i: int, curr: int) -> int:\n",
    "        if i == N:\n",
    "            return curr\n",
    "        else:\n",
    "            return backtrack(i + 1, curr ^ nums[i]) + backtrack(i + 1, curr)\n",
    "\n",
    "    N = len(nums)\n",
    "    return backtrack(0, 0)\n",
    "\n",
    "# Testing the solution\n",
    "assert subsetXORSumMemo([1,3]) == 6\n",
    "assert subsetXORSumMemo([5,1,6]) == 28"
   ]
  },
  {
   "cell_type": "markdown",
   "id": "9b399353",
   "metadata": {
    "papermill": {
     "duration": 0.002369,
     "end_time": "2024-05-23T15:53:37.497901",
     "exception": false,
     "start_time": "2024-05-23T15:53:37.495532",
     "status": "completed"
    },
    "tags": []
   },
   "source": [
    "Largest Rectangle in a histogram"
   ]
  },
  {
   "cell_type": "code",
   "execution_count": 10,
   "id": "1eb77032",
   "metadata": {
    "execution": {
     "iopub.execute_input": "2024-05-23T15:53:37.503726Z",
     "iopub.status.busy": "2024-05-23T15:53:37.503272Z",
     "iopub.status.idle": "2024-05-23T15:53:37.507232Z",
     "shell.execute_reply": "2024-05-23T15:53:37.506701Z"
    },
    "lines_to_next_cell": 1,
    "tags": []
   },
   "outputs": [],
   "source": [
    "# https://leetcode.com/problems/largest-rectangle-in-histogram/submissions/1266278725\n",
    "def largestRectangleArea(heights: list[int]) -> int:\n",
    "    \"\"\"\n",
    "    Count the number of rectangles to the right that are greater than or equal to self\n",
    "    Count the number of rectangles to the left that are greater than or equal to self\n",
    "    \"\"\"\n",
    "\n",
    "    N = len(heights)\n",
    "\n",
    "    right_dp: list[int] = [N - i for i in range(N)]\n",
    "    left_dp: list[int] = [i + 1 for i in range(N)]\n",
    "    stack: list[tuple[int, int]] = []\n",
    "\n",
    "    for i in range(N):\n",
    "        curr: tuple[int, int] = (heights[i], i)\n",
    "        while stack and stack[-1][0] > curr[0]:\n",
    "            prev = stack.pop()\n",
    "            right_dp[prev[1]] = curr[1] - prev[1]\n",
    "        stack.append(curr)\n",
    "\n",
    "    stack.clear()\n",
    "\n",
    "    for i in range(N - 1, -1, -1):\n",
    "        curr = (heights[i], i)\n",
    "        while stack and stack[-1][0] > curr[0]:\n",
    "            prev = stack.pop()\n",
    "            left_dp[prev[1]] = prev[1] - curr[1]\n",
    "        stack.append(curr)\n",
    "\n",
    "    max_ = 0\n",
    "    for i in range(N):\n",
    "        max_ = max(max_, (left_dp[i] + right_dp[i] - 1) * heights[i])\n",
    "\n",
    "    return max_\n",
    "\n",
    "# Testing the solution\n",
    "assert largestRectangleArea([2,1,5,6,2,3]) == 10\n",
    "assert largestRectangleArea([2,4]) == 4\n",
    "assert largestRectangleArea([2,1,2]) == 3"
   ]
  },
  {
   "cell_type": "markdown",
   "id": "05d83699",
   "metadata": {
    "papermill": {
     "duration": 0.002393,
     "end_time": "2024-05-23T15:53:37.513101",
     "exception": false,
     "start_time": "2024-05-23T15:53:37.510708",
     "status": "completed"
    },
    "tags": []
   },
   "source": [
    "Container Queries - CN Weekly - 3"
   ]
  },
  {
   "cell_type": "code",
   "execution_count": 11,
   "id": "e9d3612c",
   "metadata": {
    "execution": {
     "iopub.execute_input": "2024-05-23T15:53:37.519012Z",
     "iopub.status.busy": "2024-05-23T15:53:37.518585Z",
     "iopub.status.idle": "2024-05-23T15:53:37.524185Z",
     "shell.execute_reply": "2024-05-23T15:53:37.523569Z"
    },
    "papermill": {
     "duration": 0.009728,
     "end_time": "2024-05-23T15:53:37.525236",
     "exception": false,
     "start_time": "2024-05-23T15:53:37.515508",
     "status": "completed"
    },
    "tags": []
   },
   "outputs": [],
   "source": [
    "def containerQueries(N: int, S: str, query_len: int, queries: list[list[int]]) -> list[int]:\n",
    "    positions: dict[str, collections.deque[int]] = dict()\n",
    "    for i in range(N):\n",
    "        indices = positions.get(S[i], collections.deque())\n",
    "        indices.append(i)\n",
    "        positions[S[i]] = indices\n",
    "\n",
    "    end_pos = 0\n",
    "    for k in positions:\n",
    "        end_pos = max(end_pos, positions[k].popleft())\n",
    "\n",
    "    dp: list[int] = [end_pos]\n",
    "    for i in range(1, N):\n",
    "        prev = S[i - 1]\n",
    "        next_pos = max(dp[-1], positions[prev].popleft() if positions[prev] else N)\n",
    "        dp.append(next_pos)\n",
    "\n",
    "    result: list[int] = []\n",
    "    for i, j in queries:\n",
    "        if j >= dp[i]:\n",
    "            result.append(1)\n",
    "        else:\n",
    "            result.append(0)\n",
    "\n",
    "    return result\n",
    "\n",
    "# Testing the solution\n",
    "assert containerQueries(8, \"yukppuyk\", 2, [[0,4],[5,7]]) == [1, 0]"
   ]
  }
 ],
 "metadata": {
  "kernelspec": {
   "display_name": "Python 3 (ipykernel)",
   "language": "python",
   "name": "python3"
  },
  "language_info": {
   "codemirror_mode": {
    "name": "ipython",
    "version": 3
   },
   "file_extension": ".py",
   "mimetype": "text/x-python",
   "name": "python",
   "nbconvert_exporter": "python",
   "pygments_lexer": "ipython3",
   "version": "3.11.9"
  },
  "papermill": {
   "default_parameters": {},
   "duration": 1.924151,
   "end_time": "2024-05-23T15:53:37.742844",
   "environment_variables": {},
   "exception": null,
   "input_path": "practice/003.ipynb",
   "output_path": "practice/003.ipynb",
   "parameters": {},
   "start_time": "2024-05-23T15:53:35.818693",
   "version": "2.6.0"
  }
 },
 "nbformat": 4,
 "nbformat_minor": 5
}
